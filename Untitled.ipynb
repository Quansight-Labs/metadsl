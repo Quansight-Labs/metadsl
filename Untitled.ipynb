{
 "cells": [
  {
   "cell_type": "code",
   "execution_count": 1,
   "metadata": {},
   "outputs": [
    {
     "name": "stdout",
     "output_type": "stream",
     "text": [
      "; ModuleID = \"name\"\n",
      "target triple = \"unknown-unknown-unknown\"\n",
      "target datalayout = \"\"\n",
      "\n",
      "define i32 @\"fpadd\"(i32 %\".1\", i32 %\".2\") \n",
      "{\n",
      "entry:\n",
      "  %\".4\" = add i32 %\".1\", %\".2\"\n",
      "  ret i32 %\".4\"\n",
      "}\n",
      "\n"
     ]
    }
   ],
   "source": [
    "from llvmlite import ir\n",
    "\n",
    "# Create some useful types\n",
    "intty = ir.IntType(32)\n",
    "fnty = ir.FunctionType(intty, (intty, intty))\n",
    "\n",
    "# Create an empty module...\n",
    "module = ir.Module(name=\"name\")\n",
    "# and declare a function named \"fpadd\" inside it\n",
    "func = ir.Function(module, fnty, name=\"fpadd\")\n",
    "\n",
    "# Now implement the function\n",
    "block = func.append_basic_block(name=\"entry\")\n",
    "\n",
    "\n",
    "added = ir.Instruction(block, intty, 'add', [\n",
    "    func.args[0],\n",
    "    func.args[1]\n",
    "])\n",
    "block.instructions = [\n",
    "    added,\n",
    "    ir.Ret(block, 'ret', added)\n",
    "]\n",
    "\n",
    "# Print the module IR\n",
    "print(module)"
   ]
  },
  {
   "cell_type": "code",
   "execution_count": 4,
   "metadata": {},
   "outputs": [],
   "source": [
    "from llvmlite import binding as llvm"
   ]
  },
  {
   "cell_type": "code",
   "execution_count": 5,
   "metadata": {},
   "outputs": [],
   "source": [
    "def execute(ir_mod):\n",
    "    llvm.initialize()\n",
    "    llvm.initialize_native_target()\n",
    "    llvm.initialize_native_asmprinter()\n",
    "\n",
    "    llmod = llvm.parse_assembly(str(ir_mod))\n",
    "\n",
    "    print('optimized'.center(80, '-'))\n",
    "    pmb = llvm.create_pass_manager_builder()\n",
    "    pmb.opt_level = 1\n",
    "    pm = llvm.create_module_pass_manager()\n",
    "    pmb.populate(pm)\n",
    "    pm.run(llmod)\n",
    "    print(llmod)\n",
    "\n",
    "    target_machine = llvm.Target.from_default_triple().create_target_machine()\n",
    "\n",
    "    with llvm.create_mcjit_compiler(llmod, target_machine) as ee:\n",
    "        ee.finalize_object()\n",
    "        cfptr = ee.get_function_address(\"fpadd\")\n",
    "\n",
    "        from ctypes import CFUNCTYPE, c_int\n",
    "\n",
    "        cfunc = CFUNCTYPE(c_int, c_int, c_int)(cfptr)\n",
    "\n",
    "        # TEST\n",
    "        for i in range(12):\n",
    "            res = cfunc(i, i)\n",
    "            print('fib({}) = {}'.format(i, res))\n",
    "\n",
    "        # Get CFG\n",
    "        ll_fib_more = llmod.get_function('fpadd')\n",
    "        cfg = llvm.get_function_cfg(ll_fib_more)\n",
    "        llvm.view_dot_graph(cfg, view=True)"
   ]
  },
  {
   "cell_type": "code",
   "execution_count": 6,
   "metadata": {},
   "outputs": [
    {
     "name": "stdout",
     "output_type": "stream",
     "text": [
      "-----------------------------------optimized------------------------------------\n",
      "; ModuleID = '<string>'\n",
      "source_filename = \"<string>\"\n",
      "target triple = \"unknown-unknown-unknown\"\n",
      "\n",
      "; Function Attrs: norecurse nounwind readnone\n",
      "define i32 @fpadd(i32 %.1, i32 %.2) local_unnamed_addr #0 {\n",
      "entry:\n",
      "  %.4 = add i32 %.2, %.1\n",
      "  ret i32 %.4\n",
      "}\n",
      "\n",
      "attributes #0 = { norecurse nounwind readnone }\n",
      "\n",
      "fib(0) = 0\n",
      "fib(1) = 2\n",
      "fib(2) = 4\n",
      "fib(3) = 6\n",
      "fib(4) = 8\n",
      "fib(5) = 10\n",
      "fib(6) = 12\n",
      "fib(7) = 14\n",
      "fib(8) = 16\n",
      "fib(9) = 18\n",
      "fib(10) = 20\n",
      "fib(11) = 22\n"
     ]
    }
   ],
   "source": [
    "execute(module)"
   ]
  },
  {
   "cell_type": "code",
   "execution_count": null,
   "metadata": {},
   "outputs": [],
   "source": []
  }
 ],
 "metadata": {
  "kernelspec": {
   "display_name": "Python 3",
   "language": "python",
   "name": "python3"
  },
  "language_info": {
   "codemirror_mode": {
    "name": "ipython",
    "version": 3
   },
   "file_extension": ".py",
   "mimetype": "text/x-python",
   "name": "python",
   "nbconvert_exporter": "python",
   "pygments_lexer": "ipython3",
   "version": "3.7.3"
  }
 },
 "nbformat": 4,
 "nbformat_minor": 4
}
