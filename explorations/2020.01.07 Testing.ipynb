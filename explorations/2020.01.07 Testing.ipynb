{
 "cells": [
  {
   "cell_type": "markdown",
   "metadata": {},
   "source": [
    "# Tests\n",
    "In this notebook, we run our `pytest` test suite. Why would we run this in a notebook not from the command line? Because then  we can visualize the replacemnts as they happen for debugging"
   ]
  },
  {
   "cell_type": "code",
   "execution_count": 1,
   "metadata": {},
   "outputs": [
    {
     "name": "stdout",
     "output_type": "stream",
     "text": [
      "======================================================================================================================================= test session starts =======================================================================================================================================\n",
      "platform darwin -- Python 3.7.3, pytest-5.3.1, py-1.8.0, pluggy-0.13.1 -- /usr/local/Caskroom/miniconda/base/envs/metadsl/bin/python\n",
      "cachedir: .pytest_cache\n",
      "rootdir: /Users/saul/p/metadsl, inifile: pytest.ini\n",
      "plugins: xdist-1.30.0, metadsl_visualize-0.1.0, cov-2.8.1\n",
      "collecting ... collected 1 item\n",
      "\n",
      "../metadsl_llvm/ir_context_test.py::test_add "
     ]
    },
    {
     "data": {
      "application/x.typez+json": {
       "nodes": [
        {
         "id": "3348305646612022562",
         "repr": "add",
         "type": "str"
        },
        {
         "args": [
          "3348305646612022562"
         ],
         "function": "ModRef.create",
         "id": "7737634984556270748"
        },
        {
         "id": "5597705676261326800",
         "repr": "<function test_add.<locals>.add at 0x7fd1788fe7b8>",
         "type": "function"
        },
        {
         "args": [
          "5597705676261326800"
         ],
         "function": "FunctionTwo.from_fn",
         "id": "-4573807831732741045"
        },
        {
         "id": "3983604008692301000",
         "repr": "32",
         "type": "int"
        },
        {
         "args": [
          "3983604008692301000"
         ],
         "function": "Type.create_int",
         "id": "-3409559652977700816"
        },
        {
         "args": [
          "-3409559652977700816",
          "-3409559652977700816",
          "-3409559652977700816"
         ],
         "function": "FnType.create",
         "id": "2869849078853932976"
        },
        {
         "args": [
          "-4573807831732741045",
          "7737634984556270748",
          "2869849078853932976"
         ],
         "function": "llvm_fn_2",
         "id": "-433303917623376961"
        },
        {
         "args": [
          "-433303917623376961"
         ],
         "function": "to_llvm_fn_2",
         "id": "-3449644110143783147"
        },
        {
         "args": [
          "7737634984556270748",
          "-3449644110143783147"
         ],
         "function": "ModRef.mod",
         "id": "956734283510461618"
        },
        {
         "args": [
          "-3449644110143783147"
         ],
         "function": "Fn.ref",
         "id": "5094964560275413875"
        },
        {
         "id": "3983604008656577675",
         "repr": "1",
         "type": "int"
        },
        {
         "args": [
          "956734283510461618",
          "5094964560275413875",
          "3983604008656577675"
         ],
         "function": "compile_function",
         "id": "-8701596627293156771"
        },
        {
         "id": "6363588468043505712",
         "repr": "FunctionReplaceTyping(fn=<function test_add.<locals>.add at 0x7fd1788fe7b8>, typevars=HashableMapping(_items=()), typevars_in_scope=frozenset({~V, ~U, ~T}), inner_mapping=ReplaceTypevarsExpression(typevars=HashableMapping(_items=())))",
         "type": "FunctionReplaceTyping"
        },
        {
         "args": [
          "6363588468043505712"
         ],
         "function": "FunctionTwo.from_fn",
         "id": "-3448567052618944149"
        },
        {
         "args": [
          "-3448567052618944149"
         ],
         "function": "FunctionTwo.unfix",
         "id": "3666570996936889565",
         "type_params": {
          "T": {
           "type": "ValueExpr"
          },
          "U": {
           "type": "ValueExpr"
          },
          "V": {
           "type": "ValueExpr"
          }
         }
        },
        {
         "args": [
          "-3448567052618944149"
         ],
         "function": "FunctionTwo.name",
         "id": "-1367591971730276219",
         "type_params": {
          "T": {
           "type": "ValueExpr"
          },
          "U": {
           "type": "ValueExpr"
          },
          "V": {
           "type": "ValueExpr"
          }
         }
        },
        {
         "id": "-4379724003781273686",
         "repr": "fastcc",
         "type": "str"
        },
        {
         "args": [
          "7737634984556270748",
          "-1367591971730276219",
          "2869849078853932976",
          "-4379724003781273686"
         ],
         "function": "ModRef.fn",
         "id": "-4261420950422716075"
        },
        {
         "args": [
          "-4261420950422716075"
         ],
         "function": "FnRef.fn",
         "id": "655336363617419451"
        },
        {
         "args": [
          "655336363617419451"
         ],
         "function": "from_llvm_fn_2",
         "id": "-3039002652677451600"
        },
        {
         "args": [
          "3666570996936889565",
          "-3039002652677451600"
         ],
         "function": "Abstraction.__call__",
         "id": "1397113001861835832",
         "type_params": {
          "T": {
           "params": {
            "T": {
             "type": "ValueExpr"
            },
            "U": {
             "type": "ValueExpr"
            },
            "V": {
             "type": "ValueExpr"
            }
           },
           "type": "FunctionTwo"
          },
          "U": {
           "params": {
            "T": {
             "type": "ValueExpr"
            },
            "U": {
             "type": "ValueExpr"
            },
            "V": {
             "type": "ValueExpr"
            }
           },
           "type": "FunctionTwo"
          }
         }
        },
        {
         "args": [
          "-4261420950422716075"
         ],
         "function": "FnRef.arguments",
         "id": "-5550966185988575795"
        },
        {
         "id": "3983604008657660200",
         "repr": "0",
         "type": "int"
        },
        {
         "args": [
          "3983604008657660200"
         ],
         "function": "Integer.from_int",
         "id": "7019033112043945449"
        },
        {
         "args": [
          "-5550966185988575795",
          "7019033112043945449"
         ],
         "function": "Vec.__getitem__",
         "id": "-6919097849694304399",
         "type_params": {
          "T": {
           "type": "Value"
          }
         }
        },
        {
         "args": [
          "-6919097849694304399"
         ],
         "function": "ValueExpr.from_value",
         "id": "5891730441609885534"
        },
        {
         "args": [
          "3983604008656577675"
         ],
         "function": "Integer.from_int",
         "id": "7427462424716739544"
        },
        {
         "args": [
          "-5550966185988575795",
          "7427462424716739544"
         ],
         "function": "Vec.__getitem__",
         "id": "3003876775315600992",
         "type_params": {
          "T": {
           "type": "Value"
          }
         }
        },
        {
         "args": [
          "3003876775315600992"
         ],
         "function": "ValueExpr.from_value",
         "id": "8558200726848538509"
        },
        {
         "args": [
          "1397113001861835832",
          "5891730441609885534",
          "8558200726848538509"
         ],
         "function": "FunctionTwo.__call__",
         "id": "6962345171195329357",
         "type_params": {
          "T": {
           "type": "ValueExpr"
          },
          "U": {
           "type": "ValueExpr"
          },
          "V": {
           "type": "ValueExpr"
          }
         }
        },
        {
         "id": "3989267796447890075",
         "repr": "True",
         "type": "bool"
        },
        {
         "id": "3959146490344299550",
         "repr": "None",
         "type": "NoneType"
        },
        {
         "id": "-8690275497361632339",
         "repr": "140537647884832",
         "type": "_Uniq"
        },
        {
         "args": [
          "-4261420950422716075",
          "3989267796447890075",
          "3959146490344299550",
          "-8690275497361632339"
         ],
         "function": "FnRef._block",
         "id": "-1316392832684187443"
        },
        {
         "args": [
          "-1316392832684187443",
          "655336363617419451"
         ],
         "function": "Pair.create",
         "id": "5402145261438168003"
        },
        {
         "args": [
          "6962345171195329357",
          "5402145261438168003"
         ],
         "function": "ValueExpr.build",
         "id": "1170463206590159392"
        },
        {
         "args": [
          "1170463206590159392"
         ],
         "function": "Pair.right",
         "id": "4415030379540861219",
         "type_params": {
          "T": {
           "type": "Value"
          },
          "U": {
           "params": {
            "T": {
             "type": "BlockRef"
            },
            "U": {
             "type": "Fn"
            }
           },
           "type": "Pair"
          }
         }
        },
        {
         "args": [
          "4415030379540861219"
         ],
         "function": "Pair.right",
         "id": "-1625347926529762402",
         "type_params": {
          "T": {
           "type": "BlockRef"
          },
          "U": {
           "type": "Fn"
          }
         }
        },
        {
         "args": [
          "4415030379540861219"
         ],
         "function": "Pair.left",
         "id": "811409354975039606",
         "type_params": {
          "T": {
           "type": "BlockRef"
          },
          "U": {
           "type": "Fn"
          }
         }
        },
        {
         "args": [
          "1170463206590159392"
         ],
         "function": "Pair.left",
         "id": "-8492161800001458613",
         "type_params": {
          "T": {
           "type": "Value"
          },
          "U": {
           "params": {
            "T": {
             "type": "BlockRef"
            },
            "U": {
             "type": "Fn"
            }
           },
           "type": "Pair"
          }
         }
        },
        {
         "args": [
          "811409354975039606",
          "-8492161800001458613"
         ],
         "function": "BlockRef.ret",
         "id": "-2320426448431430428"
        },
        {
         "args": [
          "-1625347926529762402",
          "-2320426448431430428"
         ],
         "function": "Fn.add_block",
         "id": "2354072170850102309"
        },
        {
         "args": [
          "2354072170850102309"
         ],
         "function": "from_llvm_fn_2",
         "id": "1316636807936787257"
        },
        {
         "args": [
          "1316636807936787257"
         ],
         "function": "to_llvm_fn_2",
         "id": "-5666368305550626317"
        },
        {
         "args": [
          "7737634984556270748",
          "-5666368305550626317"
         ],
         "function": "ModRef.mod",
         "id": "-8627832786646860859"
        },
        {
         "args": [
          "-5666368305550626317"
         ],
         "function": "Fn.ref",
         "id": "157700072576913810"
        },
        {
         "args": [
          "-8627832786646860859",
          "157700072576913810",
          "3983604008656577675"
         ],
         "function": "compile_function",
         "id": "2445887772114549826"
        },
        {
         "id": "-3192475170617495113",
         "repr": "FunctionReplaceTyping(fn=<function FunctionTwo.unfix.<locals>.inner at 0x7fd1409f67b8>, typevars=HashableMapping(_items=((~V, <class 'metadsl_llvm.ir_context.ValueExpr'>), (~U, <class 'metadsl_llvm.ir_context.ValueExpr'>), (~T, <class 'metadsl_llvm.ir_context.ValueExpr'>))), typevars_in_scope=frozenset({~V, ~T, ~T, ~U, ~U}), inner_mapping=ReplaceTypevarsExpression(typevars=HashableMapping(_items=((~V, <class 'metadsl_llvm.ir_context.ValueExpr'>), (~U, <class 'metadsl_llvm.ir_context.ValueExpr'>), (~T, <class 'metadsl_llvm.ir_context.ValueExpr'>)))))",
         "type": "FunctionReplaceTyping"
        },
        {
         "args": [
          "-3192475170617495113"
         ],
         "function": "Abstraction.from_fn",
         "id": "1238138213941299567"
        },
        {
         "args": [
          "1238138213941299567",
          "-3039002652677451600"
         ],
         "function": "Abstraction.__call__",
         "id": "-906133618428032055",
         "type_params": {
          "T": {
           "params": {
            "T": {
             "type": "ValueExpr"
            },
            "U": {
             "type": "ValueExpr"
            },
            "V": {
             "type": "ValueExpr"
            }
           },
           "type": "FunctionTwo"
          },
          "U": {
           "params": {
            "T": {
             "type": "ValueExpr"
            },
            "U": {
             "type": "ValueExpr"
            },
            "V": {
             "type": "ValueExpr"
            }
           },
           "type": "FunctionTwo"
          }
         }
        },
        {
         "args": [
          "-906133618428032055",
          "5891730441609885534",
          "8558200726848538509"
         ],
         "function": "FunctionTwo.__call__",
         "id": "17878733920598046",
         "type_params": {
          "T": {
           "type": "ValueExpr"
          },
          "U": {
           "type": "ValueExpr"
          },
          "V": {
           "type": "ValueExpr"
          }
         }
        },
        {
         "args": [
          "17878733920598046",
          "5402145261438168003"
         ],
         "function": "ValueExpr.build",
         "id": "5063933005074999522"
        },
        {
         "args": [
          "5063933005074999522"
         ],
         "function": "Pair.right",
         "id": "-546990824210356649",
         "type_params": {
          "T": {
           "type": "Value"
          },
          "U": {
           "params": {
            "T": {
             "type": "BlockRef"
            },
            "U": {
             "type": "Fn"
            }
           },
           "type": "Pair"
          }
         }
        },
        {
         "args": [
          "-546990824210356649"
         ],
         "function": "Pair.right",
         "id": "4697820377427603625",
         "type_params": {
          "T": {
           "type": "BlockRef"
          },
          "U": {
           "type": "Fn"
          }
         }
        },
        {
         "args": [
          "-546990824210356649"
         ],
         "function": "Pair.left",
         "id": "8868697733551207297",
         "type_params": {
          "T": {
           "type": "BlockRef"
          },
          "U": {
           "type": "Fn"
          }
         }
        },
        {
         "args": [
          "5063933005074999522"
         ],
         "function": "Pair.left",
         "id": "5970436641537052911",
         "type_params": {
          "T": {
           "type": "Value"
          },
          "U": {
           "params": {
            "T": {
             "type": "BlockRef"
            },
            "U": {
             "type": "Fn"
            }
           },
           "type": "Pair"
          }
         }
        },
        {
         "args": [
          "8868697733551207297",
          "5970436641537052911"
         ],
         "function": "BlockRef.ret",
         "id": "4339898884155000885"
        },
        {
         "args": [
          "4697820377427603625",
          "4339898884155000885"
         ],
         "function": "Fn.add_block",
         "id": "-1764555171339273429"
        },
        {
         "args": [
          "-1764555171339273429"
         ],
         "function": "from_llvm_fn_2",
         "id": "-6119756559814496384"
        },
        {
         "args": [
          "-6119756559814496384"
         ],
         "function": "to_llvm_fn_2",
         "id": "-5647806050917222616"
        },
        {
         "args": [
          "7737634984556270748",
          "-5647806050917222616"
         ],
         "function": "ModRef.mod",
         "id": "-4439436241896556856"
        },
        {
         "args": [
          "-5647806050917222616"
         ],
         "function": "Fn.ref",
         "id": "-7871585549109479367"
        },
        {
         "args": [
          "-4439436241896556856",
          "-7871585549109479367",
          "3983604008656577675"
         ],
         "function": "compile_function",
         "id": "-8470299469880062915"
        },
        {
         "id": "252929374395045565",
         "repr": "FunctionReplaceTyping(fn=<function FunctionTwo.from_fn.<locals>.inner at 0x7fd1382a6158>, typevars=HashableMapping(_items=((~U, <class 'metadsl_llvm.ir_context.ValueExpr'>), (~T, <class 'metadsl_llvm.ir_context.ValueExpr'>), (~V, <class 'metadsl_llvm.ir_context.ValueExpr'>))), typevars_in_scope=frozenset({~V, ~T, ~T, ~U, ~U}), inner_mapping=ReplaceTypevarsExpression(typevars=HashableMapping(_items=((~U, <class 'metadsl_llvm.ir_context.ValueExpr'>), (~T, <class 'metadsl_llvm.ir_context.ValueExpr'>), (~V, <class 'metadsl_llvm.ir_context.ValueExpr'>)))))",
         "type": "FunctionReplaceTyping"
        },
        {
         "args": [
          "252929374395045565"
         ],
         "function": "Abstraction.from_fn",
         "id": "-1421379122089931984"
        },
        {
         "args": [
          "3348305646612022562",
          "-1421379122089931984"
         ],
         "function": "FunctionTwo.create",
         "id": "-7327502295671867676",
         "type_params": {
          "T": {
           "type": "ValueExpr"
          },
          "U": {
           "type": "ValueExpr"
          },
          "V": {
           "type": "ValueExpr"
          }
         }
        },
        {
         "args": [
          "-7327502295671867676"
         ],
         "function": "FunctionTwo.name",
         "id": "-6952164166421425518",
         "type_params": {
          "T": {
           "type": "ValueExpr"
          },
          "U": {
           "type": "ValueExpr"
          },
          "V": {
           "type": "ValueExpr"
          }
         }
        },
        {
         "args": [
          "7737634984556270748",
          "-6952164166421425518",
          "2869849078853932976",
          "-4379724003781273686"
         ],
         "function": "ModRef.fn",
         "id": "-4525470377328133289"
        },
        {
         "args": [
          "-4525470377328133289"
         ],
         "function": "FnRef.fn",
         "id": "3967941350548701121"
        },
        {
         "args": [
          "3967941350548701121"
         ],
         "function": "from_llvm_fn_2",
         "id": "-228978966738792579"
        },
        {
         "args": [
          "1238138213941299567",
          "-228978966738792579"
         ],
         "function": "Abstraction.__call__",
         "id": "122670493802674223",
         "type_params": {
          "T": {
           "params": {
            "T": {
             "type": "ValueExpr"
            },
            "U": {
             "type": "ValueExpr"
            },
            "V": {
             "type": "ValueExpr"
            }
           },
           "type": "FunctionTwo"
          },
          "U": {
           "params": {
            "T": {
             "type": "ValueExpr"
            },
            "U": {
             "type": "ValueExpr"
            },
            "V": {
             "type": "ValueExpr"
            }
           },
           "type": "FunctionTwo"
          }
         }
        },
        {
         "args": [
          "-4525470377328133289"
         ],
         "function": "FnRef.arguments",
         "id": "-2321703294316730505"
        },
        {
         "args": [
          "-2321703294316730505",
          "7019033112043945449"
         ],
         "function": "Vec.__getitem__",
         "id": "-8914660425554820988",
         "type_params": {
          "T": {
           "type": "Value"
          }
         }
        },
        {
         "args": [
          "-8914660425554820988"
         ],
         "function": "ValueExpr.from_value",
         "id": "-5642217800241969171"
        },
        {
         "args": [
          "-2321703294316730505",
          "7427462424716739544"
         ],
         "function": "Vec.__getitem__",
         "id": "-7985518937034452611",
         "type_params": {
          "T": {
           "type": "Value"
          }
         }
        },
        {
         "args": [
          "-7985518937034452611"
         ],
         "function": "ValueExpr.from_value",
         "id": "8410106236791350154"
        },
        {
         "args": [
          "122670493802674223",
          "-5642217800241969171",
          "8410106236791350154"
         ],
         "function": "FunctionTwo.__call__",
         "id": "-77768582217579076",
         "type_params": {
          "T": {
           "type": "ValueExpr"
          },
          "U": {
           "type": "ValueExpr"
          },
          "V": {
           "type": "ValueExpr"
          }
         }
        },
        {
         "args": [
          "-4525470377328133289",
          "3989267796447890075",
          "3959146490344299550",
          "-8690275497361632339"
         ],
         "function": "FnRef._block",
         "id": "-6598123110313954221"
        },
        {
         "args": [
          "-6598123110313954221",
          "3967941350548701121"
         ],
         "function": "Pair.create",
         "id": "-3321340217880519876"
        },
        {
         "args": [
          "-77768582217579076",
          "-3321340217880519876"
         ],
         "function": "ValueExpr.build",
         "id": "-3548861057568240414"
        },
        {
         "args": [
          "-3548861057568240414"
         ],
         "function": "Pair.right",
         "id": "-588071994858971978",
         "type_params": {
          "T": {
           "type": "Value"
          },
          "U": {
           "params": {
            "T": {
             "type": "BlockRef"
            },
            "U": {
             "type": "Fn"
            }
           },
           "type": "Pair"
          }
         }
        },
        {
         "args": [
          "-588071994858971978"
         ],
         "function": "Pair.right",
         "id": "9013550616968987268",
         "type_params": {
          "T": {
           "type": "BlockRef"
          },
          "U": {
           "type": "Fn"
          }
         }
        },
        {
         "args": [
          "-588071994858971978"
         ],
         "function": "Pair.left",
         "id": "3779584034083463084",
         "type_params": {
          "T": {
           "type": "BlockRef"
          },
          "U": {
           "type": "Fn"
          }
         }
        },
        {
         "args": [
          "-3548861057568240414"
         ],
         "function": "Pair.left",
         "id": "-6135903351787931682",
         "type_params": {
          "T": {
           "type": "Value"
          },
          "U": {
           "params": {
            "T": {
             "type": "BlockRef"
            },
            "U": {
             "type": "Fn"
            }
           },
           "type": "Pair"
          }
         }
        },
        {
         "args": [
          "3779584034083463084",
          "-6135903351787931682"
         ],
         "function": "BlockRef.ret",
         "id": "730563150820858019"
        },
        {
         "args": [
          "9013550616968987268",
          "730563150820858019"
         ],
         "function": "Fn.add_block",
         "id": "-7451235734652464124"
        },
        {
         "args": [
          "-7451235734652464124"
         ],
         "function": "from_llvm_fn_2",
         "id": "320700677138260802"
        },
        {
         "args": [
          "320700677138260802"
         ],
         "function": "to_llvm_fn_2",
         "id": "163139068322131236"
        },
        {
         "args": [
          "7737634984556270748",
          "163139068322131236"
         ],
         "function": "ModRef.mod",
         "id": "-1434691730035970686"
        },
        {
         "args": [
          "163139068322131236"
         ],
         "function": "Fn.ref",
         "id": "4845013034419969571"
        },
        {
         "args": [
          "-1434691730035970686",
          "4845013034419969571",
          "3983604008656577675"
         ],
         "function": "compile_function",
         "id": "4547928391453373629"
        },
        {
         "id": "-3397861691224444041",
         "repr": "0x7fd17895ed30",
         "type": "Variable"
        },
        {
         "args": [
          "-3397861691224444041"
         ],
         "function": "Abstraction.create_variable",
         "id": "-7543133531423137908",
         "type_params": {
          "T": {
           "type": "ValueExpr"
          },
          "U": {
           "params": {
            "T": {
             "type": "ValueExpr"
            },
            "U": {
             "type": "ValueExpr"
            }
           },
           "type": "Abstraction"
          }
         }
        },
        {
         "id": "-1776329340260686570",
         "repr": "FunctionReplaceTyping(fn=<function FunctionTwo.from_fn.<locals>.inner.<locals>.inner at 0x7fd1885a1ea0>, typevars=HashableMapping(_items=((~U, <class 'metadsl_llvm.ir_context.ValueExpr'>), (~T, <class 'metadsl_llvm.ir_context.ValueExpr'>), (~V, <class 'metadsl_llvm.ir_context.ValueExpr'>))), typevars_in_scope=frozenset({~V, ~T, ~T, ~U, ~U}), inner_mapping=ReplaceTypevarsExpression(typevars=HashableMapping(_items=((~U, <class 'metadsl_llvm.ir_context.ValueExpr'>), (~T, <class 'metadsl_llvm.ir_context.ValueExpr'>), (~V, <class 'metadsl_llvm.ir_context.ValueExpr'>)))))",
         "type": "FunctionReplaceTyping"
        },
        {
         "args": [
          "-1776329340260686570"
         ],
         "function": "Abstraction.from_fn",
         "id": "-7958905916162134129"
        },
        {
         "args": [
          "-7543133531423137908",
          "-7958905916162134129"
         ],
         "function": "Abstraction.create",
         "id": "-4176454342511269214",
         "type_params": {
          "T": {
           "type": "ValueExpr"
          },
          "U": {
           "params": {
            "T": {
             "type": "ValueExpr"
            },
            "U": {
             "type": "ValueExpr"
            }
           },
           "type": "Abstraction"
          }
         }
        },
        {
         "args": [
          "3348305646612022562",
          "-4176454342511269214"
         ],
         "function": "FunctionTwo.create",
         "id": "-5675442095551361825",
         "type_params": {
          "T": {
           "type": "ValueExpr"
          },
          "U": {
           "type": "ValueExpr"
          },
          "V": {
           "type": "ValueExpr"
          }
         }
        },
        {
         "args": [
          "-5675442095551361825"
         ],
         "function": "FunctionTwo.name",
         "id": "5076312244748016966",
         "type_params": {
          "T": {
           "type": "ValueExpr"
          },
          "U": {
           "type": "ValueExpr"
          },
          "V": {
           "type": "ValueExpr"
          }
         }
        },
        {
         "args": [
          "7737634984556270748",
          "5076312244748016966",
          "2869849078853932976",
          "-4379724003781273686"
         ],
         "function": "ModRef.fn",
         "id": "3598605101798083268"
        },
        {
         "args": [
          "3598605101798083268"
         ],
         "function": "FnRef.fn",
         "id": "-6895595126162456186"
        },
        {
         "args": [
          "-6895595126162456186"
         ],
         "function": "from_llvm_fn_2",
         "id": "4945964344062901827"
        },
        {
         "args": [
          "1238138213941299567",
          "4945964344062901827"
         ],
         "function": "Abstraction.__call__",
         "id": "2658092523456493975",
         "type_params": {
          "T": {
           "params": {
            "T": {
             "type": "ValueExpr"
            },
            "U": {
             "type": "ValueExpr"
            },
            "V": {
             "type": "ValueExpr"
            }
           },
           "type": "FunctionTwo"
          },
          "U": {
           "params": {
            "T": {
             "type": "ValueExpr"
            },
            "U": {
             "type": "ValueExpr"
            },
            "V": {
             "type": "ValueExpr"
            }
           },
           "type": "FunctionTwo"
          }
         }
        },
        {
         "args": [
          "3598605101798083268"
         ],
         "function": "FnRef.arguments",
         "id": "2121090625215233376"
        },
        {
         "args": [
          "2121090625215233376",
          "7019033112043945449"
         ],
         "function": "Vec.__getitem__",
         "id": "1549778606130048954",
         "type_params": {
          "T": {
           "type": "Value"
          }
         }
        },
        {
         "args": [
          "1549778606130048954"
         ],
         "function": "ValueExpr.from_value",
         "id": "-2992073758749817526"
        },
        {
         "args": [
          "2121090625215233376",
          "7427462424716739544"
         ],
         "function": "Vec.__getitem__",
         "id": "-5040353714504392105",
         "type_params": {
          "T": {
           "type": "Value"
          }
         }
        },
        {
         "args": [
          "-5040353714504392105"
         ],
         "function": "ValueExpr.from_value",
         "id": "2199262309717212337"
        },
        {
         "args": [
          "2658092523456493975",
          "-2992073758749817526",
          "2199262309717212337"
         ],
         "function": "FunctionTwo.__call__",
         "id": "4402072983192775991",
         "type_params": {
          "T": {
           "type": "ValueExpr"
          },
          "U": {
           "type": "ValueExpr"
          },
          "V": {
           "type": "ValueExpr"
          }
         }
        },
        {
         "args": [
          "3598605101798083268",
          "3989267796447890075",
          "3959146490344299550",
          "-8690275497361632339"
         ],
         "function": "FnRef._block",
         "id": "144185630015441426"
        },
        {
         "args": [
          "144185630015441426",
          "-6895595126162456186"
         ],
         "function": "Pair.create",
         "id": "3249240432877801825"
        },
        {
         "args": [
          "4402072983192775991",
          "3249240432877801825"
         ],
         "function": "ValueExpr.build",
         "id": "-4192891550697100375"
        },
        {
         "args": [
          "-4192891550697100375"
         ],
         "function": "Pair.right",
         "id": "-2591113061231592821",
         "type_params": {
          "T": {
           "type": "Value"
          },
          "U": {
           "params": {
            "T": {
             "type": "BlockRef"
            },
            "U": {
             "type": "Fn"
            }
           },
           "type": "Pair"
          }
         }
        },
        {
         "args": [
          "-2591113061231592821"
         ],
         "function": "Pair.right",
         "id": "3956721390416363704",
         "type_params": {
          "T": {
           "type": "BlockRef"
          },
          "U": {
           "type": "Fn"
          }
         }
        },
        {
         "args": [
          "-2591113061231592821"
         ],
         "function": "Pair.left",
         "id": "4897979854423636768",
         "type_params": {
          "T": {
           "type": "BlockRef"
          },
          "U": {
           "type": "Fn"
          }
         }
        },
        {
         "args": [
          "-4192891550697100375"
         ],
         "function": "Pair.left",
         "id": "-8197423816279676829",
         "type_params": {
          "T": {
           "type": "Value"
          },
          "U": {
           "params": {
            "T": {
             "type": "BlockRef"
            },
            "U": {
             "type": "Fn"
            }
           },
           "type": "Pair"
          }
         }
        },
        {
         "args": [
          "4897979854423636768",
          "-8197423816279676829"
         ],
         "function": "BlockRef.ret",
         "id": "-2992167864236787160"
        },
        {
         "args": [
          "3956721390416363704",
          "-2992167864236787160"
         ],
         "function": "Fn.add_block",
         "id": "-4915718569923601790"
        },
        {
         "args": [
          "-4915718569923601790"
         ],
         "function": "from_llvm_fn_2",
         "id": "-353684322777132489"
        },
        {
         "args": [
          "-353684322777132489"
         ],
         "function": "to_llvm_fn_2",
         "id": "7281463492223243837"
        },
        {
         "args": [
          "7737634984556270748",
          "7281463492223243837"
         ],
         "function": "ModRef.mod",
         "id": "-327597385162929074"
        },
        {
         "args": [
          "7281463492223243837"
         ],
         "function": "Fn.ref",
         "id": "6417717458864110199"
        },
        {
         "args": [
          "-327597385162929074",
          "6417717458864110199",
          "3983604008656577675"
         ],
         "function": "compile_function",
         "id": "-5515445831195181299"
        },
        {
         "id": "-3397861688445602366",
         "repr": "0x7fd178954cc0",
         "type": "Variable"
        },
        {
         "args": [
          "-3397861688445602366"
         ],
         "function": "Abstraction.create_variable",
         "id": "7399126823415371926",
         "type_params": {
          "T": {
           "type": "ValueExpr"
          },
          "U": {
           "type": "ValueExpr"
          }
         }
        },
        {
         "args": [
          "-7543133531423137908",
          "7399126823415371926"
         ],
         "function": "ValueExpr.__add__",
         "id": "-821979905696300414"
        },
        {
         "args": [
          "-3409559652977700816",
          "3983604008656577675"
         ],
         "function": "Value.constant",
         "id": "-1706402251581152413"
        },
        {
         "args": [
          "-1706402251581152413"
         ],
         "function": "ValueExpr.from_value",
         "id": "4507850206849394183"
        },
        {
         "args": [
          "-821979905696300414",
          "4507850206849394183"
         ],
         "function": "ValueExpr.__add__",
         "id": "-1982648281987826802"
        },
        {
         "args": [
          "7399126823415371926",
          "-1982648281987826802"
         ],
         "function": "Abstraction.create",
         "id": "-1773840491396744583",
         "type_params": {
          "T": {
           "type": "ValueExpr"
          },
          "U": {
           "type": "ValueExpr"
          }
         }
        },
        {
         "args": [
          "-7543133531423137908",
          "-1773840491396744583"
         ],
         "function": "Abstraction.create",
         "id": "-2133656073568533879",
         "type_params": {
          "T": {
           "type": "ValueExpr"
          },
          "U": {
           "params": {
            "T": {
             "type": "ValueExpr"
            },
            "U": {
             "type": "ValueExpr"
            }
           },
           "type": "Abstraction"
          }
         }
        },
        {
         "args": [
          "3348305646612022562",
          "-2133656073568533879"
         ],
         "function": "FunctionTwo.create",
         "id": "1491448416938381431",
         "type_params": {
          "T": {
           "type": "ValueExpr"
          },
          "U": {
           "type": "ValueExpr"
          },
          "V": {
           "type": "ValueExpr"
          }
         }
        },
        {
         "args": [
          "1491448416938381431"
         ],
         "function": "FunctionTwo.name",
         "id": "-5501876424606217772",
         "type_params": {
          "T": {
           "type": "ValueExpr"
          },
          "U": {
           "type": "ValueExpr"
          },
          "V": {
           "type": "ValueExpr"
          }
         }
        },
        {
         "args": [
          "7737634984556270748",
          "-5501876424606217772",
          "2869849078853932976",
          "-4379724003781273686"
         ],
         "function": "ModRef.fn",
         "id": "-2425015113509149690"
        },
        {
         "args": [
          "-2425015113509149690"
         ],
         "function": "FnRef.fn",
         "id": "8499659275123177414"
        },
        {
         "args": [
          "8499659275123177414"
         ],
         "function": "from_llvm_fn_2",
         "id": "7158786108132283610"
        },
        {
         "args": [
          "1238138213941299567",
          "7158786108132283610"
         ],
         "function": "Abstraction.__call__",
         "id": "-6262476088235088497",
         "type_params": {
          "T": {
           "params": {
            "T": {
             "type": "ValueExpr"
            },
            "U": {
             "type": "ValueExpr"
            },
            "V": {
             "type": "ValueExpr"
            }
           },
           "type": "FunctionTwo"
          },
          "U": {
           "params": {
            "T": {
             "type": "ValueExpr"
            },
            "U": {
             "type": "ValueExpr"
            },
            "V": {
             "type": "ValueExpr"
            }
           },
           "type": "FunctionTwo"
          }
         }
        },
        {
         "args": [
          "-2425015113509149690"
         ],
         "function": "FnRef.arguments",
         "id": "1420997731438869536"
        },
        {
         "args": [
          "1420997731438869536",
          "7019033112043945449"
         ],
         "function": "Vec.__getitem__",
         "id": "-7201355846903359238",
         "type_params": {
          "T": {
           "type": "Value"
          }
         }
        },
        {
         "args": [
          "-7201355846903359238"
         ],
         "function": "ValueExpr.from_value",
         "id": "-7631835857354564485"
        },
        {
         "args": [
          "1420997731438869536",
          "7427462424716739544"
         ],
         "function": "Vec.__getitem__",
         "id": "823772765070614423",
         "type_params": {
          "T": {
           "type": "Value"
          }
         }
        },
        {
         "args": [
          "823772765070614423"
         ],
         "function": "ValueExpr.from_value",
         "id": "6956004343775093595"
        },
        {
         "args": [
          "-6262476088235088497",
          "-7631835857354564485",
          "6956004343775093595"
         ],
         "function": "FunctionTwo.__call__",
         "id": "-2109796948023778380",
         "type_params": {
          "T": {
           "type": "ValueExpr"
          },
          "U": {
           "type": "ValueExpr"
          },
          "V": {
           "type": "ValueExpr"
          }
         }
        },
        {
         "args": [
          "-2425015113509149690",
          "3989267796447890075",
          "3959146490344299550",
          "-8690275497361632339"
         ],
         "function": "FnRef._block",
         "id": "7748491967965412306"
        },
        {
         "args": [
          "7748491967965412306",
          "8499659275123177414"
         ],
         "function": "Pair.create",
         "id": "-661909933896662603"
        },
        {
         "args": [
          "-2109796948023778380",
          "-661909933896662603"
         ],
         "function": "ValueExpr.build",
         "id": "-3787108274468785868"
        },
        {
         "args": [
          "-3787108274468785868"
         ],
         "function": "Pair.right",
         "id": "9042407612413988668",
         "type_params": {
          "T": {
           "type": "Value"
          },
          "U": {
           "params": {
            "T": {
             "type": "BlockRef"
            },
            "U": {
             "type": "Fn"
            }
           },
           "type": "Pair"
          }
         }
        },
        {
         "args": [
          "9042407612413988668"
         ],
         "function": "Pair.right",
         "id": "-534372112070469487",
         "type_params": {
          "T": {
           "type": "BlockRef"
          },
          "U": {
           "type": "Fn"
          }
         }
        },
        {
         "args": [
          "9042407612413988668"
         ],
         "function": "Pair.left",
         "id": "-1245799181409039879",
         "type_params": {
          "T": {
           "type": "BlockRef"
          },
          "U": {
           "type": "Fn"
          }
         }
        },
        {
         "args": [
          "-3787108274468785868"
         ],
         "function": "Pair.left",
         "id": "6003856748758436308",
         "type_params": {
          "T": {
           "type": "Value"
          },
          "U": {
           "params": {
            "T": {
             "type": "BlockRef"
            },
            "U": {
             "type": "Fn"
            }
           },
           "type": "Pair"
          }
         }
        },
        {
         "args": [
          "-1245799181409039879",
          "6003856748758436308"
         ],
         "function": "BlockRef.ret",
         "id": "4282904729306612229"
        },
        {
         "args": [
          "-534372112070469487",
          "4282904729306612229"
         ],
         "function": "Fn.add_block",
         "id": "-5414515609336354367"
        },
        {
         "args": [
          "-5414515609336354367"
         ],
         "function": "from_llvm_fn_2",
         "id": "-5641524335169639236"
        },
        {
         "args": [
          "-5641524335169639236"
         ],
         "function": "to_llvm_fn_2",
         "id": "-2610966092146974772"
        },
        {
         "args": [
          "7737634984556270748",
          "-2610966092146974772"
         ],
         "function": "ModRef.mod",
         "id": "1459068658933990883"
        },
        {
         "args": [
          "-2610966092146974772"
         ],
         "function": "Fn.ref",
         "id": "292283932517819744"
        },
        {
         "args": [
          "1459068658933990883",
          "292283932517819744",
          "3983604008656577675"
         ],
         "function": "compile_function",
         "id": "4452976038576809975"
        },
        {
         "id": "-3397861684535522066",
         "repr": "0x7fd178946b00",
         "type": "Variable"
        },
        {
         "args": [
          "-3397861684535522066"
         ],
         "function": "Abstraction.create_variable",
         "id": "6514120424658836116",
         "type_params": {
          "T": {
           "params": {
            "T": {
             "type": "ValueExpr"
            },
            "U": {
             "type": "ValueExpr"
            },
            "V": {
             "type": "ValueExpr"
            }
           },
           "type": "FunctionTwo"
          },
          "U": {
           "params": {
            "T": {
             "type": "ValueExpr"
            },
            "U": {
             "type": "ValueExpr"
            },
            "V": {
             "type": "ValueExpr"
            }
           },
           "type": "FunctionTwo"
          }
         }
        },
        {
         "args": [
          "-3448567052618944149"
         ],
         "function": "FunctionTwo.abstraction",
         "id": "3759058332462297966",
         "type_params": {
          "T": {
           "type": "ValueExpr"
          },
          "U": {
           "type": "ValueExpr"
          },
          "V": {
           "type": "ValueExpr"
          }
         }
        },
        {
         "args": [
          "3759058332462297966"
         ],
         "function": "Abstraction.unfix",
         "id": "512015182899599720",
         "type_params": {
          "T": {
           "type": "ValueExpr"
          },
          "U": {
           "params": {
            "T": {
             "type": "ValueExpr"
            },
            "U": {
             "type": "ValueExpr"
            }
           },
           "type": "Abstraction"
          }
         }
        },
        {
         "args": [
          "6514120424658836116"
         ],
         "function": "FunctionTwo.abstraction",
         "id": "3005338591785643138",
         "type_params": {
          "T": {
           "type": "ValueExpr"
          },
          "U": {
           "type": "ValueExpr"
          },
          "V": {
           "type": "ValueExpr"
          }
         }
        },
        {
         "args": [
          "512015182899599720",
          "3005338591785643138"
         ],
         "function": "Abstraction.__call__",
         "id": "5264005753603491224",
         "type_params": {
          "T": {
           "params": {
            "T": {
             "type": "ValueExpr"
            },
            "U": {
             "params": {
              "T": {
               "type": "ValueExpr"
              },
              "U": {
               "type": "ValueExpr"
              }
             },
             "type": "Abstraction"
            }
           },
           "type": "Abstraction"
          },
          "U": {
           "params": {
            "T": {
             "type": "ValueExpr"
            },
            "U": {
             "params": {
              "T": {
               "type": "ValueExpr"
              },
              "U": {
               "type": "ValueExpr"
              }
             },
             "type": "Abstraction"
            }
           },
           "type": "Abstraction"
          }
         }
        },
        {
         "args": [
          "-1367591971730276219",
          "5264005753603491224"
         ],
         "function": "FunctionTwo.create",
         "id": "-6530522757606754252"
        },
        {
         "args": [
          "6514120424658836116",
          "-6530522757606754252"
         ],
         "function": "Abstraction.create",
         "id": "-6266808223511237116",
         "type_params": {
          "T": {
           "params": {
            "T": {
             "type": "ValueExpr"
            },
            "U": {
             "type": "ValueExpr"
            },
            "V": {
             "type": "ValueExpr"
            }
           },
           "type": "FunctionTwo"
          },
          "U": {
           "params": {
            "T": {
             "type": "ValueExpr"
            },
            "U": {
             "type": "ValueExpr"
            },
            "V": {
             "type": "ValueExpr"
            }
           },
           "type": "FunctionTwo"
          }
         }
        },
        {
         "args": [
          "-6266808223511237116",
          "7158786108132283610"
         ],
         "function": "Abstraction.__call__",
         "id": "-8695673020171899578",
         "type_params": {
          "T": {
           "params": {
            "T": {
             "type": "ValueExpr"
            },
            "U": {
             "type": "ValueExpr"
            },
            "V": {
             "type": "ValueExpr"
            }
           },
           "type": "FunctionTwo"
          },
          "U": {
           "params": {
            "T": {
             "type": "ValueExpr"
            },
            "U": {
             "type": "ValueExpr"
            },
            "V": {
             "type": "ValueExpr"
            }
           },
           "type": "FunctionTwo"
          }
         }
        },
        {
         "args": [
          "-8695673020171899578",
          "-7631835857354564485",
          "6956004343775093595"
         ],
         "function": "FunctionTwo.__call__",
         "id": "-1201430648791809318",
         "type_params": {
          "T": {
           "type": "ValueExpr"
          },
          "U": {
           "type": "ValueExpr"
          },
          "V": {
           "type": "ValueExpr"
          }
         }
        },
        {
         "args": [
          "-1201430648791809318",
          "-661909933896662603"
         ],
         "function": "ValueExpr.build",
         "id": "5802475993120199790"
        },
        {
         "args": [
          "5802475993120199790"
         ],
         "function": "Pair.right",
         "id": "-1884405006609099117",
         "type_params": {
          "T": {
           "type": "Value"
          },
          "U": {
           "params": {
            "T": {
             "type": "BlockRef"
            },
            "U": {
             "type": "Fn"
            }
           },
           "type": "Pair"
          }
         }
        },
        {
         "args": [
          "-1884405006609099117"
         ],
         "function": "Pair.right",
         "id": "-8240475659460170027",
         "type_params": {
          "T": {
           "type": "BlockRef"
          },
          "U": {
           "type": "Fn"
          }
         }
        },
        {
         "args": [
          "-1884405006609099117"
         ],
         "function": "Pair.left",
         "id": "1647392416891063149",
         "type_params": {
          "T": {
           "type": "BlockRef"
          },
          "U": {
           "type": "Fn"
          }
         }
        },
        {
         "args": [
          "5802475993120199790"
         ],
         "function": "Pair.left",
         "id": "3970074219154330043",
         "type_params": {
          "T": {
           "type": "Value"
          },
          "U": {
           "params": {
            "T": {
             "type": "BlockRef"
            },
            "U": {
             "type": "Fn"
            }
           },
           "type": "Pair"
          }
         }
        },
        {
         "args": [
          "1647392416891063149",
          "3970074219154330043"
         ],
         "function": "BlockRef.ret",
         "id": "8957693067133183107"
        },
        {
         "args": [
          "-8240475659460170027",
          "8957693067133183107"
         ],
         "function": "Fn.add_block",
         "id": "-3394752030127488442"
        },
        {
         "args": [
          "-3394752030127488442"
         ],
         "function": "from_llvm_fn_2",
         "id": "-869978020576567026"
        },
        {
         "args": [
          "-869978020576567026"
         ],
         "function": "to_llvm_fn_2",
         "id": "7008039137124079832"
        },
        {
         "args": [
          "7737634984556270748",
          "7008039137124079832"
         ],
         "function": "ModRef.mod",
         "id": "5812360709076604467"
        },
        {
         "args": [
          "7008039137124079832"
         ],
         "function": "Fn.ref",
         "id": "7202899474233894160"
        },
        {
         "args": [
          "5812360709076604467",
          "7202899474233894160",
          "3983604008656577675"
         ],
         "function": "compile_function",
         "id": "-4314304193667053814"
        },
        {
         "id": "8126197009372575769",
         "repr": "FunctionReplaceTyping(fn=<function FunctionTwo.from_fn.<locals>.inner at 0x7fd1885a1e18>, typevars=HashableMapping(_items=((~U, <class 'metadsl_llvm.ir_context.ValueExpr'>), (~T, <class 'metadsl_llvm.ir_context.ValueExpr'>), (~V, <class 'metadsl_llvm.ir_context.ValueExpr'>))), typevars_in_scope=frozenset({~V, ~T, ~T, ~U, ~U}), inner_mapping=ReplaceTypevarsExpression(typevars=HashableMapping(_items=((~U, <class 'metadsl_llvm.ir_context.ValueExpr'>), (~T, <class 'metadsl_llvm.ir_context.ValueExpr'>), (~V, <class 'metadsl_llvm.ir_context.ValueExpr'>)))))",
         "type": "FunctionReplaceTyping"
        },
        {
         "args": [
          "8126197009372575769"
         ],
         "function": "Abstraction.from_fn",
         "id": "-6533397841555562499"
        },
        {
         "args": [
          "3348305646612022562",
          "-6533397841555562499"
         ],
         "function": "FunctionTwo.create",
         "id": "-500354214394281055",
         "type_params": {
          "T": {
           "type": "ValueExpr"
          },
          "U": {
           "type": "ValueExpr"
          },
          "V": {
           "type": "ValueExpr"
          }
         }
        },
        {
         "args": [
          "-500354214394281055"
         ],
         "function": "FunctionTwo.name",
         "id": "-3596883391250037934",
         "type_params": {
          "T": {
           "type": "ValueExpr"
          },
          "U": {
           "type": "ValueExpr"
          },
          "V": {
           "type": "ValueExpr"
          }
         }
        },
        {
         "args": [
          "-500354214394281055"
         ],
         "function": "FunctionTwo.abstraction",
         "id": "6959583377220452201",
         "type_params": {
          "T": {
           "type": "ValueExpr"
          },
          "U": {
           "type": "ValueExpr"
          },
          "V": {
           "type": "ValueExpr"
          }
         }
        },
        {
         "args": [
          "6959583377220452201"
         ],
         "function": "Abstraction.unfix",
         "id": "-8024603715559549153",
         "type_params": {
          "T": {
           "type": "ValueExpr"
          },
          "U": {
           "params": {
            "T": {
             "type": "ValueExpr"
            },
            "U": {
             "type": "ValueExpr"
            }
           },
           "type": "Abstraction"
          }
         }
        },
        {
         "args": [
          "-8024603715559549153",
          "3005338591785643138"
         ],
         "function": "Abstraction.__call__",
         "id": "-104920299130198148",
         "type_params": {
          "T": {
           "params": {
            "T": {
             "type": "ValueExpr"
            },
            "U": {
             "params": {
              "T": {
               "type": "ValueExpr"
              },
              "U": {
               "type": "ValueExpr"
              }
             },
             "type": "Abstraction"
            }
           },
           "type": "Abstraction"
          },
          "U": {
           "params": {
            "T": {
             "type": "ValueExpr"
            },
            "U": {
             "params": {
              "T": {
               "type": "ValueExpr"
              },
              "U": {
               "type": "ValueExpr"
              }
             },
             "type": "Abstraction"
            }
           },
           "type": "Abstraction"
          }
         }
        },
        {
         "args": [
          "-3596883391250037934",
          "-104920299130198148"
         ],
         "function": "FunctionTwo.create",
         "id": "-8574575678404737546"
        },
        {
         "args": [
          "6514120424658836116",
          "-8574575678404737546"
         ],
         "function": "Abstraction.create",
         "id": "-5609756003586836753",
         "type_params": {
          "T": {
           "params": {
            "T": {
             "type": "ValueExpr"
            },
            "U": {
             "type": "ValueExpr"
            },
            "V": {
             "type": "ValueExpr"
            }
           },
           "type": "FunctionTwo"
          },
          "U": {
           "params": {
            "T": {
             "type": "ValueExpr"
            },
            "U": {
             "type": "ValueExpr"
            },
            "V": {
             "type": "ValueExpr"
            }
           },
           "type": "FunctionTwo"
          }
         }
        },
        {
         "args": [
          "-5609756003586836753",
          "7158786108132283610"
         ],
         "function": "Abstraction.__call__",
         "id": "-596444054715664863",
         "type_params": {
          "T": {
           "params": {
            "T": {
             "type": "ValueExpr"
            },
            "U": {
             "type": "ValueExpr"
            },
            "V": {
             "type": "ValueExpr"
            }
           },
           "type": "FunctionTwo"
          },
          "U": {
           "params": {
            "T": {
             "type": "ValueExpr"
            },
            "U": {
             "type": "ValueExpr"
            },
            "V": {
             "type": "ValueExpr"
            }
           },
           "type": "FunctionTwo"
          }
         }
        },
        {
         "args": [
          "-596444054715664863",
          "-7631835857354564485",
          "6956004343775093595"
         ],
         "function": "FunctionTwo.__call__",
         "id": "-2298531382111188144",
         "type_params": {
          "T": {
           "type": "ValueExpr"
          },
          "U": {
           "type": "ValueExpr"
          },
          "V": {
           "type": "ValueExpr"
          }
         }
        },
        {
         "args": [
          "-2298531382111188144",
          "-661909933896662603"
         ],
         "function": "ValueExpr.build",
         "id": "8071581535316250992"
        },
        {
         "args": [
          "8071581535316250992"
         ],
         "function": "Pair.right",
         "id": "218871914815467004",
         "type_params": {
          "T": {
           "type": "Value"
          },
          "U": {
           "params": {
            "T": {
             "type": "BlockRef"
            },
            "U": {
             "type": "Fn"
            }
           },
           "type": "Pair"
          }
         }
        },
        {
         "args": [
          "218871914815467004"
         ],
         "function": "Pair.right",
         "id": "-8884099311776318890",
         "type_params": {
          "T": {
           "type": "BlockRef"
          },
          "U": {
           "type": "Fn"
          }
         }
        },
        {
         "args": [
          "218871914815467004"
         ],
         "function": "Pair.left",
         "id": "-4467084610148955202",
         "type_params": {
          "T": {
           "type": "BlockRef"
          },
          "U": {
           "type": "Fn"
          }
         }
        },
        {
         "args": [
          "8071581535316250992"
         ],
         "function": "Pair.left",
         "id": "-3004616010744209772",
         "type_params": {
          "T": {
           "type": "Value"
          },
          "U": {
           "params": {
            "T": {
             "type": "BlockRef"
            },
            "U": {
             "type": "Fn"
            }
           },
           "type": "Pair"
          }
         }
        },
        {
         "args": [
          "-4467084610148955202",
          "-3004616010744209772"
         ],
         "function": "BlockRef.ret",
         "id": "-809108456654099674"
        },
        {
         "args": [
          "-8884099311776318890",
          "-809108456654099674"
         ],
         "function": "Fn.add_block",
         "id": "3507852112487721315"
        },
        {
         "args": [
          "3507852112487721315"
         ],
         "function": "from_llvm_fn_2",
         "id": "9046423355358485219"
        },
        {
         "args": [
          "9046423355358485219"
         ],
         "function": "to_llvm_fn_2",
         "id": "-1515613406819909344"
        },
        {
         "args": [
          "7737634984556270748",
          "-1515613406819909344"
         ],
         "function": "ModRef.mod",
         "id": "3720980905526051886"
        },
        {
         "args": [
          "-1515613406819909344"
         ],
         "function": "Fn.ref",
         "id": "-3008990125407725289"
        },
        {
         "args": [
          "3720980905526051886",
          "-3008990125407725289",
          "3983604008656577675"
         ],
         "function": "compile_function",
         "id": "-2796150561300737003"
        },
        {
         "id": "5825673904971271517",
         "repr": "0x7fd188628358",
         "type": "Variable"
        },
        {
         "args": [
          "5825673904971271517"
         ],
         "function": "Abstraction.create_variable",
         "id": "6727543425053095289",
         "type_params": {
          "T": {
           "type": "ValueExpr"
          },
          "U": {
           "params": {
            "T": {
             "type": "ValueExpr"
            },
            "U": {
             "type": "ValueExpr"
            }
           },
           "type": "Abstraction"
          }
         }
        },
        {
         "id": "5436018141849781800",
         "repr": "FunctionReplaceTyping(fn=<function FunctionTwo.from_fn.<locals>.inner.<locals>.inner at 0x7fd1788fe488>, typevars=HashableMapping(_items=((~U, <class 'metadsl_llvm.ir_context.ValueExpr'>), (~T, <class 'metadsl_llvm.ir_context.ValueExpr'>), (~V, <class 'metadsl_llvm.ir_context.ValueExpr'>))), typevars_in_scope=frozenset({~V, ~T, ~T, ~U, ~U}), inner_mapping=ReplaceTypevarsExpression(typevars=HashableMapping(_items=((~U, <class 'metadsl_llvm.ir_context.ValueExpr'>), (~T, <class 'metadsl_llvm.ir_context.ValueExpr'>), (~V, <class 'metadsl_llvm.ir_context.ValueExpr'>)))))",
         "type": "FunctionReplaceTyping"
        },
        {
         "args": [
          "5436018141849781800"
         ],
         "function": "Abstraction.from_fn",
         "id": "-6296402261919688909"
        },
        {
         "args": [
          "6727543425053095289",
          "-6296402261919688909"
         ],
         "function": "Abstraction.create",
         "id": "2694564010034106671",
         "type_params": {
          "T": {
           "type": "ValueExpr"
          },
          "U": {
           "params": {
            "T": {
             "type": "ValueExpr"
            },
            "U": {
             "type": "ValueExpr"
            }
           },
           "type": "Abstraction"
          }
         }
        },
        {
         "args": [
          "3348305646612022562",
          "2694564010034106671"
         ],
         "function": "FunctionTwo.create",
         "id": "-7988485960663089948",
         "type_params": {
          "T": {
           "type": "ValueExpr"
          },
          "U": {
           "type": "ValueExpr"
          },
          "V": {
           "type": "ValueExpr"
          }
         }
        },
        {
         "args": [
          "-7988485960663089948"
         ],
         "function": "FunctionTwo.name",
         "id": "4411108231796008082",
         "type_params": {
          "T": {
           "type": "ValueExpr"
          },
          "U": {
           "type": "ValueExpr"
          },
          "V": {
           "type": "ValueExpr"
          }
         }
        },
        {
         "args": [
          "-7988485960663089948"
         ],
         "function": "FunctionTwo.abstraction",
         "id": "3754170676868513321",
         "type_params": {
          "T": {
           "type": "ValueExpr"
          },
          "U": {
           "type": "ValueExpr"
          },
          "V": {
           "type": "ValueExpr"
          }
         }
        },
        {
         "args": [
          "3754170676868513321"
         ],
         "function": "Abstraction.unfix",
         "id": "-4268275975974221039",
         "type_params": {
          "T": {
           "type": "ValueExpr"
          },
          "U": {
           "params": {
            "T": {
             "type": "ValueExpr"
            },
            "U": {
             "type": "ValueExpr"
            }
           },
           "type": "Abstraction"
          }
         }
        },
        {
         "args": [
          "-4268275975974221039",
          "3005338591785643138"
         ],
         "function": "Abstraction.__call__",
         "id": "1493787513503289216",
         "type_params": {
          "T": {
           "params": {
            "T": {
             "type": "ValueExpr"
            },
            "U": {
             "params": {
              "T": {
               "type": "ValueExpr"
              },
              "U": {
               "type": "ValueExpr"
              }
             },
             "type": "Abstraction"
            }
           },
           "type": "Abstraction"
          },
          "U": {
           "params": {
            "T": {
             "type": "ValueExpr"
            },
            "U": {
             "params": {
              "T": {
               "type": "ValueExpr"
              },
              "U": {
               "type": "ValueExpr"
              }
             },
             "type": "Abstraction"
            }
           },
           "type": "Abstraction"
          }
         }
        },
        {
         "args": [
          "4411108231796008082",
          "1493787513503289216"
         ],
         "function": "FunctionTwo.create",
         "id": "530514785344580576"
        },
        {
         "args": [
          "6514120424658836116",
          "530514785344580576"
         ],
         "function": "Abstraction.create",
         "id": "5802150023448027842",
         "type_params": {
          "T": {
           "params": {
            "T": {
             "type": "ValueExpr"
            },
            "U": {
             "type": "ValueExpr"
            },
            "V": {
             "type": "ValueExpr"
            }
           },
           "type": "FunctionTwo"
          },
          "U": {
           "params": {
            "T": {
             "type": "ValueExpr"
            },
            "U": {
             "type": "ValueExpr"
            },
            "V": {
             "type": "ValueExpr"
            }
           },
           "type": "FunctionTwo"
          }
         }
        },
        {
         "args": [
          "5802150023448027842",
          "7158786108132283610"
         ],
         "function": "Abstraction.__call__",
         "id": "2155654882475160500",
         "type_params": {
          "T": {
           "params": {
            "T": {
             "type": "ValueExpr"
            },
            "U": {
             "type": "ValueExpr"
            },
            "V": {
             "type": "ValueExpr"
            }
           },
           "type": "FunctionTwo"
          },
          "U": {
           "params": {
            "T": {
             "type": "ValueExpr"
            },
            "U": {
             "type": "ValueExpr"
            },
            "V": {
             "type": "ValueExpr"
            }
           },
           "type": "FunctionTwo"
          }
         }
        },
        {
         "args": [
          "2155654882475160500",
          "-7631835857354564485",
          "6956004343775093595"
         ],
         "function": "FunctionTwo.__call__",
         "id": "-5149191025746709477",
         "type_params": {
          "T": {
           "type": "ValueExpr"
          },
          "U": {
           "type": "ValueExpr"
          },
          "V": {
           "type": "ValueExpr"
          }
         }
        },
        {
         "args": [
          "-5149191025746709477",
          "-661909933896662603"
         ],
         "function": "ValueExpr.build",
         "id": "-73157610738168995"
        },
        {
         "args": [
          "-73157610738168995"
         ],
         "function": "Pair.right",
         "id": "-4142840725123320510",
         "type_params": {
          "T": {
           "type": "Value"
          },
          "U": {
           "params": {
            "T": {
             "type": "BlockRef"
            },
            "U": {
             "type": "Fn"
            }
           },
           "type": "Pair"
          }
         }
        },
        {
         "args": [
          "-4142840725123320510"
         ],
         "function": "Pair.right",
         "id": "7965098518794858063",
         "type_params": {
          "T": {
           "type": "BlockRef"
          },
          "U": {
           "type": "Fn"
          }
         }
        },
        {
         "args": [
          "-4142840725123320510"
         ],
         "function": "Pair.left",
         "id": "-4214878989520630409",
         "type_params": {
          "T": {
           "type": "BlockRef"
          },
          "U": {
           "type": "Fn"
          }
         }
        },
        {
         "args": [
          "-73157610738168995"
         ],
         "function": "Pair.left",
         "id": "6408061633880987162",
         "type_params": {
          "T": {
           "type": "Value"
          },
          "U": {
           "params": {
            "T": {
             "type": "BlockRef"
            },
            "U": {
             "type": "Fn"
            }
           },
           "type": "Pair"
          }
         }
        },
        {
         "args": [
          "-4214878989520630409",
          "6408061633880987162"
         ],
         "function": "BlockRef.ret",
         "id": "3458020882764008464"
        },
        {
         "args": [
          "7965098518794858063",
          "3458020882764008464"
         ],
         "function": "Fn.add_block",
         "id": "2394468203774690187"
        },
        {
         "args": [
          "2394468203774690187"
         ],
         "function": "from_llvm_fn_2",
         "id": "7807761735328416923"
        },
        {
         "args": [
          "7807761735328416923"
         ],
         "function": "to_llvm_fn_2",
         "id": "-2145214486051951224"
        },
        {
         "args": [
          "7737634984556270748",
          "-2145214486051951224"
         ],
         "function": "ModRef.mod",
         "id": "-3940970634945702698"
        },
        {
         "args": [
          "-2145214486051951224"
         ],
         "function": "Fn.ref",
         "id": "-8532186466427062385"
        },
        {
         "args": [
          "-3940970634945702698",
          "-8532186466427062385",
          "3983604008656577675"
         ],
         "function": "compile_function",
         "id": "7966896949344569149"
        },
        {
         "id": "-3397806987122599041",
         "repr": "0x7fd1284482b0",
         "type": "Variable"
        },
        {
         "args": [
          "-3397806987122599041"
         ],
         "function": "Abstraction.create_variable",
         "id": "1122483144377180453",
         "type_params": {
          "T": {
           "type": "ValueExpr"
          },
          "U": {
           "type": "ValueExpr"
          }
         }
        },
        {
         "args": [
          "6727543425053095289",
          "1122483144377180453"
         ],
         "function": "ValueExpr.__add__",
         "id": "3926228176407448488"
        },
        {
         "args": [
          "3926228176407448488",
          "4507850206849394183"
         ],
         "function": "ValueExpr.__add__",
         "id": "9138372312622019093"
        },
        {
         "args": [
          "1122483144377180453",
          "9138372312622019093"
         ],
         "function": "Abstraction.create",
         "id": "1741022987206963267",
         "type_params": {
          "T": {
           "type": "ValueExpr"
          },
          "U": {
           "type": "ValueExpr"
          }
         }
        },
        {
         "args": [
          "6727543425053095289",
          "1741022987206963267"
         ],
         "function": "Abstraction.create",
         "id": "-6027806351622463831",
         "type_params": {
          "T": {
           "type": "ValueExpr"
          },
          "U": {
           "params": {
            "T": {
             "type": "ValueExpr"
            },
            "U": {
             "type": "ValueExpr"
            }
           },
           "type": "Abstraction"
          }
         }
        },
        {
         "args": [
          "3348305646612022562",
          "-6027806351622463831"
         ],
         "function": "FunctionTwo.create",
         "id": "-4654836993552879075",
         "type_params": {
          "T": {
           "type": "ValueExpr"
          },
          "U": {
           "type": "ValueExpr"
          },
          "V": {
           "type": "ValueExpr"
          }
         }
        },
        {
         "args": [
          "-4654836993552879075"
         ],
         "function": "FunctionTwo.name",
         "id": "-3749534987486333184",
         "type_params": {
          "T": {
           "type": "ValueExpr"
          },
          "U": {
           "type": "ValueExpr"
          },
          "V": {
           "type": "ValueExpr"
          }
         }
        },
        {
         "args": [
          "-4654836993552879075"
         ],
         "function": "FunctionTwo.abstraction",
         "id": "7534631182645551147",
         "type_params": {
          "T": {
           "type": "ValueExpr"
          },
          "U": {
           "type": "ValueExpr"
          },
          "V": {
           "type": "ValueExpr"
          }
         }
        },
        {
         "args": [
          "7534631182645551147"
         ],
         "function": "Abstraction.unfix",
         "id": "7579531553845810293",
         "type_params": {
          "T": {
           "type": "ValueExpr"
          },
          "U": {
           "params": {
            "T": {
             "type": "ValueExpr"
            },
            "U": {
             "type": "ValueExpr"
            }
           },
           "type": "Abstraction"
          }
         }
        },
        {
         "args": [
          "7579531553845810293",
          "3005338591785643138"
         ],
         "function": "Abstraction.__call__",
         "id": "8148483303923428008",
         "type_params": {
          "T": {
           "params": {
            "T": {
             "type": "ValueExpr"
            },
            "U": {
             "params": {
              "T": {
               "type": "ValueExpr"
              },
              "U": {
               "type": "ValueExpr"
              }
             },
             "type": "Abstraction"
            }
           },
           "type": "Abstraction"
          },
          "U": {
           "params": {
            "T": {
             "type": "ValueExpr"
            },
            "U": {
             "params": {
              "T": {
               "type": "ValueExpr"
              },
              "U": {
               "type": "ValueExpr"
              }
             },
             "type": "Abstraction"
            }
           },
           "type": "Abstraction"
          }
         }
        },
        {
         "args": [
          "-3749534987486333184",
          "8148483303923428008"
         ],
         "function": "FunctionTwo.create",
         "id": "-5639264432086473855"
        },
        {
         "args": [
          "6514120424658836116",
          "-5639264432086473855"
         ],
         "function": "Abstraction.create",
         "id": "6623931643861127563",
         "type_params": {
          "T": {
           "params": {
            "T": {
             "type": "ValueExpr"
            },
            "U": {
             "type": "ValueExpr"
            },
            "V": {
             "type": "ValueExpr"
            }
           },
           "type": "FunctionTwo"
          },
          "U": {
           "params": {
            "T": {
             "type": "ValueExpr"
            },
            "U": {
             "type": "ValueExpr"
            },
            "V": {
             "type": "ValueExpr"
            }
           },
           "type": "FunctionTwo"
          }
         }
        },
        {
         "args": [
          "6623931643861127563",
          "7158786108132283610"
         ],
         "function": "Abstraction.__call__",
         "id": "3162330956127399489",
         "type_params": {
          "T": {
           "params": {
            "T": {
             "type": "ValueExpr"
            },
            "U": {
             "type": "ValueExpr"
            },
            "V": {
             "type": "ValueExpr"
            }
           },
           "type": "FunctionTwo"
          },
          "U": {
           "params": {
            "T": {
             "type": "ValueExpr"
            },
            "U": {
             "type": "ValueExpr"
            },
            "V": {
             "type": "ValueExpr"
            }
           },
           "type": "FunctionTwo"
          }
         }
        },
        {
         "args": [
          "3162330956127399489",
          "-7631835857354564485",
          "6956004343775093595"
         ],
         "function": "FunctionTwo.__call__",
         "id": "-986723389837103023",
         "type_params": {
          "T": {
           "type": "ValueExpr"
          },
          "U": {
           "type": "ValueExpr"
          },
          "V": {
           "type": "ValueExpr"
          }
         }
        },
        {
         "args": [
          "-986723389837103023",
          "-661909933896662603"
         ],
         "function": "ValueExpr.build",
         "id": "-7430047861409360763"
        },
        {
         "args": [
          "-7430047861409360763"
         ],
         "function": "Pair.right",
         "id": "-3081024207725147415",
         "type_params": {
          "T": {
           "type": "Value"
          },
          "U": {
           "params": {
            "T": {
             "type": "BlockRef"
            },
            "U": {
             "type": "Fn"
            }
           },
           "type": "Pair"
          }
         }
        },
        {
         "args": [
          "-3081024207725147415"
         ],
         "function": "Pair.right",
         "id": "-112948545223448414",
         "type_params": {
          "T": {
           "type": "BlockRef"
          },
          "U": {
           "type": "Fn"
          }
         }
        },
        {
         "args": [
          "-3081024207725147415"
         ],
         "function": "Pair.left",
         "id": "-7843444089296682950",
         "type_params": {
          "T": {
           "type": "BlockRef"
          },
          "U": {
           "type": "Fn"
          }
         }
        },
        {
         "args": [
          "-7430047861409360763"
         ],
         "function": "Pair.left",
         "id": "577630410496547521",
         "type_params": {
          "T": {
           "type": "Value"
          },
          "U": {
           "params": {
            "T": {
             "type": "BlockRef"
            },
            "U": {
             "type": "Fn"
            }
           },
           "type": "Pair"
          }
         }
        },
        {
         "args": [
          "-7843444089296682950",
          "577630410496547521"
         ],
         "function": "BlockRef.ret",
         "id": "-1866395895329967690"
        },
        {
         "args": [
          "-112948545223448414",
          "-1866395895329967690"
         ],
         "function": "Fn.add_block",
         "id": "-8954429250971572730"
        },
        {
         "args": [
          "-8954429250971572730"
         ],
         "function": "from_llvm_fn_2",
         "id": "5032476283771632584"
        },
        {
         "args": [
          "5032476283771632584"
         ],
         "function": "to_llvm_fn_2",
         "id": "3897506078488141052"
        },
        {
         "args": [
          "7737634984556270748",
          "3897506078488141052"
         ],
         "function": "ModRef.mod",
         "id": "-622909237838216735"
        },
        {
         "args": [
          "3897506078488141052"
         ],
         "function": "Fn.ref",
         "id": "-6102532877347257866"
        },
        {
         "args": [
          "-622909237838216735",
          "-6102532877347257866",
          "3983604008656577675"
         ],
         "function": "compile_function",
         "id": "-3546509266772998999"
        },
        {
         "args": [
          "7158786108132283610"
         ],
         "function": "FunctionTwo.abstraction",
         "id": "5480612078221392157",
         "type_params": {
          "T": {
           "type": "ValueExpr"
          },
          "U": {
           "type": "ValueExpr"
          },
          "V": {
           "type": "ValueExpr"
          }
         }
        },
        {
         "args": [
          "7579531553845810293",
          "5480612078221392157"
         ],
         "function": "Abstraction.__call__",
         "id": "-5464146005061363348",
         "type_params": {
          "T": {
           "params": {
            "T": {
             "type": "ValueExpr"
            },
            "U": {
             "params": {
              "T": {
               "type": "ValueExpr"
              },
              "U": {
               "type": "ValueExpr"
              }
             },
             "type": "Abstraction"
            }
           },
           "type": "Abstraction"
          },
          "U": {
           "params": {
            "T": {
             "type": "ValueExpr"
            },
            "U": {
             "params": {
              "T": {
               "type": "ValueExpr"
              },
              "U": {
               "type": "ValueExpr"
              }
             },
             "type": "Abstraction"
            }
           },
           "type": "Abstraction"
          }
         }
        },
        {
         "args": [
          "-3749534987486333184",
          "-5464146005061363348"
         ],
         "function": "FunctionTwo.create",
         "id": "1066651110225582254"
        },
        {
         "args": [
          "1066651110225582254",
          "-7631835857354564485",
          "6956004343775093595"
         ],
         "function": "FunctionTwo.__call__",
         "id": "640927729850224133",
         "type_params": {
          "T": {
           "type": "ValueExpr"
          },
          "U": {
           "type": "ValueExpr"
          },
          "V": {
           "type": "ValueExpr"
          }
         }
        },
        {
         "args": [
          "640927729850224133",
          "-661909933896662603"
         ],
         "function": "ValueExpr.build",
         "id": "-5144581455559328887"
        },
        {
         "args": [
          "-5144581455559328887"
         ],
         "function": "Pair.right",
         "id": "7937963993629656448",
         "type_params": {
          "T": {
           "type": "Value"
          },
          "U": {
           "params": {
            "T": {
             "type": "BlockRef"
            },
            "U": {
             "type": "Fn"
            }
           },
           "type": "Pair"
          }
         }
        },
        {
         "args": [
          "7937963993629656448"
         ],
         "function": "Pair.right",
         "id": "8832994672452343461",
         "type_params": {
          "T": {
           "type": "BlockRef"
          },
          "U": {
           "type": "Fn"
          }
         }
        },
        {
         "args": [
          "7937963993629656448"
         ],
         "function": "Pair.left",
         "id": "-337380098491331",
         "type_params": {
          "T": {
           "type": "BlockRef"
          },
          "U": {
           "type": "Fn"
          }
         }
        },
        {
         "args": [
          "-5144581455559328887"
         ],
         "function": "Pair.left",
         "id": "4956250075163253336",
         "type_params": {
          "T": {
           "type": "Value"
          },
          "U": {
           "params": {
            "T": {
             "type": "BlockRef"
            },
            "U": {
             "type": "Fn"
            }
           },
           "type": "Pair"
          }
         }
        },
        {
         "args": [
          "-337380098491331",
          "4956250075163253336"
         ],
         "function": "BlockRef.ret",
         "id": "-8942270312385385787"
        },
        {
         "args": [
          "8832994672452343461",
          "-8942270312385385787"
         ],
         "function": "Fn.add_block",
         "id": "-3718734564195961560"
        },
        {
         "args": [
          "-3718734564195961560"
         ],
         "function": "from_llvm_fn_2",
         "id": "-3436895831671257548"
        },
        {
         "args": [
          "-3436895831671257548"
         ],
         "function": "to_llvm_fn_2",
         "id": "1654689054709216049"
        },
        {
         "args": [
          "7737634984556270748",
          "1654689054709216049"
         ],
         "function": "ModRef.mod",
         "id": "262877307003434117"
        },
        {
         "args": [
          "1654689054709216049"
         ],
         "function": "Fn.ref",
         "id": "-189990884211433646"
        },
        {
         "args": [
          "262877307003434117",
          "-189990884211433646",
          "3983604008656577675"
         ],
         "function": "compile_function",
         "id": "7617988137339795027"
        },
        {
         "id": "6409224793933588893",
         "repr": "FunctionReplaceTyping(fn=<function two_abstraction.<locals>.<lambda>.<locals>.<lambda> at 0x7fd1409f6598>, typevars=HashableMapping(_items=()), typevars_in_scope=frozenset({~U, ~T}), inner_mapping=ReplaceTypevarsExpression(typevars=HashableMapping(_items=((~V, <class 'metadsl_llvm.ir_context.ValueExpr'>), (~U, <class 'metadsl_llvm.ir_context.ValueExpr'>), (~T, <class 'metadsl_llvm.ir_context.ValueExpr'>)))))",
         "type": "FunctionReplaceTyping"
        },
        {
         "args": [
          "6409224793933588893"
         ],
         "function": "Abstraction.from_fn",
         "id": "-3012032806233263487",
         "type_params": {
          "T": {
           "type": "ValueExpr"
          },
          "U": {
           "params": {
            "T": {
             "type": "ValueExpr"
            },
            "U": {
             "type": "ValueExpr"
            }
           },
           "type": "Abstraction"
          }
         }
        },
        {
         "args": [
          "7579531553845810293",
          "-3012032806233263487"
         ],
         "function": "Abstraction.__call__",
         "id": "-5755044017090751767",
         "type_params": {
          "T": {
           "params": {
            "T": {
             "type": "ValueExpr"
            },
            "U": {
             "params": {
              "T": {
               "type": "ValueExpr"
              },
              "U": {
               "type": "ValueExpr"
              }
             },
             "type": "Abstraction"
            }
           },
           "type": "Abstraction"
          },
          "U": {
           "params": {
            "T": {
             "type": "ValueExpr"
            },
            "U": {
             "params": {
              "T": {
               "type": "ValueExpr"
              },
              "U": {
               "type": "ValueExpr"
              }
             },
             "type": "Abstraction"
            }
           },
           "type": "Abstraction"
          }
         }
        },
        {
         "args": [
          "-3749534987486333184",
          "-5755044017090751767"
         ],
         "function": "FunctionTwo.create",
         "id": "528265207779864637"
        },
        {
         "args": [
          "528265207779864637",
          "-7631835857354564485",
          "6956004343775093595"
         ],
         "function": "FunctionTwo.__call__",
         "id": "-7027455692273984572",
         "type_params": {
          "T": {
           "type": "ValueExpr"
          },
          "U": {
           "type": "ValueExpr"
          },
          "V": {
           "type": "ValueExpr"
          }
         }
        },
        {
         "args": [
          "-7027455692273984572",
          "-661909933896662603"
         ],
         "function": "ValueExpr.build",
         "id": "5861818130669737365"
        },
        {
         "args": [
          "5861818130669737365"
         ],
         "function": "Pair.right",
         "id": "6178818591001304624",
         "type_params": {
          "T": {
           "type": "Value"
          },
          "U": {
           "params": {
            "T": {
             "type": "BlockRef"
            },
            "U": {
             "type": "Fn"
            }
           },
           "type": "Pair"
          }
         }
        },
        {
         "args": [
          "6178818591001304624"
         ],
         "function": "Pair.right",
         "id": "2158123191658111360",
         "type_params": {
          "T": {
           "type": "BlockRef"
          },
          "U": {
           "type": "Fn"
          }
         }
        },
        {
         "args": [
          "6178818591001304624"
         ],
         "function": "Pair.left",
         "id": "-2519559087368444328",
         "type_params": {
          "T": {
           "type": "BlockRef"
          },
          "U": {
           "type": "Fn"
          }
         }
        },
        {
         "args": [
          "5861818130669737365"
         ],
         "function": "Pair.left",
         "id": "-564990607155914040",
         "type_params": {
          "T": {
           "type": "Value"
          },
          "U": {
           "params": {
            "T": {
             "type": "BlockRef"
            },
            "U": {
             "type": "Fn"
            }
           },
           "type": "Pair"
          }
         }
        },
        {
         "args": [
          "-2519559087368444328",
          "-564990607155914040"
         ],
         "function": "BlockRef.ret",
         "id": "2855389638137565365"
        },
        {
         "args": [
          "2158123191658111360",
          "2855389638137565365"
         ],
         "function": "Fn.add_block",
         "id": "-2796094521105922236"
        },
        {
         "args": [
          "-2796094521105922236"
         ],
         "function": "from_llvm_fn_2",
         "id": "-5129760704035639416"
        },
        {
         "args": [
          "-5129760704035639416"
         ],
         "function": "to_llvm_fn_2",
         "id": "1853180522127820288"
        },
        {
         "args": [
          "7737634984556270748",
          "1853180522127820288"
         ],
         "function": "ModRef.mod",
         "id": "-7902658656302441842"
        },
        {
         "args": [
          "1853180522127820288"
         ],
         "function": "Fn.ref",
         "id": "-800672880610477385"
        },
        {
         "args": [
          "-7902658656302441842",
          "-800672880610477385",
          "3983604008656577675"
         ],
         "function": "compile_function",
         "id": "6342241498368032744"
        },
        {
         "args": [
          "7737634984556270748",
          "3348305646612022562",
          "2869849078853932976",
          "-4379724003781273686"
         ],
         "function": "ModRef.fn",
         "id": "-5972067394669943981"
        },
        {
         "args": [
          "-5972067394669943981"
         ],
         "function": "FnRef.arguments",
         "id": "5858671793544937660"
        },
        {
         "args": [
          "5858671793544937660",
          "7019033112043945449"
         ],
         "function": "Vec.__getitem__",
         "id": "4333331905335620460",
         "type_params": {
          "T": {
           "type": "Value"
          }
         }
        },
        {
         "args": [
          "4333331905335620460"
         ],
         "function": "ValueExpr.from_value",
         "id": "-4683086075128235159"
        },
        {
         "args": [
          "5858671793544937660",
          "7427462424716739544"
         ],
         "function": "Vec.__getitem__",
         "id": "-2922765011559039867",
         "type_params": {
          "T": {
           "type": "Value"
          }
         }
        },
        {
         "args": [
          "-2922765011559039867"
         ],
         "function": "ValueExpr.from_value",
         "id": "-3752576409427754660"
        },
        {
         "args": [
          "528265207779864637",
          "-4683086075128235159",
          "-3752576409427754660"
         ],
         "function": "FunctionTwo.__call__",
         "id": "-2378176690179534944",
         "type_params": {
          "T": {
           "type": "ValueExpr"
          },
          "U": {
           "type": "ValueExpr"
          },
          "V": {
           "type": "ValueExpr"
          }
         }
        },
        {
         "args": [
          "-5972067394669943981",
          "3989267796447890075",
          "3959146490344299550",
          "-8690275497361632339"
         ],
         "function": "FnRef._block",
         "id": "7202929541196607406"
        },
        {
         "args": [
          "-5972067394669943981"
         ],
         "function": "FnRef.fn",
         "id": "-717349301858400982"
        },
        {
         "args": [
          "7202929541196607406",
          "-717349301858400982"
         ],
         "function": "Pair.create",
         "id": "-4065451665956858012"
        },
        {
         "args": [
          "-2378176690179534944",
          "-4065451665956858012"
         ],
         "function": "ValueExpr.build",
         "id": "6625321005384520605"
        },
        {
         "args": [
          "6625321005384520605"
         ],
         "function": "Pair.right",
         "id": "1453546958369864696",
         "type_params": {
          "T": {
           "type": "Value"
          },
          "U": {
           "params": {
            "T": {
             "type": "BlockRef"
            },
            "U": {
             "type": "Fn"
            }
           },
           "type": "Pair"
          }
         }
        },
        {
         "args": [
          "1453546958369864696"
         ],
         "function": "Pair.right",
         "id": "-8013128092778332974",
         "type_params": {
          "T": {
           "type": "BlockRef"
          },
          "U": {
           "type": "Fn"
          }
         }
        },
        {
         "args": [
          "1453546958369864696"
         ],
         "function": "Pair.left",
         "id": "180216029481785194",
         "type_params": {
          "T": {
           "type": "BlockRef"
          },
          "U": {
           "type": "Fn"
          }
         }
        },
        {
         "args": [
          "6625321005384520605"
         ],
         "function": "Pair.left",
         "id": "260379505138708320",
         "type_params": {
          "T": {
           "type": "Value"
          },
          "U": {
           "params": {
            "T": {
             "type": "BlockRef"
            },
            "U": {
             "type": "Fn"
            }
           },
           "type": "Pair"
          }
         }
        },
        {
         "args": [
          "180216029481785194",
          "260379505138708320"
         ],
         "function": "BlockRef.ret",
         "id": "5400146835505061040"
        },
        {
         "args": [
          "-8013128092778332974",
          "5400146835505061040"
         ],
         "function": "Fn.add_block",
         "id": "-3996870679931191309"
        },
        {
         "args": [
          "-3996870679931191309"
         ],
         "function": "from_llvm_fn_2",
         "id": "-1969010839165799795"
        },
        {
         "args": [
          "-1969010839165799795"
         ],
         "function": "to_llvm_fn_2",
         "id": "3570132159359459967"
        },
        {
         "args": [
          "7737634984556270748",
          "3570132159359459967"
         ],
         "function": "ModRef.mod",
         "id": "7545265147135709198"
        },
        {
         "args": [
          "3570132159359459967"
         ],
         "function": "Fn.ref",
         "id": "-852978651280272841"
        },
        {
         "args": [
          "7545265147135709198",
          "-852978651280272841",
          "3983604008656577675"
         ],
         "function": "compile_function",
         "id": "-5436555261776426862"
        },
        {
         "id": "-3125117625760516937",
         "repr": "FunctionReplaceTyping(fn=<function two_abstraction.<locals>.<lambda>.<locals>.<lambda> at 0x7fd1481f6b70>, typevars=HashableMapping(_items=()), typevars_in_scope=frozenset({~U, ~T}), inner_mapping=ReplaceTypevarsExpression(typevars=HashableMapping(_items=((~V, <class 'metadsl_llvm.ir_context.ValueExpr'>), (~U, <class 'metadsl_llvm.ir_context.ValueExpr'>), (~T, <class 'metadsl_llvm.ir_context.ValueExpr'>)))))",
         "type": "FunctionReplaceTyping"
        },
        {
         "args": [
          "-3125117625760516937"
         ],
         "function": "Abstraction.from_fn",
         "id": "-5847226367818111372",
         "type_params": {
          "T": {
           "type": "ValueExpr"
          },
          "U": {
           "params": {
            "T": {
             "type": "ValueExpr"
            },
            "U": {
             "type": "ValueExpr"
            }
           },
           "type": "Abstraction"
          }
         }
        },
        {
         "args": [
          "-5847226367818111372"
         ],
         "function": "Abstraction.unfix",
         "id": "1034319021750865849",
         "type_params": {
          "T": {
           "type": "ValueExpr"
          },
          "U": {
           "params": {
            "T": {
             "type": "ValueExpr"
            },
            "U": {
             "type": "ValueExpr"
            }
           },
           "type": "Abstraction"
          }
         }
        },
        {
         "args": [
          "1034319021750865849",
          "-3012032806233263487"
         ],
         "function": "Abstraction.__call__",
         "id": "7335336516901228328",
         "type_params": {
          "T": {
           "params": {
            "T": {
             "type": "ValueExpr"
            },
            "U": {
             "params": {
              "T": {
               "type": "ValueExpr"
              },
              "U": {
               "type": "ValueExpr"
              }
             },
             "type": "Abstraction"
            }
           },
           "type": "Abstraction"
          },
          "U": {
           "params": {
            "T": {
             "type": "ValueExpr"
            },
            "U": {
             "params": {
              "T": {
               "type": "ValueExpr"
              },
              "U": {
               "type": "ValueExpr"
              }
             },
             "type": "Abstraction"
            }
           },
           "type": "Abstraction"
          }
         }
        },
        {
         "args": [
          "-3749534987486333184",
          "7335336516901228328"
         ],
         "function": "FunctionTwo.create",
         "id": "-7312116049391954687"
        },
        {
         "args": [
          "-7312116049391954687",
          "-4683086075128235159",
          "-3752576409427754660"
         ],
         "function": "FunctionTwo.__call__",
         "id": "2069680562777730381",
         "type_params": {
          "T": {
           "type": "ValueExpr"
          },
          "U": {
           "type": "ValueExpr"
          },
          "V": {
           "type": "ValueExpr"
          }
         }
        },
        {
         "args": [
          "2069680562777730381",
          "-4065451665956858012"
         ],
         "function": "ValueExpr.build",
         "id": "-1305842727538301253"
        },
        {
         "args": [
          "-1305842727538301253"
         ],
         "function": "Pair.right",
         "id": "6677857233932114052",
         "type_params": {
          "T": {
           "type": "Value"
          },
          "U": {
           "params": {
            "T": {
             "type": "BlockRef"
            },
            "U": {
             "type": "Fn"
            }
           },
           "type": "Pair"
          }
         }
        },
        {
         "args": [
          "6677857233932114052"
         ],
         "function": "Pair.right",
         "id": "3385920276766816372",
         "type_params": {
          "T": {
           "type": "BlockRef"
          },
          "U": {
           "type": "Fn"
          }
         }
        },
        {
         "args": [
          "6677857233932114052"
         ],
         "function": "Pair.left",
         "id": "5697483288282209436",
         "type_params": {
          "T": {
           "type": "BlockRef"
          },
          "U": {
           "type": "Fn"
          }
         }
        },
        {
         "args": [
          "-1305842727538301253"
         ],
         "function": "Pair.left",
         "id": "2486849850941834668",
         "type_params": {
          "T": {
           "type": "Value"
          },
          "U": {
           "params": {
            "T": {
             "type": "BlockRef"
            },
            "U": {
             "type": "Fn"
            }
           },
           "type": "Pair"
          }
         }
        },
        {
         "args": [
          "5697483288282209436",
          "2486849850941834668"
         ],
         "function": "BlockRef.ret",
         "id": "-1668135991481814313"
        },
        {
         "args": [
          "3385920276766816372",
          "-1668135991481814313"
         ],
         "function": "Fn.add_block",
         "id": "7575370902642363774"
        },
        {
         "args": [
          "7575370902642363774"
         ],
         "function": "from_llvm_fn_2",
         "id": "-3126147711798476350"
        },
        {
         "args": [
          "-3126147711798476350"
         ],
         "function": "to_llvm_fn_2",
         "id": "9114109295537532363"
        },
        {
         "args": [
          "7737634984556270748",
          "9114109295537532363"
         ],
         "function": "ModRef.mod",
         "id": "-4859223100401517744"
        },
        {
         "args": [
          "9114109295537532363"
         ],
         "function": "Fn.ref",
         "id": "1977496874811261041"
        },
        {
         "args": [
          "-4859223100401517744",
          "1977496874811261041",
          "3983604008656577675"
         ],
         "function": "compile_function",
         "id": "2535935791166963605"
        },
        {
         "args": [
          "3348305646612022562",
          "7335336516901228328"
         ],
         "function": "FunctionTwo.create",
         "id": "-4485136313648712091"
        },
        {
         "args": [
          "-4485136313648712091",
          "-4683086075128235159",
          "-3752576409427754660"
         ],
         "function": "FunctionTwo.__call__",
         "id": "-7470368266367247577",
         "type_params": {
          "T": {
           "type": "ValueExpr"
          },
          "U": {
           "type": "ValueExpr"
          },
          "V": {
           "type": "ValueExpr"
          }
         }
        },
        {
         "args": [
          "-7470368266367247577",
          "-4065451665956858012"
         ],
         "function": "ValueExpr.build",
         "id": "-1571739377388855326"
        },
        {
         "args": [
          "-1571739377388855326"
         ],
         "function": "Pair.right",
         "id": "-4784455425881662967",
         "type_params": {
          "T": {
           "type": "Value"
          },
          "U": {
           "params": {
            "T": {
             "type": "BlockRef"
            },
            "U": {
             "type": "Fn"
            }
           },
           "type": "Pair"
          }
         }
        },
        {
         "args": [
          "-4784455425881662967"
         ],
         "function": "Pair.right",
         "id": "-2253044619020365063",
         "type_params": {
          "T": {
           "type": "BlockRef"
          },
          "U": {
           "type": "Fn"
          }
         }
        },
        {
         "args": [
          "-4784455425881662967"
         ],
         "function": "Pair.left",
         "id": "6366561551592361873",
         "type_params": {
          "T": {
           "type": "BlockRef"
          },
          "U": {
           "type": "Fn"
          }
         }
        },
        {
         "args": [
          "-1571739377388855326"
         ],
         "function": "Pair.left",
         "id": "2035463343903044513",
         "type_params": {
          "T": {
           "type": "Value"
          },
          "U": {
           "params": {
            "T": {
             "type": "BlockRef"
            },
            "U": {
             "type": "Fn"
            }
           },
           "type": "Pair"
          }
         }
        },
        {
         "args": [
          "6366561551592361873",
          "2035463343903044513"
         ],
         "function": "BlockRef.ret",
         "id": "-8075658880748919742"
        },
        {
         "args": [
          "-2253044619020365063",
          "-8075658880748919742"
         ],
         "function": "Fn.add_block",
         "id": "-6328622939963985734"
        },
        {
         "args": [
          "-6328622939963985734"
         ],
         "function": "from_llvm_fn_2",
         "id": "-3752124909947294817"
        },
        {
         "args": [
          "-3752124909947294817"
         ],
         "function": "to_llvm_fn_2",
         "id": "6670948452368875144"
        },
        {
         "args": [
          "7737634984556270748",
          "6670948452368875144"
         ],
         "function": "ModRef.mod",
         "id": "7187295115427585084"
        },
        {
         "args": [
          "6670948452368875144"
         ],
         "function": "Fn.ref",
         "id": "-1807645260662765291"
        },
        {
         "args": [
          "7187295115427585084",
          "-1807645260662765291",
          "3983604008656577675"
         ],
         "function": "compile_function",
         "id": "2539891804383287550"
        },
        {
         "args": [
          "7335336516901228328",
          "-4683086075128235159"
         ],
         "function": "Abstraction.__call__",
         "id": "-5885498320736108042",
         "type_params": {
          "T": {
           "type": "ValueExpr"
          },
          "U": {
           "params": {
            "T": {
             "type": "ValueExpr"
            },
            "U": {
             "type": "ValueExpr"
            }
           },
           "type": "Abstraction"
          }
         }
        },
        {
         "args": [
          "-5885498320736108042",
          "-3752576409427754660"
         ],
         "function": "Abstraction.__call__",
         "id": "7843804536529208076",
         "type_params": {
          "T": {
           "type": "ValueExpr"
          },
          "U": {
           "type": "ValueExpr"
          }
         }
        },
        {
         "args": [
          "7843804536529208076",
          "-4065451665956858012"
         ],
         "function": "ValueExpr.build",
         "id": "176784402112394637"
        },
        {
         "args": [
          "176784402112394637"
         ],
         "function": "Pair.right",
         "id": "-7362265365811902638",
         "type_params": {
          "T": {
           "type": "Value"
          },
          "U": {
           "params": {
            "T": {
             "type": "BlockRef"
            },
            "U": {
             "type": "Fn"
            }
           },
           "type": "Pair"
          }
         }
        },
        {
         "args": [
          "-7362265365811902638"
         ],
         "function": "Pair.right",
         "id": "6847741963945455105",
         "type_params": {
          "T": {
           "type": "BlockRef"
          },
          "U": {
           "type": "Fn"
          }
         }
        },
        {
         "args": [
          "-7362265365811902638"
         ],
         "function": "Pair.left",
         "id": "-6313113703812492759",
         "type_params": {
          "T": {
           "type": "BlockRef"
          },
          "U": {
           "type": "Fn"
          }
         }
        },
        {
         "args": [
          "176784402112394637"
         ],
         "function": "Pair.left",
         "id": "3079644327226830058",
         "type_params": {
          "T": {
           "type": "Value"
          },
          "U": {
           "params": {
            "T": {
             "type": "BlockRef"
            },
            "U": {
             "type": "Fn"
            }
           },
           "type": "Pair"
          }
         }
        },
        {
         "args": [
          "-6313113703812492759",
          "3079644327226830058"
         ],
         "function": "BlockRef.ret",
         "id": "4897124264484385168"
        },
        {
         "args": [
          "6847741963945455105",
          "4897124264484385168"
         ],
         "function": "Fn.add_block",
         "id": "-1099910241772594241"
        },
        {
         "args": [
          "-1099910241772594241"
         ],
         "function": "from_llvm_fn_2",
         "id": "2583077542327486140"
        },
        {
         "args": [
          "2583077542327486140"
         ],
         "function": "to_llvm_fn_2",
         "id": "-3659429997097966193"
        },
        {
         "args": [
          "7737634984556270748",
          "-3659429997097966193"
         ],
         "function": "ModRef.mod",
         "id": "8027899249664449680"
        },
        {
         "args": [
          "-3659429997097966193"
         ],
         "function": "Fn.ref",
         "id": "-1407950773412482895"
        },
        {
         "args": [
          "8027899249664449680",
          "-1407950773412482895",
          "3983604008656577675"
         ],
         "function": "compile_function",
         "id": "-3170056907591969106"
        },
        {
         "id": "5825565073216474117",
         "repr": "0x7fd1284336d8",
         "type": "Variable"
        },
        {
         "args": [
          "5825565073216474117"
         ],
         "function": "Abstraction.create_variable",
         "id": "-5590154333038613327",
         "type_params": {
          "T": {
           "type": "ValueExpr"
          },
          "U": {
           "params": {
            "T": {
             "type": "ValueExpr"
            },
            "U": {
             "type": "ValueExpr"
            }
           },
           "type": "Abstraction"
          }
         }
        },
        {
         "id": "2578949628625098507",
         "repr": "FunctionReplaceTyping(fn=<function two_abstraction.<locals>.<lambda>.<locals>.<lambda>.<locals>.<lambda> at 0x7fd128356730>, typevars=HashableMapping(_items=()), typevars_in_scope=frozenset({~U, ~T}), inner_mapping=ReplaceTypevarsExpression(typevars=HashableMapping(_items=((~V, <class 'metadsl_llvm.ir_context.ValueExpr'>), (~U, <class 'metadsl_llvm.ir_context.ValueExpr'>), (~T, <class 'metadsl_llvm.ir_context.ValueExpr'>)))))",
         "type": "FunctionReplaceTyping"
        },
        {
         "args": [
          "2578949628625098507"
         ],
         "function": "Abstraction.from_fn",
         "id": "-1191859748532005657",
         "type_params": {
          "T": {
           "type": "ValueExpr"
          },
          "U": {
           "type": "ValueExpr"
          }
         }
        },
        {
         "args": [
          "-5590154333038613327",
          "-1191859748532005657"
         ],
         "function": "Abstraction.create",
         "id": "565518086064889121",
         "type_params": {
          "T": {
           "type": "ValueExpr"
          },
          "U": {
           "params": {
            "T": {
             "type": "ValueExpr"
            },
            "U": {
             "type": "ValueExpr"
            }
           },
           "type": "Abstraction"
          }
         }
        },
        {
         "args": [
          "1034319021750865849",
          "565518086064889121"
         ],
         "function": "Abstraction.__call__",
         "id": "-7752898630170675953",
         "type_params": {
          "T": {
           "params": {
            "T": {
             "type": "ValueExpr"
            },
            "U": {
             "params": {
              "T": {
               "type": "ValueExpr"
              },
              "U": {
               "type": "ValueExpr"
              }
             },
             "type": "Abstraction"
            }
           },
           "type": "Abstraction"
          },
          "U": {
           "params": {
            "T": {
             "type": "ValueExpr"
            },
            "U": {
             "params": {
              "T": {
               "type": "ValueExpr"
              },
              "U": {
               "type": "ValueExpr"
              }
             },
             "type": "Abstraction"
            }
           },
           "type": "Abstraction"
          }
         }
        },
        {
         "args": [
          "-7752898630170675953",
          "-4683086075128235159"
         ],
         "function": "Abstraction.__call__",
         "id": "-1517973065554144475",
         "type_params": {
          "T": {
           "type": "ValueExpr"
          },
          "U": {
           "params": {
            "T": {
             "type": "ValueExpr"
            },
            "U": {
             "type": "ValueExpr"
            }
           },
           "type": "Abstraction"
          }
         }
        },
        {
         "args": [
          "-1517973065554144475",
          "-3752576409427754660"
         ],
         "function": "Abstraction.__call__",
         "id": "2804806191110374877",
         "type_params": {
          "T": {
           "type": "ValueExpr"
          },
          "U": {
           "type": "ValueExpr"
          }
         }
        },
        {
         "args": [
          "2804806191110374877",
          "-4065451665956858012"
         ],
         "function": "ValueExpr.build",
         "id": "-8020786401247304844"
        },
        {
         "args": [
          "-8020786401247304844"
         ],
         "function": "Pair.right",
         "id": "20142412656036326",
         "type_params": {
          "T": {
           "type": "Value"
          },
          "U": {
           "params": {
            "T": {
             "type": "BlockRef"
            },
            "U": {
             "type": "Fn"
            }
           },
           "type": "Pair"
          }
         }
        },
        {
         "args": [
          "20142412656036326"
         ],
         "function": "Pair.right",
         "id": "-1640604161251518636",
         "type_params": {
          "T": {
           "type": "BlockRef"
          },
          "U": {
           "type": "Fn"
          }
         }
        },
        {
         "args": [
          "20142412656036326"
         ],
         "function": "Pair.left",
         "id": "7615858313907965884",
         "type_params": {
          "T": {
           "type": "BlockRef"
          },
          "U": {
           "type": "Fn"
          }
         }
        },
        {
         "args": [
          "-8020786401247304844"
         ],
         "function": "Pair.left",
         "id": "-7878458851860244722",
         "type_params": {
          "T": {
           "type": "Value"
          },
          "U": {
           "params": {
            "T": {
             "type": "BlockRef"
            },
            "U": {
             "type": "Fn"
            }
           },
           "type": "Pair"
          }
         }
        },
        {
         "args": [
          "7615858313907965884",
          "-7878458851860244722"
         ],
         "function": "BlockRef.ret",
         "id": "-5842327794186231528"
        },
        {
         "args": [
          "-1640604161251518636",
          "-5842327794186231528"
         ],
         "function": "Fn.add_block",
         "id": "9024432279319854728"
        },
        {
         "args": [
          "9024432279319854728"
         ],
         "function": "from_llvm_fn_2",
         "id": "-2963643012404369504"
        },
        {
         "args": [
          "-2963643012404369504"
         ],
         "function": "to_llvm_fn_2",
         "id": "-2511346711505392075"
        },
        {
         "args": [
          "7737634984556270748",
          "-2511346711505392075"
         ],
         "function": "ModRef.mod",
         "id": "1982426774454090834"
        },
        {
         "args": [
          "-2511346711505392075"
         ],
         "function": "Fn.ref",
         "id": "3313296339964725459"
        },
        {
         "args": [
          "1982426774454090834",
          "3313296339964725459",
          "3983604008656577675"
         ],
         "function": "compile_function",
         "id": "-6110972130824645524"
        },
        {
         "id": "-3397698129822376691",
         "repr": "0x7fd188621c50",
         "type": "Variable"
        },
        {
         "args": [
          "-3397698129822376691"
         ],
         "function": "Abstraction.create_variable",
         "id": "4465176100420276415",
         "type_params": {
          "T": {
           "type": "ValueExpr"
          },
          "U": {
           "type": "ValueExpr"
          }
         }
        },
        {
         "args": [
          "-717349301858400982"
         ],
         "function": "from_llvm_fn_2",
         "id": "5790177274379634933"
        },
        {
         "args": [
          "5790177274379634933",
          "-5590154333038613327",
          "4465176100420276415"
         ],
         "function": "FunctionTwo.__call__",
         "id": "-6256165193242417441",
         "type_params": {
          "T": {
           "type": "ValueExpr"
          },
          "U": {
           "type": "ValueExpr"
          },
          "V": {
           "type": "ValueExpr"
          }
         }
        },
        {
         "args": [
          "4465176100420276415",
          "-6256165193242417441"
         ],
         "function": "Abstraction.create",
         "id": "-3441502513751245743",
         "type_params": {
          "T": {
           "type": "ValueExpr"
          },
          "U": {
           "type": "ValueExpr"
          }
         }
        },
        {
         "args": [
          "-5590154333038613327",
          "-3441502513751245743"
         ],
         "function": "Abstraction.create",
         "id": "-92889879331094320",
         "type_params": {
          "T": {
           "type": "ValueExpr"
          },
          "U": {
           "params": {
            "T": {
             "type": "ValueExpr"
            },
            "U": {
             "type": "ValueExpr"
            }
           },
           "type": "Abstraction"
          }
         }
        },
        {
         "args": [
          "1034319021750865849",
          "-92889879331094320"
         ],
         "function": "Abstraction.__call__",
         "id": "1396477627836612984",
         "type_params": {
          "T": {
           "params": {
            "T": {
             "type": "ValueExpr"
            },
            "U": {
             "params": {
              "T": {
               "type": "ValueExpr"
              },
              "U": {
               "type": "ValueExpr"
              }
             },
             "type": "Abstraction"
            }
           },
           "type": "Abstraction"
          },
          "U": {
           "params": {
            "T": {
             "type": "ValueExpr"
            },
            "U": {
             "params": {
              "T": {
               "type": "ValueExpr"
              },
              "U": {
               "type": "ValueExpr"
              }
             },
             "type": "Abstraction"
            }
           },
           "type": "Abstraction"
          }
         }
        },
        {
         "args": [
          "1396477627836612984",
          "-4683086075128235159"
         ],
         "function": "Abstraction.__call__",
         "id": "-7808506497653604927",
         "type_params": {
          "T": {
           "type": "ValueExpr"
          },
          "U": {
           "params": {
            "T": {
             "type": "ValueExpr"
            },
            "U": {
             "type": "ValueExpr"
            }
           },
           "type": "Abstraction"
          }
         }
        },
        {
         "args": [
          "-7808506497653604927",
          "-3752576409427754660"
         ],
         "function": "Abstraction.__call__",
         "id": "4715944247026962314",
         "type_params": {
          "T": {
           "type": "ValueExpr"
          },
          "U": {
           "type": "ValueExpr"
          }
         }
        },
        {
         "args": [
          "4715944247026962314",
          "-4065451665956858012"
         ],
         "function": "ValueExpr.build",
         "id": "-3794451756615917510"
        },
        {
         "args": [
          "-3794451756615917510"
         ],
         "function": "Pair.right",
         "id": "1218325988274839310",
         "type_params": {
          "T": {
           "type": "Value"
          },
          "U": {
           "params": {
            "T": {
             "type": "BlockRef"
            },
            "U": {
             "type": "Fn"
            }
           },
           "type": "Pair"
          }
         }
        },
        {
         "args": [
          "1218325988274839310"
         ],
         "function": "Pair.right",
         "id": "7323013516100186780",
         "type_params": {
          "T": {
           "type": "BlockRef"
          },
          "U": {
           "type": "Fn"
          }
         }
        },
        {
         "args": [
          "1218325988274839310"
         ],
         "function": "Pair.left",
         "id": "-2668752165555573132",
         "type_params": {
          "T": {
           "type": "BlockRef"
          },
          "U": {
           "type": "Fn"
          }
         }
        },
        {
         "args": [
          "-3794451756615917510"
         ],
         "function": "Pair.left",
         "id": "7680996150104113638",
         "type_params": {
          "T": {
           "type": "Value"
          },
          "U": {
           "params": {
            "T": {
             "type": "BlockRef"
            },
            "U": {
             "type": "Fn"
            }
           },
           "type": "Pair"
          }
         }
        },
        {
         "args": [
          "-2668752165555573132",
          "7680996150104113638"
         ],
         "function": "BlockRef.ret",
         "id": "1870389746243436490"
        },
        {
         "args": [
          "7323013516100186780",
          "1870389746243436490"
         ],
         "function": "Fn.add_block",
         "id": "5043871794221285499"
        },
        {
         "args": [
          "5043871794221285499"
         ],
         "function": "from_llvm_fn_2",
         "id": "-2989366411197774730"
        },
        {
         "args": [
          "-2989366411197774730"
         ],
         "function": "to_llvm_fn_2",
         "id": "4755341404849693943"
        },
        {
         "args": [
          "7737634984556270748",
          "4755341404849693943"
         ],
         "function": "ModRef.mod",
         "id": "3781727979300489357"
        },
        {
         "args": [
          "4755341404849693943"
         ],
         "function": "Fn.ref",
         "id": "-6145974075468494102"
        },
        {
         "args": [
          "3781727979300489357",
          "-6145974075468494102",
          "3983604008656577675"
         ],
         "function": "compile_function",
         "id": "-7916665443624704244"
        },
        {
         "id": "-3397788714284628291",
         "repr": "0x7fd1382f7550",
         "type": "Variable"
        },
        {
         "args": [
          "-3397788714284628291"
         ],
         "function": "Abstraction.create_variable",
         "id": "-1384358140491578786",
         "type_params": {
          "T": {
           "type": "ValueExpr"
          },
          "U": {
           "params": {
            "T": {
             "type": "ValueExpr"
            },
            "U": {
             "type": "ValueExpr"
            }
           },
           "type": "Abstraction"
          }
         }
        },
        {
         "id": "-1986903505289441525",
         "repr": "FunctionReplaceTyping(fn=<function two_abstraction.<locals>.<lambda>.<locals>.<lambda>.<locals>.<lambda> at 0x7fd1788fe730>, typevars=HashableMapping(_items=()), typevars_in_scope=frozenset({~U, ~T}), inner_mapping=ReplaceTypevarsExpression(typevars=HashableMapping(_items=((~V, <class 'metadsl_llvm.ir_context.ValueExpr'>), (~U, <class 'metadsl_llvm.ir_context.ValueExpr'>), (~T, <class 'metadsl_llvm.ir_context.ValueExpr'>)))))",
         "type": "FunctionReplaceTyping"
        },
        {
         "args": [
          "-1986903505289441525"
         ],
         "function": "Abstraction.from_fn",
         "id": "-8649801860423388964",
         "type_params": {
          "T": {
           "type": "ValueExpr"
          },
          "U": {
           "type": "ValueExpr"
          }
         }
        },
        {
         "args": [
          "-1384358140491578786",
          "-8649801860423388964"
         ],
         "function": "Abstraction.create",
         "id": "6231741392410328606",
         "type_params": {
          "T": {
           "type": "ValueExpr"
          },
          "U": {
           "params": {
            "T": {
             "type": "ValueExpr"
            },
            "U": {
             "type": "ValueExpr"
            }
           },
           "type": "Abstraction"
          }
         }
        },
        {
         "args": [
          "6231741392410328606"
         ],
         "function": "Abstraction.unfix",
         "id": "7756390336345523107",
         "type_params": {
          "T": {
           "type": "ValueExpr"
          },
          "U": {
           "params": {
            "T": {
             "type": "ValueExpr"
            },
            "U": {
             "type": "ValueExpr"
            }
           },
           "type": "Abstraction"
          }
         }
        },
        {
         "args": [
          "7756390336345523107",
          "-92889879331094320"
         ],
         "function": "Abstraction.__call__",
         "id": "-2930153112720583849",
         "type_params": {
          "T": {
           "params": {
            "T": {
             "type": "ValueExpr"
            },
            "U": {
             "params": {
              "T": {
               "type": "ValueExpr"
              },
              "U": {
               "type": "ValueExpr"
              }
             },
             "type": "Abstraction"
            }
           },
           "type": "Abstraction"
          },
          "U": {
           "params": {
            "T": {
             "type": "ValueExpr"
            },
            "U": {
             "params": {
              "T": {
               "type": "ValueExpr"
              },
              "U": {
               "type": "ValueExpr"
              }
             },
             "type": "Abstraction"
            }
           },
           "type": "Abstraction"
          }
         }
        },
        {
         "args": [
          "-2930153112720583849",
          "-4683086075128235159"
         ],
         "function": "Abstraction.__call__",
         "id": "-418106067443167885",
         "type_params": {
          "T": {
           "type": "ValueExpr"
          },
          "U": {
           "params": {
            "T": {
             "type": "ValueExpr"
            },
            "U": {
             "type": "ValueExpr"
            }
           },
           "type": "Abstraction"
          }
         }
        },
        {
         "args": [
          "-418106067443167885",
          "-3752576409427754660"
         ],
         "function": "Abstraction.__call__",
         "id": "-883300402849840761",
         "type_params": {
          "T": {
           "type": "ValueExpr"
          },
          "U": {
           "type": "ValueExpr"
          }
         }
        },
        {
         "args": [
          "-883300402849840761",
          "-4065451665956858012"
         ],
         "function": "ValueExpr.build",
         "id": "-2901092961931384939"
        },
        {
         "args": [
          "-2901092961931384939"
         ],
         "function": "Pair.right",
         "id": "-8623475676546995737",
         "type_params": {
          "T": {
           "type": "Value"
          },
          "U": {
           "params": {
            "T": {
             "type": "BlockRef"
            },
            "U": {
             "type": "Fn"
            }
           },
           "type": "Pair"
          }
         }
        },
        {
         "args": [
          "-8623475676546995737"
         ],
         "function": "Pair.right",
         "id": "8637791207124864350",
         "type_params": {
          "T": {
           "type": "BlockRef"
          },
          "U": {
           "type": "Fn"
          }
         }
        },
        {
         "args": [
          "-8623475676546995737"
         ],
         "function": "Pair.left",
         "id": "-6792490223803315402",
         "type_params": {
          "T": {
           "type": "BlockRef"
          },
          "U": {
           "type": "Fn"
          }
         }
        },
        {
         "args": [
          "-2901092961931384939"
         ],
         "function": "Pair.left",
         "id": "6473951850161232575",
         "type_params": {
          "T": {
           "type": "Value"
          },
          "U": {
           "params": {
            "T": {
             "type": "BlockRef"
            },
            "U": {
             "type": "Fn"
            }
           },
           "type": "Pair"
          }
         }
        },
        {
         "args": [
          "-6792490223803315402",
          "6473951850161232575"
         ],
         "function": "BlockRef.ret",
         "id": "-7223197405463217963"
        },
        {
         "args": [
          "8637791207124864350",
          "-7223197405463217963"
         ],
         "function": "Fn.add_block",
         "id": "-6225462023938242003"
        },
        {
         "args": [
          "-6225462023938242003"
         ],
         "function": "from_llvm_fn_2",
         "id": "8555403751850875008"
        },
        {
         "args": [
          "8555403751850875008"
         ],
         "function": "to_llvm_fn_2",
         "id": "3460361320407401889"
        },
        {
         "args": [
          "7737634984556270748",
          "3460361320407401889"
         ],
         "function": "ModRef.mod",
         "id": "5828047849232310516"
        },
        {
         "args": [
          "3460361320407401889"
         ],
         "function": "Fn.ref",
         "id": "-5732441560006055139"
        },
        {
         "args": [
          "5828047849232310516",
          "-5732441560006055139",
          "3983604008656577675"
         ],
         "function": "compile_function",
         "id": "-1027299714841124041"
        },
        {
         "id": "5825673906858112592",
         "repr": "0x7fd188621668",
         "type": "Variable"
        },
        {
         "args": [
          "5825673906858112592"
         ],
         "function": "Abstraction.create_variable",
         "id": "-2531031659624950503",
         "type_params": {
          "T": {
           "type": "ValueExpr"
          },
          "U": {
           "type": "ValueExpr"
          }
         }
        },
        {
         "args": [
          "-4654836993552879075",
          "-1384358140491578786",
          "-2531031659624950503"
         ],
         "function": "FunctionTwo.__call__",
         "id": "1803861665824109138",
         "type_params": {
          "T": {
           "type": "ValueExpr"
          },
          "U": {
           "type": "ValueExpr"
          },
          "V": {
           "type": "ValueExpr"
          }
         }
        },
        {
         "args": [
          "-2531031659624950503",
          "1803861665824109138"
         ],
         "function": "Abstraction.create",
         "id": "8363624442675251280",
         "type_params": {
          "T": {
           "type": "ValueExpr"
          },
          "U": {
           "type": "ValueExpr"
          }
         }
        },
        {
         "args": [
          "-1384358140491578786",
          "8363624442675251280"
         ],
         "function": "Abstraction.create",
         "id": "4010236289250899660",
         "type_params": {
          "T": {
           "type": "ValueExpr"
          },
          "U": {
           "params": {
            "T": {
             "type": "ValueExpr"
            },
            "U": {
             "type": "ValueExpr"
            }
           },
           "type": "Abstraction"
          }
         }
        },
        {
         "args": [
          "4010236289250899660"
         ],
         "function": "Abstraction.unfix",
         "id": "2304439001617936274",
         "type_params": {
          "T": {
           "type": "ValueExpr"
          },
          "U": {
           "params": {
            "T": {
             "type": "ValueExpr"
            },
            "U": {
             "type": "ValueExpr"
            }
           },
           "type": "Abstraction"
          }
         }
        },
        {
         "args": [
          "2304439001617936274",
          "-92889879331094320"
         ],
         "function": "Abstraction.__call__",
         "id": "-8098226796451496125",
         "type_params": {
          "T": {
           "params": {
            "T": {
             "type": "ValueExpr"
            },
            "U": {
             "params": {
              "T": {
               "type": "ValueExpr"
              },
              "U": {
               "type": "ValueExpr"
              }
             },
             "type": "Abstraction"
            }
           },
           "type": "Abstraction"
          },
          "U": {
           "params": {
            "T": {
             "type": "ValueExpr"
            },
            "U": {
             "params": {
              "T": {
               "type": "ValueExpr"
              },
              "U": {
               "type": "ValueExpr"
              }
             },
             "type": "Abstraction"
            }
           },
           "type": "Abstraction"
          }
         }
        },
        {
         "args": [
          "-8098226796451496125",
          "-4683086075128235159"
         ],
         "function": "Abstraction.__call__",
         "id": "8502477938930992457",
         "type_params": {
          "T": {
           "type": "ValueExpr"
          },
          "U": {
           "params": {
            "T": {
             "type": "ValueExpr"
            },
            "U": {
             "type": "ValueExpr"
            }
           },
           "type": "Abstraction"
          }
         }
        },
        {
         "args": [
          "8502477938930992457",
          "-3752576409427754660"
         ],
         "function": "Abstraction.__call__",
         "id": "7396901642079773172",
         "type_params": {
          "T": {
           "type": "ValueExpr"
          },
          "U": {
           "type": "ValueExpr"
          }
         }
        },
        {
         "args": [
          "7396901642079773172",
          "-4065451665956858012"
         ],
         "function": "ValueExpr.build",
         "id": "-6813049395996851067"
        },
        {
         "args": [
          "-6813049395996851067"
         ],
         "function": "Pair.right",
         "id": "3708053769953316524",
         "type_params": {
          "T": {
           "type": "Value"
          },
          "U": {
           "params": {
            "T": {
             "type": "BlockRef"
            },
            "U": {
             "type": "Fn"
            }
           },
           "type": "Pair"
          }
         }
        },
        {
         "args": [
          "3708053769953316524"
         ],
         "function": "Pair.right",
         "id": "5657340368065005595",
         "type_params": {
          "T": {
           "type": "BlockRef"
          },
          "U": {
           "type": "Fn"
          }
         }
        },
        {
         "args": [
          "3708053769953316524"
         ],
         "function": "Pair.left",
         "id": "-6158265212970348621",
         "type_params": {
          "T": {
           "type": "BlockRef"
          },
          "U": {
           "type": "Fn"
          }
         }
        },
        {
         "args": [
          "-6813049395996851067"
         ],
         "function": "Pair.left",
         "id": "-8058719122677914748",
         "type_params": {
          "T": {
           "type": "Value"
          },
          "U": {
           "params": {
            "T": {
             "type": "BlockRef"
            },
            "U": {
             "type": "Fn"
            }
           },
           "type": "Pair"
          }
         }
        },
        {
         "args": [
          "-6158265212970348621",
          "-8058719122677914748"
         ],
         "function": "BlockRef.ret",
         "id": "8606951156883891452"
        },
        {
         "args": [
          "5657340368065005595",
          "8606951156883891452"
         ],
         "function": "Fn.add_block",
         "id": "347653078201531614"
        },
        {
         "args": [
          "347653078201531614"
         ],
         "function": "from_llvm_fn_2",
         "id": "9217790683216438049"
        },
        {
         "args": [
          "9217790683216438049"
         ],
         "function": "to_llvm_fn_2",
         "id": "8204537897842317530"
        },
        {
         "args": [
          "7737634984556270748",
          "8204537897842317530"
         ],
         "function": "ModRef.mod",
         "id": "-3375645037580597567"
        },
        {
         "args": [
          "8204537897842317530"
         ],
         "function": "Fn.ref",
         "id": "-5628949915682086506"
        },
        {
         "args": [
          "-3375645037580597567",
          "-5628949915682086506",
          "3983604008656577675"
         ],
         "function": "compile_function",
         "id": "-8953253546667471422"
        },
        {
         "id": "7599853505452698411",
         "repr": "FunctionReplaceTyping(fn=<function unfix_normal.<locals>.<lambda> at 0x7fd178635488>, typevars=HashableMapping(_items=((~U, metadsl_core.abstraction.Abstraction[metadsl_llvm.ir_context.ValueExpr, metadsl_llvm.ir_context.ValueExpr]), (~T, <class 'metadsl_llvm.ir_context.ValueExpr'>))), typevars_in_scope=frozenset({~U, ~T}), inner_mapping=ReplaceTypevarsExpression(typevars=HashableMapping(_items=((~U, metadsl_core.abstraction.Abstraction[metadsl_llvm.ir_context.ValueExpr, metadsl_llvm.ir_context.ValueExpr]), (~T, <class 'metadsl_llvm.ir_context.ValueExpr'>)))))",
         "type": "FunctionReplaceTyping"
        },
        {
         "args": [
          "7599853505452698411"
         ],
         "function": "Abstraction.from_fn",
         "id": "-5636935065292834291",
         "type_params": {
          "T": {
           "params": {
            "T": {
             "type": "ValueExpr"
            },
            "U": {
             "params": {
              "T": {
               "type": "ValueExpr"
              },
              "U": {
               "type": "ValueExpr"
              }
             },
             "type": "Abstraction"
            }
           },
           "type": "Abstraction"
          },
          "U": {
           "params": {
            "T": {
             "type": "ValueExpr"
            },
            "U": {
             "params": {
              "T": {
               "type": "ValueExpr"
              },
              "U": {
               "type": "ValueExpr"
              }
             },
             "type": "Abstraction"
            }
           },
           "type": "Abstraction"
          }
         }
        },
        {
         "args": [
          "-5636935065292834291",
          "-92889879331094320"
         ],
         "function": "Abstraction.__call__",
         "id": "-2035585470031767222",
         "type_params": {
          "T": {
           "params": {
            "T": {
             "type": "ValueExpr"
            },
            "U": {
             "params": {
              "T": {
               "type": "ValueExpr"
              },
              "U": {
               "type": "ValueExpr"
              }
             },
             "type": "Abstraction"
            }
           },
           "type": "Abstraction"
          },
          "U": {
           "params": {
            "T": {
             "type": "ValueExpr"
            },
            "U": {
             "params": {
              "T": {
               "type": "ValueExpr"
              },
              "U": {
               "type": "ValueExpr"
              }
             },
             "type": "Abstraction"
            }
           },
           "type": "Abstraction"
          }
         }
        },
        {
         "args": [
          "-2035585470031767222",
          "-4683086075128235159"
         ],
         "function": "Abstraction.__call__",
         "id": "-3141049878797637257",
         "type_params": {
          "T": {
           "type": "ValueExpr"
          },
          "U": {
           "params": {
            "T": {
             "type": "ValueExpr"
            },
            "U": {
             "type": "ValueExpr"
            }
           },
           "type": "Abstraction"
          }
         }
        },
        {
         "args": [
          "-3141049878797637257",
          "-3752576409427754660"
         ],
         "function": "Abstraction.__call__",
         "id": "1155176711331379090",
         "type_params": {
          "T": {
           "type": "ValueExpr"
          },
          "U": {
           "type": "ValueExpr"
          }
         }
        },
        {
         "args": [
          "1155176711331379090",
          "-4065451665956858012"
         ],
         "function": "ValueExpr.build",
         "id": "3454957333611997760"
        },
        {
         "args": [
          "3454957333611997760"
         ],
         "function": "Pair.right",
         "id": "-4657081233104634922",
         "type_params": {
          "T": {
           "type": "Value"
          },
          "U": {
           "params": {
            "T": {
             "type": "BlockRef"
            },
            "U": {
             "type": "Fn"
            }
           },
           "type": "Pair"
          }
         }
        },
        {
         "args": [
          "-4657081233104634922"
         ],
         "function": "Pair.right",
         "id": "1402390870803337454",
         "type_params": {
          "T": {
           "type": "BlockRef"
          },
          "U": {
           "type": "Fn"
          }
         }
        },
        {
         "args": [
          "-4657081233104634922"
         ],
         "function": "Pair.left",
         "id": "-4027569763901134714",
         "type_params": {
          "T": {
           "type": "BlockRef"
          },
          "U": {
           "type": "Fn"
          }
         }
        },
        {
         "args": [
          "3454957333611997760"
         ],
         "function": "Pair.left",
         "id": "-7705189374128741314",
         "type_params": {
          "T": {
           "type": "Value"
          },
          "U": {
           "params": {
            "T": {
             "type": "BlockRef"
            },
            "U": {
             "type": "Fn"
            }
           },
           "type": "Pair"
          }
         }
        },
        {
         "args": [
          "-4027569763901134714",
          "-7705189374128741314"
         ],
         "function": "BlockRef.ret",
         "id": "-9017056633076231338"
        },
        {
         "args": [
          "1402390870803337454",
          "-9017056633076231338"
         ],
         "function": "Fn.add_block",
         "id": "-541465727477247131"
        },
        {
         "args": [
          "-541465727477247131"
         ],
         "function": "from_llvm_fn_2",
         "id": "-2786911730005439122"
        },
        {
         "args": [
          "-2786911730005439122"
         ],
         "function": "to_llvm_fn_2",
         "id": "-609900877650112609"
        },
        {
         "args": [
          "7737634984556270748",
          "-609900877650112609"
         ],
         "function": "ModRef.mod",
         "id": "-4001425562887980825"
        },
        {
         "args": [
          "-609900877650112609"
         ],
         "function": "Fn.ref",
         "id": "-6732590747867848868"
        },
        {
         "args": [
          "-4001425562887980825",
          "-6732590747867848868",
          "3983604008656577675"
         ],
         "function": "compile_function",
         "id": "4920615247983478654"
        },
        {
         "id": "5825673886081210267",
         "repr": "0x7fd18866c5f8",
         "type": "Variable"
        },
        {
         "args": [
          "5825673886081210267"
         ],
         "function": "Abstraction.create_variable",
         "id": "-467076077102023870",
         "type_params": {
          "T": {
           "params": {
            "T": {
             "type": "ValueExpr"
            },
            "U": {
             "params": {
              "T": {
               "type": "ValueExpr"
              },
              "U": {
               "type": "ValueExpr"
              }
             },
             "type": "Abstraction"
            }
           },
           "type": "Abstraction"
          },
          "U": {
           "params": {
            "T": {
             "type": "ValueExpr"
            },
            "U": {
             "params": {
              "T": {
               "type": "ValueExpr"
              },
              "U": {
               "type": "ValueExpr"
              }
             },
             "type": "Abstraction"
            }
           },
           "type": "Abstraction"
          }
         }
        },
        {
         "args": [
          "-467076077102023870",
          "-467076077102023870"
         ],
         "function": "Abstraction.create",
         "id": "6491462229961820850",
         "type_params": {
          "T": {
           "params": {
            "T": {
             "type": "ValueExpr"
            },
            "U": {
             "params": {
              "T": {
               "type": "ValueExpr"
              },
              "U": {
               "type": "ValueExpr"
              }
             },
             "type": "Abstraction"
            }
           },
           "type": "Abstraction"
          },
          "U": {
           "params": {
            "T": {
             "type": "ValueExpr"
            },
            "U": {
             "params": {
              "T": {
               "type": "ValueExpr"
              },
              "U": {
               "type": "ValueExpr"
              }
             },
             "type": "Abstraction"
            }
           },
           "type": "Abstraction"
          }
         }
        },
        {
         "args": [
          "6491462229961820850",
          "-92889879331094320"
         ],
         "function": "Abstraction.__call__",
         "id": "-7229165677341623131",
         "type_params": {
          "T": {
           "params": {
            "T": {
             "type": "ValueExpr"
            },
            "U": {
             "params": {
              "T": {
               "type": "ValueExpr"
              },
              "U": {
               "type": "ValueExpr"
              }
             },
             "type": "Abstraction"
            }
           },
           "type": "Abstraction"
          },
          "U": {
           "params": {
            "T": {
             "type": "ValueExpr"
            },
            "U": {
             "params": {
              "T": {
               "type": "ValueExpr"
              },
              "U": {
               "type": "ValueExpr"
              }
             },
             "type": "Abstraction"
            }
           },
           "type": "Abstraction"
          }
         }
        },
        {
         "args": [
          "-7229165677341623131",
          "-4683086075128235159"
         ],
         "function": "Abstraction.__call__",
         "id": "-2753663674481387057",
         "type_params": {
          "T": {
           "type": "ValueExpr"
          },
          "U": {
           "params": {
            "T": {
             "type": "ValueExpr"
            },
            "U": {
             "type": "ValueExpr"
            }
           },
           "type": "Abstraction"
          }
         }
        },
        {
         "args": [
          "-2753663674481387057",
          "-3752576409427754660"
         ],
         "function": "Abstraction.__call__",
         "id": "3450966259686250618",
         "type_params": {
          "T": {
           "type": "ValueExpr"
          },
          "U": {
           "type": "ValueExpr"
          }
         }
        },
        {
         "args": [
          "3450966259686250618",
          "-4065451665956858012"
         ],
         "function": "ValueExpr.build",
         "id": "-5630636479584713791"
        },
        {
         "args": [
          "-5630636479584713791"
         ],
         "function": "Pair.right",
         "id": "5136035940986901848",
         "type_params": {
          "T": {
           "type": "Value"
          },
          "U": {
           "params": {
            "T": {
             "type": "BlockRef"
            },
            "U": {
             "type": "Fn"
            }
           },
           "type": "Pair"
          }
         }
        },
        {
         "args": [
          "5136035940986901848"
         ],
         "function": "Pair.right",
         "id": "8770832602208621288",
         "type_params": {
          "T": {
           "type": "BlockRef"
          },
          "U": {
           "type": "Fn"
          }
         }
        },
        {
         "args": [
          "5136035940986901848"
         ],
         "function": "Pair.left",
         "id": "3182365521371078672",
         "type_params": {
          "T": {
           "type": "BlockRef"
          },
          "U": {
           "type": "Fn"
          }
         }
        },
        {
         "args": [
          "-5630636479584713791"
         ],
         "function": "Pair.left",
         "id": "4228837404278608512",
         "type_params": {
          "T": {
           "type": "Value"
          },
          "U": {
           "params": {
            "T": {
             "type": "BlockRef"
            },
            "U": {
             "type": "Fn"
            }
           },
           "type": "Pair"
          }
         }
        },
        {
         "args": [
          "3182365521371078672",
          "4228837404278608512"
         ],
         "function": "BlockRef.ret",
         "id": "8174889044916468828"
        },
        {
         "args": [
          "8770832602208621288",
          "8174889044916468828"
         ],
         "function": "Fn.add_block",
         "id": "-810896710553501524"
        },
        {
         "args": [
          "-810896710553501524"
         ],
         "function": "from_llvm_fn_2",
         "id": "-7545107608703030277"
        },
        {
         "args": [
          "-7545107608703030277"
         ],
         "function": "to_llvm_fn_2",
         "id": "-970759901213728506"
        },
        {
         "args": [
          "7737634984556270748",
          "-970759901213728506"
         ],
         "function": "ModRef.mod",
         "id": "6799771392540434856"
        },
        {
         "args": [
          "-970759901213728506"
         ],
         "function": "Fn.ref",
         "id": "5902206317055238361"
        },
        {
         "args": [
          "6799771392540434856",
          "5902206317055238361",
          "3983604008656577675"
         ],
         "function": "compile_function",
         "id": "4828524545797538635"
        },
        {
         "args": [
          "-92889879331094320",
          "-4683086075128235159"
         ],
         "function": "Abstraction.__call__",
         "id": "-6003706229258875591",
         "type_params": {
          "T": {
           "type": "ValueExpr"
          },
          "U": {
           "params": {
            "T": {
             "type": "ValueExpr"
            },
            "U": {
             "type": "ValueExpr"
            }
           },
           "type": "Abstraction"
          }
         }
        },
        {
         "args": [
          "-6003706229258875591",
          "-3752576409427754660"
         ],
         "function": "Abstraction.__call__",
         "id": "-1293024229612221397",
         "type_params": {
          "T": {
           "type": "ValueExpr"
          },
          "U": {
           "type": "ValueExpr"
          }
         }
        },
        {
         "args": [
          "-1293024229612221397",
          "-4065451665956858012"
         ],
         "function": "ValueExpr.build",
         "id": "-7455672140320605263"
        },
        {
         "args": [
          "-7455672140320605263"
         ],
         "function": "Pair.right",
         "id": "-7467544558603913099",
         "type_params": {
          "T": {
           "type": "Value"
          },
          "U": {
           "params": {
            "T": {
             "type": "BlockRef"
            },
            "U": {
             "type": "Fn"
            }
           },
           "type": "Pair"
          }
         }
        },
        {
         "args": [
          "-7467544558603913099"
         ],
         "function": "Pair.right",
         "id": "8237397548774939072",
         "type_params": {
          "T": {
           "type": "BlockRef"
          },
          "U": {
           "type": "Fn"
          }
         }
        },
        {
         "args": [
          "-7467544558603913099"
         ],
         "function": "Pair.left",
         "id": "-1523025269750438504",
         "type_params": {
          "T": {
           "type": "BlockRef"
          },
          "U": {
           "type": "Fn"
          }
         }
        },
        {
         "args": [
          "-7455672140320605263"
         ],
         "function": "Pair.left",
         "id": "1275761440836754253",
         "type_params": {
          "T": {
           "type": "Value"
          },
          "U": {
           "params": {
            "T": {
             "type": "BlockRef"
            },
            "U": {
             "type": "Fn"
            }
           },
           "type": "Pair"
          }
         }
        },
        {
         "args": [
          "-1523025269750438504",
          "1275761440836754253"
         ],
         "function": "BlockRef.ret",
         "id": "-7047331739384799043"
        },
        {
         "args": [
          "8237397548774939072",
          "-7047331739384799043"
         ],
         "function": "Fn.add_block",
         "id": "-6626183502763720057"
        },
        {
         "args": [
          "-6626183502763720057"
         ],
         "function": "from_llvm_fn_2",
         "id": "3392957226250698190"
        },
        {
         "args": [
          "3392957226250698190"
         ],
         "function": "to_llvm_fn_2",
         "id": "-335532578640017595"
        },
        {
         "args": [
          "7737634984556270748",
          "-335532578640017595"
         ],
         "function": "ModRef.mod",
         "id": "4430041370345798569"
        },
        {
         "args": [
          "-335532578640017595"
         ],
         "function": "Fn.ref",
         "id": "-2932054857410975730"
        },
        {
         "args": [
          "4430041370345798569",
          "-2932054857410975730",
          "3983604008656577675"
         ],
         "function": "compile_function",
         "id": "8599945862896542573"
        },
        {
         "args": [
          "5790177274379634933",
          "-4683086075128235159",
          "4465176100420276415"
         ],
         "function": "FunctionTwo.__call__",
         "id": "-8285532200730727129",
         "type_params": {
          "T": {
           "type": "ValueExpr"
          },
          "U": {
           "type": "ValueExpr"
          },
          "V": {
           "type": "ValueExpr"
          }
         }
        },
        {
         "args": [
          "4465176100420276415",
          "-8285532200730727129"
         ],
         "function": "Abstraction.create",
         "id": "-5473820876711575918",
         "type_params": {
          "T": {
           "type": "ValueExpr"
          },
          "U": {
           "type": "ValueExpr"
          }
         }
        },
        {
         "args": [
          "-5473820876711575918",
          "-3752576409427754660"
         ],
         "function": "Abstraction.__call__",
         "id": "-2687678537571144248",
         "type_params": {
          "T": {
           "type": "ValueExpr"
          },
          "U": {
           "type": "ValueExpr"
          }
         }
        },
        {
         "args": [
          "-2687678537571144248",
          "-4065451665956858012"
         ],
         "function": "ValueExpr.build",
         "id": "-635756656845881259"
        },
        {
         "args": [
          "-635756656845881259"
         ],
         "function": "Pair.right",
         "id": "6735156210348295258",
         "type_params": {
          "T": {
           "type": "Value"
          },
          "U": {
           "params": {
            "T": {
             "type": "BlockRef"
            },
            "U": {
             "type": "Fn"
            }
           },
           "type": "Pair"
          }
         }
        },
        {
         "args": [
          "6735156210348295258"
         ],
         "function": "Pair.right",
         "id": "9169130083561861686",
         "type_params": {
          "T": {
           "type": "BlockRef"
          },
          "U": {
           "type": "Fn"
          }
         }
        },
        {
         "args": [
          "6735156210348295258"
         ],
         "function": "Pair.left",
         "id": "-7634356176976779682",
         "type_params": {
          "T": {
           "type": "BlockRef"
          },
          "U": {
           "type": "Fn"
          }
         }
        },
        {
         "args": [
          "-635756656845881259"
         ],
         "function": "Pair.left",
         "id": "1356124193531995778",
         "type_params": {
          "T": {
           "type": "Value"
          },
          "U": {
           "params": {
            "T": {
             "type": "BlockRef"
            },
            "U": {
             "type": "Fn"
            }
           },
           "type": "Pair"
          }
         }
        },
        {
         "args": [
          "-7634356176976779682",
          "1356124193531995778"
         ],
         "function": "BlockRef.ret",
         "id": "-4817581402849106421"
        },
        {
         "args": [
          "9169130083561861686",
          "-4817581402849106421"
         ],
         "function": "Fn.add_block",
         "id": "-2774097928524280000"
        },
        {
         "args": [
          "-2774097928524280000"
         ],
         "function": "from_llvm_fn_2",
         "id": "9051075828863298876"
        },
        {
         "args": [
          "9051075828863298876"
         ],
         "function": "to_llvm_fn_2",
         "id": "7575113266550340501"
        },
        {
         "args": [
          "7737634984556270748",
          "7575113266550340501"
         ],
         "function": "ModRef.mod",
         "id": "-7158874234700634970"
        },
        {
         "args": [
          "7575113266550340501"
         ],
         "function": "Fn.ref",
         "id": "-1125936929765549505"
        },
        {
         "args": [
          "-7158874234700634970",
          "-1125936929765549505",
          "3983604008656577675"
         ],
         "function": "compile_function",
         "id": "2719545790712891432"
        },
        {
         "args": [
          "5790177274379634933",
          "-4683086075128235159",
          "-3752576409427754660"
         ],
         "function": "FunctionTwo.__call__",
         "id": "-1058726873601930546",
         "type_params": {
          "T": {
           "type": "ValueExpr"
          },
          "U": {
           "type": "ValueExpr"
          },
          "V": {
           "type": "ValueExpr"
          }
         }
        },
        {
         "args": [
          "-1058726873601930546",
          "-4065451665956858012"
         ],
         "function": "ValueExpr.build",
         "id": "2476603561564019940"
        },
        {
         "args": [
          "2476603561564019940"
         ],
         "function": "Pair.right",
         "id": "610527921622614154",
         "type_params": {
          "T": {
           "type": "Value"
          },
          "U": {
           "params": {
            "T": {
             "type": "BlockRef"
            },
            "U": {
             "type": "Fn"
            }
           },
           "type": "Pair"
          }
         }
        },
        {
         "args": [
          "610527921622614154"
         ],
         "function": "Pair.right",
         "id": "-7923138935479644488",
         "type_params": {
          "T": {
           "type": "BlockRef"
          },
          "U": {
           "type": "Fn"
          }
         }
        },
        {
         "args": [
          "610527921622614154"
         ],
         "function": "Pair.left",
         "id": "7125203977695594784",
         "type_params": {
          "T": {
           "type": "BlockRef"
          },
          "U": {
           "type": "Fn"
          }
         }
        },
        {
         "args": [
          "2476603561564019940"
         ],
         "function": "Pair.left",
         "id": "2172326707764547506",
         "type_params": {
          "T": {
           "type": "Value"
          },
          "U": {
           "params": {
            "T": {
             "type": "BlockRef"
            },
            "U": {
             "type": "Fn"
            }
           },
           "type": "Pair"
          }
         }
        },
        {
         "args": [
          "7125203977695594784",
          "2172326707764547506"
         ],
         "function": "BlockRef.ret",
         "id": "1814855198936119971"
        },
        {
         "args": [
          "-7923138935479644488",
          "1814855198936119971"
         ],
         "function": "Fn.add_block",
         "id": "-8675976830446441630"
        },
        {
         "args": [
          "-8675976830446441630"
         ],
         "function": "from_llvm_fn_2",
         "id": "-156676655511150692"
        },
        {
         "args": [
          "-156676655511150692"
         ],
         "function": "to_llvm_fn_2",
         "id": "-7231611733259791870"
        },
        {
         "args": [
          "7737634984556270748",
          "-7231611733259791870"
         ],
         "function": "ModRef.mod",
         "id": "-5824728073132500409"
        },
        {
         "args": [
          "-7231611733259791870"
         ],
         "function": "Fn.ref",
         "id": "-3967595879101504644"
        },
        {
         "args": [
          "-5824728073132500409",
          "-3967595879101504644",
          "3983604008656577675"
         ],
         "function": "compile_function",
         "id": "41196421293663954"
        },
        {
         "args": [
          "7737634984556270748",
          "-8675976830446441630"
         ],
         "function": "ModRef.mod",
         "id": "-3040909231453745625"
        },
        {
         "args": [
          "-8675976830446441630"
         ],
         "function": "Fn.ref",
         "id": "-390259248016873572"
        },
        {
         "args": [
          "-3040909231453745625",
          "-390259248016873572",
          "3983604008656577675"
         ],
         "function": "compile_function",
         "id": "1904940434664386576"
        },
        {
         "args": [
          "-4683086075128235159",
          "-4065451665956858012"
         ],
         "function": "ValueExpr.build",
         "id": "174053887800526773"
        },
        {
         "args": [
          "174053887800526773"
         ],
         "function": "Pair.right",
         "id": "8905237887093833850",
         "type_params": {
          "T": {
           "type": "Value"
          },
          "U": {
           "params": {
            "T": {
             "type": "BlockRef"
            },
            "U": {
             "type": "Fn"
            }
           },
           "type": "Pair"
          }
         }
        },
        {
         "args": [
          "-3752576409427754660",
          "8905237887093833850"
         ],
         "function": "ValueExpr.build",
         "id": "7961386497307506083"
        },
        {
         "args": [
          "7961386497307506083"
         ],
         "function": "Pair.right",
         "id": "3085503627247054733",
         "type_params": {
          "T": {
           "type": "Value"
          },
          "U": {
           "params": {
            "T": {
             "type": "BlockRef"
            },
            "U": {
             "type": "Fn"
            }
           },
           "type": "Pair"
          }
         }
        },
        {
         "args": [
          "3085503627247054733"
         ],
         "function": "Pair.left",
         "id": "8572365528556753908",
         "type_params": {
          "T": {
           "type": "BlockRef"
          },
          "U": {
           "type": "Fn"
          }
         }
        },
        {
         "args": [
          "-717349301858400982"
         ],
         "function": "Fn.ref",
         "id": "-5319542980838272779"
        },
        {
         "args": [
          "174053887800526773"
         ],
         "function": "Pair.left",
         "id": "1569459328836676322",
         "type_params": {
          "T": {
           "type": "Value"
          },
          "U": {
           "params": {
            "T": {
             "type": "BlockRef"
            },
            "U": {
             "type": "Fn"
            }
           },
           "type": "Pair"
          }
         }
        },
        {
         "args": [
          "7961386497307506083"
         ],
         "function": "Pair.left",
         "id": "3826265870330116789",
         "type_params": {
          "T": {
           "type": "Value"
          },
          "U": {
           "params": {
            "T": {
             "type": "BlockRef"
            },
            "U": {
             "type": "Fn"
            }
           },
           "type": "Pair"
          }
         }
        },
        {
         "args": [
          "1569459328836676322",
          "3826265870330116789"
         ],
         "function": "Vec.create",
         "id": "8209277791803793046"
        },
        {
         "args": [
          "8572365528556753908",
          "-5319542980838272779",
          "8209277791803793046"
         ],
         "function": "BlockRef.call",
         "id": "-3248986001459868334"
        },
        {
         "args": [
          "-3248986001459868334",
          "3085503627247054733"
         ],
         "function": "Pair.create",
         "id": "-8893448730855299688"
        },
        {
         "args": [
          "-8893448730855299688"
         ],
         "function": "Pair.right",
         "id": "-2422299509275072998",
         "type_params": {
          "T": {
           "type": "Value"
          },
          "U": {
           "params": {
            "T": {
             "type": "BlockRef"
            },
            "U": {
             "type": "Fn"
            }
           },
           "type": "Pair"
          }
         }
        },
        {
         "args": [
          "-2422299509275072998"
         ],
         "function": "Pair.right",
         "id": "-8557616581100103961",
         "type_params": {
          "T": {
           "type": "BlockRef"
          },
          "U": {
           "type": "Fn"
          }
         }
        },
        {
         "args": [
          "-2422299509275072998"
         ],
         "function": "Pair.left",
         "id": "-3041643030323049025",
         "type_params": {
          "T": {
           "type": "BlockRef"
          },
          "U": {
           "type": "Fn"
          }
         }
        },
        {
         "args": [
          "-8893448730855299688"
         ],
         "function": "Pair.left",
         "id": "4035274781489587522",
         "type_params": {
          "T": {
           "type": "Value"
          },
          "U": {
           "params": {
            "T": {
             "type": "BlockRef"
            },
            "U": {
             "type": "Fn"
            }
           },
           "type": "Pair"
          }
         }
        },
        {
         "args": [
          "-3041643030323049025",
          "4035274781489587522"
         ],
         "function": "BlockRef.ret",
         "id": "6225749901548996601"
        },
        {
         "args": [
          "-8557616581100103961",
          "6225749901548996601"
         ],
         "function": "Fn.add_block",
         "id": "5498027480790602443"
        },
        {
         "args": [
          "7737634984556270748",
          "5498027480790602443"
         ],
         "function": "ModRef.mod",
         "id": "-9069991199928047119"
        },
        {
         "args": [
          "5498027480790602443"
         ],
         "function": "Fn.ref",
         "id": "-115911777896157466"
        },
        {
         "args": [
          "-9069991199928047119",
          "-115911777896157466",
          "3983604008656577675"
         ],
         "function": "compile_function",
         "id": "6514526944647149626"
        },
        {
         "args": [
          "-2922765011559039867",
          "8905237887093833850"
         ],
         "function": "Pair.create",
         "id": "-6225383241252820564"
        },
        {
         "args": [
          "-6225383241252820564"
         ],
         "function": "Pair.right",
         "id": "3170747599930805009",
         "type_params": {
          "T": {
           "type": "Value"
          },
          "U": {
           "params": {
            "T": {
             "type": "BlockRef"
            },
            "U": {
             "type": "Fn"
            }
           },
           "type": "Pair"
          }
         }
        },
        {
         "args": [
          "3170747599930805009"
         ],
         "function": "Pair.left",
         "id": "-4551414954900635528",
         "type_params": {
          "T": {
           "type": "BlockRef"
          },
          "U": {
           "type": "Fn"
          }
         }
        },
        {
         "args": [
          "-6225383241252820564"
         ],
         "function": "Pair.left",
         "id": "-7795894884840351879",
         "type_params": {
          "T": {
           "type": "Value"
          },
          "U": {
           "params": {
            "T": {
             "type": "BlockRef"
            },
            "U": {
             "type": "Fn"
            }
           },
           "type": "Pair"
          }
         }
        },
        {
         "args": [
          "1569459328836676322",
          "-7795894884840351879"
         ],
         "function": "Vec.create",
         "id": "9064171555849981270"
        },
        {
         "args": [
          "-4551414954900635528",
          "-5319542980838272779",
          "9064171555849981270"
         ],
         "function": "BlockRef.call",
         "id": "8310153705554706066"
        },
        {
         "args": [
          "8310153705554706066",
          "3170747599930805009"
         ],
         "function": "Pair.create",
         "id": "-7442511662057848072"
        },
        {
         "args": [
          "-7442511662057848072"
         ],
         "function": "Pair.right",
         "id": "6027803241205785658",
         "type_params": {
          "T": {
           "type": "Value"
          },
          "U": {
           "params": {
            "T": {
             "type": "BlockRef"
            },
            "U": {
             "type": "Fn"
            }
           },
           "type": "Pair"
          }
         }
        },
        {
         "args": [
          "6027803241205785658"
         ],
         "function": "Pair.right",
         "id": "-6632685344919227754",
         "type_params": {
          "T": {
           "type": "BlockRef"
          },
          "U": {
           "type": "Fn"
          }
         }
        },
        {
         "args": [
          "6027803241205785658"
         ],
         "function": "Pair.left",
         "id": "7641449712820753918",
         "type_params": {
          "T": {
           "type": "BlockRef"
          },
          "U": {
           "type": "Fn"
          }
         }
        },
        {
         "args": [
          "-7442511662057848072"
         ],
         "function": "Pair.left",
         "id": "1767911666637016226",
         "type_params": {
          "T": {
           "type": "Value"
          },
          "U": {
           "params": {
            "T": {
             "type": "BlockRef"
            },
            "U": {
             "type": "Fn"
            }
           },
           "type": "Pair"
          }
         }
        },
        {
         "args": [
          "7641449712820753918",
          "1767911666637016226"
         ],
         "function": "BlockRef.ret",
         "id": "-1212452709739426991"
        },
        {
         "args": [
          "-6632685344919227754",
          "-1212452709739426991"
         ],
         "function": "Fn.add_block",
         "id": "-2995442574655050727"
        },
        {
         "args": [
          "7737634984556270748",
          "-2995442574655050727"
         ],
         "function": "ModRef.mod",
         "id": "8637867108395580966"
        },
        {
         "args": [
          "-2995442574655050727"
         ],
         "function": "Fn.ref",
         "id": "-1423510144434772545"
        },
        {
         "args": [
          "8637867108395580966",
          "-1423510144434772545",
          "3983604008656577675"
         ],
         "function": "compile_function",
         "id": "3236906796933894866"
        },
        {
         "args": [
          "4333331905335620460",
          "-4065451665956858012"
         ],
         "function": "Pair.create",
         "id": "4293677519368271467"
        },
        {
         "args": [
          "4293677519368271467"
         ],
         "function": "Pair.right",
         "id": "-4876306956948839009",
         "type_params": {
          "T": {
           "type": "Value"
          },
          "U": {
           "params": {
            "T": {
             "type": "BlockRef"
            },
            "U": {
             "type": "Fn"
            }
           },
           "type": "Pair"
          }
         }
        },
        {
         "args": [
          "-2922765011559039867",
          "-4876306956948839009"
         ],
         "function": "Pair.create",
         "id": "7346014450959714700"
        },
        {
         "args": [
          "7346014450959714700"
         ],
         "function": "Pair.right",
         "id": "9072664134127246920",
         "type_params": {
          "T": {
           "type": "Value"
          },
          "U": {
           "params": {
            "T": {
             "type": "BlockRef"
            },
            "U": {
             "type": "Fn"
            }
           },
           "type": "Pair"
          }
         }
        },
        {
         "args": [
          "9072664134127246920"
         ],
         "function": "Pair.left",
         "id": "1967969909494291285",
         "type_params": {
          "T": {
           "type": "BlockRef"
          },
          "U": {
           "type": "Fn"
          }
         }
        },
        {
         "args": [
          "4293677519368271467"
         ],
         "function": "Pair.left",
         "id": "2307665553867602695",
         "type_params": {
          "T": {
           "type": "Value"
          },
          "U": {
           "params": {
            "T": {
             "type": "BlockRef"
            },
            "U": {
             "type": "Fn"
            }
           },
           "type": "Pair"
          }
         }
        },
        {
         "args": [
          "7346014450959714700"
         ],
         "function": "Pair.left",
         "id": "-5778177665327028048",
         "type_params": {
          "T": {
           "type": "Value"
          },
          "U": {
           "params": {
            "T": {
             "type": "BlockRef"
            },
            "U": {
             "type": "Fn"
            }
           },
           "type": "Pair"
          }
         }
        },
        {
         "args": [
          "2307665553867602695",
          "-5778177665327028048"
         ],
         "function": "Vec.create",
         "id": "1045189920173770004"
        },
        {
         "args": [
          "1967969909494291285",
          "-5319542980838272779",
          "1045189920173770004"
         ],
         "function": "BlockRef.call",
         "id": "1172748404508017023"
        },
        {
         "args": [
          "1172748404508017023",
          "9072664134127246920"
         ],
         "function": "Pair.create",
         "id": "1073493796297095077"
        },
        {
         "args": [
          "1073493796297095077"
         ],
         "function": "Pair.right",
         "id": "-1287374926609925174",
         "type_params": {
          "T": {
           "type": "Value"
          },
          "U": {
           "params": {
            "T": {
             "type": "BlockRef"
            },
            "U": {
             "type": "Fn"
            }
           },
           "type": "Pair"
          }
         }
        },
        {
         "args": [
          "-1287374926609925174"
         ],
         "function": "Pair.right",
         "id": "-3384008376746999816",
         "type_params": {
          "T": {
           "type": "BlockRef"
          },
          "U": {
           "type": "Fn"
          }
         }
        },
        {
         "args": [
          "-1287374926609925174"
         ],
         "function": "Pair.left",
         "id": "5040718834916307808",
         "type_params": {
          "T": {
           "type": "BlockRef"
          },
          "U": {
           "type": "Fn"
          }
         }
        },
        {
         "args": [
          "1073493796297095077"
         ],
         "function": "Pair.left",
         "id": "-9108505801000374286",
         "type_params": {
          "T": {
           "type": "Value"
          },
          "U": {
           "params": {
            "T": {
             "type": "BlockRef"
            },
            "U": {
             "type": "Fn"
            }
           },
           "type": "Pair"
          }
         }
        },
        {
         "args": [
          "5040718834916307808",
          "-9108505801000374286"
         ],
         "function": "BlockRef.ret",
         "id": "1607636403425601609"
        },
        {
         "args": [
          "-3384008376746999816",
          "1607636403425601609"
         ],
         "function": "Fn.add_block",
         "id": "-221177233694307582"
        },
        {
         "args": [
          "7737634984556270748",
          "-221177233694307582"
         ],
         "function": "ModRef.mod",
         "id": "-7678827085870535980"
        },
        {
         "args": [
          "-221177233694307582"
         ],
         "function": "Fn.ref",
         "id": "-7632151041046896067"
        },
        {
         "args": [
          "-7678827085870535980",
          "-7632151041046896067",
          "3983604008656577675"
         ],
         "function": "compile_function",
         "id": "-7784077052199939513"
        },
        {
         "args": [
          "5040718834916307808",
          "1172748404508017023"
         ],
         "function": "BlockRef.ret",
         "id": "-4524312589772988903"
        },
        {
         "args": [
          "-3384008376746999816",
          "-4524312589772988903"
         ],
         "function": "Fn.add_block",
         "id": "-6106220555383681927"
        },
        {
         "args": [
          "7737634984556270748",
          "-6106220555383681927"
         ],
         "function": "ModRef.mod",
         "id": "2998810252238398687"
        },
        {
         "args": [
          "-6106220555383681927"
         ],
         "function": "Fn.ref",
         "id": "9023425030201120932"
        },
        {
         "args": [
          "2998810252238398687",
          "9023425030201120932",
          "3983604008656577675"
         ],
         "function": "compile_function",
         "id": "-6334574905740124903"
        },
        {
         "args": [
          "9072664134127246920"
         ],
         "function": "Pair.right",
         "id": "-8379443434257129747",
         "type_params": {
          "T": {
           "type": "BlockRef"
          },
          "U": {
           "type": "Fn"
          }
         }
        },
        {
         "args": [
          "1967969909494291285",
          "1172748404508017023"
         ],
         "function": "BlockRef.ret",
         "id": "-6385671027730738118"
        },
        {
         "args": [
          "-8379443434257129747",
          "-6385671027730738118"
         ],
         "function": "Fn.add_block",
         "id": "5432786987648217748"
        },
        {
         "args": [
          "7737634984556270748",
          "5432786987648217748"
         ],
         "function": "ModRef.mod",
         "id": "-9215728051528872072"
        },
        {
         "args": [
          "5432786987648217748"
         ],
         "function": "Fn.ref",
         "id": "8056931933715056649"
        },
        {
         "args": [
          "-9215728051528872072",
          "8056931933715056649",
          "3983604008656577675"
         ],
         "function": "compile_function",
         "id": "4946968024507453469"
        },
        {
         "args": [
          "2307665553867602695",
          "-2922765011559039867"
         ],
         "function": "Vec.create",
         "id": "3474598362951295010"
        },
        {
         "args": [
          "1967969909494291285",
          "-5319542980838272779",
          "3474598362951295010"
         ],
         "function": "BlockRef.call",
         "id": "-5334289647997815034"
        },
        {
         "args": [
          "1967969909494291285",
          "-5334289647997815034"
         ],
         "function": "BlockRef.ret",
         "id": "4191514626037108867"
        },
        {
         "args": [
          "-8379443434257129747",
          "4191514626037108867"
         ],
         "function": "Fn.add_block",
         "id": "-4179885587827940568"
        },
        {
         "args": [
          "7737634984556270748",
          "-4179885587827940568"
         ],
         "function": "ModRef.mod",
         "id": "1698331461795741647"
        },
        {
         "args": [
          "-4179885587827940568"
         ],
         "function": "Fn.ref",
         "id": "-4401884216596964300"
        },
        {
         "args": [
          "1698331461795741647",
          "-4401884216596964300",
          "3983604008656577675"
         ],
         "function": "compile_function",
         "id": "-1254805090677996000"
        },
        {
         "args": [
          "4333331905335620460",
          "-2922765011559039867"
         ],
         "function": "Vec.create",
         "id": "-8963445371306012473"
        },
        {
         "args": [
          "1967969909494291285",
          "-5319542980838272779",
          "-8963445371306012473"
         ],
         "function": "BlockRef.call",
         "id": "-2503351984509353521"
        },
        {
         "args": [
          "1967969909494291285",
          "-2503351984509353521"
         ],
         "function": "BlockRef.ret",
         "id": "209839520766589777"
        },
        {
         "args": [
          "-8379443434257129747",
          "209839520766589777"
         ],
         "function": "Fn.add_block",
         "id": "-9068475423317594525"
        },
        {
         "args": [
          "7737634984556270748",
          "-9068475423317594525"
         ],
         "function": "ModRef.mod",
         "id": "2935263147974870766"
        },
        {
         "args": [
          "-9068475423317594525"
         ],
         "function": "Fn.ref",
         "id": "-887048513759763241"
        },
        {
         "args": [
          "2935263147974870766",
          "-887048513759763241",
          "3983604008656577675"
         ],
         "function": "compile_function",
         "id": "-5345513567231697884"
        },
        {
         "args": [
          "1967969909494291285",
          "-5972067394669943981",
          "-8963445371306012473"
         ],
         "function": "BlockRef.call",
         "id": "4091520590907138485"
        },
        {
         "args": [
          "1967969909494291285",
          "4091520590907138485"
         ],
         "function": "BlockRef.ret",
         "id": "7729404357391315801"
        },
        {
         "args": [
          "-8379443434257129747",
          "7729404357391315801"
         ],
         "function": "Fn.add_block",
         "id": "-4230464538692110816"
        },
        {
         "args": [
          "7737634984556270748",
          "-4230464538692110816"
         ],
         "function": "ModRef.mod",
         "id": "644573684053074535"
        },
        {
         "args": [
          "-4230464538692110816"
         ],
         "function": "Fn.ref",
         "id": "6734489998672895196"
        },
        {
         "args": [
          "644573684053074535",
          "6734489998672895196",
          "3983604008656577675"
         ],
         "function": "compile_function",
         "id": "1669400093903846853"
        },
        {
         "args": [
          "-4876306956948839009"
         ],
         "function": "Pair.right",
         "id": "-7169734861874580757",
         "type_params": {
          "T": {
           "type": "BlockRef"
          },
          "U": {
           "type": "Fn"
          }
         }
        },
        {
         "args": [
          "-4876306956948839009"
         ],
         "function": "Pair.left",
         "id": "6892140068961056899",
         "type_params": {
          "T": {
           "type": "BlockRef"
          },
          "U": {
           "type": "Fn"
          }
         }
        },
        {
         "args": [
          "6892140068961056899",
          "-5972067394669943981",
          "-8963445371306012473"
         ],
         "function": "BlockRef.call",
         "id": "1950201926966292613"
        },
        {
         "args": [
          "6892140068961056899",
          "1950201926966292613"
         ],
         "function": "BlockRef.ret",
         "id": "6312567861394074612"
        },
        {
         "args": [
          "-7169734861874580757",
          "6312567861394074612"
         ],
         "function": "Fn.add_block",
         "id": "-1774917334023026100"
        },
        {
         "args": [
          "7737634984556270748",
          "-1774917334023026100"
         ],
         "function": "ModRef.mod",
         "id": "4338473180676305770"
        },
        {
         "args": [
          "-1774917334023026100"
         ],
         "function": "Fn.ref",
         "id": "-6576297134149064229"
        },
        {
         "args": [
          "4338473180676305770",
          "-6576297134149064229",
          "3983604008656577675"
         ],
         "function": "compile_function",
         "id": "3726243881660229726"
        },
        {
         "args": [
          "-4065451665956858012"
         ],
         "function": "Pair.right",
         "id": "-3728696930061715451",
         "type_params": {
          "T": {
           "type": "BlockRef"
          },
          "U": {
           "type": "Fn"
          }
         }
        },
        {
         "args": [
          "-4065451665956858012"
         ],
         "function": "Pair.left",
         "id": "6862653520743058141",
         "type_params": {
          "T": {
           "type": "BlockRef"
          },
          "U": {
           "type": "Fn"
          }
         }
        },
        {
         "args": [
          "6862653520743058141",
          "-5972067394669943981",
          "-8963445371306012473"
         ],
         "function": "BlockRef.call",
         "id": "3313750206258089855"
        },
        {
         "args": [
          "6862653520743058141",
          "3313750206258089855"
         ],
         "function": "BlockRef.ret",
         "id": "-5422868211198153307"
        },
        {
         "args": [
          "-3728696930061715451",
          "-5422868211198153307"
         ],
         "function": "Fn.add_block",
         "id": "-4740222981148083853"
        },
        {
         "args": [
          "7737634984556270748",
          "-4740222981148083853"
         ],
         "function": "ModRef.mod",
         "id": "1104776701059496005"
        },
        {
         "args": [
          "-4740222981148083853"
         ],
         "function": "Fn.ref",
         "id": "-1477020634737768942"
        },
        {
         "args": [
          "1104776701059496005",
          "-1477020634737768942",
          "3983604008656577675"
         ],
         "function": "compile_function",
         "id": "-5375672347832088877"
        },
        {
         "args": [
          "7202929541196607406",
          "-5972067394669943981",
          "-8963445371306012473"
         ],
         "function": "BlockRef.call",
         "id": "1610259598745913849"
        },
        {
         "args": [
          "7202929541196607406",
          "1610259598745913849"
         ],
         "function": "BlockRef.ret",
         "id": "6199012408837477732"
        },
        {
         "args": [
          "-3728696930061715451",
          "6199012408837477732"
         ],
         "function": "Fn.add_block",
         "id": "-5834775951732359928"
        },
        {
         "args": [
          "7737634984556270748",
          "-5834775951732359928"
         ],
         "function": "ModRef.mod",
         "id": "2021325436125365672"
        },
        {
         "args": [
          "-5834775951732359928"
         ],
         "function": "Fn.ref",
         "id": "420213357699839193"
        },
        {
         "args": [
          "2021325436125365672",
          "420213357699839193",
          "3983604008656577675"
         ],
         "function": "compile_function",
         "id": "17540336670706975"
        },
        {
         "args": [
          "-717349301858400982",
          "6199012408837477732"
         ],
         "function": "Fn.add_block",
         "id": "-3989694590521099682"
        },
        {
         "args": [
          "7737634984556270748",
          "-3989694590521099682"
         ],
         "function": "ModRef.mod",
         "id": "3326834311139625793"
        },
        {
         "args": [
          "-3989694590521099682"
         ],
         "function": "Fn.ref",
         "id": "-6120369618897471978"
        },
        {
         "args": [
          "3326834311139625793",
          "-6120369618897471978",
          "3983604008656577675"
         ],
         "function": "compile_function",
         "id": "7255795582733190332"
        },
        {
         "args": [
          "-5972067394669943981",
          "6199012408837477732"
         ],
         "function": "FnRef.fn",
         "id": "2111774232829784232"
        },
        {
         "args": [
          "7737634984556270748",
          "2111774232829784232"
         ],
         "function": "ModRef.mod",
         "id": "1781058133680532086"
        },
        {
         "args": [
          "2111774232829784232"
         ],
         "function": "Fn.ref",
         "id": "5735870266348457711"
        },
        {
         "args": [
          "1781058133680532086",
          "5735870266348457711",
          "3983604008656577675"
         ],
         "function": "compile_function",
         "id": "-9122255056598309363"
        },
        {
         "args": [
          "1781058133680532086",
          "-5972067394669943981",
          "3983604008656577675"
         ],
         "function": "compile_function",
         "id": "3382780185605493357"
        },
        {
         "args": [
          "-5972067394669943981"
         ],
         "function": "FnRef.type",
         "id": "-4985343500595106525"
        },
        {
         "args": [
          "-4985343500595106525"
         ],
         "function": "llvm_to_c_fn_type",
         "id": "1697655936302530065"
        },
        {
         "args": [
          "1781058133680532086"
         ],
         "function": "Mod.ref",
         "id": "-1527395180372767776"
        },
        {
         "id": "1556651521443236626",
         "repr": "entry_",
         "type": "str"
        },
        {
         "args": [
          "-5972067394669943981"
         ],
         "function": "FnRef.name",
         "id": "-2443763860160911084"
        },
        {
         "args": [
          "1556651521443236626",
          "-2443763860160911084"
         ],
         "function": "concat_strings",
         "id": "558643199176300320"
        },
        {
         "id": "-5260875163968332958",
         "repr": "",
         "type": "str"
        },
        {
         "args": [
          "-1527395180372767776",
          "558643199176300320",
          "-4985343500595106525",
          "-5260875163968332958"
         ],
         "function": "ModRef.fn",
         "id": "-8040031234504844716"
        },
        {
         "id": "7830199984865616153",
         "repr": "entry",
         "type": "str"
        },
        {
         "id": "-8690275576870928539",
         "repr": "140537647941896",
         "type": "_Uniq"
        },
        {
         "args": [
          "-8040031234504844716",
          "3989267796447890075",
          "7830199984865616153",
          "-8690275576870928539"
         ],
         "function": "FnRef._block",
         "id": "6541923501073562785"
        },
        {
         "args": [
          "-8040031234504844716"
         ],
         "function": "FnRef.arguments",
         "id": "-7580401967112486468"
        },
        {
         "args": [
          "6541923501073562785",
          "-5972067394669943981",
          "-7580401967112486468"
         ],
         "function": "BlockRef.call",
         "id": "7201431358927686032"
        },
        {
         "args": [
          "6541923501073562785",
          "7201431358927686032"
         ],
         "function": "BlockRef.ret",
         "id": "-1745964561125882172"
        },
        {
         "args": [
          "-8040031234504844716",
          "-1745964561125882172"
         ],
         "function": "FnRef.fn",
         "id": "4869920417721696082"
        },
        {
         "args": [
          "1781058133680532086",
          "4869920417721696082"
         ],
         "function": "Mod.add_fn",
         "id": "-6719085551167617292"
        },
        {
         "args": [
          "-6719085551167617292"
         ],
         "function": "mod_str",
         "id": "-6115261742138008944"
        },
        {
         "args": [
          "-6115261742138008944"
         ],
         "function": "ModuleRef.create",
         "id": "8974128327221824479"
        },
        {
         "args": [
          "8974128327221824479",
          "3983604008656577675"
         ],
         "function": "ModuleRef.optimize",
         "id": "-6789828787450237315"
        },
        {
         "args": [
          "-6789828787450237315"
         ],
         "function": "ExecutionEngine.create",
         "id": "-2734856769788333605"
        },
        {
         "args": [
          "-2734856769788333605",
          "558643199176300320"
         ],
         "function": "ExecutionEngine.get_function_address",
         "id": "7743509228098770056"
        },
        {
         "args": [
          "1697655936302530065",
          "7743509228098770056"
         ],
         "function": "CFunctionType.__call__",
         "id": "-6979877943989380145"
        },
        {
         "args": [
          "7737634984556270748",
          "2111774232829784232",
          "4869920417721696082"
         ],
         "function": "ModRef.mod",
         "id": "-8471665696678828896"
        },
        {
         "args": [
          "-8471665696678828896"
         ],
         "function": "mod_str",
         "id": "2921955241111312795"
        },
        {
         "args": [
          "2921955241111312795"
         ],
         "function": "ModuleRef.create",
         "id": "-1424589755533762075"
        },
        {
         "args": [
          "-1424589755533762075",
          "3983604008656577675"
         ],
         "function": "ModuleRef.optimize",
         "id": "2958304003495603474"
        },
        {
         "args": [
          "2958304003495603474"
         ],
         "function": "ExecutionEngine.create",
         "id": "8872703399736337283"
        },
        {
         "args": [
          "8872703399736337283",
          "558643199176300320"
         ],
         "function": "ExecutionEngine.get_function_address",
         "id": "-4215672803156792860"
        },
        {
         "args": [
          "1697655936302530065",
          "-4215672803156792860"
         ],
         "function": "CFunctionType.__call__",
         "id": "4083581833962692103"
        },
        {
         "args": [
          "1556651521443236626",
          "3348305646612022562"
         ],
         "function": "concat_strings",
         "id": "7472286698678586480"
        },
        {
         "args": [
          "-1527395180372767776",
          "7472286698678586480",
          "-4985343500595106525",
          "-5260875163968332958"
         ],
         "function": "ModRef.fn",
         "id": "3924880304845652227"
        },
        {
         "args": [
          "3924880304845652227",
          "3989267796447890075",
          "7830199984865616153",
          "-8690275576870928539"
         ],
         "function": "FnRef._block",
         "id": "-1516733937246279142"
        },
        {
         "args": [
          "3924880304845652227"
         ],
         "function": "FnRef.arguments",
         "id": "688448138405718109"
        },
        {
         "args": [
          "-1516733937246279142",
          "-5972067394669943981",
          "688448138405718109"
         ],
         "function": "BlockRef.call",
         "id": "3104213470157889963"
        },
        {
         "args": [
          "-1516733937246279142",
          "3104213470157889963"
         ],
         "function": "BlockRef.ret",
         "id": "-755902324352736212"
        },
        {
         "args": [
          "3924880304845652227",
          "-755902324352736212"
         ],
         "function": "FnRef.fn",
         "id": "-4776990705966808929"
        },
        {
         "args": [
          "7737634984556270748",
          "2111774232829784232",
          "-4776990705966808929"
         ],
         "function": "ModRef.mod",
         "id": "-7586021199695068469"
        },
        {
         "args": [
          "-7586021199695068469"
         ],
         "function": "mod_str",
         "id": "-3280697714879838670"
        },
        {
         "args": [
          "-3280697714879838670"
         ],
         "function": "ModuleRef.create",
         "id": "866281494262904860"
        },
        {
         "args": [
          "866281494262904860",
          "3983604008656577675"
         ],
         "function": "ModuleRef.optimize",
         "id": "-6076521447200291669"
        },
        {
         "args": [
          "-6076521447200291669"
         ],
         "function": "ExecutionEngine.create",
         "id": "116848333606897681"
        },
        {
         "args": [
          "116848333606897681",
          "7472286698678586480"
         ],
         "function": "ExecutionEngine.get_function_address",
         "id": "-5559021611213663358"
        },
        {
         "args": [
          "1697655936302530065",
          "-5559021611213663358"
         ],
         "function": "CFunctionType.__call__",
         "id": "8576777687872011638"
        },
        {
         "id": "-2984941212226017690",
         "repr": "entry_add",
         "type": "str"
        },
        {
         "args": [
          "-1527395180372767776",
          "-2984941212226017690",
          "-4985343500595106525",
          "-5260875163968332958"
         ],
         "function": "ModRef.fn",
         "id": "5183321514827014333"
        },
        {
         "args": [
          "5183321514827014333",
          "3989267796447890075",
          "7830199984865616153",
          "-8690275576870928539"
         ],
         "function": "FnRef._block",
         "id": "-3761044258668532081"
        },
        {
         "args": [
          "5183321514827014333"
         ],
         "function": "FnRef.arguments",
         "id": "5468328213098423986"
        },
        {
         "args": [
          "-3761044258668532081",
          "-5972067394669943981",
          "5468328213098423986"
         ],
         "function": "BlockRef.call",
         "id": "-4312652255648408784"
        },
        {
         "args": [
          "-3761044258668532081",
          "-4312652255648408784"
         ],
         "function": "BlockRef.ret",
         "id": "2922062691644531485"
        },
        {
         "args": [
          "5183321514827014333",
          "2922062691644531485"
         ],
         "function": "FnRef.fn",
         "id": "3790588192509921166"
        },
        {
         "args": [
          "7737634984556270748",
          "2111774232829784232",
          "3790588192509921166"
         ],
         "function": "ModRef.mod",
         "id": "7107395932725630077"
        },
        {
         "args": [
          "7107395932725630077"
         ],
         "function": "mod_str",
         "id": "-7866628168569919286"
        },
        {
         "args": [
          "-7866628168569919286"
         ],
         "function": "ModuleRef.create",
         "id": "2393875709399208266"
        },
        {
         "args": [
          "2393875709399208266",
          "3983604008656577675"
         ],
         "function": "ModuleRef.optimize",
         "id": "503838973197597324"
        },
        {
         "args": [
          "503838973197597324"
         ],
         "function": "ExecutionEngine.create",
         "id": "-1899824831641270224"
        },
        {
         "args": [
          "-1899824831641270224",
          "-2984941212226017690"
         ],
         "function": "ExecutionEngine.get_function_address",
         "id": "-6123566777187082619"
        },
        {
         "args": [
          "1697655936302530065",
          "-6123566777187082619"
         ],
         "function": "CFunctionType.__call__",
         "id": "7612553953281520871"
        },
        {
         "args": [
          "7737634984556270748",
          "-2984941212226017690",
          "-4985343500595106525",
          "-5260875163968332958"
         ],
         "function": "ModRef.fn",
         "id": "6968872193311742620"
        },
        {
         "args": [
          "6968872193311742620",
          "3989267796447890075",
          "7830199984865616153",
          "-8690275576870928539"
         ],
         "function": "FnRef._block",
         "id": "7276256935751629359"
        },
        {
         "args": [
          "6968872193311742620"
         ],
         "function": "FnRef.arguments",
         "id": "1313873111100941714"
        },
        {
         "args": [
          "7276256935751629359",
          "-5972067394669943981",
          "1313873111100941714"
         ],
         "function": "BlockRef.call",
         "id": "-5732371213606170950"
        },
        {
         "args": [
          "7276256935751629359",
          "-5732371213606170950"
         ],
         "function": "BlockRef.ret",
         "id": "9102470140534664960"
        },
        {
         "args": [
          "6968872193311742620",
          "9102470140534664960"
         ],
         "function": "FnRef.fn",
         "id": "4995860956708364501"
        },
        {
         "args": [
          "7737634984556270748",
          "2111774232829784232",
          "4995860956708364501"
         ],
         "function": "ModRef.mod",
         "id": "4043254346200596165"
        },
        {
         "args": [
          "4043254346200596165"
         ],
         "function": "mod_str",
         "id": "-4222213670159268860"
        },
        {
         "args": [
          "-4222213670159268860"
         ],
         "function": "ModuleRef.create",
         "id": "7658188042565969462"
        },
        {
         "args": [
          "7658188042565969462",
          "3983604008656577675"
         ],
         "function": "ModuleRef.optimize",
         "id": "-7078469886543537906"
        },
        {
         "args": [
          "-7078469886543537906"
         ],
         "function": "ExecutionEngine.create",
         "id": "7397613747890437547"
        },
        {
         "args": [
          "7397613747890437547",
          "-2984941212226017690"
         ],
         "function": "ExecutionEngine.get_function_address",
         "id": "8997293144370884983"
        },
        {
         "args": [
          "1697655936302530065",
          "8997293144370884983"
         ],
         "function": "CFunctionType.__call__",
         "id": "-7425953175394274092"
        },
        {
         "args": [
          "2869849078853932976"
         ],
         "function": "llvm_to_c_fn_type",
         "id": "5245807926375010913"
        },
        {
         "args": [
          "7737634984556270748",
          "-2984941212226017690",
          "2869849078853932976",
          "-5260875163968332958"
         ],
         "function": "ModRef.fn",
         "id": "4215205782365650220"
        },
        {
         "args": [
          "4215205782365650220",
          "3989267796447890075",
          "7830199984865616153",
          "-8690275576870928539"
         ],
         "function": "FnRef._block",
         "id": "-1974251841923644723"
        },
        {
         "args": [
          "4215205782365650220"
         ],
         "function": "FnRef.arguments",
         "id": "-505398600127673640"
        },
        {
         "args": [
          "-1974251841923644723",
          "-5972067394669943981",
          "-505398600127673640"
         ],
         "function": "BlockRef.call",
         "id": "7144237358839531057"
        },
        {
         "args": [
          "-1974251841923644723",
          "7144237358839531057"
         ],
         "function": "BlockRef.ret",
         "id": "6258450062190691147"
        },
        {
         "args": [
          "4215205782365650220",
          "6258450062190691147"
         ],
         "function": "FnRef.fn",
         "id": "9074464842586441313"
        },
        {
         "args": [
          "7737634984556270748",
          "2111774232829784232",
          "9074464842586441313"
         ],
         "function": "ModRef.mod",
         "id": "2046879977701736592"
        },
        {
         "args": [
          "2046879977701736592"
         ],
         "function": "mod_str",
         "id": "26091649305361562"
        },
        {
         "args": [
          "26091649305361562"
         ],
         "function": "ModuleRef.create",
         "id": "8751698392795066219"
        },
        {
         "args": [
          "8751698392795066219",
          "3983604008656577675"
         ],
         "function": "ModuleRef.optimize",
         "id": "1744773636298385921"
        },
        {
         "args": [
          "1744773636298385921"
         ],
         "function": "ExecutionEngine.create",
         "id": "3413620722302886361"
        },
        {
         "args": [
          "3413620722302886361",
          "-2984941212226017690"
         ],
         "function": "ExecutionEngine.get_function_address",
         "id": "-4446691840062581989"
        },
        {
         "args": [
          "5245807926375010913",
          "-4446691840062581989"
         ],
         "function": "CFunctionType.__call__",
         "id": "-5969441712762382042"
        },
        {
         "args": [
          "-3409559652977700816"
         ],
         "function": "llvm_to_c_type",
         "id": "2825487785775591143"
        },
        {
         "args": [
          "2825487785775591143",
          "2825487785775591143",
          "2825487785775591143"
         ],
         "function": "CFunctionType.create",
         "id": "9079606624536008725"
        },
        {
         "args": [
          "9079606624536008725",
          "-4446691840062581989"
         ],
         "function": "CFunctionType.__call__",
         "id": "7830857287434364001"
        },
        {
         "function": "CType.c_int",
         "id": "-7369207672731654775"
        },
        {
         "args": [
          "-7369207672731654775",
          "-7369207672731654775",
          "-7369207672731654775"
         ],
         "function": "CFunctionType.create",
         "id": "-4832594004965039253"
        },
        {
         "args": [
          "-4832594004965039253",
          "-4446691840062581989"
         ],
         "function": "CFunctionType.__call__",
         "id": "-9218201750568846196"
        },
        {
         "id": "6870387319334885556",
         "repr": "i32",
         "type": "IntType"
        },
        {
         "args": [
          "6870387319334885556"
         ],
         "function": "box_type",
         "id": "-468902764806947638"
        },
        {
         "args": [
          "-468902764806947638",
          "-468902764806947638",
          "-468902764806947638"
         ],
         "function": "FnType.create",
         "id": "-6293883560705338731"
        },
        {
         "args": [
          "7737634984556270748",
          "3348305646612022562",
          "-6293883560705338731",
          "-4379724003781273686"
         ],
         "function": "ModRef.fn",
         "id": "6938571637573938329"
        },
        {
         "args": [
          "6938571637573938329",
          "3989267796447890075",
          "3959146490344299550",
          "-8690275497361632339"
         ],
         "function": "FnRef._block",
         "id": "6468141984572031221"
        },
        {
         "args": [
          "6938571637573938329"
         ],
         "function": "FnRef.arguments",
         "id": "-3456168612184306971"
        },
        {
         "args": [
          "-3456168612184306971",
          "7019033112043945449"
         ],
         "function": "Vec.__getitem__",
         "id": "-5764990595407444402",
         "type_params": {
          "T": {
           "type": "Value"
          }
         }
        },
        {
         "args": [
          "-3456168612184306971",
          "7427462424716739544"
         ],
         "function": "Vec.__getitem__",
         "id": "-8339197911769926045",
         "type_params": {
          "T": {
           "type": "Value"
          }
         }
        },
        {
         "args": [
          "-5764990595407444402",
          "-8339197911769926045"
         ],
         "function": "Vec.create",
         "id": "3287624691885027562"
        },
        {
         "args": [
          "6468141984572031221",
          "6938571637573938329",
          "3287624691885027562"
         ],
         "function": "BlockRef.call",
         "id": "4690450661117845403"
        },
        {
         "args": [
          "6468141984572031221",
          "4690450661117845403"
         ],
         "function": "BlockRef.ret",
         "id": "-1473663354356572078"
        },
        {
         "args": [
          "6938571637573938329",
          "-1473663354356572078"
         ],
         "function": "FnRef.fn",
         "id": "-8568119952401659875"
        },
        {
         "args": [
          "7737634984556270748",
          "-2984941212226017690",
          "-6293883560705338731",
          "-5260875163968332958"
         ],
         "function": "ModRef.fn",
         "id": "1725576495363602342"
        },
        {
         "args": [
          "1725576495363602342",
          "3989267796447890075",
          "7830199984865616153",
          "-8690275576870928539"
         ],
         "function": "FnRef._block",
         "id": "-2525610391585297620"
        },
        {
         "args": [
          "1725576495363602342"
         ],
         "function": "FnRef.arguments",
         "id": "6153223190414310375"
        },
        {
         "args": [
          "-2525610391585297620",
          "6938571637573938329",
          "6153223190414310375"
         ],
         "function": "BlockRef.call",
         "id": "5904931489179258137"
        },
        {
         "args": [
          "-2525610391585297620",
          "5904931489179258137"
         ],
         "function": "BlockRef.ret",
         "id": "8969085148556710180"
        },
        {
         "args": [
          "1725576495363602342",
          "8969085148556710180"
         ],
         "function": "FnRef.fn",
         "id": "-4511843451375261624"
        },
        {
         "args": [
          "7737634984556270748",
          "-8568119952401659875",
          "-4511843451375261624"
         ],
         "function": "ModRef.mod",
         "id": "3873538943268364387"
        },
        {
         "args": [
          "3873538943268364387"
         ],
         "function": "mod_str",
         "id": "-1570424051261528434"
        },
        {
         "args": [
          "-1570424051261528434"
         ],
         "function": "ModuleRef.create",
         "id": "3526428101222287327"
        },
        {
         "args": [
          "3526428101222287327",
          "3983604008656577675"
         ],
         "function": "ModuleRef.optimize",
         "id": "720802186524311719"
        },
        {
         "args": [
          "720802186524311719"
         ],
         "function": "ExecutionEngine.create",
         "id": "-5197669283117006513"
        },
        {
         "args": [
          "-5197669283117006513",
          "-2984941212226017690"
         ],
         "function": "ExecutionEngine.get_function_address",
         "id": "-4080223703932932604"
        },
        {
         "args": [
          "-4832594004965039253",
          "-4080223703932932604"
         ],
         "function": "CFunctionType.__call__",
         "id": "-7248996879632524721"
        },
        {
         "id": "-826781629304548292",
         "repr": "i32 (i32, i32)",
         "type": "FunctionType"
        },
        {
         "args": [
          "-826781629304548292"
         ],
         "function": "box_fn_type",
         "id": "2442641081084090448"
        },
        {
         "args": [
          "7737634984556270748",
          "3348305646612022562",
          "2442641081084090448",
          "-4379724003781273686"
         ],
         "function": "ModRef.fn",
         "id": "-8701725900073914061"
        },
        {
         "args": [
          "-8701725900073914061",
          "3989267796447890075",
          "3959146490344299550",
          "-8690275497361632339"
         ],
         "function": "FnRef._block",
         "id": "-6486380316333790679"
        },
        {
         "args": [
          "-8701725900073914061"
         ],
         "function": "FnRef.arguments",
         "id": "1126156143613236313"
        },
        {
         "args": [
          "1126156143613236313",
          "7019033112043945449"
         ],
         "function": "Vec.__getitem__",
         "id": "5581005319940643747",
         "type_params": {
          "T": {
           "type": "Value"
          }
         }
        },
        {
         "args": [
          "1126156143613236313",
          "7427462424716739544"
         ],
         "function": "Vec.__getitem__",
         "id": "-2173043601071102834",
         "type_params": {
          "T": {
           "type": "Value"
          }
         }
        },
        {
         "args": [
          "5581005319940643747",
          "-2173043601071102834"
         ],
         "function": "Vec.create",
         "id": "-5362675712189378947"
        },
        {
         "args": [
          "-6486380316333790679",
          "-8701725900073914061",
          "-5362675712189378947"
         ],
         "function": "BlockRef.call",
         "id": "3008846985932098447"
        },
        {
         "args": [
          "-6486380316333790679",
          "3008846985932098447"
         ],
         "function": "BlockRef.ret",
         "id": "-2885913257727908579"
        },
        {
         "args": [
          "-8701725900073914061",
          "-2885913257727908579"
         ],
         "function": "FnRef.fn",
         "id": "-5424487591936185845"
        },
        {
         "args": [
          "7737634984556270748",
          "-2984941212226017690",
          "2442641081084090448",
          "-5260875163968332958"
         ],
         "function": "ModRef.fn",
         "id": "462768716226158988"
        },
        {
         "args": [
          "462768716226158988",
          "3989267796447890075",
          "7830199984865616153",
          "-8690275576870928539"
         ],
         "function": "FnRef._block",
         "id": "-1728765800570778510"
        },
        {
         "args": [
          "462768716226158988"
         ],
         "function": "FnRef.arguments",
         "id": "5322988382106462965"
        },
        {
         "args": [
          "-1728765800570778510",
          "-8701725900073914061",
          "5322988382106462965"
         ],
         "function": "BlockRef.call",
         "id": "-7861542044184018852"
        },
        {
         "args": [
          "-1728765800570778510",
          "-7861542044184018852"
         ],
         "function": "BlockRef.ret",
         "id": "4139354385303619999"
        },
        {
         "args": [
          "462768716226158988",
          "4139354385303619999"
         ],
         "function": "FnRef.fn",
         "id": "5211548907575979363"
        },
        {
         "args": [
          "7737634984556270748",
          "-5424487591936185845",
          "5211548907575979363"
         ],
         "function": "ModRef.mod",
         "id": "2354979960524753574"
        },
        {
         "args": [
          "2354979960524753574"
         ],
         "function": "mod_str",
         "id": "1560095314092805865"
        },
        {
         "args": [
          "1560095314092805865"
         ],
         "function": "ModuleRef.create",
         "id": "-586856034738748092"
        },
        {
         "args": [
          "-586856034738748092",
          "3983604008656577675"
         ],
         "function": "ModuleRef.optimize",
         "id": "7163741317933802019"
        },
        {
         "args": [
          "7163741317933802019"
         ],
         "function": "ExecutionEngine.create",
         "id": "-2346641356107285470"
        },
        {
         "args": [
          "-2346641356107285470",
          "-2984941212226017690"
         ],
         "function": "ExecutionEngine.get_function_address",
         "id": "-7525428053012953216"
        },
        {
         "args": [
          "-4832594004965039253",
          "-7525428053012953216"
         ],
         "function": "CFunctionType.__call__",
         "id": "-5073721636441852875"
        },
        {
         "id": "95867655257050429",
         "repr": "; ModuleID = \"add\"\ntarget triple = \"unknown-unknown-unknown\"\ntarget datalayout = \"\"\n",
         "type": "Module"
        },
        {
         "args": [
          "95867655257050429"
         ],
         "function": "box_mod_ref",
         "id": "2996298028337212392"
        },
        {
         "args": [
          "2996298028337212392",
          "3348305646612022562",
          "2442641081084090448",
          "-4379724003781273686"
         ],
         "function": "ModRef.fn",
         "id": "-135040962743676395"
        },
        {
         "args": [
          "-135040962743676395",
          "3989267796447890075",
          "3959146490344299550",
          "-8690275497361632339"
         ],
         "function": "FnRef._block",
         "id": "-4139889282567285918"
        },
        {
         "args": [
          "-135040962743676395"
         ],
         "function": "FnRef.arguments",
         "id": "1728712879257262224"
        },
        {
         "args": [
          "1728712879257262224",
          "7019033112043945449"
         ],
         "function": "Vec.__getitem__",
         "id": "6415726475128599050",
         "type_params": {
          "T": {
           "type": "Value"
          }
         }
        },
        {
         "args": [
          "1728712879257262224",
          "7427462424716739544"
         ],
         "function": "Vec.__getitem__",
         "id": "-3382240628903717049",
         "type_params": {
          "T": {
           "type": "Value"
          }
         }
        },
        {
         "args": [
          "6415726475128599050",
          "-3382240628903717049"
         ],
         "function": "Vec.create",
         "id": "-6854689840706829216"
        },
        {
         "args": [
          "-4139889282567285918",
          "-135040962743676395",
          "-6854689840706829216"
         ],
         "function": "BlockRef.call",
         "id": "8957035761048670035"
        },
        {
         "args": [
          "-4139889282567285918",
          "8957035761048670035"
         ],
         "function": "BlockRef.ret",
         "id": "-5206195349095340563"
        },
        {
         "args": [
          "-135040962743676395",
          "-5206195349095340563"
         ],
         "function": "FnRef.fn",
         "id": "2646931432105524403"
        },
        {
         "args": [
          "2996298028337212392",
          "-2984941212226017690",
          "2442641081084090448",
          "-5260875163968332958"
         ],
         "function": "ModRef.fn",
         "id": "2614525526752699578"
        },
        {
         "args": [
          "2614525526752699578",
          "3989267796447890075",
          "7830199984865616153",
          "-8690275576870928539"
         ],
         "function": "FnRef._block",
         "id": "5236921565537709371"
        },
        {
         "args": [
          "2614525526752699578"
         ],
         "function": "FnRef.arguments",
         "id": "8600217725753515742"
        },
        {
         "args": [
          "5236921565537709371",
          "-135040962743676395",
          "8600217725753515742"
         ],
         "function": "BlockRef.call",
         "id": "2269522542354081086"
        },
        {
         "args": [
          "5236921565537709371",
          "2269522542354081086"
         ],
         "function": "BlockRef.ret",
         "id": "5934834327361213337"
        },
        {
         "args": [
          "2614525526752699578",
          "5934834327361213337"
         ],
         "function": "FnRef.fn",
         "id": "-3583290955900374207"
        },
        {
         "args": [
          "2996298028337212392",
          "2646931432105524403",
          "-3583290955900374207"
         ],
         "function": "ModRef.mod",
         "id": "-2835480131275826882"
        },
        {
         "args": [
          "-2835480131275826882"
         ],
         "function": "mod_str",
         "id": "215212608448439867"
        },
        {
         "args": [
          "215212608448439867"
         ],
         "function": "ModuleRef.create",
         "id": "1618589470356266590"
        },
        {
         "args": [
          "1618589470356266590",
          "3983604008656577675"
         ],
         "function": "ModuleRef.optimize",
         "id": "-5808530057966281487"
        },
        {
         "args": [
          "-5808530057966281487"
         ],
         "function": "ExecutionEngine.create",
         "id": "-6951714345763779641"
        },
        {
         "args": [
          "-6951714345763779641",
          "-2984941212226017690"
         ],
         "function": "ExecutionEngine.get_function_address",
         "id": "-682643418510113183"
        },
        {
         "args": [
          "-4832594004965039253",
          "-682643418510113183"
         ],
         "function": "CFunctionType.__call__",
         "id": "-1790203810296832343"
        },
        {
         "id": "2360140828162364202",
         "repr": "; ModuleID = \"add\"\ntarget triple = \"unknown-unknown-unknown\"\ntarget datalayout = \"\"\n\ndeclare i32 @\"entry_add\"(i32 %\".1\", i32 %\".2\") \n",
         "type": "Module"
        },
        {
         "args": [
          "2360140828162364202"
         ],
         "function": "box_mod_ref",
         "id": "-6210335128601071026"
        },
        {
         "args": [
          "-6210335128601071026",
          "3348305646612022562",
          "2442641081084090448",
          "-4379724003781273686"
         ],
         "function": "ModRef.fn",
         "id": "-3863564130294878130"
        },
        {
         "args": [
          "-3863564130294878130",
          "3989267796447890075",
          "3959146490344299550",
          "-8690275497361632339"
         ],
         "function": "FnRef._block",
         "id": "-4446299493215310278"
        },
        {
         "args": [
          "-3863564130294878130"
         ],
         "function": "FnRef.arguments",
         "id": "6109888069733057272"
        },
        {
         "args": [
          "6109888069733057272",
          "7019033112043945449"
         ],
         "function": "Vec.__getitem__",
         "id": "-2433445151196983592",
         "type_params": {
          "T": {
           "type": "Value"
          }
         }
        },
        {
         "args": [
          "6109888069733057272",
          "7427462424716739544"
         ],
         "function": "Vec.__getitem__",
         "id": "3041389000235361769",
         "type_params": {
          "T": {
           "type": "Value"
          }
         }
        },
        {
         "args": [
          "-2433445151196983592",
          "3041389000235361769"
         ],
         "function": "Vec.create",
         "id": "-1343113755371156269"
        },
        {
         "args": [
          "-4446299493215310278",
          "-3863564130294878130",
          "-1343113755371156269"
         ],
         "function": "BlockRef.call",
         "id": "138308610344115480"
        },
        {
         "args": [
          "-4446299493215310278",
          "138308610344115480"
         ],
         "function": "BlockRef.ret",
         "id": "8880999104492469179"
        },
        {
         "args": [
          "-3863564130294878130",
          "8880999104492469179"
         ],
         "function": "FnRef.fn",
         "id": "3494171946637035804"
        },
        {
         "id": "-575449357756553135",
         "repr": "declare i32 @\"entry_add\"(i32 %\".1\", i32 %\".2\") \n",
         "type": "Function"
        },
        {
         "args": [
          "-575449357756553135"
         ],
         "function": "box_fn_ref",
         "id": "7739737322719512596"
        },
        {
         "args": [
          "7739737322719512596",
          "3989267796447890075",
          "7830199984865616153",
          "-8690275576870928539"
         ],
         "function": "FnRef._block",
         "id": "7384941509405791799"
        },
        {
         "args": [
          "7739737322719512596"
         ],
         "function": "FnRef.arguments",
         "id": "-7114775657053586310"
        },
        {
         "args": [
          "7384941509405791799",
          "-3863564130294878130",
          "-7114775657053586310"
         ],
         "function": "BlockRef.call",
         "id": "-8497930883926023415"
        },
        {
         "args": [
          "7384941509405791799",
          "-8497930883926023415"
         ],
         "function": "BlockRef.ret",
         "id": "-6745144060572183070"
        },
        {
         "args": [
          "7739737322719512596",
          "-6745144060572183070"
         ],
         "function": "FnRef.fn",
         "id": "-1888937335441559592"
        },
        {
         "args": [
          "-6210335128601071026",
          "3494171946637035804",
          "-1888937335441559592"
         ],
         "function": "ModRef.mod",
         "id": "4542179248039059824"
        },
        {
         "args": [
          "4542179248039059824"
         ],
         "function": "mod_str",
         "id": "-2653661485303664657"
        },
        {
         "args": [
          "-2653661485303664657"
         ],
         "function": "ModuleRef.create",
         "id": "-3217132378370077889"
        },
        {
         "args": [
          "-3217132378370077889",
          "3983604008656577675"
         ],
         "function": "ModuleRef.optimize",
         "id": "-6625835023143932271"
        },
        {
         "args": [
          "-6625835023143932271"
         ],
         "function": "ExecutionEngine.create",
         "id": "6944291118458973607"
        },
        {
         "args": [
          "6944291118458973607",
          "-2984941212226017690"
         ],
         "function": "ExecutionEngine.get_function_address",
         "id": "-3274320108512604341"
        },
        {
         "args": [
          "-4832594004965039253",
          "-3274320108512604341"
         ],
         "function": "CFunctionType.__call__",
         "id": "-2191191792045542788"
        },
        {
         "id": "500370979468064865",
         "repr": "i32 %\".1\"",
         "type": "Argument"
        },
        {
         "args": [
          "500370979468064865"
         ],
         "function": "box_value",
         "id": "-7616708390101148811"
        },
        {
         "id": "500370979543841615",
         "repr": "i32 %\".2\"",
         "type": "Argument"
        },
        {
         "args": [
          "500370979543841615"
         ],
         "function": "box_value",
         "id": "2480474957416993115"
        },
        {
         "args": [
          "-7616708390101148811",
          "2480474957416993115"
         ],
         "function": "Vec.create",
         "id": "-6151222628179861720"
        },
        {
         "args": [
          "7384941509405791799",
          "-3863564130294878130",
          "-6151222628179861720"
         ],
         "function": "BlockRef.call",
         "id": "4978020571874080778"
        },
        {
         "args": [
          "7384941509405791799",
          "4978020571874080778"
         ],
         "function": "BlockRef.ret",
         "id": "3822276655823711724"
        },
        {
         "args": [
          "7739737322719512596",
          "3822276655823711724"
         ],
         "function": "FnRef.fn",
         "id": "-9034749009122115577"
        },
        {
         "args": [
          "-6210335128601071026",
          "3494171946637035804",
          "-9034749009122115577"
         ],
         "function": "ModRef.mod",
         "id": "-3416993614736311076"
        },
        {
         "args": [
          "-3416993614736311076"
         ],
         "function": "mod_str",
         "id": "-5862023583276051443"
        },
        {
         "args": [
          "-5862023583276051443"
         ],
         "function": "ModuleRef.create",
         "id": "7517068547875356750"
        },
        {
         "args": [
          "7517068547875356750",
          "3983604008656577675"
         ],
         "function": "ModuleRef.optimize",
         "id": "8704883222533002454"
        },
        {
         "args": [
          "8704883222533002454"
         ],
         "function": "ExecutionEngine.create",
         "id": "6465090946097499713"
        },
        {
         "args": [
          "6465090946097499713",
          "-2984941212226017690"
         ],
         "function": "ExecutionEngine.get_function_address",
         "id": "475982362939326854"
        },
        {
         "args": [
          "-4832594004965039253",
          "475982362939326854"
         ],
         "function": "CFunctionType.__call__",
         "id": "7459206528350816472"
        },
        {
         "id": "6776343022675547928",
         "repr": "; ModuleID = \"add\"\ntarget triple = \"unknown-unknown-unknown\"\ntarget datalayout = \"\"\n\ndefine i32 @\"entry_add\"(i32 %\".1\", i32 %\".2\") \n{\nentry:\n}\n",
         "type": "Module"
        },
        {
         "args": [
          "6776343022675547928"
         ],
         "function": "box_mod_ref",
         "id": "4351663900568297803"
        },
        {
         "args": [
          "4351663900568297803",
          "3348305646612022562",
          "2442641081084090448",
          "-4379724003781273686"
         ],
         "function": "ModRef.fn",
         "id": "8335140971024092494"
        },
        {
         "args": [
          "8335140971024092494",
          "3989267796447890075",
          "3959146490344299550",
          "-8690275497361632339"
         ],
         "function": "FnRef._block",
         "id": "-6541836317187708498"
        },
        {
         "args": [
          "8335140971024092494"
         ],
         "function": "FnRef.arguments",
         "id": "2019047208736654012"
        },
        {
         "args": [
          "2019047208736654012",
          "7019033112043945449"
         ],
         "function": "Vec.__getitem__",
         "id": "-7761358509533537722",
         "type_params": {
          "T": {
           "type": "Value"
          }
         }
        },
        {
         "args": [
          "2019047208736654012",
          "7427462424716739544"
         ],
         "function": "Vec.__getitem__",
         "id": "1135984243038265851",
         "type_params": {
          "T": {
           "type": "Value"
          }
         }
        },
        {
         "args": [
          "-7761358509533537722",
          "1135984243038265851"
         ],
         "function": "Vec.create",
         "id": "2741017937357248784"
        },
        {
         "args": [
          "-6541836317187708498",
          "8335140971024092494",
          "2741017937357248784"
         ],
         "function": "BlockRef.call",
         "id": "4653140662234762057"
        },
        {
         "args": [
          "-6541836317187708498",
          "4653140662234762057"
         ],
         "function": "BlockRef.ret",
         "id": "7406043596945004239"
        },
        {
         "args": [
          "8335140971024092494",
          "7406043596945004239"
         ],
         "function": "FnRef.fn",
         "id": "-1273243698892533788"
        },
        {
         "id": "-4936174820826908713",
         "repr": "define i32 @\"entry_add\"(i32 %\".1\", i32 %\".2\") \n{\nentry:\n}\n",
         "type": "Function"
        },
        {
         "args": [
          "-4936174820826908713"
         ],
         "function": "box_fn_ref",
         "id": "4873703656565164264"
        },
        {
         "id": "6317658749938089218",
         "repr": "IRBuilder: 0x7fd178922eb8\n%\"entry\" = entry:",
         "type": "IRBuilder"
        },
        {
         "args": [
          "6317658749938089218"
         ],
         "function": "box_block_ref",
         "id": "-4674462332322945158"
        },
        {
         "args": [
          "-4674462332322945158",
          "8335140971024092494",
          "-6151222628179861720"
         ],
         "function": "BlockRef.call",
         "id": "7853517006007923296"
        },
        {
         "args": [
          "-4674462332322945158",
          "7853517006007923296"
         ],
         "function": "BlockRef.ret",
         "id": "-1183460941423829341"
        },
        {
         "args": [
          "4873703656565164264",
          "-1183460941423829341"
         ],
         "function": "FnRef.fn",
         "id": "675133001879185568"
        },
        {
         "args": [
          "4351663900568297803",
          "-1273243698892533788",
          "675133001879185568"
         ],
         "function": "ModRef.mod",
         "id": "2618191636616448353"
        },
        {
         "args": [
          "2618191636616448353"
         ],
         "function": "mod_str",
         "id": "8983874398018758208"
        },
        {
         "args": [
          "8983874398018758208"
         ],
         "function": "ModuleRef.create",
         "id": "8025934061151069430"
        },
        {
         "args": [
          "8025934061151069430",
          "3983604008656577675"
         ],
         "function": "ModuleRef.optimize",
         "id": "4922667896256906190"
        },
        {
         "args": [
          "4922667896256906190"
         ],
         "function": "ExecutionEngine.create",
         "id": "7309759114726078892"
        },
        {
         "args": [
          "7309759114726078892",
          "-2984941212226017690"
         ],
         "function": "ExecutionEngine.get_function_address",
         "id": "-4738897954627031670"
        },
        {
         "args": [
          "-4832594004965039253",
          "-4738897954627031670"
         ],
         "function": "CFunctionType.__call__",
         "id": "6726549506506462070"
        },
        {
         "id": "2465745500258163737",
         "repr": "; ModuleID = \"add\"\ntarget triple = \"unknown-unknown-unknown\"\ntarget datalayout = \"\"\n\ndefine i32 @\"entry_add\"(i32 %\".1\", i32 %\".2\") \n{\nentry:\n}\n\ndeclare fastcc i32 @\"add\"(i32 %\".1\", i32 %\".2\") \n",
         "type": "Module"
        },
        {
         "args": [
          "2465745500258163737"
         ],
         "function": "box_mod_ref",
         "id": "2489926339807240267"
        },
        {
         "id": "3885443239584966099",
         "repr": "declare fastcc i32 @\"add\"(i32 %\".1\", i32 %\".2\") \n",
         "type": "Function"
        },
        {
         "args": [
          "3885443239584966099"
         ],
         "function": "box_fn_ref",
         "id": "1257706538228534965"
        },
        {
         "args": [
          "1257706538228534965",
          "3989267796447890075",
          "3959146490344299550",
          "-8690275497361632339"
         ],
         "function": "FnRef._block",
         "id": "6892787444461948610"
        },
        {
         "args": [
          "1257706538228534965"
         ],
         "function": "FnRef.arguments",
         "id": "4419298775450375344"
        },
        {
         "args": [
          "4419298775450375344",
          "7019033112043945449"
         ],
         "function": "Vec.__getitem__",
         "id": "-1317112524168196517",
         "type_params": {
          "T": {
           "type": "Value"
          }
         }
        },
        {
         "args": [
          "4419298775450375344",
          "7427462424716739544"
         ],
         "function": "Vec.__getitem__",
         "id": "-4277872137869341850",
         "type_params": {
          "T": {
           "type": "Value"
          }
         }
        },
        {
         "args": [
          "-1317112524168196517",
          "-4277872137869341850"
         ],
         "function": "Vec.create",
         "id": "5755991046833985402"
        },
        {
         "args": [
          "6892787444461948610",
          "1257706538228534965",
          "5755991046833985402"
         ],
         "function": "BlockRef.call",
         "id": "3420480420125626778"
        },
        {
         "args": [
          "6892787444461948610",
          "3420480420125626778"
         ],
         "function": "BlockRef.ret",
         "id": "4306538893465879847"
        },
        {
         "args": [
          "1257706538228534965",
          "4306538893465879847"
         ],
         "function": "FnRef.fn",
         "id": "-5149174327734208126"
        },
        {
         "args": [
          "-4674462332322945158",
          "1257706538228534965",
          "-6151222628179861720"
         ],
         "function": "BlockRef.call",
         "id": "8558265900277420132"
        },
        {
         "args": [
          "-4674462332322945158",
          "8558265900277420132"
         ],
         "function": "BlockRef.ret",
         "id": "7058112720285105343"
        },
        {
         "args": [
          "4873703656565164264",
          "7058112720285105343"
         ],
         "function": "FnRef.fn",
         "id": "621010108331398171"
        },
        {
         "args": [
          "2489926339807240267",
          "-5149174327734208126",
          "621010108331398171"
         ],
         "function": "ModRef.mod",
         "id": "2937901365407098536"
        },
        {
         "args": [
          "2937901365407098536"
         ],
         "function": "mod_str",
         "id": "4086796361536144903"
        },
        {
         "args": [
          "4086796361536144903"
         ],
         "function": "ModuleRef.create",
         "id": "8398225705183008161"
        },
        {
         "args": [
          "8398225705183008161",
          "3983604008656577675"
         ],
         "function": "ModuleRef.optimize",
         "id": "1767203794910948163"
        },
        {
         "args": [
          "1767203794910948163"
         ],
         "function": "ExecutionEngine.create",
         "id": "-4966738795038598285"
        },
        {
         "args": [
          "-4966738795038598285",
          "-2984941212226017690"
         ],
         "function": "ExecutionEngine.get_function_address",
         "id": "-891282996908130256"
        },
        {
         "args": [
          "-4832594004965039253",
          "-891282996908130256"
         ],
         "function": "CFunctionType.__call__",
         "id": "-1673254997855952562"
        },
        {
         "id": "8594119418464356648",
         "repr": "; ModuleID = \"add\"\ntarget triple = \"unknown-unknown-unknown\"\ntarget datalayout = \"\"\n\ndefine i32 @\"entry_add\"(i32 %\".1\", i32 %\".2\") \n{\nentry:\n  %\".4\" = call fastcc i32 @\"add\"(i32 %\".1\", i32 %\".2\")\n}\n\ndeclare fastcc i32 @\"add\"(i32 %\".1\", i32 %\".2\") \n",
         "type": "Module"
        },
        {
         "args": [
          "8594119418464356648"
         ],
         "function": "box_mod_ref",
         "id": "-6272471128486538162"
        },
        {
         "id": "-269407498928847165",
         "repr": "define i32 @\"entry_add\"(i32 %\".1\", i32 %\".2\") \n{\nentry:\n  %\".4\" = call fastcc i32 @\"add\"(i32 %\".1\", i32 %\".2\")\n}\n",
         "type": "Function"
        },
        {
         "args": [
          "-269407498928847165"
         ],
         "function": "box_fn_ref",
         "id": "-3742080571003151394"
        },
        {
         "id": "-8189292920935434047",
         "repr": "%\".4\" = call fastcc i32 @\"add\"(i32 %\".1\", i32 %\".2\")",
         "type": "CallInstr"
        },
        {
         "args": [
          "-8189292920935434047"
         ],
         "function": "box_value",
         "id": "-4205899661475393402"
        },
        {
         "args": [
          "-4674462332322945158",
          "-4205899661475393402"
         ],
         "function": "BlockRef.ret",
         "id": "-1902328135573598283"
        },
        {
         "args": [
          "-3742080571003151394",
          "-1902328135573598283"
         ],
         "function": "FnRef.fn",
         "id": "-1637209301238491735"
        },
        {
         "args": [
          "-6272471128486538162",
          "-5149174327734208126",
          "-1637209301238491735"
         ],
         "function": "ModRef.mod",
         "id": "97124551889127034"
        },
        {
         "args": [
          "97124551889127034"
         ],
         "function": "mod_str",
         "id": "4871125263158138040"
        },
        {
         "args": [
          "4871125263158138040"
         ],
         "function": "ModuleRef.create",
         "id": "5143106400084579467"
        },
        {
         "args": [
          "5143106400084579467",
          "3983604008656577675"
         ],
         "function": "ModuleRef.optimize",
         "id": "-914647800888802774"
        },
        {
         "args": [
          "-914647800888802774"
         ],
         "function": "ExecutionEngine.create",
         "id": "3694898028248997214"
        },
        {
         "args": [
          "3694898028248997214",
          "-2984941212226017690"
         ],
         "function": "ExecutionEngine.get_function_address",
         "id": "1191895857152970138"
        },
        {
         "args": [
          "-4832594004965039253",
          "1191895857152970138"
         ],
         "function": "CFunctionType.__call__",
         "id": "2038865093419554316"
        },
        {
         "id": "-7615853760160376545",
         "repr": "; ModuleID = \"add\"\ntarget triple = \"unknown-unknown-unknown\"\ntarget datalayout = \"\"\n\ndefine i32 @\"entry_add\"(i32 %\".1\", i32 %\".2\") \n{\nentry:\n  %\".4\" = call fastcc i32 @\"add\"(i32 %\".1\", i32 %\".2\")\n  ret i32 %\".4\"\n}\n\ndeclare fastcc i32 @\"add\"(i32 %\".1\", i32 %\".2\") \n",
         "type": "Module"
        },
        {
         "args": [
          "-7615853760160376545"
         ],
         "function": "box_mod_ref",
         "id": "-8852697731284023355"
        },
        {
         "id": "-5077324270752707859",
         "repr": "define i32 @\"entry_add\"(i32 %\".1\", i32 %\".2\") \n{\nentry:\n  %\".4\" = call fastcc i32 @\"add\"(i32 %\".1\", i32 %\".2\")\n  ret i32 %\".4\"\n}\n",
         "type": "Function"
        },
        {
         "args": [
          "-5077324270752707859"
         ],
         "function": "box_fn_ref",
         "id": "-7725529090938301690"
        },
        {
         "args": [
          "6317658749938089218"
         ],
         "function": "box_terminate",
         "id": "4470972555669354524"
        },
        {
         "args": [
          "-7725529090938301690",
          "4470972555669354524"
         ],
         "function": "FnRef.fn",
         "id": "-5351511738252284813"
        },
        {
         "args": [
          "-8852697731284023355",
          "-5149174327734208126",
          "-5351511738252284813"
         ],
         "function": "ModRef.mod",
         "id": "-1201333337689137532"
        },
        {
         "args": [
          "-1201333337689137532"
         ],
         "function": "mod_str",
         "id": "1409926450391551022"
        },
        {
         "args": [
          "1409926450391551022"
         ],
         "function": "ModuleRef.create",
         "id": "2252612054095275775"
        },
        {
         "args": [
          "2252612054095275775",
          "3983604008656577675"
         ],
         "function": "ModuleRef.optimize",
         "id": "-6230342599111441496"
        },
        {
         "args": [
          "-6230342599111441496"
         ],
         "function": "ExecutionEngine.create",
         "id": "6225749231942204578"
        },
        {
         "args": [
          "6225749231942204578",
          "-2984941212226017690"
         ],
         "function": "ExecutionEngine.get_function_address",
         "id": "564255107099393089"
        },
        {
         "args": [
          "-4832594004965039253",
          "564255107099393089"
         ],
         "function": "CFunctionType.__call__",
         "id": "-5811030187244999607"
        },
        {
         "args": [
          "-7725529090938301690"
         ],
         "function": "FnRef.fn",
         "id": "-7645294536138797360"
        },
        {
         "args": [
          "-8852697731284023355",
          "-5149174327734208126",
          "-7645294536138797360"
         ],
         "function": "ModRef.mod",
         "id": "7976182866730371144"
        },
        {
         "args": [
          "7976182866730371144"
         ],
         "function": "mod_str",
         "id": "1236843416956802237"
        },
        {
         "args": [
          "1236843416956802237"
         ],
         "function": "ModuleRef.create",
         "id": "777244694551309512"
        },
        {
         "args": [
          "777244694551309512",
          "3983604008656577675"
         ],
         "function": "ModuleRef.optimize",
         "id": "-6724891487684546593"
        },
        {
         "args": [
          "-6724891487684546593"
         ],
         "function": "ExecutionEngine.create",
         "id": "6153147694722191661"
        },
        {
         "args": [
          "6153147694722191661",
          "-2984941212226017690"
         ],
         "function": "ExecutionEngine.get_function_address",
         "id": "1052992627035415306"
        },
        {
         "args": [
          "-4832594004965039253",
          "1052992627035415306"
         ],
         "function": "CFunctionType.__call__",
         "id": "-6514363097946830020"
        },
        {
         "args": [
          "-5077324270752707859"
         ],
         "function": "box_fn",
         "id": "-6899877685203227790"
        },
        {
         "args": [
          "-8852697731284023355",
          "-5149174327734208126",
          "-6899877685203227790"
         ],
         "function": "ModRef.mod",
         "id": "-4942436815101789929"
        },
        {
         "args": [
          "-4942436815101789929"
         ],
         "function": "mod_str",
         "id": "8616230821233872883"
        },
        {
         "args": [
          "8616230821233872883"
         ],
         "function": "ModuleRef.create",
         "id": "-3486191520841570409"
        },
        {
         "args": [
          "-3486191520841570409",
          "3983604008656577675"
         ],
         "function": "ModuleRef.optimize",
         "id": "1276565762334498457"
        },
        {
         "args": [
          "1276565762334498457"
         ],
         "function": "ExecutionEngine.create",
         "id": "3313458019365557505"
        },
        {
         "args": [
          "3313458019365557505",
          "-2984941212226017690"
         ],
         "function": "ExecutionEngine.get_function_address",
         "id": "-7516709399840457485"
        },
        {
         "args": [
          "-4832594004965039253",
          "-7516709399840457485"
         ],
         "function": "CFunctionType.__call__",
         "id": "-6740311514256297970"
        },
        {
         "id": "500207867640795065",
         "repr": "i32 %\".1\"",
         "type": "Argument"
        },
        {
         "args": [
          "500207867640795065"
         ],
         "function": "box_value",
         "id": "-4324590444276242915"
        },
        {
         "id": "500207867671105765",
         "repr": "i32 %\".2\"",
         "type": "Argument"
        },
        {
         "args": [
          "500207867671105765"
         ],
         "function": "box_value",
         "id": "1515220223422649833"
        },
        {
         "args": [
          "-4324590444276242915",
          "1515220223422649833"
         ],
         "function": "Vec.create",
         "id": "-1551052443761223463"
        },
        {
         "args": [
          "-1551052443761223463",
          "7019033112043945449"
         ],
         "function": "Vec.__getitem__",
         "id": "-644559466259672285",
         "type_params": {
          "T": {
           "type": "Value"
          }
         }
        },
        {
         "args": [
          "-1551052443761223463",
          "7427462424716739544"
         ],
         "function": "Vec.__getitem__",
         "id": "1822748649723232782",
         "type_params": {
          "T": {
           "type": "Value"
          }
         }
        },
        {
         "args": [
          "-644559466259672285",
          "1822748649723232782"
         ],
         "function": "Vec.create",
         "id": "-1309085053172690325"
        },
        {
         "args": [
          "6892787444461948610",
          "1257706538228534965",
          "-1309085053172690325"
         ],
         "function": "BlockRef.call",
         "id": "-3086954404464090645"
        },
        {
         "args": [
          "6892787444461948610",
          "-3086954404464090645"
         ],
         "function": "BlockRef.ret",
         "id": "6345043774583972696"
        },
        {
         "args": [
          "1257706538228534965",
          "6345043774583972696"
         ],
         "function": "FnRef.fn",
         "id": "1559121448409756680"
        },
        {
         "args": [
          "-8852697731284023355",
          "1559121448409756680",
          "-6899877685203227790"
         ],
         "function": "ModRef.mod",
         "id": "-8415184054321804033"
        },
        {
         "args": [
          "-8415184054321804033"
         ],
         "function": "mod_str",
         "id": "-2736193278060492410"
        },
        {
         "args": [
          "-2736193278060492410"
         ],
         "function": "ModuleRef.create",
         "id": "5239805188511383456"
        },
        {
         "args": [
          "5239805188511383456",
          "3983604008656577675"
         ],
         "function": "ModuleRef.optimize",
         "id": "6597185196389297213"
        },
        {
         "args": [
          "6597185196389297213"
         ],
         "function": "ExecutionEngine.create",
         "id": "-8888525679014521257"
        },
        {
         "args": [
          "-8888525679014521257",
          "-2984941212226017690"
         ],
         "function": "ExecutionEngine.get_function_address",
         "id": "-707648893866439279"
        },
        {
         "args": [
          "-4832594004965039253",
          "-707648893866439279"
         ],
         "function": "CFunctionType.__call__",
         "id": "-5034474996639245159"
        },
        {
         "id": "-4548144586331202159",
         "repr": "; ModuleID = \"add\"\ntarget triple = \"unknown-unknown-unknown\"\ntarget datalayout = \"\"\n\ndefine i32 @\"entry_add\"(i32 %\".1\", i32 %\".2\") \n{\nentry:\n  %\".4\" = call fastcc i32 @\"add\"(i32 %\".1\", i32 %\".2\")\n  ret i32 %\".4\"\n}\n\ndefine fastcc i32 @\"add\"(i32 %\".1\", i32 %\".2\") \n{\n.4:\n}\n",
         "type": "Module"
        },
        {
         "args": [
          "-4548144586331202159"
         ],
         "function": "box_mod_ref",
         "id": "-1367340470635149031"
        },
        {
         "id": "6312413034054826833",
         "repr": "define fastcc i32 @\"add\"(i32 %\".1\", i32 %\".2\") \n{\n.4:\n}\n",
         "type": "Function"
        },
        {
         "args": [
          "6312413034054826833"
         ],
         "function": "box_fn_ref",
         "id": "-765731616855142514"
        },
        {
         "id": "3852292967405964317",
         "repr": "IRBuilder: 0x7fd128360c88\n%\".4\" = .4:",
         "type": "IRBuilder"
        },
        {
         "args": [
          "3852292967405964317"
         ],
         "function": "box_block_ref",
         "id": "-9037535142104501112"
        },
        {
         "args": [
          "-9037535142104501112",
          "-765731616855142514",
          "-1309085053172690325"
         ],
         "function": "BlockRef.call",
         "id": "-2289966528081407933"
        },
        {
         "args": [
          "-9037535142104501112",
          "-2289966528081407933"
         ],
         "function": "BlockRef.ret",
         "id": "6228407120729220190"
        },
        {
         "args": [
          "-765731616855142514",
          "6228407120729220190"
         ],
         "function": "FnRef.fn",
         "id": "5166465478677342737"
        },
        {
         "args": [
          "-1367340470635149031",
          "5166465478677342737",
          "-6899877685203227790"
         ],
         "function": "ModRef.mod",
         "id": "3138775589803554233"
        },
        {
         "args": [
          "3138775589803554233"
         ],
         "function": "mod_str",
         "id": "8303296965047071096"
        },
        {
         "args": [
          "8303296965047071096"
         ],
         "function": "ModuleRef.create",
         "id": "-1855606402225873378"
        },
        {
         "args": [
          "-1855606402225873378",
          "3983604008656577675"
         ],
         "function": "ModuleRef.optimize",
         "id": "5642153082266000049"
        },
        {
         "args": [
          "5642153082266000049"
         ],
         "function": "ExecutionEngine.create",
         "id": "-3198149182189468957"
        },
        {
         "args": [
          "-3198149182189468957",
          "-2984941212226017690"
         ],
         "function": "ExecutionEngine.get_function_address",
         "id": "4321921909832995027"
        },
        {
         "args": [
          "-4832594004965039253",
          "4321921909832995027"
         ],
         "function": "CFunctionType.__call__",
         "id": "713649164856278818"
        },
        {
         "args": [
          "-644559466259672285",
          "1515220223422649833"
         ],
         "function": "Vec.create",
         "id": "3708634083404145494"
        },
        {
         "args": [
          "-9037535142104501112",
          "-765731616855142514",
          "3708634083404145494"
         ],
         "function": "BlockRef.call",
         "id": "3879630368658026551"
        },
        {
         "args": [
          "-9037535142104501112",
          "3879630368658026551"
         ],
         "function": "BlockRef.ret",
         "id": "-3256207116887921017"
        },
        {
         "args": [
          "-765731616855142514",
          "-3256207116887921017"
         ],
         "function": "FnRef.fn",
         "id": "-4107040346427585301"
        },
        {
         "args": [
          "-1367340470635149031",
          "-4107040346427585301",
          "-6899877685203227790"
         ],
         "function": "ModRef.mod",
         "id": "-5504640998498092848"
        },
        {
         "args": [
          "-5504640998498092848"
         ],
         "function": "mod_str",
         "id": "-6530311953853282900"
        },
        {
         "args": [
          "-6530311953853282900"
         ],
         "function": "ModuleRef.create",
         "id": "-8870918914107998949"
        },
        {
         "args": [
          "-8870918914107998949",
          "3983604008656577675"
         ],
         "function": "ModuleRef.optimize",
         "id": "6409308122268849455"
        },
        {
         "args": [
          "6409308122268849455"
         ],
         "function": "ExecutionEngine.create",
         "id": "-7526395101836736759"
        },
        {
         "args": [
          "-7526395101836736759",
          "-2984941212226017690"
         ],
         "function": "ExecutionEngine.get_function_address",
         "id": "-7344569644720858913"
        },
        {
         "args": [
          "-4832594004965039253",
          "-7344569644720858913"
         ],
         "function": "CFunctionType.__call__",
         "id": "-7068964102394056646"
        },
        {
         "args": [
          "-9037535142104501112",
          "-765731616855142514",
          "-1551052443761223463"
         ],
         "function": "BlockRef.call",
         "id": "-5064487298467820955"
        },
        {
         "args": [
          "-9037535142104501112",
          "-5064487298467820955"
         ],
         "function": "BlockRef.ret",
         "id": "7293436068608305982"
        },
        {
         "args": [
          "-765731616855142514",
          "7293436068608305982"
         ],
         "function": "FnRef.fn",
         "id": "4027319520420986758"
        },
        {
         "args": [
          "-1367340470635149031",
          "4027319520420986758",
          "-6899877685203227790"
         ],
         "function": "ModRef.mod",
         "id": "7419846131855845597"
        },
        {
         "args": [
          "7419846131855845597"
         ],
         "function": "mod_str",
         "id": "-863973282753334614"
        },
        {
         "args": [
          "-863973282753334614"
         ],
         "function": "ModuleRef.create",
         "id": "8466430618570478619"
        },
        {
         "args": [
          "8466430618570478619",
          "3983604008656577675"
         ],
         "function": "ModuleRef.optimize",
         "id": "6064786528303184049"
        },
        {
         "args": [
          "6064786528303184049"
         ],
         "function": "ExecutionEngine.create",
         "id": "-818250961349310237"
        },
        {
         "args": [
          "-818250961349310237",
          "-2984941212226017690"
         ],
         "function": "ExecutionEngine.get_function_address",
         "id": "-7412419107400994778"
        },
        {
         "args": [
          "-4832594004965039253",
          "-7412419107400994778"
         ],
         "function": "CFunctionType.__call__",
         "id": "2918499729341472431"
        },
        {
         "id": "-9061468815800164268",
         "repr": "; ModuleID = \"add\"\ntarget triple = \"unknown-unknown-unknown\"\ntarget datalayout = \"\"\n\ndefine i32 @\"entry_add\"(i32 %\".1\", i32 %\".2\") \n{\nentry:\n  %\".4\" = call fastcc i32 @\"add\"(i32 %\".1\", i32 %\".2\")\n  ret i32 %\".4\"\n}\n\ndefine fastcc i32 @\"add\"(i32 %\".1\", i32 %\".2\") \n{\n.4:\n  %\".5\" = call fastcc i32 @\"add\"(i32 %\".1\", i32 %\".2\")\n}\n",
         "type": "Module"
        },
        {
         "args": [
          "-9061468815800164268"
         ],
         "function": "box_mod_ref",
         "id": "8008497358442606364"
        },
        {
         "id": "-6423808052982626054",
         "repr": "define fastcc i32 @\"add\"(i32 %\".1\", i32 %\".2\") \n{\n.4:\n  %\".5\" = call fastcc i32 @\"add\"(i32 %\".1\", i32 %\".2\")\n}\n",
         "type": "Function"
        },
        {
         "args": [
          "-6423808052982626054"
         ],
         "function": "box_fn_ref",
         "id": "-4901327010329756007"
        },
        {
         "id": "-8189111261552411622",
         "repr": "%\".5\" = call fastcc i32 @\"add\"(i32 %\".1\", i32 %\".2\")",
         "type": "CallInstr"
        },
        {
         "args": [
          "-8189111261552411622"
         ],
         "function": "box_value",
         "id": "9167021771502251827"
        },
        {
         "args": [
          "-9037535142104501112",
          "9167021771502251827"
         ],
         "function": "BlockRef.ret",
         "id": "-7615928623309518679"
        },
        {
         "args": [
          "-4901327010329756007",
          "-7615928623309518679"
         ],
         "function": "FnRef.fn",
         "id": "5864689890226262638"
        },
        {
         "args": [
          "8008497358442606364",
          "5864689890226262638",
          "-6899877685203227790"
         ],
         "function": "ModRef.mod",
         "id": "-5875973304764401908"
        },
        {
         "args": [
          "-5875973304764401908"
         ],
         "function": "mod_str",
         "id": "8031096867992421384"
        },
        {
         "args": [
          "8031096867992421384"
         ],
         "function": "ModuleRef.create",
         "id": "4168790310482751566"
        },
        {
         "args": [
          "4168790310482751566",
          "3983604008656577675"
         ],
         "function": "ModuleRef.optimize",
         "id": "-5305407324075087944"
        },
        {
         "args": [
          "-5305407324075087944"
         ],
         "function": "ExecutionEngine.create",
         "id": "-1673921466068499022"
        },
        {
         "args": [
          "-1673921466068499022",
          "-2984941212226017690"
         ],
         "function": "ExecutionEngine.get_function_address",
         "id": "-2752255442843405309"
        },
        {
         "args": [
          "-4832594004965039253",
          "-2752255442843405309"
         ],
         "function": "CFunctionType.__call__",
         "id": "-4654801225070970716"
        },
        {
         "id": "-8687326944279965820",
         "repr": "; ModuleID = \"add\"\ntarget triple = \"unknown-unknown-unknown\"\ntarget datalayout = \"\"\n\ndefine i32 @\"entry_add\"(i32 %\".1\", i32 %\".2\") \n{\nentry:\n  %\".4\" = call fastcc i32 @\"add\"(i32 %\".1\", i32 %\".2\")\n  ret i32 %\".4\"\n}\n\ndefine fastcc i32 @\"add\"(i32 %\".1\", i32 %\".2\") \n{\n.4:\n  %\".5\" = call fastcc i32 @\"add\"(i32 %\".1\", i32 %\".2\")\n  ret i32 %\".5\"\n}\n",
         "type": "Module"
        },
        {
         "args": [
          "-8687326944279965820"
         ],
         "function": "box_mod_ref",
         "id": "-3966301987827582420"
        },
        {
         "id": "-6715189300246302014",
         "repr": "define fastcc i32 @\"add\"(i32 %\".1\", i32 %\".2\") \n{\n.4:\n  %\".5\" = call fastcc i32 @\"add\"(i32 %\".1\", i32 %\".2\")\n  ret i32 %\".5\"\n}\n",
         "type": "Function"
        },
        {
         "args": [
          "-6715189300246302014"
         ],
         "function": "box_fn_ref",
         "id": "-7483133930066310111"
        },
        {
         "args": [
          "3852292967405964317"
         ],
         "function": "box_terminate",
         "id": "-4404759061735208562"
        },
        {
         "args": [
          "-7483133930066310111",
          "-4404759061735208562"
         ],
         "function": "FnRef.fn",
         "id": "6649827970072395026"
        },
        {
         "args": [
          "-3966301987827582420",
          "6649827970072395026",
          "-6899877685203227790"
         ],
         "function": "ModRef.mod",
         "id": "-598671561846144156"
        },
        {
         "args": [
          "-598671561846144156"
         ],
         "function": "mod_str",
         "id": "-5011847518384502898"
        },
        {
         "args": [
          "-5011847518384502898"
         ],
         "function": "ModuleRef.create",
         "id": "1453311182042600693"
        },
        {
         "args": [
          "1453311182042600693",
          "3983604008656577675"
         ],
         "function": "ModuleRef.optimize",
         "id": "6266384820339911458"
        },
        {
         "args": [
          "6266384820339911458"
         ],
         "function": "ExecutionEngine.create",
         "id": "1722183441867247896"
        },
        {
         "args": [
          "1722183441867247896",
          "-2984941212226017690"
         ],
         "function": "ExecutionEngine.get_function_address",
         "id": "-7047847689794054051"
        },
        {
         "args": [
          "-4832594004965039253",
          "-7047847689794054051"
         ],
         "function": "CFunctionType.__call__",
         "id": "-7178290893210183988"
        },
        {
         "args": [
          "-7483133930066310111"
         ],
         "function": "FnRef.fn",
         "id": "6718939837418185193"
        },
        {
         "args": [
          "-3966301987827582420",
          "6718939837418185193",
          "-6899877685203227790"
         ],
         "function": "ModRef.mod",
         "id": "2807570730457051275"
        },
        {
         "args": [
          "2807570730457051275"
         ],
         "function": "mod_str",
         "id": "-6863905603648027178"
        },
        {
         "args": [
          "-6863905603648027178"
         ],
         "function": "ModuleRef.create",
         "id": "-8431301022209351091"
        },
        {
         "args": [
          "-8431301022209351091",
          "3983604008656577675"
         ],
         "function": "ModuleRef.optimize",
         "id": "-6224525723993538251"
        },
        {
         "args": [
          "-6224525723993538251"
         ],
         "function": "ExecutionEngine.create",
         "id": "6000333921279485027"
        },
        {
         "args": [
          "6000333921279485027",
          "-2984941212226017690"
         ],
         "function": "ExecutionEngine.get_function_address",
         "id": "-7042866411773397908"
        },
        {
         "args": [
          "-4832594004965039253",
          "-7042866411773397908"
         ],
         "function": "CFunctionType.__call__",
         "id": "-3371362353047500223"
        },
        {
         "args": [
          "-6715189300246302014"
         ],
         "function": "box_fn",
         "id": "8143723092513051205"
        },
        {
         "args": [
          "-3966301987827582420",
          "8143723092513051205",
          "-6899877685203227790"
         ],
         "function": "ModRef.mod",
         "id": "3257173939245391560"
        },
        {
         "args": [
          "3257173939245391560"
         ],
         "function": "mod_str",
         "id": "1574985771760957991"
        },
        {
         "args": [
          "1574985771760957991"
         ],
         "function": "ModuleRef.create",
         "id": "-7434444651053860054"
        },
        {
         "args": [
          "-7434444651053860054",
          "3983604008656577675"
         ],
         "function": "ModuleRef.optimize",
         "id": "2356822191988984896"
        },
        {
         "args": [
          "2356822191988984896"
         ],
         "function": "ExecutionEngine.create",
         "id": "-6582677247887448295"
        },
        {
         "args": [
          "-6582677247887448295",
          "-2984941212226017690"
         ],
         "function": "ExecutionEngine.get_function_address",
         "id": "706502100328630946"
        },
        {
         "args": [
          "-4832594004965039253",
          "706502100328630946"
         ],
         "function": "CFunctionType.__call__",
         "id": "-1149959015099922172"
        },
        {
         "args": [
          "-3966301987827582420",
          "-6899877685203227790"
         ],
         "function": "ModRef.mod",
         "id": "-8765660574435082854"
        },
        {
         "args": [
          "-8765660574435082854"
         ],
         "function": "mod_str",
         "id": "6180887303910876953"
        },
        {
         "args": [
          "6180887303910876953"
         ],
         "function": "ModuleRef.create",
         "id": "-77720018981276098"
        },
        {
         "args": [
          "-77720018981276098",
          "3983604008656577675"
         ],
         "function": "ModuleRef.optimize",
         "id": "-4421779455676632687"
        },
        {
         "args": [
          "-4421779455676632687"
         ],
         "function": "ExecutionEngine.create",
         "id": "7378297721675550828"
        },
        {
         "args": [
          "7378297721675550828",
          "-2984941212226017690"
         ],
         "function": "ExecutionEngine.get_function_address",
         "id": "738956890016249162"
        },
        {
         "args": [
          "-4832594004965039253",
          "738956890016249162"
         ],
         "function": "CFunctionType.__call__",
         "id": "-8659366449294533508"
        },
        {
         "args": [
          "-3966301987827582420"
         ],
         "function": "ModRef.mod",
         "id": "-1120318032772586554"
        },
        {
         "args": [
          "-1120318032772586554"
         ],
         "function": "mod_str",
         "id": "-791337292397763836"
        },
        {
         "args": [
          "-791337292397763836"
         ],
         "function": "ModuleRef.create",
         "id": "-750136077161759139"
        },
        {
         "args": [
          "-750136077161759139",
          "3983604008656577675"
         ],
         "function": "ModuleRef.optimize",
         "id": "4179832963916206074"
        },
        {
         "args": [
          "4179832963916206074"
         ],
         "function": "ExecutionEngine.create",
         "id": "7194279470013010011"
        },
        {
         "args": [
          "7194279470013010011",
          "-2984941212226017690"
         ],
         "function": "ExecutionEngine.get_function_address",
         "id": "-7180514002379633273"
        },
        {
         "args": [
          "-4832594004965039253",
          "-7180514002379633273"
         ],
         "function": "CFunctionType.__call__",
         "id": "5495422268790862226"
        },
        {
         "args": [
          "-8687326944279965820"
         ],
         "function": "box_mod",
         "id": "-5939732961686188760"
        },
        {
         "args": [
          "-5939732961686188760"
         ],
         "function": "mod_str",
         "id": "-4861737022296446748"
        },
        {
         "args": [
          "-4861737022296446748"
         ],
         "function": "ModuleRef.create",
         "id": "-2208887717030686141"
        },
        {
         "args": [
          "-2208887717030686141",
          "3983604008656577675"
         ],
         "function": "ModuleRef.optimize",
         "id": "-2208048307914489708"
        },
        {
         "args": [
          "-2208048307914489708"
         ],
         "function": "ExecutionEngine.create",
         "id": "-4023825143025006584"
        },
        {
         "args": [
          "-4023825143025006584",
          "-2984941212226017690"
         ],
         "function": "ExecutionEngine.get_function_address",
         "id": "-8978757382759681806"
        },
        {
         "args": [
          "-4832594004965039253",
          "-8978757382759681806"
         ],
         "function": "CFunctionType.__call__",
         "id": "7495894519544051435"
        },
        {
         "id": "-2696661178855109650",
         "repr": "; ModuleID = \"add\"\ntarget triple = \"unknown-unknown-unknown\"\ntarget datalayout = \"\"\n\ndefine i32 @\"entry_add\"(i32 %\".1\", i32 %\".2\") \n{\nentry:\n  %\".4\" = call fastcc i32 @\"add\"(i32 %\".1\", i32 %\".2\")\n  ret i32 %\".4\"\n}\n\ndefine fastcc i32 @\"add\"(i32 %\".1\", i32 %\".2\") \n{\n.4:\n  %\".5\" = call fastcc i32 @\"add\"(i32 %\".1\", i32 %\".2\")\n  ret i32 %\".5\"\n}\n",
         "type": "str"
        },
        {
         "args": [
          "-2696661178855109650"
         ],
         "function": "ModuleRef.create",
         "id": "-4761003710543835112"
        },
        {
         "args": [
          "-4761003710543835112",
          "3983604008656577675"
         ],
         "function": "ModuleRef.optimize",
         "id": "4145590852026049817"
        },
        {
         "args": [
          "4145590852026049817"
         ],
         "function": "ExecutionEngine.create",
         "id": "3471830426991813902"
        },
        {
         "args": [
          "3471830426991813902",
          "-2984941212226017690"
         ],
         "function": "ExecutionEngine.get_function_address",
         "id": "-5762917433938247190"
        },
        {
         "args": [
          "-4832594004965039253",
          "-5762917433938247190"
         ],
         "function": "CFunctionType.__call__",
         "id": "-3841463511607152362"
        },
        {
         "id": "-1950053415524414408",
         "repr": "<class 'ctypes.c_int'>",
         "type": "PyCSimpleType"
        },
        {
         "args": [
          "-1950053415524414408"
         ],
         "function": "CType.box",
         "id": "2299536443148728462"
        },
        {
         "args": [
          "2299536443148728462",
          "2299536443148728462",
          "2299536443148728462"
         ],
         "function": "CFunctionType.create",
         "id": "1725463328951597571"
        },
        {
         "args": [
          "1725463328951597571",
          "-5762917433938247190"
         ],
         "function": "CFunctionType.__call__",
         "id": "2054201666431880220"
        },
        {
         "id": "-1950302344216869683",
         "repr": "<class 'ctypes.CFUNCTYPE.<locals>.CFunctionType'>",
         "type": "PyCFuncPtrType"
        },
        {
         "args": [
          "-1950302344216869683"
         ],
         "function": "CFunctionType.box",
         "id": "-5877599699329844787"
        },
        {
         "args": [
          "-5877599699329844787",
          "-5762917433938247190"
         ],
         "function": "CFunctionType.__call__",
         "id": "1923705568975428324"
        },
        {
         "id": "-1704223926198935570",
         "repr": "; ModuleID = '<string>'\nsource_filename = \"<string>\"\ntarget triple = \"unknown-unknown-unknown\"\n\ndefine i32 @entry_add(i32 %.1, i32 %.2) {\nentry:\n  %.4 = call fastcc i32 @add(i32 %.1, i32 %.2)\n  ret i32 %.4\n}\n\ndefine fastcc i32 @add(i32 %.1, i32 %.2) {\n.4:\n  %.5 = call fastcc i32 @add(i32 %.1, i32 %.2)\n  ret i32 %.5\n}\n",
         "type": "ModuleRef"
        },
        {
         "args": [
          "-1704223926198935570"
         ],
         "function": "ModuleRef.box",
         "id": "-3296101391547468034"
        },
        {
         "args": [
          "-3296101391547468034",
          "3983604008656577675"
         ],
         "function": "ModuleRef.optimize",
         "id": "-573553263703079974"
        },
        {
         "args": [
          "-573553263703079974"
         ],
         "function": "ExecutionEngine.create",
         "id": "464187772066750414"
        },
        {
         "args": [
          "464187772066750414",
          "-2984941212226017690"
         ],
         "function": "ExecutionEngine.get_function_address",
         "id": "-6297686128253966185"
        },
        {
         "args": [
          "-5877599699329844787",
          "-6297686128253966185"
         ],
         "function": "CFunctionType.__call__",
         "id": "2174768958089449275"
        },
        {
         "args": [
          "-3296101391547468034"
         ],
         "function": "ExecutionEngine.create",
         "id": "-8921827123480003315"
        },
        {
         "args": [
          "-8921827123480003315",
          "-2984941212226017690"
         ],
         "function": "ExecutionEngine.get_function_address",
         "id": "-843186236675084885"
        },
        {
         "args": [
          "-5877599699329844787",
          "-843186236675084885"
         ],
         "function": "CFunctionType.__call__",
         "id": "772244477741411849"
        },
        {
         "id": "-1709978632393059145",
         "repr": "<llvmlite.binding.executionengine.ExecutionEngine object at 0x7fd178946c50>",
         "type": "ExecutionEngine"
        },
        {
         "args": [
          "-1709978632393059145"
         ],
         "function": "ExecutionEngine.box",
         "id": "6819278607946261351"
        },
        {
         "args": [
          "6819278607946261351",
          "-2984941212226017690"
         ],
         "function": "ExecutionEngine.get_function_address",
         "id": "-3897010999051128456"
        },
        {
         "args": [
          "-5877599699329844787",
          "-3897010999051128456"
         ],
         "function": "CFunctionType.__call__",
         "id": "-7668733758383835307"
        },
        {
         "id": "3978874826688559400",
         "repr": "4389310464",
         "type": "int"
        },
        {
         "args": [
          "-5877599699329844787",
          "3978874826688559400"
         ],
         "function": "CFunctionType.__call__",
         "id": "5308685791980978383"
        },
        {
         "id": "-1705957765701893570",
         "repr": "<CFunctionType object at 0x7fd140b8ac00>",
         "type": "CFUNCTYPE.<locals>.CFunctionType"
        }
       ],
       "states": {
        "initial": "-8701596627293156771",
        "states": [
         {
          "node": "2445887772114549826",
          "rule": "metadsl_llvm.ir_context.llvm_fn_to_from_llvm_fn_2"
         },
         {
          "node": "-8470299469880062915",
          "rule": "metadsl_core.function.FunctionTwo.unfix"
         },
         {
          "node": "4547928391453373629",
          "rule": "metadsl_core.function.FunctionTwo.from_fn"
         },
         {
          "node": "-5515445831195181299",
          "rule": "metadsl_core.abstraction.Abstraction.from_fn"
         },
         {
          "node": "4452976038576809975",
          "rule": "metadsl_core.abstraction.Abstraction.from_fn"
         },
         {
          "node": "-4314304193667053814",
          "rule": "metadsl_core.abstraction.Abstraction.from_fn"
         },
         {
          "node": "-2796150561300737003",
          "rule": "metadsl_core.function.FunctionTwo.from_fn"
         },
         {
          "node": "7966896949344569149",
          "rule": "metadsl_core.abstraction.Abstraction.from_fn"
         },
         {
          "node": "-3546509266772998999",
          "rule": "metadsl_core.abstraction.Abstraction.from_fn"
         },
         {
          "node": "7617988137339795027",
          "rule": "metadsl_core.abstraction.beta_reduce"
         },
         {
          "node": "6342241498368032744",
          "rule": "metadsl_core.function.two_abstraction"
         },
         {
          "node": "-5436555261776426862",
          "rule": "metadsl_core.function.two_name"
         },
         {
          "node": "2535935791166963605",
          "rule": "metadsl_core.function.two_abstraction"
         },
         {
          "node": "2539891804383287550",
          "rule": "metadsl_core.function.two_name"
         },
         {
          "node": "-3170056907591969106",
          "rule": "metadsl_core.function.two_call"
         },
         {
          "node": "-6110972130824645524",
          "rule": "metadsl_core.abstraction.Abstraction.from_fn"
         },
         {
          "node": "-7916665443624704244",
          "rule": "metadsl_core.abstraction.Abstraction.from_fn"
         },
         {
          "node": "-1027299714841124041",
          "rule": "metadsl_core.abstraction.Abstraction.from_fn"
         },
         {
          "node": "-8953253546667471422",
          "rule": "metadsl_core.abstraction.Abstraction.from_fn"
         },
         {
          "node": "4920615247983478654",
          "rule": "metadsl_core.abstraction.unfix_normal"
         },
         {
          "node": "4828524545797538635",
          "rule": "metadsl_core.abstraction.Abstraction.from_fn"
         },
         {
          "node": "8599945862896542573",
          "rule": "metadsl_core.abstraction.beta_reduce"
         },
         {
          "node": "2719545790712891432",
          "rule": "metadsl_core.abstraction.beta_reduce"
         },
         {
          "node": "41196421293663954",
          "rule": "metadsl_core.abstraction.beta_reduce"
         },
         {
          "label": "core",
          "node": "41196421293663954",
          "rule": ""
         },
         {
          "node": "1904940434664386576",
          "rule": "metadsl_llvm.ir_context.to_from_llvm_fn_1"
         },
         {
          "node": "6514526944647149626",
          "rule": "metadsl_llvm.ir_context.build_call_2"
         },
         {
          "node": "3236906796933894866",
          "rule": "metadsl_llvm.ir_context.build_constant"
         },
         {
          "node": "-7784077052199939513",
          "rule": "metadsl_llvm.ir_context.build_constant"
         },
         {
          "node": "-6334574905740124903",
          "rule": "metadsl_core.pair.pair_left"
         },
         {
          "node": "4946968024507453469",
          "rule": "metadsl_core.pair.pair_right"
         },
         {
          "node": "-1254805090677996000",
          "rule": "metadsl_core.pair.pair_left"
         },
         {
          "node": "-5345513567231697884",
          "rule": "metadsl_core.pair.pair_left"
         },
         {
          "node": "1669400093903846853",
          "rule": "metadsl_llvm.ir.fn_ref"
         },
         {
          "node": "3726243881660229726",
          "rule": "metadsl_core.pair.pair_right"
         },
         {
          "node": "-5375672347832088877",
          "rule": "metadsl_core.pair.pair_right"
         },
         {
          "node": "17540336670706975",
          "rule": "metadsl_core.pair.pair_left"
         },
         {
          "node": "7255795582733190332",
          "rule": "metadsl_core.pair.pair_right"
         },
         {
          "node": "-9122255056598309363",
          "rule": "metadsl_llvm.ir.fn_add_block"
         },
         {
          "node": "3382780185605493357",
          "rule": "metadsl_llvm.ir.fn_ref"
         },
         {
          "label": "llvmlite.context",
          "node": "3382780185605493357",
          "rule": ""
         },
         {
          "node": "-6979877943989380145",
          "rule": "metadsl_llvm.integration.compile_function"
         },
         {
          "node": "4083581833962692103",
          "rule": "metadsl_llvm.ir.mod_add_fn"
         },
         {
          "node": "8576777687872011638",
          "rule": "metadsl_llvm.ir.fn_ref_get_name"
         },
         {
          "node": "7612553953281520871",
          "rule": "metadsl_llvm.integration.concat_strings"
         },
         {
          "node": "-7425953175394274092",
          "rule": "metadsl_llvm.ir.mod_ref"
         },
         {
          "node": "-5969441712762382042",
          "rule": "metadsl_llvm.ir.fn_ref_get_type"
         },
         {
          "node": "7830857287434364001",
          "rule": "metadsl_llvm.integration.llvm_to_c_fn_type_rule"
         },
         {
          "node": "-9218201750568846196",
          "rule": "metadsl_llvm.integration.llvm_to_c_fn_int"
         },
         {
          "label": "llvmlite.integration",
          "node": "-9218201750568846196",
          "rule": ""
         },
         {
          "node": "-7248996879632524721",
          "rule": "metadsl_llvm.ir_llvmlite.type_create_int_box"
         },
         {
          "node": "-5073721636441852875",
          "rule": "metadsl_llvm.ir_llvmlite.function_type_box_2"
         },
         {
          "node": "-1790203810296832343",
          "rule": "metadsl_llvm.ir_llvmlite.box_mod_ref_create"
         },
         {
          "node": "-2191191792045542788",
          "rule": "metadsl_llvm.ir_llvmlite.box_fn_ref_create"
         },
         {
          "node": "7459206528350816472",
          "rule": "metadsl_llvm.ir_llvmlite.fn_ref_arguments"
         },
         {
          "node": "6726549506506462070",
          "rule": "metadsl_llvm.ir_llvmlite.block_ref_create"
         },
         {
          "node": "-1673254997855952562",
          "rule": "metadsl_llvm.ir_llvmlite.box_fn_ref_create"
         },
         {
          "node": "2038865093419554316",
          "rule": "metadsl_llvm.ir_llvmlite.block_ref_call_2"
         },
         {
          "node": "-5811030187244999607",
          "rule": "metadsl_llvm.ir_llvmlite.block_ref_ret"
         },
         {
          "node": "-6514363097946830020",
          "rule": "metadsl_llvm.ir_llvmlite.create_box_fn"
         },
         {
          "node": "-6740311514256297970",
          "rule": "metadsl_llvm.ir_llvmlite.create_box_fn"
         },
         {
          "node": "-5034474996639245159",
          "rule": "metadsl_llvm.ir_llvmlite.fn_ref_arguments"
         },
         {
          "node": "713649164856278818",
          "rule": "metadsl_llvm.ir_llvmlite.block_ref_create"
         },
         {
          "node": "-7068964102394056646",
          "rule": "metadsl_core.vec.getitem"
         },
         {
          "node": "2918499729341472431",
          "rule": "metadsl_core.vec.getitem"
         },
         {
          "node": "-4654801225070970716",
          "rule": "metadsl_llvm.ir_llvmlite.block_ref_call_2"
         },
         {
          "node": "-7178290893210183988",
          "rule": "metadsl_llvm.ir_llvmlite.block_ref_ret"
         },
         {
          "node": "-3371362353047500223",
          "rule": "metadsl_llvm.ir_llvmlite.create_box_fn"
         },
         {
          "node": "-1149959015099922172",
          "rule": "metadsl_llvm.ir_llvmlite.create_box_fn"
         },
         {
          "node": "-8659366449294533508",
          "rule": "metadsl_llvm.ir_llvmlite.create_box_mod"
         },
         {
          "node": "5495422268790862226",
          "rule": "metadsl_llvm.ir_llvmlite.create_box_mod"
         },
         {
          "node": "7495894519544051435",
          "rule": "metadsl_llvm.ir_llvmlite.create_box_mod"
         },
         {
          "node": "-3841463511607152362",
          "rule": "metadsl_llvm.ir_llvmlite.mod_str_rule"
         },
         {
          "label": "llvmlite.ir_llvmlite",
          "node": "-3841463511607152362",
          "rule": ""
         },
         {
          "node": "2054201666431880220",
          "rule": "metadsl_llvm.ctypes.ctype_cint"
         },
         {
          "node": "1923705568975428324",
          "rule": "metadsl_llvm.ctypes.c_function_type_create_2"
         },
         {
          "label": "llvmlite.ctypes",
          "node": "1923705568975428324",
          "rule": ""
         },
         {
          "node": "2174768958089449275",
          "rule": "metadsl_llvm.llvmlite_binding.module_ref_create"
         },
         {
          "node": "772244477741411849",
          "rule": "metadsl_llvm.llvmlite_binding.module_ref_optimize"
         },
         {
          "node": "-7668733758383835307",
          "rule": "metadsl_llvm.llvmlite_binding.execution_engine_create"
         },
         {
          "node": "5308685791980978383",
          "rule": "metadsl_llvm.llvmlite_binding.execution_engine_address"
         },
         {
          "node": "-1705957765701893570",
          "rule": "metadsl_llvm.ctypes.cfunc_call"
         },
         {
          "label": "llvmlite.llvmlite_binding",
          "node": "-1705957765701893570",
          "rule": ""
         }
        ]
       }
      },
      "text/plain": [
       "Typez(definitions=None, nodes=[PrimitiveNode(id='3348305646612022562', type='str', repr='add'), CallNode(id='7737634984556270748', function='ModRef.create', type_params=None, args=['3348305646612022562'], kwargs=None), PrimitiveNode(id='5597705676261326800', type='function', repr='<function test_add.<locals>.add at 0x7fd1788fe7b8>'), CallNode(id='-4573807831732741045', function='FunctionTwo.from_fn', type_params=None, args=['5597705676261326800'], kwargs=None), PrimitiveNode(id='3983604008692301000', type='int', repr='32'), CallNode(id='-3409559652977700816', function='Type.create_int', type_params=None, args=['3983604008692301000'], kwargs=None), CallNode(id='2869849078853932976', function='FnType.create', type_params=None, args=['-3409559652977700816', '-3409559652977700816', '-3409559652977700816'], kwargs=None), CallNode(id='-433303917623376961', function='llvm_fn_2', type_params=None, args=['-4573807831732741045', '7737634984556270748', '2869849078853932976'], kwargs=None), CallNode(id='-3449644110143783147', function='to_llvm_fn_2', type_params=None, args=['-433303917623376961'], kwargs=None), CallNode(id='956734283510461618', function='ModRef.mod', type_params=None, args=['7737634984556270748', '-3449644110143783147'], kwargs=None), CallNode(id='5094964560275413875', function='Fn.ref', type_params=None, args=['-3449644110143783147'], kwargs=None), PrimitiveNode(id='3983604008656577675', type='int', repr='1'), CallNode(id='-8701596627293156771', function='compile_function', type_params=None, args=['956734283510461618', '5094964560275413875', '3983604008656577675'], kwargs=None), PrimitiveNode(id='6363588468043505712', type='FunctionReplaceTyping', repr='FunctionReplaceTyping(fn=<function test_add.<locals>.add at 0x7fd1788fe7b8>, typevars=HashableMapping(_items=()), typevars_in_scope=frozenset({~V, ~U, ~T}), inner_mapping=ReplaceTypevarsExpression(typevars=HashableMapping(_items=())))'), CallNode(id='-3448567052618944149', function='FunctionTwo.from_fn', type_params=None, args=['6363588468043505712'], kwargs=None), CallNode(id='3666570996936889565', function='FunctionTwo.unfix', type_params={'V': DeclaredTypeInstance(type='ValueExpr', params=None), 'U': DeclaredTypeInstance(type='ValueExpr', params=None), 'T': DeclaredTypeInstance(type='ValueExpr', params=None)}, args=['-3448567052618944149'], kwargs=None), CallNode(id='-1367591971730276219', function='FunctionTwo.name', type_params={'V': DeclaredTypeInstance(type='ValueExpr', params=None), 'U': DeclaredTypeInstance(type='ValueExpr', params=None), 'T': DeclaredTypeInstance(type='ValueExpr', params=None)}, args=['-3448567052618944149'], kwargs=None), PrimitiveNode(id='-4379724003781273686', type='str', repr='fastcc'), CallNode(id='-4261420950422716075', function='ModRef.fn', type_params=None, args=['7737634984556270748', '-1367591971730276219', '2869849078853932976', '-4379724003781273686'], kwargs=None), CallNode(id='655336363617419451', function='FnRef.fn', type_params=None, args=['-4261420950422716075'], kwargs=None), CallNode(id='-3039002652677451600', function='from_llvm_fn_2', type_params=None, args=['655336363617419451'], kwargs=None), CallNode(id='1397113001861835832', function='Abstraction.__call__', type_params={'U': DeclaredTypeInstance(type='FunctionTwo', params={'V': DeclaredTypeInstance(type='ValueExpr', params=None), 'U': DeclaredTypeInstance(type='ValueExpr', params=None), 'T': DeclaredTypeInstance(type='ValueExpr', params=None)}), 'T': DeclaredTypeInstance(type='FunctionTwo', params={'V': DeclaredTypeInstance(type='ValueExpr', params=None), 'U': DeclaredTypeInstance(type='ValueExpr', params=None), 'T': DeclaredTypeInstance(type='ValueExpr', params=None)})}, args=['3666570996936889565', '-3039002652677451600'], kwargs=None), CallNode(id='-5550966185988575795', function='FnRef.arguments', type_params=None, args=['-4261420950422716075'], kwargs=None), PrimitiveNode(id='3983604008657660200', type='int', repr='0'), CallNode(id='7019033112043945449', function='Integer.from_int', type_params=None, args=['3983604008657660200'], kwargs=None), CallNode(id='-6919097849694304399', function='Vec.__getitem__', type_params={'T': DeclaredTypeInstance(type='Value', params=None)}, args=['-5550966185988575795', '7019033112043945449'], kwargs=None), CallNode(id='5891730441609885534', function='ValueExpr.from_value', type_params=None, args=['-6919097849694304399'], kwargs=None), CallNode(id='7427462424716739544', function='Integer.from_int', type_params=None, args=['3983604008656577675'], kwargs=None), CallNode(id='3003876775315600992', function='Vec.__getitem__', type_params={'T': DeclaredTypeInstance(type='Value', params=None)}, args=['-5550966185988575795', '7427462424716739544'], kwargs=None), CallNode(id='8558200726848538509', function='ValueExpr.from_value', type_params=None, args=['3003876775315600992'], kwargs=None), CallNode(id='6962345171195329357', function='FunctionTwo.__call__', type_params={'V': DeclaredTypeInstance(type='ValueExpr', params=None), 'U': DeclaredTypeInstance(type='ValueExpr', params=None), 'T': DeclaredTypeInstance(type='ValueExpr', params=None)}, args=['1397113001861835832', '5891730441609885534', '8558200726848538509'], kwargs=None), PrimitiveNode(id='3989267796447890075', type='bool', repr='True'), PrimitiveNode(id='3959146490344299550', type='NoneType', repr='None'), PrimitiveNode(id='-8690275497361632339', type='_Uniq', repr='140537647884832'), CallNode(id='-1316392832684187443', function='FnRef._block', type_params=None, args=['-4261420950422716075', '3989267796447890075', '3959146490344299550', '-8690275497361632339'], kwargs=None), CallNode(id='5402145261438168003', function='Pair.create', type_params=None, args=['-1316392832684187443', '655336363617419451'], kwargs=None), CallNode(id='1170463206590159392', function='ValueExpr.build', type_params=None, args=['6962345171195329357', '5402145261438168003'], kwargs=None), CallNode(id='4415030379540861219', function='Pair.right', type_params={'U': DeclaredTypeInstance(type='Pair', params={'U': DeclaredTypeInstance(type='Fn', params=None), 'T': DeclaredTypeInstance(type='BlockRef', params=None)}), 'T': DeclaredTypeInstance(type='Value', params=None)}, args=['1170463206590159392'], kwargs=None), CallNode(id='-1625347926529762402', function='Pair.right', type_params={'U': DeclaredTypeInstance(type='Fn', params=None), 'T': DeclaredTypeInstance(type='BlockRef', params=None)}, args=['4415030379540861219'], kwargs=None), CallNode(id='811409354975039606', function='Pair.left', type_params={'U': DeclaredTypeInstance(type='Fn', params=None), 'T': DeclaredTypeInstance(type='BlockRef', params=None)}, args=['4415030379540861219'], kwargs=None), CallNode(id='-8492161800001458613', function='Pair.left', type_params={'U': DeclaredTypeInstance(type='Pair', params={'U': DeclaredTypeInstance(type='Fn', params=None), 'T': DeclaredTypeInstance(type='BlockRef', params=None)}), 'T': DeclaredTypeInstance(type='Value', params=None)}, args=['1170463206590159392'], kwargs=None), CallNode(id='-2320426448431430428', function='BlockRef.ret', type_params=None, args=['811409354975039606', '-8492161800001458613'], kwargs=None), CallNode(id='2354072170850102309', function='Fn.add_block', type_params=None, args=['-1625347926529762402', '-2320426448431430428'], kwargs=None), CallNode(id='1316636807936787257', function='from_llvm_fn_2', type_params=None, args=['2354072170850102309'], kwargs=None), CallNode(id='-5666368305550626317', function='to_llvm_fn_2', type_params=None, args=['1316636807936787257'], kwargs=None), CallNode(id='-8627832786646860859', function='ModRef.mod', type_params=None, args=['7737634984556270748', '-5666368305550626317'], kwargs=None), CallNode(id='157700072576913810', function='Fn.ref', type_params=None, args=['-5666368305550626317'], kwargs=None), CallNode(id='2445887772114549826', function='compile_function', type_params=None, args=['-8627832786646860859', '157700072576913810', '3983604008656577675'], kwargs=None), PrimitiveNode(id='-3192475170617495113', type='FunctionReplaceTyping', repr=\"FunctionReplaceTyping(fn=<function FunctionTwo.unfix.<locals>.inner at 0x7fd1409f67b8>, typevars=HashableMapping(_items=((~V, <class 'metadsl_llvm.ir_context.ValueExpr'>), (~U, <class 'metadsl_llvm.ir_context.ValueExpr'>), (~T, <class 'metadsl_llvm.ir_context.ValueExpr'>))), typevars_in_scope=frozenset({~V, ~T, ~T, ~U, ~U}), inner_mapping=ReplaceTypevarsExpression(typevars=HashableMapping(_items=((~V, <class 'metadsl_llvm.ir_context.ValueExpr'>), (~U, <class 'metadsl_llvm.ir_context.ValueExpr'>), (~T, <class 'metadsl_llvm.ir_context.ValueExpr'>)))))\"), CallNode(id='1238138213941299567', function='Abstraction.from_fn', type_params=None, args=['-3192475170617495113'], kwargs=None), CallNode(id='-906133618428032055', function='Abstraction.__call__', type_params={'U': DeclaredTypeInstance(type='FunctionTwo', params={'V': DeclaredTypeInstance(type='ValueExpr', params=None), 'U': DeclaredTypeInstance(type='ValueExpr', params=None), 'T': DeclaredTypeInstance(type='ValueExpr', params=None)}), 'T': DeclaredTypeInstance(type='FunctionTwo', params={'V': DeclaredTypeInstance(type='ValueExpr', params=None), 'U': DeclaredTypeInstance(type='ValueExpr', params=None), 'T': DeclaredTypeInstance(type='ValueExpr', params=None)})}, args=['1238138213941299567', '-3039002652677451600'], kwargs=None), CallNode(id='17878733920598046', function='FunctionTwo.__call__', type_params={'V': DeclaredTypeInstance(type='ValueExpr', params=None), 'U': DeclaredTypeInstance(type='ValueExpr', params=None), 'T': DeclaredTypeInstance(type='ValueExpr', params=None)}, args=['-906133618428032055', '5891730441609885534', '8558200726848538509'], kwargs=None), CallNode(id='5063933005074999522', function='ValueExpr.build', type_params=None, args=['17878733920598046', '5402145261438168003'], kwargs=None), CallNode(id='-546990824210356649', function='Pair.right', type_params={'U': DeclaredTypeInstance(type='Pair', params={'U': DeclaredTypeInstance(type='Fn', params=None), 'T': DeclaredTypeInstance(type='BlockRef', params=None)}), 'T': DeclaredTypeInstance(type='Value', params=None)}, args=['5063933005074999522'], kwargs=None), CallNode(id='4697820377427603625', function='Pair.right', type_params={'U': DeclaredTypeInstance(type='Fn', params=None), 'T': DeclaredTypeInstance(type='BlockRef', params=None)}, args=['-546990824210356649'], kwargs=None), CallNode(id='8868697733551207297', function='Pair.left', type_params={'U': DeclaredTypeInstance(type='Fn', params=None), 'T': DeclaredTypeInstance(type='BlockRef', params=None)}, args=['-546990824210356649'], kwargs=None), CallNode(id='5970436641537052911', function='Pair.left', type_params={'U': DeclaredTypeInstance(type='Pair', params={'U': DeclaredTypeInstance(type='Fn', params=None), 'T': DeclaredTypeInstance(type='BlockRef', params=None)}), 'T': DeclaredTypeInstance(type='Value', params=None)}, args=['5063933005074999522'], kwargs=None), CallNode(id='4339898884155000885', function='BlockRef.ret', type_params=None, args=['8868697733551207297', '5970436641537052911'], kwargs=None), CallNode(id='-1764555171339273429', function='Fn.add_block', type_params=None, args=['4697820377427603625', '4339898884155000885'], kwargs=None), CallNode(id='-6119756559814496384', function='from_llvm_fn_2', type_params=None, args=['-1764555171339273429'], kwargs=None), CallNode(id='-5647806050917222616', function='to_llvm_fn_2', type_params=None, args=['-6119756559814496384'], kwargs=None), CallNode(id='-4439436241896556856', function='ModRef.mod', type_params=None, args=['7737634984556270748', '-5647806050917222616'], kwargs=None), CallNode(id='-7871585549109479367', function='Fn.ref', type_params=None, args=['-5647806050917222616'], kwargs=None), CallNode(id='-8470299469880062915', function='compile_function', type_params=None, args=['-4439436241896556856', '-7871585549109479367', '3983604008656577675'], kwargs=None), PrimitiveNode(id='252929374395045565', type='FunctionReplaceTyping', repr=\"FunctionReplaceTyping(fn=<function FunctionTwo.from_fn.<locals>.inner at 0x7fd1382a6158>, typevars=HashableMapping(_items=((~U, <class 'metadsl_llvm.ir_context.ValueExpr'>), (~T, <class 'metadsl_llvm.ir_context.ValueExpr'>), (~V, <class 'metadsl_llvm.ir_context.ValueExpr'>))), typevars_in_scope=frozenset({~V, ~T, ~T, ~U, ~U}), inner_mapping=ReplaceTypevarsExpression(typevars=HashableMapping(_items=((~U, <class 'metadsl_llvm.ir_context.ValueExpr'>), (~T, <class 'metadsl_llvm.ir_context.ValueExpr'>), (~V, <class 'metadsl_llvm.ir_context.ValueExpr'>)))))\"), CallNode(id='-1421379122089931984', function='Abstraction.from_fn', type_params=None, args=['252929374395045565'], kwargs=None), CallNode(id='-7327502295671867676', function='FunctionTwo.create', type_params={'V': DeclaredTypeInstance(type='ValueExpr', params=None), 'U': DeclaredTypeInstance(type='ValueExpr', params=None), 'T': DeclaredTypeInstance(type='ValueExpr', params=None)}, args=['3348305646612022562', '-1421379122089931984'], kwargs=None), CallNode(id='-6952164166421425518', function='FunctionTwo.name', type_params={'V': DeclaredTypeInstance(type='ValueExpr', params=None), 'U': DeclaredTypeInstance(type='ValueExpr', params=None), 'T': DeclaredTypeInstance(type='ValueExpr', params=None)}, args=['-7327502295671867676'], kwargs=None), CallNode(id='-4525470377328133289', function='ModRef.fn', type_params=None, args=['7737634984556270748', '-6952164166421425518', '2869849078853932976', '-4379724003781273686'], kwargs=None), CallNode(id='3967941350548701121', function='FnRef.fn', type_params=None, args=['-4525470377328133289'], kwargs=None), CallNode(id='-228978966738792579', function='from_llvm_fn_2', type_params=None, args=['3967941350548701121'], kwargs=None), CallNode(id='122670493802674223', function='Abstraction.__call__', type_params={'U': DeclaredTypeInstance(type='FunctionTwo', params={'V': DeclaredTypeInstance(type='ValueExpr', params=None), 'U': DeclaredTypeInstance(type='ValueExpr', params=None), 'T': DeclaredTypeInstance(type='ValueExpr', params=None)}), 'T': DeclaredTypeInstance(type='FunctionTwo', params={'V': DeclaredTypeInstance(type='ValueExpr', params=None), 'U': DeclaredTypeInstance(type='ValueExpr', params=None), 'T': DeclaredTypeInstance(type='ValueExpr', params=None)})}, args=['1238138213941299567', '-228978966738792579'], kwargs=None), CallNode(id='-2321703294316730505', function='FnRef.arguments', type_params=None, args=['-4525470377328133289'], kwargs=None), CallNode(id='-8914660425554820988', function='Vec.__getitem__', type_params={'T': DeclaredTypeInstance(type='Value', params=None)}, args=['-2321703294316730505', '7019033112043945449'], kwargs=None), CallNode(id='-5642217800241969171', function='ValueExpr.from_value', type_params=None, args=['-8914660425554820988'], kwargs=None), CallNode(id='-7985518937034452611', function='Vec.__getitem__', type_params={'T': DeclaredTypeInstance(type='Value', params=None)}, args=['-2321703294316730505', '7427462424716739544'], kwargs=None), CallNode(id='8410106236791350154', function='ValueExpr.from_value', type_params=None, args=['-7985518937034452611'], kwargs=None), CallNode(id='-77768582217579076', function='FunctionTwo.__call__', type_params={'V': DeclaredTypeInstance(type='ValueExpr', params=None), 'U': DeclaredTypeInstance(type='ValueExpr', params=None), 'T': DeclaredTypeInstance(type='ValueExpr', params=None)}, args=['122670493802674223', '-5642217800241969171', '8410106236791350154'], kwargs=None), CallNode(id='-6598123110313954221', function='FnRef._block', type_params=None, args=['-4525470377328133289', '3989267796447890075', '3959146490344299550', '-8690275497361632339'], kwargs=None), CallNode(id='-3321340217880519876', function='Pair.create', type_params=None, args=['-6598123110313954221', '3967941350548701121'], kwargs=None), CallNode(id='-3548861057568240414', function='ValueExpr.build', type_params=None, args=['-77768582217579076', '-3321340217880519876'], kwargs=None), CallNode(id='-588071994858971978', function='Pair.right', type_params={'U': DeclaredTypeInstance(type='Pair', params={'U': DeclaredTypeInstance(type='Fn', params=None), 'T': DeclaredTypeInstance(type='BlockRef', params=None)}), 'T': DeclaredTypeInstance(type='Value', params=None)}, args=['-3548861057568240414'], kwargs=None), CallNode(id='9013550616968987268', function='Pair.right', type_params={'U': DeclaredTypeInstance(type='Fn', params=None), 'T': DeclaredTypeInstance(type='BlockRef', params=None)}, args=['-588071994858971978'], kwargs=None), CallNode(id='3779584034083463084', function='Pair.left', type_params={'U': DeclaredTypeInstance(type='Fn', params=None), 'T': DeclaredTypeInstance(type='BlockRef', params=None)}, args=['-588071994858971978'], kwargs=None), CallNode(id='-6135903351787931682', function='Pair.left', type_params={'U': DeclaredTypeInstance(type='Pair', params={'U': DeclaredTypeInstance(type='Fn', params=None), 'T': DeclaredTypeInstance(type='BlockRef', params=None)}), 'T': DeclaredTypeInstance(type='Value', params=None)}, args=['-3548861057568240414'], kwargs=None), CallNode(id='730563150820858019', function='BlockRef.ret', type_params=None, args=['3779584034083463084', '-6135903351787931682'], kwargs=None), CallNode(id='-7451235734652464124', function='Fn.add_block', type_params=None, args=['9013550616968987268', '730563150820858019'], kwargs=None), CallNode(id='320700677138260802', function='from_llvm_fn_2', type_params=None, args=['-7451235734652464124'], kwargs=None), CallNode(id='163139068322131236', function='to_llvm_fn_2', type_params=None, args=['320700677138260802'], kwargs=None), CallNode(id='-1434691730035970686', function='ModRef.mod', type_params=None, args=['7737634984556270748', '163139068322131236'], kwargs=None), CallNode(id='4845013034419969571', function='Fn.ref', type_params=None, args=['163139068322131236'], kwargs=None), CallNode(id='4547928391453373629', function='compile_function', type_params=None, args=['-1434691730035970686', '4845013034419969571', '3983604008656577675'], kwargs=None), PrimitiveNode(id='-3397861691224444041', type='Variable', repr='0x7fd17895ed30'), CallNode(id='-7543133531423137908', function='Abstraction.create_variable', type_params={'U': DeclaredTypeInstance(type='Abstraction', params={'U': DeclaredTypeInstance(type='ValueExpr', params=None), 'T': DeclaredTypeInstance(type='ValueExpr', params=None)}), 'T': DeclaredTypeInstance(type='ValueExpr', params=None)}, args=['-3397861691224444041'], kwargs=None), PrimitiveNode(id='-1776329340260686570', type='FunctionReplaceTyping', repr=\"FunctionReplaceTyping(fn=<function FunctionTwo.from_fn.<locals>.inner.<locals>.inner at 0x7fd1885a1ea0>, typevars=HashableMapping(_items=((~U, <class 'metadsl_llvm.ir_context.ValueExpr'>), (~T, <class 'metadsl_llvm.ir_context.ValueExpr'>), (~V, <class 'metadsl_llvm.ir_context.ValueExpr'>))), typevars_in_scope=frozenset({~V, ~T, ~T, ~U, ~U}), inner_mapping=ReplaceTypevarsExpression(typevars=HashableMapping(_items=((~U, <class 'metadsl_llvm.ir_context.ValueExpr'>), (~T, <class 'metadsl_llvm.ir_context.ValueExpr'>), (~V, <class 'metadsl_llvm.ir_context.ValueExpr'>)))))\"), CallNode(id='-7958905916162134129', function='Abstraction.from_fn', type_params=None, args=['-1776329340260686570'], kwargs=None), CallNode(id='-4176454342511269214', function='Abstraction.create', type_params={'U': DeclaredTypeInstance(type='Abstraction', params={'U': DeclaredTypeInstance(type='ValueExpr', params=None), 'T': DeclaredTypeInstance(type='ValueExpr', params=None)}), 'T': DeclaredTypeInstance(type='ValueExpr', params=None)}, args=['-7543133531423137908', '-7958905916162134129'], kwargs=None), CallNode(id='-5675442095551361825', function='FunctionTwo.create', type_params={'V': DeclaredTypeInstance(type='ValueExpr', params=None), 'U': DeclaredTypeInstance(type='ValueExpr', params=None), 'T': DeclaredTypeInstance(type='ValueExpr', params=None)}, args=['3348305646612022562', '-4176454342511269214'], kwargs=None), CallNode(id='5076312244748016966', function='FunctionTwo.name', type_params={'V': DeclaredTypeInstance(type='ValueExpr', params=None), 'U': DeclaredTypeInstance(type='ValueExpr', params=None), 'T': DeclaredTypeInstance(type='ValueExpr', params=None)}, args=['-5675442095551361825'], kwargs=None), CallNode(id='3598605101798083268', function='ModRef.fn', type_params=None, args=['7737634984556270748', '5076312244748016966', '2869849078853932976', '-4379724003781273686'], kwargs=None), CallNode(id='-6895595126162456186', function='FnRef.fn', type_params=None, args=['3598605101798083268'], kwargs=None), CallNode(id='4945964344062901827', function='from_llvm_fn_2', type_params=None, args=['-6895595126162456186'], kwargs=None), CallNode(id='2658092523456493975', function='Abstraction.__call__', type_params={'U': DeclaredTypeInstance(type='FunctionTwo', params={'V': DeclaredTypeInstance(type='ValueExpr', params=None), 'U': DeclaredTypeInstance(type='ValueExpr', params=None), 'T': DeclaredTypeInstance(type='ValueExpr', params=None)}), 'T': DeclaredTypeInstance(type='FunctionTwo', params={'V': DeclaredTypeInstance(type='ValueExpr', params=None), 'U': DeclaredTypeInstance(type='ValueExpr', params=None), 'T': DeclaredTypeInstance(type='ValueExpr', params=None)})}, args=['1238138213941299567', '4945964344062901827'], kwargs=None), CallNode(id='2121090625215233376', function='FnRef.arguments', type_params=None, args=['3598605101798083268'], kwargs=None), CallNode(id='1549778606130048954', function='Vec.__getitem__', type_params={'T': DeclaredTypeInstance(type='Value', params=None)}, args=['2121090625215233376', '7019033112043945449'], kwargs=None), CallNode(id='-2992073758749817526', function='ValueExpr.from_value', type_params=None, args=['1549778606130048954'], kwargs=None), CallNode(id='-5040353714504392105', function='Vec.__getitem__', type_params={'T': DeclaredTypeInstance(type='Value', params=None)}, args=['2121090625215233376', '7427462424716739544'], kwargs=None), CallNode(id='2199262309717212337', function='ValueExpr.from_value', type_params=None, args=['-5040353714504392105'], kwargs=None), CallNode(id='4402072983192775991', function='FunctionTwo.__call__', type_params={'V': DeclaredTypeInstance(type='ValueExpr', params=None), 'U': DeclaredTypeInstance(type='ValueExpr', params=None), 'T': DeclaredTypeInstance(type='ValueExpr', params=None)}, args=['2658092523456493975', '-2992073758749817526', '2199262309717212337'], kwargs=None), CallNode(id='144185630015441426', function='FnRef._block', type_params=None, args=['3598605101798083268', '3989267796447890075', '3959146490344299550', '-8690275497361632339'], kwargs=None), CallNode(id='3249240432877801825', function='Pair.create', type_params=None, args=['144185630015441426', '-6895595126162456186'], kwargs=None), CallNode(id='-4192891550697100375', function='ValueExpr.build', type_params=None, args=['4402072983192775991', '3249240432877801825'], kwargs=None), CallNode(id='-2591113061231592821', function='Pair.right', type_params={'U': DeclaredTypeInstance(type='Pair', params={'U': DeclaredTypeInstance(type='Fn', params=None), 'T': DeclaredTypeInstance(type='BlockRef', params=None)}), 'T': DeclaredTypeInstance(type='Value', params=None)}, args=['-4192891550697100375'], kwargs=None), CallNode(id='3956721390416363704', function='Pair.right', type_params={'U': DeclaredTypeInstance(type='Fn', params=None), 'T': DeclaredTypeInstance(type='BlockRef', params=None)}, args=['-2591113061231592821'], kwargs=None), CallNode(id='4897979854423636768', function='Pair.left', type_params={'U': DeclaredTypeInstance(type='Fn', params=None), 'T': DeclaredTypeInstance(type='BlockRef', params=None)}, args=['-2591113061231592821'], kwargs=None), CallNode(id='-8197423816279676829', function='Pair.left', type_params={'U': DeclaredTypeInstance(type='Pair', params={'U': DeclaredTypeInstance(type='Fn', params=None), 'T': DeclaredTypeInstance(type='BlockRef', params=None)}), 'T': DeclaredTypeInstance(type='Value', params=None)}, args=['-4192891550697100375'], kwargs=None), CallNode(id='-2992167864236787160', function='BlockRef.ret', type_params=None, args=['4897979854423636768', '-8197423816279676829'], kwargs=None), CallNode(id='-4915718569923601790', function='Fn.add_block', type_params=None, args=['3956721390416363704', '-2992167864236787160'], kwargs=None), CallNode(id='-353684322777132489', function='from_llvm_fn_2', type_params=None, args=['-4915718569923601790'], kwargs=None), CallNode(id='7281463492223243837', function='to_llvm_fn_2', type_params=None, args=['-353684322777132489'], kwargs=None), CallNode(id='-327597385162929074', function='ModRef.mod', type_params=None, args=['7737634984556270748', '7281463492223243837'], kwargs=None), CallNode(id='6417717458864110199', function='Fn.ref', type_params=None, args=['7281463492223243837'], kwargs=None), CallNode(id='-5515445831195181299', function='compile_function', type_params=None, args=['-327597385162929074', '6417717458864110199', '3983604008656577675'], kwargs=None), PrimitiveNode(id='-3397861688445602366', type='Variable', repr='0x7fd178954cc0'), CallNode(id='7399126823415371926', function='Abstraction.create_variable', type_params={'U': DeclaredTypeInstance(type='ValueExpr', params=None), 'T': DeclaredTypeInstance(type='ValueExpr', params=None)}, args=['-3397861688445602366'], kwargs=None), CallNode(id='-821979905696300414', function='ValueExpr.__add__', type_params=None, args=['-7543133531423137908', '7399126823415371926'], kwargs=None), CallNode(id='-1706402251581152413', function='Value.constant', type_params=None, args=['-3409559652977700816', '3983604008656577675'], kwargs=None), CallNode(id='4507850206849394183', function='ValueExpr.from_value', type_params=None, args=['-1706402251581152413'], kwargs=None), CallNode(id='-1982648281987826802', function='ValueExpr.__add__', type_params=None, args=['-821979905696300414', '4507850206849394183'], kwargs=None), CallNode(id='-1773840491396744583', function='Abstraction.create', type_params={'U': DeclaredTypeInstance(type='ValueExpr', params=None), 'T': DeclaredTypeInstance(type='ValueExpr', params=None)}, args=['7399126823415371926', '-1982648281987826802'], kwargs=None), CallNode(id='-2133656073568533879', function='Abstraction.create', type_params={'U': DeclaredTypeInstance(type='Abstraction', params={'U': DeclaredTypeInstance(type='ValueExpr', params=None), 'T': DeclaredTypeInstance(type='ValueExpr', params=None)}), 'T': DeclaredTypeInstance(type='ValueExpr', params=None)}, args=['-7543133531423137908', '-1773840491396744583'], kwargs=None), CallNode(id='1491448416938381431', function='FunctionTwo.create', type_params={'V': DeclaredTypeInstance(type='ValueExpr', params=None), 'U': DeclaredTypeInstance(type='ValueExpr', params=None), 'T': DeclaredTypeInstance(type='ValueExpr', params=None)}, args=['3348305646612022562', '-2133656073568533879'], kwargs=None), CallNode(id='-5501876424606217772', function='FunctionTwo.name', type_params={'V': DeclaredTypeInstance(type='ValueExpr', params=None), 'U': DeclaredTypeInstance(type='ValueExpr', params=None), 'T': DeclaredTypeInstance(type='ValueExpr', params=None)}, args=['1491448416938381431'], kwargs=None), CallNode(id='-2425015113509149690', function='ModRef.fn', type_params=None, args=['7737634984556270748', '-5501876424606217772', '2869849078853932976', '-4379724003781273686'], kwargs=None), CallNode(id='8499659275123177414', function='FnRef.fn', type_params=None, args=['-2425015113509149690'], kwargs=None), CallNode(id='7158786108132283610', function='from_llvm_fn_2', type_params=None, args=['8499659275123177414'], kwargs=None), CallNode(id='-6262476088235088497', function='Abstraction.__call__', type_params={'U': DeclaredTypeInstance(type='FunctionTwo', params={'V': DeclaredTypeInstance(type='ValueExpr', params=None), 'U': DeclaredTypeInstance(type='ValueExpr', params=None), 'T': DeclaredTypeInstance(type='ValueExpr', params=None)}), 'T': DeclaredTypeInstance(type='FunctionTwo', params={'V': DeclaredTypeInstance(type='ValueExpr', params=None), 'U': DeclaredTypeInstance(type='ValueExpr', params=None), 'T': DeclaredTypeInstance(type='ValueExpr', params=None)})}, args=['1238138213941299567', '7158786108132283610'], kwargs=None), CallNode(id='1420997731438869536', function='FnRef.arguments', type_params=None, args=['-2425015113509149690'], kwargs=None), CallNode(id='-7201355846903359238', function='Vec.__getitem__', type_params={'T': DeclaredTypeInstance(type='Value', params=None)}, args=['1420997731438869536', '7019033112043945449'], kwargs=None), CallNode(id='-7631835857354564485', function='ValueExpr.from_value', type_params=None, args=['-7201355846903359238'], kwargs=None), CallNode(id='823772765070614423', function='Vec.__getitem__', type_params={'T': DeclaredTypeInstance(type='Value', params=None)}, args=['1420997731438869536', '7427462424716739544'], kwargs=None), CallNode(id='6956004343775093595', function='ValueExpr.from_value', type_params=None, args=['823772765070614423'], kwargs=None), CallNode(id='-2109796948023778380', function='FunctionTwo.__call__', type_params={'V': DeclaredTypeInstance(type='ValueExpr', params=None), 'U': DeclaredTypeInstance(type='ValueExpr', params=None), 'T': DeclaredTypeInstance(type='ValueExpr', params=None)}, args=['-6262476088235088497', '-7631835857354564485', '6956004343775093595'], kwargs=None), CallNode(id='7748491967965412306', function='FnRef._block', type_params=None, args=['-2425015113509149690', '3989267796447890075', '3959146490344299550', '-8690275497361632339'], kwargs=None), CallNode(id='-661909933896662603', function='Pair.create', type_params=None, args=['7748491967965412306', '8499659275123177414'], kwargs=None), CallNode(id='-3787108274468785868', function='ValueExpr.build', type_params=None, args=['-2109796948023778380', '-661909933896662603'], kwargs=None), CallNode(id='9042407612413988668', function='Pair.right', type_params={'U': DeclaredTypeInstance(type='Pair', params={'U': DeclaredTypeInstance(type='Fn', params=None), 'T': DeclaredTypeInstance(type='BlockRef', params=None)}), 'T': DeclaredTypeInstance(type='Value', params=None)}, args=['-3787108274468785868'], kwargs=None), CallNode(id='-534372112070469487', function='Pair.right', type_params={'U': DeclaredTypeInstance(type='Fn', params=None), 'T': DeclaredTypeInstance(type='BlockRef', params=None)}, args=['9042407612413988668'], kwargs=None), CallNode(id='-1245799181409039879', function='Pair.left', type_params={'U': DeclaredTypeInstance(type='Fn', params=None), 'T': DeclaredTypeInstance(type='BlockRef', params=None)}, args=['9042407612413988668'], kwargs=None), CallNode(id='6003856748758436308', function='Pair.left', type_params={'U': DeclaredTypeInstance(type='Pair', params={'U': DeclaredTypeInstance(type='Fn', params=None), 'T': DeclaredTypeInstance(type='BlockRef', params=None)}), 'T': DeclaredTypeInstance(type='Value', params=None)}, args=['-3787108274468785868'], kwargs=None), CallNode(id='4282904729306612229', function='BlockRef.ret', type_params=None, args=['-1245799181409039879', '6003856748758436308'], kwargs=None), CallNode(id='-5414515609336354367', function='Fn.add_block', type_params=None, args=['-534372112070469487', '4282904729306612229'], kwargs=None), CallNode(id='-5641524335169639236', function='from_llvm_fn_2', type_params=None, args=['-5414515609336354367'], kwargs=None), CallNode(id='-2610966092146974772', function='to_llvm_fn_2', type_params=None, args=['-5641524335169639236'], kwargs=None), CallNode(id='1459068658933990883', function='ModRef.mod', type_params=None, args=['7737634984556270748', '-2610966092146974772'], kwargs=None), CallNode(id='292283932517819744', function='Fn.ref', type_params=None, args=['-2610966092146974772'], kwargs=None), CallNode(id='4452976038576809975', function='compile_function', type_params=None, args=['1459068658933990883', '292283932517819744', '3983604008656577675'], kwargs=None), PrimitiveNode(id='-3397861684535522066', type='Variable', repr='0x7fd178946b00'), CallNode(id='6514120424658836116', function='Abstraction.create_variable', type_params={'U': DeclaredTypeInstance(type='FunctionTwo', params={'V': DeclaredTypeInstance(type='ValueExpr', params=None), 'U': DeclaredTypeInstance(type='ValueExpr', params=None), 'T': DeclaredTypeInstance(type='ValueExpr', params=None)}), 'T': DeclaredTypeInstance(type='FunctionTwo', params={'V': DeclaredTypeInstance(type='ValueExpr', params=None), 'U': DeclaredTypeInstance(type='ValueExpr', params=None), 'T': DeclaredTypeInstance(type='ValueExpr', params=None)})}, args=['-3397861684535522066'], kwargs=None), CallNode(id='3759058332462297966', function='FunctionTwo.abstraction', type_params={'V': DeclaredTypeInstance(type='ValueExpr', params=None), 'U': DeclaredTypeInstance(type='ValueExpr', params=None), 'T': DeclaredTypeInstance(type='ValueExpr', params=None)}, args=['-3448567052618944149'], kwargs=None), CallNode(id='512015182899599720', function='Abstraction.unfix', type_params={'U': DeclaredTypeInstance(type='Abstraction', params={'U': DeclaredTypeInstance(type='ValueExpr', params=None), 'T': DeclaredTypeInstance(type='ValueExpr', params=None)}), 'T': DeclaredTypeInstance(type='ValueExpr', params=None)}, args=['3759058332462297966'], kwargs=None), CallNode(id='3005338591785643138', function='FunctionTwo.abstraction', type_params={'V': DeclaredTypeInstance(type='ValueExpr', params=None), 'U': DeclaredTypeInstance(type='ValueExpr', params=None), 'T': DeclaredTypeInstance(type='ValueExpr', params=None)}, args=['6514120424658836116'], kwargs=None), CallNode(id='5264005753603491224', function='Abstraction.__call__', type_params={'U': DeclaredTypeInstance(type='Abstraction', params={'U': DeclaredTypeInstance(type='Abstraction', params={'U': DeclaredTypeInstance(type='ValueExpr', params=None), 'T': DeclaredTypeInstance(type='ValueExpr', params=None)}), 'T': DeclaredTypeInstance(type='ValueExpr', params=None)}), 'T': DeclaredTypeInstance(type='Abstraction', params={'U': DeclaredTypeInstance(type='Abstraction', params={'U': DeclaredTypeInstance(type='ValueExpr', params=None), 'T': DeclaredTypeInstance(type='ValueExpr', params=None)}), 'T': DeclaredTypeInstance(type='ValueExpr', params=None)})}, args=['512015182899599720', '3005338591785643138'], kwargs=None), CallNode(id='-6530522757606754252', function='FunctionTwo.create', type_params=None, args=['-1367591971730276219', '5264005753603491224'], kwargs=None), CallNode(id='-6266808223511237116', function='Abstraction.create', type_params={'U': DeclaredTypeInstance(type='FunctionTwo', params={'V': DeclaredTypeInstance(type='ValueExpr', params=None), 'U': DeclaredTypeInstance(type='ValueExpr', params=None), 'T': DeclaredTypeInstance(type='ValueExpr', params=None)}), 'T': DeclaredTypeInstance(type='FunctionTwo', params={'V': DeclaredTypeInstance(type='ValueExpr', params=None), 'U': DeclaredTypeInstance(type='ValueExpr', params=None), 'T': DeclaredTypeInstance(type='ValueExpr', params=None)})}, args=['6514120424658836116', '-6530522757606754252'], kwargs=None), CallNode(id='-8695673020171899578', function='Abstraction.__call__', type_params={'U': DeclaredTypeInstance(type='FunctionTwo', params={'V': DeclaredTypeInstance(type='ValueExpr', params=None), 'U': DeclaredTypeInstance(type='ValueExpr', params=None), 'T': DeclaredTypeInstance(type='ValueExpr', params=None)}), 'T': DeclaredTypeInstance(type='FunctionTwo', params={'V': DeclaredTypeInstance(type='ValueExpr', params=None), 'U': DeclaredTypeInstance(type='ValueExpr', params=None), 'T': DeclaredTypeInstance(type='ValueExpr', params=None)})}, args=['-6266808223511237116', '7158786108132283610'], kwargs=None), CallNode(id='-1201430648791809318', function='FunctionTwo.__call__', type_params={'V': DeclaredTypeInstance(type='ValueExpr', params=None), 'U': DeclaredTypeInstance(type='ValueExpr', params=None), 'T': DeclaredTypeInstance(type='ValueExpr', params=None)}, args=['-8695673020171899578', '-7631835857354564485', '6956004343775093595'], kwargs=None), CallNode(id='5802475993120199790', function='ValueExpr.build', type_params=None, args=['-1201430648791809318', '-661909933896662603'], kwargs=None), CallNode(id='-1884405006609099117', function='Pair.right', type_params={'U': DeclaredTypeInstance(type='Pair', params={'U': DeclaredTypeInstance(type='Fn', params=None), 'T': DeclaredTypeInstance(type='BlockRef', params=None)}), 'T': DeclaredTypeInstance(type='Value', params=None)}, args=['5802475993120199790'], kwargs=None), CallNode(id='-8240475659460170027', function='Pair.right', type_params={'U': DeclaredTypeInstance(type='Fn', params=None), 'T': DeclaredTypeInstance(type='BlockRef', params=None)}, args=['-1884405006609099117'], kwargs=None), CallNode(id='1647392416891063149', function='Pair.left', type_params={'U': DeclaredTypeInstance(type='Fn', params=None), 'T': DeclaredTypeInstance(type='BlockRef', params=None)}, args=['-1884405006609099117'], kwargs=None), CallNode(id='3970074219154330043', function='Pair.left', type_params={'U': DeclaredTypeInstance(type='Pair', params={'U': DeclaredTypeInstance(type='Fn', params=None), 'T': DeclaredTypeInstance(type='BlockRef', params=None)}), 'T': DeclaredTypeInstance(type='Value', params=None)}, args=['5802475993120199790'], kwargs=None), CallNode(id='8957693067133183107', function='BlockRef.ret', type_params=None, args=['1647392416891063149', '3970074219154330043'], kwargs=None), CallNode(id='-3394752030127488442', function='Fn.add_block', type_params=None, args=['-8240475659460170027', '8957693067133183107'], kwargs=None), CallNode(id='-869978020576567026', function='from_llvm_fn_2', type_params=None, args=['-3394752030127488442'], kwargs=None), CallNode(id='7008039137124079832', function='to_llvm_fn_2', type_params=None, args=['-869978020576567026'], kwargs=None), CallNode(id='5812360709076604467', function='ModRef.mod', type_params=None, args=['7737634984556270748', '7008039137124079832'], kwargs=None), CallNode(id='7202899474233894160', function='Fn.ref', type_params=None, args=['7008039137124079832'], kwargs=None), CallNode(id='-4314304193667053814', function='compile_function', type_params=None, args=['5812360709076604467', '7202899474233894160', '3983604008656577675'], kwargs=None), PrimitiveNode(id='8126197009372575769', type='FunctionReplaceTyping', repr=\"FunctionReplaceTyping(fn=<function FunctionTwo.from_fn.<locals>.inner at 0x7fd1885a1e18>, typevars=HashableMapping(_items=((~U, <class 'metadsl_llvm.ir_context.ValueExpr'>), (~T, <class 'metadsl_llvm.ir_context.ValueExpr'>), (~V, <class 'metadsl_llvm.ir_context.ValueExpr'>))), typevars_in_scope=frozenset({~V, ~T, ~T, ~U, ~U}), inner_mapping=ReplaceTypevarsExpression(typevars=HashableMapping(_items=((~U, <class 'metadsl_llvm.ir_context.ValueExpr'>), (~T, <class 'metadsl_llvm.ir_context.ValueExpr'>), (~V, <class 'metadsl_llvm.ir_context.ValueExpr'>)))))\"), CallNode(id='-6533397841555562499', function='Abstraction.from_fn', type_params=None, args=['8126197009372575769'], kwargs=None), CallNode(id='-500354214394281055', function='FunctionTwo.create', type_params={'V': DeclaredTypeInstance(type='ValueExpr', params=None), 'U': DeclaredTypeInstance(type='ValueExpr', params=None), 'T': DeclaredTypeInstance(type='ValueExpr', params=None)}, args=['3348305646612022562', '-6533397841555562499'], kwargs=None), CallNode(id='-3596883391250037934', function='FunctionTwo.name', type_params={'V': DeclaredTypeInstance(type='ValueExpr', params=None), 'U': DeclaredTypeInstance(type='ValueExpr', params=None), 'T': DeclaredTypeInstance(type='ValueExpr', params=None)}, args=['-500354214394281055'], kwargs=None), CallNode(id='6959583377220452201', function='FunctionTwo.abstraction', type_params={'V': DeclaredTypeInstance(type='ValueExpr', params=None), 'U': DeclaredTypeInstance(type='ValueExpr', params=None), 'T': DeclaredTypeInstance(type='ValueExpr', params=None)}, args=['-500354214394281055'], kwargs=None), CallNode(id='-8024603715559549153', function='Abstraction.unfix', type_params={'U': DeclaredTypeInstance(type='Abstraction', params={'U': DeclaredTypeInstance(type='ValueExpr', params=None), 'T': DeclaredTypeInstance(type='ValueExpr', params=None)}), 'T': DeclaredTypeInstance(type='ValueExpr', params=None)}, args=['6959583377220452201'], kwargs=None), CallNode(id='-104920299130198148', function='Abstraction.__call__', type_params={'U': DeclaredTypeInstance(type='Abstraction', params={'U': DeclaredTypeInstance(type='Abstraction', params={'U': DeclaredTypeInstance(type='ValueExpr', params=None), 'T': DeclaredTypeInstance(type='ValueExpr', params=None)}), 'T': DeclaredTypeInstance(type='ValueExpr', params=None)}), 'T': DeclaredTypeInstance(type='Abstraction', params={'U': DeclaredTypeInstance(type='Abstraction', params={'U': DeclaredTypeInstance(type='ValueExpr', params=None), 'T': DeclaredTypeInstance(type='ValueExpr', params=None)}), 'T': DeclaredTypeInstance(type='ValueExpr', params=None)})}, args=['-8024603715559549153', '3005338591785643138'], kwargs=None), CallNode(id='-8574575678404737546', function='FunctionTwo.create', type_params=None, args=['-3596883391250037934', '-104920299130198148'], kwargs=None), CallNode(id='-5609756003586836753', function='Abstraction.create', type_params={'U': DeclaredTypeInstance(type='FunctionTwo', params={'V': DeclaredTypeInstance(type='ValueExpr', params=None), 'U': DeclaredTypeInstance(type='ValueExpr', params=None), 'T': DeclaredTypeInstance(type='ValueExpr', params=None)}), 'T': DeclaredTypeInstance(type='FunctionTwo', params={'V': DeclaredTypeInstance(type='ValueExpr', params=None), 'U': DeclaredTypeInstance(type='ValueExpr', params=None), 'T': DeclaredTypeInstance(type='ValueExpr', params=None)})}, args=['6514120424658836116', '-8574575678404737546'], kwargs=None), CallNode(id='-596444054715664863', function='Abstraction.__call__', type_params={'U': DeclaredTypeInstance(type='FunctionTwo', params={'V': DeclaredTypeInstance(type='ValueExpr', params=None), 'U': DeclaredTypeInstance(type='ValueExpr', params=None), 'T': DeclaredTypeInstance(type='ValueExpr', params=None)}), 'T': DeclaredTypeInstance(type='FunctionTwo', params={'V': DeclaredTypeInstance(type='ValueExpr', params=None), 'U': DeclaredTypeInstance(type='ValueExpr', params=None), 'T': DeclaredTypeInstance(type='ValueExpr', params=None)})}, args=['-5609756003586836753', '7158786108132283610'], kwargs=None), CallNode(id='-2298531382111188144', function='FunctionTwo.__call__', type_params={'V': DeclaredTypeInstance(type='ValueExpr', params=None), 'U': DeclaredTypeInstance(type='ValueExpr', params=None), 'T': DeclaredTypeInstance(type='ValueExpr', params=None)}, args=['-596444054715664863', '-7631835857354564485', '6956004343775093595'], kwargs=None), CallNode(id='8071581535316250992', function='ValueExpr.build', type_params=None, args=['-2298531382111188144', '-661909933896662603'], kwargs=None), CallNode(id='218871914815467004', function='Pair.right', type_params={'U': DeclaredTypeInstance(type='Pair', params={'U': DeclaredTypeInstance(type='Fn', params=None), 'T': DeclaredTypeInstance(type='BlockRef', params=None)}), 'T': DeclaredTypeInstance(type='Value', params=None)}, args=['8071581535316250992'], kwargs=None), CallNode(id='-8884099311776318890', function='Pair.right', type_params={'U': DeclaredTypeInstance(type='Fn', params=None), 'T': DeclaredTypeInstance(type='BlockRef', params=None)}, args=['218871914815467004'], kwargs=None), CallNode(id='-4467084610148955202', function='Pair.left', type_params={'U': DeclaredTypeInstance(type='Fn', params=None), 'T': DeclaredTypeInstance(type='BlockRef', params=None)}, args=['218871914815467004'], kwargs=None), CallNode(id='-3004616010744209772', function='Pair.left', type_params={'U': DeclaredTypeInstance(type='Pair', params={'U': DeclaredTypeInstance(type='Fn', params=None), 'T': DeclaredTypeInstance(type='BlockRef', params=None)}), 'T': DeclaredTypeInstance(type='Value', params=None)}, args=['8071581535316250992'], kwargs=None), CallNode(id='-809108456654099674', function='BlockRef.ret', type_params=None, args=['-4467084610148955202', '-3004616010744209772'], kwargs=None), CallNode(id='3507852112487721315', function='Fn.add_block', type_params=None, args=['-8884099311776318890', '-809108456654099674'], kwargs=None), CallNode(id='9046423355358485219', function='from_llvm_fn_2', type_params=None, args=['3507852112487721315'], kwargs=None), CallNode(id='-1515613406819909344', function='to_llvm_fn_2', type_params=None, args=['9046423355358485219'], kwargs=None), CallNode(id='3720980905526051886', function='ModRef.mod', type_params=None, args=['7737634984556270748', '-1515613406819909344'], kwargs=None), CallNode(id='-3008990125407725289', function='Fn.ref', type_params=None, args=['-1515613406819909344'], kwargs=None), CallNode(id='-2796150561300737003', function='compile_function', type_params=None, args=['3720980905526051886', '-3008990125407725289', '3983604008656577675'], kwargs=None), PrimitiveNode(id='5825673904971271517', type='Variable', repr='0x7fd188628358'), CallNode(id='6727543425053095289', function='Abstraction.create_variable', type_params={'U': DeclaredTypeInstance(type='Abstraction', params={'U': DeclaredTypeInstance(type='ValueExpr', params=None), 'T': DeclaredTypeInstance(type='ValueExpr', params=None)}), 'T': DeclaredTypeInstance(type='ValueExpr', params=None)}, args=['5825673904971271517'], kwargs=None), PrimitiveNode(id='5436018141849781800', type='FunctionReplaceTyping', repr=\"FunctionReplaceTyping(fn=<function FunctionTwo.from_fn.<locals>.inner.<locals>.inner at 0x7fd1788fe488>, typevars=HashableMapping(_items=((~U, <class 'metadsl_llvm.ir_context.ValueExpr'>), (~T, <class 'metadsl_llvm.ir_context.ValueExpr'>), (~V, <class 'metadsl_llvm.ir_context.ValueExpr'>))), typevars_in_scope=frozenset({~V, ~T, ~T, ~U, ~U}), inner_mapping=ReplaceTypevarsExpression(typevars=HashableMapping(_items=((~U, <class 'metadsl_llvm.ir_context.ValueExpr'>), (~T, <class 'metadsl_llvm.ir_context.ValueExpr'>), (~V, <class 'metadsl_llvm.ir_context.ValueExpr'>)))))\"), CallNode(id='-6296402261919688909', function='Abstraction.from_fn', type_params=None, args=['5436018141849781800'], kwargs=None), CallNode(id='2694564010034106671', function='Abstraction.create', type_params={'U': DeclaredTypeInstance(type='Abstraction', params={'U': DeclaredTypeInstance(type='ValueExpr', params=None), 'T': DeclaredTypeInstance(type='ValueExpr', params=None)}), 'T': DeclaredTypeInstance(type='ValueExpr', params=None)}, args=['6727543425053095289', '-6296402261919688909'], kwargs=None), CallNode(id='-7988485960663089948', function='FunctionTwo.create', type_params={'V': DeclaredTypeInstance(type='ValueExpr', params=None), 'U': DeclaredTypeInstance(type='ValueExpr', params=None), 'T': DeclaredTypeInstance(type='ValueExpr', params=None)}, args=['3348305646612022562', '2694564010034106671'], kwargs=None), CallNode(id='4411108231796008082', function='FunctionTwo.name', type_params={'V': DeclaredTypeInstance(type='ValueExpr', params=None), 'U': DeclaredTypeInstance(type='ValueExpr', params=None), 'T': DeclaredTypeInstance(type='ValueExpr', params=None)}, args=['-7988485960663089948'], kwargs=None), CallNode(id='3754170676868513321', function='FunctionTwo.abstraction', type_params={'V': DeclaredTypeInstance(type='ValueExpr', params=None), 'U': DeclaredTypeInstance(type='ValueExpr', params=None), 'T': DeclaredTypeInstance(type='ValueExpr', params=None)}, args=['-7988485960663089948'], kwargs=None), CallNode(id='-4268275975974221039', function='Abstraction.unfix', type_params={'U': DeclaredTypeInstance(type='Abstraction', params={'U': DeclaredTypeInstance(type='ValueExpr', params=None), 'T': DeclaredTypeInstance(type='ValueExpr', params=None)}), 'T': DeclaredTypeInstance(type='ValueExpr', params=None)}, args=['3754170676868513321'], kwargs=None), CallNode(id='1493787513503289216', function='Abstraction.__call__', type_params={'U': DeclaredTypeInstance(type='Abstraction', params={'U': DeclaredTypeInstance(type='Abstraction', params={'U': DeclaredTypeInstance(type='ValueExpr', params=None), 'T': DeclaredTypeInstance(type='ValueExpr', params=None)}), 'T': DeclaredTypeInstance(type='ValueExpr', params=None)}), 'T': DeclaredTypeInstance(type='Abstraction', params={'U': DeclaredTypeInstance(type='Abstraction', params={'U': DeclaredTypeInstance(type='ValueExpr', params=None), 'T': DeclaredTypeInstance(type='ValueExpr', params=None)}), 'T': DeclaredTypeInstance(type='ValueExpr', params=None)})}, args=['-4268275975974221039', '3005338591785643138'], kwargs=None), CallNode(id='530514785344580576', function='FunctionTwo.create', type_params=None, args=['4411108231796008082', '1493787513503289216'], kwargs=None), CallNode(id='5802150023448027842', function='Abstraction.create', type_params={'U': DeclaredTypeInstance(type='FunctionTwo', params={'V': DeclaredTypeInstance(type='ValueExpr', params=None), 'U': DeclaredTypeInstance(type='ValueExpr', params=None), 'T': DeclaredTypeInstance(type='ValueExpr', params=None)}), 'T': DeclaredTypeInstance(type='FunctionTwo', params={'V': DeclaredTypeInstance(type='ValueExpr', params=None), 'U': DeclaredTypeInstance(type='ValueExpr', params=None), 'T': DeclaredTypeInstance(type='ValueExpr', params=None)})}, args=['6514120424658836116', '530514785344580576'], kwargs=None), CallNode(id='2155654882475160500', function='Abstraction.__call__', type_params={'U': DeclaredTypeInstance(type='FunctionTwo', params={'V': DeclaredTypeInstance(type='ValueExpr', params=None), 'U': DeclaredTypeInstance(type='ValueExpr', params=None), 'T': DeclaredTypeInstance(type='ValueExpr', params=None)}), 'T': DeclaredTypeInstance(type='FunctionTwo', params={'V': DeclaredTypeInstance(type='ValueExpr', params=None), 'U': DeclaredTypeInstance(type='ValueExpr', params=None), 'T': DeclaredTypeInstance(type='ValueExpr', params=None)})}, args=['5802150023448027842', '7158786108132283610'], kwargs=None), CallNode(id='-5149191025746709477', function='FunctionTwo.__call__', type_params={'V': DeclaredTypeInstance(type='ValueExpr', params=None), 'U': DeclaredTypeInstance(type='ValueExpr', params=None), 'T': DeclaredTypeInstance(type='ValueExpr', params=None)}, args=['2155654882475160500', '-7631835857354564485', '6956004343775093595'], kwargs=None), CallNode(id='-73157610738168995', function='ValueExpr.build', type_params=None, args=['-5149191025746709477', '-661909933896662603'], kwargs=None), CallNode(id='-4142840725123320510', function='Pair.right', type_params={'U': DeclaredTypeInstance(type='Pair', params={'U': DeclaredTypeInstance(type='Fn', params=None), 'T': DeclaredTypeInstance(type='BlockRef', params=None)}), 'T': DeclaredTypeInstance(type='Value', params=None)}, args=['-73157610738168995'], kwargs=None), CallNode(id='7965098518794858063', function='Pair.right', type_params={'U': DeclaredTypeInstance(type='Fn', params=None), 'T': DeclaredTypeInstance(type='BlockRef', params=None)}, args=['-4142840725123320510'], kwargs=None), CallNode(id='-4214878989520630409', function='Pair.left', type_params={'U': DeclaredTypeInstance(type='Fn', params=None), 'T': DeclaredTypeInstance(type='BlockRef', params=None)}, args=['-4142840725123320510'], kwargs=None), CallNode(id='6408061633880987162', function='Pair.left', type_params={'U': DeclaredTypeInstance(type='Pair', params={'U': DeclaredTypeInstance(type='Fn', params=None), 'T': DeclaredTypeInstance(type='BlockRef', params=None)}), 'T': DeclaredTypeInstance(type='Value', params=None)}, args=['-73157610738168995'], kwargs=None), CallNode(id='3458020882764008464', function='BlockRef.ret', type_params=None, args=['-4214878989520630409', '6408061633880987162'], kwargs=None), CallNode(id='2394468203774690187', function='Fn.add_block', type_params=None, args=['7965098518794858063', '3458020882764008464'], kwargs=None), CallNode(id='7807761735328416923', function='from_llvm_fn_2', type_params=None, args=['2394468203774690187'], kwargs=None), CallNode(id='-2145214486051951224', function='to_llvm_fn_2', type_params=None, args=['7807761735328416923'], kwargs=None), CallNode(id='-3940970634945702698', function='ModRef.mod', type_params=None, args=['7737634984556270748', '-2145214486051951224'], kwargs=None), CallNode(id='-8532186466427062385', function='Fn.ref', type_params=None, args=['-2145214486051951224'], kwargs=None), CallNode(id='7966896949344569149', function='compile_function', type_params=None, args=['-3940970634945702698', '-8532186466427062385', '3983604008656577675'], kwargs=None), PrimitiveNode(id='-3397806987122599041', type='Variable', repr='0x7fd1284482b0'), CallNode(id='1122483144377180453', function='Abstraction.create_variable', type_params={'U': DeclaredTypeInstance(type='ValueExpr', params=None), 'T': DeclaredTypeInstance(type='ValueExpr', params=None)}, args=['-3397806987122599041'], kwargs=None), CallNode(id='3926228176407448488', function='ValueExpr.__add__', type_params=None, args=['6727543425053095289', '1122483144377180453'], kwargs=None), CallNode(id='9138372312622019093', function='ValueExpr.__add__', type_params=None, args=['3926228176407448488', '4507850206849394183'], kwargs=None), CallNode(id='1741022987206963267', function='Abstraction.create', type_params={'U': DeclaredTypeInstance(type='ValueExpr', params=None), 'T': DeclaredTypeInstance(type='ValueExpr', params=None)}, args=['1122483144377180453', '9138372312622019093'], kwargs=None), CallNode(id='-6027806351622463831', function='Abstraction.create', type_params={'U': DeclaredTypeInstance(type='Abstraction', params={'U': DeclaredTypeInstance(type='ValueExpr', params=None), 'T': DeclaredTypeInstance(type='ValueExpr', params=None)}), 'T': DeclaredTypeInstance(type='ValueExpr', params=None)}, args=['6727543425053095289', '1741022987206963267'], kwargs=None), CallNode(id='-4654836993552879075', function='FunctionTwo.create', type_params={'V': DeclaredTypeInstance(type='ValueExpr', params=None), 'U': DeclaredTypeInstance(type='ValueExpr', params=None), 'T': DeclaredTypeInstance(type='ValueExpr', params=None)}, args=['3348305646612022562', '-6027806351622463831'], kwargs=None), CallNode(id='-3749534987486333184', function='FunctionTwo.name', type_params={'V': DeclaredTypeInstance(type='ValueExpr', params=None), 'U': DeclaredTypeInstance(type='ValueExpr', params=None), 'T': DeclaredTypeInstance(type='ValueExpr', params=None)}, args=['-4654836993552879075'], kwargs=None), CallNode(id='7534631182645551147', function='FunctionTwo.abstraction', type_params={'V': DeclaredTypeInstance(type='ValueExpr', params=None), 'U': DeclaredTypeInstance(type='ValueExpr', params=None), 'T': DeclaredTypeInstance(type='ValueExpr', params=None)}, args=['-4654836993552879075'], kwargs=None), CallNode(id='7579531553845810293', function='Abstraction.unfix', type_params={'U': DeclaredTypeInstance(type='Abstraction', params={'U': DeclaredTypeInstance(type='ValueExpr', params=None), 'T': DeclaredTypeInstance(type='ValueExpr', params=None)}), 'T': DeclaredTypeInstance(type='ValueExpr', params=None)}, args=['7534631182645551147'], kwargs=None), CallNode(id='8148483303923428008', function='Abstraction.__call__', type_params={'U': DeclaredTypeInstance(type='Abstraction', params={'U': DeclaredTypeInstance(type='Abstraction', params={'U': DeclaredTypeInstance(type='ValueExpr', params=None), 'T': DeclaredTypeInstance(type='ValueExpr', params=None)}), 'T': DeclaredTypeInstance(type='ValueExpr', params=None)}), 'T': DeclaredTypeInstance(type='Abstraction', params={'U': DeclaredTypeInstance(type='Abstraction', params={'U': DeclaredTypeInstance(type='ValueExpr', params=None), 'T': DeclaredTypeInstance(type='ValueExpr', params=None)}), 'T': DeclaredTypeInstance(type='ValueExpr', params=None)})}, args=['7579531553845810293', '3005338591785643138'], kwargs=None), CallNode(id='-5639264432086473855', function='FunctionTwo.create', type_params=None, args=['-3749534987486333184', '8148483303923428008'], kwargs=None), CallNode(id='6623931643861127563', function='Abstraction.create', type_params={'U': DeclaredTypeInstance(type='FunctionTwo', params={'V': DeclaredTypeInstance(type='ValueExpr', params=None), 'U': DeclaredTypeInstance(type='ValueExpr', params=None), 'T': DeclaredTypeInstance(type='ValueExpr', params=None)}), 'T': DeclaredTypeInstance(type='FunctionTwo', params={'V': DeclaredTypeInstance(type='ValueExpr', params=None), 'U': DeclaredTypeInstance(type='ValueExpr', params=None), 'T': DeclaredTypeInstance(type='ValueExpr', params=None)})}, args=['6514120424658836116', '-5639264432086473855'], kwargs=None), CallNode(id='3162330956127399489', function='Abstraction.__call__', type_params={'U': DeclaredTypeInstance(type='FunctionTwo', params={'V': DeclaredTypeInstance(type='ValueExpr', params=None), 'U': DeclaredTypeInstance(type='ValueExpr', params=None), 'T': DeclaredTypeInstance(type='ValueExpr', params=None)}), 'T': DeclaredTypeInstance(type='FunctionTwo', params={'V': DeclaredTypeInstance(type='ValueExpr', params=None), 'U': DeclaredTypeInstance(type='ValueExpr', params=None), 'T': DeclaredTypeInstance(type='ValueExpr', params=None)})}, args=['6623931643861127563', '7158786108132283610'], kwargs=None), CallNode(id='-986723389837103023', function='FunctionTwo.__call__', type_params={'V': DeclaredTypeInstance(type='ValueExpr', params=None), 'U': DeclaredTypeInstance(type='ValueExpr', params=None), 'T': DeclaredTypeInstance(type='ValueExpr', params=None)}, args=['3162330956127399489', '-7631835857354564485', '6956004343775093595'], kwargs=None), CallNode(id='-7430047861409360763', function='ValueExpr.build', type_params=None, args=['-986723389837103023', '-661909933896662603'], kwargs=None), CallNode(id='-3081024207725147415', function='Pair.right', type_params={'U': DeclaredTypeInstance(type='Pair', params={'U': DeclaredTypeInstance(type='Fn', params=None), 'T': DeclaredTypeInstance(type='BlockRef', params=None)}), 'T': DeclaredTypeInstance(type='Value', params=None)}, args=['-7430047861409360763'], kwargs=None), CallNode(id='-112948545223448414', function='Pair.right', type_params={'U': DeclaredTypeInstance(type='Fn', params=None), 'T': DeclaredTypeInstance(type='BlockRef', params=None)}, args=['-3081024207725147415'], kwargs=None), CallNode(id='-7843444089296682950', function='Pair.left', type_params={'U': DeclaredTypeInstance(type='Fn', params=None), 'T': DeclaredTypeInstance(type='BlockRef', params=None)}, args=['-3081024207725147415'], kwargs=None), CallNode(id='577630410496547521', function='Pair.left', type_params={'U': DeclaredTypeInstance(type='Pair', params={'U': DeclaredTypeInstance(type='Fn', params=None), 'T': DeclaredTypeInstance(type='BlockRef', params=None)}), 'T': DeclaredTypeInstance(type='Value', params=None)}, args=['-7430047861409360763'], kwargs=None), CallNode(id='-1866395895329967690', function='BlockRef.ret', type_params=None, args=['-7843444089296682950', '577630410496547521'], kwargs=None), CallNode(id='-8954429250971572730', function='Fn.add_block', type_params=None, args=['-112948545223448414', '-1866395895329967690'], kwargs=None), CallNode(id='5032476283771632584', function='from_llvm_fn_2', type_params=None, args=['-8954429250971572730'], kwargs=None), CallNode(id='3897506078488141052', function='to_llvm_fn_2', type_params=None, args=['5032476283771632584'], kwargs=None), CallNode(id='-622909237838216735', function='ModRef.mod', type_params=None, args=['7737634984556270748', '3897506078488141052'], kwargs=None), CallNode(id='-6102532877347257866', function='Fn.ref', type_params=None, args=['3897506078488141052'], kwargs=None), CallNode(id='-3546509266772998999', function='compile_function', type_params=None, args=['-622909237838216735', '-6102532877347257866', '3983604008656577675'], kwargs=None), CallNode(id='5480612078221392157', function='FunctionTwo.abstraction', type_params={'V': DeclaredTypeInstance(type='ValueExpr', params=None), 'U': DeclaredTypeInstance(type='ValueExpr', params=None), 'T': DeclaredTypeInstance(type='ValueExpr', params=None)}, args=['7158786108132283610'], kwargs=None), CallNode(id='-5464146005061363348', function='Abstraction.__call__', type_params={'U': DeclaredTypeInstance(type='Abstraction', params={'U': DeclaredTypeInstance(type='Abstraction', params={'U': DeclaredTypeInstance(type='ValueExpr', params=None), 'T': DeclaredTypeInstance(type='ValueExpr', params=None)}), 'T': DeclaredTypeInstance(type='ValueExpr', params=None)}), 'T': DeclaredTypeInstance(type='Abstraction', params={'U': DeclaredTypeInstance(type='Abstraction', params={'U': DeclaredTypeInstance(type='ValueExpr', params=None), 'T': DeclaredTypeInstance(type='ValueExpr', params=None)}), 'T': DeclaredTypeInstance(type='ValueExpr', params=None)})}, args=['7579531553845810293', '5480612078221392157'], kwargs=None), CallNode(id='1066651110225582254', function='FunctionTwo.create', type_params=None, args=['-3749534987486333184', '-5464146005061363348'], kwargs=None), CallNode(id='640927729850224133', function='FunctionTwo.__call__', type_params={'V': DeclaredTypeInstance(type='ValueExpr', params=None), 'U': DeclaredTypeInstance(type='ValueExpr', params=None), 'T': DeclaredTypeInstance(type='ValueExpr', params=None)}, args=['1066651110225582254', '-7631835857354564485', '6956004343775093595'], kwargs=None), CallNode(id='-5144581455559328887', function='ValueExpr.build', type_params=None, args=['640927729850224133', '-661909933896662603'], kwargs=None), CallNode(id='7937963993629656448', function='Pair.right', type_params={'U': DeclaredTypeInstance(type='Pair', params={'U': DeclaredTypeInstance(type='Fn', params=None), 'T': DeclaredTypeInstance(type='BlockRef', params=None)}), 'T': DeclaredTypeInstance(type='Value', params=None)}, args=['-5144581455559328887'], kwargs=None), CallNode(id='8832994672452343461', function='Pair.right', type_params={'U': DeclaredTypeInstance(type='Fn', params=None), 'T': DeclaredTypeInstance(type='BlockRef', params=None)}, args=['7937963993629656448'], kwargs=None), CallNode(id='-337380098491331', function='Pair.left', type_params={'U': DeclaredTypeInstance(type='Fn', params=None), 'T': DeclaredTypeInstance(type='BlockRef', params=None)}, args=['7937963993629656448'], kwargs=None), CallNode(id='4956250075163253336', function='Pair.left', type_params={'U': DeclaredTypeInstance(type='Pair', params={'U': DeclaredTypeInstance(type='Fn', params=None), 'T': DeclaredTypeInstance(type='BlockRef', params=None)}), 'T': DeclaredTypeInstance(type='Value', params=None)}, args=['-5144581455559328887'], kwargs=None), CallNode(id='-8942270312385385787', function='BlockRef.ret', type_params=None, args=['-337380098491331', '4956250075163253336'], kwargs=None), CallNode(id='-3718734564195961560', function='Fn.add_block', type_params=None, args=['8832994672452343461', '-8942270312385385787'], kwargs=None), CallNode(id='-3436895831671257548', function='from_llvm_fn_2', type_params=None, args=['-3718734564195961560'], kwargs=None), CallNode(id='1654689054709216049', function='to_llvm_fn_2', type_params=None, args=['-3436895831671257548'], kwargs=None), CallNode(id='262877307003434117', function='ModRef.mod', type_params=None, args=['7737634984556270748', '1654689054709216049'], kwargs=None), CallNode(id='-189990884211433646', function='Fn.ref', type_params=None, args=['1654689054709216049'], kwargs=None), CallNode(id='7617988137339795027', function='compile_function', type_params=None, args=['262877307003434117', '-189990884211433646', '3983604008656577675'], kwargs=None), PrimitiveNode(id='6409224793933588893', type='FunctionReplaceTyping', repr=\"FunctionReplaceTyping(fn=<function two_abstraction.<locals>.<lambda>.<locals>.<lambda> at 0x7fd1409f6598>, typevars=HashableMapping(_items=()), typevars_in_scope=frozenset({~U, ~T}), inner_mapping=ReplaceTypevarsExpression(typevars=HashableMapping(_items=((~V, <class 'metadsl_llvm.ir_context.ValueExpr'>), (~U, <class 'metadsl_llvm.ir_context.ValueExpr'>), (~T, <class 'metadsl_llvm.ir_context.ValueExpr'>)))))\"), CallNode(id='-3012032806233263487', function='Abstraction.from_fn', type_params={'U': DeclaredTypeInstance(type='Abstraction', params={'U': DeclaredTypeInstance(type='ValueExpr', params=None), 'T': DeclaredTypeInstance(type='ValueExpr', params=None)}), 'T': DeclaredTypeInstance(type='ValueExpr', params=None)}, args=['6409224793933588893'], kwargs=None), CallNode(id='-5755044017090751767', function='Abstraction.__call__', type_params={'U': DeclaredTypeInstance(type='Abstraction', params={'U': DeclaredTypeInstance(type='Abstraction', params={'U': DeclaredTypeInstance(type='ValueExpr', params=None), 'T': DeclaredTypeInstance(type='ValueExpr', params=None)}), 'T': DeclaredTypeInstance(type='ValueExpr', params=None)}), 'T': DeclaredTypeInstance(type='Abstraction', params={'U': DeclaredTypeInstance(type='Abstraction', params={'U': DeclaredTypeInstance(type='ValueExpr', params=None), 'T': DeclaredTypeInstance(type='ValueExpr', params=None)}), 'T': DeclaredTypeInstance(type='ValueExpr', params=None)})}, args=['7579531553845810293', '-3012032806233263487'], kwargs=None), CallNode(id='528265207779864637', function='FunctionTwo.create', type_params=None, args=['-3749534987486333184', '-5755044017090751767'], kwargs=None), CallNode(id='-7027455692273984572', function='FunctionTwo.__call__', type_params={'V': DeclaredTypeInstance(type='ValueExpr', params=None), 'U': DeclaredTypeInstance(type='ValueExpr', params=None), 'T': DeclaredTypeInstance(type='ValueExpr', params=None)}, args=['528265207779864637', '-7631835857354564485', '6956004343775093595'], kwargs=None), CallNode(id='5861818130669737365', function='ValueExpr.build', type_params=None, args=['-7027455692273984572', '-661909933896662603'], kwargs=None), CallNode(id='6178818591001304624', function='Pair.right', type_params={'U': DeclaredTypeInstance(type='Pair', params={'U': DeclaredTypeInstance(type='Fn', params=None), 'T': DeclaredTypeInstance(type='BlockRef', params=None)}), 'T': DeclaredTypeInstance(type='Value', params=None)}, args=['5861818130669737365'], kwargs=None), CallNode(id='2158123191658111360', function='Pair.right', type_params={'U': DeclaredTypeInstance(type='Fn', params=None), 'T': DeclaredTypeInstance(type='BlockRef', params=None)}, args=['6178818591001304624'], kwargs=None), CallNode(id='-2519559087368444328', function='Pair.left', type_params={'U': DeclaredTypeInstance(type='Fn', params=None), 'T': DeclaredTypeInstance(type='BlockRef', params=None)}, args=['6178818591001304624'], kwargs=None), CallNode(id='-564990607155914040', function='Pair.left', type_params={'U': DeclaredTypeInstance(type='Pair', params={'U': DeclaredTypeInstance(type='Fn', params=None), 'T': DeclaredTypeInstance(type='BlockRef', params=None)}), 'T': DeclaredTypeInstance(type='Value', params=None)}, args=['5861818130669737365'], kwargs=None), CallNode(id='2855389638137565365', function='BlockRef.ret', type_params=None, args=['-2519559087368444328', '-564990607155914040'], kwargs=None), CallNode(id='-2796094521105922236', function='Fn.add_block', type_params=None, args=['2158123191658111360', '2855389638137565365'], kwargs=None), CallNode(id='-5129760704035639416', function='from_llvm_fn_2', type_params=None, args=['-2796094521105922236'], kwargs=None), CallNode(id='1853180522127820288', function='to_llvm_fn_2', type_params=None, args=['-5129760704035639416'], kwargs=None), CallNode(id='-7902658656302441842', function='ModRef.mod', type_params=None, args=['7737634984556270748', '1853180522127820288'], kwargs=None), CallNode(id='-800672880610477385', function='Fn.ref', type_params=None, args=['1853180522127820288'], kwargs=None), CallNode(id='6342241498368032744', function='compile_function', type_params=None, args=['-7902658656302441842', '-800672880610477385', '3983604008656577675'], kwargs=None), CallNode(id='-5972067394669943981', function='ModRef.fn', type_params=None, args=['7737634984556270748', '3348305646612022562', '2869849078853932976', '-4379724003781273686'], kwargs=None), CallNode(id='5858671793544937660', function='FnRef.arguments', type_params=None, args=['-5972067394669943981'], kwargs=None), CallNode(id='4333331905335620460', function='Vec.__getitem__', type_params={'T': DeclaredTypeInstance(type='Value', params=None)}, args=['5858671793544937660', '7019033112043945449'], kwargs=None), CallNode(id='-4683086075128235159', function='ValueExpr.from_value', type_params=None, args=['4333331905335620460'], kwargs=None), CallNode(id='-2922765011559039867', function='Vec.__getitem__', type_params={'T': DeclaredTypeInstance(type='Value', params=None)}, args=['5858671793544937660', '7427462424716739544'], kwargs=None), CallNode(id='-3752576409427754660', function='ValueExpr.from_value', type_params=None, args=['-2922765011559039867'], kwargs=None), CallNode(id='-2378176690179534944', function='FunctionTwo.__call__', type_params={'V': DeclaredTypeInstance(type='ValueExpr', params=None), 'U': DeclaredTypeInstance(type='ValueExpr', params=None), 'T': DeclaredTypeInstance(type='ValueExpr', params=None)}, args=['528265207779864637', '-4683086075128235159', '-3752576409427754660'], kwargs=None), CallNode(id='7202929541196607406', function='FnRef._block', type_params=None, args=['-5972067394669943981', '3989267796447890075', '3959146490344299550', '-8690275497361632339'], kwargs=None), CallNode(id='-717349301858400982', function='FnRef.fn', type_params=None, args=['-5972067394669943981'], kwargs=None), CallNode(id='-4065451665956858012', function='Pair.create', type_params=None, args=['7202929541196607406', '-717349301858400982'], kwargs=None), CallNode(id='6625321005384520605', function='ValueExpr.build', type_params=None, args=['-2378176690179534944', '-4065451665956858012'], kwargs=None), CallNode(id='1453546958369864696', function='Pair.right', type_params={'U': DeclaredTypeInstance(type='Pair', params={'U': DeclaredTypeInstance(type='Fn', params=None), 'T': DeclaredTypeInstance(type='BlockRef', params=None)}), 'T': DeclaredTypeInstance(type='Value', params=None)}, args=['6625321005384520605'], kwargs=None), CallNode(id='-8013128092778332974', function='Pair.right', type_params={'U': DeclaredTypeInstance(type='Fn', params=None), 'T': DeclaredTypeInstance(type='BlockRef', params=None)}, args=['1453546958369864696'], kwargs=None), CallNode(id='180216029481785194', function='Pair.left', type_params={'U': DeclaredTypeInstance(type='Fn', params=None), 'T': DeclaredTypeInstance(type='BlockRef', params=None)}, args=['1453546958369864696'], kwargs=None), CallNode(id='260379505138708320', function='Pair.left', type_params={'U': DeclaredTypeInstance(type='Pair', params={'U': DeclaredTypeInstance(type='Fn', params=None), 'T': DeclaredTypeInstance(type='BlockRef', params=None)}), 'T': DeclaredTypeInstance(type='Value', params=None)}, args=['6625321005384520605'], kwargs=None), CallNode(id='5400146835505061040', function='BlockRef.ret', type_params=None, args=['180216029481785194', '260379505138708320'], kwargs=None), CallNode(id='-3996870679931191309', function='Fn.add_block', type_params=None, args=['-8013128092778332974', '5400146835505061040'], kwargs=None), CallNode(id='-1969010839165799795', function='from_llvm_fn_2', type_params=None, args=['-3996870679931191309'], kwargs=None), CallNode(id='3570132159359459967', function='to_llvm_fn_2', type_params=None, args=['-1969010839165799795'], kwargs=None), CallNode(id='7545265147135709198', function='ModRef.mod', type_params=None, args=['7737634984556270748', '3570132159359459967'], kwargs=None), CallNode(id='-852978651280272841', function='Fn.ref', type_params=None, args=['3570132159359459967'], kwargs=None), CallNode(id='-5436555261776426862', function='compile_function', type_params=None, args=['7545265147135709198', '-852978651280272841', '3983604008656577675'], kwargs=None), PrimitiveNode(id='-3125117625760516937', type='FunctionReplaceTyping', repr=\"FunctionReplaceTyping(fn=<function two_abstraction.<locals>.<lambda>.<locals>.<lambda> at 0x7fd1481f6b70>, typevars=HashableMapping(_items=()), typevars_in_scope=frozenset({~U, ~T}), inner_mapping=ReplaceTypevarsExpression(typevars=HashableMapping(_items=((~V, <class 'metadsl_llvm.ir_context.ValueExpr'>), (~U, <class 'metadsl_llvm.ir_context.ValueExpr'>), (~T, <class 'metadsl_llvm.ir_context.ValueExpr'>)))))\"), CallNode(id='-5847226367818111372', function='Abstraction.from_fn', type_params={'U': DeclaredTypeInstance(type='Abstraction', params={'U': DeclaredTypeInstance(type='ValueExpr', params=None), 'T': DeclaredTypeInstance(type='ValueExpr', params=None)}), 'T': DeclaredTypeInstance(type='ValueExpr', params=None)}, args=['-3125117625760516937'], kwargs=None), CallNode(id='1034319021750865849', function='Abstraction.unfix', type_params={'U': DeclaredTypeInstance(type='Abstraction', params={'U': DeclaredTypeInstance(type='ValueExpr', params=None), 'T': DeclaredTypeInstance(type='ValueExpr', params=None)}), 'T': DeclaredTypeInstance(type='ValueExpr', params=None)}, args=['-5847226367818111372'], kwargs=None), CallNode(id='7335336516901228328', function='Abstraction.__call__', type_params={'U': DeclaredTypeInstance(type='Abstraction', params={'U': DeclaredTypeInstance(type='Abstraction', params={'U': DeclaredTypeInstance(type='ValueExpr', params=None), 'T': DeclaredTypeInstance(type='ValueExpr', params=None)}), 'T': DeclaredTypeInstance(type='ValueExpr', params=None)}), 'T': DeclaredTypeInstance(type='Abstraction', params={'U': DeclaredTypeInstance(type='Abstraction', params={'U': DeclaredTypeInstance(type='ValueExpr', params=None), 'T': DeclaredTypeInstance(type='ValueExpr', params=None)}), 'T': DeclaredTypeInstance(type='ValueExpr', params=None)})}, args=['1034319021750865849', '-3012032806233263487'], kwargs=None), CallNode(id='-7312116049391954687', function='FunctionTwo.create', type_params=None, args=['-3749534987486333184', '7335336516901228328'], kwargs=None), CallNode(id='2069680562777730381', function='FunctionTwo.__call__', type_params={'V': DeclaredTypeInstance(type='ValueExpr', params=None), 'U': DeclaredTypeInstance(type='ValueExpr', params=None), 'T': DeclaredTypeInstance(type='ValueExpr', params=None)}, args=['-7312116049391954687', '-4683086075128235159', '-3752576409427754660'], kwargs=None), CallNode(id='-1305842727538301253', function='ValueExpr.build', type_params=None, args=['2069680562777730381', '-4065451665956858012'], kwargs=None), CallNode(id='6677857233932114052', function='Pair.right', type_params={'U': DeclaredTypeInstance(type='Pair', params={'U': DeclaredTypeInstance(type='Fn', params=None), 'T': DeclaredTypeInstance(type='BlockRef', params=None)}), 'T': DeclaredTypeInstance(type='Value', params=None)}, args=['-1305842727538301253'], kwargs=None), CallNode(id='3385920276766816372', function='Pair.right', type_params={'U': DeclaredTypeInstance(type='Fn', params=None), 'T': DeclaredTypeInstance(type='BlockRef', params=None)}, args=['6677857233932114052'], kwargs=None), CallNode(id='5697483288282209436', function='Pair.left', type_params={'U': DeclaredTypeInstance(type='Fn', params=None), 'T': DeclaredTypeInstance(type='BlockRef', params=None)}, args=['6677857233932114052'], kwargs=None), CallNode(id='2486849850941834668', function='Pair.left', type_params={'U': DeclaredTypeInstance(type='Pair', params={'U': DeclaredTypeInstance(type='Fn', params=None), 'T': DeclaredTypeInstance(type='BlockRef', params=None)}), 'T': DeclaredTypeInstance(type='Value', params=None)}, args=['-1305842727538301253'], kwargs=None), CallNode(id='-1668135991481814313', function='BlockRef.ret', type_params=None, args=['5697483288282209436', '2486849850941834668'], kwargs=None), CallNode(id='7575370902642363774', function='Fn.add_block', type_params=None, args=['3385920276766816372', '-1668135991481814313'], kwargs=None), CallNode(id='-3126147711798476350', function='from_llvm_fn_2', type_params=None, args=['7575370902642363774'], kwargs=None), CallNode(id='9114109295537532363', function='to_llvm_fn_2', type_params=None, args=['-3126147711798476350'], kwargs=None), CallNode(id='-4859223100401517744', function='ModRef.mod', type_params=None, args=['7737634984556270748', '9114109295537532363'], kwargs=None), CallNode(id='1977496874811261041', function='Fn.ref', type_params=None, args=['9114109295537532363'], kwargs=None), CallNode(id='2535935791166963605', function='compile_function', type_params=None, args=['-4859223100401517744', '1977496874811261041', '3983604008656577675'], kwargs=None), CallNode(id='-4485136313648712091', function='FunctionTwo.create', type_params=None, args=['3348305646612022562', '7335336516901228328'], kwargs=None), CallNode(id='-7470368266367247577', function='FunctionTwo.__call__', type_params={'V': DeclaredTypeInstance(type='ValueExpr', params=None), 'U': DeclaredTypeInstance(type='ValueExpr', params=None), 'T': DeclaredTypeInstance(type='ValueExpr', params=None)}, args=['-4485136313648712091', '-4683086075128235159', '-3752576409427754660'], kwargs=None), CallNode(id='-1571739377388855326', function='ValueExpr.build', type_params=None, args=['-7470368266367247577', '-4065451665956858012'], kwargs=None), CallNode(id='-4784455425881662967', function='Pair.right', type_params={'U': DeclaredTypeInstance(type='Pair', params={'U': DeclaredTypeInstance(type='Fn', params=None), 'T': DeclaredTypeInstance(type='BlockRef', params=None)}), 'T': DeclaredTypeInstance(type='Value', params=None)}, args=['-1571739377388855326'], kwargs=None), CallNode(id='-2253044619020365063', function='Pair.right', type_params={'U': DeclaredTypeInstance(type='Fn', params=None), 'T': DeclaredTypeInstance(type='BlockRef', params=None)}, args=['-4784455425881662967'], kwargs=None), CallNode(id='6366561551592361873', function='Pair.left', type_params={'U': DeclaredTypeInstance(type='Fn', params=None), 'T': DeclaredTypeInstance(type='BlockRef', params=None)}, args=['-4784455425881662967'], kwargs=None), CallNode(id='2035463343903044513', function='Pair.left', type_params={'U': DeclaredTypeInstance(type='Pair', params={'U': DeclaredTypeInstance(type='Fn', params=None), 'T': DeclaredTypeInstance(type='BlockRef', params=None)}), 'T': DeclaredTypeInstance(type='Value', params=None)}, args=['-1571739377388855326'], kwargs=None), CallNode(id='-8075658880748919742', function='BlockRef.ret', type_params=None, args=['6366561551592361873', '2035463343903044513'], kwargs=None), CallNode(id='-6328622939963985734', function='Fn.add_block', type_params=None, args=['-2253044619020365063', '-8075658880748919742'], kwargs=None), CallNode(id='-3752124909947294817', function='from_llvm_fn_2', type_params=None, args=['-6328622939963985734'], kwargs=None), CallNode(id='6670948452368875144', function='to_llvm_fn_2', type_params=None, args=['-3752124909947294817'], kwargs=None), CallNode(id='7187295115427585084', function='ModRef.mod', type_params=None, args=['7737634984556270748', '6670948452368875144'], kwargs=None), CallNode(id='-1807645260662765291', function='Fn.ref', type_params=None, args=['6670948452368875144'], kwargs=None), CallNode(id='2539891804383287550', function='compile_function', type_params=None, args=['7187295115427585084', '-1807645260662765291', '3983604008656577675'], kwargs=None), CallNode(id='-5885498320736108042', function='Abstraction.__call__', type_params={'U': DeclaredTypeInstance(type='Abstraction', params={'U': DeclaredTypeInstance(type='ValueExpr', params=None), 'T': DeclaredTypeInstance(type='ValueExpr', params=None)}), 'T': DeclaredTypeInstance(type='ValueExpr', params=None)}, args=['7335336516901228328', '-4683086075128235159'], kwargs=None), CallNode(id='7843804536529208076', function='Abstraction.__call__', type_params={'U': DeclaredTypeInstance(type='ValueExpr', params=None), 'T': DeclaredTypeInstance(type='ValueExpr', params=None)}, args=['-5885498320736108042', '-3752576409427754660'], kwargs=None), CallNode(id='176784402112394637', function='ValueExpr.build', type_params=None, args=['7843804536529208076', '-4065451665956858012'], kwargs=None), CallNode(id='-7362265365811902638', function='Pair.right', type_params={'U': DeclaredTypeInstance(type='Pair', params={'U': DeclaredTypeInstance(type='Fn', params=None), 'T': DeclaredTypeInstance(type='BlockRef', params=None)}), 'T': DeclaredTypeInstance(type='Value', params=None)}, args=['176784402112394637'], kwargs=None), CallNode(id='6847741963945455105', function='Pair.right', type_params={'U': DeclaredTypeInstance(type='Fn', params=None), 'T': DeclaredTypeInstance(type='BlockRef', params=None)}, args=['-7362265365811902638'], kwargs=None), CallNode(id='-6313113703812492759', function='Pair.left', type_params={'U': DeclaredTypeInstance(type='Fn', params=None), 'T': DeclaredTypeInstance(type='BlockRef', params=None)}, args=['-7362265365811902638'], kwargs=None), CallNode(id='3079644327226830058', function='Pair.left', type_params={'U': DeclaredTypeInstance(type='Pair', params={'U': DeclaredTypeInstance(type='Fn', params=None), 'T': DeclaredTypeInstance(type='BlockRef', params=None)}), 'T': DeclaredTypeInstance(type='Value', params=None)}, args=['176784402112394637'], kwargs=None), CallNode(id='4897124264484385168', function='BlockRef.ret', type_params=None, args=['-6313113703812492759', '3079644327226830058'], kwargs=None), CallNode(id='-1099910241772594241', function='Fn.add_block', type_params=None, args=['6847741963945455105', '4897124264484385168'], kwargs=None), CallNode(id='2583077542327486140', function='from_llvm_fn_2', type_params=None, args=['-1099910241772594241'], kwargs=None), CallNode(id='-3659429997097966193', function='to_llvm_fn_2', type_params=None, args=['2583077542327486140'], kwargs=None), CallNode(id='8027899249664449680', function='ModRef.mod', type_params=None, args=['7737634984556270748', '-3659429997097966193'], kwargs=None), CallNode(id='-1407950773412482895', function='Fn.ref', type_params=None, args=['-3659429997097966193'], kwargs=None), CallNode(id='-3170056907591969106', function='compile_function', type_params=None, args=['8027899249664449680', '-1407950773412482895', '3983604008656577675'], kwargs=None), PrimitiveNode(id='5825565073216474117', type='Variable', repr='0x7fd1284336d8'), CallNode(id='-5590154333038613327', function='Abstraction.create_variable', type_params={'U': DeclaredTypeInstance(type='Abstraction', params={'U': DeclaredTypeInstance(type='ValueExpr', params=None), 'T': DeclaredTypeInstance(type='ValueExpr', params=None)}), 'T': DeclaredTypeInstance(type='ValueExpr', params=None)}, args=['5825565073216474117'], kwargs=None), PrimitiveNode(id='2578949628625098507', type='FunctionReplaceTyping', repr=\"FunctionReplaceTyping(fn=<function two_abstraction.<locals>.<lambda>.<locals>.<lambda>.<locals>.<lambda> at 0x7fd128356730>, typevars=HashableMapping(_items=()), typevars_in_scope=frozenset({~U, ~T}), inner_mapping=ReplaceTypevarsExpression(typevars=HashableMapping(_items=((~V, <class 'metadsl_llvm.ir_context.ValueExpr'>), (~U, <class 'metadsl_llvm.ir_context.ValueExpr'>), (~T, <class 'metadsl_llvm.ir_context.ValueExpr'>)))))\"), CallNode(id='-1191859748532005657', function='Abstraction.from_fn', type_params={'U': DeclaredTypeInstance(type='ValueExpr', params=None), 'T': DeclaredTypeInstance(type='ValueExpr', params=None)}, args=['2578949628625098507'], kwargs=None), CallNode(id='565518086064889121', function='Abstraction.create', type_params={'U': DeclaredTypeInstance(type='Abstraction', params={'U': DeclaredTypeInstance(type='ValueExpr', params=None), 'T': DeclaredTypeInstance(type='ValueExpr', params=None)}), 'T': DeclaredTypeInstance(type='ValueExpr', params=None)}, args=['-5590154333038613327', '-1191859748532005657'], kwargs=None), CallNode(id='-7752898630170675953', function='Abstraction.__call__', type_params={'U': DeclaredTypeInstance(type='Abstraction', params={'U': DeclaredTypeInstance(type='Abstraction', params={'U': DeclaredTypeInstance(type='ValueExpr', params=None), 'T': DeclaredTypeInstance(type='ValueExpr', params=None)}), 'T': DeclaredTypeInstance(type='ValueExpr', params=None)}), 'T': DeclaredTypeInstance(type='Abstraction', params={'U': DeclaredTypeInstance(type='Abstraction', params={'U': DeclaredTypeInstance(type='ValueExpr', params=None), 'T': DeclaredTypeInstance(type='ValueExpr', params=None)}), 'T': DeclaredTypeInstance(type='ValueExpr', params=None)})}, args=['1034319021750865849', '565518086064889121'], kwargs=None), CallNode(id='-1517973065554144475', function='Abstraction.__call__', type_params={'U': DeclaredTypeInstance(type='Abstraction', params={'U': DeclaredTypeInstance(type='ValueExpr', params=None), 'T': DeclaredTypeInstance(type='ValueExpr', params=None)}), 'T': DeclaredTypeInstance(type='ValueExpr', params=None)}, args=['-7752898630170675953', '-4683086075128235159'], kwargs=None), CallNode(id='2804806191110374877', function='Abstraction.__call__', type_params={'U': DeclaredTypeInstance(type='ValueExpr', params=None), 'T': DeclaredTypeInstance(type='ValueExpr', params=None)}, args=['-1517973065554144475', '-3752576409427754660'], kwargs=None), CallNode(id='-8020786401247304844', function='ValueExpr.build', type_params=None, args=['2804806191110374877', '-4065451665956858012'], kwargs=None), CallNode(id='20142412656036326', function='Pair.right', type_params={'U': DeclaredTypeInstance(type='Pair', params={'U': DeclaredTypeInstance(type='Fn', params=None), 'T': DeclaredTypeInstance(type='BlockRef', params=None)}), 'T': DeclaredTypeInstance(type='Value', params=None)}, args=['-8020786401247304844'], kwargs=None), CallNode(id='-1640604161251518636', function='Pair.right', type_params={'U': DeclaredTypeInstance(type='Fn', params=None), 'T': DeclaredTypeInstance(type='BlockRef', params=None)}, args=['20142412656036326'], kwargs=None), CallNode(id='7615858313907965884', function='Pair.left', type_params={'U': DeclaredTypeInstance(type='Fn', params=None), 'T': DeclaredTypeInstance(type='BlockRef', params=None)}, args=['20142412656036326'], kwargs=None), CallNode(id='-7878458851860244722', function='Pair.left', type_params={'U': DeclaredTypeInstance(type='Pair', params={'U': DeclaredTypeInstance(type='Fn', params=None), 'T': DeclaredTypeInstance(type='BlockRef', params=None)}), 'T': DeclaredTypeInstance(type='Value', params=None)}, args=['-8020786401247304844'], kwargs=None), CallNode(id='-5842327794186231528', function='BlockRef.ret', type_params=None, args=['7615858313907965884', '-7878458851860244722'], kwargs=None), CallNode(id='9024432279319854728', function='Fn.add_block', type_params=None, args=['-1640604161251518636', '-5842327794186231528'], kwargs=None), CallNode(id='-2963643012404369504', function='from_llvm_fn_2', type_params=None, args=['9024432279319854728'], kwargs=None), CallNode(id='-2511346711505392075', function='to_llvm_fn_2', type_params=None, args=['-2963643012404369504'], kwargs=None), CallNode(id='1982426774454090834', function='ModRef.mod', type_params=None, args=['7737634984556270748', '-2511346711505392075'], kwargs=None), CallNode(id='3313296339964725459', function='Fn.ref', type_params=None, args=['-2511346711505392075'], kwargs=None), CallNode(id='-6110972130824645524', function='compile_function', type_params=None, args=['1982426774454090834', '3313296339964725459', '3983604008656577675'], kwargs=None), PrimitiveNode(id='-3397698129822376691', type='Variable', repr='0x7fd188621c50'), CallNode(id='4465176100420276415', function='Abstraction.create_variable', type_params={'U': DeclaredTypeInstance(type='ValueExpr', params=None), 'T': DeclaredTypeInstance(type='ValueExpr', params=None)}, args=['-3397698129822376691'], kwargs=None), CallNode(id='5790177274379634933', function='from_llvm_fn_2', type_params=None, args=['-717349301858400982'], kwargs=None), CallNode(id='-6256165193242417441', function='FunctionTwo.__call__', type_params={'V': DeclaredTypeInstance(type='ValueExpr', params=None), 'U': DeclaredTypeInstance(type='ValueExpr', params=None), 'T': DeclaredTypeInstance(type='ValueExpr', params=None)}, args=['5790177274379634933', '-5590154333038613327', '4465176100420276415'], kwargs=None), CallNode(id='-3441502513751245743', function='Abstraction.create', type_params={'U': DeclaredTypeInstance(type='ValueExpr', params=None), 'T': DeclaredTypeInstance(type='ValueExpr', params=None)}, args=['4465176100420276415', '-6256165193242417441'], kwargs=None), CallNode(id='-92889879331094320', function='Abstraction.create', type_params={'U': DeclaredTypeInstance(type='Abstraction', params={'U': DeclaredTypeInstance(type='ValueExpr', params=None), 'T': DeclaredTypeInstance(type='ValueExpr', params=None)}), 'T': DeclaredTypeInstance(type='ValueExpr', params=None)}, args=['-5590154333038613327', '-3441502513751245743'], kwargs=None), CallNode(id='1396477627836612984', function='Abstraction.__call__', type_params={'U': DeclaredTypeInstance(type='Abstraction', params={'U': DeclaredTypeInstance(type='Abstraction', params={'U': DeclaredTypeInstance(type='ValueExpr', params=None), 'T': DeclaredTypeInstance(type='ValueExpr', params=None)}), 'T': DeclaredTypeInstance(type='ValueExpr', params=None)}), 'T': DeclaredTypeInstance(type='Abstraction', params={'U': DeclaredTypeInstance(type='Abstraction', params={'U': DeclaredTypeInstance(type='ValueExpr', params=None), 'T': DeclaredTypeInstance(type='ValueExpr', params=None)}), 'T': DeclaredTypeInstance(type='ValueExpr', params=None)})}, args=['1034319021750865849', '-92889879331094320'], kwargs=None), CallNode(id='-7808506497653604927', function='Abstraction.__call__', type_params={'U': DeclaredTypeInstance(type='Abstraction', params={'U': DeclaredTypeInstance(type='ValueExpr', params=None), 'T': DeclaredTypeInstance(type='ValueExpr', params=None)}), 'T': DeclaredTypeInstance(type='ValueExpr', params=None)}, args=['1396477627836612984', '-4683086075128235159'], kwargs=None), CallNode(id='4715944247026962314', function='Abstraction.__call__', type_params={'U': DeclaredTypeInstance(type='ValueExpr', params=None), 'T': DeclaredTypeInstance(type='ValueExpr', params=None)}, args=['-7808506497653604927', '-3752576409427754660'], kwargs=None), CallNode(id='-3794451756615917510', function='ValueExpr.build', type_params=None, args=['4715944247026962314', '-4065451665956858012'], kwargs=None), CallNode(id='1218325988274839310', function='Pair.right', type_params={'U': DeclaredTypeInstance(type='Pair', params={'U': DeclaredTypeInstance(type='Fn', params=None), 'T': DeclaredTypeInstance(type='BlockRef', params=None)}), 'T': DeclaredTypeInstance(type='Value', params=None)}, args=['-3794451756615917510'], kwargs=None), CallNode(id='7323013516100186780', function='Pair.right', type_params={'U': DeclaredTypeInstance(type='Fn', params=None), 'T': DeclaredTypeInstance(type='BlockRef', params=None)}, args=['1218325988274839310'], kwargs=None), CallNode(id='-2668752165555573132', function='Pair.left', type_params={'U': DeclaredTypeInstance(type='Fn', params=None), 'T': DeclaredTypeInstance(type='BlockRef', params=None)}, args=['1218325988274839310'], kwargs=None), CallNode(id='7680996150104113638', function='Pair.left', type_params={'U': DeclaredTypeInstance(type='Pair', params={'U': DeclaredTypeInstance(type='Fn', params=None), 'T': DeclaredTypeInstance(type='BlockRef', params=None)}), 'T': DeclaredTypeInstance(type='Value', params=None)}, args=['-3794451756615917510'], kwargs=None), CallNode(id='1870389746243436490', function='BlockRef.ret', type_params=None, args=['-2668752165555573132', '7680996150104113638'], kwargs=None), CallNode(id='5043871794221285499', function='Fn.add_block', type_params=None, args=['7323013516100186780', '1870389746243436490'], kwargs=None), CallNode(id='-2989366411197774730', function='from_llvm_fn_2', type_params=None, args=['5043871794221285499'], kwargs=None), CallNode(id='4755341404849693943', function='to_llvm_fn_2', type_params=None, args=['-2989366411197774730'], kwargs=None), CallNode(id='3781727979300489357', function='ModRef.mod', type_params=None, args=['7737634984556270748', '4755341404849693943'], kwargs=None), CallNode(id='-6145974075468494102', function='Fn.ref', type_params=None, args=['4755341404849693943'], kwargs=None), CallNode(id='-7916665443624704244', function='compile_function', type_params=None, args=['3781727979300489357', '-6145974075468494102', '3983604008656577675'], kwargs=None), PrimitiveNode(id='-3397788714284628291', type='Variable', repr='0x7fd1382f7550'), CallNode(id='-1384358140491578786', function='Abstraction.create_variable', type_params={'U': DeclaredTypeInstance(type='Abstraction', params={'U': DeclaredTypeInstance(type='ValueExpr', params=None), 'T': DeclaredTypeInstance(type='ValueExpr', params=None)}), 'T': DeclaredTypeInstance(type='ValueExpr', params=None)}, args=['-3397788714284628291'], kwargs=None), PrimitiveNode(id='-1986903505289441525', type='FunctionReplaceTyping', repr=\"FunctionReplaceTyping(fn=<function two_abstraction.<locals>.<lambda>.<locals>.<lambda>.<locals>.<lambda> at 0x7fd1788fe730>, typevars=HashableMapping(_items=()), typevars_in_scope=frozenset({~U, ~T}), inner_mapping=ReplaceTypevarsExpression(typevars=HashableMapping(_items=((~V, <class 'metadsl_llvm.ir_context.ValueExpr'>), (~U, <class 'metadsl_llvm.ir_context.ValueExpr'>), (~T, <class 'metadsl_llvm.ir_context.ValueExpr'>)))))\"), CallNode(id='-8649801860423388964', function='Abstraction.from_fn', type_params={'U': DeclaredTypeInstance(type='ValueExpr', params=None), 'T': DeclaredTypeInstance(type='ValueExpr', params=None)}, args=['-1986903505289441525'], kwargs=None), CallNode(id='6231741392410328606', function='Abstraction.create', type_params={'U': DeclaredTypeInstance(type='Abstraction', params={'U': DeclaredTypeInstance(type='ValueExpr', params=None), 'T': DeclaredTypeInstance(type='ValueExpr', params=None)}), 'T': DeclaredTypeInstance(type='ValueExpr', params=None)}, args=['-1384358140491578786', '-8649801860423388964'], kwargs=None), CallNode(id='7756390336345523107', function='Abstraction.unfix', type_params={'U': DeclaredTypeInstance(type='Abstraction', params={'U': DeclaredTypeInstance(type='ValueExpr', params=None), 'T': DeclaredTypeInstance(type='ValueExpr', params=None)}), 'T': DeclaredTypeInstance(type='ValueExpr', params=None)}, args=['6231741392410328606'], kwargs=None), CallNode(id='-2930153112720583849', function='Abstraction.__call__', type_params={'U': DeclaredTypeInstance(type='Abstraction', params={'U': DeclaredTypeInstance(type='Abstraction', params={'U': DeclaredTypeInstance(type='ValueExpr', params=None), 'T': DeclaredTypeInstance(type='ValueExpr', params=None)}), 'T': DeclaredTypeInstance(type='ValueExpr', params=None)}), 'T': DeclaredTypeInstance(type='Abstraction', params={'U': DeclaredTypeInstance(type='Abstraction', params={'U': DeclaredTypeInstance(type='ValueExpr', params=None), 'T': DeclaredTypeInstance(type='ValueExpr', params=None)}), 'T': DeclaredTypeInstance(type='ValueExpr', params=None)})}, args=['7756390336345523107', '-92889879331094320'], kwargs=None), CallNode(id='-418106067443167885', function='Abstraction.__call__', type_params={'U': DeclaredTypeInstance(type='Abstraction', params={'U': DeclaredTypeInstance(type='ValueExpr', params=None), 'T': DeclaredTypeInstance(type='ValueExpr', params=None)}), 'T': DeclaredTypeInstance(type='ValueExpr', params=None)}, args=['-2930153112720583849', '-4683086075128235159'], kwargs=None), CallNode(id='-883300402849840761', function='Abstraction.__call__', type_params={'U': DeclaredTypeInstance(type='ValueExpr', params=None), 'T': DeclaredTypeInstance(type='ValueExpr', params=None)}, args=['-418106067443167885', '-3752576409427754660'], kwargs=None), CallNode(id='-2901092961931384939', function='ValueExpr.build', type_params=None, args=['-883300402849840761', '-4065451665956858012'], kwargs=None), CallNode(id='-8623475676546995737', function='Pair.right', type_params={'U': DeclaredTypeInstance(type='Pair', params={'U': DeclaredTypeInstance(type='Fn', params=None), 'T': DeclaredTypeInstance(type='BlockRef', params=None)}), 'T': DeclaredTypeInstance(type='Value', params=None)}, args=['-2901092961931384939'], kwargs=None), CallNode(id='8637791207124864350', function='Pair.right', type_params={'U': DeclaredTypeInstance(type='Fn', params=None), 'T': DeclaredTypeInstance(type='BlockRef', params=None)}, args=['-8623475676546995737'], kwargs=None), CallNode(id='-6792490223803315402', function='Pair.left', type_params={'U': DeclaredTypeInstance(type='Fn', params=None), 'T': DeclaredTypeInstance(type='BlockRef', params=None)}, args=['-8623475676546995737'], kwargs=None), CallNode(id='6473951850161232575', function='Pair.left', type_params={'U': DeclaredTypeInstance(type='Pair', params={'U': DeclaredTypeInstance(type='Fn', params=None), 'T': DeclaredTypeInstance(type='BlockRef', params=None)}), 'T': DeclaredTypeInstance(type='Value', params=None)}, args=['-2901092961931384939'], kwargs=None), CallNode(id='-7223197405463217963', function='BlockRef.ret', type_params=None, args=['-6792490223803315402', '6473951850161232575'], kwargs=None), CallNode(id='-6225462023938242003', function='Fn.add_block', type_params=None, args=['8637791207124864350', '-7223197405463217963'], kwargs=None), CallNode(id='8555403751850875008', function='from_llvm_fn_2', type_params=None, args=['-6225462023938242003'], kwargs=None), CallNode(id='3460361320407401889', function='to_llvm_fn_2', type_params=None, args=['8555403751850875008'], kwargs=None), CallNode(id='5828047849232310516', function='ModRef.mod', type_params=None, args=['7737634984556270748', '3460361320407401889'], kwargs=None), CallNode(id='-5732441560006055139', function='Fn.ref', type_params=None, args=['3460361320407401889'], kwargs=None), CallNode(id='-1027299714841124041', function='compile_function', type_params=None, args=['5828047849232310516', '-5732441560006055139', '3983604008656577675'], kwargs=None), PrimitiveNode(id='5825673906858112592', type='Variable', repr='0x7fd188621668'), CallNode(id='-2531031659624950503', function='Abstraction.create_variable', type_params={'U': DeclaredTypeInstance(type='ValueExpr', params=None), 'T': DeclaredTypeInstance(type='ValueExpr', params=None)}, args=['5825673906858112592'], kwargs=None), CallNode(id='1803861665824109138', function='FunctionTwo.__call__', type_params={'V': DeclaredTypeInstance(type='ValueExpr', params=None), 'U': DeclaredTypeInstance(type='ValueExpr', params=None), 'T': DeclaredTypeInstance(type='ValueExpr', params=None)}, args=['-4654836993552879075', '-1384358140491578786', '-2531031659624950503'], kwargs=None), CallNode(id='8363624442675251280', function='Abstraction.create', type_params={'U': DeclaredTypeInstance(type='ValueExpr', params=None), 'T': DeclaredTypeInstance(type='ValueExpr', params=None)}, args=['-2531031659624950503', '1803861665824109138'], kwargs=None), CallNode(id='4010236289250899660', function='Abstraction.create', type_params={'U': DeclaredTypeInstance(type='Abstraction', params={'U': DeclaredTypeInstance(type='ValueExpr', params=None), 'T': DeclaredTypeInstance(type='ValueExpr', params=None)}), 'T': DeclaredTypeInstance(type='ValueExpr', params=None)}, args=['-1384358140491578786', '8363624442675251280'], kwargs=None), CallNode(id='2304439001617936274', function='Abstraction.unfix', type_params={'U': DeclaredTypeInstance(type='Abstraction', params={'U': DeclaredTypeInstance(type='ValueExpr', params=None), 'T': DeclaredTypeInstance(type='ValueExpr', params=None)}), 'T': DeclaredTypeInstance(type='ValueExpr', params=None)}, args=['4010236289250899660'], kwargs=None), CallNode(id='-8098226796451496125', function='Abstraction.__call__', type_params={'U': DeclaredTypeInstance(type='Abstraction', params={'U': DeclaredTypeInstance(type='Abstraction', params={'U': DeclaredTypeInstance(type='ValueExpr', params=None), 'T': DeclaredTypeInstance(type='ValueExpr', params=None)}), 'T': DeclaredTypeInstance(type='ValueExpr', params=None)}), 'T': DeclaredTypeInstance(type='Abstraction', params={'U': DeclaredTypeInstance(type='Abstraction', params={'U': DeclaredTypeInstance(type='ValueExpr', params=None), 'T': DeclaredTypeInstance(type='ValueExpr', params=None)}), 'T': DeclaredTypeInstance(type='ValueExpr', params=None)})}, args=['2304439001617936274', '-92889879331094320'], kwargs=None), CallNode(id='8502477938930992457', function='Abstraction.__call__', type_params={'U': DeclaredTypeInstance(type='Abstraction', params={'U': DeclaredTypeInstance(type='ValueExpr', params=None), 'T': DeclaredTypeInstance(type='ValueExpr', params=None)}), 'T': DeclaredTypeInstance(type='ValueExpr', params=None)}, args=['-8098226796451496125', '-4683086075128235159'], kwargs=None), CallNode(id='7396901642079773172', function='Abstraction.__call__', type_params={'U': DeclaredTypeInstance(type='ValueExpr', params=None), 'T': DeclaredTypeInstance(type='ValueExpr', params=None)}, args=['8502477938930992457', '-3752576409427754660'], kwargs=None), CallNode(id='-6813049395996851067', function='ValueExpr.build', type_params=None, args=['7396901642079773172', '-4065451665956858012'], kwargs=None), CallNode(id='3708053769953316524', function='Pair.right', type_params={'U': DeclaredTypeInstance(type='Pair', params={'U': DeclaredTypeInstance(type='Fn', params=None), 'T': DeclaredTypeInstance(type='BlockRef', params=None)}), 'T': DeclaredTypeInstance(type='Value', params=None)}, args=['-6813049395996851067'], kwargs=None), CallNode(id='5657340368065005595', function='Pair.right', type_params={'U': DeclaredTypeInstance(type='Fn', params=None), 'T': DeclaredTypeInstance(type='BlockRef', params=None)}, args=['3708053769953316524'], kwargs=None), CallNode(id='-6158265212970348621', function='Pair.left', type_params={'U': DeclaredTypeInstance(type='Fn', params=None), 'T': DeclaredTypeInstance(type='BlockRef', params=None)}, args=['3708053769953316524'], kwargs=None), CallNode(id='-8058719122677914748', function='Pair.left', type_params={'U': DeclaredTypeInstance(type='Pair', params={'U': DeclaredTypeInstance(type='Fn', params=None), 'T': DeclaredTypeInstance(type='BlockRef', params=None)}), 'T': DeclaredTypeInstance(type='Value', params=None)}, args=['-6813049395996851067'], kwargs=None), CallNode(id='8606951156883891452', function='BlockRef.ret', type_params=None, args=['-6158265212970348621', '-8058719122677914748'], kwargs=None), CallNode(id='347653078201531614', function='Fn.add_block', type_params=None, args=['5657340368065005595', '8606951156883891452'], kwargs=None), CallNode(id='9217790683216438049', function='from_llvm_fn_2', type_params=None, args=['347653078201531614'], kwargs=None), CallNode(id='8204537897842317530', function='to_llvm_fn_2', type_params=None, args=['9217790683216438049'], kwargs=None), CallNode(id='-3375645037580597567', function='ModRef.mod', type_params=None, args=['7737634984556270748', '8204537897842317530'], kwargs=None), CallNode(id='-5628949915682086506', function='Fn.ref', type_params=None, args=['8204537897842317530'], kwargs=None), CallNode(id='-8953253546667471422', function='compile_function', type_params=None, args=['-3375645037580597567', '-5628949915682086506', '3983604008656577675'], kwargs=None), PrimitiveNode(id='7599853505452698411', type='FunctionReplaceTyping', repr=\"FunctionReplaceTyping(fn=<function unfix_normal.<locals>.<lambda> at 0x7fd178635488>, typevars=HashableMapping(_items=((~U, metadsl_core.abstraction.Abstraction[metadsl_llvm.ir_context.ValueExpr, metadsl_llvm.ir_context.ValueExpr]), (~T, <class 'metadsl_llvm.ir_context.ValueExpr'>))), typevars_in_scope=frozenset({~U, ~T}), inner_mapping=ReplaceTypevarsExpression(typevars=HashableMapping(_items=((~U, metadsl_core.abstraction.Abstraction[metadsl_llvm.ir_context.ValueExpr, metadsl_llvm.ir_context.ValueExpr]), (~T, <class 'metadsl_llvm.ir_context.ValueExpr'>)))))\"), CallNode(id='-5636935065292834291', function='Abstraction.from_fn', type_params={'U': DeclaredTypeInstance(type='Abstraction', params={'U': DeclaredTypeInstance(type='Abstraction', params={'U': DeclaredTypeInstance(type='ValueExpr', params=None), 'T': DeclaredTypeInstance(type='ValueExpr', params=None)}), 'T': DeclaredTypeInstance(type='ValueExpr', params=None)}), 'T': DeclaredTypeInstance(type='Abstraction', params={'U': DeclaredTypeInstance(type='Abstraction', params={'U': DeclaredTypeInstance(type='ValueExpr', params=None), 'T': DeclaredTypeInstance(type='ValueExpr', params=None)}), 'T': DeclaredTypeInstance(type='ValueExpr', params=None)})}, args=['7599853505452698411'], kwargs=None), CallNode(id='-2035585470031767222', function='Abstraction.__call__', type_params={'U': DeclaredTypeInstance(type='Abstraction', params={'U': DeclaredTypeInstance(type='Abstraction', params={'U': DeclaredTypeInstance(type='ValueExpr', params=None), 'T': DeclaredTypeInstance(type='ValueExpr', params=None)}), 'T': DeclaredTypeInstance(type='ValueExpr', params=None)}), 'T': DeclaredTypeInstance(type='Abstraction', params={'U': DeclaredTypeInstance(type='Abstraction', params={'U': DeclaredTypeInstance(type='ValueExpr', params=None), 'T': DeclaredTypeInstance(type='ValueExpr', params=None)}), 'T': DeclaredTypeInstance(type='ValueExpr', params=None)})}, args=['-5636935065292834291', '-92889879331094320'], kwargs=None), CallNode(id='-3141049878797637257', function='Abstraction.__call__', type_params={'U': DeclaredTypeInstance(type='Abstraction', params={'U': DeclaredTypeInstance(type='ValueExpr', params=None), 'T': DeclaredTypeInstance(type='ValueExpr', params=None)}), 'T': DeclaredTypeInstance(type='ValueExpr', params=None)}, args=['-2035585470031767222', '-4683086075128235159'], kwargs=None), CallNode(id='1155176711331379090', function='Abstraction.__call__', type_params={'U': DeclaredTypeInstance(type='ValueExpr', params=None), 'T': DeclaredTypeInstance(type='ValueExpr', params=None)}, args=['-3141049878797637257', '-3752576409427754660'], kwargs=None), CallNode(id='3454957333611997760', function='ValueExpr.build', type_params=None, args=['1155176711331379090', '-4065451665956858012'], kwargs=None), CallNode(id='-4657081233104634922', function='Pair.right', type_params={'U': DeclaredTypeInstance(type='Pair', params={'U': DeclaredTypeInstance(type='Fn', params=None), 'T': DeclaredTypeInstance(type='BlockRef', params=None)}), 'T': DeclaredTypeInstance(type='Value', params=None)}, args=['3454957333611997760'], kwargs=None), CallNode(id='1402390870803337454', function='Pair.right', type_params={'U': DeclaredTypeInstance(type='Fn', params=None), 'T': DeclaredTypeInstance(type='BlockRef', params=None)}, args=['-4657081233104634922'], kwargs=None), CallNode(id='-4027569763901134714', function='Pair.left', type_params={'U': DeclaredTypeInstance(type='Fn', params=None), 'T': DeclaredTypeInstance(type='BlockRef', params=None)}, args=['-4657081233104634922'], kwargs=None), CallNode(id='-7705189374128741314', function='Pair.left', type_params={'U': DeclaredTypeInstance(type='Pair', params={'U': DeclaredTypeInstance(type='Fn', params=None), 'T': DeclaredTypeInstance(type='BlockRef', params=None)}), 'T': DeclaredTypeInstance(type='Value', params=None)}, args=['3454957333611997760'], kwargs=None), CallNode(id='-9017056633076231338', function='BlockRef.ret', type_params=None, args=['-4027569763901134714', '-7705189374128741314'], kwargs=None), CallNode(id='-541465727477247131', function='Fn.add_block', type_params=None, args=['1402390870803337454', '-9017056633076231338'], kwargs=None), CallNode(id='-2786911730005439122', function='from_llvm_fn_2', type_params=None, args=['-541465727477247131'], kwargs=None), CallNode(id='-609900877650112609', function='to_llvm_fn_2', type_params=None, args=['-2786911730005439122'], kwargs=None), CallNode(id='-4001425562887980825', function='ModRef.mod', type_params=None, args=['7737634984556270748', '-609900877650112609'], kwargs=None), CallNode(id='-6732590747867848868', function='Fn.ref', type_params=None, args=['-609900877650112609'], kwargs=None), CallNode(id='4920615247983478654', function='compile_function', type_params=None, args=['-4001425562887980825', '-6732590747867848868', '3983604008656577675'], kwargs=None), PrimitiveNode(id='5825673886081210267', type='Variable', repr='0x7fd18866c5f8'), CallNode(id='-467076077102023870', function='Abstraction.create_variable', type_params={'U': DeclaredTypeInstance(type='Abstraction', params={'U': DeclaredTypeInstance(type='Abstraction', params={'U': DeclaredTypeInstance(type='ValueExpr', params=None), 'T': DeclaredTypeInstance(type='ValueExpr', params=None)}), 'T': DeclaredTypeInstance(type='ValueExpr', params=None)}), 'T': DeclaredTypeInstance(type='Abstraction', params={'U': DeclaredTypeInstance(type='Abstraction', params={'U': DeclaredTypeInstance(type='ValueExpr', params=None), 'T': DeclaredTypeInstance(type='ValueExpr', params=None)}), 'T': DeclaredTypeInstance(type='ValueExpr', params=None)})}, args=['5825673886081210267'], kwargs=None), CallNode(id='6491462229961820850', function='Abstraction.create', type_params={'U': DeclaredTypeInstance(type='Abstraction', params={'U': DeclaredTypeInstance(type='Abstraction', params={'U': DeclaredTypeInstance(type='ValueExpr', params=None), 'T': DeclaredTypeInstance(type='ValueExpr', params=None)}), 'T': DeclaredTypeInstance(type='ValueExpr', params=None)}), 'T': DeclaredTypeInstance(type='Abstraction', params={'U': DeclaredTypeInstance(type='Abstraction', params={'U': DeclaredTypeInstance(type='ValueExpr', params=None), 'T': DeclaredTypeInstance(type='ValueExpr', params=None)}), 'T': DeclaredTypeInstance(type='ValueExpr', params=None)})}, args=['-467076077102023870', '-467076077102023870'], kwargs=None), CallNode(id='-7229165677341623131', function='Abstraction.__call__', type_params={'U': DeclaredTypeInstance(type='Abstraction', params={'U': DeclaredTypeInstance(type='Abstraction', params={'U': DeclaredTypeInstance(type='ValueExpr', params=None), 'T': DeclaredTypeInstance(type='ValueExpr', params=None)}), 'T': DeclaredTypeInstance(type='ValueExpr', params=None)}), 'T': DeclaredTypeInstance(type='Abstraction', params={'U': DeclaredTypeInstance(type='Abstraction', params={'U': DeclaredTypeInstance(type='ValueExpr', params=None), 'T': DeclaredTypeInstance(type='ValueExpr', params=None)}), 'T': DeclaredTypeInstance(type='ValueExpr', params=None)})}, args=['6491462229961820850', '-92889879331094320'], kwargs=None), CallNode(id='-2753663674481387057', function='Abstraction.__call__', type_params={'U': DeclaredTypeInstance(type='Abstraction', params={'U': DeclaredTypeInstance(type='ValueExpr', params=None), 'T': DeclaredTypeInstance(type='ValueExpr', params=None)}), 'T': DeclaredTypeInstance(type='ValueExpr', params=None)}, args=['-7229165677341623131', '-4683086075128235159'], kwargs=None), CallNode(id='3450966259686250618', function='Abstraction.__call__', type_params={'U': DeclaredTypeInstance(type='ValueExpr', params=None), 'T': DeclaredTypeInstance(type='ValueExpr', params=None)}, args=['-2753663674481387057', '-3752576409427754660'], kwargs=None), CallNode(id='-5630636479584713791', function='ValueExpr.build', type_params=None, args=['3450966259686250618', '-4065451665956858012'], kwargs=None), CallNode(id='5136035940986901848', function='Pair.right', type_params={'U': DeclaredTypeInstance(type='Pair', params={'U': DeclaredTypeInstance(type='Fn', params=None), 'T': DeclaredTypeInstance(type='BlockRef', params=None)}), 'T': DeclaredTypeInstance(type='Value', params=None)}, args=['-5630636479584713791'], kwargs=None), CallNode(id='8770832602208621288', function='Pair.right', type_params={'U': DeclaredTypeInstance(type='Fn', params=None), 'T': DeclaredTypeInstance(type='BlockRef', params=None)}, args=['5136035940986901848'], kwargs=None), CallNode(id='3182365521371078672', function='Pair.left', type_params={'U': DeclaredTypeInstance(type='Fn', params=None), 'T': DeclaredTypeInstance(type='BlockRef', params=None)}, args=['5136035940986901848'], kwargs=None), CallNode(id='4228837404278608512', function='Pair.left', type_params={'U': DeclaredTypeInstance(type='Pair', params={'U': DeclaredTypeInstance(type='Fn', params=None), 'T': DeclaredTypeInstance(type='BlockRef', params=None)}), 'T': DeclaredTypeInstance(type='Value', params=None)}, args=['-5630636479584713791'], kwargs=None), CallNode(id='8174889044916468828', function='BlockRef.ret', type_params=None, args=['3182365521371078672', '4228837404278608512'], kwargs=None), CallNode(id='-810896710553501524', function='Fn.add_block', type_params=None, args=['8770832602208621288', '8174889044916468828'], kwargs=None), CallNode(id='-7545107608703030277', function='from_llvm_fn_2', type_params=None, args=['-810896710553501524'], kwargs=None), CallNode(id='-970759901213728506', function='to_llvm_fn_2', type_params=None, args=['-7545107608703030277'], kwargs=None), CallNode(id='6799771392540434856', function='ModRef.mod', type_params=None, args=['7737634984556270748', '-970759901213728506'], kwargs=None), CallNode(id='5902206317055238361', function='Fn.ref', type_params=None, args=['-970759901213728506'], kwargs=None), CallNode(id='4828524545797538635', function='compile_function', type_params=None, args=['6799771392540434856', '5902206317055238361', '3983604008656577675'], kwargs=None), CallNode(id='-6003706229258875591', function='Abstraction.__call__', type_params={'U': DeclaredTypeInstance(type='Abstraction', params={'U': DeclaredTypeInstance(type='ValueExpr', params=None), 'T': DeclaredTypeInstance(type='ValueExpr', params=None)}), 'T': DeclaredTypeInstance(type='ValueExpr', params=None)}, args=['-92889879331094320', '-4683086075128235159'], kwargs=None), CallNode(id='-1293024229612221397', function='Abstraction.__call__', type_params={'U': DeclaredTypeInstance(type='ValueExpr', params=None), 'T': DeclaredTypeInstance(type='ValueExpr', params=None)}, args=['-6003706229258875591', '-3752576409427754660'], kwargs=None), CallNode(id='-7455672140320605263', function='ValueExpr.build', type_params=None, args=['-1293024229612221397', '-4065451665956858012'], kwargs=None), CallNode(id='-7467544558603913099', function='Pair.right', type_params={'U': DeclaredTypeInstance(type='Pair', params={'U': DeclaredTypeInstance(type='Fn', params=None), 'T': DeclaredTypeInstance(type='BlockRef', params=None)}), 'T': DeclaredTypeInstance(type='Value', params=None)}, args=['-7455672140320605263'], kwargs=None), CallNode(id='8237397548774939072', function='Pair.right', type_params={'U': DeclaredTypeInstance(type='Fn', params=None), 'T': DeclaredTypeInstance(type='BlockRef', params=None)}, args=['-7467544558603913099'], kwargs=None), CallNode(id='-1523025269750438504', function='Pair.left', type_params={'U': DeclaredTypeInstance(type='Fn', params=None), 'T': DeclaredTypeInstance(type='BlockRef', params=None)}, args=['-7467544558603913099'], kwargs=None), CallNode(id='1275761440836754253', function='Pair.left', type_params={'U': DeclaredTypeInstance(type='Pair', params={'U': DeclaredTypeInstance(type='Fn', params=None), 'T': DeclaredTypeInstance(type='BlockRef', params=None)}), 'T': DeclaredTypeInstance(type='Value', params=None)}, args=['-7455672140320605263'], kwargs=None), CallNode(id='-7047331739384799043', function='BlockRef.ret', type_params=None, args=['-1523025269750438504', '1275761440836754253'], kwargs=None), CallNode(id='-6626183502763720057', function='Fn.add_block', type_params=None, args=['8237397548774939072', '-7047331739384799043'], kwargs=None), CallNode(id='3392957226250698190', function='from_llvm_fn_2', type_params=None, args=['-6626183502763720057'], kwargs=None), CallNode(id='-335532578640017595', function='to_llvm_fn_2', type_params=None, args=['3392957226250698190'], kwargs=None), CallNode(id='4430041370345798569', function='ModRef.mod', type_params=None, args=['7737634984556270748', '-335532578640017595'], kwargs=None), CallNode(id='-2932054857410975730', function='Fn.ref', type_params=None, args=['-335532578640017595'], kwargs=None), CallNode(id='8599945862896542573', function='compile_function', type_params=None, args=['4430041370345798569', '-2932054857410975730', '3983604008656577675'], kwargs=None), CallNode(id='-8285532200730727129', function='FunctionTwo.__call__', type_params={'V': DeclaredTypeInstance(type='ValueExpr', params=None), 'U': DeclaredTypeInstance(type='ValueExpr', params=None), 'T': DeclaredTypeInstance(type='ValueExpr', params=None)}, args=['5790177274379634933', '-4683086075128235159', '4465176100420276415'], kwargs=None), CallNode(id='-5473820876711575918', function='Abstraction.create', type_params={'U': DeclaredTypeInstance(type='ValueExpr', params=None), 'T': DeclaredTypeInstance(type='ValueExpr', params=None)}, args=['4465176100420276415', '-8285532200730727129'], kwargs=None), CallNode(id='-2687678537571144248', function='Abstraction.__call__', type_params={'U': DeclaredTypeInstance(type='ValueExpr', params=None), 'T': DeclaredTypeInstance(type='ValueExpr', params=None)}, args=['-5473820876711575918', '-3752576409427754660'], kwargs=None), CallNode(id='-635756656845881259', function='ValueExpr.build', type_params=None, args=['-2687678537571144248', '-4065451665956858012'], kwargs=None), CallNode(id='6735156210348295258', function='Pair.right', type_params={'U': DeclaredTypeInstance(type='Pair', params={'U': DeclaredTypeInstance(type='Fn', params=None), 'T': DeclaredTypeInstance(type='BlockRef', params=None)}), 'T': DeclaredTypeInstance(type='Value', params=None)}, args=['-635756656845881259'], kwargs=None), CallNode(id='9169130083561861686', function='Pair.right', type_params={'U': DeclaredTypeInstance(type='Fn', params=None), 'T': DeclaredTypeInstance(type='BlockRef', params=None)}, args=['6735156210348295258'], kwargs=None), CallNode(id='-7634356176976779682', function='Pair.left', type_params={'U': DeclaredTypeInstance(type='Fn', params=None), 'T': DeclaredTypeInstance(type='BlockRef', params=None)}, args=['6735156210348295258'], kwargs=None), CallNode(id='1356124193531995778', function='Pair.left', type_params={'U': DeclaredTypeInstance(type='Pair', params={'U': DeclaredTypeInstance(type='Fn', params=None), 'T': DeclaredTypeInstance(type='BlockRef', params=None)}), 'T': DeclaredTypeInstance(type='Value', params=None)}, args=['-635756656845881259'], kwargs=None), CallNode(id='-4817581402849106421', function='BlockRef.ret', type_params=None, args=['-7634356176976779682', '1356124193531995778'], kwargs=None), CallNode(id='-2774097928524280000', function='Fn.add_block', type_params=None, args=['9169130083561861686', '-4817581402849106421'], kwargs=None), CallNode(id='9051075828863298876', function='from_llvm_fn_2', type_params=None, args=['-2774097928524280000'], kwargs=None), CallNode(id='7575113266550340501', function='to_llvm_fn_2', type_params=None, args=['9051075828863298876'], kwargs=None), CallNode(id='-7158874234700634970', function='ModRef.mod', type_params=None, args=['7737634984556270748', '7575113266550340501'], kwargs=None), CallNode(id='-1125936929765549505', function='Fn.ref', type_params=None, args=['7575113266550340501'], kwargs=None), CallNode(id='2719545790712891432', function='compile_function', type_params=None, args=['-7158874234700634970', '-1125936929765549505', '3983604008656577675'], kwargs=None), CallNode(id='-1058726873601930546', function='FunctionTwo.__call__', type_params={'V': DeclaredTypeInstance(type='ValueExpr', params=None), 'U': DeclaredTypeInstance(type='ValueExpr', params=None), 'T': DeclaredTypeInstance(type='ValueExpr', params=None)}, args=['5790177274379634933', '-4683086075128235159', '-3752576409427754660'], kwargs=None), CallNode(id='2476603561564019940', function='ValueExpr.build', type_params=None, args=['-1058726873601930546', '-4065451665956858012'], kwargs=None), CallNode(id='610527921622614154', function='Pair.right', type_params={'U': DeclaredTypeInstance(type='Pair', params={'U': DeclaredTypeInstance(type='Fn', params=None), 'T': DeclaredTypeInstance(type='BlockRef', params=None)}), 'T': DeclaredTypeInstance(type='Value', params=None)}, args=['2476603561564019940'], kwargs=None), CallNode(id='-7923138935479644488', function='Pair.right', type_params={'U': DeclaredTypeInstance(type='Fn', params=None), 'T': DeclaredTypeInstance(type='BlockRef', params=None)}, args=['610527921622614154'], kwargs=None), CallNode(id='7125203977695594784', function='Pair.left', type_params={'U': DeclaredTypeInstance(type='Fn', params=None), 'T': DeclaredTypeInstance(type='BlockRef', params=None)}, args=['610527921622614154'], kwargs=None), CallNode(id='2172326707764547506', function='Pair.left', type_params={'U': DeclaredTypeInstance(type='Pair', params={'U': DeclaredTypeInstance(type='Fn', params=None), 'T': DeclaredTypeInstance(type='BlockRef', params=None)}), 'T': DeclaredTypeInstance(type='Value', params=None)}, args=['2476603561564019940'], kwargs=None), CallNode(id='1814855198936119971', function='BlockRef.ret', type_params=None, args=['7125203977695594784', '2172326707764547506'], kwargs=None), CallNode(id='-8675976830446441630', function='Fn.add_block', type_params=None, args=['-7923138935479644488', '1814855198936119971'], kwargs=None), CallNode(id='-156676655511150692', function='from_llvm_fn_2', type_params=None, args=['-8675976830446441630'], kwargs=None), CallNode(id='-7231611733259791870', function='to_llvm_fn_2', type_params=None, args=['-156676655511150692'], kwargs=None), CallNode(id='-5824728073132500409', function='ModRef.mod', type_params=None, args=['7737634984556270748', '-7231611733259791870'], kwargs=None), CallNode(id='-3967595879101504644', function='Fn.ref', type_params=None, args=['-7231611733259791870'], kwargs=None), CallNode(id='41196421293663954', function='compile_function', type_params=None, args=['-5824728073132500409', '-3967595879101504644', '3983604008656577675'], kwargs=None), CallNode(id='-3040909231453745625', function='ModRef.mod', type_params=None, args=['7737634984556270748', '-8675976830446441630'], kwargs=None), CallNode(id='-390259248016873572', function='Fn.ref', type_params=None, args=['-8675976830446441630'], kwargs=None), CallNode(id='1904940434664386576', function='compile_function', type_params=None, args=['-3040909231453745625', '-390259248016873572', '3983604008656577675'], kwargs=None), CallNode(id='174053887800526773', function='ValueExpr.build', type_params=None, args=['-4683086075128235159', '-4065451665956858012'], kwargs=None), CallNode(id='8905237887093833850', function='Pair.right', type_params={'U': DeclaredTypeInstance(type='Pair', params={'U': DeclaredTypeInstance(type='Fn', params=None), 'T': DeclaredTypeInstance(type='BlockRef', params=None)}), 'T': DeclaredTypeInstance(type='Value', params=None)}, args=['174053887800526773'], kwargs=None), CallNode(id='7961386497307506083', function='ValueExpr.build', type_params=None, args=['-3752576409427754660', '8905237887093833850'], kwargs=None), CallNode(id='3085503627247054733', function='Pair.right', type_params={'U': DeclaredTypeInstance(type='Pair', params={'U': DeclaredTypeInstance(type='Fn', params=None), 'T': DeclaredTypeInstance(type='BlockRef', params=None)}), 'T': DeclaredTypeInstance(type='Value', params=None)}, args=['7961386497307506083'], kwargs=None), CallNode(id='8572365528556753908', function='Pair.left', type_params={'U': DeclaredTypeInstance(type='Fn', params=None), 'T': DeclaredTypeInstance(type='BlockRef', params=None)}, args=['3085503627247054733'], kwargs=None), CallNode(id='-5319542980838272779', function='Fn.ref', type_params=None, args=['-717349301858400982'], kwargs=None), CallNode(id='1569459328836676322', function='Pair.left', type_params={'U': DeclaredTypeInstance(type='Pair', params={'U': DeclaredTypeInstance(type='Fn', params=None), 'T': DeclaredTypeInstance(type='BlockRef', params=None)}), 'T': DeclaredTypeInstance(type='Value', params=None)}, args=['174053887800526773'], kwargs=None), CallNode(id='3826265870330116789', function='Pair.left', type_params={'U': DeclaredTypeInstance(type='Pair', params={'U': DeclaredTypeInstance(type='Fn', params=None), 'T': DeclaredTypeInstance(type='BlockRef', params=None)}), 'T': DeclaredTypeInstance(type='Value', params=None)}, args=['7961386497307506083'], kwargs=None), CallNode(id='8209277791803793046', function='Vec.create', type_params=None, args=['1569459328836676322', '3826265870330116789'], kwargs=None), CallNode(id='-3248986001459868334', function='BlockRef.call', type_params=None, args=['8572365528556753908', '-5319542980838272779', '8209277791803793046'], kwargs=None), CallNode(id='-8893448730855299688', function='Pair.create', type_params=None, args=['-3248986001459868334', '3085503627247054733'], kwargs=None), CallNode(id='-2422299509275072998', function='Pair.right', type_params={'U': DeclaredTypeInstance(type='Pair', params={'U': DeclaredTypeInstance(type='Fn', params=None), 'T': DeclaredTypeInstance(type='BlockRef', params=None)}), 'T': DeclaredTypeInstance(type='Value', params=None)}, args=['-8893448730855299688'], kwargs=None), CallNode(id='-8557616581100103961', function='Pair.right', type_params={'U': DeclaredTypeInstance(type='Fn', params=None), 'T': DeclaredTypeInstance(type='BlockRef', params=None)}, args=['-2422299509275072998'], kwargs=None), CallNode(id='-3041643030323049025', function='Pair.left', type_params={'U': DeclaredTypeInstance(type='Fn', params=None), 'T': DeclaredTypeInstance(type='BlockRef', params=None)}, args=['-2422299509275072998'], kwargs=None), CallNode(id='4035274781489587522', function='Pair.left', type_params={'U': DeclaredTypeInstance(type='Pair', params={'U': DeclaredTypeInstance(type='Fn', params=None), 'T': DeclaredTypeInstance(type='BlockRef', params=None)}), 'T': DeclaredTypeInstance(type='Value', params=None)}, args=['-8893448730855299688'], kwargs=None), CallNode(id='6225749901548996601', function='BlockRef.ret', type_params=None, args=['-3041643030323049025', '4035274781489587522'], kwargs=None), CallNode(id='5498027480790602443', function='Fn.add_block', type_params=None, args=['-8557616581100103961', '6225749901548996601'], kwargs=None), CallNode(id='-9069991199928047119', function='ModRef.mod', type_params=None, args=['7737634984556270748', '5498027480790602443'], kwargs=None), CallNode(id='-115911777896157466', function='Fn.ref', type_params=None, args=['5498027480790602443'], kwargs=None), CallNode(id='6514526944647149626', function='compile_function', type_params=None, args=['-9069991199928047119', '-115911777896157466', '3983604008656577675'], kwargs=None), CallNode(id='-6225383241252820564', function='Pair.create', type_params=None, args=['-2922765011559039867', '8905237887093833850'], kwargs=None), CallNode(id='3170747599930805009', function='Pair.right', type_params={'U': DeclaredTypeInstance(type='Pair', params={'U': DeclaredTypeInstance(type='Fn', params=None), 'T': DeclaredTypeInstance(type='BlockRef', params=None)}), 'T': DeclaredTypeInstance(type='Value', params=None)}, args=['-6225383241252820564'], kwargs=None), CallNode(id='-4551414954900635528', function='Pair.left', type_params={'U': DeclaredTypeInstance(type='Fn', params=None), 'T': DeclaredTypeInstance(type='BlockRef', params=None)}, args=['3170747599930805009'], kwargs=None), CallNode(id='-7795894884840351879', function='Pair.left', type_params={'U': DeclaredTypeInstance(type='Pair', params={'U': DeclaredTypeInstance(type='Fn', params=None), 'T': DeclaredTypeInstance(type='BlockRef', params=None)}), 'T': DeclaredTypeInstance(type='Value', params=None)}, args=['-6225383241252820564'], kwargs=None), CallNode(id='9064171555849981270', function='Vec.create', type_params=None, args=['1569459328836676322', '-7795894884840351879'], kwargs=None), CallNode(id='8310153705554706066', function='BlockRef.call', type_params=None, args=['-4551414954900635528', '-5319542980838272779', '9064171555849981270'], kwargs=None), CallNode(id='-7442511662057848072', function='Pair.create', type_params=None, args=['8310153705554706066', '3170747599930805009'], kwargs=None), CallNode(id='6027803241205785658', function='Pair.right', type_params={'U': DeclaredTypeInstance(type='Pair', params={'U': DeclaredTypeInstance(type='Fn', params=None), 'T': DeclaredTypeInstance(type='BlockRef', params=None)}), 'T': DeclaredTypeInstance(type='Value', params=None)}, args=['-7442511662057848072'], kwargs=None), CallNode(id='-6632685344919227754', function='Pair.right', type_params={'U': DeclaredTypeInstance(type='Fn', params=None), 'T': DeclaredTypeInstance(type='BlockRef', params=None)}, args=['6027803241205785658'], kwargs=None), CallNode(id='7641449712820753918', function='Pair.left', type_params={'U': DeclaredTypeInstance(type='Fn', params=None), 'T': DeclaredTypeInstance(type='BlockRef', params=None)}, args=['6027803241205785658'], kwargs=None), CallNode(id='1767911666637016226', function='Pair.left', type_params={'U': DeclaredTypeInstance(type='Pair', params={'U': DeclaredTypeInstance(type='Fn', params=None), 'T': DeclaredTypeInstance(type='BlockRef', params=None)}), 'T': DeclaredTypeInstance(type='Value', params=None)}, args=['-7442511662057848072'], kwargs=None), CallNode(id='-1212452709739426991', function='BlockRef.ret', type_params=None, args=['7641449712820753918', '1767911666637016226'], kwargs=None), CallNode(id='-2995442574655050727', function='Fn.add_block', type_params=None, args=['-6632685344919227754', '-1212452709739426991'], kwargs=None), CallNode(id='8637867108395580966', function='ModRef.mod', type_params=None, args=['7737634984556270748', '-2995442574655050727'], kwargs=None), CallNode(id='-1423510144434772545', function='Fn.ref', type_params=None, args=['-2995442574655050727'], kwargs=None), CallNode(id='3236906796933894866', function='compile_function', type_params=None, args=['8637867108395580966', '-1423510144434772545', '3983604008656577675'], kwargs=None), CallNode(id='4293677519368271467', function='Pair.create', type_params=None, args=['4333331905335620460', '-4065451665956858012'], kwargs=None), CallNode(id='-4876306956948839009', function='Pair.right', type_params={'U': DeclaredTypeInstance(type='Pair', params={'U': DeclaredTypeInstance(type='Fn', params=None), 'T': DeclaredTypeInstance(type='BlockRef', params=None)}), 'T': DeclaredTypeInstance(type='Value', params=None)}, args=['4293677519368271467'], kwargs=None), CallNode(id='7346014450959714700', function='Pair.create', type_params=None, args=['-2922765011559039867', '-4876306956948839009'], kwargs=None), CallNode(id='9072664134127246920', function='Pair.right', type_params={'U': DeclaredTypeInstance(type='Pair', params={'U': DeclaredTypeInstance(type='Fn', params=None), 'T': DeclaredTypeInstance(type='BlockRef', params=None)}), 'T': DeclaredTypeInstance(type='Value', params=None)}, args=['7346014450959714700'], kwargs=None), CallNode(id='1967969909494291285', function='Pair.left', type_params={'U': DeclaredTypeInstance(type='Fn', params=None), 'T': DeclaredTypeInstance(type='BlockRef', params=None)}, args=['9072664134127246920'], kwargs=None), CallNode(id='2307665553867602695', function='Pair.left', type_params={'U': DeclaredTypeInstance(type='Pair', params={'U': DeclaredTypeInstance(type='Fn', params=None), 'T': DeclaredTypeInstance(type='BlockRef', params=None)}), 'T': DeclaredTypeInstance(type='Value', params=None)}, args=['4293677519368271467'], kwargs=None), CallNode(id='-5778177665327028048', function='Pair.left', type_params={'U': DeclaredTypeInstance(type='Pair', params={'U': DeclaredTypeInstance(type='Fn', params=None), 'T': DeclaredTypeInstance(type='BlockRef', params=None)}), 'T': DeclaredTypeInstance(type='Value', params=None)}, args=['7346014450959714700'], kwargs=None), CallNode(id='1045189920173770004', function='Vec.create', type_params=None, args=['2307665553867602695', '-5778177665327028048'], kwargs=None), CallNode(id='1172748404508017023', function='BlockRef.call', type_params=None, args=['1967969909494291285', '-5319542980838272779', '1045189920173770004'], kwargs=None), CallNode(id='1073493796297095077', function='Pair.create', type_params=None, args=['1172748404508017023', '9072664134127246920'], kwargs=None), CallNode(id='-1287374926609925174', function='Pair.right', type_params={'U': DeclaredTypeInstance(type='Pair', params={'U': DeclaredTypeInstance(type='Fn', params=None), 'T': DeclaredTypeInstance(type='BlockRef', params=None)}), 'T': DeclaredTypeInstance(type='Value', params=None)}, args=['1073493796297095077'], kwargs=None), CallNode(id='-3384008376746999816', function='Pair.right', type_params={'U': DeclaredTypeInstance(type='Fn', params=None), 'T': DeclaredTypeInstance(type='BlockRef', params=None)}, args=['-1287374926609925174'], kwargs=None), CallNode(id='5040718834916307808', function='Pair.left', type_params={'U': DeclaredTypeInstance(type='Fn', params=None), 'T': DeclaredTypeInstance(type='BlockRef', params=None)}, args=['-1287374926609925174'], kwargs=None), CallNode(id='-9108505801000374286', function='Pair.left', type_params={'U': DeclaredTypeInstance(type='Pair', params={'U': DeclaredTypeInstance(type='Fn', params=None), 'T': DeclaredTypeInstance(type='BlockRef', params=None)}), 'T': DeclaredTypeInstance(type='Value', params=None)}, args=['1073493796297095077'], kwargs=None), CallNode(id='1607636403425601609', function='BlockRef.ret', type_params=None, args=['5040718834916307808', '-9108505801000374286'], kwargs=None), CallNode(id='-221177233694307582', function='Fn.add_block', type_params=None, args=['-3384008376746999816', '1607636403425601609'], kwargs=None), CallNode(id='-7678827085870535980', function='ModRef.mod', type_params=None, args=['7737634984556270748', '-221177233694307582'], kwargs=None), CallNode(id='-7632151041046896067', function='Fn.ref', type_params=None, args=['-221177233694307582'], kwargs=None), CallNode(id='-7784077052199939513', function='compile_function', type_params=None, args=['-7678827085870535980', '-7632151041046896067', '3983604008656577675'], kwargs=None), CallNode(id='-4524312589772988903', function='BlockRef.ret', type_params=None, args=['5040718834916307808', '1172748404508017023'], kwargs=None), CallNode(id='-6106220555383681927', function='Fn.add_block', type_params=None, args=['-3384008376746999816', '-4524312589772988903'], kwargs=None), CallNode(id='2998810252238398687', function='ModRef.mod', type_params=None, args=['7737634984556270748', '-6106220555383681927'], kwargs=None), CallNode(id='9023425030201120932', function='Fn.ref', type_params=None, args=['-6106220555383681927'], kwargs=None), CallNode(id='-6334574905740124903', function='compile_function', type_params=None, args=['2998810252238398687', '9023425030201120932', '3983604008656577675'], kwargs=None), CallNode(id='-8379443434257129747', function='Pair.right', type_params={'U': DeclaredTypeInstance(type='Fn', params=None), 'T': DeclaredTypeInstance(type='BlockRef', params=None)}, args=['9072664134127246920'], kwargs=None), CallNode(id='-6385671027730738118', function='BlockRef.ret', type_params=None, args=['1967969909494291285', '1172748404508017023'], kwargs=None), CallNode(id='5432786987648217748', function='Fn.add_block', type_params=None, args=['-8379443434257129747', '-6385671027730738118'], kwargs=None), CallNode(id='-9215728051528872072', function='ModRef.mod', type_params=None, args=['7737634984556270748', '5432786987648217748'], kwargs=None), CallNode(id='8056931933715056649', function='Fn.ref', type_params=None, args=['5432786987648217748'], kwargs=None), CallNode(id='4946968024507453469', function='compile_function', type_params=None, args=['-9215728051528872072', '8056931933715056649', '3983604008656577675'], kwargs=None), CallNode(id='3474598362951295010', function='Vec.create', type_params=None, args=['2307665553867602695', '-2922765011559039867'], kwargs=None), CallNode(id='-5334289647997815034', function='BlockRef.call', type_params=None, args=['1967969909494291285', '-5319542980838272779', '3474598362951295010'], kwargs=None), CallNode(id='4191514626037108867', function='BlockRef.ret', type_params=None, args=['1967969909494291285', '-5334289647997815034'], kwargs=None), CallNode(id='-4179885587827940568', function='Fn.add_block', type_params=None, args=['-8379443434257129747', '4191514626037108867'], kwargs=None), CallNode(id='1698331461795741647', function='ModRef.mod', type_params=None, args=['7737634984556270748', '-4179885587827940568'], kwargs=None), CallNode(id='-4401884216596964300', function='Fn.ref', type_params=None, args=['-4179885587827940568'], kwargs=None), CallNode(id='-1254805090677996000', function='compile_function', type_params=None, args=['1698331461795741647', '-4401884216596964300', '3983604008656577675'], kwargs=None), CallNode(id='-8963445371306012473', function='Vec.create', type_params=None, args=['4333331905335620460', '-2922765011559039867'], kwargs=None), CallNode(id='-2503351984509353521', function='BlockRef.call', type_params=None, args=['1967969909494291285', '-5319542980838272779', '-8963445371306012473'], kwargs=None), CallNode(id='209839520766589777', function='BlockRef.ret', type_params=None, args=['1967969909494291285', '-2503351984509353521'], kwargs=None), CallNode(id='-9068475423317594525', function='Fn.add_block', type_params=None, args=['-8379443434257129747', '209839520766589777'], kwargs=None), CallNode(id='2935263147974870766', function='ModRef.mod', type_params=None, args=['7737634984556270748', '-9068475423317594525'], kwargs=None), CallNode(id='-887048513759763241', function='Fn.ref', type_params=None, args=['-9068475423317594525'], kwargs=None), CallNode(id='-5345513567231697884', function='compile_function', type_params=None, args=['2935263147974870766', '-887048513759763241', '3983604008656577675'], kwargs=None), CallNode(id='4091520590907138485', function='BlockRef.call', type_params=None, args=['1967969909494291285', '-5972067394669943981', '-8963445371306012473'], kwargs=None), CallNode(id='7729404357391315801', function='BlockRef.ret', type_params=None, args=['1967969909494291285', '4091520590907138485'], kwargs=None), CallNode(id='-4230464538692110816', function='Fn.add_block', type_params=None, args=['-8379443434257129747', '7729404357391315801'], kwargs=None), CallNode(id='644573684053074535', function='ModRef.mod', type_params=None, args=['7737634984556270748', '-4230464538692110816'], kwargs=None), CallNode(id='6734489998672895196', function='Fn.ref', type_params=None, args=['-4230464538692110816'], kwargs=None), CallNode(id='1669400093903846853', function='compile_function', type_params=None, args=['644573684053074535', '6734489998672895196', '3983604008656577675'], kwargs=None), CallNode(id='-7169734861874580757', function='Pair.right', type_params={'U': DeclaredTypeInstance(type='Fn', params=None), 'T': DeclaredTypeInstance(type='BlockRef', params=None)}, args=['-4876306956948839009'], kwargs=None), CallNode(id='6892140068961056899', function='Pair.left', type_params={'U': DeclaredTypeInstance(type='Fn', params=None), 'T': DeclaredTypeInstance(type='BlockRef', params=None)}, args=['-4876306956948839009'], kwargs=None), CallNode(id='1950201926966292613', function='BlockRef.call', type_params=None, args=['6892140068961056899', '-5972067394669943981', '-8963445371306012473'], kwargs=None), CallNode(id='6312567861394074612', function='BlockRef.ret', type_params=None, args=['6892140068961056899', '1950201926966292613'], kwargs=None), CallNode(id='-1774917334023026100', function='Fn.add_block', type_params=None, args=['-7169734861874580757', '6312567861394074612'], kwargs=None), CallNode(id='4338473180676305770', function='ModRef.mod', type_params=None, args=['7737634984556270748', '-1774917334023026100'], kwargs=None), CallNode(id='-6576297134149064229', function='Fn.ref', type_params=None, args=['-1774917334023026100'], kwargs=None), CallNode(id='3726243881660229726', function='compile_function', type_params=None, args=['4338473180676305770', '-6576297134149064229', '3983604008656577675'], kwargs=None), CallNode(id='-3728696930061715451', function='Pair.right', type_params={'U': DeclaredTypeInstance(type='Fn', params=None), 'T': DeclaredTypeInstance(type='BlockRef', params=None)}, args=['-4065451665956858012'], kwargs=None), CallNode(id='6862653520743058141', function='Pair.left', type_params={'U': DeclaredTypeInstance(type='Fn', params=None), 'T': DeclaredTypeInstance(type='BlockRef', params=None)}, args=['-4065451665956858012'], kwargs=None), CallNode(id='3313750206258089855', function='BlockRef.call', type_params=None, args=['6862653520743058141', '-5972067394669943981', '-8963445371306012473'], kwargs=None), CallNode(id='-5422868211198153307', function='BlockRef.ret', type_params=None, args=['6862653520743058141', '3313750206258089855'], kwargs=None), CallNode(id='-4740222981148083853', function='Fn.add_block', type_params=None, args=['-3728696930061715451', '-5422868211198153307'], kwargs=None), CallNode(id='1104776701059496005', function='ModRef.mod', type_params=None, args=['7737634984556270748', '-4740222981148083853'], kwargs=None), CallNode(id='-1477020634737768942', function='Fn.ref', type_params=None, args=['-4740222981148083853'], kwargs=None), CallNode(id='-5375672347832088877', function='compile_function', type_params=None, args=['1104776701059496005', '-1477020634737768942', '3983604008656577675'], kwargs=None), CallNode(id='1610259598745913849', function='BlockRef.call', type_params=None, args=['7202929541196607406', '-5972067394669943981', '-8963445371306012473'], kwargs=None), CallNode(id='6199012408837477732', function='BlockRef.ret', type_params=None, args=['7202929541196607406', '1610259598745913849'], kwargs=None), CallNode(id='-5834775951732359928', function='Fn.add_block', type_params=None, args=['-3728696930061715451', '6199012408837477732'], kwargs=None), CallNode(id='2021325436125365672', function='ModRef.mod', type_params=None, args=['7737634984556270748', '-5834775951732359928'], kwargs=None), CallNode(id='420213357699839193', function='Fn.ref', type_params=None, args=['-5834775951732359928'], kwargs=None), CallNode(id='17540336670706975', function='compile_function', type_params=None, args=['2021325436125365672', '420213357699839193', '3983604008656577675'], kwargs=None), CallNode(id='-3989694590521099682', function='Fn.add_block', type_params=None, args=['-717349301858400982', '6199012408837477732'], kwargs=None), CallNode(id='3326834311139625793', function='ModRef.mod', type_params=None, args=['7737634984556270748', '-3989694590521099682'], kwargs=None), CallNode(id='-6120369618897471978', function='Fn.ref', type_params=None, args=['-3989694590521099682'], kwargs=None), CallNode(id='7255795582733190332', function='compile_function', type_params=None, args=['3326834311139625793', '-6120369618897471978', '3983604008656577675'], kwargs=None), CallNode(id='2111774232829784232', function='FnRef.fn', type_params=None, args=['-5972067394669943981', '6199012408837477732'], kwargs=None), CallNode(id='1781058133680532086', function='ModRef.mod', type_params=None, args=['7737634984556270748', '2111774232829784232'], kwargs=None), CallNode(id='5735870266348457711', function='Fn.ref', type_params=None, args=['2111774232829784232'], kwargs=None), CallNode(id='-9122255056598309363', function='compile_function', type_params=None, args=['1781058133680532086', '5735870266348457711', '3983604008656577675'], kwargs=None), CallNode(id='3382780185605493357', function='compile_function', type_params=None, args=['1781058133680532086', '-5972067394669943981', '3983604008656577675'], kwargs=None), CallNode(id='-4985343500595106525', function='FnRef.type', type_params=None, args=['-5972067394669943981'], kwargs=None), CallNode(id='1697655936302530065', function='llvm_to_c_fn_type', type_params=None, args=['-4985343500595106525'], kwargs=None), CallNode(id='-1527395180372767776', function='Mod.ref', type_params=None, args=['1781058133680532086'], kwargs=None), PrimitiveNode(id='1556651521443236626', type='str', repr='entry_'), CallNode(id='-2443763860160911084', function='FnRef.name', type_params=None, args=['-5972067394669943981'], kwargs=None), CallNode(id='558643199176300320', function='concat_strings', type_params=None, args=['1556651521443236626', '-2443763860160911084'], kwargs=None), PrimitiveNode(id='-5260875163968332958', type='str', repr=''), CallNode(id='-8040031234504844716', function='ModRef.fn', type_params=None, args=['-1527395180372767776', '558643199176300320', '-4985343500595106525', '-5260875163968332958'], kwargs=None), PrimitiveNode(id='7830199984865616153', type='str', repr='entry'), PrimitiveNode(id='-8690275576870928539', type='_Uniq', repr='140537647941896'), CallNode(id='6541923501073562785', function='FnRef._block', type_params=None, args=['-8040031234504844716', '3989267796447890075', '7830199984865616153', '-8690275576870928539'], kwargs=None), CallNode(id='-7580401967112486468', function='FnRef.arguments', type_params=None, args=['-8040031234504844716'], kwargs=None), CallNode(id='7201431358927686032', function='BlockRef.call', type_params=None, args=['6541923501073562785', '-5972067394669943981', '-7580401967112486468'], kwargs=None), CallNode(id='-1745964561125882172', function='BlockRef.ret', type_params=None, args=['6541923501073562785', '7201431358927686032'], kwargs=None), CallNode(id='4869920417721696082', function='FnRef.fn', type_params=None, args=['-8040031234504844716', '-1745964561125882172'], kwargs=None), CallNode(id='-6719085551167617292', function='Mod.add_fn', type_params=None, args=['1781058133680532086', '4869920417721696082'], kwargs=None), CallNode(id='-6115261742138008944', function='mod_str', type_params=None, args=['-6719085551167617292'], kwargs=None), CallNode(id='8974128327221824479', function='ModuleRef.create', type_params=None, args=['-6115261742138008944'], kwargs=None), CallNode(id='-6789828787450237315', function='ModuleRef.optimize', type_params=None, args=['8974128327221824479', '3983604008656577675'], kwargs=None), CallNode(id='-2734856769788333605', function='ExecutionEngine.create', type_params=None, args=['-6789828787450237315'], kwargs=None), CallNode(id='7743509228098770056', function='ExecutionEngine.get_function_address', type_params=None, args=['-2734856769788333605', '558643199176300320'], kwargs=None), CallNode(id='-6979877943989380145', function='CFunctionType.__call__', type_params=None, args=['1697655936302530065', '7743509228098770056'], kwargs=None), CallNode(id='-8471665696678828896', function='ModRef.mod', type_params=None, args=['7737634984556270748', '2111774232829784232', '4869920417721696082'], kwargs=None), CallNode(id='2921955241111312795', function='mod_str', type_params=None, args=['-8471665696678828896'], kwargs=None), CallNode(id='-1424589755533762075', function='ModuleRef.create', type_params=None, args=['2921955241111312795'], kwargs=None), CallNode(id='2958304003495603474', function='ModuleRef.optimize', type_params=None, args=['-1424589755533762075', '3983604008656577675'], kwargs=None), CallNode(id='8872703399736337283', function='ExecutionEngine.create', type_params=None, args=['2958304003495603474'], kwargs=None), CallNode(id='-4215672803156792860', function='ExecutionEngine.get_function_address', type_params=None, args=['8872703399736337283', '558643199176300320'], kwargs=None), CallNode(id='4083581833962692103', function='CFunctionType.__call__', type_params=None, args=['1697655936302530065', '-4215672803156792860'], kwargs=None), CallNode(id='7472286698678586480', function='concat_strings', type_params=None, args=['1556651521443236626', '3348305646612022562'], kwargs=None), CallNode(id='3924880304845652227', function='ModRef.fn', type_params=None, args=['-1527395180372767776', '7472286698678586480', '-4985343500595106525', '-5260875163968332958'], kwargs=None), CallNode(id='-1516733937246279142', function='FnRef._block', type_params=None, args=['3924880304845652227', '3989267796447890075', '7830199984865616153', '-8690275576870928539'], kwargs=None), CallNode(id='688448138405718109', function='FnRef.arguments', type_params=None, args=['3924880304845652227'], kwargs=None), CallNode(id='3104213470157889963', function='BlockRef.call', type_params=None, args=['-1516733937246279142', '-5972067394669943981', '688448138405718109'], kwargs=None), CallNode(id='-755902324352736212', function='BlockRef.ret', type_params=None, args=['-1516733937246279142', '3104213470157889963'], kwargs=None), CallNode(id='-4776990705966808929', function='FnRef.fn', type_params=None, args=['3924880304845652227', '-755902324352736212'], kwargs=None), CallNode(id='-7586021199695068469', function='ModRef.mod', type_params=None, args=['7737634984556270748', '2111774232829784232', '-4776990705966808929'], kwargs=None), CallNode(id='-3280697714879838670', function='mod_str', type_params=None, args=['-7586021199695068469'], kwargs=None), CallNode(id='866281494262904860', function='ModuleRef.create', type_params=None, args=['-3280697714879838670'], kwargs=None), CallNode(id='-6076521447200291669', function='ModuleRef.optimize', type_params=None, args=['866281494262904860', '3983604008656577675'], kwargs=None), CallNode(id='116848333606897681', function='ExecutionEngine.create', type_params=None, args=['-6076521447200291669'], kwargs=None), CallNode(id='-5559021611213663358', function='ExecutionEngine.get_function_address', type_params=None, args=['116848333606897681', '7472286698678586480'], kwargs=None), CallNode(id='8576777687872011638', function='CFunctionType.__call__', type_params=None, args=['1697655936302530065', '-5559021611213663358'], kwargs=None), PrimitiveNode(id='-2984941212226017690', type='str', repr='entry_add'), CallNode(id='5183321514827014333', function='ModRef.fn', type_params=None, args=['-1527395180372767776', '-2984941212226017690', '-4985343500595106525', '-5260875163968332958'], kwargs=None), CallNode(id='-3761044258668532081', function='FnRef._block', type_params=None, args=['5183321514827014333', '3989267796447890075', '7830199984865616153', '-8690275576870928539'], kwargs=None), CallNode(id='5468328213098423986', function='FnRef.arguments', type_params=None, args=['5183321514827014333'], kwargs=None), CallNode(id='-4312652255648408784', function='BlockRef.call', type_params=None, args=['-3761044258668532081', '-5972067394669943981', '5468328213098423986'], kwargs=None), CallNode(id='2922062691644531485', function='BlockRef.ret', type_params=None, args=['-3761044258668532081', '-4312652255648408784'], kwargs=None), CallNode(id='3790588192509921166', function='FnRef.fn', type_params=None, args=['5183321514827014333', '2922062691644531485'], kwargs=None), CallNode(id='7107395932725630077', function='ModRef.mod', type_params=None, args=['7737634984556270748', '2111774232829784232', '3790588192509921166'], kwargs=None), CallNode(id='-7866628168569919286', function='mod_str', type_params=None, args=['7107395932725630077'], kwargs=None), CallNode(id='2393875709399208266', function='ModuleRef.create', type_params=None, args=['-7866628168569919286'], kwargs=None), CallNode(id='503838973197597324', function='ModuleRef.optimize', type_params=None, args=['2393875709399208266', '3983604008656577675'], kwargs=None), CallNode(id='-1899824831641270224', function='ExecutionEngine.create', type_params=None, args=['503838973197597324'], kwargs=None), CallNode(id='-6123566777187082619', function='ExecutionEngine.get_function_address', type_params=None, args=['-1899824831641270224', '-2984941212226017690'], kwargs=None), CallNode(id='7612553953281520871', function='CFunctionType.__call__', type_params=None, args=['1697655936302530065', '-6123566777187082619'], kwargs=None), CallNode(id='6968872193311742620', function='ModRef.fn', type_params=None, args=['7737634984556270748', '-2984941212226017690', '-4985343500595106525', '-5260875163968332958'], kwargs=None), CallNode(id='7276256935751629359', function='FnRef._block', type_params=None, args=['6968872193311742620', '3989267796447890075', '7830199984865616153', '-8690275576870928539'], kwargs=None), CallNode(id='1313873111100941714', function='FnRef.arguments', type_params=None, args=['6968872193311742620'], kwargs=None), CallNode(id='-5732371213606170950', function='BlockRef.call', type_params=None, args=['7276256935751629359', '-5972067394669943981', '1313873111100941714'], kwargs=None), CallNode(id='9102470140534664960', function='BlockRef.ret', type_params=None, args=['7276256935751629359', '-5732371213606170950'], kwargs=None), CallNode(id='4995860956708364501', function='FnRef.fn', type_params=None, args=['6968872193311742620', '9102470140534664960'], kwargs=None), CallNode(id='4043254346200596165', function='ModRef.mod', type_params=None, args=['7737634984556270748', '2111774232829784232', '4995860956708364501'], kwargs=None), CallNode(id='-4222213670159268860', function='mod_str', type_params=None, args=['4043254346200596165'], kwargs=None), CallNode(id='7658188042565969462', function='ModuleRef.create', type_params=None, args=['-4222213670159268860'], kwargs=None), CallNode(id='-7078469886543537906', function='ModuleRef.optimize', type_params=None, args=['7658188042565969462', '3983604008656577675'], kwargs=None), CallNode(id='7397613747890437547', function='ExecutionEngine.create', type_params=None, args=['-7078469886543537906'], kwargs=None), CallNode(id='8997293144370884983', function='ExecutionEngine.get_function_address', type_params=None, args=['7397613747890437547', '-2984941212226017690'], kwargs=None), CallNode(id='-7425953175394274092', function='CFunctionType.__call__', type_params=None, args=['1697655936302530065', '8997293144370884983'], kwargs=None), CallNode(id='5245807926375010913', function='llvm_to_c_fn_type', type_params=None, args=['2869849078853932976'], kwargs=None), CallNode(id='4215205782365650220', function='ModRef.fn', type_params=None, args=['7737634984556270748', '-2984941212226017690', '2869849078853932976', '-5260875163968332958'], kwargs=None), CallNode(id='-1974251841923644723', function='FnRef._block', type_params=None, args=['4215205782365650220', '3989267796447890075', '7830199984865616153', '-8690275576870928539'], kwargs=None), CallNode(id='-505398600127673640', function='FnRef.arguments', type_params=None, args=['4215205782365650220'], kwargs=None), CallNode(id='7144237358839531057', function='BlockRef.call', type_params=None, args=['-1974251841923644723', '-5972067394669943981', '-505398600127673640'], kwargs=None), CallNode(id='6258450062190691147', function='BlockRef.ret', type_params=None, args=['-1974251841923644723', '7144237358839531057'], kwargs=None), CallNode(id='9074464842586441313', function='FnRef.fn', type_params=None, args=['4215205782365650220', '6258450062190691147'], kwargs=None), CallNode(id='2046879977701736592', function='ModRef.mod', type_params=None, args=['7737634984556270748', '2111774232829784232', '9074464842586441313'], kwargs=None), CallNode(id='26091649305361562', function='mod_str', type_params=None, args=['2046879977701736592'], kwargs=None), CallNode(id='8751698392795066219', function='ModuleRef.create', type_params=None, args=['26091649305361562'], kwargs=None), CallNode(id='1744773636298385921', function='ModuleRef.optimize', type_params=None, args=['8751698392795066219', '3983604008656577675'], kwargs=None), CallNode(id='3413620722302886361', function='ExecutionEngine.create', type_params=None, args=['1744773636298385921'], kwargs=None), CallNode(id='-4446691840062581989', function='ExecutionEngine.get_function_address', type_params=None, args=['3413620722302886361', '-2984941212226017690'], kwargs=None), CallNode(id='-5969441712762382042', function='CFunctionType.__call__', type_params=None, args=['5245807926375010913', '-4446691840062581989'], kwargs=None), CallNode(id='2825487785775591143', function='llvm_to_c_type', type_params=None, args=['-3409559652977700816'], kwargs=None), CallNode(id='9079606624536008725', function='CFunctionType.create', type_params=None, args=['2825487785775591143', '2825487785775591143', '2825487785775591143'], kwargs=None), CallNode(id='7830857287434364001', function='CFunctionType.__call__', type_params=None, args=['9079606624536008725', '-4446691840062581989'], kwargs=None), CallNode(id='-7369207672731654775', function='CType.c_int', type_params=None, args=None, kwargs=None), CallNode(id='-4832594004965039253', function='CFunctionType.create', type_params=None, args=['-7369207672731654775', '-7369207672731654775', '-7369207672731654775'], kwargs=None), CallNode(id='-9218201750568846196', function='CFunctionType.__call__', type_params=None, args=['-4832594004965039253', '-4446691840062581989'], kwargs=None), PrimitiveNode(id='6870387319334885556', type='IntType', repr='i32'), CallNode(id='-468902764806947638', function='box_type', type_params=None, args=['6870387319334885556'], kwargs=None), CallNode(id='-6293883560705338731', function='FnType.create', type_params=None, args=['-468902764806947638', '-468902764806947638', '-468902764806947638'], kwargs=None), CallNode(id='6938571637573938329', function='ModRef.fn', type_params=None, args=['7737634984556270748', '3348305646612022562', '-6293883560705338731', '-4379724003781273686'], kwargs=None), CallNode(id='6468141984572031221', function='FnRef._block', type_params=None, args=['6938571637573938329', '3989267796447890075', '3959146490344299550', '-8690275497361632339'], kwargs=None), CallNode(id='-3456168612184306971', function='FnRef.arguments', type_params=None, args=['6938571637573938329'], kwargs=None), CallNode(id='-5764990595407444402', function='Vec.__getitem__', type_params={'T': DeclaredTypeInstance(type='Value', params=None)}, args=['-3456168612184306971', '7019033112043945449'], kwargs=None), CallNode(id='-8339197911769926045', function='Vec.__getitem__', type_params={'T': DeclaredTypeInstance(type='Value', params=None)}, args=['-3456168612184306971', '7427462424716739544'], kwargs=None), CallNode(id='3287624691885027562', function='Vec.create', type_params=None, args=['-5764990595407444402', '-8339197911769926045'], kwargs=None), CallNode(id='4690450661117845403', function='BlockRef.call', type_params=None, args=['6468141984572031221', '6938571637573938329', '3287624691885027562'], kwargs=None), CallNode(id='-1473663354356572078', function='BlockRef.ret', type_params=None, args=['6468141984572031221', '4690450661117845403'], kwargs=None), CallNode(id='-8568119952401659875', function='FnRef.fn', type_params=None, args=['6938571637573938329', '-1473663354356572078'], kwargs=None), CallNode(id='1725576495363602342', function='ModRef.fn', type_params=None, args=['7737634984556270748', '-2984941212226017690', '-6293883560705338731', '-5260875163968332958'], kwargs=None), CallNode(id='-2525610391585297620', function='FnRef._block', type_params=None, args=['1725576495363602342', '3989267796447890075', '7830199984865616153', '-8690275576870928539'], kwargs=None), CallNode(id='6153223190414310375', function='FnRef.arguments', type_params=None, args=['1725576495363602342'], kwargs=None), CallNode(id='5904931489179258137', function='BlockRef.call', type_params=None, args=['-2525610391585297620', '6938571637573938329', '6153223190414310375'], kwargs=None), CallNode(id='8969085148556710180', function='BlockRef.ret', type_params=None, args=['-2525610391585297620', '5904931489179258137'], kwargs=None), CallNode(id='-4511843451375261624', function='FnRef.fn', type_params=None, args=['1725576495363602342', '8969085148556710180'], kwargs=None), CallNode(id='3873538943268364387', function='ModRef.mod', type_params=None, args=['7737634984556270748', '-8568119952401659875', '-4511843451375261624'], kwargs=None), CallNode(id='-1570424051261528434', function='mod_str', type_params=None, args=['3873538943268364387'], kwargs=None), CallNode(id='3526428101222287327', function='ModuleRef.create', type_params=None, args=['-1570424051261528434'], kwargs=None), CallNode(id='720802186524311719', function='ModuleRef.optimize', type_params=None, args=['3526428101222287327', '3983604008656577675'], kwargs=None), CallNode(id='-5197669283117006513', function='ExecutionEngine.create', type_params=None, args=['720802186524311719'], kwargs=None), CallNode(id='-4080223703932932604', function='ExecutionEngine.get_function_address', type_params=None, args=['-5197669283117006513', '-2984941212226017690'], kwargs=None), CallNode(id='-7248996879632524721', function='CFunctionType.__call__', type_params=None, args=['-4832594004965039253', '-4080223703932932604'], kwargs=None), PrimitiveNode(id='-826781629304548292', type='FunctionType', repr='i32 (i32, i32)'), CallNode(id='2442641081084090448', function='box_fn_type', type_params=None, args=['-826781629304548292'], kwargs=None), CallNode(id='-8701725900073914061', function='ModRef.fn', type_params=None, args=['7737634984556270748', '3348305646612022562', '2442641081084090448', '-4379724003781273686'], kwargs=None), CallNode(id='-6486380316333790679', function='FnRef._block', type_params=None, args=['-8701725900073914061', '3989267796447890075', '3959146490344299550', '-8690275497361632339'], kwargs=None), CallNode(id='1126156143613236313', function='FnRef.arguments', type_params=None, args=['-8701725900073914061'], kwargs=None), CallNode(id='5581005319940643747', function='Vec.__getitem__', type_params={'T': DeclaredTypeInstance(type='Value', params=None)}, args=['1126156143613236313', '7019033112043945449'], kwargs=None), CallNode(id='-2173043601071102834', function='Vec.__getitem__', type_params={'T': DeclaredTypeInstance(type='Value', params=None)}, args=['1126156143613236313', '7427462424716739544'], kwargs=None), CallNode(id='-5362675712189378947', function='Vec.create', type_params=None, args=['5581005319940643747', '-2173043601071102834'], kwargs=None), CallNode(id='3008846985932098447', function='BlockRef.call', type_params=None, args=['-6486380316333790679', '-8701725900073914061', '-5362675712189378947'], kwargs=None), CallNode(id='-2885913257727908579', function='BlockRef.ret', type_params=None, args=['-6486380316333790679', '3008846985932098447'], kwargs=None), CallNode(id='-5424487591936185845', function='FnRef.fn', type_params=None, args=['-8701725900073914061', '-2885913257727908579'], kwargs=None), CallNode(id='462768716226158988', function='ModRef.fn', type_params=None, args=['7737634984556270748', '-2984941212226017690', '2442641081084090448', '-5260875163968332958'], kwargs=None), CallNode(id='-1728765800570778510', function='FnRef._block', type_params=None, args=['462768716226158988', '3989267796447890075', '7830199984865616153', '-8690275576870928539'], kwargs=None), CallNode(id='5322988382106462965', function='FnRef.arguments', type_params=None, args=['462768716226158988'], kwargs=None), CallNode(id='-7861542044184018852', function='BlockRef.call', type_params=None, args=['-1728765800570778510', '-8701725900073914061', '5322988382106462965'], kwargs=None), CallNode(id='4139354385303619999', function='BlockRef.ret', type_params=None, args=['-1728765800570778510', '-7861542044184018852'], kwargs=None), CallNode(id='5211548907575979363', function='FnRef.fn', type_params=None, args=['462768716226158988', '4139354385303619999'], kwargs=None), CallNode(id='2354979960524753574', function='ModRef.mod', type_params=None, args=['7737634984556270748', '-5424487591936185845', '5211548907575979363'], kwargs=None), CallNode(id='1560095314092805865', function='mod_str', type_params=None, args=['2354979960524753574'], kwargs=None), CallNode(id='-586856034738748092', function='ModuleRef.create', type_params=None, args=['1560095314092805865'], kwargs=None), CallNode(id='7163741317933802019', function='ModuleRef.optimize', type_params=None, args=['-586856034738748092', '3983604008656577675'], kwargs=None), CallNode(id='-2346641356107285470', function='ExecutionEngine.create', type_params=None, args=['7163741317933802019'], kwargs=None), CallNode(id='-7525428053012953216', function='ExecutionEngine.get_function_address', type_params=None, args=['-2346641356107285470', '-2984941212226017690'], kwargs=None), CallNode(id='-5073721636441852875', function='CFunctionType.__call__', type_params=None, args=['-4832594004965039253', '-7525428053012953216'], kwargs=None), PrimitiveNode(id='95867655257050429', type='Module', repr='; ModuleID = \"add\"\\ntarget triple = \"unknown-unknown-unknown\"\\ntarget datalayout = \"\"\\n'), CallNode(id='2996298028337212392', function='box_mod_ref', type_params=None, args=['95867655257050429'], kwargs=None), CallNode(id='-135040962743676395', function='ModRef.fn', type_params=None, args=['2996298028337212392', '3348305646612022562', '2442641081084090448', '-4379724003781273686'], kwargs=None), CallNode(id='-4139889282567285918', function='FnRef._block', type_params=None, args=['-135040962743676395', '3989267796447890075', '3959146490344299550', '-8690275497361632339'], kwargs=None), CallNode(id='1728712879257262224', function='FnRef.arguments', type_params=None, args=['-135040962743676395'], kwargs=None), CallNode(id='6415726475128599050', function='Vec.__getitem__', type_params={'T': DeclaredTypeInstance(type='Value', params=None)}, args=['1728712879257262224', '7019033112043945449'], kwargs=None), CallNode(id='-3382240628903717049', function='Vec.__getitem__', type_params={'T': DeclaredTypeInstance(type='Value', params=None)}, args=['1728712879257262224', '7427462424716739544'], kwargs=None), CallNode(id='-6854689840706829216', function='Vec.create', type_params=None, args=['6415726475128599050', '-3382240628903717049'], kwargs=None), CallNode(id='8957035761048670035', function='BlockRef.call', type_params=None, args=['-4139889282567285918', '-135040962743676395', '-6854689840706829216'], kwargs=None), CallNode(id='-5206195349095340563', function='BlockRef.ret', type_params=None, args=['-4139889282567285918', '8957035761048670035'], kwargs=None), CallNode(id='2646931432105524403', function='FnRef.fn', type_params=None, args=['-135040962743676395', '-5206195349095340563'], kwargs=None), CallNode(id='2614525526752699578', function='ModRef.fn', type_params=None, args=['2996298028337212392', '-2984941212226017690', '2442641081084090448', '-5260875163968332958'], kwargs=None), CallNode(id='5236921565537709371', function='FnRef._block', type_params=None, args=['2614525526752699578', '3989267796447890075', '7830199984865616153', '-8690275576870928539'], kwargs=None), CallNode(id='8600217725753515742', function='FnRef.arguments', type_params=None, args=['2614525526752699578'], kwargs=None), CallNode(id='2269522542354081086', function='BlockRef.call', type_params=None, args=['5236921565537709371', '-135040962743676395', '8600217725753515742'], kwargs=None), CallNode(id='5934834327361213337', function='BlockRef.ret', type_params=None, args=['5236921565537709371', '2269522542354081086'], kwargs=None), CallNode(id='-3583290955900374207', function='FnRef.fn', type_params=None, args=['2614525526752699578', '5934834327361213337'], kwargs=None), CallNode(id='-2835480131275826882', function='ModRef.mod', type_params=None, args=['2996298028337212392', '2646931432105524403', '-3583290955900374207'], kwargs=None), CallNode(id='215212608448439867', function='mod_str', type_params=None, args=['-2835480131275826882'], kwargs=None), CallNode(id='1618589470356266590', function='ModuleRef.create', type_params=None, args=['215212608448439867'], kwargs=None), CallNode(id='-5808530057966281487', function='ModuleRef.optimize', type_params=None, args=['1618589470356266590', '3983604008656577675'], kwargs=None), CallNode(id='-6951714345763779641', function='ExecutionEngine.create', type_params=None, args=['-5808530057966281487'], kwargs=None), CallNode(id='-682643418510113183', function='ExecutionEngine.get_function_address', type_params=None, args=['-6951714345763779641', '-2984941212226017690'], kwargs=None), CallNode(id='-1790203810296832343', function='CFunctionType.__call__', type_params=None, args=['-4832594004965039253', '-682643418510113183'], kwargs=None), PrimitiveNode(id='2360140828162364202', type='Module', repr='; ModuleID = \"add\"\\ntarget triple = \"unknown-unknown-unknown\"\\ntarget datalayout = \"\"\\n\\ndeclare i32 @\"entry_add\"(i32 %\".1\", i32 %\".2\") \\n'), CallNode(id='-6210335128601071026', function='box_mod_ref', type_params=None, args=['2360140828162364202'], kwargs=None), CallNode(id='-3863564130294878130', function='ModRef.fn', type_params=None, args=['-6210335128601071026', '3348305646612022562', '2442641081084090448', '-4379724003781273686'], kwargs=None), CallNode(id='-4446299493215310278', function='FnRef._block', type_params=None, args=['-3863564130294878130', '3989267796447890075', '3959146490344299550', '-8690275497361632339'], kwargs=None), CallNode(id='6109888069733057272', function='FnRef.arguments', type_params=None, args=['-3863564130294878130'], kwargs=None), CallNode(id='-2433445151196983592', function='Vec.__getitem__', type_params={'T': DeclaredTypeInstance(type='Value', params=None)}, args=['6109888069733057272', '7019033112043945449'], kwargs=None), CallNode(id='3041389000235361769', function='Vec.__getitem__', type_params={'T': DeclaredTypeInstance(type='Value', params=None)}, args=['6109888069733057272', '7427462424716739544'], kwargs=None), CallNode(id='-1343113755371156269', function='Vec.create', type_params=None, args=['-2433445151196983592', '3041389000235361769'], kwargs=None), CallNode(id='138308610344115480', function='BlockRef.call', type_params=None, args=['-4446299493215310278', '-3863564130294878130', '-1343113755371156269'], kwargs=None), CallNode(id='8880999104492469179', function='BlockRef.ret', type_params=None, args=['-4446299493215310278', '138308610344115480'], kwargs=None), CallNode(id='3494171946637035804', function='FnRef.fn', type_params=None, args=['-3863564130294878130', '8880999104492469179'], kwargs=None), PrimitiveNode(id='-575449357756553135', type='Function', repr='declare i32 @\"entry_add\"(i32 %\".1\", i32 %\".2\") \\n'), CallNode(id='7739737322719512596', function='box_fn_ref', type_params=None, args=['-575449357756553135'], kwargs=None), CallNode(id='7384941509405791799', function='FnRef._block', type_params=None, args=['7739737322719512596', '3989267796447890075', '7830199984865616153', '-8690275576870928539'], kwargs=None), CallNode(id='-7114775657053586310', function='FnRef.arguments', type_params=None, args=['7739737322719512596'], kwargs=None), CallNode(id='-8497930883926023415', function='BlockRef.call', type_params=None, args=['7384941509405791799', '-3863564130294878130', '-7114775657053586310'], kwargs=None), CallNode(id='-6745144060572183070', function='BlockRef.ret', type_params=None, args=['7384941509405791799', '-8497930883926023415'], kwargs=None), CallNode(id='-1888937335441559592', function='FnRef.fn', type_params=None, args=['7739737322719512596', '-6745144060572183070'], kwargs=None), CallNode(id='4542179248039059824', function='ModRef.mod', type_params=None, args=['-6210335128601071026', '3494171946637035804', '-1888937335441559592'], kwargs=None), CallNode(id='-2653661485303664657', function='mod_str', type_params=None, args=['4542179248039059824'], kwargs=None), CallNode(id='-3217132378370077889', function='ModuleRef.create', type_params=None, args=['-2653661485303664657'], kwargs=None), CallNode(id='-6625835023143932271', function='ModuleRef.optimize', type_params=None, args=['-3217132378370077889', '3983604008656577675'], kwargs=None), CallNode(id='6944291118458973607', function='ExecutionEngine.create', type_params=None, args=['-6625835023143932271'], kwargs=None), CallNode(id='-3274320108512604341', function='ExecutionEngine.get_function_address', type_params=None, args=['6944291118458973607', '-2984941212226017690'], kwargs=None), CallNode(id='-2191191792045542788', function='CFunctionType.__call__', type_params=None, args=['-4832594004965039253', '-3274320108512604341'], kwargs=None), PrimitiveNode(id='500370979468064865', type='Argument', repr='i32 %\".1\"'), CallNode(id='-7616708390101148811', function='box_value', type_params=None, args=['500370979468064865'], kwargs=None), PrimitiveNode(id='500370979543841615', type='Argument', repr='i32 %\".2\"'), CallNode(id='2480474957416993115', function='box_value', type_params=None, args=['500370979543841615'], kwargs=None), CallNode(id='-6151222628179861720', function='Vec.create', type_params=None, args=['-7616708390101148811', '2480474957416993115'], kwargs=None), CallNode(id='4978020571874080778', function='BlockRef.call', type_params=None, args=['7384941509405791799', '-3863564130294878130', '-6151222628179861720'], kwargs=None), CallNode(id='3822276655823711724', function='BlockRef.ret', type_params=None, args=['7384941509405791799', '4978020571874080778'], kwargs=None), CallNode(id='-9034749009122115577', function='FnRef.fn', type_params=None, args=['7739737322719512596', '3822276655823711724'], kwargs=None), CallNode(id='-3416993614736311076', function='ModRef.mod', type_params=None, args=['-6210335128601071026', '3494171946637035804', '-9034749009122115577'], kwargs=None), CallNode(id='-5862023583276051443', function='mod_str', type_params=None, args=['-3416993614736311076'], kwargs=None), CallNode(id='7517068547875356750', function='ModuleRef.create', type_params=None, args=['-5862023583276051443'], kwargs=None), CallNode(id='8704883222533002454', function='ModuleRef.optimize', type_params=None, args=['7517068547875356750', '3983604008656577675'], kwargs=None), CallNode(id='6465090946097499713', function='ExecutionEngine.create', type_params=None, args=['8704883222533002454'], kwargs=None), CallNode(id='475982362939326854', function='ExecutionEngine.get_function_address', type_params=None, args=['6465090946097499713', '-2984941212226017690'], kwargs=None), CallNode(id='7459206528350816472', function='CFunctionType.__call__', type_params=None, args=['-4832594004965039253', '475982362939326854'], kwargs=None), PrimitiveNode(id='6776343022675547928', type='Module', repr='; ModuleID = \"add\"\\ntarget triple = \"unknown-unknown-unknown\"\\ntarget datalayout = \"\"\\n\\ndefine i32 @\"entry_add\"(i32 %\".1\", i32 %\".2\") \\n{\\nentry:\\n}\\n'), CallNode(id='4351663900568297803', function='box_mod_ref', type_params=None, args=['6776343022675547928'], kwargs=None), CallNode(id='8335140971024092494', function='ModRef.fn', type_params=None, args=['4351663900568297803', '3348305646612022562', '2442641081084090448', '-4379724003781273686'], kwargs=None), CallNode(id='-6541836317187708498', function='FnRef._block', type_params=None, args=['8335140971024092494', '3989267796447890075', '3959146490344299550', '-8690275497361632339'], kwargs=None), CallNode(id='2019047208736654012', function='FnRef.arguments', type_params=None, args=['8335140971024092494'], kwargs=None), CallNode(id='-7761358509533537722', function='Vec.__getitem__', type_params={'T': DeclaredTypeInstance(type='Value', params=None)}, args=['2019047208736654012', '7019033112043945449'], kwargs=None), CallNode(id='1135984243038265851', function='Vec.__getitem__', type_params={'T': DeclaredTypeInstance(type='Value', params=None)}, args=['2019047208736654012', '7427462424716739544'], kwargs=None), CallNode(id='2741017937357248784', function='Vec.create', type_params=None, args=['-7761358509533537722', '1135984243038265851'], kwargs=None), CallNode(id='4653140662234762057', function='BlockRef.call', type_params=None, args=['-6541836317187708498', '8335140971024092494', '2741017937357248784'], kwargs=None), CallNode(id='7406043596945004239', function='BlockRef.ret', type_params=None, args=['-6541836317187708498', '4653140662234762057'], kwargs=None), CallNode(id='-1273243698892533788', function='FnRef.fn', type_params=None, args=['8335140971024092494', '7406043596945004239'], kwargs=None), PrimitiveNode(id='-4936174820826908713', type='Function', repr='define i32 @\"entry_add\"(i32 %\".1\", i32 %\".2\") \\n{\\nentry:\\n}\\n'), CallNode(id='4873703656565164264', function='box_fn_ref', type_params=None, args=['-4936174820826908713'], kwargs=None), PrimitiveNode(id='6317658749938089218', type='IRBuilder', repr='IRBuilder: 0x7fd178922eb8\\n%\"entry\" = entry:'), CallNode(id='-4674462332322945158', function='box_block_ref', type_params=None, args=['6317658749938089218'], kwargs=None), CallNode(id='7853517006007923296', function='BlockRef.call', type_params=None, args=['-4674462332322945158', '8335140971024092494', '-6151222628179861720'], kwargs=None), CallNode(id='-1183460941423829341', function='BlockRef.ret', type_params=None, args=['-4674462332322945158', '7853517006007923296'], kwargs=None), CallNode(id='675133001879185568', function='FnRef.fn', type_params=None, args=['4873703656565164264', '-1183460941423829341'], kwargs=None), CallNode(id='2618191636616448353', function='ModRef.mod', type_params=None, args=['4351663900568297803', '-1273243698892533788', '675133001879185568'], kwargs=None), CallNode(id='8983874398018758208', function='mod_str', type_params=None, args=['2618191636616448353'], kwargs=None), CallNode(id='8025934061151069430', function='ModuleRef.create', type_params=None, args=['8983874398018758208'], kwargs=None), CallNode(id='4922667896256906190', function='ModuleRef.optimize', type_params=None, args=['8025934061151069430', '3983604008656577675'], kwargs=None), CallNode(id='7309759114726078892', function='ExecutionEngine.create', type_params=None, args=['4922667896256906190'], kwargs=None), CallNode(id='-4738897954627031670', function='ExecutionEngine.get_function_address', type_params=None, args=['7309759114726078892', '-2984941212226017690'], kwargs=None), CallNode(id='6726549506506462070', function='CFunctionType.__call__', type_params=None, args=['-4832594004965039253', '-4738897954627031670'], kwargs=None), PrimitiveNode(id='2465745500258163737', type='Module', repr='; ModuleID = \"add\"\\ntarget triple = \"unknown-unknown-unknown\"\\ntarget datalayout = \"\"\\n\\ndefine i32 @\"entry_add\"(i32 %\".1\", i32 %\".2\") \\n{\\nentry:\\n}\\n\\ndeclare fastcc i32 @\"add\"(i32 %\".1\", i32 %\".2\") \\n'), CallNode(id='2489926339807240267', function='box_mod_ref', type_params=None, args=['2465745500258163737'], kwargs=None), PrimitiveNode(id='3885443239584966099', type='Function', repr='declare fastcc i32 @\"add\"(i32 %\".1\", i32 %\".2\") \\n'), CallNode(id='1257706538228534965', function='box_fn_ref', type_params=None, args=['3885443239584966099'], kwargs=None), CallNode(id='6892787444461948610', function='FnRef._block', type_params=None, args=['1257706538228534965', '3989267796447890075', '3959146490344299550', '-8690275497361632339'], kwargs=None), CallNode(id='4419298775450375344', function='FnRef.arguments', type_params=None, args=['1257706538228534965'], kwargs=None), CallNode(id='-1317112524168196517', function='Vec.__getitem__', type_params={'T': DeclaredTypeInstance(type='Value', params=None)}, args=['4419298775450375344', '7019033112043945449'], kwargs=None), CallNode(id='-4277872137869341850', function='Vec.__getitem__', type_params={'T': DeclaredTypeInstance(type='Value', params=None)}, args=['4419298775450375344', '7427462424716739544'], kwargs=None), CallNode(id='5755991046833985402', function='Vec.create', type_params=None, args=['-1317112524168196517', '-4277872137869341850'], kwargs=None), CallNode(id='3420480420125626778', function='BlockRef.call', type_params=None, args=['6892787444461948610', '1257706538228534965', '5755991046833985402'], kwargs=None), CallNode(id='4306538893465879847', function='BlockRef.ret', type_params=None, args=['6892787444461948610', '3420480420125626778'], kwargs=None), CallNode(id='-5149174327734208126', function='FnRef.fn', type_params=None, args=['1257706538228534965', '4306538893465879847'], kwargs=None), CallNode(id='8558265900277420132', function='BlockRef.call', type_params=None, args=['-4674462332322945158', '1257706538228534965', '-6151222628179861720'], kwargs=None), CallNode(id='7058112720285105343', function='BlockRef.ret', type_params=None, args=['-4674462332322945158', '8558265900277420132'], kwargs=None), CallNode(id='621010108331398171', function='FnRef.fn', type_params=None, args=['4873703656565164264', '7058112720285105343'], kwargs=None), CallNode(id='2937901365407098536', function='ModRef.mod', type_params=None, args=['2489926339807240267', '-5149174327734208126', '621010108331398171'], kwargs=None), CallNode(id='4086796361536144903', function='mod_str', type_params=None, args=['2937901365407098536'], kwargs=None), CallNode(id='8398225705183008161', function='ModuleRef.create', type_params=None, args=['4086796361536144903'], kwargs=None), CallNode(id='1767203794910948163', function='ModuleRef.optimize', type_params=None, args=['8398225705183008161', '3983604008656577675'], kwargs=None), CallNode(id='-4966738795038598285', function='ExecutionEngine.create', type_params=None, args=['1767203794910948163'], kwargs=None), CallNode(id='-891282996908130256', function='ExecutionEngine.get_function_address', type_params=None, args=['-4966738795038598285', '-2984941212226017690'], kwargs=None), CallNode(id='-1673254997855952562', function='CFunctionType.__call__', type_params=None, args=['-4832594004965039253', '-891282996908130256'], kwargs=None), PrimitiveNode(id='8594119418464356648', type='Module', repr='; ModuleID = \"add\"\\ntarget triple = \"unknown-unknown-unknown\"\\ntarget datalayout = \"\"\\n\\ndefine i32 @\"entry_add\"(i32 %\".1\", i32 %\".2\") \\n{\\nentry:\\n  %\".4\" = call fastcc i32 @\"add\"(i32 %\".1\", i32 %\".2\")\\n}\\n\\ndeclare fastcc i32 @\"add\"(i32 %\".1\", i32 %\".2\") \\n'), CallNode(id='-6272471128486538162', function='box_mod_ref', type_params=None, args=['8594119418464356648'], kwargs=None), PrimitiveNode(id='-269407498928847165', type='Function', repr='define i32 @\"entry_add\"(i32 %\".1\", i32 %\".2\") \\n{\\nentry:\\n  %\".4\" = call fastcc i32 @\"add\"(i32 %\".1\", i32 %\".2\")\\n}\\n'), CallNode(id='-3742080571003151394', function='box_fn_ref', type_params=None, args=['-269407498928847165'], kwargs=None), PrimitiveNode(id='-8189292920935434047', type='CallInstr', repr='%\".4\" = call fastcc i32 @\"add\"(i32 %\".1\", i32 %\".2\")'), CallNode(id='-4205899661475393402', function='box_value', type_params=None, args=['-8189292920935434047'], kwargs=None), CallNode(id='-1902328135573598283', function='BlockRef.ret', type_params=None, args=['-4674462332322945158', '-4205899661475393402'], kwargs=None), CallNode(id='-1637209301238491735', function='FnRef.fn', type_params=None, args=['-3742080571003151394', '-1902328135573598283'], kwargs=None), CallNode(id='97124551889127034', function='ModRef.mod', type_params=None, args=['-6272471128486538162', '-5149174327734208126', '-1637209301238491735'], kwargs=None), CallNode(id='4871125263158138040', function='mod_str', type_params=None, args=['97124551889127034'], kwargs=None), CallNode(id='5143106400084579467', function='ModuleRef.create', type_params=None, args=['4871125263158138040'], kwargs=None), CallNode(id='-914647800888802774', function='ModuleRef.optimize', type_params=None, args=['5143106400084579467', '3983604008656577675'], kwargs=None), CallNode(id='3694898028248997214', function='ExecutionEngine.create', type_params=None, args=['-914647800888802774'], kwargs=None), CallNode(id='1191895857152970138', function='ExecutionEngine.get_function_address', type_params=None, args=['3694898028248997214', '-2984941212226017690'], kwargs=None), CallNode(id='2038865093419554316', function='CFunctionType.__call__', type_params=None, args=['-4832594004965039253', '1191895857152970138'], kwargs=None), PrimitiveNode(id='-7615853760160376545', type='Module', repr='; ModuleID = \"add\"\\ntarget triple = \"unknown-unknown-unknown\"\\ntarget datalayout = \"\"\\n\\ndefine i32 @\"entry_add\"(i32 %\".1\", i32 %\".2\") \\n{\\nentry:\\n  %\".4\" = call fastcc i32 @\"add\"(i32 %\".1\", i32 %\".2\")\\n  ret i32 %\".4\"\\n}\\n\\ndeclare fastcc i32 @\"add\"(i32 %\".1\", i32 %\".2\") \\n'), CallNode(id='-8852697731284023355', function='box_mod_ref', type_params=None, args=['-7615853760160376545'], kwargs=None), PrimitiveNode(id='-5077324270752707859', type='Function', repr='define i32 @\"entry_add\"(i32 %\".1\", i32 %\".2\") \\n{\\nentry:\\n  %\".4\" = call fastcc i32 @\"add\"(i32 %\".1\", i32 %\".2\")\\n  ret i32 %\".4\"\\n}\\n'), CallNode(id='-7725529090938301690', function='box_fn_ref', type_params=None, args=['-5077324270752707859'], kwargs=None), CallNode(id='4470972555669354524', function='box_terminate', type_params=None, args=['6317658749938089218'], kwargs=None), CallNode(id='-5351511738252284813', function='FnRef.fn', type_params=None, args=['-7725529090938301690', '4470972555669354524'], kwargs=None), CallNode(id='-1201333337689137532', function='ModRef.mod', type_params=None, args=['-8852697731284023355', '-5149174327734208126', '-5351511738252284813'], kwargs=None), CallNode(id='1409926450391551022', function='mod_str', type_params=None, args=['-1201333337689137532'], kwargs=None), CallNode(id='2252612054095275775', function='ModuleRef.create', type_params=None, args=['1409926450391551022'], kwargs=None), CallNode(id='-6230342599111441496', function='ModuleRef.optimize', type_params=None, args=['2252612054095275775', '3983604008656577675'], kwargs=None), CallNode(id='6225749231942204578', function='ExecutionEngine.create', type_params=None, args=['-6230342599111441496'], kwargs=None), CallNode(id='564255107099393089', function='ExecutionEngine.get_function_address', type_params=None, args=['6225749231942204578', '-2984941212226017690'], kwargs=None), CallNode(id='-5811030187244999607', function='CFunctionType.__call__', type_params=None, args=['-4832594004965039253', '564255107099393089'], kwargs=None), CallNode(id='-7645294536138797360', function='FnRef.fn', type_params=None, args=['-7725529090938301690'], kwargs=None), CallNode(id='7976182866730371144', function='ModRef.mod', type_params=None, args=['-8852697731284023355', '-5149174327734208126', '-7645294536138797360'], kwargs=None), CallNode(id='1236843416956802237', function='mod_str', type_params=None, args=['7976182866730371144'], kwargs=None), CallNode(id='777244694551309512', function='ModuleRef.create', type_params=None, args=['1236843416956802237'], kwargs=None), CallNode(id='-6724891487684546593', function='ModuleRef.optimize', type_params=None, args=['777244694551309512', '3983604008656577675'], kwargs=None), CallNode(id='6153147694722191661', function='ExecutionEngine.create', type_params=None, args=['-6724891487684546593'], kwargs=None), CallNode(id='1052992627035415306', function='ExecutionEngine.get_function_address', type_params=None, args=['6153147694722191661', '-2984941212226017690'], kwargs=None), CallNode(id='-6514363097946830020', function='CFunctionType.__call__', type_params=None, args=['-4832594004965039253', '1052992627035415306'], kwargs=None), CallNode(id='-6899877685203227790', function='box_fn', type_params=None, args=['-5077324270752707859'], kwargs=None), CallNode(id='-4942436815101789929', function='ModRef.mod', type_params=None, args=['-8852697731284023355', '-5149174327734208126', '-6899877685203227790'], kwargs=None), CallNode(id='8616230821233872883', function='mod_str', type_params=None, args=['-4942436815101789929'], kwargs=None), CallNode(id='-3486191520841570409', function='ModuleRef.create', type_params=None, args=['8616230821233872883'], kwargs=None), CallNode(id='1276565762334498457', function='ModuleRef.optimize', type_params=None, args=['-3486191520841570409', '3983604008656577675'], kwargs=None), CallNode(id='3313458019365557505', function='ExecutionEngine.create', type_params=None, args=['1276565762334498457'], kwargs=None), CallNode(id='-7516709399840457485', function='ExecutionEngine.get_function_address', type_params=None, args=['3313458019365557505', '-2984941212226017690'], kwargs=None), CallNode(id='-6740311514256297970', function='CFunctionType.__call__', type_params=None, args=['-4832594004965039253', '-7516709399840457485'], kwargs=None), PrimitiveNode(id='500207867640795065', type='Argument', repr='i32 %\".1\"'), CallNode(id='-4324590444276242915', function='box_value', type_params=None, args=['500207867640795065'], kwargs=None), PrimitiveNode(id='500207867671105765', type='Argument', repr='i32 %\".2\"'), CallNode(id='1515220223422649833', function='box_value', type_params=None, args=['500207867671105765'], kwargs=None), CallNode(id='-1551052443761223463', function='Vec.create', type_params=None, args=['-4324590444276242915', '1515220223422649833'], kwargs=None), CallNode(id='-644559466259672285', function='Vec.__getitem__', type_params={'T': DeclaredTypeInstance(type='Value', params=None)}, args=['-1551052443761223463', '7019033112043945449'], kwargs=None), CallNode(id='1822748649723232782', function='Vec.__getitem__', type_params={'T': DeclaredTypeInstance(type='Value', params=None)}, args=['-1551052443761223463', '7427462424716739544'], kwargs=None), CallNode(id='-1309085053172690325', function='Vec.create', type_params=None, args=['-644559466259672285', '1822748649723232782'], kwargs=None), CallNode(id='-3086954404464090645', function='BlockRef.call', type_params=None, args=['6892787444461948610', '1257706538228534965', '-1309085053172690325'], kwargs=None), CallNode(id='6345043774583972696', function='BlockRef.ret', type_params=None, args=['6892787444461948610', '-3086954404464090645'], kwargs=None), CallNode(id='1559121448409756680', function='FnRef.fn', type_params=None, args=['1257706538228534965', '6345043774583972696'], kwargs=None), CallNode(id='-8415184054321804033', function='ModRef.mod', type_params=None, args=['-8852697731284023355', '1559121448409756680', '-6899877685203227790'], kwargs=None), CallNode(id='-2736193278060492410', function='mod_str', type_params=None, args=['-8415184054321804033'], kwargs=None), CallNode(id='5239805188511383456', function='ModuleRef.create', type_params=None, args=['-2736193278060492410'], kwargs=None), CallNode(id='6597185196389297213', function='ModuleRef.optimize', type_params=None, args=['5239805188511383456', '3983604008656577675'], kwargs=None), CallNode(id='-8888525679014521257', function='ExecutionEngine.create', type_params=None, args=['6597185196389297213'], kwargs=None), CallNode(id='-707648893866439279', function='ExecutionEngine.get_function_address', type_params=None, args=['-8888525679014521257', '-2984941212226017690'], kwargs=None), CallNode(id='-5034474996639245159', function='CFunctionType.__call__', type_params=None, args=['-4832594004965039253', '-707648893866439279'], kwargs=None), PrimitiveNode(id='-4548144586331202159', type='Module', repr='; ModuleID = \"add\"\\ntarget triple = \"unknown-unknown-unknown\"\\ntarget datalayout = \"\"\\n\\ndefine i32 @\"entry_add\"(i32 %\".1\", i32 %\".2\") \\n{\\nentry:\\n  %\".4\" = call fastcc i32 @\"add\"(i32 %\".1\", i32 %\".2\")\\n  ret i32 %\".4\"\\n}\\n\\ndefine fastcc i32 @\"add\"(i32 %\".1\", i32 %\".2\") \\n{\\n.4:\\n}\\n'), CallNode(id='-1367340470635149031', function='box_mod_ref', type_params=None, args=['-4548144586331202159'], kwargs=None), PrimitiveNode(id='6312413034054826833', type='Function', repr='define fastcc i32 @\"add\"(i32 %\".1\", i32 %\".2\") \\n{\\n.4:\\n}\\n'), CallNode(id='-765731616855142514', function='box_fn_ref', type_params=None, args=['6312413034054826833'], kwargs=None), PrimitiveNode(id='3852292967405964317', type='IRBuilder', repr='IRBuilder: 0x7fd128360c88\\n%\".4\" = .4:'), CallNode(id='-9037535142104501112', function='box_block_ref', type_params=None, args=['3852292967405964317'], kwargs=None), CallNode(id='-2289966528081407933', function='BlockRef.call', type_params=None, args=['-9037535142104501112', '-765731616855142514', '-1309085053172690325'], kwargs=None), CallNode(id='6228407120729220190', function='BlockRef.ret', type_params=None, args=['-9037535142104501112', '-2289966528081407933'], kwargs=None), CallNode(id='5166465478677342737', function='FnRef.fn', type_params=None, args=['-765731616855142514', '6228407120729220190'], kwargs=None), CallNode(id='3138775589803554233', function='ModRef.mod', type_params=None, args=['-1367340470635149031', '5166465478677342737', '-6899877685203227790'], kwargs=None), CallNode(id='8303296965047071096', function='mod_str', type_params=None, args=['3138775589803554233'], kwargs=None), CallNode(id='-1855606402225873378', function='ModuleRef.create', type_params=None, args=['8303296965047071096'], kwargs=None), CallNode(id='5642153082266000049', function='ModuleRef.optimize', type_params=None, args=['-1855606402225873378', '3983604008656577675'], kwargs=None), CallNode(id='-3198149182189468957', function='ExecutionEngine.create', type_params=None, args=['5642153082266000049'], kwargs=None), CallNode(id='4321921909832995027', function='ExecutionEngine.get_function_address', type_params=None, args=['-3198149182189468957', '-2984941212226017690'], kwargs=None), CallNode(id='713649164856278818', function='CFunctionType.__call__', type_params=None, args=['-4832594004965039253', '4321921909832995027'], kwargs=None), CallNode(id='3708634083404145494', function='Vec.create', type_params=None, args=['-644559466259672285', '1515220223422649833'], kwargs=None), CallNode(id='3879630368658026551', function='BlockRef.call', type_params=None, args=['-9037535142104501112', '-765731616855142514', '3708634083404145494'], kwargs=None), CallNode(id='-3256207116887921017', function='BlockRef.ret', type_params=None, args=['-9037535142104501112', '3879630368658026551'], kwargs=None), CallNode(id='-4107040346427585301', function='FnRef.fn', type_params=None, args=['-765731616855142514', '-3256207116887921017'], kwargs=None), CallNode(id='-5504640998498092848', function='ModRef.mod', type_params=None, args=['-1367340470635149031', '-4107040346427585301', '-6899877685203227790'], kwargs=None), CallNode(id='-6530311953853282900', function='mod_str', type_params=None, args=['-5504640998498092848'], kwargs=None), CallNode(id='-8870918914107998949', function='ModuleRef.create', type_params=None, args=['-6530311953853282900'], kwargs=None), CallNode(id='6409308122268849455', function='ModuleRef.optimize', type_params=None, args=['-8870918914107998949', '3983604008656577675'], kwargs=None), CallNode(id='-7526395101836736759', function='ExecutionEngine.create', type_params=None, args=['6409308122268849455'], kwargs=None), CallNode(id='-7344569644720858913', function='ExecutionEngine.get_function_address', type_params=None, args=['-7526395101836736759', '-2984941212226017690'], kwargs=None), CallNode(id='-7068964102394056646', function='CFunctionType.__call__', type_params=None, args=['-4832594004965039253', '-7344569644720858913'], kwargs=None), CallNode(id='-5064487298467820955', function='BlockRef.call', type_params=None, args=['-9037535142104501112', '-765731616855142514', '-1551052443761223463'], kwargs=None), CallNode(id='7293436068608305982', function='BlockRef.ret', type_params=None, args=['-9037535142104501112', '-5064487298467820955'], kwargs=None), CallNode(id='4027319520420986758', function='FnRef.fn', type_params=None, args=['-765731616855142514', '7293436068608305982'], kwargs=None), CallNode(id='7419846131855845597', function='ModRef.mod', type_params=None, args=['-1367340470635149031', '4027319520420986758', '-6899877685203227790'], kwargs=None), CallNode(id='-863973282753334614', function='mod_str', type_params=None, args=['7419846131855845597'], kwargs=None), CallNode(id='8466430618570478619', function='ModuleRef.create', type_params=None, args=['-863973282753334614'], kwargs=None), CallNode(id='6064786528303184049', function='ModuleRef.optimize', type_params=None, args=['8466430618570478619', '3983604008656577675'], kwargs=None), CallNode(id='-818250961349310237', function='ExecutionEngine.create', type_params=None, args=['6064786528303184049'], kwargs=None), CallNode(id='-7412419107400994778', function='ExecutionEngine.get_function_address', type_params=None, args=['-818250961349310237', '-2984941212226017690'], kwargs=None), CallNode(id='2918499729341472431', function='CFunctionType.__call__', type_params=None, args=['-4832594004965039253', '-7412419107400994778'], kwargs=None), PrimitiveNode(id='-9061468815800164268', type='Module', repr='; ModuleID = \"add\"\\ntarget triple = \"unknown-unknown-unknown\"\\ntarget datalayout = \"\"\\n\\ndefine i32 @\"entry_add\"(i32 %\".1\", i32 %\".2\") \\n{\\nentry:\\n  %\".4\" = call fastcc i32 @\"add\"(i32 %\".1\", i32 %\".2\")\\n  ret i32 %\".4\"\\n}\\n\\ndefine fastcc i32 @\"add\"(i32 %\".1\", i32 %\".2\") \\n{\\n.4:\\n  %\".5\" = call fastcc i32 @\"add\"(i32 %\".1\", i32 %\".2\")\\n}\\n'), CallNode(id='8008497358442606364', function='box_mod_ref', type_params=None, args=['-9061468815800164268'], kwargs=None), PrimitiveNode(id='-6423808052982626054', type='Function', repr='define fastcc i32 @\"add\"(i32 %\".1\", i32 %\".2\") \\n{\\n.4:\\n  %\".5\" = call fastcc i32 @\"add\"(i32 %\".1\", i32 %\".2\")\\n}\\n'), CallNode(id='-4901327010329756007', function='box_fn_ref', type_params=None, args=['-6423808052982626054'], kwargs=None), PrimitiveNode(id='-8189111261552411622', type='CallInstr', repr='%\".5\" = call fastcc i32 @\"add\"(i32 %\".1\", i32 %\".2\")'), CallNode(id='9167021771502251827', function='box_value', type_params=None, args=['-8189111261552411622'], kwargs=None), CallNode(id='-7615928623309518679', function='BlockRef.ret', type_params=None, args=['-9037535142104501112', '9167021771502251827'], kwargs=None), CallNode(id='5864689890226262638', function='FnRef.fn', type_params=None, args=['-4901327010329756007', '-7615928623309518679'], kwargs=None), CallNode(id='-5875973304764401908', function='ModRef.mod', type_params=None, args=['8008497358442606364', '5864689890226262638', '-6899877685203227790'], kwargs=None), CallNode(id='8031096867992421384', function='mod_str', type_params=None, args=['-5875973304764401908'], kwargs=None), CallNode(id='4168790310482751566', function='ModuleRef.create', type_params=None, args=['8031096867992421384'], kwargs=None), CallNode(id='-5305407324075087944', function='ModuleRef.optimize', type_params=None, args=['4168790310482751566', '3983604008656577675'], kwargs=None), CallNode(id='-1673921466068499022', function='ExecutionEngine.create', type_params=None, args=['-5305407324075087944'], kwargs=None), CallNode(id='-2752255442843405309', function='ExecutionEngine.get_function_address', type_params=None, args=['-1673921466068499022', '-2984941212226017690'], kwargs=None), CallNode(id='-4654801225070970716', function='CFunctionType.__call__', type_params=None, args=['-4832594004965039253', '-2752255442843405309'], kwargs=None), PrimitiveNode(id='-8687326944279965820', type='Module', repr='; ModuleID = \"add\"\\ntarget triple = \"unknown-unknown-unknown\"\\ntarget datalayout = \"\"\\n\\ndefine i32 @\"entry_add\"(i32 %\".1\", i32 %\".2\") \\n{\\nentry:\\n  %\".4\" = call fastcc i32 @\"add\"(i32 %\".1\", i32 %\".2\")\\n  ret i32 %\".4\"\\n}\\n\\ndefine fastcc i32 @\"add\"(i32 %\".1\", i32 %\".2\") \\n{\\n.4:\\n  %\".5\" = call fastcc i32 @\"add\"(i32 %\".1\", i32 %\".2\")\\n  ret i32 %\".5\"\\n}\\n'), CallNode(id='-3966301987827582420', function='box_mod_ref', type_params=None, args=['-8687326944279965820'], kwargs=None), PrimitiveNode(id='-6715189300246302014', type='Function', repr='define fastcc i32 @\"add\"(i32 %\".1\", i32 %\".2\") \\n{\\n.4:\\n  %\".5\" = call fastcc i32 @\"add\"(i32 %\".1\", i32 %\".2\")\\n  ret i32 %\".5\"\\n}\\n'), CallNode(id='-7483133930066310111', function='box_fn_ref', type_params=None, args=['-6715189300246302014'], kwargs=None), CallNode(id='-4404759061735208562', function='box_terminate', type_params=None, args=['3852292967405964317'], kwargs=None), CallNode(id='6649827970072395026', function='FnRef.fn', type_params=None, args=['-7483133930066310111', '-4404759061735208562'], kwargs=None), CallNode(id='-598671561846144156', function='ModRef.mod', type_params=None, args=['-3966301987827582420', '6649827970072395026', '-6899877685203227790'], kwargs=None), CallNode(id='-5011847518384502898', function='mod_str', type_params=None, args=['-598671561846144156'], kwargs=None), CallNode(id='1453311182042600693', function='ModuleRef.create', type_params=None, args=['-5011847518384502898'], kwargs=None), CallNode(id='6266384820339911458', function='ModuleRef.optimize', type_params=None, args=['1453311182042600693', '3983604008656577675'], kwargs=None), CallNode(id='1722183441867247896', function='ExecutionEngine.create', type_params=None, args=['6266384820339911458'], kwargs=None), CallNode(id='-7047847689794054051', function='ExecutionEngine.get_function_address', type_params=None, args=['1722183441867247896', '-2984941212226017690'], kwargs=None), CallNode(id='-7178290893210183988', function='CFunctionType.__call__', type_params=None, args=['-4832594004965039253', '-7047847689794054051'], kwargs=None), CallNode(id='6718939837418185193', function='FnRef.fn', type_params=None, args=['-7483133930066310111'], kwargs=None), CallNode(id='2807570730457051275', function='ModRef.mod', type_params=None, args=['-3966301987827582420', '6718939837418185193', '-6899877685203227790'], kwargs=None), CallNode(id='-6863905603648027178', function='mod_str', type_params=None, args=['2807570730457051275'], kwargs=None), CallNode(id='-8431301022209351091', function='ModuleRef.create', type_params=None, args=['-6863905603648027178'], kwargs=None), CallNode(id='-6224525723993538251', function='ModuleRef.optimize', type_params=None, args=['-8431301022209351091', '3983604008656577675'], kwargs=None), CallNode(id='6000333921279485027', function='ExecutionEngine.create', type_params=None, args=['-6224525723993538251'], kwargs=None), CallNode(id='-7042866411773397908', function='ExecutionEngine.get_function_address', type_params=None, args=['6000333921279485027', '-2984941212226017690'], kwargs=None), CallNode(id='-3371362353047500223', function='CFunctionType.__call__', type_params=None, args=['-4832594004965039253', '-7042866411773397908'], kwargs=None), CallNode(id='8143723092513051205', function='box_fn', type_params=None, args=['-6715189300246302014'], kwargs=None), CallNode(id='3257173939245391560', function='ModRef.mod', type_params=None, args=['-3966301987827582420', '8143723092513051205', '-6899877685203227790'], kwargs=None), CallNode(id='1574985771760957991', function='mod_str', type_params=None, args=['3257173939245391560'], kwargs=None), CallNode(id='-7434444651053860054', function='ModuleRef.create', type_params=None, args=['1574985771760957991'], kwargs=None), CallNode(id='2356822191988984896', function='ModuleRef.optimize', type_params=None, args=['-7434444651053860054', '3983604008656577675'], kwargs=None), CallNode(id='-6582677247887448295', function='ExecutionEngine.create', type_params=None, args=['2356822191988984896'], kwargs=None), CallNode(id='706502100328630946', function='ExecutionEngine.get_function_address', type_params=None, args=['-6582677247887448295', '-2984941212226017690'], kwargs=None), CallNode(id='-1149959015099922172', function='CFunctionType.__call__', type_params=None, args=['-4832594004965039253', '706502100328630946'], kwargs=None), CallNode(id='-8765660574435082854', function='ModRef.mod', type_params=None, args=['-3966301987827582420', '-6899877685203227790'], kwargs=None), CallNode(id='6180887303910876953', function='mod_str', type_params=None, args=['-8765660574435082854'], kwargs=None), CallNode(id='-77720018981276098', function='ModuleRef.create', type_params=None, args=['6180887303910876953'], kwargs=None), CallNode(id='-4421779455676632687', function='ModuleRef.optimize', type_params=None, args=['-77720018981276098', '3983604008656577675'], kwargs=None), CallNode(id='7378297721675550828', function='ExecutionEngine.create', type_params=None, args=['-4421779455676632687'], kwargs=None), CallNode(id='738956890016249162', function='ExecutionEngine.get_function_address', type_params=None, args=['7378297721675550828', '-2984941212226017690'], kwargs=None), CallNode(id='-8659366449294533508', function='CFunctionType.__call__', type_params=None, args=['-4832594004965039253', '738956890016249162'], kwargs=None), CallNode(id='-1120318032772586554', function='ModRef.mod', type_params=None, args=['-3966301987827582420'], kwargs=None), CallNode(id='-791337292397763836', function='mod_str', type_params=None, args=['-1120318032772586554'], kwargs=None), CallNode(id='-750136077161759139', function='ModuleRef.create', type_params=None, args=['-791337292397763836'], kwargs=None), CallNode(id='4179832963916206074', function='ModuleRef.optimize', type_params=None, args=['-750136077161759139', '3983604008656577675'], kwargs=None), CallNode(id='7194279470013010011', function='ExecutionEngine.create', type_params=None, args=['4179832963916206074'], kwargs=None), CallNode(id='-7180514002379633273', function='ExecutionEngine.get_function_address', type_params=None, args=['7194279470013010011', '-2984941212226017690'], kwargs=None), CallNode(id='5495422268790862226', function='CFunctionType.__call__', type_params=None, args=['-4832594004965039253', '-7180514002379633273'], kwargs=None), CallNode(id='-5939732961686188760', function='box_mod', type_params=None, args=['-8687326944279965820'], kwargs=None), CallNode(id='-4861737022296446748', function='mod_str', type_params=None, args=['-5939732961686188760'], kwargs=None), CallNode(id='-2208887717030686141', function='ModuleRef.create', type_params=None, args=['-4861737022296446748'], kwargs=None), CallNode(id='-2208048307914489708', function='ModuleRef.optimize', type_params=None, args=['-2208887717030686141', '3983604008656577675'], kwargs=None), CallNode(id='-4023825143025006584', function='ExecutionEngine.create', type_params=None, args=['-2208048307914489708'], kwargs=None), CallNode(id='-8978757382759681806', function='ExecutionEngine.get_function_address', type_params=None, args=['-4023825143025006584', '-2984941212226017690'], kwargs=None), CallNode(id='7495894519544051435', function='CFunctionType.__call__', type_params=None, args=['-4832594004965039253', '-8978757382759681806'], kwargs=None), PrimitiveNode(id='-2696661178855109650', type='str', repr='; ModuleID = \"add\"\\ntarget triple = \"unknown-unknown-unknown\"\\ntarget datalayout = \"\"\\n\\ndefine i32 @\"entry_add\"(i32 %\".1\", i32 %\".2\") \\n{\\nentry:\\n  %\".4\" = call fastcc i32 @\"add\"(i32 %\".1\", i32 %\".2\")\\n  ret i32 %\".4\"\\n}\\n\\ndefine fastcc i32 @\"add\"(i32 %\".1\", i32 %\".2\") \\n{\\n.4:\\n  %\".5\" = call fastcc i32 @\"add\"(i32 %\".1\", i32 %\".2\")\\n  ret i32 %\".5\"\\n}\\n'), CallNode(id='-4761003710543835112', function='ModuleRef.create', type_params=None, args=['-2696661178855109650'], kwargs=None), CallNode(id='4145590852026049817', function='ModuleRef.optimize', type_params=None, args=['-4761003710543835112', '3983604008656577675'], kwargs=None), CallNode(id='3471830426991813902', function='ExecutionEngine.create', type_params=None, args=['4145590852026049817'], kwargs=None), CallNode(id='-5762917433938247190', function='ExecutionEngine.get_function_address', type_params=None, args=['3471830426991813902', '-2984941212226017690'], kwargs=None), CallNode(id='-3841463511607152362', function='CFunctionType.__call__', type_params=None, args=['-4832594004965039253', '-5762917433938247190'], kwargs=None), PrimitiveNode(id='-1950053415524414408', type='PyCSimpleType', repr=\"<class 'ctypes.c_int'>\"), CallNode(id='2299536443148728462', function='CType.box', type_params=None, args=['-1950053415524414408'], kwargs=None), CallNode(id='1725463328951597571', function='CFunctionType.create', type_params=None, args=['2299536443148728462', '2299536443148728462', '2299536443148728462'], kwargs=None), CallNode(id='2054201666431880220', function='CFunctionType.__call__', type_params=None, args=['1725463328951597571', '-5762917433938247190'], kwargs=None), PrimitiveNode(id='-1950302344216869683', type='PyCFuncPtrType', repr=\"<class 'ctypes.CFUNCTYPE.<locals>.CFunctionType'>\"), CallNode(id='-5877599699329844787', function='CFunctionType.box', type_params=None, args=['-1950302344216869683'], kwargs=None), CallNode(id='1923705568975428324', function='CFunctionType.__call__', type_params=None, args=['-5877599699329844787', '-5762917433938247190'], kwargs=None), PrimitiveNode(id='-1704223926198935570', type='ModuleRef', repr='; ModuleID = \\'<string>\\'\\nsource_filename = \"<string>\"\\ntarget triple = \"unknown-unknown-unknown\"\\n\\ndefine i32 @entry_add(i32 %.1, i32 %.2) {\\nentry:\\n  %.4 = call fastcc i32 @add(i32 %.1, i32 %.2)\\n  ret i32 %.4\\n}\\n\\ndefine fastcc i32 @add(i32 %.1, i32 %.2) {\\n.4:\\n  %.5 = call fastcc i32 @add(i32 %.1, i32 %.2)\\n  ret i32 %.5\\n}\\n'), CallNode(id='-3296101391547468034', function='ModuleRef.box', type_params=None, args=['-1704223926198935570'], kwargs=None), CallNode(id='-573553263703079974', function='ModuleRef.optimize', type_params=None, args=['-3296101391547468034', '3983604008656577675'], kwargs=None), CallNode(id='464187772066750414', function='ExecutionEngine.create', type_params=None, args=['-573553263703079974'], kwargs=None), CallNode(id='-6297686128253966185', function='ExecutionEngine.get_function_address', type_params=None, args=['464187772066750414', '-2984941212226017690'], kwargs=None), CallNode(id='2174768958089449275', function='CFunctionType.__call__', type_params=None, args=['-5877599699329844787', '-6297686128253966185'], kwargs=None), CallNode(id='-8921827123480003315', function='ExecutionEngine.create', type_params=None, args=['-3296101391547468034'], kwargs=None), CallNode(id='-843186236675084885', function='ExecutionEngine.get_function_address', type_params=None, args=['-8921827123480003315', '-2984941212226017690'], kwargs=None), CallNode(id='772244477741411849', function='CFunctionType.__call__', type_params=None, args=['-5877599699329844787', '-843186236675084885'], kwargs=None), PrimitiveNode(id='-1709978632393059145', type='ExecutionEngine', repr='<llvmlite.binding.executionengine.ExecutionEngine object at 0x7fd178946c50>'), CallNode(id='6819278607946261351', function='ExecutionEngine.box', type_params=None, args=['-1709978632393059145'], kwargs=None), CallNode(id='-3897010999051128456', function='ExecutionEngine.get_function_address', type_params=None, args=['6819278607946261351', '-2984941212226017690'], kwargs=None), CallNode(id='-7668733758383835307', function='CFunctionType.__call__', type_params=None, args=['-5877599699329844787', '-3897010999051128456'], kwargs=None), PrimitiveNode(id='3978874826688559400', type='int', repr='4389310464'), CallNode(id='5308685791980978383', function='CFunctionType.__call__', type_params=None, args=['-5877599699329844787', '3978874826688559400'], kwargs=None), PrimitiveNode(id='-1705957765701893570', type='CFUNCTYPE.<locals>.CFunctionType', repr='<CFunctionType object at 0x7fd140b8ac00>')], states=States(initial='-8701596627293156771', states=[State(node='2445887772114549826', rule='metadsl_llvm.ir_context.llvm_fn_to_from_llvm_fn_2', label=None), State(node='-8470299469880062915', rule='metadsl_core.function.FunctionTwo.unfix', label=None), State(node='4547928391453373629', rule='metadsl_core.function.FunctionTwo.from_fn', label=None), State(node='-5515445831195181299', rule='metadsl_core.abstraction.Abstraction.from_fn', label=None), State(node='4452976038576809975', rule='metadsl_core.abstraction.Abstraction.from_fn', label=None), State(node='-4314304193667053814', rule='metadsl_core.abstraction.Abstraction.from_fn', label=None), State(node='-2796150561300737003', rule='metadsl_core.function.FunctionTwo.from_fn', label=None), State(node='7966896949344569149', rule='metadsl_core.abstraction.Abstraction.from_fn', label=None), State(node='-3546509266772998999', rule='metadsl_core.abstraction.Abstraction.from_fn', label=None), State(node='7617988137339795027', rule='metadsl_core.abstraction.beta_reduce', label=None), State(node='6342241498368032744', rule='metadsl_core.function.two_abstraction', label=None), State(node='-5436555261776426862', rule='metadsl_core.function.two_name', label=None), State(node='2535935791166963605', rule='metadsl_core.function.two_abstraction', label=None), State(node='2539891804383287550', rule='metadsl_core.function.two_name', label=None), State(node='-3170056907591969106', rule='metadsl_core.function.two_call', label=None), State(node='-6110972130824645524', rule='metadsl_core.abstraction.Abstraction.from_fn', label=None), State(node='-7916665443624704244', rule='metadsl_core.abstraction.Abstraction.from_fn', label=None), State(node='-1027299714841124041', rule='metadsl_core.abstraction.Abstraction.from_fn', label=None), State(node='-8953253546667471422', rule='metadsl_core.abstraction.Abstraction.from_fn', label=None), State(node='4920615247983478654', rule='metadsl_core.abstraction.unfix_normal', label=None), State(node='4828524545797538635', rule='metadsl_core.abstraction.Abstraction.from_fn', label=None), State(node='8599945862896542573', rule='metadsl_core.abstraction.beta_reduce', label=None), State(node='2719545790712891432', rule='metadsl_core.abstraction.beta_reduce', label=None), State(node='41196421293663954', rule='metadsl_core.abstraction.beta_reduce', label=None), State(node='41196421293663954', rule='', label='core'), State(node='1904940434664386576', rule='metadsl_llvm.ir_context.to_from_llvm_fn_1', label=None), State(node='6514526944647149626', rule='metadsl_llvm.ir_context.build_call_2', label=None), State(node='3236906796933894866', rule='metadsl_llvm.ir_context.build_constant', label=None), State(node='-7784077052199939513', rule='metadsl_llvm.ir_context.build_constant', label=None), State(node='-6334574905740124903', rule='metadsl_core.pair.pair_left', label=None), State(node='4946968024507453469', rule='metadsl_core.pair.pair_right', label=None), State(node='-1254805090677996000', rule='metadsl_core.pair.pair_left', label=None), State(node='-5345513567231697884', rule='metadsl_core.pair.pair_left', label=None), State(node='1669400093903846853', rule='metadsl_llvm.ir.fn_ref', label=None), State(node='3726243881660229726', rule='metadsl_core.pair.pair_right', label=None), State(node='-5375672347832088877', rule='metadsl_core.pair.pair_right', label=None), State(node='17540336670706975', rule='metadsl_core.pair.pair_left', label=None), State(node='7255795582733190332', rule='metadsl_core.pair.pair_right', label=None), State(node='-9122255056598309363', rule='metadsl_llvm.ir.fn_add_block', label=None), State(node='3382780185605493357', rule='metadsl_llvm.ir.fn_ref', label=None), State(node='3382780185605493357', rule='', label='llvmlite.context'), State(node='-6979877943989380145', rule='metadsl_llvm.integration.compile_function', label=None), State(node='4083581833962692103', rule='metadsl_llvm.ir.mod_add_fn', label=None), State(node='8576777687872011638', rule='metadsl_llvm.ir.fn_ref_get_name', label=None), State(node='7612553953281520871', rule='metadsl_llvm.integration.concat_strings', label=None), State(node='-7425953175394274092', rule='metadsl_llvm.ir.mod_ref', label=None), State(node='-5969441712762382042', rule='metadsl_llvm.ir.fn_ref_get_type', label=None), State(node='7830857287434364001', rule='metadsl_llvm.integration.llvm_to_c_fn_type_rule', label=None), State(node='-9218201750568846196', rule='metadsl_llvm.integration.llvm_to_c_fn_int', label=None), State(node='-9218201750568846196', rule='', label='llvmlite.integration'), State(node='-7248996879632524721', rule='metadsl_llvm.ir_llvmlite.type_create_int_box', label=None), State(node='-5073721636441852875', rule='metadsl_llvm.ir_llvmlite.function_type_box_2', label=None), State(node='-1790203810296832343', rule='metadsl_llvm.ir_llvmlite.box_mod_ref_create', label=None), State(node='-2191191792045542788', rule='metadsl_llvm.ir_llvmlite.box_fn_ref_create', label=None), State(node='7459206528350816472', rule='metadsl_llvm.ir_llvmlite.fn_ref_arguments', label=None), State(node='6726549506506462070', rule='metadsl_llvm.ir_llvmlite.block_ref_create', label=None), State(node='-1673254997855952562', rule='metadsl_llvm.ir_llvmlite.box_fn_ref_create', label=None), State(node='2038865093419554316', rule='metadsl_llvm.ir_llvmlite.block_ref_call_2', label=None), State(node='-5811030187244999607', rule='metadsl_llvm.ir_llvmlite.block_ref_ret', label=None), State(node='-6514363097946830020', rule='metadsl_llvm.ir_llvmlite.create_box_fn', label=None), State(node='-6740311514256297970', rule='metadsl_llvm.ir_llvmlite.create_box_fn', label=None), State(node='-5034474996639245159', rule='metadsl_llvm.ir_llvmlite.fn_ref_arguments', label=None), State(node='713649164856278818', rule='metadsl_llvm.ir_llvmlite.block_ref_create', label=None), State(node='-7068964102394056646', rule='metadsl_core.vec.getitem', label=None), State(node='2918499729341472431', rule='metadsl_core.vec.getitem', label=None), State(node='-4654801225070970716', rule='metadsl_llvm.ir_llvmlite.block_ref_call_2', label=None), State(node='-7178290893210183988', rule='metadsl_llvm.ir_llvmlite.block_ref_ret', label=None), State(node='-3371362353047500223', rule='metadsl_llvm.ir_llvmlite.create_box_fn', label=None), State(node='-1149959015099922172', rule='metadsl_llvm.ir_llvmlite.create_box_fn', label=None), State(node='-8659366449294533508', rule='metadsl_llvm.ir_llvmlite.create_box_mod', label=None), State(node='5495422268790862226', rule='metadsl_llvm.ir_llvmlite.create_box_mod', label=None), State(node='7495894519544051435', rule='metadsl_llvm.ir_llvmlite.create_box_mod', label=None), State(node='-3841463511607152362', rule='metadsl_llvm.ir_llvmlite.mod_str_rule', label=None), State(node='-3841463511607152362', rule='', label='llvmlite.ir_llvmlite'), State(node='2054201666431880220', rule='metadsl_llvm.ctypes.ctype_cint', label=None), State(node='1923705568975428324', rule='metadsl_llvm.ctypes.c_function_type_create_2', label=None), State(node='1923705568975428324', rule='', label='llvmlite.ctypes'), State(node='2174768958089449275', rule='metadsl_llvm.llvmlite_binding.module_ref_create', label=None), State(node='772244477741411849', rule='metadsl_llvm.llvmlite_binding.module_ref_optimize', label=None), State(node='-7668733758383835307', rule='metadsl_llvm.llvmlite_binding.execution_engine_create', label=None), State(node='5308685791980978383', rule='metadsl_llvm.llvmlite_binding.execution_engine_address', label=None), State(node='-1705957765701893570', rule='metadsl_llvm.ctypes.cfunc_call', label=None), State(node='-1705957765701893570', rule='', label='llvmlite.llvmlite_binding')]))"
      ]
     },
     "metadata": {},
     "output_type": "display_data"
    },
    {
     "name": "stdout",
     "output_type": "stream",
     "text": [
      "FAILED\n",
      "\n",
      "============================================================================================================================================ FAILURES =============================================================================================================================================\n",
      "____________________________________________________________________________________________________________________________________________ test_add _____________________________________________________________________________________________________________________________________________\n",
      "\n",
      "    def test_add():\n",
      "        int_type = ml.Type.create_int(32)\n",
      "        one = ml.ValueExpr.from_value(ml.Value.constant(int_type, 1))\n",
      "    \n",
      "        mod_ref = ml.ModRef.create(\"add\")\n",
      "    \n",
      "        @ml.llvm_fn(mod_ref, ml.FnType.create(int_type, int_type, int_type))\n",
      "        @mc.FunctionTwo.from_fn\n",
      "        def add(l: ml.ValueExpr, r: ml.ValueExpr) -> ml.ValueExpr:\n",
      "            return l + r + one\n",
      "    \n",
      "        real_fn = m.execute(ml.compile_functions(mod_ref, ml.to_llvm(add)))\n",
      ">       assert real_fn(10, 11) == 22\n",
      "E       assert 0 == 22\n",
      "E         -0\n",
      "E         +22\n",
      "\n",
      "../metadsl_llvm/ir_context_test.py:48: AssertionError\n",
      "======================================================================================================================================= 1 failed in 10.21s ========================================================================================================================================\n"
     ]
    }
   ],
   "source": [
    "import pytest\n",
    "import metadsl_visualize\n",
    "DISABLED_PLUGINS = [\n",
    "    \"xdist\",\n",
    "    \"mypy\",\n",
    "    \"pudb\",\n",
    "    \"testmon\",\n",
    "    \"randomly\",\n",
    "    \"forked\"\n",
    "]\n",
    "\n",
    "def test(path=\"\"):\n",
    "    pytest.main([l for p in DISABLED_PLUGINS for l in (\"-p\", f\"no:{p}\")] + [\"-v\", \"-s\", path])\n",
    "    \n",
    "test(\"../metadsl_llvm/ir_context_test.py::test_add\")"
   ]
  },
  {
   "cell_type": "code",
   "execution_count": null,
   "metadata": {},
   "outputs": [],
   "source": []
  }
 ],
 "metadata": {
  "kernelspec": {
   "display_name": "Python 3",
   "language": "python",
   "name": "python3"
  },
  "language_info": {
   "codemirror_mode": {
    "name": "ipython",
    "version": 3
   },
   "file_extension": ".py",
   "mimetype": "text/x-python",
   "name": "python",
   "nbconvert_exporter": "python",
   "pygments_lexer": "ipython3",
   "version": "3.7.3"
  }
 },
 "nbformat": 4,
 "nbformat_minor": 4
}
