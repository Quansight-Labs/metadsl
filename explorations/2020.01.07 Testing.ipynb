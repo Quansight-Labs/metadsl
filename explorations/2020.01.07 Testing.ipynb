{
 "cells": [
  {
   "cell_type": "markdown",
   "metadata": {},
   "source": [
    "# Tests\n",
    "In this notebook, we run our `pytest` test suite. Why would we run this in a notebook not from the command line? Because then  we can visualize the replacemnts as they happen for debugging"
   ]
  },
  {
   "cell_type": "code",
   "execution_count": 2,
   "metadata": {},
   "outputs": [
    {
     "name": "stdout",
     "output_type": "stream",
     "text": [
      "======================================================================================================================================= test session starts =======================================================================================================================================\n",
      "platform darwin -- Python 3.7.3, pytest-5.3.1, py-1.8.0, pluggy-0.13.1 -- /usr/local/Caskroom/miniconda/base/envs/metadsl/bin/python\n",
      "cachedir: .pytest_cache\n",
      "rootdir: /Users/saul/p/metadsl, inifile: pytest.ini\n",
      "plugins: xdist-1.30.0, metadsl_visualize-0.1.0, cov-2.8.1\n",
      "collecting ... collected 1 item\n",
      "\n",
      "../metadsl_llvm/integration_test.py::test_add "
     ]
    },
    {
     "data": {
      "application/x.typez+json": {
       "nodes": {
        "-1266084651728642732": [
         "4",
         {
          "args": [
           "-1481277996588373696",
           "-1481277996588373696",
           "-1481277996588373696"
          ],
          "function": "FnType.create"
         }
        ],
        "-1481277996588373696": [
         "3",
         {
          "args": [
           "-5063538631097545016"
          ],
          "function": "Type.create_int"
         }
        ],
        "-1574892412218209676": [
         "5",
         {
          "repr": "fastcc",
          "type": "str"
         }
        ],
        "-2033607409855105350": [
         "25",
         {
          "args": [
           "6899311506818173090"
          ],
          "function": "Mod.create"
         }
        ],
        "-2391244088964638183": [
         "6",
         {
          "args": [
           "4804912157712408804",
           "7157767914963507042",
           "-1266084651728642732",
           "-1574892412218209676"
          ],
          "function": "ModRef.function_"
         }
        ],
        "-2882833834390673408": [
         "14",
         {
          "args": [
           "2032343082181929874",
           "-967103849364699022"
          ],
          "function": "Vec.__getitem__",
          "type_params": {
           "T": {
            "type": "Value"
           }
          }
         }
        ],
        "-3044407383773963202": [
         "22",
         {
          "args": [
           "-8176806217872428931"
          ],
          "function": "Vec.create"
         }
        ],
        "-3479685678060282425": [
         "9",
         {
          "repr": "140448252860848",
          "type": "_Uniq"
         }
        ],
        "-3566301938443706963": [
         "18",
         {
          "args": [
           "7794363267711964957",
           "-2882833834390673408",
           "2518086769945884208"
          ],
          "function": "BlockRef.add"
         }
        ],
        "-3684011122000348367": [
         "26",
         {
          "function": "CType.c_int"
         }
        ],
        "-5063538631097545016": [
         "2",
         {
          "repr": "32",
          "type": "int"
         }
        ],
        "-5063538631132185816": [
         "12",
         {
          "repr": "0",
          "type": "int"
         }
        ],
        "-5063538631133268341": [
         "15",
         {
          "repr": "1",
          "type": "int"
         }
        ],
        "-5065262661090205666": [
         "8",
         {
          "repr": "None",
          "type": "NoneType"
         }
        ],
        "-5071176950448157541": [
         "7",
         {
          "repr": "True",
          "type": "bool"
         }
        ],
        "-5205328642121448976": [
         "20",
         {
          "args": [
           "7794363267711964957",
           "-3566301938443706963",
           "3486112142719021270"
          ],
          "function": "BlockRef.add"
         }
        ],
        "-8176806217872428931": [
         "21",
         {
          "args": [
           "7794363267711964957",
           "-5205328642121448976"
          ],
          "function": "BlockRef.ret"
         }
        ],
        "-967103849364699022": [
         "13",
         {
          "args": [
           "-5063538631132185816"
          ],
          "function": "Integer.from_int"
         }
        ],
        "1848437210952979878": [
         "27",
         {
          "args": [
           "-3684011122000348367",
           "-3684011122000348367"
          ],
          "function": "CFunctionType.create"
         }
        ],
        "2032343082181929874": [
         "11",
         {
          "args": [
           "-2391244088964638183"
          ],
          "function": "FnRef.arguments"
         }
        ],
        "2518086769945884208": [
         "17",
         {
          "args": [
           "2032343082181929874",
           "2971686346846220833"
          ],
          "function": "Vec.__getitem__",
          "type_params": {
           "T": {
            "type": "Value"
           }
          }
         }
        ],
        "2971686346846220833": [
         "16",
         {
          "args": [
           "-5063538631133268341"
          ],
          "function": "Integer.from_int"
         }
        ],
        "3486112142719021270": [
         "19",
         {
          "args": [
           "-1481277996588373696",
           "-5063538631133268341"
          ],
          "function": "Value.constant"
         }
        ],
        "4283127736164077525": [
         "23",
         {
          "args": [
           "-3044407383773963202"
          ],
          "function": "Fn.create"
         }
        ],
        "4804912157712408804": [
         "1",
         {
          "args": [
           "7157767914963507042"
          ],
          "function": "ModRef.create"
         }
        ],
        "6899311506818173090": [
         "24",
         {
          "args": [
           "4283127736164077525"
          ],
          "function": "Vec.create"
         }
        ],
        "7157767914963507042": [
         "0",
         {
          "repr": "add",
          "type": "str"
         }
        ],
        "7538856115034769889": [
         "28",
         {
          "args": [
           "-2033607409855105350",
           "4804912157712408804",
           "-2391244088964638183",
           "1848437210952979878",
           "-5063538631133268341"
          ],
          "function": "compile_function"
         }
        ],
        "7794363267711964957": [
         "10",
         {
          "args": [
           "-2391244088964638183",
           "-5071176950448157541",
           "-5065262661090205666",
           "-3479685678060282425"
          ],
          "function": "FnRef._block"
         }
        ]
       },
       "states": {
        "initial": "7538856115034769889"
       }
      },
      "text/plain": [
       "Typez(definitions=None, nodes={'7157767914963507042': ['0', PrimitiveNode(type='str', repr='add')], '4804912157712408804': ['1', CallNode(function='ModRef.create', type_params=None, args=['7157767914963507042'], kwargs=None)], '-5063538631097545016': ['2', PrimitiveNode(type='int', repr='32')], '-1481277996588373696': ['3', CallNode(function='Type.create_int', type_params=None, args=['-5063538631097545016'], kwargs=None)], '-1266084651728642732': ['4', CallNode(function='FnType.create', type_params=None, args=['-1481277996588373696', '-1481277996588373696', '-1481277996588373696'], kwargs=None)], '-1574892412218209676': ['5', PrimitiveNode(type='str', repr='fastcc')], '-2391244088964638183': ['6', CallNode(function='ModRef.function_', type_params=None, args=['4804912157712408804', '7157767914963507042', '-1266084651728642732', '-1574892412218209676'], kwargs=None)], '-5071176950448157541': ['7', PrimitiveNode(type='bool', repr='True')], '-5065262661090205666': ['8', PrimitiveNode(type='NoneType', repr='None')], '-3479685678060282425': ['9', PrimitiveNode(type='_Uniq', repr='140448252860848')], '7794363267711964957': ['10', CallNode(function='FnRef._block', type_params=None, args=['-2391244088964638183', '-5071176950448157541', '-5065262661090205666', '-3479685678060282425'], kwargs=None)], '2032343082181929874': ['11', CallNode(function='FnRef.arguments', type_params=None, args=['-2391244088964638183'], kwargs=None)], '-5063538631132185816': ['12', PrimitiveNode(type='int', repr='0')], '-967103849364699022': ['13', CallNode(function='Integer.from_int', type_params=None, args=['-5063538631132185816'], kwargs=None)], '-2882833834390673408': ['14', CallNode(function='Vec.__getitem__', type_params={'T': DeclaredTypeInstance(type='Value', params=None)}, args=['2032343082181929874', '-967103849364699022'], kwargs=None)], '-5063538631133268341': ['15', PrimitiveNode(type='int', repr='1')], '2971686346846220833': ['16', CallNode(function='Integer.from_int', type_params=None, args=['-5063538631133268341'], kwargs=None)], '2518086769945884208': ['17', CallNode(function='Vec.__getitem__', type_params={'T': DeclaredTypeInstance(type='Value', params=None)}, args=['2032343082181929874', '2971686346846220833'], kwargs=None)], '-3566301938443706963': ['18', CallNode(function='BlockRef.add', type_params=None, args=['7794363267711964957', '-2882833834390673408', '2518086769945884208'], kwargs=None)], '3486112142719021270': ['19', CallNode(function='Value.constant', type_params=None, args=['-1481277996588373696', '-5063538631133268341'], kwargs=None)], '-5205328642121448976': ['20', CallNode(function='BlockRef.add', type_params=None, args=['7794363267711964957', '-3566301938443706963', '3486112142719021270'], kwargs=None)], '-8176806217872428931': ['21', CallNode(function='BlockRef.ret', type_params=None, args=['7794363267711964957', '-5205328642121448976'], kwargs=None)], '-3044407383773963202': ['22', CallNode(function='Vec.create', type_params=None, args=['-8176806217872428931'], kwargs=None)], '4283127736164077525': ['23', CallNode(function='Fn.create', type_params=None, args=['-3044407383773963202'], kwargs=None)], '6899311506818173090': ['24', CallNode(function='Vec.create', type_params=None, args=['4283127736164077525'], kwargs=None)], '-2033607409855105350': ['25', CallNode(function='Mod.create', type_params=None, args=['6899311506818173090'], kwargs=None)], '-3684011122000348367': ['26', CallNode(function='CType.c_int', type_params=None, args=None, kwargs=None)], '1848437210952979878': ['27', CallNode(function='CFunctionType.create', type_params=None, args=['-3684011122000348367', '-3684011122000348367'], kwargs=None)], '7538856115034769889': ['28', CallNode(function='compile_function', type_params=None, args=['-2033607409855105350', '4804912157712408804', '-2391244088964638183', '1848437210952979878', '-5063538631133268341'], kwargs=None)]}, states=States(initial='7538856115034769889', states=None))"
      ]
     },
     "metadata": {},
     "output_type": "display_data"
    },
    {
     "name": "stdout",
     "output_type": "stream",
     "text": [
      "FAILED\n",
      "\n",
      "============================================================================================================================================ FAILURES =============================================================================================================================================\n",
      "____________________________________________________________________________________________________________________________________________ test_add _____________________________________________________________________________________________________________________________________________\n",
      "\n",
      "    def test_add():\n",
      "        ##\n",
      "        # Constants\n",
      "        ##\n",
      "    \n",
      "        int_type = ml.Type.create_int(32)\n",
      "        one = ml.Value.constant(int_type, 1)\n",
      "    \n",
      "        mod_ref = ml.ModRef.create(\"add\")\n",
      "        fn_ref = mod_ref.function_(\n",
      "            \"add\", ml.FnType.create(int_type, int_type, int_type), \"fastcc\",\n",
      "        )\n",
      "    \n",
      "        l = fn_ref.arguments[mc.Integer.from_int(0)]\n",
      "        r = fn_ref.arguments[mc.Integer.from_int(1)]\n",
      "    \n",
      "        block_ref = fn_ref.block(True)\n",
      "        lr = block_ref.add(l, r)\n",
      "        res = block_ref.add(lr, one)\n",
      "        terminate = block_ref.ret(res)\n",
      "    \n",
      "        fn = ml.Fn.create(mc.Vec.create(terminate))\n",
      "    \n",
      "        mod = ml.Mod.create(mc.Vec.create(fn))\n",
      "    \n",
      "        c_int = ml.CType.c_int()\n",
      "        c_func_type = ml.CFunctionType.create(c_int, c_int)\n",
      "    \n",
      "        real_fn = m.execute(ml.compile_function(mod, mod_ref, fn_ref, c_func_type))\n",
      ">       assert real_fn(10) == 21\n",
      "E       TypeError: 'PlaceholderExpression' object is not callable\n",
      "\n",
      "../metadsl_llvm/integration_test.py:142: TypeError\n",
      "======================================================================================================================================== 1 failed in 0.90s ========================================================================================================================================\n"
     ]
    }
   ],
   "source": [
    "import pytest\n",
    "import metadsl_visualize\n",
    "DISABLED_PLUGINS = [\n",
    "    \"xdist\",\n",
    "    \"mypy\",\n",
    "    \"pudb\",\n",
    "    \"testmon\",\n",
    "    \"randomly\",\n",
    "    \"forked\"\n",
    "]\n",
    "\n",
    "def test(path=\"\"):\n",
    "    pytest.main([l for p in DISABLED_PLUGINS for l in (\"-p\", f\"no:{p}\")] + [\"-v\", \"-s\", path])\n",
    "    \n",
    "test(\"../metadsl_llvm/integration_test.py::test_add\")"
   ]
  },
  {
   "cell_type": "code",
   "execution_count": null,
   "metadata": {},
   "outputs": [],
   "source": []
  }
 ],
 "metadata": {
  "kernelspec": {
   "display_name": "Python 3",
   "language": "python",
   "name": "python3"
  },
  "language_info": {
   "codemirror_mode": {
    "name": "ipython",
    "version": 3
   },
   "file_extension": ".py",
   "mimetype": "text/x-python",
   "name": "python",
   "nbconvert_exporter": "python",
   "pygments_lexer": "ipython3",
   "version": "3.7.3"
  }
 },
 "nbformat": 4,
 "nbformat_minor": 4
}
