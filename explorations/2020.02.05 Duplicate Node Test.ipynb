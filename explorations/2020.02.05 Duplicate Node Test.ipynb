{
 "cells": [
  {
   "cell_type": "code",
   "execution_count": 1,
   "metadata": {},
   "outputs": [],
   "source": [
    "import metadsl_visualize\n",
    "from metadsl import *\n",
    "from metadsl_core import *"
   ]
  },
  {
   "cell_type": "code",
   "execution_count": 7,
   "metadata": {},
   "outputs": [
    {
     "data": {
      "application/x.typez+json": {
       "nodes": {
        "-793391575724174432": [
         "3",
         {
          "args": [
           "6027080067892420665",
           "-8957332116078679141",
           "-8957332116077596616"
          ],
          "function": "Boolean.if_"
         }
        ],
        "-8957332116077596616": [
         "2",
         {
          "repr": "False",
          "type": "bool"
         }
        ],
        "-8957332116078679141": [
         "3",
         {
          "repr": "True",
          "type": "bool"
         }
        ],
        "6027080067892420665": [
         "1",
         {
          "args": [
           "-8957332116078679141"
          ],
          "function": "Boolean.create"
         }
        ]
       },
       "states": {
        "initial": "-793391575724174432",
        "states": [
         {
          "node": "-8957332116078679141",
          "rule": "metadsl_core.boolean.if_"
         },
         {
          "label": "core",
          "node": "-8957332116078679141",
          "rule": ""
         }
        ]
       }
      },
      "text/plain": [
       "Typez(definitions=None, nodes={'-8957332116078679141': ['3', PrimitiveNode(type='bool', repr='True')], '6027080067892420665': ['1', CallNode(function='Boolean.create', type_params=None, args=['-8957332116078679141'], kwargs=None)], '-8957332116077596616': ['2', PrimitiveNode(type='bool', repr='False')], '-793391575724174432': ['3', CallNode(function='Boolean.if_', type_params=None, args=['6027080067892420665', '-8957332116078679141', '-8957332116077596616'], kwargs=None)]}, states=States(initial='-793391575724174432', states=[State(node='-8957332116078679141', rule='metadsl_core.boolean.if_', label=None), State(node='-8957332116078679141', rule='', label='core')]))"
      ]
     },
     "metadata": {},
     "output_type": "display_data"
    },
    {
     "data": {
      "text/plain": [
       "True"
      ]
     },
     "metadata": {},
     "output_type": "display_data"
    }
   ],
   "source": [
    "Boolean.create(True).if_(True, False)"
   ]
  },
  {
   "cell_type": "code",
   "execution_count": null,
   "metadata": {},
   "outputs": [],
   "source": []
  },
  {
   "cell_type": "code",
   "execution_count": null,
   "metadata": {},
   "outputs": [],
   "source": []
  }
 ],
 "metadata": {
  "kernelspec": {
   "display_name": "Python 3",
   "language": "python",
   "name": "python3"
  },
  "language_info": {
   "codemirror_mode": {
    "name": "ipython",
    "version": 3
   },
   "file_extension": ".py",
   "mimetype": "text/x-python",
   "name": "python",
   "nbconvert_exporter": "python",
   "pygments_lexer": "ipython3",
   "version": "3.7.3"
  }
 },
 "nbformat": 4,
 "nbformat_minor": 4
}
