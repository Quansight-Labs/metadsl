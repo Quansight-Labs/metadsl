{
 "cells": [
  {
   "cell_type": "code",
   "execution_count": 1,
   "metadata": {},
   "outputs": [],
   "source": [
    "import metadsl.python.pure as py_pure\n",
    "import metadsl.numpy.pure as np_pure"
   ]
  },
  {
   "cell_type": "code",
   "execution_count": 2,
   "metadata": {},
   "outputs": [],
   "source": [
    "a = np_pure.arange(\n",
    "    py_pure.Optional.none(py_pure.Number),\n",
    "    py_pure.Number.from_number(10),\n",
    "    py_pure.Optional.none(py_pure.Number),\n",
    "    py_pure.Optional.none(np_pure.DType)\n",
    ")"
   ]
  },
  {
   "cell_type": "code",
   "execution_count": 3,
   "metadata": {},
   "outputs": [
    {
     "data": {
      "text/plain": [
       "NDArray(NDArray.__add__, (NDArray(arange, (metadsl.python.pure.Optional[metadsl.python.pure.Number](Optional.non_expr, ()), Number(Number.from_number, (10,)), metadsl.python.pure.Optional[metadsl.python.pure.Number](Optional.non_expr, ()), metadsl.python.pure.Optional[metadsl.numpy.pure.DType](Optional.non_expr, ()))), NDArray(arange, (metadsl.python.pure.Optional[metadsl.python.pure.Number](Optional.non_expr, ()), Number(Number.from_number, (10,)), metadsl.python.pure.Optional[metadsl.python.pure.Number](Optional.non_expr, ()), metadsl.python.pure.Optional[metadsl.numpy.pure.DType](Optional.non_expr, ())))))"
      ]
     },
     "execution_count": 3,
     "metadata": {},
     "output_type": "execute_result"
    }
   ],
   "source": [
    "a + a"
   ]
  },
  {
   "cell_type": "code",
   "execution_count": 4,
   "metadata": {},
   "outputs": [],
   "source": [
    "idxed_twice = a[\n",
    "    py_pure.Union.left(\n",
    "        py_pure.Integer, py_pure.Tuple[py_pure.Integer], py_pure.Integer.from_int(10)\n",
    "    )\n",
    "][\n",
    "    py_pure.Union.left(\n",
    "        py_pure.Integer, py_pure.Tuple[py_pure.Integer], py_pure.Integer.from_int(10)\n",
    "    )\n",
    "]"
   ]
  },
  {
   "cell_type": "code",
   "execution_count": 5,
   "metadata": {},
   "outputs": [],
   "source": [
    "idxed_once = a[\n",
    "    py_pure.Union.right(\n",
    "        py_pure.Integer,\n",
    "        py_pure.Tuple[py_pure.Integer],\n",
    "        py_pure.Tuple.from_items(\n",
    "            py_pure.Integer, py_pure.Integer.from_int(10), py_pure.Integer.from_int(10)\n",
    "        ),\n",
    "    )\n",
    "]"
   ]
  },
  {
   "cell_type": "code",
   "execution_count": 6,
   "metadata": {},
   "outputs": [],
   "source": [
    "import metadsl"
   ]
  },
  {
   "cell_type": "code",
   "execution_count": 7,
   "metadata": {},
   "outputs": [],
   "source": [
    "@metadsl.pure_rule\n",
    "def getitem_condense(a: np_pure.NDArray, left_idx: py_pure.Integer, right_idx: py_pure.Integer):\n",
    "    return (\n",
    "        a[\n",
    "            py_pure.Union.left(\n",
    "                py_pure.Integer, py_pure.Tuple[py_pure.Integer], left_idx\n",
    "            )\n",
    "        ][\n",
    "            py_pure.Union.left(\n",
    "                py_pure.Integer, py_pure.Tuple[py_pure.Integer], right_idx\n",
    "            )\n",
    "        ],\n",
    "        a[\n",
    "            py_pure.Union.right(\n",
    "                py_pure.Integer,\n",
    "                py_pure.Tuple[py_pure.Integer],\n",
    "                py_pure.Tuple.from_items(py_pure.Integer, left_idx, right_idx),\n",
    "            )\n",
    "        ],\n",
    "    )\n"
   ]
  },
  {
   "cell_type": "code",
   "execution_count": 9,
   "metadata": {},
   "outputs": [
    {
     "data": {
      "text/plain": [
       "True"
      ]
     },
     "execution_count": 9,
     "metadata": {},
     "output_type": "execute_result"
    }
   ],
   "source": [
    "getitem_condense(idxed_twice) == idxed_once"
   ]
  }
 ],
 "metadata": {
  "kernelspec": {
   "display_name": "Python 3",
   "language": "python",
   "name": "python3"
  },
  "language_info": {
   "codemirror_mode": {
    "name": "ipython",
    "version": 3
   },
   "file_extension": ".py",
   "mimetype": "text/x-python",
   "name": "python",
   "nbconvert_exporter": "python",
   "pygments_lexer": "ipython3",
   "version": "3.7.3"
  }
 },
 "nbformat": 4,
 "nbformat_minor": 2
}
