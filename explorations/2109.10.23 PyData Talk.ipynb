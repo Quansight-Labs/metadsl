{
 "cells": [
  {
   "cell_type": "markdown",
   "metadata": {},
   "source": [
    "# `metadsl`: seperating API from execution"
   ]
  },
  {
   "cell_type": "code",
   "execution_count": 1,
   "metadata": {},
   "outputs": [
    {
     "data": {
      "application/x.typez+json": {
       "nodes": {
        "-1029345547413412457": [
         "4",
         {
          "args": [
           "-3177309686704469057"
          ],
          "function": "NDArrayCompat.from_ndarray"
         }
        ],
        "-1133194649047726248": [
         "225",
         {
          "args": [
           "2952534996821982325",
           "2952534996821982325"
          ],
          "function": "ndarray_add"
         }
        ],
        "-1153270289806648635": [
         "4",
         {
          "args": [
           "-3452539806388460027"
          ],
          "function": "NDArrayCompat.from_ndarray"
         }
        ],
        "-1269778831231878016": [
         "15",
         {
          "args": [
           "-4127025317534657754",
           "5010042427115200897",
           "5345828244535529485"
          ],
          "function": "Maybe.match",
          "type_params": {
           "T": {
            "params": {
             "T": {
              "type": "NDArray"
             },
             "U": {
              "params": {
               "T": {
                "type": "Integer"
               },
               "U": {
                "params": {
                 "T": {
                  "type": "Integer"
                 }
                },
                "type": "Vec"
               }
              },
              "type": "Either"
             }
            },
            "type": "Pair"
           }
          }
         }
        ],
        "-1391931857335621040": [
         "58",
         {
          "args": [
           "6079112021159403870"
          ],
          "function": "Converter.convert",
          "type_params": {
           "T": {
            "type": "NDArray"
           }
          }
         }
        ],
        "-1416768308524876165": [
         "74",
         {
          "args": [
           "-1391931857335621040",
           "6927662400062031780"
          ],
          "function": "Maybe.__and__",
          "type_params": {
           "T": {
            "type": "NDArray"
           }
          }
         }
        ],
        "-1457002548368343917": [
         "15",
         {
          "args": [
           "-5515526385815077566",
           "-1983343742235582578"
          ],
          "function": "Abstraction.__call__",
          "type_params": {
           "T": {
            "params": {
             "T": {
              "type": "NDArray"
             },
             "U": {
              "params": {
               "T": {
                "type": "Integer"
               },
               "U": {
                "params": {
                 "T": {
                  "type": "Integer"
                 }
                },
                "type": "Vec"
               }
              },
              "type": "Either"
             }
            },
            "type": "Pair"
           },
           "U": {
            "params": {
             "T": {
              "type": "NDArray"
             }
            },
            "type": "Maybe"
           }
          }
         }
        ],
        "-1459364817511406284": [
         "92",
         {
          "args": [
           "-933314412873480635",
           "8345264965030871901"
          ],
          "function": "Abstraction.create",
          "type_params": {
           "T": {
            "params": {
             "T": {
              "type": "Integer"
             }
            },
            "type": "Vec"
           },
           "U": {
            "params": {
             "T": {
              "type": "Integer"
             },
             "U": {
              "params": {
               "T": {
                "type": "Integer"
               }
              },
              "type": "Vec"
             }
            },
            "type": "Either"
           }
          }
         }
        ],
        "-1509123518196513156": [
         "15",
         {
          "args": [
           "8883977443138545579",
           "5010042427115200897",
           "-5515526385815077566"
          ],
          "function": "Maybe.match",
          "type_params": {
           "T": {
            "params": {
             "T": {
              "type": "NDArray"
             },
             "U": {
              "params": {
               "T": {
                "type": "Integer"
               },
               "U": {
                "params": {
                 "T": {
                  "type": "Integer"
                 }
                },
                "type": "Vec"
               }
              },
              "type": "Either"
             }
            },
            "type": "Pair"
           }
          }
         }
        ],
        "-1522120623793325274": [
         "8",
         {
          "args": [
           "1681794854102958805",
           "1681794854102958805"
          ],
          "function": "NDArrayCompat.__add__"
         }
        ],
        "-1889197336257975178": [
         "74",
         {
          "args": [
           "2055083783529237831",
           "-4632579732185590825"
          ],
          "function": "Maybe.__and__",
          "type_params": {
           "T": {
            "type": "NDArray"
           }
          }
         }
        ],
        "-1916172054569702322": [
         "9",
         {
          "args": [
           "-1522120623793325274"
          ],
          "function": "Converter.convert",
          "type_params": {
           "T": {
            "type": "NDArray"
           }
          }
         }
        ],
        "-1943005604760686861": [
         "74",
         {
          "args": [
           "-5759841914628267036",
           "2048773056580625209"
          ],
          "function": "Maybe.__and__",
          "type_params": {
           "T": {
            "type": "NDArray"
           }
          }
         }
        ],
        "-1975870613233999568": [
         "12",
         {
          "args": [
           "6705896862061312865",
           "8530837438216523112"
          ],
          "function": "Maybe.__and__",
          "type_params": {
           "T": {
            "type": "NDArray"
           }
          }
         }
        ],
        "-1983343742235582578": [
         "206",
         {
          "args": [
           "1981297816395282152",
           "4201175122181437417"
          ],
          "function": "Pair.create"
         }
        ],
        "-2041567181769803567": [
         "83",
         {
          "args": [
           "-4178253784485202331",
           "-7192939821499825056"
          ],
          "function": "Abstraction.create",
          "type_params": {
           "T": {
            "params": {
             "T": {
              "type": "NDArray"
             },
             "U": {
              "params": {
               "T": {
                "type": "Integer"
               },
               "U": {
                "params": {
                 "T": {
                  "type": "Integer"
                 }
                },
                "type": "Vec"
               }
              },
              "type": "Either"
             }
            },
            "type": "Pair"
           },
           "U": {
            "type": "NDArray"
           }
          }
         }
        ],
        "-2086474004589657243": [
         "4",
         {
          "args": [
           "-4391762020810570779"
          ],
          "function": "NDArrayCompat.from_ndarray"
         }
        ],
        "-2160334129442717181": [
         "111",
         {
          "args": [
           "8082615459371191027",
           "-7155719998891297903"
          ],
          "function": "Abstraction.__add__",
          "type_params": {
           "T": {
            "params": {
             "T": {
              "type": "Integer"
             },
             "U": {
              "params": {
               "T": {
                "type": "Integer"
               }
              },
              "type": "Vec"
             }
            },
            "type": "Either"
           },
           "U": {
            "params": {
             "T": {
              "params": {
               "T": {
                "type": "Integer"
               },
               "U": {
                "params": {
                 "T": {
                  "type": "Integer"
                 }
                },
                "type": "Vec"
               }
              },
              "type": "Either"
             }
            },
            "type": "Maybe"
           }
          }
         }
        ],
        "-2342686919674527600": [
         "13",
         {
          "repr": "<function NDArrayCompat.__getitem__.<locals>.<lambda> at 0x1106b6d08>",
          "type": "function"
         }
        ],
        "-2343543009110872125": [
         "238",
         {
          "repr": "10000",
          "type": "int"
         }
        ],
        "-2343543019896068700": [
         "229",
         {
          "repr": "5",
          "type": "int"
         }
        ],
        "-2503773958439183038": [
         "5",
         {
          "args": [
           "-4222267006185817102"
          ],
          "function": "NDArrayCompat.to_ndarray"
         }
        ],
        "-2602580908205424689": [
         "5",
         {
          "args": [
           "5013429675180790134"
          ],
          "function": "NDArrayCompat.to_ndarray"
         }
        ],
        "-2619469003752300271": [
         "73",
         {
          "args": [
           "5542458479277579054",
           "-5440874827213941777"
          ],
          "function": "Maybe.__or__",
          "type_params": {
           "T": {
            "params": {
             "T": {
              "type": "Integer"
             },
             "U": {
              "params": {
               "T": {
                "type": "Integer"
               }
              },
              "type": "Vec"
             }
            },
            "type": "Either"
           }
          }
         }
        ],
        "-263192801901547350": [
         "55",
         {
          "args": [
           "-350095738741188719"
          ],
          "function": "Maybe.just",
          "type_params": {
           "T": {
            "type": "NDArray"
           }
          }
         }
        ],
        "-2657296358628249285": [
         "15",
         {
          "args": [
           "2978620999866985491"
          ],
          "function": "Maybe.just",
          "type_params": {
           "T": {
            "type": "NDArray"
           }
          }
         }
        ],
        "-2660678580549511838": [
         "12",
         {
          "args": [
           "5479063479608843013",
           "-3768755245752191014"
          ],
          "function": "Maybe.__and__",
          "type_params": {
           "T": {
            "type": "NDArray"
           }
          }
         }
        ],
        "-2688267295116845576": [
         "146",
         {
          "repr": "4570755704",
          "type": "Variable"
         }
        ],
        "-2688267295267316551": [
         "184",
         {
          "repr": "4570757384",
          "type": "Variable"
         }
        ],
        "-2688267299422047501": [
         "150",
         {
          "repr": "4570794472",
          "type": "Variable"
         }
        ],
        "-2688267308676553726": [
         "137",
         {
          "repr": "4571079512",
          "type": "Variable"
         }
        ],
        "-2927758344763541200": [
         "5",
         {
          "args": [
           "7618072381192564266",
           "-2343543019896068700"
          ],
          "function": "ndarray_getitem"
         }
        ],
        "-2995819664212582815": [
         "17",
         {
          "args": [
           "-2343543019896068700"
          ],
          "function": "Converter.convert",
          "type_params": {
           "T": {
            "type": "Integer"
           }
          }
         }
        ],
        "-3115499674672156707": [
         "4",
         {
          "args": [
           "-1509123518196513156"
          ],
          "function": "NDArrayCompat.from_ndarray"
         }
        ],
        "-3177309686704469057": [
         "15",
         {
          "args": [
           "-1943005604760686861",
           "5010042427115200897",
           "-5515526385815077566"
          ],
          "function": "Maybe.match",
          "type_params": {
           "T": {
            "params": {
             "T": {
              "type": "NDArray"
             },
             "U": {
              "params": {
               "T": {
                "type": "Integer"
               },
               "U": {
                "params": {
                 "T": {
                  "type": "Integer"
                 }
                },
                "type": "Vec"
               }
              },
              "type": "Either"
             }
            },
            "type": "Pair"
           }
          }
         }
        ],
        "-3211906671069159500": [
         "237",
         {
          "args": [
           "-2343543009110872125"
          ],
          "function": "Integer.from_int"
         }
        ],
        "-3306643981929772405": [
         "5",
         {
          "args": [
           "-4640246002418712882"
          ],
          "function": "NDArrayCompat.to_ndarray"
         }
        ],
        "-3451531081120554898": [
         "14",
         {
          "args": [
           "-2342686919674527600"
          ],
          "function": "Abstraction.from_fn",
          "type_params": {
           "T": {
            "params": {
             "T": {
              "type": "NDArray"
             },
             "U": {
              "params": {
               "T": {
                "type": "Integer"
               },
               "U": {
                "params": {
                 "T": {
                  "type": "Integer"
                 }
                },
                "type": "Vec"
               }
              },
              "type": "Either"
             }
            },
            "type": "Pair"
           },
           "U": {
            "type": "NDArray"
           }
          }
         }
        ],
        "-3452539806388460027": [
         "15",
         {
          "args": [
           "-1975870613233999568",
           "-3451531081120554898"
          ],
          "function": "Maybe.map",
          "type_params": {
           "T": {
            "params": {
             "T": {
              "type": "NDArray"
             },
             "U": {
              "params": {
               "T": {
                "type": "Integer"
               },
               "U": {
                "params": {
                 "T": {
                  "type": "Integer"
                 }
                },
                "type": "Vec"
               }
              },
              "type": "Either"
             }
            },
            "type": "Pair"
           }
          }
         }
        ],
        "-3463829493979858862": [
         "15",
         {
          "args": [
           "1747719798254964755",
           "5010042427115200897",
           "5345828244535529485"
          ],
          "function": "Maybe.match",
          "type_params": {
           "T": {
            "params": {
             "T": {
              "type": "NDArray"
             },
             "U": {
              "params": {
               "T": {
                "type": "Integer"
               },
               "U": {
                "params": {
                 "T": {
                  "type": "Integer"
                 }
                },
                "type": "Vec"
               }
              },
              "type": "Either"
             }
            },
            "type": "Pair"
           }
          }
         }
        ],
        "-348300307027956495": [
         "4",
         {
          "args": [
           "-4575086094681284175"
          ],
          "function": "NDArrayCompat.from_ndarray"
         }
        ],
        "-3483949152017935794": [
         "4",
         {
          "args": [
           "3851380084848435986"
          ],
          "function": "NDArrayCompat.from_ndarray"
         }
        ],
        "-350095738741188719": [
         "234",
         {
          "args": [
           "-3211906671069159500"
          ],
          "function": "arange_"
         }
        ],
        "-3507947347579469479": [
         "136",
         {
          "args": [
           "2528486935029191272"
          ],
          "function": "Maybe.just",
          "type_params": {
           "T": {
            "params": {
             "T": {
              "type": "Integer"
             },
             "U": {
              "params": {
               "T": {
                "type": "Integer"
               }
              },
              "type": "Vec"
             }
            },
            "type": "Either"
           }
          }
         }
        ],
        "-3626034188067795291": [
         "57",
         {
          "args": [
           "3475792922954704675"
          ],
          "function": "NDArrayCompat.from_ndarray"
         }
        ],
        "-3696774032206669227": [
         "5",
         {
          "args": [
           "7149129858743265751"
          ],
          "function": "NDArrayCompat.to_ndarray"
         }
        ],
        "-3754569592220147892": [
         "5",
         {
          "args": [
           "-4781631431008228117",
           "8966718401416703160"
          ],
          "function": "ndarray_getitem"
         }
        ],
        "-3762161102576935189": [
         "15",
         {
          "args": [
           "5558280096554669102",
           "5010042427115200897",
           "5345828244535529485"
          ],
          "function": "Maybe.match",
          "type_params": {
           "T": {
            "params": {
             "T": {
              "type": "NDArray"
             },
             "U": {
              "params": {
               "T": {
                "type": "Integer"
               },
               "U": {
                "params": {
                 "T": {
                  "type": "Integer"
                 }
                },
                "type": "Vec"
               }
              },
              "type": "Either"
             }
            },
            "type": "Pair"
           }
          }
         }
        ],
        "-3768755245752191014": [
         "11",
         {
          "args": [
           "4441256469196746958",
           "-929586104530545663"
          ],
          "function": "Maybe.__or__",
          "type_params": {
           "T": {
            "params": {
             "T": {
              "type": "Integer"
             },
             "U": {
              "params": {
               "T": {
                "type": "Integer"
               }
              },
              "type": "Vec"
             }
            },
            "type": "Either"
           }
          }
         }
        ],
        "-3810927928568453427": [
         "5",
         {
          "args": [
           "7758181823301056191"
          ],
          "function": "NDArrayCompat.to_ndarray"
         }
        ],
        "-3897427368245059045": [
         "15",
         {
          "args": [
           "-6110298935348692175",
           "5010042427115200897",
           "-5515526385815077566"
          ],
          "function": "Maybe.match",
          "type_params": {
           "T": {
            "params": {
             "T": {
              "type": "NDArray"
             },
             "U": {
              "params": {
               "T": {
                "type": "Integer"
               },
               "U": {
                "params": {
                 "T": {
                  "type": "Integer"
                 }
                },
                "type": "Vec"
               }
              },
              "type": "Either"
             }
            },
            "type": "Pair"
           }
          }
         }
        ],
        "-3949935688711928029": [
         "4",
         {
          "args": [
           "-2657296358628249285"
          ],
          "function": "NDArrayCompat.from_ndarray"
         }
        ],
        "-408406255212861689": [
         "15",
         {
          "args": [
           "-5304233745055051555",
           "5010042427115200897",
           "-5515526385815077566"
          ],
          "function": "Maybe.match",
          "type_params": {
           "T": {
            "params": {
             "T": {
              "type": "NDArray"
             },
             "U": {
              "params": {
               "T": {
                "type": "Integer"
               },
               "U": {
                "params": {
                 "T": {
                  "type": "Integer"
                 }
                },
                "type": "Vec"
               }
              },
              "type": "Either"
             }
            },
            "type": "Pair"
           }
          }
         }
        ],
        "-4127025317534657754": [
         "74",
         {
          "args": [
           "2691483882806188093",
           "2264114627236839274"
          ],
          "function": "Maybe.__and__",
          "type_params": {
           "T": {
            "type": "NDArray"
           }
          }
         }
        ],
        "-4160454218532354969": [
         "15",
         {
          "args": [
           "-1416768308524876165",
           "5010042427115200897",
           "-5515526385815077566"
          ],
          "function": "Maybe.match",
          "type_params": {
           "T": {
            "params": {
             "T": {
              "type": "NDArray"
             },
             "U": {
              "params": {
               "T": {
                "type": "Integer"
               },
               "U": {
                "params": {
                 "T": {
                  "type": "Integer"
                 }
                },
                "type": "Vec"
               }
              },
              "type": "Either"
             }
            },
            "type": "Pair"
           }
          }
         }
        ],
        "-4171220823347851982": [
         "5",
         {
          "args": [
           "-8853983977266964720"
          ],
          "function": "NDArray.to_ndarray"
         }
        ],
        "-4178253784485202331": [
         "185",
         {
          "args": [
           "-2688267295267316551"
          ],
          "function": "Abstraction.create_variable",
          "type_params": {
           "T": {
            "params": {
             "T": {
              "type": "NDArray"
             },
             "U": {
              "params": {
               "T": {
                "type": "Integer"
               },
               "U": {
                "params": {
                 "T": {
                  "type": "Integer"
                 }
                },
                "type": "Vec"
               }
              },
              "type": "Either"
             }
            },
            "type": "Pair"
           },
           "U": {
            "type": "NDArray"
           }
          }
         }
        ],
        "-4222267006185817102": [
         "4",
         {
          "args": [
           "-408406255212861689"
          ],
          "function": "NDArrayCompat.from_ndarray"
         }
        ],
        "-4275142096127419791": [
         "5",
         {
          "args": [
           "4715524214656841820"
          ],
          "function": "NDArrayCompat.to_ndarray"
         }
        ],
        "-4391762020810570779": [
         "15",
         {
          "args": [
           "-6329324382092793002",
           "-2041567181769803567"
          ],
          "function": "Maybe.map",
          "type_params": {
           "T": {
            "params": {
             "T": {
              "type": "NDArray"
             },
             "U": {
              "params": {
               "T": {
                "type": "Integer"
               },
               "U": {
                "params": {
                 "T": {
                  "type": "Integer"
                 }
                },
                "type": "Vec"
               }
              },
              "type": "Either"
             }
            },
            "type": "Pair"
           }
          }
         }
        ],
        "-4405319901785420875": [
         "5",
         {
          "args": [
           "-1133194649047726248",
           "-2343543019896068700"
          ],
          "function": "ndarray_getitem"
         }
        ],
        "-4575086094681284175": [
         "15",
         {
          "args": [
           "8399974812041493879",
           "5010042427115200897",
           "5345828244535529485"
          ],
          "function": "Maybe.match",
          "type_params": {
           "T": {
            "params": {
             "T": {
              "type": "NDArray"
             },
             "U": {
              "params": {
               "T": {
                "type": "Integer"
               },
               "U": {
                "params": {
                 "T": {
                  "type": "Integer"
                 }
                },
                "type": "Vec"
               }
              },
              "type": "Either"
             }
            },
            "type": "Pair"
           }
          }
         }
        ],
        "-4632579732185590825": [
         "73",
         {
          "args": [
           "2168194065413317180",
           "4712737428197175677"
          ],
          "function": "Maybe.__or__",
          "type_params": {
           "T": {
            "params": {
             "T": {
              "type": "Integer"
             },
             "U": {
              "params": {
               "T": {
                "type": "Integer"
               }
              },
              "type": "Vec"
             }
            },
            "type": "Either"
           }
          }
         }
        ],
        "-4640246002418712882": [
         "4",
         {
          "args": [
           "-1457002548368343917"
          ],
          "function": "NDArrayCompat.from_ndarray"
         }
        ],
        "-4735588500733498459": [
         "56",
         {
          "args": [
           "6792999931904131618"
          ],
          "function": "NDArrayCompat.from_ndarray"
         }
        ],
        "-4781631431008228117": [
         "225",
         {
          "args": [
           "1981297816395282152"
          ],
          "function": "NDArray.to_ndarray"
         }
        ],
        "-4830081813867659748": [
         "5",
         {
          "args": [
           "738406952320010287"
          ],
          "function": "NDArrayCompat.to_ndarray"
         }
        ],
        "-4854682022189550212": [
         "187",
         {
          "args": [
           "-4178253784485202331"
          ],
          "function": "Pair.right",
          "type_params": {
           "T": {
            "type": "NDArray"
           },
           "U": {
            "params": {
             "T": {
              "type": "Integer"
             },
             "U": {
              "params": {
               "T": {
                "type": "Integer"
               }
              },
              "type": "Vec"
             }
            },
            "type": "Either"
           }
          }
         }
        ],
        "-4863396539837125244": [
         "225",
         {
          "args": [
           "6425267506285488358",
           "6425267506285488358"
          ],
          "function": "ndarray_add"
         }
        ],
        "-4864825091864824031": [
         "5",
         {
          "args": [
           "8034337983755497547"
          ],
          "function": "NDArrayCompat.to_ndarray"
         }
        ],
        "-4913416968992463304": [
         "4",
         {
          "args": [
           "-8606930834387890232"
          ],
          "function": "NDArrayCompat.from_ndarray"
         }
        ],
        "-4913942482975470373": [
         "5",
         {
          "args": [
           "-3115499674672156707"
          ],
          "function": "NDArrayCompat.to_ndarray"
         }
        ],
        "-5055958794391171333": [
         "93",
         {
          "args": [
           "-933314412873480635",
           "-6450582189275633740"
          ],
          "function": "Abstraction.create"
         }
        ],
        "-5061961558092884090": [
         "4",
         {
          "args": [
           "-8619175044629905810"
          ],
          "function": "NDArrayCompat.from_ndarray"
         }
        ],
        "-5082538020168371084": [
         "15",
         {
          "args": [
           "6434807239647495799",
           "-2041567181769803567"
          ],
          "function": "Maybe.map",
          "type_params": {
           "T": {
            "params": {
             "T": {
              "type": "NDArray"
             },
             "U": {
              "params": {
               "T": {
                "type": "Integer"
               },
               "U": {
                "params": {
                 "T": {
                  "type": "Integer"
                 }
                },
                "type": "Vec"
               }
              },
              "type": "Either"
             }
            },
            "type": "Pair"
           }
          }
         }
        ],
        "-5304233745055051555": [
         "74",
         {
          "args": [
           "-1391931857335621040",
           "-942110970961631503"
          ],
          "function": "Maybe.__and__",
          "type_params": {
           "T": {
            "type": "NDArray"
           }
          }
         }
        ],
        "-5324845206080709229": [
         "125",
         {
          "repr": "Maybe.just",
          "type": "BoundInfer"
         }
        ],
        "-5430979454648748371": [
         "74",
         {
          "args": [
           "-1983343742235582578"
          ],
          "function": "Maybe.just"
         }
        ],
        "-5440874827213941777": [
         "72",
         {
          "args": [
           "2545304333211044905",
           "3951416324193783238",
           "1064008545016023923"
          ],
          "function": "Maybe.match",
          "type_params": {
           "T": {
            "params": {
             "T": {
              "type": "Integer"
             }
            },
            "type": "Vec"
           }
          }
         }
        ],
        "-5442604150434097866": [
         "31",
         {
          "args": [
           "-9087174382080386220",
           "8581193218447811950"
          ],
          "function": "Maybe.map",
          "type_params": {
           "T": {
            "type": "Integer"
           }
          }
         }
        ],
        "-5515526385815077566": [
         "190",
         {
          "args": [
           "-4178253784485202331",
           "2167403046050443998"
          ],
          "function": "Abstraction.create"
         }
        ],
        "-5579144276356697580": [
         "4",
         {
          "args": [
           "-3463829493979858862"
          ],
          "function": "NDArrayCompat.from_ndarray"
         }
        ],
        "-5588014448240227602": [
         "96",
         {
          "args": [
           "1174727054115292497"
          ],
          "function": "Maybe.just"
         }
        ],
        "-5722508856330113325": [
         "5",
         {
          "args": [
           "4260811549756975427"
          ],
          "function": "NDArrayCompat.to_ndarray"
         }
        ],
        "-5743763412060011443": [
         "5",
         {
          "args": [
           "4000633561877087041"
          ],
          "function": "NDArrayCompat.to_ndarray"
         }
        ],
        "-5759841914628267036": [
         "58",
         {
          "args": [
           "-3626034188067795291"
          ],
          "function": "Converter.convert",
          "type_params": {
           "T": {
            "type": "NDArray"
           }
          }
         }
        ],
        "-5873423517236263753": [
         "130",
         {
          "args": [
           "-681883149430652755",
           "8736167552244514047"
          ],
          "function": "Abstraction.create",
          "type_params": {
           "T": {
            "type": "Integer"
           },
           "U": {
            "type": "NDArray"
           }
          }
         }
        ],
        "-6110298935348692175": [
         "74",
         {
          "args": [
           "3475792922954704675",
           "2048773056580625209"
          ],
          "function": "Maybe.__and__",
          "type_params": {
           "T": {
            "type": "NDArray"
           }
          }
         }
        ],
        "-6128774859132213776": [
         "12",
         {
          "args": [
           "6705896862061312865",
           "-7733712980391700178"
          ],
          "function": "Maybe.__and__",
          "type_params": {
           "T": {
            "type": "NDArray"
           }
          }
         }
        ],
        "-6246887556120899874": [
         "57",
         {
          "args": [
           "8607575847157526588",
           "8607575847157526588"
          ],
          "function": "NDArrayCompat.__add__"
         }
        ],
        "-625819870061052802": [
         "55",
         {
          "args": [
           "-9087174382080386220",
           "5010042427115200897",
           "6549150494111082281"
          ],
          "function": "Maybe.match",
          "type_params": {
           "T": {
            "type": "Integer"
           }
          }
         }
        ],
        "-6329324382092793002": [
         "12",
         {
          "args": [
           "-1916172054569702322",
           "2264114627236839274"
          ],
          "function": "Maybe.__and__",
          "type_params": {
           "T": {
            "type": "NDArray"
           }
          }
         }
        ],
        "-6360118399003149979": [
         "15",
         {
          "args": [
           "-1889197336257975178",
           "5010042427115200897",
           "5345828244535529485"
          ],
          "function": "Maybe.match",
          "type_params": {
           "T": {
            "params": {
             "T": {
              "type": "NDArray"
             },
             "U": {
              "params": {
               "T": {
                "type": "Integer"
               },
               "U": {
                "params": {
                 "T": {
                  "type": "Integer"
                 }
                },
                "type": "Vec"
               }
              },
              "type": "Either"
             }
            },
            "type": "Pair"
           }
          }
         }
        ],
        "-6396661253330347136": [
         "66",
         {
          "args": [
           "-8370971461542121230",
           "1174727054115292497"
          ],
          "function": "Abstraction.__call__",
          "type_params": {
           "T": {
            "type": "Integer"
           },
           "U": {
            "params": {
             "T": {
              "params": {
               "T": {
                "type": "Integer"
               },
               "U": {
                "params": {
                 "T": {
                  "type": "Integer"
                 }
                },
                "type": "Vec"
               }
              },
              "type": "Either"
             }
            },
            "type": "Maybe"
           }
          }
         }
        ],
        "-6450582189275633740": [
         "149",
         {
          "args": [
           "8345264965030871901"
          ],
          "function": "Maybe.just",
          "type_params": {
           "T": {
            "params": {
             "T": {
              "type": "Integer"
             },
             "U": {
              "params": {
               "T": {
                "type": "Integer"
               }
              },
              "type": "Vec"
             }
            },
            "type": "Either"
           }
          }
         }
        ],
        "-647100416461333471": [
         "209",
         {
          "args": [
           "4651296622828332485",
           "6000510428274421822"
          ],
          "function": "NDArray.__getitem__"
         }
        ],
        "-6564514059126718460": [
         "229",
         {
          "args": [
           "4201175122181437417"
          ],
          "function": "unbox_idxs"
         }
        ],
        "-6631072375959838291": [
         "5",
         {
          "args": [
           "-3949935688711928029"
          ],
          "function": "NDArrayCompat.to_ndarray"
         }
        ],
        "-6682168410079258802": [
         "73",
         {
          "args": [
           "2168194065413317180",
           "7711574631255395665"
          ],
          "function": "Maybe.__or__",
          "type_params": {
           "T": {
            "params": {
             "T": {
              "type": "Integer"
             },
             "U": {
              "params": {
               "T": {
                "type": "Integer"
               }
              },
              "type": "Vec"
             }
            },
            "type": "Either"
           }
          }
         }
        ],
        "-6714856576435809585": [
         "152",
         {
          "args": [
           "7264589788069880484"
          ],
          "function": "Either.left",
          "type_params": {
           "T": {
            "type": "Integer"
           },
           "U": {
            "params": {
             "T": {
              "type": "Integer"
             }
            },
            "type": "Vec"
           }
          }
         }
        ],
        "-6776228022198580084": [
         "58",
         {
          "args": [
           "-6246887556120899874"
          ],
          "function": "Converter.convert",
          "type_params": {
           "T": {
            "type": "NDArray"
           }
          }
         }
        ],
        "-681883149430652755": [
         "161",
         {
          "args": [
           "6535104741872163332"
          ],
          "function": "Abstraction.create_variable",
          "type_params": {
           "T": {
            "type": "Integer"
           },
           "U": {
            "type": "NDArray"
           }
          }
         }
        ],
        "-69534363120923593": [
         "4",
         {
          "args": [
           "1847465626565053982"
          ],
          "function": "NDArrayCompat.from_ndarray"
         }
        ],
        "-6968257214311654348": [
         "5",
         {
          "args": [
           "-69534363120923593"
          ],
          "function": "NDArrayCompat.to_ndarray"
         }
        ],
        "-7030857675430564360": [
         "5",
         {
          "args": [
           "3947593102736331362"
          ],
          "function": "NDArrayCompat.to_ndarray"
         }
        ],
        "-7155719998891297903": [
         "110",
         {
          "args": [
           "7264589788069880484",
           "-6714856576435809585"
          ],
          "function": "Abstraction.create",
          "type_params": {
           "T": {
            "type": "Integer"
           },
           "U": {
            "params": {
             "T": {
              "type": "Integer"
             },
             "U": {
              "params": {
               "T": {
                "type": "Integer"
               }
              },
              "type": "Vec"
             }
            },
            "type": "Either"
           }
          }
         }
        ],
        "-7192939821499825056": [
         "188",
         {
          "args": [
           "3587194641098404711",
           "-4854682022189550212"
          ],
          "function": "NDArray.__getitem__"
         }
        ],
        "-7312718695066562066": [
         "57",
         {
          "args": [
           "4664900885540065989",
           "4664900885540065989"
          ],
          "function": "NDArrayCompat.__add__"
         }
        ],
        "-7362647552213970827": [
         "73",
         {
          "args": [
           "2918370955709630051",
           "-5440874827213941777"
          ],
          "function": "Maybe.__or__",
          "type_params": {
           "T": {
            "params": {
             "T": {
              "type": "Integer"
             },
             "U": {
              "params": {
               "T": {
                "type": "Integer"
               }
              },
              "type": "Vec"
             }
            },
            "type": "Either"
           }
          }
         }
        ],
        "-7419848433018843196": [
         "28",
         {
          "args": [
           "-2343543009110872125"
          ],
          "function": "Converter.convert",
          "type_params": {
           "T": {
            "type": "Integer"
           }
          }
         }
        ],
        "-7575133038086851428": [
         "55",
         {
          "args": [
           "5204199085984746916",
           "-3211906671069159500"
          ],
          "function": "Abstraction.__call__",
          "type_params": {
           "T": {
            "type": "Integer"
           },
           "U": {
            "params": {
             "T": {
              "type": "NDArray"
             }
            },
            "type": "Maybe"
           }
          }
         }
        ],
        "-7587745279488067732": [
         "5",
         {
          "args": [
           "3688820308881422910"
          ],
          "function": "NDArrayCompat.to_ndarray"
         }
        ],
        "-7733712980391700178": [
         "11",
         {
          "args": [
           "3060511389239516074",
           "-929586104530545663"
          ],
          "function": "Maybe.__or__",
          "type_params": {
           "T": {
            "params": {
             "T": {
              "type": "Integer"
             },
             "U": {
              "params": {
               "T": {
                "type": "Integer"
               }
              },
              "type": "Vec"
             }
            },
            "type": "Either"
           }
          }
         }
        ],
        "-7904289052956079552": [
         "8",
         {
          "args": [
           "8048132554636258713",
           "8048132554636258713"
          ],
          "function": "NDArrayCompat.__add__"
         }
        ],
        "-7961011794573706772": [
         "4",
         {
          "args": [
           "-8722162341014511828"
          ],
          "function": "NDArrayCompat.from_ndarray"
         }
        ],
        "-8173341597729587494": [
         "15",
         {
          "args": [
           "-647100416461333471"
          ],
          "function": "Maybe.just",
          "type_params": {
           "T": {
            "type": "NDArray"
           }
          }
         }
        ],
        "-83155636971227537": [
         "5",
         {
          "args": [
           "-4781631431008228117",
           "-6564514059126718460"
          ],
          "function": "ndarray_getitem"
         }
        ],
        "-8370971461542121230": [
         "111",
         {
          "args": [
           "7264589788069880484",
           "5226023587103420069"
          ],
          "function": "Abstraction.create"
         }
        ],
        "-8468257899888964040": [
         "18",
         {
          "repr": "Either.left",
          "type": "BoundInfer"
         }
        ],
        "-8481192426717448493": [
         "4",
         {
          "args": [
           "7990860244780467143"
          ],
          "function": "NDArrayCompat.from_ndarray"
         }
        ],
        "-8497116489823486004": [
         "55",
         {
          "args": [
           "7721625103523387699",
           "-3211906671069159500"
          ],
          "function": "Abstraction.__call__",
          "type_params": {
           "T": {
            "type": "Integer"
           },
           "U": {
            "params": {
             "T": {
              "type": "NDArray"
             }
            },
            "type": "Maybe"
           }
          }
         }
        ],
        "-8553489818472225567": [
         "4",
         {
          "args": [
           "-1269778831231878016"
          ],
          "function": "NDArrayCompat.from_ndarray"
         }
        ],
        "-8583977792302834282": [
         "66",
         {
          "args": [
           "4201175122181437417"
          ],
          "function": "Maybe.just",
          "type_params": {
           "T": {
            "params": {
             "T": {
              "type": "Integer"
             },
             "U": {
              "params": {
               "T": {
                "type": "Integer"
               }
              },
              "type": "Vec"
             }
            },
            "type": "Either"
           }
          }
         }
        ],
        "-8606930834387890232": [
         "15",
         {
          "args": [
           "6434807239647495799",
           "-3451531081120554898"
          ],
          "function": "Maybe.map",
          "type_params": {
           "T": {
            "params": {
             "T": {
              "type": "NDArray"
             },
             "U": {
              "params": {
               "T": {
                "type": "Integer"
               },
               "U": {
                "params": {
                 "T": {
                  "type": "Integer"
                 }
                },
                "type": "Vec"
               }
              },
              "type": "Either"
             }
            },
            "type": "Pair"
           }
          }
         }
        ],
        "-8619175044629905810": [
         "15",
         {
          "args": [
           "-8853983977266964720"
          ],
          "function": "Maybe.just",
          "type_params": {
           "T": {
            "type": "NDArray"
           }
          }
         }
        ],
        "-867761713948802074": [
         "15",
         {
          "args": [
           "8867786982831191325",
           "5010042427115200897",
           "-5515526385815077566"
          ],
          "function": "Maybe.match",
          "type_params": {
           "T": {
            "params": {
             "T": {
              "type": "NDArray"
             },
             "U": {
              "params": {
               "T": {
                "type": "Integer"
               },
               "U": {
                "params": {
                 "T": {
                  "type": "Integer"
                 }
                },
                "type": "Vec"
               }
              },
              "type": "Either"
             }
            },
            "type": "Pair"
           }
          }
         }
        ],
        "-8722162341014511828": [
         "15",
         {
          "args": [
           "3331656529985858360",
           "5010042427115200897",
           "5345828244535529485"
          ],
          "function": "Maybe.match",
          "type_params": {
           "T": {
            "params": {
             "T": {
              "type": "NDArray"
             },
             "U": {
              "params": {
               "T": {
                "type": "Integer"
               },
               "U": {
                "params": {
                 "T": {
                  "type": "Integer"
                 }
                },
                "type": "Vec"
               }
              },
              "type": "Either"
             }
            },
            "type": "Pair"
           }
          }
         }
        ],
        "-8826227201726340142": [
         "74",
         {
          "args": [
           "-1391931857335621040",
           "-6682168410079258802"
          ],
          "function": "Maybe.__and__",
          "type_params": {
           "T": {
            "type": "NDArray"
           }
          }
         }
        ],
        "-8853983977266964720": [
         "220",
         {
          "args": [
           "1981297816395282152",
           "4201175122181437417"
          ],
          "function": "NDArray.__getitem__"
         }
        ],
        "-9087174382080386220": [
         "116",
         {
          "args": [
           "-3211906671069159500"
          ],
          "function": "Maybe.just"
         }
        ],
        "-922270673610291809": [
         "7",
         {
          "args": [
           "755595635068515974"
          ],
          "function": "NDArrayCompat.from_ndarray"
         }
        ],
        "-929586104530545663": [
         "24",
         {
          "args": [
           "2545304333211044905",
           "7232310311571945746"
          ],
          "function": "Maybe.map",
          "type_params": {
           "T": {
            "params": {
             "T": {
              "type": "Integer"
             }
            },
            "type": "Vec"
           }
          }
         }
        ],
        "-933314412873480635": [
         "147",
         {
          "args": [
           "-2688267295116845576"
          ],
          "function": "Abstraction.create_variable",
          "type_params": {
           "T": {
            "params": {
             "T": {
              "type": "Integer"
             }
            },
            "type": "Vec"
           },
           "U": {
            "params": {
             "T": {
              "type": "Integer"
             },
             "U": {
              "params": {
               "T": {
                "type": "Integer"
               }
              },
              "type": "Vec"
             }
            },
            "type": "Either"
           }
          }
         }
        ],
        "-942110970961631503": [
         "73",
         {
          "args": [
           "-8583977792302834282",
           "7711574631255395665"
          ],
          "function": "Maybe.__or__",
          "type_params": {
           "T": {
            "params": {
             "T": {
              "type": "Integer"
             },
             "U": {
              "params": {
               "T": {
                "type": "Integer"
               }
              },
              "type": "Vec"
             }
            },
            "type": "Either"
           }
          }
         }
        ],
        "1011226907003288127": [
         "4",
         {
          "args": [
           "-4160454218532354969"
          ],
          "function": "NDArrayCompat.from_ndarray"
         }
        ],
        "1059369748599536817": [
         "5",
         {
          "args": [
           "9058269855090629275"
          ],
          "function": "NDArrayCompat.to_ndarray"
         }
        ],
        "1064008545016023923": [
         "93",
         {
          "args": [
           "337597793297067320",
           "-1459364817511406284"
          ],
          "function": "Abstraction.__add__",
          "type_params": {
           "T": {
            "params": {
             "T": {
              "type": "Integer"
             },
             "U": {
              "params": {
               "T": {
                "type": "Integer"
               }
              },
              "type": "Vec"
             }
            },
            "type": "Either"
           },
           "U": {
            "params": {
             "T": {
              "params": {
               "T": {
                "type": "Integer"
               },
               "U": {
                "params": {
                 "T": {
                  "type": "Integer"
                 }
                },
                "type": "Vec"
               }
              },
              "type": "Either"
             }
            },
            "type": "Maybe"
           }
          }
         }
        ],
        "1147115579276224886": [
         "72",
         {
          "args": [
           "2545304333211044905",
           "-1459364817511406284"
          ],
          "function": "Maybe.map",
          "type_params": {
           "T": {
            "params": {
             "T": {
              "type": "Integer"
             }
            },
            "type": "Vec"
           }
          }
         }
        ],
        "1170024317587024228": [
         "5",
         {
          "args": [
           "-4781631431008228117",
           "-2343543019896068700"
          ],
          "function": "ndarray_getitem"
         }
        ],
        "1174727054115292497": [
         "231",
         {
          "args": [
           "-2343543019896068700"
          ],
          "function": "Integer.from_int"
         }
        ],
        "1485276608637599744": [
         "138",
         {
          "args": [
           "-2688267308676553726"
          ],
          "function": "Abstraction.create_variable",
          "type_params": {
           "T": {
            "type": "NDArray"
           },
           "U": {
            "params": {
             "T": {
              "type": "NDArray"
             }
            },
            "type": "Maybe"
           }
          }
         }
        ],
        "15754825536588370": [
         "238",
         {
          "args": [
           "-3211906671069159500"
          ],
          "function": "unbox_integer"
         }
        ],
        "1600967904280980302": [
         "19",
         {
          "args": [
           "-8468257899888964040"
          ],
          "function": "Abstraction.from_fn"
         }
        ],
        "1681794854102958805": [
         "7",
         {
          "args": [
           "-5442604150434097866"
          ],
          "function": "NDArrayCompat.from_ndarray"
         }
        ],
        "1747719798254964755": [
         "74",
         {
          "args": [
           "2691483882806188093",
           "6471716957542554499"
          ],
          "function": "Maybe.__and__",
          "type_params": {
           "T": {
            "type": "NDArray"
           }
          }
         }
        ],
        "1821729678554375166": [
         "4",
         {
          "args": [
           "8880699539502445088"
          ],
          "function": "NDArrayCompat.from_ndarray"
         }
        ],
        "1847465626565053982": [
         "15",
         {
          "args": [
           "8448855230416979157",
           "5010042427115200897",
           "-5515526385815077566"
          ],
          "function": "Maybe.match",
          "type_params": {
           "T": {
            "params": {
             "T": {
              "type": "NDArray"
             },
             "U": {
              "params": {
               "T": {
                "type": "Integer"
               },
               "U": {
                "params": {
                 "T": {
                  "type": "Integer"
                 }
                },
                "type": "Vec"
               }
              },
              "type": "Either"
             }
            },
            "type": "Pair"
           }
          }
         }
        ],
        "197825211841720278": [
         "12",
         {
          "args": [
           "6705896862061312865",
           "-3768755245752191014"
          ],
          "function": "Maybe.__and__",
          "type_params": {
           "T": {
            "type": "NDArray"
           }
          }
         }
        ],
        "1981297816395282152": [
         "224",
         {
          "args": [
           "-350095738741188719",
           "-350095738741188719"
          ],
          "function": "NDArray.__add__"
         }
        ],
        "2048773056580625209": [
         "73",
         {
          "args": [
           "4201175122181437417"
          ],
          "function": "Maybe.just"
         }
        ],
        "2055083783529237831": [
         "58",
         {
          "args": [
           "-7312718695066562066"
          ],
          "function": "Converter.convert",
          "type_params": {
           "T": {
            "type": "NDArray"
           }
          }
         }
        ],
        "2064676179084898745": [
         "5",
         {
          "args": [
           "8164860637832873523"
          ],
          "function": "NDArrayCompat.to_ndarray"
         }
        ],
        "2167403046050443998": [
         "189",
         {
          "args": [
           "-7192939821499825056"
          ],
          "function": "Maybe.just",
          "type_params": {
           "T": {
            "type": "NDArray"
           }
          }
         }
        ],
        "2168194065413317180": [
         "66",
         {
          "args": [
           "-2160334129442717181",
           "1174727054115292497"
          ],
          "function": "Abstraction.__call__",
          "type_params": {
           "T": {
            "type": "Integer"
           },
           "U": {
            "params": {
             "T": {
              "params": {
               "T": {
                "type": "Integer"
               },
               "U": {
                "params": {
                 "T": {
                  "type": "Integer"
                 }
                },
                "type": "Vec"
               }
              },
              "type": "Either"
             }
            },
            "type": "Maybe"
           }
          }
         }
        ],
        "2180838819940015141": [
         "93",
         {
          "args": [
           "8082615459371191027",
           "-1459364817511406284"
          ],
          "function": "Abstraction.__add__",
          "type_params": {
           "T": {
            "params": {
             "T": {
              "type": "Integer"
             },
             "U": {
              "params": {
               "T": {
                "type": "Integer"
               }
              },
              "type": "Vec"
             }
            },
            "type": "Either"
           },
           "U": {
            "params": {
             "T": {
              "params": {
               "T": {
                "type": "Integer"
               },
               "U": {
                "params": {
                 "T": {
                  "type": "Integer"
                 }
                },
                "type": "Vec"
               }
              },
              "type": "Either"
             }
            },
            "type": "Maybe"
           }
          }
         }
        ],
        "2264114627236839274": [
         "73",
         {
          "args": [
           "475260470608448782",
           "1147115579276224886"
          ],
          "function": "Maybe.__or__",
          "type_params": {
           "T": {
            "params": {
             "T": {
              "type": "Integer"
             },
             "U": {
              "params": {
               "T": {
                "type": "Integer"
               }
              },
              "type": "Vec"
             }
            },
            "type": "Either"
           }
          }
         }
        ],
        "2476810676982448960": [
         "58",
         {
          "args": [
           "5860956407953314606"
          ],
          "function": "Converter.convert",
          "type_params": {
           "T": {
            "type": "NDArray"
           }
          }
         }
        ],
        "2528486935029191272": [
         "135",
         {
          "args": [
           "6535104727114100007"
          ],
          "function": "Abstraction.create_variable",
          "type_params": {
           "T": {
            "params": {
             "T": {
              "type": "Integer"
             },
             "U": {
              "params": {
               "T": {
                "type": "Integer"
               }
              },
              "type": "Vec"
             }
            },
            "type": "Either"
           },
           "U": {
            "params": {
             "T": {
              "params": {
               "T": {
                "type": "Integer"
               },
               "U": {
                "params": {
                 "T": {
                  "type": "Integer"
                 }
                },
                "type": "Vec"
               }
              },
              "type": "Either"
             }
            },
            "type": "Maybe"
           }
          }
         }
        ],
        "2545304333211044905": [
         "85",
         {
          "args": [
           "-2343543019896068700"
          ],
          "function": "Converter.convert",
          "type_params": {
           "T": {
            "params": {
             "T": {
              "type": "Integer"
             }
            },
            "type": "Vec"
           }
          }
         }
        ],
        "2691483882806188093": [
         "58",
         {
          "args": [
           "7179044629343843142"
          ],
          "function": "Converter.convert",
          "type_params": {
           "T": {
            "type": "NDArray"
           }
          }
         }
        ],
        "2868746651488696172": [
         "5",
         {
          "args": [
           "1011226907003288127"
          ],
          "function": "NDArrayCompat.to_ndarray"
         }
        ],
        "2918370955709630051": [
         "66",
         {
          "args": [
           "-5588014448240227602",
           "3951416324193783238",
           "935647309877580277"
          ],
          "function": "Maybe.match",
          "type_params": {
           "T": {
            "type": "Integer"
           }
          }
         }
        ],
        "2952534981978399525": [
         "5",
         {
          "repr": "10",
          "type": "ndarray"
         }
        ],
        "2952534996821982325": [
         "235",
         {
          "repr": "[   0    1    2 ... 9997 9998 9999]",
          "type": "ndarray"
         }
        ],
        "2952535439912455125": [
         "225",
         {
          "repr": "[    0     2     4 ... 19994 19996 19998]",
          "type": "ndarray"
         }
        ],
        "297819167986237329": [
         "5",
         {
          "args": [
           "1821729678554375166"
          ],
          "function": "NDArrayCompat.to_ndarray"
         }
        ],
        "2978620999866985491": [
         "209",
         {
          "args": [
           "4651296622828332485",
           "4201175122181437417"
          ],
          "function": "NDArray.__getitem__"
         }
        ],
        "3029637732828669727": [
         "15",
         {
          "args": [
           "197825211841720278",
           "-3451531081120554898"
          ],
          "function": "Maybe.map",
          "type_params": {
           "T": {
            "params": {
             "T": {
              "type": "NDArray"
             },
             "U": {
              "params": {
               "T": {
                "type": "Integer"
               },
               "U": {
                "params": {
                 "T": {
                  "type": "Integer"
                 }
                },
                "type": "Vec"
               }
              },
              "type": "Either"
             }
            },
            "type": "Pair"
           }
          }
         }
        ],
        "3056962054794237452": [
         "5",
         {
          "args": [
           "8203104477679628380"
          ],
          "function": "NDArrayCompat.to_ndarray"
         }
        ],
        "3060511389239516074": [
         "20",
         {
          "args": [
           "-2995819664212582815",
           "1600967904280980302"
          ],
          "function": "Maybe.map",
          "type_params": {
           "T": {
            "type": "Integer"
           }
          }
         }
        ],
        "3105272174185772362": [
         "15",
         {
          "args": [
           "7194296454476592305",
           "5010042427115200897",
           "-5515526385815077566"
          ],
          "function": "Maybe.match",
          "type_params": {
           "T": {
            "params": {
             "T": {
              "type": "NDArray"
             },
             "U": {
              "params": {
               "T": {
                "type": "Integer"
               },
               "U": {
                "params": {
                 "T": {
                  "type": "Integer"
                 }
                },
                "type": "Vec"
               }
              },
              "type": "Either"
             }
            },
            "type": "Pair"
           }
          }
         }
        ],
        "314267667532091469": [
         "235",
         {
          "args": [
           "15754825536588370"
          ],
          "function": "arange"
         }
        ],
        "3200866610237188512": [
         "22",
         {
          "repr": "Either.right",
          "type": "BoundInfer"
         }
        ],
        "3295549561561177437": [
         "5",
         {
          "args": [
           "-5579144276356697580"
          ],
          "function": "NDArrayCompat.to_ndarray"
         }
        ],
        "3331656529985858360": [
         "74",
         {
          "args": [
           "2691483882806188093",
           "-2619469003752300271"
          ],
          "function": "Maybe.__and__",
          "type_params": {
           "T": {
            "type": "NDArray"
           }
          }
         }
        ],
        "337597793297067320": [
         "106",
         {
          "args": [
           "8187983518564237184"
          ],
          "function": "Abstraction.from_fn"
         }
        ],
        "3475792922954704675": [
         "58",
         {
          "args": [
           "1981297816395282152"
          ],
          "function": "Maybe.just"
         }
        ],
        "3572900363202299158": [
         "5",
         {
          "args": [
           "-3483949152017935794"
          ],
          "function": "NDArrayCompat.to_ndarray"
         }
        ],
        "3587194641098404711": [
         "186",
         {
          "args": [
           "-4178253784485202331"
          ],
          "function": "Pair.left",
          "type_params": {
           "T": {
            "type": "NDArray"
           },
           "U": {
            "params": {
             "T": {
              "type": "Integer"
             },
             "U": {
              "params": {
               "T": {
                "type": "Integer"
               }
              },
              "type": "Vec"
             }
            },
            "type": "Either"
           }
          }
         }
        ],
        "3688820308881422910": [
         "4",
         {
          "args": [
           "-6360118399003149979"
          ],
          "function": "NDArrayCompat.from_ndarray"
         }
        ],
        "3851380084848435986": [
         "15",
         {
          "args": [
           "9063511620264717648",
           "-2041567181769803567"
          ],
          "function": "Maybe.map",
          "type_params": {
           "T": {
            "params": {
             "T": {
              "type": "NDArray"
             },
             "U": {
              "params": {
               "T": {
                "type": "Integer"
               },
               "U": {
                "params": {
                 "T": {
                  "type": "Integer"
                 }
                },
                "type": "Vec"
               }
              },
              "type": "Either"
             }
            },
            "type": "Pair"
           }
          }
         }
        ],
        "3947593102736331362": [
         "4",
         {
          "args": [
           "-8173341597729587494"
          ],
          "function": "NDArrayCompat.from_ndarray"
         }
        ],
        "3951416324193783238": [
         "97",
         {
          "function": "Maybe.nothing",
          "type_params": {
           "T": {
            "params": {
             "T": {
              "type": "Integer"
             },
             "U": {
              "params": {
               "T": {
                "type": "Integer"
               }
              },
              "type": "Vec"
             }
            },
            "type": "Either"
           }
          }
         }
        ],
        "4000633561877087041": [
         "4",
         {
          "args": [
           "3029637732828669727"
          ],
          "function": "NDArrayCompat.from_ndarray"
         }
        ],
        "4001431005664098423": [
         "11",
         {
          "args": [
           "4441256469196746958",
           "1147115579276224886"
          ],
          "function": "Maybe.__or__",
          "type_params": {
           "T": {
            "params": {
             "T": {
              "type": "Integer"
             },
             "U": {
              "params": {
               "T": {
                "type": "Integer"
               }
              },
              "type": "Vec"
             }
            },
            "type": "Either"
           }
          }
         }
        ],
        "419225186218343025": [
         "74",
         {
          "args": [
           "2055083783529237831",
           "-2619469003752300271"
          ],
          "function": "Maybe.__and__",
          "type_params": {
           "T": {
            "type": "NDArray"
           }
          }
         }
        ],
        "4201175122181437417": [
         "228",
         {
          "args": [
           "1174727054115292497"
          ],
          "function": "Either.left",
          "type_params": {
           "T": {
            "type": "Integer"
           },
           "U": {
            "params": {
             "T": {
              "type": "Integer"
             }
            },
            "type": "Vec"
           }
          }
         }
        ],
        "4204889530426553839": [
         "139",
         {
          "args": [
           "1485276608637599744"
          ],
          "function": "Maybe.just",
          "type_params": {
           "T": {
            "type": "NDArray"
           }
          }
         }
        ],
        "4217467748371330306": [
         "126",
         {
          "args": [
           "1485276608637599744",
           "4204889530426553839"
          ],
          "function": "Abstraction.create",
          "type_params": {
           "T": {
            "type": "NDArray"
           },
           "U": {
            "params": {
             "T": {
              "type": "NDArray"
             }
            },
            "type": "Maybe"
           }
          }
         }
        ],
        "4260811549756975427": [
         "4",
         {
          "args": [
           "-3897427368245059045"
          ],
          "function": "NDArrayCompat.from_ndarray"
         }
        ],
        "4441256469196746958": [
         "20",
         {
          "args": [
           "-5588014448240227602",
           "1600967904280980302"
          ],
          "function": "Maybe.map",
          "type_params": {
           "T": {
            "type": "Integer"
           }
          }
         }
        ],
        "4512902138288630235": [
         "5",
         {
          "args": [
           "-4863396539837125244",
           "-2343543019896068700"
          ],
          "function": "ndarray_getitem"
         }
        ],
        "4651296622828332485": [
         "207",
         {
          "args": [
           "-1983343742235582578"
          ],
          "function": "Pair.left",
          "type_params": {
           "T": {
            "type": "NDArray"
           },
           "U": {
            "params": {
             "T": {
              "type": "Integer"
             },
             "U": {
              "params": {
               "T": {
                "type": "Integer"
               }
              },
              "type": "Vec"
             }
            },
            "type": "Either"
           }
          }
         }
        ],
        "4664900885540065989": [
         "56",
         {
          "args": [
           "7695092559640317441"
          ],
          "function": "NDArrayCompat.from_ndarray"
         }
        ],
        "4712737428197175677": [
         "72",
         {
          "args": [
           "2545304333211044905",
           "3951416324193783238",
           "2180838819940015141"
          ],
          "function": "Maybe.match",
          "type_params": {
           "T": {
            "params": {
             "T": {
              "type": "Integer"
             }
            },
            "type": "Vec"
           }
          }
         }
        ],
        "4715524214656841820": [
         "4",
         {
          "args": [
           "-7904289052956079552",
           "-2343543019896068700"
          ],
          "function": "NDArrayCompat.__getitem__"
         }
        ],
        "475260470608448782": [
         "66",
         {
          "args": [
           "-5588014448240227602",
           "-7155719998891297903"
          ],
          "function": "Maybe.map",
          "type_params": {
           "T": {
            "type": "Integer"
           }
          }
         }
        ],
        "4756748793500036766": [
         "5",
         {
          "args": [
           "-2086474004589657243"
          ],
          "function": "NDArrayCompat.to_ndarray"
         }
        ],
        "4991267349325335827": [
         "5",
         {
          "args": [
           "-5061961558092884090"
          ],
          "function": "NDArrayCompat.to_ndarray"
         }
        ],
        "5006418482766028863": [
         "5",
         {
          "args": [
           "5677293103406876710"
          ],
          "function": "NDArrayCompat.to_ndarray"
         }
        ],
        "5010042427115200897": [
         "117",
         {
          "function": "Maybe.nothing",
          "type_params": {
           "T": {
            "type": "NDArray"
           }
          }
         }
        ],
        "5013429675180790134": [
         "4",
         {
          "args": [
           "9174691272676116920"
          ],
          "function": "NDArrayCompat.from_ndarray"
         }
        ],
        "5061402071704891479": [
         "56",
         {
          "args": [
           "-625819870061052802"
          ],
          "function": "NDArrayCompat.from_ndarray"
         }
        ],
        "5204199085984746916": [
         "131",
         {
          "args": [
           "-681883149430652755",
           "5783568063757114117"
          ],
          "function": "Abstraction.create"
         }
        ],
        "5226023587103420069": [
         "153",
         {
          "args": [
           "-6714856576435809585"
          ],
          "function": "Maybe.just",
          "type_params": {
           "T": {
            "params": {
             "T": {
              "type": "Integer"
             },
             "U": {
              "params": {
               "T": {
                "type": "Integer"
               }
              },
              "type": "Vec"
             }
            },
            "type": "Either"
           }
          }
         }
        ],
        "5233160290688319511": [
         "5",
         {
          "args": [
           "2952535439912455125",
           "-2343543019896068700"
          ],
          "function": "ndarray_getitem"
         }
        ],
        "5265829696109506560": [
         "15",
         {
          "args": [
           "-4127025317534657754",
           "-2041567181769803567"
          ],
          "function": "Maybe.map",
          "type_params": {
           "T": {
            "params": {
             "T": {
              "type": "NDArray"
             },
             "U": {
              "params": {
               "T": {
                "type": "Integer"
               },
               "U": {
                "params": {
                 "T": {
                  "type": "Integer"
                 }
                },
                "type": "Vec"
               }
              },
              "type": "Either"
             }
            },
            "type": "Pair"
           }
          }
         }
        ],
        "5345828244535529485": [
         "84",
         {
          "args": [
           "7874239370555669378",
           "-2041567181769803567"
          ],
          "function": "Abstraction.__add__",
          "type_params": {
           "T": {
            "type": "NDArray"
           },
           "U": {
            "params": {
             "T": {
              "type": "NDArray"
             }
            },
            "type": "Maybe"
           }
          }
         }
        ],
        "5434607836658971630": [
         "5",
         {
          "args": [
           "8756284184006520724",
           "-2343543019896068700"
          ],
          "function": "ndarray_getitem"
         }
        ],
        "5479063479608843013": [
         "9",
         {
          "args": [
           "7425538194905572766"
          ],
          "function": "Converter.convert",
          "type_params": {
           "T": {
            "type": "NDArray"
           }
          }
         }
        ],
        "5525400136859490342": [
         "57",
         {
          "args": [
           "703173405483134195",
           "703173405483134195"
          ],
          "function": "NDArrayCompat.__add__"
         }
        ],
        "5542458479277579054": [
         "66",
         {
          "args": [
           "935647309877580277",
           "1174727054115292497"
          ],
          "function": "Abstraction.__call__",
          "type_params": {
           "T": {
            "type": "Integer"
           },
           "U": {
            "params": {
             "T": {
              "params": {
               "T": {
                "type": "Integer"
               },
               "U": {
                "params": {
                 "T": {
                  "type": "Integer"
                 }
                },
                "type": "Vec"
               }
              },
              "type": "Either"
             }
            },
            "type": "Maybe"
           }
          }
         }
        ],
        "5551072758799018615": [
         "15",
         {
          "args": [
           "-5430979454648748371",
           "5010042427115200897",
           "-5515526385815077566"
          ],
          "function": "Maybe.match",
          "type_params": {
           "T": {
            "params": {
             "T": {
              "type": "NDArray"
             },
             "U": {
              "params": {
               "T": {
                "type": "Integer"
               },
               "U": {
                "params": {
                 "T": {
                  "type": "Integer"
                 }
                },
                "type": "Vec"
               }
              },
              "type": "Either"
             }
            },
            "type": "Pair"
           }
          }
         }
        ],
        "5558280096554669102": [
         "74",
         {
          "args": [
           "2691483882806188093",
           "-7362647552213970827"
          ],
          "function": "Maybe.__and__",
          "type_params": {
           "T": {
            "type": "NDArray"
           }
          }
         }
        ],
        "5677293103406876710": [
         "4",
         {
          "args": [
           "3105272174185772362"
          ],
          "function": "NDArrayCompat.from_ndarray"
         }
        ],
        "5783568063757114117": [
         "163",
         {
          "args": [
           "8736167552244514047"
          ],
          "function": "Maybe.just",
          "type_params": {
           "T": {
            "type": "NDArray"
           }
          }
         }
        ],
        "5849924784759920625": [
         "5",
         {
          "args": [
           "-8553489818472225567"
          ],
          "function": "NDArrayCompat.to_ndarray"
         }
        ],
        "5860956407953314606": [
         "57",
         {
          "args": [
           "5061402071704891479",
           "5061402071704891479"
          ],
          "function": "NDArrayCompat.__add__"
         }
        ],
        "6000510428274421822": [
         "208",
         {
          "args": [
           "-1983343742235582578"
          ],
          "function": "Pair.right",
          "type_params": {
           "T": {
            "type": "NDArray"
           },
           "U": {
            "params": {
             "T": {
              "type": "Integer"
             },
             "U": {
              "params": {
               "T": {
                "type": "Integer"
               }
              },
              "type": "Vec"
             }
            },
            "type": "Either"
           }
          }
         }
        ],
        "6079112021159403870": [
         "57",
         {
          "args": [
           "7747982866526352972",
           "7747982866526352972"
          ],
          "function": "NDArrayCompat.__add__"
         }
        ],
        "6238152556564175668": [
         "15",
         {
          "args": [
           "419225186218343025",
           "5010042427115200897",
           "5345828244535529485"
          ],
          "function": "Maybe.match",
          "type_params": {
           "T": {
            "params": {
             "T": {
              "type": "NDArray"
             },
             "U": {
              "params": {
               "T": {
                "type": "Integer"
               },
               "U": {
                "params": {
                 "T": {
                  "type": "Integer"
                 }
                },
                "type": "Vec"
               }
              },
              "type": "Either"
             }
            },
            "type": "Pair"
           }
          }
         }
        ],
        "6425267506285488358": [
         "235",
         {
          "args": [
           "-350095738741188719"
          ],
          "function": "NDArray.to_ndarray"
         }
        ],
        "6434807239647495799": [
         "12",
         {
          "args": [
           "-1916172054569702322",
           "-3768755245752191014"
          ],
          "function": "Maybe.__and__",
          "type_params": {
           "T": {
            "type": "NDArray"
           }
          }
         }
        ],
        "6471716957542554499": [
         "73",
         {
          "args": [
           "475260470608448782",
           "-5440874827213941777"
          ],
          "function": "Maybe.__or__",
          "type_params": {
           "T": {
            "params": {
             "T": {
              "type": "Integer"
             },
             "U": {
              "params": {
               "T": {
                "type": "Integer"
               }
              },
              "type": "Vec"
             }
            },
            "type": "Either"
           }
          }
         }
        ],
        "6535104727114100007": [
         "134",
         {
          "repr": "4571102624",
          "type": "Variable"
         }
        ],
        "6535104741872163332": [
         "160",
         {
          "repr": "4570859952",
          "type": "Variable"
         }
        ],
        "6549150494111082281": [
         "131",
         {
          "args": [
           "7874239370555669378",
           "-5873423517236263753"
          ],
          "function": "Abstraction.__add__",
          "type_params": {
           "T": {
            "type": "NDArray"
           },
           "U": {
            "params": {
             "T": {
              "type": "NDArray"
             }
            },
            "type": "Maybe"
           }
          }
         }
        ],
        "6705896862061312865": [
         "9",
         {
          "args": [
           "-7904289052956079552"
          ],
          "function": "Converter.convert",
          "type_params": {
           "T": {
            "type": "NDArray"
           }
          }
         }
        ],
        "6792999931904131618": [
         "55",
         {
          "args": [
           "-9087174382080386220",
           "-5873423517236263753"
          ],
          "function": "Maybe.map",
          "type_params": {
           "T": {
            "type": "Integer"
           }
          }
         }
        ],
        "6922325130350078530": [
         "5",
         {
          "args": [
           "-348300307027956495"
          ],
          "function": "NDArrayCompat.to_ndarray"
         }
        ],
        "6923960924931968126": [
         "5",
         {
          "args": [
           "-1153270289806648635"
          ],
          "function": "NDArrayCompat.to_ndarray"
         }
        ],
        "6927662400062031780": [
         "73",
         {
          "args": [
           "-6396661253330347136",
           "7711574631255395665"
          ],
          "function": "Maybe.__or__",
          "type_params": {
           "T": {
            "params": {
             "T": {
              "type": "Integer"
             },
             "U": {
              "params": {
               "T": {
                "type": "Integer"
               }
              },
              "type": "Vec"
             }
            },
            "type": "Either"
           }
          }
         }
        ],
        "703173405483134195": [
         "56",
         {
          "args": [
           "-263192801901547350"
          ],
          "function": "NDArrayCompat.from_ndarray"
         }
        ],
        "7082767260677981981": [
         "235",
         {
          "args": [
           "-2343543009110872125"
          ],
          "function": "arange"
         }
        ],
        "7149129858743265751": [
         "4",
         {
          "args": [
           "7411145549062142715"
          ],
          "function": "NDArrayCompat.from_ndarray"
         }
        ],
        "7179044629343843142": [
         "57",
         {
          "args": [
           "-4735588500733498459",
           "-4735588500733498459"
          ],
          "function": "NDArrayCompat.__add__"
         }
        ],
        "7194296454476592305": [
         "74",
         {
          "args": [
           "-1391931857335621040",
           "-4632579732185590825"
          ],
          "function": "Maybe.__and__",
          "type_params": {
           "T": {
            "type": "NDArray"
           }
          }
         }
        ],
        "7232310311571945746": [
         "23",
         {
          "args": [
           "3200866610237188512"
          ],
          "function": "Abstraction.from_fn"
         }
        ],
        "7264589788069880484": [
         "151",
         {
          "args": [
           "-2688267299422047501"
          ],
          "function": "Abstraction.create_variable",
          "type_params": {
           "T": {
            "type": "Integer"
           },
           "U": {
            "params": {
             "T": {
              "type": "Integer"
             },
             "U": {
              "params": {
               "T": {
                "type": "Integer"
               }
              },
              "type": "Vec"
             }
            },
            "type": "Either"
           }
          }
         }
        ],
        "738406952320010287": [
         "4",
         {
          "args": [
           "6238152556564175668"
          ],
          "function": "NDArrayCompat.from_ndarray"
         }
        ],
        "73994184238493224": [
         "58",
         {
          "args": [
           "5525400136859490342"
          ],
          "function": "Converter.convert",
          "type_params": {
           "T": {
            "type": "NDArray"
           }
          }
         }
        ],
        "7411145549062142715": [
         "15",
         {
          "args": [
           "-8826227201726340142",
           "5010042427115200897",
           "-5515526385815077566"
          ],
          "function": "Maybe.match",
          "type_params": {
           "T": {
            "params": {
             "T": {
              "type": "NDArray"
             },
             "U": {
              "params": {
               "T": {
                "type": "Integer"
               },
               "U": {
                "params": {
                 "T": {
                  "type": "Integer"
                 }
                },
                "type": "Vec"
               }
              },
              "type": "Either"
             }
            },
            "type": "Pair"
           }
          }
         }
        ],
        "7425538194905572766": [
         "8",
         {
          "args": [
           "-922270673610291809",
           "-922270673610291809"
          ],
          "function": "NDArrayCompat.__add__"
         }
        ],
        "755595635068515974": [
         "31",
         {
          "args": [
           "-7419848433018843196",
           "8581193218447811950"
          ],
          "function": "Maybe.map",
          "type_params": {
           "T": {
            "type": "Integer"
           }
          }
         }
        ],
        "7618072381192564266": [
         "225",
         {
          "args": [
           "314267667532091469",
           "314267667532091469"
          ],
          "function": "ndarray_add"
         }
        ],
        "7695092559640317441": [
         "55",
         {
          "args": [
           "6549150494111082281",
           "-3211906671069159500"
          ],
          "function": "Abstraction.__call__",
          "type_params": {
           "T": {
            "type": "Integer"
           },
           "U": {
            "params": {
             "T": {
              "type": "NDArray"
             }
            },
            "type": "Maybe"
           }
          }
         }
        ],
        "7711574631255395665": [
         "72",
         {
          "args": [
           "2545304333211044905",
           "3951416324193783238",
           "-5055958794391171333"
          ],
          "function": "Maybe.match",
          "type_params": {
           "T": {
            "params": {
             "T": {
              "type": "Integer"
             }
            },
            "type": "Vec"
           }
          }
         }
        ],
        "7721625103523387699": [
         "131",
         {
          "args": [
           "4217467748371330306",
           "-5873423517236263753"
          ],
          "function": "Abstraction.__add__",
          "type_params": {
           "T": {
            "type": "NDArray"
           },
           "U": {
            "params": {
             "T": {
              "type": "NDArray"
             }
            },
            "type": "Maybe"
           }
          }
         }
        ],
        "7747982866526352972": [
         "56",
         {
          "args": [
           "-8497116489823486004"
          ],
          "function": "NDArrayCompat.from_ndarray"
         }
        ],
        "7748516678798444434": [
         "29",
         {
          "repr": "arange_",
          "type": "Infer"
         }
        ],
        "7758181823301056191": [
         "4",
         {
          "args": [
           "-867761713948802074"
          ],
          "function": "NDArrayCompat.from_ndarray"
         }
        ],
        "7777363954766500281": [
         "5",
         {
          "args": [
           "-4913416968992463304"
          ],
          "function": "NDArrayCompat.to_ndarray"
         }
        ],
        "7874239370555669378": [
         "126",
         {
          "args": [
           "-5324845206080709229"
          ],
          "function": "Abstraction.from_fn"
         }
        ],
        "7990860244780467143": [
         "15",
         {
          "args": [
           "-6128774859132213776",
           "-3451531081120554898"
          ],
          "function": "Maybe.map",
          "type_params": {
           "T": {
            "params": {
             "T": {
              "type": "NDArray"
             },
             "U": {
              "params": {
               "T": {
                "type": "Integer"
               },
               "U": {
                "params": {
                 "T": {
                  "type": "Integer"
                 }
                },
                "type": "Vec"
               }
              },
              "type": "Either"
             }
            },
            "type": "Pair"
           }
          }
         }
        ],
        "8034337983755497547": [
         "4",
         {
          "args": [
           "5265829696109506560"
          ],
          "function": "NDArrayCompat.from_ndarray"
         }
        ],
        "8048132554636258713": [
         "7",
         {
          "args": [
           "-2343543009110872125"
          ],
          "function": "arange"
         }
        ],
        "8082615459371191027": [
         "106",
         {
          "args": [
           "2528486935029191272",
           "-3507947347579469479"
          ],
          "function": "Abstraction.create",
          "type_params": {
           "T": {
            "params": {
             "T": {
              "type": "Integer"
             },
             "U": {
              "params": {
               "T": {
                "type": "Integer"
               }
              },
              "type": "Vec"
             }
            },
            "type": "Either"
           },
           "U": {
            "params": {
             "T": {
              "params": {
               "T": {
                "type": "Integer"
               },
               "U": {
                "params": {
                 "T": {
                  "type": "Integer"
                 }
                },
                "type": "Vec"
               }
              },
              "type": "Either"
             }
            },
            "type": "Maybe"
           }
          }
         }
        ],
        "8120896365847583127": [
         "5",
         {
          "args": [
           "-8481192426717448493"
          ],
          "function": "NDArrayCompat.to_ndarray"
         }
        ],
        "8164860637832873523": [
         "4",
         {
          "args": [
           "-3762161102576935189"
          ],
          "function": "NDArrayCompat.from_ndarray"
         }
        ],
        "816796590074940938": [
         "5",
         {
          "args": [
           "-7961011794573706772"
          ],
          "function": "NDArrayCompat.to_ndarray"
         }
        ],
        "8187983518564237184": [
         "105",
         {
          "repr": "Maybe.just",
          "type": "BoundInfer"
         }
        ],
        "819148506081979412": [
         "5",
         {
          "args": [
           "-1029345547413412457"
          ],
          "function": "NDArrayCompat.to_ndarray"
         }
        ],
        "8203104477679628380": [
         "4",
         {
          "args": [
           "5551072758799018615"
          ],
          "function": "NDArrayCompat.from_ndarray"
         }
        ],
        "8345264965030871901": [
         "148",
         {
          "args": [
           "-933314412873480635"
          ],
          "function": "Either.right",
          "type_params": {
           "T": {
            "type": "Integer"
           },
           "U": {
            "params": {
             "T": {
              "type": "Integer"
             }
            },
            "type": "Vec"
           }
          }
         }
        ],
        "8399974812041493879": [
         "74",
         {
          "args": [
           "2476810676982448960",
           "-2619469003752300271"
          ],
          "function": "Maybe.__and__",
          "type_params": {
           "T": {
            "type": "NDArray"
           }
          }
         }
        ],
        "8411939617052409487": [
         "84",
         {
          "args": [
           "4217467748371330306",
           "-2041567181769803567"
          ],
          "function": "Abstraction.__add__",
          "type_params": {
           "T": {
            "type": "NDArray"
           },
           "U": {
            "params": {
             "T": {
              "type": "NDArray"
             }
            },
            "type": "Maybe"
           }
          }
         }
        ],
        "8448855230416979157": [
         "74",
         {
          "args": [
           "-1391931857335621040",
           "2048773056580625209"
          ],
          "function": "Maybe.__and__",
          "type_params": {
           "T": {
            "type": "NDArray"
           }
          }
         }
        ],
        "8530837438216523112": [
         "11",
         {
          "args": [
           "-2343543019896068700"
          ],
          "function": "Converter.convert",
          "type_params": {
           "T": {
            "params": {
             "T": {
              "type": "Integer"
             },
             "U": {
              "params": {
               "T": {
                "type": "Integer"
               }
              },
              "type": "Vec"
             }
            },
            "type": "Either"
           }
          }
         }
        ],
        "8581193218447811950": [
         "30",
         {
          "args": [
           "7748516678798444434"
          ],
          "function": "Abstraction.from_fn"
         }
        ],
        "8607575847157526588": [
         "56",
         {
          "args": [
           "-7575133038086851428"
          ],
          "function": "NDArrayCompat.from_ndarray"
         }
        ],
        "8736167552244514047": [
         "162",
         {
          "args": [
           "-681883149430652755"
          ],
          "function": "arange_"
         }
        ],
        "8756284184006520724": [
         "225",
         {
          "args": [
           "7082767260677981981",
           "7082767260677981981"
          ],
          "function": "ndarray_add"
         }
        ],
        "8867786982831191325": [
         "74",
         {
          "args": [
           "73994184238493224",
           "2048773056580625209"
          ],
          "function": "Maybe.__and__",
          "type_params": {
           "T": {
            "type": "NDArray"
           }
          }
         }
        ],
        "8880699539502445088": [
         "15",
         {
          "args": [
           "-2660678580549511838",
           "-3451531081120554898"
          ],
          "function": "Maybe.map",
          "type_params": {
           "T": {
            "params": {
             "T": {
              "type": "NDArray"
             },
             "U": {
              "params": {
               "T": {
                "type": "Integer"
               },
               "U": {
                "params": {
                 "T": {
                  "type": "Integer"
                 }
                },
                "type": "Vec"
               }
              },
              "type": "Either"
             }
            },
            "type": "Pair"
           }
          }
         }
        ],
        "8883977443138545579": [
         "74",
         {
          "args": [
           "-6776228022198580084",
           "2048773056580625209"
          ],
          "function": "Maybe.__and__",
          "type_params": {
           "T": {
            "type": "NDArray"
           }
          }
         }
        ],
        "8966718401416703160": [
         "229",
         {
          "args": [
           "1174727054115292497"
          ],
          "function": "unbox_integer"
         }
        ],
        "9058269855090629275": [
         "4",
         {
          "args": [
           "-5082538020168371084"
          ],
          "function": "NDArrayCompat.from_ndarray"
         }
        ],
        "9063511620264717648": [
         "12",
         {
          "args": [
           "-1916172054569702322",
           "4001431005664098423"
          ],
          "function": "Maybe.__and__",
          "type_params": {
           "T": {
            "type": "NDArray"
           }
          }
         }
        ],
        "9174691272676116920": [
         "15",
         {
          "args": [
           "7194296454476592305",
           "5010042427115200897",
           "8411939617052409487"
          ],
          "function": "Maybe.match",
          "type_params": {
           "T": {
            "params": {
             "T": {
              "type": "NDArray"
             },
             "U": {
              "params": {
               "T": {
                "type": "Integer"
               },
               "U": {
                "params": {
                 "T": {
                  "type": "Integer"
                 }
                },
                "type": "Vec"
               }
              },
              "type": "Either"
             }
            },
            "type": "Pair"
           }
          }
         }
        ],
        "935647309877580277": [
         "111",
         {
          "args": [
           "337597793297067320",
           "-7155719998891297903"
          ],
          "function": "Abstraction.__add__",
          "type_params": {
           "T": {
            "params": {
             "T": {
              "type": "Integer"
             },
             "U": {
              "params": {
               "T": {
                "type": "Integer"
               }
              },
              "type": "Vec"
             }
            },
            "type": "Either"
           },
           "U": {
            "params": {
             "T": {
              "params": {
               "T": {
                "type": "Integer"
               },
               "U": {
                "params": {
                 "T": {
                  "type": "Integer"
                 }
                },
                "type": "Vec"
               }
              },
              "type": "Either"
             }
            },
            "type": "Maybe"
           }
          }
         }
        ]
       },
       "states": {
        "initial": "-4275142096127419791",
        "states": [
         {
          "node": "6923960924931968126",
          "rule": "metadsl_core.numpy.NDArrayCompat.__getitem__"
         },
         {
          "node": "8120896365847583127",
          "rule": "metadsl_core.either.convert_to_either"
         },
         {
          "node": "-5743763412060011443",
          "rule": "metadsl_core.integer.convert_integer"
         },
         {
          "node": "297819167986237329",
          "rule": "metadsl_core.numpy.arange"
         },
         {
          "node": "7777363954766500281",
          "rule": "metadsl_core.integer.convert_integer"
         },
         {
          "node": "1059369748599536817",
          "rule": "metadsl_core.abstraction.Abstraction.from_fn"
         },
         {
          "node": "3572900363202299158",
          "rule": "metadsl_core.abstraction.Abstraction.from_fn"
         },
         {
          "node": "4756748793500036766",
          "rule": "metadsl_core.abstraction.Abstraction.from_fn"
         },
         {
          "node": "-4864825091864824031",
          "rule": "metadsl_core.abstraction.Abstraction.from_fn"
         },
         {
          "node": "5849924784759920625",
          "rule": "metadsl_core.maybe.Maybe.map"
         },
         {
          "node": "3295549561561177437",
          "rule": "metadsl_core.maybe.Maybe.map"
         },
         {
          "node": "2064676179084898745",
          "rule": "metadsl_core.maybe.Maybe.map"
         },
         {
          "node": "816796590074940938",
          "rule": "metadsl_core.maybe.maybe_match"
         },
         {
          "node": "6922325130350078530",
          "rule": "metadsl_core.maybe.Maybe.map"
         },
         {
          "node": "-4830081813867659748",
          "rule": "metadsl_core.maybe.maybe_match"
         },
         {
          "node": "-7587745279488067732",
          "rule": "metadsl_core.abstraction.Abstraction.from_fn"
         },
         {
          "node": "-2602580908205424689",
          "rule": "metadsl_core.abstraction.Abstraction.from_fn"
         },
         {
          "node": "5006418482766028863",
          "rule": "metadsl_core.abstraction.compose"
         },
         {
          "node": "-3696774032206669227",
          "rule": "metadsl_core.abstraction.compose"
         },
         {
          "node": "2868746651488696172",
          "rule": "metadsl_core.abstraction.compose"
         },
         {
          "node": "-2503773958439183038",
          "rule": "metadsl_core.abstraction.beta_reduce"
         },
         {
          "node": "-6968257214311654348",
          "rule": "metadsl_core.maybe.maybe_or"
         },
         {
          "node": "-4913942482975470373",
          "rule": "metadsl_core.abstraction.compose"
         },
         {
          "node": "-3810927928568453427",
          "rule": "metadsl_core.abstraction.beta_reduce"
         },
         {
          "node": "819148506081979412",
          "rule": "metadsl_core.numpy.add_compat"
         },
         {
          "node": "-5722508856330113325",
          "rule": "metadsl_core.numpy.convert_to_ndarray"
         },
         {
          "node": "3056962054794237452",
          "rule": "metadsl_core.maybe.maybe_and"
         },
         {
          "node": "-3306643981929772405",
          "rule": "metadsl_core.maybe.maybe_match"
         },
         {
          "node": "-7030857675430564360",
          "rule": "metadsl_core.abstraction.beta_reduce"
         },
         {
          "node": "-6631072375959838291",
          "rule": "metadsl_core.pair.pair_right"
         },
         {
          "node": "4991267349325335827",
          "rule": "metadsl_core.pair.pair_left"
         },
         {
          "label": "convert",
          "node": "4991267349325335827",
          "rule": ""
         },
         {
          "node": "-4171220823347851982",
          "rule": "metadsl_core.numpy.box_unbox_ndarray_compat"
         },
         {
          "node": "-83155636971227537",
          "rule": "metadsl_core.numpy_engine.unbox_ndarray_getitem"
         },
         {
          "node": "-3754569592220147892",
          "rule": "metadsl_core.numpy_engine.unbox_idxs_rule"
         },
         {
          "node": "1170024317587024228",
          "rule": "metadsl_core.numpy_engine.unbox_integer_rule"
         },
         {
          "node": "4512902138288630235",
          "rule": "metadsl_core.numpy_engine.unbox_ndarray_add"
         },
         {
          "node": "-2927758344763541200",
          "rule": "metadsl_core.numpy_engine.unbox_arange"
         },
         {
          "node": "5434607836658971630",
          "rule": "metadsl_core.numpy_engine.unbox_integer_rule"
         },
         {
          "label": "unbox",
          "node": "5434607836658971630",
          "rule": ""
         },
         {
          "node": "-4405319901785420875",
          "rule": "metadsl_core.numpy_engine.arange"
         },
         {
          "node": "5233160290688319511",
          "rule": "metadsl_core.numpy_engine.ndarray_add"
         },
         {
          "node": "2952534981978399525",
          "rule": "metadsl_core.numpy_engine.ndarray_getitem"
         },
         {
          "label": "execute",
          "node": "2952534981978399525",
          "rule": ""
         }
        ]
       }
      },
      "text/plain": [
       "Typez(definitions=None, nodes={'-2343543009110872125': ['238', PrimitiveNode(type='int', repr='10000')], '8048132554636258713': ['7', CallNode(function='arange', type_params=None, args=['-2343543009110872125'], kwargs=None)], '-7904289052956079552': ['8', CallNode(function='NDArrayCompat.__add__', type_params=None, args=['8048132554636258713', '8048132554636258713'], kwargs=None)], '-2343543019896068700': ['229', PrimitiveNode(type='int', repr='5')], '4715524214656841820': ['4', CallNode(function='NDArrayCompat.__getitem__', type_params=None, args=['-7904289052956079552', '-2343543019896068700'], kwargs=None)], '-4275142096127419791': ['5', CallNode(function='NDArrayCompat.to_ndarray', type_params=None, args=['4715524214656841820'], kwargs=None)], '6705896862061312865': ['9', CallNode(function='Converter.convert', type_params={'T': DeclaredTypeInstance(type='NDArray', params=None)}, args=['-7904289052956079552'], kwargs=None)], '8530837438216523112': ['11', CallNode(function='Converter.convert', type_params={'T': DeclaredTypeInstance(type='Either', params={'U': DeclaredTypeInstance(type='Vec', params={'T': DeclaredTypeInstance(type='Integer', params=None)}), 'T': DeclaredTypeInstance(type='Integer', params=None)})}, args=['-2343543019896068700'], kwargs=None)], '-1975870613233999568': ['12', CallNode(function='Maybe.__and__', type_params={'T': DeclaredTypeInstance(type='NDArray', params=None)}, args=['6705896862061312865', '8530837438216523112'], kwargs=None)], '-2342686919674527600': ['13', PrimitiveNode(type='function', repr='<function NDArrayCompat.__getitem__.<locals>.<lambda> at 0x1106b6d08>')], '-3451531081120554898': ['14', CallNode(function='Abstraction.from_fn', type_params={'U': DeclaredTypeInstance(type='NDArray', params=None), 'T': DeclaredTypeInstance(type='Pair', params={'U': DeclaredTypeInstance(type='Either', params={'U': DeclaredTypeInstance(type='Vec', params={'T': DeclaredTypeInstance(type='Integer', params=None)}), 'T': DeclaredTypeInstance(type='Integer', params=None)}), 'T': DeclaredTypeInstance(type='NDArray', params=None)})}, args=['-2342686919674527600'], kwargs=None)], '-3452539806388460027': ['15', CallNode(function='Maybe.map', type_params={'T': DeclaredTypeInstance(type='Pair', params={'U': DeclaredTypeInstance(type='Either', params={'U': DeclaredTypeInstance(type='Vec', params={'T': DeclaredTypeInstance(type='Integer', params=None)}), 'T': DeclaredTypeInstance(type='Integer', params=None)}), 'T': DeclaredTypeInstance(type='NDArray', params=None)})}, args=['-1975870613233999568', '-3451531081120554898'], kwargs=None)], '-1153270289806648635': ['4', CallNode(function='NDArrayCompat.from_ndarray', type_params=None, args=['-3452539806388460027'], kwargs=None)], '6923960924931968126': ['5', CallNode(function='NDArrayCompat.to_ndarray', type_params=None, args=['-1153270289806648635'], kwargs=None)], '-2995819664212582815': ['17', CallNode(function='Converter.convert', type_params={'T': DeclaredTypeInstance(type='Integer', params=None)}, args=['-2343543019896068700'], kwargs=None)], '-8468257899888964040': ['18', PrimitiveNode(type='BoundInfer', repr='Either.left')], '1600967904280980302': ['19', CallNode(function='Abstraction.from_fn', type_params=None, args=['-8468257899888964040'], kwargs=None)], '3060511389239516074': ['20', CallNode(function='Maybe.map', type_params={'T': DeclaredTypeInstance(type='Integer', params=None)}, args=['-2995819664212582815', '1600967904280980302'], kwargs=None)], '2545304333211044905': ['85', CallNode(function='Converter.convert', type_params={'T': DeclaredTypeInstance(type='Vec', params={'T': DeclaredTypeInstance(type='Integer', params=None)})}, args=['-2343543019896068700'], kwargs=None)], '3200866610237188512': ['22', PrimitiveNode(type='BoundInfer', repr='Either.right')], '7232310311571945746': ['23', CallNode(function='Abstraction.from_fn', type_params=None, args=['3200866610237188512'], kwargs=None)], '-929586104530545663': ['24', CallNode(function='Maybe.map', type_params={'T': DeclaredTypeInstance(type='Vec', params={'T': DeclaredTypeInstance(type='Integer', params=None)})}, args=['2545304333211044905', '7232310311571945746'], kwargs=None)], '-7733712980391700178': ['11', CallNode(function='Maybe.__or__', type_params={'T': DeclaredTypeInstance(type='Either', params={'U': DeclaredTypeInstance(type='Vec', params={'T': DeclaredTypeInstance(type='Integer', params=None)}), 'T': DeclaredTypeInstance(type='Integer', params=None)})}, args=['3060511389239516074', '-929586104530545663'], kwargs=None)], '-6128774859132213776': ['12', CallNode(function='Maybe.__and__', type_params={'T': DeclaredTypeInstance(type='NDArray', params=None)}, args=['6705896862061312865', '-7733712980391700178'], kwargs=None)], '7990860244780467143': ['15', CallNode(function='Maybe.map', type_params={'T': DeclaredTypeInstance(type='Pair', params={'U': DeclaredTypeInstance(type='Either', params={'U': DeclaredTypeInstance(type='Vec', params={'T': DeclaredTypeInstance(type='Integer', params=None)}), 'T': DeclaredTypeInstance(type='Integer', params=None)}), 'T': DeclaredTypeInstance(type='NDArray', params=None)})}, args=['-6128774859132213776', '-3451531081120554898'], kwargs=None)], '-8481192426717448493': ['4', CallNode(function='NDArrayCompat.from_ndarray', type_params=None, args=['7990860244780467143'], kwargs=None)], '8120896365847583127': ['5', CallNode(function='NDArrayCompat.to_ndarray', type_params=None, args=['-8481192426717448493'], kwargs=None)], '1174727054115292497': ['231', CallNode(function='Integer.from_int', type_params=None, args=['-2343543019896068700'], kwargs=None)], '-5588014448240227602': ['96', CallNode(function='Maybe.just', type_params=None, args=['1174727054115292497'], kwargs=None)], '4441256469196746958': ['20', CallNode(function='Maybe.map', type_params={'T': DeclaredTypeInstance(type='Integer', params=None)}, args=['-5588014448240227602', '1600967904280980302'], kwargs=None)], '-3768755245752191014': ['11', CallNode(function='Maybe.__or__', type_params={'T': DeclaredTypeInstance(type='Either', params={'U': DeclaredTypeInstance(type='Vec', params={'T': DeclaredTypeInstance(type='Integer', params=None)}), 'T': DeclaredTypeInstance(type='Integer', params=None)})}, args=['4441256469196746958', '-929586104530545663'], kwargs=None)], '197825211841720278': ['12', CallNode(function='Maybe.__and__', type_params={'T': DeclaredTypeInstance(type='NDArray', params=None)}, args=['6705896862061312865', '-3768755245752191014'], kwargs=None)], '3029637732828669727': ['15', CallNode(function='Maybe.map', type_params={'T': DeclaredTypeInstance(type='Pair', params={'U': DeclaredTypeInstance(type='Either', params={'U': DeclaredTypeInstance(type='Vec', params={'T': DeclaredTypeInstance(type='Integer', params=None)}), 'T': DeclaredTypeInstance(type='Integer', params=None)}), 'T': DeclaredTypeInstance(type='NDArray', params=None)})}, args=['197825211841720278', '-3451531081120554898'], kwargs=None)], '4000633561877087041': ['4', CallNode(function='NDArrayCompat.from_ndarray', type_params=None, args=['3029637732828669727'], kwargs=None)], '-5743763412060011443': ['5', CallNode(function='NDArrayCompat.to_ndarray', type_params=None, args=['4000633561877087041'], kwargs=None)], '-7419848433018843196': ['28', CallNode(function='Converter.convert', type_params={'T': DeclaredTypeInstance(type='Integer', params=None)}, args=['-2343543009110872125'], kwargs=None)], '7748516678798444434': ['29', PrimitiveNode(type='Infer', repr='arange_')], '8581193218447811950': ['30', CallNode(function='Abstraction.from_fn', type_params=None, args=['7748516678798444434'], kwargs=None)], '755595635068515974': ['31', CallNode(function='Maybe.map', type_params={'T': DeclaredTypeInstance(type='Integer', params=None)}, args=['-7419848433018843196', '8581193218447811950'], kwargs=None)], '-922270673610291809': ['7', CallNode(function='NDArrayCompat.from_ndarray', type_params=None, args=['755595635068515974'], kwargs=None)], '7425538194905572766': ['8', CallNode(function='NDArrayCompat.__add__', type_params=None, args=['-922270673610291809', '-922270673610291809'], kwargs=None)], '5479063479608843013': ['9', CallNode(function='Converter.convert', type_params={'T': DeclaredTypeInstance(type='NDArray', params=None)}, args=['7425538194905572766'], kwargs=None)], '-2660678580549511838': ['12', CallNode(function='Maybe.__and__', type_params={'T': DeclaredTypeInstance(type='NDArray', params=None)}, args=['5479063479608843013', '-3768755245752191014'], kwargs=None)], '8880699539502445088': ['15', CallNode(function='Maybe.map', type_params={'T': DeclaredTypeInstance(type='Pair', params={'U': DeclaredTypeInstance(type='Either', params={'U': DeclaredTypeInstance(type='Vec', params={'T': DeclaredTypeInstance(type='Integer', params=None)}), 'T': DeclaredTypeInstance(type='Integer', params=None)}), 'T': DeclaredTypeInstance(type='NDArray', params=None)})}, args=['-2660678580549511838', '-3451531081120554898'], kwargs=None)], '1821729678554375166': ['4', CallNode(function='NDArrayCompat.from_ndarray', type_params=None, args=['8880699539502445088'], kwargs=None)], '297819167986237329': ['5', CallNode(function='NDArrayCompat.to_ndarray', type_params=None, args=['1821729678554375166'], kwargs=None)], '-3211906671069159500': ['237', CallNode(function='Integer.from_int', type_params=None, args=['-2343543009110872125'], kwargs=None)], '-9087174382080386220': ['116', CallNode(function='Maybe.just', type_params=None, args=['-3211906671069159500'], kwargs=None)], '-5442604150434097866': ['31', CallNode(function='Maybe.map', type_params={'T': DeclaredTypeInstance(type='Integer', params=None)}, args=['-9087174382080386220', '8581193218447811950'], kwargs=None)], '1681794854102958805': ['7', CallNode(function='NDArrayCompat.from_ndarray', type_params=None, args=['-5442604150434097866'], kwargs=None)], '-1522120623793325274': ['8', CallNode(function='NDArrayCompat.__add__', type_params=None, args=['1681794854102958805', '1681794854102958805'], kwargs=None)], '-1916172054569702322': ['9', CallNode(function='Converter.convert', type_params={'T': DeclaredTypeInstance(type='NDArray', params=None)}, args=['-1522120623793325274'], kwargs=None)], '6434807239647495799': ['12', CallNode(function='Maybe.__and__', type_params={'T': DeclaredTypeInstance(type='NDArray', params=None)}, args=['-1916172054569702322', '-3768755245752191014'], kwargs=None)], '-8606930834387890232': ['15', CallNode(function='Maybe.map', type_params={'T': DeclaredTypeInstance(type='Pair', params={'U': DeclaredTypeInstance(type='Either', params={'U': DeclaredTypeInstance(type='Vec', params={'T': DeclaredTypeInstance(type='Integer', params=None)}), 'T': DeclaredTypeInstance(type='Integer', params=None)}), 'T': DeclaredTypeInstance(type='NDArray', params=None)})}, args=['6434807239647495799', '-3451531081120554898'], kwargs=None)], '-4913416968992463304': ['4', CallNode(function='NDArrayCompat.from_ndarray', type_params=None, args=['-8606930834387890232'], kwargs=None)], '7777363954766500281': ['5', CallNode(function='NDArrayCompat.to_ndarray', type_params=None, args=['-4913416968992463304'], kwargs=None)], '-2688267295267316551': ['184', PrimitiveNode(type='Variable', repr='4570757384')], '-4178253784485202331': ['185', CallNode(function='Abstraction.create_variable', type_params={'U': DeclaredTypeInstance(type='NDArray', params=None), 'T': DeclaredTypeInstance(type='Pair', params={'U': DeclaredTypeInstance(type='Either', params={'U': DeclaredTypeInstance(type='Vec', params={'T': DeclaredTypeInstance(type='Integer', params=None)}), 'T': DeclaredTypeInstance(type='Integer', params=None)}), 'T': DeclaredTypeInstance(type='NDArray', params=None)})}, args=['-2688267295267316551'], kwargs=None)], '3587194641098404711': ['186', CallNode(function='Pair.left', type_params={'U': DeclaredTypeInstance(type='Either', params={'U': DeclaredTypeInstance(type='Vec', params={'T': DeclaredTypeInstance(type='Integer', params=None)}), 'T': DeclaredTypeInstance(type='Integer', params=None)}), 'T': DeclaredTypeInstance(type='NDArray', params=None)}, args=['-4178253784485202331'], kwargs=None)], '-4854682022189550212': ['187', CallNode(function='Pair.right', type_params={'U': DeclaredTypeInstance(type='Either', params={'U': DeclaredTypeInstance(type='Vec', params={'T': DeclaredTypeInstance(type='Integer', params=None)}), 'T': DeclaredTypeInstance(type='Integer', params=None)}), 'T': DeclaredTypeInstance(type='NDArray', params=None)}, args=['-4178253784485202331'], kwargs=None)], '-7192939821499825056': ['188', CallNode(function='NDArray.__getitem__', type_params=None, args=['3587194641098404711', '-4854682022189550212'], kwargs=None)], '-2041567181769803567': ['83', CallNode(function='Abstraction.create', type_params={'U': DeclaredTypeInstance(type='NDArray', params=None), 'T': DeclaredTypeInstance(type='Pair', params={'U': DeclaredTypeInstance(type='Either', params={'U': DeclaredTypeInstance(type='Vec', params={'T': DeclaredTypeInstance(type='Integer', params=None)}), 'T': DeclaredTypeInstance(type='Integer', params=None)}), 'T': DeclaredTypeInstance(type='NDArray', params=None)})}, args=['-4178253784485202331', '-7192939821499825056'], kwargs=None)], '-5082538020168371084': ['15', CallNode(function='Maybe.map', type_params={'T': DeclaredTypeInstance(type='Pair', params={'U': DeclaredTypeInstance(type='Either', params={'U': DeclaredTypeInstance(type='Vec', params={'T': DeclaredTypeInstance(type='Integer', params=None)}), 'T': DeclaredTypeInstance(type='Integer', params=None)}), 'T': DeclaredTypeInstance(type='NDArray', params=None)})}, args=['6434807239647495799', '-2041567181769803567'], kwargs=None)], '9058269855090629275': ['4', CallNode(function='NDArrayCompat.from_ndarray', type_params=None, args=['-5082538020168371084'], kwargs=None)], '1059369748599536817': ['5', CallNode(function='NDArrayCompat.to_ndarray', type_params=None, args=['9058269855090629275'], kwargs=None)], '-2688267295116845576': ['146', PrimitiveNode(type='Variable', repr='4570755704')], '-933314412873480635': ['147', CallNode(function='Abstraction.create_variable', type_params={'U': DeclaredTypeInstance(type='Either', params={'U': DeclaredTypeInstance(type='Vec', params={'T': DeclaredTypeInstance(type='Integer', params=None)}), 'T': DeclaredTypeInstance(type='Integer', params=None)}), 'T': DeclaredTypeInstance(type='Vec', params={'T': DeclaredTypeInstance(type='Integer', params=None)})}, args=['-2688267295116845576'], kwargs=None)], '8345264965030871901': ['148', CallNode(function='Either.right', type_params={'U': DeclaredTypeInstance(type='Vec', params={'T': DeclaredTypeInstance(type='Integer', params=None)}), 'T': DeclaredTypeInstance(type='Integer', params=None)}, args=['-933314412873480635'], kwargs=None)], '-1459364817511406284': ['92', CallNode(function='Abstraction.create', type_params={'U': DeclaredTypeInstance(type='Either', params={'U': DeclaredTypeInstance(type='Vec', params={'T': DeclaredTypeInstance(type='Integer', params=None)}), 'T': DeclaredTypeInstance(type='Integer', params=None)}), 'T': DeclaredTypeInstance(type='Vec', params={'T': DeclaredTypeInstance(type='Integer', params=None)})}, args=['-933314412873480635', '8345264965030871901'], kwargs=None)], '1147115579276224886': ['72', CallNode(function='Maybe.map', type_params={'T': DeclaredTypeInstance(type='Vec', params={'T': DeclaredTypeInstance(type='Integer', params=None)})}, args=['2545304333211044905', '-1459364817511406284'], kwargs=None)], '4001431005664098423': ['11', CallNode(function='Maybe.__or__', type_params={'T': DeclaredTypeInstance(type='Either', params={'U': DeclaredTypeInstance(type='Vec', params={'T': DeclaredTypeInstance(type='Integer', params=None)}), 'T': DeclaredTypeInstance(type='Integer', params=None)})}, args=['4441256469196746958', '1147115579276224886'], kwargs=None)], '9063511620264717648': ['12', CallNode(function='Maybe.__and__', type_params={'T': DeclaredTypeInstance(type='NDArray', params=None)}, args=['-1916172054569702322', '4001431005664098423'], kwargs=None)], '3851380084848435986': ['15', CallNode(function='Maybe.map', type_params={'T': DeclaredTypeInstance(type='Pair', params={'U': DeclaredTypeInstance(type='Either', params={'U': DeclaredTypeInstance(type='Vec', params={'T': DeclaredTypeInstance(type='Integer', params=None)}), 'T': DeclaredTypeInstance(type='Integer', params=None)}), 'T': DeclaredTypeInstance(type='NDArray', params=None)})}, args=['9063511620264717648', '-2041567181769803567'], kwargs=None)], '-3483949152017935794': ['4', CallNode(function='NDArrayCompat.from_ndarray', type_params=None, args=['3851380084848435986'], kwargs=None)], '3572900363202299158': ['5', CallNode(function='NDArrayCompat.to_ndarray', type_params=None, args=['-3483949152017935794'], kwargs=None)], '-2688267299422047501': ['150', PrimitiveNode(type='Variable', repr='4570794472')], '7264589788069880484': ['151', CallNode(function='Abstraction.create_variable', type_params={'U': DeclaredTypeInstance(type='Either', params={'U': DeclaredTypeInstance(type='Vec', params={'T': DeclaredTypeInstance(type='Integer', params=None)}), 'T': DeclaredTypeInstance(type='Integer', params=None)}), 'T': DeclaredTypeInstance(type='Integer', params=None)}, args=['-2688267299422047501'], kwargs=None)], '-6714856576435809585': ['152', CallNode(function='Either.left', type_params={'U': DeclaredTypeInstance(type='Vec', params={'T': DeclaredTypeInstance(type='Integer', params=None)}), 'T': DeclaredTypeInstance(type='Integer', params=None)}, args=['7264589788069880484'], kwargs=None)], '-7155719998891297903': ['110', CallNode(function='Abstraction.create', type_params={'U': DeclaredTypeInstance(type='Either', params={'U': DeclaredTypeInstance(type='Vec', params={'T': DeclaredTypeInstance(type='Integer', params=None)}), 'T': DeclaredTypeInstance(type='Integer', params=None)}), 'T': DeclaredTypeInstance(type='Integer', params=None)}, args=['7264589788069880484', '-6714856576435809585'], kwargs=None)], '475260470608448782': ['66', CallNode(function='Maybe.map', type_params={'T': DeclaredTypeInstance(type='Integer', params=None)}, args=['-5588014448240227602', '-7155719998891297903'], kwargs=None)], '2264114627236839274': ['73', CallNode(function='Maybe.__or__', type_params={'T': DeclaredTypeInstance(type='Either', params={'U': DeclaredTypeInstance(type='Vec', params={'T': DeclaredTypeInstance(type='Integer', params=None)}), 'T': DeclaredTypeInstance(type='Integer', params=None)})}, args=['475260470608448782', '1147115579276224886'], kwargs=None)], '-6329324382092793002': ['12', CallNode(function='Maybe.__and__', type_params={'T': DeclaredTypeInstance(type='NDArray', params=None)}, args=['-1916172054569702322', '2264114627236839274'], kwargs=None)], '-4391762020810570779': ['15', CallNode(function='Maybe.map', type_params={'T': DeclaredTypeInstance(type='Pair', params={'U': DeclaredTypeInstance(type='Either', params={'U': DeclaredTypeInstance(type='Vec', params={'T': DeclaredTypeInstance(type='Integer', params=None)}), 'T': DeclaredTypeInstance(type='Integer', params=None)}), 'T': DeclaredTypeInstance(type='NDArray', params=None)})}, args=['-6329324382092793002', '-2041567181769803567'], kwargs=None)], '-2086474004589657243': ['4', CallNode(function='NDArrayCompat.from_ndarray', type_params=None, args=['-4391762020810570779'], kwargs=None)], '4756748793500036766': ['5', CallNode(function='NDArrayCompat.to_ndarray', type_params=None, args=['-2086474004589657243'], kwargs=None)], '6535104741872163332': ['160', PrimitiveNode(type='Variable', repr='4570859952')], '-681883149430652755': ['161', CallNode(function='Abstraction.create_variable', type_params={'U': DeclaredTypeInstance(type='NDArray', params=None), 'T': DeclaredTypeInstance(type='Integer', params=None)}, args=['6535104741872163332'], kwargs=None)], '8736167552244514047': ['162', CallNode(function='arange_', type_params=None, args=['-681883149430652755'], kwargs=None)], '-5873423517236263753': ['130', CallNode(function='Abstraction.create', type_params={'U': DeclaredTypeInstance(type='NDArray', params=None), 'T': DeclaredTypeInstance(type='Integer', params=None)}, args=['-681883149430652755', '8736167552244514047'], kwargs=None)], '6792999931904131618': ['55', CallNode(function='Maybe.map', type_params={'T': DeclaredTypeInstance(type='Integer', params=None)}, args=['-9087174382080386220', '-5873423517236263753'], kwargs=None)], '-4735588500733498459': ['56', CallNode(function='NDArrayCompat.from_ndarray', type_params=None, args=['6792999931904131618'], kwargs=None)], '7179044629343843142': ['57', CallNode(function='NDArrayCompat.__add__', type_params=None, args=['-4735588500733498459', '-4735588500733498459'], kwargs=None)], '2691483882806188093': ['58', CallNode(function='Converter.convert', type_params={'T': DeclaredTypeInstance(type='NDArray', params=None)}, args=['7179044629343843142'], kwargs=None)], '-4127025317534657754': ['74', CallNode(function='Maybe.__and__', type_params={'T': DeclaredTypeInstance(type='NDArray', params=None)}, args=['2691483882806188093', '2264114627236839274'], kwargs=None)], '5265829696109506560': ['15', CallNode(function='Maybe.map', type_params={'T': DeclaredTypeInstance(type='Pair', params={'U': DeclaredTypeInstance(type='Either', params={'U': DeclaredTypeInstance(type='Vec', params={'T': DeclaredTypeInstance(type='Integer', params=None)}), 'T': DeclaredTypeInstance(type='Integer', params=None)}), 'T': DeclaredTypeInstance(type='NDArray', params=None)})}, args=['-4127025317534657754', '-2041567181769803567'], kwargs=None)], '8034337983755497547': ['4', CallNode(function='NDArrayCompat.from_ndarray', type_params=None, args=['5265829696109506560'], kwargs=None)], '-4864825091864824031': ['5', CallNode(function='NDArrayCompat.to_ndarray', type_params=None, args=['8034337983755497547'], kwargs=None)], '5010042427115200897': ['117', CallNode(function='Maybe.nothing', type_params={'T': DeclaredTypeInstance(type='NDArray', params=None)}, args=None, kwargs=None)], '-5324845206080709229': ['125', PrimitiveNode(type='BoundInfer', repr='Maybe.just')], '7874239370555669378': ['126', CallNode(function='Abstraction.from_fn', type_params=None, args=['-5324845206080709229'], kwargs=None)], '5345828244535529485': ['84', CallNode(function='Abstraction.__add__', type_params={'U': DeclaredTypeInstance(type='Maybe', params={'T': DeclaredTypeInstance(type='NDArray', params=None)}), 'T': DeclaredTypeInstance(type='NDArray', params=None)}, args=['7874239370555669378', '-2041567181769803567'], kwargs=None)], '-1269778831231878016': ['15', CallNode(function='Maybe.match', type_params={'T': DeclaredTypeInstance(type='Pair', params={'U': DeclaredTypeInstance(type='Either', params={'U': DeclaredTypeInstance(type='Vec', params={'T': DeclaredTypeInstance(type='Integer', params=None)}), 'T': DeclaredTypeInstance(type='Integer', params=None)}), 'T': DeclaredTypeInstance(type='NDArray', params=None)})}, args=['-4127025317534657754', '5010042427115200897', '5345828244535529485'], kwargs=None)], '-8553489818472225567': ['4', CallNode(function='NDArrayCompat.from_ndarray', type_params=None, args=['-1269778831231878016'], kwargs=None)], '5849924784759920625': ['5', CallNode(function='NDArrayCompat.to_ndarray', type_params=None, args=['-8553489818472225567'], kwargs=None)], '3951416324193783238': ['97', CallNode(function='Maybe.nothing', type_params={'T': DeclaredTypeInstance(type='Either', params={'U': DeclaredTypeInstance(type='Vec', params={'T': DeclaredTypeInstance(type='Integer', params=None)}), 'T': DeclaredTypeInstance(type='Integer', params=None)})}, args=None, kwargs=None)], '8187983518564237184': ['105', PrimitiveNode(type='BoundInfer', repr='Maybe.just')], '337597793297067320': ['106', CallNode(function='Abstraction.from_fn', type_params=None, args=['8187983518564237184'], kwargs=None)], '1064008545016023923': ['93', CallNode(function='Abstraction.__add__', type_params={'U': DeclaredTypeInstance(type='Maybe', params={'T': DeclaredTypeInstance(type='Either', params={'U': DeclaredTypeInstance(type='Vec', params={'T': DeclaredTypeInstance(type='Integer', params=None)}), 'T': DeclaredTypeInstance(type='Integer', params=None)})}), 'T': DeclaredTypeInstance(type='Either', params={'U': DeclaredTypeInstance(type='Vec', params={'T': DeclaredTypeInstance(type='Integer', params=None)}), 'T': DeclaredTypeInstance(type='Integer', params=None)})}, args=['337597793297067320', '-1459364817511406284'], kwargs=None)], '-5440874827213941777': ['72', CallNode(function='Maybe.match', type_params={'T': DeclaredTypeInstance(type='Vec', params={'T': DeclaredTypeInstance(type='Integer', params=None)})}, args=['2545304333211044905', '3951416324193783238', '1064008545016023923'], kwargs=None)], '6471716957542554499': ['73', CallNode(function='Maybe.__or__', type_params={'T': DeclaredTypeInstance(type='Either', params={'U': DeclaredTypeInstance(type='Vec', params={'T': DeclaredTypeInstance(type='Integer', params=None)}), 'T': DeclaredTypeInstance(type='Integer', params=None)})}, args=['475260470608448782', '-5440874827213941777'], kwargs=None)], '1747719798254964755': ['74', CallNode(function='Maybe.__and__', type_params={'T': DeclaredTypeInstance(type='NDArray', params=None)}, args=['2691483882806188093', '6471716957542554499'], kwargs=None)], '-3463829493979858862': ['15', CallNode(function='Maybe.match', type_params={'T': DeclaredTypeInstance(type='Pair', params={'U': DeclaredTypeInstance(type='Either', params={'U': DeclaredTypeInstance(type='Vec', params={'T': DeclaredTypeInstance(type='Integer', params=None)}), 'T': DeclaredTypeInstance(type='Integer', params=None)}), 'T': DeclaredTypeInstance(type='NDArray', params=None)})}, args=['1747719798254964755', '5010042427115200897', '5345828244535529485'], kwargs=None)], '-5579144276356697580': ['4', CallNode(function='NDArrayCompat.from_ndarray', type_params=None, args=['-3463829493979858862'], kwargs=None)], '3295549561561177437': ['5', CallNode(function='NDArrayCompat.to_ndarray', type_params=None, args=['-5579144276356697580'], kwargs=None)], '935647309877580277': ['111', CallNode(function='Abstraction.__add__', type_params={'U': DeclaredTypeInstance(type='Maybe', params={'T': DeclaredTypeInstance(type='Either', params={'U': DeclaredTypeInstance(type='Vec', params={'T': DeclaredTypeInstance(type='Integer', params=None)}), 'T': DeclaredTypeInstance(type='Integer', params=None)})}), 'T': DeclaredTypeInstance(type='Either', params={'U': DeclaredTypeInstance(type='Vec', params={'T': DeclaredTypeInstance(type='Integer', params=None)}), 'T': DeclaredTypeInstance(type='Integer', params=None)})}, args=['337597793297067320', '-7155719998891297903'], kwargs=None)], '2918370955709630051': ['66', CallNode(function='Maybe.match', type_params={'T': DeclaredTypeInstance(type='Integer', params=None)}, args=['-5588014448240227602', '3951416324193783238', '935647309877580277'], kwargs=None)], '-7362647552213970827': ['73', CallNode(function='Maybe.__or__', type_params={'T': DeclaredTypeInstance(type='Either', params={'U': DeclaredTypeInstance(type='Vec', params={'T': DeclaredTypeInstance(type='Integer', params=None)}), 'T': DeclaredTypeInstance(type='Integer', params=None)})}, args=['2918370955709630051', '-5440874827213941777'], kwargs=None)], '5558280096554669102': ['74', CallNode(function='Maybe.__and__', type_params={'T': DeclaredTypeInstance(type='NDArray', params=None)}, args=['2691483882806188093', '-7362647552213970827'], kwargs=None)], '-3762161102576935189': ['15', CallNode(function='Maybe.match', type_params={'T': DeclaredTypeInstance(type='Pair', params={'U': DeclaredTypeInstance(type='Either', params={'U': DeclaredTypeInstance(type='Vec', params={'T': DeclaredTypeInstance(type='Integer', params=None)}), 'T': DeclaredTypeInstance(type='Integer', params=None)}), 'T': DeclaredTypeInstance(type='NDArray', params=None)})}, args=['5558280096554669102', '5010042427115200897', '5345828244535529485'], kwargs=None)], '8164860637832873523': ['4', CallNode(function='NDArrayCompat.from_ndarray', type_params=None, args=['-3762161102576935189'], kwargs=None)], '2064676179084898745': ['5', CallNode(function='NDArrayCompat.to_ndarray', type_params=None, args=['8164860637832873523'], kwargs=None)], '5542458479277579054': ['66', CallNode(function='Abstraction.__call__', type_params={'U': DeclaredTypeInstance(type='Maybe', params={'T': DeclaredTypeInstance(type='Either', params={'U': DeclaredTypeInstance(type='Vec', params={'T': DeclaredTypeInstance(type='Integer', params=None)}), 'T': DeclaredTypeInstance(type='Integer', params=None)})}), 'T': DeclaredTypeInstance(type='Integer', params=None)}, args=['935647309877580277', '1174727054115292497'], kwargs=None)], '-2619469003752300271': ['73', CallNode(function='Maybe.__or__', type_params={'T': DeclaredTypeInstance(type='Either', params={'U': DeclaredTypeInstance(type='Vec', params={'T': DeclaredTypeInstance(type='Integer', params=None)}), 'T': DeclaredTypeInstance(type='Integer', params=None)})}, args=['5542458479277579054', '-5440874827213941777'], kwargs=None)], '3331656529985858360': ['74', CallNode(function='Maybe.__and__', type_params={'T': DeclaredTypeInstance(type='NDArray', params=None)}, args=['2691483882806188093', '-2619469003752300271'], kwargs=None)], '-8722162341014511828': ['15', CallNode(function='Maybe.match', type_params={'T': DeclaredTypeInstance(type='Pair', params={'U': DeclaredTypeInstance(type='Either', params={'U': DeclaredTypeInstance(type='Vec', params={'T': DeclaredTypeInstance(type='Integer', params=None)}), 'T': DeclaredTypeInstance(type='Integer', params=None)}), 'T': DeclaredTypeInstance(type='NDArray', params=None)})}, args=['3331656529985858360', '5010042427115200897', '5345828244535529485'], kwargs=None)], '-7961011794573706772': ['4', CallNode(function='NDArrayCompat.from_ndarray', type_params=None, args=['-8722162341014511828'], kwargs=None)], '816796590074940938': ['5', CallNode(function='NDArrayCompat.to_ndarray', type_params=None, args=['-7961011794573706772'], kwargs=None)], '6549150494111082281': ['131', CallNode(function='Abstraction.__add__', type_params={'U': DeclaredTypeInstance(type='Maybe', params={'T': DeclaredTypeInstance(type='NDArray', params=None)}), 'T': DeclaredTypeInstance(type='NDArray', params=None)}, args=['7874239370555669378', '-5873423517236263753'], kwargs=None)], '-625819870061052802': ['55', CallNode(function='Maybe.match', type_params={'T': DeclaredTypeInstance(type='Integer', params=None)}, args=['-9087174382080386220', '5010042427115200897', '6549150494111082281'], kwargs=None)], '5061402071704891479': ['56', CallNode(function='NDArrayCompat.from_ndarray', type_params=None, args=['-625819870061052802'], kwargs=None)], '5860956407953314606': ['57', CallNode(function='NDArrayCompat.__add__', type_params=None, args=['5061402071704891479', '5061402071704891479'], kwargs=None)], '2476810676982448960': ['58', CallNode(function='Converter.convert', type_params={'T': DeclaredTypeInstance(type='NDArray', params=None)}, args=['5860956407953314606'], kwargs=None)], '8399974812041493879': ['74', CallNode(function='Maybe.__and__', type_params={'T': DeclaredTypeInstance(type='NDArray', params=None)}, args=['2476810676982448960', '-2619469003752300271'], kwargs=None)], '-4575086094681284175': ['15', CallNode(function='Maybe.match', type_params={'T': DeclaredTypeInstance(type='Pair', params={'U': DeclaredTypeInstance(type='Either', params={'U': DeclaredTypeInstance(type='Vec', params={'T': DeclaredTypeInstance(type='Integer', params=None)}), 'T': DeclaredTypeInstance(type='Integer', params=None)}), 'T': DeclaredTypeInstance(type='NDArray', params=None)})}, args=['8399974812041493879', '5010042427115200897', '5345828244535529485'], kwargs=None)], '-348300307027956495': ['4', CallNode(function='NDArrayCompat.from_ndarray', type_params=None, args=['-4575086094681284175'], kwargs=None)], '6922325130350078530': ['5', CallNode(function='NDArrayCompat.to_ndarray', type_params=None, args=['-348300307027956495'], kwargs=None)], '7695092559640317441': ['55', CallNode(function='Abstraction.__call__', type_params={'U': DeclaredTypeInstance(type='Maybe', params={'T': DeclaredTypeInstance(type='NDArray', params=None)}), 'T': DeclaredTypeInstance(type='Integer', params=None)}, args=['6549150494111082281', '-3211906671069159500'], kwargs=None)], '4664900885540065989': ['56', CallNode(function='NDArrayCompat.from_ndarray', type_params=None, args=['7695092559640317441'], kwargs=None)], '-7312718695066562066': ['57', CallNode(function='NDArrayCompat.__add__', type_params=None, args=['4664900885540065989', '4664900885540065989'], kwargs=None)], '2055083783529237831': ['58', CallNode(function='Converter.convert', type_params={'T': DeclaredTypeInstance(type='NDArray', params=None)}, args=['-7312718695066562066'], kwargs=None)], '419225186218343025': ['74', CallNode(function='Maybe.__and__', type_params={'T': DeclaredTypeInstance(type='NDArray', params=None)}, args=['2055083783529237831', '-2619469003752300271'], kwargs=None)], '6238152556564175668': ['15', CallNode(function='Maybe.match', type_params={'T': DeclaredTypeInstance(type='Pair', params={'U': DeclaredTypeInstance(type='Either', params={'U': DeclaredTypeInstance(type='Vec', params={'T': DeclaredTypeInstance(type='Integer', params=None)}), 'T': DeclaredTypeInstance(type='Integer', params=None)}), 'T': DeclaredTypeInstance(type='NDArray', params=None)})}, args=['419225186218343025', '5010042427115200897', '5345828244535529485'], kwargs=None)], '738406952320010287': ['4', CallNode(function='NDArrayCompat.from_ndarray', type_params=None, args=['6238152556564175668'], kwargs=None)], '-4830081813867659748': ['5', CallNode(function='NDArrayCompat.to_ndarray', type_params=None, args=['738406952320010287'], kwargs=None)], '6535104727114100007': ['134', PrimitiveNode(type='Variable', repr='4571102624')], '2528486935029191272': ['135', CallNode(function='Abstraction.create_variable', type_params={'U': DeclaredTypeInstance(type='Maybe', params={'T': DeclaredTypeInstance(type='Either', params={'U': DeclaredTypeInstance(type='Vec', params={'T': DeclaredTypeInstance(type='Integer', params=None)}), 'T': DeclaredTypeInstance(type='Integer', params=None)})}), 'T': DeclaredTypeInstance(type='Either', params={'U': DeclaredTypeInstance(type='Vec', params={'T': DeclaredTypeInstance(type='Integer', params=None)}), 'T': DeclaredTypeInstance(type='Integer', params=None)})}, args=['6535104727114100007'], kwargs=None)], '-3507947347579469479': ['136', CallNode(function='Maybe.just', type_params={'T': DeclaredTypeInstance(type='Either', params={'U': DeclaredTypeInstance(type='Vec', params={'T': DeclaredTypeInstance(type='Integer', params=None)}), 'T': DeclaredTypeInstance(type='Integer', params=None)})}, args=['2528486935029191272'], kwargs=None)], '8082615459371191027': ['106', CallNode(function='Abstraction.create', type_params={'U': DeclaredTypeInstance(type='Maybe', params={'T': DeclaredTypeInstance(type='Either', params={'U': DeclaredTypeInstance(type='Vec', params={'T': DeclaredTypeInstance(type='Integer', params=None)}), 'T': DeclaredTypeInstance(type='Integer', params=None)})}), 'T': DeclaredTypeInstance(type='Either', params={'U': DeclaredTypeInstance(type='Vec', params={'T': DeclaredTypeInstance(type='Integer', params=None)}), 'T': DeclaredTypeInstance(type='Integer', params=None)})}, args=['2528486935029191272', '-3507947347579469479'], kwargs=None)], '-2160334129442717181': ['111', CallNode(function='Abstraction.__add__', type_params={'U': DeclaredTypeInstance(type='Maybe', params={'T': DeclaredTypeInstance(type='Either', params={'U': DeclaredTypeInstance(type='Vec', params={'T': DeclaredTypeInstance(type='Integer', params=None)}), 'T': DeclaredTypeInstance(type='Integer', params=None)})}), 'T': DeclaredTypeInstance(type='Either', params={'U': DeclaredTypeInstance(type='Vec', params={'T': DeclaredTypeInstance(type='Integer', params=None)}), 'T': DeclaredTypeInstance(type='Integer', params=None)})}, args=['8082615459371191027', '-7155719998891297903'], kwargs=None)], '2168194065413317180': ['66', CallNode(function='Abstraction.__call__', type_params={'U': DeclaredTypeInstance(type='Maybe', params={'T': DeclaredTypeInstance(type='Either', params={'U': DeclaredTypeInstance(type='Vec', params={'T': DeclaredTypeInstance(type='Integer', params=None)}), 'T': DeclaredTypeInstance(type='Integer', params=None)})}), 'T': DeclaredTypeInstance(type='Integer', params=None)}, args=['-2160334129442717181', '1174727054115292497'], kwargs=None)], '2180838819940015141': ['93', CallNode(function='Abstraction.__add__', type_params={'U': DeclaredTypeInstance(type='Maybe', params={'T': DeclaredTypeInstance(type='Either', params={'U': DeclaredTypeInstance(type='Vec', params={'T': DeclaredTypeInstance(type='Integer', params=None)}), 'T': DeclaredTypeInstance(type='Integer', params=None)})}), 'T': DeclaredTypeInstance(type='Either', params={'U': DeclaredTypeInstance(type='Vec', params={'T': DeclaredTypeInstance(type='Integer', params=None)}), 'T': DeclaredTypeInstance(type='Integer', params=None)})}, args=['8082615459371191027', '-1459364817511406284'], kwargs=None)], '4712737428197175677': ['72', CallNode(function='Maybe.match', type_params={'T': DeclaredTypeInstance(type='Vec', params={'T': DeclaredTypeInstance(type='Integer', params=None)})}, args=['2545304333211044905', '3951416324193783238', '2180838819940015141'], kwargs=None)], '-4632579732185590825': ['73', CallNode(function='Maybe.__or__', type_params={'T': DeclaredTypeInstance(type='Either', params={'U': DeclaredTypeInstance(type='Vec', params={'T': DeclaredTypeInstance(type='Integer', params=None)}), 'T': DeclaredTypeInstance(type='Integer', params=None)})}, args=['2168194065413317180', '4712737428197175677'], kwargs=None)], '-1889197336257975178': ['74', CallNode(function='Maybe.__and__', type_params={'T': DeclaredTypeInstance(type='NDArray', params=None)}, args=['2055083783529237831', '-4632579732185590825'], kwargs=None)], '-6360118399003149979': ['15', CallNode(function='Maybe.match', type_params={'T': DeclaredTypeInstance(type='Pair', params={'U': DeclaredTypeInstance(type='Either', params={'U': DeclaredTypeInstance(type='Vec', params={'T': DeclaredTypeInstance(type='Integer', params=None)}), 'T': DeclaredTypeInstance(type='Integer', params=None)}), 'T': DeclaredTypeInstance(type='NDArray', params=None)})}, args=['-1889197336257975178', '5010042427115200897', '5345828244535529485'], kwargs=None)], '3688820308881422910': ['4', CallNode(function='NDArrayCompat.from_ndarray', type_params=None, args=['-6360118399003149979'], kwargs=None)], '-7587745279488067732': ['5', CallNode(function='NDArrayCompat.to_ndarray', type_params=None, args=['3688820308881422910'], kwargs=None)], '-2688267308676553726': ['137', PrimitiveNode(type='Variable', repr='4571079512')], '1485276608637599744': ['138', CallNode(function='Abstraction.create_variable', type_params={'U': DeclaredTypeInstance(type='Maybe', params={'T': DeclaredTypeInstance(type='NDArray', params=None)}), 'T': DeclaredTypeInstance(type='NDArray', params=None)}, args=['-2688267308676553726'], kwargs=None)], '4204889530426553839': ['139', CallNode(function='Maybe.just', type_params={'T': DeclaredTypeInstance(type='NDArray', params=None)}, args=['1485276608637599744'], kwargs=None)], '4217467748371330306': ['126', CallNode(function='Abstraction.create', type_params={'U': DeclaredTypeInstance(type='Maybe', params={'T': DeclaredTypeInstance(type='NDArray', params=None)}), 'T': DeclaredTypeInstance(type='NDArray', params=None)}, args=['1485276608637599744', '4204889530426553839'], kwargs=None)], '7721625103523387699': ['131', CallNode(function='Abstraction.__add__', type_params={'U': DeclaredTypeInstance(type='Maybe', params={'T': DeclaredTypeInstance(type='NDArray', params=None)}), 'T': DeclaredTypeInstance(type='NDArray', params=None)}, args=['4217467748371330306', '-5873423517236263753'], kwargs=None)], '-8497116489823486004': ['55', CallNode(function='Abstraction.__call__', type_params={'U': DeclaredTypeInstance(type='Maybe', params={'T': DeclaredTypeInstance(type='NDArray', params=None)}), 'T': DeclaredTypeInstance(type='Integer', params=None)}, args=['7721625103523387699', '-3211906671069159500'], kwargs=None)], '7747982866526352972': ['56', CallNode(function='NDArrayCompat.from_ndarray', type_params=None, args=['-8497116489823486004'], kwargs=None)], '6079112021159403870': ['57', CallNode(function='NDArrayCompat.__add__', type_params=None, args=['7747982866526352972', '7747982866526352972'], kwargs=None)], '-1391931857335621040': ['58', CallNode(function='Converter.convert', type_params={'T': DeclaredTypeInstance(type='NDArray', params=None)}, args=['6079112021159403870'], kwargs=None)], '7194296454476592305': ['74', CallNode(function='Maybe.__and__', type_params={'T': DeclaredTypeInstance(type='NDArray', params=None)}, args=['-1391931857335621040', '-4632579732185590825'], kwargs=None)], '8411939617052409487': ['84', CallNode(function='Abstraction.__add__', type_params={'U': DeclaredTypeInstance(type='Maybe', params={'T': DeclaredTypeInstance(type='NDArray', params=None)}), 'T': DeclaredTypeInstance(type='NDArray', params=None)}, args=['4217467748371330306', '-2041567181769803567'], kwargs=None)], '9174691272676116920': ['15', CallNode(function='Maybe.match', type_params={'T': DeclaredTypeInstance(type='Pair', params={'U': DeclaredTypeInstance(type='Either', params={'U': DeclaredTypeInstance(type='Vec', params={'T': DeclaredTypeInstance(type='Integer', params=None)}), 'T': DeclaredTypeInstance(type='Integer', params=None)}), 'T': DeclaredTypeInstance(type='NDArray', params=None)})}, args=['7194296454476592305', '5010042427115200897', '8411939617052409487'], kwargs=None)], '5013429675180790134': ['4', CallNode(function='NDArrayCompat.from_ndarray', type_params=None, args=['9174691272676116920'], kwargs=None)], '-2602580908205424689': ['5', CallNode(function='NDArrayCompat.to_ndarray', type_params=None, args=['5013429675180790134'], kwargs=None)], '2167403046050443998': ['189', CallNode(function='Maybe.just', type_params={'T': DeclaredTypeInstance(type='NDArray', params=None)}, args=['-7192939821499825056'], kwargs=None)], '-5515526385815077566': ['190', CallNode(function='Abstraction.create', type_params=None, args=['-4178253784485202331', '2167403046050443998'], kwargs=None)], '3105272174185772362': ['15', CallNode(function='Maybe.match', type_params={'T': DeclaredTypeInstance(type='Pair', params={'U': DeclaredTypeInstance(type='Either', params={'U': DeclaredTypeInstance(type='Vec', params={'T': DeclaredTypeInstance(type='Integer', params=None)}), 'T': DeclaredTypeInstance(type='Integer', params=None)}), 'T': DeclaredTypeInstance(type='NDArray', params=None)})}, args=['7194296454476592305', '5010042427115200897', '-5515526385815077566'], kwargs=None)], '5677293103406876710': ['4', CallNode(function='NDArrayCompat.from_ndarray', type_params=None, args=['3105272174185772362'], kwargs=None)], '5006418482766028863': ['5', CallNode(function='NDArrayCompat.to_ndarray', type_params=None, args=['5677293103406876710'], kwargs=None)], '-6450582189275633740': ['149', CallNode(function='Maybe.just', type_params={'T': DeclaredTypeInstance(type='Either', params={'U': DeclaredTypeInstance(type='Vec', params={'T': DeclaredTypeInstance(type='Integer', params=None)}), 'T': DeclaredTypeInstance(type='Integer', params=None)})}, args=['8345264965030871901'], kwargs=None)], '-5055958794391171333': ['93', CallNode(function='Abstraction.create', type_params=None, args=['-933314412873480635', '-6450582189275633740'], kwargs=None)], '7711574631255395665': ['72', CallNode(function='Maybe.match', type_params={'T': DeclaredTypeInstance(type='Vec', params={'T': DeclaredTypeInstance(type='Integer', params=None)})}, args=['2545304333211044905', '3951416324193783238', '-5055958794391171333'], kwargs=None)], '-6682168410079258802': ['73', CallNode(function='Maybe.__or__', type_params={'T': DeclaredTypeInstance(type='Either', params={'U': DeclaredTypeInstance(type='Vec', params={'T': DeclaredTypeInstance(type='Integer', params=None)}), 'T': DeclaredTypeInstance(type='Integer', params=None)})}, args=['2168194065413317180', '7711574631255395665'], kwargs=None)], '-8826227201726340142': ['74', CallNode(function='Maybe.__and__', type_params={'T': DeclaredTypeInstance(type='NDArray', params=None)}, args=['-1391931857335621040', '-6682168410079258802'], kwargs=None)], '7411145549062142715': ['15', CallNode(function='Maybe.match', type_params={'T': DeclaredTypeInstance(type='Pair', params={'U': DeclaredTypeInstance(type='Either', params={'U': DeclaredTypeInstance(type='Vec', params={'T': DeclaredTypeInstance(type='Integer', params=None)}), 'T': DeclaredTypeInstance(type='Integer', params=None)}), 'T': DeclaredTypeInstance(type='NDArray', params=None)})}, args=['-8826227201726340142', '5010042427115200897', '-5515526385815077566'], kwargs=None)], '7149129858743265751': ['4', CallNode(function='NDArrayCompat.from_ndarray', type_params=None, args=['7411145549062142715'], kwargs=None)], '-3696774032206669227': ['5', CallNode(function='NDArrayCompat.to_ndarray', type_params=None, args=['7149129858743265751'], kwargs=None)], '5226023587103420069': ['153', CallNode(function='Maybe.just', type_params={'T': DeclaredTypeInstance(type='Either', params={'U': DeclaredTypeInstance(type='Vec', params={'T': DeclaredTypeInstance(type='Integer', params=None)}), 'T': DeclaredTypeInstance(type='Integer', params=None)})}, args=['-6714856576435809585'], kwargs=None)], '-8370971461542121230': ['111', CallNode(function='Abstraction.create', type_params=None, args=['7264589788069880484', '5226023587103420069'], kwargs=None)], '-6396661253330347136': ['66', CallNode(function='Abstraction.__call__', type_params={'U': DeclaredTypeInstance(type='Maybe', params={'T': DeclaredTypeInstance(type='Either', params={'U': DeclaredTypeInstance(type='Vec', params={'T': DeclaredTypeInstance(type='Integer', params=None)}), 'T': DeclaredTypeInstance(type='Integer', params=None)})}), 'T': DeclaredTypeInstance(type='Integer', params=None)}, args=['-8370971461542121230', '1174727054115292497'], kwargs=None)], '6927662400062031780': ['73', CallNode(function='Maybe.__or__', type_params={'T': DeclaredTypeInstance(type='Either', params={'U': DeclaredTypeInstance(type='Vec', params={'T': DeclaredTypeInstance(type='Integer', params=None)}), 'T': DeclaredTypeInstance(type='Integer', params=None)})}, args=['-6396661253330347136', '7711574631255395665'], kwargs=None)], '-1416768308524876165': ['74', CallNode(function='Maybe.__and__', type_params={'T': DeclaredTypeInstance(type='NDArray', params=None)}, args=['-1391931857335621040', '6927662400062031780'], kwargs=None)], '-4160454218532354969': ['15', CallNode(function='Maybe.match', type_params={'T': DeclaredTypeInstance(type='Pair', params={'U': DeclaredTypeInstance(type='Either', params={'U': DeclaredTypeInstance(type='Vec', params={'T': DeclaredTypeInstance(type='Integer', params=None)}), 'T': DeclaredTypeInstance(type='Integer', params=None)}), 'T': DeclaredTypeInstance(type='NDArray', params=None)})}, args=['-1416768308524876165', '5010042427115200897', '-5515526385815077566'], kwargs=None)], '1011226907003288127': ['4', CallNode(function='NDArrayCompat.from_ndarray', type_params=None, args=['-4160454218532354969'], kwargs=None)], '2868746651488696172': ['5', CallNode(function='NDArrayCompat.to_ndarray', type_params=None, args=['1011226907003288127'], kwargs=None)], '4201175122181437417': ['228', CallNode(function='Either.left', type_params={'U': DeclaredTypeInstance(type='Vec', params={'T': DeclaredTypeInstance(type='Integer', params=None)}), 'T': DeclaredTypeInstance(type='Integer', params=None)}, args=['1174727054115292497'], kwargs=None)], '-8583977792302834282': ['66', CallNode(function='Maybe.just', type_params={'T': DeclaredTypeInstance(type='Either', params={'U': DeclaredTypeInstance(type='Vec', params={'T': DeclaredTypeInstance(type='Integer', params=None)}), 'T': DeclaredTypeInstance(type='Integer', params=None)})}, args=['4201175122181437417'], kwargs=None)], '-942110970961631503': ['73', CallNode(function='Maybe.__or__', type_params={'T': DeclaredTypeInstance(type='Either', params={'U': DeclaredTypeInstance(type='Vec', params={'T': DeclaredTypeInstance(type='Integer', params=None)}), 'T': DeclaredTypeInstance(type='Integer', params=None)})}, args=['-8583977792302834282', '7711574631255395665'], kwargs=None)], '-5304233745055051555': ['74', CallNode(function='Maybe.__and__', type_params={'T': DeclaredTypeInstance(type='NDArray', params=None)}, args=['-1391931857335621040', '-942110970961631503'], kwargs=None)], '-408406255212861689': ['15', CallNode(function='Maybe.match', type_params={'T': DeclaredTypeInstance(type='Pair', params={'U': DeclaredTypeInstance(type='Either', params={'U': DeclaredTypeInstance(type='Vec', params={'T': DeclaredTypeInstance(type='Integer', params=None)}), 'T': DeclaredTypeInstance(type='Integer', params=None)}), 'T': DeclaredTypeInstance(type='NDArray', params=None)})}, args=['-5304233745055051555', '5010042427115200897', '-5515526385815077566'], kwargs=None)], '-4222267006185817102': ['4', CallNode(function='NDArrayCompat.from_ndarray', type_params=None, args=['-408406255212861689'], kwargs=None)], '-2503773958439183038': ['5', CallNode(function='NDArrayCompat.to_ndarray', type_params=None, args=['-4222267006185817102'], kwargs=None)], '2048773056580625209': ['73', CallNode(function='Maybe.just', type_params=None, args=['4201175122181437417'], kwargs=None)], '8448855230416979157': ['74', CallNode(function='Maybe.__and__', type_params={'T': DeclaredTypeInstance(type='NDArray', params=None)}, args=['-1391931857335621040', '2048773056580625209'], kwargs=None)], '1847465626565053982': ['15', CallNode(function='Maybe.match', type_params={'T': DeclaredTypeInstance(type='Pair', params={'U': DeclaredTypeInstance(type='Either', params={'U': DeclaredTypeInstance(type='Vec', params={'T': DeclaredTypeInstance(type='Integer', params=None)}), 'T': DeclaredTypeInstance(type='Integer', params=None)}), 'T': DeclaredTypeInstance(type='NDArray', params=None)})}, args=['8448855230416979157', '5010042427115200897', '-5515526385815077566'], kwargs=None)], '-69534363120923593': ['4', CallNode(function='NDArrayCompat.from_ndarray', type_params=None, args=['1847465626565053982'], kwargs=None)], '-6968257214311654348': ['5', CallNode(function='NDArrayCompat.to_ndarray', type_params=None, args=['-69534363120923593'], kwargs=None)], '5783568063757114117': ['163', CallNode(function='Maybe.just', type_params={'T': DeclaredTypeInstance(type='NDArray', params=None)}, args=['8736167552244514047'], kwargs=None)], '5204199085984746916': ['131', CallNode(function='Abstraction.create', type_params=None, args=['-681883149430652755', '5783568063757114117'], kwargs=None)], '-7575133038086851428': ['55', CallNode(function='Abstraction.__call__', type_params={'U': DeclaredTypeInstance(type='Maybe', params={'T': DeclaredTypeInstance(type='NDArray', params=None)}), 'T': DeclaredTypeInstance(type='Integer', params=None)}, args=['5204199085984746916', '-3211906671069159500'], kwargs=None)], '8607575847157526588': ['56', CallNode(function='NDArrayCompat.from_ndarray', type_params=None, args=['-7575133038086851428'], kwargs=None)], '-6246887556120899874': ['57', CallNode(function='NDArrayCompat.__add__', type_params=None, args=['8607575847157526588', '8607575847157526588'], kwargs=None)], '-6776228022198580084': ['58', CallNode(function='Converter.convert', type_params={'T': DeclaredTypeInstance(type='NDArray', params=None)}, args=['-6246887556120899874'], kwargs=None)], '8883977443138545579': ['74', CallNode(function='Maybe.__and__', type_params={'T': DeclaredTypeInstance(type='NDArray', params=None)}, args=['-6776228022198580084', '2048773056580625209'], kwargs=None)], '-1509123518196513156': ['15', CallNode(function='Maybe.match', type_params={'T': DeclaredTypeInstance(type='Pair', params={'U': DeclaredTypeInstance(type='Either', params={'U': DeclaredTypeInstance(type='Vec', params={'T': DeclaredTypeInstance(type='Integer', params=None)}), 'T': DeclaredTypeInstance(type='Integer', params=None)}), 'T': DeclaredTypeInstance(type='NDArray', params=None)})}, args=['8883977443138545579', '5010042427115200897', '-5515526385815077566'], kwargs=None)], '-3115499674672156707': ['4', CallNode(function='NDArrayCompat.from_ndarray', type_params=None, args=['-1509123518196513156'], kwargs=None)], '-4913942482975470373': ['5', CallNode(function='NDArrayCompat.to_ndarray', type_params=None, args=['-3115499674672156707'], kwargs=None)], '-350095738741188719': ['234', CallNode(function='arange_', type_params=None, args=['-3211906671069159500'], kwargs=None)], '-263192801901547350': ['55', CallNode(function='Maybe.just', type_params={'T': DeclaredTypeInstance(type='NDArray', params=None)}, args=['-350095738741188719'], kwargs=None)], '703173405483134195': ['56', CallNode(function='NDArrayCompat.from_ndarray', type_params=None, args=['-263192801901547350'], kwargs=None)], '5525400136859490342': ['57', CallNode(function='NDArrayCompat.__add__', type_params=None, args=['703173405483134195', '703173405483134195'], kwargs=None)], '73994184238493224': ['58', CallNode(function='Converter.convert', type_params={'T': DeclaredTypeInstance(type='NDArray', params=None)}, args=['5525400136859490342'], kwargs=None)], '8867786982831191325': ['74', CallNode(function='Maybe.__and__', type_params={'T': DeclaredTypeInstance(type='NDArray', params=None)}, args=['73994184238493224', '2048773056580625209'], kwargs=None)], '-867761713948802074': ['15', CallNode(function='Maybe.match', type_params={'T': DeclaredTypeInstance(type='Pair', params={'U': DeclaredTypeInstance(type='Either', params={'U': DeclaredTypeInstance(type='Vec', params={'T': DeclaredTypeInstance(type='Integer', params=None)}), 'T': DeclaredTypeInstance(type='Integer', params=None)}), 'T': DeclaredTypeInstance(type='NDArray', params=None)})}, args=['8867786982831191325', '5010042427115200897', '-5515526385815077566'], kwargs=None)], '7758181823301056191': ['4', CallNode(function='NDArrayCompat.from_ndarray', type_params=None, args=['-867761713948802074'], kwargs=None)], '-3810927928568453427': ['5', CallNode(function='NDArrayCompat.to_ndarray', type_params=None, args=['7758181823301056191'], kwargs=None)], '1981297816395282152': ['224', CallNode(function='NDArray.__add__', type_params=None, args=['-350095738741188719', '-350095738741188719'], kwargs=None)], '3475792922954704675': ['58', CallNode(function='Maybe.just', type_params=None, args=['1981297816395282152'], kwargs=None)], '-3626034188067795291': ['57', CallNode(function='NDArrayCompat.from_ndarray', type_params=None, args=['3475792922954704675'], kwargs=None)], '-5759841914628267036': ['58', CallNode(function='Converter.convert', type_params={'T': DeclaredTypeInstance(type='NDArray', params=None)}, args=['-3626034188067795291'], kwargs=None)], '-1943005604760686861': ['74', CallNode(function='Maybe.__and__', type_params={'T': DeclaredTypeInstance(type='NDArray', params=None)}, args=['-5759841914628267036', '2048773056580625209'], kwargs=None)], '-3177309686704469057': ['15', CallNode(function='Maybe.match', type_params={'T': DeclaredTypeInstance(type='Pair', params={'U': DeclaredTypeInstance(type='Either', params={'U': DeclaredTypeInstance(type='Vec', params={'T': DeclaredTypeInstance(type='Integer', params=None)}), 'T': DeclaredTypeInstance(type='Integer', params=None)}), 'T': DeclaredTypeInstance(type='NDArray', params=None)})}, args=['-1943005604760686861', '5010042427115200897', '-5515526385815077566'], kwargs=None)], '-1029345547413412457': ['4', CallNode(function='NDArrayCompat.from_ndarray', type_params=None, args=['-3177309686704469057'], kwargs=None)], '819148506081979412': ['5', CallNode(function='NDArrayCompat.to_ndarray', type_params=None, args=['-1029345547413412457'], kwargs=None)], '-6110298935348692175': ['74', CallNode(function='Maybe.__and__', type_params={'T': DeclaredTypeInstance(type='NDArray', params=None)}, args=['3475792922954704675', '2048773056580625209'], kwargs=None)], '-3897427368245059045': ['15', CallNode(function='Maybe.match', type_params={'T': DeclaredTypeInstance(type='Pair', params={'U': DeclaredTypeInstance(type='Either', params={'U': DeclaredTypeInstance(type='Vec', params={'T': DeclaredTypeInstance(type='Integer', params=None)}), 'T': DeclaredTypeInstance(type='Integer', params=None)}), 'T': DeclaredTypeInstance(type='NDArray', params=None)})}, args=['-6110298935348692175', '5010042427115200897', '-5515526385815077566'], kwargs=None)], '4260811549756975427': ['4', CallNode(function='NDArrayCompat.from_ndarray', type_params=None, args=['-3897427368245059045'], kwargs=None)], '-5722508856330113325': ['5', CallNode(function='NDArrayCompat.to_ndarray', type_params=None, args=['4260811549756975427'], kwargs=None)], '-1983343742235582578': ['206', CallNode(function='Pair.create', type_params=None, args=['1981297816395282152', '4201175122181437417'], kwargs=None)], '-5430979454648748371': ['74', CallNode(function='Maybe.just', type_params=None, args=['-1983343742235582578'], kwargs=None)], '5551072758799018615': ['15', CallNode(function='Maybe.match', type_params={'T': DeclaredTypeInstance(type='Pair', params={'U': DeclaredTypeInstance(type='Either', params={'U': DeclaredTypeInstance(type='Vec', params={'T': DeclaredTypeInstance(type='Integer', params=None)}), 'T': DeclaredTypeInstance(type='Integer', params=None)}), 'T': DeclaredTypeInstance(type='NDArray', params=None)})}, args=['-5430979454648748371', '5010042427115200897', '-5515526385815077566'], kwargs=None)], '8203104477679628380': ['4', CallNode(function='NDArrayCompat.from_ndarray', type_params=None, args=['5551072758799018615'], kwargs=None)], '3056962054794237452': ['5', CallNode(function='NDArrayCompat.to_ndarray', type_params=None, args=['8203104477679628380'], kwargs=None)], '-1457002548368343917': ['15', CallNode(function='Abstraction.__call__', type_params={'U': DeclaredTypeInstance(type='Maybe', params={'T': DeclaredTypeInstance(type='NDArray', params=None)}), 'T': DeclaredTypeInstance(type='Pair', params={'U': DeclaredTypeInstance(type='Either', params={'U': DeclaredTypeInstance(type='Vec', params={'T': DeclaredTypeInstance(type='Integer', params=None)}), 'T': DeclaredTypeInstance(type='Integer', params=None)}), 'T': DeclaredTypeInstance(type='NDArray', params=None)})}, args=['-5515526385815077566', '-1983343742235582578'], kwargs=None)], '-4640246002418712882': ['4', CallNode(function='NDArrayCompat.from_ndarray', type_params=None, args=['-1457002548368343917'], kwargs=None)], '-3306643981929772405': ['5', CallNode(function='NDArrayCompat.to_ndarray', type_params=None, args=['-4640246002418712882'], kwargs=None)], '4651296622828332485': ['207', CallNode(function='Pair.left', type_params={'U': DeclaredTypeInstance(type='Either', params={'U': DeclaredTypeInstance(type='Vec', params={'T': DeclaredTypeInstance(type='Integer', params=None)}), 'T': DeclaredTypeInstance(type='Integer', params=None)}), 'T': DeclaredTypeInstance(type='NDArray', params=None)}, args=['-1983343742235582578'], kwargs=None)], '6000510428274421822': ['208', CallNode(function='Pair.right', type_params={'U': DeclaredTypeInstance(type='Either', params={'U': DeclaredTypeInstance(type='Vec', params={'T': DeclaredTypeInstance(type='Integer', params=None)}), 'T': DeclaredTypeInstance(type='Integer', params=None)}), 'T': DeclaredTypeInstance(type='NDArray', params=None)}, args=['-1983343742235582578'], kwargs=None)], '-647100416461333471': ['209', CallNode(function='NDArray.__getitem__', type_params=None, args=['4651296622828332485', '6000510428274421822'], kwargs=None)], '-8173341597729587494': ['15', CallNode(function='Maybe.just', type_params={'T': DeclaredTypeInstance(type='NDArray', params=None)}, args=['-647100416461333471'], kwargs=None)], '3947593102736331362': ['4', CallNode(function='NDArrayCompat.from_ndarray', type_params=None, args=['-8173341597729587494'], kwargs=None)], '-7030857675430564360': ['5', CallNode(function='NDArrayCompat.to_ndarray', type_params=None, args=['3947593102736331362'], kwargs=None)], '2978620999866985491': ['209', CallNode(function='NDArray.__getitem__', type_params=None, args=['4651296622828332485', '4201175122181437417'], kwargs=None)], '-2657296358628249285': ['15', CallNode(function='Maybe.just', type_params={'T': DeclaredTypeInstance(type='NDArray', params=None)}, args=['2978620999866985491'], kwargs=None)], '-3949935688711928029': ['4', CallNode(function='NDArrayCompat.from_ndarray', type_params=None, args=['-2657296358628249285'], kwargs=None)], '-6631072375959838291': ['5', CallNode(function='NDArrayCompat.to_ndarray', type_params=None, args=['-3949935688711928029'], kwargs=None)], '-8853983977266964720': ['220', CallNode(function='NDArray.__getitem__', type_params=None, args=['1981297816395282152', '4201175122181437417'], kwargs=None)], '-8619175044629905810': ['15', CallNode(function='Maybe.just', type_params={'T': DeclaredTypeInstance(type='NDArray', params=None)}, args=['-8853983977266964720'], kwargs=None)], '-5061961558092884090': ['4', CallNode(function='NDArrayCompat.from_ndarray', type_params=None, args=['-8619175044629905810'], kwargs=None)], '4991267349325335827': ['5', CallNode(function='NDArrayCompat.to_ndarray', type_params=None, args=['-5061961558092884090'], kwargs=None)], '-4171220823347851982': ['5', CallNode(function='NDArray.to_ndarray', type_params=None, args=['-8853983977266964720'], kwargs=None)], '-4781631431008228117': ['225', CallNode(function='NDArray.to_ndarray', type_params=None, args=['1981297816395282152'], kwargs=None)], '-6564514059126718460': ['229', CallNode(function='unbox_idxs', type_params=None, args=['4201175122181437417'], kwargs=None)], '-83155636971227537': ['5', CallNode(function='ndarray_getitem', type_params=None, args=['-4781631431008228117', '-6564514059126718460'], kwargs=None)], '8966718401416703160': ['229', CallNode(function='unbox_integer', type_params=None, args=['1174727054115292497'], kwargs=None)], '-3754569592220147892': ['5', CallNode(function='ndarray_getitem', type_params=None, args=['-4781631431008228117', '8966718401416703160'], kwargs=None)], '1170024317587024228': ['5', CallNode(function='ndarray_getitem', type_params=None, args=['-4781631431008228117', '-2343543019896068700'], kwargs=None)], '6425267506285488358': ['235', CallNode(function='NDArray.to_ndarray', type_params=None, args=['-350095738741188719'], kwargs=None)], '-4863396539837125244': ['225', CallNode(function='ndarray_add', type_params=None, args=['6425267506285488358', '6425267506285488358'], kwargs=None)], '4512902138288630235': ['5', CallNode(function='ndarray_getitem', type_params=None, args=['-4863396539837125244', '-2343543019896068700'], kwargs=None)], '15754825536588370': ['238', CallNode(function='unbox_integer', type_params=None, args=['-3211906671069159500'], kwargs=None)], '314267667532091469': ['235', CallNode(function='arange', type_params=None, args=['15754825536588370'], kwargs=None)], '7618072381192564266': ['225', CallNode(function='ndarray_add', type_params=None, args=['314267667532091469', '314267667532091469'], kwargs=None)], '-2927758344763541200': ['5', CallNode(function='ndarray_getitem', type_params=None, args=['7618072381192564266', '-2343543019896068700'], kwargs=None)], '7082767260677981981': ['235', CallNode(function='arange', type_params=None, args=['-2343543009110872125'], kwargs=None)], '8756284184006520724': ['225', CallNode(function='ndarray_add', type_params=None, args=['7082767260677981981', '7082767260677981981'], kwargs=None)], '5434607836658971630': ['5', CallNode(function='ndarray_getitem', type_params=None, args=['8756284184006520724', '-2343543019896068700'], kwargs=None)], '2952534996821982325': ['235', PrimitiveNode(type='ndarray', repr='[   0    1    2 ... 9997 9998 9999]')], '-1133194649047726248': ['225', CallNode(function='ndarray_add', type_params=None, args=['2952534996821982325', '2952534996821982325'], kwargs=None)], '-4405319901785420875': ['5', CallNode(function='ndarray_getitem', type_params=None, args=['-1133194649047726248', '-2343543019896068700'], kwargs=None)], '2952535439912455125': ['225', PrimitiveNode(type='ndarray', repr='[    0     2     4 ... 19994 19996 19998]')], '5233160290688319511': ['5', CallNode(function='ndarray_getitem', type_params=None, args=['2952535439912455125', '-2343543019896068700'], kwargs=None)], '2952534981978399525': ['5', PrimitiveNode(type='ndarray', repr='10')]}, states=States(initial='-4275142096127419791', states=[State(node='6923960924931968126', rule='metadsl_core.numpy.NDArrayCompat.__getitem__', label=None), State(node='8120896365847583127', rule='metadsl_core.either.convert_to_either', label=None), State(node='-5743763412060011443', rule='metadsl_core.integer.convert_integer', label=None), State(node='297819167986237329', rule='metadsl_core.numpy.arange', label=None), State(node='7777363954766500281', rule='metadsl_core.integer.convert_integer', label=None), State(node='1059369748599536817', rule='metadsl_core.abstraction.Abstraction.from_fn', label=None), State(node='3572900363202299158', rule='metadsl_core.abstraction.Abstraction.from_fn', label=None), State(node='4756748793500036766', rule='metadsl_core.abstraction.Abstraction.from_fn', label=None), State(node='-4864825091864824031', rule='metadsl_core.abstraction.Abstraction.from_fn', label=None), State(node='5849924784759920625', rule='metadsl_core.maybe.Maybe.map', label=None), State(node='3295549561561177437', rule='metadsl_core.maybe.Maybe.map', label=None), State(node='2064676179084898745', rule='metadsl_core.maybe.Maybe.map', label=None), State(node='816796590074940938', rule='metadsl_core.maybe.maybe_match', label=None), State(node='6922325130350078530', rule='metadsl_core.maybe.Maybe.map', label=None), State(node='-4830081813867659748', rule='metadsl_core.maybe.maybe_match', label=None), State(node='-7587745279488067732', rule='metadsl_core.abstraction.Abstraction.from_fn', label=None), State(node='-2602580908205424689', rule='metadsl_core.abstraction.Abstraction.from_fn', label=None), State(node='5006418482766028863', rule='metadsl_core.abstraction.compose', label=None), State(node='-3696774032206669227', rule='metadsl_core.abstraction.compose', label=None), State(node='2868746651488696172', rule='metadsl_core.abstraction.compose', label=None), State(node='-2503773958439183038', rule='metadsl_core.abstraction.beta_reduce', label=None), State(node='-6968257214311654348', rule='metadsl_core.maybe.maybe_or', label=None), State(node='-4913942482975470373', rule='metadsl_core.abstraction.compose', label=None), State(node='-3810927928568453427', rule='metadsl_core.abstraction.beta_reduce', label=None), State(node='819148506081979412', rule='metadsl_core.numpy.add_compat', label=None), State(node='-5722508856330113325', rule='metadsl_core.numpy.convert_to_ndarray', label=None), State(node='3056962054794237452', rule='metadsl_core.maybe.maybe_and', label=None), State(node='-3306643981929772405', rule='metadsl_core.maybe.maybe_match', label=None), State(node='-7030857675430564360', rule='metadsl_core.abstraction.beta_reduce', label=None), State(node='-6631072375959838291', rule='metadsl_core.pair.pair_right', label=None), State(node='4991267349325335827', rule='metadsl_core.pair.pair_left', label=None), State(node='4991267349325335827', rule='', label='convert'), State(node='-4171220823347851982', rule='metadsl_core.numpy.box_unbox_ndarray_compat', label=None), State(node='-83155636971227537', rule='metadsl_core.numpy_engine.unbox_ndarray_getitem', label=None), State(node='-3754569592220147892', rule='metadsl_core.numpy_engine.unbox_idxs_rule', label=None), State(node='1170024317587024228', rule='metadsl_core.numpy_engine.unbox_integer_rule', label=None), State(node='4512902138288630235', rule='metadsl_core.numpy_engine.unbox_ndarray_add', label=None), State(node='-2927758344763541200', rule='metadsl_core.numpy_engine.unbox_arange', label=None), State(node='5434607836658971630', rule='metadsl_core.numpy_engine.unbox_integer_rule', label=None), State(node='5434607836658971630', rule='', label='unbox'), State(node='-4405319901785420875', rule='metadsl_core.numpy_engine.arange', label=None), State(node='5233160290688319511', rule='metadsl_core.numpy_engine.ndarray_add', label=None), State(node='2952534981978399525', rule='metadsl_core.numpy_engine.ndarray_getitem', label=None), State(node='2952534981978399525', rule='', label='execute')]))"
      ]
     },
     "metadata": {},
     "output_type": "display_data"
    },
    {
     "data": {
      "text/plain": [
       "array(10)"
      ]
     },
     "metadata": {},
     "output_type": "display_data"
    }
   ],
   "source": [
    "from __future__ import annotations\n",
    "\n",
    "import metadsl\n",
    "import metadsl_core\n",
    "import metadsl_visualize\n",
    "\n",
    "(metadsl_core.arange(10000) + metadsl_core.arange(10000))[5].to_ndarray()"
   ]
  },
  {
   "cell_type": "markdown",
   "metadata": {
    "jupyter": {
     "source_hidden": true
    }
   },
   "source": [
    "## Python"
   ]
  },
  {
   "cell_type": "code",
   "execution_count": null,
   "metadata": {
    "jupyter": {
     "source_hidden": true
    }
   },
   "outputs": [],
   "source": [
    "def arange_add_and_index():\n",
    "    x = [i for i in range(10000)]\n",
    "    y = [i + i for i in x]\n",
    "    return y[5]\n",
    "\n",
    "%time arange_add_and_index()"
   ]
  },
  {
   "cell_type": "markdown",
   "metadata": {
    "jupyter": {
     "source_hidden": true
    }
   },
   "source": [
    "![](https://user-images.githubusercontent.com/1186124/68094720-43935780-fe71-11e9-9169-533478dd7e02.png)"
   ]
  },
  {
   "cell_type": "markdown",
   "metadata": {
    "jupyter": {
     "source_hidden": true
    }
   },
   "source": [
    "### NumPy\n",
    "\n",
    "The classic approach of speeding up Python for scientific workloads, shown in tools like NumPy and Pandas, keeps this architecture, but it just optimizes chunks of it. You write specialized optimized instructions for common workloads and call them when we need them. (LaPack, Fortran, C, Cython)."
   ]
  },
  {
   "cell_type": "code",
   "execution_count": null,
   "metadata": {
    "jupyter": {
     "source_hidden": true
    }
   },
   "outputs": [],
   "source": [
    "import numpy\n",
    "\n",
    "def add_and_index_np():\n",
    "    x = numpy.arange(10000)\n",
    "    y = (x + x)\n",
    "    return y[5]\n",
    "\n",
    "%time add_and_index_np()"
   ]
  },
  {
   "cell_type": "markdown",
   "metadata": {
    "jupyter": {
     "source_hidden": true
    }
   },
   "source": [
    "![](https://user-images.githubusercontent.com/1186124/68094718-42fac100-fe71-11e9-83d4-23d3bb5a47b8.png)"
   ]
  },
  {
   "cell_type": "markdown",
   "metadata": {
    "jupyter": {
     "source_hidden": true
    }
   },
   "source": [
    "## Single Core = Von Neuman Architecture"
   ]
  },
  {
   "cell_type": "markdown",
   "metadata": {
    "jupyter": {
     "source_hidden": true
    }
   },
   "source": [
    "[![](https://user-images.githubusercontent.com/1186124/68030190-43d3fd00-fc8f-11e9-8cfd-296d04529f42.png)](https://github.com/Quansight-Labs/metadsl/issues/77#issuecomment-548800090)"
   ]
  },
  {
   "cell_type": "markdown",
   "metadata": {
    "jupyter": {
     "source_hidden": true
    }
   },
   "source": [
    "> A **von Neumann language is any of those programming languages that are high-level abstract isomorphic copies of von Neumann architectures**. As of 2009, **most current programming languages fit into this description**, likely as a consequence of the extensive domination of the von Neumann computer architecture during the past 50 years. "
   ]
  },
  {
   "cell_type": "markdown",
   "metadata": {
    "jupyter": {
     "source_hidden": true
    }
   },
   "source": [
    "Two ways to increase performance:\n",
    "\n",
    "* **Hardware**: Run instructions faster\n",
    "* **Software**: Run less instructions"
   ]
  },
  {
   "cell_type": "markdown",
   "metadata": {
    "jupyter": {
     "source_hidden": true
    }
   },
   "source": [
    "## Hardware Slowdown"
   ]
  },
  {
   "cell_type": "markdown",
   "metadata": {
    "jupyter": {
     "source_hidden": true
    }
   },
   "source": [
    "[![](https://www.karlrupp.net/wp-content/uploads/2018/02/42-years-processor-trend.png)](https://web.archive.org/web/20191013185855/https://www.karlrupp.net/2018/02/42-years-of-microprocessor-trend-data/)"
   ]
  },
  {
   "cell_type": "markdown",
   "metadata": {
    "jupyter": {
     "source_hidden": true
    }
   },
   "source": [
    "* [**Moore's law**](https://en.wikipedia.org/wiki/Moore%27s_law): # transistors doubles every two years\n",
    "* **Denard scaling**: As transistors get smaller, power stays proportionate to area\n",
    "\n",
    "> The exponential processor transistor growth predicted by Moore does not always translate into exponentially greater practical CPU performance. Since around 2005–2007, **Dennard scaling appears to have broken down**, so even though Moore's law continued for several years after that, it has not yielded dividends in improved performance. The primary reason cited for the breakdown is that at small sizes, current leakage poses greater challenges, and also causes the chip to heat up, which creates a threat of thermal runaway and therefore, further increases energy costs.\n",
    "> \n",
    "> The breakdown of Dennard scaling **prompted a switch among some chip manufacturers to a greater focus on multicore processors**, but the gains offered by switching to more cores are lower than the gains that would be achieved had Dennard scaling continued. In another departure from Dennard scaling, Intel microprocessors adopted a non-planar tri-gate FinFET at 22 nm in 2012 that is faster and consumes less power than a conventional planar transistor."
   ]
  },
  {
   "cell_type": "markdown",
   "metadata": {
    "jupyter": {
     "source_hidden": true
    }
   },
   "source": [
    "Moore's Law + Denard Scaling = [Koomey's Law](https://en.wikipedia.org/wiki/Koomey%27s_law): computations per joule double every 1.57 years"
   ]
  },
  {
   "cell_type": "markdown",
   "metadata": {
    "jupyter": {
     "source_hidden": true
    }
   },
   "source": [
    "> By the second law of thermodynamics and Landauer's principle, irreversible computing cannot continue to be made more energy efficient forever. As of 2011, computers have a computing efficiency of about 0.00001%.[13] **Assuming that the energy efficiency of computing will continue to double every 1.57 years, the Landauer bound will be reached in 2048**. Thus, after about 2048, Koomey's law can no longer hold. "
   ]
  },
  {
   "cell_type": "markdown",
   "metadata": {
    "jupyter": {
     "source_hidden": true
    }
   },
   "source": [
    "#### Moving to non Von Neuman Hardware\n",
    "\n",
    "* CPU pipelining\n",
    "* Caching\n",
    "* Multiprocessing\n",
    "* GPUs\n",
    "* ASICs\n",
    "* FPGAs"
   ]
  },
  {
   "cell_type": "markdown",
   "metadata": {
    "jupyter": {
     "source_hidden": true
    }
   },
   "source": [
    "### Software Slowdown"
   ]
  },
  {
   "cell_type": "markdown",
   "metadata": {
    "jupyter": {
     "source_hidden": true
    }
   },
   "source": [
    "![](https://d3i71xaburhd42.cloudfront.net/38c1f34efedab0e04945ab1abb6e0087abdd4894/1-Figure1-1.png)"
   ]
  },
  {
   "cell_type": "markdown",
   "metadata": {
    "jupyter": {
     "source_hidden": true
    }
   },
   "source": [
    "**John Backus** in his **1977 ACM Turing Award lecture**:\n",
    "\n",
    "> Surely there must be a less primitive way of making big changes in the store than by pushing vast numbers of words back and forth through the **von Neumann bottleneck**. Not only is this tube a literal bottleneck for the data traffic of a problem, but, more importantly, it is\n",
    ">\n",
    "> # an intellectual bottleneck\n",
    "> ## that has kept us tied to word-at-a-time thinking\n",
    "> ### instead of encouraging us to think in terms of the larger conceptual units of the task at hand\n",
    ">\n",
    "> Thus programming is basically planning and detailing the enormous traffic of words through the von Neumann bottleneck, and much of that traffic concerns not significant data itself, but where to find it.\n"
   ]
  },
  {
   "cell_type": "markdown",
   "metadata": {
    "jupyter": {
     "source_hidden": true
    }
   },
   "source": [
    "#### Leads to non Von Neuman Software"
   ]
  },
  {
   "cell_type": "markdown",
   "metadata": {
    "jupyter": {
     "source_hidden": true
    }
   },
   "source": [
    "[![](https://www.easy-tensorflow.com/files/1_1.gif)](https://www.easy-tensorflow.com/tf-tutorials/basics/graph-and-session)"
   ]
  },
  {
   "cell_type": "markdown",
   "metadata": {
    "jupyter": {
     "source_hidden": true
    }
   },
   "source": [
    "## This is hard!\n",
    "\n",
    "![](https://user-images.githubusercontent.com/1186124/68095556-768d1980-fe78-11e9-872f-747c0d1c80f4.png)"
   ]
  },
  {
   "cell_type": "markdown",
   "metadata": {
    "jupyter": {
     "source_hidden": true
    }
   },
   "source": [
    "### Community Open Source"
   ]
  },
  {
   "cell_type": "markdown",
   "metadata": {
    "jupyter": {
     "source_hidden": true
    }
   },
   "source": [
    "![](https://user-images.githubusercontent.com/1186124/68102006-b9fa7e80-fe9e-11e9-93d0-be7c4c2c2309.png)"
   ]
  },
  {
   "cell_type": "markdown",
   "metadata": {
    "jupyter": {
     "source_hidden": true
    }
   },
   "source": [
    "**decentralized cooperation, accessability, and performance**"
   ]
  },
  {
   "cell_type": "markdown",
   "metadata": {
    "jupyter": {
     "source_hidden": true
    }
   },
   "source": [
    "We have tools in Python, just need to connect them without vendor lock in:\n",
    "\n",
    "* Deep learning frameworks, like Tensorflow\n",
    "* Whole program optimizations, like Numba\n",
    "* Distributed computing, like Dask\n",
    "* Functional programming"
   ]
  },
  {
   "cell_type": "markdown",
   "metadata": {
    "jupyter": {
     "source_hidden": true
    }
   },
   "source": [
    "Need tool to write domain specific languages in Python."
   ]
  },
  {
   "cell_type": "markdown",
   "metadata": {
    "jupyter": {
     "source_hidden": true
    }
   },
   "source": [
    "### `metadsl`"
   ]
  },
  {
   "cell_type": "code",
   "execution_count": null,
   "metadata": {
    "jupyter": {
     "source_hidden": true
    }
   },
   "outputs": [],
   "source": [
    "class Array(metadsl.Expression):\n",
    "    @metadsl.expression\n",
    "    def __getitem__(self, idx: int) -> Array:\n",
    "        ...\n",
    "    \n",
    "    @metadsl.expression\n",
    "    def __add__(self, other: Array) -> Array:\n",
    "        ...\n",
    "\n",
    "@metadsl.expression\n",
    "def arange(n: int) -> Array:\n",
    "    ..."
   ]
  },
  {
   "cell_type": "code",
   "execution_count": null,
   "metadata": {
    "jupyter": {
     "source_hidden": true
    }
   },
   "outputs": [],
   "source": [
    "def double_and_index(a):\n",
    "    return (a + a)[5]"
   ]
  },
  {
   "cell_type": "code",
   "execution_count": null,
   "metadata": {
    "jupyter": {
     "source_hidden": true
    }
   },
   "outputs": [],
   "source": [
    "double_and_index(arange(10))"
   ]
  },
  {
   "cell_type": "code",
   "execution_count": null,
   "metadata": {
    "jupyter": {
     "source_hidden": true
    }
   },
   "outputs": [],
   "source": [
    "import numpy\n",
    "\n",
    "@metadsl.expression\n",
    "def array_from_np(a: numpy.ndarray) -> Array:\n",
    "    ...\n",
    "\n",
    "\n",
    "numpy_rules = metadsl.RulesRepeatFold()\n",
    "metadsl.execute.default_rule = numpy_rules\n",
    "\n",
    "\n",
    "@numpy_rules.append\n",
    "@metadsl.rule\n",
    "def np_arange_rule(i: int) -> metadsl.R[Array]:\n",
    "    return arange(i), lambda: array_from_np(numpy.arange(i))\n",
    "\n",
    "\n",
    "@numpy_rules.append\n",
    "@metadsl.rule\n",
    "def np_add_rule(l: numpy.ndarray, r: numpy.ndarray) -> metadsl.R[Array]:\n",
    "    return array_from_np(l) + array_from_np(r), lambda: array_from_np(l + r)\n",
    "\n",
    "@numpy_rules.append\n",
    "@metadsl.rule\n",
    "def np_getitem_rule(a: numpy.ndarray, i: int) -> metadsl.R[Array]:\n",
    "    return array_from_np(a)[i], lambda: array_from_np(numpy.asarray(a[i]))\n",
    "\n",
    "double_and_index(arange(10))"
   ]
  },
  {
   "cell_type": "markdown",
   "metadata": {
    "jupyter": {
     "source_hidden": true
    }
   },
   "source": [
    "#### Symbolic"
   ]
  },
  {
   "cell_type": "code",
   "execution_count": null,
   "metadata": {
    "jupyter": {
     "source_hidden": true
    }
   },
   "outputs": [],
   "source": [
    "@metadsl.expression\n",
    "def symbolic_array(a: str) -> Array:\n",
    "    ...\n",
    "\n",
    "symbolic_rules = metadsl.RulesRepeatFold()\n",
    "metadsl.execute.default_rule = symbolic_rules\n",
    "\n",
    "    \n",
    "@symbolic_rules.append\n",
    "@metadsl.rule\n",
    "def symbolic_add_rule(l: str, r: str) -> metadsl.R[Array]:\n",
    "    return symbolic_array(l) + symbolic_array(r), lambda: symbolic_array(f\"({l} + {r})\")\n",
    "\n",
    "@symbolic_rules.append\n",
    "@metadsl.rule\n",
    "def symbolic_getitem_rule(a: str, i: int) -> metadsl.R[Array]:\n",
    "    return symbolic_array(a)[i], lambda: symbolic_array(f\"{a}[{i}]\")\n",
    "\n",
    "double_and_index(symbolic_array(\"a\"))"
   ]
  },
  {
   "cell_type": "markdown",
   "metadata": {
    "jupyter": {
     "source_hidden": true
    }
   },
   "source": [
    "### Optimization"
   ]
  },
  {
   "cell_type": "code",
   "execution_count": null,
   "metadata": {
    "jupyter": {
     "source_hidden": true
    }
   },
   "outputs": [],
   "source": [
    "@metadsl.rule\n",
    "def optimize_getitem_add(l: Array, r: Array, idx: int) -> metadsl.R[Array]:\n",
    "    return (\n",
    "        (l + r)[idx],\n",
    "        l[idx] + r[idx]\n",
    "    )\n",
    "\n",
    "metadsl.execute.default_rule = metadsl.RuleInOrder(\n",
    "    optimize_getitem_add,\n",
    "    symbolic_rules\n",
    ")\n",
    "double_and_index(symbolic_array(\"a\"))"
   ]
  },
  {
   "cell_type": "markdown",
   "metadata": {},
   "source": [
    "#### Abstract Arrays"
   ]
  },
  {
   "cell_type": "code",
   "execution_count": null,
   "metadata": {
    "jupyter": {
     "source_hidden": true
    }
   },
   "outputs": [],
   "source": [
    "VecInt = metadsl_core.Vec[metadsl_core.Integer]\n",
    "IdxFn = metadsl_core.Abstraction[metadsl_core.Vec[metadsl_core.Integer], metadsl_core.Integer]\n",
    "\n",
    "class AbstractArray(metadsl.Expression):\n",
    "    @metadsl.expression\n",
    "    def create(shape: VecInt, idx_fn: IdxFn) -> AbstractArray:\n",
    "        ...\n",
    "\n",
    "    @metadsl.expression\n",
    "    @property\n",
    "    def shape(self) -> VecInt:\n",
    "        ...\n",
    "        \n",
    "    @metadsl.expression\n",
    "    def __getitem__(self, indx: VecInt) -> metadsl_core.Integer:\n",
    "        ...\n",
    "\n",
    "    @metadsl.expression\n",
    "    def __add__(self, other: AbstractArray) -> AbstractArray:\n",
    "        @metadsl_core.Abstraction.from_fn\n",
    "        def new_idx_fn(idx: VecInt) -> metadsl_core.Integer:\n",
    "            return self[idx] + other[idx]\n",
    "    \n",
    "        return AbstractArray.create(self.shape, new_idx_fn)"
   ]
  },
  {
   "cell_type": "code",
   "execution_count": null,
   "metadata": {
    "jupyter": {
     "source_hidden": true
    }
   },
   "outputs": [],
   "source": [
    "abstract_rules = metadsl.RulesRepeatFold()\n",
    "@abstract_rules.append\n",
    "@metadsl.rule\n",
    "def abstract_getitem_rule(idx_fn: IdxFn, shape: VecInt, indx: VecInt) -> metadsl.R[metadsl_core.Integer]:\n",
    "    return (\n",
    "        AbstractArray.create(shape, idx_fn)[indx],\n",
    "        idx_fn(indx)\n",
    "    )\n",
    "\n",
    "@abstract_rules.append\n",
    "@metadsl.rule\n",
    "def abstract_shape_rule(idx_fn: IdxFn, shape: VecInt) -> metadsl.R[VecInt]:\n",
    "    return (\n",
    "        AbstractArray.create(shape, idx_fn).shape,\n",
    "        shape\n",
    "    )\n",
    "\n",
    "abstract_rules.append(metadsl.default_rule(AbstractArray.__add__))"
   ]
  },
  {
   "cell_type": "code",
   "execution_count": null,
   "metadata": {
    "jupyter": {
     "source_hidden": true
    }
   },
   "outputs": [],
   "source": [
    "@metadsl.expression\n",
    "def array_from_abstract(abs_array: AbstractArray) -> Array:\n",
    "    ...\n",
    "    \n",
    "@metadsl.expression\n",
    "def array_from_scalar(s: metadsl_core.Integer) -> Array:\n",
    "    ...\n",
    "    \n",
    "    \n",
    "@metadsl.expression\n",
    "def create_abstract_array_str(label: str) -> AbstractArray:\n",
    "    ...\n",
    "\n",
    "array_to_abstract_rules = metadsl.RulesRepeatFold()\n",
    "\n",
    "metadsl.execute.default_rule = metadsl.RulesRepeatSequence(\n",
    "    metadsl_core.all_rules,\n",
    "    array_to_abstract_rules,\n",
    "    abstract_rules\n",
    ")\n",
    "\n",
    "@array_to_abstract_rules.append\n",
    "@metadsl.rule\n",
    "def symbolic_to_abstract_rule(l: str) -> metadsl.R[Array]:\n",
    "    return (\n",
    "        symbolic_array(l),\n",
    "        array_from_abstract(create_abstract_array_str(l))\n",
    "    )\n",
    "\n",
    "@array_to_abstract_rules.append\n",
    "@metadsl.rule\n",
    "def array_getitem_rule(a: AbstractArray, i: int) -> metadsl.R[Array]:\n",
    "    return (\n",
    "        array_from_abstract(a)[i],\n",
    "        array_from_scalar(a[metadsl_core.Vec.create(metadsl_core.Integer.from_int(i))])   \n",
    "    )\n",
    "\n",
    "@array_to_abstract_rules.append\n",
    "@metadsl.rule\n",
    "def array_add_rule(l: AbstractArray, r: AbstractArray) -> metadsl.R[Array]:\n",
    "    return (\n",
    "        array_from_abstract(l) + array_from_abstract(r),\n",
    "        array_from_abstract(l + r)\n",
    "    )"
   ]
  },
  {
   "cell_type": "code",
   "execution_count": null,
   "metadata": {
    "jupyter": {
     "source_hidden": true
    }
   },
   "outputs": [],
   "source": [
    "double_and_index(symbolic_array(\"a\"))"
   ]
  },
  {
   "cell_type": "markdown",
   "metadata": {},
   "source": [
    "### [Computing for Everybody](https://www.python.org/doc/essays/cp4e/)\n",
    "\n",
    "![](https://aem.dropbox.com/cms/content/dam/dropbox/blog/company/2019/guido_featured.png)\n",
    "> \"What will happen if users can program their own computer?\" We're looking forward to a future where every computer user will be able to **\"open the hood\" of their computer and make improvements to the applications inside**. We believe that this will eventually change the nature of software and software development tools fundamentally. "
   ]
  },
  {
   "cell_type": "markdown",
   "metadata": {
    "jupyter": {
     "source_hidden": true
    }
   },
   "source": [
    "We need to offer users friendly onramps into the ecosystem that will continue supporting new hardware and optimizations, or we will push them to vendor lock in closed ecosystems. So we need to figure out what kind of technology can support a decentralized and multi stakeholder approrach. Even inside of Google they are moving to a similar approach with MLIR. I love using Python, because it is accessable and friendly. We can shape this ecosystem to our will to make it easy for new folks to contribute and work together. "
   ]
  },
  {
   "cell_type": "markdown",
   "metadata": {
    "jupyter": {
     "source_hidden": true
    }
   },
   "source": [
    "### Errata"
   ]
  },
  {
   "cell_type": "markdown",
   "metadata": {
    "jupyter": {
     "source_hidden": true
    }
   },
   "source": [
    "#### \"Folding Domain-Specific Languages: Deep and Shallow Embeddings\" - Jeremy Gibbons\n"
   ]
  },
  {
   "cell_type": "markdown",
   "metadata": {
    "jupyter": {
     "source_hidden": true
    }
   },
   "source": [
    "We call this a domain specific language."
   ]
  },
  {
   "cell_type": "markdown",
   "metadata": {
    "jupyter": {
     "source_hidden": true
    }
   },
   "source": [
    "> There are two main approaches to DSLs. **Standalone DSLs** provide their own custom syntax and semantics, and standard compilation techniques are used to translate or interpret programs written in the DSL for execution. Standalone DSLs can be designed for maximal convenience to their intended users. But **the exercise can be a significant undertaking for the implementer**, involving an entirely separate ecosystem—compiler, editor, debugger, and so on—and typically also much reinven- tion of standard language features such as variables, definitions, and conditionals."
   ]
  },
  {
   "cell_type": "markdown",
   "metadata": {
    "jupyter": {
     "source_hidden": true
    }
   },
   "source": [
    "> The alternative approach is to **embed the DSL within a host GPL**, essentially as a collection of definitions written in the host language. **All the existing facilities and infrastructure of the host environment can be appropriated for the DSL**, and familiarity with the syntactic conventions and tools for the host language can be carried over to the DSL. Whereas the standalone approach is the most common one within object-oriented circles [5], the embedded approach is typically favoured by functional programmers [11]. It seems that core FP features such as algebraic datatypes and higher-order functions are extremely helpful in defining embedded DSLs; conversely, it has been said that language-oriented tasks such as DSLs are the killer application for FP."
   ]
  },
  {
   "cell_type": "markdown",
   "metadata": {
    "jupyter": {
     "source_hidden": true
    }
   },
   "source": [
    "> Amongst embedded DSLs, there are two further refinements. With **a deep embedding, terms in the DSL are implemented simply to construct an abstract syntax tree (AST)**; this tree is subsequently transformed for optimization and traversed for evaluation. With **a shallow embedding, terms in the DSL are implemented directly as the values to which they evaluate, bypassing the intermediate AST and its traversal**."
   ]
  },
  {
   "cell_type": "markdown",
   "metadata": {
    "jupyter": {
     "source_hidden": true
    }
   },
   "source": [
    "NumPy is a shallowly embedded domain specific language, since the \"terms\" (functions) in it are executed immidiatly. No AST is created."
   ]
  },
  {
   "cell_type": "markdown",
   "metadata": {
    "jupyter": {
     "source_hidden": true
    }
   },
   "source": [
    "`metadsl` lets you create APIs like NumPy that are deeply embedded, so that first we construct an AST. That's what we saw in the images above. Then we can transform that tree to either evaluate it direcly or compile it to another form.\n",
    "\n",
    "So maybe it really should be `metadedsl` (meta deeply embedded domain specific language)?"
   ]
  },
  {
   "cell_type": "markdown",
   "metadata": {
    "jupyter": {
     "source_hidden": true
    }
   },
   "source": [
    "Metadsl allows creating a deeply embedding languages in Python to optimize and compile them."
   ]
  },
  {
   "cell_type": "markdown",
   "metadata": {
    "jupyter": {
     "source_hidden": true
    }
   },
   "source": [
    "#### Introspection"
   ]
  },
  {
   "cell_type": "markdown",
   "metadata": {
    "jupyter": {
     "source_hidden": true
    }
   },
   "source": [
    "We can start to think about semantic open research and connection with opening. Reproducible science. Makes compute data so we can understand our scientific processes better.\n",
    "\n",
    "Benefits scientists"
   ]
  },
  {
   "cell_type": "markdown",
   "metadata": {
    "jupyter": {
     "source_hidden": true
    }
   },
   "source": [
    "## Current State"
   ]
  },
  {
   "cell_type": "markdown",
   "metadata": {
    "jupyter": {
     "source_hidden": true
    }
   },
   "source": [
    "#### LLVM"
   ]
  },
  {
   "cell_type": "code",
   "execution_count": null,
   "metadata": {
    "jupyter": {
     "source_hidden": true
    }
   },
   "outputs": [],
   "source": [
    "import metadsl as m\n",
    "import metadsl_core as mc\n",
    "import metadsl_llvm as ml\n",
    "import metadsl_visualize"
   ]
  },
  {
   "cell_type": "code",
   "execution_count": null,
   "metadata": {
    "jupyter": {
     "source_hidden": true
    }
   },
   "outputs": [],
   "source": [
    "def create_metadsl_fn():\n",
    "\n",
    "    ##\n",
    "    # Constants\n",
    "    ##\n",
    "\n",
    "    int_type = ml.Type.create_int(32)\n",
    "    zero = ml.Value.constant(int_type, 0)\n",
    "    one = ml.Value.constant(int_type, 1)\n",
    "\n",
    "    ##\n",
    "    # Module Reference\n",
    "    ##\n",
    "    mod = ml.ModuleReference.create(\"fib\")\n",
    "\n",
    "    ##\n",
    "    # Module Builder\n",
    "    ##\n",
    "    mod_builer = ml.ModuleBuilder.create(mod)\n",
    "\n",
    "    ##\n",
    "    # Function References\n",
    "    ##\n",
    "    mod_builder, fib_more_fn = ml.FunctionReference.create(\n",
    "        mod_builer,\n",
    "        ml.FunctionType.create(int_type, int_type, int_type, int_type),\n",
    "        \"fib_more\",\n",
    "        \"fastcc\",\n",
    "    ).spread\n",
    "\n",
    "    mod_builder, fib_fn = ml.FunctionReference.create(\n",
    "        mod_builer, ml.FunctionType.create(int_type, int_type), \"fib\", \"fastcc\"\n",
    "    ).spread\n",
    "\n",
    "    ##\n",
    "    # Function Builders\n",
    "    ##\n",
    "    fib_more_builder = ml.FunctionBuilder.create(fib_more_fn)\n",
    "    fib_fn_builder = ml.FunctionBuilder.create(fib_fn)\n",
    "\n",
    "    ##\n",
    "    # Arguments\n",
    "    ##\n",
    "\n",
    "    fib_n = fib_fn_builder.arguments[mc.Integer.from_int(0)]\n",
    "    fib_more_n = fib_more_builder.arguments[mc.Integer.from_int(0)]\n",
    "    fib_more_a = fib_more_builder.arguments[mc.Integer.from_int(1)]\n",
    "    fib_more_b = fib_more_builder.arguments[mc.Integer.from_int(2)]\n",
    "\n",
    "    ##\n",
    "    # Block References\n",
    "    ##\n",
    "    fib_fn_builder, fib_entry = ml.BlockReference.create(\"entry\", fib_fn_builder).spread\n",
    "    fib_more_builder, fib_more_entry = ml.BlockReference.create(\n",
    "        \"entry\", fib_more_builder\n",
    "    ).spread\n",
    "    fib_more_builder, fib_pred_cont = ml.BlockReference.create(\n",
    "        \"pred_cont\", fib_more_builder\n",
    "    ).spread\n",
    "    fib_more_builder, fib_not_pred_cont = ml.BlockReference.create(\n",
    "        \"not_pred_cont\", fib_more_builder\n",
    "    ).spread\n",
    "    fib_more_builder, fib_n_eq_one = ml.BlockReference.create(\n",
    "        \"n_eq_one\", fib_more_builder\n",
    "    ).spread\n",
    "    fib_more_builder, fib_n_neq_one = ml.BlockReference.create(\n",
    "        \"n_neq_one\", fib_more_builder\n",
    "    ).spread\n",
    "\n",
    "    ##\n",
    "    # Block Builders\n",
    "    ##\n",
    "    fib_entry_builder = ml.BlockBuilder.create(fib_entry)\n",
    "    fib_more_entry_builder = ml.BlockBuilder.create(fib_more_entry)\n",
    "    fib_pred_cont_builder = ml.BlockBuilder.create(fib_pred_cont)\n",
    "    fib_not_pred_cont_builder = ml.BlockBuilder.create(fib_not_pred_cont)\n",
    "    fib_n_eq_one_builder = ml.BlockBuilder.create(fib_n_eq_one)\n",
    "    fib_n_neq_one_builder = ml.BlockBuilder.create(fib_n_neq_one)\n",
    "\n",
    "    fib_entry_builder, fib_entry_res = fib_entry_builder.call(\n",
    "        fib_more_fn, mc.Vec.create(fib_n, zero, one)\n",
    "    ).spread\n",
    "    fib_entry_builder = fib_entry_builder.ret(fib_entry_res)\n",
    "\n",
    "    fib_more_entry_builder, pred_cont = fib_more_entry_builder.icmp_signed(\n",
    "        \">\", fib_more_n, one\n",
    "    ).spread\n",
    "\n",
    "    fib_more_entry_builder = fib_more_entry_builder.cbranch(\n",
    "        pred_cont, fib_pred_cont, fib_not_pred_cont\n",
    "    )\n",
    "\n",
    "    fib_pred_cont_builder, minus1 = fib_pred_cont_builder.sub(fib_more_n, one).spread\n",
    "    fib_pred_cont_builder, ab = fib_pred_cont_builder.add(fib_more_a, fib_more_b).spread\n",
    "\n",
    "    fib_pred_cont_builder, added = fib_pred_cont_builder.call(\n",
    "        fib_more_fn, mc.Vec.create(minus1, fib_more_b, ab)\n",
    "    ).spread\n",
    "    fib_pred_cont_builder = fib_pred_cont_builder.ret(added)\n",
    "\n",
    "    fib_not_pred_cont_builder, n_eq_1 = fib_not_pred_cont_builder.icmp_signed(\n",
    "        \"==\", fib_more_n, one\n",
    "    ).spread\n",
    "    fib_not_pred_cont_builder = fib_not_pred_cont_builder.cbranch(\n",
    "        n_eq_1, fib_n_eq_one, fib_n_neq_one\n",
    "    )\n",
    "\n",
    "    fib_n_eq_one_builder = fib_n_eq_one_builder.ret(fib_more_b)\n",
    "\n",
    "    fib_n_neq_one_builder = fib_n_neq_one_builder.ret(fib_more_a)\n",
    "\n",
    "    ##\n",
    "    # Blocks\n",
    "    ##\n",
    "    fib_entry_block = ml.Block.create(fib_entry, fib_entry_builder)\n",
    "    fib_more_entry_block = ml.Block.create(fib_more_entry, fib_more_entry_builder)\n",
    "    fib_pred_cont_block = ml.Block.create(fib_pred_cont, fib_pred_cont_builder)\n",
    "    fib_not_pred_cont_block = ml.Block.create(\n",
    "        fib_not_pred_cont, fib_not_pred_cont_builder\n",
    "    )\n",
    "    fib_n_eq_one_block = ml.Block.create(fib_n_eq_one, fib_n_eq_one_builder)\n",
    "    fib_n_neq_one_block = ml.Block.create(fib_n_neq_one, fib_n_neq_one_builder)\n",
    "\n",
    "    ##\n",
    "    # Functions\n",
    "    ##\n",
    "    fib_fn_real = ml.Function.create(fib_fn, mc.Vec.create(fib_entry_block))\n",
    "    fib_more_fn_real = ml.Function.create(\n",
    "        fib_more_fn,\n",
    "        mc.Vec.create(\n",
    "            fib_more_entry_block,\n",
    "            fib_pred_cont_block,\n",
    "            fib_not_pred_cont_block,\n",
    "            fib_n_eq_one_block,\n",
    "            fib_n_neq_one_block,\n",
    "        ),\n",
    "    )\n",
    "\n",
    "    ##\n",
    "    # Module\n",
    "    ##\n",
    "\n",
    "    module_real = ml.Module.create(mod, mc.Vec.create(fib_fn_real, fib_more_fn_real))\n",
    "\n",
    "    ##\n",
    "    # CType\n",
    "    ##\n",
    "    c_int = ml.CType.c_int()\n",
    "    c_func_type = ml.CFunctionType.create(c_int, c_int)\n",
    "\n",
    "    return ml.compile_function(module_real, mod_builder, fib_fn, c_func_type)\n"
   ]
  },
  {
   "cell_type": "code",
   "execution_count": null,
   "metadata": {
    "jupyter": {
     "source_hidden": true
    }
   },
   "outputs": [],
   "source": [
    "metadsl_fn = m.execute(create_metadsl_fn())"
   ]
  },
  {
   "cell_type": "code",
   "execution_count": null,
   "metadata": {
    "jupyter": {
     "source_hidden": true
    }
   },
   "outputs": [],
   "source": [
    "metadsl_fn(1000)"
   ]
  }
 ],
 "metadata": {
  "kernelspec": {
   "display_name": "Python 3",
   "language": "python",
   "name": "python3"
  },
  "language_info": {
   "codemirror_mode": {
    "name": "ipython",
    "version": 3
   },
   "file_extension": ".py",
   "mimetype": "text/x-python",
   "name": "python",
   "nbconvert_exporter": "python",
   "pygments_lexer": "ipython3",
   "version": "3.7.3"
  }
 },
 "nbformat": 4,
 "nbformat_minor": 4
}
