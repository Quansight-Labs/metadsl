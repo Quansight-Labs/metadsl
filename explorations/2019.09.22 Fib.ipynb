{
 "cells": [
  {
   "cell_type": "markdown",
   "metadata": {},
   "source": [
    "# Fibonnaci\n",
    "\n",
    "In this notebook we will show a few different ways of compiling the fibonnaci functon with LLVM in Python.\n",
    "\n",
    "This is inspired by [Siu's work](https://github.com/sklam/etude-okvmap/blob/1e85c5ea7bb1f092ed251159e7046d1348f3fa8b/example_minilang.py#L285-L300) as an attempt to explore how metadsl could be useful as a way to build higher level expression systems on top of LLVM in Python."
   ]
  },
  {
   "cell_type": "markdown",
   "metadata": {},
   "source": [
    "## Pure Python\n",
    "\n",
    "First, lets create a pure python version"
   ]
  },
  {
   "cell_type": "code",
   "execution_count": 1,
   "metadata": {},
   "outputs": [],
   "source": [
    "N = 1000"
   ]
  },
  {
   "cell_type": "code",
   "execution_count": 2,
   "metadata": {},
   "outputs": [],
   "source": [
    "def fib_more(n, a, b):\n",
    "    if n > 1:\n",
    "        return fib_more(n - 1, b, a + b)\n",
    "    if b == 1:\n",
    "        return b\n",
    "    return a\n",
    "\n",
    "def fib(n):\n",
    "    return fib_more(n, 0, 1)"
   ]
  },
  {
   "cell_type": "code",
   "execution_count": 3,
   "metadata": {},
   "outputs": [],
   "source": [
    "# %timeit fib(N)"
   ]
  },
  {
   "cell_type": "markdown",
   "metadata": {},
   "source": [
    "## `llvmlite`\n",
    "\n",
    "First, lets start with the low level `llvmlite` library to build up the llvm directly:"
   ]
  },
  {
   "cell_type": "code",
   "execution_count": 4,
   "metadata": {},
   "outputs": [],
   "source": [
    "from llvmlite import ir\n",
    "\n",
    "def create_mod():\n",
    "    mod = ir.Module(name=\"fib\")\n",
    "\n",
    "    int_type = ir.IntType(32)\n",
    "    zero = ir.Constant(int_type, 0)\n",
    "    one = ir.Constant(int_type, 1)\n",
    "\n",
    "    fib_more_fn = ir.Function(\n",
    "        mod,\n",
    "        ir.FunctionType(int_type, [int_type, int_type, int_type]),\n",
    "        name='fib_more',\n",
    "    )\n",
    "    \n",
    "    fib_fn = ir.Function(\n",
    "        mod,\n",
    "        ir.FunctionType(int_type, [int_type]),\n",
    "        name='fib'\n",
    "    )\n",
    "    \n",
    "    fib_fn.calling_convention = 'fastcc'\n",
    "    fib_more_fn.calling_convention = 'fastcc'\n",
    "\n",
    "\n",
    "    fib_n, = fib_fn.args\n",
    "    fib_more_n, fib_more_a, fib_more_b = fib_more_fn.args\n",
    "\n",
    "\n",
    "    fib_entry = fib_fn.append_basic_block('entry')\n",
    "    fib_more_entry = fib_more_fn.append_basic_block('entry')\n",
    "    fib_pred_cont = fib_more_fn.append_basic_block('pred_cont')\n",
    "    fib_not_pred_cont = fib_more_fn.append_basic_block('not_pred_cont')\n",
    "    fib_n_eq_one = fib_more_fn.append_basic_block('n_eq_one')\n",
    "    fib_n_neq_one = fib_more_fn.append_basic_block('n_neq_one')\n",
    "\n",
    "    fib_entry_builder = ir.IRBuilder(fib_entry)\n",
    "    fib_more_entry_builder = ir.IRBuilder(fib_more_entry)\n",
    "    fib_pred_cont_builder = ir.IRBuilder(fib_pred_cont)\n",
    "    fib_not_pred_cont_builder = ir.IRBuilder(fib_not_pred_cont)\n",
    "    fib_n_eq_one_builder = ir.IRBuilder(fib_n_eq_one)\n",
    "    fib_n_neq_one_builder = ir.IRBuilder(fib_n_neq_one)\n",
    "\n",
    "\n",
    "    fib_entry_builder.ret(\n",
    "        fib_entry_builder.call(\n",
    "            fib_more_fn,\n",
    "            (fib_n, zero, one)\n",
    "        )\n",
    "    )\n",
    "\n",
    "\n",
    "    pred_cont = fib_more_entry_builder.icmp_signed(\">\", fib_more_n, one)\n",
    "\n",
    "\n",
    "    fib_more_entry_builder.cbranch(pred_cont, fib_pred_cont, fib_not_pred_cont)\n",
    "    \n",
    "    minus1 = fib_pred_cont_builder.sub(fib_more_n, one)\n",
    "    ab = fib_pred_cont_builder.add(fib_more_a, fib_more_b)\n",
    "    added = fib_pred_cont_builder.call(fib_more_fn, (minus1, fib_more_b, ab))\n",
    "    fib_pred_cont_builder.ret(added)\n",
    "\n",
    "    n_eq_1 = fib_not_pred_cont_builder.icmp_signed(\"==\", fib_more_n, one)\n",
    "    fib_not_pred_cont_builder.cbranch(n_eq_1, fib_n_eq_one, fib_n_neq_one)\n",
    "\n",
    "    fib_n_eq_one_builder.ret(fib_more_b)\n",
    "\n",
    "    fib_n_neq_one_builder.ret(fib_more_a)\n",
    "\n",
    "    return mod\n",
    "\n",
    "llvm_ir = (str(create_mod()))\n",
    "# print(llvm_ir)"
   ]
  },
  {
   "cell_type": "code",
   "execution_count": 5,
   "metadata": {},
   "outputs": [],
   "source": [
    "from ctypes import CFUNCTYPE, c_int\n",
    "from llvmlite import binding as llvm\n",
    "\n",
    "llvm.initialize()\n",
    "llvm.initialize_native_target()\n",
    "llvm.initialize_native_asmprinter()\n",
    "\n",
    "def make_c_wrapper(fn_callee):\n",
    "    mod = fn_callee.module\n",
    "    fnty = fn_callee.function_type\n",
    "    fn = ir.Function(mod, fnty, name='entry_' + fn_callee.name)\n",
    "    builder = ir.IRBuilder(fn.append_basic_block())\n",
    "    builder.ret(builder.call(fn_callee, fn.args))\n",
    "\n",
    "\n",
    "\n",
    "def execute(llvm_ir):\n",
    "    \"\"\"\n",
    "    Compile the LLVM IR string with the given engine.\n",
    "    The compiled module object is returned.\n",
    "    \"\"\"\n",
    "    llmod = llvm.parse_assembly(str(llvm_ir))\n",
    "    llmod.verify()\n",
    "    \n",
    "#     print('optimized'.center(80, '-'))\n",
    "    pmb = llvm.create_pass_manager_builder()\n",
    "    pmb.opt_level = 1\n",
    "    pm = llvm.create_module_pass_manager()\n",
    "    pmb.populate(pm)\n",
    "    pm.run(llmod)\n",
    "#     print(llmod)\n",
    "\n",
    "    target_machine = llvm.Target.from_default_triple().create_target_machine()\n",
    "\n",
    "    ee = llvm.create_mcjit_compiler(llmod, target_machine)\n",
    "    ee.finalize_object()\n",
    "    cfptr = ee.get_function_address(\"entry_fib\")\n",
    "\n",
    "    cfunc = CFUNCTYPE(c_int, c_int)(cfptr)\n",
    "    return ee, cfunc\n",
    "\n",
    "    # Get CFG\n",
    "#         ll_fib_more = llmod.get_function('fib_more')\n",
    "#         cfg = llvm.get_function_cfg(ll_fib_more)\n",
    "#         llvm.view_dot_graph(cfg, view=True)\n",
    "\n",
    "mod = create_mod()\n",
    "make_c_wrapper(mod.get_global('fib'))\n",
    "_, f = execute(mod)"
   ]
  },
  {
   "cell_type": "code",
   "execution_count": 6,
   "metadata": {},
   "outputs": [],
   "source": [
    "# %timeit f(N)"
   ]
  },
  {
   "cell_type": "markdown",
   "metadata": {},
   "source": [
    "We see this is two orders of magnitude faster than the Python code, partially because we are closer to the metal and partially because LLVM turns this tail recursion into a loop."
   ]
  },
  {
   "cell_type": "markdown",
   "metadata": {},
   "source": [
    "## `metadsl` with `llvmlite` wrapper"
   ]
  },
  {
   "cell_type": "code",
   "execution_count": 7,
   "metadata": {},
   "outputs": [],
   "source": [
    "import metadsl as m\n",
    "import metadsl_core as mc\n",
    "import metadsl_llvm as ml\n",
    "import metadsl_visualize"
   ]
  },
  {
   "cell_type": "code",
   "execution_count": 9,
   "metadata": {},
   "outputs": [],
   "source": [
    "mod = ml.ModuleReference.create(\"fib\")\n",
    "\n",
    "int_type = ml.Type.create_int(32)\n",
    "zero = ml.Value.constant(int_type, 0)\n",
    "one = ml.Value.constant(int_type, 1)\n",
    "\n",
    "fib_more_fn = ml.FunctionReference.create(\n",
    "    mod,\n",
    "    ml.FunctionType.create(int_type, int_type, int_type, int_type),\n",
    "    'fib_more',\n",
    "    'fastcc'\n",
    ")\n",
    "\n",
    "fib_fn = ml.FunctionReference.create(\n",
    "    mod,\n",
    "    ml.FunctionType.create(int_type, int_type),\n",
    "    'fib',\n",
    "    'fastcc'\n",
    ")\n",
    "\n",
    "fib_n = fib_fn.arguments[mc.Integer.from_int(0)]\n",
    "fib_more_n = fib_more_fn.arguments[mc.Integer.from_int(0)]\n",
    "fib_more_a = fib_more_fn.arguments[mc.Integer.from_int(1)]\n",
    "fib_more_b = fib_more_fn.arguments[mc.Integer.from_int(2)]\n",
    "\n",
    "fib_entry = ml.BlockReference.create('entry', fib_fn)\n",
    "fib_more_entry = ml.BlockReference.create('entry', fib_more_fn)\n",
    "fib_pred_cont = ml.BlockReference.create('pred_cont', fib_more_fn)\n",
    "fib_not_pred_cont = ml.BlockReference.create('not_pred_cont', fib_more_fn)\n",
    "fib_n_eq_one = ml.BlockReference.create('n_eq_one', fib_more_fn)\n",
    "fib_n_neq_one = ml.BlockReference.create('n_neq_one', fib_more_fn)\n",
    "\n",
    "fib_entry_builder = ml.Builder.create(fib_entry)\n",
    "fib_more_entry_builder = ml.Builder.create(fib_more_entry)\n",
    "fib_pred_cont_builder = ml.Builder.create(fib_pred_cont)\n",
    "fib_not_pred_cont_builder = ml.Builder.create(fib_not_pred_cont)\n",
    "fib_n_eq_one_builder = ml.Builder.create(fib_n_eq_one)\n",
    "fib_n_neq_one_builder = ml.Builder.create(fib_n_neq_one)\n",
    "\n",
    "\n",
    "res = fib_entry_builder.call(\n",
    "    fib_more_fn,\n",
    "    mc.Vec.create(fib_n, zero, one)\n",
    ")\n",
    "fib_entry_builder = res.builder\n",
    "fib_entry_builder = fib_entry_builder.ret(res.value)\n",
    "\n",
    "\n",
    "res = fib_more_entry_builder.icmp_signed(\">\", fib_more_n, one)\n",
    "fib_more_entry_builder = res.builder\n",
    "pred_cont = res.value\n",
    "\n",
    "fib_more_entry_builder = fib_more_entry_builder.cbranch(pred_cont, fib_pred_cont, fib_not_pred_cont)\n",
    "\n",
    "res = fib_pred_cont_builder.sub(fib_more_n, one)\n",
    "minus1 = res.value\n",
    "fib_pred_cont_builder = res.builder\n",
    "res = fib_pred_cont_builder.add(fib_more_a, fib_more_b)\n",
    "ab = res.value\n",
    "fib_pred_cont_builder = res.builder\n",
    "\n",
    "res = fib_pred_cont_builder.call(fib_more_fn, mc.Vec.create(minus1, fib_more_b, ab))\n",
    "added = res.value\n",
    "fib_pred_cont_builder = res.builder\n",
    "fib_pred_cont_builder = fib_pred_cont_builder.ret(added)\n",
    "\n",
    "res = fib_not_pred_cont_builder.icmp_signed(\"==\", fib_more_n, one)\n",
    "n_eq_1 = res.value\n",
    "fib_not_pred_cont_builder = res.builder\n",
    "fib_not_pred_cont_builder = fib_not_pred_cont_builder.cbranch(n_eq_1, fib_n_eq_one, fib_n_neq_one)\n",
    "\n",
    "fib_n_eq_one_builder = fib_n_eq_one_builder.ret(fib_more_b)\n",
    "\n",
    "fib_n_neq_one_builder = fib_n_neq_one_builder.ret(fib_more_a)\n",
    "\n",
    "# Create blocks with builders and references\n",
    "fib_entry_block = ml.Block.create(fib_entry, fib_entry_builder)\n",
    "fib_more_entry_block = ml.Block.create(fib_more_entry, fib_more_entry_builder)\n",
    "fib_pred_cont_block = ml.Block.create(fib_pred_cont, fib_pred_cont_builder)\n",
    "fib_not_pred_cont_block = ml.Block.create(fib_not_pred_cont, fib_not_pred_cont_builder)\n",
    "fib_n_eq_one_block = ml.Block.create(fib_n_eq_one, fib_n_eq_one_builder)\n",
    "fib_n_neq_one_block = ml.Block.create(fib_n_neq_one, fib_n_neq_one_builder)\n",
    "\n",
    "# Create functions with blocks\n",
    "fib_fn_real = ml.Function.create(fib_fn, mc.Vec.create(fib_entry_block))\n",
    "fib_more_fn_real = ml.Function.create(fib_more_fn, mc.Vec.create(\n",
    "    fib_more_entry_block,\n",
    "    fib_pred_cont_block,\n",
    "    fib_not_pred_cont_block,\n",
    "    fib_n_eq_one_block,\n",
    "    fib_n_neq_one_block,\n",
    "))\n",
    "\n",
    "module_real = ml.Module.create(mod, mc.Vec.create(fib_fn_real, fib_more_fn_real))"
   ]
  },
  {
   "cell_type": "code",
   "execution_count": 10,
   "metadata": {},
   "outputs": [
    {
     "data": {
      "application/x.typez+json": {
       "nodes": {
        "-1014080800304484990": [
         "33",
         {
          "args": [
           "8453128156297567355",
           "-701153403785351207",
           "2310427264272266292",
           "-4150339690534088628"
          ],
          "function": "Builder.icmp_signed"
         }
        ],
        "-1042379618558744017": [
         "80",
         {
          "args": [
           "-5863251465363744076",
           "6045125608671886787"
          ],
          "function": "Module.create"
         }
        ],
        "-1047961877592049211": [
         "79",
         {
          "args": [
           "-4179302925957849158",
           "-4017554304514688279"
          ],
          "function": "Vec.create"
         }
        ],
        "-1056674393888611545": [
         "42",
         {
          "args": [
           "-3605138750810768077"
          ],
          "function": "Builder.create"
         }
        ],
        "-1065938636680224408": [
         "41",
         {
          "args": [
           "3374711876852576789",
           "4577705878178231666"
          ],
          "function": "Block.create"
         }
        ],
        "-1140330232080615714": [
         "25",
         {
          "args": [
           "-4935380922796875345",
           "-1371095635986192064"
          ],
          "function": "Block.create"
         }
        ],
        "-1142017280430779831": [
         "79",
         {
          "args": [
           "-4179302925957849158",
           "2970021489991081563"
          ],
          "function": "Vec.create"
         }
        ],
        "-1156291066457359635": [
         "26",
         {
          "args": [
           "2896996842982769044"
          ],
          "function": "Vec.create"
         }
        ],
        "-119907583227421664": [
         "58",
         {
          "args": [
           "670736802080096690",
           "9089730270529233599"
          ],
          "function": "Builder.ret"
         }
        ],
        "-1208403252813101579": [
         "49",
         {
          "args": [
           "-8562605227399397865",
           "-8087392358875293566"
          ],
          "function": "Vec.__getitem__",
          "type_params": {
           "T": {
            "type": "Value"
           }
          }
         }
        ],
        "-1247420547727320124": [
         "80",
         {
          "args": [
           "-5863251465363744076",
           "-5095542717292746214"
          ],
          "function": "Module.create"
         }
        ],
        "-125017120603586814": [
         "78",
         {
          "args": [
           "3759620696171104765",
           "4048443859979610821"
          ],
          "function": "Function.create"
         }
        ],
        "-1305016929791594291": [
         "20",
         {
          "args": [
           "-5911494759980896135",
           "-8516188366979267844",
           "-4503328218805277900"
          ],
          "function": "Vec.create"
         }
        ],
        "-1309663167109628062": [
         "24",
         {
          "args": [
           "-8482792641481900768",
           "-393685867099266835"
          ],
          "function": "Builder.ret"
         }
        ],
        "-1358724669205357174": [
         "23",
         {
          "args": [
           "-3161697699993003584"
          ],
          "function": "BuilderValue.value"
         }
        ],
        "-1365518982054740957": [
         "37",
         {
          "args": [
           "-7789607736657979854",
           "8512632523259241963"
          ],
          "function": "BlockReference.create"
         }
        ],
        "-1371095635986192064": [
         "24",
         {
          "args": [
           "-6424089876916657313",
           "4123598966184630418"
          ],
          "function": "Builder.ret"
         }
        ],
        "-1416885322640837307": [
         "77",
         {
          "args": [
           "-1065938636680224408",
           "8148518328497910305",
           "6665571099958531038",
           "112952750858850823",
           "-8737318874557332007"
          ],
          "function": "Vec.create"
         }
        ],
        "-1467050966907058980": [
         "20",
         {
          "args": [
           "-897853730359320428",
           "-8516188366979267844",
           "-4503328218805277900"
          ],
          "function": "Vec.create"
         }
        ],
        "-1467544751147466359": [
         "50",
         {
          "args": [
           "-3922878427587142414",
           "-3104122277052500111",
           "-1208403252813101579"
          ],
          "function": "Builder.add"
         }
        ],
        "-1484110505422834743": [
         "59",
         {
          "args": [
           "-7554146791929914131",
           "-119907583227421664"
          ],
          "function": "Block.create"
         }
        ],
        "-1500864240650347364": [
         "9",
         {
          "args": [
           "6173115947400151947"
          ],
          "function": "Builder.create"
         }
        ],
        "-1506243135513342853": [
         "58",
         {
          "args": [
           "-6586217225544034688",
           "6234599826441398669"
          ],
          "function": "Builder.ret"
         }
        ],
        "-1507083604338010919": [
         "21",
         {
          "args": [
           "8355091666781035345",
           "3759620696171104765",
           "-1305016929791594291"
          ],
          "function": "Builder.call"
         }
        ],
        "-1612584447858619403": [
         "40",
         {
          "args": [
           "-735549075478802440",
           "-9133796648958598251",
           "-7554146791929914131",
           "-8131894153201210641"
          ],
          "function": "Builder.cbranch"
         }
        ],
        "-1788578973256763642": [
         "63",
         {
          "args": [
           "2903739154556236657"
          ],
          "function": "BuilderValue.builder"
         }
        ],
        "-1826154931236931318": [
         "44",
         {
          "args": [
           "-5062813429048412432"
          ],
          "function": "BuilderValue.builder"
         }
        ],
        "-1936799951352170231": [
         "41",
         {
          "args": [
           "661203734521396238",
           "3583273500732430259"
          ],
          "function": "Block.create"
         }
        ],
        "-2050574710053608235": [
         "26",
         {
          "args": [
           "-7017324342846348064"
          ],
          "function": "Vec.create"
         }
        ],
        "-2069480539582482497": [
         "41",
         {
          "args": [
           "6114221760397073753",
           "-1612584447858619403"
          ],
          "function": "Block.create"
         }
        ],
        "-2094729648097256975": [
         "55",
         {
          "args": [
           "4816309673589327286",
           "-7679423923534741682",
           "4456904066707669941"
          ],
          "function": "Builder.call"
         }
        ],
        "-2095482627292842882": [
         "26",
         {
          "args": [
           "-4825711350982143468"
          ],
          "function": "Vec.create"
         }
        ],
        "-2122759945626282449": [
         "80",
         {
          "args": [
           "-5863251465363744076",
           "-1047961877592049211"
          ],
          "function": "Module.create"
         }
        ],
        "-2142496432497255505": [
         "80",
         {
          "args": [
           "-424107799521709043",
           "-949265483450507516"
          ],
          "function": "Module.create"
         }
        ],
        "-2160327862373382821": [
         "40",
         {
          "args": [
           "-9030331101364011989",
           "-9193267899101977258",
           "-3605138750810768077",
           "5510395094771320645"
          ],
          "function": "Builder.cbranch"
         }
        ],
        "-2218667964914708590": [
         "5",
         {
          "repr": "'fastcc'",
          "type": "str"
         }
        ],
        "-2267363054949791952": [
         "29",
         {
          "args": [
           "2261874927112314025"
          ],
          "function": "Builder.create"
         }
        ],
        "-2298903136493057055": [
         "35",
         {
          "args": [
           "-6253813085112650942"
          ],
          "function": "BuilderValue.value"
         }
        ],
        "-231334137988692827": [
         "40",
         {
          "args": [
           "-3106790533941974560",
           "1826365808768074157",
           "-3562800440534033040",
           "-7160615201430447006"
          ],
          "function": "Builder.cbranch"
         }
        ],
        "-232779740158387034": [
         "55",
         {
          "args": [
           "7398810500473939937",
           "3759620696171104765",
           "3567042750633760607"
          ],
          "function": "Builder.call"
         }
        ],
        "-2369456404739411198": [
         "78",
         {
          "args": [
           "3759620696171104765",
           "-5724515568091167032"
          ],
          "function": "Function.create"
         }
        ],
        "-2395391573167221195": [
         "6",
         {
          "args": [
           "2804500559221371332"
          ],
          "function": "FunctionReference.box"
         }
        ],
        "-2408756898482392607": [
         "77",
         {
          "args": [
           "-2878207925370415361",
           "-1484110505422834743",
           "2522044848292781889",
           "1492868732092870071",
           "4447711776544568136"
          ],
          "function": "Vec.create"
         }
        ],
        "-2472138758353652129": [
         "76",
         {
          "args": [
           "7952558790143574424",
           "308025295811776917"
          ],
          "function": "Block.create"
         }
        ],
        "-2501925320480528133": [
         "23",
         {
          "args": [
           "-8413008362799053611"
          ],
          "function": "BuilderValue.value"
         }
        ],
        "-25094066531026219": [
         "57",
         {
          "args": [
           "-4783433649907111178"
          ],
          "function": "BuilderValue.value"
         }
        ],
        "-2511322941946445116": [
         "34",
         {
          "args": [
           "-7952210461455330389"
          ],
          "function": "BuilderValue.builder"
         }
        ],
        "-2530095424740834051": [
         "82",
         {
          "repr": "<<class 'llvmlite.ir.types.IntType'> i32>",
          "type": "IntType"
         }
        ],
        "-2530181125066790651": [
         "86",
         {
          "repr": "<<class 'llvmlite.ir.types.FunctionType'> i32 (i32)>",
          "type": "FunctionType"
         }
        ],
        "-2543388997185115692": [
         "54",
         {
          "args": [
           "-855326892762407006",
           "-1208403252813101579",
           "-5917719594550932689"
          ],
          "function": "Vec.create"
         }
        ],
        "-2555198419429928266": [
         "54",
         {
          "args": [
           "5204221990943048308",
           "-1208403252813101579",
           "7522303220591479012"
          ],
          "function": "Vec.create"
         }
        ],
        "-2558694478612801262": [
         "59",
         {
          "args": [
           "-3562800440534033040",
           "-8240364844148729919"
          ],
          "function": "Block.create"
         }
        ],
        "-2574359400594756535": [
         "23",
         {
          "args": [
           "-8800473459394627893"
          ],
          "function": "BuilderValue.value"
         }
        ],
        "-2625391128411534220": [
         "66",
         {
          "args": [
           "2804371821925427282"
          ],
          "function": "BlockReference.box"
         }
        ],
        "-2629522877711088309": [
         "78",
         {
          "args": [
           "3759620696171104765",
           "-6525804739908506929"
          ],
          "function": "Function.create"
         }
        ],
        "-2673000618745728201": [
         "77",
         {
          "args": [
           "-3390122502313641587",
           "8761783437877738752",
           "-8661984271761979774",
           "-6311861459778674851",
           "-2472138758353652129"
          ],
          "function": "Vec.create"
         }
        ],
        "-2785097989873822438": [
         "78",
         {
          "args": [
           "-7679423923534741682",
           "1931430528876302997"
          ],
          "function": "Function.create"
         }
        ],
        "-2785929411031441352": [
         "21",
         {
          "args": [
           "6972767924978272572",
           "-7679423923534741682",
           "4251300188161762349"
          ],
          "function": "Builder.call"
         }
        ],
        "-2878207925370415361": [
         "41",
         {
          "args": [
           "6114221760397073753",
           "-8189219455210413256"
          ],
          "function": "Block.create"
         }
        ],
        "-2895874695995555606": [
         "35",
         {
          "args": [
           "5716060950529071325"
          ],
          "function": "BuilderValue.value"
         }
        ],
        "-290523986231092327": [
         "44",
         {
          "args": [
           "-602142444321603663"
          ],
          "function": "BuilderValue.builder"
         }
        ],
        "-2923370318896190781": [
         "75",
         {
          "args": [
           "-4777676679956504129",
           "-4898111914275480036"
          ],
          "function": "Builder.ret"
         }
        ],
        "-297590941691344737": [
         "37",
         {
          "args": [
           "-7789607736657979854",
           "-3328745194228861557"
          ],
          "function": "BlockReference.create"
         }
        ],
        "-3014130944990655283": [
         "24",
         {
          "args": [
           "8581711151895218691",
           "8604028121792169470"
          ],
          "function": "Builder.ret"
         }
        ],
        "-3051748648046534046": [
         "69",
         {
          "args": [
           "-4976348336067783413",
           "6994241790022786678",
           "-2625391128411534220",
           "2388331674288667845"
          ],
          "function": "Builder.cbranch"
         }
        ],
        "-3073269490947664560": [
         "13",
         {
          "args": [
           "-769574915170258636"
          ],
          "function": "Vec.create"
         }
        ],
        "-3086121045734832810": [
         "62",
         {
          "args": [
           "-9072713140817617498",
           "-8396387257036249845",
           "-7586895345972319938",
           "-4503328218805277900"
          ],
          "function": "Builder.icmp_signed"
         }
        ],
        "-3104122277052500111": [
         "46",
         {
          "args": [
           "-8562605227399397865",
           "6857461487267714753"
          ],
          "function": "Vec.__getitem__",
          "type_params": {
           "T": {
            "type": "Value"
           }
          }
         }
        ],
        "-310495772643795850": [
         "55",
         {
          "args": [
           "11687601489821769",
           "3759620696171104765",
           "-2555198419429928266"
          ],
          "function": "Builder.call"
         }
        ],
        "-3105113423431171676": [
         "75",
         {
          "args": [
           "-5273667091276364854",
           "-3104122277052500111"
          ],
          "function": "Builder.ret"
         }
        ],
        "-3106790533941974560": [
         "34",
         {
          "args": [
           "6822172096052116522"
          ],
          "function": "BuilderValue.builder"
         }
        ],
        "-3161697699993003584": [
         "21",
         {
          "args": [
           "-5471239278540920529",
           "-3328745194228861557",
           "-8886852662216778558"
          ],
          "function": "Builder.call"
         }
        ],
        "-3164713105171405776": [
         "70",
         {
          "args": [
           "5510395094771320645",
           "6194060957271833626"
          ],
          "function": "Block.create"
         }
        ],
        "-3253189307007704115": [
         "55",
         {
          "args": [
           "-6797889928899335485",
           "-3328745194228861557",
           "5758936950166805182"
          ],
          "function": "Builder.call"
         }
        ],
        "-3253223422185309780": [
         "72",
         {
          "args": [
           "-8835457575462402662",
           "-1208403252813101579"
          ],
          "function": "Builder.ret"
         }
        ],
        "-3324058972365216769": [
         "23",
         {
          "args": [
           "1550141514360553574"
          ],
          "function": "BuilderValue.value"
         }
        ],
        "-3328745194228861557": [
         "12",
         {
          "args": [
           "-424107799521709043",
           "4657680110200707938",
           "5799176543409540157",
           "-2218667964914708590"
          ],
          "function": "FunctionReference.create"
         }
        ],
        "-3342600715786557633": [
         "58",
         {
          "args": [
           "356789902609213433",
           "-6444852415974762604"
          ],
          "function": "Builder.ret"
         }
        ],
        "-3374365196812501825": [
         "46",
         {
          "args": [
           "7060885281423012435",
           "6857461487267714753"
          ],
          "function": "Vec.__getitem__",
          "type_params": {
           "T": {
            "type": "Value"
           }
          }
         }
        ],
        "-3390122502313641587": [
         "41",
         {
          "args": [
           "6114221760397073753",
           "-2160327862373382821"
          ],
          "function": "Block.create"
         }
        ],
        "-3397941578118904069": [
         "80",
         {
          "args": [
           "-5863251465363744076",
           "7025055079428731142"
          ],
          "function": "Module.create"
         }
        ],
        "-3431751032098019202": [
         "63",
         {
          "args": [
           "5221623450350414360"
          ],
          "function": "BuilderValue.builder"
         }
        ],
        "-3439834427357429885": [
         "73",
         {
          "args": [
           "-2625391128411534220",
           "5083178634528334295"
          ],
          "function": "Block.create"
         }
        ],
        "-3466405919038755049": [
         "69",
         {
          "args": [
           "-4976348336067783413",
           "6994241790022786678",
           "-8341448156534734626",
           "7952558790143574424"
          ],
          "function": "Builder.cbranch"
         }
        ],
        "-3490555450895013004": [
         "77",
         {
          "args": [
           "-5885134666265700773",
           "6282199083804630338",
           "841957634529044290",
           "-6323563812379284924",
           "6155948508460485815"
          ],
          "function": "Vec.create"
         }
        ],
        "-3534201144602506561": [
         "73",
         {
          "args": [
           "2874276183975587589",
           "7151919999179239715"
          ],
          "function": "Block.create"
         }
        ],
        "-3536388809843402977": [
         "71",
         {
          "args": [
           "3067172257505927369"
          ],
          "function": "Builder.create"
         }
        ],
        "-3549913507110276519": [
         "58",
         {
          "args": [
           "4011158855355277089",
           "-8051734592594793588"
          ],
          "function": "Builder.ret"
         }
        ],
        "-3562800440534033040": [
         "37",
         {
          "args": [
           "-7789607736657979854",
           "-7679423923534741682"
          ],
          "function": "BlockReference.create"
         }
        ],
        "-3592857499420023531": [
         "20",
         {
          "args": [
           "5250232615315848509",
           "-8516188366979267844",
           "-4503328218805277900"
          ],
          "function": "Vec.create"
         }
        ],
        "-3605138750810768077": [
         "37",
         {
          "args": [
           "-7789607736657979854",
           "3759620696171104765"
          ],
          "function": "BlockReference.create"
         }
        ],
        "-3616905981544042366": [
         "76",
         {
          "args": [
           "-7172884558677192133",
           "5381130710281780393"
          ],
          "function": "Block.create"
         }
        ],
        "-3631612917630966193": [
         "80",
         {
          "args": [
           "-5863251465363744076",
           "3437172283705764964"
          ],
          "function": "Module.create"
         }
        ],
        "-364581811248731568": [
         "77",
         {
          "args": [
           "-3390122502313641587",
           "8761783437877738752",
           "-3164713105171405776",
           "-6311861459778674851",
           "-5498324352665298693"
          ],
          "function": "Vec.create"
         }
        ],
        "-3652726720868823675": [
         "43",
         {
          "args": [
           "-9039673149580098046",
           "-847306742672392617",
           "-4503328218805277900"
          ],
          "function": "Builder.sub"
         }
        ],
        "-366570978888575715": [
         "59",
         {
          "args": [
           "1383769678918467604",
           "-8469626120638515063"
          ],
          "function": "Block.create"
         }
        ],
        "-366621983095472709": [
         "79",
         {
          "args": [
           "-4179302925957849158",
           "-5530554682417340024"
          ],
          "function": "Vec.create"
         }
        ],
        "-3674549522204652614": [
         "78",
         {
          "args": [
           "3759620696171104765",
           "5912817150587741372"
          ],
          "function": "Function.create"
         }
        ],
        "-3694562681463917802": [
         "72",
         {
          "args": [
           "-8725932881043408772",
           "-1208403252813101579"
          ],
          "function": "Builder.ret"
         }
        ],
        "-3721720552890382087": [
         "27",
         {
          "args": [
           "2431316751667786439",
           "-2050574710053608235"
          ],
          "function": "Function.create"
         }
        ],
        "-3726079116759330176": [
         "77",
         {
          "args": [
           "-6192437390180860986",
           "-7581794057330427884",
           "913377584087162710",
           "-4131545113021979223",
           "-3616905981544042366"
          ],
          "function": "Vec.create"
         }
        ],
        "-3850146973482974830": [
         "26",
         {
          "args": [
           "-1140330232080615714"
          ],
          "function": "Vec.create"
         }
        ],
        "-3909303935637339492": [
         "63",
         {
          "args": [
           "-8685446463395474189"
          ],
          "function": "BuilderValue.builder"
         }
        ],
        "-3913217087929648497": [
         "63",
         {
          "args": [
           "-4008732223335916296"
          ],
          "function": "BuilderValue.builder"
         }
        ],
        "-3922878427587142414": [
         "44",
         {
          "args": [
           "-6262304163453874840"
          ],
          "function": "BuilderValue.builder"
         }
        ],
        "-393685867099266835": [
         "23",
         {
          "args": [
           "-6850447384964053266"
          ],
          "function": "BuilderValue.value"
         }
        ],
        "-4005616463819871673": [
         "79",
         {
          "args": [
           "-412991121623487552",
           "-3674549522204652614"
          ],
          "function": "Vec.create"
         }
        ],
        "-4008732223335916296": [
         "62",
         {
          "args": [
           "-596400925340798273",
           "-8396387257036249845",
           "1777130391504557508",
           "-8856328466760116523"
          ],
          "function": "Builder.icmp_signed"
         }
        ],
        "-4017554304514688279": [
         "78",
         {
          "args": [
           "3759620696171104765",
           "-8359243092693022678"
          ],
          "function": "Function.create"
         }
        ],
        "-4106886528679346298": [
         "41",
         {
          "args": [
           "6114221760397073753",
           "-6576287900415085008"
          ],
          "function": "Block.create"
         }
        ],
        "-4112775634287786241": [
         "70",
         {
          "args": [
           "5510395094771320645",
           "-3051748648046534046"
          ],
          "function": "Block.create"
         }
        ],
        "-412991121623487552": [
         "27",
         {
          "args": [
           "-2395391573167221195",
           "-2095482627292842882"
          ],
          "function": "Function.create"
         }
        ],
        "-4131545113021979223": [
         "73",
         {
          "args": [
           "3067172257505927369",
           "7061738406827549405"
          ],
          "function": "Block.create"
         }
        ],
        "-4132082481132252299": [
         "60",
         {
          "args": [
           "8427324662095135445"
          ],
          "function": "Builder.create"
         }
        ],
        "-4150339690534088628": [
         "19",
         {
          "args": [
           "5233455371199779204",
           "-8337574951585598416"
          ],
          "function": "Value.constant"
         }
        ],
        "-4167787580513105337": [
         "70",
         {
          "args": [
           "-7160615201430447006",
           "5213878751781456495"
          ],
          "function": "Block.create"
         }
        ],
        "-4179302925957849158": [
         "27",
         {
          "args": [
           "-6063637073547534806",
           "2841766696030494811"
          ],
          "function": "Function.create"
         }
        ],
        "-419449526076146358": [
         "55",
         {
          "args": [
           "-6863444453876690749",
           "8512632523259241963",
           "-568762464848698047"
          ],
          "function": "Builder.call"
         }
        ],
        "-4219552748053134047": [
         "6",
         {
          "args": [
           "-424107799521709043",
           "3142071570680376810",
           "-7456460749910392891",
           "-2218667964914708590"
          ],
          "function": "FunctionReference.create"
         }
        ],
        "-424107799521709043": [
         "1",
         {
          "args": [
           "-7456460749910392891"
          ],
          "function": "ModuleReference.create"
         }
        ],
        "-4247040748372597650": [
         "66",
         {
          "args": [
           "7982613573155093435",
           "8512632523259241963"
          ],
          "function": "BlockReference.create"
         }
        ],
        "-4310142087015556902": [
         "74",
         {
          "args": [
           "7952558790143574424"
          ],
          "function": "Builder.create"
         }
        ],
        "-4503328218805277900": [
         "19",
         {
          "args": [
           "-6324535906945043517"
          ],
          "function": "Value.box"
         }
        ],
        "-4508256874444039044": [
         "78",
         {
          "args": [
           "-7679423923534741682",
           "-3726079116759330176"
          ],
          "function": "Function.create"
         }
        ],
        "-4671708717693831649": [
         "78",
         {
          "args": [
           "-3328745194228861557",
           "-1416885322640837307"
          ],
          "function": "Function.create"
         }
        ],
        "-4702483690705946645": [
         "38",
         {
          "repr": "'not_pred_cont'",
          "type": "str"
         }
        ],
        "-4722925547153820720": [
         "78",
         {
          "args": [
           "2344994167609848606",
           "-932780066998274913"
          ],
          "function": "Function.create"
         }
        ],
        "-4744366957252542044": [
         "33",
         {
          "args": [
           "482598574284772462",
           "-701153403785351207",
           "-7876416751872209578",
           "-4503328218805277900"
          ],
          "function": "Builder.icmp_signed"
         }
        ],
        "-4777676679956504129": [
         "74",
         {
          "args": [
           "5585756518760963816"
          ],
          "function": "Builder.create"
         }
        ],
        "-4783433649907111178": [
         "55",
         {
          "args": [
           "-7391557083076970398",
           "3759620696171104765",
           "-2543388997185115692"
          ],
          "function": "Builder.call"
         }
        ],
        "-479302879258673938": [
         "24",
         {
          "args": [
           "-8718584178182408369",
           "194209324971518018"
          ],
          "function": "Builder.ret"
         }
        ],
        "-4825711350982143468": [
         "25",
         {
          "args": [
           "6173115947400151947",
           "4136299811107545153"
          ],
          "function": "Block.create"
         }
        ],
        "-4863185777569571905": [
         "42",
         {
          "args": [
           "-7554146791929914131"
          ],
          "function": "Builder.create"
         }
        ],
        "-4898111914275480036": [
         "46",
         {
          "args": [
           "4935116669440392551",
           "6857461487267714753"
          ],
          "function": "Vec.__getitem__",
          "type_params": {
           "T": {
            "type": "Value"
           }
          }
         }
        ],
        "-4935380922796875345": [
         "8",
         {
          "args": [
           "5491443378380398499",
           "2431316751667786439"
          ],
          "function": "BlockReference.create"
         }
        ],
        "-4944646201332463237": [
         "49",
         {
          "args": [
           "1444169661203615974",
           "-8087392358875293566"
          ],
          "function": "Vec.__getitem__",
          "type_params": {
           "T": {
            "type": "Value"
           }
          }
         }
        ],
        "-4976348336067783413": [
         "63",
         {
          "args": [
           "-6968005056132880386"
          ],
          "function": "BuilderValue.builder"
         }
        ],
        "-4994534463712488802": [
         "39",
         {
          "args": [
           "-4702483690705946645",
           "2344994167609848606"
          ],
          "function": "BlockReference.create"
         }
        ],
        "-5062813429048412432": [
         "43",
         {
          "args": [
           "5920422676185840569",
           "-6238072752457677696",
           "-4503328218805277900"
          ],
          "function": "Builder.sub"
         }
        ],
        "-507717626669752221": [
         "13",
         {
          "args": [
           "8032618064138719415"
          ],
          "function": "FunctionReference.arguments"
         }
        ],
        "-5095542717292746214": [
         "79",
         {
          "args": [
           "-4179302925957849158",
           "-2369456404739411198"
          ],
          "function": "Vec.create"
         }
        ],
        "-5215619941607487754": [
         "80",
         {
          "args": [
           "-424107799521709043",
           "-7076779637891379022"
          ],
          "function": "Module.create"
         }
        ],
        "-5242203083156180405": [
         "55",
         {
          "args": [
           "8894074476837414132",
           "-7679423923534741682",
           "-8044147245525153834"
          ],
          "function": "Builder.call"
         }
        ],
        "-5273667091276364854": [
         "74",
         {
          "args": [
           "2803933860151887757"
          ],
          "function": "Builder.box"
         }
        ],
        "-529904640991214220": [
         "8",
         {
          "args": [
           "2804370678779027282"
          ],
          "function": "BlockReference.box"
         }
        ],
        "-5315029002418119462": [
         "21",
         {
          "args": [
           "6972767924978272572",
           "2344994167609848606",
           "-1467050966907058980"
          ],
          "function": "Builder.call"
         }
        ],
        "-5377486557617345714": [
         "56",
         {
          "args": [
           "-419449526076146358"
          ],
          "function": "BuilderValue.builder"
         }
        ],
        "-5471239278540920529": [
         "9",
         {
          "args": [
           "6929129727757244407"
          ],
          "function": "Builder.create"
         }
        ],
        "-5474617982306189966": [
         "63",
         {
          "args": [
           "3090516498281701349"
          ],
          "function": "BuilderValue.builder"
         }
        ],
        "-5498324352665298693": [
         "76",
         {
          "args": [
           "2388331674288667845",
           "680662044271480938"
          ],
          "function": "Block.create"
         }
        ],
        "-55014802575822622": [
         "98",
         {
          "args": [
           "2804214105346466182"
          ],
          "function": "Value.box"
         }
        ],
        "-5530554682417340024": [
         "78",
         {
          "args": [
           "3759620696171104765",
           "-364581811248731568"
          ],
          "function": "Function.create"
         }
        ],
        "-5548743937225419998": [
         "54",
         {
          "args": [
           "5375546503057827489",
           "-8403067893579569411",
           "-7857652469034892502"
          ],
          "function": "Vec.create"
         }
        ],
        "-5585359832309745080": [
         "24",
         {
          "args": [
           "8521547166993777819",
           "938711611628950982"
          ],
          "function": "Builder.ret"
         }
        ],
        "-568762464848698047": [
         "54",
         {
          "args": [
           "4702744572623611653",
           "-7337830060135677464",
           "-9117516929355610434"
          ],
          "function": "Vec.create"
         }
        ],
        "-5724515568091167032": [
         "77",
         {
          "args": [
           "-3390122502313641587",
           "8761783437877738752",
           "-4112775634287786241",
           "1048736105780735602",
           "4447711776544568136"
          ],
          "function": "Vec.create"
         }
        ],
        "-5748215606991777127": [
         "9",
         {
          "args": [
           "-529904640991214220"
          ],
          "function": "Builder.create"
         }
        ],
        "-5756461620588186266": [
         "44",
         {
          "args": [
           "8473691846968764111"
          ],
          "function": "BuilderValue.builder"
         }
        ],
        "-5782602253453086969": [
         "79",
         {
          "args": [
           "-848200174017718784",
           "-3674549522204652614"
          ],
          "function": "Vec.create"
         }
        ],
        "-5789710701966556248": [
         "44",
         {
          "args": [
           "-3652726720868823675"
          ],
          "function": "BuilderValue.builder"
         }
        ],
        "-5838832992368376215": [
         "13",
         {
          "args": [
           "-6063637073547534806"
          ],
          "function": "FunctionReference.arguments"
         }
        ],
        "-5860874644379720012": [
         "72",
         {
          "args": [
           "7981566498712513916",
           "-7337830060135677464"
          ],
          "function": "Builder.ret"
         }
        ],
        "-5863251465363744076": [
         "1",
         {
          "args": [
           "2803584503774889982"
          ],
          "function": "ModuleReference.box"
         }
        ],
        "-5885134666265700773": [
         "41",
         {
          "args": [
           "2261874927112314025",
           "3495282373535702274"
          ],
          "function": "Block.create"
         }
        ],
        "-5911494759980896135": [
         "16",
         {
          "args": [
           "-5838832992368376215",
           "5826203169465493872"
          ],
          "function": "Vec.__getitem__",
          "type_params": {
           "T": {
            "type": "Value"
           }
          }
         }
        ],
        "-5917719594550932689": [
         "53",
         {
          "args": [
           "1986781869558750710"
          ],
          "function": "BuilderValue.value"
         }
        ],
        "-596400925340798273": [
         "60",
         {
          "args": [
           "4355410186209028073"
          ],
          "function": "Builder.create"
         }
        ],
        "-5970486806866026200": [
         "64",
         {
          "args": [
           "-3086121045734832810"
          ],
          "function": "BuilderValue.value"
         }
        ],
        "-5982825566004672385": [
         "64",
         {
          "args": [
           "3090516498281701349"
          ],
          "function": "BuilderValue.value"
         }
        ],
        "-602142444321603663": [
         "43",
         {
          "args": [
           "-1056674393888611545",
           "-7586895345972319938",
           "-4503328218805277900"
          ],
          "function": "Builder.sub"
         }
        ],
        "-6055079442112241062": [
         "41",
         {
          "args": [
           "1398927603848971634",
           "8505578814924988538"
          ],
          "function": "Block.create"
         }
        ],
        "-6059103855502177372": [
         "79",
         {
          "args": [
           "-4179302925957849158",
           "7835598718653011640"
          ],
          "function": "Vec.create"
         }
        ],
        "-6063637073547534806": [
         "6",
         {
          "args": [
           "-5863251465363744076",
           "-7263973834178992120",
           "-7456460749910392891",
           "-2218667964914708590"
          ],
          "function": "FunctionReference.create"
         }
        ],
        "-6098961763406362062": [
         "79",
         {
          "args": [
           "-4179302925957849158",
           "-3674549522204652614"
          ],
          "function": "Vec.create"
         }
        ],
        "-6129254869957554482": [
         "9",
         {
          "args": [
           "4810350872164342885"
          ],
          "function": "Builder.create"
         }
        ],
        "-6192437390180860986": [
         "41",
         {
          "args": [
           "661203734521396238",
           "-231334137988692827"
          ],
          "function": "Block.create"
         }
        ],
        "-6238072752457677696": [
         "32",
         {
          "args": [
           "844662011244408746",
           "5826203169465493872"
          ],
          "function": "Vec.__getitem__",
          "type_params": {
           "T": {
            "type": "Value"
           }
          }
         }
        ],
        "-6251888540470381961": [
         "79",
         {
          "args": [
           "-4179302925957849158",
           "-125017120603586814"
          ],
          "function": "Vec.create"
         }
        ],
        "-6253813085112650942": [
         "33",
         {
          "args": [
           "-2267363054949791952",
           "-701153403785351207",
           "-847306742672392617",
           "-4503328218805277900"
          ],
          "function": "Builder.icmp_signed"
         }
        ],
        "-6262304163453874840": [
         "43",
         {
          "args": [
           "3734538618831694019",
           "-7586895345972319938",
           "-4503328218805277900"
          ],
          "function": "Builder.sub"
         }
        ],
        "-6294729363372135577": [
         "52",
         {
          "args": [
           "-5062813429048412432"
          ],
          "function": "BuilderValue.value"
         }
        ],
        "-6311861459778674851": [
         "73",
         {
          "args": [
           "-8341448156534734626",
           "-3253223422185309780"
          ],
          "function": "Block.create"
         }
        ],
        "-6323563812379284924": [
         "73",
         {
          "args": [
           "-4247040748372597650",
           "-5860874644379720012"
          ],
          "function": "Block.create"
         }
        ],
        "-6324535906945043517": [
         "83",
         {
          "repr": "<ir.Constant type='i32' value=1>",
          "type": "Constant"
         }
        ],
        "-6418872629830796001": [
         "88",
         {
          "repr": "<ir.Function 'fib_more' of type 'i32 (i32)*'>",
          "type": "Function"
         }
        ],
        "-6419001358190496176": [
         "95",
         {
          "repr": "<ir.Block 'pred_cont' of type 'label'>",
          "type": "Block"
         }
        ],
        "-6419438176751601676": [
         "94",
         {
          "repr": "<llvmlite.ir.builder.IRBuilder object at 0x113b06c18>",
          "type": "IRBuilder"
         }
        ],
        "-6419439823930301876": [
         "100",
         {
          "repr": "<llvmlite.ir.builder.IRBuilder object at 0x112c5e898>",
          "type": "IRBuilder"
         }
        ],
        "-6424089876916657313": [
         "22",
         {
          "args": [
           "258754566416217895"
          ],
          "function": "BuilderValue.builder"
         }
        ],
        "-6444852415974762604": [
         "57",
         {
          "args": [
           "5515561171522084111"
          ],
          "function": "BuilderValue.value"
         }
        ],
        "-6487485548431241434": [
         "60",
         {
          "args": [
           "-7160615201430447006"
          ],
          "function": "Builder.create"
         }
        ],
        "-6525804739908506929": [
         "77",
         {
          "args": [
           "7052076051960097431",
           "8710788760881750675",
           "-7554995070431152578",
           "-3439834427357429885",
           "4955211339569692948"
          ],
          "function": "Vec.create"
         }
        ],
        "-6576287900415085008": [
         "40",
         {
          "args": [
           "-9030331101364011989",
           "-9193267899101977258",
           "-3605138750810768077",
           "-8131894153201210641"
          ],
          "function": "Builder.cbranch"
         }
        ],
        "-6586217225544034688": [
         "56",
         {
          "args": [
           "-3253189307007704115"
          ],
          "function": "BuilderValue.builder"
         }
        ],
        "-6693188406725635063": [
         "69",
         {
          "args": [
           "-3431751032098019202",
           "-76866558393513085",
           "2874276183975587589",
           "8314918235855671303"
          ],
          "function": "Builder.cbranch"
         }
        ],
        "-6700849824927615207": [
         "69",
         {
          "args": [
           "-5474617982306189966",
           "-5982825566004672385",
           "-2625391128411534220",
           "2388331674288667845"
          ],
          "function": "Builder.cbranch"
         }
        ],
        "-6706323432204403429": [
         "28",
         {
          "args": [
           "2804370749828390607"
          ],
          "function": "BlockReference.box"
         }
        ],
        "-6726504665251486447": [
         "77",
         {
          "args": [
           "-4106886528679346298",
           "8761783437877738752",
           "-8530261309489434942",
           "1492868732092870071",
           "4447711776544568136"
          ],
          "function": "Vec.create"
         }
        ],
        "-6731312685234086130": [
         "31",
         {
          "args": [
           "-55014802575822622"
          ],
          "function": "Vec.create"
         }
        ],
        "-6778540200318865156": [
         "58",
         {
          "args": [
           "-5377486557617345714",
           "3385139425123564947"
          ],
          "function": "Builder.ret"
         }
        ],
        "-6797889928899335485": [
         "51",
         {
          "args": [
           "-7157080877683843290"
          ],
          "function": "BuilderValue.builder"
         }
        ],
        "-6850447384964053266": [
         "21",
         {
          "args": [
           "6972767924978272572",
           "-7679423923534741682",
           "-1467050966907058980"
          ],
          "function": "Builder.call"
         }
        ],
        "-6863444453876690749": [
         "51",
         {
          "args": [
           "4577299818178635042"
          ],
          "function": "BuilderValue.builder"
         }
        ],
        "-6922377837594660437": [
         "63",
         {
          "args": [
           "5672870029800128537"
          ],
          "function": "BuilderValue.builder"
         }
        ],
        "-6923321578818873578": [
         "43",
         {
          "args": [
           "687483548023003878",
           "1777130391504557508",
           "-8856328466760116523"
          ],
          "function": "Builder.sub"
         }
        ],
        "-6968005056132880386": [
         "62",
         {
          "args": [
           "-8410728744120138066",
           "-8396387257036249845",
           "-7586895345972319938",
           "-4503328218805277900"
          ],
          "function": "Builder.icmp_signed"
         }
        ],
        "-7009683340801556842": [
         "42",
         {
          "args": [
           "-3562800440534033040"
          ],
          "function": "Builder.create"
         }
        ],
        "-701153403785351207": [
         "30",
         {
          "repr": "'>'",
          "type": "str"
         }
        ],
        "-7017324342846348064": [
         "25",
         {
          "args": [
           "-4935380922796875345",
           "-479302879258673938"
          ],
          "function": "Block.create"
         }
        ],
        "-7075829354982415034": [
         "74",
         {
          "args": [
           "8696794316442635900"
          ],
          "function": "Builder.create"
         }
        ],
        "-7076779637891379022": [
         "79",
         {
          "args": [
           "5421194833797665745",
           "-4508256874444039044"
          ],
          "function": "Vec.create"
         }
        ],
        "-7095587961673390914": [
         "80",
         {
          "args": [
           "-424107799521709043",
           "6671797860368594709"
          ],
          "function": "Module.create"
         }
        ],
        "-7099899488529370029": [
         "44",
         {
          "args": [
           "-6923321578818873578"
          ],
          "function": "BuilderValue.builder"
         }
        ],
        "-7115910640026430657": [
         "50",
         {
          "args": [
           "-1826154931236931318",
           "5897677314082350795",
           "1267546901672136319"
          ],
          "function": "Builder.add"
         }
        ],
        "-7157080877683843290": [
         "50",
         {
          "args": [
           "-7099899488529370029",
           "-3374365196812501825",
           "759342214034141451"
          ],
          "function": "Builder.add"
         }
        ],
        "-7160615201430447006": [
         "39",
         {
          "args": [
           "-4702483690705946645",
           "-7679423923534741682"
          ],
          "function": "BlockReference.create"
         }
        ],
        "-7172884558677192133": [
         "68",
         {
          "args": [
           "3301913151602160367",
           "-7679423923534741682"
          ],
          "function": "BlockReference.create"
         }
        ],
        "-7175461954552918632": [
         "4",
         {
          "args": [
           "5233455371199779204",
           "5233455371199779204"
          ],
          "function": "FunctionType.create"
         }
        ],
        "-7229041398625728709": [
         "50",
         {
          "args": [
           "-8495815553814392258",
           "3024992103626032079",
           "-4944646201332463237"
          ],
          "function": "Builder.add"
         }
        ],
        "-7263973834178992120": [
         "4",
         {
          "args": [
           "-2530181125066790651"
          ],
          "function": "FunctionType.box"
         }
        ],
        "-729765891069256672": [
         "77",
         {
          "args": [
           "-4106886528679346298",
           "8761783437877738752",
           "2522044848292781889",
           "1492868732092870071",
           "4447711776544568136"
          ],
          "function": "Vec.create"
         }
        ],
        "-7334851919981011991": [
         "35",
         {
          "args": [
           "-7952210461455330389"
          ],
          "function": "BuilderValue.value"
         }
        ],
        "-7337830060135677464": [
         "49",
         {
          "args": [
           "4935116669440392551",
           "-8087392358875293566"
          ],
          "function": "Vec.__getitem__",
          "type_params": {
           "T": {
            "type": "Value"
           }
          }
         }
        ],
        "-7350161095783547729": [
         "57",
         {
          "args": [
           "-310495772643795850"
          ],
          "function": "BuilderValue.value"
         }
        ],
        "-735549075478802440": [
         "34",
         {
          "args": [
           "4951474847665383474"
          ],
          "function": "BuilderValue.builder"
         }
        ],
        "-7391557083076970398": [
         "51",
         {
          "args": [
           "1986781869558750710"
          ],
          "function": "BuilderValue.builder"
         }
        ],
        "-7400609520126342689": [
         "74",
         {
          "args": [
           "8314918235855671303"
          ],
          "function": "Builder.create"
         }
        ],
        "-7456460749910392891": [
         "81",
         {
          "repr": "'fib'",
          "type": "str"
         }
        ],
        "-7469907385352286727": [
         "23",
         {
          "args": [
           "-5315029002418119462"
          ],
          "function": "BuilderValue.value"
         }
        ],
        "-7484645615355636722": [
         "52",
         {
          "args": [
           "-6923321578818873578"
          ],
          "function": "BuilderValue.value"
         }
        ],
        "-7489029677424563098": [
         "69",
         {
          "args": [
           "5807255699843374650",
           "8005378988303750871",
           "-2625391128411534220",
           "2388331674288667845"
          ],
          "function": "Builder.cbranch"
         }
        ],
        "-755145061738683903": [
         "50",
         {
          "args": [
           "-290523986231092327",
           "-3104122277052500111",
           "-1208403252813101579"
          ],
          "function": "Builder.add"
         }
        ],
        "-7554146791929914131": [
         "37",
         {
          "args": [
           "-6419001358190496176"
          ],
          "function": "BlockReference.box"
         }
        ],
        "-7554995070431152578": [
         "70",
         {
          "args": [
           "-8131894153201210641",
           "-7489029677424563098"
          ],
          "function": "Block.create"
         }
        ],
        "-7581794057330427884": [
         "59",
         {
          "args": [
           "-3562800440534033040",
           "-3549913507110276519"
          ],
          "function": "Block.create"
         }
        ],
        "-7586895345972319938": [
         "32",
         {
          "args": [
           "-8562605227399397865",
           "5826203169465493872"
          ],
          "function": "Vec.__getitem__",
          "type_params": {
           "T": {
            "type": "Value"
           }
          }
         }
        ],
        "-7612556399054225453": [
         "56",
         {
          "args": [
           "-9075085435520422762"
          ],
          "function": "BuilderValue.builder"
         }
        ],
        "-7679423923534741682": [
         "12",
         {
          "args": [
           "-424107799521709043",
           "-8679443292513392552",
           "5799176543409540157",
           "-2218667964914708590"
          ],
          "function": "FunctionReference.create"
         }
        ],
        "-76866558393513085": [
         "64",
         {
          "args": [
           "5221623450350414360"
          ],
          "function": "BuilderValue.value"
         }
        ],
        "-768781226318240937": [
         "43",
         {
          "args": [
           "-4863185777569571905",
           "-7586895345972319938",
           "-4503328218805277900"
          ],
          "function": "Builder.sub"
         }
        ],
        "-769574915170258636": [
         "103",
         {
          "args": [
           "2804214127241616832"
          ],
          "function": "Value.box"
         }
        ],
        "-7705949425333690769": [
         "80",
         {
          "args": [
           "-5863251465363744076",
           "-5782602253453086969"
          ],
          "function": "Module.create"
         }
        ],
        "-7730370385404202015": [
         "80",
         {
          "args": [
           "-5863251465363744076",
           "264490996101318363"
          ],
          "function": "Module.create"
         }
        ],
        "-7789607736657979854": [
         "36",
         {
          "repr": "'pred_cont'",
          "type": "str"
         }
        ],
        "-7857652469034892502": [
         "53",
         {
          "args": [
           "8978435646966115996"
          ],
          "function": "BuilderValue.value"
         }
        ],
        "-7876416751872209578": [
         "32",
         {
          "args": [
           "-6731312685234086130",
           "5826203169465493872"
          ],
          "function": "Vec.__getitem__",
          "type_params": {
           "T": {
            "type": "Value"
           }
          }
         }
        ],
        "-7941681192083442457": [
         "29",
         {
          "args": [
           "1398927603848971634"
          ],
          "function": "Builder.create"
         }
        ],
        "-7952210461455330389": [
         "33",
         {
          "args": [
           "-7941681192083442457",
           "-701153403785351207",
           "-6238072752457677696",
           "-4503328218805277900"
          ],
          "function": "Builder.icmp_signed"
         }
        ],
        "-7996580160657902263": [
         "13",
         {
          "args": [
           "2431316751667786439"
          ],
          "function": "FunctionReference.arguments"
         }
        ],
        "-8044147245525153834": [
         "54",
         {
          "args": [
           "7736287741064852803",
           "-4944646201332463237",
           "6553470888887100697"
          ],
          "function": "Vec.create"
         }
        ],
        "-8051734592594793588": [
         "57",
         {
          "args": [
           "-5242203083156180405"
          ],
          "function": "BuilderValue.value"
         }
        ],
        "-806462833338946072": [
         "26",
         {
          "args": [
           "59830864974982380"
          ],
          "function": "Vec.create"
         }
        ],
        "-8087392358875293566": [
         "48",
         {
          "args": [
           "-8337574951584515891"
          ],
          "function": "Integer.from_int"
         }
        ],
        "-8131894153201210641": [
         "39",
         {
          "args": [
           "2804371779114811107"
          ],
          "function": "BlockReference.box"
         }
        ],
        "-8149401732046354836": [
         "84",
         {
          "repr": "<ir.Constant type='i32' value=0>",
          "type": "Constant"
         }
        ],
        "-818397503285180464": [
         "26",
         {
          "args": [
           "1601013697105103284"
          ],
          "function": "Vec.create"
         }
        ],
        "-8189219455210413256": [
         "40",
         {
          "args": [
           "-9030331101364011989",
           "-9193267899101977258",
           "-7554146791929914131",
           "-8131894153201210641"
          ],
          "function": "Builder.cbranch"
         }
        ],
        "-8223152598411962134": [
         "24",
         {
          "args": [
           "4272034098625050343",
           "-1358724669205357174"
          ],
          "function": "Builder.ret"
         }
        ],
        "-8240364844148729919": [
         "58",
         {
          "args": [
           "5356025987784822361",
           "5476158753794061620"
          ],
          "function": "Builder.ret"
         }
        ],
        "-8300809386824080515": [
         "72",
         {
          "args": [
           "1154413953518116210",
           "-1208403252813101579"
          ],
          "function": "Builder.ret"
         }
        ],
        "-8302986010807579420": [
         "22",
         {
          "args": [
           "-8800473459394627893"
          ],
          "function": "BuilderValue.builder"
         }
        ],
        "-8303026001577031702": [
         "75",
         {
          "args": [
           "-5273667091276364854",
           "3890202027915081257"
          ],
          "function": "Builder.ret"
         }
        ],
        "-8311588819165357967": [
         "79",
         {
          "args": [
           "8726172104102720298",
           "8467814789774953813"
          ],
          "function": "Vec.create"
         }
        ],
        "-8337574951584515891": [
         "47",
         {
          "repr": "2",
          "type": "int"
         }
        ],
        "-8337574951585598416": [
         "18",
         {
          "repr": "1",
          "type": "int"
         }
        ],
        "-8337574951586680941": [
         "14",
         {
          "repr": "0",
          "type": "int"
         }
        ],
        "-8337574951621321741": [
         "2",
         {
          "repr": "32",
          "type": "int"
         }
        ],
        "-8341448156534734626": [
         "66",
         {
          "args": [
           "7982613573155093435",
           "3759620696171104765"
          ],
          "function": "BlockReference.create"
         }
        ],
        "-8348912664040529440": [
         "58",
         {
          "args": [
           "8703471137579163448",
           "-25094066531026219"
          ],
          "function": "Builder.ret"
         }
        ],
        "-8359243092693022678": [
         "77",
         {
          "args": [
           "-2069480539582482497",
           "8710788760881750675",
           "-7554995070431152578",
           "-3439834427357429885",
           "4955211339569692948"
          ],
          "function": "Vec.create"
         }
        ],
        "-8396387257036249845": [
         "61",
         {
          "repr": "'=='",
          "type": "str"
         }
        ],
        "-8403067893579569411": [
         "49",
         {
          "args": [
           "-6731312685234086130",
           "-8087392358875293566"
          ],
          "function": "Vec.__getitem__",
          "type_params": {
           "T": {
            "type": "Value"
           }
          }
         }
        ],
        "-8410728744120138066": [
         "60",
         {
          "args": [
           "5510395094771320645"
          ],
          "function": "Builder.create"
         }
        ],
        "-8413008362799053611": [
         "21",
         {
          "args": [
           "557929673498030977",
           "3759620696171104765",
           "5445550517065305674"
          ],
          "function": "Builder.call"
         }
        ],
        "-8437293734178115648": [
         "29",
         {
          "args": [
           "-6706323432204403429"
          ],
          "function": "Builder.create"
         }
        ],
        "-8461510553195014289": [
         "44",
         {
          "args": [
           "-768781226318240937"
          ],
          "function": "BuilderValue.builder"
         }
        ],
        "-8469626120638515063": [
         "58",
         {
          "args": [
           "-7612556399054225453",
           "4500923072219795086"
          ],
          "function": "Builder.ret"
         }
        ],
        "-847306742672392617": [
         "32",
         {
          "args": [
           "4935116669440392551",
           "5826203169465493872"
          ],
          "function": "Vec.__getitem__",
          "type_params": {
           "T": {
            "type": "Value"
           }
          }
         }
        ],
        "-848200174017718784": [
         "27",
         {
          "args": [
           "-2395391573167221195",
           "7792453568886775227"
          ],
          "function": "Function.create"
         }
        ],
        "-8482792641481900768": [
         "22",
         {
          "args": [
           "-6850447384964053266"
          ],
          "function": "BuilderValue.builder"
         }
        ],
        "-8482940097545706181": [
         "35",
         {
          "args": [
           "7697355099088424847"
          ],
          "function": "BuilderValue.value"
         }
        ],
        "-8495815553814392258": [
         "44",
         {
          "args": [
           "8525718873198211415"
          ],
          "function": "BuilderValue.builder"
         }
        ],
        "-8507536624015677439": [
         "60",
         {
          "args": [
           "-4994534463712488802"
          ],
          "function": "Builder.create"
         }
        ],
        "-8516188366979267844": [
         "17",
         {
          "args": [
           "-8149401732046354836"
          ],
          "function": "Value.box"
         }
        ],
        "-8530261309489434942": [
         "70",
         {
          "args": [
           "-8131894153201210641",
           "-6700849824927615207"
          ],
          "function": "Block.create"
         }
        ],
        "-855326892762407006": [
         "52",
         {
          "args": [
           "-768781226318240937"
          ],
          "function": "BuilderValue.value"
         }
        ],
        "-8562605227399397865": [
         "31",
         {
          "args": [
           "3759620696171104765"
          ],
          "function": "FunctionReference.arguments"
         }
        ],
        "-8584054523089188037": [
         "80",
         {
          "args": [
           "-5863251465363744076",
           "-1142017280430779831"
          ],
          "function": "Module.create"
         }
        ],
        "-8611735913972937819": [
         "69",
         {
          "args": [
           "-6922377837594660437",
           "368365476529219030",
           "3067172257505927369",
           "-7172884558677192133"
          ],
          "function": "Builder.cbranch"
         }
        ],
        "-8643329473364322688": [
         "77",
         {
          "args": [
           "-3390122502313641587",
           "8761783437877738752",
           "-3164713105171405776",
           "-6311861459778674851",
           "4447711776544568136"
          ],
          "function": "Vec.create"
         }
        ],
        "-8661984271761979774": [
         "70",
         {
          "args": [
           "5510395094771320645",
           "-3466405919038755049"
          ],
          "function": "Block.create"
         }
        ],
        "-8671625572871020609": [
         "79",
         {
          "args": [
           "8177634355584318437",
           "-2785097989873822438"
          ],
          "function": "Vec.create"
         }
        ],
        "-8679443292513392552": [
         "10",
         {
          "args": [
           "5233455371199779204",
           "5233455371199779204",
           "5233455371199779204",
           "5233455371199779204"
          ],
          "function": "FunctionType.create"
         }
        ],
        "-8685446463395474189": [
         "62",
         {
          "args": [
           "-4132082481132252299",
           "-8396387257036249845",
           "-847306742672392617",
           "-4503328218805277900"
          ],
          "function": "Builder.icmp_signed"
         }
        ],
        "-8718584178182408369": [
         "22",
         {
          "args": [
           "-2785929411031441352"
          ],
          "function": "BuilderValue.builder"
         }
        ],
        "-8725932881043408772": [
         "71",
         {
          "args": [
           "2803933845613577007"
          ],
          "function": "Builder.box"
         }
        ],
        "-8737318874557332007": [
         "76",
         {
          "args": [
           "8696794316442635900",
           "5653333908765343281"
          ],
          "function": "Block.create"
         }
        ],
        "-8800473459394627893": [
         "21",
         {
          "args": [
           "-6129254869957554482",
           "2344994167609848606",
           "-3592857499420023531"
          ],
          "function": "Builder.call"
         }
        ],
        "-8835457575462402662": [
         "71",
         {
          "args": [
           "-8341448156534734626"
          ],
          "function": "Builder.create"
         }
        ],
        "-8856328466760116523": [
         "19",
         {
          "args": [
           "7243093546942543456",
           "-8337574951585598416"
          ],
          "function": "Value.constant"
         }
        ],
        "-8867398582960619837": [
         "24",
         {
          "args": [
           "5168739254636034373",
           "1916447046459354088"
          ],
          "function": "Builder.ret"
         }
        ],
        "-8886852662216778558": [
         "20",
         {
          "args": [
           "6964300574660315790",
           "3043924766307621338",
           "-8856328466760116523"
          ],
          "function": "Vec.create"
         }
        ],
        "-8916153652757021617": [
         "8",
         {
          "args": [
           "5491443378380398499",
           "-6063637073547534806"
          ],
          "function": "BlockReference.create"
         }
        ],
        "-897853730359320428": [
         "16",
         {
          "args": [
           "-7996580160657902263",
           "5826203169465493872"
          ],
          "function": "Vec.__getitem__",
          "type_params": {
           "T": {
            "type": "Value"
           }
          }
         }
        ],
        "-9030331101364011989": [
         "34",
         {
          "args": [
           "2481630019746106522"
          ],
          "function": "BuilderValue.builder"
         }
        ],
        "-9037245658313396415": [
         "80",
         {
          "args": [
           "-5863251465363744076",
           "-366621983095472709"
          ],
          "function": "Module.create"
         }
        ],
        "-9038498139143669683": [
         "26",
         {
          "args": [
           "6460904105747331827"
          ],
          "function": "Vec.create"
         }
        ],
        "-9039673149580098046": [
         "42",
         {
          "args": [
           "-1365518982054740957"
          ],
          "function": "Builder.create"
         }
        ],
        "-9072713140817617498": [
         "60",
         {
          "args": [
           "-6419438176751601676"
          ],
          "function": "Builder.box"
         }
        ],
        "-9075085435520422762": [
         "55",
         {
          "args": [
           "4115568888786875216",
           "2344994167609848606",
           "8144870077040741239"
          ],
          "function": "Builder.call"
         }
        ],
        "-9117516929355610434": [
         "53",
         {
          "args": [
           "4577299818178635042"
          ],
          "function": "BuilderValue.value"
         }
        ],
        "-9133796648958598251": [
         "35",
         {
          "args": [
           "4951474847665383474"
          ],
          "function": "BuilderValue.value"
         }
        ],
        "-9193267899101977258": [
         "35",
         {
          "args": [
           "2481630019746106522"
          ],
          "function": "BuilderValue.value"
         }
        ],
        "-9202019658654030790": [
         "40",
         {
          "args": [
           "3798014044230402951",
           "-2895874695995555606",
           "-7554146791929914131",
           "-8131894153201210641"
          ],
          "function": "Builder.cbranch"
         }
        ],
        "-932780066998274913": [
         "77",
         {
          "args": [
           "-6055079442112241062",
           "-366570978888575715",
           "1468403500668398786",
           "-3534201144602506561",
           "7536951269337439993"
          ],
          "function": "Vec.create"
         }
        ],
        "-949265483450507516": [
         "79",
         {
          "args": [
           "7291207666594522604",
           "-4671708717693831649"
          ],
          "function": "Vec.create"
         }
        ],
        "1036889073031414623": [
         "80",
         {
          "args": [
           "-5863251465363744076",
           "-6251888540470381961"
          ],
          "function": "Module.create"
         }
        ],
        "1048736105780735602": [
         "73",
         {
          "args": [
           "-2625391128411534220",
           "-8300809386824080515"
          ],
          "function": "Block.create"
         }
        ],
        "105842644840019805": [
         "53",
         {
          "args": [
           "-7115910640026430657"
          ],
          "function": "BuilderValue.value"
         }
        ],
        "10852833477280706": [
         "50",
         {
          "args": [
           "-5756461620588186266",
           "3024992103626032079",
           "-4944646201332463237"
          ],
          "function": "Builder.add"
         }
        ],
        "112952750858850823": [
         "73",
         {
          "args": [
           "2838404286865551426",
           "5214815755029581171"
          ],
          "function": "Block.create"
         }
        ],
        "1150264203470045346": [
         "71",
         {
          "args": [
           "2838404286865551426"
          ],
          "function": "Builder.create"
         }
        ],
        "1154413953518116210": [
         "71",
         {
          "args": [
           "-2625391128411534220"
          ],
          "function": "Builder.create"
         }
        ],
        "11687601489821769": [
         "51",
         {
          "args": [
           "-755145061738683903"
          ],
          "function": "BuilderValue.builder"
         }
        ],
        "1228668498118105045": [
         "74",
         {
          "args": [
           "-7172884558677192133"
          ],
          "function": "Builder.create"
         }
        ],
        "1267546901672136319": [
         "49",
         {
          "args": [
           "844662011244408746",
           "-8087392358875293566"
          ],
          "function": "Vec.__getitem__",
          "type_params": {
           "T": {
            "type": "Value"
           }
          }
         }
        ],
        "1299708758371203839": [
         "52",
         {
          "args": [
           "-6262304163453874840"
          ],
          "function": "BuilderValue.value"
         }
        ],
        "1315720641587739000": [
         "79",
         {
          "args": [
           "848402829224272350",
           "-4722925547153820720"
          ],
          "function": "Vec.create"
         }
        ],
        "1383769678918467604": [
         "37",
         {
          "args": [
           "-7789607736657979854",
           "2344994167609848606"
          ],
          "function": "BlockReference.create"
         }
        ],
        "1398927603848971634": [
         "28",
         {
          "args": [
           "5491443378380398499",
           "2344994167609848606"
          ],
          "function": "BlockReference.create"
         }
        ],
        "1444169661203615974": [
         "31",
         {
          "args": [
           "-7679423923534741682"
          ],
          "function": "FunctionReference.arguments"
         }
        ],
        "1468403500668398786": [
         "70",
         {
          "args": [
           "-4994534463712488802",
           "-6693188406725635063"
          ],
          "function": "Block.create"
         }
        ],
        "1492868732092870071": [
         "73",
         {
          "args": [
           "-2625391128411534220",
           "-3694562681463917802"
          ],
          "function": "Block.create"
         }
        ],
        "1533403446866828516": [
         "27",
         {
          "args": [
           "-2395391573167221195",
           "-9038498139143669683"
          ],
          "function": "Function.create"
         }
        ],
        "1550141514360553574": [
         "21",
         {
          "args": [
           "-1500864240650347364",
           "3759620696171104765",
           "2694614345669677527"
          ],
          "function": "Builder.call"
         }
        ],
        "1588517885101401766": [
         "80",
         {
          "args": [
           "-5863251465363744076",
           "6557848020160712604"
          ],
          "function": "Module.create"
         }
        ],
        "1601013697105103284": [
         "25",
         {
          "args": [
           "-4935380922796875345",
           "4802841266173920192"
          ],
          "function": "Block.create"
         }
        ],
        "1661797641269599362": [
         "64",
         {
          "args": [
           "-4008732223335916296"
          ],
          "function": "BuilderValue.value"
         }
        ],
        "1670090168757237959": [
         "51",
         {
          "args": [
           "8978435646966115996"
          ],
          "function": "BuilderValue.builder"
         }
        ],
        "1684549986065682718": [
         "26",
         {
          "args": [
           "5639772979509905328"
          ],
          "function": "Vec.create"
         }
        ],
        "1712539479780876198": [
         "34",
         {
          "args": [
           "7697355099088424847"
          ],
          "function": "BuilderValue.builder"
         }
        ],
        "1777130391504557508": [
         "32",
         {
          "args": [
           "7060885281423012435",
           "5826203169465493872"
          ],
          "function": "Vec.__getitem__",
          "type_params": {
           "T": {
            "type": "Value"
           }
          }
         }
        ],
        "1826365808768074157": [
         "35",
         {
          "args": [
           "6822172096052116522"
          ],
          "function": "BuilderValue.value"
         }
        ],
        "1842017354665637449": [
         "16",
         {
          "args": [
           "5409715421272631445",
           "5826203169465493872"
          ],
          "function": "Vec.__getitem__",
          "type_params": {
           "T": {
            "type": "Value"
           }
          }
         }
        ],
        "1872542797196807292": [
         "80",
         {
          "args": [
           "-5863251465363744076",
           "-6098961763406362062"
          ],
          "function": "Module.create"
         }
        ],
        "1916447046459354088": [
         "23",
         {
          "args": [
           "6975307885243937682"
          ],
          "function": "BuilderValue.value"
         }
        ],
        "1931430528876302997": [
         "77",
         {
          "args": [
           "-1936799951352170231",
           "-2558694478612801262",
           "-4167787580513105337",
           "-4131545113021979223",
           "-3616905981544042366"
          ],
          "function": "Vec.create"
         }
        ],
        "194209324971518018": [
         "23",
         {
          "args": [
           "-2785929411031441352"
          ],
          "function": "BuilderValue.value"
         }
        ],
        "1986781869558750710": [
         "50",
         {
          "args": [
           "-8461510553195014289",
           "-3104122277052500111",
           "-1208403252813101579"
          ],
          "function": "Builder.add"
         }
        ],
        "2025109020594015294": [
         "62",
         {
          "args": [
           "-9072713140817617498",
           "-8396387257036249845",
           "-7876416751872209578",
           "-4503328218805277900"
          ],
          "function": "Builder.icmp_signed"
         }
        ],
        "2089973462548449794": [
         "40",
         {
          "args": [
           "3157252207984072726",
           "4134309916638395371",
           "-7554146791929914131",
           "-8131894153201210641"
          ],
          "function": "Builder.cbranch"
         }
        ],
        "2182260529532814793": [
         "69",
         {
          "args": [
           "-3913217087929648497",
           "1661797641269599362",
           "2838404286865551426",
           "8696794316442635900"
          ],
          "function": "Builder.cbranch"
         }
        ],
        "2261874927112314025": [
         "28",
         {
          "args": [
           "5491443378380398499",
           "8512632523259241963"
          ],
          "function": "BlockReference.create"
         }
        ],
        "2278561178655234176": [
         "43",
         {
          "args": [
           "3734538618831694019",
           "-7876416751872209578",
           "-4503328218805277900"
          ],
          "function": "Builder.sub"
         }
        ],
        "2310427264272266292": [
         "32",
         {
          "args": [
           "1444169661203615974",
           "5826203169465493872"
          ],
          "function": "Vec.__getitem__",
          "type_params": {
           "T": {
            "type": "Value"
           }
          }
         }
        ],
        "2344994167609848606": [
         "12",
         {
          "args": [
           "-424107799521709043",
           "-7263973834178992120",
           "5799176543409540157",
           "-2218667964914708590"
          ],
          "function": "FunctionReference.create"
         }
        ],
        "2388331674288667845": [
         "68",
         {
          "args": [
           "2804371836508121557"
          ],
          "function": "BlockReference.box"
         }
        ],
        "2431316751667786439": [
         "6",
         {
          "args": [
           "-424107799521709043",
           "-7175461954552918632",
           "-7456460749910392891",
           "-2218667964914708590"
          ],
          "function": "FunctionReference.create"
         }
        ],
        "2481630019746106522": [
         "33",
         {
          "args": [
           "4631873006171372826",
           "-701153403785351207",
           "-7586895345972319938",
           "-4503328218805277900"
          ],
          "function": "Builder.icmp_signed"
         }
        ],
        "2522044848292781889": [
         "70",
         {
          "args": [
           "-8131894153201210641",
           "8988524772628916751"
          ],
          "function": "Block.create"
         }
        ],
        "2538670396240248420": [
         "27",
         {
          "args": [
           "8032618064138719415",
           "-806462833338946072"
          ],
          "function": "Function.create"
         }
        ],
        "258754566416217895": [
         "21",
         {
          "args": [
           "6972767924978272572",
           "-7679423923534741682",
           "4969337337817351221"
          ],
          "function": "Builder.call"
         }
        ],
        "264490996101318363": [
         "79",
         {
          "args": [
           "8342575562084900041",
           "-3674549522204652614"
          ],
          "function": "Vec.create"
         }
        ],
        "2694614345669677527": [
         "20",
         {
          "args": [
           "1842017354665637449",
           "-8516188366979267844",
           "-4503328218805277900"
          ],
          "function": "Vec.create"
         }
        ],
        "2803584503774889982": [
         "87",
         {
          "repr": "; ModuleID = \"fib\"\ntarget triple = \"unknown-unknown-unknown\"\ntarget datalayout = \"\"\n\ndefine fastcc i32 @\"fib_more\"(i32 %\".1\") \n{\nn_neq_one:\nn_eq_one:\nnot_pred_cont:\npred_cont:\nentry:\n}\n\ndefine fastcc i32 @\"fib\"(i32 %\".1\") \n{\nentry:\n}\n",
          "type": "Module"
         }
        ],
        "2803932293546605832": [
         "105",
         {
          "repr": "<llvmlite.ir.builder.IRBuilder object at 0x112d7bfd0>",
          "type": "IRBuilder"
         }
        ],
        "2803933824810694082": [
         "96",
         {
          "repr": "<llvmlite.ir.builder.IRBuilder object at 0x113b867f0>",
          "type": "IRBuilder"
         }
        ],
        "2803933845613577007": [
         "92",
         {
          "repr": "<llvmlite.ir.builder.IRBuilder object at 0x113b5b080>",
          "type": "IRBuilder"
         }
        ],
        "2803933860151887757": [
         "90",
         {
          "repr": "<llvmlite.ir.builder.IRBuilder object at 0x113b06f60>",
          "type": "IRBuilder"
         }
        ],
        "2804214105346466182": [
         "97",
         {
          "repr": "<ir.Argument '.1' of type i32>",
          "type": "Argument"
         }
        ],
        "2804214127241616832": [
         "102",
         {
          "repr": "<ir.Argument '.1' of type i32>",
          "type": "Argument"
         }
        ],
        "2804370678779027282": [
         "104",
         {
          "repr": "<ir.Block 'entry' of type 'label'>",
          "type": "Block"
         }
        ],
        "2804370749828390607": [
         "99",
         {
          "repr": "<ir.Block 'entry' of type 'label'>",
          "type": "Block"
         }
        ],
        "2804371779114811107": [
         "93",
         {
          "repr": "<ir.Block 'not_pred_cont' of type 'label'>",
          "type": "Block"
         }
        ],
        "2804371821925427282": [
         "91",
         {
          "repr": "<ir.Block 'n_eq_one' of type 'label'>",
          "type": "Block"
         }
        ],
        "2804371836508121557": [
         "89",
         {
          "repr": "<ir.Block 'n_neq_one' of type 'label'>",
          "type": "Block"
         }
        ],
        "2804500559221371332": [
         "101",
         {
          "repr": "<ir.Function 'fib' of type 'i32 (i32)*'>",
          "type": "Function"
         }
        ],
        "282414670136991091": [
         "80",
         {
          "args": [
           "-5863251465363744076",
           "6787751899374579679"
          ],
          "function": "Module.create"
         }
        ],
        "2838404286865551426": [
         "66",
         {
          "args": [
           "7982613573155093435",
           "-3328745194228861557"
          ],
          "function": "BlockReference.create"
         }
        ],
        "2841766696030494811": [
         "26",
         {
          "args": [
           "8184344721902993536"
          ],
          "function": "Vec.create"
         }
        ],
        "2874276183975587589": [
         "66",
         {
          "args": [
           "7982613573155093435",
           "2344994167609848606"
          ],
          "function": "BlockReference.create"
         }
        ],
        "2896996842982769044": [
         "25",
         {
          "args": [
           "-4935380922796875345",
           "-1309663167109628062"
          ],
          "function": "Block.create"
         }
        ],
        "2903739154556236657": [
         "62",
         {
          "args": [
           "-6487485548431241434",
           "-8396387257036249845",
           "2310427264272266292",
           "-4150339690534088628"
          ],
          "function": "Builder.icmp_signed"
         }
        ],
        "2970021489991081563": [
         "78",
         {
          "args": [
           "3759620696171104765",
           "-8643329473364322688"
          ],
          "function": "Function.create"
         }
        ],
        "2981506962863595852": [
         "53",
         {
          "args": [
           "-1467544751147466359"
          ],
          "function": "BuilderValue.value"
         }
        ],
        "3024992103626032079": [
         "46",
         {
          "args": [
           "1444169661203615974",
           "6857461487267714753"
          ],
          "function": "Vec.__getitem__",
          "type_params": {
           "T": {
            "type": "Value"
           }
          }
         }
        ],
        "3043924766307621338": [
         "17",
         {
          "args": [
           "7243093546942543456",
           "-8337574951586680941"
          ],
          "function": "Value.constant"
         }
        ],
        "3067172257505927369": [
         "66",
         {
          "args": [
           "7982613573155093435",
           "-7679423923534741682"
          ],
          "function": "BlockReference.create"
         }
        ],
        "308025295811776917": [
         "75",
         {
          "args": [
           "-4310142087015556902",
           "-3104122277052500111"
          ],
          "function": "Builder.ret"
         }
        ],
        "3090516498281701349": [
         "62",
         {
          "args": [
           "4059729760934624113",
           "-8396387257036249845",
           "-7586895345972319938",
           "-4503328218805277900"
          ],
          "function": "Builder.icmp_signed"
         }
        ],
        "3142071570680376810": [
         "4",
         {
          "args": [
           "7243093546942543456",
           "7243093546942543456"
          ],
          "function": "FunctionType.create"
         }
        ],
        "3157252207984072726": [
         "34",
         {
          "args": [
           "-4744366957252542044"
          ],
          "function": "BuilderValue.builder"
         }
        ],
        "3301913151602160367": [
         "67",
         {
          "repr": "'n_neq_one'",
          "type": "str"
         }
        ],
        "3374711876852576789": [
         "28",
         {
          "args": [
           "5491443378380398499",
           "-3328745194228861557"
          ],
          "function": "BlockReference.create"
         }
        ],
        "3385139425123564947": [
         "57",
         {
          "args": [
           "-419449526076146358"
          ],
          "function": "BuilderValue.value"
         }
        ],
        "3427968376424528364": [
         "24",
         {
          "args": [
           "7586328221431842385",
           "63191626121762748"
          ],
          "function": "Builder.ret"
         }
        ],
        "3437172283705764964": [
         "79",
         {
          "args": [
           "-4179302925957849158",
           "8565205982425275128"
          ],
          "function": "Vec.create"
         }
        ],
        "3495282373535702274": [
         "40",
         {
          "args": [
           "6964252029765262668",
           "-2298903136493057055",
           "-1365518982054740957",
           "8427324662095135445"
          ],
          "function": "Builder.cbranch"
         }
        ],
        "3545748223694054206": [
         "25",
         {
          "args": [
           "6173115947400151947",
           "-8867398582960619837"
          ],
          "function": "Block.create"
         }
        ],
        "3567042750633760607": [
         "54",
         {
          "args": [
           "1299708758371203839",
           "-1208403252813101579",
           "2981506962863595852"
          ],
          "function": "Vec.create"
         }
        ],
        "356789902609213433": [
         "56",
         {
          "args": [
           "5515561171522084111"
          ],
          "function": "BuilderValue.builder"
         }
        ],
        "3583273500732430259": [
         "40",
         {
          "args": [
           "8829377982781020406",
           "6088710667075100299",
           "-3562800440534033040",
           "-7160615201430447006"
          ],
          "function": "Builder.cbranch"
         }
        ],
        "3588930102186967531": [
         "80",
         {
          "args": [
           "-424107799521709043",
           "1315720641587739000"
          ],
          "function": "Module.create"
         }
        ],
        "3628430052292287279": [
         "17",
         {
          "args": [
           "5233455371199779204",
           "-8337574951586680941"
          ],
          "function": "Value.constant"
         }
        ],
        "3646729188545508687": [
         "75",
         {
          "args": [
           "-7400609520126342689",
           "5897677314082350795"
          ],
          "function": "Builder.ret"
         }
        ],
        "368365476529219030": [
         "64",
         {
          "args": [
           "5672870029800128537"
          ],
          "function": "BuilderValue.value"
         }
        ],
        "3734538618831694019": [
         "42",
         {
          "args": [
           "2803933824810694082"
          ],
          "function": "Builder.box"
         }
        ],
        "3759620696171104765": [
         "12",
         {
          "args": [
           "-6418872629830796001"
          ],
          "function": "FunctionReference.box"
         }
        ],
        "3798014044230402951": [
         "34",
         {
          "args": [
           "5716060950529071325"
          ],
          "function": "BuilderValue.builder"
         }
        ],
        "3890202027915081257": [
         "46",
         {
          "args": [
           "-6731312685234086130",
           "6857461487267714753"
          ],
          "function": "Vec.__getitem__",
          "type_params": {
           "T": {
            "type": "Value"
           }
          }
         }
        ],
        "3928375840821659730": [
         "78",
         {
          "args": [
           "3759620696171104765",
           "-2673000618745728201"
          ],
          "function": "Function.create"
         }
        ],
        "3977875307350079036": [
         "78",
         {
          "args": [
           "3759620696171104765",
           "7359861951453753969"
          ],
          "function": "Function.create"
         }
        ],
        "4011158855355277089": [
         "56",
         {
          "args": [
           "-5242203083156180405"
          ],
          "function": "BuilderValue.builder"
         }
        ],
        "4024519099824076786": [
         "22",
         {
          "args": [
           "1550141514360553574"
          ],
          "function": "BuilderValue.builder"
         }
        ],
        "4048443859979610821": [
         "77",
         {
          "args": [
           "-2878207925370415361",
           "8235103918602961154",
           "2522044848292781889",
           "1492868732092870071",
           "4447711776544568136"
          ],
          "function": "Vec.create"
         }
        ],
        "4053530909008044866": [
         "80",
         {
          "args": [
           "-5863251465363744076",
           "-6059103855502177372"
          ],
          "function": "Module.create"
         }
        ],
        "4059729760934624113": [
         "60",
         {
          "args": [
           "-8131894153201210641"
          ],
          "function": "Builder.create"
         }
        ],
        "4115568888786875216": [
         "51",
         {
          "args": [
           "-7115910640026430657"
          ],
          "function": "BuilderValue.builder"
         }
        ],
        "4123598966184630418": [
         "23",
         {
          "args": [
           "258754566416217895"
          ],
          "function": "BuilderValue.value"
         }
        ],
        "4134309916638395371": [
         "35",
         {
          "args": [
           "-4744366957252542044"
          ],
          "function": "BuilderValue.value"
         }
        ],
        "4136299811107545153": [
         "24",
         {
          "args": [
           "4024519099824076786",
           "-3324058972365216769"
          ],
          "function": "Builder.ret"
         }
        ],
        "41788677785482723": [
         "21",
         {
          "args": [
           "-5748215606991777127",
           "3759620696171104765",
           "5445550517065305674"
          ],
          "function": "Builder.call"
         }
        ],
        "4199130204354364993": [
         "16",
         {
          "args": [
           "-3073269490947664560",
           "5826203169465493872"
          ],
          "function": "Vec.__getitem__",
          "type_params": {
           "T": {
            "type": "Value"
           }
          }
         }
        ],
        "4251300188161762349": [
         "20",
         {
          "args": [
           "-897853730359320428",
           "3628430052292287279",
           "-4503328218805277900"
          ],
          "function": "Vec.create"
         }
        ],
        "4272034098625050343": [
         "22",
         {
          "args": [
           "-3161697699993003584"
          ],
          "function": "BuilderValue.builder"
         }
        ],
        "4355410186209028073": [
         "39",
         {
          "args": [
           "-4702483690705946645",
           "-3328745194228861557"
          ],
          "function": "BlockReference.create"
         }
        ],
        "4405213633792942384": [
         "41",
         {
          "args": [
           "-6706323432204403429",
           "2089973462548449794"
          ],
          "function": "Block.create"
         }
        ],
        "4447711776544568136": [
         "76",
         {
          "args": [
           "2388331674288667845",
           "-3105113423431171676"
          ],
          "function": "Block.create"
         }
        ],
        "4456904066707669941": [
         "54",
         {
          "args": [
           "6103936777971315451",
           "-4944646201332463237",
           "6183252473179572811"
          ],
          "function": "Vec.create"
         }
        ],
        "4500923072219795086": [
         "57",
         {
          "args": [
           "-9075085435520422762"
          ],
          "function": "BuilderValue.value"
         }
        ],
        "4577299818178635042": [
         "50",
         {
          "args": [
           "-5789710701966556248",
           "-4898111914275480036",
           "-7337830060135677464"
          ],
          "function": "Builder.add"
         }
        ],
        "4577705878178231666": [
         "40",
         {
          "args": [
           "1712539479780876198",
           "-8482940097545706181",
           "-297590941691344737",
           "4355410186209028073"
          ],
          "function": "Builder.cbranch"
         }
        ],
        "4631873006171372826": [
         "29",
         {
          "args": [
           "6114221760397073753"
          ],
          "function": "Builder.create"
         }
        ],
        "4657680110200707938": [
         "10",
         {
          "args": [
           "7243093546942543456",
           "7243093546942543456",
           "7243093546942543456",
           "7243093546942543456"
          ],
          "function": "FunctionType.create"
         }
        ],
        "4702744572623611653": [
         "52",
         {
          "args": [
           "-3652726720868823675"
          ],
          "function": "BuilderValue.value"
         }
        ],
        "4718465647369129364": [
         "22",
         {
          "args": [
           "-5315029002418119462"
          ],
          "function": "BuilderValue.builder"
         }
        ],
        "4802841266173920192": [
         "24",
         {
          "args": [
           "4718465647369129364",
           "-7469907385352286727"
          ],
          "function": "Builder.ret"
         }
        ],
        "4810350872164342885": [
         "8",
         {
          "args": [
           "5491443378380398499",
           "8032618064138719415"
          ],
          "function": "BlockReference.create"
         }
        ],
        "4816309673589327286": [
         "51",
         {
          "args": [
           "10852833477280706"
          ],
          "function": "BuilderValue.builder"
         }
        ],
        "482598574284772462": [
         "29",
         {
          "args": [
           "-6419439823930301876"
          ],
          "function": "Builder.box"
         }
        ],
        "4935116669440392551": [
         "31",
         {
          "args": [
           "8512632523259241963"
          ],
          "function": "FunctionReference.arguments"
         }
        ],
        "4951474847665383474": [
         "33",
         {
          "args": [
           "4631873006171372826",
           "-701153403785351207",
           "-7876416751872209578",
           "-4503328218805277900"
          ],
          "function": "Builder.icmp_signed"
         }
        ],
        "4955211339569692948": [
         "76",
         {
          "args": [
           "2388331674288667845",
           "-8303026001577031702"
          ],
          "function": "Block.create"
         }
        ],
        "4969337337817351221": [
         "20",
         {
          "args": [
           "-897853730359320428",
           "3628430052292287279",
           "-4150339690534088628"
          ],
          "function": "Vec.create"
         }
        ],
        "4992257731889935849": [
         "21",
         {
          "args": [
           "8355091666781035345",
           "8512632523259241963",
           "-1305016929791594291"
          ],
          "function": "Builder.call"
         }
        ],
        "5083178634528334295": [
         "72",
         {
          "args": [
           "-8725932881043408772",
           "-8403067893579569411"
          ],
          "function": "Builder.ret"
         }
        ],
        "5168739254636034373": [
         "22",
         {
          "args": [
           "6975307885243937682"
          ],
          "function": "BuilderValue.builder"
         }
        ],
        "5204221990943048308": [
         "52",
         {
          "args": [
           "-602142444321603663"
          ],
          "function": "BuilderValue.value"
         }
        ],
        "5213878751781456495": [
         "69",
         {
          "args": [
           "-1788578973256763642",
           "7754811520420086235",
           "3067172257505927369",
           "-7172884558677192133"
          ],
          "function": "Builder.cbranch"
         }
        ],
        "5214815755029581171": [
         "72",
         {
          "args": [
           "1150264203470045346",
           "759342214034141451"
          ],
          "function": "Builder.ret"
         }
        ],
        "521861346958280364": [
         "26",
         {
          "args": [
           "7420126182422093845"
          ],
          "function": "Vec.create"
         }
        ],
        "5221623450350414360": [
         "62",
         {
          "args": [
           "-8507536624015677439",
           "-8396387257036249845",
           "-6238072752457677696",
           "-4503328218805277900"
          ],
          "function": "Builder.icmp_signed"
         }
        ],
        "5233455371199779204": [
         "3",
         {
          "args": [
           "-2530095424740834051"
          ],
          "function": "Type.box"
         }
        ],
        "5250232615315848509": [
         "16",
         {
          "args": [
           "-507717626669752221",
           "5826203169465493872"
          ],
          "function": "Vec.__getitem__",
          "type_params": {
           "T": {
            "type": "Value"
           }
          }
         }
        ],
        "5356025987784822361": [
         "56",
         {
          "args": [
           "-2094729648097256975"
          ],
          "function": "BuilderValue.builder"
         }
        ],
        "5375546503057827489": [
         "52",
         {
          "args": [
           "2278561178655234176"
          ],
          "function": "BuilderValue.value"
         }
        ],
        "5381130710281780393": [
         "75",
         {
          "args": [
           "1228668498118105045",
           "3024992103626032079"
          ],
          "function": "Builder.ret"
         }
        ],
        "5400246841303513278": [
         "53",
         {
          "args": [
           "-7157080877683843290"
          ],
          "function": "BuilderValue.value"
         }
        ],
        "5409715421272631445": [
         "13",
         {
          "args": [
           "-2395391573167221195"
          ],
          "function": "FunctionReference.arguments"
         }
        ],
        "5421194833797665745": [
         "27",
         {
          "args": [
           "2431316751667786439",
           "-1156291066457359635"
          ],
          "function": "Function.create"
         }
        ],
        "5445550517065305674": [
         "20",
         {
          "args": [
           "4199130204354364993",
           "-8516188366979267844",
           "-4503328218805277900"
          ],
          "function": "Vec.create"
         }
        ],
        "5476158753794061620": [
         "57",
         {
          "args": [
           "-2094729648097256975"
          ],
          "function": "BuilderValue.value"
         }
        ],
        "5491443378380398499": [
         "7",
         {
          "repr": "'entry'",
          "type": "str"
         }
        ],
        "5510395094771320645": [
         "39",
         {
          "args": [
           "-4702483690705946645",
           "3759620696171104765"
          ],
          "function": "BlockReference.create"
         }
        ],
        "5515561171522084111": [
         "55",
         {
          "args": [
           "1670090168757237959",
           "3759620696171104765",
           "-5548743937225419998"
          ],
          "function": "Builder.call"
         }
        ],
        "557929673498030977": [
         "9",
         {
          "args": [
           "2803932293546605832"
          ],
          "function": "Builder.box"
         }
        ],
        "5585756518760963816": [
         "68",
         {
          "args": [
           "3301913151602160367",
           "8512632523259241963"
          ],
          "function": "BlockReference.create"
         }
        ],
        "5639772979509905328": [
         "25",
         {
          "args": [
           "6929129727757244407",
           "-8223152598411962134"
          ],
          "function": "Block.create"
         }
        ],
        "5653333908765343281": [
         "75",
         {
          "args": [
           "-7075829354982415034",
           "-3374365196812501825"
          ],
          "function": "Builder.ret"
         }
        ],
        "5672870029800128537": [
         "62",
         {
          "args": [
           "-6487485548431241434",
           "-8396387257036249845",
           "2310427264272266292",
           "-4503328218805277900"
          ],
          "function": "Builder.icmp_signed"
         }
        ],
        "5716060950529071325": [
         "33",
         {
          "args": [
           "-8437293734178115648",
           "-701153403785351207",
           "-7876416751872209578",
           "-4503328218805277900"
          ],
          "function": "Builder.icmp_signed"
         }
        ],
        "5758936950166805182": [
         "54",
         {
          "args": [
           "-7484645615355636722",
           "759342214034141451",
           "5400246841303513278"
          ],
          "function": "Vec.create"
         }
        ],
        "5799176543409540157": [
         "11",
         {
          "repr": "'fib_more'",
          "type": "str"
         }
        ],
        "5807255699843374650": [
         "63",
         {
          "args": [
           "2025109020594015294"
          ],
          "function": "BuilderValue.builder"
         }
        ],
        "5826203169465493872": [
         "15",
         {
          "args": [
           "-8337574951586680941"
          ],
          "function": "Integer.from_int"
         }
        ],
        "5897677314082350795": [
         "46",
         {
          "args": [
           "844662011244408746",
           "6857461487267714753"
          ],
          "function": "Vec.__getitem__",
          "type_params": {
           "T": {
            "type": "Value"
           }
          }
         }
        ],
        "5912817150587741372": [
         "77",
         {
          "args": [
           "4405213633792942384",
           "8710788760881750675",
           "-7554995070431152578",
           "-3439834427357429885",
           "4955211339569692948"
          ],
          "function": "Vec.create"
         }
        ],
        "5920422676185840569": [
         "42",
         {
          "args": [
           "1383769678918467604"
          ],
          "function": "Builder.create"
         }
        ],
        "59830864974982380": [
         "25",
         {
          "args": [
           "4810350872164342885",
           "9198229045246084037"
          ],
          "function": "Block.create"
         }
        ],
        "6045125608671886787": [
         "79",
         {
          "args": [
           "1533403446866828516",
           "-3674549522204652614"
          ],
          "function": "Vec.create"
         }
        ],
        "6088710667075100299": [
         "35",
         {
          "args": [
           "-1014080800304484990"
          ],
          "function": "BuilderValue.value"
         }
        ],
        "6103936777971315451": [
         "52",
         {
          "args": [
           "8473691846968764111"
          ],
          "function": "BuilderValue.value"
         }
        ],
        "6114221760397073753": [
         "28",
         {
          "args": [
           "5491443378380398499",
           "3759620696171104765"
          ],
          "function": "BlockReference.create"
         }
        ],
        "6155948508460485815": [
         "76",
         {
          "args": [
           "5585756518760963816",
           "-2923370318896190781"
          ],
          "function": "Block.create"
         }
        ],
        "6173115947400151947": [
         "8",
         {
          "args": [
           "5491443378380398499",
           "-2395391573167221195"
          ],
          "function": "BlockReference.create"
         }
        ],
        "6183252473179572811": [
         "53",
         {
          "args": [
           "10852833477280706"
          ],
          "function": "BuilderValue.value"
         }
        ],
        "6194060957271833626": [
         "69",
         {
          "args": [
           "-4976348336067783413",
           "6994241790022786678",
           "-8341448156534734626",
           "2388331674288667845"
          ],
          "function": "Builder.cbranch"
         }
        ],
        "6234599826441398669": [
         "57",
         {
          "args": [
           "-3253189307007704115"
          ],
          "function": "BuilderValue.value"
         }
        ],
        "6262719055334000225": [
         "25",
         {
          "args": [
           "-529904640991214220",
           "7035627694629011815"
          ],
          "function": "Block.create"
         }
        ],
        "6282199083804630338": [
         "59",
         {
          "args": [
           "-1365518982054740957",
           "-6778540200318865156"
          ],
          "function": "Block.create"
         }
        ],
        "63191626121762748": [
         "23",
         {
          "args": [
           "-1507083604338010919"
          ],
          "function": "BuilderValue.value"
         }
        ],
        "6331388425618265137": [
         "78",
         {
          "args": [
           "3759620696171104765",
           "-6726504665251486447"
          ],
          "function": "Function.create"
         }
        ],
        "6460904105747331827": [
         "25",
         {
          "args": [
           "-529904640991214220",
           "-3014130944990655283"
          ],
          "function": "Block.create"
         }
        ],
        "6519062708066150510": [
         "80",
         {
          "args": [
           "-5863251465363744076",
           "-4005616463819871673"
          ],
          "function": "Module.create"
         }
        ],
        "6545334719318011439": [
         "79",
         {
          "args": [
           "2538670396240248420",
           "-4722925547153820720"
          ],
          "function": "Vec.create"
         }
        ],
        "6553470888887100697": [
         "53",
         {
          "args": [
           "-7229041398625728709"
          ],
          "function": "BuilderValue.value"
         }
        ],
        "6557848020160712604": [
         "79",
         {
          "args": [
           "-4179302925957849158",
           "3928375840821659730"
          ],
          "function": "Vec.create"
         }
        ],
        "661203734521396238": [
         "28",
         {
          "args": [
           "5491443378380398499",
           "-7679423923534741682"
          ],
          "function": "BlockReference.create"
         }
        ],
        "6665571099958531038": [
         "70",
         {
          "args": [
           "4355410186209028073",
           "2182260529532814793"
          ],
          "function": "Block.create"
         }
        ],
        "6671797860368594709": [
         "79",
         {
          "args": [
           "-3721720552890382087",
           "-4508256874444039044"
          ],
          "function": "Vec.create"
         }
        ],
        "670736802080096690": [
         "56",
         {
          "args": [
           "-232779740158387034"
          ],
          "function": "BuilderValue.builder"
         }
        ],
        "6708661490920029573": [
         "63",
         {
          "args": [
           "-3086121045734832810"
          ],
          "function": "BuilderValue.builder"
         }
        ],
        "6750270104771793219": [
         "29",
         {
          "args": [
           "3374711876852576789"
          ],
          "function": "Builder.create"
         }
        ],
        "6787751899374579679": [
         "79",
         {
          "args": [
           "-4179302925957849158",
           "-2629522877711088309"
          ],
          "function": "Vec.create"
         }
        ],
        "679500159107442891": [
         "69",
         {
          "args": [
           "-3909303935637339492",
           "6945457156140473713",
           "-4247040748372597650",
           "5585756518760963816"
          ],
          "function": "Builder.cbranch"
         }
        ],
        "680662044271480938": [
         "75",
         {
          "args": [
           "7539632688287301139",
           "-3104122277052500111"
          ],
          "function": "Builder.ret"
         }
        ],
        "6822172096052116522": [
         "33",
         {
          "args": [
           "8453128156297567355",
           "-701153403785351207",
           "2310427264272266292",
           "-4503328218805277900"
          ],
          "function": "Builder.icmp_signed"
         }
        ],
        "6857461487267714753": [
         "45",
         {
          "args": [
           "-8337574951585598416"
          ],
          "function": "Integer.from_int"
         }
        ],
        "6872768544959663919": [
         "26",
         {
          "args": [
           "3545748223694054206"
          ],
          "function": "Vec.create"
         }
        ],
        "687483548023003878": [
         "42",
         {
          "args": [
           "-297590941691344737"
          ],
          "function": "Builder.create"
         }
        ],
        "6903190857138403042": [
         "56",
         {
          "args": [
           "-310495772643795850"
          ],
          "function": "BuilderValue.builder"
         }
        ],
        "6929129727757244407": [
         "8",
         {
          "args": [
           "5491443378380398499",
           "-4219552748053134047"
          ],
          "function": "BlockReference.create"
         }
        ],
        "6945457156140473713": [
         "64",
         {
          "args": [
           "-8685446463395474189"
          ],
          "function": "BuilderValue.value"
         }
        ],
        "6964252029765262668": [
         "34",
         {
          "args": [
           "-6253813085112650942"
          ],
          "function": "BuilderValue.builder"
         }
        ],
        "6964300574660315790": [
         "16",
         {
          "args": [
           "7411932615079650945",
           "5826203169465493872"
          ],
          "function": "Vec.__getitem__",
          "type_params": {
           "T": {
            "type": "Value"
           }
          }
         }
        ],
        "6972767924978272572": [
         "9",
         {
          "args": [
           "-4935380922796875345"
          ],
          "function": "Builder.create"
         }
        ],
        "6975307885243937682": [
         "21",
         {
          "args": [
           "-1500864240650347364",
           "3759620696171104765",
           "5445550517065305674"
          ],
          "function": "Builder.call"
         }
        ],
        "6994241790022786678": [
         "64",
         {
          "args": [
           "-6968005056132880386"
          ],
          "function": "BuilderValue.value"
         }
        ],
        "7025055079428731142": [
         "79",
         {
          "args": [
           "-4179302925957849158",
           "3977875307350079036"
          ],
          "function": "Vec.create"
         }
        ],
        "7035627694629011815": [
         "24",
         {
          "args": [
           "8270235524629832550",
           "-2501925320480528133"
          ],
          "function": "Builder.ret"
         }
        ],
        "7052076051960097431": [
         "41",
         {
          "args": [
           "-6706323432204403429",
           "-9202019658654030790"
          ],
          "function": "Block.create"
         }
        ],
        "7060885281423012435": [
         "31",
         {
          "args": [
           "-3328745194228861557"
          ],
          "function": "FunctionReference.arguments"
         }
        ],
        "7061738406827549405": [
         "72",
         {
          "args": [
           "-3536388809843402977",
           "-4944646201332463237"
          ],
          "function": "Builder.ret"
         }
        ],
        "7117959272519525388": [
         "44",
         {
          "args": [
           "2278561178655234176"
          ],
          "function": "BuilderValue.builder"
         }
        ],
        "7146838749292868563": [
         "71",
         {
          "args": [
           "2874276183975587589"
          ],
          "function": "Builder.create"
         }
        ],
        "7151919999179239715": [
         "72",
         {
          "args": [
           "7146838749292868563",
           "1267546901672136319"
          ],
          "function": "Builder.ret"
         }
        ],
        "7243093546942543456": [
         "3",
         {
          "args": [
           "-8337574951621321741"
          ],
          "function": "Type.create_int"
         }
        ],
        "7291207666594522604": [
         "27",
         {
          "args": [
           "-4219552748053134047",
           "1684549986065682718"
          ],
          "function": "Function.create"
         }
        ],
        "7359861951453753969": [
         "77",
         {
          "args": [
           "-3390122502313641587",
           "8761783437877738752",
           "-4112775634287786241",
           "1492868732092870071",
           "4447711776544568136"
          ],
          "function": "Vec.create"
         }
        ],
        "7398810500473939937": [
         "51",
         {
          "args": [
           "-1467544751147466359"
          ],
          "function": "BuilderValue.builder"
         }
        ],
        "7411932615079650945": [
         "13",
         {
          "args": [
           "-4219552748053134047"
          ],
          "function": "FunctionReference.arguments"
         }
        ],
        "7420126182422093845": [
         "25",
         {
          "args": [
           "-8916153652757021617",
           "-5585359832309745080"
          ],
          "function": "Block.create"
         }
        ],
        "7522303220591479012": [
         "53",
         {
          "args": [
           "-755145061738683903"
          ],
          "function": "BuilderValue.value"
         }
        ],
        "7536951269337439993": [
         "76",
         {
          "args": [
           "8314918235855671303",
           "3646729188545508687"
          ],
          "function": "Block.create"
         }
        ],
        "7539632688287301139": [
         "74",
         {
          "args": [
           "2388331674288667845"
          ],
          "function": "Builder.create"
         }
        ],
        "7586328221431842385": [
         "22",
         {
          "args": [
           "-1507083604338010919"
          ],
          "function": "BuilderValue.builder"
         }
        ],
        "759342214034141451": [
         "49",
         {
          "args": [
           "7060885281423012435",
           "-8087392358875293566"
          ],
          "function": "Vec.__getitem__",
          "type_params": {
           "T": {
            "type": "Value"
           }
          }
         }
        ],
        "7697355099088424847": [
         "33",
         {
          "args": [
           "6750270104771793219",
           "-701153403785351207",
           "1777130391504557508",
           "-8856328466760116523"
          ],
          "function": "Builder.icmp_signed"
         }
        ],
        "7736287741064852803": [
         "52",
         {
          "args": [
           "8525718873198211415"
          ],
          "function": "BuilderValue.value"
         }
        ],
        "7754811520420086235": [
         "64",
         {
          "args": [
           "2903739154556236657"
          ],
          "function": "BuilderValue.value"
         }
        ],
        "7792453568886775227": [
         "26",
         {
          "args": [
           "6262719055334000225"
          ],
          "function": "Vec.create"
         }
        ],
        "7835598718653011640": [
         "78",
         {
          "args": [
           "3759620696171104765",
           "-729765891069256672"
          ],
          "function": "Function.create"
         }
        ],
        "7859995635962102716": [
         "80",
         {
          "args": [
           "-424107799521709043",
           "6545334719318011439"
          ],
          "function": "Module.create"
         }
        ],
        "7943632732658093686": [
         "80",
         {
          "args": [
           "-5863251465363744076",
           "-8311588819165357967"
          ],
          "function": "Module.create"
         }
        ],
        "7952558790143574424": [
         "68",
         {
          "args": [
           "3301913151602160367",
           "3759620696171104765"
          ],
          "function": "BlockReference.create"
         }
        ],
        "7981566498712513916": [
         "71",
         {
          "args": [
           "-4247040748372597650"
          ],
          "function": "Builder.create"
         }
        ],
        "7982613573155093435": [
         "65",
         {
          "repr": "'n_eq_one'",
          "type": "str"
         }
        ],
        "8005378988303750871": [
         "64",
         {
          "args": [
           "2025109020594015294"
          ],
          "function": "BuilderValue.value"
         }
        ],
        "8032618064138719415": [
         "6",
         {
          "args": [
           "-424107799521709043",
           "-7263973834178992120",
           "-7456460749910392891",
           "-2218667964914708590"
          ],
          "function": "FunctionReference.create"
         }
        ],
        "8144870077040741239": [
         "54",
         {
          "args": [
           "-6294729363372135577",
           "1267546901672136319",
           "105842644840019805"
          ],
          "function": "Vec.create"
         }
        ],
        "8148518328497910305": [
         "59",
         {
          "args": [
           "-297590941691344737",
           "-1506243135513342853"
          ],
          "function": "Block.create"
         }
        ],
        "8177634355584318437": [
         "27",
         {
          "args": [
           "2431316751667786439",
           "-3850146973482974830"
          ],
          "function": "Function.create"
         }
        ],
        "8184344721902993536": [
         "25",
         {
          "args": [
           "-8916153652757021617",
           "3427968376424528364"
          ],
          "function": "Block.create"
         }
        ],
        "8235103918602961154": [
         "59",
         {
          "args": [
           "-7554146791929914131",
           "-8348912664040529440"
          ],
          "function": "Block.create"
         }
        ],
        "8270235524629832550": [
         "22",
         {
          "args": [
           "-8413008362799053611"
          ],
          "function": "BuilderValue.builder"
         }
        ],
        "8273705104851202503": [
         "80",
         {
          "args": [
           "-424107799521709043",
           "-8671625572871020609"
          ],
          "function": "Module.create"
         }
        ],
        "8314918235855671303": [
         "68",
         {
          "args": [
           "3301913151602160367",
           "2344994167609848606"
          ],
          "function": "BlockReference.create"
         }
        ],
        "8342575562084900041": [
         "27",
         {
          "args": [
           "-2395391573167221195",
           "6872768544959663919"
          ],
          "function": "Function.create"
         }
        ],
        "8355091666781035345": [
         "9",
         {
          "args": [
           "-8916153652757021617"
          ],
          "function": "Builder.create"
         }
        ],
        "841957634529044290": [
         "70",
         {
          "args": [
           "8427324662095135445",
           "679500159107442891"
          ],
          "function": "Block.create"
         }
        ],
        "8427324662095135445": [
         "39",
         {
          "args": [
           "-4702483690705946645",
           "8512632523259241963"
          ],
          "function": "BlockReference.create"
         }
        ],
        "844662011244408746": [
         "31",
         {
          "args": [
           "2344994167609848606"
          ],
          "function": "FunctionReference.arguments"
         }
        ],
        "8453128156297567355": [
         "29",
         {
          "args": [
           "661203734521396238"
          ],
          "function": "Builder.create"
         }
        ],
        "8467814789774953813": [
         "78",
         {
          "args": [
           "8512632523259241963",
           "-3490555450895013004"
          ],
          "function": "Function.create"
         }
        ],
        "8473691846968764111": [
         "43",
         {
          "args": [
           "-7009683340801556842",
           "2310427264272266292",
           "-4150339690534088628"
          ],
          "function": "Builder.sub"
         }
        ],
        "848402829224272350": [
         "27",
         {
          "args": [
           "2431316751667786439",
           "-818397503285180464"
          ],
          "function": "Function.create"
         }
        ],
        "8505578814924988538": [
         "40",
         {
          "args": [
           "-2511322941946445116",
           "-7334851919981011991",
           "1383769678918467604",
           "-4994534463712488802"
          ],
          "function": "Builder.cbranch"
         }
        ],
        "8512632523259241963": [
         "12",
         {
          "args": [
           "-5863251465363744076",
           "-7263973834178992120",
           "5799176543409540157",
           "-2218667964914708590"
          ],
          "function": "FunctionReference.create"
         }
        ],
        "8521547166993777819": [
         "22",
         {
          "args": [
           "4992257731889935849"
          ],
          "function": "BuilderValue.builder"
         }
        ],
        "8525718873198211415": [
         "43",
         {
          "args": [
           "-7009683340801556842",
           "2310427264272266292",
           "-4503328218805277900"
          ],
          "function": "Builder.sub"
         }
        ],
        "8565205982425275128": [
         "78",
         {
          "args": [
           "3759620696171104765",
           "-2408756898482392607"
          ],
          "function": "Function.create"
         }
        ],
        "8581711151895218691": [
         "22",
         {
          "args": [
           "41788677785482723"
          ],
          "function": "BuilderValue.builder"
         }
        ],
        "8604028121792169470": [
         "23",
         {
          "args": [
           "41788677785482723"
          ],
          "function": "BuilderValue.value"
         }
        ],
        "8696794316442635900": [
         "68",
         {
          "args": [
           "3301913151602160367",
           "-3328745194228861557"
          ],
          "function": "BlockReference.create"
         }
        ],
        "8703471137579163448": [
         "56",
         {
          "args": [
           "-4783433649907111178"
          ],
          "function": "BuilderValue.builder"
         }
        ],
        "8710788760881750675": [
         "59",
         {
          "args": [
           "-7554146791929914131",
           "-3342600715786557633"
          ],
          "function": "Block.create"
         }
        ],
        "8725542337041331324": [
         "79",
         {
          "args": [
           "-4179302925957849158",
           "6331388425618265137"
          ],
          "function": "Vec.create"
         }
        ],
        "8726172104102720298": [
         "27",
         {
          "args": [
           "-6063637073547534806",
           "521861346958280364"
          ],
          "function": "Function.create"
         }
        ],
        "8726407186434229676": [
         "58",
         {
          "args": [
           "6903190857138403042",
           "-7350161095783547729"
          ],
          "function": "Builder.ret"
         }
        ],
        "8747048252637173133": [
         "80",
         {
          "args": [
           "-5863251465363744076",
           "8725542337041331324"
          ],
          "function": "Module.create"
         }
        ],
        "8761783437877738752": [
         "59",
         {
          "args": [
           "-3605138750810768077",
           "8726407186434229676"
          ],
          "function": "Block.create"
         }
        ],
        "8829377982781020406": [
         "34",
         {
          "args": [
           "-1014080800304484990"
          ],
          "function": "BuilderValue.builder"
         }
        ],
        "8894074476837414132": [
         "51",
         {
          "args": [
           "-7229041398625728709"
          ],
          "function": "BuilderValue.builder"
         }
        ],
        "8978435646966115996": [
         "50",
         {
          "args": [
           "7117959272519525388",
           "3890202027915081257",
           "-8403067893579569411"
          ],
          "function": "Builder.add"
         }
        ],
        "8988524772628916751": [
         "69",
         {
          "args": [
           "6708661490920029573",
           "-5970486806866026200",
           "-2625391128411534220",
           "2388331674288667845"
          ],
          "function": "Builder.cbranch"
         }
        ],
        "9089730270529233599": [
         "57",
         {
          "args": [
           "-232779740158387034"
          ],
          "function": "BuilderValue.value"
         }
        ],
        "913377584087162710": [
         "70",
         {
          "args": [
           "-7160615201430447006",
           "-8611735913972937819"
          ],
          "function": "Block.create"
         }
        ],
        "9198229045246084037": [
         "24",
         {
          "args": [
           "-8302986010807579420",
           "-2574359400594756535"
          ],
          "function": "Builder.ret"
         }
        ],
        "938711611628950982": [
         "23",
         {
          "args": [
           "4992257731889935849"
          ],
          "function": "BuilderValue.value"
         }
        ]
       },
       "states": {
        "initial": "-2142496432497255505",
        "states": [
         {
          "node": "8273705104851202503",
          "rule": "metadsl_llvm.llvmlite_ir.type_create_int_box"
         },
         {
          "node": "-7095587961673390914",
          "rule": "metadsl_llvm.llvmlite_ir.value_constant"
         },
         {
          "node": "-5215619941607487754",
          "rule": "metadsl_llvm.llvmlite_ir.value_constant"
         },
         {
          "node": "3588930102186967531",
          "rule": "metadsl_llvm.llvmlite_ir.function_type_box_3"
         },
         {
          "node": "7859995635962102716",
          "rule": "metadsl_llvm.llvmlite_ir.function_type_box_1"
         },
         {
          "node": "7943632732658093686",
          "rule": "metadsl_llvm.llvmlite_ir.module_reference_box"
         },
         {
          "node": "1588517885101401766",
          "rule": "metadsl_llvm.llvmlite_ir.function_reference_box"
         },
         {
          "node": "-9037245658313396415",
          "rule": "metadsl_llvm.llvmlite_ir.block_reference_box"
         },
         {
          "node": "-8584054523089188037",
          "rule": "metadsl_llvm.llvmlite_ir.builder_box"
         },
         {
          "node": "-1247420547727320124",
          "rule": "metadsl_llvm.llvmlite_ir.block_reference_box"
         },
         {
          "node": "-3397941578118904069",
          "rule": "metadsl_llvm.llvmlite_ir.builder_box"
         },
         {
          "node": "8747048252637173133",
          "rule": "metadsl_llvm.llvmlite_ir.block_reference_box"
         },
         {
          "node": "4053530909008044866",
          "rule": "metadsl_llvm.llvmlite_ir.builder_box"
         },
         {
          "node": "1036889073031414623",
          "rule": "metadsl_llvm.llvmlite_ir.block_reference_box"
         },
         {
          "node": "-3631612917630966193",
          "rule": "metadsl_llvm.llvmlite_ir.builder_box"
         },
         {
          "node": "-2122759945626282449",
          "rule": "metadsl_llvm.llvmlite_ir.function_reference_arguments"
         },
         {
          "node": "282414670136991091",
          "rule": "metadsl_llvm.llvmlite_ir.block_reference_box"
         },
         {
          "node": "1872542797196807292",
          "rule": "metadsl_llvm.llvmlite_ir.builder_box"
         },
         {
          "node": "6519062708066150510",
          "rule": "metadsl_llvm.llvmlite_ir.function_reference_box"
         },
         {
          "node": "-7730370385404202015",
          "rule": "metadsl_llvm.llvmlite_ir.function_reference_arguments"
         },
         {
          "node": "-1042379618558744017",
          "rule": "metadsl_llvm.llvmlite_ir.block_reference_box"
         },
         {
          "node": "-7705949425333690769",
          "rule": "metadsl_llvm.llvmlite_ir.builder_box"
         }
        ]
       }
      },
      "text/plain": [
       "Typez(definitions=None, nodes={'-7456460749910392891': ['81', PrimitiveNode(type='str', repr=\"'fib'\")], '-424107799521709043': ['1', CallNode(function='ModuleReference.create', type_params=None, args=['-7456460749910392891'], kwargs=None)], '-8337574951621321741': ['2', PrimitiveNode(type='int', repr='32')], '7243093546942543456': ['3', CallNode(function='Type.create_int', type_params=None, args=['-8337574951621321741'], kwargs=None)], '3142071570680376810': ['4', CallNode(function='FunctionType.create', type_params=None, args=['7243093546942543456', '7243093546942543456'], kwargs=None)], '-2218667964914708590': ['5', PrimitiveNode(type='str', repr=\"'fastcc'\")], '-4219552748053134047': ['6', CallNode(function='FunctionReference.create', type_params=None, args=['-424107799521709043', '3142071570680376810', '-7456460749910392891', '-2218667964914708590'], kwargs=None)], '5491443378380398499': ['7', PrimitiveNode(type='str', repr=\"'entry'\")], '6929129727757244407': ['8', CallNode(function='BlockReference.create', type_params=None, args=['5491443378380398499', '-4219552748053134047'], kwargs=None)], '-5471239278540920529': ['9', CallNode(function='Builder.create', type_params=None, args=['6929129727757244407'], kwargs=None)], '4657680110200707938': ['10', CallNode(function='FunctionType.create', type_params=None, args=['7243093546942543456', '7243093546942543456', '7243093546942543456', '7243093546942543456'], kwargs=None)], '5799176543409540157': ['11', PrimitiveNode(type='str', repr=\"'fib_more'\")], '-3328745194228861557': ['12', CallNode(function='FunctionReference.create', type_params=None, args=['-424107799521709043', '4657680110200707938', '5799176543409540157', '-2218667964914708590'], kwargs=None)], '7411932615079650945': ['13', CallNode(function='FunctionReference.arguments', type_params=None, args=['-4219552748053134047'], kwargs=None)], '-8337574951586680941': ['14', PrimitiveNode(type='int', repr='0')], '5826203169465493872': ['15', CallNode(function='Integer.from_int', type_params=None, args=['-8337574951586680941'], kwargs=None)], '6964300574660315790': ['16', CallNode(function='Vec.__getitem__', type_params={'T': DeclaredTypeInstance(type='Value', params=None)}, args=['7411932615079650945', '5826203169465493872'], kwargs=None)], '3043924766307621338': ['17', CallNode(function='Value.constant', type_params=None, args=['7243093546942543456', '-8337574951586680941'], kwargs=None)], '-8337574951585598416': ['18', PrimitiveNode(type='int', repr='1')], '-8856328466760116523': ['19', CallNode(function='Value.constant', type_params=None, args=['7243093546942543456', '-8337574951585598416'], kwargs=None)], '-8886852662216778558': ['20', CallNode(function='Vec.create', type_params=None, args=['6964300574660315790', '3043924766307621338', '-8856328466760116523'], kwargs=None)], '-3161697699993003584': ['21', CallNode(function='Builder.call', type_params=None, args=['-5471239278540920529', '-3328745194228861557', '-8886852662216778558'], kwargs=None)], '4272034098625050343': ['22', CallNode(function='BuilderValue.builder', type_params=None, args=['-3161697699993003584'], kwargs=None)], '-1358724669205357174': ['23', CallNode(function='BuilderValue.value', type_params=None, args=['-3161697699993003584'], kwargs=None)], '-8223152598411962134': ['24', CallNode(function='Builder.ret', type_params=None, args=['4272034098625050343', '-1358724669205357174'], kwargs=None)], '5639772979509905328': ['25', CallNode(function='Block.create', type_params=None, args=['6929129727757244407', '-8223152598411962134'], kwargs=None)], '1684549986065682718': ['26', CallNode(function='Vec.create', type_params=None, args=['5639772979509905328'], kwargs=None)], '7291207666594522604': ['27', CallNode(function='Function.create', type_params=None, args=['-4219552748053134047', '1684549986065682718'], kwargs=None)], '3374711876852576789': ['28', CallNode(function='BlockReference.create', type_params=None, args=['5491443378380398499', '-3328745194228861557'], kwargs=None)], '6750270104771793219': ['29', CallNode(function='Builder.create', type_params=None, args=['3374711876852576789'], kwargs=None)], '-701153403785351207': ['30', PrimitiveNode(type='str', repr=\"'>'\")], '7060885281423012435': ['31', CallNode(function='FunctionReference.arguments', type_params=None, args=['-3328745194228861557'], kwargs=None)], '1777130391504557508': ['32', CallNode(function='Vec.__getitem__', type_params={'T': DeclaredTypeInstance(type='Value', params=None)}, args=['7060885281423012435', '5826203169465493872'], kwargs=None)], '7697355099088424847': ['33', CallNode(function='Builder.icmp_signed', type_params=None, args=['6750270104771793219', '-701153403785351207', '1777130391504557508', '-8856328466760116523'], kwargs=None)], '1712539479780876198': ['34', CallNode(function='BuilderValue.builder', type_params=None, args=['7697355099088424847'], kwargs=None)], '-8482940097545706181': ['35', CallNode(function='BuilderValue.value', type_params=None, args=['7697355099088424847'], kwargs=None)], '-7789607736657979854': ['36', PrimitiveNode(type='str', repr=\"'pred_cont'\")], '-297590941691344737': ['37', CallNode(function='BlockReference.create', type_params=None, args=['-7789607736657979854', '-3328745194228861557'], kwargs=None)], '-4702483690705946645': ['38', PrimitiveNode(type='str', repr=\"'not_pred_cont'\")], '4355410186209028073': ['39', CallNode(function='BlockReference.create', type_params=None, args=['-4702483690705946645', '-3328745194228861557'], kwargs=None)], '4577705878178231666': ['40', CallNode(function='Builder.cbranch', type_params=None, args=['1712539479780876198', '-8482940097545706181', '-297590941691344737', '4355410186209028073'], kwargs=None)], '-1065938636680224408': ['41', CallNode(function='Block.create', type_params=None, args=['3374711876852576789', '4577705878178231666'], kwargs=None)], '687483548023003878': ['42', CallNode(function='Builder.create', type_params=None, args=['-297590941691344737'], kwargs=None)], '-6923321578818873578': ['43', CallNode(function='Builder.sub', type_params=None, args=['687483548023003878', '1777130391504557508', '-8856328466760116523'], kwargs=None)], '-7099899488529370029': ['44', CallNode(function='BuilderValue.builder', type_params=None, args=['-6923321578818873578'], kwargs=None)], '6857461487267714753': ['45', CallNode(function='Integer.from_int', type_params=None, args=['-8337574951585598416'], kwargs=None)], '-3374365196812501825': ['46', CallNode(function='Vec.__getitem__', type_params={'T': DeclaredTypeInstance(type='Value', params=None)}, args=['7060885281423012435', '6857461487267714753'], kwargs=None)], '-8337574951584515891': ['47', PrimitiveNode(type='int', repr='2')], '-8087392358875293566': ['48', CallNode(function='Integer.from_int', type_params=None, args=['-8337574951584515891'], kwargs=None)], '759342214034141451': ['49', CallNode(function='Vec.__getitem__', type_params={'T': DeclaredTypeInstance(type='Value', params=None)}, args=['7060885281423012435', '-8087392358875293566'], kwargs=None)], '-7157080877683843290': ['50', CallNode(function='Builder.add', type_params=None, args=['-7099899488529370029', '-3374365196812501825', '759342214034141451'], kwargs=None)], '-6797889928899335485': ['51', CallNode(function='BuilderValue.builder', type_params=None, args=['-7157080877683843290'], kwargs=None)], '-7484645615355636722': ['52', CallNode(function='BuilderValue.value', type_params=None, args=['-6923321578818873578'], kwargs=None)], '5400246841303513278': ['53', CallNode(function='BuilderValue.value', type_params=None, args=['-7157080877683843290'], kwargs=None)], '5758936950166805182': ['54', CallNode(function='Vec.create', type_params=None, args=['-7484645615355636722', '759342214034141451', '5400246841303513278'], kwargs=None)], '-3253189307007704115': ['55', CallNode(function='Builder.call', type_params=None, args=['-6797889928899335485', '-3328745194228861557', '5758936950166805182'], kwargs=None)], '-6586217225544034688': ['56', CallNode(function='BuilderValue.builder', type_params=None, args=['-3253189307007704115'], kwargs=None)], '6234599826441398669': ['57', CallNode(function='BuilderValue.value', type_params=None, args=['-3253189307007704115'], kwargs=None)], '-1506243135513342853': ['58', CallNode(function='Builder.ret', type_params=None, args=['-6586217225544034688', '6234599826441398669'], kwargs=None)], '8148518328497910305': ['59', CallNode(function='Block.create', type_params=None, args=['-297590941691344737', '-1506243135513342853'], kwargs=None)], '-596400925340798273': ['60', CallNode(function='Builder.create', type_params=None, args=['4355410186209028073'], kwargs=None)], '-8396387257036249845': ['61', PrimitiveNode(type='str', repr=\"'=='\")], '-4008732223335916296': ['62', CallNode(function='Builder.icmp_signed', type_params=None, args=['-596400925340798273', '-8396387257036249845', '1777130391504557508', '-8856328466760116523'], kwargs=None)], '-3913217087929648497': ['63', CallNode(function='BuilderValue.builder', type_params=None, args=['-4008732223335916296'], kwargs=None)], '1661797641269599362': ['64', CallNode(function='BuilderValue.value', type_params=None, args=['-4008732223335916296'], kwargs=None)], '7982613573155093435': ['65', PrimitiveNode(type='str', repr=\"'n_eq_one'\")], '2838404286865551426': ['66', CallNode(function='BlockReference.create', type_params=None, args=['7982613573155093435', '-3328745194228861557'], kwargs=None)], '3301913151602160367': ['67', PrimitiveNode(type='str', repr=\"'n_neq_one'\")], '8696794316442635900': ['68', CallNode(function='BlockReference.create', type_params=None, args=['3301913151602160367', '-3328745194228861557'], kwargs=None)], '2182260529532814793': ['69', CallNode(function='Builder.cbranch', type_params=None, args=['-3913217087929648497', '1661797641269599362', '2838404286865551426', '8696794316442635900'], kwargs=None)], '6665571099958531038': ['70', CallNode(function='Block.create', type_params=None, args=['4355410186209028073', '2182260529532814793'], kwargs=None)], '1150264203470045346': ['71', CallNode(function='Builder.create', type_params=None, args=['2838404286865551426'], kwargs=None)], '5214815755029581171': ['72', CallNode(function='Builder.ret', type_params=None, args=['1150264203470045346', '759342214034141451'], kwargs=None)], '112952750858850823': ['73', CallNode(function='Block.create', type_params=None, args=['2838404286865551426', '5214815755029581171'], kwargs=None)], '-7075829354982415034': ['74', CallNode(function='Builder.create', type_params=None, args=['8696794316442635900'], kwargs=None)], '5653333908765343281': ['75', CallNode(function='Builder.ret', type_params=None, args=['-7075829354982415034', '-3374365196812501825'], kwargs=None)], '-8737318874557332007': ['76', CallNode(function='Block.create', type_params=None, args=['8696794316442635900', '5653333908765343281'], kwargs=None)], '-1416885322640837307': ['77', CallNode(function='Vec.create', type_params=None, args=['-1065938636680224408', '8148518328497910305', '6665571099958531038', '112952750858850823', '-8737318874557332007'], kwargs=None)], '-4671708717693831649': ['78', CallNode(function='Function.create', type_params=None, args=['-3328745194228861557', '-1416885322640837307'], kwargs=None)], '-949265483450507516': ['79', CallNode(function='Vec.create', type_params=None, args=['7291207666594522604', '-4671708717693831649'], kwargs=None)], '-2142496432497255505': ['80', CallNode(function='Module.create', type_params=None, args=['-424107799521709043', '-949265483450507516'], kwargs=None)], '-2530095424740834051': ['82', PrimitiveNode(type='IntType', repr=\"<<class 'llvmlite.ir.types.IntType'> i32>\")], '5233455371199779204': ['3', CallNode(function='Type.box', type_params=None, args=['-2530095424740834051'], kwargs=None)], '-7175461954552918632': ['4', CallNode(function='FunctionType.create', type_params=None, args=['5233455371199779204', '5233455371199779204'], kwargs=None)], '2431316751667786439': ['6', CallNode(function='FunctionReference.create', type_params=None, args=['-424107799521709043', '-7175461954552918632', '-7456460749910392891', '-2218667964914708590'], kwargs=None)], '-4935380922796875345': ['8', CallNode(function='BlockReference.create', type_params=None, args=['5491443378380398499', '2431316751667786439'], kwargs=None)], '6972767924978272572': ['9', CallNode(function='Builder.create', type_params=None, args=['-4935380922796875345'], kwargs=None)], '-8679443292513392552': ['10', CallNode(function='FunctionType.create', type_params=None, args=['5233455371199779204', '5233455371199779204', '5233455371199779204', '5233455371199779204'], kwargs=None)], '-7679423923534741682': ['12', CallNode(function='FunctionReference.create', type_params=None, args=['-424107799521709043', '-8679443292513392552', '5799176543409540157', '-2218667964914708590'], kwargs=None)], '-7996580160657902263': ['13', CallNode(function='FunctionReference.arguments', type_params=None, args=['2431316751667786439'], kwargs=None)], '-897853730359320428': ['16', CallNode(function='Vec.__getitem__', type_params={'T': DeclaredTypeInstance(type='Value', params=None)}, args=['-7996580160657902263', '5826203169465493872'], kwargs=None)], '3628430052292287279': ['17', CallNode(function='Value.constant', type_params=None, args=['5233455371199779204', '-8337574951586680941'], kwargs=None)], '-4150339690534088628': ['19', CallNode(function='Value.constant', type_params=None, args=['5233455371199779204', '-8337574951585598416'], kwargs=None)], '4969337337817351221': ['20', CallNode(function='Vec.create', type_params=None, args=['-897853730359320428', '3628430052292287279', '-4150339690534088628'], kwargs=None)], '258754566416217895': ['21', CallNode(function='Builder.call', type_params=None, args=['6972767924978272572', '-7679423923534741682', '4969337337817351221'], kwargs=None)], '-6424089876916657313': ['22', CallNode(function='BuilderValue.builder', type_params=None, args=['258754566416217895'], kwargs=None)], '4123598966184630418': ['23', CallNode(function='BuilderValue.value', type_params=None, args=['258754566416217895'], kwargs=None)], '-1371095635986192064': ['24', CallNode(function='Builder.ret', type_params=None, args=['-6424089876916657313', '4123598966184630418'], kwargs=None)], '-1140330232080615714': ['25', CallNode(function='Block.create', type_params=None, args=['-4935380922796875345', '-1371095635986192064'], kwargs=None)], '-3850146973482974830': ['26', CallNode(function='Vec.create', type_params=None, args=['-1140330232080615714'], kwargs=None)], '8177634355584318437': ['27', CallNode(function='Function.create', type_params=None, args=['2431316751667786439', '-3850146973482974830'], kwargs=None)], '661203734521396238': ['28', CallNode(function='BlockReference.create', type_params=None, args=['5491443378380398499', '-7679423923534741682'], kwargs=None)], '8453128156297567355': ['29', CallNode(function='Builder.create', type_params=None, args=['661203734521396238'], kwargs=None)], '1444169661203615974': ['31', CallNode(function='FunctionReference.arguments', type_params=None, args=['-7679423923534741682'], kwargs=None)], '2310427264272266292': ['32', CallNode(function='Vec.__getitem__', type_params={'T': DeclaredTypeInstance(type='Value', params=None)}, args=['1444169661203615974', '5826203169465493872'], kwargs=None)], '-1014080800304484990': ['33', CallNode(function='Builder.icmp_signed', type_params=None, args=['8453128156297567355', '-701153403785351207', '2310427264272266292', '-4150339690534088628'], kwargs=None)], '8829377982781020406': ['34', CallNode(function='BuilderValue.builder', type_params=None, args=['-1014080800304484990'], kwargs=None)], '6088710667075100299': ['35', CallNode(function='BuilderValue.value', type_params=None, args=['-1014080800304484990'], kwargs=None)], '-3562800440534033040': ['37', CallNode(function='BlockReference.create', type_params=None, args=['-7789607736657979854', '-7679423923534741682'], kwargs=None)], '-7160615201430447006': ['39', CallNode(function='BlockReference.create', type_params=None, args=['-4702483690705946645', '-7679423923534741682'], kwargs=None)], '3583273500732430259': ['40', CallNode(function='Builder.cbranch', type_params=None, args=['8829377982781020406', '6088710667075100299', '-3562800440534033040', '-7160615201430447006'], kwargs=None)], '-1936799951352170231': ['41', CallNode(function='Block.create', type_params=None, args=['661203734521396238', '3583273500732430259'], kwargs=None)], '-7009683340801556842': ['42', CallNode(function='Builder.create', type_params=None, args=['-3562800440534033040'], kwargs=None)], '8473691846968764111': ['43', CallNode(function='Builder.sub', type_params=None, args=['-7009683340801556842', '2310427264272266292', '-4150339690534088628'], kwargs=None)], '-5756461620588186266': ['44', CallNode(function='BuilderValue.builder', type_params=None, args=['8473691846968764111'], kwargs=None)], '3024992103626032079': ['46', CallNode(function='Vec.__getitem__', type_params={'T': DeclaredTypeInstance(type='Value', params=None)}, args=['1444169661203615974', '6857461487267714753'], kwargs=None)], '-4944646201332463237': ['49', CallNode(function='Vec.__getitem__', type_params={'T': DeclaredTypeInstance(type='Value', params=None)}, args=['1444169661203615974', '-8087392358875293566'], kwargs=None)], '10852833477280706': ['50', CallNode(function='Builder.add', type_params=None, args=['-5756461620588186266', '3024992103626032079', '-4944646201332463237'], kwargs=None)], '4816309673589327286': ['51', CallNode(function='BuilderValue.builder', type_params=None, args=['10852833477280706'], kwargs=None)], '6103936777971315451': ['52', CallNode(function='BuilderValue.value', type_params=None, args=['8473691846968764111'], kwargs=None)], '6183252473179572811': ['53', CallNode(function='BuilderValue.value', type_params=None, args=['10852833477280706'], kwargs=None)], '4456904066707669941': ['54', CallNode(function='Vec.create', type_params=None, args=['6103936777971315451', '-4944646201332463237', '6183252473179572811'], kwargs=None)], '-2094729648097256975': ['55', CallNode(function='Builder.call', type_params=None, args=['4816309673589327286', '-7679423923534741682', '4456904066707669941'], kwargs=None)], '5356025987784822361': ['56', CallNode(function='BuilderValue.builder', type_params=None, args=['-2094729648097256975'], kwargs=None)], '5476158753794061620': ['57', CallNode(function='BuilderValue.value', type_params=None, args=['-2094729648097256975'], kwargs=None)], '-8240364844148729919': ['58', CallNode(function='Builder.ret', type_params=None, args=['5356025987784822361', '5476158753794061620'], kwargs=None)], '-2558694478612801262': ['59', CallNode(function='Block.create', type_params=None, args=['-3562800440534033040', '-8240364844148729919'], kwargs=None)], '-6487485548431241434': ['60', CallNode(function='Builder.create', type_params=None, args=['-7160615201430447006'], kwargs=None)], '2903739154556236657': ['62', CallNode(function='Builder.icmp_signed', type_params=None, args=['-6487485548431241434', '-8396387257036249845', '2310427264272266292', '-4150339690534088628'], kwargs=None)], '-1788578973256763642': ['63', CallNode(function='BuilderValue.builder', type_params=None, args=['2903739154556236657'], kwargs=None)], '7754811520420086235': ['64', CallNode(function='BuilderValue.value', type_params=None, args=['2903739154556236657'], kwargs=None)], '3067172257505927369': ['66', CallNode(function='BlockReference.create', type_params=None, args=['7982613573155093435', '-7679423923534741682'], kwargs=None)], '-7172884558677192133': ['68', CallNode(function='BlockReference.create', type_params=None, args=['3301913151602160367', '-7679423923534741682'], kwargs=None)], '5213878751781456495': ['69', CallNode(function='Builder.cbranch', type_params=None, args=['-1788578973256763642', '7754811520420086235', '3067172257505927369', '-7172884558677192133'], kwargs=None)], '-4167787580513105337': ['70', CallNode(function='Block.create', type_params=None, args=['-7160615201430447006', '5213878751781456495'], kwargs=None)], '-3536388809843402977': ['71', CallNode(function='Builder.create', type_params=None, args=['3067172257505927369'], kwargs=None)], '7061738406827549405': ['72', CallNode(function='Builder.ret', type_params=None, args=['-3536388809843402977', '-4944646201332463237'], kwargs=None)], '-4131545113021979223': ['73', CallNode(function='Block.create', type_params=None, args=['3067172257505927369', '7061738406827549405'], kwargs=None)], '1228668498118105045': ['74', CallNode(function='Builder.create', type_params=None, args=['-7172884558677192133'], kwargs=None)], '5381130710281780393': ['75', CallNode(function='Builder.ret', type_params=None, args=['1228668498118105045', '3024992103626032079'], kwargs=None)], '-3616905981544042366': ['76', CallNode(function='Block.create', type_params=None, args=['-7172884558677192133', '5381130710281780393'], kwargs=None)], '1931430528876302997': ['77', CallNode(function='Vec.create', type_params=None, args=['-1936799951352170231', '-2558694478612801262', '-4167787580513105337', '-4131545113021979223', '-3616905981544042366'], kwargs=None)], '-2785097989873822438': ['78', CallNode(function='Function.create', type_params=None, args=['-7679423923534741682', '1931430528876302997'], kwargs=None)], '-8671625572871020609': ['79', CallNode(function='Vec.create', type_params=None, args=['8177634355584318437', '-2785097989873822438'], kwargs=None)], '8273705104851202503': ['80', CallNode(function='Module.create', type_params=None, args=['-424107799521709043', '-8671625572871020609'], kwargs=None)], '-6324535906945043517': ['83', PrimitiveNode(type='Constant', repr=\"<ir.Constant type='i32' value=1>\")], '-4503328218805277900': ['19', CallNode(function='Value.box', type_params=None, args=['-6324535906945043517'], kwargs=None)], '4251300188161762349': ['20', CallNode(function='Vec.create', type_params=None, args=['-897853730359320428', '3628430052292287279', '-4503328218805277900'], kwargs=None)], '-2785929411031441352': ['21', CallNode(function='Builder.call', type_params=None, args=['6972767924978272572', '-7679423923534741682', '4251300188161762349'], kwargs=None)], '-8718584178182408369': ['22', CallNode(function='BuilderValue.builder', type_params=None, args=['-2785929411031441352'], kwargs=None)], '194209324971518018': ['23', CallNode(function='BuilderValue.value', type_params=None, args=['-2785929411031441352'], kwargs=None)], '-479302879258673938': ['24', CallNode(function='Builder.ret', type_params=None, args=['-8718584178182408369', '194209324971518018'], kwargs=None)], '-7017324342846348064': ['25', CallNode(function='Block.create', type_params=None, args=['-4935380922796875345', '-479302879258673938'], kwargs=None)], '-2050574710053608235': ['26', CallNode(function='Vec.create', type_params=None, args=['-7017324342846348064'], kwargs=None)], '-3721720552890382087': ['27', CallNode(function='Function.create', type_params=None, args=['2431316751667786439', '-2050574710053608235'], kwargs=None)], '6822172096052116522': ['33', CallNode(function='Builder.icmp_signed', type_params=None, args=['8453128156297567355', '-701153403785351207', '2310427264272266292', '-4503328218805277900'], kwargs=None)], '-3106790533941974560': ['34', CallNode(function='BuilderValue.builder', type_params=None, args=['6822172096052116522'], kwargs=None)], '1826365808768074157': ['35', CallNode(function='BuilderValue.value', type_params=None, args=['6822172096052116522'], kwargs=None)], '-231334137988692827': ['40', CallNode(function='Builder.cbranch', type_params=None, args=['-3106790533941974560', '1826365808768074157', '-3562800440534033040', '-7160615201430447006'], kwargs=None)], '-6192437390180860986': ['41', CallNode(function='Block.create', type_params=None, args=['661203734521396238', '-231334137988692827'], kwargs=None)], '8525718873198211415': ['43', CallNode(function='Builder.sub', type_params=None, args=['-7009683340801556842', '2310427264272266292', '-4503328218805277900'], kwargs=None)], '-8495815553814392258': ['44', CallNode(function='BuilderValue.builder', type_params=None, args=['8525718873198211415'], kwargs=None)], '-7229041398625728709': ['50', CallNode(function='Builder.add', type_params=None, args=['-8495815553814392258', '3024992103626032079', '-4944646201332463237'], kwargs=None)], '8894074476837414132': ['51', CallNode(function='BuilderValue.builder', type_params=None, args=['-7229041398625728709'], kwargs=None)], '7736287741064852803': ['52', CallNode(function='BuilderValue.value', type_params=None, args=['8525718873198211415'], kwargs=None)], '6553470888887100697': ['53', CallNode(function='BuilderValue.value', type_params=None, args=['-7229041398625728709'], kwargs=None)], '-8044147245525153834': ['54', CallNode(function='Vec.create', type_params=None, args=['7736287741064852803', '-4944646201332463237', '6553470888887100697'], kwargs=None)], '-5242203083156180405': ['55', CallNode(function='Builder.call', type_params=None, args=['8894074476837414132', '-7679423923534741682', '-8044147245525153834'], kwargs=None)], '4011158855355277089': ['56', CallNode(function='BuilderValue.builder', type_params=None, args=['-5242203083156180405'], kwargs=None)], '-8051734592594793588': ['57', CallNode(function='BuilderValue.value', type_params=None, args=['-5242203083156180405'], kwargs=None)], '-3549913507110276519': ['58', CallNode(function='Builder.ret', type_params=None, args=['4011158855355277089', '-8051734592594793588'], kwargs=None)], '-7581794057330427884': ['59', CallNode(function='Block.create', type_params=None, args=['-3562800440534033040', '-3549913507110276519'], kwargs=None)], '5672870029800128537': ['62', CallNode(function='Builder.icmp_signed', type_params=None, args=['-6487485548431241434', '-8396387257036249845', '2310427264272266292', '-4503328218805277900'], kwargs=None)], '-6922377837594660437': ['63', CallNode(function='BuilderValue.builder', type_params=None, args=['5672870029800128537'], kwargs=None)], '368365476529219030': ['64', CallNode(function='BuilderValue.value', type_params=None, args=['5672870029800128537'], kwargs=None)], '-8611735913972937819': ['69', CallNode(function='Builder.cbranch', type_params=None, args=['-6922377837594660437', '368365476529219030', '3067172257505927369', '-7172884558677192133'], kwargs=None)], '913377584087162710': ['70', CallNode(function='Block.create', type_params=None, args=['-7160615201430447006', '-8611735913972937819'], kwargs=None)], '-3726079116759330176': ['77', CallNode(function='Vec.create', type_params=None, args=['-6192437390180860986', '-7581794057330427884', '913377584087162710', '-4131545113021979223', '-3616905981544042366'], kwargs=None)], '-4508256874444039044': ['78', CallNode(function='Function.create', type_params=None, args=['-7679423923534741682', '-3726079116759330176'], kwargs=None)], '6671797860368594709': ['79', CallNode(function='Vec.create', type_params=None, args=['-3721720552890382087', '-4508256874444039044'], kwargs=None)], '-7095587961673390914': ['80', CallNode(function='Module.create', type_params=None, args=['-424107799521709043', '6671797860368594709'], kwargs=None)], '-8149401732046354836': ['84', PrimitiveNode(type='Constant', repr=\"<ir.Constant type='i32' value=0>\")], '-8516188366979267844': ['17', CallNode(function='Value.box', type_params=None, args=['-8149401732046354836'], kwargs=None)], '-1467050966907058980': ['20', CallNode(function='Vec.create', type_params=None, args=['-897853730359320428', '-8516188366979267844', '-4503328218805277900'], kwargs=None)], '-6850447384964053266': ['21', CallNode(function='Builder.call', type_params=None, args=['6972767924978272572', '-7679423923534741682', '-1467050966907058980'], kwargs=None)], '-8482792641481900768': ['22', CallNode(function='BuilderValue.builder', type_params=None, args=['-6850447384964053266'], kwargs=None)], '-393685867099266835': ['23', CallNode(function='BuilderValue.value', type_params=None, args=['-6850447384964053266'], kwargs=None)], '-1309663167109628062': ['24', CallNode(function='Builder.ret', type_params=None, args=['-8482792641481900768', '-393685867099266835'], kwargs=None)], '2896996842982769044': ['25', CallNode(function='Block.create', type_params=None, args=['-4935380922796875345', '-1309663167109628062'], kwargs=None)], '-1156291066457359635': ['26', CallNode(function='Vec.create', type_params=None, args=['2896996842982769044'], kwargs=None)], '5421194833797665745': ['27', CallNode(function='Function.create', type_params=None, args=['2431316751667786439', '-1156291066457359635'], kwargs=None)], '-7076779637891379022': ['79', CallNode(function='Vec.create', type_params=None, args=['5421194833797665745', '-4508256874444039044'], kwargs=None)], '-5215619941607487754': ['80', CallNode(function='Module.create', type_params=None, args=['-424107799521709043', '-7076779637891379022'], kwargs=None)], '-2530181125066790651': ['86', PrimitiveNode(type='FunctionType', repr=\"<<class 'llvmlite.ir.types.FunctionType'> i32 (i32)>\")], '-7263973834178992120': ['4', CallNode(function='FunctionType.box', type_params=None, args=['-2530181125066790651'], kwargs=None)], '2344994167609848606': ['12', CallNode(function='FunctionReference.create', type_params=None, args=['-424107799521709043', '-7263973834178992120', '5799176543409540157', '-2218667964914708590'], kwargs=None)], '-5315029002418119462': ['21', CallNode(function='Builder.call', type_params=None, args=['6972767924978272572', '2344994167609848606', '-1467050966907058980'], kwargs=None)], '4718465647369129364': ['22', CallNode(function='BuilderValue.builder', type_params=None, args=['-5315029002418119462'], kwargs=None)], '-7469907385352286727': ['23', CallNode(function='BuilderValue.value', type_params=None, args=['-5315029002418119462'], kwargs=None)], '4802841266173920192': ['24', CallNode(function='Builder.ret', type_params=None, args=['4718465647369129364', '-7469907385352286727'], kwargs=None)], '1601013697105103284': ['25', CallNode(function='Block.create', type_params=None, args=['-4935380922796875345', '4802841266173920192'], kwargs=None)], '-818397503285180464': ['26', CallNode(function='Vec.create', type_params=None, args=['1601013697105103284'], kwargs=None)], '848402829224272350': ['27', CallNode(function='Function.create', type_params=None, args=['2431316751667786439', '-818397503285180464'], kwargs=None)], '1398927603848971634': ['28', CallNode(function='BlockReference.create', type_params=None, args=['5491443378380398499', '2344994167609848606'], kwargs=None)], '-7941681192083442457': ['29', CallNode(function='Builder.create', type_params=None, args=['1398927603848971634'], kwargs=None)], '844662011244408746': ['31', CallNode(function='FunctionReference.arguments', type_params=None, args=['2344994167609848606'], kwargs=None)], '-6238072752457677696': ['32', CallNode(function='Vec.__getitem__', type_params={'T': DeclaredTypeInstance(type='Value', params=None)}, args=['844662011244408746', '5826203169465493872'], kwargs=None)], '-7952210461455330389': ['33', CallNode(function='Builder.icmp_signed', type_params=None, args=['-7941681192083442457', '-701153403785351207', '-6238072752457677696', '-4503328218805277900'], kwargs=None)], '-2511322941946445116': ['34', CallNode(function='BuilderValue.builder', type_params=None, args=['-7952210461455330389'], kwargs=None)], '-7334851919981011991': ['35', CallNode(function='BuilderValue.value', type_params=None, args=['-7952210461455330389'], kwargs=None)], '1383769678918467604': ['37', CallNode(function='BlockReference.create', type_params=None, args=['-7789607736657979854', '2344994167609848606'], kwargs=None)], '-4994534463712488802': ['39', CallNode(function='BlockReference.create', type_params=None, args=['-4702483690705946645', '2344994167609848606'], kwargs=None)], '8505578814924988538': ['40', CallNode(function='Builder.cbranch', type_params=None, args=['-2511322941946445116', '-7334851919981011991', '1383769678918467604', '-4994534463712488802'], kwargs=None)], '-6055079442112241062': ['41', CallNode(function='Block.create', type_params=None, args=['1398927603848971634', '8505578814924988538'], kwargs=None)], '5920422676185840569': ['42', CallNode(function='Builder.create', type_params=None, args=['1383769678918467604'], kwargs=None)], '-5062813429048412432': ['43', CallNode(function='Builder.sub', type_params=None, args=['5920422676185840569', '-6238072752457677696', '-4503328218805277900'], kwargs=None)], '-1826154931236931318': ['44', CallNode(function='BuilderValue.builder', type_params=None, args=['-5062813429048412432'], kwargs=None)], '5897677314082350795': ['46', CallNode(function='Vec.__getitem__', type_params={'T': DeclaredTypeInstance(type='Value', params=None)}, args=['844662011244408746', '6857461487267714753'], kwargs=None)], '1267546901672136319': ['49', CallNode(function='Vec.__getitem__', type_params={'T': DeclaredTypeInstance(type='Value', params=None)}, args=['844662011244408746', '-8087392358875293566'], kwargs=None)], '-7115910640026430657': ['50', CallNode(function='Builder.add', type_params=None, args=['-1826154931236931318', '5897677314082350795', '1267546901672136319'], kwargs=None)], '4115568888786875216': ['51', CallNode(function='BuilderValue.builder', type_params=None, args=['-7115910640026430657'], kwargs=None)], '-6294729363372135577': ['52', CallNode(function='BuilderValue.value', type_params=None, args=['-5062813429048412432'], kwargs=None)], '105842644840019805': ['53', CallNode(function='BuilderValue.value', type_params=None, args=['-7115910640026430657'], kwargs=None)], '8144870077040741239': ['54', CallNode(function='Vec.create', type_params=None, args=['-6294729363372135577', '1267546901672136319', '105842644840019805'], kwargs=None)], '-9075085435520422762': ['55', CallNode(function='Builder.call', type_params=None, args=['4115568888786875216', '2344994167609848606', '8144870077040741239'], kwargs=None)], '-7612556399054225453': ['56', CallNode(function='BuilderValue.builder', type_params=None, args=['-9075085435520422762'], kwargs=None)], '4500923072219795086': ['57', CallNode(function='BuilderValue.value', type_params=None, args=['-9075085435520422762'], kwargs=None)], '-8469626120638515063': ['58', CallNode(function='Builder.ret', type_params=None, args=['-7612556399054225453', '4500923072219795086'], kwargs=None)], '-366570978888575715': ['59', CallNode(function='Block.create', type_params=None, args=['1383769678918467604', '-8469626120638515063'], kwargs=None)], '-8507536624015677439': ['60', CallNode(function='Builder.create', type_params=None, args=['-4994534463712488802'], kwargs=None)], '5221623450350414360': ['62', CallNode(function='Builder.icmp_signed', type_params=None, args=['-8507536624015677439', '-8396387257036249845', '-6238072752457677696', '-4503328218805277900'], kwargs=None)], '-3431751032098019202': ['63', CallNode(function='BuilderValue.builder', type_params=None, args=['5221623450350414360'], kwargs=None)], '-76866558393513085': ['64', CallNode(function='BuilderValue.value', type_params=None, args=['5221623450350414360'], kwargs=None)], '2874276183975587589': ['66', CallNode(function='BlockReference.create', type_params=None, args=['7982613573155093435', '2344994167609848606'], kwargs=None)], '8314918235855671303': ['68', CallNode(function='BlockReference.create', type_params=None, args=['3301913151602160367', '2344994167609848606'], kwargs=None)], '-6693188406725635063': ['69', CallNode(function='Builder.cbranch', type_params=None, args=['-3431751032098019202', '-76866558393513085', '2874276183975587589', '8314918235855671303'], kwargs=None)], '1468403500668398786': ['70', CallNode(function='Block.create', type_params=None, args=['-4994534463712488802', '-6693188406725635063'], kwargs=None)], '7146838749292868563': ['71', CallNode(function='Builder.create', type_params=None, args=['2874276183975587589'], kwargs=None)], '7151919999179239715': ['72', CallNode(function='Builder.ret', type_params=None, args=['7146838749292868563', '1267546901672136319'], kwargs=None)], '-3534201144602506561': ['73', CallNode(function='Block.create', type_params=None, args=['2874276183975587589', '7151919999179239715'], kwargs=None)], '-7400609520126342689': ['74', CallNode(function='Builder.create', type_params=None, args=['8314918235855671303'], kwargs=None)], '3646729188545508687': ['75', CallNode(function='Builder.ret', type_params=None, args=['-7400609520126342689', '5897677314082350795'], kwargs=None)], '7536951269337439993': ['76', CallNode(function='Block.create', type_params=None, args=['8314918235855671303', '3646729188545508687'], kwargs=None)], '-932780066998274913': ['77', CallNode(function='Vec.create', type_params=None, args=['-6055079442112241062', '-366570978888575715', '1468403500668398786', '-3534201144602506561', '7536951269337439993'], kwargs=None)], '-4722925547153820720': ['78', CallNode(function='Function.create', type_params=None, args=['2344994167609848606', '-932780066998274913'], kwargs=None)], '1315720641587739000': ['79', CallNode(function='Vec.create', type_params=None, args=['848402829224272350', '-4722925547153820720'], kwargs=None)], '3588930102186967531': ['80', CallNode(function='Module.create', type_params=None, args=['-424107799521709043', '1315720641587739000'], kwargs=None)], '8032618064138719415': ['6', CallNode(function='FunctionReference.create', type_params=None, args=['-424107799521709043', '-7263973834178992120', '-7456460749910392891', '-2218667964914708590'], kwargs=None)], '4810350872164342885': ['8', CallNode(function='BlockReference.create', type_params=None, args=['5491443378380398499', '8032618064138719415'], kwargs=None)], '-6129254869957554482': ['9', CallNode(function='Builder.create', type_params=None, args=['4810350872164342885'], kwargs=None)], '-507717626669752221': ['13', CallNode(function='FunctionReference.arguments', type_params=None, args=['8032618064138719415'], kwargs=None)], '5250232615315848509': ['16', CallNode(function='Vec.__getitem__', type_params={'T': DeclaredTypeInstance(type='Value', params=None)}, args=['-507717626669752221', '5826203169465493872'], kwargs=None)], '-3592857499420023531': ['20', CallNode(function='Vec.create', type_params=None, args=['5250232615315848509', '-8516188366979267844', '-4503328218805277900'], kwargs=None)], '-8800473459394627893': ['21', CallNode(function='Builder.call', type_params=None, args=['-6129254869957554482', '2344994167609848606', '-3592857499420023531'], kwargs=None)], '-8302986010807579420': ['22', CallNode(function='BuilderValue.builder', type_params=None, args=['-8800473459394627893'], kwargs=None)], '-2574359400594756535': ['23', CallNode(function='BuilderValue.value', type_params=None, args=['-8800473459394627893'], kwargs=None)], '9198229045246084037': ['24', CallNode(function='Builder.ret', type_params=None, args=['-8302986010807579420', '-2574359400594756535'], kwargs=None)], '59830864974982380': ['25', CallNode(function='Block.create', type_params=None, args=['4810350872164342885', '9198229045246084037'], kwargs=None)], '-806462833338946072': ['26', CallNode(function='Vec.create', type_params=None, args=['59830864974982380'], kwargs=None)], '2538670396240248420': ['27', CallNode(function='Function.create', type_params=None, args=['8032618064138719415', '-806462833338946072'], kwargs=None)], '6545334719318011439': ['79', CallNode(function='Vec.create', type_params=None, args=['2538670396240248420', '-4722925547153820720'], kwargs=None)], '7859995635962102716': ['80', CallNode(function='Module.create', type_params=None, args=['-424107799521709043', '6545334719318011439'], kwargs=None)], '2803584503774889982': ['87', PrimitiveNode(type='Module', repr='; ModuleID = \"fib\"\\ntarget triple = \"unknown-unknown-unknown\"\\ntarget datalayout = \"\"\\n\\ndefine fastcc i32 @\"fib_more\"(i32 %\".1\") \\n{\\nn_neq_one:\\nn_eq_one:\\nnot_pred_cont:\\npred_cont:\\nentry:\\n}\\n\\ndefine fastcc i32 @\"fib\"(i32 %\".1\") \\n{\\nentry:\\n}\\n')], '-5863251465363744076': ['1', CallNode(function='ModuleReference.box', type_params=None, args=['2803584503774889982'], kwargs=None)], '-6063637073547534806': ['6', CallNode(function='FunctionReference.create', type_params=None, args=['-5863251465363744076', '-7263973834178992120', '-7456460749910392891', '-2218667964914708590'], kwargs=None)], '-8916153652757021617': ['8', CallNode(function='BlockReference.create', type_params=None, args=['5491443378380398499', '-6063637073547534806'], kwargs=None)], '8355091666781035345': ['9', CallNode(function='Builder.create', type_params=None, args=['-8916153652757021617'], kwargs=None)], '8512632523259241963': ['12', CallNode(function='FunctionReference.create', type_params=None, args=['-5863251465363744076', '-7263973834178992120', '5799176543409540157', '-2218667964914708590'], kwargs=None)], '-5838832992368376215': ['13', CallNode(function='FunctionReference.arguments', type_params=None, args=['-6063637073547534806'], kwargs=None)], '-5911494759980896135': ['16', CallNode(function='Vec.__getitem__', type_params={'T': DeclaredTypeInstance(type='Value', params=None)}, args=['-5838832992368376215', '5826203169465493872'], kwargs=None)], '-1305016929791594291': ['20', CallNode(function='Vec.create', type_params=None, args=['-5911494759980896135', '-8516188366979267844', '-4503328218805277900'], kwargs=None)], '4992257731889935849': ['21', CallNode(function='Builder.call', type_params=None, args=['8355091666781035345', '8512632523259241963', '-1305016929791594291'], kwargs=None)], '8521547166993777819': ['22', CallNode(function='BuilderValue.builder', type_params=None, args=['4992257731889935849'], kwargs=None)], '938711611628950982': ['23', CallNode(function='BuilderValue.value', type_params=None, args=['4992257731889935849'], kwargs=None)], '-5585359832309745080': ['24', CallNode(function='Builder.ret', type_params=None, args=['8521547166993777819', '938711611628950982'], kwargs=None)], '7420126182422093845': ['25', CallNode(function='Block.create', type_params=None, args=['-8916153652757021617', '-5585359832309745080'], kwargs=None)], '521861346958280364': ['26', CallNode(function='Vec.create', type_params=None, args=['7420126182422093845'], kwargs=None)], '8726172104102720298': ['27', CallNode(function='Function.create', type_params=None, args=['-6063637073547534806', '521861346958280364'], kwargs=None)], '2261874927112314025': ['28', CallNode(function='BlockReference.create', type_params=None, args=['5491443378380398499', '8512632523259241963'], kwargs=None)], '-2267363054949791952': ['29', CallNode(function='Builder.create', type_params=None, args=['2261874927112314025'], kwargs=None)], '4935116669440392551': ['31', CallNode(function='FunctionReference.arguments', type_params=None, args=['8512632523259241963'], kwargs=None)], '-847306742672392617': ['32', CallNode(function='Vec.__getitem__', type_params={'T': DeclaredTypeInstance(type='Value', params=None)}, args=['4935116669440392551', '5826203169465493872'], kwargs=None)], '-6253813085112650942': ['33', CallNode(function='Builder.icmp_signed', type_params=None, args=['-2267363054949791952', '-701153403785351207', '-847306742672392617', '-4503328218805277900'], kwargs=None)], '6964252029765262668': ['34', CallNode(function='BuilderValue.builder', type_params=None, args=['-6253813085112650942'], kwargs=None)], '-2298903136493057055': ['35', CallNode(function='BuilderValue.value', type_params=None, args=['-6253813085112650942'], kwargs=None)], '-1365518982054740957': ['37', CallNode(function='BlockReference.create', type_params=None, args=['-7789607736657979854', '8512632523259241963'], kwargs=None)], '8427324662095135445': ['39', CallNode(function='BlockReference.create', type_params=None, args=['-4702483690705946645', '8512632523259241963'], kwargs=None)], '3495282373535702274': ['40', CallNode(function='Builder.cbranch', type_params=None, args=['6964252029765262668', '-2298903136493057055', '-1365518982054740957', '8427324662095135445'], kwargs=None)], '-5885134666265700773': ['41', CallNode(function='Block.create', type_params=None, args=['2261874927112314025', '3495282373535702274'], kwargs=None)], '-9039673149580098046': ['42', CallNode(function='Builder.create', type_params=None, args=['-1365518982054740957'], kwargs=None)], '-3652726720868823675': ['43', CallNode(function='Builder.sub', type_params=None, args=['-9039673149580098046', '-847306742672392617', '-4503328218805277900'], kwargs=None)], '-5789710701966556248': ['44', CallNode(function='BuilderValue.builder', type_params=None, args=['-3652726720868823675'], kwargs=None)], '-4898111914275480036': ['46', CallNode(function='Vec.__getitem__', type_params={'T': DeclaredTypeInstance(type='Value', params=None)}, args=['4935116669440392551', '6857461487267714753'], kwargs=None)], '-7337830060135677464': ['49', CallNode(function='Vec.__getitem__', type_params={'T': DeclaredTypeInstance(type='Value', params=None)}, args=['4935116669440392551', '-8087392358875293566'], kwargs=None)], '4577299818178635042': ['50', CallNode(function='Builder.add', type_params=None, args=['-5789710701966556248', '-4898111914275480036', '-7337830060135677464'], kwargs=None)], '-6863444453876690749': ['51', CallNode(function='BuilderValue.builder', type_params=None, args=['4577299818178635042'], kwargs=None)], '4702744572623611653': ['52', CallNode(function='BuilderValue.value', type_params=None, args=['-3652726720868823675'], kwargs=None)], '-9117516929355610434': ['53', CallNode(function='BuilderValue.value', type_params=None, args=['4577299818178635042'], kwargs=None)], '-568762464848698047': ['54', CallNode(function='Vec.create', type_params=None, args=['4702744572623611653', '-7337830060135677464', '-9117516929355610434'], kwargs=None)], '-419449526076146358': ['55', CallNode(function='Builder.call', type_params=None, args=['-6863444453876690749', '8512632523259241963', '-568762464848698047'], kwargs=None)], '-5377486557617345714': ['56', CallNode(function='BuilderValue.builder', type_params=None, args=['-419449526076146358'], kwargs=None)], '3385139425123564947': ['57', CallNode(function='BuilderValue.value', type_params=None, args=['-419449526076146358'], kwargs=None)], '-6778540200318865156': ['58', CallNode(function='Builder.ret', type_params=None, args=['-5377486557617345714', '3385139425123564947'], kwargs=None)], '6282199083804630338': ['59', CallNode(function='Block.create', type_params=None, args=['-1365518982054740957', '-6778540200318865156'], kwargs=None)], '-4132082481132252299': ['60', CallNode(function='Builder.create', type_params=None, args=['8427324662095135445'], kwargs=None)], '-8685446463395474189': ['62', CallNode(function='Builder.icmp_signed', type_params=None, args=['-4132082481132252299', '-8396387257036249845', '-847306742672392617', '-4503328218805277900'], kwargs=None)], '-3909303935637339492': ['63', CallNode(function='BuilderValue.builder', type_params=None, args=['-8685446463395474189'], kwargs=None)], '6945457156140473713': ['64', CallNode(function='BuilderValue.value', type_params=None, args=['-8685446463395474189'], kwargs=None)], '-4247040748372597650': ['66', CallNode(function='BlockReference.create', type_params=None, args=['7982613573155093435', '8512632523259241963'], kwargs=None)], '5585756518760963816': ['68', CallNode(function='BlockReference.create', type_params=None, args=['3301913151602160367', '8512632523259241963'], kwargs=None)], '679500159107442891': ['69', CallNode(function='Builder.cbranch', type_params=None, args=['-3909303935637339492', '6945457156140473713', '-4247040748372597650', '5585756518760963816'], kwargs=None)], '841957634529044290': ['70', CallNode(function='Block.create', type_params=None, args=['8427324662095135445', '679500159107442891'], kwargs=None)], '7981566498712513916': ['71', CallNode(function='Builder.create', type_params=None, args=['-4247040748372597650'], kwargs=None)], '-5860874644379720012': ['72', CallNode(function='Builder.ret', type_params=None, args=['7981566498712513916', '-7337830060135677464'], kwargs=None)], '-6323563812379284924': ['73', CallNode(function='Block.create', type_params=None, args=['-4247040748372597650', '-5860874644379720012'], kwargs=None)], '-4777676679956504129': ['74', CallNode(function='Builder.create', type_params=None, args=['5585756518760963816'], kwargs=None)], '-2923370318896190781': ['75', CallNode(function='Builder.ret', type_params=None, args=['-4777676679956504129', '-4898111914275480036'], kwargs=None)], '6155948508460485815': ['76', CallNode(function='Block.create', type_params=None, args=['5585756518760963816', '-2923370318896190781'], kwargs=None)], '-3490555450895013004': ['77', CallNode(function='Vec.create', type_params=None, args=['-5885134666265700773', '6282199083804630338', '841957634529044290', '-6323563812379284924', '6155948508460485815'], kwargs=None)], '8467814789774953813': ['78', CallNode(function='Function.create', type_params=None, args=['8512632523259241963', '-3490555450895013004'], kwargs=None)], '-8311588819165357967': ['79', CallNode(function='Vec.create', type_params=None, args=['8726172104102720298', '8467814789774953813'], kwargs=None)], '7943632732658093686': ['80', CallNode(function='Module.create', type_params=None, args=['-5863251465363744076', '-8311588819165357967'], kwargs=None)], '-6418872629830796001': ['88', PrimitiveNode(type='Function', repr=\"<ir.Function 'fib_more' of type 'i32 (i32)*'>\")], '3759620696171104765': ['12', CallNode(function='FunctionReference.box', type_params=None, args=['-6418872629830796001'], kwargs=None)], '-1507083604338010919': ['21', CallNode(function='Builder.call', type_params=None, args=['8355091666781035345', '3759620696171104765', '-1305016929791594291'], kwargs=None)], '7586328221431842385': ['22', CallNode(function='BuilderValue.builder', type_params=None, args=['-1507083604338010919'], kwargs=None)], '63191626121762748': ['23', CallNode(function='BuilderValue.value', type_params=None, args=['-1507083604338010919'], kwargs=None)], '3427968376424528364': ['24', CallNode(function='Builder.ret', type_params=None, args=['7586328221431842385', '63191626121762748'], kwargs=None)], '8184344721902993536': ['25', CallNode(function='Block.create', type_params=None, args=['-8916153652757021617', '3427968376424528364'], kwargs=None)], '2841766696030494811': ['26', CallNode(function='Vec.create', type_params=None, args=['8184344721902993536'], kwargs=None)], '-4179302925957849158': ['27', CallNode(function='Function.create', type_params=None, args=['-6063637073547534806', '2841766696030494811'], kwargs=None)], '6114221760397073753': ['28', CallNode(function='BlockReference.create', type_params=None, args=['5491443378380398499', '3759620696171104765'], kwargs=None)], '4631873006171372826': ['29', CallNode(function='Builder.create', type_params=None, args=['6114221760397073753'], kwargs=None)], '-8562605227399397865': ['31', CallNode(function='FunctionReference.arguments', type_params=None, args=['3759620696171104765'], kwargs=None)], '-7586895345972319938': ['32', CallNode(function='Vec.__getitem__', type_params={'T': DeclaredTypeInstance(type='Value', params=None)}, args=['-8562605227399397865', '5826203169465493872'], kwargs=None)], '2481630019746106522': ['33', CallNode(function='Builder.icmp_signed', type_params=None, args=['4631873006171372826', '-701153403785351207', '-7586895345972319938', '-4503328218805277900'], kwargs=None)], '-9030331101364011989': ['34', CallNode(function='BuilderValue.builder', type_params=None, args=['2481630019746106522'], kwargs=None)], '-9193267899101977258': ['35', CallNode(function='BuilderValue.value', type_params=None, args=['2481630019746106522'], kwargs=None)], '-3605138750810768077': ['37', CallNode(function='BlockReference.create', type_params=None, args=['-7789607736657979854', '3759620696171104765'], kwargs=None)], '5510395094771320645': ['39', CallNode(function='BlockReference.create', type_params=None, args=['-4702483690705946645', '3759620696171104765'], kwargs=None)], '-2160327862373382821': ['40', CallNode(function='Builder.cbranch', type_params=None, args=['-9030331101364011989', '-9193267899101977258', '-3605138750810768077', '5510395094771320645'], kwargs=None)], '-3390122502313641587': ['41', CallNode(function='Block.create', type_params=None, args=['6114221760397073753', '-2160327862373382821'], kwargs=None)], '-1056674393888611545': ['42', CallNode(function='Builder.create', type_params=None, args=['-3605138750810768077'], kwargs=None)], '-602142444321603663': ['43', CallNode(function='Builder.sub', type_params=None, args=['-1056674393888611545', '-7586895345972319938', '-4503328218805277900'], kwargs=None)], '-290523986231092327': ['44', CallNode(function='BuilderValue.builder', type_params=None, args=['-602142444321603663'], kwargs=None)], '-3104122277052500111': ['46', CallNode(function='Vec.__getitem__', type_params={'T': DeclaredTypeInstance(type='Value', params=None)}, args=['-8562605227399397865', '6857461487267714753'], kwargs=None)], '-1208403252813101579': ['49', CallNode(function='Vec.__getitem__', type_params={'T': DeclaredTypeInstance(type='Value', params=None)}, args=['-8562605227399397865', '-8087392358875293566'], kwargs=None)], '-755145061738683903': ['50', CallNode(function='Builder.add', type_params=None, args=['-290523986231092327', '-3104122277052500111', '-1208403252813101579'], kwargs=None)], '11687601489821769': ['51', CallNode(function='BuilderValue.builder', type_params=None, args=['-755145061738683903'], kwargs=None)], '5204221990943048308': ['52', CallNode(function='BuilderValue.value', type_params=None, args=['-602142444321603663'], kwargs=None)], '7522303220591479012': ['53', CallNode(function='BuilderValue.value', type_params=None, args=['-755145061738683903'], kwargs=None)], '-2555198419429928266': ['54', CallNode(function='Vec.create', type_params=None, args=['5204221990943048308', '-1208403252813101579', '7522303220591479012'], kwargs=None)], '-310495772643795850': ['55', CallNode(function='Builder.call', type_params=None, args=['11687601489821769', '3759620696171104765', '-2555198419429928266'], kwargs=None)], '6903190857138403042': ['56', CallNode(function='BuilderValue.builder', type_params=None, args=['-310495772643795850'], kwargs=None)], '-7350161095783547729': ['57', CallNode(function='BuilderValue.value', type_params=None, args=['-310495772643795850'], kwargs=None)], '8726407186434229676': ['58', CallNode(function='Builder.ret', type_params=None, args=['6903190857138403042', '-7350161095783547729'], kwargs=None)], '8761783437877738752': ['59', CallNode(function='Block.create', type_params=None, args=['-3605138750810768077', '8726407186434229676'], kwargs=None)], '-8410728744120138066': ['60', CallNode(function='Builder.create', type_params=None, args=['5510395094771320645'], kwargs=None)], '-6968005056132880386': ['62', CallNode(function='Builder.icmp_signed', type_params=None, args=['-8410728744120138066', '-8396387257036249845', '-7586895345972319938', '-4503328218805277900'], kwargs=None)], '-4976348336067783413': ['63', CallNode(function='BuilderValue.builder', type_params=None, args=['-6968005056132880386'], kwargs=None)], '6994241790022786678': ['64', CallNode(function='BuilderValue.value', type_params=None, args=['-6968005056132880386'], kwargs=None)], '-8341448156534734626': ['66', CallNode(function='BlockReference.create', type_params=None, args=['7982613573155093435', '3759620696171104765'], kwargs=None)], '7952558790143574424': ['68', CallNode(function='BlockReference.create', type_params=None, args=['3301913151602160367', '3759620696171104765'], kwargs=None)], '-3466405919038755049': ['69', CallNode(function='Builder.cbranch', type_params=None, args=['-4976348336067783413', '6994241790022786678', '-8341448156534734626', '7952558790143574424'], kwargs=None)], '-8661984271761979774': ['70', CallNode(function='Block.create', type_params=None, args=['5510395094771320645', '-3466405919038755049'], kwargs=None)], '-8835457575462402662': ['71', CallNode(function='Builder.create', type_params=None, args=['-8341448156534734626'], kwargs=None)], '-3253223422185309780': ['72', CallNode(function='Builder.ret', type_params=None, args=['-8835457575462402662', '-1208403252813101579'], kwargs=None)], '-6311861459778674851': ['73', CallNode(function='Block.create', type_params=None, args=['-8341448156534734626', '-3253223422185309780'], kwargs=None)], '-4310142087015556902': ['74', CallNode(function='Builder.create', type_params=None, args=['7952558790143574424'], kwargs=None)], '308025295811776917': ['75', CallNode(function='Builder.ret', type_params=None, args=['-4310142087015556902', '-3104122277052500111'], kwargs=None)], '-2472138758353652129': ['76', CallNode(function='Block.create', type_params=None, args=['7952558790143574424', '308025295811776917'], kwargs=None)], '-2673000618745728201': ['77', CallNode(function='Vec.create', type_params=None, args=['-3390122502313641587', '8761783437877738752', '-8661984271761979774', '-6311861459778674851', '-2472138758353652129'], kwargs=None)], '3928375840821659730': ['78', CallNode(function='Function.create', type_params=None, args=['3759620696171104765', '-2673000618745728201'], kwargs=None)], '6557848020160712604': ['79', CallNode(function='Vec.create', type_params=None, args=['-4179302925957849158', '3928375840821659730'], kwargs=None)], '1588517885101401766': ['80', CallNode(function='Module.create', type_params=None, args=['-5863251465363744076', '6557848020160712604'], kwargs=None)], '2804371836508121557': ['89', PrimitiveNode(type='Block', repr=\"<ir.Block 'n_neq_one' of type 'label'>\")], '2388331674288667845': ['68', CallNode(function='BlockReference.box', type_params=None, args=['2804371836508121557'], kwargs=None)], '6194060957271833626': ['69', CallNode(function='Builder.cbranch', type_params=None, args=['-4976348336067783413', '6994241790022786678', '-8341448156534734626', '2388331674288667845'], kwargs=None)], '-3164713105171405776': ['70', CallNode(function='Block.create', type_params=None, args=['5510395094771320645', '6194060957271833626'], kwargs=None)], '7539632688287301139': ['74', CallNode(function='Builder.create', type_params=None, args=['2388331674288667845'], kwargs=None)], '680662044271480938': ['75', CallNode(function='Builder.ret', type_params=None, args=['7539632688287301139', '-3104122277052500111'], kwargs=None)], '-5498324352665298693': ['76', CallNode(function='Block.create', type_params=None, args=['2388331674288667845', '680662044271480938'], kwargs=None)], '-364581811248731568': ['77', CallNode(function='Vec.create', type_params=None, args=['-3390122502313641587', '8761783437877738752', '-3164713105171405776', '-6311861459778674851', '-5498324352665298693'], kwargs=None)], '-5530554682417340024': ['78', CallNode(function='Function.create', type_params=None, args=['3759620696171104765', '-364581811248731568'], kwargs=None)], '-366621983095472709': ['79', CallNode(function='Vec.create', type_params=None, args=['-4179302925957849158', '-5530554682417340024'], kwargs=None)], '-9037245658313396415': ['80', CallNode(function='Module.create', type_params=None, args=['-5863251465363744076', '-366621983095472709'], kwargs=None)], '2803933860151887757': ['90', PrimitiveNode(type='IRBuilder', repr='<llvmlite.ir.builder.IRBuilder object at 0x113b06f60>')], '-5273667091276364854': ['74', CallNode(function='Builder.box', type_params=None, args=['2803933860151887757'], kwargs=None)], '-3105113423431171676': ['75', CallNode(function='Builder.ret', type_params=None, args=['-5273667091276364854', '-3104122277052500111'], kwargs=None)], '4447711776544568136': ['76', CallNode(function='Block.create', type_params=None, args=['2388331674288667845', '-3105113423431171676'], kwargs=None)], '-8643329473364322688': ['77', CallNode(function='Vec.create', type_params=None, args=['-3390122502313641587', '8761783437877738752', '-3164713105171405776', '-6311861459778674851', '4447711776544568136'], kwargs=None)], '2970021489991081563': ['78', CallNode(function='Function.create', type_params=None, args=['3759620696171104765', '-8643329473364322688'], kwargs=None)], '-1142017280430779831': ['79', CallNode(function='Vec.create', type_params=None, args=['-4179302925957849158', '2970021489991081563'], kwargs=None)], '-8584054523089188037': ['80', CallNode(function='Module.create', type_params=None, args=['-5863251465363744076', '-1142017280430779831'], kwargs=None)], '2804371821925427282': ['91', PrimitiveNode(type='Block', repr=\"<ir.Block 'n_eq_one' of type 'label'>\")], '-2625391128411534220': ['66', CallNode(function='BlockReference.box', type_params=None, args=['2804371821925427282'], kwargs=None)], '-3051748648046534046': ['69', CallNode(function='Builder.cbranch', type_params=None, args=['-4976348336067783413', '6994241790022786678', '-2625391128411534220', '2388331674288667845'], kwargs=None)], '-4112775634287786241': ['70', CallNode(function='Block.create', type_params=None, args=['5510395094771320645', '-3051748648046534046'], kwargs=None)], '1154413953518116210': ['71', CallNode(function='Builder.create', type_params=None, args=['-2625391128411534220'], kwargs=None)], '-8300809386824080515': ['72', CallNode(function='Builder.ret', type_params=None, args=['1154413953518116210', '-1208403252813101579'], kwargs=None)], '1048736105780735602': ['73', CallNode(function='Block.create', type_params=None, args=['-2625391128411534220', '-8300809386824080515'], kwargs=None)], '-5724515568091167032': ['77', CallNode(function='Vec.create', type_params=None, args=['-3390122502313641587', '8761783437877738752', '-4112775634287786241', '1048736105780735602', '4447711776544568136'], kwargs=None)], '-2369456404739411198': ['78', CallNode(function='Function.create', type_params=None, args=['3759620696171104765', '-5724515568091167032'], kwargs=None)], '-5095542717292746214': ['79', CallNode(function='Vec.create', type_params=None, args=['-4179302925957849158', '-2369456404739411198'], kwargs=None)], '-1247420547727320124': ['80', CallNode(function='Module.create', type_params=None, args=['-5863251465363744076', '-5095542717292746214'], kwargs=None)], '2803933845613577007': ['92', PrimitiveNode(type='IRBuilder', repr='<llvmlite.ir.builder.IRBuilder object at 0x113b5b080>')], '-8725932881043408772': ['71', CallNode(function='Builder.box', type_params=None, args=['2803933845613577007'], kwargs=None)], '-3694562681463917802': ['72', CallNode(function='Builder.ret', type_params=None, args=['-8725932881043408772', '-1208403252813101579'], kwargs=None)], '1492868732092870071': ['73', CallNode(function='Block.create', type_params=None, args=['-2625391128411534220', '-3694562681463917802'], kwargs=None)], '7359861951453753969': ['77', CallNode(function='Vec.create', type_params=None, args=['-3390122502313641587', '8761783437877738752', '-4112775634287786241', '1492868732092870071', '4447711776544568136'], kwargs=None)], '3977875307350079036': ['78', CallNode(function='Function.create', type_params=None, args=['3759620696171104765', '7359861951453753969'], kwargs=None)], '7025055079428731142': ['79', CallNode(function='Vec.create', type_params=None, args=['-4179302925957849158', '3977875307350079036'], kwargs=None)], '-3397941578118904069': ['80', CallNode(function='Module.create', type_params=None, args=['-5863251465363744076', '7025055079428731142'], kwargs=None)], '2804371779114811107': ['93', PrimitiveNode(type='Block', repr=\"<ir.Block 'not_pred_cont' of type 'label'>\")], '-8131894153201210641': ['39', CallNode(function='BlockReference.box', type_params=None, args=['2804371779114811107'], kwargs=None)], '-6576287900415085008': ['40', CallNode(function='Builder.cbranch', type_params=None, args=['-9030331101364011989', '-9193267899101977258', '-3605138750810768077', '-8131894153201210641'], kwargs=None)], '-4106886528679346298': ['41', CallNode(function='Block.create', type_params=None, args=['6114221760397073753', '-6576287900415085008'], kwargs=None)], '4059729760934624113': ['60', CallNode(function='Builder.create', type_params=None, args=['-8131894153201210641'], kwargs=None)], '3090516498281701349': ['62', CallNode(function='Builder.icmp_signed', type_params=None, args=['4059729760934624113', '-8396387257036249845', '-7586895345972319938', '-4503328218805277900'], kwargs=None)], '-5474617982306189966': ['63', CallNode(function='BuilderValue.builder', type_params=None, args=['3090516498281701349'], kwargs=None)], '-5982825566004672385': ['64', CallNode(function='BuilderValue.value', type_params=None, args=['3090516498281701349'], kwargs=None)], '-6700849824927615207': ['69', CallNode(function='Builder.cbranch', type_params=None, args=['-5474617982306189966', '-5982825566004672385', '-2625391128411534220', '2388331674288667845'], kwargs=None)], '-8530261309489434942': ['70', CallNode(function='Block.create', type_params=None, args=['-8131894153201210641', '-6700849824927615207'], kwargs=None)], '-6726504665251486447': ['77', CallNode(function='Vec.create', type_params=None, args=['-4106886528679346298', '8761783437877738752', '-8530261309489434942', '1492868732092870071', '4447711776544568136'], kwargs=None)], '6331388425618265137': ['78', CallNode(function='Function.create', type_params=None, args=['3759620696171104765', '-6726504665251486447'], kwargs=None)], '8725542337041331324': ['79', CallNode(function='Vec.create', type_params=None, args=['-4179302925957849158', '6331388425618265137'], kwargs=None)], '8747048252637173133': ['80', CallNode(function='Module.create', type_params=None, args=['-5863251465363744076', '8725542337041331324'], kwargs=None)], '-6419438176751601676': ['94', PrimitiveNode(type='IRBuilder', repr='<llvmlite.ir.builder.IRBuilder object at 0x113b06c18>')], '-9072713140817617498': ['60', CallNode(function='Builder.box', type_params=None, args=['-6419438176751601676'], kwargs=None)], '-3086121045734832810': ['62', CallNode(function='Builder.icmp_signed', type_params=None, args=['-9072713140817617498', '-8396387257036249845', '-7586895345972319938', '-4503328218805277900'], kwargs=None)], '6708661490920029573': ['63', CallNode(function='BuilderValue.builder', type_params=None, args=['-3086121045734832810'], kwargs=None)], '-5970486806866026200': ['64', CallNode(function='BuilderValue.value', type_params=None, args=['-3086121045734832810'], kwargs=None)], '8988524772628916751': ['69', CallNode(function='Builder.cbranch', type_params=None, args=['6708661490920029573', '-5970486806866026200', '-2625391128411534220', '2388331674288667845'], kwargs=None)], '2522044848292781889': ['70', CallNode(function='Block.create', type_params=None, args=['-8131894153201210641', '8988524772628916751'], kwargs=None)], '-729765891069256672': ['77', CallNode(function='Vec.create', type_params=None, args=['-4106886528679346298', '8761783437877738752', '2522044848292781889', '1492868732092870071', '4447711776544568136'], kwargs=None)], '7835598718653011640': ['78', CallNode(function='Function.create', type_params=None, args=['3759620696171104765', '-729765891069256672'], kwargs=None)], '-6059103855502177372': ['79', CallNode(function='Vec.create', type_params=None, args=['-4179302925957849158', '7835598718653011640'], kwargs=None)], '4053530909008044866': ['80', CallNode(function='Module.create', type_params=None, args=['-5863251465363744076', '-6059103855502177372'], kwargs=None)], '-6419001358190496176': ['95', PrimitiveNode(type='Block', repr=\"<ir.Block 'pred_cont' of type 'label'>\")], '-7554146791929914131': ['37', CallNode(function='BlockReference.box', type_params=None, args=['-6419001358190496176'], kwargs=None)], '-8189219455210413256': ['40', CallNode(function='Builder.cbranch', type_params=None, args=['-9030331101364011989', '-9193267899101977258', '-7554146791929914131', '-8131894153201210641'], kwargs=None)], '-2878207925370415361': ['41', CallNode(function='Block.create', type_params=None, args=['6114221760397073753', '-8189219455210413256'], kwargs=None)], '-4863185777569571905': ['42', CallNode(function='Builder.create', type_params=None, args=['-7554146791929914131'], kwargs=None)], '-768781226318240937': ['43', CallNode(function='Builder.sub', type_params=None, args=['-4863185777569571905', '-7586895345972319938', '-4503328218805277900'], kwargs=None)], '-8461510553195014289': ['44', CallNode(function='BuilderValue.builder', type_params=None, args=['-768781226318240937'], kwargs=None)], '1986781869558750710': ['50', CallNode(function='Builder.add', type_params=None, args=['-8461510553195014289', '-3104122277052500111', '-1208403252813101579'], kwargs=None)], '-7391557083076970398': ['51', CallNode(function='BuilderValue.builder', type_params=None, args=['1986781869558750710'], kwargs=None)], '-855326892762407006': ['52', CallNode(function='BuilderValue.value', type_params=None, args=['-768781226318240937'], kwargs=None)], '-5917719594550932689': ['53', CallNode(function='BuilderValue.value', type_params=None, args=['1986781869558750710'], kwargs=None)], '-2543388997185115692': ['54', CallNode(function='Vec.create', type_params=None, args=['-855326892762407006', '-1208403252813101579', '-5917719594550932689'], kwargs=None)], '-4783433649907111178': ['55', CallNode(function='Builder.call', type_params=None, args=['-7391557083076970398', '3759620696171104765', '-2543388997185115692'], kwargs=None)], '8703471137579163448': ['56', CallNode(function='BuilderValue.builder', type_params=None, args=['-4783433649907111178'], kwargs=None)], '-25094066531026219': ['57', CallNode(function='BuilderValue.value', type_params=None, args=['-4783433649907111178'], kwargs=None)], '-8348912664040529440': ['58', CallNode(function='Builder.ret', type_params=None, args=['8703471137579163448', '-25094066531026219'], kwargs=None)], '8235103918602961154': ['59', CallNode(function='Block.create', type_params=None, args=['-7554146791929914131', '-8348912664040529440'], kwargs=None)], '4048443859979610821': ['77', CallNode(function='Vec.create', type_params=None, args=['-2878207925370415361', '8235103918602961154', '2522044848292781889', '1492868732092870071', '4447711776544568136'], kwargs=None)], '-125017120603586814': ['78', CallNode(function='Function.create', type_params=None, args=['3759620696171104765', '4048443859979610821'], kwargs=None)], '-6251888540470381961': ['79', CallNode(function='Vec.create', type_params=None, args=['-4179302925957849158', '-125017120603586814'], kwargs=None)], '1036889073031414623': ['80', CallNode(function='Module.create', type_params=None, args=['-5863251465363744076', '-6251888540470381961'], kwargs=None)], '2803933824810694082': ['96', PrimitiveNode(type='IRBuilder', repr='<llvmlite.ir.builder.IRBuilder object at 0x113b867f0>')], '3734538618831694019': ['42', CallNode(function='Builder.box', type_params=None, args=['2803933824810694082'], kwargs=None)], '-6262304163453874840': ['43', CallNode(function='Builder.sub', type_params=None, args=['3734538618831694019', '-7586895345972319938', '-4503328218805277900'], kwargs=None)], '-3922878427587142414': ['44', CallNode(function='BuilderValue.builder', type_params=None, args=['-6262304163453874840'], kwargs=None)], '-1467544751147466359': ['50', CallNode(function='Builder.add', type_params=None, args=['-3922878427587142414', '-3104122277052500111', '-1208403252813101579'], kwargs=None)], '7398810500473939937': ['51', CallNode(function='BuilderValue.builder', type_params=None, args=['-1467544751147466359'], kwargs=None)], '1299708758371203839': ['52', CallNode(function='BuilderValue.value', type_params=None, args=['-6262304163453874840'], kwargs=None)], '2981506962863595852': ['53', CallNode(function='BuilderValue.value', type_params=None, args=['-1467544751147466359'], kwargs=None)], '3567042750633760607': ['54', CallNode(function='Vec.create', type_params=None, args=['1299708758371203839', '-1208403252813101579', '2981506962863595852'], kwargs=None)], '-232779740158387034': ['55', CallNode(function='Builder.call', type_params=None, args=['7398810500473939937', '3759620696171104765', '3567042750633760607'], kwargs=None)], '670736802080096690': ['56', CallNode(function='BuilderValue.builder', type_params=None, args=['-232779740158387034'], kwargs=None)], '9089730270529233599': ['57', CallNode(function='BuilderValue.value', type_params=None, args=['-232779740158387034'], kwargs=None)], '-119907583227421664': ['58', CallNode(function='Builder.ret', type_params=None, args=['670736802080096690', '9089730270529233599'], kwargs=None)], '-1484110505422834743': ['59', CallNode(function='Block.create', type_params=None, args=['-7554146791929914131', '-119907583227421664'], kwargs=None)], '-2408756898482392607': ['77', CallNode(function='Vec.create', type_params=None, args=['-2878207925370415361', '-1484110505422834743', '2522044848292781889', '1492868732092870071', '4447711776544568136'], kwargs=None)], '8565205982425275128': ['78', CallNode(function='Function.create', type_params=None, args=['3759620696171104765', '-2408756898482392607'], kwargs=None)], '3437172283705764964': ['79', CallNode(function='Vec.create', type_params=None, args=['-4179302925957849158', '8565205982425275128'], kwargs=None)], '-3631612917630966193': ['80', CallNode(function='Module.create', type_params=None, args=['-5863251465363744076', '3437172283705764964'], kwargs=None)], '2804214105346466182': ['97', PrimitiveNode(type='Argument', repr=\"<ir.Argument '.1' of type i32>\")], '-55014802575822622': ['98', CallNode(function='Value.box', type_params=None, args=['2804214105346466182'], kwargs=None)], '-6731312685234086130': ['31', CallNode(function='Vec.create', type_params=None, args=['-55014802575822622'], kwargs=None)], '-7876416751872209578': ['32', CallNode(function='Vec.__getitem__', type_params={'T': DeclaredTypeInstance(type='Value', params=None)}, args=['-6731312685234086130', '5826203169465493872'], kwargs=None)], '4951474847665383474': ['33', CallNode(function='Builder.icmp_signed', type_params=None, args=['4631873006171372826', '-701153403785351207', '-7876416751872209578', '-4503328218805277900'], kwargs=None)], '-735549075478802440': ['34', CallNode(function='BuilderValue.builder', type_params=None, args=['4951474847665383474'], kwargs=None)], '-9133796648958598251': ['35', CallNode(function='BuilderValue.value', type_params=None, args=['4951474847665383474'], kwargs=None)], '-1612584447858619403': ['40', CallNode(function='Builder.cbranch', type_params=None, args=['-735549075478802440', '-9133796648958598251', '-7554146791929914131', '-8131894153201210641'], kwargs=None)], '-2069480539582482497': ['41', CallNode(function='Block.create', type_params=None, args=['6114221760397073753', '-1612584447858619403'], kwargs=None)], '2278561178655234176': ['43', CallNode(function='Builder.sub', type_params=None, args=['3734538618831694019', '-7876416751872209578', '-4503328218805277900'], kwargs=None)], '7117959272519525388': ['44', CallNode(function='BuilderValue.builder', type_params=None, args=['2278561178655234176'], kwargs=None)], '3890202027915081257': ['46', CallNode(function='Vec.__getitem__', type_params={'T': DeclaredTypeInstance(type='Value', params=None)}, args=['-6731312685234086130', '6857461487267714753'], kwargs=None)], '-8403067893579569411': ['49', CallNode(function='Vec.__getitem__', type_params={'T': DeclaredTypeInstance(type='Value', params=None)}, args=['-6731312685234086130', '-8087392358875293566'], kwargs=None)], '8978435646966115996': ['50', CallNode(function='Builder.add', type_params=None, args=['7117959272519525388', '3890202027915081257', '-8403067893579569411'], kwargs=None)], '1670090168757237959': ['51', CallNode(function='BuilderValue.builder', type_params=None, args=['8978435646966115996'], kwargs=None)], '5375546503057827489': ['52', CallNode(function='BuilderValue.value', type_params=None, args=['2278561178655234176'], kwargs=None)], '-7857652469034892502': ['53', CallNode(function='BuilderValue.value', type_params=None, args=['8978435646966115996'], kwargs=None)], '-5548743937225419998': ['54', CallNode(function='Vec.create', type_params=None, args=['5375546503057827489', '-8403067893579569411', '-7857652469034892502'], kwargs=None)], '5515561171522084111': ['55', CallNode(function='Builder.call', type_params=None, args=['1670090168757237959', '3759620696171104765', '-5548743937225419998'], kwargs=None)], '356789902609213433': ['56', CallNode(function='BuilderValue.builder', type_params=None, args=['5515561171522084111'], kwargs=None)], '-6444852415974762604': ['57', CallNode(function='BuilderValue.value', type_params=None, args=['5515561171522084111'], kwargs=None)], '-3342600715786557633': ['58', CallNode(function='Builder.ret', type_params=None, args=['356789902609213433', '-6444852415974762604'], kwargs=None)], '8710788760881750675': ['59', CallNode(function='Block.create', type_params=None, args=['-7554146791929914131', '-3342600715786557633'], kwargs=None)], '2025109020594015294': ['62', CallNode(function='Builder.icmp_signed', type_params=None, args=['-9072713140817617498', '-8396387257036249845', '-7876416751872209578', '-4503328218805277900'], kwargs=None)], '5807255699843374650': ['63', CallNode(function='BuilderValue.builder', type_params=None, args=['2025109020594015294'], kwargs=None)], '8005378988303750871': ['64', CallNode(function='BuilderValue.value', type_params=None, args=['2025109020594015294'], kwargs=None)], '-7489029677424563098': ['69', CallNode(function='Builder.cbranch', type_params=None, args=['5807255699843374650', '8005378988303750871', '-2625391128411534220', '2388331674288667845'], kwargs=None)], '-7554995070431152578': ['70', CallNode(function='Block.create', type_params=None, args=['-8131894153201210641', '-7489029677424563098'], kwargs=None)], '5083178634528334295': ['72', CallNode(function='Builder.ret', type_params=None, args=['-8725932881043408772', '-8403067893579569411'], kwargs=None)], '-3439834427357429885': ['73', CallNode(function='Block.create', type_params=None, args=['-2625391128411534220', '5083178634528334295'], kwargs=None)], '-8303026001577031702': ['75', CallNode(function='Builder.ret', type_params=None, args=['-5273667091276364854', '3890202027915081257'], kwargs=None)], '4955211339569692948': ['76', CallNode(function='Block.create', type_params=None, args=['2388331674288667845', '-8303026001577031702'], kwargs=None)], '-8359243092693022678': ['77', CallNode(function='Vec.create', type_params=None, args=['-2069480539582482497', '8710788760881750675', '-7554995070431152578', '-3439834427357429885', '4955211339569692948'], kwargs=None)], '-4017554304514688279': ['78', CallNode(function='Function.create', type_params=None, args=['3759620696171104765', '-8359243092693022678'], kwargs=None)], '-1047961877592049211': ['79', CallNode(function='Vec.create', type_params=None, args=['-4179302925957849158', '-4017554304514688279'], kwargs=None)], '-2122759945626282449': ['80', CallNode(function='Module.create', type_params=None, args=['-5863251465363744076', '-1047961877592049211'], kwargs=None)], '2804370749828390607': ['99', PrimitiveNode(type='Block', repr=\"<ir.Block 'entry' of type 'label'>\")], '-6706323432204403429': ['28', CallNode(function='BlockReference.box', type_params=None, args=['2804370749828390607'], kwargs=None)], '-8437293734178115648': ['29', CallNode(function='Builder.create', type_params=None, args=['-6706323432204403429'], kwargs=None)], '5716060950529071325': ['33', CallNode(function='Builder.icmp_signed', type_params=None, args=['-8437293734178115648', '-701153403785351207', '-7876416751872209578', '-4503328218805277900'], kwargs=None)], '3798014044230402951': ['34', CallNode(function='BuilderValue.builder', type_params=None, args=['5716060950529071325'], kwargs=None)], '-2895874695995555606': ['35', CallNode(function='BuilderValue.value', type_params=None, args=['5716060950529071325'], kwargs=None)], '-9202019658654030790': ['40', CallNode(function='Builder.cbranch', type_params=None, args=['3798014044230402951', '-2895874695995555606', '-7554146791929914131', '-8131894153201210641'], kwargs=None)], '7052076051960097431': ['41', CallNode(function='Block.create', type_params=None, args=['-6706323432204403429', '-9202019658654030790'], kwargs=None)], '-6525804739908506929': ['77', CallNode(function='Vec.create', type_params=None, args=['7052076051960097431', '8710788760881750675', '-7554995070431152578', '-3439834427357429885', '4955211339569692948'], kwargs=None)], '-2629522877711088309': ['78', CallNode(function='Function.create', type_params=None, args=['3759620696171104765', '-6525804739908506929'], kwargs=None)], '6787751899374579679': ['79', CallNode(function='Vec.create', type_params=None, args=['-4179302925957849158', '-2629522877711088309'], kwargs=None)], '282414670136991091': ['80', CallNode(function='Module.create', type_params=None, args=['-5863251465363744076', '6787751899374579679'], kwargs=None)], '-6419439823930301876': ['100', PrimitiveNode(type='IRBuilder', repr='<llvmlite.ir.builder.IRBuilder object at 0x112c5e898>')], '482598574284772462': ['29', CallNode(function='Builder.box', type_params=None, args=['-6419439823930301876'], kwargs=None)], '-4744366957252542044': ['33', CallNode(function='Builder.icmp_signed', type_params=None, args=['482598574284772462', '-701153403785351207', '-7876416751872209578', '-4503328218805277900'], kwargs=None)], '3157252207984072726': ['34', CallNode(function='BuilderValue.builder', type_params=None, args=['-4744366957252542044'], kwargs=None)], '4134309916638395371': ['35', CallNode(function='BuilderValue.value', type_params=None, args=['-4744366957252542044'], kwargs=None)], '2089973462548449794': ['40', CallNode(function='Builder.cbranch', type_params=None, args=['3157252207984072726', '4134309916638395371', '-7554146791929914131', '-8131894153201210641'], kwargs=None)], '4405213633792942384': ['41', CallNode(function='Block.create', type_params=None, args=['-6706323432204403429', '2089973462548449794'], kwargs=None)], '5912817150587741372': ['77', CallNode(function='Vec.create', type_params=None, args=['4405213633792942384', '8710788760881750675', '-7554995070431152578', '-3439834427357429885', '4955211339569692948'], kwargs=None)], '-3674549522204652614': ['78', CallNode(function='Function.create', type_params=None, args=['3759620696171104765', '5912817150587741372'], kwargs=None)], '-6098961763406362062': ['79', CallNode(function='Vec.create', type_params=None, args=['-4179302925957849158', '-3674549522204652614'], kwargs=None)], '1872542797196807292': ['80', CallNode(function='Module.create', type_params=None, args=['-5863251465363744076', '-6098961763406362062'], kwargs=None)], '2804500559221371332': ['101', PrimitiveNode(type='Function', repr=\"<ir.Function 'fib' of type 'i32 (i32)*'>\")], '-2395391573167221195': ['6', CallNode(function='FunctionReference.box', type_params=None, args=['2804500559221371332'], kwargs=None)], '6173115947400151947': ['8', CallNode(function='BlockReference.create', type_params=None, args=['5491443378380398499', '-2395391573167221195'], kwargs=None)], '-1500864240650347364': ['9', CallNode(function='Builder.create', type_params=None, args=['6173115947400151947'], kwargs=None)], '5409715421272631445': ['13', CallNode(function='FunctionReference.arguments', type_params=None, args=['-2395391573167221195'], kwargs=None)], '1842017354665637449': ['16', CallNode(function='Vec.__getitem__', type_params={'T': DeclaredTypeInstance(type='Value', params=None)}, args=['5409715421272631445', '5826203169465493872'], kwargs=None)], '2694614345669677527': ['20', CallNode(function='Vec.create', type_params=None, args=['1842017354665637449', '-8516188366979267844', '-4503328218805277900'], kwargs=None)], '1550141514360553574': ['21', CallNode(function='Builder.call', type_params=None, args=['-1500864240650347364', '3759620696171104765', '2694614345669677527'], kwargs=None)], '4024519099824076786': ['22', CallNode(function='BuilderValue.builder', type_params=None, args=['1550141514360553574'], kwargs=None)], '-3324058972365216769': ['23', CallNode(function='BuilderValue.value', type_params=None, args=['1550141514360553574'], kwargs=None)], '4136299811107545153': ['24', CallNode(function='Builder.ret', type_params=None, args=['4024519099824076786', '-3324058972365216769'], kwargs=None)], '-4825711350982143468': ['25', CallNode(function='Block.create', type_params=None, args=['6173115947400151947', '4136299811107545153'], kwargs=None)], '-2095482627292842882': ['26', CallNode(function='Vec.create', type_params=None, args=['-4825711350982143468'], kwargs=None)], '-412991121623487552': ['27', CallNode(function='Function.create', type_params=None, args=['-2395391573167221195', '-2095482627292842882'], kwargs=None)], '-4005616463819871673': ['79', CallNode(function='Vec.create', type_params=None, args=['-412991121623487552', '-3674549522204652614'], kwargs=None)], '6519062708066150510': ['80', CallNode(function='Module.create', type_params=None, args=['-5863251465363744076', '-4005616463819871673'], kwargs=None)], '2804214127241616832': ['102', PrimitiveNode(type='Argument', repr=\"<ir.Argument '.1' of type i32>\")], '-769574915170258636': ['103', CallNode(function='Value.box', type_params=None, args=['2804214127241616832'], kwargs=None)], '-3073269490947664560': ['13', CallNode(function='Vec.create', type_params=None, args=['-769574915170258636'], kwargs=None)], '4199130204354364993': ['16', CallNode(function='Vec.__getitem__', type_params={'T': DeclaredTypeInstance(type='Value', params=None)}, args=['-3073269490947664560', '5826203169465493872'], kwargs=None)], '5445550517065305674': ['20', CallNode(function='Vec.create', type_params=None, args=['4199130204354364993', '-8516188366979267844', '-4503328218805277900'], kwargs=None)], '6975307885243937682': ['21', CallNode(function='Builder.call', type_params=None, args=['-1500864240650347364', '3759620696171104765', '5445550517065305674'], kwargs=None)], '5168739254636034373': ['22', CallNode(function='BuilderValue.builder', type_params=None, args=['6975307885243937682'], kwargs=None)], '1916447046459354088': ['23', CallNode(function='BuilderValue.value', type_params=None, args=['6975307885243937682'], kwargs=None)], '-8867398582960619837': ['24', CallNode(function='Builder.ret', type_params=None, args=['5168739254636034373', '1916447046459354088'], kwargs=None)], '3545748223694054206': ['25', CallNode(function='Block.create', type_params=None, args=['6173115947400151947', '-8867398582960619837'], kwargs=None)], '6872768544959663919': ['26', CallNode(function='Vec.create', type_params=None, args=['3545748223694054206'], kwargs=None)], '8342575562084900041': ['27', CallNode(function='Function.create', type_params=None, args=['-2395391573167221195', '6872768544959663919'], kwargs=None)], '264490996101318363': ['79', CallNode(function='Vec.create', type_params=None, args=['8342575562084900041', '-3674549522204652614'], kwargs=None)], '-7730370385404202015': ['80', CallNode(function='Module.create', type_params=None, args=['-5863251465363744076', '264490996101318363'], kwargs=None)], '2804370678779027282': ['104', PrimitiveNode(type='Block', repr=\"<ir.Block 'entry' of type 'label'>\")], '-529904640991214220': ['8', CallNode(function='BlockReference.box', type_params=None, args=['2804370678779027282'], kwargs=None)], '-5748215606991777127': ['9', CallNode(function='Builder.create', type_params=None, args=['-529904640991214220'], kwargs=None)], '41788677785482723': ['21', CallNode(function='Builder.call', type_params=None, args=['-5748215606991777127', '3759620696171104765', '5445550517065305674'], kwargs=None)], '8581711151895218691': ['22', CallNode(function='BuilderValue.builder', type_params=None, args=['41788677785482723'], kwargs=None)], '8604028121792169470': ['23', CallNode(function='BuilderValue.value', type_params=None, args=['41788677785482723'], kwargs=None)], '-3014130944990655283': ['24', CallNode(function='Builder.ret', type_params=None, args=['8581711151895218691', '8604028121792169470'], kwargs=None)], '6460904105747331827': ['25', CallNode(function='Block.create', type_params=None, args=['-529904640991214220', '-3014130944990655283'], kwargs=None)], '-9038498139143669683': ['26', CallNode(function='Vec.create', type_params=None, args=['6460904105747331827'], kwargs=None)], '1533403446866828516': ['27', CallNode(function='Function.create', type_params=None, args=['-2395391573167221195', '-9038498139143669683'], kwargs=None)], '6045125608671886787': ['79', CallNode(function='Vec.create', type_params=None, args=['1533403446866828516', '-3674549522204652614'], kwargs=None)], '-1042379618558744017': ['80', CallNode(function='Module.create', type_params=None, args=['-5863251465363744076', '6045125608671886787'], kwargs=None)], '2803932293546605832': ['105', PrimitiveNode(type='IRBuilder', repr='<llvmlite.ir.builder.IRBuilder object at 0x112d7bfd0>')], '557929673498030977': ['9', CallNode(function='Builder.box', type_params=None, args=['2803932293546605832'], kwargs=None)], '-8413008362799053611': ['21', CallNode(function='Builder.call', type_params=None, args=['557929673498030977', '3759620696171104765', '5445550517065305674'], kwargs=None)], '8270235524629832550': ['22', CallNode(function='BuilderValue.builder', type_params=None, args=['-8413008362799053611'], kwargs=None)], '-2501925320480528133': ['23', CallNode(function='BuilderValue.value', type_params=None, args=['-8413008362799053611'], kwargs=None)], '7035627694629011815': ['24', CallNode(function='Builder.ret', type_params=None, args=['8270235524629832550', '-2501925320480528133'], kwargs=None)], '6262719055334000225': ['25', CallNode(function='Block.create', type_params=None, args=['-529904640991214220', '7035627694629011815'], kwargs=None)], '7792453568886775227': ['26', CallNode(function='Vec.create', type_params=None, args=['6262719055334000225'], kwargs=None)], '-848200174017718784': ['27', CallNode(function='Function.create', type_params=None, args=['-2395391573167221195', '7792453568886775227'], kwargs=None)], '-5782602253453086969': ['79', CallNode(function='Vec.create', type_params=None, args=['-848200174017718784', '-3674549522204652614'], kwargs=None)], '-7705949425333690769': ['80', CallNode(function='Module.create', type_params=None, args=['-5863251465363744076', '-5782602253453086969'], kwargs=None)]}, states=States(initial='-2142496432497255505', states=[State(node='8273705104851202503', rule='metadsl_llvm.llvmlite_ir.type_create_int_box', label=None), State(node='-7095587961673390914', rule='metadsl_llvm.llvmlite_ir.value_constant', label=None), State(node='-5215619941607487754', rule='metadsl_llvm.llvmlite_ir.value_constant', label=None), State(node='3588930102186967531', rule='metadsl_llvm.llvmlite_ir.function_type_box_3', label=None), State(node='7859995635962102716', rule='metadsl_llvm.llvmlite_ir.function_type_box_1', label=None), State(node='7943632732658093686', rule='metadsl_llvm.llvmlite_ir.module_reference_box', label=None), State(node='1588517885101401766', rule='metadsl_llvm.llvmlite_ir.function_reference_box', label=None), State(node='-9037245658313396415', rule='metadsl_llvm.llvmlite_ir.block_reference_box', label=None), State(node='-8584054523089188037', rule='metadsl_llvm.llvmlite_ir.builder_box', label=None), State(node='-1247420547727320124', rule='metadsl_llvm.llvmlite_ir.block_reference_box', label=None), State(node='-3397941578118904069', rule='metadsl_llvm.llvmlite_ir.builder_box', label=None), State(node='8747048252637173133', rule='metadsl_llvm.llvmlite_ir.block_reference_box', label=None), State(node='4053530909008044866', rule='metadsl_llvm.llvmlite_ir.builder_box', label=None), State(node='1036889073031414623', rule='metadsl_llvm.llvmlite_ir.block_reference_box', label=None), State(node='-3631612917630966193', rule='metadsl_llvm.llvmlite_ir.builder_box', label=None), State(node='-2122759945626282449', rule='metadsl_llvm.llvmlite_ir.function_reference_arguments', label=None), State(node='282414670136991091', rule='metadsl_llvm.llvmlite_ir.block_reference_box', label=None), State(node='1872542797196807292', rule='metadsl_llvm.llvmlite_ir.builder_box', label=None), State(node='6519062708066150510', rule='metadsl_llvm.llvmlite_ir.function_reference_box', label=None), State(node='-7730370385404202015', rule='metadsl_llvm.llvmlite_ir.function_reference_arguments', label=None), State(node='-1042379618558744017', rule='metadsl_llvm.llvmlite_ir.block_reference_box', label=None), State(node='-7705949425333690769', rule='metadsl_llvm.llvmlite_ir.builder_box', label=None)]))"
      ]
     },
     "metadata": {},
     "output_type": "display_data"
    },
    {
     "ename": "IndexError",
     "evalue": "tuple index out of range",
     "output_type": "error",
     "traceback": [
      "\u001b[0;31m---------------------------------------------------------------------------\u001b[0m",
      "\u001b[0;31mIndexError\u001b[0m                                Traceback (most recent call last)",
      "\u001b[0;32m<ipython-input-10-77424d98c6b2>\u001b[0m in \u001b[0;36m<module>\u001b[0;34m\u001b[0m\n\u001b[0;32m----> 1\u001b[0;31m \u001b[0mmodule_real\u001b[0m\u001b[0;34m.\u001b[0m\u001b[0m_ipython_display_\u001b[0m\u001b[0;34m(\u001b[0m\u001b[0;34m)\u001b[0m\u001b[0;34m\u001b[0m\u001b[0;34m\u001b[0m\u001b[0m\n\u001b[0m",
      "\u001b[0;32m/usr/local/miniconda3/envs/metadsl/lib/python3.7/site-packages/metadsl_visualize/visualize.py\u001b[0m in \u001b[0;36m_expression_ipython_display\u001b[0;34m(self)\u001b[0m\n\u001b[1;32m     35\u001b[0m \u001b[0;34m\u001b[0m\u001b[0m\n\u001b[1;32m     36\u001b[0m \u001b[0;32mdef\u001b[0m \u001b[0m_expression_ipython_display\u001b[0m\u001b[0;34m(\u001b[0m\u001b[0mself\u001b[0m\u001b[0;34m)\u001b[0m\u001b[0;34m:\u001b[0m\u001b[0;34m\u001b[0m\u001b[0;34m\u001b[0m\u001b[0m\n\u001b[0;32m---> 37\u001b[0;31m     \u001b[0mres\u001b[0m \u001b[0;34m=\u001b[0m \u001b[0mexecute\u001b[0m\u001b[0;34m(\u001b[0m\u001b[0mself\u001b[0m\u001b[0;34m)\u001b[0m\u001b[0;34m\u001b[0m\u001b[0;34m\u001b[0m\u001b[0m\n\u001b[0m\u001b[1;32m     38\u001b[0m     \u001b[0;31m# Only display result if we get back a non expression object\u001b[0m\u001b[0;34m\u001b[0m\u001b[0;34m\u001b[0m\u001b[0;34m\u001b[0m\u001b[0m\n\u001b[1;32m     39\u001b[0m     \u001b[0;32mif\u001b[0m \u001b[0;32mnot\u001b[0m \u001b[0misinstance\u001b[0m\u001b[0;34m(\u001b[0m\u001b[0mres\u001b[0m\u001b[0;34m,\u001b[0m \u001b[0mExpression\u001b[0m\u001b[0;34m)\u001b[0m\u001b[0;34m:\u001b[0m\u001b[0;34m\u001b[0m\u001b[0;34m\u001b[0m\u001b[0m\n",
      "\u001b[0;32m/usr/local/miniconda3/envs/metadsl/lib/python3.7/site-packages/metadsl/rules.py\u001b[0m in \u001b[0;36m__call__\u001b[0;34m(self, expr, rule)\u001b[0m\n\u001b[1;32m     65\u001b[0m             \u001b[0mT\u001b[0m\u001b[0;34m,\u001b[0m\u001b[0;34m\u001b[0m\u001b[0;34m\u001b[0m\u001b[0m\n\u001b[1;32m     66\u001b[0m             execute(\n\u001b[0;32m---> 67\u001b[0;31m                 \u001b[0mExpressionReference\u001b[0m\u001b[0;34m.\u001b[0m\u001b[0mfrom_expression\u001b[0m\u001b[0;34m(\u001b[0m\u001b[0mExpressionFolder\u001b[0m\u001b[0;34m(\u001b[0m\u001b[0;34m)\u001b[0m\u001b[0;34m(\u001b[0m\u001b[0mexpr\u001b[0m\u001b[0;34m)\u001b[0m\u001b[0;34m)\u001b[0m\u001b[0;34m,\u001b[0m \u001b[0mrule\u001b[0m\u001b[0;34m\u001b[0m\u001b[0;34m\u001b[0m\u001b[0m\n\u001b[0m\u001b[1;32m     68\u001b[0m             ),\n\u001b[1;32m     69\u001b[0m         )\n",
      "\u001b[0;32m/usr/local/miniconda3/envs/metadsl/lib/python3.7/site-packages/metadsl_visualize/visualize.py\u001b[0m in \u001b[0;36mexecute_and_visualize\u001b[0;34m(ref, rule)\u001b[0m\n\u001b[1;32m     19\u001b[0m     \u001b[0mIPython\u001b[0m\u001b[0;34m.\u001b[0m\u001b[0mcore\u001b[0m\u001b[0;34m.\u001b[0m\u001b[0mdisplay\u001b[0m\u001b[0;34m.\u001b[0m\u001b[0mdisplay\u001b[0m\u001b[0;34m(\u001b[0m\u001b[0mexpression_display\u001b[0m\u001b[0;34m)\u001b[0m\u001b[0;34m\u001b[0m\u001b[0;34m\u001b[0m\u001b[0m\n\u001b[1;32m     20\u001b[0m     \u001b[0;31m# Update the typez display as we execute the rules\u001b[0m\u001b[0;34m\u001b[0m\u001b[0;34m\u001b[0m\u001b[0;34m\u001b[0m\u001b[0m\n\u001b[0;32m---> 21\u001b[0;31m     \u001b[0;32mfor\u001b[0m \u001b[0mreplacement\u001b[0m \u001b[0;32min\u001b[0m \u001b[0mrule\u001b[0m\u001b[0;34m(\u001b[0m\u001b[0mref\u001b[0m\u001b[0;34m)\u001b[0m\u001b[0;34m:\u001b[0m\u001b[0;34m\u001b[0m\u001b[0;34m\u001b[0m\u001b[0m\n\u001b[0m\u001b[1;32m     22\u001b[0m         \u001b[0mexpression_display\u001b[0m\u001b[0;34m.\u001b[0m\u001b[0mupdate\u001b[0m\u001b[0;34m(\u001b[0m\u001b[0mreplacement\u001b[0m\u001b[0;34m.\u001b[0m\u001b[0mrule\u001b[0m\u001b[0;34m,\u001b[0m \u001b[0mreplacement\u001b[0m\u001b[0;34m.\u001b[0m\u001b[0mlabel\u001b[0m\u001b[0;34m)\u001b[0m\u001b[0;34m\u001b[0m\u001b[0;34m\u001b[0m\u001b[0m\n\u001b[1;32m     23\u001b[0m     \u001b[0;32mreturn\u001b[0m \u001b[0mref\u001b[0m\u001b[0;34m.\u001b[0m\u001b[0mnormalized_expression\u001b[0m\u001b[0;34m.\u001b[0m\u001b[0mvalue\u001b[0m\u001b[0;34m\u001b[0m\u001b[0;34m\u001b[0m\u001b[0m\n",
      "\u001b[0;32m/usr/local/miniconda3/envs/metadsl/lib/python3.7/site-packages/metadsl/rules.py\u001b[0m in \u001b[0;36m__call__\u001b[0;34m(self, expr)\u001b[0m\n\u001b[1;32m    255\u001b[0m         \u001b[0;32mfor\u001b[0m \u001b[0mi\u001b[0m \u001b[0;32min\u001b[0m \u001b[0mrange\u001b[0m\u001b[0;34m(\u001b[0m\u001b[0mself\u001b[0m\u001b[0;34m.\u001b[0m\u001b[0mmax_calls\u001b[0m\u001b[0;34m)\u001b[0m\u001b[0;34m:\u001b[0m\u001b[0;34m\u001b[0m\u001b[0;34m\u001b[0m\u001b[0m\n\u001b[1;32m    256\u001b[0m             \u001b[0mreplaced\u001b[0m \u001b[0;34m=\u001b[0m \u001b[0;32mFalse\u001b[0m\u001b[0;34m\u001b[0m\u001b[0;34m\u001b[0m\u001b[0m\n\u001b[0;32m--> 257\u001b[0;31m             \u001b[0;32mfor\u001b[0m \u001b[0mreplacement\u001b[0m \u001b[0;32min\u001b[0m \u001b[0mrule\u001b[0m\u001b[0;34m(\u001b[0m\u001b[0mexpr\u001b[0m\u001b[0;34m)\u001b[0m\u001b[0;34m:\u001b[0m\u001b[0;34m\u001b[0m\u001b[0;34m\u001b[0m\u001b[0m\n\u001b[0m\u001b[1;32m    258\u001b[0m                 \u001b[0mreplaced\u001b[0m \u001b[0;34m=\u001b[0m \u001b[0;32mTrue\u001b[0m\u001b[0;34m\u001b[0m\u001b[0;34m\u001b[0m\u001b[0m\n\u001b[1;32m    259\u001b[0m                 \u001b[0;32myield\u001b[0m \u001b[0mreplacement\u001b[0m\u001b[0;34m\u001b[0m\u001b[0;34m\u001b[0m\u001b[0m\n",
      "\u001b[0;32m/usr/local/miniconda3/envs/metadsl/lib/python3.7/site-packages/metadsl/rules.py\u001b[0m in \u001b[0;36m__call__\u001b[0;34m(self, expr)\u001b[0m\n\u001b[1;32m    217\u001b[0m         \u001b[0;32mfor\u001b[0m \u001b[0mrule\u001b[0m \u001b[0;32min\u001b[0m \u001b[0mself\u001b[0m\u001b[0;34m.\u001b[0m\u001b[0mrules\u001b[0m\u001b[0;34m:\u001b[0m\u001b[0;34m\u001b[0m\u001b[0;34m\u001b[0m\u001b[0m\n\u001b[1;32m    218\u001b[0m             \u001b[0mreplacement\u001b[0m \u001b[0;34m=\u001b[0m \u001b[0;32mNone\u001b[0m\u001b[0;34m\u001b[0m\u001b[0;34m\u001b[0m\u001b[0m\n\u001b[0;32m--> 219\u001b[0;31m             \u001b[0;32mfor\u001b[0m \u001b[0mreplacement\u001b[0m \u001b[0;32min\u001b[0m \u001b[0mrule\u001b[0m\u001b[0;34m(\u001b[0m\u001b[0mexpr\u001b[0m\u001b[0;34m)\u001b[0m\u001b[0;34m:\u001b[0m\u001b[0;34m\u001b[0m\u001b[0;34m\u001b[0m\u001b[0m\n\u001b[0m\u001b[1;32m    220\u001b[0m                 \u001b[0;32myield\u001b[0m \u001b[0mreplacement\u001b[0m\u001b[0;34m\u001b[0m\u001b[0;34m\u001b[0m\u001b[0m\n\u001b[1;32m    221\u001b[0m             \u001b[0;32mif\u001b[0m \u001b[0mreplacement\u001b[0m\u001b[0;34m:\u001b[0m\u001b[0;34m\u001b[0m\u001b[0;34m\u001b[0m\u001b[0m\n",
      "\u001b[0;32m/usr/local/miniconda3/envs/metadsl/lib/python3.7/site-packages/metadsl/rules.py\u001b[0m in \u001b[0;36m__call__\u001b[0;34m(self, expr)\u001b[0m\n\u001b[1;32m    202\u001b[0m     \u001b[0;32mdef\u001b[0m \u001b[0m__call__\u001b[0m\u001b[0;34m(\u001b[0m\u001b[0mself\u001b[0m\u001b[0;34m,\u001b[0m \u001b[0mexpr\u001b[0m\u001b[0;34m:\u001b[0m \u001b[0mExpressionReference\u001b[0m\u001b[0;34m)\u001b[0m \u001b[0;34m->\u001b[0m \u001b[0mtyping\u001b[0m\u001b[0;34m.\u001b[0m\u001b[0mIterable\u001b[0m\u001b[0;34m[\u001b[0m\u001b[0mReplacement\u001b[0m\u001b[0;34m]\u001b[0m\u001b[0;34m:\u001b[0m\u001b[0;34m\u001b[0m\u001b[0;34m\u001b[0m\u001b[0m\n\u001b[1;32m    203\u001b[0m         \u001b[0;32mfor\u001b[0m \u001b[0mrule\u001b[0m \u001b[0;32min\u001b[0m \u001b[0mself\u001b[0m\u001b[0;34m.\u001b[0m\u001b[0mrules\u001b[0m\u001b[0;34m:\u001b[0m\u001b[0;34m\u001b[0m\u001b[0;34m\u001b[0m\u001b[0m\n\u001b[0;32m--> 204\u001b[0;31m             \u001b[0;32mfor\u001b[0m \u001b[0mreplacement\u001b[0m \u001b[0;32min\u001b[0m \u001b[0mrule\u001b[0m\u001b[0;34m(\u001b[0m\u001b[0mexpr\u001b[0m\u001b[0;34m)\u001b[0m\u001b[0;34m:\u001b[0m\u001b[0;34m\u001b[0m\u001b[0;34m\u001b[0m\u001b[0m\n\u001b[0m\u001b[1;32m    205\u001b[0m                 \u001b[0;32myield\u001b[0m \u001b[0mreplacement\u001b[0m\u001b[0;34m\u001b[0m\u001b[0;34m\u001b[0m\u001b[0m\n\u001b[1;32m    206\u001b[0m \u001b[0;34m\u001b[0m\u001b[0m\n",
      "\u001b[0;32m/usr/local/miniconda3/envs/metadsl/lib/python3.7/site-packages/metadsl/rules.py\u001b[0m in \u001b[0;36m__call__\u001b[0;34m(self, expr)\u001b[0m\n\u001b[1;32m     99\u001b[0m     \u001b[0;32mdef\u001b[0m \u001b[0m__call__\u001b[0m\u001b[0;34m(\u001b[0m\u001b[0mself\u001b[0m\u001b[0;34m,\u001b[0m \u001b[0mexpr\u001b[0m\u001b[0;34m:\u001b[0m \u001b[0mExpressionReference\u001b[0m\u001b[0;34m)\u001b[0m \u001b[0;34m->\u001b[0m \u001b[0mtyping\u001b[0m\u001b[0;34m.\u001b[0m\u001b[0mIterable\u001b[0m\u001b[0;34m[\u001b[0m\u001b[0mReplacement\u001b[0m\u001b[0;34m]\u001b[0m\u001b[0;34m:\u001b[0m\u001b[0;34m\u001b[0m\u001b[0;34m\u001b[0m\u001b[0m\n\u001b[1;32m    100\u001b[0m         \u001b[0mreplacement\u001b[0m \u001b[0;34m=\u001b[0m \u001b[0;32mNone\u001b[0m\u001b[0;34m\u001b[0m\u001b[0;34m\u001b[0m\u001b[0m\n\u001b[0;32m--> 101\u001b[0;31m         \u001b[0;32mfor\u001b[0m \u001b[0mreplacement\u001b[0m \u001b[0;32min\u001b[0m \u001b[0mself\u001b[0m\u001b[0;34m.\u001b[0m\u001b[0mrule\u001b[0m\u001b[0;34m(\u001b[0m\u001b[0mexpr\u001b[0m\u001b[0;34m)\u001b[0m\u001b[0;34m:\u001b[0m  \u001b[0;31m# type: ignore\u001b[0m\u001b[0;34m\u001b[0m\u001b[0;34m\u001b[0m\u001b[0m\n\u001b[0m\u001b[1;32m    102\u001b[0m             \u001b[0;32myield\u001b[0m \u001b[0mreplacement\u001b[0m\u001b[0;34m\u001b[0m\u001b[0;34m\u001b[0m\u001b[0m\n\u001b[1;32m    103\u001b[0m         \u001b[0;32mif\u001b[0m \u001b[0mreplacement\u001b[0m\u001b[0;34m:\u001b[0m\u001b[0;34m\u001b[0m\u001b[0;34m\u001b[0m\u001b[0m\n",
      "\u001b[0;32m/usr/local/miniconda3/envs/metadsl/lib/python3.7/site-packages/metadsl/rules.py\u001b[0m in \u001b[0;36m__call__\u001b[0;34m(self, expr)\u001b[0m\n\u001b[1;32m    255\u001b[0m         \u001b[0;32mfor\u001b[0m \u001b[0mi\u001b[0m \u001b[0;32min\u001b[0m \u001b[0mrange\u001b[0m\u001b[0;34m(\u001b[0m\u001b[0mself\u001b[0m\u001b[0;34m.\u001b[0m\u001b[0mmax_calls\u001b[0m\u001b[0;34m)\u001b[0m\u001b[0;34m:\u001b[0m\u001b[0;34m\u001b[0m\u001b[0;34m\u001b[0m\u001b[0m\n\u001b[1;32m    256\u001b[0m             \u001b[0mreplaced\u001b[0m \u001b[0;34m=\u001b[0m \u001b[0;32mFalse\u001b[0m\u001b[0;34m\u001b[0m\u001b[0;34m\u001b[0m\u001b[0m\n\u001b[0;32m--> 257\u001b[0;31m             \u001b[0;32mfor\u001b[0m \u001b[0mreplacement\u001b[0m \u001b[0;32min\u001b[0m \u001b[0mrule\u001b[0m\u001b[0;34m(\u001b[0m\u001b[0mexpr\u001b[0m\u001b[0;34m)\u001b[0m\u001b[0;34m:\u001b[0m\u001b[0;34m\u001b[0m\u001b[0;34m\u001b[0m\u001b[0m\n\u001b[0m\u001b[1;32m    258\u001b[0m                 \u001b[0mreplaced\u001b[0m \u001b[0;34m=\u001b[0m \u001b[0;32mTrue\u001b[0m\u001b[0;34m\u001b[0m\u001b[0;34m\u001b[0m\u001b[0m\n\u001b[1;32m    259\u001b[0m                 \u001b[0;32myield\u001b[0m \u001b[0mreplacement\u001b[0m\u001b[0;34m\u001b[0m\u001b[0;34m\u001b[0m\u001b[0m\n",
      "\u001b[0;32m/usr/local/miniconda3/envs/metadsl/lib/python3.7/site-packages/metadsl/rules.py\u001b[0m in \u001b[0;36m__call__\u001b[0;34m(self, expr)\u001b[0m\n\u001b[1;32m    217\u001b[0m         \u001b[0;32mfor\u001b[0m \u001b[0mrule\u001b[0m \u001b[0;32min\u001b[0m \u001b[0mself\u001b[0m\u001b[0;34m.\u001b[0m\u001b[0mrules\u001b[0m\u001b[0;34m:\u001b[0m\u001b[0;34m\u001b[0m\u001b[0;34m\u001b[0m\u001b[0m\n\u001b[1;32m    218\u001b[0m             \u001b[0mreplacement\u001b[0m \u001b[0;34m=\u001b[0m \u001b[0;32mNone\u001b[0m\u001b[0;34m\u001b[0m\u001b[0;34m\u001b[0m\u001b[0m\n\u001b[0;32m--> 219\u001b[0;31m             \u001b[0;32mfor\u001b[0m \u001b[0mreplacement\u001b[0m \u001b[0;32min\u001b[0m \u001b[0mrule\u001b[0m\u001b[0;34m(\u001b[0m\u001b[0mexpr\u001b[0m\u001b[0;34m)\u001b[0m\u001b[0;34m:\u001b[0m\u001b[0;34m\u001b[0m\u001b[0;34m\u001b[0m\u001b[0m\n\u001b[0m\u001b[1;32m    220\u001b[0m                 \u001b[0;32myield\u001b[0m \u001b[0mreplacement\u001b[0m\u001b[0;34m\u001b[0m\u001b[0;34m\u001b[0m\u001b[0m\n\u001b[1;32m    221\u001b[0m             \u001b[0;32mif\u001b[0m \u001b[0mreplacement\u001b[0m\u001b[0;34m:\u001b[0m\u001b[0;34m\u001b[0m\u001b[0;34m\u001b[0m\u001b[0m\n",
      "\u001b[0;32m/usr/local/miniconda3/envs/metadsl/lib/python3.7/site-packages/metadsl/rules.py\u001b[0m in \u001b[0;36m__call__\u001b[0;34m(self, expr)\u001b[0m\n\u001b[1;32m    255\u001b[0m         \u001b[0;32mfor\u001b[0m \u001b[0mi\u001b[0m \u001b[0;32min\u001b[0m \u001b[0mrange\u001b[0m\u001b[0;34m(\u001b[0m\u001b[0mself\u001b[0m\u001b[0;34m.\u001b[0m\u001b[0mmax_calls\u001b[0m\u001b[0;34m)\u001b[0m\u001b[0;34m:\u001b[0m\u001b[0;34m\u001b[0m\u001b[0;34m\u001b[0m\u001b[0m\n\u001b[1;32m    256\u001b[0m             \u001b[0mreplaced\u001b[0m \u001b[0;34m=\u001b[0m \u001b[0;32mFalse\u001b[0m\u001b[0;34m\u001b[0m\u001b[0;34m\u001b[0m\u001b[0m\n\u001b[0;32m--> 257\u001b[0;31m             \u001b[0;32mfor\u001b[0m \u001b[0mreplacement\u001b[0m \u001b[0;32min\u001b[0m \u001b[0mrule\u001b[0m\u001b[0;34m(\u001b[0m\u001b[0mexpr\u001b[0m\u001b[0;34m)\u001b[0m\u001b[0;34m:\u001b[0m\u001b[0;34m\u001b[0m\u001b[0;34m\u001b[0m\u001b[0m\n\u001b[0m\u001b[1;32m    258\u001b[0m                 \u001b[0mreplaced\u001b[0m \u001b[0;34m=\u001b[0m \u001b[0;32mTrue\u001b[0m\u001b[0;34m\u001b[0m\u001b[0;34m\u001b[0m\u001b[0m\n\u001b[1;32m    259\u001b[0m                 \u001b[0;32myield\u001b[0m \u001b[0mreplacement\u001b[0m\u001b[0;34m\u001b[0m\u001b[0;34m\u001b[0m\u001b[0m\n",
      "\u001b[0;32m/usr/local/miniconda3/envs/metadsl/lib/python3.7/site-packages/metadsl/rules.py\u001b[0m in \u001b[0;36m__call__\u001b[0;34m(self, expr)\u001b[0m\n\u001b[1;32m    235\u001b[0m         \u001b[0mrule\u001b[0m\u001b[0;34m:\u001b[0m \u001b[0mRule\u001b[0m \u001b[0;34m=\u001b[0m \u001b[0mself\u001b[0m\u001b[0;34m.\u001b[0m\u001b[0mrule\u001b[0m  \u001b[0;31m# type: ignore\u001b[0m\u001b[0;34m\u001b[0m\u001b[0;34m\u001b[0m\u001b[0m\n\u001b[1;32m    236\u001b[0m         \u001b[0;32mfor\u001b[0m \u001b[0mchild_ref\u001b[0m \u001b[0;32min\u001b[0m \u001b[0mexpr\u001b[0m\u001b[0;34m.\u001b[0m\u001b[0mchildren\u001b[0m\u001b[0;34m:\u001b[0m\u001b[0;34m\u001b[0m\u001b[0;34m\u001b[0m\u001b[0m\n\u001b[0;32m--> 237\u001b[0;31m             \u001b[0;32mfor\u001b[0m \u001b[0mreplacement\u001b[0m \u001b[0;32min\u001b[0m \u001b[0mrule\u001b[0m\u001b[0;34m(\u001b[0m\u001b[0mchild_ref\u001b[0m\u001b[0;34m)\u001b[0m\u001b[0;34m:\u001b[0m\u001b[0;34m\u001b[0m\u001b[0;34m\u001b[0m\u001b[0m\n\u001b[0m\u001b[1;32m    238\u001b[0m                 \u001b[0;32myield\u001b[0m \u001b[0mreplacement\u001b[0m\u001b[0;34m\u001b[0m\u001b[0;34m\u001b[0m\u001b[0m\n\u001b[1;32m    239\u001b[0m                 \u001b[0;32mreturn\u001b[0m\u001b[0;34m\u001b[0m\u001b[0;34m\u001b[0m\u001b[0m\n",
      "\u001b[0;32m/usr/local/miniconda3/envs/metadsl/lib/python3.7/site-packages/metadsl/rules.py\u001b[0m in \u001b[0;36m__call__\u001b[0;34m(self, expr)\u001b[0m\n\u001b[1;32m    217\u001b[0m         \u001b[0;32mfor\u001b[0m \u001b[0mrule\u001b[0m \u001b[0;32min\u001b[0m \u001b[0mself\u001b[0m\u001b[0;34m.\u001b[0m\u001b[0mrules\u001b[0m\u001b[0;34m:\u001b[0m\u001b[0;34m\u001b[0m\u001b[0;34m\u001b[0m\u001b[0m\n\u001b[1;32m    218\u001b[0m             \u001b[0mreplacement\u001b[0m \u001b[0;34m=\u001b[0m \u001b[0;32mNone\u001b[0m\u001b[0;34m\u001b[0m\u001b[0;34m\u001b[0m\u001b[0m\n\u001b[0;32m--> 219\u001b[0;31m             \u001b[0;32mfor\u001b[0m \u001b[0mreplacement\u001b[0m \u001b[0;32min\u001b[0m \u001b[0mrule\u001b[0m\u001b[0;34m(\u001b[0m\u001b[0mexpr\u001b[0m\u001b[0;34m)\u001b[0m\u001b[0;34m:\u001b[0m\u001b[0;34m\u001b[0m\u001b[0;34m\u001b[0m\u001b[0m\n\u001b[0m\u001b[1;32m    220\u001b[0m                 \u001b[0;32myield\u001b[0m \u001b[0mreplacement\u001b[0m\u001b[0;34m\u001b[0m\u001b[0;34m\u001b[0m\u001b[0m\n\u001b[1;32m    221\u001b[0m             \u001b[0;32mif\u001b[0m \u001b[0mreplacement\u001b[0m\u001b[0;34m:\u001b[0m\u001b[0;34m\u001b[0m\u001b[0;34m\u001b[0m\u001b[0m\n",
      "\u001b[0;32m/usr/local/miniconda3/envs/metadsl/lib/python3.7/site-packages/metadsl/matching.py\u001b[0m in \u001b[0;36m__call__\u001b[0;34m(self, ref)\u001b[0m\n\u001b[1;32m    201\u001b[0m                 result_expr: object = (\n\u001b[1;32m    202\u001b[0m                     \u001b[0mexpression_thunk\u001b[0m\u001b[0;34m(\u001b[0m\u001b[0;34m)\u001b[0m\u001b[0;34m\u001b[0m\u001b[0;34m\u001b[0m\u001b[0m\n\u001b[0;32m--> 203\u001b[0;31m                     \u001b[0;32mif\u001b[0m \u001b[0misinstance\u001b[0m\u001b[0;34m(\u001b[0m\u001b[0mexpression_thunk\u001b[0m\u001b[0;34m,\u001b[0m \u001b[0mtypes\u001b[0m\u001b[0;34m.\u001b[0m\u001b[0mFunctionType\u001b[0m\u001b[0;34m)\u001b[0m\u001b[0;34m\u001b[0m\u001b[0;34m\u001b[0m\u001b[0m\n\u001b[0m\u001b[1;32m    204\u001b[0m                     \u001b[0;32melse\u001b[0m \u001b[0mexpression_thunk\u001b[0m\u001b[0;34m\u001b[0m\u001b[0;34m\u001b[0m\u001b[0m\n\u001b[1;32m    205\u001b[0m                 )\n",
      "\u001b[0;32m/usr/local/miniconda3/envs/metadsl/lib/python3.7/site-packages/metadsl_core/vec.py\u001b[0m in \u001b[0;36m<lambda>\u001b[0;34m()\u001b[0m\n\u001b[1;32m     55\u001b[0m \u001b[0;34m@\u001b[0m\u001b[0mrule\u001b[0m\u001b[0;34m\u001b[0m\u001b[0;34m\u001b[0m\u001b[0m\n\u001b[1;32m     56\u001b[0m \u001b[0;32mdef\u001b[0m \u001b[0mgetitem\u001b[0m\u001b[0;34m(\u001b[0m\u001b[0mi\u001b[0m\u001b[0;34m:\u001b[0m \u001b[0mint\u001b[0m\u001b[0;34m,\u001b[0m \u001b[0mxs\u001b[0m\u001b[0;34m:\u001b[0m \u001b[0mtyping\u001b[0m\u001b[0;34m.\u001b[0m\u001b[0mSequence\u001b[0m\u001b[0;34m[\u001b[0m\u001b[0mT\u001b[0m\u001b[0;34m]\u001b[0m\u001b[0;34m)\u001b[0m \u001b[0;34m->\u001b[0m \u001b[0mR\u001b[0m\u001b[0;34m[\u001b[0m\u001b[0mT\u001b[0m\u001b[0;34m]\u001b[0m\u001b[0;34m:\u001b[0m\u001b[0;34m\u001b[0m\u001b[0;34m\u001b[0m\u001b[0m\n\u001b[0;32m---> 57\u001b[0;31m     \u001b[0;32mreturn\u001b[0m \u001b[0;34m(\u001b[0m\u001b[0mVec\u001b[0m\u001b[0;34m[\u001b[0m\u001b[0mT\u001b[0m\u001b[0;34m]\u001b[0m\u001b[0;34m.\u001b[0m\u001b[0mcreate\u001b[0m\u001b[0;34m(\u001b[0m\u001b[0;34m*\u001b[0m\u001b[0mxs\u001b[0m\u001b[0;34m)\u001b[0m\u001b[0;34m[\u001b[0m\u001b[0mInteger\u001b[0m\u001b[0;34m.\u001b[0m\u001b[0mfrom_int\u001b[0m\u001b[0;34m(\u001b[0m\u001b[0mi\u001b[0m\u001b[0;34m)\u001b[0m\u001b[0;34m]\u001b[0m\u001b[0;34m,\u001b[0m \u001b[0;32mlambda\u001b[0m\u001b[0;34m:\u001b[0m \u001b[0mxs\u001b[0m\u001b[0;34m[\u001b[0m\u001b[0mi\u001b[0m\u001b[0;34m]\u001b[0m\u001b[0;34m)\u001b[0m\u001b[0;34m\u001b[0m\u001b[0;34m\u001b[0m\u001b[0m\n\u001b[0m\u001b[1;32m     58\u001b[0m \u001b[0;34m\u001b[0m\u001b[0m\n\u001b[1;32m     59\u001b[0m \u001b[0;34m\u001b[0m\u001b[0m\n",
      "\u001b[0;31mIndexError\u001b[0m: tuple index out of range"
     ]
    }
   ],
   "source": [
    "module_real._ipython_display_()"
   ]
  },
  {
   "cell_type": "code",
   "execution_count": null,
   "metadata": {},
   "outputs": [],
   "source": []
  }
 ],
 "metadata": {
  "kernelspec": {
   "display_name": "Python 3",
   "language": "python",
   "name": "python3"
  },
  "language_info": {
   "codemirror_mode": {
    "name": "ipython",
    "version": 3
   },
   "file_extension": ".py",
   "mimetype": "text/x-python",
   "name": "python",
   "nbconvert_exporter": "python",
   "pygments_lexer": "ipython3",
   "version": "3.7.3"
  }
 },
 "nbformat": 4,
 "nbformat_minor": 4
}
