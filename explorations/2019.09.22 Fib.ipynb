{
 "cells": [
  {
   "cell_type": "markdown",
   "metadata": {},
   "source": [
    "# Fibonnaci\n",
    "\n",
    "In this notebook we will show a few different ways of compiling the fibonnaci functon with LLVM in Python.\n",
    "\n",
    "This is inspired by [Siu's work](https://github.com/sklam/etude-okvmap/blob/1e85c5ea7bb1f092ed251159e7046d1348f3fa8b/example_minilang.py#L285-L300) as an attempt to explore how metadsl could be useful as a way to build higher level expression systems on top of LLVM in Python."
   ]
  },
  {
   "cell_type": "markdown",
   "metadata": {},
   "source": [
    "## Pure Python\n",
    "\n",
    "First, lets create a pure python version"
   ]
  },
  {
   "cell_type": "code",
   "execution_count": 10,
   "metadata": {},
   "outputs": [],
   "source": [
    "N = 1000"
   ]
  },
  {
   "cell_type": "code",
   "execution_count": 8,
   "metadata": {},
   "outputs": [],
   "source": [
    "def fib_more(n, a, b):\n",
    "    if n > 1:\n",
    "        return fib_more(n - 1, b, a + b)\n",
    "    if b == 1:\n",
    "        return b\n",
    "    return a\n",
    "\n",
    "def fib(n):\n",
    "    return fib_more(n, 0, 1)"
   ]
  },
  {
   "cell_type": "code",
   "execution_count": 11,
   "metadata": {},
   "outputs": [
    {
     "name": "stdout",
     "output_type": "stream",
     "text": [
      "204 µs ± 3.5 µs per loop (mean ± std. dev. of 7 runs, 1000 loops each)\n"
     ]
    }
   ],
   "source": [
    "%timeit fib(N)"
   ]
  },
  {
   "cell_type": "markdown",
   "metadata": {},
   "source": [
    "## `llvmlite`\n",
    "\n",
    "First, lets start with the low level `llvmlite` library to build up the llvm directly:"
   ]
  },
  {
   "cell_type": "code",
   "execution_count": 1,
   "metadata": {},
   "outputs": [],
   "source": [
    "from llvmlite import ir\n",
    "\n",
    "def create_mod():\n",
    "    mod = ir.Module(name=\"fib\")\n",
    "\n",
    "    int_type = ir.IntType(32)\n",
    "    zero = ir.Constant(int_type, 0)\n",
    "    one = ir.Constant(int_type, 1)\n",
    "\n",
    "    fib_more_fn = ir.Function(\n",
    "        mod,\n",
    "        ir.FunctionType(int_type, [int_type, int_type, int_type]),\n",
    "        name='fib_more',\n",
    "    )\n",
    "    \n",
    "    fib_fn = ir.Function(\n",
    "        mod,\n",
    "        ir.FunctionType(int_type, [int_type]),\n",
    "        name='fib'\n",
    "    )\n",
    "    \n",
    "    fib_fn.calling_convention = 'fastcc'\n",
    "    fib_more_fn.calling_convention = 'fastcc'\n",
    "\n",
    "\n",
    "    fib_n, = fib_fn.args\n",
    "    fib_more_n, fib_more_a, fib_more_b = fib_more_fn.args\n",
    "\n",
    "\n",
    "    fib_entry = fib_fn.append_basic_block('entry')\n",
    "    fib_more_entry = fib_more_fn.append_basic_block('entry')\n",
    "    fib_pred_cont = fib_more_fn.append_basic_block('pred_cont')\n",
    "    fib_not_pred_cont = fib_more_fn.append_basic_block('not_pred_cont')\n",
    "    fib_n_eq_one = fib_more_fn.append_basic_block('n_eq_one')\n",
    "    fib_n_neq_one = fib_more_fn.append_basic_block('n_neq_one')\n",
    "\n",
    "    fib_entry_builder = ir.IRBuilder(fib_entry)\n",
    "    fib_more_entry_builder = ir.IRBuilder(fib_more_entry)\n",
    "    fib_pred_cont_builder = ir.IRBuilder(fib_pred_cont)\n",
    "    fib_not_pred_cont_builder = ir.IRBuilder(fib_not_pred_cont)\n",
    "    fib_n_eq_one_builder = ir.IRBuilder(fib_n_eq_one)\n",
    "    fib_n_neq_one_builder = ir.IRBuilder(fib_n_neq_one)\n",
    "\n",
    "\n",
    "    fib_entry_builder.ret(\n",
    "        fib_entry_builder.call(\n",
    "            fib_more_fn,\n",
    "            (fib_n, zero, one)\n",
    "        )\n",
    "    )\n",
    "\n",
    "\n",
    "    pred_cont = fib_more_entry_builder.icmp_signed(\">\", fib_more_n, one)\n",
    "\n",
    "\n",
    "    fib_more_entry_builder.cbranch(pred_cont, fib_pred_cont, fib_not_pred_cont)\n",
    "    \n",
    "    minus1 = fib_pred_cont_builder.sub(fib_more_n, one)\n",
    "    ab = fib_pred_cont_builder.add(fib_more_a, fib_more_b)\n",
    "    added = fib_pred_cont_builder.call(fib_more_fn, (minus1, fib_more_b, ab))\n",
    "    fib_pred_cont_builder.ret(added)\n",
    "\n",
    "    n_eq_1 = fib_not_pred_cont_builder.icmp_signed(\"==\", fib_more_n, one)\n",
    "    fib_not_pred_cont_builder.cbranch(n_eq_1, fib_n_eq_one, fib_n_neq_one)\n",
    "\n",
    "    fib_n_eq_one_builder.ret(fib_more_b)\n",
    "\n",
    "    fib_n_neq_one_builder.ret(fib_more_a)\n",
    "\n",
    "    return mod\n",
    "\n",
    "llvm_ir = (str(create_mod()))\n",
    "# print(llvm_ir)"
   ]
  },
  {
   "cell_type": "code",
   "execution_count": 2,
   "metadata": {},
   "outputs": [
    {
     "name": "stdout",
     "output_type": "stream",
     "text": [
      "-----------------------------------optimized------------------------------------\n"
     ]
    }
   ],
   "source": [
    "from ctypes import CFUNCTYPE, c_int\n",
    "from llvmlite import binding as llvm\n",
    "\n",
    "llvm.initialize()\n",
    "llvm.initialize_native_target()\n",
    "llvm.initialize_native_asmprinter()\n",
    "\n",
    "def make_c_wrapper(fn_callee):\n",
    "    mod = fn_callee.module\n",
    "    fnty = fn_callee.function_type\n",
    "    fn = ir.Function(mod, fnty, name='entry_' + fn_callee.name)\n",
    "    builder = ir.IRBuilder(fn.append_basic_block())\n",
    "    builder.ret(builder.call(fn_callee, fn.args))\n",
    "\n",
    "\n",
    "\n",
    "def execute(llvm_ir):\n",
    "    \"\"\"\n",
    "    Compile the LLVM IR string with the given engine.\n",
    "    The compiled module object is returned.\n",
    "    \"\"\"\n",
    "    llmod = llvm.parse_assembly(str(llvm_ir))\n",
    "    llmod.verify()\n",
    "    \n",
    "#     print('optimized'.center(80, '-'))\n",
    "    pmb = llvm.create_pass_manager_builder()\n",
    "    pmb.opt_level = 1\n",
    "    pm = llvm.create_module_pass_manager()\n",
    "    pmb.populate(pm)\n",
    "    pm.run(llmod)\n",
    "#     print(llmod)\n",
    "\n",
    "    target_machine = llvm.Target.from_default_triple().create_target_machine()\n",
    "\n",
    "    ee = llvm.create_mcjit_compiler(llmod, target_machine)\n",
    "    ee.finalize_object()\n",
    "    cfptr = ee.get_function_address(\"entry_fib\")\n",
    "\n",
    "    cfunc = CFUNCTYPE(c_int, c_int)(cfptr)\n",
    "    return ee, cfunc\n",
    "\n",
    "    # Get CFG\n",
    "#         ll_fib_more = llmod.get_function('fib_more')\n",
    "#         cfg = llvm.get_function_cfg(ll_fib_more)\n",
    "#         llvm.view_dot_graph(cfg, view=True)\n",
    "\n",
    "mod = create_mod()\n",
    "make_c_wrapper(mod.get_global('fib'))\n",
    "_, f = execute(mod)"
   ]
  },
  {
   "cell_type": "code",
   "execution_count": 13,
   "metadata": {},
   "outputs": [
    {
     "name": "stdout",
     "output_type": "stream",
     "text": [
      "1.03 µs ± 16.1 ns per loop (mean ± std. dev. of 7 runs, 1000000 loops each)\n"
     ]
    }
   ],
   "source": [
    "%timeit f(N)"
   ]
  },
  {
   "cell_type": "markdown",
   "metadata": {},
   "source": [
    "We see this is two orders of magnitude faster than the Python code, partially because we are closer to the metal and partially because LLVM turns this tail recursion into a loop."
   ]
  },
  {
   "cell_type": "code",
   "execution_count": null,
   "metadata": {},
   "outputs": [],
   "source": []
  }
 ],
 "metadata": {
  "kernelspec": {
   "display_name": "Python 3",
   "language": "python",
   "name": "python3"
  },
  "language_info": {
   "codemirror_mode": {
    "name": "ipython",
    "version": 3
   },
   "file_extension": ".py",
   "mimetype": "text/x-python",
   "name": "python",
   "nbconvert_exporter": "python",
   "pygments_lexer": "ipython3",
   "version": "3.7.3"
  }
 },
 "nbformat": 4,
 "nbformat_minor": 4
}
