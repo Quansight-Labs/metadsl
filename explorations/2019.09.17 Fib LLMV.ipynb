{
 "cells": [
  {
   "cell_type": "code",
   "execution_count": 1,
   "metadata": {},
   "outputs": [],
   "source": [
    "from metadsl import *\n",
    "from metadsl_core import *\n",
    "import metadsl_visualize"
   ]
  },
  {
   "cell_type": "code",
   "execution_count": 2,
   "metadata": {},
   "outputs": [],
   "source": [
    "one = Integer.from_int(1)\n",
    "zero = Integer.from_int(0)\n",
    "\n",
    "\n",
    "@FunctionThree.from_fn_recursive\n",
    "def fib_more(\n",
    "    fn: FunctionThree[Integer, Integer, Integer, Integer],\n",
    "    n: Integer,\n",
    "    a: Integer,\n",
    "    b: Integer,\n",
    ") -> Integer:\n",
    "    pred_cont = n > one\n",
    "    minus1 = n - one\n",
    "    ab = a + b\n",
    "    added = fn(minus1, b, ab)\n",
    "\n",
    "    n_eq_1 = n.eq(one)\n",
    "    return pred_cont.if_(added, n_eq_1.if_(b, a))\n",
    "\n",
    "@FunctionOne.from_fn\n",
    "def fib(n: Integer) -> Integer:\n",
    "    return fib_more(n, zero, one)\n"
   ]
  },
  {
   "cell_type": "code",
   "execution_count": 3,
   "metadata": {},
   "outputs": [
    {
     "data": {
      "application/x.typez+json": {
       "nodes": {
        "-1010406287580477511": [
         "4",
         {
          "args": [
           "-7976381005861746498",
           "-1252543407414992244",
           "3871893887292460711"
          ],
          "function": "Boolean.if_"
         }
        ],
        "-1027576649297013743": [
         "168",
         {
          "args": [
           "7192003423984924808",
           "3628454707746313761"
          ],
          "function": "Abstraction.__call__",
          "type_params": {
           "T": {
            "type": "Integer"
           },
           "U": {
            "params": {
             "T": {
              "type": "Integer"
             },
             "U": {
              "params": {
               "T": {
                "type": "Integer"
               },
               "U": {
                "type": "Integer"
               }
              },
              "type": "Abstraction"
             }
            },
            "type": "Abstraction"
           }
          }
         }
        ],
        "-1048428597774428697": [
         "28",
         {
          "args": [
           "-3589837022479227720",
           "-1871549933198336040"
          ],
          "function": "Abstraction.create",
          "type_params": {
           "T": {
            "type": "Integer"
           },
           "U": {
            "params": {
             "T": {
              "type": "Integer"
             },
             "U": {
              "type": "Integer"
             }
            },
            "type": "Abstraction"
           }
          }
         }
        ],
        "-1051299662278107137": [
         "394",
         {
          "args": [
           "-5424093814210459874",
           "-6711768409905341135"
          ],
          "function": "Abstraction.create",
          "type_params": {
           "T": {
            "type": "Integer"
           },
           "U": {
            "type": "Integer"
           }
          }
         }
        ],
        "-1058394709190360765": [
         "1940",
         {
          "args": [
           "-1083443876546642859",
           "426075460217857655",
           "-3763664595638790119"
          ],
          "function": "Boolean.if_"
         }
        ],
        "-1083443876546642859": [
         "1939",
         {
          "args": [
           "-2836458671663647227",
           "-2709874245198447753"
          ],
          "function": "Integer.eq"
         }
        ],
        "-1114697861662820011": [
         "4",
         {
          "args": [
           "-7694504097016980406",
           "4278492917212468935",
           "5097506971461298912"
          ],
          "function": "Boolean.if_"
         }
        ],
        "-118913016772685314": [
         "2113",
         {
          "args": [
           "-563377217010615496",
           "-2709874245198447753"
          ],
          "function": "Integer.eq"
         }
        ],
        "-123012099190956298": [
         "2056",
         {
          "args": [
           "6509044787173981249",
           "-7176269575796675394"
          ],
          "function": "Abstraction.__call__",
          "type_params": {
           "T": {
            "type": "Integer"
           },
           "U": {
            "type": "Integer"
           }
          }
         }
        ],
        "-1252543407414992244": [
         "1738",
         {
          "args": [
           "2477665002308615129",
           "6193411539710826203"
          ],
          "function": "Abstraction.__call__",
          "type_params": {
           "T": {
            "type": "Integer"
           },
           "U": {
            "type": "Integer"
           }
          }
         }
        ],
        "-1254377099455496499": [
         "1101",
         {
          "args": [
           "1208035936492683470",
           "-5424093814210459874"
          ],
          "function": "Abstraction.__call__",
          "type_params": {
           "T": {
            "type": "Integer"
           },
           "U": {
            "params": {
             "T": {
              "type": "Integer"
             },
             "U": {
              "type": "Integer"
             }
            },
            "type": "Abstraction"
           }
          }
         }
        ],
        "-1323292445157527427": [
         "1530",
         {
          "args": [
           "-4389127747206091960",
           "-2709874245198447753"
          ],
          "function": "Integer.__sub__"
         }
        ],
        "-135815448769694513": [
         "200",
         {
          "args": [
           "5798502730422820175",
           "-5424093814210459874"
          ],
          "function": "Abstraction.__call__",
          "type_params": {
           "T": {
            "type": "Integer"
           },
           "U": {
            "params": {
             "T": {
              "type": "Integer"
             },
             "U": {
              "type": "Integer"
             }
            },
            "type": "Abstraction"
           }
          }
         }
        ],
        "-1447368936376717486": [
         "1338",
         {
          "args": [
           "-460023881515603218",
           "6057851584705040754"
          ],
          "function": "Abstraction.__call__",
          "type_params": {
           "T": {
            "type": "Integer"
           },
           "U": {
            "type": "Integer"
           }
          }
         }
        ],
        "-1544700006780311069": [
         "4",
         {
          "args": [
           "4255262049260606562",
           "3628454707746313761"
          ],
          "function": "FunctionOne.__call__",
          "type_params": {
           "T": {
            "type": "Integer"
           },
           "U": {
            "type": "Integer"
           }
          }
         }
        ],
        "-1606951645429246815": [
         "168",
         {
          "args": [
           "1666878387156743624",
           "3628454707746313761"
          ],
          "function": "Abstraction.__call__",
          "type_params": {
           "T": {
            "type": "Integer"
           },
           "U": {
            "params": {
             "T": {
              "type": "Integer"
             },
             "U": {
              "params": {
               "T": {
                "type": "Integer"
               },
               "U": {
                "type": "Integer"
               }
              },
              "type": "Abstraction"
             }
            },
            "type": "Abstraction"
           }
          }
         }
        ],
        "-1637222315687401071": [
         "327",
         {
          "args": [
           "-6822660633696501701",
           "1240349183033472387",
           "2499599552372237324"
          ],
          "function": "Boolean.if_"
         }
        ],
        "-1728229885748205255": [
         "4",
         {
          "args": [
           "8396784582804907256",
           "5097506971461298912"
          ],
          "function": "Abstraction.__call__",
          "type_params": {
           "T": {
            "type": "Integer"
           },
           "U": {
            "type": "Integer"
           }
          }
         }
        ],
        "-1731646924518211845": [
         "4",
         {
          "args": [
           "-3924738252847071971",
           "-2709874245198447753"
          ],
          "function": "Abstraction.__call__",
          "type_params": {
           "T": {
            "type": "Integer"
           },
           "U": {
            "type": "Integer"
           }
          }
         }
        ],
        "-1759599643853235173": [
         "980",
         {
          "args": [
           "7007883126069894736",
           "5097506971461298912"
          ],
          "function": "Abstraction.__call__",
          "type_params": {
           "T": {
            "type": "Integer"
           },
           "U": {
            "params": {
             "T": {
              "type": "Integer"
             },
             "U": {
              "type": "Integer"
             }
            },
            "type": "Abstraction"
           }
          }
         }
        ],
        "-177319682818022094": [
         "1461",
         {
          "args": [
           "7107526529920497911",
           "-7176269575796675394"
          ],
          "function": "Abstraction.__call__",
          "type_params": {
           "T": {
            "type": "Integer"
           },
           "U": {
            "type": "Integer"
           }
          }
         }
        ],
        "-1825982190921569454": [
         "194",
         {
          "args": [
           "-3289004802403072970",
           "5575030305646944715"
          ],
          "function": "Abstraction.create",
          "type_params": {
           "T": {
            "params": {
             "T": {
              "type": "Integer"
             },
             "U": {
              "params": {
               "T": {
                "type": "Integer"
               },
               "U": {
                "params": {
                 "T": {
                  "type": "Integer"
                 },
                 "U": {
                  "type": "Integer"
                 }
                },
                "type": "Abstraction"
               }
              },
              "type": "Abstraction"
             }
            },
            "type": "Abstraction"
           },
           "U": {
            "params": {
             "T": {
              "type": "Integer"
             },
             "U": {
              "params": {
               "T": {
                "type": "Integer"
               },
               "U": {
                "params": {
                 "T": {
                  "type": "Integer"
                 },
                 "U": {
                  "type": "Integer"
                 }
                },
                "type": "Abstraction"
               }
              },
              "type": "Abstraction"
             }
            },
            "type": "Abstraction"
           }
          }
         }
        ],
        "-1831047008422226736": [
         "190",
         {
          "args": [
           "-8766775242920447901",
           "-8612240532703901736",
           "-2497883094049221244"
          ],
          "function": "Boolean.if_"
         }
        ],
        "-1871549933198336040": [
         "32",
         {
          "args": [
           "-8691308168488607368"
          ],
          "function": "Abstraction.from_fn"
         }
        ],
        "-1872445906533970845": [
         "2120",
         {
          "args": [
           "360747163981649829"
          ],
          "function": "Abstraction.fix"
         }
        ],
        "-1873709023749060235": [
         "4",
         {
          "args": [
           "3265882338979128529",
           "-2709874245198447753"
          ],
          "function": "Abstraction.__call__",
          "type_params": {
           "T": {
            "type": "Integer"
           },
           "U": {
            "type": "Integer"
           }
          }
         }
        ],
        "-1966895916707397631": [
         "1265",
         {
          "args": [
           "-4443212575559713586",
           "-7176269575796675394"
          ],
          "function": "Abstraction.__call__",
          "type_params": {
           "T": {
            "type": "Integer"
           },
           "U": {
            "type": "Integer"
           }
          }
         }
        ],
        "-1984718719737358351": [
         "2091",
         {
          "args": [
           "426075460217857655",
           "-5424093814210459874"
          ],
          "function": "Integer.__add__"
         }
        ],
        "-1985850948699187428": [
         "288",
         {
          "args": [
           "8398596617344492380",
           "-5424093814210459874",
           "-3589837022479227720"
          ],
          "function": "Boolean.if_"
         }
        ],
        "-2002092672883796522": [
         "2129",
         {
          "args": [
           "-6257503974023180242",
           "2363258777951577200"
          ],
          "function": "Abstraction.__call__",
          "type_params": {
           "T": {
            "type": "Integer"
           },
           "U": {
            "type": "Integer"
           }
          }
         }
        ],
        "-2027907684402388772": [
         "1937",
         {
          "args": [
           "-3763664595638790119",
           "426075460217857655"
          ],
          "function": "Integer.__add__"
         }
        ],
        "-2070637637055337711": [
         "551",
         {
          "args": [
           "5841772961555278415",
           "-2709874245198447753"
          ],
          "function": "Integer.eq"
         }
        ],
        "-2079870262008396274": [
         "706",
         {
          "args": [
           "-2709874245198447753",
           "-5424093814210459874"
          ],
          "function": "Integer.__add__"
         }
        ],
        "-214890901606545206": [
         "4",
         {
          "args": [
           "-7976381005861746498",
           "-1252543407414992244",
           "2880972934891874091"
          ],
          "function": "Boolean.if_"
         }
        ],
        "-2219963984981441563": [
         "1502",
         {
          "args": [
           "7709347977351142111",
           "-298918658491096700",
           "5050744066547836421"
          ],
          "function": "Boolean.if_"
         }
        ],
        "-2226581153540153046": [
         "4",
         {
          "args": [
           "6045014357752365256",
           "5824961590807657529",
           "-2836458671663647227"
          ],
          "function": "Boolean.if_"
         }
        ],
        "-2261925311115024128": [
         "1145",
         {
          "args": [
           "1623328830782906858",
           "-2709874245198447753"
          ],
          "function": "Integer.eq"
         }
        ],
        "-2276578944146535180": [
         "4",
         {
          "args": [
           "-6082467777081323418",
           "-4583652392085431418",
           "4138334299222256260"
          ],
          "function": "Boolean.if_"
         }
        ],
        "-232106358995459078": [
         "4",
         {
          "args": [
           "-6082467777081323418",
           "-4583652392085431418",
           "5097506971461298912"
          ],
          "function": "Boolean.if_"
         }
        ],
        "-2323764632951596514": [
         "1104",
         {
          "args": [
           "5097506971461298912",
           "-5424093814210459874"
          ],
          "function": "Integer.__add__"
         }
        ],
        "-2363238644559922178": [
         "4",
         {
          "args": [
           "4157626137894194315",
           "-2002092672883796522",
           "7907100286168690534"
          ],
          "function": "Boolean.if_"
         }
        ],
        "-238751702912413220": [
         "4",
         {
          "args": [
           "-6822660633696501701",
           "-902927629878696283",
           "6580081994755491934"
          ],
          "function": "Boolean.if_"
         }
        ],
        "-2407708529849502343": [
         "4",
         {
          "args": [
           "4451422924031100638",
           "8144778511505664445",
           "-2709874245198447753"
          ],
          "function": "Boolean.if_"
         }
        ],
        "-2446694479777018630": [
         "584",
         {
          "args": [
           "-8900729174652435743",
           "-2709874245198447753"
          ],
          "function": "Abstraction.__call__",
          "type_params": {
           "T": {
            "type": "Integer"
           },
           "U": {
            "params": {
             "T": {
              "type": "Integer"
             },
             "U": {
              "type": "Integer"
             }
            },
            "type": "Abstraction"
           }
          }
         }
        ],
        "-2465353763257484938": [
         "1864",
         {
          "args": [
           "-4903986342512942149",
           "-7273593453774887249",
           "-7955138184593606182"
          ],
          "function": "Boolean.if_"
         }
        ],
        "-2474863177050861745": [
         "744",
         {
          "args": [
           "240625170666862444",
           "5097506971461298912"
          ],
          "function": "Abstraction.__call__",
          "type_params": {
           "T": {
            "type": "Integer"
           },
           "U": {
            "type": "Integer"
           }
          }
         }
        ],
        "-2475248754934642502": [
         "1665",
         {
          "args": [
           "-5424093814210459874",
           "-4335706772558633662"
          ],
          "function": "Abstraction.create",
          "type_params": {
           "T": {
            "type": "Integer"
           },
           "U": {
            "type": "Integer"
           }
          }
         }
        ],
        "-2485221969522258452": [
         "192",
         {
          "args": [
           "-3589837022479227720",
           "8720557168467688035"
          ],
          "function": "Abstraction.create",
          "type_params": {
           "T": {
            "type": "Integer"
           },
           "U": {
            "params": {
             "T": {
              "type": "Integer"
             },
             "U": {
              "type": "Integer"
             }
            },
            "type": "Abstraction"
           }
          }
         }
        ],
        "-2488375727644783629": [
         "2101",
         {
          "repr": "140311752641072",
          "type": "Variable"
         }
        ],
        "-2497883094049221244": [
         "2114",
         {
          "args": [
           "-118913016772685314",
           "-5424093814210459874",
           "-3589837022479227720"
          ],
          "function": "Boolean.if_"
         }
        ],
        "-2533334673309768806": [
         "1531",
         {
          "args": [
           "-1872445906533970845",
           "-1323292445157527427"
          ],
          "function": "Abstraction.__call__",
          "type_params": {
           "T": {
            "type": "Integer"
           },
           "U": {
            "params": {
             "T": {
              "type": "Integer"
             },
             "U": {
              "params": {
               "T": {
                "type": "Integer"
               },
               "U": {
                "type": "Integer"
               }
              },
              "type": "Abstraction"
             }
            },
            "type": "Abstraction"
           }
          }
         }
        ],
        "-2561529308478450936": [
         "1774",
         {
          "args": [
           "4543128373191248945",
           "-3763664595638790119"
          ],
          "function": "Abstraction.__call__",
          "type_params": {
           "T": {
            "type": "Integer"
           },
           "U": {
            "params": {
             "T": {
              "type": "Integer"
             },
             "U": {
              "type": "Integer"
             }
            },
            "type": "Abstraction"
           }
          }
         }
        ],
        "-2651177997882106940": [
         "2131",
         {
          "args": [
           "-7694504097016980406",
           "7907100286168690534",
           "426075460217857655"
          ],
          "function": "Boolean.if_"
         }
        ],
        "-2653737741108419505": [
         "4",
         {
          "args": [
           "7709347977351142111",
           "4106961276674281287",
           "-807141446486382998"
          ],
          "function": "Boolean.if_"
         }
        ],
        "-2709874245198447753": [
         "2097",
         {
          "args": [
           "4962905094600818490"
          ],
          "function": "Integer.from_int"
         }
        ],
        "-2728699673575525134": [
         "1698",
         {
          "args": [
           "2880972934891874091",
           "-5424093814210459874"
          ],
          "function": "Integer.__add__"
         }
        ],
        "-2730473268501935680": [
         "191",
         {
          "args": [
           "-5424093814210459874",
           "-8397591086290459920"
          ],
          "function": "Abstraction.create",
          "type_params": {
           "T": {
            "type": "Integer"
           },
           "U": {
            "type": "Integer"
           }
          }
         }
        ],
        "-2808053823162298186": [
         "1738",
         {
          "args": [
           "2477665002308615129",
           "426075460217857655"
          ],
          "function": "Abstraction.__call__",
          "type_params": {
           "T": {
            "type": "Integer"
           },
           "U": {
            "type": "Integer"
           }
          }
         }
        ],
        "-2836458671663647227": [
         "1904",
         {
          "args": [
           "-6976198223006734701"
          ],
          "function": "Integer.from_int"
         }
        ],
        "-284286813617894553": [
         "19",
         {
          "args": [
           "-3289004802403072970",
           "6535478457114596942"
          ],
          "function": "Abstraction.create",
          "type_params": {
           "T": {
            "params": {
             "T": {
              "type": "Integer"
             },
             "U": {
              "params": {
               "T": {
                "type": "Integer"
               },
               "U": {
                "params": {
                 "T": {
                  "type": "Integer"
                 },
                 "U": {
                  "type": "Integer"
                 }
                },
                "type": "Abstraction"
               }
              },
              "type": "Abstraction"
             }
            },
            "type": "Abstraction"
           },
           "U": {
            "params": {
             "T": {
              "type": "Integer"
             },
             "U": {
              "params": {
               "T": {
                "type": "Integer"
               },
               "U": {
                "params": {
                 "T": {
                  "type": "Integer"
                 },
                 "U": {
                  "type": "Integer"
                 }
                },
                "type": "Abstraction"
               }
              },
              "type": "Abstraction"
             }
            },
            "type": "Abstraction"
           }
          }
         }
        ],
        "-2853568288805993481": [
         "867",
         {
          "args": [
           "122056670367809305",
           "-7176269575796675394"
          ],
          "function": "Abstraction.__call__",
          "type_params": {
           "T": {
            "type": "Integer"
           },
           "U": {
            "type": "Integer"
           }
          }
         }
        ],
        "-2900630358783526205": [
         "1374",
         {
          "args": [
           "-4939178898422107345",
           "-807141446486382998"
          ],
          "function": "Abstraction.__call__",
          "type_params": {
           "T": {
            "type": "Integer"
           },
           "U": {
            "params": {
             "T": {
              "type": "Integer"
             },
             "U": {
              "type": "Integer"
             }
            },
            "type": "Abstraction"
           }
          }
         }
        ],
        "-2909164352820212039": [
         "1774",
         {
          "args": [
           "3098746497722107792",
           "-3763664595638790119"
          ],
          "function": "Abstraction.__call__",
          "type_params": {
           "T": {
            "type": "Integer"
           },
           "U": {
            "params": {
             "T": {
              "type": "Integer"
             },
             "U": {
              "type": "Integer"
             }
            },
            "type": "Abstraction"
           }
          }
         }
        ],
        "-2936472015581425190": [
         "4",
         {
          "args": [
           "-7976381005861746498",
           "6325804655016651525",
           "2880972934891874091"
          ],
          "function": "Boolean.if_"
         }
        ],
        "-2978797460441412779": [
         "1771",
         {
          "args": [
           "-6049179160059621010",
           "-2836458671663647227"
          ],
          "function": "Abstraction.__call__",
          "type_params": {
           "T": {
            "type": "Integer"
           },
           "U": {
            "params": {
             "T": {
              "type": "Integer"
             },
             "U": {
              "params": {
               "T": {
                "type": "Integer"
               },
               "U": {
                "type": "Integer"
               }
              },
              "type": "Abstraction"
             }
            },
            "type": "Abstraction"
           }
          }
         }
        ],
        "-298918658491096700": [
         "1499",
         {
          "args": [
           "7107526529920497911",
           "3257372601715975699"
          ],
          "function": "Abstraction.__call__",
          "type_params": {
           "T": {
            "type": "Integer"
           },
           "U": {
            "type": "Integer"
           }
          }
         }
        ],
        "-30318007180538727": [
         "363",
         {
          "args": [
           "1430599728253316827",
           "-2709874245198447753",
           "6580081994755491934"
          ],
          "function": "Boolean.if_"
         }
        ],
        "-3051882958207759886": [
         "4",
         {
          "args": [
           "-5443258326517837687",
           "-807141446486382998"
          ],
          "function": "Abstraction.__call__",
          "type_params": {
           "T": {
            "type": "Integer"
           },
           "U": {
            "type": "Integer"
           }
          }
         }
        ],
        "-3082198421568291035": [
         "2116",
         {
          "args": [
           "-5424093814210459874",
           "-6692727781690316274"
          ],
          "function": "Abstraction.create",
          "type_params": {
           "T": {
            "type": "Integer"
           },
           "U": {
            "type": "Integer"
           }
          }
         }
        ],
        "-3094792838750148002": [
         "944",
         {
          "args": [
           "-4703797407153073536",
           "6460412911337626311"
          ],
          "function": "Abstraction.__call__",
          "type_params": {
           "T": {
            "type": "Integer"
           },
           "U": {
            "type": "Integer"
           }
          }
         }
        ],
        "-3096293770195600059": [
         "1931",
         {
          "args": [
           "-1872445906533970845",
           "-377638062034473981"
          ],
          "function": "Abstraction.__call__",
          "type_params": {
           "T": {
            "type": "Integer"
           },
           "U": {
            "params": {
             "T": {
              "type": "Integer"
             },
             "U": {
              "params": {
               "T": {
                "type": "Integer"
               },
               "U": {
                "type": "Integer"
               }
              },
              "type": "Abstraction"
             }
            },
            "type": "Abstraction"
           }
          }
         }
        ],
        "-3144755692158465336": [
         "1301",
         {
          "args": [
           "-4443212575559713586",
           "8242890977568942088"
          ],
          "function": "Abstraction.__call__",
          "type_params": {
           "T": {
            "type": "Integer"
           },
           "U": {
            "type": "Integer"
           }
          }
         }
        ],
        "-3147828262597268323": [
         "1371",
         {
          "args": [
           "7192003423984924808",
           "-4389127747206091960"
          ],
          "function": "Abstraction.__call__",
          "type_params": {
           "T": {
            "type": "Integer"
           },
           "U": {
            "params": {
             "T": {
              "type": "Integer"
             },
             "U": {
              "params": {
               "T": {
                "type": "Integer"
               },
               "U": {
                "type": "Integer"
               }
              },
              "type": "Abstraction"
             }
            },
            "type": "Abstraction"
           }
          }
         }
        ],
        "-3149881222574482240": [
         "1178",
         {
          "args": [
           "-5424093814210459874",
           "-6086490831062278601"
          ],
          "function": "Abstraction.create",
          "type_params": {
           "T": {
            "type": "Integer"
           },
           "U": {
            "type": "Integer"
           }
          }
         }
        ],
        "-3226618881491762800": [
         "2060",
         {
          "args": [
           "-5424093814210459874",
           "-965510855568004391"
          ],
          "function": "Abstraction.create",
          "type_params": {
           "T": {
            "type": "Integer"
           },
           "U": {
            "type": "Integer"
           }
          }
         }
        ],
        "-3229544847317331348": [
         "4",
         {
          "args": [
           "-3268802043082511407",
           "-2836458671663647227"
          ],
          "function": "Abstraction.__call__",
          "type_params": {
           "T": {
            "type": "Integer"
           },
           "U": {
            "type": "Integer"
           }
          }
         }
        ],
        "-3252348122759802345": [
         "1305",
         {
          "repr": "5",
          "type": "int"
         }
        ],
        "-3261251303804982457": [
         "356",
         {
          "args": [
           "-1872445906533970845",
           "9104402431856661258"
          ],
          "function": "Abstraction.__call__",
          "type_params": {
           "T": {
            "type": "Integer"
           },
           "U": {
            "params": {
             "T": {
              "type": "Integer"
             },
             "U": {
              "params": {
               "T": {
                "type": "Integer"
               },
               "U": {
                "type": "Integer"
               }
              },
              "type": "Abstraction"
             }
            },
            "type": "Abstraction"
           }
          }
         }
        ],
        "-3268802043082511407": [
         "584",
         {
          "args": [
           "-7661341722628591403",
           "-2709874245198447753"
          ],
          "function": "Abstraction.__call__",
          "type_params": {
           "T": {
            "type": "Integer"
           },
           "U": {
            "params": {
             "T": {
              "type": "Integer"
             },
             "U": {
              "type": "Integer"
             }
            },
            "type": "Abstraction"
           }
          }
         }
        ],
        "-3289004802403072970": [
         "2100",
         {
          "args": [
           "-8711828802046356240"
          ],
          "function": "Abstraction.create_variable",
          "type_params": {
           "T": {
            "params": {
             "T": {
              "type": "Integer"
             },
             "U": {
              "params": {
               "T": {
                "type": "Integer"
               },
               "U": {
                "params": {
                 "T": {
                  "type": "Integer"
                 },
                 "U": {
                  "type": "Integer"
                 }
                },
                "type": "Abstraction"
               }
              },
              "type": "Abstraction"
             }
            },
            "type": "Abstraction"
           },
           "U": {
            "params": {
             "T": {
              "type": "Integer"
             },
             "U": {
              "params": {
               "T": {
                "type": "Integer"
               },
               "U": {
                "params": {
                 "T": {
                  "type": "Integer"
                 },
                 "U": {
                  "type": "Integer"
                 }
                },
                "type": "Abstraction"
               }
              },
              "type": "Abstraction"
             }
            },
            "type": "Abstraction"
           }
          }
         }
        ],
        "-329086784906391893": [
         "869",
         {
          "args": [
           "-8581187249990887070",
           "-5424093814210459874",
           "-3589837022479227720"
          ],
          "function": "Boolean.if_"
         }
        ],
        "-3309245516423521805": [
         "11",
         {
          "args": [
           "4300501360281088643",
           "2034744756877462493"
          ],
          "function": "FunctionThree.create",
          "type_params": {
           "T": {
            "type": "Integer"
           },
           "U": {
            "type": "Integer"
           },
           "V": {
            "type": "Integer"
           },
           "X": {
            "type": "Integer"
           }
          }
         }
        ],
        "-3353729048366871831": [
         "1371",
         {
          "args": [
           "-3589837022479227720",
           "2852709524006975560"
          ],
          "function": "Abstraction.create",
          "type_params": {
           "T": {
            "type": "Integer"
           },
           "U": {
            "params": {
             "T": {
              "type": "Integer"
             },
             "U": {
              "type": "Integer"
             }
            },
            "type": "Abstraction"
           }
          }
         }
        ],
        "-3364381747267514194": [
         "4",
         {
          "args": [
           "6316054561518859090",
           "-3763664595638790119"
          ],
          "function": "Abstraction.__call__",
          "type_params": {
           "T": {
            "type": "Integer"
           },
           "U": {
            "type": "Integer"
           }
          }
         }
        ],
        "-3369716987863233395": [
         "4",
         {
          "args": [
           "-4903986342512942149",
           "6425858165541754480",
           "-3763664595638790119"
          ],
          "function": "Boolean.if_"
         }
        ],
        "-3417872996016180307": [
         "1108",
         {
          "args": [
           "-6082467777081323418",
           "920388089481385983",
           "-4928450385570989276"
          ],
          "function": "Boolean.if_"
         }
        ],
        "-3446083547422169622": [
         "1902",
         {
          "args": [
           "-4903986342512942149",
           "-468898614798629918",
           "-3490185468687918171"
          ],
          "function": "Boolean.if_"
         }
        ],
        "-3490185468687918171": [
         "1901",
         {
          "args": [
           "-1083443876546642859",
           "-5424093814210459874",
           "-3763664595638790119"
          ],
          "function": "Boolean.if_"
         }
        ],
        "-3516607987589489624": [
         "290",
         {
          "args": [
           "-5424093814210459874",
           "4761102405184900263"
          ],
          "function": "Abstraction.create",
          "type_params": {
           "T": {
            "type": "Integer"
           },
           "U": {
            "type": "Integer"
           }
          }
         }
        ],
        "-3568518314450929716": [
         "4",
         {
          "args": [
           "4157626137894194315",
           "2715851688742255366",
           "7907100286168690534"
          ],
          "function": "Boolean.if_"
         }
        ],
        "-3589837022479227720": [
         "2104",
         {
          "args": [
           "-368073151851464319"
          ],
          "function": "Abstraction.create_variable",
          "type_params": {
           "T": {
            "type": "Integer"
           },
           "U": {
            "params": {
             "T": {
              "type": "Integer"
             },
             "U": {
              "type": "Integer"
             }
            },
            "type": "Abstraction"
           }
          }
         }
        ],
        "-3605381955466694230": [
         "187",
         {
          "args": [
           "5470830568851367095",
           "6317467995547306266",
           "-5424093814210459874",
           "-7176269575796675394"
          ],
          "function": "FunctionThree.__call__",
          "type_params": {
           "T": {
            "type": "Integer"
           },
           "U": {
            "type": "Integer"
           },
           "V": {
            "type": "Integer"
           },
           "X": {
            "type": "Integer"
           }
          }
         }
        ],
        "-3609943587740497065": [
         "1574",
         {
          "args": [
           "-5424093814210459874",
           "3959199155064126360"
          ],
          "function": "Abstraction.create",
          "type_params": {
           "T": {
            "type": "Integer"
           },
           "U": {
            "type": "Integer"
           }
          }
         }
        ],
        "-3627663358061894108": [
         "4",
         {
          "args": [
           "7530664850830435899",
           "-2836458671663647227"
          ],
          "function": "Abstraction.__call__",
          "type_params": {
           "T": {
            "type": "Integer"
           },
           "U": {
            "type": "Integer"
           }
          }
         }
        ],
        "-368073151851464319": [
         "2103",
         {
          "repr": "140311752600016",
          "type": "Variable"
         }
        ],
        "-3728037247125741599": [
         "746",
         {
          "args": [
           "6939747575173945354",
           "-2836458671663647227",
           "-2709874245198447753"
          ],
          "function": "Boolean.if_"
         }
        ],
        "-3763664595638790119": [
         "1936",
         {
          "args": [
           "3471470947411836406"
          ],
          "function": "Integer.from_int"
         }
        ],
        "-377638062034473981": [
         "1930",
         {
          "args": [
           "-2836458671663647227",
           "-2709874245198447753"
          ],
          "function": "Integer.__sub__"
         }
        ],
        "-3882487081131308648": [
         "19",
         {
          "args": [
           "-3289004802403072970",
           "1193604216406863300"
          ],
          "function": "Abstraction.create",
          "type_params": {
           "T": {
            "params": {
             "T": {
              "type": "Integer"
             },
             "U": {
              "params": {
               "T": {
                "type": "Integer"
               },
               "U": {
                "params": {
                 "T": {
                  "type": "Integer"
                 },
                 "U": {
                  "type": "Integer"
                 }
                },
                "type": "Abstraction"
               }
              },
              "type": "Abstraction"
             }
            },
            "type": "Abstraction"
           },
           "U": {
            "params": {
             "T": {
              "type": "Integer"
             },
             "U": {
              "params": {
               "T": {
                "type": "Integer"
               },
               "U": {
                "params": {
                 "T": {
                  "type": "Integer"
                 },
                 "U": {
                  "type": "Integer"
                 }
                },
                "type": "Abstraction"
               }
              },
              "type": "Abstraction"
             }
            },
            "type": "Abstraction"
           }
          }
         }
        ],
        "-3913899839426883407": [
         "4",
         {
          "args": [
           "3752474179645308153",
           "2880972934891874091"
          ],
          "function": "Abstraction.__call__",
          "type_params": {
           "T": {
            "type": "Integer"
           },
           "U": {
            "type": "Integer"
           }
          }
         }
        ],
        "-3924738252847071971": [
         "171",
         {
          "args": [
           "-4743301939271025088",
           "6580081994755491934"
          ],
          "function": "Abstraction.__call__",
          "type_params": {
           "T": {
            "type": "Integer"
           },
           "U": {
            "params": {
             "T": {
              "type": "Integer"
             },
             "U": {
              "type": "Integer"
             }
            },
            "type": "Abstraction"
           }
          }
         }
        ],
        "-397534483580518368": [
         "2135",
         {
          "repr": "False",
          "type": "bool"
         }
        ],
        "-398755679372278487": [
         "192",
         {
          "args": [
           "-3589837022479227720",
           "-2730473268501935680"
          ],
          "function": "Abstraction.create",
          "type_params": {
           "T": {
            "type": "Integer"
           },
           "U": {
            "params": {
             "T": {
              "type": "Integer"
             },
             "U": {
              "type": "Integer"
             }
            },
            "type": "Abstraction"
           }
          }
         }
        ],
        "-400078499597817794": [
         "2130",
         {
          "args": [
           "-2709874245198447753",
           "-2709874245198447753"
          ],
          "function": "Integer.eq"
         }
        ],
        "-4045578726987333157": [
         "7",
         {
          "args": [
           "3892200530871370918",
           "-6481088123452881559"
          ],
          "function": "Abstraction.create",
          "type_params": {
           "T": {
            "type": "Integer"
           },
           "U": {
            "type": "Integer"
           }
          }
         }
        ],
        "-408151788992414269": [
         "27",
         {
          "repr": "FunctionReplaceTyping(fn=<function FunctionThree.from_fn_recursive.<locals>.inner.<locals>.inner.<locals>.inner at 0x7f9d20139e50>, typevars={~V: <class 'metadsl_core.integer.Integer'>, ~U: <class 'metadsl_core.integer.Integer'>, ~T: <class 'metadsl_core.integer.Integer'>, ~X: <class 'metadsl_core.integer.Integer'>}, typevars_in_scope={~X, ~U, ~T, ~V})",
          "type": "FunctionReplaceTyping"
         }
        ],
        "-4188347793400235236": [
         "1538",
         {
          "args": [
           "-5724940749907970172",
           "8673918263114747962"
          ],
          "function": "Abstraction.__call__",
          "type_params": {
           "T": {
            "type": "Integer"
           },
           "U": {
            "type": "Integer"
           }
          }
         }
        ],
        "-4201266939211086306": [
         "483",
         {
          "args": [
           "-5424093814210459874",
           "3596605001098433744"
          ],
          "function": "Abstraction.create",
          "type_params": {
           "T": {
            "type": "Integer"
           },
           "U": {
            "type": "Integer"
           }
          }
         }
        ],
        "-4215596480433184121": [
         "4",
         {
          "args": [
           "1875031177834470621",
           "-2836458671663647227"
          ],
          "function": "Abstraction.__call__",
          "type_params": {
           "T": {
            "type": "Integer"
           },
           "U": {
            "type": "Integer"
           }
          }
         }
        ],
        "-4248657993478939615": [
         "4",
         {
          "args": [
           "1215757028544788913",
           "3628454707746313761"
          ],
          "function": "FunctionOne.__call__",
          "type_params": {
           "T": {
            "type": "Integer"
           },
           "U": {
            "type": "Integer"
           }
          }
         }
        ],
        "-4263424021073717677": [
         "7",
         {
          "args": [
           "3892200530871370918",
           "-6266959341674942504"
          ],
          "function": "Abstraction.create",
          "type_params": {
           "T": {
            "type": "Integer"
           },
           "U": {
            "type": "Integer"
           }
          }
         }
        ],
        "-4268747143896634808": [
         "7",
         {
          "args": [
           "3892200530871370918",
           "-7290309209505012195"
          ],
          "function": "Abstraction.create",
          "type_params": {
           "T": {
            "type": "Integer"
           },
           "U": {
            "type": "Integer"
           }
          }
         }
        ],
        "-4301641197055813626": [
         "1464",
         {
          "args": [
           "7709347977351142111",
           "-177319682818022094",
           "-5678269782707994142"
          ],
          "function": "Boolean.if_"
         }
        ],
        "-4335706772558633662": [
         "1664",
         {
          "args": [
           "-7976381005861746498",
           "2597223290409949548",
           "6312975230971636367"
          ],
          "function": "Boolean.if_"
         }
        ],
        "-4389127747206091960": [
         "1504",
         {
          "args": [
           "8686755194847750846"
          ],
          "function": "Integer.from_int"
         }
        ],
        "-4421572051485566355": [
         "519",
         {
          "repr": "9",
          "type": "int"
         }
        ],
        "-4443212575559713586": [
         "1299",
         {
          "args": [
           "6651684258556635474",
           "-5424093814210459874"
          ],
          "function": "Abstraction.__call__",
          "type_params": {
           "T": {
            "type": "Integer"
           },
           "U": {
            "params": {
             "T": {
              "type": "Integer"
             },
             "U": {
              "type": "Integer"
             }
            },
            "type": "Abstraction"
           }
          }
         }
        ],
        "-4508821757461522033": [
         "1865",
         {
          "args": [
           "-5424093814210459874",
           "-2465353763257484938"
          ],
          "function": "Abstraction.create",
          "type_params": {
           "T": {
            "type": "Integer"
           },
           "U": {
            "type": "Integer"
           }
          }
         }
        ],
        "-4576124321088718004": [
         "1940",
         {
          "args": [
           "1430599728253316827",
           "426075460217857655",
           "-3763664595638790119"
          ],
          "function": "Boolean.if_"
         }
        ],
        "-4581475611219551891": [
         "171",
         {
          "args": [
           "-5424093814210459874",
           "-1637222315687401071"
          ],
          "function": "Abstraction.create",
          "type_params": {
           "T": {
            "type": "Integer"
           },
           "U": {
            "type": "Integer"
           }
          }
         }
        ],
        "-4583652392085431418": [
         "1144",
         {
          "args": [
           "-488380852147112811",
           "9216252889752075526"
          ],
          "function": "Abstraction.__call__",
          "type_params": {
           "T": {
            "type": "Integer"
           },
           "U": {
            "type": "Integer"
           }
          }
         }
        ],
        "-460023881515603218": [
         "1336",
         {
          "args": [
           "6651684258556635474",
           "-807141446486382998"
          ],
          "function": "Abstraction.__call__",
          "type_params": {
           "T": {
            "type": "Integer"
           },
           "U": {
            "params": {
             "T": {
              "type": "Integer"
             },
             "U": {
              "type": "Integer"
             }
            },
            "type": "Abstraction"
           }
          }
         }
        ],
        "-4603566548769018509": [
         "78",
         {
          "args": [
           "1215757028544788913"
          ],
          "function": "FunctionOne.abstraction",
          "type_params": {
           "T": {
            "type": "Integer"
           },
           "U": {
            "type": "Integer"
           }
          }
         }
        ],
        "-4610434476171621727": [
         "4",
         {
          "args": [
           "3274952040090089687",
           "6460412911337626311"
          ],
          "function": "Abstraction.__call__",
          "type_params": {
           "T": {
            "type": "Integer"
           },
           "U": {
            "type": "Integer"
           }
          }
         }
        ],
        "-4621811426348936109": [
         "197",
         {
          "args": [
           "5470830568851367095"
          ],
          "function": "FunctionThree.abstraction",
          "type_params": {
           "T": {
            "type": "Integer"
           },
           "U": {
            "type": "Integer"
           },
           "V": {
            "type": "Integer"
           },
           "X": {
            "type": "Integer"
           }
          }
         }
        ],
        "-4632016820018700821": [
         "1571",
         {
          "args": [
           "-1872445906533970845",
           "5097506971461298912"
          ],
          "function": "Abstraction.__call__",
          "type_params": {
           "T": {
            "type": "Integer"
           },
           "U": {
            "params": {
             "T": {
              "type": "Integer"
             },
             "U": {
              "params": {
               "T": {
                "type": "Integer"
               },
               "U": {
                "type": "Integer"
               }
              },
              "type": "Abstraction"
             }
            },
            "type": "Abstraction"
           }
          }
         }
        ],
        "-4637911471935490360": [
         "4",
         {
          "args": [
           "-5891180103021637001",
           "7789075026334140916",
           "-2709874245198447753"
          ],
          "function": "Boolean.if_"
         }
        ],
        "-4660412633489760477": [
         "4",
         {
          "args": [
           "4451422924031100638",
           "8144778511505664445",
           "-3728037247125741599"
          ],
          "function": "Boolean.if_"
         }
        ],
        "-4682432829213897071": [
         "393",
         {
          "args": [
           "7192003423984924808",
           "5841772961555278415"
          ],
          "function": "Abstraction.__call__",
          "type_params": {
           "T": {
            "type": "Integer"
           },
           "U": {
            "params": {
             "T": {
              "type": "Integer"
             },
             "U": {
              "params": {
               "T": {
                "type": "Integer"
               },
               "U": {
                "type": "Integer"
               }
              },
              "type": "Abstraction"
             }
            },
            "type": "Abstraction"
           }
          }
         }
        ],
        "-468898614798629918": [
         "1899",
         {
          "args": [
           "-641214032171393634",
           "-5320551274042803472"
          ],
          "function": "Abstraction.__call__",
          "type_params": {
           "T": {
            "type": "Integer"
           },
           "U": {
            "type": "Integer"
           }
          }
         }
        ],
        "-4703797407153073536": [
         "940",
         {
          "args": [
           "-6618833741390724430",
           "5097506971461298912"
          ],
          "function": "Abstraction.__call__",
          "type_params": {
           "T": {
            "type": "Integer"
           },
           "U": {
            "params": {
             "T": {
              "type": "Integer"
             },
             "U": {
              "type": "Integer"
             }
            },
            "type": "Abstraction"
           }
          }
         }
        ],
        "-4743301939271025088": [
         "168",
         {
          "args": [
           "-3589837022479227720",
           "-3516607987589489624"
          ],
          "function": "Abstraction.create",
          "type_params": {
           "T": {
            "type": "Integer"
           },
           "U": {
            "params": {
             "T": {
              "type": "Integer"
             },
             "U": {
              "type": "Integer"
             }
            },
            "type": "Abstraction"
           }
          }
         }
        ],
        "-4802058597312459895": [
         "168",
         {
          "args": [
           "3625964966240067889",
           "3628454707746313761"
          ],
          "function": "Abstraction.__call__",
          "type_params": {
           "T": {
            "type": "Integer"
           },
           "U": {
            "params": {
             "T": {
              "type": "Integer"
             },
             "U": {
              "params": {
               "T": {
                "type": "Integer"
               },
               "U": {
                "type": "Integer"
               }
              },
              "type": "Abstraction"
             }
            },
            "type": "Abstraction"
           }
          }
         }
        ],
        "-4863171438465748740": [
         "946",
         {
          "args": [
           "1430599728253316827",
           "5097506971461298912",
           "-2836458671663647227"
          ],
          "function": "Boolean.if_"
         }
        ],
        "-488380852147112811": [
         "1140",
         {
          "args": [
           "1208035936492683470",
           "6460412911337626311"
          ],
          "function": "Abstraction.__call__",
          "type_params": {
           "T": {
            "type": "Integer"
           },
           "U": {
            "params": {
             "T": {
              "type": "Integer"
             },
             "U": {
              "type": "Integer"
             }
            },
            "type": "Abstraction"
           }
          }
         }
        ],
        "-4903986342512942149": [
         "1907",
         {
          "args": [
           "-2836458671663647227",
           "-2709874245198447753"
          ],
          "function": "Integer.__gt__"
         }
        ],
        "-4928450385570989276": [
         "1107",
         {
          "args": [
           "-2261925311115024128",
           "-5424093814210459874",
           "5097506971461298912"
          ],
          "function": "Boolean.if_"
         }
        ],
        "-4939178898422107345": [
         "1371",
         {
          "args": [
           "-6049179160059621010",
           "-4389127747206091960"
          ],
          "function": "Abstraction.__call__",
          "type_params": {
           "T": {
            "type": "Integer"
           },
           "U": {
            "params": {
             "T": {
              "type": "Integer"
             },
             "U": {
              "params": {
               "T": {
                "type": "Integer"
               },
               "U": {
                "type": "Integer"
               }
              },
              "type": "Abstraction"
             }
            },
            "type": "Abstraction"
           }
          }
         }
        ],
        "-5070615486215614682": [
         "738",
         {
          "args": [
           "-807141446486382998",
           "-2709874245198447753"
          ],
          "function": "Integer.__sub__"
         }
        ],
        "-5112228396154281634": [
         "1695",
         {
          "args": [
           "-61676433736038940",
           "-5424093814210459874"
          ],
          "function": "Abstraction.__call__",
          "type_params": {
           "T": {
            "type": "Integer"
           },
           "U": {
            "params": {
             "T": {
              "type": "Integer"
             },
             "U": {
              "type": "Integer"
             }
            },
            "type": "Abstraction"
           }
          }
         }
        ],
        "-5128371292008171051": [
         "1571",
         {
          "args": [
           "-3589837022479227720",
           "-2475248754934642502"
          ],
          "function": "Abstraction.create",
          "type_params": {
           "T": {
            "type": "Integer"
           },
           "U": {
            "params": {
             "T": {
              "type": "Integer"
             },
             "U": {
              "type": "Integer"
             }
            },
            "type": "Abstraction"
           }
          }
         }
        ],
        "-514211328332270769": [
         "1177",
         {
          "args": [
           "-3589837022479227720",
           "7134541812458608113"
          ],
          "function": "Abstraction.create",
          "type_params": {
           "T": {
            "type": "Integer"
           },
           "U": {
            "params": {
             "T": {
              "type": "Integer"
             },
             "U": {
              "type": "Integer"
             }
            },
            "type": "Abstraction"
           }
          }
         }
        ],
        "-5238232715310481233": [
         "2112",
         {
          "args": [
           "2843241746330549358",
           "-7176269575796675394"
          ],
          "function": "Abstraction.__call__",
          "type_params": {
           "T": {
            "type": "Integer"
           },
           "U": {
            "type": "Integer"
           }
          }
         }
        ],
        "-5320551274042803472": [
         "1898",
         {
          "args": [
           "-3763664595638790119",
           "-5424093814210459874"
          ],
          "function": "Integer.__add__"
         }
        ],
        "-5328945945578944828": [
         "1",
         {
          "args": [
           "3915031954868405795",
           "-4263424021073717677"
          ],
          "function": "FunctionOne.create",
          "type_params": {
           "T": {
            "type": "Integer"
           },
           "U": {
            "type": "Integer"
           }
          }
         }
        ],
        "-5346505659340113482": [
         "1",
         {
          "args": [
           "3915031954868405795",
           "-4268747143896634808"
          ],
          "function": "FunctionOne.create",
          "type_params": {
           "T": {
            "type": "Integer"
           },
           "U": {
            "type": "Integer"
           }
          }
         }
        ],
        "-5424093814210459874": [
         "2106",
         {
          "args": [
           "2991345566808093351"
          ],
          "function": "Abstraction.create_variable",
          "type_params": {
           "T": {
            "type": "Integer"
           },
           "U": {
            "type": "Integer"
           }
          }
         }
        ],
        "-5437740450720867563": [
         "4",
         {
          "args": [
           "-836404993843325586",
           "3628454707746313761"
          ],
          "function": "FunctionOne.__call__",
          "type_params": {
           "T": {
            "type": "Integer"
           },
           "U": {
            "type": "Integer"
           }
          }
         }
        ],
        "-5443258326517837687": [
         "1178",
         {
          "args": [
           "-514211328332270769",
           "6460412911337626311"
          ],
          "function": "Abstraction.__call__",
          "type_params": {
           "T": {
            "type": "Integer"
           },
           "U": {
            "params": {
             "T": {
              "type": "Integer"
             },
             "U": {
              "type": "Integer"
             }
            },
            "type": "Abstraction"
           }
          }
         }
        ],
        "-5454424971999068766": [
         "2024",
         {
          "args": [
           "2302189858237529512",
           "-7176269575796675394"
          ],
          "function": "Abstraction.__call__",
          "type_params": {
           "T": {
            "type": "Integer"
           },
           "U": {
            "type": "Integer"
           }
          }
         }
        ],
        "-5483534949603105536": [
         "4",
         {
          "args": [
           "-5891180103021637001",
           "-3229544847317331348",
           "-2709874245198447753"
          ],
          "function": "Boolean.if_"
         }
        ],
        "-5590795980211330365": [
         "1735",
         {
          "repr": "13",
          "type": "int"
         }
        ],
        "-5608306643295721245": [
         "1730",
         {
          "args": [
           "5097506971461298912",
           "-2709874245198447753"
          ],
          "function": "Integer.__sub__"
         }
        ],
        "-563377217010615496": [
         "2102",
         {
          "args": [
           "-2488375727644783629"
          ],
          "function": "Abstraction.create_variable",
          "type_params": {
           "T": {
            "type": "Integer"
           },
           "U": {
            "params": {
             "T": {
              "type": "Integer"
             },
             "U": {
              "params": {
               "T": {
                "type": "Integer"
               },
               "U": {
                "type": "Integer"
               }
              },
              "type": "Abstraction"
             }
            },
            "type": "Abstraction"
           }
          }
         }
        ],
        "-5678269782707994142": [
         "1463",
         {
          "args": [
           "-7759673457477519007",
           "-5424093814210459874",
           "-3589837022479227720"
          ],
          "function": "Boolean.if_"
         }
        ],
        "-5708294416994847057": [
         "4",
         {
          "args": [
           "2558092592748418682",
           "5097506971461298912"
          ],
          "function": "Abstraction.__call__",
          "type_params": {
           "T": {
            "type": "Integer"
           },
           "U": {
            "type": "Integer"
           }
          }
         }
        ],
        "-572155615136026905": [
         "4",
         {
          "args": [
           "-5891180103021637001",
           "377631995659507241",
           "7309345848439327467"
          ],
          "function": "Boolean.if_"
         }
        ],
        "-5724940749907970172": [
         "1534",
         {
          "args": [
           "-2533334673309768806",
           "2880972934891874091"
          ],
          "function": "Abstraction.__call__",
          "type_params": {
           "T": {
            "type": "Integer"
           },
           "U": {
            "params": {
             "T": {
              "type": "Integer"
             },
             "U": {
              "type": "Integer"
             }
            },
            "type": "Abstraction"
           }
          }
         }
        ],
        "-5772030897618842459": [
         "171",
         {
          "args": [
           "-4802058597312459895",
           "6580081994755491934"
          ],
          "function": "Abstraction.__call__",
          "type_params": {
           "T": {
            "type": "Integer"
           },
           "U": {
            "params": {
             "T": {
              "type": "Integer"
             },
             "U": {
              "type": "Integer"
             }
            },
            "type": "Abstraction"
           }
          }
         }
        ],
        "-5822624619271615343": [
         "1",
         {
          "args": [
           "5631107808227512515"
          ],
          "function": "FunctionOne.from_fn"
         }
        ],
        "-5862496125442712057": [
         "980",
         {
          "args": [
           "-5424093814210459874",
           "-3417872996016180307"
          ],
          "function": "Abstraction.create",
          "type_params": {
           "T": {
            "type": "Integer"
           },
           "U": {
            "type": "Integer"
           }
          }
         }
        ],
        "-5891180103021637001": [
         "523",
         {
          "args": [
           "5841772961555278415",
           "-2709874245198447753"
          ],
          "function": "Integer.__gt__"
         }
        ],
        "-595954427610929056": [
         "4",
         {
          "args": [
           "8947543312146021245",
           "-6570485500604829551",
           "6460412911337626311"
          ],
          "function": "Boolean.if_"
         }
        ],
        "-6036138778614868414": [
         "909",
         {
          "repr": "7",
          "type": "int"
         }
        ],
        "-6049179160059621010": [
         "1967",
         {
          "args": [
           "360747163981649829",
           "-1872445906533970845"
          ],
          "function": "Abstraction.__call__",
          "type_params": {
           "T": {
            "params": {
             "T": {
              "type": "Integer"
             },
             "U": {
              "params": {
               "T": {
                "type": "Integer"
               },
               "U": {
                "params": {
                 "T": {
                  "type": "Integer"
                 },
                 "U": {
                  "type": "Integer"
                 }
                },
                "type": "Abstraction"
               }
              },
              "type": "Abstraction"
             }
            },
            "type": "Abstraction"
           },
           "U": {
            "params": {
             "T": {
              "type": "Integer"
             },
             "U": {
              "params": {
               "T": {
                "type": "Integer"
               },
               "U": {
                "params": {
                 "T": {
                  "type": "Integer"
                 },
                 "U": {
                  "type": "Integer"
                 }
                },
                "type": "Abstraction"
               }
              },
              "type": "Abstraction"
             }
            },
            "type": "Abstraction"
           }
          }
         }
        ],
        "-6074466472095857739": [
         "707",
         {
          "args": [
           "9176229838676939566",
           "-2079870262008396274"
          ],
          "function": "Abstraction.__call__",
          "type_params": {
           "T": {
            "type": "Integer"
           },
           "U": {
            "type": "Integer"
           }
          }
         }
        ],
        "-6082467777081323418": [
         "1113",
         {
          "args": [
           "1623328830782906858",
           "-2709874245198447753"
          ],
          "function": "Integer.__gt__"
         }
        ],
        "-6086490831062278601": [
         "1304",
         {
          "args": [
           "8947543312146021245",
           "-3144755692158465336",
           "-9022754986961483136"
          ],
          "function": "Boolean.if_"
         }
        ],
        "-6162375902643725053": [
         "4",
         {
          "args": [
           "5763223255456475230",
           "7907100286168690534"
          ],
          "function": "Abstraction.__call__",
          "type_params": {
           "T": {
            "type": "Integer"
           },
           "U": {
            "type": "Integer"
           }
          }
         }
        ],
        "-61676433736038940": [
         "1731",
         {
          "args": [
           "-1872445906533970845",
           "-5608306643295721245"
          ],
          "function": "Abstraction.__call__",
          "type_params": {
           "T": {
            "type": "Integer"
           },
           "U": {
            "params": {
             "T": {
              "type": "Integer"
             },
             "U": {
              "params": {
               "T": {
                "type": "Integer"
               },
               "U": {
                "type": "Integer"
               }
              },
              "type": "Abstraction"
             }
            },
            "type": "Abstraction"
           }
          }
         }
        ],
        "-6184182294829639077": [
         "977",
         {
          "args": [
           "-6049179160059621010",
           "1623328830782906858"
          ],
          "function": "Abstraction.__call__",
          "type_params": {
           "T": {
            "type": "Integer"
           },
           "U": {
            "params": {
             "T": {
              "type": "Integer"
             },
             "U": {
              "params": {
               "T": {
                "type": "Integer"
               },
               "U": {
                "type": "Integer"
               }
              },
              "type": "Abstraction"
             }
            },
            "type": "Abstraction"
           }
          }
         }
        ],
        "-619177610481323867": [
         "2022",
         {
          "args": [
           "-1872445906533970845",
           "6317467995547306266"
          ],
          "function": "Abstraction.__call__",
          "type_params": {
           "T": {
            "type": "Integer"
           },
           "U": {
            "params": {
             "T": {
              "type": "Integer"
             },
             "U": {
              "params": {
               "T": {
                "type": "Integer"
               },
               "U": {
                "type": "Integer"
               }
              },
              "type": "Abstraction"
             }
            },
            "type": "Abstraction"
           }
          }
         }
        ],
        "-6221961394206801781": [
         "1340",
         {
          "args": [
           "7037510580304497833",
           "-807141446486382998",
           "6460412911337626311"
          ],
          "function": "Boolean.if_"
         }
        ],
        "-6257503974023180242": [
         "2125",
         {
          "args": [
           "2376325871684663273",
           "7907100286168690534"
          ],
          "function": "Abstraction.__call__",
          "type_params": {
           "T": {
            "type": "Integer"
           },
           "U": {
            "params": {
             "T": {
              "type": "Integer"
             },
             "U": {
              "type": "Integer"
             }
            },
            "type": "Abstraction"
           }
          }
         }
        ],
        "-6266959341674942504": [
         "16",
         {
          "args": [
           "5954704016758937557",
           "3892200530871370918",
           "6580081994755491934",
           "-2709874245198447753"
          ],
          "function": "FunctionThree.__call__",
          "type_params": {
           "T": {
            "type": "Integer"
           },
           "U": {
            "type": "Integer"
           },
           "V": {
            "type": "Integer"
           },
           "X": {
            "type": "Integer"
           }
          }
         }
        ],
        "-6352367482909406248": [
         "4",
         {
          "args": [
           "4157626137894194315",
           "1392273010004722915",
           "7907100286168690534"
          ],
          "function": "Boolean.if_"
         }
        ],
        "-641214032171393634": [
         "1895",
         {
          "args": [
           "-3096293770195600059",
           "-5424093814210459874"
          ],
          "function": "Abstraction.__call__",
          "type_params": {
           "T": {
            "type": "Integer"
           },
           "U": {
            "params": {
             "T": {
              "type": "Integer"
             },
             "U": {
              "type": "Integer"
             }
            },
            "type": "Abstraction"
           }
          }
         }
        ],
        "-6481088123452881559": [
         "16",
         {
          "args": [
           "-3309245516423521805",
           "3892200530871370918",
           "6580081994755491934",
           "-2709874245198447753"
          ],
          "function": "FunctionThree.__call__",
          "type_params": {
           "T": {
            "type": "Integer"
           },
           "U": {
            "type": "Integer"
           },
           "V": {
            "type": "Integer"
           },
           "X": {
            "type": "Integer"
           }
          }
         }
        ],
        "-6514372031518841616": [
         "4",
         {
          "args": [
           "-5891180103021637001",
           "377631995659507241",
           "9052403675040820090"
          ],
          "function": "Boolean.if_"
         }
        ],
        "-6541968139055353049": [
         "4",
         {
          "args": [
           "-1759599643853235173",
           "6460412911337626311"
          ],
          "function": "Abstraction.__call__",
          "type_params": {
           "T": {
            "type": "Integer"
           },
           "U": {
            "type": "Integer"
           }
          }
         }
        ],
        "-654426317423379608": [
         "674",
         {
          "args": [
           "4451422924031100638",
           "-8277343447404176067",
           "2609959140855065448"
          ],
          "function": "Boolean.if_"
         }
        ],
        "-6570485500604829551": [
         "4",
         {
          "args": [
           "2943933769287712280",
           "2880972934891874091"
          ],
          "function": "Abstraction.__call__",
          "type_params": {
           "T": {
            "type": "Integer"
           },
           "U": {
            "type": "Integer"
           }
          }
         }
        ],
        "-6608702614986694197": [
         "4",
         {
          "args": [
           "6045014357752365256",
           "6001403824663744290",
           "-2836458671663647227"
          ],
          "function": "Boolean.if_"
         }
        ],
        "-6618833741390724430": [
         "937",
         {
          "args": [
           "-1872445906533970845",
           "-7875381435478718192"
          ],
          "function": "Abstraction.__call__",
          "type_params": {
           "T": {
            "type": "Integer"
           },
           "U": {
            "params": {
             "T": {
              "type": "Integer"
             },
             "U": {
              "params": {
               "T": {
                "type": "Integer"
               },
               "U": {
                "type": "Integer"
               }
              },
              "type": "Abstraction"
             }
            },
            "type": "Abstraction"
           }
          }
         }
        ],
        "-6620960263084286883": [
         "4",
         {
          "args": [
           "-4903986342512942149",
           "657211605344755362",
           "-3763664595638790119"
          ],
          "function": "Boolean.if_"
         }
        ],
        "-6660993338273451131": [
         "4",
         {
          "args": [
           "-4581475611219551891",
           "-2709874245198447753"
          ],
          "function": "Abstraction.__call__",
          "type_params": {
           "T": {
            "type": "Integer"
           },
           "U": {
            "type": "Integer"
           }
          }
         }
        ],
        "-6675131771555219437": [
         "1071",
         {
          "args": [
           "-5424093814210459874",
           "5484246160591506775"
          ],
          "function": "Abstraction.create",
          "type_params": {
           "T": {
            "type": "Integer"
           },
           "U": {
            "type": "Integer"
           }
          }
         }
        ],
        "-6692727781690316274": [
         "2115",
         {
          "args": [
           "-8766775242920447901",
           "-5238232715310481233",
           "-2497883094049221244"
          ],
          "function": "Boolean.if_"
         }
        ],
        "-6711768409905341135": [
         "518",
         {
          "args": [
           "-5891180103021637001",
           "4063310302347050316",
           "-8368236447176785930"
          ],
          "function": "Boolean.if_"
         }
        ],
        "-6743269233114595865": [
         "4",
         {
          "args": [
           "-7701502705083567088",
           "426075460217857655"
          ],
          "function": "Abstraction.__call__",
          "type_params": {
           "T": {
            "type": "Integer"
           },
           "U": {
            "type": "Integer"
           }
          }
         }
        ],
        "-677639204195813609": [
         "168",
         {
          "args": [
           "8393830299880851933",
           "3628454707746313761"
          ],
          "function": "Abstraction.__call__",
          "type_params": {
           "T": {
            "type": "Integer"
           },
           "U": {
            "params": {
             "T": {
              "type": "Integer"
             },
             "U": {
              "params": {
               "T": {
                "type": "Integer"
               },
               "U": {
                "type": "Integer"
               }
              },
              "type": "Abstraction"
             }
            },
            "type": "Abstraction"
           }
          }
         }
        ],
        "-6792013324847907552": [
         "908",
         {
          "args": [
           "6045014357752365256",
           "5369712301075259905",
           "4765453286620715103"
          ],
          "function": "Boolean.if_"
         }
        ],
        "-6804323267347952162": [
         "4",
         {
          "args": [
           "-2446694479777018630",
           "-2836458671663647227"
          ],
          "function": "Abstraction.__call__",
          "type_params": {
           "T": {
            "type": "Integer"
           },
           "U": {
            "type": "Integer"
           }
          }
         }
        ],
        "-6822660633696501701": [
         "332",
         {
          "args": [
           "3628454707746313761",
           "-2709874245198447753"
          ],
          "function": "Integer.__gt__"
         }
        ],
        "-6846722187358319882": [
         "4",
         {
          "args": [
           "-7694504097016980406",
           "6425858165541754480",
           "-3763664595638790119"
          ],
          "function": "Boolean.if_"
         }
        ],
        "-6863104524139089718": [
         "20",
         {
          "args": [
           "9162462604854124288"
          ],
          "function": "Abstraction.fix"
         }
        ],
        "-6927906364548010505": [
         "710",
         {
          "args": [
           "4451422924031100638",
           "-6074466472095857739",
           "6090449127306844657"
          ],
          "function": "Boolean.if_"
         }
        ],
        "-6976198223006734701": [
         "1903",
         {
          "repr": "2",
          "type": "int"
         }
        ],
        "-7041554985898816785": [
         "780",
         {
          "args": [
           "5615835553781991412",
           "-2836458671663647227"
          ],
          "function": "Abstraction.__call__",
          "type_params": {
           "T": {
            "type": "Integer"
           },
           "U": {
            "params": {
             "T": {
              "type": "Integer"
             },
             "U": {
              "type": "Integer"
             }
            },
            "type": "Abstraction"
           }
          }
         }
        ],
        "-7095314879911207457": [
         "946",
         {
          "args": [
           "-8581187249990887070",
           "5097506971461298912",
           "-2836458671663647227"
          ],
          "function": "Boolean.if_"
         }
        ],
        "-7176269575796675394": [
         "2111",
         {
          "args": [
           "-3589837022479227720",
           "-5424093814210459874"
          ],
          "function": "Integer.__add__"
         }
        ],
        "-7273593453774887249": [
         "1861",
         {
          "args": [
           "-641214032171393634",
           "-7176269575796675394"
          ],
          "function": "Abstraction.__call__",
          "type_params": {
           "T": {
            "type": "Integer"
           },
           "U": {
            "type": "Integer"
           }
          }
         }
        ],
        "-7279802344150205896": [
         "4",
         {
          "args": [
           "-5772030897618842459",
           "-2709874245198447753"
          ],
          "function": "Abstraction.__call__",
          "type_params": {
           "T": {
            "type": "Integer"
           },
           "U": {
            "type": "Integer"
           }
          }
         }
        ],
        "-7290309209505012195": [
         "16",
         {
          "args": [
           "249475405937933398",
           "3892200530871370918",
           "6580081994755491934",
           "-2709874245198447753"
          ],
          "function": "FunctionThree.__call__",
          "type_params": {
           "T": {
            "type": "Integer"
           },
           "U": {
            "type": "Integer"
           },
           "V": {
            "type": "Integer"
           },
           "X": {
            "type": "Integer"
           }
          }
         }
        ],
        "-7371075420937989069": [
         "194",
         {
          "args": [
           "-3289004802403072970",
           "5970312659489861404"
          ],
          "function": "Abstraction.create",
          "type_params": {
           "T": {
            "params": {
             "T": {
              "type": "Integer"
             },
             "U": {
              "params": {
               "T": {
                "type": "Integer"
               },
               "U": {
                "params": {
                 "T": {
                  "type": "Integer"
                 },
                 "U": {
                  "type": "Integer"
                 }
                },
                "type": "Abstraction"
               }
              },
              "type": "Abstraction"
             }
            },
            "type": "Abstraction"
           },
           "U": {
            "params": {
             "T": {
              "type": "Integer"
             },
             "U": {
              "params": {
               "T": {
                "type": "Integer"
               },
               "U": {
                "params": {
                 "T": {
                  "type": "Integer"
                 },
                 "U": {
                  "type": "Integer"
                 }
                },
                "type": "Abstraction"
               }
              },
              "type": "Abstraction"
             }
            },
            "type": "Abstraction"
           }
          }
         }
        ],
        "-7409168338254583045": [
         "4",
         {
          "args": [
           "-7818357850485162327",
           "2880972934891874091"
          ],
          "function": "Abstraction.__call__",
          "type_params": {
           "T": {
            "type": "Integer"
           },
           "U": {
            "type": "Integer"
           }
          }
         }
        ],
        "-7450369050644197011": [
         "481",
         {
          "args": [
           "-2070637637055337711",
           "-5424093814210459874",
           "-3589837022479227720"
          ],
          "function": "Boolean.if_"
         }
        ],
        "-7489683487152689717": [
         "110",
         {
          "args": [
           "2356343141563630304",
           "3892200530871370918",
           "6580081994755491934",
           "-2709874245198447753"
          ],
          "function": "FunctionThree.__call__",
          "type_params": {
           "T": {
            "type": "Integer"
           },
           "U": {
            "type": "Integer"
           },
           "V": {
            "type": "Integer"
           },
           "X": {
            "type": "Integer"
           }
          }
         }
        ],
        "-7492157356392922807": [
         "7",
         {
          "args": [
           "5631107808227512515"
          ],
          "function": "Abstraction.from_fn"
         }
        ],
        "-7569839476423556956": [
         "4",
         {
          "args": [
           "-4903986342512942149",
           "657211605344755362",
           "-1058394709190360765"
          ],
          "function": "Boolean.if_"
         }
        ],
        "-7615870743718692864": [
         "4",
         {
          "args": [
           "-7694504097016980406",
           "-6570485500604829551",
           "6460412911337626311"
          ],
          "function": "Boolean.if_"
         }
        ],
        "-7623049584693957873": [
         "4",
         {
          "args": [
           "-3149881222574482240",
           "-807141446486382998"
          ],
          "function": "Abstraction.__call__",
          "type_params": {
           "T": {
            "type": "Integer"
           },
           "U": {
            "type": "Integer"
           }
          }
         }
        ],
        "-7644524782377046167": [
         "583",
         {
          "args": [
           "-3589837022479227720",
           "1519818444218969090"
          ],
          "function": "Abstraction.create",
          "type_params": {
           "T": {
            "type": "Integer"
           },
           "U": {
            "params": {
             "T": {
              "type": "Integer"
             },
             "U": {
              "type": "Integer"
             }
            },
            "type": "Abstraction"
           }
          }
         }
        ],
        "-7661341722628591403": [
         "583",
         {
          "args": [
           "-1872445906533970845",
           "-807141446486382998"
          ],
          "function": "Abstraction.__call__",
          "type_params": {
           "T": {
            "type": "Integer"
           },
           "U": {
            "params": {
             "T": {
              "type": "Integer"
             },
             "U": {
              "params": {
               "T": {
                "type": "Integer"
               },
               "U": {
                "type": "Integer"
               }
              },
              "type": "Abstraction"
             }
            },
            "type": "Abstraction"
           }
          }
         }
        ],
        "-7669060229917152635": [
         "777",
         {
          "args": [
           "-1872445906533970845",
           "3439368715880091039"
          ],
          "function": "Abstraction.__call__",
          "type_params": {
           "T": {
            "type": "Integer"
           },
           "U": {
            "params": {
             "T": {
              "type": "Integer"
             },
             "U": {
              "params": {
               "T": {
                "type": "Integer"
               },
               "U": {
                "type": "Integer"
               }
              },
              "type": "Abstraction"
             }
            },
            "type": "Abstraction"
           }
          }
         }
        ],
        "-7694504097016980406": [
         "2130",
         {
          "args": [
           "1711748889537111929"
          ],
          "function": "Boolean.create"
         }
        ],
        "-7701502705083567088": [
         "1774",
         {
          "args": [
           "-5424093814210459874",
           "-3446083547422169622"
          ],
          "function": "Abstraction.create",
          "type_params": {
           "T": {
            "type": "Integer"
           },
           "U": {
            "type": "Integer"
           }
          }
         }
        ],
        "-775324129242212287": [
         "2025",
         {
          "args": [
           "-8766775242920447901",
           "-5454424971999068766",
           "-2497883094049221244"
          ],
          "function": "Boolean.if_"
         }
        ],
        "-7759673457477519007": [
         "1539",
         {
          "args": [
           "-4389127747206091960",
           "-2709874245198447753"
          ],
          "function": "Integer.eq"
         }
        ],
        "-7767012653730305004": [
         "394",
         {
          "args": [
           "6717702015561652472",
           "-2709874245198447753"
          ],
          "function": "Abstraction.__call__",
          "type_params": {
           "T": {
            "type": "Integer"
           },
           "U": {
            "params": {
             "T": {
              "type": "Integer"
             },
             "U": {
              "type": "Integer"
             }
            },
            "type": "Abstraction"
           }
          }
         }
        ],
        "-7781608503743410166": [
         "4",
         {
          "args": [
           "1415139444494496608",
           "5097506971461298912"
          ],
          "function": "Abstraction.__call__",
          "type_params": {
           "T": {
            "type": "Integer"
           },
           "U": {
            "type": "Integer"
           }
          }
         }
        ],
        "-7818357850485162327": [
         "1374",
         {
          "args": [
           "-5424093814210459874",
           "-2219963984981441563"
          ],
          "function": "Abstraction.create",
          "type_params": {
           "T": {
            "type": "Integer"
           },
           "U": {
            "type": "Integer"
           }
          }
         }
        ],
        "-7875381435478718192": [
         "936",
         {
          "args": [
           "3439368715880091039",
           "-2709874245198447753"
          ],
          "function": "Integer.__sub__"
         }
        ],
        "-7955138184593606182": [
         "1863",
         {
          "args": [
           "-1083443876546642859",
           "-5424093814210459874",
           "-3589837022479227720"
          ],
          "function": "Boolean.if_"
         }
        ],
        "-7976381005861746498": [
         "1707",
         {
          "args": [
           "5097506971461298912",
           "-2709874245198447753"
          ],
          "function": "Integer.__gt__"
         }
        ],
        "-7993137167377866168": [
         "4",
         {
          "args": [
           "-2909164352820212039",
           "426075460217857655"
          ],
          "function": "Abstraction.__call__",
          "type_params": {
           "T": {
            "type": "Integer"
           },
           "U": {
            "type": "Integer"
           }
          }
         }
        ],
        "-807141446486382998": [
         "1536",
         {
          "args": [
           "7517531266121986836"
          ],
          "function": "Integer.from_int"
         }
        ],
        "-8120899661747945472": [
         "1067",
         {
          "args": [
           "-1254377099455496499",
           "-7176269575796675394"
          ],
          "function": "Abstraction.__call__",
          "type_params": {
           "T": {
            "type": "Integer"
           },
           "U": {
            "type": "Integer"
           }
          }
         }
        ],
        "-8145422151732498711": [
         "1109",
         {
          "repr": "6",
          "type": "int"
         }
        ],
        "-816344074074461590": [
         "168",
         {
          "args": [
           "-6049179160059621010",
           "3628454707746313761"
          ],
          "function": "Abstraction.__call__",
          "type_params": {
           "T": {
            "type": "Integer"
           },
           "U": {
            "params": {
             "T": {
              "type": "Integer"
             },
             "U": {
              "params": {
               "T": {
                "type": "Integer"
               },
               "U": {
                "type": "Integer"
               }
              },
              "type": "Abstraction"
             }
            },
            "type": "Abstraction"
           }
          }
         }
        ],
        "-8179744224926288619": [
         "4",
         {
          "args": [
           "310881393980767138",
           "-2836458671663647227"
          ],
          "function": "Abstraction.__call__",
          "type_params": {
           "T": {
            "type": "Integer"
           },
           "U": {
            "type": "Integer"
           }
          }
         }
        ],
        "-8206330226539492066": [
         "1178",
         {
          "args": [
           "8005862793445422533",
           "6460412911337626311"
          ],
          "function": "Abstraction.__call__",
          "type_params": {
           "T": {
            "type": "Integer"
           },
           "U": {
            "params": {
             "T": {
              "type": "Integer"
             },
             "U": {
              "type": "Integer"
             }
            },
            "type": "Abstraction"
           }
          }
         }
        ],
        "-8237060831150688205": [
         "16",
         {
          "args": [
           "1981263166940963756",
           "3892200530871370918",
           "6580081994755491934",
           "-2709874245198447753"
          ],
          "function": "FunctionThree.__call__",
          "type_params": {
           "T": {
            "type": "Integer"
           },
           "U": {
            "type": "Integer"
           },
           "V": {
            "type": "Integer"
           },
           "X": {
            "type": "Integer"
           }
          }
         }
        ],
        "-8245738129068564295": [
         "1938",
         {
          "args": [
           "9208060858365832109",
           "7907100286168690534"
          ],
          "function": "Abstraction.__call__",
          "type_params": {
           "T": {
            "type": "Integer"
           },
           "U": {
            "type": "Integer"
           }
          }
         }
        ],
        "-8277343447404176067": [
         "671",
         {
          "args": [
           "9176229838676939566",
           "-7176269575796675394"
          ],
          "function": "Abstraction.__call__",
          "type_params": {
           "T": {
            "type": "Integer"
           },
           "U": {
            "type": "Integer"
           }
          }
         }
        ],
        "-8326640809299790576": [
         "4",
         {
          "args": [
           "8947543312146021245",
           "-1447368936376717486",
           "6460412911337626311"
          ],
          "function": "Boolean.if_"
         }
        ],
        "-836404993843325586": [
         "1",
         {
          "args": [
           "3915031954868405795",
           "-7492157356392922807"
          ],
          "function": "FunctionOne.create",
          "type_params": {
           "T": {
            "type": "Integer"
           },
           "U": {
            "type": "Integer"
           }
          }
         }
        ],
        "-8368236447176785930": [
         "517",
         {
          "args": [
           "-2070637637055337711",
           "-5424093814210459874",
           "-2709874245198447753"
          ],
          "function": "Boolean.if_"
         }
        ],
        "-8397591086290459920": [
         "190",
         {
          "args": [
           "-8766775242920447901",
           "-3605381955466694230",
           "-2497883094049221244"
          ],
          "function": "Boolean.if_"
         }
        ],
        "-8424025839876583268": [
         "4",
         {
          "args": [
           "-4903986342512942149",
           "-8245738129068564295",
           "-3763664595638790119"
          ],
          "function": "Boolean.if_"
         }
        ],
        "-853213065637691287": [
         "1968",
         {
          "args": [
           "-3589837022479227720",
           "-3226618881491762800"
          ],
          "function": "Abstraction.create",
          "type_params": {
           "T": {
            "type": "Integer"
           },
           "U": {
            "params": {
             "T": {
              "type": "Integer"
             },
             "U": {
              "type": "Integer"
             }
            },
            "type": "Abstraction"
           }
          }
         }
        ],
        "-8581187249990887070": [
         "945",
         {
          "args": [
           "3439368715880091039",
           "-2709874245198447753"
          ],
          "function": "Integer.eq"
         }
        ],
        "-8590764950136036760": [
         "2134",
         {
          "repr": "0",
          "type": "int"
         }
        ],
        "-8605989849602491738": [
         "4",
         {
          "args": [
           "6045014357752365256",
           "6001403824663744290",
           "-4863171438465748740"
          ],
          "function": "Boolean.if_"
         }
        ],
        "-8612240532703901736": [
         "187",
         {
          "args": [
           "-135815448769694513",
           "-7176269575796675394"
          ],
          "function": "Abstraction.__call__",
          "type_params": {
           "T": {
            "type": "Integer"
           },
           "U": {
            "type": "Integer"
           }
          }
         }
        ],
        "-865291455889119885": [
         "4",
         {
          "args": [
           "-5328945945578944828",
           "3628454707746313761"
          ],
          "function": "FunctionOne.__call__",
          "type_params": {
           "T": {
            "type": "Integer"
           },
           "U": {
            "type": "Integer"
           }
          }
         }
        ],
        "-8691308168488607368": [
         "31",
         {
          "repr": "FunctionReplaceTyping(fn=<function FunctionThree.from_fn_recursive.<locals>.inner.<locals>.inner.<locals>.inner.<locals>.inner at 0x7f9d20139dc0>, typevars={~V: <class 'metadsl_core.integer.Integer'>, ~U: <class 'metadsl_core.integer.Integer'>, ~T: <class 'metadsl_core.integer.Integer'>, ~X: <class 'metadsl_core.integer.Integer'>}, typevars_in_scope={~X, ~U, ~T, ~V})",
          "type": "FunctionReplaceTyping"
         }
        ],
        "-8711828802046356240": [
         "2099",
         {
          "repr": "140312824816112",
          "type": "Variable"
         }
        ],
        "-8741767410507895102": [
         "1771",
         {
          "args": [
           "-1872445906533970845",
           "-2836458671663647227"
          ],
          "function": "Abstraction.__call__",
          "type_params": {
           "T": {
            "type": "Integer"
           },
           "U": {
            "params": {
             "T": {
              "type": "Integer"
             },
             "U": {
              "params": {
               "T": {
                "type": "Integer"
               },
               "U": {
                "type": "Integer"
               }
              },
              "type": "Abstraction"
             }
            },
            "type": "Abstraction"
           }
          }
         }
        ],
        "-8766775242920447901": [
         "2107",
         {
          "args": [
           "-563377217010615496",
           "-2709874245198447753"
          ],
          "function": "Integer.__gt__"
         }
        ],
        "-8900729174652435743": [
         "583",
         {
          "args": [
           "-6049179160059621010",
           "-807141446486382998"
          ],
          "function": "Abstraction.__call__",
          "type_params": {
           "T": {
            "type": "Integer"
           },
           "U": {
            "params": {
             "T": {
              "type": "Integer"
             },
             "U": {
              "params": {
               "T": {
                "type": "Integer"
               },
               "U": {
                "type": "Integer"
               }
              },
              "type": "Abstraction"
             }
            },
            "type": "Abstraction"
           }
          }
         }
        ],
        "-8908447681940996975": [
         "777",
         {
          "args": [
           "-6049179160059621010",
           "3439368715880091039"
          ],
          "function": "Abstraction.__call__",
          "type_params": {
           "T": {
            "type": "Integer"
           },
           "U": {
            "params": {
             "T": {
              "type": "Integer"
             },
             "U": {
              "params": {
               "T": {
                "type": "Integer"
               },
               "U": {
                "type": "Integer"
               }
              },
              "type": "Abstraction"
             }
            },
            "type": "Abstraction"
           }
          }
         }
        ],
        "-8960277140670130418": [
         "2109",
         {
          "args": [
           "-3289004802403072970",
           "6317467995547306266"
          ],
          "function": "Abstraction.__call__",
          "type_params": {
           "T": {
            "type": "Integer"
           },
           "U": {
            "params": {
             "T": {
              "type": "Integer"
             },
             "U": {
              "params": {
               "T": {
                "type": "Integer"
               },
               "U": {
                "type": "Integer"
               }
              },
              "type": "Abstraction"
             }
            },
            "type": "Abstraction"
           }
          }
         }
        ],
        "-8969456781942678574": [
         "18",
         {
          "repr": "FunctionReplaceTyping(fn=<function FunctionThree.from_fn_recursive.<locals>.inner at 0x7f9d20139b80>, typevars={~V: <class 'metadsl_core.integer.Integer'>, ~U: <class 'metadsl_core.integer.Integer'>, ~T: <class 'metadsl_core.integer.Integer'>, ~X: <class 'metadsl_core.integer.Integer'>}, typevars_in_scope={~U, ~T, ~V, ~X})",
          "type": "FunctionReplaceTyping"
         }
        ],
        "-9022754986961483136": [
         "1303",
         {
          "args": [
           "7037510580304497833",
           "-5424093814210459874",
           "6460412911337626311"
          ],
          "function": "Boolean.if_"
         }
        ],
        "-902927629878696283": [
         "361",
         {
          "args": [
           "5131478415594153585",
           "1904285495761131719"
          ],
          "function": "Abstraction.__call__",
          "type_params": {
           "T": {
            "type": "Integer"
           },
           "U": {
            "type": "Integer"
           }
          }
         }
        ],
        "-9218559445326895691": [
         "4",
         {
          "args": [
           "8196416030071920264",
           "5097506971461298912"
          ],
          "function": "Abstraction.__call__",
          "type_params": {
           "T": {
            "type": "Integer"
           },
           "U": {
            "type": "Integer"
           }
          }
         }
        ],
        "-965510855568004391": [
         "2059",
         {
          "args": [
           "4157626137894194315",
           "-123012099190956298",
           "4283954303097098237"
          ],
          "function": "Boolean.if_"
         }
        ],
        "1052663867610175942": [
         "1177",
         {
          "args": [
           "-6049179160059621010",
           "6460412911337626311"
          ],
          "function": "Abstraction.__call__",
          "type_params": {
           "T": {
            "type": "Integer"
           },
           "U": {
            "params": {
             "T": {
              "type": "Integer"
             },
             "U": {
              "params": {
               "T": {
                "type": "Integer"
               },
               "U": {
                "type": "Integer"
               }
              },
              "type": "Abstraction"
             }
            },
            "type": "Abstraction"
           }
          }
         }
        ],
        "1125277876974826930": [
         "746",
         {
          "args": [
           "1430599728253316827",
           "-2836458671663647227",
           "-2709874245198447753"
          ],
          "function": "Boolean.if_"
         }
        ],
        "1193604216406863300": [
         "24",
         {
          "args": [
           "-563377217010615496",
           "7362036039870793627"
          ],
          "function": "Abstraction.create",
          "type_params": {
           "T": {
            "type": "Integer"
           },
           "U": {
            "params": {
             "T": {
              "type": "Integer"
             },
             "U": {
              "params": {
               "T": {
                "type": "Integer"
               },
               "U": {
                "type": "Integer"
               }
              },
              "type": "Abstraction"
             }
            },
            "type": "Abstraction"
           }
          }
         }
        ],
        "1208035936492683470": [
         "1137",
         {
          "args": [
           "-1872445906533970845",
           "9001775461386430749"
          ],
          "function": "Abstraction.__call__",
          "type_params": {
           "T": {
            "type": "Integer"
           },
           "U": {
            "params": {
             "T": {
              "type": "Integer"
             },
             "U": {
              "params": {
               "T": {
                "type": "Integer"
               },
               "U": {
                "type": "Integer"
               }
              },
              "type": "Abstraction"
             }
            },
            "type": "Abstraction"
           }
          }
         }
        ],
        "1215757028544788913": [
         "77",
         {
          "args": [
           "3915031954868405795",
           "5054163699745386801"
          ],
          "function": "FunctionOne.create",
          "type_params": {
           "T": {
            "type": "Integer"
           },
           "U": {
            "type": "Integer"
           }
          }
         }
        ],
        "122056670367809305": [
         "901",
         {
          "args": [
           "-6618833741390724430",
           "-5424093814210459874"
          ],
          "function": "Abstraction.__call__",
          "type_params": {
           "T": {
            "type": "Integer"
           },
           "U": {
            "params": {
             "T": {
              "type": "Integer"
             },
             "U": {
              "type": "Integer"
             }
            },
            "type": "Abstraction"
           }
          }
         }
        ],
        "1240349183033472387": [
         "324",
         {
          "args": [
           "9032197605936594841",
           "5805004686103572975"
          ],
          "function": "Abstraction.__call__",
          "type_params": {
           "T": {
            "type": "Integer"
           },
           "U": {
            "type": "Integer"
           }
          }
         }
        ],
        "1328115795881504315": [
         "4",
         {
          "args": [
           "4981348015777896178",
           "-3763664595638790119"
          ],
          "function": "Abstraction.__call__",
          "type_params": {
           "T": {
            "type": "Integer"
           },
           "U": {
            "type": "Integer"
           }
          }
         }
        ],
        "1334404697358393174": [
         "1374",
         {
          "args": [
           "-3147828262597268323",
           "-807141446486382998"
          ],
          "function": "Abstraction.__call__",
          "type_params": {
           "T": {
            "type": "Integer"
           },
           "U": {
            "params": {
             "T": {
              "type": "Integer"
             },
             "U": {
              "type": "Integer"
             }
            },
            "type": "Abstraction"
           }
          }
         }
        ],
        "1392273010004722915": [
         "2129",
         {
          "args": [
           "-6257503974023180242",
           "462487753784757594"
          ],
          "function": "Abstraction.__call__",
          "type_params": {
           "T": {
            "type": "Integer"
           },
           "U": {
            "type": "Integer"
           }
          }
         }
        ],
        "1393718725000305357": [
         "904",
         {
          "args": [
           "-2836458671663647227",
           "-5424093814210459874"
          ],
          "function": "Integer.__add__"
         }
        ],
        "1394591684371198934": [
         "977",
         {
          "args": [
           "-3589837022479227720",
           "-6675131771555219437"
          ],
          "function": "Abstraction.create",
          "type_params": {
           "T": {
            "type": "Integer"
           },
           "U": {
            "params": {
             "T": {
              "type": "Integer"
             },
             "U": {
              "type": "Integer"
             }
            },
            "type": "Abstraction"
           }
          }
         }
        ],
        "1412812120563463511": [
         "4",
         {
          "args": [
           "4451422924031100638",
           "-2474863177050861745",
           "-2709874245198447753"
          ],
          "function": "Boolean.if_"
         }
        ],
        "1415139444494496608": [
         "780",
         {
          "args": [
           "-7669060229917152635",
           "-2836458671663647227"
          ],
          "function": "Abstraction.__call__",
          "type_params": {
           "T": {
            "type": "Integer"
           },
           "U": {
            "params": {
             "T": {
              "type": "Integer"
             },
             "U": {
              "type": "Integer"
             }
            },
            "type": "Abstraction"
           }
          }
         }
        ],
        "1430599728253316827": [
         "2098",
         {
          "args": [
           "-397534483580518368"
          ],
          "function": "Boolean.create"
         }
        ],
        "1519818444218969090": [
         "675",
         {
          "args": [
           "-5424093814210459874",
           "-654426317423379608"
          ],
          "function": "Abstraction.create",
          "type_params": {
           "T": {
            "type": "Integer"
           },
           "U": {
            "type": "Integer"
           }
          }
         }
        ],
        "1615349311394902901": [
         "4",
         {
          "args": [
           "-7041554985898816785",
           "5097506971461298912"
          ],
          "function": "Abstraction.__call__",
          "type_params": {
           "T": {
            "type": "Integer"
           },
           "U": {
            "type": "Integer"
           }
          }
         }
        ],
        "1623328830782906858": [
         "1110",
         {
          "args": [
           "-8145422151732498711"
          ],
          "function": "Integer.from_int"
         }
        ],
        "1666878387156743624": [
         "165",
         {
          "args": [
           "2356343141563630304"
          ],
          "function": "FunctionThree.abstraction",
          "type_params": {
           "T": {
            "type": "Integer"
           },
           "U": {
            "type": "Integer"
           },
           "V": {
            "type": "Integer"
           },
           "X": {
            "type": "Integer"
           }
          }
         }
        ],
        "1667767348303976343": [
         "4",
         {
          "args": [
           "-5891180103021637001",
           "377631995659507241",
           "-2709874245198447753"
          ],
          "function": "Boolean.if_"
         }
        ],
        "1687539621587232626": [
         "171",
         {
          "args": [
           "-677639204195813609",
           "6580081994755491934"
          ],
          "function": "Abstraction.__call__",
          "type_params": {
           "T": {
            "type": "Integer"
           },
           "U": {
            "params": {
             "T": {
              "type": "Integer"
             },
             "U": {
              "type": "Integer"
             }
            },
            "type": "Abstraction"
           }
          }
         }
        ],
        "1696435964763754435": [
         "2122",
         {
          "args": [
           "-1872445906533970845",
           "6580081994755491934"
          ],
          "function": "Abstraction.__call__",
          "type_params": {
           "T": {
            "type": "Integer"
           },
           "U": {
            "params": {
             "T": {
              "type": "Integer"
             },
             "U": {
              "params": {
               "T": {
                "type": "Integer"
               },
               "U": {
                "type": "Integer"
               }
              },
              "type": "Abstraction"
             }
            },
            "type": "Abstraction"
           }
          }
         }
        ],
        "1709609031923785518": [
         "1178",
         {
          "args": [
           "2844014503435014964",
           "6460412911337626311"
          ],
          "function": "Abstraction.__call__",
          "type_params": {
           "T": {
            "type": "Integer"
           },
           "U": {
            "params": {
             "T": {
              "type": "Integer"
             },
             "U": {
              "type": "Integer"
             }
            },
            "type": "Abstraction"
           }
          }
         }
        ],
        "1711748889537111929": [
         "2132",
         {
          "repr": "True",
          "type": "bool"
         }
        ],
        "1761887883783554750": [
         "547",
         {
          "args": [
           "-1872445906533970845",
           "3033525560441199295"
          ],
          "function": "Abstraction.__call__",
          "type_params": {
           "T": {
            "type": "Integer"
           },
           "U": {
            "params": {
             "T": {
              "type": "Integer"
             },
             "U": {
              "params": {
               "T": {
                "type": "Integer"
               },
               "U": {
                "type": "Integer"
               }
              },
              "type": "Abstraction"
             }
            },
            "type": "Abstraction"
           }
          }
         }
        ],
        "1843948830974582172": [
         "1338",
         {
          "args": [
           "-460023881515603218",
           "2880972934891874091"
          ],
          "function": "Abstraction.__call__",
          "type_params": {
           "T": {
            "type": "Integer"
           },
           "U": {
            "type": "Integer"
           }
          }
         }
        ],
        "1875031177834470621": [
         "584",
         {
          "args": [
           "-5424093814210459874",
           "-6927906364548010505"
          ],
          "function": "Abstraction.create",
          "type_params": {
           "T": {
            "type": "Integer"
           },
           "U": {
            "type": "Integer"
           }
          }
         }
        ],
        "1904285495761131719": [
         "360",
         {
          "args": [
           "6580081994755491934",
           "-2709874245198447753"
          ],
          "function": "Integer.__add__"
         }
        ],
        "1962019368870258672": [
         "2131",
         {
          "args": [
           "-400078499597817794",
           "7907100286168690534",
           "426075460217857655"
          ],
          "function": "Boolean.if_"
         }
        ],
        "1981263166940963756": [
         "11",
         {
          "args": [
           "8595423205215171900"
          ],
          "function": "FunctionThree.from_fn_recursive"
         }
        ],
        "2026612827396828514": [
         "4",
         {
          "args": [
           "2957560258136862634",
           "3628454707746313761"
          ],
          "function": "FunctionOne.__call__",
          "type_params": {
           "T": {
            "type": "Integer"
           },
           "U": {
            "type": "Integer"
           }
          }
         }
        ],
        "2034744756877462493": [
         "20",
         {
          "args": [
           "4793408948483079825"
          ],
          "function": "Abstraction.fix"
         }
        ],
        "2044502564145775401": [
         "1571",
         {
          "args": [
           "7192003423984924808",
           "5097506971461298912"
          ],
          "function": "Abstraction.__call__",
          "type_params": {
           "T": {
            "type": "Integer"
           },
           "U": {
            "params": {
             "T": {
              "type": "Integer"
             },
             "U": {
              "params": {
               "T": {
                "type": "Integer"
               },
               "U": {
                "type": "Integer"
               }
              },
              "type": "Abstraction"
             }
            },
            "type": "Abstraction"
           }
          }
         }
        ],
        "2091202744266988099": [
         "4",
         {
          "args": [
           "2533979562193044828",
           "-2709874245198447753"
          ],
          "function": "Abstraction.__call__",
          "type_params": {
           "T": {
            "type": "Integer"
           },
           "U": {
            "type": "Integer"
           }
          }
         }
        ],
        "211930557165848816": [
         "4",
         {
          "args": [
           "6045014357752365256",
           "-3094792838750148002",
           "-2836458671663647227"
          ],
          "function": "Boolean.if_"
         }
        ],
        "217481929186606945": [
         "2092",
         {
          "args": [
           "6509044787173981249",
           "-1984718719737358351"
          ],
          "function": "Abstraction.__call__",
          "type_params": {
           "T": {
            "type": "Integer"
           },
           "U": {
            "type": "Integer"
           }
          }
         }
        ],
        "2179114438745752421": [
         "1703",
         {
          "repr": "3",
          "type": "int"
         }
        ],
        "2254021379518525018": [
         "1971",
         {
          "args": [
           "-853213065637691287",
           "426075460217857655"
          ],
          "function": "Abstraction.__call__",
          "type_params": {
           "T": {
            "type": "Integer"
           },
           "U": {
            "params": {
             "T": {
              "type": "Integer"
             },
             "U": {
              "type": "Integer"
             }
            },
            "type": "Abstraction"
           }
          }
         }
        ],
        "2273911018844196594": [
         "4",
         {
          "args": [
           "8858753719334594095",
           "-3763664595638790119"
          ],
          "function": "Abstraction.__call__",
          "type_params": {
           "T": {
            "type": "Integer"
           },
           "U": {
            "type": "Integer"
           }
          }
         }
        ],
        "2302189858237529512": [
         "2023",
         {
          "args": [
           "-619177610481323867",
           "-5424093814210459874"
          ],
          "function": "Abstraction.__call__",
          "type_params": {
           "T": {
            "type": "Integer"
           },
           "U": {
            "params": {
             "T": {
              "type": "Integer"
             },
             "U": {
              "type": "Integer"
             }
            },
            "type": "Abstraction"
           }
          }
         }
        ],
        "2331257433739070648": [
         "11",
         {
          "args": [
           "4300501360281088643",
           "-6863104524139089718"
          ],
          "function": "FunctionThree.create",
          "type_params": {
           "T": {
            "type": "Integer"
           },
           "U": {
            "type": "Integer"
           },
           "V": {
            "type": "Integer"
           },
           "X": {
            "type": "Integer"
           }
          }
         }
        ],
        "2356343141563630304": [
         "164",
         {
          "args": [
           "4300501360281088643",
           "8393830299880851933"
          ],
          "function": "FunctionThree.create",
          "type_params": {
           "T": {
            "type": "Integer"
           },
           "U": {
            "type": "Integer"
           },
           "V": {
            "type": "Integer"
           },
           "X": {
            "type": "Integer"
           }
          }
         }
        ],
        "2363258777951577200": [
         "2128",
         {
          "args": [
           "426075460217857655",
           "7907100286168690534"
          ],
          "function": "Integer.__add__"
         }
        ],
        "2376325871684663273": [
         "2122",
         {
          "args": [
           "-1872445906533970845",
           "6036302512722173786"
          ],
          "function": "Abstraction.__call__",
          "type_params": {
           "T": {
            "type": "Integer"
           },
           "U": {
            "params": {
             "T": {
              "type": "Integer"
             },
             "U": {
              "params": {
               "T": {
                "type": "Integer"
               },
               "U": {
                "type": "Integer"
               }
              },
              "type": "Abstraction"
             }
            },
            "type": "Abstraction"
           }
          }
         }
        ],
        "2390676282337647555": [
         "16",
         {
          "args": [
           "2331257433739070648",
           "3892200530871370918",
           "6580081994755491934",
           "-2709874245198447753"
          ],
          "function": "FunctionThree.__call__",
          "type_params": {
           "T": {
            "type": "Integer"
           },
           "U": {
            "type": "Integer"
           },
           "V": {
            "type": "Integer"
           },
           "X": {
            "type": "Integer"
           }
          }
         }
        ],
        "240525886301523390": [
         "548",
         {
          "args": [
           "1761887883783554750",
           "-2709874245198447753"
          ],
          "function": "Abstraction.__call__",
          "type_params": {
           "T": {
            "type": "Integer"
           },
           "U": {
            "params": {
             "T": {
              "type": "Integer"
             },
             "U": {
              "type": "Integer"
             }
            },
            "type": "Abstraction"
           }
          }
         }
        ],
        "240625170666862444": [
         "742",
         {
          "args": [
           "8209501891162899840",
           "-2836458671663647227"
          ],
          "function": "Abstraction.__call__",
          "type_params": {
           "T": {
            "type": "Integer"
           },
           "U": {
            "params": {
             "T": {
              "type": "Integer"
             },
             "U": {
              "type": "Integer"
             }
            },
            "type": "Abstraction"
           }
          }
         }
        ],
        "246987893274424293": [
         "777",
         {
          "args": [
           "-3589837022479227720",
           "7948871001522096662"
          ],
          "function": "Abstraction.create",
          "type_params": {
           "T": {
            "type": "Integer"
           },
           "U": {
            "params": {
             "T": {
              "type": "Integer"
             },
             "U": {
              "type": "Integer"
             }
            },
            "type": "Abstraction"
           }
          }
         }
        ],
        "2477665002308615129": [
         "1734",
         {
          "args": [
           "-61676433736038940",
           "-3763664595638790119"
          ],
          "function": "Abstraction.__call__",
          "type_params": {
           "T": {
            "type": "Integer"
           },
           "U": {
            "params": {
             "T": {
              "type": "Integer"
             },
             "U": {
              "type": "Integer"
             }
            },
            "type": "Abstraction"
           }
          }
         }
        ],
        "249475405937933398": [
         "11",
         {
          "args": [
           "4300501360281088643",
           "5359865311956456200"
          ],
          "function": "FunctionThree.create",
          "type_params": {
           "T": {
            "type": "Integer"
           },
           "U": {
            "type": "Integer"
           },
           "V": {
            "type": "Integer"
           },
           "X": {
            "type": "Integer"
           }
          }
         }
        ],
        "2499599552372237324": [
         "326",
         {
          "args": [
           "8398596617344492380",
           "-5424093814210459874",
           "6580081994755491934"
          ],
          "function": "Boolean.if_"
         }
        ],
        "253151928320936379": [
         "1571",
         {
          "args": [
           "-6049179160059621010",
           "5097506971461298912"
          ],
          "function": "Abstraction.__call__",
          "type_params": {
           "T": {
            "type": "Integer"
           },
           "U": {
            "params": {
             "T": {
              "type": "Integer"
             },
             "U": {
              "params": {
               "T": {
                "type": "Integer"
               },
               "U": {
                "type": "Integer"
               }
              },
              "type": "Abstraction"
             }
            },
            "type": "Abstraction"
           }
          }
         }
        ],
        "2533979562193044828": [
         "394",
         {
          "args": [
           "6242385410862992821",
           "-2709874245198447753"
          ],
          "function": "Abstraction.__call__",
          "type_params": {
           "T": {
            "type": "Integer"
           },
           "U": {
            "params": {
             "T": {
              "type": "Integer"
             },
             "U": {
              "type": "Integer"
             }
            },
            "type": "Abstraction"
           }
          }
         }
        ],
        "2542391782195140550": [
         "980",
         {
          "args": [
           "331363741905418514",
           "5097506971461298912"
          ],
          "function": "Abstraction.__call__",
          "type_params": {
           "T": {
            "type": "Integer"
           },
           "U": {
            "params": {
             "T": {
              "type": "Integer"
             },
             "U": {
              "type": "Integer"
             }
            },
            "type": "Abstraction"
           }
          }
         }
        ],
        "2558092592748418682": [
         "780",
         {
          "args": [
           "246987893274424293",
           "-2836458671663647227"
          ],
          "function": "Abstraction.__call__",
          "type_params": {
           "T": {
            "type": "Integer"
           },
           "U": {
            "params": {
             "T": {
              "type": "Integer"
             },
             "U": {
              "type": "Integer"
             }
            },
            "type": "Abstraction"
           }
          }
         }
        ],
        "2597223290409949548": [
         "1661",
         {
          "args": [
           "-5112228396154281634",
           "-7176269575796675394"
          ],
          "function": "Abstraction.__call__",
          "type_params": {
           "T": {
            "type": "Integer"
           },
           "U": {
            "type": "Integer"
           }
          }
         }
        ],
        "2609959140855065448": [
         "673",
         {
          "args": [
           "6939747575173945354",
           "-5424093814210459874",
           "-3589837022479227720"
          ],
          "function": "Boolean.if_"
         }
        ],
        "2715851688742255366": [
         "2129",
         {
          "args": [
           "8139501936877188765",
           "462487753784757594"
          ],
          "function": "Abstraction.__call__",
          "type_params": {
           "T": {
            "type": "Integer"
           },
           "U": {
            "type": "Integer"
           }
          }
         }
        ],
        "2748378576463741368": [
         "4",
         {
          "args": [
           "-6822660633696501701",
           "2890535126162293660",
           "6580081994755491934"
          ],
          "function": "Boolean.if_"
         }
        ],
        "2800981292409365690": [
         "4",
         {
          "args": [
           "-4603566548769018509",
           "3628454707746313761"
          ],
          "function": "Abstraction.__call__",
          "type_params": {
           "T": {
            "type": "Integer"
           },
           "U": {
            "type": "Integer"
           }
          }
         }
        ],
        "2843241746330549358": [
         "2110",
         {
          "args": [
           "-8960277140670130418",
           "-5424093814210459874"
          ],
          "function": "Abstraction.__call__",
          "type_params": {
           "T": {
            "type": "Integer"
           },
           "U": {
            "params": {
             "T": {
              "type": "Integer"
             },
             "U": {
              "type": "Integer"
             }
            },
            "type": "Abstraction"
           }
          }
         }
        ],
        "2844014503435014964": [
         "1177",
         {
          "args": [
           "7192003423984924808",
           "6460412911337626311"
          ],
          "function": "Abstraction.__call__",
          "type_params": {
           "T": {
            "type": "Integer"
           },
           "U": {
            "params": {
             "T": {
              "type": "Integer"
             },
             "U": {
              "params": {
               "T": {
                "type": "Integer"
               },
               "U": {
                "type": "Integer"
               }
              },
              "type": "Abstraction"
             }
            },
            "type": "Abstraction"
           }
          }
         }
        ],
        "2852709524006975560": [
         "1465",
         {
          "args": [
           "-5424093814210459874",
           "-4301641197055813626"
          ],
          "function": "Abstraction.create",
          "type_params": {
           "T": {
            "type": "Integer"
           },
           "U": {
            "type": "Integer"
           }
          }
         }
        ],
        "2880972934891874091": [
         "1736",
         {
          "args": [
           "-5590795980211330365"
          ],
          "function": "Integer.from_int"
         }
        ],
        "2890535126162293660": [
         "4",
         {
          "args": [
           "585941779082312606",
           "-2709874245198447753"
          ],
          "function": "Abstraction.__call__",
          "type_params": {
           "T": {
            "type": "Integer"
           },
           "U": {
            "type": "Integer"
           }
          }
         }
        ],
        "2942579730856162041": [
         "1968",
         {
          "args": [
           "-6049179160059621010",
           "-2709874245198447753"
          ],
          "function": "Abstraction.__call__",
          "type_params": {
           "T": {
            "type": "Integer"
           },
           "U": {
            "params": {
             "T": {
              "type": "Integer"
             },
             "U": {
              "params": {
               "T": {
                "type": "Integer"
               },
               "U": {
                "type": "Integer"
               }
              },
              "type": "Abstraction"
             }
            },
            "type": "Abstraction"
           }
          }
         }
        ],
        "2943933769287712280": [
         "1374",
         {
          "args": [
           "7744595225220961948",
           "-807141446486382998"
          ],
          "function": "Abstraction.__call__",
          "type_params": {
           "T": {
            "type": "Integer"
           },
           "U": {
            "params": {
             "T": {
              "type": "Integer"
             },
             "U": {
              "type": "Integer"
             }
            },
            "type": "Abstraction"
           }
          }
         }
        ],
        "294460393764912317": [
         "7",
         {
          "args": [
           "3892200530871370918",
           "2390676282337647555"
          ],
          "function": "Abstraction.create",
          "type_params": {
           "T": {
            "type": "Integer"
           },
           "U": {
            "type": "Integer"
           }
          }
         }
        ],
        "2957560258136862634": [
         "1",
         {
          "args": [
           "3915031954868405795",
           "4144278828814745508"
          ],
          "function": "FunctionOne.create",
          "type_params": {
           "T": {
            "type": "Integer"
           },
           "U": {
            "type": "Integer"
           }
          }
         }
        ],
        "2991345566808093351": [
         "2105",
         {
          "repr": "140312823978544",
          "type": "Variable"
         }
        ],
        "2995125188501239945": [
         "4",
         {
          "args": [
           "7300308628266439123",
           "-2709874245198447753"
          ],
          "function": "Abstraction.__call__",
          "type_params": {
           "T": {
            "type": "Integer"
           },
           "U": {
            "type": "Integer"
           }
          }
         }
        ],
        "3033525560441199295": [
         "546",
         {
          "args": [
           "5841772961555278415",
           "-2709874245198447753"
          ],
          "function": "Integer.__sub__"
         }
        ],
        "3098746497722107792": [
         "1771",
         {
          "args": [
           "-3589837022479227720",
           "-4508821757461522033"
          ],
          "function": "Abstraction.create",
          "type_params": {
           "T": {
            "type": "Integer"
           },
           "U": {
            "params": {
             "T": {
              "type": "Integer"
             },
             "U": {
              "type": "Integer"
             }
            },
            "type": "Abstraction"
           }
          }
         }
        ],
        "310881393980767138": [
         "584",
         {
          "args": [
           "-7644524782377046167",
           "-2709874245198447753"
          ],
          "function": "Abstraction.__call__",
          "type_params": {
           "T": {
            "type": "Integer"
           },
           "U": {
            "params": {
             "T": {
              "type": "Integer"
             },
             "U": {
              "type": "Integer"
             }
            },
            "type": "Abstraction"
           }
          }
         }
        ],
        "3185594071007903954": [
         "1",
         {
          "args": [
           "3915031954868405795",
           "294460393764912317"
          ],
          "function": "FunctionOne.create",
          "type_params": {
           "T": {
            "type": "Integer"
           },
           "U": {
            "type": "Integer"
           }
          }
         }
        ],
        "3257372601715975699": [
         "1498",
         {
          "args": [
           "-807141446486382998",
           "-5424093814210459874"
          ],
          "function": "Integer.__add__"
         }
        ],
        "3265882338979128529": [
         "171",
         {
          "args": [
           "5466489455536848400",
           "6580081994755491934"
          ],
          "function": "Abstraction.__call__",
          "type_params": {
           "T": {
            "type": "Integer"
           },
           "U": {
            "params": {
             "T": {
              "type": "Integer"
             },
             "U": {
              "type": "Integer"
             }
            },
            "type": "Abstraction"
           }
          }
         }
        ],
        "3274952040090089687": [
         "980",
         {
          "args": [
           "-6184182294829639077",
           "5097506971461298912"
          ],
          "function": "Abstraction.__call__",
          "type_params": {
           "T": {
            "type": "Integer"
           },
           "U": {
            "params": {
             "T": {
              "type": "Integer"
             },
             "U": {
              "type": "Integer"
             }
            },
            "type": "Abstraction"
           }
          }
         }
        ],
        "3298425249558555854": [
         "513",
         {
          "args": [
           "1761887883783554750",
           "-5424093814210459874"
          ],
          "function": "Abstraction.__call__",
          "type_params": {
           "T": {
            "type": "Integer"
           },
           "U": {
            "params": {
             "T": {
              "type": "Integer"
             },
             "U": {
              "type": "Integer"
             }
            },
            "type": "Abstraction"
           }
          }
         }
        ],
        "331363741905418514": [
         "977",
         {
          "args": [
           "-1872445906533970845",
           "1623328830782906858"
          ],
          "function": "Abstraction.__call__",
          "type_params": {
           "T": {
            "type": "Integer"
           },
           "U": {
            "params": {
             "T": {
              "type": "Integer"
             },
             "U": {
              "params": {
               "T": {
                "type": "Integer"
               },
               "U": {
                "type": "Integer"
               }
              },
              "type": "Abstraction"
             }
            },
            "type": "Abstraction"
           }
          }
         }
        ],
        "3339147355794597589": [
         "1968",
         {
          "args": [
           "-1872445906533970845",
           "-2709874245198447753"
          ],
          "function": "Abstraction.__call__",
          "type_params": {
           "T": {
            "type": "Integer"
           },
           "U": {
            "params": {
             "T": {
              "type": "Integer"
             },
             "U": {
              "params": {
               "T": {
                "type": "Integer"
               },
               "U": {
                "type": "Integer"
               }
              },
              "type": "Abstraction"
             }
            },
            "type": "Abstraction"
           }
          }
         }
        ],
        "3377214167073522146": [
         "4",
         {
          "args": [
           "-6082467777081323418",
           "6682610203951532172",
           "5097506971461298912"
          ],
          "function": "Boolean.if_"
         }
        ],
        "3394162237018093016": [
         "4",
         {
          "args": [
           "4451422924031100638",
           "-7781608503743410166",
           "-2709874245198447753"
          ],
          "function": "Boolean.if_"
         }
        ],
        "3418476275853966940": [
         "1968",
         {
          "args": [
           "7192003423984924808",
           "-2709874245198447753"
          ],
          "function": "Abstraction.__call__",
          "type_params": {
           "T": {
            "type": "Integer"
           },
           "U": {
            "params": {
             "T": {
              "type": "Integer"
             },
             "U": {
              "params": {
               "T": {
                "type": "Integer"
               },
               "U": {
                "type": "Integer"
               }
              },
              "type": "Abstraction"
             }
            },
            "type": "Abstraction"
           }
          }
         }
        ],
        "3439368715880091039": [
         "910",
         {
          "args": [
           "-6036138778614868414"
          ],
          "function": "Integer.from_int"
         }
        ],
        "3471470947411836406": [
         "1935",
         {
          "repr": "21",
          "type": "int"
         }
        ],
        "3596605001098433744": [
         "482",
         {
          "args": [
           "-5891180103021637001",
           "6652771712578758954",
           "-7450369050644197011"
          ],
          "function": "Boolean.if_"
         }
        ],
        "360747163981649829": [
         "2119",
         {
          "args": [
           "-3289004802403072970",
           "9031262841023282274"
          ],
          "function": "Abstraction.create",
          "type_params": {
           "T": {
            "params": {
             "T": {
              "type": "Integer"
             },
             "U": {
              "params": {
               "T": {
                "type": "Integer"
               },
               "U": {
                "params": {
                 "T": {
                  "type": "Integer"
                 },
                 "U": {
                  "type": "Integer"
                 }
                },
                "type": "Abstraction"
               }
              },
              "type": "Abstraction"
             }
            },
            "type": "Abstraction"
           },
           "U": {
            "params": {
             "T": {
              "type": "Integer"
             },
             "U": {
              "params": {
               "T": {
                "type": "Integer"
               },
               "U": {
                "params": {
                 "T": {
                  "type": "Integer"
                 },
                 "U": {
                  "type": "Integer"
                 }
                },
                "type": "Abstraction"
               }
              },
              "type": "Abstraction"
             }
            },
            "type": "Abstraction"
           }
          }
         }
        ],
        "3625964966240067889": [
         "165",
         {
          "args": [
           "-7371075420937989069"
          ],
          "function": "Abstraction.fix"
         }
        ],
        "3628454707746313761": [
         "329",
         {
          "args": [
           "9132097993251288895"
          ],
          "function": "Integer.from_int"
         }
        ],
        "364302868788163682": [
         "2117",
         {
          "args": [
           "-3589837022479227720",
           "-3082198421568291035"
          ],
          "function": "Abstraction.create",
          "type_params": {
           "T": {
            "type": "Integer"
           },
           "U": {
            "params": {
             "T": {
              "type": "Integer"
             },
             "U": {
              "type": "Integer"
             }
            },
            "type": "Abstraction"
           }
          }
         }
        ],
        "3683351022978259685": [
         "4",
         {
          "args": [
           "-7694504097016980406",
           "-7781608503743410166",
           "-2709874245198447753"
          ],
          "function": "Boolean.if_"
         }
        ],
        "3685635184948772609": [
         "1971",
         {
          "args": [
           "3418476275853966940",
           "426075460217857655"
          ],
          "function": "Abstraction.__call__",
          "type_params": {
           "T": {
            "type": "Integer"
           },
           "U": {
            "params": {
             "T": {
              "type": "Integer"
             },
             "U": {
              "type": "Integer"
             }
            },
            "type": "Abstraction"
           }
          }
         }
        ],
        "3723531455775086945": [
         "171",
         {
          "args": [
           "-816344074074461590",
           "6580081994755491934"
          ],
          "function": "Abstraction.__call__",
          "type_params": {
           "T": {
            "type": "Integer"
           },
           "U": {
            "params": {
             "T": {
              "type": "Integer"
             },
             "U": {
              "type": "Integer"
             }
            },
            "type": "Abstraction"
           }
          }
         }
        ],
        "3752474179645308153": [
         "1374",
         {
          "args": [
           "-3353729048366871831",
           "-807141446486382998"
          ],
          "function": "Abstraction.__call__",
          "type_params": {
           "T": {
            "type": "Integer"
           },
           "U": {
            "params": {
             "T": {
              "type": "Integer"
             },
             "U": {
              "type": "Integer"
             }
            },
            "type": "Abstraction"
           }
          }
         }
        ],
        "377631995659507241": [
         "550",
         {
          "args": [
           "240525886301523390",
           "395074440060082694"
          ],
          "function": "Abstraction.__call__",
          "type_params": {
           "T": {
            "type": "Integer"
           },
           "U": {
            "type": "Integer"
           }
          }
         }
        ],
        "3823202512307014310": [
         "1574",
         {
          "args": [
           "-4632016820018700821",
           "2880972934891874091"
          ],
          "function": "Abstraction.__call__",
          "type_params": {
           "T": {
            "type": "Integer"
           },
           "U": {
            "params": {
             "T": {
              "type": "Integer"
             },
             "U": {
              "type": "Integer"
             }
            },
            "type": "Abstraction"
           }
          }
         }
        ],
        "3871893887292460711": [
         "1740",
         {
          "args": [
           "1430599728253316827",
           "-3763664595638790119",
           "2880972934891874091"
          ],
          "function": "Boolean.if_"
         }
        ],
        "3886010514623755322": [
         "4",
         {
          "args": [
           "3185594071007903954",
           "3628454707746313761"
          ],
          "function": "FunctionOne.__call__",
          "type_params": {
           "T": {
            "type": "Integer"
           },
           "U": {
            "type": "Integer"
           }
          }
         }
        ],
        "3892200530871370918": [
         "82",
         {
          "args": [
           "6715195667055025707"
          ],
          "function": "Abstraction.create_variable",
          "type_params": {
           "T": {
            "type": "Integer"
           },
           "U": {
            "type": "Integer"
           }
          }
         }
        ],
        "3902531749259673212": [
         "4",
         {
          "args": [
           "1709609031923785518",
           "-807141446486382998"
          ],
          "function": "Abstraction.__call__",
          "type_params": {
           "T": {
            "type": "Integer"
           },
           "U": {
            "type": "Integer"
           }
          }
         }
        ],
        "3915031954868405795": [
         "45",
         {
          "repr": "fib",
          "type": "str"
         }
        ],
        "3917862883693795982": [
         "4",
         {
          "args": [
           "-6082467777081323418",
           "4278492917212468935",
           "5097506971461298912"
          ],
          "function": "Boolean.if_"
         }
        ],
        "395074440060082694": [
         "549",
         {
          "args": [
           "-2709874245198447753",
           "-2709874245198447753"
          ],
          "function": "Integer.__add__"
         }
        ],
        "3959199155064126360": [
         "1702",
         {
          "args": [
           "-7976381005861746498",
           "4154240561729494206",
           "5491305755636540776"
          ],
          "function": "Boolean.if_"
         }
        ],
        "39935437796975748": [
         "4",
         {
          "args": [
           "-5346505659340113482",
           "3628454707746313761"
          ],
          "function": "FunctionOne.__call__",
          "type_params": {
           "T": {
            "type": "Integer"
           },
           "U": {
            "type": "Integer"
           }
          }
         }
        ],
        "4001151789808751393": [
         "4",
         {
          "args": [
           "-2900630358783526205",
           "2880972934891874091"
          ],
          "function": "Abstraction.__call__",
          "type_params": {
           "T": {
            "type": "Integer"
           },
           "U": {
            "type": "Integer"
           }
          }
         }
        ],
        "4063310302347050316": [
         "515",
         {
          "args": [
           "3298425249558555854",
           "-2079870262008396274"
          ],
          "function": "Abstraction.__call__",
          "type_params": {
           "T": {
            "type": "Integer"
           },
           "U": {
            "type": "Integer"
           }
          }
         }
        ],
        "4103517931935974456": [
         "4",
         {
          "args": [
           "8947543312146021245",
           "-1447368936376717486",
           "-6221961394206801781"
          ],
          "function": "Boolean.if_"
         }
        ],
        "4106961276674281287": [
         "1538",
         {
          "args": [
           "-5724940749907970172",
           "-3763664595638790119"
          ],
          "function": "Abstraction.__call__",
          "type_params": {
           "T": {
            "type": "Integer"
           },
           "U": {
            "type": "Integer"
           }
          }
         }
        ],
        "4138334299222256260": [
         "1146",
         {
          "args": [
           "-2261925311115024128",
           "6460412911337626311",
           "5097506971461298912"
          ],
          "function": "Boolean.if_"
         }
        ],
        "4143980468794140492": [
         "4",
         {
          "args": [
           "2254021379518525018",
           "7907100286168690534"
          ],
          "function": "Abstraction.__call__",
          "type_params": {
           "T": {
            "type": "Integer"
           },
           "U": {
            "type": "Integer"
           }
          }
         }
        ],
        "4144278828814745508": [
         "7",
         {
          "args": [
           "3892200530871370918",
           "-8237060831150688205"
          ],
          "function": "Abstraction.create",
          "type_params": {
           "T": {
            "type": "Integer"
           },
           "U": {
            "type": "Integer"
           }
          }
         }
        ],
        "4144500622596062694": [
         "1971",
         {
          "args": [
           "2942579730856162041",
           "426075460217857655"
          ],
          "function": "Abstraction.__call__",
          "type_params": {
           "T": {
            "type": "Integer"
           },
           "U": {
            "params": {
             "T": {
              "type": "Integer"
             },
             "U": {
              "type": "Integer"
             }
            },
            "type": "Abstraction"
           }
          }
         }
        ],
        "4154240561729494206": [
         "1699",
         {
          "args": [
           "-5112228396154281634",
           "-2728699673575525134"
          ],
          "function": "Abstraction.__call__",
          "type_params": {
           "T": {
            "type": "Integer"
           },
           "U": {
            "type": "Integer"
           }
          }
         }
        ],
        "4157626137894194315": [
         "2098",
         {
          "args": [
           "-2709874245198447753",
           "-2709874245198447753"
          ],
          "function": "Integer.__gt__"
         }
        ],
        "4255262049260606562": [
         "1",
         {
          "args": [
           "3915031954868405795",
           "-4045578726987333157"
          ],
          "function": "FunctionOne.create",
          "type_params": {
           "T": {
            "type": "Integer"
           },
           "U": {
            "type": "Integer"
           }
          }
         }
        ],
        "426075460217857655": [
         "2127",
         {
          "args": [
           "6471439917336542801"
          ],
          "function": "Integer.from_int"
         }
        ],
        "4278492917212468935": [
         "4",
         {
          "args": [
           "-8206330226539492066",
           "-807141446486382998"
          ],
          "function": "Abstraction.__call__",
          "type_params": {
           "T": {
            "type": "Integer"
           },
           "U": {
            "type": "Integer"
           }
          }
         }
        ],
        "4283954303097098237": [
         "2058",
         {
          "args": [
           "-400078499597817794",
           "-5424093814210459874",
           "-3589837022479227720"
          ],
          "function": "Boolean.if_"
         }
        ],
        "4291336246247098070": [
         "583",
         {
          "args": [
           "7192003423984924808",
           "-807141446486382998"
          ],
          "function": "Abstraction.__call__",
          "type_params": {
           "T": {
            "type": "Integer"
           },
           "U": {
            "params": {
             "T": {
              "type": "Integer"
             },
             "U": {
              "params": {
               "T": {
                "type": "Integer"
               },
               "U": {
                "type": "Integer"
               }
              },
              "type": "Abstraction"
             }
            },
            "type": "Abstraction"
           }
          }
         }
        ],
        "4300501360281088643": [
         "195",
         {
          "repr": "fib_more",
          "type": "str"
         }
        ],
        "4320991441086938097": [
         "4",
         {
          "args": [
           "2356343141563630304",
           "3628454707746313761",
           "6580081994755491934",
           "-2709874245198447753"
          ],
          "function": "FunctionThree.__call__",
          "type_params": {
           "T": {
            "type": "Integer"
           },
           "U": {
            "type": "Integer"
           },
           "V": {
            "type": "Integer"
           },
           "X": {
            "type": "Integer"
           }
          }
         }
        ],
        "4332147005735943971": [
         "4",
         {
          "args": [
           "8947543312146021245",
           "1843948830974582172",
           "6460412911337626311"
          ],
          "function": "Boolean.if_"
         }
        ],
        "4387608530524038612": [
         "4",
         {
          "args": [
           "1334404697358393174",
           "2880972934891874091"
          ],
          "function": "Abstraction.__call__",
          "type_params": {
           "T": {
            "type": "Integer"
           },
           "U": {
            "type": "Integer"
           }
          }
         }
        ],
        "4388970976530863159": [
         "4",
         {
          "args": [
           "7709347977351142111",
           "-4188347793400235236",
           "7285747321743561538"
          ],
          "function": "Boolean.if_"
         }
        ],
        "4451422924031100638": [
         "715",
         {
          "args": [
           "-807141446486382998",
           "-2709874245198447753"
          ],
          "function": "Integer.__gt__"
         }
        ],
        "4543128373191248945": [
         "1771",
         {
          "args": [
           "7192003423984924808",
           "-2836458671663647227"
          ],
          "function": "Abstraction.__call__",
          "type_params": {
           "T": {
            "type": "Integer"
           },
           "U": {
            "params": {
             "T": {
              "type": "Integer"
             },
             "U": {
              "params": {
               "T": {
                "type": "Integer"
               },
               "U": {
                "type": "Integer"
               }
              },
              "type": "Abstraction"
             }
            },
            "type": "Abstraction"
           }
          }
         }
        ],
        "462487753784757594": [
         "2128",
         {
          "args": [
           "8103107320012587087"
          ],
          "function": "Integer.from_int"
         }
        ],
        "4709041280137040239": [
         "4",
         {
          "args": [
           "7709347977351142111",
           "-4188347793400235236",
           "5326915675412204186"
          ],
          "function": "Boolean.if_"
         }
        ],
        "4722088803172107741": [
         "4",
         {
          "args": [
           "-4903986342512942149",
           "657211605344755362",
           "-4576124321088718004"
          ],
          "function": "Boolean.if_"
         }
        ],
        "4722612731601508256": [
         "4",
         {
          "args": [
           "8947543312146021245",
           "-1447368936376717486",
           "6375174475155724424"
          ],
          "function": "Boolean.if_"
         }
        ],
        "4761102405184900263": [
         "289",
         {
          "args": [
           "-6822660633696501701",
           "8326747017172199610",
           "-1985850948699187428"
          ],
          "function": "Boolean.if_"
         }
        ],
        "4765453286620715103": [
         "907",
         {
          "args": [
           "-8581187249990887070",
           "-5424093814210459874",
           "-2836458671663647227"
          ],
          "function": "Boolean.if_"
         }
        ],
        "4793408948483079825": [
         "19",
         {
          "args": [
           "-8969456781942678574"
          ],
          "function": "Abstraction.from_fn"
         }
        ],
        "479415460796510498": [
         "393",
         {
          "args": [
           "-1872445906533970845",
           "5841772961555278415"
          ],
          "function": "Abstraction.__call__",
          "type_params": {
           "T": {
            "type": "Integer"
           },
           "U": {
            "params": {
             "T": {
              "type": "Integer"
             },
             "U": {
              "params": {
               "T": {
                "type": "Integer"
               },
               "U": {
                "type": "Integer"
               }
              },
              "type": "Abstraction"
             }
            },
            "type": "Abstraction"
           }
          }
         }
        ],
        "4803401013860306845": [
         "1069",
         {
          "args": [
           "-2261925311115024128",
           "-5424093814210459874",
           "-3589837022479227720"
          ],
          "function": "Boolean.if_"
         }
        ],
        "4843421004752968499": [
         "4",
         {
          "args": [
           "-7694504097016980406",
           "2890535126162293660",
           "6580081994755491934"
          ],
          "function": "Boolean.if_"
         }
        ],
        "4914276920258368562": [
         "24",
         {
          "args": [
           "561916924144187858"
          ],
          "function": "Abstraction.from_fn"
         }
        ],
        "4962905094600818490": [
         "2096",
         {
          "repr": "1",
          "type": "int"
         }
        ],
        "4978699267633369825": [
         "4",
         {
          "args": [
           "-7976381005861746498",
           "-1252543407414992244",
           "8889822940216474803"
          ],
          "function": "Boolean.if_"
         }
        ],
        "4981348015777896178": [
         "1574",
         {
          "args": [
           "-5128371292008171051",
           "2880972934891874091"
          ],
          "function": "Abstraction.__call__",
          "type_params": {
           "T": {
            "type": "Integer"
           },
           "U": {
            "params": {
             "T": {
              "type": "Integer"
             },
             "U": {
              "type": "Integer"
             }
            },
            "type": "Abstraction"
           }
          }
         }
        ],
        "5050744066547836421": [
         "1501",
         {
          "args": [
           "-7759673457477519007",
           "-5424093814210459874",
           "-807141446486382998"
          ],
          "function": "Boolean.if_"
         }
        ],
        "5054163699745386801": [
         "78",
         {
          "args": [
           "3892200530871370918",
           "-7489683487152689717"
          ],
          "function": "Abstraction.create",
          "type_params": {
           "T": {
            "type": "Integer"
           },
           "U": {
            "type": "Integer"
           }
          }
         }
        ],
        "5097506971461298912": [
         "1704",
         {
          "args": [
           "2179114438745752421"
          ],
          "function": "Integer.from_int"
         }
        ],
        "5131478415594153585": [
         "357",
         {
          "args": [
           "-3261251303804982457",
           "-2709874245198447753"
          ],
          "function": "Abstraction.__call__",
          "type_params": {
           "T": {
            "type": "Integer"
           },
           "U": {
            "params": {
             "T": {
              "type": "Integer"
             },
             "U": {
              "type": "Integer"
             }
            },
            "type": "Abstraction"
           }
          }
         }
        ],
        "5132727242757789410": [
         "4",
         {
          "args": [
           "-7694504097016980406",
           "9012655738063201556",
           "-807141446486382998"
          ],
          "function": "Boolean.if_"
         }
        ],
        "5266349270475943888": [
         "4",
         {
          "args": [
           "-5862496125442712057",
           "6460412911337626311"
          ],
          "function": "Abstraction.__call__",
          "type_params": {
           "T": {
            "type": "Integer"
           },
           "U": {
            "type": "Integer"
           }
          }
         }
        ],
        "5326915675412204186": [
         "1540",
         {
          "args": [
           "1430599728253316827",
           "2880972934891874091",
           "-807141446486382998"
          ],
          "function": "Boolean.if_"
         }
        ],
        "5359865311956456200": [
         "20",
         {
          "args": [
           "-3882487081131308648"
          ],
          "function": "Abstraction.fix"
         }
        ],
        "5367319136736000578": [
         "1971",
         {
          "args": [
           "3339147355794597589",
           "426075460217857655"
          ],
          "function": "Abstraction.__call__",
          "type_params": {
           "T": {
            "type": "Integer"
           },
           "U": {
            "params": {
             "T": {
              "type": "Integer"
             },
             "U": {
              "type": "Integer"
             }
            },
            "type": "Abstraction"
           }
          }
         }
        ],
        "5369712301075259905": [
         "905",
         {
          "args": [
           "122056670367809305",
           "1393718725000305357"
          ],
          "function": "Abstraction.__call__",
          "type_params": {
           "T": {
            "type": "Integer"
           },
           "U": {
            "type": "Integer"
           }
          }
         }
        ],
        "5417838493779176615": [
         "4",
         {
          "args": [
           "-3609943587740497065",
           "-3763664595638790119"
          ],
          "function": "Abstraction.__call__",
          "type_params": {
           "T": {
            "type": "Integer"
           },
           "U": {
            "type": "Integer"
           }
          }
         }
        ],
        "5440803923812957558": [
         "980",
         {
          "args": [
           "1394591684371198934",
           "5097506971461298912"
          ],
          "function": "Abstraction.__call__",
          "type_params": {
           "T": {
            "type": "Integer"
           },
           "U": {
            "params": {
             "T": {
              "type": "Integer"
             },
             "U": {
              "type": "Integer"
             }
            },
            "type": "Abstraction"
           }
          }
         }
        ],
        "5466489455536848400": [
         "168",
         {
          "args": [
           "-1872445906533970845",
           "3628454707746313761"
          ],
          "function": "Abstraction.__call__",
          "type_params": {
           "T": {
            "type": "Integer"
           },
           "U": {
            "params": {
             "T": {
              "type": "Integer"
             },
             "U": {
              "params": {
               "T": {
                "type": "Integer"
               },
               "U": {
                "type": "Integer"
               }
              },
              "type": "Abstraction"
             }
            },
            "type": "Abstraction"
           }
          }
         }
        ],
        "5470830568851367095": [
         "196",
         {
          "args": [
           "4300501360281088643",
           "-3289004802403072970"
          ],
          "function": "FunctionThree.create",
          "type_params": {
           "T": {
            "type": "Integer"
           },
           "U": {
            "type": "Integer"
           },
           "V": {
            "type": "Integer"
           },
           "X": {
            "type": "Integer"
           }
          }
         }
        ],
        "5484246160591506775": [
         "1070",
         {
          "args": [
           "-6082467777081323418",
           "-8120899661747945472",
           "4803401013860306845"
          ],
          "function": "Boolean.if_"
         }
        ],
        "5491305755636540776": [
         "1701",
         {
          "args": [
           "6402056418093838791",
           "-5424093814210459874",
           "2880972934891874091"
          ],
          "function": "Boolean.if_"
         }
        ],
        "5575030305646944715": [
         "193",
         {
          "args": [
           "-563377217010615496",
           "-398755679372278487"
          ],
          "function": "Abstraction.create",
          "type_params": {
           "T": {
            "type": "Integer"
           },
           "U": {
            "params": {
             "T": {
              "type": "Integer"
             },
             "U": {
              "params": {
               "T": {
                "type": "Integer"
               },
               "U": {
                "type": "Integer"
               }
              },
              "type": "Abstraction"
             }
            },
            "type": "Abstraction"
           }
          }
         }
        ],
        "5585042476904223796": [
         "1332",
         {
          "args": [
           "6460412911337626311",
           "-2709874245198447753"
          ],
          "function": "Integer.__sub__"
         }
        ],
        "5615835553781991412": [
         "777",
         {
          "args": [
           "7192003423984924808",
           "3439368715880091039"
          ],
          "function": "Abstraction.__call__",
          "type_params": {
           "T": {
            "type": "Integer"
           },
           "U": {
            "params": {
             "T": {
              "type": "Integer"
             },
             "U": {
              "params": {
               "T": {
                "type": "Integer"
               },
               "U": {
                "type": "Integer"
               }
              },
              "type": "Abstraction"
             }
            },
            "type": "Abstraction"
           }
          }
         }
        ],
        "561916924144187858": [
         "23",
         {
          "repr": "FunctionReplaceTyping(fn=<function FunctionThree.from_fn_recursive.<locals>.inner.<locals>.inner at 0x7f9d20139d30>, typevars={~V: <class 'metadsl_core.integer.Integer'>, ~U: <class 'metadsl_core.integer.Integer'>, ~T: <class 'metadsl_core.integer.Integer'>, ~X: <class 'metadsl_core.integer.Integer'>}, typevars_in_scope={~U, ~T, ~V, ~X})",
          "type": "FunctionReplaceTyping"
         }
        ],
        "5631107808227512515": [
         "6",
         {
          "repr": "<function fib at 0x7f9d20139af0>",
          "type": "function"
         }
        ],
        "5650165979530640079": [
         "2027",
         {
          "args": [
           "-3589837022479227720",
           "9050969060911818449"
          ],
          "function": "Abstraction.create",
          "type_params": {
           "T": {
            "type": "Integer"
           },
           "U": {
            "params": {
             "T": {
              "type": "Integer"
             },
             "U": {
              "type": "Integer"
             }
            },
            "type": "Abstraction"
           }
          }
         }
        ],
        "5652241350594340850": [
         "4",
         {
          "args": [
           "7741775503433722613",
           "426075460217857655"
          ],
          "function": "Abstraction.__call__",
          "type_params": {
           "T": {
            "type": "Integer"
           },
           "U": {
            "type": "Integer"
           }
          }
         }
        ],
        "5673425540997037340": [
         "1146",
         {
          "args": [
           "1430599728253316827",
           "6460412911337626311",
           "5097506971461298912"
          ],
          "function": "Boolean.if_"
         }
        ],
        "5763223255456475230": [
         "1971",
         {
          "args": [
           "-5424093814210459874",
           "7653554512045847648"
          ],
          "function": "Abstraction.create",
          "type_params": {
           "T": {
            "type": "Integer"
           },
           "U": {
            "type": "Integer"
           }
          }
         }
        ],
        "5798502730422820175": [
         "199",
         {
          "args": [
           "-4621811426348936109",
           "6317467995547306266"
          ],
          "function": "Abstraction.__call__",
          "type_params": {
           "T": {
            "type": "Integer"
           },
           "U": {
            "params": {
             "T": {
              "type": "Integer"
             },
             "U": {
              "params": {
               "T": {
                "type": "Integer"
               },
               "U": {
                "type": "Integer"
               }
              },
              "type": "Abstraction"
             }
            },
            "type": "Abstraction"
           }
          }
         }
        ],
        "5805004686103572975": [
         "323",
         {
          "args": [
           "6580081994755491934",
           "-5424093814210459874"
          ],
          "function": "Integer.__add__"
         }
        ],
        "5824961590807657529": [
         "4",
         {
          "args": [
           "2542391782195140550",
           "6460412911337626311"
          ],
          "function": "Abstraction.__call__",
          "type_params": {
           "T": {
            "type": "Integer"
           },
           "U": {
            "type": "Integer"
           }
          }
         }
        ],
        "5841772961555278415": [
         "520",
         {
          "args": [
           "-4421572051485566355"
          ],
          "function": "Integer.from_int"
         }
        ],
        "585941779082312606": [
         "394",
         {
          "args": [
           "479415460796510498",
           "-2709874245198447753"
          ],
          "function": "Abstraction.__call__",
          "type_params": {
           "T": {
            "type": "Integer"
           },
           "U": {
            "params": {
             "T": {
              "type": "Integer"
             },
             "U": {
              "type": "Integer"
             }
            },
            "type": "Abstraction"
           }
          }
         }
        ],
        "5913560727312155284": [
         "4",
         {
          "args": [
           "8714447789958714673",
           "-2709874245198447753"
          ],
          "function": "Abstraction.__call__",
          "type_params": {
           "T": {
            "type": "Integer"
           },
           "U": {
            "type": "Integer"
           }
          }
         }
        ],
        "5918083920381732827": [
         "743",
         {
          "args": [
           "-2709874245198447753",
           "-2836458671663647227"
          ],
          "function": "Integer.__add__"
         }
        ],
        "5922577286522704796": [
         "4",
         {
          "args": [
           "4157626137894194315",
           "-2002092672883796522",
           "-2651177997882106940"
          ],
          "function": "Boolean.if_"
         }
        ],
        "5954704016758937557": [
         "11",
         {
          "args": [
           "4300501360281088643",
           "9178047548150501327"
          ],
          "function": "FunctionThree.create",
          "type_params": {
           "T": {
            "type": "Integer"
           },
           "U": {
            "type": "Integer"
           },
           "V": {
            "type": "Integer"
           },
           "X": {
            "type": "Integer"
           }
          }
         }
        ],
        "5970312659489861404": [
         "193",
         {
          "args": [
           "-563377217010615496",
           "-2485221969522258452"
          ],
          "function": "Abstraction.create",
          "type_params": {
           "T": {
            "type": "Integer"
           },
           "U": {
            "params": {
             "T": {
              "type": "Integer"
             },
             "U": {
              "params": {
               "T": {
                "type": "Integer"
               },
               "U": {
                "type": "Integer"
               }
              },
              "type": "Abstraction"
             }
            },
            "type": "Abstraction"
           }
          }
         }
        ],
        "5984156524768825597": [
         "4",
         {
          "args": [
           "-6822660633696501701",
           "-902927629878696283",
           "6776467062913655930"
          ],
          "function": "Boolean.if_"
         }
        ],
        "6001403824663744290": [
         "944",
         {
          "args": [
           "-4703797407153073536",
           "8406232321654306307"
          ],
          "function": "Abstraction.__call__",
          "type_params": {
           "T": {
            "type": "Integer"
           },
           "U": {
            "type": "Integer"
           }
          }
         }
        ],
        "6036302512722173786": [
         "2121",
         {
          "args": [
           "-2709874245198447753",
           "-2709874245198447753"
          ],
          "function": "Integer.__sub__"
         }
        ],
        "6045014357752365256": [
         "913",
         {
          "args": [
           "3439368715880091039",
           "-2709874245198447753"
          ],
          "function": "Integer.__gt__"
         }
        ],
        "6057851584705040754": [
         "1337",
         {
          "args": [
           "6460412911337626311",
           "-807141446486382998"
          ],
          "function": "Integer.__add__"
         }
        ],
        "6090449127306844657": [
         "709",
         {
          "args": [
           "6939747575173945354",
           "-5424093814210459874",
           "-2709874245198447753"
          ],
          "function": "Boolean.if_"
         }
        ],
        "6193411539710826203": [
         "1737",
         {
          "args": [
           "2880972934891874091",
           "-3763664595638790119"
          ],
          "function": "Integer.__add__"
         }
        ],
        "6224734592885192466": [
         "4",
         {
          "args": [
           "5440803923812957558",
           "6460412911337626311"
          ],
          "function": "Abstraction.__call__",
          "type_params": {
           "T": {
            "type": "Integer"
           },
           "U": {
            "type": "Integer"
           }
          }
         }
        ],
        "6242385410862992821": [
         "393",
         {
          "args": [
           "-6049179160059621010",
           "5841772961555278415"
          ],
          "function": "Abstraction.__call__",
          "type_params": {
           "T": {
            "type": "Integer"
           },
           "U": {
            "params": {
             "T": {
              "type": "Integer"
             },
             "U": {
              "params": {
               "T": {
                "type": "Integer"
               },
               "U": {
                "type": "Integer"
               }
              },
              "type": "Abstraction"
             }
            },
            "type": "Abstraction"
           }
          }
         }
        ],
        "6312975230971636367": [
         "1663",
         {
          "args": [
           "6402056418093838791",
           "-5424093814210459874",
           "-3589837022479227720"
          ],
          "function": "Boolean.if_"
         }
        ],
        "6316054561518859090": [
         "1574",
         {
          "args": [
           "253151928320936379",
           "2880972934891874091"
          ],
          "function": "Abstraction.__call__",
          "type_params": {
           "T": {
            "type": "Integer"
           },
           "U": {
            "params": {
             "T": {
              "type": "Integer"
             },
             "U": {
              "type": "Integer"
             }
            },
            "type": "Abstraction"
           }
          }
         }
        ],
        "6316149179579271157": [
         "1268",
         {
          "args": [
           "8947543312146021245",
           "-1966895916707397631",
           "787385674907418545"
          ],
          "function": "Boolean.if_"
         }
        ],
        "6317467995547306266": [
         "2108",
         {
          "args": [
           "-563377217010615496",
           "-2709874245198447753"
          ],
          "function": "Integer.__sub__"
         }
        ],
        "6325804655016651525": [
         "4",
         {
          "args": [
           "7125955535146444965",
           "426075460217857655"
          ],
          "function": "Abstraction.__call__",
          "type_params": {
           "T": {
            "type": "Integer"
           },
           "U": {
            "type": "Integer"
           }
          }
         }
        ],
        "6375174475155724424": [
         "1340",
         {
          "args": [
           "1430599728253316827",
           "-807141446486382998",
           "6460412911337626311"
          ],
          "function": "Boolean.if_"
         }
        ],
        "6402056418093838791": [
         "1739",
         {
          "args": [
           "5097506971461298912",
           "-2709874245198447753"
          ],
          "function": "Integer.eq"
         }
        ],
        "6407069320809385596": [
         "361",
         {
          "args": [
           "5131478415594153585",
           "-2709874245198447753"
          ],
          "function": "Abstraction.__call__",
          "type_params": {
           "T": {
            "type": "Integer"
           },
           "U": {
            "type": "Integer"
           }
          }
         }
        ],
        "6425858165541754480": [
         "4",
         {
          "args": [
           "5367319136736000578",
           "7907100286168690534"
          ],
          "function": "Abstraction.__call__",
          "type_params": {
           "T": {
            "type": "Integer"
           },
           "U": {
            "type": "Integer"
           }
          }
         }
        ],
        "6460412911337626311": [
         "1306",
         {
          "args": [
           "-3252348122759802345"
          ],
          "function": "Integer.from_int"
         }
        ],
        "6471439917336542801": [
         "2126",
         {
          "repr": "34",
          "type": "int"
         }
        ],
        "6492553153751709342": [
         "4",
         {
          "args": [
           "5054163699745386801",
           "3628454707746313761"
          ],
          "function": "Abstraction.__call__",
          "type_params": {
           "T": {
            "type": "Integer"
           },
           "U": {
            "type": "Integer"
           }
          }
         }
        ],
        "6509044787173981249": [
         "2088",
         {
          "args": [
           "2376325871684663273",
           "-5424093814210459874"
          ],
          "function": "Abstraction.__call__",
          "type_params": {
           "T": {
            "type": "Integer"
           },
           "U": {
            "params": {
             "T": {
              "type": "Integer"
             },
             "U": {
              "type": "Integer"
             }
            },
            "type": "Abstraction"
           }
          }
         }
        ],
        "6535478457114596942": [
         "24",
         {
          "args": [
           "-563377217010615496",
           "-1048428597774428697"
          ],
          "function": "Abstraction.create",
          "type_params": {
           "T": {
            "type": "Integer"
           },
           "U": {
            "params": {
             "T": {
              "type": "Integer"
             },
             "U": {
              "params": {
               "T": {
                "type": "Integer"
               },
               "U": {
                "type": "Integer"
               }
              },
              "type": "Abstraction"
             }
            },
            "type": "Abstraction"
           }
          }
         }
        ],
        "657211605344755362": [
         "1938",
         {
          "args": [
           "9208060858365832109",
           "-2027907684402388772"
          ],
          "function": "Abstraction.__call__",
          "type_params": {
           "T": {
            "type": "Integer"
           },
           "U": {
            "type": "Integer"
           }
          }
         }
        ],
        "6580081994755491934": [
         "2121",
         {
          "args": [
           "-8590764950136036760"
          ],
          "function": "Integer.from_int"
         }
        ],
        "6651684258556635474": [
         "1333",
         {
          "args": [
           "-1872445906533970845",
           "5585042476904223796"
          ],
          "function": "Abstraction.__call__",
          "type_params": {
           "T": {
            "type": "Integer"
           },
           "U": {
            "params": {
             "T": {
              "type": "Integer"
             },
             "U": {
              "params": {
               "T": {
                "type": "Integer"
               },
               "U": {
                "type": "Integer"
               }
              },
              "type": "Abstraction"
             }
            },
            "type": "Abstraction"
           }
          }
         }
        ],
        "6652771712578758954": [
         "479",
         {
          "args": [
           "3298425249558555854",
           "-7176269575796675394"
          ],
          "function": "Abstraction.__call__",
          "type_params": {
           "T": {
            "type": "Integer"
           },
           "U": {
            "type": "Integer"
           }
          }
         }
        ],
        "6682610203951532172": [
         "1144",
         {
          "args": [
           "-488380852147112811",
           "-807141446486382998"
          ],
          "function": "Abstraction.__call__",
          "type_params": {
           "T": {
            "type": "Integer"
           },
           "U": {
            "type": "Integer"
           }
          }
         }
        ],
        "6715195667055025707": [
         "81",
         {
          "repr": "140312823978592",
          "type": "Variable"
         }
        ],
        "6717702015561652472": [
         "393",
         {
          "args": [
           "-3589837022479227720",
           "-4201266939211086306"
          ],
          "function": "Abstraction.create",
          "type_params": {
           "T": {
            "type": "Integer"
           },
           "U": {
            "params": {
             "T": {
              "type": "Integer"
             },
             "U": {
              "type": "Integer"
             }
            },
            "type": "Abstraction"
           }
          }
         }
        ],
        "6729631384754129577": [
         "171",
         {
          "args": [
           "-1027576649297013743",
           "6580081994755491934"
          ],
          "function": "Abstraction.__call__",
          "type_params": {
           "T": {
            "type": "Integer"
           },
           "U": {
            "params": {
             "T": {
              "type": "Integer"
             },
             "U": {
              "type": "Integer"
             }
            },
            "type": "Abstraction"
           }
          }
         }
        ],
        "6776467062913655930": [
         "363",
         {
          "args": [
           "8398596617344492380",
           "-2709874245198447753",
           "6580081994755491934"
          ],
          "function": "Boolean.if_"
         }
        ],
        "6876917560684260141": [
         "4",
         {
          "args": [
           "-2561529308478450936",
           "426075460217857655"
          ],
          "function": "Abstraction.__call__",
          "type_params": {
           "T": {
            "type": "Integer"
           },
           "U": {
            "type": "Integer"
           }
          }
         }
        ],
        "6939494142610917696": [
         "4",
         {
          "args": [
           "6045014357752365256",
           "6001403824663744290",
           "-7095314879911207457"
          ],
          "function": "Boolean.if_"
         }
        ],
        "6939747575173945354": [
         "745",
         {
          "args": [
           "-807141446486382998",
           "-2709874245198447753"
          ],
          "function": "Integer.eq"
         }
        ],
        "6974755384524982580": [
         "4",
         {
          "args": [
           "1687539621587232626",
           "-2709874245198447753"
          ],
          "function": "Abstraction.__call__",
          "type_params": {
           "T": {
            "type": "Integer"
           },
           "U": {
            "type": "Integer"
           }
          }
         }
        ],
        "7007883126069894736": [
         "977",
         {
          "args": [
           "7192003423984924808",
           "1623328830782906858"
          ],
          "function": "Abstraction.__call__",
          "type_params": {
           "T": {
            "type": "Integer"
           },
           "U": {
            "params": {
             "T": {
              "type": "Integer"
             },
             "U": {
              "params": {
               "T": {
                "type": "Integer"
               },
               "U": {
                "type": "Integer"
               }
              },
              "type": "Abstraction"
             }
            },
            "type": "Abstraction"
           }
          }
         }
        ],
        "7037510580304497833": [
         "1339",
         {
          "args": [
           "6460412911337626311",
           "-2709874245198447753"
          ],
          "function": "Integer.eq"
         }
        ],
        "7071736614801773377": [
         "4",
         {
          "args": [
           "-1051299662278107137",
           "-2709874245198447753"
          ],
          "function": "Abstraction.__call__",
          "type_params": {
           "T": {
            "type": "Integer"
           },
           "U": {
            "type": "Integer"
           }
          }
         }
        ],
        "7098405803778805187": [
         "4",
         {
          "args": [
           "4144500622596062694",
           "7907100286168690534"
          ],
          "function": "Abstraction.__call__",
          "type_params": {
           "T": {
            "type": "Integer"
           },
           "U": {
            "type": "Integer"
           }
          }
         }
        ],
        "7107526529920497911": [
         "1495",
         {
          "args": [
           "-2533334673309768806",
           "-5424093814210459874"
          ],
          "function": "Abstraction.__call__",
          "type_params": {
           "T": {
            "type": "Integer"
           },
           "U": {
            "params": {
             "T": {
              "type": "Integer"
             },
             "U": {
              "type": "Integer"
             }
            },
            "type": "Abstraction"
           }
          }
         }
        ],
        "7125955535146444965": [
         "1774",
         {
          "args": [
           "-8741767410507895102",
           "-3763664595638790119"
          ],
          "function": "Abstraction.__call__",
          "type_params": {
           "T": {
            "type": "Integer"
           },
           "U": {
            "params": {
             "T": {
              "type": "Integer"
             },
             "U": {
              "type": "Integer"
             }
            },
            "type": "Abstraction"
           }
          }
         }
        ],
        "7134541812458608113": [
         "1269",
         {
          "args": [
           "-5424093814210459874",
           "6316149179579271157"
          ],
          "function": "Abstraction.create",
          "type_params": {
           "T": {
            "type": "Integer"
           },
           "U": {
            "type": "Integer"
           }
          }
         }
        ],
        "7184718713181243945": [
         "4",
         {
          "args": [
           "-7694504097016980406",
           "5824961590807657529",
           "-2836458671663647227"
          ],
          "function": "Boolean.if_"
         }
        ],
        "7192003423984924808": [
         "1967",
         {
          "args": [
           "-563377217010615496",
           "5650165979530640079"
          ],
          "function": "Abstraction.create",
          "type_params": {
           "T": {
            "type": "Integer"
           },
           "U": {
            "params": {
             "T": {
              "type": "Integer"
             },
             "U": {
              "params": {
               "T": {
                "type": "Integer"
               },
               "U": {
                "type": "Integer"
               }
              },
              "type": "Abstraction"
             }
            },
            "type": "Abstraction"
           }
          }
         }
        ],
        "72316527550074912": [
         "4",
         {
          "args": [
           "6729631384754129577",
           "-2709874245198447753"
          ],
          "function": "Abstraction.__call__",
          "type_params": {
           "T": {
            "type": "Integer"
           },
           "U": {
            "type": "Integer"
           }
          }
         }
        ],
        "7285747321743561538": [
         "1540",
         {
          "args": [
           "-7759673457477519007",
           "2880972934891874091",
           "-807141446486382998"
          ],
          "function": "Boolean.if_"
         }
        ],
        "7300308628266439123": [
         "394",
         {
          "args": [
           "-4682432829213897071",
           "-2709874245198447753"
          ],
          "function": "Abstraction.__call__",
          "type_params": {
           "T": {
            "type": "Integer"
           },
           "U": {
            "params": {
             "T": {
              "type": "Integer"
             },
             "U": {
              "type": "Integer"
             }
            },
            "type": "Abstraction"
           }
          }
         }
        ],
        "7309345848439327467": [
         "552",
         {
          "args": [
           "-2070637637055337711",
           "-2709874245198447753",
           "-2709874245198447753"
          ],
          "function": "Boolean.if_"
         }
        ],
        "7362036039870793627": [
         "28",
         {
          "args": [
           "-408151788992414269"
          ],
          "function": "Abstraction.from_fn"
         }
        ],
        "7366277601725970430": [
         "4",
         {
          "args": [
           "-6822660633696501701",
           "6407069320809385596",
           "6580081994755491934"
          ],
          "function": "Boolean.if_"
         }
        ],
        "738178980769293309": [
         "4",
         {
          "args": [
           "7709347977351142111",
           "-4188347793400235236",
           "-807141446486382998"
          ],
          "function": "Boolean.if_"
         }
        ],
        "7434313758305616985": [
         "4",
         {
          "args": [
           "4451422924031100638",
           "8144778511505664445",
           "1125277876974826930"
          ],
          "function": "Boolean.if_"
         }
        ],
        "7517531266121986836": [
         "1535",
         {
          "repr": "8",
          "type": "int"
         }
        ],
        "7530664850830435899": [
         "584",
         {
          "args": [
           "4291336246247098070",
           "-2709874245198447753"
          ],
          "function": "Abstraction.__call__",
          "type_params": {
           "T": {
            "type": "Integer"
           },
           "U": {
            "params": {
             "T": {
              "type": "Integer"
             },
             "U": {
              "type": "Integer"
             }
            },
            "type": "Abstraction"
           }
          }
         }
        ],
        "7598085092712852217": [
         "4",
         {
          "args": [
           "9153769995995055335",
           "-807141446486382998"
          ],
          "function": "Abstraction.__call__",
          "type_params": {
           "T": {
            "type": "Integer"
           },
           "U": {
            "type": "Integer"
           }
          }
         }
        ],
        "7642029506929829579": [
         "4",
         {
          "args": [
           "-6082467777081323418",
           "-4583652392085431418",
           "5673425540997037340"
          ],
          "function": "Boolean.if_"
         }
        ],
        "7653554512045847648": [
         "2095",
         {
          "args": [
           "4157626137894194315",
           "217481929186606945",
           "9029500739241599430"
          ],
          "function": "Boolean.if_"
         }
        ],
        "766763064541035971": [
         "4",
         {
          "args": [
           "3723531455775086945",
           "-2709874245198447753"
          ],
          "function": "Abstraction.__call__",
          "type_params": {
           "T": {
            "type": "Integer"
           },
           "U": {
            "type": "Integer"
           }
          }
         }
        ],
        "7709347977351142111": [
         "1507",
         {
          "args": [
           "-4389127747206091960",
           "-2709874245198447753"
          ],
          "function": "Integer.__gt__"
         }
        ],
        "7741775503433722613": [
         "1774",
         {
          "args": [
           "-2978797460441412779",
           "-3763664595638790119"
          ],
          "function": "Abstraction.__call__",
          "type_params": {
           "T": {
            "type": "Integer"
           },
           "U": {
            "params": {
             "T": {
              "type": "Integer"
             },
             "U": {
              "type": "Integer"
             }
            },
            "type": "Abstraction"
           }
          }
         }
        ],
        "7744595225220961948": [
         "1371",
         {
          "args": [
           "-1872445906533970845",
           "-4389127747206091960"
          ],
          "function": "Abstraction.__call__",
          "type_params": {
           "T": {
            "type": "Integer"
           },
           "U": {
            "params": {
             "T": {
              "type": "Integer"
             },
             "U": {
              "params": {
               "T": {
                "type": "Integer"
               },
               "U": {
                "type": "Integer"
               }
              },
              "type": "Abstraction"
             }
            },
            "type": "Abstraction"
           }
          }
         }
        ],
        "7789075026334140916": [
         "550",
         {
          "args": [
           "240525886301523390",
           "-2836458671663647227"
          ],
          "function": "Abstraction.__call__",
          "type_params": {
           "T": {
            "type": "Integer"
           },
           "U": {
            "type": "Integer"
           }
          }
         }
        ],
        "787385674907418545": [
         "1267",
         {
          "args": [
           "7037510580304497833",
           "-5424093814210459874",
           "-3589837022479227720"
          ],
          "function": "Boolean.if_"
         }
        ],
        "7907100286168690534": [
         "4",
         {
          "args": [
           "86931741174864351"
          ],
          "function": "Integer.from_int"
         }
        ],
        "7948871001522096662": [
         "871",
         {
          "args": [
           "-5424093814210459874",
           "994303349304725669"
          ],
          "function": "Abstraction.create",
          "type_params": {
           "T": {
            "type": "Integer"
           },
           "U": {
            "type": "Integer"
           }
          }
         }
        ],
        "8005862793445422533": [
         "1177",
         {
          "args": [
           "-1872445906533970845",
           "6460412911337626311"
          ],
          "function": "Abstraction.__call__",
          "type_params": {
           "T": {
            "type": "Integer"
           },
           "U": {
            "params": {
             "T": {
              "type": "Integer"
             },
             "U": {
              "params": {
               "T": {
                "type": "Integer"
               },
               "U": {
                "type": "Integer"
               }
              },
              "type": "Abstraction"
             }
            },
            "type": "Abstraction"
           }
          }
         }
        ],
        "8065993251782835721": [
         "4",
         {
          "args": [
           "1430599728253316827",
           "2715851688742255366",
           "7907100286168690534"
          ],
          "function": "Boolean.if_"
         }
        ],
        "8103107320012587087": [
         "2133",
         {
          "repr": "89",
          "type": "int"
         }
        ],
        "8139501936877188765": [
         "2125",
         {
          "args": [
           "1696435964763754435",
           "7907100286168690534"
          ],
          "function": "Abstraction.__call__",
          "type_params": {
           "T": {
            "type": "Integer"
           },
           "U": {
            "params": {
             "T": {
              "type": "Integer"
             },
             "U": {
              "type": "Integer"
             }
            },
            "type": "Abstraction"
           }
          }
         }
        ],
        "8144778511505664445": [
         "744",
         {
          "args": [
           "240625170666862444",
           "5918083920381732827"
          ],
          "function": "Abstraction.__call__",
          "type_params": {
           "T": {
            "type": "Integer"
           },
           "U": {
            "type": "Integer"
           }
          }
         }
        ],
        "8196416030071920264": [
         "780",
         {
          "args": [
           "-5424093814210459874",
           "-6792013324847907552"
          ],
          "function": "Abstraction.create",
          "type_params": {
           "T": {
            "type": "Integer"
           },
           "U": {
            "type": "Integer"
           }
          }
         }
        ],
        "8209501891162899840": [
         "739",
         {
          "args": [
           "-1872445906533970845",
           "-5070615486215614682"
          ],
          "function": "Abstraction.__call__",
          "type_params": {
           "T": {
            "type": "Integer"
           },
           "U": {
            "params": {
             "T": {
              "type": "Integer"
             },
             "U": {
              "params": {
               "T": {
                "type": "Integer"
               },
               "U": {
                "type": "Integer"
               }
              },
              "type": "Abstraction"
             }
            },
            "type": "Abstraction"
           }
          }
         }
        ],
        "823300324139511791": [
         "4",
         {
          "args": [
           "-7767012653730305004",
           "-2709874245198447753"
          ],
          "function": "Abstraction.__call__",
          "type_params": {
           "T": {
            "type": "Integer"
           },
           "U": {
            "type": "Integer"
           }
          }
         }
        ],
        "8242890977568942088": [
         "1300",
         {
          "args": [
           "6460412911337626311",
           "-5424093814210459874"
          ],
          "function": "Integer.__add__"
         }
        ],
        "8326747017172199610": [
         "286",
         {
          "args": [
           "9032197605936594841",
           "-7176269575796675394"
          ],
          "function": "Abstraction.__call__",
          "type_params": {
           "T": {
            "type": "Integer"
           },
           "U": {
            "type": "Integer"
           }
          }
         }
        ],
        "8393830299880851933": [
         "165",
         {
          "args": [
           "-1825982190921569454"
          ],
          "function": "Abstraction.fix"
         }
        ],
        "8396784582804907256": [
         "780",
         {
          "args": [
           "-8908447681940996975",
           "-2836458671663647227"
          ],
          "function": "Abstraction.__call__",
          "type_params": {
           "T": {
            "type": "Integer"
           },
           "U": {
            "params": {
             "T": {
              "type": "Integer"
             },
             "U": {
              "type": "Integer"
             }
            },
            "type": "Abstraction"
           }
          }
         }
        ],
        "8398596617344492380": [
         "362",
         {
          "args": [
           "3628454707746313761",
           "-2709874245198447753"
          ],
          "function": "Integer.eq"
         }
        ],
        "8406232321654306307": [
         "943",
         {
          "args": [
           "-2836458671663647227",
           "5097506971461298912"
          ],
          "function": "Integer.__add__"
         }
        ],
        "8595423205215171900": [
         "10",
         {
          "repr": "<function fib_more at 0x7f9d20073670>",
          "type": "function"
         }
        ],
        "8666582587071872048": [
         "4",
         {
          "args": [
           "4157626137894194315",
           "-2002092672883796522",
           "1962019368870258672"
          ],
          "function": "Boolean.if_"
         }
        ],
        "8673918263114747962": [
         "1537",
         {
          "args": [
           "-807141446486382998",
           "2880972934891874091"
          ],
          "function": "Integer.__add__"
         }
        ],
        "8686038643785783977": [
         "4",
         {
          "args": [
           "-7976381005861746498",
           "-2808053823162298186",
           "2880972934891874091"
          ],
          "function": "Boolean.if_"
         }
        ],
        "8686755194847750846": [
         "1503",
         {
          "repr": "4",
          "type": "int"
         }
        ],
        "86931741174864351": [
         "2136",
         {
          "repr": "55",
          "type": "int"
         }
        ],
        "8714447789958714673": [
         "171",
         {
          "args": [
           "-1606951645429246815",
           "6580081994755491934"
          ],
          "function": "Abstraction.__call__",
          "type_params": {
           "T": {
            "type": "Integer"
           },
           "U": {
            "params": {
             "T": {
              "type": "Integer"
             },
             "U": {
              "type": "Integer"
             }
            },
            "type": "Abstraction"
           }
          }
         }
        ],
        "8716868309357169118": [
         "4",
         {
          "args": [
           "-6822660633696501701",
           "-902927629878696283",
           "-30318007180538727"
          ],
          "function": "Boolean.if_"
         }
        ],
        "8720557168467688035": [
         "191",
         {
          "args": [
           "-5424093814210459874",
           "-1831047008422226736"
          ],
          "function": "Abstraction.create",
          "type_params": {
           "T": {
            "type": "Integer"
           },
           "U": {
            "type": "Integer"
           }
          }
         }
        ],
        "8766645206211245860": [
         "4",
         {
          "args": [
           "3685635184948772609",
           "7907100286168690534"
          ],
          "function": "Abstraction.__call__",
          "type_params": {
           "T": {
            "type": "Integer"
           },
           "U": {
            "type": "Integer"
           }
          }
         }
        ],
        "8827599958093938606": [
         "4",
         {
          "args": [
           "7709347977351142111",
           "9012655738063201556",
           "-807141446486382998"
          ],
          "function": "Boolean.if_"
         }
        ],
        "8858753719334594095": [
         "1574",
         {
          "args": [
           "2044502564145775401",
           "2880972934891874091"
          ],
          "function": "Abstraction.__call__",
          "type_params": {
           "T": {
            "type": "Integer"
           },
           "U": {
            "params": {
             "T": {
              "type": "Integer"
             },
             "U": {
              "type": "Integer"
             }
            },
            "type": "Abstraction"
           }
          }
         }
        ],
        "8889822940216474803": [
         "1740",
         {
          "args": [
           "6402056418093838791",
           "-3763664595638790119",
           "2880972934891874091"
          ],
          "function": "Boolean.if_"
         }
        ],
        "8947543312146021245": [
         "1309",
         {
          "args": [
           "6460412911337626311",
           "-2709874245198447753"
          ],
          "function": "Integer.__gt__"
         }
        ],
        "8981434790661950422": [
         "4",
         {
          "args": [
           "-7694504097016980406",
           "-3229544847317331348",
           "-2709874245198447753"
          ],
          "function": "Boolean.if_"
         }
        ],
        "9001775461386430749": [
         "1136",
         {
          "args": [
           "1623328830782906858",
           "-2709874245198447753"
          ],
          "function": "Integer.__sub__"
         }
        ],
        "9012655738063201556": [
         "4",
         {
          "args": [
           "3823202512307014310",
           "-3763664595638790119"
          ],
          "function": "Abstraction.__call__",
          "type_params": {
           "T": {
            "type": "Integer"
           },
           "U": {
            "type": "Integer"
           }
          }
         }
        ],
        "9024812369387113132": [
         "4",
         {
          "args": [
           "-5822624619271615343",
           "3628454707746313761"
          ],
          "function": "FunctionOne.__call__",
          "type_params": {
           "T": {
            "type": "Integer"
           },
           "U": {
            "type": "Integer"
           }
          }
         }
        ],
        "9029500739241599430": [
         "2094",
         {
          "args": [
           "-400078499597817794",
           "-5424093814210459874",
           "426075460217857655"
          ],
          "function": "Boolean.if_"
         }
        ],
        "9031262841023282274": [
         "2118",
         {
          "args": [
           "-563377217010615496",
           "364302868788163682"
          ],
          "function": "Abstraction.create",
          "type_params": {
           "T": {
            "type": "Integer"
           },
           "U": {
            "params": {
             "T": {
              "type": "Integer"
             },
             "U": {
              "params": {
               "T": {
                "type": "Integer"
               },
               "U": {
                "type": "Integer"
               }
              },
              "type": "Abstraction"
             }
            },
            "type": "Abstraction"
           }
          }
         }
        ],
        "9032197605936594841": [
         "320",
         {
          "args": [
           "-3261251303804982457",
           "-5424093814210459874"
          ],
          "function": "Abstraction.__call__",
          "type_params": {
           "T": {
            "type": "Integer"
           },
           "U": {
            "params": {
             "T": {
              "type": "Integer"
             },
             "U": {
              "type": "Integer"
             }
            },
            "type": "Abstraction"
           }
          }
         }
        ],
        "9050969060911818449": [
         "2026",
         {
          "args": [
           "-5424093814210459874",
           "-775324129242212287"
          ],
          "function": "Abstraction.create",
          "type_params": {
           "T": {
            "type": "Integer"
           },
           "U": {
            "type": "Integer"
           }
          }
         }
        ],
        "9052403675040820090": [
         "552",
         {
          "args": [
           "1430599728253316827",
           "-2709874245198447753",
           "-2709874245198447753"
          ],
          "function": "Boolean.if_"
         }
        ],
        "9089165338363271778": [
         "4",
         {
          "args": [
           "-7694504097016980406",
           "6325804655016651525",
           "2880972934891874091"
          ],
          "function": "Boolean.if_"
         }
        ],
        "9104402431856661258": [
         "355",
         {
          "args": [
           "3628454707746313761",
           "-2709874245198447753"
          ],
          "function": "Integer.__sub__"
         }
        ],
        "9132097993251288895": [
         "328",
         {
          "repr": "10",
          "type": "int"
         }
        ],
        "9153769995995055335": [
         "1178",
         {
          "args": [
           "1052663867610175942",
           "6460412911337626311"
          ],
          "function": "Abstraction.__call__",
          "type_params": {
           "T": {
            "type": "Integer"
           },
           "U": {
            "params": {
             "T": {
              "type": "Integer"
             },
             "U": {
              "type": "Integer"
             }
            },
            "type": "Abstraction"
           }
          }
         }
        ],
        "9162462604854124288": [
         "19",
         {
          "args": [
           "-3289004802403072970",
           "4914276920258368562"
          ],
          "function": "Abstraction.create",
          "type_params": {
           "T": {
            "params": {
             "T": {
              "type": "Integer"
             },
             "U": {
              "params": {
               "T": {
                "type": "Integer"
               },
               "U": {
                "params": {
                 "T": {
                  "type": "Integer"
                 },
                 "U": {
                  "type": "Integer"
                 }
                },
                "type": "Abstraction"
               }
              },
              "type": "Abstraction"
             }
            },
            "type": "Abstraction"
           },
           "U": {
            "params": {
             "T": {
              "type": "Integer"
             },
             "U": {
              "params": {
               "T": {
                "type": "Integer"
               },
               "U": {
                "params": {
                 "T": {
                  "type": "Integer"
                 },
                 "U": {
                  "type": "Integer"
                 }
                },
                "type": "Abstraction"
               }
              },
              "type": "Abstraction"
             }
            },
            "type": "Abstraction"
           }
          }
         }
        ],
        "9176229838676939566": [
         "705",
         {
          "args": [
           "8209501891162899840",
           "-5424093814210459874"
          ],
          "function": "Abstraction.__call__",
          "type_params": {
           "T": {
            "type": "Integer"
           },
           "U": {
            "params": {
             "T": {
              "type": "Integer"
             },
             "U": {
              "type": "Integer"
             }
            },
            "type": "Abstraction"
           }
          }
         }
        ],
        "9178047548150501327": [
         "20",
         {
          "args": [
           "-284286813617894553"
          ],
          "function": "Abstraction.fix"
         }
        ],
        "920388089481385983": [
         "1105",
         {
          "args": [
           "-1254377099455496499",
           "-2323764632951596514"
          ],
          "function": "Abstraction.__call__",
          "type_params": {
           "T": {
            "type": "Integer"
           },
           "U": {
            "type": "Integer"
           }
          }
         }
        ],
        "9208060858365832109": [
         "1934",
         {
          "args": [
           "-3096293770195600059",
           "426075460217857655"
          ],
          "function": "Abstraction.__call__",
          "type_params": {
           "T": {
            "type": "Integer"
           },
           "U": {
            "params": {
             "T": {
              "type": "Integer"
             },
             "U": {
              "type": "Integer"
             }
            },
            "type": "Abstraction"
           }
          }
         }
        ],
        "9216252889752075526": [
         "1143",
         {
          "args": [
           "5097506971461298912",
           "6460412911337626311"
          ],
          "function": "Integer.__add__"
         }
        ],
        "994303349304725669": [
         "870",
         {
          "args": [
           "6045014357752365256",
           "-2853568288805993481",
           "-329086784906391893"
          ],
          "function": "Boolean.if_"
         }
        ]
       },
       "states": {
        "initial": "9024812369387113132",
        "states": [
         {
          "node": "-5437740450720867563",
          "rule": "metadsl_core.function.FunctionOne.from_fn"
         },
         {
          "node": "2026612827396828514",
          "rule": "metadsl_core.abstraction.Abstraction.from_fn"
         },
         {
          "node": "-1544700006780311069",
          "rule": "metadsl_core.function.FunctionThree.from_fn_recursive"
         },
         {
          "node": "3886010514623755322",
          "rule": "metadsl_core.abstraction.Abstraction.from_fn"
         },
         {
          "node": "39935437796975748",
          "rule": "metadsl_core.abstraction.Abstraction.from_fn"
         },
         {
          "node": "-865291455889119885",
          "rule": "metadsl_core.abstraction.Abstraction.from_fn"
         },
         {
          "node": "-4248657993478939615",
          "rule": "metadsl_core.abstraction.Abstraction.from_fn"
         },
         {
          "node": "2800981292409365690",
          "rule": "metadsl_core.function.one_call"
         },
         {
          "node": "6492553153751709342",
          "rule": "metadsl_core.function.one_abstraction"
         },
         {
          "node": "4320991441086938097",
          "rule": "metadsl_core.abstraction.beta_reduce"
         },
         {
          "node": "5913560727312155284",
          "rule": "metadsl_core.function.three_call"
         },
         {
          "node": "6974755384524982580",
          "rule": "metadsl_core.function.three_abstraction"
         },
         {
          "node": "-7279802344150205896",
          "rule": "metadsl_core.function.three_call"
         },
         {
          "node": "-1873709023749060235",
          "rule": "metadsl_core.function.three_abstraction"
         },
         {
          "label": "core",
          "node": "-1873709023749060235",
          "rule": ""
         },
         {
          "node": "766763064541035971",
          "rule": "metadsl_core.abstraction.Abstraction.fix"
         },
         {
          "node": "72316527550074912",
          "rule": "metadsl_core.abstraction.beta_reduce"
         },
         {
          "node": "-1731646924518211845",
          "rule": "metadsl_core.abstraction.beta_reduce"
         },
         {
          "node": "-6660993338273451131",
          "rule": "metadsl_core.abstraction.beta_reduce"
         },
         {
          "node": "5984156524768825597",
          "rule": "metadsl_core.abstraction.beta_reduce"
         },
         {
          "node": "8716868309357169118",
          "rule": "metadsl_core.integer.integer_comparison"
         },
         {
          "node": "-238751702912413220",
          "rule": "metadsl_core.boolean.if_"
         },
         {
          "node": "7366277601725970430",
          "rule": "metadsl_core.integer.integer_math"
         },
         {
          "node": "2748378576463741368",
          "rule": "metadsl_core.integer.integer_math"
         },
         {
          "node": "4843421004752968499",
          "rule": "metadsl_core.integer.integer_comparison"
         },
         {
          "node": "2890535126162293660",
          "rule": "metadsl_core.boolean.if_"
         },
         {
          "label": "core",
          "node": "2890535126162293660",
          "rule": ""
         },
         {
          "node": "2091202744266988099",
          "rule": "metadsl_core.abstraction.Abstraction.fix"
         },
         {
          "node": "2995125188501239945",
          "rule": "metadsl_core.abstraction.beta_reduce"
         },
         {
          "node": "823300324139511791",
          "rule": "metadsl_core.abstraction.beta_reduce"
         },
         {
          "node": "7071736614801773377",
          "rule": "metadsl_core.abstraction.beta_reduce"
         },
         {
          "node": "-572155615136026905",
          "rule": "metadsl_core.abstraction.beta_reduce"
         },
         {
          "node": "-6514372031518841616",
          "rule": "metadsl_core.integer.integer_comparison"
         },
         {
          "node": "1667767348303976343",
          "rule": "metadsl_core.boolean.if_"
         },
         {
          "node": "-4637911471935490360",
          "rule": "metadsl_core.integer.integer_math"
         },
         {
          "node": "-5483534949603105536",
          "rule": "metadsl_core.integer.integer_math"
         },
         {
          "node": "8981434790661950422",
          "rule": "metadsl_core.integer.integer_comparison"
         },
         {
          "node": "-3229544847317331348",
          "rule": "metadsl_core.boolean.if_"
         },
         {
          "label": "core",
          "node": "-3229544847317331348",
          "rule": ""
         },
         {
          "node": "-6804323267347952162",
          "rule": "metadsl_core.abstraction.Abstraction.fix"
         },
         {
          "node": "-3627663358061894108",
          "rule": "metadsl_core.abstraction.beta_reduce"
         },
         {
          "node": "-8179744224926288619",
          "rule": "metadsl_core.abstraction.beta_reduce"
         },
         {
          "node": "-4215596480433184121",
          "rule": "metadsl_core.abstraction.beta_reduce"
         },
         {
          "node": "-4660412633489760477",
          "rule": "metadsl_core.abstraction.beta_reduce"
         },
         {
          "node": "7434313758305616985",
          "rule": "metadsl_core.integer.integer_comparison"
         },
         {
          "node": "-2407708529849502343",
          "rule": "metadsl_core.boolean.if_"
         },
         {
          "node": "1412812120563463511",
          "rule": "metadsl_core.integer.integer_math"
         },
         {
          "node": "3394162237018093016",
          "rule": "metadsl_core.integer.integer_math"
         },
         {
          "node": "3683351022978259685",
          "rule": "metadsl_core.integer.integer_comparison"
         },
         {
          "node": "-7781608503743410166",
          "rule": "metadsl_core.boolean.if_"
         },
         {
          "label": "core",
          "node": "-7781608503743410166",
          "rule": ""
         },
         {
          "node": "-1728229885748205255",
          "rule": "metadsl_core.abstraction.Abstraction.fix"
         },
         {
          "node": "1615349311394902901",
          "rule": "metadsl_core.abstraction.beta_reduce"
         },
         {
          "node": "-5708294416994847057",
          "rule": "metadsl_core.abstraction.beta_reduce"
         },
         {
          "node": "-9218559445326895691",
          "rule": "metadsl_core.abstraction.beta_reduce"
         },
         {
          "node": "6939494142610917696",
          "rule": "metadsl_core.abstraction.beta_reduce"
         },
         {
          "node": "-8605989849602491738",
          "rule": "metadsl_core.integer.integer_comparison"
         },
         {
          "node": "-6608702614986694197",
          "rule": "metadsl_core.boolean.if_"
         },
         {
          "node": "211930557165848816",
          "rule": "metadsl_core.integer.integer_math"
         },
         {
          "node": "-2226581153540153046",
          "rule": "metadsl_core.integer.integer_math"
         },
         {
          "node": "7184718713181243945",
          "rule": "metadsl_core.integer.integer_comparison"
         },
         {
          "node": "5824961590807657529",
          "rule": "metadsl_core.boolean.if_"
         },
         {
          "label": "core",
          "node": "5824961590807657529",
          "rule": ""
         },
         {
          "node": "-4610434476171621727",
          "rule": "metadsl_core.abstraction.Abstraction.fix"
         },
         {
          "node": "-6541968139055353049",
          "rule": "metadsl_core.abstraction.beta_reduce"
         },
         {
          "node": "6224734592885192466",
          "rule": "metadsl_core.abstraction.beta_reduce"
         },
         {
          "node": "5266349270475943888",
          "rule": "metadsl_core.abstraction.beta_reduce"
         },
         {
          "node": "-2276578944146535180",
          "rule": "metadsl_core.abstraction.beta_reduce"
         },
         {
          "node": "7642029506929829579",
          "rule": "metadsl_core.integer.integer_comparison"
         },
         {
          "node": "-232106358995459078",
          "rule": "metadsl_core.boolean.if_"
         },
         {
          "node": "3377214167073522146",
          "rule": "metadsl_core.integer.integer_math"
         },
         {
          "node": "3917862883693795982",
          "rule": "metadsl_core.integer.integer_math"
         },
         {
          "node": "-1114697861662820011",
          "rule": "metadsl_core.integer.integer_comparison"
         },
         {
          "node": "4278492917212468935",
          "rule": "metadsl_core.boolean.if_"
         },
         {
          "label": "core",
          "node": "4278492917212468935",
          "rule": ""
         },
         {
          "node": "7598085092712852217",
          "rule": "metadsl_core.abstraction.Abstraction.fix"
         },
         {
          "node": "3902531749259673212",
          "rule": "metadsl_core.abstraction.beta_reduce"
         },
         {
          "node": "-3051882958207759886",
          "rule": "metadsl_core.abstraction.beta_reduce"
         },
         {
          "node": "-7623049584693957873",
          "rule": "metadsl_core.abstraction.beta_reduce"
         },
         {
          "node": "4103517931935974456",
          "rule": "metadsl_core.abstraction.beta_reduce"
         },
         {
          "node": "4722612731601508256",
          "rule": "metadsl_core.integer.integer_comparison"
         },
         {
          "node": "-8326640809299790576",
          "rule": "metadsl_core.boolean.if_"
         },
         {
          "node": "4332147005735943971",
          "rule": "metadsl_core.integer.integer_math"
         },
         {
          "node": "-595954427610929056",
          "rule": "metadsl_core.integer.integer_math"
         },
         {
          "node": "-7615870743718692864",
          "rule": "metadsl_core.integer.integer_comparison"
         },
         {
          "node": "-6570485500604829551",
          "rule": "metadsl_core.boolean.if_"
         },
         {
          "label": "core",
          "node": "-6570485500604829551",
          "rule": ""
         },
         {
          "node": "4001151789808751393",
          "rule": "metadsl_core.abstraction.Abstraction.fix"
         },
         {
          "node": "4387608530524038612",
          "rule": "metadsl_core.abstraction.beta_reduce"
         },
         {
          "node": "-3913899839426883407",
          "rule": "metadsl_core.abstraction.beta_reduce"
         },
         {
          "node": "-7409168338254583045",
          "rule": "metadsl_core.abstraction.beta_reduce"
         },
         {
          "node": "4388970976530863159",
          "rule": "metadsl_core.abstraction.beta_reduce"
         },
         {
          "node": "4709041280137040239",
          "rule": "metadsl_core.integer.integer_comparison"
         },
         {
          "node": "738178980769293309",
          "rule": "metadsl_core.boolean.if_"
         },
         {
          "node": "-2653737741108419505",
          "rule": "metadsl_core.integer.integer_math"
         },
         {
          "node": "8827599958093938606",
          "rule": "metadsl_core.integer.integer_math"
         },
         {
          "node": "5132727242757789410",
          "rule": "metadsl_core.integer.integer_comparison"
         },
         {
          "node": "9012655738063201556",
          "rule": "metadsl_core.boolean.if_"
         },
         {
          "label": "core",
          "node": "9012655738063201556",
          "rule": ""
         },
         {
          "node": "-3364381747267514194",
          "rule": "metadsl_core.abstraction.Abstraction.fix"
         },
         {
          "node": "2273911018844196594",
          "rule": "metadsl_core.abstraction.beta_reduce"
         },
         {
          "node": "1328115795881504315",
          "rule": "metadsl_core.abstraction.beta_reduce"
         },
         {
          "node": "5417838493779176615",
          "rule": "metadsl_core.abstraction.beta_reduce"
         },
         {
          "node": "4978699267633369825",
          "rule": "metadsl_core.abstraction.beta_reduce"
         },
         {
          "node": "-1010406287580477511",
          "rule": "metadsl_core.integer.integer_comparison"
         },
         {
          "node": "-214890901606545206",
          "rule": "metadsl_core.boolean.if_"
         },
         {
          "node": "8686038643785783977",
          "rule": "metadsl_core.integer.integer_math"
         },
         {
          "node": "-2936472015581425190",
          "rule": "metadsl_core.integer.integer_math"
         },
         {
          "node": "9089165338363271778",
          "rule": "metadsl_core.integer.integer_comparison"
         },
         {
          "node": "6325804655016651525",
          "rule": "metadsl_core.boolean.if_"
         },
         {
          "label": "core",
          "node": "6325804655016651525",
          "rule": ""
         },
         {
          "node": "5652241350594340850",
          "rule": "metadsl_core.abstraction.Abstraction.fix"
         },
         {
          "node": "6876917560684260141",
          "rule": "metadsl_core.abstraction.beta_reduce"
         },
         {
          "node": "-7993137167377866168",
          "rule": "metadsl_core.abstraction.beta_reduce"
         },
         {
          "node": "-6743269233114595865",
          "rule": "metadsl_core.abstraction.beta_reduce"
         },
         {
          "node": "-7569839476423556956",
          "rule": "metadsl_core.abstraction.beta_reduce"
         },
         {
          "node": "4722088803172107741",
          "rule": "metadsl_core.integer.integer_comparison"
         },
         {
          "node": "-6620960263084286883",
          "rule": "metadsl_core.boolean.if_"
         },
         {
          "node": "-8424025839876583268",
          "rule": "metadsl_core.integer.integer_math"
         },
         {
          "node": "-3369716987863233395",
          "rule": "metadsl_core.integer.integer_math"
         },
         {
          "node": "-6846722187358319882",
          "rule": "metadsl_core.integer.integer_comparison"
         },
         {
          "node": "6425858165541754480",
          "rule": "metadsl_core.boolean.if_"
         },
         {
          "label": "core",
          "node": "6425858165541754480",
          "rule": ""
         },
         {
          "node": "7098405803778805187",
          "rule": "metadsl_core.abstraction.Abstraction.fix"
         },
         {
          "node": "8766645206211245860",
          "rule": "metadsl_core.abstraction.beta_reduce"
         },
         {
          "node": "4143980468794140492",
          "rule": "metadsl_core.abstraction.beta_reduce"
         },
         {
          "node": "-6162375902643725053",
          "rule": "metadsl_core.abstraction.beta_reduce"
         },
         {
          "node": "8666582587071872048",
          "rule": "metadsl_core.abstraction.beta_reduce"
         },
         {
          "node": "5922577286522704796",
          "rule": "metadsl_core.integer.integer_comparison"
         },
         {
          "node": "-2363238644559922178",
          "rule": "metadsl_core.boolean.if_"
         },
         {
          "node": "-6352367482909406248",
          "rule": "metadsl_core.integer.integer_math"
         },
         {
          "node": "-3568518314450929716",
          "rule": "metadsl_core.integer.integer_math"
         },
         {
          "node": "8065993251782835721",
          "rule": "metadsl_core.integer.integer_comparison"
         },
         {
          "node": "7907100286168690534",
          "rule": "metadsl_core.boolean.if_"
         },
         {
          "label": "core",
          "node": "7907100286168690534",
          "rule": ""
         }
        ]
       }
      },
      "text/plain": [
       "Typez(definitions=None, nodes={'5631107808227512515': ['6', PrimitiveNode(type='function', repr='<function fib at 0x7f9d20139af0>')], '-5822624619271615343': ['1', CallNode(function='FunctionOne.from_fn', type_params=None, args=['5631107808227512515'], kwargs=None)], '9132097993251288895': ['328', PrimitiveNode(type='int', repr='10')], '3628454707746313761': ['329', CallNode(function='Integer.from_int', type_params=None, args=['9132097993251288895'], kwargs=None)], '9024812369387113132': ['4', CallNode(function='FunctionOne.__call__', type_params={'U': DeclaredTypeInstance(type='Integer', params=None), 'T': DeclaredTypeInstance(type='Integer', params=None)}, args=['-5822624619271615343', '3628454707746313761'], kwargs=None)], '3915031954868405795': ['45', PrimitiveNode(type='str', repr='fib')], '-7492157356392922807': ['7', CallNode(function='Abstraction.from_fn', type_params=None, args=['5631107808227512515'], kwargs=None)], '-836404993843325586': ['1', CallNode(function='FunctionOne.create', type_params={'U': DeclaredTypeInstance(type='Integer', params=None), 'T': DeclaredTypeInstance(type='Integer', params=None)}, args=['3915031954868405795', '-7492157356392922807'], kwargs=None)], '-5437740450720867563': ['4', CallNode(function='FunctionOne.__call__', type_params={'U': DeclaredTypeInstance(type='Integer', params=None), 'T': DeclaredTypeInstance(type='Integer', params=None)}, args=['-836404993843325586', '3628454707746313761'], kwargs=None)], '6715195667055025707': ['81', PrimitiveNode(type='Variable', repr='140312823978592')], '3892200530871370918': ['82', CallNode(function='Abstraction.create_variable', type_params={'U': DeclaredTypeInstance(type='Integer', params=None), 'T': DeclaredTypeInstance(type='Integer', params=None)}, args=['6715195667055025707'], kwargs=None)], '8595423205215171900': ['10', PrimitiveNode(type='function', repr='<function fib_more at 0x7f9d20073670>')], '1981263166940963756': ['11', CallNode(function='FunctionThree.from_fn_recursive', type_params=None, args=['8595423205215171900'], kwargs=None)], '-8590764950136036760': ['2134', PrimitiveNode(type='int', repr='0')], '6580081994755491934': ['2121', CallNode(function='Integer.from_int', type_params=None, args=['-8590764950136036760'], kwargs=None)], '4962905094600818490': ['2096', PrimitiveNode(type='int', repr='1')], '-2709874245198447753': ['2097', CallNode(function='Integer.from_int', type_params=None, args=['4962905094600818490'], kwargs=None)], '-8237060831150688205': ['16', CallNode(function='FunctionThree.__call__', type_params={'X': DeclaredTypeInstance(type='Integer', params=None), 'V': DeclaredTypeInstance(type='Integer', params=None), 'U': DeclaredTypeInstance(type='Integer', params=None), 'T': DeclaredTypeInstance(type='Integer', params=None)}, args=['1981263166940963756', '3892200530871370918', '6580081994755491934', '-2709874245198447753'], kwargs=None)], '4144278828814745508': ['7', CallNode(function='Abstraction.create', type_params={'U': DeclaredTypeInstance(type='Integer', params=None), 'T': DeclaredTypeInstance(type='Integer', params=None)}, args=['3892200530871370918', '-8237060831150688205'], kwargs=None)], '2957560258136862634': ['1', CallNode(function='FunctionOne.create', type_params={'U': DeclaredTypeInstance(type='Integer', params=None), 'T': DeclaredTypeInstance(type='Integer', params=None)}, args=['3915031954868405795', '4144278828814745508'], kwargs=None)], '2026612827396828514': ['4', CallNode(function='FunctionOne.__call__', type_params={'U': DeclaredTypeInstance(type='Integer', params=None), 'T': DeclaredTypeInstance(type='Integer', params=None)}, args=['2957560258136862634', '3628454707746313761'], kwargs=None)], '4300501360281088643': ['195', PrimitiveNode(type='str', repr='fib_more')], '-8969456781942678574': ['18', PrimitiveNode(type='FunctionReplaceTyping', repr=\"FunctionReplaceTyping(fn=<function FunctionThree.from_fn_recursive.<locals>.inner at 0x7f9d20139b80>, typevars={~V: <class 'metadsl_core.integer.Integer'>, ~U: <class 'metadsl_core.integer.Integer'>, ~T: <class 'metadsl_core.integer.Integer'>, ~X: <class 'metadsl_core.integer.Integer'>}, typevars_in_scope={~U, ~T, ~V, ~X})\")], '4793408948483079825': ['19', CallNode(function='Abstraction.from_fn', type_params=None, args=['-8969456781942678574'], kwargs=None)], '2034744756877462493': ['20', CallNode(function='Abstraction.fix', type_params=None, args=['4793408948483079825'], kwargs=None)], '-3309245516423521805': ['11', CallNode(function='FunctionThree.create', type_params={'X': DeclaredTypeInstance(type='Integer', params=None), 'V': DeclaredTypeInstance(type='Integer', params=None), 'U': DeclaredTypeInstance(type='Integer', params=None), 'T': DeclaredTypeInstance(type='Integer', params=None)}, args=['4300501360281088643', '2034744756877462493'], kwargs=None)], '-6481088123452881559': ['16', CallNode(function='FunctionThree.__call__', type_params={'X': DeclaredTypeInstance(type='Integer', params=None), 'V': DeclaredTypeInstance(type='Integer', params=None), 'U': DeclaredTypeInstance(type='Integer', params=None), 'T': DeclaredTypeInstance(type='Integer', params=None)}, args=['-3309245516423521805', '3892200530871370918', '6580081994755491934', '-2709874245198447753'], kwargs=None)], '-4045578726987333157': ['7', CallNode(function='Abstraction.create', type_params={'U': DeclaredTypeInstance(type='Integer', params=None), 'T': DeclaredTypeInstance(type='Integer', params=None)}, args=['3892200530871370918', '-6481088123452881559'], kwargs=None)], '4255262049260606562': ['1', CallNode(function='FunctionOne.create', type_params={'U': DeclaredTypeInstance(type='Integer', params=None), 'T': DeclaredTypeInstance(type='Integer', params=None)}, args=['3915031954868405795', '-4045578726987333157'], kwargs=None)], '-1544700006780311069': ['4', CallNode(function='FunctionOne.__call__', type_params={'U': DeclaredTypeInstance(type='Integer', params=None), 'T': DeclaredTypeInstance(type='Integer', params=None)}, args=['4255262049260606562', '3628454707746313761'], kwargs=None)], '-8711828802046356240': ['2099', PrimitiveNode(type='Variable', repr='140312824816112')], '-3289004802403072970': ['2100', CallNode(function='Abstraction.create_variable', type_params={'U': DeclaredTypeInstance(type='Abstraction', params={'U': DeclaredTypeInstance(type='Abstraction', params={'U': DeclaredTypeInstance(type='Abstraction', params={'U': DeclaredTypeInstance(type='Integer', params=None), 'T': DeclaredTypeInstance(type='Integer', params=None)}), 'T': DeclaredTypeInstance(type='Integer', params=None)}), 'T': DeclaredTypeInstance(type='Integer', params=None)}), 'T': DeclaredTypeInstance(type='Abstraction', params={'U': DeclaredTypeInstance(type='Abstraction', params={'U': DeclaredTypeInstance(type='Abstraction', params={'U': DeclaredTypeInstance(type='Integer', params=None), 'T': DeclaredTypeInstance(type='Integer', params=None)}), 'T': DeclaredTypeInstance(type='Integer', params=None)}), 'T': DeclaredTypeInstance(type='Integer', params=None)})}, args=['-8711828802046356240'], kwargs=None)], '561916924144187858': ['23', PrimitiveNode(type='FunctionReplaceTyping', repr=\"FunctionReplaceTyping(fn=<function FunctionThree.from_fn_recursive.<locals>.inner.<locals>.inner at 0x7f9d20139d30>, typevars={~V: <class 'metadsl_core.integer.Integer'>, ~U: <class 'metadsl_core.integer.Integer'>, ~T: <class 'metadsl_core.integer.Integer'>, ~X: <class 'metadsl_core.integer.Integer'>}, typevars_in_scope={~U, ~T, ~V, ~X})\")], '4914276920258368562': ['24', CallNode(function='Abstraction.from_fn', type_params=None, args=['561916924144187858'], kwargs=None)], '9162462604854124288': ['19', CallNode(function='Abstraction.create', type_params={'U': DeclaredTypeInstance(type='Abstraction', params={'U': DeclaredTypeInstance(type='Abstraction', params={'U': DeclaredTypeInstance(type='Abstraction', params={'U': DeclaredTypeInstance(type='Integer', params=None), 'T': DeclaredTypeInstance(type='Integer', params=None)}), 'T': DeclaredTypeInstance(type='Integer', params=None)}), 'T': DeclaredTypeInstance(type='Integer', params=None)}), 'T': DeclaredTypeInstance(type='Abstraction', params={'U': DeclaredTypeInstance(type='Abstraction', params={'U': DeclaredTypeInstance(type='Abstraction', params={'U': DeclaredTypeInstance(type='Integer', params=None), 'T': DeclaredTypeInstance(type='Integer', params=None)}), 'T': DeclaredTypeInstance(type='Integer', params=None)}), 'T': DeclaredTypeInstance(type='Integer', params=None)})}, args=['-3289004802403072970', '4914276920258368562'], kwargs=None)], '-6863104524139089718': ['20', CallNode(function='Abstraction.fix', type_params=None, args=['9162462604854124288'], kwargs=None)], '2331257433739070648': ['11', CallNode(function='FunctionThree.create', type_params={'X': DeclaredTypeInstance(type='Integer', params=None), 'V': DeclaredTypeInstance(type='Integer', params=None), 'U': DeclaredTypeInstance(type='Integer', params=None), 'T': DeclaredTypeInstance(type='Integer', params=None)}, args=['4300501360281088643', '-6863104524139089718'], kwargs=None)], '2390676282337647555': ['16', CallNode(function='FunctionThree.__call__', type_params={'X': DeclaredTypeInstance(type='Integer', params=None), 'V': DeclaredTypeInstance(type='Integer', params=None), 'U': DeclaredTypeInstance(type='Integer', params=None), 'T': DeclaredTypeInstance(type='Integer', params=None)}, args=['2331257433739070648', '3892200530871370918', '6580081994755491934', '-2709874245198447753'], kwargs=None)], '294460393764912317': ['7', CallNode(function='Abstraction.create', type_params={'U': DeclaredTypeInstance(type='Integer', params=None), 'T': DeclaredTypeInstance(type='Integer', params=None)}, args=['3892200530871370918', '2390676282337647555'], kwargs=None)], '3185594071007903954': ['1', CallNode(function='FunctionOne.create', type_params={'U': DeclaredTypeInstance(type='Integer', params=None), 'T': DeclaredTypeInstance(type='Integer', params=None)}, args=['3915031954868405795', '294460393764912317'], kwargs=None)], '3886010514623755322': ['4', CallNode(function='FunctionOne.__call__', type_params={'U': DeclaredTypeInstance(type='Integer', params=None), 'T': DeclaredTypeInstance(type='Integer', params=None)}, args=['3185594071007903954', '3628454707746313761'], kwargs=None)], '-2488375727644783629': ['2101', PrimitiveNode(type='Variable', repr='140311752641072')], '-563377217010615496': ['2102', CallNode(function='Abstraction.create_variable', type_params={'U': DeclaredTypeInstance(type='Abstraction', params={'U': DeclaredTypeInstance(type='Abstraction', params={'U': DeclaredTypeInstance(type='Integer', params=None), 'T': DeclaredTypeInstance(type='Integer', params=None)}), 'T': DeclaredTypeInstance(type='Integer', params=None)}), 'T': DeclaredTypeInstance(type='Integer', params=None)}, args=['-2488375727644783629'], kwargs=None)], '-408151788992414269': ['27', PrimitiveNode(type='FunctionReplaceTyping', repr=\"FunctionReplaceTyping(fn=<function FunctionThree.from_fn_recursive.<locals>.inner.<locals>.inner.<locals>.inner at 0x7f9d20139e50>, typevars={~V: <class 'metadsl_core.integer.Integer'>, ~U: <class 'metadsl_core.integer.Integer'>, ~T: <class 'metadsl_core.integer.Integer'>, ~X: <class 'metadsl_core.integer.Integer'>}, typevars_in_scope={~X, ~U, ~T, ~V})\")], '7362036039870793627': ['28', CallNode(function='Abstraction.from_fn', type_params=None, args=['-408151788992414269'], kwargs=None)], '1193604216406863300': ['24', CallNode(function='Abstraction.create', type_params={'U': DeclaredTypeInstance(type='Abstraction', params={'U': DeclaredTypeInstance(type='Abstraction', params={'U': DeclaredTypeInstance(type='Integer', params=None), 'T': DeclaredTypeInstance(type='Integer', params=None)}), 'T': DeclaredTypeInstance(type='Integer', params=None)}), 'T': DeclaredTypeInstance(type='Integer', params=None)}, args=['-563377217010615496', '7362036039870793627'], kwargs=None)], '-3882487081131308648': ['19', CallNode(function='Abstraction.create', type_params={'U': DeclaredTypeInstance(type='Abstraction', params={'U': DeclaredTypeInstance(type='Abstraction', params={'U': DeclaredTypeInstance(type='Abstraction', params={'U': DeclaredTypeInstance(type='Integer', params=None), 'T': DeclaredTypeInstance(type='Integer', params=None)}), 'T': DeclaredTypeInstance(type='Integer', params=None)}), 'T': DeclaredTypeInstance(type='Integer', params=None)}), 'T': DeclaredTypeInstance(type='Abstraction', params={'U': DeclaredTypeInstance(type='Abstraction', params={'U': DeclaredTypeInstance(type='Abstraction', params={'U': DeclaredTypeInstance(type='Integer', params=None), 'T': DeclaredTypeInstance(type='Integer', params=None)}), 'T': DeclaredTypeInstance(type='Integer', params=None)}), 'T': DeclaredTypeInstance(type='Integer', params=None)})}, args=['-3289004802403072970', '1193604216406863300'], kwargs=None)], '5359865311956456200': ['20', CallNode(function='Abstraction.fix', type_params=None, args=['-3882487081131308648'], kwargs=None)], '249475405937933398': ['11', CallNode(function='FunctionThree.create', type_params={'X': DeclaredTypeInstance(type='Integer', params=None), 'V': DeclaredTypeInstance(type='Integer', params=None), 'U': DeclaredTypeInstance(type='Integer', params=None), 'T': DeclaredTypeInstance(type='Integer', params=None)}, args=['4300501360281088643', '5359865311956456200'], kwargs=None)], '-7290309209505012195': ['16', CallNode(function='FunctionThree.__call__', type_params={'X': DeclaredTypeInstance(type='Integer', params=None), 'V': DeclaredTypeInstance(type='Integer', params=None), 'U': DeclaredTypeInstance(type='Integer', params=None), 'T': DeclaredTypeInstance(type='Integer', params=None)}, args=['249475405937933398', '3892200530871370918', '6580081994755491934', '-2709874245198447753'], kwargs=None)], '-4268747143896634808': ['7', CallNode(function='Abstraction.create', type_params={'U': DeclaredTypeInstance(type='Integer', params=None), 'T': DeclaredTypeInstance(type='Integer', params=None)}, args=['3892200530871370918', '-7290309209505012195'], kwargs=None)], '-5346505659340113482': ['1', CallNode(function='FunctionOne.create', type_params={'U': DeclaredTypeInstance(type='Integer', params=None), 'T': DeclaredTypeInstance(type='Integer', params=None)}, args=['3915031954868405795', '-4268747143896634808'], kwargs=None)], '39935437796975748': ['4', CallNode(function='FunctionOne.__call__', type_params={'U': DeclaredTypeInstance(type='Integer', params=None), 'T': DeclaredTypeInstance(type='Integer', params=None)}, args=['-5346505659340113482', '3628454707746313761'], kwargs=None)], '-368073151851464319': ['2103', PrimitiveNode(type='Variable', repr='140311752600016')], '-3589837022479227720': ['2104', CallNode(function='Abstraction.create_variable', type_params={'U': DeclaredTypeInstance(type='Abstraction', params={'U': DeclaredTypeInstance(type='Integer', params=None), 'T': DeclaredTypeInstance(type='Integer', params=None)}), 'T': DeclaredTypeInstance(type='Integer', params=None)}, args=['-368073151851464319'], kwargs=None)], '-8691308168488607368': ['31', PrimitiveNode(type='FunctionReplaceTyping', repr=\"FunctionReplaceTyping(fn=<function FunctionThree.from_fn_recursive.<locals>.inner.<locals>.inner.<locals>.inner.<locals>.inner at 0x7f9d20139dc0>, typevars={~V: <class 'metadsl_core.integer.Integer'>, ~U: <class 'metadsl_core.integer.Integer'>, ~T: <class 'metadsl_core.integer.Integer'>, ~X: <class 'metadsl_core.integer.Integer'>}, typevars_in_scope={~X, ~U, ~T, ~V})\")], '-1871549933198336040': ['32', CallNode(function='Abstraction.from_fn', type_params=None, args=['-8691308168488607368'], kwargs=None)], '-1048428597774428697': ['28', CallNode(function='Abstraction.create', type_params={'U': DeclaredTypeInstance(type='Abstraction', params={'U': DeclaredTypeInstance(type='Integer', params=None), 'T': DeclaredTypeInstance(type='Integer', params=None)}), 'T': DeclaredTypeInstance(type='Integer', params=None)}, args=['-3589837022479227720', '-1871549933198336040'], kwargs=None)], '6535478457114596942': ['24', CallNode(function='Abstraction.create', type_params={'U': DeclaredTypeInstance(type='Abstraction', params={'U': DeclaredTypeInstance(type='Abstraction', params={'U': DeclaredTypeInstance(type='Integer', params=None), 'T': DeclaredTypeInstance(type='Integer', params=None)}), 'T': DeclaredTypeInstance(type='Integer', params=None)}), 'T': DeclaredTypeInstance(type='Integer', params=None)}, args=['-563377217010615496', '-1048428597774428697'], kwargs=None)], '-284286813617894553': ['19', CallNode(function='Abstraction.create', type_params={'U': DeclaredTypeInstance(type='Abstraction', params={'U': DeclaredTypeInstance(type='Abstraction', params={'U': DeclaredTypeInstance(type='Abstraction', params={'U': DeclaredTypeInstance(type='Integer', params=None), 'T': DeclaredTypeInstance(type='Integer', params=None)}), 'T': DeclaredTypeInstance(type='Integer', params=None)}), 'T': DeclaredTypeInstance(type='Integer', params=None)}), 'T': DeclaredTypeInstance(type='Abstraction', params={'U': DeclaredTypeInstance(type='Abstraction', params={'U': DeclaredTypeInstance(type='Abstraction', params={'U': DeclaredTypeInstance(type='Integer', params=None), 'T': DeclaredTypeInstance(type='Integer', params=None)}), 'T': DeclaredTypeInstance(type='Integer', params=None)}), 'T': DeclaredTypeInstance(type='Integer', params=None)})}, args=['-3289004802403072970', '6535478457114596942'], kwargs=None)], '9178047548150501327': ['20', CallNode(function='Abstraction.fix', type_params=None, args=['-284286813617894553'], kwargs=None)], '5954704016758937557': ['11', CallNode(function='FunctionThree.create', type_params={'X': DeclaredTypeInstance(type='Integer', params=None), 'V': DeclaredTypeInstance(type='Integer', params=None), 'U': DeclaredTypeInstance(type='Integer', params=None), 'T': DeclaredTypeInstance(type='Integer', params=None)}, args=['4300501360281088643', '9178047548150501327'], kwargs=None)], '-6266959341674942504': ['16', CallNode(function='FunctionThree.__call__', type_params={'X': DeclaredTypeInstance(type='Integer', params=None), 'V': DeclaredTypeInstance(type='Integer', params=None), 'U': DeclaredTypeInstance(type='Integer', params=None), 'T': DeclaredTypeInstance(type='Integer', params=None)}, args=['5954704016758937557', '3892200530871370918', '6580081994755491934', '-2709874245198447753'], kwargs=None)], '-4263424021073717677': ['7', CallNode(function='Abstraction.create', type_params={'U': DeclaredTypeInstance(type='Integer', params=None), 'T': DeclaredTypeInstance(type='Integer', params=None)}, args=['3892200530871370918', '-6266959341674942504'], kwargs=None)], '-5328945945578944828': ['1', CallNode(function='FunctionOne.create', type_params={'U': DeclaredTypeInstance(type='Integer', params=None), 'T': DeclaredTypeInstance(type='Integer', params=None)}, args=['3915031954868405795', '-4263424021073717677'], kwargs=None)], '-865291455889119885': ['4', CallNode(function='FunctionOne.__call__', type_params={'U': DeclaredTypeInstance(type='Integer', params=None), 'T': DeclaredTypeInstance(type='Integer', params=None)}, args=['-5328945945578944828', '3628454707746313761'], kwargs=None)], '2991345566808093351': ['2105', PrimitiveNode(type='Variable', repr='140312823978544')], '-5424093814210459874': ['2106', CallNode(function='Abstraction.create_variable', type_params={'U': DeclaredTypeInstance(type='Integer', params=None), 'T': DeclaredTypeInstance(type='Integer', params=None)}, args=['2991345566808093351'], kwargs=None)], '-8766775242920447901': ['2107', CallNode(function='Integer.__gt__', type_params=None, args=['-563377217010615496', '-2709874245198447753'], kwargs=None)], '5470830568851367095': ['196', CallNode(function='FunctionThree.create', type_params={'X': DeclaredTypeInstance(type='Integer', params=None), 'V': DeclaredTypeInstance(type='Integer', params=None), 'U': DeclaredTypeInstance(type='Integer', params=None), 'T': DeclaredTypeInstance(type='Integer', params=None)}, args=['4300501360281088643', '-3289004802403072970'], kwargs=None)], '6317467995547306266': ['2108', CallNode(function='Integer.__sub__', type_params=None, args=['-563377217010615496', '-2709874245198447753'], kwargs=None)], '-7176269575796675394': ['2111', CallNode(function='Integer.__add__', type_params=None, args=['-3589837022479227720', '-5424093814210459874'], kwargs=None)], '-3605381955466694230': ['187', CallNode(function='FunctionThree.__call__', type_params={'X': DeclaredTypeInstance(type='Integer', params=None), 'V': DeclaredTypeInstance(type='Integer', params=None), 'U': DeclaredTypeInstance(type='Integer', params=None), 'T': DeclaredTypeInstance(type='Integer', params=None)}, args=['5470830568851367095', '6317467995547306266', '-5424093814210459874', '-7176269575796675394'], kwargs=None)], '-118913016772685314': ['2113', CallNode(function='Integer.eq', type_params=None, args=['-563377217010615496', '-2709874245198447753'], kwargs=None)], '-2497883094049221244': ['2114', CallNode(function='Boolean.if_', type_params=None, args=['-118913016772685314', '-5424093814210459874', '-3589837022479227720'], kwargs=None)], '-8397591086290459920': ['190', CallNode(function='Boolean.if_', type_params=None, args=['-8766775242920447901', '-3605381955466694230', '-2497883094049221244'], kwargs=None)], '-2730473268501935680': ['191', CallNode(function='Abstraction.create', type_params={'U': DeclaredTypeInstance(type='Integer', params=None), 'T': DeclaredTypeInstance(type='Integer', params=None)}, args=['-5424093814210459874', '-8397591086290459920'], kwargs=None)], '-398755679372278487': ['192', CallNode(function='Abstraction.create', type_params={'U': DeclaredTypeInstance(type='Abstraction', params={'U': DeclaredTypeInstance(type='Integer', params=None), 'T': DeclaredTypeInstance(type='Integer', params=None)}), 'T': DeclaredTypeInstance(type='Integer', params=None)}, args=['-3589837022479227720', '-2730473268501935680'], kwargs=None)], '5575030305646944715': ['193', CallNode(function='Abstraction.create', type_params={'U': DeclaredTypeInstance(type='Abstraction', params={'U': DeclaredTypeInstance(type='Abstraction', params={'U': DeclaredTypeInstance(type='Integer', params=None), 'T': DeclaredTypeInstance(type='Integer', params=None)}), 'T': DeclaredTypeInstance(type='Integer', params=None)}), 'T': DeclaredTypeInstance(type='Integer', params=None)}, args=['-563377217010615496', '-398755679372278487'], kwargs=None)], '-1825982190921569454': ['194', CallNode(function='Abstraction.create', type_params={'U': DeclaredTypeInstance(type='Abstraction', params={'U': DeclaredTypeInstance(type='Abstraction', params={'U': DeclaredTypeInstance(type='Abstraction', params={'U': DeclaredTypeInstance(type='Integer', params=None), 'T': DeclaredTypeInstance(type='Integer', params=None)}), 'T': DeclaredTypeInstance(type='Integer', params=None)}), 'T': DeclaredTypeInstance(type='Integer', params=None)}), 'T': DeclaredTypeInstance(type='Abstraction', params={'U': DeclaredTypeInstance(type='Abstraction', params={'U': DeclaredTypeInstance(type='Abstraction', params={'U': DeclaredTypeInstance(type='Integer', params=None), 'T': DeclaredTypeInstance(type='Integer', params=None)}), 'T': DeclaredTypeInstance(type='Integer', params=None)}), 'T': DeclaredTypeInstance(type='Integer', params=None)})}, args=['-3289004802403072970', '5575030305646944715'], kwargs=None)], '8393830299880851933': ['165', CallNode(function='Abstraction.fix', type_params=None, args=['-1825982190921569454'], kwargs=None)], '2356343141563630304': ['164', CallNode(function='FunctionThree.create', type_params={'X': DeclaredTypeInstance(type='Integer', params=None), 'V': DeclaredTypeInstance(type='Integer', params=None), 'U': DeclaredTypeInstance(type='Integer', params=None), 'T': DeclaredTypeInstance(type='Integer', params=None)}, args=['4300501360281088643', '8393830299880851933'], kwargs=None)], '-7489683487152689717': ['110', CallNode(function='FunctionThree.__call__', type_params={'X': DeclaredTypeInstance(type='Integer', params=None), 'V': DeclaredTypeInstance(type='Integer', params=None), 'U': DeclaredTypeInstance(type='Integer', params=None), 'T': DeclaredTypeInstance(type='Integer', params=None)}, args=['2356343141563630304', '3892200530871370918', '6580081994755491934', '-2709874245198447753'], kwargs=None)], '5054163699745386801': ['78', CallNode(function='Abstraction.create', type_params={'U': DeclaredTypeInstance(type='Integer', params=None), 'T': DeclaredTypeInstance(type='Integer', params=None)}, args=['3892200530871370918', '-7489683487152689717'], kwargs=None)], '1215757028544788913': ['77', CallNode(function='FunctionOne.create', type_params={'U': DeclaredTypeInstance(type='Integer', params=None), 'T': DeclaredTypeInstance(type='Integer', params=None)}, args=['3915031954868405795', '5054163699745386801'], kwargs=None)], '-4248657993478939615': ['4', CallNode(function='FunctionOne.__call__', type_params={'U': DeclaredTypeInstance(type='Integer', params=None), 'T': DeclaredTypeInstance(type='Integer', params=None)}, args=['1215757028544788913', '3628454707746313761'], kwargs=None)], '-4603566548769018509': ['78', CallNode(function='FunctionOne.abstraction', type_params={'U': DeclaredTypeInstance(type='Integer', params=None), 'T': DeclaredTypeInstance(type='Integer', params=None)}, args=['1215757028544788913'], kwargs=None)], '2800981292409365690': ['4', CallNode(function='Abstraction.__call__', type_params={'U': DeclaredTypeInstance(type='Integer', params=None), 'T': DeclaredTypeInstance(type='Integer', params=None)}, args=['-4603566548769018509', '3628454707746313761'], kwargs=None)], '6492553153751709342': ['4', CallNode(function='Abstraction.__call__', type_params={'U': DeclaredTypeInstance(type='Integer', params=None), 'T': DeclaredTypeInstance(type='Integer', params=None)}, args=['5054163699745386801', '3628454707746313761'], kwargs=None)], '4320991441086938097': ['4', CallNode(function='FunctionThree.__call__', type_params={'X': DeclaredTypeInstance(type='Integer', params=None), 'V': DeclaredTypeInstance(type='Integer', params=None), 'U': DeclaredTypeInstance(type='Integer', params=None), 'T': DeclaredTypeInstance(type='Integer', params=None)}, args=['2356343141563630304', '3628454707746313761', '6580081994755491934', '-2709874245198447753'], kwargs=None)], '1666878387156743624': ['165', CallNode(function='FunctionThree.abstraction', type_params={'X': DeclaredTypeInstance(type='Integer', params=None), 'V': DeclaredTypeInstance(type='Integer', params=None), 'U': DeclaredTypeInstance(type='Integer', params=None), 'T': DeclaredTypeInstance(type='Integer', params=None)}, args=['2356343141563630304'], kwargs=None)], '-1606951645429246815': ['168', CallNode(function='Abstraction.__call__', type_params={'U': DeclaredTypeInstance(type='Abstraction', params={'U': DeclaredTypeInstance(type='Abstraction', params={'U': DeclaredTypeInstance(type='Integer', params=None), 'T': DeclaredTypeInstance(type='Integer', params=None)}), 'T': DeclaredTypeInstance(type='Integer', params=None)}), 'T': DeclaredTypeInstance(type='Integer', params=None)}, args=['1666878387156743624', '3628454707746313761'], kwargs=None)], '8714447789958714673': ['171', CallNode(function='Abstraction.__call__', type_params={'U': DeclaredTypeInstance(type='Abstraction', params={'U': DeclaredTypeInstance(type='Integer', params=None), 'T': DeclaredTypeInstance(type='Integer', params=None)}), 'T': DeclaredTypeInstance(type='Integer', params=None)}, args=['-1606951645429246815', '6580081994755491934'], kwargs=None)], '5913560727312155284': ['4', CallNode(function='Abstraction.__call__', type_params={'U': DeclaredTypeInstance(type='Integer', params=None), 'T': DeclaredTypeInstance(type='Integer', params=None)}, args=['8714447789958714673', '-2709874245198447753'], kwargs=None)], '-677639204195813609': ['168', CallNode(function='Abstraction.__call__', type_params={'U': DeclaredTypeInstance(type='Abstraction', params={'U': DeclaredTypeInstance(type='Abstraction', params={'U': DeclaredTypeInstance(type='Integer', params=None), 'T': DeclaredTypeInstance(type='Integer', params=None)}), 'T': DeclaredTypeInstance(type='Integer', params=None)}), 'T': DeclaredTypeInstance(type='Integer', params=None)}, args=['8393830299880851933', '3628454707746313761'], kwargs=None)], '1687539621587232626': ['171', CallNode(function='Abstraction.__call__', type_params={'U': DeclaredTypeInstance(type='Abstraction', params={'U': DeclaredTypeInstance(type='Integer', params=None), 'T': DeclaredTypeInstance(type='Integer', params=None)}), 'T': DeclaredTypeInstance(type='Integer', params=None)}, args=['-677639204195813609', '6580081994755491934'], kwargs=None)], '6974755384524982580': ['4', CallNode(function='Abstraction.__call__', type_params={'U': DeclaredTypeInstance(type='Integer', params=None), 'T': DeclaredTypeInstance(type='Integer', params=None)}, args=['1687539621587232626', '-2709874245198447753'], kwargs=None)], '-4621811426348936109': ['197', CallNode(function='FunctionThree.abstraction', type_params={'X': DeclaredTypeInstance(type='Integer', params=None), 'V': DeclaredTypeInstance(type='Integer', params=None), 'U': DeclaredTypeInstance(type='Integer', params=None), 'T': DeclaredTypeInstance(type='Integer', params=None)}, args=['5470830568851367095'], kwargs=None)], '5798502730422820175': ['199', CallNode(function='Abstraction.__call__', type_params={'U': DeclaredTypeInstance(type='Abstraction', params={'U': DeclaredTypeInstance(type='Abstraction', params={'U': DeclaredTypeInstance(type='Integer', params=None), 'T': DeclaredTypeInstance(type='Integer', params=None)}), 'T': DeclaredTypeInstance(type='Integer', params=None)}), 'T': DeclaredTypeInstance(type='Integer', params=None)}, args=['-4621811426348936109', '6317467995547306266'], kwargs=None)], '-135815448769694513': ['200', CallNode(function='Abstraction.__call__', type_params={'U': DeclaredTypeInstance(type='Abstraction', params={'U': DeclaredTypeInstance(type='Integer', params=None), 'T': DeclaredTypeInstance(type='Integer', params=None)}), 'T': DeclaredTypeInstance(type='Integer', params=None)}, args=['5798502730422820175', '-5424093814210459874'], kwargs=None)], '-8612240532703901736': ['187', CallNode(function='Abstraction.__call__', type_params={'U': DeclaredTypeInstance(type='Integer', params=None), 'T': DeclaredTypeInstance(type='Integer', params=None)}, args=['-135815448769694513', '-7176269575796675394'], kwargs=None)], '-1831047008422226736': ['190', CallNode(function='Boolean.if_', type_params=None, args=['-8766775242920447901', '-8612240532703901736', '-2497883094049221244'], kwargs=None)], '8720557168467688035': ['191', CallNode(function='Abstraction.create', type_params={'U': DeclaredTypeInstance(type='Integer', params=None), 'T': DeclaredTypeInstance(type='Integer', params=None)}, args=['-5424093814210459874', '-1831047008422226736'], kwargs=None)], '-2485221969522258452': ['192', CallNode(function='Abstraction.create', type_params={'U': DeclaredTypeInstance(type='Abstraction', params={'U': DeclaredTypeInstance(type='Integer', params=None), 'T': DeclaredTypeInstance(type='Integer', params=None)}), 'T': DeclaredTypeInstance(type='Integer', params=None)}, args=['-3589837022479227720', '8720557168467688035'], kwargs=None)], '5970312659489861404': ['193', CallNode(function='Abstraction.create', type_params={'U': DeclaredTypeInstance(type='Abstraction', params={'U': DeclaredTypeInstance(type='Abstraction', params={'U': DeclaredTypeInstance(type='Integer', params=None), 'T': DeclaredTypeInstance(type='Integer', params=None)}), 'T': DeclaredTypeInstance(type='Integer', params=None)}), 'T': DeclaredTypeInstance(type='Integer', params=None)}, args=['-563377217010615496', '-2485221969522258452'], kwargs=None)], '-7371075420937989069': ['194', CallNode(function='Abstraction.create', type_params={'U': DeclaredTypeInstance(type='Abstraction', params={'U': DeclaredTypeInstance(type='Abstraction', params={'U': DeclaredTypeInstance(type='Abstraction', params={'U': DeclaredTypeInstance(type='Integer', params=None), 'T': DeclaredTypeInstance(type='Integer', params=None)}), 'T': DeclaredTypeInstance(type='Integer', params=None)}), 'T': DeclaredTypeInstance(type='Integer', params=None)}), 'T': DeclaredTypeInstance(type='Abstraction', params={'U': DeclaredTypeInstance(type='Abstraction', params={'U': DeclaredTypeInstance(type='Abstraction', params={'U': DeclaredTypeInstance(type='Integer', params=None), 'T': DeclaredTypeInstance(type='Integer', params=None)}), 'T': DeclaredTypeInstance(type='Integer', params=None)}), 'T': DeclaredTypeInstance(type='Integer', params=None)})}, args=['-3289004802403072970', '5970312659489861404'], kwargs=None)], '3625964966240067889': ['165', CallNode(function='Abstraction.fix', type_params=None, args=['-7371075420937989069'], kwargs=None)], '-4802058597312459895': ['168', CallNode(function='Abstraction.__call__', type_params={'U': DeclaredTypeInstance(type='Abstraction', params={'U': DeclaredTypeInstance(type='Abstraction', params={'U': DeclaredTypeInstance(type='Integer', params=None), 'T': DeclaredTypeInstance(type='Integer', params=None)}), 'T': DeclaredTypeInstance(type='Integer', params=None)}), 'T': DeclaredTypeInstance(type='Integer', params=None)}, args=['3625964966240067889', '3628454707746313761'], kwargs=None)], '-5772030897618842459': ['171', CallNode(function='Abstraction.__call__', type_params={'U': DeclaredTypeInstance(type='Abstraction', params={'U': DeclaredTypeInstance(type='Integer', params=None), 'T': DeclaredTypeInstance(type='Integer', params=None)}), 'T': DeclaredTypeInstance(type='Integer', params=None)}, args=['-4802058597312459895', '6580081994755491934'], kwargs=None)], '-7279802344150205896': ['4', CallNode(function='Abstraction.__call__', type_params={'U': DeclaredTypeInstance(type='Integer', params=None), 'T': DeclaredTypeInstance(type='Integer', params=None)}, args=['-5772030897618842459', '-2709874245198447753'], kwargs=None)], '-8960277140670130418': ['2109', CallNode(function='Abstraction.__call__', type_params={'U': DeclaredTypeInstance(type='Abstraction', params={'U': DeclaredTypeInstance(type='Abstraction', params={'U': DeclaredTypeInstance(type='Integer', params=None), 'T': DeclaredTypeInstance(type='Integer', params=None)}), 'T': DeclaredTypeInstance(type='Integer', params=None)}), 'T': DeclaredTypeInstance(type='Integer', params=None)}, args=['-3289004802403072970', '6317467995547306266'], kwargs=None)], '2843241746330549358': ['2110', CallNode(function='Abstraction.__call__', type_params={'U': DeclaredTypeInstance(type='Abstraction', params={'U': DeclaredTypeInstance(type='Integer', params=None), 'T': DeclaredTypeInstance(type='Integer', params=None)}), 'T': DeclaredTypeInstance(type='Integer', params=None)}, args=['-8960277140670130418', '-5424093814210459874'], kwargs=None)], '-5238232715310481233': ['2112', CallNode(function='Abstraction.__call__', type_params={'U': DeclaredTypeInstance(type='Integer', params=None), 'T': DeclaredTypeInstance(type='Integer', params=None)}, args=['2843241746330549358', '-7176269575796675394'], kwargs=None)], '-6692727781690316274': ['2115', CallNode(function='Boolean.if_', type_params=None, args=['-8766775242920447901', '-5238232715310481233', '-2497883094049221244'], kwargs=None)], '-3082198421568291035': ['2116', CallNode(function='Abstraction.create', type_params={'U': DeclaredTypeInstance(type='Integer', params=None), 'T': DeclaredTypeInstance(type='Integer', params=None)}, args=['-5424093814210459874', '-6692727781690316274'], kwargs=None)], '364302868788163682': ['2117', CallNode(function='Abstraction.create', type_params={'U': DeclaredTypeInstance(type='Abstraction', params={'U': DeclaredTypeInstance(type='Integer', params=None), 'T': DeclaredTypeInstance(type='Integer', params=None)}), 'T': DeclaredTypeInstance(type='Integer', params=None)}, args=['-3589837022479227720', '-3082198421568291035'], kwargs=None)], '9031262841023282274': ['2118', CallNode(function='Abstraction.create', type_params={'U': DeclaredTypeInstance(type='Abstraction', params={'U': DeclaredTypeInstance(type='Abstraction', params={'U': DeclaredTypeInstance(type='Integer', params=None), 'T': DeclaredTypeInstance(type='Integer', params=None)}), 'T': DeclaredTypeInstance(type='Integer', params=None)}), 'T': DeclaredTypeInstance(type='Integer', params=None)}, args=['-563377217010615496', '364302868788163682'], kwargs=None)], '360747163981649829': ['2119', CallNode(function='Abstraction.create', type_params={'U': DeclaredTypeInstance(type='Abstraction', params={'U': DeclaredTypeInstance(type='Abstraction', params={'U': DeclaredTypeInstance(type='Abstraction', params={'U': DeclaredTypeInstance(type='Integer', params=None), 'T': DeclaredTypeInstance(type='Integer', params=None)}), 'T': DeclaredTypeInstance(type='Integer', params=None)}), 'T': DeclaredTypeInstance(type='Integer', params=None)}), 'T': DeclaredTypeInstance(type='Abstraction', params={'U': DeclaredTypeInstance(type='Abstraction', params={'U': DeclaredTypeInstance(type='Abstraction', params={'U': DeclaredTypeInstance(type='Integer', params=None), 'T': DeclaredTypeInstance(type='Integer', params=None)}), 'T': DeclaredTypeInstance(type='Integer', params=None)}), 'T': DeclaredTypeInstance(type='Integer', params=None)})}, args=['-3289004802403072970', '9031262841023282274'], kwargs=None)], '-1872445906533970845': ['2120', CallNode(function='Abstraction.fix', type_params=None, args=['360747163981649829'], kwargs=None)], '5466489455536848400': ['168', CallNode(function='Abstraction.__call__', type_params={'U': DeclaredTypeInstance(type='Abstraction', params={'U': DeclaredTypeInstance(type='Abstraction', params={'U': DeclaredTypeInstance(type='Integer', params=None), 'T': DeclaredTypeInstance(type='Integer', params=None)}), 'T': DeclaredTypeInstance(type='Integer', params=None)}), 'T': DeclaredTypeInstance(type='Integer', params=None)}, args=['-1872445906533970845', '3628454707746313761'], kwargs=None)], '3265882338979128529': ['171', CallNode(function='Abstraction.__call__', type_params={'U': DeclaredTypeInstance(type='Abstraction', params={'U': DeclaredTypeInstance(type='Integer', params=None), 'T': DeclaredTypeInstance(type='Integer', params=None)}), 'T': DeclaredTypeInstance(type='Integer', params=None)}, args=['5466489455536848400', '6580081994755491934'], kwargs=None)], '-1873709023749060235': ['4', CallNode(function='Abstraction.__call__', type_params={'U': DeclaredTypeInstance(type='Integer', params=None), 'T': DeclaredTypeInstance(type='Integer', params=None)}, args=['3265882338979128529', '-2709874245198447753'], kwargs=None)], '-6049179160059621010': ['1967', CallNode(function='Abstraction.__call__', type_params={'U': DeclaredTypeInstance(type='Abstraction', params={'U': DeclaredTypeInstance(type='Abstraction', params={'U': DeclaredTypeInstance(type='Abstraction', params={'U': DeclaredTypeInstance(type='Integer', params=None), 'T': DeclaredTypeInstance(type='Integer', params=None)}), 'T': DeclaredTypeInstance(type='Integer', params=None)}), 'T': DeclaredTypeInstance(type='Integer', params=None)}), 'T': DeclaredTypeInstance(type='Abstraction', params={'U': DeclaredTypeInstance(type='Abstraction', params={'U': DeclaredTypeInstance(type='Abstraction', params={'U': DeclaredTypeInstance(type='Integer', params=None), 'T': DeclaredTypeInstance(type='Integer', params=None)}), 'T': DeclaredTypeInstance(type='Integer', params=None)}), 'T': DeclaredTypeInstance(type='Integer', params=None)})}, args=['360747163981649829', '-1872445906533970845'], kwargs=None)], '-816344074074461590': ['168', CallNode(function='Abstraction.__call__', type_params={'U': DeclaredTypeInstance(type='Abstraction', params={'U': DeclaredTypeInstance(type='Abstraction', params={'U': DeclaredTypeInstance(type='Integer', params=None), 'T': DeclaredTypeInstance(type='Integer', params=None)}), 'T': DeclaredTypeInstance(type='Integer', params=None)}), 'T': DeclaredTypeInstance(type='Integer', params=None)}, args=['-6049179160059621010', '3628454707746313761'], kwargs=None)], '3723531455775086945': ['171', CallNode(function='Abstraction.__call__', type_params={'U': DeclaredTypeInstance(type='Abstraction', params={'U': DeclaredTypeInstance(type='Integer', params=None), 'T': DeclaredTypeInstance(type='Integer', params=None)}), 'T': DeclaredTypeInstance(type='Integer', params=None)}, args=['-816344074074461590', '6580081994755491934'], kwargs=None)], '766763064541035971': ['4', CallNode(function='Abstraction.__call__', type_params={'U': DeclaredTypeInstance(type='Integer', params=None), 'T': DeclaredTypeInstance(type='Integer', params=None)}, args=['3723531455775086945', '-2709874245198447753'], kwargs=None)], '-619177610481323867': ['2022', CallNode(function='Abstraction.__call__', type_params={'U': DeclaredTypeInstance(type='Abstraction', params={'U': DeclaredTypeInstance(type='Abstraction', params={'U': DeclaredTypeInstance(type='Integer', params=None), 'T': DeclaredTypeInstance(type='Integer', params=None)}), 'T': DeclaredTypeInstance(type='Integer', params=None)}), 'T': DeclaredTypeInstance(type='Integer', params=None)}, args=['-1872445906533970845', '6317467995547306266'], kwargs=None)], '2302189858237529512': ['2023', CallNode(function='Abstraction.__call__', type_params={'U': DeclaredTypeInstance(type='Abstraction', params={'U': DeclaredTypeInstance(type='Integer', params=None), 'T': DeclaredTypeInstance(type='Integer', params=None)}), 'T': DeclaredTypeInstance(type='Integer', params=None)}, args=['-619177610481323867', '-5424093814210459874'], kwargs=None)], '-5454424971999068766': ['2024', CallNode(function='Abstraction.__call__', type_params={'U': DeclaredTypeInstance(type='Integer', params=None), 'T': DeclaredTypeInstance(type='Integer', params=None)}, args=['2302189858237529512', '-7176269575796675394'], kwargs=None)], '-775324129242212287': ['2025', CallNode(function='Boolean.if_', type_params=None, args=['-8766775242920447901', '-5454424971999068766', '-2497883094049221244'], kwargs=None)], '9050969060911818449': ['2026', CallNode(function='Abstraction.create', type_params={'U': DeclaredTypeInstance(type='Integer', params=None), 'T': DeclaredTypeInstance(type='Integer', params=None)}, args=['-5424093814210459874', '-775324129242212287'], kwargs=None)], '5650165979530640079': ['2027', CallNode(function='Abstraction.create', type_params={'U': DeclaredTypeInstance(type='Abstraction', params={'U': DeclaredTypeInstance(type='Integer', params=None), 'T': DeclaredTypeInstance(type='Integer', params=None)}), 'T': DeclaredTypeInstance(type='Integer', params=None)}, args=['-3589837022479227720', '9050969060911818449'], kwargs=None)], '7192003423984924808': ['1967', CallNode(function='Abstraction.create', type_params={'U': DeclaredTypeInstance(type='Abstraction', params={'U': DeclaredTypeInstance(type='Abstraction', params={'U': DeclaredTypeInstance(type='Integer', params=None), 'T': DeclaredTypeInstance(type='Integer', params=None)}), 'T': DeclaredTypeInstance(type='Integer', params=None)}), 'T': DeclaredTypeInstance(type='Integer', params=None)}, args=['-563377217010615496', '5650165979530640079'], kwargs=None)], '-1027576649297013743': ['168', CallNode(function='Abstraction.__call__', type_params={'U': DeclaredTypeInstance(type='Abstraction', params={'U': DeclaredTypeInstance(type='Abstraction', params={'U': DeclaredTypeInstance(type='Integer', params=None), 'T': DeclaredTypeInstance(type='Integer', params=None)}), 'T': DeclaredTypeInstance(type='Integer', params=None)}), 'T': DeclaredTypeInstance(type='Integer', params=None)}, args=['7192003423984924808', '3628454707746313761'], kwargs=None)], '6729631384754129577': ['171', CallNode(function='Abstraction.__call__', type_params={'U': DeclaredTypeInstance(type='Abstraction', params={'U': DeclaredTypeInstance(type='Integer', params=None), 'T': DeclaredTypeInstance(type='Integer', params=None)}), 'T': DeclaredTypeInstance(type='Integer', params=None)}, args=['-1027576649297013743', '6580081994755491934'], kwargs=None)], '72316527550074912': ['4', CallNode(function='Abstraction.__call__', type_params={'U': DeclaredTypeInstance(type='Integer', params=None), 'T': DeclaredTypeInstance(type='Integer', params=None)}, args=['6729631384754129577', '-2709874245198447753'], kwargs=None)], '-6822660633696501701': ['332', CallNode(function='Integer.__gt__', type_params=None, args=['3628454707746313761', '-2709874245198447753'], kwargs=None)], '9104402431856661258': ['355', CallNode(function='Integer.__sub__', type_params=None, args=['3628454707746313761', '-2709874245198447753'], kwargs=None)], '-3261251303804982457': ['356', CallNode(function='Abstraction.__call__', type_params={'U': DeclaredTypeInstance(type='Abstraction', params={'U': DeclaredTypeInstance(type='Abstraction', params={'U': DeclaredTypeInstance(type='Integer', params=None), 'T': DeclaredTypeInstance(type='Integer', params=None)}), 'T': DeclaredTypeInstance(type='Integer', params=None)}), 'T': DeclaredTypeInstance(type='Integer', params=None)}, args=['-1872445906533970845', '9104402431856661258'], kwargs=None)], '9032197605936594841': ['320', CallNode(function='Abstraction.__call__', type_params={'U': DeclaredTypeInstance(type='Abstraction', params={'U': DeclaredTypeInstance(type='Integer', params=None), 'T': DeclaredTypeInstance(type='Integer', params=None)}), 'T': DeclaredTypeInstance(type='Integer', params=None)}, args=['-3261251303804982457', '-5424093814210459874'], kwargs=None)], '8326747017172199610': ['286', CallNode(function='Abstraction.__call__', type_params={'U': DeclaredTypeInstance(type='Integer', params=None), 'T': DeclaredTypeInstance(type='Integer', params=None)}, args=['9032197605936594841', '-7176269575796675394'], kwargs=None)], '8398596617344492380': ['362', CallNode(function='Integer.eq', type_params=None, args=['3628454707746313761', '-2709874245198447753'], kwargs=None)], '-1985850948699187428': ['288', CallNode(function='Boolean.if_', type_params=None, args=['8398596617344492380', '-5424093814210459874', '-3589837022479227720'], kwargs=None)], '4761102405184900263': ['289', CallNode(function='Boolean.if_', type_params=None, args=['-6822660633696501701', '8326747017172199610', '-1985850948699187428'], kwargs=None)], '-3516607987589489624': ['290', CallNode(function='Abstraction.create', type_params={'U': DeclaredTypeInstance(type='Integer', params=None), 'T': DeclaredTypeInstance(type='Integer', params=None)}, args=['-5424093814210459874', '4761102405184900263'], kwargs=None)], '-4743301939271025088': ['168', CallNode(function='Abstraction.create', type_params={'U': DeclaredTypeInstance(type='Abstraction', params={'U': DeclaredTypeInstance(type='Integer', params=None), 'T': DeclaredTypeInstance(type='Integer', params=None)}), 'T': DeclaredTypeInstance(type='Integer', params=None)}, args=['-3589837022479227720', '-3516607987589489624'], kwargs=None)], '-3924738252847071971': ['171', CallNode(function='Abstraction.__call__', type_params={'U': DeclaredTypeInstance(type='Abstraction', params={'U': DeclaredTypeInstance(type='Integer', params=None), 'T': DeclaredTypeInstance(type='Integer', params=None)}), 'T': DeclaredTypeInstance(type='Integer', params=None)}, args=['-4743301939271025088', '6580081994755491934'], kwargs=None)], '-1731646924518211845': ['4', CallNode(function='Abstraction.__call__', type_params={'U': DeclaredTypeInstance(type='Integer', params=None), 'T': DeclaredTypeInstance(type='Integer', params=None)}, args=['-3924738252847071971', '-2709874245198447753'], kwargs=None)], '5805004686103572975': ['323', CallNode(function='Integer.__add__', type_params=None, args=['6580081994755491934', '-5424093814210459874'], kwargs=None)], '1240349183033472387': ['324', CallNode(function='Abstraction.__call__', type_params={'U': DeclaredTypeInstance(type='Integer', params=None), 'T': DeclaredTypeInstance(type='Integer', params=None)}, args=['9032197605936594841', '5805004686103572975'], kwargs=None)], '2499599552372237324': ['326', CallNode(function='Boolean.if_', type_params=None, args=['8398596617344492380', '-5424093814210459874', '6580081994755491934'], kwargs=None)], '-1637222315687401071': ['327', CallNode(function='Boolean.if_', type_params=None, args=['-6822660633696501701', '1240349183033472387', '2499599552372237324'], kwargs=None)], '-4581475611219551891': ['171', CallNode(function='Abstraction.create', type_params={'U': DeclaredTypeInstance(type='Integer', params=None), 'T': DeclaredTypeInstance(type='Integer', params=None)}, args=['-5424093814210459874', '-1637222315687401071'], kwargs=None)], '-6660993338273451131': ['4', CallNode(function='Abstraction.__call__', type_params={'U': DeclaredTypeInstance(type='Integer', params=None), 'T': DeclaredTypeInstance(type='Integer', params=None)}, args=['-4581475611219551891', '-2709874245198447753'], kwargs=None)], '5131478415594153585': ['357', CallNode(function='Abstraction.__call__', type_params={'U': DeclaredTypeInstance(type='Abstraction', params={'U': DeclaredTypeInstance(type='Integer', params=None), 'T': DeclaredTypeInstance(type='Integer', params=None)}), 'T': DeclaredTypeInstance(type='Integer', params=None)}, args=['-3261251303804982457', '-2709874245198447753'], kwargs=None)], '1904285495761131719': ['360', CallNode(function='Integer.__add__', type_params=None, args=['6580081994755491934', '-2709874245198447753'], kwargs=None)], '-902927629878696283': ['361', CallNode(function='Abstraction.__call__', type_params={'U': DeclaredTypeInstance(type='Integer', params=None), 'T': DeclaredTypeInstance(type='Integer', params=None)}, args=['5131478415594153585', '1904285495761131719'], kwargs=None)], '6776467062913655930': ['363', CallNode(function='Boolean.if_', type_params=None, args=['8398596617344492380', '-2709874245198447753', '6580081994755491934'], kwargs=None)], '5984156524768825597': ['4', CallNode(function='Boolean.if_', type_params=None, args=['-6822660633696501701', '-902927629878696283', '6776467062913655930'], kwargs=None)], '-397534483580518368': ['2135', PrimitiveNode(type='bool', repr='False')], '1430599728253316827': ['2098', CallNode(function='Boolean.create', type_params=None, args=['-397534483580518368'], kwargs=None)], '-30318007180538727': ['363', CallNode(function='Boolean.if_', type_params=None, args=['1430599728253316827', '-2709874245198447753', '6580081994755491934'], kwargs=None)], '8716868309357169118': ['4', CallNode(function='Boolean.if_', type_params=None, args=['-6822660633696501701', '-902927629878696283', '-30318007180538727'], kwargs=None)], '-238751702912413220': ['4', CallNode(function='Boolean.if_', type_params=None, args=['-6822660633696501701', '-902927629878696283', '6580081994755491934'], kwargs=None)], '6407069320809385596': ['361', CallNode(function='Abstraction.__call__', type_params={'U': DeclaredTypeInstance(type='Integer', params=None), 'T': DeclaredTypeInstance(type='Integer', params=None)}, args=['5131478415594153585', '-2709874245198447753'], kwargs=None)], '7366277601725970430': ['4', CallNode(function='Boolean.if_', type_params=None, args=['-6822660633696501701', '6407069320809385596', '6580081994755491934'], kwargs=None)], '-4421572051485566355': ['519', PrimitiveNode(type='int', repr='9')], '5841772961555278415': ['520', CallNode(function='Integer.from_int', type_params=None, args=['-4421572051485566355'], kwargs=None)], '479415460796510498': ['393', CallNode(function='Abstraction.__call__', type_params={'U': DeclaredTypeInstance(type='Abstraction', params={'U': DeclaredTypeInstance(type='Abstraction', params={'U': DeclaredTypeInstance(type='Integer', params=None), 'T': DeclaredTypeInstance(type='Integer', params=None)}), 'T': DeclaredTypeInstance(type='Integer', params=None)}), 'T': DeclaredTypeInstance(type='Integer', params=None)}, args=['-1872445906533970845', '5841772961555278415'], kwargs=None)], '585941779082312606': ['394', CallNode(function='Abstraction.__call__', type_params={'U': DeclaredTypeInstance(type='Abstraction', params={'U': DeclaredTypeInstance(type='Integer', params=None), 'T': DeclaredTypeInstance(type='Integer', params=None)}), 'T': DeclaredTypeInstance(type='Integer', params=None)}, args=['479415460796510498', '-2709874245198447753'], kwargs=None)], '2890535126162293660': ['4', CallNode(function='Abstraction.__call__', type_params={'U': DeclaredTypeInstance(type='Integer', params=None), 'T': DeclaredTypeInstance(type='Integer', params=None)}, args=['585941779082312606', '-2709874245198447753'], kwargs=None)], '2748378576463741368': ['4', CallNode(function='Boolean.if_', type_params=None, args=['-6822660633696501701', '2890535126162293660', '6580081994755491934'], kwargs=None)], '1711748889537111929': ['2132', PrimitiveNode(type='bool', repr='True')], '-7694504097016980406': ['2130', CallNode(function='Boolean.create', type_params=None, args=['1711748889537111929'], kwargs=None)], '4843421004752968499': ['4', CallNode(function='Boolean.if_', type_params=None, args=['-7694504097016980406', '2890535126162293660', '6580081994755491934'], kwargs=None)], '6242385410862992821': ['393', CallNode(function='Abstraction.__call__', type_params={'U': DeclaredTypeInstance(type='Abstraction', params={'U': DeclaredTypeInstance(type='Abstraction', params={'U': DeclaredTypeInstance(type='Integer', params=None), 'T': DeclaredTypeInstance(type='Integer', params=None)}), 'T': DeclaredTypeInstance(type='Integer', params=None)}), 'T': DeclaredTypeInstance(type='Integer', params=None)}, args=['-6049179160059621010', '5841772961555278415'], kwargs=None)], '2533979562193044828': ['394', CallNode(function='Abstraction.__call__', type_params={'U': DeclaredTypeInstance(type='Abstraction', params={'U': DeclaredTypeInstance(type='Integer', params=None), 'T': DeclaredTypeInstance(type='Integer', params=None)}), 'T': DeclaredTypeInstance(type='Integer', params=None)}, args=['6242385410862992821', '-2709874245198447753'], kwargs=None)], '2091202744266988099': ['4', CallNode(function='Abstraction.__call__', type_params={'U': DeclaredTypeInstance(type='Integer', params=None), 'T': DeclaredTypeInstance(type='Integer', params=None)}, args=['2533979562193044828', '-2709874245198447753'], kwargs=None)], '-4682432829213897071': ['393', CallNode(function='Abstraction.__call__', type_params={'U': DeclaredTypeInstance(type='Abstraction', params={'U': DeclaredTypeInstance(type='Abstraction', params={'U': DeclaredTypeInstance(type='Integer', params=None), 'T': DeclaredTypeInstance(type='Integer', params=None)}), 'T': DeclaredTypeInstance(type='Integer', params=None)}), 'T': DeclaredTypeInstance(type='Integer', params=None)}, args=['7192003423984924808', '5841772961555278415'], kwargs=None)], '7300308628266439123': ['394', CallNode(function='Abstraction.__call__', type_params={'U': DeclaredTypeInstance(type='Abstraction', params={'U': DeclaredTypeInstance(type='Integer', params=None), 'T': DeclaredTypeInstance(type='Integer', params=None)}), 'T': DeclaredTypeInstance(type='Integer', params=None)}, args=['-4682432829213897071', '-2709874245198447753'], kwargs=None)], '2995125188501239945': ['4', CallNode(function='Abstraction.__call__', type_params={'U': DeclaredTypeInstance(type='Integer', params=None), 'T': DeclaredTypeInstance(type='Integer', params=None)}, args=['7300308628266439123', '-2709874245198447753'], kwargs=None)], '-5891180103021637001': ['523', CallNode(function='Integer.__gt__', type_params=None, args=['5841772961555278415', '-2709874245198447753'], kwargs=None)], '3033525560441199295': ['546', CallNode(function='Integer.__sub__', type_params=None, args=['5841772961555278415', '-2709874245198447753'], kwargs=None)], '1761887883783554750': ['547', CallNode(function='Abstraction.__call__', type_params={'U': DeclaredTypeInstance(type='Abstraction', params={'U': DeclaredTypeInstance(type='Abstraction', params={'U': DeclaredTypeInstance(type='Integer', params=None), 'T': DeclaredTypeInstance(type='Integer', params=None)}), 'T': DeclaredTypeInstance(type='Integer', params=None)}), 'T': DeclaredTypeInstance(type='Integer', params=None)}, args=['-1872445906533970845', '3033525560441199295'], kwargs=None)], '3298425249558555854': ['513', CallNode(function='Abstraction.__call__', type_params={'U': DeclaredTypeInstance(type='Abstraction', params={'U': DeclaredTypeInstance(type='Integer', params=None), 'T': DeclaredTypeInstance(type='Integer', params=None)}), 'T': DeclaredTypeInstance(type='Integer', params=None)}, args=['1761887883783554750', '-5424093814210459874'], kwargs=None)], '6652771712578758954': ['479', CallNode(function='Abstraction.__call__', type_params={'U': DeclaredTypeInstance(type='Integer', params=None), 'T': DeclaredTypeInstance(type='Integer', params=None)}, args=['3298425249558555854', '-7176269575796675394'], kwargs=None)], '-2070637637055337711': ['551', CallNode(function='Integer.eq', type_params=None, args=['5841772961555278415', '-2709874245198447753'], kwargs=None)], '-7450369050644197011': ['481', CallNode(function='Boolean.if_', type_params=None, args=['-2070637637055337711', '-5424093814210459874', '-3589837022479227720'], kwargs=None)], '3596605001098433744': ['482', CallNode(function='Boolean.if_', type_params=None, args=['-5891180103021637001', '6652771712578758954', '-7450369050644197011'], kwargs=None)], '-4201266939211086306': ['483', CallNode(function='Abstraction.create', type_params={'U': DeclaredTypeInstance(type='Integer', params=None), 'T': DeclaredTypeInstance(type='Integer', params=None)}, args=['-5424093814210459874', '3596605001098433744'], kwargs=None)], '6717702015561652472': ['393', CallNode(function='Abstraction.create', type_params={'U': DeclaredTypeInstance(type='Abstraction', params={'U': DeclaredTypeInstance(type='Integer', params=None), 'T': DeclaredTypeInstance(type='Integer', params=None)}), 'T': DeclaredTypeInstance(type='Integer', params=None)}, args=['-3589837022479227720', '-4201266939211086306'], kwargs=None)], '-7767012653730305004': ['394', CallNode(function='Abstraction.__call__', type_params={'U': DeclaredTypeInstance(type='Abstraction', params={'U': DeclaredTypeInstance(type='Integer', params=None), 'T': DeclaredTypeInstance(type='Integer', params=None)}), 'T': DeclaredTypeInstance(type='Integer', params=None)}, args=['6717702015561652472', '-2709874245198447753'], kwargs=None)], '823300324139511791': ['4', CallNode(function='Abstraction.__call__', type_params={'U': DeclaredTypeInstance(type='Integer', params=None), 'T': DeclaredTypeInstance(type='Integer', params=None)}, args=['-7767012653730305004', '-2709874245198447753'], kwargs=None)], '-2079870262008396274': ['706', CallNode(function='Integer.__add__', type_params=None, args=['-2709874245198447753', '-5424093814210459874'], kwargs=None)], '4063310302347050316': ['515', CallNode(function='Abstraction.__call__', type_params={'U': DeclaredTypeInstance(type='Integer', params=None), 'T': DeclaredTypeInstance(type='Integer', params=None)}, args=['3298425249558555854', '-2079870262008396274'], kwargs=None)], '-8368236447176785930': ['517', CallNode(function='Boolean.if_', type_params=None, args=['-2070637637055337711', '-5424093814210459874', '-2709874245198447753'], kwargs=None)], '-6711768409905341135': ['518', CallNode(function='Boolean.if_', type_params=None, args=['-5891180103021637001', '4063310302347050316', '-8368236447176785930'], kwargs=None)], '-1051299662278107137': ['394', CallNode(function='Abstraction.create', type_params={'U': DeclaredTypeInstance(type='Integer', params=None), 'T': DeclaredTypeInstance(type='Integer', params=None)}, args=['-5424093814210459874', '-6711768409905341135'], kwargs=None)], '7071736614801773377': ['4', CallNode(function='Abstraction.__call__', type_params={'U': DeclaredTypeInstance(type='Integer', params=None), 'T': DeclaredTypeInstance(type='Integer', params=None)}, args=['-1051299662278107137', '-2709874245198447753'], kwargs=None)], '240525886301523390': ['548', CallNode(function='Abstraction.__call__', type_params={'U': DeclaredTypeInstance(type='Abstraction', params={'U': DeclaredTypeInstance(type='Integer', params=None), 'T': DeclaredTypeInstance(type='Integer', params=None)}), 'T': DeclaredTypeInstance(type='Integer', params=None)}, args=['1761887883783554750', '-2709874245198447753'], kwargs=None)], '395074440060082694': ['549', CallNode(function='Integer.__add__', type_params=None, args=['-2709874245198447753', '-2709874245198447753'], kwargs=None)], '377631995659507241': ['550', CallNode(function='Abstraction.__call__', type_params={'U': DeclaredTypeInstance(type='Integer', params=None), 'T': DeclaredTypeInstance(type='Integer', params=None)}, args=['240525886301523390', '395074440060082694'], kwargs=None)], '7309345848439327467': ['552', CallNode(function='Boolean.if_', type_params=None, args=['-2070637637055337711', '-2709874245198447753', '-2709874245198447753'], kwargs=None)], '-572155615136026905': ['4', CallNode(function='Boolean.if_', type_params=None, args=['-5891180103021637001', '377631995659507241', '7309345848439327467'], kwargs=None)], '9052403675040820090': ['552', CallNode(function='Boolean.if_', type_params=None, args=['1430599728253316827', '-2709874245198447753', '-2709874245198447753'], kwargs=None)], '-6514372031518841616': ['4', CallNode(function='Boolean.if_', type_params=None, args=['-5891180103021637001', '377631995659507241', '9052403675040820090'], kwargs=None)], '1667767348303976343': ['4', CallNode(function='Boolean.if_', type_params=None, args=['-5891180103021637001', '377631995659507241', '-2709874245198447753'], kwargs=None)], '-6976198223006734701': ['1903', PrimitiveNode(type='int', repr='2')], '-2836458671663647227': ['1904', CallNode(function='Integer.from_int', type_params=None, args=['-6976198223006734701'], kwargs=None)], '7789075026334140916': ['550', CallNode(function='Abstraction.__call__', type_params={'U': DeclaredTypeInstance(type='Integer', params=None), 'T': DeclaredTypeInstance(type='Integer', params=None)}, args=['240525886301523390', '-2836458671663647227'], kwargs=None)], '-4637911471935490360': ['4', CallNode(function='Boolean.if_', type_params=None, args=['-5891180103021637001', '7789075026334140916', '-2709874245198447753'], kwargs=None)], '7517531266121986836': ['1535', PrimitiveNode(type='int', repr='8')], '-807141446486382998': ['1536', CallNode(function='Integer.from_int', type_params=None, args=['7517531266121986836'], kwargs=None)], '-7661341722628591403': ['583', CallNode(function='Abstraction.__call__', type_params={'U': DeclaredTypeInstance(type='Abstraction', params={'U': DeclaredTypeInstance(type='Abstraction', params={'U': DeclaredTypeInstance(type='Integer', params=None), 'T': DeclaredTypeInstance(type='Integer', params=None)}), 'T': DeclaredTypeInstance(type='Integer', params=None)}), 'T': DeclaredTypeInstance(type='Integer', params=None)}, args=['-1872445906533970845', '-807141446486382998'], kwargs=None)], '-3268802043082511407': ['584', CallNode(function='Abstraction.__call__', type_params={'U': DeclaredTypeInstance(type='Abstraction', params={'U': DeclaredTypeInstance(type='Integer', params=None), 'T': DeclaredTypeInstance(type='Integer', params=None)}), 'T': DeclaredTypeInstance(type='Integer', params=None)}, args=['-7661341722628591403', '-2709874245198447753'], kwargs=None)], '-3229544847317331348': ['4', CallNode(function='Abstraction.__call__', type_params={'U': DeclaredTypeInstance(type='Integer', params=None), 'T': DeclaredTypeInstance(type='Integer', params=None)}, args=['-3268802043082511407', '-2836458671663647227'], kwargs=None)], '-5483534949603105536': ['4', CallNode(function='Boolean.if_', type_params=None, args=['-5891180103021637001', '-3229544847317331348', '-2709874245198447753'], kwargs=None)], '8981434790661950422': ['4', CallNode(function='Boolean.if_', type_params=None, args=['-7694504097016980406', '-3229544847317331348', '-2709874245198447753'], kwargs=None)], '-8900729174652435743': ['583', CallNode(function='Abstraction.__call__', type_params={'U': DeclaredTypeInstance(type='Abstraction', params={'U': DeclaredTypeInstance(type='Abstraction', params={'U': DeclaredTypeInstance(type='Integer', params=None), 'T': DeclaredTypeInstance(type='Integer', params=None)}), 'T': DeclaredTypeInstance(type='Integer', params=None)}), 'T': DeclaredTypeInstance(type='Integer', params=None)}, args=['-6049179160059621010', '-807141446486382998'], kwargs=None)], '-2446694479777018630': ['584', CallNode(function='Abstraction.__call__', type_params={'U': DeclaredTypeInstance(type='Abstraction', params={'U': DeclaredTypeInstance(type='Integer', params=None), 'T': DeclaredTypeInstance(type='Integer', params=None)}), 'T': DeclaredTypeInstance(type='Integer', params=None)}, args=['-8900729174652435743', '-2709874245198447753'], kwargs=None)], '-6804323267347952162': ['4', CallNode(function='Abstraction.__call__', type_params={'U': DeclaredTypeInstance(type='Integer', params=None), 'T': DeclaredTypeInstance(type='Integer', params=None)}, args=['-2446694479777018630', '-2836458671663647227'], kwargs=None)], '4291336246247098070': ['583', CallNode(function='Abstraction.__call__', type_params={'U': DeclaredTypeInstance(type='Abstraction', params={'U': DeclaredTypeInstance(type='Abstraction', params={'U': DeclaredTypeInstance(type='Integer', params=None), 'T': DeclaredTypeInstance(type='Integer', params=None)}), 'T': DeclaredTypeInstance(type='Integer', params=None)}), 'T': DeclaredTypeInstance(type='Integer', params=None)}, args=['7192003423984924808', '-807141446486382998'], kwargs=None)], '7530664850830435899': ['584', CallNode(function='Abstraction.__call__', type_params={'U': DeclaredTypeInstance(type='Abstraction', params={'U': DeclaredTypeInstance(type='Integer', params=None), 'T': DeclaredTypeInstance(type='Integer', params=None)}), 'T': DeclaredTypeInstance(type='Integer', params=None)}, args=['4291336246247098070', '-2709874245198447753'], kwargs=None)], '-3627663358061894108': ['4', CallNode(function='Abstraction.__call__', type_params={'U': DeclaredTypeInstance(type='Integer', params=None), 'T': DeclaredTypeInstance(type='Integer', params=None)}, args=['7530664850830435899', '-2836458671663647227'], kwargs=None)], '4451422924031100638': ['715', CallNode(function='Integer.__gt__', type_params=None, args=['-807141446486382998', '-2709874245198447753'], kwargs=None)], '-5070615486215614682': ['738', CallNode(function='Integer.__sub__', type_params=None, args=['-807141446486382998', '-2709874245198447753'], kwargs=None)], '8209501891162899840': ['739', CallNode(function='Abstraction.__call__', type_params={'U': DeclaredTypeInstance(type='Abstraction', params={'U': DeclaredTypeInstance(type='Abstraction', params={'U': DeclaredTypeInstance(type='Integer', params=None), 'T': DeclaredTypeInstance(type='Integer', params=None)}), 'T': DeclaredTypeInstance(type='Integer', params=None)}), 'T': DeclaredTypeInstance(type='Integer', params=None)}, args=['-1872445906533970845', '-5070615486215614682'], kwargs=None)], '9176229838676939566': ['705', CallNode(function='Abstraction.__call__', type_params={'U': DeclaredTypeInstance(type='Abstraction', params={'U': DeclaredTypeInstance(type='Integer', params=None), 'T': DeclaredTypeInstance(type='Integer', params=None)}), 'T': DeclaredTypeInstance(type='Integer', params=None)}, args=['8209501891162899840', '-5424093814210459874'], kwargs=None)], '-8277343447404176067': ['671', CallNode(function='Abstraction.__call__', type_params={'U': DeclaredTypeInstance(type='Integer', params=None), 'T': DeclaredTypeInstance(type='Integer', params=None)}, args=['9176229838676939566', '-7176269575796675394'], kwargs=None)], '6939747575173945354': ['745', CallNode(function='Integer.eq', type_params=None, args=['-807141446486382998', '-2709874245198447753'], kwargs=None)], '2609959140855065448': ['673', CallNode(function='Boolean.if_', type_params=None, args=['6939747575173945354', '-5424093814210459874', '-3589837022479227720'], kwargs=None)], '-654426317423379608': ['674', CallNode(function='Boolean.if_', type_params=None, args=['4451422924031100638', '-8277343447404176067', '2609959140855065448'], kwargs=None)], '1519818444218969090': ['675', CallNode(function='Abstraction.create', type_params={'U': DeclaredTypeInstance(type='Integer', params=None), 'T': DeclaredTypeInstance(type='Integer', params=None)}, args=['-5424093814210459874', '-654426317423379608'], kwargs=None)], '-7644524782377046167': ['583', CallNode(function='Abstraction.create', type_params={'U': DeclaredTypeInstance(type='Abstraction', params={'U': DeclaredTypeInstance(type='Integer', params=None), 'T': DeclaredTypeInstance(type='Integer', params=None)}), 'T': DeclaredTypeInstance(type='Integer', params=None)}, args=['-3589837022479227720', '1519818444218969090'], kwargs=None)], '310881393980767138': ['584', CallNode(function='Abstraction.__call__', type_params={'U': DeclaredTypeInstance(type='Abstraction', params={'U': DeclaredTypeInstance(type='Integer', params=None), 'T': DeclaredTypeInstance(type='Integer', params=None)}), 'T': DeclaredTypeInstance(type='Integer', params=None)}, args=['-7644524782377046167', '-2709874245198447753'], kwargs=None)], '-8179744224926288619': ['4', CallNode(function='Abstraction.__call__', type_params={'U': DeclaredTypeInstance(type='Integer', params=None), 'T': DeclaredTypeInstance(type='Integer', params=None)}, args=['310881393980767138', '-2836458671663647227'], kwargs=None)], '-6074466472095857739': ['707', CallNode(function='Abstraction.__call__', type_params={'U': DeclaredTypeInstance(type='Integer', params=None), 'T': DeclaredTypeInstance(type='Integer', params=None)}, args=['9176229838676939566', '-2079870262008396274'], kwargs=None)], '6090449127306844657': ['709', CallNode(function='Boolean.if_', type_params=None, args=['6939747575173945354', '-5424093814210459874', '-2709874245198447753'], kwargs=None)], '-6927906364548010505': ['710', CallNode(function='Boolean.if_', type_params=None, args=['4451422924031100638', '-6074466472095857739', '6090449127306844657'], kwargs=None)], '1875031177834470621': ['584', CallNode(function='Abstraction.create', type_params={'U': DeclaredTypeInstance(type='Integer', params=None), 'T': DeclaredTypeInstance(type='Integer', params=None)}, args=['-5424093814210459874', '-6927906364548010505'], kwargs=None)], '-4215596480433184121': ['4', CallNode(function='Abstraction.__call__', type_params={'U': DeclaredTypeInstance(type='Integer', params=None), 'T': DeclaredTypeInstance(type='Integer', params=None)}, args=['1875031177834470621', '-2836458671663647227'], kwargs=None)], '240625170666862444': ['742', CallNode(function='Abstraction.__call__', type_params={'U': DeclaredTypeInstance(type='Abstraction', params={'U': DeclaredTypeInstance(type='Integer', params=None), 'T': DeclaredTypeInstance(type='Integer', params=None)}), 'T': DeclaredTypeInstance(type='Integer', params=None)}, args=['8209501891162899840', '-2836458671663647227'], kwargs=None)], '5918083920381732827': ['743', CallNode(function='Integer.__add__', type_params=None, args=['-2709874245198447753', '-2836458671663647227'], kwargs=None)], '8144778511505664445': ['744', CallNode(function='Abstraction.__call__', type_params={'U': DeclaredTypeInstance(type='Integer', params=None), 'T': DeclaredTypeInstance(type='Integer', params=None)}, args=['240625170666862444', '5918083920381732827'], kwargs=None)], '-3728037247125741599': ['746', CallNode(function='Boolean.if_', type_params=None, args=['6939747575173945354', '-2836458671663647227', '-2709874245198447753'], kwargs=None)], '-4660412633489760477': ['4', CallNode(function='Boolean.if_', type_params=None, args=['4451422924031100638', '8144778511505664445', '-3728037247125741599'], kwargs=None)], '1125277876974826930': ['746', CallNode(function='Boolean.if_', type_params=None, args=['1430599728253316827', '-2836458671663647227', '-2709874245198447753'], kwargs=None)], '7434313758305616985': ['4', CallNode(function='Boolean.if_', type_params=None, args=['4451422924031100638', '8144778511505664445', '1125277876974826930'], kwargs=None)], '-2407708529849502343': ['4', CallNode(function='Boolean.if_', type_params=None, args=['4451422924031100638', '8144778511505664445', '-2709874245198447753'], kwargs=None)], '2179114438745752421': ['1703', PrimitiveNode(type='int', repr='3')], '5097506971461298912': ['1704', CallNode(function='Integer.from_int', type_params=None, args=['2179114438745752421'], kwargs=None)], '-2474863177050861745': ['744', CallNode(function='Abstraction.__call__', type_params={'U': DeclaredTypeInstance(type='Integer', params=None), 'T': DeclaredTypeInstance(type='Integer', params=None)}, args=['240625170666862444', '5097506971461298912'], kwargs=None)], '1412812120563463511': ['4', CallNode(function='Boolean.if_', type_params=None, args=['4451422924031100638', '-2474863177050861745', '-2709874245198447753'], kwargs=None)], '-6036138778614868414': ['909', PrimitiveNode(type='int', repr='7')], '3439368715880091039': ['910', CallNode(function='Integer.from_int', type_params=None, args=['-6036138778614868414'], kwargs=None)], '-7669060229917152635': ['777', CallNode(function='Abstraction.__call__', type_params={'U': DeclaredTypeInstance(type='Abstraction', params={'U': DeclaredTypeInstance(type='Abstraction', params={'U': DeclaredTypeInstance(type='Integer', params=None), 'T': DeclaredTypeInstance(type='Integer', params=None)}), 'T': DeclaredTypeInstance(type='Integer', params=None)}), 'T': DeclaredTypeInstance(type='Integer', params=None)}, args=['-1872445906533970845', '3439368715880091039'], kwargs=None)], '1415139444494496608': ['780', CallNode(function='Abstraction.__call__', type_params={'U': DeclaredTypeInstance(type='Abstraction', params={'U': DeclaredTypeInstance(type='Integer', params=None), 'T': DeclaredTypeInstance(type='Integer', params=None)}), 'T': DeclaredTypeInstance(type='Integer', params=None)}, args=['-7669060229917152635', '-2836458671663647227'], kwargs=None)], '-7781608503743410166': ['4', CallNode(function='Abstraction.__call__', type_params={'U': DeclaredTypeInstance(type='Integer', params=None), 'T': DeclaredTypeInstance(type='Integer', params=None)}, args=['1415139444494496608', '5097506971461298912'], kwargs=None)], '3394162237018093016': ['4', CallNode(function='Boolean.if_', type_params=None, args=['4451422924031100638', '-7781608503743410166', '-2709874245198447753'], kwargs=None)], '3683351022978259685': ['4', CallNode(function='Boolean.if_', type_params=None, args=['-7694504097016980406', '-7781608503743410166', '-2709874245198447753'], kwargs=None)], '-8908447681940996975': ['777', CallNode(function='Abstraction.__call__', type_params={'U': DeclaredTypeInstance(type='Abstraction', params={'U': DeclaredTypeInstance(type='Abstraction', params={'U': DeclaredTypeInstance(type='Integer', params=None), 'T': DeclaredTypeInstance(type='Integer', params=None)}), 'T': DeclaredTypeInstance(type='Integer', params=None)}), 'T': DeclaredTypeInstance(type='Integer', params=None)}, args=['-6049179160059621010', '3439368715880091039'], kwargs=None)], '8396784582804907256': ['780', CallNode(function='Abstraction.__call__', type_params={'U': DeclaredTypeInstance(type='Abstraction', params={'U': DeclaredTypeInstance(type='Integer', params=None), 'T': DeclaredTypeInstance(type='Integer', params=None)}), 'T': DeclaredTypeInstance(type='Integer', params=None)}, args=['-8908447681940996975', '-2836458671663647227'], kwargs=None)], '-1728229885748205255': ['4', CallNode(function='Abstraction.__call__', type_params={'U': DeclaredTypeInstance(type='Integer', params=None), 'T': DeclaredTypeInstance(type='Integer', params=None)}, args=['8396784582804907256', '5097506971461298912'], kwargs=None)], '5615835553781991412': ['777', CallNode(function='Abstraction.__call__', type_params={'U': DeclaredTypeInstance(type='Abstraction', params={'U': DeclaredTypeInstance(type='Abstraction', params={'U': DeclaredTypeInstance(type='Integer', params=None), 'T': DeclaredTypeInstance(type='Integer', params=None)}), 'T': DeclaredTypeInstance(type='Integer', params=None)}), 'T': DeclaredTypeInstance(type='Integer', params=None)}, args=['7192003423984924808', '3439368715880091039'], kwargs=None)], '-7041554985898816785': ['780', CallNode(function='Abstraction.__call__', type_params={'U': DeclaredTypeInstance(type='Abstraction', params={'U': DeclaredTypeInstance(type='Integer', params=None), 'T': DeclaredTypeInstance(type='Integer', params=None)}), 'T': DeclaredTypeInstance(type='Integer', params=None)}, args=['5615835553781991412', '-2836458671663647227'], kwargs=None)], '1615349311394902901': ['4', CallNode(function='Abstraction.__call__', type_params={'U': DeclaredTypeInstance(type='Integer', params=None), 'T': DeclaredTypeInstance(type='Integer', params=None)}, args=['-7041554985898816785', '5097506971461298912'], kwargs=None)], '6045014357752365256': ['913', CallNode(function='Integer.__gt__', type_params=None, args=['3439368715880091039', '-2709874245198447753'], kwargs=None)], '-7875381435478718192': ['936', CallNode(function='Integer.__sub__', type_params=None, args=['3439368715880091039', '-2709874245198447753'], kwargs=None)], '-6618833741390724430': ['937', CallNode(function='Abstraction.__call__', type_params={'U': DeclaredTypeInstance(type='Abstraction', params={'U': DeclaredTypeInstance(type='Abstraction', params={'U': DeclaredTypeInstance(type='Integer', params=None), 'T': DeclaredTypeInstance(type='Integer', params=None)}), 'T': DeclaredTypeInstance(type='Integer', params=None)}), 'T': DeclaredTypeInstance(type='Integer', params=None)}, args=['-1872445906533970845', '-7875381435478718192'], kwargs=None)], '122056670367809305': ['901', CallNode(function='Abstraction.__call__', type_params={'U': DeclaredTypeInstance(type='Abstraction', params={'U': DeclaredTypeInstance(type='Integer', params=None), 'T': DeclaredTypeInstance(type='Integer', params=None)}), 'T': DeclaredTypeInstance(type='Integer', params=None)}, args=['-6618833741390724430', '-5424093814210459874'], kwargs=None)], '-2853568288805993481': ['867', CallNode(function='Abstraction.__call__', type_params={'U': DeclaredTypeInstance(type='Integer', params=None), 'T': DeclaredTypeInstance(type='Integer', params=None)}, args=['122056670367809305', '-7176269575796675394'], kwargs=None)], '-8581187249990887070': ['945', CallNode(function='Integer.eq', type_params=None, args=['3439368715880091039', '-2709874245198447753'], kwargs=None)], '-329086784906391893': ['869', CallNode(function='Boolean.if_', type_params=None, args=['-8581187249990887070', '-5424093814210459874', '-3589837022479227720'], kwargs=None)], '994303349304725669': ['870', CallNode(function='Boolean.if_', type_params=None, args=['6045014357752365256', '-2853568288805993481', '-329086784906391893'], kwargs=None)], '7948871001522096662': ['871', CallNode(function='Abstraction.create', type_params={'U': DeclaredTypeInstance(type='Integer', params=None), 'T': DeclaredTypeInstance(type='Integer', params=None)}, args=['-5424093814210459874', '994303349304725669'], kwargs=None)], '246987893274424293': ['777', CallNode(function='Abstraction.create', type_params={'U': DeclaredTypeInstance(type='Abstraction', params={'U': DeclaredTypeInstance(type='Integer', params=None), 'T': DeclaredTypeInstance(type='Integer', params=None)}), 'T': DeclaredTypeInstance(type='Integer', params=None)}, args=['-3589837022479227720', '7948871001522096662'], kwargs=None)], '2558092592748418682': ['780', CallNode(function='Abstraction.__call__', type_params={'U': DeclaredTypeInstance(type='Abstraction', params={'U': DeclaredTypeInstance(type='Integer', params=None), 'T': DeclaredTypeInstance(type='Integer', params=None)}), 'T': DeclaredTypeInstance(type='Integer', params=None)}, args=['246987893274424293', '-2836458671663647227'], kwargs=None)], '-5708294416994847057': ['4', CallNode(function='Abstraction.__call__', type_params={'U': DeclaredTypeInstance(type='Integer', params=None), 'T': DeclaredTypeInstance(type='Integer', params=None)}, args=['2558092592748418682', '5097506971461298912'], kwargs=None)], '1393718725000305357': ['904', CallNode(function='Integer.__add__', type_params=None, args=['-2836458671663647227', '-5424093814210459874'], kwargs=None)], '5369712301075259905': ['905', CallNode(function='Abstraction.__call__', type_params={'U': DeclaredTypeInstance(type='Integer', params=None), 'T': DeclaredTypeInstance(type='Integer', params=None)}, args=['122056670367809305', '1393718725000305357'], kwargs=None)], '4765453286620715103': ['907', CallNode(function='Boolean.if_', type_params=None, args=['-8581187249990887070', '-5424093814210459874', '-2836458671663647227'], kwargs=None)], '-6792013324847907552': ['908', CallNode(function='Boolean.if_', type_params=None, args=['6045014357752365256', '5369712301075259905', '4765453286620715103'], kwargs=None)], '8196416030071920264': ['780', CallNode(function='Abstraction.create', type_params={'U': DeclaredTypeInstance(type='Integer', params=None), 'T': DeclaredTypeInstance(type='Integer', params=None)}, args=['-5424093814210459874', '-6792013324847907552'], kwargs=None)], '-9218559445326895691': ['4', CallNode(function='Abstraction.__call__', type_params={'U': DeclaredTypeInstance(type='Integer', params=None), 'T': DeclaredTypeInstance(type='Integer', params=None)}, args=['8196416030071920264', '5097506971461298912'], kwargs=None)], '-4703797407153073536': ['940', CallNode(function='Abstraction.__call__', type_params={'U': DeclaredTypeInstance(type='Abstraction', params={'U': DeclaredTypeInstance(type='Integer', params=None), 'T': DeclaredTypeInstance(type='Integer', params=None)}), 'T': DeclaredTypeInstance(type='Integer', params=None)}, args=['-6618833741390724430', '5097506971461298912'], kwargs=None)], '8406232321654306307': ['943', CallNode(function='Integer.__add__', type_params=None, args=['-2836458671663647227', '5097506971461298912'], kwargs=None)], '6001403824663744290': ['944', CallNode(function='Abstraction.__call__', type_params={'U': DeclaredTypeInstance(type='Integer', params=None), 'T': DeclaredTypeInstance(type='Integer', params=None)}, args=['-4703797407153073536', '8406232321654306307'], kwargs=None)], '-7095314879911207457': ['946', CallNode(function='Boolean.if_', type_params=None, args=['-8581187249990887070', '5097506971461298912', '-2836458671663647227'], kwargs=None)], '6939494142610917696': ['4', CallNode(function='Boolean.if_', type_params=None, args=['6045014357752365256', '6001403824663744290', '-7095314879911207457'], kwargs=None)], '-4863171438465748740': ['946', CallNode(function='Boolean.if_', type_params=None, args=['1430599728253316827', '5097506971461298912', '-2836458671663647227'], kwargs=None)], '-8605989849602491738': ['4', CallNode(function='Boolean.if_', type_params=None, args=['6045014357752365256', '6001403824663744290', '-4863171438465748740'], kwargs=None)], '-6608702614986694197': ['4', CallNode(function='Boolean.if_', type_params=None, args=['6045014357752365256', '6001403824663744290', '-2836458671663647227'], kwargs=None)], '-3252348122759802345': ['1305', PrimitiveNode(type='int', repr='5')], '6460412911337626311': ['1306', CallNode(function='Integer.from_int', type_params=None, args=['-3252348122759802345'], kwargs=None)], '-3094792838750148002': ['944', CallNode(function='Abstraction.__call__', type_params={'U': DeclaredTypeInstance(type='Integer', params=None), 'T': DeclaredTypeInstance(type='Integer', params=None)}, args=['-4703797407153073536', '6460412911337626311'], kwargs=None)], '211930557165848816': ['4', CallNode(function='Boolean.if_', type_params=None, args=['6045014357752365256', '-3094792838750148002', '-2836458671663647227'], kwargs=None)], '-8145422151732498711': ['1109', PrimitiveNode(type='int', repr='6')], '1623328830782906858': ['1110', CallNode(function='Integer.from_int', type_params=None, args=['-8145422151732498711'], kwargs=None)], '331363741905418514': ['977', CallNode(function='Abstraction.__call__', type_params={'U': DeclaredTypeInstance(type='Abstraction', params={'U': DeclaredTypeInstance(type='Abstraction', params={'U': DeclaredTypeInstance(type='Integer', params=None), 'T': DeclaredTypeInstance(type='Integer', params=None)}), 'T': DeclaredTypeInstance(type='Integer', params=None)}), 'T': DeclaredTypeInstance(type='Integer', params=None)}, args=['-1872445906533970845', '1623328830782906858'], kwargs=None)], '2542391782195140550': ['980', CallNode(function='Abstraction.__call__', type_params={'U': DeclaredTypeInstance(type='Abstraction', params={'U': DeclaredTypeInstance(type='Integer', params=None), 'T': DeclaredTypeInstance(type='Integer', params=None)}), 'T': DeclaredTypeInstance(type='Integer', params=None)}, args=['331363741905418514', '5097506971461298912'], kwargs=None)], '5824961590807657529': ['4', CallNode(function='Abstraction.__call__', type_params={'U': DeclaredTypeInstance(type='Integer', params=None), 'T': DeclaredTypeInstance(type='Integer', params=None)}, args=['2542391782195140550', '6460412911337626311'], kwargs=None)], '-2226581153540153046': ['4', CallNode(function='Boolean.if_', type_params=None, args=['6045014357752365256', '5824961590807657529', '-2836458671663647227'], kwargs=None)], '7184718713181243945': ['4', CallNode(function='Boolean.if_', type_params=None, args=['-7694504097016980406', '5824961590807657529', '-2836458671663647227'], kwargs=None)], '-6184182294829639077': ['977', CallNode(function='Abstraction.__call__', type_params={'U': DeclaredTypeInstance(type='Abstraction', params={'U': DeclaredTypeInstance(type='Abstraction', params={'U': DeclaredTypeInstance(type='Integer', params=None), 'T': DeclaredTypeInstance(type='Integer', params=None)}), 'T': DeclaredTypeInstance(type='Integer', params=None)}), 'T': DeclaredTypeInstance(type='Integer', params=None)}, args=['-6049179160059621010', '1623328830782906858'], kwargs=None)], '3274952040090089687': ['980', CallNode(function='Abstraction.__call__', type_params={'U': DeclaredTypeInstance(type='Abstraction', params={'U': DeclaredTypeInstance(type='Integer', params=None), 'T': DeclaredTypeInstance(type='Integer', params=None)}), 'T': DeclaredTypeInstance(type='Integer', params=None)}, args=['-6184182294829639077', '5097506971461298912'], kwargs=None)], '-4610434476171621727': ['4', CallNode(function='Abstraction.__call__', type_params={'U': DeclaredTypeInstance(type='Integer', params=None), 'T': DeclaredTypeInstance(type='Integer', params=None)}, args=['3274952040090089687', '6460412911337626311'], kwargs=None)], '7007883126069894736': ['977', CallNode(function='Abstraction.__call__', type_params={'U': DeclaredTypeInstance(type='Abstraction', params={'U': DeclaredTypeInstance(type='Abstraction', params={'U': DeclaredTypeInstance(type='Integer', params=None), 'T': DeclaredTypeInstance(type='Integer', params=None)}), 'T': DeclaredTypeInstance(type='Integer', params=None)}), 'T': DeclaredTypeInstance(type='Integer', params=None)}, args=['7192003423984924808', '1623328830782906858'], kwargs=None)], '-1759599643853235173': ['980', CallNode(function='Abstraction.__call__', type_params={'U': DeclaredTypeInstance(type='Abstraction', params={'U': DeclaredTypeInstance(type='Integer', params=None), 'T': DeclaredTypeInstance(type='Integer', params=None)}), 'T': DeclaredTypeInstance(type='Integer', params=None)}, args=['7007883126069894736', '5097506971461298912'], kwargs=None)], '-6541968139055353049': ['4', CallNode(function='Abstraction.__call__', type_params={'U': DeclaredTypeInstance(type='Integer', params=None), 'T': DeclaredTypeInstance(type='Integer', params=None)}, args=['-1759599643853235173', '6460412911337626311'], kwargs=None)], '-6082467777081323418': ['1113', CallNode(function='Integer.__gt__', type_params=None, args=['1623328830782906858', '-2709874245198447753'], kwargs=None)], '9001775461386430749': ['1136', CallNode(function='Integer.__sub__', type_params=None, args=['1623328830782906858', '-2709874245198447753'], kwargs=None)], '1208035936492683470': ['1137', CallNode(function='Abstraction.__call__', type_params={'U': DeclaredTypeInstance(type='Abstraction', params={'U': DeclaredTypeInstance(type='Abstraction', params={'U': DeclaredTypeInstance(type='Integer', params=None), 'T': DeclaredTypeInstance(type='Integer', params=None)}), 'T': DeclaredTypeInstance(type='Integer', params=None)}), 'T': DeclaredTypeInstance(type='Integer', params=None)}, args=['-1872445906533970845', '9001775461386430749'], kwargs=None)], '-1254377099455496499': ['1101', CallNode(function='Abstraction.__call__', type_params={'U': DeclaredTypeInstance(type='Abstraction', params={'U': DeclaredTypeInstance(type='Integer', params=None), 'T': DeclaredTypeInstance(type='Integer', params=None)}), 'T': DeclaredTypeInstance(type='Integer', params=None)}, args=['1208035936492683470', '-5424093814210459874'], kwargs=None)], '-8120899661747945472': ['1067', CallNode(function='Abstraction.__call__', type_params={'U': DeclaredTypeInstance(type='Integer', params=None), 'T': DeclaredTypeInstance(type='Integer', params=None)}, args=['-1254377099455496499', '-7176269575796675394'], kwargs=None)], '-2261925311115024128': ['1145', CallNode(function='Integer.eq', type_params=None, args=['1623328830782906858', '-2709874245198447753'], kwargs=None)], '4803401013860306845': ['1069', CallNode(function='Boolean.if_', type_params=None, args=['-2261925311115024128', '-5424093814210459874', '-3589837022479227720'], kwargs=None)], '5484246160591506775': ['1070', CallNode(function='Boolean.if_', type_params=None, args=['-6082467777081323418', '-8120899661747945472', '4803401013860306845'], kwargs=None)], '-6675131771555219437': ['1071', CallNode(function='Abstraction.create', type_params={'U': DeclaredTypeInstance(type='Integer', params=None), 'T': DeclaredTypeInstance(type='Integer', params=None)}, args=['-5424093814210459874', '5484246160591506775'], kwargs=None)], '1394591684371198934': ['977', CallNode(function='Abstraction.create', type_params={'U': DeclaredTypeInstance(type='Abstraction', params={'U': DeclaredTypeInstance(type='Integer', params=None), 'T': DeclaredTypeInstance(type='Integer', params=None)}), 'T': DeclaredTypeInstance(type='Integer', params=None)}, args=['-3589837022479227720', '-6675131771555219437'], kwargs=None)], '5440803923812957558': ['980', CallNode(function='Abstraction.__call__', type_params={'U': DeclaredTypeInstance(type='Abstraction', params={'U': DeclaredTypeInstance(type='Integer', params=None), 'T': DeclaredTypeInstance(type='Integer', params=None)}), 'T': DeclaredTypeInstance(type='Integer', params=None)}, args=['1394591684371198934', '5097506971461298912'], kwargs=None)], '6224734592885192466': ['4', CallNode(function='Abstraction.__call__', type_params={'U': DeclaredTypeInstance(type='Integer', params=None), 'T': DeclaredTypeInstance(type='Integer', params=None)}, args=['5440803923812957558', '6460412911337626311'], kwargs=None)], '-2323764632951596514': ['1104', CallNode(function='Integer.__add__', type_params=None, args=['5097506971461298912', '-5424093814210459874'], kwargs=None)], '920388089481385983': ['1105', CallNode(function='Abstraction.__call__', type_params={'U': DeclaredTypeInstance(type='Integer', params=None), 'T': DeclaredTypeInstance(type='Integer', params=None)}, args=['-1254377099455496499', '-2323764632951596514'], kwargs=None)], '-4928450385570989276': ['1107', CallNode(function='Boolean.if_', type_params=None, args=['-2261925311115024128', '-5424093814210459874', '5097506971461298912'], kwargs=None)], '-3417872996016180307': ['1108', CallNode(function='Boolean.if_', type_params=None, args=['-6082467777081323418', '920388089481385983', '-4928450385570989276'], kwargs=None)], '-5862496125442712057': ['980', CallNode(function='Abstraction.create', type_params={'U': DeclaredTypeInstance(type='Integer', params=None), 'T': DeclaredTypeInstance(type='Integer', params=None)}, args=['-5424093814210459874', '-3417872996016180307'], kwargs=None)], '5266349270475943888': ['4', CallNode(function='Abstraction.__call__', type_params={'U': DeclaredTypeInstance(type='Integer', params=None), 'T': DeclaredTypeInstance(type='Integer', params=None)}, args=['-5862496125442712057', '6460412911337626311'], kwargs=None)], '-488380852147112811': ['1140', CallNode(function='Abstraction.__call__', type_params={'U': DeclaredTypeInstance(type='Abstraction', params={'U': DeclaredTypeInstance(type='Integer', params=None), 'T': DeclaredTypeInstance(type='Integer', params=None)}), 'T': DeclaredTypeInstance(type='Integer', params=None)}, args=['1208035936492683470', '6460412911337626311'], kwargs=None)], '9216252889752075526': ['1143', CallNode(function='Integer.__add__', type_params=None, args=['5097506971461298912', '6460412911337626311'], kwargs=None)], '-4583652392085431418': ['1144', CallNode(function='Abstraction.__call__', type_params={'U': DeclaredTypeInstance(type='Integer', params=None), 'T': DeclaredTypeInstance(type='Integer', params=None)}, args=['-488380852147112811', '9216252889752075526'], kwargs=None)], '4138334299222256260': ['1146', CallNode(function='Boolean.if_', type_params=None, args=['-2261925311115024128', '6460412911337626311', '5097506971461298912'], kwargs=None)], '-2276578944146535180': ['4', CallNode(function='Boolean.if_', type_params=None, args=['-6082467777081323418', '-4583652392085431418', '4138334299222256260'], kwargs=None)], '5673425540997037340': ['1146', CallNode(function='Boolean.if_', type_params=None, args=['1430599728253316827', '6460412911337626311', '5097506971461298912'], kwargs=None)], '7642029506929829579': ['4', CallNode(function='Boolean.if_', type_params=None, args=['-6082467777081323418', '-4583652392085431418', '5673425540997037340'], kwargs=None)], '-232106358995459078': ['4', CallNode(function='Boolean.if_', type_params=None, args=['-6082467777081323418', '-4583652392085431418', '5097506971461298912'], kwargs=None)], '6682610203951532172': ['1144', CallNode(function='Abstraction.__call__', type_params={'U': DeclaredTypeInstance(type='Integer', params=None), 'T': DeclaredTypeInstance(type='Integer', params=None)}, args=['-488380852147112811', '-807141446486382998'], kwargs=None)], '3377214167073522146': ['4', CallNode(function='Boolean.if_', type_params=None, args=['-6082467777081323418', '6682610203951532172', '5097506971461298912'], kwargs=None)], '8005862793445422533': ['1177', CallNode(function='Abstraction.__call__', type_params={'U': DeclaredTypeInstance(type='Abstraction', params={'U': DeclaredTypeInstance(type='Abstraction', params={'U': DeclaredTypeInstance(type='Integer', params=None), 'T': DeclaredTypeInstance(type='Integer', params=None)}), 'T': DeclaredTypeInstance(type='Integer', params=None)}), 'T': DeclaredTypeInstance(type='Integer', params=None)}, args=['-1872445906533970845', '6460412911337626311'], kwargs=None)], '-8206330226539492066': ['1178', CallNode(function='Abstraction.__call__', type_params={'U': DeclaredTypeInstance(type='Abstraction', params={'U': DeclaredTypeInstance(type='Integer', params=None), 'T': DeclaredTypeInstance(type='Integer', params=None)}), 'T': DeclaredTypeInstance(type='Integer', params=None)}, args=['8005862793445422533', '6460412911337626311'], kwargs=None)], '4278492917212468935': ['4', CallNode(function='Abstraction.__call__', type_params={'U': DeclaredTypeInstance(type='Integer', params=None), 'T': DeclaredTypeInstance(type='Integer', params=None)}, args=['-8206330226539492066', '-807141446486382998'], kwargs=None)], '3917862883693795982': ['4', CallNode(function='Boolean.if_', type_params=None, args=['-6082467777081323418', '4278492917212468935', '5097506971461298912'], kwargs=None)], '-1114697861662820011': ['4', CallNode(function='Boolean.if_', type_params=None, args=['-7694504097016980406', '4278492917212468935', '5097506971461298912'], kwargs=None)], '1052663867610175942': ['1177', CallNode(function='Abstraction.__call__', type_params={'U': DeclaredTypeInstance(type='Abstraction', params={'U': DeclaredTypeInstance(type='Abstraction', params={'U': DeclaredTypeInstance(type='Integer', params=None), 'T': DeclaredTypeInstance(type='Integer', params=None)}), 'T': DeclaredTypeInstance(type='Integer', params=None)}), 'T': DeclaredTypeInstance(type='Integer', params=None)}, args=['-6049179160059621010', '6460412911337626311'], kwargs=None)], '9153769995995055335': ['1178', CallNode(function='Abstraction.__call__', type_params={'U': DeclaredTypeInstance(type='Abstraction', params={'U': DeclaredTypeInstance(type='Integer', params=None), 'T': DeclaredTypeInstance(type='Integer', params=None)}), 'T': DeclaredTypeInstance(type='Integer', params=None)}, args=['1052663867610175942', '6460412911337626311'], kwargs=None)], '7598085092712852217': ['4', CallNode(function='Abstraction.__call__', type_params={'U': DeclaredTypeInstance(type='Integer', params=None), 'T': DeclaredTypeInstance(type='Integer', params=None)}, args=['9153769995995055335', '-807141446486382998'], kwargs=None)], '2844014503435014964': ['1177', CallNode(function='Abstraction.__call__', type_params={'U': DeclaredTypeInstance(type='Abstraction', params={'U': DeclaredTypeInstance(type='Abstraction', params={'U': DeclaredTypeInstance(type='Integer', params=None), 'T': DeclaredTypeInstance(type='Integer', params=None)}), 'T': DeclaredTypeInstance(type='Integer', params=None)}), 'T': DeclaredTypeInstance(type='Integer', params=None)}, args=['7192003423984924808', '6460412911337626311'], kwargs=None)], '1709609031923785518': ['1178', CallNode(function='Abstraction.__call__', type_params={'U': DeclaredTypeInstance(type='Abstraction', params={'U': DeclaredTypeInstance(type='Integer', params=None), 'T': DeclaredTypeInstance(type='Integer', params=None)}), 'T': DeclaredTypeInstance(type='Integer', params=None)}, args=['2844014503435014964', '6460412911337626311'], kwargs=None)], '3902531749259673212': ['4', CallNode(function='Abstraction.__call__', type_params={'U': DeclaredTypeInstance(type='Integer', params=None), 'T': DeclaredTypeInstance(type='Integer', params=None)}, args=['1709609031923785518', '-807141446486382998'], kwargs=None)], '8947543312146021245': ['1309', CallNode(function='Integer.__gt__', type_params=None, args=['6460412911337626311', '-2709874245198447753'], kwargs=None)], '5585042476904223796': ['1332', CallNode(function='Integer.__sub__', type_params=None, args=['6460412911337626311', '-2709874245198447753'], kwargs=None)], '6651684258556635474': ['1333', CallNode(function='Abstraction.__call__', type_params={'U': DeclaredTypeInstance(type='Abstraction', params={'U': DeclaredTypeInstance(type='Abstraction', params={'U': DeclaredTypeInstance(type='Integer', params=None), 'T': DeclaredTypeInstance(type='Integer', params=None)}), 'T': DeclaredTypeInstance(type='Integer', params=None)}), 'T': DeclaredTypeInstance(type='Integer', params=None)}, args=['-1872445906533970845', '5585042476904223796'], kwargs=None)], '-4443212575559713586': ['1299', CallNode(function='Abstraction.__call__', type_params={'U': DeclaredTypeInstance(type='Abstraction', params={'U': DeclaredTypeInstance(type='Integer', params=None), 'T': DeclaredTypeInstance(type='Integer', params=None)}), 'T': DeclaredTypeInstance(type='Integer', params=None)}, args=['6651684258556635474', '-5424093814210459874'], kwargs=None)], '-1966895916707397631': ['1265', CallNode(function='Abstraction.__call__', type_params={'U': DeclaredTypeInstance(type='Integer', params=None), 'T': DeclaredTypeInstance(type='Integer', params=None)}, args=['-4443212575559713586', '-7176269575796675394'], kwargs=None)], '7037510580304497833': ['1339', CallNode(function='Integer.eq', type_params=None, args=['6460412911337626311', '-2709874245198447753'], kwargs=None)], '787385674907418545': ['1267', CallNode(function='Boolean.if_', type_params=None, args=['7037510580304497833', '-5424093814210459874', '-3589837022479227720'], kwargs=None)], '6316149179579271157': ['1268', CallNode(function='Boolean.if_', type_params=None, args=['8947543312146021245', '-1966895916707397631', '787385674907418545'], kwargs=None)], '7134541812458608113': ['1269', CallNode(function='Abstraction.create', type_params={'U': DeclaredTypeInstance(type='Integer', params=None), 'T': DeclaredTypeInstance(type='Integer', params=None)}, args=['-5424093814210459874', '6316149179579271157'], kwargs=None)], '-514211328332270769': ['1177', CallNode(function='Abstraction.create', type_params={'U': DeclaredTypeInstance(type='Abstraction', params={'U': DeclaredTypeInstance(type='Integer', params=None), 'T': DeclaredTypeInstance(type='Integer', params=None)}), 'T': DeclaredTypeInstance(type='Integer', params=None)}, args=['-3589837022479227720', '7134541812458608113'], kwargs=None)], '-5443258326517837687': ['1178', CallNode(function='Abstraction.__call__', type_params={'U': DeclaredTypeInstance(type='Abstraction', params={'U': DeclaredTypeInstance(type='Integer', params=None), 'T': DeclaredTypeInstance(type='Integer', params=None)}), 'T': DeclaredTypeInstance(type='Integer', params=None)}, args=['-514211328332270769', '6460412911337626311'], kwargs=None)], '-3051882958207759886': ['4', CallNode(function='Abstraction.__call__', type_params={'U': DeclaredTypeInstance(type='Integer', params=None), 'T': DeclaredTypeInstance(type='Integer', params=None)}, args=['-5443258326517837687', '-807141446486382998'], kwargs=None)], '8242890977568942088': ['1300', CallNode(function='Integer.__add__', type_params=None, args=['6460412911337626311', '-5424093814210459874'], kwargs=None)], '-3144755692158465336': ['1301', CallNode(function='Abstraction.__call__', type_params={'U': DeclaredTypeInstance(type='Integer', params=None), 'T': DeclaredTypeInstance(type='Integer', params=None)}, args=['-4443212575559713586', '8242890977568942088'], kwargs=None)], '-9022754986961483136': ['1303', CallNode(function='Boolean.if_', type_params=None, args=['7037510580304497833', '-5424093814210459874', '6460412911337626311'], kwargs=None)], '-6086490831062278601': ['1304', CallNode(function='Boolean.if_', type_params=None, args=['8947543312146021245', '-3144755692158465336', '-9022754986961483136'], kwargs=None)], '-3149881222574482240': ['1178', CallNode(function='Abstraction.create', type_params={'U': DeclaredTypeInstance(type='Integer', params=None), 'T': DeclaredTypeInstance(type='Integer', params=None)}, args=['-5424093814210459874', '-6086490831062278601'], kwargs=None)], '-7623049584693957873': ['4', CallNode(function='Abstraction.__call__', type_params={'U': DeclaredTypeInstance(type='Integer', params=None), 'T': DeclaredTypeInstance(type='Integer', params=None)}, args=['-3149881222574482240', '-807141446486382998'], kwargs=None)], '-460023881515603218': ['1336', CallNode(function='Abstraction.__call__', type_params={'U': DeclaredTypeInstance(type='Abstraction', params={'U': DeclaredTypeInstance(type='Integer', params=None), 'T': DeclaredTypeInstance(type='Integer', params=None)}), 'T': DeclaredTypeInstance(type='Integer', params=None)}, args=['6651684258556635474', '-807141446486382998'], kwargs=None)], '6057851584705040754': ['1337', CallNode(function='Integer.__add__', type_params=None, args=['6460412911337626311', '-807141446486382998'], kwargs=None)], '-1447368936376717486': ['1338', CallNode(function='Abstraction.__call__', type_params={'U': DeclaredTypeInstance(type='Integer', params=None), 'T': DeclaredTypeInstance(type='Integer', params=None)}, args=['-460023881515603218', '6057851584705040754'], kwargs=None)], '-6221961394206801781': ['1340', CallNode(function='Boolean.if_', type_params=None, args=['7037510580304497833', '-807141446486382998', '6460412911337626311'], kwargs=None)], '4103517931935974456': ['4', CallNode(function='Boolean.if_', type_params=None, args=['8947543312146021245', '-1447368936376717486', '-6221961394206801781'], kwargs=None)], '6375174475155724424': ['1340', CallNode(function='Boolean.if_', type_params=None, args=['1430599728253316827', '-807141446486382998', '6460412911337626311'], kwargs=None)], '4722612731601508256': ['4', CallNode(function='Boolean.if_', type_params=None, args=['8947543312146021245', '-1447368936376717486', '6375174475155724424'], kwargs=None)], '-8326640809299790576': ['4', CallNode(function='Boolean.if_', type_params=None, args=['8947543312146021245', '-1447368936376717486', '6460412911337626311'], kwargs=None)], '-5590795980211330365': ['1735', PrimitiveNode(type='int', repr='13')], '2880972934891874091': ['1736', CallNode(function='Integer.from_int', type_params=None, args=['-5590795980211330365'], kwargs=None)], '1843948830974582172': ['1338', CallNode(function='Abstraction.__call__', type_params={'U': DeclaredTypeInstance(type='Integer', params=None), 'T': DeclaredTypeInstance(type='Integer', params=None)}, args=['-460023881515603218', '2880972934891874091'], kwargs=None)], '4332147005735943971': ['4', CallNode(function='Boolean.if_', type_params=None, args=['8947543312146021245', '1843948830974582172', '6460412911337626311'], kwargs=None)], '8686755194847750846': ['1503', PrimitiveNode(type='int', repr='4')], '-4389127747206091960': ['1504', CallNode(function='Integer.from_int', type_params=None, args=['8686755194847750846'], kwargs=None)], '7744595225220961948': ['1371', CallNode(function='Abstraction.__call__', type_params={'U': DeclaredTypeInstance(type='Abstraction', params={'U': DeclaredTypeInstance(type='Abstraction', params={'U': DeclaredTypeInstance(type='Integer', params=None), 'T': DeclaredTypeInstance(type='Integer', params=None)}), 'T': DeclaredTypeInstance(type='Integer', params=None)}), 'T': DeclaredTypeInstance(type='Integer', params=None)}, args=['-1872445906533970845', '-4389127747206091960'], kwargs=None)], '2943933769287712280': ['1374', CallNode(function='Abstraction.__call__', type_params={'U': DeclaredTypeInstance(type='Abstraction', params={'U': DeclaredTypeInstance(type='Integer', params=None), 'T': DeclaredTypeInstance(type='Integer', params=None)}), 'T': DeclaredTypeInstance(type='Integer', params=None)}, args=['7744595225220961948', '-807141446486382998'], kwargs=None)], '-6570485500604829551': ['4', CallNode(function='Abstraction.__call__', type_params={'U': DeclaredTypeInstance(type='Integer', params=None), 'T': DeclaredTypeInstance(type='Integer', params=None)}, args=['2943933769287712280', '2880972934891874091'], kwargs=None)], '-595954427610929056': ['4', CallNode(function='Boolean.if_', type_params=None, args=['8947543312146021245', '-6570485500604829551', '6460412911337626311'], kwargs=None)], '-7615870743718692864': ['4', CallNode(function='Boolean.if_', type_params=None, args=['-7694504097016980406', '-6570485500604829551', '6460412911337626311'], kwargs=None)], '-4939178898422107345': ['1371', CallNode(function='Abstraction.__call__', type_params={'U': DeclaredTypeInstance(type='Abstraction', params={'U': DeclaredTypeInstance(type='Abstraction', params={'U': DeclaredTypeInstance(type='Integer', params=None), 'T': DeclaredTypeInstance(type='Integer', params=None)}), 'T': DeclaredTypeInstance(type='Integer', params=None)}), 'T': DeclaredTypeInstance(type='Integer', params=None)}, args=['-6049179160059621010', '-4389127747206091960'], kwargs=None)], '-2900630358783526205': ['1374', CallNode(function='Abstraction.__call__', type_params={'U': DeclaredTypeInstance(type='Abstraction', params={'U': DeclaredTypeInstance(type='Integer', params=None), 'T': DeclaredTypeInstance(type='Integer', params=None)}), 'T': DeclaredTypeInstance(type='Integer', params=None)}, args=['-4939178898422107345', '-807141446486382998'], kwargs=None)], '4001151789808751393': ['4', CallNode(function='Abstraction.__call__', type_params={'U': DeclaredTypeInstance(type='Integer', params=None), 'T': DeclaredTypeInstance(type='Integer', params=None)}, args=['-2900630358783526205', '2880972934891874091'], kwargs=None)], '-3147828262597268323': ['1371', CallNode(function='Abstraction.__call__', type_params={'U': DeclaredTypeInstance(type='Abstraction', params={'U': DeclaredTypeInstance(type='Abstraction', params={'U': DeclaredTypeInstance(type='Integer', params=None), 'T': DeclaredTypeInstance(type='Integer', params=None)}), 'T': DeclaredTypeInstance(type='Integer', params=None)}), 'T': DeclaredTypeInstance(type='Integer', params=None)}, args=['7192003423984924808', '-4389127747206091960'], kwargs=None)], '1334404697358393174': ['1374', CallNode(function='Abstraction.__call__', type_params={'U': DeclaredTypeInstance(type='Abstraction', params={'U': DeclaredTypeInstance(type='Integer', params=None), 'T': DeclaredTypeInstance(type='Integer', params=None)}), 'T': DeclaredTypeInstance(type='Integer', params=None)}, args=['-3147828262597268323', '-807141446486382998'], kwargs=None)], '4387608530524038612': ['4', CallNode(function='Abstraction.__call__', type_params={'U': DeclaredTypeInstance(type='Integer', params=None), 'T': DeclaredTypeInstance(type='Integer', params=None)}, args=['1334404697358393174', '2880972934891874091'], kwargs=None)], '7709347977351142111': ['1507', CallNode(function='Integer.__gt__', type_params=None, args=['-4389127747206091960', '-2709874245198447753'], kwargs=None)], '-1323292445157527427': ['1530', CallNode(function='Integer.__sub__', type_params=None, args=['-4389127747206091960', '-2709874245198447753'], kwargs=None)], '-2533334673309768806': ['1531', CallNode(function='Abstraction.__call__', type_params={'U': DeclaredTypeInstance(type='Abstraction', params={'U': DeclaredTypeInstance(type='Abstraction', params={'U': DeclaredTypeInstance(type='Integer', params=None), 'T': DeclaredTypeInstance(type='Integer', params=None)}), 'T': DeclaredTypeInstance(type='Integer', params=None)}), 'T': DeclaredTypeInstance(type='Integer', params=None)}, args=['-1872445906533970845', '-1323292445157527427'], kwargs=None)], '7107526529920497911': ['1495', CallNode(function='Abstraction.__call__', type_params={'U': DeclaredTypeInstance(type='Abstraction', params={'U': DeclaredTypeInstance(type='Integer', params=None), 'T': DeclaredTypeInstance(type='Integer', params=None)}), 'T': DeclaredTypeInstance(type='Integer', params=None)}, args=['-2533334673309768806', '-5424093814210459874'], kwargs=None)], '-177319682818022094': ['1461', CallNode(function='Abstraction.__call__', type_params={'U': DeclaredTypeInstance(type='Integer', params=None), 'T': DeclaredTypeInstance(type='Integer', params=None)}, args=['7107526529920497911', '-7176269575796675394'], kwargs=None)], '-7759673457477519007': ['1539', CallNode(function='Integer.eq', type_params=None, args=['-4389127747206091960', '-2709874245198447753'], kwargs=None)], '-5678269782707994142': ['1463', CallNode(function='Boolean.if_', type_params=None, args=['-7759673457477519007', '-5424093814210459874', '-3589837022479227720'], kwargs=None)], '-4301641197055813626': ['1464', CallNode(function='Boolean.if_', type_params=None, args=['7709347977351142111', '-177319682818022094', '-5678269782707994142'], kwargs=None)], '2852709524006975560': ['1465', CallNode(function='Abstraction.create', type_params={'U': DeclaredTypeInstance(type='Integer', params=None), 'T': DeclaredTypeInstance(type='Integer', params=None)}, args=['-5424093814210459874', '-4301641197055813626'], kwargs=None)], '-3353729048366871831': ['1371', CallNode(function='Abstraction.create', type_params={'U': DeclaredTypeInstance(type='Abstraction', params={'U': DeclaredTypeInstance(type='Integer', params=None), 'T': DeclaredTypeInstance(type='Integer', params=None)}), 'T': DeclaredTypeInstance(type='Integer', params=None)}, args=['-3589837022479227720', '2852709524006975560'], kwargs=None)], '3752474179645308153': ['1374', CallNode(function='Abstraction.__call__', type_params={'U': DeclaredTypeInstance(type='Abstraction', params={'U': DeclaredTypeInstance(type='Integer', params=None), 'T': DeclaredTypeInstance(type='Integer', params=None)}), 'T': DeclaredTypeInstance(type='Integer', params=None)}, args=['-3353729048366871831', '-807141446486382998'], kwargs=None)], '-3913899839426883407': ['4', CallNode(function='Abstraction.__call__', type_params={'U': DeclaredTypeInstance(type='Integer', params=None), 'T': DeclaredTypeInstance(type='Integer', params=None)}, args=['3752474179645308153', '2880972934891874091'], kwargs=None)], '3257372601715975699': ['1498', CallNode(function='Integer.__add__', type_params=None, args=['-807141446486382998', '-5424093814210459874'], kwargs=None)], '-298918658491096700': ['1499', CallNode(function='Abstraction.__call__', type_params={'U': DeclaredTypeInstance(type='Integer', params=None), 'T': DeclaredTypeInstance(type='Integer', params=None)}, args=['7107526529920497911', '3257372601715975699'], kwargs=None)], '5050744066547836421': ['1501', CallNode(function='Boolean.if_', type_params=None, args=['-7759673457477519007', '-5424093814210459874', '-807141446486382998'], kwargs=None)], '-2219963984981441563': ['1502', CallNode(function='Boolean.if_', type_params=None, args=['7709347977351142111', '-298918658491096700', '5050744066547836421'], kwargs=None)], '-7818357850485162327': ['1374', CallNode(function='Abstraction.create', type_params={'U': DeclaredTypeInstance(type='Integer', params=None), 'T': DeclaredTypeInstance(type='Integer', params=None)}, args=['-5424093814210459874', '-2219963984981441563'], kwargs=None)], '-7409168338254583045': ['4', CallNode(function='Abstraction.__call__', type_params={'U': DeclaredTypeInstance(type='Integer', params=None), 'T': DeclaredTypeInstance(type='Integer', params=None)}, args=['-7818357850485162327', '2880972934891874091'], kwargs=None)], '-5724940749907970172': ['1534', CallNode(function='Abstraction.__call__', type_params={'U': DeclaredTypeInstance(type='Abstraction', params={'U': DeclaredTypeInstance(type='Integer', params=None), 'T': DeclaredTypeInstance(type='Integer', params=None)}), 'T': DeclaredTypeInstance(type='Integer', params=None)}, args=['-2533334673309768806', '2880972934891874091'], kwargs=None)], '8673918263114747962': ['1537', CallNode(function='Integer.__add__', type_params=None, args=['-807141446486382998', '2880972934891874091'], kwargs=None)], '-4188347793400235236': ['1538', CallNode(function='Abstraction.__call__', type_params={'U': DeclaredTypeInstance(type='Integer', params=None), 'T': DeclaredTypeInstance(type='Integer', params=None)}, args=['-5724940749907970172', '8673918263114747962'], kwargs=None)], '7285747321743561538': ['1540', CallNode(function='Boolean.if_', type_params=None, args=['-7759673457477519007', '2880972934891874091', '-807141446486382998'], kwargs=None)], '4388970976530863159': ['4', CallNode(function='Boolean.if_', type_params=None, args=['7709347977351142111', '-4188347793400235236', '7285747321743561538'], kwargs=None)], '5326915675412204186': ['1540', CallNode(function='Boolean.if_', type_params=None, args=['1430599728253316827', '2880972934891874091', '-807141446486382998'], kwargs=None)], '4709041280137040239': ['4', CallNode(function='Boolean.if_', type_params=None, args=['7709347977351142111', '-4188347793400235236', '5326915675412204186'], kwargs=None)], '738178980769293309': ['4', CallNode(function='Boolean.if_', type_params=None, args=['7709347977351142111', '-4188347793400235236', '-807141446486382998'], kwargs=None)], '3471470947411836406': ['1935', PrimitiveNode(type='int', repr='21')], '-3763664595638790119': ['1936', CallNode(function='Integer.from_int', type_params=None, args=['3471470947411836406'], kwargs=None)], '4106961276674281287': ['1538', CallNode(function='Abstraction.__call__', type_params={'U': DeclaredTypeInstance(type='Integer', params=None), 'T': DeclaredTypeInstance(type='Integer', params=None)}, args=['-5724940749907970172', '-3763664595638790119'], kwargs=None)], '-2653737741108419505': ['4', CallNode(function='Boolean.if_', type_params=None, args=['7709347977351142111', '4106961276674281287', '-807141446486382998'], kwargs=None)], '-4632016820018700821': ['1571', CallNode(function='Abstraction.__call__', type_params={'U': DeclaredTypeInstance(type='Abstraction', params={'U': DeclaredTypeInstance(type='Abstraction', params={'U': DeclaredTypeInstance(type='Integer', params=None), 'T': DeclaredTypeInstance(type='Integer', params=None)}), 'T': DeclaredTypeInstance(type='Integer', params=None)}), 'T': DeclaredTypeInstance(type='Integer', params=None)}, args=['-1872445906533970845', '5097506971461298912'], kwargs=None)], '3823202512307014310': ['1574', CallNode(function='Abstraction.__call__', type_params={'U': DeclaredTypeInstance(type='Abstraction', params={'U': DeclaredTypeInstance(type='Integer', params=None), 'T': DeclaredTypeInstance(type='Integer', params=None)}), 'T': DeclaredTypeInstance(type='Integer', params=None)}, args=['-4632016820018700821', '2880972934891874091'], kwargs=None)], '9012655738063201556': ['4', CallNode(function='Abstraction.__call__', type_params={'U': DeclaredTypeInstance(type='Integer', params=None), 'T': DeclaredTypeInstance(type='Integer', params=None)}, args=['3823202512307014310', '-3763664595638790119'], kwargs=None)], '8827599958093938606': ['4', CallNode(function='Boolean.if_', type_params=None, args=['7709347977351142111', '9012655738063201556', '-807141446486382998'], kwargs=None)], '5132727242757789410': ['4', CallNode(function='Boolean.if_', type_params=None, args=['-7694504097016980406', '9012655738063201556', '-807141446486382998'], kwargs=None)], '253151928320936379': ['1571', CallNode(function='Abstraction.__call__', type_params={'U': DeclaredTypeInstance(type='Abstraction', params={'U': DeclaredTypeInstance(type='Abstraction', params={'U': DeclaredTypeInstance(type='Integer', params=None), 'T': DeclaredTypeInstance(type='Integer', params=None)}), 'T': DeclaredTypeInstance(type='Integer', params=None)}), 'T': DeclaredTypeInstance(type='Integer', params=None)}, args=['-6049179160059621010', '5097506971461298912'], kwargs=None)], '6316054561518859090': ['1574', CallNode(function='Abstraction.__call__', type_params={'U': DeclaredTypeInstance(type='Abstraction', params={'U': DeclaredTypeInstance(type='Integer', params=None), 'T': DeclaredTypeInstance(type='Integer', params=None)}), 'T': DeclaredTypeInstance(type='Integer', params=None)}, args=['253151928320936379', '2880972934891874091'], kwargs=None)], '-3364381747267514194': ['4', CallNode(function='Abstraction.__call__', type_params={'U': DeclaredTypeInstance(type='Integer', params=None), 'T': DeclaredTypeInstance(type='Integer', params=None)}, args=['6316054561518859090', '-3763664595638790119'], kwargs=None)], '2044502564145775401': ['1571', CallNode(function='Abstraction.__call__', type_params={'U': DeclaredTypeInstance(type='Abstraction', params={'U': DeclaredTypeInstance(type='Abstraction', params={'U': DeclaredTypeInstance(type='Integer', params=None), 'T': DeclaredTypeInstance(type='Integer', params=None)}), 'T': DeclaredTypeInstance(type='Integer', params=None)}), 'T': DeclaredTypeInstance(type='Integer', params=None)}, args=['7192003423984924808', '5097506971461298912'], kwargs=None)], '8858753719334594095': ['1574', CallNode(function='Abstraction.__call__', type_params={'U': DeclaredTypeInstance(type='Abstraction', params={'U': DeclaredTypeInstance(type='Integer', params=None), 'T': DeclaredTypeInstance(type='Integer', params=None)}), 'T': DeclaredTypeInstance(type='Integer', params=None)}, args=['2044502564145775401', '2880972934891874091'], kwargs=None)], '2273911018844196594': ['4', CallNode(function='Abstraction.__call__', type_params={'U': DeclaredTypeInstance(type='Integer', params=None), 'T': DeclaredTypeInstance(type='Integer', params=None)}, args=['8858753719334594095', '-3763664595638790119'], kwargs=None)], '-7976381005861746498': ['1707', CallNode(function='Integer.__gt__', type_params=None, args=['5097506971461298912', '-2709874245198447753'], kwargs=None)], '-5608306643295721245': ['1730', CallNode(function='Integer.__sub__', type_params=None, args=['5097506971461298912', '-2709874245198447753'], kwargs=None)], '-61676433736038940': ['1731', CallNode(function='Abstraction.__call__', type_params={'U': DeclaredTypeInstance(type='Abstraction', params={'U': DeclaredTypeInstance(type='Abstraction', params={'U': DeclaredTypeInstance(type='Integer', params=None), 'T': DeclaredTypeInstance(type='Integer', params=None)}), 'T': DeclaredTypeInstance(type='Integer', params=None)}), 'T': DeclaredTypeInstance(type='Integer', params=None)}, args=['-1872445906533970845', '-5608306643295721245'], kwargs=None)], '-5112228396154281634': ['1695', CallNode(function='Abstraction.__call__', type_params={'U': DeclaredTypeInstance(type='Abstraction', params={'U': DeclaredTypeInstance(type='Integer', params=None), 'T': DeclaredTypeInstance(type='Integer', params=None)}), 'T': DeclaredTypeInstance(type='Integer', params=None)}, args=['-61676433736038940', '-5424093814210459874'], kwargs=None)], '2597223290409949548': ['1661', CallNode(function='Abstraction.__call__', type_params={'U': DeclaredTypeInstance(type='Integer', params=None), 'T': DeclaredTypeInstance(type='Integer', params=None)}, args=['-5112228396154281634', '-7176269575796675394'], kwargs=None)], '6402056418093838791': ['1739', CallNode(function='Integer.eq', type_params=None, args=['5097506971461298912', '-2709874245198447753'], kwargs=None)], '6312975230971636367': ['1663', CallNode(function='Boolean.if_', type_params=None, args=['6402056418093838791', '-5424093814210459874', '-3589837022479227720'], kwargs=None)], '-4335706772558633662': ['1664', CallNode(function='Boolean.if_', type_params=None, args=['-7976381005861746498', '2597223290409949548', '6312975230971636367'], kwargs=None)], '-2475248754934642502': ['1665', CallNode(function='Abstraction.create', type_params={'U': DeclaredTypeInstance(type='Integer', params=None), 'T': DeclaredTypeInstance(type='Integer', params=None)}, args=['-5424093814210459874', '-4335706772558633662'], kwargs=None)], '-5128371292008171051': ['1571', CallNode(function='Abstraction.create', type_params={'U': DeclaredTypeInstance(type='Abstraction', params={'U': DeclaredTypeInstance(type='Integer', params=None), 'T': DeclaredTypeInstance(type='Integer', params=None)}), 'T': DeclaredTypeInstance(type='Integer', params=None)}, args=['-3589837022479227720', '-2475248754934642502'], kwargs=None)], '4981348015777896178': ['1574', CallNode(function='Abstraction.__call__', type_params={'U': DeclaredTypeInstance(type='Abstraction', params={'U': DeclaredTypeInstance(type='Integer', params=None), 'T': DeclaredTypeInstance(type='Integer', params=None)}), 'T': DeclaredTypeInstance(type='Integer', params=None)}, args=['-5128371292008171051', '2880972934891874091'], kwargs=None)], '1328115795881504315': ['4', CallNode(function='Abstraction.__call__', type_params={'U': DeclaredTypeInstance(type='Integer', params=None), 'T': DeclaredTypeInstance(type='Integer', params=None)}, args=['4981348015777896178', '-3763664595638790119'], kwargs=None)], '-2728699673575525134': ['1698', CallNode(function='Integer.__add__', type_params=None, args=['2880972934891874091', '-5424093814210459874'], kwargs=None)], '4154240561729494206': ['1699', CallNode(function='Abstraction.__call__', type_params={'U': DeclaredTypeInstance(type='Integer', params=None), 'T': DeclaredTypeInstance(type='Integer', params=None)}, args=['-5112228396154281634', '-2728699673575525134'], kwargs=None)], '5491305755636540776': ['1701', CallNode(function='Boolean.if_', type_params=None, args=['6402056418093838791', '-5424093814210459874', '2880972934891874091'], kwargs=None)], '3959199155064126360': ['1702', CallNode(function='Boolean.if_', type_params=None, args=['-7976381005861746498', '4154240561729494206', '5491305755636540776'], kwargs=None)], '-3609943587740497065': ['1574', CallNode(function='Abstraction.create', type_params={'U': DeclaredTypeInstance(type='Integer', params=None), 'T': DeclaredTypeInstance(type='Integer', params=None)}, args=['-5424093814210459874', '3959199155064126360'], kwargs=None)], '5417838493779176615': ['4', CallNode(function='Abstraction.__call__', type_params={'U': DeclaredTypeInstance(type='Integer', params=None), 'T': DeclaredTypeInstance(type='Integer', params=None)}, args=['-3609943587740497065', '-3763664595638790119'], kwargs=None)], '2477665002308615129': ['1734', CallNode(function='Abstraction.__call__', type_params={'U': DeclaredTypeInstance(type='Abstraction', params={'U': DeclaredTypeInstance(type='Integer', params=None), 'T': DeclaredTypeInstance(type='Integer', params=None)}), 'T': DeclaredTypeInstance(type='Integer', params=None)}, args=['-61676433736038940', '-3763664595638790119'], kwargs=None)], '6193411539710826203': ['1737', CallNode(function='Integer.__add__', type_params=None, args=['2880972934891874091', '-3763664595638790119'], kwargs=None)], '-1252543407414992244': ['1738', CallNode(function='Abstraction.__call__', type_params={'U': DeclaredTypeInstance(type='Integer', params=None), 'T': DeclaredTypeInstance(type='Integer', params=None)}, args=['2477665002308615129', '6193411539710826203'], kwargs=None)], '8889822940216474803': ['1740', CallNode(function='Boolean.if_', type_params=None, args=['6402056418093838791', '-3763664595638790119', '2880972934891874091'], kwargs=None)], '4978699267633369825': ['4', CallNode(function='Boolean.if_', type_params=None, args=['-7976381005861746498', '-1252543407414992244', '8889822940216474803'], kwargs=None)], '3871893887292460711': ['1740', CallNode(function='Boolean.if_', type_params=None, args=['1430599728253316827', '-3763664595638790119', '2880972934891874091'], kwargs=None)], '-1010406287580477511': ['4', CallNode(function='Boolean.if_', type_params=None, args=['-7976381005861746498', '-1252543407414992244', '3871893887292460711'], kwargs=None)], '-214890901606545206': ['4', CallNode(function='Boolean.if_', type_params=None, args=['-7976381005861746498', '-1252543407414992244', '2880972934891874091'], kwargs=None)], '6471439917336542801': ['2126', PrimitiveNode(type='int', repr='34')], '426075460217857655': ['2127', CallNode(function='Integer.from_int', type_params=None, args=['6471439917336542801'], kwargs=None)], '-2808053823162298186': ['1738', CallNode(function='Abstraction.__call__', type_params={'U': DeclaredTypeInstance(type='Integer', params=None), 'T': DeclaredTypeInstance(type='Integer', params=None)}, args=['2477665002308615129', '426075460217857655'], kwargs=None)], '8686038643785783977': ['4', CallNode(function='Boolean.if_', type_params=None, args=['-7976381005861746498', '-2808053823162298186', '2880972934891874091'], kwargs=None)], '-8741767410507895102': ['1771', CallNode(function='Abstraction.__call__', type_params={'U': DeclaredTypeInstance(type='Abstraction', params={'U': DeclaredTypeInstance(type='Abstraction', params={'U': DeclaredTypeInstance(type='Integer', params=None), 'T': DeclaredTypeInstance(type='Integer', params=None)}), 'T': DeclaredTypeInstance(type='Integer', params=None)}), 'T': DeclaredTypeInstance(type='Integer', params=None)}, args=['-1872445906533970845', '-2836458671663647227'], kwargs=None)], '7125955535146444965': ['1774', CallNode(function='Abstraction.__call__', type_params={'U': DeclaredTypeInstance(type='Abstraction', params={'U': DeclaredTypeInstance(type='Integer', params=None), 'T': DeclaredTypeInstance(type='Integer', params=None)}), 'T': DeclaredTypeInstance(type='Integer', params=None)}, args=['-8741767410507895102', '-3763664595638790119'], kwargs=None)], '6325804655016651525': ['4', CallNode(function='Abstraction.__call__', type_params={'U': DeclaredTypeInstance(type='Integer', params=None), 'T': DeclaredTypeInstance(type='Integer', params=None)}, args=['7125955535146444965', '426075460217857655'], kwargs=None)], '-2936472015581425190': ['4', CallNode(function='Boolean.if_', type_params=None, args=['-7976381005861746498', '6325804655016651525', '2880972934891874091'], kwargs=None)], '9089165338363271778': ['4', CallNode(function='Boolean.if_', type_params=None, args=['-7694504097016980406', '6325804655016651525', '2880972934891874091'], kwargs=None)], '-2978797460441412779': ['1771', CallNode(function='Abstraction.__call__', type_params={'U': DeclaredTypeInstance(type='Abstraction', params={'U': DeclaredTypeInstance(type='Abstraction', params={'U': DeclaredTypeInstance(type='Integer', params=None), 'T': DeclaredTypeInstance(type='Integer', params=None)}), 'T': DeclaredTypeInstance(type='Integer', params=None)}), 'T': DeclaredTypeInstance(type='Integer', params=None)}, args=['-6049179160059621010', '-2836458671663647227'], kwargs=None)], '7741775503433722613': ['1774', CallNode(function='Abstraction.__call__', type_params={'U': DeclaredTypeInstance(type='Abstraction', params={'U': DeclaredTypeInstance(type='Integer', params=None), 'T': DeclaredTypeInstance(type='Integer', params=None)}), 'T': DeclaredTypeInstance(type='Integer', params=None)}, args=['-2978797460441412779', '-3763664595638790119'], kwargs=None)], '5652241350594340850': ['4', CallNode(function='Abstraction.__call__', type_params={'U': DeclaredTypeInstance(type='Integer', params=None), 'T': DeclaredTypeInstance(type='Integer', params=None)}, args=['7741775503433722613', '426075460217857655'], kwargs=None)], '4543128373191248945': ['1771', CallNode(function='Abstraction.__call__', type_params={'U': DeclaredTypeInstance(type='Abstraction', params={'U': DeclaredTypeInstance(type='Abstraction', params={'U': DeclaredTypeInstance(type='Integer', params=None), 'T': DeclaredTypeInstance(type='Integer', params=None)}), 'T': DeclaredTypeInstance(type='Integer', params=None)}), 'T': DeclaredTypeInstance(type='Integer', params=None)}, args=['7192003423984924808', '-2836458671663647227'], kwargs=None)], '-2561529308478450936': ['1774', CallNode(function='Abstraction.__call__', type_params={'U': DeclaredTypeInstance(type='Abstraction', params={'U': DeclaredTypeInstance(type='Integer', params=None), 'T': DeclaredTypeInstance(type='Integer', params=None)}), 'T': DeclaredTypeInstance(type='Integer', params=None)}, args=['4543128373191248945', '-3763664595638790119'], kwargs=None)], '6876917560684260141': ['4', CallNode(function='Abstraction.__call__', type_params={'U': DeclaredTypeInstance(type='Integer', params=None), 'T': DeclaredTypeInstance(type='Integer', params=None)}, args=['-2561529308478450936', '426075460217857655'], kwargs=None)], '-4903986342512942149': ['1907', CallNode(function='Integer.__gt__', type_params=None, args=['-2836458671663647227', '-2709874245198447753'], kwargs=None)], '-377638062034473981': ['1930', CallNode(function='Integer.__sub__', type_params=None, args=['-2836458671663647227', '-2709874245198447753'], kwargs=None)], '-3096293770195600059': ['1931', CallNode(function='Abstraction.__call__', type_params={'U': DeclaredTypeInstance(type='Abstraction', params={'U': DeclaredTypeInstance(type='Abstraction', params={'U': DeclaredTypeInstance(type='Integer', params=None), 'T': DeclaredTypeInstance(type='Integer', params=None)}), 'T': DeclaredTypeInstance(type='Integer', params=None)}), 'T': DeclaredTypeInstance(type='Integer', params=None)}, args=['-1872445906533970845', '-377638062034473981'], kwargs=None)], '-641214032171393634': ['1895', CallNode(function='Abstraction.__call__', type_params={'U': DeclaredTypeInstance(type='Abstraction', params={'U': DeclaredTypeInstance(type='Integer', params=None), 'T': DeclaredTypeInstance(type='Integer', params=None)}), 'T': DeclaredTypeInstance(type='Integer', params=None)}, args=['-3096293770195600059', '-5424093814210459874'], kwargs=None)], '-7273593453774887249': ['1861', CallNode(function='Abstraction.__call__', type_params={'U': DeclaredTypeInstance(type='Integer', params=None), 'T': DeclaredTypeInstance(type='Integer', params=None)}, args=['-641214032171393634', '-7176269575796675394'], kwargs=None)], '-1083443876546642859': ['1939', CallNode(function='Integer.eq', type_params=None, args=['-2836458671663647227', '-2709874245198447753'], kwargs=None)], '-7955138184593606182': ['1863', CallNode(function='Boolean.if_', type_params=None, args=['-1083443876546642859', '-5424093814210459874', '-3589837022479227720'], kwargs=None)], '-2465353763257484938': ['1864', CallNode(function='Boolean.if_', type_params=None, args=['-4903986342512942149', '-7273593453774887249', '-7955138184593606182'], kwargs=None)], '-4508821757461522033': ['1865', CallNode(function='Abstraction.create', type_params={'U': DeclaredTypeInstance(type='Integer', params=None), 'T': DeclaredTypeInstance(type='Integer', params=None)}, args=['-5424093814210459874', '-2465353763257484938'], kwargs=None)], '3098746497722107792': ['1771', CallNode(function='Abstraction.create', type_params={'U': DeclaredTypeInstance(type='Abstraction', params={'U': DeclaredTypeInstance(type='Integer', params=None), 'T': DeclaredTypeInstance(type='Integer', params=None)}), 'T': DeclaredTypeInstance(type='Integer', params=None)}, args=['-3589837022479227720', '-4508821757461522033'], kwargs=None)], '-2909164352820212039': ['1774', CallNode(function='Abstraction.__call__', type_params={'U': DeclaredTypeInstance(type='Abstraction', params={'U': DeclaredTypeInstance(type='Integer', params=None), 'T': DeclaredTypeInstance(type='Integer', params=None)}), 'T': DeclaredTypeInstance(type='Integer', params=None)}, args=['3098746497722107792', '-3763664595638790119'], kwargs=None)], '-7993137167377866168': ['4', CallNode(function='Abstraction.__call__', type_params={'U': DeclaredTypeInstance(type='Integer', params=None), 'T': DeclaredTypeInstance(type='Integer', params=None)}, args=['-2909164352820212039', '426075460217857655'], kwargs=None)], '-5320551274042803472': ['1898', CallNode(function='Integer.__add__', type_params=None, args=['-3763664595638790119', '-5424093814210459874'], kwargs=None)], '-468898614798629918': ['1899', CallNode(function='Abstraction.__call__', type_params={'U': DeclaredTypeInstance(type='Integer', params=None), 'T': DeclaredTypeInstance(type='Integer', params=None)}, args=['-641214032171393634', '-5320551274042803472'], kwargs=None)], '-3490185468687918171': ['1901', CallNode(function='Boolean.if_', type_params=None, args=['-1083443876546642859', '-5424093814210459874', '-3763664595638790119'], kwargs=None)], '-3446083547422169622': ['1902', CallNode(function='Boolean.if_', type_params=None, args=['-4903986342512942149', '-468898614798629918', '-3490185468687918171'], kwargs=None)], '-7701502705083567088': ['1774', CallNode(function='Abstraction.create', type_params={'U': DeclaredTypeInstance(type='Integer', params=None), 'T': DeclaredTypeInstance(type='Integer', params=None)}, args=['-5424093814210459874', '-3446083547422169622'], kwargs=None)], '-6743269233114595865': ['4', CallNode(function='Abstraction.__call__', type_params={'U': DeclaredTypeInstance(type='Integer', params=None), 'T': DeclaredTypeInstance(type='Integer', params=None)}, args=['-7701502705083567088', '426075460217857655'], kwargs=None)], '9208060858365832109': ['1934', CallNode(function='Abstraction.__call__', type_params={'U': DeclaredTypeInstance(type='Abstraction', params={'U': DeclaredTypeInstance(type='Integer', params=None), 'T': DeclaredTypeInstance(type='Integer', params=None)}), 'T': DeclaredTypeInstance(type='Integer', params=None)}, args=['-3096293770195600059', '426075460217857655'], kwargs=None)], '-2027907684402388772': ['1937', CallNode(function='Integer.__add__', type_params=None, args=['-3763664595638790119', '426075460217857655'], kwargs=None)], '657211605344755362': ['1938', CallNode(function='Abstraction.__call__', type_params={'U': DeclaredTypeInstance(type='Integer', params=None), 'T': DeclaredTypeInstance(type='Integer', params=None)}, args=['9208060858365832109', '-2027907684402388772'], kwargs=None)], '-1058394709190360765': ['1940', CallNode(function='Boolean.if_', type_params=None, args=['-1083443876546642859', '426075460217857655', '-3763664595638790119'], kwargs=None)], '-7569839476423556956': ['4', CallNode(function='Boolean.if_', type_params=None, args=['-4903986342512942149', '657211605344755362', '-1058394709190360765'], kwargs=None)], '-4576124321088718004': ['1940', CallNode(function='Boolean.if_', type_params=None, args=['1430599728253316827', '426075460217857655', '-3763664595638790119'], kwargs=None)], '4722088803172107741': ['4', CallNode(function='Boolean.if_', type_params=None, args=['-4903986342512942149', '657211605344755362', '-4576124321088718004'], kwargs=None)], '-6620960263084286883': ['4', CallNode(function='Boolean.if_', type_params=None, args=['-4903986342512942149', '657211605344755362', '-3763664595638790119'], kwargs=None)], '86931741174864351': ['2136', PrimitiveNode(type='int', repr='55')], '7907100286168690534': ['4', CallNode(function='Integer.from_int', type_params=None, args=['86931741174864351'], kwargs=None)], '-8245738129068564295': ['1938', CallNode(function='Abstraction.__call__', type_params={'U': DeclaredTypeInstance(type='Integer', params=None), 'T': DeclaredTypeInstance(type='Integer', params=None)}, args=['9208060858365832109', '7907100286168690534'], kwargs=None)], '-8424025839876583268': ['4', CallNode(function='Boolean.if_', type_params=None, args=['-4903986342512942149', '-8245738129068564295', '-3763664595638790119'], kwargs=None)], '3339147355794597589': ['1968', CallNode(function='Abstraction.__call__', type_params={'U': DeclaredTypeInstance(type='Abstraction', params={'U': DeclaredTypeInstance(type='Abstraction', params={'U': DeclaredTypeInstance(type='Integer', params=None), 'T': DeclaredTypeInstance(type='Integer', params=None)}), 'T': DeclaredTypeInstance(type='Integer', params=None)}), 'T': DeclaredTypeInstance(type='Integer', params=None)}, args=['-1872445906533970845', '-2709874245198447753'], kwargs=None)], '5367319136736000578': ['1971', CallNode(function='Abstraction.__call__', type_params={'U': DeclaredTypeInstance(type='Abstraction', params={'U': DeclaredTypeInstance(type='Integer', params=None), 'T': DeclaredTypeInstance(type='Integer', params=None)}), 'T': DeclaredTypeInstance(type='Integer', params=None)}, args=['3339147355794597589', '426075460217857655'], kwargs=None)], '6425858165541754480': ['4', CallNode(function='Abstraction.__call__', type_params={'U': DeclaredTypeInstance(type='Integer', params=None), 'T': DeclaredTypeInstance(type='Integer', params=None)}, args=['5367319136736000578', '7907100286168690534'], kwargs=None)], '-3369716987863233395': ['4', CallNode(function='Boolean.if_', type_params=None, args=['-4903986342512942149', '6425858165541754480', '-3763664595638790119'], kwargs=None)], '-6846722187358319882': ['4', CallNode(function='Boolean.if_', type_params=None, args=['-7694504097016980406', '6425858165541754480', '-3763664595638790119'], kwargs=None)], '2942579730856162041': ['1968', CallNode(function='Abstraction.__call__', type_params={'U': DeclaredTypeInstance(type='Abstraction', params={'U': DeclaredTypeInstance(type='Abstraction', params={'U': DeclaredTypeInstance(type='Integer', params=None), 'T': DeclaredTypeInstance(type='Integer', params=None)}), 'T': DeclaredTypeInstance(type='Integer', params=None)}), 'T': DeclaredTypeInstance(type='Integer', params=None)}, args=['-6049179160059621010', '-2709874245198447753'], kwargs=None)], '4144500622596062694': ['1971', CallNode(function='Abstraction.__call__', type_params={'U': DeclaredTypeInstance(type='Abstraction', params={'U': DeclaredTypeInstance(type='Integer', params=None), 'T': DeclaredTypeInstance(type='Integer', params=None)}), 'T': DeclaredTypeInstance(type='Integer', params=None)}, args=['2942579730856162041', '426075460217857655'], kwargs=None)], '7098405803778805187': ['4', CallNode(function='Abstraction.__call__', type_params={'U': DeclaredTypeInstance(type='Integer', params=None), 'T': DeclaredTypeInstance(type='Integer', params=None)}, args=['4144500622596062694', '7907100286168690534'], kwargs=None)], '3418476275853966940': ['1968', CallNode(function='Abstraction.__call__', type_params={'U': DeclaredTypeInstance(type='Abstraction', params={'U': DeclaredTypeInstance(type='Abstraction', params={'U': DeclaredTypeInstance(type='Integer', params=None), 'T': DeclaredTypeInstance(type='Integer', params=None)}), 'T': DeclaredTypeInstance(type='Integer', params=None)}), 'T': DeclaredTypeInstance(type='Integer', params=None)}, args=['7192003423984924808', '-2709874245198447753'], kwargs=None)], '3685635184948772609': ['1971', CallNode(function='Abstraction.__call__', type_params={'U': DeclaredTypeInstance(type='Abstraction', params={'U': DeclaredTypeInstance(type='Integer', params=None), 'T': DeclaredTypeInstance(type='Integer', params=None)}), 'T': DeclaredTypeInstance(type='Integer', params=None)}, args=['3418476275853966940', '426075460217857655'], kwargs=None)], '8766645206211245860': ['4', CallNode(function='Abstraction.__call__', type_params={'U': DeclaredTypeInstance(type='Integer', params=None), 'T': DeclaredTypeInstance(type='Integer', params=None)}, args=['3685635184948772609', '7907100286168690534'], kwargs=None)], '4157626137894194315': ['2098', CallNode(function='Integer.__gt__', type_params=None, args=['-2709874245198447753', '-2709874245198447753'], kwargs=None)], '6036302512722173786': ['2121', CallNode(function='Integer.__sub__', type_params=None, args=['-2709874245198447753', '-2709874245198447753'], kwargs=None)], '2376325871684663273': ['2122', CallNode(function='Abstraction.__call__', type_params={'U': DeclaredTypeInstance(type='Abstraction', params={'U': DeclaredTypeInstance(type='Abstraction', params={'U': DeclaredTypeInstance(type='Integer', params=None), 'T': DeclaredTypeInstance(type='Integer', params=None)}), 'T': DeclaredTypeInstance(type='Integer', params=None)}), 'T': DeclaredTypeInstance(type='Integer', params=None)}, args=['-1872445906533970845', '6036302512722173786'], kwargs=None)], '6509044787173981249': ['2088', CallNode(function='Abstraction.__call__', type_params={'U': DeclaredTypeInstance(type='Abstraction', params={'U': DeclaredTypeInstance(type='Integer', params=None), 'T': DeclaredTypeInstance(type='Integer', params=None)}), 'T': DeclaredTypeInstance(type='Integer', params=None)}, args=['2376325871684663273', '-5424093814210459874'], kwargs=None)], '-123012099190956298': ['2056', CallNode(function='Abstraction.__call__', type_params={'U': DeclaredTypeInstance(type='Integer', params=None), 'T': DeclaredTypeInstance(type='Integer', params=None)}, args=['6509044787173981249', '-7176269575796675394'], kwargs=None)], '-400078499597817794': ['2130', CallNode(function='Integer.eq', type_params=None, args=['-2709874245198447753', '-2709874245198447753'], kwargs=None)], '4283954303097098237': ['2058', CallNode(function='Boolean.if_', type_params=None, args=['-400078499597817794', '-5424093814210459874', '-3589837022479227720'], kwargs=None)], '-965510855568004391': ['2059', CallNode(function='Boolean.if_', type_params=None, args=['4157626137894194315', '-123012099190956298', '4283954303097098237'], kwargs=None)], '-3226618881491762800': ['2060', CallNode(function='Abstraction.create', type_params={'U': DeclaredTypeInstance(type='Integer', params=None), 'T': DeclaredTypeInstance(type='Integer', params=None)}, args=['-5424093814210459874', '-965510855568004391'], kwargs=None)], '-853213065637691287': ['1968', CallNode(function='Abstraction.create', type_params={'U': DeclaredTypeInstance(type='Abstraction', params={'U': DeclaredTypeInstance(type='Integer', params=None), 'T': DeclaredTypeInstance(type='Integer', params=None)}), 'T': DeclaredTypeInstance(type='Integer', params=None)}, args=['-3589837022479227720', '-3226618881491762800'], kwargs=None)], '2254021379518525018': ['1971', CallNode(function='Abstraction.__call__', type_params={'U': DeclaredTypeInstance(type='Abstraction', params={'U': DeclaredTypeInstance(type='Integer', params=None), 'T': DeclaredTypeInstance(type='Integer', params=None)}), 'T': DeclaredTypeInstance(type='Integer', params=None)}, args=['-853213065637691287', '426075460217857655'], kwargs=None)], '4143980468794140492': ['4', CallNode(function='Abstraction.__call__', type_params={'U': DeclaredTypeInstance(type='Integer', params=None), 'T': DeclaredTypeInstance(type='Integer', params=None)}, args=['2254021379518525018', '7907100286168690534'], kwargs=None)], '-1984718719737358351': ['2091', CallNode(function='Integer.__add__', type_params=None, args=['426075460217857655', '-5424093814210459874'], kwargs=None)], '217481929186606945': ['2092', CallNode(function='Abstraction.__call__', type_params={'U': DeclaredTypeInstance(type='Integer', params=None), 'T': DeclaredTypeInstance(type='Integer', params=None)}, args=['6509044787173981249', '-1984718719737358351'], kwargs=None)], '9029500739241599430': ['2094', CallNode(function='Boolean.if_', type_params=None, args=['-400078499597817794', '-5424093814210459874', '426075460217857655'], kwargs=None)], '7653554512045847648': ['2095', CallNode(function='Boolean.if_', type_params=None, args=['4157626137894194315', '217481929186606945', '9029500739241599430'], kwargs=None)], '5763223255456475230': ['1971', CallNode(function='Abstraction.create', type_params={'U': DeclaredTypeInstance(type='Integer', params=None), 'T': DeclaredTypeInstance(type='Integer', params=None)}, args=['-5424093814210459874', '7653554512045847648'], kwargs=None)], '-6162375902643725053': ['4', CallNode(function='Abstraction.__call__', type_params={'U': DeclaredTypeInstance(type='Integer', params=None), 'T': DeclaredTypeInstance(type='Integer', params=None)}, args=['5763223255456475230', '7907100286168690534'], kwargs=None)], '-6257503974023180242': ['2125', CallNode(function='Abstraction.__call__', type_params={'U': DeclaredTypeInstance(type='Abstraction', params={'U': DeclaredTypeInstance(type='Integer', params=None), 'T': DeclaredTypeInstance(type='Integer', params=None)}), 'T': DeclaredTypeInstance(type='Integer', params=None)}, args=['2376325871684663273', '7907100286168690534'], kwargs=None)], '2363258777951577200': ['2128', CallNode(function='Integer.__add__', type_params=None, args=['426075460217857655', '7907100286168690534'], kwargs=None)], '-2002092672883796522': ['2129', CallNode(function='Abstraction.__call__', type_params={'U': DeclaredTypeInstance(type='Integer', params=None), 'T': DeclaredTypeInstance(type='Integer', params=None)}, args=['-6257503974023180242', '2363258777951577200'], kwargs=None)], '1962019368870258672': ['2131', CallNode(function='Boolean.if_', type_params=None, args=['-400078499597817794', '7907100286168690534', '426075460217857655'], kwargs=None)], '8666582587071872048': ['4', CallNode(function='Boolean.if_', type_params=None, args=['4157626137894194315', '-2002092672883796522', '1962019368870258672'], kwargs=None)], '-2651177997882106940': ['2131', CallNode(function='Boolean.if_', type_params=None, args=['-7694504097016980406', '7907100286168690534', '426075460217857655'], kwargs=None)], '5922577286522704796': ['4', CallNode(function='Boolean.if_', type_params=None, args=['4157626137894194315', '-2002092672883796522', '-2651177997882106940'], kwargs=None)], '-2363238644559922178': ['4', CallNode(function='Boolean.if_', type_params=None, args=['4157626137894194315', '-2002092672883796522', '7907100286168690534'], kwargs=None)], '8103107320012587087': ['2133', PrimitiveNode(type='int', repr='89')], '462487753784757594': ['2128', CallNode(function='Integer.from_int', type_params=None, args=['8103107320012587087'], kwargs=None)], '1392273010004722915': ['2129', CallNode(function='Abstraction.__call__', type_params={'U': DeclaredTypeInstance(type='Integer', params=None), 'T': DeclaredTypeInstance(type='Integer', params=None)}, args=['-6257503974023180242', '462487753784757594'], kwargs=None)], '-6352367482909406248': ['4', CallNode(function='Boolean.if_', type_params=None, args=['4157626137894194315', '1392273010004722915', '7907100286168690534'], kwargs=None)], '1696435964763754435': ['2122', CallNode(function='Abstraction.__call__', type_params={'U': DeclaredTypeInstance(type='Abstraction', params={'U': DeclaredTypeInstance(type='Abstraction', params={'U': DeclaredTypeInstance(type='Integer', params=None), 'T': DeclaredTypeInstance(type='Integer', params=None)}), 'T': DeclaredTypeInstance(type='Integer', params=None)}), 'T': DeclaredTypeInstance(type='Integer', params=None)}, args=['-1872445906533970845', '6580081994755491934'], kwargs=None)], '8139501936877188765': ['2125', CallNode(function='Abstraction.__call__', type_params={'U': DeclaredTypeInstance(type='Abstraction', params={'U': DeclaredTypeInstance(type='Integer', params=None), 'T': DeclaredTypeInstance(type='Integer', params=None)}), 'T': DeclaredTypeInstance(type='Integer', params=None)}, args=['1696435964763754435', '7907100286168690534'], kwargs=None)], '2715851688742255366': ['2129', CallNode(function='Abstraction.__call__', type_params={'U': DeclaredTypeInstance(type='Integer', params=None), 'T': DeclaredTypeInstance(type='Integer', params=None)}, args=['8139501936877188765', '462487753784757594'], kwargs=None)], '-3568518314450929716': ['4', CallNode(function='Boolean.if_', type_params=None, args=['4157626137894194315', '2715851688742255366', '7907100286168690534'], kwargs=None)], '8065993251782835721': ['4', CallNode(function='Boolean.if_', type_params=None, args=['1430599728253316827', '2715851688742255366', '7907100286168690534'], kwargs=None)]}, states=States(initial='9024812369387113132', states=[State(node='-5437740450720867563', rule='metadsl_core.function.FunctionOne.from_fn', label=None), State(node='2026612827396828514', rule='metadsl_core.abstraction.Abstraction.from_fn', label=None), State(node='-1544700006780311069', rule='metadsl_core.function.FunctionThree.from_fn_recursive', label=None), State(node='3886010514623755322', rule='metadsl_core.abstraction.Abstraction.from_fn', label=None), State(node='39935437796975748', rule='metadsl_core.abstraction.Abstraction.from_fn', label=None), State(node='-865291455889119885', rule='metadsl_core.abstraction.Abstraction.from_fn', label=None), State(node='-4248657993478939615', rule='metadsl_core.abstraction.Abstraction.from_fn', label=None), State(node='2800981292409365690', rule='metadsl_core.function.one_call', label=None), State(node='6492553153751709342', rule='metadsl_core.function.one_abstraction', label=None), State(node='4320991441086938097', rule='metadsl_core.abstraction.beta_reduce', label=None), State(node='5913560727312155284', rule='metadsl_core.function.three_call', label=None), State(node='6974755384524982580', rule='metadsl_core.function.three_abstraction', label=None), State(node='-7279802344150205896', rule='metadsl_core.function.three_call', label=None), State(node='-1873709023749060235', rule='metadsl_core.function.three_abstraction', label=None), State(node='-1873709023749060235', rule='', label='core'), State(node='766763064541035971', rule='metadsl_core.abstraction.Abstraction.fix', label=None), State(node='72316527550074912', rule='metadsl_core.abstraction.beta_reduce', label=None), State(node='-1731646924518211845', rule='metadsl_core.abstraction.beta_reduce', label=None), State(node='-6660993338273451131', rule='metadsl_core.abstraction.beta_reduce', label=None), State(node='5984156524768825597', rule='metadsl_core.abstraction.beta_reduce', label=None), State(node='8716868309357169118', rule='metadsl_core.integer.integer_comparison', label=None), State(node='-238751702912413220', rule='metadsl_core.boolean.if_', label=None), State(node='7366277601725970430', rule='metadsl_core.integer.integer_math', label=None), State(node='2748378576463741368', rule='metadsl_core.integer.integer_math', label=None), State(node='4843421004752968499', rule='metadsl_core.integer.integer_comparison', label=None), State(node='2890535126162293660', rule='metadsl_core.boolean.if_', label=None), State(node='2890535126162293660', rule='', label='core'), State(node='2091202744266988099', rule='metadsl_core.abstraction.Abstraction.fix', label=None), State(node='2995125188501239945', rule='metadsl_core.abstraction.beta_reduce', label=None), State(node='823300324139511791', rule='metadsl_core.abstraction.beta_reduce', label=None), State(node='7071736614801773377', rule='metadsl_core.abstraction.beta_reduce', label=None), State(node='-572155615136026905', rule='metadsl_core.abstraction.beta_reduce', label=None), State(node='-6514372031518841616', rule='metadsl_core.integer.integer_comparison', label=None), State(node='1667767348303976343', rule='metadsl_core.boolean.if_', label=None), State(node='-4637911471935490360', rule='metadsl_core.integer.integer_math', label=None), State(node='-5483534949603105536', rule='metadsl_core.integer.integer_math', label=None), State(node='8981434790661950422', rule='metadsl_core.integer.integer_comparison', label=None), State(node='-3229544847317331348', rule='metadsl_core.boolean.if_', label=None), State(node='-3229544847317331348', rule='', label='core'), State(node='-6804323267347952162', rule='metadsl_core.abstraction.Abstraction.fix', label=None), State(node='-3627663358061894108', rule='metadsl_core.abstraction.beta_reduce', label=None), State(node='-8179744224926288619', rule='metadsl_core.abstraction.beta_reduce', label=None), State(node='-4215596480433184121', rule='metadsl_core.abstraction.beta_reduce', label=None), State(node='-4660412633489760477', rule='metadsl_core.abstraction.beta_reduce', label=None), State(node='7434313758305616985', rule='metadsl_core.integer.integer_comparison', label=None), State(node='-2407708529849502343', rule='metadsl_core.boolean.if_', label=None), State(node='1412812120563463511', rule='metadsl_core.integer.integer_math', label=None), State(node='3394162237018093016', rule='metadsl_core.integer.integer_math', label=None), State(node='3683351022978259685', rule='metadsl_core.integer.integer_comparison', label=None), State(node='-7781608503743410166', rule='metadsl_core.boolean.if_', label=None), State(node='-7781608503743410166', rule='', label='core'), State(node='-1728229885748205255', rule='metadsl_core.abstraction.Abstraction.fix', label=None), State(node='1615349311394902901', rule='metadsl_core.abstraction.beta_reduce', label=None), State(node='-5708294416994847057', rule='metadsl_core.abstraction.beta_reduce', label=None), State(node='-9218559445326895691', rule='metadsl_core.abstraction.beta_reduce', label=None), State(node='6939494142610917696', rule='metadsl_core.abstraction.beta_reduce', label=None), State(node='-8605989849602491738', rule='metadsl_core.integer.integer_comparison', label=None), State(node='-6608702614986694197', rule='metadsl_core.boolean.if_', label=None), State(node='211930557165848816', rule='metadsl_core.integer.integer_math', label=None), State(node='-2226581153540153046', rule='metadsl_core.integer.integer_math', label=None), State(node='7184718713181243945', rule='metadsl_core.integer.integer_comparison', label=None), State(node='5824961590807657529', rule='metadsl_core.boolean.if_', label=None), State(node='5824961590807657529', rule='', label='core'), State(node='-4610434476171621727', rule='metadsl_core.abstraction.Abstraction.fix', label=None), State(node='-6541968139055353049', rule='metadsl_core.abstraction.beta_reduce', label=None), State(node='6224734592885192466', rule='metadsl_core.abstraction.beta_reduce', label=None), State(node='5266349270475943888', rule='metadsl_core.abstraction.beta_reduce', label=None), State(node='-2276578944146535180', rule='metadsl_core.abstraction.beta_reduce', label=None), State(node='7642029506929829579', rule='metadsl_core.integer.integer_comparison', label=None), State(node='-232106358995459078', rule='metadsl_core.boolean.if_', label=None), State(node='3377214167073522146', rule='metadsl_core.integer.integer_math', label=None), State(node='3917862883693795982', rule='metadsl_core.integer.integer_math', label=None), State(node='-1114697861662820011', rule='metadsl_core.integer.integer_comparison', label=None), State(node='4278492917212468935', rule='metadsl_core.boolean.if_', label=None), State(node='4278492917212468935', rule='', label='core'), State(node='7598085092712852217', rule='metadsl_core.abstraction.Abstraction.fix', label=None), State(node='3902531749259673212', rule='metadsl_core.abstraction.beta_reduce', label=None), State(node='-3051882958207759886', rule='metadsl_core.abstraction.beta_reduce', label=None), State(node='-7623049584693957873', rule='metadsl_core.abstraction.beta_reduce', label=None), State(node='4103517931935974456', rule='metadsl_core.abstraction.beta_reduce', label=None), State(node='4722612731601508256', rule='metadsl_core.integer.integer_comparison', label=None), State(node='-8326640809299790576', rule='metadsl_core.boolean.if_', label=None), State(node='4332147005735943971', rule='metadsl_core.integer.integer_math', label=None), State(node='-595954427610929056', rule='metadsl_core.integer.integer_math', label=None), State(node='-7615870743718692864', rule='metadsl_core.integer.integer_comparison', label=None), State(node='-6570485500604829551', rule='metadsl_core.boolean.if_', label=None), State(node='-6570485500604829551', rule='', label='core'), State(node='4001151789808751393', rule='metadsl_core.abstraction.Abstraction.fix', label=None), State(node='4387608530524038612', rule='metadsl_core.abstraction.beta_reduce', label=None), State(node='-3913899839426883407', rule='metadsl_core.abstraction.beta_reduce', label=None), State(node='-7409168338254583045', rule='metadsl_core.abstraction.beta_reduce', label=None), State(node='4388970976530863159', rule='metadsl_core.abstraction.beta_reduce', label=None), State(node='4709041280137040239', rule='metadsl_core.integer.integer_comparison', label=None), State(node='738178980769293309', rule='metadsl_core.boolean.if_', label=None), State(node='-2653737741108419505', rule='metadsl_core.integer.integer_math', label=None), State(node='8827599958093938606', rule='metadsl_core.integer.integer_math', label=None), State(node='5132727242757789410', rule='metadsl_core.integer.integer_comparison', label=None), State(node='9012655738063201556', rule='metadsl_core.boolean.if_', label=None), State(node='9012655738063201556', rule='', label='core'), State(node='-3364381747267514194', rule='metadsl_core.abstraction.Abstraction.fix', label=None), State(node='2273911018844196594', rule='metadsl_core.abstraction.beta_reduce', label=None), State(node='1328115795881504315', rule='metadsl_core.abstraction.beta_reduce', label=None), State(node='5417838493779176615', rule='metadsl_core.abstraction.beta_reduce', label=None), State(node='4978699267633369825', rule='metadsl_core.abstraction.beta_reduce', label=None), State(node='-1010406287580477511', rule='metadsl_core.integer.integer_comparison', label=None), State(node='-214890901606545206', rule='metadsl_core.boolean.if_', label=None), State(node='8686038643785783977', rule='metadsl_core.integer.integer_math', label=None), State(node='-2936472015581425190', rule='metadsl_core.integer.integer_math', label=None), State(node='9089165338363271778', rule='metadsl_core.integer.integer_comparison', label=None), State(node='6325804655016651525', rule='metadsl_core.boolean.if_', label=None), State(node='6325804655016651525', rule='', label='core'), State(node='5652241350594340850', rule='metadsl_core.abstraction.Abstraction.fix', label=None), State(node='6876917560684260141', rule='metadsl_core.abstraction.beta_reduce', label=None), State(node='-7993137167377866168', rule='metadsl_core.abstraction.beta_reduce', label=None), State(node='-6743269233114595865', rule='metadsl_core.abstraction.beta_reduce', label=None), State(node='-7569839476423556956', rule='metadsl_core.abstraction.beta_reduce', label=None), State(node='4722088803172107741', rule='metadsl_core.integer.integer_comparison', label=None), State(node='-6620960263084286883', rule='metadsl_core.boolean.if_', label=None), State(node='-8424025839876583268', rule='metadsl_core.integer.integer_math', label=None), State(node='-3369716987863233395', rule='metadsl_core.integer.integer_math', label=None), State(node='-6846722187358319882', rule='metadsl_core.integer.integer_comparison', label=None), State(node='6425858165541754480', rule='metadsl_core.boolean.if_', label=None), State(node='6425858165541754480', rule='', label='core'), State(node='7098405803778805187', rule='metadsl_core.abstraction.Abstraction.fix', label=None), State(node='8766645206211245860', rule='metadsl_core.abstraction.beta_reduce', label=None), State(node='4143980468794140492', rule='metadsl_core.abstraction.beta_reduce', label=None), State(node='-6162375902643725053', rule='metadsl_core.abstraction.beta_reduce', label=None), State(node='8666582587071872048', rule='metadsl_core.abstraction.beta_reduce', label=None), State(node='5922577286522704796', rule='metadsl_core.integer.integer_comparison', label=None), State(node='-2363238644559922178', rule='metadsl_core.boolean.if_', label=None), State(node='-6352367482909406248', rule='metadsl_core.integer.integer_math', label=None), State(node='-3568518314450929716', rule='metadsl_core.integer.integer_math', label=None), State(node='8065993251782835721', rule='metadsl_core.integer.integer_comparison', label=None), State(node='7907100286168690534', rule='metadsl_core.boolean.if_', label=None), State(node='7907100286168690534', rule='', label='core')]))"
      ]
     },
     "metadata": {},
     "output_type": "display_data"
    }
   ],
   "source": [
    "fib(Integer.from_int(10))"
   ]
  },
  {
   "cell_type": "code",
   "execution_count": null,
   "metadata": {},
   "outputs": [],
   "source": []
  }
 ],
 "metadata": {
  "kernelspec": {
   "display_name": "Python 3",
   "language": "python",
   "name": "python3"
  },
  "language_info": {
   "codemirror_mode": {
    "name": "ipython",
    "version": 3
   },
   "file_extension": ".py",
   "mimetype": "text/x-python",
   "name": "python",
   "nbconvert_exporter": "python",
   "pygments_lexer": "ipython3",
   "version": "3.8.0"
  }
 },
 "nbformat": 4,
 "nbformat_minor": 4
}
