{
 "cells": [
  {
   "cell_type": "code",
   "execution_count": 1,
   "metadata": {},
   "outputs": [],
   "source": [
    "from metadsl import *\n",
    "from metadsl_core import *\n",
    "import metadsl_visualize"
   ]
  },
  {
   "cell_type": "code",
   "execution_count": 2,
   "metadata": {},
   "outputs": [],
   "source": [
    "one = Integer.from_int(1)\n",
    "zero = Integer.from_int(0)\n",
    "\n",
    "\n",
    "@FunctionThree.from_fn_recursive\n",
    "def fib_more(\n",
    "    fn: FunctionThree[Integer, Integer, Integer, Integer],\n",
    "    n: Integer,\n",
    "    a: Integer,\n",
    "    b: Integer,\n",
    ") -> Integer:\n",
    "    pred_cont = n > one\n",
    "    minus1 = n - one\n",
    "    ab = a + b\n",
    "    added = fn(minus1, b, ab)\n",
    "\n",
    "    n_eq_1 = n.eq(one)\n",
    "    return pred_cont.if_(added, n_eq_1.if_(b, a))\n",
    "\n",
    "@FunctionOne.from_fn\n",
    "def fib(n: Integer) -> Integer:\n",
    "    return fib_more(n, zero, one)\n"
   ]
  },
  {
   "cell_type": "code",
   "execution_count": 3,
   "metadata": {},
   "outputs": [
    {
     "data": {
      "application/x.typez+json": {
       "nodes": {
        "-1004246607549958434": [
         "4",
         {
          "args": [
           "-8471631948374936369",
           "-801800994066151079"
          ],
          "function": "Abstraction.__call__",
          "type_params": {
           "T": {
            "type": "Integer"
           },
           "U": {
            "type": "Integer"
           }
          }
         }
        ],
        "-1036961898671764251": [
         "946",
         {
          "args": [
           "7109380877687312606",
           "-1110296496125714697",
           "-8411147389139933288"
          ],
          "function": "Boolean.if_"
         }
        ],
        "-1110296496125714697": [
         "1704",
         {
          "args": [
           "-5077450201638524566"
          ],
          "function": "Integer.from_int"
         }
        ],
        "-1113038724346501693": [
         "1309",
         {
          "args": [
           "9023799992201590501",
           "-801800994066151079"
          ],
          "function": "Integer.__gt__"
         }
        ],
        "-1127966374457125643": [
         "1936",
         {
          "args": [
           "-5077450201653679916"
          ],
          "function": "Integer.from_int"
         }
        ],
        "-1175421402609434425": [
         "4",
         {
          "args": [
           "-4417421786496220950",
           "-801800994066151079"
          ],
          "function": "Abstraction.__call__",
          "type_params": {
           "T": {
            "type": "Integer"
           },
           "U": {
            "type": "Integer"
           }
          }
         }
        ],
        "-1175822329754972106": [
         "20",
         {
          "args": [
           "521197370136405012"
          ],
          "function": "Abstraction.fix"
         }
        ],
        "-1299908754583128688": [
         "2128",
         {
          "args": [
           "3328637645628897464",
           "7392902467124084083"
          ],
          "function": "Integer.__add__"
         }
        ],
        "-1305804636169494332": [
         "1737",
         {
          "args": [
           "-4061160045471027619",
           "-1127966374457125643"
          ],
          "function": "Integer.__add__"
         }
        ],
        "-1378674915398745759": [
         "1371",
         {
          "args": [
           "-2918624255584909654",
           "-7904712134556914810"
          ],
          "function": "Abstraction.__call__",
          "type_params": {
           "T": {
            "type": "Integer"
           },
           "U": {
            "params": {
             "T": {
              "type": "Integer"
             },
             "U": {
              "params": {
               "T": {
                "type": "Integer"
               },
               "U": {
                "type": "Integer"
               }
              },
              "type": "Abstraction"
             }
            },
            "type": "Abstraction"
           }
          }
         }
        ],
        "-1398684366788957698": [
         "1702",
         {
          "args": [
           "-2940597550331594116",
           "3812752863255615653",
           "1409488103855906973"
          ],
          "function": "Boolean.if_"
         }
        ],
        "-140310678157734065": [
         "1895",
         {
          "args": [
           "8801211420620402818",
           "-5426275952129512663"
          ],
          "function": "Abstraction.__call__",
          "type_params": {
           "T": {
            "type": "Integer"
           },
           "U": {
            "params": {
             "T": {
              "type": "Integer"
             },
             "U": {
              "type": "Integer"
             }
            },
            "type": "Abstraction"
           }
          }
         }
        ],
        "-1426295708692493639": [
         "4",
         {
          "args": [
           "-3739341109593650675",
           "-4061160045471027619"
          ],
          "function": "Abstraction.__call__",
          "type_params": {
           "T": {
            "type": "Integer"
           },
           "U": {
            "type": "Integer"
           }
          }
         }
        ],
        "-1431991138246138060": [
         "4",
         {
          "args": [
           "6511728760123316480",
           "-801800994066151079"
          ],
          "function": "Abstraction.__call__",
          "type_params": {
           "T": {
            "type": "Integer"
           },
           "U": {
            "type": "Integer"
           }
          }
         }
        ],
        "-1455154277302879003": [
         "4",
         {
          "args": [
           "8236473333404166934",
           "277852127613867312"
          ],
          "function": "FunctionOne.__call__",
          "type_params": {
           "T": {
            "type": "Integer"
           },
           "U": {
            "type": "Integer"
           }
          }
         }
        ],
        "-147426409985855627": [
         "4",
         {
          "args": [
           "8800103644617418569",
           "9023799992201590501"
          ],
          "function": "Abstraction.__call__",
          "type_params": {
           "T": {
            "type": "Integer"
           },
           "U": {
            "type": "Integer"
           }
          }
         }
        ],
        "-1482474538857235343": [
         "4",
         {
          "args": [
           "1321722653791223987",
           "7480348371987009566",
           "8287283151426784322"
          ],
          "function": "Boolean.if_"
         }
        ],
        "-1491659118260489075": [
         "4",
         {
          "args": [
           "-1815412774321759192",
           "8621592740297795617",
           "8287283151426784322"
          ],
          "function": "Boolean.if_"
         }
        ],
        "-1531074772063702674": [
         "746",
         {
          "args": [
           "6321508888815918528",
           "-8411147389139933288",
           "-801800994066151079"
          ],
          "function": "Boolean.if_"
         }
        ],
        "-160156518886190277": [
         "1940",
         {
          "args": [
           "3557768599575072972",
           "3328637645628897464",
           "-1127966374457125643"
          ],
          "function": "Boolean.if_"
         }
        ],
        "-164345154158847369": [
         "1898",
         {
          "args": [
           "-1127966374457125643",
           "-5426275952129512663"
          ],
          "function": "Integer.__add__"
         }
        ],
        "-1661739059553963986": [
         "4",
         {
          "args": [
           "8032564313467597465",
           "-801800994066151079"
          ],
          "function": "Abstraction.__call__",
          "type_params": {
           "T": {
            "type": "Integer"
           },
           "U": {
            "type": "Integer"
           }
          }
         }
        ],
        "-1670068791280135912": [
         "1661",
         {
          "args": [
           "1458061320245554635",
           "-1676170044209412934"
          ],
          "function": "Abstraction.__call__",
          "type_params": {
           "T": {
            "type": "Integer"
           },
           "U": {
            "type": "Integer"
           }
          }
         }
        ],
        "-1672923674398721790": [
         "4",
         {
          "args": [
           "-6951288059290601538",
           "-5277747147447870579",
           "-3322821029160146153"
          ],
          "function": "Boolean.if_"
         }
        ],
        "-1676170044209412934": [
         "2111",
         {
          "args": [
           "-3134450228486803831",
           "-5426275952129512663"
          ],
          "function": "Integer.__add__"
         }
        ],
        "-1681767555338753697": [
         "1178",
         {
          "args": [
           "8861261646869742781",
           "9023799992201590501"
          ],
          "function": "Abstraction.__call__",
          "type_params": {
           "T": {
            "type": "Integer"
           },
           "U": {
            "params": {
             "T": {
              "type": "Integer"
             },
             "U": {
              "type": "Integer"
             }
            },
            "type": "Abstraction"
           }
          }
         }
        ],
        "-1700965460680315805": [
         "288",
         {
          "args": [
           "-8734477808183374995",
           "-5426275952129512663",
           "-3134450228486803831"
          ],
          "function": "Boolean.if_"
         }
        ],
        "-1712256061507382434": [
         "4",
         {
          "args": [
           "5894627216596842936",
           "8962767874092586541",
           "5883419327463605956"
          ],
          "function": "Boolean.if_"
         }
        ],
        "-1717626559290561467": [
         "168",
         {
          "args": [
           "7671135217433832921",
           "277852127613867312"
          ],
          "function": "Abstraction.__call__",
          "type_params": {
           "T": {
            "type": "Integer"
           },
           "U": {
            "params": {
             "T": {
              "type": "Integer"
             },
             "U": {
              "params": {
               "T": {
                "type": "Integer"
               },
               "U": {
                "type": "Integer"
               }
              },
              "type": "Abstraction"
             }
            },
            "type": "Abstraction"
           }
          }
         }
        ],
        "-173279802764137478": [
         "1907",
         {
          "args": [
           "-8411147389139933288",
           "-801800994066151079"
          ],
          "function": "Integer.__gt__"
         }
        ],
        "-1815412774321759192": [
         "1507",
         {
          "args": [
           "-7904712134556914810",
           "-801800994066151079"
          ],
          "function": "Integer.__gt__"
         }
        ],
        "-1918553778381062471": [
         "20",
         {
          "args": [
           "-8981310257094008174"
          ],
          "function": "Abstraction.fix"
         }
        ],
        "-1945844223427463191": [
         "1178",
         {
          "args": [
           "-6768199085063043736",
           "9023799992201590501"
          ],
          "function": "Abstraction.__call__",
          "type_params": {
           "T": {
            "type": "Integer"
           },
           "U": {
            "params": {
             "T": {
              "type": "Integer"
             },
             "U": {
              "type": "Integer"
             }
            },
            "type": "Abstraction"
           }
          }
         }
        ],
        "-1946146389333129899": [
         "11",
         {
          "args": [
           "-204800842979452163",
           "-1175822329754972106"
          ],
          "function": "FunctionThree.create",
          "type_params": {
           "T": {
            "type": "Integer"
           },
           "U": {
            "type": "Integer"
           },
           "V": {
            "type": "Integer"
           },
           "X": {
            "type": "Integer"
           }
          }
         }
        ],
        "-1991834953469544757": [
         "327",
         {
          "args": [
           "-7255667736369028645",
           "-4010810132101647448",
           "5043018775388498820"
          ],
          "function": "Boolean.if_"
         }
        ],
        "-2018255843137072529": [
         "1899",
         {
          "args": [
           "-140310678157734065",
           "-164345154158847369"
          ],
          "function": "Abstraction.__call__",
          "type_params": {
           "T": {
            "type": "Integer"
           },
           "U": {
            "type": "Integer"
           }
          }
         }
        ],
        "-2047419793903064792": [
         "705",
         {
          "args": [
           "7109977341475914059",
           "-5426275952129512663"
          ],
          "function": "Abstraction.__call__",
          "type_params": {
           "T": {
            "type": "Integer"
           },
           "U": {
            "params": {
             "T": {
              "type": "Integer"
             },
             "U": {
              "type": "Integer"
             }
            },
            "type": "Abstraction"
           }
          }
         }
        ],
        "-204800842979452163": [
         "195",
         {
          "repr": "fib_more",
          "type": "str"
         }
        ],
        "-2056005443075254490": [
         "4",
         {
          "args": [
           "3481211060935803599",
           "-1127966374457125643"
          ],
          "function": "Abstraction.__call__",
          "type_params": {
           "T": {
            "type": "Integer"
           },
           "U": {
            "type": "Integer"
           }
          }
         }
        ],
        "-2066527565928610377": [
         "7",
         {
          "args": [
           "-5077963005297038142",
           "-800441838294690534"
          ],
          "function": "Abstraction.create",
          "type_params": {
           "T": {
            "type": "Integer"
           },
           "U": {
            "type": "Integer"
           }
          }
         }
        ],
        "-2083200610877319178": [
         "1738",
         {
          "args": [
           "-3350027586371372011",
           "3328637645628897464"
          ],
          "function": "Abstraction.__call__",
          "type_params": {
           "T": {
            "type": "Integer"
           },
           "U": {
            "type": "Integer"
           }
          }
         }
        ],
        "-2083943988471883110": [
         "908",
         {
          "args": [
           "-8533041076784310296",
           "4833984845176339595",
           "4110033832317878581"
          ],
          "function": "Boolean.if_"
         }
        ],
        "-2203141082538882173": [
         "1136",
         {
          "args": [
           "8316436884507874420",
           "-801800994066151079"
          ],
          "function": "Integer.__sub__"
         }
        ],
        "-2233103654628883732": [
         "2125",
         {
          "args": [
           "-302408779686132915",
           "7392902467124084083"
          ],
          "function": "Abstraction.__call__",
          "type_params": {
           "T": {
            "type": "Integer"
           },
           "U": {
            "params": {
             "T": {
              "type": "Integer"
             },
             "U": {
              "type": "Integer"
             }
            },
            "type": "Abstraction"
           }
          }
         }
        ],
        "-2237940890459116165": [
         "706",
         {
          "args": [
           "-801800994066151079",
           "-5426275952129512663"
          ],
          "function": "Integer.__add__"
         }
        ],
        "-2242209172835132093": [
         "910",
         {
          "args": [
           "-5077450201634194466"
          ],
          "function": "Integer.from_int"
         }
        ],
        "-2248277318872412514": [
         "24",
         {
          "args": [
           "8730531355445951376",
           "1436529712068027460"
          ],
          "function": "Abstraction.create",
          "type_params": {
           "T": {
            "type": "Integer"
           },
           "U": {
            "params": {
             "T": {
              "type": "Integer"
             },
             "U": {
              "params": {
               "T": {
                "type": "Integer"
               },
               "U": {
                "type": "Integer"
               }
              },
              "type": "Abstraction"
             }
            },
            "type": "Abstraction"
           }
          }
         }
        ],
        "-2280173650737524621": [
         "4",
         {
          "args": [
           "-2940597550331594116",
           "3395137322454854201",
           "-7203011181200915043"
          ],
          "function": "Boolean.if_"
         }
        ],
        "-2298413480251783172": [
         "1113",
         {
          "args": [
           "8316436884507874420",
           "-801800994066151079"
          ],
          "function": "Integer.__gt__"
         }
        ],
        "-2301715800518244002": [
         "1540",
         {
          "args": [
           "8833176416643459614",
           "-4061160045471027619",
           "8287283151426784322"
          ],
          "function": "Boolean.if_"
         }
        ],
        "-2302058356223201529": [
         "1498",
         {
          "args": [
           "8287283151426784322",
           "-5426275952129512663"
          ],
          "function": "Integer.__add__"
         }
        ],
        "-2337445539285819331": [
         "1571",
         {
          "args": [
           "-2918624255584909654",
           "-1110296496125714697"
          ],
          "function": "Abstraction.__call__",
          "type_params": {
           "T": {
            "type": "Integer"
           },
           "U": {
            "params": {
             "T": {
              "type": "Integer"
             },
             "U": {
              "params": {
               "T": {
                "type": "Integer"
               },
               "U": {
                "type": "Integer"
               }
              },
              "type": "Abstraction"
             }
            },
            "type": "Abstraction"
           }
          }
         }
        ],
        "-2353425695016430133": [
         "1495",
         {
          "args": [
           "4455307098282613136",
           "-5426275952129512663"
          ],
          "function": "Abstraction.__call__",
          "type_params": {
           "T": {
            "type": "Integer"
           },
           "U": {
            "params": {
             "T": {
              "type": "Integer"
             },
             "U": {
              "type": "Integer"
             }
            },
            "type": "Abstraction"
           }
          }
         }
        ],
        "-2354252986819779049": [
         "4",
         {
          "args": [
           "-2940597550331594116",
           "-246565496540427672",
           "-4061160045471027619"
          ],
          "function": "Boolean.if_"
         }
        ],
        "-2436086591002523920": [
         "20",
         {
          "args": [
           "654764459164323882"
          ],
          "function": "Abstraction.fix"
         }
        ],
        "-246565496540427672": [
         "4",
         {
          "args": [
           "-4521151675862304457",
           "3328637645628897464"
          ],
          "function": "Abstraction.__call__",
          "type_params": {
           "T": {
            "type": "Integer"
           },
           "U": {
            "type": "Integer"
           }
          }
         }
        ],
        "-2515047028652489839": [
         "482",
         {
          "args": [
           "5894627216596842936",
           "3491946621204182455",
           "-4970459066168554903"
          ],
          "function": "Boolean.if_"
         }
        ],
        "-252865817105063454": [
         "1499",
         {
          "args": [
           "-2353425695016430133",
           "-2302058356223201529"
          ],
          "function": "Abstraction.__call__",
          "type_params": {
           "T": {
            "type": "Integer"
           },
           "U": {
            "type": "Integer"
           }
          }
         }
        ],
        "-2646099426640432980": [
         "1971",
         {
          "args": [
           "-6474555534269580406",
           "3328637645628897464"
          ],
          "function": "Abstraction.__call__",
          "type_params": {
           "T": {
            "type": "Integer"
           },
           "U": {
            "params": {
             "T": {
              "type": "Integer"
             },
             "U": {
              "type": "Integer"
             }
            },
            "type": "Abstraction"
           }
          }
         }
        ],
        "-2652070358770172702": [
         "45",
         {
          "repr": "fib",
          "type": "str"
         }
        ],
        "-2661140851021651882": [
         "4",
         {
          "args": [
           "5894627216596842936",
           "6438537617793295059",
           "-801800994066151079"
          ],
          "function": "Boolean.if_"
         }
        ],
        "-2702557499059679692": [
         "4",
         {
          "args": [
           "-1815412774321759192",
           "8621592740297795617",
           "-2301715800518244002"
          ],
          "function": "Boolean.if_"
         }
        ],
        "-2737723157984854121": [
         "4",
         {
          "args": [
           "-2298413480251783172",
           "5017729979198806200",
           "-601338984146599767"
          ],
          "function": "Boolean.if_"
         }
        ],
        "-2759908380578182555": [
         "393",
         {
          "args": [
           "-3134450228486803831",
           "197960470690884110"
          ],
          "function": "Abstraction.create",
          "type_params": {
           "T": {
            "type": "Integer"
           },
           "U": {
            "params": {
             "T": {
              "type": "Integer"
             },
             "U": {
              "type": "Integer"
             }
            },
            "type": "Abstraction"
           }
          }
         }
        ],
        "-2771380547575644959": [
         "4",
         {
          "args": [
           "1321722653791223987",
           "6438537617793295059",
           "-801800994066151079"
          ],
          "function": "Boolean.if_"
         }
        ],
        "-2780099227991991306": [
         "7",
         {
          "args": [
           "-5077963005297038142",
           "2060000086376341037"
          ],
          "function": "Abstraction.create",
          "type_params": {
           "T": {
            "type": "Integer"
           },
           "U": {
            "type": "Integer"
           }
          }
         }
        ],
        "-278212231823356320": [
         "707",
         {
          "args": [
           "-2047419793903064792",
           "-2237940890459116165"
          ],
          "function": "Abstraction.__call__",
          "type_params": {
           "T": {
            "type": "Integer"
           },
           "U": {
            "type": "Integer"
           }
          }
         }
        ],
        "-280097177963715201": [
         "4",
         {
          "args": [
           "-6490097695398483981",
           "-801800994066151079"
          ],
          "function": "Abstraction.__call__",
          "type_params": {
           "T": {
            "type": "Integer"
           },
           "U": {
            "type": "Integer"
           }
          }
         }
        ],
        "-2809842081765076799": [
         "1938",
         {
          "args": [
           "-8266425021226895723",
           "7392902467124084083"
          ],
          "function": "Abstraction.__call__",
          "type_params": {
           "T": {
            "type": "Integer"
           },
           "U": {
            "type": "Integer"
           }
          }
         }
        ],
        "-2857582461600446614": [
         "715",
         {
          "args": [
           "8287283151426784322",
           "-801800994066151079"
          ],
          "function": "Integer.__gt__"
         }
        ],
        "-2888753791925313936": [
         "1",
         {
          "args": [
           "-2652070358770172702",
           "-2066527565928610377"
          ],
          "function": "FunctionOne.create",
          "type_params": {
           "T": {
            "type": "Integer"
           },
           "U": {
            "type": "Integer"
           }
          }
         }
        ],
        "-2918624255584909654": [
         "1967",
         {
          "args": [
           "8730531355445951376",
           "-7952549334000461029"
          ],
          "function": "Abstraction.create",
          "type_params": {
           "T": {
            "type": "Integer"
           },
           "U": {
            "params": {
             "T": {
              "type": "Integer"
             },
             "U": {
              "params": {
               "T": {
                "type": "Integer"
               },
               "U": {
                "type": "Integer"
               }
              },
              "type": "Abstraction"
             }
            },
            "type": "Abstraction"
           }
          }
         }
        ],
        "-2940597550331594116": [
         "1707",
         {
          "args": [
           "-1110296496125714697",
           "-801800994066151079"
          ],
          "function": "Integer.__gt__"
         }
        ],
        "-2957265406751586943": [
         "4",
         {
          "args": [
           "6854077708690707873",
           "-801800994066151079"
          ],
          "function": "Abstraction.__call__",
          "type_params": {
           "T": {
            "type": "Integer"
           },
           "U": {
            "type": "Integer"
           }
          }
         }
        ],
        "-2981783927078027337": [
         "4",
         {
          "args": [
           "-2940597550331594116",
           "3395137322454854201",
           "-3346391710862480657"
          ],
          "function": "Boolean.if_"
         }
        ],
        "-3004406239927766481": [
         "110",
         {
          "args": [
           "487553360406220215",
           "-5077963005297038142",
           "8266129563128831658",
           "-801800994066151079"
          ],
          "function": "FunctionThree.__call__",
          "type_params": {
           "T": {
            "type": "Integer"
           },
           "U": {
            "type": "Integer"
           },
           "V": {
            "type": "Integer"
           },
           "X": {
            "type": "Integer"
           }
          }
         }
        ],
        "-3018917905739980852": [
         "4",
         {
          "args": [
           "-2298413480251783172",
           "5017729979198806200",
           "5821079187440107598"
          ],
          "function": "Boolean.if_"
         }
        ],
        "-302408779686132915": [
         "2122",
         {
          "args": [
           "560823455631952198",
           "-7310769833958311087"
          ],
          "function": "Abstraction.__call__",
          "type_params": {
           "T": {
            "type": "Integer"
           },
           "U": {
            "params": {
             "T": {
              "type": "Integer"
             },
             "U": {
              "params": {
               "T": {
                "type": "Integer"
               },
               "U": {
                "type": "Integer"
               }
              },
              "type": "Abstraction"
             }
            },
            "type": "Abstraction"
           }
          }
         }
        ],
        "-3055842602576018055": [
         "549",
         {
          "args": [
           "-801800994066151079",
           "-801800994066151079"
          ],
          "function": "Integer.__add__"
         }
        ],
        "-3063619287185040911": [
         "4",
         {
          "args": [
           "-6951288059290601538",
           "-5277747147447870579",
           "4535344282439453818"
          ],
          "function": "Boolean.if_"
         }
        ],
        "-3134450228486803831": [
         "2104",
         {
          "args": [
           "-8182302524109153693"
          ],
          "function": "Abstraction.create_variable",
          "type_params": {
           "T": {
            "type": "Integer"
           },
           "U": {
            "params": {
             "T": {
              "type": "Integer"
             },
             "U": {
              "type": "Integer"
             }
            },
            "type": "Abstraction"
           }
          }
         }
        ],
        "-3139074987821508616": [
         "944",
         {
          "args": [
           "2960721151694497664",
           "9023799992201590501"
          ],
          "function": "Abstraction.__call__",
          "type_params": {
           "T": {
            "type": "Integer"
           },
           "U": {
            "type": "Integer"
           }
          }
         }
        ],
        "-3159018187749032900": [
         "745",
         {
          "args": [
           "8287283151426784322",
           "-801800994066151079"
          ],
          "function": "Integer.eq"
         }
        ],
        "-3169608309370793277": [
         "191",
         {
          "args": [
           "-5426275952129512663",
           "826815826337085659"
          ],
          "function": "Abstraction.create",
          "type_params": {
           "T": {
            "type": "Integer"
           },
           "U": {
            "type": "Integer"
           }
          }
         }
        ],
        "-3192523946077563574": [
         "1374",
         {
          "args": [
           "-5426275952129512663",
           "-5306754951991459874"
          ],
          "function": "Abstraction.create",
          "type_params": {
           "T": {
            "type": "Integer"
           },
           "U": {
            "type": "Integer"
           }
          }
         }
        ],
        "-3251739455011285052": [
         "980",
         {
          "args": [
           "-8609216689943626051",
           "-1110296496125714697"
          ],
          "function": "Abstraction.__call__",
          "type_params": {
           "T": {
            "type": "Integer"
           },
           "U": {
            "params": {
             "T": {
              "type": "Integer"
             },
             "U": {
              "type": "Integer"
             }
            },
            "type": "Abstraction"
           }
          }
         }
        ],
        "-3301917970824326498": [
         "1698",
         {
          "args": [
           "-4061160045471027619",
           "-5426275952129512663"
          ],
          "function": "Integer.__add__"
         }
        ],
        "-3309380254304374222": [
         "394",
         {
          "args": [
           "396995674400924482",
           "-801800994066151079"
          ],
          "function": "Abstraction.__call__",
          "type_params": {
           "T": {
            "type": "Integer"
           },
           "U": {
            "params": {
             "T": {
              "type": "Integer"
             },
             "U": {
              "type": "Integer"
             }
            },
            "type": "Abstraction"
           }
          }
         }
        ],
        "-3322821029160146153": [
         "2131",
         {
          "args": [
           "-810539374333043576",
           "7392902467124084083",
           "3328637645628897464"
          ],
          "function": "Boolean.if_"
         }
        ],
        "-3346391710862480657": [
         "1740",
         {
          "args": [
           "5959117055813357738",
           "-1127966374457125643",
           "-4061160045471027619"
          ],
          "function": "Boolean.if_"
         }
        ],
        "-3350027586371372011": [
         "1734",
         {
          "args": [
           "6605627822032454031",
           "-1127966374457125643"
          ],
          "function": "Abstraction.__call__",
          "type_params": {
           "T": {
            "type": "Integer"
           },
           "U": {
            "params": {
             "T": {
              "type": "Integer"
             },
             "U": {
              "type": "Integer"
             }
            },
            "type": "Abstraction"
           }
          }
         }
        ],
        "-3402027491637223490": [
         "583",
         {
          "args": [
           "2516676606967915759",
           "8287283151426784322"
          ],
          "function": "Abstraction.__call__",
          "type_params": {
           "T": {
            "type": "Integer"
           },
           "U": {
            "params": {
             "T": {
              "type": "Integer"
             },
             "U": {
              "params": {
               "T": {
                "type": "Integer"
               },
               "U": {
                "type": "Integer"
               }
              },
              "type": "Abstraction"
             }
            },
            "type": "Abstraction"
           }
          }
         }
        ],
        "-3421636274071388720": [
         "4",
         {
          "args": [
           "-8407048646428429972",
           "9023799992201590501"
          ],
          "function": "Abstraction.__call__",
          "type_params": {
           "T": {
            "type": "Integer"
           },
           "U": {
            "type": "Integer"
           }
          }
         }
        ],
        "-3421932733703179622": [
         "1300",
         {
          "args": [
           "9023799992201590501",
           "-5426275952129512663"
          ],
          "function": "Integer.__add__"
         }
        ],
        "-3505812150000789254": [
         "777",
         {
          "args": [
           "-3134450228486803831",
           "3780292266816121406"
          ],
          "function": "Abstraction.create",
          "type_params": {
           "T": {
            "type": "Integer"
           },
           "U": {
            "params": {
             "T": {
              "type": "Integer"
             },
             "U": {
              "type": "Integer"
             }
            },
            "type": "Abstraction"
           }
          }
         }
        ],
        "-3550679245018662862": [
         "1371",
         {
          "args": [
           "560823455631952198",
           "-7904712134556914810"
          ],
          "function": "Abstraction.__call__",
          "type_params": {
           "T": {
            "type": "Integer"
           },
           "U": {
            "params": {
             "T": {
              "type": "Integer"
             },
             "U": {
              "params": {
               "T": {
                "type": "Integer"
               },
               "U": {
                "type": "Integer"
               }
              },
              "type": "Abstraction"
             }
            },
            "type": "Abstraction"
           }
          }
         }
        ],
        "-3628281943847458944": [
         "1574",
         {
          "args": [
           "-5426275952129512663",
           "-1398684366788957698"
          ],
          "function": "Abstraction.create",
          "type_params": {
           "T": {
            "type": "Integer"
           },
           "U": {
            "type": "Integer"
           }
          }
         }
        ],
        "-3633236624571297858": [
         "1537",
         {
          "args": [
           "8287283151426784322",
           "-4061160045471027619"
          ],
          "function": "Integer.__add__"
         }
        ],
        "-364604664173318300": [
         "2119",
         {
          "args": [
           "6746237808157956011",
           "4801749856714373102"
          ],
          "function": "Abstraction.create",
          "type_params": {
           "T": {
            "params": {
             "T": {
              "type": "Integer"
             },
             "U": {
              "params": {
               "T": {
                "type": "Integer"
               },
               "U": {
                "params": {
                 "T": {
                  "type": "Integer"
                 },
                 "U": {
                  "type": "Integer"
                 }
                },
                "type": "Abstraction"
               }
              },
              "type": "Abstraction"
             }
            },
            "type": "Abstraction"
           },
           "U": {
            "params": {
             "T": {
              "type": "Integer"
             },
             "U": {
              "params": {
               "T": {
                "type": "Integer"
               },
               "U": {
                "params": {
                 "T": {
                  "type": "Integer"
                 },
                 "U": {
                  "type": "Integer"
                 }
                },
                "type": "Abstraction"
               }
              },
              "type": "Abstraction"
             }
            },
            "type": "Abstraction"
           }
          }
         }
        ],
        "-3728063938899283826": [
         "869",
         {
          "args": [
           "7109380877687312606",
           "-5426275952129512663",
           "-3134450228486803831"
          ],
          "function": "Boolean.if_"
         }
        ],
        "-3739341109593650675": [
         "1374",
         {
          "args": [
           "2976404221593107496",
           "8287283151426784322"
          ],
          "function": "Abstraction.__call__",
          "type_params": {
           "T": {
            "type": "Integer"
           },
           "U": {
            "params": {
             "T": {
              "type": "Integer"
             },
             "U": {
              "type": "Integer"
             }
            },
            "type": "Abstraction"
           }
          }
         }
        ],
        "-37521069523464347": [
         "168",
         {
          "args": [
           "-669076825847948676",
           "277852127613867312"
          ],
          "function": "Abstraction.__call__",
          "type_params": {
           "T": {
            "type": "Integer"
           },
           "U": {
            "params": {
             "T": {
              "type": "Integer"
             },
             "U": {
              "params": {
               "T": {
                "type": "Integer"
               },
               "U": {
                "type": "Integer"
               }
              },
              "type": "Abstraction"
             }
            },
            "type": "Abstraction"
           }
          }
         }
        ],
        "-3789206367084571609": [
         "936",
         {
          "args": [
           "-2242209172835132093",
           "-801800994066151079"
          ],
          "function": "Integer.__sub__"
         }
        ],
        "-3798376556648677631": [
         "870",
         {
          "args": [
           "-8533041076784310296",
           "3921659648319680478",
           "-3728063938899283826"
          ],
          "function": "Boolean.if_"
         }
        ],
        "-3896374289193541774": [
         "742",
         {
          "args": [
           "7109977341475914059",
           "-8411147389139933288"
          ],
          "function": "Abstraction.__call__",
          "type_params": {
           "T": {
            "type": "Integer"
           },
           "U": {
            "params": {
             "T": {
              "type": "Integer"
             },
             "U": {
              "type": "Integer"
             }
            },
            "type": "Abstraction"
           }
          }
         }
        ],
        "-3955051663883613512": [
         "4",
         {
          "args": [
           "1321722653791223987",
           "-7764589128205958593",
           "8266129563128831658"
          ],
          "function": "Boolean.if_"
         }
        ],
        "-4007718426116499557": [
         "4",
         {
          "args": [
           "-7368528092517862245",
           "7392902467124084083"
          ],
          "function": "Abstraction.__call__",
          "type_params": {
           "T": {
            "type": "Integer"
           },
           "U": {
            "type": "Integer"
           }
          }
         }
        ],
        "-4010810132101647448": [
         "324",
         {
          "args": [
           "3046289507001227782",
           "-4258957792566301137"
          ],
          "function": "Abstraction.__call__",
          "type_params": {
           "T": {
            "type": "Integer"
           },
           "U": {
            "type": "Integer"
           }
          }
         }
        ],
        "-4061160045471027619": [
         "1736",
         {
          "args": [
           "-5077450201645019716"
          ],
          "function": "Integer.from_int"
         }
        ],
        "-4243314820986609143": [
         "4",
         {
          "args": [
           "-1681767555338753697",
           "8287283151426784322"
          ],
          "function": "Abstraction.__call__",
          "type_params": {
           "T": {
            "type": "Integer"
           },
           "U": {
            "type": "Integer"
           }
          }
         }
        ],
        "-4247772069641209312": [
         "2095",
         {
          "args": [
           "-6951288059290601538",
           "-8267061052948186291",
           "2768076439222811738"
          ],
          "function": "Boolean.if_"
         }
        ],
        "-4255043588211469147": [
         "738",
         {
          "args": [
           "8287283151426784322",
           "-801800994066151079"
          ],
          "function": "Integer.__sub__"
         }
        ],
        "-4258957792566301137": [
         "323",
         {
          "args": [
           "8266129563128831658",
           "-5426275952129512663"
          ],
          "function": "Integer.__add__"
         }
        ],
        "-42827837141343569": [
         "4",
         {
          "args": [
           "-173279802764137478",
           "1697458433628724164",
           "-1127966374457125643"
          ],
          "function": "Boolean.if_"
         }
        ],
        "-4357907184230763685": [
         "1265",
         {
          "args": [
           "6590206105732749594",
           "-1676170044209412934"
          ],
          "function": "Abstraction.__call__",
          "type_params": {
           "T": {
            "type": "Integer"
           },
           "U": {
            "type": "Integer"
           }
          }
         }
        ],
        "-4417421786496220950": [
         "394",
         {
          "args": [
           "6120816512117126328",
           "-801800994066151079"
          ],
          "function": "Abstraction.__call__",
          "type_params": {
           "T": {
            "type": "Integer"
           },
           "U": {
            "params": {
             "T": {
              "type": "Integer"
             },
             "U": {
              "type": "Integer"
             }
            },
            "type": "Abstraction"
           }
          }
         }
        ],
        "-4433952745154634435": [
         "171",
         {
          "args": [
           "5042773771782979967",
           "8266129563128831658"
          ],
          "function": "Abstraction.__call__",
          "type_params": {
           "T": {
            "type": "Integer"
           },
           "U": {
            "params": {
             "T": {
              "type": "Integer"
             },
             "U": {
              "type": "Integer"
             }
            },
            "type": "Abstraction"
           }
          }
         }
        ],
        "-4521151675862304457": [
         "1774",
         {
          "args": [
           "8845518020237659268",
           "-1127966374457125643"
          ],
          "function": "Abstraction.__call__",
          "type_params": {
           "T": {
            "type": "Integer"
           },
           "U": {
            "params": {
             "T": {
              "type": "Integer"
             },
             "U": {
              "type": "Integer"
             }
            },
            "type": "Abstraction"
           }
          }
         }
        ],
        "-455384923308509031": [
         "1538",
         {
          "args": [
           "-8051788361287318974",
           "-1127966374457125643"
          ],
          "function": "Abstraction.__call__",
          "type_params": {
           "T": {
            "type": "Integer"
           },
           "U": {
            "type": "Integer"
           }
          }
         }
        ],
        "-4583955618747866706": [
         "1940",
         {
          "args": [
           "6321508888815918528",
           "3328637645628897464",
           "-1127966374457125643"
          ],
          "function": "Boolean.if_"
         }
        ],
        "-4614975930180568821": [
         "4",
         {
          "args": [
           "3706372163099085704",
           "-1127966374457125643"
          ],
          "function": "Abstraction.__call__",
          "type_params": {
           "T": {
            "type": "Integer"
           },
           "U": {
            "type": "Integer"
           }
          }
         }
        ],
        "-4640511923041804626": [
         "1101",
         {
          "args": [
           "5197123622989158450",
           "-5426275952129512663"
          ],
          "function": "Abstraction.__call__",
          "type_params": {
           "T": {
            "type": "Integer"
           },
           "U": {
            "params": {
             "T": {
              "type": "Integer"
             },
             "U": {
              "type": "Integer"
             }
            },
            "type": "Abstraction"
           }
          }
         }
        ],
        "-4699554956187445087": [
         "1177",
         {
          "args": [
           "2516676606967915759",
           "9023799992201590501"
          ],
          "function": "Abstraction.__call__",
          "type_params": {
           "T": {
            "type": "Integer"
           },
           "U": {
            "params": {
             "T": {
              "type": "Integer"
             },
             "U": {
              "params": {
               "T": {
                "type": "Integer"
               },
               "U": {
                "type": "Integer"
               }
              },
              "type": "Abstraction"
             }
            },
            "type": "Abstraction"
           }
          }
         }
        ],
        "-4733466627403292167": [
         "746",
         {
          "args": [
           "-3159018187749032900",
           "-8411147389139933288",
           "-801800994066151079"
          ],
          "function": "Boolean.if_"
         }
        ],
        "-4783786898263984887": [
         "1104",
         {
          "args": [
           "-1110296496125714697",
           "-5426275952129512663"
          ],
          "function": "Integer.__add__"
         }
        ],
        "-4787986170082171411": [
         "1571",
         {
          "args": [
           "-3134450228486803831",
           "513246557790528230"
          ],
          "function": "Abstraction.create",
          "type_params": {
           "T": {
            "type": "Integer"
           },
           "U": {
            "params": {
             "T": {
              "type": "Integer"
             },
             "U": {
              "type": "Integer"
             }
            },
            "type": "Abstraction"
           }
          }
         }
        ],
        "-4803308165294785806": [
         "777",
         {
          "args": [
           "560823455631952198",
           "-2242209172835132093"
          ],
          "function": "Abstraction.__call__",
          "type_params": {
           "T": {
            "type": "Integer"
           },
           "U": {
            "params": {
             "T": {
              "type": "Integer"
             },
             "U": {
              "params": {
               "T": {
                "type": "Integer"
               },
               "U": {
                "type": "Integer"
               }
              },
              "type": "Abstraction"
             }
            },
            "type": "Abstraction"
           }
          }
         }
        ],
        "-4832175547298811883": [
         "1930",
         {
          "args": [
           "-8411147389139933288",
           "-801800994066151079"
          ],
          "function": "Integer.__sub__"
         }
        ],
        "-4896745298611792476": [
         "355",
         {
          "args": [
           "277852127613867312",
           "-801800994066151079"
          ],
          "function": "Integer.__sub__"
         }
        ],
        "-4901468682141779829": [
         "1144",
         {
          "args": [
           "-5034093993212600357",
           "8287283151426784322"
          ],
          "function": "Abstraction.__call__",
          "type_params": {
           "T": {
            "type": "Integer"
           },
           "U": {
            "type": "Integer"
           }
          }
         }
        ],
        "-4927717138543054476": [
         "200",
         {
          "args": [
           "5372447053102658136",
           "-5426275952129512663"
          ],
          "function": "Abstraction.__call__",
          "type_params": {
           "T": {
            "type": "Integer"
           },
           "U": {
            "params": {
             "T": {
              "type": "Integer"
             },
             "U": {
              "type": "Integer"
             }
            },
            "type": "Abstraction"
           }
          }
         }
        ],
        "-4970459066168554903": [
         "481",
         {
          "args": [
           "-5791975375398302738",
           "-5426275952129512663",
           "-3134450228486803831"
          ],
          "function": "Boolean.if_"
         }
        ],
        "-5023621627109828710": [
         "2059",
         {
          "args": [
           "-6951288059290601538",
           "-899194217693039437",
           "3745962156717502997"
          ],
          "function": "Boolean.if_"
         }
        ],
        "-5034093993212600357": [
         "1140",
         {
          "args": [
           "5197123622989158450",
           "9023799992201590501"
          ],
          "function": "Abstraction.__call__",
          "type_params": {
           "T": {
            "type": "Integer"
           },
           "U": {
            "params": {
             "T": {
              "type": "Integer"
             },
             "U": {
              "type": "Integer"
             }
            },
            "type": "Abstraction"
           }
          }
         }
        ],
        "-5060167438648985712": [
         "1337",
         {
          "args": [
           "9023799992201590501",
           "8287283151426784322"
          ],
          "function": "Integer.__add__"
         }
        ],
        "-5076727890713915745": [
         "4",
         {
          "args": [
           "487553360406220215",
           "277852127613867312",
           "8266129563128831658",
           "-801800994066151079"
          ],
          "function": "FunctionThree.__call__",
          "type_params": {
           "T": {
            "type": "Integer"
           },
           "U": {
            "type": "Integer"
           },
           "V": {
            "type": "Integer"
           },
           "X": {
            "type": "Integer"
           }
          }
         }
        ],
        "-5077450201634194466": [
         "909",
         {
          "repr": "7",
          "type": "int"
         }
        ],
        "-5077450201635276991": [
         "1109",
         {
          "repr": "6",
          "type": "int"
         }
        ],
        "-5077450201636359516": [
         "1305",
         {
          "repr": "5",
          "type": "int"
         }
        ],
        "-5077450201637442041": [
         "1503",
         {
          "repr": "4",
          "type": "int"
         }
        ],
        "-5077450201638524566": [
         "1703",
         {
          "repr": "3",
          "type": "int"
         }
        ],
        "-5077450201639607091": [
         "1903",
         {
          "repr": "2",
          "type": "int"
         }
        ],
        "-5077450201640689616": [
         "2096",
         {
          "repr": "1",
          "type": "int"
         }
        ],
        "-5077450201641772141": [
         "2134",
         {
          "repr": "0",
          "type": "int"
         }
        ],
        "-5077450201645019716": [
         "1735",
         {
          "repr": "13",
          "type": "int"
         }
        ],
        "-5077450201648267291": [
         "328",
         {
          "repr": "10",
          "type": "int"
         }
        ],
        "-5077450201649349816": [
         "519",
         {
          "repr": "9",
          "type": "int"
         }
        ],
        "-5077450201650432341": [
         "1535",
         {
          "repr": "8",
          "type": "int"
         }
        ],
        "-5077450201653679916": [
         "1935",
         {
          "repr": "21",
          "type": "int"
         }
        ],
        "-5077450201674247891": [
         "2126",
         {
          "repr": "34",
          "type": "int"
         }
        ],
        "-5077450201686155666": [
         "2136",
         {
          "repr": "55",
          "type": "int"
         }
        ],
        "-5077450201735951816": [
         "2133",
         {
          "repr": "89",
          "type": "int"
         }
        ],
        "-5077963005297038142": [
         "82",
         {
          "args": [
           "-8182323879204319068"
          ],
          "function": "Abstraction.create_variable",
          "type_params": {
           "T": {
            "type": "Integer"
           },
           "U": {
            "type": "Integer"
           }
          }
         }
        ],
        "-5085088520955578816": [
         "2132",
         {
          "repr": "True",
          "type": "bool"
         }
        ],
        "-5085088520956661341": [
         "2135",
         {
          "repr": "False",
          "type": "bool"
         }
        ],
        "-5189665647578762924": [
         "16",
         {
          "args": [
           "812953126781410566",
           "-5077963005297038142",
           "8266129563128831658",
           "-801800994066151079"
          ],
          "function": "FunctionThree.__call__",
          "type_params": {
           "T": {
            "type": "Integer"
           },
           "U": {
            "type": "Integer"
           },
           "V": {
            "type": "Integer"
           },
           "X": {
            "type": "Integer"
           }
          }
         }
        ],
        "-5192539568545985969": [
         "7",
         {
          "args": [
           "-5077963005297038142",
           "-5189665647578762924"
          ],
          "function": "Abstraction.create",
          "type_params": {
           "T": {
            "type": "Integer"
           },
           "U": {
            "type": "Integer"
           }
          }
         }
        ],
        "-5213335186121545789": [
         "78",
         {
          "args": [
           "-5077963005297038142",
           "-3004406239927766481"
          ],
          "function": "Abstraction.create",
          "type_params": {
           "T": {
            "type": "Integer"
           },
           "U": {
            "type": "Integer"
           }
          }
         }
        ],
        "-5277747147447870579": [
         "2129",
         {
          "args": [
           "-2233103654628883732",
           "-1299908754583128688"
          ],
          "function": "Abstraction.__call__",
          "type_params": {
           "T": {
            "type": "Integer"
           },
           "U": {
            "type": "Integer"
           }
          }
         }
        ],
        "-5306754951991459874": [
         "1502",
         {
          "args": [
           "-1815412774321759192",
           "-252865817105063454",
           "-7927239239363077979"
          ],
          "function": "Boolean.if_"
         }
        ],
        "-5352859569795163535": [
         "393",
         {
          "args": [
           "-2918624255584909654",
           "6381668467247275985"
          ],
          "function": "Abstraction.__call__",
          "type_params": {
           "T": {
            "type": "Integer"
           },
           "U": {
            "params": {
             "T": {
              "type": "Integer"
             },
             "U": {
              "params": {
               "T": {
                "type": "Integer"
               },
               "U": {
                "type": "Integer"
               }
              },
              "type": "Abstraction"
             }
            },
            "type": "Abstraction"
           }
          }
         }
        ],
        "-5353378053435854475": [
         "2025",
         {
          "args": [
           "8037729559985061240",
           "-911409656388142259",
           "3726156590391311996"
          ],
          "function": "Boolean.if_"
         }
        ],
        "-5368476278062391617": [
         "20",
         {
          "args": [
           "3651155343468206760"
          ],
          "function": "Abstraction.fix"
         }
        ],
        "-5426275952129512663": [
         "2106",
         {
          "args": [
           "1041069506526515990"
          ],
          "function": "Abstraction.create_variable",
          "type_params": {
           "T": {
            "type": "Integer"
           },
           "U": {
            "type": "Integer"
           }
          }
         }
        ],
        "-5444139102349774997": [
         "1067",
         {
          "args": [
           "-4640511923041804626",
           "-1676170044209412934"
          ],
          "function": "Abstraction.__call__",
          "type_params": {
           "T": {
            "type": "Integer"
           },
           "U": {
            "type": "Integer"
           }
          }
         }
        ],
        "-5455590144846900526": [
         "2112",
         {
          "args": [
           "4570513942002998000",
           "-1676170044209412934"
          ],
          "function": "Abstraction.__call__",
          "type_params": {
           "T": {
            "type": "Integer"
           },
           "U": {
            "type": "Integer"
           }
          }
         }
        ],
        "-5464231311208189937": [
         "7",
         {
          "args": [
           "-5077963005297038142",
           "-6855946233099837420"
          ],
          "function": "Abstraction.create",
          "type_params": {
           "T": {
            "type": "Integer"
           },
           "U": {
            "type": "Integer"
           }
          }
         }
        ],
        "-5524342628174025274": [
         "548",
         {
          "args": [
           "7749659093632753979",
           "-801800994066151079"
          ],
          "function": "Abstraction.__call__",
          "type_params": {
           "T": {
            "type": "Integer"
           },
           "U": {
            "params": {
             "T": {
              "type": "Integer"
             },
             "U": {
              "type": "Integer"
             }
            },
            "type": "Abstraction"
           }
          }
         }
        ],
        "-5559326583280112346": [
         "363",
         {
          "args": [
           "6321508888815918528",
           "-801800994066151079",
           "8266129563128831658"
          ],
          "function": "Boolean.if_"
         }
        ],
        "-5574747943503878893": [
         "583",
         {
          "args": [
           "-2918624255584909654",
           "8287283151426784322"
          ],
          "function": "Abstraction.__call__",
          "type_params": {
           "T": {
            "type": "Integer"
           },
           "U": {
            "params": {
             "T": {
              "type": "Integer"
             },
             "U": {
              "params": {
               "T": {
                "type": "Integer"
               },
               "U": {
                "type": "Integer"
               }
              },
              "type": "Abstraction"
             }
            },
            "type": "Abstraction"
           }
          }
         }
        ],
        "-5688227018221168063": [
         "4",
         {
          "args": [
           "-6987099944645837398",
           "-8411147389139933288"
          ],
          "function": "Abstraction.__call__",
          "type_params": {
           "T": {
            "type": "Integer"
           },
           "U": {
            "type": "Integer"
           }
          }
         }
        ],
        "-5705685365914574272": [
         "1968",
         {
          "args": [
           "560823455631952198",
           "-801800994066151079"
          ],
          "function": "Abstraction.__call__",
          "type_params": {
           "T": {
            "type": "Integer"
           },
           "U": {
            "params": {
             "T": {
              "type": "Integer"
             },
             "U": {
              "params": {
               "T": {
                "type": "Integer"
               },
               "U": {
                "type": "Integer"
               }
              },
              "type": "Abstraction"
             }
            },
            "type": "Abstraction"
           }
          }
         }
        ],
        "-5719665978959350747": [
         "1339",
         {
          "args": [
           "9023799992201590501",
           "-801800994066151079"
          ],
          "function": "Integer.eq"
         }
        ],
        "-5754315939870985477": [
         "4",
         {
          "args": [
           "-1945844223427463191",
           "8287283151426784322"
          ],
          "function": "Abstraction.__call__",
          "type_params": {
           "T": {
            "type": "Integer"
           },
           "U": {
            "type": "Integer"
           }
          }
         }
        ],
        "-5791975375398302738": [
         "551",
         {
          "args": [
           "6381668467247275985",
           "-801800994066151079"
          ],
          "function": "Integer.eq"
         }
        ],
        "-5797690942663528579": [
         "4",
         {
          "args": [
           "-6951288059290601538",
           "5718085791749758998",
           "7392902467124084083"
          ],
          "function": "Boolean.if_"
         }
        ],
        "-5858262729881089727": [
         "171",
         {
          "args": [
           "-37521069523464347",
           "8266129563128831658"
          ],
          "function": "Abstraction.__call__",
          "type_params": {
           "T": {
            "type": "Integer"
           },
           "U": {
            "params": {
             "T": {
              "type": "Integer"
             },
             "U": {
              "type": "Integer"
             }
            },
            "type": "Abstraction"
           }
          }
         }
        ],
        "-5908126905911275508": [
         "780",
         {
          "args": [
           "-5426275952129512663",
           "-2083943988471883110"
          ],
          "function": "Abstraction.create",
          "type_params": {
           "T": {
            "type": "Integer"
           },
           "U": {
            "type": "Integer"
           }
          }
         }
        ],
        "-593101952756309468": [
         "24",
         {
          "args": [
           "-7776228912258788243"
          ],
          "function": "Abstraction.from_fn"
         }
        ],
        "-597515039822554464": [
         "1143",
         {
          "args": [
           "-1110296496125714697",
           "9023799992201590501"
          ],
          "function": "Integer.__add__"
         }
        ],
        "-601338984146599767": [
         "1146",
         {
          "args": [
           "6321508888815918528",
           "9023799992201590501",
           "-1110296496125714697"
          ],
          "function": "Boolean.if_"
         }
        ],
        "-6032215611507379004": [
         "977",
         {
          "args": [
           "2516676606967915759",
           "8316436884507874420"
          ],
          "function": "Abstraction.__call__",
          "type_params": {
           "T": {
            "type": "Integer"
           },
           "U": {
            "params": {
             "T": {
              "type": "Integer"
             },
             "U": {
              "params": {
               "T": {
                "type": "Integer"
               },
               "U": {
                "type": "Integer"
               }
              },
              "type": "Abstraction"
             }
            },
            "type": "Abstraction"
           }
          }
         }
        ],
        "-6068000356580008140": [
         "780",
         {
          "args": [
           "8926369842432354593",
           "-8411147389139933288"
          ],
          "function": "Abstraction.__call__",
          "type_params": {
           "T": {
            "type": "Integer"
           },
           "U": {
            "params": {
             "T": {
              "type": "Integer"
             },
             "U": {
              "type": "Integer"
             }
            },
            "type": "Abstraction"
           }
          }
         }
        ],
        "-6104370195395498100": [
         "191",
         {
          "args": [
           "-5426275952129512663",
           "6611286975507299864"
          ],
          "function": "Abstraction.create",
          "type_params": {
           "T": {
            "type": "Integer"
           },
           "U": {
            "type": "Integer"
           }
          }
         }
        ],
        "-615176712725468416": [
         "780",
         {
          "args": [
           "-4803308165294785806",
           "-8411147389139933288"
          ],
          "function": "Abstraction.__call__",
          "type_params": {
           "T": {
            "type": "Integer"
           },
           "U": {
            "params": {
             "T": {
              "type": "Integer"
             },
             "U": {
              "type": "Integer"
             }
            },
            "type": "Abstraction"
           }
          }
         }
        ],
        "-6155009463724824039": [
         "1340",
         {
          "args": [
           "6321508888815918528",
           "8287283151426784322",
           "9023799992201590501"
          ],
          "function": "Boolean.if_"
         }
        ],
        "-6204855144531354183": [
         "4",
         {
          "args": [
           "-2298413480251783172",
           "5017729979198806200",
           "-1110296496125714697"
          ],
          "function": "Boolean.if_"
         }
        ],
        "-6219751249766497992": [
         "4",
         {
          "args": [
           "8725935464599729207",
           "8287283151426784322"
          ],
          "function": "Abstraction.__call__",
          "type_params": {
           "T": {
            "type": "Integer"
           },
           "U": {
            "type": "Integer"
           }
          }
         }
        ],
        "-6339487674929352912": [
         "1178",
         {
          "args": [
           "-4699554956187445087",
           "9023799992201590501"
          ],
          "function": "Abstraction.__call__",
          "type_params": {
           "T": {
            "type": "Integer"
           },
           "U": {
            "params": {
             "T": {
              "type": "Integer"
             },
             "U": {
              "type": "Integer"
             }
            },
            "type": "Abstraction"
           }
          }
         }
        ],
        "-6341191070088461170": [
         "977",
         {
          "args": [
           "560823455631952198",
           "8316436884507874420"
          ],
          "function": "Abstraction.__call__",
          "type_params": {
           "T": {
            "type": "Integer"
           },
           "U": {
            "params": {
             "T": {
              "type": "Integer"
             },
             "U": {
              "params": {
               "T": {
                "type": "Integer"
               },
               "U": {
                "type": "Integer"
               }
              },
              "type": "Abstraction"
             }
            },
            "type": "Abstraction"
           }
          }
         }
        ],
        "-6347830715988935560": [
         "1269",
         {
          "args": [
           "-5426275952129512663",
           "4851886513452406100"
          ],
          "function": "Abstraction.create",
          "type_params": {
           "T": {
            "type": "Integer"
           },
           "U": {
            "type": "Integer"
           }
          }
         }
        ],
        "-6408508445525284056": [
         "7",
         {
          "args": [
           "-5077963005297038142",
           "1698625727966581427"
          ],
          "function": "Abstraction.create",
          "type_params": {
           "T": {
            "type": "Integer"
           },
           "U": {
            "type": "Integer"
           }
          }
         }
        ],
        "-641385849391593127": [
         "4",
         {
          "args": [
           "-3628281943847458944",
           "-1127966374457125643"
          ],
          "function": "Abstraction.__call__",
          "type_params": {
           "T": {
            "type": "Integer"
           },
           "U": {
            "type": "Integer"
           }
          }
         }
        ],
        "-6433039568627941057": [
         "4",
         {
          "args": [
           "1321722653791223987",
           "8336371369559552572",
           "-801800994066151079"
          ],
          "function": "Boolean.if_"
         }
        ],
        "-6474555534269580406": [
         "1968",
         {
          "args": [
           "2516676606967915759",
           "-801800994066151079"
          ],
          "function": "Abstraction.__call__",
          "type_params": {
           "T": {
            "type": "Integer"
           },
           "U": {
            "params": {
             "T": {
              "type": "Integer"
             },
             "U": {
              "params": {
               "T": {
                "type": "Integer"
               },
               "U": {
                "type": "Integer"
               }
              },
              "type": "Abstraction"
             }
            },
            "type": "Abstraction"
           }
          }
         }
        ],
        "-6490097695398483981": [
         "171",
         {
          "args": [
           "-5426275952129512663",
           "-1991834953469544757"
          ],
          "function": "Abstraction.create",
          "type_params": {
           "T": {
            "type": "Integer"
           },
           "U": {
            "type": "Integer"
           }
          }
         }
        ],
        "-6625240827356721842": [
         "4",
         {
          "args": [
           "-4433952745154634435",
           "-801800994066151079"
          ],
          "function": "Abstraction.__call__",
          "type_params": {
           "T": {
            "type": "Integer"
           },
           "U": {
            "type": "Integer"
           }
          }
         }
        ],
        "-6645676425733723667": [
         "1937",
         {
          "args": [
           "-1127966374457125643",
           "3328637645628897464"
          ],
          "function": "Integer.__add__"
         }
        ],
        "-6685418151069889607": [
         "4",
         {
          "args": [
           "-2940597550331594116",
           "-2083200610877319178",
           "-4061160045471027619"
          ],
          "function": "Boolean.if_"
         }
        ],
        "-669076825847948676": [
         "165",
         {
          "args": [
           "362675181390258870"
          ],
          "function": "Abstraction.fix"
         }
        ],
        "-6723591216675468966": [
         "1774",
         {
          "args": [
           "7772771530519993891",
           "-1127966374457125643"
          ],
          "function": "Abstraction.__call__",
          "type_params": {
           "T": {
            "type": "Integer"
           },
           "U": {
            "params": {
             "T": {
              "type": "Integer"
             },
             "U": {
              "type": "Integer"
             }
            },
            "type": "Abstraction"
           }
          }
         }
        ],
        "-6729212975227054610": [
         "197",
         {
          "args": [
           "8966914071754322816"
          ],
          "function": "FunctionThree.abstraction",
          "type_params": {
           "T": {
            "type": "Integer"
           },
           "U": {
            "type": "Integer"
           },
           "V": {
            "type": "Integer"
           },
           "X": {
            "type": "Integer"
           }
          }
         }
        ],
        "-6768199085063043736": [
         "1177",
         {
          "args": [
           "-2918624255584909654",
           "9023799992201590501"
          ],
          "function": "Abstraction.__call__",
          "type_params": {
           "T": {
            "type": "Integer"
           },
           "U": {
            "params": {
             "T": {
              "type": "Integer"
             },
             "U": {
              "params": {
               "T": {
                "type": "Integer"
               },
               "U": {
                "type": "Integer"
               }
              },
              "type": "Abstraction"
             }
            },
            "type": "Abstraction"
           }
          }
         }
        ],
        "-6813026106247465222": [
         "675",
         {
          "args": [
           "-5426275952129512663",
           "6588440485695573066"
          ],
          "function": "Abstraction.create",
          "type_params": {
           "T": {
            "type": "Integer"
           },
           "U": {
            "type": "Integer"
           }
          }
         }
        ],
        "-6831297998772782663": [
         "1901",
         {
          "args": [
           "3557768599575072972",
           "-5426275952129512663",
           "-1127966374457125643"
          ],
          "function": "Boolean.if_"
         }
        ],
        "-6855946233099837420": [
         "16",
         {
          "args": [
           "7834779701190388931",
           "-5077963005297038142",
           "8266129563128831658",
           "-801800994066151079"
          ],
          "function": "FunctionThree.__call__",
          "type_params": {
           "T": {
            "type": "Integer"
           },
           "U": {
            "type": "Integer"
           },
           "V": {
            "type": "Integer"
           },
           "X": {
            "type": "Integer"
           }
          }
         }
        ],
        "-6861560660440697336": [
         "4",
         {
          "args": [
           "-8533041076784310296",
           "8028565314492594751",
           "-8411147389139933288"
          ],
          "function": "Boolean.if_"
         }
        ],
        "-6900882964502864818": [
         "1771",
         {
          "args": [
           "2516676606967915759",
           "-8411147389139933288"
          ],
          "function": "Abstraction.__call__",
          "type_params": {
           "T": {
            "type": "Integer"
           },
           "U": {
            "params": {
             "T": {
              "type": "Integer"
             },
             "U": {
              "params": {
               "T": {
                "type": "Integer"
               },
               "U": {
                "type": "Integer"
               }
              },
              "type": "Abstraction"
             }
            },
            "type": "Abstraction"
           }
          }
         }
        ],
        "-6910040230053943196": [
         "4",
         {
          "args": [
           "8922057259011276207",
           "-801800994066151079"
          ],
          "function": "Abstraction.__call__",
          "type_params": {
           "T": {
            "type": "Integer"
           },
           "U": {
            "type": "Integer"
           }
          }
         }
        ],
        "-6951026891768518467": [
         "4",
         {
          "args": [
           "3414931883099538491",
           "277852127613867312"
          ],
          "function": "Abstraction.__call__",
          "type_params": {
           "T": {
            "type": "Integer"
           },
           "U": {
            "type": "Integer"
           }
          }
         }
        ],
        "-6951123171904970619": [
         "4",
         {
          "args": [
           "-2298413480251783172",
           "-6219751249766497992",
           "-1110296496125714697"
          ],
          "function": "Boolean.if_"
         }
        ],
        "-6951288059290601538": [
         "2098",
         {
          "args": [
           "-801800994066151079",
           "-801800994066151079"
          ],
          "function": "Integer.__gt__"
         }
        ],
        "-6956111038982064794": [
         "1971",
         {
          "args": [
           "-5705685365914574272",
           "3328637645628897464"
          ],
          "function": "Abstraction.__call__",
          "type_params": {
           "T": {
            "type": "Integer"
           },
           "U": {
            "params": {
             "T": {
              "type": "Integer"
             },
             "U": {
              "type": "Integer"
             }
            },
            "type": "Abstraction"
           }
          }
         }
        ],
        "-6978676063710463812": [
         "1332",
         {
          "args": [
           "9023799992201590501",
           "-801800994066151079"
          ],
          "function": "Integer.__sub__"
         }
        ],
        "-6987099944645837398": [
         "584",
         {
          "args": [
           "-5426275952129512663",
           "8122883201962725113"
          ],
          "function": "Abstraction.create",
          "type_params": {
           "T": {
            "type": "Integer"
           },
           "U": {
            "type": "Integer"
           }
          }
         }
        ],
        "-7107333823421558800": [
         "901",
         {
          "args": [
           "4508290680206952837",
           "-5426275952129512663"
          ],
          "function": "Abstraction.__call__",
          "type_params": {
           "T": {
            "type": "Integer"
           },
           "U": {
            "params": {
             "T": {
              "type": "Integer"
             },
             "U": {
              "type": "Integer"
             }
            },
            "type": "Abstraction"
           }
          }
         }
        ],
        "-7203011181200915043": [
         "1740",
         {
          "args": [
           "6321508888815918528",
           "-1127966374457125643",
           "-4061160045471027619"
          ],
          "function": "Boolean.if_"
         }
        ],
        "-7227360225357293902": [
         "194",
         {
          "args": [
           "6746237808157956011",
           "1964912160752058246"
          ],
          "function": "Abstraction.create",
          "type_params": {
           "T": {
            "params": {
             "T": {
              "type": "Integer"
             },
             "U": {
              "params": {
               "T": {
                "type": "Integer"
               },
               "U": {
                "params": {
                 "T": {
                  "type": "Integer"
                 },
                 "U": {
                  "type": "Integer"
                 }
                },
                "type": "Abstraction"
               }
              },
              "type": "Abstraction"
             }
            },
            "type": "Abstraction"
           },
           "U": {
            "params": {
             "T": {
              "type": "Integer"
             },
             "U": {
              "params": {
               "T": {
                "type": "Integer"
               },
               "U": {
                "params": {
                 "T": {
                  "type": "Integer"
                 },
                 "U": {
                  "type": "Integer"
                 }
                },
                "type": "Abstraction"
               }
              },
              "type": "Abstraction"
             }
            },
            "type": "Abstraction"
           }
          }
         }
        ],
        "-7255667736369028645": [
         "332",
         {
          "args": [
           "277852127613867312",
           "-801800994066151079"
          ],
          "function": "Integer.__gt__"
         }
        ],
        "-7310769833958311087": [
         "2121",
         {
          "args": [
           "-801800994066151079",
           "-801800994066151079"
          ],
          "function": "Integer.__sub__"
         }
        ],
        "-7311898625197263072": [
         "4",
         {
          "args": [
           "5911018480776101834",
           "277852127613867312"
          ],
          "function": "FunctionOne.__call__",
          "type_params": {
           "T": {
            "type": "Integer"
           },
           "U": {
            "type": "Integer"
           }
          }
         }
        ],
        "-732316379779617445": [
         "4",
         {
          "args": [
           "-173279802764137478",
           "-2809842081765076799",
           "-1127966374457125643"
          ],
          "function": "Boolean.if_"
         }
        ],
        "-7368528092517862245": [
         "1971",
         {
          "args": [
           "1309959080961015455",
           "3328637645628897464"
          ],
          "function": "Abstraction.__call__",
          "type_params": {
           "T": {
            "type": "Integer"
           },
           "U": {
            "params": {
             "T": {
              "type": "Integer"
             },
             "U": {
              "type": "Integer"
             }
            },
            "type": "Abstraction"
           }
          }
         }
        ],
        "-737887707943826603": [
         "360",
         {
          "args": [
           "8266129563128831658",
           "-801800994066151079"
          ],
          "function": "Integer.__add__"
         }
        ],
        "-7441735551831453783": [
         "4",
         {
          "args": [
           "419036598942286908",
           "-4061160045471027619"
          ],
          "function": "Abstraction.__call__",
          "type_params": {
           "T": {
            "type": "Integer"
           },
           "U": {
            "type": "Integer"
           }
          }
         }
        ],
        "-7477973265007235012": [
         "1071",
         {
          "args": [
           "-5426275952129512663",
           "1781184199628521866"
          ],
          "function": "Abstraction.create",
          "type_params": {
           "T": {
            "type": "Integer"
           },
           "U": {
            "type": "Integer"
           }
          }
         }
        ],
        "-749555488437316466": [
         "1938",
         {
          "args": [
           "-8266425021226895723",
           "-6645676425733723667"
          ],
          "function": "Abstraction.__call__",
          "type_params": {
           "T": {
            "type": "Integer"
           },
           "U": {
            "type": "Integer"
           }
          }
         }
        ],
        "-7497714223547366321": [
         "4",
         {
          "args": [
           "-8887223489283445628",
           "-801800994066151079"
          ],
          "function": "Abstraction.__call__",
          "type_params": {
           "T": {
            "type": "Integer"
           },
           "U": {
            "type": "Integer"
           }
          }
         }
        ],
        "-7510803110236166414": [
         "4",
         {
          "args": [
           "1431835543656700350",
           "277852127613867312"
          ],
          "function": "FunctionOne.__call__",
          "type_params": {
           "T": {
            "type": "Integer"
           },
           "U": {
            "type": "Integer"
           }
          }
         }
        ],
        "-756461586565618378": [
         "2060",
         {
          "args": [
           "-5426275952129512663",
           "-5023621627109828710"
          ],
          "function": "Abstraction.create",
          "type_params": {
           "T": {
            "type": "Integer"
           },
           "U": {
            "type": "Integer"
           }
          }
         }
        ],
        "-7602581157011475502": [
         "165",
         {
          "args": [
           "487553360406220215"
          ],
          "function": "FunctionThree.abstraction",
          "type_params": {
           "T": {
            "type": "Integer"
           },
           "U": {
            "type": "Integer"
           },
           "V": {
            "type": "Integer"
           },
           "X": {
            "type": "Integer"
           }
          }
         }
        ],
        "-7729922894212136018": [
         "2113",
         {
          "args": [
           "8730531355445951376",
           "-801800994066151079"
          ],
          "function": "Integer.eq"
         }
        ],
        "-7733025434501272912": [
         "4",
         {
          "args": [
           "5894627216596842936",
           "8962767874092586541",
           "5735465842034577146"
          ],
          "function": "Boolean.if_"
         }
        ],
        "-7764589128205958593": [
         "4",
         {
          "args": [
           "-3309380254304374222",
           "-801800994066151079"
          ],
          "function": "Abstraction.__call__",
          "type_params": {
           "T": {
            "type": "Integer"
           },
           "U": {
            "type": "Integer"
           }
          }
         }
        ],
        "-7776228705834261043": [
         "27",
         {
          "repr": "FunctionReplaceTyping(fn=<function FunctionThree.from_fn_recursive.<locals>.inner.<locals>.inner.<locals>.inner at 0x11a435e18>, typevars={~V: <class 'metadsl_core.integer.Integer'>, ~U: <class 'metadsl_core.integer.Integer'>, ~T: <class 'metadsl_core.integer.Integer'>, ~X: <class 'metadsl_core.integer.Integer'>}, typevars_in_scope={~V, ~X, ~U, ~T})",
          "type": "FunctionReplaceTyping"
         }
        ],
        "-7776228790894745443": [
         "18",
         {
          "repr": "FunctionReplaceTyping(fn=<function FunctionThree.from_fn_recursive.<locals>.inner at 0x10f77aea0>, typevars={~V: <class 'metadsl_core.integer.Integer'>, ~U: <class 'metadsl_core.integer.Integer'>, ~T: <class 'metadsl_core.integer.Integer'>, ~X: <class 'metadsl_core.integer.Integer'>}, typevars_in_scope={~U, ~T, ~V, ~X})",
          "type": "FunctionReplaceTyping"
         }
        ],
        "-7776228910613350243": [
         "31",
         {
          "repr": "FunctionReplaceTyping(fn=<function FunctionThree.from_fn_recursive.<locals>.inner.<locals>.inner.<locals>.inner.<locals>.inner at 0x11a435c80>, typevars={~V: <class 'metadsl_core.integer.Integer'>, ~U: <class 'metadsl_core.integer.Integer'>, ~T: <class 'metadsl_core.integer.Integer'>, ~X: <class 'metadsl_core.integer.Integer'>}, typevars_in_scope={~V, ~X, ~U, ~T})",
          "type": "FunctionReplaceTyping"
         }
        ],
        "-7776228912258788243": [
         "23",
         {
          "repr": "FunctionReplaceTyping(fn=<function FunctionThree.from_fn_recursive.<locals>.inner.<locals>.inner at 0x11a435b70>, typevars={~V: <class 'metadsl_core.integer.Integer'>, ~U: <class 'metadsl_core.integer.Integer'>, ~T: <class 'metadsl_core.integer.Integer'>, ~X: <class 'metadsl_core.integer.Integer'>}, typevars_in_scope={~U, ~T, ~V, ~X})",
          "type": "FunctionReplaceTyping"
         }
        ],
        "-7791097522193180729": [
         "2088",
         {
          "args": [
           "-302408779686132915",
           "-5426275952129512663"
          ],
          "function": "Abstraction.__call__",
          "type_params": {
           "T": {
            "type": "Integer"
           },
           "U": {
            "params": {
             "T": {
              "type": "Integer"
             },
             "U": {
              "type": "Integer"
             }
            },
            "type": "Abstraction"
           }
          }
         }
        ],
        "-7842067995882861556": [
         "4",
         {
          "args": [
           "-3192523946077563574",
           "-4061160045471027619"
          ],
          "function": "Abstraction.__call__",
          "type_params": {
           "T": {
            "type": "Integer"
           },
           "U": {
            "type": "Integer"
           }
          }
         }
        ],
        "-785298209924410706": [
         "290",
         {
          "args": [
           "-5426275952129512663",
           "5195122074378684910"
          ],
          "function": "Abstraction.create",
          "type_params": {
           "T": {
            "type": "Integer"
           },
           "U": {
            "type": "Integer"
           }
          }
         }
        ],
        "-7904712134556914810": [
         "1504",
         {
          "args": [
           "-5077450201637442041"
          ],
          "function": "Integer.from_int"
         }
        ],
        "-791080832611264274": [
         "4",
         {
          "args": [
           "1774175017414326056",
           "8287283151426784322"
          ],
          "function": "Abstraction.__call__",
          "type_params": {
           "T": {
            "type": "Integer"
           },
           "U": {
            "type": "Integer"
           }
          }
         }
        ],
        "-7927239239363077979": [
         "1501",
         {
          "args": [
           "8833176416643459614",
           "-5426275952129512663",
           "8287283151426784322"
          ],
          "function": "Boolean.if_"
         }
        ],
        "-7942042517478148471": [
         "2109",
         {
          "args": [
           "6746237808157956011",
           "554550087706363287"
          ],
          "function": "Abstraction.__call__",
          "type_params": {
           "T": {
            "type": "Integer"
           },
           "U": {
            "params": {
             "T": {
              "type": "Integer"
             },
             "U": {
              "params": {
               "T": {
                "type": "Integer"
               },
               "U": {
                "type": "Integer"
               }
              },
              "type": "Abstraction"
             }
            },
            "type": "Abstraction"
           }
          }
         }
        ],
        "-7952549334000461029": [
         "2027",
         {
          "args": [
           "-3134450228486803831",
           "4305999945746119675"
          ],
          "function": "Abstraction.create",
          "type_params": {
           "T": {
            "type": "Integer"
           },
           "U": {
            "params": {
             "T": {
              "type": "Integer"
             },
             "U": {
              "type": "Integer"
             }
            },
            "type": "Abstraction"
           }
          }
         }
        ],
        "-800441838294690534": [
         "16",
         {
          "args": [
           "-996409467075550444",
           "-5077963005297038142",
           "8266129563128831658",
           "-801800994066151079"
          ],
          "function": "FunctionThree.__call__",
          "type_params": {
           "T": {
            "type": "Integer"
           },
           "U": {
            "type": "Integer"
           },
           "V": {
            "type": "Integer"
           },
           "X": {
            "type": "Integer"
           }
          }
         }
        ],
        "-801800994066151079": [
         "2097",
         {
          "args": [
           "-5077450201640689616"
          ],
          "function": "Integer.from_int"
         }
        ],
        "-8026712068129754069": [
         "4",
         {
          "args": [
           "6726448046133397323",
           "-801800994066151079"
          ],
          "function": "Abstraction.__call__",
          "type_params": {
           "T": {
            "type": "Integer"
           },
           "U": {
            "type": "Integer"
           }
          }
         }
        ],
        "-8041154950791689897": [
         "546",
         {
          "args": [
           "6381668467247275985",
           "-801800994066151079"
          ],
          "function": "Integer.__sub__"
         }
        ],
        "-8051788361287318974": [
         "1534",
         {
          "args": [
           "4455307098282613136",
           "-4061160045471027619"
          ],
          "function": "Abstraction.__call__",
          "type_params": {
           "T": {
            "type": "Integer"
           },
           "U": {
            "params": {
             "T": {
              "type": "Integer"
             },
             "U": {
              "type": "Integer"
             }
            },
            "type": "Abstraction"
           }
          }
         }
        ],
        "-810539374333043576": [
         "2130",
         {
          "args": [
           "-801800994066151079",
           "-801800994066151079"
          ],
          "function": "Integer.eq"
         }
        ],
        "-8116445846070906171": [
         "4",
         {
          "args": [
           "3497896521332102840",
           "277852127613867312"
          ],
          "function": "FunctionOne.__call__",
          "type_params": {
           "T": {
            "type": "Integer"
           },
           "U": {
            "type": "Integer"
           }
          }
         }
        ],
        "-8159959248220056702": [
         "4",
         {
          "args": [
           "661661216699618580",
           "-1127966374457125643"
          ],
          "function": "Abstraction.__call__",
          "type_params": {
           "T": {
            "type": "Integer"
           },
           "U": {
            "type": "Integer"
           }
          }
         }
        ],
        "-8182302524109153693": [
         "2103",
         {
          "repr": "4735776976",
          "type": "Variable"
         }
        ],
        "-8182302530293619018": [
         "2101",
         {
          "repr": "4735685408",
          "type": "Variable"
         }
        ],
        "-8182323879204319068": [
         "81",
         {
          "repr": "4554483584",
          "type": "Variable"
         }
        ],
        "-8182323879214061793": [
         "2099",
         {
          "repr": "4554483472",
          "type": "Variable"
         }
        ],
        "-8266425021226895723": [
         "1934",
         {
          "args": [
           "8801211420620402818",
           "3328637645628897464"
          ],
          "function": "Abstraction.__call__",
          "type_params": {
           "T": {
            "type": "Integer"
           },
           "U": {
            "params": {
             "T": {
              "type": "Integer"
             },
             "U": {
              "type": "Integer"
             }
            },
            "type": "Abstraction"
           }
          }
         }
        ],
        "-8267061052948186291": [
         "2092",
         {
          "args": [
           "-7791097522193180729",
           "-8345401595227918373"
          ],
          "function": "Abstraction.__call__",
          "type_params": {
           "T": {
            "type": "Integer"
           },
           "U": {
            "type": "Integer"
           }
          }
         }
        ],
        "-8286069331761734788": [
         "1861",
         {
          "args": [
           "-140310678157734065",
           "-1676170044209412934"
          ],
          "function": "Abstraction.__call__",
          "type_params": {
           "T": {
            "type": "Integer"
           },
           "U": {
            "type": "Integer"
           }
          }
         }
        ],
        "-8286536436885183299": [
         "1108",
         {
          "args": [
           "-2298413480251783172",
           "-8796068018508027856",
           "4611312285244207685"
          ],
          "function": "Boolean.if_"
         }
        ],
        "-8345401595227918373": [
         "2091",
         {
          "args": [
           "3328637645628897464",
           "-5426275952129512663"
          ],
          "function": "Integer.__add__"
         }
        ],
        "-8353051989546661273": [
         "1971",
         {
          "args": [
           "-5426275952129512663",
           "-4247772069641209312"
          ],
          "function": "Abstraction.create",
          "type_params": {
           "T": {
            "type": "Integer"
           },
           "U": {
            "type": "Integer"
           }
          }
         }
        ],
        "-8383708108278929694": [
         "4",
         {
          "args": [
           "-6951288059290601538",
           "-5277747147447870579",
           "7392902467124084083"
          ],
          "function": "Boolean.if_"
         }
        ],
        "-839342104616946696": [
         "513",
         {
          "args": [
           "7749659093632753979",
           "-5426275952129512663"
          ],
          "function": "Abstraction.__call__",
          "type_params": {
           "T": {
            "type": "Integer"
           },
           "U": {
            "params": {
             "T": {
              "type": "Integer"
             },
             "U": {
              "type": "Integer"
             }
            },
            "type": "Abstraction"
           }
          }
         }
        ],
        "-8407048646428429972": [
         "980",
         {
          "args": [
           "-5426275952129512663",
           "-8286536436885183299"
          ],
          "function": "Abstraction.create",
          "type_params": {
           "T": {
            "type": "Integer"
           },
           "U": {
            "type": "Integer"
           }
          }
         }
        ],
        "-8411147389139933288": [
         "1904",
         {
          "args": [
           "-5077450201639607091"
          ],
          "function": "Integer.from_int"
         }
        ],
        "-8471631948374936369": [
         "171",
         {
          "args": [
           "5546100496952910853",
           "8266129563128831658"
          ],
          "function": "Abstraction.__call__",
          "type_params": {
           "T": {
            "type": "Integer"
           },
           "U": {
            "params": {
             "T": {
              "type": "Integer"
             },
             "U": {
              "type": "Integer"
             }
            },
            "type": "Abstraction"
           }
          }
         }
        ],
        "-8492487444195802439": [
         "584",
         {
          "args": [
           "-5574747943503878893",
           "-801800994066151079"
          ],
          "function": "Abstraction.__call__",
          "type_params": {
           "T": {
            "type": "Integer"
           },
           "U": {
            "params": {
             "T": {
              "type": "Integer"
             },
             "U": {
              "type": "Integer"
             }
            },
            "type": "Abstraction"
           }
          }
         }
        ],
        "-8533041076784310296": [
         "913",
         {
          "args": [
           "-2242209172835132093",
           "-801800994066151079"
          ],
          "function": "Integer.__gt__"
         }
        ],
        "-8537718888038066614": [
         "518",
         {
          "args": [
           "5894627216596842936",
           "7719550642365577392",
           "-8951495040684702642"
          ],
          "function": "Boolean.if_"
         }
        ],
        "-8550369580410916179": [
         "4",
         {
          "args": [
           "-5858262729881089727",
           "-801800994066151079"
          ],
          "function": "Abstraction.__call__",
          "type_params": {
           "T": {
            "type": "Integer"
           },
           "U": {
            "type": "Integer"
           }
          }
         }
        ],
        "-8565456963636995621": [
         "1",
         {
          "args": [
           "-2652070358770172702",
           "-6408508445525284056"
          ],
          "function": "FunctionOne.create",
          "type_params": {
           "T": {
            "type": "Integer"
           },
           "U": {
            "type": "Integer"
           }
          }
         }
        ],
        "-8609216689943626051": [
         "977",
         {
          "args": [
           "-2918624255584909654",
           "8316436884507874420"
          ],
          "function": "Abstraction.__call__",
          "type_params": {
           "T": {
            "type": "Integer"
           },
           "U": {
            "params": {
             "T": {
              "type": "Integer"
             },
             "U": {
              "params": {
               "T": {
                "type": "Integer"
               },
               "U": {
                "type": "Integer"
               }
              },
              "type": "Abstraction"
             }
            },
            "type": "Abstraction"
           }
          }
         }
        ],
        "-8610589663044156307": [
         "4",
         {
          "args": [
           "-7255667736369028645",
           "-7764589128205958593",
           "8266129563128831658"
          ],
          "function": "Boolean.if_"
         }
        ],
        "-8614716750494060866": [
         "1771",
         {
          "args": [
           "-3134450228486803831",
           "1378814186671866115"
          ],
          "function": "Abstraction.create",
          "type_params": {
           "T": {
            "type": "Integer"
           },
           "U": {
            "params": {
             "T": {
              "type": "Integer"
             },
             "U": {
              "type": "Integer"
             }
            },
            "type": "Abstraction"
           }
          }
         }
        ],
        "-8634797913289141757": [
         "1730",
         {
          "args": [
           "-1110296496125714697",
           "-801800994066151079"
          ],
          "function": "Integer.__sub__"
         }
        ],
        "-8682616525754288342": [
         "1145",
         {
          "args": [
           "8316436884507874420",
           "-801800994066151079"
          ],
          "function": "Integer.eq"
         }
        ],
        "-8707702417007092851": [
         "1971",
         {
          "args": [
           "2182628771632718461",
           "3328637645628897464"
          ],
          "function": "Abstraction.__call__",
          "type_params": {
           "T": {
            "type": "Integer"
           },
           "U": {
            "params": {
             "T": {
              "type": "Integer"
             },
             "U": {
              "type": "Integer"
             }
            },
            "type": "Abstraction"
           }
          }
         }
        ],
        "-8734477808183374995": [
         "362",
         {
          "args": [
           "277852127613867312",
           "-801800994066151079"
          ],
          "function": "Integer.eq"
         }
        ],
        "-8750736539962603618": [
         "1864",
         {
          "args": [
           "-173279802764137478",
           "-8286069331761734788",
           "8320803214511301674"
          ],
          "function": "Boolean.if_"
         }
        ],
        "-8790061294954934374": [
         "1774",
         {
          "args": [
           "-5426275952129512663",
           "5755996234079649962"
          ],
          "function": "Abstraction.create",
          "type_params": {
           "T": {
            "type": "Integer"
           },
           "U": {
            "type": "Integer"
           }
          }
         }
        ],
        "-8796068018508027856": [
         "1105",
         {
          "args": [
           "-4640511923041804626",
           "-4783786898263984887"
          ],
          "function": "Abstraction.__call__",
          "type_params": {
           "T": {
            "type": "Integer"
           },
           "U": {
            "type": "Integer"
           }
          }
         }
        ],
        "-8823299029888871904": [
         "168",
         {
          "args": [
           "-2918624255584909654",
           "277852127613867312"
          ],
          "function": "Abstraction.__call__",
          "type_params": {
           "T": {
            "type": "Integer"
           },
           "U": {
            "params": {
             "T": {
              "type": "Integer"
             },
             "U": {
              "params": {
               "T": {
                "type": "Integer"
               },
               "U": {
                "type": "Integer"
               }
              },
              "type": "Abstraction"
             }
            },
            "type": "Abstraction"
           }
          }
         }
        ],
        "-8830800814023513745": [
         "4",
         {
          "args": [
           "-6951288059290601538",
           "5991901416660653352",
           "7392902467124084083"
          ],
          "function": "Boolean.if_"
         }
        ],
        "-8887223489283445628": [
         "171",
         {
          "args": [
           "7143416816201954825",
           "8266129563128831658"
          ],
          "function": "Abstraction.__call__",
          "type_params": {
           "T": {
            "type": "Integer"
           },
           "U": {
            "params": {
             "T": {
              "type": "Integer"
             },
             "U": {
              "type": "Integer"
             }
            },
            "type": "Abstraction"
           }
          }
         }
        ],
        "-8951495040684702642": [
         "517",
         {
          "args": [
           "-5791975375398302738",
           "-5426275952129512663",
           "-801800994066151079"
          ],
          "function": "Boolean.if_"
         }
        ],
        "-8981310257094008174": [
         "19",
         {
          "args": [
           "6746237808157956011",
           "2392364089908614373"
          ],
          "function": "Abstraction.create",
          "type_params": {
           "T": {
            "params": {
             "T": {
              "type": "Integer"
             },
             "U": {
              "params": {
               "T": {
                "type": "Integer"
               },
               "U": {
                "params": {
                 "T": {
                  "type": "Integer"
                 },
                 "U": {
                  "type": "Integer"
                 }
                },
                "type": "Abstraction"
               }
              },
              "type": "Abstraction"
             }
            },
            "type": "Abstraction"
           },
           "U": {
            "params": {
             "T": {
              "type": "Integer"
             },
             "U": {
              "params": {
               "T": {
                "type": "Integer"
               },
               "U": {
                "params": {
                 "T": {
                  "type": "Integer"
                 },
                 "U": {
                  "type": "Integer"
                 }
                },
                "type": "Abstraction"
               }
              },
              "type": "Abstraction"
             }
            },
            "type": "Abstraction"
           }
          }
         }
        ],
        "-899194217693039437": [
         "2056",
         {
          "args": [
           "-7791097522193180729",
           "-1676170044209412934"
          ],
          "function": "Abstraction.__call__",
          "type_params": {
           "T": {
            "type": "Integer"
           },
           "U": {
            "type": "Integer"
           }
          }
         }
        ],
        "-9035613198182849844": [
         "4",
         {
          "args": [
           "-2646099426640432980",
           "7392902467124084083"
          ],
          "function": "Abstraction.__call__",
          "type_params": {
           "T": {
            "type": "Integer"
           },
           "U": {
            "type": "Integer"
           }
          }
         }
        ],
        "-9051778353687612959": [
         "4",
         {
          "args": [
           "-173279802764137478",
           "-749555488437316466",
           "-4583955618747866706"
          ],
          "function": "Boolean.if_"
         }
        ],
        "-9093080927041791942": [
         "4",
         {
          "args": [
           "764121373863393238",
           "277852127613867312"
          ],
          "function": "FunctionOne.__call__",
          "type_params": {
           "T": {
            "type": "Integer"
           },
           "U": {
            "type": "Integer"
           }
          }
         }
        ],
        "-911409656388142259": [
         "2024",
         {
          "args": [
           "5851332542883551880",
           "-1676170044209412934"
          ],
          "function": "Abstraction.__call__",
          "type_params": {
           "T": {
            "type": "Integer"
           },
           "U": {
            "type": "Integer"
           }
          }
         }
        ],
        "-913218668510489114": [
         "4",
         {
          "args": [
           "7336406456226539437",
           "-8411147389139933288"
          ],
          "function": "Abstraction.__call__",
          "type_params": {
           "T": {
            "type": "Integer"
           },
           "U": {
            "type": "Integer"
           }
          }
         }
        ],
        "-9141409911601643164": [
         "286",
         {
          "args": [
           "3046289507001227782",
           "-1676170044209412934"
          ],
          "function": "Abstraction.__call__",
          "type_params": {
           "T": {
            "type": "Integer"
           },
           "U": {
            "type": "Integer"
           }
          }
         }
        ],
        "-9152255430083111256": [
         "4",
         {
          "args": [
           "1321722653791223987",
           "-6219751249766497992",
           "-1110296496125714697"
          ],
          "function": "Boolean.if_"
         }
        ],
        "-91573503692596116": [
         "1465",
         {
          "args": [
           "-5426275952129512663",
           "2284353697201201082"
          ],
          "function": "Abstraction.create",
          "type_params": {
           "T": {
            "type": "Integer"
           },
           "U": {
            "type": "Integer"
           }
          }
         }
        ],
        "-9166909322311612472": [
         "4",
         {
          "args": [
           "-1815412774321759192",
           "8621592740297795617",
           "8818271583610203183"
          ],
          "function": "Boolean.if_"
         }
        ],
        "-996409467075550444": [
         "11",
         {
          "args": [
           "-204800842979452163",
           "-1918553778381062471"
          ],
          "function": "FunctionThree.create",
          "type_params": {
           "T": {
            "type": "Integer"
           },
           "U": {
            "type": "Integer"
           },
           "V": {
            "type": "Integer"
           },
           "X": {
            "type": "Integer"
           }
          }
         }
        ],
        "1041069506526515990": [
         "2105",
         {
          "repr": "4735684904",
          "type": "Variable"
         }
        ],
        "1123399907041318307": [
         "4",
         {
          "args": [
           "-1113038724346501693",
           "8642206627146315851",
           "2125466910603581158"
          ],
          "function": "Boolean.if_"
         }
        ],
        "1194402006777210343": [
         "671",
         {
          "args": [
           "-2047419793903064792",
           "-1676170044209412934"
          ],
          "function": "Abstraction.__call__",
          "type_params": {
           "T": {
            "type": "Integer"
           },
           "U": {
            "type": "Integer"
           }
          }
         }
        ],
        "1308135176756252192": [
         "1333",
         {
          "args": [
           "560823455631952198",
           "-6978676063710463812"
          ],
          "function": "Abstraction.__call__",
          "type_params": {
           "T": {
            "type": "Integer"
           },
           "U": {
            "params": {
             "T": {
              "type": "Integer"
             },
             "U": {
              "params": {
               "T": {
                "type": "Integer"
               },
               "U": {
                "type": "Integer"
               }
              },
              "type": "Abstraction"
             }
            },
            "type": "Abstraction"
           }
          }
         }
        ],
        "1309959080961015455": [
         "1968",
         {
          "args": [
           "-2918624255584909654",
           "-801800994066151079"
          ],
          "function": "Abstraction.__call__",
          "type_params": {
           "T": {
            "type": "Integer"
           },
           "U": {
            "params": {
             "T": {
              "type": "Integer"
             },
             "U": {
              "params": {
               "T": {
                "type": "Integer"
               },
               "U": {
                "type": "Integer"
               }
              },
              "type": "Abstraction"
             }
            },
            "type": "Abstraction"
           }
          }
         }
        ],
        "1311914884426379226": [
         "4",
         {
          "args": [
           "-6068000356580008140",
           "-1110296496125714697"
          ],
          "function": "Abstraction.__call__",
          "type_params": {
           "T": {
            "type": "Integer"
           },
           "U": {
            "type": "Integer"
           }
          }
         }
        ],
        "1313231504855667941": [
         "743",
         {
          "args": [
           "-801800994066151079",
           "-8411147389139933288"
          ],
          "function": "Integer.__add__"
         }
        ],
        "1321722653791223987": [
         "2130",
         {
          "args": [
           "-5085088520955578816"
          ],
          "function": "Boolean.create"
         }
        ],
        "1378814186671866115": [
         "1865",
         {
          "args": [
           "-5426275952129512663",
           "-8750736539962603618"
          ],
          "function": "Abstraction.create",
          "type_params": {
           "T": {
            "type": "Integer"
           },
           "U": {
            "type": "Integer"
           }
          }
         }
        ],
        "1409488103855906973": [
         "1701",
         {
          "args": [
           "5959117055813357738",
           "-5426275952129512663",
           "-4061160045471027619"
          ],
          "function": "Boolean.if_"
         }
        ],
        "1431835543656700350": [
         "1",
         {
          "args": [
           "-2652070358770172702",
           "-2780099227991991306"
          ],
          "function": "FunctionOne.create",
          "type_params": {
           "T": {
            "type": "Integer"
           },
           "U": {
            "type": "Integer"
           }
          }
         }
        ],
        "1436529712068027460": [
         "28",
         {
          "args": [
           "-7776228705834261043"
          ],
          "function": "Abstraction.from_fn"
         }
        ],
        "1458061320245554635": [
         "1695",
         {
          "args": [
           "6605627822032454031",
           "-5426275952129512663"
          ],
          "function": "Abstraction.__call__",
          "type_params": {
           "T": {
            "type": "Integer"
           },
           "U": {
            "params": {
             "T": {
              "type": "Integer"
             },
             "U": {
              "type": "Integer"
             }
            },
            "type": "Abstraction"
           }
          }
         }
        ],
        "149270384740622389": [
         "4",
         {
          "args": [
           "-8790061294954934374",
           "3328637645628897464"
          ],
          "function": "Abstraction.__call__",
          "type_params": {
           "T": {
            "type": "Integer"
           },
           "U": {
            "type": "Integer"
           }
          }
         }
        ],
        "1550817666979442994": [
         "4",
         {
          "args": [
           "1321722653791223987",
           "8035427803785156047",
           "-8411147389139933288"
          ],
          "function": "Boolean.if_"
         }
        ],
        "1578034855718565440": [
         "1336",
         {
          "args": [
           "1308135176756252192",
           "8287283151426784322"
          ],
          "function": "Abstraction.__call__",
          "type_params": {
           "T": {
            "type": "Integer"
           },
           "U": {
            "params": {
             "T": {
              "type": "Integer"
             },
             "U": {
              "type": "Integer"
             }
            },
            "type": "Abstraction"
           }
          }
         }
        ],
        "1697458433628724164": [
         "4",
         {
          "args": [
           "-6956111038982064794",
           "7392902467124084083"
          ],
          "function": "Abstraction.__call__",
          "type_params": {
           "T": {
            "type": "Integer"
           },
           "U": {
            "type": "Integer"
           }
          }
         }
        ],
        "1698625727966581427": [
         "16",
         {
          "args": [
           "6996847509153338736",
           "-5077963005297038142",
           "8266129563128831658",
           "-801800994066151079"
          ],
          "function": "FunctionThree.__call__",
          "type_params": {
           "T": {
            "type": "Integer"
           },
           "U": {
            "type": "Integer"
           },
           "V": {
            "type": "Integer"
           },
           "X": {
            "type": "Integer"
           }
          }
         }
        ],
        "1703992945121825963": [
         "4",
         {
          "args": [
           "3395821898431727276",
           "3328637645628897464"
          ],
          "function": "Abstraction.__call__",
          "type_params": {
           "T": {
            "type": "Integer"
           },
           "U": {
            "type": "Integer"
           }
          }
         }
        ],
        "1774175017414326056": [
         "1178",
         {
          "args": [
           "-5426275952129512663",
           "321905365949744454"
          ],
          "function": "Abstraction.create",
          "type_params": {
           "T": {
            "type": "Integer"
           },
           "U": {
            "type": "Integer"
           }
          }
         }
        ],
        "1781184199628521866": [
         "1070",
         {
          "args": [
           "-2298413480251783172",
           "-5444139102349774997",
           "7245973905039219864"
          ],
          "function": "Boolean.if_"
         }
        ],
        "1890247093257195124": [
         "583",
         {
          "args": [
           "560823455631952198",
           "8287283151426784322"
          ],
          "function": "Abstraction.__call__",
          "type_params": {
           "T": {
            "type": "Integer"
           },
           "U": {
            "params": {
             "T": {
              "type": "Integer"
             },
             "U": {
              "params": {
               "T": {
                "type": "Integer"
               },
               "U": {
                "type": "Integer"
               }
              },
              "type": "Abstraction"
             }
            },
            "type": "Abstraction"
           }
          }
         }
        ],
        "1942822037231683373": [
         "4",
         {
          "args": [
           "-1113038724346501693",
           "8642206627146315851",
           "9023799992201590501"
          ],
          "function": "Boolean.if_"
         }
        ],
        "1964912160752058246": [
         "193",
         {
          "args": [
           "8730531355445951376",
           "7451954959980487849"
          ],
          "function": "Abstraction.create",
          "type_params": {
           "T": {
            "type": "Integer"
           },
           "U": {
            "params": {
             "T": {
              "type": "Integer"
             },
             "U": {
              "params": {
               "T": {
                "type": "Integer"
               },
               "U": {
                "type": "Integer"
               }
              },
              "type": "Abstraction"
             }
            },
            "type": "Abstraction"
           }
          }
         }
        ],
        "197960470690884110": [
         "483",
         {
          "args": [
           "-5426275952129512663",
           "-2515047028652489839"
          ],
          "function": "Abstraction.create",
          "type_params": {
           "T": {
            "type": "Integer"
           },
           "U": {
            "type": "Integer"
           }
          }
         }
        ],
        "1983995552774561550": [
         "1571",
         {
          "args": [
           "560823455631952198",
           "-1110296496125714697"
          ],
          "function": "Abstraction.__call__",
          "type_params": {
           "T": {
            "type": "Integer"
           },
           "U": {
            "params": {
             "T": {
              "type": "Integer"
             },
             "U": {
              "params": {
               "T": {
                "type": "Integer"
               },
               "U": {
                "type": "Integer"
               }
              },
              "type": "Abstraction"
             }
            },
            "type": "Abstraction"
           }
          }
         }
        ],
        "2060000086376341037": [
         "16",
         {
          "args": [
           "-1946146389333129899",
           "-5077963005297038142",
           "8266129563128831658",
           "-801800994066151079"
          ],
          "function": "FunctionThree.__call__",
          "type_params": {
           "T": {
            "type": "Integer"
           },
           "U": {
            "type": "Integer"
           },
           "V": {
            "type": "Integer"
           },
           "X": {
            "type": "Integer"
           }
          }
         }
        ],
        "2125466910603581158": [
         "1340",
         {
          "args": [
           "-5719665978959350747",
           "8287283151426784322",
           "9023799992201590501"
          ],
          "function": "Boolean.if_"
         }
        ],
        "2182628771632718461": [
         "1968",
         {
          "args": [
           "-3134450228486803831",
           "-756461586565618378"
          ],
          "function": "Abstraction.create",
          "type_params": {
           "T": {
            "type": "Integer"
           },
           "U": {
            "params": {
             "T": {
              "type": "Integer"
             },
             "U": {
              "type": "Integer"
             }
            },
            "type": "Abstraction"
           }
          }
         }
        ],
        "2236674423200455804": [
         "980",
         {
          "args": [
           "-6032215611507379004",
           "-1110296496125714697"
          ],
          "function": "Abstraction.__call__",
          "type_params": {
           "T": {
            "type": "Integer"
           },
           "U": {
            "params": {
             "T": {
              "type": "Integer"
             },
             "U": {
              "type": "Integer"
             }
            },
            "type": "Abstraction"
           }
          }
         }
        ],
        "2284353697201201082": [
         "1464",
         {
          "args": [
           "-1815412774321759192",
           "8746369616937991053",
           "6678766982035656654"
          ],
          "function": "Boolean.if_"
         }
        ],
        "2284946767093314478": [
         "2022",
         {
          "args": [
           "560823455631952198",
           "554550087706363287"
          ],
          "function": "Abstraction.__call__",
          "type_params": {
           "T": {
            "type": "Integer"
           },
           "U": {
            "params": {
             "T": {
              "type": "Integer"
             },
             "U": {
              "params": {
               "T": {
                "type": "Integer"
               },
               "U": {
                "type": "Integer"
               }
              },
              "type": "Abstraction"
             }
            },
            "type": "Abstraction"
           }
          }
         }
        ],
        "2307392500392344611": [
         "4",
         {
          "args": [
           "-2857582461600446614",
           "4221724288908798403",
           "-1531074772063702674"
          ],
          "function": "Boolean.if_"
         }
        ],
        "2352379960235132752": [
         "584",
         {
          "args": [
           "1890247093257195124",
           "-801800994066151079"
          ],
          "function": "Abstraction.__call__",
          "type_params": {
           "T": {
            "type": "Integer"
           },
           "U": {
            "params": {
             "T": {
              "type": "Integer"
             },
             "U": {
              "type": "Integer"
             }
            },
            "type": "Abstraction"
           }
          }
         }
        ],
        "2392364089908614373": [
         "24",
         {
          "args": [
           "8730531355445951376",
           "8830840302341564994"
          ],
          "function": "Abstraction.create",
          "type_params": {
           "T": {
            "type": "Integer"
           },
           "U": {
            "params": {
             "T": {
              "type": "Integer"
             },
             "U": {
              "params": {
               "T": {
                "type": "Integer"
               },
               "U": {
                "type": "Integer"
               }
              },
              "type": "Abstraction"
             }
            },
            "type": "Abstraction"
           }
          }
         }
        ],
        "2431803466071441833": [
         "4",
         {
          "args": [
           "-173279802764137478",
           "-749555488437316466",
           "-1127966374457125643"
          ],
          "function": "Boolean.if_"
         }
        ],
        "2516676606967915759": [
         "1967",
         {
          "args": [
           "-364604664173318300",
           "560823455631952198"
          ],
          "function": "Abstraction.__call__",
          "type_params": {
           "T": {
            "params": {
             "T": {
              "type": "Integer"
             },
             "U": {
              "params": {
               "T": {
                "type": "Integer"
               },
               "U": {
                "params": {
                 "T": {
                  "type": "Integer"
                 },
                 "U": {
                  "type": "Integer"
                 }
                },
                "type": "Abstraction"
               }
              },
              "type": "Abstraction"
             }
            },
            "type": "Abstraction"
           },
           "U": {
            "params": {
             "T": {
              "type": "Integer"
             },
             "U": {
              "params": {
               "T": {
                "type": "Integer"
               },
               "U": {
                "params": {
                 "T": {
                  "type": "Integer"
                 },
                 "U": {
                  "type": "Integer"
                 }
                },
                "type": "Abstraction"
               }
              },
              "type": "Abstraction"
             }
            },
            "type": "Abstraction"
           }
          }
         }
        ],
        "252602891768763404": [
         "673",
         {
          "args": [
           "-3159018187749032900",
           "-5426275952129512663",
           "-3134450228486803831"
          ],
          "function": "Boolean.if_"
         }
        ],
        "261371141634385456": [
         "4",
         {
          "args": [
           "-1113038724346501693",
           "8642206627146315851",
           "-6155009463724824039"
          ],
          "function": "Boolean.if_"
         }
        ],
        "2714186375538812207": [
         "4",
         {
          "args": [
           "1321722653791223987",
           "-246565496540427672",
           "-4061160045471027619"
          ],
          "function": "Boolean.if_"
         }
        ],
        "2747414248314594220": [
         "2115",
         {
          "args": [
           "8037729559985061240",
           "-5455590144846900526",
           "3726156590391311996"
          ],
          "function": "Boolean.if_"
         }
        ],
        "2759067563610691048": [
         "777",
         {
          "args": [
           "2516676606967915759",
           "-2242209172835132093"
          ],
          "function": "Abstraction.__call__",
          "type_params": {
           "T": {
            "type": "Integer"
           },
           "U": {
            "params": {
             "T": {
              "type": "Integer"
             },
             "U": {
              "params": {
               "T": {
                "type": "Integer"
               },
               "U": {
                "type": "Integer"
               }
              },
              "type": "Abstraction"
             }
            },
            "type": "Abstraction"
           }
          }
         }
        ],
        "2768076439222811738": [
         "2094",
         {
          "args": [
           "-810539374333043576",
           "-5426275952129512663",
           "3328637645628897464"
          ],
          "function": "Boolean.if_"
         }
        ],
        "277852127613867312": [
         "329",
         {
          "args": [
           "-5077450201648267291"
          ],
          "function": "Integer.from_int"
         }
        ],
        "279229843076106130": [
         "4",
         {
          "args": [
           "-5908126905911275508",
           "-1110296496125714697"
          ],
          "function": "Abstraction.__call__",
          "type_params": {
           "T": {
            "type": "Integer"
           },
           "U": {
            "type": "Integer"
           }
          }
         }
        ],
        "2925092785501076476": [
         "2122",
         {
          "args": [
           "560823455631952198",
           "8266129563128831658"
          ],
          "function": "Abstraction.__call__",
          "type_params": {
           "T": {
            "type": "Integer"
           },
           "U": {
            "params": {
             "T": {
              "type": "Integer"
             },
             "U": {
              "params": {
               "T": {
                "type": "Integer"
               },
               "U": {
                "type": "Integer"
               }
              },
              "type": "Abstraction"
             }
            },
            "type": "Abstraction"
           }
          }
         }
        ],
        "296071040362513613": [
         "4",
         {
          "args": [
           "-7255667736369028645",
           "473152837096305448",
           "6945850738939660942"
          ],
          "function": "Boolean.if_"
         }
        ],
        "2960721151694497664": [
         "940",
         {
          "args": [
           "4508290680206952837",
           "-1110296496125714697"
          ],
          "function": "Abstraction.__call__",
          "type_params": {
           "T": {
            "type": "Integer"
           },
           "U": {
            "params": {
             "T": {
              "type": "Integer"
             },
             "U": {
              "type": "Integer"
             }
            },
            "type": "Abstraction"
           }
          }
         }
        ],
        "2976404221593107496": [
         "1371",
         {
          "args": [
           "2516676606967915759",
           "-7904712134556914810"
          ],
          "function": "Abstraction.__call__",
          "type_params": {
           "T": {
            "type": "Integer"
           },
           "U": {
            "params": {
             "T": {
              "type": "Integer"
             },
             "U": {
              "params": {
               "T": {
                "type": "Integer"
               },
               "U": {
                "type": "Integer"
               }
              },
              "type": "Abstraction"
             }
            },
            "type": "Abstraction"
           }
          }
         }
        ],
        "2999920312870747912": [
         "4",
         {
          "args": [
           "-2857582461600446614",
           "4221724288908798403",
           "-4733466627403292167"
          ],
          "function": "Boolean.if_"
         }
        ],
        "3046289507001227782": [
         "320",
         {
          "args": [
           "8630811732540740441",
           "-5426275952129512663"
          ],
          "function": "Abstraction.__call__",
          "type_params": {
           "T": {
            "type": "Integer"
           },
           "U": {
            "params": {
             "T": {
              "type": "Integer"
             },
             "U": {
              "type": "Integer"
             }
            },
            "type": "Abstraction"
           }
          }
         }
        ],
        "3056135238852169739": [
         "1371",
         {
          "args": [
           "-3134450228486803831",
           "-91573503692596116"
          ],
          "function": "Abstraction.create",
          "type_params": {
           "T": {
            "type": "Integer"
           },
           "U": {
            "params": {
             "T": {
              "type": "Integer"
             },
             "U": {
              "type": "Integer"
             }
            },
            "type": "Abstraction"
           }
          }
         }
        ],
        "3144225003716649075": [
         "2117",
         {
          "args": [
           "-3134450228486803831",
           "9118311336985535265"
          ],
          "function": "Abstraction.create",
          "type_params": {
           "T": {
            "type": "Integer"
           },
           "U": {
            "params": {
             "T": {
              "type": "Integer"
             },
             "U": {
              "type": "Integer"
             }
            },
            "type": "Abstraction"
           }
          }
         }
        ],
        "321905365949744454": [
         "1304",
         {
          "args": [
           "-1113038724346501693",
           "4395137633266568942",
           "4922647886040933892"
          ],
          "function": "Boolean.if_"
         }
        ],
        "3328637645628897464": [
         "2127",
         {
          "args": [
           "-5077450201674247891"
          ],
          "function": "Integer.from_int"
         }
        ],
        "3347703213419448133": [
         "4",
         {
          "args": [
           "-2940597550331594116",
           "3395137322454854201",
           "-4061160045471027619"
          ],
          "function": "Boolean.if_"
         }
        ],
        "3395137322454854201": [
         "1738",
         {
          "args": [
           "-3350027586371372011",
           "-1305804636169494332"
          ],
          "function": "Abstraction.__call__",
          "type_params": {
           "T": {
            "type": "Integer"
           },
           "U": {
            "type": "Integer"
           }
          }
         }
        ],
        "3395821898431727276": [
         "1774",
         {
          "args": [
           "-6900882964502864818",
           "-1127966374457125643"
          ],
          "function": "Abstraction.__call__",
          "type_params": {
           "T": {
            "type": "Integer"
           },
           "U": {
            "params": {
             "T": {
              "type": "Integer"
             },
             "U": {
              "type": "Integer"
             }
            },
            "type": "Abstraction"
           }
          }
         }
        ],
        "3414931883099538491": [
         "78",
         {
          "args": [
           "5911018480776101834"
          ],
          "function": "FunctionOne.abstraction",
          "type_params": {
           "T": {
            "type": "Integer"
           },
           "U": {
            "type": "Integer"
           }
          }
         }
        ],
        "3477035551564410157": [
         "780",
         {
          "args": [
           "-3505812150000789254",
           "-8411147389139933288"
          ],
          "function": "Abstraction.__call__",
          "type_params": {
           "T": {
            "type": "Integer"
           },
           "U": {
            "params": {
             "T": {
              "type": "Integer"
             },
             "U": {
              "type": "Integer"
             }
            },
            "type": "Abstraction"
           }
          }
         }
        ],
        "3481211060935803599": [
         "1574",
         {
          "args": [
           "-2337445539285819331",
           "-4061160045471027619"
          ],
          "function": "Abstraction.__call__",
          "type_params": {
           "T": {
            "type": "Integer"
           },
           "U": {
            "params": {
             "T": {
              "type": "Integer"
             },
             "U": {
              "type": "Integer"
             }
            },
            "type": "Abstraction"
           }
          }
         }
        ],
        "3491946621204182455": [
         "479",
         {
          "args": [
           "-839342104616946696",
           "-1676170044209412934"
          ],
          "function": "Abstraction.__call__",
          "type_params": {
           "T": {
            "type": "Integer"
           },
           "U": {
            "type": "Integer"
           }
          }
         }
        ],
        "3497896521332102840": [
         "1",
         {
          "args": [
           "4146244512465847117"
          ],
          "function": "FunctionOne.from_fn"
         }
        ],
        "3500870992217083617": [
         "584",
         {
          "args": [
           "6548056718952547319",
           "-801800994066151079"
          ],
          "function": "Abstraction.__call__",
          "type_params": {
           "T": {
            "type": "Integer"
           },
           "U": {
            "params": {
             "T": {
              "type": "Integer"
             },
             "U": {
              "type": "Integer"
             }
            },
            "type": "Abstraction"
           }
          }
         }
        ],
        "3550095921293099265": [
         "4",
         {
          "args": [
           "-8533041076784310296",
           "-3139074987821508616",
           "-8411147389139933288"
          ],
          "function": "Boolean.if_"
         }
        ],
        "3557768599575072972": [
         "1939",
         {
          "args": [
           "-8411147389139933288",
           "-801800994066151079"
          ],
          "function": "Integer.eq"
         }
        ],
        "3586394300297348990": [
         "4",
         {
          "args": [
           "-2298413480251783172",
           "-4901468682141779829",
           "-1110296496125714697"
          ],
          "function": "Boolean.if_"
         }
        ],
        "3614848320306444792": [
         "4",
         {
          "args": [
           "-1113038724346501693",
           "383714339998150731",
           "9023799992201590501"
          ],
          "function": "Boolean.if_"
         }
        ],
        "3615248622285942853": [
         "4",
         {
          "args": [
           "-1113038724346501693",
           "4418609935346698997",
           "9023799992201590501"
          ],
          "function": "Boolean.if_"
         }
        ],
        "3618707404188946433": [
         "192",
         {
          "args": [
           "-3134450228486803831",
           "-6104370195395498100"
          ],
          "function": "Abstraction.create",
          "type_params": {
           "T": {
            "type": "Integer"
           },
           "U": {
            "params": {
             "T": {
              "type": "Integer"
             },
             "U": {
              "type": "Integer"
             }
            },
            "type": "Abstraction"
           }
          }
         }
        ],
        "362675181390258870": [
         "194",
         {
          "args": [
           "6746237808157956011",
           "5633467065756257016"
          ],
          "function": "Abstraction.create",
          "type_params": {
           "T": {
            "params": {
             "T": {
              "type": "Integer"
             },
             "U": {
              "params": {
               "T": {
                "type": "Integer"
               },
               "U": {
                "params": {
                 "T": {
                  "type": "Integer"
                 },
                 "U": {
                  "type": "Integer"
                 }
                },
                "type": "Abstraction"
               }
              },
              "type": "Abstraction"
             }
            },
            "type": "Abstraction"
           },
           "U": {
            "params": {
             "T": {
              "type": "Integer"
             },
             "U": {
              "params": {
               "T": {
                "type": "Integer"
               },
               "U": {
                "params": {
                 "T": {
                  "type": "Integer"
                 },
                 "U": {
                  "type": "Integer"
                 }
                },
                "type": "Abstraction"
               }
              },
              "type": "Abstraction"
             }
            },
            "type": "Abstraction"
           }
          }
         }
        ],
        "3651155343468206760": [
         "19",
         {
          "args": [
           "6746237808157956011",
           "-593101952756309468"
          ],
          "function": "Abstraction.create",
          "type_params": {
           "T": {
            "params": {
             "T": {
              "type": "Integer"
             },
             "U": {
              "params": {
               "T": {
                "type": "Integer"
               },
               "U": {
                "params": {
                 "T": {
                  "type": "Integer"
                 },
                 "U": {
                  "type": "Integer"
                 }
                },
                "type": "Abstraction"
               }
              },
              "type": "Abstraction"
             }
            },
            "type": "Abstraction"
           },
           "U": {
            "params": {
             "T": {
              "type": "Integer"
             },
             "U": {
              "params": {
               "T": {
                "type": "Integer"
               },
               "U": {
                "params": {
                 "T": {
                  "type": "Integer"
                 },
                 "U": {
                  "type": "Integer"
                 }
                },
                "type": "Abstraction"
               }
              },
              "type": "Abstraction"
             }
            },
            "type": "Abstraction"
           }
          }
         }
        ],
        "3706372163099085704": [
         "1574",
         {
          "args": [
           "-4787986170082171411",
           "-4061160045471027619"
          ],
          "function": "Abstraction.__call__",
          "type_params": {
           "T": {
            "type": "Integer"
           },
           "U": {
            "params": {
             "T": {
              "type": "Integer"
             },
             "U": {
              "type": "Integer"
             }
            },
            "type": "Abstraction"
           }
          }
         }
        ],
        "3720157668230375851": [
         "1774",
         {
          "args": [
           "-8614716750494060866",
           "-1127966374457125643"
          ],
          "function": "Abstraction.__call__",
          "type_params": {
           "T": {
            "type": "Integer"
           },
           "U": {
            "params": {
             "T": {
              "type": "Integer"
             },
             "U": {
              "type": "Integer"
             }
            },
            "type": "Abstraction"
           }
          }
         }
        ],
        "3726156590391311996": [
         "2114",
         {
          "args": [
           "-7729922894212136018",
           "-5426275952129512663",
           "-3134450228486803831"
          ],
          "function": "Boolean.if_"
         }
        ],
        "3745962156717502997": [
         "2058",
         {
          "args": [
           "-810539374333043576",
           "-5426275952129512663",
           "-3134450228486803831"
          ],
          "function": "Boolean.if_"
         }
        ],
        "3746121983957195092": [
         "946",
         {
          "args": [
           "6321508888815918528",
           "-1110296496125714697",
           "-8411147389139933288"
          ],
          "function": "Boolean.if_"
         }
        ],
        "3780292266816121406": [
         "871",
         {
          "args": [
           "-5426275952129512663",
           "-3798376556648677631"
          ],
          "function": "Abstraction.create",
          "type_params": {
           "T": {
            "type": "Integer"
           },
           "U": {
            "type": "Integer"
           }
          }
         }
        ],
        "3812752863255615653": [
         "1699",
         {
          "args": [
           "1458061320245554635",
           "-3301917970824326498"
          ],
          "function": "Abstraction.__call__",
          "type_params": {
           "T": {
            "type": "Integer"
           },
           "U": {
            "type": "Integer"
           }
          }
         }
        ],
        "383714339998150731": [
         "4",
         {
          "args": [
           "4376842228992163205",
           "-4061160045471027619"
          ],
          "function": "Abstraction.__call__",
          "type_params": {
           "T": {
            "type": "Integer"
           },
           "U": {
            "type": "Integer"
           }
          }
         }
        ],
        "3921659648319680478": [
         "867",
         {
          "args": [
           "-7107333823421558800",
           "-1676170044209412934"
          ],
          "function": "Abstraction.__call__",
          "type_params": {
           "T": {
            "type": "Integer"
           },
           "U": {
            "type": "Integer"
           }
          }
         }
        ],
        "396995674400924482": [
         "393",
         {
          "args": [
           "560823455631952198",
           "6381668467247275985"
          ],
          "function": "Abstraction.__call__",
          "type_params": {
           "T": {
            "type": "Integer"
           },
           "U": {
            "params": {
             "T": {
              "type": "Integer"
             },
             "U": {
              "params": {
               "T": {
                "type": "Integer"
               },
               "U": {
                "type": "Integer"
               }
              },
              "type": "Abstraction"
             }
            },
            "type": "Abstraction"
           }
          }
         }
        ],
        "4110033832317878581": [
         "907",
         {
          "args": [
           "7109380877687312606",
           "-5426275952129512663",
           "-8411147389139933288"
          ],
          "function": "Boolean.if_"
         }
        ],
        "4146220904695695617": [
         "10",
         {
          "repr": "<function fib_more at 0x10f77ab70>",
          "type": "function"
         }
        ],
        "4146244512465847117": [
         "6",
         {
          "repr": "<function fib at 0x11a435730>",
          "type": "function"
         }
        ],
        "4158436589957622767": [
         "709",
         {
          "args": [
           "-3159018187749032900",
           "-5426275952129512663",
           "-801800994066151079"
          ],
          "function": "Boolean.if_"
         }
        ],
        "4179817302515504023": [
         "1177",
         {
          "args": [
           "560823455631952198",
           "9023799992201590501"
          ],
          "function": "Abstraction.__call__",
          "type_params": {
           "T": {
            "type": "Integer"
           },
           "U": {
            "params": {
             "T": {
              "type": "Integer"
             },
             "U": {
              "params": {
               "T": {
                "type": "Integer"
               },
               "U": {
                "type": "Integer"
               }
              },
              "type": "Abstraction"
             }
            },
            "type": "Abstraction"
           }
          }
         }
        ],
        "419036598942286908": [
         "1374",
         {
          "args": [
           "3056135238852169739",
           "8287283151426784322"
          ],
          "function": "Abstraction.__call__",
          "type_params": {
           "T": {
            "type": "Integer"
           },
           "U": {
            "params": {
             "T": {
              "type": "Integer"
             },
             "U": {
              "type": "Integer"
             }
            },
            "type": "Abstraction"
           }
          }
         }
        ],
        "4221724288908798403": [
         "744",
         {
          "args": [
           "-3896374289193541774",
           "1313231504855667941"
          ],
          "function": "Abstraction.__call__",
          "type_params": {
           "T": {
            "type": "Integer"
           },
           "U": {
            "type": "Integer"
           }
          }
         }
        ],
        "4305999945746119675": [
         "2026",
         {
          "args": [
           "-5426275952129512663",
           "-5353378053435854475"
          ],
          "function": "Abstraction.create",
          "type_params": {
           "T": {
            "type": "Integer"
           },
           "U": {
            "type": "Integer"
           }
          }
         }
        ],
        "4333076488454737185": [
         "4",
         {
          "args": [
           "-7255667736369028645",
           "473152837096305448",
           "8266129563128831658"
          ],
          "function": "Boolean.if_"
         }
        ],
        "4376842228992163205": [
         "1374",
         {
          "args": [
           "-3550679245018662862",
           "8287283151426784322"
          ],
          "function": "Abstraction.__call__",
          "type_params": {
           "T": {
            "type": "Integer"
           },
           "U": {
            "params": {
             "T": {
              "type": "Integer"
             },
             "U": {
              "type": "Integer"
             }
            },
            "type": "Abstraction"
           }
          }
         }
        ],
        "4395137633266568942": [
         "1301",
         {
          "args": [
           "6590206105732749594",
           "-3421932733703179622"
          ],
          "function": "Abstraction.__call__",
          "type_params": {
           "T": {
            "type": "Integer"
           },
           "U": {
            "type": "Integer"
           }
          }
         }
        ],
        "4418609935346698997": [
         "1338",
         {
          "args": [
           "1578034855718565440",
           "-4061160045471027619"
          ],
          "function": "Abstraction.__call__",
          "type_params": {
           "T": {
            "type": "Integer"
           },
           "U": {
            "type": "Integer"
           }
          }
         }
        ],
        "4455307098282613136": [
         "1531",
         {
          "args": [
           "560823455631952198",
           "5007349263206766311"
          ],
          "function": "Abstraction.__call__",
          "type_params": {
           "T": {
            "type": "Integer"
           },
           "U": {
            "params": {
             "T": {
              "type": "Integer"
             },
             "U": {
              "params": {
               "T": {
                "type": "Integer"
               },
               "U": {
                "type": "Integer"
               }
              },
              "type": "Abstraction"
             }
            },
            "type": "Abstraction"
           }
          }
         }
        ],
        "4483633870408744868": [
         "4",
         {
          "args": [
           "-6339487674929352912",
           "8287283151426784322"
          ],
          "function": "Abstraction.__call__",
          "type_params": {
           "T": {
            "type": "Integer"
           },
           "U": {
            "type": "Integer"
           }
          }
         }
        ],
        "4508290680206952837": [
         "937",
         {
          "args": [
           "560823455631952198",
           "-3789206367084571609"
          ],
          "function": "Abstraction.__call__",
          "type_params": {
           "T": {
            "type": "Integer"
           },
           "U": {
            "params": {
             "T": {
              "type": "Integer"
             },
             "U": {
              "params": {
               "T": {
                "type": "Integer"
               },
               "U": {
                "type": "Integer"
               }
              },
              "type": "Abstraction"
             }
            },
            "type": "Abstraction"
           }
          }
         }
        ],
        "4535344282439453818": [
         "2131",
         {
          "args": [
           "1321722653791223987",
           "7392902467124084083",
           "3328637645628897464"
          ],
          "function": "Boolean.if_"
         }
        ],
        "4570513942002998000": [
         "2110",
         {
          "args": [
           "-7942042517478148471",
           "-5426275952129512663"
          ],
          "function": "Abstraction.__call__",
          "type_params": {
           "T": {
            "type": "Integer"
           },
           "U": {
            "params": {
             "T": {
              "type": "Integer"
             },
             "U": {
              "type": "Integer"
             }
            },
            "type": "Abstraction"
           }
          }
         }
        ],
        "4611312285244207685": [
         "1107",
         {
          "args": [
           "-8682616525754288342",
           "-5426275952129512663",
           "-1110296496125714697"
          ],
          "function": "Boolean.if_"
         }
        ],
        "4626382783488220444": [
         "2125",
         {
          "args": [
           "2925092785501076476",
           "7392902467124084083"
          ],
          "function": "Abstraction.__call__",
          "type_params": {
           "T": {
            "type": "Integer"
           },
           "U": {
            "params": {
             "T": {
              "type": "Integer"
             },
             "U": {
              "type": "Integer"
             }
            },
            "type": "Abstraction"
           }
          }
         }
        ],
        "4677544324427469785": [
         "4",
         {
          "args": [
           "-2857582461600446614",
           "4725003586591918349",
           "-801800994066151079"
          ],
          "function": "Boolean.if_"
         }
        ],
        "4690381768924153447": [
         "943",
         {
          "args": [
           "-8411147389139933288",
           "-1110296496125714697"
          ],
          "function": "Integer.__add__"
         }
        ],
        "4719944396817939550": [
         "4",
         {
          "args": [
           "3720157668230375851",
           "3328637645628897464"
          ],
          "function": "Abstraction.__call__",
          "type_params": {
           "T": {
            "type": "Integer"
           },
           "U": {
            "type": "Integer"
           }
          }
         }
        ],
        "4721924399607572693": [
         "1374",
         {
          "args": [
           "-1378674915398745759",
           "8287283151426784322"
          ],
          "function": "Abstraction.__call__",
          "type_params": {
           "T": {
            "type": "Integer"
           },
           "U": {
            "params": {
             "T": {
              "type": "Integer"
             },
             "U": {
              "type": "Integer"
             }
            },
            "type": "Abstraction"
           }
          }
         }
        ],
        "4725003586591918349": [
         "744",
         {
          "args": [
           "-3896374289193541774",
           "-1110296496125714697"
          ],
          "function": "Abstraction.__call__",
          "type_params": {
           "T": {
            "type": "Integer"
           },
           "U": {
            "type": "Integer"
           }
          }
         }
        ],
        "473152837096305448": [
         "361",
         {
          "args": [
           "6165210877069494456",
           "-737887707943826603"
          ],
          "function": "Abstraction.__call__",
          "type_params": {
           "T": {
            "type": "Integer"
           },
           "U": {
            "type": "Integer"
           }
          }
         }
        ],
        "4788533924726486684": [
         "4",
         {
          "args": [
           "-8492487444195802439",
           "-8411147389139933288"
          ],
          "function": "Abstraction.__call__",
          "type_params": {
           "T": {
            "type": "Integer"
           },
           "U": {
            "type": "Integer"
           }
          }
         }
        ],
        "4801749856714373102": [
         "2118",
         {
          "args": [
           "8730531355445951376",
           "3144225003716649075"
          ],
          "function": "Abstraction.create",
          "type_params": {
           "T": {
            "type": "Integer"
           },
           "U": {
            "params": {
             "T": {
              "type": "Integer"
             },
             "U": {
              "params": {
               "T": {
                "type": "Integer"
               },
               "U": {
                "type": "Integer"
               }
              },
              "type": "Abstraction"
             }
            },
            "type": "Abstraction"
           }
          }
         }
        ],
        "4817612301529815129": [
         "4",
         {
          "args": [
           "-8707702417007092851",
           "7392902467124084083"
          ],
          "function": "Abstraction.__call__",
          "type_params": {
           "T": {
            "type": "Integer"
           },
           "U": {
            "type": "Integer"
           }
          }
         }
        ],
        "4831205065645050117": [
         "187",
         {
          "args": [
           "-4927717138543054476",
           "-1676170044209412934"
          ],
          "function": "Abstraction.__call__",
          "type_params": {
           "T": {
            "type": "Integer"
           },
           "U": {
            "type": "Integer"
           }
          }
         }
        ],
        "4833984845176339595": [
         "905",
         {
          "args": [
           "-7107333823421558800",
           "4936174578333576343"
          ],
          "function": "Abstraction.__call__",
          "type_params": {
           "T": {
            "type": "Integer"
           },
           "U": {
            "type": "Integer"
           }
          }
         }
        ],
        "4851886513452406100": [
         "1268",
         {
          "args": [
           "-1113038724346501693",
           "-4357907184230763685",
           "7190770695199085028"
          ],
          "function": "Boolean.if_"
         }
        ],
        "487553360406220215": [
         "164",
         {
          "args": [
           "-204800842979452163",
           "-669076825847948676"
          ],
          "function": "FunctionThree.create",
          "type_params": {
           "T": {
            "type": "Integer"
           },
           "U": {
            "type": "Integer"
           },
           "V": {
            "type": "Integer"
           },
           "X": {
            "type": "Integer"
           }
          }
         }
        ],
        "4922647886040933892": [
         "1303",
         {
          "args": [
           "-5719665978959350747",
           "-5426275952129512663",
           "9023799992201590501"
          ],
          "function": "Boolean.if_"
         }
        ],
        "4936174578333576343": [
         "904",
         {
          "args": [
           "-8411147389139933288",
           "-5426275952129512663"
          ],
          "function": "Integer.__add__"
         }
        ],
        "5007349263206766311": [
         "1530",
         {
          "args": [
           "-7904712134556914810",
           "-801800994066151079"
          ],
          "function": "Integer.__sub__"
         }
        ],
        "5010780093411592996": [
         "4",
         {
          "args": [
           "-8565456963636995621",
           "277852127613867312"
          ],
          "function": "FunctionOne.__call__",
          "type_params": {
           "T": {
            "type": "Integer"
           },
           "U": {
            "type": "Integer"
           }
          }
         }
        ],
        "5017729979198806200": [
         "1144",
         {
          "args": [
           "-5034093993212600357",
           "-597515039822554464"
          ],
          "function": "Abstraction.__call__",
          "type_params": {
           "T": {
            "type": "Integer"
           },
           "U": {
            "type": "Integer"
           }
          }
         }
        ],
        "5042773771782979967": [
         "168",
         {
          "args": [
           "560823455631952198",
           "277852127613867312"
          ],
          "function": "Abstraction.__call__",
          "type_params": {
           "T": {
            "type": "Integer"
           },
           "U": {
            "params": {
             "T": {
              "type": "Integer"
             },
             "U": {
              "params": {
               "T": {
                "type": "Integer"
               },
               "U": {
                "type": "Integer"
               }
              },
              "type": "Abstraction"
             }
            },
            "type": "Abstraction"
           }
          }
         }
        ],
        "5043018775388498820": [
         "326",
         {
          "args": [
           "-8734477808183374995",
           "-5426275952129512663",
           "8266129563128831658"
          ],
          "function": "Boolean.if_"
         }
        ],
        "5101961276949837097": [
         "1663",
         {
          "args": [
           "5959117055813357738",
           "-5426275952129512663",
           "-3134450228486803831"
          ],
          "function": "Boolean.if_"
         }
        ],
        "513246557790528230": [
         "1665",
         {
          "args": [
           "-5426275952129512663",
           "6813561694977879302"
          ],
          "function": "Abstraction.create",
          "type_params": {
           "T": {
            "type": "Integer"
           },
           "U": {
            "type": "Integer"
           }
          }
         }
        ],
        "5172691056522701498": [
         "4",
         {
          "args": [
           "7356006018547350021",
           "-801800994066151079"
          ],
          "function": "Abstraction.__call__",
          "type_params": {
           "T": {
            "type": "Integer"
           },
           "U": {
            "type": "Integer"
           }
          }
         }
        ],
        "5195122074378684910": [
         "289",
         {
          "args": [
           "-7255667736369028645",
           "-9141409911601643164",
           "-1700965460680315805"
          ],
          "function": "Boolean.if_"
         }
        ],
        "5197123622989158450": [
         "1137",
         {
          "args": [
           "560823455631952198",
           "-2203141082538882173"
          ],
          "function": "Abstraction.__call__",
          "type_params": {
           "T": {
            "type": "Integer"
           },
           "U": {
            "params": {
             "T": {
              "type": "Integer"
             },
             "U": {
              "params": {
               "T": {
                "type": "Integer"
               },
               "U": {
                "type": "Integer"
               }
              },
              "type": "Abstraction"
             }
            },
            "type": "Abstraction"
           }
          }
         }
        ],
        "521197370136405012": [
         "19",
         {
          "args": [
           "-7776228790894745443"
          ],
          "function": "Abstraction.from_fn"
         }
        ],
        "531194929989061776": [
         "4",
         {
          "args": [
           "-5213335186121545789",
           "277852127613867312"
          ],
          "function": "Abstraction.__call__",
          "type_params": {
           "T": {
            "type": "Integer"
           },
           "U": {
            "type": "Integer"
           }
          }
         }
        ],
        "5372447053102658136": [
         "199",
         {
          "args": [
           "-6729212975227054610",
           "554550087706363287"
          ],
          "function": "Abstraction.__call__",
          "type_params": {
           "T": {
            "type": "Integer"
           },
           "U": {
            "params": {
             "T": {
              "type": "Integer"
             },
             "U": {
              "params": {
               "T": {
                "type": "Integer"
               },
               "U": {
                "type": "Integer"
               }
              },
              "type": "Abstraction"
             }
            },
            "type": "Abstraction"
           }
          }
         }
        ],
        "5381401001633374149": [
         "4",
         {
          "args": [
           "2236674423200455804",
           "9023799992201590501"
          ],
          "function": "Abstraction.__call__",
          "type_params": {
           "T": {
            "type": "Integer"
           },
           "U": {
            "type": "Integer"
           }
          }
         }
        ],
        "5409588244739586879": [
         "4",
         {
          "args": [
           "6609636163678444253",
           "-1110296496125714697"
          ],
          "function": "Abstraction.__call__",
          "type_params": {
           "T": {
            "type": "Integer"
           },
           "U": {
            "type": "Integer"
           }
          }
         }
        ],
        "554550087706363287": [
         "2108",
         {
          "args": [
           "8730531355445951376",
           "-801800994066151079"
          ],
          "function": "Integer.__sub__"
         }
        ],
        "5546100496952910853": [
         "168",
         {
          "args": [
           "-3134450228486803831",
           "-785298209924410706"
          ],
          "function": "Abstraction.create",
          "type_params": {
           "T": {
            "type": "Integer"
           },
           "U": {
            "params": {
             "T": {
              "type": "Integer"
             },
             "U": {
              "type": "Integer"
             }
            },
            "type": "Abstraction"
           }
          }
         }
        ],
        "5607189250046715943": [
         "4",
         {
          "args": [
           "5894627216596842936",
           "8962767874092586541",
           "-801800994066151079"
          ],
          "function": "Boolean.if_"
         }
        ],
        "560823455631952198": [
         "2120",
         {
          "args": [
           "-364604664173318300"
          ],
          "function": "Abstraction.fix"
         }
        ],
        "5633467065756257016": [
         "193",
         {
          "args": [
           "8730531355445951376",
           "3618707404188946433"
          ],
          "function": "Abstraction.create",
          "type_params": {
           "T": {
            "type": "Integer"
           },
           "U": {
            "params": {
             "T": {
              "type": "Integer"
             },
             "U": {
              "params": {
               "T": {
                "type": "Integer"
               },
               "U": {
                "type": "Integer"
               }
              },
              "type": "Abstraction"
             }
            },
            "type": "Abstraction"
           }
          }
         }
        ],
        "5694519351722576168": [
         "4",
         {
          "args": [
           "1321722653791223987",
           "383714339998150731",
           "9023799992201590501"
          ],
          "function": "Boolean.if_"
         }
        ],
        "5717695590859629976": [
         "4",
         {
          "args": [
           "1321722653791223987",
           "1697458433628724164",
           "-1127966374457125643"
          ],
          "function": "Boolean.if_"
         }
        ],
        "5718085791749758998": [
         "2129",
         {
          "args": [
           "-2233103654628883732",
           "933942754615338529"
          ],
          "function": "Abstraction.__call__",
          "type_params": {
           "T": {
            "type": "Integer"
           },
           "U": {
            "type": "Integer"
           }
          }
         }
        ],
        "5735465842034577146": [
         "552",
         {
          "args": [
           "6321508888815918528",
           "-801800994066151079",
           "-801800994066151079"
          ],
          "function": "Boolean.if_"
         }
        ],
        "5755996234079649962": [
         "1902",
         {
          "args": [
           "-173279802764137478",
           "-2018255843137072529",
           "-6831297998772782663"
          ],
          "function": "Boolean.if_"
         }
        ],
        "5821079187440107598": [
         "1146",
         {
          "args": [
           "-8682616525754288342",
           "9023799992201590501",
           "-1110296496125714697"
          ],
          "function": "Boolean.if_"
         }
        ],
        "5851332542883551880": [
         "2023",
         {
          "args": [
           "2284946767093314478",
           "-5426275952129512663"
          ],
          "function": "Abstraction.__call__",
          "type_params": {
           "T": {
            "type": "Integer"
           },
           "U": {
            "params": {
             "T": {
              "type": "Integer"
             },
             "U": {
              "type": "Integer"
             }
            },
            "type": "Abstraction"
           }
          }
         }
        ],
        "5868669386243221683": [
         "4",
         {
          "args": [
           "5894627216596842936",
           "6382901597002153746",
           "-801800994066151079"
          ],
          "function": "Boolean.if_"
         }
        ],
        "5883419327463605956": [
         "552",
         {
          "args": [
           "-5791975375398302738",
           "-801800994066151079",
           "-801800994066151079"
          ],
          "function": "Boolean.if_"
         }
        ],
        "5894627216596842936": [
         "523",
         {
          "args": [
           "6381668467247275985",
           "-801800994066151079"
          ],
          "function": "Integer.__gt__"
         }
        ],
        "5911018480776101834": [
         "77",
         {
          "args": [
           "-2652070358770172702",
           "-5213335186121545789"
          ],
          "function": "FunctionOne.create",
          "type_params": {
           "T": {
            "type": "Integer"
           },
           "U": {
            "type": "Integer"
           }
          }
         }
        ],
        "5959117055813357738": [
         "1739",
         {
          "args": [
           "-1110296496125714697",
           "-801800994066151079"
          ],
          "function": "Integer.eq"
         }
        ],
        "5991901416660653352": [
         "2129",
         {
          "args": [
           "4626382783488220444",
           "933942754615338529"
          ],
          "function": "Abstraction.__call__",
          "type_params": {
           "T": {
            "type": "Integer"
           },
           "U": {
            "type": "Integer"
           }
          }
         }
        ],
        "6083896384076939935": [
         "4",
         {
          "args": [
           "-8353051989546661273",
           "7392902467124084083"
          ],
          "function": "Abstraction.__call__",
          "type_params": {
           "T": {
            "type": "Integer"
           },
           "U": {
            "type": "Integer"
           }
          }
         }
        ],
        "6087141743463641918": [
         "4",
         {
          "args": [
           "-7255667736369028645",
           "7974226062225629500",
           "8266129563128831658"
          ],
          "function": "Boolean.if_"
         }
        ],
        "6120816512117126328": [
         "393",
         {
          "args": [
           "2516676606967915759",
           "6381668467247275985"
          ],
          "function": "Abstraction.__call__",
          "type_params": {
           "T": {
            "type": "Integer"
           },
           "U": {
            "params": {
             "T": {
              "type": "Integer"
             },
             "U": {
              "params": {
               "T": {
                "type": "Integer"
               },
               "U": {
                "type": "Integer"
               }
              },
              "type": "Abstraction"
             }
            },
            "type": "Abstraction"
           }
          }
         }
        ],
        "6165210877069494456": [
         "357",
         {
          "args": [
           "8630811732540740441",
           "-801800994066151079"
          ],
          "function": "Abstraction.__call__",
          "type_params": {
           "T": {
            "type": "Integer"
           },
           "U": {
            "params": {
             "T": {
              "type": "Integer"
             },
             "U": {
              "type": "Integer"
             }
            },
            "type": "Abstraction"
           }
          }
         }
        ],
        "6321508888815918528": [
         "2098",
         {
          "args": [
           "-5085088520956661341"
          ],
          "function": "Boolean.create"
         }
        ],
        "6381668467247275985": [
         "520",
         {
          "args": [
           "-5077450201649349816"
          ],
          "function": "Integer.from_int"
         }
        ],
        "6382901597002153746": [
         "550",
         {
          "args": [
           "-5524342628174025274",
           "-8411147389139933288"
          ],
          "function": "Abstraction.__call__",
          "type_params": {
           "T": {
            "type": "Integer"
           },
           "U": {
            "type": "Integer"
           }
          }
         }
        ],
        "6402842311851108796": [
         "1",
         {
          "args": [
           "-2652070358770172702",
           "8909514363849906160"
          ],
          "function": "FunctionOne.create",
          "type_params": {
           "T": {
            "type": "Integer"
           },
           "U": {
            "type": "Integer"
           }
          }
         }
        ],
        "6438537617793295059": [
         "4",
         {
          "args": [
           "2352379960235132752",
           "-8411147389139933288"
          ],
          "function": "Abstraction.__call__",
          "type_params": {
           "T": {
            "type": "Integer"
           },
           "U": {
            "type": "Integer"
           }
          }
         }
        ],
        "6492341932813173705": [
         "4",
         {
          "args": [
           "-2857582461600446614",
           "8336371369559552572",
           "-801800994066151079"
          ],
          "function": "Boolean.if_"
         }
        ],
        "6511728760123316480": [
         "394",
         {
          "args": [
           "-2759908380578182555",
           "-801800994066151079"
          ],
          "function": "Abstraction.__call__",
          "type_params": {
           "T": {
            "type": "Integer"
           },
           "U": {
            "params": {
             "T": {
              "type": "Integer"
             },
             "U": {
              "type": "Integer"
             }
            },
            "type": "Abstraction"
           }
          }
         }
        ],
        "6541655153912888183": [
         "4",
         {
          "args": [
           "-173279802764137478",
           "-749555488437316466",
           "-160156518886190277"
          ],
          "function": "Boolean.if_"
         }
        ],
        "654764459164323882": [
         "19",
         {
          "args": [
           "6746237808157956011",
           "-2248277318872412514"
          ],
          "function": "Abstraction.create",
          "type_params": {
           "T": {
            "params": {
             "T": {
              "type": "Integer"
             },
             "U": {
              "params": {
               "T": {
                "type": "Integer"
               },
               "U": {
                "params": {
                 "T": {
                  "type": "Integer"
                 },
                 "U": {
                  "type": "Integer"
                 }
                },
                "type": "Abstraction"
               }
              },
              "type": "Abstraction"
             }
            },
            "type": "Abstraction"
           },
           "U": {
            "params": {
             "T": {
              "type": "Integer"
             },
             "U": {
              "params": {
               "T": {
                "type": "Integer"
               },
               "U": {
                "params": {
                 "T": {
                  "type": "Integer"
                 },
                 "U": {
                  "type": "Integer"
                 }
                },
                "type": "Abstraction"
               }
              },
              "type": "Abstraction"
             }
            },
            "type": "Abstraction"
           }
          }
         }
        ],
        "6548056718952547319": [
         "583",
         {
          "args": [
           "-3134450228486803831",
           "-6813026106247465222"
          ],
          "function": "Abstraction.create",
          "type_params": {
           "T": {
            "type": "Integer"
           },
           "U": {
            "params": {
             "T": {
              "type": "Integer"
             },
             "U": {
              "type": "Integer"
             }
            },
            "type": "Abstraction"
           }
          }
         }
        ],
        "6578170591242507024": [
         "4",
         {
          "args": [
           "3500870992217083617",
           "-8411147389139933288"
          ],
          "function": "Abstraction.__call__",
          "type_params": {
           "T": {
            "type": "Integer"
           },
           "U": {
            "type": "Integer"
           }
          }
         }
        ],
        "6588440485695573066": [
         "674",
         {
          "args": [
           "-2857582461600446614",
           "1194402006777210343",
           "252602891768763404"
          ],
          "function": "Boolean.if_"
         }
        ],
        "6590206105732749594": [
         "1299",
         {
          "args": [
           "1308135176756252192",
           "-5426275952129512663"
          ],
          "function": "Abstraction.__call__",
          "type_params": {
           "T": {
            "type": "Integer"
           },
           "U": {
            "params": {
             "T": {
              "type": "Integer"
             },
             "U": {
              "type": "Integer"
             }
            },
            "type": "Abstraction"
           }
          }
         }
        ],
        "6605627822032454031": [
         "1731",
         {
          "args": [
           "560823455631952198",
           "-8634797913289141757"
          ],
          "function": "Abstraction.__call__",
          "type_params": {
           "T": {
            "type": "Integer"
           },
           "U": {
            "params": {
             "T": {
              "type": "Integer"
             },
             "U": {
              "params": {
               "T": {
                "type": "Integer"
               },
               "U": {
                "type": "Integer"
               }
              },
              "type": "Abstraction"
             }
            },
            "type": "Abstraction"
           }
          }
         }
        ],
        "6609636163678444253": [
         "780",
         {
          "args": [
           "2759067563610691048",
           "-8411147389139933288"
          ],
          "function": "Abstraction.__call__",
          "type_params": {
           "T": {
            "type": "Integer"
           },
           "U": {
            "params": {
             "T": {
              "type": "Integer"
             },
             "U": {
              "type": "Integer"
             }
            },
            "type": "Abstraction"
           }
          }
         }
        ],
        "6611286975507299864": [
         "190",
         {
          "args": [
           "8037729559985061240",
           "7713603110135571489",
           "3726156590391311996"
          ],
          "function": "Boolean.if_"
         }
        ],
        "661661216699618580": [
         "1574",
         {
          "args": [
           "8347914482260505156",
           "-4061160045471027619"
          ],
          "function": "Abstraction.__call__",
          "type_params": {
           "T": {
            "type": "Integer"
           },
           "U": {
            "params": {
             "T": {
              "type": "Integer"
             },
             "U": {
              "type": "Integer"
             }
            },
            "type": "Abstraction"
           }
          }
         }
        ],
        "6630858885558696220": [
         "4",
         {
          "args": [
           "6321508888815918528",
           "5991901416660653352",
           "7392902467124084083"
          ],
          "function": "Boolean.if_"
         }
        ],
        "6676881333133958882": [
         "4",
         {
          "args": [
           "4721924399607572693",
           "-4061160045471027619"
          ],
          "function": "Abstraction.__call__",
          "type_params": {
           "T": {
            "type": "Integer"
           },
           "U": {
            "type": "Integer"
           }
          }
         }
        ],
        "6678766982035656654": [
         "1463",
         {
          "args": [
           "8833176416643459614",
           "-5426275952129512663",
           "-3134450228486803831"
          ],
          "function": "Boolean.if_"
         }
        ],
        "6726448046133397323": [
         "394",
         {
          "args": [
           "-5352859569795163535",
           "-801800994066151079"
          ],
          "function": "Abstraction.__call__",
          "type_params": {
           "T": {
            "type": "Integer"
           },
           "U": {
            "params": {
             "T": {
              "type": "Integer"
             },
             "U": {
              "type": "Integer"
             }
            },
            "type": "Abstraction"
           }
          }
         }
        ],
        "6746237808157956011": [
         "2100",
         {
          "args": [
           "-8182323879214061793"
          ],
          "function": "Abstraction.create_variable",
          "type_params": {
           "T": {
            "params": {
             "T": {
              "type": "Integer"
             },
             "U": {
              "params": {
               "T": {
                "type": "Integer"
               },
               "U": {
                "params": {
                 "T": {
                  "type": "Integer"
                 },
                 "U": {
                  "type": "Integer"
                 }
                },
                "type": "Abstraction"
               }
              },
              "type": "Abstraction"
             }
            },
            "type": "Abstraction"
           },
           "U": {
            "params": {
             "T": {
              "type": "Integer"
             },
             "U": {
              "params": {
               "T": {
                "type": "Integer"
               },
               "U": {
                "params": {
                 "T": {
                  "type": "Integer"
                 },
                 "U": {
                  "type": "Integer"
                 }
                },
                "type": "Abstraction"
               }
              },
              "type": "Abstraction"
             }
            },
            "type": "Abstraction"
           }
          }
         }
        ],
        "6813561694977879302": [
         "1664",
         {
          "args": [
           "-2940597550331594116",
           "-1670068791280135912",
           "5101961276949837097"
          ],
          "function": "Boolean.if_"
         }
        ],
        "6854077708690707873": [
         "171",
         {
          "args": [
           "-1717626559290561467",
           "8266129563128831658"
          ],
          "function": "Abstraction.__call__",
          "type_params": {
           "T": {
            "type": "Integer"
           },
           "U": {
            "params": {
             "T": {
              "type": "Integer"
             },
             "U": {
              "type": "Integer"
             }
            },
            "type": "Abstraction"
           }
          }
         }
        ],
        "6945850738939660942": [
         "363",
         {
          "args": [
           "-8734477808183374995",
           "-801800994066151079",
           "8266129563128831658"
          ],
          "function": "Boolean.if_"
         }
        ],
        "6995862154725320622": [
         "4",
         {
          "args": [
           "3477035551564410157",
           "-1110296496125714697"
          ],
          "function": "Abstraction.__call__",
          "type_params": {
           "T": {
            "type": "Integer"
           },
           "U": {
            "type": "Integer"
           }
          }
         }
        ],
        "6996847509153338736": [
         "11",
         {
          "args": [
           "-204800842979452163",
           "-5368476278062391617"
          ],
          "function": "FunctionThree.create",
          "type_params": {
           "T": {
            "type": "Integer"
           },
           "U": {
            "type": "Integer"
           },
           "V": {
            "type": "Integer"
           },
           "X": {
            "type": "Integer"
           }
          }
         }
        ],
        "7027828429102184038": [
         "168",
         {
          "args": [
           "-7602581157011475502",
           "277852127613867312"
          ],
          "function": "Abstraction.__call__",
          "type_params": {
           "T": {
            "type": "Integer"
           },
           "U": {
            "params": {
             "T": {
              "type": "Integer"
             },
             "U": {
              "params": {
               "T": {
                "type": "Integer"
               },
               "U": {
                "type": "Integer"
               }
              },
              "type": "Abstraction"
             }
            },
            "type": "Abstraction"
           }
          }
         }
        ],
        "7109380877687312606": [
         "945",
         {
          "args": [
           "-2242209172835132093",
           "-801800994066151079"
          ],
          "function": "Integer.eq"
         }
        ],
        "7109977341475914059": [
         "739",
         {
          "args": [
           "560823455631952198",
           "-4255043588211469147"
          ],
          "function": "Abstraction.__call__",
          "type_params": {
           "T": {
            "type": "Integer"
           },
           "U": {
            "params": {
             "T": {
              "type": "Integer"
             },
             "U": {
              "params": {
               "T": {
                "type": "Integer"
               },
               "U": {
                "type": "Integer"
               }
              },
              "type": "Abstraction"
             }
            },
            "type": "Abstraction"
           }
          }
         }
        ],
        "7137142605365310900": [
         "4",
         {
          "args": [
           "-1815412774321759192",
           "-455384923308509031",
           "8287283151426784322"
          ],
          "function": "Boolean.if_"
         }
        ],
        "7143416816201954825": [
         "168",
         {
          "args": [
           "2516676606967915759",
           "277852127613867312"
          ],
          "function": "Abstraction.__call__",
          "type_params": {
           "T": {
            "type": "Integer"
           },
           "U": {
            "params": {
             "T": {
              "type": "Integer"
             },
             "U": {
              "params": {
               "T": {
                "type": "Integer"
               },
               "U": {
                "type": "Integer"
               }
              },
              "type": "Abstraction"
             }
            },
            "type": "Abstraction"
           }
          }
         }
        ],
        "7169819572377187348": [
         "32",
         {
          "args": [
           "-7776228910613350243"
          ],
          "function": "Abstraction.from_fn"
         }
        ],
        "7190770695199085028": [
         "1267",
         {
          "args": [
           "-5719665978959350747",
           "-5426275952129512663",
           "-3134450228486803831"
          ],
          "function": "Boolean.if_"
         }
        ],
        "7245973905039219864": [
         "1069",
         {
          "args": [
           "-8682616525754288342",
           "-5426275952129512663",
           "-3134450228486803831"
          ],
          "function": "Boolean.if_"
         }
        ],
        "7299542604615089420": [
         "977",
         {
          "args": [
           "-3134450228486803831",
           "-7477973265007235012"
          ],
          "function": "Abstraction.create",
          "type_params": {
           "T": {
            "type": "Integer"
           },
           "U": {
            "params": {
             "T": {
              "type": "Integer"
             },
             "U": {
              "type": "Integer"
             }
            },
            "type": "Abstraction"
           }
          }
         }
        ],
        "7336406456226539437": [
         "584",
         {
          "args": [
           "-3402027491637223490",
           "-801800994066151079"
          ],
          "function": "Abstraction.__call__",
          "type_params": {
           "T": {
            "type": "Integer"
           },
           "U": {
            "params": {
             "T": {
              "type": "Integer"
             },
             "U": {
              "type": "Integer"
             }
            },
            "type": "Abstraction"
           }
          }
         }
        ],
        "7356006018547350021": [
         "171",
         {
          "args": [
           "7027828429102184038",
           "8266129563128831658"
          ],
          "function": "Abstraction.__call__",
          "type_params": {
           "T": {
            "type": "Integer"
           },
           "U": {
            "params": {
             "T": {
              "type": "Integer"
             },
             "U": {
              "type": "Integer"
             }
            },
            "type": "Abstraction"
           }
          }
         }
        ],
        "7392902467124084083": [
         "4",
         {
          "args": [
           "-5077450201686155666"
          ],
          "function": "Integer.from_int"
         }
        ],
        "7451954959980487849": [
         "192",
         {
          "args": [
           "-3134450228486803831",
           "-3169608309370793277"
          ],
          "function": "Abstraction.create",
          "type_params": {
           "T": {
            "type": "Integer"
           },
           "U": {
            "params": {
             "T": {
              "type": "Integer"
             },
             "U": {
              "type": "Integer"
             }
            },
            "type": "Abstraction"
           }
          }
         }
        ],
        "7480348371987009566": [
         "4",
         {
          "args": [
           "8632510737896538533",
           "-1127966374457125643"
          ],
          "function": "Abstraction.__call__",
          "type_params": {
           "T": {
            "type": "Integer"
           },
           "U": {
            "type": "Integer"
           }
          }
         }
        ],
        "754211985795393358": [
         "4",
         {
          "args": [
           "-7255667736369028645",
           "473152837096305448",
           "-5559326583280112346"
          ],
          "function": "Boolean.if_"
         }
        ],
        "7614617772478806044": [
         "4",
         {
          "args": [
           "-1815412774321759192",
           "7480348371987009566",
           "8287283151426784322"
          ],
          "function": "Boolean.if_"
         }
        ],
        "764121373863393238": [
         "1",
         {
          "args": [
           "-2652070358770172702",
           "-5192539568545985969"
          ],
          "function": "FunctionOne.create",
          "type_params": {
           "T": {
            "type": "Integer"
           },
           "U": {
            "type": "Integer"
           }
          }
         }
        ],
        "7671135217433832921": [
         "165",
         {
          "args": [
           "-7227360225357293902"
          ],
          "function": "Abstraction.fix"
         }
        ],
        "7685973006636850346": [
         "4",
         {
          "args": [
           "-6723591216675468966",
           "3328637645628897464"
          ],
          "function": "Abstraction.__call__",
          "type_params": {
           "T": {
            "type": "Integer"
           },
           "U": {
            "type": "Integer"
           }
          }
         }
        ],
        "7713603110135571489": [
         "187",
         {
          "args": [
           "8966914071754322816",
           "554550087706363287",
           "-5426275952129512663",
           "-1676170044209412934"
          ],
          "function": "FunctionThree.__call__",
          "type_params": {
           "T": {
            "type": "Integer"
           },
           "U": {
            "type": "Integer"
           },
           "V": {
            "type": "Integer"
           },
           "X": {
            "type": "Integer"
           }
          }
         }
        ],
        "7719550642365577392": [
         "515",
         {
          "args": [
           "-839342104616946696",
           "-2237940890459116165"
          ],
          "function": "Abstraction.__call__",
          "type_params": {
           "T": {
            "type": "Integer"
           },
           "U": {
            "type": "Integer"
           }
          }
         }
        ],
        "7749659093632753979": [
         "547",
         {
          "args": [
           "560823455631952198",
           "-8041154950791689897"
          ],
          "function": "Abstraction.__call__",
          "type_params": {
           "T": {
            "type": "Integer"
           },
           "U": {
            "params": {
             "T": {
              "type": "Integer"
             },
             "U": {
              "params": {
               "T": {
                "type": "Integer"
               },
               "U": {
                "type": "Integer"
               }
              },
              "type": "Abstraction"
             }
            },
            "type": "Abstraction"
           }
          }
         }
        ],
        "7772771530519993891": [
         "1771",
         {
          "args": [
           "-2918624255584909654",
           "-8411147389139933288"
          ],
          "function": "Abstraction.__call__",
          "type_params": {
           "T": {
            "type": "Integer"
           },
           "U": {
            "params": {
             "T": {
              "type": "Integer"
             },
             "U": {
              "params": {
               "T": {
                "type": "Integer"
               },
               "U": {
                "type": "Integer"
               }
              },
              "type": "Abstraction"
             }
            },
            "type": "Abstraction"
           }
          }
         }
        ],
        "7834779701190388931": [
         "11",
         {
          "args": [
           "4146220904695695617"
          ],
          "function": "FunctionThree.from_fn_recursive"
         }
        ],
        "787256017182910630": [
         "980",
         {
          "args": [
           "-6341191070088461170",
           "-1110296496125714697"
          ],
          "function": "Abstraction.__call__",
          "type_params": {
           "T": {
            "type": "Integer"
           },
           "U": {
            "params": {
             "T": {
              "type": "Integer"
             },
             "U": {
              "type": "Integer"
             }
            },
            "type": "Abstraction"
           }
          }
         }
        ],
        "7974226062225629500": [
         "361",
         {
          "args": [
           "6165210877069494456",
           "-801800994066151079"
          ],
          "function": "Abstraction.__call__",
          "type_params": {
           "T": {
            "type": "Integer"
           },
           "U": {
            "type": "Integer"
           }
          }
         }
        ],
        "8028565314492594751": [
         "944",
         {
          "args": [
           "2960721151694497664",
           "4690381768924153447"
          ],
          "function": "Abstraction.__call__",
          "type_params": {
           "T": {
            "type": "Integer"
           },
           "U": {
            "type": "Integer"
           }
          }
         }
        ],
        "8032564313467597465": [
         "171",
         {
          "args": [
           "-8823299029888871904",
           "8266129563128831658"
          ],
          "function": "Abstraction.__call__",
          "type_params": {
           "T": {
            "type": "Integer"
           },
           "U": {
            "params": {
             "T": {
              "type": "Integer"
             },
             "U": {
              "type": "Integer"
             }
            },
            "type": "Abstraction"
           }
          }
         }
        ],
        "8035427803785156047": [
         "4",
         {
          "args": [
           "787256017182910630",
           "9023799992201590501"
          ],
          "function": "Abstraction.__call__",
          "type_params": {
           "T": {
            "type": "Integer"
           },
           "U": {
            "type": "Integer"
           }
          }
         }
        ],
        "8037729559985061240": [
         "2107",
         {
          "args": [
           "8730531355445951376",
           "-801800994066151079"
          ],
          "function": "Integer.__gt__"
         }
        ],
        "8122883201962725113": [
         "710",
         {
          "args": [
           "-2857582461600446614",
           "-278212231823356320",
           "4158436589957622767"
          ],
          "function": "Boolean.if_"
         }
        ],
        "812953126781410566": [
         "11",
         {
          "args": [
           "-204800842979452163",
           "-2436086591002523920"
          ],
          "function": "FunctionThree.create",
          "type_params": {
           "T": {
            "type": "Integer"
           },
           "U": {
            "type": "Integer"
           },
           "V": {
            "type": "Integer"
           },
           "X": {
            "type": "Integer"
           }
          }
         }
        ],
        "8236473333404166934": [
         "1",
         {
          "args": [
           "-2652070358770172702",
           "-5464231311208189937"
          ],
          "function": "FunctionOne.create",
          "type_params": {
           "T": {
            "type": "Integer"
           },
           "U": {
            "type": "Integer"
           }
          }
         }
        ],
        "8266129563128831658": [
         "2121",
         {
          "args": [
           "-5077450201641772141"
          ],
          "function": "Integer.from_int"
         }
        ],
        "826815826337085659": [
         "190",
         {
          "args": [
           "8037729559985061240",
           "4831205065645050117",
           "3726156590391311996"
          ],
          "function": "Boolean.if_"
         }
        ],
        "8287283151426784322": [
         "1536",
         {
          "args": [
           "-5077450201650432341"
          ],
          "function": "Integer.from_int"
         }
        ],
        "8316436884507874420": [
         "1110",
         {
          "args": [
           "-5077450201635276991"
          ],
          "function": "Integer.from_int"
         }
        ],
        "8320803214511301674": [
         "1863",
         {
          "args": [
           "3557768599575072972",
           "-5426275952129512663",
           "-3134450228486803831"
          ],
          "function": "Boolean.if_"
         }
        ],
        "8336371369559552572": [
         "4",
         {
          "args": [
           "-615176712725468416",
           "-1110296496125714697"
          ],
          "function": "Abstraction.__call__",
          "type_params": {
           "T": {
            "type": "Integer"
           },
           "U": {
            "type": "Integer"
           }
          }
         }
        ],
        "8347914482260505156": [
         "1571",
         {
          "args": [
           "2516676606967915759",
           "-1110296496125714697"
          ],
          "function": "Abstraction.__call__",
          "type_params": {
           "T": {
            "type": "Integer"
           },
           "U": {
            "params": {
             "T": {
              "type": "Integer"
             },
             "U": {
              "params": {
               "T": {
                "type": "Integer"
               },
               "U": {
                "type": "Integer"
               }
              },
              "type": "Abstraction"
             }
            },
            "type": "Abstraction"
           }
          }
         }
        ],
        "8379259154227753368": [
         "4",
         {
          "args": [
           "-8533041076784310296",
           "8035427803785156047",
           "-8411147389139933288"
          ],
          "function": "Boolean.if_"
         }
        ],
        "8621592740297795617": [
         "1538",
         {
          "args": [
           "-8051788361287318974",
           "-3633236624571297858"
          ],
          "function": "Abstraction.__call__",
          "type_params": {
           "T": {
            "type": "Integer"
           },
           "U": {
            "type": "Integer"
           }
          }
         }
        ],
        "8630811732540740441": [
         "356",
         {
          "args": [
           "560823455631952198",
           "-4896745298611792476"
          ],
          "function": "Abstraction.__call__",
          "type_params": {
           "T": {
            "type": "Integer"
           },
           "U": {
            "params": {
             "T": {
              "type": "Integer"
             },
             "U": {
              "params": {
               "T": {
                "type": "Integer"
               },
               "U": {
                "type": "Integer"
               }
              },
              "type": "Abstraction"
             }
            },
            "type": "Abstraction"
           }
          }
         }
        ],
        "8632510737896538533": [
         "1574",
         {
          "args": [
           "1983995552774561550",
           "-4061160045471027619"
          ],
          "function": "Abstraction.__call__",
          "type_params": {
           "T": {
            "type": "Integer"
           },
           "U": {
            "params": {
             "T": {
              "type": "Integer"
             },
             "U": {
              "type": "Integer"
             }
            },
            "type": "Abstraction"
           }
          }
         }
        ],
        "8642206627146315851": [
         "1338",
         {
          "args": [
           "1578034855718565440",
           "-5060167438648985712"
          ],
          "function": "Abstraction.__call__",
          "type_params": {
           "T": {
            "type": "Integer"
           },
           "U": {
            "type": "Integer"
           }
          }
         }
        ],
        "8706402180796205000": [
         "4",
         {
          "args": [
           "-8533041076784310296",
           "8028565314492594751",
           "3746121983957195092"
          ],
          "function": "Boolean.if_"
         }
        ],
        "8725935464599729207": [
         "1178",
         {
          "args": [
           "4179817302515504023",
           "9023799992201590501"
          ],
          "function": "Abstraction.__call__",
          "type_params": {
           "T": {
            "type": "Integer"
           },
           "U": {
            "params": {
             "T": {
              "type": "Integer"
             },
             "U": {
              "type": "Integer"
             }
            },
            "type": "Abstraction"
           }
          }
         }
        ],
        "8730531355445951376": [
         "2102",
         {
          "args": [
           "-8182302530293619018"
          ],
          "function": "Abstraction.create_variable",
          "type_params": {
           "T": {
            "type": "Integer"
           },
           "U": {
            "params": {
             "T": {
              "type": "Integer"
             },
             "U": {
              "params": {
               "T": {
                "type": "Integer"
               },
               "U": {
                "type": "Integer"
               }
              },
              "type": "Abstraction"
             }
            },
            "type": "Abstraction"
           }
          }
         }
        ],
        "8746369616937991053": [
         "1461",
         {
          "args": [
           "-2353425695016430133",
           "-1676170044209412934"
          ],
          "function": "Abstraction.__call__",
          "type_params": {
           "T": {
            "type": "Integer"
           },
           "U": {
            "type": "Integer"
           }
          }
         }
        ],
        "8773600739241866994": [
         "4",
         {
          "args": [
           "6402842311851108796",
           "277852127613867312"
          ],
          "function": "FunctionOne.__call__",
          "type_params": {
           "T": {
            "type": "Integer"
           },
           "U": {
            "type": "Integer"
           }
          }
         }
        ],
        "8800103644617418569": [
         "980",
         {
          "args": [
           "7299542604615089420",
           "-1110296496125714697"
          ],
          "function": "Abstraction.__call__",
          "type_params": {
           "T": {
            "type": "Integer"
           },
           "U": {
            "params": {
             "T": {
              "type": "Integer"
             },
             "U": {
              "type": "Integer"
             }
            },
            "type": "Abstraction"
           }
          }
         }
        ],
        "8801211420620402818": [
         "1931",
         {
          "args": [
           "560823455631952198",
           "-4832175547298811883"
          ],
          "function": "Abstraction.__call__",
          "type_params": {
           "T": {
            "type": "Integer"
           },
           "U": {
            "params": {
             "T": {
              "type": "Integer"
             },
             "U": {
              "params": {
               "T": {
                "type": "Integer"
               },
               "U": {
                "type": "Integer"
               }
              },
              "type": "Abstraction"
             }
            },
            "type": "Abstraction"
           }
          }
         }
        ],
        "8818271583610203183": [
         "1540",
         {
          "args": [
           "6321508888815918528",
           "-4061160045471027619",
           "8287283151426784322"
          ],
          "function": "Boolean.if_"
         }
        ],
        "8830840302341564994": [
         "28",
         {
          "args": [
           "-3134450228486803831",
           "7169819572377187348"
          ],
          "function": "Abstraction.create",
          "type_params": {
           "T": {
            "type": "Integer"
           },
           "U": {
            "params": {
             "T": {
              "type": "Integer"
             },
             "U": {
              "type": "Integer"
             }
            },
            "type": "Abstraction"
           }
          }
         }
        ],
        "8833176416643459614": [
         "1539",
         {
          "args": [
           "-7904712134556914810",
           "-801800994066151079"
          ],
          "function": "Integer.eq"
         }
        ],
        "8845518020237659268": [
         "1771",
         {
          "args": [
           "560823455631952198",
           "-8411147389139933288"
          ],
          "function": "Abstraction.__call__",
          "type_params": {
           "T": {
            "type": "Integer"
           },
           "U": {
            "params": {
             "T": {
              "type": "Integer"
             },
             "U": {
              "params": {
               "T": {
                "type": "Integer"
               },
               "U": {
                "type": "Integer"
               }
              },
              "type": "Abstraction"
             }
            },
            "type": "Abstraction"
           }
          }
         }
        ],
        "8861261646869742781": [
         "1177",
         {
          "args": [
           "-3134450228486803831",
           "-6347830715988935560"
          ],
          "function": "Abstraction.create",
          "type_params": {
           "T": {
            "type": "Integer"
           },
           "U": {
            "params": {
             "T": {
              "type": "Integer"
             },
             "U": {
              "type": "Integer"
             }
            },
            "type": "Abstraction"
           }
          }
         }
        ],
        "8867098174384062227": [
         "4",
         {
          "args": [
           "-2888753791925313936",
           "277852127613867312"
          ],
          "function": "FunctionOne.__call__",
          "type_params": {
           "T": {
            "type": "Integer"
           },
           "U": {
            "type": "Integer"
           }
          }
         }
        ],
        "8909514363849906160": [
         "7",
         {
          "args": [
           "4146244512465847117"
          ],
          "function": "Abstraction.from_fn"
         }
        ],
        "8922057259011276207": [
         "394",
         {
          "args": [
           "-5426275952129512663",
           "-8537718888038066614"
          ],
          "function": "Abstraction.create",
          "type_params": {
           "T": {
            "type": "Integer"
           },
           "U": {
            "type": "Integer"
           }
          }
         }
        ],
        "8926369842432354593": [
         "777",
         {
          "args": [
           "-2918624255584909654",
           "-2242209172835132093"
          ],
          "function": "Abstraction.__call__",
          "type_params": {
           "T": {
            "type": "Integer"
           },
           "U": {
            "params": {
             "T": {
              "type": "Integer"
             },
             "U": {
              "params": {
               "T": {
                "type": "Integer"
               },
               "U": {
                "type": "Integer"
               }
              },
              "type": "Abstraction"
             }
            },
            "type": "Abstraction"
           }
          }
         }
        ],
        "8962767874092586541": [
         "550",
         {
          "args": [
           "-5524342628174025274",
           "-3055842602576018055"
          ],
          "function": "Abstraction.__call__",
          "type_params": {
           "T": {
            "type": "Integer"
           },
           "U": {
            "type": "Integer"
           }
          }
         }
        ],
        "8966914071754322816": [
         "196",
         {
          "args": [
           "-204800842979452163",
           "6746237808157956011"
          ],
          "function": "FunctionThree.create",
          "type_params": {
           "T": {
            "type": "Integer"
           },
           "U": {
            "type": "Integer"
           },
           "V": {
            "type": "Integer"
           },
           "X": {
            "type": "Integer"
           }
          }
         }
        ],
        "8969035901335732282": [
         "4",
         {
          "args": [
           "-2857582461600446614",
           "4221724288908798403",
           "-801800994066151079"
          ],
          "function": "Boolean.if_"
         }
        ],
        "9023799992201590501": [
         "1306",
         {
          "args": [
           "-5077450201636359516"
          ],
          "function": "Integer.from_int"
         }
        ],
        "9118311336985535265": [
         "2116",
         {
          "args": [
           "-5426275952129512663",
           "2747414248314594220"
          ],
          "function": "Abstraction.create",
          "type_params": {
           "T": {
            "type": "Integer"
           },
           "U": {
            "type": "Integer"
           }
          }
         }
        ],
        "933942754615338529": [
         "2128",
         {
          "args": [
           "-5077450201735951816"
          ],
          "function": "Integer.from_int"
         }
        ],
        "953692273204370666": [
         "4",
         {
          "args": [
           "-3251739455011285052",
           "9023799992201590501"
          ],
          "function": "Abstraction.__call__",
          "type_params": {
           "T": {
            "type": "Integer"
           },
           "U": {
            "type": "Integer"
           }
          }
         }
        ],
        "961630583575222328": [
         "4",
         {
          "args": [
           "-8533041076784310296",
           "8028565314492594751",
           "-1036961898671764251"
          ],
          "function": "Boolean.if_"
         }
        ]
       },
       "states": {
        "initial": "-8116445846070906171",
        "states": [
         {
          "node": "8773600739241866994",
          "rule": "metadsl_core.function.FunctionOne.from_fn"
         },
         {
          "node": "-1455154277302879003",
          "rule": "metadsl_core.abstraction.Abstraction.from_fn"
         },
         {
          "node": "-7510803110236166414",
          "rule": "metadsl_core.function.FunctionThree.from_fn_recursive"
         },
         {
          "node": "5010780093411592996",
          "rule": "metadsl_core.abstraction.Abstraction.from_fn"
         },
         {
          "node": "-9093080927041791942",
          "rule": "metadsl_core.abstraction.Abstraction.from_fn"
         },
         {
          "node": "8867098174384062227",
          "rule": "metadsl_core.abstraction.Abstraction.from_fn"
         },
         {
          "node": "-7311898625197263072",
          "rule": "metadsl_core.abstraction.Abstraction.from_fn"
         },
         {
          "node": "-6951026891768518467",
          "rule": "metadsl_core.function.one_call"
         },
         {
          "node": "531194929989061776",
          "rule": "metadsl_core.function.one_abstraction"
         },
         {
          "node": "-5076727890713915745",
          "rule": "metadsl_core.abstraction.beta_reduce"
         },
         {
          "node": "5172691056522701498",
          "rule": "metadsl_core.function.three_call"
         },
         {
          "node": "-8550369580410916179",
          "rule": "metadsl_core.function.three_abstraction"
         },
         {
          "node": "-2957265406751586943",
          "rule": "metadsl_core.function.three_call"
         },
         {
          "node": "-6625240827356721842",
          "rule": "metadsl_core.function.three_abstraction"
         },
         {
          "label": "core",
          "node": "-6625240827356721842",
          "rule": ""
         },
         {
          "node": "-7497714223547366321",
          "rule": "metadsl_core.abstraction.Abstraction.fix"
         },
         {
          "node": "-1661739059553963986",
          "rule": "metadsl_core.abstraction.beta_reduce"
         },
         {
          "node": "-1004246607549958434",
          "rule": "metadsl_core.abstraction.beta_reduce"
         },
         {
          "node": "-280097177963715201",
          "rule": "metadsl_core.abstraction.beta_reduce"
         },
         {
          "node": "296071040362513613",
          "rule": "metadsl_core.abstraction.beta_reduce"
         },
         {
          "node": "754211985795393358",
          "rule": "metadsl_core.integer.integer_comparison"
         },
         {
          "node": "4333076488454737185",
          "rule": "metadsl_core.boolean.if_"
         },
         {
          "node": "6087141743463641918",
          "rule": "metadsl_core.integer.integer_math"
         },
         {
          "node": "-8610589663044156307",
          "rule": "metadsl_core.integer.integer_math"
         },
         {
          "node": "-3955051663883613512",
          "rule": "metadsl_core.integer.integer_comparison"
         },
         {
          "node": "-7764589128205958593",
          "rule": "metadsl_core.boolean.if_"
         },
         {
          "label": "core",
          "node": "-7764589128205958593",
          "rule": ""
         },
         {
          "node": "-1175421402609434425",
          "rule": "metadsl_core.abstraction.Abstraction.fix"
         },
         {
          "node": "-8026712068129754069",
          "rule": "metadsl_core.abstraction.beta_reduce"
         },
         {
          "node": "-1431991138246138060",
          "rule": "metadsl_core.abstraction.beta_reduce"
         },
         {
          "node": "-6910040230053943196",
          "rule": "metadsl_core.abstraction.beta_reduce"
         },
         {
          "node": "-1712256061507382434",
          "rule": "metadsl_core.abstraction.beta_reduce"
         },
         {
          "node": "-7733025434501272912",
          "rule": "metadsl_core.integer.integer_comparison"
         },
         {
          "node": "5607189250046715943",
          "rule": "metadsl_core.boolean.if_"
         },
         {
          "node": "5868669386243221683",
          "rule": "metadsl_core.integer.integer_math"
         },
         {
          "node": "-2661140851021651882",
          "rule": "metadsl_core.integer.integer_math"
         },
         {
          "node": "-2771380547575644959",
          "rule": "metadsl_core.integer.integer_comparison"
         },
         {
          "node": "6438537617793295059",
          "rule": "metadsl_core.boolean.if_"
         },
         {
          "label": "core",
          "node": "6438537617793295059",
          "rule": ""
         },
         {
          "node": "-913218668510489114",
          "rule": "metadsl_core.abstraction.Abstraction.fix"
         },
         {
          "node": "4788533924726486684",
          "rule": "metadsl_core.abstraction.beta_reduce"
         },
         {
          "node": "6578170591242507024",
          "rule": "metadsl_core.abstraction.beta_reduce"
         },
         {
          "node": "-5688227018221168063",
          "rule": "metadsl_core.abstraction.beta_reduce"
         },
         {
          "node": "2999920312870747912",
          "rule": "metadsl_core.abstraction.beta_reduce"
         },
         {
          "node": "2307392500392344611",
          "rule": "metadsl_core.integer.integer_comparison"
         },
         {
          "node": "8969035901335732282",
          "rule": "metadsl_core.boolean.if_"
         },
         {
          "node": "4677544324427469785",
          "rule": "metadsl_core.integer.integer_math"
         },
         {
          "node": "6492341932813173705",
          "rule": "metadsl_core.integer.integer_math"
         },
         {
          "node": "-6433039568627941057",
          "rule": "metadsl_core.integer.integer_comparison"
         },
         {
          "node": "8336371369559552572",
          "rule": "metadsl_core.boolean.if_"
         },
         {
          "label": "core",
          "node": "8336371369559552572",
          "rule": ""
         },
         {
          "node": "5409588244739586879",
          "rule": "metadsl_core.abstraction.Abstraction.fix"
         },
         {
          "node": "1311914884426379226",
          "rule": "metadsl_core.abstraction.beta_reduce"
         },
         {
          "node": "6995862154725320622",
          "rule": "metadsl_core.abstraction.beta_reduce"
         },
         {
          "node": "279229843076106130",
          "rule": "metadsl_core.abstraction.beta_reduce"
         },
         {
          "node": "961630583575222328",
          "rule": "metadsl_core.abstraction.beta_reduce"
         },
         {
          "node": "8706402180796205000",
          "rule": "metadsl_core.integer.integer_comparison"
         },
         {
          "node": "-6861560660440697336",
          "rule": "metadsl_core.boolean.if_"
         },
         {
          "node": "3550095921293099265",
          "rule": "metadsl_core.integer.integer_math"
         },
         {
          "node": "8379259154227753368",
          "rule": "metadsl_core.integer.integer_math"
         },
         {
          "node": "1550817666979442994",
          "rule": "metadsl_core.integer.integer_comparison"
         },
         {
          "node": "8035427803785156047",
          "rule": "metadsl_core.boolean.if_"
         },
         {
          "label": "core",
          "node": "8035427803785156047",
          "rule": ""
         },
         {
          "node": "5381401001633374149",
          "rule": "metadsl_core.abstraction.Abstraction.fix"
         },
         {
          "node": "953692273204370666",
          "rule": "metadsl_core.abstraction.beta_reduce"
         },
         {
          "node": "-147426409985855627",
          "rule": "metadsl_core.abstraction.beta_reduce"
         },
         {
          "node": "-3421636274071388720",
          "rule": "metadsl_core.abstraction.beta_reduce"
         },
         {
          "node": "-3018917905739980852",
          "rule": "metadsl_core.abstraction.beta_reduce"
         },
         {
          "node": "-2737723157984854121",
          "rule": "metadsl_core.integer.integer_comparison"
         },
         {
          "node": "-6204855144531354183",
          "rule": "metadsl_core.boolean.if_"
         },
         {
          "node": "3586394300297348990",
          "rule": "metadsl_core.integer.integer_math"
         },
         {
          "node": "-6951123171904970619",
          "rule": "metadsl_core.integer.integer_math"
         },
         {
          "node": "-9152255430083111256",
          "rule": "metadsl_core.integer.integer_comparison"
         },
         {
          "node": "-6219751249766497992",
          "rule": "metadsl_core.boolean.if_"
         },
         {
          "label": "core",
          "node": "-6219751249766497992",
          "rule": ""
         },
         {
          "node": "4483633870408744868",
          "rule": "metadsl_core.abstraction.Abstraction.fix"
         },
         {
          "node": "-5754315939870985477",
          "rule": "metadsl_core.abstraction.beta_reduce"
         },
         {
          "node": "-4243314820986609143",
          "rule": "metadsl_core.abstraction.beta_reduce"
         },
         {
          "node": "-791080832611264274",
          "rule": "metadsl_core.abstraction.beta_reduce"
         },
         {
          "node": "1123399907041318307",
          "rule": "metadsl_core.abstraction.beta_reduce"
         },
         {
          "node": "261371141634385456",
          "rule": "metadsl_core.integer.integer_comparison"
         },
         {
          "node": "1942822037231683373",
          "rule": "metadsl_core.boolean.if_"
         },
         {
          "node": "3615248622285942853",
          "rule": "metadsl_core.integer.integer_math"
         },
         {
          "node": "3614848320306444792",
          "rule": "metadsl_core.integer.integer_math"
         },
         {
          "node": "5694519351722576168",
          "rule": "metadsl_core.integer.integer_comparison"
         },
         {
          "node": "383714339998150731",
          "rule": "metadsl_core.boolean.if_"
         },
         {
          "label": "core",
          "node": "383714339998150731",
          "rule": ""
         },
         {
          "node": "-1426295708692493639",
          "rule": "metadsl_core.abstraction.Abstraction.fix"
         },
         {
          "node": "6676881333133958882",
          "rule": "metadsl_core.abstraction.beta_reduce"
         },
         {
          "node": "-7441735551831453783",
          "rule": "metadsl_core.abstraction.beta_reduce"
         },
         {
          "node": "-7842067995882861556",
          "rule": "metadsl_core.abstraction.beta_reduce"
         },
         {
          "node": "-2702557499059679692",
          "rule": "metadsl_core.abstraction.beta_reduce"
         },
         {
          "node": "-9166909322311612472",
          "rule": "metadsl_core.integer.integer_comparison"
         },
         {
          "node": "-1491659118260489075",
          "rule": "metadsl_core.boolean.if_"
         },
         {
          "node": "7137142605365310900",
          "rule": "metadsl_core.integer.integer_math"
         },
         {
          "node": "7614617772478806044",
          "rule": "metadsl_core.integer.integer_math"
         },
         {
          "node": "-1482474538857235343",
          "rule": "metadsl_core.integer.integer_comparison"
         },
         {
          "node": "7480348371987009566",
          "rule": "metadsl_core.boolean.if_"
         },
         {
          "label": "core",
          "node": "7480348371987009566",
          "rule": ""
         },
         {
          "node": "-8159959248220056702",
          "rule": "metadsl_core.abstraction.Abstraction.fix"
         },
         {
          "node": "-2056005443075254490",
          "rule": "metadsl_core.abstraction.beta_reduce"
         },
         {
          "node": "-4614975930180568821",
          "rule": "metadsl_core.abstraction.beta_reduce"
         },
         {
          "node": "-641385849391593127",
          "rule": "metadsl_core.abstraction.beta_reduce"
         },
         {
          "node": "-2981783927078027337",
          "rule": "metadsl_core.abstraction.beta_reduce"
         },
         {
          "node": "-2280173650737524621",
          "rule": "metadsl_core.integer.integer_comparison"
         },
         {
          "node": "3347703213419448133",
          "rule": "metadsl_core.boolean.if_"
         },
         {
          "node": "-6685418151069889607",
          "rule": "metadsl_core.integer.integer_math"
         },
         {
          "node": "-2354252986819779049",
          "rule": "metadsl_core.integer.integer_math"
         },
         {
          "node": "2714186375538812207",
          "rule": "metadsl_core.integer.integer_comparison"
         },
         {
          "node": "-246565496540427672",
          "rule": "metadsl_core.boolean.if_"
         },
         {
          "label": "core",
          "node": "-246565496540427672",
          "rule": ""
         },
         {
          "node": "1703992945121825963",
          "rule": "metadsl_core.abstraction.Abstraction.fix"
         },
         {
          "node": "7685973006636850346",
          "rule": "metadsl_core.abstraction.beta_reduce"
         },
         {
          "node": "4719944396817939550",
          "rule": "metadsl_core.abstraction.beta_reduce"
         },
         {
          "node": "149270384740622389",
          "rule": "metadsl_core.abstraction.beta_reduce"
         },
         {
          "node": "6541655153912888183",
          "rule": "metadsl_core.abstraction.beta_reduce"
         },
         {
          "node": "-9051778353687612959",
          "rule": "metadsl_core.integer.integer_comparison"
         },
         {
          "node": "2431803466071441833",
          "rule": "metadsl_core.boolean.if_"
         },
         {
          "node": "-732316379779617445",
          "rule": "metadsl_core.integer.integer_math"
         },
         {
          "node": "-42827837141343569",
          "rule": "metadsl_core.integer.integer_math"
         },
         {
          "node": "5717695590859629976",
          "rule": "metadsl_core.integer.integer_comparison"
         },
         {
          "node": "1697458433628724164",
          "rule": "metadsl_core.boolean.if_"
         },
         {
          "label": "core",
          "node": "1697458433628724164",
          "rule": ""
         },
         {
          "node": "-9035613198182849844",
          "rule": "metadsl_core.abstraction.Abstraction.fix"
         },
         {
          "node": "-4007718426116499557",
          "rule": "metadsl_core.abstraction.beta_reduce"
         },
         {
          "node": "4817612301529815129",
          "rule": "metadsl_core.abstraction.beta_reduce"
         },
         {
          "node": "6083896384076939935",
          "rule": "metadsl_core.abstraction.beta_reduce"
         },
         {
          "node": "-1672923674398721790",
          "rule": "metadsl_core.abstraction.beta_reduce"
         },
         {
          "node": "-3063619287185040911",
          "rule": "metadsl_core.integer.integer_comparison"
         },
         {
          "node": "-8383708108278929694",
          "rule": "metadsl_core.boolean.if_"
         },
         {
          "node": "-5797690942663528579",
          "rule": "metadsl_core.integer.integer_math"
         },
         {
          "node": "-8830800814023513745",
          "rule": "metadsl_core.integer.integer_math"
         },
         {
          "node": "6630858885558696220",
          "rule": "metadsl_core.integer.integer_comparison"
         },
         {
          "node": "7392902467124084083",
          "rule": "metadsl_core.boolean.if_"
         },
         {
          "label": "core",
          "node": "7392902467124084083",
          "rule": ""
         }
        ]
       }
      },
      "text/plain": [
       "Typez(definitions=None, nodes={'4146244512465847117': ['6', PrimitiveNode(type='function', repr='<function fib at 0x11a435730>')], '3497896521332102840': ['1', CallNode(function='FunctionOne.from_fn', type_params=None, args=['4146244512465847117'], kwargs=None)], '-5077450201648267291': ['328', PrimitiveNode(type='int', repr='10')], '277852127613867312': ['329', CallNode(function='Integer.from_int', type_params=None, args=['-5077450201648267291'], kwargs=None)], '-8116445846070906171': ['4', CallNode(function='FunctionOne.__call__', type_params={'U': DeclaredTypeInstance(type='Integer', params=None), 'T': DeclaredTypeInstance(type='Integer', params=None)}, args=['3497896521332102840', '277852127613867312'], kwargs=None)], '-2652070358770172702': ['45', PrimitiveNode(type='str', repr='fib')], '8909514363849906160': ['7', CallNode(function='Abstraction.from_fn', type_params=None, args=['4146244512465847117'], kwargs=None)], '6402842311851108796': ['1', CallNode(function='FunctionOne.create', type_params={'U': DeclaredTypeInstance(type='Integer', params=None), 'T': DeclaredTypeInstance(type='Integer', params=None)}, args=['-2652070358770172702', '8909514363849906160'], kwargs=None)], '8773600739241866994': ['4', CallNode(function='FunctionOne.__call__', type_params={'U': DeclaredTypeInstance(type='Integer', params=None), 'T': DeclaredTypeInstance(type='Integer', params=None)}, args=['6402842311851108796', '277852127613867312'], kwargs=None)], '-8182323879204319068': ['81', PrimitiveNode(type='Variable', repr='4554483584')], '-5077963005297038142': ['82', CallNode(function='Abstraction.create_variable', type_params={'U': DeclaredTypeInstance(type='Integer', params=None), 'T': DeclaredTypeInstance(type='Integer', params=None)}, args=['-8182323879204319068'], kwargs=None)], '4146220904695695617': ['10', PrimitiveNode(type='function', repr='<function fib_more at 0x10f77ab70>')], '7834779701190388931': ['11', CallNode(function='FunctionThree.from_fn_recursive', type_params=None, args=['4146220904695695617'], kwargs=None)], '-5077450201641772141': ['2134', PrimitiveNode(type='int', repr='0')], '8266129563128831658': ['2121', CallNode(function='Integer.from_int', type_params=None, args=['-5077450201641772141'], kwargs=None)], '-5077450201640689616': ['2096', PrimitiveNode(type='int', repr='1')], '-801800994066151079': ['2097', CallNode(function='Integer.from_int', type_params=None, args=['-5077450201640689616'], kwargs=None)], '-6855946233099837420': ['16', CallNode(function='FunctionThree.__call__', type_params={'X': DeclaredTypeInstance(type='Integer', params=None), 'V': DeclaredTypeInstance(type='Integer', params=None), 'U': DeclaredTypeInstance(type='Integer', params=None), 'T': DeclaredTypeInstance(type='Integer', params=None)}, args=['7834779701190388931', '-5077963005297038142', '8266129563128831658', '-801800994066151079'], kwargs=None)], '-5464231311208189937': ['7', CallNode(function='Abstraction.create', type_params={'U': DeclaredTypeInstance(type='Integer', params=None), 'T': DeclaredTypeInstance(type='Integer', params=None)}, args=['-5077963005297038142', '-6855946233099837420'], kwargs=None)], '8236473333404166934': ['1', CallNode(function='FunctionOne.create', type_params={'U': DeclaredTypeInstance(type='Integer', params=None), 'T': DeclaredTypeInstance(type='Integer', params=None)}, args=['-2652070358770172702', '-5464231311208189937'], kwargs=None)], '-1455154277302879003': ['4', CallNode(function='FunctionOne.__call__', type_params={'U': DeclaredTypeInstance(type='Integer', params=None), 'T': DeclaredTypeInstance(type='Integer', params=None)}, args=['8236473333404166934', '277852127613867312'], kwargs=None)], '-204800842979452163': ['195', PrimitiveNode(type='str', repr='fib_more')], '-7776228790894745443': ['18', PrimitiveNode(type='FunctionReplaceTyping', repr=\"FunctionReplaceTyping(fn=<function FunctionThree.from_fn_recursive.<locals>.inner at 0x10f77aea0>, typevars={~V: <class 'metadsl_core.integer.Integer'>, ~U: <class 'metadsl_core.integer.Integer'>, ~T: <class 'metadsl_core.integer.Integer'>, ~X: <class 'metadsl_core.integer.Integer'>}, typevars_in_scope={~U, ~T, ~V, ~X})\")], '521197370136405012': ['19', CallNode(function='Abstraction.from_fn', type_params=None, args=['-7776228790894745443'], kwargs=None)], '-1175822329754972106': ['20', CallNode(function='Abstraction.fix', type_params=None, args=['521197370136405012'], kwargs=None)], '-1946146389333129899': ['11', CallNode(function='FunctionThree.create', type_params={'X': DeclaredTypeInstance(type='Integer', params=None), 'V': DeclaredTypeInstance(type='Integer', params=None), 'U': DeclaredTypeInstance(type='Integer', params=None), 'T': DeclaredTypeInstance(type='Integer', params=None)}, args=['-204800842979452163', '-1175822329754972106'], kwargs=None)], '2060000086376341037': ['16', CallNode(function='FunctionThree.__call__', type_params={'X': DeclaredTypeInstance(type='Integer', params=None), 'V': DeclaredTypeInstance(type='Integer', params=None), 'U': DeclaredTypeInstance(type='Integer', params=None), 'T': DeclaredTypeInstance(type='Integer', params=None)}, args=['-1946146389333129899', '-5077963005297038142', '8266129563128831658', '-801800994066151079'], kwargs=None)], '-2780099227991991306': ['7', CallNode(function='Abstraction.create', type_params={'U': DeclaredTypeInstance(type='Integer', params=None), 'T': DeclaredTypeInstance(type='Integer', params=None)}, args=['-5077963005297038142', '2060000086376341037'], kwargs=None)], '1431835543656700350': ['1', CallNode(function='FunctionOne.create', type_params={'U': DeclaredTypeInstance(type='Integer', params=None), 'T': DeclaredTypeInstance(type='Integer', params=None)}, args=['-2652070358770172702', '-2780099227991991306'], kwargs=None)], '-7510803110236166414': ['4', CallNode(function='FunctionOne.__call__', type_params={'U': DeclaredTypeInstance(type='Integer', params=None), 'T': DeclaredTypeInstance(type='Integer', params=None)}, args=['1431835543656700350', '277852127613867312'], kwargs=None)], '-8182323879214061793': ['2099', PrimitiveNode(type='Variable', repr='4554483472')], '6746237808157956011': ['2100', CallNode(function='Abstraction.create_variable', type_params={'U': DeclaredTypeInstance(type='Abstraction', params={'U': DeclaredTypeInstance(type='Abstraction', params={'U': DeclaredTypeInstance(type='Abstraction', params={'U': DeclaredTypeInstance(type='Integer', params=None), 'T': DeclaredTypeInstance(type='Integer', params=None)}), 'T': DeclaredTypeInstance(type='Integer', params=None)}), 'T': DeclaredTypeInstance(type='Integer', params=None)}), 'T': DeclaredTypeInstance(type='Abstraction', params={'U': DeclaredTypeInstance(type='Abstraction', params={'U': DeclaredTypeInstance(type='Abstraction', params={'U': DeclaredTypeInstance(type='Integer', params=None), 'T': DeclaredTypeInstance(type='Integer', params=None)}), 'T': DeclaredTypeInstance(type='Integer', params=None)}), 'T': DeclaredTypeInstance(type='Integer', params=None)})}, args=['-8182323879214061793'], kwargs=None)], '-7776228912258788243': ['23', PrimitiveNode(type='FunctionReplaceTyping', repr=\"FunctionReplaceTyping(fn=<function FunctionThree.from_fn_recursive.<locals>.inner.<locals>.inner at 0x11a435b70>, typevars={~V: <class 'metadsl_core.integer.Integer'>, ~U: <class 'metadsl_core.integer.Integer'>, ~T: <class 'metadsl_core.integer.Integer'>, ~X: <class 'metadsl_core.integer.Integer'>}, typevars_in_scope={~U, ~T, ~V, ~X})\")], '-593101952756309468': ['24', CallNode(function='Abstraction.from_fn', type_params=None, args=['-7776228912258788243'], kwargs=None)], '3651155343468206760': ['19', CallNode(function='Abstraction.create', type_params={'U': DeclaredTypeInstance(type='Abstraction', params={'U': DeclaredTypeInstance(type='Abstraction', params={'U': DeclaredTypeInstance(type='Abstraction', params={'U': DeclaredTypeInstance(type='Integer', params=None), 'T': DeclaredTypeInstance(type='Integer', params=None)}), 'T': DeclaredTypeInstance(type='Integer', params=None)}), 'T': DeclaredTypeInstance(type='Integer', params=None)}), 'T': DeclaredTypeInstance(type='Abstraction', params={'U': DeclaredTypeInstance(type='Abstraction', params={'U': DeclaredTypeInstance(type='Abstraction', params={'U': DeclaredTypeInstance(type='Integer', params=None), 'T': DeclaredTypeInstance(type='Integer', params=None)}), 'T': DeclaredTypeInstance(type='Integer', params=None)}), 'T': DeclaredTypeInstance(type='Integer', params=None)})}, args=['6746237808157956011', '-593101952756309468'], kwargs=None)], '-5368476278062391617': ['20', CallNode(function='Abstraction.fix', type_params=None, args=['3651155343468206760'], kwargs=None)], '6996847509153338736': ['11', CallNode(function='FunctionThree.create', type_params={'X': DeclaredTypeInstance(type='Integer', params=None), 'V': DeclaredTypeInstance(type='Integer', params=None), 'U': DeclaredTypeInstance(type='Integer', params=None), 'T': DeclaredTypeInstance(type='Integer', params=None)}, args=['-204800842979452163', '-5368476278062391617'], kwargs=None)], '1698625727966581427': ['16', CallNode(function='FunctionThree.__call__', type_params={'X': DeclaredTypeInstance(type='Integer', params=None), 'V': DeclaredTypeInstance(type='Integer', params=None), 'U': DeclaredTypeInstance(type='Integer', params=None), 'T': DeclaredTypeInstance(type='Integer', params=None)}, args=['6996847509153338736', '-5077963005297038142', '8266129563128831658', '-801800994066151079'], kwargs=None)], '-6408508445525284056': ['7', CallNode(function='Abstraction.create', type_params={'U': DeclaredTypeInstance(type='Integer', params=None), 'T': DeclaredTypeInstance(type='Integer', params=None)}, args=['-5077963005297038142', '1698625727966581427'], kwargs=None)], '-8565456963636995621': ['1', CallNode(function='FunctionOne.create', type_params={'U': DeclaredTypeInstance(type='Integer', params=None), 'T': DeclaredTypeInstance(type='Integer', params=None)}, args=['-2652070358770172702', '-6408508445525284056'], kwargs=None)], '5010780093411592996': ['4', CallNode(function='FunctionOne.__call__', type_params={'U': DeclaredTypeInstance(type='Integer', params=None), 'T': DeclaredTypeInstance(type='Integer', params=None)}, args=['-8565456963636995621', '277852127613867312'], kwargs=None)], '-8182302530293619018': ['2101', PrimitiveNode(type='Variable', repr='4735685408')], '8730531355445951376': ['2102', CallNode(function='Abstraction.create_variable', type_params={'U': DeclaredTypeInstance(type='Abstraction', params={'U': DeclaredTypeInstance(type='Abstraction', params={'U': DeclaredTypeInstance(type='Integer', params=None), 'T': DeclaredTypeInstance(type='Integer', params=None)}), 'T': DeclaredTypeInstance(type='Integer', params=None)}), 'T': DeclaredTypeInstance(type='Integer', params=None)}, args=['-8182302530293619018'], kwargs=None)], '-7776228705834261043': ['27', PrimitiveNode(type='FunctionReplaceTyping', repr=\"FunctionReplaceTyping(fn=<function FunctionThree.from_fn_recursive.<locals>.inner.<locals>.inner.<locals>.inner at 0x11a435e18>, typevars={~V: <class 'metadsl_core.integer.Integer'>, ~U: <class 'metadsl_core.integer.Integer'>, ~T: <class 'metadsl_core.integer.Integer'>, ~X: <class 'metadsl_core.integer.Integer'>}, typevars_in_scope={~V, ~X, ~U, ~T})\")], '1436529712068027460': ['28', CallNode(function='Abstraction.from_fn', type_params=None, args=['-7776228705834261043'], kwargs=None)], '-2248277318872412514': ['24', CallNode(function='Abstraction.create', type_params={'U': DeclaredTypeInstance(type='Abstraction', params={'U': DeclaredTypeInstance(type='Abstraction', params={'U': DeclaredTypeInstance(type='Integer', params=None), 'T': DeclaredTypeInstance(type='Integer', params=None)}), 'T': DeclaredTypeInstance(type='Integer', params=None)}), 'T': DeclaredTypeInstance(type='Integer', params=None)}, args=['8730531355445951376', '1436529712068027460'], kwargs=None)], '654764459164323882': ['19', CallNode(function='Abstraction.create', type_params={'U': DeclaredTypeInstance(type='Abstraction', params={'U': DeclaredTypeInstance(type='Abstraction', params={'U': DeclaredTypeInstance(type='Abstraction', params={'U': DeclaredTypeInstance(type='Integer', params=None), 'T': DeclaredTypeInstance(type='Integer', params=None)}), 'T': DeclaredTypeInstance(type='Integer', params=None)}), 'T': DeclaredTypeInstance(type='Integer', params=None)}), 'T': DeclaredTypeInstance(type='Abstraction', params={'U': DeclaredTypeInstance(type='Abstraction', params={'U': DeclaredTypeInstance(type='Abstraction', params={'U': DeclaredTypeInstance(type='Integer', params=None), 'T': DeclaredTypeInstance(type='Integer', params=None)}), 'T': DeclaredTypeInstance(type='Integer', params=None)}), 'T': DeclaredTypeInstance(type='Integer', params=None)})}, args=['6746237808157956011', '-2248277318872412514'], kwargs=None)], '-2436086591002523920': ['20', CallNode(function='Abstraction.fix', type_params=None, args=['654764459164323882'], kwargs=None)], '812953126781410566': ['11', CallNode(function='FunctionThree.create', type_params={'X': DeclaredTypeInstance(type='Integer', params=None), 'V': DeclaredTypeInstance(type='Integer', params=None), 'U': DeclaredTypeInstance(type='Integer', params=None), 'T': DeclaredTypeInstance(type='Integer', params=None)}, args=['-204800842979452163', '-2436086591002523920'], kwargs=None)], '-5189665647578762924': ['16', CallNode(function='FunctionThree.__call__', type_params={'X': DeclaredTypeInstance(type='Integer', params=None), 'V': DeclaredTypeInstance(type='Integer', params=None), 'U': DeclaredTypeInstance(type='Integer', params=None), 'T': DeclaredTypeInstance(type='Integer', params=None)}, args=['812953126781410566', '-5077963005297038142', '8266129563128831658', '-801800994066151079'], kwargs=None)], '-5192539568545985969': ['7', CallNode(function='Abstraction.create', type_params={'U': DeclaredTypeInstance(type='Integer', params=None), 'T': DeclaredTypeInstance(type='Integer', params=None)}, args=['-5077963005297038142', '-5189665647578762924'], kwargs=None)], '764121373863393238': ['1', CallNode(function='FunctionOne.create', type_params={'U': DeclaredTypeInstance(type='Integer', params=None), 'T': DeclaredTypeInstance(type='Integer', params=None)}, args=['-2652070358770172702', '-5192539568545985969'], kwargs=None)], '-9093080927041791942': ['4', CallNode(function='FunctionOne.__call__', type_params={'U': DeclaredTypeInstance(type='Integer', params=None), 'T': DeclaredTypeInstance(type='Integer', params=None)}, args=['764121373863393238', '277852127613867312'], kwargs=None)], '-8182302524109153693': ['2103', PrimitiveNode(type='Variable', repr='4735776976')], '-3134450228486803831': ['2104', CallNode(function='Abstraction.create_variable', type_params={'U': DeclaredTypeInstance(type='Abstraction', params={'U': DeclaredTypeInstance(type='Integer', params=None), 'T': DeclaredTypeInstance(type='Integer', params=None)}), 'T': DeclaredTypeInstance(type='Integer', params=None)}, args=['-8182302524109153693'], kwargs=None)], '-7776228910613350243': ['31', PrimitiveNode(type='FunctionReplaceTyping', repr=\"FunctionReplaceTyping(fn=<function FunctionThree.from_fn_recursive.<locals>.inner.<locals>.inner.<locals>.inner.<locals>.inner at 0x11a435c80>, typevars={~V: <class 'metadsl_core.integer.Integer'>, ~U: <class 'metadsl_core.integer.Integer'>, ~T: <class 'metadsl_core.integer.Integer'>, ~X: <class 'metadsl_core.integer.Integer'>}, typevars_in_scope={~V, ~X, ~U, ~T})\")], '7169819572377187348': ['32', CallNode(function='Abstraction.from_fn', type_params=None, args=['-7776228910613350243'], kwargs=None)], '8830840302341564994': ['28', CallNode(function='Abstraction.create', type_params={'U': DeclaredTypeInstance(type='Abstraction', params={'U': DeclaredTypeInstance(type='Integer', params=None), 'T': DeclaredTypeInstance(type='Integer', params=None)}), 'T': DeclaredTypeInstance(type='Integer', params=None)}, args=['-3134450228486803831', '7169819572377187348'], kwargs=None)], '2392364089908614373': ['24', CallNode(function='Abstraction.create', type_params={'U': DeclaredTypeInstance(type='Abstraction', params={'U': DeclaredTypeInstance(type='Abstraction', params={'U': DeclaredTypeInstance(type='Integer', params=None), 'T': DeclaredTypeInstance(type='Integer', params=None)}), 'T': DeclaredTypeInstance(type='Integer', params=None)}), 'T': DeclaredTypeInstance(type='Integer', params=None)}, args=['8730531355445951376', '8830840302341564994'], kwargs=None)], '-8981310257094008174': ['19', CallNode(function='Abstraction.create', type_params={'U': DeclaredTypeInstance(type='Abstraction', params={'U': DeclaredTypeInstance(type='Abstraction', params={'U': DeclaredTypeInstance(type='Abstraction', params={'U': DeclaredTypeInstance(type='Integer', params=None), 'T': DeclaredTypeInstance(type='Integer', params=None)}), 'T': DeclaredTypeInstance(type='Integer', params=None)}), 'T': DeclaredTypeInstance(type='Integer', params=None)}), 'T': DeclaredTypeInstance(type='Abstraction', params={'U': DeclaredTypeInstance(type='Abstraction', params={'U': DeclaredTypeInstance(type='Abstraction', params={'U': DeclaredTypeInstance(type='Integer', params=None), 'T': DeclaredTypeInstance(type='Integer', params=None)}), 'T': DeclaredTypeInstance(type='Integer', params=None)}), 'T': DeclaredTypeInstance(type='Integer', params=None)})}, args=['6746237808157956011', '2392364089908614373'], kwargs=None)], '-1918553778381062471': ['20', CallNode(function='Abstraction.fix', type_params=None, args=['-8981310257094008174'], kwargs=None)], '-996409467075550444': ['11', CallNode(function='FunctionThree.create', type_params={'X': DeclaredTypeInstance(type='Integer', params=None), 'V': DeclaredTypeInstance(type='Integer', params=None), 'U': DeclaredTypeInstance(type='Integer', params=None), 'T': DeclaredTypeInstance(type='Integer', params=None)}, args=['-204800842979452163', '-1918553778381062471'], kwargs=None)], '-800441838294690534': ['16', CallNode(function='FunctionThree.__call__', type_params={'X': DeclaredTypeInstance(type='Integer', params=None), 'V': DeclaredTypeInstance(type='Integer', params=None), 'U': DeclaredTypeInstance(type='Integer', params=None), 'T': DeclaredTypeInstance(type='Integer', params=None)}, args=['-996409467075550444', '-5077963005297038142', '8266129563128831658', '-801800994066151079'], kwargs=None)], '-2066527565928610377': ['7', CallNode(function='Abstraction.create', type_params={'U': DeclaredTypeInstance(type='Integer', params=None), 'T': DeclaredTypeInstance(type='Integer', params=None)}, args=['-5077963005297038142', '-800441838294690534'], kwargs=None)], '-2888753791925313936': ['1', CallNode(function='FunctionOne.create', type_params={'U': DeclaredTypeInstance(type='Integer', params=None), 'T': DeclaredTypeInstance(type='Integer', params=None)}, args=['-2652070358770172702', '-2066527565928610377'], kwargs=None)], '8867098174384062227': ['4', CallNode(function='FunctionOne.__call__', type_params={'U': DeclaredTypeInstance(type='Integer', params=None), 'T': DeclaredTypeInstance(type='Integer', params=None)}, args=['-2888753791925313936', '277852127613867312'], kwargs=None)], '1041069506526515990': ['2105', PrimitiveNode(type='Variable', repr='4735684904')], '-5426275952129512663': ['2106', CallNode(function='Abstraction.create_variable', type_params={'U': DeclaredTypeInstance(type='Integer', params=None), 'T': DeclaredTypeInstance(type='Integer', params=None)}, args=['1041069506526515990'], kwargs=None)], '8037729559985061240': ['2107', CallNode(function='Integer.__gt__', type_params=None, args=['8730531355445951376', '-801800994066151079'], kwargs=None)], '8966914071754322816': ['196', CallNode(function='FunctionThree.create', type_params={'X': DeclaredTypeInstance(type='Integer', params=None), 'V': DeclaredTypeInstance(type='Integer', params=None), 'U': DeclaredTypeInstance(type='Integer', params=None), 'T': DeclaredTypeInstance(type='Integer', params=None)}, args=['-204800842979452163', '6746237808157956011'], kwargs=None)], '554550087706363287': ['2108', CallNode(function='Integer.__sub__', type_params=None, args=['8730531355445951376', '-801800994066151079'], kwargs=None)], '-1676170044209412934': ['2111', CallNode(function='Integer.__add__', type_params=None, args=['-3134450228486803831', '-5426275952129512663'], kwargs=None)], '7713603110135571489': ['187', CallNode(function='FunctionThree.__call__', type_params={'X': DeclaredTypeInstance(type='Integer', params=None), 'V': DeclaredTypeInstance(type='Integer', params=None), 'U': DeclaredTypeInstance(type='Integer', params=None), 'T': DeclaredTypeInstance(type='Integer', params=None)}, args=['8966914071754322816', '554550087706363287', '-5426275952129512663', '-1676170044209412934'], kwargs=None)], '-7729922894212136018': ['2113', CallNode(function='Integer.eq', type_params=None, args=['8730531355445951376', '-801800994066151079'], kwargs=None)], '3726156590391311996': ['2114', CallNode(function='Boolean.if_', type_params=None, args=['-7729922894212136018', '-5426275952129512663', '-3134450228486803831'], kwargs=None)], '6611286975507299864': ['190', CallNode(function='Boolean.if_', type_params=None, args=['8037729559985061240', '7713603110135571489', '3726156590391311996'], kwargs=None)], '-6104370195395498100': ['191', CallNode(function='Abstraction.create', type_params={'U': DeclaredTypeInstance(type='Integer', params=None), 'T': DeclaredTypeInstance(type='Integer', params=None)}, args=['-5426275952129512663', '6611286975507299864'], kwargs=None)], '3618707404188946433': ['192', CallNode(function='Abstraction.create', type_params={'U': DeclaredTypeInstance(type='Abstraction', params={'U': DeclaredTypeInstance(type='Integer', params=None), 'T': DeclaredTypeInstance(type='Integer', params=None)}), 'T': DeclaredTypeInstance(type='Integer', params=None)}, args=['-3134450228486803831', '-6104370195395498100'], kwargs=None)], '5633467065756257016': ['193', CallNode(function='Abstraction.create', type_params={'U': DeclaredTypeInstance(type='Abstraction', params={'U': DeclaredTypeInstance(type='Abstraction', params={'U': DeclaredTypeInstance(type='Integer', params=None), 'T': DeclaredTypeInstance(type='Integer', params=None)}), 'T': DeclaredTypeInstance(type='Integer', params=None)}), 'T': DeclaredTypeInstance(type='Integer', params=None)}, args=['8730531355445951376', '3618707404188946433'], kwargs=None)], '362675181390258870': ['194', CallNode(function='Abstraction.create', type_params={'U': DeclaredTypeInstance(type='Abstraction', params={'U': DeclaredTypeInstance(type='Abstraction', params={'U': DeclaredTypeInstance(type='Abstraction', params={'U': DeclaredTypeInstance(type='Integer', params=None), 'T': DeclaredTypeInstance(type='Integer', params=None)}), 'T': DeclaredTypeInstance(type='Integer', params=None)}), 'T': DeclaredTypeInstance(type='Integer', params=None)}), 'T': DeclaredTypeInstance(type='Abstraction', params={'U': DeclaredTypeInstance(type='Abstraction', params={'U': DeclaredTypeInstance(type='Abstraction', params={'U': DeclaredTypeInstance(type='Integer', params=None), 'T': DeclaredTypeInstance(type='Integer', params=None)}), 'T': DeclaredTypeInstance(type='Integer', params=None)}), 'T': DeclaredTypeInstance(type='Integer', params=None)})}, args=['6746237808157956011', '5633467065756257016'], kwargs=None)], '-669076825847948676': ['165', CallNode(function='Abstraction.fix', type_params=None, args=['362675181390258870'], kwargs=None)], '487553360406220215': ['164', CallNode(function='FunctionThree.create', type_params={'X': DeclaredTypeInstance(type='Integer', params=None), 'V': DeclaredTypeInstance(type='Integer', params=None), 'U': DeclaredTypeInstance(type='Integer', params=None), 'T': DeclaredTypeInstance(type='Integer', params=None)}, args=['-204800842979452163', '-669076825847948676'], kwargs=None)], '-3004406239927766481': ['110', CallNode(function='FunctionThree.__call__', type_params={'X': DeclaredTypeInstance(type='Integer', params=None), 'V': DeclaredTypeInstance(type='Integer', params=None), 'U': DeclaredTypeInstance(type='Integer', params=None), 'T': DeclaredTypeInstance(type='Integer', params=None)}, args=['487553360406220215', '-5077963005297038142', '8266129563128831658', '-801800994066151079'], kwargs=None)], '-5213335186121545789': ['78', CallNode(function='Abstraction.create', type_params={'U': DeclaredTypeInstance(type='Integer', params=None), 'T': DeclaredTypeInstance(type='Integer', params=None)}, args=['-5077963005297038142', '-3004406239927766481'], kwargs=None)], '5911018480776101834': ['77', CallNode(function='FunctionOne.create', type_params={'U': DeclaredTypeInstance(type='Integer', params=None), 'T': DeclaredTypeInstance(type='Integer', params=None)}, args=['-2652070358770172702', '-5213335186121545789'], kwargs=None)], '-7311898625197263072': ['4', CallNode(function='FunctionOne.__call__', type_params={'U': DeclaredTypeInstance(type='Integer', params=None), 'T': DeclaredTypeInstance(type='Integer', params=None)}, args=['5911018480776101834', '277852127613867312'], kwargs=None)], '3414931883099538491': ['78', CallNode(function='FunctionOne.abstraction', type_params={'U': DeclaredTypeInstance(type='Integer', params=None), 'T': DeclaredTypeInstance(type='Integer', params=None)}, args=['5911018480776101834'], kwargs=None)], '-6951026891768518467': ['4', CallNode(function='Abstraction.__call__', type_params={'U': DeclaredTypeInstance(type='Integer', params=None), 'T': DeclaredTypeInstance(type='Integer', params=None)}, args=['3414931883099538491', '277852127613867312'], kwargs=None)], '531194929989061776': ['4', CallNode(function='Abstraction.__call__', type_params={'U': DeclaredTypeInstance(type='Integer', params=None), 'T': DeclaredTypeInstance(type='Integer', params=None)}, args=['-5213335186121545789', '277852127613867312'], kwargs=None)], '-5076727890713915745': ['4', CallNode(function='FunctionThree.__call__', type_params={'X': DeclaredTypeInstance(type='Integer', params=None), 'V': DeclaredTypeInstance(type='Integer', params=None), 'U': DeclaredTypeInstance(type='Integer', params=None), 'T': DeclaredTypeInstance(type='Integer', params=None)}, args=['487553360406220215', '277852127613867312', '8266129563128831658', '-801800994066151079'], kwargs=None)], '-7602581157011475502': ['165', CallNode(function='FunctionThree.abstraction', type_params={'X': DeclaredTypeInstance(type='Integer', params=None), 'V': DeclaredTypeInstance(type='Integer', params=None), 'U': DeclaredTypeInstance(type='Integer', params=None), 'T': DeclaredTypeInstance(type='Integer', params=None)}, args=['487553360406220215'], kwargs=None)], '7027828429102184038': ['168', CallNode(function='Abstraction.__call__', type_params={'U': DeclaredTypeInstance(type='Abstraction', params={'U': DeclaredTypeInstance(type='Abstraction', params={'U': DeclaredTypeInstance(type='Integer', params=None), 'T': DeclaredTypeInstance(type='Integer', params=None)}), 'T': DeclaredTypeInstance(type='Integer', params=None)}), 'T': DeclaredTypeInstance(type='Integer', params=None)}, args=['-7602581157011475502', '277852127613867312'], kwargs=None)], '7356006018547350021': ['171', CallNode(function='Abstraction.__call__', type_params={'U': DeclaredTypeInstance(type='Abstraction', params={'U': DeclaredTypeInstance(type='Integer', params=None), 'T': DeclaredTypeInstance(type='Integer', params=None)}), 'T': DeclaredTypeInstance(type='Integer', params=None)}, args=['7027828429102184038', '8266129563128831658'], kwargs=None)], '5172691056522701498': ['4', CallNode(function='Abstraction.__call__', type_params={'U': DeclaredTypeInstance(type='Integer', params=None), 'T': DeclaredTypeInstance(type='Integer', params=None)}, args=['7356006018547350021', '-801800994066151079'], kwargs=None)], '-37521069523464347': ['168', CallNode(function='Abstraction.__call__', type_params={'U': DeclaredTypeInstance(type='Abstraction', params={'U': DeclaredTypeInstance(type='Abstraction', params={'U': DeclaredTypeInstance(type='Integer', params=None), 'T': DeclaredTypeInstance(type='Integer', params=None)}), 'T': DeclaredTypeInstance(type='Integer', params=None)}), 'T': DeclaredTypeInstance(type='Integer', params=None)}, args=['-669076825847948676', '277852127613867312'], kwargs=None)], '-5858262729881089727': ['171', CallNode(function='Abstraction.__call__', type_params={'U': DeclaredTypeInstance(type='Abstraction', params={'U': DeclaredTypeInstance(type='Integer', params=None), 'T': DeclaredTypeInstance(type='Integer', params=None)}), 'T': DeclaredTypeInstance(type='Integer', params=None)}, args=['-37521069523464347', '8266129563128831658'], kwargs=None)], '-8550369580410916179': ['4', CallNode(function='Abstraction.__call__', type_params={'U': DeclaredTypeInstance(type='Integer', params=None), 'T': DeclaredTypeInstance(type='Integer', params=None)}, args=['-5858262729881089727', '-801800994066151079'], kwargs=None)], '-6729212975227054610': ['197', CallNode(function='FunctionThree.abstraction', type_params={'X': DeclaredTypeInstance(type='Integer', params=None), 'V': DeclaredTypeInstance(type='Integer', params=None), 'U': DeclaredTypeInstance(type='Integer', params=None), 'T': DeclaredTypeInstance(type='Integer', params=None)}, args=['8966914071754322816'], kwargs=None)], '5372447053102658136': ['199', CallNode(function='Abstraction.__call__', type_params={'U': DeclaredTypeInstance(type='Abstraction', params={'U': DeclaredTypeInstance(type='Abstraction', params={'U': DeclaredTypeInstance(type='Integer', params=None), 'T': DeclaredTypeInstance(type='Integer', params=None)}), 'T': DeclaredTypeInstance(type='Integer', params=None)}), 'T': DeclaredTypeInstance(type='Integer', params=None)}, args=['-6729212975227054610', '554550087706363287'], kwargs=None)], '-4927717138543054476': ['200', CallNode(function='Abstraction.__call__', type_params={'U': DeclaredTypeInstance(type='Abstraction', params={'U': DeclaredTypeInstance(type='Integer', params=None), 'T': DeclaredTypeInstance(type='Integer', params=None)}), 'T': DeclaredTypeInstance(type='Integer', params=None)}, args=['5372447053102658136', '-5426275952129512663'], kwargs=None)], '4831205065645050117': ['187', CallNode(function='Abstraction.__call__', type_params={'U': DeclaredTypeInstance(type='Integer', params=None), 'T': DeclaredTypeInstance(type='Integer', params=None)}, args=['-4927717138543054476', '-1676170044209412934'], kwargs=None)], '826815826337085659': ['190', CallNode(function='Boolean.if_', type_params=None, args=['8037729559985061240', '4831205065645050117', '3726156590391311996'], kwargs=None)], '-3169608309370793277': ['191', CallNode(function='Abstraction.create', type_params={'U': DeclaredTypeInstance(type='Integer', params=None), 'T': DeclaredTypeInstance(type='Integer', params=None)}, args=['-5426275952129512663', '826815826337085659'], kwargs=None)], '7451954959980487849': ['192', CallNode(function='Abstraction.create', type_params={'U': DeclaredTypeInstance(type='Abstraction', params={'U': DeclaredTypeInstance(type='Integer', params=None), 'T': DeclaredTypeInstance(type='Integer', params=None)}), 'T': DeclaredTypeInstance(type='Integer', params=None)}, args=['-3134450228486803831', '-3169608309370793277'], kwargs=None)], '1964912160752058246': ['193', CallNode(function='Abstraction.create', type_params={'U': DeclaredTypeInstance(type='Abstraction', params={'U': DeclaredTypeInstance(type='Abstraction', params={'U': DeclaredTypeInstance(type='Integer', params=None), 'T': DeclaredTypeInstance(type='Integer', params=None)}), 'T': DeclaredTypeInstance(type='Integer', params=None)}), 'T': DeclaredTypeInstance(type='Integer', params=None)}, args=['8730531355445951376', '7451954959980487849'], kwargs=None)], '-7227360225357293902': ['194', CallNode(function='Abstraction.create', type_params={'U': DeclaredTypeInstance(type='Abstraction', params={'U': DeclaredTypeInstance(type='Abstraction', params={'U': DeclaredTypeInstance(type='Abstraction', params={'U': DeclaredTypeInstance(type='Integer', params=None), 'T': DeclaredTypeInstance(type='Integer', params=None)}), 'T': DeclaredTypeInstance(type='Integer', params=None)}), 'T': DeclaredTypeInstance(type='Integer', params=None)}), 'T': DeclaredTypeInstance(type='Abstraction', params={'U': DeclaredTypeInstance(type='Abstraction', params={'U': DeclaredTypeInstance(type='Abstraction', params={'U': DeclaredTypeInstance(type='Integer', params=None), 'T': DeclaredTypeInstance(type='Integer', params=None)}), 'T': DeclaredTypeInstance(type='Integer', params=None)}), 'T': DeclaredTypeInstance(type='Integer', params=None)})}, args=['6746237808157956011', '1964912160752058246'], kwargs=None)], '7671135217433832921': ['165', CallNode(function='Abstraction.fix', type_params=None, args=['-7227360225357293902'], kwargs=None)], '-1717626559290561467': ['168', CallNode(function='Abstraction.__call__', type_params={'U': DeclaredTypeInstance(type='Abstraction', params={'U': DeclaredTypeInstance(type='Abstraction', params={'U': DeclaredTypeInstance(type='Integer', params=None), 'T': DeclaredTypeInstance(type='Integer', params=None)}), 'T': DeclaredTypeInstance(type='Integer', params=None)}), 'T': DeclaredTypeInstance(type='Integer', params=None)}, args=['7671135217433832921', '277852127613867312'], kwargs=None)], '6854077708690707873': ['171', CallNode(function='Abstraction.__call__', type_params={'U': DeclaredTypeInstance(type='Abstraction', params={'U': DeclaredTypeInstance(type='Integer', params=None), 'T': DeclaredTypeInstance(type='Integer', params=None)}), 'T': DeclaredTypeInstance(type='Integer', params=None)}, args=['-1717626559290561467', '8266129563128831658'], kwargs=None)], '-2957265406751586943': ['4', CallNode(function='Abstraction.__call__', type_params={'U': DeclaredTypeInstance(type='Integer', params=None), 'T': DeclaredTypeInstance(type='Integer', params=None)}, args=['6854077708690707873', '-801800994066151079'], kwargs=None)], '-7942042517478148471': ['2109', CallNode(function='Abstraction.__call__', type_params={'U': DeclaredTypeInstance(type='Abstraction', params={'U': DeclaredTypeInstance(type='Abstraction', params={'U': DeclaredTypeInstance(type='Integer', params=None), 'T': DeclaredTypeInstance(type='Integer', params=None)}), 'T': DeclaredTypeInstance(type='Integer', params=None)}), 'T': DeclaredTypeInstance(type='Integer', params=None)}, args=['6746237808157956011', '554550087706363287'], kwargs=None)], '4570513942002998000': ['2110', CallNode(function='Abstraction.__call__', type_params={'U': DeclaredTypeInstance(type='Abstraction', params={'U': DeclaredTypeInstance(type='Integer', params=None), 'T': DeclaredTypeInstance(type='Integer', params=None)}), 'T': DeclaredTypeInstance(type='Integer', params=None)}, args=['-7942042517478148471', '-5426275952129512663'], kwargs=None)], '-5455590144846900526': ['2112', CallNode(function='Abstraction.__call__', type_params={'U': DeclaredTypeInstance(type='Integer', params=None), 'T': DeclaredTypeInstance(type='Integer', params=None)}, args=['4570513942002998000', '-1676170044209412934'], kwargs=None)], '2747414248314594220': ['2115', CallNode(function='Boolean.if_', type_params=None, args=['8037729559985061240', '-5455590144846900526', '3726156590391311996'], kwargs=None)], '9118311336985535265': ['2116', CallNode(function='Abstraction.create', type_params={'U': DeclaredTypeInstance(type='Integer', params=None), 'T': DeclaredTypeInstance(type='Integer', params=None)}, args=['-5426275952129512663', '2747414248314594220'], kwargs=None)], '3144225003716649075': ['2117', CallNode(function='Abstraction.create', type_params={'U': DeclaredTypeInstance(type='Abstraction', params={'U': DeclaredTypeInstance(type='Integer', params=None), 'T': DeclaredTypeInstance(type='Integer', params=None)}), 'T': DeclaredTypeInstance(type='Integer', params=None)}, args=['-3134450228486803831', '9118311336985535265'], kwargs=None)], '4801749856714373102': ['2118', CallNode(function='Abstraction.create', type_params={'U': DeclaredTypeInstance(type='Abstraction', params={'U': DeclaredTypeInstance(type='Abstraction', params={'U': DeclaredTypeInstance(type='Integer', params=None), 'T': DeclaredTypeInstance(type='Integer', params=None)}), 'T': DeclaredTypeInstance(type='Integer', params=None)}), 'T': DeclaredTypeInstance(type='Integer', params=None)}, args=['8730531355445951376', '3144225003716649075'], kwargs=None)], '-364604664173318300': ['2119', CallNode(function='Abstraction.create', type_params={'U': DeclaredTypeInstance(type='Abstraction', params={'U': DeclaredTypeInstance(type='Abstraction', params={'U': DeclaredTypeInstance(type='Abstraction', params={'U': DeclaredTypeInstance(type='Integer', params=None), 'T': DeclaredTypeInstance(type='Integer', params=None)}), 'T': DeclaredTypeInstance(type='Integer', params=None)}), 'T': DeclaredTypeInstance(type='Integer', params=None)}), 'T': DeclaredTypeInstance(type='Abstraction', params={'U': DeclaredTypeInstance(type='Abstraction', params={'U': DeclaredTypeInstance(type='Abstraction', params={'U': DeclaredTypeInstance(type='Integer', params=None), 'T': DeclaredTypeInstance(type='Integer', params=None)}), 'T': DeclaredTypeInstance(type='Integer', params=None)}), 'T': DeclaredTypeInstance(type='Integer', params=None)})}, args=['6746237808157956011', '4801749856714373102'], kwargs=None)], '560823455631952198': ['2120', CallNode(function='Abstraction.fix', type_params=None, args=['-364604664173318300'], kwargs=None)], '5042773771782979967': ['168', CallNode(function='Abstraction.__call__', type_params={'U': DeclaredTypeInstance(type='Abstraction', params={'U': DeclaredTypeInstance(type='Abstraction', params={'U': DeclaredTypeInstance(type='Integer', params=None), 'T': DeclaredTypeInstance(type='Integer', params=None)}), 'T': DeclaredTypeInstance(type='Integer', params=None)}), 'T': DeclaredTypeInstance(type='Integer', params=None)}, args=['560823455631952198', '277852127613867312'], kwargs=None)], '-4433952745154634435': ['171', CallNode(function='Abstraction.__call__', type_params={'U': DeclaredTypeInstance(type='Abstraction', params={'U': DeclaredTypeInstance(type='Integer', params=None), 'T': DeclaredTypeInstance(type='Integer', params=None)}), 'T': DeclaredTypeInstance(type='Integer', params=None)}, args=['5042773771782979967', '8266129563128831658'], kwargs=None)], '-6625240827356721842': ['4', CallNode(function='Abstraction.__call__', type_params={'U': DeclaredTypeInstance(type='Integer', params=None), 'T': DeclaredTypeInstance(type='Integer', params=None)}, args=['-4433952745154634435', '-801800994066151079'], kwargs=None)], '2516676606967915759': ['1967', CallNode(function='Abstraction.__call__', type_params={'U': DeclaredTypeInstance(type='Abstraction', params={'U': DeclaredTypeInstance(type='Abstraction', params={'U': DeclaredTypeInstance(type='Abstraction', params={'U': DeclaredTypeInstance(type='Integer', params=None), 'T': DeclaredTypeInstance(type='Integer', params=None)}), 'T': DeclaredTypeInstance(type='Integer', params=None)}), 'T': DeclaredTypeInstance(type='Integer', params=None)}), 'T': DeclaredTypeInstance(type='Abstraction', params={'U': DeclaredTypeInstance(type='Abstraction', params={'U': DeclaredTypeInstance(type='Abstraction', params={'U': DeclaredTypeInstance(type='Integer', params=None), 'T': DeclaredTypeInstance(type='Integer', params=None)}), 'T': DeclaredTypeInstance(type='Integer', params=None)}), 'T': DeclaredTypeInstance(type='Integer', params=None)})}, args=['-364604664173318300', '560823455631952198'], kwargs=None)], '7143416816201954825': ['168', CallNode(function='Abstraction.__call__', type_params={'U': DeclaredTypeInstance(type='Abstraction', params={'U': DeclaredTypeInstance(type='Abstraction', params={'U': DeclaredTypeInstance(type='Integer', params=None), 'T': DeclaredTypeInstance(type='Integer', params=None)}), 'T': DeclaredTypeInstance(type='Integer', params=None)}), 'T': DeclaredTypeInstance(type='Integer', params=None)}, args=['2516676606967915759', '277852127613867312'], kwargs=None)], '-8887223489283445628': ['171', CallNode(function='Abstraction.__call__', type_params={'U': DeclaredTypeInstance(type='Abstraction', params={'U': DeclaredTypeInstance(type='Integer', params=None), 'T': DeclaredTypeInstance(type='Integer', params=None)}), 'T': DeclaredTypeInstance(type='Integer', params=None)}, args=['7143416816201954825', '8266129563128831658'], kwargs=None)], '-7497714223547366321': ['4', CallNode(function='Abstraction.__call__', type_params={'U': DeclaredTypeInstance(type='Integer', params=None), 'T': DeclaredTypeInstance(type='Integer', params=None)}, args=['-8887223489283445628', '-801800994066151079'], kwargs=None)], '2284946767093314478': ['2022', CallNode(function='Abstraction.__call__', type_params={'U': DeclaredTypeInstance(type='Abstraction', params={'U': DeclaredTypeInstance(type='Abstraction', params={'U': DeclaredTypeInstance(type='Integer', params=None), 'T': DeclaredTypeInstance(type='Integer', params=None)}), 'T': DeclaredTypeInstance(type='Integer', params=None)}), 'T': DeclaredTypeInstance(type='Integer', params=None)}, args=['560823455631952198', '554550087706363287'], kwargs=None)], '5851332542883551880': ['2023', CallNode(function='Abstraction.__call__', type_params={'U': DeclaredTypeInstance(type='Abstraction', params={'U': DeclaredTypeInstance(type='Integer', params=None), 'T': DeclaredTypeInstance(type='Integer', params=None)}), 'T': DeclaredTypeInstance(type='Integer', params=None)}, args=['2284946767093314478', '-5426275952129512663'], kwargs=None)], '-911409656388142259': ['2024', CallNode(function='Abstraction.__call__', type_params={'U': DeclaredTypeInstance(type='Integer', params=None), 'T': DeclaredTypeInstance(type='Integer', params=None)}, args=['5851332542883551880', '-1676170044209412934'], kwargs=None)], '-5353378053435854475': ['2025', CallNode(function='Boolean.if_', type_params=None, args=['8037729559985061240', '-911409656388142259', '3726156590391311996'], kwargs=None)], '4305999945746119675': ['2026', CallNode(function='Abstraction.create', type_params={'U': DeclaredTypeInstance(type='Integer', params=None), 'T': DeclaredTypeInstance(type='Integer', params=None)}, args=['-5426275952129512663', '-5353378053435854475'], kwargs=None)], '-7952549334000461029': ['2027', CallNode(function='Abstraction.create', type_params={'U': DeclaredTypeInstance(type='Abstraction', params={'U': DeclaredTypeInstance(type='Integer', params=None), 'T': DeclaredTypeInstance(type='Integer', params=None)}), 'T': DeclaredTypeInstance(type='Integer', params=None)}, args=['-3134450228486803831', '4305999945746119675'], kwargs=None)], '-2918624255584909654': ['1967', CallNode(function='Abstraction.create', type_params={'U': DeclaredTypeInstance(type='Abstraction', params={'U': DeclaredTypeInstance(type='Abstraction', params={'U': DeclaredTypeInstance(type='Integer', params=None), 'T': DeclaredTypeInstance(type='Integer', params=None)}), 'T': DeclaredTypeInstance(type='Integer', params=None)}), 'T': DeclaredTypeInstance(type='Integer', params=None)}, args=['8730531355445951376', '-7952549334000461029'], kwargs=None)], '-8823299029888871904': ['168', CallNode(function='Abstraction.__call__', type_params={'U': DeclaredTypeInstance(type='Abstraction', params={'U': DeclaredTypeInstance(type='Abstraction', params={'U': DeclaredTypeInstance(type='Integer', params=None), 'T': DeclaredTypeInstance(type='Integer', params=None)}), 'T': DeclaredTypeInstance(type='Integer', params=None)}), 'T': DeclaredTypeInstance(type='Integer', params=None)}, args=['-2918624255584909654', '277852127613867312'], kwargs=None)], '8032564313467597465': ['171', CallNode(function='Abstraction.__call__', type_params={'U': DeclaredTypeInstance(type='Abstraction', params={'U': DeclaredTypeInstance(type='Integer', params=None), 'T': DeclaredTypeInstance(type='Integer', params=None)}), 'T': DeclaredTypeInstance(type='Integer', params=None)}, args=['-8823299029888871904', '8266129563128831658'], kwargs=None)], '-1661739059553963986': ['4', CallNode(function='Abstraction.__call__', type_params={'U': DeclaredTypeInstance(type='Integer', params=None), 'T': DeclaredTypeInstance(type='Integer', params=None)}, args=['8032564313467597465', '-801800994066151079'], kwargs=None)], '-7255667736369028645': ['332', CallNode(function='Integer.__gt__', type_params=None, args=['277852127613867312', '-801800994066151079'], kwargs=None)], '-4896745298611792476': ['355', CallNode(function='Integer.__sub__', type_params=None, args=['277852127613867312', '-801800994066151079'], kwargs=None)], '8630811732540740441': ['356', CallNode(function='Abstraction.__call__', type_params={'U': DeclaredTypeInstance(type='Abstraction', params={'U': DeclaredTypeInstance(type='Abstraction', params={'U': DeclaredTypeInstance(type='Integer', params=None), 'T': DeclaredTypeInstance(type='Integer', params=None)}), 'T': DeclaredTypeInstance(type='Integer', params=None)}), 'T': DeclaredTypeInstance(type='Integer', params=None)}, args=['560823455631952198', '-4896745298611792476'], kwargs=None)], '3046289507001227782': ['320', CallNode(function='Abstraction.__call__', type_params={'U': DeclaredTypeInstance(type='Abstraction', params={'U': DeclaredTypeInstance(type='Integer', params=None), 'T': DeclaredTypeInstance(type='Integer', params=None)}), 'T': DeclaredTypeInstance(type='Integer', params=None)}, args=['8630811732540740441', '-5426275952129512663'], kwargs=None)], '-9141409911601643164': ['286', CallNode(function='Abstraction.__call__', type_params={'U': DeclaredTypeInstance(type='Integer', params=None), 'T': DeclaredTypeInstance(type='Integer', params=None)}, args=['3046289507001227782', '-1676170044209412934'], kwargs=None)], '-8734477808183374995': ['362', CallNode(function='Integer.eq', type_params=None, args=['277852127613867312', '-801800994066151079'], kwargs=None)], '-1700965460680315805': ['288', CallNode(function='Boolean.if_', type_params=None, args=['-8734477808183374995', '-5426275952129512663', '-3134450228486803831'], kwargs=None)], '5195122074378684910': ['289', CallNode(function='Boolean.if_', type_params=None, args=['-7255667736369028645', '-9141409911601643164', '-1700965460680315805'], kwargs=None)], '-785298209924410706': ['290', CallNode(function='Abstraction.create', type_params={'U': DeclaredTypeInstance(type='Integer', params=None), 'T': DeclaredTypeInstance(type='Integer', params=None)}, args=['-5426275952129512663', '5195122074378684910'], kwargs=None)], '5546100496952910853': ['168', CallNode(function='Abstraction.create', type_params={'U': DeclaredTypeInstance(type='Abstraction', params={'U': DeclaredTypeInstance(type='Integer', params=None), 'T': DeclaredTypeInstance(type='Integer', params=None)}), 'T': DeclaredTypeInstance(type='Integer', params=None)}, args=['-3134450228486803831', '-785298209924410706'], kwargs=None)], '-8471631948374936369': ['171', CallNode(function='Abstraction.__call__', type_params={'U': DeclaredTypeInstance(type='Abstraction', params={'U': DeclaredTypeInstance(type='Integer', params=None), 'T': DeclaredTypeInstance(type='Integer', params=None)}), 'T': DeclaredTypeInstance(type='Integer', params=None)}, args=['5546100496952910853', '8266129563128831658'], kwargs=None)], '-1004246607549958434': ['4', CallNode(function='Abstraction.__call__', type_params={'U': DeclaredTypeInstance(type='Integer', params=None), 'T': DeclaredTypeInstance(type='Integer', params=None)}, args=['-8471631948374936369', '-801800994066151079'], kwargs=None)], '-4258957792566301137': ['323', CallNode(function='Integer.__add__', type_params=None, args=['8266129563128831658', '-5426275952129512663'], kwargs=None)], '-4010810132101647448': ['324', CallNode(function='Abstraction.__call__', type_params={'U': DeclaredTypeInstance(type='Integer', params=None), 'T': DeclaredTypeInstance(type='Integer', params=None)}, args=['3046289507001227782', '-4258957792566301137'], kwargs=None)], '5043018775388498820': ['326', CallNode(function='Boolean.if_', type_params=None, args=['-8734477808183374995', '-5426275952129512663', '8266129563128831658'], kwargs=None)], '-1991834953469544757': ['327', CallNode(function='Boolean.if_', type_params=None, args=['-7255667736369028645', '-4010810132101647448', '5043018775388498820'], kwargs=None)], '-6490097695398483981': ['171', CallNode(function='Abstraction.create', type_params={'U': DeclaredTypeInstance(type='Integer', params=None), 'T': DeclaredTypeInstance(type='Integer', params=None)}, args=['-5426275952129512663', '-1991834953469544757'], kwargs=None)], '-280097177963715201': ['4', CallNode(function='Abstraction.__call__', type_params={'U': DeclaredTypeInstance(type='Integer', params=None), 'T': DeclaredTypeInstance(type='Integer', params=None)}, args=['-6490097695398483981', '-801800994066151079'], kwargs=None)], '6165210877069494456': ['357', CallNode(function='Abstraction.__call__', type_params={'U': DeclaredTypeInstance(type='Abstraction', params={'U': DeclaredTypeInstance(type='Integer', params=None), 'T': DeclaredTypeInstance(type='Integer', params=None)}), 'T': DeclaredTypeInstance(type='Integer', params=None)}, args=['8630811732540740441', '-801800994066151079'], kwargs=None)], '-737887707943826603': ['360', CallNode(function='Integer.__add__', type_params=None, args=['8266129563128831658', '-801800994066151079'], kwargs=None)], '473152837096305448': ['361', CallNode(function='Abstraction.__call__', type_params={'U': DeclaredTypeInstance(type='Integer', params=None), 'T': DeclaredTypeInstance(type='Integer', params=None)}, args=['6165210877069494456', '-737887707943826603'], kwargs=None)], '6945850738939660942': ['363', CallNode(function='Boolean.if_', type_params=None, args=['-8734477808183374995', '-801800994066151079', '8266129563128831658'], kwargs=None)], '296071040362513613': ['4', CallNode(function='Boolean.if_', type_params=None, args=['-7255667736369028645', '473152837096305448', '6945850738939660942'], kwargs=None)], '-5085088520956661341': ['2135', PrimitiveNode(type='bool', repr='False')], '6321508888815918528': ['2098', CallNode(function='Boolean.create', type_params=None, args=['-5085088520956661341'], kwargs=None)], '-5559326583280112346': ['363', CallNode(function='Boolean.if_', type_params=None, args=['6321508888815918528', '-801800994066151079', '8266129563128831658'], kwargs=None)], '754211985795393358': ['4', CallNode(function='Boolean.if_', type_params=None, args=['-7255667736369028645', '473152837096305448', '-5559326583280112346'], kwargs=None)], '4333076488454737185': ['4', CallNode(function='Boolean.if_', type_params=None, args=['-7255667736369028645', '473152837096305448', '8266129563128831658'], kwargs=None)], '7974226062225629500': ['361', CallNode(function='Abstraction.__call__', type_params={'U': DeclaredTypeInstance(type='Integer', params=None), 'T': DeclaredTypeInstance(type='Integer', params=None)}, args=['6165210877069494456', '-801800994066151079'], kwargs=None)], '6087141743463641918': ['4', CallNode(function='Boolean.if_', type_params=None, args=['-7255667736369028645', '7974226062225629500', '8266129563128831658'], kwargs=None)], '-5077450201649349816': ['519', PrimitiveNode(type='int', repr='9')], '6381668467247275985': ['520', CallNode(function='Integer.from_int', type_params=None, args=['-5077450201649349816'], kwargs=None)], '396995674400924482': ['393', CallNode(function='Abstraction.__call__', type_params={'U': DeclaredTypeInstance(type='Abstraction', params={'U': DeclaredTypeInstance(type='Abstraction', params={'U': DeclaredTypeInstance(type='Integer', params=None), 'T': DeclaredTypeInstance(type='Integer', params=None)}), 'T': DeclaredTypeInstance(type='Integer', params=None)}), 'T': DeclaredTypeInstance(type='Integer', params=None)}, args=['560823455631952198', '6381668467247275985'], kwargs=None)], '-3309380254304374222': ['394', CallNode(function='Abstraction.__call__', type_params={'U': DeclaredTypeInstance(type='Abstraction', params={'U': DeclaredTypeInstance(type='Integer', params=None), 'T': DeclaredTypeInstance(type='Integer', params=None)}), 'T': DeclaredTypeInstance(type='Integer', params=None)}, args=['396995674400924482', '-801800994066151079'], kwargs=None)], '-7764589128205958593': ['4', CallNode(function='Abstraction.__call__', type_params={'U': DeclaredTypeInstance(type='Integer', params=None), 'T': DeclaredTypeInstance(type='Integer', params=None)}, args=['-3309380254304374222', '-801800994066151079'], kwargs=None)], '-8610589663044156307': ['4', CallNode(function='Boolean.if_', type_params=None, args=['-7255667736369028645', '-7764589128205958593', '8266129563128831658'], kwargs=None)], '-5085088520955578816': ['2132', PrimitiveNode(type='bool', repr='True')], '1321722653791223987': ['2130', CallNode(function='Boolean.create', type_params=None, args=['-5085088520955578816'], kwargs=None)], '-3955051663883613512': ['4', CallNode(function='Boolean.if_', type_params=None, args=['1321722653791223987', '-7764589128205958593', '8266129563128831658'], kwargs=None)], '6120816512117126328': ['393', CallNode(function='Abstraction.__call__', type_params={'U': DeclaredTypeInstance(type='Abstraction', params={'U': DeclaredTypeInstance(type='Abstraction', params={'U': DeclaredTypeInstance(type='Integer', params=None), 'T': DeclaredTypeInstance(type='Integer', params=None)}), 'T': DeclaredTypeInstance(type='Integer', params=None)}), 'T': DeclaredTypeInstance(type='Integer', params=None)}, args=['2516676606967915759', '6381668467247275985'], kwargs=None)], '-4417421786496220950': ['394', CallNode(function='Abstraction.__call__', type_params={'U': DeclaredTypeInstance(type='Abstraction', params={'U': DeclaredTypeInstance(type='Integer', params=None), 'T': DeclaredTypeInstance(type='Integer', params=None)}), 'T': DeclaredTypeInstance(type='Integer', params=None)}, args=['6120816512117126328', '-801800994066151079'], kwargs=None)], '-1175421402609434425': ['4', CallNode(function='Abstraction.__call__', type_params={'U': DeclaredTypeInstance(type='Integer', params=None), 'T': DeclaredTypeInstance(type='Integer', params=None)}, args=['-4417421786496220950', '-801800994066151079'], kwargs=None)], '-5352859569795163535': ['393', CallNode(function='Abstraction.__call__', type_params={'U': DeclaredTypeInstance(type='Abstraction', params={'U': DeclaredTypeInstance(type='Abstraction', params={'U': DeclaredTypeInstance(type='Integer', params=None), 'T': DeclaredTypeInstance(type='Integer', params=None)}), 'T': DeclaredTypeInstance(type='Integer', params=None)}), 'T': DeclaredTypeInstance(type='Integer', params=None)}, args=['-2918624255584909654', '6381668467247275985'], kwargs=None)], '6726448046133397323': ['394', CallNode(function='Abstraction.__call__', type_params={'U': DeclaredTypeInstance(type='Abstraction', params={'U': DeclaredTypeInstance(type='Integer', params=None), 'T': DeclaredTypeInstance(type='Integer', params=None)}), 'T': DeclaredTypeInstance(type='Integer', params=None)}, args=['-5352859569795163535', '-801800994066151079'], kwargs=None)], '-8026712068129754069': ['4', CallNode(function='Abstraction.__call__', type_params={'U': DeclaredTypeInstance(type='Integer', params=None), 'T': DeclaredTypeInstance(type='Integer', params=None)}, args=['6726448046133397323', '-801800994066151079'], kwargs=None)], '5894627216596842936': ['523', CallNode(function='Integer.__gt__', type_params=None, args=['6381668467247275985', '-801800994066151079'], kwargs=None)], '-8041154950791689897': ['546', CallNode(function='Integer.__sub__', type_params=None, args=['6381668467247275985', '-801800994066151079'], kwargs=None)], '7749659093632753979': ['547', CallNode(function='Abstraction.__call__', type_params={'U': DeclaredTypeInstance(type='Abstraction', params={'U': DeclaredTypeInstance(type='Abstraction', params={'U': DeclaredTypeInstance(type='Integer', params=None), 'T': DeclaredTypeInstance(type='Integer', params=None)}), 'T': DeclaredTypeInstance(type='Integer', params=None)}), 'T': DeclaredTypeInstance(type='Integer', params=None)}, args=['560823455631952198', '-8041154950791689897'], kwargs=None)], '-839342104616946696': ['513', CallNode(function='Abstraction.__call__', type_params={'U': DeclaredTypeInstance(type='Abstraction', params={'U': DeclaredTypeInstance(type='Integer', params=None), 'T': DeclaredTypeInstance(type='Integer', params=None)}), 'T': DeclaredTypeInstance(type='Integer', params=None)}, args=['7749659093632753979', '-5426275952129512663'], kwargs=None)], '3491946621204182455': ['479', CallNode(function='Abstraction.__call__', type_params={'U': DeclaredTypeInstance(type='Integer', params=None), 'T': DeclaredTypeInstance(type='Integer', params=None)}, args=['-839342104616946696', '-1676170044209412934'], kwargs=None)], '-5791975375398302738': ['551', CallNode(function='Integer.eq', type_params=None, args=['6381668467247275985', '-801800994066151079'], kwargs=None)], '-4970459066168554903': ['481', CallNode(function='Boolean.if_', type_params=None, args=['-5791975375398302738', '-5426275952129512663', '-3134450228486803831'], kwargs=None)], '-2515047028652489839': ['482', CallNode(function='Boolean.if_', type_params=None, args=['5894627216596842936', '3491946621204182455', '-4970459066168554903'], kwargs=None)], '197960470690884110': ['483', CallNode(function='Abstraction.create', type_params={'U': DeclaredTypeInstance(type='Integer', params=None), 'T': DeclaredTypeInstance(type='Integer', params=None)}, args=['-5426275952129512663', '-2515047028652489839'], kwargs=None)], '-2759908380578182555': ['393', CallNode(function='Abstraction.create', type_params={'U': DeclaredTypeInstance(type='Abstraction', params={'U': DeclaredTypeInstance(type='Integer', params=None), 'T': DeclaredTypeInstance(type='Integer', params=None)}), 'T': DeclaredTypeInstance(type='Integer', params=None)}, args=['-3134450228486803831', '197960470690884110'], kwargs=None)], '6511728760123316480': ['394', CallNode(function='Abstraction.__call__', type_params={'U': DeclaredTypeInstance(type='Abstraction', params={'U': DeclaredTypeInstance(type='Integer', params=None), 'T': DeclaredTypeInstance(type='Integer', params=None)}), 'T': DeclaredTypeInstance(type='Integer', params=None)}, args=['-2759908380578182555', '-801800994066151079'], kwargs=None)], '-1431991138246138060': ['4', CallNode(function='Abstraction.__call__', type_params={'U': DeclaredTypeInstance(type='Integer', params=None), 'T': DeclaredTypeInstance(type='Integer', params=None)}, args=['6511728760123316480', '-801800994066151079'], kwargs=None)], '-2237940890459116165': ['706', CallNode(function='Integer.__add__', type_params=None, args=['-801800994066151079', '-5426275952129512663'], kwargs=None)], '7719550642365577392': ['515', CallNode(function='Abstraction.__call__', type_params={'U': DeclaredTypeInstance(type='Integer', params=None), 'T': DeclaredTypeInstance(type='Integer', params=None)}, args=['-839342104616946696', '-2237940890459116165'], kwargs=None)], '-8951495040684702642': ['517', CallNode(function='Boolean.if_', type_params=None, args=['-5791975375398302738', '-5426275952129512663', '-801800994066151079'], kwargs=None)], '-8537718888038066614': ['518', CallNode(function='Boolean.if_', type_params=None, args=['5894627216596842936', '7719550642365577392', '-8951495040684702642'], kwargs=None)], '8922057259011276207': ['394', CallNode(function='Abstraction.create', type_params={'U': DeclaredTypeInstance(type='Integer', params=None), 'T': DeclaredTypeInstance(type='Integer', params=None)}, args=['-5426275952129512663', '-8537718888038066614'], kwargs=None)], '-6910040230053943196': ['4', CallNode(function='Abstraction.__call__', type_params={'U': DeclaredTypeInstance(type='Integer', params=None), 'T': DeclaredTypeInstance(type='Integer', params=None)}, args=['8922057259011276207', '-801800994066151079'], kwargs=None)], '-5524342628174025274': ['548', CallNode(function='Abstraction.__call__', type_params={'U': DeclaredTypeInstance(type='Abstraction', params={'U': DeclaredTypeInstance(type='Integer', params=None), 'T': DeclaredTypeInstance(type='Integer', params=None)}), 'T': DeclaredTypeInstance(type='Integer', params=None)}, args=['7749659093632753979', '-801800994066151079'], kwargs=None)], '-3055842602576018055': ['549', CallNode(function='Integer.__add__', type_params=None, args=['-801800994066151079', '-801800994066151079'], kwargs=None)], '8962767874092586541': ['550', CallNode(function='Abstraction.__call__', type_params={'U': DeclaredTypeInstance(type='Integer', params=None), 'T': DeclaredTypeInstance(type='Integer', params=None)}, args=['-5524342628174025274', '-3055842602576018055'], kwargs=None)], '5883419327463605956': ['552', CallNode(function='Boolean.if_', type_params=None, args=['-5791975375398302738', '-801800994066151079', '-801800994066151079'], kwargs=None)], '-1712256061507382434': ['4', CallNode(function='Boolean.if_', type_params=None, args=['5894627216596842936', '8962767874092586541', '5883419327463605956'], kwargs=None)], '5735465842034577146': ['552', CallNode(function='Boolean.if_', type_params=None, args=['6321508888815918528', '-801800994066151079', '-801800994066151079'], kwargs=None)], '-7733025434501272912': ['4', CallNode(function='Boolean.if_', type_params=None, args=['5894627216596842936', '8962767874092586541', '5735465842034577146'], kwargs=None)], '5607189250046715943': ['4', CallNode(function='Boolean.if_', type_params=None, args=['5894627216596842936', '8962767874092586541', '-801800994066151079'], kwargs=None)], '-5077450201639607091': ['1903', PrimitiveNode(type='int', repr='2')], '-8411147389139933288': ['1904', CallNode(function='Integer.from_int', type_params=None, args=['-5077450201639607091'], kwargs=None)], '6382901597002153746': ['550', CallNode(function='Abstraction.__call__', type_params={'U': DeclaredTypeInstance(type='Integer', params=None), 'T': DeclaredTypeInstance(type='Integer', params=None)}, args=['-5524342628174025274', '-8411147389139933288'], kwargs=None)], '5868669386243221683': ['4', CallNode(function='Boolean.if_', type_params=None, args=['5894627216596842936', '6382901597002153746', '-801800994066151079'], kwargs=None)], '-5077450201650432341': ['1535', PrimitiveNode(type='int', repr='8')], '8287283151426784322': ['1536', CallNode(function='Integer.from_int', type_params=None, args=['-5077450201650432341'], kwargs=None)], '1890247093257195124': ['583', CallNode(function='Abstraction.__call__', type_params={'U': DeclaredTypeInstance(type='Abstraction', params={'U': DeclaredTypeInstance(type='Abstraction', params={'U': DeclaredTypeInstance(type='Integer', params=None), 'T': DeclaredTypeInstance(type='Integer', params=None)}), 'T': DeclaredTypeInstance(type='Integer', params=None)}), 'T': DeclaredTypeInstance(type='Integer', params=None)}, args=['560823455631952198', '8287283151426784322'], kwargs=None)], '2352379960235132752': ['584', CallNode(function='Abstraction.__call__', type_params={'U': DeclaredTypeInstance(type='Abstraction', params={'U': DeclaredTypeInstance(type='Integer', params=None), 'T': DeclaredTypeInstance(type='Integer', params=None)}), 'T': DeclaredTypeInstance(type='Integer', params=None)}, args=['1890247093257195124', '-801800994066151079'], kwargs=None)], '6438537617793295059': ['4', CallNode(function='Abstraction.__call__', type_params={'U': DeclaredTypeInstance(type='Integer', params=None), 'T': DeclaredTypeInstance(type='Integer', params=None)}, args=['2352379960235132752', '-8411147389139933288'], kwargs=None)], '-2661140851021651882': ['4', CallNode(function='Boolean.if_', type_params=None, args=['5894627216596842936', '6438537617793295059', '-801800994066151079'], kwargs=None)], '-2771380547575644959': ['4', CallNode(function='Boolean.if_', type_params=None, args=['1321722653791223987', '6438537617793295059', '-801800994066151079'], kwargs=None)], '-3402027491637223490': ['583', CallNode(function='Abstraction.__call__', type_params={'U': DeclaredTypeInstance(type='Abstraction', params={'U': DeclaredTypeInstance(type='Abstraction', params={'U': DeclaredTypeInstance(type='Integer', params=None), 'T': DeclaredTypeInstance(type='Integer', params=None)}), 'T': DeclaredTypeInstance(type='Integer', params=None)}), 'T': DeclaredTypeInstance(type='Integer', params=None)}, args=['2516676606967915759', '8287283151426784322'], kwargs=None)], '7336406456226539437': ['584', CallNode(function='Abstraction.__call__', type_params={'U': DeclaredTypeInstance(type='Abstraction', params={'U': DeclaredTypeInstance(type='Integer', params=None), 'T': DeclaredTypeInstance(type='Integer', params=None)}), 'T': DeclaredTypeInstance(type='Integer', params=None)}, args=['-3402027491637223490', '-801800994066151079'], kwargs=None)], '-913218668510489114': ['4', CallNode(function='Abstraction.__call__', type_params={'U': DeclaredTypeInstance(type='Integer', params=None), 'T': DeclaredTypeInstance(type='Integer', params=None)}, args=['7336406456226539437', '-8411147389139933288'], kwargs=None)], '-5574747943503878893': ['583', CallNode(function='Abstraction.__call__', type_params={'U': DeclaredTypeInstance(type='Abstraction', params={'U': DeclaredTypeInstance(type='Abstraction', params={'U': DeclaredTypeInstance(type='Integer', params=None), 'T': DeclaredTypeInstance(type='Integer', params=None)}), 'T': DeclaredTypeInstance(type='Integer', params=None)}), 'T': DeclaredTypeInstance(type='Integer', params=None)}, args=['-2918624255584909654', '8287283151426784322'], kwargs=None)], '-8492487444195802439': ['584', CallNode(function='Abstraction.__call__', type_params={'U': DeclaredTypeInstance(type='Abstraction', params={'U': DeclaredTypeInstance(type='Integer', params=None), 'T': DeclaredTypeInstance(type='Integer', params=None)}), 'T': DeclaredTypeInstance(type='Integer', params=None)}, args=['-5574747943503878893', '-801800994066151079'], kwargs=None)], '4788533924726486684': ['4', CallNode(function='Abstraction.__call__', type_params={'U': DeclaredTypeInstance(type='Integer', params=None), 'T': DeclaredTypeInstance(type='Integer', params=None)}, args=['-8492487444195802439', '-8411147389139933288'], kwargs=None)], '-2857582461600446614': ['715', CallNode(function='Integer.__gt__', type_params=None, args=['8287283151426784322', '-801800994066151079'], kwargs=None)], '-4255043588211469147': ['738', CallNode(function='Integer.__sub__', type_params=None, args=['8287283151426784322', '-801800994066151079'], kwargs=None)], '7109977341475914059': ['739', CallNode(function='Abstraction.__call__', type_params={'U': DeclaredTypeInstance(type='Abstraction', params={'U': DeclaredTypeInstance(type='Abstraction', params={'U': DeclaredTypeInstance(type='Integer', params=None), 'T': DeclaredTypeInstance(type='Integer', params=None)}), 'T': DeclaredTypeInstance(type='Integer', params=None)}), 'T': DeclaredTypeInstance(type='Integer', params=None)}, args=['560823455631952198', '-4255043588211469147'], kwargs=None)], '-2047419793903064792': ['705', CallNode(function='Abstraction.__call__', type_params={'U': DeclaredTypeInstance(type='Abstraction', params={'U': DeclaredTypeInstance(type='Integer', params=None), 'T': DeclaredTypeInstance(type='Integer', params=None)}), 'T': DeclaredTypeInstance(type='Integer', params=None)}, args=['7109977341475914059', '-5426275952129512663'], kwargs=None)], '1194402006777210343': ['671', CallNode(function='Abstraction.__call__', type_params={'U': DeclaredTypeInstance(type='Integer', params=None), 'T': DeclaredTypeInstance(type='Integer', params=None)}, args=['-2047419793903064792', '-1676170044209412934'], kwargs=None)], '-3159018187749032900': ['745', CallNode(function='Integer.eq', type_params=None, args=['8287283151426784322', '-801800994066151079'], kwargs=None)], '252602891768763404': ['673', CallNode(function='Boolean.if_', type_params=None, args=['-3159018187749032900', '-5426275952129512663', '-3134450228486803831'], kwargs=None)], '6588440485695573066': ['674', CallNode(function='Boolean.if_', type_params=None, args=['-2857582461600446614', '1194402006777210343', '252602891768763404'], kwargs=None)], '-6813026106247465222': ['675', CallNode(function='Abstraction.create', type_params={'U': DeclaredTypeInstance(type='Integer', params=None), 'T': DeclaredTypeInstance(type='Integer', params=None)}, args=['-5426275952129512663', '6588440485695573066'], kwargs=None)], '6548056718952547319': ['583', CallNode(function='Abstraction.create', type_params={'U': DeclaredTypeInstance(type='Abstraction', params={'U': DeclaredTypeInstance(type='Integer', params=None), 'T': DeclaredTypeInstance(type='Integer', params=None)}), 'T': DeclaredTypeInstance(type='Integer', params=None)}, args=['-3134450228486803831', '-6813026106247465222'], kwargs=None)], '3500870992217083617': ['584', CallNode(function='Abstraction.__call__', type_params={'U': DeclaredTypeInstance(type='Abstraction', params={'U': DeclaredTypeInstance(type='Integer', params=None), 'T': DeclaredTypeInstance(type='Integer', params=None)}), 'T': DeclaredTypeInstance(type='Integer', params=None)}, args=['6548056718952547319', '-801800994066151079'], kwargs=None)], '6578170591242507024': ['4', CallNode(function='Abstraction.__call__', type_params={'U': DeclaredTypeInstance(type='Integer', params=None), 'T': DeclaredTypeInstance(type='Integer', params=None)}, args=['3500870992217083617', '-8411147389139933288'], kwargs=None)], '-278212231823356320': ['707', CallNode(function='Abstraction.__call__', type_params={'U': DeclaredTypeInstance(type='Integer', params=None), 'T': DeclaredTypeInstance(type='Integer', params=None)}, args=['-2047419793903064792', '-2237940890459116165'], kwargs=None)], '4158436589957622767': ['709', CallNode(function='Boolean.if_', type_params=None, args=['-3159018187749032900', '-5426275952129512663', '-801800994066151079'], kwargs=None)], '8122883201962725113': ['710', CallNode(function='Boolean.if_', type_params=None, args=['-2857582461600446614', '-278212231823356320', '4158436589957622767'], kwargs=None)], '-6987099944645837398': ['584', CallNode(function='Abstraction.create', type_params={'U': DeclaredTypeInstance(type='Integer', params=None), 'T': DeclaredTypeInstance(type='Integer', params=None)}, args=['-5426275952129512663', '8122883201962725113'], kwargs=None)], '-5688227018221168063': ['4', CallNode(function='Abstraction.__call__', type_params={'U': DeclaredTypeInstance(type='Integer', params=None), 'T': DeclaredTypeInstance(type='Integer', params=None)}, args=['-6987099944645837398', '-8411147389139933288'], kwargs=None)], '-3896374289193541774': ['742', CallNode(function='Abstraction.__call__', type_params={'U': DeclaredTypeInstance(type='Abstraction', params={'U': DeclaredTypeInstance(type='Integer', params=None), 'T': DeclaredTypeInstance(type='Integer', params=None)}), 'T': DeclaredTypeInstance(type='Integer', params=None)}, args=['7109977341475914059', '-8411147389139933288'], kwargs=None)], '1313231504855667941': ['743', CallNode(function='Integer.__add__', type_params=None, args=['-801800994066151079', '-8411147389139933288'], kwargs=None)], '4221724288908798403': ['744', CallNode(function='Abstraction.__call__', type_params={'U': DeclaredTypeInstance(type='Integer', params=None), 'T': DeclaredTypeInstance(type='Integer', params=None)}, args=['-3896374289193541774', '1313231504855667941'], kwargs=None)], '-4733466627403292167': ['746', CallNode(function='Boolean.if_', type_params=None, args=['-3159018187749032900', '-8411147389139933288', '-801800994066151079'], kwargs=None)], '2999920312870747912': ['4', CallNode(function='Boolean.if_', type_params=None, args=['-2857582461600446614', '4221724288908798403', '-4733466627403292167'], kwargs=None)], '-1531074772063702674': ['746', CallNode(function='Boolean.if_', type_params=None, args=['6321508888815918528', '-8411147389139933288', '-801800994066151079'], kwargs=None)], '2307392500392344611': ['4', CallNode(function='Boolean.if_', type_params=None, args=['-2857582461600446614', '4221724288908798403', '-1531074772063702674'], kwargs=None)], '8969035901335732282': ['4', CallNode(function='Boolean.if_', type_params=None, args=['-2857582461600446614', '4221724288908798403', '-801800994066151079'], kwargs=None)], '-5077450201638524566': ['1703', PrimitiveNode(type='int', repr='3')], '-1110296496125714697': ['1704', CallNode(function='Integer.from_int', type_params=None, args=['-5077450201638524566'], kwargs=None)], '4725003586591918349': ['744', CallNode(function='Abstraction.__call__', type_params={'U': DeclaredTypeInstance(type='Integer', params=None), 'T': DeclaredTypeInstance(type='Integer', params=None)}, args=['-3896374289193541774', '-1110296496125714697'], kwargs=None)], '4677544324427469785': ['4', CallNode(function='Boolean.if_', type_params=None, args=['-2857582461600446614', '4725003586591918349', '-801800994066151079'], kwargs=None)], '-5077450201634194466': ['909', PrimitiveNode(type='int', repr='7')], '-2242209172835132093': ['910', CallNode(function='Integer.from_int', type_params=None, args=['-5077450201634194466'], kwargs=None)], '-4803308165294785806': ['777', CallNode(function='Abstraction.__call__', type_params={'U': DeclaredTypeInstance(type='Abstraction', params={'U': DeclaredTypeInstance(type='Abstraction', params={'U': DeclaredTypeInstance(type='Integer', params=None), 'T': DeclaredTypeInstance(type='Integer', params=None)}), 'T': DeclaredTypeInstance(type='Integer', params=None)}), 'T': DeclaredTypeInstance(type='Integer', params=None)}, args=['560823455631952198', '-2242209172835132093'], kwargs=None)], '-615176712725468416': ['780', CallNode(function='Abstraction.__call__', type_params={'U': DeclaredTypeInstance(type='Abstraction', params={'U': DeclaredTypeInstance(type='Integer', params=None), 'T': DeclaredTypeInstance(type='Integer', params=None)}), 'T': DeclaredTypeInstance(type='Integer', params=None)}, args=['-4803308165294785806', '-8411147389139933288'], kwargs=None)], '8336371369559552572': ['4', CallNode(function='Abstraction.__call__', type_params={'U': DeclaredTypeInstance(type='Integer', params=None), 'T': DeclaredTypeInstance(type='Integer', params=None)}, args=['-615176712725468416', '-1110296496125714697'], kwargs=None)], '6492341932813173705': ['4', CallNode(function='Boolean.if_', type_params=None, args=['-2857582461600446614', '8336371369559552572', '-801800994066151079'], kwargs=None)], '-6433039568627941057': ['4', CallNode(function='Boolean.if_', type_params=None, args=['1321722653791223987', '8336371369559552572', '-801800994066151079'], kwargs=None)], '2759067563610691048': ['777', CallNode(function='Abstraction.__call__', type_params={'U': DeclaredTypeInstance(type='Abstraction', params={'U': DeclaredTypeInstance(type='Abstraction', params={'U': DeclaredTypeInstance(type='Integer', params=None), 'T': DeclaredTypeInstance(type='Integer', params=None)}), 'T': DeclaredTypeInstance(type='Integer', params=None)}), 'T': DeclaredTypeInstance(type='Integer', params=None)}, args=['2516676606967915759', '-2242209172835132093'], kwargs=None)], '6609636163678444253': ['780', CallNode(function='Abstraction.__call__', type_params={'U': DeclaredTypeInstance(type='Abstraction', params={'U': DeclaredTypeInstance(type='Integer', params=None), 'T': DeclaredTypeInstance(type='Integer', params=None)}), 'T': DeclaredTypeInstance(type='Integer', params=None)}, args=['2759067563610691048', '-8411147389139933288'], kwargs=None)], '5409588244739586879': ['4', CallNode(function='Abstraction.__call__', type_params={'U': DeclaredTypeInstance(type='Integer', params=None), 'T': DeclaredTypeInstance(type='Integer', params=None)}, args=['6609636163678444253', '-1110296496125714697'], kwargs=None)], '8926369842432354593': ['777', CallNode(function='Abstraction.__call__', type_params={'U': DeclaredTypeInstance(type='Abstraction', params={'U': DeclaredTypeInstance(type='Abstraction', params={'U': DeclaredTypeInstance(type='Integer', params=None), 'T': DeclaredTypeInstance(type='Integer', params=None)}), 'T': DeclaredTypeInstance(type='Integer', params=None)}), 'T': DeclaredTypeInstance(type='Integer', params=None)}, args=['-2918624255584909654', '-2242209172835132093'], kwargs=None)], '-6068000356580008140': ['780', CallNode(function='Abstraction.__call__', type_params={'U': DeclaredTypeInstance(type='Abstraction', params={'U': DeclaredTypeInstance(type='Integer', params=None), 'T': DeclaredTypeInstance(type='Integer', params=None)}), 'T': DeclaredTypeInstance(type='Integer', params=None)}, args=['8926369842432354593', '-8411147389139933288'], kwargs=None)], '1311914884426379226': ['4', CallNode(function='Abstraction.__call__', type_params={'U': DeclaredTypeInstance(type='Integer', params=None), 'T': DeclaredTypeInstance(type='Integer', params=None)}, args=['-6068000356580008140', '-1110296496125714697'], kwargs=None)], '-8533041076784310296': ['913', CallNode(function='Integer.__gt__', type_params=None, args=['-2242209172835132093', '-801800994066151079'], kwargs=None)], '-3789206367084571609': ['936', CallNode(function='Integer.__sub__', type_params=None, args=['-2242209172835132093', '-801800994066151079'], kwargs=None)], '4508290680206952837': ['937', CallNode(function='Abstraction.__call__', type_params={'U': DeclaredTypeInstance(type='Abstraction', params={'U': DeclaredTypeInstance(type='Abstraction', params={'U': DeclaredTypeInstance(type='Integer', params=None), 'T': DeclaredTypeInstance(type='Integer', params=None)}), 'T': DeclaredTypeInstance(type='Integer', params=None)}), 'T': DeclaredTypeInstance(type='Integer', params=None)}, args=['560823455631952198', '-3789206367084571609'], kwargs=None)], '-7107333823421558800': ['901', CallNode(function='Abstraction.__call__', type_params={'U': DeclaredTypeInstance(type='Abstraction', params={'U': DeclaredTypeInstance(type='Integer', params=None), 'T': DeclaredTypeInstance(type='Integer', params=None)}), 'T': DeclaredTypeInstance(type='Integer', params=None)}, args=['4508290680206952837', '-5426275952129512663'], kwargs=None)], '3921659648319680478': ['867', CallNode(function='Abstraction.__call__', type_params={'U': DeclaredTypeInstance(type='Integer', params=None), 'T': DeclaredTypeInstance(type='Integer', params=None)}, args=['-7107333823421558800', '-1676170044209412934'], kwargs=None)], '7109380877687312606': ['945', CallNode(function='Integer.eq', type_params=None, args=['-2242209172835132093', '-801800994066151079'], kwargs=None)], '-3728063938899283826': ['869', CallNode(function='Boolean.if_', type_params=None, args=['7109380877687312606', '-5426275952129512663', '-3134450228486803831'], kwargs=None)], '-3798376556648677631': ['870', CallNode(function='Boolean.if_', type_params=None, args=['-8533041076784310296', '3921659648319680478', '-3728063938899283826'], kwargs=None)], '3780292266816121406': ['871', CallNode(function='Abstraction.create', type_params={'U': DeclaredTypeInstance(type='Integer', params=None), 'T': DeclaredTypeInstance(type='Integer', params=None)}, args=['-5426275952129512663', '-3798376556648677631'], kwargs=None)], '-3505812150000789254': ['777', CallNode(function='Abstraction.create', type_params={'U': DeclaredTypeInstance(type='Abstraction', params={'U': DeclaredTypeInstance(type='Integer', params=None), 'T': DeclaredTypeInstance(type='Integer', params=None)}), 'T': DeclaredTypeInstance(type='Integer', params=None)}, args=['-3134450228486803831', '3780292266816121406'], kwargs=None)], '3477035551564410157': ['780', CallNode(function='Abstraction.__call__', type_params={'U': DeclaredTypeInstance(type='Abstraction', params={'U': DeclaredTypeInstance(type='Integer', params=None), 'T': DeclaredTypeInstance(type='Integer', params=None)}), 'T': DeclaredTypeInstance(type='Integer', params=None)}, args=['-3505812150000789254', '-8411147389139933288'], kwargs=None)], '6995862154725320622': ['4', CallNode(function='Abstraction.__call__', type_params={'U': DeclaredTypeInstance(type='Integer', params=None), 'T': DeclaredTypeInstance(type='Integer', params=None)}, args=['3477035551564410157', '-1110296496125714697'], kwargs=None)], '4936174578333576343': ['904', CallNode(function='Integer.__add__', type_params=None, args=['-8411147389139933288', '-5426275952129512663'], kwargs=None)], '4833984845176339595': ['905', CallNode(function='Abstraction.__call__', type_params={'U': DeclaredTypeInstance(type='Integer', params=None), 'T': DeclaredTypeInstance(type='Integer', params=None)}, args=['-7107333823421558800', '4936174578333576343'], kwargs=None)], '4110033832317878581': ['907', CallNode(function='Boolean.if_', type_params=None, args=['7109380877687312606', '-5426275952129512663', '-8411147389139933288'], kwargs=None)], '-2083943988471883110': ['908', CallNode(function='Boolean.if_', type_params=None, args=['-8533041076784310296', '4833984845176339595', '4110033832317878581'], kwargs=None)], '-5908126905911275508': ['780', CallNode(function='Abstraction.create', type_params={'U': DeclaredTypeInstance(type='Integer', params=None), 'T': DeclaredTypeInstance(type='Integer', params=None)}, args=['-5426275952129512663', '-2083943988471883110'], kwargs=None)], '279229843076106130': ['4', CallNode(function='Abstraction.__call__', type_params={'U': DeclaredTypeInstance(type='Integer', params=None), 'T': DeclaredTypeInstance(type='Integer', params=None)}, args=['-5908126905911275508', '-1110296496125714697'], kwargs=None)], '2960721151694497664': ['940', CallNode(function='Abstraction.__call__', type_params={'U': DeclaredTypeInstance(type='Abstraction', params={'U': DeclaredTypeInstance(type='Integer', params=None), 'T': DeclaredTypeInstance(type='Integer', params=None)}), 'T': DeclaredTypeInstance(type='Integer', params=None)}, args=['4508290680206952837', '-1110296496125714697'], kwargs=None)], '4690381768924153447': ['943', CallNode(function='Integer.__add__', type_params=None, args=['-8411147389139933288', '-1110296496125714697'], kwargs=None)], '8028565314492594751': ['944', CallNode(function='Abstraction.__call__', type_params={'U': DeclaredTypeInstance(type='Integer', params=None), 'T': DeclaredTypeInstance(type='Integer', params=None)}, args=['2960721151694497664', '4690381768924153447'], kwargs=None)], '-1036961898671764251': ['946', CallNode(function='Boolean.if_', type_params=None, args=['7109380877687312606', '-1110296496125714697', '-8411147389139933288'], kwargs=None)], '961630583575222328': ['4', CallNode(function='Boolean.if_', type_params=None, args=['-8533041076784310296', '8028565314492594751', '-1036961898671764251'], kwargs=None)], '3746121983957195092': ['946', CallNode(function='Boolean.if_', type_params=None, args=['6321508888815918528', '-1110296496125714697', '-8411147389139933288'], kwargs=None)], '8706402180796205000': ['4', CallNode(function='Boolean.if_', type_params=None, args=['-8533041076784310296', '8028565314492594751', '3746121983957195092'], kwargs=None)], '-6861560660440697336': ['4', CallNode(function='Boolean.if_', type_params=None, args=['-8533041076784310296', '8028565314492594751', '-8411147389139933288'], kwargs=None)], '-5077450201636359516': ['1305', PrimitiveNode(type='int', repr='5')], '9023799992201590501': ['1306', CallNode(function='Integer.from_int', type_params=None, args=['-5077450201636359516'], kwargs=None)], '-3139074987821508616': ['944', CallNode(function='Abstraction.__call__', type_params={'U': DeclaredTypeInstance(type='Integer', params=None), 'T': DeclaredTypeInstance(type='Integer', params=None)}, args=['2960721151694497664', '9023799992201590501'], kwargs=None)], '3550095921293099265': ['4', CallNode(function='Boolean.if_', type_params=None, args=['-8533041076784310296', '-3139074987821508616', '-8411147389139933288'], kwargs=None)], '-5077450201635276991': ['1109', PrimitiveNode(type='int', repr='6')], '8316436884507874420': ['1110', CallNode(function='Integer.from_int', type_params=None, args=['-5077450201635276991'], kwargs=None)], '-6341191070088461170': ['977', CallNode(function='Abstraction.__call__', type_params={'U': DeclaredTypeInstance(type='Abstraction', params={'U': DeclaredTypeInstance(type='Abstraction', params={'U': DeclaredTypeInstance(type='Integer', params=None), 'T': DeclaredTypeInstance(type='Integer', params=None)}), 'T': DeclaredTypeInstance(type='Integer', params=None)}), 'T': DeclaredTypeInstance(type='Integer', params=None)}, args=['560823455631952198', '8316436884507874420'], kwargs=None)], '787256017182910630': ['980', CallNode(function='Abstraction.__call__', type_params={'U': DeclaredTypeInstance(type='Abstraction', params={'U': DeclaredTypeInstance(type='Integer', params=None), 'T': DeclaredTypeInstance(type='Integer', params=None)}), 'T': DeclaredTypeInstance(type='Integer', params=None)}, args=['-6341191070088461170', '-1110296496125714697'], kwargs=None)], '8035427803785156047': ['4', CallNode(function='Abstraction.__call__', type_params={'U': DeclaredTypeInstance(type='Integer', params=None), 'T': DeclaredTypeInstance(type='Integer', params=None)}, args=['787256017182910630', '9023799992201590501'], kwargs=None)], '8379259154227753368': ['4', CallNode(function='Boolean.if_', type_params=None, args=['-8533041076784310296', '8035427803785156047', '-8411147389139933288'], kwargs=None)], '1550817666979442994': ['4', CallNode(function='Boolean.if_', type_params=None, args=['1321722653791223987', '8035427803785156047', '-8411147389139933288'], kwargs=None)], '-6032215611507379004': ['977', CallNode(function='Abstraction.__call__', type_params={'U': DeclaredTypeInstance(type='Abstraction', params={'U': DeclaredTypeInstance(type='Abstraction', params={'U': DeclaredTypeInstance(type='Integer', params=None), 'T': DeclaredTypeInstance(type='Integer', params=None)}), 'T': DeclaredTypeInstance(type='Integer', params=None)}), 'T': DeclaredTypeInstance(type='Integer', params=None)}, args=['2516676606967915759', '8316436884507874420'], kwargs=None)], '2236674423200455804': ['980', CallNode(function='Abstraction.__call__', type_params={'U': DeclaredTypeInstance(type='Abstraction', params={'U': DeclaredTypeInstance(type='Integer', params=None), 'T': DeclaredTypeInstance(type='Integer', params=None)}), 'T': DeclaredTypeInstance(type='Integer', params=None)}, args=['-6032215611507379004', '-1110296496125714697'], kwargs=None)], '5381401001633374149': ['4', CallNode(function='Abstraction.__call__', type_params={'U': DeclaredTypeInstance(type='Integer', params=None), 'T': DeclaredTypeInstance(type='Integer', params=None)}, args=['2236674423200455804', '9023799992201590501'], kwargs=None)], '-8609216689943626051': ['977', CallNode(function='Abstraction.__call__', type_params={'U': DeclaredTypeInstance(type='Abstraction', params={'U': DeclaredTypeInstance(type='Abstraction', params={'U': DeclaredTypeInstance(type='Integer', params=None), 'T': DeclaredTypeInstance(type='Integer', params=None)}), 'T': DeclaredTypeInstance(type='Integer', params=None)}), 'T': DeclaredTypeInstance(type='Integer', params=None)}, args=['-2918624255584909654', '8316436884507874420'], kwargs=None)], '-3251739455011285052': ['980', CallNode(function='Abstraction.__call__', type_params={'U': DeclaredTypeInstance(type='Abstraction', params={'U': DeclaredTypeInstance(type='Integer', params=None), 'T': DeclaredTypeInstance(type='Integer', params=None)}), 'T': DeclaredTypeInstance(type='Integer', params=None)}, args=['-8609216689943626051', '-1110296496125714697'], kwargs=None)], '953692273204370666': ['4', CallNode(function='Abstraction.__call__', type_params={'U': DeclaredTypeInstance(type='Integer', params=None), 'T': DeclaredTypeInstance(type='Integer', params=None)}, args=['-3251739455011285052', '9023799992201590501'], kwargs=None)], '-2298413480251783172': ['1113', CallNode(function='Integer.__gt__', type_params=None, args=['8316436884507874420', '-801800994066151079'], kwargs=None)], '-2203141082538882173': ['1136', CallNode(function='Integer.__sub__', type_params=None, args=['8316436884507874420', '-801800994066151079'], kwargs=None)], '5197123622989158450': ['1137', CallNode(function='Abstraction.__call__', type_params={'U': DeclaredTypeInstance(type='Abstraction', params={'U': DeclaredTypeInstance(type='Abstraction', params={'U': DeclaredTypeInstance(type='Integer', params=None), 'T': DeclaredTypeInstance(type='Integer', params=None)}), 'T': DeclaredTypeInstance(type='Integer', params=None)}), 'T': DeclaredTypeInstance(type='Integer', params=None)}, args=['560823455631952198', '-2203141082538882173'], kwargs=None)], '-4640511923041804626': ['1101', CallNode(function='Abstraction.__call__', type_params={'U': DeclaredTypeInstance(type='Abstraction', params={'U': DeclaredTypeInstance(type='Integer', params=None), 'T': DeclaredTypeInstance(type='Integer', params=None)}), 'T': DeclaredTypeInstance(type='Integer', params=None)}, args=['5197123622989158450', '-5426275952129512663'], kwargs=None)], '-5444139102349774997': ['1067', CallNode(function='Abstraction.__call__', type_params={'U': DeclaredTypeInstance(type='Integer', params=None), 'T': DeclaredTypeInstance(type='Integer', params=None)}, args=['-4640511923041804626', '-1676170044209412934'], kwargs=None)], '-8682616525754288342': ['1145', CallNode(function='Integer.eq', type_params=None, args=['8316436884507874420', '-801800994066151079'], kwargs=None)], '7245973905039219864': ['1069', CallNode(function='Boolean.if_', type_params=None, args=['-8682616525754288342', '-5426275952129512663', '-3134450228486803831'], kwargs=None)], '1781184199628521866': ['1070', CallNode(function='Boolean.if_', type_params=None, args=['-2298413480251783172', '-5444139102349774997', '7245973905039219864'], kwargs=None)], '-7477973265007235012': ['1071', CallNode(function='Abstraction.create', type_params={'U': DeclaredTypeInstance(type='Integer', params=None), 'T': DeclaredTypeInstance(type='Integer', params=None)}, args=['-5426275952129512663', '1781184199628521866'], kwargs=None)], '7299542604615089420': ['977', CallNode(function='Abstraction.create', type_params={'U': DeclaredTypeInstance(type='Abstraction', params={'U': DeclaredTypeInstance(type='Integer', params=None), 'T': DeclaredTypeInstance(type='Integer', params=None)}), 'T': DeclaredTypeInstance(type='Integer', params=None)}, args=['-3134450228486803831', '-7477973265007235012'], kwargs=None)], '8800103644617418569': ['980', CallNode(function='Abstraction.__call__', type_params={'U': DeclaredTypeInstance(type='Abstraction', params={'U': DeclaredTypeInstance(type='Integer', params=None), 'T': DeclaredTypeInstance(type='Integer', params=None)}), 'T': DeclaredTypeInstance(type='Integer', params=None)}, args=['7299542604615089420', '-1110296496125714697'], kwargs=None)], '-147426409985855627': ['4', CallNode(function='Abstraction.__call__', type_params={'U': DeclaredTypeInstance(type='Integer', params=None), 'T': DeclaredTypeInstance(type='Integer', params=None)}, args=['8800103644617418569', '9023799992201590501'], kwargs=None)], '-4783786898263984887': ['1104', CallNode(function='Integer.__add__', type_params=None, args=['-1110296496125714697', '-5426275952129512663'], kwargs=None)], '-8796068018508027856': ['1105', CallNode(function='Abstraction.__call__', type_params={'U': DeclaredTypeInstance(type='Integer', params=None), 'T': DeclaredTypeInstance(type='Integer', params=None)}, args=['-4640511923041804626', '-4783786898263984887'], kwargs=None)], '4611312285244207685': ['1107', CallNode(function='Boolean.if_', type_params=None, args=['-8682616525754288342', '-5426275952129512663', '-1110296496125714697'], kwargs=None)], '-8286536436885183299': ['1108', CallNode(function='Boolean.if_', type_params=None, args=['-2298413480251783172', '-8796068018508027856', '4611312285244207685'], kwargs=None)], '-8407048646428429972': ['980', CallNode(function='Abstraction.create', type_params={'U': DeclaredTypeInstance(type='Integer', params=None), 'T': DeclaredTypeInstance(type='Integer', params=None)}, args=['-5426275952129512663', '-8286536436885183299'], kwargs=None)], '-3421636274071388720': ['4', CallNode(function='Abstraction.__call__', type_params={'U': DeclaredTypeInstance(type='Integer', params=None), 'T': DeclaredTypeInstance(type='Integer', params=None)}, args=['-8407048646428429972', '9023799992201590501'], kwargs=None)], '-5034093993212600357': ['1140', CallNode(function='Abstraction.__call__', type_params={'U': DeclaredTypeInstance(type='Abstraction', params={'U': DeclaredTypeInstance(type='Integer', params=None), 'T': DeclaredTypeInstance(type='Integer', params=None)}), 'T': DeclaredTypeInstance(type='Integer', params=None)}, args=['5197123622989158450', '9023799992201590501'], kwargs=None)], '-597515039822554464': ['1143', CallNode(function='Integer.__add__', type_params=None, args=['-1110296496125714697', '9023799992201590501'], kwargs=None)], '5017729979198806200': ['1144', CallNode(function='Abstraction.__call__', type_params={'U': DeclaredTypeInstance(type='Integer', params=None), 'T': DeclaredTypeInstance(type='Integer', params=None)}, args=['-5034093993212600357', '-597515039822554464'], kwargs=None)], '5821079187440107598': ['1146', CallNode(function='Boolean.if_', type_params=None, args=['-8682616525754288342', '9023799992201590501', '-1110296496125714697'], kwargs=None)], '-3018917905739980852': ['4', CallNode(function='Boolean.if_', type_params=None, args=['-2298413480251783172', '5017729979198806200', '5821079187440107598'], kwargs=None)], '-601338984146599767': ['1146', CallNode(function='Boolean.if_', type_params=None, args=['6321508888815918528', '9023799992201590501', '-1110296496125714697'], kwargs=None)], '-2737723157984854121': ['4', CallNode(function='Boolean.if_', type_params=None, args=['-2298413480251783172', '5017729979198806200', '-601338984146599767'], kwargs=None)], '-6204855144531354183': ['4', CallNode(function='Boolean.if_', type_params=None, args=['-2298413480251783172', '5017729979198806200', '-1110296496125714697'], kwargs=None)], '-4901468682141779829': ['1144', CallNode(function='Abstraction.__call__', type_params={'U': DeclaredTypeInstance(type='Integer', params=None), 'T': DeclaredTypeInstance(type='Integer', params=None)}, args=['-5034093993212600357', '8287283151426784322'], kwargs=None)], '3586394300297348990': ['4', CallNode(function='Boolean.if_', type_params=None, args=['-2298413480251783172', '-4901468682141779829', '-1110296496125714697'], kwargs=None)], '4179817302515504023': ['1177', CallNode(function='Abstraction.__call__', type_params={'U': DeclaredTypeInstance(type='Abstraction', params={'U': DeclaredTypeInstance(type='Abstraction', params={'U': DeclaredTypeInstance(type='Integer', params=None), 'T': DeclaredTypeInstance(type='Integer', params=None)}), 'T': DeclaredTypeInstance(type='Integer', params=None)}), 'T': DeclaredTypeInstance(type='Integer', params=None)}, args=['560823455631952198', '9023799992201590501'], kwargs=None)], '8725935464599729207': ['1178', CallNode(function='Abstraction.__call__', type_params={'U': DeclaredTypeInstance(type='Abstraction', params={'U': DeclaredTypeInstance(type='Integer', params=None), 'T': DeclaredTypeInstance(type='Integer', params=None)}), 'T': DeclaredTypeInstance(type='Integer', params=None)}, args=['4179817302515504023', '9023799992201590501'], kwargs=None)], '-6219751249766497992': ['4', CallNode(function='Abstraction.__call__', type_params={'U': DeclaredTypeInstance(type='Integer', params=None), 'T': DeclaredTypeInstance(type='Integer', params=None)}, args=['8725935464599729207', '8287283151426784322'], kwargs=None)], '-6951123171904970619': ['4', CallNode(function='Boolean.if_', type_params=None, args=['-2298413480251783172', '-6219751249766497992', '-1110296496125714697'], kwargs=None)], '-9152255430083111256': ['4', CallNode(function='Boolean.if_', type_params=None, args=['1321722653791223987', '-6219751249766497992', '-1110296496125714697'], kwargs=None)], '-4699554956187445087': ['1177', CallNode(function='Abstraction.__call__', type_params={'U': DeclaredTypeInstance(type='Abstraction', params={'U': DeclaredTypeInstance(type='Abstraction', params={'U': DeclaredTypeInstance(type='Integer', params=None), 'T': DeclaredTypeInstance(type='Integer', params=None)}), 'T': DeclaredTypeInstance(type='Integer', params=None)}), 'T': DeclaredTypeInstance(type='Integer', params=None)}, args=['2516676606967915759', '9023799992201590501'], kwargs=None)], '-6339487674929352912': ['1178', CallNode(function='Abstraction.__call__', type_params={'U': DeclaredTypeInstance(type='Abstraction', params={'U': DeclaredTypeInstance(type='Integer', params=None), 'T': DeclaredTypeInstance(type='Integer', params=None)}), 'T': DeclaredTypeInstance(type='Integer', params=None)}, args=['-4699554956187445087', '9023799992201590501'], kwargs=None)], '4483633870408744868': ['4', CallNode(function='Abstraction.__call__', type_params={'U': DeclaredTypeInstance(type='Integer', params=None), 'T': DeclaredTypeInstance(type='Integer', params=None)}, args=['-6339487674929352912', '8287283151426784322'], kwargs=None)], '-6768199085063043736': ['1177', CallNode(function='Abstraction.__call__', type_params={'U': DeclaredTypeInstance(type='Abstraction', params={'U': DeclaredTypeInstance(type='Abstraction', params={'U': DeclaredTypeInstance(type='Integer', params=None), 'T': DeclaredTypeInstance(type='Integer', params=None)}), 'T': DeclaredTypeInstance(type='Integer', params=None)}), 'T': DeclaredTypeInstance(type='Integer', params=None)}, args=['-2918624255584909654', '9023799992201590501'], kwargs=None)], '-1945844223427463191': ['1178', CallNode(function='Abstraction.__call__', type_params={'U': DeclaredTypeInstance(type='Abstraction', params={'U': DeclaredTypeInstance(type='Integer', params=None), 'T': DeclaredTypeInstance(type='Integer', params=None)}), 'T': DeclaredTypeInstance(type='Integer', params=None)}, args=['-6768199085063043736', '9023799992201590501'], kwargs=None)], '-5754315939870985477': ['4', CallNode(function='Abstraction.__call__', type_params={'U': DeclaredTypeInstance(type='Integer', params=None), 'T': DeclaredTypeInstance(type='Integer', params=None)}, args=['-1945844223427463191', '8287283151426784322'], kwargs=None)], '-1113038724346501693': ['1309', CallNode(function='Integer.__gt__', type_params=None, args=['9023799992201590501', '-801800994066151079'], kwargs=None)], '-6978676063710463812': ['1332', CallNode(function='Integer.__sub__', type_params=None, args=['9023799992201590501', '-801800994066151079'], kwargs=None)], '1308135176756252192': ['1333', CallNode(function='Abstraction.__call__', type_params={'U': DeclaredTypeInstance(type='Abstraction', params={'U': DeclaredTypeInstance(type='Abstraction', params={'U': DeclaredTypeInstance(type='Integer', params=None), 'T': DeclaredTypeInstance(type='Integer', params=None)}), 'T': DeclaredTypeInstance(type='Integer', params=None)}), 'T': DeclaredTypeInstance(type='Integer', params=None)}, args=['560823455631952198', '-6978676063710463812'], kwargs=None)], '6590206105732749594': ['1299', CallNode(function='Abstraction.__call__', type_params={'U': DeclaredTypeInstance(type='Abstraction', params={'U': DeclaredTypeInstance(type='Integer', params=None), 'T': DeclaredTypeInstance(type='Integer', params=None)}), 'T': DeclaredTypeInstance(type='Integer', params=None)}, args=['1308135176756252192', '-5426275952129512663'], kwargs=None)], '-4357907184230763685': ['1265', CallNode(function='Abstraction.__call__', type_params={'U': DeclaredTypeInstance(type='Integer', params=None), 'T': DeclaredTypeInstance(type='Integer', params=None)}, args=['6590206105732749594', '-1676170044209412934'], kwargs=None)], '-5719665978959350747': ['1339', CallNode(function='Integer.eq', type_params=None, args=['9023799992201590501', '-801800994066151079'], kwargs=None)], '7190770695199085028': ['1267', CallNode(function='Boolean.if_', type_params=None, args=['-5719665978959350747', '-5426275952129512663', '-3134450228486803831'], kwargs=None)], '4851886513452406100': ['1268', CallNode(function='Boolean.if_', type_params=None, args=['-1113038724346501693', '-4357907184230763685', '7190770695199085028'], kwargs=None)], '-6347830715988935560': ['1269', CallNode(function='Abstraction.create', type_params={'U': DeclaredTypeInstance(type='Integer', params=None), 'T': DeclaredTypeInstance(type='Integer', params=None)}, args=['-5426275952129512663', '4851886513452406100'], kwargs=None)], '8861261646869742781': ['1177', CallNode(function='Abstraction.create', type_params={'U': DeclaredTypeInstance(type='Abstraction', params={'U': DeclaredTypeInstance(type='Integer', params=None), 'T': DeclaredTypeInstance(type='Integer', params=None)}), 'T': DeclaredTypeInstance(type='Integer', params=None)}, args=['-3134450228486803831', '-6347830715988935560'], kwargs=None)], '-1681767555338753697': ['1178', CallNode(function='Abstraction.__call__', type_params={'U': DeclaredTypeInstance(type='Abstraction', params={'U': DeclaredTypeInstance(type='Integer', params=None), 'T': DeclaredTypeInstance(type='Integer', params=None)}), 'T': DeclaredTypeInstance(type='Integer', params=None)}, args=['8861261646869742781', '9023799992201590501'], kwargs=None)], '-4243314820986609143': ['4', CallNode(function='Abstraction.__call__', type_params={'U': DeclaredTypeInstance(type='Integer', params=None), 'T': DeclaredTypeInstance(type='Integer', params=None)}, args=['-1681767555338753697', '8287283151426784322'], kwargs=None)], '-3421932733703179622': ['1300', CallNode(function='Integer.__add__', type_params=None, args=['9023799992201590501', '-5426275952129512663'], kwargs=None)], '4395137633266568942': ['1301', CallNode(function='Abstraction.__call__', type_params={'U': DeclaredTypeInstance(type='Integer', params=None), 'T': DeclaredTypeInstance(type='Integer', params=None)}, args=['6590206105732749594', '-3421932733703179622'], kwargs=None)], '4922647886040933892': ['1303', CallNode(function='Boolean.if_', type_params=None, args=['-5719665978959350747', '-5426275952129512663', '9023799992201590501'], kwargs=None)], '321905365949744454': ['1304', CallNode(function='Boolean.if_', type_params=None, args=['-1113038724346501693', '4395137633266568942', '4922647886040933892'], kwargs=None)], '1774175017414326056': ['1178', CallNode(function='Abstraction.create', type_params={'U': DeclaredTypeInstance(type='Integer', params=None), 'T': DeclaredTypeInstance(type='Integer', params=None)}, args=['-5426275952129512663', '321905365949744454'], kwargs=None)], '-791080832611264274': ['4', CallNode(function='Abstraction.__call__', type_params={'U': DeclaredTypeInstance(type='Integer', params=None), 'T': DeclaredTypeInstance(type='Integer', params=None)}, args=['1774175017414326056', '8287283151426784322'], kwargs=None)], '1578034855718565440': ['1336', CallNode(function='Abstraction.__call__', type_params={'U': DeclaredTypeInstance(type='Abstraction', params={'U': DeclaredTypeInstance(type='Integer', params=None), 'T': DeclaredTypeInstance(type='Integer', params=None)}), 'T': DeclaredTypeInstance(type='Integer', params=None)}, args=['1308135176756252192', '8287283151426784322'], kwargs=None)], '-5060167438648985712': ['1337', CallNode(function='Integer.__add__', type_params=None, args=['9023799992201590501', '8287283151426784322'], kwargs=None)], '8642206627146315851': ['1338', CallNode(function='Abstraction.__call__', type_params={'U': DeclaredTypeInstance(type='Integer', params=None), 'T': DeclaredTypeInstance(type='Integer', params=None)}, args=['1578034855718565440', '-5060167438648985712'], kwargs=None)], '2125466910603581158': ['1340', CallNode(function='Boolean.if_', type_params=None, args=['-5719665978959350747', '8287283151426784322', '9023799992201590501'], kwargs=None)], '1123399907041318307': ['4', CallNode(function='Boolean.if_', type_params=None, args=['-1113038724346501693', '8642206627146315851', '2125466910603581158'], kwargs=None)], '-6155009463724824039': ['1340', CallNode(function='Boolean.if_', type_params=None, args=['6321508888815918528', '8287283151426784322', '9023799992201590501'], kwargs=None)], '261371141634385456': ['4', CallNode(function='Boolean.if_', type_params=None, args=['-1113038724346501693', '8642206627146315851', '-6155009463724824039'], kwargs=None)], '1942822037231683373': ['4', CallNode(function='Boolean.if_', type_params=None, args=['-1113038724346501693', '8642206627146315851', '9023799992201590501'], kwargs=None)], '-5077450201645019716': ['1735', PrimitiveNode(type='int', repr='13')], '-4061160045471027619': ['1736', CallNode(function='Integer.from_int', type_params=None, args=['-5077450201645019716'], kwargs=None)], '4418609935346698997': ['1338', CallNode(function='Abstraction.__call__', type_params={'U': DeclaredTypeInstance(type='Integer', params=None), 'T': DeclaredTypeInstance(type='Integer', params=None)}, args=['1578034855718565440', '-4061160045471027619'], kwargs=None)], '3615248622285942853': ['4', CallNode(function='Boolean.if_', type_params=None, args=['-1113038724346501693', '4418609935346698997', '9023799992201590501'], kwargs=None)], '-5077450201637442041': ['1503', PrimitiveNode(type='int', repr='4')], '-7904712134556914810': ['1504', CallNode(function='Integer.from_int', type_params=None, args=['-5077450201637442041'], kwargs=None)], '-3550679245018662862': ['1371', CallNode(function='Abstraction.__call__', type_params={'U': DeclaredTypeInstance(type='Abstraction', params={'U': DeclaredTypeInstance(type='Abstraction', params={'U': DeclaredTypeInstance(type='Integer', params=None), 'T': DeclaredTypeInstance(type='Integer', params=None)}), 'T': DeclaredTypeInstance(type='Integer', params=None)}), 'T': DeclaredTypeInstance(type='Integer', params=None)}, args=['560823455631952198', '-7904712134556914810'], kwargs=None)], '4376842228992163205': ['1374', CallNode(function='Abstraction.__call__', type_params={'U': DeclaredTypeInstance(type='Abstraction', params={'U': DeclaredTypeInstance(type='Integer', params=None), 'T': DeclaredTypeInstance(type='Integer', params=None)}), 'T': DeclaredTypeInstance(type='Integer', params=None)}, args=['-3550679245018662862', '8287283151426784322'], kwargs=None)], '383714339998150731': ['4', CallNode(function='Abstraction.__call__', type_params={'U': DeclaredTypeInstance(type='Integer', params=None), 'T': DeclaredTypeInstance(type='Integer', params=None)}, args=['4376842228992163205', '-4061160045471027619'], kwargs=None)], '3614848320306444792': ['4', CallNode(function='Boolean.if_', type_params=None, args=['-1113038724346501693', '383714339998150731', '9023799992201590501'], kwargs=None)], '5694519351722576168': ['4', CallNode(function='Boolean.if_', type_params=None, args=['1321722653791223987', '383714339998150731', '9023799992201590501'], kwargs=None)], '2976404221593107496': ['1371', CallNode(function='Abstraction.__call__', type_params={'U': DeclaredTypeInstance(type='Abstraction', params={'U': DeclaredTypeInstance(type='Abstraction', params={'U': DeclaredTypeInstance(type='Integer', params=None), 'T': DeclaredTypeInstance(type='Integer', params=None)}), 'T': DeclaredTypeInstance(type='Integer', params=None)}), 'T': DeclaredTypeInstance(type='Integer', params=None)}, args=['2516676606967915759', '-7904712134556914810'], kwargs=None)], '-3739341109593650675': ['1374', CallNode(function='Abstraction.__call__', type_params={'U': DeclaredTypeInstance(type='Abstraction', params={'U': DeclaredTypeInstance(type='Integer', params=None), 'T': DeclaredTypeInstance(type='Integer', params=None)}), 'T': DeclaredTypeInstance(type='Integer', params=None)}, args=['2976404221593107496', '8287283151426784322'], kwargs=None)], '-1426295708692493639': ['4', CallNode(function='Abstraction.__call__', type_params={'U': DeclaredTypeInstance(type='Integer', params=None), 'T': DeclaredTypeInstance(type='Integer', params=None)}, args=['-3739341109593650675', '-4061160045471027619'], kwargs=None)], '-1378674915398745759': ['1371', CallNode(function='Abstraction.__call__', type_params={'U': DeclaredTypeInstance(type='Abstraction', params={'U': DeclaredTypeInstance(type='Abstraction', params={'U': DeclaredTypeInstance(type='Integer', params=None), 'T': DeclaredTypeInstance(type='Integer', params=None)}), 'T': DeclaredTypeInstance(type='Integer', params=None)}), 'T': DeclaredTypeInstance(type='Integer', params=None)}, args=['-2918624255584909654', '-7904712134556914810'], kwargs=None)], '4721924399607572693': ['1374', CallNode(function='Abstraction.__call__', type_params={'U': DeclaredTypeInstance(type='Abstraction', params={'U': DeclaredTypeInstance(type='Integer', params=None), 'T': DeclaredTypeInstance(type='Integer', params=None)}), 'T': DeclaredTypeInstance(type='Integer', params=None)}, args=['-1378674915398745759', '8287283151426784322'], kwargs=None)], '6676881333133958882': ['4', CallNode(function='Abstraction.__call__', type_params={'U': DeclaredTypeInstance(type='Integer', params=None), 'T': DeclaredTypeInstance(type='Integer', params=None)}, args=['4721924399607572693', '-4061160045471027619'], kwargs=None)], '-1815412774321759192': ['1507', CallNode(function='Integer.__gt__', type_params=None, args=['-7904712134556914810', '-801800994066151079'], kwargs=None)], '5007349263206766311': ['1530', CallNode(function='Integer.__sub__', type_params=None, args=['-7904712134556914810', '-801800994066151079'], kwargs=None)], '4455307098282613136': ['1531', CallNode(function='Abstraction.__call__', type_params={'U': DeclaredTypeInstance(type='Abstraction', params={'U': DeclaredTypeInstance(type='Abstraction', params={'U': DeclaredTypeInstance(type='Integer', params=None), 'T': DeclaredTypeInstance(type='Integer', params=None)}), 'T': DeclaredTypeInstance(type='Integer', params=None)}), 'T': DeclaredTypeInstance(type='Integer', params=None)}, args=['560823455631952198', '5007349263206766311'], kwargs=None)], '-2353425695016430133': ['1495', CallNode(function='Abstraction.__call__', type_params={'U': DeclaredTypeInstance(type='Abstraction', params={'U': DeclaredTypeInstance(type='Integer', params=None), 'T': DeclaredTypeInstance(type='Integer', params=None)}), 'T': DeclaredTypeInstance(type='Integer', params=None)}, args=['4455307098282613136', '-5426275952129512663'], kwargs=None)], '8746369616937991053': ['1461', CallNode(function='Abstraction.__call__', type_params={'U': DeclaredTypeInstance(type='Integer', params=None), 'T': DeclaredTypeInstance(type='Integer', params=None)}, args=['-2353425695016430133', '-1676170044209412934'], kwargs=None)], '8833176416643459614': ['1539', CallNode(function='Integer.eq', type_params=None, args=['-7904712134556914810', '-801800994066151079'], kwargs=None)], '6678766982035656654': ['1463', CallNode(function='Boolean.if_', type_params=None, args=['8833176416643459614', '-5426275952129512663', '-3134450228486803831'], kwargs=None)], '2284353697201201082': ['1464', CallNode(function='Boolean.if_', type_params=None, args=['-1815412774321759192', '8746369616937991053', '6678766982035656654'], kwargs=None)], '-91573503692596116': ['1465', CallNode(function='Abstraction.create', type_params={'U': DeclaredTypeInstance(type='Integer', params=None), 'T': DeclaredTypeInstance(type='Integer', params=None)}, args=['-5426275952129512663', '2284353697201201082'], kwargs=None)], '3056135238852169739': ['1371', CallNode(function='Abstraction.create', type_params={'U': DeclaredTypeInstance(type='Abstraction', params={'U': DeclaredTypeInstance(type='Integer', params=None), 'T': DeclaredTypeInstance(type='Integer', params=None)}), 'T': DeclaredTypeInstance(type='Integer', params=None)}, args=['-3134450228486803831', '-91573503692596116'], kwargs=None)], '419036598942286908': ['1374', CallNode(function='Abstraction.__call__', type_params={'U': DeclaredTypeInstance(type='Abstraction', params={'U': DeclaredTypeInstance(type='Integer', params=None), 'T': DeclaredTypeInstance(type='Integer', params=None)}), 'T': DeclaredTypeInstance(type='Integer', params=None)}, args=['3056135238852169739', '8287283151426784322'], kwargs=None)], '-7441735551831453783': ['4', CallNode(function='Abstraction.__call__', type_params={'U': DeclaredTypeInstance(type='Integer', params=None), 'T': DeclaredTypeInstance(type='Integer', params=None)}, args=['419036598942286908', '-4061160045471027619'], kwargs=None)], '-2302058356223201529': ['1498', CallNode(function='Integer.__add__', type_params=None, args=['8287283151426784322', '-5426275952129512663'], kwargs=None)], '-252865817105063454': ['1499', CallNode(function='Abstraction.__call__', type_params={'U': DeclaredTypeInstance(type='Integer', params=None), 'T': DeclaredTypeInstance(type='Integer', params=None)}, args=['-2353425695016430133', '-2302058356223201529'], kwargs=None)], '-7927239239363077979': ['1501', CallNode(function='Boolean.if_', type_params=None, args=['8833176416643459614', '-5426275952129512663', '8287283151426784322'], kwargs=None)], '-5306754951991459874': ['1502', CallNode(function='Boolean.if_', type_params=None, args=['-1815412774321759192', '-252865817105063454', '-7927239239363077979'], kwargs=None)], '-3192523946077563574': ['1374', CallNode(function='Abstraction.create', type_params={'U': DeclaredTypeInstance(type='Integer', params=None), 'T': DeclaredTypeInstance(type='Integer', params=None)}, args=['-5426275952129512663', '-5306754951991459874'], kwargs=None)], '-7842067995882861556': ['4', CallNode(function='Abstraction.__call__', type_params={'U': DeclaredTypeInstance(type='Integer', params=None), 'T': DeclaredTypeInstance(type='Integer', params=None)}, args=['-3192523946077563574', '-4061160045471027619'], kwargs=None)], '-8051788361287318974': ['1534', CallNode(function='Abstraction.__call__', type_params={'U': DeclaredTypeInstance(type='Abstraction', params={'U': DeclaredTypeInstance(type='Integer', params=None), 'T': DeclaredTypeInstance(type='Integer', params=None)}), 'T': DeclaredTypeInstance(type='Integer', params=None)}, args=['4455307098282613136', '-4061160045471027619'], kwargs=None)], '-3633236624571297858': ['1537', CallNode(function='Integer.__add__', type_params=None, args=['8287283151426784322', '-4061160045471027619'], kwargs=None)], '8621592740297795617': ['1538', CallNode(function='Abstraction.__call__', type_params={'U': DeclaredTypeInstance(type='Integer', params=None), 'T': DeclaredTypeInstance(type='Integer', params=None)}, args=['-8051788361287318974', '-3633236624571297858'], kwargs=None)], '-2301715800518244002': ['1540', CallNode(function='Boolean.if_', type_params=None, args=['8833176416643459614', '-4061160045471027619', '8287283151426784322'], kwargs=None)], '-2702557499059679692': ['4', CallNode(function='Boolean.if_', type_params=None, args=['-1815412774321759192', '8621592740297795617', '-2301715800518244002'], kwargs=None)], '8818271583610203183': ['1540', CallNode(function='Boolean.if_', type_params=None, args=['6321508888815918528', '-4061160045471027619', '8287283151426784322'], kwargs=None)], '-9166909322311612472': ['4', CallNode(function='Boolean.if_', type_params=None, args=['-1815412774321759192', '8621592740297795617', '8818271583610203183'], kwargs=None)], '-1491659118260489075': ['4', CallNode(function='Boolean.if_', type_params=None, args=['-1815412774321759192', '8621592740297795617', '8287283151426784322'], kwargs=None)], '-5077450201653679916': ['1935', PrimitiveNode(type='int', repr='21')], '-1127966374457125643': ['1936', CallNode(function='Integer.from_int', type_params=None, args=['-5077450201653679916'], kwargs=None)], '-455384923308509031': ['1538', CallNode(function='Abstraction.__call__', type_params={'U': DeclaredTypeInstance(type='Integer', params=None), 'T': DeclaredTypeInstance(type='Integer', params=None)}, args=['-8051788361287318974', '-1127966374457125643'], kwargs=None)], '7137142605365310900': ['4', CallNode(function='Boolean.if_', type_params=None, args=['-1815412774321759192', '-455384923308509031', '8287283151426784322'], kwargs=None)], '1983995552774561550': ['1571', CallNode(function='Abstraction.__call__', type_params={'U': DeclaredTypeInstance(type='Abstraction', params={'U': DeclaredTypeInstance(type='Abstraction', params={'U': DeclaredTypeInstance(type='Integer', params=None), 'T': DeclaredTypeInstance(type='Integer', params=None)}), 'T': DeclaredTypeInstance(type='Integer', params=None)}), 'T': DeclaredTypeInstance(type='Integer', params=None)}, args=['560823455631952198', '-1110296496125714697'], kwargs=None)], '8632510737896538533': ['1574', CallNode(function='Abstraction.__call__', type_params={'U': DeclaredTypeInstance(type='Abstraction', params={'U': DeclaredTypeInstance(type='Integer', params=None), 'T': DeclaredTypeInstance(type='Integer', params=None)}), 'T': DeclaredTypeInstance(type='Integer', params=None)}, args=['1983995552774561550', '-4061160045471027619'], kwargs=None)], '7480348371987009566': ['4', CallNode(function='Abstraction.__call__', type_params={'U': DeclaredTypeInstance(type='Integer', params=None), 'T': DeclaredTypeInstance(type='Integer', params=None)}, args=['8632510737896538533', '-1127966374457125643'], kwargs=None)], '7614617772478806044': ['4', CallNode(function='Boolean.if_', type_params=None, args=['-1815412774321759192', '7480348371987009566', '8287283151426784322'], kwargs=None)], '-1482474538857235343': ['4', CallNode(function='Boolean.if_', type_params=None, args=['1321722653791223987', '7480348371987009566', '8287283151426784322'], kwargs=None)], '8347914482260505156': ['1571', CallNode(function='Abstraction.__call__', type_params={'U': DeclaredTypeInstance(type='Abstraction', params={'U': DeclaredTypeInstance(type='Abstraction', params={'U': DeclaredTypeInstance(type='Integer', params=None), 'T': DeclaredTypeInstance(type='Integer', params=None)}), 'T': DeclaredTypeInstance(type='Integer', params=None)}), 'T': DeclaredTypeInstance(type='Integer', params=None)}, args=['2516676606967915759', '-1110296496125714697'], kwargs=None)], '661661216699618580': ['1574', CallNode(function='Abstraction.__call__', type_params={'U': DeclaredTypeInstance(type='Abstraction', params={'U': DeclaredTypeInstance(type='Integer', params=None), 'T': DeclaredTypeInstance(type='Integer', params=None)}), 'T': DeclaredTypeInstance(type='Integer', params=None)}, args=['8347914482260505156', '-4061160045471027619'], kwargs=None)], '-8159959248220056702': ['4', CallNode(function='Abstraction.__call__', type_params={'U': DeclaredTypeInstance(type='Integer', params=None), 'T': DeclaredTypeInstance(type='Integer', params=None)}, args=['661661216699618580', '-1127966374457125643'], kwargs=None)], '-2337445539285819331': ['1571', CallNode(function='Abstraction.__call__', type_params={'U': DeclaredTypeInstance(type='Abstraction', params={'U': DeclaredTypeInstance(type='Abstraction', params={'U': DeclaredTypeInstance(type='Integer', params=None), 'T': DeclaredTypeInstance(type='Integer', params=None)}), 'T': DeclaredTypeInstance(type='Integer', params=None)}), 'T': DeclaredTypeInstance(type='Integer', params=None)}, args=['-2918624255584909654', '-1110296496125714697'], kwargs=None)], '3481211060935803599': ['1574', CallNode(function='Abstraction.__call__', type_params={'U': DeclaredTypeInstance(type='Abstraction', params={'U': DeclaredTypeInstance(type='Integer', params=None), 'T': DeclaredTypeInstance(type='Integer', params=None)}), 'T': DeclaredTypeInstance(type='Integer', params=None)}, args=['-2337445539285819331', '-4061160045471027619'], kwargs=None)], '-2056005443075254490': ['4', CallNode(function='Abstraction.__call__', type_params={'U': DeclaredTypeInstance(type='Integer', params=None), 'T': DeclaredTypeInstance(type='Integer', params=None)}, args=['3481211060935803599', '-1127966374457125643'], kwargs=None)], '-2940597550331594116': ['1707', CallNode(function='Integer.__gt__', type_params=None, args=['-1110296496125714697', '-801800994066151079'], kwargs=None)], '-8634797913289141757': ['1730', CallNode(function='Integer.__sub__', type_params=None, args=['-1110296496125714697', '-801800994066151079'], kwargs=None)], '6605627822032454031': ['1731', CallNode(function='Abstraction.__call__', type_params={'U': DeclaredTypeInstance(type='Abstraction', params={'U': DeclaredTypeInstance(type='Abstraction', params={'U': DeclaredTypeInstance(type='Integer', params=None), 'T': DeclaredTypeInstance(type='Integer', params=None)}), 'T': DeclaredTypeInstance(type='Integer', params=None)}), 'T': DeclaredTypeInstance(type='Integer', params=None)}, args=['560823455631952198', '-8634797913289141757'], kwargs=None)], '1458061320245554635': ['1695', CallNode(function='Abstraction.__call__', type_params={'U': DeclaredTypeInstance(type='Abstraction', params={'U': DeclaredTypeInstance(type='Integer', params=None), 'T': DeclaredTypeInstance(type='Integer', params=None)}), 'T': DeclaredTypeInstance(type='Integer', params=None)}, args=['6605627822032454031', '-5426275952129512663'], kwargs=None)], '-1670068791280135912': ['1661', CallNode(function='Abstraction.__call__', type_params={'U': DeclaredTypeInstance(type='Integer', params=None), 'T': DeclaredTypeInstance(type='Integer', params=None)}, args=['1458061320245554635', '-1676170044209412934'], kwargs=None)], '5959117055813357738': ['1739', CallNode(function='Integer.eq', type_params=None, args=['-1110296496125714697', '-801800994066151079'], kwargs=None)], '5101961276949837097': ['1663', CallNode(function='Boolean.if_', type_params=None, args=['5959117055813357738', '-5426275952129512663', '-3134450228486803831'], kwargs=None)], '6813561694977879302': ['1664', CallNode(function='Boolean.if_', type_params=None, args=['-2940597550331594116', '-1670068791280135912', '5101961276949837097'], kwargs=None)], '513246557790528230': ['1665', CallNode(function='Abstraction.create', type_params={'U': DeclaredTypeInstance(type='Integer', params=None), 'T': DeclaredTypeInstance(type='Integer', params=None)}, args=['-5426275952129512663', '6813561694977879302'], kwargs=None)], '-4787986170082171411': ['1571', CallNode(function='Abstraction.create', type_params={'U': DeclaredTypeInstance(type='Abstraction', params={'U': DeclaredTypeInstance(type='Integer', params=None), 'T': DeclaredTypeInstance(type='Integer', params=None)}), 'T': DeclaredTypeInstance(type='Integer', params=None)}, args=['-3134450228486803831', '513246557790528230'], kwargs=None)], '3706372163099085704': ['1574', CallNode(function='Abstraction.__call__', type_params={'U': DeclaredTypeInstance(type='Abstraction', params={'U': DeclaredTypeInstance(type='Integer', params=None), 'T': DeclaredTypeInstance(type='Integer', params=None)}), 'T': DeclaredTypeInstance(type='Integer', params=None)}, args=['-4787986170082171411', '-4061160045471027619'], kwargs=None)], '-4614975930180568821': ['4', CallNode(function='Abstraction.__call__', type_params={'U': DeclaredTypeInstance(type='Integer', params=None), 'T': DeclaredTypeInstance(type='Integer', params=None)}, args=['3706372163099085704', '-1127966374457125643'], kwargs=None)], '-3301917970824326498': ['1698', CallNode(function='Integer.__add__', type_params=None, args=['-4061160045471027619', '-5426275952129512663'], kwargs=None)], '3812752863255615653': ['1699', CallNode(function='Abstraction.__call__', type_params={'U': DeclaredTypeInstance(type='Integer', params=None), 'T': DeclaredTypeInstance(type='Integer', params=None)}, args=['1458061320245554635', '-3301917970824326498'], kwargs=None)], '1409488103855906973': ['1701', CallNode(function='Boolean.if_', type_params=None, args=['5959117055813357738', '-5426275952129512663', '-4061160045471027619'], kwargs=None)], '-1398684366788957698': ['1702', CallNode(function='Boolean.if_', type_params=None, args=['-2940597550331594116', '3812752863255615653', '1409488103855906973'], kwargs=None)], '-3628281943847458944': ['1574', CallNode(function='Abstraction.create', type_params={'U': DeclaredTypeInstance(type='Integer', params=None), 'T': DeclaredTypeInstance(type='Integer', params=None)}, args=['-5426275952129512663', '-1398684366788957698'], kwargs=None)], '-641385849391593127': ['4', CallNode(function='Abstraction.__call__', type_params={'U': DeclaredTypeInstance(type='Integer', params=None), 'T': DeclaredTypeInstance(type='Integer', params=None)}, args=['-3628281943847458944', '-1127966374457125643'], kwargs=None)], '-3350027586371372011': ['1734', CallNode(function='Abstraction.__call__', type_params={'U': DeclaredTypeInstance(type='Abstraction', params={'U': DeclaredTypeInstance(type='Integer', params=None), 'T': DeclaredTypeInstance(type='Integer', params=None)}), 'T': DeclaredTypeInstance(type='Integer', params=None)}, args=['6605627822032454031', '-1127966374457125643'], kwargs=None)], '-1305804636169494332': ['1737', CallNode(function='Integer.__add__', type_params=None, args=['-4061160045471027619', '-1127966374457125643'], kwargs=None)], '3395137322454854201': ['1738', CallNode(function='Abstraction.__call__', type_params={'U': DeclaredTypeInstance(type='Integer', params=None), 'T': DeclaredTypeInstance(type='Integer', params=None)}, args=['-3350027586371372011', '-1305804636169494332'], kwargs=None)], '-3346391710862480657': ['1740', CallNode(function='Boolean.if_', type_params=None, args=['5959117055813357738', '-1127966374457125643', '-4061160045471027619'], kwargs=None)], '-2981783927078027337': ['4', CallNode(function='Boolean.if_', type_params=None, args=['-2940597550331594116', '3395137322454854201', '-3346391710862480657'], kwargs=None)], '-7203011181200915043': ['1740', CallNode(function='Boolean.if_', type_params=None, args=['6321508888815918528', '-1127966374457125643', '-4061160045471027619'], kwargs=None)], '-2280173650737524621': ['4', CallNode(function='Boolean.if_', type_params=None, args=['-2940597550331594116', '3395137322454854201', '-7203011181200915043'], kwargs=None)], '3347703213419448133': ['4', CallNode(function='Boolean.if_', type_params=None, args=['-2940597550331594116', '3395137322454854201', '-4061160045471027619'], kwargs=None)], '-5077450201674247891': ['2126', PrimitiveNode(type='int', repr='34')], '3328637645628897464': ['2127', CallNode(function='Integer.from_int', type_params=None, args=['-5077450201674247891'], kwargs=None)], '-2083200610877319178': ['1738', CallNode(function='Abstraction.__call__', type_params={'U': DeclaredTypeInstance(type='Integer', params=None), 'T': DeclaredTypeInstance(type='Integer', params=None)}, args=['-3350027586371372011', '3328637645628897464'], kwargs=None)], '-6685418151069889607': ['4', CallNode(function='Boolean.if_', type_params=None, args=['-2940597550331594116', '-2083200610877319178', '-4061160045471027619'], kwargs=None)], '8845518020237659268': ['1771', CallNode(function='Abstraction.__call__', type_params={'U': DeclaredTypeInstance(type='Abstraction', params={'U': DeclaredTypeInstance(type='Abstraction', params={'U': DeclaredTypeInstance(type='Integer', params=None), 'T': DeclaredTypeInstance(type='Integer', params=None)}), 'T': DeclaredTypeInstance(type='Integer', params=None)}), 'T': DeclaredTypeInstance(type='Integer', params=None)}, args=['560823455631952198', '-8411147389139933288'], kwargs=None)], '-4521151675862304457': ['1774', CallNode(function='Abstraction.__call__', type_params={'U': DeclaredTypeInstance(type='Abstraction', params={'U': DeclaredTypeInstance(type='Integer', params=None), 'T': DeclaredTypeInstance(type='Integer', params=None)}), 'T': DeclaredTypeInstance(type='Integer', params=None)}, args=['8845518020237659268', '-1127966374457125643'], kwargs=None)], '-246565496540427672': ['4', CallNode(function='Abstraction.__call__', type_params={'U': DeclaredTypeInstance(type='Integer', params=None), 'T': DeclaredTypeInstance(type='Integer', params=None)}, args=['-4521151675862304457', '3328637645628897464'], kwargs=None)], '-2354252986819779049': ['4', CallNode(function='Boolean.if_', type_params=None, args=['-2940597550331594116', '-246565496540427672', '-4061160045471027619'], kwargs=None)], '2714186375538812207': ['4', CallNode(function='Boolean.if_', type_params=None, args=['1321722653791223987', '-246565496540427672', '-4061160045471027619'], kwargs=None)], '-6900882964502864818': ['1771', CallNode(function='Abstraction.__call__', type_params={'U': DeclaredTypeInstance(type='Abstraction', params={'U': DeclaredTypeInstance(type='Abstraction', params={'U': DeclaredTypeInstance(type='Integer', params=None), 'T': DeclaredTypeInstance(type='Integer', params=None)}), 'T': DeclaredTypeInstance(type='Integer', params=None)}), 'T': DeclaredTypeInstance(type='Integer', params=None)}, args=['2516676606967915759', '-8411147389139933288'], kwargs=None)], '3395821898431727276': ['1774', CallNode(function='Abstraction.__call__', type_params={'U': DeclaredTypeInstance(type='Abstraction', params={'U': DeclaredTypeInstance(type='Integer', params=None), 'T': DeclaredTypeInstance(type='Integer', params=None)}), 'T': DeclaredTypeInstance(type='Integer', params=None)}, args=['-6900882964502864818', '-1127966374457125643'], kwargs=None)], '1703992945121825963': ['4', CallNode(function='Abstraction.__call__', type_params={'U': DeclaredTypeInstance(type='Integer', params=None), 'T': DeclaredTypeInstance(type='Integer', params=None)}, args=['3395821898431727276', '3328637645628897464'], kwargs=None)], '7772771530519993891': ['1771', CallNode(function='Abstraction.__call__', type_params={'U': DeclaredTypeInstance(type='Abstraction', params={'U': DeclaredTypeInstance(type='Abstraction', params={'U': DeclaredTypeInstance(type='Integer', params=None), 'T': DeclaredTypeInstance(type='Integer', params=None)}), 'T': DeclaredTypeInstance(type='Integer', params=None)}), 'T': DeclaredTypeInstance(type='Integer', params=None)}, args=['-2918624255584909654', '-8411147389139933288'], kwargs=None)], '-6723591216675468966': ['1774', CallNode(function='Abstraction.__call__', type_params={'U': DeclaredTypeInstance(type='Abstraction', params={'U': DeclaredTypeInstance(type='Integer', params=None), 'T': DeclaredTypeInstance(type='Integer', params=None)}), 'T': DeclaredTypeInstance(type='Integer', params=None)}, args=['7772771530519993891', '-1127966374457125643'], kwargs=None)], '7685973006636850346': ['4', CallNode(function='Abstraction.__call__', type_params={'U': DeclaredTypeInstance(type='Integer', params=None), 'T': DeclaredTypeInstance(type='Integer', params=None)}, args=['-6723591216675468966', '3328637645628897464'], kwargs=None)], '-173279802764137478': ['1907', CallNode(function='Integer.__gt__', type_params=None, args=['-8411147389139933288', '-801800994066151079'], kwargs=None)], '-4832175547298811883': ['1930', CallNode(function='Integer.__sub__', type_params=None, args=['-8411147389139933288', '-801800994066151079'], kwargs=None)], '8801211420620402818': ['1931', CallNode(function='Abstraction.__call__', type_params={'U': DeclaredTypeInstance(type='Abstraction', params={'U': DeclaredTypeInstance(type='Abstraction', params={'U': DeclaredTypeInstance(type='Integer', params=None), 'T': DeclaredTypeInstance(type='Integer', params=None)}), 'T': DeclaredTypeInstance(type='Integer', params=None)}), 'T': DeclaredTypeInstance(type='Integer', params=None)}, args=['560823455631952198', '-4832175547298811883'], kwargs=None)], '-140310678157734065': ['1895', CallNode(function='Abstraction.__call__', type_params={'U': DeclaredTypeInstance(type='Abstraction', params={'U': DeclaredTypeInstance(type='Integer', params=None), 'T': DeclaredTypeInstance(type='Integer', params=None)}), 'T': DeclaredTypeInstance(type='Integer', params=None)}, args=['8801211420620402818', '-5426275952129512663'], kwargs=None)], '-8286069331761734788': ['1861', CallNode(function='Abstraction.__call__', type_params={'U': DeclaredTypeInstance(type='Integer', params=None), 'T': DeclaredTypeInstance(type='Integer', params=None)}, args=['-140310678157734065', '-1676170044209412934'], kwargs=None)], '3557768599575072972': ['1939', CallNode(function='Integer.eq', type_params=None, args=['-8411147389139933288', '-801800994066151079'], kwargs=None)], '8320803214511301674': ['1863', CallNode(function='Boolean.if_', type_params=None, args=['3557768599575072972', '-5426275952129512663', '-3134450228486803831'], kwargs=None)], '-8750736539962603618': ['1864', CallNode(function='Boolean.if_', type_params=None, args=['-173279802764137478', '-8286069331761734788', '8320803214511301674'], kwargs=None)], '1378814186671866115': ['1865', CallNode(function='Abstraction.create', type_params={'U': DeclaredTypeInstance(type='Integer', params=None), 'T': DeclaredTypeInstance(type='Integer', params=None)}, args=['-5426275952129512663', '-8750736539962603618'], kwargs=None)], '-8614716750494060866': ['1771', CallNode(function='Abstraction.create', type_params={'U': DeclaredTypeInstance(type='Abstraction', params={'U': DeclaredTypeInstance(type='Integer', params=None), 'T': DeclaredTypeInstance(type='Integer', params=None)}), 'T': DeclaredTypeInstance(type='Integer', params=None)}, args=['-3134450228486803831', '1378814186671866115'], kwargs=None)], '3720157668230375851': ['1774', CallNode(function='Abstraction.__call__', type_params={'U': DeclaredTypeInstance(type='Abstraction', params={'U': DeclaredTypeInstance(type='Integer', params=None), 'T': DeclaredTypeInstance(type='Integer', params=None)}), 'T': DeclaredTypeInstance(type='Integer', params=None)}, args=['-8614716750494060866', '-1127966374457125643'], kwargs=None)], '4719944396817939550': ['4', CallNode(function='Abstraction.__call__', type_params={'U': DeclaredTypeInstance(type='Integer', params=None), 'T': DeclaredTypeInstance(type='Integer', params=None)}, args=['3720157668230375851', '3328637645628897464'], kwargs=None)], '-164345154158847369': ['1898', CallNode(function='Integer.__add__', type_params=None, args=['-1127966374457125643', '-5426275952129512663'], kwargs=None)], '-2018255843137072529': ['1899', CallNode(function='Abstraction.__call__', type_params={'U': DeclaredTypeInstance(type='Integer', params=None), 'T': DeclaredTypeInstance(type='Integer', params=None)}, args=['-140310678157734065', '-164345154158847369'], kwargs=None)], '-6831297998772782663': ['1901', CallNode(function='Boolean.if_', type_params=None, args=['3557768599575072972', '-5426275952129512663', '-1127966374457125643'], kwargs=None)], '5755996234079649962': ['1902', CallNode(function='Boolean.if_', type_params=None, args=['-173279802764137478', '-2018255843137072529', '-6831297998772782663'], kwargs=None)], '-8790061294954934374': ['1774', CallNode(function='Abstraction.create', type_params={'U': DeclaredTypeInstance(type='Integer', params=None), 'T': DeclaredTypeInstance(type='Integer', params=None)}, args=['-5426275952129512663', '5755996234079649962'], kwargs=None)], '149270384740622389': ['4', CallNode(function='Abstraction.__call__', type_params={'U': DeclaredTypeInstance(type='Integer', params=None), 'T': DeclaredTypeInstance(type='Integer', params=None)}, args=['-8790061294954934374', '3328637645628897464'], kwargs=None)], '-8266425021226895723': ['1934', CallNode(function='Abstraction.__call__', type_params={'U': DeclaredTypeInstance(type='Abstraction', params={'U': DeclaredTypeInstance(type='Integer', params=None), 'T': DeclaredTypeInstance(type='Integer', params=None)}), 'T': DeclaredTypeInstance(type='Integer', params=None)}, args=['8801211420620402818', '3328637645628897464'], kwargs=None)], '-6645676425733723667': ['1937', CallNode(function='Integer.__add__', type_params=None, args=['-1127966374457125643', '3328637645628897464'], kwargs=None)], '-749555488437316466': ['1938', CallNode(function='Abstraction.__call__', type_params={'U': DeclaredTypeInstance(type='Integer', params=None), 'T': DeclaredTypeInstance(type='Integer', params=None)}, args=['-8266425021226895723', '-6645676425733723667'], kwargs=None)], '-160156518886190277': ['1940', CallNode(function='Boolean.if_', type_params=None, args=['3557768599575072972', '3328637645628897464', '-1127966374457125643'], kwargs=None)], '6541655153912888183': ['4', CallNode(function='Boolean.if_', type_params=None, args=['-173279802764137478', '-749555488437316466', '-160156518886190277'], kwargs=None)], '-4583955618747866706': ['1940', CallNode(function='Boolean.if_', type_params=None, args=['6321508888815918528', '3328637645628897464', '-1127966374457125643'], kwargs=None)], '-9051778353687612959': ['4', CallNode(function='Boolean.if_', type_params=None, args=['-173279802764137478', '-749555488437316466', '-4583955618747866706'], kwargs=None)], '2431803466071441833': ['4', CallNode(function='Boolean.if_', type_params=None, args=['-173279802764137478', '-749555488437316466', '-1127966374457125643'], kwargs=None)], '-5077450201686155666': ['2136', PrimitiveNode(type='int', repr='55')], '7392902467124084083': ['4', CallNode(function='Integer.from_int', type_params=None, args=['-5077450201686155666'], kwargs=None)], '-2809842081765076799': ['1938', CallNode(function='Abstraction.__call__', type_params={'U': DeclaredTypeInstance(type='Integer', params=None), 'T': DeclaredTypeInstance(type='Integer', params=None)}, args=['-8266425021226895723', '7392902467124084083'], kwargs=None)], '-732316379779617445': ['4', CallNode(function='Boolean.if_', type_params=None, args=['-173279802764137478', '-2809842081765076799', '-1127966374457125643'], kwargs=None)], '-5705685365914574272': ['1968', CallNode(function='Abstraction.__call__', type_params={'U': DeclaredTypeInstance(type='Abstraction', params={'U': DeclaredTypeInstance(type='Abstraction', params={'U': DeclaredTypeInstance(type='Integer', params=None), 'T': DeclaredTypeInstance(type='Integer', params=None)}), 'T': DeclaredTypeInstance(type='Integer', params=None)}), 'T': DeclaredTypeInstance(type='Integer', params=None)}, args=['560823455631952198', '-801800994066151079'], kwargs=None)], '-6956111038982064794': ['1971', CallNode(function='Abstraction.__call__', type_params={'U': DeclaredTypeInstance(type='Abstraction', params={'U': DeclaredTypeInstance(type='Integer', params=None), 'T': DeclaredTypeInstance(type='Integer', params=None)}), 'T': DeclaredTypeInstance(type='Integer', params=None)}, args=['-5705685365914574272', '3328637645628897464'], kwargs=None)], '1697458433628724164': ['4', CallNode(function='Abstraction.__call__', type_params={'U': DeclaredTypeInstance(type='Integer', params=None), 'T': DeclaredTypeInstance(type='Integer', params=None)}, args=['-6956111038982064794', '7392902467124084083'], kwargs=None)], '-42827837141343569': ['4', CallNode(function='Boolean.if_', type_params=None, args=['-173279802764137478', '1697458433628724164', '-1127966374457125643'], kwargs=None)], '5717695590859629976': ['4', CallNode(function='Boolean.if_', type_params=None, args=['1321722653791223987', '1697458433628724164', '-1127966374457125643'], kwargs=None)], '-6474555534269580406': ['1968', CallNode(function='Abstraction.__call__', type_params={'U': DeclaredTypeInstance(type='Abstraction', params={'U': DeclaredTypeInstance(type='Abstraction', params={'U': DeclaredTypeInstance(type='Integer', params=None), 'T': DeclaredTypeInstance(type='Integer', params=None)}), 'T': DeclaredTypeInstance(type='Integer', params=None)}), 'T': DeclaredTypeInstance(type='Integer', params=None)}, args=['2516676606967915759', '-801800994066151079'], kwargs=None)], '-2646099426640432980': ['1971', CallNode(function='Abstraction.__call__', type_params={'U': DeclaredTypeInstance(type='Abstraction', params={'U': DeclaredTypeInstance(type='Integer', params=None), 'T': DeclaredTypeInstance(type='Integer', params=None)}), 'T': DeclaredTypeInstance(type='Integer', params=None)}, args=['-6474555534269580406', '3328637645628897464'], kwargs=None)], '-9035613198182849844': ['4', CallNode(function='Abstraction.__call__', type_params={'U': DeclaredTypeInstance(type='Integer', params=None), 'T': DeclaredTypeInstance(type='Integer', params=None)}, args=['-2646099426640432980', '7392902467124084083'], kwargs=None)], '1309959080961015455': ['1968', CallNode(function='Abstraction.__call__', type_params={'U': DeclaredTypeInstance(type='Abstraction', params={'U': DeclaredTypeInstance(type='Abstraction', params={'U': DeclaredTypeInstance(type='Integer', params=None), 'T': DeclaredTypeInstance(type='Integer', params=None)}), 'T': DeclaredTypeInstance(type='Integer', params=None)}), 'T': DeclaredTypeInstance(type='Integer', params=None)}, args=['-2918624255584909654', '-801800994066151079'], kwargs=None)], '-7368528092517862245': ['1971', CallNode(function='Abstraction.__call__', type_params={'U': DeclaredTypeInstance(type='Abstraction', params={'U': DeclaredTypeInstance(type='Integer', params=None), 'T': DeclaredTypeInstance(type='Integer', params=None)}), 'T': DeclaredTypeInstance(type='Integer', params=None)}, args=['1309959080961015455', '3328637645628897464'], kwargs=None)], '-4007718426116499557': ['4', CallNode(function='Abstraction.__call__', type_params={'U': DeclaredTypeInstance(type='Integer', params=None), 'T': DeclaredTypeInstance(type='Integer', params=None)}, args=['-7368528092517862245', '7392902467124084083'], kwargs=None)], '-6951288059290601538': ['2098', CallNode(function='Integer.__gt__', type_params=None, args=['-801800994066151079', '-801800994066151079'], kwargs=None)], '-7310769833958311087': ['2121', CallNode(function='Integer.__sub__', type_params=None, args=['-801800994066151079', '-801800994066151079'], kwargs=None)], '-302408779686132915': ['2122', CallNode(function='Abstraction.__call__', type_params={'U': DeclaredTypeInstance(type='Abstraction', params={'U': DeclaredTypeInstance(type='Abstraction', params={'U': DeclaredTypeInstance(type='Integer', params=None), 'T': DeclaredTypeInstance(type='Integer', params=None)}), 'T': DeclaredTypeInstance(type='Integer', params=None)}), 'T': DeclaredTypeInstance(type='Integer', params=None)}, args=['560823455631952198', '-7310769833958311087'], kwargs=None)], '-7791097522193180729': ['2088', CallNode(function='Abstraction.__call__', type_params={'U': DeclaredTypeInstance(type='Abstraction', params={'U': DeclaredTypeInstance(type='Integer', params=None), 'T': DeclaredTypeInstance(type='Integer', params=None)}), 'T': DeclaredTypeInstance(type='Integer', params=None)}, args=['-302408779686132915', '-5426275952129512663'], kwargs=None)], '-899194217693039437': ['2056', CallNode(function='Abstraction.__call__', type_params={'U': DeclaredTypeInstance(type='Integer', params=None), 'T': DeclaredTypeInstance(type='Integer', params=None)}, args=['-7791097522193180729', '-1676170044209412934'], kwargs=None)], '-810539374333043576': ['2130', CallNode(function='Integer.eq', type_params=None, args=['-801800994066151079', '-801800994066151079'], kwargs=None)], '3745962156717502997': ['2058', CallNode(function='Boolean.if_', type_params=None, args=['-810539374333043576', '-5426275952129512663', '-3134450228486803831'], kwargs=None)], '-5023621627109828710': ['2059', CallNode(function='Boolean.if_', type_params=None, args=['-6951288059290601538', '-899194217693039437', '3745962156717502997'], kwargs=None)], '-756461586565618378': ['2060', CallNode(function='Abstraction.create', type_params={'U': DeclaredTypeInstance(type='Integer', params=None), 'T': DeclaredTypeInstance(type='Integer', params=None)}, args=['-5426275952129512663', '-5023621627109828710'], kwargs=None)], '2182628771632718461': ['1968', CallNode(function='Abstraction.create', type_params={'U': DeclaredTypeInstance(type='Abstraction', params={'U': DeclaredTypeInstance(type='Integer', params=None), 'T': DeclaredTypeInstance(type='Integer', params=None)}), 'T': DeclaredTypeInstance(type='Integer', params=None)}, args=['-3134450228486803831', '-756461586565618378'], kwargs=None)], '-8707702417007092851': ['1971', CallNode(function='Abstraction.__call__', type_params={'U': DeclaredTypeInstance(type='Abstraction', params={'U': DeclaredTypeInstance(type='Integer', params=None), 'T': DeclaredTypeInstance(type='Integer', params=None)}), 'T': DeclaredTypeInstance(type='Integer', params=None)}, args=['2182628771632718461', '3328637645628897464'], kwargs=None)], '4817612301529815129': ['4', CallNode(function='Abstraction.__call__', type_params={'U': DeclaredTypeInstance(type='Integer', params=None), 'T': DeclaredTypeInstance(type='Integer', params=None)}, args=['-8707702417007092851', '7392902467124084083'], kwargs=None)], '-8345401595227918373': ['2091', CallNode(function='Integer.__add__', type_params=None, args=['3328637645628897464', '-5426275952129512663'], kwargs=None)], '-8267061052948186291': ['2092', CallNode(function='Abstraction.__call__', type_params={'U': DeclaredTypeInstance(type='Integer', params=None), 'T': DeclaredTypeInstance(type='Integer', params=None)}, args=['-7791097522193180729', '-8345401595227918373'], kwargs=None)], '2768076439222811738': ['2094', CallNode(function='Boolean.if_', type_params=None, args=['-810539374333043576', '-5426275952129512663', '3328637645628897464'], kwargs=None)], '-4247772069641209312': ['2095', CallNode(function='Boolean.if_', type_params=None, args=['-6951288059290601538', '-8267061052948186291', '2768076439222811738'], kwargs=None)], '-8353051989546661273': ['1971', CallNode(function='Abstraction.create', type_params={'U': DeclaredTypeInstance(type='Integer', params=None), 'T': DeclaredTypeInstance(type='Integer', params=None)}, args=['-5426275952129512663', '-4247772069641209312'], kwargs=None)], '6083896384076939935': ['4', CallNode(function='Abstraction.__call__', type_params={'U': DeclaredTypeInstance(type='Integer', params=None), 'T': DeclaredTypeInstance(type='Integer', params=None)}, args=['-8353051989546661273', '7392902467124084083'], kwargs=None)], '-2233103654628883732': ['2125', CallNode(function='Abstraction.__call__', type_params={'U': DeclaredTypeInstance(type='Abstraction', params={'U': DeclaredTypeInstance(type='Integer', params=None), 'T': DeclaredTypeInstance(type='Integer', params=None)}), 'T': DeclaredTypeInstance(type='Integer', params=None)}, args=['-302408779686132915', '7392902467124084083'], kwargs=None)], '-1299908754583128688': ['2128', CallNode(function='Integer.__add__', type_params=None, args=['3328637645628897464', '7392902467124084083'], kwargs=None)], '-5277747147447870579': ['2129', CallNode(function='Abstraction.__call__', type_params={'U': DeclaredTypeInstance(type='Integer', params=None), 'T': DeclaredTypeInstance(type='Integer', params=None)}, args=['-2233103654628883732', '-1299908754583128688'], kwargs=None)], '-3322821029160146153': ['2131', CallNode(function='Boolean.if_', type_params=None, args=['-810539374333043576', '7392902467124084083', '3328637645628897464'], kwargs=None)], '-1672923674398721790': ['4', CallNode(function='Boolean.if_', type_params=None, args=['-6951288059290601538', '-5277747147447870579', '-3322821029160146153'], kwargs=None)], '4535344282439453818': ['2131', CallNode(function='Boolean.if_', type_params=None, args=['1321722653791223987', '7392902467124084083', '3328637645628897464'], kwargs=None)], '-3063619287185040911': ['4', CallNode(function='Boolean.if_', type_params=None, args=['-6951288059290601538', '-5277747147447870579', '4535344282439453818'], kwargs=None)], '-8383708108278929694': ['4', CallNode(function='Boolean.if_', type_params=None, args=['-6951288059290601538', '-5277747147447870579', '7392902467124084083'], kwargs=None)], '-5077450201735951816': ['2133', PrimitiveNode(type='int', repr='89')], '933942754615338529': ['2128', CallNode(function='Integer.from_int', type_params=None, args=['-5077450201735951816'], kwargs=None)], '5718085791749758998': ['2129', CallNode(function='Abstraction.__call__', type_params={'U': DeclaredTypeInstance(type='Integer', params=None), 'T': DeclaredTypeInstance(type='Integer', params=None)}, args=['-2233103654628883732', '933942754615338529'], kwargs=None)], '-5797690942663528579': ['4', CallNode(function='Boolean.if_', type_params=None, args=['-6951288059290601538', '5718085791749758998', '7392902467124084083'], kwargs=None)], '2925092785501076476': ['2122', CallNode(function='Abstraction.__call__', type_params={'U': DeclaredTypeInstance(type='Abstraction', params={'U': DeclaredTypeInstance(type='Abstraction', params={'U': DeclaredTypeInstance(type='Integer', params=None), 'T': DeclaredTypeInstance(type='Integer', params=None)}), 'T': DeclaredTypeInstance(type='Integer', params=None)}), 'T': DeclaredTypeInstance(type='Integer', params=None)}, args=['560823455631952198', '8266129563128831658'], kwargs=None)], '4626382783488220444': ['2125', CallNode(function='Abstraction.__call__', type_params={'U': DeclaredTypeInstance(type='Abstraction', params={'U': DeclaredTypeInstance(type='Integer', params=None), 'T': DeclaredTypeInstance(type='Integer', params=None)}), 'T': DeclaredTypeInstance(type='Integer', params=None)}, args=['2925092785501076476', '7392902467124084083'], kwargs=None)], '5991901416660653352': ['2129', CallNode(function='Abstraction.__call__', type_params={'U': DeclaredTypeInstance(type='Integer', params=None), 'T': DeclaredTypeInstance(type='Integer', params=None)}, args=['4626382783488220444', '933942754615338529'], kwargs=None)], '-8830800814023513745': ['4', CallNode(function='Boolean.if_', type_params=None, args=['-6951288059290601538', '5991901416660653352', '7392902467124084083'], kwargs=None)], '6630858885558696220': ['4', CallNode(function='Boolean.if_', type_params=None, args=['6321508888815918528', '5991901416660653352', '7392902467124084083'], kwargs=None)]}, states=States(initial='-8116445846070906171', states=[State(node='8773600739241866994', rule='metadsl_core.function.FunctionOne.from_fn', label=None), State(node='-1455154277302879003', rule='metadsl_core.abstraction.Abstraction.from_fn', label=None), State(node='-7510803110236166414', rule='metadsl_core.function.FunctionThree.from_fn_recursive', label=None), State(node='5010780093411592996', rule='metadsl_core.abstraction.Abstraction.from_fn', label=None), State(node='-9093080927041791942', rule='metadsl_core.abstraction.Abstraction.from_fn', label=None), State(node='8867098174384062227', rule='metadsl_core.abstraction.Abstraction.from_fn', label=None), State(node='-7311898625197263072', rule='metadsl_core.abstraction.Abstraction.from_fn', label=None), State(node='-6951026891768518467', rule='metadsl_core.function.one_call', label=None), State(node='531194929989061776', rule='metadsl_core.function.one_abstraction', label=None), State(node='-5076727890713915745', rule='metadsl_core.abstraction.beta_reduce', label=None), State(node='5172691056522701498', rule='metadsl_core.function.three_call', label=None), State(node='-8550369580410916179', rule='metadsl_core.function.three_abstraction', label=None), State(node='-2957265406751586943', rule='metadsl_core.function.three_call', label=None), State(node='-6625240827356721842', rule='metadsl_core.function.three_abstraction', label=None), State(node='-6625240827356721842', rule='', label='core'), State(node='-7497714223547366321', rule='metadsl_core.abstraction.Abstraction.fix', label=None), State(node='-1661739059553963986', rule='metadsl_core.abstraction.beta_reduce', label=None), State(node='-1004246607549958434', rule='metadsl_core.abstraction.beta_reduce', label=None), State(node='-280097177963715201', rule='metadsl_core.abstraction.beta_reduce', label=None), State(node='296071040362513613', rule='metadsl_core.abstraction.beta_reduce', label=None), State(node='754211985795393358', rule='metadsl_core.integer.integer_comparison', label=None), State(node='4333076488454737185', rule='metadsl_core.boolean.if_', label=None), State(node='6087141743463641918', rule='metadsl_core.integer.integer_math', label=None), State(node='-8610589663044156307', rule='metadsl_core.integer.integer_math', label=None), State(node='-3955051663883613512', rule='metadsl_core.integer.integer_comparison', label=None), State(node='-7764589128205958593', rule='metadsl_core.boolean.if_', label=None), State(node='-7764589128205958593', rule='', label='core'), State(node='-1175421402609434425', rule='metadsl_core.abstraction.Abstraction.fix', label=None), State(node='-8026712068129754069', rule='metadsl_core.abstraction.beta_reduce', label=None), State(node='-1431991138246138060', rule='metadsl_core.abstraction.beta_reduce', label=None), State(node='-6910040230053943196', rule='metadsl_core.abstraction.beta_reduce', label=None), State(node='-1712256061507382434', rule='metadsl_core.abstraction.beta_reduce', label=None), State(node='-7733025434501272912', rule='metadsl_core.integer.integer_comparison', label=None), State(node='5607189250046715943', rule='metadsl_core.boolean.if_', label=None), State(node='5868669386243221683', rule='metadsl_core.integer.integer_math', label=None), State(node='-2661140851021651882', rule='metadsl_core.integer.integer_math', label=None), State(node='-2771380547575644959', rule='metadsl_core.integer.integer_comparison', label=None), State(node='6438537617793295059', rule='metadsl_core.boolean.if_', label=None), State(node='6438537617793295059', rule='', label='core'), State(node='-913218668510489114', rule='metadsl_core.abstraction.Abstraction.fix', label=None), State(node='4788533924726486684', rule='metadsl_core.abstraction.beta_reduce', label=None), State(node='6578170591242507024', rule='metadsl_core.abstraction.beta_reduce', label=None), State(node='-5688227018221168063', rule='metadsl_core.abstraction.beta_reduce', label=None), State(node='2999920312870747912', rule='metadsl_core.abstraction.beta_reduce', label=None), State(node='2307392500392344611', rule='metadsl_core.integer.integer_comparison', label=None), State(node='8969035901335732282', rule='metadsl_core.boolean.if_', label=None), State(node='4677544324427469785', rule='metadsl_core.integer.integer_math', label=None), State(node='6492341932813173705', rule='metadsl_core.integer.integer_math', label=None), State(node='-6433039568627941057', rule='metadsl_core.integer.integer_comparison', label=None), State(node='8336371369559552572', rule='metadsl_core.boolean.if_', label=None), State(node='8336371369559552572', rule='', label='core'), State(node='5409588244739586879', rule='metadsl_core.abstraction.Abstraction.fix', label=None), State(node='1311914884426379226', rule='metadsl_core.abstraction.beta_reduce', label=None), State(node='6995862154725320622', rule='metadsl_core.abstraction.beta_reduce', label=None), State(node='279229843076106130', rule='metadsl_core.abstraction.beta_reduce', label=None), State(node='961630583575222328', rule='metadsl_core.abstraction.beta_reduce', label=None), State(node='8706402180796205000', rule='metadsl_core.integer.integer_comparison', label=None), State(node='-6861560660440697336', rule='metadsl_core.boolean.if_', label=None), State(node='3550095921293099265', rule='metadsl_core.integer.integer_math', label=None), State(node='8379259154227753368', rule='metadsl_core.integer.integer_math', label=None), State(node='1550817666979442994', rule='metadsl_core.integer.integer_comparison', label=None), State(node='8035427803785156047', rule='metadsl_core.boolean.if_', label=None), State(node='8035427803785156047', rule='', label='core'), State(node='5381401001633374149', rule='metadsl_core.abstraction.Abstraction.fix', label=None), State(node='953692273204370666', rule='metadsl_core.abstraction.beta_reduce', label=None), State(node='-147426409985855627', rule='metadsl_core.abstraction.beta_reduce', label=None), State(node='-3421636274071388720', rule='metadsl_core.abstraction.beta_reduce', label=None), State(node='-3018917905739980852', rule='metadsl_core.abstraction.beta_reduce', label=None), State(node='-2737723157984854121', rule='metadsl_core.integer.integer_comparison', label=None), State(node='-6204855144531354183', rule='metadsl_core.boolean.if_', label=None), State(node='3586394300297348990', rule='metadsl_core.integer.integer_math', label=None), State(node='-6951123171904970619', rule='metadsl_core.integer.integer_math', label=None), State(node='-9152255430083111256', rule='metadsl_core.integer.integer_comparison', label=None), State(node='-6219751249766497992', rule='metadsl_core.boolean.if_', label=None), State(node='-6219751249766497992', rule='', label='core'), State(node='4483633870408744868', rule='metadsl_core.abstraction.Abstraction.fix', label=None), State(node='-5754315939870985477', rule='metadsl_core.abstraction.beta_reduce', label=None), State(node='-4243314820986609143', rule='metadsl_core.abstraction.beta_reduce', label=None), State(node='-791080832611264274', rule='metadsl_core.abstraction.beta_reduce', label=None), State(node='1123399907041318307', rule='metadsl_core.abstraction.beta_reduce', label=None), State(node='261371141634385456', rule='metadsl_core.integer.integer_comparison', label=None), State(node='1942822037231683373', rule='metadsl_core.boolean.if_', label=None), State(node='3615248622285942853', rule='metadsl_core.integer.integer_math', label=None), State(node='3614848320306444792', rule='metadsl_core.integer.integer_math', label=None), State(node='5694519351722576168', rule='metadsl_core.integer.integer_comparison', label=None), State(node='383714339998150731', rule='metadsl_core.boolean.if_', label=None), State(node='383714339998150731', rule='', label='core'), State(node='-1426295708692493639', rule='metadsl_core.abstraction.Abstraction.fix', label=None), State(node='6676881333133958882', rule='metadsl_core.abstraction.beta_reduce', label=None), State(node='-7441735551831453783', rule='metadsl_core.abstraction.beta_reduce', label=None), State(node='-7842067995882861556', rule='metadsl_core.abstraction.beta_reduce', label=None), State(node='-2702557499059679692', rule='metadsl_core.abstraction.beta_reduce', label=None), State(node='-9166909322311612472', rule='metadsl_core.integer.integer_comparison', label=None), State(node='-1491659118260489075', rule='metadsl_core.boolean.if_', label=None), State(node='7137142605365310900', rule='metadsl_core.integer.integer_math', label=None), State(node='7614617772478806044', rule='metadsl_core.integer.integer_math', label=None), State(node='-1482474538857235343', rule='metadsl_core.integer.integer_comparison', label=None), State(node='7480348371987009566', rule='metadsl_core.boolean.if_', label=None), State(node='7480348371987009566', rule='', label='core'), State(node='-8159959248220056702', rule='metadsl_core.abstraction.Abstraction.fix', label=None), State(node='-2056005443075254490', rule='metadsl_core.abstraction.beta_reduce', label=None), State(node='-4614975930180568821', rule='metadsl_core.abstraction.beta_reduce', label=None), State(node='-641385849391593127', rule='metadsl_core.abstraction.beta_reduce', label=None), State(node='-2981783927078027337', rule='metadsl_core.abstraction.beta_reduce', label=None), State(node='-2280173650737524621', rule='metadsl_core.integer.integer_comparison', label=None), State(node='3347703213419448133', rule='metadsl_core.boolean.if_', label=None), State(node='-6685418151069889607', rule='metadsl_core.integer.integer_math', label=None), State(node='-2354252986819779049', rule='metadsl_core.integer.integer_math', label=None), State(node='2714186375538812207', rule='metadsl_core.integer.integer_comparison', label=None), State(node='-246565496540427672', rule='metadsl_core.boolean.if_', label=None), State(node='-246565496540427672', rule='', label='core'), State(node='1703992945121825963', rule='metadsl_core.abstraction.Abstraction.fix', label=None), State(node='7685973006636850346', rule='metadsl_core.abstraction.beta_reduce', label=None), State(node='4719944396817939550', rule='metadsl_core.abstraction.beta_reduce', label=None), State(node='149270384740622389', rule='metadsl_core.abstraction.beta_reduce', label=None), State(node='6541655153912888183', rule='metadsl_core.abstraction.beta_reduce', label=None), State(node='-9051778353687612959', rule='metadsl_core.integer.integer_comparison', label=None), State(node='2431803466071441833', rule='metadsl_core.boolean.if_', label=None), State(node='-732316379779617445', rule='metadsl_core.integer.integer_math', label=None), State(node='-42827837141343569', rule='metadsl_core.integer.integer_math', label=None), State(node='5717695590859629976', rule='metadsl_core.integer.integer_comparison', label=None), State(node='1697458433628724164', rule='metadsl_core.boolean.if_', label=None), State(node='1697458433628724164', rule='', label='core'), State(node='-9035613198182849844', rule='metadsl_core.abstraction.Abstraction.fix', label=None), State(node='-4007718426116499557', rule='metadsl_core.abstraction.beta_reduce', label=None), State(node='4817612301529815129', rule='metadsl_core.abstraction.beta_reduce', label=None), State(node='6083896384076939935', rule='metadsl_core.abstraction.beta_reduce', label=None), State(node='-1672923674398721790', rule='metadsl_core.abstraction.beta_reduce', label=None), State(node='-3063619287185040911', rule='metadsl_core.integer.integer_comparison', label=None), State(node='-8383708108278929694', rule='metadsl_core.boolean.if_', label=None), State(node='-5797690942663528579', rule='metadsl_core.integer.integer_math', label=None), State(node='-8830800814023513745', rule='metadsl_core.integer.integer_math', label=None), State(node='6630858885558696220', rule='metadsl_core.integer.integer_comparison', label=None), State(node='7392902467124084083', rule='metadsl_core.boolean.if_', label=None), State(node='7392902467124084083', rule='', label='core')]))"
      ]
     },
     "metadata": {},
     "output_type": "display_data"
    }
   ],
   "source": [
    "fib(Integer.from_int(10))"
   ]
  },
  {
   "cell_type": "code",
   "execution_count": null,
   "metadata": {},
   "outputs": [],
   "source": []
  }
 ],
 "metadata": {
  "kernelspec": {
   "display_name": "Python 3",
   "language": "python",
   "name": "python3"
  },
  "language_info": {
   "codemirror_mode": {
    "name": "ipython",
    "version": 3
   },
   "file_extension": ".py",
   "mimetype": "text/x-python",
   "name": "python",
   "nbconvert_exporter": "python",
   "pygments_lexer": "ipython3",
   "version": "3.7.3"
  }
 },
 "nbformat": 4,
 "nbformat_minor": 4
}
