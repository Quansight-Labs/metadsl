{
 "cells": [
  {
   "cell_type": "markdown",
   "metadata": {},
   "source": [
    "# Tests\n",
    "In this notebook, we run our `pytest` test suite. Why would we run this in a notebook not from the command line? Because then  we can visualize the replacemnts as they happen for debugging"
   ]
  },
  {
   "cell_type": "code",
   "execution_count": 1,
   "metadata": {},
   "outputs": [
    {
     "name": "stdout",
     "output_type": "stream",
     "text": [
      "==================================================== test session starts =====================================================\n",
      "platform darwin -- Python 3.8.0, pytest-5.3.1, py-1.8.0, pluggy-0.13.1 -- /usr/local/Caskroom/miniconda/base/envs/metadsl/bin/python\n",
      "cachedir: .pytest_cache\n",
      "rootdir: /Users/saul/p/metadsl, inifile: pytest.ini\n",
      "plugins: xdist-1.30.0, metadsl_visualize-0.1.0, cov-2.8.1\n",
      "collecting ... collected 1 item\n",
      "\n",
      "../metadsl_llvm/integration_test.py::test_add "
     ]
    },
    {
     "data": {
      "application/x.typez+json": {
       "nodes": {
        "-1039874051364341337": [
         "79",
         {
          "args": [
           "3827978554299007989",
           "4620233652756423149"
          ],
          "function": "ExecutionEngine.get_function_address"
         }
        ],
        "-106782581593263440": [
         "75",
         {
          "args": [
           "2216966980637285217",
           "-2875747113732640390"
          ],
          "function": "ModuleRef.optimize"
         }
        ],
        "-1100198686683696674": [
         "140",
         {
          "args": [
           "4794575255297265057"
          ],
          "function": "Pair.left",
          "type_params": {
           "T": {
            "type": "FunctionBuilder"
           },
           "U": {
            "type": "BlockBuilder"
           }
          }
         }
        ],
        "-1112731901265873131": [
         "33",
         {
          "args": [
           "4611151268333121164",
           "-3245265910568606575"
          ],
          "function": "CFunctionType.__call__"
         }
        ],
        "-1122254114546425322": [
         "79",
         {
          "args": [
           "-4467679232896839012",
           "-3824478070956266198"
          ],
          "function": "ExecutionEngine.get_function_address"
         }
        ],
        "-1137113470731642378": [
         "117",
         {
          "args": [
           "-6611303663720203304",
           "6118771839815715112"
          ],
          "function": "BlockBuilder.ret"
         }
        ],
        "-1142548508375951181": [
         "157",
         {
          "args": [
           "4849141869152655527"
          ],
          "function": "Pair.right",
          "type_params": {
           "T": {
            "type": "ModuleBuilder"
           },
           "U": {
            "type": "FunctionBuilder"
           }
          }
         }
        ],
        "-1211800357204194198": [
         "72",
         {
          "args": [
           "1384074109445627179",
           "5727837545503377346"
          ],
          "function": "Module.create"
         }
        ],
        "-1238356756396065246": [
         "115",
         {
          "args": [
           "8328537902622743377"
          ],
          "function": "Pair.left",
          "type_params": {
           "T": {
            "type": "BlockBuilder"
           },
           "U": {
            "type": "Value"
           }
          }
         }
        ],
        "-1301953925308917193": [
         "74",
         {
          "args": [
           "5191582222642432341"
          ],
          "function": "ModuleRef.create"
         }
        ],
        "-1306471267931645005": [
         "172",
         {
          "args": [
           "-6333230241243080544"
          ],
          "function": "Value.box"
         }
        ],
        "-1336595554791218804": [
         "73",
         {
          "args": [
           "5281924961365383336"
          ],
          "function": "Module.to_string"
         }
        ],
        "-1453992371539979202": [
         "213",
         {
          "repr": "<class 'ctypes.CFUNCTYPE.<locals>.CFunctionType'>",
          "type": "PyCFuncPtrType"
         }
        ],
        "-1468275687401998537": [
         "120",
         {
          "args": [
           "7637063009693252296"
          ],
          "function": "Pair.right",
          "type_params": {
           "T": {
            "type": "ModuleBuilder"
           },
           "U": {
            "type": "Function"
           }
          }
         }
        ],
        "-1480107052648194190": [
         "71",
         {
          "args": [
           "-4006381155866143156",
           "2387313508163204485"
          ],
          "function": "Vec.create"
         }
        ],
        "-1486782896969937808": [
         "46",
         {
          "args": [
           "-2456040948782538201"
          ],
          "function": "Pair.left",
          "type_params": {
           "T": {
            "type": "ModuleBuilder"
           },
           "U": {
            "type": "FunctionBuilder"
           }
          }
         }
        ],
        "-1500290745857321192": [
         "75",
         {
          "args": [
           "-8606292898038899109",
           "-2875747113732640390"
          ],
          "function": "ModuleRef.optimize"
         }
        ],
        "-1594775518013570629": [
         "76",
         {
          "args": [
           "-3225538801176321356"
          ],
          "function": "ExecutionEngine.create"
         }
        ],
        "-1625024887734732800": [
         "203",
         {
          "args": [
           "7659607200732054834"
          ],
          "function": "Value.box"
         }
        ],
        "-1633475035418318727": [
         "75",
         {
          "args": [
           "-4402928733070000338",
           "-2875747113732640390"
          ],
          "function": "ModuleRef.optimize"
         }
        ],
        "-1646197316688867437": [
         "33",
         {
          "args": [
           "4611151268333121164",
           "6758556889230685697"
          ],
          "function": "CFunctionType.__call__"
         }
        ],
        "-1655013738410447605": [
         "155",
         {
          "args": [
           "1067033674993709082",
           "-6382366759138667872",
           "-3852039776920631331",
           "198959599831326067"
          ],
          "function": "FunctionBuilder.create"
         }
        ],
        "-1681914072630590589": [
         "76",
         {
          "args": [
           "-1500290745857321192"
          ],
          "function": "ExecutionEngine.create"
         }
        ],
        "-1695764286796673477": [
         "208",
         {
          "repr": "; ModuleID = \"add\"\ntarget triple = \"unknown-unknown-unknown\"\ntarget datalayout = \"\"\n\ndefine fastcc i32 @\"add\"(i32 %\".1\", i32 %\".2\") \n{\nentry:\n  %\".4\" = add i32 %\".1\", %\".2\"\n  %\".5\" = add i32 %\".4\", 1\n  ret i32 %\".5\"\n}\n\ndefine i32 @\"entry_add\"(i32 %\".1\", i32 %\".2\") \n{\nentry:\n  %\".4\" = call fastcc i32 @\"add\"(i32 %\".1\", i32 %\".2\")\n  ret i32 %\".4\"\n}\n",
          "type": "Module"
         }
        ],
        "-1713550833117965285": [
         "76",
         {
          "args": [
           "-366582185765909922"
          ],
          "function": "ExecutionEngine.create"
         }
        ],
        "-1746860293695875628": [
         "79",
         {
          "args": [
           "7250690002013030237",
           "8342746578518607463"
          ],
          "function": "ExecutionEngine.get_function_address"
         }
        ],
        "-1806691734274519814": [
         "33",
         {
          "args": [
           "4611151268333121164",
           "-339570468709599753"
          ],
          "function": "CFunctionType.__call__"
         }
        ],
        "-1825338716198958220": [
         "117",
         {
          "args": [
           "-5536952608420895087",
           "-1625024887734732800"
          ],
          "function": "BlockBuilder.ret"
         }
        ],
        "-1884523953794584948": [
         "72",
         {
          "args": [
           "1384074109445627179",
           "5546547979392609240"
          ],
          "function": "Module.create"
         }
        ],
        "-1913462708342948649": [
         "146",
         {
          "args": [
           "-8567539862550882780",
           "4162535640985035636"
          ],
          "function": "BlockBuilder.ret"
         }
        ],
        "-1922121412041949354": [
         "74",
         {
          "args": [
           "-7021715923231144620"
          ],
          "function": "ModuleRef.create"
         }
        ],
        "-2000791514985616342": [
         "73",
         {
          "args": [
           "-2729666616129826691"
          ],
          "function": "Module.to_string"
         }
        ],
        "-2050075945721307550": [
         "118",
         {
          "args": [
           "-4894208016128597282"
          ],
          "function": "Vec.create"
         }
        ],
        "-2064765290878346623": [
         "33",
         {
          "args": [
           "4611151268333121164",
           "-2903942129089157999"
          ],
          "function": "CFunctionType.__call__"
         }
        ],
        "-2162057918862317750": [
         "117",
         {
          "args": [
           "-952508131219236239",
           "-509639126387951568"
          ],
          "function": "BlockBuilder.ret"
         }
        ],
        "-2240030504244369033": [
         "33",
         {
          "args": [
           "4611151268333121164",
           "-4458975446397404355"
          ],
          "function": "CFunctionType.__call__"
         }
        ],
        "-2248837152917062100": [
         "71",
         {
          "args": [
           "-8613425278206524268",
           "-3628407119268440404"
          ],
          "function": "Vec.create"
         }
        ],
        "-2273337674753710205": [
         "116",
         {
          "args": [
           "2782354079551107365"
          ],
          "function": "Pair.right",
          "type_params": {
           "T": {
            "type": "BlockBuilder"
           },
           "U": {
            "type": "Value"
           }
          }
         }
        ],
        "-2334343212438633909": [
         "74",
         {
          "args": [
           "4692230106507536099"
          ],
          "function": "ModuleRef.create"
         }
        ],
        "-233498181631277125": [
         "46",
         {
          "args": [
           "4007988404712414703"
          ],
          "function": "Pair.left",
          "type_params": {
           "T": {
            "type": "ModuleBuilder"
           },
           "U": {
            "type": "FunctionBuilder"
           }
          }
         }
        ],
        "-239155450465901215": [
         "74",
         {
          "args": [
           "8434382375997535498"
          ],
          "function": "ModuleRef.create"
         }
        ],
        "-2396633751784687127": [
         "46",
         {
          "args": [
           "4769776937195401455"
          ],
          "function": "Pair.left",
          "type_params": {
           "T": {
            "type": "ModuleBuilder"
           },
           "U": {
            "type": "FunctionBuilder"
           }
          }
         }
        ],
        "-2425312999352833278": [
         "115",
         {
          "args": [
           "3961905689018463310"
          ],
          "function": "Pair.left",
          "type_params": {
           "T": {
            "type": "BlockBuilder"
           },
           "U": {
            "type": "Value"
           }
          }
         }
        ],
        "-2434564936645835772": [
         "72",
         {
          "args": [
           "1384074109445627179",
           "8930821348456656661"
          ],
          "function": "Module.create"
         }
        ],
        "-2456040948782538201": [
         "163",
         {
          "args": [
           "397755043729386369",
           "-288593990817465293",
           "8458824072032212400",
           "-7025864216202428048"
          ],
          "function": "FunctionBuilder.create"
         }
        ],
        "-2461098623686363971": [
         "142",
         {
          "args": [
           "-5408874070266782417"
          ],
          "function": "FunctionBuilder.arguments"
         }
        ],
        "-2465690818826703473": [
         "77",
         {
          "args": [
           "3559084881515566894"
          ],
          "function": "Function.builder"
         }
        ],
        "-2466451985888907290": [
         "71",
         {
          "args": [
           "-4751528613312917507",
           "-8457422009605128360"
          ],
          "function": "Vec.create"
         }
        ],
        "-2493353301703271655": [
         "72",
         {
          "args": [
           "1384074109445627179",
           "4313190877549965634"
          ],
          "function": "Module.create"
         }
        ],
        "-2508261633584657118": [
         "74",
         {
          "args": [
           "9191355211071257981"
          ],
          "function": "ModuleRef.create"
         }
        ],
        "-2512574757142937612": [
         "76",
         {
          "args": [
           "6032599995307813148"
          ],
          "function": "ExecutionEngine.create"
         }
        ],
        "-258671823125383050": [
         "114",
         {
          "args": [
           "3330103838106318097",
           "3772972842937602768",
           "1299702581176293200"
          ],
          "function": "BlockBuilder.add"
         }
        ],
        "-2607978016446641909": [
         "73",
         {
          "args": [
           "4438116854859798480"
          ],
          "function": "Module.to_string"
         }
        ],
        "-2639629708311320764": [
         "75",
         {
          "args": [
           "-2690179634851659724",
           "-2875747113732640390"
          ],
          "function": "ModuleRef.optimize"
         }
        ],
        "-265524059974138304": [
         "144",
         {
          "args": [
           "-6819165258537119751"
          ],
          "function": "Pair.left",
          "type_params": {
           "T": {
            "type": "BlockBuilder"
           },
           "U": {
            "type": "Value"
           }
          }
         }
        ],
        "-2671880934185116958": [
         "72",
         {
          "args": [
           "7673588058917032260",
           "-2903129110862737219"
          ],
          "function": "Module.create"
         }
        ],
        "-2686853019559491957": [
         "112",
         {
          "args": [
           "4543062501790561193"
          ],
          "function": "Pair.right",
          "type_params": {
           "T": {
            "type": "BlockBuilder"
           },
           "U": {
            "type": "Value"
           }
          }
         }
        ],
        "-2690179634851659724": [
         "74",
         {
          "args": [
           "-3858334471422517901"
          ],
          "function": "ModuleRef.create"
         }
        ],
        "-2694625138076449296": [
         "79",
         {
          "args": [
           "-1713550833117965285",
           "7681621932254222815"
          ],
          "function": "ExecutionEngine.get_function_address"
         }
        ],
        "-2716206679584994876": [
         "115",
         {
          "args": [
           "2782354079551107365"
          ],
          "function": "Pair.left",
          "type_params": {
           "T": {
            "type": "BlockBuilder"
           },
           "U": {
            "type": "Value"
           }
          }
         }
        ],
        "-2722635904436527254": [
         "147",
         {
          "args": [
           "8047929947529397150"
          ],
          "function": "Vec.create"
         }
        ],
        "-2729666616129826691": [
         "72",
         {
          "args": [
           "1384074109445627179",
           "-8160800965535985815"
          ],
          "function": "Module.create"
         }
        ],
        "-2750544034334797942": [
         "33",
         {
          "args": [
           "4611151268333121164",
           "4658081436559941215"
          ],
          "function": "CFunctionType.__call__"
         }
        ],
        "-2765593911803057910": [
         "187",
         {
          "repr": "i32 %\".2\"",
          "type": "Argument"
         }
        ],
        "-2776744315412226608": [
         "76",
         {
          "args": [
           "-5170469076439960576"
          ],
          "function": "ExecutionEngine.create"
         }
        ],
        "-280961352968022368": [
         "76",
         {
          "args": [
           "-5584435222808686125"
          ],
          "function": "ExecutionEngine.create"
         }
        ],
        "-2868983305302100551": [
         "199",
         {
          "repr": "<llvmlite.ir.builder.IRBuilder object at 0x7fe3284c9d60>",
          "type": "IRBuilder"
         }
        ],
        "-2875747113732640390": [
         "107",
         {
          "repr": "1",
          "type": "int"
         }
        ],
        "-288593990817465293": [
         "153",
         {
          "args": [
           "9210489444517995268",
           "9210489444517995268",
           "9210489444517995268"
          ],
          "function": "FunctionType.create"
         }
        ],
        "-2902389873660933596": [
         "148",
         {
          "args": [
           "6330560636470525092",
           "-2921931409068924297"
          ],
          "function": "Function.create"
         }
        ],
        "-2903129110862737219": [
         "71",
         {
          "args": [
           "7104743707725161299",
           "378916728778156861"
          ],
          "function": "Vec.create"
         }
        ],
        "-2903942129089157999": [
         "79",
         {
          "args": [
           "3318571110324240328",
           "-6214699508159069552"
          ],
          "function": "ExecutionEngine.get_function_address"
         }
        ],
        "-2921931409068924297": [
         "147",
         {
          "args": [
           "6405061915001130614"
          ],
          "function": "Vec.create"
         }
        ],
        "-2940993248055319999": [
         "102",
         {
          "args": [
           "-858936382931220437"
          ],
          "function": "Pair.right",
          "type_params": {
           "T": {
            "type": "FunctionBuilder"
           },
           "U": {
            "type": "BlockBuilder"
           }
          }
         }
        ],
        "-2957979112219236327": [
         "72",
         {
          "args": [
           "1381632287106762864",
           "-7102000906721930457"
          ],
          "function": "Module.create"
         }
        ],
        "-2969888460218800310": [
         "76",
         {
          "args": [
           "2515697879257382616"
          ],
          "function": "ExecutionEngine.create"
         }
        ],
        "-2989758483961390442": [
         "33",
         {
          "args": [
           "4611151268333121164",
           "3019979956112647431"
          ],
          "function": "CFunctionType.__call__"
         }
        ],
        "-3057721082920351613": [
         "72",
         {
          "args": [
           "-1695764286796673477"
          ],
          "function": "Module.box"
         }
        ],
        "-3075629453513793981": [
         "79",
         {
          "args": [
           "8113260162548276665",
           "8342746578518607463"
          ],
          "function": "ExecutionEngine.get_function_address"
         }
        ],
        "-3081389068083354389": [
         "148",
         {
          "args": [
           "-8161108391907734589"
          ],
          "function": "Function.box"
         }
        ],
        "-3086180010448820060": [
         "75",
         {
          "args": [
           "5581033169307904587",
           "-2875747113732640390"
          ],
          "function": "ModuleRef.optimize"
         }
        ],
        "-3129722024390776628": [
         "111",
         {
          "args": [
           "4543062501790561193"
          ],
          "function": "Pair.left",
          "type_params": {
           "T": {
            "type": "BlockBuilder"
           },
           "U": {
            "type": "Value"
           }
          }
         }
        ],
        "-3187110031684467245": [
         "33",
         {
          "args": [
           "4611151268333121164",
           "-1039874051364341337"
          ],
          "function": "CFunctionType.__call__"
         }
        ],
        "-3208727763947239107": [
         "72",
         {
          "args": [
           "4529417730683882927",
           "-8232450333267291181"
          ],
          "function": "Module.create"
         }
        ],
        "-3225538801176321356": [
         "75",
         {
          "args": [
           "-2334343212438633909",
           "-2875747113732640390"
          ],
          "function": "ModuleRef.optimize"
         }
        ],
        "-3245265910568606575": [
         "79",
         {
          "args": [
           "-6941331448813036041",
           "3608397908703833284"
          ],
          "function": "ExecutionEngine.get_function_address"
         }
        ],
        "-3255918295048247866": [
         "117",
         {
          "args": [
           "-4603547007491538170",
           "-4160678002660253499"
          ],
          "function": "BlockBuilder.ret"
         }
        ],
        "-3258185242874950247": [
         "143",
         {
          "args": [
           "1966935900301724544",
           "-8965620968903673144",
           "-2461098623686363971"
          ],
          "function": "BlockBuilder.call"
         }
        ],
        "-3296172865138165790": [
         "73",
         {
          "args": [
           "6528326842513997946"
          ],
          "function": "Module.to_string"
         }
        ],
        "-3332205877671161440": [
         "73",
         {
          "args": [
           "8228503204864133342"
          ],
          "function": "Module.to_string"
         }
        ],
        "-3347149746272363124": [
         "33",
         {
          "args": [
           "4611151268333121164",
           "-4298237498886156264"
          ],
          "function": "CFunctionType.__call__"
         }
        ],
        "-3386254565486465697": [
         "74",
         {
          "args": [
           "-7655791678690771667"
          ],
          "function": "ModuleRef.create"
         }
        ],
        "-3390310291518549008": [
         "75",
         {
          "args": [
           "-2508261633584657118",
           "-2875747113732640390"
          ],
          "function": "ModuleRef.optimize"
         }
        ],
        "-3392655205163427901": [
         "74",
         {
          "args": [
           "1702688136869546532"
          ],
          "function": "ModuleRef.create"
         }
        ],
        "-339570468709599753": [
         "79",
         {
          "args": [
           "-5957070949827954075",
           "7681621932254222815"
          ],
          "function": "ExecutionEngine.get_function_address"
         }
        ],
        "-3409222458938290896": [
         "72",
         {
          "args": [
           "1384074109445627179",
           "-6545793843330198581"
          ],
          "function": "Module.create"
         }
        ],
        "-3412709832405550461": [
         "119",
         {
          "args": [
           "-8965620968903673144",
           "7617374406129211343"
          ],
          "function": "Function.create"
         }
        ],
        "-3456594742513068271": [
         "106",
         {
          "args": [
           "-5998022707501281070",
           "719411598118275193"
          ],
          "function": "Vec.__getitem__",
          "type_params": {
           "T": {
            "type": "Value"
           }
          }
         }
        ],
        "-3518325887057290634": [
         "75",
         {
          "args": [
           "7539403764853213942",
           "-2875747113732640390"
          ],
          "function": "ModuleRef.optimize"
         }
        ],
        "-3555317221755694094": [
         "118",
         {
          "args": [
           "2315040298330794051"
          ],
          "function": "Vec.create"
         }
        ],
        "-3563907223293142238": [
         "76",
         {
          "args": [
           "5492503375990345066"
          ],
          "function": "ExecutionEngine.create"
         }
        ],
        "-3569306199238231989": [
         "102",
         {
          "args": [
           "3687545586826997934"
          ],
          "function": "Pair.right",
          "type_params": {
           "T": {
            "type": "FunctionBuilder"
           },
           "U": {
            "type": "BlockBuilder"
           }
          }
         }
        ],
        "-3614823371080358347": [
         "146",
         {
          "args": [
           "4431236575811268574",
           "4874105580642553245"
          ],
          "function": "BlockBuilder.ret"
         }
        ],
        "-3623265144148711675": [
         "33",
         {
          "args": [
           "4611151268333121164",
           "2759996920588856231"
          ],
          "function": "CFunctionType.__call__"
         }
        ],
        "-3624725312189489213": [
         "115",
         {
          "args": [
           "-8679393646428090945"
          ],
          "function": "Pair.left",
          "type_params": {
           "T": {
            "type": "BlockBuilder"
           },
           "U": {
            "type": "Value"
           }
          }
         }
        ],
        "-3628407119268440404": [
         "148",
         {
          "args": [
           "3767887897527053750",
           "-7812982631025007884"
          ],
          "function": "Function.create"
         }
        ],
        "-3654092313930957340": [
         "72",
         {
          "args": [
           "1384074109445627179",
           "-8582446287298620860"
          ],
          "function": "Module.create"
         }
        ],
        "-366582185765909922": [
         "75",
         {
          "args": [
           "-7370860615221146305"
          ],
          "function": "ModuleRef.box"
         }
        ],
        "-3669318660126744830": [
         "112",
         {
          "args": [
           "6084490878735428830"
          ],
          "function": "Pair.right",
          "type_params": {
           "T": {
            "type": "BlockBuilder"
           },
           "U": {
            "type": "Value"
           }
          }
         }
        ],
        "-3672572165328334450": [
         "183",
         {
          "repr": "i32 %\".1\"",
          "type": "Argument"
         }
        ],
        "-3722563997917641281": [
         "101",
         {
          "args": [
           "3854549401785218970",
           "-1142548508375951181"
          ],
          "function": "BlockBuilder.create"
         }
        ],
        "-3781603251190124333": [
         "79",
         {
          "args": [
           "-2512574757142937612",
           "-3956607961551708441"
          ],
          "function": "ExecutionEngine.get_function_address"
         }
        ],
        "-3795820655425765986": [
         "76",
         {
          "args": [
           "1965099047022213709"
          ],
          "function": "ExecutionEngine.create"
         }
        ],
        "-3823388266019644364": [
         "142",
         {
          "args": [
           "5945724183670242635"
          ],
          "function": "FunctionBuilder.arguments"
         }
        ],
        "-3824478070956266198": [
         "78",
         {
          "args": [
           "-9182731518438447296"
          ],
          "function": "FunctionBuilder.name"
         }
        ],
        "-3852039776920631331": [
         "149",
         {
          "repr": "add",
          "type": "str"
         }
        ],
        "-3853578039472636240": [
         "138",
         {
          "args": [
           "-8863948929122962382"
          ],
          "function": "Pair.right",
          "type_params": {
           "T": {
            "type": "ModuleBuilder"
           },
           "U": {
            "type": "FunctionBuilder"
           }
          }
         }
        ],
        "-3858334471422517901": [
         "73",
         {
          "args": [
           "936433186675021175"
          ],
          "function": "Module.to_string"
         }
        ],
        "-3864071707467855106": [
         "103",
         {
          "args": [
           "-8965620968903673144"
          ],
          "function": "FunctionBuilder.arguments"
         }
        ],
        "-3917940043335696771": [
         "73",
         {
          "args": [
           "-1211800357204194198"
          ],
          "function": "Module.to_string"
         }
        ],
        "-3956033694219196187": [
         "148",
         {
          "args": [
           "494992722559769293",
           "-9024966396258762946"
          ],
          "function": "Function.create"
         }
        ],
        "-3956607961551708441": [
         "78",
         {
          "args": [
           "-1100198686683696674"
          ],
          "function": "FunctionBuilder.name"
         }
        ],
        "-3983608428353076569": [
         "163",
         {
          "args": [
           "-7168547093700349279",
           "-6382366759138667872",
           "8458824072032212400",
           "-7025864216202428048"
          ],
          "function": "FunctionBuilder.create"
         }
        ],
        "-4006381155866143156": [
         "119",
         {
          "args": [
           "-1142548508375951181",
           "-6448568533151448428"
          ],
          "function": "Function.create"
         }
        ],
        "-4024893528149371138": [
         "74",
         {
          "args": [
           "8971788651707699345"
          ],
          "function": "ModuleRef.create"
         }
        ],
        "-4064870665142960902": [
         "106",
         {
          "args": [
           "3273270601251034725",
           "719411598118275193"
          ],
          "function": "Vec.__getitem__",
          "type_params": {
           "T": {
            "type": "Value"
           }
          }
         }
        ],
        "-4069751056550352837": [
         "73",
         {
          "args": [
           "-2671880934185116958"
          ],
          "function": "Module.to_string"
         }
        ],
        "-4078281533701350070": [
         "35",
         {
          "args": [
           "-1453992371539979202"
          ],
          "function": "CFunctionType.box"
         }
        ],
        "-407885628895334384": [
         "148",
         {
          "args": [
           "-7750677306110942985",
           "5758072105626261292"
          ],
          "function": "Function.create"
         }
        ],
        "-4098540411781874677": [
         "147",
         {
          "args": [
           "6311558311761160737"
          ],
          "function": "Vec.create"
         }
        ],
        "-4113854581790346736": [
         "71",
         {
          "args": [
           "2361972512937787141",
           "5326988129486099632"
          ],
          "function": "Vec.create"
         }
        ],
        "-4154546266521996343": [
         "114",
         {
          "args": [
           "3319729174108741495",
           "3762598178940026166",
           "-5343249568608216511"
          ],
          "function": "BlockBuilder.add"
         }
        ],
        "-4160678002660253499": [
         "116",
         {
          "args": [
           "5258883228145377369"
          ],
          "function": "Pair.right",
          "type_params": {
           "T": {
            "type": "BlockBuilder"
           },
           "U": {
            "type": "Value"
           }
          }
         }
        ],
        "-4182164179333697838": [
         "75",
         {
          "args": [
           "-8818426601560972653",
           "-2875747113732640390"
          ],
          "function": "ModuleRef.optimize"
         }
        ],
        "-4245667527724045272": [
         "75",
         {
          "args": [
           "3647403027255491507",
           "-2875747113732640390"
          ],
          "function": "ModuleRef.optimize"
         }
        ],
        "-426807894894940547": [
         "76",
         {
          "args": [
           "9190872380093856121"
          ],
          "function": "ExecutionEngine.create"
         }
        ],
        "-4280552148468288533": [
         "161",
         {
          "args": [
           "-6537372868815635978",
           "-6198730969323296038"
          ],
          "function": "concat_strings"
         }
        ],
        "-4298237498886156264": [
         "79",
         {
          "args": [
           "-2776744315412226608",
           "7681621932254222815"
          ],
          "function": "ExecutionEngine.get_function_address"
         }
        ],
        "-4304350720847667160": [
         "33",
         {
          "args": [
           "4611151268333121164",
           "7499411146967502759"
          ],
          "function": "CFunctionType.__call__"
         }
        ],
        "-4311083897125303173": [
         "75",
         {
          "args": [
           "-8150094585257010016",
           "-2875747113732640390"
          ],
          "function": "ModuleRef.optimize"
         }
        ],
        "-4353691577399267606": [
         "138",
         {
          "args": [
           "3540020716583934995"
          ],
          "function": "Pair.right",
          "type_params": {
           "T": {
            "type": "ModuleBuilder"
           },
           "U": {
            "type": "FunctionBuilder"
           }
          }
         }
        ],
        "-4356631685530058489": [
         "79",
         {
          "args": [
           "6408723158442358033",
           "7681621932254222815"
          ],
          "function": "ExecutionEngine.get_function_address"
         }
        ],
        "-4402928733070000338": [
         "74",
         {
          "args": [
           "-4840959123402025096"
          ],
          "function": "ModuleRef.create"
         }
        ],
        "-4406179529748422215": [
         "140",
         {
          "args": [
           "-9220194286087586445"
          ],
          "function": "Pair.left",
          "type_params": {
           "T": {
            "type": "FunctionBuilder"
           },
           "U": {
            "type": "BlockBuilder"
           }
          }
         }
        ],
        "-4420257848889367721": [
         "78",
         {
          "args": [
           "5945724183670242635"
          ],
          "function": "FunctionBuilder.name"
         }
        ],
        "-4426725663834185153": [
         "74",
         {
          "args": [
           "4888931410273910634"
          ],
          "function": "ModuleRef.create"
         }
        ],
        "-4450314932944533434": [
         "74",
         {
          "args": [
           "8841145711949038950"
          ],
          "function": "ModuleRef.create"
         }
        ],
        "-4458975446397404355": [
         "79",
         {
          "args": [
           "-7917731368170645262",
           "7681621932254222815"
          ],
          "function": "ExecutionEngine.get_function_address"
         }
        ],
        "-4460552892802476395": [
         "115",
         {
          "args": [
           "1751906471138555418"
          ],
          "function": "Pair.left",
          "type_params": {
           "T": {
            "type": "BlockBuilder"
           },
           "U": {
            "type": "Value"
           }
          }
         }
        ],
        "-4467679232896839012": [
         "76",
         {
          "args": [
           "-4311083897125303173"
          ],
          "function": "ExecutionEngine.create"
         }
        ],
        "-4470815232788402545": [
         "212",
         {
          "repr": "<class 'ctypes.c_int'>",
          "type": "PyCSimpleType"
         }
        ],
        "-4497013277077180418": [
         "118",
         {
          "args": [
           "-5536952608420895087"
          ],
          "function": "Vec.create"
         }
        ],
        "-4500391728803608011": [
         "148",
         {
          "args": [
           "3767887897527053750",
           "2241725198503138610"
          ],
          "function": "Function.create"
         }
        ],
        "-4524350150199677190": [
         "75",
         {
          "args": [
           "-4024893528149371138",
           "-2875747113732640390"
          ],
          "function": "ModuleRef.optimize"
         }
        ],
        "-4603547007491538170": [
         "115",
         {
          "args": [
           "5258883228145377369"
          ],
          "function": "Pair.left",
          "type_params": {
           "T": {
            "type": "BlockBuilder"
           },
           "U": {
            "type": "Value"
           }
          }
         }
        ],
        "-4605797859253360357": [
         "33",
         {
          "args": [
           "4611151268333121164",
           "6771964313031537083"
          ],
          "function": "CFunctionType.__call__"
         }
        ],
        "-4650465068488518652": [
         "79",
         {
          "args": [
           "-677844099689406495",
           "7681621932254222815"
          ],
          "function": "ExecutionEngine.get_function_address"
         }
        ],
        "-466110064903363004": [
         "76",
         {
          "args": [
           "4710821876138838305"
          ],
          "function": "ExecutionEngine.create"
         }
        ],
        "-4681625036525354210": [
         "140",
         {
          "args": [
           "4498295744118292077"
          ],
          "function": "Pair.left",
          "type_params": {
           "T": {
            "type": "FunctionBuilder"
           },
           "U": {
            "type": "BlockBuilder"
           }
          }
         }
        ],
        "-4709031431478552024": [
         "112",
         {
          "args": [
           "-5457511094994361243"
          ],
          "function": "Pair.right",
          "type_params": {
           "T": {
            "type": "BlockBuilder"
           },
           "U": {
            "type": "Value"
           }
          }
         }
        ],
        "-4729149355267848022": [
         "46",
         {
          "args": [
           "2669043947936910606"
          ],
          "function": "Pair.left",
          "type_params": {
           "T": {
            "type": "ModuleBuilder"
           },
           "U": {
            "type": "Function"
           }
          }
         }
        ],
        "-4751528613312917507": [
         "119",
         {
          "args": [
           "-8965620968903673144",
           "2044559149513758971"
          ],
          "function": "Function.create"
         }
        ],
        "-4773224718526804152": [
         "141",
         {
          "args": [
           "-5864423618534446922"
          ],
          "function": "Pair.right",
          "type_params": {
           "T": {
            "type": "FunctionBuilder"
           },
           "U": {
            "type": "BlockBuilder"
           }
          }
         }
        ],
        "-4794667982977835707": [
         "75",
         {
          "args": [
           "-1922121412041949354",
           "-2875747113732640390"
          ],
          "function": "ModuleRef.optimize"
         }
        ],
        "-4822066994188288499": [
         "116",
         {
          "args": [
           "-6045324292088765393"
          ],
          "function": "Pair.right",
          "type_params": {
           "T": {
            "type": "BlockBuilder"
           },
           "U": {
            "type": "Value"
           }
          }
         }
        ],
        "-4840959123402025096": [
         "73",
         {
          "args": [
           "3761041643239783687"
          ],
          "function": "Module.to_string"
         }
        ],
        "-4847663421200720371": [
         "33",
         {
          "args": [
           "4611151268333121164",
           "4515961928706664399"
          ],
          "function": "CFunctionType.__call__"
         }
        ],
        "-4872690078920210711": [
         "33",
         {
          "args": [
           "4611151268333121164",
           "-8575385631567635356"
          ],
          "function": "CFunctionType.__call__"
         }
        ],
        "-4890228568124345478": [
         "73",
         {
          "args": [
           "-7712249250875429551"
          ],
          "function": "Module.to_string"
         }
        ],
        "-4894208016128597282": [
         "117",
         {
          "args": [
           "-1238356756396065246",
           "-6526062949372603277"
          ],
          "function": "BlockBuilder.ret"
         }
        ],
        "-4901424808638450167": [
         "110",
         {
          "args": [
           "1945242629116870003",
           "-4064870665142960902",
           "-8836416529425775166"
          ],
          "function": "BlockBuilder.add"
         }
        ],
        "-4928042826829636512": [
         "75",
         {
          "args": [
           "9194253344101589114",
           "-2875747113732640390"
          ],
          "function": "ModuleRef.optimize"
         }
        ],
        "-4953403501497481791": [
         "76",
         {
          "args": [
           "3925560877406172502"
          ],
          "function": "ExecutionEngine.create"
         }
        ],
        "-4960811231500945378": [
         "163",
         {
          "args": [
           "8083267088865976778",
           "2370076820842690392",
           "8458824072032212400",
           "-7025864216202428048"
          ],
          "function": "FunctionBuilder.create"
         }
        ],
        "-497136927078599070": [
         "73",
         {
          "args": [
           "-3208727763947239107"
          ],
          "function": "Module.to_string"
         }
        ],
        "-4996173726485766500": [
         "109",
         {
          "args": [
           "3876652821478560268",
           "6681196885939579554"
          ],
          "function": "Vec.__getitem__",
          "type_params": {
           "T": {
            "type": "Value"
           }
          }
         }
        ],
        "-5046252759859721626": [
         "139",
         {
          "args": [
           "3854549401785218970",
           "7680433538102245774"
          ],
          "function": "BlockBuilder.create"
         }
        ],
        "-5053459754861929953": [
         "76",
         {
          "args": [
           "1352812530999846439"
          ],
          "function": "ExecutionEngine.create"
         }
        ],
        "-5073122520584820067": [
         "33",
         {
          "args": [
           "4611151268333121164",
           "-3781603251190124333"
          ],
          "function": "CFunctionType.__call__"
         }
        ],
        "-5073935261798358815": [
         "79",
         {
          "args": [
           "6586330854161360988",
           "7113254275876620040"
          ],
          "function": "ExecutionEngine.get_function_address"
         }
        ],
        "-509639126387951568": [
         "116",
         {
          "args": [
           "6284607061058033804"
          ],
          "function": "Pair.right",
          "type_params": {
           "T": {
            "type": "BlockBuilder"
           },
           "U": {
            "type": "Value"
           }
          }
         }
        ],
        "-5099127457898935884": [
         "146",
         {
          "args": [
           "-6261700214018612085",
           "-5818831209187327414"
          ],
          "function": "BlockBuilder.ret"
         }
        ],
        "-5134165836768589960": [
         "33",
         {
          "args": [
           "4611151268333121164",
           "8257397461747072627"
          ],
          "function": "CFunctionType.__call__"
         }
        ],
        "-5170469076439960576": [
         "75",
         {
          "args": [
           "-8756221424188140523",
           "-2875747113732640390"
          ],
          "function": "ModuleRef.optimize"
         }
        ],
        "-5264935999019573170": [
         "115",
         {
          "args": [
           "-6045324292088765393"
          ],
          "function": "Pair.left",
          "type_params": {
           "T": {
            "type": "BlockBuilder"
           },
           "U": {
            "type": "Value"
           }
          }
         }
        ],
        "-5265843048422603660": [
         "69",
         {
          "args": [
           "8175149886409309116"
          ],
          "function": "Module.functions"
         }
        ],
        "-5278229221164349057": [
         "71",
         {
          "args": [
           "-7263899777811922924",
           "3559084881515566894"
          ],
          "function": "Vec.create"
         }
        ],
        "-5326278498752327507": [
         "78",
         {
          "args": [
           "-7750677306110942985"
          ],
          "function": "FunctionBuilder.name"
         }
        ],
        "-5343249568608216511": [
         "113",
         {
          "args": [
           "4309573674095086938"
          ],
          "function": "Value.box"
         }
        ],
        "-5362466221499745010": [
         "73",
         {
          "args": [
           "-3409222458938290896"
          ],
          "function": "Module.to_string"
         }
        ],
        "-5408874070266782417": [
         "140",
         {
          "args": [
           "711994104776063317"
          ],
          "function": "Pair.left",
          "type_params": {
           "T": {
            "type": "FunctionBuilder"
           },
           "U": {
            "type": "BlockBuilder"
           }
          }
         }
        ],
        "-5457511094994361243": [
         "110",
         {
          "args": [
           "4332622757441410973",
           "1344389918418758022",
           "2087292934537764107"
          ],
          "function": "BlockBuilder.add"
         }
        ],
        "-5463349347190413204": [
         "73",
         {
          "repr": "; ModuleID = \"add\"\ntarget triple = \"unknown-unknown-unknown\"\ntarget datalayout = \"\"\n\ndefine fastcc i32 @\"add\"(i32 %\".1\", i32 %\".2\") \n{\nentry:\n  %\".4\" = add i32 %\".1\", %\".2\"\n  %\".5\" = add i32 %\".4\", 1\n  ret i32 %\".5\"\n}\n\ndefine i32 @\"entry_add\"(i32 %\".1\", i32 %\".2\") \n{\nentry:\n  %\".4\" = call fastcc i32 @\"add\"(i32 %\".1\", i32 %\".2\")\n  ret i32 %\".4\"\n}\n",
          "type": "str"
         }
        ],
        "-5536952608420895087": [
         "117",
         {
          "args": [
           "7826195752968480244"
          ],
          "function": "BlockBuilder.box"
         }
        ],
        "-5569951149269661857": [
         "188",
         {
          "args": [
           "-2765593911803057910"
          ],
          "function": "Value.box"
         }
        ],
        "-5579561632363765648": [
         "147",
         {
          "args": [
           "2819726454933859773"
          ],
          "function": "Vec.create"
         }
        ],
        "-5584435222808686125": [
         "75",
         {
          "args": [
           "2977778351502219352",
           "-2875747113732640390"
          ],
          "function": "ModuleRef.optimize"
         }
        ],
        "-5596214914493769360": [
         "76",
         {
          "args": [
           "-4928042826829636512"
          ],
          "function": "ExecutionEngine.create"
         }
        ],
        "-5617829925289346195": [
         "142",
         {
          "args": [
           "-7615403175585898280"
          ],
          "function": "FunctionBuilder.arguments"
         }
        ],
        "-5696013746518354407": [
         "76",
         {
          "args": [
           "-4794667982977835707"
          ],
          "function": "ExecutionEngine.create"
         }
        ],
        "-5753122670711094427": [
         "211",
         {
          "repr": "<llvmlite.binding.executionengine.ExecutionEngine object at 0x7fe328566b50>",
          "type": "ExecutionEngine"
         }
        ],
        "-5818831209187327414": [
         "145",
         {
          "args": [
           "2491532528001906725"
          ],
          "function": "Pair.right",
          "type_params": {
           "T": {
            "type": "BlockBuilder"
           },
           "U": {
            "type": "Value"
           }
          }
         }
        ],
        "-5840181285550881494": [
         "141",
         {
          "args": [
           "2267787467726447583"
          ],
          "function": "Pair.right",
          "type_params": {
           "T": {
            "type": "FunctionBuilder"
           },
           "U": {
            "type": "BlockBuilder"
           }
          }
         }
        ],
        "-5864423618534446922": [
         "139",
         {
          "args": [
           "3854549401785218970",
           "-4353691577399267606"
          ],
          "function": "BlockBuilder.create"
         }
        ],
        "-5897241933530098074": [
         "114",
         {
          "args": [
           "8975599267358381792",
           "1040221168731355064",
           "-5343249568608216511"
          ],
          "function": "BlockBuilder.add"
         }
        ],
        "-5921267819819542168": [
         "33",
         {
          "args": [
           "4611151268333121164",
           "3308013842424019131"
          ],
          "function": "CFunctionType.__call__"
         }
        ],
        "-5949019626212554482": [
         "76",
         {
          "args": [
           "4803295309773734536"
          ],
          "function": "ExecutionEngine.create"
         }
        ],
        "-5950584921309263827": [
         "138",
         {
          "args": [
           "-4960811231500945378"
          ],
          "function": "Pair.right",
          "type_params": {
           "T": {
            "type": "ModuleBuilder"
           },
           "U": {
            "type": "FunctionBuilder"
           }
          }
         }
        ],
        "-5952211054886122406": [
         "144",
         {
          "args": [
           "-6156322760819729133"
          ],
          "function": "Pair.left",
          "type_params": {
           "T": {
            "type": "BlockBuilder"
           },
           "U": {
            "type": "Value"
           }
          }
         }
        ],
        "-5957070949827954075": [
         "76",
         {
          "args": [
           "-5753122670711094427"
          ],
          "function": "ExecutionEngine.box"
         }
        ],
        "-5998022707501281070": [
         "103",
         {
          "args": [
           "-1142548508375951181"
          ],
          "function": "FunctionBuilder.arguments"
         }
        ],
        "-6045324292088765393": [
         "114",
         {
          "args": [
           "128251769440548251",
           "-761097040551621652",
           "-5343249568608216511"
          ],
          "function": "BlockBuilder.add"
         }
        ],
        "-6114979661649636897": [
         "142",
         {
          "args": [
           "-4406179529748422215"
          ],
          "function": "FunctionBuilder.arguments"
         }
        ],
        "-6125647202461426893": [
         "110",
         {
          "args": [
           "4332622757441410973",
           "1344389918418758022",
           "-1306471267931645005"
          ],
          "function": "BlockBuilder.add"
         }
        ],
        "-6128807599035005977": [
         "118",
         {
          "args": [
           "5575513973576023302"
          ],
          "function": "Vec.create"
         }
        ],
        "-612977322870443427": [
         "79",
         {
          "args": [
           "-5696013746518354407",
           "8231681351304524228"
          ],
          "function": "ExecutionEngine.get_function_address"
         }
        ],
        "-6137716113108792480": [
         "79",
         {
          "args": [
           "8019754128676107980",
           "7113254275876620040"
          ],
          "function": "ExecutionEngine.get_function_address"
         }
        ],
        "-6156322760819729133": [
         "143",
         {
          "args": [
           "2763639196249463597",
           "-8965620968903673144",
           "-3823388266019644364"
          ],
          "function": "BlockBuilder.call"
         }
        ],
        "-6159002862391460320": [
         "72",
         {
          "args": [
           "-4729149355267848022",
           "5375941818724302343"
          ],
          "function": "Module.create"
         }
        ],
        "-6164086094145156636": [
         "75",
         {
          "args": [
           "201711538703677386",
           "-2875747113732640390"
          ],
          "function": "ModuleRef.optimize"
         }
        ],
        "-6198730969323296038": [
         "160",
         {
          "args": [
           "-8828060553512541590"
          ],
          "function": "FunctionBuilder.name"
         }
        ],
        "-6214699508159069552": [
         "78",
         {
          "args": [
           "-7615403175585898280"
          ],
          "function": "FunctionBuilder.name"
         }
        ],
        "-6223814960703179738": [
         "143",
         {
          "args": [
           "-9138730849654887691",
           "-794568388573389780",
           "5217103235626146506"
          ],
          "function": "BlockBuilder.call"
         }
        ],
        "-6231262048612243500": [
         "71",
         {
          "args": [
           "-7158362749395645168",
           "5138255520121652568"
          ],
          "function": "Vec.create"
         }
        ],
        "-6258898924991950025": [
         "72",
         {
          "args": [
           "4529417730683882927",
           "-4113854581790346736"
          ],
          "function": "Module.create"
         }
        ],
        "-6261700214018612085": [
         "144",
         {
          "args": [
           "2491532528001906725"
          ],
          "function": "Pair.left",
          "type_params": {
           "T": {
            "type": "BlockBuilder"
           },
           "U": {
            "type": "Value"
           }
          }
         }
        ],
        "-6284171169172277379": [
         "155",
         {
          "args": [
           "1067033674993709082",
           "2370076820842690392",
           "-3852039776920631331",
           "198959599831326067"
          ],
          "function": "FunctionBuilder.create"
         }
        ],
        "-6303485571506739742": [
         "118",
         {
          "args": [
           "-3255918295048247866"
          ],
          "function": "Vec.create"
         }
        ],
        "-6330822719899341621": [
         "186",
         {
          "args": [
           "3402735950288980214"
          ],
          "function": "Value.box"
         }
        ],
        "-6333230241243080544": [
         "171",
         {
          "repr": "i32 %\".2\"",
          "type": "Argument"
         }
        ],
        "-6353708797967876248": [
         "79",
         {
          "args": [
           "-5596214914493769360",
           "7681621932254222815"
          ],
          "function": "ExecutionEngine.get_function_address"
         }
        ],
        "-6382366759138667872": [
         "153",
         {
          "args": [
           "3494032584360650721",
           "3494032584360650721",
           "3494032584360650721"
          ],
          "function": "FunctionType.create"
         }
        ],
        "-6391601170480695641": [
         "33",
         {
          "args": [
           "4611151268333121164",
           "8431826596581375085"
          ],
          "function": "CFunctionType.__call__"
         }
        ],
        "-6436206749743579477": [
         "195",
         {
          "repr": "%\".4\" = add i32 %\".1\", %\".2\"",
          "type": "Instruction"
         }
        ],
        "-6448568533151448428": [
         "118",
         {
          "args": [
           "4191893512006334466"
          ],
          "function": "Vec.create"
         }
        ],
        "-6526062949372603277": [
         "116",
         {
          "args": [
           "8328537902622743377"
          ],
          "function": "Pair.right",
          "type_params": {
           "T": {
            "type": "BlockBuilder"
           },
           "U": {
            "type": "Value"
           }
          }
         }
        ],
        "-6536439671457691118": [
         "74",
         {
          "args": [
           "4359912159859799493"
          ],
          "function": "ModuleRef.create"
         }
        ],
        "-6537372868815635978": [
         "159",
         {
          "repr": "entry_",
          "type": "str"
         }
        ],
        "-6540526218953643621": [
         "72",
         {
          "args": [
           "7673588058917032260",
           "-1480107052648194190"
          ],
          "function": "Module.create"
         }
        ],
        "-6545793843330198581": [
         "71",
         {
          "args": [
           "-6888642234485698807",
           "-3628407119268440404"
          ],
          "function": "Vec.create"
         }
        ],
        "-6611303663720203304": [
         "115",
         {
          "args": [
           "1677668534303254218"
          ],
          "function": "Pair.left",
          "type_params": {
           "T": {
            "type": "BlockBuilder"
           },
           "U": {
            "type": "Value"
           }
          }
         }
        ],
        "-66239512394601062": [
         "74",
         {
          "args": [
           "-8657473161744851467"
          ],
          "function": "ModuleRef.create"
         }
        ],
        "-6625370711719580339": [
         "71",
         {
          "args": [
           "-8036209553739713145",
           "-3628407119268440404"
          ],
          "function": "Vec.create"
         }
        ],
        "-6713253538646551998": [
         "79",
         {
          "args": [
           "-5053459754861929953",
           "7681621932254222815"
          ],
          "function": "ExecutionEngine.get_function_address"
         }
        ],
        "-677844099689406495": [
         "76",
         {
          "args": [
           "8151804920152563948"
          ],
          "function": "ExecutionEngine.create"
         }
        ],
        "-6801550534891422786": [
         "71",
         {
          "args": [
           "-7158362749395645168",
           "2665349191014716867"
          ],
          "function": "Vec.create"
         }
        ],
        "-6802207519052525821": [
         "71",
         {
          "args": [
           "2537404125225064850",
           "-8503647195004743867"
          ],
          "function": "Vec.create"
         }
        ],
        "-6812616672573364545": [
         "76",
         {
          "args": [
           "6651653056486919501"
          ],
          "function": "ExecutionEngine.create"
         }
        ],
        "-6819165258537119751": [
         "143",
         {
          "args": [
           "3788976593789951718",
           "-8965620968903673144",
           "720917623241716800"
          ],
          "function": "BlockBuilder.call"
         }
        ],
        "-6842314633563349259": [
         "73",
         {
          "args": [
           "2895216022691901496"
          ],
          "function": "Module.to_string"
         }
        ],
        "-6888642234485698807": [
         "119",
         {
          "args": [
           "-8965620968903673144",
           "-8641289290264176304"
          ],
          "function": "Function.create"
         }
        ],
        "-691412364138124339": [
         "74",
         {
          "args": [
           "-1336595554791218804"
          ],
          "function": "ModuleRef.create"
         }
        ],
        "-6941331448813036041": [
         "76",
         {
          "args": [
           "-2639629708311320764"
          ],
          "function": "ExecutionEngine.create"
         }
        ],
        "-6957964835705270549": [
         "79",
         {
          "args": [
           "8076731726353817577",
           "7681621932254222815"
          ],
          "function": "ExecutionEngine.get_function_address"
         }
        ],
        "-6970521233884815334": [
         "142",
         {
          "args": [
           "-4681625036525354210"
          ],
          "function": "FunctionBuilder.arguments"
         }
        ],
        "-7021715923231144620": [
         "73",
         {
          "args": [
           "-6258898924991950025"
          ],
          "function": "Module.to_string"
         }
        ],
        "-7025864216202428048": [
         "162",
         {
          "repr": "",
          "type": "str"
         }
        ],
        "-7098443047413058040": [
         "147",
         {
          "args": [
           "1116854067067515778"
          ],
          "function": "Vec.create"
         }
        ],
        "-7102000906721930457": [
         "71",
         {
          "args": [
           "-7263899777811922924",
           "-407885628895334384"
          ],
          "function": "Vec.create"
         }
        ],
        "-7158362749395645168": [
         "119",
         {
          "args": [
           "-8965620968903673144",
           "-6128807599035005977"
          ],
          "function": "Function.create"
         }
        ],
        "-7168547093700349279": [
         "156",
         {
          "args": [
           "-1655013738410447605"
          ],
          "function": "Pair.left",
          "type_params": {
           "T": {
            "type": "ModuleBuilder"
           },
           "U": {
            "type": "FunctionBuilder"
           }
          }
         }
        ],
        "-7189057429016318229": [
         "71",
         {
          "args": [
           "3623127104619491976",
           "-2902389873660933596"
          ],
          "function": "Vec.create"
         }
        ],
        "-7263899777811922924": [
         "119",
         {
          "args": [
           "-8828060553512541590",
           "7759002207401636467"
          ],
          "function": "Function.create"
         }
        ],
        "-7279627033701037808": [
         "191",
         {
          "repr": "%\".4\" = call fastcc i32 @\"add\"(i32 %\".1\", i32 %\".2\")",
          "type": "CallInstr"
         }
        ],
        "-7302690285042111774": [
         "75",
         {
          "args": [
           "6263644268407523667",
           "-2875747113732640390"
          ],
          "function": "ModuleRef.optimize"
         }
        ],
        "-7357687754321843128": [
         "74",
         {
          "args": [
           "7795366843965705729"
          ],
          "function": "ModuleRef.create"
         }
        ],
        "-7370860615221146305": [
         "210",
         {
          "repr": "; ModuleID = '<string>'\nsource_filename = \"<string>\"\ntarget triple = \"unknown-unknown-unknown\"\n\n; Function Attrs: norecurse nounwind readnone\ndefine fastcc i32 @add(i32 %.1, i32 %.2) local_unnamed_addr #0 {\nentry:\n  %.4 = add i32 %.1, 1\n  %.5 = add i32 %.4, %.2\n  ret i32 %.5\n}\n\n; Function Attrs: norecurse nounwind readnone\ndefine i32 @entry_add(i32 %.1, i32 %.2) local_unnamed_addr #0 {\nentry:\n  %.4 = tail call fastcc i32 @add(i32 %.1, i32 %.2)\n  ret i32 %.4\n}\n\nattributes #0 = { norecurse nounwind readnone }\n",
          "type": "ModuleRef"
         }
        ],
        "-7404994244164348967": [
         "148",
         {
          "args": [
           "5230752817590163161",
           "1057248212851021900"
          ],
          "function": "Function.create"
         }
        ],
        "-7409550650480773810": [
         "33",
         {
          "args": [
           "4611151268333121164",
           "-93248411933935547"
          ],
          "function": "CFunctionType.__call__"
         }
        ],
        "-7516239871248351556": [
         "33",
         {
          "args": [
           "4611151268333121164",
           "3170664032720391945"
          ],
          "function": "CFunctionType.__call__"
         }
        ],
        "-7520580652935116747": [
         "142",
         {
          "args": [
           "3767887897527053750"
          ],
          "function": "FunctionBuilder.arguments"
         }
        ],
        "-7563711257983292677": [
         "73",
         {
          "args": [
           "-8333588043187013192"
          ],
          "function": "Module.to_string"
         }
        ],
        "-7586734628971104377": [
         "144",
         {
          "args": [
           "2775587311093879028"
          ],
          "function": "Pair.left",
          "type_params": {
           "T": {
            "type": "BlockBuilder"
           },
           "U": {
            "type": "Value"
           }
          }
         }
        ],
        "-761097040551621652": [
         "112",
         {
          "args": [
           "2128124777952020150"
          ],
          "function": "Pair.right",
          "type_params": {
           "T": {
            "type": "BlockBuilder"
           },
           "U": {
            "type": "Value"
           }
          }
         }
        ],
        "-7615403175585898280": [
         "140",
         {
          "args": [
           "-5046252759859721626"
          ],
          "function": "Pair.left",
          "type_params": {
           "T": {
            "type": "FunctionBuilder"
           },
           "U": {
            "type": "BlockBuilder"
           }
          }
         }
        ],
        "-7618551949069378780": [
         "33",
         {
          "args": [
           "4611151268333121164",
           "-944683646863223199"
          ],
          "function": "CFunctionType.__call__"
         }
        ],
        "-7621856178163663851": [
         "101",
         {
          "args": [
           "3854549401785218970",
           "-794568388573389780"
          ],
          "function": "BlockBuilder.create"
         }
        ],
        "-7655791678690771667": [
         "73",
         {
          "args": [
           "7828334701523295079"
          ],
          "function": "Module.to_string"
         }
        ],
        "-7672114980549986720": [
         "111",
         {
          "args": [
           "2497729764867837609"
          ],
          "function": "Pair.left",
          "type_params": {
           "T": {
            "type": "BlockBuilder"
           },
           "U": {
            "type": "Value"
           }
          }
         }
        ],
        "-7712249250875429551": [
         "72",
         {
          "args": [
           "1384074109445627179",
           "3347543058269999169"
          ],
          "function": "Module.create"
         }
        ],
        "-7718484533325533164": [
         "72",
         {
          "args": [
           "1384074109445627179",
           "2633865565533259599"
          ],
          "function": "Module.create"
         }
        ],
        "-7737419500129110718": [
         "76",
         {
          "args": [
           "-4524350150199677190"
          ],
          "function": "ExecutionEngine.create"
         }
        ],
        "-7750677306110942985": [
         "140",
         {
          "args": [
           "-5864423618534446922"
          ],
          "function": "Pair.left",
          "type_params": {
           "T": {
            "type": "FunctionBuilder"
           },
           "U": {
            "type": "BlockBuilder"
           }
          }
         }
        ],
        "-7785203829254619345": [
         "192",
         {
          "args": [
           "-7279627033701037808"
          ],
          "function": "Value.box"
         }
        ],
        "-7812982631025007884": [
         "147",
         {
          "args": [
           "3788976593789951718"
          ],
          "function": "Vec.create"
         }
        ],
        "-7863710023946133248": [
         "141",
         {
          "args": [
           "4498295744118292077"
          ],
          "function": "Pair.right",
          "type_params": {
           "T": {
            "type": "FunctionBuilder"
           },
           "U": {
            "type": "BlockBuilder"
           }
          }
         }
        ],
        "-7917731368170645262": [
         "76",
         {
          "args": [
           "6954319912496533531"
          ],
          "function": "ExecutionEngine.create"
         }
        ],
        "-79399256622273440": [
         "117",
         {
          "args": [
           "-2716206679584994876",
           "-2273337674753710205"
          ],
          "function": "BlockBuilder.ret"
         }
        ],
        "-794568388573389780": [
         "157",
         {
          "args": [
           "-6284171169172277379"
          ],
          "function": "Pair.right",
          "type_params": {
           "T": {
            "type": "ModuleBuilder"
           },
           "U": {
            "type": "FunctionBuilder"
           }
          }
         }
        ],
        "-798123647962705815": [
         "110",
         {
          "args": [
           "-3569306199238231989",
           "1344389918418758022",
           "2087292934537764107"
          ],
          "function": "BlockBuilder.add"
         }
        ],
        "-8014898394403425229": [
         "102",
         {
          "args": [
           "8109293482846198230"
          ],
          "function": "Pair.right",
          "type_params": {
           "T": {
            "type": "FunctionBuilder"
           },
           "U": {
            "type": "BlockBuilder"
           }
          }
         }
        ],
        "-8036209553739713145": [
         "119",
         {
          "args": [
           "-8965620968903673144",
           "2525422344923729625"
          ],
          "function": "Function.create"
         }
        ],
        "-8062775864744758135": [
         "72",
         {
          "args": [
           "2097652115354136582",
           "2022596790429832334"
          ],
          "function": "Module.create"
         }
        ],
        "-8105176038943427234": [
         "79",
         {
          "args": [
           "2830222220605665973",
           "236452356753618388"
          ],
          "function": "ExecutionEngine.get_function_address"
         }
        ],
        "-8122690814268884015": [
         "33",
         {
          "args": [
           "4611151268333121164",
           "-6353708797967876248"
          ],
          "function": "CFunctionType.__call__"
         }
        ],
        "-8150094585257010016": [
         "74",
         {
          "args": [
           "5231174895897335810"
          ],
          "function": "ModuleRef.create"
         }
        ],
        "-8160800965535985815": [
         "71",
         {
          "args": [
           "2361972512937787141",
           "5115694749475143828"
          ],
          "function": "Vec.create"
         }
        ],
        "-8161108391907734589": [
         "206",
         {
          "repr": "define i32 @\"entry_add\"(i32 %\".1\", i32 %\".2\") \n{\nentry:\n  %\".4\" = call fastcc i32 @\"add\"(i32 %\".1\", i32 %\".2\")\n  ret i32 %\".4\"\n}\n",
          "type": "Function"
         }
        ],
        "-8232450333267291181": [
         "71",
         {
          "args": [
           "2361972512937787141",
           "4549522575444516861"
          ],
          "function": "Vec.create"
         }
        ],
        "-8295077158023983141": [
         "120",
         {
          "args": [
           "2669043947936910606"
          ],
          "function": "Pair.right",
          "type_params": {
           "T": {
            "type": "ModuleBuilder"
           },
           "U": {
            "type": "Function"
           }
          }
         }
        ],
        "-8311412055569834102": [
         "146",
         {
          "args": [
           "345695624078598118",
           "788564628909882789"
          ],
          "function": "BlockBuilder.ret"
         }
        ],
        "-8333588043187013192": [
         "72",
         {
          "args": [
           "1384074109445627179",
           "-6801550534891422786"
          ],
          "function": "Module.create"
         }
        ],
        "-8376856054883219038": [
         "72",
         {
          "args": [
           "1384074109445627179",
           "8909343255766521162"
          ],
          "function": "Module.create"
         }
        ],
        "-8435373745127681040": [
         "109",
         {
          "args": [
           "-3864071707467855106",
           "6681196885939579554"
          ],
          "function": "Vec.__getitem__",
          "type_params": {
           "T": {
            "type": "Value"
           }
          }
         }
        ],
        "-844178084944638124": [
         "74",
         {
          "args": [
           "-2607978016446641909"
          ],
          "function": "ModuleRef.create"
         }
        ],
        "-8457422009605128360": [
         "148",
         {
          "args": [
           "3767887897527053750",
           "-5579561632363765648"
          ],
          "function": "Function.create"
         }
        ],
        "-8457666343865625609": [
         "161",
         {
          "args": [
           "-6537372868815635978",
           "-3852039776920631331"
          ],
          "function": "concat_strings"
         }
        ],
        "-8503647195004743867": [
         "148",
         {
          "args": [
           "-7615403175585898280",
           "2593283949691841143"
          ],
          "function": "Function.create"
         }
        ],
        "-8567539862550882780": [
         "144",
         {
          "args": [
           "242064929127214250"
          ],
          "function": "Pair.left",
          "type_params": {
           "T": {
            "type": "BlockBuilder"
           },
           "U": {
            "type": "Value"
           }
          }
         }
        ],
        "-8575385631567635356": [
         "79",
         {
          "args": [
           "-6941331448813036041",
           "9087222923539702665"
          ],
          "function": "ExecutionEngine.get_function_address"
         }
        ],
        "-8582446287298620860": [
         "71",
         {
          "args": [
           "2361972512937787141",
           "-8457422009605128360"
          ],
          "function": "Vec.create"
         }
        ],
        "-858936382931220437": [
         "101",
         {
          "args": [
           "3854549401785218970",
           "2895201209852683170"
          ],
          "function": "BlockBuilder.create"
         }
        ],
        "-8606292898038899109": [
         "74",
         {
          "args": [
           "6305795258896845347"
          ],
          "function": "ModuleRef.create"
         }
        ],
        "-8613425278206524268": [
         "119",
         {
          "args": [
           "-8965620968903673144",
           "-6303485571506739742"
          ],
          "function": "Function.create"
         }
        ],
        "-8641289290264176304": [
         "118",
         {
          "args": [
           "5407424160131032482"
          ],
          "function": "Vec.create"
         }
        ],
        "-8657473161744851467": [
         "73",
         {
          "args": [
           "5171310978507787957"
          ],
          "function": "Module.to_string"
         }
        ],
        "-8679393646428090945": [
         "114",
         {
          "args": [
           "9093379198681745195",
           "-3669318660126744830",
           "-5343249568608216511"
          ],
          "function": "BlockBuilder.add"
         }
        ],
        "-8733649969164587121": [
         "76",
         {
          "args": [
           "-6164086094145156636"
          ],
          "function": "ExecutionEngine.create"
         }
        ],
        "-8756221424188140523": [
         "74",
         {
          "args": [
           "3103065143097434912"
          ],
          "function": "ModuleRef.create"
         }
        ],
        "-877117171874290748": [
         "207",
         {
          "repr": "define fastcc i32 @\"add\"(i32 %\".1\", i32 %\".2\") \n{\nentry:\n  %\".4\" = add i32 %\".1\", %\".2\"\n  %\".5\" = add i32 %\".4\", 1\n  ret i32 %\".5\"\n}\n",
          "type": "Function"
         }
        ],
        "-8788544538670921290": [
         "144",
         {
          "args": [
           "4703118174638314396"
          ],
          "function": "Pair.left",
          "type_params": {
           "T": {
            "type": "BlockBuilder"
           },
           "U": {
            "type": "Value"
           }
          }
         }
        ],
        "-8809422021959496805": [
         "75",
         {
          "args": [
           "-4426725663834185153",
           "-2875747113732640390"
          ],
          "function": "ModuleRef.optimize"
         }
        ],
        "-8814754301407149448": [
         "119",
         {
          "args": [
           "-8965620968903673144",
           "3595509500672912523"
          ],
          "function": "Function.create"
         }
        ],
        "-8818426601560972653": [
         "74",
         {
          "args": [
           "-4890228568124345478"
          ],
          "function": "ModuleRef.create"
         }
        ],
        "-8828060553512541590": [
         "157",
         {
          "args": [
           "2425906681578405346"
          ],
          "function": "Pair.right",
          "type_params": {
           "T": {
            "type": "ModuleBuilder"
           },
           "U": {
            "type": "FunctionBuilder"
           }
          }
         }
        ],
        "-8836416529425775166": [
         "109",
         {
          "args": [
           "3273270601251034725",
           "6681196885939579554"
          ],
          "function": "Vec.__getitem__",
          "type_params": {
           "T": {
            "type": "Value"
           }
          }
         }
        ],
        "-8848762644560490754": [
         "146",
         {
          "args": [
           "3788976593789951718",
           "-7785203829254619345"
          ],
          "function": "BlockBuilder.ret"
         }
        ],
        "-8863948929122962382": [
         "163",
         {
          "args": [
           "1384074109445627179",
           "2370076820842690392",
           "8458824072032212400",
           "-7025864216202428048"
          ],
          "function": "FunctionBuilder.create"
         }
        ],
        "-8866547348045203036": [
         "144",
         {
          "args": [
           "-3258185242874950247"
          ],
          "function": "Pair.left",
          "type_params": {
           "T": {
            "type": "BlockBuilder"
           },
           "U": {
            "type": "Value"
           }
          }
         }
        ],
        "-8887817221509388966": [
         "115",
         {
          "args": [
           "-5897241933530098074"
          ],
          "function": "Pair.left",
          "type_params": {
           "T": {
            "type": "BlockBuilder"
           },
           "U": {
            "type": "Value"
           }
          }
         }
        ],
        "-8920482331992655827": [
         "141",
         {
          "args": [
           "-9220194286087586445"
          ],
          "function": "Pair.right",
          "type_params": {
           "T": {
            "type": "FunctionBuilder"
           },
           "U": {
            "type": "BlockBuilder"
           }
          }
         }
        ],
        "-8932210668352411420": [
         "147",
         {
          "args": [
           "-5099127457898935884"
          ],
          "function": "Vec.create"
         }
        ],
        "-8946601798222449003": [
         "71",
         {
          "args": [
           "8621364663399133019",
           "378916728778156861"
          ],
          "function": "Vec.create"
         }
        ],
        "-8965620968903673144": [
         "157",
         {
          "args": [
           "-877117171874290748"
          ],
          "function": "FunctionBuilder.box"
         }
        ],
        "-8983431499475043071": [
         "74",
         {
          "args": [
           "1131250550845755722"
          ],
          "function": "ModuleRef.create"
         }
        ],
        "-9022476610448866631": [
         "117",
         {
          "args": [
           "-8887817221509388966",
           "2955766568396590496"
          ],
          "function": "BlockBuilder.ret"
         }
        ],
        "-9023859640047425505": [
         "102",
         {
          "args": [
           "-3722563997917641281"
          ],
          "function": "Pair.right",
          "type_params": {
           "T": {
            "type": "FunctionBuilder"
           },
           "U": {
            "type": "BlockBuilder"
           }
          }
         }
        ],
        "-9024966396258762946": [
         "147",
         {
          "args": [
           "-3614823371080358347"
          ],
          "function": "Vec.create"
         }
        ],
        "-9037989002867070824": [
         "34",
         {
          "args": [
           "-4470815232788402545"
          ],
          "function": "CType.box"
         }
        ],
        "-9090313576489807786": [
         "142",
         {
          "args": [
           "-1100198686683696674"
          ],
          "function": "FunctionBuilder.arguments"
         }
        ],
        "-9138730849654887691": [
         "141",
         {
          "args": [
           "9105736282050911272"
          ],
          "function": "Pair.right",
          "type_params": {
           "T": {
            "type": "FunctionBuilder"
           },
           "U": {
            "type": "BlockBuilder"
           }
          }
         }
        ],
        "-9170167682689020348": [
         "75",
         {
          "args": [
           "247330690228741657",
           "-2875747113732640390"
          ],
          "function": "ModuleRef.optimize"
         }
        ],
        "-9182731518438447296": [
         "77",
         {
          "args": [
           "-8295077158023983141"
          ],
          "function": "Function.builder"
         }
        ],
        "-9220194286087586445": [
         "139",
         {
          "args": [
           "3854549401785218970",
           "2425937341698568402"
          ],
          "function": "BlockBuilder.create"
         }
        ],
        "-93248411933935547": [
         "79",
         {
          "args": [
           "5812989756413168233",
           "7113254275876620040"
          ],
          "function": "ExecutionEngine.get_function_address"
         }
        ],
        "-936649201630236805": [
         "71",
         {
          "args": [
           "-7158362749395645168",
           "-8457422009605128360"
          ],
          "function": "Vec.create"
         }
        ],
        "-944683646863223199": [
         "79",
         {
          "args": [
           "861039075485339073",
           "7681621932254222815"
          ],
          "function": "ExecutionEngine.get_function_address"
         }
        ],
        "-951290211807951686": [
         "73",
         {
          "args": [
           "-1884523953794584948"
          ],
          "function": "Module.to_string"
         }
        ],
        "-952508131219236239": [
         "115",
         {
          "args": [
           "6284607061058033804"
          ],
          "function": "Pair.left",
          "type_params": {
           "T": {
            "type": "BlockBuilder"
           },
           "U": {
            "type": "Value"
           }
          }
         }
        ],
        "-966192082709211616": [
         "144",
         {
          "args": [
           "7238978707411830437"
          ],
          "function": "Pair.left",
          "type_params": {
           "T": {
            "type": "BlockBuilder"
           },
           "U": {
            "type": "Value"
           }
          }
         }
        ],
        "-989255008663956118": [
         "147",
         {
          "args": [
           "8492105459667917249"
          ],
          "function": "Vec.create"
         }
        ],
        "1008213735708352226": [
         "72",
         {
          "args": [
           "2097652115354136582",
           "4173078870532017721"
          ],
          "function": "Module.create"
         }
        ],
        "1040221168731355064": [
         "112",
         {
          "args": [
           "2373627649614631170"
          ],
          "function": "Pair.right",
          "type_params": {
           "T": {
            "type": "BlockBuilder"
           },
           "U": {
            "type": "Value"
           }
          }
         }
        ],
        "1057248212851021900": [
         "147",
         {
          "args": [
           "-1913462708342948649"
          ],
          "function": "Vec.create"
         }
        ],
        "1067033674993709082": [
         "150",
         {
          "args": [
           "-3852039776920631331"
          ],
          "function": "ModuleBuilder.create"
         }
        ],
        "1077827126427455037": [
         "142",
         {
          "args": [
           "494992722559769293"
          ],
          "function": "FunctionBuilder.arguments"
         }
        ],
        "1113044274824818452": [
         "76",
         {
          "args": [
           "1147231297002784443"
          ],
          "function": "ExecutionEngine.create"
         }
        ],
        "1116854067067515778": [
         "146",
         {
          "args": [
           "-7586734628971104377",
           "5572303251761909208"
          ],
          "function": "BlockBuilder.ret"
         }
        ],
        "1131250550845755722": [
         "73",
         {
          "args": [
           "905420348297678652"
          ],
          "function": "Module.to_string"
         }
        ],
        "1131653791913896719": [
         "118",
         {
          "args": [
           "6943517573877943550"
          ],
          "function": "Vec.create"
         }
        ],
        "1147231297002784443": [
         "75",
         {
          "args": [
           "-3392655205163427901",
           "-2875747113732640390"
          ],
          "function": "ModuleRef.optimize"
         }
        ],
        "1177042759769215657": [
         "33",
         {
          "args": [
           "4611151268333121164",
           "8671036772807196085"
          ],
          "function": "CFunctionType.__call__"
         }
        ],
        "1246628417327958198": [
         "166",
         {
          "repr": "i32 (i32, i32)",
          "type": "FunctionType"
         }
        ],
        "1263280659485554078": [
         "106",
         {
          "args": [
           "3876652821478560268",
           "719411598118275193"
          ],
          "function": "Vec.__getitem__",
          "type_params": {
           "T": {
            "type": "Value"
           }
          }
         }
        ],
        "128251769440548251": [
         "111",
         {
          "args": [
           "2128124777952020150"
          ],
          "function": "Pair.left",
          "type_params": {
           "T": {
            "type": "BlockBuilder"
           },
           "U": {
            "type": "Value"
           }
          }
         }
        ],
        "1299702581176293200": [
         "113",
         {
          "args": [
           "3494032584360650721",
           "-2875747113732640390"
          ],
          "function": "Value.constant"
         }
        ],
        "1313279983596862906": [
         "71",
         {
          "args": [
           "724611705289107572",
           "-1468275687401998537"
          ],
          "function": "Vec.append",
          "type_params": {
           "T": {
            "type": "Function"
           }
          }
         }
        ],
        "133367520050910050": [
         "33",
         {
          "args": [
           "8371595623243741157",
           "-339570468709599753"
          ],
          "function": "CFunctionType.__call__"
         }
        ],
        "1336568758770464208": [
         "72",
         {
          "args": [
           "-1486782896969937808",
           "2535376575638060623"
          ],
          "function": "Module.create"
         }
        ],
        "1344389918418758022": [
         "106",
         {
          "args": [
           "2721808043720045611",
           "719411598118275193"
          ],
          "function": "Vec.__getitem__",
          "type_params": {
           "T": {
            "type": "Value"
           }
          }
         }
        ],
        "1352812530999846439": [
         "75",
         {
          "args": [
           "6674586379136766701",
           "-2875747113732640390"
          ],
          "function": "ModuleRef.optimize"
         }
        ],
        "137822125683613632": [
         "144",
         {
          "args": [
           "8530699254232755827"
          ],
          "function": "Pair.left",
          "type_params": {
           "T": {
            "type": "BlockBuilder"
           },
           "U": {
            "type": "Value"
           }
          }
         }
        ],
        "1381632287106762864": [
         "46",
         {
          "args": [
           "3540020716583934995"
          ],
          "function": "Pair.left",
          "type_params": {
           "T": {
            "type": "ModuleBuilder"
           },
           "U": {
            "type": "FunctionBuilder"
           }
          }
         }
        ],
        "1384074109445627179": [
         "46",
         {
          "args": [
           "-1695764286796673477"
          ],
          "function": "ModuleBuilder.box"
         }
        ],
        "1399722404663403407": [
         "74",
         {
          "args": [
           "469586114449206267"
          ],
          "function": "ModuleRef.create"
         }
        ],
        "1416578364858149990": [
         "151",
         {
          "repr": "32",
          "type": "int"
         }
        ],
        "1440780675638145056": [
         "75",
         {
          "args": [
           "789059832130117244",
           "-2875747113732640390"
          ],
          "function": "ModuleRef.optimize"
         }
        ],
        "1489033623906005460": [
         "112",
         {
          "args": [
           "-6125647202461426893"
          ],
          "function": "Pair.right",
          "type_params": {
           "T": {
            "type": "BlockBuilder"
           },
           "U": {
            "type": "Value"
           }
          }
         }
        ],
        "1535562606812766571": [
         "111",
         {
          "args": [
           "-6125647202461426893"
          ],
          "function": "Pair.left",
          "type_params": {
           "T": {
            "type": "BlockBuilder"
           },
           "U": {
            "type": "Value"
           }
          }
         }
        ],
        "1555875362197670570": [
         "115",
         {
          "args": [
           "6933555530660595900"
          ],
          "function": "Pair.left",
          "type_params": {
           "T": {
            "type": "BlockBuilder"
           },
           "U": {
            "type": "Value"
           }
          }
         }
        ],
        "1574494949692620732": [
         "33",
         {
          "args": [
           "8175149886409309116",
           "397755043729386369",
           "-8828060553512541590",
           "4611151268333121164",
           "-2875747113732640390"
          ],
          "function": "compile_function"
         }
        ],
        "160797537212034354": [
         "145",
         {
          "args": [
           "-6156322760819729133"
          ],
          "function": "Pair.right",
          "type_params": {
           "T": {
            "type": "BlockBuilder"
           },
           "U": {
            "type": "Value"
           }
          }
         }
        ],
        "1677668534303254218": [
         "114",
         {
          "args": [
           "8896486254415346793",
           "-4709031431478552024",
           "-5343249568608216511"
          ],
          "function": "BlockBuilder.add"
         }
        ],
        "1702688136869546532": [
         "73",
         {
          "args": [
           "-2434564936645835772"
          ],
          "function": "Module.to_string"
         }
        ],
        "1734193452518429640": [
         "79",
         {
          "args": [
           "-280961352968022368",
           "8342746578518607463"
          ],
          "function": "ExecutionEngine.get_function_address"
         }
        ],
        "1751906471138555418": [
         "114",
         {
          "args": [
           "-5536952608420895087",
           "-1625024887734732800"
          ],
          "function": "Pair.create",
          "type_params": {
           "T": {
            "type": "BlockBuilder"
           },
           "U": {
            "type": "Value"
           }
          }
         }
        ],
        "177344944857146367": [
         "145",
         {
          "args": [
           "-6819165258537119751"
          ],
          "function": "Pair.right",
          "type_params": {
           "T": {
            "type": "BlockBuilder"
           },
           "U": {
            "type": "Value"
           }
          }
         }
        ],
        "1801950706887858521": [
         "33",
         {
          "args": [
           "4611151268333121164",
           "-612977322870443427"
          ],
          "function": "CFunctionType.__call__"
         }
        ],
        "1863220833433786226": [
         "74",
         {
          "args": [
           "-3332205877671161440"
          ],
          "function": "ModuleRef.create"
         }
        ],
        "1890233499734604314": [
         "110",
         {
          "args": [
           "-2940993248055319999",
           "1263280659485554078",
           "-4996173726485766500"
          ],
          "function": "BlockBuilder.add"
         }
        ],
        "1945242629116870003": [
         "102",
         {
          "args": [
           "-7621856178163663851"
          ],
          "function": "Pair.right",
          "type_params": {
           "T": {
            "type": "FunctionBuilder"
           },
           "U": {
            "type": "BlockBuilder"
           }
          }
         }
        ],
        "1947565618993260598": [
         "33",
         {
          "args": [
           "4611151268333121164",
           "5439288020515210860"
          ],
          "function": "CFunctionType.__call__"
         }
        ],
        "1965099047022213709": [
         "75",
         {
          "args": [
           "4483868487289339558",
           "-2875747113732640390"
          ],
          "function": "ModuleRef.optimize"
         }
        ],
        "1966935900301724544": [
         "141",
         {
          "args": [
           "711994104776063317"
          ],
          "function": "Pair.right",
          "type_params": {
           "T": {
            "type": "FunctionBuilder"
           },
           "U": {
            "type": "BlockBuilder"
           }
          }
         }
        ],
        "198959599831326067": [
         "154",
         {
          "repr": "fastcc",
          "type": "str"
         }
        ],
        "1998744367028955241": [
         "116",
         {
          "args": [
           "6933555530660595900"
          ],
          "function": "Pair.right",
          "type_params": {
           "T": {
            "type": "BlockBuilder"
           },
           "U": {
            "type": "Value"
           }
          }
         }
        ],
        "2015042617533581453": [
         "46",
         {
          "args": [
           "-3983608428353076569"
          ],
          "function": "Pair.left",
          "type_params": {
           "T": {
            "type": "ModuleBuilder"
           },
           "U": {
            "type": "FunctionBuilder"
           }
          }
         }
        ],
        "201711538703677386": [
         "74",
         {
          "args": [
           "-6842314633563349259"
          ],
          "function": "ModuleRef.create"
         }
        ],
        "2022596790429832334": [
         "71",
         {
          "args": [
           "-5265843048422603660",
           "-1468275687401998537"
          ],
          "function": "Vec.append",
          "type_params": {
           "T": {
            "type": "Function"
           }
          }
         }
        ],
        "2044559149513758971": [
         "118",
         {
          "args": [
           "-79399256622273440"
          ],
          "function": "Vec.create"
         }
        ],
        "2087292934537764107": [
         "109",
         {
          "args": [
           "2721808043720045611",
           "6681196885939579554"
          ],
          "function": "Vec.__getitem__",
          "type_params": {
           "T": {
            "type": "Value"
           }
          }
         }
        ],
        "2097652115354136582": [
         "46",
         {
          "args": [
           "7637063009693252296"
          ],
          "function": "Pair.left",
          "type_params": {
           "T": {
            "type": "ModuleBuilder"
           },
           "U": {
            "type": "Function"
           }
          }
         }
        ],
        "2108547046135714520": [
         "146",
         {
          "args": [
           "137822125683613632",
           "7137322431411709346"
          ],
          "function": "BlockBuilder.ret"
         }
        ],
        "2128124777952020150": [
         "110",
         {
          "args": [
           "-5536952608420895087",
           "8941937268231667926",
           "-1306471267931645005"
          ],
          "function": "BlockBuilder.add"
         }
        ],
        "2139645397574955957": [
         "147",
         {
          "args": [
           "7317646397126167630"
          ],
          "function": "Vec.create"
         }
        ],
        "2211946300557563720": [
         "116",
         {
          "args": [
           "-258671823125383050"
          ],
          "function": "Pair.right",
          "type_params": {
           "T": {
            "type": "BlockBuilder"
           },
           "U": {
            "type": "Value"
           }
          }
         }
        ],
        "2216966980637285217": [
         "74",
         {
          "args": [
           "-3296172865138165790"
          ],
          "function": "ModuleRef.create"
         }
        ],
        "2240515824321775051": [
         "72",
         {
          "args": [
           "1384074109445627179",
           "-6231262048612243500"
          ],
          "function": "Module.create"
         }
        ],
        "2241725198503138610": [
         "147",
         {
          "args": [
           "5621748707860190844"
          ],
          "function": "Vec.create"
         }
        ],
        "2250059886640892518": [
         "33",
         {
          "args": [
           "4611151268333121164",
           "-4356631685530058489"
          ],
          "function": "CFunctionType.__call__"
         }
        ],
        "2267787467726447583": [
         "139",
         {
          "args": [
           "3767887897527053750",
           "3788976593789951718"
          ],
          "function": "Pair.create"
         }
        ],
        "2315040298330794051": [
         "117",
         {
          "args": [
           "8324722692191761116",
           "8767591697023045787"
          ],
          "function": "BlockBuilder.ret"
         }
        ],
        "2316620372752252675": [
         "142",
         {
          "args": [
           "-7750677306110942985"
          ],
          "function": "FunctionBuilder.arguments"
         }
        ],
        "2328630335768262167": [
         "146",
         {
          "args": [
           "-8788544538670921290",
           "3941530964864997126"
          ],
          "function": "BlockBuilder.ret"
         }
        ],
        "2332296104133684338": [
         "145",
         {
          "args": [
           "33321243032204724"
          ],
          "function": "Pair.right",
          "type_params": {
           "T": {
            "type": "BlockBuilder"
           },
           "U": {
            "type": "Value"
           }
          }
         }
        ],
        "2361972512937787141": [
         "119",
         {
          "args": [
           "-8965620968903673144",
           "7109373853513139633"
          ],
          "function": "Function.create"
         }
        ],
        "236452356753618388": [
         "78",
         {
          "args": [
           "5230752817590163161"
          ],
          "function": "FunctionBuilder.name"
         }
        ],
        "2370076820842690392": [
         "153",
         {
          "args": [
           "1246628417327958198"
          ],
          "function": "FunctionType.box"
         }
        ],
        "2373627649614631170": [
         "110",
         {
          "args": [
           "-5536952608420895087",
           "8642348607594373047"
          ],
          "function": "Pair.create",
          "type_params": {
           "T": {
            "type": "BlockBuilder"
           },
           "U": {
            "type": "Value"
           }
          }
         }
        ],
        "2387313508163204485": [
         "148",
         {
          "args": [
           "-5408874070266782417",
           "2139645397574955957"
          ],
          "function": "Function.create"
         }
        ],
        "239896206786207752": [
         "113",
         {
          "args": [
           "9210489444517995268",
           "-2875747113732640390"
          ],
          "function": "Value.constant"
         }
        ],
        "242064929127214250": [
         "143",
         {
          "args": [
           "3788976593789951718",
           "-8965620968903673144",
           "7879351228258198570"
          ],
          "function": "BlockBuilder.call"
         }
        ],
        "2425652289399760379": [
         "112",
         {
          "args": [
           "-4901424808638450167"
          ],
          "function": "Pair.right",
          "type_params": {
           "T": {
            "type": "BlockBuilder"
           },
           "U": {
            "type": "Value"
           }
          }
         }
        ],
        "2425906681578405346": [
         "155",
         {
          "args": [
           "1067033674993709082",
           "-288593990817465293",
           "-3852039776920631331",
           "198959599831326067"
          ],
          "function": "FunctionBuilder.create"
         }
        ],
        "2425937341698568402": [
         "138",
         {
          "args": [
           "4769776937195401455"
          ],
          "function": "Pair.right",
          "type_params": {
           "T": {
            "type": "ModuleBuilder"
           },
           "U": {
            "type": "FunctionBuilder"
           }
          }
         }
        ],
        "247330690228741657": [
         "74",
         {
          "args": [
           "-3917940043335696771"
          ],
          "function": "ModuleRef.create"
         }
        ],
        "2491532528001906725": [
         "143",
         {
          "args": [
           "-7863710023946133248",
           "-8965620968903673144",
           "-6970521233884815334"
          ],
          "function": "BlockBuilder.call"
         }
        ],
        "2497729764867837609": [
         "110",
         {
          "args": [
           "4332622757441410973",
           "8941937268231667926",
           "-1306471267931645005"
          ],
          "function": "BlockBuilder.add"
         }
        ],
        "2515697879257382616": [
         "75",
         {
          "args": [
           "-66239512394601062",
           "-2875747113732640390"
          ],
          "function": "ModuleRef.optimize"
         }
        ],
        "2525422344923729625": [
         "118",
         {
          "args": [
           "-1825338716198958220"
          ],
          "function": "Vec.create"
         }
        ],
        "2535376575638060623": [
         "71",
         {
          "args": [
           "-7263899777811922924",
           "6163893540838096181"
          ],
          "function": "Vec.create"
         }
        ],
        "2537404125225064850": [
         "119",
         {
          "args": [
           "2895201209852683170",
           "-3555317221755694094"
          ],
          "function": "Function.create"
         }
        ],
        "2593283949691841143": [
         "147",
         {
          "args": [
           "2108547046135714520"
          ],
          "function": "Vec.create"
         }
        ],
        "2617331658497288501": [
         "143",
         {
          "args": [
           "3788976593789951718",
           "-7785203829254619345"
          ],
          "function": "Pair.create",
          "type_params": {
           "T": {
            "type": "BlockBuilder"
           },
           "U": {
            "type": "Value"
           }
          }
         }
        ],
        "2633865565533259599": [
         "71",
         {
          "args": [
           "7207556839318262825",
           "-4500391728803608011"
          ],
          "function": "Vec.create"
         }
        ],
        "2645703747688289143": [
         "33",
         {
          "args": [
           "4611151268333121164",
           "4344724809675472441"
          ],
          "function": "CFunctionType.__call__"
         }
        ],
        "2655128229304722362": [
         "148",
         {
          "args": [
           "3767887897527053750",
           "8153678834830718908"
          ],
          "function": "Function.create"
         }
        ],
        "2665349191014716867": [
         "148",
         {
          "args": [
           "3767887897527053750",
           "8611055119689614648"
          ],
          "function": "Function.create"
         }
        ],
        "2669043947936910606": [
         "45",
         {
          "args": [
           "-2396633751784687127",
           "3559084881515566894"
          ],
          "function": "Pair.create"
         }
        ],
        "2721808043720045611": [
         "103",
         {
          "args": [
           "8941937268231667926",
           "-1306471267931645005"
          ],
          "function": "Vec.create"
         }
        ],
        "2759996920588856231": [
         "79",
         {
          "args": [
           "4269715244186309813",
           "7681621932254222815"
          ],
          "function": "ExecutionEngine.get_function_address"
         }
        ],
        "2763639196249463597": [
         "141",
         {
          "args": [
           "5312773014637809041"
          ],
          "function": "Pair.right",
          "type_params": {
           "T": {
            "type": "FunctionBuilder"
           },
           "U": {
            "type": "BlockBuilder"
           }
          }
         }
        ],
        "2775587311093879028": [
         "143",
         {
          "args": [
           "6275611283884810287",
           "-8828060553512541590",
           "-9090313576489807786"
          ],
          "function": "BlockBuilder.call"
         }
        ],
        "2780946122200199662": [
         "71",
         {
          "args": [
           "7659722411185996894",
           "2655128229304722362"
          ],
          "function": "Vec.create"
         }
        ],
        "2782040218175349882": [
         "111",
         {
          "args": [
           "4857600570411330840"
          ],
          "function": "Pair.left",
          "type_params": {
           "T": {
            "type": "BlockBuilder"
           },
           "U": {
            "type": "Value"
           }
          }
         }
        ],
        "2782354079551107365": [
         "114",
         {
          "args": [
           "1535562606812766571",
           "1489033623906005460",
           "-5343249568608216511"
          ],
          "function": "BlockBuilder.add"
         }
        ],
        "2784991022367606447": [
         "77",
         {
          "args": [
           "-1468275687401998537"
          ],
          "function": "Function.builder"
         }
        ],
        "2819726454933859773": [
         "146",
         {
          "args": [
           "4754831715475437379",
           "5197700720306722050"
          ],
          "function": "BlockBuilder.ret"
         }
        ],
        "2830222220605665973": [
         "76",
         {
          "args": [
           "2994735617830320562"
          ],
          "function": "ExecutionEngine.create"
         }
        ],
        "2895201209852683170": [
         "157",
         {
          "args": [
           "-1655013738410447605"
          ],
          "function": "Pair.right",
          "type_params": {
           "T": {
            "type": "ModuleBuilder"
           },
           "U": {
            "type": "FunctionBuilder"
           }
          }
         }
        ],
        "2895216022691901496": [
         "72",
         {
          "args": [
           "7673588058917032260",
           "7028004542766583783"
          ],
          "function": "Module.create"
         }
        ],
        "2955766568396590496": [
         "116",
         {
          "args": [
           "-5897241933530098074"
          ],
          "function": "Pair.right",
          "type_params": {
           "T": {
            "type": "BlockBuilder"
           },
           "U": {
            "type": "Value"
           }
          }
         }
        ],
        "2977778351502219352": [
         "74",
         {
          "args": [
           "619538652957136227"
          ],
          "function": "ModuleRef.create"
         }
        ],
        "2994735617830320562": [
         "75",
         {
          "args": [
           "-1301953925308917193",
           "-2875747113732640390"
          ],
          "function": "ModuleRef.optimize"
         }
        ],
        "3019979956112647431": [
         "79",
         {
          "args": [
           "-4953403501497481791",
           "7681621932254222815"
          ],
          "function": "ExecutionEngine.get_function_address"
         }
        ],
        "3084128981065913953": [
         "33",
         {
          "args": [
           "4611151268333121164",
           "689152239704630920"
          ],
          "function": "CFunctionType.__call__"
         }
        ],
        "3101295110549733623": [
         "115",
         {
          "args": [
           "-258671823125383050"
          ],
          "function": "Pair.left",
          "type_params": {
           "T": {
            "type": "BlockBuilder"
           },
           "U": {
            "type": "Value"
           }
          }
         }
        ],
        "3103065143097434912": [
         "73",
         {
          "args": [
           "-3654092313930957340"
          ],
          "function": "Module.to_string"
         }
        ],
        "3152270965507089028": [
         "33",
         {
          "args": [
           "-4078281533701350070",
           "-339570468709599753"
          ],
          "function": "CFunctionType.__call__"
         }
        ],
        "3170664032720391945": [
         "79",
         {
          "args": [
           "8424788887093773741",
           "236452356753618388"
          ],
          "function": "ExecutionEngine.get_function_address"
         }
        ],
        "3176148116486638054": [
         "147",
         {
          "args": [
           "6082087534608030176"
          ],
          "function": "Vec.create"
         }
        ],
        "3224909223006634553": [
         "112",
         {
          "args": [
           "4857600570411330840"
          ],
          "function": "Pair.right",
          "type_params": {
           "T": {
            "type": "BlockBuilder"
           },
           "U": {
            "type": "Value"
           }
          }
         }
        ],
        "3250898527718506170": [
         "141",
         {
          "args": [
           "-5046252759859721626"
          ],
          "function": "Pair.right",
          "type_params": {
           "T": {
            "type": "FunctionBuilder"
           },
           "U": {
            "type": "BlockBuilder"
           }
          }
         }
        ],
        "3273270601251034725": [
         "103",
         {
          "args": [
           "-794568388573389780"
          ],
          "function": "FunctionBuilder.arguments"
         }
        ],
        "3279307359433639315": [
         "76",
         {
          "args": [
           "-1633475035418318727"
          ],
          "function": "ExecutionEngine.create"
         }
        ],
        "330517251076819046": [
         "33",
         {
          "args": [
           "4611151268333121164",
           "-3075629453513793981"
          ],
          "function": "CFunctionType.__call__"
         }
        ],
        "3308013842424019131": [
         "79",
         {
          "args": [
           "-2969888460218800310",
           "9087222923539702665"
          ],
          "function": "ExecutionEngine.get_function_address"
         }
        ],
        "3315001099391930282": [
         "111",
         {
          "args": [
           "-4901424808638450167"
          ],
          "function": "Pair.left",
          "type_params": {
           "T": {
            "type": "BlockBuilder"
           },
           "U": {
            "type": "Value"
           }
          }
         }
        ],
        "3316938306353808579": [
         "75",
         {
          "args": [
           "-691412364138124339",
           "-2875747113732640390"
          ],
          "function": "ModuleRef.optimize"
         }
        ],
        "3318571110324240328": [
         "76",
         {
          "args": [
           "3316938306353808579"
          ],
          "function": "ExecutionEngine.create"
         }
        ],
        "3319729174108741495": [
         "111",
         {
          "args": [
           "-798123647962705815"
          ],
          "function": "Pair.left",
          "type_params": {
           "T": {
            "type": "BlockBuilder"
           },
           "U": {
            "type": "Value"
           }
          }
         }
        ],
        "3330103838106318097": [
         "111",
         {
          "args": [
           "1890233499734604314"
          ],
          "function": "Pair.left",
          "type_params": {
           "T": {
            "type": "BlockBuilder"
           },
           "U": {
            "type": "Value"
           }
          }
         }
        ],
        "33321243032204724": [
         "143",
         {
          "args": [
           "-8920482331992655827",
           "-8828060553512541590",
           "-6114979661649636897"
          ],
          "function": "BlockBuilder.call"
         }
        ],
        "3347543058269999169": [
         "71",
         {
          "args": [
           "2361972512937787141",
           "-7404994244164348967"
          ],
          "function": "Vec.create"
         }
        ],
        "3384679386596535495": [
         "73",
         {
          "args": [
           "-2957979112219236327"
          ],
          "function": "Module.to_string"
         }
        ],
        "3402735950288980214": [
         "185",
         {
          "repr": "i32 %\".1\"",
          "type": "Argument"
         }
        ],
        "3454536360513949516": [
         "109",
         {
          "args": [
           "-5998022707501281070",
           "6681196885939579554"
          ],
          "function": "Vec.__getitem__",
          "type_params": {
           "T": {
            "type": "Value"
           }
          }
         }
        ],
        "345695624078598118": [
         "144",
         {
          "args": [
           "2617331658497288501"
          ],
          "function": "Pair.left",
          "type_params": {
           "T": {
            "type": "BlockBuilder"
           },
           "U": {
            "type": "Value"
           }
          }
         }
        ],
        "3462455738246030841": [
         "33",
         {
          "args": [
           "4611151268333121164",
           "6918295714860687625"
          ],
          "function": "CFunctionType.__call__"
         }
        ],
        "3494032584360650721": [
         "152",
         {
          "args": [
           "6846593533820429382"
          ],
          "function": "Type.box"
         }
        ],
        "3513476540347485299": [
         "33",
         {
          "args": [
           "4611151268333121164",
           "-6713253538646551998"
          ],
          "function": "CFunctionType.__call__"
         }
        ],
        "3540020716583934995": [
         "163",
         {
          "args": [
           "397755043729386369",
           "4037777674430066896",
           "-8457666343865625609",
           "-7025864216202428048"
          ],
          "function": "FunctionBuilder.create"
         }
        ],
        "3541350285687104321": [
         "33",
         {
          "args": [
           "4611151268333121164",
           "-8105176038943427234"
          ],
          "function": "CFunctionType.__call__"
         }
        ],
        "3554667645005040009": [
         "71",
         {
          "args": [
           "8815060898526258188",
           "-3081389068083354389"
          ],
          "function": "Vec.create"
         }
        ],
        "3559084881515566894": [
         "148",
         {
          "args": [
           "-4406179529748422215",
           "-989255008663956118"
          ],
          "function": "Function.create"
         }
        ],
        "3595509500672912523": [
         "118",
         {
          "args": [
           "7023427768849760806"
          ],
          "function": "Vec.create"
         }
        ],
        "3608397908703833284": [
         "78",
         {
          "args": [
           "-2465690818826703473"
          ],
          "function": "FunctionBuilder.name"
         }
        ],
        "3623127104619491976": [
         "119",
         {
          "args": [
           "-794568388573389780",
           "-2050075945721307550"
          ],
          "function": "Function.create"
         }
        ],
        "3647403027255491507": [
         "74",
         {
          "args": [
           "6859393132023738082"
          ],
          "function": "ModuleRef.create"
         }
        ],
        "3687545586826997934": [
         "101",
         {
          "args": [
           "3854549401785218970",
           "-8965620968903673144"
          ],
          "function": "BlockBuilder.create"
         }
        ],
        "3687695592745323482": [
         "116",
         {
          "args": [
           "3961905689018463310"
          ],
          "function": "Pair.right",
          "type_params": {
           "T": {
            "type": "BlockBuilder"
           },
           "U": {
            "type": "Value"
           }
          }
         }
        ],
        "3693563943008654969": [
         "74",
         {
          "args": [
           "-5362466221499745010"
          ],
          "function": "ModuleRef.create"
         }
        ],
        "3717929759405152562": [
         "144",
         {
          "args": [
           "-6223814960703179738"
          ],
          "function": "Pair.left",
          "type_params": {
           "T": {
            "type": "BlockBuilder"
           },
           "U": {
            "type": "Value"
           }
          }
         }
        ],
        "3761041643239783687": [
         "72",
         {
          "args": [
           "1384074109445627179",
           "2780946122200199662"
          ],
          "function": "Module.create"
         }
        ],
        "3762598178940026166": [
         "112",
         {
          "args": [
           "-798123647962705815"
          ],
          "function": "Pair.right",
          "type_params": {
           "T": {
            "type": "BlockBuilder"
           },
           "U": {
            "type": "Value"
           }
          }
         }
        ],
        "3767887897527053750": [
         "140",
         {
          "args": [
           "-8161108391907734589"
          ],
          "function": "FunctionBuilder.box"
         }
        ],
        "3771420319638691075": [
         "71",
         {
          "args": [
           "-7263899777811922924",
           "-3956033694219196187"
          ],
          "function": "Vec.create"
         }
        ],
        "3772972842937602768": [
         "112",
         {
          "args": [
           "1890233499734604314"
          ],
          "function": "Pair.right",
          "type_params": {
           "T": {
            "type": "BlockBuilder"
           },
           "U": {
            "type": "Value"
           }
          }
         }
        ],
        "3788976593789951718": [
         "146",
         {
          "args": [
           "-2868983305302100551"
          ],
          "function": "BlockBuilder.box"
         }
        ],
        "378916728778156861": [
         "148",
         {
          "args": [
           "-5408874070266782417",
           "5167764124062571412"
          ],
          "function": "Function.create"
         }
        ],
        "3827978554299007989": [
         "76",
         {
          "args": [
           "-3390310291518549008"
          ],
          "function": "ExecutionEngine.create"
         }
        ],
        "3854549401785218970": [
         "137",
         {
          "repr": "entry",
          "type": "str"
         }
        ],
        "3876652821478560268": [
         "103",
         {
          "args": [
           "2895201209852683170"
          ],
          "function": "FunctionBuilder.arguments"
         }
        ],
        "3918510443070288819": [
         "33",
         {
          "args": [
           "4611151268333121164",
           "-6137716113108792480"
          ],
          "function": "CFunctionType.__call__"
         }
        ],
        "3925560877406172502": [
         "75",
         {
          "args": [
           "-8983431499475043071",
           "-2875747113732640390"
          ],
          "function": "ModuleRef.optimize"
         }
        ],
        "3941530964864997126": [
         "145",
         {
          "args": [
           "4703118174638314396"
          ],
          "function": "Pair.right",
          "type_params": {
           "T": {
            "type": "BlockBuilder"
           },
           "U": {
            "type": "Value"
           }
          }
         }
        ],
        "3961905689018463310": [
         "114",
         {
          "args": [
           "-7672114980549986720",
           "5486922900183026865",
           "-5343249568608216511"
          ],
          "function": "BlockBuilder.add"
         }
        ],
        "397755043729386369": [
         "156",
         {
          "args": [
           "2425906681578405346"
          ],
          "function": "Pair.left",
          "type_params": {
           "T": {
            "type": "ModuleBuilder"
           },
           "U": {
            "type": "FunctionBuilder"
           }
          }
         }
        ],
        "4007988404712414703": [
         "163",
         {
          "args": [
           "7588427381583129387",
           "2370076820842690392",
           "8458824072032212400",
           "-7025864216202428048"
          ],
          "function": "FunctionBuilder.create"
         }
        ],
        "4012011352235363553": [
         "74",
         {
          "args": [
           "7364977299824091908"
          ],
          "function": "ModuleRef.create"
         }
        ],
        "401707550803181045": [
         "74",
         {
          "args": [
           "-5463349347190413204"
          ],
          "function": "ModuleRef.create"
         }
        ],
        "4034494413224183908": [
         "73",
         {
          "args": [
           "-8376856054883219038"
          ],
          "function": "Module.to_string"
         }
        ],
        "4037777674430066896": [
         "158",
         {
          "args": [
           "-8828060553512541590"
          ],
          "function": "FunctionBuilder.type"
         }
        ],
        "4046609535069057702": [
         "72",
         {
          "args": [
           "7673588058917032260",
           "-8946601798222449003"
          ],
          "function": "Module.create"
         }
        ],
        "410060782594474463": [
         "33",
         {
          "args": [
           "4611151268333121164",
           "-2694625138076449296"
          ],
          "function": "CFunctionType.__call__"
         }
        ],
        "4160798764236437233": [
         "145",
         {
          "args": [
           "-6223814960703179738"
          ],
          "function": "Pair.right",
          "type_params": {
           "T": {
            "type": "BlockBuilder"
           },
           "U": {
            "type": "Value"
           }
          }
         }
        ],
        "4162535640985035636": [
         "145",
         {
          "args": [
           "242064929127214250"
          ],
          "function": "Pair.right",
          "type_params": {
           "T": {
            "type": "BlockBuilder"
           },
           "U": {
            "type": "Value"
           }
          }
         }
        ],
        "4173078870532017721": [
         "71",
         {
          "args": [
           "-7263899777811922924",
           "-1468275687401998537"
          ],
          "function": "Vec.create"
         }
        ],
        "4191893512006334466": [
         "117",
         {
          "args": [
           "-3624725312189489213",
           "8218858477716490249"
          ],
          "function": "BlockBuilder.ret"
         }
        ],
        "4248417464739313553": [
         "33",
         {
          "args": [
           "4611151268333121164",
           "8435457562749102441"
          ],
          "function": "CFunctionType.__call__"
         }
        ],
        "4269715244186309813": [
         "76",
         {
          "args": [
           "-106782581593263440"
          ],
          "function": "ExecutionEngine.create"
         }
        ],
        "4292490532687810549": [
         "145",
         {
          "args": [
           "-3258185242874950247"
          ],
          "function": "Pair.right",
          "type_params": {
           "T": {
            "type": "BlockBuilder"
           },
           "U": {
            "type": "Value"
           }
          }
         }
        ],
        "4309573674095086938": [
         "165",
         {
          "repr": "i32 1",
          "type": "Constant"
         }
        ],
        "4313190877549965634": [
         "71",
         {
          "args": [
           "-8814754301407149448",
           "-8457422009605128360"
          ],
          "function": "Vec.create"
         }
        ],
        "4332622757441410973": [
         "102",
         {
          "args": [
           "7210883838380465320"
          ],
          "function": "Pair.right",
          "type_params": {
           "T": {
            "type": "FunctionBuilder"
           },
           "U": {
            "type": "BlockBuilder"
           }
          }
         }
        ],
        "4344724809675472441": [
         "79",
         {
          "args": [
           "5250117159111482292",
           "7681621932254222815"
          ],
          "function": "ExecutionEngine.get_function_address"
         }
        ],
        "434845539192730507": [
         "117",
         {
          "args": [
           "6731889765015156642",
           "7174758769846441313"
          ],
          "function": "BlockBuilder.ret"
         }
        ],
        "4353262663880799912": [
         "71",
         {
          "args": [
           "-3412709832405550461",
           "-3628407119268440404"
          ],
          "function": "Vec.create"
         }
        ],
        "4359912159859799493": [
         "73",
         {
          "args": [
           "4046609535069057702"
          ],
          "function": "Module.to_string"
         }
        ],
        "4431236575811268574": [
         "144",
         {
          "args": [
           "7269838149763926119"
          ],
          "function": "Pair.left",
          "type_params": {
           "T": {
            "type": "BlockBuilder"
           },
           "U": {
            "type": "Value"
           }
          }
         }
        ],
        "4438116854859798480": [
         "72",
         {
          "args": [
           "1384074109445627179",
           "-2248837152917062100"
          ],
          "function": "Module.create"
         }
        ],
        "4483868487289339558": [
         "74",
         {
          "args": [
           "-2000791514985616342"
          ],
          "function": "ModuleRef.create"
         }
        ],
        "4498295744118292077": [
         "139",
         {
          "args": [
           "3854549401785218970",
           "-3853578039472636240"
          ],
          "function": "BlockBuilder.create"
         }
        ],
        "4515961928706664399": [
         "79",
         {
          "args": [
           "-1594775518013570629",
           "7681621932254222815"
          ],
          "function": "ExecutionEngine.get_function_address"
         }
        ],
        "4529417730683882927": [
         "46",
         {
          "args": [
           "-8863948929122962382"
          ],
          "function": "Pair.left",
          "type_params": {
           "T": {
            "type": "ModuleBuilder"
           },
           "U": {
            "type": "FunctionBuilder"
           }
          }
         }
        ],
        "4543062501790561193": [
         "110",
         {
          "args": [
           "-8014898394403425229",
           "7684280382193793027",
           "4915317728958369938"
          ],
          "function": "BlockBuilder.add"
         }
        ],
        "4549522575444516861": [
         "148",
         {
          "args": [
           "5945724183670242635",
           "-4098540411781874677"
          ],
          "function": "Function.create"
         }
        ],
        "4559695708346790326": [
         "75",
         {
          "args": [
           "-844178084944638124",
           "-2875747113732640390"
          ],
          "function": "ModuleRef.optimize"
         }
        ],
        "4589072911851978404": [
         "138",
         {
          "args": [
           "4007988404712414703"
          ],
          "function": "Pair.right",
          "type_params": {
           "T": {
            "type": "ModuleBuilder"
           },
           "U": {
            "type": "FunctionBuilder"
           }
          }
         }
        ],
        "4611151268333121164": [
         "35",
         {
          "args": [
           "8082578106438898285",
           "8082578106438898285"
          ],
          "function": "CFunctionType.create"
         }
        ],
        "4617215150354920742": [
         "118",
         {
          "args": [
           "6162177704046563319"
          ],
          "function": "Vec.create"
         }
        ],
        "4620233652756423149": [
         "78",
         {
          "args": [
           "6330560636470525092"
          ],
          "function": "FunctionBuilder.name"
         }
        ],
        "4639015088246116096": [
         "119",
         {
          "args": [
           "2895201209852683170",
           "7278062698775584293"
          ],
          "function": "Function.create"
         }
        ],
        "465603627205655058": [
         "143",
         {
          "args": [
           "-5840181285550881494",
           "-8965620968903673144",
           "7879351228258198570"
          ],
          "function": "BlockBuilder.call"
         }
        ],
        "4658081436559941215": [
         "79",
         {
          "args": [
           "-1681914072630590589",
           "7681621932254222815"
          ],
          "function": "ExecutionEngine.get_function_address"
         }
        ],
        "4692230106507536099": [
         "73",
         {
          "args": [
           "-7718484533325533164"
          ],
          "function": "Module.to_string"
         }
        ],
        "469586114449206267": [
         "73",
         {
          "args": [
           "5579038469249906381"
          ],
          "function": "Module.to_string"
         }
        ],
        "4703118174638314396": [
         "143",
         {
          "args": [
           "-4773224718526804152",
           "-8828060553512541590",
           "2316620372752252675"
          ],
          "function": "BlockBuilder.call"
         }
        ],
        "4703636550623401328": [
         "71",
         {
          "args": [
           "8815060898526258188",
           "-3628407119268440404"
          ],
          "function": "Vec.create"
         }
        ],
        "4710821876138838305": [
         "75",
         {
          "args": [
           "-3386254565486465697",
           "-2875747113732640390"
          ],
          "function": "ModuleRef.optimize"
         }
        ],
        "4722776317364825034": [
         "76",
         {
          "args": [
           "-3518325887057290634"
          ],
          "function": "ExecutionEngine.create"
         }
        ],
        "4754831715475437379": [
         "144",
         {
          "args": [
           "712737792173996548"
          ],
          "function": "Pair.left",
          "type_params": {
           "T": {
            "type": "BlockBuilder"
           },
           "U": {
            "type": "Value"
           }
          }
         }
        ],
        "4769776937195401455": [
         "163",
         {
          "args": [
           "397755043729386369",
           "4037777674430066896",
           "-4280552148468288533",
           "-7025864216202428048"
          ],
          "function": "FunctionBuilder.create"
         }
        ],
        "4794575255297265057": [
         "139",
         {
          "args": [
           "3854549401785218970",
           "8576965406583094641"
          ],
          "function": "BlockBuilder.create"
         }
        ],
        "4803295309773734536": [
         "75",
         {
          "args": [
           "4012011352235363553",
           "-2875747113732640390"
          ],
          "function": "ModuleRef.optimize"
         }
        ],
        "4818160933004388963": [
         "72",
         {
          "args": [
           "2097652115354136582",
           "1313279983596862906"
          ],
          "function": "Module.create"
         }
        ],
        "4849141869152655527": [
         "155",
         {
          "args": [
           "1384074109445627179",
           "2370076820842690392",
           "-3852039776920631331",
           "198959599831326067"
          ],
          "function": "FunctionBuilder.create"
         }
        ],
        "4857600570411330840": [
         "110",
         {
          "args": [
           "-3569306199238231989",
           "7987994596277266699",
           "-8435373745127681040"
          ],
          "function": "BlockBuilder.add"
         }
        ],
        "4874105580642553245": [
         "145",
         {
          "args": [
           "7269838149763926119"
          ],
          "function": "Pair.right",
          "type_params": {
           "T": {
            "type": "BlockBuilder"
           },
           "U": {
            "type": "Value"
           }
          }
         }
        ],
        "4888931410273910634": [
         "73",
         {
          "args": [
           "1008213735708352226"
          ],
          "function": "Module.to_string"
         }
        ],
        "4915317728958369938": [
         "109",
         {
          "args": [
           "8446525304271610807",
           "6681196885939579554"
          ],
          "function": "Vec.__getitem__",
          "type_params": {
           "T": {
            "type": "Value"
           }
          }
         }
        ],
        "494992722559769293": [
         "140",
         {
          "args": [
           "8165672321590224091"
          ],
          "function": "Pair.left",
          "type_params": {
           "T": {
            "type": "FunctionBuilder"
           },
           "U": {
            "type": "BlockBuilder"
           }
          }
         }
        ],
        "5021142622337364886": [
         "79",
         {
          "args": [
           "4722776317364825034",
           "7681621932254222815"
          ],
          "function": "ExecutionEngine.get_function_address"
         }
        ],
        "5035778882851723984": [
         "71",
         {
          "args": [
           "4639015088246116096",
           "-8503647195004743867"
          ],
          "function": "Vec.create"
         }
        ],
        "5046595094246563415": [
         "117",
         {
          "args": [
           "-4460552892802476395",
           "-1625024887734732800"
          ],
          "function": "BlockBuilder.ret"
         }
        ],
        "5115694749475143828": [
         "148",
         {
          "args": [
           "5230752817590163161",
           "-2722635904436527254"
          ],
          "function": "Function.create"
         }
        ],
        "5138255520121652568": [
         "148",
         {
          "args": [
           "3767887897527053750",
           "3176148116486638054"
          ],
          "function": "Function.create"
         }
        ],
        "5146816509388945144": [
         "145",
         {
          "args": [
           "7238978707411830437"
          ],
          "function": "Pair.right",
          "type_params": {
           "T": {
            "type": "BlockBuilder"
           },
           "U": {
            "type": "Value"
           }
          }
         }
        ],
        "5167764124062571412": [
         "147",
         {
          "args": [
           "823416377049269664"
          ],
          "function": "Vec.create"
         }
        ],
        "5171310978507787957": [
         "72",
         {
          "args": [
           "-2396633751784687127",
           "-5278229221164349057"
          ],
          "function": "Module.create"
         }
        ],
        "5191582222642432341": [
         "73",
         {
          "args": [
           "6049796167416184756"
          ],
          "function": "Module.to_string"
         }
        ],
        "5197700720306722050": [
         "145",
         {
          "args": [
           "712737792173996548"
          ],
          "function": "Pair.right",
          "type_params": {
           "T": {
            "type": "BlockBuilder"
           },
           "U": {
            "type": "Value"
           }
          }
         }
        ],
        "5217103235626146506": [
         "142",
         {
          "args": [
           "6330560636470525092"
          ],
          "function": "FunctionBuilder.arguments"
         }
        ],
        "5230752817590163161": [
         "140",
         {
          "args": [
           "2267787467726447583"
          ],
          "function": "Pair.left",
          "type_params": {
           "T": {
            "type": "FunctionBuilder"
           },
           "U": {
            "type": "BlockBuilder"
           }
          }
         }
        ],
        "5231174895897335810": [
         "73",
         {
          "args": [
           "-6159002862391460320"
          ],
          "function": "Module.to_string"
         }
        ],
        "5250117159111482292": [
         "76",
         {
          "args": [
           "4559695708346790326"
          ],
          "function": "ExecutionEngine.create"
         }
        ],
        "5257279745904273780": [
         "145",
         {
          "args": [
           "465603627205655058"
          ],
          "function": "Pair.right",
          "type_params": {
           "T": {
            "type": "BlockBuilder"
           },
           "U": {
            "type": "Value"
           }
          }
         }
        ],
        "5258883228145377369": [
         "114",
         {
          "args": [
           "-5536952608420895087",
           "8642348607594373047",
           "-5343249568608216511"
          ],
          "function": "BlockBuilder.add"
         }
        ],
        "5281924961365383336": [
         "72",
         {
          "args": [
           "2015042617533581453",
           "5035778882851723984"
          ],
          "function": "Module.create"
         }
        ],
        "5282156243057573490": [
         "33",
         {
          "args": [
           "4611151268333121164",
           "5021142622337364886"
          ],
          "function": "CFunctionType.__call__"
         }
        ],
        "5312773014637809041": [
         "139",
         {
          "args": [
           "3854549401785218970",
           "3767887897527053750"
          ],
          "function": "BlockBuilder.create"
         }
        ],
        "5322964226060338774": [
         "75",
         {
          "args": [
           "-7357687754321843128",
           "-2875747113732640390"
          ],
          "function": "ModuleRef.optimize"
         }
        ],
        "5326988129486099632": [
         "148",
         {
          "args": [
           "-4681625036525354210",
           "-8932210668352411420"
          ],
          "function": "Function.create"
         }
        ],
        "5375941818724302343": [
         "71",
         {
          "args": [
           "-7263899777811922924",
           "-8295077158023983141"
          ],
          "function": "Vec.create"
         }
        ],
        "5407424160131032482": [
         "117",
         {
          "args": [
           "-4460552892802476395",
           "7383030897103503067"
          ],
          "function": "BlockBuilder.ret"
         }
        ],
        "5439288020515210860": [
         "79",
         {
          "args": [
           "-3795820655425765986",
           "236452356753618388"
          ],
          "function": "ExecutionEngine.get_function_address"
         }
        ],
        "544761945823200644": [
         "72",
         {
          "args": [
           "1384074109445627179",
           "4353262663880799912"
          ],
          "function": "Module.create"
         }
        ],
        "5486922900183026865": [
         "112",
         {
          "args": [
           "2497729764867837609"
          ],
          "function": "Pair.right",
          "type_params": {
           "T": {
            "type": "BlockBuilder"
           },
           "U": {
            "type": "Value"
           }
          }
         }
        ],
        "5492503375990345066": [
         "75",
         {
          "args": [
           "-4450314932944533434",
           "-2875747113732640390"
          ],
          "function": "ModuleRef.optimize"
         }
        ],
        "5546547979392609240": [
         "71",
         {
          "args": [
           "7519601509917884243",
           "-3081389068083354389"
          ],
          "function": "Vec.create"
         }
        ],
        "5572303251761909208": [
         "145",
         {
          "args": [
           "2775587311093879028"
          ],
          "function": "Pair.right",
          "type_params": {
           "T": {
            "type": "BlockBuilder"
           },
           "U": {
            "type": "Value"
           }
          }
         }
        ],
        "5575513973576023302": [
         "117",
         {
          "args": [
           "-5264935999019573170",
           "-4822066994188288499"
          ],
          "function": "BlockBuilder.ret"
         }
        ],
        "5579038469249906381": [
         "72",
         {
          "args": [
           "2015042617533581453",
           "-6802207519052525821"
          ],
          "function": "Module.create"
         }
        ],
        "5581033169307904587": [
         "74",
         {
          "args": [
           "3384679386596535495"
          ],
          "function": "ModuleRef.create"
         }
        ],
        "5621748707860190844": [
         "146",
         {
          "args": [
           "345695624078598118",
           "-7785203829254619345"
          ],
          "function": "BlockBuilder.ret"
         }
        ],
        "5727837545503377346": [
         "71",
         {
          "args": [
           "7207556839318262825",
           "2655128229304722362"
          ],
          "function": "Vec.create"
         }
        ],
        "5758072105626261292": [
         "147",
         {
          "args": [
           "2328630335768262167"
          ],
          "function": "Vec.create"
         }
        ],
        "5812989756413168233": [
         "76",
         {
          "args": [
           "-4245667527724045272"
          ],
          "function": "ExecutionEngine.create"
         }
        ],
        "5945724183670242635": [
         "140",
         {
          "args": [
           "5312773014637809041"
          ],
          "function": "Pair.left",
          "type_params": {
           "T": {
            "type": "FunctionBuilder"
           },
           "U": {
            "type": "BlockBuilder"
           }
          }
         }
        ],
        "6025741619409208155": [
         "163",
         {
          "args": [
           "397755043729386369",
           "4037777674430066896",
           "8458824072032212400",
           "-7025864216202428048"
          ],
          "function": "FunctionBuilder.create"
         }
        ],
        "6032599995307813148": [
         "75",
         {
          "args": [
           "-239155450465901215",
           "-2875747113732640390"
          ],
          "function": "ModuleRef.optimize"
         }
        ],
        "6049796167416184756": [
         "72",
         {
          "args": [
           "4529417730683882927",
           "-8160800965535985815"
          ],
          "function": "Module.create"
         }
        ],
        "6082087534608030176": [
         "146",
         {
          "args": [
           "-265524059974138304",
           "177344944857146367"
          ],
          "function": "BlockBuilder.ret"
         }
        ],
        "6084490878735428830": [
         "110",
         {
          "args": [
           "-9023859640047425505",
           "-3456594742513068271",
           "3454536360513949516"
          ],
          "function": "BlockBuilder.add"
         }
        ],
        "6118771839815715112": [
         "116",
         {
          "args": [
           "1677668534303254218"
          ],
          "function": "Pair.right",
          "type_params": {
           "T": {
            "type": "BlockBuilder"
           },
           "U": {
            "type": "Value"
           }
          }
         }
        ],
        "6146628555896443683": [
         "144",
         {
          "args": [
           "465603627205655058"
          ],
          "function": "Pair.left",
          "type_params": {
           "T": {
            "type": "BlockBuilder"
           },
           "U": {
            "type": "Value"
           }
          }
         }
        ],
        "6162177704046563319": [
         "117",
         {
          "args": [
           "1555875362197670570",
           "1998744367028955241"
          ],
          "function": "BlockBuilder.ret"
         }
        ],
        "6163893540838096181": [
         "148",
         {
          "args": [
           "-1100198686683696674",
           "-7098443047413058040"
          ],
          "function": "Function.create"
         }
        ],
        "619538652957136227": [
         "73",
         {
          "args": [
           "-6540526218953643621"
          ],
          "function": "Module.to_string"
         }
        ],
        "6211532741365554382": [
         "78",
         {
          "args": [
           "494992722559769293"
          ],
          "function": "FunctionBuilder.name"
         }
        ],
        "6263644268407523667": [
         "74",
         {
          "args": [
           "8331297074541768472"
          ],
          "function": "ModuleRef.create"
         }
        ],
        "6274799738699508327": [
         "72",
         {
          "args": [
           "-233498181631277125",
           "-7189057429016318229"
          ],
          "function": "Module.create"
         }
        ],
        "6275611283884810287": [
         "141",
         {
          "args": [
           "4794575255297265057"
          ],
          "function": "Pair.right",
          "type_params": {
           "T": {
            "type": "FunctionBuilder"
           },
           "U": {
            "type": "BlockBuilder"
           }
          }
         }
        ],
        "6284607061058033804": [
         "114",
         {
          "args": [
           "-3129722024390776628",
           "-2686853019559491957",
           "239896206786207752"
          ],
          "function": "BlockBuilder.add"
         }
        ],
        "6302092871072744607": [
         "118",
         {
          "args": [
           "434845539192730507"
          ],
          "function": "Vec.create"
         }
        ],
        "6305795258896845347": [
         "73",
         {
          "args": [
           "-2493353301703271655"
          ],
          "function": "Module.to_string"
         }
        ],
        "6311558311761160737": [
         "146",
         {
          "args": [
           "-5952211054886122406",
           "160797537212034354"
          ],
          "function": "BlockBuilder.ret"
         }
        ],
        "6330560636470525092": [
         "140",
         {
          "args": [
           "9105736282050911272"
          ],
          "function": "Pair.left",
          "type_params": {
           "T": {
            "type": "FunctionBuilder"
           },
           "U": {
            "type": "BlockBuilder"
           }
          }
         }
        ],
        "6405061915001130614": [
         "146",
         {
          "args": [
           "3717929759405152562",
           "4160798764236437233"
          ],
          "function": "BlockBuilder.ret"
         }
        ],
        "6408723158442358033": [
         "76",
         {
          "args": [
           "-9170167682689020348"
          ],
          "function": "ExecutionEngine.create"
         }
        ],
        "6413345878440522246": [
         "75",
         {
          "args": [
           "7528720884014353724",
           "-2875747113732640390"
          ],
          "function": "ModuleRef.optimize"
         }
        ],
        "6457998956718253633": [
         "115",
         {
          "args": [
           "-4154546266521996343"
          ],
          "function": "Pair.left",
          "type_params": {
           "T": {
            "type": "BlockBuilder"
           },
           "U": {
            "type": "Value"
           }
          }
         }
        ],
        "6461715529389154870": [
         "33",
         {
          "args": [
           "4611151268333121164",
           "1734193452518429640"
          ],
          "function": "CFunctionType.__call__"
         }
        ],
        "6479394253176400402": [
         "33",
         {
          "args": [
           "4611151268333121164",
           "-1746860293695875628"
          ],
          "function": "CFunctionType.__call__"
         }
        ],
        "6491596625507797907": [
         "79",
         {
          "args": [
           "1113044274824818452",
           "7681621932254222815"
          ],
          "function": "ExecutionEngine.get_function_address"
         }
        ],
        "6528326842513997946": [
         "72",
         {
          "args": [
           "1384074109445627179",
           "-936649201630236805"
          ],
          "function": "Module.create"
         }
        ],
        "6586330854161360988": [
         "76",
         {
          "args": [
           "-8809422021959496805"
          ],
          "function": "ExecutionEngine.create"
         }
        ],
        "6651653056486919501": [
         "75",
         {
          "args": [
           "8963654702820155802",
           "-2875747113732640390"
          ],
          "function": "ModuleRef.optimize"
         }
        ],
        "6674586379136766701": [
         "74",
         {
          "args": [
           "-951290211807951686"
          ],
          "function": "ModuleRef.create"
         }
        ],
        "6681196885939579554": [
         "108",
         {
          "args": [
           "-2875747113732640390"
          ],
          "function": "Integer.from_int"
         }
        ],
        "6690752510304122348": [
         "33",
         {
          "args": [
           "4611151268333121164",
           "-5073935261798358815"
          ],
          "function": "CFunctionType.__call__"
         }
        ],
        "6695143955972111259": [
         "75",
         {
          "args": [
           "3693563943008654969",
           "-2875747113732640390"
          ],
          "function": "ModuleRef.optimize"
         }
        ],
        "6731889765015156642": [
         "115",
         {
          "args": [
           "8796399967394610010"
          ],
          "function": "Pair.left",
          "type_params": {
           "T": {
            "type": "BlockBuilder"
           },
           "U": {
            "type": "Value"
           }
          }
         }
        ],
        "6758556889230685697": [
         "79",
         {
          "args": [
           "-6812616672573364545",
           "-4420257848889367721"
          ],
          "function": "ExecutionEngine.get_function_address"
         }
        ],
        "6771964313031537083": [
         "79",
         {
          "args": [
           "973764419656868877",
           "-5326278498752327507"
          ],
          "function": "ExecutionEngine.get_function_address"
         }
        ],
        "6815715748706712786": [
         "73",
         {
          "args": [
           "544761945823200644"
          ],
          "function": "Module.to_string"
         }
        ],
        "6846593533820429382": [
         "164",
         {
          "repr": "i32",
          "type": "IntType"
         }
        ],
        "6859393132023738082": [
         "73",
         {
          "args": [
           "4818160933004388963"
          ],
          "function": "Module.to_string"
         }
        ],
        "689152239704630920": [
         "79",
         {
          "args": [
           "8424551437719248409",
           "7681621932254222815"
          ],
          "function": "ExecutionEngine.get_function_address"
         }
        ],
        "6900867961549538304": [
         "116",
         {
          "args": [
           "-4154546266521996343"
          ],
          "function": "Pair.right",
          "type_params": {
           "T": {
            "type": "BlockBuilder"
           },
           "U": {
            "type": "Value"
           }
          }
         }
        ],
        "6918295714860687625": [
         "79",
         {
          "args": [
           "-5949019626212554482",
           "7681621932254222815"
          ],
          "function": "ExecutionEngine.get_function_address"
         }
        ],
        "6933555530660595900": [
         "114",
         {
          "args": [
           "2782040218175349882",
           "3224909223006634553",
           "-5343249568608216511"
          ],
          "function": "BlockBuilder.add"
         }
        ],
        "6943517573877943550": [
         "117",
         {
          "args": [
           "6457998956718253633",
           "6900867961549538304"
          ],
          "function": "BlockBuilder.ret"
         }
        ],
        "6954319912496533531": [
         "75",
         {
          "args": [
           "401707550803181045",
           "-2875747113732640390"
          ],
          "function": "ModuleRef.optimize"
         }
        ],
        "6998038419135547246": [
         "75",
         {
          "args": [
           "-6536439671457691118",
           "-2875747113732640390"
          ],
          "function": "ModuleRef.optimize"
         }
        ],
        "7012515375228113446": [
         "117",
         {
          "args": [
           "3101295110549733623",
           "2211946300557563720"
          ],
          "function": "BlockBuilder.ret"
         }
        ],
        "7023427768849760806": [
         "117",
         {
          "args": [
           "-2425312999352833278",
           "3687695592745323482"
          ],
          "function": "BlockBuilder.ret"
         }
        ],
        "7028004542766583783": [
         "71",
         {
          "args": [
           "2361972512937787141",
           "378916728778156861"
          ],
          "function": "Vec.create"
         }
        ],
        "7070840665597725877": [
         "72",
         {
          "args": [
           "8391240349672452528",
           "3771420319638691075"
          ],
          "function": "Module.create"
         }
        ],
        "7104743707725161299": [
         "119",
         {
          "args": [
           "-8965620968903673144",
           "1131653791913896719"
          ],
          "function": "Function.create"
         }
        ],
        "7109373853513139633": [
         "118",
         {
          "args": [
           "-1137113470731642378"
          ],
          "function": "Vec.create"
         }
        ],
        "7113254275876620040": [
         "78",
         {
          "args": [
           "2784991022367606447"
          ],
          "function": "FunctionBuilder.name"
         }
        ],
        "711994104776063317": [
         "139",
         {
          "args": [
           "3854549401785218970",
           "-5950584921309263827"
          ],
          "function": "BlockBuilder.create"
         }
        ],
        "712737792173996548": [
         "143",
         {
          "args": [
           "3788976593789951718",
           "-8965620968903673144",
           "-7520580652935116747"
          ],
          "function": "BlockBuilder.call"
         }
        ],
        "7137322431411709346": [
         "145",
         {
          "args": [
           "8530699254232755827"
          ],
          "function": "Pair.right",
          "type_params": {
           "T": {
            "type": "BlockBuilder"
           },
           "U": {
            "type": "Value"
           }
          }
         }
        ],
        "7174758769846441313": [
         "116",
         {
          "args": [
           "8796399967394610010"
          ],
          "function": "Pair.right",
          "type_params": {
           "T": {
            "type": "BlockBuilder"
           },
           "U": {
            "type": "Value"
           }
          }
         }
        ],
        "719411598118275193": [
         "105",
         {
          "args": [
           "9063356203874912801"
          ],
          "function": "Integer.from_int"
         }
        ],
        "7207556839318262825": [
         "119",
         {
          "args": [
           "-8965620968903673144",
           "7978792650180288284"
          ],
          "function": "Function.create"
         }
        ],
        "720917623241716800": [
         "142",
         {
          "args": [
           "-6330822719899341621",
           "-5569951149269661857"
          ],
          "function": "Vec.create"
         }
        ],
        "7210883838380465320": [
         "101",
         {
          "args": [
           "-8965620968903673144",
           "-5536952608420895087"
          ],
          "function": "Pair.create"
         }
        ],
        "7238978707411830437": [
         "143",
         {
          "args": [
           "1966935900301724544",
           "-1142548508375951181",
           "-2461098623686363971"
          ],
          "function": "BlockBuilder.call"
         }
        ],
        "7241755195653989297": [
         "72",
         {
          "args": [
           "1384074109445627179",
           "-6625370711719580339"
          ],
          "function": "Module.create"
         }
        ],
        "724611705289107572": [
         "69",
         {
          "args": [
           "-7263899777811922924"
          ],
          "function": "Vec.create"
         }
        ],
        "7250690002013030237": [
         "76",
         {
          "args": [
           "6413345878440522246"
          ],
          "function": "ExecutionEngine.create"
         }
        ],
        "7269838149763926119": [
         "143",
         {
          "args": [
           "8713622520213685046",
           "-8828060553512541590",
           "1077827126427455037"
          ],
          "function": "BlockBuilder.call"
         }
        ],
        "7270169198496945127": [
         "114",
         {
          "args": [
           "3330103838106318097",
           "3772972842937602768",
           "-5343249568608216511"
          ],
          "function": "BlockBuilder.add"
         }
        ],
        "7278062698775584293": [
         "118",
         {
          "args": [
           "7012515375228113446"
          ],
          "function": "Vec.create"
         }
        ],
        "7317646397126167630": [
         "146",
         {
          "args": [
           "-966192082709211616",
           "5146816509388945144"
          ],
          "function": "BlockBuilder.ret"
         }
        ],
        "7364977299824091908": [
         "73",
         {
          "args": [
           "2240515824321775051"
          ],
          "function": "Module.to_string"
         }
        ],
        "7383030897103503067": [
         "116",
         {
          "args": [
           "1751906471138555418"
          ],
          "function": "Pair.right",
          "type_params": {
           "T": {
            "type": "BlockBuilder"
           },
           "U": {
            "type": "Value"
           }
          }
         }
        ],
        "7388461592958796607": [
         "33",
         {
          "args": [
           "4611151268333121164",
           "-1122254114546425322"
          ],
          "function": "CFunctionType.__call__"
         }
        ],
        "7455713472387643791": [
         "33",
         {
          "args": [
           "4611151268333121164",
           "9204875241309308253"
          ],
          "function": "CFunctionType.__call__"
         }
        ],
        "7499411146967502759": [
         "79",
         {
          "args": [
           "-466110064903363004",
           "7681621932254222815"
          ],
          "function": "ExecutionEngine.get_function_address"
         }
        ],
        "7519601509917884243": [
         "119",
         {
          "args": [
           "-877117171874290748"
          ],
          "function": "Function.box"
         }
        ],
        "7528720884014353724": [
         "74",
         {
          "args": [
           "-4069751056550352837"
          ],
          "function": "ModuleRef.create"
         }
        ],
        "7539403764853213942": [
         "74",
         {
          "args": [
           "4034494413224183908"
          ],
          "function": "ModuleRef.create"
         }
        ],
        "7588427381583129387": [
         "156",
         {
          "args": [
           "-6284171169172277379"
          ],
          "function": "Pair.left",
          "type_params": {
           "T": {
            "type": "ModuleBuilder"
           },
           "U": {
            "type": "FunctionBuilder"
           }
          }
         }
        ],
        "7617374406129211343": [
         "118",
         {
          "args": [
           "5046595094246563415"
          ],
          "function": "Vec.create"
         }
        ],
        "7633277811330242618": [
         "76",
         {
          "args": [
           "8419033909555927794"
          ],
          "function": "ExecutionEngine.create"
         }
        ],
        "7637063009693252296": [
         "45",
         {
          "args": [
           "397755043729386369",
           "-8828060553512541590"
          ],
          "function": "make_c_wrapper"
         }
        ],
        "7659607200732054834": [
         "202",
         {
          "repr": "%\".5\" = add i32 %\".4\", 1",
          "type": "Instruction"
         }
        ],
        "7659722411185996894": [
         "119",
         {
          "args": [
           "-8965620968903673144",
           "6302092871072744607"
          ],
          "function": "Function.create"
         }
        ],
        "7673588058917032260": [
         "46",
         {
          "args": [
           "-4960811231500945378"
          ],
          "function": "Pair.left",
          "type_params": {
           "T": {
            "type": "ModuleBuilder"
           },
           "U": {
            "type": "FunctionBuilder"
           }
          }
         }
        ],
        "7680433538102245774": [
         "138",
         {
          "args": [
           "-3983608428353076569"
          ],
          "function": "Pair.right",
          "type_params": {
           "T": {
            "type": "ModuleBuilder"
           },
           "U": {
            "type": "FunctionBuilder"
           }
          }
         }
        ],
        "7681621932254222815": [
         "78",
         {
          "args": [
           "3767887897527053750"
          ],
          "function": "FunctionBuilder.name"
         }
        ],
        "7684280382193793027": [
         "106",
         {
          "args": [
           "8446525304271610807",
           "719411598118275193"
          ],
          "function": "Vec.__getitem__",
          "type_params": {
           "T": {
            "type": "Value"
           }
          }
         }
        ],
        "7759002207401636467": [
         "118",
         {
          "args": [
           "-2162057918862317750"
          ],
          "function": "Vec.create"
         }
        ],
        "7795366843965705729": [
         "73",
         {
          "args": [
           "-8062775864744758135"
          ],
          "function": "Module.to_string"
         }
        ],
        "7826195752968480244": [
         "205",
         {
          "repr": "<llvmlite.ir.builder.IRBuilder object at 0x7fe3105c4af0>",
          "type": "IRBuilder"
         }
        ],
        "7828334701523295079": [
         "72",
         {
          "args": [
           "1384074109445627179",
           "4703636550623401328"
          ],
          "function": "Module.create"
         }
        ],
        "7879351228258198570": [
         "142",
         {
          "args": [
           "5230752817590163161"
          ],
          "function": "FunctionBuilder.arguments"
         }
        ],
        "788564628909882789": [
         "145",
         {
          "args": [
           "2617331658497288501"
          ],
          "function": "Pair.right",
          "type_params": {
           "T": {
            "type": "BlockBuilder"
           },
           "U": {
            "type": "Value"
           }
          }
         }
        ],
        "789059832130117244": [
         "74",
         {
          "args": [
           "-7563711257983292677"
          ],
          "function": "ModuleRef.create"
         }
        ],
        "7978792650180288284": [
         "118",
         {
          "args": [
           "-9022476610448866631"
          ],
          "function": "Vec.create"
         }
        ],
        "7987994596277266699": [
         "106",
         {
          "args": [
           "-3864071707467855106",
           "719411598118275193"
          ],
          "function": "Vec.__getitem__",
          "type_params": {
           "T": {
            "type": "Value"
           }
          }
         }
        ],
        "8019754128676107980": [
         "76",
         {
          "args": [
           "5322964226060338774"
          ],
          "function": "ExecutionEngine.create"
         }
        ],
        "8047717861615618120": [
         "33",
         {
          "args": [
           "4611151268333121164",
           "6491596625507797907"
          ],
          "function": "CFunctionType.__call__"
         }
        ],
        "8047929947529397150": [
         "146",
         {
          "args": [
           "6146628555896443683",
           "5257279745904273780"
          ],
          "function": "BlockBuilder.ret"
         }
        ],
        "8076731726353817577": [
         "76",
         {
          "args": [
           "-7302690285042111774"
          ],
          "function": "ExecutionEngine.create"
         }
        ],
        "8082578106438898285": [
         "34",
         {
          "function": "CType.c_int"
         }
        ],
        "8083267088865976778": [
         "156",
         {
          "args": [
           "4849141869152655527"
          ],
          "function": "Pair.left",
          "type_params": {
           "T": {
            "type": "ModuleBuilder"
           },
           "U": {
            "type": "FunctionBuilder"
           }
          }
         }
        ],
        "8109293482846198230": [
         "101",
         {
          "args": [
           "3854549401785218970",
           "-8828060553512541590"
          ],
          "function": "BlockBuilder.create"
         }
        ],
        "8113260162548276665": [
         "76",
         {
          "args": [
           "6998038419135547246"
          ],
          "function": "ExecutionEngine.create"
         }
        ],
        "8151804920152563948": [
         "75",
         {
          "args": [
           "-366582185765909922",
           "-2875747113732640390"
          ],
          "function": "ModuleRef.optimize"
         }
        ],
        "8153678834830718908": [
         "147",
         {
          "args": [
           "-8848762644560490754"
          ],
          "function": "Vec.create"
         }
        ],
        "8165672321590224091": [
         "139",
         {
          "args": [
           "3854549401785218970",
           "8244579515933361"
          ],
          "function": "BlockBuilder.create"
         }
        ],
        "8175149886409309116": [
         "68",
         {
          "args": [
           "397755043729386369",
           "724611705289107572"
          ],
          "function": "Module.create"
         }
        ],
        "8218858477716490249": [
         "116",
         {
          "args": [
           "-8679393646428090945"
          ],
          "function": "Pair.right",
          "type_params": {
           "T": {
            "type": "BlockBuilder"
           },
           "U": {
            "type": "Value"
           }
          }
         }
        ],
        "8228503204864133342": [
         "72",
         {
          "args": [
           "1384074109445627179",
           "-2466451985888907290"
          ],
          "function": "Module.create"
         }
        ],
        "8231681351304524228": [
         "78",
         {
          "args": [
           "-4681625036525354210"
          ],
          "function": "FunctionBuilder.name"
         }
        ],
        "823416377049269664": [
         "146",
         {
          "args": [
           "-8866547348045203036",
           "4292490532687810549"
          ],
          "function": "BlockBuilder.ret"
         }
        ],
        "8244579515933361": [
         "138",
         {
          "args": [
           "6025741619409208155"
          ],
          "function": "Pair.right",
          "type_params": {
           "T": {
            "type": "ModuleBuilder"
           },
           "U": {
            "type": "FunctionBuilder"
           }
          }
         }
        ],
        "8257397461747072627": [
         "79",
         {
          "args": [
           "-3563907223293142238",
           "6211532741365554382"
          ],
          "function": "ExecutionEngine.get_function_address"
         }
        ],
        "8324722692191761116": [
         "115",
         {
          "args": [
           "7270169198496945127"
          ],
          "function": "Pair.left",
          "type_params": {
           "T": {
            "type": "BlockBuilder"
           },
           "U": {
            "type": "Value"
           }
          }
         }
        ],
        "8328537902622743377": [
         "114",
         {
          "args": [
           "3315001099391930282",
           "2425652289399760379",
           "-5343249568608216511"
          ],
          "function": "BlockBuilder.add"
         }
        ],
        "8331297074541768472": [
         "73",
         {
          "args": [
           "-3057721082920351613"
          ],
          "function": "Module.to_string"
         }
        ],
        "8342746578518607463": [
         "78",
         {
          "args": [
           "-5408874070266782417"
          ],
          "function": "FunctionBuilder.name"
         }
        ],
        "8371595623243741157": [
         "35",
         {
          "args": [
           "-9037989002867070824",
           "-9037989002867070824"
          ],
          "function": "CFunctionType.create"
         }
        ],
        "8391240349672452528": [
         "46",
         {
          "args": [
           "6025741619409208155"
          ],
          "function": "Pair.left",
          "type_params": {
           "T": {
            "type": "ModuleBuilder"
           },
           "U": {
            "type": "FunctionBuilder"
           }
          }
         }
        ],
        "8419033909555927794": [
         "75",
         {
          "args": [
           "1863220833433786226",
           "-2875747113732640390"
          ],
          "function": "ModuleRef.optimize"
         }
        ],
        "8424551437719248409": [
         "76",
         {
          "args": [
           "6695143955972111259"
          ],
          "function": "ExecutionEngine.create"
         }
        ],
        "8424788887093773741": [
         "76",
         {
          "args": [
           "-4182164179333697838"
          ],
          "function": "ExecutionEngine.create"
         }
        ],
        "8431826596581375085": [
         "79",
         {
          "args": [
           "7633277811330242618",
           "7681621932254222815"
          ],
          "function": "ExecutionEngine.get_function_address"
         }
        ],
        "8434382375997535498": [
         "73",
         {
          "args": [
           "1336568758770464208"
          ],
          "function": "Module.to_string"
         }
        ],
        "8435457562749102441": [
         "79",
         {
          "args": [
           "-426807894894940547",
           "-6214699508159069552"
          ],
          "function": "ExecutionEngine.get_function_address"
         }
        ],
        "8446525304271610807": [
         "103",
         {
          "args": [
           "-8828060553512541590"
          ],
          "function": "FunctionBuilder.arguments"
         }
        ],
        "8458824072032212400": [
         "161",
         {
          "repr": "entry_add",
          "type": "str"
         }
        ],
        "8481524213906415969": [
         "33",
         {
          "args": [
           "4611151268333121164",
           "8815139289600886436"
          ],
          "function": "CFunctionType.__call__"
         }
        ],
        "8492105459667917249": [
         "146",
         {
          "args": [
           "8935456387937256492",
           "2332296104133684338"
          ],
          "function": "BlockBuilder.ret"
         }
        ],
        "8530699254232755827": [
         "143",
         {
          "args": [
           "3250898527718506170",
           "2895201209852683170",
           "-5617829925289346195"
          ],
          "function": "BlockBuilder.call"
         }
        ],
        "8576965406583094641": [
         "138",
         {
          "args": [
           "-2456040948782538201"
          ],
          "function": "Pair.right",
          "type_params": {
           "T": {
            "type": "ModuleBuilder"
           },
           "U": {
            "type": "FunctionBuilder"
           }
          }
         }
        ],
        "861039075485339073": [
         "76",
         {
          "args": [
           "1440780675638145056"
          ],
          "function": "ExecutionEngine.create"
         }
        ],
        "8611055119689614648": [
         "147",
         {
          "args": [
           "-8311412055569834102"
          ],
          "function": "Vec.create"
         }
        ],
        "8621364663399133019": [
         "119",
         {
          "args": [
           "-8965620968903673144",
           "4617215150354920742"
          ],
          "function": "Function.create"
         }
        ],
        "8628365370122789231": [
         "33",
         {
          "args": [
           "4611151268333121164",
           "-6957964835705270549"
          ],
          "function": "CFunctionType.__call__"
         }
        ],
        "8642348607594373047": [
         "196",
         {
          "args": [
           "-6436206749743579477"
          ],
          "function": "Value.box"
         }
        ],
        "8671036772807196085": [
         "79",
         {
          "args": [
           "-7737419500129110718",
           "7681621932254222815"
          ],
          "function": "ExecutionEngine.get_function_address"
         }
        ],
        "8713622520213685046": [
         "141",
         {
          "args": [
           "8165672321590224091"
          ],
          "function": "Pair.right",
          "type_params": {
           "T": {
            "type": "FunctionBuilder"
           },
           "U": {
            "type": "BlockBuilder"
           }
          }
         }
        ],
        "8767591697023045787": [
         "116",
         {
          "args": [
           "7270169198496945127"
          ],
          "function": "Pair.right",
          "type_params": {
           "T": {
            "type": "BlockBuilder"
           },
           "U": {
            "type": "Value"
           }
          }
         }
        ],
        "8796399967394610010": [
         "114",
         {
          "args": [
           "8975599267358381792",
           "8642348607594373047",
           "-5343249568608216511"
          ],
          "function": "BlockBuilder.add"
         }
        ],
        "8815060898526258188": [
         "119",
         {
          "args": [
           "-8965620968903673144",
           "-4497013277077180418"
          ],
          "function": "Function.create"
         }
        ],
        "8815139289600886436": [
         "79",
         {
          "args": [
           "3279307359433639315",
           "7681621932254222815"
          ],
          "function": "ExecutionEngine.get_function_address"
         }
        ],
        "8841145711949038950": [
         "73",
         {
          "args": [
           "7070840665597725877"
          ],
          "function": "Module.to_string"
         }
        ],
        "8896486254415346793": [
         "111",
         {
          "args": [
           "-5457511094994361243"
          ],
          "function": "Pair.left",
          "type_params": {
           "T": {
            "type": "BlockBuilder"
           },
           "U": {
            "type": "Value"
           }
          }
         }
        ],
        "8909343255766521162": [
         "71",
         {
          "args": [
           "7207556839318262825",
           "2665349191014716867"
          ],
          "function": "Vec.create"
         }
        ],
        "8930821348456656661": [
         "71",
         {
          "args": [
           "-8613425278206524268",
           "2655128229304722362"
          ],
          "function": "Vec.create"
         }
        ],
        "8935456387937256492": [
         "144",
         {
          "args": [
           "33321243032204724"
          ],
          "function": "Pair.left",
          "type_params": {
           "T": {
            "type": "BlockBuilder"
           },
           "U": {
            "type": "Value"
           }
          }
         }
        ],
        "8941937268231667926": [
         "106",
         {
          "args": [
           "-3672572165328334450"
          ],
          "function": "Value.box"
         }
        ],
        "8963654702820155802": [
         "74",
         {
          "args": [
           "-497136927078599070"
          ],
          "function": "ModuleRef.create"
         }
        ],
        "8971788651707699345": [
         "73",
         {
          "args": [
           "7241755195653989297"
          ],
          "function": "Module.to_string"
         }
        ],
        "8975599267358381792": [
         "111",
         {
          "args": [
           "2373627649614631170"
          ],
          "function": "Pair.left",
          "type_params": {
           "T": {
            "type": "BlockBuilder"
           },
           "U": {
            "type": "Value"
           }
          }
         }
        ],
        "905420348297678652": [
         "72",
         {
          "args": [
           "1384074109445627179",
           "3554667645005040009"
          ],
          "function": "Module.create"
         }
        ],
        "9063356203874912801": [
         "104",
         {
          "repr": "0",
          "type": "int"
         }
        ],
        "9087222923539702665": [
         "78",
         {
          "args": [
           "-4406179529748422215"
          ],
          "function": "FunctionBuilder.name"
         }
        ],
        "9092312485827693487": [
         "33",
         {
          "args": [
           "4611151268333121164",
           "-4650465068488518652"
          ],
          "function": "CFunctionType.__call__"
         }
        ],
        "9093379198681745195": [
         "111",
         {
          "args": [
           "6084490878735428830"
          ],
          "function": "Pair.left",
          "type_params": {
           "T": {
            "type": "BlockBuilder"
           },
           "U": {
            "type": "Value"
           }
          }
         }
        ],
        "9105736282050911272": [
         "139",
         {
          "args": [
           "3854549401785218970",
           "4589072911851978404"
          ],
          "function": "BlockBuilder.create"
         }
        ],
        "9190872380093856121": [
         "75",
         {
          "args": [
           "1399722404663403407",
           "-2875747113732640390"
          ],
          "function": "ModuleRef.optimize"
         }
        ],
        "9191355211071257981": [
         "73",
         {
          "args": [
           "6274799738699508327"
          ],
          "function": "Module.to_string"
         }
        ],
        "9194253344101589114": [
         "74",
         {
          "args": [
           "6815715748706712786"
          ],
          "function": "ModuleRef.create"
         }
        ],
        "9204875241309308253": [
         "79",
         {
          "args": [
           "-8733649969164587121",
           "8342746578518607463"
          ],
          "function": "ExecutionEngine.get_function_address"
         }
        ],
        "9210489444517995268": [
         "152",
         {
          "args": [
           "1416578364858149990"
          ],
          "function": "Type.create_int"
         }
        ],
        "936433186675021175": [
         "72",
         {
          "args": [
           "-4729149355267848022",
           "-5278229221164349057"
          ],
          "function": "Module.create"
         }
        ],
        "973764419656868877": [
         "76",
         {
          "args": [
           "-3086180010448820060"
          ],
          "function": "ExecutionEngine.create"
         }
        ]
       },
       "states": {
        "initial": "1574494949692620732",
        "states": [
         {
          "node": "3918510443070288819",
          "rule": "metadsl_llvm.ctypes.compile_function"
         },
         {
          "node": "-7409550650480773810",
          "rule": "metadsl_llvm.llvmlite_ir.module_functions"
         },
         {
          "node": "6690752510304122348",
          "rule": "metadsl_core.vec.append"
         },
         {
          "node": "7388461592958796607",
          "rule": "metadsl_llvm.ctypes.make_c_wrapper"
         },
         {
          "node": "-1112731901265873131",
          "rule": "metadsl_core.pair.pair_right"
         },
         {
          "node": "-4872690078920210711",
          "rule": "metadsl_llvm.llvmlite_ir.function_builder"
         },
         {
          "node": "-5921267819819542168",
          "rule": "metadsl_core.pair.pair_left"
         },
         {
          "node": "-4605797859253360357",
          "rule": "metadsl_llvm.llvmlite_ir.function_builder_name"
         },
         {
          "node": "-5134165836768589960",
          "rule": "metadsl_llvm.ctypes.concat_strings"
         },
         {
          "node": "-5073122520584820067",
          "rule": "metadsl_llvm.llvmlite_ir.function_builder_type"
         },
         {
          "label": "core",
          "node": "-5073122520584820067",
          "rule": ""
         },
         {
          "node": "-2064765290878346623",
          "rule": "metadsl_llvm.llvmlite_ir.type_create_int_box"
         },
         {
          "node": "4248417464739313553",
          "rule": "metadsl_llvm.llvmlite_ir.value_constant"
         },
         {
          "node": "-3187110031684467245",
          "rule": "metadsl_llvm.llvmlite_ir.function_type_box_2"
         },
         {
          "node": "6461715529389154870",
          "rule": "metadsl_llvm.llvmlite_ir.module_builder_box"
         },
         {
          "node": "330517251076819046",
          "rule": "metadsl_llvm.llvmlite_ir.function_builder_box"
         },
         {
          "node": "6479394253176400402",
          "rule": "metadsl_llvm.llvmlite_ir.function_builder_arguments"
         },
         {
          "node": "7455713472387643791",
          "rule": "metadsl_llvm.llvmlite_ir.block_builder_box"
         },
         {
          "node": "1801950706887858521",
          "rule": "metadsl_llvm.llvmlite_ir.function_builder_create"
         },
         {
          "node": "-1646197316688867437",
          "rule": "metadsl_llvm.llvmlite_ir.function_builder_box"
         },
         {
          "node": "3541350285687104321",
          "rule": "metadsl_llvm.llvmlite_ir.block_builder_box"
         },
         {
          "node": "1947565618993260598",
          "rule": "metadsl_llvm.llvmlite_ir.function_builder_create"
         },
         {
          "node": "-7516239871248351556",
          "rule": "metadsl_core.pair.pair_right"
         },
         {
          "node": "-3347149746272363124",
          "rule": "metadsl_core.pair.pair_left"
         },
         {
          "node": "-6391601170480695641",
          "rule": "metadsl_core.vec.getitem"
         },
         {
          "node": "-2750544034334797942",
          "rule": "metadsl_core.vec.getitem"
         },
         {
          "node": "-3623265144148711675",
          "rule": "metadsl_core.pair.pair_right"
         },
         {
          "node": "3462455738246030841",
          "rule": "metadsl_llvm.llvmlite_ir.function_builder_arguments"
         },
         {
          "node": "-7618551949069378780",
          "rule": "metadsl_llvm.llvmlite_ir.builder_call_2"
         },
         {
          "node": "5282156243057573490",
          "rule": "metadsl_llvm.llvmlite_ir.builder_add"
         },
         {
          "node": "-4847663421200720371",
          "rule": "metadsl_core.pair.pair_right"
         },
         {
          "node": "2250059886640892518",
          "rule": "metadsl_core.pair.pair_left"
         },
         {
          "node": "8481524213906415969",
          "rule": "metadsl_core.pair.pair_right"
         },
         {
          "node": "8047717861615618120",
          "rule": "metadsl_core.pair.pair_left"
         },
         {
          "node": "2645703747688289143",
          "rule": "metadsl_llvm.llvmlite_ir.builder_ret"
         },
         {
          "node": "3084128981065913953",
          "rule": "metadsl_llvm.llvmlite_ir.builder_add"
         },
         {
          "node": "-8122690814268884015",
          "rule": "metadsl_core.pair.pair_right"
         },
         {
          "node": "1177042759769215657",
          "rule": "metadsl_core.pair.pair_left"
         },
         {
          "node": "-4304350720847667160",
          "rule": "metadsl_llvm.llvmlite_ir.builder_ret"
         },
         {
          "label": "llvmlite.ir (reference)",
          "node": "-4304350720847667160",
          "rule": ""
         },
         {
          "node": "-2989758483961390442",
          "rule": "metadsl_llvm.llvmlite_ir.function_box_1"
         },
         {
          "node": "3513476540347485299",
          "rule": "metadsl_llvm.llvmlite_ir.function_box_1"
         },
         {
          "node": "8628365370122789231",
          "rule": "metadsl_llvm.llvmlite_ir.module_box_2"
         },
         {
          "node": "-2240030504244369033",
          "rule": "metadsl_llvm.llvmlite_ir.module_to_string"
         },
         {
          "label": "llvmlite.ir",
          "node": "-2240030504244369033",
          "rule": ""
         },
         {
          "node": "9092312485827693487",
          "rule": "metadsl_llvm.llvmlite_binding.module_ref_create"
         },
         {
          "node": "410060782594474463",
          "rule": "metadsl_llvm.llvmlite_binding.module_ref_optimize"
         },
         {
          "node": "-1806691734274519814",
          "rule": "metadsl_llvm.llvmlite_binding.execution_engine_create"
         },
         {
          "label": "llvmlite.binding",
          "node": "-1806691734274519814",
          "rule": ""
         },
         {
          "node": "133367520050910050",
          "rule": "metadsl_llvm.ctypes.ctype_cint"
         },
         {
          "node": "3152270965507089028",
          "rule": "metadsl_llvm.ctypes.c_function_type_create_1"
         },
         {
          "label": "ctypes",
          "node": "3152270965507089028",
          "rule": ""
         }
        ]
       }
      },
      "text/plain": [
       "Typez(definitions=None, nodes={'-3852039776920631331': ['149', PrimitiveNode(type='str', repr='add')], '1067033674993709082': ['150', CallNode(function='ModuleBuilder.create', type_params=None, args=['-3852039776920631331'], kwargs=None)], '1416578364858149990': ['151', PrimitiveNode(type='int', repr='32')], '9210489444517995268': ['152', CallNode(function='Type.create_int', type_params=None, args=['1416578364858149990'], kwargs=None)], '-288593990817465293': ['153', CallNode(function='FunctionType.create', type_params=None, args=['9210489444517995268', '9210489444517995268', '9210489444517995268'], kwargs=None)], '198959599831326067': ['154', PrimitiveNode(type='str', repr='fastcc')], '2425906681578405346': ['155', CallNode(function='FunctionBuilder.create', type_params=None, args=['1067033674993709082', '-288593990817465293', '-3852039776920631331', '198959599831326067'], kwargs=None)], '397755043729386369': ['156', CallNode(function='Pair.left', type_params={'U': DeclaredTypeInstance(type='FunctionBuilder', params=None), 'T': DeclaredTypeInstance(type='ModuleBuilder', params=None)}, args=['2425906681578405346'], kwargs=None)], '-8828060553512541590': ['157', CallNode(function='Pair.right', type_params={'U': DeclaredTypeInstance(type='FunctionBuilder', params=None), 'T': DeclaredTypeInstance(type='ModuleBuilder', params=None)}, args=['2425906681578405346'], kwargs=None)], '3854549401785218970': ['137', PrimitiveNode(type='str', repr='entry')], '8109293482846198230': ['101', CallNode(function='BlockBuilder.create', type_params=None, args=['3854549401785218970', '-8828060553512541590'], kwargs=None)], '-8014898394403425229': ['102', CallNode(function='Pair.right', type_params={'U': DeclaredTypeInstance(type='BlockBuilder', params=None), 'T': DeclaredTypeInstance(type='FunctionBuilder', params=None)}, args=['8109293482846198230'], kwargs=None)], '8446525304271610807': ['103', CallNode(function='FunctionBuilder.arguments', type_params=None, args=['-8828060553512541590'], kwargs=None)], '9063356203874912801': ['104', PrimitiveNode(type='int', repr='0')], '719411598118275193': ['105', CallNode(function='Integer.from_int', type_params=None, args=['9063356203874912801'], kwargs=None)], '7684280382193793027': ['106', CallNode(function='Vec.__getitem__', type_params={'T': DeclaredTypeInstance(type='Value', params=None)}, args=['8446525304271610807', '719411598118275193'], kwargs=None)], '-2875747113732640390': ['107', PrimitiveNode(type='int', repr='1')], '6681196885939579554': ['108', CallNode(function='Integer.from_int', type_params=None, args=['-2875747113732640390'], kwargs=None)], '4915317728958369938': ['109', CallNode(function='Vec.__getitem__', type_params={'T': DeclaredTypeInstance(type='Value', params=None)}, args=['8446525304271610807', '6681196885939579554'], kwargs=None)], '4543062501790561193': ['110', CallNode(function='BlockBuilder.add', type_params=None, args=['-8014898394403425229', '7684280382193793027', '4915317728958369938'], kwargs=None)], '-3129722024390776628': ['111', CallNode(function='Pair.left', type_params={'U': DeclaredTypeInstance(type='Value', params=None), 'T': DeclaredTypeInstance(type='BlockBuilder', params=None)}, args=['4543062501790561193'], kwargs=None)], '-2686853019559491957': ['112', CallNode(function='Pair.right', type_params={'U': DeclaredTypeInstance(type='Value', params=None), 'T': DeclaredTypeInstance(type='BlockBuilder', params=None)}, args=['4543062501790561193'], kwargs=None)], '239896206786207752': ['113', CallNode(function='Value.constant', type_params=None, args=['9210489444517995268', '-2875747113732640390'], kwargs=None)], '6284607061058033804': ['114', CallNode(function='BlockBuilder.add', type_params=None, args=['-3129722024390776628', '-2686853019559491957', '239896206786207752'], kwargs=None)], '-952508131219236239': ['115', CallNode(function='Pair.left', type_params={'U': DeclaredTypeInstance(type='Value', params=None), 'T': DeclaredTypeInstance(type='BlockBuilder', params=None)}, args=['6284607061058033804'], kwargs=None)], '-509639126387951568': ['116', CallNode(function='Pair.right', type_params={'U': DeclaredTypeInstance(type='Value', params=None), 'T': DeclaredTypeInstance(type='BlockBuilder', params=None)}, args=['6284607061058033804'], kwargs=None)], '-2162057918862317750': ['117', CallNode(function='BlockBuilder.ret', type_params=None, args=['-952508131219236239', '-509639126387951568'], kwargs=None)], '7759002207401636467': ['118', CallNode(function='Vec.create', type_params=None, args=['-2162057918862317750'], kwargs=None)], '-7263899777811922924': ['119', CallNode(function='Function.create', type_params=None, args=['-8828060553512541590', '7759002207401636467'], kwargs=None)], '724611705289107572': ['69', CallNode(function='Vec.create', type_params=None, args=['-7263899777811922924'], kwargs=None)], '8175149886409309116': ['68', CallNode(function='Module.create', type_params=None, args=['397755043729386369', '724611705289107572'], kwargs=None)], '8082578106438898285': ['34', CallNode(function='CType.c_int', type_params=None, args=None, kwargs=None)], '4611151268333121164': ['35', CallNode(function='CFunctionType.create', type_params=None, args=['8082578106438898285', '8082578106438898285'], kwargs=None)], '1574494949692620732': ['33', CallNode(function='compile_function', type_params=None, args=['8175149886409309116', '397755043729386369', '-8828060553512541590', '4611151268333121164', '-2875747113732640390'], kwargs=None)], '7637063009693252296': ['45', CallNode(function='make_c_wrapper', type_params=None, args=['397755043729386369', '-8828060553512541590'], kwargs=None)], '2097652115354136582': ['46', CallNode(function='Pair.left', type_params={'U': DeclaredTypeInstance(type='Function', params=None), 'T': DeclaredTypeInstance(type='ModuleBuilder', params=None)}, args=['7637063009693252296'], kwargs=None)], '-5265843048422603660': ['69', CallNode(function='Module.functions', type_params=None, args=['8175149886409309116'], kwargs=None)], '-1468275687401998537': ['120', CallNode(function='Pair.right', type_params={'U': DeclaredTypeInstance(type='Function', params=None), 'T': DeclaredTypeInstance(type='ModuleBuilder', params=None)}, args=['7637063009693252296'], kwargs=None)], '2022596790429832334': ['71', CallNode(function='Vec.append', type_params={'T': DeclaredTypeInstance(type='Function', params=None)}, args=['-5265843048422603660', '-1468275687401998537'], kwargs=None)], '-8062775864744758135': ['72', CallNode(function='Module.create', type_params=None, args=['2097652115354136582', '2022596790429832334'], kwargs=None)], '7795366843965705729': ['73', CallNode(function='Module.to_string', type_params=None, args=['-8062775864744758135'], kwargs=None)], '-7357687754321843128': ['74', CallNode(function='ModuleRef.create', type_params=None, args=['7795366843965705729'], kwargs=None)], '5322964226060338774': ['75', CallNode(function='ModuleRef.optimize', type_params=None, args=['-7357687754321843128', '-2875747113732640390'], kwargs=None)], '8019754128676107980': ['76', CallNode(function='ExecutionEngine.create', type_params=None, args=['5322964226060338774'], kwargs=None)], '2784991022367606447': ['77', CallNode(function='Function.builder', type_params=None, args=['-1468275687401998537'], kwargs=None)], '7113254275876620040': ['78', CallNode(function='FunctionBuilder.name', type_params=None, args=['2784991022367606447'], kwargs=None)], '-6137716113108792480': ['79', CallNode(function='ExecutionEngine.get_function_address', type_params=None, args=['8019754128676107980', '7113254275876620040'], kwargs=None)], '3918510443070288819': ['33', CallNode(function='CFunctionType.__call__', type_params=None, args=['4611151268333121164', '-6137716113108792480'], kwargs=None)], '1313279983596862906': ['71', CallNode(function='Vec.append', type_params={'T': DeclaredTypeInstance(type='Function', params=None)}, args=['724611705289107572', '-1468275687401998537'], kwargs=None)], '4818160933004388963': ['72', CallNode(function='Module.create', type_params=None, args=['2097652115354136582', '1313279983596862906'], kwargs=None)], '6859393132023738082': ['73', CallNode(function='Module.to_string', type_params=None, args=['4818160933004388963'], kwargs=None)], '3647403027255491507': ['74', CallNode(function='ModuleRef.create', type_params=None, args=['6859393132023738082'], kwargs=None)], '-4245667527724045272': ['75', CallNode(function='ModuleRef.optimize', type_params=None, args=['3647403027255491507', '-2875747113732640390'], kwargs=None)], '5812989756413168233': ['76', CallNode(function='ExecutionEngine.create', type_params=None, args=['-4245667527724045272'], kwargs=None)], '-93248411933935547': ['79', CallNode(function='ExecutionEngine.get_function_address', type_params=None, args=['5812989756413168233', '7113254275876620040'], kwargs=None)], '-7409550650480773810': ['33', CallNode(function='CFunctionType.__call__', type_params=None, args=['4611151268333121164', '-93248411933935547'], kwargs=None)], '4173078870532017721': ['71', CallNode(function='Vec.create', type_params=None, args=['-7263899777811922924', '-1468275687401998537'], kwargs=None)], '1008213735708352226': ['72', CallNode(function='Module.create', type_params=None, args=['2097652115354136582', '4173078870532017721'], kwargs=None)], '4888931410273910634': ['73', CallNode(function='Module.to_string', type_params=None, args=['1008213735708352226'], kwargs=None)], '-4426725663834185153': ['74', CallNode(function='ModuleRef.create', type_params=None, args=['4888931410273910634'], kwargs=None)], '-8809422021959496805': ['75', CallNode(function='ModuleRef.optimize', type_params=None, args=['-4426725663834185153', '-2875747113732640390'], kwargs=None)], '6586330854161360988': ['76', CallNode(function='ExecutionEngine.create', type_params=None, args=['-8809422021959496805'], kwargs=None)], '-5073935261798358815': ['79', CallNode(function='ExecutionEngine.get_function_address', type_params=None, args=['6586330854161360988', '7113254275876620040'], kwargs=None)], '6690752510304122348': ['33', CallNode(function='CFunctionType.__call__', type_params=None, args=['4611151268333121164', '-5073935261798358815'], kwargs=None)], '4037777674430066896': ['158', CallNode(function='FunctionBuilder.type', type_params=None, args=['-8828060553512541590'], kwargs=None)], '-6537372868815635978': ['159', PrimitiveNode(type='str', repr='entry_')], '-6198730969323296038': ['160', CallNode(function='FunctionBuilder.name', type_params=None, args=['-8828060553512541590'], kwargs=None)], '-4280552148468288533': ['161', CallNode(function='concat_strings', type_params=None, args=['-6537372868815635978', '-6198730969323296038'], kwargs=None)], '-7025864216202428048': ['162', PrimitiveNode(type='str', repr='')], '4769776937195401455': ['163', CallNode(function='FunctionBuilder.create', type_params=None, args=['397755043729386369', '4037777674430066896', '-4280552148468288533', '-7025864216202428048'], kwargs=None)], '-2396633751784687127': ['46', CallNode(function='Pair.left', type_params={'U': DeclaredTypeInstance(type='FunctionBuilder', params=None), 'T': DeclaredTypeInstance(type='ModuleBuilder', params=None)}, args=['4769776937195401455'], kwargs=None)], '2425937341698568402': ['138', CallNode(function='Pair.right', type_params={'U': DeclaredTypeInstance(type='FunctionBuilder', params=None), 'T': DeclaredTypeInstance(type='ModuleBuilder', params=None)}, args=['4769776937195401455'], kwargs=None)], '-9220194286087586445': ['139', CallNode(function='BlockBuilder.create', type_params=None, args=['3854549401785218970', '2425937341698568402'], kwargs=None)], '-4406179529748422215': ['140', CallNode(function='Pair.left', type_params={'U': DeclaredTypeInstance(type='BlockBuilder', params=None), 'T': DeclaredTypeInstance(type='FunctionBuilder', params=None)}, args=['-9220194286087586445'], kwargs=None)], '-8920482331992655827': ['141', CallNode(function='Pair.right', type_params={'U': DeclaredTypeInstance(type='BlockBuilder', params=None), 'T': DeclaredTypeInstance(type='FunctionBuilder', params=None)}, args=['-9220194286087586445'], kwargs=None)], '-6114979661649636897': ['142', CallNode(function='FunctionBuilder.arguments', type_params=None, args=['-4406179529748422215'], kwargs=None)], '33321243032204724': ['143', CallNode(function='BlockBuilder.call', type_params=None, args=['-8920482331992655827', '-8828060553512541590', '-6114979661649636897'], kwargs=None)], '8935456387937256492': ['144', CallNode(function='Pair.left', type_params={'U': DeclaredTypeInstance(type='Value', params=None), 'T': DeclaredTypeInstance(type='BlockBuilder', params=None)}, args=['33321243032204724'], kwargs=None)], '2332296104133684338': ['145', CallNode(function='Pair.right', type_params={'U': DeclaredTypeInstance(type='Value', params=None), 'T': DeclaredTypeInstance(type='BlockBuilder', params=None)}, args=['33321243032204724'], kwargs=None)], '8492105459667917249': ['146', CallNode(function='BlockBuilder.ret', type_params=None, args=['8935456387937256492', '2332296104133684338'], kwargs=None)], '-989255008663956118': ['147', CallNode(function='Vec.create', type_params=None, args=['8492105459667917249'], kwargs=None)], '3559084881515566894': ['148', CallNode(function='Function.create', type_params=None, args=['-4406179529748422215', '-989255008663956118'], kwargs=None)], '2669043947936910606': ['45', CallNode(function='Pair.create', type_params=None, args=['-2396633751784687127', '3559084881515566894'], kwargs=None)], '-4729149355267848022': ['46', CallNode(function='Pair.left', type_params={'U': DeclaredTypeInstance(type='Function', params=None), 'T': DeclaredTypeInstance(type='ModuleBuilder', params=None)}, args=['2669043947936910606'], kwargs=None)], '-8295077158023983141': ['120', CallNode(function='Pair.right', type_params={'U': DeclaredTypeInstance(type='Function', params=None), 'T': DeclaredTypeInstance(type='ModuleBuilder', params=None)}, args=['2669043947936910606'], kwargs=None)], '5375941818724302343': ['71', CallNode(function='Vec.create', type_params=None, args=['-7263899777811922924', '-8295077158023983141'], kwargs=None)], '-6159002862391460320': ['72', CallNode(function='Module.create', type_params=None, args=['-4729149355267848022', '5375941818724302343'], kwargs=None)], '5231174895897335810': ['73', CallNode(function='Module.to_string', type_params=None, args=['-6159002862391460320'], kwargs=None)], '-8150094585257010016': ['74', CallNode(function='ModuleRef.create', type_params=None, args=['5231174895897335810'], kwargs=None)], '-4311083897125303173': ['75', CallNode(function='ModuleRef.optimize', type_params=None, args=['-8150094585257010016', '-2875747113732640390'], kwargs=None)], '-4467679232896839012': ['76', CallNode(function='ExecutionEngine.create', type_params=None, args=['-4311083897125303173'], kwargs=None)], '-9182731518438447296': ['77', CallNode(function='Function.builder', type_params=None, args=['-8295077158023983141'], kwargs=None)], '-3824478070956266198': ['78', CallNode(function='FunctionBuilder.name', type_params=None, args=['-9182731518438447296'], kwargs=None)], '-1122254114546425322': ['79', CallNode(function='ExecutionEngine.get_function_address', type_params=None, args=['-4467679232896839012', '-3824478070956266198'], kwargs=None)], '7388461592958796607': ['33', CallNode(function='CFunctionType.__call__', type_params=None, args=['4611151268333121164', '-1122254114546425322'], kwargs=None)], '-5278229221164349057': ['71', CallNode(function='Vec.create', type_params=None, args=['-7263899777811922924', '3559084881515566894'], kwargs=None)], '936433186675021175': ['72', CallNode(function='Module.create', type_params=None, args=['-4729149355267848022', '-5278229221164349057'], kwargs=None)], '-3858334471422517901': ['73', CallNode(function='Module.to_string', type_params=None, args=['936433186675021175'], kwargs=None)], '-2690179634851659724': ['74', CallNode(function='ModuleRef.create', type_params=None, args=['-3858334471422517901'], kwargs=None)], '-2639629708311320764': ['75', CallNode(function='ModuleRef.optimize', type_params=None, args=['-2690179634851659724', '-2875747113732640390'], kwargs=None)], '-6941331448813036041': ['76', CallNode(function='ExecutionEngine.create', type_params=None, args=['-2639629708311320764'], kwargs=None)], '-2465690818826703473': ['77', CallNode(function='Function.builder', type_params=None, args=['3559084881515566894'], kwargs=None)], '3608397908703833284': ['78', CallNode(function='FunctionBuilder.name', type_params=None, args=['-2465690818826703473'], kwargs=None)], '-3245265910568606575': ['79', CallNode(function='ExecutionEngine.get_function_address', type_params=None, args=['-6941331448813036041', '3608397908703833284'], kwargs=None)], '-1112731901265873131': ['33', CallNode(function='CFunctionType.__call__', type_params=None, args=['4611151268333121164', '-3245265910568606575'], kwargs=None)], '9087222923539702665': ['78', CallNode(function='FunctionBuilder.name', type_params=None, args=['-4406179529748422215'], kwargs=None)], '-8575385631567635356': ['79', CallNode(function='ExecutionEngine.get_function_address', type_params=None, args=['-6941331448813036041', '9087222923539702665'], kwargs=None)], '-4872690078920210711': ['33', CallNode(function='CFunctionType.__call__', type_params=None, args=['4611151268333121164', '-8575385631567635356'], kwargs=None)], '5171310978507787957': ['72', CallNode(function='Module.create', type_params=None, args=['-2396633751784687127', '-5278229221164349057'], kwargs=None)], '-8657473161744851467': ['73', CallNode(function='Module.to_string', type_params=None, args=['5171310978507787957'], kwargs=None)], '-66239512394601062': ['74', CallNode(function='ModuleRef.create', type_params=None, args=['-8657473161744851467'], kwargs=None)], '2515697879257382616': ['75', CallNode(function='ModuleRef.optimize', type_params=None, args=['-66239512394601062', '-2875747113732640390'], kwargs=None)], '-2969888460218800310': ['76', CallNode(function='ExecutionEngine.create', type_params=None, args=['2515697879257382616'], kwargs=None)], '3308013842424019131': ['79', CallNode(function='ExecutionEngine.get_function_address', type_params=None, args=['-2969888460218800310', '9087222923539702665'], kwargs=None)], '-5921267819819542168': ['33', CallNode(function='CFunctionType.__call__', type_params=None, args=['4611151268333121164', '3308013842424019131'], kwargs=None)], '-8457666343865625609': ['161', CallNode(function='concat_strings', type_params=None, args=['-6537372868815635978', '-3852039776920631331'], kwargs=None)], '3540020716583934995': ['163', CallNode(function='FunctionBuilder.create', type_params=None, args=['397755043729386369', '4037777674430066896', '-8457666343865625609', '-7025864216202428048'], kwargs=None)], '1381632287106762864': ['46', CallNode(function='Pair.left', type_params={'U': DeclaredTypeInstance(type='FunctionBuilder', params=None), 'T': DeclaredTypeInstance(type='ModuleBuilder', params=None)}, args=['3540020716583934995'], kwargs=None)], '-4353691577399267606': ['138', CallNode(function='Pair.right', type_params={'U': DeclaredTypeInstance(type='FunctionBuilder', params=None), 'T': DeclaredTypeInstance(type='ModuleBuilder', params=None)}, args=['3540020716583934995'], kwargs=None)], '-5864423618534446922': ['139', CallNode(function='BlockBuilder.create', type_params=None, args=['3854549401785218970', '-4353691577399267606'], kwargs=None)], '-7750677306110942985': ['140', CallNode(function='Pair.left', type_params={'U': DeclaredTypeInstance(type='BlockBuilder', params=None), 'T': DeclaredTypeInstance(type='FunctionBuilder', params=None)}, args=['-5864423618534446922'], kwargs=None)], '-4773224718526804152': ['141', CallNode(function='Pair.right', type_params={'U': DeclaredTypeInstance(type='BlockBuilder', params=None), 'T': DeclaredTypeInstance(type='FunctionBuilder', params=None)}, args=['-5864423618534446922'], kwargs=None)], '2316620372752252675': ['142', CallNode(function='FunctionBuilder.arguments', type_params=None, args=['-7750677306110942985'], kwargs=None)], '4703118174638314396': ['143', CallNode(function='BlockBuilder.call', type_params=None, args=['-4773224718526804152', '-8828060553512541590', '2316620372752252675'], kwargs=None)], '-8788544538670921290': ['144', CallNode(function='Pair.left', type_params={'U': DeclaredTypeInstance(type='Value', params=None), 'T': DeclaredTypeInstance(type='BlockBuilder', params=None)}, args=['4703118174638314396'], kwargs=None)], '3941530964864997126': ['145', CallNode(function='Pair.right', type_params={'U': DeclaredTypeInstance(type='Value', params=None), 'T': DeclaredTypeInstance(type='BlockBuilder', params=None)}, args=['4703118174638314396'], kwargs=None)], '2328630335768262167': ['146', CallNode(function='BlockBuilder.ret', type_params=None, args=['-8788544538670921290', '3941530964864997126'], kwargs=None)], '5758072105626261292': ['147', CallNode(function='Vec.create', type_params=None, args=['2328630335768262167'], kwargs=None)], '-407885628895334384': ['148', CallNode(function='Function.create', type_params=None, args=['-7750677306110942985', '5758072105626261292'], kwargs=None)], '-7102000906721930457': ['71', CallNode(function='Vec.create', type_params=None, args=['-7263899777811922924', '-407885628895334384'], kwargs=None)], '-2957979112219236327': ['72', CallNode(function='Module.create', type_params=None, args=['1381632287106762864', '-7102000906721930457'], kwargs=None)], '3384679386596535495': ['73', CallNode(function='Module.to_string', type_params=None, args=['-2957979112219236327'], kwargs=None)], '5581033169307904587': ['74', CallNode(function='ModuleRef.create', type_params=None, args=['3384679386596535495'], kwargs=None)], '-3086180010448820060': ['75', CallNode(function='ModuleRef.optimize', type_params=None, args=['5581033169307904587', '-2875747113732640390'], kwargs=None)], '973764419656868877': ['76', CallNode(function='ExecutionEngine.create', type_params=None, args=['-3086180010448820060'], kwargs=None)], '-5326278498752327507': ['78', CallNode(function='FunctionBuilder.name', type_params=None, args=['-7750677306110942985'], kwargs=None)], '6771964313031537083': ['79', CallNode(function='ExecutionEngine.get_function_address', type_params=None, args=['973764419656868877', '-5326278498752327507'], kwargs=None)], '-4605797859253360357': ['33', CallNode(function='CFunctionType.__call__', type_params=None, args=['4611151268333121164', '6771964313031537083'], kwargs=None)], '8458824072032212400': ['161', PrimitiveNode(type='str', repr='entry_add')], '6025741619409208155': ['163', CallNode(function='FunctionBuilder.create', type_params=None, args=['397755043729386369', '4037777674430066896', '8458824072032212400', '-7025864216202428048'], kwargs=None)], '8391240349672452528': ['46', CallNode(function='Pair.left', type_params={'U': DeclaredTypeInstance(type='FunctionBuilder', params=None), 'T': DeclaredTypeInstance(type='ModuleBuilder', params=None)}, args=['6025741619409208155'], kwargs=None)], '8244579515933361': ['138', CallNode(function='Pair.right', type_params={'U': DeclaredTypeInstance(type='FunctionBuilder', params=None), 'T': DeclaredTypeInstance(type='ModuleBuilder', params=None)}, args=['6025741619409208155'], kwargs=None)], '8165672321590224091': ['139', CallNode(function='BlockBuilder.create', type_params=None, args=['3854549401785218970', '8244579515933361'], kwargs=None)], '494992722559769293': ['140', CallNode(function='Pair.left', type_params={'U': DeclaredTypeInstance(type='BlockBuilder', params=None), 'T': DeclaredTypeInstance(type='FunctionBuilder', params=None)}, args=['8165672321590224091'], kwargs=None)], '8713622520213685046': ['141', CallNode(function='Pair.right', type_params={'U': DeclaredTypeInstance(type='BlockBuilder', params=None), 'T': DeclaredTypeInstance(type='FunctionBuilder', params=None)}, args=['8165672321590224091'], kwargs=None)], '1077827126427455037': ['142', CallNode(function='FunctionBuilder.arguments', type_params=None, args=['494992722559769293'], kwargs=None)], '7269838149763926119': ['143', CallNode(function='BlockBuilder.call', type_params=None, args=['8713622520213685046', '-8828060553512541590', '1077827126427455037'], kwargs=None)], '4431236575811268574': ['144', CallNode(function='Pair.left', type_params={'U': DeclaredTypeInstance(type='Value', params=None), 'T': DeclaredTypeInstance(type='BlockBuilder', params=None)}, args=['7269838149763926119'], kwargs=None)], '4874105580642553245': ['145', CallNode(function='Pair.right', type_params={'U': DeclaredTypeInstance(type='Value', params=None), 'T': DeclaredTypeInstance(type='BlockBuilder', params=None)}, args=['7269838149763926119'], kwargs=None)], '-3614823371080358347': ['146', CallNode(function='BlockBuilder.ret', type_params=None, args=['4431236575811268574', '4874105580642553245'], kwargs=None)], '-9024966396258762946': ['147', CallNode(function='Vec.create', type_params=None, args=['-3614823371080358347'], kwargs=None)], '-3956033694219196187': ['148', CallNode(function='Function.create', type_params=None, args=['494992722559769293', '-9024966396258762946'], kwargs=None)], '3771420319638691075': ['71', CallNode(function='Vec.create', type_params=None, args=['-7263899777811922924', '-3956033694219196187'], kwargs=None)], '7070840665597725877': ['72', CallNode(function='Module.create', type_params=None, args=['8391240349672452528', '3771420319638691075'], kwargs=None)], '8841145711949038950': ['73', CallNode(function='Module.to_string', type_params=None, args=['7070840665597725877'], kwargs=None)], '-4450314932944533434': ['74', CallNode(function='ModuleRef.create', type_params=None, args=['8841145711949038950'], kwargs=None)], '5492503375990345066': ['75', CallNode(function='ModuleRef.optimize', type_params=None, args=['-4450314932944533434', '-2875747113732640390'], kwargs=None)], '-3563907223293142238': ['76', CallNode(function='ExecutionEngine.create', type_params=None, args=['5492503375990345066'], kwargs=None)], '6211532741365554382': ['78', CallNode(function='FunctionBuilder.name', type_params=None, args=['494992722559769293'], kwargs=None)], '8257397461747072627': ['79', CallNode(function='ExecutionEngine.get_function_address', type_params=None, args=['-3563907223293142238', '6211532741365554382'], kwargs=None)], '-5134165836768589960': ['33', CallNode(function='CFunctionType.__call__', type_params=None, args=['4611151268333121164', '8257397461747072627'], kwargs=None)], '-2456040948782538201': ['163', CallNode(function='FunctionBuilder.create', type_params=None, args=['397755043729386369', '-288593990817465293', '8458824072032212400', '-7025864216202428048'], kwargs=None)], '-1486782896969937808': ['46', CallNode(function='Pair.left', type_params={'U': DeclaredTypeInstance(type='FunctionBuilder', params=None), 'T': DeclaredTypeInstance(type='ModuleBuilder', params=None)}, args=['-2456040948782538201'], kwargs=None)], '8576965406583094641': ['138', CallNode(function='Pair.right', type_params={'U': DeclaredTypeInstance(type='FunctionBuilder', params=None), 'T': DeclaredTypeInstance(type='ModuleBuilder', params=None)}, args=['-2456040948782538201'], kwargs=None)], '4794575255297265057': ['139', CallNode(function='BlockBuilder.create', type_params=None, args=['3854549401785218970', '8576965406583094641'], kwargs=None)], '-1100198686683696674': ['140', CallNode(function='Pair.left', type_params={'U': DeclaredTypeInstance(type='BlockBuilder', params=None), 'T': DeclaredTypeInstance(type='FunctionBuilder', params=None)}, args=['4794575255297265057'], kwargs=None)], '6275611283884810287': ['141', CallNode(function='Pair.right', type_params={'U': DeclaredTypeInstance(type='BlockBuilder', params=None), 'T': DeclaredTypeInstance(type='FunctionBuilder', params=None)}, args=['4794575255297265057'], kwargs=None)], '-9090313576489807786': ['142', CallNode(function='FunctionBuilder.arguments', type_params=None, args=['-1100198686683696674'], kwargs=None)], '2775587311093879028': ['143', CallNode(function='BlockBuilder.call', type_params=None, args=['6275611283884810287', '-8828060553512541590', '-9090313576489807786'], kwargs=None)], '-7586734628971104377': ['144', CallNode(function='Pair.left', type_params={'U': DeclaredTypeInstance(type='Value', params=None), 'T': DeclaredTypeInstance(type='BlockBuilder', params=None)}, args=['2775587311093879028'], kwargs=None)], '5572303251761909208': ['145', CallNode(function='Pair.right', type_params={'U': DeclaredTypeInstance(type='Value', params=None), 'T': DeclaredTypeInstance(type='BlockBuilder', params=None)}, args=['2775587311093879028'], kwargs=None)], '1116854067067515778': ['146', CallNode(function='BlockBuilder.ret', type_params=None, args=['-7586734628971104377', '5572303251761909208'], kwargs=None)], '-7098443047413058040': ['147', CallNode(function='Vec.create', type_params=None, args=['1116854067067515778'], kwargs=None)], '6163893540838096181': ['148', CallNode(function='Function.create', type_params=None, args=['-1100198686683696674', '-7098443047413058040'], kwargs=None)], '2535376575638060623': ['71', CallNode(function='Vec.create', type_params=None, args=['-7263899777811922924', '6163893540838096181'], kwargs=None)], '1336568758770464208': ['72', CallNode(function='Module.create', type_params=None, args=['-1486782896969937808', '2535376575638060623'], kwargs=None)], '8434382375997535498': ['73', CallNode(function='Module.to_string', type_params=None, args=['1336568758770464208'], kwargs=None)], '-239155450465901215': ['74', CallNode(function='ModuleRef.create', type_params=None, args=['8434382375997535498'], kwargs=None)], '6032599995307813148': ['75', CallNode(function='ModuleRef.optimize', type_params=None, args=['-239155450465901215', '-2875747113732640390'], kwargs=None)], '-2512574757142937612': ['76', CallNode(function='ExecutionEngine.create', type_params=None, args=['6032599995307813148'], kwargs=None)], '-3956607961551708441': ['78', CallNode(function='FunctionBuilder.name', type_params=None, args=['-1100198686683696674'], kwargs=None)], '-3781603251190124333': ['79', CallNode(function='ExecutionEngine.get_function_address', type_params=None, args=['-2512574757142937612', '-3956607961551708441'], kwargs=None)], '-5073122520584820067': ['33', CallNode(function='CFunctionType.__call__', type_params=None, args=['4611151268333121164', '-3781603251190124333'], kwargs=None)], '6846593533820429382': ['164', PrimitiveNode(type='IntType', repr='i32')], '3494032584360650721': ['152', CallNode(function='Type.box', type_params=None, args=['6846593533820429382'], kwargs=None)], '-6382366759138667872': ['153', CallNode(function='FunctionType.create', type_params=None, args=['3494032584360650721', '3494032584360650721', '3494032584360650721'], kwargs=None)], '-1655013738410447605': ['155', CallNode(function='FunctionBuilder.create', type_params=None, args=['1067033674993709082', '-6382366759138667872', '-3852039776920631331', '198959599831326067'], kwargs=None)], '-7168547093700349279': ['156', CallNode(function='Pair.left', type_params={'U': DeclaredTypeInstance(type='FunctionBuilder', params=None), 'T': DeclaredTypeInstance(type='ModuleBuilder', params=None)}, args=['-1655013738410447605'], kwargs=None)], '-3983608428353076569': ['163', CallNode(function='FunctionBuilder.create', type_params=None, args=['-7168547093700349279', '-6382366759138667872', '8458824072032212400', '-7025864216202428048'], kwargs=None)], '2015042617533581453': ['46', CallNode(function='Pair.left', type_params={'U': DeclaredTypeInstance(type='FunctionBuilder', params=None), 'T': DeclaredTypeInstance(type='ModuleBuilder', params=None)}, args=['-3983608428353076569'], kwargs=None)], '2895201209852683170': ['157', CallNode(function='Pair.right', type_params={'U': DeclaredTypeInstance(type='FunctionBuilder', params=None), 'T': DeclaredTypeInstance(type='ModuleBuilder', params=None)}, args=['-1655013738410447605'], kwargs=None)], '-858936382931220437': ['101', CallNode(function='BlockBuilder.create', type_params=None, args=['3854549401785218970', '2895201209852683170'], kwargs=None)], '-2940993248055319999': ['102', CallNode(function='Pair.right', type_params={'U': DeclaredTypeInstance(type='BlockBuilder', params=None), 'T': DeclaredTypeInstance(type='FunctionBuilder', params=None)}, args=['-858936382931220437'], kwargs=None)], '3876652821478560268': ['103', CallNode(function='FunctionBuilder.arguments', type_params=None, args=['2895201209852683170'], kwargs=None)], '1263280659485554078': ['106', CallNode(function='Vec.__getitem__', type_params={'T': DeclaredTypeInstance(type='Value', params=None)}, args=['3876652821478560268', '719411598118275193'], kwargs=None)], '-4996173726485766500': ['109', CallNode(function='Vec.__getitem__', type_params={'T': DeclaredTypeInstance(type='Value', params=None)}, args=['3876652821478560268', '6681196885939579554'], kwargs=None)], '1890233499734604314': ['110', CallNode(function='BlockBuilder.add', type_params=None, args=['-2940993248055319999', '1263280659485554078', '-4996173726485766500'], kwargs=None)], '3330103838106318097': ['111', CallNode(function='Pair.left', type_params={'U': DeclaredTypeInstance(type='Value', params=None), 'T': DeclaredTypeInstance(type='BlockBuilder', params=None)}, args=['1890233499734604314'], kwargs=None)], '3772972842937602768': ['112', CallNode(function='Pair.right', type_params={'U': DeclaredTypeInstance(type='Value', params=None), 'T': DeclaredTypeInstance(type='BlockBuilder', params=None)}, args=['1890233499734604314'], kwargs=None)], '1299702581176293200': ['113', CallNode(function='Value.constant', type_params=None, args=['3494032584360650721', '-2875747113732640390'], kwargs=None)], '-258671823125383050': ['114', CallNode(function='BlockBuilder.add', type_params=None, args=['3330103838106318097', '3772972842937602768', '1299702581176293200'], kwargs=None)], '3101295110549733623': ['115', CallNode(function='Pair.left', type_params={'U': DeclaredTypeInstance(type='Value', params=None), 'T': DeclaredTypeInstance(type='BlockBuilder', params=None)}, args=['-258671823125383050'], kwargs=None)], '2211946300557563720': ['116', CallNode(function='Pair.right', type_params={'U': DeclaredTypeInstance(type='Value', params=None), 'T': DeclaredTypeInstance(type='BlockBuilder', params=None)}, args=['-258671823125383050'], kwargs=None)], '7012515375228113446': ['117', CallNode(function='BlockBuilder.ret', type_params=None, args=['3101295110549733623', '2211946300557563720'], kwargs=None)], '7278062698775584293': ['118', CallNode(function='Vec.create', type_params=None, args=['7012515375228113446'], kwargs=None)], '4639015088246116096': ['119', CallNode(function='Function.create', type_params=None, args=['2895201209852683170', '7278062698775584293'], kwargs=None)], '7680433538102245774': ['138', CallNode(function='Pair.right', type_params={'U': DeclaredTypeInstance(type='FunctionBuilder', params=None), 'T': DeclaredTypeInstance(type='ModuleBuilder', params=None)}, args=['-3983608428353076569'], kwargs=None)], '-5046252759859721626': ['139', CallNode(function='BlockBuilder.create', type_params=None, args=['3854549401785218970', '7680433538102245774'], kwargs=None)], '-7615403175585898280': ['140', CallNode(function='Pair.left', type_params={'U': DeclaredTypeInstance(type='BlockBuilder', params=None), 'T': DeclaredTypeInstance(type='FunctionBuilder', params=None)}, args=['-5046252759859721626'], kwargs=None)], '3250898527718506170': ['141', CallNode(function='Pair.right', type_params={'U': DeclaredTypeInstance(type='BlockBuilder', params=None), 'T': DeclaredTypeInstance(type='FunctionBuilder', params=None)}, args=['-5046252759859721626'], kwargs=None)], '-5617829925289346195': ['142', CallNode(function='FunctionBuilder.arguments', type_params=None, args=['-7615403175585898280'], kwargs=None)], '8530699254232755827': ['143', CallNode(function='BlockBuilder.call', type_params=None, args=['3250898527718506170', '2895201209852683170', '-5617829925289346195'], kwargs=None)], '137822125683613632': ['144', CallNode(function='Pair.left', type_params={'U': DeclaredTypeInstance(type='Value', params=None), 'T': DeclaredTypeInstance(type='BlockBuilder', params=None)}, args=['8530699254232755827'], kwargs=None)], '7137322431411709346': ['145', CallNode(function='Pair.right', type_params={'U': DeclaredTypeInstance(type='Value', params=None), 'T': DeclaredTypeInstance(type='BlockBuilder', params=None)}, args=['8530699254232755827'], kwargs=None)], '2108547046135714520': ['146', CallNode(function='BlockBuilder.ret', type_params=None, args=['137822125683613632', '7137322431411709346'], kwargs=None)], '2593283949691841143': ['147', CallNode(function='Vec.create', type_params=None, args=['2108547046135714520'], kwargs=None)], '-8503647195004743867': ['148', CallNode(function='Function.create', type_params=None, args=['-7615403175585898280', '2593283949691841143'], kwargs=None)], '5035778882851723984': ['71', CallNode(function='Vec.create', type_params=None, args=['4639015088246116096', '-8503647195004743867'], kwargs=None)], '5281924961365383336': ['72', CallNode(function='Module.create', type_params=None, args=['2015042617533581453', '5035778882851723984'], kwargs=None)], '-1336595554791218804': ['73', CallNode(function='Module.to_string', type_params=None, args=['5281924961365383336'], kwargs=None)], '-691412364138124339': ['74', CallNode(function='ModuleRef.create', type_params=None, args=['-1336595554791218804'], kwargs=None)], '3316938306353808579': ['75', CallNode(function='ModuleRef.optimize', type_params=None, args=['-691412364138124339', '-2875747113732640390'], kwargs=None)], '3318571110324240328': ['76', CallNode(function='ExecutionEngine.create', type_params=None, args=['3316938306353808579'], kwargs=None)], '-6214699508159069552': ['78', CallNode(function='FunctionBuilder.name', type_params=None, args=['-7615403175585898280'], kwargs=None)], '-2903942129089157999': ['79', CallNode(function='ExecutionEngine.get_function_address', type_params=None, args=['3318571110324240328', '-6214699508159069552'], kwargs=None)], '-2064765290878346623': ['33', CallNode(function='CFunctionType.__call__', type_params=None, args=['4611151268333121164', '-2903942129089157999'], kwargs=None)], '4309573674095086938': ['165', PrimitiveNode(type='Constant', repr='i32 1')], '-5343249568608216511': ['113', CallNode(function='Value.box', type_params=None, args=['4309573674095086938'], kwargs=None)], '7270169198496945127': ['114', CallNode(function='BlockBuilder.add', type_params=None, args=['3330103838106318097', '3772972842937602768', '-5343249568608216511'], kwargs=None)], '8324722692191761116': ['115', CallNode(function='Pair.left', type_params={'U': DeclaredTypeInstance(type='Value', params=None), 'T': DeclaredTypeInstance(type='BlockBuilder', params=None)}, args=['7270169198496945127'], kwargs=None)], '8767591697023045787': ['116', CallNode(function='Pair.right', type_params={'U': DeclaredTypeInstance(type='Value', params=None), 'T': DeclaredTypeInstance(type='BlockBuilder', params=None)}, args=['7270169198496945127'], kwargs=None)], '2315040298330794051': ['117', CallNode(function='BlockBuilder.ret', type_params=None, args=['8324722692191761116', '8767591697023045787'], kwargs=None)], '-3555317221755694094': ['118', CallNode(function='Vec.create', type_params=None, args=['2315040298330794051'], kwargs=None)], '2537404125225064850': ['119', CallNode(function='Function.create', type_params=None, args=['2895201209852683170', '-3555317221755694094'], kwargs=None)], '-6802207519052525821': ['71', CallNode(function='Vec.create', type_params=None, args=['2537404125225064850', '-8503647195004743867'], kwargs=None)], '5579038469249906381': ['72', CallNode(function='Module.create', type_params=None, args=['2015042617533581453', '-6802207519052525821'], kwargs=None)], '469586114449206267': ['73', CallNode(function='Module.to_string', type_params=None, args=['5579038469249906381'], kwargs=None)], '1399722404663403407': ['74', CallNode(function='ModuleRef.create', type_params=None, args=['469586114449206267'], kwargs=None)], '9190872380093856121': ['75', CallNode(function='ModuleRef.optimize', type_params=None, args=['1399722404663403407', '-2875747113732640390'], kwargs=None)], '-426807894894940547': ['76', CallNode(function='ExecutionEngine.create', type_params=None, args=['9190872380093856121'], kwargs=None)], '8435457562749102441': ['79', CallNode(function='ExecutionEngine.get_function_address', type_params=None, args=['-426807894894940547', '-6214699508159069552'], kwargs=None)], '4248417464739313553': ['33', CallNode(function='CFunctionType.__call__', type_params=None, args=['4611151268333121164', '8435457562749102441'], kwargs=None)], '1246628417327958198': ['166', PrimitiveNode(type='FunctionType', repr='i32 (i32, i32)')], '2370076820842690392': ['153', CallNode(function='FunctionType.box', type_params=None, args=['1246628417327958198'], kwargs=None)], '-6284171169172277379': ['155', CallNode(function='FunctionBuilder.create', type_params=None, args=['1067033674993709082', '2370076820842690392', '-3852039776920631331', '198959599831326067'], kwargs=None)], '7588427381583129387': ['156', CallNode(function='Pair.left', type_params={'U': DeclaredTypeInstance(type='FunctionBuilder', params=None), 'T': DeclaredTypeInstance(type='ModuleBuilder', params=None)}, args=['-6284171169172277379'], kwargs=None)], '4007988404712414703': ['163', CallNode(function='FunctionBuilder.create', type_params=None, args=['7588427381583129387', '2370076820842690392', '8458824072032212400', '-7025864216202428048'], kwargs=None)], '-233498181631277125': ['46', CallNode(function='Pair.left', type_params={'U': DeclaredTypeInstance(type='FunctionBuilder', params=None), 'T': DeclaredTypeInstance(type='ModuleBuilder', params=None)}, args=['4007988404712414703'], kwargs=None)], '-794568388573389780': ['157', CallNode(function='Pair.right', type_params={'U': DeclaredTypeInstance(type='FunctionBuilder', params=None), 'T': DeclaredTypeInstance(type='ModuleBuilder', params=None)}, args=['-6284171169172277379'], kwargs=None)], '-7621856178163663851': ['101', CallNode(function='BlockBuilder.create', type_params=None, args=['3854549401785218970', '-794568388573389780'], kwargs=None)], '1945242629116870003': ['102', CallNode(function='Pair.right', type_params={'U': DeclaredTypeInstance(type='BlockBuilder', params=None), 'T': DeclaredTypeInstance(type='FunctionBuilder', params=None)}, args=['-7621856178163663851'], kwargs=None)], '3273270601251034725': ['103', CallNode(function='FunctionBuilder.arguments', type_params=None, args=['-794568388573389780'], kwargs=None)], '-4064870665142960902': ['106', CallNode(function='Vec.__getitem__', type_params={'T': DeclaredTypeInstance(type='Value', params=None)}, args=['3273270601251034725', '719411598118275193'], kwargs=None)], '-8836416529425775166': ['109', CallNode(function='Vec.__getitem__', type_params={'T': DeclaredTypeInstance(type='Value', params=None)}, args=['3273270601251034725', '6681196885939579554'], kwargs=None)], '-4901424808638450167': ['110', CallNode(function='BlockBuilder.add', type_params=None, args=['1945242629116870003', '-4064870665142960902', '-8836416529425775166'], kwargs=None)], '3315001099391930282': ['111', CallNode(function='Pair.left', type_params={'U': DeclaredTypeInstance(type='Value', params=None), 'T': DeclaredTypeInstance(type='BlockBuilder', params=None)}, args=['-4901424808638450167'], kwargs=None)], '2425652289399760379': ['112', CallNode(function='Pair.right', type_params={'U': DeclaredTypeInstance(type='Value', params=None), 'T': DeclaredTypeInstance(type='BlockBuilder', params=None)}, args=['-4901424808638450167'], kwargs=None)], '8328537902622743377': ['114', CallNode(function='BlockBuilder.add', type_params=None, args=['3315001099391930282', '2425652289399760379', '-5343249568608216511'], kwargs=None)], '-1238356756396065246': ['115', CallNode(function='Pair.left', type_params={'U': DeclaredTypeInstance(type='Value', params=None), 'T': DeclaredTypeInstance(type='BlockBuilder', params=None)}, args=['8328537902622743377'], kwargs=None)], '-6526062949372603277': ['116', CallNode(function='Pair.right', type_params={'U': DeclaredTypeInstance(type='Value', params=None), 'T': DeclaredTypeInstance(type='BlockBuilder', params=None)}, args=['8328537902622743377'], kwargs=None)], '-4894208016128597282': ['117', CallNode(function='BlockBuilder.ret', type_params=None, args=['-1238356756396065246', '-6526062949372603277'], kwargs=None)], '-2050075945721307550': ['118', CallNode(function='Vec.create', type_params=None, args=['-4894208016128597282'], kwargs=None)], '3623127104619491976': ['119', CallNode(function='Function.create', type_params=None, args=['-794568388573389780', '-2050075945721307550'], kwargs=None)], '4589072911851978404': ['138', CallNode(function='Pair.right', type_params={'U': DeclaredTypeInstance(type='FunctionBuilder', params=None), 'T': DeclaredTypeInstance(type='ModuleBuilder', params=None)}, args=['4007988404712414703'], kwargs=None)], '9105736282050911272': ['139', CallNode(function='BlockBuilder.create', type_params=None, args=['3854549401785218970', '4589072911851978404'], kwargs=None)], '6330560636470525092': ['140', CallNode(function='Pair.left', type_params={'U': DeclaredTypeInstance(type='BlockBuilder', params=None), 'T': DeclaredTypeInstance(type='FunctionBuilder', params=None)}, args=['9105736282050911272'], kwargs=None)], '-9138730849654887691': ['141', CallNode(function='Pair.right', type_params={'U': DeclaredTypeInstance(type='BlockBuilder', params=None), 'T': DeclaredTypeInstance(type='FunctionBuilder', params=None)}, args=['9105736282050911272'], kwargs=None)], '5217103235626146506': ['142', CallNode(function='FunctionBuilder.arguments', type_params=None, args=['6330560636470525092'], kwargs=None)], '-6223814960703179738': ['143', CallNode(function='BlockBuilder.call', type_params=None, args=['-9138730849654887691', '-794568388573389780', '5217103235626146506'], kwargs=None)], '3717929759405152562': ['144', CallNode(function='Pair.left', type_params={'U': DeclaredTypeInstance(type='Value', params=None), 'T': DeclaredTypeInstance(type='BlockBuilder', params=None)}, args=['-6223814960703179738'], kwargs=None)], '4160798764236437233': ['145', CallNode(function='Pair.right', type_params={'U': DeclaredTypeInstance(type='Value', params=None), 'T': DeclaredTypeInstance(type='BlockBuilder', params=None)}, args=['-6223814960703179738'], kwargs=None)], '6405061915001130614': ['146', CallNode(function='BlockBuilder.ret', type_params=None, args=['3717929759405152562', '4160798764236437233'], kwargs=None)], '-2921931409068924297': ['147', CallNode(function='Vec.create', type_params=None, args=['6405061915001130614'], kwargs=None)], '-2902389873660933596': ['148', CallNode(function='Function.create', type_params=None, args=['6330560636470525092', '-2921931409068924297'], kwargs=None)], '-7189057429016318229': ['71', CallNode(function='Vec.create', type_params=None, args=['3623127104619491976', '-2902389873660933596'], kwargs=None)], '6274799738699508327': ['72', CallNode(function='Module.create', type_params=None, args=['-233498181631277125', '-7189057429016318229'], kwargs=None)], '9191355211071257981': ['73', CallNode(function='Module.to_string', type_params=None, args=['6274799738699508327'], kwargs=None)], '-2508261633584657118': ['74', CallNode(function='ModuleRef.create', type_params=None, args=['9191355211071257981'], kwargs=None)], '-3390310291518549008': ['75', CallNode(function='ModuleRef.optimize', type_params=None, args=['-2508261633584657118', '-2875747113732640390'], kwargs=None)], '3827978554299007989': ['76', CallNode(function='ExecutionEngine.create', type_params=None, args=['-3390310291518549008'], kwargs=None)], '4620233652756423149': ['78', CallNode(function='FunctionBuilder.name', type_params=None, args=['6330560636470525092'], kwargs=None)], '-1039874051364341337': ['79', CallNode(function='ExecutionEngine.get_function_address', type_params=None, args=['3827978554299007989', '4620233652756423149'], kwargs=None)], '-3187110031684467245': ['33', CallNode(function='CFunctionType.__call__', type_params=None, args=['4611151268333121164', '-1039874051364341337'], kwargs=None)], '-1695764286796673477': ['208', PrimitiveNode(type='Module', repr='; ModuleID = \"add\"\\ntarget triple = \"unknown-unknown-unknown\"\\ntarget datalayout = \"\"\\n\\ndefine fastcc i32 @\"add\"(i32 %\".1\", i32 %\".2\") \\n{\\nentry:\\n  %\".4\" = add i32 %\".1\", %\".2\"\\n  %\".5\" = add i32 %\".4\", 1\\n  ret i32 %\".5\"\\n}\\n\\ndefine i32 @\"entry_add\"(i32 %\".1\", i32 %\".2\") \\n{\\nentry:\\n  %\".4\" = call fastcc i32 @\"add\"(i32 %\".1\", i32 %\".2\")\\n  ret i32 %\".4\"\\n}\\n')], '1384074109445627179': ['46', CallNode(function='ModuleBuilder.box', type_params=None, args=['-1695764286796673477'], kwargs=None)], '4849141869152655527': ['155', CallNode(function='FunctionBuilder.create', type_params=None, args=['1384074109445627179', '2370076820842690392', '-3852039776920631331', '198959599831326067'], kwargs=None)], '8083267088865976778': ['156', CallNode(function='Pair.left', type_params={'U': DeclaredTypeInstance(type='FunctionBuilder', params=None), 'T': DeclaredTypeInstance(type='ModuleBuilder', params=None)}, args=['4849141869152655527'], kwargs=None)], '-4960811231500945378': ['163', CallNode(function='FunctionBuilder.create', type_params=None, args=['8083267088865976778', '2370076820842690392', '8458824072032212400', '-7025864216202428048'], kwargs=None)], '7673588058917032260': ['46', CallNode(function='Pair.left', type_params={'U': DeclaredTypeInstance(type='FunctionBuilder', params=None), 'T': DeclaredTypeInstance(type='ModuleBuilder', params=None)}, args=['-4960811231500945378'], kwargs=None)], '-1142548508375951181': ['157', CallNode(function='Pair.right', type_params={'U': DeclaredTypeInstance(type='FunctionBuilder', params=None), 'T': DeclaredTypeInstance(type='ModuleBuilder', params=None)}, args=['4849141869152655527'], kwargs=None)], '-3722563997917641281': ['101', CallNode(function='BlockBuilder.create', type_params=None, args=['3854549401785218970', '-1142548508375951181'], kwargs=None)], '-9023859640047425505': ['102', CallNode(function='Pair.right', type_params={'U': DeclaredTypeInstance(type='BlockBuilder', params=None), 'T': DeclaredTypeInstance(type='FunctionBuilder', params=None)}, args=['-3722563997917641281'], kwargs=None)], '-5998022707501281070': ['103', CallNode(function='FunctionBuilder.arguments', type_params=None, args=['-1142548508375951181'], kwargs=None)], '-3456594742513068271': ['106', CallNode(function='Vec.__getitem__', type_params={'T': DeclaredTypeInstance(type='Value', params=None)}, args=['-5998022707501281070', '719411598118275193'], kwargs=None)], '3454536360513949516': ['109', CallNode(function='Vec.__getitem__', type_params={'T': DeclaredTypeInstance(type='Value', params=None)}, args=['-5998022707501281070', '6681196885939579554'], kwargs=None)], '6084490878735428830': ['110', CallNode(function='BlockBuilder.add', type_params=None, args=['-9023859640047425505', '-3456594742513068271', '3454536360513949516'], kwargs=None)], '9093379198681745195': ['111', CallNode(function='Pair.left', type_params={'U': DeclaredTypeInstance(type='Value', params=None), 'T': DeclaredTypeInstance(type='BlockBuilder', params=None)}, args=['6084490878735428830'], kwargs=None)], '-3669318660126744830': ['112', CallNode(function='Pair.right', type_params={'U': DeclaredTypeInstance(type='Value', params=None), 'T': DeclaredTypeInstance(type='BlockBuilder', params=None)}, args=['6084490878735428830'], kwargs=None)], '-8679393646428090945': ['114', CallNode(function='BlockBuilder.add', type_params=None, args=['9093379198681745195', '-3669318660126744830', '-5343249568608216511'], kwargs=None)], '-3624725312189489213': ['115', CallNode(function='Pair.left', type_params={'U': DeclaredTypeInstance(type='Value', params=None), 'T': DeclaredTypeInstance(type='BlockBuilder', params=None)}, args=['-8679393646428090945'], kwargs=None)], '8218858477716490249': ['116', CallNode(function='Pair.right', type_params={'U': DeclaredTypeInstance(type='Value', params=None), 'T': DeclaredTypeInstance(type='BlockBuilder', params=None)}, args=['-8679393646428090945'], kwargs=None)], '4191893512006334466': ['117', CallNode(function='BlockBuilder.ret', type_params=None, args=['-3624725312189489213', '8218858477716490249'], kwargs=None)], '-6448568533151448428': ['118', CallNode(function='Vec.create', type_params=None, args=['4191893512006334466'], kwargs=None)], '-4006381155866143156': ['119', CallNode(function='Function.create', type_params=None, args=['-1142548508375951181', '-6448568533151448428'], kwargs=None)], '-5950584921309263827': ['138', CallNode(function='Pair.right', type_params={'U': DeclaredTypeInstance(type='FunctionBuilder', params=None), 'T': DeclaredTypeInstance(type='ModuleBuilder', params=None)}, args=['-4960811231500945378'], kwargs=None)], '711994104776063317': ['139', CallNode(function='BlockBuilder.create', type_params=None, args=['3854549401785218970', '-5950584921309263827'], kwargs=None)], '-5408874070266782417': ['140', CallNode(function='Pair.left', type_params={'U': DeclaredTypeInstance(type='BlockBuilder', params=None), 'T': DeclaredTypeInstance(type='FunctionBuilder', params=None)}, args=['711994104776063317'], kwargs=None)], '1966935900301724544': ['141', CallNode(function='Pair.right', type_params={'U': DeclaredTypeInstance(type='BlockBuilder', params=None), 'T': DeclaredTypeInstance(type='FunctionBuilder', params=None)}, args=['711994104776063317'], kwargs=None)], '-2461098623686363971': ['142', CallNode(function='FunctionBuilder.arguments', type_params=None, args=['-5408874070266782417'], kwargs=None)], '7238978707411830437': ['143', CallNode(function='BlockBuilder.call', type_params=None, args=['1966935900301724544', '-1142548508375951181', '-2461098623686363971'], kwargs=None)], '-966192082709211616': ['144', CallNode(function='Pair.left', type_params={'U': DeclaredTypeInstance(type='Value', params=None), 'T': DeclaredTypeInstance(type='BlockBuilder', params=None)}, args=['7238978707411830437'], kwargs=None)], '5146816509388945144': ['145', CallNode(function='Pair.right', type_params={'U': DeclaredTypeInstance(type='Value', params=None), 'T': DeclaredTypeInstance(type='BlockBuilder', params=None)}, args=['7238978707411830437'], kwargs=None)], '7317646397126167630': ['146', CallNode(function='BlockBuilder.ret', type_params=None, args=['-966192082709211616', '5146816509388945144'], kwargs=None)], '2139645397574955957': ['147', CallNode(function='Vec.create', type_params=None, args=['7317646397126167630'], kwargs=None)], '2387313508163204485': ['148', CallNode(function='Function.create', type_params=None, args=['-5408874070266782417', '2139645397574955957'], kwargs=None)], '-1480107052648194190': ['71', CallNode(function='Vec.create', type_params=None, args=['-4006381155866143156', '2387313508163204485'], kwargs=None)], '-6540526218953643621': ['72', CallNode(function='Module.create', type_params=None, args=['7673588058917032260', '-1480107052648194190'], kwargs=None)], '619538652957136227': ['73', CallNode(function='Module.to_string', type_params=None, args=['-6540526218953643621'], kwargs=None)], '2977778351502219352': ['74', CallNode(function='ModuleRef.create', type_params=None, args=['619538652957136227'], kwargs=None)], '-5584435222808686125': ['75', CallNode(function='ModuleRef.optimize', type_params=None, args=['2977778351502219352', '-2875747113732640390'], kwargs=None)], '-280961352968022368': ['76', CallNode(function='ExecutionEngine.create', type_params=None, args=['-5584435222808686125'], kwargs=None)], '8342746578518607463': ['78', CallNode(function='FunctionBuilder.name', type_params=None, args=['-5408874070266782417'], kwargs=None)], '1734193452518429640': ['79', CallNode(function='ExecutionEngine.get_function_address', type_params=None, args=['-280961352968022368', '8342746578518607463'], kwargs=None)], '6461715529389154870': ['33', CallNode(function='CFunctionType.__call__', type_params=None, args=['4611151268333121164', '1734193452518429640'], kwargs=None)], '-877117171874290748': ['207', PrimitiveNode(type='Function', repr='define fastcc i32 @\"add\"(i32 %\".1\", i32 %\".2\") \\n{\\nentry:\\n  %\".4\" = add i32 %\".1\", %\".2\"\\n  %\".5\" = add i32 %\".4\", 1\\n  ret i32 %\".5\"\\n}\\n')], '-8965620968903673144': ['157', CallNode(function='FunctionBuilder.box', type_params=None, args=['-877117171874290748'], kwargs=None)], '3687545586826997934': ['101', CallNode(function='BlockBuilder.create', type_params=None, args=['3854549401785218970', '-8965620968903673144'], kwargs=None)], '-3569306199238231989': ['102', CallNode(function='Pair.right', type_params={'U': DeclaredTypeInstance(type='BlockBuilder', params=None), 'T': DeclaredTypeInstance(type='FunctionBuilder', params=None)}, args=['3687545586826997934'], kwargs=None)], '-3864071707467855106': ['103', CallNode(function='FunctionBuilder.arguments', type_params=None, args=['-8965620968903673144'], kwargs=None)], '7987994596277266699': ['106', CallNode(function='Vec.__getitem__', type_params={'T': DeclaredTypeInstance(type='Value', params=None)}, args=['-3864071707467855106', '719411598118275193'], kwargs=None)], '-8435373745127681040': ['109', CallNode(function='Vec.__getitem__', type_params={'T': DeclaredTypeInstance(type='Value', params=None)}, args=['-3864071707467855106', '6681196885939579554'], kwargs=None)], '4857600570411330840': ['110', CallNode(function='BlockBuilder.add', type_params=None, args=['-3569306199238231989', '7987994596277266699', '-8435373745127681040'], kwargs=None)], '2782040218175349882': ['111', CallNode(function='Pair.left', type_params={'U': DeclaredTypeInstance(type='Value', params=None), 'T': DeclaredTypeInstance(type='BlockBuilder', params=None)}, args=['4857600570411330840'], kwargs=None)], '3224909223006634553': ['112', CallNode(function='Pair.right', type_params={'U': DeclaredTypeInstance(type='Value', params=None), 'T': DeclaredTypeInstance(type='BlockBuilder', params=None)}, args=['4857600570411330840'], kwargs=None)], '6933555530660595900': ['114', CallNode(function='BlockBuilder.add', type_params=None, args=['2782040218175349882', '3224909223006634553', '-5343249568608216511'], kwargs=None)], '1555875362197670570': ['115', CallNode(function='Pair.left', type_params={'U': DeclaredTypeInstance(type='Value', params=None), 'T': DeclaredTypeInstance(type='BlockBuilder', params=None)}, args=['6933555530660595900'], kwargs=None)], '1998744367028955241': ['116', CallNode(function='Pair.right', type_params={'U': DeclaredTypeInstance(type='Value', params=None), 'T': DeclaredTypeInstance(type='BlockBuilder', params=None)}, args=['6933555530660595900'], kwargs=None)], '6162177704046563319': ['117', CallNode(function='BlockBuilder.ret', type_params=None, args=['1555875362197670570', '1998744367028955241'], kwargs=None)], '4617215150354920742': ['118', CallNode(function='Vec.create', type_params=None, args=['6162177704046563319'], kwargs=None)], '8621364663399133019': ['119', CallNode(function='Function.create', type_params=None, args=['-8965620968903673144', '4617215150354920742'], kwargs=None)], '-3258185242874950247': ['143', CallNode(function='BlockBuilder.call', type_params=None, args=['1966935900301724544', '-8965620968903673144', '-2461098623686363971'], kwargs=None)], '-8866547348045203036': ['144', CallNode(function='Pair.left', type_params={'U': DeclaredTypeInstance(type='Value', params=None), 'T': DeclaredTypeInstance(type='BlockBuilder', params=None)}, args=['-3258185242874950247'], kwargs=None)], '4292490532687810549': ['145', CallNode(function='Pair.right', type_params={'U': DeclaredTypeInstance(type='Value', params=None), 'T': DeclaredTypeInstance(type='BlockBuilder', params=None)}, args=['-3258185242874950247'], kwargs=None)], '823416377049269664': ['146', CallNode(function='BlockBuilder.ret', type_params=None, args=['-8866547348045203036', '4292490532687810549'], kwargs=None)], '5167764124062571412': ['147', CallNode(function='Vec.create', type_params=None, args=['823416377049269664'], kwargs=None)], '378916728778156861': ['148', CallNode(function='Function.create', type_params=None, args=['-5408874070266782417', '5167764124062571412'], kwargs=None)], '-8946601798222449003': ['71', CallNode(function='Vec.create', type_params=None, args=['8621364663399133019', '378916728778156861'], kwargs=None)], '4046609535069057702': ['72', CallNode(function='Module.create', type_params=None, args=['7673588058917032260', '-8946601798222449003'], kwargs=None)], '4359912159859799493': ['73', CallNode(function='Module.to_string', type_params=None, args=['4046609535069057702'], kwargs=None)], '-6536439671457691118': ['74', CallNode(function='ModuleRef.create', type_params=None, args=['4359912159859799493'], kwargs=None)], '6998038419135547246': ['75', CallNode(function='ModuleRef.optimize', type_params=None, args=['-6536439671457691118', '-2875747113732640390'], kwargs=None)], '8113260162548276665': ['76', CallNode(function='ExecutionEngine.create', type_params=None, args=['6998038419135547246'], kwargs=None)], '-3075629453513793981': ['79', CallNode(function='ExecutionEngine.get_function_address', type_params=None, args=['8113260162548276665', '8342746578518607463'], kwargs=None)], '330517251076819046': ['33', CallNode(function='CFunctionType.__call__', type_params=None, args=['4611151268333121164', '-3075629453513793981'], kwargs=None)], '-3672572165328334450': ['183', PrimitiveNode(type='Argument', repr='i32 %\".1\"')], '8941937268231667926': ['106', CallNode(function='Value.box', type_params=None, args=['-3672572165328334450'], kwargs=None)], '-6333230241243080544': ['171', PrimitiveNode(type='Argument', repr='i32 %\".2\"')], '-1306471267931645005': ['172', CallNode(function='Value.box', type_params=None, args=['-6333230241243080544'], kwargs=None)], '2721808043720045611': ['103', CallNode(function='Vec.create', type_params=None, args=['8941937268231667926', '-1306471267931645005'], kwargs=None)], '1344389918418758022': ['106', CallNode(function='Vec.__getitem__', type_params={'T': DeclaredTypeInstance(type='Value', params=None)}, args=['2721808043720045611', '719411598118275193'], kwargs=None)], '2087292934537764107': ['109', CallNode(function='Vec.__getitem__', type_params={'T': DeclaredTypeInstance(type='Value', params=None)}, args=['2721808043720045611', '6681196885939579554'], kwargs=None)], '-798123647962705815': ['110', CallNode(function='BlockBuilder.add', type_params=None, args=['-3569306199238231989', '1344389918418758022', '2087292934537764107'], kwargs=None)], '3319729174108741495': ['111', CallNode(function='Pair.left', type_params={'U': DeclaredTypeInstance(type='Value', params=None), 'T': DeclaredTypeInstance(type='BlockBuilder', params=None)}, args=['-798123647962705815'], kwargs=None)], '3762598178940026166': ['112', CallNode(function='Pair.right', type_params={'U': DeclaredTypeInstance(type='Value', params=None), 'T': DeclaredTypeInstance(type='BlockBuilder', params=None)}, args=['-798123647962705815'], kwargs=None)], '-4154546266521996343': ['114', CallNode(function='BlockBuilder.add', type_params=None, args=['3319729174108741495', '3762598178940026166', '-5343249568608216511'], kwargs=None)], '6457998956718253633': ['115', CallNode(function='Pair.left', type_params={'U': DeclaredTypeInstance(type='Value', params=None), 'T': DeclaredTypeInstance(type='BlockBuilder', params=None)}, args=['-4154546266521996343'], kwargs=None)], '6900867961549538304': ['116', CallNode(function='Pair.right', type_params={'U': DeclaredTypeInstance(type='Value', params=None), 'T': DeclaredTypeInstance(type='BlockBuilder', params=None)}, args=['-4154546266521996343'], kwargs=None)], '6943517573877943550': ['117', CallNode(function='BlockBuilder.ret', type_params=None, args=['6457998956718253633', '6900867961549538304'], kwargs=None)], '1131653791913896719': ['118', CallNode(function='Vec.create', type_params=None, args=['6943517573877943550'], kwargs=None)], '7104743707725161299': ['119', CallNode(function='Function.create', type_params=None, args=['-8965620968903673144', '1131653791913896719'], kwargs=None)], '-2903129110862737219': ['71', CallNode(function='Vec.create', type_params=None, args=['7104743707725161299', '378916728778156861'], kwargs=None)], '-2671880934185116958': ['72', CallNode(function='Module.create', type_params=None, args=['7673588058917032260', '-2903129110862737219'], kwargs=None)], '-4069751056550352837': ['73', CallNode(function='Module.to_string', type_params=None, args=['-2671880934185116958'], kwargs=None)], '7528720884014353724': ['74', CallNode(function='ModuleRef.create', type_params=None, args=['-4069751056550352837'], kwargs=None)], '6413345878440522246': ['75', CallNode(function='ModuleRef.optimize', type_params=None, args=['7528720884014353724', '-2875747113732640390'], kwargs=None)], '7250690002013030237': ['76', CallNode(function='ExecutionEngine.create', type_params=None, args=['6413345878440522246'], kwargs=None)], '-1746860293695875628': ['79', CallNode(function='ExecutionEngine.get_function_address', type_params=None, args=['7250690002013030237', '8342746578518607463'], kwargs=None)], '6479394253176400402': ['33', CallNode(function='CFunctionType.__call__', type_params=None, args=['4611151268333121164', '-1746860293695875628'], kwargs=None)], '7826195752968480244': ['205', PrimitiveNode(type='IRBuilder', repr='<llvmlite.ir.builder.IRBuilder object at 0x7fe3105c4af0>')], '-5536952608420895087': ['117', CallNode(function='BlockBuilder.box', type_params=None, args=['7826195752968480244'], kwargs=None)], '7210883838380465320': ['101', CallNode(function='Pair.create', type_params=None, args=['-8965620968903673144', '-5536952608420895087'], kwargs=None)], '4332622757441410973': ['102', CallNode(function='Pair.right', type_params={'U': DeclaredTypeInstance(type='BlockBuilder', params=None), 'T': DeclaredTypeInstance(type='FunctionBuilder', params=None)}, args=['7210883838380465320'], kwargs=None)], '-5457511094994361243': ['110', CallNode(function='BlockBuilder.add', type_params=None, args=['4332622757441410973', '1344389918418758022', '2087292934537764107'], kwargs=None)], '8896486254415346793': ['111', CallNode(function='Pair.left', type_params={'U': DeclaredTypeInstance(type='Value', params=None), 'T': DeclaredTypeInstance(type='BlockBuilder', params=None)}, args=['-5457511094994361243'], kwargs=None)], '-4709031431478552024': ['112', CallNode(function='Pair.right', type_params={'U': DeclaredTypeInstance(type='Value', params=None), 'T': DeclaredTypeInstance(type='BlockBuilder', params=None)}, args=['-5457511094994361243'], kwargs=None)], '1677668534303254218': ['114', CallNode(function='BlockBuilder.add', type_params=None, args=['8896486254415346793', '-4709031431478552024', '-5343249568608216511'], kwargs=None)], '-6611303663720203304': ['115', CallNode(function='Pair.left', type_params={'U': DeclaredTypeInstance(type='Value', params=None), 'T': DeclaredTypeInstance(type='BlockBuilder', params=None)}, args=['1677668534303254218'], kwargs=None)], '6118771839815715112': ['116', CallNode(function='Pair.right', type_params={'U': DeclaredTypeInstance(type='Value', params=None), 'T': DeclaredTypeInstance(type='BlockBuilder', params=None)}, args=['1677668534303254218'], kwargs=None)], '-1137113470731642378': ['117', CallNode(function='BlockBuilder.ret', type_params=None, args=['-6611303663720203304', '6118771839815715112'], kwargs=None)], '7109373853513139633': ['118', CallNode(function='Vec.create', type_params=None, args=['-1137113470731642378'], kwargs=None)], '2361972512937787141': ['119', CallNode(function='Function.create', type_params=None, args=['-8965620968903673144', '7109373853513139633'], kwargs=None)], '7028004542766583783': ['71', CallNode(function='Vec.create', type_params=None, args=['2361972512937787141', '378916728778156861'], kwargs=None)], '2895216022691901496': ['72', CallNode(function='Module.create', type_params=None, args=['7673588058917032260', '7028004542766583783'], kwargs=None)], '-6842314633563349259': ['73', CallNode(function='Module.to_string', type_params=None, args=['2895216022691901496'], kwargs=None)], '201711538703677386': ['74', CallNode(function='ModuleRef.create', type_params=None, args=['-6842314633563349259'], kwargs=None)], '-6164086094145156636': ['75', CallNode(function='ModuleRef.optimize', type_params=None, args=['201711538703677386', '-2875747113732640390'], kwargs=None)], '-8733649969164587121': ['76', CallNode(function='ExecutionEngine.create', type_params=None, args=['-6164086094145156636'], kwargs=None)], '9204875241309308253': ['79', CallNode(function='ExecutionEngine.get_function_address', type_params=None, args=['-8733649969164587121', '8342746578518607463'], kwargs=None)], '7455713472387643791': ['33', CallNode(function='CFunctionType.__call__', type_params=None, args=['4611151268333121164', '9204875241309308253'], kwargs=None)], '-8863948929122962382': ['163', CallNode(function='FunctionBuilder.create', type_params=None, args=['1384074109445627179', '2370076820842690392', '8458824072032212400', '-7025864216202428048'], kwargs=None)], '4529417730683882927': ['46', CallNode(function='Pair.left', type_params={'U': DeclaredTypeInstance(type='FunctionBuilder', params=None), 'T': DeclaredTypeInstance(type='ModuleBuilder', params=None)}, args=['-8863948929122962382'], kwargs=None)], '-3853578039472636240': ['138', CallNode(function='Pair.right', type_params={'U': DeclaredTypeInstance(type='FunctionBuilder', params=None), 'T': DeclaredTypeInstance(type='ModuleBuilder', params=None)}, args=['-8863948929122962382'], kwargs=None)], '4498295744118292077': ['139', CallNode(function='BlockBuilder.create', type_params=None, args=['3854549401785218970', '-3853578039472636240'], kwargs=None)], '-4681625036525354210': ['140', CallNode(function='Pair.left', type_params={'U': DeclaredTypeInstance(type='BlockBuilder', params=None), 'T': DeclaredTypeInstance(type='FunctionBuilder', params=None)}, args=['4498295744118292077'], kwargs=None)], '-7863710023946133248': ['141', CallNode(function='Pair.right', type_params={'U': DeclaredTypeInstance(type='BlockBuilder', params=None), 'T': DeclaredTypeInstance(type='FunctionBuilder', params=None)}, args=['4498295744118292077'], kwargs=None)], '-6970521233884815334': ['142', CallNode(function='FunctionBuilder.arguments', type_params=None, args=['-4681625036525354210'], kwargs=None)], '2491532528001906725': ['143', CallNode(function='BlockBuilder.call', type_params=None, args=['-7863710023946133248', '-8965620968903673144', '-6970521233884815334'], kwargs=None)], '-6261700214018612085': ['144', CallNode(function='Pair.left', type_params={'U': DeclaredTypeInstance(type='Value', params=None), 'T': DeclaredTypeInstance(type='BlockBuilder', params=None)}, args=['2491532528001906725'], kwargs=None)], '-5818831209187327414': ['145', CallNode(function='Pair.right', type_params={'U': DeclaredTypeInstance(type='Value', params=None), 'T': DeclaredTypeInstance(type='BlockBuilder', params=None)}, args=['2491532528001906725'], kwargs=None)], '-5099127457898935884': ['146', CallNode(function='BlockBuilder.ret', type_params=None, args=['-6261700214018612085', '-5818831209187327414'], kwargs=None)], '-8932210668352411420': ['147', CallNode(function='Vec.create', type_params=None, args=['-5099127457898935884'], kwargs=None)], '5326988129486099632': ['148', CallNode(function='Function.create', type_params=None, args=['-4681625036525354210', '-8932210668352411420'], kwargs=None)], '-4113854581790346736': ['71', CallNode(function='Vec.create', type_params=None, args=['2361972512937787141', '5326988129486099632'], kwargs=None)], '-6258898924991950025': ['72', CallNode(function='Module.create', type_params=None, args=['4529417730683882927', '-4113854581790346736'], kwargs=None)], '-7021715923231144620': ['73', CallNode(function='Module.to_string', type_params=None, args=['-6258898924991950025'], kwargs=None)], '-1922121412041949354': ['74', CallNode(function='ModuleRef.create', type_params=None, args=['-7021715923231144620'], kwargs=None)], '-4794667982977835707': ['75', CallNode(function='ModuleRef.optimize', type_params=None, args=['-1922121412041949354', '-2875747113732640390'], kwargs=None)], '-5696013746518354407': ['76', CallNode(function='ExecutionEngine.create', type_params=None, args=['-4794667982977835707'], kwargs=None)], '8231681351304524228': ['78', CallNode(function='FunctionBuilder.name', type_params=None, args=['-4681625036525354210'], kwargs=None)], '-612977322870443427': ['79', CallNode(function='ExecutionEngine.get_function_address', type_params=None, args=['-5696013746518354407', '8231681351304524228'], kwargs=None)], '1801950706887858521': ['33', CallNode(function='CFunctionType.__call__', type_params=None, args=['4611151268333121164', '-612977322870443427'], kwargs=None)], '-8161108391907734589': ['206', PrimitiveNode(type='Function', repr='define i32 @\"entry_add\"(i32 %\".1\", i32 %\".2\") \\n{\\nentry:\\n  %\".4\" = call fastcc i32 @\"add\"(i32 %\".1\", i32 %\".2\")\\n  ret i32 %\".4\"\\n}\\n')], '3767887897527053750': ['140', CallNode(function='FunctionBuilder.box', type_params=None, args=['-8161108391907734589'], kwargs=None)], '5312773014637809041': ['139', CallNode(function='BlockBuilder.create', type_params=None, args=['3854549401785218970', '3767887897527053750'], kwargs=None)], '5945724183670242635': ['140', CallNode(function='Pair.left', type_params={'U': DeclaredTypeInstance(type='BlockBuilder', params=None), 'T': DeclaredTypeInstance(type='FunctionBuilder', params=None)}, args=['5312773014637809041'], kwargs=None)], '2763639196249463597': ['141', CallNode(function='Pair.right', type_params={'U': DeclaredTypeInstance(type='BlockBuilder', params=None), 'T': DeclaredTypeInstance(type='FunctionBuilder', params=None)}, args=['5312773014637809041'], kwargs=None)], '-3823388266019644364': ['142', CallNode(function='FunctionBuilder.arguments', type_params=None, args=['5945724183670242635'], kwargs=None)], '-6156322760819729133': ['143', CallNode(function='BlockBuilder.call', type_params=None, args=['2763639196249463597', '-8965620968903673144', '-3823388266019644364'], kwargs=None)], '-5952211054886122406': ['144', CallNode(function='Pair.left', type_params={'U': DeclaredTypeInstance(type='Value', params=None), 'T': DeclaredTypeInstance(type='BlockBuilder', params=None)}, args=['-6156322760819729133'], kwargs=None)], '160797537212034354': ['145', CallNode(function='Pair.right', type_params={'U': DeclaredTypeInstance(type='Value', params=None), 'T': DeclaredTypeInstance(type='BlockBuilder', params=None)}, args=['-6156322760819729133'], kwargs=None)], '6311558311761160737': ['146', CallNode(function='BlockBuilder.ret', type_params=None, args=['-5952211054886122406', '160797537212034354'], kwargs=None)], '-4098540411781874677': ['147', CallNode(function='Vec.create', type_params=None, args=['6311558311761160737'], kwargs=None)], '4549522575444516861': ['148', CallNode(function='Function.create', type_params=None, args=['5945724183670242635', '-4098540411781874677'], kwargs=None)], '-8232450333267291181': ['71', CallNode(function='Vec.create', type_params=None, args=['2361972512937787141', '4549522575444516861'], kwargs=None)], '-3208727763947239107': ['72', CallNode(function='Module.create', type_params=None, args=['4529417730683882927', '-8232450333267291181'], kwargs=None)], '-497136927078599070': ['73', CallNode(function='Module.to_string', type_params=None, args=['-3208727763947239107'], kwargs=None)], '8963654702820155802': ['74', CallNode(function='ModuleRef.create', type_params=None, args=['-497136927078599070'], kwargs=None)], '6651653056486919501': ['75', CallNode(function='ModuleRef.optimize', type_params=None, args=['8963654702820155802', '-2875747113732640390'], kwargs=None)], '-6812616672573364545': ['76', CallNode(function='ExecutionEngine.create', type_params=None, args=['6651653056486919501'], kwargs=None)], '-4420257848889367721': ['78', CallNode(function='FunctionBuilder.name', type_params=None, args=['5945724183670242635'], kwargs=None)], '6758556889230685697': ['79', CallNode(function='ExecutionEngine.get_function_address', type_params=None, args=['-6812616672573364545', '-4420257848889367721'], kwargs=None)], '-1646197316688867437': ['33', CallNode(function='CFunctionType.__call__', type_params=None, args=['4611151268333121164', '6758556889230685697'], kwargs=None)], '-2868983305302100551': ['199', PrimitiveNode(type='IRBuilder', repr='<llvmlite.ir.builder.IRBuilder object at 0x7fe3284c9d60>')], '3788976593789951718': ['146', CallNode(function='BlockBuilder.box', type_params=None, args=['-2868983305302100551'], kwargs=None)], '2267787467726447583': ['139', CallNode(function='Pair.create', type_params=None, args=['3767887897527053750', '3788976593789951718'], kwargs=None)], '5230752817590163161': ['140', CallNode(function='Pair.left', type_params={'U': DeclaredTypeInstance(type='BlockBuilder', params=None), 'T': DeclaredTypeInstance(type='FunctionBuilder', params=None)}, args=['2267787467726447583'], kwargs=None)], '-5840181285550881494': ['141', CallNode(function='Pair.right', type_params={'U': DeclaredTypeInstance(type='BlockBuilder', params=None), 'T': DeclaredTypeInstance(type='FunctionBuilder', params=None)}, args=['2267787467726447583'], kwargs=None)], '7879351228258198570': ['142', CallNode(function='FunctionBuilder.arguments', type_params=None, args=['5230752817590163161'], kwargs=None)], '465603627205655058': ['143', CallNode(function='BlockBuilder.call', type_params=None, args=['-5840181285550881494', '-8965620968903673144', '7879351228258198570'], kwargs=None)], '6146628555896443683': ['144', CallNode(function='Pair.left', type_params={'U': DeclaredTypeInstance(type='Value', params=None), 'T': DeclaredTypeInstance(type='BlockBuilder', params=None)}, args=['465603627205655058'], kwargs=None)], '5257279745904273780': ['145', CallNode(function='Pair.right', type_params={'U': DeclaredTypeInstance(type='Value', params=None), 'T': DeclaredTypeInstance(type='BlockBuilder', params=None)}, args=['465603627205655058'], kwargs=None)], '8047929947529397150': ['146', CallNode(function='BlockBuilder.ret', type_params=None, args=['6146628555896443683', '5257279745904273780'], kwargs=None)], '-2722635904436527254': ['147', CallNode(function='Vec.create', type_params=None, args=['8047929947529397150'], kwargs=None)], '5115694749475143828': ['148', CallNode(function='Function.create', type_params=None, args=['5230752817590163161', '-2722635904436527254'], kwargs=None)], '-8160800965535985815': ['71', CallNode(function='Vec.create', type_params=None, args=['2361972512937787141', '5115694749475143828'], kwargs=None)], '6049796167416184756': ['72', CallNode(function='Module.create', type_params=None, args=['4529417730683882927', '-8160800965535985815'], kwargs=None)], '5191582222642432341': ['73', CallNode(function='Module.to_string', type_params=None, args=['6049796167416184756'], kwargs=None)], '-1301953925308917193': ['74', CallNode(function='ModuleRef.create', type_params=None, args=['5191582222642432341'], kwargs=None)], '2994735617830320562': ['75', CallNode(function='ModuleRef.optimize', type_params=None, args=['-1301953925308917193', '-2875747113732640390'], kwargs=None)], '2830222220605665973': ['76', CallNode(function='ExecutionEngine.create', type_params=None, args=['2994735617830320562'], kwargs=None)], '236452356753618388': ['78', CallNode(function='FunctionBuilder.name', type_params=None, args=['5230752817590163161'], kwargs=None)], '-8105176038943427234': ['79', CallNode(function='ExecutionEngine.get_function_address', type_params=None, args=['2830222220605665973', '236452356753618388'], kwargs=None)], '3541350285687104321': ['33', CallNode(function='CFunctionType.__call__', type_params=None, args=['4611151268333121164', '-8105176038943427234'], kwargs=None)], '-2729666616129826691': ['72', CallNode(function='Module.create', type_params=None, args=['1384074109445627179', '-8160800965535985815'], kwargs=None)], '-2000791514985616342': ['73', CallNode(function='Module.to_string', type_params=None, args=['-2729666616129826691'], kwargs=None)], '4483868487289339558': ['74', CallNode(function='ModuleRef.create', type_params=None, args=['-2000791514985616342'], kwargs=None)], '1965099047022213709': ['75', CallNode(function='ModuleRef.optimize', type_params=None, args=['4483868487289339558', '-2875747113732640390'], kwargs=None)], '-3795820655425765986': ['76', CallNode(function='ExecutionEngine.create', type_params=None, args=['1965099047022213709'], kwargs=None)], '5439288020515210860': ['79', CallNode(function='ExecutionEngine.get_function_address', type_params=None, args=['-3795820655425765986', '236452356753618388'], kwargs=None)], '1947565618993260598': ['33', CallNode(function='CFunctionType.__call__', type_params=None, args=['4611151268333121164', '5439288020515210860'], kwargs=None)], '242064929127214250': ['143', CallNode(function='BlockBuilder.call', type_params=None, args=['3788976593789951718', '-8965620968903673144', '7879351228258198570'], kwargs=None)], '-8567539862550882780': ['144', CallNode(function='Pair.left', type_params={'U': DeclaredTypeInstance(type='Value', params=None), 'T': DeclaredTypeInstance(type='BlockBuilder', params=None)}, args=['242064929127214250'], kwargs=None)], '4162535640985035636': ['145', CallNode(function='Pair.right', type_params={'U': DeclaredTypeInstance(type='Value', params=None), 'T': DeclaredTypeInstance(type='BlockBuilder', params=None)}, args=['242064929127214250'], kwargs=None)], '-1913462708342948649': ['146', CallNode(function='BlockBuilder.ret', type_params=None, args=['-8567539862550882780', '4162535640985035636'], kwargs=None)], '1057248212851021900': ['147', CallNode(function='Vec.create', type_params=None, args=['-1913462708342948649'], kwargs=None)], '-7404994244164348967': ['148', CallNode(function='Function.create', type_params=None, args=['5230752817590163161', '1057248212851021900'], kwargs=None)], '3347543058269999169': ['71', CallNode(function='Vec.create', type_params=None, args=['2361972512937787141', '-7404994244164348967'], kwargs=None)], '-7712249250875429551': ['72', CallNode(function='Module.create', type_params=None, args=['1384074109445627179', '3347543058269999169'], kwargs=None)], '-4890228568124345478': ['73', CallNode(function='Module.to_string', type_params=None, args=['-7712249250875429551'], kwargs=None)], '-8818426601560972653': ['74', CallNode(function='ModuleRef.create', type_params=None, args=['-4890228568124345478'], kwargs=None)], '-4182164179333697838': ['75', CallNode(function='ModuleRef.optimize', type_params=None, args=['-8818426601560972653', '-2875747113732640390'], kwargs=None)], '8424788887093773741': ['76', CallNode(function='ExecutionEngine.create', type_params=None, args=['-4182164179333697838'], kwargs=None)], '3170664032720391945': ['79', CallNode(function='ExecutionEngine.get_function_address', type_params=None, args=['8424788887093773741', '236452356753618388'], kwargs=None)], '-7516239871248351556': ['33', CallNode(function='CFunctionType.__call__', type_params=None, args=['4611151268333121164', '3170664032720391945'], kwargs=None)], '-7520580652935116747': ['142', CallNode(function='FunctionBuilder.arguments', type_params=None, args=['3767887897527053750'], kwargs=None)], '712737792173996548': ['143', CallNode(function='BlockBuilder.call', type_params=None, args=['3788976593789951718', '-8965620968903673144', '-7520580652935116747'], kwargs=None)], '4754831715475437379': ['144', CallNode(function='Pair.left', type_params={'U': DeclaredTypeInstance(type='Value', params=None), 'T': DeclaredTypeInstance(type='BlockBuilder', params=None)}, args=['712737792173996548'], kwargs=None)], '5197700720306722050': ['145', CallNode(function='Pair.right', type_params={'U': DeclaredTypeInstance(type='Value', params=None), 'T': DeclaredTypeInstance(type='BlockBuilder', params=None)}, args=['712737792173996548'], kwargs=None)], '2819726454933859773': ['146', CallNode(function='BlockBuilder.ret', type_params=None, args=['4754831715475437379', '5197700720306722050'], kwargs=None)], '-5579561632363765648': ['147', CallNode(function='Vec.create', type_params=None, args=['2819726454933859773'], kwargs=None)], '-8457422009605128360': ['148', CallNode(function='Function.create', type_params=None, args=['3767887897527053750', '-5579561632363765648'], kwargs=None)], '-8582446287298620860': ['71', CallNode(function='Vec.create', type_params=None, args=['2361972512937787141', '-8457422009605128360'], kwargs=None)], '-3654092313930957340': ['72', CallNode(function='Module.create', type_params=None, args=['1384074109445627179', '-8582446287298620860'], kwargs=None)], '3103065143097434912': ['73', CallNode(function='Module.to_string', type_params=None, args=['-3654092313930957340'], kwargs=None)], '-8756221424188140523': ['74', CallNode(function='ModuleRef.create', type_params=None, args=['3103065143097434912'], kwargs=None)], '-5170469076439960576': ['75', CallNode(function='ModuleRef.optimize', type_params=None, args=['-8756221424188140523', '-2875747113732640390'], kwargs=None)], '-2776744315412226608': ['76', CallNode(function='ExecutionEngine.create', type_params=None, args=['-5170469076439960576'], kwargs=None)], '7681621932254222815': ['78', CallNode(function='FunctionBuilder.name', type_params=None, args=['3767887897527053750'], kwargs=None)], '-4298237498886156264': ['79', CallNode(function='ExecutionEngine.get_function_address', type_params=None, args=['-2776744315412226608', '7681621932254222815'], kwargs=None)], '-3347149746272363124': ['33', CallNode(function='CFunctionType.__call__', type_params=None, args=['4611151268333121164', '-4298237498886156264'], kwargs=None)], '-6125647202461426893': ['110', CallNode(function='BlockBuilder.add', type_params=None, args=['4332622757441410973', '1344389918418758022', '-1306471267931645005'], kwargs=None)], '1535562606812766571': ['111', CallNode(function='Pair.left', type_params={'U': DeclaredTypeInstance(type='Value', params=None), 'T': DeclaredTypeInstance(type='BlockBuilder', params=None)}, args=['-6125647202461426893'], kwargs=None)], '1489033623906005460': ['112', CallNode(function='Pair.right', type_params={'U': DeclaredTypeInstance(type='Value', params=None), 'T': DeclaredTypeInstance(type='BlockBuilder', params=None)}, args=['-6125647202461426893'], kwargs=None)], '2782354079551107365': ['114', CallNode(function='BlockBuilder.add', type_params=None, args=['1535562606812766571', '1489033623906005460', '-5343249568608216511'], kwargs=None)], '-2716206679584994876': ['115', CallNode(function='Pair.left', type_params={'U': DeclaredTypeInstance(type='Value', params=None), 'T': DeclaredTypeInstance(type='BlockBuilder', params=None)}, args=['2782354079551107365'], kwargs=None)], '-2273337674753710205': ['116', CallNode(function='Pair.right', type_params={'U': DeclaredTypeInstance(type='Value', params=None), 'T': DeclaredTypeInstance(type='BlockBuilder', params=None)}, args=['2782354079551107365'], kwargs=None)], '-79399256622273440': ['117', CallNode(function='BlockBuilder.ret', type_params=None, args=['-2716206679584994876', '-2273337674753710205'], kwargs=None)], '2044559149513758971': ['118', CallNode(function='Vec.create', type_params=None, args=['-79399256622273440'], kwargs=None)], '-4751528613312917507': ['119', CallNode(function='Function.create', type_params=None, args=['-8965620968903673144', '2044559149513758971'], kwargs=None)], '-2466451985888907290': ['71', CallNode(function='Vec.create', type_params=None, args=['-4751528613312917507', '-8457422009605128360'], kwargs=None)], '8228503204864133342': ['72', CallNode(function='Module.create', type_params=None, args=['1384074109445627179', '-2466451985888907290'], kwargs=None)], '-3332205877671161440': ['73', CallNode(function='Module.to_string', type_params=None, args=['8228503204864133342'], kwargs=None)], '1863220833433786226': ['74', CallNode(function='ModuleRef.create', type_params=None, args=['-3332205877671161440'], kwargs=None)], '8419033909555927794': ['75', CallNode(function='ModuleRef.optimize', type_params=None, args=['1863220833433786226', '-2875747113732640390'], kwargs=None)], '7633277811330242618': ['76', CallNode(function='ExecutionEngine.create', type_params=None, args=['8419033909555927794'], kwargs=None)], '8431826596581375085': ['79', CallNode(function='ExecutionEngine.get_function_address', type_params=None, args=['7633277811330242618', '7681621932254222815'], kwargs=None)], '-6391601170480695641': ['33', CallNode(function='CFunctionType.__call__', type_params=None, args=['4611151268333121164', '8431826596581375085'], kwargs=None)], '2497729764867837609': ['110', CallNode(function='BlockBuilder.add', type_params=None, args=['4332622757441410973', '8941937268231667926', '-1306471267931645005'], kwargs=None)], '-7672114980549986720': ['111', CallNode(function='Pair.left', type_params={'U': DeclaredTypeInstance(type='Value', params=None), 'T': DeclaredTypeInstance(type='BlockBuilder', params=None)}, args=['2497729764867837609'], kwargs=None)], '5486922900183026865': ['112', CallNode(function='Pair.right', type_params={'U': DeclaredTypeInstance(type='Value', params=None), 'T': DeclaredTypeInstance(type='BlockBuilder', params=None)}, args=['2497729764867837609'], kwargs=None)], '3961905689018463310': ['114', CallNode(function='BlockBuilder.add', type_params=None, args=['-7672114980549986720', '5486922900183026865', '-5343249568608216511'], kwargs=None)], '-2425312999352833278': ['115', CallNode(function='Pair.left', type_params={'U': DeclaredTypeInstance(type='Value', params=None), 'T': DeclaredTypeInstance(type='BlockBuilder', params=None)}, args=['3961905689018463310'], kwargs=None)], '3687695592745323482': ['116', CallNode(function='Pair.right', type_params={'U': DeclaredTypeInstance(type='Value', params=None), 'T': DeclaredTypeInstance(type='BlockBuilder', params=None)}, args=['3961905689018463310'], kwargs=None)], '7023427768849760806': ['117', CallNode(function='BlockBuilder.ret', type_params=None, args=['-2425312999352833278', '3687695592745323482'], kwargs=None)], '3595509500672912523': ['118', CallNode(function='Vec.create', type_params=None, args=['7023427768849760806'], kwargs=None)], '-8814754301407149448': ['119', CallNode(function='Function.create', type_params=None, args=['-8965620968903673144', '3595509500672912523'], kwargs=None)], '4313190877549965634': ['71', CallNode(function='Vec.create', type_params=None, args=['-8814754301407149448', '-8457422009605128360'], kwargs=None)], '-2493353301703271655': ['72', CallNode(function='Module.create', type_params=None, args=['1384074109445627179', '4313190877549965634'], kwargs=None)], '6305795258896845347': ['73', CallNode(function='Module.to_string', type_params=None, args=['-2493353301703271655'], kwargs=None)], '-8606292898038899109': ['74', CallNode(function='ModuleRef.create', type_params=None, args=['6305795258896845347'], kwargs=None)], '-1500290745857321192': ['75', CallNode(function='ModuleRef.optimize', type_params=None, args=['-8606292898038899109', '-2875747113732640390'], kwargs=None)], '-1681914072630590589': ['76', CallNode(function='ExecutionEngine.create', type_params=None, args=['-1500290745857321192'], kwargs=None)], '4658081436559941215': ['79', CallNode(function='ExecutionEngine.get_function_address', type_params=None, args=['-1681914072630590589', '7681621932254222815'], kwargs=None)], '-2750544034334797942': ['33', CallNode(function='CFunctionType.__call__', type_params=None, args=['4611151268333121164', '4658081436559941215'], kwargs=None)], '2128124777952020150': ['110', CallNode(function='BlockBuilder.add', type_params=None, args=['-5536952608420895087', '8941937268231667926', '-1306471267931645005'], kwargs=None)], '128251769440548251': ['111', CallNode(function='Pair.left', type_params={'U': DeclaredTypeInstance(type='Value', params=None), 'T': DeclaredTypeInstance(type='BlockBuilder', params=None)}, args=['2128124777952020150'], kwargs=None)], '-761097040551621652': ['112', CallNode(function='Pair.right', type_params={'U': DeclaredTypeInstance(type='Value', params=None), 'T': DeclaredTypeInstance(type='BlockBuilder', params=None)}, args=['2128124777952020150'], kwargs=None)], '-6045324292088765393': ['114', CallNode(function='BlockBuilder.add', type_params=None, args=['128251769440548251', '-761097040551621652', '-5343249568608216511'], kwargs=None)], '-5264935999019573170': ['115', CallNode(function='Pair.left', type_params={'U': DeclaredTypeInstance(type='Value', params=None), 'T': DeclaredTypeInstance(type='BlockBuilder', params=None)}, args=['-6045324292088765393'], kwargs=None)], '-4822066994188288499': ['116', CallNode(function='Pair.right', type_params={'U': DeclaredTypeInstance(type='Value', params=None), 'T': DeclaredTypeInstance(type='BlockBuilder', params=None)}, args=['-6045324292088765393'], kwargs=None)], '5575513973576023302': ['117', CallNode(function='BlockBuilder.ret', type_params=None, args=['-5264935999019573170', '-4822066994188288499'], kwargs=None)], '-6128807599035005977': ['118', CallNode(function='Vec.create', type_params=None, args=['5575513973576023302'], kwargs=None)], '-7158362749395645168': ['119', CallNode(function='Function.create', type_params=None, args=['-8965620968903673144', '-6128807599035005977'], kwargs=None)], '-936649201630236805': ['71', CallNode(function='Vec.create', type_params=None, args=['-7158362749395645168', '-8457422009605128360'], kwargs=None)], '6528326842513997946': ['72', CallNode(function='Module.create', type_params=None, args=['1384074109445627179', '-936649201630236805'], kwargs=None)], '-3296172865138165790': ['73', CallNode(function='Module.to_string', type_params=None, args=['6528326842513997946'], kwargs=None)], '2216966980637285217': ['74', CallNode(function='ModuleRef.create', type_params=None, args=['-3296172865138165790'], kwargs=None)], '-106782581593263440': ['75', CallNode(function='ModuleRef.optimize', type_params=None, args=['2216966980637285217', '-2875747113732640390'], kwargs=None)], '4269715244186309813': ['76', CallNode(function='ExecutionEngine.create', type_params=None, args=['-106782581593263440'], kwargs=None)], '2759996920588856231': ['79', CallNode(function='ExecutionEngine.get_function_address', type_params=None, args=['4269715244186309813', '7681621932254222815'], kwargs=None)], '-3623265144148711675': ['33', CallNode(function='CFunctionType.__call__', type_params=None, args=['4611151268333121164', '2759996920588856231'], kwargs=None)], '3402735950288980214': ['185', PrimitiveNode(type='Argument', repr='i32 %\".1\"')], '-6330822719899341621': ['186', CallNode(function='Value.box', type_params=None, args=['3402735950288980214'], kwargs=None)], '-2765593911803057910': ['187', PrimitiveNode(type='Argument', repr='i32 %\".2\"')], '-5569951149269661857': ['188', CallNode(function='Value.box', type_params=None, args=['-2765593911803057910'], kwargs=None)], '720917623241716800': ['142', CallNode(function='Vec.create', type_params=None, args=['-6330822719899341621', '-5569951149269661857'], kwargs=None)], '-6819165258537119751': ['143', CallNode(function='BlockBuilder.call', type_params=None, args=['3788976593789951718', '-8965620968903673144', '720917623241716800'], kwargs=None)], '-265524059974138304': ['144', CallNode(function='Pair.left', type_params={'U': DeclaredTypeInstance(type='Value', params=None), 'T': DeclaredTypeInstance(type='BlockBuilder', params=None)}, args=['-6819165258537119751'], kwargs=None)], '177344944857146367': ['145', CallNode(function='Pair.right', type_params={'U': DeclaredTypeInstance(type='Value', params=None), 'T': DeclaredTypeInstance(type='BlockBuilder', params=None)}, args=['-6819165258537119751'], kwargs=None)], '6082087534608030176': ['146', CallNode(function='BlockBuilder.ret', type_params=None, args=['-265524059974138304', '177344944857146367'], kwargs=None)], '3176148116486638054': ['147', CallNode(function='Vec.create', type_params=None, args=['6082087534608030176'], kwargs=None)], '5138255520121652568': ['148', CallNode(function='Function.create', type_params=None, args=['3767887897527053750', '3176148116486638054'], kwargs=None)], '-6231262048612243500': ['71', CallNode(function='Vec.create', type_params=None, args=['-7158362749395645168', '5138255520121652568'], kwargs=None)], '2240515824321775051': ['72', CallNode(function='Module.create', type_params=None, args=['1384074109445627179', '-6231262048612243500'], kwargs=None)], '7364977299824091908': ['73', CallNode(function='Module.to_string', type_params=None, args=['2240515824321775051'], kwargs=None)], '4012011352235363553': ['74', CallNode(function='ModuleRef.create', type_params=None, args=['7364977299824091908'], kwargs=None)], '4803295309773734536': ['75', CallNode(function='ModuleRef.optimize', type_params=None, args=['4012011352235363553', '-2875747113732640390'], kwargs=None)], '-5949019626212554482': ['76', CallNode(function='ExecutionEngine.create', type_params=None, args=['4803295309773734536'], kwargs=None)], '6918295714860687625': ['79', CallNode(function='ExecutionEngine.get_function_address', type_params=None, args=['-5949019626212554482', '7681621932254222815'], kwargs=None)], '3462455738246030841': ['33', CallNode(function='CFunctionType.__call__', type_params=None, args=['4611151268333121164', '6918295714860687625'], kwargs=None)], '-7279627033701037808': ['191', PrimitiveNode(type='CallInstr', repr='%\".4\" = call fastcc i32 @\"add\"(i32 %\".1\", i32 %\".2\")')], '-7785203829254619345': ['192', CallNode(function='Value.box', type_params=None, args=['-7279627033701037808'], kwargs=None)], '2617331658497288501': ['143', CallNode(function='Pair.create', type_params={'U': DeclaredTypeInstance(type='Value', params=None), 'T': DeclaredTypeInstance(type='BlockBuilder', params=None)}, args=['3788976593789951718', '-7785203829254619345'], kwargs=None)], '345695624078598118': ['144', CallNode(function='Pair.left', type_params={'U': DeclaredTypeInstance(type='Value', params=None), 'T': DeclaredTypeInstance(type='BlockBuilder', params=None)}, args=['2617331658497288501'], kwargs=None)], '788564628909882789': ['145', CallNode(function='Pair.right', type_params={'U': DeclaredTypeInstance(type='Value', params=None), 'T': DeclaredTypeInstance(type='BlockBuilder', params=None)}, args=['2617331658497288501'], kwargs=None)], '-8311412055569834102': ['146', CallNode(function='BlockBuilder.ret', type_params=None, args=['345695624078598118', '788564628909882789'], kwargs=None)], '8611055119689614648': ['147', CallNode(function='Vec.create', type_params=None, args=['-8311412055569834102'], kwargs=None)], '2665349191014716867': ['148', CallNode(function='Function.create', type_params=None, args=['3767887897527053750', '8611055119689614648'], kwargs=None)], '-6801550534891422786': ['71', CallNode(function='Vec.create', type_params=None, args=['-7158362749395645168', '2665349191014716867'], kwargs=None)], '-8333588043187013192': ['72', CallNode(function='Module.create', type_params=None, args=['1384074109445627179', '-6801550534891422786'], kwargs=None)], '-7563711257983292677': ['73', CallNode(function='Module.to_string', type_params=None, args=['-8333588043187013192'], kwargs=None)], '789059832130117244': ['74', CallNode(function='ModuleRef.create', type_params=None, args=['-7563711257983292677'], kwargs=None)], '1440780675638145056': ['75', CallNode(function='ModuleRef.optimize', type_params=None, args=['789059832130117244', '-2875747113732640390'], kwargs=None)], '861039075485339073': ['76', CallNode(function='ExecutionEngine.create', type_params=None, args=['1440780675638145056'], kwargs=None)], '-944683646863223199': ['79', CallNode(function='ExecutionEngine.get_function_address', type_params=None, args=['861039075485339073', '7681621932254222815'], kwargs=None)], '-7618551949069378780': ['33', CallNode(function='CFunctionType.__call__', type_params=None, args=['4611151268333121164', '-944683646863223199'], kwargs=None)], '-6436206749743579477': ['195', PrimitiveNode(type='Instruction', repr='%\".4\" = add i32 %\".1\", %\".2\"')], '8642348607594373047': ['196', CallNode(function='Value.box', type_params=None, args=['-6436206749743579477'], kwargs=None)], '2373627649614631170': ['110', CallNode(function='Pair.create', type_params={'U': DeclaredTypeInstance(type='Value', params=None), 'T': DeclaredTypeInstance(type='BlockBuilder', params=None)}, args=['-5536952608420895087', '8642348607594373047'], kwargs=None)], '8975599267358381792': ['111', CallNode(function='Pair.left', type_params={'U': DeclaredTypeInstance(type='Value', params=None), 'T': DeclaredTypeInstance(type='BlockBuilder', params=None)}, args=['2373627649614631170'], kwargs=None)], '1040221168731355064': ['112', CallNode(function='Pair.right', type_params={'U': DeclaredTypeInstance(type='Value', params=None), 'T': DeclaredTypeInstance(type='BlockBuilder', params=None)}, args=['2373627649614631170'], kwargs=None)], '-5897241933530098074': ['114', CallNode(function='BlockBuilder.add', type_params=None, args=['8975599267358381792', '1040221168731355064', '-5343249568608216511'], kwargs=None)], '-8887817221509388966': ['115', CallNode(function='Pair.left', type_params={'U': DeclaredTypeInstance(type='Value', params=None), 'T': DeclaredTypeInstance(type='BlockBuilder', params=None)}, args=['-5897241933530098074'], kwargs=None)], '2955766568396590496': ['116', CallNode(function='Pair.right', type_params={'U': DeclaredTypeInstance(type='Value', params=None), 'T': DeclaredTypeInstance(type='BlockBuilder', params=None)}, args=['-5897241933530098074'], kwargs=None)], '-9022476610448866631': ['117', CallNode(function='BlockBuilder.ret', type_params=None, args=['-8887817221509388966', '2955766568396590496'], kwargs=None)], '7978792650180288284': ['118', CallNode(function='Vec.create', type_params=None, args=['-9022476610448866631'], kwargs=None)], '7207556839318262825': ['119', CallNode(function='Function.create', type_params=None, args=['-8965620968903673144', '7978792650180288284'], kwargs=None)], '8909343255766521162': ['71', CallNode(function='Vec.create', type_params=None, args=['7207556839318262825', '2665349191014716867'], kwargs=None)], '-8376856054883219038': ['72', CallNode(function='Module.create', type_params=None, args=['1384074109445627179', '8909343255766521162'], kwargs=None)], '4034494413224183908': ['73', CallNode(function='Module.to_string', type_params=None, args=['-8376856054883219038'], kwargs=None)], '7539403764853213942': ['74', CallNode(function='ModuleRef.create', type_params=None, args=['4034494413224183908'], kwargs=None)], '-3518325887057290634': ['75', CallNode(function='ModuleRef.optimize', type_params=None, args=['7539403764853213942', '-2875747113732640390'], kwargs=None)], '4722776317364825034': ['76', CallNode(function='ExecutionEngine.create', type_params=None, args=['-3518325887057290634'], kwargs=None)], '5021142622337364886': ['79', CallNode(function='ExecutionEngine.get_function_address', type_params=None, args=['4722776317364825034', '7681621932254222815'], kwargs=None)], '5282156243057573490': ['33', CallNode(function='CFunctionType.__call__', type_params=None, args=['4611151268333121164', '5021142622337364886'], kwargs=None)], '5621748707860190844': ['146', CallNode(function='BlockBuilder.ret', type_params=None, args=['345695624078598118', '-7785203829254619345'], kwargs=None)], '2241725198503138610': ['147', CallNode(function='Vec.create', type_params=None, args=['5621748707860190844'], kwargs=None)], '-4500391728803608011': ['148', CallNode(function='Function.create', type_params=None, args=['3767887897527053750', '2241725198503138610'], kwargs=None)], '2633865565533259599': ['71', CallNode(function='Vec.create', type_params=None, args=['7207556839318262825', '-4500391728803608011'], kwargs=None)], '-7718484533325533164': ['72', CallNode(function='Module.create', type_params=None, args=['1384074109445627179', '2633865565533259599'], kwargs=None)], '4692230106507536099': ['73', CallNode(function='Module.to_string', type_params=None, args=['-7718484533325533164'], kwargs=None)], '-2334343212438633909': ['74', CallNode(function='ModuleRef.create', type_params=None, args=['4692230106507536099'], kwargs=None)], '-3225538801176321356': ['75', CallNode(function='ModuleRef.optimize', type_params=None, args=['-2334343212438633909', '-2875747113732640390'], kwargs=None)], '-1594775518013570629': ['76', CallNode(function='ExecutionEngine.create', type_params=None, args=['-3225538801176321356'], kwargs=None)], '4515961928706664399': ['79', CallNode(function='ExecutionEngine.get_function_address', type_params=None, args=['-1594775518013570629', '7681621932254222815'], kwargs=None)], '-4847663421200720371': ['33', CallNode(function='CFunctionType.__call__', type_params=None, args=['4611151268333121164', '4515961928706664399'], kwargs=None)], '-8848762644560490754': ['146', CallNode(function='BlockBuilder.ret', type_params=None, args=['3788976593789951718', '-7785203829254619345'], kwargs=None)], '8153678834830718908': ['147', CallNode(function='Vec.create', type_params=None, args=['-8848762644560490754'], kwargs=None)], '2655128229304722362': ['148', CallNode(function='Function.create', type_params=None, args=['3767887897527053750', '8153678834830718908'], kwargs=None)], '5727837545503377346': ['71', CallNode(function='Vec.create', type_params=None, args=['7207556839318262825', '2655128229304722362'], kwargs=None)], '-1211800357204194198': ['72', CallNode(function='Module.create', type_params=None, args=['1384074109445627179', '5727837545503377346'], kwargs=None)], '-3917940043335696771': ['73', CallNode(function='Module.to_string', type_params=None, args=['-1211800357204194198'], kwargs=None)], '247330690228741657': ['74', CallNode(function='ModuleRef.create', type_params=None, args=['-3917940043335696771'], kwargs=None)], '-9170167682689020348': ['75', CallNode(function='ModuleRef.optimize', type_params=None, args=['247330690228741657', '-2875747113732640390'], kwargs=None)], '6408723158442358033': ['76', CallNode(function='ExecutionEngine.create', type_params=None, args=['-9170167682689020348'], kwargs=None)], '-4356631685530058489': ['79', CallNode(function='ExecutionEngine.get_function_address', type_params=None, args=['6408723158442358033', '7681621932254222815'], kwargs=None)], '2250059886640892518': ['33', CallNode(function='CFunctionType.__call__', type_params=None, args=['4611151268333121164', '-4356631685530058489'], kwargs=None)], '8796399967394610010': ['114', CallNode(function='BlockBuilder.add', type_params=None, args=['8975599267358381792', '8642348607594373047', '-5343249568608216511'], kwargs=None)], '6731889765015156642': ['115', CallNode(function='Pair.left', type_params={'U': DeclaredTypeInstance(type='Value', params=None), 'T': DeclaredTypeInstance(type='BlockBuilder', params=None)}, args=['8796399967394610010'], kwargs=None)], '7174758769846441313': ['116', CallNode(function='Pair.right', type_params={'U': DeclaredTypeInstance(type='Value', params=None), 'T': DeclaredTypeInstance(type='BlockBuilder', params=None)}, args=['8796399967394610010'], kwargs=None)], '434845539192730507': ['117', CallNode(function='BlockBuilder.ret', type_params=None, args=['6731889765015156642', '7174758769846441313'], kwargs=None)], '6302092871072744607': ['118', CallNode(function='Vec.create', type_params=None, args=['434845539192730507'], kwargs=None)], '7659722411185996894': ['119', CallNode(function='Function.create', type_params=None, args=['-8965620968903673144', '6302092871072744607'], kwargs=None)], '2780946122200199662': ['71', CallNode(function='Vec.create', type_params=None, args=['7659722411185996894', '2655128229304722362'], kwargs=None)], '3761041643239783687': ['72', CallNode(function='Module.create', type_params=None, args=['1384074109445627179', '2780946122200199662'], kwargs=None)], '-4840959123402025096': ['73', CallNode(function='Module.to_string', type_params=None, args=['3761041643239783687'], kwargs=None)], '-4402928733070000338': ['74', CallNode(function='ModuleRef.create', type_params=None, args=['-4840959123402025096'], kwargs=None)], '-1633475035418318727': ['75', CallNode(function='ModuleRef.optimize', type_params=None, args=['-4402928733070000338', '-2875747113732640390'], kwargs=None)], '3279307359433639315': ['76', CallNode(function='ExecutionEngine.create', type_params=None, args=['-1633475035418318727'], kwargs=None)], '8815139289600886436': ['79', CallNode(function='ExecutionEngine.get_function_address', type_params=None, args=['3279307359433639315', '7681621932254222815'], kwargs=None)], '8481524213906415969': ['33', CallNode(function='CFunctionType.__call__', type_params=None, args=['4611151268333121164', '8815139289600886436'], kwargs=None)], '5258883228145377369': ['114', CallNode(function='BlockBuilder.add', type_params=None, args=['-5536952608420895087', '8642348607594373047', '-5343249568608216511'], kwargs=None)], '-4603547007491538170': ['115', CallNode(function='Pair.left', type_params={'U': DeclaredTypeInstance(type='Value', params=None), 'T': DeclaredTypeInstance(type='BlockBuilder', params=None)}, args=['5258883228145377369'], kwargs=None)], '-4160678002660253499': ['116', CallNode(function='Pair.right', type_params={'U': DeclaredTypeInstance(type='Value', params=None), 'T': DeclaredTypeInstance(type='BlockBuilder', params=None)}, args=['5258883228145377369'], kwargs=None)], '-3255918295048247866': ['117', CallNode(function='BlockBuilder.ret', type_params=None, args=['-4603547007491538170', '-4160678002660253499'], kwargs=None)], '-6303485571506739742': ['118', CallNode(function='Vec.create', type_params=None, args=['-3255918295048247866'], kwargs=None)], '-8613425278206524268': ['119', CallNode(function='Function.create', type_params=None, args=['-8965620968903673144', '-6303485571506739742'], kwargs=None)], '8930821348456656661': ['71', CallNode(function='Vec.create', type_params=None, args=['-8613425278206524268', '2655128229304722362'], kwargs=None)], '-2434564936645835772': ['72', CallNode(function='Module.create', type_params=None, args=['1384074109445627179', '8930821348456656661'], kwargs=None)], '1702688136869546532': ['73', CallNode(function='Module.to_string', type_params=None, args=['-2434564936645835772'], kwargs=None)], '-3392655205163427901': ['74', CallNode(function='ModuleRef.create', type_params=None, args=['1702688136869546532'], kwargs=None)], '1147231297002784443': ['75', CallNode(function='ModuleRef.optimize', type_params=None, args=['-3392655205163427901', '-2875747113732640390'], kwargs=None)], '1113044274824818452': ['76', CallNode(function='ExecutionEngine.create', type_params=None, args=['1147231297002784443'], kwargs=None)], '6491596625507797907': ['79', CallNode(function='ExecutionEngine.get_function_address', type_params=None, args=['1113044274824818452', '7681621932254222815'], kwargs=None)], '8047717861615618120': ['33', CallNode(function='CFunctionType.__call__', type_params=None, args=['4611151268333121164', '6491596625507797907'], kwargs=None)], '-7812982631025007884': ['147', CallNode(function='Vec.create', type_params=None, args=['3788976593789951718'], kwargs=None)], '-3628407119268440404': ['148', CallNode(function='Function.create', type_params=None, args=['3767887897527053750', '-7812982631025007884'], kwargs=None)], '-2248837152917062100': ['71', CallNode(function='Vec.create', type_params=None, args=['-8613425278206524268', '-3628407119268440404'], kwargs=None)], '4438116854859798480': ['72', CallNode(function='Module.create', type_params=None, args=['1384074109445627179', '-2248837152917062100'], kwargs=None)], '-2607978016446641909': ['73', CallNode(function='Module.to_string', type_params=None, args=['4438116854859798480'], kwargs=None)], '-844178084944638124': ['74', CallNode(function='ModuleRef.create', type_params=None, args=['-2607978016446641909'], kwargs=None)], '4559695708346790326': ['75', CallNode(function='ModuleRef.optimize', type_params=None, args=['-844178084944638124', '-2875747113732640390'], kwargs=None)], '5250117159111482292': ['76', CallNode(function='ExecutionEngine.create', type_params=None, args=['4559695708346790326'], kwargs=None)], '4344724809675472441': ['79', CallNode(function='ExecutionEngine.get_function_address', type_params=None, args=['5250117159111482292', '7681621932254222815'], kwargs=None)], '2645703747688289143': ['33', CallNode(function='CFunctionType.__call__', type_params=None, args=['4611151268333121164', '4344724809675472441'], kwargs=None)], '7659607200732054834': ['202', PrimitiveNode(type='Instruction', repr='%\".5\" = add i32 %\".4\", 1')], '-1625024887734732800': ['203', CallNode(function='Value.box', type_params=None, args=['7659607200732054834'], kwargs=None)], '1751906471138555418': ['114', CallNode(function='Pair.create', type_params={'U': DeclaredTypeInstance(type='Value', params=None), 'T': DeclaredTypeInstance(type='BlockBuilder', params=None)}, args=['-5536952608420895087', '-1625024887734732800'], kwargs=None)], '-4460552892802476395': ['115', CallNode(function='Pair.left', type_params={'U': DeclaredTypeInstance(type='Value', params=None), 'T': DeclaredTypeInstance(type='BlockBuilder', params=None)}, args=['1751906471138555418'], kwargs=None)], '7383030897103503067': ['116', CallNode(function='Pair.right', type_params={'U': DeclaredTypeInstance(type='Value', params=None), 'T': DeclaredTypeInstance(type='BlockBuilder', params=None)}, args=['1751906471138555418'], kwargs=None)], '5407424160131032482': ['117', CallNode(function='BlockBuilder.ret', type_params=None, args=['-4460552892802476395', '7383030897103503067'], kwargs=None)], '-8641289290264176304': ['118', CallNode(function='Vec.create', type_params=None, args=['5407424160131032482'], kwargs=None)], '-6888642234485698807': ['119', CallNode(function='Function.create', type_params=None, args=['-8965620968903673144', '-8641289290264176304'], kwargs=None)], '-6545793843330198581': ['71', CallNode(function='Vec.create', type_params=None, args=['-6888642234485698807', '-3628407119268440404'], kwargs=None)], '-3409222458938290896': ['72', CallNode(function='Module.create', type_params=None, args=['1384074109445627179', '-6545793843330198581'], kwargs=None)], '-5362466221499745010': ['73', CallNode(function='Module.to_string', type_params=None, args=['-3409222458938290896'], kwargs=None)], '3693563943008654969': ['74', CallNode(function='ModuleRef.create', type_params=None, args=['-5362466221499745010'], kwargs=None)], '6695143955972111259': ['75', CallNode(function='ModuleRef.optimize', type_params=None, args=['3693563943008654969', '-2875747113732640390'], kwargs=None)], '8424551437719248409': ['76', CallNode(function='ExecutionEngine.create', type_params=None, args=['6695143955972111259'], kwargs=None)], '689152239704630920': ['79', CallNode(function='ExecutionEngine.get_function_address', type_params=None, args=['8424551437719248409', '7681621932254222815'], kwargs=None)], '3084128981065913953': ['33', CallNode(function='CFunctionType.__call__', type_params=None, args=['4611151268333121164', '689152239704630920'], kwargs=None)], '5046595094246563415': ['117', CallNode(function='BlockBuilder.ret', type_params=None, args=['-4460552892802476395', '-1625024887734732800'], kwargs=None)], '7617374406129211343': ['118', CallNode(function='Vec.create', type_params=None, args=['5046595094246563415'], kwargs=None)], '-3412709832405550461': ['119', CallNode(function='Function.create', type_params=None, args=['-8965620968903673144', '7617374406129211343'], kwargs=None)], '4353262663880799912': ['71', CallNode(function='Vec.create', type_params=None, args=['-3412709832405550461', '-3628407119268440404'], kwargs=None)], '544761945823200644': ['72', CallNode(function='Module.create', type_params=None, args=['1384074109445627179', '4353262663880799912'], kwargs=None)], '6815715748706712786': ['73', CallNode(function='Module.to_string', type_params=None, args=['544761945823200644'], kwargs=None)], '9194253344101589114': ['74', CallNode(function='ModuleRef.create', type_params=None, args=['6815715748706712786'], kwargs=None)], '-4928042826829636512': ['75', CallNode(function='ModuleRef.optimize', type_params=None, args=['9194253344101589114', '-2875747113732640390'], kwargs=None)], '-5596214914493769360': ['76', CallNode(function='ExecutionEngine.create', type_params=None, args=['-4928042826829636512'], kwargs=None)], '-6353708797967876248': ['79', CallNode(function='ExecutionEngine.get_function_address', type_params=None, args=['-5596214914493769360', '7681621932254222815'], kwargs=None)], '-8122690814268884015': ['33', CallNode(function='CFunctionType.__call__', type_params=None, args=['4611151268333121164', '-6353708797967876248'], kwargs=None)], '-1825338716198958220': ['117', CallNode(function='BlockBuilder.ret', type_params=None, args=['-5536952608420895087', '-1625024887734732800'], kwargs=None)], '2525422344923729625': ['118', CallNode(function='Vec.create', type_params=None, args=['-1825338716198958220'], kwargs=None)], '-8036209553739713145': ['119', CallNode(function='Function.create', type_params=None, args=['-8965620968903673144', '2525422344923729625'], kwargs=None)], '-6625370711719580339': ['71', CallNode(function='Vec.create', type_params=None, args=['-8036209553739713145', '-3628407119268440404'], kwargs=None)], '7241755195653989297': ['72', CallNode(function='Module.create', type_params=None, args=['1384074109445627179', '-6625370711719580339'], kwargs=None)], '8971788651707699345': ['73', CallNode(function='Module.to_string', type_params=None, args=['7241755195653989297'], kwargs=None)], '-4024893528149371138': ['74', CallNode(function='ModuleRef.create', type_params=None, args=['8971788651707699345'], kwargs=None)], '-4524350150199677190': ['75', CallNode(function='ModuleRef.optimize', type_params=None, args=['-4024893528149371138', '-2875747113732640390'], kwargs=None)], '-7737419500129110718': ['76', CallNode(function='ExecutionEngine.create', type_params=None, args=['-4524350150199677190'], kwargs=None)], '8671036772807196085': ['79', CallNode(function='ExecutionEngine.get_function_address', type_params=None, args=['-7737419500129110718', '7681621932254222815'], kwargs=None)], '1177042759769215657': ['33', CallNode(function='CFunctionType.__call__', type_params=None, args=['4611151268333121164', '8671036772807196085'], kwargs=None)], '-4497013277077180418': ['118', CallNode(function='Vec.create', type_params=None, args=['-5536952608420895087'], kwargs=None)], '8815060898526258188': ['119', CallNode(function='Function.create', type_params=None, args=['-8965620968903673144', '-4497013277077180418'], kwargs=None)], '4703636550623401328': ['71', CallNode(function='Vec.create', type_params=None, args=['8815060898526258188', '-3628407119268440404'], kwargs=None)], '7828334701523295079': ['72', CallNode(function='Module.create', type_params=None, args=['1384074109445627179', '4703636550623401328'], kwargs=None)], '-7655791678690771667': ['73', CallNode(function='Module.to_string', type_params=None, args=['7828334701523295079'], kwargs=None)], '-3386254565486465697': ['74', CallNode(function='ModuleRef.create', type_params=None, args=['-7655791678690771667'], kwargs=None)], '4710821876138838305': ['75', CallNode(function='ModuleRef.optimize', type_params=None, args=['-3386254565486465697', '-2875747113732640390'], kwargs=None)], '-466110064903363004': ['76', CallNode(function='ExecutionEngine.create', type_params=None, args=['4710821876138838305'], kwargs=None)], '7499411146967502759': ['79', CallNode(function='ExecutionEngine.get_function_address', type_params=None, args=['-466110064903363004', '7681621932254222815'], kwargs=None)], '-4304350720847667160': ['33', CallNode(function='CFunctionType.__call__', type_params=None, args=['4611151268333121164', '7499411146967502759'], kwargs=None)], '-3081389068083354389': ['148', CallNode(function='Function.box', type_params=None, args=['-8161108391907734589'], kwargs=None)], '3554667645005040009': ['71', CallNode(function='Vec.create', type_params=None, args=['8815060898526258188', '-3081389068083354389'], kwargs=None)], '905420348297678652': ['72', CallNode(function='Module.create', type_params=None, args=['1384074109445627179', '3554667645005040009'], kwargs=None)], '1131250550845755722': ['73', CallNode(function='Module.to_string', type_params=None, args=['905420348297678652'], kwargs=None)], '-8983431499475043071': ['74', CallNode(function='ModuleRef.create', type_params=None, args=['1131250550845755722'], kwargs=None)], '3925560877406172502': ['75', CallNode(function='ModuleRef.optimize', type_params=None, args=['-8983431499475043071', '-2875747113732640390'], kwargs=None)], '-4953403501497481791': ['76', CallNode(function='ExecutionEngine.create', type_params=None, args=['3925560877406172502'], kwargs=None)], '3019979956112647431': ['79', CallNode(function='ExecutionEngine.get_function_address', type_params=None, args=['-4953403501497481791', '7681621932254222815'], kwargs=None)], '-2989758483961390442': ['33', CallNode(function='CFunctionType.__call__', type_params=None, args=['4611151268333121164', '3019979956112647431'], kwargs=None)], '7519601509917884243': ['119', CallNode(function='Function.box', type_params=None, args=['-877117171874290748'], kwargs=None)], '5546547979392609240': ['71', CallNode(function='Vec.create', type_params=None, args=['7519601509917884243', '-3081389068083354389'], kwargs=None)], '-1884523953794584948': ['72', CallNode(function='Module.create', type_params=None, args=['1384074109445627179', '5546547979392609240'], kwargs=None)], '-951290211807951686': ['73', CallNode(function='Module.to_string', type_params=None, args=['-1884523953794584948'], kwargs=None)], '6674586379136766701': ['74', CallNode(function='ModuleRef.create', type_params=None, args=['-951290211807951686'], kwargs=None)], '1352812530999846439': ['75', CallNode(function='ModuleRef.optimize', type_params=None, args=['6674586379136766701', '-2875747113732640390'], kwargs=None)], '-5053459754861929953': ['76', CallNode(function='ExecutionEngine.create', type_params=None, args=['1352812530999846439'], kwargs=None)], '-6713253538646551998': ['79', CallNode(function='ExecutionEngine.get_function_address', type_params=None, args=['-5053459754861929953', '7681621932254222815'], kwargs=None)], '3513476540347485299': ['33', CallNode(function='CFunctionType.__call__', type_params=None, args=['4611151268333121164', '-6713253538646551998'], kwargs=None)], '-3057721082920351613': ['72', CallNode(function='Module.box', type_params=None, args=['-1695764286796673477'], kwargs=None)], '8331297074541768472': ['73', CallNode(function='Module.to_string', type_params=None, args=['-3057721082920351613'], kwargs=None)], '6263644268407523667': ['74', CallNode(function='ModuleRef.create', type_params=None, args=['8331297074541768472'], kwargs=None)], '-7302690285042111774': ['75', CallNode(function='ModuleRef.optimize', type_params=None, args=['6263644268407523667', '-2875747113732640390'], kwargs=None)], '8076731726353817577': ['76', CallNode(function='ExecutionEngine.create', type_params=None, args=['-7302690285042111774'], kwargs=None)], '-6957964835705270549': ['79', CallNode(function='ExecutionEngine.get_function_address', type_params=None, args=['8076731726353817577', '7681621932254222815'], kwargs=None)], '8628365370122789231': ['33', CallNode(function='CFunctionType.__call__', type_params=None, args=['4611151268333121164', '-6957964835705270549'], kwargs=None)], '-5463349347190413204': ['73', PrimitiveNode(type='str', repr='; ModuleID = \"add\"\\ntarget triple = \"unknown-unknown-unknown\"\\ntarget datalayout = \"\"\\n\\ndefine fastcc i32 @\"add\"(i32 %\".1\", i32 %\".2\") \\n{\\nentry:\\n  %\".4\" = add i32 %\".1\", %\".2\"\\n  %\".5\" = add i32 %\".4\", 1\\n  ret i32 %\".5\"\\n}\\n\\ndefine i32 @\"entry_add\"(i32 %\".1\", i32 %\".2\") \\n{\\nentry:\\n  %\".4\" = call fastcc i32 @\"add\"(i32 %\".1\", i32 %\".2\")\\n  ret i32 %\".4\"\\n}\\n')], '401707550803181045': ['74', CallNode(function='ModuleRef.create', type_params=None, args=['-5463349347190413204'], kwargs=None)], '6954319912496533531': ['75', CallNode(function='ModuleRef.optimize', type_params=None, args=['401707550803181045', '-2875747113732640390'], kwargs=None)], '-7917731368170645262': ['76', CallNode(function='ExecutionEngine.create', type_params=None, args=['6954319912496533531'], kwargs=None)], '-4458975446397404355': ['79', CallNode(function='ExecutionEngine.get_function_address', type_params=None, args=['-7917731368170645262', '7681621932254222815'], kwargs=None)], '-2240030504244369033': ['33', CallNode(function='CFunctionType.__call__', type_params=None, args=['4611151268333121164', '-4458975446397404355'], kwargs=None)], '-7370860615221146305': ['210', PrimitiveNode(type='ModuleRef', repr='; ModuleID = \\'<string>\\'\\nsource_filename = \"<string>\"\\ntarget triple = \"unknown-unknown-unknown\"\\n\\n; Function Attrs: norecurse nounwind readnone\\ndefine fastcc i32 @add(i32 %.1, i32 %.2) local_unnamed_addr #0 {\\nentry:\\n  %.4 = add i32 %.1, 1\\n  %.5 = add i32 %.4, %.2\\n  ret i32 %.5\\n}\\n\\n; Function Attrs: norecurse nounwind readnone\\ndefine i32 @entry_add(i32 %.1, i32 %.2) local_unnamed_addr #0 {\\nentry:\\n  %.4 = tail call fastcc i32 @add(i32 %.1, i32 %.2)\\n  ret i32 %.4\\n}\\n\\nattributes #0 = { norecurse nounwind readnone }\\n')], '-366582185765909922': ['75', CallNode(function='ModuleRef.box', type_params=None, args=['-7370860615221146305'], kwargs=None)], '8151804920152563948': ['75', CallNode(function='ModuleRef.optimize', type_params=None, args=['-366582185765909922', '-2875747113732640390'], kwargs=None)], '-677844099689406495': ['76', CallNode(function='ExecutionEngine.create', type_params=None, args=['8151804920152563948'], kwargs=None)], '-4650465068488518652': ['79', CallNode(function='ExecutionEngine.get_function_address', type_params=None, args=['-677844099689406495', '7681621932254222815'], kwargs=None)], '9092312485827693487': ['33', CallNode(function='CFunctionType.__call__', type_params=None, args=['4611151268333121164', '-4650465068488518652'], kwargs=None)], '-1713550833117965285': ['76', CallNode(function='ExecutionEngine.create', type_params=None, args=['-366582185765909922'], kwargs=None)], '-2694625138076449296': ['79', CallNode(function='ExecutionEngine.get_function_address', type_params=None, args=['-1713550833117965285', '7681621932254222815'], kwargs=None)], '410060782594474463': ['33', CallNode(function='CFunctionType.__call__', type_params=None, args=['4611151268333121164', '-2694625138076449296'], kwargs=None)], '-5753122670711094427': ['211', PrimitiveNode(type='ExecutionEngine', repr='<llvmlite.binding.executionengine.ExecutionEngine object at 0x7fe328566b50>')], '-5957070949827954075': ['76', CallNode(function='ExecutionEngine.box', type_params=None, args=['-5753122670711094427'], kwargs=None)], '-339570468709599753': ['79', CallNode(function='ExecutionEngine.get_function_address', type_params=None, args=['-5957070949827954075', '7681621932254222815'], kwargs=None)], '-1806691734274519814': ['33', CallNode(function='CFunctionType.__call__', type_params=None, args=['4611151268333121164', '-339570468709599753'], kwargs=None)], '-4470815232788402545': ['212', PrimitiveNode(type='PyCSimpleType', repr=\"<class 'ctypes.c_int'>\")], '-9037989002867070824': ['34', CallNode(function='CType.box', type_params=None, args=['-4470815232788402545'], kwargs=None)], '8371595623243741157': ['35', CallNode(function='CFunctionType.create', type_params=None, args=['-9037989002867070824', '-9037989002867070824'], kwargs=None)], '133367520050910050': ['33', CallNode(function='CFunctionType.__call__', type_params=None, args=['8371595623243741157', '-339570468709599753'], kwargs=None)], '-1453992371539979202': ['213', PrimitiveNode(type='PyCFuncPtrType', repr=\"<class 'ctypes.CFUNCTYPE.<locals>.CFunctionType'>\")], '-4078281533701350070': ['35', CallNode(function='CFunctionType.box', type_params=None, args=['-1453992371539979202'], kwargs=None)], '3152270965507089028': ['33', CallNode(function='CFunctionType.__call__', type_params=None, args=['-4078281533701350070', '-339570468709599753'], kwargs=None)]}, states=States(initial='1574494949692620732', states=[State(node='3918510443070288819', rule='metadsl_llvm.ctypes.compile_function', label=None), State(node='-7409550650480773810', rule='metadsl_llvm.llvmlite_ir.module_functions', label=None), State(node='6690752510304122348', rule='metadsl_core.vec.append', label=None), State(node='7388461592958796607', rule='metadsl_llvm.ctypes.make_c_wrapper', label=None), State(node='-1112731901265873131', rule='metadsl_core.pair.pair_right', label=None), State(node='-4872690078920210711', rule='metadsl_llvm.llvmlite_ir.function_builder', label=None), State(node='-5921267819819542168', rule='metadsl_core.pair.pair_left', label=None), State(node='-4605797859253360357', rule='metadsl_llvm.llvmlite_ir.function_builder_name', label=None), State(node='-5134165836768589960', rule='metadsl_llvm.ctypes.concat_strings', label=None), State(node='-5073122520584820067', rule='metadsl_llvm.llvmlite_ir.function_builder_type', label=None), State(node='-5073122520584820067', rule='', label='core'), State(node='-2064765290878346623', rule='metadsl_llvm.llvmlite_ir.type_create_int_box', label=None), State(node='4248417464739313553', rule='metadsl_llvm.llvmlite_ir.value_constant', label=None), State(node='-3187110031684467245', rule='metadsl_llvm.llvmlite_ir.function_type_box_2', label=None), State(node='6461715529389154870', rule='metadsl_llvm.llvmlite_ir.module_builder_box', label=None), State(node='330517251076819046', rule='metadsl_llvm.llvmlite_ir.function_builder_box', label=None), State(node='6479394253176400402', rule='metadsl_llvm.llvmlite_ir.function_builder_arguments', label=None), State(node='7455713472387643791', rule='metadsl_llvm.llvmlite_ir.block_builder_box', label=None), State(node='1801950706887858521', rule='metadsl_llvm.llvmlite_ir.function_builder_create', label=None), State(node='-1646197316688867437', rule='metadsl_llvm.llvmlite_ir.function_builder_box', label=None), State(node='3541350285687104321', rule='metadsl_llvm.llvmlite_ir.block_builder_box', label=None), State(node='1947565618993260598', rule='metadsl_llvm.llvmlite_ir.function_builder_create', label=None), State(node='-7516239871248351556', rule='metadsl_core.pair.pair_right', label=None), State(node='-3347149746272363124', rule='metadsl_core.pair.pair_left', label=None), State(node='-6391601170480695641', rule='metadsl_core.vec.getitem', label=None), State(node='-2750544034334797942', rule='metadsl_core.vec.getitem', label=None), State(node='-3623265144148711675', rule='metadsl_core.pair.pair_right', label=None), State(node='3462455738246030841', rule='metadsl_llvm.llvmlite_ir.function_builder_arguments', label=None), State(node='-7618551949069378780', rule='metadsl_llvm.llvmlite_ir.builder_call_2', label=None), State(node='5282156243057573490', rule='metadsl_llvm.llvmlite_ir.builder_add', label=None), State(node='-4847663421200720371', rule='metadsl_core.pair.pair_right', label=None), State(node='2250059886640892518', rule='metadsl_core.pair.pair_left', label=None), State(node='8481524213906415969', rule='metadsl_core.pair.pair_right', label=None), State(node='8047717861615618120', rule='metadsl_core.pair.pair_left', label=None), State(node='2645703747688289143', rule='metadsl_llvm.llvmlite_ir.builder_ret', label=None), State(node='3084128981065913953', rule='metadsl_llvm.llvmlite_ir.builder_add', label=None), State(node='-8122690814268884015', rule='metadsl_core.pair.pair_right', label=None), State(node='1177042759769215657', rule='metadsl_core.pair.pair_left', label=None), State(node='-4304350720847667160', rule='metadsl_llvm.llvmlite_ir.builder_ret', label=None), State(node='-4304350720847667160', rule='', label='llvmlite.ir (reference)'), State(node='-2989758483961390442', rule='metadsl_llvm.llvmlite_ir.function_box_1', label=None), State(node='3513476540347485299', rule='metadsl_llvm.llvmlite_ir.function_box_1', label=None), State(node='8628365370122789231', rule='metadsl_llvm.llvmlite_ir.module_box_2', label=None), State(node='-2240030504244369033', rule='metadsl_llvm.llvmlite_ir.module_to_string', label=None), State(node='-2240030504244369033', rule='', label='llvmlite.ir'), State(node='9092312485827693487', rule='metadsl_llvm.llvmlite_binding.module_ref_create', label=None), State(node='410060782594474463', rule='metadsl_llvm.llvmlite_binding.module_ref_optimize', label=None), State(node='-1806691734274519814', rule='metadsl_llvm.llvmlite_binding.execution_engine_create', label=None), State(node='-1806691734274519814', rule='', label='llvmlite.binding'), State(node='133367520050910050', rule='metadsl_llvm.ctypes.ctype_cint', label=None), State(node='3152270965507089028', rule='metadsl_llvm.ctypes.c_function_type_create_1', label=None), State(node='3152270965507089028', rule='', label='ctypes')]))"
      ]
     },
     "metadata": {},
     "output_type": "display_data"
    },
    {
     "name": "stdout",
     "output_type": "stream",
     "text": [
      "FAILED\n",
      "\n",
      "========================================================== FAILURES ==========================================================\n",
      "__________________________________________________________ test_add __________________________________________________________\n",
      "\n",
      "    def test_add():\n",
      "        ##\n",
      "        # Constants\n",
      "        ##\n",
      "    \n",
      "        int_type = ml.Type.create_int(32)\n",
      "        one = ml.Value.constant(int_type, 1)\n",
      "    \n",
      "        mod_builder = ml.ModuleBuilder.create(\"add\")\n",
      "        mod_builder, fn_builder = ml.FunctionBuilder.create(\n",
      "            mod_builder,\n",
      "            ml.FunctionType.create(int_type, int_type, int_type),\n",
      "            \"add\",\n",
      "            \"fastcc\",\n",
      "        ).spread\n",
      "    \n",
      "        l = fn_builder.arguments[mc.Integer.from_int(0)]\n",
      "        r = fn_builder.arguments[mc.Integer.from_int(1)]\n",
      "    \n",
      "        function_builder, block_builder = ml.BlockBuilder.create(\"entry\", fn_builder).spread\n",
      "        block_builder, lr = block_builder.add(l, r).spread\n",
      "        block_builder, res = block_builder.add(lr, one).spread\n",
      "        block_builder = block_builder.ret(res)\n",
      "    \n",
      "        ##\n",
      "        # Functions\n",
      "        ##\n",
      "        fn = ml.Function.create(fn_builder, mc.Vec.create(block_builder))\n",
      "    \n",
      "        ##\n",
      "        # Module\n",
      "        ##\n",
      "    \n",
      "        mod = ml.Module.create(mod_builder, mc.Vec.create(fn))\n",
      "    \n",
      "        ##\n",
      "        # CType\n",
      "        ##\n",
      "        c_int = ml.CType.c_int()\n",
      "        c_func_type = ml.CFunctionType.create(c_int, c_int)\n",
      "    \n",
      "        real_fn = m.execute(ml.compile_function(mod, mod_builder, fn_builder, c_func_type))\n",
      ">       assert real_fn(10) == 21\n",
      "E       TypeError: 'PlaceholderExpression' object is not callable\n",
      "\n",
      "../metadsl_llvm/integration_test.py:179: TypeError\n",
      "===================================================== 1 failed in 4.78s ======================================================\n"
     ]
    }
   ],
   "source": [
    "import pytest\n",
    "import metadsl_visualize\n",
    "DISABLED_PLUGINS = [\n",
    "    \"xdist\",\n",
    "    \"mypy\",\n",
    "    \"pudb\",\n",
    "    \"testmon\",\n",
    "    \"randomly\",\n",
    "    \"forked\"\n",
    "]\n",
    "\n",
    "def test(path=\"\"):\n",
    "    pytest.main([l for p in DISABLED_PLUGINS for l in (\"-p\", f\"no:{p}\")] + [\"-v\", \"-s\", path])\n",
    "    \n",
    "test(\"../metadsl_llvm/integration_test.py::test_add\")"
   ]
  },
  {
   "cell_type": "code",
   "execution_count": null,
   "metadata": {},
   "outputs": [],
   "source": []
  }
 ],
 "metadata": {
  "kernelspec": {
   "display_name": "Python 3",
   "language": "python",
   "name": "python3"
  },
  "language_info": {
   "codemirror_mode": {
    "name": "ipython",
    "version": 3
   },
   "file_extension": ".py",
   "mimetype": "text/x-python",
   "name": "python",
   "nbconvert_exporter": "python",
   "pygments_lexer": "ipython3",
   "version": "3.8.0"
  }
 },
 "nbformat": 4,
 "nbformat_minor": 4
}
