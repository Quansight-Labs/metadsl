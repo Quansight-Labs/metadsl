{
 "cells": [
  {
   "cell_type": "code",
   "execution_count": 1,
   "metadata": {},
   "outputs": [],
   "source": [
    "from metadsl import *\n",
    "from metadsl_core import *\n",
    "from metadsl_llvm.pure import *\n",
    "\n",
    "import metadsl_visualize\n",
    "\n",
    "import typez\n",
    "typez.SHOW_TYPES = False\n",
    "\n",
    "# Disable fixed point expansion temporarily\n",
    "run_post_rules(False)"
   ]
  },
  {
   "cell_type": "code",
   "execution_count": 2,
   "metadata": {},
   "outputs": [],
   "source": [
    "one = Integer.from_int(1)\n",
    "zero = Integer.from_int(0)"
   ]
  },
  {
   "cell_type": "code",
   "execution_count": 3,
   "metadata": {},
   "outputs": [
    {
     "data": {
      "application/json": {
       "nodes": {
        "-4878514640990746632": [
         "6",
         {
          "args": [
           "6252234403416070464",
           "7034127031391781130"
          ],
          "function": "Integer.__add__"
         }
        ],
        "-5446280538992097843": [
         "4",
         {
          "args": [
           "2324029380516624993",
           "6252234403416070464"
          ],
          "function": "Integer.__add__"
         }
        ],
        "-8767801111259464028": [
         "6",
         {
          "args": [
           "6252234403416070464",
           "4169170383122774536"
          ],
          "function": "Integer.__add__"
         }
        ],
        "2324029380516624993": [
         "4",
         {
          "args": [
           "8958813984668894000"
          ],
          "function": "Integer.from_int"
         }
        ],
        "3255606000141067117": [
         "6",
         {
          "args": [
           "6252234403416070464",
           "6252234403416070464"
          ],
          "function": "Integer.__add__"
         }
        ],
        "4169170383122774536": [
         "5",
         {
          "args": [
           "-5446280538992097843",
           "-5446280538992097843"
          ],
          "function": "Integer.__sub__"
         }
        ],
        "6252234403416070464": [
         "6",
         {
          "args": [
           "8958813984667811475"
          ],
          "function": "Integer.from_int"
         }
        ],
        "7034127031391781130": [
         "5",
         {
          "args": [
           "2324029380516624993",
           "2324029380516624993"
          ],
          "function": "Integer.__sub__"
         }
        ],
        "8958813984667811475": [
         "9",
         {
          "repr": "0",
          "type": "int"
         }
        ],
        "8958813984668894000": [
         "8",
         {
          "repr": "1",
          "type": "int"
         }
        ]
       },
       "states": {
        "initial": "-8767801111259464028",
        "states": [
         {
          "node": "-4878514640990746632",
          "rule": "metadsl_core.integer.integer_math"
         },
         {
          "node": "3255606000141067117",
          "rule": "metadsl_core.integer.integer_math"
         },
         {
          "node": "6252234403416070464",
          "rule": "metadsl_core.integer.integer_math"
         },
         {
          "label": "core",
          "node": "6252234403416070464",
          "rule": ""
         }
        ]
       }
      },
      "application/x.typez.graph+json": {
       "initial": "digraph {\n\tnode [shape=plain]\n\tedge [arrowsize=0.5 penwidth=0.5]\n\t-8767801111259464028 [label=\"Integer.__add__\" id=6]\n\t-8767801111259464028 -> 6252234403416070464 [id=\"6.args[0]\"]\n\t6252234403416070464 [label=\"Integer.from_int\" id=6]\n\t6252234403416070464 -> 8958813984667811475 [id=\"6.args[0]\"]\n\t8958813984667811475 [label=0 id=9]\n\t-8767801111259464028 -> 4169170383122774536 [id=\"6.args[1]\"]\n\t4169170383122774536 [label=\"Integer.__sub__\" id=5]\n\t4169170383122774536 -> -5446280538992097843 [id=\"5.args[0]\"]\n\t-5446280538992097843 [label=\"Integer.__add__\" id=4]\n\t-5446280538992097843 -> 2324029380516624993 [id=\"4.args[0]\"]\n\t2324029380516624993 [label=\"Integer.from_int\" id=4]\n\t2324029380516624993 -> 8958813984668894000 [id=\"4.args[0]\"]\n\t8958813984668894000 [label=1 id=8]\n\t-5446280538992097843 -> 6252234403416070464 [id=\"4.args[1]\"]\n\t4169170383122774536 -> -5446280538992097843 [id=\"5.args[1]\"]\n}",
       "states": [
        {
         "graph": "digraph {\n\tnode [shape=plain]\n\tedge [arrowsize=0.5 penwidth=0.5]\n\t-4878514640990746632 [label=\"Integer.__add__\" id=6]\n\t-4878514640990746632 -> 6252234403416070464 [id=\"6.args[0]\"]\n\t6252234403416070464 [label=\"Integer.from_int\" id=6]\n\t6252234403416070464 -> 8958813984667811475 [id=\"6.args[0]\"]\n\t8958813984667811475 [label=0 id=9]\n\t-4878514640990746632 -> 7034127031391781130 [id=\"6.args[1]\"]\n\t7034127031391781130 [label=\"Integer.__sub__\" id=5]\n\t7034127031391781130 -> 2324029380516624993 [id=\"5.args[0]\"]\n\t2324029380516624993 [label=\"Integer.from_int\" id=4]\n\t2324029380516624993 -> 8958813984668894000 [id=\"4.args[0]\"]\n\t8958813984668894000 [label=1 id=8]\n\t7034127031391781130 -> 2324029380516624993 [id=\"5.args[1]\"]\n}",
         "label": null,
         "rule": "metadsl_core.integer.integer_math"
        },
        {
         "graph": "digraph {\n\tnode [shape=plain]\n\tedge [arrowsize=0.5 penwidth=0.5]\n\t3255606000141067117 [label=\"Integer.__add__\" id=6]\n\t3255606000141067117 -> 6252234403416070464 [id=\"6.args[0]\"]\n\t6252234403416070464 [label=\"Integer.from_int\" id=6]\n\t6252234403416070464 -> 8958813984667811475 [id=\"6.args[0]\"]\n\t8958813984667811475 [label=0 id=9]\n\t3255606000141067117 -> 6252234403416070464 [id=\"6.args[1]\"]\n}",
         "label": null,
         "rule": "metadsl_core.integer.integer_math"
        },
        {
         "graph": "digraph {\n\tnode [shape=plain]\n\tedge [arrowsize=0.5 penwidth=0.5]\n\t6252234403416070464 [label=\"Integer.from_int\" id=6]\n\t6252234403416070464 -> 8958813984667811475 [id=\"6.args[0]\"]\n\t8958813984667811475 [label=0 id=9]\n}",
         "label": null,
         "rule": "metadsl_core.integer.integer_math"
        },
        {
         "graph": "digraph {\n\tnode [shape=plain]\n\tedge [arrowsize=0.5 penwidth=0.5]\n\t6252234403416070464 [label=\"Integer.from_int\" id=6]\n\t6252234403416070464 -> 8958813984667811475 [id=\"6.args[0]\"]\n\t8958813984667811475 [label=0 id=9]\n}",
         "label": "core",
         "rule": ""
        }
       ]
      },
      "text/plain": [
       "Typez(definitions=None, nodes={'8958813984667811475': ['9', PrimitiveNode(type='int', repr='0')], '6252234403416070464': ['6', CallNode(function='Integer.from_int', type_params=None, args=['8958813984667811475'], kwargs=None)], '8958813984668894000': ['8', PrimitiveNode(type='int', repr='1')], '2324029380516624993': ['4', CallNode(function='Integer.from_int', type_params=None, args=['8958813984668894000'], kwargs=None)], '-5446280538992097843': ['4', CallNode(function='Integer.__add__', type_params=None, args=['2324029380516624993', '6252234403416070464'], kwargs=None)], '4169170383122774536': ['5', CallNode(function='Integer.__sub__', type_params=None, args=['-5446280538992097843', '-5446280538992097843'], kwargs=None)], '-8767801111259464028': ['6', CallNode(function='Integer.__add__', type_params=None, args=['6252234403416070464', '4169170383122774536'], kwargs=None)], '7034127031391781130': ['5', CallNode(function='Integer.__sub__', type_params=None, args=['2324029380516624993', '2324029380516624993'], kwargs=None)], '-4878514640990746632': ['6', CallNode(function='Integer.__add__', type_params=None, args=['6252234403416070464', '7034127031391781130'], kwargs=None)], '3255606000141067117': ['6', CallNode(function='Integer.__add__', type_params=None, args=['6252234403416070464', '6252234403416070464'], kwargs=None)]}, states=States(initial='-8767801111259464028', states=[State(node='-4878514640990746632', rule='metadsl_core.integer.integer_math', label=None), State(node='3255606000141067117', rule='metadsl_core.integer.integer_math', label=None), State(node='6252234403416070464', rule='metadsl_core.integer.integer_math', label=None), State(node='6252234403416070464', rule='', label='core')]))"
      ]
     },
     "metadata": {},
     "output_type": "display_data"
    }
   ],
   "source": [
    "zero + ((one + zero) - (one + zero))"
   ]
  },
  {
   "cell_type": "code",
   "execution_count": 4,
   "metadata": {},
   "outputs": [
    {
     "data": {
      "application/json": {
       "nodes": {
        "-1086851982997915605": [
         "23",
         {
          "args": [
           "-1390319224234856313",
           "-7611029271073414541"
          ],
          "function": "Abstraction.create",
          "type_params": {
           "T": {
            "params": {
             "T": {
              "type": "Integer"
             },
             "U": {
              "params": {
               "T": {
                "type": "Integer"
               },
               "U": {
                "params": {
                 "T": {
                  "type": "Integer"
                 },
                 "U": {
                  "type": "Integer"
                 }
                },
                "type": "Abstraction"
               }
              },
              "type": "Abstraction"
             }
            },
            "type": "Abstraction"
           },
           "U": {
            "params": {
             "T": {
              "type": "Integer"
             },
             "U": {
              "params": {
               "T": {
                "type": "Integer"
               },
               "U": {
                "params": {
                 "T": {
                  "type": "Integer"
                 },
                 "U": {
                  "type": "Integer"
                 }
                },
                "type": "Abstraction"
               }
              },
              "type": "Abstraction"
             }
            },
            "type": "Abstraction"
           }
          }
         }
        ],
        "-1179216559442407107": [
         "7",
         {
          "args": [
           "-152929591850720212",
           "6322556590370627269"
          ],
          "function": "FunctionOne.create",
          "type_params": {
           "T": {
            "type": "Integer"
           },
           "U": {
            "type": "Integer"
           }
          }
         }
        ],
        "-1225281549528902280": [
         "46",
         {
          "args": [
           "373215527220529037",
           "2324029380516624993"
          ],
          "function": "Integer.eq"
         }
        ],
        "-1307991930381336899": [
         "12",
         {
          "args": [
           "7225057294054644668",
           "627958922987854448"
          ],
          "function": "Abstraction.create",
          "type_params": {
           "T": {
            "type": "Integer"
           },
           "U": {
            "type": "Integer"
           }
          }
         }
        ],
        "-1340134427290002658": [
         "45",
         {
          "args": [
           "4823499627323598079",
           "-3440912726818207677"
          ],
          "function": "Abstraction.__call__",
          "type_params": {
           "T": {
            "type": "Integer"
           },
           "U": {
            "type": "Integer"
           }
          }
         }
        ],
        "-1390319224234856313": [
         "26",
         {
          "args": [
           "7529033638517531155"
          ],
          "function": "Abstraction.create_variable",
          "type_params": {
           "T": {
            "params": {
             "T": {
              "type": "Integer"
             },
             "U": {
              "params": {
               "T": {
                "type": "Integer"
               },
               "U": {
                "params": {
                 "T": {
                  "type": "Integer"
                 },
                 "U": {
                  "type": "Integer"
                 }
                },
                "type": "Abstraction"
               }
              },
              "type": "Abstraction"
             }
            },
            "type": "Abstraction"
           },
           "U": {
            "params": {
             "T": {
              "type": "Integer"
             },
             "U": {
              "params": {
               "T": {
                "type": "Integer"
               },
               "U": {
                "params": {
                 "T": {
                  "type": "Integer"
                 },
                 "U": {
                  "type": "Integer"
                 }
                },
                "type": "Abstraction"
               }
              },
              "type": "Abstraction"
             }
            },
            "type": "Abstraction"
           }
          }
         }
        ],
        "-152929591850720212": [
         "10",
         {
          "repr": "'fib'",
          "type": "str"
         }
        ],
        "-1535261586339128617": [
         "4",
         {
          "args": [
           "3648180171099576616",
           "550774990052228171"
          ],
          "function": "Module.register_function_three"
         }
        ],
        "-1694333034442107528": [
         "37",
         {
          "repr": "Variable(4569474216)",
          "type": "Variable"
         }
        ],
        "-1748824064971166914": [
         "32",
         {
          "args": [
           "1826809318485214255"
          ],
          "function": "Abstraction.from_fn"
         }
        ],
        "-1785576690257838106": [
         "4",
         {
          "args": [
           "3648180171099576616",
           "-2895026332640526551"
          ],
          "function": "Module.register_function_three"
         }
        ],
        "-1837262976692906419": [
         "36",
         {
          "args": [
           "-4026156745362701453",
           "-7377875860345800818"
          ],
          "function": "Abstraction.create",
          "type_params": {
           "T": {
            "type": "Integer"
           },
           "U": {
            "type": "Integer"
           }
          }
         }
        ],
        "-2190316483644495516": [
         "8",
         {
          "args": [
           "-7582112663647777645",
           "-8468381326675022331"
          ],
          "function": "Module.register_function_one"
         }
        ],
        "-2425752213715075984": [
         "12",
         {
          "args": [
           "7225057294054644668",
           "8946457072410364648"
          ],
          "function": "Abstraction.create",
          "type_params": {
           "T": {
            "type": "Integer"
           },
           "U": {
            "type": "Integer"
           }
          }
         }
        ],
        "-2506733314811801667": [
         "5",
         {
          "args": [
           "-7723712405287337066"
          ],
          "function": "Pair.left",
          "type_params": {
           "T": {
            "type": "Module"
           },
           "U": {
            "params": {
             "T": {
              "type": "Integer"
             },
             "U": {
              "type": "Integer"
             },
             "V": {
              "type": "Integer"
             },
             "X": {
              "type": "Integer"
             }
            },
            "type": "RegisteredFunctionThree"
           }
          }
         }
        ],
        "-261869278614924129": [
         "15",
         {
          "args": [
           "-3803497085167891278"
          ],
          "function": "Pair.right",
          "type_params": {
           "T": {
            "type": "Module"
           },
           "U": {
            "params": {
             "T": {
              "type": "Integer"
             },
             "U": {
              "type": "Integer"
             },
             "V": {
              "type": "Integer"
             },
             "X": {
              "type": "Integer"
             }
            },
            "type": "RegisteredFunctionThree"
           }
          }
         }
        ],
        "-264283582861897233": [
         "2",
         {
          "repr": "<function fib_more at 0x1105bf0d0>",
          "type": "function"
         }
        ],
        "-2784150623800114973": [
         "20",
         {
          "args": [
           "2605085185839729897",
           "7225057294054644668",
           "6252234403416070464",
           "2324029380516624993"
          ],
          "function": "RegisteredFunctionThree.__call__",
          "type_params": {
           "T": {
            "type": "Integer"
           },
           "U": {
            "type": "Integer"
           },
           "V": {
            "type": "Integer"
           },
           "X": {
            "type": "Integer"
           }
          }
         }
        ],
        "-2869757300318600486": [
         "24",
         {
          "args": [
           "-8568194487643077313"
          ],
          "function": "Abstraction.fix"
         }
        ],
        "-2895026332640526551": [
         "3",
         {
          "args": [
           "8889008873117166537",
           "-2869757300318600486"
          ],
          "function": "FunctionThree.create",
          "type_params": {
           "T": {
            "type": "Integer"
           },
           "U": {
            "type": "Integer"
           },
           "V": {
            "type": "Integer"
           },
           "X": {
            "type": "Integer"
           }
          }
         }
        ],
        "-2922703863059947646": [
         "8",
         {
          "args": [
           "-7294681629162465275",
           "6759473082007332100"
          ],
          "function": "Module.register_function_one"
         }
        ],
        "-2938754627608559890": [
         "45",
         {
          "args": [
           "669362939417914167",
           "-9160890527699161279",
           "-4026156745362701453",
           "-3440912726818207677"
          ],
          "function": "FunctionThree.__call__",
          "type_params": {
           "T": {
            "type": "Integer"
           },
           "U": {
            "type": "Integer"
           },
           "V": {
            "type": "Integer"
           },
           "X": {
            "type": "Integer"
           }
          }
         }
        ],
        "-3090978463468084512": [
         "7",
         {
          "args": [
           "-152929591850720212",
           "3630712035543858351"
          ],
          "function": "FunctionOne.create",
          "type_params": {
           "T": {
            "type": "Integer"
           },
           "U": {
            "type": "Integer"
           }
          }
         }
        ],
        "-3108582552256618520": [
         "52",
         {
          "args": [
           "-1390319224234856313",
           "-9160890527699161279"
          ],
          "function": "Abstraction.__call__",
          "type_params": {
           "T": {
            "type": "Integer"
           },
           "U": {
            "params": {
             "T": {
              "type": "Integer"
             },
             "U": {
              "params": {
               "T": {
                "type": "Integer"
               },
               "U": {
                "type": "Integer"
               }
              },
              "type": "Abstraction"
             }
            },
            "type": "Abstraction"
           }
          }
         }
        ],
        "-315543480359228085": [
         "15",
         {
          "args": [
           "6306451704246019899"
          ],
          "function": "Pair.right",
          "type_params": {
           "T": {
            "type": "Module"
           },
           "U": {
            "params": {
             "T": {
              "type": "Integer"
             },
             "U": {
              "type": "Integer"
             },
             "V": {
              "type": "Integer"
             },
             "X": {
              "type": "Integer"
             }
            },
            "type": "RegisteredFunctionThree"
           }
          }
         }
        ],
        "-3229391614538081899": [
         "3",
         {
          "args": [
           "8889008873117166537",
           "-7594750696473561792"
          ],
          "function": "FunctionThree.create",
          "type_params": {
           "T": {
            "type": "Integer"
           },
           "U": {
            "type": "Integer"
           },
           "V": {
            "type": "Integer"
           },
           "X": {
            "type": "Integer"
           }
          }
         }
        ],
        "-3440912726818207677": [
         "54",
         {
          "args": [
           "4776563505591080410",
           "-4026156745362701453"
          ],
          "function": "Integer.__add__"
         }
        ],
        "-3452699470144248868": [
         "32",
         {
          "args": [
           "4776563505591080410",
           "4384831319452064078"
          ],
          "function": "Abstraction.create",
          "type_params": {
           "T": {
            "type": "Integer"
           },
           "U": {
            "params": {
             "T": {
              "type": "Integer"
             },
             "U": {
              "type": "Integer"
             }
            },
            "type": "Abstraction"
           }
          }
         }
        ],
        "-3575020684625926765": [
         "53",
         {
          "args": [
           "-6656922454773741347",
           "-4026156745362701453"
          ],
          "function": "Abstraction.__call__",
          "type_params": {
           "T": {
            "type": "Integer"
           },
           "U": {
            "params": {
             "T": {
              "type": "Integer"
             },
             "U": {
              "type": "Integer"
             }
            },
            "type": "Abstraction"
           }
          }
         }
        ],
        "-3589695083090533783": [
         "20",
         {
          "args": [
           "3729616403031677571",
           "7225057294054644668",
           "6252234403416070464",
           "2324029380516624993"
          ],
          "function": "RegisteredFunctionThree.__call__",
          "type_params": {
           "T": {
            "type": "Integer"
           },
           "U": {
            "type": "Integer"
           },
           "V": {
            "type": "Integer"
           },
           "X": {
            "type": "Integer"
           }
          }
         }
        ],
        "-3670431217617719914": [
         "4",
         {
          "args": [
           "3648180171099576616",
           "5360670798904346998"
          ],
          "function": "Module.register_function_three"
         }
        ],
        "-3803497085167891278": [
         "4",
         {
          "args": [
           "3648180171099576616",
           "-3229391614538081899"
          ],
          "function": "Module.register_function_three"
         }
        ],
        "-4026156745362701453": [
         "38",
         {
          "args": [
           "-1694333034442107528"
          ],
          "function": "Abstraction.create_variable",
          "type_params": {
           "T": {
            "type": "Integer"
           },
           "U": {
            "type": "Integer"
           }
          }
         }
        ],
        "-414860657600437410": [
         "8",
         {
          "args": [
           "1677395441522877198",
           "-6248493051619200096"
          ],
          "function": "Module.register_function_one"
         }
        ],
        "-4781116979660372459": [
         "8",
         {
          "args": [
           "-2506733314811801667",
           "6622009004168496831"
          ],
          "function": "Module.register_function_one"
         }
        ],
        "-4877263104295360462": [
         "28",
         {
          "args": [
           "373215527220529037",
           "-937644793028655805"
          ],
          "function": "Abstraction.create",
          "type_params": {
           "T": {
            "type": "Integer"
           },
           "U": {
            "params": {
             "T": {
              "type": "Integer"
             },
             "U": {
              "params": {
               "T": {
                "type": "Integer"
               },
               "U": {
                "type": "Integer"
               }
              },
              "type": "Abstraction"
             }
            },
            "type": "Abstraction"
           }
          }
         }
        ],
        "-4958589695522401741": [
         "3",
         {
          "args": [
           "8889008873117166537",
           "-799453865131163509"
          ],
          "function": "FunctionThree.create",
          "type_params": {
           "T": {
            "type": "Integer"
           },
           "U": {
            "type": "Integer"
           },
           "V": {
            "type": "Integer"
           },
           "X": {
            "type": "Integer"
           }
          }
         }
        ],
        "-4997399667303108816": [
         "23",
         {
          "args": [
           "-1390319224234856313",
           "8260787455101400718"
          ],
          "function": "Abstraction.create",
          "type_params": {
           "T": {
            "params": {
             "T": {
              "type": "Integer"
             },
             "U": {
              "params": {
               "T": {
                "type": "Integer"
               },
               "U": {
                "params": {
                 "T": {
                  "type": "Integer"
                 },
                 "U": {
                  "type": "Integer"
                 }
                },
                "type": "Abstraction"
               }
              },
              "type": "Abstraction"
             }
            },
            "type": "Abstraction"
           },
           "U": {
            "params": {
             "T": {
              "type": "Integer"
             },
             "U": {
              "params": {
               "T": {
                "type": "Integer"
               },
               "U": {
                "params": {
                 "T": {
                  "type": "Integer"
                 },
                 "U": {
                  "type": "Integer"
                 }
                },
                "type": "Abstraction"
               }
              },
              "type": "Abstraction"
             }
            },
            "type": "Abstraction"
           }
          }
         }
        ],
        "-5161831499569901257": [
         "7",
         {
          "args": [
           "-152929591850720212",
           "-6721234090305836585"
          ],
          "function": "FunctionOne.create",
          "type_params": {
           "T": {
            "type": "Integer"
           },
           "U": {
            "type": "Integer"
           }
          }
         }
        ],
        "-5495488599216863335": [
         "23",
         {
          "args": [
           "-1390319224234856313",
           "-7037911870691272259"
          ],
          "function": "Abstraction.create",
          "type_params": {
           "T": {
            "params": {
             "T": {
              "type": "Integer"
             },
             "U": {
              "params": {
               "T": {
                "type": "Integer"
               },
               "U": {
                "params": {
                 "T": {
                  "type": "Integer"
                 },
                 "U": {
                  "type": "Integer"
                 }
                },
                "type": "Abstraction"
               }
              },
              "type": "Abstraction"
             }
            },
            "type": "Abstraction"
           },
           "U": {
            "params": {
             "T": {
              "type": "Integer"
             },
             "U": {
              "params": {
               "T": {
                "type": "Integer"
               },
               "U": {
                "params": {
                 "T": {
                  "type": "Integer"
                 },
                 "U": {
                  "type": "Integer"
                 }
                },
                "type": "Abstraction"
               }
              },
              "type": "Abstraction"
             }
            },
            "type": "Abstraction"
           }
          }
         }
        ],
        "-5574475494398965013": [
         "23",
         {
          "args": [
           "-1390319224234856313",
           "-4877263104295360462"
          ],
          "function": "Abstraction.create",
          "type_params": {
           "T": {
            "params": {
             "T": {
              "type": "Integer"
             },
             "U": {
              "params": {
               "T": {
                "type": "Integer"
               },
               "U": {
                "params": {
                 "T": {
                  "type": "Integer"
                 },
                 "U": {
                  "type": "Integer"
                 }
                },
                "type": "Abstraction"
               }
              },
              "type": "Abstraction"
             }
            },
            "type": "Abstraction"
           },
           "U": {
            "params": {
             "T": {
              "type": "Integer"
             },
             "U": {
              "params": {
               "T": {
                "type": "Integer"
               },
               "U": {
                "params": {
                 "T": {
                  "type": "Integer"
                 },
                 "U": {
                  "type": "Integer"
                 }
                },
                "type": "Abstraction"
               }
              },
              "type": "Abstraction"
             }
            },
            "type": "Abstraction"
           }
          }
         }
        ],
        "-5746582986690185907": [
         "15",
         {
          "args": [
           "6826830606528086889"
          ],
          "function": "Pair.right",
          "type_params": {
           "T": {
            "type": "Module"
           },
           "U": {
            "params": {
             "T": {
              "type": "Integer"
             },
             "U": {
              "type": "Integer"
             },
             "V": {
              "type": "Integer"
             },
             "X": {
              "type": "Integer"
             }
            },
            "type": "RegisteredFunctionThree"
           }
          }
         }
        ],
        "-5946390884222548027": [
         "47",
         {
          "args": [
           "-1225281549528902280",
           "-4026156745362701453",
           "4776563505591080410"
          ],
          "function": "Boolean.if_"
         }
        ],
        "-6248107118729238257": [
         "48",
         {
          "args": [
           "6168396556631660139",
           "-1340134427290002658",
           "-5946390884222548027"
          ],
          "function": "Boolean.if_"
         }
        ],
        "-6248493051619200096": [
         "7",
         {
          "args": [
           "-152929591850720212",
           "6139284224772792814"
          ],
          "function": "FunctionOne.create",
          "type_params": {
           "T": {
            "type": "Integer"
           },
           "U": {
            "type": "Integer"
           }
          }
         }
        ],
        "-6254304525192101144": [
         "20",
         {
          "args": [
           "-5746582986690185907",
           "7225057294054644668",
           "6252234403416070464",
           "2324029380516624993"
          ],
          "function": "RegisteredFunctionThree.__call__",
          "type_params": {
           "T": {
            "type": "Integer"
           },
           "U": {
            "type": "Integer"
           },
           "V": {
            "type": "Integer"
           },
           "X": {
            "type": "Integer"
           }
          }
         }
        ],
        "-6273475886887103596": [
         "20",
         {
          "args": [
           "-261869278614924129",
           "7225057294054644668",
           "6252234403416070464",
           "2324029380516624993"
          ],
          "function": "RegisteredFunctionThree.__call__",
          "type_params": {
           "T": {
            "type": "Integer"
           },
           "U": {
            "type": "Integer"
           },
           "V": {
            "type": "Integer"
           },
           "X": {
            "type": "Integer"
           }
          }
         }
        ],
        "-6390311065112076907": [
         "15",
         {
          "args": [
           "-7723712405287337066"
          ],
          "function": "Pair.right",
          "type_params": {
           "T": {
            "type": "Module"
           },
           "U": {
            "params": {
             "T": {
              "type": "Integer"
             },
             "U": {
              "type": "Integer"
             },
             "V": {
              "type": "Integer"
             },
             "X": {
              "type": "Integer"
             }
            },
            "type": "RegisteredFunctionThree"
           }
          }
         }
        ],
        "-6446468764879701815": [
         "45",
         {
          "args": [
           "-3575020684625926765",
           "-3440912726818207677"
          ],
          "function": "Abstraction.__call__",
          "type_params": {
           "T": {
            "type": "Integer"
           },
           "U": {
            "type": "Integer"
           }
          }
         }
        ],
        "-6656922454773741347": [
         "52",
         {
          "args": [
           "3619814969167094621",
           "-9160890527699161279"
          ],
          "function": "Abstraction.__call__",
          "type_params": {
           "T": {
            "type": "Integer"
           },
           "U": {
            "params": {
             "T": {
              "type": "Integer"
             },
             "U": {
              "params": {
               "T": {
                "type": "Integer"
               },
               "U": {
                "type": "Integer"
               }
              },
              "type": "Abstraction"
             }
            },
            "type": "Abstraction"
           }
          }
         }
        ],
        "-6721234090305836585": [
         "12",
         {
          "args": [
           "7225057294054644668",
           "-6273475886887103596"
          ],
          "function": "Abstraction.create",
          "type_params": {
           "T": {
            "type": "Integer"
           },
           "U": {
            "type": "Integer"
           }
          }
         }
        ],
        "-6784924768096466978": [
         "4",
         {
          "args": [
           "3648180171099576616",
           "3304149103672326159"
          ],
          "function": "Module.register_function_three"
         }
        ],
        "-7037911870691272259": [
         "28",
         {
          "args": [
           "373215527220529037",
           "-1748824064971166914"
          ],
          "function": "Abstraction.create",
          "type_params": {
           "T": {
            "type": "Integer"
           },
           "U": {
            "params": {
             "T": {
              "type": "Integer"
             },
             "U": {
              "params": {
               "T": {
                "type": "Integer"
               },
               "U": {
                "type": "Integer"
               }
              },
              "type": "Abstraction"
             }
            },
            "type": "Abstraction"
           }
          }
         }
        ],
        "-7269360032246621641": [
         "23",
         {
          "args": [
           "-1390319224234856313",
           "476398851817032164"
          ],
          "function": "Abstraction.create",
          "type_params": {
           "T": {
            "params": {
             "T": {
              "type": "Integer"
             },
             "U": {
              "params": {
               "T": {
                "type": "Integer"
               },
               "U": {
                "params": {
                 "T": {
                  "type": "Integer"
                 },
                 "U": {
                  "type": "Integer"
                 }
                },
                "type": "Abstraction"
               }
              },
              "type": "Abstraction"
             }
            },
            "type": "Abstraction"
           },
           "U": {
            "params": {
             "T": {
              "type": "Integer"
             },
             "U": {
              "params": {
               "T": {
                "type": "Integer"
               },
               "U": {
                "params": {
                 "T": {
                  "type": "Integer"
                 },
                 "U": {
                  "type": "Integer"
                 }
                },
                "type": "Abstraction"
               }
              },
              "type": "Abstraction"
             }
            },
            "type": "Abstraction"
           }
          }
         }
        ],
        "-7284255441316731368": [
         "48",
         {
          "args": [
           "6168396556631660139",
           "-2938754627608559890",
           "-5946390884222548027"
          ],
          "function": "Boolean.if_"
         }
        ],
        "-7294681629162465275": [
         "5",
         {
          "args": [
           "6826830606528086889"
          ],
          "function": "Pair.left",
          "type_params": {
           "T": {
            "type": "Module"
           },
           "U": {
            "params": {
             "T": {
              "type": "Integer"
             },
             "U": {
              "type": "Integer"
             },
             "V": {
              "type": "Integer"
             },
             "X": {
              "type": "Integer"
             }
            },
            "type": "RegisteredFunctionThree"
           }
          }
         }
        ],
        "-7377875860345800818": [
         "48",
         {
          "args": [
           "6168396556631660139",
           "-6446468764879701815",
           "-5946390884222548027"
          ],
          "function": "Boolean.if_"
         }
        ],
        "-7428108612840939685": [
         "5",
         {
          "args": [
           "-3670431217617719914"
          ],
          "function": "Pair.left",
          "type_params": {
           "T": {
            "type": "Module"
           },
           "U": {
            "params": {
             "T": {
              "type": "Integer"
             },
             "U": {
              "type": "Integer"
             },
             "V": {
              "type": "Integer"
             },
             "X": {
              "type": "Integer"
             }
            },
            "type": "RegisteredFunctionThree"
           }
          }
         }
        ],
        "-7582112663647777645": [
         "5",
         {
          "args": [
           "6306451704246019899"
          ],
          "function": "Pair.left",
          "type_params": {
           "T": {
            "type": "Module"
           },
           "U": {
            "params": {
             "T": {
              "type": "Integer"
             },
             "U": {
              "type": "Integer"
             },
             "V": {
              "type": "Integer"
             },
             "X": {
              "type": "Integer"
             }
            },
            "type": "RegisteredFunctionThree"
           }
          }
         }
        ],
        "-7594750696473561792": [
         "24",
         {
          "args": [
           "-4997399667303108816"
          ],
          "function": "Abstraction.fix"
         }
        ],
        "-7611029271073414541": [
         "28",
         {
          "args": [
           "373215527220529037",
           "1531054781655600976"
          ],
          "function": "Abstraction.create",
          "type_params": {
           "T": {
            "type": "Integer"
           },
           "U": {
            "params": {
             "T": {
              "type": "Integer"
             },
             "U": {
              "params": {
               "T": {
                "type": "Integer"
               },
               "U": {
                "type": "Integer"
               }
              },
              "type": "Abstraction"
             }
            },
            "type": "Abstraction"
           }
          }
         }
        ],
        "-7723712405287337066": [
         "4",
         {
          "args": [
           "3648180171099576616",
           "4769008740378661750"
          ],
          "function": "Module.register_function_three"
         }
        ],
        "-7868986453542138382": [
         "3",
         {
          "args": [
           "8889008873117166537",
           "8686367750381438437"
          ],
          "function": "FunctionThree.create",
          "type_params": {
           "T": {
            "type": "Integer"
           },
           "U": {
            "type": "Integer"
           },
           "V": {
            "type": "Integer"
           },
           "X": {
            "type": "Integer"
           }
          }
         }
        ],
        "-799453865131163509": [
         "24",
         {
          "args": [
           "-5574475494398965013"
          ],
          "function": "Abstraction.fix"
         }
        ],
        "-844773804410018563": [
         "12",
         {
          "args": [
           "7225057294054644668",
           "5272650496528953134"
          ],
          "function": "Abstraction.create",
          "type_params": {
           "T": {
            "type": "Integer"
           },
           "U": {
            "type": "Integer"
           }
          }
         }
        ],
        "-8468381326675022331": [
         "7",
         {
          "args": [
           "-152929591850720212",
           "-2425752213715075984"
          ],
          "function": "FunctionOne.create",
          "type_params": {
           "T": {
            "type": "Integer"
           },
           "U": {
            "type": "Integer"
           }
          }
         }
        ],
        "-8547702612516438766": [
         "24",
         {
          "args": [
           "-7269360032246621641"
          ],
          "function": "Abstraction.fix"
         }
        ],
        "-8568194487643077313": [
         "23",
         {
          "args": [
           "-1390319224234856313",
           "4810958335469189930"
          ],
          "function": "Abstraction.create",
          "type_params": {
           "T": {
            "params": {
             "T": {
              "type": "Integer"
             },
             "U": {
              "params": {
               "T": {
                "type": "Integer"
               },
               "U": {
                "params": {
                 "T": {
                  "type": "Integer"
                 },
                 "U": {
                  "type": "Integer"
                 }
                },
                "type": "Abstraction"
               }
              },
              "type": "Abstraction"
             }
            },
            "type": "Abstraction"
           },
           "U": {
            "params": {
             "T": {
              "type": "Integer"
             },
             "U": {
              "params": {
               "T": {
                "type": "Integer"
               },
               "U": {
                "params": {
                 "T": {
                  "type": "Integer"
                 },
                 "U": {
                  "type": "Integer"
                 }
                },
                "type": "Abstraction"
               }
              },
              "type": "Abstraction"
             }
            },
            "type": "Abstraction"
           }
          }
         }
        ],
        "-9160890527699161279": [
         "51",
         {
          "args": [
           "373215527220529037",
           "2324029380516624993"
          ],
          "function": "Integer.__sub__"
         }
        ],
        "-937644793028655805": [
         "32",
         {
          "args": [
           "4776563505591080410",
           "7685601962802009075"
          ],
          "function": "Abstraction.create",
          "type_params": {
           "T": {
            "type": "Integer"
           },
           "U": {
            "params": {
             "T": {
              "type": "Integer"
             },
             "U": {
              "type": "Integer"
             }
            },
            "type": "Abstraction"
           }
          }
         }
        ],
        "1531054781655600976": [
         "32",
         {
          "args": [
           "4776563505591080410",
           "591707745475350603"
          ],
          "function": "Abstraction.create",
          "type_params": {
           "T": {
            "type": "Integer"
           },
           "U": {
            "params": {
             "T": {
              "type": "Integer"
             },
             "U": {
              "type": "Integer"
             }
            },
            "type": "Abstraction"
           }
          }
         }
        ],
        "1677395441522877198": [
         "5",
         {
          "args": [
           "-6784924768096466978"
          ],
          "function": "Pair.left",
          "type_params": {
           "T": {
            "type": "Module"
           },
           "U": {
            "params": {
             "T": {
              "type": "Integer"
             },
             "U": {
              "type": "Integer"
             },
             "V": {
              "type": "Integer"
             },
             "X": {
              "type": "Integer"
             }
            },
            "type": "RegisteredFunctionThree"
           }
          }
         }
        ],
        "1826809318485214255": [
         "31",
         {
          "repr": "FunctionReplaceTyping(fn=<function FunctionThree.from_fn_recursive.<locals>.inner.<locals>.inner.<locals>.inner at 0x10b973bf8>, typevars={~V: <class 'metadsl_core.integer.Integer'>, ~U: <class 'metadsl_core.integer.Integer'>, ~T: <class 'metadsl_core.integer.Integer'>, ~X: <class 'metadsl_core.integer.Integer'>}, typevars_in_scope={~U, ~T, ~V, ~X})",
          "type": "FunctionReplaceTyping"
         }
        ],
        "1826809319247311855": [
         "22",
         {
          "repr": "FunctionReplaceTyping(fn=<function FunctionThree.from_fn_recursive.<locals>.inner at 0x110587ea0>, typevars={~V: <class 'metadsl_core.integer.Integer'>, ~U: <class 'metadsl_core.integer.Integer'>, ~T: <class 'metadsl_core.integer.Integer'>, ~X: <class 'metadsl_core.integer.Integer'>}, typevars_in_scope={~U, ~T, ~V, ~X})",
          "type": "FunctionReplaceTyping"
         }
        ],
        "1826809484397325855": [
         "27",
         {
          "repr": "FunctionReplaceTyping(fn=<function FunctionThree.from_fn_recursive.<locals>.inner.<locals>.inner at 0x1105878c8>, typevars={~V: <class 'metadsl_core.integer.Integer'>, ~U: <class 'metadsl_core.integer.Integer'>, ~T: <class 'metadsl_core.integer.Integer'>, ~X: <class 'metadsl_core.integer.Integer'>}, typevars_in_scope={~U, ~T, ~V, ~X})",
          "type": "FunctionReplaceTyping"
         }
        ],
        "1826809485297986655": [
         "35",
         {
          "repr": "FunctionReplaceTyping(fn=<function FunctionThree.from_fn_recursive.<locals>.inner.<locals>.inner.<locals>.inner.<locals>.inner at 0x10b973b70>, typevars={~V: <class 'metadsl_core.integer.Integer'>, ~U: <class 'metadsl_core.integer.Integer'>, ~T: <class 'metadsl_core.integer.Integer'>, ~X: <class 'metadsl_core.integer.Integer'>}, typevars_in_scope={~U, ~T, ~V, ~X})",
          "type": "FunctionReplaceTyping"
         }
        ],
        "2225755738139318763": [
         "8",
         {
          "args": [
           "-2506733314811801667",
           "-3090978463468084512"
          ],
          "function": "Module.register_function_one"
         }
        ],
        "2313083977819939084": [
         "5",
         {
          "args": [
           "-1785576690257838106"
          ],
          "function": "Pair.left",
          "type_params": {
           "T": {
            "type": "Module"
           },
           "U": {
            "params": {
             "T": {
              "type": "Integer"
             },
             "U": {
              "type": "Integer"
             },
             "V": {
              "type": "Integer"
             },
             "X": {
              "type": "Integer"
             }
            },
            "type": "RegisteredFunctionThree"
           }
          }
         }
        ],
        "2324029380516624993": [
         "40",
         {
          "args": [
           "8958813984668894000"
          ],
          "function": "Integer.from_int"
         }
        ],
        "2396026869258155825": [
         "5",
         {
          "args": [
           "-1535261586339128617"
          ],
          "function": "Pair.left",
          "type_params": {
           "T": {
            "type": "Module"
           },
           "U": {
            "params": {
             "T": {
              "type": "Integer"
             },
             "U": {
              "type": "Integer"
             },
             "V": {
              "type": "Integer"
             },
             "X": {
              "type": "Integer"
             }
            },
            "type": "RegisteredFunctionThree"
           }
          }
         }
        ],
        "2605085185839729897": [
         "15",
         {
          "args": [
           "-1535261586339128617"
          ],
          "function": "Pair.right",
          "type_params": {
           "T": {
            "type": "Module"
           },
           "U": {
            "params": {
             "T": {
              "type": "Integer"
             },
             "U": {
              "type": "Integer"
             },
             "V": {
              "type": "Integer"
             },
             "X": {
              "type": "Integer"
             }
            },
            "type": "RegisteredFunctionThree"
           }
          }
         }
        ],
        "2721853500071086443": [
         "12",
         {
          "args": [
           "7225057294054644668",
           "-6254304525192101144"
          ],
          "function": "Abstraction.create",
          "type_params": {
           "T": {
            "type": "Integer"
           },
           "U": {
            "type": "Integer"
           }
          }
         }
        ],
        "3063240454349127956": [
         "15",
         {
          "args": [
           "-1785576690257838106"
          ],
          "function": "Pair.right",
          "type_params": {
           "T": {
            "type": "Module"
           },
           "U": {
            "params": {
             "T": {
              "type": "Integer"
             },
             "U": {
              "type": "Integer"
             },
             "V": {
              "type": "Integer"
             },
             "X": {
              "type": "Integer"
             }
            },
            "type": "RegisteredFunctionThree"
           }
          }
         }
        ],
        "31629494541935557": [
         "8",
         {
          "args": [
           "-7428108612840939685",
           "-1179216559442407107"
          ],
          "function": "Module.register_function_one"
         }
        ],
        "3304149103672326159": [
         "3",
         {
          "args": [
           "8889008873117166537",
           "-8547702612516438766"
          ],
          "function": "FunctionThree.create",
          "type_params": {
           "T": {
            "type": "Integer"
           },
           "U": {
            "type": "Integer"
           },
           "V": {
            "type": "Integer"
           },
           "X": {
            "type": "Integer"
           }
          }
         }
        ],
        "3456763755303611590": [
         "7",
         {
          "args": [
           "-152929591850720212",
           "7744299883531923367"
          ],
          "function": "FunctionOne.create",
          "type_params": {
           "T": {
            "type": "Integer"
           },
           "U": {
            "type": "Integer"
           }
          }
         }
        ],
        "3619814969167094621": [
         "50",
         {
          "args": [
           "669362939417914167"
          ],
          "function": "FunctionThree.abstraction",
          "type_params": {
           "T": {
            "type": "Integer"
           },
           "U": {
            "type": "Integer"
           },
           "V": {
            "type": "Integer"
           },
           "X": {
            "type": "Integer"
           }
          }
         }
        ],
        "3630712035543858351": [
         "12",
         {
          "args": [
           "8959088453871635775"
          ],
          "function": "Abstraction.from_fn"
         }
        ],
        "3648180171099576616": [
         "1",
         {
          "args": [
           "3739358493955255257"
          ],
          "function": "Module.create"
         }
        ],
        "3729616403031677571": [
         "15",
         {
          "args": [
           "-3670431217617719914"
          ],
          "function": "Pair.right",
          "type_params": {
           "T": {
            "type": "Module"
           },
           "U": {
            "params": {
             "T": {
              "type": "Integer"
             },
             "U": {
              "type": "Integer"
             },
             "V": {
              "type": "Integer"
             },
             "X": {
              "type": "Integer"
             }
            },
            "type": "RegisteredFunctionThree"
           }
          }
         }
        ],
        "373215527220529037": [
         "30",
         {
          "args": [
           "7529039014869283455"
          ],
          "function": "Abstraction.create_variable",
          "type_params": {
           "T": {
            "type": "Integer"
           },
           "U": {
            "params": {
             "T": {
              "type": "Integer"
             },
             "U": {
              "params": {
               "T": {
                "type": "Integer"
               },
               "U": {
                "type": "Integer"
               }
              },
              "type": "Abstraction"
             }
            },
            "type": "Abstraction"
           }
          }
         }
        ],
        "3739358493955255257": [
         "9",
         {
          "repr": "'Main'",
          "type": "str"
         }
        ],
        "3994268840618502551": [
         "5",
         {
          "args": [
           "-3803497085167891278"
          ],
          "function": "Pair.left",
          "type_params": {
           "T": {
            "type": "Module"
           },
           "U": {
            "params": {
             "T": {
              "type": "Integer"
             },
             "U": {
              "type": "Integer"
             },
             "V": {
              "type": "Integer"
             },
             "X": {
              "type": "Integer"
             }
            },
            "type": "RegisteredFunctionThree"
           }
          }
         }
        ],
        "4384831319452064078": [
         "36",
         {
          "args": [
           "1826809485297986655"
          ],
          "function": "Abstraction.from_fn"
         }
        ],
        "456147733168676208": [
         "8",
         {
          "args": [
           "2313083977819939084",
           "5859044924469247871"
          ],
          "function": "Module.register_function_one"
         }
        ],
        "476398851817032164": [
         "28",
         {
          "args": [
           "373215527220529037",
           "7135552366343267974"
          ],
          "function": "Abstraction.create",
          "type_params": {
           "T": {
            "type": "Integer"
           },
           "U": {
            "params": {
             "T": {
              "type": "Integer"
             },
             "U": {
              "params": {
               "T": {
                "type": "Integer"
               },
               "U": {
                "type": "Integer"
               }
              },
              "type": "Abstraction"
             }
            },
            "type": "Abstraction"
           }
          }
         }
        ],
        "4769008740378661750": [
         "3",
         {
          "args": [
           "-264283582861897233"
          ],
          "function": "FunctionThree.from_fn_recursive"
         }
        ],
        "4776563505591080410": [
         "34",
         {
          "args": [
           "7529039006633433255"
          ],
          "function": "Abstraction.create_variable",
          "type_params": {
           "T": {
            "type": "Integer"
           },
           "U": {
            "params": {
             "T": {
              "type": "Integer"
             },
             "U": {
              "type": "Integer"
             }
            },
            "type": "Abstraction"
           }
          }
         }
        ],
        "4810958335469189930": [
         "28",
         {
          "args": [
           "373215527220529037",
           "-3452699470144248868"
          ],
          "function": "Abstraction.create",
          "type_params": {
           "T": {
            "type": "Integer"
           },
           "U": {
            "params": {
             "T": {
              "type": "Integer"
             },
             "U": {
              "params": {
               "T": {
                "type": "Integer"
               },
               "U": {
                "type": "Integer"
               }
              },
              "type": "Abstraction"
             }
            },
            "type": "Abstraction"
           }
          }
         }
        ],
        "4823499627323598079": [
         "53",
         {
          "args": [
           "-3108582552256618520",
           "-4026156745362701453"
          ],
          "function": "Abstraction.__call__",
          "type_params": {
           "T": {
            "type": "Integer"
           },
           "U": {
            "params": {
             "T": {
              "type": "Integer"
             },
             "U": {
              "type": "Integer"
             }
            },
            "type": "Abstraction"
           }
          }
         }
        ],
        "5272650496528953134": [
         "20",
         {
          "args": [
           "3063240454349127956",
           "7225057294054644668",
           "6252234403416070464",
           "2324029380516624993"
          ],
          "function": "RegisteredFunctionThree.__call__",
          "type_params": {
           "T": {
            "type": "Integer"
           },
           "U": {
            "type": "Integer"
           },
           "V": {
            "type": "Integer"
           },
           "X": {
            "type": "Integer"
           }
          }
         }
        ],
        "5360670798904346998": [
         "3",
         {
          "args": [
           "8889008873117166537",
           "7343235409108112081"
          ],
          "function": "FunctionThree.create",
          "type_params": {
           "T": {
            "type": "Integer"
           },
           "U": {
            "type": "Integer"
           },
           "V": {
            "type": "Integer"
           },
           "X": {
            "type": "Integer"
           }
          }
         }
        ],
        "550774990052228171": [
         "3",
         {
          "args": [
           "8889008873117166537",
           "8971409290396777648"
          ],
          "function": "FunctionThree.create",
          "type_params": {
           "T": {
            "type": "Integer"
           },
           "U": {
            "type": "Integer"
           },
           "V": {
            "type": "Integer"
           },
           "X": {
            "type": "Integer"
           }
          }
         }
        ],
        "5859044924469247871": [
         "7",
         {
          "args": [
           "-152929591850720212",
           "-844773804410018563"
          ],
          "function": "FunctionOne.create",
          "type_params": {
           "T": {
            "type": "Integer"
           },
           "U": {
            "type": "Integer"
           }
          }
         }
        ],
        "591707745475350603": [
         "36",
         {
          "args": [
           "-4026156745362701453",
           "-6248107118729238257"
          ],
          "function": "Abstraction.create",
          "type_params": {
           "T": {
            "type": "Integer"
           },
           "U": {
            "type": "Integer"
           }
          }
         }
        ],
        "6139284224772792814": [
         "12",
         {
          "args": [
           "7225057294054644668",
           "6873265126864484695"
          ],
          "function": "Abstraction.create",
          "type_params": {
           "T": {
            "type": "Integer"
           },
           "U": {
            "type": "Integer"
           }
          }
         }
        ],
        "6168396556631660139": [
         "41",
         {
          "args": [
           "373215527220529037",
           "2324029380516624993"
          ],
          "function": "Integer.__gt__"
         }
        ],
        "6252234403416070464": [
         "17",
         {
          "args": [
           "8958813984667811475"
          ],
          "function": "Integer.from_int"
         }
        ],
        "627958922987854448": [
         "20",
         {
          "args": [
           "-6390311065112076907",
           "7225057294054644668",
           "6252234403416070464",
           "2324029380516624993"
          ],
          "function": "RegisteredFunctionThree.__call__",
          "type_params": {
           "T": {
            "type": "Integer"
           },
           "U": {
            "type": "Integer"
           },
           "V": {
            "type": "Integer"
           },
           "X": {
            "type": "Integer"
           }
          }
         }
        ],
        "6306451704246019899": [
         "4",
         {
          "args": [
           "3648180171099576616",
           "-7868986453542138382"
          ],
          "function": "Module.register_function_three"
         }
        ],
        "6322556590370627269": [
         "12",
         {
          "args": [
           "7225057294054644668",
           "-3589695083090533783"
          ],
          "function": "Abstraction.create",
          "type_params": {
           "T": {
            "type": "Integer"
           },
           "U": {
            "type": "Integer"
           }
          }
         }
        ],
        "6622009004168496831": [
         "7",
         {
          "args": [
           "-152929591850720212",
           "-1307991930381336899"
          ],
          "function": "FunctionOne.create",
          "type_params": {
           "T": {
            "type": "Integer"
           },
           "U": {
            "type": "Integer"
           }
          }
         }
        ],
        "669362939417914167": [
         "49",
         {
          "args": [
           "8889008873117166537",
           "-1390319224234856313"
          ],
          "function": "FunctionThree.create",
          "type_params": {
           "T": {
            "type": "Integer"
           },
           "U": {
            "type": "Integer"
           },
           "V": {
            "type": "Integer"
           },
           "X": {
            "type": "Integer"
           }
          }
         }
        ],
        "6759473082007332100": [
         "7",
         {
          "args": [
           "-152929591850720212",
           "2721853500071086443"
          ],
          "function": "FunctionOne.create",
          "type_params": {
           "T": {
            "type": "Integer"
           },
           "U": {
            "type": "Integer"
           }
          }
         }
        ],
        "6826830606528086889": [
         "4",
         {
          "args": [
           "3648180171099576616",
           "-4958589695522401741"
          ],
          "function": "Module.register_function_three"
         }
        ],
        "6873265126864484695": [
         "20",
         {
          "args": [
           "956784345880243062",
           "7225057294054644668",
           "6252234403416070464",
           "2324029380516624993"
          ],
          "function": "RegisteredFunctionThree.__call__",
          "type_params": {
           "T": {
            "type": "Integer"
           },
           "U": {
            "type": "Integer"
           },
           "V": {
            "type": "Integer"
           },
           "X": {
            "type": "Integer"
           }
          }
         }
        ],
        "701565595520716670": [
         "23",
         {
          "args": [
           "1826809319247311855"
          ],
          "function": "Abstraction.from_fn"
         }
        ],
        "7135552366343267974": [
         "32",
         {
          "args": [
           "4776563505591080410",
           "-1837262976692906419"
          ],
          "function": "Abstraction.create",
          "type_params": {
           "T": {
            "type": "Integer"
           },
           "U": {
            "params": {
             "T": {
              "type": "Integer"
             },
             "U": {
              "type": "Integer"
             }
            },
            "type": "Abstraction"
           }
          }
         }
        ],
        "7225057294054644668": [
         "14",
         {
          "args": [
           "7529033636292942280"
          ],
          "function": "Abstraction.create_variable",
          "type_params": {
           "T": {
            "type": "Integer"
           },
           "U": {
            "type": "Integer"
           }
          }
         }
        ],
        "7264277494719425837": [
         "8",
         {
          "args": [
           "3994268840618502551",
           "-5161831499569901257"
          ],
          "function": "Module.register_function_one"
         }
        ],
        "7343235409108112081": [
         "24",
         {
          "args": [
           "-1086851982997915605"
          ],
          "function": "Abstraction.fix"
         }
        ],
        "7529033636292942280": [
         "13",
         {
          "repr": "Variable(4489407904)",
          "type": "Variable"
         }
        ],
        "7529033638517531155": [
         "25",
         {
          "repr": "Variable(4489440560)",
          "type": "Variable"
         }
        ],
        "7529039006633433255": [
         "33",
         {
          "repr": "Variable(4569545584)",
          "type": "Variable"
         }
        ],
        "7529039014869283455": [
         "29",
         {
          "repr": "Variable(4569421808)",
          "type": "Variable"
         }
        ],
        "7685601962802009075": [
         "36",
         {
          "args": [
           "-4026156745362701453",
           "-7284255441316731368"
          ],
          "function": "Abstraction.create",
          "type_params": {
           "T": {
            "type": "Integer"
           },
           "U": {
            "type": "Integer"
           }
          }
         }
        ],
        "7692464218490062041": [
         "8",
         {
          "args": [
           "2396026869258155825",
           "3456763755303611590"
          ],
          "function": "Module.register_function_one"
         }
        ],
        "7744299883531923367": [
         "12",
         {
          "args": [
           "7225057294054644668",
           "-2784150623800114973"
          ],
          "function": "Abstraction.create",
          "type_params": {
           "T": {
            "type": "Integer"
           },
           "U": {
            "type": "Integer"
           }
          }
         }
        ],
        "7780966965377999920": [
         "8",
         {
          "args": [
           "-2506733314811801667",
           "8327221465090444047"
          ],
          "function": "Module.register_function_one"
         }
        ],
        "8260787455101400718": [
         "28",
         {
          "args": [
           "1826809484397325855"
          ],
          "function": "Abstraction.from_fn"
         }
        ],
        "8327221465090444047": [
         "7",
         {
          "args": [
           "8959088453871635775"
          ],
          "function": "FunctionOne.from_fn"
         }
        ],
        "8686367750381438437": [
         "24",
         {
          "args": [
           "-5495488599216863335"
          ],
          "function": "Abstraction.fix"
         }
        ],
        "8889008873117166537": [
         "21",
         {
          "repr": "'fib_more'",
          "type": "str"
         }
        ],
        "8946457072410364648": [
         "20",
         {
          "args": [
           "-315543480359228085",
           "7225057294054644668",
           "6252234403416070464",
           "2324029380516624993"
          ],
          "function": "RegisteredFunctionThree.__call__",
          "type_params": {
           "T": {
            "type": "Integer"
           },
           "U": {
            "type": "Integer"
           },
           "V": {
            "type": "Integer"
           },
           "X": {
            "type": "Integer"
           }
          }
         }
        ],
        "8958813984667811475": [
         "16",
         {
          "repr": "0",
          "type": "int"
         }
        ],
        "8958813984668894000": [
         "39",
         {
          "repr": "1",
          "type": "int"
         }
        ],
        "8959088453871635775": [
         "11",
         {
          "repr": "<function fib at 0x1105bf9d8>",
          "type": "function"
         }
        ],
        "8971409290396777648": [
         "24",
         {
          "args": [
           "701565595520716670"
          ],
          "function": "Abstraction.fix"
         }
        ],
        "956784345880243062": [
         "15",
         {
          "args": [
           "-6784924768096466978"
          ],
          "function": "Pair.right",
          "type_params": {
           "T": {
            "type": "Module"
           },
           "U": {
            "params": {
             "T": {
              "type": "Integer"
             },
             "U": {
              "type": "Integer"
             },
             "V": {
              "type": "Integer"
             },
             "X": {
              "type": "Integer"
             }
            },
            "type": "RegisteredFunctionThree"
           }
          }
         }
        ]
       },
       "states": {
        "initial": "7780966965377999920",
        "states": [
         {
          "node": "2225755738139318763",
          "rule": "metadsl_core.function.FunctionOne.from_fn"
         },
         {
          "node": "-4781116979660372459",
          "rule": "metadsl_core.abstraction.Abstraction.from_fn"
         },
         {
          "node": "7692464218490062041",
          "rule": "metadsl_core.function.FunctionThree.from_fn_recursive"
         },
         {
          "node": "7264277494719425837",
          "rule": "metadsl_core.abstraction.Abstraction.from_fn"
         },
         {
          "node": "-2190316483644495516",
          "rule": "metadsl_core.abstraction.Abstraction.from_fn"
         },
         {
          "node": "456147733168676208",
          "rule": "metadsl_core.abstraction.Abstraction.from_fn"
         },
         {
          "node": "-2922703863059947646",
          "rule": "metadsl_core.abstraction.Abstraction.from_fn"
         },
         {
          "node": "-414860657600437410",
          "rule": "metadsl_core.function.three_call"
         },
         {
          "node": "31629494541935557",
          "rule": "metadsl_core.function.three_abstraction"
         },
         {
          "label": "core",
          "node": "31629494541935557",
          "rule": ""
         }
        ]
       }
      },
      "application/x.typez.graph+json": {
       "initial": "digraph {\n\tnode [shape=plain]\n\tedge [arrowsize=0.5 penwidth=0.5]\n\t7780966965377999920 [label=\"Module.register_function_one\" id=8]\n\t7780966965377999920 -> -2506733314811801667 [id=\"8.args[0]\"]\n\t-2506733314811801667 [label=\"Pair.left\" id=5]\n\t-2506733314811801667 -> -7723712405287337066 [id=\"5.args[0]\"]\n\t-7723712405287337066 [label=\"Module.register_function_three\" id=4]\n\t-7723712405287337066 -> 3648180171099576616 [id=\"4.args[0]\"]\n\t3648180171099576616 [label=\"Module.create\" id=1]\n\t3648180171099576616 -> 3739358493955255257 [id=\"1.args[0]\"]\n\t3739358493955255257 [label=\"'Main'\" id=9]\n\t-7723712405287337066 -> 4769008740378661750 [id=\"4.args[1]\"]\n\t4769008740378661750 [label=\"FunctionThree.from_fn_recursive\" id=3]\n\t4769008740378661750 -> -264283582861897233 [id=\"3.args[0]\"]\n\t-264283582861897233 [label=\"function fib_more at 0x1105bf0d0\" id=2]\n\t7780966965377999920 -> 8327221465090444047 [id=\"8.args[1]\"]\n\t8327221465090444047 [label=\"FunctionOne.from_fn\" id=7]\n\t8327221465090444047 -> 8959088453871635775 [id=\"7.args[0]\"]\n\t8959088453871635775 [label=\"function fib at 0x1105bf9d8\" id=11]\n}",
       "states": [
        {
         "graph": "digraph {\n\tnode [shape=plain]\n\tedge [arrowsize=0.5 penwidth=0.5]\n\t2225755738139318763 [label=\"Module.register_function_one\" id=8]\n\t2225755738139318763 -> -2506733314811801667 [id=\"8.args[0]\"]\n\t-2506733314811801667 [label=\"Pair.left\" id=5]\n\t-2506733314811801667 -> -7723712405287337066 [id=\"5.args[0]\"]\n\t-7723712405287337066 [label=\"Module.register_function_three\" id=4]\n\t-7723712405287337066 -> 3648180171099576616 [id=\"4.args[0]\"]\n\t3648180171099576616 [label=\"Module.create\" id=1]\n\t3648180171099576616 -> 3739358493955255257 [id=\"1.args[0]\"]\n\t3739358493955255257 [label=\"'Main'\" id=9]\n\t-7723712405287337066 -> 4769008740378661750 [id=\"4.args[1]\"]\n\t4769008740378661750 [label=\"FunctionThree.from_fn_recursive\" id=3]\n\t4769008740378661750 -> -264283582861897233 [id=\"3.args[0]\"]\n\t-264283582861897233 [label=\"function fib_more at 0x1105bf0d0\" id=2]\n\t2225755738139318763 -> -3090978463468084512 [id=\"8.args[1]\"]\n\t-3090978463468084512 [label=\"FunctionOne.create\" id=7]\n\t-3090978463468084512 -> -152929591850720212 [id=\"7.args[0]\"]\n\t-152929591850720212 [label=\"'fib'\" id=10]\n\t-3090978463468084512 -> 3630712035543858351 [id=\"7.args[1]\"]\n\t3630712035543858351 [label=\"Abstraction.from_fn\" id=12]\n\t3630712035543858351 -> 8959088453871635775 [id=\"12.args[0]\"]\n\t8959088453871635775 [label=\"function fib at 0x1105bf9d8\" id=11]\n}",
         "label": null,
         "rule": "metadsl_core.function.FunctionOne.from_fn"
        },
        {
         "graph": "digraph {\n\tnode [shape=plain]\n\tedge [arrowsize=0.5 penwidth=0.5]\n\t-4781116979660372459 [label=\"Module.register_function_one\" id=8]\n\t-4781116979660372459 -> -2506733314811801667 [id=\"8.args[0]\"]\n\t-2506733314811801667 [label=\"Pair.left\" id=5]\n\t-2506733314811801667 -> -7723712405287337066 [id=\"5.args[0]\"]\n\t-7723712405287337066 [label=\"Module.register_function_three\" id=4]\n\t-7723712405287337066 -> 3648180171099576616 [id=\"4.args[0]\"]\n\t3648180171099576616 [label=\"Module.create\" id=1]\n\t3648180171099576616 -> 3739358493955255257 [id=\"1.args[0]\"]\n\t3739358493955255257 [label=\"'Main'\" id=9]\n\t-7723712405287337066 -> 4769008740378661750 [id=\"4.args[1]\"]\n\t4769008740378661750 [label=\"FunctionThree.from_fn_recursive\" id=3]\n\t4769008740378661750 -> -264283582861897233 [id=\"3.args[0]\"]\n\t-264283582861897233 [label=\"function fib_more at 0x1105bf0d0\" id=2]\n\t-4781116979660372459 -> 6622009004168496831 [id=\"8.args[1]\"]\n\t6622009004168496831 [label=\"FunctionOne.create\" id=7]\n\t6622009004168496831 -> -152929591850720212 [id=\"7.args[0]\"]\n\t-152929591850720212 [label=\"'fib'\" id=10]\n\t6622009004168496831 -> -1307991930381336899 [id=\"7.args[1]\"]\n\t-1307991930381336899 [label=\"Abstraction.create\" id=12]\n\t-1307991930381336899 -> 7225057294054644668 [id=\"12.args[0]\"]\n\t7225057294054644668 [label=\"Abstraction.create_variable\" id=14]\n\t7225057294054644668 -> 7529033636292942280 [id=\"14.args[0]\"]\n\t7529033636292942280 [label=\"Variable(4489407904)\" id=13]\n\t-1307991930381336899 -> 627958922987854448 [id=\"12.args[1]\"]\n\t627958922987854448 [label=\"RegisteredFunctionThree.__call__\" id=20]\n\t627958922987854448 -> -6390311065112076907 [id=\"20.args[0]\"]\n\t-6390311065112076907 [label=\"Pair.right\" id=15]\n\t-6390311065112076907 -> -7723712405287337066 [id=\"15.args[0]\"]\n\t627958922987854448 -> 7225057294054644668 [id=\"20.args[1]\"]\n\t627958922987854448 -> 6252234403416070464 [id=\"20.args[2]\"]\n\t6252234403416070464 [label=\"Integer.from_int\" id=17]\n\t6252234403416070464 -> 8958813984667811475 [id=\"17.args[0]\"]\n\t8958813984667811475 [label=0 id=16]\n\t627958922987854448 -> 2324029380516624993 [id=\"20.args[3]\"]\n\t2324029380516624993 [label=\"Integer.from_int\" id=40]\n\t2324029380516624993 -> 8958813984668894000 [id=\"40.args[0]\"]\n\t8958813984668894000 [label=1 id=39]\n}",
         "label": null,
         "rule": "metadsl_core.abstraction.Abstraction.from_fn"
        },
        {
         "graph": "digraph {\n\tnode [shape=plain]\n\tedge [arrowsize=0.5 penwidth=0.5]\n\t7692464218490062041 [label=\"Module.register_function_one\" id=8]\n\t7692464218490062041 -> 2396026869258155825 [id=\"8.args[0]\"]\n\t2396026869258155825 [label=\"Pair.left\" id=5]\n\t2396026869258155825 -> -1535261586339128617 [id=\"5.args[0]\"]\n\t-1535261586339128617 [label=\"Module.register_function_three\" id=4]\n\t-1535261586339128617 -> 3648180171099576616 [id=\"4.args[0]\"]\n\t3648180171099576616 [label=\"Module.create\" id=1]\n\t3648180171099576616 -> 3739358493955255257 [id=\"1.args[0]\"]\n\t3739358493955255257 [label=\"'Main'\" id=9]\n\t-1535261586339128617 -> 550774990052228171 [id=\"4.args[1]\"]\n\t550774990052228171 [label=\"FunctionThree.create\" id=3]\n\t550774990052228171 -> 8889008873117166537 [id=\"3.args[0]\"]\n\t8889008873117166537 [label=\"'fib_more'\" id=21]\n\t550774990052228171 -> 8971409290396777648 [id=\"3.args[1]\"]\n\t8971409290396777648 [label=\"Abstraction.fix\" id=24]\n\t8971409290396777648 -> 701565595520716670 [id=\"24.args[0]\"]\n\t701565595520716670 [label=\"Abstraction.from_fn\" id=23]\n\t701565595520716670 -> 1826809319247311855 [id=\"23.args[0]\"]\n\t1826809319247311855 [label=\"FunctionReplaceTyping(fn=function FunctionThree.from_fn_recursive.locals.inner at 0x110587ea0, typevars={~V: class 'metadsl_core.integer.Integer', ~U: class 'metadsl_core.integer.Integer', ~T: class 'metadsl_core.integer.Integer', ~X: class 'metadsl_core.integer.Integer'}, typevars_in_scope={~U, ~T, ~V, ~X})\" id=22]\n\t7692464218490062041 -> 3456763755303611590 [id=\"8.args[1]\"]\n\t3456763755303611590 [label=\"FunctionOne.create\" id=7]\n\t3456763755303611590 -> -152929591850720212 [id=\"7.args[0]\"]\n\t-152929591850720212 [label=\"'fib'\" id=10]\n\t3456763755303611590 -> 7744299883531923367 [id=\"7.args[1]\"]\n\t7744299883531923367 [label=\"Abstraction.create\" id=12]\n\t7744299883531923367 -> 7225057294054644668 [id=\"12.args[0]\"]\n\t7225057294054644668 [label=\"Abstraction.create_variable\" id=14]\n\t7225057294054644668 -> 7529033636292942280 [id=\"14.args[0]\"]\n\t7529033636292942280 [label=\"Variable(4489407904)\" id=13]\n\t7744299883531923367 -> -2784150623800114973 [id=\"12.args[1]\"]\n\t-2784150623800114973 [label=\"RegisteredFunctionThree.__call__\" id=20]\n\t-2784150623800114973 -> 2605085185839729897 [id=\"20.args[0]\"]\n\t2605085185839729897 [label=\"Pair.right\" id=15]\n\t2605085185839729897 -> -1535261586339128617 [id=\"15.args[0]\"]\n\t-2784150623800114973 -> 7225057294054644668 [id=\"20.args[1]\"]\n\t-2784150623800114973 -> 6252234403416070464 [id=\"20.args[2]\"]\n\t6252234403416070464 [label=\"Integer.from_int\" id=17]\n\t6252234403416070464 -> 8958813984667811475 [id=\"17.args[0]\"]\n\t8958813984667811475 [label=0 id=16]\n\t-2784150623800114973 -> 2324029380516624993 [id=\"20.args[3]\"]\n\t2324029380516624993 [label=\"Integer.from_int\" id=40]\n\t2324029380516624993 -> 8958813984668894000 [id=\"40.args[0]\"]\n\t8958813984668894000 [label=1 id=39]\n}",
         "label": null,
         "rule": "metadsl_core.function.FunctionThree.from_fn_recursive"
        },
        {
         "graph": "digraph {\n\tnode [shape=plain]\n\tedge [arrowsize=0.5 penwidth=0.5]\n\t7264277494719425837 [label=\"Module.register_function_one\" id=8]\n\t7264277494719425837 -> 3994268840618502551 [id=\"8.args[0]\"]\n\t3994268840618502551 [label=\"Pair.left\" id=5]\n\t3994268840618502551 -> -3803497085167891278 [id=\"5.args[0]\"]\n\t-3803497085167891278 [label=\"Module.register_function_three\" id=4]\n\t-3803497085167891278 -> 3648180171099576616 [id=\"4.args[0]\"]\n\t3648180171099576616 [label=\"Module.create\" id=1]\n\t3648180171099576616 -> 3739358493955255257 [id=\"1.args[0]\"]\n\t3739358493955255257 [label=\"'Main'\" id=9]\n\t-3803497085167891278 -> -3229391614538081899 [id=\"4.args[1]\"]\n\t-3229391614538081899 [label=\"FunctionThree.create\" id=3]\n\t-3229391614538081899 -> 8889008873117166537 [id=\"3.args[0]\"]\n\t8889008873117166537 [label=\"'fib_more'\" id=21]\n\t-3229391614538081899 -> -7594750696473561792 [id=\"3.args[1]\"]\n\t-7594750696473561792 [label=\"Abstraction.fix\" id=24]\n\t-7594750696473561792 -> -4997399667303108816 [id=\"24.args[0]\"]\n\t-4997399667303108816 [label=\"Abstraction.create\" id=23]\n\t-4997399667303108816 -> -1390319224234856313 [id=\"23.args[0]\"]\n\t-1390319224234856313 [label=\"Abstraction.create_variable\" id=26]\n\t-1390319224234856313 -> 7529033638517531155 [id=\"26.args[0]\"]\n\t7529033638517531155 [label=\"Variable(4489440560)\" id=25]\n\t-4997399667303108816 -> 8260787455101400718 [id=\"23.args[1]\"]\n\t8260787455101400718 [label=\"Abstraction.from_fn\" id=28]\n\t8260787455101400718 -> 1826809484397325855 [id=\"28.args[0]\"]\n\t1826809484397325855 [label=\"FunctionReplaceTyping(fn=function FunctionThree.from_fn_recursive.locals.inner.locals.inner at 0x1105878c8, typevars={~V: class 'metadsl_core.integer.Integer', ~U: class 'metadsl_core.integer.Integer', ~T: class 'metadsl_core.integer.Integer', ~X: class 'metadsl_core.integer.Integer'}, typevars_in_scope={~U, ~T, ~V, ~X})\" id=27]\n\t7264277494719425837 -> -5161831499569901257 [id=\"8.args[1]\"]\n\t-5161831499569901257 [label=\"FunctionOne.create\" id=7]\n\t-5161831499569901257 -> -152929591850720212 [id=\"7.args[0]\"]\n\t-152929591850720212 [label=\"'fib'\" id=10]\n\t-5161831499569901257 -> -6721234090305836585 [id=\"7.args[1]\"]\n\t-6721234090305836585 [label=\"Abstraction.create\" id=12]\n\t-6721234090305836585 -> 7225057294054644668 [id=\"12.args[0]\"]\n\t7225057294054644668 [label=\"Abstraction.create_variable\" id=14]\n\t7225057294054644668 -> 7529033636292942280 [id=\"14.args[0]\"]\n\t7529033636292942280 [label=\"Variable(4489407904)\" id=13]\n\t-6721234090305836585 -> -6273475886887103596 [id=\"12.args[1]\"]\n\t-6273475886887103596 [label=\"RegisteredFunctionThree.__call__\" id=20]\n\t-6273475886887103596 -> -261869278614924129 [id=\"20.args[0]\"]\n\t-261869278614924129 [label=\"Pair.right\" id=15]\n\t-261869278614924129 -> -3803497085167891278 [id=\"15.args[0]\"]\n\t-6273475886887103596 -> 7225057294054644668 [id=\"20.args[1]\"]\n\t-6273475886887103596 -> 6252234403416070464 [id=\"20.args[2]\"]\n\t6252234403416070464 [label=\"Integer.from_int\" id=17]\n\t6252234403416070464 -> 8958813984667811475 [id=\"17.args[0]\"]\n\t8958813984667811475 [label=0 id=16]\n\t-6273475886887103596 -> 2324029380516624993 [id=\"20.args[3]\"]\n\t2324029380516624993 [label=\"Integer.from_int\" id=40]\n\t2324029380516624993 -> 8958813984668894000 [id=\"40.args[0]\"]\n\t8958813984668894000 [label=1 id=39]\n}",
         "label": null,
         "rule": "metadsl_core.abstraction.Abstraction.from_fn"
        },
        {
         "graph": "digraph {\n\tnode [shape=plain]\n\tedge [arrowsize=0.5 penwidth=0.5]\n\t-2190316483644495516 [label=\"Module.register_function_one\" id=8]\n\t-2190316483644495516 -> -7582112663647777645 [id=\"8.args[0]\"]\n\t-7582112663647777645 [label=\"Pair.left\" id=5]\n\t-7582112663647777645 -> 6306451704246019899 [id=\"5.args[0]\"]\n\t6306451704246019899 [label=\"Module.register_function_three\" id=4]\n\t6306451704246019899 -> 3648180171099576616 [id=\"4.args[0]\"]\n\t3648180171099576616 [label=\"Module.create\" id=1]\n\t3648180171099576616 -> 3739358493955255257 [id=\"1.args[0]\"]\n\t3739358493955255257 [label=\"'Main'\" id=9]\n\t6306451704246019899 -> -7868986453542138382 [id=\"4.args[1]\"]\n\t-7868986453542138382 [label=\"FunctionThree.create\" id=3]\n\t-7868986453542138382 -> 8889008873117166537 [id=\"3.args[0]\"]\n\t8889008873117166537 [label=\"'fib_more'\" id=21]\n\t-7868986453542138382 -> 8686367750381438437 [id=\"3.args[1]\"]\n\t8686367750381438437 [label=\"Abstraction.fix\" id=24]\n\t8686367750381438437 -> -5495488599216863335 [id=\"24.args[0]\"]\n\t-5495488599216863335 [label=\"Abstraction.create\" id=23]\n\t-5495488599216863335 -> -1390319224234856313 [id=\"23.args[0]\"]\n\t-1390319224234856313 [label=\"Abstraction.create_variable\" id=26]\n\t-1390319224234856313 -> 7529033638517531155 [id=\"26.args[0]\"]\n\t7529033638517531155 [label=\"Variable(4489440560)\" id=25]\n\t-5495488599216863335 -> -7037911870691272259 [id=\"23.args[1]\"]\n\t-7037911870691272259 [label=\"Abstraction.create\" id=28]\n\t-7037911870691272259 -> 373215527220529037 [id=\"28.args[0]\"]\n\t373215527220529037 [label=\"Abstraction.create_variable\" id=30]\n\t373215527220529037 -> 7529039014869283455 [id=\"30.args[0]\"]\n\t7529039014869283455 [label=\"Variable(4569421808)\" id=29]\n\t-7037911870691272259 -> -1748824064971166914 [id=\"28.args[1]\"]\n\t-1748824064971166914 [label=\"Abstraction.from_fn\" id=32]\n\t-1748824064971166914 -> 1826809318485214255 [id=\"32.args[0]\"]\n\t1826809318485214255 [label=\"FunctionReplaceTyping(fn=function FunctionThree.from_fn_recursive.locals.inner.locals.inner.locals.inner at 0x10b973bf8, typevars={~V: class 'metadsl_core.integer.Integer', ~U: class 'metadsl_core.integer.Integer', ~T: class 'metadsl_core.integer.Integer', ~X: class 'metadsl_core.integer.Integer'}, typevars_in_scope={~U, ~T, ~V, ~X})\" id=31]\n\t-2190316483644495516 -> -8468381326675022331 [id=\"8.args[1]\"]\n\t-8468381326675022331 [label=\"FunctionOne.create\" id=7]\n\t-8468381326675022331 -> -152929591850720212 [id=\"7.args[0]\"]\n\t-152929591850720212 [label=\"'fib'\" id=10]\n\t-8468381326675022331 -> -2425752213715075984 [id=\"7.args[1]\"]\n\t-2425752213715075984 [label=\"Abstraction.create\" id=12]\n\t-2425752213715075984 -> 7225057294054644668 [id=\"12.args[0]\"]\n\t7225057294054644668 [label=\"Abstraction.create_variable\" id=14]\n\t7225057294054644668 -> 7529033636292942280 [id=\"14.args[0]\"]\n\t7529033636292942280 [label=\"Variable(4489407904)\" id=13]\n\t-2425752213715075984 -> 8946457072410364648 [id=\"12.args[1]\"]\n\t8946457072410364648 [label=\"RegisteredFunctionThree.__call__\" id=20]\n\t8946457072410364648 -> -315543480359228085 [id=\"20.args[0]\"]\n\t-315543480359228085 [label=\"Pair.right\" id=15]\n\t-315543480359228085 -> 6306451704246019899 [id=\"15.args[0]\"]\n\t8946457072410364648 -> 7225057294054644668 [id=\"20.args[1]\"]\n\t8946457072410364648 -> 6252234403416070464 [id=\"20.args[2]\"]\n\t6252234403416070464 [label=\"Integer.from_int\" id=17]\n\t6252234403416070464 -> 8958813984667811475 [id=\"17.args[0]\"]\n\t8958813984667811475 [label=0 id=16]\n\t8946457072410364648 -> 2324029380516624993 [id=\"20.args[3]\"]\n\t2324029380516624993 [label=\"Integer.from_int\" id=40]\n\t2324029380516624993 -> 8958813984668894000 [id=\"40.args[0]\"]\n\t8958813984668894000 [label=1 id=39]\n}",
         "label": null,
         "rule": "metadsl_core.abstraction.Abstraction.from_fn"
        },
        {
         "graph": "digraph {\n\tnode [shape=plain]\n\tedge [arrowsize=0.5 penwidth=0.5]\n\t456147733168676208 [label=\"Module.register_function_one\" id=8]\n\t456147733168676208 -> 2313083977819939084 [id=\"8.args[0]\"]\n\t2313083977819939084 [label=\"Pair.left\" id=5]\n\t2313083977819939084 -> -1785576690257838106 [id=\"5.args[0]\"]\n\t-1785576690257838106 [label=\"Module.register_function_three\" id=4]\n\t-1785576690257838106 -> 3648180171099576616 [id=\"4.args[0]\"]\n\t3648180171099576616 [label=\"Module.create\" id=1]\n\t3648180171099576616 -> 3739358493955255257 [id=\"1.args[0]\"]\n\t3739358493955255257 [label=\"'Main'\" id=9]\n\t-1785576690257838106 -> -2895026332640526551 [id=\"4.args[1]\"]\n\t-2895026332640526551 [label=\"FunctionThree.create\" id=3]\n\t-2895026332640526551 -> 8889008873117166537 [id=\"3.args[0]\"]\n\t8889008873117166537 [label=\"'fib_more'\" id=21]\n\t-2895026332640526551 -> -2869757300318600486 [id=\"3.args[1]\"]\n\t-2869757300318600486 [label=\"Abstraction.fix\" id=24]\n\t-2869757300318600486 -> -8568194487643077313 [id=\"24.args[0]\"]\n\t-8568194487643077313 [label=\"Abstraction.create\" id=23]\n\t-8568194487643077313 -> -1390319224234856313 [id=\"23.args[0]\"]\n\t-1390319224234856313 [label=\"Abstraction.create_variable\" id=26]\n\t-1390319224234856313 -> 7529033638517531155 [id=\"26.args[0]\"]\n\t7529033638517531155 [label=\"Variable(4489440560)\" id=25]\n\t-8568194487643077313 -> 4810958335469189930 [id=\"23.args[1]\"]\n\t4810958335469189930 [label=\"Abstraction.create\" id=28]\n\t4810958335469189930 -> 373215527220529037 [id=\"28.args[0]\"]\n\t373215527220529037 [label=\"Abstraction.create_variable\" id=30]\n\t373215527220529037 -> 7529039014869283455 [id=\"30.args[0]\"]\n\t7529039014869283455 [label=\"Variable(4569421808)\" id=29]\n\t4810958335469189930 -> -3452699470144248868 [id=\"28.args[1]\"]\n\t-3452699470144248868 [label=\"Abstraction.create\" id=32]\n\t-3452699470144248868 -> 4776563505591080410 [id=\"32.args[0]\"]\n\t4776563505591080410 [label=\"Abstraction.create_variable\" id=34]\n\t4776563505591080410 -> 7529039006633433255 [id=\"34.args[0]\"]\n\t7529039006633433255 [label=\"Variable(4569545584)\" id=33]\n\t-3452699470144248868 -> 4384831319452064078 [id=\"32.args[1]\"]\n\t4384831319452064078 [label=\"Abstraction.from_fn\" id=36]\n\t4384831319452064078 -> 1826809485297986655 [id=\"36.args[0]\"]\n\t1826809485297986655 [label=\"FunctionReplaceTyping(fn=function FunctionThree.from_fn_recursive.locals.inner.locals.inner.locals.inner.locals.inner at 0x10b973b70, typevars={~V: class 'metadsl_core.integer.Integer', ~U: class 'metadsl_core.integer.Integer', ~T: class 'metadsl_core.integer.Integer', ~X: class 'metadsl_core.integer.Integer'}, typevars_in_scope={~U, ~T, ~V, ~X})\" id=35]\n\t456147733168676208 -> 5859044924469247871 [id=\"8.args[1]\"]\n\t5859044924469247871 [label=\"FunctionOne.create\" id=7]\n\t5859044924469247871 -> -152929591850720212 [id=\"7.args[0]\"]\n\t-152929591850720212 [label=\"'fib'\" id=10]\n\t5859044924469247871 -> -844773804410018563 [id=\"7.args[1]\"]\n\t-844773804410018563 [label=\"Abstraction.create\" id=12]\n\t-844773804410018563 -> 7225057294054644668 [id=\"12.args[0]\"]\n\t7225057294054644668 [label=\"Abstraction.create_variable\" id=14]\n\t7225057294054644668 -> 7529033636292942280 [id=\"14.args[0]\"]\n\t7529033636292942280 [label=\"Variable(4489407904)\" id=13]\n\t-844773804410018563 -> 5272650496528953134 [id=\"12.args[1]\"]\n\t5272650496528953134 [label=\"RegisteredFunctionThree.__call__\" id=20]\n\t5272650496528953134 -> 3063240454349127956 [id=\"20.args[0]\"]\n\t3063240454349127956 [label=\"Pair.right\" id=15]\n\t3063240454349127956 -> -1785576690257838106 [id=\"15.args[0]\"]\n\t5272650496528953134 -> 7225057294054644668 [id=\"20.args[1]\"]\n\t5272650496528953134 -> 6252234403416070464 [id=\"20.args[2]\"]\n\t6252234403416070464 [label=\"Integer.from_int\" id=17]\n\t6252234403416070464 -> 8958813984667811475 [id=\"17.args[0]\"]\n\t8958813984667811475 [label=0 id=16]\n\t5272650496528953134 -> 2324029380516624993 [id=\"20.args[3]\"]\n\t2324029380516624993 [label=\"Integer.from_int\" id=40]\n\t2324029380516624993 -> 8958813984668894000 [id=\"40.args[0]\"]\n\t8958813984668894000 [label=1 id=39]\n}",
         "label": null,
         "rule": "metadsl_core.abstraction.Abstraction.from_fn"
        },
        {
         "graph": "digraph {\n\tnode [shape=plain]\n\tedge [arrowsize=0.5 penwidth=0.5]\n\t-2922703863059947646 [label=\"Module.register_function_one\" id=8]\n\t-2922703863059947646 -> -7294681629162465275 [id=\"8.args[0]\"]\n\t-7294681629162465275 [label=\"Pair.left\" id=5]\n\t-7294681629162465275 -> 6826830606528086889 [id=\"5.args[0]\"]\n\t6826830606528086889 [label=\"Module.register_function_three\" id=4]\n\t6826830606528086889 -> 3648180171099576616 [id=\"4.args[0]\"]\n\t3648180171099576616 [label=\"Module.create\" id=1]\n\t3648180171099576616 -> 3739358493955255257 [id=\"1.args[0]\"]\n\t3739358493955255257 [label=\"'Main'\" id=9]\n\t6826830606528086889 -> -4958589695522401741 [id=\"4.args[1]\"]\n\t-4958589695522401741 [label=\"FunctionThree.create\" id=3]\n\t-4958589695522401741 -> 8889008873117166537 [id=\"3.args[0]\"]\n\t8889008873117166537 [label=\"'fib_more'\" id=21]\n\t-4958589695522401741 -> -799453865131163509 [id=\"3.args[1]\"]\n\t-799453865131163509 [label=\"Abstraction.fix\" id=24]\n\t-799453865131163509 -> -5574475494398965013 [id=\"24.args[0]\"]\n\t-5574475494398965013 [label=\"Abstraction.create\" id=23]\n\t-5574475494398965013 -> -1390319224234856313 [id=\"23.args[0]\"]\n\t-1390319224234856313 [label=\"Abstraction.create_variable\" id=26]\n\t-1390319224234856313 -> 7529033638517531155 [id=\"26.args[0]\"]\n\t7529033638517531155 [label=\"Variable(4489440560)\" id=25]\n\t-5574475494398965013 -> -4877263104295360462 [id=\"23.args[1]\"]\n\t-4877263104295360462 [label=\"Abstraction.create\" id=28]\n\t-4877263104295360462 -> 373215527220529037 [id=\"28.args[0]\"]\n\t373215527220529037 [label=\"Abstraction.create_variable\" id=30]\n\t373215527220529037 -> 7529039014869283455 [id=\"30.args[0]\"]\n\t7529039014869283455 [label=\"Variable(4569421808)\" id=29]\n\t-4877263104295360462 -> -937644793028655805 [id=\"28.args[1]\"]\n\t-937644793028655805 [label=\"Abstraction.create\" id=32]\n\t-937644793028655805 -> 4776563505591080410 [id=\"32.args[0]\"]\n\t4776563505591080410 [label=\"Abstraction.create_variable\" id=34]\n\t4776563505591080410 -> 7529039006633433255 [id=\"34.args[0]\"]\n\t7529039006633433255 [label=\"Variable(4569545584)\" id=33]\n\t-937644793028655805 -> 7685601962802009075 [id=\"32.args[1]\"]\n\t7685601962802009075 [label=\"Abstraction.create\" id=36]\n\t7685601962802009075 -> -4026156745362701453 [id=\"36.args[0]\"]\n\t-4026156745362701453 [label=\"Abstraction.create_variable\" id=38]\n\t-4026156745362701453 -> -1694333034442107528 [id=\"38.args[0]\"]\n\t-1694333034442107528 [label=\"Variable(4569474216)\" id=37]\n\t7685601962802009075 -> -7284255441316731368 [id=\"36.args[1]\"]\n\t-7284255441316731368 [label=\"Boolean.if_\" id=48]\n\t-7284255441316731368 -> 6168396556631660139 [id=\"48.args[0]\"]\n\t6168396556631660139 [label=\"Integer.__gt__\" id=41]\n\t6168396556631660139 -> 373215527220529037 [id=\"41.args[0]\"]\n\t6168396556631660139 -> 2324029380516624993 [id=\"41.args[1]\"]\n\t2324029380516624993 [label=\"Integer.from_int\" id=40]\n\t2324029380516624993 -> 8958813984668894000 [id=\"40.args[0]\"]\n\t8958813984668894000 [label=1 id=39]\n\t-7284255441316731368 -> -2938754627608559890 [id=\"48.args[1]\"]\n\t-2938754627608559890 [label=\"FunctionThree.__call__\" id=45]\n\t-2938754627608559890 -> 669362939417914167 [id=\"45.args[0]\"]\n\t669362939417914167 [label=\"FunctionThree.create\" id=49]\n\t669362939417914167 -> 8889008873117166537 [id=\"49.args[0]\"]\n\t669362939417914167 -> -1390319224234856313 [id=\"49.args[1]\"]\n\t-2938754627608559890 -> -9160890527699161279 [id=\"45.args[1]\"]\n\t-9160890527699161279 [label=\"Integer.__sub__\" id=51]\n\t-9160890527699161279 -> 373215527220529037 [id=\"51.args[0]\"]\n\t-9160890527699161279 -> 2324029380516624993 [id=\"51.args[1]\"]\n\t-2938754627608559890 -> -4026156745362701453 [id=\"45.args[2]\"]\n\t-2938754627608559890 -> -3440912726818207677 [id=\"45.args[3]\"]\n\t-3440912726818207677 [label=\"Integer.__add__\" id=54]\n\t-3440912726818207677 -> 4776563505591080410 [id=\"54.args[0]\"]\n\t-3440912726818207677 -> -4026156745362701453 [id=\"54.args[1]\"]\n\t-7284255441316731368 -> -5946390884222548027 [id=\"48.args[2]\"]\n\t-5946390884222548027 [label=\"Boolean.if_\" id=47]\n\t-5946390884222548027 -> -1225281549528902280 [id=\"47.args[0]\"]\n\t-1225281549528902280 [label=\"Integer.eq\" id=46]\n\t-1225281549528902280 -> 373215527220529037 [id=\"46.args[0]\"]\n\t-1225281549528902280 -> 2324029380516624993 [id=\"46.args[1]\"]\n\t-5946390884222548027 -> -4026156745362701453 [id=\"47.args[1]\"]\n\t-5946390884222548027 -> 4776563505591080410 [id=\"47.args[2]\"]\n\t-2922703863059947646 -> 6759473082007332100 [id=\"8.args[1]\"]\n\t6759473082007332100 [label=\"FunctionOne.create\" id=7]\n\t6759473082007332100 -> -152929591850720212 [id=\"7.args[0]\"]\n\t-152929591850720212 [label=\"'fib'\" id=10]\n\t6759473082007332100 -> 2721853500071086443 [id=\"7.args[1]\"]\n\t2721853500071086443 [label=\"Abstraction.create\" id=12]\n\t2721853500071086443 -> 7225057294054644668 [id=\"12.args[0]\"]\n\t7225057294054644668 [label=\"Abstraction.create_variable\" id=14]\n\t7225057294054644668 -> 7529033636292942280 [id=\"14.args[0]\"]\n\t7529033636292942280 [label=\"Variable(4489407904)\" id=13]\n\t2721853500071086443 -> -6254304525192101144 [id=\"12.args[1]\"]\n\t-6254304525192101144 [label=\"RegisteredFunctionThree.__call__\" id=20]\n\t-6254304525192101144 -> -5746582986690185907 [id=\"20.args[0]\"]\n\t-5746582986690185907 [label=\"Pair.right\" id=15]\n\t-5746582986690185907 -> 6826830606528086889 [id=\"15.args[0]\"]\n\t-6254304525192101144 -> 7225057294054644668 [id=\"20.args[1]\"]\n\t-6254304525192101144 -> 6252234403416070464 [id=\"20.args[2]\"]\n\t6252234403416070464 [label=\"Integer.from_int\" id=17]\n\t6252234403416070464 -> 8958813984667811475 [id=\"17.args[0]\"]\n\t8958813984667811475 [label=0 id=16]\n\t-6254304525192101144 -> 2324029380516624993 [id=\"20.args[3]\"]\n}",
         "label": null,
         "rule": "metadsl_core.abstraction.Abstraction.from_fn"
        },
        {
         "graph": "digraph {\n\tnode [shape=plain]\n\tedge [arrowsize=0.5 penwidth=0.5]\n\t-414860657600437410 [label=\"Module.register_function_one\" id=8]\n\t-414860657600437410 -> 1677395441522877198 [id=\"8.args[0]\"]\n\t1677395441522877198 [label=\"Pair.left\" id=5]\n\t1677395441522877198 -> -6784924768096466978 [id=\"5.args[0]\"]\n\t-6784924768096466978 [label=\"Module.register_function_three\" id=4]\n\t-6784924768096466978 -> 3648180171099576616 [id=\"4.args[0]\"]\n\t3648180171099576616 [label=\"Module.create\" id=1]\n\t3648180171099576616 -> 3739358493955255257 [id=\"1.args[0]\"]\n\t3739358493955255257 [label=\"'Main'\" id=9]\n\t-6784924768096466978 -> 3304149103672326159 [id=\"4.args[1]\"]\n\t3304149103672326159 [label=\"FunctionThree.create\" id=3]\n\t3304149103672326159 -> 8889008873117166537 [id=\"3.args[0]\"]\n\t8889008873117166537 [label=\"'fib_more'\" id=21]\n\t3304149103672326159 -> -8547702612516438766 [id=\"3.args[1]\"]\n\t-8547702612516438766 [label=\"Abstraction.fix\" id=24]\n\t-8547702612516438766 -> -7269360032246621641 [id=\"24.args[0]\"]\n\t-7269360032246621641 [label=\"Abstraction.create\" id=23]\n\t-7269360032246621641 -> -1390319224234856313 [id=\"23.args[0]\"]\n\t-1390319224234856313 [label=\"Abstraction.create_variable\" id=26]\n\t-1390319224234856313 -> 7529033638517531155 [id=\"26.args[0]\"]\n\t7529033638517531155 [label=\"Variable(4489440560)\" id=25]\n\t-7269360032246621641 -> 476398851817032164 [id=\"23.args[1]\"]\n\t476398851817032164 [label=\"Abstraction.create\" id=28]\n\t476398851817032164 -> 373215527220529037 [id=\"28.args[0]\"]\n\t373215527220529037 [label=\"Abstraction.create_variable\" id=30]\n\t373215527220529037 -> 7529039014869283455 [id=\"30.args[0]\"]\n\t7529039014869283455 [label=\"Variable(4569421808)\" id=29]\n\t476398851817032164 -> 7135552366343267974 [id=\"28.args[1]\"]\n\t7135552366343267974 [label=\"Abstraction.create\" id=32]\n\t7135552366343267974 -> 4776563505591080410 [id=\"32.args[0]\"]\n\t4776563505591080410 [label=\"Abstraction.create_variable\" id=34]\n\t4776563505591080410 -> 7529039006633433255 [id=\"34.args[0]\"]\n\t7529039006633433255 [label=\"Variable(4569545584)\" id=33]\n\t7135552366343267974 -> -1837262976692906419 [id=\"32.args[1]\"]\n\t-1837262976692906419 [label=\"Abstraction.create\" id=36]\n\t-1837262976692906419 -> -4026156745362701453 [id=\"36.args[0]\"]\n\t-4026156745362701453 [label=\"Abstraction.create_variable\" id=38]\n\t-4026156745362701453 -> -1694333034442107528 [id=\"38.args[0]\"]\n\t-1694333034442107528 [label=\"Variable(4569474216)\" id=37]\n\t-1837262976692906419 -> -7377875860345800818 [id=\"36.args[1]\"]\n\t-7377875860345800818 [label=\"Boolean.if_\" id=48]\n\t-7377875860345800818 -> 6168396556631660139 [id=\"48.args[0]\"]\n\t6168396556631660139 [label=\"Integer.__gt__\" id=41]\n\t6168396556631660139 -> 373215527220529037 [id=\"41.args[0]\"]\n\t6168396556631660139 -> 2324029380516624993 [id=\"41.args[1]\"]\n\t2324029380516624993 [label=\"Integer.from_int\" id=40]\n\t2324029380516624993 -> 8958813984668894000 [id=\"40.args[0]\"]\n\t8958813984668894000 [label=1 id=39]\n\t-7377875860345800818 -> -6446468764879701815 [id=\"48.args[1]\"]\n\t-6446468764879701815 [label=\"Abstraction.__call__\" id=45]\n\t-6446468764879701815 -> -3575020684625926765 [id=\"45.args[0]\"]\n\t-3575020684625926765 [label=\"Abstraction.__call__\" id=53]\n\t-3575020684625926765 -> -6656922454773741347 [id=\"53.args[0]\"]\n\t-6656922454773741347 [label=\"Abstraction.__call__\" id=52]\n\t-6656922454773741347 -> 3619814969167094621 [id=\"52.args[0]\"]\n\t3619814969167094621 [label=\"FunctionThree.abstraction\" id=50]\n\t3619814969167094621 -> 669362939417914167 [id=\"50.args[0]\"]\n\t669362939417914167 [label=\"FunctionThree.create\" id=49]\n\t669362939417914167 -> 8889008873117166537 [id=\"49.args[0]\"]\n\t669362939417914167 -> -1390319224234856313 [id=\"49.args[1]\"]\n\t-6656922454773741347 -> -9160890527699161279 [id=\"52.args[1]\"]\n\t-9160890527699161279 [label=\"Integer.__sub__\" id=51]\n\t-9160890527699161279 -> 373215527220529037 [id=\"51.args[0]\"]\n\t-9160890527699161279 -> 2324029380516624993 [id=\"51.args[1]\"]\n\t-3575020684625926765 -> -4026156745362701453 [id=\"53.args[1]\"]\n\t-6446468764879701815 -> -3440912726818207677 [id=\"45.args[1]\"]\n\t-3440912726818207677 [label=\"Integer.__add__\" id=54]\n\t-3440912726818207677 -> 4776563505591080410 [id=\"54.args[0]\"]\n\t-3440912726818207677 -> -4026156745362701453 [id=\"54.args[1]\"]\n\t-7377875860345800818 -> -5946390884222548027 [id=\"48.args[2]\"]\n\t-5946390884222548027 [label=\"Boolean.if_\" id=47]\n\t-5946390884222548027 -> -1225281549528902280 [id=\"47.args[0]\"]\n\t-1225281549528902280 [label=\"Integer.eq\" id=46]\n\t-1225281549528902280 -> 373215527220529037 [id=\"46.args[0]\"]\n\t-1225281549528902280 -> 2324029380516624993 [id=\"46.args[1]\"]\n\t-5946390884222548027 -> -4026156745362701453 [id=\"47.args[1]\"]\n\t-5946390884222548027 -> 4776563505591080410 [id=\"47.args[2]\"]\n\t-414860657600437410 -> -6248493051619200096 [id=\"8.args[1]\"]\n\t-6248493051619200096 [label=\"FunctionOne.create\" id=7]\n\t-6248493051619200096 -> -152929591850720212 [id=\"7.args[0]\"]\n\t-152929591850720212 [label=\"'fib'\" id=10]\n\t-6248493051619200096 -> 6139284224772792814 [id=\"7.args[1]\"]\n\t6139284224772792814 [label=\"Abstraction.create\" id=12]\n\t6139284224772792814 -> 7225057294054644668 [id=\"12.args[0]\"]\n\t7225057294054644668 [label=\"Abstraction.create_variable\" id=14]\n\t7225057294054644668 -> 7529033636292942280 [id=\"14.args[0]\"]\n\t7529033636292942280 [label=\"Variable(4489407904)\" id=13]\n\t6139284224772792814 -> 6873265126864484695 [id=\"12.args[1]\"]\n\t6873265126864484695 [label=\"RegisteredFunctionThree.__call__\" id=20]\n\t6873265126864484695 -> 956784345880243062 [id=\"20.args[0]\"]\n\t956784345880243062 [label=\"Pair.right\" id=15]\n\t956784345880243062 -> -6784924768096466978 [id=\"15.args[0]\"]\n\t6873265126864484695 -> 7225057294054644668 [id=\"20.args[1]\"]\n\t6873265126864484695 -> 6252234403416070464 [id=\"20.args[2]\"]\n\t6252234403416070464 [label=\"Integer.from_int\" id=17]\n\t6252234403416070464 -> 8958813984667811475 [id=\"17.args[0]\"]\n\t8958813984667811475 [label=0 id=16]\n\t6873265126864484695 -> 2324029380516624993 [id=\"20.args[3]\"]\n}",
         "label": null,
         "rule": "metadsl_core.function.three_call"
        },
        {
         "graph": "digraph {\n\tnode [shape=plain]\n\tedge [arrowsize=0.5 penwidth=0.5]\n\t31629494541935557 [label=\"Module.register_function_one\" id=8]\n\t31629494541935557 -> -7428108612840939685 [id=\"8.args[0]\"]\n\t-7428108612840939685 [label=\"Pair.left\" id=5]\n\t-7428108612840939685 -> -3670431217617719914 [id=\"5.args[0]\"]\n\t-3670431217617719914 [label=\"Module.register_function_three\" id=4]\n\t-3670431217617719914 -> 3648180171099576616 [id=\"4.args[0]\"]\n\t3648180171099576616 [label=\"Module.create\" id=1]\n\t3648180171099576616 -> 3739358493955255257 [id=\"1.args[0]\"]\n\t3739358493955255257 [label=\"'Main'\" id=9]\n\t-3670431217617719914 -> 5360670798904346998 [id=\"4.args[1]\"]\n\t5360670798904346998 [label=\"FunctionThree.create\" id=3]\n\t5360670798904346998 -> 8889008873117166537 [id=\"3.args[0]\"]\n\t8889008873117166537 [label=\"'fib_more'\" id=21]\n\t5360670798904346998 -> 7343235409108112081 [id=\"3.args[1]\"]\n\t7343235409108112081 [label=\"Abstraction.fix\" id=24]\n\t7343235409108112081 -> -1086851982997915605 [id=\"24.args[0]\"]\n\t-1086851982997915605 [label=\"Abstraction.create\" id=23]\n\t-1086851982997915605 -> -1390319224234856313 [id=\"23.args[0]\"]\n\t-1390319224234856313 [label=\"Abstraction.create_variable\" id=26]\n\t-1390319224234856313 -> 7529033638517531155 [id=\"26.args[0]\"]\n\t7529033638517531155 [label=\"Variable(4489440560)\" id=25]\n\t-1086851982997915605 -> -7611029271073414541 [id=\"23.args[1]\"]\n\t-7611029271073414541 [label=\"Abstraction.create\" id=28]\n\t-7611029271073414541 -> 373215527220529037 [id=\"28.args[0]\"]\n\t373215527220529037 [label=\"Abstraction.create_variable\" id=30]\n\t373215527220529037 -> 7529039014869283455 [id=\"30.args[0]\"]\n\t7529039014869283455 [label=\"Variable(4569421808)\" id=29]\n\t-7611029271073414541 -> 1531054781655600976 [id=\"28.args[1]\"]\n\t1531054781655600976 [label=\"Abstraction.create\" id=32]\n\t1531054781655600976 -> 4776563505591080410 [id=\"32.args[0]\"]\n\t4776563505591080410 [label=\"Abstraction.create_variable\" id=34]\n\t4776563505591080410 -> 7529039006633433255 [id=\"34.args[0]\"]\n\t7529039006633433255 [label=\"Variable(4569545584)\" id=33]\n\t1531054781655600976 -> 591707745475350603 [id=\"32.args[1]\"]\n\t591707745475350603 [label=\"Abstraction.create\" id=36]\n\t591707745475350603 -> -4026156745362701453 [id=\"36.args[0]\"]\n\t-4026156745362701453 [label=\"Abstraction.create_variable\" id=38]\n\t-4026156745362701453 -> -1694333034442107528 [id=\"38.args[0]\"]\n\t-1694333034442107528 [label=\"Variable(4569474216)\" id=37]\n\t591707745475350603 -> -6248107118729238257 [id=\"36.args[1]\"]\n\t-6248107118729238257 [label=\"Boolean.if_\" id=48]\n\t-6248107118729238257 -> 6168396556631660139 [id=\"48.args[0]\"]\n\t6168396556631660139 [label=\"Integer.__gt__\" id=41]\n\t6168396556631660139 -> 373215527220529037 [id=\"41.args[0]\"]\n\t6168396556631660139 -> 2324029380516624993 [id=\"41.args[1]\"]\n\t2324029380516624993 [label=\"Integer.from_int\" id=40]\n\t2324029380516624993 -> 8958813984668894000 [id=\"40.args[0]\"]\n\t8958813984668894000 [label=1 id=39]\n\t-6248107118729238257 -> -1340134427290002658 [id=\"48.args[1]\"]\n\t-1340134427290002658 [label=\"Abstraction.__call__\" id=45]\n\t-1340134427290002658 -> 4823499627323598079 [id=\"45.args[0]\"]\n\t4823499627323598079 [label=\"Abstraction.__call__\" id=53]\n\t4823499627323598079 -> -3108582552256618520 [id=\"53.args[0]\"]\n\t-3108582552256618520 [label=\"Abstraction.__call__\" id=52]\n\t-3108582552256618520 -> -1390319224234856313 [id=\"52.args[0]\"]\n\t-3108582552256618520 -> -9160890527699161279 [id=\"52.args[1]\"]\n\t-9160890527699161279 [label=\"Integer.__sub__\" id=51]\n\t-9160890527699161279 -> 373215527220529037 [id=\"51.args[0]\"]\n\t-9160890527699161279 -> 2324029380516624993 [id=\"51.args[1]\"]\n\t4823499627323598079 -> -4026156745362701453 [id=\"53.args[1]\"]\n\t-1340134427290002658 -> -3440912726818207677 [id=\"45.args[1]\"]\n\t-3440912726818207677 [label=\"Integer.__add__\" id=54]\n\t-3440912726818207677 -> 4776563505591080410 [id=\"54.args[0]\"]\n\t-3440912726818207677 -> -4026156745362701453 [id=\"54.args[1]\"]\n\t-6248107118729238257 -> -5946390884222548027 [id=\"48.args[2]\"]\n\t-5946390884222548027 [label=\"Boolean.if_\" id=47]\n\t-5946390884222548027 -> -1225281549528902280 [id=\"47.args[0]\"]\n\t-1225281549528902280 [label=\"Integer.eq\" id=46]\n\t-1225281549528902280 -> 373215527220529037 [id=\"46.args[0]\"]\n\t-1225281549528902280 -> 2324029380516624993 [id=\"46.args[1]\"]\n\t-5946390884222548027 -> -4026156745362701453 [id=\"47.args[1]\"]\n\t-5946390884222548027 -> 4776563505591080410 [id=\"47.args[2]\"]\n\t31629494541935557 -> -1179216559442407107 [id=\"8.args[1]\"]\n\t-1179216559442407107 [label=\"FunctionOne.create\" id=7]\n\t-1179216559442407107 -> -152929591850720212 [id=\"7.args[0]\"]\n\t-152929591850720212 [label=\"'fib'\" id=10]\n\t-1179216559442407107 -> 6322556590370627269 [id=\"7.args[1]\"]\n\t6322556590370627269 [label=\"Abstraction.create\" id=12]\n\t6322556590370627269 -> 7225057294054644668 [id=\"12.args[0]\"]\n\t7225057294054644668 [label=\"Abstraction.create_variable\" id=14]\n\t7225057294054644668 -> 7529033636292942280 [id=\"14.args[0]\"]\n\t7529033636292942280 [label=\"Variable(4489407904)\" id=13]\n\t6322556590370627269 -> -3589695083090533783 [id=\"12.args[1]\"]\n\t-3589695083090533783 [label=\"RegisteredFunctionThree.__call__\" id=20]\n\t-3589695083090533783 -> 3729616403031677571 [id=\"20.args[0]\"]\n\t3729616403031677571 [label=\"Pair.right\" id=15]\n\t3729616403031677571 -> -3670431217617719914 [id=\"15.args[0]\"]\n\t-3589695083090533783 -> 7225057294054644668 [id=\"20.args[1]\"]\n\t-3589695083090533783 -> 6252234403416070464 [id=\"20.args[2]\"]\n\t6252234403416070464 [label=\"Integer.from_int\" id=17]\n\t6252234403416070464 -> 8958813984667811475 [id=\"17.args[0]\"]\n\t8958813984667811475 [label=0 id=16]\n\t-3589695083090533783 -> 2324029380516624993 [id=\"20.args[3]\"]\n}",
         "label": null,
         "rule": "metadsl_core.function.three_abstraction"
        },
        {
         "graph": "digraph {\n\tnode [shape=plain]\n\tedge [arrowsize=0.5 penwidth=0.5]\n\t31629494541935557 [label=\"Module.register_function_one\" id=8]\n\t31629494541935557 -> -7428108612840939685 [id=\"8.args[0]\"]\n\t-7428108612840939685 [label=\"Pair.left\" id=5]\n\t-7428108612840939685 -> -3670431217617719914 [id=\"5.args[0]\"]\n\t-3670431217617719914 [label=\"Module.register_function_three\" id=4]\n\t-3670431217617719914 -> 3648180171099576616 [id=\"4.args[0]\"]\n\t3648180171099576616 [label=\"Module.create\" id=1]\n\t3648180171099576616 -> 3739358493955255257 [id=\"1.args[0]\"]\n\t3739358493955255257 [label=\"'Main'\" id=9]\n\t-3670431217617719914 -> 5360670798904346998 [id=\"4.args[1]\"]\n\t5360670798904346998 [label=\"FunctionThree.create\" id=3]\n\t5360670798904346998 -> 8889008873117166537 [id=\"3.args[0]\"]\n\t8889008873117166537 [label=\"'fib_more'\" id=21]\n\t5360670798904346998 -> 7343235409108112081 [id=\"3.args[1]\"]\n\t7343235409108112081 [label=\"Abstraction.fix\" id=24]\n\t7343235409108112081 -> -1086851982997915605 [id=\"24.args[0]\"]\n\t-1086851982997915605 [label=\"Abstraction.create\" id=23]\n\t-1086851982997915605 -> -1390319224234856313 [id=\"23.args[0]\"]\n\t-1390319224234856313 [label=\"Abstraction.create_variable\" id=26]\n\t-1390319224234856313 -> 7529033638517531155 [id=\"26.args[0]\"]\n\t7529033638517531155 [label=\"Variable(4489440560)\" id=25]\n\t-1086851982997915605 -> -7611029271073414541 [id=\"23.args[1]\"]\n\t-7611029271073414541 [label=\"Abstraction.create\" id=28]\n\t-7611029271073414541 -> 373215527220529037 [id=\"28.args[0]\"]\n\t373215527220529037 [label=\"Abstraction.create_variable\" id=30]\n\t373215527220529037 -> 7529039014869283455 [id=\"30.args[0]\"]\n\t7529039014869283455 [label=\"Variable(4569421808)\" id=29]\n\t-7611029271073414541 -> 1531054781655600976 [id=\"28.args[1]\"]\n\t1531054781655600976 [label=\"Abstraction.create\" id=32]\n\t1531054781655600976 -> 4776563505591080410 [id=\"32.args[0]\"]\n\t4776563505591080410 [label=\"Abstraction.create_variable\" id=34]\n\t4776563505591080410 -> 7529039006633433255 [id=\"34.args[0]\"]\n\t7529039006633433255 [label=\"Variable(4569545584)\" id=33]\n\t1531054781655600976 -> 591707745475350603 [id=\"32.args[1]\"]\n\t591707745475350603 [label=\"Abstraction.create\" id=36]\n\t591707745475350603 -> -4026156745362701453 [id=\"36.args[0]\"]\n\t-4026156745362701453 [label=\"Abstraction.create_variable\" id=38]\n\t-4026156745362701453 -> -1694333034442107528 [id=\"38.args[0]\"]\n\t-1694333034442107528 [label=\"Variable(4569474216)\" id=37]\n\t591707745475350603 -> -6248107118729238257 [id=\"36.args[1]\"]\n\t-6248107118729238257 [label=\"Boolean.if_\" id=48]\n\t-6248107118729238257 -> 6168396556631660139 [id=\"48.args[0]\"]\n\t6168396556631660139 [label=\"Integer.__gt__\" id=41]\n\t6168396556631660139 -> 373215527220529037 [id=\"41.args[0]\"]\n\t6168396556631660139 -> 2324029380516624993 [id=\"41.args[1]\"]\n\t2324029380516624993 [label=\"Integer.from_int\" id=40]\n\t2324029380516624993 -> 8958813984668894000 [id=\"40.args[0]\"]\n\t8958813984668894000 [label=1 id=39]\n\t-6248107118729238257 -> -1340134427290002658 [id=\"48.args[1]\"]\n\t-1340134427290002658 [label=\"Abstraction.__call__\" id=45]\n\t-1340134427290002658 -> 4823499627323598079 [id=\"45.args[0]\"]\n\t4823499627323598079 [label=\"Abstraction.__call__\" id=53]\n\t4823499627323598079 -> -3108582552256618520 [id=\"53.args[0]\"]\n\t-3108582552256618520 [label=\"Abstraction.__call__\" id=52]\n\t-3108582552256618520 -> -1390319224234856313 [id=\"52.args[0]\"]\n\t-3108582552256618520 -> -9160890527699161279 [id=\"52.args[1]\"]\n\t-9160890527699161279 [label=\"Integer.__sub__\" id=51]\n\t-9160890527699161279 -> 373215527220529037 [id=\"51.args[0]\"]\n\t-9160890527699161279 -> 2324029380516624993 [id=\"51.args[1]\"]\n\t4823499627323598079 -> -4026156745362701453 [id=\"53.args[1]\"]\n\t-1340134427290002658 -> -3440912726818207677 [id=\"45.args[1]\"]\n\t-3440912726818207677 [label=\"Integer.__add__\" id=54]\n\t-3440912726818207677 -> 4776563505591080410 [id=\"54.args[0]\"]\n\t-3440912726818207677 -> -4026156745362701453 [id=\"54.args[1]\"]\n\t-6248107118729238257 -> -5946390884222548027 [id=\"48.args[2]\"]\n\t-5946390884222548027 [label=\"Boolean.if_\" id=47]\n\t-5946390884222548027 -> -1225281549528902280 [id=\"47.args[0]\"]\n\t-1225281549528902280 [label=\"Integer.eq\" id=46]\n\t-1225281549528902280 -> 373215527220529037 [id=\"46.args[0]\"]\n\t-1225281549528902280 -> 2324029380516624993 [id=\"46.args[1]\"]\n\t-5946390884222548027 -> -4026156745362701453 [id=\"47.args[1]\"]\n\t-5946390884222548027 -> 4776563505591080410 [id=\"47.args[2]\"]\n\t31629494541935557 -> -1179216559442407107 [id=\"8.args[1]\"]\n\t-1179216559442407107 [label=\"FunctionOne.create\" id=7]\n\t-1179216559442407107 -> -152929591850720212 [id=\"7.args[0]\"]\n\t-152929591850720212 [label=\"'fib'\" id=10]\n\t-1179216559442407107 -> 6322556590370627269 [id=\"7.args[1]\"]\n\t6322556590370627269 [label=\"Abstraction.create\" id=12]\n\t6322556590370627269 -> 7225057294054644668 [id=\"12.args[0]\"]\n\t7225057294054644668 [label=\"Abstraction.create_variable\" id=14]\n\t7225057294054644668 -> 7529033636292942280 [id=\"14.args[0]\"]\n\t7529033636292942280 [label=\"Variable(4489407904)\" id=13]\n\t6322556590370627269 -> -3589695083090533783 [id=\"12.args[1]\"]\n\t-3589695083090533783 [label=\"RegisteredFunctionThree.__call__\" id=20]\n\t-3589695083090533783 -> 3729616403031677571 [id=\"20.args[0]\"]\n\t3729616403031677571 [label=\"Pair.right\" id=15]\n\t3729616403031677571 -> -3670431217617719914 [id=\"15.args[0]\"]\n\t-3589695083090533783 -> 7225057294054644668 [id=\"20.args[1]\"]\n\t-3589695083090533783 -> 6252234403416070464 [id=\"20.args[2]\"]\n\t6252234403416070464 [label=\"Integer.from_int\" id=17]\n\t6252234403416070464 -> 8958813984667811475 [id=\"17.args[0]\"]\n\t8958813984667811475 [label=0 id=16]\n\t-3589695083090533783 -> 2324029380516624993 [id=\"20.args[3]\"]\n}",
         "label": "core",
         "rule": ""
        }
       ]
      },
      "text/plain": [
       "Typez(definitions=None, nodes={'3739358493955255257': ['9', PrimitiveNode(type='str', repr=\"'Main'\")], '3648180171099576616': ['1', CallNode(function='Module.create', type_params=None, args=['3739358493955255257'], kwargs=None)], '-264283582861897233': ['2', PrimitiveNode(type='function', repr='<function fib_more at 0x1105bf0d0>')], '4769008740378661750': ['3', CallNode(function='FunctionThree.from_fn_recursive', type_params=None, args=['-264283582861897233'], kwargs=None)], '-7723712405287337066': ['4', CallNode(function='Module.register_function_three', type_params=None, args=['3648180171099576616', '4769008740378661750'], kwargs=None)], '-2506733314811801667': ['5', CallNode(function='Pair.left', type_params={'U': DeclaredTypeInstance(type='RegisteredFunctionThree', params={'X': DeclaredTypeInstance(type='Integer', params=None), 'V': DeclaredTypeInstance(type='Integer', params=None), 'U': DeclaredTypeInstance(type='Integer', params=None), 'T': DeclaredTypeInstance(type='Integer', params=None)}), 'T': DeclaredTypeInstance(type='Module', params=None)}, args=['-7723712405287337066'], kwargs=None)], '8959088453871635775': ['11', PrimitiveNode(type='function', repr='<function fib at 0x1105bf9d8>')], '8327221465090444047': ['7', CallNode(function='FunctionOne.from_fn', type_params=None, args=['8959088453871635775'], kwargs=None)], '7780966965377999920': ['8', CallNode(function='Module.register_function_one', type_params=None, args=['-2506733314811801667', '8327221465090444047'], kwargs=None)], '-152929591850720212': ['10', PrimitiveNode(type='str', repr=\"'fib'\")], '3630712035543858351': ['12', CallNode(function='Abstraction.from_fn', type_params=None, args=['8959088453871635775'], kwargs=None)], '-3090978463468084512': ['7', CallNode(function='FunctionOne.create', type_params={'U': DeclaredTypeInstance(type='Integer', params=None), 'T': DeclaredTypeInstance(type='Integer', params=None)}, args=['-152929591850720212', '3630712035543858351'], kwargs=None)], '2225755738139318763': ['8', CallNode(function='Module.register_function_one', type_params=None, args=['-2506733314811801667', '-3090978463468084512'], kwargs=None)], '7529033636292942280': ['13', PrimitiveNode(type='Variable', repr='Variable(4489407904)')], '7225057294054644668': ['14', CallNode(function='Abstraction.create_variable', type_params={'U': DeclaredTypeInstance(type='Integer', params=None), 'T': DeclaredTypeInstance(type='Integer', params=None)}, args=['7529033636292942280'], kwargs=None)], '-6390311065112076907': ['15', CallNode(function='Pair.right', type_params={'U': DeclaredTypeInstance(type='RegisteredFunctionThree', params={'X': DeclaredTypeInstance(type='Integer', params=None), 'V': DeclaredTypeInstance(type='Integer', params=None), 'U': DeclaredTypeInstance(type='Integer', params=None), 'T': DeclaredTypeInstance(type='Integer', params=None)}), 'T': DeclaredTypeInstance(type='Module', params=None)}, args=['-7723712405287337066'], kwargs=None)], '8958813984667811475': ['16', PrimitiveNode(type='int', repr='0')], '6252234403416070464': ['17', CallNode(function='Integer.from_int', type_params=None, args=['8958813984667811475'], kwargs=None)], '8958813984668894000': ['39', PrimitiveNode(type='int', repr='1')], '2324029380516624993': ['40', CallNode(function='Integer.from_int', type_params=None, args=['8958813984668894000'], kwargs=None)], '627958922987854448': ['20', CallNode(function='RegisteredFunctionThree.__call__', type_params={'X': DeclaredTypeInstance(type='Integer', params=None), 'V': DeclaredTypeInstance(type='Integer', params=None), 'U': DeclaredTypeInstance(type='Integer', params=None), 'T': DeclaredTypeInstance(type='Integer', params=None)}, args=['-6390311065112076907', '7225057294054644668', '6252234403416070464', '2324029380516624993'], kwargs=None)], '-1307991930381336899': ['12', CallNode(function='Abstraction.create', type_params={'U': DeclaredTypeInstance(type='Integer', params=None), 'T': DeclaredTypeInstance(type='Integer', params=None)}, args=['7225057294054644668', '627958922987854448'], kwargs=None)], '6622009004168496831': ['7', CallNode(function='FunctionOne.create', type_params={'U': DeclaredTypeInstance(type='Integer', params=None), 'T': DeclaredTypeInstance(type='Integer', params=None)}, args=['-152929591850720212', '-1307991930381336899'], kwargs=None)], '-4781116979660372459': ['8', CallNode(function='Module.register_function_one', type_params=None, args=['-2506733314811801667', '6622009004168496831'], kwargs=None)], '8889008873117166537': ['21', PrimitiveNode(type='str', repr=\"'fib_more'\")], '1826809319247311855': ['22', PrimitiveNode(type='FunctionReplaceTyping', repr=\"FunctionReplaceTyping(fn=<function FunctionThree.from_fn_recursive.<locals>.inner at 0x110587ea0>, typevars={~V: <class 'metadsl_core.integer.Integer'>, ~U: <class 'metadsl_core.integer.Integer'>, ~T: <class 'metadsl_core.integer.Integer'>, ~X: <class 'metadsl_core.integer.Integer'>}, typevars_in_scope={~U, ~T, ~V, ~X})\")], '701565595520716670': ['23', CallNode(function='Abstraction.from_fn', type_params=None, args=['1826809319247311855'], kwargs=None)], '8971409290396777648': ['24', CallNode(function='Abstraction.fix', type_params=None, args=['701565595520716670'], kwargs=None)], '550774990052228171': ['3', CallNode(function='FunctionThree.create', type_params={'X': DeclaredTypeInstance(type='Integer', params=None), 'V': DeclaredTypeInstance(type='Integer', params=None), 'U': DeclaredTypeInstance(type='Integer', params=None), 'T': DeclaredTypeInstance(type='Integer', params=None)}, args=['8889008873117166537', '8971409290396777648'], kwargs=None)], '-1535261586339128617': ['4', CallNode(function='Module.register_function_three', type_params=None, args=['3648180171099576616', '550774990052228171'], kwargs=None)], '2396026869258155825': ['5', CallNode(function='Pair.left', type_params={'U': DeclaredTypeInstance(type='RegisteredFunctionThree', params={'X': DeclaredTypeInstance(type='Integer', params=None), 'V': DeclaredTypeInstance(type='Integer', params=None), 'U': DeclaredTypeInstance(type='Integer', params=None), 'T': DeclaredTypeInstance(type='Integer', params=None)}), 'T': DeclaredTypeInstance(type='Module', params=None)}, args=['-1535261586339128617'], kwargs=None)], '2605085185839729897': ['15', CallNode(function='Pair.right', type_params={'U': DeclaredTypeInstance(type='RegisteredFunctionThree', params={'X': DeclaredTypeInstance(type='Integer', params=None), 'V': DeclaredTypeInstance(type='Integer', params=None), 'U': DeclaredTypeInstance(type='Integer', params=None), 'T': DeclaredTypeInstance(type='Integer', params=None)}), 'T': DeclaredTypeInstance(type='Module', params=None)}, args=['-1535261586339128617'], kwargs=None)], '-2784150623800114973': ['20', CallNode(function='RegisteredFunctionThree.__call__', type_params={'X': DeclaredTypeInstance(type='Integer', params=None), 'V': DeclaredTypeInstance(type='Integer', params=None), 'U': DeclaredTypeInstance(type='Integer', params=None), 'T': DeclaredTypeInstance(type='Integer', params=None)}, args=['2605085185839729897', '7225057294054644668', '6252234403416070464', '2324029380516624993'], kwargs=None)], '7744299883531923367': ['12', CallNode(function='Abstraction.create', type_params={'U': DeclaredTypeInstance(type='Integer', params=None), 'T': DeclaredTypeInstance(type='Integer', params=None)}, args=['7225057294054644668', '-2784150623800114973'], kwargs=None)], '3456763755303611590': ['7', CallNode(function='FunctionOne.create', type_params={'U': DeclaredTypeInstance(type='Integer', params=None), 'T': DeclaredTypeInstance(type='Integer', params=None)}, args=['-152929591850720212', '7744299883531923367'], kwargs=None)], '7692464218490062041': ['8', CallNode(function='Module.register_function_one', type_params=None, args=['2396026869258155825', '3456763755303611590'], kwargs=None)], '7529033638517531155': ['25', PrimitiveNode(type='Variable', repr='Variable(4489440560)')], '-1390319224234856313': ['26', CallNode(function='Abstraction.create_variable', type_params={'U': DeclaredTypeInstance(type='Abstraction', params={'U': DeclaredTypeInstance(type='Abstraction', params={'U': DeclaredTypeInstance(type='Abstraction', params={'U': DeclaredTypeInstance(type='Integer', params=None), 'T': DeclaredTypeInstance(type='Integer', params=None)}), 'T': DeclaredTypeInstance(type='Integer', params=None)}), 'T': DeclaredTypeInstance(type='Integer', params=None)}), 'T': DeclaredTypeInstance(type='Abstraction', params={'U': DeclaredTypeInstance(type='Abstraction', params={'U': DeclaredTypeInstance(type='Abstraction', params={'U': DeclaredTypeInstance(type='Integer', params=None), 'T': DeclaredTypeInstance(type='Integer', params=None)}), 'T': DeclaredTypeInstance(type='Integer', params=None)}), 'T': DeclaredTypeInstance(type='Integer', params=None)})}, args=['7529033638517531155'], kwargs=None)], '1826809484397325855': ['27', PrimitiveNode(type='FunctionReplaceTyping', repr=\"FunctionReplaceTyping(fn=<function FunctionThree.from_fn_recursive.<locals>.inner.<locals>.inner at 0x1105878c8>, typevars={~V: <class 'metadsl_core.integer.Integer'>, ~U: <class 'metadsl_core.integer.Integer'>, ~T: <class 'metadsl_core.integer.Integer'>, ~X: <class 'metadsl_core.integer.Integer'>}, typevars_in_scope={~U, ~T, ~V, ~X})\")], '8260787455101400718': ['28', CallNode(function='Abstraction.from_fn', type_params=None, args=['1826809484397325855'], kwargs=None)], '-4997399667303108816': ['23', CallNode(function='Abstraction.create', type_params={'U': DeclaredTypeInstance(type='Abstraction', params={'U': DeclaredTypeInstance(type='Abstraction', params={'U': DeclaredTypeInstance(type='Abstraction', params={'U': DeclaredTypeInstance(type='Integer', params=None), 'T': DeclaredTypeInstance(type='Integer', params=None)}), 'T': DeclaredTypeInstance(type='Integer', params=None)}), 'T': DeclaredTypeInstance(type='Integer', params=None)}), 'T': DeclaredTypeInstance(type='Abstraction', params={'U': DeclaredTypeInstance(type='Abstraction', params={'U': DeclaredTypeInstance(type='Abstraction', params={'U': DeclaredTypeInstance(type='Integer', params=None), 'T': DeclaredTypeInstance(type='Integer', params=None)}), 'T': DeclaredTypeInstance(type='Integer', params=None)}), 'T': DeclaredTypeInstance(type='Integer', params=None)})}, args=['-1390319224234856313', '8260787455101400718'], kwargs=None)], '-7594750696473561792': ['24', CallNode(function='Abstraction.fix', type_params=None, args=['-4997399667303108816'], kwargs=None)], '-3229391614538081899': ['3', CallNode(function='FunctionThree.create', type_params={'X': DeclaredTypeInstance(type='Integer', params=None), 'V': DeclaredTypeInstance(type='Integer', params=None), 'U': DeclaredTypeInstance(type='Integer', params=None), 'T': DeclaredTypeInstance(type='Integer', params=None)}, args=['8889008873117166537', '-7594750696473561792'], kwargs=None)], '-3803497085167891278': ['4', CallNode(function='Module.register_function_three', type_params=None, args=['3648180171099576616', '-3229391614538081899'], kwargs=None)], '3994268840618502551': ['5', CallNode(function='Pair.left', type_params={'U': DeclaredTypeInstance(type='RegisteredFunctionThree', params={'X': DeclaredTypeInstance(type='Integer', params=None), 'V': DeclaredTypeInstance(type='Integer', params=None), 'U': DeclaredTypeInstance(type='Integer', params=None), 'T': DeclaredTypeInstance(type='Integer', params=None)}), 'T': DeclaredTypeInstance(type='Module', params=None)}, args=['-3803497085167891278'], kwargs=None)], '-261869278614924129': ['15', CallNode(function='Pair.right', type_params={'U': DeclaredTypeInstance(type='RegisteredFunctionThree', params={'X': DeclaredTypeInstance(type='Integer', params=None), 'V': DeclaredTypeInstance(type='Integer', params=None), 'U': DeclaredTypeInstance(type='Integer', params=None), 'T': DeclaredTypeInstance(type='Integer', params=None)}), 'T': DeclaredTypeInstance(type='Module', params=None)}, args=['-3803497085167891278'], kwargs=None)], '-6273475886887103596': ['20', CallNode(function='RegisteredFunctionThree.__call__', type_params={'X': DeclaredTypeInstance(type='Integer', params=None), 'V': DeclaredTypeInstance(type='Integer', params=None), 'U': DeclaredTypeInstance(type='Integer', params=None), 'T': DeclaredTypeInstance(type='Integer', params=None)}, args=['-261869278614924129', '7225057294054644668', '6252234403416070464', '2324029380516624993'], kwargs=None)], '-6721234090305836585': ['12', CallNode(function='Abstraction.create', type_params={'U': DeclaredTypeInstance(type='Integer', params=None), 'T': DeclaredTypeInstance(type='Integer', params=None)}, args=['7225057294054644668', '-6273475886887103596'], kwargs=None)], '-5161831499569901257': ['7', CallNode(function='FunctionOne.create', type_params={'U': DeclaredTypeInstance(type='Integer', params=None), 'T': DeclaredTypeInstance(type='Integer', params=None)}, args=['-152929591850720212', '-6721234090305836585'], kwargs=None)], '7264277494719425837': ['8', CallNode(function='Module.register_function_one', type_params=None, args=['3994268840618502551', '-5161831499569901257'], kwargs=None)], '7529039014869283455': ['29', PrimitiveNode(type='Variable', repr='Variable(4569421808)')], '373215527220529037': ['30', CallNode(function='Abstraction.create_variable', type_params={'U': DeclaredTypeInstance(type='Abstraction', params={'U': DeclaredTypeInstance(type='Abstraction', params={'U': DeclaredTypeInstance(type='Integer', params=None), 'T': DeclaredTypeInstance(type='Integer', params=None)}), 'T': DeclaredTypeInstance(type='Integer', params=None)}), 'T': DeclaredTypeInstance(type='Integer', params=None)}, args=['7529039014869283455'], kwargs=None)], '1826809318485214255': ['31', PrimitiveNode(type='FunctionReplaceTyping', repr=\"FunctionReplaceTyping(fn=<function FunctionThree.from_fn_recursive.<locals>.inner.<locals>.inner.<locals>.inner at 0x10b973bf8>, typevars={~V: <class 'metadsl_core.integer.Integer'>, ~U: <class 'metadsl_core.integer.Integer'>, ~T: <class 'metadsl_core.integer.Integer'>, ~X: <class 'metadsl_core.integer.Integer'>}, typevars_in_scope={~U, ~T, ~V, ~X})\")], '-1748824064971166914': ['32', CallNode(function='Abstraction.from_fn', type_params=None, args=['1826809318485214255'], kwargs=None)], '-7037911870691272259': ['28', CallNode(function='Abstraction.create', type_params={'U': DeclaredTypeInstance(type='Abstraction', params={'U': DeclaredTypeInstance(type='Abstraction', params={'U': DeclaredTypeInstance(type='Integer', params=None), 'T': DeclaredTypeInstance(type='Integer', params=None)}), 'T': DeclaredTypeInstance(type='Integer', params=None)}), 'T': DeclaredTypeInstance(type='Integer', params=None)}, args=['373215527220529037', '-1748824064971166914'], kwargs=None)], '-5495488599216863335': ['23', CallNode(function='Abstraction.create', type_params={'U': DeclaredTypeInstance(type='Abstraction', params={'U': DeclaredTypeInstance(type='Abstraction', params={'U': DeclaredTypeInstance(type='Abstraction', params={'U': DeclaredTypeInstance(type='Integer', params=None), 'T': DeclaredTypeInstance(type='Integer', params=None)}), 'T': DeclaredTypeInstance(type='Integer', params=None)}), 'T': DeclaredTypeInstance(type='Integer', params=None)}), 'T': DeclaredTypeInstance(type='Abstraction', params={'U': DeclaredTypeInstance(type='Abstraction', params={'U': DeclaredTypeInstance(type='Abstraction', params={'U': DeclaredTypeInstance(type='Integer', params=None), 'T': DeclaredTypeInstance(type='Integer', params=None)}), 'T': DeclaredTypeInstance(type='Integer', params=None)}), 'T': DeclaredTypeInstance(type='Integer', params=None)})}, args=['-1390319224234856313', '-7037911870691272259'], kwargs=None)], '8686367750381438437': ['24', CallNode(function='Abstraction.fix', type_params=None, args=['-5495488599216863335'], kwargs=None)], '-7868986453542138382': ['3', CallNode(function='FunctionThree.create', type_params={'X': DeclaredTypeInstance(type='Integer', params=None), 'V': DeclaredTypeInstance(type='Integer', params=None), 'U': DeclaredTypeInstance(type='Integer', params=None), 'T': DeclaredTypeInstance(type='Integer', params=None)}, args=['8889008873117166537', '8686367750381438437'], kwargs=None)], '6306451704246019899': ['4', CallNode(function='Module.register_function_three', type_params=None, args=['3648180171099576616', '-7868986453542138382'], kwargs=None)], '-7582112663647777645': ['5', CallNode(function='Pair.left', type_params={'U': DeclaredTypeInstance(type='RegisteredFunctionThree', params={'X': DeclaredTypeInstance(type='Integer', params=None), 'V': DeclaredTypeInstance(type='Integer', params=None), 'U': DeclaredTypeInstance(type='Integer', params=None), 'T': DeclaredTypeInstance(type='Integer', params=None)}), 'T': DeclaredTypeInstance(type='Module', params=None)}, args=['6306451704246019899'], kwargs=None)], '-315543480359228085': ['15', CallNode(function='Pair.right', type_params={'U': DeclaredTypeInstance(type='RegisteredFunctionThree', params={'X': DeclaredTypeInstance(type='Integer', params=None), 'V': DeclaredTypeInstance(type='Integer', params=None), 'U': DeclaredTypeInstance(type='Integer', params=None), 'T': DeclaredTypeInstance(type='Integer', params=None)}), 'T': DeclaredTypeInstance(type='Module', params=None)}, args=['6306451704246019899'], kwargs=None)], '8946457072410364648': ['20', CallNode(function='RegisteredFunctionThree.__call__', type_params={'X': DeclaredTypeInstance(type='Integer', params=None), 'V': DeclaredTypeInstance(type='Integer', params=None), 'U': DeclaredTypeInstance(type='Integer', params=None), 'T': DeclaredTypeInstance(type='Integer', params=None)}, args=['-315543480359228085', '7225057294054644668', '6252234403416070464', '2324029380516624993'], kwargs=None)], '-2425752213715075984': ['12', CallNode(function='Abstraction.create', type_params={'U': DeclaredTypeInstance(type='Integer', params=None), 'T': DeclaredTypeInstance(type='Integer', params=None)}, args=['7225057294054644668', '8946457072410364648'], kwargs=None)], '-8468381326675022331': ['7', CallNode(function='FunctionOne.create', type_params={'U': DeclaredTypeInstance(type='Integer', params=None), 'T': DeclaredTypeInstance(type='Integer', params=None)}, args=['-152929591850720212', '-2425752213715075984'], kwargs=None)], '-2190316483644495516': ['8', CallNode(function='Module.register_function_one', type_params=None, args=['-7582112663647777645', '-8468381326675022331'], kwargs=None)], '7529039006633433255': ['33', PrimitiveNode(type='Variable', repr='Variable(4569545584)')], '4776563505591080410': ['34', CallNode(function='Abstraction.create_variable', type_params={'U': DeclaredTypeInstance(type='Abstraction', params={'U': DeclaredTypeInstance(type='Integer', params=None), 'T': DeclaredTypeInstance(type='Integer', params=None)}), 'T': DeclaredTypeInstance(type='Integer', params=None)}, args=['7529039006633433255'], kwargs=None)], '1826809485297986655': ['35', PrimitiveNode(type='FunctionReplaceTyping', repr=\"FunctionReplaceTyping(fn=<function FunctionThree.from_fn_recursive.<locals>.inner.<locals>.inner.<locals>.inner.<locals>.inner at 0x10b973b70>, typevars={~V: <class 'metadsl_core.integer.Integer'>, ~U: <class 'metadsl_core.integer.Integer'>, ~T: <class 'metadsl_core.integer.Integer'>, ~X: <class 'metadsl_core.integer.Integer'>}, typevars_in_scope={~U, ~T, ~V, ~X})\")], '4384831319452064078': ['36', CallNode(function='Abstraction.from_fn', type_params=None, args=['1826809485297986655'], kwargs=None)], '-3452699470144248868': ['32', CallNode(function='Abstraction.create', type_params={'U': DeclaredTypeInstance(type='Abstraction', params={'U': DeclaredTypeInstance(type='Integer', params=None), 'T': DeclaredTypeInstance(type='Integer', params=None)}), 'T': DeclaredTypeInstance(type='Integer', params=None)}, args=['4776563505591080410', '4384831319452064078'], kwargs=None)], '4810958335469189930': ['28', CallNode(function='Abstraction.create', type_params={'U': DeclaredTypeInstance(type='Abstraction', params={'U': DeclaredTypeInstance(type='Abstraction', params={'U': DeclaredTypeInstance(type='Integer', params=None), 'T': DeclaredTypeInstance(type='Integer', params=None)}), 'T': DeclaredTypeInstance(type='Integer', params=None)}), 'T': DeclaredTypeInstance(type='Integer', params=None)}, args=['373215527220529037', '-3452699470144248868'], kwargs=None)], '-8568194487643077313': ['23', CallNode(function='Abstraction.create', type_params={'U': DeclaredTypeInstance(type='Abstraction', params={'U': DeclaredTypeInstance(type='Abstraction', params={'U': DeclaredTypeInstance(type='Abstraction', params={'U': DeclaredTypeInstance(type='Integer', params=None), 'T': DeclaredTypeInstance(type='Integer', params=None)}), 'T': DeclaredTypeInstance(type='Integer', params=None)}), 'T': DeclaredTypeInstance(type='Integer', params=None)}), 'T': DeclaredTypeInstance(type='Abstraction', params={'U': DeclaredTypeInstance(type='Abstraction', params={'U': DeclaredTypeInstance(type='Abstraction', params={'U': DeclaredTypeInstance(type='Integer', params=None), 'T': DeclaredTypeInstance(type='Integer', params=None)}), 'T': DeclaredTypeInstance(type='Integer', params=None)}), 'T': DeclaredTypeInstance(type='Integer', params=None)})}, args=['-1390319224234856313', '4810958335469189930'], kwargs=None)], '-2869757300318600486': ['24', CallNode(function='Abstraction.fix', type_params=None, args=['-8568194487643077313'], kwargs=None)], '-2895026332640526551': ['3', CallNode(function='FunctionThree.create', type_params={'X': DeclaredTypeInstance(type='Integer', params=None), 'V': DeclaredTypeInstance(type='Integer', params=None), 'U': DeclaredTypeInstance(type='Integer', params=None), 'T': DeclaredTypeInstance(type='Integer', params=None)}, args=['8889008873117166537', '-2869757300318600486'], kwargs=None)], '-1785576690257838106': ['4', CallNode(function='Module.register_function_three', type_params=None, args=['3648180171099576616', '-2895026332640526551'], kwargs=None)], '2313083977819939084': ['5', CallNode(function='Pair.left', type_params={'U': DeclaredTypeInstance(type='RegisteredFunctionThree', params={'X': DeclaredTypeInstance(type='Integer', params=None), 'V': DeclaredTypeInstance(type='Integer', params=None), 'U': DeclaredTypeInstance(type='Integer', params=None), 'T': DeclaredTypeInstance(type='Integer', params=None)}), 'T': DeclaredTypeInstance(type='Module', params=None)}, args=['-1785576690257838106'], kwargs=None)], '3063240454349127956': ['15', CallNode(function='Pair.right', type_params={'U': DeclaredTypeInstance(type='RegisteredFunctionThree', params={'X': DeclaredTypeInstance(type='Integer', params=None), 'V': DeclaredTypeInstance(type='Integer', params=None), 'U': DeclaredTypeInstance(type='Integer', params=None), 'T': DeclaredTypeInstance(type='Integer', params=None)}), 'T': DeclaredTypeInstance(type='Module', params=None)}, args=['-1785576690257838106'], kwargs=None)], '5272650496528953134': ['20', CallNode(function='RegisteredFunctionThree.__call__', type_params={'X': DeclaredTypeInstance(type='Integer', params=None), 'V': DeclaredTypeInstance(type='Integer', params=None), 'U': DeclaredTypeInstance(type='Integer', params=None), 'T': DeclaredTypeInstance(type='Integer', params=None)}, args=['3063240454349127956', '7225057294054644668', '6252234403416070464', '2324029380516624993'], kwargs=None)], '-844773804410018563': ['12', CallNode(function='Abstraction.create', type_params={'U': DeclaredTypeInstance(type='Integer', params=None), 'T': DeclaredTypeInstance(type='Integer', params=None)}, args=['7225057294054644668', '5272650496528953134'], kwargs=None)], '5859044924469247871': ['7', CallNode(function='FunctionOne.create', type_params={'U': DeclaredTypeInstance(type='Integer', params=None), 'T': DeclaredTypeInstance(type='Integer', params=None)}, args=['-152929591850720212', '-844773804410018563'], kwargs=None)], '456147733168676208': ['8', CallNode(function='Module.register_function_one', type_params=None, args=['2313083977819939084', '5859044924469247871'], kwargs=None)], '-1694333034442107528': ['37', PrimitiveNode(type='Variable', repr='Variable(4569474216)')], '-4026156745362701453': ['38', CallNode(function='Abstraction.create_variable', type_params={'U': DeclaredTypeInstance(type='Integer', params=None), 'T': DeclaredTypeInstance(type='Integer', params=None)}, args=['-1694333034442107528'], kwargs=None)], '6168396556631660139': ['41', CallNode(function='Integer.__gt__', type_params=None, args=['373215527220529037', '2324029380516624993'], kwargs=None)], '669362939417914167': ['49', CallNode(function='FunctionThree.create', type_params={'X': DeclaredTypeInstance(type='Integer', params=None), 'V': DeclaredTypeInstance(type='Integer', params=None), 'U': DeclaredTypeInstance(type='Integer', params=None), 'T': DeclaredTypeInstance(type='Integer', params=None)}, args=['8889008873117166537', '-1390319224234856313'], kwargs=None)], '-9160890527699161279': ['51', CallNode(function='Integer.__sub__', type_params=None, args=['373215527220529037', '2324029380516624993'], kwargs=None)], '-3440912726818207677': ['54', CallNode(function='Integer.__add__', type_params=None, args=['4776563505591080410', '-4026156745362701453'], kwargs=None)], '-2938754627608559890': ['45', CallNode(function='FunctionThree.__call__', type_params={'X': DeclaredTypeInstance(type='Integer', params=None), 'V': DeclaredTypeInstance(type='Integer', params=None), 'U': DeclaredTypeInstance(type='Integer', params=None), 'T': DeclaredTypeInstance(type='Integer', params=None)}, args=['669362939417914167', '-9160890527699161279', '-4026156745362701453', '-3440912726818207677'], kwargs=None)], '-1225281549528902280': ['46', CallNode(function='Integer.eq', type_params=None, args=['373215527220529037', '2324029380516624993'], kwargs=None)], '-5946390884222548027': ['47', CallNode(function='Boolean.if_', type_params=None, args=['-1225281549528902280', '-4026156745362701453', '4776563505591080410'], kwargs=None)], '-7284255441316731368': ['48', CallNode(function='Boolean.if_', type_params=None, args=['6168396556631660139', '-2938754627608559890', '-5946390884222548027'], kwargs=None)], '7685601962802009075': ['36', CallNode(function='Abstraction.create', type_params={'U': DeclaredTypeInstance(type='Integer', params=None), 'T': DeclaredTypeInstance(type='Integer', params=None)}, args=['-4026156745362701453', '-7284255441316731368'], kwargs=None)], '-937644793028655805': ['32', CallNode(function='Abstraction.create', type_params={'U': DeclaredTypeInstance(type='Abstraction', params={'U': DeclaredTypeInstance(type='Integer', params=None), 'T': DeclaredTypeInstance(type='Integer', params=None)}), 'T': DeclaredTypeInstance(type='Integer', params=None)}, args=['4776563505591080410', '7685601962802009075'], kwargs=None)], '-4877263104295360462': ['28', CallNode(function='Abstraction.create', type_params={'U': DeclaredTypeInstance(type='Abstraction', params={'U': DeclaredTypeInstance(type='Abstraction', params={'U': DeclaredTypeInstance(type='Integer', params=None), 'T': DeclaredTypeInstance(type='Integer', params=None)}), 'T': DeclaredTypeInstance(type='Integer', params=None)}), 'T': DeclaredTypeInstance(type='Integer', params=None)}, args=['373215527220529037', '-937644793028655805'], kwargs=None)], '-5574475494398965013': ['23', CallNode(function='Abstraction.create', type_params={'U': DeclaredTypeInstance(type='Abstraction', params={'U': DeclaredTypeInstance(type='Abstraction', params={'U': DeclaredTypeInstance(type='Abstraction', params={'U': DeclaredTypeInstance(type='Integer', params=None), 'T': DeclaredTypeInstance(type='Integer', params=None)}), 'T': DeclaredTypeInstance(type='Integer', params=None)}), 'T': DeclaredTypeInstance(type='Integer', params=None)}), 'T': DeclaredTypeInstance(type='Abstraction', params={'U': DeclaredTypeInstance(type='Abstraction', params={'U': DeclaredTypeInstance(type='Abstraction', params={'U': DeclaredTypeInstance(type='Integer', params=None), 'T': DeclaredTypeInstance(type='Integer', params=None)}), 'T': DeclaredTypeInstance(type='Integer', params=None)}), 'T': DeclaredTypeInstance(type='Integer', params=None)})}, args=['-1390319224234856313', '-4877263104295360462'], kwargs=None)], '-799453865131163509': ['24', CallNode(function='Abstraction.fix', type_params=None, args=['-5574475494398965013'], kwargs=None)], '-4958589695522401741': ['3', CallNode(function='FunctionThree.create', type_params={'X': DeclaredTypeInstance(type='Integer', params=None), 'V': DeclaredTypeInstance(type='Integer', params=None), 'U': DeclaredTypeInstance(type='Integer', params=None), 'T': DeclaredTypeInstance(type='Integer', params=None)}, args=['8889008873117166537', '-799453865131163509'], kwargs=None)], '6826830606528086889': ['4', CallNode(function='Module.register_function_three', type_params=None, args=['3648180171099576616', '-4958589695522401741'], kwargs=None)], '-7294681629162465275': ['5', CallNode(function='Pair.left', type_params={'U': DeclaredTypeInstance(type='RegisteredFunctionThree', params={'X': DeclaredTypeInstance(type='Integer', params=None), 'V': DeclaredTypeInstance(type='Integer', params=None), 'U': DeclaredTypeInstance(type='Integer', params=None), 'T': DeclaredTypeInstance(type='Integer', params=None)}), 'T': DeclaredTypeInstance(type='Module', params=None)}, args=['6826830606528086889'], kwargs=None)], '-5746582986690185907': ['15', CallNode(function='Pair.right', type_params={'U': DeclaredTypeInstance(type='RegisteredFunctionThree', params={'X': DeclaredTypeInstance(type='Integer', params=None), 'V': DeclaredTypeInstance(type='Integer', params=None), 'U': DeclaredTypeInstance(type='Integer', params=None), 'T': DeclaredTypeInstance(type='Integer', params=None)}), 'T': DeclaredTypeInstance(type='Module', params=None)}, args=['6826830606528086889'], kwargs=None)], '-6254304525192101144': ['20', CallNode(function='RegisteredFunctionThree.__call__', type_params={'X': DeclaredTypeInstance(type='Integer', params=None), 'V': DeclaredTypeInstance(type='Integer', params=None), 'U': DeclaredTypeInstance(type='Integer', params=None), 'T': DeclaredTypeInstance(type='Integer', params=None)}, args=['-5746582986690185907', '7225057294054644668', '6252234403416070464', '2324029380516624993'], kwargs=None)], '2721853500071086443': ['12', CallNode(function='Abstraction.create', type_params={'U': DeclaredTypeInstance(type='Integer', params=None), 'T': DeclaredTypeInstance(type='Integer', params=None)}, args=['7225057294054644668', '-6254304525192101144'], kwargs=None)], '6759473082007332100': ['7', CallNode(function='FunctionOne.create', type_params={'U': DeclaredTypeInstance(type='Integer', params=None), 'T': DeclaredTypeInstance(type='Integer', params=None)}, args=['-152929591850720212', '2721853500071086443'], kwargs=None)], '-2922703863059947646': ['8', CallNode(function='Module.register_function_one', type_params=None, args=['-7294681629162465275', '6759473082007332100'], kwargs=None)], '3619814969167094621': ['50', CallNode(function='FunctionThree.abstraction', type_params={'X': DeclaredTypeInstance(type='Integer', params=None), 'V': DeclaredTypeInstance(type='Integer', params=None), 'U': DeclaredTypeInstance(type='Integer', params=None), 'T': DeclaredTypeInstance(type='Integer', params=None)}, args=['669362939417914167'], kwargs=None)], '-6656922454773741347': ['52', CallNode(function='Abstraction.__call__', type_params={'U': DeclaredTypeInstance(type='Abstraction', params={'U': DeclaredTypeInstance(type='Abstraction', params={'U': DeclaredTypeInstance(type='Integer', params=None), 'T': DeclaredTypeInstance(type='Integer', params=None)}), 'T': DeclaredTypeInstance(type='Integer', params=None)}), 'T': DeclaredTypeInstance(type='Integer', params=None)}, args=['3619814969167094621', '-9160890527699161279'], kwargs=None)], '-3575020684625926765': ['53', CallNode(function='Abstraction.__call__', type_params={'U': DeclaredTypeInstance(type='Abstraction', params={'U': DeclaredTypeInstance(type='Integer', params=None), 'T': DeclaredTypeInstance(type='Integer', params=None)}), 'T': DeclaredTypeInstance(type='Integer', params=None)}, args=['-6656922454773741347', '-4026156745362701453'], kwargs=None)], '-6446468764879701815': ['45', CallNode(function='Abstraction.__call__', type_params={'U': DeclaredTypeInstance(type='Integer', params=None), 'T': DeclaredTypeInstance(type='Integer', params=None)}, args=['-3575020684625926765', '-3440912726818207677'], kwargs=None)], '-7377875860345800818': ['48', CallNode(function='Boolean.if_', type_params=None, args=['6168396556631660139', '-6446468764879701815', '-5946390884222548027'], kwargs=None)], '-1837262976692906419': ['36', CallNode(function='Abstraction.create', type_params={'U': DeclaredTypeInstance(type='Integer', params=None), 'T': DeclaredTypeInstance(type='Integer', params=None)}, args=['-4026156745362701453', '-7377875860345800818'], kwargs=None)], '7135552366343267974': ['32', CallNode(function='Abstraction.create', type_params={'U': DeclaredTypeInstance(type='Abstraction', params={'U': DeclaredTypeInstance(type='Integer', params=None), 'T': DeclaredTypeInstance(type='Integer', params=None)}), 'T': DeclaredTypeInstance(type='Integer', params=None)}, args=['4776563505591080410', '-1837262976692906419'], kwargs=None)], '476398851817032164': ['28', CallNode(function='Abstraction.create', type_params={'U': DeclaredTypeInstance(type='Abstraction', params={'U': DeclaredTypeInstance(type='Abstraction', params={'U': DeclaredTypeInstance(type='Integer', params=None), 'T': DeclaredTypeInstance(type='Integer', params=None)}), 'T': DeclaredTypeInstance(type='Integer', params=None)}), 'T': DeclaredTypeInstance(type='Integer', params=None)}, args=['373215527220529037', '7135552366343267974'], kwargs=None)], '-7269360032246621641': ['23', CallNode(function='Abstraction.create', type_params={'U': DeclaredTypeInstance(type='Abstraction', params={'U': DeclaredTypeInstance(type='Abstraction', params={'U': DeclaredTypeInstance(type='Abstraction', params={'U': DeclaredTypeInstance(type='Integer', params=None), 'T': DeclaredTypeInstance(type='Integer', params=None)}), 'T': DeclaredTypeInstance(type='Integer', params=None)}), 'T': DeclaredTypeInstance(type='Integer', params=None)}), 'T': DeclaredTypeInstance(type='Abstraction', params={'U': DeclaredTypeInstance(type='Abstraction', params={'U': DeclaredTypeInstance(type='Abstraction', params={'U': DeclaredTypeInstance(type='Integer', params=None), 'T': DeclaredTypeInstance(type='Integer', params=None)}), 'T': DeclaredTypeInstance(type='Integer', params=None)}), 'T': DeclaredTypeInstance(type='Integer', params=None)})}, args=['-1390319224234856313', '476398851817032164'], kwargs=None)], '-8547702612516438766': ['24', CallNode(function='Abstraction.fix', type_params=None, args=['-7269360032246621641'], kwargs=None)], '3304149103672326159': ['3', CallNode(function='FunctionThree.create', type_params={'X': DeclaredTypeInstance(type='Integer', params=None), 'V': DeclaredTypeInstance(type='Integer', params=None), 'U': DeclaredTypeInstance(type='Integer', params=None), 'T': DeclaredTypeInstance(type='Integer', params=None)}, args=['8889008873117166537', '-8547702612516438766'], kwargs=None)], '-6784924768096466978': ['4', CallNode(function='Module.register_function_three', type_params=None, args=['3648180171099576616', '3304149103672326159'], kwargs=None)], '1677395441522877198': ['5', CallNode(function='Pair.left', type_params={'U': DeclaredTypeInstance(type='RegisteredFunctionThree', params={'X': DeclaredTypeInstance(type='Integer', params=None), 'V': DeclaredTypeInstance(type='Integer', params=None), 'U': DeclaredTypeInstance(type='Integer', params=None), 'T': DeclaredTypeInstance(type='Integer', params=None)}), 'T': DeclaredTypeInstance(type='Module', params=None)}, args=['-6784924768096466978'], kwargs=None)], '956784345880243062': ['15', CallNode(function='Pair.right', type_params={'U': DeclaredTypeInstance(type='RegisteredFunctionThree', params={'X': DeclaredTypeInstance(type='Integer', params=None), 'V': DeclaredTypeInstance(type='Integer', params=None), 'U': DeclaredTypeInstance(type='Integer', params=None), 'T': DeclaredTypeInstance(type='Integer', params=None)}), 'T': DeclaredTypeInstance(type='Module', params=None)}, args=['-6784924768096466978'], kwargs=None)], '6873265126864484695': ['20', CallNode(function='RegisteredFunctionThree.__call__', type_params={'X': DeclaredTypeInstance(type='Integer', params=None), 'V': DeclaredTypeInstance(type='Integer', params=None), 'U': DeclaredTypeInstance(type='Integer', params=None), 'T': DeclaredTypeInstance(type='Integer', params=None)}, args=['956784345880243062', '7225057294054644668', '6252234403416070464', '2324029380516624993'], kwargs=None)], '6139284224772792814': ['12', CallNode(function='Abstraction.create', type_params={'U': DeclaredTypeInstance(type='Integer', params=None), 'T': DeclaredTypeInstance(type='Integer', params=None)}, args=['7225057294054644668', '6873265126864484695'], kwargs=None)], '-6248493051619200096': ['7', CallNode(function='FunctionOne.create', type_params={'U': DeclaredTypeInstance(type='Integer', params=None), 'T': DeclaredTypeInstance(type='Integer', params=None)}, args=['-152929591850720212', '6139284224772792814'], kwargs=None)], '-414860657600437410': ['8', CallNode(function='Module.register_function_one', type_params=None, args=['1677395441522877198', '-6248493051619200096'], kwargs=None)], '-3108582552256618520': ['52', CallNode(function='Abstraction.__call__', type_params={'U': DeclaredTypeInstance(type='Abstraction', params={'U': DeclaredTypeInstance(type='Abstraction', params={'U': DeclaredTypeInstance(type='Integer', params=None), 'T': DeclaredTypeInstance(type='Integer', params=None)}), 'T': DeclaredTypeInstance(type='Integer', params=None)}), 'T': DeclaredTypeInstance(type='Integer', params=None)}, args=['-1390319224234856313', '-9160890527699161279'], kwargs=None)], '4823499627323598079': ['53', CallNode(function='Abstraction.__call__', type_params={'U': DeclaredTypeInstance(type='Abstraction', params={'U': DeclaredTypeInstance(type='Integer', params=None), 'T': DeclaredTypeInstance(type='Integer', params=None)}), 'T': DeclaredTypeInstance(type='Integer', params=None)}, args=['-3108582552256618520', '-4026156745362701453'], kwargs=None)], '-1340134427290002658': ['45', CallNode(function='Abstraction.__call__', type_params={'U': DeclaredTypeInstance(type='Integer', params=None), 'T': DeclaredTypeInstance(type='Integer', params=None)}, args=['4823499627323598079', '-3440912726818207677'], kwargs=None)], '-6248107118729238257': ['48', CallNode(function='Boolean.if_', type_params=None, args=['6168396556631660139', '-1340134427290002658', '-5946390884222548027'], kwargs=None)], '591707745475350603': ['36', CallNode(function='Abstraction.create', type_params={'U': DeclaredTypeInstance(type='Integer', params=None), 'T': DeclaredTypeInstance(type='Integer', params=None)}, args=['-4026156745362701453', '-6248107118729238257'], kwargs=None)], '1531054781655600976': ['32', CallNode(function='Abstraction.create', type_params={'U': DeclaredTypeInstance(type='Abstraction', params={'U': DeclaredTypeInstance(type='Integer', params=None), 'T': DeclaredTypeInstance(type='Integer', params=None)}), 'T': DeclaredTypeInstance(type='Integer', params=None)}, args=['4776563505591080410', '591707745475350603'], kwargs=None)], '-7611029271073414541': ['28', CallNode(function='Abstraction.create', type_params={'U': DeclaredTypeInstance(type='Abstraction', params={'U': DeclaredTypeInstance(type='Abstraction', params={'U': DeclaredTypeInstance(type='Integer', params=None), 'T': DeclaredTypeInstance(type='Integer', params=None)}), 'T': DeclaredTypeInstance(type='Integer', params=None)}), 'T': DeclaredTypeInstance(type='Integer', params=None)}, args=['373215527220529037', '1531054781655600976'], kwargs=None)], '-1086851982997915605': ['23', CallNode(function='Abstraction.create', type_params={'U': DeclaredTypeInstance(type='Abstraction', params={'U': DeclaredTypeInstance(type='Abstraction', params={'U': DeclaredTypeInstance(type='Abstraction', params={'U': DeclaredTypeInstance(type='Integer', params=None), 'T': DeclaredTypeInstance(type='Integer', params=None)}), 'T': DeclaredTypeInstance(type='Integer', params=None)}), 'T': DeclaredTypeInstance(type='Integer', params=None)}), 'T': DeclaredTypeInstance(type='Abstraction', params={'U': DeclaredTypeInstance(type='Abstraction', params={'U': DeclaredTypeInstance(type='Abstraction', params={'U': DeclaredTypeInstance(type='Integer', params=None), 'T': DeclaredTypeInstance(type='Integer', params=None)}), 'T': DeclaredTypeInstance(type='Integer', params=None)}), 'T': DeclaredTypeInstance(type='Integer', params=None)})}, args=['-1390319224234856313', '-7611029271073414541'], kwargs=None)], '7343235409108112081': ['24', CallNode(function='Abstraction.fix', type_params=None, args=['-1086851982997915605'], kwargs=None)], '5360670798904346998': ['3', CallNode(function='FunctionThree.create', type_params={'X': DeclaredTypeInstance(type='Integer', params=None), 'V': DeclaredTypeInstance(type='Integer', params=None), 'U': DeclaredTypeInstance(type='Integer', params=None), 'T': DeclaredTypeInstance(type='Integer', params=None)}, args=['8889008873117166537', '7343235409108112081'], kwargs=None)], '-3670431217617719914': ['4', CallNode(function='Module.register_function_three', type_params=None, args=['3648180171099576616', '5360670798904346998'], kwargs=None)], '-7428108612840939685': ['5', CallNode(function='Pair.left', type_params={'U': DeclaredTypeInstance(type='RegisteredFunctionThree', params={'X': DeclaredTypeInstance(type='Integer', params=None), 'V': DeclaredTypeInstance(type='Integer', params=None), 'U': DeclaredTypeInstance(type='Integer', params=None), 'T': DeclaredTypeInstance(type='Integer', params=None)}), 'T': DeclaredTypeInstance(type='Module', params=None)}, args=['-3670431217617719914'], kwargs=None)], '3729616403031677571': ['15', CallNode(function='Pair.right', type_params={'U': DeclaredTypeInstance(type='RegisteredFunctionThree', params={'X': DeclaredTypeInstance(type='Integer', params=None), 'V': DeclaredTypeInstance(type='Integer', params=None), 'U': DeclaredTypeInstance(type='Integer', params=None), 'T': DeclaredTypeInstance(type='Integer', params=None)}), 'T': DeclaredTypeInstance(type='Module', params=None)}, args=['-3670431217617719914'], kwargs=None)], '-3589695083090533783': ['20', CallNode(function='RegisteredFunctionThree.__call__', type_params={'X': DeclaredTypeInstance(type='Integer', params=None), 'V': DeclaredTypeInstance(type='Integer', params=None), 'U': DeclaredTypeInstance(type='Integer', params=None), 'T': DeclaredTypeInstance(type='Integer', params=None)}, args=['3729616403031677571', '7225057294054644668', '6252234403416070464', '2324029380516624993'], kwargs=None)], '6322556590370627269': ['12', CallNode(function='Abstraction.create', type_params={'U': DeclaredTypeInstance(type='Integer', params=None), 'T': DeclaredTypeInstance(type='Integer', params=None)}, args=['7225057294054644668', '-3589695083090533783'], kwargs=None)], '-1179216559442407107': ['7', CallNode(function='FunctionOne.create', type_params={'U': DeclaredTypeInstance(type='Integer', params=None), 'T': DeclaredTypeInstance(type='Integer', params=None)}, args=['-152929591850720212', '6322556590370627269'], kwargs=None)], '31629494541935557': ['8', CallNode(function='Module.register_function_one', type_params=None, args=['-7428108612840939685', '-1179216559442407107'], kwargs=None)]}, states=States(initial='7780966965377999920', states=[State(node='2225755738139318763', rule='metadsl_core.function.FunctionOne.from_fn', label=None), State(node='-4781116979660372459', rule='metadsl_core.abstraction.Abstraction.from_fn', label=None), State(node='7692464218490062041', rule='metadsl_core.function.FunctionThree.from_fn_recursive', label=None), State(node='7264277494719425837', rule='metadsl_core.abstraction.Abstraction.from_fn', label=None), State(node='-2190316483644495516', rule='metadsl_core.abstraction.Abstraction.from_fn', label=None), State(node='456147733168676208', rule='metadsl_core.abstraction.Abstraction.from_fn', label=None), State(node='-2922703863059947646', rule='metadsl_core.abstraction.Abstraction.from_fn', label=None), State(node='-414860657600437410', rule='metadsl_core.function.three_call', label=None), State(node='31629494541935557', rule='metadsl_core.function.three_abstraction', label=None), State(node='31629494541935557', rule='', label='core')]))"
      ]
     },
     "metadata": {},
     "output_type": "display_data"
    }
   ],
   "source": [
    "mod = Module.create(\"Main\")\n",
    "\n",
    "@FunctionThree.from_fn_recursive\n",
    "def fib_more(\n",
    "    fn: FunctionThree[Integer, Integer, Integer, Integer],\n",
    "    n: Integer,\n",
    "    a: Integer,\n",
    "    b: Integer,\n",
    ") -> Integer:\n",
    "    pred_cont = n > one\n",
    "    minus1 = n - one\n",
    "    ab = a + b\n",
    "    added = fn(minus1, b, ab)\n",
    "\n",
    "    n_eq_1 = n.eq(one)\n",
    "    return pred_cont.if_(added, n_eq_1.if_(b, a))\n",
    "\n",
    "res = mod.register_function_three(fib_more)\n",
    "mod, fib_more_ref = res.left(), res.right()\n",
    "\n",
    "@FunctionOne.from_fn\n",
    "def fib(n: Integer) -> Integer:\n",
    "    return fib_more_ref(n, zero, one)\n",
    "\n",
    "\n",
    "mod.register_function_one(fib)._ipython_display_()"
   ]
  },
  {
   "cell_type": "code",
   "execution_count": null,
   "metadata": {},
   "outputs": [],
   "source": [
    "fib(Integer.from_int(10))"
   ]
  },
  {
   "cell_type": "code",
   "execution_count": null,
   "metadata": {},
   "outputs": [],
   "source": []
  }
 ],
 "metadata": {
  "kernelspec": {
   "display_name": "Python 3",
   "language": "python",
   "name": "python3"
  },
  "language_info": {
   "codemirror_mode": {
    "name": "ipython",
    "version": 3
   },
   "file_extension": ".py",
   "mimetype": "text/x-python",
   "name": "python",
   "nbconvert_exporter": "python",
   "pygments_lexer": "ipython3",
   "version": "3.7.3"
  }
 },
 "nbformat": 4,
 "nbformat_minor": 4
}
