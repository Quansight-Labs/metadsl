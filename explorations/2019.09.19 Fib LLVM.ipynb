{
 "cells": [
  {
   "cell_type": "code",
   "execution_count": 1,
   "metadata": {},
   "outputs": [],
   "source": [
    "from metadsl import *\n",
    "from metadsl_core import *\n",
    "from metadsl_llvm.pure import *\n",
    "\n",
    "import metadsl_visualize\n",
    "\n",
    "import typez\n",
    "typez.SHOW_TYPES = False\n",
    "\n",
    "# Disable fixed point expansion temporarily\n",
    "run_post_rules(False)"
   ]
  },
  {
   "cell_type": "code",
   "execution_count": 2,
   "metadata": {},
   "outputs": [],
   "source": [
    "one = Integer.from_int(1)\n",
    "zero = Integer.from_int(0)"
   ]
  },
  {
   "cell_type": "code",
   "execution_count": 3,
   "metadata": {},
   "outputs": [
    {
     "data": {
      "application/json": {
       "nodes": {
        "-6229129864761933940": [
         "-7743569556413268874",
         {
          "args": [
           "9020930023439303079",
           "9020930023439303079"
          ],
          "function": "Integer.__sub__"
         }
        ],
        "-7303937537352571971": [
         "-7303937537352571971",
         {
          "args": [
           "-7597290592849074794",
           "-7743569556413268874"
          ],
          "function": "Integer.__add__"
         }
        ],
        "-7555772486395206292": [
         "-7555772486395206292",
         {
          "args": [
           "9020930023439303079",
           "-7597290592849074794"
          ],
          "function": "Integer.__add__"
         }
        ],
        "-7597290592849074794": [
         "-7303937537352571971",
         {
          "args": [
           "8598825711106230675"
          ],
          "function": "Integer.from_int"
         }
        ],
        "-7712934105252650723": [
         "-7303937537352571971",
         {
          "args": [
           "-7597290592849074794",
           "-7597290592849074794"
          ],
          "function": "Integer.__add__"
         }
        ],
        "-7743569556413268874": [
         "-7743569556413268874",
         {
          "args": [
           "-7555772486395206292",
           "-7555772486395206292"
          ],
          "function": "Integer.__sub__"
         }
        ],
        "8178408075829400498": [
         "-7303937537352571971",
         {
          "args": [
           "-7597290592849074794",
           "-6229129864761933940"
          ],
          "function": "Integer.__add__"
         }
        ],
        "8598825711106230675": [
         "8598825711106230675",
         {
          "repr": "0",
          "type": "int"
         }
        ],
        "8598825711107313200": [
         "8598825711107313200",
         {
          "repr": "1",
          "type": "int"
         }
        ],
        "9020930023439303079": [
         "-7555772486395206292",
         {
          "args": [
           "8598825711107313200"
          ],
          "function": "Integer.from_int"
         }
        ]
       },
       "states": {
        "initial": "-7303937537352571971",
        "states": [
         {
          "node": "8178408075829400498",
          "rule": "metadsl_core.integer.integer_math"
         },
         {
          "node": "-7712934105252650723",
          "rule": "metadsl_core.integer.integer_math"
         },
         {
          "node": "-7597290592849074794",
          "rule": "metadsl_core.integer.integer_math"
         },
         {
          "label": "core",
          "node": "-7597290592849074794",
          "rule": ""
         }
        ]
       }
      },
      "application/x.typez.graph+json": {
       "initial": "digraph {\n\tnode [shape=plain]\n\tedge [arrowsize=0.5 penwidth=0.5]\n\t-7303937537352571971 [label=\"Integer.__add__\" id=-7303937537352571971]\n\t-7303937537352571971 -> -7597290592849074794 [id=\"-7303937537352571971.args[0]\"]\n\t-7597290592849074794 [label=\"Integer.from_int\" id=-7303937537352571971]\n\t-7597290592849074794 -> 8598825711106230675 [id=\"-7303937537352571971.args[0]\"]\n\t8598825711106230675 [label=0 id=8598825711106230675]\n\t-7303937537352571971 -> -7743569556413268874 [id=\"-7303937537352571971.args[1]\"]\n\t-7743569556413268874 [label=\"Integer.__sub__\" id=-7743569556413268874]\n\t-7743569556413268874 -> -7555772486395206292 [id=\"-7743569556413268874.args[0]\"]\n\t-7555772486395206292 [label=\"Integer.__add__\" id=-7555772486395206292]\n\t-7555772486395206292 -> 9020930023439303079 [id=\"-7555772486395206292.args[0]\"]\n\t9020930023439303079 [label=\"Integer.from_int\" id=-7555772486395206292]\n\t9020930023439303079 -> 8598825711107313200 [id=\"-7555772486395206292.args[0]\"]\n\t8598825711107313200 [label=1 id=8598825711107313200]\n\t-7555772486395206292 -> -7597290592849074794 [id=\"-7555772486395206292.args[1]\"]\n\t-7743569556413268874 -> -7555772486395206292 [id=\"-7743569556413268874.args[1]\"]\n}",
       "states": [
        {
         "graph": "digraph {\n\tnode [shape=plain]\n\tedge [arrowsize=0.5 penwidth=0.5]\n\t8178408075829400498 [label=\"Integer.__add__\" id=-7303937537352571971]\n\t8178408075829400498 -> -7597290592849074794 [id=\"-7303937537352571971.args[0]\"]\n\t-7597290592849074794 [label=\"Integer.from_int\" id=-7303937537352571971]\n\t-7597290592849074794 -> 8598825711106230675 [id=\"-7303937537352571971.args[0]\"]\n\t8598825711106230675 [label=0 id=8598825711106230675]\n\t8178408075829400498 -> -6229129864761933940 [id=\"-7303937537352571971.args[1]\"]\n\t-6229129864761933940 [label=\"Integer.__sub__\" id=-7743569556413268874]\n\t-6229129864761933940 -> 9020930023439303079 [id=\"-7743569556413268874.args[0]\"]\n\t9020930023439303079 [label=\"Integer.from_int\" id=-7555772486395206292]\n\t9020930023439303079 -> 8598825711107313200 [id=\"-7555772486395206292.args[0]\"]\n\t8598825711107313200 [label=1 id=8598825711107313200]\n\t-6229129864761933940 -> 9020930023439303079 [id=\"-7743569556413268874.args[1]\"]\n}",
         "label": null,
         "rule": "metadsl_core.integer.integer_math"
        },
        {
         "graph": "digraph {\n\tnode [shape=plain]\n\tedge [arrowsize=0.5 penwidth=0.5]\n\t-7712934105252650723 [label=\"Integer.__add__\" id=-7303937537352571971]\n\t-7712934105252650723 -> -7597290592849074794 [id=\"-7303937537352571971.args[0]\"]\n\t-7597290592849074794 [label=\"Integer.from_int\" id=-7303937537352571971]\n\t-7597290592849074794 -> 8598825711106230675 [id=\"-7303937537352571971.args[0]\"]\n\t8598825711106230675 [label=0 id=8598825711106230675]\n\t-7712934105252650723 -> -7597290592849074794 [id=\"-7303937537352571971.args[1]\"]\n}",
         "label": null,
         "rule": "metadsl_core.integer.integer_math"
        },
        {
         "graph": "digraph {\n\tnode [shape=plain]\n\tedge [arrowsize=0.5 penwidth=0.5]\n\t-7597290592849074794 [label=\"Integer.from_int\" id=-7303937537352571971]\n\t-7597290592849074794 -> 8598825711106230675 [id=\"-7303937537352571971.args[0]\"]\n\t8598825711106230675 [label=0 id=8598825711106230675]\n}",
         "label": null,
         "rule": "metadsl_core.integer.integer_math"
        },
        {
         "graph": "digraph {\n\tnode [shape=plain]\n\tedge [arrowsize=0.5 penwidth=0.5]\n\t-7597290592849074794 [label=\"Integer.from_int\" id=-7303937537352571971]\n\t-7597290592849074794 -> 8598825711106230675 [id=\"-7303937537352571971.args[0]\"]\n\t8598825711106230675 [label=0 id=8598825711106230675]\n}",
         "label": "core",
         "rule": ""
        }
       ]
      },
      "text/plain": [
       "Typez(definitions=None, nodes={'8598825711106230675': ['8598825711106230675', PrimitiveNode(type='int', repr='0')], '-7597290592849074794': ['-7303937537352571971', CallNode(function='Integer.from_int', type_params=None, args=['8598825711106230675'], kwargs=None)], '8598825711107313200': ['8598825711107313200', PrimitiveNode(type='int', repr='1')], '9020930023439303079': ['-7555772486395206292', CallNode(function='Integer.from_int', type_params=None, args=['8598825711107313200'], kwargs=None)], '-7555772486395206292': ['-7555772486395206292', CallNode(function='Integer.__add__', type_params=None, args=['9020930023439303079', '-7597290592849074794'], kwargs=None)], '-7743569556413268874': ['-7743569556413268874', CallNode(function='Integer.__sub__', type_params=None, args=['-7555772486395206292', '-7555772486395206292'], kwargs=None)], '-7303937537352571971': ['-7303937537352571971', CallNode(function='Integer.__add__', type_params=None, args=['-7597290592849074794', '-7743569556413268874'], kwargs=None)], '-6229129864761933940': ['-7743569556413268874', CallNode(function='Integer.__sub__', type_params=None, args=['9020930023439303079', '9020930023439303079'], kwargs=None)], '8178408075829400498': ['-7303937537352571971', CallNode(function='Integer.__add__', type_params=None, args=['-7597290592849074794', '-6229129864761933940'], kwargs=None)], '-7712934105252650723': ['-7303937537352571971', CallNode(function='Integer.__add__', type_params=None, args=['-7597290592849074794', '-7597290592849074794'], kwargs=None)]}, states=States(initial='-7303937537352571971', states=[State(node='8178408075829400498', rule='metadsl_core.integer.integer_math', label=None), State(node='-7712934105252650723', rule='metadsl_core.integer.integer_math', label=None), State(node='-7597290592849074794', rule='metadsl_core.integer.integer_math', label=None), State(node='-7597290592849074794', rule='', label='core')]))"
      ]
     },
     "metadata": {},
     "output_type": "display_data"
    }
   ],
   "source": [
    "zero + ((one + zero) - (one + zero))"
   ]
  },
  {
   "cell_type": "code",
   "execution_count": 4,
   "metadata": {},
   "outputs": [
    {
     "data": {
      "application/json": {
       "nodes": {
        "-1124943269872633463": [
         "-3779622452228743667",
         {
          "args": [
           "5526373529463636097",
           "814890384444784096"
          ],
          "function": "FunctionOne.create",
          "type_params": {
           "T": {
            "type": "Integer"
           },
           "U": {
            "type": "Integer"
           }
          }
         }
        ],
        "-1164499840275005871": [
         "-1164499840275005871",
         {
          "args": [
           "-3019361743255952840"
          ],
          "function": "Module.create"
         }
        ],
        "-1346456170205249959": [
         "-253143370029431816",
         {
          "args": [
           "7703585934195696035",
           "-6734826181284550457"
          ],
          "function": "FunctionThree.create",
          "type_params": {
           "T": {
            "type": "Integer"
           },
           "U": {
            "type": "Integer"
           },
           "V": {
            "type": "Integer"
           },
           "X": {
            "type": "Integer"
           }
          }
         }
        ],
        "-1485898016486786863": [
         "-1485898016486786863",
         {
          "args": [
           "-1612040592398918144",
           "-4080477075120021145",
           "5753232760418890494"
          ],
          "function": "Boolean.if_"
         }
        ],
        "-1612040592398918144": [
         "-1612040592398918144",
         {
          "args": [
           "7856822241367733105",
           "9020930023439303079"
          ],
          "function": "Integer.__gt__"
         }
        ],
        "-1714830395453943839": [
         "-1714830395453943839",
         {
          "args": [
           "2518582446630638478",
           "-3779622452228743667"
          ],
          "function": "Module.register_function_one"
         }
        ],
        "-1721170120445872638": [
         "-1714830395453943839",
         {
          "args": [
           "2893895912775619221",
           "8726312709841343735"
          ],
          "function": "Module.register_function_one"
         }
        ],
        "-1885891958679969518": [
         "8801147746626219776",
         {
          "args": [
           "-763076250771003340"
          ],
          "function": "Abstraction.fix"
         }
        ],
        "-1932889504864399250": [
         "-1932889504864399250",
         {
          "args": [
           "4650627263041032016"
          ],
          "function": "Abstraction.from_fn"
         }
        ],
        "-196401169117226618": [
         "4329826587329690174",
         {
          "args": [
           "3899890043889562006",
           "7979309874726565315"
          ],
          "function": "Abstraction.create",
          "type_params": {
           "T": {
            "type": "Integer"
           },
           "U": {
            "type": "Integer"
           }
          }
         }
        ],
        "-2029313865202911426": [
         "-253143370029431816",
         {
          "args": [
           "7703585934195696035",
           "-4218760416264517507"
          ],
          "function": "FunctionThree.create",
          "type_params": {
           "T": {
            "type": "Integer"
           },
           "U": {
            "type": "Integer"
           },
           "V": {
            "type": "Integer"
           },
           "X": {
            "type": "Integer"
           }
          }
         }
        ],
        "-2037722445964592573": [
         "2518582446630638478",
         {
          "args": [
           "190392315158445537"
          ],
          "function": "Pair.left",
          "type_params": {
           "T": {
            "type": "Module"
           },
           "U": {
            "params": {
             "T": {
              "type": "Integer"
             },
             "U": {
              "type": "Integer"
             },
             "V": {
              "type": "Integer"
             },
             "X": {
              "type": "Integer"
             }
            },
            "type": "RegisteredFunctionThree"
           }
          }
         }
        ],
        "-2474979669613506447": [
         "-4080477075120021145",
         {
          "args": [
           "8565734121504583758",
           "-974063059350097932"
          ],
          "function": "Abstraction.__call__",
          "type_params": {
           "T": {
            "type": "Integer"
           },
           "U": {
            "type": "Integer"
           }
          }
         }
        ],
        "-253143370029431816": [
         "-253143370029431816",
         {
          "args": [
           "8585831836328306700"
          ],
          "function": "FunctionThree.from_fn_recursive"
         }
        ],
        "-269712509789740535": [
         "2518582446630638478",
         {
          "args": [
           "8383917784247342208"
          ],
          "function": "Pair.left",
          "type_params": {
           "T": {
            "type": "Module"
           },
           "U": {
            "params": {
             "T": {
              "type": "Integer"
             },
             "U": {
              "type": "Integer"
             },
             "V": {
              "type": "Integer"
             },
             "X": {
              "type": "Integer"
             }
            },
            "type": "RegisteredFunctionThree"
           }
          }
         }
        ],
        "-275382149836070007": [
         "-3087723200763476874",
         {
          "args": [
           "7856822241367733105",
           "-7656034677796874151"
          ],
          "function": "Abstraction.create",
          "type_params": {
           "T": {
            "type": "Integer"
           },
           "U": {
            "params": {
             "T": {
              "type": "Integer"
             },
             "U": {
              "params": {
               "T": {
                "type": "Integer"
               },
               "U": {
                "type": "Integer"
               }
              },
              "type": "Abstraction"
             }
            },
            "type": "Abstraction"
           }
          }
         }
        ],
        "-2811350437109351364": [
         "-1714830395453943839",
         {
          "args": [
           "-269712509789740535",
           "2966601230342068760"
          ],
          "function": "Module.register_function_one"
         }
        ],
        "-2903106647522861324": [
         "2307731638075662222",
         {
          "args": [
           "2366648574636959712",
           "2089956620439341258"
          ],
          "function": "Abstraction.create",
          "type_params": {
           "T": {
            "type": "Integer"
           },
           "U": {
            "type": "Integer"
           }
          }
         }
        ],
        "-2912796476831813722": [
         "-2912796476831813722",
         {
          "args": [
           "7703585934195696035",
           "-7400647636404638505"
          ],
          "function": "FunctionThree.create",
          "type_params": {
           "T": {
            "type": "Integer"
           },
           "U": {
            "type": "Integer"
           },
           "V": {
            "type": "Integer"
           },
           "X": {
            "type": "Integer"
           }
          }
         }
        ],
        "-2940189518331049811": [
         "-2940189518331049811",
         {
          "args": [
           "-2912796476831813722"
          ],
          "function": "FunctionThree.abstraction",
          "type_params": {
           "T": {
            "type": "Integer"
           },
           "U": {
            "type": "Integer"
           },
           "V": {
            "type": "Integer"
           },
           "X": {
            "type": "Integer"
           }
          }
         }
        ],
        "-3019361743255952840": [
         "-3019361743255952840",
         {
          "repr": "'Main'",
          "type": "str"
         }
        ],
        "-3087723200763476874": [
         "-3087723200763476874",
         {
          "args": [
           "4650627333405157016"
          ],
          "function": "Abstraction.from_fn"
         }
        ],
        "-3160271632765634655": [
         "2307731638075662222",
         {
          "args": [
           "2366648574636959712",
           "-1485898016486786863"
          ],
          "function": "Abstraction.create",
          "type_params": {
           "T": {
            "type": "Integer"
           },
           "U": {
            "type": "Integer"
           }
          }
         }
        ],
        "-3245476870235632161": [
         "-810187736753820906",
         {
          "args": [
           "3534553441874586685",
           "3899890043889562006",
           "-7597290592849074794",
           "9020930023439303079"
          ],
          "function": "RegisteredFunctionThree.__call__",
          "type_params": {
           "T": {
            "type": "Integer"
           },
           "U": {
            "type": "Integer"
           },
           "V": {
            "type": "Integer"
           },
           "X": {
            "type": "Integer"
           }
          }
         }
        ],
        "-333155308779018134": [
         "2307731638075662222",
         {
          "args": [
           "2366648574636959712",
           "-8307622392130266473"
          ],
          "function": "Abstraction.create",
          "type_params": {
           "T": {
            "type": "Integer"
           },
           "U": {
            "type": "Integer"
           }
          }
         }
        ],
        "-3522287728339387422": [
         "4329826587329690174",
         {
          "args": [
           "3899890043889562006",
           "6519788949964961672"
          ],
          "function": "Abstraction.create",
          "type_params": {
           "T": {
            "type": "Integer"
           },
           "U": {
            "type": "Integer"
           }
          }
         }
        ],
        "-3779622452228743667": [
         "-3779622452228743667",
         {
          "args": [
           "8585831836344544575"
          ],
          "function": "FunctionOne.from_fn"
         }
        ],
        "-39907425083475825": [
         "8801147746626219776",
         {
          "args": [
           "-8857845491165415208"
          ],
          "function": "Abstraction.fix"
         }
        ],
        "-4063084017741447067": [
         "-3087723200763476874",
         {
          "args": [
           "7856822241367733105",
           "471841972016386426"
          ],
          "function": "Abstraction.create",
          "type_params": {
           "T": {
            "type": "Integer"
           },
           "U": {
            "params": {
             "T": {
              "type": "Integer"
             },
             "U": {
              "params": {
               "T": {
                "type": "Integer"
               },
               "U": {
                "type": "Integer"
               }
              },
              "type": "Abstraction"
             }
            },
            "type": "Abstraction"
           }
          }
         }
        ],
        "-4080477075120021145": [
         "-4080477075120021145",
         {
          "args": [
           "-2912796476831813722",
           "1752666831276928178",
           "2366648574636959712",
           "-974063059350097932"
          ],
          "function": "FunctionThree.__call__",
          "type_params": {
           "T": {
            "type": "Integer"
           },
           "U": {
            "type": "Integer"
           },
           "V": {
            "type": "Integer"
           },
           "X": {
            "type": "Integer"
           }
          }
         }
        ],
        "-4218760416264517507": [
         "8801147746626219776",
         {
          "args": [
           "87398247701288463"
          ],
          "function": "Abstraction.fix"
         }
        ],
        "-4461555040721887095": [
         "-3779622452228743667",
         {
          "args": [
           "5526373529463636097",
           "5675796053236872926"
          ],
          "function": "FunctionOne.create",
          "type_params": {
           "T": {
            "type": "Integer"
           },
           "U": {
            "type": "Integer"
           }
          }
         }
        ],
        "-4553623623891019018": [
         "-4553623623891019018",
         {
          "args": [
           "4702145645603070358"
          ],
          "function": "Pair.right",
          "type_params": {
           "T": {
            "type": "Module"
           },
           "U": {
            "params": {
             "T": {
              "type": "Integer"
             },
             "U": {
              "type": "Integer"
             },
             "V": {
              "type": "Integer"
             },
             "X": {
              "type": "Integer"
             }
            },
            "type": "RegisteredFunctionThree"
           }
          }
         }
        ],
        "-4574253291362751692": [
         "-4574253291362751692",
         {
          "repr": "Variable(4673169784)",
          "type": "Variable"
         }
        ],
        "-4574253297339372217": [
         "-4574253297339372217",
         {
          "repr": "Variable(4673341032)",
          "type": "Variable"
         }
        ],
        "-4574253307722952017": [
         "-4574253307722952017",
         {
          "repr": "Variable(4673395176)",
          "type": "Variable"
         }
        ],
        "-4733530408271620173": [
         "-1714830395453943839",
         {
          "args": [
           "171073090034663769",
           "3097338779696424959"
          ],
          "function": "Module.register_function_one"
         }
        ],
        "-5041527749816276050": [
         "-1932889504864399250",
         {
          "args": [
           "-7400647636404638505",
           "1366418519688953015"
          ],
          "function": "Abstraction.create",
          "type_params": {
           "T": {
            "params": {
             "T": {
              "type": "Integer"
             },
             "U": {
              "params": {
               "T": {
                "type": "Integer"
               },
               "U": {
                "params": {
                 "T": {
                  "type": "Integer"
                 },
                 "U": {
                  "type": "Integer"
                 }
                },
                "type": "Abstraction"
               }
              },
              "type": "Abstraction"
             }
            },
            "type": "Abstraction"
           },
           "U": {
            "params": {
             "T": {
              "type": "Integer"
             },
             "U": {
              "params": {
               "T": {
                "type": "Integer"
               },
               "U": {
                "params": {
                 "T": {
                  "type": "Integer"
                 },
                 "U": {
                  "type": "Integer"
                 }
                },
                "type": "Abstraction"
               }
              },
              "type": "Abstraction"
             }
            },
            "type": "Abstraction"
           }
          }
         }
        ],
        "-5196979908363723306": [
         "8801147746626219776",
         {
          "args": [
           "2140814533659902208"
          ],
          "function": "Abstraction.fix"
         }
        ],
        "-5711383986611995889": [
         "-810187736753820906",
         {
          "args": [
           "-8731292827514780655",
           "3899890043889562006",
           "-7597290592849074794",
           "9020930023439303079"
          ],
          "function": "RegisteredFunctionThree.__call__",
          "type_params": {
           "T": {
            "type": "Integer"
           },
           "U": {
            "type": "Integer"
           },
           "V": {
            "type": "Integer"
           },
           "X": {
            "type": "Integer"
           }
          }
         }
        ],
        "-5939528738052166783": [
         "-1714830395453943839",
         {
          "args": [
           "-6032012311755794667",
           "-4461555040721887095"
          ],
          "function": "Module.register_function_one"
         }
        ],
        "-6032012311755794667": [
         "2518582446630638478",
         {
          "args": [
           "-9021226333167932790"
          ],
          "function": "Pair.left",
          "type_params": {
           "T": {
            "type": "Module"
           },
           "U": {
            "params": {
             "T": {
              "type": "Integer"
             },
             "U": {
              "type": "Integer"
             },
             "V": {
              "type": "Integer"
             },
             "X": {
              "type": "Integer"
             }
            },
            "type": "RegisteredFunctionThree"
           }
          }
         }
        ],
        "-6503282015658242896": [
         "-3779622452228743667",
         {
          "args": [
           "5526373529463636097",
           "2768063288314820470"
          ],
          "function": "FunctionOne.create",
          "type_params": {
           "T": {
            "type": "Integer"
           },
           "U": {
            "type": "Integer"
           }
          }
         }
        ],
        "-6656656344703162365": [
         "-3087723200763476874",
         {
          "args": [
           "7856822241367733105",
           "5178179081337832958"
          ],
          "function": "Abstraction.create",
          "type_params": {
           "T": {
            "type": "Integer"
           },
           "U": {
            "params": {
             "T": {
              "type": "Integer"
             },
             "U": {
              "params": {
               "T": {
                "type": "Integer"
               },
               "U": {
                "type": "Integer"
               }
              },
              "type": "Abstraction"
             }
            },
            "type": "Abstraction"
           }
          }
         }
        ],
        "-6676712615099656200": [
         "-3779622452228743667",
         {
          "args": [
           "5526373529463636097",
           "4329826587329690174"
          ],
          "function": "FunctionOne.create",
          "type_params": {
           "T": {
            "type": "Integer"
           },
           "U": {
            "type": "Integer"
           }
          }
         }
        ],
        "-6734826181284550457": [
         "8801147746626219776",
         {
          "args": [
           "-7905657951517262896"
          ],
          "function": "Abstraction.fix"
         }
        ],
        "-6864210392815883963": [
         "-810187736753820906",
         {
          "args": [
           "-8950582164116618613",
           "3899890043889562006",
           "-7597290592849074794",
           "9020930023439303079"
          ],
          "function": "RegisteredFunctionThree.__call__",
          "type_params": {
           "T": {
            "type": "Integer"
           },
           "U": {
            "type": "Integer"
           },
           "V": {
            "type": "Integer"
           },
           "X": {
            "type": "Integer"
           }
          }
         }
        ],
        "-7400647636404638505": [
         "-7400647636404638505",
         {
          "args": [
           "4649118741502919491"
          ],
          "function": "Abstraction.create_variable",
          "type_params": {
           "T": {
            "params": {
             "T": {
              "type": "Integer"
             },
             "U": {
              "params": {
               "T": {
                "type": "Integer"
               },
               "U": {
                "params": {
                 "T": {
                  "type": "Integer"
                 },
                 "U": {
                  "type": "Integer"
                 }
                },
                "type": "Abstraction"
               }
              },
              "type": "Abstraction"
             }
            },
            "type": "Abstraction"
           },
           "U": {
            "params": {
             "T": {
              "type": "Integer"
             },
             "U": {
              "params": {
               "T": {
                "type": "Integer"
               },
               "U": {
                "params": {
                 "T": {
                  "type": "Integer"
                 },
                 "U": {
                  "type": "Integer"
                 }
                },
                "type": "Abstraction"
               }
              },
              "type": "Abstraction"
             }
            },
            "type": "Abstraction"
           }
          }
         }
        ],
        "-7487693526605912235": [
         "4329826587329690174",
         {
          "args": [
           "3899890043889562006",
           "-6864210392815883963"
          ],
          "function": "Abstraction.create",
          "type_params": {
           "T": {
            "type": "Integer"
           },
           "U": {
            "type": "Integer"
           }
          }
         }
        ],
        "-7541230645414182346": [
         "8877061846088262974",
         {
          "args": [
           "-7400647636404638505",
           "1752666831276928178"
          ],
          "function": "Abstraction.__call__",
          "type_params": {
           "T": {
            "type": "Integer"
           },
           "U": {
            "params": {
             "T": {
              "type": "Integer"
             },
             "U": {
              "params": {
               "T": {
                "type": "Integer"
               },
               "U": {
                "type": "Integer"
               }
              },
              "type": "Abstraction"
             }
            },
            "type": "Abstraction"
           }
          }
         }
        ],
        "-7597290592849074794": [
         "-7597290592849074794",
         {
          "args": [
           "8598825711106230675"
          ],
          "function": "Integer.from_int"
         }
        ],
        "-763076250771003340": [
         "-1932889504864399250",
         {
          "args": [
           "-7400647636404638505",
           "-3087723200763476874"
          ],
          "function": "Abstraction.create",
          "type_params": {
           "T": {
            "params": {
             "T": {
              "type": "Integer"
             },
             "U": {
              "params": {
               "T": {
                "type": "Integer"
               },
               "U": {
                "params": {
                 "T": {
                  "type": "Integer"
                 },
                 "U": {
                  "type": "Integer"
                 }
                },
                "type": "Abstraction"
               }
              },
              "type": "Abstraction"
             }
            },
            "type": "Abstraction"
           },
           "U": {
            "params": {
             "T": {
              "type": "Integer"
             },
             "U": {
              "params": {
               "T": {
                "type": "Integer"
               },
               "U": {
                "params": {
                 "T": {
                  "type": "Integer"
                 },
                 "U": {
                  "type": "Integer"
                 }
                },
                "type": "Abstraction"
               }
              },
              "type": "Abstraction"
             }
            },
            "type": "Abstraction"
           }
          }
         }
        ],
        "-7656034677796874151": [
         "5178179081337832958",
         {
          "args": [
           "1090465956767715260",
           "-333155308779018134"
          ],
          "function": "Abstraction.create",
          "type_params": {
           "T": {
            "type": "Integer"
           },
           "U": {
            "params": {
             "T": {
              "type": "Integer"
             },
             "U": {
              "type": "Integer"
             }
            },
            "type": "Abstraction"
           }
          }
         }
        ],
        "-7905657951517262896": [
         "-1932889504864399250",
         {
          "args": [
           "-7400647636404638505",
           "-275382149836070007"
          ],
          "function": "Abstraction.create",
          "type_params": {
           "T": {
            "params": {
             "T": {
              "type": "Integer"
             },
             "U": {
              "params": {
               "T": {
                "type": "Integer"
               },
               "U": {
                "params": {
                 "T": {
                  "type": "Integer"
                 },
                 "U": {
                  "type": "Integer"
                 }
                },
                "type": "Abstraction"
               }
              },
              "type": "Abstraction"
             }
            },
            "type": "Abstraction"
           },
           "U": {
            "params": {
             "T": {
              "type": "Integer"
             },
             "U": {
              "params": {
               "T": {
                "type": "Integer"
               },
               "U": {
                "params": {
                 "T": {
                  "type": "Integer"
                 },
                 "U": {
                  "type": "Integer"
                 }
                },
                "type": "Abstraction"
               }
              },
              "type": "Abstraction"
             }
            },
            "type": "Abstraction"
           }
          }
         }
        ],
        "-810187736753820906": [
         "-810187736753820906",
         {
          "args": [
           "-4553623623891019018",
           "3899890043889562006",
           "-7597290592849074794",
           "9020930023439303079"
          ],
          "function": "RegisteredFunctionThree.__call__",
          "type_params": {
           "T": {
            "type": "Integer"
           },
           "U": {
            "type": "Integer"
           },
           "V": {
            "type": "Integer"
           },
           "X": {
            "type": "Integer"
           }
          }
         }
        ],
        "-8307622392130266473": [
         "-1485898016486786863",
         {
          "args": [
           "-1612040592398918144",
           "-2474979669613506447",
           "5753232760418890494"
          ],
          "function": "Boolean.if_"
         }
        ],
        "-8530807500697384604": [
         "-253143370029431816",
         {
          "args": [
           "7703585934195696035",
           "-1885891958679969518"
          ],
          "function": "FunctionThree.create",
          "type_params": {
           "T": {
            "type": "Integer"
           },
           "U": {
            "type": "Integer"
           },
           "V": {
            "type": "Integer"
           },
           "X": {
            "type": "Integer"
           }
          }
         }
        ],
        "-8731292827514780655": [
         "-4553623623891019018",
         {
          "args": [
           "8383917784247342208"
          ],
          "function": "Pair.right",
          "type_params": {
           "T": {
            "type": "Module"
           },
           "U": {
            "params": {
             "T": {
              "type": "Integer"
             },
             "U": {
              "type": "Integer"
             },
             "V": {
              "type": "Integer"
             },
             "X": {
              "type": "Integer"
             }
            },
            "type": "RegisteredFunctionThree"
           }
          }
         }
        ],
        "-8857845491165415208": [
         "-1932889504864399250",
         {
          "args": [
           "-7400647636404638505",
           "-6656656344703162365"
          ],
          "function": "Abstraction.create",
          "type_params": {
           "T": {
            "params": {
             "T": {
              "type": "Integer"
             },
             "U": {
              "params": {
               "T": {
                "type": "Integer"
               },
               "U": {
                "params": {
                 "T": {
                  "type": "Integer"
                 },
                 "U": {
                  "type": "Integer"
                 }
                },
                "type": "Abstraction"
               }
              },
              "type": "Abstraction"
             }
            },
            "type": "Abstraction"
           },
           "U": {
            "params": {
             "T": {
              "type": "Integer"
             },
             "U": {
              "params": {
               "T": {
                "type": "Integer"
               },
               "U": {
                "params": {
                 "T": {
                  "type": "Integer"
                 },
                 "U": {
                  "type": "Integer"
                 }
                },
                "type": "Abstraction"
               }
              },
              "type": "Abstraction"
             }
            },
            "type": "Abstraction"
           }
          }
         }
        ],
        "-8917530040005697120": [
         "8565734121504583758",
         {
          "args": [
           "-7541230645414182346",
           "2366648574636959712"
          ],
          "function": "Abstraction.__call__",
          "type_params": {
           "T": {
            "type": "Integer"
           },
           "U": {
            "params": {
             "T": {
              "type": "Integer"
             },
             "U": {
              "type": "Integer"
             }
            },
            "type": "Abstraction"
           }
          }
         }
        ],
        "-8950582164116618613": [
         "-4553623623891019018",
         {
          "args": [
           "738469906536816337"
          ],
          "function": "Pair.right",
          "type_params": {
           "T": {
            "type": "Module"
           },
           "U": {
            "params": {
             "T": {
              "type": "Integer"
             },
             "U": {
              "type": "Integer"
             },
             "V": {
              "type": "Integer"
             },
             "X": {
              "type": "Integer"
             }
            },
            "type": "RegisteredFunctionThree"
           }
          }
         }
        ],
        "-89543877046842360": [
         "-1714830395453943839",
         {
          "args": [
           "2574588240885964772",
           "-1124943269872633463"
          ],
          "function": "Module.register_function_one"
         }
        ],
        "-9021226333167932790": [
         "4702145645603070358",
         {
          "args": [
           "-1164499840275005871",
           "3816079788154827995"
          ],
          "function": "Module.register_function_three"
         }
        ],
        "-9034000034964784433": [
         "-9034000034964784433",
         {
          "args": [
           "7856822241367733105",
           "9020930023439303079"
          ],
          "function": "Integer.eq"
         }
        ],
        "-9058435180798404145": [
         "5178179081337832958",
         {
          "args": [
           "1090465956767715260",
           "-3160271632765634655"
          ],
          "function": "Abstraction.create",
          "type_params": {
           "T": {
            "type": "Integer"
           },
           "U": {
            "params": {
             "T": {
              "type": "Integer"
             },
             "U": {
              "type": "Integer"
             }
            },
            "type": "Abstraction"
           }
          }
         }
        ],
        "-9173848002956768714": [
         "4702145645603070358",
         {
          "args": [
           "-1164499840275005871",
           "4380086844876563415"
          ],
          "function": "Module.register_function_three"
         }
        ],
        "-974063059350097932": [
         "-974063059350097932",
         {
          "args": [
           "1090465956767715260",
           "2366648574636959712"
          ],
          "function": "Integer.__add__"
         }
        ],
        "1074252681624771870": [
         "4329826587329690174",
         {
          "args": [
           "3899890043889562006",
           "928250676370072606"
          ],
          "function": "Abstraction.create",
          "type_params": {
           "T": {
            "type": "Integer"
           },
           "U": {
            "type": "Integer"
           }
          }
         }
        ],
        "1090465956767715260": [
         "1090465956767715260",
         {
          "args": [
           "-4574253307722952017"
          ],
          "function": "Abstraction.create_variable",
          "type_params": {
           "T": {
            "type": "Integer"
           },
           "U": {
            "params": {
             "T": {
              "type": "Integer"
             },
             "U": {
              "type": "Integer"
             }
            },
            "type": "Abstraction"
           }
          }
         }
        ],
        "1228354883235453503": [
         "-1714830395453943839",
         {
          "args": [
           "992525320831925459",
           "7424500324723820115"
          ],
          "function": "Module.register_function_one"
         }
        ],
        "1366418519688953015": [
         "-3087723200763476874",
         {
          "args": [
           "7856822241367733105",
           "-9058435180798404145"
          ],
          "function": "Abstraction.create",
          "type_params": {
           "T": {
            "type": "Integer"
           },
           "U": {
            "params": {
             "T": {
              "type": "Integer"
             },
             "U": {
              "params": {
               "T": {
                "type": "Integer"
               },
               "U": {
                "type": "Integer"
               }
              },
              "type": "Abstraction"
             }
            },
            "type": "Abstraction"
           }
          }
         }
        ],
        "171073090034663769": [
         "2518582446630638478",
         {
          "args": [
           "-9173848002956768714"
          ],
          "function": "Pair.left",
          "type_params": {
           "T": {
            "type": "Module"
           },
           "U": {
            "params": {
             "T": {
              "type": "Integer"
             },
             "U": {
              "type": "Integer"
             },
             "V": {
              "type": "Integer"
             },
             "X": {
              "type": "Integer"
             }
            },
            "type": "RegisteredFunctionThree"
           }
          }
         }
        ],
        "1752666831276928178": [
         "1752666831276928178",
         {
          "args": [
           "7856822241367733105",
           "9020930023439303079"
          ],
          "function": "Integer.__sub__"
         }
        ],
        "190392315158445537": [
         "4702145645603070358",
         {
          "args": [
           "-1164499840275005871",
           "-1346456170205249959"
          ],
          "function": "Module.register_function_three"
         }
        ],
        "2055006138732628251": [
         "-4553623623891019018",
         {
          "args": [
           "190392315158445537"
          ],
          "function": "Pair.right",
          "type_params": {
           "T": {
            "type": "Module"
           },
           "U": {
            "params": {
             "T": {
              "type": "Integer"
             },
             "U": {
              "type": "Integer"
             },
             "V": {
              "type": "Integer"
             },
             "X": {
              "type": "Integer"
             }
            },
            "type": "RegisteredFunctionThree"
           }
          }
         }
        ],
        "2089956620439341258": [
         "-1485898016486786863",
         {
          "args": [
           "-1612040592398918144",
           "2239143103186021933",
           "5753232760418890494"
          ],
          "function": "Boolean.if_"
         }
        ],
        "2140814533659902208": [
         "-1932889504864399250",
         {
          "args": [
           "-7400647636404638505",
           "8780046161789565558"
          ],
          "function": "Abstraction.create",
          "type_params": {
           "T": {
            "params": {
             "T": {
              "type": "Integer"
             },
             "U": {
              "params": {
               "T": {
                "type": "Integer"
               },
               "U": {
                "params": {
                 "T": {
                  "type": "Integer"
                 },
                 "U": {
                  "type": "Integer"
                 }
                },
                "type": "Abstraction"
               }
              },
              "type": "Abstraction"
             }
            },
            "type": "Abstraction"
           },
           "U": {
            "params": {
             "T": {
              "type": "Integer"
             },
             "U": {
              "params": {
               "T": {
                "type": "Integer"
               },
               "U": {
                "params": {
                 "T": {
                  "type": "Integer"
                 },
                 "U": {
                  "type": "Integer"
                 }
                },
                "type": "Abstraction"
               }
              },
              "type": "Abstraction"
             }
            },
            "type": "Abstraction"
           }
          }
         }
        ],
        "2239143103186021933": [
         "-4080477075120021145",
         {
          "args": [
           "-8917530040005697120",
           "-974063059350097932"
          ],
          "function": "Abstraction.__call__",
          "type_params": {
           "T": {
            "type": "Integer"
           },
           "U": {
            "type": "Integer"
           }
          }
         }
        ],
        "2307731638075662222": [
         "2307731638075662222",
         {
          "args": [
           "4650627331803020016"
          ],
          "function": "Abstraction.from_fn"
         }
        ],
        "2362942817138107068": [
         "-4553623623891019018",
         {
          "args": [
           "4065537624140336697"
          ],
          "function": "Pair.right",
          "type_params": {
           "T": {
            "type": "Module"
           },
           "U": {
            "params": {
             "T": {
              "type": "Integer"
             },
             "U": {
              "type": "Integer"
             },
             "V": {
              "type": "Integer"
             },
             "X": {
              "type": "Integer"
             }
            },
            "type": "RegisteredFunctionThree"
           }
          }
         }
        ],
        "2366648574636959712": [
         "2366648574636959712",
         {
          "args": [
           "-4574253297339372217"
          ],
          "function": "Abstraction.create_variable",
          "type_params": {
           "T": {
            "type": "Integer"
           },
           "U": {
            "type": "Integer"
           }
          }
         }
        ],
        "2518582446630638478": [
         "2518582446630638478",
         {
          "args": [
           "4702145645603070358"
          ],
          "function": "Pair.left",
          "type_params": {
           "T": {
            "type": "Module"
           },
           "U": {
            "params": {
             "T": {
              "type": "Integer"
             },
             "U": {
              "type": "Integer"
             },
             "V": {
              "type": "Integer"
             },
             "X": {
              "type": "Integer"
             }
            },
            "type": "RegisteredFunctionThree"
           }
          }
         }
        ],
        "2574588240885964772": [
         "2518582446630638478",
         {
          "args": [
           "4065537624140336697"
          ],
          "function": "Pair.left",
          "type_params": {
           "T": {
            "type": "Module"
           },
           "U": {
            "params": {
             "T": {
              "type": "Integer"
             },
             "U": {
              "type": "Integer"
             },
             "V": {
              "type": "Integer"
             },
             "X": {
              "type": "Integer"
             }
            },
            "type": "RegisteredFunctionThree"
           }
          }
         }
        ],
        "2768063288314820470": [
         "4329826587329690174",
         {
          "args": [
           "3899890043889562006",
           "-810187736753820906"
          ],
          "function": "Abstraction.create",
          "type_params": {
           "T": {
            "type": "Integer"
           },
           "U": {
            "type": "Integer"
           }
          }
         }
        ],
        "2893895912775619221": [
         "2518582446630638478",
         {
          "args": [
           "7257263591237017604"
          ],
          "function": "Pair.left",
          "type_params": {
           "T": {
            "type": "Module"
           },
           "U": {
            "params": {
             "T": {
              "type": "Integer"
             },
             "U": {
              "type": "Integer"
             },
             "V": {
              "type": "Integer"
             },
             "X": {
              "type": "Integer"
             }
            },
            "type": "RegisteredFunctionThree"
           }
          }
         }
        ],
        "2947539676218675370": [
         "8801147746626219776",
         {
          "args": [
           "-5041527749816276050"
          ],
          "function": "Abstraction.fix"
         }
        ],
        "2966601230342068760": [
         "-3779622452228743667",
         {
          "args": [
           "5526373529463636097",
           "700739599270599839"
          ],
          "function": "FunctionOne.create",
          "type_params": {
           "T": {
            "type": "Integer"
           },
           "U": {
            "type": "Integer"
           }
          }
         }
        ],
        "3097338779696424959": [
         "-3779622452228743667",
         {
          "args": [
           "5526373529463636097",
           "-196401169117226618"
          ],
          "function": "FunctionOne.create",
          "type_params": {
           "T": {
            "type": "Integer"
           },
           "U": {
            "type": "Integer"
           }
          }
         }
        ],
        "3118760165051008443": [
         "-1714830395453943839",
         {
          "args": [
           "2518582446630638478",
           "-6503282015658242896"
          ],
          "function": "Module.register_function_one"
         }
        ],
        "3158353602033228597": [
         "-1714830395453943839",
         {
          "args": [
           "-2037722445964592573",
           "5187427192502162050"
          ],
          "function": "Module.register_function_one"
         }
        ],
        "3534553441874586685": [
         "-4553623623891019018",
         {
          "args": [
           "-9021226333167932790"
          ],
          "function": "Pair.right",
          "type_params": {
           "T": {
            "type": "Module"
           },
           "U": {
            "params": {
             "T": {
              "type": "Integer"
             },
             "U": {
              "type": "Integer"
             },
             "V": {
              "type": "Integer"
             },
             "X": {
              "type": "Integer"
             }
            },
            "type": "RegisteredFunctionThree"
           }
          }
         }
        ],
        "3816079788154827995": [
         "-253143370029431816",
         {
          "args": [
           "7703585934195696035",
           "-39907425083475825"
          ],
          "function": "FunctionThree.create",
          "type_params": {
           "T": {
            "type": "Integer"
           },
           "U": {
            "type": "Integer"
           },
           "V": {
            "type": "Integer"
           },
           "X": {
            "type": "Integer"
           }
          }
         }
        ],
        "3899890043889562006": [
         "3899890043889562006",
         {
          "args": [
           "4649088341809621766"
          ],
          "function": "Abstraction.create_variable",
          "type_params": {
           "T": {
            "type": "Integer"
           },
           "U": {
            "type": "Integer"
           }
          }
         }
        ],
        "4065537624140336697": [
         "4702145645603070358",
         {
          "args": [
           "-1164499840275005871",
           "-8530807500697384604"
          ],
          "function": "Module.register_function_three"
         }
        ],
        "4073902228159150686": [
         "5178179081337832958",
         {
          "args": [
           "1090465956767715260",
           "-2903106647522861324"
          ],
          "function": "Abstraction.create",
          "type_params": {
           "T": {
            "type": "Integer"
           },
           "U": {
            "params": {
             "T": {
              "type": "Integer"
             },
             "U": {
              "type": "Integer"
             }
            },
            "type": "Abstraction"
           }
          }
         }
        ],
        "4151376260364842177": [
         "-4553623623891019018",
         {
          "args": [
           "-9173848002956768714"
          ],
          "function": "Pair.right",
          "type_params": {
           "T": {
            "type": "Module"
           },
           "U": {
            "params": {
             "T": {
              "type": "Integer"
             },
             "U": {
              "type": "Integer"
             },
             "V": {
              "type": "Integer"
             },
             "X": {
              "type": "Integer"
             }
            },
            "type": "RegisteredFunctionThree"
           }
          }
         }
        ],
        "4329826587329690174": [
         "4329826587329690174",
         {
          "args": [
           "8585831836344544575"
          ],
          "function": "Abstraction.from_fn"
         }
        ],
        "4380086844876563415": [
         "-253143370029431816",
         {
          "args": [
           "7703585934195696035",
           "2947539676218675370"
          ],
          "function": "FunctionThree.create",
          "type_params": {
           "T": {
            "type": "Integer"
           },
           "U": {
            "type": "Integer"
           },
           "V": {
            "type": "Integer"
           },
           "X": {
            "type": "Integer"
           }
          }
         }
        ],
        "4649088341809621766": [
         "4649088341809621766",
         {
          "repr": "Variable(4492431824)",
          "type": "Variable"
         }
        ],
        "4649118741502919491": [
         "4649118741502919491",
         {
          "repr": "Variable(4673311520)",
          "type": "Variable"
         }
        ],
        "4650627263041032016": [
         "4650627263041032016",
         {
          "repr": "FunctionReplaceTyping(fn=<function FunctionThree.from_fn_recursive.<locals>.inner at 0x11689ed08>, typevars={~V: <class 'metadsl_core.integer.Integer'>, ~U: <class 'metadsl_core.integer.Integer'>, ~T: <class 'metadsl_core.integer.Integer'>, ~X: <class 'metadsl_core.integer.Integer'>}, typevars_in_scope={~X, ~U, ~T, ~V})",
          "type": "FunctionReplaceTyping"
         }
        ],
        "4650627331803020016": [
         "4650627331803020016",
         {
          "repr": "FunctionReplaceTyping(fn=<function FunctionThree.from_fn_recursive.<locals>.inner.<locals>.inner.<locals>.inner.<locals>.inner at 0x1168d66a8>, typevars={~V: <class 'metadsl_core.integer.Integer'>, ~U: <class 'metadsl_core.integer.Integer'>, ~T: <class 'metadsl_core.integer.Integer'>, ~X: <class 'metadsl_core.integer.Integer'>}, typevars_in_scope={~X, ~U, ~T, ~V})",
          "type": "FunctionReplaceTyping"
         }
        ],
        "4650627333405157016": [
         "4650627333405157016",
         {
          "repr": "FunctionReplaceTyping(fn=<function FunctionThree.from_fn_recursive.<locals>.inner.<locals>.inner at 0x11689ea60>, typevars={~V: <class 'metadsl_core.integer.Integer'>, ~U: <class 'metadsl_core.integer.Integer'>, ~T: <class 'metadsl_core.integer.Integer'>, ~X: <class 'metadsl_core.integer.Integer'>}, typevars_in_scope={~X, ~U, ~T, ~V})",
          "type": "FunctionReplaceTyping"
         }
        ],
        "4650627413919036416": [
         "4650627413919036416",
         {
          "repr": "FunctionReplaceTyping(fn=<function FunctionThree.from_fn_recursive.<locals>.inner.<locals>.inner.<locals>.inner at 0x10bbb8b70>, typevars={~V: <class 'metadsl_core.integer.Integer'>, ~U: <class 'metadsl_core.integer.Integer'>, ~T: <class 'metadsl_core.integer.Integer'>, ~X: <class 'metadsl_core.integer.Integer'>}, typevars_in_scope={~X, ~U, ~T, ~V})",
          "type": "FunctionReplaceTyping"
         }
        ],
        "4702145645603070358": [
         "4702145645603070358",
         {
          "args": [
           "-1164499840275005871",
           "-253143370029431816"
          ],
          "function": "Module.register_function_three"
         }
        ],
        "471841972016386426": [
         "5178179081337832958",
         {
          "args": [
           "1090465956767715260",
           "2307731638075662222"
          ],
          "function": "Abstraction.create",
          "type_params": {
           "T": {
            "type": "Integer"
           },
           "U": {
            "params": {
             "T": {
              "type": "Integer"
             },
             "U": {
              "type": "Integer"
             }
            },
            "type": "Abstraction"
           }
          }
         }
        ],
        "5025137562088662558": [
         "-810187736753820906",
         {
          "args": [
           "2362942817138107068",
           "3899890043889562006",
           "-7597290592849074794",
           "9020930023439303079"
          ],
          "function": "RegisteredFunctionThree.__call__",
          "type_params": {
           "T": {
            "type": "Integer"
           },
           "U": {
            "type": "Integer"
           },
           "V": {
            "type": "Integer"
           },
           "X": {
            "type": "Integer"
           }
          }
         }
        ],
        "5178179081337832958": [
         "5178179081337832958",
         {
          "args": [
           "4650627413919036416"
          ],
          "function": "Abstraction.from_fn"
         }
        ],
        "5187427192502162050": [
         "-3779622452228743667",
         {
          "args": [
           "5526373529463636097",
           "-3522287728339387422"
          ],
          "function": "FunctionOne.create",
          "type_params": {
           "T": {
            "type": "Integer"
           },
           "U": {
            "type": "Integer"
           }
          }
         }
        ],
        "5526373529463636097": [
         "5526373529463636097",
         {
          "repr": "'fib'",
          "type": "str"
         }
        ],
        "5675796053236872926": [
         "4329826587329690174",
         {
          "args": [
           "3899890043889562006",
           "-3245476870235632161"
          ],
          "function": "Abstraction.create",
          "type_params": {
           "T": {
            "type": "Integer"
           },
           "U": {
            "type": "Integer"
           }
          }
         }
        ],
        "5753232760418890494": [
         "5753232760418890494",
         {
          "args": [
           "-9034000034964784433",
           "2366648574636959712",
           "1090465956767715260"
          ],
          "function": "Boolean.if_"
         }
        ],
        "6519788949964961672": [
         "-810187736753820906",
         {
          "args": [
           "2055006138732628251",
           "3899890043889562006",
           "-7597290592849074794",
           "9020930023439303079"
          ],
          "function": "RegisteredFunctionThree.__call__",
          "type_params": {
           "T": {
            "type": "Integer"
           },
           "U": {
            "type": "Integer"
           },
           "V": {
            "type": "Integer"
           },
           "X": {
            "type": "Integer"
           }
          }
         }
        ],
        "700739599270599839": [
         "4329826587329690174",
         {
          "args": [
           "3899890043889562006",
           "-5711383986611995889"
          ],
          "function": "Abstraction.create",
          "type_params": {
           "T": {
            "type": "Integer"
           },
           "U": {
            "type": "Integer"
           }
          }
         }
        ],
        "7051358847554943654": [
         "-253143370029431816",
         {
          "args": [
           "7703585934195696035",
           "-5196979908363723306"
          ],
          "function": "FunctionThree.create",
          "type_params": {
           "T": {
            "type": "Integer"
           },
           "U": {
            "type": "Integer"
           },
           "V": {
            "type": "Integer"
           },
           "X": {
            "type": "Integer"
           }
          }
         }
        ],
        "7257263591237017604": [
         "4702145645603070358",
         {
          "args": [
           "-1164499840275005871",
           "8104510563889729087"
          ],
          "function": "Module.register_function_three"
         }
        ],
        "738469906536816337": [
         "4702145645603070358",
         {
          "args": [
           "-1164499840275005871",
           "7051358847554943654"
          ],
          "function": "Module.register_function_three"
         }
        ],
        "7424500324723820115": [
         "-3779622452228743667",
         {
          "args": [
           "5526373529463636097",
           "-7487693526605912235"
          ],
          "function": "FunctionOne.create",
          "type_params": {
           "T": {
            "type": "Integer"
           },
           "U": {
            "type": "Integer"
           }
          }
         }
        ],
        "7703585934195696035": [
         "7703585934195696035",
         {
          "repr": "'fib_more'",
          "type": "str"
         }
        ],
        "7856822241367733105": [
         "7856822241367733105",
         {
          "args": [
           "-4574253291362751692"
          ],
          "function": "Abstraction.create_variable",
          "type_params": {
           "T": {
            "type": "Integer"
           },
           "U": {
            "params": {
             "T": {
              "type": "Integer"
             },
             "U": {
              "params": {
               "T": {
                "type": "Integer"
               },
               "U": {
                "type": "Integer"
               }
              },
              "type": "Abstraction"
             }
            },
            "type": "Abstraction"
           }
          }
         }
        ],
        "7979309874726565315": [
         "-810187736753820906",
         {
          "args": [
           "4151376260364842177",
           "3899890043889562006",
           "-7597290592849074794",
           "9020930023439303079"
          ],
          "function": "RegisteredFunctionThree.__call__",
          "type_params": {
           "T": {
            "type": "Integer"
           },
           "U": {
            "type": "Integer"
           },
           "V": {
            "type": "Integer"
           },
           "X": {
            "type": "Integer"
           }
          }
         }
        ],
        "8075608210541556547": [
         "-1714830395453943839",
         {
          "args": [
           "2518582446630638478",
           "-6676712615099656200"
          ],
          "function": "Module.register_function_one"
         }
        ],
        "8104510563889729087": [
         "-253143370029431816",
         {
          "args": [
           "7703585934195696035",
           "8801147746626219776"
          ],
          "function": "FunctionThree.create",
          "type_params": {
           "T": {
            "type": "Integer"
           },
           "U": {
            "type": "Integer"
           },
           "V": {
            "type": "Integer"
           },
           "X": {
            "type": "Integer"
           }
          }
         }
        ],
        "814890384444784096": [
         "4329826587329690174",
         {
          "args": [
           "3899890043889562006",
           "5025137562088662558"
          ],
          "function": "Abstraction.create",
          "type_params": {
           "T": {
            "type": "Integer"
           },
           "U": {
            "type": "Integer"
           }
          }
         }
        ],
        "8383917784247342208": [
         "4702145645603070358",
         {
          "args": [
           "-1164499840275005871",
           "-2029313865202911426"
          ],
          "function": "Module.register_function_three"
         }
        ],
        "8565734121504583758": [
         "8565734121504583758",
         {
          "args": [
           "8877061846088262974",
           "2366648574636959712"
          ],
          "function": "Abstraction.__call__",
          "type_params": {
           "T": {
            "type": "Integer"
           },
           "U": {
            "params": {
             "T": {
              "type": "Integer"
             },
             "U": {
              "type": "Integer"
             }
            },
            "type": "Abstraction"
           }
          }
         }
        ],
        "8585831836328306700": [
         "8585831836328306700",
         {
          "repr": "<function fib_more at 0x1168d68c8>",
          "type": "function"
         }
        ],
        "8585831836344544575": [
         "8585831836344544575",
         {
          "repr": "<function fib at 0x1168d69d8>",
          "type": "function"
         }
        ],
        "8598825711106230675": [
         "8598825711106230675",
         {
          "repr": "0",
          "type": "int"
         }
        ],
        "8598825711107313200": [
         "8598825711107313200",
         {
          "repr": "1",
          "type": "int"
         }
        ],
        "8726312709841343735": [
         "-3779622452228743667",
         {
          "args": [
           "5526373529463636097",
           "1074252681624771870"
          ],
          "function": "FunctionOne.create",
          "type_params": {
           "T": {
            "type": "Integer"
           },
           "U": {
            "type": "Integer"
           }
          }
         }
        ],
        "87398247701288463": [
         "-1932889504864399250",
         {
          "args": [
           "-7400647636404638505",
           "-4063084017741447067"
          ],
          "function": "Abstraction.create",
          "type_params": {
           "T": {
            "params": {
             "T": {
              "type": "Integer"
             },
             "U": {
              "params": {
               "T": {
                "type": "Integer"
               },
               "U": {
                "params": {
                 "T": {
                  "type": "Integer"
                 },
                 "U": {
                  "type": "Integer"
                 }
                },
                "type": "Abstraction"
               }
              },
              "type": "Abstraction"
             }
            },
            "type": "Abstraction"
           },
           "U": {
            "params": {
             "T": {
              "type": "Integer"
             },
             "U": {
              "params": {
               "T": {
                "type": "Integer"
               },
               "U": {
                "params": {
                 "T": {
                  "type": "Integer"
                 },
                 "U": {
                  "type": "Integer"
                 }
                },
                "type": "Abstraction"
               }
              },
              "type": "Abstraction"
             }
            },
            "type": "Abstraction"
           }
          }
         }
        ],
        "8780046161789565558": [
         "-3087723200763476874",
         {
          "args": [
           "7856822241367733105",
           "4073902228159150686"
          ],
          "function": "Abstraction.create",
          "type_params": {
           "T": {
            "type": "Integer"
           },
           "U": {
            "params": {
             "T": {
              "type": "Integer"
             },
             "U": {
              "params": {
               "T": {
                "type": "Integer"
               },
               "U": {
                "type": "Integer"
               }
              },
              "type": "Abstraction"
             }
            },
            "type": "Abstraction"
           }
          }
         }
        ],
        "8801147746626219776": [
         "8801147746626219776",
         {
          "args": [
           "-1932889504864399250"
          ],
          "function": "Abstraction.fix"
         }
        ],
        "8877061846088262974": [
         "8877061846088262974",
         {
          "args": [
           "-2940189518331049811",
           "1752666831276928178"
          ],
          "function": "Abstraction.__call__",
          "type_params": {
           "T": {
            "type": "Integer"
           },
           "U": {
            "params": {
             "T": {
              "type": "Integer"
             },
             "U": {
              "params": {
               "T": {
                "type": "Integer"
               },
               "U": {
                "type": "Integer"
               }
              },
              "type": "Abstraction"
             }
            },
            "type": "Abstraction"
           }
          }
         }
        ],
        "9020930023439303079": [
         "9020930023439303079",
         {
          "args": [
           "8598825711107313200"
          ],
          "function": "Integer.from_int"
         }
        ],
        "928250676370072606": [
         "-810187736753820906",
         {
          "args": [
           "941384571545607357",
           "3899890043889562006",
           "-7597290592849074794",
           "9020930023439303079"
          ],
          "function": "RegisteredFunctionThree.__call__",
          "type_params": {
           "T": {
            "type": "Integer"
           },
           "U": {
            "type": "Integer"
           },
           "V": {
            "type": "Integer"
           },
           "X": {
            "type": "Integer"
           }
          }
         }
        ],
        "941384571545607357": [
         "-4553623623891019018",
         {
          "args": [
           "7257263591237017604"
          ],
          "function": "Pair.right",
          "type_params": {
           "T": {
            "type": "Module"
           },
           "U": {
            "params": {
             "T": {
              "type": "Integer"
             },
             "U": {
              "type": "Integer"
             },
             "V": {
              "type": "Integer"
             },
             "X": {
              "type": "Integer"
             }
            },
            "type": "RegisteredFunctionThree"
           }
          }
         }
        ],
        "992525320831925459": [
         "2518582446630638478",
         {
          "args": [
           "738469906536816337"
          ],
          "function": "Pair.left",
          "type_params": {
           "T": {
            "type": "Module"
           },
           "U": {
            "params": {
             "T": {
              "type": "Integer"
             },
             "U": {
              "type": "Integer"
             },
             "V": {
              "type": "Integer"
             },
             "X": {
              "type": "Integer"
             }
            },
            "type": "RegisteredFunctionThree"
           }
          }
         }
        ]
       },
       "states": {
        "initial": "-1714830395453943839",
        "states": [
         {
          "node": "8075608210541556547",
          "rule": "metadsl_core.function.FunctionOne.from_fn"
         },
         {
          "node": "3118760165051008443",
          "rule": "metadsl_core.abstraction.Abstraction.from_fn"
         },
         {
          "node": "-1721170120445872638",
          "rule": "metadsl_core.function.FunctionThree.from_fn_recursive"
         },
         {
          "node": "-89543877046842360",
          "rule": "metadsl_core.abstraction.Abstraction.from_fn"
         },
         {
          "node": "-5939528738052166783",
          "rule": "metadsl_core.abstraction.Abstraction.from_fn"
         },
         {
          "node": "-2811350437109351364",
          "rule": "metadsl_core.abstraction.Abstraction.from_fn"
         },
         {
          "node": "-4733530408271620173",
          "rule": "metadsl_core.abstraction.Abstraction.from_fn"
         },
         {
          "node": "3158353602033228597",
          "rule": "metadsl_core.function.three_call"
         },
         {
          "node": "1228354883235453503",
          "rule": "metadsl_core.function.three_abstraction"
         },
         {
          "label": "core",
          "node": "1228354883235453503",
          "rule": ""
         }
        ]
       }
      },
      "application/x.typez.graph+json": {
       "initial": "digraph {\n\tnode [shape=plain]\n\tedge [arrowsize=0.5 penwidth=0.5]\n\t-1714830395453943839 [label=\"Module.register_function_one\" id=-1714830395453943839]\n\t-1714830395453943839 -> 2518582446630638478 [id=\"-1714830395453943839.args[0]\"]\n\t2518582446630638478 [label=\"Pair.left\" id=2518582446630638478]\n\t2518582446630638478 -> 4702145645603070358 [id=\"2518582446630638478.args[0]\"]\n\t4702145645603070358 [label=\"Module.register_function_three\" id=4702145645603070358]\n\t4702145645603070358 -> -1164499840275005871 [id=\"4702145645603070358.args[0]\"]\n\t-1164499840275005871 [label=\"Module.create\" id=-1164499840275005871]\n\t-1164499840275005871 -> -3019361743255952840 [id=\"-1164499840275005871.args[0]\"]\n\t-3019361743255952840 [label=\"'Main'\" id=-3019361743255952840]\n\t4702145645603070358 -> -253143370029431816 [id=\"4702145645603070358.args[1]\"]\n\t-253143370029431816 [label=\"FunctionThree.from_fn_recursive\" id=-253143370029431816]\n\t-253143370029431816 -> 8585831836328306700 [id=\"-253143370029431816.args[0]\"]\n\t8585831836328306700 [label=\"function fib_more at 0x1168d68c8\" id=8585831836328306700]\n\t-1714830395453943839 -> -3779622452228743667 [id=\"-1714830395453943839.args[1]\"]\n\t-3779622452228743667 [label=\"FunctionOne.from_fn\" id=-3779622452228743667]\n\t-3779622452228743667 -> 8585831836344544575 [id=\"-3779622452228743667.args[0]\"]\n\t8585831836344544575 [label=\"function fib at 0x1168d69d8\" id=8585831836344544575]\n}",
       "states": [
        {
         "graph": "digraph {\n\tnode [shape=plain]\n\tedge [arrowsize=0.5 penwidth=0.5]\n\t8075608210541556547 [label=\"Module.register_function_one\" id=-1714830395453943839]\n\t8075608210541556547 -> 2518582446630638478 [id=\"-1714830395453943839.args[0]\"]\n\t2518582446630638478 [label=\"Pair.left\" id=2518582446630638478]\n\t2518582446630638478 -> 4702145645603070358 [id=\"2518582446630638478.args[0]\"]\n\t4702145645603070358 [label=\"Module.register_function_three\" id=4702145645603070358]\n\t4702145645603070358 -> -1164499840275005871 [id=\"4702145645603070358.args[0]\"]\n\t-1164499840275005871 [label=\"Module.create\" id=-1164499840275005871]\n\t-1164499840275005871 -> -3019361743255952840 [id=\"-1164499840275005871.args[0]\"]\n\t-3019361743255952840 [label=\"'Main'\" id=-3019361743255952840]\n\t4702145645603070358 -> -253143370029431816 [id=\"4702145645603070358.args[1]\"]\n\t-253143370029431816 [label=\"FunctionThree.from_fn_recursive\" id=-253143370029431816]\n\t-253143370029431816 -> 8585831836328306700 [id=\"-253143370029431816.args[0]\"]\n\t8585831836328306700 [label=\"function fib_more at 0x1168d68c8\" id=8585831836328306700]\n\t8075608210541556547 -> -6676712615099656200 [id=\"-1714830395453943839.args[1]\"]\n\t-6676712615099656200 [label=\"FunctionOne.create\" id=-3779622452228743667]\n\t-6676712615099656200 -> 5526373529463636097 [id=\"-3779622452228743667.args[0]\"]\n\t5526373529463636097 [label=\"'fib'\" id=5526373529463636097]\n\t-6676712615099656200 -> 4329826587329690174 [id=\"-3779622452228743667.args[1]\"]\n\t4329826587329690174 [label=\"Abstraction.from_fn\" id=4329826587329690174]\n\t4329826587329690174 -> 8585831836344544575 [id=\"4329826587329690174.args[0]\"]\n\t8585831836344544575 [label=\"function fib at 0x1168d69d8\" id=8585831836344544575]\n}",
         "label": null,
         "rule": "metadsl_core.function.FunctionOne.from_fn"
        },
        {
         "graph": "digraph {\n\tnode [shape=plain]\n\tedge [arrowsize=0.5 penwidth=0.5]\n\t3118760165051008443 [label=\"Module.register_function_one\" id=-1714830395453943839]\n\t3118760165051008443 -> 2518582446630638478 [id=\"-1714830395453943839.args[0]\"]\n\t2518582446630638478 [label=\"Pair.left\" id=2518582446630638478]\n\t2518582446630638478 -> 4702145645603070358 [id=\"2518582446630638478.args[0]\"]\n\t4702145645603070358 [label=\"Module.register_function_three\" id=4702145645603070358]\n\t4702145645603070358 -> -1164499840275005871 [id=\"4702145645603070358.args[0]\"]\n\t-1164499840275005871 [label=\"Module.create\" id=-1164499840275005871]\n\t-1164499840275005871 -> -3019361743255952840 [id=\"-1164499840275005871.args[0]\"]\n\t-3019361743255952840 [label=\"'Main'\" id=-3019361743255952840]\n\t4702145645603070358 -> -253143370029431816 [id=\"4702145645603070358.args[1]\"]\n\t-253143370029431816 [label=\"FunctionThree.from_fn_recursive\" id=-253143370029431816]\n\t-253143370029431816 -> 8585831836328306700 [id=\"-253143370029431816.args[0]\"]\n\t8585831836328306700 [label=\"function fib_more at 0x1168d68c8\" id=8585831836328306700]\n\t3118760165051008443 -> -6503282015658242896 [id=\"-1714830395453943839.args[1]\"]\n\t-6503282015658242896 [label=\"FunctionOne.create\" id=-3779622452228743667]\n\t-6503282015658242896 -> 5526373529463636097 [id=\"-3779622452228743667.args[0]\"]\n\t5526373529463636097 [label=\"'fib'\" id=5526373529463636097]\n\t-6503282015658242896 -> 2768063288314820470 [id=\"-3779622452228743667.args[1]\"]\n\t2768063288314820470 [label=\"Abstraction.create\" id=4329826587329690174]\n\t2768063288314820470 -> 3899890043889562006 [id=\"4329826587329690174.args[0]\"]\n\t3899890043889562006 [label=\"Abstraction.create_variable\" id=3899890043889562006]\n\t3899890043889562006 -> 4649088341809621766 [id=\"3899890043889562006.args[0]\"]\n\t4649088341809621766 [label=\"Variable(4492431824)\" id=4649088341809621766]\n\t2768063288314820470 -> -810187736753820906 [id=\"4329826587329690174.args[1]\"]\n\t-810187736753820906 [label=\"RegisteredFunctionThree.__call__\" id=-810187736753820906]\n\t-810187736753820906 -> -4553623623891019018 [id=\"-810187736753820906.args[0]\"]\n\t-4553623623891019018 [label=\"Pair.right\" id=-4553623623891019018]\n\t-4553623623891019018 -> 4702145645603070358 [id=\"-4553623623891019018.args[0]\"]\n\t-810187736753820906 -> 3899890043889562006 [id=\"-810187736753820906.args[1]\"]\n\t-810187736753820906 -> -7597290592849074794 [id=\"-810187736753820906.args[2]\"]\n\t-7597290592849074794 [label=\"Integer.from_int\" id=-7597290592849074794]\n\t-7597290592849074794 -> 8598825711106230675 [id=\"-7597290592849074794.args[0]\"]\n\t8598825711106230675 [label=0 id=8598825711106230675]\n\t-810187736753820906 -> 9020930023439303079 [id=\"-810187736753820906.args[3]\"]\n\t9020930023439303079 [label=\"Integer.from_int\" id=9020930023439303079]\n\t9020930023439303079 -> 8598825711107313200 [id=\"9020930023439303079.args[0]\"]\n\t8598825711107313200 [label=1 id=8598825711107313200]\n}",
         "label": null,
         "rule": "metadsl_core.abstraction.Abstraction.from_fn"
        },
        {
         "graph": "digraph {\n\tnode [shape=plain]\n\tedge [arrowsize=0.5 penwidth=0.5]\n\t-1721170120445872638 [label=\"Module.register_function_one\" id=-1714830395453943839]\n\t-1721170120445872638 -> 2893895912775619221 [id=\"-1714830395453943839.args[0]\"]\n\t2893895912775619221 [label=\"Pair.left\" id=2518582446630638478]\n\t2893895912775619221 -> 7257263591237017604 [id=\"2518582446630638478.args[0]\"]\n\t7257263591237017604 [label=\"Module.register_function_three\" id=4702145645603070358]\n\t7257263591237017604 -> -1164499840275005871 [id=\"4702145645603070358.args[0]\"]\n\t-1164499840275005871 [label=\"Module.create\" id=-1164499840275005871]\n\t-1164499840275005871 -> -3019361743255952840 [id=\"-1164499840275005871.args[0]\"]\n\t-3019361743255952840 [label=\"'Main'\" id=-3019361743255952840]\n\t7257263591237017604 -> 8104510563889729087 [id=\"4702145645603070358.args[1]\"]\n\t8104510563889729087 [label=\"FunctionThree.create\" id=-253143370029431816]\n\t8104510563889729087 -> 7703585934195696035 [id=\"-253143370029431816.args[0]\"]\n\t7703585934195696035 [label=\"'fib_more'\" id=7703585934195696035]\n\t8104510563889729087 -> 8801147746626219776 [id=\"-253143370029431816.args[1]\"]\n\t8801147746626219776 [label=\"Abstraction.fix\" id=8801147746626219776]\n\t8801147746626219776 -> -1932889504864399250 [id=\"8801147746626219776.args[0]\"]\n\t-1932889504864399250 [label=\"Abstraction.from_fn\" id=-1932889504864399250]\n\t-1932889504864399250 -> 4650627263041032016 [id=\"-1932889504864399250.args[0]\"]\n\t4650627263041032016 [label=\"FunctionReplaceTyping(fn=function FunctionThree.from_fn_recursive.locals.inner at 0x11689ed08, typevars={~V: class 'metadsl_core.integer.Integer', ~U: class 'metadsl_core.integer.Integer', ~T: class 'metadsl_core.integer.Integer', ~X: class 'metadsl_core.integer.Integer'}, typevars_in_scope={~X, ~U, ~T, ~V})\" id=4650627263041032016]\n\t-1721170120445872638 -> 8726312709841343735 [id=\"-1714830395453943839.args[1]\"]\n\t8726312709841343735 [label=\"FunctionOne.create\" id=-3779622452228743667]\n\t8726312709841343735 -> 5526373529463636097 [id=\"-3779622452228743667.args[0]\"]\n\t5526373529463636097 [label=\"'fib'\" id=5526373529463636097]\n\t8726312709841343735 -> 1074252681624771870 [id=\"-3779622452228743667.args[1]\"]\n\t1074252681624771870 [label=\"Abstraction.create\" id=4329826587329690174]\n\t1074252681624771870 -> 3899890043889562006 [id=\"4329826587329690174.args[0]\"]\n\t3899890043889562006 [label=\"Abstraction.create_variable\" id=3899890043889562006]\n\t3899890043889562006 -> 4649088341809621766 [id=\"3899890043889562006.args[0]\"]\n\t4649088341809621766 [label=\"Variable(4492431824)\" id=4649088341809621766]\n\t1074252681624771870 -> 928250676370072606 [id=\"4329826587329690174.args[1]\"]\n\t928250676370072606 [label=\"RegisteredFunctionThree.__call__\" id=-810187736753820906]\n\t928250676370072606 -> 941384571545607357 [id=\"-810187736753820906.args[0]\"]\n\t941384571545607357 [label=\"Pair.right\" id=-4553623623891019018]\n\t941384571545607357 -> 7257263591237017604 [id=\"-4553623623891019018.args[0]\"]\n\t928250676370072606 -> 3899890043889562006 [id=\"-810187736753820906.args[1]\"]\n\t928250676370072606 -> -7597290592849074794 [id=\"-810187736753820906.args[2]\"]\n\t-7597290592849074794 [label=\"Integer.from_int\" id=-7597290592849074794]\n\t-7597290592849074794 -> 8598825711106230675 [id=\"-7597290592849074794.args[0]\"]\n\t8598825711106230675 [label=0 id=8598825711106230675]\n\t928250676370072606 -> 9020930023439303079 [id=\"-810187736753820906.args[3]\"]\n\t9020930023439303079 [label=\"Integer.from_int\" id=9020930023439303079]\n\t9020930023439303079 -> 8598825711107313200 [id=\"9020930023439303079.args[0]\"]\n\t8598825711107313200 [label=1 id=8598825711107313200]\n}",
         "label": null,
         "rule": "metadsl_core.function.FunctionThree.from_fn_recursive"
        },
        {
         "graph": "digraph {\n\tnode [shape=plain]\n\tedge [arrowsize=0.5 penwidth=0.5]\n\t-89543877046842360 [label=\"Module.register_function_one\" id=-1714830395453943839]\n\t-89543877046842360 -> 2574588240885964772 [id=\"-1714830395453943839.args[0]\"]\n\t2574588240885964772 [label=\"Pair.left\" id=2518582446630638478]\n\t2574588240885964772 -> 4065537624140336697 [id=\"2518582446630638478.args[0]\"]\n\t4065537624140336697 [label=\"Module.register_function_three\" id=4702145645603070358]\n\t4065537624140336697 -> -1164499840275005871 [id=\"4702145645603070358.args[0]\"]\n\t-1164499840275005871 [label=\"Module.create\" id=-1164499840275005871]\n\t-1164499840275005871 -> -3019361743255952840 [id=\"-1164499840275005871.args[0]\"]\n\t-3019361743255952840 [label=\"'Main'\" id=-3019361743255952840]\n\t4065537624140336697 -> -8530807500697384604 [id=\"4702145645603070358.args[1]\"]\n\t-8530807500697384604 [label=\"FunctionThree.create\" id=-253143370029431816]\n\t-8530807500697384604 -> 7703585934195696035 [id=\"-253143370029431816.args[0]\"]\n\t7703585934195696035 [label=\"'fib_more'\" id=7703585934195696035]\n\t-8530807500697384604 -> -1885891958679969518 [id=\"-253143370029431816.args[1]\"]\n\t-1885891958679969518 [label=\"Abstraction.fix\" id=8801147746626219776]\n\t-1885891958679969518 -> -763076250771003340 [id=\"8801147746626219776.args[0]\"]\n\t-763076250771003340 [label=\"Abstraction.create\" id=-1932889504864399250]\n\t-763076250771003340 -> -7400647636404638505 [id=\"-1932889504864399250.args[0]\"]\n\t-7400647636404638505 [label=\"Abstraction.create_variable\" id=-7400647636404638505]\n\t-7400647636404638505 -> 4649118741502919491 [id=\"-7400647636404638505.args[0]\"]\n\t4649118741502919491 [label=\"Variable(4673311520)\" id=4649118741502919491]\n\t-763076250771003340 -> -3087723200763476874 [id=\"-1932889504864399250.args[1]\"]\n\t-3087723200763476874 [label=\"Abstraction.from_fn\" id=-3087723200763476874]\n\t-3087723200763476874 -> 4650627333405157016 [id=\"-3087723200763476874.args[0]\"]\n\t4650627333405157016 [label=\"FunctionReplaceTyping(fn=function FunctionThree.from_fn_recursive.locals.inner.locals.inner at 0x11689ea60, typevars={~V: class 'metadsl_core.integer.Integer', ~U: class 'metadsl_core.integer.Integer', ~T: class 'metadsl_core.integer.Integer', ~X: class 'metadsl_core.integer.Integer'}, typevars_in_scope={~X, ~U, ~T, ~V})\" id=4650627333405157016]\n\t-89543877046842360 -> -1124943269872633463 [id=\"-1714830395453943839.args[1]\"]\n\t-1124943269872633463 [label=\"FunctionOne.create\" id=-3779622452228743667]\n\t-1124943269872633463 -> 5526373529463636097 [id=\"-3779622452228743667.args[0]\"]\n\t5526373529463636097 [label=\"'fib'\" id=5526373529463636097]\n\t-1124943269872633463 -> 814890384444784096 [id=\"-3779622452228743667.args[1]\"]\n\t814890384444784096 [label=\"Abstraction.create\" id=4329826587329690174]\n\t814890384444784096 -> 3899890043889562006 [id=\"4329826587329690174.args[0]\"]\n\t3899890043889562006 [label=\"Abstraction.create_variable\" id=3899890043889562006]\n\t3899890043889562006 -> 4649088341809621766 [id=\"3899890043889562006.args[0]\"]\n\t4649088341809621766 [label=\"Variable(4492431824)\" id=4649088341809621766]\n\t814890384444784096 -> 5025137562088662558 [id=\"4329826587329690174.args[1]\"]\n\t5025137562088662558 [label=\"RegisteredFunctionThree.__call__\" id=-810187736753820906]\n\t5025137562088662558 -> 2362942817138107068 [id=\"-810187736753820906.args[0]\"]\n\t2362942817138107068 [label=\"Pair.right\" id=-4553623623891019018]\n\t2362942817138107068 -> 4065537624140336697 [id=\"-4553623623891019018.args[0]\"]\n\t5025137562088662558 -> 3899890043889562006 [id=\"-810187736753820906.args[1]\"]\n\t5025137562088662558 -> -7597290592849074794 [id=\"-810187736753820906.args[2]\"]\n\t-7597290592849074794 [label=\"Integer.from_int\" id=-7597290592849074794]\n\t-7597290592849074794 -> 8598825711106230675 [id=\"-7597290592849074794.args[0]\"]\n\t8598825711106230675 [label=0 id=8598825711106230675]\n\t5025137562088662558 -> 9020930023439303079 [id=\"-810187736753820906.args[3]\"]\n\t9020930023439303079 [label=\"Integer.from_int\" id=9020930023439303079]\n\t9020930023439303079 -> 8598825711107313200 [id=\"9020930023439303079.args[0]\"]\n\t8598825711107313200 [label=1 id=8598825711107313200]\n}",
         "label": null,
         "rule": "metadsl_core.abstraction.Abstraction.from_fn"
        },
        {
         "graph": "digraph {\n\tnode [shape=plain]\n\tedge [arrowsize=0.5 penwidth=0.5]\n\t-5939528738052166783 [label=\"Module.register_function_one\" id=-1714830395453943839]\n\t-5939528738052166783 -> -6032012311755794667 [id=\"-1714830395453943839.args[0]\"]\n\t-6032012311755794667 [label=\"Pair.left\" id=2518582446630638478]\n\t-6032012311755794667 -> -9021226333167932790 [id=\"2518582446630638478.args[0]\"]\n\t-9021226333167932790 [label=\"Module.register_function_three\" id=4702145645603070358]\n\t-9021226333167932790 -> -1164499840275005871 [id=\"4702145645603070358.args[0]\"]\n\t-1164499840275005871 [label=\"Module.create\" id=-1164499840275005871]\n\t-1164499840275005871 -> -3019361743255952840 [id=\"-1164499840275005871.args[0]\"]\n\t-3019361743255952840 [label=\"'Main'\" id=-3019361743255952840]\n\t-9021226333167932790 -> 3816079788154827995 [id=\"4702145645603070358.args[1]\"]\n\t3816079788154827995 [label=\"FunctionThree.create\" id=-253143370029431816]\n\t3816079788154827995 -> 7703585934195696035 [id=\"-253143370029431816.args[0]\"]\n\t7703585934195696035 [label=\"'fib_more'\" id=7703585934195696035]\n\t3816079788154827995 -> -39907425083475825 [id=\"-253143370029431816.args[1]\"]\n\t-39907425083475825 [label=\"Abstraction.fix\" id=8801147746626219776]\n\t-39907425083475825 -> -8857845491165415208 [id=\"8801147746626219776.args[0]\"]\n\t-8857845491165415208 [label=\"Abstraction.create\" id=-1932889504864399250]\n\t-8857845491165415208 -> -7400647636404638505 [id=\"-1932889504864399250.args[0]\"]\n\t-7400647636404638505 [label=\"Abstraction.create_variable\" id=-7400647636404638505]\n\t-7400647636404638505 -> 4649118741502919491 [id=\"-7400647636404638505.args[0]\"]\n\t4649118741502919491 [label=\"Variable(4673311520)\" id=4649118741502919491]\n\t-8857845491165415208 -> -6656656344703162365 [id=\"-1932889504864399250.args[1]\"]\n\t-6656656344703162365 [label=\"Abstraction.create\" id=-3087723200763476874]\n\t-6656656344703162365 -> 7856822241367733105 [id=\"-3087723200763476874.args[0]\"]\n\t7856822241367733105 [label=\"Abstraction.create_variable\" id=7856822241367733105]\n\t7856822241367733105 -> -4574253291362751692 [id=\"7856822241367733105.args[0]\"]\n\t-4574253291362751692 [label=\"Variable(4673169784)\" id=-4574253291362751692]\n\t-6656656344703162365 -> 5178179081337832958 [id=\"-3087723200763476874.args[1]\"]\n\t5178179081337832958 [label=\"Abstraction.from_fn\" id=5178179081337832958]\n\t5178179081337832958 -> 4650627413919036416 [id=\"5178179081337832958.args[0]\"]\n\t4650627413919036416 [label=\"FunctionReplaceTyping(fn=function FunctionThree.from_fn_recursive.locals.inner.locals.inner.locals.inner at 0x10bbb8b70, typevars={~V: class 'metadsl_core.integer.Integer', ~U: class 'metadsl_core.integer.Integer', ~T: class 'metadsl_core.integer.Integer', ~X: class 'metadsl_core.integer.Integer'}, typevars_in_scope={~X, ~U, ~T, ~V})\" id=4650627413919036416]\n\t-5939528738052166783 -> -4461555040721887095 [id=\"-1714830395453943839.args[1]\"]\n\t-4461555040721887095 [label=\"FunctionOne.create\" id=-3779622452228743667]\n\t-4461555040721887095 -> 5526373529463636097 [id=\"-3779622452228743667.args[0]\"]\n\t5526373529463636097 [label=\"'fib'\" id=5526373529463636097]\n\t-4461555040721887095 -> 5675796053236872926 [id=\"-3779622452228743667.args[1]\"]\n\t5675796053236872926 [label=\"Abstraction.create\" id=4329826587329690174]\n\t5675796053236872926 -> 3899890043889562006 [id=\"4329826587329690174.args[0]\"]\n\t3899890043889562006 [label=\"Abstraction.create_variable\" id=3899890043889562006]\n\t3899890043889562006 -> 4649088341809621766 [id=\"3899890043889562006.args[0]\"]\n\t4649088341809621766 [label=\"Variable(4492431824)\" id=4649088341809621766]\n\t5675796053236872926 -> -3245476870235632161 [id=\"4329826587329690174.args[1]\"]\n\t-3245476870235632161 [label=\"RegisteredFunctionThree.__call__\" id=-810187736753820906]\n\t-3245476870235632161 -> 3534553441874586685 [id=\"-810187736753820906.args[0]\"]\n\t3534553441874586685 [label=\"Pair.right\" id=-4553623623891019018]\n\t3534553441874586685 -> -9021226333167932790 [id=\"-4553623623891019018.args[0]\"]\n\t-3245476870235632161 -> 3899890043889562006 [id=\"-810187736753820906.args[1]\"]\n\t-3245476870235632161 -> -7597290592849074794 [id=\"-810187736753820906.args[2]\"]\n\t-7597290592849074794 [label=\"Integer.from_int\" id=-7597290592849074794]\n\t-7597290592849074794 -> 8598825711106230675 [id=\"-7597290592849074794.args[0]\"]\n\t8598825711106230675 [label=0 id=8598825711106230675]\n\t-3245476870235632161 -> 9020930023439303079 [id=\"-810187736753820906.args[3]\"]\n\t9020930023439303079 [label=\"Integer.from_int\" id=9020930023439303079]\n\t9020930023439303079 -> 8598825711107313200 [id=\"9020930023439303079.args[0]\"]\n\t8598825711107313200 [label=1 id=8598825711107313200]\n}",
         "label": null,
         "rule": "metadsl_core.abstraction.Abstraction.from_fn"
        },
        {
         "graph": "digraph {\n\tnode [shape=plain]\n\tedge [arrowsize=0.5 penwidth=0.5]\n\t-2811350437109351364 [label=\"Module.register_function_one\" id=-1714830395453943839]\n\t-2811350437109351364 -> -269712509789740535 [id=\"-1714830395453943839.args[0]\"]\n\t-269712509789740535 [label=\"Pair.left\" id=2518582446630638478]\n\t-269712509789740535 -> 8383917784247342208 [id=\"2518582446630638478.args[0]\"]\n\t8383917784247342208 [label=\"Module.register_function_three\" id=4702145645603070358]\n\t8383917784247342208 -> -1164499840275005871 [id=\"4702145645603070358.args[0]\"]\n\t-1164499840275005871 [label=\"Module.create\" id=-1164499840275005871]\n\t-1164499840275005871 -> -3019361743255952840 [id=\"-1164499840275005871.args[0]\"]\n\t-3019361743255952840 [label=\"'Main'\" id=-3019361743255952840]\n\t8383917784247342208 -> -2029313865202911426 [id=\"4702145645603070358.args[1]\"]\n\t-2029313865202911426 [label=\"FunctionThree.create\" id=-253143370029431816]\n\t-2029313865202911426 -> 7703585934195696035 [id=\"-253143370029431816.args[0]\"]\n\t7703585934195696035 [label=\"'fib_more'\" id=7703585934195696035]\n\t-2029313865202911426 -> -4218760416264517507 [id=\"-253143370029431816.args[1]\"]\n\t-4218760416264517507 [label=\"Abstraction.fix\" id=8801147746626219776]\n\t-4218760416264517507 -> 87398247701288463 [id=\"8801147746626219776.args[0]\"]\n\t87398247701288463 [label=\"Abstraction.create\" id=-1932889504864399250]\n\t87398247701288463 -> -7400647636404638505 [id=\"-1932889504864399250.args[0]\"]\n\t-7400647636404638505 [label=\"Abstraction.create_variable\" id=-7400647636404638505]\n\t-7400647636404638505 -> 4649118741502919491 [id=\"-7400647636404638505.args[0]\"]\n\t4649118741502919491 [label=\"Variable(4673311520)\" id=4649118741502919491]\n\t87398247701288463 -> -4063084017741447067 [id=\"-1932889504864399250.args[1]\"]\n\t-4063084017741447067 [label=\"Abstraction.create\" id=-3087723200763476874]\n\t-4063084017741447067 -> 7856822241367733105 [id=\"-3087723200763476874.args[0]\"]\n\t7856822241367733105 [label=\"Abstraction.create_variable\" id=7856822241367733105]\n\t7856822241367733105 -> -4574253291362751692 [id=\"7856822241367733105.args[0]\"]\n\t-4574253291362751692 [label=\"Variable(4673169784)\" id=-4574253291362751692]\n\t-4063084017741447067 -> 471841972016386426 [id=\"-3087723200763476874.args[1]\"]\n\t471841972016386426 [label=\"Abstraction.create\" id=5178179081337832958]\n\t471841972016386426 -> 1090465956767715260 [id=\"5178179081337832958.args[0]\"]\n\t1090465956767715260 [label=\"Abstraction.create_variable\" id=1090465956767715260]\n\t1090465956767715260 -> -4574253307722952017 [id=\"1090465956767715260.args[0]\"]\n\t-4574253307722952017 [label=\"Variable(4673395176)\" id=-4574253307722952017]\n\t471841972016386426 -> 2307731638075662222 [id=\"5178179081337832958.args[1]\"]\n\t2307731638075662222 [label=\"Abstraction.from_fn\" id=2307731638075662222]\n\t2307731638075662222 -> 4650627331803020016 [id=\"2307731638075662222.args[0]\"]\n\t4650627331803020016 [label=\"FunctionReplaceTyping(fn=function FunctionThree.from_fn_recursive.locals.inner.locals.inner.locals.inner.locals.inner at 0x1168d66a8, typevars={~V: class 'metadsl_core.integer.Integer', ~U: class 'metadsl_core.integer.Integer', ~T: class 'metadsl_core.integer.Integer', ~X: class 'metadsl_core.integer.Integer'}, typevars_in_scope={~X, ~U, ~T, ~V})\" id=4650627331803020016]\n\t-2811350437109351364 -> 2966601230342068760 [id=\"-1714830395453943839.args[1]\"]\n\t2966601230342068760 [label=\"FunctionOne.create\" id=-3779622452228743667]\n\t2966601230342068760 -> 5526373529463636097 [id=\"-3779622452228743667.args[0]\"]\n\t5526373529463636097 [label=\"'fib'\" id=5526373529463636097]\n\t2966601230342068760 -> 700739599270599839 [id=\"-3779622452228743667.args[1]\"]\n\t700739599270599839 [label=\"Abstraction.create\" id=4329826587329690174]\n\t700739599270599839 -> 3899890043889562006 [id=\"4329826587329690174.args[0]\"]\n\t3899890043889562006 [label=\"Abstraction.create_variable\" id=3899890043889562006]\n\t3899890043889562006 -> 4649088341809621766 [id=\"3899890043889562006.args[0]\"]\n\t4649088341809621766 [label=\"Variable(4492431824)\" id=4649088341809621766]\n\t700739599270599839 -> -5711383986611995889 [id=\"4329826587329690174.args[1]\"]\n\t-5711383986611995889 [label=\"RegisteredFunctionThree.__call__\" id=-810187736753820906]\n\t-5711383986611995889 -> -8731292827514780655 [id=\"-810187736753820906.args[0]\"]\n\t-8731292827514780655 [label=\"Pair.right\" id=-4553623623891019018]\n\t-8731292827514780655 -> 8383917784247342208 [id=\"-4553623623891019018.args[0]\"]\n\t-5711383986611995889 -> 3899890043889562006 [id=\"-810187736753820906.args[1]\"]\n\t-5711383986611995889 -> -7597290592849074794 [id=\"-810187736753820906.args[2]\"]\n\t-7597290592849074794 [label=\"Integer.from_int\" id=-7597290592849074794]\n\t-7597290592849074794 -> 8598825711106230675 [id=\"-7597290592849074794.args[0]\"]\n\t8598825711106230675 [label=0 id=8598825711106230675]\n\t-5711383986611995889 -> 9020930023439303079 [id=\"-810187736753820906.args[3]\"]\n\t9020930023439303079 [label=\"Integer.from_int\" id=9020930023439303079]\n\t9020930023439303079 -> 8598825711107313200 [id=\"9020930023439303079.args[0]\"]\n\t8598825711107313200 [label=1 id=8598825711107313200]\n}",
         "label": null,
         "rule": "metadsl_core.abstraction.Abstraction.from_fn"
        },
        {
         "graph": "digraph {\n\tnode [shape=plain]\n\tedge [arrowsize=0.5 penwidth=0.5]\n\t-4733530408271620173 [label=\"Module.register_function_one\" id=-1714830395453943839]\n\t-4733530408271620173 -> 171073090034663769 [id=\"-1714830395453943839.args[0]\"]\n\t171073090034663769 [label=\"Pair.left\" id=2518582446630638478]\n\t171073090034663769 -> -9173848002956768714 [id=\"2518582446630638478.args[0]\"]\n\t-9173848002956768714 [label=\"Module.register_function_three\" id=4702145645603070358]\n\t-9173848002956768714 -> -1164499840275005871 [id=\"4702145645603070358.args[0]\"]\n\t-1164499840275005871 [label=\"Module.create\" id=-1164499840275005871]\n\t-1164499840275005871 -> -3019361743255952840 [id=\"-1164499840275005871.args[0]\"]\n\t-3019361743255952840 [label=\"'Main'\" id=-3019361743255952840]\n\t-9173848002956768714 -> 4380086844876563415 [id=\"4702145645603070358.args[1]\"]\n\t4380086844876563415 [label=\"FunctionThree.create\" id=-253143370029431816]\n\t4380086844876563415 -> 7703585934195696035 [id=\"-253143370029431816.args[0]\"]\n\t7703585934195696035 [label=\"'fib_more'\" id=7703585934195696035]\n\t4380086844876563415 -> 2947539676218675370 [id=\"-253143370029431816.args[1]\"]\n\t2947539676218675370 [label=\"Abstraction.fix\" id=8801147746626219776]\n\t2947539676218675370 -> -5041527749816276050 [id=\"8801147746626219776.args[0]\"]\n\t-5041527749816276050 [label=\"Abstraction.create\" id=-1932889504864399250]\n\t-5041527749816276050 -> -7400647636404638505 [id=\"-1932889504864399250.args[0]\"]\n\t-7400647636404638505 [label=\"Abstraction.create_variable\" id=-7400647636404638505]\n\t-7400647636404638505 -> 4649118741502919491 [id=\"-7400647636404638505.args[0]\"]\n\t4649118741502919491 [label=\"Variable(4673311520)\" id=4649118741502919491]\n\t-5041527749816276050 -> 1366418519688953015 [id=\"-1932889504864399250.args[1]\"]\n\t1366418519688953015 [label=\"Abstraction.create\" id=-3087723200763476874]\n\t1366418519688953015 -> 7856822241367733105 [id=\"-3087723200763476874.args[0]\"]\n\t7856822241367733105 [label=\"Abstraction.create_variable\" id=7856822241367733105]\n\t7856822241367733105 -> -4574253291362751692 [id=\"7856822241367733105.args[0]\"]\n\t-4574253291362751692 [label=\"Variable(4673169784)\" id=-4574253291362751692]\n\t1366418519688953015 -> -9058435180798404145 [id=\"-3087723200763476874.args[1]\"]\n\t-9058435180798404145 [label=\"Abstraction.create\" id=5178179081337832958]\n\t-9058435180798404145 -> 1090465956767715260 [id=\"5178179081337832958.args[0]\"]\n\t1090465956767715260 [label=\"Abstraction.create_variable\" id=1090465956767715260]\n\t1090465956767715260 -> -4574253307722952017 [id=\"1090465956767715260.args[0]\"]\n\t-4574253307722952017 [label=\"Variable(4673395176)\" id=-4574253307722952017]\n\t-9058435180798404145 -> -3160271632765634655 [id=\"5178179081337832958.args[1]\"]\n\t-3160271632765634655 [label=\"Abstraction.create\" id=2307731638075662222]\n\t-3160271632765634655 -> 2366648574636959712 [id=\"2307731638075662222.args[0]\"]\n\t2366648574636959712 [label=\"Abstraction.create_variable\" id=2366648574636959712]\n\t2366648574636959712 -> -4574253297339372217 [id=\"2366648574636959712.args[0]\"]\n\t-4574253297339372217 [label=\"Variable(4673341032)\" id=-4574253297339372217]\n\t-3160271632765634655 -> -1485898016486786863 [id=\"2307731638075662222.args[1]\"]\n\t-1485898016486786863 [label=\"Boolean.if_\" id=-1485898016486786863]\n\t-1485898016486786863 -> -1612040592398918144 [id=\"-1485898016486786863.args[0]\"]\n\t-1612040592398918144 [label=\"Integer.__gt__\" id=-1612040592398918144]\n\t-1612040592398918144 -> 7856822241367733105 [id=\"-1612040592398918144.args[0]\"]\n\t-1612040592398918144 -> 9020930023439303079 [id=\"-1612040592398918144.args[1]\"]\n\t9020930023439303079 [label=\"Integer.from_int\" id=9020930023439303079]\n\t9020930023439303079 -> 8598825711107313200 [id=\"9020930023439303079.args[0]\"]\n\t8598825711107313200 [label=1 id=8598825711107313200]\n\t-1485898016486786863 -> -4080477075120021145 [id=\"-1485898016486786863.args[1]\"]\n\t-4080477075120021145 [label=\"FunctionThree.__call__\" id=-4080477075120021145]\n\t-4080477075120021145 -> -2912796476831813722 [id=\"-4080477075120021145.args[0]\"]\n\t-2912796476831813722 [label=\"FunctionThree.create\" id=-2912796476831813722]\n\t-2912796476831813722 -> 7703585934195696035 [id=\"-2912796476831813722.args[0]\"]\n\t-2912796476831813722 -> -7400647636404638505 [id=\"-2912796476831813722.args[1]\"]\n\t-4080477075120021145 -> 1752666831276928178 [id=\"-4080477075120021145.args[1]\"]\n\t1752666831276928178 [label=\"Integer.__sub__\" id=1752666831276928178]\n\t1752666831276928178 -> 7856822241367733105 [id=\"1752666831276928178.args[0]\"]\n\t1752666831276928178 -> 9020930023439303079 [id=\"1752666831276928178.args[1]\"]\n\t-4080477075120021145 -> 2366648574636959712 [id=\"-4080477075120021145.args[2]\"]\n\t-4080477075120021145 -> -974063059350097932 [id=\"-4080477075120021145.args[3]\"]\n\t-974063059350097932 [label=\"Integer.__add__\" id=-974063059350097932]\n\t-974063059350097932 -> 1090465956767715260 [id=\"-974063059350097932.args[0]\"]\n\t-974063059350097932 -> 2366648574636959712 [id=\"-974063059350097932.args[1]\"]\n\t-1485898016486786863 -> 5753232760418890494 [id=\"-1485898016486786863.args[2]\"]\n\t5753232760418890494 [label=\"Boolean.if_\" id=5753232760418890494]\n\t5753232760418890494 -> -9034000034964784433 [id=\"5753232760418890494.args[0]\"]\n\t-9034000034964784433 [label=\"Integer.eq\" id=-9034000034964784433]\n\t-9034000034964784433 -> 7856822241367733105 [id=\"-9034000034964784433.args[0]\"]\n\t-9034000034964784433 -> 9020930023439303079 [id=\"-9034000034964784433.args[1]\"]\n\t5753232760418890494 -> 2366648574636959712 [id=\"5753232760418890494.args[1]\"]\n\t5753232760418890494 -> 1090465956767715260 [id=\"5753232760418890494.args[2]\"]\n\t-4733530408271620173 -> 3097338779696424959 [id=\"-1714830395453943839.args[1]\"]\n\t3097338779696424959 [label=\"FunctionOne.create\" id=-3779622452228743667]\n\t3097338779696424959 -> 5526373529463636097 [id=\"-3779622452228743667.args[0]\"]\n\t5526373529463636097 [label=\"'fib'\" id=5526373529463636097]\n\t3097338779696424959 -> -196401169117226618 [id=\"-3779622452228743667.args[1]\"]\n\t-196401169117226618 [label=\"Abstraction.create\" id=4329826587329690174]\n\t-196401169117226618 -> 3899890043889562006 [id=\"4329826587329690174.args[0]\"]\n\t3899890043889562006 [label=\"Abstraction.create_variable\" id=3899890043889562006]\n\t3899890043889562006 -> 4649088341809621766 [id=\"3899890043889562006.args[0]\"]\n\t4649088341809621766 [label=\"Variable(4492431824)\" id=4649088341809621766]\n\t-196401169117226618 -> 7979309874726565315 [id=\"4329826587329690174.args[1]\"]\n\t7979309874726565315 [label=\"RegisteredFunctionThree.__call__\" id=-810187736753820906]\n\t7979309874726565315 -> 4151376260364842177 [id=\"-810187736753820906.args[0]\"]\n\t4151376260364842177 [label=\"Pair.right\" id=-4553623623891019018]\n\t4151376260364842177 -> -9173848002956768714 [id=\"-4553623623891019018.args[0]\"]\n\t7979309874726565315 -> 3899890043889562006 [id=\"-810187736753820906.args[1]\"]\n\t7979309874726565315 -> -7597290592849074794 [id=\"-810187736753820906.args[2]\"]\n\t-7597290592849074794 [label=\"Integer.from_int\" id=-7597290592849074794]\n\t-7597290592849074794 -> 8598825711106230675 [id=\"-7597290592849074794.args[0]\"]\n\t8598825711106230675 [label=0 id=8598825711106230675]\n\t7979309874726565315 -> 9020930023439303079 [id=\"-810187736753820906.args[3]\"]\n}",
         "label": null,
         "rule": "metadsl_core.abstraction.Abstraction.from_fn"
        },
        {
         "graph": "digraph {\n\tnode [shape=plain]\n\tedge [arrowsize=0.5 penwidth=0.5]\n\t3158353602033228597 [label=\"Module.register_function_one\" id=-1714830395453943839]\n\t3158353602033228597 -> -2037722445964592573 [id=\"-1714830395453943839.args[0]\"]\n\t-2037722445964592573 [label=\"Pair.left\" id=2518582446630638478]\n\t-2037722445964592573 -> 190392315158445537 [id=\"2518582446630638478.args[0]\"]\n\t190392315158445537 [label=\"Module.register_function_three\" id=4702145645603070358]\n\t190392315158445537 -> -1164499840275005871 [id=\"4702145645603070358.args[0]\"]\n\t-1164499840275005871 [label=\"Module.create\" id=-1164499840275005871]\n\t-1164499840275005871 -> -3019361743255952840 [id=\"-1164499840275005871.args[0]\"]\n\t-3019361743255952840 [label=\"'Main'\" id=-3019361743255952840]\n\t190392315158445537 -> -1346456170205249959 [id=\"4702145645603070358.args[1]\"]\n\t-1346456170205249959 [label=\"FunctionThree.create\" id=-253143370029431816]\n\t-1346456170205249959 -> 7703585934195696035 [id=\"-253143370029431816.args[0]\"]\n\t7703585934195696035 [label=\"'fib_more'\" id=7703585934195696035]\n\t-1346456170205249959 -> -6734826181284550457 [id=\"-253143370029431816.args[1]\"]\n\t-6734826181284550457 [label=\"Abstraction.fix\" id=8801147746626219776]\n\t-6734826181284550457 -> -7905657951517262896 [id=\"8801147746626219776.args[0]\"]\n\t-7905657951517262896 [label=\"Abstraction.create\" id=-1932889504864399250]\n\t-7905657951517262896 -> -7400647636404638505 [id=\"-1932889504864399250.args[0]\"]\n\t-7400647636404638505 [label=\"Abstraction.create_variable\" id=-7400647636404638505]\n\t-7400647636404638505 -> 4649118741502919491 [id=\"-7400647636404638505.args[0]\"]\n\t4649118741502919491 [label=\"Variable(4673311520)\" id=4649118741502919491]\n\t-7905657951517262896 -> -275382149836070007 [id=\"-1932889504864399250.args[1]\"]\n\t-275382149836070007 [label=\"Abstraction.create\" id=-3087723200763476874]\n\t-275382149836070007 -> 7856822241367733105 [id=\"-3087723200763476874.args[0]\"]\n\t7856822241367733105 [label=\"Abstraction.create_variable\" id=7856822241367733105]\n\t7856822241367733105 -> -4574253291362751692 [id=\"7856822241367733105.args[0]\"]\n\t-4574253291362751692 [label=\"Variable(4673169784)\" id=-4574253291362751692]\n\t-275382149836070007 -> -7656034677796874151 [id=\"-3087723200763476874.args[1]\"]\n\t-7656034677796874151 [label=\"Abstraction.create\" id=5178179081337832958]\n\t-7656034677796874151 -> 1090465956767715260 [id=\"5178179081337832958.args[0]\"]\n\t1090465956767715260 [label=\"Abstraction.create_variable\" id=1090465956767715260]\n\t1090465956767715260 -> -4574253307722952017 [id=\"1090465956767715260.args[0]\"]\n\t-4574253307722952017 [label=\"Variable(4673395176)\" id=-4574253307722952017]\n\t-7656034677796874151 -> -333155308779018134 [id=\"5178179081337832958.args[1]\"]\n\t-333155308779018134 [label=\"Abstraction.create\" id=2307731638075662222]\n\t-333155308779018134 -> 2366648574636959712 [id=\"2307731638075662222.args[0]\"]\n\t2366648574636959712 [label=\"Abstraction.create_variable\" id=2366648574636959712]\n\t2366648574636959712 -> -4574253297339372217 [id=\"2366648574636959712.args[0]\"]\n\t-4574253297339372217 [label=\"Variable(4673341032)\" id=-4574253297339372217]\n\t-333155308779018134 -> -8307622392130266473 [id=\"2307731638075662222.args[1]\"]\n\t-8307622392130266473 [label=\"Boolean.if_\" id=-1485898016486786863]\n\t-8307622392130266473 -> -1612040592398918144 [id=\"-1485898016486786863.args[0]\"]\n\t-1612040592398918144 [label=\"Integer.__gt__\" id=-1612040592398918144]\n\t-1612040592398918144 -> 7856822241367733105 [id=\"-1612040592398918144.args[0]\"]\n\t-1612040592398918144 -> 9020930023439303079 [id=\"-1612040592398918144.args[1]\"]\n\t9020930023439303079 [label=\"Integer.from_int\" id=9020930023439303079]\n\t9020930023439303079 -> 8598825711107313200 [id=\"9020930023439303079.args[0]\"]\n\t8598825711107313200 [label=1 id=8598825711107313200]\n\t-8307622392130266473 -> -2474979669613506447 [id=\"-1485898016486786863.args[1]\"]\n\t-2474979669613506447 [label=\"Abstraction.__call__\" id=-4080477075120021145]\n\t-2474979669613506447 -> 8565734121504583758 [id=\"-4080477075120021145.args[0]\"]\n\t8565734121504583758 [label=\"Abstraction.__call__\" id=8565734121504583758]\n\t8565734121504583758 -> 8877061846088262974 [id=\"8565734121504583758.args[0]\"]\n\t8877061846088262974 [label=\"Abstraction.__call__\" id=8877061846088262974]\n\t8877061846088262974 -> -2940189518331049811 [id=\"8877061846088262974.args[0]\"]\n\t-2940189518331049811 [label=\"FunctionThree.abstraction\" id=-2940189518331049811]\n\t-2940189518331049811 -> -2912796476831813722 [id=\"-2940189518331049811.args[0]\"]\n\t-2912796476831813722 [label=\"FunctionThree.create\" id=-2912796476831813722]\n\t-2912796476831813722 -> 7703585934195696035 [id=\"-2912796476831813722.args[0]\"]\n\t-2912796476831813722 -> -7400647636404638505 [id=\"-2912796476831813722.args[1]\"]\n\t8877061846088262974 -> 1752666831276928178 [id=\"8877061846088262974.args[1]\"]\n\t1752666831276928178 [label=\"Integer.__sub__\" id=1752666831276928178]\n\t1752666831276928178 -> 7856822241367733105 [id=\"1752666831276928178.args[0]\"]\n\t1752666831276928178 -> 9020930023439303079 [id=\"1752666831276928178.args[1]\"]\n\t8565734121504583758 -> 2366648574636959712 [id=\"8565734121504583758.args[1]\"]\n\t-2474979669613506447 -> -974063059350097932 [id=\"-4080477075120021145.args[1]\"]\n\t-974063059350097932 [label=\"Integer.__add__\" id=-974063059350097932]\n\t-974063059350097932 -> 1090465956767715260 [id=\"-974063059350097932.args[0]\"]\n\t-974063059350097932 -> 2366648574636959712 [id=\"-974063059350097932.args[1]\"]\n\t-8307622392130266473 -> 5753232760418890494 [id=\"-1485898016486786863.args[2]\"]\n\t5753232760418890494 [label=\"Boolean.if_\" id=5753232760418890494]\n\t5753232760418890494 -> -9034000034964784433 [id=\"5753232760418890494.args[0]\"]\n\t-9034000034964784433 [label=\"Integer.eq\" id=-9034000034964784433]\n\t-9034000034964784433 -> 7856822241367733105 [id=\"-9034000034964784433.args[0]\"]\n\t-9034000034964784433 -> 9020930023439303079 [id=\"-9034000034964784433.args[1]\"]\n\t5753232760418890494 -> 2366648574636959712 [id=\"5753232760418890494.args[1]\"]\n\t5753232760418890494 -> 1090465956767715260 [id=\"5753232760418890494.args[2]\"]\n\t3158353602033228597 -> 5187427192502162050 [id=\"-1714830395453943839.args[1]\"]\n\t5187427192502162050 [label=\"FunctionOne.create\" id=-3779622452228743667]\n\t5187427192502162050 -> 5526373529463636097 [id=\"-3779622452228743667.args[0]\"]\n\t5526373529463636097 [label=\"'fib'\" id=5526373529463636097]\n\t5187427192502162050 -> -3522287728339387422 [id=\"-3779622452228743667.args[1]\"]\n\t-3522287728339387422 [label=\"Abstraction.create\" id=4329826587329690174]\n\t-3522287728339387422 -> 3899890043889562006 [id=\"4329826587329690174.args[0]\"]\n\t3899890043889562006 [label=\"Abstraction.create_variable\" id=3899890043889562006]\n\t3899890043889562006 -> 4649088341809621766 [id=\"3899890043889562006.args[0]\"]\n\t4649088341809621766 [label=\"Variable(4492431824)\" id=4649088341809621766]\n\t-3522287728339387422 -> 6519788949964961672 [id=\"4329826587329690174.args[1]\"]\n\t6519788949964961672 [label=\"RegisteredFunctionThree.__call__\" id=-810187736753820906]\n\t6519788949964961672 -> 2055006138732628251 [id=\"-810187736753820906.args[0]\"]\n\t2055006138732628251 [label=\"Pair.right\" id=-4553623623891019018]\n\t2055006138732628251 -> 190392315158445537 [id=\"-4553623623891019018.args[0]\"]\n\t6519788949964961672 -> 3899890043889562006 [id=\"-810187736753820906.args[1]\"]\n\t6519788949964961672 -> -7597290592849074794 [id=\"-810187736753820906.args[2]\"]\n\t-7597290592849074794 [label=\"Integer.from_int\" id=-7597290592849074794]\n\t-7597290592849074794 -> 8598825711106230675 [id=\"-7597290592849074794.args[0]\"]\n\t8598825711106230675 [label=0 id=8598825711106230675]\n\t6519788949964961672 -> 9020930023439303079 [id=\"-810187736753820906.args[3]\"]\n}",
         "label": null,
         "rule": "metadsl_core.function.three_call"
        },
        {
         "graph": "digraph {\n\tnode [shape=plain]\n\tedge [arrowsize=0.5 penwidth=0.5]\n\t1228354883235453503 [label=\"Module.register_function_one\" id=-1714830395453943839]\n\t1228354883235453503 -> 992525320831925459 [id=\"-1714830395453943839.args[0]\"]\n\t992525320831925459 [label=\"Pair.left\" id=2518582446630638478]\n\t992525320831925459 -> 738469906536816337 [id=\"2518582446630638478.args[0]\"]\n\t738469906536816337 [label=\"Module.register_function_three\" id=4702145645603070358]\n\t738469906536816337 -> -1164499840275005871 [id=\"4702145645603070358.args[0]\"]\n\t-1164499840275005871 [label=\"Module.create\" id=-1164499840275005871]\n\t-1164499840275005871 -> -3019361743255952840 [id=\"-1164499840275005871.args[0]\"]\n\t-3019361743255952840 [label=\"'Main'\" id=-3019361743255952840]\n\t738469906536816337 -> 7051358847554943654 [id=\"4702145645603070358.args[1]\"]\n\t7051358847554943654 [label=\"FunctionThree.create\" id=-253143370029431816]\n\t7051358847554943654 -> 7703585934195696035 [id=\"-253143370029431816.args[0]\"]\n\t7703585934195696035 [label=\"'fib_more'\" id=7703585934195696035]\n\t7051358847554943654 -> -5196979908363723306 [id=\"-253143370029431816.args[1]\"]\n\t-5196979908363723306 [label=\"Abstraction.fix\" id=8801147746626219776]\n\t-5196979908363723306 -> 2140814533659902208 [id=\"8801147746626219776.args[0]\"]\n\t2140814533659902208 [label=\"Abstraction.create\" id=-1932889504864399250]\n\t2140814533659902208 -> -7400647636404638505 [id=\"-1932889504864399250.args[0]\"]\n\t-7400647636404638505 [label=\"Abstraction.create_variable\" id=-7400647636404638505]\n\t-7400647636404638505 -> 4649118741502919491 [id=\"-7400647636404638505.args[0]\"]\n\t4649118741502919491 [label=\"Variable(4673311520)\" id=4649118741502919491]\n\t2140814533659902208 -> 8780046161789565558 [id=\"-1932889504864399250.args[1]\"]\n\t8780046161789565558 [label=\"Abstraction.create\" id=-3087723200763476874]\n\t8780046161789565558 -> 7856822241367733105 [id=\"-3087723200763476874.args[0]\"]\n\t7856822241367733105 [label=\"Abstraction.create_variable\" id=7856822241367733105]\n\t7856822241367733105 -> -4574253291362751692 [id=\"7856822241367733105.args[0]\"]\n\t-4574253291362751692 [label=\"Variable(4673169784)\" id=-4574253291362751692]\n\t8780046161789565558 -> 4073902228159150686 [id=\"-3087723200763476874.args[1]\"]\n\t4073902228159150686 [label=\"Abstraction.create\" id=5178179081337832958]\n\t4073902228159150686 -> 1090465956767715260 [id=\"5178179081337832958.args[0]\"]\n\t1090465956767715260 [label=\"Abstraction.create_variable\" id=1090465956767715260]\n\t1090465956767715260 -> -4574253307722952017 [id=\"1090465956767715260.args[0]\"]\n\t-4574253307722952017 [label=\"Variable(4673395176)\" id=-4574253307722952017]\n\t4073902228159150686 -> -2903106647522861324 [id=\"5178179081337832958.args[1]\"]\n\t-2903106647522861324 [label=\"Abstraction.create\" id=2307731638075662222]\n\t-2903106647522861324 -> 2366648574636959712 [id=\"2307731638075662222.args[0]\"]\n\t2366648574636959712 [label=\"Abstraction.create_variable\" id=2366648574636959712]\n\t2366648574636959712 -> -4574253297339372217 [id=\"2366648574636959712.args[0]\"]\n\t-4574253297339372217 [label=\"Variable(4673341032)\" id=-4574253297339372217]\n\t-2903106647522861324 -> 2089956620439341258 [id=\"2307731638075662222.args[1]\"]\n\t2089956620439341258 [label=\"Boolean.if_\" id=-1485898016486786863]\n\t2089956620439341258 -> -1612040592398918144 [id=\"-1485898016486786863.args[0]\"]\n\t-1612040592398918144 [label=\"Integer.__gt__\" id=-1612040592398918144]\n\t-1612040592398918144 -> 7856822241367733105 [id=\"-1612040592398918144.args[0]\"]\n\t-1612040592398918144 -> 9020930023439303079 [id=\"-1612040592398918144.args[1]\"]\n\t9020930023439303079 [label=\"Integer.from_int\" id=9020930023439303079]\n\t9020930023439303079 -> 8598825711107313200 [id=\"9020930023439303079.args[0]\"]\n\t8598825711107313200 [label=1 id=8598825711107313200]\n\t2089956620439341258 -> 2239143103186021933 [id=\"-1485898016486786863.args[1]\"]\n\t2239143103186021933 [label=\"Abstraction.__call__\" id=-4080477075120021145]\n\t2239143103186021933 -> -8917530040005697120 [id=\"-4080477075120021145.args[0]\"]\n\t-8917530040005697120 [label=\"Abstraction.__call__\" id=8565734121504583758]\n\t-8917530040005697120 -> -7541230645414182346 [id=\"8565734121504583758.args[0]\"]\n\t-7541230645414182346 [label=\"Abstraction.__call__\" id=8877061846088262974]\n\t-7541230645414182346 -> -7400647636404638505 [id=\"8877061846088262974.args[0]\"]\n\t-7541230645414182346 -> 1752666831276928178 [id=\"8877061846088262974.args[1]\"]\n\t1752666831276928178 [label=\"Integer.__sub__\" id=1752666831276928178]\n\t1752666831276928178 -> 7856822241367733105 [id=\"1752666831276928178.args[0]\"]\n\t1752666831276928178 -> 9020930023439303079 [id=\"1752666831276928178.args[1]\"]\n\t-8917530040005697120 -> 2366648574636959712 [id=\"8565734121504583758.args[1]\"]\n\t2239143103186021933 -> -974063059350097932 [id=\"-4080477075120021145.args[1]\"]\n\t-974063059350097932 [label=\"Integer.__add__\" id=-974063059350097932]\n\t-974063059350097932 -> 1090465956767715260 [id=\"-974063059350097932.args[0]\"]\n\t-974063059350097932 -> 2366648574636959712 [id=\"-974063059350097932.args[1]\"]\n\t2089956620439341258 -> 5753232760418890494 [id=\"-1485898016486786863.args[2]\"]\n\t5753232760418890494 [label=\"Boolean.if_\" id=5753232760418890494]\n\t5753232760418890494 -> -9034000034964784433 [id=\"5753232760418890494.args[0]\"]\n\t-9034000034964784433 [label=\"Integer.eq\" id=-9034000034964784433]\n\t-9034000034964784433 -> 7856822241367733105 [id=\"-9034000034964784433.args[0]\"]\n\t-9034000034964784433 -> 9020930023439303079 [id=\"-9034000034964784433.args[1]\"]\n\t5753232760418890494 -> 2366648574636959712 [id=\"5753232760418890494.args[1]\"]\n\t5753232760418890494 -> 1090465956767715260 [id=\"5753232760418890494.args[2]\"]\n\t1228354883235453503 -> 7424500324723820115 [id=\"-1714830395453943839.args[1]\"]\n\t7424500324723820115 [label=\"FunctionOne.create\" id=-3779622452228743667]\n\t7424500324723820115 -> 5526373529463636097 [id=\"-3779622452228743667.args[0]\"]\n\t5526373529463636097 [label=\"'fib'\" id=5526373529463636097]\n\t7424500324723820115 -> -7487693526605912235 [id=\"-3779622452228743667.args[1]\"]\n\t-7487693526605912235 [label=\"Abstraction.create\" id=4329826587329690174]\n\t-7487693526605912235 -> 3899890043889562006 [id=\"4329826587329690174.args[0]\"]\n\t3899890043889562006 [label=\"Abstraction.create_variable\" id=3899890043889562006]\n\t3899890043889562006 -> 4649088341809621766 [id=\"3899890043889562006.args[0]\"]\n\t4649088341809621766 [label=\"Variable(4492431824)\" id=4649088341809621766]\n\t-7487693526605912235 -> -6864210392815883963 [id=\"4329826587329690174.args[1]\"]\n\t-6864210392815883963 [label=\"RegisteredFunctionThree.__call__\" id=-810187736753820906]\n\t-6864210392815883963 -> -8950582164116618613 [id=\"-810187736753820906.args[0]\"]\n\t-8950582164116618613 [label=\"Pair.right\" id=-4553623623891019018]\n\t-8950582164116618613 -> 738469906536816337 [id=\"-4553623623891019018.args[0]\"]\n\t-6864210392815883963 -> 3899890043889562006 [id=\"-810187736753820906.args[1]\"]\n\t-6864210392815883963 -> -7597290592849074794 [id=\"-810187736753820906.args[2]\"]\n\t-7597290592849074794 [label=\"Integer.from_int\" id=-7597290592849074794]\n\t-7597290592849074794 -> 8598825711106230675 [id=\"-7597290592849074794.args[0]\"]\n\t8598825711106230675 [label=0 id=8598825711106230675]\n\t-6864210392815883963 -> 9020930023439303079 [id=\"-810187736753820906.args[3]\"]\n}",
         "label": null,
         "rule": "metadsl_core.function.three_abstraction"
        },
        {
         "graph": "digraph {\n\tnode [shape=plain]\n\tedge [arrowsize=0.5 penwidth=0.5]\n\t1228354883235453503 [label=\"Module.register_function_one\" id=-1714830395453943839]\n\t1228354883235453503 -> 992525320831925459 [id=\"-1714830395453943839.args[0]\"]\n\t992525320831925459 [label=\"Pair.left\" id=2518582446630638478]\n\t992525320831925459 -> 738469906536816337 [id=\"2518582446630638478.args[0]\"]\n\t738469906536816337 [label=\"Module.register_function_three\" id=4702145645603070358]\n\t738469906536816337 -> -1164499840275005871 [id=\"4702145645603070358.args[0]\"]\n\t-1164499840275005871 [label=\"Module.create\" id=-1164499840275005871]\n\t-1164499840275005871 -> -3019361743255952840 [id=\"-1164499840275005871.args[0]\"]\n\t-3019361743255952840 [label=\"'Main'\" id=-3019361743255952840]\n\t738469906536816337 -> 7051358847554943654 [id=\"4702145645603070358.args[1]\"]\n\t7051358847554943654 [label=\"FunctionThree.create\" id=-253143370029431816]\n\t7051358847554943654 -> 7703585934195696035 [id=\"-253143370029431816.args[0]\"]\n\t7703585934195696035 [label=\"'fib_more'\" id=7703585934195696035]\n\t7051358847554943654 -> -5196979908363723306 [id=\"-253143370029431816.args[1]\"]\n\t-5196979908363723306 [label=\"Abstraction.fix\" id=8801147746626219776]\n\t-5196979908363723306 -> 2140814533659902208 [id=\"8801147746626219776.args[0]\"]\n\t2140814533659902208 [label=\"Abstraction.create\" id=-1932889504864399250]\n\t2140814533659902208 -> -7400647636404638505 [id=\"-1932889504864399250.args[0]\"]\n\t-7400647636404638505 [label=\"Abstraction.create_variable\" id=-7400647636404638505]\n\t-7400647636404638505 -> 4649118741502919491 [id=\"-7400647636404638505.args[0]\"]\n\t4649118741502919491 [label=\"Variable(4673311520)\" id=4649118741502919491]\n\t2140814533659902208 -> 8780046161789565558 [id=\"-1932889504864399250.args[1]\"]\n\t8780046161789565558 [label=\"Abstraction.create\" id=-3087723200763476874]\n\t8780046161789565558 -> 7856822241367733105 [id=\"-3087723200763476874.args[0]\"]\n\t7856822241367733105 [label=\"Abstraction.create_variable\" id=7856822241367733105]\n\t7856822241367733105 -> -4574253291362751692 [id=\"7856822241367733105.args[0]\"]\n\t-4574253291362751692 [label=\"Variable(4673169784)\" id=-4574253291362751692]\n\t8780046161789565558 -> 4073902228159150686 [id=\"-3087723200763476874.args[1]\"]\n\t4073902228159150686 [label=\"Abstraction.create\" id=5178179081337832958]\n\t4073902228159150686 -> 1090465956767715260 [id=\"5178179081337832958.args[0]\"]\n\t1090465956767715260 [label=\"Abstraction.create_variable\" id=1090465956767715260]\n\t1090465956767715260 -> -4574253307722952017 [id=\"1090465956767715260.args[0]\"]\n\t-4574253307722952017 [label=\"Variable(4673395176)\" id=-4574253307722952017]\n\t4073902228159150686 -> -2903106647522861324 [id=\"5178179081337832958.args[1]\"]\n\t-2903106647522861324 [label=\"Abstraction.create\" id=2307731638075662222]\n\t-2903106647522861324 -> 2366648574636959712 [id=\"2307731638075662222.args[0]\"]\n\t2366648574636959712 [label=\"Abstraction.create_variable\" id=2366648574636959712]\n\t2366648574636959712 -> -4574253297339372217 [id=\"2366648574636959712.args[0]\"]\n\t-4574253297339372217 [label=\"Variable(4673341032)\" id=-4574253297339372217]\n\t-2903106647522861324 -> 2089956620439341258 [id=\"2307731638075662222.args[1]\"]\n\t2089956620439341258 [label=\"Boolean.if_\" id=-1485898016486786863]\n\t2089956620439341258 -> -1612040592398918144 [id=\"-1485898016486786863.args[0]\"]\n\t-1612040592398918144 [label=\"Integer.__gt__\" id=-1612040592398918144]\n\t-1612040592398918144 -> 7856822241367733105 [id=\"-1612040592398918144.args[0]\"]\n\t-1612040592398918144 -> 9020930023439303079 [id=\"-1612040592398918144.args[1]\"]\n\t9020930023439303079 [label=\"Integer.from_int\" id=9020930023439303079]\n\t9020930023439303079 -> 8598825711107313200 [id=\"9020930023439303079.args[0]\"]\n\t8598825711107313200 [label=1 id=8598825711107313200]\n\t2089956620439341258 -> 2239143103186021933 [id=\"-1485898016486786863.args[1]\"]\n\t2239143103186021933 [label=\"Abstraction.__call__\" id=-4080477075120021145]\n\t2239143103186021933 -> -8917530040005697120 [id=\"-4080477075120021145.args[0]\"]\n\t-8917530040005697120 [label=\"Abstraction.__call__\" id=8565734121504583758]\n\t-8917530040005697120 -> -7541230645414182346 [id=\"8565734121504583758.args[0]\"]\n\t-7541230645414182346 [label=\"Abstraction.__call__\" id=8877061846088262974]\n\t-7541230645414182346 -> -7400647636404638505 [id=\"8877061846088262974.args[0]\"]\n\t-7541230645414182346 -> 1752666831276928178 [id=\"8877061846088262974.args[1]\"]\n\t1752666831276928178 [label=\"Integer.__sub__\" id=1752666831276928178]\n\t1752666831276928178 -> 7856822241367733105 [id=\"1752666831276928178.args[0]\"]\n\t1752666831276928178 -> 9020930023439303079 [id=\"1752666831276928178.args[1]\"]\n\t-8917530040005697120 -> 2366648574636959712 [id=\"8565734121504583758.args[1]\"]\n\t2239143103186021933 -> -974063059350097932 [id=\"-4080477075120021145.args[1]\"]\n\t-974063059350097932 [label=\"Integer.__add__\" id=-974063059350097932]\n\t-974063059350097932 -> 1090465956767715260 [id=\"-974063059350097932.args[0]\"]\n\t-974063059350097932 -> 2366648574636959712 [id=\"-974063059350097932.args[1]\"]\n\t2089956620439341258 -> 5753232760418890494 [id=\"-1485898016486786863.args[2]\"]\n\t5753232760418890494 [label=\"Boolean.if_\" id=5753232760418890494]\n\t5753232760418890494 -> -9034000034964784433 [id=\"5753232760418890494.args[0]\"]\n\t-9034000034964784433 [label=\"Integer.eq\" id=-9034000034964784433]\n\t-9034000034964784433 -> 7856822241367733105 [id=\"-9034000034964784433.args[0]\"]\n\t-9034000034964784433 -> 9020930023439303079 [id=\"-9034000034964784433.args[1]\"]\n\t5753232760418890494 -> 2366648574636959712 [id=\"5753232760418890494.args[1]\"]\n\t5753232760418890494 -> 1090465956767715260 [id=\"5753232760418890494.args[2]\"]\n\t1228354883235453503 -> 7424500324723820115 [id=\"-1714830395453943839.args[1]\"]\n\t7424500324723820115 [label=\"FunctionOne.create\" id=-3779622452228743667]\n\t7424500324723820115 -> 5526373529463636097 [id=\"-3779622452228743667.args[0]\"]\n\t5526373529463636097 [label=\"'fib'\" id=5526373529463636097]\n\t7424500324723820115 -> -7487693526605912235 [id=\"-3779622452228743667.args[1]\"]\n\t-7487693526605912235 [label=\"Abstraction.create\" id=4329826587329690174]\n\t-7487693526605912235 -> 3899890043889562006 [id=\"4329826587329690174.args[0]\"]\n\t3899890043889562006 [label=\"Abstraction.create_variable\" id=3899890043889562006]\n\t3899890043889562006 -> 4649088341809621766 [id=\"3899890043889562006.args[0]\"]\n\t4649088341809621766 [label=\"Variable(4492431824)\" id=4649088341809621766]\n\t-7487693526605912235 -> -6864210392815883963 [id=\"4329826587329690174.args[1]\"]\n\t-6864210392815883963 [label=\"RegisteredFunctionThree.__call__\" id=-810187736753820906]\n\t-6864210392815883963 -> -8950582164116618613 [id=\"-810187736753820906.args[0]\"]\n\t-8950582164116618613 [label=\"Pair.right\" id=-4553623623891019018]\n\t-8950582164116618613 -> 738469906536816337 [id=\"-4553623623891019018.args[0]\"]\n\t-6864210392815883963 -> 3899890043889562006 [id=\"-810187736753820906.args[1]\"]\n\t-6864210392815883963 -> -7597290592849074794 [id=\"-810187736753820906.args[2]\"]\n\t-7597290592849074794 [label=\"Integer.from_int\" id=-7597290592849074794]\n\t-7597290592849074794 -> 8598825711106230675 [id=\"-7597290592849074794.args[0]\"]\n\t8598825711106230675 [label=0 id=8598825711106230675]\n\t-6864210392815883963 -> 9020930023439303079 [id=\"-810187736753820906.args[3]\"]\n}",
         "label": "core",
         "rule": ""
        }
       ]
      },
      "text/plain": [
       "Typez(definitions=None, nodes={'-3019361743255952840': ['-3019361743255952840', PrimitiveNode(type='str', repr=\"'Main'\")], '-1164499840275005871': ['-1164499840275005871', CallNode(function='Module.create', type_params=None, args=['-3019361743255952840'], kwargs=None)], '8585831836328306700': ['8585831836328306700', PrimitiveNode(type='function', repr='<function fib_more at 0x1168d68c8>')], '-253143370029431816': ['-253143370029431816', CallNode(function='FunctionThree.from_fn_recursive', type_params=None, args=['8585831836328306700'], kwargs=None)], '4702145645603070358': ['4702145645603070358', CallNode(function='Module.register_function_three', type_params=None, args=['-1164499840275005871', '-253143370029431816'], kwargs=None)], '2518582446630638478': ['2518582446630638478', CallNode(function='Pair.left', type_params={'U': DeclaredTypeInstance(type='RegisteredFunctionThree', params={'X': DeclaredTypeInstance(type='Integer', params=None), 'V': DeclaredTypeInstance(type='Integer', params=None), 'U': DeclaredTypeInstance(type='Integer', params=None), 'T': DeclaredTypeInstance(type='Integer', params=None)}), 'T': DeclaredTypeInstance(type='Module', params=None)}, args=['4702145645603070358'], kwargs=None)], '8585831836344544575': ['8585831836344544575', PrimitiveNode(type='function', repr='<function fib at 0x1168d69d8>')], '-3779622452228743667': ['-3779622452228743667', CallNode(function='FunctionOne.from_fn', type_params=None, args=['8585831836344544575'], kwargs=None)], '-1714830395453943839': ['-1714830395453943839', CallNode(function='Module.register_function_one', type_params=None, args=['2518582446630638478', '-3779622452228743667'], kwargs=None)], '5526373529463636097': ['5526373529463636097', PrimitiveNode(type='str', repr=\"'fib'\")], '4329826587329690174': ['4329826587329690174', CallNode(function='Abstraction.from_fn', type_params=None, args=['8585831836344544575'], kwargs=None)], '-6676712615099656200': ['-3779622452228743667', CallNode(function='FunctionOne.create', type_params={'U': DeclaredTypeInstance(type='Integer', params=None), 'T': DeclaredTypeInstance(type='Integer', params=None)}, args=['5526373529463636097', '4329826587329690174'], kwargs=None)], '8075608210541556547': ['-1714830395453943839', CallNode(function='Module.register_function_one', type_params=None, args=['2518582446630638478', '-6676712615099656200'], kwargs=None)], '4649088341809621766': ['4649088341809621766', PrimitiveNode(type='Variable', repr='Variable(4492431824)')], '3899890043889562006': ['3899890043889562006', CallNode(function='Abstraction.create_variable', type_params={'U': DeclaredTypeInstance(type='Integer', params=None), 'T': DeclaredTypeInstance(type='Integer', params=None)}, args=['4649088341809621766'], kwargs=None)], '-4553623623891019018': ['-4553623623891019018', CallNode(function='Pair.right', type_params={'U': DeclaredTypeInstance(type='RegisteredFunctionThree', params={'X': DeclaredTypeInstance(type='Integer', params=None), 'V': DeclaredTypeInstance(type='Integer', params=None), 'U': DeclaredTypeInstance(type='Integer', params=None), 'T': DeclaredTypeInstance(type='Integer', params=None)}), 'T': DeclaredTypeInstance(type='Module', params=None)}, args=['4702145645603070358'], kwargs=None)], '8598825711106230675': ['8598825711106230675', PrimitiveNode(type='int', repr='0')], '-7597290592849074794': ['-7597290592849074794', CallNode(function='Integer.from_int', type_params=None, args=['8598825711106230675'], kwargs=None)], '8598825711107313200': ['8598825711107313200', PrimitiveNode(type='int', repr='1')], '9020930023439303079': ['9020930023439303079', CallNode(function='Integer.from_int', type_params=None, args=['8598825711107313200'], kwargs=None)], '-810187736753820906': ['-810187736753820906', CallNode(function='RegisteredFunctionThree.__call__', type_params={'X': DeclaredTypeInstance(type='Integer', params=None), 'V': DeclaredTypeInstance(type='Integer', params=None), 'U': DeclaredTypeInstance(type='Integer', params=None), 'T': DeclaredTypeInstance(type='Integer', params=None)}, args=['-4553623623891019018', '3899890043889562006', '-7597290592849074794', '9020930023439303079'], kwargs=None)], '2768063288314820470': ['4329826587329690174', CallNode(function='Abstraction.create', type_params={'U': DeclaredTypeInstance(type='Integer', params=None), 'T': DeclaredTypeInstance(type='Integer', params=None)}, args=['3899890043889562006', '-810187736753820906'], kwargs=None)], '-6503282015658242896': ['-3779622452228743667', CallNode(function='FunctionOne.create', type_params={'U': DeclaredTypeInstance(type='Integer', params=None), 'T': DeclaredTypeInstance(type='Integer', params=None)}, args=['5526373529463636097', '2768063288314820470'], kwargs=None)], '3118760165051008443': ['-1714830395453943839', CallNode(function='Module.register_function_one', type_params=None, args=['2518582446630638478', '-6503282015658242896'], kwargs=None)], '7703585934195696035': ['7703585934195696035', PrimitiveNode(type='str', repr=\"'fib_more'\")], '4650627263041032016': ['4650627263041032016', PrimitiveNode(type='FunctionReplaceTyping', repr=\"FunctionReplaceTyping(fn=<function FunctionThree.from_fn_recursive.<locals>.inner at 0x11689ed08>, typevars={~V: <class 'metadsl_core.integer.Integer'>, ~U: <class 'metadsl_core.integer.Integer'>, ~T: <class 'metadsl_core.integer.Integer'>, ~X: <class 'metadsl_core.integer.Integer'>}, typevars_in_scope={~X, ~U, ~T, ~V})\")], '-1932889504864399250': ['-1932889504864399250', CallNode(function='Abstraction.from_fn', type_params=None, args=['4650627263041032016'], kwargs=None)], '8801147746626219776': ['8801147746626219776', CallNode(function='Abstraction.fix', type_params=None, args=['-1932889504864399250'], kwargs=None)], '8104510563889729087': ['-253143370029431816', CallNode(function='FunctionThree.create', type_params={'X': DeclaredTypeInstance(type='Integer', params=None), 'V': DeclaredTypeInstance(type='Integer', params=None), 'U': DeclaredTypeInstance(type='Integer', params=None), 'T': DeclaredTypeInstance(type='Integer', params=None)}, args=['7703585934195696035', '8801147746626219776'], kwargs=None)], '7257263591237017604': ['4702145645603070358', CallNode(function='Module.register_function_three', type_params=None, args=['-1164499840275005871', '8104510563889729087'], kwargs=None)], '2893895912775619221': ['2518582446630638478', CallNode(function='Pair.left', type_params={'U': DeclaredTypeInstance(type='RegisteredFunctionThree', params={'X': DeclaredTypeInstance(type='Integer', params=None), 'V': DeclaredTypeInstance(type='Integer', params=None), 'U': DeclaredTypeInstance(type='Integer', params=None), 'T': DeclaredTypeInstance(type='Integer', params=None)}), 'T': DeclaredTypeInstance(type='Module', params=None)}, args=['7257263591237017604'], kwargs=None)], '941384571545607357': ['-4553623623891019018', CallNode(function='Pair.right', type_params={'U': DeclaredTypeInstance(type='RegisteredFunctionThree', params={'X': DeclaredTypeInstance(type='Integer', params=None), 'V': DeclaredTypeInstance(type='Integer', params=None), 'U': DeclaredTypeInstance(type='Integer', params=None), 'T': DeclaredTypeInstance(type='Integer', params=None)}), 'T': DeclaredTypeInstance(type='Module', params=None)}, args=['7257263591237017604'], kwargs=None)], '928250676370072606': ['-810187736753820906', CallNode(function='RegisteredFunctionThree.__call__', type_params={'X': DeclaredTypeInstance(type='Integer', params=None), 'V': DeclaredTypeInstance(type='Integer', params=None), 'U': DeclaredTypeInstance(type='Integer', params=None), 'T': DeclaredTypeInstance(type='Integer', params=None)}, args=['941384571545607357', '3899890043889562006', '-7597290592849074794', '9020930023439303079'], kwargs=None)], '1074252681624771870': ['4329826587329690174', CallNode(function='Abstraction.create', type_params={'U': DeclaredTypeInstance(type='Integer', params=None), 'T': DeclaredTypeInstance(type='Integer', params=None)}, args=['3899890043889562006', '928250676370072606'], kwargs=None)], '8726312709841343735': ['-3779622452228743667', CallNode(function='FunctionOne.create', type_params={'U': DeclaredTypeInstance(type='Integer', params=None), 'T': DeclaredTypeInstance(type='Integer', params=None)}, args=['5526373529463636097', '1074252681624771870'], kwargs=None)], '-1721170120445872638': ['-1714830395453943839', CallNode(function='Module.register_function_one', type_params=None, args=['2893895912775619221', '8726312709841343735'], kwargs=None)], '4649118741502919491': ['4649118741502919491', PrimitiveNode(type='Variable', repr='Variable(4673311520)')], '-7400647636404638505': ['-7400647636404638505', CallNode(function='Abstraction.create_variable', type_params={'U': DeclaredTypeInstance(type='Abstraction', params={'U': DeclaredTypeInstance(type='Abstraction', params={'U': DeclaredTypeInstance(type='Abstraction', params={'U': DeclaredTypeInstance(type='Integer', params=None), 'T': DeclaredTypeInstance(type='Integer', params=None)}), 'T': DeclaredTypeInstance(type='Integer', params=None)}), 'T': DeclaredTypeInstance(type='Integer', params=None)}), 'T': DeclaredTypeInstance(type='Abstraction', params={'U': DeclaredTypeInstance(type='Abstraction', params={'U': DeclaredTypeInstance(type='Abstraction', params={'U': DeclaredTypeInstance(type='Integer', params=None), 'T': DeclaredTypeInstance(type='Integer', params=None)}), 'T': DeclaredTypeInstance(type='Integer', params=None)}), 'T': DeclaredTypeInstance(type='Integer', params=None)})}, args=['4649118741502919491'], kwargs=None)], '4650627333405157016': ['4650627333405157016', PrimitiveNode(type='FunctionReplaceTyping', repr=\"FunctionReplaceTyping(fn=<function FunctionThree.from_fn_recursive.<locals>.inner.<locals>.inner at 0x11689ea60>, typevars={~V: <class 'metadsl_core.integer.Integer'>, ~U: <class 'metadsl_core.integer.Integer'>, ~T: <class 'metadsl_core.integer.Integer'>, ~X: <class 'metadsl_core.integer.Integer'>}, typevars_in_scope={~X, ~U, ~T, ~V})\")], '-3087723200763476874': ['-3087723200763476874', CallNode(function='Abstraction.from_fn', type_params=None, args=['4650627333405157016'], kwargs=None)], '-763076250771003340': ['-1932889504864399250', CallNode(function='Abstraction.create', type_params={'U': DeclaredTypeInstance(type='Abstraction', params={'U': DeclaredTypeInstance(type='Abstraction', params={'U': DeclaredTypeInstance(type='Abstraction', params={'U': DeclaredTypeInstance(type='Integer', params=None), 'T': DeclaredTypeInstance(type='Integer', params=None)}), 'T': DeclaredTypeInstance(type='Integer', params=None)}), 'T': DeclaredTypeInstance(type='Integer', params=None)}), 'T': DeclaredTypeInstance(type='Abstraction', params={'U': DeclaredTypeInstance(type='Abstraction', params={'U': DeclaredTypeInstance(type='Abstraction', params={'U': DeclaredTypeInstance(type='Integer', params=None), 'T': DeclaredTypeInstance(type='Integer', params=None)}), 'T': DeclaredTypeInstance(type='Integer', params=None)}), 'T': DeclaredTypeInstance(type='Integer', params=None)})}, args=['-7400647636404638505', '-3087723200763476874'], kwargs=None)], '-1885891958679969518': ['8801147746626219776', CallNode(function='Abstraction.fix', type_params=None, args=['-763076250771003340'], kwargs=None)], '-8530807500697384604': ['-253143370029431816', CallNode(function='FunctionThree.create', type_params={'X': DeclaredTypeInstance(type='Integer', params=None), 'V': DeclaredTypeInstance(type='Integer', params=None), 'U': DeclaredTypeInstance(type='Integer', params=None), 'T': DeclaredTypeInstance(type='Integer', params=None)}, args=['7703585934195696035', '-1885891958679969518'], kwargs=None)], '4065537624140336697': ['4702145645603070358', CallNode(function='Module.register_function_three', type_params=None, args=['-1164499840275005871', '-8530807500697384604'], kwargs=None)], '2574588240885964772': ['2518582446630638478', CallNode(function='Pair.left', type_params={'U': DeclaredTypeInstance(type='RegisteredFunctionThree', params={'X': DeclaredTypeInstance(type='Integer', params=None), 'V': DeclaredTypeInstance(type='Integer', params=None), 'U': DeclaredTypeInstance(type='Integer', params=None), 'T': DeclaredTypeInstance(type='Integer', params=None)}), 'T': DeclaredTypeInstance(type='Module', params=None)}, args=['4065537624140336697'], kwargs=None)], '2362942817138107068': ['-4553623623891019018', CallNode(function='Pair.right', type_params={'U': DeclaredTypeInstance(type='RegisteredFunctionThree', params={'X': DeclaredTypeInstance(type='Integer', params=None), 'V': DeclaredTypeInstance(type='Integer', params=None), 'U': DeclaredTypeInstance(type='Integer', params=None), 'T': DeclaredTypeInstance(type='Integer', params=None)}), 'T': DeclaredTypeInstance(type='Module', params=None)}, args=['4065537624140336697'], kwargs=None)], '5025137562088662558': ['-810187736753820906', CallNode(function='RegisteredFunctionThree.__call__', type_params={'X': DeclaredTypeInstance(type='Integer', params=None), 'V': DeclaredTypeInstance(type='Integer', params=None), 'U': DeclaredTypeInstance(type='Integer', params=None), 'T': DeclaredTypeInstance(type='Integer', params=None)}, args=['2362942817138107068', '3899890043889562006', '-7597290592849074794', '9020930023439303079'], kwargs=None)], '814890384444784096': ['4329826587329690174', CallNode(function='Abstraction.create', type_params={'U': DeclaredTypeInstance(type='Integer', params=None), 'T': DeclaredTypeInstance(type='Integer', params=None)}, args=['3899890043889562006', '5025137562088662558'], kwargs=None)], '-1124943269872633463': ['-3779622452228743667', CallNode(function='FunctionOne.create', type_params={'U': DeclaredTypeInstance(type='Integer', params=None), 'T': DeclaredTypeInstance(type='Integer', params=None)}, args=['5526373529463636097', '814890384444784096'], kwargs=None)], '-89543877046842360': ['-1714830395453943839', CallNode(function='Module.register_function_one', type_params=None, args=['2574588240885964772', '-1124943269872633463'], kwargs=None)], '-4574253291362751692': ['-4574253291362751692', PrimitiveNode(type='Variable', repr='Variable(4673169784)')], '7856822241367733105': ['7856822241367733105', CallNode(function='Abstraction.create_variable', type_params={'U': DeclaredTypeInstance(type='Abstraction', params={'U': DeclaredTypeInstance(type='Abstraction', params={'U': DeclaredTypeInstance(type='Integer', params=None), 'T': DeclaredTypeInstance(type='Integer', params=None)}), 'T': DeclaredTypeInstance(type='Integer', params=None)}), 'T': DeclaredTypeInstance(type='Integer', params=None)}, args=['-4574253291362751692'], kwargs=None)], '4650627413919036416': ['4650627413919036416', PrimitiveNode(type='FunctionReplaceTyping', repr=\"FunctionReplaceTyping(fn=<function FunctionThree.from_fn_recursive.<locals>.inner.<locals>.inner.<locals>.inner at 0x10bbb8b70>, typevars={~V: <class 'metadsl_core.integer.Integer'>, ~U: <class 'metadsl_core.integer.Integer'>, ~T: <class 'metadsl_core.integer.Integer'>, ~X: <class 'metadsl_core.integer.Integer'>}, typevars_in_scope={~X, ~U, ~T, ~V})\")], '5178179081337832958': ['5178179081337832958', CallNode(function='Abstraction.from_fn', type_params=None, args=['4650627413919036416'], kwargs=None)], '-6656656344703162365': ['-3087723200763476874', CallNode(function='Abstraction.create', type_params={'U': DeclaredTypeInstance(type='Abstraction', params={'U': DeclaredTypeInstance(type='Abstraction', params={'U': DeclaredTypeInstance(type='Integer', params=None), 'T': DeclaredTypeInstance(type='Integer', params=None)}), 'T': DeclaredTypeInstance(type='Integer', params=None)}), 'T': DeclaredTypeInstance(type='Integer', params=None)}, args=['7856822241367733105', '5178179081337832958'], kwargs=None)], '-8857845491165415208': ['-1932889504864399250', CallNode(function='Abstraction.create', type_params={'U': DeclaredTypeInstance(type='Abstraction', params={'U': DeclaredTypeInstance(type='Abstraction', params={'U': DeclaredTypeInstance(type='Abstraction', params={'U': DeclaredTypeInstance(type='Integer', params=None), 'T': DeclaredTypeInstance(type='Integer', params=None)}), 'T': DeclaredTypeInstance(type='Integer', params=None)}), 'T': DeclaredTypeInstance(type='Integer', params=None)}), 'T': DeclaredTypeInstance(type='Abstraction', params={'U': DeclaredTypeInstance(type='Abstraction', params={'U': DeclaredTypeInstance(type='Abstraction', params={'U': DeclaredTypeInstance(type='Integer', params=None), 'T': DeclaredTypeInstance(type='Integer', params=None)}), 'T': DeclaredTypeInstance(type='Integer', params=None)}), 'T': DeclaredTypeInstance(type='Integer', params=None)})}, args=['-7400647636404638505', '-6656656344703162365'], kwargs=None)], '-39907425083475825': ['8801147746626219776', CallNode(function='Abstraction.fix', type_params=None, args=['-8857845491165415208'], kwargs=None)], '3816079788154827995': ['-253143370029431816', CallNode(function='FunctionThree.create', type_params={'X': DeclaredTypeInstance(type='Integer', params=None), 'V': DeclaredTypeInstance(type='Integer', params=None), 'U': DeclaredTypeInstance(type='Integer', params=None), 'T': DeclaredTypeInstance(type='Integer', params=None)}, args=['7703585934195696035', '-39907425083475825'], kwargs=None)], '-9021226333167932790': ['4702145645603070358', CallNode(function='Module.register_function_three', type_params=None, args=['-1164499840275005871', '3816079788154827995'], kwargs=None)], '-6032012311755794667': ['2518582446630638478', CallNode(function='Pair.left', type_params={'U': DeclaredTypeInstance(type='RegisteredFunctionThree', params={'X': DeclaredTypeInstance(type='Integer', params=None), 'V': DeclaredTypeInstance(type='Integer', params=None), 'U': DeclaredTypeInstance(type='Integer', params=None), 'T': DeclaredTypeInstance(type='Integer', params=None)}), 'T': DeclaredTypeInstance(type='Module', params=None)}, args=['-9021226333167932790'], kwargs=None)], '3534553441874586685': ['-4553623623891019018', CallNode(function='Pair.right', type_params={'U': DeclaredTypeInstance(type='RegisteredFunctionThree', params={'X': DeclaredTypeInstance(type='Integer', params=None), 'V': DeclaredTypeInstance(type='Integer', params=None), 'U': DeclaredTypeInstance(type='Integer', params=None), 'T': DeclaredTypeInstance(type='Integer', params=None)}), 'T': DeclaredTypeInstance(type='Module', params=None)}, args=['-9021226333167932790'], kwargs=None)], '-3245476870235632161': ['-810187736753820906', CallNode(function='RegisteredFunctionThree.__call__', type_params={'X': DeclaredTypeInstance(type='Integer', params=None), 'V': DeclaredTypeInstance(type='Integer', params=None), 'U': DeclaredTypeInstance(type='Integer', params=None), 'T': DeclaredTypeInstance(type='Integer', params=None)}, args=['3534553441874586685', '3899890043889562006', '-7597290592849074794', '9020930023439303079'], kwargs=None)], '5675796053236872926': ['4329826587329690174', CallNode(function='Abstraction.create', type_params={'U': DeclaredTypeInstance(type='Integer', params=None), 'T': DeclaredTypeInstance(type='Integer', params=None)}, args=['3899890043889562006', '-3245476870235632161'], kwargs=None)], '-4461555040721887095': ['-3779622452228743667', CallNode(function='FunctionOne.create', type_params={'U': DeclaredTypeInstance(type='Integer', params=None), 'T': DeclaredTypeInstance(type='Integer', params=None)}, args=['5526373529463636097', '5675796053236872926'], kwargs=None)], '-5939528738052166783': ['-1714830395453943839', CallNode(function='Module.register_function_one', type_params=None, args=['-6032012311755794667', '-4461555040721887095'], kwargs=None)], '-4574253307722952017': ['-4574253307722952017', PrimitiveNode(type='Variable', repr='Variable(4673395176)')], '1090465956767715260': ['1090465956767715260', CallNode(function='Abstraction.create_variable', type_params={'U': DeclaredTypeInstance(type='Abstraction', params={'U': DeclaredTypeInstance(type='Integer', params=None), 'T': DeclaredTypeInstance(type='Integer', params=None)}), 'T': DeclaredTypeInstance(type='Integer', params=None)}, args=['-4574253307722952017'], kwargs=None)], '4650627331803020016': ['4650627331803020016', PrimitiveNode(type='FunctionReplaceTyping', repr=\"FunctionReplaceTyping(fn=<function FunctionThree.from_fn_recursive.<locals>.inner.<locals>.inner.<locals>.inner.<locals>.inner at 0x1168d66a8>, typevars={~V: <class 'metadsl_core.integer.Integer'>, ~U: <class 'metadsl_core.integer.Integer'>, ~T: <class 'metadsl_core.integer.Integer'>, ~X: <class 'metadsl_core.integer.Integer'>}, typevars_in_scope={~X, ~U, ~T, ~V})\")], '2307731638075662222': ['2307731638075662222', CallNode(function='Abstraction.from_fn', type_params=None, args=['4650627331803020016'], kwargs=None)], '471841972016386426': ['5178179081337832958', CallNode(function='Abstraction.create', type_params={'U': DeclaredTypeInstance(type='Abstraction', params={'U': DeclaredTypeInstance(type='Integer', params=None), 'T': DeclaredTypeInstance(type='Integer', params=None)}), 'T': DeclaredTypeInstance(type='Integer', params=None)}, args=['1090465956767715260', '2307731638075662222'], kwargs=None)], '-4063084017741447067': ['-3087723200763476874', CallNode(function='Abstraction.create', type_params={'U': DeclaredTypeInstance(type='Abstraction', params={'U': DeclaredTypeInstance(type='Abstraction', params={'U': DeclaredTypeInstance(type='Integer', params=None), 'T': DeclaredTypeInstance(type='Integer', params=None)}), 'T': DeclaredTypeInstance(type='Integer', params=None)}), 'T': DeclaredTypeInstance(type='Integer', params=None)}, args=['7856822241367733105', '471841972016386426'], kwargs=None)], '87398247701288463': ['-1932889504864399250', CallNode(function='Abstraction.create', type_params={'U': DeclaredTypeInstance(type='Abstraction', params={'U': DeclaredTypeInstance(type='Abstraction', params={'U': DeclaredTypeInstance(type='Abstraction', params={'U': DeclaredTypeInstance(type='Integer', params=None), 'T': DeclaredTypeInstance(type='Integer', params=None)}), 'T': DeclaredTypeInstance(type='Integer', params=None)}), 'T': DeclaredTypeInstance(type='Integer', params=None)}), 'T': DeclaredTypeInstance(type='Abstraction', params={'U': DeclaredTypeInstance(type='Abstraction', params={'U': DeclaredTypeInstance(type='Abstraction', params={'U': DeclaredTypeInstance(type='Integer', params=None), 'T': DeclaredTypeInstance(type='Integer', params=None)}), 'T': DeclaredTypeInstance(type='Integer', params=None)}), 'T': DeclaredTypeInstance(type='Integer', params=None)})}, args=['-7400647636404638505', '-4063084017741447067'], kwargs=None)], '-4218760416264517507': ['8801147746626219776', CallNode(function='Abstraction.fix', type_params=None, args=['87398247701288463'], kwargs=None)], '-2029313865202911426': ['-253143370029431816', CallNode(function='FunctionThree.create', type_params={'X': DeclaredTypeInstance(type='Integer', params=None), 'V': DeclaredTypeInstance(type='Integer', params=None), 'U': DeclaredTypeInstance(type='Integer', params=None), 'T': DeclaredTypeInstance(type='Integer', params=None)}, args=['7703585934195696035', '-4218760416264517507'], kwargs=None)], '8383917784247342208': ['4702145645603070358', CallNode(function='Module.register_function_three', type_params=None, args=['-1164499840275005871', '-2029313865202911426'], kwargs=None)], '-269712509789740535': ['2518582446630638478', CallNode(function='Pair.left', type_params={'U': DeclaredTypeInstance(type='RegisteredFunctionThree', params={'X': DeclaredTypeInstance(type='Integer', params=None), 'V': DeclaredTypeInstance(type='Integer', params=None), 'U': DeclaredTypeInstance(type='Integer', params=None), 'T': DeclaredTypeInstance(type='Integer', params=None)}), 'T': DeclaredTypeInstance(type='Module', params=None)}, args=['8383917784247342208'], kwargs=None)], '-8731292827514780655': ['-4553623623891019018', CallNode(function='Pair.right', type_params={'U': DeclaredTypeInstance(type='RegisteredFunctionThree', params={'X': DeclaredTypeInstance(type='Integer', params=None), 'V': DeclaredTypeInstance(type='Integer', params=None), 'U': DeclaredTypeInstance(type='Integer', params=None), 'T': DeclaredTypeInstance(type='Integer', params=None)}), 'T': DeclaredTypeInstance(type='Module', params=None)}, args=['8383917784247342208'], kwargs=None)], '-5711383986611995889': ['-810187736753820906', CallNode(function='RegisteredFunctionThree.__call__', type_params={'X': DeclaredTypeInstance(type='Integer', params=None), 'V': DeclaredTypeInstance(type='Integer', params=None), 'U': DeclaredTypeInstance(type='Integer', params=None), 'T': DeclaredTypeInstance(type='Integer', params=None)}, args=['-8731292827514780655', '3899890043889562006', '-7597290592849074794', '9020930023439303079'], kwargs=None)], '700739599270599839': ['4329826587329690174', CallNode(function='Abstraction.create', type_params={'U': DeclaredTypeInstance(type='Integer', params=None), 'T': DeclaredTypeInstance(type='Integer', params=None)}, args=['3899890043889562006', '-5711383986611995889'], kwargs=None)], '2966601230342068760': ['-3779622452228743667', CallNode(function='FunctionOne.create', type_params={'U': DeclaredTypeInstance(type='Integer', params=None), 'T': DeclaredTypeInstance(type='Integer', params=None)}, args=['5526373529463636097', '700739599270599839'], kwargs=None)], '-2811350437109351364': ['-1714830395453943839', CallNode(function='Module.register_function_one', type_params=None, args=['-269712509789740535', '2966601230342068760'], kwargs=None)], '-4574253297339372217': ['-4574253297339372217', PrimitiveNode(type='Variable', repr='Variable(4673341032)')], '2366648574636959712': ['2366648574636959712', CallNode(function='Abstraction.create_variable', type_params={'U': DeclaredTypeInstance(type='Integer', params=None), 'T': DeclaredTypeInstance(type='Integer', params=None)}, args=['-4574253297339372217'], kwargs=None)], '-1612040592398918144': ['-1612040592398918144', CallNode(function='Integer.__gt__', type_params=None, args=['7856822241367733105', '9020930023439303079'], kwargs=None)], '-2912796476831813722': ['-2912796476831813722', CallNode(function='FunctionThree.create', type_params={'X': DeclaredTypeInstance(type='Integer', params=None), 'V': DeclaredTypeInstance(type='Integer', params=None), 'U': DeclaredTypeInstance(type='Integer', params=None), 'T': DeclaredTypeInstance(type='Integer', params=None)}, args=['7703585934195696035', '-7400647636404638505'], kwargs=None)], '1752666831276928178': ['1752666831276928178', CallNode(function='Integer.__sub__', type_params=None, args=['7856822241367733105', '9020930023439303079'], kwargs=None)], '-974063059350097932': ['-974063059350097932', CallNode(function='Integer.__add__', type_params=None, args=['1090465956767715260', '2366648574636959712'], kwargs=None)], '-4080477075120021145': ['-4080477075120021145', CallNode(function='FunctionThree.__call__', type_params={'X': DeclaredTypeInstance(type='Integer', params=None), 'V': DeclaredTypeInstance(type='Integer', params=None), 'U': DeclaredTypeInstance(type='Integer', params=None), 'T': DeclaredTypeInstance(type='Integer', params=None)}, args=['-2912796476831813722', '1752666831276928178', '2366648574636959712', '-974063059350097932'], kwargs=None)], '-9034000034964784433': ['-9034000034964784433', CallNode(function='Integer.eq', type_params=None, args=['7856822241367733105', '9020930023439303079'], kwargs=None)], '5753232760418890494': ['5753232760418890494', CallNode(function='Boolean.if_', type_params=None, args=['-9034000034964784433', '2366648574636959712', '1090465956767715260'], kwargs=None)], '-1485898016486786863': ['-1485898016486786863', CallNode(function='Boolean.if_', type_params=None, args=['-1612040592398918144', '-4080477075120021145', '5753232760418890494'], kwargs=None)], '-3160271632765634655': ['2307731638075662222', CallNode(function='Abstraction.create', type_params={'U': DeclaredTypeInstance(type='Integer', params=None), 'T': DeclaredTypeInstance(type='Integer', params=None)}, args=['2366648574636959712', '-1485898016486786863'], kwargs=None)], '-9058435180798404145': ['5178179081337832958', CallNode(function='Abstraction.create', type_params={'U': DeclaredTypeInstance(type='Abstraction', params={'U': DeclaredTypeInstance(type='Integer', params=None), 'T': DeclaredTypeInstance(type='Integer', params=None)}), 'T': DeclaredTypeInstance(type='Integer', params=None)}, args=['1090465956767715260', '-3160271632765634655'], kwargs=None)], '1366418519688953015': ['-3087723200763476874', CallNode(function='Abstraction.create', type_params={'U': DeclaredTypeInstance(type='Abstraction', params={'U': DeclaredTypeInstance(type='Abstraction', params={'U': DeclaredTypeInstance(type='Integer', params=None), 'T': DeclaredTypeInstance(type='Integer', params=None)}), 'T': DeclaredTypeInstance(type='Integer', params=None)}), 'T': DeclaredTypeInstance(type='Integer', params=None)}, args=['7856822241367733105', '-9058435180798404145'], kwargs=None)], '-5041527749816276050': ['-1932889504864399250', CallNode(function='Abstraction.create', type_params={'U': DeclaredTypeInstance(type='Abstraction', params={'U': DeclaredTypeInstance(type='Abstraction', params={'U': DeclaredTypeInstance(type='Abstraction', params={'U': DeclaredTypeInstance(type='Integer', params=None), 'T': DeclaredTypeInstance(type='Integer', params=None)}), 'T': DeclaredTypeInstance(type='Integer', params=None)}), 'T': DeclaredTypeInstance(type='Integer', params=None)}), 'T': DeclaredTypeInstance(type='Abstraction', params={'U': DeclaredTypeInstance(type='Abstraction', params={'U': DeclaredTypeInstance(type='Abstraction', params={'U': DeclaredTypeInstance(type='Integer', params=None), 'T': DeclaredTypeInstance(type='Integer', params=None)}), 'T': DeclaredTypeInstance(type='Integer', params=None)}), 'T': DeclaredTypeInstance(type='Integer', params=None)})}, args=['-7400647636404638505', '1366418519688953015'], kwargs=None)], '2947539676218675370': ['8801147746626219776', CallNode(function='Abstraction.fix', type_params=None, args=['-5041527749816276050'], kwargs=None)], '4380086844876563415': ['-253143370029431816', CallNode(function='FunctionThree.create', type_params={'X': DeclaredTypeInstance(type='Integer', params=None), 'V': DeclaredTypeInstance(type='Integer', params=None), 'U': DeclaredTypeInstance(type='Integer', params=None), 'T': DeclaredTypeInstance(type='Integer', params=None)}, args=['7703585934195696035', '2947539676218675370'], kwargs=None)], '-9173848002956768714': ['4702145645603070358', CallNode(function='Module.register_function_three', type_params=None, args=['-1164499840275005871', '4380086844876563415'], kwargs=None)], '171073090034663769': ['2518582446630638478', CallNode(function='Pair.left', type_params={'U': DeclaredTypeInstance(type='RegisteredFunctionThree', params={'X': DeclaredTypeInstance(type='Integer', params=None), 'V': DeclaredTypeInstance(type='Integer', params=None), 'U': DeclaredTypeInstance(type='Integer', params=None), 'T': DeclaredTypeInstance(type='Integer', params=None)}), 'T': DeclaredTypeInstance(type='Module', params=None)}, args=['-9173848002956768714'], kwargs=None)], '4151376260364842177': ['-4553623623891019018', CallNode(function='Pair.right', type_params={'U': DeclaredTypeInstance(type='RegisteredFunctionThree', params={'X': DeclaredTypeInstance(type='Integer', params=None), 'V': DeclaredTypeInstance(type='Integer', params=None), 'U': DeclaredTypeInstance(type='Integer', params=None), 'T': DeclaredTypeInstance(type='Integer', params=None)}), 'T': DeclaredTypeInstance(type='Module', params=None)}, args=['-9173848002956768714'], kwargs=None)], '7979309874726565315': ['-810187736753820906', CallNode(function='RegisteredFunctionThree.__call__', type_params={'X': DeclaredTypeInstance(type='Integer', params=None), 'V': DeclaredTypeInstance(type='Integer', params=None), 'U': DeclaredTypeInstance(type='Integer', params=None), 'T': DeclaredTypeInstance(type='Integer', params=None)}, args=['4151376260364842177', '3899890043889562006', '-7597290592849074794', '9020930023439303079'], kwargs=None)], '-196401169117226618': ['4329826587329690174', CallNode(function='Abstraction.create', type_params={'U': DeclaredTypeInstance(type='Integer', params=None), 'T': DeclaredTypeInstance(type='Integer', params=None)}, args=['3899890043889562006', '7979309874726565315'], kwargs=None)], '3097338779696424959': ['-3779622452228743667', CallNode(function='FunctionOne.create', type_params={'U': DeclaredTypeInstance(type='Integer', params=None), 'T': DeclaredTypeInstance(type='Integer', params=None)}, args=['5526373529463636097', '-196401169117226618'], kwargs=None)], '-4733530408271620173': ['-1714830395453943839', CallNode(function='Module.register_function_one', type_params=None, args=['171073090034663769', '3097338779696424959'], kwargs=None)], '-2940189518331049811': ['-2940189518331049811', CallNode(function='FunctionThree.abstraction', type_params={'X': DeclaredTypeInstance(type='Integer', params=None), 'V': DeclaredTypeInstance(type='Integer', params=None), 'U': DeclaredTypeInstance(type='Integer', params=None), 'T': DeclaredTypeInstance(type='Integer', params=None)}, args=['-2912796476831813722'], kwargs=None)], '8877061846088262974': ['8877061846088262974', CallNode(function='Abstraction.__call__', type_params={'U': DeclaredTypeInstance(type='Abstraction', params={'U': DeclaredTypeInstance(type='Abstraction', params={'U': DeclaredTypeInstance(type='Integer', params=None), 'T': DeclaredTypeInstance(type='Integer', params=None)}), 'T': DeclaredTypeInstance(type='Integer', params=None)}), 'T': DeclaredTypeInstance(type='Integer', params=None)}, args=['-2940189518331049811', '1752666831276928178'], kwargs=None)], '8565734121504583758': ['8565734121504583758', CallNode(function='Abstraction.__call__', type_params={'U': DeclaredTypeInstance(type='Abstraction', params={'U': DeclaredTypeInstance(type='Integer', params=None), 'T': DeclaredTypeInstance(type='Integer', params=None)}), 'T': DeclaredTypeInstance(type='Integer', params=None)}, args=['8877061846088262974', '2366648574636959712'], kwargs=None)], '-2474979669613506447': ['-4080477075120021145', CallNode(function='Abstraction.__call__', type_params={'U': DeclaredTypeInstance(type='Integer', params=None), 'T': DeclaredTypeInstance(type='Integer', params=None)}, args=['8565734121504583758', '-974063059350097932'], kwargs=None)], '-8307622392130266473': ['-1485898016486786863', CallNode(function='Boolean.if_', type_params=None, args=['-1612040592398918144', '-2474979669613506447', '5753232760418890494'], kwargs=None)], '-333155308779018134': ['2307731638075662222', CallNode(function='Abstraction.create', type_params={'U': DeclaredTypeInstance(type='Integer', params=None), 'T': DeclaredTypeInstance(type='Integer', params=None)}, args=['2366648574636959712', '-8307622392130266473'], kwargs=None)], '-7656034677796874151': ['5178179081337832958', CallNode(function='Abstraction.create', type_params={'U': DeclaredTypeInstance(type='Abstraction', params={'U': DeclaredTypeInstance(type='Integer', params=None), 'T': DeclaredTypeInstance(type='Integer', params=None)}), 'T': DeclaredTypeInstance(type='Integer', params=None)}, args=['1090465956767715260', '-333155308779018134'], kwargs=None)], '-275382149836070007': ['-3087723200763476874', CallNode(function='Abstraction.create', type_params={'U': DeclaredTypeInstance(type='Abstraction', params={'U': DeclaredTypeInstance(type='Abstraction', params={'U': DeclaredTypeInstance(type='Integer', params=None), 'T': DeclaredTypeInstance(type='Integer', params=None)}), 'T': DeclaredTypeInstance(type='Integer', params=None)}), 'T': DeclaredTypeInstance(type='Integer', params=None)}, args=['7856822241367733105', '-7656034677796874151'], kwargs=None)], '-7905657951517262896': ['-1932889504864399250', CallNode(function='Abstraction.create', type_params={'U': DeclaredTypeInstance(type='Abstraction', params={'U': DeclaredTypeInstance(type='Abstraction', params={'U': DeclaredTypeInstance(type='Abstraction', params={'U': DeclaredTypeInstance(type='Integer', params=None), 'T': DeclaredTypeInstance(type='Integer', params=None)}), 'T': DeclaredTypeInstance(type='Integer', params=None)}), 'T': DeclaredTypeInstance(type='Integer', params=None)}), 'T': DeclaredTypeInstance(type='Abstraction', params={'U': DeclaredTypeInstance(type='Abstraction', params={'U': DeclaredTypeInstance(type='Abstraction', params={'U': DeclaredTypeInstance(type='Integer', params=None), 'T': DeclaredTypeInstance(type='Integer', params=None)}), 'T': DeclaredTypeInstance(type='Integer', params=None)}), 'T': DeclaredTypeInstance(type='Integer', params=None)})}, args=['-7400647636404638505', '-275382149836070007'], kwargs=None)], '-6734826181284550457': ['8801147746626219776', CallNode(function='Abstraction.fix', type_params=None, args=['-7905657951517262896'], kwargs=None)], '-1346456170205249959': ['-253143370029431816', CallNode(function='FunctionThree.create', type_params={'X': DeclaredTypeInstance(type='Integer', params=None), 'V': DeclaredTypeInstance(type='Integer', params=None), 'U': DeclaredTypeInstance(type='Integer', params=None), 'T': DeclaredTypeInstance(type='Integer', params=None)}, args=['7703585934195696035', '-6734826181284550457'], kwargs=None)], '190392315158445537': ['4702145645603070358', CallNode(function='Module.register_function_three', type_params=None, args=['-1164499840275005871', '-1346456170205249959'], kwargs=None)], '-2037722445964592573': ['2518582446630638478', CallNode(function='Pair.left', type_params={'U': DeclaredTypeInstance(type='RegisteredFunctionThree', params={'X': DeclaredTypeInstance(type='Integer', params=None), 'V': DeclaredTypeInstance(type='Integer', params=None), 'U': DeclaredTypeInstance(type='Integer', params=None), 'T': DeclaredTypeInstance(type='Integer', params=None)}), 'T': DeclaredTypeInstance(type='Module', params=None)}, args=['190392315158445537'], kwargs=None)], '2055006138732628251': ['-4553623623891019018', CallNode(function='Pair.right', type_params={'U': DeclaredTypeInstance(type='RegisteredFunctionThree', params={'X': DeclaredTypeInstance(type='Integer', params=None), 'V': DeclaredTypeInstance(type='Integer', params=None), 'U': DeclaredTypeInstance(type='Integer', params=None), 'T': DeclaredTypeInstance(type='Integer', params=None)}), 'T': DeclaredTypeInstance(type='Module', params=None)}, args=['190392315158445537'], kwargs=None)], '6519788949964961672': ['-810187736753820906', CallNode(function='RegisteredFunctionThree.__call__', type_params={'X': DeclaredTypeInstance(type='Integer', params=None), 'V': DeclaredTypeInstance(type='Integer', params=None), 'U': DeclaredTypeInstance(type='Integer', params=None), 'T': DeclaredTypeInstance(type='Integer', params=None)}, args=['2055006138732628251', '3899890043889562006', '-7597290592849074794', '9020930023439303079'], kwargs=None)], '-3522287728339387422': ['4329826587329690174', CallNode(function='Abstraction.create', type_params={'U': DeclaredTypeInstance(type='Integer', params=None), 'T': DeclaredTypeInstance(type='Integer', params=None)}, args=['3899890043889562006', '6519788949964961672'], kwargs=None)], '5187427192502162050': ['-3779622452228743667', CallNode(function='FunctionOne.create', type_params={'U': DeclaredTypeInstance(type='Integer', params=None), 'T': DeclaredTypeInstance(type='Integer', params=None)}, args=['5526373529463636097', '-3522287728339387422'], kwargs=None)], '3158353602033228597': ['-1714830395453943839', CallNode(function='Module.register_function_one', type_params=None, args=['-2037722445964592573', '5187427192502162050'], kwargs=None)], '-7541230645414182346': ['8877061846088262974', CallNode(function='Abstraction.__call__', type_params={'U': DeclaredTypeInstance(type='Abstraction', params={'U': DeclaredTypeInstance(type='Abstraction', params={'U': DeclaredTypeInstance(type='Integer', params=None), 'T': DeclaredTypeInstance(type='Integer', params=None)}), 'T': DeclaredTypeInstance(type='Integer', params=None)}), 'T': DeclaredTypeInstance(type='Integer', params=None)}, args=['-7400647636404638505', '1752666831276928178'], kwargs=None)], '-8917530040005697120': ['8565734121504583758', CallNode(function='Abstraction.__call__', type_params={'U': DeclaredTypeInstance(type='Abstraction', params={'U': DeclaredTypeInstance(type='Integer', params=None), 'T': DeclaredTypeInstance(type='Integer', params=None)}), 'T': DeclaredTypeInstance(type='Integer', params=None)}, args=['-7541230645414182346', '2366648574636959712'], kwargs=None)], '2239143103186021933': ['-4080477075120021145', CallNode(function='Abstraction.__call__', type_params={'U': DeclaredTypeInstance(type='Integer', params=None), 'T': DeclaredTypeInstance(type='Integer', params=None)}, args=['-8917530040005697120', '-974063059350097932'], kwargs=None)], '2089956620439341258': ['-1485898016486786863', CallNode(function='Boolean.if_', type_params=None, args=['-1612040592398918144', '2239143103186021933', '5753232760418890494'], kwargs=None)], '-2903106647522861324': ['2307731638075662222', CallNode(function='Abstraction.create', type_params={'U': DeclaredTypeInstance(type='Integer', params=None), 'T': DeclaredTypeInstance(type='Integer', params=None)}, args=['2366648574636959712', '2089956620439341258'], kwargs=None)], '4073902228159150686': ['5178179081337832958', CallNode(function='Abstraction.create', type_params={'U': DeclaredTypeInstance(type='Abstraction', params={'U': DeclaredTypeInstance(type='Integer', params=None), 'T': DeclaredTypeInstance(type='Integer', params=None)}), 'T': DeclaredTypeInstance(type='Integer', params=None)}, args=['1090465956767715260', '-2903106647522861324'], kwargs=None)], '8780046161789565558': ['-3087723200763476874', CallNode(function='Abstraction.create', type_params={'U': DeclaredTypeInstance(type='Abstraction', params={'U': DeclaredTypeInstance(type='Abstraction', params={'U': DeclaredTypeInstance(type='Integer', params=None), 'T': DeclaredTypeInstance(type='Integer', params=None)}), 'T': DeclaredTypeInstance(type='Integer', params=None)}), 'T': DeclaredTypeInstance(type='Integer', params=None)}, args=['7856822241367733105', '4073902228159150686'], kwargs=None)], '2140814533659902208': ['-1932889504864399250', CallNode(function='Abstraction.create', type_params={'U': DeclaredTypeInstance(type='Abstraction', params={'U': DeclaredTypeInstance(type='Abstraction', params={'U': DeclaredTypeInstance(type='Abstraction', params={'U': DeclaredTypeInstance(type='Integer', params=None), 'T': DeclaredTypeInstance(type='Integer', params=None)}), 'T': DeclaredTypeInstance(type='Integer', params=None)}), 'T': DeclaredTypeInstance(type='Integer', params=None)}), 'T': DeclaredTypeInstance(type='Abstraction', params={'U': DeclaredTypeInstance(type='Abstraction', params={'U': DeclaredTypeInstance(type='Abstraction', params={'U': DeclaredTypeInstance(type='Integer', params=None), 'T': DeclaredTypeInstance(type='Integer', params=None)}), 'T': DeclaredTypeInstance(type='Integer', params=None)}), 'T': DeclaredTypeInstance(type='Integer', params=None)})}, args=['-7400647636404638505', '8780046161789565558'], kwargs=None)], '-5196979908363723306': ['8801147746626219776', CallNode(function='Abstraction.fix', type_params=None, args=['2140814533659902208'], kwargs=None)], '7051358847554943654': ['-253143370029431816', CallNode(function='FunctionThree.create', type_params={'X': DeclaredTypeInstance(type='Integer', params=None), 'V': DeclaredTypeInstance(type='Integer', params=None), 'U': DeclaredTypeInstance(type='Integer', params=None), 'T': DeclaredTypeInstance(type='Integer', params=None)}, args=['7703585934195696035', '-5196979908363723306'], kwargs=None)], '738469906536816337': ['4702145645603070358', CallNode(function='Module.register_function_three', type_params=None, args=['-1164499840275005871', '7051358847554943654'], kwargs=None)], '992525320831925459': ['2518582446630638478', CallNode(function='Pair.left', type_params={'U': DeclaredTypeInstance(type='RegisteredFunctionThree', params={'X': DeclaredTypeInstance(type='Integer', params=None), 'V': DeclaredTypeInstance(type='Integer', params=None), 'U': DeclaredTypeInstance(type='Integer', params=None), 'T': DeclaredTypeInstance(type='Integer', params=None)}), 'T': DeclaredTypeInstance(type='Module', params=None)}, args=['738469906536816337'], kwargs=None)], '-8950582164116618613': ['-4553623623891019018', CallNode(function='Pair.right', type_params={'U': DeclaredTypeInstance(type='RegisteredFunctionThree', params={'X': DeclaredTypeInstance(type='Integer', params=None), 'V': DeclaredTypeInstance(type='Integer', params=None), 'U': DeclaredTypeInstance(type='Integer', params=None), 'T': DeclaredTypeInstance(type='Integer', params=None)}), 'T': DeclaredTypeInstance(type='Module', params=None)}, args=['738469906536816337'], kwargs=None)], '-6864210392815883963': ['-810187736753820906', CallNode(function='RegisteredFunctionThree.__call__', type_params={'X': DeclaredTypeInstance(type='Integer', params=None), 'V': DeclaredTypeInstance(type='Integer', params=None), 'U': DeclaredTypeInstance(type='Integer', params=None), 'T': DeclaredTypeInstance(type='Integer', params=None)}, args=['-8950582164116618613', '3899890043889562006', '-7597290592849074794', '9020930023439303079'], kwargs=None)], '-7487693526605912235': ['4329826587329690174', CallNode(function='Abstraction.create', type_params={'U': DeclaredTypeInstance(type='Integer', params=None), 'T': DeclaredTypeInstance(type='Integer', params=None)}, args=['3899890043889562006', '-6864210392815883963'], kwargs=None)], '7424500324723820115': ['-3779622452228743667', CallNode(function='FunctionOne.create', type_params={'U': DeclaredTypeInstance(type='Integer', params=None), 'T': DeclaredTypeInstance(type='Integer', params=None)}, args=['5526373529463636097', '-7487693526605912235'], kwargs=None)], '1228354883235453503': ['-1714830395453943839', CallNode(function='Module.register_function_one', type_params=None, args=['992525320831925459', '7424500324723820115'], kwargs=None)]}, states=States(initial='-1714830395453943839', states=[State(node='8075608210541556547', rule='metadsl_core.function.FunctionOne.from_fn', label=None), State(node='3118760165051008443', rule='metadsl_core.abstraction.Abstraction.from_fn', label=None), State(node='-1721170120445872638', rule='metadsl_core.function.FunctionThree.from_fn_recursive', label=None), State(node='-89543877046842360', rule='metadsl_core.abstraction.Abstraction.from_fn', label=None), State(node='-5939528738052166783', rule='metadsl_core.abstraction.Abstraction.from_fn', label=None), State(node='-2811350437109351364', rule='metadsl_core.abstraction.Abstraction.from_fn', label=None), State(node='-4733530408271620173', rule='metadsl_core.abstraction.Abstraction.from_fn', label=None), State(node='3158353602033228597', rule='metadsl_core.function.three_call', label=None), State(node='1228354883235453503', rule='metadsl_core.function.three_abstraction', label=None), State(node='1228354883235453503', rule='', label='core')]))"
      ]
     },
     "metadata": {},
     "output_type": "display_data"
    }
   ],
   "source": [
    "mod = Module.create(\"Main\")\n",
    "\n",
    "@FunctionThree.from_fn_recursive\n",
    "def fib_more(\n",
    "    fn: FunctionThree[Integer, Integer, Integer, Integer],\n",
    "    n: Integer,\n",
    "    a: Integer,\n",
    "    b: Integer,\n",
    ") -> Integer:\n",
    "    pred_cont = n > one\n",
    "    minus1 = n - one\n",
    "    ab = a + b\n",
    "    added = fn(minus1, b, ab)\n",
    "\n",
    "    n_eq_1 = n.eq(one)\n",
    "    return pred_cont.if_(added, n_eq_1.if_(b, a))\n",
    "\n",
    "res = mod.register_function_three(fib_more)\n",
    "mod, fib_more_ref = res.left(), res.right()\n",
    "\n",
    "@FunctionOne.from_fn\n",
    "def fib(n: Integer) -> Integer:\n",
    "    return fib_more_ref(n, zero, one)\n",
    "\n",
    "\n",
    "mod.register_function_one(fib)._ipython_display_()"
   ]
  },
  {
   "cell_type": "code",
   "execution_count": null,
   "metadata": {},
   "outputs": [],
   "source": [
    "fib(Integer.from_int(10))"
   ]
  },
  {
   "cell_type": "code",
   "execution_count": null,
   "metadata": {},
   "outputs": [],
   "source": []
  }
 ],
 "metadata": {
  "kernelspec": {
   "display_name": "Python 3",
   "language": "python",
   "name": "python3"
  },
  "language_info": {
   "codemirror_mode": {
    "name": "ipython",
    "version": 3
   },
   "file_extension": ".py",
   "mimetype": "text/x-python",
   "name": "python",
   "nbconvert_exporter": "python",
   "pygments_lexer": "ipython3",
   "version": "3.7.3"
  }
 },
 "nbformat": 4,
 "nbformat_minor": 4
}
