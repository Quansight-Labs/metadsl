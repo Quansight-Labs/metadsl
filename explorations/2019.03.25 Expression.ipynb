{
 "cells": [
  {
   "cell_type": "markdown",
   "metadata": {},
   "source": [
    "# MetaDSL\n",
    "**Implicit types and why we need something more structured**\n",
    "\n",
    "The goal of this notebook is to demonstrate the initial support for creating expressions of different types.\n",
    "\n",
    "Also to show why defining types implicitly has some drawbacks and next steps"
   ]
  },
  {
   "cell_type": "code",
   "execution_count": 17,
   "metadata": {},
   "outputs": [],
   "source": [
    "from metadsl import *\n",
    "\n",
    "import dataclasses"
   ]
  },
  {
   "cell_type": "markdown",
   "metadata": {},
   "source": [
    "First, let's make a natural number type, and define some operations on it:"
   ]
  },
  {
   "cell_type": "code",
   "execution_count": 24,
   "metadata": {},
   "outputs": [],
   "source": [
    "@dataclasses.dataclass(frozen=True)\n",
    "class NaturalNumber(Instance):\n",
    "\n",
    "    def __add__(self, other: \"NaturalNumber\") -> \"NaturalNumber\":\n",
    "        return NaturalNumber(Call(NaturalNumber.__add__, (self, other)))\n",
    "    \n",
    "    def __mul__(self, other: \"NaturalNumber\") -> \"NaturalNumber\":\n",
    "        return NaturalNumber(Call(NaturalNumber.__mul__, (self, other)))"
   ]
  },
  {
   "cell_type": "markdown",
   "metadata": {},
   "source": [
    "Now we can create some natural numbers and execute some operations on them:"
   ]
  },
  {
   "cell_type": "code",
   "execution_count": 25,
   "metadata": {},
   "outputs": [
    {
     "data": {
      "text/plain": [
       "NaturalNumber(__value__=Call(function=<function NaturalNumber.__mul__ at 0x106f852f0>, args=(NaturalNumber(__value__=Call(function=<function NaturalNumber.__add__ at 0x106f85268>, args=(NaturalNumber(__value__=1), NaturalNumber(__value__=2)))), NaturalNumber(__value__=3))))"
      ]
     },
     "execution_count": 25,
     "metadata": {},
     "output_type": "execute_result"
    }
   ],
   "source": [
    "n = (NaturalNumber(1) + NaturalNumber(2)) * NaturalNumber(3)\n",
    "n"
   ]
  },
  {
   "cell_type": "markdown",
   "metadata": {},
   "source": [
    "Now let's define a way to execute these natural numbers:"
   ]
  },
  {
   "cell_type": "code",
   "execution_count": 38,
   "metadata": {},
   "outputs": [],
   "source": [
    "def execute_call_fn(call):\n",
    "    if call.function == NaturalNumber.__add__:\n",
    "        return call.args[0].value + call.args[1].value\n",
    "    elif call.function == NaturalNumber.__mul__:\n",
    "        return call.args[0].value * call.args[1].value\n",
    "    raise NotImplementedError()\n",
    "\n",
    "identity = lambda v: v\n",
    "execute_expr = lambda expr: expr.fold(expr_fn=identity, call_value_fn=execute_call_fn, other_value_fn=identity)\n",
    "execute_natural = lambda n: execute_expr(Expression.from_instance(n)).instance"
   ]
  },
  {
   "cell_type": "code",
   "execution_count": 39,
   "metadata": {},
   "outputs": [
    {
     "data": {
      "text/plain": [
       "NaturalNumber(__value__=9)"
      ]
     },
     "execution_count": 39,
     "metadata": {},
     "output_type": "execute_result"
    }
   ],
   "source": [
    "execute_natural(n)"
   ]
  }
 ],
 "metadata": {
  "kernelspec": {
   "display_name": "Python 3",
   "language": "python",
   "name": "python3"
  },
  "language_info": {
   "codemirror_mode": {
    "name": "ipython",
    "version": 3
   },
   "file_extension": ".py",
   "mimetype": "text/x-python",
   "name": "python",
   "nbconvert_exporter": "python",
   "pygments_lexer": "ipython3",
   "version": "3.7.2"
  }
 },
 "nbformat": 4,
 "nbformat_minor": 2
}
