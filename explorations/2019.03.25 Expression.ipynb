{
 "cells": [
  {
   "cell_type": "code",
   "execution_count": 17,
   "metadata": {},
   "outputs": [],
   "source": [
    "from metadsl import *\n",
    "\n",
    "import dataclasses"
   ]
  },
  {
   "cell_type": "markdown",
   "metadata": {},
   "source": [
    "We can make a natural number type:"
   ]
  },
  {
   "cell_type": "code",
   "execution_count": 16,
   "metadata": {},
   "outputs": [],
   "source": [
    "@dataclasses.dataclass(frozen=True)\n",
    "class NaturalNumber(Instance):\n",
    "\n",
    "    def __add__(self, other: \"NaturalNumber\") -> \"NaturalNumber\":\n",
    "        return NaturalNumber(Call(NaturalNumber.__add__, (self, other)))"
   ]
  },
  {
   "cell_type": "markdown",
   "metadata": {},
   "source": [
    "And an expression about it:"
   ]
  },
  {
   "cell_type": "code",
   "execution_count": 14,
   "metadata": {},
   "outputs": [
    {
     "data": {
      "text/plain": [
       "NaturalNumber(__value__=Call(function=<function NaturalNumber.__add__ at 0x10641a6a8>, args=(NaturalNumber(__value__=Call(function=<function NaturalNumber.__add__ at 0x10641a6a8>, args=(NaturalNumber(__value__=Call(function=<function NaturalNumber.__add__ at 0x10641a6a8>, args=(NaturalNumber(__value__=123), NaturalNumber(__value__=456)))), NaturalNumber(__value__=456)))), NaturalNumber(__value__=Call(function=<function NaturalNumber.__add__ at 0x10641a6a8>, args=(NaturalNumber(__value__=Call(function=<function NaturalNumber.__add__ at 0x10641a6a8>, args=(NaturalNumber(__value__=123), NaturalNumber(__value__=456)))), NaturalNumber(__value__=456)))))))"
      ]
     },
     "execution_count": 14,
     "metadata": {},
     "output_type": "execute_result"
    }
   ],
   "source": [
    "n = NaturalNumber(123) + NaturalNumber(456) + NaturalNumber(456)\n",
    "n + n"
   ]
  },
  {
   "cell_type": "code",
   "execution_count": 15,
   "metadata": {},
   "outputs": [
    {
     "data": {
      "text/plain": [
       "((<function __main__.NaturalNumber.__add__(self, other: 'NaturalNumber') -> 'NaturalNumber'>,\n",
       "  (((<function __main__.NaturalNumber.__add__(self, other: 'NaturalNumber') -> 'NaturalNumber'>,\n",
       "     (((<function __main__.NaturalNumber.__add__(self, other: 'NaturalNumber') -> 'NaturalNumber'>,\n",
       "        ((123,), (456,))),),\n",
       "      (456,))),),\n",
       "   ((<function __main__.NaturalNumber.__add__(self, other: 'NaturalNumber') -> 'NaturalNumber'>,\n",
       "     (((<function __main__.NaturalNumber.__add__(self, other: 'NaturalNumber') -> 'NaturalNumber'>,\n",
       "        ((123,), (456,))),),\n",
       "      (456,))),))),)"
      ]
     },
     "execution_count": 15,
     "metadata": {},
     "output_type": "execute_result"
    }
   ],
   "source": [
    "dataclasses.astuple(n + n)"
   ]
  },
  {
   "cell_type": "markdown",
   "metadata": {},
   "source": [
    "Now we can instatiate the expression:"
   ]
  },
  {
   "cell_type": "code",
   "execution_count": 9,
   "metadata": {},
   "outputs": [
    {
     "data": {
      "text/plain": [
       "Expression(type=<class '__main__.NaturalNumber'>, value=Call(function=<function NaturalNumber.__add__ at 0x10641a6a8>, args=(Expression(type=<class '__main__.NaturalNumber'>, value=Call(function=<function NaturalNumber.__add__ at 0x10641a6a8>, args=(Expression(type=<class '__main__.NaturalNumber'>, value=123), Expression(type=<class '__main__.NaturalNumber'>, value=456)))), Expression(type=<class '__main__.NaturalNumber'>, value=456))))"
      ]
     },
     "execution_count": 9,
     "metadata": {},
     "output_type": "execute_result"
    }
   ],
   "source": [
    "expr = Expression.from_instance(n)\n",
    "expr"
   ]
  },
  {
   "cell_type": "code",
   "execution_count": 10,
   "metadata": {},
   "outputs": [
    {
     "data": {
      "text/plain": [
       "(__main__.NaturalNumber,\n",
       " (<function __main__.NaturalNumber.__add__(self, other: 'NaturalNumber') -> 'NaturalNumber'>,\n",
       "  ((__main__.NaturalNumber,\n",
       "    (<function __main__.NaturalNumber.__add__(self, other: 'NaturalNumber') -> 'NaturalNumber'>,\n",
       "     ((__main__.NaturalNumber, 123), (__main__.NaturalNumber, 456)))),\n",
       "   (__main__.NaturalNumber, 456))))"
      ]
     },
     "execution_count": 10,
     "metadata": {},
     "output_type": "execute_result"
    }
   ],
   "source": [
    "dataclasses.astuple(expr)"
   ]
  },
  {
   "cell_type": "code",
   "execution_count": 12,
   "metadata": {},
   "outputs": [
    {
     "data": {
      "text/plain": [
       "True"
      ]
     },
     "execution_count": 12,
     "metadata": {},
     "output_type": "execute_result"
    }
   ],
   "source": [
    "expr.instance == n"
   ]
  }
 ],
 "metadata": {
  "kernelspec": {
   "display_name": "Python 3",
   "language": "python",
   "name": "python3"
  },
  "language_info": {
   "codemirror_mode": {
    "name": "ipython",
    "version": 3
   },
   "file_extension": ".py",
   "mimetype": "text/x-python",
   "name": "python",
   "nbconvert_exporter": "python",
   "pygments_lexer": "ipython3",
   "version": "3.7.2"
  }
 },
 "nbformat": 4,
 "nbformat_minor": 2
}
