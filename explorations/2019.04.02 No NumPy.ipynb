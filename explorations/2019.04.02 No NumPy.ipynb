{
 "cells": [
  {
   "cell_type": "code",
   "execution_count": 13,
   "metadata": {},
   "outputs": [],
   "source": [
    "import metadsl.nonumpy.compat as np\n",
    "from metadsl.expressions import Expression\n",
    "import dataclasses\n",
    "# import numpy as np"
   ]
  },
  {
   "cell_type": "code",
   "execution_count": 2,
   "metadata": {},
   "outputs": [
    {
     "data": {
      "text/plain": [
       "Integer(__value__=Call(function=<function TupleOfIntegers.__getitem__ at 0x1049fcb70>, args=(TupleOfIntegers(__value__=Call(function=<function NDArray.shape at 0x104a067b8>, args=(NDArray(__value__=Call(function=<function array at 0x104a0a1e0>, args=(NDArray(__value__=(1, 2, 3)), Optional(__value__=Call(function=<bound method Optional.create_none_call of <class 'metadsl.python.pure.Optional'>>, args=()), inner_type=InstanceType(type=<class 'metadsl.nonumpy.pure.DType'>, args=())), Boolean(__value__=True), Optional(__value__=Call(function=<bound method Optional.create_none_call of <class 'metadsl.python.pure.Optional'>>, args=()), inner_type=InstanceType(type=<class 'metadsl.nonumpy.pure.ArrayOrder'>, args=())), Optional(__value__=Call(function=<bound method Optional.create_none_call of <class 'metadsl.python.pure.Optional'>>, args=()), inner_type=InstanceType(type=<class 'metadsl.python.compat.Boolean'>, args=())), Optional(__value__=Call(function=<function Optional.create_some at 0x104a062f0>, args=(Integer(__value__=123),)), inner_type=InstanceType(type=<class 'metadsl.python.compat.Integer'>, args=()))))),))), Integer(__value__=0))))"
      ]
     },
     "execution_count": 2,
     "metadata": {},
     "output_type": "execute_result"
    }
   ],
   "source": [
    "e = np.array((1, 2, 3), ndmin=123).shape[0]\n",
    "e"
   ]
  },
  {
   "cell_type": "code",
   "execution_count": 18,
   "metadata": {},
   "outputs": [],
   "source": [
    "def as_tuple(expr):\n",
    "    return Expression.from_instance(expr).fold(\n",
    "        lambda expr: (dataclasses.astuple(expr.type), expr.value),\n",
    "        lambda call: (call.function.__name__,) + tuple(call.args),\n",
    "        lambda value: value\n",
    "    )"
   ]
  },
  {
   "cell_type": "code",
   "execution_count": 19,
   "metadata": {},
   "outputs": [
    {
     "data": {
      "text/plain": [
       "((metadsl.python.compat.Integer, ()),\n",
       " ('__getitem__',\n",
       "  ((metadsl.python.pure.TupleOfIntegers, ()),\n",
       "   ('shape',\n",
       "    ((metadsl.nonumpy.pure.NDArray, ()),\n",
       "     ('array',\n",
       "      ((metadsl.nonumpy.pure.NDArray, ()), (1, 2, 3)),\n",
       "      ((metadsl.python.pure.Optional, ((metadsl.nonumpy.pure.DType, ()),)),\n",
       "       ('create_none_call',)),\n",
       "      ((metadsl.python.pure.Boolean, ()), True),\n",
       "      ((metadsl.python.pure.Optional,\n",
       "        ((metadsl.nonumpy.pure.ArrayOrder, ()),)),\n",
       "       ('create_none_call',)),\n",
       "      ((metadsl.python.pure.Optional, ((metadsl.python.compat.Boolean, ()),)),\n",
       "       ('create_none_call',)),\n",
       "      ((metadsl.python.pure.Optional, ((metadsl.python.compat.Integer, ()),)),\n",
       "       ('create_some', ((metadsl.python.compat.Integer, ()), 123))))))),\n",
       "  ((metadsl.python.pure.Integer, ()), 0)))"
      ]
     },
     "execution_count": 19,
     "metadata": {},
     "output_type": "execute_result"
    }
   ],
   "source": [
    "as_tuple(e)"
   ]
  },
  {
   "cell_type": "code",
   "execution_count": null,
   "metadata": {},
   "outputs": [],
   "source": []
  }
 ],
 "metadata": {
  "kernelspec": {
   "display_name": "Python 3",
   "language": "python",
   "name": "python3"
  },
  "language_info": {
   "codemirror_mode": {
    "name": "ipython",
    "version": 3
   },
   "file_extension": ".py",
   "mimetype": "text/x-python",
   "name": "python",
   "nbconvert_exporter": "python",
   "pygments_lexer": "ipython3",
   "version": "3.7.3"
  }
 },
 "nbformat": 4,
 "nbformat_minor": 2
}
