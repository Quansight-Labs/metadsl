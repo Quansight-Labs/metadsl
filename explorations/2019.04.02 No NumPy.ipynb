{
 "cells": [
  {
   "cell_type": "code",
   "execution_count": 1,
   "metadata": {},
   "outputs": [],
   "source": [
    "import metadsl.nonumpy.compat as np\n",
    "from metadsl.expressions import Expression\n",
    "import dataclasses\n",
    "# import numpy as np"
   ]
  },
  {
   "cell_type": "code",
   "execution_count": 2,
   "metadata": {},
   "outputs": [
    {
     "data": {
      "text/plain": [
       "Integer(__value__=Call(function=<function TupleOfIntegers.__getitem__ at 0x111940d08>, args=(TupleOfIntegers(__value__=Call(function=<function NDArray.shape at 0x111952950>, args=(NDArray(__value__=Call(function=<function array at 0x1119549d8>, args=(NDArray(__value__=(1, 2, 3)), Optional(__value__=Call(function=<bound method Optional.create_none_call of <class 'metadsl.python.pure.Optional'>>, args=()), inner_type=InstanceType(type=<class 'metadsl.nonumpy.pure.DType'>, args=())), Boolean(__value__=True), Optional(__value__=Call(function=<bound method Optional.create_none_call of <class 'metadsl.python.pure.Optional'>>, args=()), inner_type=InstanceType(type=<class 'metadsl.nonumpy.pure.ArrayOrder'>, args=())), Optional(__value__=Call(function=<bound method Optional.create_none_call of <class 'metadsl.python.pure.Optional'>>, args=()), inner_type=InstanceType(type=<class 'metadsl.python.compat.Boolean'>, args=())), Optional(__value__=Call(function=<function Optional.create_some at 0x111952488>, args=(Integer(__value__=123),)), inner_type=InstanceType(type=<class 'metadsl.python.compat.Integer'>, args=()))))),))), Integer(__value__=0))))"
      ]
     },
     "execution_count": 2,
     "metadata": {},
     "output_type": "execute_result"
    }
   ],
   "source": [
    "e = np.array((1, 2, 3), ndmin=123).shape[0]\n",
    "e"
   ]
  },
  {
   "cell_type": "code",
   "execution_count": 3,
   "metadata": {},
   "outputs": [],
   "source": [
    "def as_tuple_with_type(expr):\n",
    "    return Expression.from_instance(expr).fold(\n",
    "        lambda expr: (dataclasses.astuple(expr.type), expr.value),\n",
    "        lambda call: (call.function.__name__,) + tuple(call.args),\n",
    "        lambda value: value\n",
    "    )\n",
    "\n",
    "def as_tuple(expr):\n",
    "    return Expression.from_instance(expr).fold(\n",
    "        lambda expr: expr.value,\n",
    "        lambda call: (call.function.__name__,) + tuple(call.args),\n",
    "        lambda value: value\n",
    "    )"
   ]
  },
  {
   "cell_type": "code",
   "execution_count": 4,
   "metadata": {},
   "outputs": [
    {
     "data": {
      "text/plain": [
       "('__getitem__',\n",
       " ('shape',\n",
       "  ('array',\n",
       "   (1, 2, 3),\n",
       "   ('create_none_call',),\n",
       "   True,\n",
       "   ('create_none_call',),\n",
       "   ('create_none_call',),\n",
       "   ('create_some', 123))),\n",
       " 0)"
      ]
     },
     "execution_count": 4,
     "metadata": {},
     "output_type": "execute_result"
    }
   ],
   "source": [
    "as_tuple(e)"
   ]
  },
  {
   "cell_type": "code",
   "execution_count": 5,
   "metadata": {},
   "outputs": [
    {
     "data": {
      "text/plain": [
       "((metadsl.python.compat.Integer, ()),\n",
       " ('__getitem__',\n",
       "  ((metadsl.python.pure.TupleOfIntegers, ()),\n",
       "   ('shape',\n",
       "    ((metadsl.nonumpy.pure.NDArray, ()),\n",
       "     ('array',\n",
       "      ((metadsl.nonumpy.pure.NDArray, ()), (1, 2, 3)),\n",
       "      ((metadsl.python.pure.Optional, ((metadsl.nonumpy.pure.DType, ()),)),\n",
       "       ('create_none_call',)),\n",
       "      ((metadsl.python.pure.Boolean, ()), True),\n",
       "      ((metadsl.python.pure.Optional,\n",
       "        ((metadsl.nonumpy.pure.ArrayOrder, ()),)),\n",
       "       ('create_none_call',)),\n",
       "      ((metadsl.python.pure.Optional, ((metadsl.python.compat.Boolean, ()),)),\n",
       "       ('create_none_call',)),\n",
       "      ((metadsl.python.pure.Optional, ((metadsl.python.compat.Integer, ()),)),\n",
       "       ('create_some', ((metadsl.python.compat.Integer, ()), 123))))))),\n",
       "  ((metadsl.python.pure.Integer, ()), 0)))"
      ]
     },
     "execution_count": 5,
     "metadata": {},
     "output_type": "execute_result"
    }
   ],
   "source": [
    "as_tuple_with_type(e)"
   ]
  },
  {
   "cell_type": "code",
   "execution_count": 6,
   "metadata": {},
   "outputs": [
    {
     "data": {
      "text/plain": [
       "('__add__',\n",
       " ('arange',\n",
       "  ('create_none_call',),\n",
       "  10,\n",
       "  ('create_none_call',),\n",
       "  ('create_none_call',)),\n",
       " ('arange',\n",
       "  ('create_none_call',),\n",
       "  100,\n",
       "  ('create_none_call',),\n",
       "  ('create_none_call',)))"
      ]
     },
     "execution_count": 6,
     "metadata": {},
     "output_type": "execute_result"
    }
   ],
   "source": [
    "as_tuple(np.arange(10) + np.arange(100))"
   ]
  },
  {
   "cell_type": "code",
   "execution_count": 7,
   "metadata": {},
   "outputs": [
    {
     "name": "stdout",
     "output_type": "stream",
     "text": [
      "Requirement already satisfied: numpy in /usr/local/miniconda3/envs/metadsl/lib/python3.7/site-packages (1.16.2)\n"
     ]
    }
   ],
   "source": [
    "!pip install numpy"
   ]
  },
  {
   "cell_type": "code",
   "execution_count": 8,
   "metadata": {},
   "outputs": [],
   "source": [
    "import numpy as real_np"
   ]
  },
  {
   "cell_type": "code",
   "execution_count": 9,
   "metadata": {},
   "outputs": [
    {
     "data": {
      "text/plain": [
       "('__array_ufunc__',\n",
       " <ufunc 'multiply'>,\n",
       " 'outer',\n",
       " (),\n",
       " ('arange',\n",
       "  ('create_none_call',),\n",
       "  10,\n",
       "  ('create_none_call',),\n",
       "  ('create_none_call',)),\n",
       " ('arange',\n",
       "  ('create_none_call',),\n",
       "  10,\n",
       "  ('create_none_call',),\n",
       "  ('create_none_call',)))"
      ]
     },
     "execution_count": 9,
     "metadata": {},
     "output_type": "execute_result"
    }
   ],
   "source": [
    "as_tuple(real_np.multiply.outer(np.arange(10), np.arange(10)))"
   ]
  },
  {
   "cell_type": "code",
   "execution_count": 10,
   "metadata": {},
   "outputs": [
    {
     "data": {
      "text/plain": [
       "metadsl.nonumpy.compat.NDArray"
      ]
     },
     "execution_count": 10,
     "metadata": {},
     "output_type": "execute_result"
    }
   ],
   "source": [
    "type(np.arange(10))"
   ]
  },
  {
   "cell_type": "code",
   "execution_count": 11,
   "metadata": {},
   "outputs": [],
   "source": [
    "import types"
   ]
  },
  {
   "cell_type": "code",
   "execution_count": 12,
   "metadata": {},
   "outputs": [
    {
     "data": {
      "text/plain": [
       "((1, 2),)"
      ]
     },
     "execution_count": 12,
     "metadata": {},
     "output_type": "execute_result"
    }
   ],
   "source": [
    "tuple({1: 2}.items())"
   ]
  },
  {
   "cell_type": "code",
   "execution_count": null,
   "metadata": {},
   "outputs": [],
   "source": []
  }
 ],
 "metadata": {
  "kernelspec": {
   "display_name": "Python 3",
   "language": "python",
   "name": "python3"
  },
  "language_info": {
   "codemirror_mode": {
    "name": "ipython",
    "version": 3
   },
   "file_extension": ".py",
   "mimetype": "text/x-python",
   "name": "python",
   "nbconvert_exporter": "python",
   "pygments_lexer": "ipython3",
   "version": "3.7.3"
  }
 },
 "nbformat": 4,
 "nbformat_minor": 2
}
