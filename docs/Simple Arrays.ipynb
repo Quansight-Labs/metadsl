{
 "cells": [
  {
   "cell_type": "markdown",
   "metadata": {},
   "source": [
    "# Simple Arrays\n",
    "\n",
    "In this example, we will show how to start building a simple Array API.\n",
    "\n",
    "The important things to note are:\n",
    "\n",
    "1. Our \"optimization\" replacement isn't tied to any particular type of array. It is agnostic to how we actually represent arrays (in this case strings).\n",
    "2. We end up with a Python class that acts like an array, but builds up an expression graph. We use this same class to build up the replacements, so they are very succinct and readble.\n",
    "3. There is no metaprogramming in this example, and no inspecting of type signatures.\n",
    "4. Everthing is well typed and MyPy will warn us if we are trying to call operations on arrays which are not valid.\n",
    "\n",
    "We only define two operations, add and getitem:"
   ]
  },
  {
   "cell_type": "code",
   "execution_count": 1,
   "metadata": {},
   "outputs": [],
   "source": [
    "import metadsl\n",
    "import typing"
   ]
  },
  {
   "cell_type": "code",
   "execution_count": 2,
   "metadata": {},
   "outputs": [],
   "source": [
    "class Array(metadsl.Instance):\n",
    "    @metadsl.call(lambda self, other: Array)\n",
    "    def __add__(self, other: \"Array\") -> \"Array\":\n",
    "        ...\n",
    "    \n",
    "    @metadsl.call(lambda self, idx: Array)\n",
    "    def __getitem__(self, idx: int) -> \"Array\":\n",
    "        ...\n",
    "\n"
   ]
  },
  {
   "cell_type": "markdown",
   "metadata": {},
   "source": [
    "We define one replacement, that distributes indexing over addition:"
   ]
  },
  {
   "cell_type": "code",
   "execution_count": 6,
   "metadata": {},
   "outputs": [],
   "source": [
    "array_replacements = metadsl.Replacements()\n",
    "\n",
    "@array_replacements.register_pure(Array, Array, None)\n",
    "def _distribute_add(a: Array, b: Array, c: int):\n",
    "    return (\n",
    "        # expression to match agains\n",
    "        (a + b)[c],\n",
    "        # expression it is replaced with\n",
    "        a[c] + b[c]\n",
    "    )"
   ]
  },
  {
   "cell_type": "markdown",
   "metadata": {},
   "source": [
    "Now we define a simple \"implementation\" of arrays, that are just strings representing their names.\n",
    "\n",
    "We write how to convert adding and indexing into strings, to \"compile\" the expression:"
   ]
  },
  {
   "cell_type": "code",
   "execution_count": 3,
   "metadata": {},
   "outputs": [],
   "source": [
    "array_string_replacements = metadsl.Replacements()\n",
    "\n",
    "\n",
    "all_replacements = metadsl.ReplacementsSequence(array_replacements, array_string_replacements)\n",
    "\n",
    "@metadsl.call(lambda x: Array)\n",
    "def array(x: str) -> Array:\n",
    "    ...\n",
    "\n",
    "\n",
    "@metadsl.call(lambda x: all_replacements)\n",
    "def as_string(x: Array) -> str:\n",
    "    ...\n",
    "\n",
    "    \n",
    "@array_string_replacements.register_pure(None)\n",
    "def _string(x: str):\n",
    "    return as_string(array(x)), x\n",
    "\n",
    "@array_string_replacements.register(None, None)\n",
    "def _add(x: str, y: str):\n",
    "    return array(x) + array(y), lambda: array(f\"({x} + {y})\")\n",
    "\n",
    "\n",
    "@array_string_replacements.register(None, None)\n",
    "def _getitem(x: str, y: int):\n",
    "    return array(x)[y], lambda: array(f\"{x}[{y}]\")"
   ]
  },
  {
   "cell_type": "markdown",
   "metadata": {},
   "source": [
    "Now we can create two arrays, add them and index, and turn them into a string, which will run the replacments:"
   ]
  },
  {
   "cell_type": "code",
   "execution_count": 5,
   "metadata": {},
   "outputs": [
    {
     "name": "stdout",
     "output_type": "stream",
     "text": [
      "(a[10] + B[10])\n"
     ]
    }
   ],
   "source": [
    "a = array(\"a\")\n",
    "b = array(\"b\")\n",
    "\n",
    "res = (a + b)[10]\n",
    "print(as_string(res))"
   ]
  }
 ],
 "metadata": {
  "kernelspec": {
   "display_name": "Python 3",
   "language": "python",
   "name": "python3"
  },
  "language_info": {
   "codemirror_mode": {
    "name": "ipython",
    "version": 3
   },
   "file_extension": ".py",
   "mimetype": "text/x-python",
   "name": "python",
   "nbconvert_exporter": "python",
   "pygments_lexer": "ipython3",
   "version": "3.7.3"
  }
 },
 "nbformat": 4,
 "nbformat_minor": 2
}
