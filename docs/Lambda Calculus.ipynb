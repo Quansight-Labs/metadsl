{
 "cells": [
  {
   "cell_type": "markdown",
   "metadata": {},
   "source": [
    "# Implementing an untyped Lambda Calculus\n",
    "\n",
    "\n",
    "To introduce `metadsl` we will show how to create a working version of the untyped lambda calculus.\n",
    "\n",
    "This will let us create the some basic combinators, verify that they before as expected under equiavelency.\n",
    "\n",
    "Then we can also create an implementation of arithmetic on natural numbers, using church encoding and show how to convert\n",
    "between these and Python's integers.\n"
   ]
  },
  {
   "cell_type": "markdown",
   "metadata": {},
   "source": [
    "## Terms\n",
    "The lambda calculus might sound abstract and odd, but if you know how to write functions in Python you already have mastered it!\n",
    "The idea is a very simple language that only has functions that take in one argument.\n",
    "Nothing, else, which seems a bit silly maybe, and it is not very useful by itself, but when it is integrated into a system with other data\n",
    "types, it becomes a useful so that we can represent functions.\n"
   ]
  },
  {
   "cell_type": "markdown",
   "metadata": {},
   "source": [
    "First, let's create a concept of a \"variable\" that can optionally have a name. It should only be equal to itself, so that we don't have to worry about shadowing variable names:"
   ]
  },
  {
   "cell_type": "code",
   "execution_count": 1,
   "metadata": {},
   "outputs": [],
   "source": [
    "import dataclasses\n",
    "import typing\n",
    "\n",
    "\n",
    "@dataclasses.dataclass(eq=False)\n",
    "class Variable:\n",
    "    name: typing.Optional[str] = None\n",
    "    \n",
    "    \n",
    "    def __str__(self):\n",
    "        return self.name or str(id(self))\n",
    "        \n",
    "    def __repr__(self):\n",
    "        return f\"Variable({str(self)})\"\n",
    "        \n",
    "x1 = Variable(\"x\")\n",
    "x2 = Variable(\"x\")\n",
    "\n",
    "assert x1 == x1\n",
    "assert x1 != x2\n",
    "assert hash(x1) != hash(x2)"
   ]
  },
  {
   "cell_type": "markdown",
   "metadata": {},
   "source": [
    "Now, let's build our one and only key abstraction, a lambda term.\n",
    "You should be able to call it and also create it by having a body and a variable. "
   ]
  },
  {
   "cell_type": "code",
   "execution_count": 2,
   "metadata": {},
   "outputs": [],
   "source": [
    "import metadsl\n",
    "\n",
    "\n",
    "class LambdaTerm(metadsl.Instance):\n",
    "    @metadsl.call(lambda self, arg: LambdaTerm)\n",
    "    def __call__(self, arg: \"LambdaTerm\") -> \"LambdaTerm\":\n",
    "        ...\n",
    "\n",
    "@metadsl.call(lambda variable, body: LambdaTerm)\n",
    "def abstraction(variable: Variable, body: LambdaTerm) -> LambdaTerm:\n",
    "    ...\n",
    "\n",
    "@metadsl.call(lambda variable: LambdaTerm)\n",
    "def from_variable(variable: Variable) -> LambdaTerm:\n",
    "    ...\n",
    "\n",
    "def create_abstraction(fn: typing.Callable[[LambdaTerm], LambdaTerm]) -> LambdaTerm:\n",
    "    arg = Variable()\n",
    "    return abstraction(arg, fn(from_variable(arg)))"
   ]
  },
  {
   "cell_type": "markdown",
   "metadata": {},
   "source": [
    "We can construct the identity function"
   ]
  },
  {
   "cell_type": "code",
   "execution_count": 3,
   "metadata": {},
   "outputs": [],
   "source": [
    "@create_abstraction\n",
    "def identity(x):\n",
    "    return x"
   ]
  },
  {
   "cell_type": "code",
   "execution_count": 4,
   "metadata": {},
   "outputs": [
    {
     "data": {
      "text/plain": [
       "LambdaTerm(_call=Call(abstraction, (Variable(4398377392), LambdaTerm(_call=Call(from_variable, (Variable(4398377392),))))))"
      ]
     },
     "execution_count": 4,
     "metadata": {},
     "output_type": "execute_result"
    }
   ],
   "source": [
    "identity"
   ]
  },
  {
   "cell_type": "markdown",
   "metadata": {},
   "source": [
    "and then call it on a term:"
   ]
  },
  {
   "cell_type": "code",
   "execution_count": 5,
   "metadata": {},
   "outputs": [
    {
     "data": {
      "text/plain": [
       "LambdaTerm(_call=Call(__call__, (LambdaTerm(_call=Call(abstraction, (Variable(4398377392), LambdaTerm(_call=Call(from_variable, (Variable(4398377392),)))))), LambdaTerm(_call=Call(from_variable, (Variable(y),))))))"
      ]
     },
     "execution_count": 5,
     "metadata": {},
     "output_type": "execute_result"
    }
   ],
   "source": [
    "y_term = from_variable(Variable(\"y\"))\n",
    "called_identity = identity(y_term)\n",
    "called_identity"
   ]
  },
  {
   "cell_type": "markdown",
   "metadata": {},
   "source": [
    "## Pretty Printing\n",
    "\n",
    "This is a bit of a verbose way to print these.\n",
    "\n",
    "Let's create a custom function that walks the tree and converts them to a string:"
   ]
  },
  {
   "cell_type": "code",
   "execution_count": 6,
   "metadata": {},
   "outputs": [],
   "source": [
    "pretty_print = metadsl.Replacements()\n",
    "\n",
    "\n",
    "@metadsl.call(lambda s: LambdaTerm)\n",
    "def string_term(s: str) -> LambdaTerm:\n",
    "    ...\n",
    "\n",
    "\n",
    "@pretty_print.register(None)\n",
    "def pp_variable(variable: Variable):\n",
    "    return (\n",
    "        from_variable(variable),\n",
    "        lambda: string_term(str(variable))\n",
    "    )\n",
    "\n",
    "@pretty_print.register(None, None)\n",
    "def pp_abstraction(variable: Variable, body: str):\n",
    "    return (\n",
    "        abstraction(variable, string_term(body)),\n",
    "        lambda: string_term(f\"(λ{variable}.{body})\")\n",
    "    )\n",
    "\n",
    "@pretty_print.register(None, None)\n",
    "def pp_application(fn: str, arg: str):\n",
    "    return (\n",
    "        string_term(fn)(string_term(arg)),\n",
    "        lambda: string_term(f\"({fn} {arg})\"),\n",
    "    )\n",
    "\n",
    "@metadsl.call(lambda t: pretty_print)\n",
    "def unbox_str(t: LambdaTerm) -> str:\n",
    "    ...\n",
    "\n",
    "@pretty_print.register_pure(None)\n",
    "def pp_unbox(s: str):\n",
    "    return unbox_str(string_term(s)), s"
   ]
  },
  {
   "cell_type": "code",
   "execution_count": 7,
   "metadata": {},
   "outputs": [
    {
     "data": {
      "text/plain": [
       "'((λ4398377392.4398377392) y)'"
      ]
     },
     "execution_count": 7,
     "metadata": {},
     "output_type": "execute_result"
    }
   ],
   "source": [
    "unbox_str(called_identity)"
   ]
  },
  {
   "cell_type": "markdown",
   "metadata": {},
   "source": [
    "## Beta Reduction\n",
    "\n",
    "To make this useful, we need to define some semantics on these.\n",
    "\n",
    "What's a useful thing to do with the lambda calculus?\n",
    "\n",
    "Well it would be nice to actually be able to \"compute\" these values by replacing all instances of a variable with it's argument."
   ]
  },
  {
   "cell_type": "markdown",
   "metadata": {},
   "source": [
    "So let's replace all instances of calling a variable by replacing the arg inside of it:"
   ]
  },
  {
   "cell_type": "code",
   "execution_count": 12,
   "metadata": {},
   "outputs": [
    {
     "data": {
      "text/plain": [
       "LambdaTerm(_call=Call(from_variable, (Variable(y),)))"
      ]
     },
     "execution_count": 12,
     "metadata": {},
     "output_type": "execute_result"
    }
   ],
   "source": [
    "beta_reduce_replacements = metadsl.Replacements()\n",
    "\n",
    "\n",
    "@metadsl.call(lambda t: beta_reduce_replacements)\n",
    "def beta_reduce(t: LambdaTerm) -> LambdaTerm:\n",
    "    ...\n",
    "\n",
    "@beta_reduce_replacements.register_pure(LambdaTerm)\n",
    "def _remove_beta_reduce(t: LambdaTerm):\n",
    "    return beta_reduce(t), t\n",
    "    \n",
    "@beta_reduce_replacements.register(None, LambdaTerm, LambdaTerm)\n",
    "def _beta_reduce(var: Variable, body: LambdaTerm, arg: LambdaTerm):\n",
    "    def replacement(var=var, body=body, arg=arg):\n",
    "        # replaces all instances of var with arg\n",
    "        rs = metadsl.Replacements()\n",
    "        rs.register_pure()(lambda: (from_variable(var), arg))\n",
    "        return rs(body)\n",
    "\n",
    "    return (\n",
    "        abstraction(var, body)(arg),\n",
    "        replacement\n",
    "    )\n",
    "beta_reduce(called_identity)"
   ]
  },
  {
   "cell_type": "markdown",
   "metadata": {},
   "source": [
    "Now let's combine these two, to execute them in sequence. First we want to beta reduce, until there is no more to beta reduce, then\n",
    "we wanna turn that into a pretty print representation:"
   ]
  },
  {
   "cell_type": "code",
   "execution_count": 13,
   "metadata": {},
   "outputs": [],
   "source": [
    "def execute(expr: LambdaTerm) -> str:\n",
    "    return unbox_str(beta_reduce_replacements(expr))"
   ]
  },
  {
   "cell_type": "code",
   "execution_count": 14,
   "metadata": {},
   "outputs": [
    {
     "name": "stdout",
     "output_type": "stream",
     "text": [
      "y\n"
     ]
    }
   ],
   "source": [
    "print(execute(called_identity))"
   ]
  },
  {
   "cell_type": "markdown",
   "metadata": {},
   "source": [
    "## Alpha Conversion\n",
    "\n",
    "This looks allright, but before we do anything serious, let's deal with the annoying issue of these variable names. They aren't much fun to read! Let's fix this by implementing [α-conversion](https://en.wikipedia.org/wiki/Lambda_calculus#%CE%B1-conversion). The basic idea is that given some lambda expression, we rename all the variables to make them standard. Let's create a bunch of global variables, and then create a function that will transform an expression into a normal form using them:"
   ]
  },
  {
   "cell_type": "code",
   "execution_count": 17,
   "metadata": {},
   "outputs": [],
   "source": [
    "GLOBAL_VARS = [Variable(chr(i)) for i in range(ord('a'), ord('a') + 100)]\n",
    "CURRENT_GLOBAL_VAR = 0"
   ]
  },
  {
   "cell_type": "code",
   "execution_count": 18,
   "metadata": {},
   "outputs": [
    {
     "data": {
      "text/plain": [
       "Variable(a)"
      ]
     },
     "execution_count": 18,
     "metadata": {},
     "output_type": "execute_result"
    }
   ],
   "source": [
    "GLOBAL_VARS[0]"
   ]
  },
  {
   "cell_type": "markdown",
   "metadata": {},
   "source": [
    "The idea is that we will map each variable we find in the expression to one of the global variables:"
   ]
  },
  {
   "cell_type": "code",
   "execution_count": 19,
   "metadata": {},
   "outputs": [],
   "source": [
    "alpha_convert_replacements = metadsl.Replacements()\n",
    "\n",
    "def execute_alpha_convert(x):\n",
    "    global CURRENT_GLOBAL_VAR\n",
    "    CURRENT_GLOBAL_VAR = 0\n",
    "    return alpha_convert_replacements(x)\n",
    "\n",
    "@metadsl.call(lambda t: execute_alpha_convert)\n",
    "def alpha_convert(t: LambdaTerm) -> LambdaTerm:\n",
    "    ...\n",
    "\n",
    "@alpha_convert_replacements.register_pure(LambdaTerm)\n",
    "def _remove_alpha_convert(t: LambdaTerm):\n",
    "    return alpha_convert(t), t\n",
    "\n",
    "\n",
    "@alpha_convert_replacements.register(None, LambdaTerm)\n",
    "def _alpha_convert(var: Variable, body: LambdaTerm):\n",
    "    def replace(var=var, body=body):\n",
    "        if var in GLOBAL_VARS: \n",
    "            return None\n",
    "        global CURRENT_GLOBAL_VAR\n",
    "\n",
    "        new_var = GLOBAL_VARS[CURRENT_GLOBAL_VAR]\n",
    "        CURRENT_GLOBAL_VAR += 1\n",
    "\n",
    "        rs = metadsl.Replacements()\n",
    "        rs.register_pure()(lambda: (var, new_var))\n",
    "  \n",
    "        res = abstraction(new_var, rs(body))\n",
    "        \n",
    "        # We have already replaced this if we got the same\n",
    "        if res == abstraction(var, body):\n",
    "            return None\n",
    "        return res\n",
    "    \n",
    "    return (\n",
    "        abstraction(var, body),\n",
    "        replace\n",
    "    )"
   ]
  },
  {
   "cell_type": "code",
   "execution_count": 20,
   "metadata": {},
   "outputs": [
    {
     "data": {
      "text/plain": [
       "LambdaTerm(_call=Call(abstraction, (Variable(4398377392), LambdaTerm(_call=Call(from_variable, (Variable(4398377392),))))))"
      ]
     },
     "execution_count": 20,
     "metadata": {},
     "output_type": "execute_result"
    }
   ],
   "source": [
    "identity"
   ]
  },
  {
   "cell_type": "code",
   "execution_count": 21,
   "metadata": {},
   "outputs": [
    {
     "data": {
      "text/plain": [
       "LambdaTerm(_call=Call(abstraction, (Variable(a), LambdaTerm(_call=Call(from_variable, (Variable(a),))))))"
      ]
     },
     "execution_count": 21,
     "metadata": {},
     "output_type": "execute_result"
    }
   ],
   "source": [
    "alpha_convert(identity)"
   ]
  },
  {
   "cell_type": "markdown",
   "metadata": {},
   "source": [
    "Now let's add this to our execution step, so that we print before and after beta reducing:"
   ]
  },
  {
   "cell_type": "code",
   "execution_count": 22,
   "metadata": {},
   "outputs": [],
   "source": [
    "core_replacements = metadsl.ReplacementsSequence(beta_reduce)\n",
    "\n",
    "def execute(expr: LambdaTerm) -> str:\n",
    "    expr = alpha_convert(expr)\n",
    "    return f\"{unbox_str(expr)} ⇒ {unbox_str(core_replacements(expr))}\"\n"
   ]
  },
  {
   "cell_type": "code",
   "execution_count": 23,
   "metadata": {},
   "outputs": [
    {
     "data": {
      "text/plain": [
       "'((λa.a) (λb.b)) ⇒ (λb.b)'"
      ]
     },
     "execution_count": 23,
     "metadata": {},
     "output_type": "execute_result"
    }
   ],
   "source": [
    "execute(identity(identity))"
   ]
  },
  {
   "cell_type": "markdown",
   "metadata": {},
   "source": [
    "Now we are finally getting somewhere!"
   ]
  },
  {
   "cell_type": "code",
   "execution_count": 24,
   "metadata": {},
   "outputs": [
    {
     "data": {
      "text/plain": [
       "'(((λa.a) (λb.b)) Input) ⇒ Input'"
      ]
     },
     "execution_count": 24,
     "metadata": {},
     "output_type": "execute_result"
    }
   ],
   "source": [
    "execute(identity(identity)(from_variable(Variable(\"Input\"))))"
   ]
  },
  {
   "cell_type": "markdown",
   "metadata": {},
   "source": [
    "Let's actually just set it to always pretty print this representation:"
   ]
  },
  {
   "cell_type": "code",
   "execution_count": 25,
   "metadata": {},
   "outputs": [],
   "source": [
    "text_formatter = get_ipython().display_formatter.formatters['text/html']\n",
    "text_formatter.for_type(LambdaTerm, lambda e, *args: execute(e))"
   ]
  },
  {
   "cell_type": "code",
   "execution_count": 26,
   "metadata": {},
   "outputs": [
    {
     "data": {
      "text/html": [
       "(λa.a) ⇒ (λa.a)"
      ],
      "text/plain": [
       "LambdaTerm(_call=Call(abstraction, (Variable(4398377392), LambdaTerm(_call=Call(from_variable, (Variable(4398377392),))))))"
      ]
     },
     "execution_count": 26,
     "metadata": {},
     "output_type": "execute_result"
    }
   ],
   "source": [
    "identity"
   ]
  },
  {
   "cell_type": "code",
   "execution_count": 27,
   "metadata": {},
   "outputs": [
    {
     "data": {
      "text/html": [
       "((λa.a) (λb.b)) ⇒ (λb.b)"
      ],
      "text/plain": [
       "LambdaTerm(_call=Call(__call__, (LambdaTerm(_call=Call(abstraction, (Variable(4398377392), LambdaTerm(_call=Call(from_variable, (Variable(4398377392),)))))), LambdaTerm(_call=Call(abstraction, (Variable(4398377392), LambdaTerm(_call=Call(from_variable, (Variable(4398377392),)))))))))"
      ]
     },
     "execution_count": 27,
     "metadata": {},
     "output_type": "execute_result"
    }
   ],
   "source": [
    "identity(identity)"
   ]
  },
  {
   "cell_type": "markdown",
   "metadata": {},
   "source": [
    "## Church Numerals\n",
    "\n",
    "Now that we have a working system, we can start to implement some more useful programming on top of it.\n",
    "\n",
    "One thing we can do is [represent natural numbers](https://en.wikipedia.org/wiki/Church_encoding#Church_numerals) with lambda expression and do math on them."
   ]
  },
  {
   "cell_type": "markdown",
   "metadata": {},
   "source": [
    "### Python Ints\n",
    "First, let's add the ability to embed Python's ints inside a function:"
   ]
  },
  {
   "cell_type": "code",
   "execution_count": 28,
   "metadata": {},
   "outputs": [],
   "source": [
    "@metadsl.call(lambda i: LambdaTerm)\n",
    "def int_term(i: int) -> LambdaTerm:\n",
    "    ..."
   ]
  },
  {
   "cell_type": "code",
   "execution_count": 29,
   "metadata": {},
   "outputs": [
    {
     "data": {
      "text/html": [
       "unbox_str(LambdaTerm(_call=Call(int_term, (123,)))) ⇒ unbox_str(LambdaTerm(_call=Call(int_term, (123,))))"
      ],
      "text/plain": [
       "LambdaTerm(_call=Call(int_term, (123,)))"
      ]
     },
     "execution_count": 29,
     "metadata": {},
     "output_type": "execute_result"
    }
   ],
   "source": [
    "int_term(123)"
   ]
  },
  {
   "cell_type": "markdown",
   "metadata": {},
   "source": [
    "Oops! We don't know how to turn a int represenation of a lambda term into a string, lets fix that:"
   ]
  },
  {
   "cell_type": "code",
   "execution_count": 30,
   "metadata": {},
   "outputs": [],
   "source": [
    "@pretty_print.register(None)\n",
    "def int_to_str(i: int):\n",
    "    return int_term(i), lambda: string_term(str(i))"
   ]
  },
  {
   "cell_type": "code",
   "execution_count": 31,
   "metadata": {},
   "outputs": [
    {
     "data": {
      "text/html": [
       "((λa.a) 123) ⇒ 123"
      ],
      "text/plain": [
       "LambdaTerm(_call=Call(__call__, (LambdaTerm(_call=Call(abstraction, (Variable(4398377392), LambdaTerm(_call=Call(from_variable, (Variable(4398377392),)))))), LambdaTerm(_call=Call(int_term, (123,))))))"
      ]
     },
     "execution_count": 31,
     "metadata": {},
     "output_type": "execute_result"
    }
   ],
   "source": [
    "identity(int_term(123))"
   ]
  },
  {
   "cell_type": "markdown",
   "metadata": {},
   "source": [
    "### Church Numerals"
   ]
  },
  {
   "cell_type": "markdown",
   "metadata": {},
   "source": [
    "How do we create a church numeral? Well we have a function that calls itself $n$ times, to represent $n$:"
   ]
  },
  {
   "cell_type": "code",
   "execution_count": 32,
   "metadata": {},
   "outputs": [],
   "source": [
    "def church_numeral(n: int) -> LambdaTerm:\n",
    "    @create_abstraction\n",
    "    def outer(f):\n",
    "        \n",
    "        @create_abstraction\n",
    "        def inner(x):\n",
    "            for i in range(n):\n",
    "                x = f(x)\n",
    "            return x\n",
    "        return inner\n",
    "    return outer"
   ]
  },
  {
   "cell_type": "code",
   "execution_count": 33,
   "metadata": {},
   "outputs": [
    {
     "data": {
      "text/html": [
       "(λb.(λa.a)) ⇒ (λb.(λa.a))"
      ],
      "text/plain": [
       "LambdaTerm(_call=Call(abstraction, (Variable(4405644256), LambdaTerm(_call=Call(abstraction, (Variable(4405673040), LambdaTerm(_call=Call(from_variable, (Variable(4405673040),)))))))))"
      ]
     },
     "execution_count": 33,
     "metadata": {},
     "output_type": "execute_result"
    }
   ],
   "source": [
    "church_numeral(0)"
   ]
  },
  {
   "cell_type": "code",
   "execution_count": 34,
   "metadata": {},
   "outputs": [
    {
     "data": {
      "text/html": [
       "(λb.(λa.(b a))) ⇒ (λb.(λa.(b a)))"
      ],
      "text/plain": [
       "LambdaTerm(_call=Call(abstraction, (Variable(4405684768), LambdaTerm(_call=Call(abstraction, (Variable(4405683928), LambdaTerm(_call=Call(__call__, (LambdaTerm(_call=Call(from_variable, (Variable(4405684768),))), LambdaTerm(_call=Call(from_variable, (Variable(4405683928),))))))))))))"
      ]
     },
     "execution_count": 34,
     "metadata": {},
     "output_type": "execute_result"
    }
   ],
   "source": [
    "x = church_numeral(1)\n",
    "x"
   ]
  },
  {
   "cell_type": "code",
   "execution_count": 35,
   "metadata": {},
   "outputs": [
    {
     "data": {
      "text/html": [
       "(λb.(λa.(b (b a)))) ⇒ (λb.(λa.(b (b a))))"
      ],
      "text/plain": [
       "LambdaTerm(_call=Call(abstraction, (Variable(4408697576), LambdaTerm(_call=Call(abstraction, (Variable(4405715856), LambdaTerm(_call=Call(__call__, (LambdaTerm(_call=Call(from_variable, (Variable(4408697576),))), LambdaTerm(_call=Call(__call__, (LambdaTerm(_call=Call(from_variable, (Variable(4408697576),))), LambdaTerm(_call=Call(from_variable, (Variable(4405715856),)))))))))))))))"
      ]
     },
     "execution_count": 35,
     "metadata": {},
     "output_type": "execute_result"
    }
   ],
   "source": [
    "church_numeral(2)"
   ]
  },
  {
   "cell_type": "code",
   "execution_count": 36,
   "metadata": {},
   "outputs": [
    {
     "data": {
      "text/html": [
       "(λb.(λa.(b (b (b a))))) ⇒ (λb.(λa.(b (b (b a)))))"
      ],
      "text/plain": [
       "LambdaTerm(_call=Call(abstraction, (Variable(4407119544), LambdaTerm(_call=Call(abstraction, (Variable(4407117304), LambdaTerm(_call=Call(__call__, (LambdaTerm(_call=Call(from_variable, (Variable(4407119544),))), LambdaTerm(_call=Call(__call__, (LambdaTerm(_call=Call(from_variable, (Variable(4407119544),))), LambdaTerm(_call=Call(__call__, (LambdaTerm(_call=Call(from_variable, (Variable(4407119544),))), LambdaTerm(_call=Call(from_variable, (Variable(4407117304),))))))))))))))))))"
      ]
     },
     "execution_count": 36,
     "metadata": {},
     "output_type": "execute_result"
    }
   ],
   "source": [
    "church_numeral(3)"
   ]
  },
  {
   "cell_type": "markdown",
   "metadata": {},
   "source": [
    "Now let's add some replacements that from python integers to church numerals:"
   ]
  },
  {
   "cell_type": "code",
   "execution_count": 37,
   "metadata": {},
   "outputs": [],
   "source": [
    "to_church_replacements = metadsl.Replacements()\n",
    "\n",
    "@to_church_replacements.register(None)\n",
    "def int_to_abstraction(i: int):\n",
    "    return int_term(i), lambda: church_numeral(i)"
   ]
  },
  {
   "cell_type": "code",
   "execution_count": 38,
   "metadata": {},
   "outputs": [
    {
     "data": {
      "text/html": [
       "(λb.(λa.(b (b (b (b (b (b (b (b (b (b a)))))))))))) ⇒ (λb.(λa.(b (b (b (b (b (b (b (b (b (b a))))))))))))"
      ],
      "text/plain": [
       "LambdaTerm(_call=Call(abstraction, (Variable(4406154464), LambdaTerm(_call=Call(abstraction, (Variable(4406156032), LambdaTerm(_call=Call(__call__, (LambdaTerm(_call=Call(from_variable, (Variable(4406154464),))), LambdaTerm(_call=Call(__call__, (LambdaTerm(_call=Call(from_variable, (Variable(4406154464),))), LambdaTerm(_call=Call(__call__, (LambdaTerm(_call=Call(from_variable, (Variable(4406154464),))), LambdaTerm(_call=Call(__call__, (LambdaTerm(_call=Call(from_variable, (Variable(4406154464),))), LambdaTerm(_call=Call(__call__, (LambdaTerm(_call=Call(from_variable, (Variable(4406154464),))), LambdaTerm(_call=Call(__call__, (LambdaTerm(_call=Call(from_variable, (Variable(4406154464),))), LambdaTerm(_call=Call(__call__, (LambdaTerm(_call=Call(from_variable, (Variable(4406154464),))), LambdaTerm(_call=Call(__call__, (LambdaTerm(_call=Call(from_variable, (Variable(4406154464),))), LambdaTerm(_call=Call(__call__, (LambdaTerm(_call=Call(from_variable, (Variable(4406154464),))), LambdaTerm(_call=Call(__call__, (LambdaTerm(_call=Call(from_variable, (Variable(4406154464),))), LambdaTerm(_call=Call(from_variable, (Variable(4406156032),)))))))))))))))))))))))))))))))))))))))"
      ]
     },
     "execution_count": 38,
     "metadata": {},
     "output_type": "execute_result"
    }
   ],
   "source": [
    "to_church_replacements(int_term(10))"
   ]
  },
  {
   "cell_type": "markdown",
   "metadata": {},
   "source": [
    "### Math"
   ]
  },
  {
   "cell_type": "markdown",
   "metadata": {},
   "source": [
    "Add finally we can define math on these church numerals:"
   ]
  },
  {
   "cell_type": "code",
   "execution_count": 39,
   "metadata": {},
   "outputs": [],
   "source": [
    "@metadsl.call(lambda x, y: LambdaTerm)\n",
    "def add(x: LambdaTerm, y: LambdaTerm) -> LambdaTerm:\n",
    "    ...\n",
    "\n",
    "@metadsl.call(lambda x: LambdaTerm)\n",
    "def succ(x: LambdaTerm) -> LambdaTerm:\n",
    "    ...\n",
    "\n",
    "@metadsl.call(lambda x, y: LambdaTerm)\n",
    "def mult(x: LambdaTerm, y: LambdaTerm) -> LambdaTerm:\n",
    "    ...\n",
    "\n",
    "@metadsl.call(lambda x, y: LambdaTerm)\n",
    "def exp(x: LambdaTerm, y: LambdaTerm) -> LambdaTerm:\n",
    "    ..."
   ]
  },
  {
   "cell_type": "markdown",
   "metadata": {},
   "source": [
    "#### on Python Integers\n",
    "First, we can define how these functions behave on Python integers:"
   ]
  },
  {
   "cell_type": "code",
   "execution_count": 40,
   "metadata": {},
   "outputs": [],
   "source": [
    "int_math_replacements = metadsl.Replacements()\n",
    "\n",
    "@int_math_replacements.register(None, None)\n",
    "def _add_ints(x: int, y: int):\n",
    "    return add(int_term(x), int_term(y)), lambda: int_term(x + y)\n",
    "\n",
    "@int_math_replacements.register(None)\n",
    "def _succ_int(x: int):\n",
    "    return succ(int_term(x)), lambda: int_term(x + 1)\n",
    "\n",
    "@int_math_replacements.register(None, None)\n",
    "def _mult_int(x: int, y: int):\n",
    "    return mult(int_term(x), int_term(y)), lambda: int_term(x * y)\n",
    "\n",
    "\n",
    "@int_math_replacements.register(None, None)\n",
    "def _exp_int(x: int, y: int):\n",
    "    return exp(int_term(x), int_term(y)), lambda: int_term(x ** y)"
   ]
  },
  {
   "cell_type": "markdown",
   "metadata": {},
   "source": [
    "Now we can add these to our core replacements that we defined above and our executed during printing:"
   ]
  },
  {
   "cell_type": "code",
   "execution_count": 41,
   "metadata": {},
   "outputs": [],
   "source": [
    "core_replacements.register(int_math_replacements)"
   ]
  },
  {
   "cell_type": "code",
   "execution_count": 42,
   "metadata": {},
   "outputs": [
    {
     "data": {
      "text/html": [
       "unbox_str(LambdaTerm(_call=Call(add, (LambdaTerm(_call=Call(string_term, ('1',))), LambdaTerm(_call=Call(string_term, ('2',))))))) ⇒ 3"
      ],
      "text/plain": [
       "LambdaTerm(_call=Call(add, (LambdaTerm(_call=Call(int_term, (1,))), LambdaTerm(_call=Call(int_term, (2,))))))"
      ]
     },
     "execution_count": 42,
     "metadata": {},
     "output_type": "execute_result"
    }
   ],
   "source": [
    "add(int_term(1), int_term(2))"
   ]
  },
  {
   "cell_type": "markdown",
   "metadata": {},
   "source": [
    "Oh, we forgot to define the pretty printing version of these operations. Let's do that now as well:"
   ]
  },
  {
   "cell_type": "code",
   "execution_count": 43,
   "metadata": {},
   "outputs": [],
   "source": [
    "@pretty_print.register(None, None)\n",
    "def _add_str(x: str, y: str):\n",
    "    return add(string_term(x), string_term(y)), lambda: string_term(f\"{x} + {y}\")\n",
    "\n",
    "@pretty_print.register(None)\n",
    "def _succ_str(x: str):\n",
    "    return succ(string_term(x)), lambda: string_term(f\"succ({x})\")\n",
    "\n",
    "@pretty_print.register(None, None)\n",
    "def _mult_str(x: str, y: str):\n",
    "    return mult(string_term(x), string_term(y)), lambda: string_term(f\"{x} * {y}\")\n",
    "\n",
    "@pretty_print.register(None, None)\n",
    "def _exp_str(x: str, y: str):\n",
    "    return exp(string_term(x), string_term(y)), lambda: string_term(f\"{x}^{y}\")\n"
   ]
  },
  {
   "cell_type": "code",
   "execution_count": 44,
   "metadata": {},
   "outputs": [
    {
     "data": {
      "text/html": [
       "1 + 2 ⇒ 3"
      ],
      "text/plain": [
       "LambdaTerm(_call=Call(add, (LambdaTerm(_call=Call(int_term, (1,))), LambdaTerm(_call=Call(int_term, (2,))))))"
      ]
     },
     "execution_count": 44,
     "metadata": {},
     "output_type": "execute_result"
    }
   ],
   "source": [
    "add(int_term(1), int_term(2))"
   ]
  },
  {
   "cell_type": "markdown",
   "metadata": {},
   "source": [
    "Sweet!"
   ]
  },
  {
   "cell_type": "markdown",
   "metadata": {},
   "source": [
    "#### on Church numerals\n",
    "But what if we turn them into church numerals first?"
   ]
  },
  {
   "cell_type": "code",
   "execution_count": 45,
   "metadata": {},
   "outputs": [
    {
     "data": {
      "text/html": [
       "(λb.(λa.(b a))) + (λd.(λc.(d (d c)))) ⇒ (λb.(λa.(b a))) + (λd.(λc.(d (d c))))"
      ],
      "text/plain": [
       "LambdaTerm(_call=Call(add, (LambdaTerm(_call=Call(abstraction, (Variable(4406406392), LambdaTerm(_call=Call(abstraction, (Variable(4406407008), LambdaTerm(_call=Call(__call__, (LambdaTerm(_call=Call(from_variable, (Variable(4406406392),))), LambdaTerm(_call=Call(from_variable, (Variable(4406407008),)))))))))))), LambdaTerm(_call=Call(abstraction, (Variable(4406406448), LambdaTerm(_call=Call(abstraction, (Variable(4406406560), LambdaTerm(_call=Call(__call__, (LambdaTerm(_call=Call(from_variable, (Variable(4406406448),))), LambdaTerm(_call=Call(__call__, (LambdaTerm(_call=Call(from_variable, (Variable(4406406448),))), LambdaTerm(_call=Call(from_variable, (Variable(4406406560),))))))))))))))))))"
      ]
     },
     "execution_count": 45,
     "metadata": {},
     "output_type": "execute_result"
    }
   ],
   "source": [
    "to_church_replacements(add(int_term(1), int_term(2)))"
   ]
  },
  {
   "cell_type": "markdown",
   "metadata": {},
   "source": [
    "Well we don't know how to add those. First, let's define the operations as abstractions themselves (following wikipedia here on the naming):"
   ]
  },
  {
   "cell_type": "code",
   "execution_count": 73,
   "metadata": {},
   "outputs": [],
   "source": [
    "@create_abstraction\n",
    "def add_abstraction(m):\n",
    "    @create_abstraction\n",
    "    def inner(n):\n",
    "        @create_abstraction\n",
    "        def inner(f):\n",
    "            @create_abstraction\n",
    "            def inner(x):\n",
    "                return m(f)(n(f)(x))\n",
    "            return inner\n",
    "        return inner\n",
    "    return inner\n",
    "\n",
    "@create_abstraction\n",
    "def succ_abstraction(n):\n",
    "    @create_abstraction\n",
    "    def inner(f):\n",
    "        @create_abstraction\n",
    "        def inner(x):\n",
    "            return f(n(f)(x))\n",
    "        return inner\n",
    "    return inner\n",
    "\n",
    "@create_abstraction\n",
    "def mult_abstraction(m):\n",
    "    @create_abstraction\n",
    "    def inner(n):\n",
    "        @create_abstraction\n",
    "        def inner(f):\n",
    "            return m(n(f))\n",
    "        return inner\n",
    "    return inner\n",
    "\n",
    "@create_abstraction\n",
    "def exp_abstraction(m):\n",
    "    @create_abstraction\n",
    "    def inner(n):\n",
    "        return n(m)\n",
    "    return inner\n"
   ]
  },
  {
   "cell_type": "markdown",
   "metadata": {},
   "source": [
    "Is this right? Well let's try it out!"
   ]
  },
  {
   "cell_type": "code",
   "execution_count": 74,
   "metadata": {},
   "outputs": [
    {
     "data": {
      "text/html": [
       "(λb.(λa.a)) ⇒ (λb.(λa.a))"
      ],
      "text/plain": [
       "LambdaTerm(_call=Call(abstraction, (Variable(4403616960), LambdaTerm(_call=Call(abstraction, (Variable(4403617520), LambdaTerm(_call=Call(from_variable, (Variable(4403617520),)))))))))"
      ]
     },
     "execution_count": 74,
     "metadata": {},
     "output_type": "execute_result"
    }
   ],
   "source": [
    "zero = to_church_replacements(int_term(0))\n",
    "zero"
   ]
  },
  {
   "cell_type": "code",
   "execution_count": 75,
   "metadata": {},
   "outputs": [
    {
     "data": {
      "text/html": [
       "(((λd.(λc.(λb.(λa.((d b) ((c b) a)))))) (λf.(λe.e))) (λh.(λg.g))) ⇒ (λb.(λa.a))"
      ],
      "text/plain": [
       "LambdaTerm(_call=Call(__call__, (LambdaTerm(_call=Call(__call__, (LambdaTerm(_call=Call(abstraction, (Variable(4404698360), LambdaTerm(_call=Call(abstraction, (Variable(4404698192), LambdaTerm(_call=Call(abstraction, (Variable(4404698136), LambdaTerm(_call=Call(abstraction, (Variable(4404698640), LambdaTerm(_call=Call(__call__, (LambdaTerm(_call=Call(__call__, (LambdaTerm(_call=Call(from_variable, (Variable(4404698360),))), LambdaTerm(_call=Call(from_variable, (Variable(4404698136),)))))), LambdaTerm(_call=Call(__call__, (LambdaTerm(_call=Call(__call__, (LambdaTerm(_call=Call(from_variable, (Variable(4404698192),))), LambdaTerm(_call=Call(from_variable, (Variable(4404698136),)))))), LambdaTerm(_call=Call(from_variable, (Variable(4404698640),))))))))))))))))))))), LambdaTerm(_call=Call(abstraction, (Variable(4403616960), LambdaTerm(_call=Call(abstraction, (Variable(4403617520), LambdaTerm(_call=Call(from_variable, (Variable(4403617520),)))))))))))), LambdaTerm(_call=Call(abstraction, (Variable(4403616960), LambdaTerm(_call=Call(abstraction, (Variable(4403617520), LambdaTerm(_call=Call(from_variable, (Variable(4403617520),))))))))))))"
      ]
     },
     "execution_count": 75,
     "metadata": {},
     "output_type": "execute_result"
    }
   ],
   "source": [
    "add_abstraction(zero)(zero)"
   ]
  },
  {
   "cell_type": "code",
   "execution_count": 76,
   "metadata": {},
   "outputs": [
    {
     "data": {
      "text/html": [
       "(λb.(λa.a)) ⇒ (λb.(λa.a))"
      ],
      "text/plain": [
       "LambdaTerm(_call=Call(abstraction, (Variable(4403616960), LambdaTerm(_call=Call(abstraction, (Variable(4403617520), LambdaTerm(_call=Call(from_variable, (Variable(4403617520),)))))))))"
      ]
     },
     "execution_count": 76,
     "metadata": {},
     "output_type": "execute_result"
    }
   ],
   "source": [
    "zero"
   ]
  },
  {
   "cell_type": "markdown",
   "metadata": {},
   "source": [
    "Sweet! Those look same, that's good. "
   ]
  },
  {
   "cell_type": "markdown",
   "metadata": {},
   "source": [
    "And we should find that adding one is the same as the succesor functions..."
   ]
  },
  {
   "cell_type": "code",
   "execution_count": 82,
   "metadata": {},
   "outputs": [],
   "source": [
    "one = to_church_replacements(int_term(1))"
   ]
  },
  {
   "cell_type": "code",
   "execution_count": 83,
   "metadata": {},
   "outputs": [
    {
     "data": {
      "text/html": [
       "((λd.(λc.(λb.(λa.((d b) ((c b) a)))))) (λf.(λe.(f e)))) ⇒ (λc.(λb.(λa.(b ((c b) a)))))"
      ],
      "text/plain": [
       "LambdaTerm(_call=Call(__call__, (LambdaTerm(_call=Call(abstraction, (Variable(4404698360), LambdaTerm(_call=Call(abstraction, (Variable(4404698192), LambdaTerm(_call=Call(abstraction, (Variable(4404698136), LambdaTerm(_call=Call(abstraction, (Variable(4404698640), LambdaTerm(_call=Call(__call__, (LambdaTerm(_call=Call(__call__, (LambdaTerm(_call=Call(from_variable, (Variable(4404698360),))), LambdaTerm(_call=Call(from_variable, (Variable(4404698136),)))))), LambdaTerm(_call=Call(__call__, (LambdaTerm(_call=Call(__call__, (LambdaTerm(_call=Call(from_variable, (Variable(4404698192),))), LambdaTerm(_call=Call(from_variable, (Variable(4404698136),)))))), LambdaTerm(_call=Call(from_variable, (Variable(4404698640),))))))))))))))))))))), LambdaTerm(_call=Call(abstraction, (Variable(4403720880), LambdaTerm(_call=Call(abstraction, (Variable(4403720544), LambdaTerm(_call=Call(__call__, (LambdaTerm(_call=Call(from_variable, (Variable(4403720880),))), LambdaTerm(_call=Call(from_variable, (Variable(4403720544),)))))))))))))))"
      ]
     },
     "execution_count": 83,
     "metadata": {},
     "output_type": "execute_result"
    }
   ],
   "source": [
    "add_abstraction(one)"
   ]
  },
  {
   "cell_type": "code",
   "execution_count": 78,
   "metadata": {},
   "outputs": [
    {
     "data": {
      "text/html": [
       "(λc.(λb.(λa.(b ((c b) a))))) ⇒ (λc.(λb.(λa.(b ((c b) a)))))"
      ],
      "text/plain": [
       "LambdaTerm(_call=Call(abstraction, (Variable(4404697352), LambdaTerm(_call=Call(abstraction, (Variable(4404697464), LambdaTerm(_call=Call(abstraction, (Variable(4404658360), LambdaTerm(_call=Call(__call__, (LambdaTerm(_call=Call(from_variable, (Variable(4404697464),))), LambdaTerm(_call=Call(__call__, (LambdaTerm(_call=Call(__call__, (LambdaTerm(_call=Call(from_variable, (Variable(4404697352),))), LambdaTerm(_call=Call(from_variable, (Variable(4404697464),)))))), LambdaTerm(_call=Call(from_variable, (Variable(4404658360),))))))))))))))))))"
      ]
     },
     "execution_count": 78,
     "metadata": {},
     "output_type": "execute_result"
    }
   ],
   "source": [
    "succ_abstraction"
   ]
  },
  {
   "cell_type": "markdown",
   "metadata": {},
   "source": [
    "Those look the same! Nice!\n",
    "\n",
    "OK What about multiplying by zero, that should always return zero..."
   ]
  },
  {
   "cell_type": "code",
   "execution_count": 79,
   "metadata": {},
   "outputs": [
    {
     "data": {
      "text/html": [
       "(((λc.(λb.(λa.(c (b a))))) (λe.(λd.d))) doesnt matter) ⇒ (λa.(λd.d))"
      ],
      "text/plain": [
       "LambdaTerm(_call=Call(__call__, (LambdaTerm(_call=Call(__call__, (LambdaTerm(_call=Call(abstraction, (Variable(4404724904), LambdaTerm(_call=Call(abstraction, (Variable(4404724680), LambdaTerm(_call=Call(abstraction, (Variable(4404724568), LambdaTerm(_call=Call(__call__, (LambdaTerm(_call=Call(from_variable, (Variable(4404724904),))), LambdaTerm(_call=Call(__call__, (LambdaTerm(_call=Call(from_variable, (Variable(4404724680),))), LambdaTerm(_call=Call(from_variable, (Variable(4404724568),)))))))))))))))))), LambdaTerm(_call=Call(abstraction, (Variable(4403616960), LambdaTerm(_call=Call(abstraction, (Variable(4403617520), LambdaTerm(_call=Call(from_variable, (Variable(4403617520),)))))))))))), LambdaTerm(_call=Call(from_variable, (Variable(doesnt matter),))))))"
      ]
     },
     "execution_count": 79,
     "metadata": {},
     "output_type": "execute_result"
    }
   ],
   "source": [
    "mult_abstraction(zero)(from_variable(Variable(\"doesnt matter\")))"
   ]
  },
  {
   "cell_type": "markdown",
   "metadata": {},
   "source": [
    "Yep!"
   ]
  },
  {
   "cell_type": "markdown",
   "metadata": {},
   "source": [
    "It's kind cool how exponentiation is now so simple... Let's try raising something to the 1st power, this should give us back itself:"
   ]
  },
  {
   "cell_type": "code",
   "execution_count": 85,
   "metadata": {},
   "outputs": [
    {
     "data": {
      "text/html": [
       "(λb.(λa.(a b))) ⇒ (λb.(λa.(a b)))"
      ],
      "text/plain": [
       "LambdaTerm(_call=Call(abstraction, (Variable(4404724288), LambdaTerm(_call=Call(abstraction, (Variable(4404724960), LambdaTerm(_call=Call(__call__, (LambdaTerm(_call=Call(from_variable, (Variable(4404724960),))), LambdaTerm(_call=Call(from_variable, (Variable(4404724288),))))))))))))"
      ]
     },
     "execution_count": 85,
     "metadata": {},
     "output_type": "execute_result"
    }
   ],
   "source": [
    "exp_abstraction"
   ]
  },
  {
   "cell_type": "code",
   "execution_count": 86,
   "metadata": {},
   "outputs": [
    {
     "data": {
      "text/html": [
       "(((λb.(λa.(a b))) doesnt matter) (λd.(λc.(d c)))) ⇒ (λc.(doesnt matter c))"
      ],
      "text/plain": [
       "LambdaTerm(_call=Call(__call__, (LambdaTerm(_call=Call(__call__, (LambdaTerm(_call=Call(abstraction, (Variable(4404724288), LambdaTerm(_call=Call(abstraction, (Variable(4404724960), LambdaTerm(_call=Call(__call__, (LambdaTerm(_call=Call(from_variable, (Variable(4404724960),))), LambdaTerm(_call=Call(from_variable, (Variable(4404724288),)))))))))))), LambdaTerm(_call=Call(from_variable, (Variable(doesnt matter),)))))), LambdaTerm(_call=Call(abstraction, (Variable(4403720880), LambdaTerm(_call=Call(abstraction, (Variable(4403720544), LambdaTerm(_call=Call(__call__, (LambdaTerm(_call=Call(from_variable, (Variable(4403720880),))), LambdaTerm(_call=Call(from_variable, (Variable(4403720544),)))))))))))))))"
      ]
     },
     "execution_count": 86,
     "metadata": {},
     "output_type": "execute_result"
    }
   ],
   "source": [
    "exp_abstraction(from_variable(Variable(\"doesnt matter\")))(one)"
   ]
  },
  {
   "cell_type": "markdown",
   "metadata": {},
   "source": [
    "This is actually to the input, despite it different looking output. If we had implemented [Eta-conversion](https://en.wikipedia.org/wiki/Lambda_calculus#%CE%B7-conversion) this would reduce to \"doesn't matter\"."
   ]
  }
 ],
 "metadata": {
  "kernelspec": {
   "display_name": "Python 3",
   "language": "python",
   "name": "python3"
  },
  "language_info": {
   "codemirror_mode": {
    "name": "ipython",
    "version": 3
   },
   "file_extension": ".py",
   "mimetype": "text/x-python",
   "name": "python",
   "nbconvert_exporter": "python",
   "pygments_lexer": "ipython3",
   "version": "3.7.3"
  }
 },
 "nbformat": 4,
 "nbformat_minor": 2
}
