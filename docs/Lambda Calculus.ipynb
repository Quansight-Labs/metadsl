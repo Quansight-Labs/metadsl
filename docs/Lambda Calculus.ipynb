{
 "cells": [
  {
   "cell_type": "markdown",
   "metadata": {},
   "source": [
    "# Implementing an untyped Lambda Calculus\n",
    "\n",
    "\n",
    "To introduce `metadsl` we will show how to create a working version of the untyped lambda calculus.\n",
    "\n",
    "This will let us create the some basic combinators, verify that they before as expected under equiavelency.\n",
    "\n",
    "Then we can also create an implementation of arithmetic on natural numbers, using church encoding and show how to convert\n",
    "between these and Python's integers.\n"
   ]
  },
  {
   "cell_type": "markdown",
   "metadata": {},
   "source": [
    "## Terms\n",
    "The lambda calculus might sound abstract and odd, but if you know how to write functions in Python you already have mastered it!\n",
    "The idea is a very simple language that only has functions that take in one argument.\n",
    "Nothing, else, which seems a bit silly maybe, and it is not very useful by itself, but when it is integrated into a system with other data\n",
    "types, it becomes a useful so that we can represent functions.\n"
   ]
  },
  {
   "cell_type": "markdown",
   "metadata": {},
   "source": [
    "First, let's create a concept of a \"variable\" that can optionally have a name. It should only be equal to itself, so that we don't have to worry about shadowing variable names:"
   ]
  },
  {
   "cell_type": "code",
   "execution_count": 1,
   "metadata": {},
   "outputs": [],
   "source": [
    "import dataclasses\n",
    "import typing\n",
    "\n",
    "\n",
    "@dataclasses.dataclass(eq=False)\n",
    "class Variable:\n",
    "    name: typing.Optional[str] = None\n",
    "    \n",
    "    \n",
    "    def __str__(self):\n",
    "        return self.name or str(id(self))\n",
    "        \n",
    "    def __repr__(self):\n",
    "        return f\"Variable({str(self)})\"\n",
    "        \n",
    "x1 = Variable(\"x\")\n",
    "x2 = Variable(\"x\")\n",
    "\n",
    "assert x1 == x1\n",
    "assert x1 != x2\n",
    "assert hash(x1) != hash(x2)"
   ]
  },
  {
   "cell_type": "markdown",
   "metadata": {},
   "source": [
    "Now, let's build our one and only key abstraction, a lambda term.\n",
    "You should be able to call it and also create it by having a body and a variable. "
   ]
  },
  {
   "cell_type": "code",
   "execution_count": 2,
   "metadata": {},
   "outputs": [],
   "source": [
    "import metadsl\n",
    "\n",
    "\n",
    "class LambdaTerm(metadsl.Instance):\n",
    "    @metadsl.call(lambda self, arg: LambdaTerm)\n",
    "    def __call__(self, arg: \"LambdaTerm\") -> \"LambdaTerm\":\n",
    "        ...\n",
    "\n",
    "@metadsl.call(lambda variable, body: LambdaTerm)\n",
    "def abstraction(variable: Variable, body: LambdaTerm) -> LambdaTerm:\n",
    "    ...\n",
    "\n",
    "@metadsl.call(lambda variable: LambdaTerm)\n",
    "def from_variable(variable: Variable) -> LambdaTerm:\n",
    "    ...\n",
    "\n",
    "def create_abstraction(fn: typing.Callable[[LambdaTerm], LambdaTerm]) -> LambdaTerm:\n",
    "    arg = Variable()\n",
    "    return abstraction(arg, fn(from_variable(arg)))"
   ]
  },
  {
   "cell_type": "markdown",
   "metadata": {},
   "source": [
    "We can construct the identity function"
   ]
  },
  {
   "cell_type": "code",
   "execution_count": 3,
   "metadata": {},
   "outputs": [],
   "source": [
    "@create_abstraction\n",
    "def identity(x):\n",
    "    return x"
   ]
  },
  {
   "cell_type": "code",
   "execution_count": 4,
   "metadata": {},
   "outputs": [
    {
     "data": {
      "text/plain": [
       "LambdaTerm(__call__=Call(abstraction, (Variable(4515780088), LambdaTerm(__call__=Call(from_variable, (Variable(4515780088),))))))"
      ]
     },
     "execution_count": 4,
     "metadata": {},
     "output_type": "execute_result"
    }
   ],
   "source": [
    "identity"
   ]
  },
  {
   "cell_type": "markdown",
   "metadata": {},
   "source": [
    "and then call it on a term:"
   ]
  },
  {
   "cell_type": "code",
   "execution_count": 5,
   "metadata": {},
   "outputs": [
    {
     "data": {
      "text/plain": [
       "LambdaTerm(__call__=Call(__call__, (LambdaTerm(__call__=Call(abstraction, (Variable(4515780088), LambdaTerm(__call__=Call(from_variable, (Variable(4515780088),)))))), LambdaTerm(__call__=Call(from_variable, (Variable(y),))))))"
      ]
     },
     "execution_count": 5,
     "metadata": {},
     "output_type": "execute_result"
    }
   ],
   "source": [
    "y_term = from_variable(Variable(\"y\"))\n",
    "called_identity = identity(y_term)\n",
    "called_identity"
   ]
  },
  {
   "cell_type": "markdown",
   "metadata": {},
   "source": [
    "This is a bit of a verbose way to print these.\n",
    "\n",
    "Let's create a custom function that walks the tree and converts them to a string:"
   ]
  },
  {
   "cell_type": "code",
   "execution_count": 6,
   "metadata": {},
   "outputs": [],
   "source": [
    "pretty_print = metadsl.Replacements()\n",
    "\n",
    "\n",
    "@metadsl.call(lambda s: LambdaTerm)\n",
    "def string_term(s: str) -> LambdaTerm:\n",
    "    ...\n",
    "\n",
    "\n",
    "@pretty_print.register(None)\n",
    "def pp_variable(variable: Variable):\n",
    "    return (\n",
    "        from_variable(variable),\n",
    "        lambda: string_term(str(variable))\n",
    "    )\n",
    "\n",
    "@pretty_print.register(None, None)\n",
    "def pp_abstraction(variable: Variable, body: str):\n",
    "    return (\n",
    "        abstraction(variable, string_term(body)),\n",
    "        lambda: string_term(f\"(λ{variable}.{body})\")\n",
    "    )\n",
    "\n",
    "@pretty_print.register(None, None)\n",
    "def pp_application(fn: str, arg: str):\n",
    "    return (\n",
    "        string_term(fn)(string_term(arg)),\n",
    "        lambda: string_term(f\"({fn} {arg})\"),\n",
    "    )"
   ]
  },
  {
   "cell_type": "code",
   "execution_count": 7,
   "metadata": {},
   "outputs": [
    {
     "data": {
      "text/plain": [
       "LambdaTerm(__call__=Call(string_term, ('((λ4515780088.4515780088) y)',)))"
      ]
     },
     "execution_count": 7,
     "metadata": {},
     "output_type": "execute_result"
    }
   ],
   "source": [
    "pretty_print(called_identity)"
   ]
  },
  {
   "cell_type": "markdown",
   "metadata": {},
   "source": [
    "To make this useful, we need to define some semantics on these.\n",
    "\n",
    "What's a useful thing to do with the lambda calculus?\n",
    "\n",
    "Well it would be nice to actually be able to \"compute\" these values by replacing all instances of a variable with it's argument."
   ]
  },
  {
   "cell_type": "markdown",
   "metadata": {},
   "source": [
    "So let's replace all instances of calling a variable by replacing the arg inside of it:"
   ]
  },
  {
   "cell_type": "code",
   "execution_count": 16,
   "metadata": {},
   "outputs": [],
   "source": [
    "replace_beta_reduce = metadsl.Replacements()\n",
    "\n",
    "\n",
    "@replace_beta_reduce.register(None, LambdaTerm, LambdaTerm)\n",
    "def beta_reduce(var: Variable, body: LambdaTerm, arg: LambdaTerm):\n",
    "    # replaces all instances of var with arg \n",
    "    replacer = metadsl.expression_replacer(((from_variable(var), arg),))\n",
    "    \n",
    "    return (\n",
    "        abstraction(var, body)(arg),\n",
    "        lambda: replacer(body)\n",
    "    )"
   ]
  },
  {
   "cell_type": "markdown",
   "metadata": {},
   "source": [
    "Now let's combine these two, to execute them in sequence. First we want to beta reduce, until there is no more to beta reduce, then\n",
    "we wanna turn that into a pretty print representation:"
   ]
  },
  {
   "cell_type": "code",
   "execution_count": 19,
   "metadata": {},
   "outputs": [],
   "source": [
    "def execute(expr: LambdaTerm) -> str:\n",
    "    return pretty_print(replace_beta_reduce(expr))"
   ]
  },
  {
   "cell_type": "code",
   "execution_count": 20,
   "metadata": {},
   "outputs": [
    {
     "name": "stdout",
     "output_type": "stream",
     "text": [
      "LambdaTerm(__call__=Call(string_term, ('y',)))\n"
     ]
    }
   ],
   "source": [
    "print(execute(called_identity))"
   ]
  },
  {
   "cell_type": "markdown",
   "metadata": {},
   "source": [
    "This looks allright, but before we do anything serious, let's deal with the annoying issue of these variable names. They aren't much fun to read! Let's fix this by implementing [α-conversion](https://en.wikipedia.org/wiki/Lambda_calculus#%CE%B1-conversion). The basic idea is that given some lambda expression, we rename all the variables to make them standard. Let's create a bunch of global variables, and then create a function that will transform an expression into a normal form using them:"
   ]
  },
  {
   "cell_type": "code",
   "execution_count": 23,
   "metadata": {},
   "outputs": [],
   "source": [
    "GLOBAL_VARS = [Variable(chr(i)) for i in range(ord('a'), ord('a') + 100)]\n",
    "CURRENT_GLOBAL_VAR = 0"
   ]
  },
  {
   "cell_type": "code",
   "execution_count": 24,
   "metadata": {},
   "outputs": [
    {
     "data": {
      "text/plain": [
       "LambdaTerm(__call__=Call(from_variable, (Variable(a),)))"
      ]
     },
     "execution_count": 24,
     "metadata": {},
     "output_type": "execute_result"
    }
   ],
   "source": [
    "GLOBAL_VARS[0]"
   ]
  },
  {
   "cell_type": "markdown",
   "metadata": {},
   "source": [
    "The idea is that we will map each variable we find in the expression to one of the global variables:"
   ]
  },
  {
   "cell_type": "code",
   "execution_count": null,
   "metadata": {},
   "outputs": [],
   "source": [
    "alpha_convert_replacement = metadsl.Replacements()\n",
    "\n",
    "@alpha_convert_replacement.register(None, LambdaTerm)\n",
    "def alpha_convert(var: Variable, body: LambdaTerm):\n",
    "    def replace(var=var, body=body):\n",
    "        # we have already replaced this one\n",
    "        if var in GLOBAL_VARS:\n",
    "            return abstraction(var, body)\n",
    "\n",
    "        global CURRENT_GLOBAL_VAR\n",
    "\n",
    "        new_var = GLOBAL_VARS[CURRENT_GLOBAL_VAR]\n",
    "        CURRENT_GLOBAL_VAR += 1\n",
    "\n",
    "        metadsl.expression_replacer((\n",
    "            (from_variable(var), from_variable() ),\n",
    "        ))\n",
    "        replace_var = metadsl.replace_all(lambda: (LambdaTerm(var), (lambda: LambdaTerm(new_var))))\n",
    "        \n",
    "        return abstraction(new_var, replace_var(body)) \n",
    "    \n",
    "    return (\n",
    "        abstraction(var, body),\n",
    "        replace\n",
    "    )"
   ]
  },
  {
   "cell_type": "code",
   "execution_count": null,
   "metadata": {},
   "outputs": [],
   "source": [
    "identity"
   ]
  },
  {
   "cell_type": "code",
   "execution_count": null,
   "metadata": {},
   "outputs": [],
   "source": [
    "alpha_convert(identity)"
   ]
  },
  {
   "cell_type": "markdown",
   "metadata": {},
   "source": [
    "Now let's add this to our execution step:"
   ]
  },
  {
   "cell_type": "code",
   "execution_count": null,
   "metadata": {},
   "outputs": [],
   "source": [
    "def execute(expr: LambdaTerm) -> str:\n",
    "    global CURRENT_GLOBAL_VAR\n",
    "    CURRENT_GLOBAL_VAR = 0\n",
    "    return pretty_print(alpha_convert(beta_reduce(expr))).__value__"
   ]
  },
  {
   "cell_type": "code",
   "execution_count": null,
   "metadata": {},
   "outputs": [],
   "source": [
    "print(execute(identity(identity)))"
   ]
  },
  {
   "cell_type": "code",
   "execution_count": null,
   "metadata": {},
   "outputs": [],
   "source": []
  }
 ],
 "metadata": {
  "kernelspec": {
   "display_name": "Python 3",
   "language": "python",
   "name": "python3"
  },
  "language_info": {
   "codemirror_mode": {
    "name": "ipython",
    "version": 3
   },
   "file_extension": ".py",
   "mimetype": "text/x-python",
   "name": "python",
   "nbconvert_exporter": "python",
   "pygments_lexer": "ipython3",
   "version": "3.7.3"
  }
 },
 "nbformat": 4,
 "nbformat_minor": 2
}
