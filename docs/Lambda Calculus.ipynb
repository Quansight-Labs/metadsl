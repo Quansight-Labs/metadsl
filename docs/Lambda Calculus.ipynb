{
 "cells": [
  {
   "cell_type": "markdown",
   "metadata": {},
   "source": [
    "# Implementing an untyped Lambda Calculus\n",
    "\n",
    "\n",
    "To introduce `metadsl` we will show how to create a working version of the untyped lambda calculus.\n",
    "\n",
    "This will let us create the some basic combinators, verify that they before as expected under equiavelency.\n",
    "\n",
    "Then we can also create an implementation of arithmetic on natural numbers, using church encoding and show how to convert\n",
    "between these and Python's integers.\n"
   ]
  },
  {
   "cell_type": "markdown",
   "metadata": {},
   "source": [
    "## Terms\n",
    "The lambda calculus might sound abstract and odd, but if you know how to write functions in Python you already have mastered it!\n",
    "The idea is a very simple language that only has functions that take in one argument.\n",
    "Nothing, else, which seems a bit silly maybe, and it is not very useful by itself, but when it is integrated into a system with other data\n",
    "types, it becomes a useful so that we can represent functions.\n"
   ]
  },
  {
   "cell_type": "markdown",
   "metadata": {},
   "source": [
    "First, let's create a concept of a \"variable\" that can optionally have a name. It should only be equal to itself, so that we don't have to worry about shadowing variable names:"
   ]
  },
  {
   "cell_type": "code",
   "execution_count": 1,
   "metadata": {},
   "outputs": [],
   "source": [
    "import dataclasses\n",
    "import typing\n",
    "\n",
    "\n",
    "@dataclasses.dataclass(eq=False)\n",
    "class Variable:\n",
    "    name: typing.Optional[str] = None\n",
    "    \n",
    "    \n",
    "    def __str__(self):\n",
    "        return self.name or str(id(self))\n",
    "        \n",
    "    def __repr__(self):\n",
    "        return f\"Variable({str(self)})\"\n",
    "        \n",
    "x1 = Variable(\"x\")\n",
    "x2 = Variable(\"x\")\n",
    "\n",
    "assert x1 == x1\n",
    "assert x1 != x2\n",
    "assert hash(x1) != hash(x2)"
   ]
  },
  {
   "cell_type": "markdown",
   "metadata": {},
   "source": [
    "Now, let's build our one and only key abstraction, a lambda term.\n",
    "You should be able to call it and also create it by having a body and a variable. "
   ]
  },
  {
   "cell_type": "code",
   "execution_count": 2,
   "metadata": {},
   "outputs": [],
   "source": [
    "import metadsl\n",
    "\n",
    "\n",
    "class LambdaTerm(metadsl.Instance):\n",
    "    @metadsl.call(lambda self, arg: LambdaTerm)\n",
    "    def __call__(self, arg: \"LambdaTerm\") -> \"LambdaTerm\":\n",
    "        ...\n",
    "\n",
    "@metadsl.call(lambda variable, body: LambdaTerm)\n",
    "def abstraction(variable: Variable, body: LambdaTerm) -> LambdaTerm:\n",
    "    ...\n",
    "\n",
    "@metadsl.call(lambda variable: LambdaTerm)\n",
    "def from_variable(variable: Variable) -> LambdaTerm:\n",
    "    ...\n",
    "\n",
    "def create_abstraction(fn: typing.Callable[[LambdaTerm], LambdaTerm]) -> LambdaTerm:\n",
    "    arg = Variable()\n",
    "    return abstraction(arg, fn(from_variable(arg)))"
   ]
  },
  {
   "cell_type": "markdown",
   "metadata": {},
   "source": [
    "We can construct the identity function"
   ]
  },
  {
   "cell_type": "code",
   "execution_count": 3,
   "metadata": {},
   "outputs": [],
   "source": [
    "@create_abstraction\n",
    "def identity(x):\n",
    "    return x"
   ]
  },
  {
   "cell_type": "code",
   "execution_count": 4,
   "metadata": {},
   "outputs": [
    {
     "data": {
      "text/plain": [
       "LambdaTerm(_call=Call(abstraction, (Variable(4613453808), LambdaTerm(_call=Call(from_variable, (Variable(4613453808),))))))"
      ]
     },
     "execution_count": 4,
     "metadata": {},
     "output_type": "execute_result"
    }
   ],
   "source": [
    "identity"
   ]
  },
  {
   "cell_type": "markdown",
   "metadata": {},
   "source": [
    "and then call it on a term:"
   ]
  },
  {
   "cell_type": "code",
   "execution_count": 5,
   "metadata": {},
   "outputs": [
    {
     "data": {
      "text/plain": [
       "LambdaTerm(_call=Call(__call__, (LambdaTerm(_call=Call(abstraction, (Variable(4613453808), LambdaTerm(_call=Call(from_variable, (Variable(4613453808),)))))), LambdaTerm(_call=Call(from_variable, (Variable(y),))))))"
      ]
     },
     "execution_count": 5,
     "metadata": {},
     "output_type": "execute_result"
    }
   ],
   "source": [
    "y_term = from_variable(Variable(\"y\"))\n",
    "called_identity = identity(y_term)\n",
    "called_identity"
   ]
  },
  {
   "cell_type": "markdown",
   "metadata": {},
   "source": [
    "## Pretty Printing\n",
    "\n",
    "This is a bit of a verbose way to print these.\n",
    "\n",
    "Let's create a custom function that walks the tree and converts them to a string:"
   ]
  },
  {
   "cell_type": "code",
   "execution_count": 6,
   "metadata": {},
   "outputs": [],
   "source": [
    "pretty_print_rules = metadsl.RulesRepeatFold()\n",
    "\n",
    "\n",
    "@metadsl.call(lambda s: LambdaTerm)\n",
    "def string_term(s: str) -> LambdaTerm:\n",
    "    ...\n",
    "\n",
    "\n",
    "@pretty_print_rules.append\n",
    "@metadsl.rule(None)\n",
    "def pp_variable(variable: Variable):\n",
    "    return (\n",
    "        from_variable(variable),\n",
    "        lambda: string_term(str(variable))\n",
    "    )\n",
    "\n",
    "@pretty_print_rules.append\n",
    "@metadsl.rule(None, None)\n",
    "def pp_abstraction(variable: Variable, body: str):\n",
    "    return (\n",
    "        abstraction(variable, string_term(body)),\n",
    "        lambda: string_term(f\"(λ{variable}.{body})\")\n",
    "    )\n",
    "\n",
    "\n",
    "@pretty_print_rules.append\n",
    "@metadsl.rule(None, None)\n",
    "def pp_application(fn: str, arg: str):\n",
    "    return (\n",
    "        string_term(fn)(string_term(arg)),\n",
    "        lambda: string_term(f\"({fn} {arg})\"),\n",
    "    )\n",
    "\n",
    "@metadsl.call(lambda t: metadsl.RuleApplier(pretty_print_rules))\n",
    "def unbox_str(t: LambdaTerm) -> str:\n",
    "    ...\n",
    "\n",
    "\n",
    "@pretty_print_rules.append\n",
    "@metadsl.pure_rule(None)\n",
    "def pp_unbox(s: str):\n",
    "    return unbox_str(string_term(s)), s"
   ]
  },
  {
   "cell_type": "code",
   "execution_count": 7,
   "metadata": {},
   "outputs": [
    {
     "data": {
      "text/plain": [
       "'((λ4613453808.4613453808) y)'"
      ]
     },
     "execution_count": 7,
     "metadata": {},
     "output_type": "execute_result"
    }
   ],
   "source": [
    "unbox_str(called_identity)"
   ]
  },
  {
   "cell_type": "markdown",
   "metadata": {},
   "source": [
    "## Beta Reduction\n",
    "\n",
    "To make this useful, we need to define some semantics on these.\n",
    "\n",
    "What's a useful thing to do with the lambda calculus?\n",
    "\n",
    "Well it would be nice to actually be able to \"compute\" these values by replacing all instances of a variable with it's argument."
   ]
  },
  {
   "cell_type": "markdown",
   "metadata": {},
   "source": [
    "So let's replace all instances of calling a variable by replacing the arg inside of it:"
   ]
  },
  {
   "cell_type": "code",
   "execution_count": 14,
   "metadata": {},
   "outputs": [
    {
     "data": {
      "text/plain": [
       "LambdaTerm(_call=Call(from_variable, (Variable(y),)))"
      ]
     },
     "execution_count": 14,
     "metadata": {},
     "output_type": "execute_result"
    }
   ],
   "source": [
    "beta_reduce_rules = metadsl.RulesRepeatFold()\n",
    "beta_reduce_applier = metadsl.RuleApplier(beta_reduce_rules)\n",
    "\n",
    "@metadsl.call(lambda t: beta_reduce_applier)\n",
    "def beta_reduce(t: LambdaTerm) -> LambdaTerm:\n",
    "    ...\n",
    "\n",
    "@beta_reduce_rules.append\n",
    "@metadsl.pure_rule(LambdaTerm)\n",
    "def _remove_beta_reduce(t: LambdaTerm):\n",
    "    return beta_reduce(t), t\n",
    "    \n",
    "@beta_reduce_rules.append\n",
    "@metadsl.rule(None, LambdaTerm, LambdaTerm)\n",
    "def _beta_reduce(var: Variable, body: LambdaTerm, arg: LambdaTerm):\n",
    "    def replacement(var=var, body=body, arg=arg):\n",
    "        # replaces all instances of var with arg\n",
    "        replace_rules = metadsl.RulesRepeatFold(\n",
    "            metadsl.pure_rule()(lambda: (from_variable(var), arg))\n",
    "        )\n",
    "\n",
    "        return metadsl.RuleApplier(replace_rules)(body)\n",
    "\n",
    "    return (\n",
    "        abstraction(var, body)(arg),\n",
    "        replacement\n",
    "    )\n",
    "beta_reduce_applier(called_identity)"
   ]
  },
  {
   "cell_type": "markdown",
   "metadata": {},
   "source": [
    "Now let's combine these two, to execute them in sequence. First we want to beta reduce, until there is no more to beta reduce, then\n",
    "we wanna turn that into a pretty print representation:"
   ]
  },
  {
   "cell_type": "code",
   "execution_count": 17,
   "metadata": {},
   "outputs": [],
   "source": [
    "def execute(expr: LambdaTerm) -> str:\n",
    "    return unbox_str(beta_reduce(expr))"
   ]
  },
  {
   "cell_type": "code",
   "execution_count": 18,
   "metadata": {},
   "outputs": [
    {
     "name": "stdout",
     "output_type": "stream",
     "text": [
      "y\n"
     ]
    }
   ],
   "source": [
    "print(execute(called_identity))"
   ]
  },
  {
   "cell_type": "markdown",
   "metadata": {},
   "source": [
    "## Alpha Conversion\n",
    "\n",
    "This looks allright, but before we do anything serious, let's deal with the annoying issue of these variable names. They aren't much fun to read! Let's fix this by implementing [α-conversion](https://en.wikipedia.org/wiki/Lambda_calculus#%CE%B1-conversion). The basic idea is that given some lambda expression, we rename all the variables to make them standard. Let's create a bunch of global variables, and then create a function that will transform an expression into a normal form using them:"
   ]
  },
  {
   "cell_type": "code",
   "execution_count": 19,
   "metadata": {},
   "outputs": [],
   "source": [
    "GLOBAL_VARS = [Variable(chr(i)) for i in range(ord('a'), ord('a') + 100)]\n",
    "CURRENT_GLOBAL_VAR = 0"
   ]
  },
  {
   "cell_type": "code",
   "execution_count": 20,
   "metadata": {},
   "outputs": [
    {
     "data": {
      "text/plain": [
       "Variable(a)"
      ]
     },
     "execution_count": 20,
     "metadata": {},
     "output_type": "execute_result"
    }
   ],
   "source": [
    "GLOBAL_VARS[0]"
   ]
  },
  {
   "cell_type": "markdown",
   "metadata": {},
   "source": [
    "The idea is that we will map each variable we find in the expression to one of the global variables:"
   ]
  },
  {
   "cell_type": "code",
   "execution_count": 22,
   "metadata": {},
   "outputs": [],
   "source": [
    "alpha_convert_rules = metadsl.RulesRepeatFold()\n",
    "\n",
    "def execute_alpha_convert(x):\n",
    "    global CURRENT_GLOBAL_VAR\n",
    "    CURRENT_GLOBAL_VAR = 0\n",
    "    return metadsl.RuleApplier(alpha_convert_rules)(x)\n",
    "\n",
    "@metadsl.call(lambda t: execute_alpha_convert)\n",
    "def alpha_convert(t: LambdaTerm) -> LambdaTerm:\n",
    "    ...\n",
    "\n",
    "@alpha_convert_rules.append\n",
    "@metadsl.pure_rule(LambdaTerm)\n",
    "def _remove_alpha_convert(t: LambdaTerm):\n",
    "    return alpha_convert(t), t\n",
    "\n",
    "\n",
    "@alpha_convert_rules.append\n",
    "@metadsl.rule(None, LambdaTerm)\n",
    "def _alpha_convert(var: Variable, body: LambdaTerm):\n",
    "    def replace(var=var, body=body):\n",
    "        if var in GLOBAL_VARS: \n",
    "            return None\n",
    "        global CURRENT_GLOBAL_VAR\n",
    "\n",
    "        new_var = GLOBAL_VARS[CURRENT_GLOBAL_VAR]\n",
    "        CURRENT_GLOBAL_VAR += 1\n",
    "\n",
    "        replace_rules = metadsl.RulesRepeatFold(\n",
    "            metadsl.pure_rule()(lambda: (var, new_var))\n",
    "        )\n",
    " \n",
    "        res = abstraction(new_var, metadsl.RuleApplier(replace_rules)(body))\n",
    "        \n",
    "        # We have already replaced this if we got the same\n",
    "        if res == abstraction(var, body):\n",
    "            return None\n",
    "        return res\n",
    "    \n",
    "    return (\n",
    "        abstraction(var, body),\n",
    "        replace\n",
    "    )"
   ]
  },
  {
   "cell_type": "code",
   "execution_count": 23,
   "metadata": {},
   "outputs": [
    {
     "data": {
      "text/plain": [
       "LambdaTerm(_call=Call(abstraction, (Variable(4613453808), LambdaTerm(_call=Call(from_variable, (Variable(4613453808),))))))"
      ]
     },
     "execution_count": 23,
     "metadata": {},
     "output_type": "execute_result"
    }
   ],
   "source": [
    "identity"
   ]
  },
  {
   "cell_type": "code",
   "execution_count": 24,
   "metadata": {},
   "outputs": [
    {
     "data": {
      "text/plain": [
       "LambdaTerm(_call=Call(abstraction, (Variable(a), LambdaTerm(_call=Call(from_variable, (Variable(a),))))))"
      ]
     },
     "execution_count": 24,
     "metadata": {},
     "output_type": "execute_result"
    }
   ],
   "source": [
    "alpha_convert(identity)"
   ]
  },
  {
   "cell_type": "markdown",
   "metadata": {},
   "source": [
    "Now let's add this to our execution step, so that we print before and after beta reducing:"
   ]
  },
  {
   "cell_type": "code",
   "execution_count": 73,
   "metadata": {},
   "outputs": [],
   "source": [
    "core_replacements = metadsl.RulesRepeatSequence(beta_reduce_rules)\n",
    "core_applier = metadsl.RuleApplier(core_replacements)\n",
    "\n",
    "def execute(expr: LambdaTerm) -> str:\n",
    "    expr = alpha_convert(expr)\n",
    "    return f\"{unbox_str(expr)} ⇒ {unbox_str(alpha_convert(core_applier(expr)))}\"\n"
   ]
  },
  {
   "cell_type": "code",
   "execution_count": 74,
   "metadata": {},
   "outputs": [
    {
     "data": {
      "text/plain": [
       "'((λa.a) (λb.b)) ⇒ (λb.b)'"
      ]
     },
     "execution_count": 74,
     "metadata": {},
     "output_type": "execute_result"
    }
   ],
   "source": [
    "execute(identity(identity))"
   ]
  },
  {
   "cell_type": "markdown",
   "metadata": {},
   "source": [
    "Now we are finally getting somewhere!"
   ]
  },
  {
   "cell_type": "code",
   "execution_count": 75,
   "metadata": {},
   "outputs": [
    {
     "data": {
      "text/plain": [
       "'(((λa.a) (λb.b)) Input) ⇒ Input'"
      ]
     },
     "execution_count": 75,
     "metadata": {},
     "output_type": "execute_result"
    }
   ],
   "source": [
    "execute(identity(identity)(from_variable(Variable(\"Input\"))))"
   ]
  },
  {
   "cell_type": "markdown",
   "metadata": {},
   "source": [
    "Let's actually just set it to always pretty print this representation:"
   ]
  },
  {
   "cell_type": "code",
   "execution_count": 76,
   "metadata": {},
   "outputs": [
    {
     "data": {
      "text/plain": [
       "<function __main__.<lambda>(e, *args)>"
      ]
     },
     "execution_count": 76,
     "metadata": {},
     "output_type": "execute_result"
    }
   ],
   "source": [
    "text_formatter = get_ipython().display_formatter.formatters['text/html']\n",
    "text_formatter.for_type(LambdaTerm, lambda e, *args: execute(e))"
   ]
  },
  {
   "cell_type": "code",
   "execution_count": 77,
   "metadata": {},
   "outputs": [
    {
     "data": {
      "text/html": [
       "(λa.a) ⇒ (λa.a)"
      ],
      "text/plain": [
       "LambdaTerm(_call=Call(abstraction, (Variable(4613453808), LambdaTerm(_call=Call(from_variable, (Variable(4613453808),))))))"
      ]
     },
     "execution_count": 77,
     "metadata": {},
     "output_type": "execute_result"
    }
   ],
   "source": [
    "identity"
   ]
  },
  {
   "cell_type": "code",
   "execution_count": 78,
   "metadata": {},
   "outputs": [
    {
     "data": {
      "text/html": [
       "((λa.a) (λb.b)) ⇒ (λb.b)"
      ],
      "text/plain": [
       "LambdaTerm(_call=Call(__call__, (LambdaTerm(_call=Call(abstraction, (Variable(4613453808), LambdaTerm(_call=Call(from_variable, (Variable(4613453808),)))))), LambdaTerm(_call=Call(abstraction, (Variable(4613453808), LambdaTerm(_call=Call(from_variable, (Variable(4613453808),)))))))))"
      ]
     },
     "execution_count": 78,
     "metadata": {},
     "output_type": "execute_result"
    }
   ],
   "source": [
    "identity(identity)"
   ]
  },
  {
   "cell_type": "markdown",
   "metadata": {},
   "source": [
    "## Church Numerals\n",
    "\n",
    "Now that we have a working system, we can start to implement some more useful programming on top of it.\n",
    "\n",
    "One thing we can do is [represent natural numbers](https://en.wikipedia.org/wiki/Church_encoding#Church_numerals) with lambda expression and do math on them."
   ]
  },
  {
   "cell_type": "markdown",
   "metadata": {},
   "source": [
    "### Python Ints\n",
    "First, let's add the ability to embed Python's ints inside a function:"
   ]
  },
  {
   "cell_type": "code",
   "execution_count": 79,
   "metadata": {},
   "outputs": [],
   "source": [
    "@metadsl.call(lambda i: LambdaTerm)\n",
    "def int_term(i: int) -> LambdaTerm:\n",
    "    ..."
   ]
  },
  {
   "cell_type": "code",
   "execution_count": 80,
   "metadata": {},
   "outputs": [
    {
     "data": {
      "text/html": [
       "unbox_str(LambdaTerm(_call=Call(int_term, (123,)))) ⇒ unbox_str(LambdaTerm(_call=Call(int_term, (123,))))"
      ],
      "text/plain": [
       "LambdaTerm(_call=Call(int_term, (123,)))"
      ]
     },
     "execution_count": 80,
     "metadata": {},
     "output_type": "execute_result"
    }
   ],
   "source": [
    "int_term(123)"
   ]
  },
  {
   "cell_type": "markdown",
   "metadata": {},
   "source": [
    "Oops! We don't know how to turn a int represenation of a lambda term into a string, lets fix that:"
   ]
  },
  {
   "cell_type": "code",
   "execution_count": 81,
   "metadata": {},
   "outputs": [],
   "source": [
    "@pretty_print_rules.append\n",
    "@metadsl.rule(None)\n",
    "def int_to_str(i: int):\n",
    "    return int_term(i), lambda: string_term(str(i))"
   ]
  },
  {
   "cell_type": "code",
   "execution_count": 82,
   "metadata": {},
   "outputs": [
    {
     "data": {
      "text/html": [
       "((λa.a) 123) ⇒ 123"
      ],
      "text/plain": [
       "LambdaTerm(_call=Call(__call__, (LambdaTerm(_call=Call(abstraction, (Variable(4613453808), LambdaTerm(_call=Call(from_variable, (Variable(4613453808),)))))), LambdaTerm(_call=Call(int_term, (123,))))))"
      ]
     },
     "execution_count": 82,
     "metadata": {},
     "output_type": "execute_result"
    }
   ],
   "source": [
    "identity(int_term(123))"
   ]
  },
  {
   "cell_type": "markdown",
   "metadata": {},
   "source": [
    "### Church Numerals"
   ]
  },
  {
   "cell_type": "markdown",
   "metadata": {},
   "source": [
    "How do we create a church numeral? Well we have a function that calls itself $n$ times, to represent $n$:"
   ]
  },
  {
   "cell_type": "code",
   "execution_count": 83,
   "metadata": {},
   "outputs": [],
   "source": [
    "def church_numeral(n: int) -> LambdaTerm:\n",
    "    @create_abstraction\n",
    "    def outer(f):\n",
    "        \n",
    "        @create_abstraction\n",
    "        def inner(x):\n",
    "            for i in range(n):\n",
    "                x = f(x)\n",
    "            return x\n",
    "        return inner\n",
    "    return outer"
   ]
  },
  {
   "cell_type": "code",
   "execution_count": 84,
   "metadata": {},
   "outputs": [
    {
     "data": {
      "text/html": [
       "(λb.(λa.a)) ⇒ (λb.(λa.a))"
      ],
      "text/plain": [
       "LambdaTerm(_call=Call(abstraction, (Variable(4621969504), LambdaTerm(_call=Call(abstraction, (Variable(4621970848), LambdaTerm(_call=Call(from_variable, (Variable(4621970848),)))))))))"
      ]
     },
     "execution_count": 84,
     "metadata": {},
     "output_type": "execute_result"
    }
   ],
   "source": [
    "church_numeral(0)"
   ]
  },
  {
   "cell_type": "code",
   "execution_count": 85,
   "metadata": {},
   "outputs": [
    {
     "data": {
      "text/html": [
       "(λb.(λa.(b a))) ⇒ (λb.(λa.(b a)))"
      ],
      "text/plain": [
       "LambdaTerm(_call=Call(abstraction, (Variable(4621898136), LambdaTerm(_call=Call(abstraction, (Variable(4621943192), LambdaTerm(_call=Call(__call__, (LambdaTerm(_call=Call(from_variable, (Variable(4621898136),))), LambdaTerm(_call=Call(from_variable, (Variable(4621943192),))))))))))))"
      ]
     },
     "execution_count": 85,
     "metadata": {},
     "output_type": "execute_result"
    }
   ],
   "source": [
    "x = church_numeral(1)\n",
    "x"
   ]
  },
  {
   "cell_type": "code",
   "execution_count": 86,
   "metadata": {},
   "outputs": [
    {
     "data": {
      "text/html": [
       "(λb.(λa.(b (b a)))) ⇒ (λb.(λa.(b (b a))))"
      ],
      "text/plain": [
       "LambdaTerm(_call=Call(abstraction, (Variable(4620388728), LambdaTerm(_call=Call(abstraction, (Variable(4620390352), LambdaTerm(_call=Call(__call__, (LambdaTerm(_call=Call(from_variable, (Variable(4620388728),))), LambdaTerm(_call=Call(__call__, (LambdaTerm(_call=Call(from_variable, (Variable(4620388728),))), LambdaTerm(_call=Call(from_variable, (Variable(4620390352),)))))))))))))))"
      ]
     },
     "execution_count": 86,
     "metadata": {},
     "output_type": "execute_result"
    }
   ],
   "source": [
    "church_numeral(2)"
   ]
  },
  {
   "cell_type": "code",
   "execution_count": 87,
   "metadata": {},
   "outputs": [
    {
     "data": {
      "text/html": [
       "(λb.(λa.(b (b (b a))))) ⇒ (λb.(λa.(b (b (b a)))))"
      ],
      "text/plain": [
       "LambdaTerm(_call=Call(abstraction, (Variable(4623729552), LambdaTerm(_call=Call(abstraction, (Variable(4620276568), LambdaTerm(_call=Call(__call__, (LambdaTerm(_call=Call(from_variable, (Variable(4623729552),))), LambdaTerm(_call=Call(__call__, (LambdaTerm(_call=Call(from_variable, (Variable(4623729552),))), LambdaTerm(_call=Call(__call__, (LambdaTerm(_call=Call(from_variable, (Variable(4623729552),))), LambdaTerm(_call=Call(from_variable, (Variable(4620276568),))))))))))))))))))"
      ]
     },
     "execution_count": 87,
     "metadata": {},
     "output_type": "execute_result"
    }
   ],
   "source": [
    "church_numeral(3)"
   ]
  },
  {
   "cell_type": "markdown",
   "metadata": {},
   "source": [
    "Now let's add some replacements that from python integers to church numerals:"
   ]
  },
  {
   "cell_type": "code",
   "execution_count": 88,
   "metadata": {},
   "outputs": [],
   "source": [
    "to_church_rules = metadsl.RulesRepeatFold()\n",
    "apply_to_church = metadsl.RuleApplier(to_church_rules)\n",
    "\n",
    "@to_church_rules.append\n",
    "@metadsl.rule(None)\n",
    "def int_to_abstraction(i: int):\n",
    "    return int_term(i), lambda: church_numeral(i)"
   ]
  },
  {
   "cell_type": "code",
   "execution_count": 89,
   "metadata": {},
   "outputs": [
    {
     "data": {
      "text/html": [
       "(λb.(λa.(b (b (b (b (b (b (b (b (b (b a)))))))))))) ⇒ (λb.(λa.(b (b (b (b (b (b (b (b (b (b a))))))))))))"
      ],
      "text/plain": [
       "LambdaTerm(_call=Call(abstraction, (Variable(4621969952), LambdaTerm(_call=Call(abstraction, (Variable(4621875856), LambdaTerm(_call=Call(__call__, (LambdaTerm(_call=Call(from_variable, (Variable(4621969952),))), LambdaTerm(_call=Call(__call__, (LambdaTerm(_call=Call(from_variable, (Variable(4621969952),))), LambdaTerm(_call=Call(__call__, (LambdaTerm(_call=Call(from_variable, (Variable(4621969952),))), LambdaTerm(_call=Call(__call__, (LambdaTerm(_call=Call(from_variable, (Variable(4621969952),))), LambdaTerm(_call=Call(__call__, (LambdaTerm(_call=Call(from_variable, (Variable(4621969952),))), LambdaTerm(_call=Call(__call__, (LambdaTerm(_call=Call(from_variable, (Variable(4621969952),))), LambdaTerm(_call=Call(__call__, (LambdaTerm(_call=Call(from_variable, (Variable(4621969952),))), LambdaTerm(_call=Call(__call__, (LambdaTerm(_call=Call(from_variable, (Variable(4621969952),))), LambdaTerm(_call=Call(__call__, (LambdaTerm(_call=Call(from_variable, (Variable(4621969952),))), LambdaTerm(_call=Call(__call__, (LambdaTerm(_call=Call(from_variable, (Variable(4621969952),))), LambdaTerm(_call=Call(from_variable, (Variable(4621875856),)))))))))))))))))))))))))))))))))))))))"
      ]
     },
     "execution_count": 89,
     "metadata": {},
     "output_type": "execute_result"
    }
   ],
   "source": [
    "apply_to_church(int_term(10))"
   ]
  },
  {
   "cell_type": "markdown",
   "metadata": {},
   "source": [
    "### Math"
   ]
  },
  {
   "cell_type": "markdown",
   "metadata": {},
   "source": [
    "Add finally we can define math on these church numerals:"
   ]
  },
  {
   "cell_type": "code",
   "execution_count": 90,
   "metadata": {},
   "outputs": [],
   "source": [
    "@metadsl.call(lambda x, y: LambdaTerm)\n",
    "def add(x: LambdaTerm, y: LambdaTerm) -> LambdaTerm:\n",
    "    ...\n",
    "\n",
    "@metadsl.call(lambda x: LambdaTerm)\n",
    "def succ(x: LambdaTerm) -> LambdaTerm:\n",
    "    ...\n",
    "\n",
    "@metadsl.call(lambda x, y: LambdaTerm)\n",
    "def mult(x: LambdaTerm, y: LambdaTerm) -> LambdaTerm:\n",
    "    ...\n",
    "\n",
    "@metadsl.call(lambda x, y: LambdaTerm)\n",
    "def exp(x: LambdaTerm, y: LambdaTerm) -> LambdaTerm:\n",
    "    ..."
   ]
  },
  {
   "cell_type": "markdown",
   "metadata": {},
   "source": [
    "#### on Python Integers\n",
    "First, we can define how these functions behave on Python integers:"
   ]
  },
  {
   "cell_type": "code",
   "execution_count": 91,
   "metadata": {},
   "outputs": [],
   "source": [
    "int_math_rules = metadsl.RulesRepeatFold()\n",
    "apply_int_math = metadsl.RuleApplier(int_math_rules)\n",
    "\n",
    "\n",
    "@int_math_rules.append\n",
    "@metadsl.rule(None, None)\n",
    "def _add_ints(x: int, y: int):\n",
    "    return add(int_term(x), int_term(y)), lambda: int_term(x + y)\n",
    "\n",
    "@int_math_rules.append\n",
    "@metadsl.rule(None)\n",
    "def _succ_int(x: int):\n",
    "    return succ(int_term(x)), lambda: int_term(x + 1)\n",
    "\n",
    "@int_math_rules.append\n",
    "@metadsl.rule(None, None)\n",
    "def _mult_int(x: int, y: int):\n",
    "    return mult(int_term(x), int_term(y)), lambda: int_term(x * y)\n",
    "\n",
    "\n",
    "@int_math_rules.append\n",
    "@metadsl.rule(None, None)\n",
    "def _exp_int(x: int, y: int):\n",
    "    return exp(int_term(x), int_term(y)), lambda: int_term(x ** y)"
   ]
  },
  {
   "cell_type": "markdown",
   "metadata": {},
   "source": [
    "Now we can add these to our core replacements that we defined above and our executed during printing:"
   ]
  },
  {
   "cell_type": "code",
   "execution_count": 92,
   "metadata": {},
   "outputs": [
    {
     "data": {
      "text/plain": [
       "RulesRepeatFold(rules=(InferredMatchRule(arg_types=(None, None), match_function=<function _add_ints at 0x1136712f0>, match_rule=MatchRule(template=RecursiveCall(add, (RecursiveCall(int_term, (Wildcard(),)), RecursiveCall(int_term, (Wildcard(),)))), match=<bound method InferredMatchRule._match of ...>), arg_wildcards=(Wildcard(), Wildcard())), InferredMatchRule(arg_types=(None,), match_function=<function _succ_int at 0x113671378>, match_rule=MatchRule(template=RecursiveCall(succ, (RecursiveCall(int_term, (Wildcard(),)),)), match=<bound method InferredMatchRule._match of ...>), arg_wildcards=(Wildcard(),)), InferredMatchRule(arg_types=(None, None), match_function=<function _mult_int at 0x113671400>, match_rule=MatchRule(template=RecursiveCall(mult, (RecursiveCall(int_term, (Wildcard(),)), RecursiveCall(int_term, (Wildcard(),)))), match=<bound method InferredMatchRule._match of ...>), arg_wildcards=(Wildcard(), Wildcard())), InferredMatchRule(arg_types=(None, None), match_function=<function _exp_int at 0x113671488>, match_rule=MatchRule(template=RecursiveCall(exp, (RecursiveCall(int_term, (Wildcard(),)), RecursiveCall(int_term, (Wildcard(),)))), match=<bound method InferredMatchRule._match of ...>), arg_wildcards=(Wildcard(), Wildcard()))), _rule=RuleRepeat(rule=RuleFold(rule=RuleRepeat(rule=RuleSequence(rules=(InferredMatchRule(arg_types=(None, None), match_function=<function _add_ints at 0x1136712f0>, match_rule=MatchRule(template=RecursiveCall(add, (RecursiveCall(int_term, (Wildcard(),)), RecursiveCall(int_term, (Wildcard(),)))), match=<bound method InferredMatchRule._match of ...>), arg_wildcards=(Wildcard(), Wildcard())), InferredMatchRule(arg_types=(None,), match_function=<function _succ_int at 0x113671378>, match_rule=MatchRule(template=RecursiveCall(succ, (RecursiveCall(int_term, (Wildcard(),)),)), match=<bound method InferredMatchRule._match of ...>), arg_wildcards=(Wildcard(),)), InferredMatchRule(arg_types=(None, None), match_function=<function _mult_int at 0x113671400>, match_rule=MatchRule(template=RecursiveCall(mult, (RecursiveCall(int_term, (Wildcard(),)), RecursiveCall(int_term, (Wildcard(),)))), match=<bound method InferredMatchRule._match of ...>), arg_wildcards=(Wildcard(), Wildcard())), InferredMatchRule(arg_types=(None, None), match_function=<function _exp_int at 0x113671488>, match_rule=MatchRule(template=RecursiveCall(exp, (RecursiveCall(int_term, (Wildcard(),)), RecursiveCall(int_term, (Wildcard(),)))), match=<bound method InferredMatchRule._match of ...>), arg_wildcards=(Wildcard(), Wildcard()))))), folder=ExpressionFolder(value_fn=<bound method RuleFold._value_fn of ...>, call_fn=<bound method RuleFold._call_fn of ...>))))"
      ]
     },
     "execution_count": 92,
     "metadata": {},
     "output_type": "execute_result"
    }
   ],
   "source": [
    "core_replacements.append(int_math_rules)"
   ]
  },
  {
   "cell_type": "code",
   "execution_count": 93,
   "metadata": {},
   "outputs": [
    {
     "data": {
      "text/html": [
       "unbox_str(LambdaTerm(_call=Call(add, (LambdaTerm(_call=Call(string_term, ('1',))), LambdaTerm(_call=Call(string_term, ('2',))))))) ⇒ 3"
      ],
      "text/plain": [
       "LambdaTerm(_call=Call(add, (LambdaTerm(_call=Call(int_term, (1,))), LambdaTerm(_call=Call(int_term, (2,))))))"
      ]
     },
     "execution_count": 93,
     "metadata": {},
     "output_type": "execute_result"
    }
   ],
   "source": [
    "add(int_term(1), int_term(2))"
   ]
  },
  {
   "cell_type": "markdown",
   "metadata": {},
   "source": [
    "Oh, we forgot to define the pretty printing version of these operations. Let's do that now as well:"
   ]
  },
  {
   "cell_type": "code",
   "execution_count": 94,
   "metadata": {},
   "outputs": [],
   "source": [
    "@pretty_print_rules.append\n",
    "@metadsl.rule(None, None)\n",
    "def _add_str(x: str, y: str):\n",
    "    return add(string_term(x), string_term(y)), lambda: string_term(f\"{x} + {y}\")\n",
    "\n",
    "@pretty_print_rules.append\n",
    "@metadsl.rule(None)\n",
    "def _succ_str(x: str):\n",
    "    return succ(string_term(x)), lambda: string_term(f\"succ({x})\")\n",
    "\n",
    "@pretty_print_rules.append\n",
    "@metadsl.rule(None, None)\n",
    "def _mult_str(x: str, y: str):\n",
    "    return mult(string_term(x), string_term(y)), lambda: string_term(f\"{x} * {y}\")\n",
    "\n",
    "@pretty_print_rules.append\n",
    "@metadsl.rule(None, None)\n",
    "def _exp_str(x: str, y: str):\n",
    "    return exp(string_term(x), string_term(y)), lambda: string_term(f\"{x}^{y}\")\n"
   ]
  },
  {
   "cell_type": "code",
   "execution_count": 95,
   "metadata": {},
   "outputs": [
    {
     "data": {
      "text/html": [
       "1 + 2 ⇒ 3"
      ],
      "text/plain": [
       "LambdaTerm(_call=Call(add, (LambdaTerm(_call=Call(int_term, (1,))), LambdaTerm(_call=Call(int_term, (2,))))))"
      ]
     },
     "execution_count": 95,
     "metadata": {},
     "output_type": "execute_result"
    }
   ],
   "source": [
    "add(int_term(1), int_term(2))"
   ]
  },
  {
   "cell_type": "markdown",
   "metadata": {},
   "source": [
    "Sweet!"
   ]
  },
  {
   "cell_type": "markdown",
   "metadata": {},
   "source": [
    "#### on Church numerals\n",
    "But what if we turn them into church numerals first?"
   ]
  },
  {
   "cell_type": "code",
   "execution_count": 96,
   "metadata": {},
   "outputs": [
    {
     "data": {
      "text/html": [
       "(λb.(λa.(b a))) + (λd.(λc.(d (d c)))) ⇒ (λb.(λa.(b a))) + (λd.(λc.(d (d c))))"
      ],
      "text/plain": [
       "LambdaTerm(_call=Call(add, (LambdaTerm(_call=Call(abstraction, (Variable(4623825944), LambdaTerm(_call=Call(abstraction, (Variable(4623796208), LambdaTerm(_call=Call(__call__, (LambdaTerm(_call=Call(from_variable, (Variable(4623825944),))), LambdaTerm(_call=Call(from_variable, (Variable(4623796208),)))))))))))), LambdaTerm(_call=Call(abstraction, (Variable(4623794696), LambdaTerm(_call=Call(abstraction, (Variable(4623795760), LambdaTerm(_call=Call(__call__, (LambdaTerm(_call=Call(from_variable, (Variable(4623794696),))), LambdaTerm(_call=Call(__call__, (LambdaTerm(_call=Call(from_variable, (Variable(4623794696),))), LambdaTerm(_call=Call(from_variable, (Variable(4623795760),))))))))))))))))))"
      ]
     },
     "execution_count": 96,
     "metadata": {},
     "output_type": "execute_result"
    }
   ],
   "source": [
    "apply_to_church(add(int_term(1), int_term(2)))"
   ]
  },
  {
   "cell_type": "markdown",
   "metadata": {},
   "source": [
    "Well we don't know how to add those. First, let's define the operations as abstractions themselves (following wikipedia here on the naming):"
   ]
  },
  {
   "cell_type": "code",
   "execution_count": 97,
   "metadata": {},
   "outputs": [],
   "source": [
    "@create_abstraction\n",
    "def add_abstraction(m):\n",
    "    @create_abstraction\n",
    "    def inner(n):\n",
    "        @create_abstraction\n",
    "        def inner(f):\n",
    "            @create_abstraction\n",
    "            def inner(x):\n",
    "                return m(f)(n(f)(x))\n",
    "            return inner\n",
    "        return inner\n",
    "    return inner\n",
    "\n",
    "@create_abstraction\n",
    "def succ_abstraction(n):\n",
    "    @create_abstraction\n",
    "    def inner(f):\n",
    "        @create_abstraction\n",
    "        def inner(x):\n",
    "            return f(n(f)(x))\n",
    "        return inner\n",
    "    return inner\n",
    "\n",
    "@create_abstraction\n",
    "def mult_abstraction(m):\n",
    "    @create_abstraction\n",
    "    def inner(n):\n",
    "        @create_abstraction\n",
    "        def inner(f):\n",
    "            return m(n(f))\n",
    "        return inner\n",
    "    return inner\n",
    "\n",
    "@create_abstraction\n",
    "def exp_abstraction(m):\n",
    "    @create_abstraction\n",
    "    def inner(n):\n",
    "        return n(m)\n",
    "    return inner\n"
   ]
  },
  {
   "cell_type": "markdown",
   "metadata": {},
   "source": [
    "Is this right? Well let's try it out!"
   ]
  },
  {
   "cell_type": "code",
   "execution_count": 98,
   "metadata": {},
   "outputs": [
    {
     "data": {
      "text/html": [
       "(λb.(λa.a)) ⇒ (λb.(λa.a))"
      ],
      "text/plain": [
       "LambdaTerm(_call=Call(abstraction, (Variable(4613953408), LambdaTerm(_call=Call(abstraction, (Variable(4623689488), LambdaTerm(_call=Call(from_variable, (Variable(4623689488),)))))))))"
      ]
     },
     "execution_count": 98,
     "metadata": {},
     "output_type": "execute_result"
    }
   ],
   "source": [
    "zero = apply_to_church(int_term(0))\n",
    "zero"
   ]
  },
  {
   "cell_type": "code",
   "execution_count": 99,
   "metadata": {},
   "outputs": [
    {
     "data": {
      "text/html": [
       "(((λd.(λc.(λb.(λa.((d b) ((c b) a)))))) (λf.(λe.e))) (λh.(λg.g))) ⇒ (λb.(λa.a))"
      ],
      "text/plain": [
       "LambdaTerm(_call=Call(__call__, (LambdaTerm(_call=Call(__call__, (LambdaTerm(_call=Call(abstraction, (Variable(4620328184), LambdaTerm(_call=Call(abstraction, (Variable(4620326056), LambdaTerm(_call=Call(abstraction, (Variable(4620325944), LambdaTerm(_call=Call(abstraction, (Variable(4620325160), LambdaTerm(_call=Call(__call__, (LambdaTerm(_call=Call(__call__, (LambdaTerm(_call=Call(from_variable, (Variable(4620328184),))), LambdaTerm(_call=Call(from_variable, (Variable(4620325944),)))))), LambdaTerm(_call=Call(__call__, (LambdaTerm(_call=Call(__call__, (LambdaTerm(_call=Call(from_variable, (Variable(4620326056),))), LambdaTerm(_call=Call(from_variable, (Variable(4620325944),)))))), LambdaTerm(_call=Call(from_variable, (Variable(4620325160),))))))))))))))))))))), LambdaTerm(_call=Call(abstraction, (Variable(4613953408), LambdaTerm(_call=Call(abstraction, (Variable(4623689488), LambdaTerm(_call=Call(from_variable, (Variable(4623689488),)))))))))))), LambdaTerm(_call=Call(abstraction, (Variable(4613953408), LambdaTerm(_call=Call(abstraction, (Variable(4623689488), LambdaTerm(_call=Call(from_variable, (Variable(4623689488),))))))))))))"
      ]
     },
     "execution_count": 99,
     "metadata": {},
     "output_type": "execute_result"
    }
   ],
   "source": [
    "add_abstraction(zero)(zero)"
   ]
  },
  {
   "cell_type": "code",
   "execution_count": 100,
   "metadata": {},
   "outputs": [
    {
     "data": {
      "text/html": [
       "(λb.(λa.a)) ⇒ (λb.(λa.a))"
      ],
      "text/plain": [
       "LambdaTerm(_call=Call(abstraction, (Variable(4613953408), LambdaTerm(_call=Call(abstraction, (Variable(4623689488), LambdaTerm(_call=Call(from_variable, (Variable(4623689488),)))))))))"
      ]
     },
     "execution_count": 100,
     "metadata": {},
     "output_type": "execute_result"
    }
   ],
   "source": [
    "zero"
   ]
  },
  {
   "cell_type": "markdown",
   "metadata": {},
   "source": [
    "Sweet! Those look same, that's good. "
   ]
  },
  {
   "cell_type": "markdown",
   "metadata": {},
   "source": [
    "And we should find that adding one is the same as the succesor functions..."
   ]
  },
  {
   "cell_type": "code",
   "execution_count": 101,
   "metadata": {},
   "outputs": [],
   "source": [
    "one = apply_to_church(int_term(1))"
   ]
  },
  {
   "cell_type": "code",
   "execution_count": 102,
   "metadata": {},
   "outputs": [
    {
     "data": {
      "text/html": [
       "((λd.(λc.(λb.(λa.((d b) ((c b) a)))))) (λf.(λe.(f e)))) ⇒ (λc.(λb.(λa.(b ((c b) a)))))"
      ],
      "text/plain": [
       "LambdaTerm(_call=Call(__call__, (LambdaTerm(_call=Call(abstraction, (Variable(4620328184), LambdaTerm(_call=Call(abstraction, (Variable(4620326056), LambdaTerm(_call=Call(abstraction, (Variable(4620325944), LambdaTerm(_call=Call(abstraction, (Variable(4620325160), LambdaTerm(_call=Call(__call__, (LambdaTerm(_call=Call(__call__, (LambdaTerm(_call=Call(from_variable, (Variable(4620328184),))), LambdaTerm(_call=Call(from_variable, (Variable(4620325944),)))))), LambdaTerm(_call=Call(__call__, (LambdaTerm(_call=Call(__call__, (LambdaTerm(_call=Call(from_variable, (Variable(4620326056),))), LambdaTerm(_call=Call(from_variable, (Variable(4620325944),)))))), LambdaTerm(_call=Call(from_variable, (Variable(4620325160),))))))))))))))))))))), LambdaTerm(_call=Call(abstraction, (Variable(4620328576), LambdaTerm(_call=Call(abstraction, (Variable(4620326168), LambdaTerm(_call=Call(__call__, (LambdaTerm(_call=Call(from_variable, (Variable(4620328576),))), LambdaTerm(_call=Call(from_variable, (Variable(4620326168),)))))))))))))))"
      ]
     },
     "execution_count": 102,
     "metadata": {},
     "output_type": "execute_result"
    }
   ],
   "source": [
    "add_abstraction(one)"
   ]
  },
  {
   "cell_type": "code",
   "execution_count": 103,
   "metadata": {},
   "outputs": [
    {
     "data": {
      "text/html": [
       "(λc.(λb.(λa.(b ((c b) a))))) ⇒ (λc.(λb.(λa.(b ((c b) a)))))"
      ],
      "text/plain": [
       "LambdaTerm(_call=Call(abstraction, (Variable(4620327008), LambdaTerm(_call=Call(abstraction, (Variable(4620279200), LambdaTerm(_call=Call(abstraction, (Variable(4623795816), LambdaTerm(_call=Call(__call__, (LambdaTerm(_call=Call(from_variable, (Variable(4620279200),))), LambdaTerm(_call=Call(__call__, (LambdaTerm(_call=Call(__call__, (LambdaTerm(_call=Call(from_variable, (Variable(4620327008),))), LambdaTerm(_call=Call(from_variable, (Variable(4620279200),)))))), LambdaTerm(_call=Call(from_variable, (Variable(4623795816),))))))))))))))))))"
      ]
     },
     "execution_count": 103,
     "metadata": {},
     "output_type": "execute_result"
    }
   ],
   "source": [
    "succ_abstraction"
   ]
  },
  {
   "cell_type": "markdown",
   "metadata": {},
   "source": [
    "Those look the same! Nice!\n",
    "\n",
    "OK What about multiplying by zero, that should always return zero..."
   ]
  },
  {
   "cell_type": "code",
   "execution_count": 104,
   "metadata": {},
   "outputs": [
    {
     "data": {
      "text/html": [
       "(((λc.(λb.(λa.(c (b a))))) (λe.(λd.d))) doesnt matter) ⇒ (λa.(λd.d))"
      ],
      "text/plain": [
       "LambdaTerm(_call=Call(__call__, (LambdaTerm(_call=Call(__call__, (LambdaTerm(_call=Call(abstraction, (Variable(4620194368), LambdaTerm(_call=Call(abstraction, (Variable(4620194536), LambdaTerm(_call=Call(abstraction, (Variable(4623745992), LambdaTerm(_call=Call(__call__, (LambdaTerm(_call=Call(from_variable, (Variable(4620194368),))), LambdaTerm(_call=Call(__call__, (LambdaTerm(_call=Call(from_variable, (Variable(4620194536),))), LambdaTerm(_call=Call(from_variable, (Variable(4623745992),)))))))))))))))))), LambdaTerm(_call=Call(abstraction, (Variable(4613953408), LambdaTerm(_call=Call(abstraction, (Variable(4623689488), LambdaTerm(_call=Call(from_variable, (Variable(4623689488),)))))))))))), LambdaTerm(_call=Call(from_variable, (Variable(doesnt matter),))))))"
      ]
     },
     "execution_count": 104,
     "metadata": {},
     "output_type": "execute_result"
    }
   ],
   "source": [
    "mult_abstraction(zero)(from_variable(Variable(\"doesnt matter\")))"
   ]
  },
  {
   "cell_type": "markdown",
   "metadata": {},
   "source": [
    "Yep!"
   ]
  },
  {
   "cell_type": "markdown",
   "metadata": {},
   "source": [
    "It's kind cool how exponentiation is now so simple... Let's try raising something to the 1st power, this should give us back itself:"
   ]
  },
  {
   "cell_type": "code",
   "execution_count": 105,
   "metadata": {},
   "outputs": [
    {
     "data": {
      "text/html": [
       "(λb.(λa.(a b))) ⇒ (λb.(λa.(a b)))"
      ],
      "text/plain": [
       "LambdaTerm(_call=Call(abstraction, (Variable(4623747056), LambdaTerm(_call=Call(abstraction, (Variable(4621817952), LambdaTerm(_call=Call(__call__, (LambdaTerm(_call=Call(from_variable, (Variable(4621817952),))), LambdaTerm(_call=Call(from_variable, (Variable(4623747056),))))))))))))"
      ]
     },
     "execution_count": 105,
     "metadata": {},
     "output_type": "execute_result"
    }
   ],
   "source": [
    "exp_abstraction"
   ]
  },
  {
   "cell_type": "code",
   "execution_count": 106,
   "metadata": {},
   "outputs": [
    {
     "data": {
      "text/html": [
       "(((λb.(λa.(a b))) doesnt matter) (λd.(λc.(d c)))) ⇒ (λc.(doesnt matter c))"
      ],
      "text/plain": [
       "LambdaTerm(_call=Call(__call__, (LambdaTerm(_call=Call(__call__, (LambdaTerm(_call=Call(abstraction, (Variable(4623747056), LambdaTerm(_call=Call(abstraction, (Variable(4621817952), LambdaTerm(_call=Call(__call__, (LambdaTerm(_call=Call(from_variable, (Variable(4621817952),))), LambdaTerm(_call=Call(from_variable, (Variable(4623747056),)))))))))))), LambdaTerm(_call=Call(from_variable, (Variable(doesnt matter),)))))), LambdaTerm(_call=Call(abstraction, (Variable(4620328576), LambdaTerm(_call=Call(abstraction, (Variable(4620326168), LambdaTerm(_call=Call(__call__, (LambdaTerm(_call=Call(from_variable, (Variable(4620328576),))), LambdaTerm(_call=Call(from_variable, (Variable(4620326168),)))))))))))))))"
      ]
     },
     "execution_count": 106,
     "metadata": {},
     "output_type": "execute_result"
    }
   ],
   "source": [
    "exp_abstraction(from_variable(Variable(\"doesnt matter\")))(one)"
   ]
  },
  {
   "cell_type": "markdown",
   "metadata": {},
   "source": [
    "This is actually to the input, despite it different looking output. If we had implemented [Eta-conversion](https://en.wikipedia.org/wiki/Lambda_calculus#%CE%B7-conversion) this would reduce to \"doesn't matter\"."
   ]
  },
  {
   "cell_type": "markdown",
   "metadata": {},
   "source": [
    "Now we can map these to the operations we defined above:"
   ]
  },
  {
   "cell_type": "code",
   "execution_count": 107,
   "metadata": {},
   "outputs": [],
   "source": [
    "church_math_rules = metadsl.RulesRepeatFold()\n",
    "core_replacements.append(church_math_rules)\n",
    "\n",
    "@church_math_rules.append\n",
    "@metadsl.pure_rule(None, None)\n",
    "def _add(x: LambdaTerm, y: LambdaTerm):\n",
    "    return add(x, y), add_abstraction(x)(y)\n",
    "\n",
    "@church_math_rules.append\n",
    "@metadsl.pure_rule(None)\n",
    "def _succ(x: LambdaTerm):\n",
    "    return succ(x), succ(x)\n",
    "\n",
    "@church_math_rules.append\n",
    "@metadsl.pure_rule(None, None)\n",
    "def _mult(x: LambdaTerm, y: LambdaTerm):\n",
    "    return mult(x, y), mult_abstraction(x)(y)\n",
    "\n",
    "@church_math_rules.append\n",
    "@metadsl.pure_rule(None, None)\n",
    "def _mult(x: LambdaTerm, y: LambdaTerm):\n",
    "    return mult(x, y), mult_abstraction(x)(y)\n"
   ]
  },
  {
   "cell_type": "code",
   "execution_count": 108,
   "metadata": {},
   "outputs": [
    {
     "data": {
      "text/html": [
       "(λb.(λa.a)) + (λd.(λc.(d c))) ⇒ (λb.(λa.(b a)))"
      ],
      "text/plain": [
       "LambdaTerm(_call=Call(add, (LambdaTerm(_call=Call(abstraction, (Variable(4613953408), LambdaTerm(_call=Call(abstraction, (Variable(4623689488), LambdaTerm(_call=Call(from_variable, (Variable(4623689488),))))))))), LambdaTerm(_call=Call(abstraction, (Variable(4620328576), LambdaTerm(_call=Call(abstraction, (Variable(4620326168), LambdaTerm(_call=Call(__call__, (LambdaTerm(_call=Call(from_variable, (Variable(4620328576),))), LambdaTerm(_call=Call(from_variable, (Variable(4620326168),)))))))))))))))"
      ]
     },
     "execution_count": 108,
     "metadata": {},
     "output_type": "execute_result"
    }
   ],
   "source": [
    "add(zero, one)"
   ]
  },
  {
   "cell_type": "code",
   "execution_count": 109,
   "metadata": {},
   "outputs": [
    {
     "data": {
      "text/html": [
       "(λb.(λa.(b a))) ⇒ (λb.(λa.(b a)))"
      ],
      "text/plain": [
       "LambdaTerm(_call=Call(abstraction, (Variable(4620328576), LambdaTerm(_call=Call(abstraction, (Variable(4620326168), LambdaTerm(_call=Call(__call__, (LambdaTerm(_call=Call(from_variable, (Variable(4620328576),))), LambdaTerm(_call=Call(from_variable, (Variable(4620326168),))))))))))))"
      ]
     },
     "execution_count": 109,
     "metadata": {},
     "output_type": "execute_result"
    }
   ],
   "source": [
    "one"
   ]
  },
  {
   "cell_type": "code",
   "execution_count": 111,
   "metadata": {},
   "outputs": [
    {
     "data": {
      "text/html": [
       "10 + 5 ⇒ 15"
      ],
      "text/plain": [
       "LambdaTerm(_call=Call(add, (LambdaTerm(_call=Call(int_term, (10,))), LambdaTerm(_call=Call(int_term, (5,))))))"
      ]
     },
     "execution_count": 111,
     "metadata": {},
     "output_type": "execute_result"
    }
   ],
   "source": [
    "add(int_term(10), int_term(5))"
   ]
  },
  {
   "cell_type": "code",
   "execution_count": 113,
   "metadata": {},
   "outputs": [
    {
     "data": {
      "text/html": [
       "(λb.(λa.(b (b (b (b (b (b (b (b (b (b a)))))))))))) + (λd.(λc.(d (d (d (d (d c))))))) ⇒ (λb.(λa.(b (b (b (b (b (b (b (b (b (b (b (b (b (b (b a)))))))))))))))))"
      ],
      "text/plain": [
       "LambdaTerm(_call=Call(add, (LambdaTerm(_call=Call(abstraction, (Variable(4621875184), LambdaTerm(_call=Call(abstraction, (Variable(4621874400), LambdaTerm(_call=Call(__call__, (LambdaTerm(_call=Call(from_variable, (Variable(4621875184),))), LambdaTerm(_call=Call(__call__, (LambdaTerm(_call=Call(from_variable, (Variable(4621875184),))), LambdaTerm(_call=Call(__call__, (LambdaTerm(_call=Call(from_variable, (Variable(4621875184),))), LambdaTerm(_call=Call(__call__, (LambdaTerm(_call=Call(from_variable, (Variable(4621875184),))), LambdaTerm(_call=Call(__call__, (LambdaTerm(_call=Call(from_variable, (Variable(4621875184),))), LambdaTerm(_call=Call(__call__, (LambdaTerm(_call=Call(from_variable, (Variable(4621875184),))), LambdaTerm(_call=Call(__call__, (LambdaTerm(_call=Call(from_variable, (Variable(4621875184),))), LambdaTerm(_call=Call(__call__, (LambdaTerm(_call=Call(from_variable, (Variable(4621875184),))), LambdaTerm(_call=Call(__call__, (LambdaTerm(_call=Call(from_variable, (Variable(4621875184),))), LambdaTerm(_call=Call(__call__, (LambdaTerm(_call=Call(from_variable, (Variable(4621875184),))), LambdaTerm(_call=Call(from_variable, (Variable(4621874400),))))))))))))))))))))))))))))))))))))))), LambdaTerm(_call=Call(abstraction, (Variable(4621877144), LambdaTerm(_call=Call(abstraction, (Variable(4621874904), LambdaTerm(_call=Call(__call__, (LambdaTerm(_call=Call(from_variable, (Variable(4621877144),))), LambdaTerm(_call=Call(__call__, (LambdaTerm(_call=Call(from_variable, (Variable(4621877144),))), LambdaTerm(_call=Call(__call__, (LambdaTerm(_call=Call(from_variable, (Variable(4621877144),))), LambdaTerm(_call=Call(__call__, (LambdaTerm(_call=Call(from_variable, (Variable(4621877144),))), LambdaTerm(_call=Call(__call__, (LambdaTerm(_call=Call(from_variable, (Variable(4621877144),))), LambdaTerm(_call=Call(from_variable, (Variable(4621874904),)))))))))))))))))))))))))))"
      ]
     },
     "execution_count": 113,
     "metadata": {},
     "output_type": "execute_result"
    }
   ],
   "source": [
    "apply_to_church(add(int_term(10), int_term(5)))"
   ]
  },
  {
   "cell_type": "markdown",
   "metadata": {},
   "source": [
    "So now we have developed al little lambda calculus calculator. We can define custom pipelines now, reausing all of this work, to apply the steps in any order we would like.\n",
    "\n",
    "And if we have users, they can right functions with the functions, and not worry how they are compiled. For example, I could write a function like this:"
   ]
  },
  {
   "cell_type": "code",
   "execution_count": 114,
   "metadata": {},
   "outputs": [],
   "source": [
    "def my_special_math(x, y, z):\n",
    "    return mult(add(x, y), z)"
   ]
  },
  {
   "cell_type": "markdown",
   "metadata": {},
   "source": [
    "And the function is totally seperate from what we call it with, or how it ends up being compiled:"
   ]
  },
  {
   "cell_type": "code",
   "execution_count": 115,
   "metadata": {},
   "outputs": [
    {
     "data": {
      "text/html": [
       "10 + 10 * 10 ⇒ 200"
      ],
      "text/plain": [
       "LambdaTerm(_call=Call(mult, (LambdaTerm(_call=Call(add, (LambdaTerm(_call=Call(int_term, (10,))), LambdaTerm(_call=Call(int_term, (10,)))))), LambdaTerm(_call=Call(int_term, (10,))))))"
      ]
     },
     "execution_count": 115,
     "metadata": {},
     "output_type": "execute_result"
    }
   ],
   "source": [
    "my_special_math(int_term(10), int_term(10), int_term(10))"
   ]
  },
  {
   "cell_type": "code",
   "execution_count": 116,
   "metadata": {},
   "outputs": [
    {
     "data": {
      "text/html": [
       "(λb.(λa.a)) + (λd.(λc.(d c))) * (λf.(λe.(f e))) ⇒ (λb.(λa.(b a)))"
      ],
      "text/plain": [
       "LambdaTerm(_call=Call(mult, (LambdaTerm(_call=Call(add, (LambdaTerm(_call=Call(abstraction, (Variable(4613953408), LambdaTerm(_call=Call(abstraction, (Variable(4623689488), LambdaTerm(_call=Call(from_variable, (Variable(4623689488),))))))))), LambdaTerm(_call=Call(abstraction, (Variable(4620328576), LambdaTerm(_call=Call(abstraction, (Variable(4620326168), LambdaTerm(_call=Call(__call__, (LambdaTerm(_call=Call(from_variable, (Variable(4620328576),))), LambdaTerm(_call=Call(from_variable, (Variable(4620326168),))))))))))))))), LambdaTerm(_call=Call(abstraction, (Variable(4620328576), LambdaTerm(_call=Call(abstraction, (Variable(4620326168), LambdaTerm(_call=Call(__call__, (LambdaTerm(_call=Call(from_variable, (Variable(4620328576),))), LambdaTerm(_call=Call(from_variable, (Variable(4620326168),)))))))))))))))"
      ]
     },
     "execution_count": 116,
     "metadata": {},
     "output_type": "execute_result"
    }
   ],
   "source": [
    "my_special_math(zero, one, one)"
   ]
  },
  {
   "cell_type": "code",
   "execution_count": 118,
   "metadata": {},
   "outputs": [
    {
     "data": {
      "text/html": [
       "(λb.(λa.a)) + (λd.(λc.(d (d (d (d (d (d (d (d (d (d c)))))))))))) * (λf.(λe.(f (f (f (f (f (f (f (f (f (f e)))))))))))) ⇒ (λb.(λa.(b (b (b (b (b (b (b (b (b (b (b (b (b (b (b (b (b (b (b (b (b (b (b (b (b (b (b (b (b (b (b (b (b (b (b (b (b (b (b (b (b (b (b (b (b (b (b (b (b (b (b (b (b (b (b (b (b (b (b (b (b (b (b (b (b (b (b (b (b (b (b (b (b (b (b (b (b (b (b (b (b (b (b (b (b (b (b (b (b (b (b (b (b (b (b (b (b (b (b (b a))))))))))))))))))))))))))))))))))))))))))))))))))))))))))))))))))))))))))))))))))))))))))))))))))))))"
      ],
      "text/plain": [
       "LambdaTerm(_call=Call(mult, (LambdaTerm(_call=Call(add, (LambdaTerm(_call=Call(abstraction, (Variable(4613953408), LambdaTerm(_call=Call(abstraction, (Variable(4623689488), LambdaTerm(_call=Call(from_variable, (Variable(4623689488),))))))))), LambdaTerm(_call=Call(abstraction, (Variable(4619274112), LambdaTerm(_call=Call(abstraction, (Variable(4619274000), LambdaTerm(_call=Call(__call__, (LambdaTerm(_call=Call(from_variable, (Variable(4619274112),))), LambdaTerm(_call=Call(__call__, (LambdaTerm(_call=Call(from_variable, (Variable(4619274112),))), LambdaTerm(_call=Call(__call__, (LambdaTerm(_call=Call(from_variable, (Variable(4619274112),))), LambdaTerm(_call=Call(__call__, (LambdaTerm(_call=Call(from_variable, (Variable(4619274112),))), LambdaTerm(_call=Call(__call__, (LambdaTerm(_call=Call(from_variable, (Variable(4619274112),))), LambdaTerm(_call=Call(__call__, (LambdaTerm(_call=Call(from_variable, (Variable(4619274112),))), LambdaTerm(_call=Call(__call__, (LambdaTerm(_call=Call(from_variable, (Variable(4619274112),))), LambdaTerm(_call=Call(__call__, (LambdaTerm(_call=Call(from_variable, (Variable(4619274112),))), LambdaTerm(_call=Call(__call__, (LambdaTerm(_call=Call(from_variable, (Variable(4619274112),))), LambdaTerm(_call=Call(__call__, (LambdaTerm(_call=Call(from_variable, (Variable(4619274112),))), LambdaTerm(_call=Call(from_variable, (Variable(4619274000),)))))))))))))))))))))))))))))))))))))))))), LambdaTerm(_call=Call(abstraction, (Variable(4624030688), LambdaTerm(_call=Call(abstraction, (Variable(4624031192), LambdaTerm(_call=Call(__call__, (LambdaTerm(_call=Call(from_variable, (Variable(4624030688),))), LambdaTerm(_call=Call(__call__, (LambdaTerm(_call=Call(from_variable, (Variable(4624030688),))), LambdaTerm(_call=Call(__call__, (LambdaTerm(_call=Call(from_variable, (Variable(4624030688),))), LambdaTerm(_call=Call(__call__, (LambdaTerm(_call=Call(from_variable, (Variable(4624030688),))), LambdaTerm(_call=Call(__call__, (LambdaTerm(_call=Call(from_variable, (Variable(4624030688),))), LambdaTerm(_call=Call(__call__, (LambdaTerm(_call=Call(from_variable, (Variable(4624030688),))), LambdaTerm(_call=Call(__call__, (LambdaTerm(_call=Call(from_variable, (Variable(4624030688),))), LambdaTerm(_call=Call(__call__, (LambdaTerm(_call=Call(from_variable, (Variable(4624030688),))), LambdaTerm(_call=Call(__call__, (LambdaTerm(_call=Call(from_variable, (Variable(4624030688),))), LambdaTerm(_call=Call(__call__, (LambdaTerm(_call=Call(from_variable, (Variable(4624030688),))), LambdaTerm(_call=Call(from_variable, (Variable(4624031192),))))))))))))))))))))))))))))))))))))))))))"
      ]
     },
     "execution_count": 118,
     "metadata": {},
     "output_type": "execute_result"
    }
   ],
   "source": [
    "apply_to_church(my_special_math(zero, int_term(10), int_term(10)))"
   ]
  },
  {
   "cell_type": "markdown",
   "metadata": {},
   "source": [
    "For another tutorial, it would be useful to show how this compares to a *typed* lambda calculus. That would let us deal with functions over multiple data types, so we know if operations like addition even make sense."
   ]
  }
 ],
 "metadata": {
  "kernelspec": {
   "display_name": "Python 3",
   "language": "python",
   "name": "python3"
  },
  "language_info": {
   "codemirror_mode": {
    "name": "ipython",
    "version": 3
   },
   "file_extension": ".py",
   "mimetype": "text/x-python",
   "name": "python",
   "nbconvert_exporter": "python",
   "pygments_lexer": "ipython3",
   "version": "3.7.3"
  }
 },
 "nbformat": 4,
 "nbformat_minor": 2
}
