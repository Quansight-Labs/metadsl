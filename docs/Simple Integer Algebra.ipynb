{
 "cells": [
  {
   "cell_type": "markdown",
   "metadata": {},
   "source": [
    "# Simple Integer Algebra"
   ]
  },
  {
   "cell_type": "code",
   "execution_count": 1,
   "metadata": {},
   "outputs": [],
   "source": [
    "import metadsl"
   ]
  },
  {
   "cell_type": "code",
   "execution_count": 2,
   "metadata": {},
   "outputs": [],
   "source": [
    "class Integer(metadsl.Instance):\n",
    "    @metadsl.call(lambda self, other: Integer)\n",
    "    def __add__(self, other: \"Integer\") -> \"Integer\":\n",
    "        ...\n",
    "    \n",
    "    @metadsl.call(lambda self, other: Integer)\n",
    "    def __mul__(self, other):\n",
    "        ...\n",
    "\n",
    "@metadsl.call(lambda x: Integer)\n",
    "def from_int(x: int) -> Integer:\n",
    "    ..."
   ]
  },
  {
   "cell_type": "code",
   "execution_count": 3,
   "metadata": {},
   "outputs": [
    {
     "data": {
      "text/plain": [
       "RecursiveCall(__add__, (RecursiveCall(from_int, (1,)), RecursiveCall(from_int, (1,))))"
      ]
     },
     "execution_count": 3,
     "metadata": {},
     "output_type": "execute_result"
    }
   ],
   "source": [
    "metadsl.to_expression(from_int(1) +  from_int(1))"
   ]
  },
  {
   "cell_type": "code",
   "execution_count": 4,
   "metadata": {},
   "outputs": [
    {
     "data": {
      "text/plain": [
       "Integer(__call__=Call(__add__, (Integer(__call__=Call(from_int, (1,))), Integer(__call__=Call(from_int, (2,))))))"
      ]
     },
     "execution_count": 4,
     "metadata": {},
     "output_type": "execute_result"
    }
   ],
   "source": [
    "x = from_int(1) + from_int(2)\n",
    "x"
   ]
  },
  {
   "cell_type": "code",
   "execution_count": 11,
   "metadata": {},
   "outputs": [],
   "source": [
    "default_replacements = metadsl.Replacements()\n",
    "\n",
    "@default_replacements.register(Integer)\n",
    "def add_zero(x: Integer):\n",
    "    return x + from_int(0), lambda: x\n",
    "\n",
    "@default_replacements.register(Integer)\n",
    "def mult_one(x: Integer):\n",
    "    return x * from_int(1), lambda: x\n"
   ]
  },
  {
   "cell_type": "code",
   "execution_count": 12,
   "metadata": {},
   "outputs": [],
   "source": [
    "int_replacements = metadsl.Replacements()\n",
    "replacements = metadsl.ReplacementsSequence(default_replacements, int_replacements)\n",
    "\n",
    "@int_replacements.register(None, None)\n",
    "def add(x: int, y: int):\n",
    "    return from_int(x) + from_int(y), lambda: from_int(x + y)\n",
    "\n",
    "@int_replacements.register(None, None)\n",
    "def mult(x: int, y: int):\n",
    "    return from_int(x) * from_int(y), lambda: from_int(x * y)\n",
    "\n",
    "\n",
    "\n",
    "@metadsl.call(lambda x: replacements)\n",
    "def to_int(x: Integer) -> int:\n",
    "    ...\n",
    "\n",
    "\n",
    "@int_replacements.register_pure(None)\n",
    "def _to_int(x: int):\n",
    "    return to_int(from_int(x)), x"
   ]
  },
  {
   "cell_type": "code",
   "execution_count": 13,
   "metadata": {},
   "outputs": [
    {
     "data": {
      "text/plain": [
       "100"
      ]
     },
     "execution_count": 13,
     "metadata": {},
     "output_type": "execute_result"
    }
   ],
   "source": [
    "to_int(from_int(1) * from_int(100))"
   ]
  },
  {
   "cell_type": "markdown",
   "metadata": {},
   "source": [
    "We see that the simplification rules take place here:"
   ]
  },
  {
   "cell_type": "code",
   "execution_count": 14,
   "metadata": {},
   "outputs": [
    {
     "data": {
      "text/plain": [
       "'WRONG'"
      ]
     },
     "execution_count": 14,
     "metadata": {},
     "output_type": "execute_result"
    }
   ],
   "source": [
    "to_int(from_int(\"WRONG\") + from_int(0))"
   ]
  }
 ],
 "metadata": {
  "kernelspec": {
   "display_name": "Python 3",
   "language": "python",
   "name": "python3"
  },
  "language_info": {
   "codemirror_mode": {
    "name": "ipython",
    "version": 3
   },
   "file_extension": ".py",
   "mimetype": "text/x-python",
   "name": "python",
   "nbconvert_exporter": "python",
   "pygments_lexer": "ipython3",
   "version": "3.7.3"
  }
 },
 "nbformat": 4,
 "nbformat_minor": 2
}
