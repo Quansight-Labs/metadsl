{
 "cells": [
  {
   "cell_type": "markdown",
   "metadata": {},
   "source": [
    "# Implementing an untyped Lambda Calculus\n",
    "\n",
    "\n",
    "To introduce `metadsl` we will show how to create a working version of the untyped lambda calculus.\n",
    "\n",
    "This will let us create the some basic combinators, verify that they before as expected under equiavelency.\n",
    "\n",
    "Then we can also create an implementation of arithmetic on natural numbers, using church encoding and show how to convert\n",
    "between these and Python's integers.\n"
   ]
  },
  {
   "cell_type": "markdown",
   "metadata": {},
   "source": [
    "## Terms\n",
    "The lambda calculus might sound abstract and odd, but if you know how to write functions in Python you already have mastered it!\n",
    "The idea is a very simple language that only has functions that take in one argument.\n",
    "Nothing, else, which seems a bit silly maybe, and it is not very useful by itself, but when it is integrated into a system with other data\n",
    "types, it becomes a useful so that we can represent functions.\n"
   ]
  },
  {
   "cell_type": "markdown",
   "metadata": {},
   "source": [
    "First, let's create a concept of a \"variable\" that can optionally have a name. It should only be equal to itself, so that we don't have to worry about shadowing variable names:"
   ]
  },
  {
   "cell_type": "code",
   "execution_count": 1,
   "metadata": {},
   "outputs": [],
   "source": [
    "import dataclasses\n",
    "import typing\n",
    "\n",
    "\n",
    "@dataclasses.dataclass(eq=False)\n",
    "class Variable:\n",
    "    name: typing.Optional[str] = None\n",
    "    \n",
    "    def __repr__(self):\n",
    "        return self.name or f\"@{id(self)}\"\n",
    "        \n",
    "x1 = Variable(\"x\")\n",
    "x2 = Variable(\"x\")\n",
    "\n",
    "assert x1 == x1\n",
    "assert x1 != x2\n",
    "assert hash(x1) != hash(x2)"
   ]
  },
  {
   "cell_type": "markdown",
   "metadata": {},
   "source": [
    "Now, let's build our one and only key abstraction, a lambda term.\n",
    "You should be able to call it and also create it by having a body and a variable. "
   ]
  },
  {
   "cell_type": "code",
   "execution_count": 2,
   "metadata": {},
   "outputs": [],
   "source": [
    "import metadsl\n",
    "\n",
    "\n",
    "class LambdaTerm(metadsl.Instance):\n",
    "    @metadsl.call(lambda self, arg: metadsl.instance_type(LambdaTerm))\n",
    "    def __call__(self, arg: \"LambdaTerm\") -> \"LambdaTerm\":\n",
    "        ...\n",
    "\n",
    "@metadsl.call(lambda variable, body: metadsl.instance_type(LambdaTerm))\n",
    "def abstraction(variable: Variable, body: LambdaTerm) -> LambdaTerm:\n",
    "    ...\n",
    "\n",
    "def create_abstraction(fn: typing.Callable[[LambdaTerm], LambdaTerm]) -> LambdaTerm:\n",
    "    arg = Variable()\n",
    "    return abstraction(arg, fn(LambdaTerm(arg)))"
   ]
  },
  {
   "cell_type": "markdown",
   "metadata": {},
   "source": [
    "We can construct the identity function"
   ]
  },
  {
   "cell_type": "code",
   "execution_count": 3,
   "metadata": {},
   "outputs": [],
   "source": [
    "@create_abstraction\n",
    "def identity(x):\n",
    "    return x"
   ]
  },
  {
   "cell_type": "code",
   "execution_count": 4,
   "metadata": {},
   "outputs": [
    {
     "data": {
      "text/plain": [
       "LambdaTerm(abstraction(@4531825072, LambdaTerm(@4531825072)))"
      ]
     },
     "execution_count": 4,
     "metadata": {},
     "output_type": "execute_result"
    }
   ],
   "source": [
    "identity"
   ]
  },
  {
   "cell_type": "markdown",
   "metadata": {},
   "source": [
    "and then call it on a term:"
   ]
  },
  {
   "cell_type": "code",
   "execution_count": 5,
   "metadata": {},
   "outputs": [
    {
     "data": {
      "text/plain": [
       "LambdaTerm(__call__(LambdaTerm(abstraction(@4531825072, LambdaTerm(@4531825072))), LambdaTerm(y)))"
      ]
     },
     "execution_count": 5,
     "metadata": {},
     "output_type": "execute_result"
    }
   ],
   "source": [
    "y_term = LambdaTerm(Variable(\"y\"))\n",
    "called_identity = identity(y_term)\n",
    "called_identity"
   ]
  },
  {
   "cell_type": "markdown",
   "metadata": {},
   "source": [
    "This is a bit of a verbose way to print these.\n",
    "\n",
    "Let's create a custom function that walks the tree and converts them to a string:"
   ]
  },
  {
   "cell_type": "code",
   "execution_count": 6,
   "metadata": {},
   "outputs": [],
   "source": [
    "def pp_variable(variable: object):\n",
    "    return (\n",
    "        LambdaTerm(variable),\n",
    "        lambda: LambdaTerm(str(variable)) if isinstance(variable, Variable) else None\n",
    "    )\n",
    "\n",
    "def pp_abstraction(variable: Variable, body: object):\n",
    "    return (\n",
    "        abstraction(variable, LambdaTerm(body)),\n",
    "        lambda: LambdaTerm(f\"(λ{variable}.{body})\") if isinstance(body, str) else None,\n",
    "    )\n",
    "\n",
    "def pp_application(fn: object, arg: object):\n",
    "    return (\n",
    "        LambdaTerm(fn)(LambdaTerm(arg)),\n",
    "        lambda: LambdaTerm(f\"({fn} {arg})\") if isinstance(fn, str) and isinstance(arg, str) else None,\n",
    "    )\n",
    "\n",
    "pretty_print = metadsl.replace_all(pp_variable, pp_abstraction, pp_application)"
   ]
  },
  {
   "cell_type": "code",
   "execution_count": 7,
   "metadata": {},
   "outputs": [
    {
     "data": {
      "text/plain": [
       "LambdaTerm(__call__(LambdaTerm(abstraction(@4531825072, LambdaTerm(@4531825072))), LambdaTerm(y)))"
      ]
     },
     "execution_count": 7,
     "metadata": {},
     "output_type": "execute_result"
    }
   ],
   "source": [
    "called_identity"
   ]
  },
  {
   "cell_type": "code",
   "execution_count": 8,
   "metadata": {},
   "outputs": [
    {
     "data": {
      "text/plain": [
       "Expression(type=LambdaTerm, value=__call__(Expression(type=LambdaTerm, value=abstraction(@4531825072, Expression(type=LambdaTerm, value=@4531825072))), Expression(type=LambdaTerm, value=y)))"
      ]
     },
     "execution_count": 8,
     "metadata": {},
     "output_type": "execute_result"
    }
   ],
   "source": [
    "metadsl.Expression.from_instance(called_identity)"
   ]
  },
  {
   "cell_type": "code",
   "execution_count": 9,
   "metadata": {},
   "outputs": [
    {
     "data": {
      "text/plain": [
       "LambdaTerm('((λ@4531825072.@4531825072) y)')"
      ]
     },
     "execution_count": 9,
     "metadata": {},
     "output_type": "execute_result"
    }
   ],
   "source": [
    "pretty_print(called_identity)"
   ]
  },
  {
   "cell_type": "markdown",
   "metadata": {},
   "source": [
    "To make this useful, we need to define some semantics on these.\n",
    "\n",
    "What's a useful thing to do with the lambda calculus?\n",
    "\n",
    "Well it would be nice to actually be able to \"compute\" these values by replacing all instances of a variable with it's argument."
   ]
  },
  {
   "cell_type": "markdown",
   "metadata": {},
   "source": [
    "So let's replace all instances of calling a variable by reaplacing the arg inside of it:"
   ]
  },
  {
   "cell_type": "code",
   "execution_count": 10,
   "metadata": {},
   "outputs": [],
   "source": [
    "@metadsl.replace_all\n",
    "def beta_reduce(var: Variable, body: LambdaTerm, arg: LambdaTerm):\n",
    "    # replaces all instances of var with arg \n",
    "    replace_var = metadsl.replace_all(lambda: (LambdaTerm(var), (lambda: arg)))\n",
    "    \n",
    "    return (\n",
    "        abstraction(var, body)(arg),\n",
    "        lambda: replace_var(body)\n",
    "    )"
   ]
  },
  {
   "cell_type": "markdown",
   "metadata": {},
   "source": [
    "Now let's combine these two, to execute them in sequence. First we want to beta reduce, until there is no more to beta reduce, then\n",
    "we wanna turn that into a pretty print representation:"
   ]
  },
  {
   "cell_type": "code",
   "execution_count": 11,
   "metadata": {},
   "outputs": [],
   "source": [
    "def execute(expr: LambdaTerm) -> str:\n",
    "    return pretty_print(beta_reduce(expr)).__value__"
   ]
  },
  {
   "cell_type": "code",
   "execution_count": 12,
   "metadata": {},
   "outputs": [
    {
     "name": "stdout",
     "output_type": "stream",
     "text": [
      "y\n"
     ]
    }
   ],
   "source": [
    "print(execute(called_identity))"
   ]
  }
 ],
 "metadata": {
  "kernelspec": {
   "display_name": "Python 3",
   "language": "python",
   "name": "python3"
  },
  "language_info": {
   "codemirror_mode": {
    "name": "ipython",
    "version": 3
   },
   "file_extension": ".py",
   "mimetype": "text/x-python",
   "name": "python",
   "nbconvert_exporter": "python",
   "pygments_lexer": "ipython3",
   "version": "3.7.3"
  }
 },
 "nbformat": 4,
 "nbformat_minor": 2
}
