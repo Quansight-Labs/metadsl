{
 "cells": [
  {
   "cell_type": "markdown",
   "metadata": {},
   "source": [
    "# `uarray` NumPy Compatability"
   ]
  },
  {
   "cell_type": "code",
   "execution_count": 1,
   "metadata": {},
   "outputs": [],
   "source": [
    "from uarray import *\n",
    "import numpy as np\n",
    "from numba import njit"
   ]
  },
  {
   "cell_type": "markdown",
   "metadata": {},
   "source": [
    "## Original Expression"
   ]
  },
  {
   "cell_type": "markdown",
   "metadata": {},
   "source": [
    "Let's look at this simple NumPy expression of calling the outer production of two values and then indexing it:"
   ]
  },
  {
   "cell_type": "code",
   "execution_count": 2,
   "metadata": {},
   "outputs": [],
   "source": [
    "def some_fn(a, b):\n",
    "    return np.multiply.outer(a, b)[5]"
   ]
  },
  {
   "cell_type": "markdown",
   "metadata": {},
   "source": [
    "We can see that this does a lot of extra work, since we discard most of the results of the outer product after indexing. We can look at the time:"
   ]
  },
  {
   "cell_type": "code",
   "execution_count": 3,
   "metadata": {},
   "outputs": [],
   "source": [
    "args = [np.arange(1000), np.arange(10)]"
   ]
  },
  {
   "cell_type": "code",
   "execution_count": 4,
   "metadata": {},
   "outputs": [
    {
     "name": "stdout",
     "output_type": "stream",
     "text": [
      "24.6 µs ± 142 ns per loop (mean ± std. dev. of 7 runs, 10000 loops each)\n"
     ]
    }
   ],
   "source": [
    "# NBVAL_IGNORE_OUTPUT\n",
    "%timeit some_fn(*args)"
   ]
  },
  {
   "cell_type": "markdown",
   "metadata": {},
   "source": [
    "## Uarray reduced"
   ]
  },
  {
   "cell_type": "markdown",
   "metadata": {},
   "source": [
    "Now let's use uarray's `optimize` decorator to create an updated function that specifes the dimensionality of the arrays to produced an optimized form:"
   ]
  },
  {
   "cell_type": "code",
   "execution_count": 5,
   "metadata": {},
   "outputs": [],
   "source": [
    "# enable_logging()"
   ]
  },
  {
   "cell_type": "code",
   "execution_count": 6,
   "metadata": {},
   "outputs": [],
   "source": [
    "optimized_some_fn = optimize(args[0].shape, args[1].shape)(some_fn)"
   ]
  },
  {
   "cell_type": "markdown",
   "metadata": {},
   "source": [
    "Now let's try our function out to see if it's faster:"
   ]
  },
  {
   "cell_type": "code",
   "execution_count": 7,
   "metadata": {},
   "outputs": [
    {
     "name": "stdout",
     "output_type": "stream",
     "text": [
      "5.63 µs ± 57.4 ns per loop (mean ± std. dev. of 7 runs, 100000 loops each)\n"
     ]
    }
   ],
   "source": [
    "# NBVAL_IGNORE_OUTPUT\n",
    "%timeit optimized_some_fn(*args)"
   ]
  },
  {
   "cell_type": "markdown",
   "metadata": {},
   "source": [
    "Yep about 10x as fast. Let's look at how this is done! First, we create an abstract representation of the array operations:"
   ]
  },
  {
   "cell_type": "code",
   "execution_count": 8,
   "metadata": {},
   "outputs": [
    {
     "data": {
      "text/plain": [
       "Index(\n",
       "    Sequence(Int(1), Vector(Scalar(Int(5)))),\n",
       "    OuterProduct(\n",
       "        BinaryUfunc(np.ufunc(multiply)),\n",
       "        Sequence(\n",
       "            Int(1000),\n",
       "            UnaryFunction(\n",
       "                Scalar(\n",
       "                    Content(CallUnary(GetItem(NPArray(Expression(Name(\"a\", Load())))), Unbound(variable_name=\"i2\")))\n",
       "                ),\n",
       "                Unbound(variable_name=\"i2\"),\n",
       "            ),\n",
       "        ),\n",
       "        Sequence(\n",
       "            Int(10),\n",
       "            UnaryFunction(\n",
       "                Scalar(\n",
       "                    Content(CallUnary(GetItem(NPArray(Expression(Name(\"b\", Load())))), Unbound(variable_name=\"i3\")))\n",
       "                ),\n",
       "                Unbound(variable_name=\"i3\"),\n",
       "            ),\n",
       "        ),\n",
       "    ),\n",
       ")\n"
      ]
     },
     "execution_count": 8,
     "metadata": {},
     "output_type": "execute_result"
    }
   ],
   "source": [
    "optimized_some_fn.__optimize_steps__['resulting_expr']"
   ]
  },
  {
   "cell_type": "markdown",
   "metadata": {},
   "source": [
    "Then, we compile that to Python AST:"
   ]
  },
  {
   "cell_type": "code",
   "execution_count": 9,
   "metadata": {},
   "outputs": [
    {
     "name": "stdout",
     "output_type": "stream",
     "text": [
      "\n",
      "\n",
      "def fn(a, b):\n",
      "    i_5 = ()\n",
      "    i_6 = 10\n",
      "    i_1 = ((i_6,) + i_5)\n",
      "    i_0 = np.empty(i_1)\n",
      "    i_2 = 10\n",
      "    for i_3 in range(i_2):\n",
      "        i_4 = i_0[i_3]\n",
      "        i_9 = 5\n",
      "        i_10 = a\n",
      "        i_13 = i_10[i_9]\n",
      "        i_11 = i_3\n",
      "        i_12 = b\n",
      "        i_14 = i_12[i_11]\n",
      "        i_4 = (i_13 * i_14)\n",
      "        i_0[i_3] = i_4\n",
      "    return i_0\n",
      "\n"
     ]
    }
   ],
   "source": [
    "print(optimized_some_fn.__optimize_steps__['ast_as_source'])"
   ]
  },
  {
   "cell_type": "markdown",
   "metadata": {},
   "source": [
    "## Numba optimized"
   ]
  },
  {
   "cell_type": "markdown",
   "metadata": {},
   "source": [
    "To give this an extra speed boost, we can compile the returned expression with Numba:"
   ]
  },
  {
   "cell_type": "code",
   "execution_count": 10,
   "metadata": {},
   "outputs": [],
   "source": [
    "numba_optimized = njit(optimized_some_fn)"
   ]
  },
  {
   "cell_type": "code",
   "execution_count": 11,
   "metadata": {},
   "outputs": [
    {
     "name": "stdout",
     "output_type": "stream",
     "text": [
      "809 ns ± 19.8 ns per loop (mean ± std. dev. of 7 runs, 1000000 loops each)\n"
     ]
    }
   ],
   "source": [
    "# NBVAL_IGNORE_OUTPUT\n",
    "# run once first to compile\n",
    "numba_optimized(*args)\n",
    "                \n",
    "%timeit numba_optimized(*args)"
   ]
  },
  {
   "cell_type": "markdown",
   "metadata": {},
   "source": [
    "Great, another speedup!"
   ]
  },
  {
   "cell_type": "markdown",
   "metadata": {},
   "source": [
    "## Unkown dimensionality?"
   ]
  },
  {
   "cell_type": "markdown",
   "metadata": {},
   "source": [
    "What if we want to produce a version of the function that works on any dimensional input? Or if we just want to actually defer to NumPy's implementation and not replace `outer`? We simply omit the `with_dim` methods and we get back an abstract representation that is compiled without any knowledge of the dimensionality:"
   ]
  },
  {
   "cell_type": "code",
   "execution_count": 12,
   "metadata": {},
   "outputs": [],
   "source": [
    "dims_not_known = optimize(some_fn)"
   ]
  },
  {
   "cell_type": "code",
   "execution_count": 13,
   "metadata": {},
   "outputs": [
    {
     "data": {
      "text/plain": [
       "Index(\n",
       "    Sequence(Int(1), Vector(Scalar(Int(5)))),\n",
       "    OuterProduct(\n",
       "        BinaryUfunc(np.ufunc(multiply)), NPArray(Expression(Name(\"a\", Load()))), NPArray(Expression(Name(\"b\", Load())))\n",
       "    ),\n",
       ")\n"
      ]
     },
     "execution_count": 13,
     "metadata": {},
     "output_type": "execute_result"
    }
   ],
   "source": [
    "dims_not_known.__optimize_steps__['resulting_expr']"
   ]
  },
  {
   "cell_type": "code",
   "execution_count": 14,
   "metadata": {},
   "outputs": [
    {
     "name": "stdout",
     "output_type": "stream",
     "text": [
      "\n",
      "\n",
      "def fn(a, b):\n",
      "    i_18 = 5\n",
      "    i_16 = a\n",
      "    i_17 = b\n",
      "    i_19 = np.multiply.outer(i_16, i_17)\n",
      "    i_15 = i_19[i_18]\n",
      "    return i_15\n",
      "\n"
     ]
    }
   ],
   "source": [
    "print(dims_not_known.__optimize_steps__['ast_as_source'])"
   ]
  }
 ],
 "metadata": {
  "kernelspec": {
   "display_name": "Python 3",
   "language": "python",
   "name": "python3"
  },
  "language_info": {
   "codemirror_mode": {
    "name": "ipython",
    "version": 3
   },
   "file_extension": ".py",
   "mimetype": "text/x-python",
   "name": "python",
   "nbconvert_exporter": "python",
   "pygments_lexer": "ipython3",
   "version": "3.7.1"
  }
 },
 "nbformat": 4,
 "nbformat_minor": 2
}
