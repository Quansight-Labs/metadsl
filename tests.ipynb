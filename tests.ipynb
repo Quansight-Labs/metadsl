{
 "cells": [
  {
   "cell_type": "markdown",
   "metadata": {},
   "source": [
    "# Tests\n",
    "In this notebook, we run our `pytest` test suite. Why would we run this in a notebook not from the command line? Because then  we can visualize the replacemnts as they happen for debugging"
   ]
  },
  {
   "cell_type": "code",
   "execution_count": 1,
   "metadata": {},
   "outputs": [],
   "source": [
    "import  pytest"
   ]
  },
  {
   "cell_type": "code",
   "execution_count": 11,
   "metadata": {},
   "outputs": [
    {
     "name": "stdout",
     "output_type": "stream",
     "text": [
      "=========================================================================== test session starts ============================================================================\n",
      "platform darwin -- Python 3.7.3, pytest-4.4.0, py-1.8.0, pluggy-0.9.0\n",
      "rootdir: /Users/saul/p/metadsl, inifile: pytest.ini\n",
      "plugins: xdist-1.29.0, cov-2.6.1, nbval-0.9.1, metadsl-visualize-0.0.0\n",
      "collected 89 items\n",
      "\n",
      "metadsl/expressions_test.py .................                                                                                                                        [ 19%]\n",
      "metadsl/matching.py .                                                                                                                                                [ 20%]\n",
      "metadsl/matching_test.py .."
     ]
    },
    {
     "data": {
      "application/json": {
       "nodes": {
        "-6526231810149261281": {
         "args": [
          "5186073387757776851"
         ],
         "function": "metadsl.matching_test._from_int"
        },
        "-6675516191585484284": {
         "args": [
          "5324375327295707709",
          "4010078089058480500"
         ],
         "function": "metadsl.matching_test._Number.__add__"
        },
        "4010078089058480500": {
         "args": [
          "5186073387758859376"
         ],
         "function": "metadsl.matching_test._from_int"
        },
        "5186073387757776851": {
         "repr": "3",
         "type": "int"
        },
        "5186073387758859376": {
         "repr": "2",
         "type": "int"
        },
        "5186073387759941901": {
         "repr": "1",
         "type": "int"
        },
        "5324375327295707709": {
         "args": [
          "5186073387759941901"
         ],
         "function": "metadsl.matching_test._from_int"
        }
       },
       "states": {
        "initial": "-6675516191585484284",
        "states": [
         {
          "node": "-6526231810149261281",
          "rule": "metadsl.matching_test._add_rule"
         }
        ]
       }
      },
      "text/plain": [
       "Typez(definitions=None, nodes={'5186073387759941901': PrimitiveNode(type='int', repr='1'), '5324375327295707709': CallNode(function='metadsl.matching_test._from_int', type_params=None, args=['5186073387759941901'], kwargs=None), '5186073387758859376': PrimitiveNode(type='int', repr='2'), '4010078089058480500': CallNode(function='metadsl.matching_test._from_int', type_params=None, args=['5186073387758859376'], kwargs=None), '-6675516191585484284': CallNode(function='metadsl.matching_test._Number.__add__', type_params=None, args=['5324375327295707709', '4010078089058480500'], kwargs=None), '5186073387757776851': PrimitiveNode(type='int', repr='3'), '-6526231810149261281': CallNode(function='metadsl.matching_test._from_int', type_params=None, args=['5186073387757776851'], kwargs=None)}, states=States(initial='-6675516191585484284', states=[State(node='-6526231810149261281', rule='metadsl.matching_test._add_rule', label=None)]))"
      ]
     },
     "metadata": {},
     "output_type": "display_data"
    },
    {
     "name": "stdout",
     "output_type": "stream",
     "text": [
      "."
     ]
    },
    {
     "data": {
      "application/json": {
       "nodes": {
        "-2598438899226972632": {
         "args": [
          "5186073387758859376"
         ],
         "function": "metadsl.matching_test._List.create"
        },
        "-6302297538800490902": {
         "args": [
          "5186073387759941901",
          "5186073387758859376"
         ],
         "function": "metadsl.matching_test._List.create"
        },
        "3266493569579454313": {
         "args": [
          "5186073387759941901"
         ],
         "function": "metadsl.matching_test._List.create"
        },
        "5186073387758859376": {
         "repr": "2",
         "type": "int"
        },
        "5186073387759941901": {
         "repr": "1",
         "type": "int"
        },
        "8238663196834402782": {
         "args": [
          "3266493569579454313",
          "-2598438899226972632"
         ],
         "function": "metadsl.matching_test._List.__add__",
         "type_params": {
          "T": {
           "repr": "int"
          }
         }
        }
       },
       "states": {
        "initial": "8238663196834402782",
        "states": [
         {
          "node": "-6302297538800490902",
          "rule": "metadsl.matching_test.TestRule.test_type_args.<locals>._concat_lists"
         }
        ]
       }
      },
      "text/plain": [
       "Typez(definitions=None, nodes={'5186073387759941901': PrimitiveNode(type='int', repr='1'), '3266493569579454313': CallNode(function='metadsl.matching_test._List.create', type_params=None, args=['5186073387759941901'], kwargs=None), '5186073387758859376': PrimitiveNode(type='int', repr='2'), '-2598438899226972632': CallNode(function='metadsl.matching_test._List.create', type_params=None, args=['5186073387758859376'], kwargs=None), '8238663196834402782': CallNode(function='metadsl.matching_test._List.__add__', type_params={'T': ExternalTypeInstance(repr='int')}, args=['3266493569579454313', '-2598438899226972632'], kwargs=None), '-6302297538800490902': CallNode(function='metadsl.matching_test._List.create', type_params=None, args=['5186073387759941901', '5186073387758859376'], kwargs=None)}, states=States(initial='8238663196834402782', states=[State(node='-6302297538800490902', rule='metadsl.matching_test.TestRule.test_type_args.<locals>._concat_lists', label=None)]))"
      ]
     },
     "metadata": {},
     "output_type": "display_data"
    },
    {
     "name": "stdout",
     "output_type": "stream",
     "text": [
      "."
     ]
    },
    {
     "data": {
      "application/json": {
       "nodes": {
        "-2876446722102934704": {
         "args": [
          "5186073387759941901",
          "5186073387758859376",
          "5186073387757776851",
          "5186073387765354526"
         ],
         "function": "metadsl.matching_test._List.create",
         "type_params": {
          "T": {
           "repr": "int"
          }
         }
        },
        "-6302297538800490902": {
         "args": [
          "5186073387759941901",
          "5186073387758859376"
         ],
         "function": "metadsl.matching_test._List.create"
        },
        "3100287325755625142": {
         "args": [
          "5186073387757776851",
          "5186073387765354526"
         ],
         "function": "metadsl.matching_test._List.create"
        },
        "4180658422257813450": {
         "args": [
          "-6302297538800490902",
          "3100287325755625142"
         ],
         "function": "metadsl.matching_test._List.__add__",
         "type_params": {
          "T": {
           "repr": "int"
          }
         }
        },
        "5186073387757776851": {
         "repr": "3",
         "type": "int"
        },
        "5186073387758859376": {
         "repr": "2",
         "type": "int"
        },
        "5186073387759941901": {
         "repr": "1",
         "type": "int"
        },
        "5186073387765354526": {
         "repr": "4",
         "type": "int"
        }
       },
       "states": {
        "initial": "4180658422257813450",
        "states": [
         {
          "node": "-2876446722102934704",
          "rule": "metadsl.matching_test.TestRule.test_variable_args.<locals>._concat_lists"
         }
        ]
       }
      },
      "text/plain": [
       "Typez(definitions=None, nodes={'5186073387759941901': PrimitiveNode(type='int', repr='1'), '5186073387758859376': PrimitiveNode(type='int', repr='2'), '-6302297538800490902': CallNode(function='metadsl.matching_test._List.create', type_params=None, args=['5186073387759941901', '5186073387758859376'], kwargs=None), '5186073387757776851': PrimitiveNode(type='int', repr='3'), '5186073387765354526': PrimitiveNode(type='int', repr='4'), '3100287325755625142': CallNode(function='metadsl.matching_test._List.create', type_params=None, args=['5186073387757776851', '5186073387765354526'], kwargs=None), '4180658422257813450': CallNode(function='metadsl.matching_test._List.__add__', type_params={'T': ExternalTypeInstance(repr='int')}, args=['-6302297538800490902', '3100287325755625142'], kwargs=None), '-2876446722102934704': CallNode(function='metadsl.matching_test._List.create', type_params={'T': ExternalTypeInstance(repr='int')}, args=['5186073387759941901', '5186073387758859376', '5186073387757776851', '5186073387765354526'], kwargs=None)}, states=States(initial='4180658422257813450', states=[State(node='-2876446722102934704', rule='metadsl.matching_test.TestRule.test_variable_args.<locals>._concat_lists', label=None)]))"
      ]
     },
     "metadata": {},
     "output_type": "display_data"
    },
    {
     "name": "stdout",
     "output_type": "stream",
     "text": [
      "."
     ]
    },
    {
     "data": {
      "application/json": {
       "nodes": {
        "-4051279825742266596": {
         "args": [
          "7125169605332049528",
          "7125169605332049528"
         ],
         "function": "metadsl.matching_test._List.__add__",
         "type_params": {
          "T": {
           "repr": "int"
          }
         }
        },
        "7125169605332049528": {
         "function": "metadsl.matching_test._List.create",
         "type_params": {
          "T": {
           "repr": "int"
          }
         }
        }
       },
       "states": {
        "initial": "-4051279825742266596",
        "states": [
         {
          "node": "7125169605332049528",
          "rule": "metadsl.matching_test.TestRule.test_variable_args_empty.<locals>._concat_lists"
         }
        ]
       }
      },
      "text/plain": [
       "Typez(definitions=None, nodes={'7125169605332049528': CallNode(function='metadsl.matching_test._List.create', type_params={'T': ExternalTypeInstance(repr='int')}, args=None, kwargs=None), '-4051279825742266596': CallNode(function='metadsl.matching_test._List.__add__', type_params={'T': ExternalTypeInstance(repr='int')}, args=['7125169605332049528', '7125169605332049528'], kwargs=None)}, states=States(initial='-4051279825742266596', states=[State(node='7125169605332049528', rule='metadsl.matching_test.TestRule.test_variable_args_empty.<locals>._concat_lists', label=None)]))"
      ]
     },
     "metadata": {},
     "output_type": "display_data"
    },
    {
     "name": "stdout",
     "output_type": "stream",
     "text": [
      "."
     ]
    },
    {
     "data": {
      "application/json": {
       "nodes": {
        "-6302297538800490902": {
         "args": [
          "5186073387759941901",
          "5186073387758859376"
         ],
         "function": "metadsl.matching_test._List.create"
        },
        "-7757238193372014051": {
         "args": [
          "5186073387759941901",
          "5186073387757776851"
         ],
         "function": "metadsl.matching_test._List.create",
         "type_params": {
          "T": {
           "repr": "int"
          }
         }
        },
        "3100287325755625142": {
         "args": [
          "5186073387757776851",
          "5186073387765354526"
         ],
         "function": "metadsl.matching_test._List.create"
        },
        "4180658422257813450": {
         "args": [
          "-6302297538800490902",
          "3100287325755625142"
         ],
         "function": "metadsl.matching_test._List.__add__",
         "type_params": {
          "T": {
           "repr": "int"
          }
         }
        },
        "5186073387757776851": {
         "repr": "3",
         "type": "int"
        },
        "5186073387758859376": {
         "repr": "2",
         "type": "int"
        },
        "5186073387759941901": {
         "repr": "1",
         "type": "int"
        },
        "5186073387765354526": {
         "repr": "4",
         "type": "int"
        }
       },
       "states": {
        "initial": "4180658422257813450",
        "states": [
         {
          "node": "-7757238193372014051",
          "rule": "metadsl.matching_test.TestRule.test_variable_args_right_side.<locals>._concat_lists_minus_end"
         }
        ]
       }
      },
      "text/plain": [
       "Typez(definitions=None, nodes={'5186073387759941901': PrimitiveNode(type='int', repr='1'), '5186073387758859376': PrimitiveNode(type='int', repr='2'), '-6302297538800490902': CallNode(function='metadsl.matching_test._List.create', type_params=None, args=['5186073387759941901', '5186073387758859376'], kwargs=None), '5186073387757776851': PrimitiveNode(type='int', repr='3'), '5186073387765354526': PrimitiveNode(type='int', repr='4'), '3100287325755625142': CallNode(function='metadsl.matching_test._List.create', type_params=None, args=['5186073387757776851', '5186073387765354526'], kwargs=None), '4180658422257813450': CallNode(function='metadsl.matching_test._List.__add__', type_params={'T': ExternalTypeInstance(repr='int')}, args=['-6302297538800490902', '3100287325755625142'], kwargs=None), '-7757238193372014051': CallNode(function='metadsl.matching_test._List.create', type_params={'T': ExternalTypeInstance(repr='int')}, args=['5186073387759941901', '5186073387757776851'], kwargs=None)}, states=States(initial='4180658422257813450', states=[State(node='-7757238193372014051', rule='metadsl.matching_test.TestRule.test_variable_args_right_side.<locals>._concat_lists_minus_end', label=None)]))"
      ]
     },
     "metadata": {},
     "output_type": "display_data"
    },
    {
     "data": {
      "application/json": {
       "nodes": {
        "-2998913110754575383": {
         "args": [
          "3266493569579454313",
          "9160421950938680251"
         ],
         "function": "metadsl.matching_test._List.__add__",
         "type_params": {
          "T": {
           "repr": "int"
          }
         }
        },
        "3266493569579454313": {
         "args": [
          "5186073387759941901"
         ],
         "function": "metadsl.matching_test._List.create"
        },
        "5186073387757776851": {
         "repr": "3",
         "type": "int"
        },
        "5186073387759941901": {
         "repr": "1",
         "type": "int"
        },
        "7125169605332049528": {
         "function": "metadsl.matching_test._List.create",
         "type_params": {
          "T": {
           "repr": "int"
          }
         }
        },
        "9160421950938680251": {
         "args": [
          "5186073387757776851"
         ],
         "function": "metadsl.matching_test._List.create"
        }
       },
       "states": {
        "initial": "-2998913110754575383",
        "states": [
         {
          "node": "7125169605332049528",
          "rule": "metadsl.matching_test.TestRule.test_variable_args_right_side.<locals>._concat_lists_minus_end"
         }
        ]
       }
      },
      "text/plain": [
       "Typez(definitions=None, nodes={'5186073387759941901': PrimitiveNode(type='int', repr='1'), '3266493569579454313': CallNode(function='metadsl.matching_test._List.create', type_params=None, args=['5186073387759941901'], kwargs=None), '5186073387757776851': PrimitiveNode(type='int', repr='3'), '9160421950938680251': CallNode(function='metadsl.matching_test._List.create', type_params=None, args=['5186073387757776851'], kwargs=None), '-2998913110754575383': CallNode(function='metadsl.matching_test._List.__add__', type_params={'T': ExternalTypeInstance(repr='int')}, args=['3266493569579454313', '9160421950938680251'], kwargs=None), '7125169605332049528': CallNode(function='metadsl.matching_test._List.create', type_params={'T': ExternalTypeInstance(repr='int')}, args=None, kwargs=None)}, states=States(initial='-2998913110754575383', states=[State(node='7125169605332049528', rule='metadsl.matching_test.TestRule.test_variable_args_right_side.<locals>._concat_lists_minus_end', label=None)]))"
      ]
     },
     "metadata": {},
     "output_type": "display_data"
    },
    {
     "name": "stdout",
     "output_type": "stream",
     "text": [
      "."
     ]
    },
    {
     "data": {
      "application/json": {
       "nodes": {
        "-2876446722102934704": {
         "args": [
          "5186073387759941901",
          "5186073387758859376",
          "5186073387757776851",
          "5186073387765354526"
         ],
         "function": "metadsl.matching_test._List.create",
         "type_params": {
          "T": {
           "repr": "int"
          }
         }
        },
        "-5927157530854965193": {
         "args": [
          "-2876446722102934704"
         ],
         "function": "metadsl.matching_test._List.create"
        },
        "-6302297538800490902": {
         "args": [
          "5186073387759941901",
          "5186073387758859376"
         ],
         "function": "metadsl.matching_test._List.create"
        },
        "2809204816354323886": {
         "args": [
          "4569464101947808225",
          "4979622507110000255"
         ],
         "function": "metadsl.matching_test._List.__add__",
         "type_params": {
          "T": {
           "params": {
            "T": {
             "repr": "int"
            }
           },
           "type": "metadsl.matching_test._List"
          }
         }
        },
        "3100287325755625142": {
         "args": [
          "5186073387757776851",
          "5186073387765354526"
         ],
         "function": "metadsl.matching_test._List.create"
        },
        "4569464101947808225": {
         "args": [
          "-6302297538800490902"
         ],
         "function": "metadsl.matching_test._List.create"
        },
        "4979622507110000255": {
         "args": [
          "3100287325755625142"
         ],
         "function": "metadsl.matching_test._List.create"
        },
        "5186073387757776851": {
         "repr": "3",
         "type": "int"
        },
        "5186073387758859376": {
         "repr": "2",
         "type": "int"
        },
        "5186073387759941901": {
         "repr": "1",
         "type": "int"
        },
        "5186073387765354526": {
         "repr": "4",
         "type": "int"
        }
       },
       "states": {
        "initial": "2809204816354323886",
        "states": [
         {
          "node": "-5927157530854965193",
          "rule": "metadsl.matching_test.TestRule.test_different_generic_param.<locals>._add_list_of_lists"
         }
        ]
       }
      },
      "text/plain": [
       "Typez(definitions=None, nodes={'5186073387759941901': PrimitiveNode(type='int', repr='1'), '5186073387758859376': PrimitiveNode(type='int', repr='2'), '-6302297538800490902': CallNode(function='metadsl.matching_test._List.create', type_params=None, args=['5186073387759941901', '5186073387758859376'], kwargs=None), '4569464101947808225': CallNode(function='metadsl.matching_test._List.create', type_params=None, args=['-6302297538800490902'], kwargs=None), '5186073387757776851': PrimitiveNode(type='int', repr='3'), '5186073387765354526': PrimitiveNode(type='int', repr='4'), '3100287325755625142': CallNode(function='metadsl.matching_test._List.create', type_params=None, args=['5186073387757776851', '5186073387765354526'], kwargs=None), '4979622507110000255': CallNode(function='metadsl.matching_test._List.create', type_params=None, args=['3100287325755625142'], kwargs=None), '2809204816354323886': CallNode(function='metadsl.matching_test._List.__add__', type_params={'T': DeclaredTypeInstance(type='metadsl.matching_test._List', params={'T': ExternalTypeInstance(repr='int')})}, args=['4569464101947808225', '4979622507110000255'], kwargs=None), '-2876446722102934704': CallNode(function='metadsl.matching_test._List.create', type_params={'T': ExternalTypeInstance(repr='int')}, args=['5186073387759941901', '5186073387758859376', '5186073387757776851', '5186073387765354526'], kwargs=None), '-5927157530854965193': CallNode(function='metadsl.matching_test._List.create', type_params=None, args=['-2876446722102934704'], kwargs=None)}, states=States(initial='2809204816354323886', states=[State(node='-5927157530854965193', rule='metadsl.matching_test.TestRule.test_different_generic_param.<locals>._add_list_of_lists', label=None)]))"
      ]
     },
     "metadata": {},
     "output_type": "display_data"
    },
    {
     "data": {
      "application/json": {
       "nodes": {
        "7125169605332049528": {
         "function": "metadsl.matching_test._List.create",
         "type_params": {
          "T": {
           "repr": "int"
          }
         }
        },
        "8734937659428537945": {
         "args": [
          "9099377293606091559",
          "9099377293606091559"
         ],
         "function": "metadsl.matching_test._List.__add__",
         "type_params": {
          "T": {
           "params": {
            "T": {
             "repr": "int"
            }
           },
           "type": "metadsl.matching_test._List"
          }
         }
        },
        "9099377293606091559": {
         "args": [
          "7125169605332049528"
         ],
         "function": "metadsl.matching_test._List.create"
        }
       },
       "states": {
        "initial": "8734937659428537945",
        "states": [
         {
          "node": "9099377293606091559",
          "rule": "metadsl.matching_test.TestRule.test_different_generic_param.<locals>._add_list_of_lists"
         }
        ]
       }
      },
      "text/plain": [
       "Typez(definitions=None, nodes={'7125169605332049528': CallNode(function='metadsl.matching_test._List.create', type_params={'T': ExternalTypeInstance(repr='int')}, args=None, kwargs=None), '9099377293606091559': CallNode(function='metadsl.matching_test._List.create', type_params=None, args=['7125169605332049528'], kwargs=None), '8734937659428537945': CallNode(function='metadsl.matching_test._List.__add__', type_params={'T': DeclaredTypeInstance(type='metadsl.matching_test._List', params={'T': ExternalTypeInstance(repr='int')})}, args=['9099377293606091559', '9099377293606091559'], kwargs=None)}, states=States(initial='8734937659428537945', states=[State(node='9099377293606091559', rule='metadsl.matching_test.TestRule.test_different_generic_param.<locals>._add_list_of_lists', label=None)]))"
      ]
     },
     "metadata": {},
     "output_type": "display_data"
    },
    {
     "name": "stdout",
     "output_type": "stream",
     "text": [
      "."
     ]
    },
    {
     "data": {
      "application/json": {
       "nodes": {
        "-1174192787480029757": {
         "repr": "'str'",
         "type": "str"
        },
        "-3573879956670415524": {
         "args": [
          "-1174192787480029757"
         ],
         "function": "metadsl.matching_test.TestRule.test_non_lambda_result.<locals>._from_str"
        },
        "-3888535025369806767": {
         "args": [
          "5186073387761024426"
         ],
         "function": "metadsl.matching_test._from_int"
        },
        "3972570313212113615": {
         "args": [
          "-3573879956670415524",
          "-3888535025369806767"
         ],
         "function": "metadsl.matching_test._Number.__add__"
        },
        "5186073387761024426": {
         "repr": "0",
         "type": "int"
        }
       },
       "states": {
        "initial": "3972570313212113615",
        "states": [
         {
          "node": "-3573879956670415524",
          "rule": "metadsl.matching_test.TestRule.test_non_lambda_result.<locals>._add_zero_rule"
         }
        ]
       }
      },
      "text/plain": [
       "Typez(definitions=None, nodes={'-1174192787480029757': PrimitiveNode(type='str', repr=\"'str'\"), '-3573879956670415524': CallNode(function='metadsl.matching_test.TestRule.test_non_lambda_result.<locals>._from_str', type_params=None, args=['-1174192787480029757'], kwargs=None), '5186073387761024426': PrimitiveNode(type='int', repr='0'), '-3888535025369806767': CallNode(function='metadsl.matching_test._from_int', type_params=None, args=['5186073387761024426'], kwargs=None), '3972570313212113615': CallNode(function='metadsl.matching_test._Number.__add__', type_params=None, args=['-3573879956670415524', '-3888535025369806767'], kwargs=None)}, states=States(initial='3972570313212113615', states=[State(node='-3573879956670415524', rule='metadsl.matching_test.TestRule.test_non_lambda_result.<locals>._add_zero_rule', label=None)]))"
      ]
     },
     "metadata": {},
     "output_type": "display_data"
    },
    {
     "name": "stdout",
     "output_type": "stream",
     "text": [
      "."
     ]
    },
    {
     "data": {
      "application/json": {
       "nodes": {
        "-1174192787480029757": {
         "repr": "'str'",
         "type": "str"
        },
        "-3888535025369806767": {
         "args": [
          "5186073387761024426"
         ],
         "function": "metadsl.matching_test._from_int"
        },
        "342751971095868453": {
         "args": [
          "-1174192787480029757"
         ],
         "function": "metadsl.matching_test.TestRule.test_generator_rule.<locals>._from_str"
        },
        "5186073387761024426": {
         "repr": "0",
         "type": "int"
        },
        "727231830219101472": {
         "args": [
          "342751971095868453",
          "-3888535025369806767"
         ],
         "function": "metadsl.matching_test._Number.__add__"
        }
       },
       "states": {
        "initial": "727231830219101472",
        "states": [
         {
          "node": "342751971095868453",
          "rule": "metadsl.matching_test.TestRule.test_generator_rule.<locals>._add_zero_rule"
         }
        ]
       }
      },
      "text/plain": [
       "Typez(definitions=None, nodes={'-1174192787480029757': PrimitiveNode(type='str', repr=\"'str'\"), '342751971095868453': CallNode(function='metadsl.matching_test.TestRule.test_generator_rule.<locals>._from_str', type_params=None, args=['-1174192787480029757'], kwargs=None), '5186073387761024426': PrimitiveNode(type='int', repr='0'), '-3888535025369806767': CallNode(function='metadsl.matching_test._from_int', type_params=None, args=['5186073387761024426'], kwargs=None), '727231830219101472': CallNode(function='metadsl.matching_test._Number.__add__', type_params=None, args=['342751971095868453', '-3888535025369806767'], kwargs=None)}, states=States(initial='727231830219101472', states=[State(node='342751971095868453', rule='metadsl.matching_test.TestRule.test_generator_rule.<locals>._add_zero_rule', label=None)]))"
      ]
     },
     "metadata": {},
     "output_type": "display_data"
    },
    {
     "data": {
      "application/json": {
       "nodes": {
        "-1174192787480029757": {
         "repr": "'str'",
         "type": "str"
        },
        "-3888535025369806767": {
         "args": [
          "5186073387761024426"
         ],
         "function": "metadsl.matching_test._from_int"
        },
        "342751971095868453": {
         "args": [
          "-1174192787480029757"
         ],
         "function": "metadsl.matching_test.TestRule.test_generator_rule.<locals>._from_str"
        },
        "5186073387761024426": {
         "repr": "0",
         "type": "int"
        },
        "727231830219101472": {
         "args": [
          "-3888535025369806767",
          "342751971095868453"
         ],
         "function": "metadsl.matching_test._Number.__add__"
        }
       },
       "states": {
        "initial": "727231830219101472",
        "states": [
         {
          "node": "342751971095868453",
          "rule": "metadsl.matching_test.TestRule.test_generator_rule.<locals>._add_zero_rule"
         }
        ]
       }
      },
      "text/plain": [
       "Typez(definitions=None, nodes={'5186073387761024426': PrimitiveNode(type='int', repr='0'), '-3888535025369806767': CallNode(function='metadsl.matching_test._from_int', type_params=None, args=['5186073387761024426'], kwargs=None), '-1174192787480029757': PrimitiveNode(type='str', repr=\"'str'\"), '342751971095868453': CallNode(function='metadsl.matching_test.TestRule.test_generator_rule.<locals>._from_str', type_params=None, args=['-1174192787480029757'], kwargs=None), '727231830219101472': CallNode(function='metadsl.matching_test._Number.__add__', type_params=None, args=['-3888535025369806767', '342751971095868453'], kwargs=None)}, states=States(initial='727231830219101472', states=[State(node='342751971095868453', rule='metadsl.matching_test.TestRule.test_generator_rule.<locals>._add_zero_rule', label=None)]))"
      ]
     },
     "metadata": {},
     "output_type": "display_data"
    },
    {
     "name": "stdout",
     "output_type": "stream",
     "text": [
      "."
     ]
    },
    {
     "data": {
      "application/json": {
       "nodes": {
        "-1174192787480029757": {
         "repr": "'str'",
         "type": "str"
        },
        "-3888535025369806767": {
         "args": [
          "5186073387761024426"
         ],
         "function": "metadsl.matching_test._from_int"
        },
        "-641505625039831171": {
         "args": [
          "3553267472602014940",
          "-3888535025369806767"
         ],
         "function": "metadsl.matching_test._Number.__add__"
        },
        "3553267472602014940": {
         "args": [
          "-1174192787480029757"
         ],
         "function": "metadsl.matching_test.TestRule.test_generator_rule_different_wildcards.<locals>._from_str"
        },
        "5186073387761024426": {
         "repr": "0",
         "type": "int"
        }
       },
       "states": {
        "initial": "-641505625039831171",
        "states": [
         {
          "node": "3553267472602014940",
          "rule": "metadsl.matching_test.TestRule.test_generator_rule_different_wildcards.<locals>._add_zero_rule"
         }
        ]
       }
      },
      "text/plain": [
       "Typez(definitions=None, nodes={'-1174192787480029757': PrimitiveNode(type='str', repr=\"'str'\"), '3553267472602014940': CallNode(function='metadsl.matching_test.TestRule.test_generator_rule_different_wildcards.<locals>._from_str', type_params=None, args=['-1174192787480029757'], kwargs=None), '5186073387761024426': PrimitiveNode(type='int', repr='0'), '-3888535025369806767': CallNode(function='metadsl.matching_test._from_int', type_params=None, args=['5186073387761024426'], kwargs=None), '-641505625039831171': CallNode(function='metadsl.matching_test._Number.__add__', type_params=None, args=['3553267472602014940', '-3888535025369806767'], kwargs=None)}, states=States(initial='-641505625039831171', states=[State(node='3553267472602014940', rule='metadsl.matching_test.TestRule.test_generator_rule_different_wildcards.<locals>._add_zero_rule', label=None)]))"
      ]
     },
     "metadata": {},
     "output_type": "display_data"
    },
    {
     "data": {
      "application/json": {
       "nodes": {
        "-1174192787480029757": {
         "repr": "'str'",
         "type": "str"
        },
        "-3888535025369806767": {
         "args": [
          "5186073387761024426"
         ],
         "function": "metadsl.matching_test._from_int"
        },
        "-641505625039831171": {
         "args": [
          "-3888535025369806767",
          "3553267472602014940"
         ],
         "function": "metadsl.matching_test._Number.__add__"
        },
        "3553267472602014940": {
         "args": [
          "-1174192787480029757"
         ],
         "function": "metadsl.matching_test.TestRule.test_generator_rule_different_wildcards.<locals>._from_str"
        },
        "5186073387761024426": {
         "repr": "0",
         "type": "int"
        }
       },
       "states": {
        "initial": "-641505625039831171",
        "states": [
         {
          "node": "3553267472602014940",
          "rule": "metadsl.matching_test.TestRule.test_generator_rule_different_wildcards.<locals>._add_zero_rule"
         }
        ]
       }
      },
      "text/plain": [
       "Typez(definitions=None, nodes={'5186073387761024426': PrimitiveNode(type='int', repr='0'), '-3888535025369806767': CallNode(function='metadsl.matching_test._from_int', type_params=None, args=['5186073387761024426'], kwargs=None), '-1174192787480029757': PrimitiveNode(type='str', repr=\"'str'\"), '3553267472602014940': CallNode(function='metadsl.matching_test.TestRule.test_generator_rule_different_wildcards.<locals>._from_str', type_params=None, args=['-1174192787480029757'], kwargs=None), '-641505625039831171': CallNode(function='metadsl.matching_test._Number.__add__', type_params=None, args=['-3888535025369806767', '3553267472602014940'], kwargs=None)}, states=States(initial='-641505625039831171', states=[State(node='3553267472602014940', rule='metadsl.matching_test.TestRule.test_generator_rule_different_wildcards.<locals>._add_zero_rule', label=None)]))"
      ]
     },
     "metadata": {},
     "output_type": "display_data"
    },
    {
     "name": "stdout",
     "output_type": "stream",
     "text": [
      "."
     ]
    },
    {
     "data": {
      "application/json": {
       "nodes": {
        "-3190126698326401922": {
         "args": [
          "7125169605332049528",
          "5418613338220651966"
         ],
         "function": "metadsl.matching_test.TestRule.test_two_params.<locals>.combine_lists"
        },
        "-3606742714977042828": {
         "function": "metadsl.matching_test._List.create",
         "type_params": {
          "T": {
           "params": {
            "T": {
             "repr": "int"
            },
            "U": {
             "repr": "float"
            }
           },
           "type": "metadsl.matching_test.Both"
          }
         }
        },
        "5418613338220651966": {
         "function": "metadsl.matching_test._List.create",
         "type_params": {
          "T": {
           "repr": "float"
          }
         }
        },
        "7125169605332049528": {
         "function": "metadsl.matching_test._List.create",
         "type_params": {
          "T": {
           "repr": "int"
          }
         }
        }
       },
       "states": {
        "initial": "-3190126698326401922",
        "states": [
         {
          "node": "-3606742714977042828",
          "rule": "metadsl.matching_test.TestRule.test_two_params.<locals>.combine_lists_rule"
         }
        ]
       }
      },
      "text/plain": [
       "Typez(definitions=None, nodes={'7125169605332049528': CallNode(function='metadsl.matching_test._List.create', type_params={'T': ExternalTypeInstance(repr='int')}, args=None, kwargs=None), '5418613338220651966': CallNode(function='metadsl.matching_test._List.create', type_params={'T': ExternalTypeInstance(repr='float')}, args=None, kwargs=None), '-3190126698326401922': CallNode(function='metadsl.matching_test.TestRule.test_two_params.<locals>.combine_lists', type_params=None, args=['7125169605332049528', '5418613338220651966'], kwargs=None), '-3606742714977042828': CallNode(function='metadsl.matching_test._List.create', type_params={'T': DeclaredTypeInstance(type='metadsl.matching_test.Both', params={'U': ExternalTypeInstance(repr='float'), 'T': ExternalTypeInstance(repr='int')})}, args=None, kwargs=None)}, states=States(initial='-3190126698326401922', states=[State(node='-3606742714977042828', rule='metadsl.matching_test.TestRule.test_two_params.<locals>.combine_lists_rule', label=None)]))"
      ]
     },
     "metadata": {},
     "output_type": "display_data"
    },
    {
     "name": "stdout",
     "output_type": "stream",
     "text": [
      "."
     ]
    },
    {
     "data": {
      "application/json": {
       "nodes": {
        "-3155380784577143499": {
         "function": "metadsl.matching_test.Abstraction.create",
         "type_params": {
          "T": {
           "repr": "int"
          },
          "U": {
           "repr": "float"
          }
         }
        },
        "1213779491699155745": {
         "function": "metadsl.matching_test.Abstraction.create",
         "type_params": {
          "T": {
           "repr": "float"
          },
          "U": {
           "repr": "str"
          }
         }
        },
        "1455175364206885955": {
         "function": "metadsl.matching_test.Abstraction.create",
         "type_params": {
          "T": {
           "repr": "int"
          },
          "U": {
           "repr": "str"
          }
         }
        },
        "6154461445010232114": {
         "args": [
          "-3155380784577143499",
          "1213779491699155745"
         ],
         "function": "metadsl.matching_test.Abstraction.__add__",
         "type_params": {
          "T": {
           "repr": "int"
          },
          "U": {
           "repr": "float"
          }
         }
        }
       },
       "states": {
        "initial": "6154461445010232114",
        "states": [
         {
          "node": "1455175364206885955",
          "rule": "metadsl.matching_test.TestRule.test_two_different_params.<locals>.add_abstractions_rule"
         }
        ]
       }
      },
      "text/plain": [
       "Typez(definitions=None, nodes={'-3155380784577143499': CallNode(function='metadsl.matching_test.Abstraction.create', type_params={'U': ExternalTypeInstance(repr='float'), 'T': ExternalTypeInstance(repr='int')}, args=None, kwargs=None), '1213779491699155745': CallNode(function='metadsl.matching_test.Abstraction.create', type_params={'U': ExternalTypeInstance(repr='str'), 'T': ExternalTypeInstance(repr='float')}, args=None, kwargs=None), '6154461445010232114': CallNode(function='metadsl.matching_test.Abstraction.__add__', type_params={'U': ExternalTypeInstance(repr='float'), 'T': ExternalTypeInstance(repr='int')}, args=['-3155380784577143499', '1213779491699155745'], kwargs=None), '1455175364206885955': CallNode(function='metadsl.matching_test.Abstraction.create', type_params={'U': ExternalTypeInstance(repr='str'), 'T': ExternalTypeInstance(repr='int')}, args=None, kwargs=None)}, states=States(initial='6154461445010232114', states=[State(node='1455175364206885955', rule='metadsl.matching_test.TestRule.test_two_different_params.<locals>.add_abstractions_rule', label=None)]))"
      ]
     },
     "metadata": {},
     "output_type": "display_data"
    },
    {
     "name": "stdout",
     "output_type": "stream",
     "text": [
      "."
     ]
    },
    {
     "data": {
      "application/json": {
       "nodes": {
        "-3814866436601210303": {
         "args": [
          "-6714072633545698636",
          "5186073387757776851"
         ],
         "function": "metadsl.matching_test.TestRule.test_literal_arg.<locals>.subtract"
        },
        "-6714072633545698636": {
         "args": [
          "5186073387759941901",
          "5186073387758859376"
         ],
         "function": "metadsl.matching_test.TestRule.test_literal_arg.<locals>.add"
        },
        "5186073387757776851": {
         "repr": "3",
         "type": "int"
        },
        "5186073387758859376": {
         "repr": "2",
         "type": "int"
        },
        "5186073387759941901": {
         "repr": "1",
         "type": "int"
        }
       },
       "states": {
        "initial": "-3814866436601210303"
       }
      },
      "text/plain": [
       "Typez(definitions=None, nodes={'5186073387759941901': PrimitiveNode(type='int', repr='1'), '5186073387758859376': PrimitiveNode(type='int', repr='2'), '-6714072633545698636': CallNode(function='metadsl.matching_test.TestRule.test_literal_arg.<locals>.add', type_params=None, args=['5186073387759941901', '5186073387758859376'], kwargs=None), '5186073387757776851': PrimitiveNode(type='int', repr='3'), '-3814866436601210303': CallNode(function='metadsl.matching_test.TestRule.test_literal_arg.<locals>.subtract', type_params=None, args=['-6714072633545698636', '5186073387757776851'], kwargs=None)}, states=States(initial='-3814866436601210303', states=None))"
      ]
     },
     "metadata": {},
     "output_type": "display_data"
    },
    {
     "data": {
      "application/json": {
       "nodes": {
        "-3814866436601210303": {
         "args": [
          "-6714072633545698636",
          "5186073387757776851"
         ],
         "function": "metadsl.matching_test.TestRule.test_literal_arg.<locals>.subtract"
        },
        "-6714072633545698636": {
         "args": [
          "5186073387759941901",
          "5186073387758859376"
         ],
         "function": "metadsl.matching_test.TestRule.test_literal_arg.<locals>.add"
        },
        "1562646803778866383": {
         "args": [
          "5186073387757776851",
          "5186073387757776851"
         ],
         "function": "metadsl.matching_test.TestRule.test_literal_arg.<locals>.subtract"
        },
        "5186073387757776851": {
         "repr": "3",
         "type": "int"
        },
        "5186073387758859376": {
         "repr": "2",
         "type": "int"
        },
        "5186073387759941901": {
         "repr": "1",
         "type": "int"
        }
       },
       "states": {
        "initial": "-3814866436601210303",
        "states": [
         {
          "node": "1562646803778866383",
          "rule": "metadsl.matching_test.TestRule.test_literal_arg.<locals>.add_rule"
         }
        ]
       }
      },
      "text/plain": [
       "Typez(definitions=None, nodes={'5186073387759941901': PrimitiveNode(type='int', repr='1'), '5186073387758859376': PrimitiveNode(type='int', repr='2'), '-6714072633545698636': CallNode(function='metadsl.matching_test.TestRule.test_literal_arg.<locals>.add', type_params=None, args=['5186073387759941901', '5186073387758859376'], kwargs=None), '5186073387757776851': PrimitiveNode(type='int', repr='3'), '-3814866436601210303': CallNode(function='metadsl.matching_test.TestRule.test_literal_arg.<locals>.subtract', type_params=None, args=['-6714072633545698636', '5186073387757776851'], kwargs=None), '1562646803778866383': CallNode(function='metadsl.matching_test.TestRule.test_literal_arg.<locals>.subtract', type_params=None, args=['5186073387757776851', '5186073387757776851'], kwargs=None)}, states=States(initial='-3814866436601210303', states=[State(node='1562646803778866383', rule='metadsl.matching_test.TestRule.test_literal_arg.<locals>.add_rule', label=None)]))"
      ]
     },
     "metadata": {},
     "output_type": "display_data"
    },
    {
     "data": {
      "application/json": {
       "nodes": {
        "-3814866436601210303": {
         "args": [
          "-6714072633545698636",
          "5186073387757776851"
         ],
         "function": "metadsl.matching_test.TestRule.test_literal_arg.<locals>.subtract"
        },
        "-6714072633545698636": {
         "args": [
          "5186073387759941901",
          "5186073387758859376"
         ],
         "function": "metadsl.matching_test.TestRule.test_literal_arg.<locals>.add"
        },
        "1562646803778866383": {
         "args": [
          "5186073387757776851",
          "5186073387757776851"
         ],
         "function": "metadsl.matching_test.TestRule.test_literal_arg.<locals>.subtract"
        },
        "5186073387757776851": {
         "repr": "3",
         "type": "int"
        },
        "5186073387758859376": {
         "repr": "2",
         "type": "int"
        },
        "5186073387759941901": {
         "repr": "1",
         "type": "int"
        },
        "5186073387761024426": {
         "repr": "0",
         "type": "int"
        }
       },
       "states": {
        "initial": "-3814866436601210303",
        "states": [
         {
          "node": "1562646803778866383",
          "rule": "metadsl.matching_test.TestRule.test_literal_arg.<locals>.add_rule"
         },
         {
          "node": "5186073387761024426",
          "rule": "metadsl.matching_test.TestRule.test_literal_arg.<locals>.subtract_rule"
         }
        ]
       }
      },
      "text/plain": [
       "Typez(definitions=None, nodes={'5186073387759941901': PrimitiveNode(type='int', repr='1'), '5186073387758859376': PrimitiveNode(type='int', repr='2'), '-6714072633545698636': CallNode(function='metadsl.matching_test.TestRule.test_literal_arg.<locals>.add', type_params=None, args=['5186073387759941901', '5186073387758859376'], kwargs=None), '5186073387757776851': PrimitiveNode(type='int', repr='3'), '-3814866436601210303': CallNode(function='metadsl.matching_test.TestRule.test_literal_arg.<locals>.subtract', type_params=None, args=['-6714072633545698636', '5186073387757776851'], kwargs=None), '1562646803778866383': CallNode(function='metadsl.matching_test.TestRule.test_literal_arg.<locals>.subtract', type_params=None, args=['5186073387757776851', '5186073387757776851'], kwargs=None), '5186073387761024426': PrimitiveNode(type='int', repr='0')}, states=States(initial='-3814866436601210303', states=[State(node='1562646803778866383', rule='metadsl.matching_test.TestRule.test_literal_arg.<locals>.add_rule', label=None), State(node='5186073387761024426', rule='metadsl.matching_test.TestRule.test_literal_arg.<locals>.subtract_rule', label=None)]))"
      ]
     },
     "metadata": {},
     "output_type": "display_data"
    },
    {
     "name": "stdout",
     "output_type": "stream",
     "text": [
      "."
     ]
    },
    {
     "data": {
      "application/json": {
       "nodes": {
        "-256360964207632356": {
         "args": [
          "5186073387750199176"
         ],
         "function": "metadsl.matching_test.TestDefaultRule.test_fn.<locals>.inner_fn"
        },
        "-9049985428459708880": {
         "args": [
          "5186073387750199176"
         ],
         "function": "metadsl.matching_test.TestDefaultRule.test_fn.<locals>.fn"
        },
        "5186073387750199176": {
         "repr": "10",
         "type": "int"
        }
       },
       "states": {
        "initial": "-9049985428459708880",
        "states": [
         {
          "node": "-256360964207632356",
          "rule": "metadsl.matching_test.TestDefaultRule.test_fn.<locals>.fn"
         }
        ]
       }
      },
      "text/plain": [
       "Typez(definitions=None, nodes={'5186073387750199176': PrimitiveNode(type='int', repr='10'), '-9049985428459708880': CallNode(function='metadsl.matching_test.TestDefaultRule.test_fn.<locals>.fn', type_params=None, args=['5186073387750199176'], kwargs=None), '-256360964207632356': CallNode(function='metadsl.matching_test.TestDefaultRule.test_fn.<locals>.inner_fn', type_params=None, args=['5186073387750199176'], kwargs=None)}, states=States(initial='-9049985428459708880', states=[State(node='-256360964207632356', rule='metadsl.matching_test.TestDefaultRule.test_fn.<locals>.fn', label=None)]))"
      ]
     },
     "metadata": {},
     "output_type": "display_data"
    },
    {
     "name": "stdout",
     "output_type": "stream",
     "text": [
      "."
     ]
    },
    {
     "data": {
      "application/json": {
       "nodes": {
        "5934498520146153116": {
         "args": [
          "8399714444443754854",
          "8399714444443754854"
         ],
         "function": "metadsl.matching_test.TestDefaultRule.test_method.<locals>.C.__add__"
        },
        "8398372557481733421": {
         "args": [
          "8399714444443754854"
         ],
         "function": "metadsl.matching_test.TestDefaultRule.test_method.<locals>.C.double"
        },
        "8399714444443754854": {
         "function": "metadsl.matching_test.TestDefaultRule.test_method.<locals>.create"
        }
       },
       "states": {
        "initial": "8398372557481733421",
        "states": [
         {
          "node": "5934498520146153116",
          "rule": "metadsl.matching_test.TestDefaultRule.test_method.<locals>.C.double"
         }
        ]
       }
      },
      "text/plain": [
       "Typez(definitions=None, nodes={'8399714444443754854': CallNode(function='metadsl.matching_test.TestDefaultRule.test_method.<locals>.create', type_params=None, args=None, kwargs=None), '8398372557481733421': CallNode(function='metadsl.matching_test.TestDefaultRule.test_method.<locals>.C.double', type_params=None, args=['8399714444443754854'], kwargs=None), '5934498520146153116': CallNode(function='metadsl.matching_test.TestDefaultRule.test_method.<locals>.C.__add__', type_params=None, args=['8399714444443754854', '8399714444443754854'], kwargs=None)}, states=States(initial='8398372557481733421', states=[State(node='5934498520146153116', rule='metadsl.matching_test.TestDefaultRule.test_method.<locals>.C.double', label=None)]))"
      ]
     },
     "metadata": {},
     "output_type": "display_data"
    },
    {
     "name": "stdout",
     "output_type": "stream",
     "text": [
      "."
     ]
    },
    {
     "data": {
      "application/json": {
       "nodes": {
        "-7152221526355558207": {
         "args": [
          "4051415398692221671",
          "4051415398692221671"
         ],
         "function": "metadsl.matching_test.TestDefaultRule.test_method_generic.<locals>.C.__add__",
         "type_params": {
          "T": {
           "repr": "int"
          }
         }
        },
        "3500494916764742149": {
         "args": [
          "4051415398692221671"
         ],
         "function": "metadsl.matching_test.TestDefaultRule.test_method_generic.<locals>.C.double",
         "type_params": {
          "T": {
           "repr": "int"
          }
         }
        },
        "4051415398692221671": {
         "function": "metadsl.matching_test.TestDefaultRule.test_method_generic.<locals>.C.create",
         "type_params": {
          "T": {
           "repr": "int"
          }
         }
        }
       },
       "states": {
        "initial": "3500494916764742149",
        "states": [
         {
          "node": "-7152221526355558207",
          "rule": "metadsl.matching_test.TestDefaultRule.test_method_generic.<locals>.C.double"
         }
        ]
       }
      },
      "text/plain": [
       "Typez(definitions=None, nodes={'4051415398692221671': CallNode(function='metadsl.matching_test.TestDefaultRule.test_method_generic.<locals>.C.create', type_params={'T': ExternalTypeInstance(repr='int')}, args=None, kwargs=None), '3500494916764742149': CallNode(function='metadsl.matching_test.TestDefaultRule.test_method_generic.<locals>.C.double', type_params={'T': ExternalTypeInstance(repr='int')}, args=['4051415398692221671'], kwargs=None), '-7152221526355558207': CallNode(function='metadsl.matching_test.TestDefaultRule.test_method_generic.<locals>.C.__add__', type_params={'T': ExternalTypeInstance(repr='int')}, args=['4051415398692221671', '4051415398692221671'], kwargs=None)}, states=States(initial='3500494916764742149', states=[State(node='-7152221526355558207', rule='metadsl.matching_test.TestDefaultRule.test_method_generic.<locals>.C.double', label=None)]))"
      ]
     },
     "metadata": {},
     "output_type": "display_data"
    },
    {
     "data": {
      "application/json": {
       "nodes": {
        "-7152221526355558207": {
         "args": [
          "4051415398692221671",
          "4051415398692221671"
         ],
         "function": "metadsl.matching_test.TestDefaultRule.test_method_generic.<locals>.C.__add__",
         "type_params": {
          "T": {
           "repr": "int"
          }
         }
        },
        "3500494916764742149": {
         "args": [
          "4051415398692221671"
         ],
         "function": "metadsl.matching_test.TestDefaultRule.test_method_generic.<locals>.C.double",
         "type_params": {
          "T": {
           "repr": "int"
          }
         }
        },
        "4051415398692221671": {
         "function": "metadsl.matching_test.TestDefaultRule.test_method_generic.<locals>.C.create",
         "type_params": {
          "T": {
           "repr": "int"
          }
         }
        }
       },
       "states": {
        "initial": "3500494916764742149",
        "states": [
         {
          "node": "-7152221526355558207",
          "rule": "metadsl.matching_test.TestDefaultRule.test_method_generic.<locals>.C.double"
         }
        ]
       }
      },
      "text/plain": [
       "Typez(definitions=None, nodes={'4051415398692221671': CallNode(function='metadsl.matching_test.TestDefaultRule.test_method_generic.<locals>.C.create', type_params={'T': ExternalTypeInstance(repr='int')}, args=None, kwargs=None), '3500494916764742149': CallNode(function='metadsl.matching_test.TestDefaultRule.test_method_generic.<locals>.C.double', type_params={'T': ExternalTypeInstance(repr='int')}, args=['4051415398692221671'], kwargs=None), '-7152221526355558207': CallNode(function='metadsl.matching_test.TestDefaultRule.test_method_generic.<locals>.C.__add__', type_params={'T': ExternalTypeInstance(repr='int')}, args=['4051415398692221671', '4051415398692221671'], kwargs=None)}, states=States(initial='3500494916764742149', states=[State(node='-7152221526355558207', rule='metadsl.matching_test.TestDefaultRule.test_method_generic.<locals>.C.double', label=None)]))"
      ]
     },
     "metadata": {},
     "output_type": "display_data"
    },
    {
     "name": "stdout",
     "output_type": "stream",
     "text": [
      "."
     ]
    },
    {
     "data": {
      "application/json": {
       "nodes": {
        "-3608667743565656865": {
         "function": "metadsl.matching_test.TestDefaultRule.test_classmethod_generic.<locals>.C.create",
         "type_params": {
          "T": {
           "repr": "int"
          }
         }
        },
        "-7299205842342145750": {
         "function": "metadsl.matching_test.TestDefaultRule.test_classmethod_generic.<locals>.C.create_wrapper",
         "type_params": {
          "T": {
           "repr": "int"
          }
         }
        }
       },
       "states": {
        "initial": "-7299205842342145750",
        "states": [
         {
          "node": "-3608667743565656865",
          "rule": "metadsl.matching_test.TestDefaultRule.test_classmethod_generic.<locals>.C.create_wrapper"
         }
        ]
       }
      },
      "text/plain": [
       "Typez(definitions=None, nodes={'-7299205842342145750': CallNode(function='metadsl.matching_test.TestDefaultRule.test_classmethod_generic.<locals>.C.create_wrapper', type_params={'T': ExternalTypeInstance(repr='int')}, args=None, kwargs=None), '-3608667743565656865': CallNode(function='metadsl.matching_test.TestDefaultRule.test_classmethod_generic.<locals>.C.create', type_params={'T': ExternalTypeInstance(repr='int')}, args=None, kwargs=None)}, states=States(initial='-7299205842342145750', states=[State(node='-3608667743565656865', rule='metadsl.matching_test.TestDefaultRule.test_classmethod_generic.<locals>.C.create_wrapper', label=None)]))"
      ]
     },
     "metadata": {},
     "output_type": "display_data"
    },
    {
     "data": {
      "application/json": {
       "nodes": {
        "-3608667743565656865": {
         "function": "metadsl.matching_test.TestDefaultRule.test_classmethod_generic.<locals>.C.create",
         "type_params": {
          "T": {
           "repr": "int"
          }
         }
        },
        "-7299205842342145750": {
         "function": "metadsl.matching_test.TestDefaultRule.test_classmethod_generic.<locals>.C.create_wrapper",
         "type_params": {
          "T": {
           "repr": "int"
          }
         }
        }
       },
       "states": {
        "initial": "-7299205842342145750",
        "states": [
         {
          "node": "-3608667743565656865",
          "rule": "metadsl.matching_test.TestDefaultRule.test_classmethod_generic.<locals>.C.create_wrapper"
         }
        ]
       }
      },
      "text/plain": [
       "Typez(definitions=None, nodes={'-7299205842342145750': CallNode(function='metadsl.matching_test.TestDefaultRule.test_classmethod_generic.<locals>.C.create_wrapper', type_params={'T': ExternalTypeInstance(repr='int')}, args=None, kwargs=None), '-3608667743565656865': CallNode(function='metadsl.matching_test.TestDefaultRule.test_classmethod_generic.<locals>.C.create', type_params={'T': ExternalTypeInstance(repr='int')}, args=None, kwargs=None)}, states=States(initial='-7299205842342145750', states=[State(node='-3608667743565656865', rule='metadsl.matching_test.TestDefaultRule.test_classmethod_generic.<locals>.C.create_wrapper', label=None)]))"
      ]
     },
     "metadata": {},
     "output_type": "display_data"
    },
    {
     "name": "stdout",
     "output_type": "stream",
     "text": [
      "."
     ]
    },
    {
     "data": {
      "application/json": {
       "nodes": {
        "-7320799935446721117": {
         "args": [
          "5186073387766437051"
         ],
         "function": "metadsl.matching_test.TestDefaultRule.test_classmethod_generic_arg.<locals>.C.create_wrapper"
        },
        "1910342537805915424": {
         "args": [
          "5186073387766437051"
         ],
         "function": "metadsl.matching_test.TestDefaultRule.test_classmethod_generic_arg.<locals>.C.create"
        },
        "5186073387766437051": {
         "repr": "123",
         "type": "int"
        }
       },
       "states": {
        "initial": "-7320799935446721117",
        "states": [
         {
          "node": "1910342537805915424",
          "rule": "metadsl.matching_test.TestDefaultRule.test_classmethod_generic_arg.<locals>.C.create_wrapper"
         }
        ]
       }
      },
      "text/plain": [
       "Typez(definitions=None, nodes={'5186073387766437051': PrimitiveNode(type='int', repr='123'), '-7320799935446721117': CallNode(function='metadsl.matching_test.TestDefaultRule.test_classmethod_generic_arg.<locals>.C.create_wrapper', type_params=None, args=['5186073387766437051'], kwargs=None), '1910342537805915424': CallNode(function='metadsl.matching_test.TestDefaultRule.test_classmethod_generic_arg.<locals>.C.create', type_params=None, args=['5186073387766437051'], kwargs=None)}, states=States(initial='-7320799935446721117', states=[State(node='1910342537805915424', rule='metadsl.matching_test.TestDefaultRule.test_classmethod_generic_arg.<locals>.C.create_wrapper', label=None)]))"
      ]
     },
     "metadata": {},
     "output_type": "display_data"
    },
    {
     "name": "stdout",
     "output_type": "stream",
     "text": [
      "."
     ]
    },
    {
     "data": {
      "application/json": {
       "nodes": {
        "-8209285927664673493": {
         "args": [
          "5186073387766437051"
         ],
         "function": "metadsl.matching_test.TestDefaultRule.test_classmethod_generic_arg_different_var.<locals>.C.create_wrapper"
        },
        "4110276516475671918": {
         "function": "metadsl.matching_test.TestDefaultRule.test_classmethod_generic_arg_different_var.<locals>.C.create",
         "type_params": {
          "T": {
           "repr": "int"
          }
         }
        },
        "5186073387766437051": {
         "repr": "123",
         "type": "int"
        }
       },
       "states": {
        "initial": "-8209285927664673493",
        "states": [
         {
          "node": "4110276516475671918",
          "rule": "metadsl.matching_test.TestDefaultRule.test_classmethod_generic_arg_different_var.<locals>.C.create_wrapper"
         }
        ]
       }
      },
      "text/plain": [
       "Typez(definitions=None, nodes={'5186073387766437051': PrimitiveNode(type='int', repr='123'), '-8209285927664673493': CallNode(function='metadsl.matching_test.TestDefaultRule.test_classmethod_generic_arg_different_var.<locals>.C.create_wrapper', type_params=None, args=['5186073387766437051'], kwargs=None), '4110276516475671918': CallNode(function='metadsl.matching_test.TestDefaultRule.test_classmethod_generic_arg_different_var.<locals>.C.create', type_params={'T': ExternalTypeInstance(repr='int')}, args=None, kwargs=None)}, states=States(initial='-8209285927664673493', states=[State(node='4110276516475671918', rule='metadsl.matching_test.TestDefaultRule.test_classmethod_generic_arg_different_var.<locals>.C.create_wrapper', label=None)]))"
      ]
     },
     "metadata": {},
     "output_type": "display_data"
    },
    {
     "name": "stdout",
     "output_type": "stream",
     "text": [
      "."
     ]
    },
    {
     "data": {
      "application/json": {
       "nodes": {
        "5186073387759941901": {
         "repr": "1",
         "type": "int"
        },
        "6851781100129949968": {
         "args": [
          "5186073387759941901"
         ],
         "function": "metadsl.matching_test.TestDefaultRule.test_function_generic.<locals>.identity"
        }
       },
       "states": {
        "initial": "6851781100129949968",
        "states": [
         {
          "node": "5186073387759941901",
          "rule": "metadsl.matching_test.TestDefaultRule.test_function_generic.<locals>.identity"
         }
        ]
       }
      },
      "text/plain": [
       "Typez(definitions=None, nodes={'5186073387759941901': PrimitiveNode(type='int', repr='1'), '6851781100129949968': CallNode(function='metadsl.matching_test.TestDefaultRule.test_function_generic.<locals>.identity', type_params=None, args=['5186073387759941901'], kwargs=None)}, states=States(initial='6851781100129949968', states=[State(node='5186073387759941901', rule='metadsl.matching_test.TestDefaultRule.test_function_generic.<locals>.identity', label=None)]))"
      ]
     },
     "metadata": {},
     "output_type": "display_data"
    },
    {
     "data": {
      "application/json": {
       "nodes": {
        "5186073387759941901": {
         "repr": "1",
         "type": "int"
        },
        "5324375327295707709": {
         "args": [
          "5186073387759941901"
         ],
         "function": "metadsl.matching_test._from_int"
        },
        "8249167985776251819": {
         "args": [
          "5324375327295707709"
         ],
         "function": "metadsl.matching_test.TestDefaultRule.test_function_generic.<locals>.identity"
        }
       },
       "states": {
        "initial": "8249167985776251819",
        "states": [
         {
          "node": "5324375327295707709",
          "rule": "metadsl.matching_test.TestDefaultRule.test_function_generic.<locals>.identity"
         }
        ]
       }
      },
      "text/plain": [
       "Typez(definitions=None, nodes={'5186073387759941901': PrimitiveNode(type='int', repr='1'), '5324375327295707709': CallNode(function='metadsl.matching_test._from_int', type_params=None, args=['5186073387759941901'], kwargs=None), '8249167985776251819': CallNode(function='metadsl.matching_test.TestDefaultRule.test_function_generic.<locals>.identity', type_params=None, args=['5324375327295707709'], kwargs=None)}, states=States(initial='8249167985776251819', states=[State(node='5324375327295707709', rule='metadsl.matching_test.TestDefaultRule.test_function_generic.<locals>.identity', label=None)]))"
      ]
     },
     "metadata": {},
     "output_type": "display_data"
    },
    {
     "name": "stdout",
     "output_type": "stream",
     "text": [
      "."
     ]
    },
    {
     "data": {
      "application/json": {
       "nodes": {
        "-1219081665249287795": {
         "args": [
          "5186073387759941901"
         ],
         "function": "metadsl.matching_test.TestDefaultRule.test_function_generic_call_generic.<locals>.identity"
        },
        "-1408945709825873341": {
         "args": [
          "5186073387759941901"
         ],
         "function": "metadsl.matching_test.TestDefaultRule.test_function_generic_call_generic.<locals>.identity_2"
        },
        "5186073387759941901": {
         "repr": "1",
         "type": "int"
        }
       },
       "states": {
        "initial": "-1408945709825873341",
        "states": [
         {
          "node": "-1219081665249287795",
          "rule": "metadsl.matching_test.TestDefaultRule.test_function_generic_call_generic.<locals>.identity_2"
         }
        ]
       }
      },
      "text/plain": [
       "Typez(definitions=None, nodes={'5186073387759941901': PrimitiveNode(type='int', repr='1'), '-1408945709825873341': CallNode(function='metadsl.matching_test.TestDefaultRule.test_function_generic_call_generic.<locals>.identity_2', type_params=None, args=['5186073387759941901'], kwargs=None), '-1219081665249287795': CallNode(function='metadsl.matching_test.TestDefaultRule.test_function_generic_call_generic.<locals>.identity', type_params=None, args=['5186073387759941901'], kwargs=None)}, states=States(initial='-1408945709825873341', states=[State(node='-1219081665249287795', rule='metadsl.matching_test.TestDefaultRule.test_function_generic_call_generic.<locals>.identity_2', label=None)]))"
      ]
     },
     "metadata": {},
     "output_type": "display_data"
    },
    {
     "data": {
      "application/json": {
       "nodes": {
        "2601799558618286494": {
         "args": [
          "5324375327295707709"
         ],
         "function": "metadsl.matching_test.TestDefaultRule.test_function_generic_call_generic.<locals>.identity"
        },
        "2704033545455452872": {
         "args": [
          "5324375327295707709"
         ],
         "function": "metadsl.matching_test.TestDefaultRule.test_function_generic_call_generic.<locals>.identity_2"
        },
        "5186073387759941901": {
         "repr": "1",
         "type": "int"
        },
        "5324375327295707709": {
         "args": [
          "5186073387759941901"
         ],
         "function": "metadsl.matching_test._from_int"
        }
       },
       "states": {
        "initial": "2704033545455452872",
        "states": [
         {
          "node": "2601799558618286494",
          "rule": "metadsl.matching_test.TestDefaultRule.test_function_generic_call_generic.<locals>.identity_2"
         }
        ]
       }
      },
      "text/plain": [
       "Typez(definitions=None, nodes={'5186073387759941901': PrimitiveNode(type='int', repr='1'), '5324375327295707709': CallNode(function='metadsl.matching_test._from_int', type_params=None, args=['5186073387759941901'], kwargs=None), '2704033545455452872': CallNode(function='metadsl.matching_test.TestDefaultRule.test_function_generic_call_generic.<locals>.identity_2', type_params=None, args=['5324375327295707709'], kwargs=None), '2601799558618286494': CallNode(function='metadsl.matching_test.TestDefaultRule.test_function_generic_call_generic.<locals>.identity', type_params=None, args=['5324375327295707709'], kwargs=None)}, states=States(initial='2704033545455452872', states=[State(node='2601799558618286494', rule='metadsl.matching_test.TestDefaultRule.test_function_generic_call_generic.<locals>.identity_2', label=None)]))"
      ]
     },
     "metadata": {},
     "output_type": "display_data"
    },
    {
     "name": "stdout",
     "output_type": "stream",
     "text": [
      "."
     ]
    },
    {
     "data": {
      "application/json": {
       "nodes": {
        "1784348527772263725": {
         "args": [
          "8891197522342943892",
          "5186073387757776851"
         ],
         "function": "metadsl.matching_test.TestDefaultRule.test_literal_arg.<locals>.subtract"
        },
        "5186073387757776851": {
         "repr": "3",
         "type": "int"
        },
        "5186073387758859376": {
         "repr": "2",
         "type": "int"
        },
        "5186073387759941901": {
         "repr": "1",
         "type": "int"
        },
        "8891197522342943892": {
         "args": [
          "5186073387759941901",
          "5186073387758859376"
         ],
         "function": "metadsl.matching_test.TestDefaultRule.test_literal_arg.<locals>.add"
        }
       },
       "states": {
        "initial": "1784348527772263725"
       }
      },
      "text/plain": [
       "Typez(definitions=None, nodes={'5186073387759941901': PrimitiveNode(type='int', repr='1'), '5186073387758859376': PrimitiveNode(type='int', repr='2'), '8891197522342943892': CallNode(function='metadsl.matching_test.TestDefaultRule.test_literal_arg.<locals>.add', type_params=None, args=['5186073387759941901', '5186073387758859376'], kwargs=None), '5186073387757776851': PrimitiveNode(type='int', repr='3'), '1784348527772263725': CallNode(function='metadsl.matching_test.TestDefaultRule.test_literal_arg.<locals>.subtract', type_params=None, args=['8891197522342943892', '5186073387757776851'], kwargs=None)}, states=States(initial='1784348527772263725', states=None))"
      ]
     },
     "metadata": {},
     "output_type": "display_data"
    },
    {
     "data": {
      "application/json": {
       "nodes": {
        "-7087328353389931516": {
         "args": [
          "5186073387757776851",
          "5186073387757776851"
         ],
         "function": "metadsl.matching_test.TestDefaultRule.test_literal_arg.<locals>.subtract"
        },
        "1784348527772263725": {
         "args": [
          "8891197522342943892",
          "5186073387757776851"
         ],
         "function": "metadsl.matching_test.TestDefaultRule.test_literal_arg.<locals>.subtract"
        },
        "5186073387757776851": {
         "repr": "3",
         "type": "int"
        },
        "5186073387758859376": {
         "repr": "2",
         "type": "int"
        },
        "5186073387759941901": {
         "repr": "1",
         "type": "int"
        },
        "8891197522342943892": {
         "args": [
          "5186073387759941901",
          "5186073387758859376"
         ],
         "function": "metadsl.matching_test.TestDefaultRule.test_literal_arg.<locals>.add"
        }
       },
       "states": {
        "initial": "1784348527772263725",
        "states": [
         {
          "node": "-7087328353389931516",
          "rule": "metadsl.matching_test.TestDefaultRule.test_literal_arg.<locals>.add"
         }
        ]
       }
      },
      "text/plain": [
       "Typez(definitions=None, nodes={'5186073387759941901': PrimitiveNode(type='int', repr='1'), '5186073387758859376': PrimitiveNode(type='int', repr='2'), '8891197522342943892': CallNode(function='metadsl.matching_test.TestDefaultRule.test_literal_arg.<locals>.add', type_params=None, args=['5186073387759941901', '5186073387758859376'], kwargs=None), '5186073387757776851': PrimitiveNode(type='int', repr='3'), '1784348527772263725': CallNode(function='metadsl.matching_test.TestDefaultRule.test_literal_arg.<locals>.subtract', type_params=None, args=['8891197522342943892', '5186073387757776851'], kwargs=None), '-7087328353389931516': CallNode(function='metadsl.matching_test.TestDefaultRule.test_literal_arg.<locals>.subtract', type_params=None, args=['5186073387757776851', '5186073387757776851'], kwargs=None)}, states=States(initial='1784348527772263725', states=[State(node='-7087328353389931516', rule='metadsl.matching_test.TestDefaultRule.test_literal_arg.<locals>.add', label=None)]))"
      ]
     },
     "metadata": {},
     "output_type": "display_data"
    },
    {
     "data": {
      "application/json": {
       "nodes": {
        "-7087328353389931516": {
         "args": [
          "5186073387757776851",
          "5186073387757776851"
         ],
         "function": "metadsl.matching_test.TestDefaultRule.test_literal_arg.<locals>.subtract"
        },
        "1784348527772263725": {
         "args": [
          "8891197522342943892",
          "5186073387757776851"
         ],
         "function": "metadsl.matching_test.TestDefaultRule.test_literal_arg.<locals>.subtract"
        },
        "5186073387757776851": {
         "repr": "3",
         "type": "int"
        },
        "5186073387758859376": {
         "repr": "2",
         "type": "int"
        },
        "5186073387759941901": {
         "repr": "1",
         "type": "int"
        },
        "5186073387761024426": {
         "repr": "0",
         "type": "int"
        },
        "8891197522342943892": {
         "args": [
          "5186073387759941901",
          "5186073387758859376"
         ],
         "function": "metadsl.matching_test.TestDefaultRule.test_literal_arg.<locals>.add"
        }
       },
       "states": {
        "initial": "1784348527772263725",
        "states": [
         {
          "node": "-7087328353389931516",
          "rule": "metadsl.matching_test.TestDefaultRule.test_literal_arg.<locals>.add"
         },
         {
          "node": "5186073387761024426",
          "rule": "metadsl.matching_test.TestDefaultRule.test_literal_arg.<locals>.subtract"
         }
        ]
       }
      },
      "text/plain": [
       "Typez(definitions=None, nodes={'5186073387759941901': PrimitiveNode(type='int', repr='1'), '5186073387758859376': PrimitiveNode(type='int', repr='2'), '8891197522342943892': CallNode(function='metadsl.matching_test.TestDefaultRule.test_literal_arg.<locals>.add', type_params=None, args=['5186073387759941901', '5186073387758859376'], kwargs=None), '5186073387757776851': PrimitiveNode(type='int', repr='3'), '1784348527772263725': CallNode(function='metadsl.matching_test.TestDefaultRule.test_literal_arg.<locals>.subtract', type_params=None, args=['8891197522342943892', '5186073387757776851'], kwargs=None), '-7087328353389931516': CallNode(function='metadsl.matching_test.TestDefaultRule.test_literal_arg.<locals>.subtract', type_params=None, args=['5186073387757776851', '5186073387757776851'], kwargs=None), '5186073387761024426': PrimitiveNode(type='int', repr='0')}, states=States(initial='1784348527772263725', states=[State(node='-7087328353389931516', rule='metadsl.matching_test.TestDefaultRule.test_literal_arg.<locals>.add', label=None), State(node='5186073387761024426', rule='metadsl.matching_test.TestDefaultRule.test_literal_arg.<locals>.subtract', label=None)]))"
      ]
     },
     "metadata": {},
     "output_type": "display_data"
    },
    {
     "name": "stdout",
     "output_type": "stream",
     "text": [
      ".                                                                                                                     [ 46%]\n",
      "metadsl/typing_tools.py .                                                                                                                                            [ 47%]\n",
      "metadsl/typing_tools_test.py ....................                                                                                                                    [ 69%]\n",
      "metadsl_core/abstraction_test.py "
     ]
    },
    {
     "data": {
      "application/json": {},
      "text/plain": [
       "Typez(definitions=None, nodes=None, states=None)"
      ]
     },
     "metadata": {},
     "output_type": "display_data"
    },
    {
     "name": "stdout",
     "output_type": "stream",
     "text": [
      "F"
     ]
    },
    {
     "data": {
      "application/json": {},
      "text/plain": [
       "Typez(definitions=None, nodes=None, states=None)"
      ]
     },
     "metadata": {},
     "output_type": "display_data"
    },
    {
     "name": "stdout",
     "output_type": "stream",
     "text": [
      "F"
     ]
    },
    {
     "data": {
      "application/json": {},
      "text/plain": [
       "Typez(definitions=None, nodes=None, states=None)"
      ]
     },
     "metadata": {},
     "output_type": "display_data"
    },
    {
     "name": "stdout",
     "output_type": "stream",
     "text": [
      "F"
     ]
    },
    {
     "data": {
      "application/json": {
       "nodes": {
        "-130504028904878149": {
         "args": [
          "-2635402840584606754",
          "7301836736630779442"
         ],
         "function": "metadsl_core.abstraction.Abstraction.__call__",
         "type_params": {
          "T": {
           "type": "metadsl_core.abstraction_test.I"
          },
          "U": {
           "type": "metadsl_core.abstraction_test.I"
          }
         }
        },
        "-1610825871923491071": {
         "args": [
          "-8056730607245412741"
         ],
         "function": "metadsl_core.abstraction.Abstraction.create_variable",
         "type_params": {
          "T": {
           "type": "metadsl_core.abstraction_test.I"
          },
          "U": {
           "type": "metadsl_core.abstraction_test.I"
          }
         }
        },
        "-1730831127309179328": {
         "args": [
          "-5188752967400184397"
         ],
         "function": "metadsl_core.abstraction_test.I.inc"
        },
        "-256559800031125514": {
         "args": [
          "7185953344467800956",
          "7861618427339212928"
         ],
         "function": "metadsl_core.abstraction.Abstraction.__add__",
         "type_params": {
          "T": {
           "type": "metadsl_core.abstraction_test.I"
          },
          "U": {
           "type": "metadsl_core.abstraction_test.I"
          }
         }
        },
        "-2635402840584606754": {
         "args": [
          "-1610825871923491071",
          "7346675333838061950"
         ],
         "function": "metadsl_core.abstraction.Abstraction.create"
        },
        "-3648537448923597615": {
         "args": [
          "-8693822098486644099"
         ],
         "function": "metadsl_core.abstraction.Abstraction.from_fn"
        },
        "-4301989580680099508": {
         "args": [
          "-8693822099395965099"
         ],
         "function": "metadsl_core.abstraction.Abstraction.from_fn"
        },
        "-4848697111339554319": {
         "args": [
          "-256559800031125514",
          "7301836736630779442"
         ],
         "function": "metadsl_core.abstraction.Abstraction.__call__",
         "type_params": {
          "T": {
           "type": "metadsl_core.abstraction_test.I"
          },
          "U": {
           "type": "metadsl_core.abstraction_test.I"
          }
         }
        },
        "-5188752967400184397": {
         "args": [
          "-8056705390050702941"
         ],
         "function": "metadsl_core.abstraction.Abstraction.create_variable",
         "type_params": {
          "T": {
           "type": "metadsl_core.abstraction_test.I"
          },
          "U": {
           "type": "metadsl_core.abstraction_test.I"
          }
         }
        },
        "-5598839321106744416": {
         "args": [
          "-4301989580680099508",
          "-3648537448923597615"
         ],
         "function": "metadsl_core.abstraction.Abstraction.__add__",
         "type_params": {
          "T": {
           "type": "metadsl_core.abstraction_test.I"
          },
          "U": {
           "type": "metadsl_core.abstraction_test.I"
          }
         }
        },
        "-8056705390050702941": {
         "repr": "Variable(4714877840)",
         "type": "metadsl_core.abstraction.Variable"
        },
        "-8056730607245412741": {
         "repr": "Variable(4552689424)",
         "type": "metadsl_core.abstraction.Variable"
        },
        "-8693822098486644099": {
         "repr": "BoundInfer(fn=<function I.dec at 0x10fae39d8>, owner=<class 'metadsl_core.abstraction_test.I'>, is_classmethod=False)",
         "type": "metadsl.typing_tools.BoundInfer"
        },
        "-8693822099395965099": {
         "repr": "BoundInfer(fn=<function I.inc at 0x10fae38c8>, owner=<class 'metadsl_core.abstraction_test.I'>, is_classmethod=False)",
         "type": "metadsl.typing_tools.BoundInfer"
        },
        "3643553066549687889": {
         "args": [
          "494980653258382596"
         ],
         "function": "metadsl_core.abstraction_test.I.inc"
        },
        "494980653258382596": {
         "args": [
          "7301836736630779442"
         ],
         "function": "metadsl_core.abstraction_test.I.dec"
        },
        "5043172823774349807": {
         "args": [
          "7185953344467800956",
          "-3648537448923597615"
         ],
         "function": "metadsl_core.abstraction.Abstraction.__add__",
         "type_params": {
          "T": {
           "type": "metadsl_core.abstraction_test.I"
          },
          "U": {
           "type": "metadsl_core.abstraction_test.I"
          }
         }
        },
        "5186073387750199176": {
         "repr": "10",
         "type": "int"
        },
        "7185953344467800956": {
         "args": [
          "-5188752967400184397",
          "-1730831127309179328"
         ],
         "function": "metadsl_core.abstraction.Abstraction.create",
         "type_params": {
          "T": {
           "type": "metadsl_core.abstraction_test.I"
          },
          "U": {
           "type": "metadsl_core.abstraction_test.I"
          }
         }
        },
        "7301836736630779442": {
         "args": [
          "5186073387750199176"
         ],
         "function": "metadsl_core.abstraction_test.I.create"
        },
        "7346675333838061950": {
         "args": [
          "7520262765667507216"
         ],
         "function": "metadsl_core.abstraction_test.I.inc"
        },
        "7520262765667507216": {
         "args": [
          "-1610825871923491071"
         ],
         "function": "metadsl_core.abstraction_test.I.dec"
        },
        "7861618427339212928": {
         "args": [
          "-1610825871923491071",
          "7520262765667507216"
         ],
         "function": "metadsl_core.abstraction.Abstraction.create",
         "type_params": {
          "T": {
           "type": "metadsl_core.abstraction_test.I"
          },
          "U": {
           "type": "metadsl_core.abstraction_test.I"
          }
         }
        },
        "8389789264483311473": {
         "args": [
          "5043172823774349807",
          "7301836736630779442"
         ],
         "function": "metadsl_core.abstraction.Abstraction.__call__",
         "type_params": {
          "T": {
           "type": "metadsl_core.abstraction_test.I"
          },
          "U": {
           "type": "metadsl_core.abstraction_test.I"
          }
         }
        },
        "8720592490485660442": {
         "args": [
          "-5598839321106744416",
          "7301836736630779442"
         ],
         "function": "metadsl_core.abstraction.Abstraction.__call__",
         "type_params": {
          "T": {
           "type": "metadsl_core.abstraction_test.I"
          },
          "U": {
           "type": "metadsl_core.abstraction_test.I"
          }
         }
        }
       },
       "states": {
        "initial": "8720592490485660442",
        "states": [
         {
          "node": "8389789264483311473",
          "rule": "metadsl_core.abstraction.Abstraction.from_fn"
         },
         {
          "node": "-4848697111339554319",
          "rule": "metadsl_core.abstraction.Abstraction.from_fn"
         },
         {
          "node": "-130504028904878149",
          "rule": "metadsl_core.abstraction.compose"
         },
         {
          "label": "core",
          "node": "3643553066549687889",
          "rule": "metadsl_core.abstraction.beta_reduce"
         }
        ]
       }
      },
      "text/plain": [
       "Typez(definitions=None, nodes={'-8693822099395965099': PrimitiveNode(type='metadsl.typing_tools.BoundInfer', repr=\"BoundInfer(fn=<function I.inc at 0x10fae38c8>, owner=<class 'metadsl_core.abstraction_test.I'>, is_classmethod=False)\"), '-4301989580680099508': CallNode(function='metadsl_core.abstraction.Abstraction.from_fn', type_params=None, args=['-8693822099395965099'], kwargs=None), '-8693822098486644099': PrimitiveNode(type='metadsl.typing_tools.BoundInfer', repr=\"BoundInfer(fn=<function I.dec at 0x10fae39d8>, owner=<class 'metadsl_core.abstraction_test.I'>, is_classmethod=False)\"), '-3648537448923597615': CallNode(function='metadsl_core.abstraction.Abstraction.from_fn', type_params=None, args=['-8693822098486644099'], kwargs=None), '-5598839321106744416': CallNode(function='metadsl_core.abstraction.Abstraction.__add__', type_params={'U': DeclaredTypeInstance(type='metadsl_core.abstraction_test.I', params=None), 'T': DeclaredTypeInstance(type='metadsl_core.abstraction_test.I', params=None)}, args=['-4301989580680099508', '-3648537448923597615'], kwargs=None), '5186073387750199176': PrimitiveNode(type='int', repr='10'), '7301836736630779442': CallNode(function='metadsl_core.abstraction_test.I.create', type_params=None, args=['5186073387750199176'], kwargs=None), '8720592490485660442': CallNode(function='metadsl_core.abstraction.Abstraction.__call__', type_params={'U': DeclaredTypeInstance(type='metadsl_core.abstraction_test.I', params=None), 'T': DeclaredTypeInstance(type='metadsl_core.abstraction_test.I', params=None)}, args=['-5598839321106744416', '7301836736630779442'], kwargs=None), '-8056705390050702941': PrimitiveNode(type='metadsl_core.abstraction.Variable', repr='Variable(4714877840)'), '-5188752967400184397': CallNode(function='metadsl_core.abstraction.Abstraction.create_variable', type_params={'U': DeclaredTypeInstance(type='metadsl_core.abstraction_test.I', params=None), 'T': DeclaredTypeInstance(type='metadsl_core.abstraction_test.I', params=None)}, args=['-8056705390050702941'], kwargs=None), '-1730831127309179328': CallNode(function='metadsl_core.abstraction_test.I.inc', type_params=None, args=['-5188752967400184397'], kwargs=None), '7185953344467800956': CallNode(function='metadsl_core.abstraction.Abstraction.create', type_params={'U': DeclaredTypeInstance(type='metadsl_core.abstraction_test.I', params=None), 'T': DeclaredTypeInstance(type='metadsl_core.abstraction_test.I', params=None)}, args=['-5188752967400184397', '-1730831127309179328'], kwargs=None), '5043172823774349807': CallNode(function='metadsl_core.abstraction.Abstraction.__add__', type_params={'U': DeclaredTypeInstance(type='metadsl_core.abstraction_test.I', params=None), 'T': DeclaredTypeInstance(type='metadsl_core.abstraction_test.I', params=None)}, args=['7185953344467800956', '-3648537448923597615'], kwargs=None), '8389789264483311473': CallNode(function='metadsl_core.abstraction.Abstraction.__call__', type_params={'U': DeclaredTypeInstance(type='metadsl_core.abstraction_test.I', params=None), 'T': DeclaredTypeInstance(type='metadsl_core.abstraction_test.I', params=None)}, args=['5043172823774349807', '7301836736630779442'], kwargs=None), '-8056730607245412741': PrimitiveNode(type='metadsl_core.abstraction.Variable', repr='Variable(4552689424)'), '-1610825871923491071': CallNode(function='metadsl_core.abstraction.Abstraction.create_variable', type_params={'U': DeclaredTypeInstance(type='metadsl_core.abstraction_test.I', params=None), 'T': DeclaredTypeInstance(type='metadsl_core.abstraction_test.I', params=None)}, args=['-8056730607245412741'], kwargs=None), '7520262765667507216': CallNode(function='metadsl_core.abstraction_test.I.dec', type_params=None, args=['-1610825871923491071'], kwargs=None), '7861618427339212928': CallNode(function='metadsl_core.abstraction.Abstraction.create', type_params={'U': DeclaredTypeInstance(type='metadsl_core.abstraction_test.I', params=None), 'T': DeclaredTypeInstance(type='metadsl_core.abstraction_test.I', params=None)}, args=['-1610825871923491071', '7520262765667507216'], kwargs=None), '-256559800031125514': CallNode(function='metadsl_core.abstraction.Abstraction.__add__', type_params={'U': DeclaredTypeInstance(type='metadsl_core.abstraction_test.I', params=None), 'T': DeclaredTypeInstance(type='metadsl_core.abstraction_test.I', params=None)}, args=['7185953344467800956', '7861618427339212928'], kwargs=None), '-4848697111339554319': CallNode(function='metadsl_core.abstraction.Abstraction.__call__', type_params={'U': DeclaredTypeInstance(type='metadsl_core.abstraction_test.I', params=None), 'T': DeclaredTypeInstance(type='metadsl_core.abstraction_test.I', params=None)}, args=['-256559800031125514', '7301836736630779442'], kwargs=None), '7346675333838061950': CallNode(function='metadsl_core.abstraction_test.I.inc', type_params=None, args=['7520262765667507216'], kwargs=None), '-2635402840584606754': CallNode(function='metadsl_core.abstraction.Abstraction.create', type_params=None, args=['-1610825871923491071', '7346675333838061950'], kwargs=None), '-130504028904878149': CallNode(function='metadsl_core.abstraction.Abstraction.__call__', type_params={'U': DeclaredTypeInstance(type='metadsl_core.abstraction_test.I', params=None), 'T': DeclaredTypeInstance(type='metadsl_core.abstraction_test.I', params=None)}, args=['-2635402840584606754', '7301836736630779442'], kwargs=None), '494980653258382596': CallNode(function='metadsl_core.abstraction_test.I.dec', type_params=None, args=['7301836736630779442'], kwargs=None), '3643553066549687889': CallNode(function='metadsl_core.abstraction_test.I.inc', type_params=None, args=['494980653258382596'], kwargs=None)}, states=States(initial='8720592490485660442', states=[State(node='8389789264483311473', rule='metadsl_core.abstraction.Abstraction.from_fn', label=None), State(node='-4848697111339554319', rule='metadsl_core.abstraction.Abstraction.from_fn', label=None), State(node='-130504028904878149', rule='metadsl_core.abstraction.compose', label=None), State(node='3643553066549687889', rule='metadsl_core.abstraction.beta_reduce', label='core')]))"
      ]
     },
     "metadata": {},
     "output_type": "display_data"
    },
    {
     "name": "stdout",
     "output_type": "stream",
     "text": [
      "."
     ]
    },
    {
     "data": {
      "application/json": {
       "nodes": {
        "-1056980846980344167": {
         "args": [
          "7628514662665322552",
          "-4581700891840940288"
         ],
         "function": "metadsl_core.abstraction.Abstraction.__call__",
         "type_params": {
          "T": {
           "params": {
            "T": {
             "type": "metadsl_core.integer.Integer"
            },
            "U": {
             "type": "metadsl_core.integer.Integer"
            }
           },
           "type": "metadsl_core.abstraction.Abstraction"
          },
          "U": {
           "params": {
            "T": {
             "type": "metadsl_core.integer.Integer"
            },
            "U": {
             "type": "metadsl_core.integer.Integer"
            }
           },
           "type": "metadsl_core.abstraction.Abstraction"
          }
         }
        },
        "-1062374103796581992": {
         "args": [
          "7628514662665322552",
          "-7055184705711064649"
         ],
         "function": "metadsl_core.abstraction.Abstraction.__call__"
        },
        "-1124149866616085125": {
         "args": [
          "38837657719720672",
          "7814337577433284266"
         ],
         "function": "metadsl_core.abstraction.Abstraction.__call__",
         "type_params": {
          "T": {
           "type": "metadsl_core.integer.Integer"
          },
          "U": {
           "type": "metadsl_core.integer.Integer"
          }
         }
        },
        "-1162303506001063164": {
         "args": [
          "7628514662665322552",
          "-4103604482734407493"
         ],
         "function": "metadsl_core.abstraction.Abstraction.__call__"
        },
        "-1256864896709678412": {
         "args": [
          "7628514662665322552",
          "-2709654317328928681"
         ],
         "function": "metadsl_core.abstraction.Abstraction.__call__"
        },
        "-1299520504962267788": {
         "args": [
          "-5388172975163762488",
          "7814337577433284266"
         ],
         "function": "metadsl_core.abstraction.Abstraction.__call__",
         "type_params": {
          "T": {
           "type": "metadsl_core.integer.Integer"
          },
          "U": {
           "type": "metadsl_core.integer.Integer"
          }
         }
        },
        "-1322646637160510258": {
         "args": [
          "7628514662665322552",
          "8117546607995102643"
         ],
         "function": "metadsl_core.abstraction.Abstraction.__call__"
        },
        "-152430711723098563": {
         "args": [
          "-4665882918020507502",
          "7814337577433284266"
         ],
         "function": "metadsl_core.abstraction.Abstraction.__call__",
         "type_params": {
          "T": {
           "type": "metadsl_core.integer.Integer"
          },
          "U": {
           "type": "metadsl_core.integer.Integer"
          }
         }
        },
        "-1539368842887377421": {
         "args": [
          "3733250469902050516"
         ],
         "function": "metadsl_core.abstraction.Abstraction.fix"
        },
        "-1550706644341894386": {
         "args": [
          "7628514662665322552",
          "-3355957913048189692"
         ],
         "function": "metadsl_core.abstraction.Abstraction.__call__"
        },
        "-1567947108809722835": {
         "args": [
          "-1256864896709678412",
          "7814337577433284266"
         ],
         "function": "metadsl_core.abstraction.Abstraction.__call__",
         "type_params": {
          "T": {
           "type": "metadsl_core.integer.Integer"
          },
          "U": {
           "type": "metadsl_core.integer.Integer"
          }
         }
        },
        "-1586430641051322785": {
         "args": [
          "1166641969394216442"
         ],
         "function": "metadsl_core.abstraction.Abstraction.create_variable",
         "type_params": {
          "T": {
           "type": "metadsl_core.integer.Integer"
          },
          "U": {
           "type": "metadsl_core.integer.Integer"
          }
         }
        },
        "-1640377585501512735": {
         "args": [
          "7628514662665322552",
          "-1651931199231302633"
         ],
         "function": "metadsl_core.abstraction.Abstraction.__call__",
         "type_params": {
          "T": {
           "params": {
            "T": {
             "type": "metadsl_core.integer.Integer"
            },
            "U": {
             "type": "metadsl_core.integer.Integer"
            }
           },
           "type": "metadsl_core.abstraction.Abstraction"
          },
          "U": {
           "params": {
            "T": {
             "type": "metadsl_core.integer.Integer"
            },
            "U": {
             "type": "metadsl_core.integer.Integer"
            }
           },
           "type": "metadsl_core.abstraction.Abstraction"
          }
         }
        },
        "-1651931199231302633": {
         "args": [
          "7628514662665322552",
          "8117546607995102643"
         ],
         "function": "metadsl_core.abstraction.Abstraction.__call__",
         "type_params": {
          "T": {
           "params": {
            "T": {
             "type": "metadsl_core.integer.Integer"
            },
            "U": {
             "type": "metadsl_core.integer.Integer"
            }
           },
           "type": "metadsl_core.abstraction.Abstraction"
          },
          "U": {
           "params": {
            "T": {
             "type": "metadsl_core.integer.Integer"
            },
            "U": {
             "type": "metadsl_core.integer.Integer"
            }
           },
           "type": "metadsl_core.abstraction.Abstraction"
          }
         }
        },
        "-1669341470194122830": {
         "args": [
          "7628514662665322552",
          "-1640377585501512735"
         ],
         "function": "metadsl_core.abstraction.Abstraction.__call__"
        },
        "-1941693581273827695": {
         "args": [
          "7628514662665322552",
          "-7115243532461659702"
         ],
         "function": "metadsl_core.abstraction.Abstraction.__call__"
        },
        "-1956372672719499347": {
         "args": [
          "7628514662665322552",
          "4115156350241670111"
         ],
         "function": "metadsl_core.abstraction.Abstraction.__call__"
        },
        "-2007299065997409235": {
         "args": [
          "7628514662665322552",
          "831953872212786657"
         ],
         "function": "metadsl_core.abstraction.Abstraction.__call__",
         "type_params": {
          "T": {
           "params": {
            "T": {
             "type": "metadsl_core.integer.Integer"
            },
            "U": {
             "type": "metadsl_core.integer.Integer"
            }
           },
           "type": "metadsl_core.abstraction.Abstraction"
          },
          "U": {
           "params": {
            "T": {
             "type": "metadsl_core.integer.Integer"
            },
            "U": {
             "type": "metadsl_core.integer.Integer"
            }
           },
           "type": "metadsl_core.abstraction.Abstraction"
          }
         }
        },
        "-2030029611427609328": {
         "args": [
          "7628514662665322552",
          "3469868347825974000"
         ],
         "function": "metadsl_core.abstraction.Abstraction.__call__"
        },
        "-2033337655723828437": {
         "args": [
          "7628514662665322552",
          "-6342093924306242607"
         ],
         "function": "metadsl_core.abstraction.Abstraction.__call__"
        },
        "-2069547646569719974": {
         "args": [
          "-574095700423075474",
          "7814337577433284266"
         ],
         "function": "metadsl_core.abstraction.Abstraction.__call__",
         "type_params": {
          "T": {
           "type": "metadsl_core.integer.Integer"
          },
          "U": {
           "type": "metadsl_core.integer.Integer"
          }
         }
        },
        "-209818059361051895": {
         "args": [
          "7628514662665322552",
          "-8867094270965243940"
         ],
         "function": "metadsl_core.abstraction.Abstraction.__call__",
         "type_params": {
          "T": {
           "params": {
            "T": {
             "type": "metadsl_core.integer.Integer"
            },
            "U": {
             "type": "metadsl_core.integer.Integer"
            }
           },
           "type": "metadsl_core.abstraction.Abstraction"
          },
          "U": {
           "params": {
            "T": {
             "type": "metadsl_core.integer.Integer"
            },
            "U": {
             "type": "metadsl_core.integer.Integer"
            }
           },
           "type": "metadsl_core.abstraction.Abstraction"
          }
         }
        },
        "-218263212931357576": {
         "args": [
          "7628514662665322552",
          "8661247601959361780"
         ],
         "function": "metadsl_core.abstraction.Abstraction.__call__"
        },
        "-2252560484747675476": {
         "args": [
          "5739341560288557925",
          "7814337577433284266"
         ],
         "function": "metadsl_core.abstraction.Abstraction.__call__",
         "type_params": {
          "T": {
           "type": "metadsl_core.integer.Integer"
          },
          "U": {
           "type": "metadsl_core.integer.Integer"
          }
         }
        },
        "-2462819246705394543": {
         "args": [
          "7628514662665322552",
          "-1056980846980344167"
         ],
         "function": "metadsl_core.abstraction.Abstraction.__call__",
         "type_params": {
          "T": {
           "params": {
            "T": {
             "type": "metadsl_core.integer.Integer"
            },
            "U": {
             "type": "metadsl_core.integer.Integer"
            }
           },
           "type": "metadsl_core.abstraction.Abstraction"
          },
          "U": {
           "params": {
            "T": {
             "type": "metadsl_core.integer.Integer"
            },
            "U": {
             "type": "metadsl_core.integer.Integer"
            }
           },
           "type": "metadsl_core.abstraction.Abstraction"
          }
         }
        },
        "-262067876029031251": {
         "args": [
          "-5585406569052923846",
          "7814337577433284266"
         ],
         "function": "metadsl_core.abstraction.Abstraction.__call__",
         "type_params": {
          "T": {
           "type": "metadsl_core.integer.Integer"
          },
          "U": {
           "type": "metadsl_core.integer.Integer"
          }
         }
        },
        "-2709654317328928681": {
         "args": [
          "7628514662665322552",
          "-3355957913048189692"
         ],
         "function": "metadsl_core.abstraction.Abstraction.__call__",
         "type_params": {
          "T": {
           "params": {
            "T": {
             "type": "metadsl_core.integer.Integer"
            },
            "U": {
             "type": "metadsl_core.integer.Integer"
            }
           },
           "type": "metadsl_core.abstraction.Abstraction"
          },
          "U": {
           "params": {
            "T": {
             "type": "metadsl_core.integer.Integer"
            },
            "U": {
             "type": "metadsl_core.integer.Integer"
            }
           },
           "type": "metadsl_core.abstraction.Abstraction"
          }
         }
        },
        "-2871730469597286753": {
         "args": [
          "3464502360774209126",
          "7814337577433284266"
         ],
         "function": "metadsl_core.abstraction.Abstraction.__call__",
         "type_params": {
          "T": {
           "type": "metadsl_core.integer.Integer"
          },
          "U": {
           "type": "metadsl_core.integer.Integer"
          }
         }
        },
        "-3130723432032829308": {
         "args": [
          "7628514662665322552",
          "831953872212786657"
         ],
         "function": "metadsl_core.abstraction.Abstraction.__call__"
        },
        "-3232175032600517464": {
         "args": [
          "3126495990918983276",
          "7814337577433284266"
         ],
         "function": "metadsl_core.abstraction.Abstraction.__call__",
         "type_params": {
          "T": {
           "type": "metadsl_core.integer.Integer"
          },
          "U": {
           "type": "metadsl_core.integer.Integer"
          }
         }
        },
        "-3270218774252852790": {
         "args": [
          "9205247044228387334",
          "7814337577433284266"
         ],
         "function": "metadsl_core.abstraction.Abstraction.__call__",
         "type_params": {
          "T": {
           "type": "metadsl_core.integer.Integer"
          },
          "U": {
           "type": "metadsl_core.integer.Integer"
          }
         }
        },
        "-3355957913048189692": {
         "args": [
          "7628514662665322552",
          "4115156350241670111"
         ],
         "function": "metadsl_core.abstraction.Abstraction.__call__",
         "type_params": {
          "T": {
           "params": {
            "T": {
             "type": "metadsl_core.integer.Integer"
            },
            "U": {
             "type": "metadsl_core.integer.Integer"
            }
           },
           "type": "metadsl_core.abstraction.Abstraction"
          },
          "U": {
           "params": {
            "T": {
             "type": "metadsl_core.integer.Integer"
            },
            "U": {
             "type": "metadsl_core.integer.Integer"
            }
           },
           "type": "metadsl_core.abstraction.Abstraction"
          }
         }
        },
        "-3383023256671957712": {
         "args": [
          "7628514662665322552",
          "-7115243532461659702"
         ],
         "function": "metadsl_core.abstraction.Abstraction.__call__",
         "type_params": {
          "T": {
           "params": {
            "T": {
             "type": "metadsl_core.integer.Integer"
            },
            "U": {
             "type": "metadsl_core.integer.Integer"
            }
           },
           "type": "metadsl_core.abstraction.Abstraction"
          },
          "U": {
           "params": {
            "T": {
             "type": "metadsl_core.integer.Integer"
            },
            "U": {
             "type": "metadsl_core.integer.Integer"
            }
           },
           "type": "metadsl_core.abstraction.Abstraction"
          }
         }
        },
        "-3484567529226728997": {
         "args": [
          "3915239293113848406",
          "7814337577433284266"
         ],
         "function": "metadsl_core.abstraction.Abstraction.__call__",
         "type_params": {
          "T": {
           "type": "metadsl_core.integer.Integer"
          },
          "U": {
           "type": "metadsl_core.integer.Integer"
          }
         }
        },
        "-3766609887572473407": {
         "args": [
          "7628514662665322552",
          "-209818059361051895"
         ],
         "function": "metadsl_core.abstraction.Abstraction.__call__"
        },
        "-3860302012659092736": {
         "args": [
          "7628514662665322552",
          "-5268661823573193356"
         ],
         "function": "metadsl_core.abstraction.Abstraction.__call__",
         "type_params": {
          "T": {
           "params": {
            "T": {
             "type": "metadsl_core.integer.Integer"
            },
            "U": {
             "type": "metadsl_core.integer.Integer"
            }
           },
           "type": "metadsl_core.abstraction.Abstraction"
          },
          "U": {
           "params": {
            "T": {
             "type": "metadsl_core.integer.Integer"
            },
            "U": {
             "type": "metadsl_core.integer.Integer"
            }
           },
           "type": "metadsl_core.abstraction.Abstraction"
          }
         }
        },
        "-4017844512536175809": {
         "args": [
          "7628514662665322552",
          "5380139940284989513"
         ],
         "function": "metadsl_core.abstraction.Abstraction.__call__"
        },
        "-4033490016768454467": {
         "args": [
          "7628514662665322552",
          "-4547128079850781267"
         ],
         "function": "metadsl_core.abstraction.Abstraction.__call__"
        },
        "-4041018430714983373": {
         "args": [
          "-1669341470194122830",
          "7814337577433284266"
         ],
         "function": "metadsl_core.abstraction.Abstraction.__call__",
         "type_params": {
          "T": {
           "type": "metadsl_core.integer.Integer"
          },
          "U": {
           "type": "metadsl_core.integer.Integer"
          }
         }
        },
        "-408516350611986333": {
         "args": [
          "-4033490016768454467",
          "7814337577433284266"
         ],
         "function": "metadsl_core.abstraction.Abstraction.__call__",
         "type_params": {
          "T": {
           "type": "metadsl_core.integer.Integer"
          },
          "U": {
           "type": "metadsl_core.integer.Integer"
          }
         }
        },
        "-4103604482734407493": {
         "args": [
          "7628514662665322552",
          "8567911919907001866"
         ],
         "function": "metadsl_core.abstraction.Abstraction.__call__",
         "type_params": {
          "T": {
           "params": {
            "T": {
             "type": "metadsl_core.integer.Integer"
            },
            "U": {
             "type": "metadsl_core.integer.Integer"
            }
           },
           "type": "metadsl_core.abstraction.Abstraction"
          },
          "U": {
           "params": {
            "T": {
             "type": "metadsl_core.integer.Integer"
            },
            "U": {
             "type": "metadsl_core.integer.Integer"
            }
           },
           "type": "metadsl_core.abstraction.Abstraction"
          }
         }
        },
        "-4275912954504573072": {
         "args": [
          "7628514662665322552",
          "1403282169595700726"
         ],
         "function": "metadsl_core.abstraction.Abstraction.__call__"
        },
        "-4412471871681987767": {
         "args": [
          "7628514662665322552",
          "-6020741613412777737"
         ],
         "function": "metadsl_core.abstraction.Abstraction.__call__",
         "type_params": {
          "T": {
           "params": {
            "T": {
             "type": "metadsl_core.integer.Integer"
            },
            "U": {
             "type": "metadsl_core.integer.Integer"
            }
           },
           "type": "metadsl_core.abstraction.Abstraction"
          },
          "U": {
           "params": {
            "T": {
             "type": "metadsl_core.integer.Integer"
            },
            "U": {
             "type": "metadsl_core.integer.Integer"
            }
           },
           "type": "metadsl_core.abstraction.Abstraction"
          }
         }
        },
        "-4417164004284607623": {
         "args": [
          "7628514662665322552",
          "2279595913126844188"
         ],
         "function": "metadsl_core.abstraction.Abstraction.__call__",
         "type_params": {
          "T": {
           "params": {
            "T": {
             "type": "metadsl_core.integer.Integer"
            },
            "U": {
             "type": "metadsl_core.integer.Integer"
            }
           },
           "type": "metadsl_core.abstraction.Abstraction"
          },
          "U": {
           "params": {
            "T": {
             "type": "metadsl_core.integer.Integer"
            },
            "U": {
             "type": "metadsl_core.integer.Integer"
            }
           },
           "type": "metadsl_core.abstraction.Abstraction"
          }
         }
        },
        "-4547128079850781267": {
         "args": [
          "7628514662665322552",
          "-4103604482734407493"
         ],
         "function": "metadsl_core.abstraction.Abstraction.__call__",
         "type_params": {
          "T": {
           "params": {
            "T": {
             "type": "metadsl_core.integer.Integer"
            },
            "U": {
             "type": "metadsl_core.integer.Integer"
            }
           },
           "type": "metadsl_core.abstraction.Abstraction"
          },
          "U": {
           "params": {
            "T": {
             "type": "metadsl_core.integer.Integer"
            },
            "U": {
             "type": "metadsl_core.integer.Integer"
            }
           },
           "type": "metadsl_core.abstraction.Abstraction"
          }
         }
        },
        "-455973040630362760": {
         "args": [
          "1475264458477962596",
          "7814337577433284266"
         ],
         "function": "metadsl_core.abstraction.Abstraction.__call__",
         "type_params": {
          "T": {
           "type": "metadsl_core.integer.Integer"
          },
          "U": {
           "type": "metadsl_core.integer.Integer"
          }
         }
        },
        "-4581700891840940288": {
         "args": [
          "7628514662665322552",
          "-209818059361051895"
         ],
         "function": "metadsl_core.abstraction.Abstraction.__call__",
         "type_params": {
          "T": {
           "params": {
            "T": {
             "type": "metadsl_core.integer.Integer"
            },
            "U": {
             "type": "metadsl_core.integer.Integer"
            }
           },
           "type": "metadsl_core.abstraction.Abstraction"
          },
          "U": {
           "params": {
            "T": {
             "type": "metadsl_core.integer.Integer"
            },
            "U": {
             "type": "metadsl_core.integer.Integer"
            }
           },
           "type": "metadsl_core.abstraction.Abstraction"
          }
         }
        },
        "-4614480317379671085": {
         "args": [
          "7628514662665322552",
          "2331710445467566755"
         ],
         "function": "metadsl_core.abstraction.Abstraction.__call__",
         "type_params": {
          "T": {
           "params": {
            "T": {
             "type": "metadsl_core.integer.Integer"
            },
            "U": {
             "type": "metadsl_core.integer.Integer"
            }
           },
           "type": "metadsl_core.abstraction.Abstraction"
          },
          "U": {
           "params": {
            "T": {
             "type": "metadsl_core.integer.Integer"
            },
            "U": {
             "type": "metadsl_core.integer.Integer"
            }
           },
           "type": "metadsl_core.abstraction.Abstraction"
          }
         }
        },
        "-4665882918020507502": {
         "args": [
          "7628514662665322552",
          "6796218601387702607"
         ],
         "function": "metadsl_core.abstraction.Abstraction.__call__"
        },
        "-5010635001469781062": {
         "args": [
          "7628514662665322552",
          "-2007299065997409235"
         ],
         "function": "metadsl_core.abstraction.Abstraction.__call__",
         "type_params": {
          "T": {
           "params": {
            "T": {
             "type": "metadsl_core.integer.Integer"
            },
            "U": {
             "type": "metadsl_core.integer.Integer"
            }
           },
           "type": "metadsl_core.abstraction.Abstraction"
          },
          "U": {
           "params": {
            "T": {
             "type": "metadsl_core.integer.Integer"
            },
            "U": {
             "type": "metadsl_core.integer.Integer"
            }
           },
           "type": "metadsl_core.abstraction.Abstraction"
          }
         }
        },
        "-5069420806680336274": {
         "args": [
          "5186073387759941901"
         ],
         "function": "metadsl_core.integer.Integer.from_int"
        },
        "-5268661823573193356": {
         "args": [
          "7628514662665322552",
          "-8204434581709359007"
         ],
         "function": "metadsl_core.abstraction.Abstraction.__call__",
         "type_params": {
          "T": {
           "params": {
            "T": {
             "type": "metadsl_core.integer.Integer"
            },
            "U": {
             "type": "metadsl_core.integer.Integer"
            }
           },
           "type": "metadsl_core.abstraction.Abstraction"
          },
          "U": {
           "params": {
            "T": {
             "type": "metadsl_core.integer.Integer"
            },
            "U": {
             "type": "metadsl_core.integer.Integer"
            }
           },
           "type": "metadsl_core.abstraction.Abstraction"
          }
         }
        },
        "-5327340448543167604": {
         "args": [
          "-1586430641051322785",
          "7814337577433284266"
         ],
         "function": "metadsl_core.integer.Integer.eq"
        },
        "-5388172975163762488": {
         "args": [
          "7628514662665322552",
          "-6020741613412777737"
         ],
         "function": "metadsl_core.abstraction.Abstraction.__call__"
        },
        "-5503302212561128119": {
         "args": [
          "-8056730065414587116"
         ],
         "function": "metadsl_core.abstraction.Abstraction.create_variable",
         "type_params": {
          "T": {
           "params": {
            "T": {
             "type": "metadsl_core.integer.Integer"
            },
            "U": {
             "type": "metadsl_core.integer.Integer"
            }
           },
           "type": "metadsl_core.abstraction.Abstraction"
          },
          "U": {
           "params": {
            "T": {
             "type": "metadsl_core.integer.Integer"
            },
            "U": {
             "type": "metadsl_core.integer.Integer"
            }
           },
           "type": "metadsl_core.abstraction.Abstraction"
          }
         }
        },
        "-5513058863430495684": {
         "args": [
          "7628514662665322552",
          "-7020975098928864380"
         ],
         "function": "metadsl_core.abstraction.Abstraction.__call__"
        },
        "-5585406569052923846": {
         "args": [
          "7628514662665322552",
          "8567911919907001866"
         ],
         "function": "metadsl_core.abstraction.Abstraction.__call__"
        },
        "-5721684206666636905": {
         "args": [
          "-5722370896489897938",
          "7814337577433284266"
         ],
         "function": "metadsl_core.abstraction.Abstraction.__call__",
         "type_params": {
          "T": {
           "type": "metadsl_core.integer.Integer"
          },
          "U": {
           "type": "metadsl_core.integer.Integer"
          }
         }
        },
        "-5722370896489897938": {
         "args": [
          "7628514662665322552",
          "4147056713798574041"
         ],
         "function": "metadsl_core.abstraction.Abstraction.__call__"
        },
        "-574095700423075474": {
         "args": [
          "7628514662665322552",
          "-6308738200200844668"
         ],
         "function": "metadsl_core.abstraction.Abstraction.__call__"
        },
        "-580122994999795411": {
         "args": [
          "7628514662665322552",
          "-4412471871681987767"
         ],
         "function": "metadsl_core.abstraction.Abstraction.__call__"
        },
        "-5901907367610091466": {
         "args": [
          "-1586430641051322785",
          "6438210121806099349"
         ],
         "function": "metadsl_core.integer.Integer.__mul__"
        },
        "-5907885263429245663": {
         "args": [
          "-1941693581273827695",
          "7814337577433284266"
         ],
         "function": "metadsl_core.abstraction.Abstraction.__call__",
         "type_params": {
          "T": {
           "type": "metadsl_core.integer.Integer"
          },
          "U": {
           "type": "metadsl_core.integer.Integer"
          }
         }
        },
        "-5922246725141134570": {
         "args": [
          "-2033337655723828437",
          "7814337577433284266"
         ],
         "function": "metadsl_core.abstraction.Abstraction.__call__",
         "type_params": {
          "T": {
           "type": "metadsl_core.integer.Integer"
          },
          "U": {
           "type": "metadsl_core.integer.Integer"
          }
         }
        },
        "-6020741613412777737": {
         "args": [
          "7628514662665322552",
          "-6308738200200844668"
         ],
         "function": "metadsl_core.abstraction.Abstraction.__call__",
         "type_params": {
          "T": {
           "params": {
            "T": {
             "type": "metadsl_core.integer.Integer"
            },
            "U": {
             "type": "metadsl_core.integer.Integer"
            }
           },
           "type": "metadsl_core.abstraction.Abstraction"
          },
          "U": {
           "params": {
            "T": {
             "type": "metadsl_core.integer.Integer"
            },
            "U": {
             "type": "metadsl_core.integer.Integer"
            }
           },
           "type": "metadsl_core.abstraction.Abstraction"
          }
         }
        },
        "-6258042494314694926": {
         "args": [
          "447639734288499625",
          "7814337577433284266"
         ],
         "function": "metadsl_core.abstraction.Abstraction.__call__",
         "type_params": {
          "T": {
           "type": "metadsl_core.integer.Integer"
          },
          "U": {
           "type": "metadsl_core.integer.Integer"
          }
         }
        },
        "-6295493866811073941": {
         "args": [
          "7628514662665322552",
          "5868444623941193704"
         ],
         "function": "metadsl_core.abstraction.Abstraction.__call__"
        },
        "-6308738200200844668": {
         "args": [
          "7628514662665322552",
          "8357705490975949075"
         ],
         "function": "metadsl_core.abstraction.Abstraction.__call__",
         "type_params": {
          "T": {
           "params": {
            "T": {
             "type": "metadsl_core.integer.Integer"
            },
            "U": {
             "type": "metadsl_core.integer.Integer"
            }
           },
           "type": "metadsl_core.abstraction.Abstraction"
          },
          "U": {
           "params": {
            "T": {
             "type": "metadsl_core.integer.Integer"
            },
            "U": {
             "type": "metadsl_core.integer.Integer"
            }
           },
           "type": "metadsl_core.abstraction.Abstraction"
          }
         }
        },
        "-6342093924306242607": {
         "args": [
          "7628514662665322552",
          "1403282169595700726"
         ],
         "function": "metadsl_core.abstraction.Abstraction.__call__",
         "type_params": {
          "T": {
           "params": {
            "T": {
             "type": "metadsl_core.integer.Integer"
            },
            "U": {
             "type": "metadsl_core.integer.Integer"
            }
           },
           "type": "metadsl_core.abstraction.Abstraction"
          },
          "U": {
           "params": {
            "T": {
             "type": "metadsl_core.integer.Integer"
            },
            "U": {
             "type": "metadsl_core.integer.Integer"
            }
           },
           "type": "metadsl_core.abstraction.Abstraction"
          }
         }
        },
        "-6628464057981062216": {
         "args": [
          "7628514662665322552",
          "-3383023256671957712"
         ],
         "function": "metadsl_core.abstraction.Abstraction.__call__"
        },
        "-6988513651789988484": {
         "args": [
          "7628514662665322552",
          "9054941462142777415"
         ],
         "function": "metadsl_core.abstraction.Abstraction.__call__"
        },
        "-7020975098928864380": {
         "args": [
          "7628514662665322552",
          "-4412471871681987767"
         ],
         "function": "metadsl_core.abstraction.Abstraction.__call__",
         "type_params": {
          "T": {
           "params": {
            "T": {
             "type": "metadsl_core.integer.Integer"
            },
            "U": {
             "type": "metadsl_core.integer.Integer"
            }
           },
           "type": "metadsl_core.abstraction.Abstraction"
          },
          "U": {
           "params": {
            "T": {
             "type": "metadsl_core.integer.Integer"
            },
            "U": {
             "type": "metadsl_core.integer.Integer"
            }
           },
           "type": "metadsl_core.abstraction.Abstraction"
          }
         }
        },
        "-7055184705711064649": {
         "args": [
          "7628514662665322552",
          "4147056713798574041"
         ],
         "function": "metadsl_core.abstraction.Abstraction.__call__",
         "type_params": {
          "T": {
           "params": {
            "T": {
             "type": "metadsl_core.integer.Integer"
            },
            "U": {
             "type": "metadsl_core.integer.Integer"
            }
           },
           "type": "metadsl_core.abstraction.Abstraction"
          },
          "U": {
           "params": {
            "T": {
             "type": "metadsl_core.integer.Integer"
            },
            "U": {
             "type": "metadsl_core.integer.Integer"
            }
           },
           "type": "metadsl_core.abstraction.Abstraction"
          }
         }
        },
        "-7115243532461659702": {
         "args": [
          "7628514662665322552",
          "-6342093924306242607"
         ],
         "function": "metadsl_core.abstraction.Abstraction.__call__",
         "type_params": {
          "T": {
           "params": {
            "T": {
             "type": "metadsl_core.integer.Integer"
            },
            "U": {
             "type": "metadsl_core.integer.Integer"
            }
           },
           "type": "metadsl_core.abstraction.Abstraction"
          },
          "U": {
           "params": {
            "T": {
             "type": "metadsl_core.integer.Integer"
            },
            "U": {
             "type": "metadsl_core.integer.Integer"
            }
           },
           "type": "metadsl_core.abstraction.Abstraction"
          }
         }
        },
        "-7315080895798707987": {
         "args": [
          "8657830377898012205",
          "7814337577433284266"
         ],
         "function": "metadsl_core.abstraction.Abstraction.__call__",
         "type_params": {
          "T": {
           "type": "metadsl_core.integer.Integer"
          },
          "U": {
           "type": "metadsl_core.integer.Integer"
          }
         }
        },
        "-733038121001753991": {
         "args": [
          "7109704881712596049",
          "7814337577433284266"
         ],
         "function": "metadsl_core.abstraction.Abstraction.__call__",
         "type_params": {
          "T": {
           "type": "metadsl_core.integer.Integer"
          },
          "U": {
           "type": "metadsl_core.integer.Integer"
          }
         }
        },
        "-7606773225275332265": {
         "args": [
          "-1586430641051322785",
          "-5069420806680336274"
         ],
         "function": "metadsl_core.integer.Integer.__sub__"
        },
        "-7659079902182359893": {
         "args": [
          "7628514662665322552",
          "8268858953333368485"
         ],
         "function": "metadsl_core.abstraction.Abstraction.__call__",
         "type_params": {
          "T": {
           "params": {
            "T": {
             "type": "metadsl_core.integer.Integer"
            },
            "U": {
             "type": "metadsl_core.integer.Integer"
            }
           },
           "type": "metadsl_core.abstraction.Abstraction"
          },
          "U": {
           "params": {
            "T": {
             "type": "metadsl_core.integer.Integer"
            },
            "U": {
             "type": "metadsl_core.integer.Integer"
            }
           },
           "type": "metadsl_core.abstraction.Abstraction"
          }
         }
        },
        "-7765600304598004416": {
         "args": [
          "7628514662665322552",
          "7822369829517330646"
         ],
         "function": "metadsl_core.abstraction.Abstraction.__call__"
        },
        "-8056730065414587116": {
         "repr": "Variable(4559361472)",
         "type": "metadsl_core.abstraction.Variable"
        },
        "-8153637050074709849": {
         "args": [
          "7628514662665322552",
          "2723289848503144213"
         ],
         "function": "metadsl_core.abstraction.Abstraction.__call__"
        },
        "-8202234863710063317": {
         "args": [
          "6498127100859141534",
          "7814337577433284266"
         ],
         "function": "metadsl_core.abstraction.Abstraction.__call__",
         "type_params": {
          "T": {
           "type": "metadsl_core.integer.Integer"
          },
          "U": {
           "type": "metadsl_core.integer.Integer"
          }
         }
        },
        "-8204434581709359007": {
         "args": [
          "7628514662665322552",
          "505911620460692985"
         ],
         "function": "metadsl_core.abstraction.Abstraction.__call__",
         "type_params": {
          "T": {
           "params": {
            "T": {
             "type": "metadsl_core.integer.Integer"
            },
            "U": {
             "type": "metadsl_core.integer.Integer"
            }
           },
           "type": "metadsl_core.abstraction.Abstraction"
          },
          "U": {
           "params": {
            "T": {
             "type": "metadsl_core.integer.Integer"
            },
            "U": {
             "type": "metadsl_core.integer.Integer"
            }
           },
           "type": "metadsl_core.abstraction.Abstraction"
          }
         }
        },
        "-8205452022273783515": {
         "args": [
          "7628514662665322552",
          "-7659079902182359893"
         ],
         "function": "metadsl_core.abstraction.Abstraction.__call__"
        },
        "-8218550761382596313": {
         "args": [
          "-8486670667034872643",
          "7814337577433284266"
         ],
         "function": "metadsl_core.abstraction.Abstraction.__call__",
         "type_params": {
          "T": {
           "type": "metadsl_core.integer.Integer"
          },
          "U": {
           "type": "metadsl_core.integer.Integer"
          }
         }
        },
        "-8325032841961285589": {
         "args": [
          "-1956372672719499347",
          "7814337577433284266"
         ],
         "function": "metadsl_core.abstraction.Abstraction.__call__",
         "type_params": {
          "T": {
           "type": "metadsl_core.integer.Integer"
          },
          "U": {
           "type": "metadsl_core.integer.Integer"
          }
         }
        },
        "-8343561361196290502": {
         "args": [
          "2081375126865220130",
          "7814337577433284266"
         ],
         "function": "metadsl_core.abstraction.Abstraction.__call__",
         "type_params": {
          "T": {
           "type": "metadsl_core.integer.Integer"
          },
          "U": {
           "type": "metadsl_core.integer.Integer"
          }
         }
        },
        "-835866972099949881": {
         "args": [
          "-6628464057981062216",
          "7814337577433284266"
         ],
         "function": "metadsl_core.abstraction.Abstraction.__call__",
         "type_params": {
          "T": {
           "type": "metadsl_core.integer.Integer"
          },
          "U": {
           "type": "metadsl_core.integer.Integer"
          }
         }
        },
        "-8363686497451029910": {
         "args": [
          "618494611314788430",
          "7814337577433284266"
         ],
         "function": "metadsl_core.abstraction.Abstraction.__call__",
         "type_params": {
          "T": {
           "type": "metadsl_core.integer.Integer"
          },
          "U": {
           "type": "metadsl_core.integer.Integer"
          }
         }
        },
        "-8486670667034872643": {
         "args": [
          "7628514662665322552",
          "-8204434581709359007"
         ],
         "function": "metadsl_core.abstraction.Abstraction.__call__"
        },
        "-8667121272986620658": {
         "args": [
          "-1550706644341894386",
          "7814337577433284266"
         ],
         "function": "metadsl_core.abstraction.Abstraction.__call__",
         "type_params": {
          "T": {
           "type": "metadsl_core.integer.Integer"
          },
          "U": {
           "type": "metadsl_core.integer.Integer"
          }
         }
        },
        "-8759012429794759505": {
         "args": [
          "7628514662665322552",
          "8371647272118481268"
         ],
         "function": "metadsl_core.abstraction.Abstraction.__call__",
         "type_params": {
          "T": {
           "params": {
            "T": {
             "type": "metadsl_core.integer.Integer"
            },
            "U": {
             "type": "metadsl_core.integer.Integer"
            }
           },
           "type": "metadsl_core.abstraction.Abstraction"
          },
          "U": {
           "params": {
            "T": {
             "type": "metadsl_core.integer.Integer"
            },
            "U": {
             "type": "metadsl_core.integer.Integer"
            }
           },
           "type": "metadsl_core.abstraction.Abstraction"
          }
         }
        },
        "-8799191434186790424": {
         "args": [
          "2368215169715116261"
         ],
         "function": "metadsl_core.abstraction.Abstraction.from_fn"
        },
        "-8867094270965243940": {
         "args": [
          "7628514662665322552",
          "-7659079902182359893"
         ],
         "function": "metadsl_core.abstraction.Abstraction.__call__",
         "type_params": {
          "T": {
           "params": {
            "T": {
             "type": "metadsl_core.integer.Integer"
            },
            "U": {
             "type": "metadsl_core.integer.Integer"
            }
           },
           "type": "metadsl_core.abstraction.Abstraction"
          },
          "U": {
           "params": {
            "T": {
             "type": "metadsl_core.integer.Integer"
            },
            "U": {
             "type": "metadsl_core.integer.Integer"
            }
           },
           "type": "metadsl_core.abstraction.Abstraction"
          }
         }
        },
        "-8889946126049717097": {
         "args": [
          "7628514662665322552",
          "2791902455016118718"
         ],
         "function": "metadsl_core.abstraction.Abstraction.__call__",
         "type_params": {
          "T": {
           "params": {
            "T": {
             "type": "metadsl_core.integer.Integer"
            },
            "U": {
             "type": "metadsl_core.integer.Integer"
            }
           },
           "type": "metadsl_core.abstraction.Abstraction"
          },
          "U": {
           "params": {
            "T": {
             "type": "metadsl_core.integer.Integer"
            },
            "U": {
             "type": "metadsl_core.integer.Integer"
            }
           },
           "type": "metadsl_core.abstraction.Abstraction"
          }
         }
        },
        "-8963921019025933105": {
         "args": [
          "-5327340448543167604",
          "-5069420806680336274",
          "-5901907367610091466"
         ],
         "function": "metadsl_core.boolean.Boolean.if_"
        },
        "-9024235881057346588": {
         "args": [
          "2388592965542103355",
          "7814337577433284266"
         ],
         "function": "metadsl_core.abstraction.Abstraction.__call__",
         "type_params": {
          "T": {
           "type": "metadsl_core.integer.Integer"
          },
          "U": {
           "type": "metadsl_core.integer.Integer"
          }
         }
        },
        "-9028001110494735099": {
         "args": [
          "7628514662665322552",
          "9054941462142777415"
         ],
         "function": "metadsl_core.abstraction.Abstraction.__call__",
         "type_params": {
          "T": {
           "params": {
            "T": {
             "type": "metadsl_core.integer.Integer"
            },
            "U": {
             "type": "metadsl_core.integer.Integer"
            }
           },
           "type": "metadsl_core.abstraction.Abstraction"
          },
          "U": {
           "params": {
            "T": {
             "type": "metadsl_core.integer.Integer"
            },
            "U": {
             "type": "metadsl_core.integer.Integer"
            }
           },
           "type": "metadsl_core.abstraction.Abstraction"
          }
         }
        },
        "-9059288213799259955": {
         "args": [
          "8523847679072234520",
          "7814337577433284266"
         ],
         "function": "metadsl_core.abstraction.Abstraction.__call__",
         "type_params": {
          "T": {
           "type": "metadsl_core.integer.Integer"
          },
          "U": {
           "type": "metadsl_core.integer.Integer"
          }
         }
        },
        "-9060452756135316542": {
         "args": [
          "7628514662665322552",
          "-8759012429794759505"
         ],
         "function": "metadsl_core.abstraction.Abstraction.__call__",
         "type_params": {
          "T": {
           "params": {
            "T": {
             "type": "metadsl_core.integer.Integer"
            },
            "U": {
             "type": "metadsl_core.integer.Integer"
            }
           },
           "type": "metadsl_core.abstraction.Abstraction"
          },
          "U": {
           "params": {
            "T": {
             "type": "metadsl_core.integer.Integer"
            },
            "U": {
             "type": "metadsl_core.integer.Integer"
            }
           },
           "type": "metadsl_core.abstraction.Abstraction"
          }
         }
        },
        "-9074637276641173925": {
         "args": [
          "7628514662665322552",
          "2320826589996878056"
         ],
         "function": "metadsl_core.abstraction.Abstraction.__call__"
        },
        "1166641969394216442": {
         "repr": "Variable(4559391656)",
         "type": "metadsl_core.abstraction.Variable"
        },
        "1192574389423187946": {
         "args": [
          "-8205452022273783515",
          "7814337577433284266"
         ],
         "function": "metadsl_core.abstraction.Abstraction.__call__",
         "type_params": {
          "T": {
           "type": "metadsl_core.integer.Integer"
          },
          "U": {
           "type": "metadsl_core.integer.Integer"
          }
         }
        },
        "1194273964579265619": {
         "args": [
          "-7765600304598004416",
          "7814337577433284266"
         ],
         "function": "metadsl_core.abstraction.Abstraction.__call__",
         "type_params": {
          "T": {
           "type": "metadsl_core.integer.Integer"
          },
          "U": {
           "type": "metadsl_core.integer.Integer"
          }
         }
        },
        "1383947478788917484": {
         "args": [
          "4411733568251240067",
          "7814337577433284266"
         ],
         "function": "metadsl_core.abstraction.Abstraction.__call__",
         "type_params": {
          "T": {
           "type": "metadsl_core.integer.Integer"
          },
          "U": {
           "type": "metadsl_core.integer.Integer"
          }
         }
        },
        "1403282169595700726": {
         "args": [
          "7628514662665322552",
          "5380139940284989513"
         ],
         "function": "metadsl_core.abstraction.Abstraction.__call__",
         "type_params": {
          "T": {
           "params": {
            "T": {
             "type": "metadsl_core.integer.Integer"
            },
            "U": {
             "type": "metadsl_core.integer.Integer"
            }
           },
           "type": "metadsl_core.abstraction.Abstraction"
          },
          "U": {
           "params": {
            "T": {
             "type": "metadsl_core.integer.Integer"
            },
            "U": {
             "type": "metadsl_core.integer.Integer"
            }
           },
           "type": "metadsl_core.abstraction.Abstraction"
          }
         }
        },
        "1475264458477962596": {
         "args": [
          "6072780912940882197"
         ],
         "function": "metadsl_core.abstraction.Abstraction.fix"
        },
        "1561792970651252872": {
         "args": [
          "7628514662665322552",
          "-8867094270965243940"
         ],
         "function": "metadsl_core.abstraction.Abstraction.__call__"
        },
        "188194231734855770": {
         "args": [
          "-1162303506001063164",
          "7814337577433284266"
         ],
         "function": "metadsl_core.abstraction.Abstraction.__call__",
         "type_params": {
          "T": {
           "type": "metadsl_core.integer.Integer"
          },
          "U": {
           "type": "metadsl_core.integer.Integer"
          }
         }
        },
        "2081375126865220130": {
         "args": [
          "7628514662665322552",
          "6778197262413158085"
         ],
         "function": "metadsl_core.abstraction.Abstraction.__call__"
        },
        "2279595913126844188": {
         "args": [
          "7628514662665322552",
          "237010475521693849"
         ],
         "function": "metadsl_core.abstraction.Abstraction.__call__",
         "type_params": {
          "T": {
           "params": {
            "T": {
             "type": "metadsl_core.integer.Integer"
            },
            "U": {
             "type": "metadsl_core.integer.Integer"
            }
           },
           "type": "metadsl_core.abstraction.Abstraction"
          },
          "U": {
           "params": {
            "T": {
             "type": "metadsl_core.integer.Integer"
            },
            "U": {
             "type": "metadsl_core.integer.Integer"
            }
           },
           "type": "metadsl_core.abstraction.Abstraction"
          }
         }
        },
        "2285902436194321751": {
         "args": [
          "-1586430641051322785",
          "-8963921019025933105"
         ],
         "function": "metadsl_core.abstraction.Abstraction.create",
         "type_params": {
          "T": {
           "type": "metadsl_core.integer.Integer"
          },
          "U": {
           "type": "metadsl_core.integer.Integer"
          }
         }
        },
        "2289398314973508445": {
         "args": [
          "-4275912954504573072",
          "7814337577433284266"
         ],
         "function": "metadsl_core.abstraction.Abstraction.__call__",
         "type_params": {
          "T": {
           "type": "metadsl_core.integer.Integer"
          },
          "U": {
           "type": "metadsl_core.integer.Integer"
          }
         }
        },
        "2320826589996878056": {
         "args": [
          "7628514662665322552",
          "-4614480317379671085"
         ],
         "function": "metadsl_core.abstraction.Abstraction.__call__",
         "type_params": {
          "T": {
           "params": {
            "T": {
             "type": "metadsl_core.integer.Integer"
            },
            "U": {
             "type": "metadsl_core.integer.Integer"
            }
           },
           "type": "metadsl_core.abstraction.Abstraction"
          },
          "U": {
           "params": {
            "T": {
             "type": "metadsl_core.integer.Integer"
            },
            "U": {
             "type": "metadsl_core.integer.Integer"
            }
           },
           "type": "metadsl_core.abstraction.Abstraction"
          }
         }
        },
        "2331710445467566755": {
         "args": [
          "7628514662665322552",
          "6778197262413158085"
         ],
         "function": "metadsl_core.abstraction.Abstraction.__call__",
         "type_params": {
          "T": {
           "params": {
            "T": {
             "type": "metadsl_core.integer.Integer"
            },
            "U": {
             "type": "metadsl_core.integer.Integer"
            }
           },
           "type": "metadsl_core.abstraction.Abstraction"
          },
          "U": {
           "params": {
            "T": {
             "type": "metadsl_core.integer.Integer"
            },
            "U": {
             "type": "metadsl_core.integer.Integer"
            }
           },
           "type": "metadsl_core.abstraction.Abstraction"
          }
         }
        },
        "2368215169715116261": {
         "repr": "<function factorial.<locals>.inner at 0x10f509400>",
         "type": "function"
        },
        "2368215322265621786": {
         "repr": "<function factorial at 0x10fae3d90>",
         "type": "function"
        },
        "237010475521693849": {
         "args": [
          "7628514662665322552",
          "8661247601959361780"
         ],
         "function": "metadsl_core.abstraction.Abstraction.__call__",
         "type_params": {
          "T": {
           "params": {
            "T": {
             "type": "metadsl_core.integer.Integer"
            },
            "U": {
             "type": "metadsl_core.integer.Integer"
            }
           },
           "type": "metadsl_core.abstraction.Abstraction"
          },
          "U": {
           "params": {
            "T": {
             "type": "metadsl_core.integer.Integer"
            },
            "U": {
             "type": "metadsl_core.integer.Integer"
            }
           },
           "type": "metadsl_core.abstraction.Abstraction"
          }
         }
        },
        "2388592965542103355": {
         "args": [
          "7628514662665322552",
          "-2007299065997409235"
         ],
         "function": "metadsl_core.abstraction.Abstraction.__call__"
        },
        "238970987535152334": {
         "args": [
          "5218391051610078705",
          "7814337577433284266"
         ],
         "function": "metadsl_core.abstraction.Abstraction.__call__",
         "type_params": {
          "T": {
           "type": "metadsl_core.integer.Integer"
          },
          "U": {
           "type": "metadsl_core.integer.Integer"
          }
         }
        },
        "2723289848503144213": {
         "args": [
          "7628514662665322552",
          "4198046585309805210"
         ],
         "function": "metadsl_core.abstraction.Abstraction.__call__",
         "type_params": {
          "T": {
           "params": {
            "T": {
             "type": "metadsl_core.integer.Integer"
            },
            "U": {
             "type": "metadsl_core.integer.Integer"
            }
           },
           "type": "metadsl_core.abstraction.Abstraction"
          },
          "U": {
           "params": {
            "T": {
             "type": "metadsl_core.integer.Integer"
            },
            "U": {
             "type": "metadsl_core.integer.Integer"
            }
           },
           "type": "metadsl_core.abstraction.Abstraction"
          }
         }
        },
        "2791902455016118718": {
         "args": [
          "7628514662665322552",
          "2723289848503144213"
         ],
         "function": "metadsl_core.abstraction.Abstraction.__call__",
         "type_params": {
          "T": {
           "params": {
            "T": {
             "type": "metadsl_core.integer.Integer"
            },
            "U": {
             "type": "metadsl_core.integer.Integer"
            }
           },
           "type": "metadsl_core.abstraction.Abstraction"
          },
          "U": {
           "params": {
            "T": {
             "type": "metadsl_core.integer.Integer"
            },
            "U": {
             "type": "metadsl_core.integer.Integer"
            }
           },
           "type": "metadsl_core.abstraction.Abstraction"
          }
         }
        },
        "2857461569398487310": {
         "args": [
          "-1322646637160510258",
          "7814337577433284266"
         ],
         "function": "metadsl_core.abstraction.Abstraction.__call__",
         "type_params": {
          "T": {
           "type": "metadsl_core.integer.Integer"
          },
          "U": {
           "type": "metadsl_core.integer.Integer"
          }
         }
        },
        "2964003969081292467": {
         "args": [
          "-6295493866811073941",
          "7814337577433284266"
         ],
         "function": "metadsl_core.abstraction.Abstraction.__call__",
         "type_params": {
          "T": {
           "type": "metadsl_core.integer.Integer"
          },
          "U": {
           "type": "metadsl_core.integer.Integer"
          }
         }
        },
        "3013261073585352146": {
         "args": [
          "-8153637050074709849",
          "7814337577433284266"
         ],
         "function": "metadsl_core.abstraction.Abstraction.__call__",
         "type_params": {
          "T": {
           "type": "metadsl_core.integer.Integer"
          },
          "U": {
           "type": "metadsl_core.integer.Integer"
          }
         }
        },
        "3126495990918983276": {
         "args": [
          "7628514662665322552",
          "4198046585309805210"
         ],
         "function": "metadsl_core.abstraction.Abstraction.__call__"
        },
        "3329485215973120185": {
         "args": [
          "-2030029611427609328",
          "7814337577433284266"
         ],
         "function": "metadsl_core.abstraction.Abstraction.__call__",
         "type_params": {
          "T": {
           "type": "metadsl_core.integer.Integer"
          },
          "U": {
           "type": "metadsl_core.integer.Integer"
          }
         }
        },
        "3464502360774209126": {
         "args": [
          "7628514662665322552",
          "-9060452756135316542"
         ],
         "function": "metadsl_core.abstraction.Abstraction.__call__"
        },
        "3469868347825974000": {
         "args": [
          "7628514662665322552",
          "8568844669360334794"
         ],
         "function": "metadsl_core.abstraction.Abstraction.__call__",
         "type_params": {
          "T": {
           "params": {
            "T": {
             "type": "metadsl_core.integer.Integer"
            },
            "U": {
             "type": "metadsl_core.integer.Integer"
            }
           },
           "type": "metadsl_core.abstraction.Abstraction"
          },
          "U": {
           "params": {
            "T": {
             "type": "metadsl_core.integer.Integer"
            },
            "U": {
             "type": "metadsl_core.integer.Integer"
            }
           },
           "type": "metadsl_core.abstraction.Abstraction"
          }
         }
        },
        "3733250469902050516": {
         "args": [
          "-5503302212561128119",
          "-8799191434186790424"
         ],
         "function": "metadsl_core.abstraction.Abstraction.create",
         "type_params": {
          "T": {
           "params": {
            "T": {
             "type": "metadsl_core.integer.Integer"
            },
            "U": {
             "type": "metadsl_core.integer.Integer"
            }
           },
           "type": "metadsl_core.abstraction.Abstraction"
          },
          "U": {
           "params": {
            "T": {
             "type": "metadsl_core.integer.Integer"
            },
            "U": {
             "type": "metadsl_core.integer.Integer"
            }
           },
           "type": "metadsl_core.abstraction.Abstraction"
          }
         }
        },
        "3803761213456993537": {
         "args": [
          "7628514662665322552",
          "7822369829517330646"
         ],
         "function": "metadsl_core.abstraction.Abstraction.__call__",
         "type_params": {
          "T": {
           "params": {
            "T": {
             "type": "metadsl_core.integer.Integer"
            },
            "U": {
             "type": "metadsl_core.integer.Integer"
            }
           },
           "type": "metadsl_core.abstraction.Abstraction"
          },
          "U": {
           "params": {
            "T": {
             "type": "metadsl_core.integer.Integer"
            },
            "U": {
             "type": "metadsl_core.integer.Integer"
            }
           },
           "type": "metadsl_core.abstraction.Abstraction"
          }
         }
        },
        "3824966728325024653": {
         "args": [
          "-3130723432032829308",
          "7814337577433284266"
         ],
         "function": "metadsl_core.abstraction.Abstraction.__call__",
         "type_params": {
          "T": {
           "type": "metadsl_core.integer.Integer"
          },
          "U": {
           "type": "metadsl_core.integer.Integer"
          }
         }
        },
        "38837657719720672": {
         "args": [
          "7628514662665322552",
          "505911620460692985"
         ],
         "function": "metadsl_core.abstraction.Abstraction.__call__"
        },
        "3915239293113848406": {
         "args": [
          "7628514662665322552",
          "-4417164004284607623"
         ],
         "function": "metadsl_core.abstraction.Abstraction.__call__"
        },
        "4112017844176516454": {
         "args": [
          "8738490947078486333",
          "7814337577433284266"
         ],
         "function": "metadsl_core.abstraction.Abstraction.__call__",
         "type_params": {
          "T": {
           "type": "metadsl_core.integer.Integer"
          },
          "U": {
           "type": "metadsl_core.integer.Integer"
          }
         }
        },
        "4115156350241670111": {
         "args": [
          "7628514662665322552",
          "-4417164004284607623"
         ],
         "function": "metadsl_core.abstraction.Abstraction.__call__",
         "type_params": {
          "T": {
           "params": {
            "T": {
             "type": "metadsl_core.integer.Integer"
            },
            "U": {
             "type": "metadsl_core.integer.Integer"
            }
           },
           "type": "metadsl_core.abstraction.Abstraction"
          },
          "U": {
           "params": {
            "T": {
             "type": "metadsl_core.integer.Integer"
            },
            "U": {
             "type": "metadsl_core.integer.Integer"
            }
           },
           "type": "metadsl_core.abstraction.Abstraction"
          }
         }
        },
        "4130368115147200976": {
         "args": [
          "7628514662665322552",
          "4764864007232225585"
         ],
         "function": "metadsl_core.abstraction.Abstraction.__call__",
         "type_params": {
          "T": {
           "params": {
            "T": {
             "type": "metadsl_core.integer.Integer"
            },
            "U": {
             "type": "metadsl_core.integer.Integer"
            }
           },
           "type": "metadsl_core.abstraction.Abstraction"
          },
          "U": {
           "params": {
            "T": {
             "type": "metadsl_core.integer.Integer"
            },
            "U": {
             "type": "metadsl_core.integer.Integer"
            }
           },
           "type": "metadsl_core.abstraction.Abstraction"
          }
         }
        },
        "4147056713798574041": {
         "args": [
          "7628514662665322552",
          "-3383023256671957712"
         ],
         "function": "metadsl_core.abstraction.Abstraction.__call__",
         "type_params": {
          "T": {
           "params": {
            "T": {
             "type": "metadsl_core.integer.Integer"
            },
            "U": {
             "type": "metadsl_core.integer.Integer"
            }
           },
           "type": "metadsl_core.abstraction.Abstraction"
          },
          "U": {
           "params": {
            "T": {
             "type": "metadsl_core.integer.Integer"
            },
            "U": {
             "type": "metadsl_core.integer.Integer"
            }
           },
           "type": "metadsl_core.abstraction.Abstraction"
          }
         }
        },
        "4198046585309805210": {
         "args": [
          "7628514662665322552",
          "2320826589996878056"
         ],
         "function": "metadsl_core.abstraction.Abstraction.__call__",
         "type_params": {
          "T": {
           "params": {
            "T": {
             "type": "metadsl_core.integer.Integer"
            },
            "U": {
             "type": "metadsl_core.integer.Integer"
            }
           },
           "type": "metadsl_core.abstraction.Abstraction"
          },
          "U": {
           "params": {
            "T": {
             "type": "metadsl_core.integer.Integer"
            },
            "U": {
             "type": "metadsl_core.integer.Integer"
            }
           },
           "type": "metadsl_core.abstraction.Abstraction"
          }
         }
        },
        "4323247547539502761": {
         "args": [
          "7628514662665322552",
          "-4614480317379671085"
         ],
         "function": "metadsl_core.abstraction.Abstraction.__call__"
        },
        "4411733568251240067": {
         "args": [
          "7628514662665322552",
          "-8759012429794759505"
         ],
         "function": "metadsl_core.abstraction.Abstraction.__call__"
        },
        "4435161132090495840": {
         "args": [
          "7628514662665322552",
          "-1651931199231302633"
         ],
         "function": "metadsl_core.abstraction.Abstraction.__call__"
        },
        "447639734288499625": {
         "args": [
          "7628514662665322552",
          "-3860302012659092736"
         ],
         "function": "metadsl_core.abstraction.Abstraction.__call__"
        },
        "4764864007232225585": {
         "args": [
          "7628514662665322552",
          "3469868347825974000"
         ],
         "function": "metadsl_core.abstraction.Abstraction.__call__",
         "type_params": {
          "T": {
           "params": {
            "T": {
             "type": "metadsl_core.integer.Integer"
            },
            "U": {
             "type": "metadsl_core.integer.Integer"
            }
           },
           "type": "metadsl_core.abstraction.Abstraction"
          },
          "U": {
           "params": {
            "T": {
             "type": "metadsl_core.integer.Integer"
            },
            "U": {
             "type": "metadsl_core.integer.Integer"
            }
           },
           "type": "metadsl_core.abstraction.Abstraction"
          }
         }
        },
        "480813817698061524": {
         "args": [
          "-3766609887572473407",
          "7814337577433284266"
         ],
         "function": "metadsl_core.abstraction.Abstraction.__call__",
         "type_params": {
          "T": {
           "type": "metadsl_core.integer.Integer"
          },
          "U": {
           "type": "metadsl_core.integer.Integer"
          }
         }
        },
        "505911620460692985": {
         "args": [
          "7628514662665322552",
          "-7055184705711064649"
         ],
         "function": "metadsl_core.abstraction.Abstraction.__call__",
         "type_params": {
          "T": {
           "params": {
            "T": {
             "type": "metadsl_core.integer.Integer"
            },
            "U": {
             "type": "metadsl_core.integer.Integer"
            }
           },
           "type": "metadsl_core.abstraction.Abstraction"
          },
          "U": {
           "params": {
            "T": {
             "type": "metadsl_core.integer.Integer"
            },
            "U": {
             "type": "metadsl_core.integer.Integer"
            }
           },
           "type": "metadsl_core.abstraction.Abstraction"
          }
         }
        },
        "5186073387759941901": {
         "repr": "1",
         "type": "int"
        },
        "5186073387761024426": {
         "repr": "0",
         "type": "int"
        },
        "5186788248098924488": {
         "args": [
          "7628514662665322552",
          "4130368115147200976"
         ],
         "function": "metadsl_core.abstraction.Abstraction.__call__"
        },
        "5218391051610078705": {
         "args": [
          "7628514662665322552",
          "4764864007232225585"
         ],
         "function": "metadsl_core.abstraction.Abstraction.__call__"
        },
        "5380139940284989513": {
         "args": [
          "7628514662665322552",
          "4130368115147200976"
         ],
         "function": "metadsl_core.abstraction.Abstraction.__call__",
         "type_params": {
          "T": {
           "params": {
            "T": {
             "type": "metadsl_core.integer.Integer"
            },
            "U": {
             "type": "metadsl_core.integer.Integer"
            }
           },
           "type": "metadsl_core.abstraction.Abstraction"
          },
          "U": {
           "params": {
            "T": {
             "type": "metadsl_core.integer.Integer"
            },
            "U": {
             "type": "metadsl_core.integer.Integer"
            }
           },
           "type": "metadsl_core.abstraction.Abstraction"
          }
         }
        },
        "5392314716423534684": {
         "args": [
          "-1062374103796581992",
          "7814337577433284266"
         ],
         "function": "metadsl_core.abstraction.Abstraction.__call__",
         "type_params": {
          "T": {
           "type": "metadsl_core.integer.Integer"
          },
          "U": {
           "type": "metadsl_core.integer.Integer"
          }
         }
        },
        "5394508239049852987": {
         "args": [
          "-9074637276641173925",
          "7814337577433284266"
         ],
         "function": "metadsl_core.abstraction.Abstraction.__call__",
         "type_params": {
          "T": {
           "type": "metadsl_core.integer.Integer"
          },
          "U": {
           "type": "metadsl_core.integer.Integer"
          }
         }
        },
        "5421336470322864914": {
         "args": [
          "-6988513651789988484",
          "7814337577433284266"
         ],
         "function": "metadsl_core.abstraction.Abstraction.__call__",
         "type_params": {
          "T": {
           "type": "metadsl_core.integer.Integer"
          },
          "U": {
           "type": "metadsl_core.integer.Integer"
          }
         }
        },
        "5620450069190268915": {
         "args": [
          "5186788248098924488",
          "7814337577433284266"
         ],
         "function": "metadsl_core.abstraction.Abstraction.__call__",
         "type_params": {
          "T": {
           "type": "metadsl_core.integer.Integer"
          },
          "U": {
           "type": "metadsl_core.integer.Integer"
          }
         }
        },
        "5739341560288557925": {
         "args": [
          "7628514662665322552",
          "237010475521693849"
         ],
         "function": "metadsl_core.abstraction.Abstraction.__call__"
        },
        "5868444623941193704": {
         "args": [
          "7628514662665322552",
          "-3860302012659092736"
         ],
         "function": "metadsl_core.abstraction.Abstraction.__call__",
         "type_params": {
          "T": {
           "params": {
            "T": {
             "type": "metadsl_core.integer.Integer"
            },
            "U": {
             "type": "metadsl_core.integer.Integer"
            }
           },
           "type": "metadsl_core.abstraction.Abstraction"
          },
          "U": {
           "params": {
            "T": {
             "type": "metadsl_core.integer.Integer"
            },
            "U": {
             "type": "metadsl_core.integer.Integer"
            }
           },
           "type": "metadsl_core.abstraction.Abstraction"
          }
         }
        },
        "5940868264275590359": {
         "args": [
          "903596718172999105",
          "7814337577433284266"
         ],
         "function": "metadsl_core.abstraction.Abstraction.__call__",
         "type_params": {
          "T": {
           "type": "metadsl_core.integer.Integer"
          },
          "U": {
           "type": "metadsl_core.integer.Integer"
          }
         }
        },
        "6023920303463474873": {
         "args": [
          "7678862680369368415",
          "7814337577433284266"
         ],
         "function": "metadsl_core.abstraction.Abstraction.__call__",
         "type_params": {
          "T": {
           "type": "metadsl_core.integer.Integer"
          },
          "U": {
           "type": "metadsl_core.integer.Integer"
          }
         }
        },
        "6072780912940882197": {
         "args": [
          "2368215322265621786"
         ],
         "function": "metadsl_core.abstraction.Abstraction.from_fn"
        },
        "6138202689136561841": {
         "args": [
          "6906790930898825515",
          "7814337577433284266"
         ],
         "function": "metadsl_core.abstraction.Abstraction.__call__",
         "type_params": {
          "T": {
           "type": "metadsl_core.integer.Integer"
          },
          "U": {
           "type": "metadsl_core.integer.Integer"
          }
         }
        },
        "618494611314788430": {
         "args": [
          "7628514662665322552",
          "2791902455016118718"
         ],
         "function": "metadsl_core.abstraction.Abstraction.__call__"
        },
        "6438210121806099349": {
         "args": [
          "-5503302212561128119",
          "-7606773225275332265"
         ],
         "function": "metadsl_core.abstraction.Abstraction.__call__",
         "type_params": {
          "T": {
           "type": "metadsl_core.integer.Integer"
          },
          "U": {
           "type": "metadsl_core.integer.Integer"
          }
         }
        },
        "6498127100859141534": {
         "args": [
          "7628514662665322552",
          "-2462819246705394543"
         ],
         "function": "metadsl_core.abstraction.Abstraction.__call__"
        },
        "6557099315573168743": {
         "args": [
          "7955510044765035312",
          "7814337577433284266"
         ],
         "function": "metadsl_core.abstraction.Abstraction.__call__",
         "type_params": {
          "T": {
           "type": "metadsl_core.integer.Integer"
          },
          "U": {
           "type": "metadsl_core.integer.Integer"
          }
         }
        },
        "6741395947897344973": {
         "args": [
          "6884812477232366944",
          "7814337577433284266"
         ],
         "function": "metadsl_core.abstraction.Abstraction.__call__",
         "type_params": {
          "T": {
           "type": "metadsl_core.integer.Integer"
          },
          "U": {
           "type": "metadsl_core.integer.Integer"
          }
         }
        },
        "6778197262413158085": {
         "args": [
          "7628514662665322552",
          "-7020975098928864380"
         ],
         "function": "metadsl_core.abstraction.Abstraction.__call__",
         "type_params": {
          "T": {
           "params": {
            "T": {
             "type": "metadsl_core.integer.Integer"
            },
            "U": {
             "type": "metadsl_core.integer.Integer"
            }
           },
           "type": "metadsl_core.abstraction.Abstraction"
          },
          "U": {
           "params": {
            "T": {
             "type": "metadsl_core.integer.Integer"
            },
            "U": {
             "type": "metadsl_core.integer.Integer"
            }
           },
           "type": "metadsl_core.abstraction.Abstraction"
          }
         }
        },
        "6796218601387702607": {
         "args": [
          "7628514662665322552",
          "-9060452756135316542"
         ],
         "function": "metadsl_core.abstraction.Abstraction.__call__",
         "type_params": {
          "T": {
           "params": {
            "T": {
             "type": "metadsl_core.integer.Integer"
            },
            "U": {
             "type": "metadsl_core.integer.Integer"
            }
           },
           "type": "metadsl_core.abstraction.Abstraction"
          },
          "U": {
           "params": {
            "T": {
             "type": "metadsl_core.integer.Integer"
            },
            "U": {
             "type": "metadsl_core.integer.Integer"
            }
           },
           "type": "metadsl_core.abstraction.Abstraction"
          }
         }
        },
        "6884812477232366944": {
         "args": [
          "7628514662665322552",
          "-9028001110494735099"
         ],
         "function": "metadsl_core.abstraction.Abstraction.__call__"
        },
        "6906790930898825515": {
         "args": [
          "7628514662665322552",
          "-5010635001469781062"
         ],
         "function": "metadsl_core.abstraction.Abstraction.__call__"
        },
        "7109704881712596049": {
         "args": [
          "7628514662665322552",
          "8568844669360334794"
         ],
         "function": "metadsl_core.abstraction.Abstraction.__call__"
        },
        "7136157899833762640": {
         "args": [
          "1561792970651252872",
          "7814337577433284266"
         ],
         "function": "metadsl_core.abstraction.Abstraction.__call__",
         "type_params": {
          "T": {
           "type": "metadsl_core.integer.Integer"
          },
          "U": {
           "type": "metadsl_core.integer.Integer"
          }
         }
        },
        "7173143578522098047": {
         "args": [
          "-5513058863430495684",
          "7814337577433284266"
         ],
         "function": "metadsl_core.abstraction.Abstraction.__call__",
         "type_params": {
          "T": {
           "type": "metadsl_core.integer.Integer"
          },
          "U": {
           "type": "metadsl_core.integer.Integer"
          }
         }
        },
        "7308061619270420554": {
         "args": [
          "7628514662665322552",
          "8268858953333368485"
         ],
         "function": "metadsl_core.abstraction.Abstraction.__call__"
        },
        "7628514662665322552": {
         "args": [
          "-5503302212561128119",
          "2285902436194321751"
         ],
         "function": "metadsl_core.abstraction.Abstraction.create",
         "type_params": {
          "T": {
           "params": {
            "T": {
             "type": "metadsl_core.integer.Integer"
            },
            "U": {
             "type": "metadsl_core.integer.Integer"
            }
           },
           "type": "metadsl_core.abstraction.Abstraction"
          },
          "U": {
           "params": {
            "T": {
             "type": "metadsl_core.integer.Integer"
            },
            "U": {
             "type": "metadsl_core.integer.Integer"
            }
           },
           "type": "metadsl_core.abstraction.Abstraction"
          }
         }
        },
        "7678862680369368415": {
         "args": [
          "7628514662665322552",
          "-8889946126049717097"
         ],
         "function": "metadsl_core.abstraction.Abstraction.__call__"
        },
        "7814337577433284266": {
         "args": [
          "5186073387761024426"
         ],
         "function": "metadsl_core.integer.Integer.from_int"
        },
        "7822369829517330646": {
         "args": [
          "7628514662665322552",
          "-8889946126049717097"
         ],
         "function": "metadsl_core.abstraction.Abstraction.__call__",
         "type_params": {
          "T": {
           "params": {
            "T": {
             "type": "metadsl_core.integer.Integer"
            },
            "U": {
             "type": "metadsl_core.integer.Integer"
            }
           },
           "type": "metadsl_core.abstraction.Abstraction"
          },
          "U": {
           "params": {
            "T": {
             "type": "metadsl_core.integer.Integer"
            },
            "U": {
             "type": "metadsl_core.integer.Integer"
            }
           },
           "type": "metadsl_core.abstraction.Abstraction"
          }
         }
        },
        "7955510044765035312": {
         "args": [
          "7628514662665322552",
          "-1056980846980344167"
         ],
         "function": "metadsl_core.abstraction.Abstraction.__call__"
        },
        "8012777766372799733": {
         "args": [
          "8801716091190500722",
          "7814337577433284266"
         ],
         "function": "metadsl_core.abstraction.Abstraction.__call__",
         "type_params": {
          "T": {
           "type": "metadsl_core.integer.Integer"
          },
          "U": {
           "type": "metadsl_core.integer.Integer"
          }
         }
        },
        "8090202149031023986": {
         "args": [
          "-218263212931357576",
          "7814337577433284266"
         ],
         "function": "metadsl_core.abstraction.Abstraction.__call__",
         "type_params": {
          "T": {
           "type": "metadsl_core.integer.Integer"
          },
          "U": {
           "type": "metadsl_core.integer.Integer"
          }
         }
        },
        "8117546607995102643": {
         "args": [
          "7628514662665322552",
          "6796218601387702607"
         ],
         "function": "metadsl_core.abstraction.Abstraction.__call__",
         "type_params": {
          "T": {
           "params": {
            "T": {
             "type": "metadsl_core.integer.Integer"
            },
            "U": {
             "type": "metadsl_core.integer.Integer"
            }
           },
           "type": "metadsl_core.abstraction.Abstraction"
          },
          "U": {
           "params": {
            "T": {
             "type": "metadsl_core.integer.Integer"
            },
            "U": {
             "type": "metadsl_core.integer.Integer"
            }
           },
           "type": "metadsl_core.abstraction.Abstraction"
          }
         }
        },
        "8268858953333368485": {
         "args": [
          "7628514662665322552"
         ],
         "function": "metadsl_core.abstraction.Abstraction.fix"
        },
        "831953872212786657": {
         "args": [
          "7628514662665322552",
          "-9028001110494735099"
         ],
         "function": "metadsl_core.abstraction.Abstraction.__call__",
         "type_params": {
          "T": {
           "params": {
            "T": {
             "type": "metadsl_core.integer.Integer"
            },
            "U": {
             "type": "metadsl_core.integer.Integer"
            }
           },
           "type": "metadsl_core.abstraction.Abstraction"
          },
          "U": {
           "params": {
            "T": {
             "type": "metadsl_core.integer.Integer"
            },
            "U": {
             "type": "metadsl_core.integer.Integer"
            }
           },
           "type": "metadsl_core.abstraction.Abstraction"
          }
         }
        },
        "8357705490975949075": {
         "args": [
          "7628514662665322552",
          "-1640377585501512735"
         ],
         "function": "metadsl_core.abstraction.Abstraction.__call__",
         "type_params": {
          "T": {
           "params": {
            "T": {
             "type": "metadsl_core.integer.Integer"
            },
            "U": {
             "type": "metadsl_core.integer.Integer"
            }
           },
           "type": "metadsl_core.abstraction.Abstraction"
          },
          "U": {
           "params": {
            "T": {
             "type": "metadsl_core.integer.Integer"
            },
            "U": {
             "type": "metadsl_core.integer.Integer"
            }
           },
           "type": "metadsl_core.abstraction.Abstraction"
          }
         }
        },
        "8371647272118481268": {
         "args": [
          "7628514662665322552",
          "-4547128079850781267"
         ],
         "function": "metadsl_core.abstraction.Abstraction.__call__",
         "type_params": {
          "T": {
           "params": {
            "T": {
             "type": "metadsl_core.integer.Integer"
            },
            "U": {
             "type": "metadsl_core.integer.Integer"
            }
           },
           "type": "metadsl_core.abstraction.Abstraction"
          },
          "U": {
           "params": {
            "T": {
             "type": "metadsl_core.integer.Integer"
            },
            "U": {
             "type": "metadsl_core.integer.Integer"
            }
           },
           "type": "metadsl_core.abstraction.Abstraction"
          }
         }
        },
        "8382683443292746127": {
         "args": [
          "4435161132090495840",
          "7814337577433284266"
         ],
         "function": "metadsl_core.abstraction.Abstraction.__call__",
         "type_params": {
          "T": {
           "type": "metadsl_core.integer.Integer"
          },
          "U": {
           "type": "metadsl_core.integer.Integer"
          }
         }
        },
        "843594189095615096": {
         "args": [
          "7628514662665322552",
          "-4581700891840940288"
         ],
         "function": "metadsl_core.abstraction.Abstraction.__call__"
        },
        "8523847679072234520": {
         "args": [
          "7628514662665322552",
          "2279595913126844188"
         ],
         "function": "metadsl_core.abstraction.Abstraction.__call__"
        },
        "8567911919907001866": {
         "args": [
          "7628514662665322552",
          "5868444623941193704"
         ],
         "function": "metadsl_core.abstraction.Abstraction.__call__",
         "type_params": {
          "T": {
           "params": {
            "T": {
             "type": "metadsl_core.integer.Integer"
            },
            "U": {
             "type": "metadsl_core.integer.Integer"
            }
           },
           "type": "metadsl_core.abstraction.Abstraction"
          },
          "U": {
           "params": {
            "T": {
             "type": "metadsl_core.integer.Integer"
            },
            "U": {
             "type": "metadsl_core.integer.Integer"
            }
           },
           "type": "metadsl_core.abstraction.Abstraction"
          }
         }
        },
        "8568844669360334794": {
         "args": [
          "7628514662665322552",
          "-5010635001469781062"
         ],
         "function": "metadsl_core.abstraction.Abstraction.__call__",
         "type_params": {
          "T": {
           "params": {
            "T": {
             "type": "metadsl_core.integer.Integer"
            },
            "U": {
             "type": "metadsl_core.integer.Integer"
            }
           },
           "type": "metadsl_core.abstraction.Abstraction"
          },
          "U": {
           "params": {
            "T": {
             "type": "metadsl_core.integer.Integer"
            },
            "U": {
             "type": "metadsl_core.integer.Integer"
            }
           },
           "type": "metadsl_core.abstraction.Abstraction"
          }
         }
        },
        "8575574643069544668": {
         "args": [
          "7308061619270420554",
          "7814337577433284266"
         ],
         "function": "metadsl_core.abstraction.Abstraction.__call__",
         "type_params": {
          "T": {
           "type": "metadsl_core.integer.Integer"
          },
          "U": {
           "type": "metadsl_core.integer.Integer"
          }
         }
        },
        "8657830377898012205": {
         "args": [
          "7628514662665322552",
          "8357705490975949075"
         ],
         "function": "metadsl_core.abstraction.Abstraction.__call__"
        },
        "8661247601959361780": {
         "args": [
          "7628514662665322552",
          "3803761213456993537"
         ],
         "function": "metadsl_core.abstraction.Abstraction.__call__",
         "type_params": {
          "T": {
           "params": {
            "T": {
             "type": "metadsl_core.integer.Integer"
            },
            "U": {
             "type": "metadsl_core.integer.Integer"
            }
           },
           "type": "metadsl_core.abstraction.Abstraction"
          },
          "U": {
           "params": {
            "T": {
             "type": "metadsl_core.integer.Integer"
            },
            "U": {
             "type": "metadsl_core.integer.Integer"
            }
           },
           "type": "metadsl_core.abstraction.Abstraction"
          }
         }
        },
        "8738490947078486333": {
         "args": [
          "7628514662665322552",
          "3803761213456993537"
         ],
         "function": "metadsl_core.abstraction.Abstraction.__call__"
        },
        "8751633257764103695": {
         "args": [
          "-1539368842887377421",
          "7814337577433284266"
         ],
         "function": "metadsl_core.abstraction.Abstraction.__call__",
         "type_params": {
          "T": {
           "type": "metadsl_core.integer.Integer"
          },
          "U": {
           "type": "metadsl_core.integer.Integer"
          }
         }
        },
        "8788559637844729957": {
         "args": [
          "8268858953333368485",
          "7814337577433284266"
         ],
         "function": "metadsl_core.abstraction.Abstraction.__call__",
         "type_params": {
          "T": {
           "type": "metadsl_core.integer.Integer"
          },
          "U": {
           "type": "metadsl_core.integer.Integer"
          }
         }
        },
        "8801716091190500722": {
         "args": [
          "7628514662665322552",
          "2331710445467566755"
         ],
         "function": "metadsl_core.abstraction.Abstraction.__call__"
        },
        "8877499715957272894": {
         "args": [
          "843594189095615096",
          "7814337577433284266"
         ],
         "function": "metadsl_core.abstraction.Abstraction.__call__",
         "type_params": {
          "T": {
           "type": "metadsl_core.integer.Integer"
          },
          "U": {
           "type": "metadsl_core.integer.Integer"
          }
         }
        },
        "8934538490308966455": {
         "args": [
          "-4017844512536175809",
          "7814337577433284266"
         ],
         "function": "metadsl_core.abstraction.Abstraction.__call__",
         "type_params": {
          "T": {
           "type": "metadsl_core.integer.Integer"
          },
          "U": {
           "type": "metadsl_core.integer.Integer"
          }
         }
        },
        "903596718172999105": {
         "args": [
          "7628514662665322552",
          "-5268661823573193356"
         ],
         "function": "metadsl_core.abstraction.Abstraction.__call__"
        },
        "9054941462142777415": {
         "args": [
          "7628514662665322552",
          "-2462819246705394543"
         ],
         "function": "metadsl_core.abstraction.Abstraction.__call__",
         "type_params": {
          "T": {
           "params": {
            "T": {
             "type": "metadsl_core.integer.Integer"
            },
            "U": {
             "type": "metadsl_core.integer.Integer"
            }
           },
           "type": "metadsl_core.abstraction.Abstraction"
          },
          "U": {
           "params": {
            "T": {
             "type": "metadsl_core.integer.Integer"
            },
            "U": {
             "type": "metadsl_core.integer.Integer"
            }
           },
           "type": "metadsl_core.abstraction.Abstraction"
          }
         }
        },
        "9205247044228387334": {
         "args": [
          "7628514662665322552",
          "8371647272118481268"
         ],
         "function": "metadsl_core.abstraction.Abstraction.__call__"
        },
        "92819521141196392": {
         "args": [
          "4323247547539502761",
          "7814337577433284266"
         ],
         "function": "metadsl_core.abstraction.Abstraction.__call__",
         "type_params": {
          "T": {
           "type": "metadsl_core.integer.Integer"
          },
          "U": {
           "type": "metadsl_core.integer.Integer"
          }
         }
        },
        "950829329192142751": {
         "args": [
          "-580122994999795411",
          "7814337577433284266"
         ],
         "function": "metadsl_core.abstraction.Abstraction.__call__",
         "type_params": {
          "T": {
           "type": "metadsl_core.integer.Integer"
          },
          "U": {
           "type": "metadsl_core.integer.Integer"
          }
         }
        }
       },
       "states": {
        "initial": "-455973040630362760",
        "states": [
         {
          "node": "8751633257764103695",
          "rule": "metadsl_core.abstraction.Abstraction.from_fn"
         },
         {
          "label": "core",
          "node": "8788559637844729957",
          "rule": "metadsl_core.abstraction.Abstraction.from_fn"
         },
         {
          "node": "8575574643069544668",
          "rule": "metadsl_core.abstraction.Abstraction.fix"
         },
         {
          "node": "1192574389423187946",
          "rule": "metadsl_core.abstraction.Abstraction.fix"
         },
         {
          "node": "7136157899833762640",
          "rule": "metadsl_core.abstraction.Abstraction.fix"
         },
         {
          "node": "480813817698061524",
          "rule": "metadsl_core.abstraction.Abstraction.fix"
         },
         {
          "node": "8877499715957272894",
          "rule": "metadsl_core.abstraction.Abstraction.fix"
         },
         {
          "node": "6557099315573168743",
          "rule": "metadsl_core.abstraction.Abstraction.fix"
         },
         {
          "node": "-8202234863710063317",
          "rule": "metadsl_core.abstraction.Abstraction.fix"
         },
         {
          "node": "5421336470322864914",
          "rule": "metadsl_core.abstraction.Abstraction.fix"
         },
         {
          "node": "6741395947897344973",
          "rule": "metadsl_core.abstraction.Abstraction.fix"
         },
         {
          "node": "3824966728325024653",
          "rule": "metadsl_core.abstraction.Abstraction.fix"
         },
         {
          "node": "-9024235881057346588",
          "rule": "metadsl_core.abstraction.Abstraction.fix"
         },
         {
          "node": "6138202689136561841",
          "rule": "metadsl_core.abstraction.Abstraction.fix"
         },
         {
          "node": "-733038121001753991",
          "rule": "metadsl_core.abstraction.Abstraction.fix"
         },
         {
          "node": "3329485215973120185",
          "rule": "metadsl_core.abstraction.Abstraction.fix"
         },
         {
          "node": "238970987535152334",
          "rule": "metadsl_core.abstraction.Abstraction.fix"
         },
         {
          "node": "5620450069190268915",
          "rule": "metadsl_core.abstraction.Abstraction.fix"
         },
         {
          "node": "8934538490308966455",
          "rule": "metadsl_core.abstraction.Abstraction.fix"
         },
         {
          "node": "2289398314973508445",
          "rule": "metadsl_core.abstraction.Abstraction.fix"
         },
         {
          "node": "-5922246725141134570",
          "rule": "metadsl_core.abstraction.Abstraction.fix"
         },
         {
          "node": "-5907885263429245663",
          "rule": "metadsl_core.abstraction.Abstraction.fix"
         },
         {
          "node": "-835866972099949881",
          "rule": "metadsl_core.abstraction.Abstraction.fix"
         },
         {
          "node": "-5721684206666636905",
          "rule": "metadsl_core.abstraction.Abstraction.fix"
         },
         {
          "node": "5392314716423534684",
          "rule": "metadsl_core.abstraction.Abstraction.fix"
         },
         {
          "node": "-1124149866616085125",
          "rule": "metadsl_core.abstraction.Abstraction.fix"
         },
         {
          "node": "-8218550761382596313",
          "rule": "metadsl_core.abstraction.Abstraction.fix"
         },
         {
          "node": "5940868264275590359",
          "rule": "metadsl_core.abstraction.Abstraction.fix"
         },
         {
          "node": "-6258042494314694926",
          "rule": "metadsl_core.abstraction.Abstraction.fix"
         },
         {
          "node": "2964003969081292467",
          "rule": "metadsl_core.abstraction.Abstraction.fix"
         },
         {
          "node": "-262067876029031251",
          "rule": "metadsl_core.abstraction.Abstraction.fix"
         },
         {
          "node": "188194231734855770",
          "rule": "metadsl_core.abstraction.Abstraction.fix"
         },
         {
          "node": "-408516350611986333",
          "rule": "metadsl_core.abstraction.Abstraction.fix"
         },
         {
          "node": "-3270218774252852790",
          "rule": "metadsl_core.abstraction.Abstraction.fix"
         },
         {
          "node": "1383947478788917484",
          "rule": "metadsl_core.abstraction.Abstraction.fix"
         },
         {
          "node": "-2871730469597286753",
          "rule": "metadsl_core.abstraction.Abstraction.fix"
         },
         {
          "node": "-152430711723098563",
          "rule": "metadsl_core.abstraction.Abstraction.fix"
         },
         {
          "node": "2857461569398487310",
          "rule": "metadsl_core.abstraction.Abstraction.fix"
         },
         {
          "node": "8382683443292746127",
          "rule": "metadsl_core.abstraction.Abstraction.fix"
         },
         {
          "node": "-4041018430714983373",
          "rule": "metadsl_core.abstraction.Abstraction.fix"
         },
         {
          "node": "-7315080895798707987",
          "rule": "metadsl_core.abstraction.Abstraction.fix"
         },
         {
          "node": "-2069547646569719974",
          "rule": "metadsl_core.abstraction.Abstraction.fix"
         },
         {
          "node": "-1299520504962267788",
          "rule": "metadsl_core.abstraction.Abstraction.fix"
         },
         {
          "node": "950829329192142751",
          "rule": "metadsl_core.abstraction.Abstraction.fix"
         },
         {
          "node": "7173143578522098047",
          "rule": "metadsl_core.abstraction.Abstraction.fix"
         },
         {
          "node": "-8343561361196290502",
          "rule": "metadsl_core.abstraction.Abstraction.fix"
         },
         {
          "node": "8012777766372799733",
          "rule": "metadsl_core.abstraction.Abstraction.fix"
         },
         {
          "node": "92819521141196392",
          "rule": "metadsl_core.abstraction.Abstraction.fix"
         },
         {
          "node": "5394508239049852987",
          "rule": "metadsl_core.abstraction.Abstraction.fix"
         },
         {
          "node": "-3232175032600517464",
          "rule": "metadsl_core.abstraction.Abstraction.fix"
         },
         {
          "node": "3013261073585352146",
          "rule": "metadsl_core.abstraction.Abstraction.fix"
         },
         {
          "node": "-8363686497451029910",
          "rule": "metadsl_core.abstraction.Abstraction.fix"
         },
         {
          "node": "6023920303463474873",
          "rule": "metadsl_core.abstraction.Abstraction.fix"
         },
         {
          "node": "1194273964579265619",
          "rule": "metadsl_core.abstraction.Abstraction.fix"
         },
         {
          "node": "4112017844176516454",
          "rule": "metadsl_core.abstraction.Abstraction.fix"
         },
         {
          "node": "8090202149031023986",
          "rule": "metadsl_core.abstraction.Abstraction.fix"
         },
         {
          "node": "-2252560484747675476",
          "rule": "metadsl_core.abstraction.Abstraction.fix"
         },
         {
          "node": "-9059288213799259955",
          "rule": "metadsl_core.abstraction.Abstraction.fix"
         },
         {
          "node": "-3484567529226728997",
          "rule": "metadsl_core.abstraction.Abstraction.fix"
         },
         {
          "node": "-8325032841961285589",
          "rule": "metadsl_core.abstraction.Abstraction.fix"
         },
         {
          "node": "-8667121272986620658",
          "rule": "metadsl_core.abstraction.Abstraction.fix"
         },
         {
          "node": "-1567947108809722835",
          "rule": "metadsl_core.abstraction.Abstraction.fix"
         }
        ]
       }
      },
      "text/plain": [
       "Typez(definitions=None, nodes={'2368215322265621786': PrimitiveNode(type='function', repr='<function factorial at 0x10fae3d90>'), '6072780912940882197': CallNode(function='metadsl_core.abstraction.Abstraction.from_fn', type_params=None, args=['2368215322265621786'], kwargs=None), '1475264458477962596': CallNode(function='metadsl_core.abstraction.Abstraction.fix', type_params=None, args=['6072780912940882197'], kwargs=None), '5186073387761024426': PrimitiveNode(type='int', repr='0'), '7814337577433284266': CallNode(function='metadsl_core.integer.Integer.from_int', type_params=None, args=['5186073387761024426'], kwargs=None), '-455973040630362760': CallNode(function='metadsl_core.abstraction.Abstraction.__call__', type_params={'U': DeclaredTypeInstance(type='metadsl_core.integer.Integer', params=None), 'T': DeclaredTypeInstance(type='metadsl_core.integer.Integer', params=None)}, args=['1475264458477962596', '7814337577433284266'], kwargs=None), '-8056730065414587116': PrimitiveNode(type='metadsl_core.abstraction.Variable', repr='Variable(4559361472)'), '-5503302212561128119': CallNode(function='metadsl_core.abstraction.Abstraction.create_variable', type_params={'U': DeclaredTypeInstance(type='metadsl_core.abstraction.Abstraction', params={'U': DeclaredTypeInstance(type='metadsl_core.integer.Integer', params=None), 'T': DeclaredTypeInstance(type='metadsl_core.integer.Integer', params=None)}), 'T': DeclaredTypeInstance(type='metadsl_core.abstraction.Abstraction', params={'U': DeclaredTypeInstance(type='metadsl_core.integer.Integer', params=None), 'T': DeclaredTypeInstance(type='metadsl_core.integer.Integer', params=None)})}, args=['-8056730065414587116'], kwargs=None), '2368215169715116261': PrimitiveNode(type='function', repr='<function factorial.<locals>.inner at 0x10f509400>'), '-8799191434186790424': CallNode(function='metadsl_core.abstraction.Abstraction.from_fn', type_params=None, args=['2368215169715116261'], kwargs=None), '3733250469902050516': CallNode(function='metadsl_core.abstraction.Abstraction.create', type_params={'U': DeclaredTypeInstance(type='metadsl_core.abstraction.Abstraction', params={'U': DeclaredTypeInstance(type='metadsl_core.integer.Integer', params=None), 'T': DeclaredTypeInstance(type='metadsl_core.integer.Integer', params=None)}), 'T': DeclaredTypeInstance(type='metadsl_core.abstraction.Abstraction', params={'U': DeclaredTypeInstance(type='metadsl_core.integer.Integer', params=None), 'T': DeclaredTypeInstance(type='metadsl_core.integer.Integer', params=None)})}, args=['-5503302212561128119', '-8799191434186790424'], kwargs=None), '-1539368842887377421': CallNode(function='metadsl_core.abstraction.Abstraction.fix', type_params=None, args=['3733250469902050516'], kwargs=None), '8751633257764103695': CallNode(function='metadsl_core.abstraction.Abstraction.__call__', type_params={'U': DeclaredTypeInstance(type='metadsl_core.integer.Integer', params=None), 'T': DeclaredTypeInstance(type='metadsl_core.integer.Integer', params=None)}, args=['-1539368842887377421', '7814337577433284266'], kwargs=None), '1166641969394216442': PrimitiveNode(type='metadsl_core.abstraction.Variable', repr='Variable(4559391656)'), '-1586430641051322785': CallNode(function='metadsl_core.abstraction.Abstraction.create_variable', type_params={'U': DeclaredTypeInstance(type='metadsl_core.integer.Integer', params=None), 'T': DeclaredTypeInstance(type='metadsl_core.integer.Integer', params=None)}, args=['1166641969394216442'], kwargs=None), '-5327340448543167604': CallNode(function='metadsl_core.integer.Integer.eq', type_params=None, args=['-1586430641051322785', '7814337577433284266'], kwargs=None), '5186073387759941901': PrimitiveNode(type='int', repr='1'), '-5069420806680336274': CallNode(function='metadsl_core.integer.Integer.from_int', type_params=None, args=['5186073387759941901'], kwargs=None), '-7606773225275332265': CallNode(function='metadsl_core.integer.Integer.__sub__', type_params=None, args=['-1586430641051322785', '-5069420806680336274'], kwargs=None), '6438210121806099349': CallNode(function='metadsl_core.abstraction.Abstraction.__call__', type_params={'U': DeclaredTypeInstance(type='metadsl_core.integer.Integer', params=None), 'T': DeclaredTypeInstance(type='metadsl_core.integer.Integer', params=None)}, args=['-5503302212561128119', '-7606773225275332265'], kwargs=None), '-5901907367610091466': CallNode(function='metadsl_core.integer.Integer.__mul__', type_params=None, args=['-1586430641051322785', '6438210121806099349'], kwargs=None), '-8963921019025933105': CallNode(function='metadsl_core.boolean.Boolean.if_', type_params=None, args=['-5327340448543167604', '-5069420806680336274', '-5901907367610091466'], kwargs=None), '2285902436194321751': CallNode(function='metadsl_core.abstraction.Abstraction.create', type_params={'U': DeclaredTypeInstance(type='metadsl_core.integer.Integer', params=None), 'T': DeclaredTypeInstance(type='metadsl_core.integer.Integer', params=None)}, args=['-1586430641051322785', '-8963921019025933105'], kwargs=None), '7628514662665322552': CallNode(function='metadsl_core.abstraction.Abstraction.create', type_params={'U': DeclaredTypeInstance(type='metadsl_core.abstraction.Abstraction', params={'U': DeclaredTypeInstance(type='metadsl_core.integer.Integer', params=None), 'T': DeclaredTypeInstance(type='metadsl_core.integer.Integer', params=None)}), 'T': DeclaredTypeInstance(type='metadsl_core.abstraction.Abstraction', params={'U': DeclaredTypeInstance(type='metadsl_core.integer.Integer', params=None), 'T': DeclaredTypeInstance(type='metadsl_core.integer.Integer', params=None)})}, args=['-5503302212561128119', '2285902436194321751'], kwargs=None), '8268858953333368485': CallNode(function='metadsl_core.abstraction.Abstraction.fix', type_params=None, args=['7628514662665322552'], kwargs=None), '8788559637844729957': CallNode(function='metadsl_core.abstraction.Abstraction.__call__', type_params={'U': DeclaredTypeInstance(type='metadsl_core.integer.Integer', params=None), 'T': DeclaredTypeInstance(type='metadsl_core.integer.Integer', params=None)}, args=['8268858953333368485', '7814337577433284266'], kwargs=None), '7308061619270420554': CallNode(function='metadsl_core.abstraction.Abstraction.__call__', type_params=None, args=['7628514662665322552', '8268858953333368485'], kwargs=None), '8575574643069544668': CallNode(function='metadsl_core.abstraction.Abstraction.__call__', type_params={'U': DeclaredTypeInstance(type='metadsl_core.integer.Integer', params=None), 'T': DeclaredTypeInstance(type='metadsl_core.integer.Integer', params=None)}, args=['7308061619270420554', '7814337577433284266'], kwargs=None), '-7659079902182359893': CallNode(function='metadsl_core.abstraction.Abstraction.__call__', type_params={'U': DeclaredTypeInstance(type='metadsl_core.abstraction.Abstraction', params={'U': DeclaredTypeInstance(type='metadsl_core.integer.Integer', params=None), 'T': DeclaredTypeInstance(type='metadsl_core.integer.Integer', params=None)}), 'T': DeclaredTypeInstance(type='metadsl_core.abstraction.Abstraction', params={'U': DeclaredTypeInstance(type='metadsl_core.integer.Integer', params=None), 'T': DeclaredTypeInstance(type='metadsl_core.integer.Integer', params=None)})}, args=['7628514662665322552', '8268858953333368485'], kwargs=None), '-8205452022273783515': CallNode(function='metadsl_core.abstraction.Abstraction.__call__', type_params=None, args=['7628514662665322552', '-7659079902182359893'], kwargs=None), '1192574389423187946': CallNode(function='metadsl_core.abstraction.Abstraction.__call__', type_params={'U': DeclaredTypeInstance(type='metadsl_core.integer.Integer', params=None), 'T': DeclaredTypeInstance(type='metadsl_core.integer.Integer', params=None)}, args=['-8205452022273783515', '7814337577433284266'], kwargs=None), '-8867094270965243940': CallNode(function='metadsl_core.abstraction.Abstraction.__call__', type_params={'U': DeclaredTypeInstance(type='metadsl_core.abstraction.Abstraction', params={'U': DeclaredTypeInstance(type='metadsl_core.integer.Integer', params=None), 'T': DeclaredTypeInstance(type='metadsl_core.integer.Integer', params=None)}), 'T': DeclaredTypeInstance(type='metadsl_core.abstraction.Abstraction', params={'U': DeclaredTypeInstance(type='metadsl_core.integer.Integer', params=None), 'T': DeclaredTypeInstance(type='metadsl_core.integer.Integer', params=None)})}, args=['7628514662665322552', '-7659079902182359893'], kwargs=None), '1561792970651252872': CallNode(function='metadsl_core.abstraction.Abstraction.__call__', type_params=None, args=['7628514662665322552', '-8867094270965243940'], kwargs=None), '7136157899833762640': CallNode(function='metadsl_core.abstraction.Abstraction.__call__', type_params={'U': DeclaredTypeInstance(type='metadsl_core.integer.Integer', params=None), 'T': DeclaredTypeInstance(type='metadsl_core.integer.Integer', params=None)}, args=['1561792970651252872', '7814337577433284266'], kwargs=None), '-209818059361051895': CallNode(function='metadsl_core.abstraction.Abstraction.__call__', type_params={'U': DeclaredTypeInstance(type='metadsl_core.abstraction.Abstraction', params={'U': DeclaredTypeInstance(type='metadsl_core.integer.Integer', params=None), 'T': DeclaredTypeInstance(type='metadsl_core.integer.Integer', params=None)}), 'T': DeclaredTypeInstance(type='metadsl_core.abstraction.Abstraction', params={'U': DeclaredTypeInstance(type='metadsl_core.integer.Integer', params=None), 'T': DeclaredTypeInstance(type='metadsl_core.integer.Integer', params=None)})}, args=['7628514662665322552', '-8867094270965243940'], kwargs=None), '-3766609887572473407': CallNode(function='metadsl_core.abstraction.Abstraction.__call__', type_params=None, args=['7628514662665322552', '-209818059361051895'], kwargs=None), '480813817698061524': CallNode(function='metadsl_core.abstraction.Abstraction.__call__', type_params={'U': DeclaredTypeInstance(type='metadsl_core.integer.Integer', params=None), 'T': DeclaredTypeInstance(type='metadsl_core.integer.Integer', params=None)}, args=['-3766609887572473407', '7814337577433284266'], kwargs=None), '-4581700891840940288': CallNode(function='metadsl_core.abstraction.Abstraction.__call__', type_params={'U': DeclaredTypeInstance(type='metadsl_core.abstraction.Abstraction', params={'U': DeclaredTypeInstance(type='metadsl_core.integer.Integer', params=None), 'T': DeclaredTypeInstance(type='metadsl_core.integer.Integer', params=None)}), 'T': DeclaredTypeInstance(type='metadsl_core.abstraction.Abstraction', params={'U': DeclaredTypeInstance(type='metadsl_core.integer.Integer', params=None), 'T': DeclaredTypeInstance(type='metadsl_core.integer.Integer', params=None)})}, args=['7628514662665322552', '-209818059361051895'], kwargs=None), '843594189095615096': CallNode(function='metadsl_core.abstraction.Abstraction.__call__', type_params=None, args=['7628514662665322552', '-4581700891840940288'], kwargs=None), '8877499715957272894': CallNode(function='metadsl_core.abstraction.Abstraction.__call__', type_params={'U': DeclaredTypeInstance(type='metadsl_core.integer.Integer', params=None), 'T': DeclaredTypeInstance(type='metadsl_core.integer.Integer', params=None)}, args=['843594189095615096', '7814337577433284266'], kwargs=None), '-1056980846980344167': CallNode(function='metadsl_core.abstraction.Abstraction.__call__', type_params={'U': DeclaredTypeInstance(type='metadsl_core.abstraction.Abstraction', params={'U': DeclaredTypeInstance(type='metadsl_core.integer.Integer', params=None), 'T': DeclaredTypeInstance(type='metadsl_core.integer.Integer', params=None)}), 'T': DeclaredTypeInstance(type='metadsl_core.abstraction.Abstraction', params={'U': DeclaredTypeInstance(type='metadsl_core.integer.Integer', params=None), 'T': DeclaredTypeInstance(type='metadsl_core.integer.Integer', params=None)})}, args=['7628514662665322552', '-4581700891840940288'], kwargs=None), '7955510044765035312': CallNode(function='metadsl_core.abstraction.Abstraction.__call__', type_params=None, args=['7628514662665322552', '-1056980846980344167'], kwargs=None), '6557099315573168743': CallNode(function='metadsl_core.abstraction.Abstraction.__call__', type_params={'U': DeclaredTypeInstance(type='metadsl_core.integer.Integer', params=None), 'T': DeclaredTypeInstance(type='metadsl_core.integer.Integer', params=None)}, args=['7955510044765035312', '7814337577433284266'], kwargs=None), '-2462819246705394543': CallNode(function='metadsl_core.abstraction.Abstraction.__call__', type_params={'U': DeclaredTypeInstance(type='metadsl_core.abstraction.Abstraction', params={'U': DeclaredTypeInstance(type='metadsl_core.integer.Integer', params=None), 'T': DeclaredTypeInstance(type='metadsl_core.integer.Integer', params=None)}), 'T': DeclaredTypeInstance(type='metadsl_core.abstraction.Abstraction', params={'U': DeclaredTypeInstance(type='metadsl_core.integer.Integer', params=None), 'T': DeclaredTypeInstance(type='metadsl_core.integer.Integer', params=None)})}, args=['7628514662665322552', '-1056980846980344167'], kwargs=None), '6498127100859141534': CallNode(function='metadsl_core.abstraction.Abstraction.__call__', type_params=None, args=['7628514662665322552', '-2462819246705394543'], kwargs=None), '-8202234863710063317': CallNode(function='metadsl_core.abstraction.Abstraction.__call__', type_params={'U': DeclaredTypeInstance(type='metadsl_core.integer.Integer', params=None), 'T': DeclaredTypeInstance(type='metadsl_core.integer.Integer', params=None)}, args=['6498127100859141534', '7814337577433284266'], kwargs=None), '9054941462142777415': CallNode(function='metadsl_core.abstraction.Abstraction.__call__', type_params={'U': DeclaredTypeInstance(type='metadsl_core.abstraction.Abstraction', params={'U': DeclaredTypeInstance(type='metadsl_core.integer.Integer', params=None), 'T': DeclaredTypeInstance(type='metadsl_core.integer.Integer', params=None)}), 'T': DeclaredTypeInstance(type='metadsl_core.abstraction.Abstraction', params={'U': DeclaredTypeInstance(type='metadsl_core.integer.Integer', params=None), 'T': DeclaredTypeInstance(type='metadsl_core.integer.Integer', params=None)})}, args=['7628514662665322552', '-2462819246705394543'], kwargs=None), '-6988513651789988484': CallNode(function='metadsl_core.abstraction.Abstraction.__call__', type_params=None, args=['7628514662665322552', '9054941462142777415'], kwargs=None), '5421336470322864914': CallNode(function='metadsl_core.abstraction.Abstraction.__call__', type_params={'U': DeclaredTypeInstance(type='metadsl_core.integer.Integer', params=None), 'T': DeclaredTypeInstance(type='metadsl_core.integer.Integer', params=None)}, args=['-6988513651789988484', '7814337577433284266'], kwargs=None), '-9028001110494735099': CallNode(function='metadsl_core.abstraction.Abstraction.__call__', type_params={'U': DeclaredTypeInstance(type='metadsl_core.abstraction.Abstraction', params={'U': DeclaredTypeInstance(type='metadsl_core.integer.Integer', params=None), 'T': DeclaredTypeInstance(type='metadsl_core.integer.Integer', params=None)}), 'T': DeclaredTypeInstance(type='metadsl_core.abstraction.Abstraction', params={'U': DeclaredTypeInstance(type='metadsl_core.integer.Integer', params=None), 'T': DeclaredTypeInstance(type='metadsl_core.integer.Integer', params=None)})}, args=['7628514662665322552', '9054941462142777415'], kwargs=None), '6884812477232366944': CallNode(function='metadsl_core.abstraction.Abstraction.__call__', type_params=None, args=['7628514662665322552', '-9028001110494735099'], kwargs=None), '6741395947897344973': CallNode(function='metadsl_core.abstraction.Abstraction.__call__', type_params={'U': DeclaredTypeInstance(type='metadsl_core.integer.Integer', params=None), 'T': DeclaredTypeInstance(type='metadsl_core.integer.Integer', params=None)}, args=['6884812477232366944', '7814337577433284266'], kwargs=None), '831953872212786657': CallNode(function='metadsl_core.abstraction.Abstraction.__call__', type_params={'U': DeclaredTypeInstance(type='metadsl_core.abstraction.Abstraction', params={'U': DeclaredTypeInstance(type='metadsl_core.integer.Integer', params=None), 'T': DeclaredTypeInstance(type='metadsl_core.integer.Integer', params=None)}), 'T': DeclaredTypeInstance(type='metadsl_core.abstraction.Abstraction', params={'U': DeclaredTypeInstance(type='metadsl_core.integer.Integer', params=None), 'T': DeclaredTypeInstance(type='metadsl_core.integer.Integer', params=None)})}, args=['7628514662665322552', '-9028001110494735099'], kwargs=None), '-3130723432032829308': CallNode(function='metadsl_core.abstraction.Abstraction.__call__', type_params=None, args=['7628514662665322552', '831953872212786657'], kwargs=None), '3824966728325024653': CallNode(function='metadsl_core.abstraction.Abstraction.__call__', type_params={'U': DeclaredTypeInstance(type='metadsl_core.integer.Integer', params=None), 'T': DeclaredTypeInstance(type='metadsl_core.integer.Integer', params=None)}, args=['-3130723432032829308', '7814337577433284266'], kwargs=None), '-2007299065997409235': CallNode(function='metadsl_core.abstraction.Abstraction.__call__', type_params={'U': DeclaredTypeInstance(type='metadsl_core.abstraction.Abstraction', params={'U': DeclaredTypeInstance(type='metadsl_core.integer.Integer', params=None), 'T': DeclaredTypeInstance(type='metadsl_core.integer.Integer', params=None)}), 'T': DeclaredTypeInstance(type='metadsl_core.abstraction.Abstraction', params={'U': DeclaredTypeInstance(type='metadsl_core.integer.Integer', params=None), 'T': DeclaredTypeInstance(type='metadsl_core.integer.Integer', params=None)})}, args=['7628514662665322552', '831953872212786657'], kwargs=None), '2388592965542103355': CallNode(function='metadsl_core.abstraction.Abstraction.__call__', type_params=None, args=['7628514662665322552', '-2007299065997409235'], kwargs=None), '-9024235881057346588': CallNode(function='metadsl_core.abstraction.Abstraction.__call__', type_params={'U': DeclaredTypeInstance(type='metadsl_core.integer.Integer', params=None), 'T': DeclaredTypeInstance(type='metadsl_core.integer.Integer', params=None)}, args=['2388592965542103355', '7814337577433284266'], kwargs=None), '-5010635001469781062': CallNode(function='metadsl_core.abstraction.Abstraction.__call__', type_params={'U': DeclaredTypeInstance(type='metadsl_core.abstraction.Abstraction', params={'U': DeclaredTypeInstance(type='metadsl_core.integer.Integer', params=None), 'T': DeclaredTypeInstance(type='metadsl_core.integer.Integer', params=None)}), 'T': DeclaredTypeInstance(type='metadsl_core.abstraction.Abstraction', params={'U': DeclaredTypeInstance(type='metadsl_core.integer.Integer', params=None), 'T': DeclaredTypeInstance(type='metadsl_core.integer.Integer', params=None)})}, args=['7628514662665322552', '-2007299065997409235'], kwargs=None), '6906790930898825515': CallNode(function='metadsl_core.abstraction.Abstraction.__call__', type_params=None, args=['7628514662665322552', '-5010635001469781062'], kwargs=None), '6138202689136561841': CallNode(function='metadsl_core.abstraction.Abstraction.__call__', type_params={'U': DeclaredTypeInstance(type='metadsl_core.integer.Integer', params=None), 'T': DeclaredTypeInstance(type='metadsl_core.integer.Integer', params=None)}, args=['6906790930898825515', '7814337577433284266'], kwargs=None), '8568844669360334794': CallNode(function='metadsl_core.abstraction.Abstraction.__call__', type_params={'U': DeclaredTypeInstance(type='metadsl_core.abstraction.Abstraction', params={'U': DeclaredTypeInstance(type='metadsl_core.integer.Integer', params=None), 'T': DeclaredTypeInstance(type='metadsl_core.integer.Integer', params=None)}), 'T': DeclaredTypeInstance(type='metadsl_core.abstraction.Abstraction', params={'U': DeclaredTypeInstance(type='metadsl_core.integer.Integer', params=None), 'T': DeclaredTypeInstance(type='metadsl_core.integer.Integer', params=None)})}, args=['7628514662665322552', '-5010635001469781062'], kwargs=None), '7109704881712596049': CallNode(function='metadsl_core.abstraction.Abstraction.__call__', type_params=None, args=['7628514662665322552', '8568844669360334794'], kwargs=None), '-733038121001753991': CallNode(function='metadsl_core.abstraction.Abstraction.__call__', type_params={'U': DeclaredTypeInstance(type='metadsl_core.integer.Integer', params=None), 'T': DeclaredTypeInstance(type='metadsl_core.integer.Integer', params=None)}, args=['7109704881712596049', '7814337577433284266'], kwargs=None), '3469868347825974000': CallNode(function='metadsl_core.abstraction.Abstraction.__call__', type_params={'U': DeclaredTypeInstance(type='metadsl_core.abstraction.Abstraction', params={'U': DeclaredTypeInstance(type='metadsl_core.integer.Integer', params=None), 'T': DeclaredTypeInstance(type='metadsl_core.integer.Integer', params=None)}), 'T': DeclaredTypeInstance(type='metadsl_core.abstraction.Abstraction', params={'U': DeclaredTypeInstance(type='metadsl_core.integer.Integer', params=None), 'T': DeclaredTypeInstance(type='metadsl_core.integer.Integer', params=None)})}, args=['7628514662665322552', '8568844669360334794'], kwargs=None), '-2030029611427609328': CallNode(function='metadsl_core.abstraction.Abstraction.__call__', type_params=None, args=['7628514662665322552', '3469868347825974000'], kwargs=None), '3329485215973120185': CallNode(function='metadsl_core.abstraction.Abstraction.__call__', type_params={'U': DeclaredTypeInstance(type='metadsl_core.integer.Integer', params=None), 'T': DeclaredTypeInstance(type='metadsl_core.integer.Integer', params=None)}, args=['-2030029611427609328', '7814337577433284266'], kwargs=None), '4764864007232225585': CallNode(function='metadsl_core.abstraction.Abstraction.__call__', type_params={'U': DeclaredTypeInstance(type='metadsl_core.abstraction.Abstraction', params={'U': DeclaredTypeInstance(type='metadsl_core.integer.Integer', params=None), 'T': DeclaredTypeInstance(type='metadsl_core.integer.Integer', params=None)}), 'T': DeclaredTypeInstance(type='metadsl_core.abstraction.Abstraction', params={'U': DeclaredTypeInstance(type='metadsl_core.integer.Integer', params=None), 'T': DeclaredTypeInstance(type='metadsl_core.integer.Integer', params=None)})}, args=['7628514662665322552', '3469868347825974000'], kwargs=None), '5218391051610078705': CallNode(function='metadsl_core.abstraction.Abstraction.__call__', type_params=None, args=['7628514662665322552', '4764864007232225585'], kwargs=None), '238970987535152334': CallNode(function='metadsl_core.abstraction.Abstraction.__call__', type_params={'U': DeclaredTypeInstance(type='metadsl_core.integer.Integer', params=None), 'T': DeclaredTypeInstance(type='metadsl_core.integer.Integer', params=None)}, args=['5218391051610078705', '7814337577433284266'], kwargs=None), '4130368115147200976': CallNode(function='metadsl_core.abstraction.Abstraction.__call__', type_params={'U': DeclaredTypeInstance(type='metadsl_core.abstraction.Abstraction', params={'U': DeclaredTypeInstance(type='metadsl_core.integer.Integer', params=None), 'T': DeclaredTypeInstance(type='metadsl_core.integer.Integer', params=None)}), 'T': DeclaredTypeInstance(type='metadsl_core.abstraction.Abstraction', params={'U': DeclaredTypeInstance(type='metadsl_core.integer.Integer', params=None), 'T': DeclaredTypeInstance(type='metadsl_core.integer.Integer', params=None)})}, args=['7628514662665322552', '4764864007232225585'], kwargs=None), '5186788248098924488': CallNode(function='metadsl_core.abstraction.Abstraction.__call__', type_params=None, args=['7628514662665322552', '4130368115147200976'], kwargs=None), '5620450069190268915': CallNode(function='metadsl_core.abstraction.Abstraction.__call__', type_params={'U': DeclaredTypeInstance(type='metadsl_core.integer.Integer', params=None), 'T': DeclaredTypeInstance(type='metadsl_core.integer.Integer', params=None)}, args=['5186788248098924488', '7814337577433284266'], kwargs=None), '5380139940284989513': CallNode(function='metadsl_core.abstraction.Abstraction.__call__', type_params={'U': DeclaredTypeInstance(type='metadsl_core.abstraction.Abstraction', params={'U': DeclaredTypeInstance(type='metadsl_core.integer.Integer', params=None), 'T': DeclaredTypeInstance(type='metadsl_core.integer.Integer', params=None)}), 'T': DeclaredTypeInstance(type='metadsl_core.abstraction.Abstraction', params={'U': DeclaredTypeInstance(type='metadsl_core.integer.Integer', params=None), 'T': DeclaredTypeInstance(type='metadsl_core.integer.Integer', params=None)})}, args=['7628514662665322552', '4130368115147200976'], kwargs=None), '-4017844512536175809': CallNode(function='metadsl_core.abstraction.Abstraction.__call__', type_params=None, args=['7628514662665322552', '5380139940284989513'], kwargs=None), '8934538490308966455': CallNode(function='metadsl_core.abstraction.Abstraction.__call__', type_params={'U': DeclaredTypeInstance(type='metadsl_core.integer.Integer', params=None), 'T': DeclaredTypeInstance(type='metadsl_core.integer.Integer', params=None)}, args=['-4017844512536175809', '7814337577433284266'], kwargs=None), '1403282169595700726': CallNode(function='metadsl_core.abstraction.Abstraction.__call__', type_params={'U': DeclaredTypeInstance(type='metadsl_core.abstraction.Abstraction', params={'U': DeclaredTypeInstance(type='metadsl_core.integer.Integer', params=None), 'T': DeclaredTypeInstance(type='metadsl_core.integer.Integer', params=None)}), 'T': DeclaredTypeInstance(type='metadsl_core.abstraction.Abstraction', params={'U': DeclaredTypeInstance(type='metadsl_core.integer.Integer', params=None), 'T': DeclaredTypeInstance(type='metadsl_core.integer.Integer', params=None)})}, args=['7628514662665322552', '5380139940284989513'], kwargs=None), '-4275912954504573072': CallNode(function='metadsl_core.abstraction.Abstraction.__call__', type_params=None, args=['7628514662665322552', '1403282169595700726'], kwargs=None), '2289398314973508445': CallNode(function='metadsl_core.abstraction.Abstraction.__call__', type_params={'U': DeclaredTypeInstance(type='metadsl_core.integer.Integer', params=None), 'T': DeclaredTypeInstance(type='metadsl_core.integer.Integer', params=None)}, args=['-4275912954504573072', '7814337577433284266'], kwargs=None), '-6342093924306242607': CallNode(function='metadsl_core.abstraction.Abstraction.__call__', type_params={'U': DeclaredTypeInstance(type='metadsl_core.abstraction.Abstraction', params={'U': DeclaredTypeInstance(type='metadsl_core.integer.Integer', params=None), 'T': DeclaredTypeInstance(type='metadsl_core.integer.Integer', params=None)}), 'T': DeclaredTypeInstance(type='metadsl_core.abstraction.Abstraction', params={'U': DeclaredTypeInstance(type='metadsl_core.integer.Integer', params=None), 'T': DeclaredTypeInstance(type='metadsl_core.integer.Integer', params=None)})}, args=['7628514662665322552', '1403282169595700726'], kwargs=None), '-2033337655723828437': CallNode(function='metadsl_core.abstraction.Abstraction.__call__', type_params=None, args=['7628514662665322552', '-6342093924306242607'], kwargs=None), '-5922246725141134570': CallNode(function='metadsl_core.abstraction.Abstraction.__call__', type_params={'U': DeclaredTypeInstance(type='metadsl_core.integer.Integer', params=None), 'T': DeclaredTypeInstance(type='metadsl_core.integer.Integer', params=None)}, args=['-2033337655723828437', '7814337577433284266'], kwargs=None), '-7115243532461659702': CallNode(function='metadsl_core.abstraction.Abstraction.__call__', type_params={'U': DeclaredTypeInstance(type='metadsl_core.abstraction.Abstraction', params={'U': DeclaredTypeInstance(type='metadsl_core.integer.Integer', params=None), 'T': DeclaredTypeInstance(type='metadsl_core.integer.Integer', params=None)}), 'T': DeclaredTypeInstance(type='metadsl_core.abstraction.Abstraction', params={'U': DeclaredTypeInstance(type='metadsl_core.integer.Integer', params=None), 'T': DeclaredTypeInstance(type='metadsl_core.integer.Integer', params=None)})}, args=['7628514662665322552', '-6342093924306242607'], kwargs=None), '-1941693581273827695': CallNode(function='metadsl_core.abstraction.Abstraction.__call__', type_params=None, args=['7628514662665322552', '-7115243532461659702'], kwargs=None), '-5907885263429245663': CallNode(function='metadsl_core.abstraction.Abstraction.__call__', type_params={'U': DeclaredTypeInstance(type='metadsl_core.integer.Integer', params=None), 'T': DeclaredTypeInstance(type='metadsl_core.integer.Integer', params=None)}, args=['-1941693581273827695', '7814337577433284266'], kwargs=None), '-3383023256671957712': CallNode(function='metadsl_core.abstraction.Abstraction.__call__', type_params={'U': DeclaredTypeInstance(type='metadsl_core.abstraction.Abstraction', params={'U': DeclaredTypeInstance(type='metadsl_core.integer.Integer', params=None), 'T': DeclaredTypeInstance(type='metadsl_core.integer.Integer', params=None)}), 'T': DeclaredTypeInstance(type='metadsl_core.abstraction.Abstraction', params={'U': DeclaredTypeInstance(type='metadsl_core.integer.Integer', params=None), 'T': DeclaredTypeInstance(type='metadsl_core.integer.Integer', params=None)})}, args=['7628514662665322552', '-7115243532461659702'], kwargs=None), '-6628464057981062216': CallNode(function='metadsl_core.abstraction.Abstraction.__call__', type_params=None, args=['7628514662665322552', '-3383023256671957712'], kwargs=None), '-835866972099949881': CallNode(function='metadsl_core.abstraction.Abstraction.__call__', type_params={'U': DeclaredTypeInstance(type='metadsl_core.integer.Integer', params=None), 'T': DeclaredTypeInstance(type='metadsl_core.integer.Integer', params=None)}, args=['-6628464057981062216', '7814337577433284266'], kwargs=None), '4147056713798574041': CallNode(function='metadsl_core.abstraction.Abstraction.__call__', type_params={'U': DeclaredTypeInstance(type='metadsl_core.abstraction.Abstraction', params={'U': DeclaredTypeInstance(type='metadsl_core.integer.Integer', params=None), 'T': DeclaredTypeInstance(type='metadsl_core.integer.Integer', params=None)}), 'T': DeclaredTypeInstance(type='metadsl_core.abstraction.Abstraction', params={'U': DeclaredTypeInstance(type='metadsl_core.integer.Integer', params=None), 'T': DeclaredTypeInstance(type='metadsl_core.integer.Integer', params=None)})}, args=['7628514662665322552', '-3383023256671957712'], kwargs=None), '-5722370896489897938': CallNode(function='metadsl_core.abstraction.Abstraction.__call__', type_params=None, args=['7628514662665322552', '4147056713798574041'], kwargs=None), '-5721684206666636905': CallNode(function='metadsl_core.abstraction.Abstraction.__call__', type_params={'U': DeclaredTypeInstance(type='metadsl_core.integer.Integer', params=None), 'T': DeclaredTypeInstance(type='metadsl_core.integer.Integer', params=None)}, args=['-5722370896489897938', '7814337577433284266'], kwargs=None), '-7055184705711064649': CallNode(function='metadsl_core.abstraction.Abstraction.__call__', type_params={'U': DeclaredTypeInstance(type='metadsl_core.abstraction.Abstraction', params={'U': DeclaredTypeInstance(type='metadsl_core.integer.Integer', params=None), 'T': DeclaredTypeInstance(type='metadsl_core.integer.Integer', params=None)}), 'T': DeclaredTypeInstance(type='metadsl_core.abstraction.Abstraction', params={'U': DeclaredTypeInstance(type='metadsl_core.integer.Integer', params=None), 'T': DeclaredTypeInstance(type='metadsl_core.integer.Integer', params=None)})}, args=['7628514662665322552', '4147056713798574041'], kwargs=None), '-1062374103796581992': CallNode(function='metadsl_core.abstraction.Abstraction.__call__', type_params=None, args=['7628514662665322552', '-7055184705711064649'], kwargs=None), '5392314716423534684': CallNode(function='metadsl_core.abstraction.Abstraction.__call__', type_params={'U': DeclaredTypeInstance(type='metadsl_core.integer.Integer', params=None), 'T': DeclaredTypeInstance(type='metadsl_core.integer.Integer', params=None)}, args=['-1062374103796581992', '7814337577433284266'], kwargs=None), '505911620460692985': CallNode(function='metadsl_core.abstraction.Abstraction.__call__', type_params={'U': DeclaredTypeInstance(type='metadsl_core.abstraction.Abstraction', params={'U': DeclaredTypeInstance(type='metadsl_core.integer.Integer', params=None), 'T': DeclaredTypeInstance(type='metadsl_core.integer.Integer', params=None)}), 'T': DeclaredTypeInstance(type='metadsl_core.abstraction.Abstraction', params={'U': DeclaredTypeInstance(type='metadsl_core.integer.Integer', params=None), 'T': DeclaredTypeInstance(type='metadsl_core.integer.Integer', params=None)})}, args=['7628514662665322552', '-7055184705711064649'], kwargs=None), '38837657719720672': CallNode(function='metadsl_core.abstraction.Abstraction.__call__', type_params=None, args=['7628514662665322552', '505911620460692985'], kwargs=None), '-1124149866616085125': CallNode(function='metadsl_core.abstraction.Abstraction.__call__', type_params={'U': DeclaredTypeInstance(type='metadsl_core.integer.Integer', params=None), 'T': DeclaredTypeInstance(type='metadsl_core.integer.Integer', params=None)}, args=['38837657719720672', '7814337577433284266'], kwargs=None), '-8204434581709359007': CallNode(function='metadsl_core.abstraction.Abstraction.__call__', type_params={'U': DeclaredTypeInstance(type='metadsl_core.abstraction.Abstraction', params={'U': DeclaredTypeInstance(type='metadsl_core.integer.Integer', params=None), 'T': DeclaredTypeInstance(type='metadsl_core.integer.Integer', params=None)}), 'T': DeclaredTypeInstance(type='metadsl_core.abstraction.Abstraction', params={'U': DeclaredTypeInstance(type='metadsl_core.integer.Integer', params=None), 'T': DeclaredTypeInstance(type='metadsl_core.integer.Integer', params=None)})}, args=['7628514662665322552', '505911620460692985'], kwargs=None), '-8486670667034872643': CallNode(function='metadsl_core.abstraction.Abstraction.__call__', type_params=None, args=['7628514662665322552', '-8204434581709359007'], kwargs=None), '-8218550761382596313': CallNode(function='metadsl_core.abstraction.Abstraction.__call__', type_params={'U': DeclaredTypeInstance(type='metadsl_core.integer.Integer', params=None), 'T': DeclaredTypeInstance(type='metadsl_core.integer.Integer', params=None)}, args=['-8486670667034872643', '7814337577433284266'], kwargs=None), '-5268661823573193356': CallNode(function='metadsl_core.abstraction.Abstraction.__call__', type_params={'U': DeclaredTypeInstance(type='metadsl_core.abstraction.Abstraction', params={'U': DeclaredTypeInstance(type='metadsl_core.integer.Integer', params=None), 'T': DeclaredTypeInstance(type='metadsl_core.integer.Integer', params=None)}), 'T': DeclaredTypeInstance(type='metadsl_core.abstraction.Abstraction', params={'U': DeclaredTypeInstance(type='metadsl_core.integer.Integer', params=None), 'T': DeclaredTypeInstance(type='metadsl_core.integer.Integer', params=None)})}, args=['7628514662665322552', '-8204434581709359007'], kwargs=None), '903596718172999105': CallNode(function='metadsl_core.abstraction.Abstraction.__call__', type_params=None, args=['7628514662665322552', '-5268661823573193356'], kwargs=None), '5940868264275590359': CallNode(function='metadsl_core.abstraction.Abstraction.__call__', type_params={'U': DeclaredTypeInstance(type='metadsl_core.integer.Integer', params=None), 'T': DeclaredTypeInstance(type='metadsl_core.integer.Integer', params=None)}, args=['903596718172999105', '7814337577433284266'], kwargs=None), '-3860302012659092736': CallNode(function='metadsl_core.abstraction.Abstraction.__call__', type_params={'U': DeclaredTypeInstance(type='metadsl_core.abstraction.Abstraction', params={'U': DeclaredTypeInstance(type='metadsl_core.integer.Integer', params=None), 'T': DeclaredTypeInstance(type='metadsl_core.integer.Integer', params=None)}), 'T': DeclaredTypeInstance(type='metadsl_core.abstraction.Abstraction', params={'U': DeclaredTypeInstance(type='metadsl_core.integer.Integer', params=None), 'T': DeclaredTypeInstance(type='metadsl_core.integer.Integer', params=None)})}, args=['7628514662665322552', '-5268661823573193356'], kwargs=None), '447639734288499625': CallNode(function='metadsl_core.abstraction.Abstraction.__call__', type_params=None, args=['7628514662665322552', '-3860302012659092736'], kwargs=None), '-6258042494314694926': CallNode(function='metadsl_core.abstraction.Abstraction.__call__', type_params={'U': DeclaredTypeInstance(type='metadsl_core.integer.Integer', params=None), 'T': DeclaredTypeInstance(type='metadsl_core.integer.Integer', params=None)}, args=['447639734288499625', '7814337577433284266'], kwargs=None), '5868444623941193704': CallNode(function='metadsl_core.abstraction.Abstraction.__call__', type_params={'U': DeclaredTypeInstance(type='metadsl_core.abstraction.Abstraction', params={'U': DeclaredTypeInstance(type='metadsl_core.integer.Integer', params=None), 'T': DeclaredTypeInstance(type='metadsl_core.integer.Integer', params=None)}), 'T': DeclaredTypeInstance(type='metadsl_core.abstraction.Abstraction', params={'U': DeclaredTypeInstance(type='metadsl_core.integer.Integer', params=None), 'T': DeclaredTypeInstance(type='metadsl_core.integer.Integer', params=None)})}, args=['7628514662665322552', '-3860302012659092736'], kwargs=None), '-6295493866811073941': CallNode(function='metadsl_core.abstraction.Abstraction.__call__', type_params=None, args=['7628514662665322552', '5868444623941193704'], kwargs=None), '2964003969081292467': CallNode(function='metadsl_core.abstraction.Abstraction.__call__', type_params={'U': DeclaredTypeInstance(type='metadsl_core.integer.Integer', params=None), 'T': DeclaredTypeInstance(type='metadsl_core.integer.Integer', params=None)}, args=['-6295493866811073941', '7814337577433284266'], kwargs=None), '8567911919907001866': CallNode(function='metadsl_core.abstraction.Abstraction.__call__', type_params={'U': DeclaredTypeInstance(type='metadsl_core.abstraction.Abstraction', params={'U': DeclaredTypeInstance(type='metadsl_core.integer.Integer', params=None), 'T': DeclaredTypeInstance(type='metadsl_core.integer.Integer', params=None)}), 'T': DeclaredTypeInstance(type='metadsl_core.abstraction.Abstraction', params={'U': DeclaredTypeInstance(type='metadsl_core.integer.Integer', params=None), 'T': DeclaredTypeInstance(type='metadsl_core.integer.Integer', params=None)})}, args=['7628514662665322552', '5868444623941193704'], kwargs=None), '-5585406569052923846': CallNode(function='metadsl_core.abstraction.Abstraction.__call__', type_params=None, args=['7628514662665322552', '8567911919907001866'], kwargs=None), '-262067876029031251': CallNode(function='metadsl_core.abstraction.Abstraction.__call__', type_params={'U': DeclaredTypeInstance(type='metadsl_core.integer.Integer', params=None), 'T': DeclaredTypeInstance(type='metadsl_core.integer.Integer', params=None)}, args=['-5585406569052923846', '7814337577433284266'], kwargs=None), '-4103604482734407493': CallNode(function='metadsl_core.abstraction.Abstraction.__call__', type_params={'U': DeclaredTypeInstance(type='metadsl_core.abstraction.Abstraction', params={'U': DeclaredTypeInstance(type='metadsl_core.integer.Integer', params=None), 'T': DeclaredTypeInstance(type='metadsl_core.integer.Integer', params=None)}), 'T': DeclaredTypeInstance(type='metadsl_core.abstraction.Abstraction', params={'U': DeclaredTypeInstance(type='metadsl_core.integer.Integer', params=None), 'T': DeclaredTypeInstance(type='metadsl_core.integer.Integer', params=None)})}, args=['7628514662665322552', '8567911919907001866'], kwargs=None), '-1162303506001063164': CallNode(function='metadsl_core.abstraction.Abstraction.__call__', type_params=None, args=['7628514662665322552', '-4103604482734407493'], kwargs=None), '188194231734855770': CallNode(function='metadsl_core.abstraction.Abstraction.__call__', type_params={'U': DeclaredTypeInstance(type='metadsl_core.integer.Integer', params=None), 'T': DeclaredTypeInstance(type='metadsl_core.integer.Integer', params=None)}, args=['-1162303506001063164', '7814337577433284266'], kwargs=None), '-4547128079850781267': CallNode(function='metadsl_core.abstraction.Abstraction.__call__', type_params={'U': DeclaredTypeInstance(type='metadsl_core.abstraction.Abstraction', params={'U': DeclaredTypeInstance(type='metadsl_core.integer.Integer', params=None), 'T': DeclaredTypeInstance(type='metadsl_core.integer.Integer', params=None)}), 'T': DeclaredTypeInstance(type='metadsl_core.abstraction.Abstraction', params={'U': DeclaredTypeInstance(type='metadsl_core.integer.Integer', params=None), 'T': DeclaredTypeInstance(type='metadsl_core.integer.Integer', params=None)})}, args=['7628514662665322552', '-4103604482734407493'], kwargs=None), '-4033490016768454467': CallNode(function='metadsl_core.abstraction.Abstraction.__call__', type_params=None, args=['7628514662665322552', '-4547128079850781267'], kwargs=None), '-408516350611986333': CallNode(function='metadsl_core.abstraction.Abstraction.__call__', type_params={'U': DeclaredTypeInstance(type='metadsl_core.integer.Integer', params=None), 'T': DeclaredTypeInstance(type='metadsl_core.integer.Integer', params=None)}, args=['-4033490016768454467', '7814337577433284266'], kwargs=None), '8371647272118481268': CallNode(function='metadsl_core.abstraction.Abstraction.__call__', type_params={'U': DeclaredTypeInstance(type='metadsl_core.abstraction.Abstraction', params={'U': DeclaredTypeInstance(type='metadsl_core.integer.Integer', params=None), 'T': DeclaredTypeInstance(type='metadsl_core.integer.Integer', params=None)}), 'T': DeclaredTypeInstance(type='metadsl_core.abstraction.Abstraction', params={'U': DeclaredTypeInstance(type='metadsl_core.integer.Integer', params=None), 'T': DeclaredTypeInstance(type='metadsl_core.integer.Integer', params=None)})}, args=['7628514662665322552', '-4547128079850781267'], kwargs=None), '9205247044228387334': CallNode(function='metadsl_core.abstraction.Abstraction.__call__', type_params=None, args=['7628514662665322552', '8371647272118481268'], kwargs=None), '-3270218774252852790': CallNode(function='metadsl_core.abstraction.Abstraction.__call__', type_params={'U': DeclaredTypeInstance(type='metadsl_core.integer.Integer', params=None), 'T': DeclaredTypeInstance(type='metadsl_core.integer.Integer', params=None)}, args=['9205247044228387334', '7814337577433284266'], kwargs=None), '-8759012429794759505': CallNode(function='metadsl_core.abstraction.Abstraction.__call__', type_params={'U': DeclaredTypeInstance(type='metadsl_core.abstraction.Abstraction', params={'U': DeclaredTypeInstance(type='metadsl_core.integer.Integer', params=None), 'T': DeclaredTypeInstance(type='metadsl_core.integer.Integer', params=None)}), 'T': DeclaredTypeInstance(type='metadsl_core.abstraction.Abstraction', params={'U': DeclaredTypeInstance(type='metadsl_core.integer.Integer', params=None), 'T': DeclaredTypeInstance(type='metadsl_core.integer.Integer', params=None)})}, args=['7628514662665322552', '8371647272118481268'], kwargs=None), '4411733568251240067': CallNode(function='metadsl_core.abstraction.Abstraction.__call__', type_params=None, args=['7628514662665322552', '-8759012429794759505'], kwargs=None), '1383947478788917484': CallNode(function='metadsl_core.abstraction.Abstraction.__call__', type_params={'U': DeclaredTypeInstance(type='metadsl_core.integer.Integer', params=None), 'T': DeclaredTypeInstance(type='metadsl_core.integer.Integer', params=None)}, args=['4411733568251240067', '7814337577433284266'], kwargs=None), '-9060452756135316542': CallNode(function='metadsl_core.abstraction.Abstraction.__call__', type_params={'U': DeclaredTypeInstance(type='metadsl_core.abstraction.Abstraction', params={'U': DeclaredTypeInstance(type='metadsl_core.integer.Integer', params=None), 'T': DeclaredTypeInstance(type='metadsl_core.integer.Integer', params=None)}), 'T': DeclaredTypeInstance(type='metadsl_core.abstraction.Abstraction', params={'U': DeclaredTypeInstance(type='metadsl_core.integer.Integer', params=None), 'T': DeclaredTypeInstance(type='metadsl_core.integer.Integer', params=None)})}, args=['7628514662665322552', '-8759012429794759505'], kwargs=None), '3464502360774209126': CallNode(function='metadsl_core.abstraction.Abstraction.__call__', type_params=None, args=['7628514662665322552', '-9060452756135316542'], kwargs=None), '-2871730469597286753': CallNode(function='metadsl_core.abstraction.Abstraction.__call__', type_params={'U': DeclaredTypeInstance(type='metadsl_core.integer.Integer', params=None), 'T': DeclaredTypeInstance(type='metadsl_core.integer.Integer', params=None)}, args=['3464502360774209126', '7814337577433284266'], kwargs=None), '6796218601387702607': CallNode(function='metadsl_core.abstraction.Abstraction.__call__', type_params={'U': DeclaredTypeInstance(type='metadsl_core.abstraction.Abstraction', params={'U': DeclaredTypeInstance(type='metadsl_core.integer.Integer', params=None), 'T': DeclaredTypeInstance(type='metadsl_core.integer.Integer', params=None)}), 'T': DeclaredTypeInstance(type='metadsl_core.abstraction.Abstraction', params={'U': DeclaredTypeInstance(type='metadsl_core.integer.Integer', params=None), 'T': DeclaredTypeInstance(type='metadsl_core.integer.Integer', params=None)})}, args=['7628514662665322552', '-9060452756135316542'], kwargs=None), '-4665882918020507502': CallNode(function='metadsl_core.abstraction.Abstraction.__call__', type_params=None, args=['7628514662665322552', '6796218601387702607'], kwargs=None), '-152430711723098563': CallNode(function='metadsl_core.abstraction.Abstraction.__call__', type_params={'U': DeclaredTypeInstance(type='metadsl_core.integer.Integer', params=None), 'T': DeclaredTypeInstance(type='metadsl_core.integer.Integer', params=None)}, args=['-4665882918020507502', '7814337577433284266'], kwargs=None), '8117546607995102643': CallNode(function='metadsl_core.abstraction.Abstraction.__call__', type_params={'U': DeclaredTypeInstance(type='metadsl_core.abstraction.Abstraction', params={'U': DeclaredTypeInstance(type='metadsl_core.integer.Integer', params=None), 'T': DeclaredTypeInstance(type='metadsl_core.integer.Integer', params=None)}), 'T': DeclaredTypeInstance(type='metadsl_core.abstraction.Abstraction', params={'U': DeclaredTypeInstance(type='metadsl_core.integer.Integer', params=None), 'T': DeclaredTypeInstance(type='metadsl_core.integer.Integer', params=None)})}, args=['7628514662665322552', '6796218601387702607'], kwargs=None), '-1322646637160510258': CallNode(function='metadsl_core.abstraction.Abstraction.__call__', type_params=None, args=['7628514662665322552', '8117546607995102643'], kwargs=None), '2857461569398487310': CallNode(function='metadsl_core.abstraction.Abstraction.__call__', type_params={'U': DeclaredTypeInstance(type='metadsl_core.integer.Integer', params=None), 'T': DeclaredTypeInstance(type='metadsl_core.integer.Integer', params=None)}, args=['-1322646637160510258', '7814337577433284266'], kwargs=None), '-1651931199231302633': CallNode(function='metadsl_core.abstraction.Abstraction.__call__', type_params={'U': DeclaredTypeInstance(type='metadsl_core.abstraction.Abstraction', params={'U': DeclaredTypeInstance(type='metadsl_core.integer.Integer', params=None), 'T': DeclaredTypeInstance(type='metadsl_core.integer.Integer', params=None)}), 'T': DeclaredTypeInstance(type='metadsl_core.abstraction.Abstraction', params={'U': DeclaredTypeInstance(type='metadsl_core.integer.Integer', params=None), 'T': DeclaredTypeInstance(type='metadsl_core.integer.Integer', params=None)})}, args=['7628514662665322552', '8117546607995102643'], kwargs=None), '4435161132090495840': CallNode(function='metadsl_core.abstraction.Abstraction.__call__', type_params=None, args=['7628514662665322552', '-1651931199231302633'], kwargs=None), '8382683443292746127': CallNode(function='metadsl_core.abstraction.Abstraction.__call__', type_params={'U': DeclaredTypeInstance(type='metadsl_core.integer.Integer', params=None), 'T': DeclaredTypeInstance(type='metadsl_core.integer.Integer', params=None)}, args=['4435161132090495840', '7814337577433284266'], kwargs=None), '-1640377585501512735': CallNode(function='metadsl_core.abstraction.Abstraction.__call__', type_params={'U': DeclaredTypeInstance(type='metadsl_core.abstraction.Abstraction', params={'U': DeclaredTypeInstance(type='metadsl_core.integer.Integer', params=None), 'T': DeclaredTypeInstance(type='metadsl_core.integer.Integer', params=None)}), 'T': DeclaredTypeInstance(type='metadsl_core.abstraction.Abstraction', params={'U': DeclaredTypeInstance(type='metadsl_core.integer.Integer', params=None), 'T': DeclaredTypeInstance(type='metadsl_core.integer.Integer', params=None)})}, args=['7628514662665322552', '-1651931199231302633'], kwargs=None), '-1669341470194122830': CallNode(function='metadsl_core.abstraction.Abstraction.__call__', type_params=None, args=['7628514662665322552', '-1640377585501512735'], kwargs=None), '-4041018430714983373': CallNode(function='metadsl_core.abstraction.Abstraction.__call__', type_params={'U': DeclaredTypeInstance(type='metadsl_core.integer.Integer', params=None), 'T': DeclaredTypeInstance(type='metadsl_core.integer.Integer', params=None)}, args=['-1669341470194122830', '7814337577433284266'], kwargs=None), '8357705490975949075': CallNode(function='metadsl_core.abstraction.Abstraction.__call__', type_params={'U': DeclaredTypeInstance(type='metadsl_core.abstraction.Abstraction', params={'U': DeclaredTypeInstance(type='metadsl_core.integer.Integer', params=None), 'T': DeclaredTypeInstance(type='metadsl_core.integer.Integer', params=None)}), 'T': DeclaredTypeInstance(type='metadsl_core.abstraction.Abstraction', params={'U': DeclaredTypeInstance(type='metadsl_core.integer.Integer', params=None), 'T': DeclaredTypeInstance(type='metadsl_core.integer.Integer', params=None)})}, args=['7628514662665322552', '-1640377585501512735'], kwargs=None), '8657830377898012205': CallNode(function='metadsl_core.abstraction.Abstraction.__call__', type_params=None, args=['7628514662665322552', '8357705490975949075'], kwargs=None), '-7315080895798707987': CallNode(function='metadsl_core.abstraction.Abstraction.__call__', type_params={'U': DeclaredTypeInstance(type='metadsl_core.integer.Integer', params=None), 'T': DeclaredTypeInstance(type='metadsl_core.integer.Integer', params=None)}, args=['8657830377898012205', '7814337577433284266'], kwargs=None), '-6308738200200844668': CallNode(function='metadsl_core.abstraction.Abstraction.__call__', type_params={'U': DeclaredTypeInstance(type='metadsl_core.abstraction.Abstraction', params={'U': DeclaredTypeInstance(type='metadsl_core.integer.Integer', params=None), 'T': DeclaredTypeInstance(type='metadsl_core.integer.Integer', params=None)}), 'T': DeclaredTypeInstance(type='metadsl_core.abstraction.Abstraction', params={'U': DeclaredTypeInstance(type='metadsl_core.integer.Integer', params=None), 'T': DeclaredTypeInstance(type='metadsl_core.integer.Integer', params=None)})}, args=['7628514662665322552', '8357705490975949075'], kwargs=None), '-574095700423075474': CallNode(function='metadsl_core.abstraction.Abstraction.__call__', type_params=None, args=['7628514662665322552', '-6308738200200844668'], kwargs=None), '-2069547646569719974': CallNode(function='metadsl_core.abstraction.Abstraction.__call__', type_params={'U': DeclaredTypeInstance(type='metadsl_core.integer.Integer', params=None), 'T': DeclaredTypeInstance(type='metadsl_core.integer.Integer', params=None)}, args=['-574095700423075474', '7814337577433284266'], kwargs=None), '-6020741613412777737': CallNode(function='metadsl_core.abstraction.Abstraction.__call__', type_params={'U': DeclaredTypeInstance(type='metadsl_core.abstraction.Abstraction', params={'U': DeclaredTypeInstance(type='metadsl_core.integer.Integer', params=None), 'T': DeclaredTypeInstance(type='metadsl_core.integer.Integer', params=None)}), 'T': DeclaredTypeInstance(type='metadsl_core.abstraction.Abstraction', params={'U': DeclaredTypeInstance(type='metadsl_core.integer.Integer', params=None), 'T': DeclaredTypeInstance(type='metadsl_core.integer.Integer', params=None)})}, args=['7628514662665322552', '-6308738200200844668'], kwargs=None), '-5388172975163762488': CallNode(function='metadsl_core.abstraction.Abstraction.__call__', type_params=None, args=['7628514662665322552', '-6020741613412777737'], kwargs=None), '-1299520504962267788': CallNode(function='metadsl_core.abstraction.Abstraction.__call__', type_params={'U': DeclaredTypeInstance(type='metadsl_core.integer.Integer', params=None), 'T': DeclaredTypeInstance(type='metadsl_core.integer.Integer', params=None)}, args=['-5388172975163762488', '7814337577433284266'], kwargs=None), '-4412471871681987767': CallNode(function='metadsl_core.abstraction.Abstraction.__call__', type_params={'U': DeclaredTypeInstance(type='metadsl_core.abstraction.Abstraction', params={'U': DeclaredTypeInstance(type='metadsl_core.integer.Integer', params=None), 'T': DeclaredTypeInstance(type='metadsl_core.integer.Integer', params=None)}), 'T': DeclaredTypeInstance(type='metadsl_core.abstraction.Abstraction', params={'U': DeclaredTypeInstance(type='metadsl_core.integer.Integer', params=None), 'T': DeclaredTypeInstance(type='metadsl_core.integer.Integer', params=None)})}, args=['7628514662665322552', '-6020741613412777737'], kwargs=None), '-580122994999795411': CallNode(function='metadsl_core.abstraction.Abstraction.__call__', type_params=None, args=['7628514662665322552', '-4412471871681987767'], kwargs=None), '950829329192142751': CallNode(function='metadsl_core.abstraction.Abstraction.__call__', type_params={'U': DeclaredTypeInstance(type='metadsl_core.integer.Integer', params=None), 'T': DeclaredTypeInstance(type='metadsl_core.integer.Integer', params=None)}, args=['-580122994999795411', '7814337577433284266'], kwargs=None), '-7020975098928864380': CallNode(function='metadsl_core.abstraction.Abstraction.__call__', type_params={'U': DeclaredTypeInstance(type='metadsl_core.abstraction.Abstraction', params={'U': DeclaredTypeInstance(type='metadsl_core.integer.Integer', params=None), 'T': DeclaredTypeInstance(type='metadsl_core.integer.Integer', params=None)}), 'T': DeclaredTypeInstance(type='metadsl_core.abstraction.Abstraction', params={'U': DeclaredTypeInstance(type='metadsl_core.integer.Integer', params=None), 'T': DeclaredTypeInstance(type='metadsl_core.integer.Integer', params=None)})}, args=['7628514662665322552', '-4412471871681987767'], kwargs=None), '-5513058863430495684': CallNode(function='metadsl_core.abstraction.Abstraction.__call__', type_params=None, args=['7628514662665322552', '-7020975098928864380'], kwargs=None), '7173143578522098047': CallNode(function='metadsl_core.abstraction.Abstraction.__call__', type_params={'U': DeclaredTypeInstance(type='metadsl_core.integer.Integer', params=None), 'T': DeclaredTypeInstance(type='metadsl_core.integer.Integer', params=None)}, args=['-5513058863430495684', '7814337577433284266'], kwargs=None), '6778197262413158085': CallNode(function='metadsl_core.abstraction.Abstraction.__call__', type_params={'U': DeclaredTypeInstance(type='metadsl_core.abstraction.Abstraction', params={'U': DeclaredTypeInstance(type='metadsl_core.integer.Integer', params=None), 'T': DeclaredTypeInstance(type='metadsl_core.integer.Integer', params=None)}), 'T': DeclaredTypeInstance(type='metadsl_core.abstraction.Abstraction', params={'U': DeclaredTypeInstance(type='metadsl_core.integer.Integer', params=None), 'T': DeclaredTypeInstance(type='metadsl_core.integer.Integer', params=None)})}, args=['7628514662665322552', '-7020975098928864380'], kwargs=None), '2081375126865220130': CallNode(function='metadsl_core.abstraction.Abstraction.__call__', type_params=None, args=['7628514662665322552', '6778197262413158085'], kwargs=None), '-8343561361196290502': CallNode(function='metadsl_core.abstraction.Abstraction.__call__', type_params={'U': DeclaredTypeInstance(type='metadsl_core.integer.Integer', params=None), 'T': DeclaredTypeInstance(type='metadsl_core.integer.Integer', params=None)}, args=['2081375126865220130', '7814337577433284266'], kwargs=None), '2331710445467566755': CallNode(function='metadsl_core.abstraction.Abstraction.__call__', type_params={'U': DeclaredTypeInstance(type='metadsl_core.abstraction.Abstraction', params={'U': DeclaredTypeInstance(type='metadsl_core.integer.Integer', params=None), 'T': DeclaredTypeInstance(type='metadsl_core.integer.Integer', params=None)}), 'T': DeclaredTypeInstance(type='metadsl_core.abstraction.Abstraction', params={'U': DeclaredTypeInstance(type='metadsl_core.integer.Integer', params=None), 'T': DeclaredTypeInstance(type='metadsl_core.integer.Integer', params=None)})}, args=['7628514662665322552', '6778197262413158085'], kwargs=None), '8801716091190500722': CallNode(function='metadsl_core.abstraction.Abstraction.__call__', type_params=None, args=['7628514662665322552', '2331710445467566755'], kwargs=None), '8012777766372799733': CallNode(function='metadsl_core.abstraction.Abstraction.__call__', type_params={'U': DeclaredTypeInstance(type='metadsl_core.integer.Integer', params=None), 'T': DeclaredTypeInstance(type='metadsl_core.integer.Integer', params=None)}, args=['8801716091190500722', '7814337577433284266'], kwargs=None), '-4614480317379671085': CallNode(function='metadsl_core.abstraction.Abstraction.__call__', type_params={'U': DeclaredTypeInstance(type='metadsl_core.abstraction.Abstraction', params={'U': DeclaredTypeInstance(type='metadsl_core.integer.Integer', params=None), 'T': DeclaredTypeInstance(type='metadsl_core.integer.Integer', params=None)}), 'T': DeclaredTypeInstance(type='metadsl_core.abstraction.Abstraction', params={'U': DeclaredTypeInstance(type='metadsl_core.integer.Integer', params=None), 'T': DeclaredTypeInstance(type='metadsl_core.integer.Integer', params=None)})}, args=['7628514662665322552', '2331710445467566755'], kwargs=None), '4323247547539502761': CallNode(function='metadsl_core.abstraction.Abstraction.__call__', type_params=None, args=['7628514662665322552', '-4614480317379671085'], kwargs=None), '92819521141196392': CallNode(function='metadsl_core.abstraction.Abstraction.__call__', type_params={'U': DeclaredTypeInstance(type='metadsl_core.integer.Integer', params=None), 'T': DeclaredTypeInstance(type='metadsl_core.integer.Integer', params=None)}, args=['4323247547539502761', '7814337577433284266'], kwargs=None), '2320826589996878056': CallNode(function='metadsl_core.abstraction.Abstraction.__call__', type_params={'U': DeclaredTypeInstance(type='metadsl_core.abstraction.Abstraction', params={'U': DeclaredTypeInstance(type='metadsl_core.integer.Integer', params=None), 'T': DeclaredTypeInstance(type='metadsl_core.integer.Integer', params=None)}), 'T': DeclaredTypeInstance(type='metadsl_core.abstraction.Abstraction', params={'U': DeclaredTypeInstance(type='metadsl_core.integer.Integer', params=None), 'T': DeclaredTypeInstance(type='metadsl_core.integer.Integer', params=None)})}, args=['7628514662665322552', '-4614480317379671085'], kwargs=None), '-9074637276641173925': CallNode(function='metadsl_core.abstraction.Abstraction.__call__', type_params=None, args=['7628514662665322552', '2320826589996878056'], kwargs=None), '5394508239049852987': CallNode(function='metadsl_core.abstraction.Abstraction.__call__', type_params={'U': DeclaredTypeInstance(type='metadsl_core.integer.Integer', params=None), 'T': DeclaredTypeInstance(type='metadsl_core.integer.Integer', params=None)}, args=['-9074637276641173925', '7814337577433284266'], kwargs=None), '4198046585309805210': CallNode(function='metadsl_core.abstraction.Abstraction.__call__', type_params={'U': DeclaredTypeInstance(type='metadsl_core.abstraction.Abstraction', params={'U': DeclaredTypeInstance(type='metadsl_core.integer.Integer', params=None), 'T': DeclaredTypeInstance(type='metadsl_core.integer.Integer', params=None)}), 'T': DeclaredTypeInstance(type='metadsl_core.abstraction.Abstraction', params={'U': DeclaredTypeInstance(type='metadsl_core.integer.Integer', params=None), 'T': DeclaredTypeInstance(type='metadsl_core.integer.Integer', params=None)})}, args=['7628514662665322552', '2320826589996878056'], kwargs=None), '3126495990918983276': CallNode(function='metadsl_core.abstraction.Abstraction.__call__', type_params=None, args=['7628514662665322552', '4198046585309805210'], kwargs=None), '-3232175032600517464': CallNode(function='metadsl_core.abstraction.Abstraction.__call__', type_params={'U': DeclaredTypeInstance(type='metadsl_core.integer.Integer', params=None), 'T': DeclaredTypeInstance(type='metadsl_core.integer.Integer', params=None)}, args=['3126495990918983276', '7814337577433284266'], kwargs=None), '2723289848503144213': CallNode(function='metadsl_core.abstraction.Abstraction.__call__', type_params={'U': DeclaredTypeInstance(type='metadsl_core.abstraction.Abstraction', params={'U': DeclaredTypeInstance(type='metadsl_core.integer.Integer', params=None), 'T': DeclaredTypeInstance(type='metadsl_core.integer.Integer', params=None)}), 'T': DeclaredTypeInstance(type='metadsl_core.abstraction.Abstraction', params={'U': DeclaredTypeInstance(type='metadsl_core.integer.Integer', params=None), 'T': DeclaredTypeInstance(type='metadsl_core.integer.Integer', params=None)})}, args=['7628514662665322552', '4198046585309805210'], kwargs=None), '-8153637050074709849': CallNode(function='metadsl_core.abstraction.Abstraction.__call__', type_params=None, args=['7628514662665322552', '2723289848503144213'], kwargs=None), '3013261073585352146': CallNode(function='metadsl_core.abstraction.Abstraction.__call__', type_params={'U': DeclaredTypeInstance(type='metadsl_core.integer.Integer', params=None), 'T': DeclaredTypeInstance(type='metadsl_core.integer.Integer', params=None)}, args=['-8153637050074709849', '7814337577433284266'], kwargs=None), '2791902455016118718': CallNode(function='metadsl_core.abstraction.Abstraction.__call__', type_params={'U': DeclaredTypeInstance(type='metadsl_core.abstraction.Abstraction', params={'U': DeclaredTypeInstance(type='metadsl_core.integer.Integer', params=None), 'T': DeclaredTypeInstance(type='metadsl_core.integer.Integer', params=None)}), 'T': DeclaredTypeInstance(type='metadsl_core.abstraction.Abstraction', params={'U': DeclaredTypeInstance(type='metadsl_core.integer.Integer', params=None), 'T': DeclaredTypeInstance(type='metadsl_core.integer.Integer', params=None)})}, args=['7628514662665322552', '2723289848503144213'], kwargs=None), '618494611314788430': CallNode(function='metadsl_core.abstraction.Abstraction.__call__', type_params=None, args=['7628514662665322552', '2791902455016118718'], kwargs=None), '-8363686497451029910': CallNode(function='metadsl_core.abstraction.Abstraction.__call__', type_params={'U': DeclaredTypeInstance(type='metadsl_core.integer.Integer', params=None), 'T': DeclaredTypeInstance(type='metadsl_core.integer.Integer', params=None)}, args=['618494611314788430', '7814337577433284266'], kwargs=None), '-8889946126049717097': CallNode(function='metadsl_core.abstraction.Abstraction.__call__', type_params={'U': DeclaredTypeInstance(type='metadsl_core.abstraction.Abstraction', params={'U': DeclaredTypeInstance(type='metadsl_core.integer.Integer', params=None), 'T': DeclaredTypeInstance(type='metadsl_core.integer.Integer', params=None)}), 'T': DeclaredTypeInstance(type='metadsl_core.abstraction.Abstraction', params={'U': DeclaredTypeInstance(type='metadsl_core.integer.Integer', params=None), 'T': DeclaredTypeInstance(type='metadsl_core.integer.Integer', params=None)})}, args=['7628514662665322552', '2791902455016118718'], kwargs=None), '7678862680369368415': CallNode(function='metadsl_core.abstraction.Abstraction.__call__', type_params=None, args=['7628514662665322552', '-8889946126049717097'], kwargs=None), '6023920303463474873': CallNode(function='metadsl_core.abstraction.Abstraction.__call__', type_params={'U': DeclaredTypeInstance(type='metadsl_core.integer.Integer', params=None), 'T': DeclaredTypeInstance(type='metadsl_core.integer.Integer', params=None)}, args=['7678862680369368415', '7814337577433284266'], kwargs=None), '7822369829517330646': CallNode(function='metadsl_core.abstraction.Abstraction.__call__', type_params={'U': DeclaredTypeInstance(type='metadsl_core.abstraction.Abstraction', params={'U': DeclaredTypeInstance(type='metadsl_core.integer.Integer', params=None), 'T': DeclaredTypeInstance(type='metadsl_core.integer.Integer', params=None)}), 'T': DeclaredTypeInstance(type='metadsl_core.abstraction.Abstraction', params={'U': DeclaredTypeInstance(type='metadsl_core.integer.Integer', params=None), 'T': DeclaredTypeInstance(type='metadsl_core.integer.Integer', params=None)})}, args=['7628514662665322552', '-8889946126049717097'], kwargs=None), '-7765600304598004416': CallNode(function='metadsl_core.abstraction.Abstraction.__call__', type_params=None, args=['7628514662665322552', '7822369829517330646'], kwargs=None), '1194273964579265619': CallNode(function='metadsl_core.abstraction.Abstraction.__call__', type_params={'U': DeclaredTypeInstance(type='metadsl_core.integer.Integer', params=None), 'T': DeclaredTypeInstance(type='metadsl_core.integer.Integer', params=None)}, args=['-7765600304598004416', '7814337577433284266'], kwargs=None), '3803761213456993537': CallNode(function='metadsl_core.abstraction.Abstraction.__call__', type_params={'U': DeclaredTypeInstance(type='metadsl_core.abstraction.Abstraction', params={'U': DeclaredTypeInstance(type='metadsl_core.integer.Integer', params=None), 'T': DeclaredTypeInstance(type='metadsl_core.integer.Integer', params=None)}), 'T': DeclaredTypeInstance(type='metadsl_core.abstraction.Abstraction', params={'U': DeclaredTypeInstance(type='metadsl_core.integer.Integer', params=None), 'T': DeclaredTypeInstance(type='metadsl_core.integer.Integer', params=None)})}, args=['7628514662665322552', '7822369829517330646'], kwargs=None), '8738490947078486333': CallNode(function='metadsl_core.abstraction.Abstraction.__call__', type_params=None, args=['7628514662665322552', '3803761213456993537'], kwargs=None), '4112017844176516454': CallNode(function='metadsl_core.abstraction.Abstraction.__call__', type_params={'U': DeclaredTypeInstance(type='metadsl_core.integer.Integer', params=None), 'T': DeclaredTypeInstance(type='metadsl_core.integer.Integer', params=None)}, args=['8738490947078486333', '7814337577433284266'], kwargs=None), '8661247601959361780': CallNode(function='metadsl_core.abstraction.Abstraction.__call__', type_params={'U': DeclaredTypeInstance(type='metadsl_core.abstraction.Abstraction', params={'U': DeclaredTypeInstance(type='metadsl_core.integer.Integer', params=None), 'T': DeclaredTypeInstance(type='metadsl_core.integer.Integer', params=None)}), 'T': DeclaredTypeInstance(type='metadsl_core.abstraction.Abstraction', params={'U': DeclaredTypeInstance(type='metadsl_core.integer.Integer', params=None), 'T': DeclaredTypeInstance(type='metadsl_core.integer.Integer', params=None)})}, args=['7628514662665322552', '3803761213456993537'], kwargs=None), '-218263212931357576': CallNode(function='metadsl_core.abstraction.Abstraction.__call__', type_params=None, args=['7628514662665322552', '8661247601959361780'], kwargs=None), '8090202149031023986': CallNode(function='metadsl_core.abstraction.Abstraction.__call__', type_params={'U': DeclaredTypeInstance(type='metadsl_core.integer.Integer', params=None), 'T': DeclaredTypeInstance(type='metadsl_core.integer.Integer', params=None)}, args=['-218263212931357576', '7814337577433284266'], kwargs=None), '237010475521693849': CallNode(function='metadsl_core.abstraction.Abstraction.__call__', type_params={'U': DeclaredTypeInstance(type='metadsl_core.abstraction.Abstraction', params={'U': DeclaredTypeInstance(type='metadsl_core.integer.Integer', params=None), 'T': DeclaredTypeInstance(type='metadsl_core.integer.Integer', params=None)}), 'T': DeclaredTypeInstance(type='metadsl_core.abstraction.Abstraction', params={'U': DeclaredTypeInstance(type='metadsl_core.integer.Integer', params=None), 'T': DeclaredTypeInstance(type='metadsl_core.integer.Integer', params=None)})}, args=['7628514662665322552', '8661247601959361780'], kwargs=None), '5739341560288557925': CallNode(function='metadsl_core.abstraction.Abstraction.__call__', type_params=None, args=['7628514662665322552', '237010475521693849'], kwargs=None), '-2252560484747675476': CallNode(function='metadsl_core.abstraction.Abstraction.__call__', type_params={'U': DeclaredTypeInstance(type='metadsl_core.integer.Integer', params=None), 'T': DeclaredTypeInstance(type='metadsl_core.integer.Integer', params=None)}, args=['5739341560288557925', '7814337577433284266'], kwargs=None), '2279595913126844188': CallNode(function='metadsl_core.abstraction.Abstraction.__call__', type_params={'U': DeclaredTypeInstance(type='metadsl_core.abstraction.Abstraction', params={'U': DeclaredTypeInstance(type='metadsl_core.integer.Integer', params=None), 'T': DeclaredTypeInstance(type='metadsl_core.integer.Integer', params=None)}), 'T': DeclaredTypeInstance(type='metadsl_core.abstraction.Abstraction', params={'U': DeclaredTypeInstance(type='metadsl_core.integer.Integer', params=None), 'T': DeclaredTypeInstance(type='metadsl_core.integer.Integer', params=None)})}, args=['7628514662665322552', '237010475521693849'], kwargs=None), '8523847679072234520': CallNode(function='metadsl_core.abstraction.Abstraction.__call__', type_params=None, args=['7628514662665322552', '2279595913126844188'], kwargs=None), '-9059288213799259955': CallNode(function='metadsl_core.abstraction.Abstraction.__call__', type_params={'U': DeclaredTypeInstance(type='metadsl_core.integer.Integer', params=None), 'T': DeclaredTypeInstance(type='metadsl_core.integer.Integer', params=None)}, args=['8523847679072234520', '7814337577433284266'], kwargs=None), '-4417164004284607623': CallNode(function='metadsl_core.abstraction.Abstraction.__call__', type_params={'U': DeclaredTypeInstance(type='metadsl_core.abstraction.Abstraction', params={'U': DeclaredTypeInstance(type='metadsl_core.integer.Integer', params=None), 'T': DeclaredTypeInstance(type='metadsl_core.integer.Integer', params=None)}), 'T': DeclaredTypeInstance(type='metadsl_core.abstraction.Abstraction', params={'U': DeclaredTypeInstance(type='metadsl_core.integer.Integer', params=None), 'T': DeclaredTypeInstance(type='metadsl_core.integer.Integer', params=None)})}, args=['7628514662665322552', '2279595913126844188'], kwargs=None), '3915239293113848406': CallNode(function='metadsl_core.abstraction.Abstraction.__call__', type_params=None, args=['7628514662665322552', '-4417164004284607623'], kwargs=None), '-3484567529226728997': CallNode(function='metadsl_core.abstraction.Abstraction.__call__', type_params={'U': DeclaredTypeInstance(type='metadsl_core.integer.Integer', params=None), 'T': DeclaredTypeInstance(type='metadsl_core.integer.Integer', params=None)}, args=['3915239293113848406', '7814337577433284266'], kwargs=None), '4115156350241670111': CallNode(function='metadsl_core.abstraction.Abstraction.__call__', type_params={'U': DeclaredTypeInstance(type='metadsl_core.abstraction.Abstraction', params={'U': DeclaredTypeInstance(type='metadsl_core.integer.Integer', params=None), 'T': DeclaredTypeInstance(type='metadsl_core.integer.Integer', params=None)}), 'T': DeclaredTypeInstance(type='metadsl_core.abstraction.Abstraction', params={'U': DeclaredTypeInstance(type='metadsl_core.integer.Integer', params=None), 'T': DeclaredTypeInstance(type='metadsl_core.integer.Integer', params=None)})}, args=['7628514662665322552', '-4417164004284607623'], kwargs=None), '-1956372672719499347': CallNode(function='metadsl_core.abstraction.Abstraction.__call__', type_params=None, args=['7628514662665322552', '4115156350241670111'], kwargs=None), '-8325032841961285589': CallNode(function='metadsl_core.abstraction.Abstraction.__call__', type_params={'U': DeclaredTypeInstance(type='metadsl_core.integer.Integer', params=None), 'T': DeclaredTypeInstance(type='metadsl_core.integer.Integer', params=None)}, args=['-1956372672719499347', '7814337577433284266'], kwargs=None), '-3355957913048189692': CallNode(function='metadsl_core.abstraction.Abstraction.__call__', type_params={'U': DeclaredTypeInstance(type='metadsl_core.abstraction.Abstraction', params={'U': DeclaredTypeInstance(type='metadsl_core.integer.Integer', params=None), 'T': DeclaredTypeInstance(type='metadsl_core.integer.Integer', params=None)}), 'T': DeclaredTypeInstance(type='metadsl_core.abstraction.Abstraction', params={'U': DeclaredTypeInstance(type='metadsl_core.integer.Integer', params=None), 'T': DeclaredTypeInstance(type='metadsl_core.integer.Integer', params=None)})}, args=['7628514662665322552', '4115156350241670111'], kwargs=None), '-1550706644341894386': CallNode(function='metadsl_core.abstraction.Abstraction.__call__', type_params=None, args=['7628514662665322552', '-3355957913048189692'], kwargs=None), '-8667121272986620658': CallNode(function='metadsl_core.abstraction.Abstraction.__call__', type_params={'U': DeclaredTypeInstance(type='metadsl_core.integer.Integer', params=None), 'T': DeclaredTypeInstance(type='metadsl_core.integer.Integer', params=None)}, args=['-1550706644341894386', '7814337577433284266'], kwargs=None), '-2709654317328928681': CallNode(function='metadsl_core.abstraction.Abstraction.__call__', type_params={'U': DeclaredTypeInstance(type='metadsl_core.abstraction.Abstraction', params={'U': DeclaredTypeInstance(type='metadsl_core.integer.Integer', params=None), 'T': DeclaredTypeInstance(type='metadsl_core.integer.Integer', params=None)}), 'T': DeclaredTypeInstance(type='metadsl_core.abstraction.Abstraction', params={'U': DeclaredTypeInstance(type='metadsl_core.integer.Integer', params=None), 'T': DeclaredTypeInstance(type='metadsl_core.integer.Integer', params=None)})}, args=['7628514662665322552', '-3355957913048189692'], kwargs=None), '-1256864896709678412': CallNode(function='metadsl_core.abstraction.Abstraction.__call__', type_params=None, args=['7628514662665322552', '-2709654317328928681'], kwargs=None), '-1567947108809722835': CallNode(function='metadsl_core.abstraction.Abstraction.__call__', type_params={'U': DeclaredTypeInstance(type='metadsl_core.integer.Integer', params=None), 'T': DeclaredTypeInstance(type='metadsl_core.integer.Integer', params=None)}, args=['-1256864896709678412', '7814337577433284266'], kwargs=None)}, states=States(initial='-455973040630362760', states=[State(node='8751633257764103695', rule='metadsl_core.abstraction.Abstraction.from_fn', label=None), State(node='8788559637844729957', rule='metadsl_core.abstraction.Abstraction.from_fn', label='core'), State(node='8575574643069544668', rule='metadsl_core.abstraction.Abstraction.fix', label=None), State(node='1192574389423187946', rule='metadsl_core.abstraction.Abstraction.fix', label=None), State(node='7136157899833762640', rule='metadsl_core.abstraction.Abstraction.fix', label=None), State(node='480813817698061524', rule='metadsl_core.abstraction.Abstraction.fix', label=None), State(node='8877499715957272894', rule='metadsl_core.abstraction.Abstraction.fix', label=None), State(node='6557099315573168743', rule='metadsl_core.abstraction.Abstraction.fix', label=None), State(node='-8202234863710063317', rule='metadsl_core.abstraction.Abstraction.fix', label=None), State(node='5421336470322864914', rule='metadsl_core.abstraction.Abstraction.fix', label=None), State(node='6741395947897344973', rule='metadsl_core.abstraction.Abstraction.fix', label=None), State(node='3824966728325024653', rule='metadsl_core.abstraction.Abstraction.fix', label=None), State(node='-9024235881057346588', rule='metadsl_core.abstraction.Abstraction.fix', label=None), State(node='6138202689136561841', rule='metadsl_core.abstraction.Abstraction.fix', label=None), State(node='-733038121001753991', rule='metadsl_core.abstraction.Abstraction.fix', label=None), State(node='3329485215973120185', rule='metadsl_core.abstraction.Abstraction.fix', label=None), State(node='238970987535152334', rule='metadsl_core.abstraction.Abstraction.fix', label=None), State(node='5620450069190268915', rule='metadsl_core.abstraction.Abstraction.fix', label=None), State(node='8934538490308966455', rule='metadsl_core.abstraction.Abstraction.fix', label=None), State(node='2289398314973508445', rule='metadsl_core.abstraction.Abstraction.fix', label=None), State(node='-5922246725141134570', rule='metadsl_core.abstraction.Abstraction.fix', label=None), State(node='-5907885263429245663', rule='metadsl_core.abstraction.Abstraction.fix', label=None), State(node='-835866972099949881', rule='metadsl_core.abstraction.Abstraction.fix', label=None), State(node='-5721684206666636905', rule='metadsl_core.abstraction.Abstraction.fix', label=None), State(node='5392314716423534684', rule='metadsl_core.abstraction.Abstraction.fix', label=None), State(node='-1124149866616085125', rule='metadsl_core.abstraction.Abstraction.fix', label=None), State(node='-8218550761382596313', rule='metadsl_core.abstraction.Abstraction.fix', label=None), State(node='5940868264275590359', rule='metadsl_core.abstraction.Abstraction.fix', label=None), State(node='-6258042494314694926', rule='metadsl_core.abstraction.Abstraction.fix', label=None), State(node='2964003969081292467', rule='metadsl_core.abstraction.Abstraction.fix', label=None), State(node='-262067876029031251', rule='metadsl_core.abstraction.Abstraction.fix', label=None), State(node='188194231734855770', rule='metadsl_core.abstraction.Abstraction.fix', label=None), State(node='-408516350611986333', rule='metadsl_core.abstraction.Abstraction.fix', label=None), State(node='-3270218774252852790', rule='metadsl_core.abstraction.Abstraction.fix', label=None), State(node='1383947478788917484', rule='metadsl_core.abstraction.Abstraction.fix', label=None), State(node='-2871730469597286753', rule='metadsl_core.abstraction.Abstraction.fix', label=None), State(node='-152430711723098563', rule='metadsl_core.abstraction.Abstraction.fix', label=None), State(node='2857461569398487310', rule='metadsl_core.abstraction.Abstraction.fix', label=None), State(node='8382683443292746127', rule='metadsl_core.abstraction.Abstraction.fix', label=None), State(node='-4041018430714983373', rule='metadsl_core.abstraction.Abstraction.fix', label=None), State(node='-7315080895798707987', rule='metadsl_core.abstraction.Abstraction.fix', label=None), State(node='-2069547646569719974', rule='metadsl_core.abstraction.Abstraction.fix', label=None), State(node='-1299520504962267788', rule='metadsl_core.abstraction.Abstraction.fix', label=None), State(node='950829329192142751', rule='metadsl_core.abstraction.Abstraction.fix', label=None), State(node='7173143578522098047', rule='metadsl_core.abstraction.Abstraction.fix', label=None), State(node='-8343561361196290502', rule='metadsl_core.abstraction.Abstraction.fix', label=None), State(node='8012777766372799733', rule='metadsl_core.abstraction.Abstraction.fix', label=None), State(node='92819521141196392', rule='metadsl_core.abstraction.Abstraction.fix', label=None), State(node='5394508239049852987', rule='metadsl_core.abstraction.Abstraction.fix', label=None), State(node='-3232175032600517464', rule='metadsl_core.abstraction.Abstraction.fix', label=None), State(node='3013261073585352146', rule='metadsl_core.abstraction.Abstraction.fix', label=None), State(node='-8363686497451029910', rule='metadsl_core.abstraction.Abstraction.fix', label=None), State(node='6023920303463474873', rule='metadsl_core.abstraction.Abstraction.fix', label=None), State(node='1194273964579265619', rule='metadsl_core.abstraction.Abstraction.fix', label=None), State(node='4112017844176516454', rule='metadsl_core.abstraction.Abstraction.fix', label=None), State(node='8090202149031023986', rule='metadsl_core.abstraction.Abstraction.fix', label=None), State(node='-2252560484747675476', rule='metadsl_core.abstraction.Abstraction.fix', label=None), State(node='-9059288213799259955', rule='metadsl_core.abstraction.Abstraction.fix', label=None), State(node='-3484567529226728997', rule='metadsl_core.abstraction.Abstraction.fix', label=None), State(node='-8325032841961285589', rule='metadsl_core.abstraction.Abstraction.fix', label=None), State(node='-8667121272986620658', rule='metadsl_core.abstraction.Abstraction.fix', label=None), State(node='-1567947108809722835', rule='metadsl_core.abstraction.Abstraction.fix', label=None)]))"
      ]
     },
     "metadata": {},
     "output_type": "display_data"
    },
    {
     "name": "stdout",
     "output_type": "stream",
     "text": [
      "\n",
      "\n",
      "================================================================================= FAILURES =================================================================================\n",
      "_______________________________________________________________________ TestAbstraction.test_from_fn _______________________________________________________________________\n",
      "\n",
      "self = <metadsl_core.abstraction_test.TestAbstraction object at 0x10f4fc278>\n",
      "\n",
      "    def test_from_fn(self):\n",
      ">       a = execute(Abstraction[typing.Any, int].from_fn(lambda i: i), from_fn_rule)\n",
      "\n",
      "metadsl_core/abstraction_test.py:32: \n",
      "_ _ _ _ _ _ _ _ _ _ _ _ _ _ _ _ _ _ _ _ _ _ _ _ _ _ _ _ _ _ _ _ _ _ _ _ _ _ _ _ _ _ _ _ _ _ _ _ _ _ _ _ _ _ _ _ _ _ _ _ _ _ _ _ _ _ _ _ _ _ _ _ _ _ _ _ _ _ _ _ _ _ _ _ _ _ \n",
      "metadsl/rules.py:58: in __call__\n",
      "    return self.execute(expr, rule or self.default_rule)  # type: ignore\n",
      "metadsl_visualize/visualize.py:23: in execute_and_visualize\n",
      "    for expr, typez_ in convert_rule(rule)(expr):  # type: ignore\n",
      "metadsl_visualize/typez.py:28: in __call__\n",
      "    initial_node_id, nodes = convert_to_nodes(obj)\n",
      "metadsl_visualize/typez.py:69: in convert_to_nodes\n",
      "    metadsl.typing_tools.get_fn_typevars(expr.function)\n",
      "metadsl_visualize/typez.py:95: in typevars_to_typeparams\n",
      "    for var, tp in typevars.items()\n",
      "metadsl_visualize/typez.py:95: in <dictcomp>\n",
      "    for var, tp in typevars.items()\n",
      "metadsl_visualize/typez.py:113: in type_to_typeinstance\n",
      "    return ExternalTypeInstance(repr=function_or_type_repr(tp))\n",
      "_ _ _ _ _ _ _ _ _ _ _ _ _ _ _ _ _ _ _ _ _ _ _ _ _ _ _ _ _ _ _ _ _ _ _ _ _ _ _ _ _ _ _ _ _ _ _ _ _ _ _ _ _ _ _ _ _ _ _ _ _ _ _ _ _ _ _ _ _ _ _ _ _ _ _ _ _ _ _ _ _ _ _ _ _ _ \n",
      "\n",
      "o = typing.Any\n",
      "\n",
      "    def function_or_type_repr(o: typing.Union[typing.Type, typing.Callable]) -> str:\n",
      "        \"\"\"\n",
      "        returns the name of the type or function prefixed by the module name if it isn't a builtin\n",
      "        \"\"\"\n",
      "        module = inspect.getmodule(o)\n",
      ">       name = o.__qualname__ or o.__name__\n",
      "E       AttributeError: '_SpecialForm' object has no attribute '__qualname__'\n",
      "\n",
      "metadsl_visualize/typez.py:124: AttributeError\n",
      "______________________________________________________________________ TestAbstraction.test_constant _______________________________________________________________________\n",
      "\n",
      "self = <metadsl_core.abstraction_test.TestAbstraction object at 0x10f594668>\n",
      "\n",
      "    def test_constant(self):\n",
      ">       assert execute(Abstraction[typing.Any, int].from_fn(lambda _: 10)(\"hi\")) == 10\n",
      "\n",
      "metadsl_core/abstraction_test.py:44: \n",
      "_ _ _ _ _ _ _ _ _ _ _ _ _ _ _ _ _ _ _ _ _ _ _ _ _ _ _ _ _ _ _ _ _ _ _ _ _ _ _ _ _ _ _ _ _ _ _ _ _ _ _ _ _ _ _ _ _ _ _ _ _ _ _ _ _ _ _ _ _ _ _ _ _ _ _ _ _ _ _ _ _ _ _ _ _ _ \n",
      "metadsl/rules.py:58: in __call__\n",
      "    return self.execute(expr, rule or self.default_rule)  # type: ignore\n",
      "metadsl_visualize/visualize.py:23: in execute_and_visualize\n",
      "    for expr, typez_ in convert_rule(rule)(expr):  # type: ignore\n",
      "metadsl_visualize/typez.py:28: in __call__\n",
      "    initial_node_id, nodes = convert_to_nodes(obj)\n",
      "metadsl_visualize/typez.py:58: in convert_to_nodes\n",
      "    arg_id, arg_nodes = convert_to_nodes(arg)\n",
      "metadsl_visualize/typez.py:69: in convert_to_nodes\n",
      "    metadsl.typing_tools.get_fn_typevars(expr.function)\n",
      "metadsl_visualize/typez.py:95: in typevars_to_typeparams\n",
      "    for var, tp in typevars.items()\n",
      "metadsl_visualize/typez.py:95: in <dictcomp>\n",
      "    for var, tp in typevars.items()\n",
      "metadsl_visualize/typez.py:113: in type_to_typeinstance\n",
      "    return ExternalTypeInstance(repr=function_or_type_repr(tp))\n",
      "_ _ _ _ _ _ _ _ _ _ _ _ _ _ _ _ _ _ _ _ _ _ _ _ _ _ _ _ _ _ _ _ _ _ _ _ _ _ _ _ _ _ _ _ _ _ _ _ _ _ _ _ _ _ _ _ _ _ _ _ _ _ _ _ _ _ _ _ _ _ _ _ _ _ _ _ _ _ _ _ _ _ _ _ _ _ \n",
      "\n",
      "o = typing.Any\n",
      "\n",
      "    def function_or_type_repr(o: typing.Union[typing.Type, typing.Callable]) -> str:\n",
      "        \"\"\"\n",
      "        returns the name of the type or function prefixed by the module name if it isn't a builtin\n",
      "        \"\"\"\n",
      "        module = inspect.getmodule(o)\n",
      ">       name = o.__qualname__ or o.__name__\n",
      "E       AttributeError: '_SpecialForm' object has no attribute '__qualname__'\n",
      "\n",
      "metadsl_visualize/typez.py:124: AttributeError\n",
      "______________________________________________________________________ TestAbstraction.test_identity _______________________________________________________________________\n",
      "\n",
      "self = <metadsl_core.abstraction_test.TestAbstraction object at 0x10f5c3630>\n",
      "\n",
      "    def test_identity(self):\n",
      ">       assert execute(Abstraction[T, T].from_fn(lambda i: i)(\"hi\")) == \"hi\"\n",
      "\n",
      "metadsl_core/abstraction_test.py:47: \n",
      "_ _ _ _ _ _ _ _ _ _ _ _ _ _ _ _ _ _ _ _ _ _ _ _ _ _ _ _ _ _ _ _ _ _ _ _ _ _ _ _ _ _ _ _ _ _ _ _ _ _ _ _ _ _ _ _ _ _ _ _ _ _ _ _ _ _ _ _ _ _ _ _ _ _ _ _ _ _ _ _ _ _ _ _ _ _ \n",
      "metadsl/rules.py:58: in __call__\n",
      "    return self.execute(expr, rule or self.default_rule)  # type: ignore\n",
      "metadsl_visualize/visualize.py:23: in execute_and_visualize\n",
      "    for expr, typez_ in convert_rule(rule)(expr):  # type: ignore\n",
      "metadsl_visualize/typez.py:28: in __call__\n",
      "    initial_node_id, nodes = convert_to_nodes(obj)\n",
      "metadsl_visualize/typez.py:58: in convert_to_nodes\n",
      "    arg_id, arg_nodes = convert_to_nodes(arg)\n",
      "metadsl_visualize/typez.py:69: in convert_to_nodes\n",
      "    metadsl.typing_tools.get_fn_typevars(expr.function)\n",
      "metadsl_visualize/typez.py:95: in typevars_to_typeparams\n",
      "    for var, tp in typevars.items()\n",
      "metadsl_visualize/typez.py:95: in <dictcomp>\n",
      "    for var, tp in typevars.items()\n",
      "metadsl_visualize/typez.py:113: in type_to_typeinstance\n",
      "    return ExternalTypeInstance(repr=function_or_type_repr(tp))\n",
      "_ _ _ _ _ _ _ _ _ _ _ _ _ _ _ _ _ _ _ _ _ _ _ _ _ _ _ _ _ _ _ _ _ _ _ _ _ _ _ _ _ _ _ _ _ _ _ _ _ _ _ _ _ _ _ _ _ _ _ _ _ _ _ _ _ _ _ _ _ _ _ _ _ _ _ _ _ _ _ _ _ _ _ _ _ _ \n",
      "\n",
      "o = ~T\n",
      "\n",
      "    def function_or_type_repr(o: typing.Union[typing.Type, typing.Callable]) -> str:\n",
      "        \"\"\"\n",
      "        returns the name of the type or function prefixed by the module name if it isn't a builtin\n",
      "        \"\"\"\n",
      "        module = inspect.getmodule(o)\n",
      ">       name = o.__qualname__ or o.__name__\n",
      "E       AttributeError: 'TypeVar' object has no attribute '__qualname__'\n",
      "\n",
      "metadsl_visualize/typez.py:124: AttributeError\n",
      "============================================================================= warnings summary =============================================================================\n",
      "/usr/local/miniconda3/envs/metadsl/lib/python3.7/site-packages/_pytest/config/__init__.py:776\n",
      "/usr/local/miniconda3/envs/metadsl/lib/python3.7/site-packages/_pytest/config/__init__.py:776\n",
      "  /usr/local/miniconda3/envs/metadsl/lib/python3.7/site-packages/_pytest/config/__init__.py:776: PytestWarning: Module already imported so cannot be rewritten: xdist\n",
      "    self._mark_plugins_for_rewrite(hook)\n",
      "\n",
      "/usr/local/miniconda3/envs/metadsl/lib/python3.7/site-packages/_pytest/config/__init__.py:776\n",
      "  /usr/local/miniconda3/envs/metadsl/lib/python3.7/site-packages/_pytest/config/__init__.py:776: PytestWarning: Module already imported so cannot be rewritten: testmon\n",
      "    self._mark_plugins_for_rewrite(hook)\n",
      "\n",
      "/usr/local/miniconda3/envs/metadsl/lib/python3.7/site-packages/_pytest/config/__init__.py:776\n",
      "  /usr/local/miniconda3/envs/metadsl/lib/python3.7/site-packages/_pytest/config/__init__.py:776: PytestWarning: Module already imported so cannot be rewritten: pytest_randomly\n",
      "    self._mark_plugins_for_rewrite(hook)\n",
      "\n",
      "/usr/local/miniconda3/envs/metadsl/lib/python3.7/site-packages/_pytest/config/__init__.py:776\n",
      "  /usr/local/miniconda3/envs/metadsl/lib/python3.7/site-packages/_pytest/config/__init__.py:776: PytestWarning: Module already imported so cannot be rewritten: pytest_pudb\n",
      "    self._mark_plugins_for_rewrite(hook)\n",
      "\n",
      "/usr/local/miniconda3/envs/metadsl/lib/python3.7/site-packages/_pytest/config/__init__.py:776\n",
      "  /usr/local/miniconda3/envs/metadsl/lib/python3.7/site-packages/_pytest/config/__init__.py:776: PytestWarning: Module already imported so cannot be rewritten: pytest_mypy\n",
      "    self._mark_plugins_for_rewrite(hook)\n",
      "\n",
      "/usr/local/miniconda3/envs/metadsl/lib/python3.7/site-packages/_pytest/config/__init__.py:776\n",
      "  /usr/local/miniconda3/envs/metadsl/lib/python3.7/site-packages/_pytest/config/__init__.py:776: PytestWarning: Module already imported so cannot be rewritten: pytest_forked\n",
      "    self._mark_plugins_for_rewrite(hook)\n",
      "\n",
      "/usr/local/miniconda3/envs/metadsl/lib/python3.7/site-packages/_pytest/config/__init__.py:776\n",
      "  /usr/local/miniconda3/envs/metadsl/lib/python3.7/site-packages/_pytest/config/__init__.py:776: PytestWarning: Module already imported so cannot be rewritten: nbval\n",
      "    self._mark_plugins_for_rewrite(hook)\n",
      "\n",
      "-- Docs: https://docs.pytest.org/en/latest/warnings.html\n",
      "!!!!!!!!!!!!!!!!!!!!!!!!!!!!!!!!!!!!!!!!!!!!!!!!!!!!!!!!!!!!!!!!!!!!!!!!!!!! KeyboardInterrupt !!!!!!!!!!!!!!!!!!!!!!!!!!!!!!!!!!!!!!!!!!!!!!!!!!!!!!!!!!!!!!!!!!!!!!!!!!!!!\n",
      "/usr/local/miniconda3/envs/metadsl/lib/python3.7/site-packages/jsonschema/validators.py:322: KeyboardInterrupt\n",
      "(to show a full traceback on KeyboardInterrupt use --fulltrace)\n",
      "============================================================= 3 failed, 63 passed, 8 warnings in 12.96 seconds =============================================================\n"
     ]
    },
    {
     "data": {
      "text/plain": [
       "2"
      ]
     },
     "execution_count": 11,
     "metadata": {},
     "output_type": "execute_result"
    }
   ],
   "source": [
    "DISABLED_PLUGINS = [\n",
    "    \"xdist\",\n",
    "    \"mypy\",\n",
    "    \"pudb\",\n",
    "    \"testmon\",\n",
    "    \"randomly\",\n",
    "    \"forked\"\n",
    "]\n",
    "pytest.main([l for p in DISABLED_PLUGINS for l in (\"-p\", f\"no:{p}\") ])"
   ]
  },
  {
   "cell_type": "code",
   "execution_count": 9,
   "metadata": {},
   "outputs": [
    {
     "data": {
      "text/plain": [
       "['-p',\n",
       " 'no:xdist',\n",
       " '-p',\n",
       " 'no:mypy',\n",
       " '-p',\n",
       " 'no:pudb',\n",
       " '-p',\n",
       " 'no:cov',\n",
       " '-p',\n",
       " 'no:testmon',\n",
       " '-p',\n",
       " 'no:randomly',\n",
       " '-p',\n",
       " 'no:forked']"
      ]
     },
     "execution_count": 9,
     "metadata": {},
     "output_type": "execute_result"
    }
   ],
   "source": [
    "[l for p in DISABLED_PLUGINS for l in (\"-p\", f\"no:{p}\") ]"
   ]
  },
  {
   "cell_type": "code",
   "execution_count": null,
   "metadata": {},
   "outputs": [],
   "source": []
  }
 ],
 "metadata": {
  "kernelspec": {
   "display_name": "Python 3",
   "language": "python",
   "name": "python3"
  },
  "language_info": {
   "codemirror_mode": {
    "name": "ipython",
    "version": 3
   },
   "file_extension": ".py",
   "mimetype": "text/x-python",
   "name": "python",
   "nbconvert_exporter": "python",
   "pygments_lexer": "ipython3",
   "version": "3.7.3"
  }
 },
 "nbformat": 4,
 "nbformat_minor": 2
}
