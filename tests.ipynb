{
 "cells": [
  {
   "cell_type": "markdown",
   "metadata": {},
   "source": [
    "# Tests\n",
    "In this notebook, we run our `pytest` test suite. Why would we run this in a notebook not from the command line? Because then  we can visualize the replacemnts as they happen for debugging"
   ]
  },
  {
   "cell_type": "code",
   "execution_count": 1,
   "metadata": {},
   "outputs": [
    {
     "name": "stdout",
     "output_type": "stream",
     "text": [
      "========================================================= test session starts =========================================================\n",
      "platform darwin -- Python 3.7.3, pytest-4.4.0, py-1.8.0, pluggy-0.9.0 -- /usr/local/miniconda3/envs/metadsl/bin/python\n",
      "cachedir: .pytest_cache\n",
      "rootdir: /Users/saul/p/metadsl, inifile: pytest.ini\n",
      "plugins: xdist-1.29.0, cov-2.6.1, nbval-0.9.1, metadsl-visualize-0.0.0\n",
      "collecting ... collected 1 item\n",
      "\n",
      "metadsl_core/function_test.py::test_function_one_recursive "
     ]
    },
    {
     "data": {
      "application/json": {
       "nodes": {
        "-1729459163488535205": {
         "args": [
          "4064534678871896339"
         ],
         "function": "metadsl_core.integer.Integer.from_int"
        },
        "-3097541619037530843": {
         "args": [
          "-8634970765420105936",
          "-1729459163488535205"
         ],
         "function": "metadsl_core.function.FunctionOne.__call__",
         "type_params": {
          "T": {
           "type": "metadsl_core.integer.Integer"
          },
          "U": {
           "type": "metadsl_core.integer.Integer"
          }
         }
        },
        "-4571085880879367540": {
         "repr": "'factorial'",
         "type": "str"
        },
        "-726894804864423303": {
         "args": [
          "4527713685232418790"
         ],
         "function": "metadsl_core.abstraction.Abstraction.fix"
        },
        "-771310399392126400": {
         "args": [
          "8985016779299697078",
          "-1729459163488535205"
         ],
         "function": "metadsl_core.function.FunctionOne.__call__",
         "type_params": {
          "T": {
           "type": "metadsl_core.integer.Integer"
          },
          "U": {
           "type": "metadsl_core.integer.Integer"
          }
         }
        },
        "-8154138020519831248": {
         "repr": "<function FunctionOne.from_fn_recursive.<locals>.inner at 0x11c821158>",
         "type": "function"
        },
        "-8634970765420105936": {
         "args": [
          "-4571085880879367540",
          "-726894804864423303"
         ],
         "function": "metadsl_core.function.FunctionOne.create",
         "type_params": {
          "T": {
           "type": "metadsl_core.integer.Integer"
          },
          "U": {
           "type": "metadsl_core.integer.Integer"
          }
         }
        },
        "1069234016269993060": {
         "repr": "<function FunctionOne.from_fn_recursive.<locals>.inner at 0x11c821510>",
         "type": "function"
        },
        "1069234617528193610": {
         "repr": "<function factorial at 0x11c7d8b70>",
         "type": "function"
        },
        "3093168501051729331": {
         "args": [
          "1069234016269993060"
         ],
         "function": "metadsl_core.abstraction.Abstraction.from_fn",
         "type_params": {
          "T": {
           "params": {
            "T": {
             "type": "metadsl_core.integer.Integer"
            },
            "U": {
             "type": "metadsl_core.integer.Integer"
            }
           },
           "type": "metadsl_core.abstraction.Abstraction"
          },
          "U": {
           "params": {
            "T": {
             "type": "metadsl_core.integer.Integer"
            },
            "U": {
             "type": "metadsl_core.integer.Integer"
            }
           },
           "type": "metadsl_core.abstraction.Abstraction"
          }
         }
        },
        "4064534678871896339": {
         "repr": "0",
         "type": "int"
        },
        "4527713685232418790": {
         "args": [
          "-8154138020519831248"
         ],
         "function": "metadsl_core.abstraction.Abstraction.from_fn",
         "type_params": {
          "T": {
           "params": {
            "T": {
             "type": "metadsl_core.integer.Integer"
            },
            "U": {
             "type": "metadsl_core.integer.Integer"
            }
           },
           "type": "metadsl_core.abstraction.Abstraction"
          },
          "U": {
           "params": {
            "T": {
             "type": "metadsl_core.integer.Integer"
            },
            "U": {
             "type": "metadsl_core.integer.Integer"
            }
           },
           "type": "metadsl_core.abstraction.Abstraction"
          }
         }
        },
        "4795107594532657940": {
         "args": [
          "3093168501051729331"
         ],
         "function": "metadsl_core.abstraction.Abstraction.fix"
        },
        "874611188892964437": {
         "args": [
          "4795107594532657940",
          "-1729459163488535205"
         ],
         "function": "metadsl_core.abstraction.Abstraction.__call__",
         "type_params": {
          "T": {
           "type": "metadsl_core.integer.Integer"
          },
          "U": {
           "type": "metadsl_core.integer.Integer"
          }
         }
        },
        "8985016779299697078": {
         "args": [
          "1069234617528193610"
         ],
         "function": "metadsl_core.function.FunctionOne.from_fn_recursive"
        }
       },
       "states": {
        "initial": "-771310399392126400",
        "states": [
         {
          "node": "-3097541619037530843",
          "rule": "metadsl_core.function.FunctionOne.from_fn_recursive"
         },
         {
          "node": "874611188892964437",
          "rule": "metadsl_core.function.one_call"
         }
        ]
       }
      },
      "application/x.typez.graph+json": {
       "initial": "digraph {\n\t-771310399392126400 [label=\"metadsl_core.function.FunctionOne.__call__\"]\n\t-771310399392126400 -> 8985016779299697078\n\t8985016779299697078 [label=\"metadsl_core.function.FunctionOne.from_fn_recursive\"]\n\t8985016779299697078 -> 1069234617528193610\n\t1069234617528193610 [label=\"function factorial at 0x11c7d8b70\"]\n\t-771310399392126400 -> -1729459163488535205\n\t-1729459163488535205 [label=\"metadsl_core.integer.Integer.from_int\"]\n\t-1729459163488535205 -> 4064534678871896339\n\t4064534678871896339 [label=0]\n\t-771310399392126400.0 [label=\"metadsl_core.integer.Integer\"]\n\t-771310399392126400 -> -771310399392126400.0 [label=U]\n\t-771310399392126400.1 [label=\"metadsl_core.integer.Integer\"]\n\t-771310399392126400 -> -771310399392126400.1 [label=T]\n}",
       "states": [
        {
         "graph": "digraph {\n\t-3097541619037530843 [label=\"metadsl_core.function.FunctionOne.__call__\"]\n\t-3097541619037530843 -> -8634970765420105936\n\t-8634970765420105936 [label=\"metadsl_core.function.FunctionOne.create\"]\n\t-8634970765420105936 -> -4571085880879367540\n\t-4571085880879367540 [label=\"'factorial'\"]\n\t-8634970765420105936 -> -726894804864423303\n\t-726894804864423303 [label=\"metadsl_core.abstraction.Abstraction.fix\"]\n\t-726894804864423303 -> 4527713685232418790\n\t4527713685232418790 [label=\"metadsl_core.abstraction.Abstraction.from_fn\"]\n\t4527713685232418790 -> -8154138020519831248\n\t-8154138020519831248 [label=\"function FunctionOne.from_fn_recursive.locals.inner at 0x11c821158\"]\n\t4527713685232418790.0 [label=\"metadsl_core.abstraction.Abstraction\"]\n\t\"4527713685232418790.0.0\" [label=\"metadsl_core.integer.Integer\"]\n\t4527713685232418790.0 -> \"4527713685232418790.0.0\" [label=U]\n\t\"4527713685232418790.0.1\" [label=\"metadsl_core.integer.Integer\"]\n\t4527713685232418790.0 -> \"4527713685232418790.0.1\" [label=T]\n\t4527713685232418790 -> 4527713685232418790.0 [label=U]\n\t4527713685232418790.1 [label=\"metadsl_core.abstraction.Abstraction\"]\n\t\"4527713685232418790.1.0\" [label=\"metadsl_core.integer.Integer\"]\n\t4527713685232418790.1 -> \"4527713685232418790.1.0\" [label=U]\n\t\"4527713685232418790.1.1\" [label=\"metadsl_core.integer.Integer\"]\n\t4527713685232418790.1 -> \"4527713685232418790.1.1\" [label=T]\n\t4527713685232418790 -> 4527713685232418790.1 [label=T]\n\t-8634970765420105936.0 [label=\"metadsl_core.integer.Integer\"]\n\t-8634970765420105936 -> -8634970765420105936.0 [label=U]\n\t-8634970765420105936.1 [label=\"metadsl_core.integer.Integer\"]\n\t-8634970765420105936 -> -8634970765420105936.1 [label=T]\n\t-3097541619037530843 -> -1729459163488535205\n\t-1729459163488535205 [label=\"metadsl_core.integer.Integer.from_int\"]\n\t-1729459163488535205 -> 4064534678871896339\n\t4064534678871896339 [label=0]\n\t-3097541619037530843.0 [label=\"metadsl_core.integer.Integer\"]\n\t-3097541619037530843 -> -3097541619037530843.0 [label=U]\n\t-3097541619037530843.1 [label=\"metadsl_core.integer.Integer\"]\n\t-3097541619037530843 -> -3097541619037530843.1 [label=T]\n}",
         "label": null,
         "rule": "metadsl_core.function.FunctionOne.from_fn_recursive"
        },
        {
         "graph": "digraph {\n\t874611188892964437 [label=\"metadsl_core.abstraction.Abstraction.__call__\"]\n\t874611188892964437 -> 4795107594532657940\n\t4795107594532657940 [label=\"metadsl_core.abstraction.Abstraction.fix\"]\n\t4795107594532657940 -> 3093168501051729331\n\t3093168501051729331 [label=\"metadsl_core.abstraction.Abstraction.from_fn\"]\n\t3093168501051729331 -> 1069234016269993060\n\t1069234016269993060 [label=\"function FunctionOne.from_fn_recursive.locals.inner at 0x11c821510\"]\n\t3093168501051729331.0 [label=\"metadsl_core.abstraction.Abstraction\"]\n\t\"3093168501051729331.0.0\" [label=\"metadsl_core.integer.Integer\"]\n\t3093168501051729331.0 -> \"3093168501051729331.0.0\" [label=U]\n\t\"3093168501051729331.0.1\" [label=\"metadsl_core.integer.Integer\"]\n\t3093168501051729331.0 -> \"3093168501051729331.0.1\" [label=T]\n\t3093168501051729331 -> 3093168501051729331.0 [label=U]\n\t3093168501051729331.1 [label=\"metadsl_core.abstraction.Abstraction\"]\n\t\"3093168501051729331.1.0\" [label=\"metadsl_core.integer.Integer\"]\n\t3093168501051729331.1 -> \"3093168501051729331.1.0\" [label=U]\n\t\"3093168501051729331.1.1\" [label=\"metadsl_core.integer.Integer\"]\n\t3093168501051729331.1 -> \"3093168501051729331.1.1\" [label=T]\n\t3093168501051729331 -> 3093168501051729331.1 [label=T]\n\t874611188892964437 -> -1729459163488535205\n\t-1729459163488535205 [label=\"metadsl_core.integer.Integer.from_int\"]\n\t-1729459163488535205 -> 4064534678871896339\n\t4064534678871896339 [label=0]\n\t874611188892964437.0 [label=\"metadsl_core.integer.Integer\"]\n\t874611188892964437 -> 874611188892964437.0 [label=U]\n\t874611188892964437.1 [label=\"metadsl_core.integer.Integer\"]\n\t874611188892964437 -> 874611188892964437.1 [label=T]\n}",
         "label": null,
         "rule": "metadsl_core.function.one_call"
        }
       ]
      },
      "text/plain": [
       "Typez(definitions=None, nodes={'1069234617528193610': PrimitiveNode(type='function', repr='<function factorial at 0x11c7d8b70>'), '8985016779299697078': CallNode(function='metadsl_core.function.FunctionOne.from_fn_recursive', type_params=None, args=['1069234617528193610'], kwargs=None), '4064534678871896339': PrimitiveNode(type='int', repr='0'), '-1729459163488535205': CallNode(function='metadsl_core.integer.Integer.from_int', type_params=None, args=['4064534678871896339'], kwargs=None), '-771310399392126400': CallNode(function='metadsl_core.function.FunctionOne.__call__', type_params={'U': DeclaredTypeInstance(type='metadsl_core.integer.Integer', params=None), 'T': DeclaredTypeInstance(type='metadsl_core.integer.Integer', params=None)}, args=['8985016779299697078', '-1729459163488535205'], kwargs=None), '-4571085880879367540': PrimitiveNode(type='str', repr=\"'factorial'\"), '-8154138020519831248': PrimitiveNode(type='function', repr='<function FunctionOne.from_fn_recursive.<locals>.inner at 0x11c821158>'), '4527713685232418790': CallNode(function='metadsl_core.abstraction.Abstraction.from_fn', type_params={'U': DeclaredTypeInstance(type='metadsl_core.abstraction.Abstraction', params={'U': DeclaredTypeInstance(type='metadsl_core.integer.Integer', params=None), 'T': DeclaredTypeInstance(type='metadsl_core.integer.Integer', params=None)}), 'T': DeclaredTypeInstance(type='metadsl_core.abstraction.Abstraction', params={'U': DeclaredTypeInstance(type='metadsl_core.integer.Integer', params=None), 'T': DeclaredTypeInstance(type='metadsl_core.integer.Integer', params=None)})}, args=['-8154138020519831248'], kwargs=None), '-726894804864423303': CallNode(function='metadsl_core.abstraction.Abstraction.fix', type_params=None, args=['4527713685232418790'], kwargs=None), '-8634970765420105936': CallNode(function='metadsl_core.function.FunctionOne.create', type_params={'U': DeclaredTypeInstance(type='metadsl_core.integer.Integer', params=None), 'T': DeclaredTypeInstance(type='metadsl_core.integer.Integer', params=None)}, args=['-4571085880879367540', '-726894804864423303'], kwargs=None), '-3097541619037530843': CallNode(function='metadsl_core.function.FunctionOne.__call__', type_params={'U': DeclaredTypeInstance(type='metadsl_core.integer.Integer', params=None), 'T': DeclaredTypeInstance(type='metadsl_core.integer.Integer', params=None)}, args=['-8634970765420105936', '-1729459163488535205'], kwargs=None), '1069234016269993060': PrimitiveNode(type='function', repr='<function FunctionOne.from_fn_recursive.<locals>.inner at 0x11c821510>'), '3093168501051729331': CallNode(function='metadsl_core.abstraction.Abstraction.from_fn', type_params={'U': DeclaredTypeInstance(type='metadsl_core.abstraction.Abstraction', params={'U': DeclaredTypeInstance(type='metadsl_core.integer.Integer', params=None), 'T': DeclaredTypeInstance(type='metadsl_core.integer.Integer', params=None)}), 'T': DeclaredTypeInstance(type='metadsl_core.abstraction.Abstraction', params={'U': DeclaredTypeInstance(type='metadsl_core.integer.Integer', params=None), 'T': DeclaredTypeInstance(type='metadsl_core.integer.Integer', params=None)})}, args=['1069234016269993060'], kwargs=None), '4795107594532657940': CallNode(function='metadsl_core.abstraction.Abstraction.fix', type_params=None, args=['3093168501051729331'], kwargs=None), '874611188892964437': CallNode(function='metadsl_core.abstraction.Abstraction.__call__', type_params={'U': DeclaredTypeInstance(type='metadsl_core.integer.Integer', params=None), 'T': DeclaredTypeInstance(type='metadsl_core.integer.Integer', params=None)}, args=['4795107594532657940', '-1729459163488535205'], kwargs=None)}, states=States(initial='-771310399392126400', states=[State(node='-3097541619037530843', rule='metadsl_core.function.FunctionOne.from_fn_recursive', label=None), State(node='874611188892964437', rule='metadsl_core.function.one_call', label=None)]))"
      ]
     },
     "metadata": {},
     "output_type": "display_data"
    },
    {
     "name": "stdout",
     "output_type": "stream",
     "text": [
      "FAILED                                                               [100%]\n",
      "\n",
      "============================================================== FAILURES ===============================================================\n",
      "_____________________________________________________ test_function_one_recursive _____________________________________________________\n",
      "\n",
      "    def test_function_one_recursive():\n",
      ">       assert execute(factorial(zero)) == one\n",
      "\n",
      "metadsl_core/function_test.py:9: \n",
      "_ _ _ _ _ _ _ _ _ _ _ _ _ _ _ _ _ _ _ _ _ _ _ _ _ _ _ _ _ _ _ _ _ _ _ _ _ _ _ _ _ _ _ _ _ _ _ _ _ _ _ _ _ _ _ _ _ _ _ _ _ _ _ _ _ _ _ _\n",
      "metadsl/rules.py:58: in __call__\n",
      "    return self.execute(expr, rule or self.default_rule)  # type: ignore\n",
      "metadsl_visualize/visualize.py:23: in execute_and_visualize\n",
      "    for expr, typez_ in convert_rule(rule)(expr):  # type: ignore\n",
      "metadsl_visualize/typez.py:34: in __call__\n",
      "    node_id, new_nodes = convert_to_nodes(replacement.result)\n",
      "metadsl_visualize/typez.py:58: in convert_to_nodes\n",
      "    arg_id, arg_nodes = convert_to_nodes(arg)\n",
      "metadsl_visualize/typez.py:58: in convert_to_nodes\n",
      "    arg_id, arg_nodes = convert_to_nodes(arg)\n",
      "metadsl_visualize/typez.py:58: in convert_to_nodes\n",
      "    arg_id, arg_nodes = convert_to_nodes(arg)\n",
      "metadsl_visualize/typez.py:69: in convert_to_nodes\n",
      "    metadsl.typing_tools.get_fn_typevars(expr.function)\n",
      "metadsl_visualize/typez.py:95: in typevars_to_typeparams\n",
      "    for var, tp in typevars.items()\n",
      "metadsl_visualize/typez.py:95: in <dictcomp>\n",
      "    for var, tp in typevars.items()\n",
      "metadsl_visualize/typez.py:113: in type_to_typeinstance\n",
      "    return ExternalTypeInstance(repr=function_or_type_repr(tp))\n",
      "_ _ _ _ _ _ _ _ _ _ _ _ _ _ _ _ _ _ _ _ _ _ _ _ _ _ _ _ _ _ _ _ _ _ _ _ _ _ _ _ _ _ _ _ _ _ _ _ _ _ _ _ _ _ _ _ _ _ _ _ _ _ _ _ _ _ _ _\n",
      "\n",
      "o = ~U\n",
      "\n",
      "    def function_or_type_repr(o: typing.Union[typing.Type, typing.Callable]) -> str:\n",
      "        \"\"\"\n",
      "        returns the name of the type or function prefixed by the module name if it isn't a builtin\n",
      "        \"\"\"\n",
      "        # This is true for `typing.Any`\n",
      "        if isinstance(o, typing._SpecialForm):\n",
      "            return repr(o)\n",
      "    \n",
      "        module = inspect.getmodule(o)\n",
      ">       name = o.__qualname__ or o.__name__\n",
      "E       AttributeError: 'TypeVar' object has no attribute '__qualname__'\n",
      "\n",
      "metadsl_visualize/typez.py:128: AttributeError\n",
      "====================================================== 1 failed in 0.48 seconds =======================================================\n"
     ]
    }
   ],
   "source": [
    "import pytest\n",
    "import metadsl_visualize\n",
    "DISABLED_PLUGINS = [\n",
    "    \"xdist\",\n",
    "    \"mypy\",\n",
    "    \"pudb\",\n",
    "    \"testmon\",\n",
    "    \"randomly\",\n",
    "    \"forked\"\n",
    "]\n",
    "\n",
    "def test(path=\"\"):\n",
    "    pytest.main([l for p in DISABLED_PLUGINS for l in (\"-p\", f\"no:{p}\")] + [\"-v\", path])\n",
    "    \n",
    "test(\"metadsl_core/function_test.py\")"
   ]
  },
  {
   "cell_type": "code",
   "execution_count": 6,
   "metadata": {},
   "outputs": [
    {
     "data": {
      "text/plain": [
       "'~T'"
      ]
     },
     "execution_count": 6,
     "metadata": {},
     "output_type": "execute_result"
    }
   ],
   "source": [
    "import typing\n",
    "repr(typing.TypeVar(\"T\"))"
   ]
  },
  {
   "cell_type": "code",
   "execution_count": null,
   "metadata": {},
   "outputs": [],
   "source": []
  }
 ],
 "metadata": {
  "kernelspec": {
   "display_name": "Python 3",
   "language": "python",
   "name": "python3"
  },
  "language_info": {
   "codemirror_mode": {
    "name": "ipython",
    "version": 3
   },
   "file_extension": ".py",
   "mimetype": "text/x-python",
   "name": "python",
   "nbconvert_exporter": "python",
   "pygments_lexer": "ipython3",
   "version": "3.7.3"
  }
 },
 "nbformat": 4,
 "nbformat_minor": 4
}
