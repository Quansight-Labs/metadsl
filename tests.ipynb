{
 "cells": [
  {
   "cell_type": "markdown",
   "metadata": {},
   "source": [
    "# Tests\n",
    "In this notebook, we run our `pytest` test suite. Why would we run this in a notebook not from the command line? Because then  we can visualize the replacemnts as they happen for debugging"
   ]
  },
  {
   "cell_type": "code",
   "execution_count": 1,
   "metadata": {},
   "outputs": [
    {
     "name": "stdout",
     "output_type": "stream",
     "text": [
      "========================================================= test session starts =========================================================\n",
      "platform darwin -- Python 3.7.3, pytest-4.4.0, py-1.8.0, pluggy-0.9.0 -- /usr/local/miniconda3/envs/metadsl/bin/python\n",
      "cachedir: .pytest_cache\n",
      "rootdir: /Users/saul/p/metadsl, inifile: pytest.ini\n",
      "plugins: xdist-1.29.0, cov-2.6.1, nbval-0.9.1, metadsl-visualize-0.0.0\n",
      "collecting ... collected 2 items\n",
      "\n",
      "metadsl_core/function_test.py::TestFunction::test_one_recursive "
     ]
    },
    {
     "data": {
      "application/json": {
       "nodes": {
        "-1439514908367727057": {
         "args": [
          "-7058791482119444745"
         ],
         "function": "metadsl_core.abstraction.Abstraction.from_fn",
         "type_params": {
          "T": {
           "repr": "~T"
          },
          "U": {
           "repr": "~U"
          }
         }
        },
        "-2239091792461986539": {
         "args": [
          "8674094432993515251",
          "-3222602581848478408"
         ],
         "function": "metadsl_core.function.FunctionOne.create",
         "type_params": {
          "T": {
           "type": "metadsl_core.integer.Integer"
          },
          "U": {
           "type": "metadsl_core.integer.Integer"
          }
         }
        },
        "-2604696413687085559": {
         "args": [
          "1312730446075325300",
          "8915847926163634623"
         ],
         "function": "metadsl_core.abstraction.Abstraction.__call__",
         "type_params": {
          "T": {
           "type": "metadsl_core.integer.Integer"
          },
          "U": {
           "type": "metadsl_core.integer.Integer"
          }
         }
        },
        "-3222602581848478408": {
         "args": [
          "2891636654305560641"
         ],
         "function": "metadsl_core.abstraction.Abstraction.fix"
        },
        "-5113140593459767058": {
         "args": [
          "-5116742135002313092"
         ],
         "function": "metadsl_core.abstraction.Abstraction.create_variable",
         "type_params": {
          "T": {
           "params": {
            "T": {
             "type": "metadsl_core.integer.Integer"
            },
            "U": {
             "type": "metadsl_core.integer.Integer"
            }
           },
           "type": "metadsl_core.abstraction.Abstraction"
          },
          "U": {
           "params": {
            "T": {
             "type": "metadsl_core.integer.Integer"
            },
            "U": {
             "type": "metadsl_core.integer.Integer"
            }
           },
           "type": "metadsl_core.abstraction.Abstraction"
          }
         }
        },
        "-5116742135002313092": {
         "repr": "Variable(4476725176)",
         "type": "metadsl_core.abstraction.Variable"
        },
        "-6978257084160345610": {
         "args": [
          "2164580554726670863"
         ],
         "function": "metadsl_core.abstraction.Abstraction.from_fn",
         "type_params": {
          "T": {
           "params": {
            "T": {
             "type": "metadsl_core.integer.Integer"
            },
            "U": {
             "type": "metadsl_core.integer.Integer"
            }
           },
           "type": "metadsl_core.abstraction.Abstraction"
          },
          "U": {
           "params": {
            "T": {
             "type": "metadsl_core.integer.Integer"
            },
            "U": {
             "type": "metadsl_core.integer.Integer"
            }
           },
           "type": "metadsl_core.abstraction.Abstraction"
          }
         }
        },
        "-7058791482077226270": {
         "repr": "<function FunctionOne.from_fn_recursive.<locals>.inner at 0x10ad7b268>",
         "type": "function"
        },
        "-7058791482119444745": {
         "repr": "<function FunctionOne.from_fn_recursive.<locals>.inner.<locals>.inner_inner at 0x10ad7b598>",
         "type": "function"
        },
        "-7058792169059499045": {
         "repr": "<function factorial at 0x10a32c158>",
         "type": "function"
        },
        "1312730446075325300": {
         "args": [
          "-6978257084160345610"
         ],
         "function": "metadsl_core.abstraction.Abstraction.fix"
        },
        "2164580554726670863": {
         "repr": "<function FunctionOne.from_fn_recursive.<locals>.inner at 0x10ad7b510>",
         "type": "function"
        },
        "2516220305832965478": {
         "repr": "0",
         "type": "int"
        },
        "2891636654305560641": {
         "args": [
          "-7058791482077226270"
         ],
         "function": "metadsl_core.abstraction.Abstraction.from_fn",
         "type_params": {
          "T": {
           "params": {
            "T": {
             "type": "metadsl_core.integer.Integer"
            },
            "U": {
             "type": "metadsl_core.integer.Integer"
            }
           },
           "type": "metadsl_core.abstraction.Abstraction"
          },
          "U": {
           "params": {
            "T": {
             "type": "metadsl_core.integer.Integer"
            },
            "U": {
             "type": "metadsl_core.integer.Integer"
            }
           },
           "type": "metadsl_core.abstraction.Abstraction"
          }
         }
        },
        "5581162225130258156": {
         "args": [
          "-7058792169059499045"
         ],
         "function": "metadsl_core.function.FunctionOne.from_fn_recursive"
        },
        "6239452660032114609": {
         "args": [
          "9016588929203026949"
         ],
         "function": "metadsl_core.abstraction.Abstraction.fix"
        },
        "752326521207848835": {
         "args": [
          "-2239091792461986539",
          "8915847926163634623"
         ],
         "function": "metadsl_core.function.FunctionOne.__call__",
         "type_params": {
          "T": {
           "type": "metadsl_core.integer.Integer"
          },
          "U": {
           "type": "metadsl_core.integer.Integer"
          }
         }
        },
        "7597565508575685847": {
         "args": [
          "6239452660032114609",
          "8915847926163634623"
         ],
         "function": "metadsl_core.abstraction.Abstraction.__call__",
         "type_params": {
          "T": {
           "type": "metadsl_core.integer.Integer"
          },
          "U": {
           "type": "metadsl_core.integer.Integer"
          }
         }
        },
        "8549187774145912373": {
         "args": [
          "5581162225130258156",
          "8915847926163634623"
         ],
         "function": "metadsl_core.function.FunctionOne.__call__",
         "type_params": {
          "T": {
           "type": "metadsl_core.integer.Integer"
          },
          "U": {
           "type": "metadsl_core.integer.Integer"
          }
         }
        },
        "8674094432993515251": {
         "repr": "'factorial'",
         "type": "str"
        },
        "8915847926163634623": {
         "args": [
          "2516220305832965478"
         ],
         "function": "metadsl_core.integer.Integer.from_int"
        },
        "9016588929203026949": {
         "args": [
          "-5113140593459767058",
          "-1439514908367727057"
         ],
         "function": "metadsl_core.abstraction.Abstraction.create",
         "type_params": {
          "T": {
           "params": {
            "T": {
             "type": "metadsl_core.integer.Integer"
            },
            "U": {
             "type": "metadsl_core.integer.Integer"
            }
           },
           "type": "metadsl_core.abstraction.Abstraction"
          },
          "U": {
           "params": {
            "T": {
             "type": "metadsl_core.integer.Integer"
            },
            "U": {
             "type": "metadsl_core.integer.Integer"
            }
           },
           "type": "metadsl_core.abstraction.Abstraction"
          }
         }
        }
       },
       "states": {
        "initial": "8549187774145912373",
        "states": [
         {
          "node": "752326521207848835",
          "rule": "metadsl_core.function.FunctionOne.from_fn_recursive"
         },
         {
          "node": "-2604696413687085559",
          "rule": "metadsl_core.function.one_call"
         },
         {
          "node": "7597565508575685847",
          "rule": "metadsl_core.abstraction.Abstraction.from_fn"
         }
        ]
       }
      },
      "application/x.typez.graph+json": {
       "initial": "digraph {\n\tnode [shape=plain]\n\tedge [arrowsize=0.5 penwidth=0.5]\n\t8549187774145912373 [label=\"metadsl_core.function.FunctionOne.__call__\"]\n\t8549187774145912373 -> 5581162225130258156\n\t5581162225130258156 [label=\"metadsl_core.function.FunctionOne.from_fn_recursive\"]\n\t5581162225130258156 -> -7058792169059499045\n\t-7058792169059499045 [label=\"function factorial at 0x10a32c158\"]\n\t8549187774145912373 -> 8915847926163634623\n\t8915847926163634623 [label=\"metadsl_core.integer.Integer.from_int\"]\n\t8915847926163634623 -> 2516220305832965478\n\t2516220305832965478 [label=0]\n\t8549187774145912373.0 [label=\"metadsl_core.integer.Integer\"]\n\t8549187774145912373 -> 8549187774145912373.0 [label=U]\n\t8549187774145912373.1 [label=\"metadsl_core.integer.Integer\"]\n\t8549187774145912373 -> 8549187774145912373.1 [label=T]\n}",
       "states": [
        {
         "graph": "digraph {\n\tnode [shape=plain]\n\tedge [arrowsize=0.5 penwidth=0.5]\n\t752326521207848835 [label=\"metadsl_core.function.FunctionOne.__call__\"]\n\t752326521207848835 -> -2239091792461986539\n\t-2239091792461986539 [label=\"metadsl_core.function.FunctionOne.create\"]\n\t-2239091792461986539 -> 8674094432993515251\n\t8674094432993515251 [label=\"'factorial'\"]\n\t-2239091792461986539 -> -3222602581848478408\n\t-3222602581848478408 [label=\"metadsl_core.abstraction.Abstraction.fix\"]\n\t-3222602581848478408 -> 2891636654305560641\n\t2891636654305560641 [label=\"metadsl_core.abstraction.Abstraction.from_fn\"]\n\t2891636654305560641 -> -7058791482077226270\n\t-7058791482077226270 [label=\"function FunctionOne.from_fn_recursive.locals.inner at 0x10ad7b268\"]\n\t2891636654305560641.0 [label=\"metadsl_core.abstraction.Abstraction\"]\n\t\"2891636654305560641.0.0\" [label=\"metadsl_core.integer.Integer\"]\n\t2891636654305560641.0 -> \"2891636654305560641.0.0\" [label=U]\n\t\"2891636654305560641.0.1\" [label=\"metadsl_core.integer.Integer\"]\n\t2891636654305560641.0 -> \"2891636654305560641.0.1\" [label=T]\n\t2891636654305560641 -> 2891636654305560641.0 [label=U]\n\t2891636654305560641.1 [label=\"metadsl_core.abstraction.Abstraction\"]\n\t\"2891636654305560641.1.0\" [label=\"metadsl_core.integer.Integer\"]\n\t2891636654305560641.1 -> \"2891636654305560641.1.0\" [label=U]\n\t\"2891636654305560641.1.1\" [label=\"metadsl_core.integer.Integer\"]\n\t2891636654305560641.1 -> \"2891636654305560641.1.1\" [label=T]\n\t2891636654305560641 -> 2891636654305560641.1 [label=T]\n\t-2239091792461986539.0 [label=\"metadsl_core.integer.Integer\"]\n\t-2239091792461986539 -> -2239091792461986539.0 [label=U]\n\t-2239091792461986539.1 [label=\"metadsl_core.integer.Integer\"]\n\t-2239091792461986539 -> -2239091792461986539.1 [label=T]\n\t752326521207848835 -> 8915847926163634623\n\t8915847926163634623 [label=\"metadsl_core.integer.Integer.from_int\"]\n\t8915847926163634623 -> 2516220305832965478\n\t2516220305832965478 [label=0]\n\t752326521207848835.0 [label=\"metadsl_core.integer.Integer\"]\n\t752326521207848835 -> 752326521207848835.0 [label=U]\n\t752326521207848835.1 [label=\"metadsl_core.integer.Integer\"]\n\t752326521207848835 -> 752326521207848835.1 [label=T]\n}",
         "label": null,
         "rule": "metadsl_core.function.FunctionOne.from_fn_recursive"
        },
        {
         "graph": "digraph {\n\tnode [shape=plain]\n\tedge [arrowsize=0.5 penwidth=0.5]\n\t-2604696413687085559 [label=\"metadsl_core.abstraction.Abstraction.__call__\"]\n\t-2604696413687085559 -> 1312730446075325300\n\t1312730446075325300 [label=\"metadsl_core.abstraction.Abstraction.fix\"]\n\t1312730446075325300 -> -6978257084160345610\n\t-6978257084160345610 [label=\"metadsl_core.abstraction.Abstraction.from_fn\"]\n\t-6978257084160345610 -> 2164580554726670863\n\t2164580554726670863 [label=\"function FunctionOne.from_fn_recursive.locals.inner at 0x10ad7b510\"]\n\t-6978257084160345610.0 [label=\"metadsl_core.abstraction.Abstraction\"]\n\t\"-6978257084160345610.0.0\" [label=\"metadsl_core.integer.Integer\"]\n\t-6978257084160345610.0 -> \"-6978257084160345610.0.0\" [label=U]\n\t\"-6978257084160345610.0.1\" [label=\"metadsl_core.integer.Integer\"]\n\t-6978257084160345610.0 -> \"-6978257084160345610.0.1\" [label=T]\n\t-6978257084160345610 -> -6978257084160345610.0 [label=U]\n\t-6978257084160345610.1 [label=\"metadsl_core.abstraction.Abstraction\"]\n\t\"-6978257084160345610.1.0\" [label=\"metadsl_core.integer.Integer\"]\n\t-6978257084160345610.1 -> \"-6978257084160345610.1.0\" [label=U]\n\t\"-6978257084160345610.1.1\" [label=\"metadsl_core.integer.Integer\"]\n\t-6978257084160345610.1 -> \"-6978257084160345610.1.1\" [label=T]\n\t-6978257084160345610 -> -6978257084160345610.1 [label=T]\n\t-2604696413687085559 -> 8915847926163634623\n\t8915847926163634623 [label=\"metadsl_core.integer.Integer.from_int\"]\n\t8915847926163634623 -> 2516220305832965478\n\t2516220305832965478 [label=0]\n\t-2604696413687085559.0 [label=\"metadsl_core.integer.Integer\"]\n\t-2604696413687085559 -> -2604696413687085559.0 [label=U]\n\t-2604696413687085559.1 [label=\"metadsl_core.integer.Integer\"]\n\t-2604696413687085559 -> -2604696413687085559.1 [label=T]\n}",
         "label": null,
         "rule": "metadsl_core.function.one_call"
        },
        {
         "graph": "digraph {\n\tnode [shape=plain]\n\tedge [arrowsize=0.5 penwidth=0.5]\n\t7597565508575685847 [label=\"metadsl_core.abstraction.Abstraction.__call__\"]\n\t7597565508575685847 -> 6239452660032114609\n\t6239452660032114609 [label=\"metadsl_core.abstraction.Abstraction.fix\"]\n\t6239452660032114609 -> 9016588929203026949\n\t9016588929203026949 [label=\"metadsl_core.abstraction.Abstraction.create\"]\n\t9016588929203026949 -> -5113140593459767058\n\t-5113140593459767058 [label=\"metadsl_core.abstraction.Abstraction.create_variable\"]\n\t-5113140593459767058 -> -5116742135002313092\n\t-5116742135002313092 [label=\"Variable(4476725176)\"]\n\t-5113140593459767058.0 [label=\"metadsl_core.abstraction.Abstraction\"]\n\t\"-5113140593459767058.0.0\" [label=\"metadsl_core.integer.Integer\"]\n\t-5113140593459767058.0 -> \"-5113140593459767058.0.0\" [label=U]\n\t\"-5113140593459767058.0.1\" [label=\"metadsl_core.integer.Integer\"]\n\t-5113140593459767058.0 -> \"-5113140593459767058.0.1\" [label=T]\n\t-5113140593459767058 -> -5113140593459767058.0 [label=U]\n\t-5113140593459767058.1 [label=\"metadsl_core.abstraction.Abstraction\"]\n\t\"-5113140593459767058.1.0\" [label=\"metadsl_core.integer.Integer\"]\n\t-5113140593459767058.1 -> \"-5113140593459767058.1.0\" [label=U]\n\t\"-5113140593459767058.1.1\" [label=\"metadsl_core.integer.Integer\"]\n\t-5113140593459767058.1 -> \"-5113140593459767058.1.1\" [label=T]\n\t-5113140593459767058 -> -5113140593459767058.1 [label=T]\n\t9016588929203026949 -> -1439514908367727057\n\t-1439514908367727057 [label=\"metadsl_core.abstraction.Abstraction.from_fn\"]\n\t-1439514908367727057 -> -7058791482119444745\n\t-7058791482119444745 [label=\"function FunctionOne.from_fn_recursive.locals.inner.locals.inner_inner at 0x10ad7b598\"]\n\t-1439514908367727057.0 [label=\"~U\"]\n\t-1439514908367727057 -> -1439514908367727057.0 [label=U]\n\t-1439514908367727057.1 [label=\"~T\"]\n\t-1439514908367727057 -> -1439514908367727057.1 [label=T]\n\t9016588929203026949.0 [label=\"metadsl_core.abstraction.Abstraction\"]\n\t\"9016588929203026949.0.0\" [label=\"metadsl_core.integer.Integer\"]\n\t9016588929203026949.0 -> \"9016588929203026949.0.0\" [label=U]\n\t\"9016588929203026949.0.1\" [label=\"metadsl_core.integer.Integer\"]\n\t9016588929203026949.0 -> \"9016588929203026949.0.1\" [label=T]\n\t9016588929203026949 -> 9016588929203026949.0 [label=U]\n\t9016588929203026949.1 [label=\"metadsl_core.abstraction.Abstraction\"]\n\t\"9016588929203026949.1.0\" [label=\"metadsl_core.integer.Integer\"]\n\t9016588929203026949.1 -> \"9016588929203026949.1.0\" [label=U]\n\t\"9016588929203026949.1.1\" [label=\"metadsl_core.integer.Integer\"]\n\t9016588929203026949.1 -> \"9016588929203026949.1.1\" [label=T]\n\t9016588929203026949 -> 9016588929203026949.1 [label=T]\n\t7597565508575685847 -> 8915847926163634623\n\t8915847926163634623 [label=\"metadsl_core.integer.Integer.from_int\"]\n\t8915847926163634623 -> 2516220305832965478\n\t2516220305832965478 [label=0]\n\t7597565508575685847.0 [label=\"metadsl_core.integer.Integer\"]\n\t7597565508575685847 -> 7597565508575685847.0 [label=U]\n\t7597565508575685847.1 [label=\"metadsl_core.integer.Integer\"]\n\t7597565508575685847 -> 7597565508575685847.1 [label=T]\n}",
         "label": null,
         "rule": "metadsl_core.abstraction.Abstraction.from_fn"
        }
       ]
      },
      "text/plain": [
       "Typez(definitions=None, nodes={'-7058792169059499045': PrimitiveNode(type='function', repr='<function factorial at 0x10a32c158>'), '5581162225130258156': CallNode(function='metadsl_core.function.FunctionOne.from_fn_recursive', type_params=None, args=['-7058792169059499045'], kwargs=None), '2516220305832965478': PrimitiveNode(type='int', repr='0'), '8915847926163634623': CallNode(function='metadsl_core.integer.Integer.from_int', type_params=None, args=['2516220305832965478'], kwargs=None), '8549187774145912373': CallNode(function='metadsl_core.function.FunctionOne.__call__', type_params={'U': DeclaredTypeInstance(type='metadsl_core.integer.Integer', params=None), 'T': DeclaredTypeInstance(type='metadsl_core.integer.Integer', params=None)}, args=['5581162225130258156', '8915847926163634623'], kwargs=None), '8674094432993515251': PrimitiveNode(type='str', repr=\"'factorial'\"), '-7058791482077226270': PrimitiveNode(type='function', repr='<function FunctionOne.from_fn_recursive.<locals>.inner at 0x10ad7b268>'), '2891636654305560641': CallNode(function='metadsl_core.abstraction.Abstraction.from_fn', type_params={'U': DeclaredTypeInstance(type='metadsl_core.abstraction.Abstraction', params={'U': DeclaredTypeInstance(type='metadsl_core.integer.Integer', params=None), 'T': DeclaredTypeInstance(type='metadsl_core.integer.Integer', params=None)}), 'T': DeclaredTypeInstance(type='metadsl_core.abstraction.Abstraction', params={'U': DeclaredTypeInstance(type='metadsl_core.integer.Integer', params=None), 'T': DeclaredTypeInstance(type='metadsl_core.integer.Integer', params=None)})}, args=['-7058791482077226270'], kwargs=None), '-3222602581848478408': CallNode(function='metadsl_core.abstraction.Abstraction.fix', type_params=None, args=['2891636654305560641'], kwargs=None), '-2239091792461986539': CallNode(function='metadsl_core.function.FunctionOne.create', type_params={'U': DeclaredTypeInstance(type='metadsl_core.integer.Integer', params=None), 'T': DeclaredTypeInstance(type='metadsl_core.integer.Integer', params=None)}, args=['8674094432993515251', '-3222602581848478408'], kwargs=None), '752326521207848835': CallNode(function='metadsl_core.function.FunctionOne.__call__', type_params={'U': DeclaredTypeInstance(type='metadsl_core.integer.Integer', params=None), 'T': DeclaredTypeInstance(type='metadsl_core.integer.Integer', params=None)}, args=['-2239091792461986539', '8915847926163634623'], kwargs=None), '2164580554726670863': PrimitiveNode(type='function', repr='<function FunctionOne.from_fn_recursive.<locals>.inner at 0x10ad7b510>'), '-6978257084160345610': CallNode(function='metadsl_core.abstraction.Abstraction.from_fn', type_params={'U': DeclaredTypeInstance(type='metadsl_core.abstraction.Abstraction', params={'U': DeclaredTypeInstance(type='metadsl_core.integer.Integer', params=None), 'T': DeclaredTypeInstance(type='metadsl_core.integer.Integer', params=None)}), 'T': DeclaredTypeInstance(type='metadsl_core.abstraction.Abstraction', params={'U': DeclaredTypeInstance(type='metadsl_core.integer.Integer', params=None), 'T': DeclaredTypeInstance(type='metadsl_core.integer.Integer', params=None)})}, args=['2164580554726670863'], kwargs=None), '1312730446075325300': CallNode(function='metadsl_core.abstraction.Abstraction.fix', type_params=None, args=['-6978257084160345610'], kwargs=None), '-2604696413687085559': CallNode(function='metadsl_core.abstraction.Abstraction.__call__', type_params={'U': DeclaredTypeInstance(type='metadsl_core.integer.Integer', params=None), 'T': DeclaredTypeInstance(type='metadsl_core.integer.Integer', params=None)}, args=['1312730446075325300', '8915847926163634623'], kwargs=None), '-5116742135002313092': PrimitiveNode(type='metadsl_core.abstraction.Variable', repr='Variable(4476725176)'), '-5113140593459767058': CallNode(function='metadsl_core.abstraction.Abstraction.create_variable', type_params={'U': DeclaredTypeInstance(type='metadsl_core.abstraction.Abstraction', params={'U': DeclaredTypeInstance(type='metadsl_core.integer.Integer', params=None), 'T': DeclaredTypeInstance(type='metadsl_core.integer.Integer', params=None)}), 'T': DeclaredTypeInstance(type='metadsl_core.abstraction.Abstraction', params={'U': DeclaredTypeInstance(type='metadsl_core.integer.Integer', params=None), 'T': DeclaredTypeInstance(type='metadsl_core.integer.Integer', params=None)})}, args=['-5116742135002313092'], kwargs=None), '-7058791482119444745': PrimitiveNode(type='function', repr='<function FunctionOne.from_fn_recursive.<locals>.inner.<locals>.inner_inner at 0x10ad7b598>'), '-1439514908367727057': CallNode(function='metadsl_core.abstraction.Abstraction.from_fn', type_params={'U': ExternalTypeInstance(repr='~U'), 'T': ExternalTypeInstance(repr='~T')}, args=['-7058791482119444745'], kwargs=None), '9016588929203026949': CallNode(function='metadsl_core.abstraction.Abstraction.create', type_params={'U': DeclaredTypeInstance(type='metadsl_core.abstraction.Abstraction', params={'U': DeclaredTypeInstance(type='metadsl_core.integer.Integer', params=None), 'T': DeclaredTypeInstance(type='metadsl_core.integer.Integer', params=None)}), 'T': DeclaredTypeInstance(type='metadsl_core.abstraction.Abstraction', params={'U': DeclaredTypeInstance(type='metadsl_core.integer.Integer', params=None), 'T': DeclaredTypeInstance(type='metadsl_core.integer.Integer', params=None)})}, args=['-5113140593459767058', '-1439514908367727057'], kwargs=None), '6239452660032114609': CallNode(function='metadsl_core.abstraction.Abstraction.fix', type_params=None, args=['9016588929203026949'], kwargs=None), '7597565508575685847': CallNode(function='metadsl_core.abstraction.Abstraction.__call__', type_params={'U': DeclaredTypeInstance(type='metadsl_core.integer.Integer', params=None), 'T': DeclaredTypeInstance(type='metadsl_core.integer.Integer', params=None)}, args=['6239452660032114609', '8915847926163634623'], kwargs=None)}, states=States(initial='8549187774145912373', states=[State(node='752326521207848835', rule='metadsl_core.function.FunctionOne.from_fn_recursive', label=None), State(node='-2604696413687085559', rule='metadsl_core.function.one_call', label=None), State(node='7597565508575685847', rule='metadsl_core.abstraction.Abstraction.from_fn', label=None)]))"
      ]
     },
     "metadata": {},
     "output_type": "display_data"
    },
    {
     "name": "stdout",
     "output_type": "stream",
     "text": [
      "FAILED                                                          [ 50%]\n",
      "metadsl_core/function_test.py::TestFunction::test_two "
     ]
    },
    {
     "data": {
      "application/json": {
       "nodes": {
        "-1493685239946834509": {
         "args": [
          "6730840602455929297",
          "8616901814836420287",
          "5601386164829366727"
         ],
         "function": "metadsl_core.function.FunctionTwo.__call__",
         "type_params": {
          "T": {
           "type": "metadsl_core.integer.Integer"
          },
          "U": {
           "type": "metadsl_core.integer.Integer"
          },
          "V": {
           "type": "metadsl_core.integer.Integer"
          }
         }
        },
        "-154750901766782012": {
         "args": [
          "-2867065861851086130",
          "-8698404437148763345"
         ],
         "function": "metadsl_core.abstraction.Abstraction.create",
         "type_params": {
          "T": {
           "type": "metadsl_core.integer.Integer"
          },
          "U": {
           "params": {
            "T": {
             "type": "metadsl_core.integer.Integer"
            },
            "U": {
             "type": "metadsl_core.integer.Integer"
            }
           },
           "type": "metadsl_core.abstraction.Abstraction"
          }
         }
        },
        "-2867065861851086130": {
         "args": [
          "-5116742060625267917"
         ],
         "function": "metadsl_core.abstraction.Abstraction.create_variable",
         "type_params": {
          "T": {
           "type": "metadsl_core.integer.Integer"
          },
          "U": {
           "params": {
            "T": {
             "type": "metadsl_core.integer.Integer"
            },
            "U": {
             "type": "metadsl_core.integer.Integer"
            }
           },
           "type": "metadsl_core.abstraction.Abstraction"
          }
         }
        },
        "-3378551537222350591": {
         "args": [
          "309382623578756621",
          "8616901814836420287",
          "5601386164829366727"
         ],
         "function": "metadsl_core.function.FunctionTwo.__call__",
         "type_params": {
          "T": {
           "type": "metadsl_core.integer.Integer"
          },
          "U": {
           "type": "metadsl_core.integer.Integer"
          },
          "V": {
           "type": "metadsl_core.integer.Integer"
          }
         }
        },
        "-3933392122041774077": {
         "args": [
          "4809832971805490780",
          "8616901814836420287"
         ],
         "function": "metadsl_core.abstraction.Abstraction.__call__",
         "type_params": {
          "T": {
           "type": "metadsl_core.integer.Integer"
          },
          "U": {
           "params": {
            "T": {
             "type": "metadsl_core.integer.Integer"
            },
            "U": {
             "type": "metadsl_core.integer.Integer"
            }
           },
           "type": "metadsl_core.abstraction.Abstraction"
          }
         }
        },
        "-49671933900232939": {
         "args": [
          "3786700290710058789",
          "5601386164829366727"
         ],
         "function": "metadsl_core.abstraction.Abstraction.__call__",
         "type_params": {
          "T": {
           "type": "metadsl_core.integer.Integer"
          },
          "U": {
           "type": "metadsl_core.integer.Integer"
          }
         }
        },
        "-5116742060625267917": {
         "repr": "Variable(4477791592)",
         "type": "metadsl_core.abstraction.Variable"
        },
        "-6177329881294476557": {
         "args": [
          "4106629976084449541"
         ],
         "function": "metadsl_core.abstraction.Abstraction.create_variable",
         "type_params": {
          "T": {
           "repr": "~U"
          },
          "U": {
           "repr": "~V"
          }
         }
        },
        "-6914779511389884852": {
         "args": [
          "-6177329881294476557",
          "9135594327614746898"
         ],
         "function": "metadsl_core.abstraction.Abstraction.create",
         "type_params": {
          "T": {
           "repr": "~U"
          },
          "U": {
           "repr": "~V"
          }
         }
        },
        "-7058791412504427045": {
         "repr": "<function FunctionTwo.from_fn.<locals>.inner at 0x10ae76158>",
         "type": "function"
        },
        "-7058791412518499870": {
         "repr": "<function FunctionTwo.from_fn.<locals>.inner at 0x10ae76268>",
         "type": "function"
        },
        "-7058791412542315420": {
         "repr": "<function FunctionTwo.from_fn.<locals>.inner.<locals>.inner_inner at 0x10ae76488>",
         "type": "function"
        },
        "-8698404437148763345": {
         "args": [
          "2164580624507314888"
         ],
         "function": "metadsl_core.abstraction.Abstraction.from_fn"
        },
        "1195168988356930593": {
         "args": [
          "-6914779511389884852",
          "5601386164829366727"
         ],
         "function": "metadsl_core.abstraction.Abstraction.__call__",
         "type_params": {
          "T": {
           "type": "metadsl_core.integer.Integer"
          },
          "U": {
           "type": "metadsl_core.integer.Integer"
          }
         }
        },
        "1509099831695266733": {
         "repr": "'add'",
         "type": "str"
        },
        "2164580574606159963": {
         "repr": "<function add at 0x10ad22950>",
         "type": "function"
        },
        "2164580624507314888": {
         "repr": "<function FunctionTwo.from_fn.<locals>.inner.<locals>.inner_inner at 0x10ae76840>",
         "type": "function"
        },
        "2516220305830800428": {
         "repr": "2",
         "type": "int"
        },
        "2516220305831882953": {
         "repr": "1",
         "type": "int"
        },
        "309382623578756621": {
         "args": [
          "2164580574606159963"
         ],
         "function": "metadsl_core.function.FunctionTwo.from_fn"
        },
        "3573640624665753994": {
         "args": [
          "-3933392122041774077",
          "5601386164829366727"
         ],
         "function": "metadsl_core.abstraction.Abstraction.__call__",
         "type_params": {
          "T": {
           "type": "metadsl_core.integer.Integer"
          },
          "U": {
           "type": "metadsl_core.integer.Integer"
          }
         }
        },
        "3786700290710058789": {
         "args": [
          "-154750901766782012",
          "8616901814836420287"
         ],
         "function": "metadsl_core.abstraction.Abstraction.__call__",
         "type_params": {
          "T": {
           "type": "metadsl_core.integer.Integer"
          },
          "U": {
           "params": {
            "T": {
             "type": "metadsl_core.integer.Integer"
            },
            "U": {
             "type": "metadsl_core.integer.Integer"
            }
           },
           "type": "metadsl_core.abstraction.Abstraction"
          }
         }
        },
        "4106629976084449541": {
         "repr": "Variable(4477789632)",
         "type": "metadsl_core.abstraction.Variable"
        },
        "4809832971805490780": {
         "args": [
          "-7058791412504427045"
         ],
         "function": "metadsl_core.abstraction.Abstraction.from_fn"
        },
        "5601386164829366727": {
         "args": [
          "2516220305830800428"
         ],
         "function": "metadsl_core.integer.Integer.from_int"
        },
        "6730840602455929297": {
         "args": [
          "1509099831695266733",
          "8992209947524601986"
         ],
         "function": "metadsl_core.function.FunctionTwo.create",
         "type_params": {
          "T": {
           "type": "metadsl_core.integer.Integer"
          },
          "U": {
           "type": "metadsl_core.integer.Integer"
          },
          "V": {
           "type": "metadsl_core.integer.Integer"
          }
         }
        },
        "7821057132828035811": {
         "args": [
          "8335358933756226618",
          "5601386164829366727"
         ],
         "function": "metadsl_core.abstraction.Abstraction.__call__",
         "type_params": {
          "T": {
           "type": "metadsl_core.integer.Integer"
          },
          "U": {
           "type": "metadsl_core.integer.Integer"
          }
         }
        },
        "7896059753702333111": {
         "args": [
          "-2867065861851086130",
          "5601386164829366727"
         ],
         "function": "metadsl_core.integer.Integer.__add__"
        },
        "8335358933756226618": {
         "args": [
          "-7058791412542315420"
         ],
         "function": "metadsl_core.abstraction.Abstraction.from_fn"
        },
        "8616901814836420287": {
         "args": [
          "2516220305831882953"
         ],
         "function": "metadsl_core.integer.Integer.from_int"
        },
        "8992209947524601986": {
         "args": [
          "-7058791412518499870"
         ],
         "function": "metadsl_core.abstraction.Abstraction.from_fn"
        },
        "9135594327614746898": {
         "args": [
          "-2867065861851086130",
          "-6177329881294476557"
         ],
         "function": "metadsl_core.integer.Integer.__add__"
        }
       },
       "states": {
        "initial": "-3378551537222350591",
        "states": [
         {
          "node": "-1493685239946834509",
          "rule": "metadsl_core.function.FunctionTwo.from_fn"
         },
         {
          "node": "3573640624665753994",
          "rule": "metadsl_core.function.two_call"
         },
         {
          "node": "-49671933900232939",
          "rule": "metadsl_core.abstraction.Abstraction.from_fn"
         },
         {
          "node": "7821057132828035811",
          "rule": "metadsl_core.abstraction.beta_reduce"
         },
         {
          "node": "1195168988356930593",
          "rule": "metadsl_core.abstraction.Abstraction.from_fn"
         },
         {
          "node": "7896059753702333111",
          "rule": "metadsl_core.abstraction.beta_reduce"
         },
         {
          "label": "core",
          "node": "7896059753702333111",
          "rule": ""
         }
        ]
       }
      },
      "application/x.typez.graph+json": {
       "initial": "digraph {\n\tnode [shape=plain]\n\tedge [arrowsize=0.5 penwidth=0.5]\n\t-3378551537222350591 [label=\"metadsl_core.function.FunctionTwo.__call__\"]\n\t-3378551537222350591 -> 309382623578756621\n\t309382623578756621 [label=\"metadsl_core.function.FunctionTwo.from_fn\"]\n\t309382623578756621 -> 2164580574606159963\n\t2164580574606159963 [label=\"function add at 0x10ad22950\"]\n\t-3378551537222350591 -> 8616901814836420287\n\t8616901814836420287 [label=\"metadsl_core.integer.Integer.from_int\"]\n\t8616901814836420287 -> 2516220305831882953\n\t2516220305831882953 [label=1]\n\t-3378551537222350591 -> 5601386164829366727\n\t5601386164829366727 [label=\"metadsl_core.integer.Integer.from_int\"]\n\t5601386164829366727 -> 2516220305830800428\n\t2516220305830800428 [label=2]\n\t-3378551537222350591.0 [label=\"metadsl_core.integer.Integer\"]\n\t-3378551537222350591 -> -3378551537222350591.0 [label=V]\n\t-3378551537222350591.1 [label=\"metadsl_core.integer.Integer\"]\n\t-3378551537222350591 -> -3378551537222350591.1 [label=U]\n\t-3378551537222350591.2 [label=\"metadsl_core.integer.Integer\"]\n\t-3378551537222350591 -> -3378551537222350591.2 [label=T]\n}",
       "states": [
        {
         "graph": "digraph {\n\tnode [shape=plain]\n\tedge [arrowsize=0.5 penwidth=0.5]\n\t-1493685239946834509 [label=\"metadsl_core.function.FunctionTwo.__call__\"]\n\t-1493685239946834509 -> 6730840602455929297\n\t6730840602455929297 [label=\"metadsl_core.function.FunctionTwo.create\"]\n\t6730840602455929297 -> 1509099831695266733\n\t1509099831695266733 [label=\"'add'\"]\n\t6730840602455929297 -> 8992209947524601986\n\t8992209947524601986 [label=\"metadsl_core.abstraction.Abstraction.from_fn\"]\n\t8992209947524601986 -> -7058791412518499870\n\t-7058791412518499870 [label=\"function FunctionTwo.from_fn.locals.inner at 0x10ae76268\"]\n\t6730840602455929297.0 [label=\"metadsl_core.integer.Integer\"]\n\t6730840602455929297 -> 6730840602455929297.0 [label=V]\n\t6730840602455929297.1 [label=\"metadsl_core.integer.Integer\"]\n\t6730840602455929297 -> 6730840602455929297.1 [label=U]\n\t6730840602455929297.2 [label=\"metadsl_core.integer.Integer\"]\n\t6730840602455929297 -> 6730840602455929297.2 [label=T]\n\t-1493685239946834509 -> 8616901814836420287\n\t8616901814836420287 [label=\"metadsl_core.integer.Integer.from_int\"]\n\t8616901814836420287 -> 2516220305831882953\n\t2516220305831882953 [label=1]\n\t-1493685239946834509 -> 5601386164829366727\n\t5601386164829366727 [label=\"metadsl_core.integer.Integer.from_int\"]\n\t5601386164829366727 -> 2516220305830800428\n\t2516220305830800428 [label=2]\n\t-1493685239946834509.0 [label=\"metadsl_core.integer.Integer\"]\n\t-1493685239946834509 -> -1493685239946834509.0 [label=V]\n\t-1493685239946834509.1 [label=\"metadsl_core.integer.Integer\"]\n\t-1493685239946834509 -> -1493685239946834509.1 [label=U]\n\t-1493685239946834509.2 [label=\"metadsl_core.integer.Integer\"]\n\t-1493685239946834509 -> -1493685239946834509.2 [label=T]\n}",
         "label": null,
         "rule": "metadsl_core.function.FunctionTwo.from_fn"
        },
        {
         "graph": "digraph {\n\tnode [shape=plain]\n\tedge [arrowsize=0.5 penwidth=0.5]\n\t3573640624665753994 [label=\"metadsl_core.abstraction.Abstraction.__call__\"]\n\t3573640624665753994 -> -3933392122041774077\n\t-3933392122041774077 [label=\"metadsl_core.abstraction.Abstraction.__call__\"]\n\t-3933392122041774077 -> 4809832971805490780\n\t4809832971805490780 [label=\"metadsl_core.abstraction.Abstraction.from_fn\"]\n\t4809832971805490780 -> -7058791412504427045\n\t-7058791412504427045 [label=\"function FunctionTwo.from_fn.locals.inner at 0x10ae76158\"]\n\t-3933392122041774077 -> 8616901814836420287\n\t8616901814836420287 [label=\"metadsl_core.integer.Integer.from_int\"]\n\t8616901814836420287 -> 2516220305831882953\n\t2516220305831882953 [label=1]\n\t-3933392122041774077.0 [label=\"metadsl_core.abstraction.Abstraction\"]\n\t\"-3933392122041774077.0.0\" [label=\"metadsl_core.integer.Integer\"]\n\t-3933392122041774077.0 -> \"-3933392122041774077.0.0\" [label=U]\n\t\"-3933392122041774077.0.1\" [label=\"metadsl_core.integer.Integer\"]\n\t-3933392122041774077.0 -> \"-3933392122041774077.0.1\" [label=T]\n\t-3933392122041774077 -> -3933392122041774077.0 [label=U]\n\t-3933392122041774077.1 [label=\"metadsl_core.integer.Integer\"]\n\t-3933392122041774077 -> -3933392122041774077.1 [label=T]\n\t3573640624665753994 -> 5601386164829366727\n\t5601386164829366727 [label=\"metadsl_core.integer.Integer.from_int\"]\n\t5601386164829366727 -> 2516220305830800428\n\t2516220305830800428 [label=2]\n\t3573640624665753994.0 [label=\"metadsl_core.integer.Integer\"]\n\t3573640624665753994 -> 3573640624665753994.0 [label=U]\n\t3573640624665753994.1 [label=\"metadsl_core.integer.Integer\"]\n\t3573640624665753994 -> 3573640624665753994.1 [label=T]\n}",
         "label": null,
         "rule": "metadsl_core.function.two_call"
        },
        {
         "graph": "digraph {\n\tnode [shape=plain]\n\tedge [arrowsize=0.5 penwidth=0.5]\n\t-49671933900232939 [label=\"metadsl_core.abstraction.Abstraction.__call__\"]\n\t-49671933900232939 -> 3786700290710058789\n\t3786700290710058789 [label=\"metadsl_core.abstraction.Abstraction.__call__\"]\n\t3786700290710058789 -> -154750901766782012\n\t-154750901766782012 [label=\"metadsl_core.abstraction.Abstraction.create\"]\n\t-154750901766782012 -> -2867065861851086130\n\t-2867065861851086130 [label=\"metadsl_core.abstraction.Abstraction.create_variable\"]\n\t-2867065861851086130 -> -5116742060625267917\n\t-5116742060625267917 [label=\"Variable(4477791592)\"]\n\t-2867065861851086130.0 [label=\"metadsl_core.abstraction.Abstraction\"]\n\t\"-2867065861851086130.0.0\" [label=\"metadsl_core.integer.Integer\"]\n\t-2867065861851086130.0 -> \"-2867065861851086130.0.0\" [label=U]\n\t\"-2867065861851086130.0.1\" [label=\"metadsl_core.integer.Integer\"]\n\t-2867065861851086130.0 -> \"-2867065861851086130.0.1\" [label=T]\n\t-2867065861851086130 -> -2867065861851086130.0 [label=U]\n\t-2867065861851086130.1 [label=\"metadsl_core.integer.Integer\"]\n\t-2867065861851086130 -> -2867065861851086130.1 [label=T]\n\t-154750901766782012 -> -8698404437148763345\n\t-8698404437148763345 [label=\"metadsl_core.abstraction.Abstraction.from_fn\"]\n\t-8698404437148763345 -> 2164580624507314888\n\t2164580624507314888 [label=\"function FunctionTwo.from_fn.locals.inner.locals.inner_inner at 0x10ae76840\"]\n\t-154750901766782012.0 [label=\"metadsl_core.abstraction.Abstraction\"]\n\t\"-154750901766782012.0.0\" [label=\"metadsl_core.integer.Integer\"]\n\t-154750901766782012.0 -> \"-154750901766782012.0.0\" [label=U]\n\t\"-154750901766782012.0.1\" [label=\"metadsl_core.integer.Integer\"]\n\t-154750901766782012.0 -> \"-154750901766782012.0.1\" [label=T]\n\t-154750901766782012 -> -154750901766782012.0 [label=U]\n\t-154750901766782012.1 [label=\"metadsl_core.integer.Integer\"]\n\t-154750901766782012 -> -154750901766782012.1 [label=T]\n\t3786700290710058789 -> 8616901814836420287\n\t8616901814836420287 [label=\"metadsl_core.integer.Integer.from_int\"]\n\t8616901814836420287 -> 2516220305831882953\n\t2516220305831882953 [label=1]\n\t3786700290710058789.0 [label=\"metadsl_core.abstraction.Abstraction\"]\n\t\"3786700290710058789.0.0\" [label=\"metadsl_core.integer.Integer\"]\n\t3786700290710058789.0 -> \"3786700290710058789.0.0\" [label=U]\n\t\"3786700290710058789.0.1\" [label=\"metadsl_core.integer.Integer\"]\n\t3786700290710058789.0 -> \"3786700290710058789.0.1\" [label=T]\n\t3786700290710058789 -> 3786700290710058789.0 [label=U]\n\t3786700290710058789.1 [label=\"metadsl_core.integer.Integer\"]\n\t3786700290710058789 -> 3786700290710058789.1 [label=T]\n\t-49671933900232939 -> 5601386164829366727\n\t5601386164829366727 [label=\"metadsl_core.integer.Integer.from_int\"]\n\t5601386164829366727 -> 2516220305830800428\n\t2516220305830800428 [label=2]\n\t-49671933900232939.0 [label=\"metadsl_core.integer.Integer\"]\n\t-49671933900232939 -> -49671933900232939.0 [label=U]\n\t-49671933900232939.1 [label=\"metadsl_core.integer.Integer\"]\n\t-49671933900232939 -> -49671933900232939.1 [label=T]\n}",
         "label": null,
         "rule": "metadsl_core.abstraction.Abstraction.from_fn"
        },
        {
         "graph": "digraph {\n\tnode [shape=plain]\n\tedge [arrowsize=0.5 penwidth=0.5]\n\t7821057132828035811 [label=\"metadsl_core.abstraction.Abstraction.__call__\"]\n\t7821057132828035811 -> 8335358933756226618\n\t8335358933756226618 [label=\"metadsl_core.abstraction.Abstraction.from_fn\"]\n\t8335358933756226618 -> -7058791412542315420\n\t-7058791412542315420 [label=\"function FunctionTwo.from_fn.locals.inner.locals.inner_inner at 0x10ae76488\"]\n\t7821057132828035811 -> 5601386164829366727\n\t5601386164829366727 [label=\"metadsl_core.integer.Integer.from_int\"]\n\t5601386164829366727 -> 2516220305830800428\n\t2516220305830800428 [label=2]\n\t7821057132828035811.0 [label=\"metadsl_core.integer.Integer\"]\n\t7821057132828035811 -> 7821057132828035811.0 [label=U]\n\t7821057132828035811.1 [label=\"metadsl_core.integer.Integer\"]\n\t7821057132828035811 -> 7821057132828035811.1 [label=T]\n}",
         "label": null,
         "rule": "metadsl_core.abstraction.beta_reduce"
        },
        {
         "graph": "digraph {\n\tnode [shape=plain]\n\tedge [arrowsize=0.5 penwidth=0.5]\n\t1195168988356930593 [label=\"metadsl_core.abstraction.Abstraction.__call__\"]\n\t1195168988356930593 -> -6914779511389884852\n\t-6914779511389884852 [label=\"metadsl_core.abstraction.Abstraction.create\"]\n\t-6914779511389884852 -> -6177329881294476557\n\t-6177329881294476557 [label=\"metadsl_core.abstraction.Abstraction.create_variable\"]\n\t-6177329881294476557 -> 4106629976084449541\n\t4106629976084449541 [label=\"Variable(4477789632)\"]\n\t-6177329881294476557.0 [label=\"~V\"]\n\t-6177329881294476557 -> -6177329881294476557.0 [label=U]\n\t-6177329881294476557.1 [label=\"~U\"]\n\t-6177329881294476557 -> -6177329881294476557.1 [label=T]\n\t-6914779511389884852 -> 9135594327614746898\n\t9135594327614746898 [label=\"metadsl_core.integer.Integer.__add__\"]\n\t9135594327614746898 -> -2867065861851086130\n\t-2867065861851086130 [label=\"metadsl_core.abstraction.Abstraction.create_variable\"]\n\t-2867065861851086130 -> -5116742060625267917\n\t-5116742060625267917 [label=\"Variable(4477791592)\"]\n\t-2867065861851086130.0 [label=\"metadsl_core.abstraction.Abstraction\"]\n\t\"-2867065861851086130.0.0\" [label=\"metadsl_core.integer.Integer\"]\n\t-2867065861851086130.0 -> \"-2867065861851086130.0.0\" [label=U]\n\t\"-2867065861851086130.0.1\" [label=\"metadsl_core.integer.Integer\"]\n\t-2867065861851086130.0 -> \"-2867065861851086130.0.1\" [label=T]\n\t-2867065861851086130 -> -2867065861851086130.0 [label=U]\n\t-2867065861851086130.1 [label=\"metadsl_core.integer.Integer\"]\n\t-2867065861851086130 -> -2867065861851086130.1 [label=T]\n\t9135594327614746898 -> -6177329881294476557\n\t-6914779511389884852.0 [label=\"~V\"]\n\t-6914779511389884852 -> -6914779511389884852.0 [label=U]\n\t-6914779511389884852.1 [label=\"~U\"]\n\t-6914779511389884852 -> -6914779511389884852.1 [label=T]\n\t1195168988356930593 -> 5601386164829366727\n\t5601386164829366727 [label=\"metadsl_core.integer.Integer.from_int\"]\n\t5601386164829366727 -> 2516220305830800428\n\t2516220305830800428 [label=2]\n\t1195168988356930593.0 [label=\"metadsl_core.integer.Integer\"]\n\t1195168988356930593 -> 1195168988356930593.0 [label=U]\n\t1195168988356930593.1 [label=\"metadsl_core.integer.Integer\"]\n\t1195168988356930593 -> 1195168988356930593.1 [label=T]\n}",
         "label": null,
         "rule": "metadsl_core.abstraction.Abstraction.from_fn"
        },
        {
         "graph": "digraph {\n\tnode [shape=plain]\n\tedge [arrowsize=0.5 penwidth=0.5]\n\t7896059753702333111 [label=\"metadsl_core.integer.Integer.__add__\"]\n\t7896059753702333111 -> -2867065861851086130\n\t-2867065861851086130 [label=\"metadsl_core.abstraction.Abstraction.create_variable\"]\n\t-2867065861851086130 -> -5116742060625267917\n\t-5116742060625267917 [label=\"Variable(4477791592)\"]\n\t-2867065861851086130.0 [label=\"metadsl_core.abstraction.Abstraction\"]\n\t\"-2867065861851086130.0.0\" [label=\"metadsl_core.integer.Integer\"]\n\t-2867065861851086130.0 -> \"-2867065861851086130.0.0\" [label=U]\n\t\"-2867065861851086130.0.1\" [label=\"metadsl_core.integer.Integer\"]\n\t-2867065861851086130.0 -> \"-2867065861851086130.0.1\" [label=T]\n\t-2867065861851086130 -> -2867065861851086130.0 [label=U]\n\t-2867065861851086130.1 [label=\"metadsl_core.integer.Integer\"]\n\t-2867065861851086130 -> -2867065861851086130.1 [label=T]\n\t7896059753702333111 -> 5601386164829366727\n\t5601386164829366727 [label=\"metadsl_core.integer.Integer.from_int\"]\n\t5601386164829366727 -> 2516220305830800428\n\t2516220305830800428 [label=2]\n}",
         "label": null,
         "rule": "metadsl_core.abstraction.beta_reduce"
        },
        {
         "graph": "digraph {\n\tnode [shape=plain]\n\tedge [arrowsize=0.5 penwidth=0.5]\n\t7896059753702333111 [label=\"metadsl_core.integer.Integer.__add__\"]\n\t7896059753702333111 -> -2867065861851086130\n\t-2867065861851086130 [label=\"metadsl_core.abstraction.Abstraction.create_variable\"]\n\t-2867065861851086130 -> -5116742060625267917\n\t-5116742060625267917 [label=\"Variable(4477791592)\"]\n\t-2867065861851086130.0 [label=\"metadsl_core.abstraction.Abstraction\"]\n\t\"-2867065861851086130.0.0\" [label=\"metadsl_core.integer.Integer\"]\n\t-2867065861851086130.0 -> \"-2867065861851086130.0.0\" [label=U]\n\t\"-2867065861851086130.0.1\" [label=\"metadsl_core.integer.Integer\"]\n\t-2867065861851086130.0 -> \"-2867065861851086130.0.1\" [label=T]\n\t-2867065861851086130 -> -2867065861851086130.0 [label=U]\n\t-2867065861851086130.1 [label=\"metadsl_core.integer.Integer\"]\n\t-2867065861851086130 -> -2867065861851086130.1 [label=T]\n\t7896059753702333111 -> 5601386164829366727\n\t5601386164829366727 [label=\"metadsl_core.integer.Integer.from_int\"]\n\t5601386164829366727 -> 2516220305830800428\n\t2516220305830800428 [label=2]\n}",
         "label": "core",
         "rule": ""
        }
       ]
      },
      "text/plain": [
       "Typez(definitions=None, nodes={'2164580574606159963': PrimitiveNode(type='function', repr='<function add at 0x10ad22950>'), '309382623578756621': CallNode(function='metadsl_core.function.FunctionTwo.from_fn', type_params=None, args=['2164580574606159963'], kwargs=None), '2516220305831882953': PrimitiveNode(type='int', repr='1'), '8616901814836420287': CallNode(function='metadsl_core.integer.Integer.from_int', type_params=None, args=['2516220305831882953'], kwargs=None), '2516220305830800428': PrimitiveNode(type='int', repr='2'), '5601386164829366727': CallNode(function='metadsl_core.integer.Integer.from_int', type_params=None, args=['2516220305830800428'], kwargs=None), '-3378551537222350591': CallNode(function='metadsl_core.function.FunctionTwo.__call__', type_params={'V': DeclaredTypeInstance(type='metadsl_core.integer.Integer', params=None), 'U': DeclaredTypeInstance(type='metadsl_core.integer.Integer', params=None), 'T': DeclaredTypeInstance(type='metadsl_core.integer.Integer', params=None)}, args=['309382623578756621', '8616901814836420287', '5601386164829366727'], kwargs=None), '1509099831695266733': PrimitiveNode(type='str', repr=\"'add'\"), '-7058791412518499870': PrimitiveNode(type='function', repr='<function FunctionTwo.from_fn.<locals>.inner at 0x10ae76268>'), '8992209947524601986': CallNode(function='metadsl_core.abstraction.Abstraction.from_fn', type_params=None, args=['-7058791412518499870'], kwargs=None), '6730840602455929297': CallNode(function='metadsl_core.function.FunctionTwo.create', type_params={'V': DeclaredTypeInstance(type='metadsl_core.integer.Integer', params=None), 'U': DeclaredTypeInstance(type='metadsl_core.integer.Integer', params=None), 'T': DeclaredTypeInstance(type='metadsl_core.integer.Integer', params=None)}, args=['1509099831695266733', '8992209947524601986'], kwargs=None), '-1493685239946834509': CallNode(function='metadsl_core.function.FunctionTwo.__call__', type_params={'V': DeclaredTypeInstance(type='metadsl_core.integer.Integer', params=None), 'U': DeclaredTypeInstance(type='metadsl_core.integer.Integer', params=None), 'T': DeclaredTypeInstance(type='metadsl_core.integer.Integer', params=None)}, args=['6730840602455929297', '8616901814836420287', '5601386164829366727'], kwargs=None), '-7058791412504427045': PrimitiveNode(type='function', repr='<function FunctionTwo.from_fn.<locals>.inner at 0x10ae76158>'), '4809832971805490780': CallNode(function='metadsl_core.abstraction.Abstraction.from_fn', type_params=None, args=['-7058791412504427045'], kwargs=None), '-3933392122041774077': CallNode(function='metadsl_core.abstraction.Abstraction.__call__', type_params={'U': DeclaredTypeInstance(type='metadsl_core.abstraction.Abstraction', params={'U': DeclaredTypeInstance(type='metadsl_core.integer.Integer', params=None), 'T': DeclaredTypeInstance(type='metadsl_core.integer.Integer', params=None)}), 'T': DeclaredTypeInstance(type='metadsl_core.integer.Integer', params=None)}, args=['4809832971805490780', '8616901814836420287'], kwargs=None), '3573640624665753994': CallNode(function='metadsl_core.abstraction.Abstraction.__call__', type_params={'U': DeclaredTypeInstance(type='metadsl_core.integer.Integer', params=None), 'T': DeclaredTypeInstance(type='metadsl_core.integer.Integer', params=None)}, args=['-3933392122041774077', '5601386164829366727'], kwargs=None), '-5116742060625267917': PrimitiveNode(type='metadsl_core.abstraction.Variable', repr='Variable(4477791592)'), '-2867065861851086130': CallNode(function='metadsl_core.abstraction.Abstraction.create_variable', type_params={'U': DeclaredTypeInstance(type='metadsl_core.abstraction.Abstraction', params={'U': DeclaredTypeInstance(type='metadsl_core.integer.Integer', params=None), 'T': DeclaredTypeInstance(type='metadsl_core.integer.Integer', params=None)}), 'T': DeclaredTypeInstance(type='metadsl_core.integer.Integer', params=None)}, args=['-5116742060625267917'], kwargs=None), '2164580624507314888': PrimitiveNode(type='function', repr='<function FunctionTwo.from_fn.<locals>.inner.<locals>.inner_inner at 0x10ae76840>'), '-8698404437148763345': CallNode(function='metadsl_core.abstraction.Abstraction.from_fn', type_params=None, args=['2164580624507314888'], kwargs=None), '-154750901766782012': CallNode(function='metadsl_core.abstraction.Abstraction.create', type_params={'U': DeclaredTypeInstance(type='metadsl_core.abstraction.Abstraction', params={'U': DeclaredTypeInstance(type='metadsl_core.integer.Integer', params=None), 'T': DeclaredTypeInstance(type='metadsl_core.integer.Integer', params=None)}), 'T': DeclaredTypeInstance(type='metadsl_core.integer.Integer', params=None)}, args=['-2867065861851086130', '-8698404437148763345'], kwargs=None), '3786700290710058789': CallNode(function='metadsl_core.abstraction.Abstraction.__call__', type_params={'U': DeclaredTypeInstance(type='metadsl_core.abstraction.Abstraction', params={'U': DeclaredTypeInstance(type='metadsl_core.integer.Integer', params=None), 'T': DeclaredTypeInstance(type='metadsl_core.integer.Integer', params=None)}), 'T': DeclaredTypeInstance(type='metadsl_core.integer.Integer', params=None)}, args=['-154750901766782012', '8616901814836420287'], kwargs=None), '-49671933900232939': CallNode(function='metadsl_core.abstraction.Abstraction.__call__', type_params={'U': DeclaredTypeInstance(type='metadsl_core.integer.Integer', params=None), 'T': DeclaredTypeInstance(type='metadsl_core.integer.Integer', params=None)}, args=['3786700290710058789', '5601386164829366727'], kwargs=None), '-7058791412542315420': PrimitiveNode(type='function', repr='<function FunctionTwo.from_fn.<locals>.inner.<locals>.inner_inner at 0x10ae76488>'), '8335358933756226618': CallNode(function='metadsl_core.abstraction.Abstraction.from_fn', type_params=None, args=['-7058791412542315420'], kwargs=None), '7821057132828035811': CallNode(function='metadsl_core.abstraction.Abstraction.__call__', type_params={'U': DeclaredTypeInstance(type='metadsl_core.integer.Integer', params=None), 'T': DeclaredTypeInstance(type='metadsl_core.integer.Integer', params=None)}, args=['8335358933756226618', '5601386164829366727'], kwargs=None), '4106629976084449541': PrimitiveNode(type='metadsl_core.abstraction.Variable', repr='Variable(4477789632)'), '-6177329881294476557': CallNode(function='metadsl_core.abstraction.Abstraction.create_variable', type_params={'U': ExternalTypeInstance(repr='~V'), 'T': ExternalTypeInstance(repr='~U')}, args=['4106629976084449541'], kwargs=None), '9135594327614746898': CallNode(function='metadsl_core.integer.Integer.__add__', type_params=None, args=['-2867065861851086130', '-6177329881294476557'], kwargs=None), '-6914779511389884852': CallNode(function='metadsl_core.abstraction.Abstraction.create', type_params={'U': ExternalTypeInstance(repr='~V'), 'T': ExternalTypeInstance(repr='~U')}, args=['-6177329881294476557', '9135594327614746898'], kwargs=None), '1195168988356930593': CallNode(function='metadsl_core.abstraction.Abstraction.__call__', type_params={'U': DeclaredTypeInstance(type='metadsl_core.integer.Integer', params=None), 'T': DeclaredTypeInstance(type='metadsl_core.integer.Integer', params=None)}, args=['-6914779511389884852', '5601386164829366727'], kwargs=None), '7896059753702333111': CallNode(function='metadsl_core.integer.Integer.__add__', type_params=None, args=['-2867065861851086130', '5601386164829366727'], kwargs=None)}, states=States(initial='-3378551537222350591', states=[State(node='-1493685239946834509', rule='metadsl_core.function.FunctionTwo.from_fn', label=None), State(node='3573640624665753994', rule='metadsl_core.function.two_call', label=None), State(node='-49671933900232939', rule='metadsl_core.abstraction.Abstraction.from_fn', label=None), State(node='7821057132828035811', rule='metadsl_core.abstraction.beta_reduce', label=None), State(node='1195168988356930593', rule='metadsl_core.abstraction.Abstraction.from_fn', label=None), State(node='7896059753702333111', rule='metadsl_core.abstraction.beta_reduce', label=None), State(node='7896059753702333111', rule='', label='core')]))"
      ]
     },
     "metadata": {},
     "output_type": "display_data"
    },
    {
     "name": "stdout",
     "output_type": "stream",
     "text": [
      "FAILED                                                                    [100%]\n",
      "\n",
      "============================================================== FAILURES ===============================================================\n",
      "___________________________________________________ TestFunction.test_one_recursive ___________________________________________________\n",
      "\n",
      "self = <metadsl_core.function_test.TestFunction object at 0x10ad56128>\n",
      "\n",
      "    def test_one_recursive(self):\n",
      ">       assert execute(factorial(zero)) == one\n",
      "\n",
      "metadsl_core/function_test.py:10: \n",
      "_ _ _ _ _ _ _ _ _ _ _ _ _ _ _ _ _ _ _ _ _ _ _ _ _ _ _ _ _ _ _ _ _ _ _ _ _ _ _ _ _ _ _ _ _ _ _ _ _ _ _ _ _ _ _ _ _ _ _ _ _ _ _ _ _ _ _ _\n",
      "metadsl/rules.py:58: in __call__\n",
      "    return self.execute(expr, rule or self.default_rule)  # type: ignore\n",
      "metadsl_visualize/visualize.py:23: in execute_and_visualize\n",
      "    for expr, typez_ in convert_rule(rule)(expr):  # type: ignore\n",
      "metadsl_visualize/typez.py:34: in __call__\n",
      "    for replacement in self.rule(obj):  # type: ignore\n",
      "metadsl/rules.py:166: in __call__\n",
      "    for replacement in rule(expr):\n",
      "metadsl/rules.py:90: in __call__\n",
      "    for replacement in self.rule(expr):  # type: ignore\n",
      "metadsl/rules.py:251: in __call__\n",
      "    for replacement in self.rule(expr):  # type: ignore\n",
      "metadsl/rules.py:181: in __call__\n",
      "    for replacement in rule(expr):\n",
      "metadsl/rules.py:251: in __call__\n",
      "    for replacement in self.rule(expr):  # type: ignore\n",
      "metadsl/rules.py:220: in __call__\n",
      "    for replacement in self(arg):\n",
      "metadsl/rules.py:220: in __call__\n",
      "    for replacement in self(arg):\n",
      "metadsl/rules.py:220: in __call__\n",
      "    for replacement in self(arg):\n",
      "metadsl/rules.py:210: in __call__\n",
      "    for replacement in self.rule(expr):  # type: ignore\n",
      "metadsl/rules.py:181: in __call__\n",
      "    for replacement in rule(expr):\n",
      "metadsl/matching.py:112: in __call__\n",
      "    self.inner_fn(*args, **expr.kwargs), typevars\n",
      "metadsl_core/abstraction.py:44: in from_fn\n",
      "    return cls.create(v, fn(v))\n",
      "metadsl/typing_tools.py:608: in <lambda>\n",
      "    new_fn = lambda *args, **kwargs: fn(*args, **kwargs)\n",
      "metadsl_core/function.py:63: in inner_inner\n",
      "    return fn(inner_fn, arg1)\n",
      "_ _ _ _ _ _ _ _ _ _ _ _ _ _ _ _ _ _ _ _ _ _ _ _ _ _ _ _ _ _ _ _ _ _ _ _ _ _ _ _ _ _ _ _ _ _ _ _ _ _ _ _ _ _ _ _ _ _ _ _ _ _ _ _ _ _ _ _\n",
      "\n",
      "fact_fn = metadsl_core.function.FunctionOne[metadsl_core.integer.Integer, metadsl_core.integer.Integer](metadsl_core.function.Fu...action[metadsl_core.integer.Integer, metadsl_core.integer.Integer]].create_variable, (Variable(4476725176),), {})), {})\n",
      "n = metadsl.expressions.PlaceholderExpression[~T](metadsl_core.abstraction.Abstraction[~T, ~U].create_variable, (Variable(4476726408),), {})\n",
      "\n",
      "    @FunctionOne.from_fn_recursive\n",
      "    def factorial(fact_fn: FunctionOne[Integer, Integer], n: Integer) -> Integer:\n",
      ">       return n.eq(zero).if_(one, n * fact_fn(n - one))\n",
      "E       AttributeError: 'PlaceholderExpression' object has no attribute 'eq'\n",
      "\n",
      "metadsl_core/function_test.py:26: AttributeError\n",
      "________________________________________________________ TestFunction.test_two ________________________________________________________\n",
      "\n",
      "self = <metadsl_core.function_test.TestFunction object at 0x10ae69048>\n",
      "\n",
      "    def test_two(self):\n",
      ">       assert execute(\n",
      "            add(Integer.from_int(1), Integer.from_int(2))\n",
      "        ) == Integer.from_int(3)\n",
      "E       AssertionError: assert <class 'metad...2,), {})), {}) == <class 'metads...int, (3,), {})\n",
      "E         Omitting 1 identical items, use -vv to show\n",
      "E         Differing attributes:\n",
      "E         function: BoundInfer(fn=<function Integer.__add__ at 0x10a346ea0>, owner=<class 'metadsl_core.integer.Integer'>, is_classmethod=False) != BoundInfer(fn=<function Integer.from_int at 0x10a346e18>, owner=<class 'metadsl_core.integer.Integer'>, is_classmethod=True)\n",
      "E         args: (<class 'metadsl_core.integer.Integer'>(metadsl_core.abstraction.Abstraction[metadsl_core.integer.Integer, metadsl_core.abstraction.Abstraction[metadsl_core.integer.Integer, metadsl_core.integer.Integer]].create_variable, (Variable(4477791592)...\n",
      "E         \n",
      "E         ...Full output truncated (1 line hidden), use '-vv' to show\n",
      "\n",
      "metadsl_core/function_test.py:15: AssertionError\n",
      "========================================================== warnings summary ===========================================================\n",
      "metadsl_core/function_test.py::TestFunction::test_one_recursive\n",
      "metadsl_core/function_test.py::TestFunction::test_two\n",
      "  /Users/saul/p/metadsl/metadsl_visualize/typez.py:127: RuntimeWarning: Unresolved typevar in type argument, this means the typing is broken\n",
      "    RuntimeWarning,\n",
      "\n",
      "-- Docs: https://docs.pytest.org/en/latest/warnings.html\n",
      "================================================ 2 failed, 2 warnings in 0.78 seconds =================================================\n"
     ]
    }
   ],
   "source": [
    "import pytest\n",
    "import metadsl_visualize\n",
    "DISABLED_PLUGINS = [\n",
    "    \"xdist\",\n",
    "    \"mypy\",\n",
    "    \"pudb\",\n",
    "    \"testmon\",\n",
    "    \"randomly\",\n",
    "    \"forked\"\n",
    "]\n",
    "\n",
    "def test(path=\"\"):\n",
    "    pytest.main([l for p in DISABLED_PLUGINS for l in (\"-p\", f\"no:{p}\")] + [\"-v\", path])\n",
    "    \n",
    "test(\"metadsl_core/function_test.py\")"
   ]
  },
  {
   "cell_type": "code",
   "execution_count": null,
   "metadata": {},
   "outputs": [],
   "source": []
  }
 ],
 "metadata": {
  "kernelspec": {
   "display_name": "Python 3",
   "language": "python",
   "name": "python3"
  },
  "language_info": {
   "codemirror_mode": {
    "name": "ipython",
    "version": 3
   },
   "file_extension": ".py",
   "mimetype": "text/x-python",
   "name": "python",
   "nbconvert_exporter": "python",
   "pygments_lexer": "ipython3",
   "version": "3.7.3"
  }
 },
 "nbformat": 4,
 "nbformat_minor": 4
}
