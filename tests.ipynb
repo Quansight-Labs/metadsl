{
 "cells": [
  {
   "cell_type": "markdown",
   "metadata": {},
   "source": [
    "# Tests\n",
    "In this notebook, we run our `pytest` test suite. Why would we run this in a notebook not from the command line? Because then  we can visualize the replacemnts as they happen for debugging"
   ]
  },
  {
   "cell_type": "code",
   "execution_count": 1,
   "metadata": {},
   "outputs": [
    {
     "name": "stdout",
     "output_type": "stream",
     "text": [
      "========================================================= test session starts =========================================================\n",
      "platform darwin -- Python 3.7.3, pytest-4.4.0, py-1.8.0, pluggy-0.9.0 -- /usr/local/miniconda3/envs/metadsl/bin/python\n",
      "cachedir: .pytest_cache\n",
      "rootdir: /Users/saul/p/metadsl, inifile: pytest.ini\n",
      "plugins: xdist-1.29.0, cov-2.6.1, nbval-0.9.1, metadsl-visualize-0.0.0\n",
      "collecting ... collected 1 item\n",
      "\n",
      "metadsl_core/function_test.py::test_function_one_recursive "
     ]
    },
    {
     "data": {
      "application/json": {
       "nodes": {
        "-2178076218435216252": {
         "args": [
          "-5729941957356063293",
          "-7480264736388019518"
         ],
         "function": "metadsl_core.function.FunctionOne.create",
         "type_params": {
          "T": {
           "type": "metadsl_core.integer.Integer"
          },
          "U": {
           "type": "metadsl_core.integer.Integer"
          }
         }
        },
        "-5729941957356063293": {
         "repr": "'factorial'",
         "type": "str"
        },
        "-7480264736388019518": {
         "args": [
          "-7521329024107110473"
         ],
         "function": "metadsl_core.abstraction.Abstraction.fix"
        },
        "-7521329024107110473": {
         "args": [
          "3784959650431514986"
         ],
         "function": "metadsl_core.abstraction.Abstraction.from_fn",
         "type_params": {
          "T": {
           "params": {
            "T": {
             "type": "metadsl_core.integer.Integer"
            },
            "U": {
             "type": "metadsl_core.integer.Integer"
            }
           },
           "type": "metadsl_core.abstraction.Abstraction"
          },
          "U": {
           "params": {
            "T": {
             "type": "metadsl_core.integer.Integer"
            },
            "U": {
             "type": "metadsl_core.integer.Integer"
            }
           },
           "type": "metadsl_core.abstraction.Abstraction"
          }
         }
        },
        "2130851662833136172": {
         "args": [
          "4389073788904488898"
         ],
         "function": "metadsl_core.integer.Integer.from_int"
        },
        "2559685400293775753": {
         "args": [
          "3784959650413112061"
         ],
         "function": "metadsl_core.abstraction.Abstraction.from_fn",
         "type_params": {
          "T": {
           "params": {
            "T": {
             "type": "metadsl_core.integer.Integer"
            },
            "U": {
             "type": "metadsl_core.integer.Integer"
            }
           },
           "type": "metadsl_core.abstraction.Abstraction"
          },
          "U": {
           "params": {
            "T": {
             "type": "metadsl_core.integer.Integer"
            },
            "U": {
             "type": "metadsl_core.integer.Integer"
            }
           },
           "type": "metadsl_core.abstraction.Abstraction"
          }
         }
        },
        "2654870199429074545": {
         "args": [
          "3152641347152749267",
          "2130851662833136172"
         ],
         "function": "metadsl_core.function.FunctionOne.__call__",
         "type_params": {
          "T": {
           "type": "metadsl_core.integer.Integer"
          },
          "U": {
           "type": "metadsl_core.integer.Integer"
          }
         }
        },
        "3152641347152749267": {
         "args": [
          "3784959621703466536"
         ],
         "function": "metadsl_core.function.FunctionOne.from_fn_recursive"
        },
        "3784959621703466536": {
         "repr": "<function factorial at 0x112d3aae8>",
         "type": "function"
        },
        "3784959650413112061": {
         "repr": "<function FunctionOne.from_fn_recursive.<locals>.inner at 0x112d92158>",
         "type": "function"
        },
        "3784959650431514986": {
         "repr": "<function FunctionOne.from_fn_recursive.<locals>.inner at 0x112d92048>",
         "type": "function"
        },
        "4056745680947501165": {
         "args": [
          "-2178076218435216252",
          "2130851662833136172"
         ],
         "function": "metadsl_core.function.FunctionOne.__call__",
         "type_params": {
          "T": {
           "type": "metadsl_core.integer.Integer"
          },
          "U": {
           "type": "metadsl_core.integer.Integer"
          }
         }
        },
        "4147629195493390456": {
         "args": [
          "2559685400293775753"
         ],
         "function": "metadsl_core.abstraction.Abstraction.fix"
        },
        "4389073788904488898": {
         "repr": "0",
         "type": "int"
        },
        "8491102307495125218": {
         "args": [
          "4147629195493390456",
          "2130851662833136172"
         ],
         "function": "metadsl_core.abstraction.Abstraction.__call__",
         "type_params": {
          "T": {
           "type": "metadsl_core.integer.Integer"
          },
          "U": {
           "type": "metadsl_core.integer.Integer"
          }
         }
        }
       },
       "states": {
        "initial": "2654870199429074545",
        "states": [
         {
          "node": "4056745680947501165",
          "rule": "metadsl_core.function.FunctionOne.from_fn_recursive"
         },
         {
          "node": "8491102307495125218",
          "rule": "metadsl_core.function.one_call"
         }
        ]
       }
      },
      "application/x.typez.graph+json": {
       "initial": "digraph {\n\t2654870199429074545 [label=\"metadsl_core.function.FunctionOne.__call__\"]\n\t2654870199429074545 -> 3152641347152749267\n\t3152641347152749267 [label=\"metadsl_core.function.FunctionOne.from_fn_recursive\"]\n\t3152641347152749267 -> 3784959621703466536\n\t3784959621703466536 [label=\"function factorial at 0x112d3aae8\"]\n\t2654870199429074545 -> 2130851662833136172\n\t2130851662833136172 [label=\"metadsl_core.integer.Integer.from_int\"]\n\t2130851662833136172 -> 4389073788904488898\n\t4389073788904488898 [label=0]\n\t2654870199429074545.0 [label=\"metadsl_core.integer.Integer\"]\n\t2654870199429074545 -> 2654870199429074545.0 [label=U]\n\t2654870199429074545.1 [label=\"metadsl_core.integer.Integer\"]\n\t2654870199429074545 -> 2654870199429074545.1 [label=T]\n}",
       "states": [
        {
         "graph": "digraph {\n\t4056745680947501165 [label=\"metadsl_core.function.FunctionOne.__call__\"]\n\t4056745680947501165 -> -2178076218435216252\n\t-2178076218435216252 [label=\"metadsl_core.function.FunctionOne.create\"]\n\t-2178076218435216252 -> -5729941957356063293\n\t-5729941957356063293 [label=\"'factorial'\"]\n\t-2178076218435216252 -> -7480264736388019518\n\t-7480264736388019518 [label=\"metadsl_core.abstraction.Abstraction.fix\"]\n\t-7480264736388019518 -> -7521329024107110473\n\t-7521329024107110473 [label=\"metadsl_core.abstraction.Abstraction.from_fn\"]\n\t-7521329024107110473 -> 3784959650431514986\n\t3784959650431514986 [label=\"function FunctionOne.from_fn_recursive.locals.inner at 0x112d92048\"]\n\t-7521329024107110473.0 [label=\"metadsl_core.abstraction.Abstraction\"]\n\t\"-7521329024107110473.0.0\" [label=\"metadsl_core.integer.Integer\"]\n\t-7521329024107110473.0 -> \"-7521329024107110473.0.0\" [label=U]\n\t\"-7521329024107110473.0.1\" [label=\"metadsl_core.integer.Integer\"]\n\t-7521329024107110473.0 -> \"-7521329024107110473.0.1\" [label=T]\n\t-7521329024107110473 -> -7521329024107110473.0 [label=U]\n\t-7521329024107110473.1 [label=\"metadsl_core.abstraction.Abstraction\"]\n\t\"-7521329024107110473.1.0\" [label=\"metadsl_core.integer.Integer\"]\n\t-7521329024107110473.1 -> \"-7521329024107110473.1.0\" [label=U]\n\t\"-7521329024107110473.1.1\" [label=\"metadsl_core.integer.Integer\"]\n\t-7521329024107110473.1 -> \"-7521329024107110473.1.1\" [label=T]\n\t-7521329024107110473 -> -7521329024107110473.1 [label=T]\n\t-2178076218435216252.0 [label=\"metadsl_core.integer.Integer\"]\n\t-2178076218435216252 -> -2178076218435216252.0 [label=U]\n\t-2178076218435216252.1 [label=\"metadsl_core.integer.Integer\"]\n\t-2178076218435216252 -> -2178076218435216252.1 [label=T]\n\t4056745680947501165 -> 2130851662833136172\n\t2130851662833136172 [label=\"metadsl_core.integer.Integer.from_int\"]\n\t2130851662833136172 -> 4389073788904488898\n\t4389073788904488898 [label=0]\n\t4056745680947501165.0 [label=\"metadsl_core.integer.Integer\"]\n\t4056745680947501165 -> 4056745680947501165.0 [label=U]\n\t4056745680947501165.1 [label=\"metadsl_core.integer.Integer\"]\n\t4056745680947501165 -> 4056745680947501165.1 [label=T]\n}",
         "label": null,
         "rule": "metadsl_core.function.FunctionOne.from_fn_recursive"
        },
        {
         "graph": "digraph {\n\t8491102307495125218 [label=\"metadsl_core.abstraction.Abstraction.__call__\"]\n\t8491102307495125218 -> 4147629195493390456\n\t4147629195493390456 [label=\"metadsl_core.abstraction.Abstraction.fix\"]\n\t4147629195493390456 -> 2559685400293775753\n\t2559685400293775753 [label=\"metadsl_core.abstraction.Abstraction.from_fn\"]\n\t2559685400293775753 -> 3784959650413112061\n\t3784959650413112061 [label=\"function FunctionOne.from_fn_recursive.locals.inner at 0x112d92158\"]\n\t2559685400293775753.0 [label=\"metadsl_core.abstraction.Abstraction\"]\n\t\"2559685400293775753.0.0\" [label=\"metadsl_core.integer.Integer\"]\n\t2559685400293775753.0 -> \"2559685400293775753.0.0\" [label=U]\n\t\"2559685400293775753.0.1\" [label=\"metadsl_core.integer.Integer\"]\n\t2559685400293775753.0 -> \"2559685400293775753.0.1\" [label=T]\n\t2559685400293775753 -> 2559685400293775753.0 [label=U]\n\t2559685400293775753.1 [label=\"metadsl_core.abstraction.Abstraction\"]\n\t\"2559685400293775753.1.0\" [label=\"metadsl_core.integer.Integer\"]\n\t2559685400293775753.1 -> \"2559685400293775753.1.0\" [label=U]\n\t\"2559685400293775753.1.1\" [label=\"metadsl_core.integer.Integer\"]\n\t2559685400293775753.1 -> \"2559685400293775753.1.1\" [label=T]\n\t2559685400293775753 -> 2559685400293775753.1 [label=T]\n\t8491102307495125218 -> 2130851662833136172\n\t2130851662833136172 [label=\"metadsl_core.integer.Integer.from_int\"]\n\t2130851662833136172 -> 4389073788904488898\n\t4389073788904488898 [label=0]\n\t8491102307495125218.0 [label=\"metadsl_core.integer.Integer\"]\n\t8491102307495125218 -> 8491102307495125218.0 [label=U]\n\t8491102307495125218.1 [label=\"metadsl_core.integer.Integer\"]\n\t8491102307495125218 -> 8491102307495125218.1 [label=T]\n}",
         "label": null,
         "rule": "metadsl_core.function.one_call"
        }
       ]
      },
      "text/plain": [
       "Typez(definitions=None, nodes={'3784959621703466536': PrimitiveNode(type='function', repr='<function factorial at 0x112d3aae8>'), '3152641347152749267': CallNode(function='metadsl_core.function.FunctionOne.from_fn_recursive', type_params=None, args=['3784959621703466536'], kwargs=None), '4389073788904488898': PrimitiveNode(type='int', repr='0'), '2130851662833136172': CallNode(function='metadsl_core.integer.Integer.from_int', type_params=None, args=['4389073788904488898'], kwargs=None), '2654870199429074545': CallNode(function='metadsl_core.function.FunctionOne.__call__', type_params={'U': DeclaredTypeInstance(type='metadsl_core.integer.Integer', params=None), 'T': DeclaredTypeInstance(type='metadsl_core.integer.Integer', params=None)}, args=['3152641347152749267', '2130851662833136172'], kwargs=None), '-5729941957356063293': PrimitiveNode(type='str', repr=\"'factorial'\"), '3784959650431514986': PrimitiveNode(type='function', repr='<function FunctionOne.from_fn_recursive.<locals>.inner at 0x112d92048>'), '-7521329024107110473': CallNode(function='metadsl_core.abstraction.Abstraction.from_fn', type_params={'U': DeclaredTypeInstance(type='metadsl_core.abstraction.Abstraction', params={'U': DeclaredTypeInstance(type='metadsl_core.integer.Integer', params=None), 'T': DeclaredTypeInstance(type='metadsl_core.integer.Integer', params=None)}), 'T': DeclaredTypeInstance(type='metadsl_core.abstraction.Abstraction', params={'U': DeclaredTypeInstance(type='metadsl_core.integer.Integer', params=None), 'T': DeclaredTypeInstance(type='metadsl_core.integer.Integer', params=None)})}, args=['3784959650431514986'], kwargs=None), '-7480264736388019518': CallNode(function='metadsl_core.abstraction.Abstraction.fix', type_params=None, args=['-7521329024107110473'], kwargs=None), '-2178076218435216252': CallNode(function='metadsl_core.function.FunctionOne.create', type_params={'U': DeclaredTypeInstance(type='metadsl_core.integer.Integer', params=None), 'T': DeclaredTypeInstance(type='metadsl_core.integer.Integer', params=None)}, args=['-5729941957356063293', '-7480264736388019518'], kwargs=None), '4056745680947501165': CallNode(function='metadsl_core.function.FunctionOne.__call__', type_params={'U': DeclaredTypeInstance(type='metadsl_core.integer.Integer', params=None), 'T': DeclaredTypeInstance(type='metadsl_core.integer.Integer', params=None)}, args=['-2178076218435216252', '2130851662833136172'], kwargs=None), '3784959650413112061': PrimitiveNode(type='function', repr='<function FunctionOne.from_fn_recursive.<locals>.inner at 0x112d92158>'), '2559685400293775753': CallNode(function='metadsl_core.abstraction.Abstraction.from_fn', type_params={'U': DeclaredTypeInstance(type='metadsl_core.abstraction.Abstraction', params={'U': DeclaredTypeInstance(type='metadsl_core.integer.Integer', params=None), 'T': DeclaredTypeInstance(type='metadsl_core.integer.Integer', params=None)}), 'T': DeclaredTypeInstance(type='metadsl_core.abstraction.Abstraction', params={'U': DeclaredTypeInstance(type='metadsl_core.integer.Integer', params=None), 'T': DeclaredTypeInstance(type='metadsl_core.integer.Integer', params=None)})}, args=['3784959650413112061'], kwargs=None), '4147629195493390456': CallNode(function='metadsl_core.abstraction.Abstraction.fix', type_params=None, args=['2559685400293775753'], kwargs=None), '8491102307495125218': CallNode(function='metadsl_core.abstraction.Abstraction.__call__', type_params={'U': DeclaredTypeInstance(type='metadsl_core.integer.Integer', params=None), 'T': DeclaredTypeInstance(type='metadsl_core.integer.Integer', params=None)}, args=['4147629195493390456', '2130851662833136172'], kwargs=None)}, states=States(initial='2654870199429074545', states=[State(node='4056745680947501165', rule='metadsl_core.function.FunctionOne.from_fn_recursive', label=None), State(node='8491102307495125218', rule='metadsl_core.function.one_call', label=None)]))"
      ]
     },
     "metadata": {},
     "output_type": "display_data"
    },
    {
     "name": "stdout",
     "output_type": "stream",
     "text": [
      "FAILED                                                               [100%]\n",
      "\n",
      "============================================================== FAILURES ===============================================================\n",
      "_____________________________________________________ test_function_one_recursive _____________________________________________________\n",
      "\n",
      "    def test_function_one_recursive():\n",
      ">       assert execute(factorial(zero)) == one\n",
      "\n",
      "metadsl_core/function_test.py:9: \n",
      "_ _ _ _ _ _ _ _ _ _ _ _ _ _ _ _ _ _ _ _ _ _ _ _ _ _ _ _ _ _ _ _ _ _ _ _ _ _ _ _ _ _ _ _ _ _ _ _ _ _ _ _ _ _ _ _ _ _ _ _ _ _ _ _ _ _ _ _\n",
      "metadsl/rules.py:58: in __call__\n",
      "    return self.execute(expr, rule or self.default_rule)  # type: ignore\n",
      "metadsl_visualize/visualize.py:23: in execute_and_visualize\n",
      "    for expr, typez_ in convert_rule(rule)(expr):  # type: ignore\n",
      "metadsl_visualize/typez.py:33: in __call__\n",
      "    for replacement in self.rule(obj):  # type: ignore\n",
      "metadsl/rules.py:172: in __call__\n",
      "    for replacement in rule(expr):\n",
      "metadsl/rules.py:90: in __call__\n",
      "    for replacement in self.rule(expr):  # type: ignore\n",
      "metadsl/rules.py:257: in __call__\n",
      "    for replacement in self.rule(expr):  # type: ignore\n",
      "metadsl/rules.py:187: in __call__\n",
      "    for replacement in rule(expr):\n",
      "metadsl/rules.py:257: in __call__\n",
      "    for replacement in self.rule(expr):  # type: ignore\n",
      "metadsl/rules.py:226: in __call__\n",
      "    for replacement in self(arg):\n",
      "metadsl/rules.py:226: in __call__\n",
      "    for replacement in self(arg):\n",
      "metadsl/rules.py:226: in __call__\n",
      "    for replacement in self(arg):\n",
      "metadsl/rules.py:216: in __call__\n",
      "    for replacement in self.rule(expr):  # type: ignore\n",
      "metadsl/rules.py:187: in __call__\n",
      "    for replacement in rule(expr):\n",
      "metadsl/matching.py:112: in __call__\n",
      "    self.inner_fn(*args, **expr.kwargs), typevars\n",
      "metadsl_core/abstraction.py:44: in from_fn\n",
      "    return cls.create(v, fn(v))\n",
      "metadsl/typing_tools.py:608: in <lambda>\n",
      "    new_fn = lambda *args, **kwargs: fn(*args, **kwargs)\n",
      "metadsl_core/function.py:63: in inner_inner\n",
      "    return fn(inner_fn, arg1)\n",
      "_ _ _ _ _ _ _ _ _ _ _ _ _ _ _ _ _ _ _ _ _ _ _ _ _ _ _ _ _ _ _ _ _ _ _ _ _ _ _ _ _ _ _ _ _ _ _ _ _ _ _ _ _ _ _ _ _ _ _ _ _ _ _ _ _ _ _ _\n",
      "\n",
      "fact_fn = metadsl_core.function.FunctionOne[metadsl_core.integer.Integer, metadsl_core.integer.Integer](metadsl_core.function.Fu...action[metadsl_core.integer.Integer, metadsl_core.integer.Integer]].create_variable, (Variable(4611140688),), {})), {})\n",
      "n = metadsl.expressions.PlaceholderExpression[~T](metadsl_core.abstraction.Abstraction[~T, ~U].create_variable, (Variable(4611137664),), {})\n",
      "\n",
      "    @FunctionOne.from_fn_recursive\n",
      "    def factorial(fact_fn: FunctionOne[Integer, Integer], n: Integer) -> Integer:\n",
      ">       return n.eq(zero).if_(one, n * fact_fn(n - one))\n",
      "E       AttributeError: 'PlaceholderExpression' object has no attribute 'eq'\n",
      "\n",
      "metadsl_core/function_test.py:20: AttributeError\n",
      "====================================================== 1 failed in 0.55 seconds =======================================================\n"
     ]
    }
   ],
   "source": [
    "import pytest\n",
    "import metadsl_visualize\n",
    "DISABLED_PLUGINS = [\n",
    "    \"xdist\",\n",
    "    \"mypy\",\n",
    "    \"pudb\",\n",
    "    \"testmon\",\n",
    "    \"randomly\",\n",
    "    \"forked\"\n",
    "]\n",
    "\n",
    "def test(path=\"\"):\n",
    "    pytest.main([l for p in DISABLED_PLUGINS for l in (\"-p\", f\"no:{p}\")] + [\"-v\", path])\n",
    "    \n",
    "test(\"metadsl_core/function_test.py\")"
   ]
  },
  {
   "cell_type": "code",
   "execution_count": null,
   "metadata": {},
   "outputs": [],
   "source": []
  }
 ],
 "metadata": {
  "kernelspec": {
   "display_name": "Python 3",
   "language": "python",
   "name": "python3"
  },
  "language_info": {
   "codemirror_mode": {
    "name": "ipython",
    "version": 3
   },
   "file_extension": ".py",
   "mimetype": "text/x-python",
   "name": "python",
   "nbconvert_exporter": "python",
   "pygments_lexer": "ipython3",
   "version": "3.7.3"
  }
 },
 "nbformat": 4,
 "nbformat_minor": 4
}
