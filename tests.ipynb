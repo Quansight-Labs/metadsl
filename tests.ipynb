{
 "cells": [
  {
   "cell_type": "markdown",
   "metadata": {},
   "source": [
    "# Tests\n",
    "In this notebook, we run our `pytest` test suite. Why would we run this in a notebook not from the command line? Because then  we can visualize the replacemnts as they happen for debugging"
   ]
  },
  {
   "cell_type": "code",
   "execution_count": 2,
   "metadata": {},
   "outputs": [],
   "source": [
    "import  pytest"
   ]
  },
  {
   "cell_type": "code",
   "execution_count": 4,
   "metadata": {},
   "outputs": [
    {
     "name": "stdout",
     "output_type": "stream",
     "text": [
      "============================================================================================================================= test session starts ==============================================================================================================================\n",
      "platform darwin -- Python 3.7.3, pytest-4.4.0, py-1.8.0, pluggy-0.9.0\n",
      "rootdir: /Users/saul/p/metadsl, inifile: pytest.ini\n",
      "plugins: xdist-1.29.0, cov-2.6.1, nbval-0.9.1, metadsl-visualize-0.0.0\n",
      "\n",
      "=============================================================================================================================== warnings summary ===============================================================================================================================\n",
      "/usr/local/miniconda3/envs/metadsl/lib/python3.7/site-packages/_pytest/config/__init__.py:776\n",
      "/usr/local/miniconda3/envs/metadsl/lib/python3.7/site-packages/_pytest/config/__init__.py:776\n",
      "  /usr/local/miniconda3/envs/metadsl/lib/python3.7/site-packages/_pytest/config/__init__.py:776: PytestWarning: Module already imported so cannot be rewritten: xdist\n",
      "    self._mark_plugins_for_rewrite(hook)\n",
      "\n",
      "/usr/local/miniconda3/envs/metadsl/lib/python3.7/site-packages/_pytest/config/__init__.py:776\n",
      "  /usr/local/miniconda3/envs/metadsl/lib/python3.7/site-packages/_pytest/config/__init__.py:776: PytestWarning: Module already imported so cannot be rewritten: nbval\n",
      "    self._mark_plugins_for_rewrite(hook)\n",
      "\n",
      "-- Docs: https://docs.pytest.org/en/latest/warnings.html\n",
      "========================================================================================================================== 3 warnings in 0.02 seconds ==========================================================================================================================\n"
     ]
    },
    {
     "name": "stderr",
     "output_type": "stream",
     "text": [
      "ERROR: file not found: metadsl_core/abstractions_test.py\n",
      "\n"
     ]
    },
    {
     "data": {
      "text/plain": [
       "4"
      ]
     },
     "execution_count": 4,
     "metadata": {},
     "output_type": "execute_result"
    }
   ],
   "source": [
    "DISABLED_PLUGINS = [\n",
    "    \"xdist\",\n",
    "    \"mypy\",\n",
    "    \"pudb\",\n",
    "    \"testmon\",\n",
    "    \"randomly\",\n",
    "    \"forked\"\n",
    "]\n",
    "pytest.main([l for p in DISABLED_PLUGINS for l in (\"-p\", f\"no:{p}\")] + [\"metadsl_core/abstractions_test.py\"])"
   ]
  },
  {
   "cell_type": "code",
   "execution_count": null,
   "metadata": {},
   "outputs": [],
   "source": []
  }
 ],
 "metadata": {
  "kernelspec": {
   "display_name": "Python 3",
   "language": "python",
   "name": "python3"
  },
  "language_info": {
   "codemirror_mode": {
    "name": "ipython",
    "version": 3
   },
   "file_extension": ".py",
   "mimetype": "text/x-python",
   "name": "python",
   "nbconvert_exporter": "python",
   "pygments_lexer": "ipython3",
   "version": "3.7.3"
  }
 },
 "nbformat": 4,
 "nbformat_minor": 4
}
