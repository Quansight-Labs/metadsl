{
 "cells": [
  {
   "cell_type": "markdown",
   "metadata": {},
   "source": [
    "# Tests\n",
    "In this notebook, we run our `pytest` test suite. Why would we run this in a notebook not from the command line? Because then  we can visualize the replacemnts as they happen for debugging"
   ]
  },
  {
   "cell_type": "code",
   "execution_count": 1,
   "metadata": {},
   "outputs": [],
   "source": [
    "import  pytest"
   ]
  },
  {
   "cell_type": "code",
   "execution_count": 2,
   "metadata": {},
   "outputs": [
    {
     "name": "stdout",
     "output_type": "stream",
     "text": [
      "============================================================================================================================= test session starts ==============================================================================================================================\n",
      "platform darwin -- Python 3.7.3, pytest-4.4.0, py-1.8.0, pluggy-0.9.0\n",
      "rootdir: /Users/saul/p/metadsl, inifile: pytest.ini\n",
      "plugins: xdist-1.29.0, cov-2.6.1, nbval-0.9.1, metadsl-visualize-0.0.0\n",
      "collected 1 item\n",
      "\n",
      "metadsl_core/abstraction_test.py "
     ]
    },
    {
     "data": {
      "application/json": {
       "nodes": {
        "-1266856929768360795": {
         "args": [
          "25351356777524522",
          "-3261146991999286491"
         ],
         "function": "metadsl_core.abstraction.Abstraction.__call__",
         "type_params": {
          "T": {
           "type": "metadsl_core.integer.Integer"
          },
          "U": {
           "type": "metadsl_core.integer.Integer"
          }
         }
        },
        "-1343543487854115900": {
         "repr": "True",
         "type": "bool"
        },
        "-1422993873857770158": {
         "args": [
          "-2384721099196993086"
         ],
         "function": "metadsl_core.abstraction.Abstraction.create_variable",
         "type_params": {
          "T": {
           "type": "metadsl_core.integer.Integer"
          },
          "U": {
           "type": "metadsl_core.integer.Integer"
          }
         }
        },
        "-2253366463619383963": {
         "args": [
          "1692351150742998093"
         ],
         "function": "metadsl_core.abstraction.Abstraction.fix"
        },
        "-2384721082292282686": {
         "repr": "Variable(4511895448)",
         "type": "metadsl_core.abstraction.Variable"
        },
        "-2384721099196993086": {
         "repr": "Variable(4511645592)",
         "type": "metadsl_core.abstraction.Variable"
        },
        "-2704424827530434179": {
         "args": [
          "-6951022654286815912",
          "-3261146991999286491"
         ],
         "function": "metadsl_core.abstraction.Abstraction.__call__",
         "type_params": {
          "T": {
           "type": "metadsl_core.integer.Integer"
          },
          "U": {
           "type": "metadsl_core.integer.Integer"
          }
         }
        },
        "-3261146991999286491": {
         "args": [
          "5020133584677772467"
         ],
         "function": "metadsl_core.integer.Integer.from_int"
        },
        "-3424066828438387376": {
         "args": [
          "-6951022654286815912",
          "-930789844318381307"
         ],
         "function": "metadsl_core.abstraction.Abstraction.__call__",
         "type_params": {
          "T": {
           "type": "metadsl_core.integer.Integer"
          },
          "U": {
           "type": "metadsl_core.integer.Integer"
          }
         }
        },
        "-3761648464570011732": {
         "args": [
          "5020133584678854992"
         ],
         "function": "metadsl_core.integer.Integer.from_int"
        },
        "-4110108825724404742": {
         "args": [
          "-7712541427519703545",
          "-3761648464570011732",
          "-515417545878881195"
         ],
         "function": "metadsl_core.boolean.Boolean.if_"
        },
        "-4660579649360568005": {
         "args": [
          "-3261146991999286491",
          "-3424066828438387376"
         ],
         "function": "metadsl_core.integer.Integer.__mul__"
        },
        "-515417545878881195": {
         "args": [
          "-1422993873857770158",
          "8961978870422484434"
         ],
         "function": "metadsl_core.integer.Integer.__mul__"
        },
        "-6000412868027038455": {
         "args": [
          "-8098774356153391513"
         ],
         "function": "metadsl_core.abstraction.Abstraction.from_fn"
        },
        "-6951022654286815912": {
         "args": [
          "6151607010381665922"
         ],
         "function": "metadsl_core.abstraction.Abstraction.fix"
        },
        "-7656302002813506385": {
         "args": [
          "-1422993873857770158",
          "8535172445371694260"
         ],
         "function": "metadsl_core.abstraction.Abstraction.create",
         "type_params": {
          "T": {
           "type": "metadsl_core.integer.Integer"
          },
          "U": {
           "type": "metadsl_core.integer.Integer"
          }
         }
        },
        "-7712541427519703545": {
         "args": [
          "-1422993873857770158",
          "-3261146991999286491"
         ],
         "function": "metadsl_core.integer.Integer.eq"
        },
        "-8098773918975670263": {
         "repr": "<function factorial.<locals>.inner at 0x10cecab70>",
         "type": "function"
        },
        "-8098774356153391513": {
         "repr": "<function factorial at 0x10c4a10d0>",
         "type": "function"
        },
        "-8603486734980525913": {
         "args": [
          "-1343543487854115900"
         ],
         "function": "metadsl_core.boolean.Boolean.create"
        },
        "-880797053572173059": {
         "args": [
          "-1422993873857770158",
          "8100846601222064748"
         ],
         "function": "metadsl_core.integer.Integer.__mul__"
        },
        "-930789844318381307": {
         "args": [
          "-3261146991999286491",
          "-3761648464570011732"
         ],
         "function": "metadsl_core.integer.Integer.__sub__"
        },
        "1692351150742998093": {
         "args": [
          "5753038543453301652",
          "4991979905226135982"
         ],
         "function": "metadsl_core.abstraction.Abstraction.create",
         "type_params": {
          "T": {
           "params": {
            "T": {
             "type": "metadsl_core.integer.Integer"
            },
            "U": {
             "type": "metadsl_core.integer.Integer"
            }
           },
           "type": "metadsl_core.abstraction.Abstraction"
          },
          "U": {
           "params": {
            "T": {
             "type": "metadsl_core.integer.Integer"
            },
            "U": {
             "type": "metadsl_core.integer.Integer"
            }
           },
           "type": "metadsl_core.abstraction.Abstraction"
          }
         }
        },
        "25351356777524522": {
         "args": [
          "-6000412868027038455"
         ],
         "function": "metadsl_core.abstraction.Abstraction.fix"
        },
        "4235134080900658094": {
         "args": [
          "6151607010381665922",
          "-6951022654286815912"
         ],
         "function": "metadsl_core.abstraction.Abstraction.__call__"
        },
        "4991979905226135982": {
         "args": [
          "-8098773918975670263"
         ],
         "function": "metadsl_core.abstraction.Abstraction.from_fn"
        },
        "5020133584677772467": {
         "repr": "0",
         "type": "int"
        },
        "5020133584678854992": {
         "repr": "1",
         "type": "int"
        },
        "5209194522608886065": {
         "args": [
          "-1422993873857770158",
          "-4110108825724404742"
         ],
         "function": "metadsl_core.abstraction.Abstraction.create",
         "type_params": {
          "T": {
           "type": "metadsl_core.integer.Integer"
          },
          "U": {
           "type": "metadsl_core.integer.Integer"
          }
         }
        },
        "5223623702976067960": {
         "args": [
          "-1422993873857770158",
          "-3761648464570011732"
         ],
         "function": "metadsl_core.integer.Integer.__sub__"
        },
        "5753038543453301652": {
         "args": [
          "-2384721082292282686"
         ],
         "function": "metadsl_core.abstraction.Abstraction.create_variable",
         "type_params": {
          "T": {
           "params": {
            "T": {
             "type": "metadsl_core.integer.Integer"
            },
            "U": {
             "type": "metadsl_core.integer.Integer"
            }
           },
           "type": "metadsl_core.abstraction.Abstraction"
          },
          "U": {
           "params": {
            "T": {
             "type": "metadsl_core.integer.Integer"
            },
            "U": {
             "type": "metadsl_core.integer.Integer"
            }
           },
           "type": "metadsl_core.abstraction.Abstraction"
          }
         }
        },
        "6151607010381665922": {
         "args": [
          "5753038543453301652",
          "-7656302002813506385"
         ],
         "function": "metadsl_core.abstraction.Abstraction.create",
         "type_params": {
          "T": {
           "params": {
            "T": {
             "type": "metadsl_core.integer.Integer"
            },
            "U": {
             "type": "metadsl_core.integer.Integer"
            }
           },
           "type": "metadsl_core.abstraction.Abstraction"
          },
          "U": {
           "params": {
            "T": {
             "type": "metadsl_core.integer.Integer"
            },
            "U": {
             "type": "metadsl_core.integer.Integer"
            }
           },
           "type": "metadsl_core.abstraction.Abstraction"
          }
         }
        },
        "6480210940392691983": {
         "args": [
          "-2253366463619383963",
          "-3261146991999286491"
         ],
         "function": "metadsl_core.abstraction.Abstraction.__call__",
         "type_params": {
          "T": {
           "type": "metadsl_core.integer.Integer"
          },
          "U": {
           "type": "metadsl_core.integer.Integer"
          }
         }
        },
        "718830088346179302": {
         "args": [
          "8744182282586139310",
          "-3761648464570011732",
          "-4660579649360568005"
         ],
         "function": "metadsl_core.boolean.Boolean.if_"
        },
        "7268939180749041383": {
         "args": [
          "-8603486734980525913",
          "-3761648464570011732",
          "-4660579649360568005"
         ],
         "function": "metadsl_core.boolean.Boolean.if_"
        },
        "8019624477534682386": {
         "args": [
          "5209194522608886065",
          "-3261146991999286491"
         ],
         "function": "metadsl_core.abstraction.Abstraction.__call__",
         "type_params": {
          "T": {
           "type": "metadsl_core.integer.Integer"
          },
          "U": {
           "type": "metadsl_core.integer.Integer"
          }
         }
        },
        "8100846601222064748": {
         "args": [
          "5753038543453301652",
          "5223623702976067960"
         ],
         "function": "metadsl_core.abstraction.Abstraction.__call__",
         "type_params": {
          "T": {
           "type": "metadsl_core.integer.Integer"
          },
          "U": {
           "type": "metadsl_core.integer.Integer"
          }
         }
        },
        "8535172445371694260": {
         "args": [
          "-7712541427519703545",
          "-3761648464570011732",
          "-880797053572173059"
         ],
         "function": "metadsl_core.boolean.Boolean.if_"
        },
        "8660880803710791853": {
         "args": [
          "4235134080900658094",
          "-3261146991999286491"
         ],
         "function": "metadsl_core.abstraction.Abstraction.__call__",
         "type_params": {
          "T": {
           "type": "metadsl_core.integer.Integer"
          },
          "U": {
           "type": "metadsl_core.integer.Integer"
          }
         }
        },
        "8744182282586139310": {
         "args": [
          "-3261146991999286491",
          "-3261146991999286491"
         ],
         "function": "metadsl_core.integer.Integer.eq"
        },
        "8961978870422484434": {
         "args": [
          "-6951022654286815912",
          "5223623702976067960"
         ],
         "function": "metadsl_core.abstraction.Abstraction.__call__",
         "type_params": {
          "T": {
           "type": "metadsl_core.integer.Integer"
          },
          "U": {
           "type": "metadsl_core.integer.Integer"
          }
         }
        }
       },
       "states": {
        "initial": "-1266856929768360795",
        "states": [
         {
          "node": "6480210940392691983",
          "rule": "metadsl_core.abstraction.Abstraction.from_fn"
         },
         {
          "label": "core",
          "node": "-2704424827530434179",
          "rule": "metadsl_core.abstraction.Abstraction.from_fn"
         },
         {
          "node": "8660880803710791853",
          "rule": "metadsl_core.abstraction.Abstraction.fix"
         },
         {
          "node": "8019624477534682386",
          "rule": "metadsl_core.abstraction.beta_reduce"
         },
         {
          "node": "718830088346179302",
          "rule": "metadsl_core.abstraction.beta_reduce"
         },
         {
          "node": "7268939180749041383",
          "rule": "metadsl_core.integer.integer_eq"
         },
         {
          "label": "execute",
          "node": "-3761648464570011732",
          "rule": "metadsl_core.boolean.if_"
         }
        ]
       }
      },
      "application/x.typez.graph+json": {
       "initial": "digraph {\n\t-1266856929768360795 [label=\"metadsl_core.abstraction.Abstraction.__call__\"]\n\t-1266856929768360795 -> 25351356777524522\n\t25351356777524522 [label=\"metadsl_core.abstraction.Abstraction.fix\"]\n\t25351356777524522 -> -6000412868027038455\n\t-6000412868027038455 [label=\"metadsl_core.abstraction.Abstraction.from_fn\"]\n\t-6000412868027038455 -> -8098774356153391513\n\t-8098774356153391513 [label=\"function factorial at 0x10c4a10d0\"]\n\t-1266856929768360795 -> -3261146991999286491\n\t-3261146991999286491 [label=\"metadsl_core.integer.Integer.from_int\"]\n\t-3261146991999286491 -> 5020133584677772467\n\t5020133584677772467 [label=0]\n}",
       "states": [
        {
         "graph": "digraph {\n\t6480210940392691983 [label=\"metadsl_core.abstraction.Abstraction.__call__\"]\n\t6480210940392691983 -> -2253366463619383963\n\t-2253366463619383963 [label=\"metadsl_core.abstraction.Abstraction.fix\"]\n\t-2253366463619383963 -> 1692351150742998093\n\t1692351150742998093 [label=\"metadsl_core.abstraction.Abstraction.create\"]\n\t1692351150742998093 -> 5753038543453301652\n\t5753038543453301652 [label=\"metadsl_core.abstraction.Abstraction.create_variable\"]\n\t5753038543453301652 -> -2384721082292282686\n\t-2384721082292282686 [label=\"Variable(4511895448)\"]\n\t1692351150742998093 -> 4991979905226135982\n\t4991979905226135982 [label=\"metadsl_core.abstraction.Abstraction.from_fn\"]\n\t4991979905226135982 -> -8098773918975670263\n\t-8098773918975670263 [label=\"function factorial.locals.inner at 0x10cecab70\"]\n\t6480210940392691983 -> -3261146991999286491\n\t-3261146991999286491 [label=\"metadsl_core.integer.Integer.from_int\"]\n\t-3261146991999286491 -> 5020133584677772467\n\t5020133584677772467 [label=0]\n}",
         "label": null,
         "rule": "metadsl_core.abstraction.Abstraction.from_fn"
        },
        {
         "graph": "digraph {\n\t-2704424827530434179 [label=\"metadsl_core.abstraction.Abstraction.__call__\"]\n\t-2704424827530434179 -> -6951022654286815912\n\t-6951022654286815912 [label=\"metadsl_core.abstraction.Abstraction.fix\"]\n\t-6951022654286815912 -> 6151607010381665922\n\t6151607010381665922 [label=\"metadsl_core.abstraction.Abstraction.create\"]\n\t6151607010381665922 -> 5753038543453301652\n\t5753038543453301652 [label=\"metadsl_core.abstraction.Abstraction.create_variable\"]\n\t5753038543453301652 -> -2384721082292282686\n\t-2384721082292282686 [label=\"Variable(4511895448)\"]\n\t6151607010381665922 -> -7656302002813506385\n\t-7656302002813506385 [label=\"metadsl_core.abstraction.Abstraction.create\"]\n\t-7656302002813506385 -> -1422993873857770158\n\t-1422993873857770158 [label=\"metadsl_core.abstraction.Abstraction.create_variable\"]\n\t-1422993873857770158 -> -2384721099196993086\n\t-2384721099196993086 [label=\"Variable(4511645592)\"]\n\t-7656302002813506385 -> 8535172445371694260\n\t8535172445371694260 [label=\"metadsl_core.boolean.Boolean.if_\"]\n\t8535172445371694260 -> -7712541427519703545\n\t-7712541427519703545 [label=\"metadsl_core.integer.Integer.eq\"]\n\t-7712541427519703545 -> -1422993873857770158\n\t-7712541427519703545 -> -3261146991999286491\n\t-3261146991999286491 [label=\"metadsl_core.integer.Integer.from_int\"]\n\t-3261146991999286491 -> 5020133584677772467\n\t5020133584677772467 [label=0]\n\t8535172445371694260 -> -3761648464570011732\n\t-3761648464570011732 [label=\"metadsl_core.integer.Integer.from_int\"]\n\t-3761648464570011732 -> 5020133584678854992\n\t5020133584678854992 [label=1]\n\t8535172445371694260 -> -880797053572173059\n\t-880797053572173059 [label=\"metadsl_core.integer.Integer.__mul__\"]\n\t-880797053572173059 -> -1422993873857770158\n\t-880797053572173059 -> 8100846601222064748\n\t8100846601222064748 [label=\"metadsl_core.abstraction.Abstraction.__call__\"]\n\t8100846601222064748 -> 5753038543453301652\n\t8100846601222064748 -> 5223623702976067960\n\t5223623702976067960 [label=\"metadsl_core.integer.Integer.__sub__\"]\n\t5223623702976067960 -> -1422993873857770158\n\t5223623702976067960 -> -3761648464570011732\n\t-2704424827530434179 -> -3261146991999286491\n}",
         "label": "core",
         "rule": "metadsl_core.abstraction.Abstraction.from_fn"
        },
        {
         "graph": "digraph {\n\t8660880803710791853 [label=\"metadsl_core.abstraction.Abstraction.__call__\"]\n\t8660880803710791853 -> 4235134080900658094\n\t4235134080900658094 [label=\"metadsl_core.abstraction.Abstraction.__call__\"]\n\t4235134080900658094 -> 6151607010381665922\n\t6151607010381665922 [label=\"metadsl_core.abstraction.Abstraction.create\"]\n\t6151607010381665922 -> 5753038543453301652\n\t5753038543453301652 [label=\"metadsl_core.abstraction.Abstraction.create_variable\"]\n\t5753038543453301652 -> -2384721082292282686\n\t-2384721082292282686 [label=\"Variable(4511895448)\"]\n\t6151607010381665922 -> -7656302002813506385\n\t-7656302002813506385 [label=\"metadsl_core.abstraction.Abstraction.create\"]\n\t-7656302002813506385 -> -1422993873857770158\n\t-1422993873857770158 [label=\"metadsl_core.abstraction.Abstraction.create_variable\"]\n\t-1422993873857770158 -> -2384721099196993086\n\t-2384721099196993086 [label=\"Variable(4511645592)\"]\n\t-7656302002813506385 -> 8535172445371694260\n\t8535172445371694260 [label=\"metadsl_core.boolean.Boolean.if_\"]\n\t8535172445371694260 -> -7712541427519703545\n\t-7712541427519703545 [label=\"metadsl_core.integer.Integer.eq\"]\n\t-7712541427519703545 -> -1422993873857770158\n\t-7712541427519703545 -> -3261146991999286491\n\t-3261146991999286491 [label=\"metadsl_core.integer.Integer.from_int\"]\n\t-3261146991999286491 -> 5020133584677772467\n\t5020133584677772467 [label=0]\n\t8535172445371694260 -> -3761648464570011732\n\t-3761648464570011732 [label=\"metadsl_core.integer.Integer.from_int\"]\n\t-3761648464570011732 -> 5020133584678854992\n\t5020133584678854992 [label=1]\n\t8535172445371694260 -> -880797053572173059\n\t-880797053572173059 [label=\"metadsl_core.integer.Integer.__mul__\"]\n\t-880797053572173059 -> -1422993873857770158\n\t-880797053572173059 -> 8100846601222064748\n\t8100846601222064748 [label=\"metadsl_core.abstraction.Abstraction.__call__\"]\n\t8100846601222064748 -> 5753038543453301652\n\t8100846601222064748 -> 5223623702976067960\n\t5223623702976067960 [label=\"metadsl_core.integer.Integer.__sub__\"]\n\t5223623702976067960 -> -1422993873857770158\n\t5223623702976067960 -> -3761648464570011732\n\t4235134080900658094 -> -6951022654286815912\n\t-6951022654286815912 [label=\"metadsl_core.abstraction.Abstraction.fix\"]\n\t-6951022654286815912 -> 6151607010381665922\n\t8660880803710791853 -> -3261146991999286491\n}",
         "label": null,
         "rule": "metadsl_core.abstraction.Abstraction.fix"
        },
        {
         "graph": "digraph {\n\t8019624477534682386 [label=\"metadsl_core.abstraction.Abstraction.__call__\"]\n\t8019624477534682386 -> 5209194522608886065\n\t5209194522608886065 [label=\"metadsl_core.abstraction.Abstraction.create\"]\n\t5209194522608886065 -> -1422993873857770158\n\t-1422993873857770158 [label=\"metadsl_core.abstraction.Abstraction.create_variable\"]\n\t-1422993873857770158 -> -2384721099196993086\n\t-2384721099196993086 [label=\"Variable(4511645592)\"]\n\t5209194522608886065 -> -4110108825724404742\n\t-4110108825724404742 [label=\"metadsl_core.boolean.Boolean.if_\"]\n\t-4110108825724404742 -> -7712541427519703545\n\t-7712541427519703545 [label=\"metadsl_core.integer.Integer.eq\"]\n\t-7712541427519703545 -> -1422993873857770158\n\t-7712541427519703545 -> -3261146991999286491\n\t-3261146991999286491 [label=\"metadsl_core.integer.Integer.from_int\"]\n\t-3261146991999286491 -> 5020133584677772467\n\t5020133584677772467 [label=0]\n\t-4110108825724404742 -> -3761648464570011732\n\t-3761648464570011732 [label=\"metadsl_core.integer.Integer.from_int\"]\n\t-3761648464570011732 -> 5020133584678854992\n\t5020133584678854992 [label=1]\n\t-4110108825724404742 -> -515417545878881195\n\t-515417545878881195 [label=\"metadsl_core.integer.Integer.__mul__\"]\n\t-515417545878881195 -> -1422993873857770158\n\t-515417545878881195 -> 8961978870422484434\n\t8961978870422484434 [label=\"metadsl_core.abstraction.Abstraction.__call__\"]\n\t8961978870422484434 -> -6951022654286815912\n\t-6951022654286815912 [label=\"metadsl_core.abstraction.Abstraction.fix\"]\n\t-6951022654286815912 -> 6151607010381665922\n\t6151607010381665922 [label=\"metadsl_core.abstraction.Abstraction.create\"]\n\t6151607010381665922 -> 5753038543453301652\n\t5753038543453301652 [label=\"metadsl_core.abstraction.Abstraction.create_variable\"]\n\t5753038543453301652 -> -2384721082292282686\n\t-2384721082292282686 [label=\"Variable(4511895448)\"]\n\t6151607010381665922 -> -7656302002813506385\n\t-7656302002813506385 [label=\"metadsl_core.abstraction.Abstraction.create\"]\n\t-7656302002813506385 -> -1422993873857770158\n\t-7656302002813506385 -> 8535172445371694260\n\t8535172445371694260 [label=\"metadsl_core.boolean.Boolean.if_\"]\n\t8535172445371694260 -> -7712541427519703545\n\t8535172445371694260 -> -3761648464570011732\n\t8535172445371694260 -> -880797053572173059\n\t-880797053572173059 [label=\"metadsl_core.integer.Integer.__mul__\"]\n\t-880797053572173059 -> -1422993873857770158\n\t-880797053572173059 -> 8100846601222064748\n\t8100846601222064748 [label=\"metadsl_core.abstraction.Abstraction.__call__\"]\n\t8100846601222064748 -> 5753038543453301652\n\t8100846601222064748 -> 5223623702976067960\n\t5223623702976067960 [label=\"metadsl_core.integer.Integer.__sub__\"]\n\t5223623702976067960 -> -1422993873857770158\n\t5223623702976067960 -> -3761648464570011732\n\t8961978870422484434 -> 5223623702976067960\n\t8019624477534682386 -> -3261146991999286491\n}",
         "label": null,
         "rule": "metadsl_core.abstraction.beta_reduce"
        },
        {
         "graph": "digraph {\n\t718830088346179302 [label=\"metadsl_core.boolean.Boolean.if_\"]\n\t718830088346179302 -> 8744182282586139310\n\t8744182282586139310 [label=\"metadsl_core.integer.Integer.eq\"]\n\t8744182282586139310 -> -3261146991999286491\n\t-3261146991999286491 [label=\"metadsl_core.integer.Integer.from_int\"]\n\t-3261146991999286491 -> 5020133584677772467\n\t5020133584677772467 [label=0]\n\t8744182282586139310 -> -3261146991999286491\n\t718830088346179302 -> -3761648464570011732\n\t-3761648464570011732 [label=\"metadsl_core.integer.Integer.from_int\"]\n\t-3761648464570011732 -> 5020133584678854992\n\t5020133584678854992 [label=1]\n\t718830088346179302 -> -4660579649360568005\n\t-4660579649360568005 [label=\"metadsl_core.integer.Integer.__mul__\"]\n\t-4660579649360568005 -> -3261146991999286491\n\t-4660579649360568005 -> -3424066828438387376\n\t-3424066828438387376 [label=\"metadsl_core.abstraction.Abstraction.__call__\"]\n\t-3424066828438387376 -> -6951022654286815912\n\t-6951022654286815912 [label=\"metadsl_core.abstraction.Abstraction.fix\"]\n\t-6951022654286815912 -> 6151607010381665922\n\t6151607010381665922 [label=\"metadsl_core.abstraction.Abstraction.create\"]\n\t6151607010381665922 -> 5753038543453301652\n\t5753038543453301652 [label=\"metadsl_core.abstraction.Abstraction.create_variable\"]\n\t5753038543453301652 -> -2384721082292282686\n\t-2384721082292282686 [label=\"Variable(4511895448)\"]\n\t6151607010381665922 -> -7656302002813506385\n\t-7656302002813506385 [label=\"metadsl_core.abstraction.Abstraction.create\"]\n\t-7656302002813506385 -> -1422993873857770158\n\t-1422993873857770158 [label=\"metadsl_core.abstraction.Abstraction.create_variable\"]\n\t-1422993873857770158 -> -2384721099196993086\n\t-2384721099196993086 [label=\"Variable(4511645592)\"]\n\t-7656302002813506385 -> 8535172445371694260\n\t8535172445371694260 [label=\"metadsl_core.boolean.Boolean.if_\"]\n\t8535172445371694260 -> -7712541427519703545\n\t-7712541427519703545 [label=\"metadsl_core.integer.Integer.eq\"]\n\t-7712541427519703545 -> -1422993873857770158\n\t-7712541427519703545 -> -3261146991999286491\n\t8535172445371694260 -> -3761648464570011732\n\t8535172445371694260 -> -880797053572173059\n\t-880797053572173059 [label=\"metadsl_core.integer.Integer.__mul__\"]\n\t-880797053572173059 -> -1422993873857770158\n\t-880797053572173059 -> 8100846601222064748\n\t8100846601222064748 [label=\"metadsl_core.abstraction.Abstraction.__call__\"]\n\t8100846601222064748 -> 5753038543453301652\n\t8100846601222064748 -> 5223623702976067960\n\t5223623702976067960 [label=\"metadsl_core.integer.Integer.__sub__\"]\n\t5223623702976067960 -> -1422993873857770158\n\t5223623702976067960 -> -3761648464570011732\n\t-3424066828438387376 -> -930789844318381307\n\t-930789844318381307 [label=\"metadsl_core.integer.Integer.__sub__\"]\n\t-930789844318381307 -> -3261146991999286491\n\t-930789844318381307 -> -3761648464570011732\n}",
         "label": null,
         "rule": "metadsl_core.abstraction.beta_reduce"
        },
        {
         "graph": "digraph {\n\t7268939180749041383 [label=\"metadsl_core.boolean.Boolean.if_\"]\n\t7268939180749041383 -> -8603486734980525913\n\t-8603486734980525913 [label=\"metadsl_core.boolean.Boolean.create\"]\n\t-8603486734980525913 -> -1343543487854115900\n\t-1343543487854115900 [label=True]\n\t7268939180749041383 -> -3761648464570011732\n\t-3761648464570011732 [label=\"metadsl_core.integer.Integer.from_int\"]\n\t-3761648464570011732 -> 5020133584678854992\n\t5020133584678854992 [label=1]\n\t7268939180749041383 -> -4660579649360568005\n\t-4660579649360568005 [label=\"metadsl_core.integer.Integer.__mul__\"]\n\t-4660579649360568005 -> -3261146991999286491\n\t-3261146991999286491 [label=\"metadsl_core.integer.Integer.from_int\"]\n\t-3261146991999286491 -> 5020133584677772467\n\t5020133584677772467 [label=0]\n\t-4660579649360568005 -> -3424066828438387376\n\t-3424066828438387376 [label=\"metadsl_core.abstraction.Abstraction.__call__\"]\n\t-3424066828438387376 -> -6951022654286815912\n\t-6951022654286815912 [label=\"metadsl_core.abstraction.Abstraction.fix\"]\n\t-6951022654286815912 -> 6151607010381665922\n\t6151607010381665922 [label=\"metadsl_core.abstraction.Abstraction.create\"]\n\t6151607010381665922 -> 5753038543453301652\n\t5753038543453301652 [label=\"metadsl_core.abstraction.Abstraction.create_variable\"]\n\t5753038543453301652 -> -2384721082292282686\n\t-2384721082292282686 [label=\"Variable(4511895448)\"]\n\t6151607010381665922 -> -7656302002813506385\n\t-7656302002813506385 [label=\"metadsl_core.abstraction.Abstraction.create\"]\n\t-7656302002813506385 -> -1422993873857770158\n\t-1422993873857770158 [label=\"metadsl_core.abstraction.Abstraction.create_variable\"]\n\t-1422993873857770158 -> -2384721099196993086\n\t-2384721099196993086 [label=\"Variable(4511645592)\"]\n\t-7656302002813506385 -> 8535172445371694260\n\t8535172445371694260 [label=\"metadsl_core.boolean.Boolean.if_\"]\n\t8535172445371694260 -> -7712541427519703545\n\t-7712541427519703545 [label=\"metadsl_core.integer.Integer.eq\"]\n\t-7712541427519703545 -> -1422993873857770158\n\t-7712541427519703545 -> -3261146991999286491\n\t8535172445371694260 -> -3761648464570011732\n\t8535172445371694260 -> -880797053572173059\n\t-880797053572173059 [label=\"metadsl_core.integer.Integer.__mul__\"]\n\t-880797053572173059 -> -1422993873857770158\n\t-880797053572173059 -> 8100846601222064748\n\t8100846601222064748 [label=\"metadsl_core.abstraction.Abstraction.__call__\"]\n\t8100846601222064748 -> 5753038543453301652\n\t8100846601222064748 -> 5223623702976067960\n\t5223623702976067960 [label=\"metadsl_core.integer.Integer.__sub__\"]\n\t5223623702976067960 -> -1422993873857770158\n\t5223623702976067960 -> -3761648464570011732\n\t-3424066828438387376 -> -930789844318381307\n\t-930789844318381307 [label=\"metadsl_core.integer.Integer.__sub__\"]\n\t-930789844318381307 -> -3261146991999286491\n\t-930789844318381307 -> -3761648464570011732\n}",
         "label": null,
         "rule": "metadsl_core.integer.integer_eq"
        },
        {
         "graph": "digraph {\n\t-3761648464570011732 [label=\"metadsl_core.integer.Integer.from_int\"]\n\t-3761648464570011732 -> 5020133584678854992\n\t5020133584678854992 [label=1]\n}",
         "label": "execute",
         "rule": "metadsl_core.boolean.if_"
        }
       ]
      },
      "text/plain": [
       "Typez(definitions=None, nodes={'-8098774356153391513': PrimitiveNode(type='function', repr='<function factorial at 0x10c4a10d0>'), '-6000412868027038455': CallNode(function='metadsl_core.abstraction.Abstraction.from_fn', type_params=None, args=['-8098774356153391513'], kwargs=None), '25351356777524522': CallNode(function='metadsl_core.abstraction.Abstraction.fix', type_params=None, args=['-6000412868027038455'], kwargs=None), '5020133584677772467': PrimitiveNode(type='int', repr='0'), '-3261146991999286491': CallNode(function='metadsl_core.integer.Integer.from_int', type_params=None, args=['5020133584677772467'], kwargs=None), '-1266856929768360795': CallNode(function='metadsl_core.abstraction.Abstraction.__call__', type_params={'U': DeclaredTypeInstance(type='metadsl_core.integer.Integer', params=None), 'T': DeclaredTypeInstance(type='metadsl_core.integer.Integer', params=None)}, args=['25351356777524522', '-3261146991999286491'], kwargs=None), '-2384721082292282686': PrimitiveNode(type='metadsl_core.abstraction.Variable', repr='Variable(4511895448)'), '5753038543453301652': CallNode(function='metadsl_core.abstraction.Abstraction.create_variable', type_params={'U': DeclaredTypeInstance(type='metadsl_core.abstraction.Abstraction', params={'U': DeclaredTypeInstance(type='metadsl_core.integer.Integer', params=None), 'T': DeclaredTypeInstance(type='metadsl_core.integer.Integer', params=None)}), 'T': DeclaredTypeInstance(type='metadsl_core.abstraction.Abstraction', params={'U': DeclaredTypeInstance(type='metadsl_core.integer.Integer', params=None), 'T': DeclaredTypeInstance(type='metadsl_core.integer.Integer', params=None)})}, args=['-2384721082292282686'], kwargs=None), '-8098773918975670263': PrimitiveNode(type='function', repr='<function factorial.<locals>.inner at 0x10cecab70>'), '4991979905226135982': CallNode(function='metadsl_core.abstraction.Abstraction.from_fn', type_params=None, args=['-8098773918975670263'], kwargs=None), '1692351150742998093': CallNode(function='metadsl_core.abstraction.Abstraction.create', type_params={'U': DeclaredTypeInstance(type='metadsl_core.abstraction.Abstraction', params={'U': DeclaredTypeInstance(type='metadsl_core.integer.Integer', params=None), 'T': DeclaredTypeInstance(type='metadsl_core.integer.Integer', params=None)}), 'T': DeclaredTypeInstance(type='metadsl_core.abstraction.Abstraction', params={'U': DeclaredTypeInstance(type='metadsl_core.integer.Integer', params=None), 'T': DeclaredTypeInstance(type='metadsl_core.integer.Integer', params=None)})}, args=['5753038543453301652', '4991979905226135982'], kwargs=None), '-2253366463619383963': CallNode(function='metadsl_core.abstraction.Abstraction.fix', type_params=None, args=['1692351150742998093'], kwargs=None), '6480210940392691983': CallNode(function='metadsl_core.abstraction.Abstraction.__call__', type_params={'U': DeclaredTypeInstance(type='metadsl_core.integer.Integer', params=None), 'T': DeclaredTypeInstance(type='metadsl_core.integer.Integer', params=None)}, args=['-2253366463619383963', '-3261146991999286491'], kwargs=None), '-2384721099196993086': PrimitiveNode(type='metadsl_core.abstraction.Variable', repr='Variable(4511645592)'), '-1422993873857770158': CallNode(function='metadsl_core.abstraction.Abstraction.create_variable', type_params={'U': DeclaredTypeInstance(type='metadsl_core.integer.Integer', params=None), 'T': DeclaredTypeInstance(type='metadsl_core.integer.Integer', params=None)}, args=['-2384721099196993086'], kwargs=None), '-7712541427519703545': CallNode(function='metadsl_core.integer.Integer.eq', type_params=None, args=['-1422993873857770158', '-3261146991999286491'], kwargs=None), '5020133584678854992': PrimitiveNode(type='int', repr='1'), '-3761648464570011732': CallNode(function='metadsl_core.integer.Integer.from_int', type_params=None, args=['5020133584678854992'], kwargs=None), '5223623702976067960': CallNode(function='metadsl_core.integer.Integer.__sub__', type_params=None, args=['-1422993873857770158', '-3761648464570011732'], kwargs=None), '8100846601222064748': CallNode(function='metadsl_core.abstraction.Abstraction.__call__', type_params={'U': DeclaredTypeInstance(type='metadsl_core.integer.Integer', params=None), 'T': DeclaredTypeInstance(type='metadsl_core.integer.Integer', params=None)}, args=['5753038543453301652', '5223623702976067960'], kwargs=None), '-880797053572173059': CallNode(function='metadsl_core.integer.Integer.__mul__', type_params=None, args=['-1422993873857770158', '8100846601222064748'], kwargs=None), '8535172445371694260': CallNode(function='metadsl_core.boolean.Boolean.if_', type_params=None, args=['-7712541427519703545', '-3761648464570011732', '-880797053572173059'], kwargs=None), '-7656302002813506385': CallNode(function='metadsl_core.abstraction.Abstraction.create', type_params={'U': DeclaredTypeInstance(type='metadsl_core.integer.Integer', params=None), 'T': DeclaredTypeInstance(type='metadsl_core.integer.Integer', params=None)}, args=['-1422993873857770158', '8535172445371694260'], kwargs=None), '6151607010381665922': CallNode(function='metadsl_core.abstraction.Abstraction.create', type_params={'U': DeclaredTypeInstance(type='metadsl_core.abstraction.Abstraction', params={'U': DeclaredTypeInstance(type='metadsl_core.integer.Integer', params=None), 'T': DeclaredTypeInstance(type='metadsl_core.integer.Integer', params=None)}), 'T': DeclaredTypeInstance(type='metadsl_core.abstraction.Abstraction', params={'U': DeclaredTypeInstance(type='metadsl_core.integer.Integer', params=None), 'T': DeclaredTypeInstance(type='metadsl_core.integer.Integer', params=None)})}, args=['5753038543453301652', '-7656302002813506385'], kwargs=None), '-6951022654286815912': CallNode(function='metadsl_core.abstraction.Abstraction.fix', type_params=None, args=['6151607010381665922'], kwargs=None), '-2704424827530434179': CallNode(function='metadsl_core.abstraction.Abstraction.__call__', type_params={'U': DeclaredTypeInstance(type='metadsl_core.integer.Integer', params=None), 'T': DeclaredTypeInstance(type='metadsl_core.integer.Integer', params=None)}, args=['-6951022654286815912', '-3261146991999286491'], kwargs=None), '4235134080900658094': CallNode(function='metadsl_core.abstraction.Abstraction.__call__', type_params=None, args=['6151607010381665922', '-6951022654286815912'], kwargs=None), '8660880803710791853': CallNode(function='metadsl_core.abstraction.Abstraction.__call__', type_params={'U': DeclaredTypeInstance(type='metadsl_core.integer.Integer', params=None), 'T': DeclaredTypeInstance(type='metadsl_core.integer.Integer', params=None)}, args=['4235134080900658094', '-3261146991999286491'], kwargs=None), '8961978870422484434': CallNode(function='metadsl_core.abstraction.Abstraction.__call__', type_params={'U': DeclaredTypeInstance(type='metadsl_core.integer.Integer', params=None), 'T': DeclaredTypeInstance(type='metadsl_core.integer.Integer', params=None)}, args=['-6951022654286815912', '5223623702976067960'], kwargs=None), '-515417545878881195': CallNode(function='metadsl_core.integer.Integer.__mul__', type_params=None, args=['-1422993873857770158', '8961978870422484434'], kwargs=None), '-4110108825724404742': CallNode(function='metadsl_core.boolean.Boolean.if_', type_params=None, args=['-7712541427519703545', '-3761648464570011732', '-515417545878881195'], kwargs=None), '5209194522608886065': CallNode(function='metadsl_core.abstraction.Abstraction.create', type_params={'U': DeclaredTypeInstance(type='metadsl_core.integer.Integer', params=None), 'T': DeclaredTypeInstance(type='metadsl_core.integer.Integer', params=None)}, args=['-1422993873857770158', '-4110108825724404742'], kwargs=None), '8019624477534682386': CallNode(function='metadsl_core.abstraction.Abstraction.__call__', type_params={'U': DeclaredTypeInstance(type='metadsl_core.integer.Integer', params=None), 'T': DeclaredTypeInstance(type='metadsl_core.integer.Integer', params=None)}, args=['5209194522608886065', '-3261146991999286491'], kwargs=None), '8744182282586139310': CallNode(function='metadsl_core.integer.Integer.eq', type_params=None, args=['-3261146991999286491', '-3261146991999286491'], kwargs=None), '-930789844318381307': CallNode(function='metadsl_core.integer.Integer.__sub__', type_params=None, args=['-3261146991999286491', '-3761648464570011732'], kwargs=None), '-3424066828438387376': CallNode(function='metadsl_core.abstraction.Abstraction.__call__', type_params={'U': DeclaredTypeInstance(type='metadsl_core.integer.Integer', params=None), 'T': DeclaredTypeInstance(type='metadsl_core.integer.Integer', params=None)}, args=['-6951022654286815912', '-930789844318381307'], kwargs=None), '-4660579649360568005': CallNode(function='metadsl_core.integer.Integer.__mul__', type_params=None, args=['-3261146991999286491', '-3424066828438387376'], kwargs=None), '718830088346179302': CallNode(function='metadsl_core.boolean.Boolean.if_', type_params=None, args=['8744182282586139310', '-3761648464570011732', '-4660579649360568005'], kwargs=None), '-1343543487854115900': PrimitiveNode(type='bool', repr='True'), '-8603486734980525913': CallNode(function='metadsl_core.boolean.Boolean.create', type_params=None, args=['-1343543487854115900'], kwargs=None), '7268939180749041383': CallNode(function='metadsl_core.boolean.Boolean.if_', type_params=None, args=['-8603486734980525913', '-3761648464570011732', '-4660579649360568005'], kwargs=None)}, states=States(initial='-1266856929768360795', states=[State(node='6480210940392691983', rule='metadsl_core.abstraction.Abstraction.from_fn', label=None), State(node='-2704424827530434179', rule='metadsl_core.abstraction.Abstraction.from_fn', label='core'), State(node='8660880803710791853', rule='metadsl_core.abstraction.Abstraction.fix', label=None), State(node='8019624477534682386', rule='metadsl_core.abstraction.beta_reduce', label=None), State(node='718830088346179302', rule='metadsl_core.abstraction.beta_reduce', label=None), State(node='7268939180749041383', rule='metadsl_core.integer.integer_eq', label=None), State(node='-3761648464570011732', rule='metadsl_core.boolean.if_', label='execute')]))"
      ]
     },
     "metadata": {},
     "output_type": "display_data"
    },
    {
     "data": {
      "application/json": {
       "nodes": {
        "-1343543487854115900": {
         "repr": "True",
         "type": "bool"
        },
        "-1343543487855198425": {
         "repr": "False",
         "type": "bool"
        },
        "-1396514070026963675": {
         "args": [
          "-3761648464570011732",
          "-3761648464570011732"
         ],
         "function": "metadsl_core.integer.Integer.__sub__"
        },
        "-1405697267343301909": {
         "args": [
          "-4508451249784398283",
          "-1396514070026963675"
         ],
         "function": "metadsl_core.abstraction.Abstraction.__call__",
         "type_params": {
          "T": {
           "type": "metadsl_core.integer.Integer"
          },
          "U": {
           "type": "metadsl_core.integer.Integer"
          }
         }
        },
        "-1704077748843404096": {
         "args": [
          "4158777528167400411",
          "8704556334495102488"
         ],
         "function": "metadsl_core.integer.Integer.__mul__"
        },
        "-1751257619993432315": {
         "args": [
          "-3761648464570011732",
          "-3261146991999286491"
         ],
         "function": "metadsl_core.integer.Integer.eq"
        },
        "-1950048533630064032": {
         "args": [
          "1354070632656428457",
          "2008428493598411060"
         ],
         "function": "metadsl_core.abstraction.Abstraction.__call__",
         "type_params": {
          "T": {
           "type": "metadsl_core.integer.Integer"
          },
          "U": {
           "type": "metadsl_core.integer.Integer"
          }
         }
        },
        "-2004152084645917595": {
         "args": [
          "8384646984641738169"
         ],
         "function": "metadsl_core.abstraction.Abstraction.fix"
        },
        "-2384721008206436736": {
         "repr": "Variable(4512105528)",
         "type": "metadsl_core.abstraction.Variable"
        },
        "-3261146991999286491": {
         "args": [
          "5020133584677772467"
         ],
         "function": "metadsl_core.integer.Integer.from_int"
        },
        "-3761648464570011732": {
         "args": [
          "5020133584678854992"
         ],
         "function": "metadsl_core.integer.Integer.from_int"
        },
        "-3895248371160163760": {
         "args": [
          "-3761648464570011732",
          "-1405697267343301909"
         ],
         "function": "metadsl_core.integer.Integer.__mul__"
        },
        "-4508451249784398283": {
         "args": [
          "7803063892602039821"
         ],
         "function": "metadsl_core.abstraction.Abstraction.fix"
        },
        "-4849897281384258292": {
         "args": [
          "2473484447986841411",
          "-3761648464570011732",
          "-5746384653120859676"
         ],
         "function": "metadsl_core.boolean.Boolean.if_"
        },
        "-5253463565420367128": {
         "args": [
          "-3761648464570011732",
          "404128494258799245"
         ],
         "function": "metadsl_core.integer.Integer.__mul__"
        },
        "-5746384653120859676": {
         "args": [
          "4158777528167400411",
          "-1950048533630064032"
         ],
         "function": "metadsl_core.integer.Integer.__mul__"
        },
        "-5822282639476438693": {
         "args": [
          "-2004152084645917595",
          "-3761648464570011732"
         ],
         "function": "metadsl_core.abstraction.Abstraction.__call__",
         "type_params": {
          "T": {
           "type": "metadsl_core.integer.Integer"
          },
          "U": {
           "type": "metadsl_core.integer.Integer"
          }
         }
        },
        "-5886206058259515635": {
         "args": [
          "7803063892602039821",
          "-4508451249784398283"
         ],
         "function": "metadsl_core.abstraction.Abstraction.__call__"
        },
        "-6000412868027038455": {
         "args": [
          "-8098774356153391513"
         ],
         "function": "metadsl_core.abstraction.Abstraction.from_fn"
        },
        "-6244791731591336776": {
         "args": [
          "-8603486734980525913",
          "-3761648464570011732",
          "2680543962417423560"
         ],
         "function": "metadsl_core.boolean.Boolean.if_"
        },
        "-7203953041859342966": {
         "args": [
          "4158777528167400411",
          "953738044573471598"
         ],
         "function": "metadsl_core.abstraction.Abstraction.create",
         "type_params": {
          "T": {
           "type": "metadsl_core.integer.Integer"
          },
          "U": {
           "type": "metadsl_core.integer.Integer"
          }
         }
        },
        "-7548025437985034325": {
         "args": [
          "-3761648464570011732",
          "3435866953563193479"
         ],
         "function": "metadsl_core.integer.Integer.__mul__"
        },
        "-8098774035809345938": {
         "repr": "<function factorial.<locals>.inner at 0x10cf2d1e0>",
         "type": "function"
        },
        "-8098774356153391513": {
         "repr": "<function factorial at 0x10c4a10d0>",
         "type": "function"
        },
        "-8556989359126325423": {
         "args": [
          "3631736268742763938",
          "-3261146991999286491"
         ],
         "function": "metadsl_core.abstraction.Abstraction.__call__",
         "type_params": {
          "T": {
           "type": "metadsl_core.integer.Integer"
          },
          "U": {
           "type": "metadsl_core.integer.Integer"
          }
         }
        },
        "-8603486734980525913": {
         "args": [
          "-1343543487854115900"
         ],
         "function": "metadsl_core.boolean.Boolean.create"
        },
        "-8881034144831541911": {
         "args": [
          "-1343543487855198425"
         ],
         "function": "metadsl_core.boolean.Boolean.create"
        },
        "-8981551478569819942": {
         "args": [
          "25351356777524522",
          "-3761648464570011732"
         ],
         "function": "metadsl_core.abstraction.Abstraction.__call__",
         "type_params": {
          "T": {
           "type": "metadsl_core.integer.Integer"
          },
          "U": {
           "type": "metadsl_core.integer.Integer"
          }
         }
        },
        "-930789844318381307": {
         "args": [
          "-3261146991999286491",
          "-3761648464570011732"
         ],
         "function": "metadsl_core.integer.Integer.__sub__"
        },
        "1354070632656428457": {
         "args": [
          "6838651033424439372"
         ],
         "function": "metadsl_core.abstraction.Abstraction.create_variable",
         "type_params": {
          "T": {
           "params": {
            "T": {
             "type": "metadsl_core.integer.Integer"
            },
            "U": {
             "type": "metadsl_core.integer.Integer"
            }
           },
           "type": "metadsl_core.abstraction.Abstraction"
          },
          "U": {
           "params": {
            "T": {
             "type": "metadsl_core.integer.Integer"
            },
            "U": {
             "type": "metadsl_core.integer.Integer"
            }
           },
           "type": "metadsl_core.abstraction.Abstraction"
          }
         }
        },
        "1531232462748339388": {
         "args": [
          "-8881034144831541911",
          "-3761648464570011732",
          "-3895248371160163760"
         ],
         "function": "metadsl_core.boolean.Boolean.if_"
        },
        "1839637132607561383": {
         "args": [
          "-1751257619993432315",
          "-3761648464570011732",
          "-3895248371160163760"
         ],
         "function": "metadsl_core.boolean.Boolean.if_"
        },
        "1992175813153114549": {
         "args": [
          "8744182282586139310",
          "-3761648464570011732",
          "2680543962417423560"
         ],
         "function": "metadsl_core.boolean.Boolean.if_"
        },
        "2008428493598411060": {
         "args": [
          "4158777528167400411",
          "-3761648464570011732"
         ],
         "function": "metadsl_core.integer.Integer.__sub__"
        },
        "2473484447986841411": {
         "args": [
          "4158777528167400411",
          "-3261146991999286491"
         ],
         "function": "metadsl_core.integer.Integer.eq"
        },
        "25351356777524522": {
         "args": [
          "-6000412868027038455"
         ],
         "function": "metadsl_core.abstraction.Abstraction.fix"
        },
        "2680543962417423560": {
         "args": [
          "-3261146991999286491",
          "5297832788064095294"
         ],
         "function": "metadsl_core.integer.Integer.__mul__"
        },
        "3024488261734525625": {
         "args": [
          "4158777528167400411",
          "-4849897281384258292"
         ],
         "function": "metadsl_core.abstraction.Abstraction.create",
         "type_params": {
          "T": {
           "type": "metadsl_core.integer.Integer"
          },
          "U": {
           "type": "metadsl_core.integer.Integer"
          }
         }
        },
        "3435866953563193479": {
         "args": [
          "-4508451249784398283",
          "-3261146991999286491"
         ],
         "function": "metadsl_core.abstraction.Abstraction.__call__",
         "type_params": {
          "T": {
           "type": "metadsl_core.integer.Integer"
          },
          "U": {
           "type": "metadsl_core.integer.Integer"
          }
         }
        },
        "3631736268742763938": {
         "args": [
          "7803063892602039821",
          "-4508451249784398283"
         ],
         "function": "metadsl_core.abstraction.Abstraction.__call__",
         "type_params": {
          "T": {
           "params": {
            "T": {
             "type": "metadsl_core.integer.Integer"
            },
            "U": {
             "type": "metadsl_core.integer.Integer"
            }
           },
           "type": "metadsl_core.abstraction.Abstraction"
          },
          "U": {
           "params": {
            "T": {
             "type": "metadsl_core.integer.Integer"
            },
            "U": {
             "type": "metadsl_core.integer.Integer"
            }
           },
           "type": "metadsl_core.abstraction.Abstraction"
          }
         }
        },
        "404128494258799245": {
         "args": [
          "-7203953041859342966",
          "-3261146991999286491"
         ],
         "function": "metadsl_core.abstraction.Abstraction.__call__",
         "type_params": {
          "T": {
           "type": "metadsl_core.integer.Integer"
          },
          "U": {
           "type": "metadsl_core.integer.Integer"
          }
         }
        },
        "4158777528167400411": {
         "args": [
          "-2384721008206436736"
         ],
         "function": "metadsl_core.abstraction.Abstraction.create_variable",
         "type_params": {
          "T": {
           "type": "metadsl_core.integer.Integer"
          },
          "U": {
           "type": "metadsl_core.integer.Integer"
          }
         }
        },
        "4771759451938551188": {
         "args": [
          "-3761648464570011732",
          "1992175813153114549"
         ],
         "function": "metadsl_core.integer.Integer.__mul__"
        },
        "5020133584677772467": {
         "repr": "0",
         "type": "int"
        },
        "5020133584678854992": {
         "repr": "1",
         "type": "int"
        },
        "5297832788064095294": {
         "args": [
          "-4508451249784398283",
          "-930789844318381307"
         ],
         "function": "metadsl_core.abstraction.Abstraction.__call__",
         "type_params": {
          "T": {
           "type": "metadsl_core.integer.Integer"
          },
          "U": {
           "type": "metadsl_core.integer.Integer"
          }
         }
        },
        "5504918128939009495": {
         "args": [
          "-3761648464570011732",
          "-3761648464570011732"
         ],
         "function": "metadsl_core.integer.Integer.__mul__"
        },
        "6270441202812895251": {
         "args": [
          "-8098774035809345938"
         ],
         "function": "metadsl_core.abstraction.Abstraction.from_fn"
        },
        "6838651033424439372": {
         "repr": "Variable(4512043248)",
         "type": "metadsl_core.abstraction.Variable"
        },
        "7288429155726012528": {
         "args": [
          "-3761648464570011732",
          "-8556989359126325423"
         ],
         "function": "metadsl_core.integer.Integer.__mul__"
        },
        "7318716202877042700": {
         "args": [
          "-4508451249784398283",
          "-3761648464570011732"
         ],
         "function": "metadsl_core.abstraction.Abstraction.__call__",
         "type_params": {
          "T": {
           "type": "metadsl_core.integer.Integer"
          },
          "U": {
           "type": "metadsl_core.integer.Integer"
          }
         }
        },
        "7803063892602039821": {
         "args": [
          "1354070632656428457",
          "3024488261734525625"
         ],
         "function": "metadsl_core.abstraction.Abstraction.create",
         "type_params": {
          "T": {
           "params": {
            "T": {
             "type": "metadsl_core.integer.Integer"
            },
            "U": {
             "type": "metadsl_core.integer.Integer"
            }
           },
           "type": "metadsl_core.abstraction.Abstraction"
          },
          "U": {
           "params": {
            "T": {
             "type": "metadsl_core.integer.Integer"
            },
            "U": {
             "type": "metadsl_core.integer.Integer"
            }
           },
           "type": "metadsl_core.abstraction.Abstraction"
          }
         }
        },
        "8089090549485829643": {
         "args": [
          "-3761648464570011732",
          "-6244791731591336776"
         ],
         "function": "metadsl_core.integer.Integer.__mul__"
        },
        "8151390718155593077": {
         "args": [
          "-5886206058259515635",
          "-3761648464570011732"
         ],
         "function": "metadsl_core.abstraction.Abstraction.__call__",
         "type_params": {
          "T": {
           "type": "metadsl_core.integer.Integer"
          },
          "U": {
           "type": "metadsl_core.integer.Integer"
          }
         }
        },
        "8384646984641738169": {
         "args": [
          "1354070632656428457",
          "6270441202812895251"
         ],
         "function": "metadsl_core.abstraction.Abstraction.create",
         "type_params": {
          "T": {
           "params": {
            "T": {
             "type": "metadsl_core.integer.Integer"
            },
            "U": {
             "type": "metadsl_core.integer.Integer"
            }
           },
           "type": "metadsl_core.abstraction.Abstraction"
          },
          "U": {
           "params": {
            "T": {
             "type": "metadsl_core.integer.Integer"
            },
            "U": {
             "type": "metadsl_core.integer.Integer"
            }
           },
           "type": "metadsl_core.abstraction.Abstraction"
          }
         }
        },
        "8704556334495102488": {
         "args": [
          "-4508451249784398283",
          "2008428493598411060"
         ],
         "function": "metadsl_core.abstraction.Abstraction.__call__",
         "type_params": {
          "T": {
           "type": "metadsl_core.integer.Integer"
          },
          "U": {
           "type": "metadsl_core.integer.Integer"
          }
         }
        },
        "8744182282586139310": {
         "args": [
          "-3261146991999286491",
          "-3261146991999286491"
         ],
         "function": "metadsl_core.integer.Integer.eq"
        },
        "9173987847364421042": {
         "args": [
          "-7203953041859342966",
          "-3761648464570011732"
         ],
         "function": "metadsl_core.abstraction.Abstraction.__call__",
         "type_params": {
          "T": {
           "type": "metadsl_core.integer.Integer"
          },
          "U": {
           "type": "metadsl_core.integer.Integer"
          }
         }
        },
        "953738044573471598": {
         "args": [
          "2473484447986841411",
          "-3761648464570011732",
          "-1704077748843404096"
         ],
         "function": "metadsl_core.boolean.Boolean.if_"
        }
       },
       "states": {
        "initial": "-8981551478569819942",
        "states": [
         {
          "node": "-5822282639476438693",
          "rule": "metadsl_core.abstraction.Abstraction.from_fn"
         },
         {
          "label": "core",
          "node": "7318716202877042700",
          "rule": "metadsl_core.abstraction.Abstraction.from_fn"
         },
         {
          "node": "8151390718155593077",
          "rule": "metadsl_core.abstraction.Abstraction.fix"
         },
         {
          "node": "9173987847364421042",
          "rule": "metadsl_core.abstraction.beta_reduce"
         },
         {
          "node": "1839637132607561383",
          "rule": "metadsl_core.abstraction.beta_reduce"
         },
         {
          "node": "1531232462748339388",
          "rule": "metadsl_core.integer.integer_eq"
         },
         {
          "node": "-3895248371160163760",
          "rule": "metadsl_core.boolean.if_"
         },
         {
          "node": "-7548025437985034325",
          "rule": "metadsl_core.integer.integer_math"
         },
         {
          "node": "7288429155726012528",
          "rule": "metadsl_core.abstraction.Abstraction.fix"
         },
         {
          "node": "-5253463565420367128",
          "rule": "metadsl_core.abstraction.beta_reduce"
         },
         {
          "node": "4771759451938551188",
          "rule": "metadsl_core.abstraction.beta_reduce"
         },
         {
          "node": "8089090549485829643",
          "rule": "metadsl_core.integer.integer_eq"
         },
         {
          "node": "5504918128939009495",
          "rule": "metadsl_core.boolean.if_"
         },
         {
          "label": "execute",
          "node": "-3761648464570011732",
          "rule": "metadsl_core.integer.integer_math"
         }
        ]
       }
      },
      "application/x.typez.graph+json": {
       "initial": "digraph {\n\t-8981551478569819942 [label=\"metadsl_core.abstraction.Abstraction.__call__\"]\n\t-8981551478569819942 -> 25351356777524522\n\t25351356777524522 [label=\"metadsl_core.abstraction.Abstraction.fix\"]\n\t25351356777524522 -> -6000412868027038455\n\t-6000412868027038455 [label=\"metadsl_core.abstraction.Abstraction.from_fn\"]\n\t-6000412868027038455 -> -8098774356153391513\n\t-8098774356153391513 [label=\"function factorial at 0x10c4a10d0\"]\n\t-8981551478569819942 -> -3761648464570011732\n\t-3761648464570011732 [label=\"metadsl_core.integer.Integer.from_int\"]\n\t-3761648464570011732 -> 5020133584678854992\n\t5020133584678854992 [label=1]\n}",
       "states": [
        {
         "graph": "digraph {\n\t-5822282639476438693 [label=\"metadsl_core.abstraction.Abstraction.__call__\"]\n\t-5822282639476438693 -> -2004152084645917595\n\t-2004152084645917595 [label=\"metadsl_core.abstraction.Abstraction.fix\"]\n\t-2004152084645917595 -> 8384646984641738169\n\t8384646984641738169 [label=\"metadsl_core.abstraction.Abstraction.create\"]\n\t8384646984641738169 -> 1354070632656428457\n\t1354070632656428457 [label=\"metadsl_core.abstraction.Abstraction.create_variable\"]\n\t1354070632656428457 -> 6838651033424439372\n\t6838651033424439372 [label=\"Variable(4512043248)\"]\n\t8384646984641738169 -> 6270441202812895251\n\t6270441202812895251 [label=\"metadsl_core.abstraction.Abstraction.from_fn\"]\n\t6270441202812895251 -> -8098774035809345938\n\t-8098774035809345938 [label=\"function factorial.locals.inner at 0x10cf2d1e0\"]\n\t-5822282639476438693 -> -3761648464570011732\n\t-3761648464570011732 [label=\"metadsl_core.integer.Integer.from_int\"]\n\t-3761648464570011732 -> 5020133584678854992\n\t5020133584678854992 [label=1]\n}",
         "label": null,
         "rule": "metadsl_core.abstraction.Abstraction.from_fn"
        },
        {
         "graph": "digraph {\n\t7318716202877042700 [label=\"metadsl_core.abstraction.Abstraction.__call__\"]\n\t7318716202877042700 -> -4508451249784398283\n\t-4508451249784398283 [label=\"metadsl_core.abstraction.Abstraction.fix\"]\n\t-4508451249784398283 -> 7803063892602039821\n\t7803063892602039821 [label=\"metadsl_core.abstraction.Abstraction.create\"]\n\t7803063892602039821 -> 1354070632656428457\n\t1354070632656428457 [label=\"metadsl_core.abstraction.Abstraction.create_variable\"]\n\t1354070632656428457 -> 6838651033424439372\n\t6838651033424439372 [label=\"Variable(4512043248)\"]\n\t7803063892602039821 -> 3024488261734525625\n\t3024488261734525625 [label=\"metadsl_core.abstraction.Abstraction.create\"]\n\t3024488261734525625 -> 4158777528167400411\n\t4158777528167400411 [label=\"metadsl_core.abstraction.Abstraction.create_variable\"]\n\t4158777528167400411 -> -2384721008206436736\n\t-2384721008206436736 [label=\"Variable(4512105528)\"]\n\t3024488261734525625 -> -4849897281384258292\n\t-4849897281384258292 [label=\"metadsl_core.boolean.Boolean.if_\"]\n\t-4849897281384258292 -> 2473484447986841411\n\t2473484447986841411 [label=\"metadsl_core.integer.Integer.eq\"]\n\t2473484447986841411 -> 4158777528167400411\n\t2473484447986841411 -> -3261146991999286491\n\t-3261146991999286491 [label=\"metadsl_core.integer.Integer.from_int\"]\n\t-3261146991999286491 -> 5020133584677772467\n\t5020133584677772467 [label=0]\n\t-4849897281384258292 -> -3761648464570011732\n\t-3761648464570011732 [label=\"metadsl_core.integer.Integer.from_int\"]\n\t-3761648464570011732 -> 5020133584678854992\n\t5020133584678854992 [label=1]\n\t-4849897281384258292 -> -5746384653120859676\n\t-5746384653120859676 [label=\"metadsl_core.integer.Integer.__mul__\"]\n\t-5746384653120859676 -> 4158777528167400411\n\t-5746384653120859676 -> -1950048533630064032\n\t-1950048533630064032 [label=\"metadsl_core.abstraction.Abstraction.__call__\"]\n\t-1950048533630064032 -> 1354070632656428457\n\t-1950048533630064032 -> 2008428493598411060\n\t2008428493598411060 [label=\"metadsl_core.integer.Integer.__sub__\"]\n\t2008428493598411060 -> 4158777528167400411\n\t2008428493598411060 -> -3761648464570011732\n\t7318716202877042700 -> -3761648464570011732\n}",
         "label": "core",
         "rule": "metadsl_core.abstraction.Abstraction.from_fn"
        },
        {
         "graph": "digraph {\n\t8151390718155593077 [label=\"metadsl_core.abstraction.Abstraction.__call__\"]\n\t8151390718155593077 -> -5886206058259515635\n\t-5886206058259515635 [label=\"metadsl_core.abstraction.Abstraction.__call__\"]\n\t-5886206058259515635 -> 7803063892602039821\n\t7803063892602039821 [label=\"metadsl_core.abstraction.Abstraction.create\"]\n\t7803063892602039821 -> 1354070632656428457\n\t1354070632656428457 [label=\"metadsl_core.abstraction.Abstraction.create_variable\"]\n\t1354070632656428457 -> 6838651033424439372\n\t6838651033424439372 [label=\"Variable(4512043248)\"]\n\t7803063892602039821 -> 3024488261734525625\n\t3024488261734525625 [label=\"metadsl_core.abstraction.Abstraction.create\"]\n\t3024488261734525625 -> 4158777528167400411\n\t4158777528167400411 [label=\"metadsl_core.abstraction.Abstraction.create_variable\"]\n\t4158777528167400411 -> -2384721008206436736\n\t-2384721008206436736 [label=\"Variable(4512105528)\"]\n\t3024488261734525625 -> -4849897281384258292\n\t-4849897281384258292 [label=\"metadsl_core.boolean.Boolean.if_\"]\n\t-4849897281384258292 -> 2473484447986841411\n\t2473484447986841411 [label=\"metadsl_core.integer.Integer.eq\"]\n\t2473484447986841411 -> 4158777528167400411\n\t2473484447986841411 -> -3261146991999286491\n\t-3261146991999286491 [label=\"metadsl_core.integer.Integer.from_int\"]\n\t-3261146991999286491 -> 5020133584677772467\n\t5020133584677772467 [label=0]\n\t-4849897281384258292 -> -3761648464570011732\n\t-3761648464570011732 [label=\"metadsl_core.integer.Integer.from_int\"]\n\t-3761648464570011732 -> 5020133584678854992\n\t5020133584678854992 [label=1]\n\t-4849897281384258292 -> -5746384653120859676\n\t-5746384653120859676 [label=\"metadsl_core.integer.Integer.__mul__\"]\n\t-5746384653120859676 -> 4158777528167400411\n\t-5746384653120859676 -> -1950048533630064032\n\t-1950048533630064032 [label=\"metadsl_core.abstraction.Abstraction.__call__\"]\n\t-1950048533630064032 -> 1354070632656428457\n\t-1950048533630064032 -> 2008428493598411060\n\t2008428493598411060 [label=\"metadsl_core.integer.Integer.__sub__\"]\n\t2008428493598411060 -> 4158777528167400411\n\t2008428493598411060 -> -3761648464570011732\n\t-5886206058259515635 -> -4508451249784398283\n\t-4508451249784398283 [label=\"metadsl_core.abstraction.Abstraction.fix\"]\n\t-4508451249784398283 -> 7803063892602039821\n\t8151390718155593077 -> -3761648464570011732\n}",
         "label": null,
         "rule": "metadsl_core.abstraction.Abstraction.fix"
        },
        {
         "graph": "digraph {\n\t9173987847364421042 [label=\"metadsl_core.abstraction.Abstraction.__call__\"]\n\t9173987847364421042 -> -7203953041859342966\n\t-7203953041859342966 [label=\"metadsl_core.abstraction.Abstraction.create\"]\n\t-7203953041859342966 -> 4158777528167400411\n\t4158777528167400411 [label=\"metadsl_core.abstraction.Abstraction.create_variable\"]\n\t4158777528167400411 -> -2384721008206436736\n\t-2384721008206436736 [label=\"Variable(4512105528)\"]\n\t-7203953041859342966 -> 953738044573471598\n\t953738044573471598 [label=\"metadsl_core.boolean.Boolean.if_\"]\n\t953738044573471598 -> 2473484447986841411\n\t2473484447986841411 [label=\"metadsl_core.integer.Integer.eq\"]\n\t2473484447986841411 -> 4158777528167400411\n\t2473484447986841411 -> -3261146991999286491\n\t-3261146991999286491 [label=\"metadsl_core.integer.Integer.from_int\"]\n\t-3261146991999286491 -> 5020133584677772467\n\t5020133584677772467 [label=0]\n\t953738044573471598 -> -3761648464570011732\n\t-3761648464570011732 [label=\"metadsl_core.integer.Integer.from_int\"]\n\t-3761648464570011732 -> 5020133584678854992\n\t5020133584678854992 [label=1]\n\t953738044573471598 -> -1704077748843404096\n\t-1704077748843404096 [label=\"metadsl_core.integer.Integer.__mul__\"]\n\t-1704077748843404096 -> 4158777528167400411\n\t-1704077748843404096 -> 8704556334495102488\n\t8704556334495102488 [label=\"metadsl_core.abstraction.Abstraction.__call__\"]\n\t8704556334495102488 -> -4508451249784398283\n\t-4508451249784398283 [label=\"metadsl_core.abstraction.Abstraction.fix\"]\n\t-4508451249784398283 -> 7803063892602039821\n\t7803063892602039821 [label=\"metadsl_core.abstraction.Abstraction.create\"]\n\t7803063892602039821 -> 1354070632656428457\n\t1354070632656428457 [label=\"metadsl_core.abstraction.Abstraction.create_variable\"]\n\t1354070632656428457 -> 6838651033424439372\n\t6838651033424439372 [label=\"Variable(4512043248)\"]\n\t7803063892602039821 -> 3024488261734525625\n\t3024488261734525625 [label=\"metadsl_core.abstraction.Abstraction.create\"]\n\t3024488261734525625 -> 4158777528167400411\n\t3024488261734525625 -> -4849897281384258292\n\t-4849897281384258292 [label=\"metadsl_core.boolean.Boolean.if_\"]\n\t-4849897281384258292 -> 2473484447986841411\n\t-4849897281384258292 -> -3761648464570011732\n\t-4849897281384258292 -> -5746384653120859676\n\t-5746384653120859676 [label=\"metadsl_core.integer.Integer.__mul__\"]\n\t-5746384653120859676 -> 4158777528167400411\n\t-5746384653120859676 -> -1950048533630064032\n\t-1950048533630064032 [label=\"metadsl_core.abstraction.Abstraction.__call__\"]\n\t-1950048533630064032 -> 1354070632656428457\n\t-1950048533630064032 -> 2008428493598411060\n\t2008428493598411060 [label=\"metadsl_core.integer.Integer.__sub__\"]\n\t2008428493598411060 -> 4158777528167400411\n\t2008428493598411060 -> -3761648464570011732\n\t8704556334495102488 -> 2008428493598411060\n\t9173987847364421042 -> -3761648464570011732\n}",
         "label": null,
         "rule": "metadsl_core.abstraction.beta_reduce"
        },
        {
         "graph": "digraph {\n\t1839637132607561383 [label=\"metadsl_core.boolean.Boolean.if_\"]\n\t1839637132607561383 -> -1751257619993432315\n\t-1751257619993432315 [label=\"metadsl_core.integer.Integer.eq\"]\n\t-1751257619993432315 -> -3761648464570011732\n\t-3761648464570011732 [label=\"metadsl_core.integer.Integer.from_int\"]\n\t-3761648464570011732 -> 5020133584678854992\n\t5020133584678854992 [label=1]\n\t-1751257619993432315 -> -3261146991999286491\n\t-3261146991999286491 [label=\"metadsl_core.integer.Integer.from_int\"]\n\t-3261146991999286491 -> 5020133584677772467\n\t5020133584677772467 [label=0]\n\t1839637132607561383 -> -3761648464570011732\n\t1839637132607561383 -> -3895248371160163760\n\t-3895248371160163760 [label=\"metadsl_core.integer.Integer.__mul__\"]\n\t-3895248371160163760 -> -3761648464570011732\n\t-3895248371160163760 -> -1405697267343301909\n\t-1405697267343301909 [label=\"metadsl_core.abstraction.Abstraction.__call__\"]\n\t-1405697267343301909 -> -4508451249784398283\n\t-4508451249784398283 [label=\"metadsl_core.abstraction.Abstraction.fix\"]\n\t-4508451249784398283 -> 7803063892602039821\n\t7803063892602039821 [label=\"metadsl_core.abstraction.Abstraction.create\"]\n\t7803063892602039821 -> 1354070632656428457\n\t1354070632656428457 [label=\"metadsl_core.abstraction.Abstraction.create_variable\"]\n\t1354070632656428457 -> 6838651033424439372\n\t6838651033424439372 [label=\"Variable(4512043248)\"]\n\t7803063892602039821 -> 3024488261734525625\n\t3024488261734525625 [label=\"metadsl_core.abstraction.Abstraction.create\"]\n\t3024488261734525625 -> 4158777528167400411\n\t4158777528167400411 [label=\"metadsl_core.abstraction.Abstraction.create_variable\"]\n\t4158777528167400411 -> -2384721008206436736\n\t-2384721008206436736 [label=\"Variable(4512105528)\"]\n\t3024488261734525625 -> -4849897281384258292\n\t-4849897281384258292 [label=\"metadsl_core.boolean.Boolean.if_\"]\n\t-4849897281384258292 -> 2473484447986841411\n\t2473484447986841411 [label=\"metadsl_core.integer.Integer.eq\"]\n\t2473484447986841411 -> 4158777528167400411\n\t2473484447986841411 -> -3261146991999286491\n\t-4849897281384258292 -> -3761648464570011732\n\t-4849897281384258292 -> -5746384653120859676\n\t-5746384653120859676 [label=\"metadsl_core.integer.Integer.__mul__\"]\n\t-5746384653120859676 -> 4158777528167400411\n\t-5746384653120859676 -> -1950048533630064032\n\t-1950048533630064032 [label=\"metadsl_core.abstraction.Abstraction.__call__\"]\n\t-1950048533630064032 -> 1354070632656428457\n\t-1950048533630064032 -> 2008428493598411060\n\t2008428493598411060 [label=\"metadsl_core.integer.Integer.__sub__\"]\n\t2008428493598411060 -> 4158777528167400411\n\t2008428493598411060 -> -3761648464570011732\n\t-1405697267343301909 -> -1396514070026963675\n\t-1396514070026963675 [label=\"metadsl_core.integer.Integer.__sub__\"]\n\t-1396514070026963675 -> -3761648464570011732\n\t-1396514070026963675 -> -3761648464570011732\n}",
         "label": null,
         "rule": "metadsl_core.abstraction.beta_reduce"
        },
        {
         "graph": "digraph {\n\t1531232462748339388 [label=\"metadsl_core.boolean.Boolean.if_\"]\n\t1531232462748339388 -> -8881034144831541911\n\t-8881034144831541911 [label=\"metadsl_core.boolean.Boolean.create\"]\n\t-8881034144831541911 -> -1343543487855198425\n\t-1343543487855198425 [label=False]\n\t1531232462748339388 -> -3761648464570011732\n\t-3761648464570011732 [label=\"metadsl_core.integer.Integer.from_int\"]\n\t-3761648464570011732 -> 5020133584678854992\n\t5020133584678854992 [label=1]\n\t1531232462748339388 -> -3895248371160163760\n\t-3895248371160163760 [label=\"metadsl_core.integer.Integer.__mul__\"]\n\t-3895248371160163760 -> -3761648464570011732\n\t-3895248371160163760 -> -1405697267343301909\n\t-1405697267343301909 [label=\"metadsl_core.abstraction.Abstraction.__call__\"]\n\t-1405697267343301909 -> -4508451249784398283\n\t-4508451249784398283 [label=\"metadsl_core.abstraction.Abstraction.fix\"]\n\t-4508451249784398283 -> 7803063892602039821\n\t7803063892602039821 [label=\"metadsl_core.abstraction.Abstraction.create\"]\n\t7803063892602039821 -> 1354070632656428457\n\t1354070632656428457 [label=\"metadsl_core.abstraction.Abstraction.create_variable\"]\n\t1354070632656428457 -> 6838651033424439372\n\t6838651033424439372 [label=\"Variable(4512043248)\"]\n\t7803063892602039821 -> 3024488261734525625\n\t3024488261734525625 [label=\"metadsl_core.abstraction.Abstraction.create\"]\n\t3024488261734525625 -> 4158777528167400411\n\t4158777528167400411 [label=\"metadsl_core.abstraction.Abstraction.create_variable\"]\n\t4158777528167400411 -> -2384721008206436736\n\t-2384721008206436736 [label=\"Variable(4512105528)\"]\n\t3024488261734525625 -> -4849897281384258292\n\t-4849897281384258292 [label=\"metadsl_core.boolean.Boolean.if_\"]\n\t-4849897281384258292 -> 2473484447986841411\n\t2473484447986841411 [label=\"metadsl_core.integer.Integer.eq\"]\n\t2473484447986841411 -> 4158777528167400411\n\t2473484447986841411 -> -3261146991999286491\n\t-3261146991999286491 [label=\"metadsl_core.integer.Integer.from_int\"]\n\t-3261146991999286491 -> 5020133584677772467\n\t5020133584677772467 [label=0]\n\t-4849897281384258292 -> -3761648464570011732\n\t-4849897281384258292 -> -5746384653120859676\n\t-5746384653120859676 [label=\"metadsl_core.integer.Integer.__mul__\"]\n\t-5746384653120859676 -> 4158777528167400411\n\t-5746384653120859676 -> -1950048533630064032\n\t-1950048533630064032 [label=\"metadsl_core.abstraction.Abstraction.__call__\"]\n\t-1950048533630064032 -> 1354070632656428457\n\t-1950048533630064032 -> 2008428493598411060\n\t2008428493598411060 [label=\"metadsl_core.integer.Integer.__sub__\"]\n\t2008428493598411060 -> 4158777528167400411\n\t2008428493598411060 -> -3761648464570011732\n\t-1405697267343301909 -> -1396514070026963675\n\t-1396514070026963675 [label=\"metadsl_core.integer.Integer.__sub__\"]\n\t-1396514070026963675 -> -3761648464570011732\n\t-1396514070026963675 -> -3761648464570011732\n}",
         "label": null,
         "rule": "metadsl_core.integer.integer_eq"
        },
        {
         "graph": "digraph {\n\t-3895248371160163760 [label=\"metadsl_core.integer.Integer.__mul__\"]\n\t-3895248371160163760 -> -3761648464570011732\n\t-3761648464570011732 [label=\"metadsl_core.integer.Integer.from_int\"]\n\t-3761648464570011732 -> 5020133584678854992\n\t5020133584678854992 [label=1]\n\t-3895248371160163760 -> -1405697267343301909\n\t-1405697267343301909 [label=\"metadsl_core.abstraction.Abstraction.__call__\"]\n\t-1405697267343301909 -> -4508451249784398283\n\t-4508451249784398283 [label=\"metadsl_core.abstraction.Abstraction.fix\"]\n\t-4508451249784398283 -> 7803063892602039821\n\t7803063892602039821 [label=\"metadsl_core.abstraction.Abstraction.create\"]\n\t7803063892602039821 -> 1354070632656428457\n\t1354070632656428457 [label=\"metadsl_core.abstraction.Abstraction.create_variable\"]\n\t1354070632656428457 -> 6838651033424439372\n\t6838651033424439372 [label=\"Variable(4512043248)\"]\n\t7803063892602039821 -> 3024488261734525625\n\t3024488261734525625 [label=\"metadsl_core.abstraction.Abstraction.create\"]\n\t3024488261734525625 -> 4158777528167400411\n\t4158777528167400411 [label=\"metadsl_core.abstraction.Abstraction.create_variable\"]\n\t4158777528167400411 -> -2384721008206436736\n\t-2384721008206436736 [label=\"Variable(4512105528)\"]\n\t3024488261734525625 -> -4849897281384258292\n\t-4849897281384258292 [label=\"metadsl_core.boolean.Boolean.if_\"]\n\t-4849897281384258292 -> 2473484447986841411\n\t2473484447986841411 [label=\"metadsl_core.integer.Integer.eq\"]\n\t2473484447986841411 -> 4158777528167400411\n\t2473484447986841411 -> -3261146991999286491\n\t-3261146991999286491 [label=\"metadsl_core.integer.Integer.from_int\"]\n\t-3261146991999286491 -> 5020133584677772467\n\t5020133584677772467 [label=0]\n\t-4849897281384258292 -> -3761648464570011732\n\t-4849897281384258292 -> -5746384653120859676\n\t-5746384653120859676 [label=\"metadsl_core.integer.Integer.__mul__\"]\n\t-5746384653120859676 -> 4158777528167400411\n\t-5746384653120859676 -> -1950048533630064032\n\t-1950048533630064032 [label=\"metadsl_core.abstraction.Abstraction.__call__\"]\n\t-1950048533630064032 -> 1354070632656428457\n\t-1950048533630064032 -> 2008428493598411060\n\t2008428493598411060 [label=\"metadsl_core.integer.Integer.__sub__\"]\n\t2008428493598411060 -> 4158777528167400411\n\t2008428493598411060 -> -3761648464570011732\n\t-1405697267343301909 -> -1396514070026963675\n\t-1396514070026963675 [label=\"metadsl_core.integer.Integer.__sub__\"]\n\t-1396514070026963675 -> -3761648464570011732\n\t-1396514070026963675 -> -3761648464570011732\n}",
         "label": null,
         "rule": "metadsl_core.boolean.if_"
        },
        {
         "graph": "digraph {\n\t-7548025437985034325 [label=\"metadsl_core.integer.Integer.__mul__\"]\n\t-7548025437985034325 -> -3761648464570011732\n\t-3761648464570011732 [label=\"metadsl_core.integer.Integer.from_int\"]\n\t-3761648464570011732 -> 5020133584678854992\n\t5020133584678854992 [label=1]\n\t-7548025437985034325 -> 3435866953563193479\n\t3435866953563193479 [label=\"metadsl_core.abstraction.Abstraction.__call__\"]\n\t3435866953563193479 -> -4508451249784398283\n\t-4508451249784398283 [label=\"metadsl_core.abstraction.Abstraction.fix\"]\n\t-4508451249784398283 -> 7803063892602039821\n\t7803063892602039821 [label=\"metadsl_core.abstraction.Abstraction.create\"]\n\t7803063892602039821 -> 1354070632656428457\n\t1354070632656428457 [label=\"metadsl_core.abstraction.Abstraction.create_variable\"]\n\t1354070632656428457 -> 6838651033424439372\n\t6838651033424439372 [label=\"Variable(4512043248)\"]\n\t7803063892602039821 -> 3024488261734525625\n\t3024488261734525625 [label=\"metadsl_core.abstraction.Abstraction.create\"]\n\t3024488261734525625 -> 4158777528167400411\n\t4158777528167400411 [label=\"metadsl_core.abstraction.Abstraction.create_variable\"]\n\t4158777528167400411 -> -2384721008206436736\n\t-2384721008206436736 [label=\"Variable(4512105528)\"]\n\t3024488261734525625 -> -4849897281384258292\n\t-4849897281384258292 [label=\"metadsl_core.boolean.Boolean.if_\"]\n\t-4849897281384258292 -> 2473484447986841411\n\t2473484447986841411 [label=\"metadsl_core.integer.Integer.eq\"]\n\t2473484447986841411 -> 4158777528167400411\n\t2473484447986841411 -> -3261146991999286491\n\t-3261146991999286491 [label=\"metadsl_core.integer.Integer.from_int\"]\n\t-3261146991999286491 -> 5020133584677772467\n\t5020133584677772467 [label=0]\n\t-4849897281384258292 -> -3761648464570011732\n\t-4849897281384258292 -> -5746384653120859676\n\t-5746384653120859676 [label=\"metadsl_core.integer.Integer.__mul__\"]\n\t-5746384653120859676 -> 4158777528167400411\n\t-5746384653120859676 -> -1950048533630064032\n\t-1950048533630064032 [label=\"metadsl_core.abstraction.Abstraction.__call__\"]\n\t-1950048533630064032 -> 1354070632656428457\n\t-1950048533630064032 -> 2008428493598411060\n\t2008428493598411060 [label=\"metadsl_core.integer.Integer.__sub__\"]\n\t2008428493598411060 -> 4158777528167400411\n\t2008428493598411060 -> -3761648464570011732\n\t3435866953563193479 -> -3261146991999286491\n}",
         "label": null,
         "rule": "metadsl_core.integer.integer_math"
        },
        {
         "graph": "digraph {\n\t7288429155726012528 [label=\"metadsl_core.integer.Integer.__mul__\"]\n\t7288429155726012528 -> -3761648464570011732\n\t-3761648464570011732 [label=\"metadsl_core.integer.Integer.from_int\"]\n\t-3761648464570011732 -> 5020133584678854992\n\t5020133584678854992 [label=1]\n\t7288429155726012528 -> -8556989359126325423\n\t-8556989359126325423 [label=\"metadsl_core.abstraction.Abstraction.__call__\"]\n\t-8556989359126325423 -> 3631736268742763938\n\t3631736268742763938 [label=\"metadsl_core.abstraction.Abstraction.__call__\"]\n\t3631736268742763938 -> 7803063892602039821\n\t7803063892602039821 [label=\"metadsl_core.abstraction.Abstraction.create\"]\n\t7803063892602039821 -> 1354070632656428457\n\t1354070632656428457 [label=\"metadsl_core.abstraction.Abstraction.create_variable\"]\n\t1354070632656428457 -> 6838651033424439372\n\t6838651033424439372 [label=\"Variable(4512043248)\"]\n\t7803063892602039821 -> 3024488261734525625\n\t3024488261734525625 [label=\"metadsl_core.abstraction.Abstraction.create\"]\n\t3024488261734525625 -> 4158777528167400411\n\t4158777528167400411 [label=\"metadsl_core.abstraction.Abstraction.create_variable\"]\n\t4158777528167400411 -> -2384721008206436736\n\t-2384721008206436736 [label=\"Variable(4512105528)\"]\n\t3024488261734525625 -> -4849897281384258292\n\t-4849897281384258292 [label=\"metadsl_core.boolean.Boolean.if_\"]\n\t-4849897281384258292 -> 2473484447986841411\n\t2473484447986841411 [label=\"metadsl_core.integer.Integer.eq\"]\n\t2473484447986841411 -> 4158777528167400411\n\t2473484447986841411 -> -3261146991999286491\n\t-3261146991999286491 [label=\"metadsl_core.integer.Integer.from_int\"]\n\t-3261146991999286491 -> 5020133584677772467\n\t5020133584677772467 [label=0]\n\t-4849897281384258292 -> -3761648464570011732\n\t-4849897281384258292 -> -5746384653120859676\n\t-5746384653120859676 [label=\"metadsl_core.integer.Integer.__mul__\"]\n\t-5746384653120859676 -> 4158777528167400411\n\t-5746384653120859676 -> -1950048533630064032\n\t-1950048533630064032 [label=\"metadsl_core.abstraction.Abstraction.__call__\"]\n\t-1950048533630064032 -> 1354070632656428457\n\t-1950048533630064032 -> 2008428493598411060\n\t2008428493598411060 [label=\"metadsl_core.integer.Integer.__sub__\"]\n\t2008428493598411060 -> 4158777528167400411\n\t2008428493598411060 -> -3761648464570011732\n\t3631736268742763938 -> -4508451249784398283\n\t-4508451249784398283 [label=\"metadsl_core.abstraction.Abstraction.fix\"]\n\t-4508451249784398283 -> 7803063892602039821\n\t-8556989359126325423 -> -3261146991999286491\n}",
         "label": null,
         "rule": "metadsl_core.abstraction.Abstraction.fix"
        },
        {
         "graph": "digraph {\n\t-5253463565420367128 [label=\"metadsl_core.integer.Integer.__mul__\"]\n\t-5253463565420367128 -> -3761648464570011732\n\t-3761648464570011732 [label=\"metadsl_core.integer.Integer.from_int\"]\n\t-3761648464570011732 -> 5020133584678854992\n\t5020133584678854992 [label=1]\n\t-5253463565420367128 -> 404128494258799245\n\t404128494258799245 [label=\"metadsl_core.abstraction.Abstraction.__call__\"]\n\t404128494258799245 -> -7203953041859342966\n\t-7203953041859342966 [label=\"metadsl_core.abstraction.Abstraction.create\"]\n\t-7203953041859342966 -> 4158777528167400411\n\t4158777528167400411 [label=\"metadsl_core.abstraction.Abstraction.create_variable\"]\n\t4158777528167400411 -> -2384721008206436736\n\t-2384721008206436736 [label=\"Variable(4512105528)\"]\n\t-7203953041859342966 -> 953738044573471598\n\t953738044573471598 [label=\"metadsl_core.boolean.Boolean.if_\"]\n\t953738044573471598 -> 2473484447986841411\n\t2473484447986841411 [label=\"metadsl_core.integer.Integer.eq\"]\n\t2473484447986841411 -> 4158777528167400411\n\t2473484447986841411 -> -3261146991999286491\n\t-3261146991999286491 [label=\"metadsl_core.integer.Integer.from_int\"]\n\t-3261146991999286491 -> 5020133584677772467\n\t5020133584677772467 [label=0]\n\t953738044573471598 -> -3761648464570011732\n\t953738044573471598 -> -1704077748843404096\n\t-1704077748843404096 [label=\"metadsl_core.integer.Integer.__mul__\"]\n\t-1704077748843404096 -> 4158777528167400411\n\t-1704077748843404096 -> 8704556334495102488\n\t8704556334495102488 [label=\"metadsl_core.abstraction.Abstraction.__call__\"]\n\t8704556334495102488 -> -4508451249784398283\n\t-4508451249784398283 [label=\"metadsl_core.abstraction.Abstraction.fix\"]\n\t-4508451249784398283 -> 7803063892602039821\n\t7803063892602039821 [label=\"metadsl_core.abstraction.Abstraction.create\"]\n\t7803063892602039821 -> 1354070632656428457\n\t1354070632656428457 [label=\"metadsl_core.abstraction.Abstraction.create_variable\"]\n\t1354070632656428457 -> 6838651033424439372\n\t6838651033424439372 [label=\"Variable(4512043248)\"]\n\t7803063892602039821 -> 3024488261734525625\n\t3024488261734525625 [label=\"metadsl_core.abstraction.Abstraction.create\"]\n\t3024488261734525625 -> 4158777528167400411\n\t3024488261734525625 -> -4849897281384258292\n\t-4849897281384258292 [label=\"metadsl_core.boolean.Boolean.if_\"]\n\t-4849897281384258292 -> 2473484447986841411\n\t-4849897281384258292 -> -3761648464570011732\n\t-4849897281384258292 -> -5746384653120859676\n\t-5746384653120859676 [label=\"metadsl_core.integer.Integer.__mul__\"]\n\t-5746384653120859676 -> 4158777528167400411\n\t-5746384653120859676 -> -1950048533630064032\n\t-1950048533630064032 [label=\"metadsl_core.abstraction.Abstraction.__call__\"]\n\t-1950048533630064032 -> 1354070632656428457\n\t-1950048533630064032 -> 2008428493598411060\n\t2008428493598411060 [label=\"metadsl_core.integer.Integer.__sub__\"]\n\t2008428493598411060 -> 4158777528167400411\n\t2008428493598411060 -> -3761648464570011732\n\t8704556334495102488 -> 2008428493598411060\n\t404128494258799245 -> -3261146991999286491\n}",
         "label": null,
         "rule": "metadsl_core.abstraction.beta_reduce"
        },
        {
         "graph": "digraph {\n\t4771759451938551188 [label=\"metadsl_core.integer.Integer.__mul__\"]\n\t4771759451938551188 -> -3761648464570011732\n\t-3761648464570011732 [label=\"metadsl_core.integer.Integer.from_int\"]\n\t-3761648464570011732 -> 5020133584678854992\n\t5020133584678854992 [label=1]\n\t4771759451938551188 -> 1992175813153114549\n\t1992175813153114549 [label=\"metadsl_core.boolean.Boolean.if_\"]\n\t1992175813153114549 -> 8744182282586139310\n\t8744182282586139310 [label=\"metadsl_core.integer.Integer.eq\"]\n\t8744182282586139310 -> -3261146991999286491\n\t-3261146991999286491 [label=\"metadsl_core.integer.Integer.from_int\"]\n\t-3261146991999286491 -> 5020133584677772467\n\t5020133584677772467 [label=0]\n\t8744182282586139310 -> -3261146991999286491\n\t1992175813153114549 -> -3761648464570011732\n\t1992175813153114549 -> 2680543962417423560\n\t2680543962417423560 [label=\"metadsl_core.integer.Integer.__mul__\"]\n\t2680543962417423560 -> -3261146991999286491\n\t2680543962417423560 -> 5297832788064095294\n\t5297832788064095294 [label=\"metadsl_core.abstraction.Abstraction.__call__\"]\n\t5297832788064095294 -> -4508451249784398283\n\t-4508451249784398283 [label=\"metadsl_core.abstraction.Abstraction.fix\"]\n\t-4508451249784398283 -> 7803063892602039821\n\t7803063892602039821 [label=\"metadsl_core.abstraction.Abstraction.create\"]\n\t7803063892602039821 -> 1354070632656428457\n\t1354070632656428457 [label=\"metadsl_core.abstraction.Abstraction.create_variable\"]\n\t1354070632656428457 -> 6838651033424439372\n\t6838651033424439372 [label=\"Variable(4512043248)\"]\n\t7803063892602039821 -> 3024488261734525625\n\t3024488261734525625 [label=\"metadsl_core.abstraction.Abstraction.create\"]\n\t3024488261734525625 -> 4158777528167400411\n\t4158777528167400411 [label=\"metadsl_core.abstraction.Abstraction.create_variable\"]\n\t4158777528167400411 -> -2384721008206436736\n\t-2384721008206436736 [label=\"Variable(4512105528)\"]\n\t3024488261734525625 -> -4849897281384258292\n\t-4849897281384258292 [label=\"metadsl_core.boolean.Boolean.if_\"]\n\t-4849897281384258292 -> 2473484447986841411\n\t2473484447986841411 [label=\"metadsl_core.integer.Integer.eq\"]\n\t2473484447986841411 -> 4158777528167400411\n\t2473484447986841411 -> -3261146991999286491\n\t-4849897281384258292 -> -3761648464570011732\n\t-4849897281384258292 -> -5746384653120859676\n\t-5746384653120859676 [label=\"metadsl_core.integer.Integer.__mul__\"]\n\t-5746384653120859676 -> 4158777528167400411\n\t-5746384653120859676 -> -1950048533630064032\n\t-1950048533630064032 [label=\"metadsl_core.abstraction.Abstraction.__call__\"]\n\t-1950048533630064032 -> 1354070632656428457\n\t-1950048533630064032 -> 2008428493598411060\n\t2008428493598411060 [label=\"metadsl_core.integer.Integer.__sub__\"]\n\t2008428493598411060 -> 4158777528167400411\n\t2008428493598411060 -> -3761648464570011732\n\t5297832788064095294 -> -930789844318381307\n\t-930789844318381307 [label=\"metadsl_core.integer.Integer.__sub__\"]\n\t-930789844318381307 -> -3261146991999286491\n\t-930789844318381307 -> -3761648464570011732\n}",
         "label": null,
         "rule": "metadsl_core.abstraction.beta_reduce"
        },
        {
         "graph": "digraph {\n\t8089090549485829643 [label=\"metadsl_core.integer.Integer.__mul__\"]\n\t8089090549485829643 -> -3761648464570011732\n\t-3761648464570011732 [label=\"metadsl_core.integer.Integer.from_int\"]\n\t-3761648464570011732 -> 5020133584678854992\n\t5020133584678854992 [label=1]\n\t8089090549485829643 -> -6244791731591336776\n\t-6244791731591336776 [label=\"metadsl_core.boolean.Boolean.if_\"]\n\t-6244791731591336776 -> -8603486734980525913\n\t-8603486734980525913 [label=\"metadsl_core.boolean.Boolean.create\"]\n\t-8603486734980525913 -> -1343543487854115900\n\t-1343543487854115900 [label=True]\n\t-6244791731591336776 -> -3761648464570011732\n\t-6244791731591336776 -> 2680543962417423560\n\t2680543962417423560 [label=\"metadsl_core.integer.Integer.__mul__\"]\n\t2680543962417423560 -> -3261146991999286491\n\t-3261146991999286491 [label=\"metadsl_core.integer.Integer.from_int\"]\n\t-3261146991999286491 -> 5020133584677772467\n\t5020133584677772467 [label=0]\n\t2680543962417423560 -> 5297832788064095294\n\t5297832788064095294 [label=\"metadsl_core.abstraction.Abstraction.__call__\"]\n\t5297832788064095294 -> -4508451249784398283\n\t-4508451249784398283 [label=\"metadsl_core.abstraction.Abstraction.fix\"]\n\t-4508451249784398283 -> 7803063892602039821\n\t7803063892602039821 [label=\"metadsl_core.abstraction.Abstraction.create\"]\n\t7803063892602039821 -> 1354070632656428457\n\t1354070632656428457 [label=\"metadsl_core.abstraction.Abstraction.create_variable\"]\n\t1354070632656428457 -> 6838651033424439372\n\t6838651033424439372 [label=\"Variable(4512043248)\"]\n\t7803063892602039821 -> 3024488261734525625\n\t3024488261734525625 [label=\"metadsl_core.abstraction.Abstraction.create\"]\n\t3024488261734525625 -> 4158777528167400411\n\t4158777528167400411 [label=\"metadsl_core.abstraction.Abstraction.create_variable\"]\n\t4158777528167400411 -> -2384721008206436736\n\t-2384721008206436736 [label=\"Variable(4512105528)\"]\n\t3024488261734525625 -> -4849897281384258292\n\t-4849897281384258292 [label=\"metadsl_core.boolean.Boolean.if_\"]\n\t-4849897281384258292 -> 2473484447986841411\n\t2473484447986841411 [label=\"metadsl_core.integer.Integer.eq\"]\n\t2473484447986841411 -> 4158777528167400411\n\t2473484447986841411 -> -3261146991999286491\n\t-4849897281384258292 -> -3761648464570011732\n\t-4849897281384258292 -> -5746384653120859676\n\t-5746384653120859676 [label=\"metadsl_core.integer.Integer.__mul__\"]\n\t-5746384653120859676 -> 4158777528167400411\n\t-5746384653120859676 -> -1950048533630064032\n\t-1950048533630064032 [label=\"metadsl_core.abstraction.Abstraction.__call__\"]\n\t-1950048533630064032 -> 1354070632656428457\n\t-1950048533630064032 -> 2008428493598411060\n\t2008428493598411060 [label=\"metadsl_core.integer.Integer.__sub__\"]\n\t2008428493598411060 -> 4158777528167400411\n\t2008428493598411060 -> -3761648464570011732\n\t5297832788064095294 -> -930789844318381307\n\t-930789844318381307 [label=\"metadsl_core.integer.Integer.__sub__\"]\n\t-930789844318381307 -> -3261146991999286491\n\t-930789844318381307 -> -3761648464570011732\n}",
         "label": null,
         "rule": "metadsl_core.integer.integer_eq"
        },
        {
         "graph": "digraph {\n\t5504918128939009495 [label=\"metadsl_core.integer.Integer.__mul__\"]\n\t5504918128939009495 -> -3761648464570011732\n\t-3761648464570011732 [label=\"metadsl_core.integer.Integer.from_int\"]\n\t-3761648464570011732 -> 5020133584678854992\n\t5020133584678854992 [label=1]\n\t5504918128939009495 -> -3761648464570011732\n}",
         "label": null,
         "rule": "metadsl_core.boolean.if_"
        },
        {
         "graph": "digraph {\n\t-3761648464570011732 [label=\"metadsl_core.integer.Integer.from_int\"]\n\t-3761648464570011732 -> 5020133584678854992\n\t5020133584678854992 [label=1]\n}",
         "label": "execute",
         "rule": "metadsl_core.integer.integer_math"
        }
       ]
      },
      "text/plain": [
       "Typez(definitions=None, nodes={'-8098774356153391513': PrimitiveNode(type='function', repr='<function factorial at 0x10c4a10d0>'), '-6000412868027038455': CallNode(function='metadsl_core.abstraction.Abstraction.from_fn', type_params=None, args=['-8098774356153391513'], kwargs=None), '25351356777524522': CallNode(function='metadsl_core.abstraction.Abstraction.fix', type_params=None, args=['-6000412868027038455'], kwargs=None), '5020133584678854992': PrimitiveNode(type='int', repr='1'), '-3761648464570011732': CallNode(function='metadsl_core.integer.Integer.from_int', type_params=None, args=['5020133584678854992'], kwargs=None), '-8981551478569819942': CallNode(function='metadsl_core.abstraction.Abstraction.__call__', type_params={'U': DeclaredTypeInstance(type='metadsl_core.integer.Integer', params=None), 'T': DeclaredTypeInstance(type='metadsl_core.integer.Integer', params=None)}, args=['25351356777524522', '-3761648464570011732'], kwargs=None), '6838651033424439372': PrimitiveNode(type='metadsl_core.abstraction.Variable', repr='Variable(4512043248)'), '1354070632656428457': CallNode(function='metadsl_core.abstraction.Abstraction.create_variable', type_params={'U': DeclaredTypeInstance(type='metadsl_core.abstraction.Abstraction', params={'U': DeclaredTypeInstance(type='metadsl_core.integer.Integer', params=None), 'T': DeclaredTypeInstance(type='metadsl_core.integer.Integer', params=None)}), 'T': DeclaredTypeInstance(type='metadsl_core.abstraction.Abstraction', params={'U': DeclaredTypeInstance(type='metadsl_core.integer.Integer', params=None), 'T': DeclaredTypeInstance(type='metadsl_core.integer.Integer', params=None)})}, args=['6838651033424439372'], kwargs=None), '-8098774035809345938': PrimitiveNode(type='function', repr='<function factorial.<locals>.inner at 0x10cf2d1e0>'), '6270441202812895251': CallNode(function='metadsl_core.abstraction.Abstraction.from_fn', type_params=None, args=['-8098774035809345938'], kwargs=None), '8384646984641738169': CallNode(function='metadsl_core.abstraction.Abstraction.create', type_params={'U': DeclaredTypeInstance(type='metadsl_core.abstraction.Abstraction', params={'U': DeclaredTypeInstance(type='metadsl_core.integer.Integer', params=None), 'T': DeclaredTypeInstance(type='metadsl_core.integer.Integer', params=None)}), 'T': DeclaredTypeInstance(type='metadsl_core.abstraction.Abstraction', params={'U': DeclaredTypeInstance(type='metadsl_core.integer.Integer', params=None), 'T': DeclaredTypeInstance(type='metadsl_core.integer.Integer', params=None)})}, args=['1354070632656428457', '6270441202812895251'], kwargs=None), '-2004152084645917595': CallNode(function='metadsl_core.abstraction.Abstraction.fix', type_params=None, args=['8384646984641738169'], kwargs=None), '-5822282639476438693': CallNode(function='metadsl_core.abstraction.Abstraction.__call__', type_params={'U': DeclaredTypeInstance(type='metadsl_core.integer.Integer', params=None), 'T': DeclaredTypeInstance(type='metadsl_core.integer.Integer', params=None)}, args=['-2004152084645917595', '-3761648464570011732'], kwargs=None), '-2384721008206436736': PrimitiveNode(type='metadsl_core.abstraction.Variable', repr='Variable(4512105528)'), '4158777528167400411': CallNode(function='metadsl_core.abstraction.Abstraction.create_variable', type_params={'U': DeclaredTypeInstance(type='metadsl_core.integer.Integer', params=None), 'T': DeclaredTypeInstance(type='metadsl_core.integer.Integer', params=None)}, args=['-2384721008206436736'], kwargs=None), '5020133584677772467': PrimitiveNode(type='int', repr='0'), '-3261146991999286491': CallNode(function='metadsl_core.integer.Integer.from_int', type_params=None, args=['5020133584677772467'], kwargs=None), '2473484447986841411': CallNode(function='metadsl_core.integer.Integer.eq', type_params=None, args=['4158777528167400411', '-3261146991999286491'], kwargs=None), '2008428493598411060': CallNode(function='metadsl_core.integer.Integer.__sub__', type_params=None, args=['4158777528167400411', '-3761648464570011732'], kwargs=None), '-1950048533630064032': CallNode(function='metadsl_core.abstraction.Abstraction.__call__', type_params={'U': DeclaredTypeInstance(type='metadsl_core.integer.Integer', params=None), 'T': DeclaredTypeInstance(type='metadsl_core.integer.Integer', params=None)}, args=['1354070632656428457', '2008428493598411060'], kwargs=None), '-5746384653120859676': CallNode(function='metadsl_core.integer.Integer.__mul__', type_params=None, args=['4158777528167400411', '-1950048533630064032'], kwargs=None), '-4849897281384258292': CallNode(function='metadsl_core.boolean.Boolean.if_', type_params=None, args=['2473484447986841411', '-3761648464570011732', '-5746384653120859676'], kwargs=None), '3024488261734525625': CallNode(function='metadsl_core.abstraction.Abstraction.create', type_params={'U': DeclaredTypeInstance(type='metadsl_core.integer.Integer', params=None), 'T': DeclaredTypeInstance(type='metadsl_core.integer.Integer', params=None)}, args=['4158777528167400411', '-4849897281384258292'], kwargs=None), '7803063892602039821': CallNode(function='metadsl_core.abstraction.Abstraction.create', type_params={'U': DeclaredTypeInstance(type='metadsl_core.abstraction.Abstraction', params={'U': DeclaredTypeInstance(type='metadsl_core.integer.Integer', params=None), 'T': DeclaredTypeInstance(type='metadsl_core.integer.Integer', params=None)}), 'T': DeclaredTypeInstance(type='metadsl_core.abstraction.Abstraction', params={'U': DeclaredTypeInstance(type='metadsl_core.integer.Integer', params=None), 'T': DeclaredTypeInstance(type='metadsl_core.integer.Integer', params=None)})}, args=['1354070632656428457', '3024488261734525625'], kwargs=None), '-4508451249784398283': CallNode(function='metadsl_core.abstraction.Abstraction.fix', type_params=None, args=['7803063892602039821'], kwargs=None), '7318716202877042700': CallNode(function='metadsl_core.abstraction.Abstraction.__call__', type_params={'U': DeclaredTypeInstance(type='metadsl_core.integer.Integer', params=None), 'T': DeclaredTypeInstance(type='metadsl_core.integer.Integer', params=None)}, args=['-4508451249784398283', '-3761648464570011732'], kwargs=None), '-5886206058259515635': CallNode(function='metadsl_core.abstraction.Abstraction.__call__', type_params=None, args=['7803063892602039821', '-4508451249784398283'], kwargs=None), '8151390718155593077': CallNode(function='metadsl_core.abstraction.Abstraction.__call__', type_params={'U': DeclaredTypeInstance(type='metadsl_core.integer.Integer', params=None), 'T': DeclaredTypeInstance(type='metadsl_core.integer.Integer', params=None)}, args=['-5886206058259515635', '-3761648464570011732'], kwargs=None), '8704556334495102488': CallNode(function='metadsl_core.abstraction.Abstraction.__call__', type_params={'U': DeclaredTypeInstance(type='metadsl_core.integer.Integer', params=None), 'T': DeclaredTypeInstance(type='metadsl_core.integer.Integer', params=None)}, args=['-4508451249784398283', '2008428493598411060'], kwargs=None), '-1704077748843404096': CallNode(function='metadsl_core.integer.Integer.__mul__', type_params=None, args=['4158777528167400411', '8704556334495102488'], kwargs=None), '953738044573471598': CallNode(function='metadsl_core.boolean.Boolean.if_', type_params=None, args=['2473484447986841411', '-3761648464570011732', '-1704077748843404096'], kwargs=None), '-7203953041859342966': CallNode(function='metadsl_core.abstraction.Abstraction.create', type_params={'U': DeclaredTypeInstance(type='metadsl_core.integer.Integer', params=None), 'T': DeclaredTypeInstance(type='metadsl_core.integer.Integer', params=None)}, args=['4158777528167400411', '953738044573471598'], kwargs=None), '9173987847364421042': CallNode(function='metadsl_core.abstraction.Abstraction.__call__', type_params={'U': DeclaredTypeInstance(type='metadsl_core.integer.Integer', params=None), 'T': DeclaredTypeInstance(type='metadsl_core.integer.Integer', params=None)}, args=['-7203953041859342966', '-3761648464570011732'], kwargs=None), '-1751257619993432315': CallNode(function='metadsl_core.integer.Integer.eq', type_params=None, args=['-3761648464570011732', '-3261146991999286491'], kwargs=None), '-1396514070026963675': CallNode(function='metadsl_core.integer.Integer.__sub__', type_params=None, args=['-3761648464570011732', '-3761648464570011732'], kwargs=None), '-1405697267343301909': CallNode(function='metadsl_core.abstraction.Abstraction.__call__', type_params={'U': DeclaredTypeInstance(type='metadsl_core.integer.Integer', params=None), 'T': DeclaredTypeInstance(type='metadsl_core.integer.Integer', params=None)}, args=['-4508451249784398283', '-1396514070026963675'], kwargs=None), '-3895248371160163760': CallNode(function='metadsl_core.integer.Integer.__mul__', type_params=None, args=['-3761648464570011732', '-1405697267343301909'], kwargs=None), '1839637132607561383': CallNode(function='metadsl_core.boolean.Boolean.if_', type_params=None, args=['-1751257619993432315', '-3761648464570011732', '-3895248371160163760'], kwargs=None), '-1343543487855198425': PrimitiveNode(type='bool', repr='False'), '-8881034144831541911': CallNode(function='metadsl_core.boolean.Boolean.create', type_params=None, args=['-1343543487855198425'], kwargs=None), '1531232462748339388': CallNode(function='metadsl_core.boolean.Boolean.if_', type_params=None, args=['-8881034144831541911', '-3761648464570011732', '-3895248371160163760'], kwargs=None), '3435866953563193479': CallNode(function='metadsl_core.abstraction.Abstraction.__call__', type_params={'U': DeclaredTypeInstance(type='metadsl_core.integer.Integer', params=None), 'T': DeclaredTypeInstance(type='metadsl_core.integer.Integer', params=None)}, args=['-4508451249784398283', '-3261146991999286491'], kwargs=None), '-7548025437985034325': CallNode(function='metadsl_core.integer.Integer.__mul__', type_params=None, args=['-3761648464570011732', '3435866953563193479'], kwargs=None), '3631736268742763938': CallNode(function='metadsl_core.abstraction.Abstraction.__call__', type_params={'U': DeclaredTypeInstance(type='metadsl_core.abstraction.Abstraction', params={'U': DeclaredTypeInstance(type='metadsl_core.integer.Integer', params=None), 'T': DeclaredTypeInstance(type='metadsl_core.integer.Integer', params=None)}), 'T': DeclaredTypeInstance(type='metadsl_core.abstraction.Abstraction', params={'U': DeclaredTypeInstance(type='metadsl_core.integer.Integer', params=None), 'T': DeclaredTypeInstance(type='metadsl_core.integer.Integer', params=None)})}, args=['7803063892602039821', '-4508451249784398283'], kwargs=None), '-8556989359126325423': CallNode(function='metadsl_core.abstraction.Abstraction.__call__', type_params={'U': DeclaredTypeInstance(type='metadsl_core.integer.Integer', params=None), 'T': DeclaredTypeInstance(type='metadsl_core.integer.Integer', params=None)}, args=['3631736268742763938', '-3261146991999286491'], kwargs=None), '7288429155726012528': CallNode(function='metadsl_core.integer.Integer.__mul__', type_params=None, args=['-3761648464570011732', '-8556989359126325423'], kwargs=None), '404128494258799245': CallNode(function='metadsl_core.abstraction.Abstraction.__call__', type_params={'U': DeclaredTypeInstance(type='metadsl_core.integer.Integer', params=None), 'T': DeclaredTypeInstance(type='metadsl_core.integer.Integer', params=None)}, args=['-7203953041859342966', '-3261146991999286491'], kwargs=None), '-5253463565420367128': CallNode(function='metadsl_core.integer.Integer.__mul__', type_params=None, args=['-3761648464570011732', '404128494258799245'], kwargs=None), '8744182282586139310': CallNode(function='metadsl_core.integer.Integer.eq', type_params=None, args=['-3261146991999286491', '-3261146991999286491'], kwargs=None), '-930789844318381307': CallNode(function='metadsl_core.integer.Integer.__sub__', type_params=None, args=['-3261146991999286491', '-3761648464570011732'], kwargs=None), '5297832788064095294': CallNode(function='metadsl_core.abstraction.Abstraction.__call__', type_params={'U': DeclaredTypeInstance(type='metadsl_core.integer.Integer', params=None), 'T': DeclaredTypeInstance(type='metadsl_core.integer.Integer', params=None)}, args=['-4508451249784398283', '-930789844318381307'], kwargs=None), '2680543962417423560': CallNode(function='metadsl_core.integer.Integer.__mul__', type_params=None, args=['-3261146991999286491', '5297832788064095294'], kwargs=None), '1992175813153114549': CallNode(function='metadsl_core.boolean.Boolean.if_', type_params=None, args=['8744182282586139310', '-3761648464570011732', '2680543962417423560'], kwargs=None), '4771759451938551188': CallNode(function='metadsl_core.integer.Integer.__mul__', type_params=None, args=['-3761648464570011732', '1992175813153114549'], kwargs=None), '-1343543487854115900': PrimitiveNode(type='bool', repr='True'), '-8603486734980525913': CallNode(function='metadsl_core.boolean.Boolean.create', type_params=None, args=['-1343543487854115900'], kwargs=None), '-6244791731591336776': CallNode(function='metadsl_core.boolean.Boolean.if_', type_params=None, args=['-8603486734980525913', '-3761648464570011732', '2680543962417423560'], kwargs=None), '8089090549485829643': CallNode(function='metadsl_core.integer.Integer.__mul__', type_params=None, args=['-3761648464570011732', '-6244791731591336776'], kwargs=None), '5504918128939009495': CallNode(function='metadsl_core.integer.Integer.__mul__', type_params=None, args=['-3761648464570011732', '-3761648464570011732'], kwargs=None)}, states=States(initial='-8981551478569819942', states=[State(node='-5822282639476438693', rule='metadsl_core.abstraction.Abstraction.from_fn', label=None), State(node='7318716202877042700', rule='metadsl_core.abstraction.Abstraction.from_fn', label='core'), State(node='8151390718155593077', rule='metadsl_core.abstraction.Abstraction.fix', label=None), State(node='9173987847364421042', rule='metadsl_core.abstraction.beta_reduce', label=None), State(node='1839637132607561383', rule='metadsl_core.abstraction.beta_reduce', label=None), State(node='1531232462748339388', rule='metadsl_core.integer.integer_eq', label=None), State(node='-3895248371160163760', rule='metadsl_core.boolean.if_', label=None), State(node='-7548025437985034325', rule='metadsl_core.integer.integer_math', label=None), State(node='7288429155726012528', rule='metadsl_core.abstraction.Abstraction.fix', label=None), State(node='-5253463565420367128', rule='metadsl_core.abstraction.beta_reduce', label=None), State(node='4771759451938551188', rule='metadsl_core.abstraction.beta_reduce', label=None), State(node='8089090549485829643', rule='metadsl_core.integer.integer_eq', label=None), State(node='5504918128939009495', rule='metadsl_core.boolean.if_', label=None), State(node='-3761648464570011732', rule='metadsl_core.integer.integer_math', label='execute')]))"
      ]
     },
     "metadata": {},
     "output_type": "display_data"
    },
    {
     "data": {
      "application/json": {
       "nodes": {
        "-1062840018330880209": {
         "args": [
          "-8603486734980525913",
          "-3761648464570011732",
          "-1309345982556541089"
         ],
         "function": "metadsl_core.boolean.Boolean.if_"
        },
        "-1195286020108137669": {
         "args": [
          "3074193318072682397",
          "-3261146991999286491"
         ],
         "function": "metadsl_core.integer.Integer.eq"
        },
        "-1309345982556541089": {
         "args": [
          "-3261146991999286491",
          "-1958176877715010140"
         ],
         "function": "metadsl_core.integer.Integer.__mul__"
        },
        "-1343543487854115900": {
         "repr": "True",
         "type": "bool"
        },
        "-1343543487855198425": {
         "repr": "False",
         "type": "bool"
        },
        "-1396514070026963675": {
         "args": [
          "-3761648464570011732",
          "-3761648464570011732"
         ],
         "function": "metadsl_core.integer.Integer.__sub__"
        },
        "-1675572972509393374": {
         "args": [
          "-4412449758852897637",
          "3119980685017379388"
         ],
         "function": "metadsl_core.abstraction.Abstraction.__call__",
         "type_params": {
          "T": {
           "type": "metadsl_core.integer.Integer"
          },
          "U": {
           "type": "metadsl_core.integer.Integer"
          }
         }
        },
        "-1751257619993432315": {
         "args": [
          "-3761648464570011732",
          "-3261146991999286491"
         ],
         "function": "metadsl_core.integer.Integer.eq"
        },
        "-1958176877715010140": {
         "args": [
          "-8772386281735144096",
          "-930789844318381307"
         ],
         "function": "metadsl_core.abstraction.Abstraction.__call__",
         "type_params": {
          "T": {
           "type": "metadsl_core.integer.Integer"
          },
          "U": {
           "type": "metadsl_core.integer.Integer"
          }
         }
        },
        "-2215361674000336040": {
         "args": [
          "-3761648464570011732",
          "3023690624609158355"
         ],
         "function": "metadsl_core.integer.Integer.__mul__"
        },
        "-2384720997415827536": {
         "repr": "Variable(4512230200)",
         "type": "metadsl_core.abstraction.Variable"
        },
        "-2413121916969896670": {
         "args": [
          "448377045070022433",
          "-7398830910654585085"
         ],
         "function": "metadsl_core.integer.Integer.__mul__"
        },
        "-3140107303993910551": {
         "args": [
          "3074193318072682397",
          "-8912127980259137359"
         ],
         "function": "metadsl_core.integer.Integer.__mul__"
        },
        "-3261146991999286491": {
         "args": [
          "5020133584677772467"
         ],
         "function": "metadsl_core.integer.Integer.from_int"
        },
        "-3761648464570011732": {
         "args": [
          "5020133584678854992"
         ],
         "function": "metadsl_core.integer.Integer.from_int"
        },
        "-39353576429573746": {
         "args": [
          "448377045070022433",
          "2562681504621179680"
         ],
         "function": "metadsl_core.integer.Integer.__mul__"
        },
        "-4307790700844017182": {
         "args": [
          "5518942449485092455",
          "-8772386281735144096"
         ],
         "function": "metadsl_core.abstraction.Abstraction.__call__"
        },
        "-4412449758852897637": {
         "args": [
          "-2384720997415827536"
         ],
         "function": "metadsl_core.abstraction.Abstraction.create_variable",
         "type_params": {
          "T": {
           "params": {
            "T": {
             "type": "metadsl_core.integer.Integer"
            },
            "U": {
             "type": "metadsl_core.integer.Integer"
            }
           },
           "type": "metadsl_core.abstraction.Abstraction"
          },
          "U": {
           "params": {
            "T": {
             "type": "metadsl_core.integer.Integer"
            },
            "U": {
             "type": "metadsl_core.integer.Integer"
            }
           },
           "type": "metadsl_core.abstraction.Abstraction"
          }
         }
        },
        "-4708183877119924272": {
         "args": [
          "448377045070022433",
          "-5868635635383609230"
         ],
         "function": "metadsl_core.integer.Integer.__mul__"
        },
        "-4711146507285855794": {
         "args": [
          "448377045070022433",
          "5504918128939009495"
         ],
         "function": "metadsl_core.integer.Integer.__mul__"
        },
        "-5811360499251050517": {
         "args": [
          "-4307790700844017182",
          "448377045070022433"
         ],
         "function": "metadsl_core.abstraction.Abstraction.__call__",
         "type_params": {
          "T": {
           "type": "metadsl_core.integer.Integer"
          },
          "U": {
           "type": "metadsl_core.integer.Integer"
          }
         }
        },
        "-5868635635383609230": {
         "args": [
          "-3761648464570011732",
          "-1062840018330880209"
         ],
         "function": "metadsl_core.integer.Integer.__mul__"
        },
        "-6000412868027038455": {
         "args": [
          "-8098774356153391513"
         ],
         "function": "metadsl_core.abstraction.Abstraction.from_fn"
        },
        "-6117124248082786377": {
         "args": [
          "-3761648464570011732",
          "769492007092866309"
         ],
         "function": "metadsl_core.integer.Integer.__mul__"
        },
        "-6184953330276263885": {
         "args": [
          "6224739780514286792",
          "-3761648464570011732",
          "-2413121916969896670"
         ],
         "function": "metadsl_core.boolean.Boolean.if_"
        },
        "-6630332594634097209": {
         "args": [
          "448377045070022433",
          "2679416529883427614"
         ],
         "function": "metadsl_core.integer.Integer.__mul__"
        },
        "-7398830910654585085": {
         "args": [
          "-8772386281735144096",
          "4195317152331464951"
         ],
         "function": "metadsl_core.abstraction.Abstraction.__call__",
         "type_params": {
          "T": {
           "type": "metadsl_core.integer.Integer"
          },
          "U": {
           "type": "metadsl_core.integer.Integer"
          }
         }
        },
        "-7565997453560513547": {
         "args": [
          "3074193318072682397",
          "1385164117511547444"
         ],
         "function": "metadsl_core.abstraction.Abstraction.create",
         "type_params": {
          "T": {
           "type": "metadsl_core.integer.Integer"
          },
          "U": {
           "type": "metadsl_core.integer.Integer"
          }
         }
        },
        "-7629618496707062965": {
         "args": [
          "448377045070022433",
          "890934412800432406"
         ],
         "function": "metadsl_core.integer.Integer.__mul__"
        },
        "-7765265490210476489": {
         "args": [
          "448377045070022433",
          "7750776607353922382"
         ],
         "function": "metadsl_core.integer.Integer.__mul__"
        },
        "-8098774356153391513": {
         "repr": "<function factorial at 0x10c4a10d0>",
         "type": "function"
        },
        "-8270664177450416665": {
         "args": [
          "4981143409647387067",
          "448377045070022433"
         ],
         "function": "metadsl_core.abstraction.Abstraction.__call__",
         "type_params": {
          "T": {
           "type": "metadsl_core.integer.Integer"
          },
          "U": {
           "type": "metadsl_core.integer.Integer"
          }
         }
        },
        "-8603486734980525913": {
         "args": [
          "-1343543487854115900"
         ],
         "function": "metadsl_core.boolean.Boolean.create"
        },
        "-8772386281735144096": {
         "args": [
          "5518942449485092455"
         ],
         "function": "metadsl_core.abstraction.Abstraction.fix"
        },
        "-8881034144831541911": {
         "args": [
          "-1343543487855198425"
         ],
         "function": "metadsl_core.boolean.Boolean.create"
        },
        "-8912127980259137359": {
         "args": [
          "-8772386281735144096",
          "3119980685017379388"
         ],
         "function": "metadsl_core.abstraction.Abstraction.__call__",
         "type_params": {
          "T": {
           "type": "metadsl_core.integer.Integer"
          },
          "U": {
           "type": "metadsl_core.integer.Integer"
          }
         }
        },
        "-9120651700188310720": {
         "args": [
          "448377045070022433",
          "-6117124248082786377"
         ],
         "function": "metadsl_core.integer.Integer.__mul__"
        },
        "-930789844318381307": {
         "args": [
          "-3261146991999286491",
          "-3761648464570011732"
         ],
         "function": "metadsl_core.integer.Integer.__sub__"
        },
        "1124598008192259920": {
         "repr": "<function factorial.<locals>.inner at 0x10cf47488>",
         "type": "function"
        },
        "1377156151534706699": {
         "args": [
          "-1751257619993432315",
          "-3761648464570011732",
          "-6117124248082786377"
         ],
         "function": "metadsl_core.boolean.Boolean.if_"
        },
        "1385164117511547444": {
         "args": [
          "-1195286020108137669",
          "-3761648464570011732",
          "2637332905595539944"
         ],
         "function": "metadsl_core.boolean.Boolean.if_"
        },
        "1772109917863982252": {
         "args": [
          "-8881034144831541911",
          "-3761648464570011732",
          "-2413121916969896670"
         ],
         "function": "metadsl_core.boolean.Boolean.if_"
        },
        "2183662999503847051": {
         "args": [
          "-3761648464570011732",
          "6110533106644845801"
         ],
         "function": "metadsl_core.integer.Integer.__mul__"
        },
        "2249896317061253127": {
         "args": [
          "3992774502831254136"
         ],
         "function": "metadsl_core.abstraction.Abstraction.fix"
        },
        "25351356777524522": {
         "args": [
          "-6000412868027038455"
         ],
         "function": "metadsl_core.abstraction.Abstraction.fix"
        },
        "2562681504621179680": {
         "args": [
          "-8881034144831541911",
          "-3761648464570011732",
          "-6117124248082786377"
         ],
         "function": "metadsl_core.boolean.Boolean.if_"
        },
        "2637332905595539944": {
         "args": [
          "3074193318072682397",
          "-1675572972509393374"
         ],
         "function": "metadsl_core.integer.Integer.__mul__"
        },
        "2679416529883427614": {
         "args": [
          "-3761648464570011732",
          "4055601387710584609"
         ],
         "function": "metadsl_core.integer.Integer.__mul__"
        },
        "3023690624609158355": {
         "args": [
          "3663321178405430733",
          "-3261146991999286491"
         ],
         "function": "metadsl_core.abstraction.Abstraction.__call__",
         "type_params": {
          "T": {
           "type": "metadsl_core.integer.Integer"
          },
          "U": {
           "type": "metadsl_core.integer.Integer"
          }
         }
        },
        "3074193318072682397": {
         "args": [
          "6838651039325283147"
         ],
         "function": "metadsl_core.abstraction.Abstraction.create_variable",
         "type_params": {
          "T": {
           "type": "metadsl_core.integer.Integer"
          },
          "U": {
           "type": "metadsl_core.integer.Integer"
          }
         }
        },
        "3119980685017379388": {
         "args": [
          "3074193318072682397",
          "-3761648464570011732"
         ],
         "function": "metadsl_core.integer.Integer.__sub__"
        },
        "3652484495453464368": {
         "args": [
          "448377045070022433",
          "1377156151534706699"
         ],
         "function": "metadsl_core.integer.Integer.__mul__"
        },
        "3663321178405430733": {
         "args": [
          "5518942449485092455",
          "-8772386281735144096"
         ],
         "function": "metadsl_core.abstraction.Abstraction.__call__",
         "type_params": {
          "T": {
           "params": {
            "T": {
             "type": "metadsl_core.integer.Integer"
            },
            "U": {
             "type": "metadsl_core.integer.Integer"
            }
           },
           "type": "metadsl_core.abstraction.Abstraction"
          },
          "U": {
           "params": {
            "T": {
             "type": "metadsl_core.integer.Integer"
            },
            "U": {
             "type": "metadsl_core.integer.Integer"
            }
           },
           "type": "metadsl_core.abstraction.Abstraction"
          }
         }
        },
        "3992774502831254136": {
         "args": [
          "-4412449758852897637",
          "7608273443401941095"
         ],
         "function": "metadsl_core.abstraction.Abstraction.create",
         "type_params": {
          "T": {
           "params": {
            "T": {
             "type": "metadsl_core.integer.Integer"
            },
            "U": {
             "type": "metadsl_core.integer.Integer"
            }
           },
           "type": "metadsl_core.abstraction.Abstraction"
          },
          "U": {
           "params": {
            "T": {
             "type": "metadsl_core.integer.Integer"
            },
            "U": {
             "type": "metadsl_core.integer.Integer"
            }
           },
           "type": "metadsl_core.abstraction.Abstraction"
          }
         }
        },
        "4055601387710584609": {
         "args": [
          "-8772386281735144096",
          "-3261146991999286491"
         ],
         "function": "metadsl_core.abstraction.Abstraction.__call__",
         "type_params": {
          "T": {
           "type": "metadsl_core.integer.Integer"
          },
          "U": {
           "type": "metadsl_core.integer.Integer"
          }
         }
        },
        "4195317152331464951": {
         "args": [
          "448377045070022433",
          "-3761648464570011732"
         ],
         "function": "metadsl_core.integer.Integer.__sub__"
        },
        "420846500348444735": {
         "args": [
          "-8772386281735144096",
          "448377045070022433"
         ],
         "function": "metadsl_core.abstraction.Abstraction.__call__",
         "type_params": {
          "T": {
           "type": "metadsl_core.integer.Integer"
          },
          "U": {
           "type": "metadsl_core.integer.Integer"
          }
         }
        },
        "448377045070022433": {
         "args": [
          "5020133584679937517"
         ],
         "function": "metadsl_core.integer.Integer.from_int"
        },
        "4600608742277927714": {
         "args": [
          "448377045070022433",
          "-2215361674000336040"
         ],
         "function": "metadsl_core.integer.Integer.__mul__"
        },
        "4623934173833200803": {
         "args": [
          "2249896317061253127",
          "448377045070022433"
         ],
         "function": "metadsl_core.abstraction.Abstraction.__call__",
         "type_params": {
          "T": {
           "type": "metadsl_core.integer.Integer"
          },
          "U": {
           "type": "metadsl_core.integer.Integer"
          }
         }
        },
        "4705567592998746227": {
         "args": [
          "25351356777524522",
          "448377045070022433"
         ],
         "function": "metadsl_core.abstraction.Abstraction.__call__",
         "type_params": {
          "T": {
           "type": "metadsl_core.integer.Integer"
          },
          "U": {
           "type": "metadsl_core.integer.Integer"
          }
         }
        },
        "4981143409647387067": {
         "args": [
          "3074193318072682397",
          "84613002794427500"
         ],
         "function": "metadsl_core.abstraction.Abstraction.create",
         "type_params": {
          "T": {
           "type": "metadsl_core.integer.Integer"
          },
          "U": {
           "type": "metadsl_core.integer.Integer"
          }
         }
        },
        "5020133584677772467": {
         "repr": "0",
         "type": "int"
        },
        "5020133584678854992": {
         "repr": "1",
         "type": "int"
        },
        "5020133584679937517": {
         "repr": "2",
         "type": "int"
        },
        "5504918128939009495": {
         "args": [
          "-3761648464570011732",
          "-3761648464570011732"
         ],
         "function": "metadsl_core.integer.Integer.__mul__"
        },
        "5518942449485092455": {
         "args": [
          "-4412449758852897637",
          "-7565997453560513547"
         ],
         "function": "metadsl_core.abstraction.Abstraction.create",
         "type_params": {
          "T": {
           "params": {
            "T": {
             "type": "metadsl_core.integer.Integer"
            },
            "U": {
             "type": "metadsl_core.integer.Integer"
            }
           },
           "type": "metadsl_core.abstraction.Abstraction"
          },
          "U": {
           "params": {
            "T": {
             "type": "metadsl_core.integer.Integer"
            },
            "U": {
             "type": "metadsl_core.integer.Integer"
            }
           },
           "type": "metadsl_core.abstraction.Abstraction"
          }
         }
        },
        "5839410727446015861": {
         "args": [
          "-3761648464570011732",
          "7079640431812953582"
         ],
         "function": "metadsl_core.integer.Integer.__mul__"
        },
        "6110533106644845801": {
         "args": [
          "4981143409647387067",
          "-3261146991999286491"
         ],
         "function": "metadsl_core.abstraction.Abstraction.__call__",
         "type_params": {
          "T": {
           "type": "metadsl_core.integer.Integer"
          },
          "U": {
           "type": "metadsl_core.integer.Integer"
          }
         }
        },
        "6224739780514286792": {
         "args": [
          "448377045070022433",
          "-3261146991999286491"
         ],
         "function": "metadsl_core.integer.Integer.eq"
        },
        "6307535739200845392": {
         "args": [
          "448377045070022433",
          "6356296302236423256"
         ],
         "function": "metadsl_core.integer.Integer.__mul__"
        },
        "6356296302236423256": {
         "args": [
          "3663321178405430733",
          "-3761648464570011732"
         ],
         "function": "metadsl_core.abstraction.Abstraction.__call__",
         "type_params": {
          "T": {
           "type": "metadsl_core.integer.Integer"
          },
          "U": {
           "type": "metadsl_core.integer.Integer"
          }
         }
        },
        "6416804791659013553": {
         "args": [
          "448377045070022433",
          "5839410727446015861"
         ],
         "function": "metadsl_core.integer.Integer.__mul__"
        },
        "6838651039325283147": {
         "repr": "Variable(4512230816)",
         "type": "metadsl_core.abstraction.Variable"
        },
        "7079640431812953582": {
         "args": [
          "8744182282586139310",
          "-3761648464570011732",
          "-1309345982556541089"
         ],
         "function": "metadsl_core.boolean.Boolean.if_"
        },
        "7254811946636134561": {
         "args": [
          "448377045070022433",
          "2183662999503847051"
         ],
         "function": "metadsl_core.integer.Integer.__mul__"
        },
        "7273508617291920197": {
         "args": [
          "448377045070022433",
          "-3761648464570011732"
         ],
         "function": "metadsl_core.integer.Integer.__mul__"
        },
        "7608273443401941095": {
         "args": [
          "1124598008192259920"
         ],
         "function": "metadsl_core.abstraction.Abstraction.from_fn"
        },
        "769492007092866309": {
         "args": [
          "-8772386281735144096",
          "-1396514070026963675"
         ],
         "function": "metadsl_core.abstraction.Abstraction.__call__",
         "type_params": {
          "T": {
           "type": "metadsl_core.integer.Integer"
          },
          "U": {
           "type": "metadsl_core.integer.Integer"
          }
         }
        },
        "7750776607353922382": {
         "args": [
          "4981143409647387067",
          "-3761648464570011732"
         ],
         "function": "metadsl_core.abstraction.Abstraction.__call__",
         "type_params": {
          "T": {
           "type": "metadsl_core.integer.Integer"
          },
          "U": {
           "type": "metadsl_core.integer.Integer"
          }
         }
        },
        "84613002794427500": {
         "args": [
          "-1195286020108137669",
          "-3761648464570011732",
          "-3140107303993910551"
         ],
         "function": "metadsl_core.boolean.Boolean.if_"
        },
        "8744182282586139310": {
         "args": [
          "-3261146991999286491",
          "-3261146991999286491"
         ],
         "function": "metadsl_core.integer.Integer.eq"
        },
        "890934412800432406": {
         "args": [
          "-8772386281735144096",
          "-3761648464570011732"
         ],
         "function": "metadsl_core.abstraction.Abstraction.__call__",
         "type_params": {
          "T": {
           "type": "metadsl_core.integer.Integer"
          },
          "U": {
           "type": "metadsl_core.integer.Integer"
          }
         }
        }
       },
       "states": {
        "initial": "4705567592998746227",
        "states": [
         {
          "node": "4623934173833200803",
          "rule": "metadsl_core.abstraction.Abstraction.from_fn"
         },
         {
          "label": "core",
          "node": "420846500348444735",
          "rule": "metadsl_core.abstraction.Abstraction.from_fn"
         },
         {
          "node": "-5811360499251050517",
          "rule": "metadsl_core.abstraction.Abstraction.fix"
         },
         {
          "node": "-8270664177450416665",
          "rule": "metadsl_core.abstraction.beta_reduce"
         },
         {
          "node": "-6184953330276263885",
          "rule": "metadsl_core.abstraction.beta_reduce"
         },
         {
          "node": "1772109917863982252",
          "rule": "metadsl_core.integer.integer_eq"
         },
         {
          "node": "-2413121916969896670",
          "rule": "metadsl_core.boolean.if_"
         },
         {
          "node": "-7629618496707062965",
          "rule": "metadsl_core.integer.integer_math"
         },
         {
          "node": "6307535739200845392",
          "rule": "metadsl_core.abstraction.Abstraction.fix"
         },
         {
          "node": "-7765265490210476489",
          "rule": "metadsl_core.abstraction.beta_reduce"
         },
         {
          "node": "3652484495453464368",
          "rule": "metadsl_core.abstraction.beta_reduce"
         },
         {
          "node": "-39353576429573746",
          "rule": "metadsl_core.integer.integer_eq"
         },
         {
          "node": "-9120651700188310720",
          "rule": "metadsl_core.boolean.if_"
         },
         {
          "node": "-6630332594634097209",
          "rule": "metadsl_core.integer.integer_math"
         },
         {
          "node": "4600608742277927714",
          "rule": "metadsl_core.abstraction.Abstraction.fix"
         },
         {
          "node": "7254811946636134561",
          "rule": "metadsl_core.abstraction.beta_reduce"
         },
         {
          "node": "6416804791659013553",
          "rule": "metadsl_core.abstraction.beta_reduce"
         },
         {
          "node": "-4708183877119924272",
          "rule": "metadsl_core.integer.integer_eq"
         },
         {
          "node": "-4711146507285855794",
          "rule": "metadsl_core.boolean.if_"
         },
         {
          "node": "7273508617291920197",
          "rule": "metadsl_core.integer.integer_math"
         },
         {
          "label": "execute",
          "node": "448377045070022433",
          "rule": "metadsl_core.integer.integer_math"
         }
        ]
       }
      },
      "application/x.typez.graph+json": {
       "initial": "digraph {\n\t4705567592998746227 [label=\"metadsl_core.abstraction.Abstraction.__call__\"]\n\t4705567592998746227 -> 25351356777524522\n\t25351356777524522 [label=\"metadsl_core.abstraction.Abstraction.fix\"]\n\t25351356777524522 -> -6000412868027038455\n\t-6000412868027038455 [label=\"metadsl_core.abstraction.Abstraction.from_fn\"]\n\t-6000412868027038455 -> -8098774356153391513\n\t-8098774356153391513 [label=\"function factorial at 0x10c4a10d0\"]\n\t4705567592998746227 -> 448377045070022433\n\t448377045070022433 [label=\"metadsl_core.integer.Integer.from_int\"]\n\t448377045070022433 -> 5020133584679937517\n\t5020133584679937517 [label=2]\n}",
       "states": [
        {
         "graph": "digraph {\n\t4623934173833200803 [label=\"metadsl_core.abstraction.Abstraction.__call__\"]\n\t4623934173833200803 -> 2249896317061253127\n\t2249896317061253127 [label=\"metadsl_core.abstraction.Abstraction.fix\"]\n\t2249896317061253127 -> 3992774502831254136\n\t3992774502831254136 [label=\"metadsl_core.abstraction.Abstraction.create\"]\n\t3992774502831254136 -> -4412449758852897637\n\t-4412449758852897637 [label=\"metadsl_core.abstraction.Abstraction.create_variable\"]\n\t-4412449758852897637 -> -2384720997415827536\n\t-2384720997415827536 [label=\"Variable(4512230200)\"]\n\t3992774502831254136 -> 7608273443401941095\n\t7608273443401941095 [label=\"metadsl_core.abstraction.Abstraction.from_fn\"]\n\t7608273443401941095 -> 1124598008192259920\n\t1124598008192259920 [label=\"function factorial.locals.inner at 0x10cf47488\"]\n\t4623934173833200803 -> 448377045070022433\n\t448377045070022433 [label=\"metadsl_core.integer.Integer.from_int\"]\n\t448377045070022433 -> 5020133584679937517\n\t5020133584679937517 [label=2]\n}",
         "label": null,
         "rule": "metadsl_core.abstraction.Abstraction.from_fn"
        },
        {
         "graph": "digraph {\n\t420846500348444735 [label=\"metadsl_core.abstraction.Abstraction.__call__\"]\n\t420846500348444735 -> -8772386281735144096\n\t-8772386281735144096 [label=\"metadsl_core.abstraction.Abstraction.fix\"]\n\t-8772386281735144096 -> 5518942449485092455\n\t5518942449485092455 [label=\"metadsl_core.abstraction.Abstraction.create\"]\n\t5518942449485092455 -> -4412449758852897637\n\t-4412449758852897637 [label=\"metadsl_core.abstraction.Abstraction.create_variable\"]\n\t-4412449758852897637 -> -2384720997415827536\n\t-2384720997415827536 [label=\"Variable(4512230200)\"]\n\t5518942449485092455 -> -7565997453560513547\n\t-7565997453560513547 [label=\"metadsl_core.abstraction.Abstraction.create\"]\n\t-7565997453560513547 -> 3074193318072682397\n\t3074193318072682397 [label=\"metadsl_core.abstraction.Abstraction.create_variable\"]\n\t3074193318072682397 -> 6838651039325283147\n\t6838651039325283147 [label=\"Variable(4512230816)\"]\n\t-7565997453560513547 -> 1385164117511547444\n\t1385164117511547444 [label=\"metadsl_core.boolean.Boolean.if_\"]\n\t1385164117511547444 -> -1195286020108137669\n\t-1195286020108137669 [label=\"metadsl_core.integer.Integer.eq\"]\n\t-1195286020108137669 -> 3074193318072682397\n\t-1195286020108137669 -> -3261146991999286491\n\t-3261146991999286491 [label=\"metadsl_core.integer.Integer.from_int\"]\n\t-3261146991999286491 -> 5020133584677772467\n\t5020133584677772467 [label=0]\n\t1385164117511547444 -> -3761648464570011732\n\t-3761648464570011732 [label=\"metadsl_core.integer.Integer.from_int\"]\n\t-3761648464570011732 -> 5020133584678854992\n\t5020133584678854992 [label=1]\n\t1385164117511547444 -> 2637332905595539944\n\t2637332905595539944 [label=\"metadsl_core.integer.Integer.__mul__\"]\n\t2637332905595539944 -> 3074193318072682397\n\t2637332905595539944 -> -1675572972509393374\n\t-1675572972509393374 [label=\"metadsl_core.abstraction.Abstraction.__call__\"]\n\t-1675572972509393374 -> -4412449758852897637\n\t-1675572972509393374 -> 3119980685017379388\n\t3119980685017379388 [label=\"metadsl_core.integer.Integer.__sub__\"]\n\t3119980685017379388 -> 3074193318072682397\n\t3119980685017379388 -> -3761648464570011732\n\t420846500348444735 -> 448377045070022433\n\t448377045070022433 [label=\"metadsl_core.integer.Integer.from_int\"]\n\t448377045070022433 -> 5020133584679937517\n\t5020133584679937517 [label=2]\n}",
         "label": "core",
         "rule": "metadsl_core.abstraction.Abstraction.from_fn"
        },
        {
         "graph": "digraph {\n\t-5811360499251050517 [label=\"metadsl_core.abstraction.Abstraction.__call__\"]\n\t-5811360499251050517 -> -4307790700844017182\n\t-4307790700844017182 [label=\"metadsl_core.abstraction.Abstraction.__call__\"]\n\t-4307790700844017182 -> 5518942449485092455\n\t5518942449485092455 [label=\"metadsl_core.abstraction.Abstraction.create\"]\n\t5518942449485092455 -> -4412449758852897637\n\t-4412449758852897637 [label=\"metadsl_core.abstraction.Abstraction.create_variable\"]\n\t-4412449758852897637 -> -2384720997415827536\n\t-2384720997415827536 [label=\"Variable(4512230200)\"]\n\t5518942449485092455 -> -7565997453560513547\n\t-7565997453560513547 [label=\"metadsl_core.abstraction.Abstraction.create\"]\n\t-7565997453560513547 -> 3074193318072682397\n\t3074193318072682397 [label=\"metadsl_core.abstraction.Abstraction.create_variable\"]\n\t3074193318072682397 -> 6838651039325283147\n\t6838651039325283147 [label=\"Variable(4512230816)\"]\n\t-7565997453560513547 -> 1385164117511547444\n\t1385164117511547444 [label=\"metadsl_core.boolean.Boolean.if_\"]\n\t1385164117511547444 -> -1195286020108137669\n\t-1195286020108137669 [label=\"metadsl_core.integer.Integer.eq\"]\n\t-1195286020108137669 -> 3074193318072682397\n\t-1195286020108137669 -> -3261146991999286491\n\t-3261146991999286491 [label=\"metadsl_core.integer.Integer.from_int\"]\n\t-3261146991999286491 -> 5020133584677772467\n\t5020133584677772467 [label=0]\n\t1385164117511547444 -> -3761648464570011732\n\t-3761648464570011732 [label=\"metadsl_core.integer.Integer.from_int\"]\n\t-3761648464570011732 -> 5020133584678854992\n\t5020133584678854992 [label=1]\n\t1385164117511547444 -> 2637332905595539944\n\t2637332905595539944 [label=\"metadsl_core.integer.Integer.__mul__\"]\n\t2637332905595539944 -> 3074193318072682397\n\t2637332905595539944 -> -1675572972509393374\n\t-1675572972509393374 [label=\"metadsl_core.abstraction.Abstraction.__call__\"]\n\t-1675572972509393374 -> -4412449758852897637\n\t-1675572972509393374 -> 3119980685017379388\n\t3119980685017379388 [label=\"metadsl_core.integer.Integer.__sub__\"]\n\t3119980685017379388 -> 3074193318072682397\n\t3119980685017379388 -> -3761648464570011732\n\t-4307790700844017182 -> -8772386281735144096\n\t-8772386281735144096 [label=\"metadsl_core.abstraction.Abstraction.fix\"]\n\t-8772386281735144096 -> 5518942449485092455\n\t-5811360499251050517 -> 448377045070022433\n\t448377045070022433 [label=\"metadsl_core.integer.Integer.from_int\"]\n\t448377045070022433 -> 5020133584679937517\n\t5020133584679937517 [label=2]\n}",
         "label": null,
         "rule": "metadsl_core.abstraction.Abstraction.fix"
        },
        {
         "graph": "digraph {\n\t-8270664177450416665 [label=\"metadsl_core.abstraction.Abstraction.__call__\"]\n\t-8270664177450416665 -> 4981143409647387067\n\t4981143409647387067 [label=\"metadsl_core.abstraction.Abstraction.create\"]\n\t4981143409647387067 -> 3074193318072682397\n\t3074193318072682397 [label=\"metadsl_core.abstraction.Abstraction.create_variable\"]\n\t3074193318072682397 -> 6838651039325283147\n\t6838651039325283147 [label=\"Variable(4512230816)\"]\n\t4981143409647387067 -> 84613002794427500\n\t84613002794427500 [label=\"metadsl_core.boolean.Boolean.if_\"]\n\t84613002794427500 -> -1195286020108137669\n\t-1195286020108137669 [label=\"metadsl_core.integer.Integer.eq\"]\n\t-1195286020108137669 -> 3074193318072682397\n\t-1195286020108137669 -> -3261146991999286491\n\t-3261146991999286491 [label=\"metadsl_core.integer.Integer.from_int\"]\n\t-3261146991999286491 -> 5020133584677772467\n\t5020133584677772467 [label=0]\n\t84613002794427500 -> -3761648464570011732\n\t-3761648464570011732 [label=\"metadsl_core.integer.Integer.from_int\"]\n\t-3761648464570011732 -> 5020133584678854992\n\t5020133584678854992 [label=1]\n\t84613002794427500 -> -3140107303993910551\n\t-3140107303993910551 [label=\"metadsl_core.integer.Integer.__mul__\"]\n\t-3140107303993910551 -> 3074193318072682397\n\t-3140107303993910551 -> -8912127980259137359\n\t-8912127980259137359 [label=\"metadsl_core.abstraction.Abstraction.__call__\"]\n\t-8912127980259137359 -> -8772386281735144096\n\t-8772386281735144096 [label=\"metadsl_core.abstraction.Abstraction.fix\"]\n\t-8772386281735144096 -> 5518942449485092455\n\t5518942449485092455 [label=\"metadsl_core.abstraction.Abstraction.create\"]\n\t5518942449485092455 -> -4412449758852897637\n\t-4412449758852897637 [label=\"metadsl_core.abstraction.Abstraction.create_variable\"]\n\t-4412449758852897637 -> -2384720997415827536\n\t-2384720997415827536 [label=\"Variable(4512230200)\"]\n\t5518942449485092455 -> -7565997453560513547\n\t-7565997453560513547 [label=\"metadsl_core.abstraction.Abstraction.create\"]\n\t-7565997453560513547 -> 3074193318072682397\n\t-7565997453560513547 -> 1385164117511547444\n\t1385164117511547444 [label=\"metadsl_core.boolean.Boolean.if_\"]\n\t1385164117511547444 -> -1195286020108137669\n\t1385164117511547444 -> -3761648464570011732\n\t1385164117511547444 -> 2637332905595539944\n\t2637332905595539944 [label=\"metadsl_core.integer.Integer.__mul__\"]\n\t2637332905595539944 -> 3074193318072682397\n\t2637332905595539944 -> -1675572972509393374\n\t-1675572972509393374 [label=\"metadsl_core.abstraction.Abstraction.__call__\"]\n\t-1675572972509393374 -> -4412449758852897637\n\t-1675572972509393374 -> 3119980685017379388\n\t3119980685017379388 [label=\"metadsl_core.integer.Integer.__sub__\"]\n\t3119980685017379388 -> 3074193318072682397\n\t3119980685017379388 -> -3761648464570011732\n\t-8912127980259137359 -> 3119980685017379388\n\t-8270664177450416665 -> 448377045070022433\n\t448377045070022433 [label=\"metadsl_core.integer.Integer.from_int\"]\n\t448377045070022433 -> 5020133584679937517\n\t5020133584679937517 [label=2]\n}",
         "label": null,
         "rule": "metadsl_core.abstraction.beta_reduce"
        },
        {
         "graph": "digraph {\n\t-6184953330276263885 [label=\"metadsl_core.boolean.Boolean.if_\"]\n\t-6184953330276263885 -> 6224739780514286792\n\t6224739780514286792 [label=\"metadsl_core.integer.Integer.eq\"]\n\t6224739780514286792 -> 448377045070022433\n\t448377045070022433 [label=\"metadsl_core.integer.Integer.from_int\"]\n\t448377045070022433 -> 5020133584679937517\n\t5020133584679937517 [label=2]\n\t6224739780514286792 -> -3261146991999286491\n\t-3261146991999286491 [label=\"metadsl_core.integer.Integer.from_int\"]\n\t-3261146991999286491 -> 5020133584677772467\n\t5020133584677772467 [label=0]\n\t-6184953330276263885 -> -3761648464570011732\n\t-3761648464570011732 [label=\"metadsl_core.integer.Integer.from_int\"]\n\t-3761648464570011732 -> 5020133584678854992\n\t5020133584678854992 [label=1]\n\t-6184953330276263885 -> -2413121916969896670\n\t-2413121916969896670 [label=\"metadsl_core.integer.Integer.__mul__\"]\n\t-2413121916969896670 -> 448377045070022433\n\t-2413121916969896670 -> -7398830910654585085\n\t-7398830910654585085 [label=\"metadsl_core.abstraction.Abstraction.__call__\"]\n\t-7398830910654585085 -> -8772386281735144096\n\t-8772386281735144096 [label=\"metadsl_core.abstraction.Abstraction.fix\"]\n\t-8772386281735144096 -> 5518942449485092455\n\t5518942449485092455 [label=\"metadsl_core.abstraction.Abstraction.create\"]\n\t5518942449485092455 -> -4412449758852897637\n\t-4412449758852897637 [label=\"metadsl_core.abstraction.Abstraction.create_variable\"]\n\t-4412449758852897637 -> -2384720997415827536\n\t-2384720997415827536 [label=\"Variable(4512230200)\"]\n\t5518942449485092455 -> -7565997453560513547\n\t-7565997453560513547 [label=\"metadsl_core.abstraction.Abstraction.create\"]\n\t-7565997453560513547 -> 3074193318072682397\n\t3074193318072682397 [label=\"metadsl_core.abstraction.Abstraction.create_variable\"]\n\t3074193318072682397 -> 6838651039325283147\n\t6838651039325283147 [label=\"Variable(4512230816)\"]\n\t-7565997453560513547 -> 1385164117511547444\n\t1385164117511547444 [label=\"metadsl_core.boolean.Boolean.if_\"]\n\t1385164117511547444 -> -1195286020108137669\n\t-1195286020108137669 [label=\"metadsl_core.integer.Integer.eq\"]\n\t-1195286020108137669 -> 3074193318072682397\n\t-1195286020108137669 -> -3261146991999286491\n\t1385164117511547444 -> -3761648464570011732\n\t1385164117511547444 -> 2637332905595539944\n\t2637332905595539944 [label=\"metadsl_core.integer.Integer.__mul__\"]\n\t2637332905595539944 -> 3074193318072682397\n\t2637332905595539944 -> -1675572972509393374\n\t-1675572972509393374 [label=\"metadsl_core.abstraction.Abstraction.__call__\"]\n\t-1675572972509393374 -> -4412449758852897637\n\t-1675572972509393374 -> 3119980685017379388\n\t3119980685017379388 [label=\"metadsl_core.integer.Integer.__sub__\"]\n\t3119980685017379388 -> 3074193318072682397\n\t3119980685017379388 -> -3761648464570011732\n\t-7398830910654585085 -> 4195317152331464951\n\t4195317152331464951 [label=\"metadsl_core.integer.Integer.__sub__\"]\n\t4195317152331464951 -> 448377045070022433\n\t4195317152331464951 -> -3761648464570011732\n}",
         "label": null,
         "rule": "metadsl_core.abstraction.beta_reduce"
        },
        {
         "graph": "digraph {\n\t1772109917863982252 [label=\"metadsl_core.boolean.Boolean.if_\"]\n\t1772109917863982252 -> -8881034144831541911\n\t-8881034144831541911 [label=\"metadsl_core.boolean.Boolean.create\"]\n\t-8881034144831541911 -> -1343543487855198425\n\t-1343543487855198425 [label=False]\n\t1772109917863982252 -> -3761648464570011732\n\t-3761648464570011732 [label=\"metadsl_core.integer.Integer.from_int\"]\n\t-3761648464570011732 -> 5020133584678854992\n\t5020133584678854992 [label=1]\n\t1772109917863982252 -> -2413121916969896670\n\t-2413121916969896670 [label=\"metadsl_core.integer.Integer.__mul__\"]\n\t-2413121916969896670 -> 448377045070022433\n\t448377045070022433 [label=\"metadsl_core.integer.Integer.from_int\"]\n\t448377045070022433 -> 5020133584679937517\n\t5020133584679937517 [label=2]\n\t-2413121916969896670 -> -7398830910654585085\n\t-7398830910654585085 [label=\"metadsl_core.abstraction.Abstraction.__call__\"]\n\t-7398830910654585085 -> -8772386281735144096\n\t-8772386281735144096 [label=\"metadsl_core.abstraction.Abstraction.fix\"]\n\t-8772386281735144096 -> 5518942449485092455\n\t5518942449485092455 [label=\"metadsl_core.abstraction.Abstraction.create\"]\n\t5518942449485092455 -> -4412449758852897637\n\t-4412449758852897637 [label=\"metadsl_core.abstraction.Abstraction.create_variable\"]\n\t-4412449758852897637 -> -2384720997415827536\n\t-2384720997415827536 [label=\"Variable(4512230200)\"]\n\t5518942449485092455 -> -7565997453560513547\n\t-7565997453560513547 [label=\"metadsl_core.abstraction.Abstraction.create\"]\n\t-7565997453560513547 -> 3074193318072682397\n\t3074193318072682397 [label=\"metadsl_core.abstraction.Abstraction.create_variable\"]\n\t3074193318072682397 -> 6838651039325283147\n\t6838651039325283147 [label=\"Variable(4512230816)\"]\n\t-7565997453560513547 -> 1385164117511547444\n\t1385164117511547444 [label=\"metadsl_core.boolean.Boolean.if_\"]\n\t1385164117511547444 -> -1195286020108137669\n\t-1195286020108137669 [label=\"metadsl_core.integer.Integer.eq\"]\n\t-1195286020108137669 -> 3074193318072682397\n\t-1195286020108137669 -> -3261146991999286491\n\t-3261146991999286491 [label=\"metadsl_core.integer.Integer.from_int\"]\n\t-3261146991999286491 -> 5020133584677772467\n\t5020133584677772467 [label=0]\n\t1385164117511547444 -> -3761648464570011732\n\t1385164117511547444 -> 2637332905595539944\n\t2637332905595539944 [label=\"metadsl_core.integer.Integer.__mul__\"]\n\t2637332905595539944 -> 3074193318072682397\n\t2637332905595539944 -> -1675572972509393374\n\t-1675572972509393374 [label=\"metadsl_core.abstraction.Abstraction.__call__\"]\n\t-1675572972509393374 -> -4412449758852897637\n\t-1675572972509393374 -> 3119980685017379388\n\t3119980685017379388 [label=\"metadsl_core.integer.Integer.__sub__\"]\n\t3119980685017379388 -> 3074193318072682397\n\t3119980685017379388 -> -3761648464570011732\n\t-7398830910654585085 -> 4195317152331464951\n\t4195317152331464951 [label=\"metadsl_core.integer.Integer.__sub__\"]\n\t4195317152331464951 -> 448377045070022433\n\t4195317152331464951 -> -3761648464570011732\n}",
         "label": null,
         "rule": "metadsl_core.integer.integer_eq"
        },
        {
         "graph": "digraph {\n\t-2413121916969896670 [label=\"metadsl_core.integer.Integer.__mul__\"]\n\t-2413121916969896670 -> 448377045070022433\n\t448377045070022433 [label=\"metadsl_core.integer.Integer.from_int\"]\n\t448377045070022433 -> 5020133584679937517\n\t5020133584679937517 [label=2]\n\t-2413121916969896670 -> -7398830910654585085\n\t-7398830910654585085 [label=\"metadsl_core.abstraction.Abstraction.__call__\"]\n\t-7398830910654585085 -> -8772386281735144096\n\t-8772386281735144096 [label=\"metadsl_core.abstraction.Abstraction.fix\"]\n\t-8772386281735144096 -> 5518942449485092455\n\t5518942449485092455 [label=\"metadsl_core.abstraction.Abstraction.create\"]\n\t5518942449485092455 -> -4412449758852897637\n\t-4412449758852897637 [label=\"metadsl_core.abstraction.Abstraction.create_variable\"]\n\t-4412449758852897637 -> -2384720997415827536\n\t-2384720997415827536 [label=\"Variable(4512230200)\"]\n\t5518942449485092455 -> -7565997453560513547\n\t-7565997453560513547 [label=\"metadsl_core.abstraction.Abstraction.create\"]\n\t-7565997453560513547 -> 3074193318072682397\n\t3074193318072682397 [label=\"metadsl_core.abstraction.Abstraction.create_variable\"]\n\t3074193318072682397 -> 6838651039325283147\n\t6838651039325283147 [label=\"Variable(4512230816)\"]\n\t-7565997453560513547 -> 1385164117511547444\n\t1385164117511547444 [label=\"metadsl_core.boolean.Boolean.if_\"]\n\t1385164117511547444 -> -1195286020108137669\n\t-1195286020108137669 [label=\"metadsl_core.integer.Integer.eq\"]\n\t-1195286020108137669 -> 3074193318072682397\n\t-1195286020108137669 -> -3261146991999286491\n\t-3261146991999286491 [label=\"metadsl_core.integer.Integer.from_int\"]\n\t-3261146991999286491 -> 5020133584677772467\n\t5020133584677772467 [label=0]\n\t1385164117511547444 -> -3761648464570011732\n\t-3761648464570011732 [label=\"metadsl_core.integer.Integer.from_int\"]\n\t-3761648464570011732 -> 5020133584678854992\n\t5020133584678854992 [label=1]\n\t1385164117511547444 -> 2637332905595539944\n\t2637332905595539944 [label=\"metadsl_core.integer.Integer.__mul__\"]\n\t2637332905595539944 -> 3074193318072682397\n\t2637332905595539944 -> -1675572972509393374\n\t-1675572972509393374 [label=\"metadsl_core.abstraction.Abstraction.__call__\"]\n\t-1675572972509393374 -> -4412449758852897637\n\t-1675572972509393374 -> 3119980685017379388\n\t3119980685017379388 [label=\"metadsl_core.integer.Integer.__sub__\"]\n\t3119980685017379388 -> 3074193318072682397\n\t3119980685017379388 -> -3761648464570011732\n\t-7398830910654585085 -> 4195317152331464951\n\t4195317152331464951 [label=\"metadsl_core.integer.Integer.__sub__\"]\n\t4195317152331464951 -> 448377045070022433\n\t4195317152331464951 -> -3761648464570011732\n}",
         "label": null,
         "rule": "metadsl_core.boolean.if_"
        },
        {
         "graph": "digraph {\n\t-7629618496707062965 [label=\"metadsl_core.integer.Integer.__mul__\"]\n\t-7629618496707062965 -> 448377045070022433\n\t448377045070022433 [label=\"metadsl_core.integer.Integer.from_int\"]\n\t448377045070022433 -> 5020133584679937517\n\t5020133584679937517 [label=2]\n\t-7629618496707062965 -> 890934412800432406\n\t890934412800432406 [label=\"metadsl_core.abstraction.Abstraction.__call__\"]\n\t890934412800432406 -> -8772386281735144096\n\t-8772386281735144096 [label=\"metadsl_core.abstraction.Abstraction.fix\"]\n\t-8772386281735144096 -> 5518942449485092455\n\t5518942449485092455 [label=\"metadsl_core.abstraction.Abstraction.create\"]\n\t5518942449485092455 -> -4412449758852897637\n\t-4412449758852897637 [label=\"metadsl_core.abstraction.Abstraction.create_variable\"]\n\t-4412449758852897637 -> -2384720997415827536\n\t-2384720997415827536 [label=\"Variable(4512230200)\"]\n\t5518942449485092455 -> -7565997453560513547\n\t-7565997453560513547 [label=\"metadsl_core.abstraction.Abstraction.create\"]\n\t-7565997453560513547 -> 3074193318072682397\n\t3074193318072682397 [label=\"metadsl_core.abstraction.Abstraction.create_variable\"]\n\t3074193318072682397 -> 6838651039325283147\n\t6838651039325283147 [label=\"Variable(4512230816)\"]\n\t-7565997453560513547 -> 1385164117511547444\n\t1385164117511547444 [label=\"metadsl_core.boolean.Boolean.if_\"]\n\t1385164117511547444 -> -1195286020108137669\n\t-1195286020108137669 [label=\"metadsl_core.integer.Integer.eq\"]\n\t-1195286020108137669 -> 3074193318072682397\n\t-1195286020108137669 -> -3261146991999286491\n\t-3261146991999286491 [label=\"metadsl_core.integer.Integer.from_int\"]\n\t-3261146991999286491 -> 5020133584677772467\n\t5020133584677772467 [label=0]\n\t1385164117511547444 -> -3761648464570011732\n\t-3761648464570011732 [label=\"metadsl_core.integer.Integer.from_int\"]\n\t-3761648464570011732 -> 5020133584678854992\n\t5020133584678854992 [label=1]\n\t1385164117511547444 -> 2637332905595539944\n\t2637332905595539944 [label=\"metadsl_core.integer.Integer.__mul__\"]\n\t2637332905595539944 -> 3074193318072682397\n\t2637332905595539944 -> -1675572972509393374\n\t-1675572972509393374 [label=\"metadsl_core.abstraction.Abstraction.__call__\"]\n\t-1675572972509393374 -> -4412449758852897637\n\t-1675572972509393374 -> 3119980685017379388\n\t3119980685017379388 [label=\"metadsl_core.integer.Integer.__sub__\"]\n\t3119980685017379388 -> 3074193318072682397\n\t3119980685017379388 -> -3761648464570011732\n\t890934412800432406 -> -3761648464570011732\n}",
         "label": null,
         "rule": "metadsl_core.integer.integer_math"
        },
        {
         "graph": "digraph {\n\t6307535739200845392 [label=\"metadsl_core.integer.Integer.__mul__\"]\n\t6307535739200845392 -> 448377045070022433\n\t448377045070022433 [label=\"metadsl_core.integer.Integer.from_int\"]\n\t448377045070022433 -> 5020133584679937517\n\t5020133584679937517 [label=2]\n\t6307535739200845392 -> 6356296302236423256\n\t6356296302236423256 [label=\"metadsl_core.abstraction.Abstraction.__call__\"]\n\t6356296302236423256 -> 3663321178405430733\n\t3663321178405430733 [label=\"metadsl_core.abstraction.Abstraction.__call__\"]\n\t3663321178405430733 -> 5518942449485092455\n\t5518942449485092455 [label=\"metadsl_core.abstraction.Abstraction.create\"]\n\t5518942449485092455 -> -4412449758852897637\n\t-4412449758852897637 [label=\"metadsl_core.abstraction.Abstraction.create_variable\"]\n\t-4412449758852897637 -> -2384720997415827536\n\t-2384720997415827536 [label=\"Variable(4512230200)\"]\n\t5518942449485092455 -> -7565997453560513547\n\t-7565997453560513547 [label=\"metadsl_core.abstraction.Abstraction.create\"]\n\t-7565997453560513547 -> 3074193318072682397\n\t3074193318072682397 [label=\"metadsl_core.abstraction.Abstraction.create_variable\"]\n\t3074193318072682397 -> 6838651039325283147\n\t6838651039325283147 [label=\"Variable(4512230816)\"]\n\t-7565997453560513547 -> 1385164117511547444\n\t1385164117511547444 [label=\"metadsl_core.boolean.Boolean.if_\"]\n\t1385164117511547444 -> -1195286020108137669\n\t-1195286020108137669 [label=\"metadsl_core.integer.Integer.eq\"]\n\t-1195286020108137669 -> 3074193318072682397\n\t-1195286020108137669 -> -3261146991999286491\n\t-3261146991999286491 [label=\"metadsl_core.integer.Integer.from_int\"]\n\t-3261146991999286491 -> 5020133584677772467\n\t5020133584677772467 [label=0]\n\t1385164117511547444 -> -3761648464570011732\n\t-3761648464570011732 [label=\"metadsl_core.integer.Integer.from_int\"]\n\t-3761648464570011732 -> 5020133584678854992\n\t5020133584678854992 [label=1]\n\t1385164117511547444 -> 2637332905595539944\n\t2637332905595539944 [label=\"metadsl_core.integer.Integer.__mul__\"]\n\t2637332905595539944 -> 3074193318072682397\n\t2637332905595539944 -> -1675572972509393374\n\t-1675572972509393374 [label=\"metadsl_core.abstraction.Abstraction.__call__\"]\n\t-1675572972509393374 -> -4412449758852897637\n\t-1675572972509393374 -> 3119980685017379388\n\t3119980685017379388 [label=\"metadsl_core.integer.Integer.__sub__\"]\n\t3119980685017379388 -> 3074193318072682397\n\t3119980685017379388 -> -3761648464570011732\n\t3663321178405430733 -> -8772386281735144096\n\t-8772386281735144096 [label=\"metadsl_core.abstraction.Abstraction.fix\"]\n\t-8772386281735144096 -> 5518942449485092455\n\t6356296302236423256 -> -3761648464570011732\n}",
         "label": null,
         "rule": "metadsl_core.abstraction.Abstraction.fix"
        },
        {
         "graph": "digraph {\n\t-7765265490210476489 [label=\"metadsl_core.integer.Integer.__mul__\"]\n\t-7765265490210476489 -> 448377045070022433\n\t448377045070022433 [label=\"metadsl_core.integer.Integer.from_int\"]\n\t448377045070022433 -> 5020133584679937517\n\t5020133584679937517 [label=2]\n\t-7765265490210476489 -> 7750776607353922382\n\t7750776607353922382 [label=\"metadsl_core.abstraction.Abstraction.__call__\"]\n\t7750776607353922382 -> 4981143409647387067\n\t4981143409647387067 [label=\"metadsl_core.abstraction.Abstraction.create\"]\n\t4981143409647387067 -> 3074193318072682397\n\t3074193318072682397 [label=\"metadsl_core.abstraction.Abstraction.create_variable\"]\n\t3074193318072682397 -> 6838651039325283147\n\t6838651039325283147 [label=\"Variable(4512230816)\"]\n\t4981143409647387067 -> 84613002794427500\n\t84613002794427500 [label=\"metadsl_core.boolean.Boolean.if_\"]\n\t84613002794427500 -> -1195286020108137669\n\t-1195286020108137669 [label=\"metadsl_core.integer.Integer.eq\"]\n\t-1195286020108137669 -> 3074193318072682397\n\t-1195286020108137669 -> -3261146991999286491\n\t-3261146991999286491 [label=\"metadsl_core.integer.Integer.from_int\"]\n\t-3261146991999286491 -> 5020133584677772467\n\t5020133584677772467 [label=0]\n\t84613002794427500 -> -3761648464570011732\n\t-3761648464570011732 [label=\"metadsl_core.integer.Integer.from_int\"]\n\t-3761648464570011732 -> 5020133584678854992\n\t5020133584678854992 [label=1]\n\t84613002794427500 -> -3140107303993910551\n\t-3140107303993910551 [label=\"metadsl_core.integer.Integer.__mul__\"]\n\t-3140107303993910551 -> 3074193318072682397\n\t-3140107303993910551 -> -8912127980259137359\n\t-8912127980259137359 [label=\"metadsl_core.abstraction.Abstraction.__call__\"]\n\t-8912127980259137359 -> -8772386281735144096\n\t-8772386281735144096 [label=\"metadsl_core.abstraction.Abstraction.fix\"]\n\t-8772386281735144096 -> 5518942449485092455\n\t5518942449485092455 [label=\"metadsl_core.abstraction.Abstraction.create\"]\n\t5518942449485092455 -> -4412449758852897637\n\t-4412449758852897637 [label=\"metadsl_core.abstraction.Abstraction.create_variable\"]\n\t-4412449758852897637 -> -2384720997415827536\n\t-2384720997415827536 [label=\"Variable(4512230200)\"]\n\t5518942449485092455 -> -7565997453560513547\n\t-7565997453560513547 [label=\"metadsl_core.abstraction.Abstraction.create\"]\n\t-7565997453560513547 -> 3074193318072682397\n\t-7565997453560513547 -> 1385164117511547444\n\t1385164117511547444 [label=\"metadsl_core.boolean.Boolean.if_\"]\n\t1385164117511547444 -> -1195286020108137669\n\t1385164117511547444 -> -3761648464570011732\n\t1385164117511547444 -> 2637332905595539944\n\t2637332905595539944 [label=\"metadsl_core.integer.Integer.__mul__\"]\n\t2637332905595539944 -> 3074193318072682397\n\t2637332905595539944 -> -1675572972509393374\n\t-1675572972509393374 [label=\"metadsl_core.abstraction.Abstraction.__call__\"]\n\t-1675572972509393374 -> -4412449758852897637\n\t-1675572972509393374 -> 3119980685017379388\n\t3119980685017379388 [label=\"metadsl_core.integer.Integer.__sub__\"]\n\t3119980685017379388 -> 3074193318072682397\n\t3119980685017379388 -> -3761648464570011732\n\t-8912127980259137359 -> 3119980685017379388\n\t7750776607353922382 -> -3761648464570011732\n}",
         "label": null,
         "rule": "metadsl_core.abstraction.beta_reduce"
        },
        {
         "graph": "digraph {\n\t3652484495453464368 [label=\"metadsl_core.integer.Integer.__mul__\"]\n\t3652484495453464368 -> 448377045070022433\n\t448377045070022433 [label=\"metadsl_core.integer.Integer.from_int\"]\n\t448377045070022433 -> 5020133584679937517\n\t5020133584679937517 [label=2]\n\t3652484495453464368 -> 1377156151534706699\n\t1377156151534706699 [label=\"metadsl_core.boolean.Boolean.if_\"]\n\t1377156151534706699 -> -1751257619993432315\n\t-1751257619993432315 [label=\"metadsl_core.integer.Integer.eq\"]\n\t-1751257619993432315 -> -3761648464570011732\n\t-3761648464570011732 [label=\"metadsl_core.integer.Integer.from_int\"]\n\t-3761648464570011732 -> 5020133584678854992\n\t5020133584678854992 [label=1]\n\t-1751257619993432315 -> -3261146991999286491\n\t-3261146991999286491 [label=\"metadsl_core.integer.Integer.from_int\"]\n\t-3261146991999286491 -> 5020133584677772467\n\t5020133584677772467 [label=0]\n\t1377156151534706699 -> -3761648464570011732\n\t1377156151534706699 -> -6117124248082786377\n\t-6117124248082786377 [label=\"metadsl_core.integer.Integer.__mul__\"]\n\t-6117124248082786377 -> -3761648464570011732\n\t-6117124248082786377 -> 769492007092866309\n\t769492007092866309 [label=\"metadsl_core.abstraction.Abstraction.__call__\"]\n\t769492007092866309 -> -8772386281735144096\n\t-8772386281735144096 [label=\"metadsl_core.abstraction.Abstraction.fix\"]\n\t-8772386281735144096 -> 5518942449485092455\n\t5518942449485092455 [label=\"metadsl_core.abstraction.Abstraction.create\"]\n\t5518942449485092455 -> -4412449758852897637\n\t-4412449758852897637 [label=\"metadsl_core.abstraction.Abstraction.create_variable\"]\n\t-4412449758852897637 -> -2384720997415827536\n\t-2384720997415827536 [label=\"Variable(4512230200)\"]\n\t5518942449485092455 -> -7565997453560513547\n\t-7565997453560513547 [label=\"metadsl_core.abstraction.Abstraction.create\"]\n\t-7565997453560513547 -> 3074193318072682397\n\t3074193318072682397 [label=\"metadsl_core.abstraction.Abstraction.create_variable\"]\n\t3074193318072682397 -> 6838651039325283147\n\t6838651039325283147 [label=\"Variable(4512230816)\"]\n\t-7565997453560513547 -> 1385164117511547444\n\t1385164117511547444 [label=\"metadsl_core.boolean.Boolean.if_\"]\n\t1385164117511547444 -> -1195286020108137669\n\t-1195286020108137669 [label=\"metadsl_core.integer.Integer.eq\"]\n\t-1195286020108137669 -> 3074193318072682397\n\t-1195286020108137669 -> -3261146991999286491\n\t1385164117511547444 -> -3761648464570011732\n\t1385164117511547444 -> 2637332905595539944\n\t2637332905595539944 [label=\"metadsl_core.integer.Integer.__mul__\"]\n\t2637332905595539944 -> 3074193318072682397\n\t2637332905595539944 -> -1675572972509393374\n\t-1675572972509393374 [label=\"metadsl_core.abstraction.Abstraction.__call__\"]\n\t-1675572972509393374 -> -4412449758852897637\n\t-1675572972509393374 -> 3119980685017379388\n\t3119980685017379388 [label=\"metadsl_core.integer.Integer.__sub__\"]\n\t3119980685017379388 -> 3074193318072682397\n\t3119980685017379388 -> -3761648464570011732\n\t769492007092866309 -> -1396514070026963675\n\t-1396514070026963675 [label=\"metadsl_core.integer.Integer.__sub__\"]\n\t-1396514070026963675 -> -3761648464570011732\n\t-1396514070026963675 -> -3761648464570011732\n}",
         "label": null,
         "rule": "metadsl_core.abstraction.beta_reduce"
        },
        {
         "graph": "digraph {\n\t-39353576429573746 [label=\"metadsl_core.integer.Integer.__mul__\"]\n\t-39353576429573746 -> 448377045070022433\n\t448377045070022433 [label=\"metadsl_core.integer.Integer.from_int\"]\n\t448377045070022433 -> 5020133584679937517\n\t5020133584679937517 [label=2]\n\t-39353576429573746 -> 2562681504621179680\n\t2562681504621179680 [label=\"metadsl_core.boolean.Boolean.if_\"]\n\t2562681504621179680 -> -8881034144831541911\n\t-8881034144831541911 [label=\"metadsl_core.boolean.Boolean.create\"]\n\t-8881034144831541911 -> -1343543487855198425\n\t-1343543487855198425 [label=False]\n\t2562681504621179680 -> -3761648464570011732\n\t-3761648464570011732 [label=\"metadsl_core.integer.Integer.from_int\"]\n\t-3761648464570011732 -> 5020133584678854992\n\t5020133584678854992 [label=1]\n\t2562681504621179680 -> -6117124248082786377\n\t-6117124248082786377 [label=\"metadsl_core.integer.Integer.__mul__\"]\n\t-6117124248082786377 -> -3761648464570011732\n\t-6117124248082786377 -> 769492007092866309\n\t769492007092866309 [label=\"metadsl_core.abstraction.Abstraction.__call__\"]\n\t769492007092866309 -> -8772386281735144096\n\t-8772386281735144096 [label=\"metadsl_core.abstraction.Abstraction.fix\"]\n\t-8772386281735144096 -> 5518942449485092455\n\t5518942449485092455 [label=\"metadsl_core.abstraction.Abstraction.create\"]\n\t5518942449485092455 -> -4412449758852897637\n\t-4412449758852897637 [label=\"metadsl_core.abstraction.Abstraction.create_variable\"]\n\t-4412449758852897637 -> -2384720997415827536\n\t-2384720997415827536 [label=\"Variable(4512230200)\"]\n\t5518942449485092455 -> -7565997453560513547\n\t-7565997453560513547 [label=\"metadsl_core.abstraction.Abstraction.create\"]\n\t-7565997453560513547 -> 3074193318072682397\n\t3074193318072682397 [label=\"metadsl_core.abstraction.Abstraction.create_variable\"]\n\t3074193318072682397 -> 6838651039325283147\n\t6838651039325283147 [label=\"Variable(4512230816)\"]\n\t-7565997453560513547 -> 1385164117511547444\n\t1385164117511547444 [label=\"metadsl_core.boolean.Boolean.if_\"]\n\t1385164117511547444 -> -1195286020108137669\n\t-1195286020108137669 [label=\"metadsl_core.integer.Integer.eq\"]\n\t-1195286020108137669 -> 3074193318072682397\n\t-1195286020108137669 -> -3261146991999286491\n\t-3261146991999286491 [label=\"metadsl_core.integer.Integer.from_int\"]\n\t-3261146991999286491 -> 5020133584677772467\n\t5020133584677772467 [label=0]\n\t1385164117511547444 -> -3761648464570011732\n\t1385164117511547444 -> 2637332905595539944\n\t2637332905595539944 [label=\"metadsl_core.integer.Integer.__mul__\"]\n\t2637332905595539944 -> 3074193318072682397\n\t2637332905595539944 -> -1675572972509393374\n\t-1675572972509393374 [label=\"metadsl_core.abstraction.Abstraction.__call__\"]\n\t-1675572972509393374 -> -4412449758852897637\n\t-1675572972509393374 -> 3119980685017379388\n\t3119980685017379388 [label=\"metadsl_core.integer.Integer.__sub__\"]\n\t3119980685017379388 -> 3074193318072682397\n\t3119980685017379388 -> -3761648464570011732\n\t769492007092866309 -> -1396514070026963675\n\t-1396514070026963675 [label=\"metadsl_core.integer.Integer.__sub__\"]\n\t-1396514070026963675 -> -3761648464570011732\n\t-1396514070026963675 -> -3761648464570011732\n}",
         "label": null,
         "rule": "metadsl_core.integer.integer_eq"
        },
        {
         "graph": "digraph {\n\t-9120651700188310720 [label=\"metadsl_core.integer.Integer.__mul__\"]\n\t-9120651700188310720 -> 448377045070022433\n\t448377045070022433 [label=\"metadsl_core.integer.Integer.from_int\"]\n\t448377045070022433 -> 5020133584679937517\n\t5020133584679937517 [label=2]\n\t-9120651700188310720 -> -6117124248082786377\n\t-6117124248082786377 [label=\"metadsl_core.integer.Integer.__mul__\"]\n\t-6117124248082786377 -> -3761648464570011732\n\t-3761648464570011732 [label=\"metadsl_core.integer.Integer.from_int\"]\n\t-3761648464570011732 -> 5020133584678854992\n\t5020133584678854992 [label=1]\n\t-6117124248082786377 -> 769492007092866309\n\t769492007092866309 [label=\"metadsl_core.abstraction.Abstraction.__call__\"]\n\t769492007092866309 -> -8772386281735144096\n\t-8772386281735144096 [label=\"metadsl_core.abstraction.Abstraction.fix\"]\n\t-8772386281735144096 -> 5518942449485092455\n\t5518942449485092455 [label=\"metadsl_core.abstraction.Abstraction.create\"]\n\t5518942449485092455 -> -4412449758852897637\n\t-4412449758852897637 [label=\"metadsl_core.abstraction.Abstraction.create_variable\"]\n\t-4412449758852897637 -> -2384720997415827536\n\t-2384720997415827536 [label=\"Variable(4512230200)\"]\n\t5518942449485092455 -> -7565997453560513547\n\t-7565997453560513547 [label=\"metadsl_core.abstraction.Abstraction.create\"]\n\t-7565997453560513547 -> 3074193318072682397\n\t3074193318072682397 [label=\"metadsl_core.abstraction.Abstraction.create_variable\"]\n\t3074193318072682397 -> 6838651039325283147\n\t6838651039325283147 [label=\"Variable(4512230816)\"]\n\t-7565997453560513547 -> 1385164117511547444\n\t1385164117511547444 [label=\"metadsl_core.boolean.Boolean.if_\"]\n\t1385164117511547444 -> -1195286020108137669\n\t-1195286020108137669 [label=\"metadsl_core.integer.Integer.eq\"]\n\t-1195286020108137669 -> 3074193318072682397\n\t-1195286020108137669 -> -3261146991999286491\n\t-3261146991999286491 [label=\"metadsl_core.integer.Integer.from_int\"]\n\t-3261146991999286491 -> 5020133584677772467\n\t5020133584677772467 [label=0]\n\t1385164117511547444 -> -3761648464570011732\n\t1385164117511547444 -> 2637332905595539944\n\t2637332905595539944 [label=\"metadsl_core.integer.Integer.__mul__\"]\n\t2637332905595539944 -> 3074193318072682397\n\t2637332905595539944 -> -1675572972509393374\n\t-1675572972509393374 [label=\"metadsl_core.abstraction.Abstraction.__call__\"]\n\t-1675572972509393374 -> -4412449758852897637\n\t-1675572972509393374 -> 3119980685017379388\n\t3119980685017379388 [label=\"metadsl_core.integer.Integer.__sub__\"]\n\t3119980685017379388 -> 3074193318072682397\n\t3119980685017379388 -> -3761648464570011732\n\t769492007092866309 -> -1396514070026963675\n\t-1396514070026963675 [label=\"metadsl_core.integer.Integer.__sub__\"]\n\t-1396514070026963675 -> -3761648464570011732\n\t-1396514070026963675 -> -3761648464570011732\n}",
         "label": null,
         "rule": "metadsl_core.boolean.if_"
        },
        {
         "graph": "digraph {\n\t-6630332594634097209 [label=\"metadsl_core.integer.Integer.__mul__\"]\n\t-6630332594634097209 -> 448377045070022433\n\t448377045070022433 [label=\"metadsl_core.integer.Integer.from_int\"]\n\t448377045070022433 -> 5020133584679937517\n\t5020133584679937517 [label=2]\n\t-6630332594634097209 -> 2679416529883427614\n\t2679416529883427614 [label=\"metadsl_core.integer.Integer.__mul__\"]\n\t2679416529883427614 -> -3761648464570011732\n\t-3761648464570011732 [label=\"metadsl_core.integer.Integer.from_int\"]\n\t-3761648464570011732 -> 5020133584678854992\n\t5020133584678854992 [label=1]\n\t2679416529883427614 -> 4055601387710584609\n\t4055601387710584609 [label=\"metadsl_core.abstraction.Abstraction.__call__\"]\n\t4055601387710584609 -> -8772386281735144096\n\t-8772386281735144096 [label=\"metadsl_core.abstraction.Abstraction.fix\"]\n\t-8772386281735144096 -> 5518942449485092455\n\t5518942449485092455 [label=\"metadsl_core.abstraction.Abstraction.create\"]\n\t5518942449485092455 -> -4412449758852897637\n\t-4412449758852897637 [label=\"metadsl_core.abstraction.Abstraction.create_variable\"]\n\t-4412449758852897637 -> -2384720997415827536\n\t-2384720997415827536 [label=\"Variable(4512230200)\"]\n\t5518942449485092455 -> -7565997453560513547\n\t-7565997453560513547 [label=\"metadsl_core.abstraction.Abstraction.create\"]\n\t-7565997453560513547 -> 3074193318072682397\n\t3074193318072682397 [label=\"metadsl_core.abstraction.Abstraction.create_variable\"]\n\t3074193318072682397 -> 6838651039325283147\n\t6838651039325283147 [label=\"Variable(4512230816)\"]\n\t-7565997453560513547 -> 1385164117511547444\n\t1385164117511547444 [label=\"metadsl_core.boolean.Boolean.if_\"]\n\t1385164117511547444 -> -1195286020108137669\n\t-1195286020108137669 [label=\"metadsl_core.integer.Integer.eq\"]\n\t-1195286020108137669 -> 3074193318072682397\n\t-1195286020108137669 -> -3261146991999286491\n\t-3261146991999286491 [label=\"metadsl_core.integer.Integer.from_int\"]\n\t-3261146991999286491 -> 5020133584677772467\n\t5020133584677772467 [label=0]\n\t1385164117511547444 -> -3761648464570011732\n\t1385164117511547444 -> 2637332905595539944\n\t2637332905595539944 [label=\"metadsl_core.integer.Integer.__mul__\"]\n\t2637332905595539944 -> 3074193318072682397\n\t2637332905595539944 -> -1675572972509393374\n\t-1675572972509393374 [label=\"metadsl_core.abstraction.Abstraction.__call__\"]\n\t-1675572972509393374 -> -4412449758852897637\n\t-1675572972509393374 -> 3119980685017379388\n\t3119980685017379388 [label=\"metadsl_core.integer.Integer.__sub__\"]\n\t3119980685017379388 -> 3074193318072682397\n\t3119980685017379388 -> -3761648464570011732\n\t4055601387710584609 -> -3261146991999286491\n}",
         "label": null,
         "rule": "metadsl_core.integer.integer_math"
        },
        {
         "graph": "digraph {\n\t4600608742277927714 [label=\"metadsl_core.integer.Integer.__mul__\"]\n\t4600608742277927714 -> 448377045070022433\n\t448377045070022433 [label=\"metadsl_core.integer.Integer.from_int\"]\n\t448377045070022433 -> 5020133584679937517\n\t5020133584679937517 [label=2]\n\t4600608742277927714 -> -2215361674000336040\n\t-2215361674000336040 [label=\"metadsl_core.integer.Integer.__mul__\"]\n\t-2215361674000336040 -> -3761648464570011732\n\t-3761648464570011732 [label=\"metadsl_core.integer.Integer.from_int\"]\n\t-3761648464570011732 -> 5020133584678854992\n\t5020133584678854992 [label=1]\n\t-2215361674000336040 -> 3023690624609158355\n\t3023690624609158355 [label=\"metadsl_core.abstraction.Abstraction.__call__\"]\n\t3023690624609158355 -> 3663321178405430733\n\t3663321178405430733 [label=\"metadsl_core.abstraction.Abstraction.__call__\"]\n\t3663321178405430733 -> 5518942449485092455\n\t5518942449485092455 [label=\"metadsl_core.abstraction.Abstraction.create\"]\n\t5518942449485092455 -> -4412449758852897637\n\t-4412449758852897637 [label=\"metadsl_core.abstraction.Abstraction.create_variable\"]\n\t-4412449758852897637 -> -2384720997415827536\n\t-2384720997415827536 [label=\"Variable(4512230200)\"]\n\t5518942449485092455 -> -7565997453560513547\n\t-7565997453560513547 [label=\"metadsl_core.abstraction.Abstraction.create\"]\n\t-7565997453560513547 -> 3074193318072682397\n\t3074193318072682397 [label=\"metadsl_core.abstraction.Abstraction.create_variable\"]\n\t3074193318072682397 -> 6838651039325283147\n\t6838651039325283147 [label=\"Variable(4512230816)\"]\n\t-7565997453560513547 -> 1385164117511547444\n\t1385164117511547444 [label=\"metadsl_core.boolean.Boolean.if_\"]\n\t1385164117511547444 -> -1195286020108137669\n\t-1195286020108137669 [label=\"metadsl_core.integer.Integer.eq\"]\n\t-1195286020108137669 -> 3074193318072682397\n\t-1195286020108137669 -> -3261146991999286491\n\t-3261146991999286491 [label=\"metadsl_core.integer.Integer.from_int\"]\n\t-3261146991999286491 -> 5020133584677772467\n\t5020133584677772467 [label=0]\n\t1385164117511547444 -> -3761648464570011732\n\t1385164117511547444 -> 2637332905595539944\n\t2637332905595539944 [label=\"metadsl_core.integer.Integer.__mul__\"]\n\t2637332905595539944 -> 3074193318072682397\n\t2637332905595539944 -> -1675572972509393374\n\t-1675572972509393374 [label=\"metadsl_core.abstraction.Abstraction.__call__\"]\n\t-1675572972509393374 -> -4412449758852897637\n\t-1675572972509393374 -> 3119980685017379388\n\t3119980685017379388 [label=\"metadsl_core.integer.Integer.__sub__\"]\n\t3119980685017379388 -> 3074193318072682397\n\t3119980685017379388 -> -3761648464570011732\n\t3663321178405430733 -> -8772386281735144096\n\t-8772386281735144096 [label=\"metadsl_core.abstraction.Abstraction.fix\"]\n\t-8772386281735144096 -> 5518942449485092455\n\t3023690624609158355 -> -3261146991999286491\n}",
         "label": null,
         "rule": "metadsl_core.abstraction.Abstraction.fix"
        },
        {
         "graph": "digraph {\n\t7254811946636134561 [label=\"metadsl_core.integer.Integer.__mul__\"]\n\t7254811946636134561 -> 448377045070022433\n\t448377045070022433 [label=\"metadsl_core.integer.Integer.from_int\"]\n\t448377045070022433 -> 5020133584679937517\n\t5020133584679937517 [label=2]\n\t7254811946636134561 -> 2183662999503847051\n\t2183662999503847051 [label=\"metadsl_core.integer.Integer.__mul__\"]\n\t2183662999503847051 -> -3761648464570011732\n\t-3761648464570011732 [label=\"metadsl_core.integer.Integer.from_int\"]\n\t-3761648464570011732 -> 5020133584678854992\n\t5020133584678854992 [label=1]\n\t2183662999503847051 -> 6110533106644845801\n\t6110533106644845801 [label=\"metadsl_core.abstraction.Abstraction.__call__\"]\n\t6110533106644845801 -> 4981143409647387067\n\t4981143409647387067 [label=\"metadsl_core.abstraction.Abstraction.create\"]\n\t4981143409647387067 -> 3074193318072682397\n\t3074193318072682397 [label=\"metadsl_core.abstraction.Abstraction.create_variable\"]\n\t3074193318072682397 -> 6838651039325283147\n\t6838651039325283147 [label=\"Variable(4512230816)\"]\n\t4981143409647387067 -> 84613002794427500\n\t84613002794427500 [label=\"metadsl_core.boolean.Boolean.if_\"]\n\t84613002794427500 -> -1195286020108137669\n\t-1195286020108137669 [label=\"metadsl_core.integer.Integer.eq\"]\n\t-1195286020108137669 -> 3074193318072682397\n\t-1195286020108137669 -> -3261146991999286491\n\t-3261146991999286491 [label=\"metadsl_core.integer.Integer.from_int\"]\n\t-3261146991999286491 -> 5020133584677772467\n\t5020133584677772467 [label=0]\n\t84613002794427500 -> -3761648464570011732\n\t84613002794427500 -> -3140107303993910551\n\t-3140107303993910551 [label=\"metadsl_core.integer.Integer.__mul__\"]\n\t-3140107303993910551 -> 3074193318072682397\n\t-3140107303993910551 -> -8912127980259137359\n\t-8912127980259137359 [label=\"metadsl_core.abstraction.Abstraction.__call__\"]\n\t-8912127980259137359 -> -8772386281735144096\n\t-8772386281735144096 [label=\"metadsl_core.abstraction.Abstraction.fix\"]\n\t-8772386281735144096 -> 5518942449485092455\n\t5518942449485092455 [label=\"metadsl_core.abstraction.Abstraction.create\"]\n\t5518942449485092455 -> -4412449758852897637\n\t-4412449758852897637 [label=\"metadsl_core.abstraction.Abstraction.create_variable\"]\n\t-4412449758852897637 -> -2384720997415827536\n\t-2384720997415827536 [label=\"Variable(4512230200)\"]\n\t5518942449485092455 -> -7565997453560513547\n\t-7565997453560513547 [label=\"metadsl_core.abstraction.Abstraction.create\"]\n\t-7565997453560513547 -> 3074193318072682397\n\t-7565997453560513547 -> 1385164117511547444\n\t1385164117511547444 [label=\"metadsl_core.boolean.Boolean.if_\"]\n\t1385164117511547444 -> -1195286020108137669\n\t1385164117511547444 -> -3761648464570011732\n\t1385164117511547444 -> 2637332905595539944\n\t2637332905595539944 [label=\"metadsl_core.integer.Integer.__mul__\"]\n\t2637332905595539944 -> 3074193318072682397\n\t2637332905595539944 -> -1675572972509393374\n\t-1675572972509393374 [label=\"metadsl_core.abstraction.Abstraction.__call__\"]\n\t-1675572972509393374 -> -4412449758852897637\n\t-1675572972509393374 -> 3119980685017379388\n\t3119980685017379388 [label=\"metadsl_core.integer.Integer.__sub__\"]\n\t3119980685017379388 -> 3074193318072682397\n\t3119980685017379388 -> -3761648464570011732\n\t-8912127980259137359 -> 3119980685017379388\n\t6110533106644845801 -> -3261146991999286491\n}",
         "label": null,
         "rule": "metadsl_core.abstraction.beta_reduce"
        },
        {
         "graph": "digraph {\n\t6416804791659013553 [label=\"metadsl_core.integer.Integer.__mul__\"]\n\t6416804791659013553 -> 448377045070022433\n\t448377045070022433 [label=\"metadsl_core.integer.Integer.from_int\"]\n\t448377045070022433 -> 5020133584679937517\n\t5020133584679937517 [label=2]\n\t6416804791659013553 -> 5839410727446015861\n\t5839410727446015861 [label=\"metadsl_core.integer.Integer.__mul__\"]\n\t5839410727446015861 -> -3761648464570011732\n\t-3761648464570011732 [label=\"metadsl_core.integer.Integer.from_int\"]\n\t-3761648464570011732 -> 5020133584678854992\n\t5020133584678854992 [label=1]\n\t5839410727446015861 -> 7079640431812953582\n\t7079640431812953582 [label=\"metadsl_core.boolean.Boolean.if_\"]\n\t7079640431812953582 -> 8744182282586139310\n\t8744182282586139310 [label=\"metadsl_core.integer.Integer.eq\"]\n\t8744182282586139310 -> -3261146991999286491\n\t-3261146991999286491 [label=\"metadsl_core.integer.Integer.from_int\"]\n\t-3261146991999286491 -> 5020133584677772467\n\t5020133584677772467 [label=0]\n\t8744182282586139310 -> -3261146991999286491\n\t7079640431812953582 -> -3761648464570011732\n\t7079640431812953582 -> -1309345982556541089\n\t-1309345982556541089 [label=\"metadsl_core.integer.Integer.__mul__\"]\n\t-1309345982556541089 -> -3261146991999286491\n\t-1309345982556541089 -> -1958176877715010140\n\t-1958176877715010140 [label=\"metadsl_core.abstraction.Abstraction.__call__\"]\n\t-1958176877715010140 -> -8772386281735144096\n\t-8772386281735144096 [label=\"metadsl_core.abstraction.Abstraction.fix\"]\n\t-8772386281735144096 -> 5518942449485092455\n\t5518942449485092455 [label=\"metadsl_core.abstraction.Abstraction.create\"]\n\t5518942449485092455 -> -4412449758852897637\n\t-4412449758852897637 [label=\"metadsl_core.abstraction.Abstraction.create_variable\"]\n\t-4412449758852897637 -> -2384720997415827536\n\t-2384720997415827536 [label=\"Variable(4512230200)\"]\n\t5518942449485092455 -> -7565997453560513547\n\t-7565997453560513547 [label=\"metadsl_core.abstraction.Abstraction.create\"]\n\t-7565997453560513547 -> 3074193318072682397\n\t3074193318072682397 [label=\"metadsl_core.abstraction.Abstraction.create_variable\"]\n\t3074193318072682397 -> 6838651039325283147\n\t6838651039325283147 [label=\"Variable(4512230816)\"]\n\t-7565997453560513547 -> 1385164117511547444\n\t1385164117511547444 [label=\"metadsl_core.boolean.Boolean.if_\"]\n\t1385164117511547444 -> -1195286020108137669\n\t-1195286020108137669 [label=\"metadsl_core.integer.Integer.eq\"]\n\t-1195286020108137669 -> 3074193318072682397\n\t-1195286020108137669 -> -3261146991999286491\n\t1385164117511547444 -> -3761648464570011732\n\t1385164117511547444 -> 2637332905595539944\n\t2637332905595539944 [label=\"metadsl_core.integer.Integer.__mul__\"]\n\t2637332905595539944 -> 3074193318072682397\n\t2637332905595539944 -> -1675572972509393374\n\t-1675572972509393374 [label=\"metadsl_core.abstraction.Abstraction.__call__\"]\n\t-1675572972509393374 -> -4412449758852897637\n\t-1675572972509393374 -> 3119980685017379388\n\t3119980685017379388 [label=\"metadsl_core.integer.Integer.__sub__\"]\n\t3119980685017379388 -> 3074193318072682397\n\t3119980685017379388 -> -3761648464570011732\n\t-1958176877715010140 -> -930789844318381307\n\t-930789844318381307 [label=\"metadsl_core.integer.Integer.__sub__\"]\n\t-930789844318381307 -> -3261146991999286491\n\t-930789844318381307 -> -3761648464570011732\n}",
         "label": null,
         "rule": "metadsl_core.abstraction.beta_reduce"
        },
        {
         "graph": "digraph {\n\t-4708183877119924272 [label=\"metadsl_core.integer.Integer.__mul__\"]\n\t-4708183877119924272 -> 448377045070022433\n\t448377045070022433 [label=\"metadsl_core.integer.Integer.from_int\"]\n\t448377045070022433 -> 5020133584679937517\n\t5020133584679937517 [label=2]\n\t-4708183877119924272 -> -5868635635383609230\n\t-5868635635383609230 [label=\"metadsl_core.integer.Integer.__mul__\"]\n\t-5868635635383609230 -> -3761648464570011732\n\t-3761648464570011732 [label=\"metadsl_core.integer.Integer.from_int\"]\n\t-3761648464570011732 -> 5020133584678854992\n\t5020133584678854992 [label=1]\n\t-5868635635383609230 -> -1062840018330880209\n\t-1062840018330880209 [label=\"metadsl_core.boolean.Boolean.if_\"]\n\t-1062840018330880209 -> -8603486734980525913\n\t-8603486734980525913 [label=\"metadsl_core.boolean.Boolean.create\"]\n\t-8603486734980525913 -> -1343543487854115900\n\t-1343543487854115900 [label=True]\n\t-1062840018330880209 -> -3761648464570011732\n\t-1062840018330880209 -> -1309345982556541089\n\t-1309345982556541089 [label=\"metadsl_core.integer.Integer.__mul__\"]\n\t-1309345982556541089 -> -3261146991999286491\n\t-3261146991999286491 [label=\"metadsl_core.integer.Integer.from_int\"]\n\t-3261146991999286491 -> 5020133584677772467\n\t5020133584677772467 [label=0]\n\t-1309345982556541089 -> -1958176877715010140\n\t-1958176877715010140 [label=\"metadsl_core.abstraction.Abstraction.__call__\"]\n\t-1958176877715010140 -> -8772386281735144096\n\t-8772386281735144096 [label=\"metadsl_core.abstraction.Abstraction.fix\"]\n\t-8772386281735144096 -> 5518942449485092455\n\t5518942449485092455 [label=\"metadsl_core.abstraction.Abstraction.create\"]\n\t5518942449485092455 -> -4412449758852897637\n\t-4412449758852897637 [label=\"metadsl_core.abstraction.Abstraction.create_variable\"]\n\t-4412449758852897637 -> -2384720997415827536\n\t-2384720997415827536 [label=\"Variable(4512230200)\"]\n\t5518942449485092455 -> -7565997453560513547\n\t-7565997453560513547 [label=\"metadsl_core.abstraction.Abstraction.create\"]\n\t-7565997453560513547 -> 3074193318072682397\n\t3074193318072682397 [label=\"metadsl_core.abstraction.Abstraction.create_variable\"]\n\t3074193318072682397 -> 6838651039325283147\n\t6838651039325283147 [label=\"Variable(4512230816)\"]\n\t-7565997453560513547 -> 1385164117511547444\n\t1385164117511547444 [label=\"metadsl_core.boolean.Boolean.if_\"]\n\t1385164117511547444 -> -1195286020108137669\n\t-1195286020108137669 [label=\"metadsl_core.integer.Integer.eq\"]\n\t-1195286020108137669 -> 3074193318072682397\n\t-1195286020108137669 -> -3261146991999286491\n\t1385164117511547444 -> -3761648464570011732\n\t1385164117511547444 -> 2637332905595539944\n\t2637332905595539944 [label=\"metadsl_core.integer.Integer.__mul__\"]\n\t2637332905595539944 -> 3074193318072682397\n\t2637332905595539944 -> -1675572972509393374\n\t-1675572972509393374 [label=\"metadsl_core.abstraction.Abstraction.__call__\"]\n\t-1675572972509393374 -> -4412449758852897637\n\t-1675572972509393374 -> 3119980685017379388\n\t3119980685017379388 [label=\"metadsl_core.integer.Integer.__sub__\"]\n\t3119980685017379388 -> 3074193318072682397\n\t3119980685017379388 -> -3761648464570011732\n\t-1958176877715010140 -> -930789844318381307\n\t-930789844318381307 [label=\"metadsl_core.integer.Integer.__sub__\"]\n\t-930789844318381307 -> -3261146991999286491\n\t-930789844318381307 -> -3761648464570011732\n}",
         "label": null,
         "rule": "metadsl_core.integer.integer_eq"
        },
        {
         "graph": "digraph {\n\t-4711146507285855794 [label=\"metadsl_core.integer.Integer.__mul__\"]\n\t-4711146507285855794 -> 448377045070022433\n\t448377045070022433 [label=\"metadsl_core.integer.Integer.from_int\"]\n\t448377045070022433 -> 5020133584679937517\n\t5020133584679937517 [label=2]\n\t-4711146507285855794 -> 5504918128939009495\n\t5504918128939009495 [label=\"metadsl_core.integer.Integer.__mul__\"]\n\t5504918128939009495 -> -3761648464570011732\n\t-3761648464570011732 [label=\"metadsl_core.integer.Integer.from_int\"]\n\t-3761648464570011732 -> 5020133584678854992\n\t5020133584678854992 [label=1]\n\t5504918128939009495 -> -3761648464570011732\n}",
         "label": null,
         "rule": "metadsl_core.boolean.if_"
        },
        {
         "graph": "digraph {\n\t7273508617291920197 [label=\"metadsl_core.integer.Integer.__mul__\"]\n\t7273508617291920197 -> 448377045070022433\n\t448377045070022433 [label=\"metadsl_core.integer.Integer.from_int\"]\n\t448377045070022433 -> 5020133584679937517\n\t5020133584679937517 [label=2]\n\t7273508617291920197 -> -3761648464570011732\n\t-3761648464570011732 [label=\"metadsl_core.integer.Integer.from_int\"]\n\t-3761648464570011732 -> 5020133584678854992\n\t5020133584678854992 [label=1]\n}",
         "label": null,
         "rule": "metadsl_core.integer.integer_math"
        },
        {
         "graph": "digraph {\n\t448377045070022433 [label=\"metadsl_core.integer.Integer.from_int\"]\n\t448377045070022433 -> 5020133584679937517\n\t5020133584679937517 [label=2]\n}",
         "label": "execute",
         "rule": "metadsl_core.integer.integer_math"
        }
       ]
      },
      "text/plain": [
       "Typez(definitions=None, nodes={'-8098774356153391513': PrimitiveNode(type='function', repr='<function factorial at 0x10c4a10d0>'), '-6000412868027038455': CallNode(function='metadsl_core.abstraction.Abstraction.from_fn', type_params=None, args=['-8098774356153391513'], kwargs=None), '25351356777524522': CallNode(function='metadsl_core.abstraction.Abstraction.fix', type_params=None, args=['-6000412868027038455'], kwargs=None), '5020133584679937517': PrimitiveNode(type='int', repr='2'), '448377045070022433': CallNode(function='metadsl_core.integer.Integer.from_int', type_params=None, args=['5020133584679937517'], kwargs=None), '4705567592998746227': CallNode(function='metadsl_core.abstraction.Abstraction.__call__', type_params={'U': DeclaredTypeInstance(type='metadsl_core.integer.Integer', params=None), 'T': DeclaredTypeInstance(type='metadsl_core.integer.Integer', params=None)}, args=['25351356777524522', '448377045070022433'], kwargs=None), '-2384720997415827536': PrimitiveNode(type='metadsl_core.abstraction.Variable', repr='Variable(4512230200)'), '-4412449758852897637': CallNode(function='metadsl_core.abstraction.Abstraction.create_variable', type_params={'U': DeclaredTypeInstance(type='metadsl_core.abstraction.Abstraction', params={'U': DeclaredTypeInstance(type='metadsl_core.integer.Integer', params=None), 'T': DeclaredTypeInstance(type='metadsl_core.integer.Integer', params=None)}), 'T': DeclaredTypeInstance(type='metadsl_core.abstraction.Abstraction', params={'U': DeclaredTypeInstance(type='metadsl_core.integer.Integer', params=None), 'T': DeclaredTypeInstance(type='metadsl_core.integer.Integer', params=None)})}, args=['-2384720997415827536'], kwargs=None), '1124598008192259920': PrimitiveNode(type='function', repr='<function factorial.<locals>.inner at 0x10cf47488>'), '7608273443401941095': CallNode(function='metadsl_core.abstraction.Abstraction.from_fn', type_params=None, args=['1124598008192259920'], kwargs=None), '3992774502831254136': CallNode(function='metadsl_core.abstraction.Abstraction.create', type_params={'U': DeclaredTypeInstance(type='metadsl_core.abstraction.Abstraction', params={'U': DeclaredTypeInstance(type='metadsl_core.integer.Integer', params=None), 'T': DeclaredTypeInstance(type='metadsl_core.integer.Integer', params=None)}), 'T': DeclaredTypeInstance(type='metadsl_core.abstraction.Abstraction', params={'U': DeclaredTypeInstance(type='metadsl_core.integer.Integer', params=None), 'T': DeclaredTypeInstance(type='metadsl_core.integer.Integer', params=None)})}, args=['-4412449758852897637', '7608273443401941095'], kwargs=None), '2249896317061253127': CallNode(function='metadsl_core.abstraction.Abstraction.fix', type_params=None, args=['3992774502831254136'], kwargs=None), '4623934173833200803': CallNode(function='metadsl_core.abstraction.Abstraction.__call__', type_params={'U': DeclaredTypeInstance(type='metadsl_core.integer.Integer', params=None), 'T': DeclaredTypeInstance(type='metadsl_core.integer.Integer', params=None)}, args=['2249896317061253127', '448377045070022433'], kwargs=None), '6838651039325283147': PrimitiveNode(type='metadsl_core.abstraction.Variable', repr='Variable(4512230816)'), '3074193318072682397': CallNode(function='metadsl_core.abstraction.Abstraction.create_variable', type_params={'U': DeclaredTypeInstance(type='metadsl_core.integer.Integer', params=None), 'T': DeclaredTypeInstance(type='metadsl_core.integer.Integer', params=None)}, args=['6838651039325283147'], kwargs=None), '5020133584677772467': PrimitiveNode(type='int', repr='0'), '-3261146991999286491': CallNode(function='metadsl_core.integer.Integer.from_int', type_params=None, args=['5020133584677772467'], kwargs=None), '-1195286020108137669': CallNode(function='metadsl_core.integer.Integer.eq', type_params=None, args=['3074193318072682397', '-3261146991999286491'], kwargs=None), '5020133584678854992': PrimitiveNode(type='int', repr='1'), '-3761648464570011732': CallNode(function='metadsl_core.integer.Integer.from_int', type_params=None, args=['5020133584678854992'], kwargs=None), '3119980685017379388': CallNode(function='metadsl_core.integer.Integer.__sub__', type_params=None, args=['3074193318072682397', '-3761648464570011732'], kwargs=None), '-1675572972509393374': CallNode(function='metadsl_core.abstraction.Abstraction.__call__', type_params={'U': DeclaredTypeInstance(type='metadsl_core.integer.Integer', params=None), 'T': DeclaredTypeInstance(type='metadsl_core.integer.Integer', params=None)}, args=['-4412449758852897637', '3119980685017379388'], kwargs=None), '2637332905595539944': CallNode(function='metadsl_core.integer.Integer.__mul__', type_params=None, args=['3074193318072682397', '-1675572972509393374'], kwargs=None), '1385164117511547444': CallNode(function='metadsl_core.boolean.Boolean.if_', type_params=None, args=['-1195286020108137669', '-3761648464570011732', '2637332905595539944'], kwargs=None), '-7565997453560513547': CallNode(function='metadsl_core.abstraction.Abstraction.create', type_params={'U': DeclaredTypeInstance(type='metadsl_core.integer.Integer', params=None), 'T': DeclaredTypeInstance(type='metadsl_core.integer.Integer', params=None)}, args=['3074193318072682397', '1385164117511547444'], kwargs=None), '5518942449485092455': CallNode(function='metadsl_core.abstraction.Abstraction.create', type_params={'U': DeclaredTypeInstance(type='metadsl_core.abstraction.Abstraction', params={'U': DeclaredTypeInstance(type='metadsl_core.integer.Integer', params=None), 'T': DeclaredTypeInstance(type='metadsl_core.integer.Integer', params=None)}), 'T': DeclaredTypeInstance(type='metadsl_core.abstraction.Abstraction', params={'U': DeclaredTypeInstance(type='metadsl_core.integer.Integer', params=None), 'T': DeclaredTypeInstance(type='metadsl_core.integer.Integer', params=None)})}, args=['-4412449758852897637', '-7565997453560513547'], kwargs=None), '-8772386281735144096': CallNode(function='metadsl_core.abstraction.Abstraction.fix', type_params=None, args=['5518942449485092455'], kwargs=None), '420846500348444735': CallNode(function='metadsl_core.abstraction.Abstraction.__call__', type_params={'U': DeclaredTypeInstance(type='metadsl_core.integer.Integer', params=None), 'T': DeclaredTypeInstance(type='metadsl_core.integer.Integer', params=None)}, args=['-8772386281735144096', '448377045070022433'], kwargs=None), '-4307790700844017182': CallNode(function='metadsl_core.abstraction.Abstraction.__call__', type_params=None, args=['5518942449485092455', '-8772386281735144096'], kwargs=None), '-5811360499251050517': CallNode(function='metadsl_core.abstraction.Abstraction.__call__', type_params={'U': DeclaredTypeInstance(type='metadsl_core.integer.Integer', params=None), 'T': DeclaredTypeInstance(type='metadsl_core.integer.Integer', params=None)}, args=['-4307790700844017182', '448377045070022433'], kwargs=None), '-8912127980259137359': CallNode(function='metadsl_core.abstraction.Abstraction.__call__', type_params={'U': DeclaredTypeInstance(type='metadsl_core.integer.Integer', params=None), 'T': DeclaredTypeInstance(type='metadsl_core.integer.Integer', params=None)}, args=['-8772386281735144096', '3119980685017379388'], kwargs=None), '-3140107303993910551': CallNode(function='metadsl_core.integer.Integer.__mul__', type_params=None, args=['3074193318072682397', '-8912127980259137359'], kwargs=None), '84613002794427500': CallNode(function='metadsl_core.boolean.Boolean.if_', type_params=None, args=['-1195286020108137669', '-3761648464570011732', '-3140107303993910551'], kwargs=None), '4981143409647387067': CallNode(function='metadsl_core.abstraction.Abstraction.create', type_params={'U': DeclaredTypeInstance(type='metadsl_core.integer.Integer', params=None), 'T': DeclaredTypeInstance(type='metadsl_core.integer.Integer', params=None)}, args=['3074193318072682397', '84613002794427500'], kwargs=None), '-8270664177450416665': CallNode(function='metadsl_core.abstraction.Abstraction.__call__', type_params={'U': DeclaredTypeInstance(type='metadsl_core.integer.Integer', params=None), 'T': DeclaredTypeInstance(type='metadsl_core.integer.Integer', params=None)}, args=['4981143409647387067', '448377045070022433'], kwargs=None), '6224739780514286792': CallNode(function='metadsl_core.integer.Integer.eq', type_params=None, args=['448377045070022433', '-3261146991999286491'], kwargs=None), '4195317152331464951': CallNode(function='metadsl_core.integer.Integer.__sub__', type_params=None, args=['448377045070022433', '-3761648464570011732'], kwargs=None), '-7398830910654585085': CallNode(function='metadsl_core.abstraction.Abstraction.__call__', type_params={'U': DeclaredTypeInstance(type='metadsl_core.integer.Integer', params=None), 'T': DeclaredTypeInstance(type='metadsl_core.integer.Integer', params=None)}, args=['-8772386281735144096', '4195317152331464951'], kwargs=None), '-2413121916969896670': CallNode(function='metadsl_core.integer.Integer.__mul__', type_params=None, args=['448377045070022433', '-7398830910654585085'], kwargs=None), '-6184953330276263885': CallNode(function='metadsl_core.boolean.Boolean.if_', type_params=None, args=['6224739780514286792', '-3761648464570011732', '-2413121916969896670'], kwargs=None), '-1343543487855198425': PrimitiveNode(type='bool', repr='False'), '-8881034144831541911': CallNode(function='metadsl_core.boolean.Boolean.create', type_params=None, args=['-1343543487855198425'], kwargs=None), '1772109917863982252': CallNode(function='metadsl_core.boolean.Boolean.if_', type_params=None, args=['-8881034144831541911', '-3761648464570011732', '-2413121916969896670'], kwargs=None), '890934412800432406': CallNode(function='metadsl_core.abstraction.Abstraction.__call__', type_params={'U': DeclaredTypeInstance(type='metadsl_core.integer.Integer', params=None), 'T': DeclaredTypeInstance(type='metadsl_core.integer.Integer', params=None)}, args=['-8772386281735144096', '-3761648464570011732'], kwargs=None), '-7629618496707062965': CallNode(function='metadsl_core.integer.Integer.__mul__', type_params=None, args=['448377045070022433', '890934412800432406'], kwargs=None), '3663321178405430733': CallNode(function='metadsl_core.abstraction.Abstraction.__call__', type_params={'U': DeclaredTypeInstance(type='metadsl_core.abstraction.Abstraction', params={'U': DeclaredTypeInstance(type='metadsl_core.integer.Integer', params=None), 'T': DeclaredTypeInstance(type='metadsl_core.integer.Integer', params=None)}), 'T': DeclaredTypeInstance(type='metadsl_core.abstraction.Abstraction', params={'U': DeclaredTypeInstance(type='metadsl_core.integer.Integer', params=None), 'T': DeclaredTypeInstance(type='metadsl_core.integer.Integer', params=None)})}, args=['5518942449485092455', '-8772386281735144096'], kwargs=None), '6356296302236423256': CallNode(function='metadsl_core.abstraction.Abstraction.__call__', type_params={'U': DeclaredTypeInstance(type='metadsl_core.integer.Integer', params=None), 'T': DeclaredTypeInstance(type='metadsl_core.integer.Integer', params=None)}, args=['3663321178405430733', '-3761648464570011732'], kwargs=None), '6307535739200845392': CallNode(function='metadsl_core.integer.Integer.__mul__', type_params=None, args=['448377045070022433', '6356296302236423256'], kwargs=None), '7750776607353922382': CallNode(function='metadsl_core.abstraction.Abstraction.__call__', type_params={'U': DeclaredTypeInstance(type='metadsl_core.integer.Integer', params=None), 'T': DeclaredTypeInstance(type='metadsl_core.integer.Integer', params=None)}, args=['4981143409647387067', '-3761648464570011732'], kwargs=None), '-7765265490210476489': CallNode(function='metadsl_core.integer.Integer.__mul__', type_params=None, args=['448377045070022433', '7750776607353922382'], kwargs=None), '-1751257619993432315': CallNode(function='metadsl_core.integer.Integer.eq', type_params=None, args=['-3761648464570011732', '-3261146991999286491'], kwargs=None), '-1396514070026963675': CallNode(function='metadsl_core.integer.Integer.__sub__', type_params=None, args=['-3761648464570011732', '-3761648464570011732'], kwargs=None), '769492007092866309': CallNode(function='metadsl_core.abstraction.Abstraction.__call__', type_params={'U': DeclaredTypeInstance(type='metadsl_core.integer.Integer', params=None), 'T': DeclaredTypeInstance(type='metadsl_core.integer.Integer', params=None)}, args=['-8772386281735144096', '-1396514070026963675'], kwargs=None), '-6117124248082786377': CallNode(function='metadsl_core.integer.Integer.__mul__', type_params=None, args=['-3761648464570011732', '769492007092866309'], kwargs=None), '1377156151534706699': CallNode(function='metadsl_core.boolean.Boolean.if_', type_params=None, args=['-1751257619993432315', '-3761648464570011732', '-6117124248082786377'], kwargs=None), '3652484495453464368': CallNode(function='metadsl_core.integer.Integer.__mul__', type_params=None, args=['448377045070022433', '1377156151534706699'], kwargs=None), '2562681504621179680': CallNode(function='metadsl_core.boolean.Boolean.if_', type_params=None, args=['-8881034144831541911', '-3761648464570011732', '-6117124248082786377'], kwargs=None), '-39353576429573746': CallNode(function='metadsl_core.integer.Integer.__mul__', type_params=None, args=['448377045070022433', '2562681504621179680'], kwargs=None), '-9120651700188310720': CallNode(function='metadsl_core.integer.Integer.__mul__', type_params=None, args=['448377045070022433', '-6117124248082786377'], kwargs=None), '4055601387710584609': CallNode(function='metadsl_core.abstraction.Abstraction.__call__', type_params={'U': DeclaredTypeInstance(type='metadsl_core.integer.Integer', params=None), 'T': DeclaredTypeInstance(type='metadsl_core.integer.Integer', params=None)}, args=['-8772386281735144096', '-3261146991999286491'], kwargs=None), '2679416529883427614': CallNode(function='metadsl_core.integer.Integer.__mul__', type_params=None, args=['-3761648464570011732', '4055601387710584609'], kwargs=None), '-6630332594634097209': CallNode(function='metadsl_core.integer.Integer.__mul__', type_params=None, args=['448377045070022433', '2679416529883427614'], kwargs=None), '3023690624609158355': CallNode(function='metadsl_core.abstraction.Abstraction.__call__', type_params={'U': DeclaredTypeInstance(type='metadsl_core.integer.Integer', params=None), 'T': DeclaredTypeInstance(type='metadsl_core.integer.Integer', params=None)}, args=['3663321178405430733', '-3261146991999286491'], kwargs=None), '-2215361674000336040': CallNode(function='metadsl_core.integer.Integer.__mul__', type_params=None, args=['-3761648464570011732', '3023690624609158355'], kwargs=None), '4600608742277927714': CallNode(function='metadsl_core.integer.Integer.__mul__', type_params=None, args=['448377045070022433', '-2215361674000336040'], kwargs=None), '6110533106644845801': CallNode(function='metadsl_core.abstraction.Abstraction.__call__', type_params={'U': DeclaredTypeInstance(type='metadsl_core.integer.Integer', params=None), 'T': DeclaredTypeInstance(type='metadsl_core.integer.Integer', params=None)}, args=['4981143409647387067', '-3261146991999286491'], kwargs=None), '2183662999503847051': CallNode(function='metadsl_core.integer.Integer.__mul__', type_params=None, args=['-3761648464570011732', '6110533106644845801'], kwargs=None), '7254811946636134561': CallNode(function='metadsl_core.integer.Integer.__mul__', type_params=None, args=['448377045070022433', '2183662999503847051'], kwargs=None), '8744182282586139310': CallNode(function='metadsl_core.integer.Integer.eq', type_params=None, args=['-3261146991999286491', '-3261146991999286491'], kwargs=None), '-930789844318381307': CallNode(function='metadsl_core.integer.Integer.__sub__', type_params=None, args=['-3261146991999286491', '-3761648464570011732'], kwargs=None), '-1958176877715010140': CallNode(function='metadsl_core.abstraction.Abstraction.__call__', type_params={'U': DeclaredTypeInstance(type='metadsl_core.integer.Integer', params=None), 'T': DeclaredTypeInstance(type='metadsl_core.integer.Integer', params=None)}, args=['-8772386281735144096', '-930789844318381307'], kwargs=None), '-1309345982556541089': CallNode(function='metadsl_core.integer.Integer.__mul__', type_params=None, args=['-3261146991999286491', '-1958176877715010140'], kwargs=None), '7079640431812953582': CallNode(function='metadsl_core.boolean.Boolean.if_', type_params=None, args=['8744182282586139310', '-3761648464570011732', '-1309345982556541089'], kwargs=None), '5839410727446015861': CallNode(function='metadsl_core.integer.Integer.__mul__', type_params=None, args=['-3761648464570011732', '7079640431812953582'], kwargs=None), '6416804791659013553': CallNode(function='metadsl_core.integer.Integer.__mul__', type_params=None, args=['448377045070022433', '5839410727446015861'], kwargs=None), '-1343543487854115900': PrimitiveNode(type='bool', repr='True'), '-8603486734980525913': CallNode(function='metadsl_core.boolean.Boolean.create', type_params=None, args=['-1343543487854115900'], kwargs=None), '-1062840018330880209': CallNode(function='metadsl_core.boolean.Boolean.if_', type_params=None, args=['-8603486734980525913', '-3761648464570011732', '-1309345982556541089'], kwargs=None), '-5868635635383609230': CallNode(function='metadsl_core.integer.Integer.__mul__', type_params=None, args=['-3761648464570011732', '-1062840018330880209'], kwargs=None), '-4708183877119924272': CallNode(function='metadsl_core.integer.Integer.__mul__', type_params=None, args=['448377045070022433', '-5868635635383609230'], kwargs=None), '5504918128939009495': CallNode(function='metadsl_core.integer.Integer.__mul__', type_params=None, args=['-3761648464570011732', '-3761648464570011732'], kwargs=None), '-4711146507285855794': CallNode(function='metadsl_core.integer.Integer.__mul__', type_params=None, args=['448377045070022433', '5504918128939009495'], kwargs=None), '7273508617291920197': CallNode(function='metadsl_core.integer.Integer.__mul__', type_params=None, args=['448377045070022433', '-3761648464570011732'], kwargs=None)}, states=States(initial='4705567592998746227', states=[State(node='4623934173833200803', rule='metadsl_core.abstraction.Abstraction.from_fn', label=None), State(node='420846500348444735', rule='metadsl_core.abstraction.Abstraction.from_fn', label='core'), State(node='-5811360499251050517', rule='metadsl_core.abstraction.Abstraction.fix', label=None), State(node='-8270664177450416665', rule='metadsl_core.abstraction.beta_reduce', label=None), State(node='-6184953330276263885', rule='metadsl_core.abstraction.beta_reduce', label=None), State(node='1772109917863982252', rule='metadsl_core.integer.integer_eq', label=None), State(node='-2413121916969896670', rule='metadsl_core.boolean.if_', label=None), State(node='-7629618496707062965', rule='metadsl_core.integer.integer_math', label=None), State(node='6307535739200845392', rule='metadsl_core.abstraction.Abstraction.fix', label=None), State(node='-7765265490210476489', rule='metadsl_core.abstraction.beta_reduce', label=None), State(node='3652484495453464368', rule='metadsl_core.abstraction.beta_reduce', label=None), State(node='-39353576429573746', rule='metadsl_core.integer.integer_eq', label=None), State(node='-9120651700188310720', rule='metadsl_core.boolean.if_', label=None), State(node='-6630332594634097209', rule='metadsl_core.integer.integer_math', label=None), State(node='4600608742277927714', rule='metadsl_core.abstraction.Abstraction.fix', label=None), State(node='7254811946636134561', rule='metadsl_core.abstraction.beta_reduce', label=None), State(node='6416804791659013553', rule='metadsl_core.abstraction.beta_reduce', label=None), State(node='-4708183877119924272', rule='metadsl_core.integer.integer_eq', label=None), State(node='-4711146507285855794', rule='metadsl_core.boolean.if_', label=None), State(node='7273508617291920197', rule='metadsl_core.integer.integer_math', label=None), State(node='448377045070022433', rule='metadsl_core.integer.integer_math', label='execute')]))"
      ]
     },
     "metadata": {},
     "output_type": "display_data"
    },
    {
     "data": {
      "application/json": {
       "nodes": {
        "-1249476817723381172": {
         "args": [
          "7664443263508927266",
          "-8236704211142714508"
         ],
         "function": "metadsl_core.integer.Integer.__mul__"
        },
        "-1343543487854115900": {
         "repr": "True",
         "type": "bool"
        },
        "-1343543487855198425": {
         "repr": "False",
         "type": "bool"
        },
        "-1396514070026963675": {
         "args": [
          "-3761648464570011732",
          "-3761648464570011732"
         ],
         "function": "metadsl_core.integer.Integer.__sub__"
        },
        "-156400494958923495": {
         "args": [
          "-9198064950632429771",
          "-1715183837058597579"
         ],
         "function": "metadsl_core.integer.Integer.__mul__"
        },
        "-16273939659257270": {
         "args": [
          "1317201759694169871",
          "6539917089444321216"
         ],
         "function": "metadsl_core.abstraction.Abstraction.create",
         "type_params": {
          "T": {
           "params": {
            "T": {
             "type": "metadsl_core.integer.Integer"
            },
            "U": {
             "type": "metadsl_core.integer.Integer"
            }
           },
           "type": "metadsl_core.abstraction.Abstraction"
          },
          "U": {
           "params": {
            "T": {
             "type": "metadsl_core.integer.Integer"
            },
            "U": {
             "type": "metadsl_core.integer.Integer"
            }
           },
           "type": "metadsl_core.abstraction.Abstraction"
          }
         }
        },
        "-1675477245636034855": {
         "args": [
          "448377045070022433",
          "6632681833014167910"
         ],
         "function": "metadsl_core.integer.Integer.__mul__"
        },
        "-1715183837058597579": {
         "args": [
          "448377045070022433",
          "5970135790746733077"
         ],
         "function": "metadsl_core.integer.Integer.__mul__"
        },
        "-1739011688871278916": {
         "args": [
          "857512534981601222"
         ],
         "function": "metadsl_core.abstraction.Abstraction.fix"
        },
        "-1751257619993432315": {
         "args": [
          "-3761648464570011732",
          "-3261146991999286491"
         ],
         "function": "metadsl_core.integer.Integer.eq"
        },
        "-1814261301443872895": {
         "args": [
          "492210148375499800",
          "-3761648464570011732"
         ],
         "function": "metadsl_core.abstraction.Abstraction.__call__",
         "type_params": {
          "T": {
           "type": "metadsl_core.integer.Integer"
          },
          "U": {
           "type": "metadsl_core.integer.Integer"
          }
         }
        },
        "-2110154939986988874": {
         "args": [
          "492210148375499800",
          "-3261146991999286491"
         ],
         "function": "metadsl_core.abstraction.Abstraction.__call__",
         "type_params": {
          "T": {
           "type": "metadsl_core.integer.Integer"
          },
          "U": {
           "type": "metadsl_core.integer.Integer"
          }
         }
        },
        "-2384720982856948811": {
         "repr": "Variable(4512349320)",
         "type": "metadsl_core.abstraction.Variable"
        },
        "-2470805898224121994": {
         "args": [
          "3791218079873091402",
          "-9198064950632429771"
         ],
         "function": "metadsl_core.abstraction.Abstraction.__call__",
         "type_params": {
          "T": {
           "type": "metadsl_core.integer.Integer"
          },
          "U": {
           "type": "metadsl_core.integer.Integer"
          }
         }
        },
        "-2503593351645374015": {
         "args": [
          "-8881034144831541911",
          "-3761648464570011732",
          "-5124226575538759185"
         ],
         "function": "metadsl_core.boolean.Boolean.if_"
        },
        "-2730451188572742147": {
         "args": [
          "5020133584684267617"
         ],
         "function": "metadsl_core.integer.Integer.from_int"
        },
        "-3005929120812484172": {
         "args": [
          "492210148375499800",
          "448377045070022433"
         ],
         "function": "metadsl_core.abstraction.Abstraction.__call__",
         "type_params": {
          "T": {
           "type": "metadsl_core.integer.Integer"
          },
          "U": {
           "type": "metadsl_core.integer.Integer"
          }
         }
        },
        "-3123841627651589275": {
         "args": [
          "-9198064950632429771",
          "2417876631091226093"
         ],
         "function": "metadsl_core.integer.Integer.__mul__"
        },
        "-3148566158153018070": {
         "args": [
          "2567654429536128935",
          "-3261146991999286491"
         ],
         "function": "metadsl_core.abstraction.Abstraction.__call__",
         "type_params": {
          "T": {
           "type": "metadsl_core.integer.Integer"
          },
          "U": {
           "type": "metadsl_core.integer.Integer"
          }
         }
        },
        "-3224532582408340970": {
         "args": [
          "-8881034144831541911",
          "-3761648464570011732",
          "5097374435845051589"
         ],
         "function": "metadsl_core.boolean.Boolean.if_"
        },
        "-3261146991999286491": {
         "args": [
          "5020133584677772467"
         ],
         "function": "metadsl_core.integer.Integer.from_int"
        },
        "-36580418668738439": {
         "args": [
          "-1739011688871278916",
          "4195317152331464951"
         ],
         "function": "metadsl_core.abstraction.Abstraction.__call__",
         "type_params": {
          "T": {
           "type": "metadsl_core.integer.Integer"
          },
          "U": {
           "type": "metadsl_core.integer.Integer"
          }
         }
        },
        "-3761648464570011732": {
         "args": [
          "5020133584678854992"
         ],
         "function": "metadsl_core.integer.Integer.from_int"
        },
        "-4022890374450464025": {
         "args": [
          "-9198064950632429771",
          "3833705329025753595"
         ],
         "function": "metadsl_core.integer.Integer.__mul__"
        },
        "-406601741073018782": {
         "args": [
          "-9198064950632429771",
          "5097374435845051589"
         ],
         "function": "metadsl_core.integer.Integer.__mul__"
        },
        "-4285478503308723628": {
         "args": [
          "448377045070022433",
          "-1814261301443872895"
         ],
         "function": "metadsl_core.integer.Integer.__mul__"
        },
        "-4389650980285422461": {
         "args": [
          "-9198064950632429771",
          "-8290421899266135467"
         ],
         "function": "metadsl_core.integer.Integer.__mul__"
        },
        "-467432560236078307": {
         "args": [
          "-1739011688871278916",
          "448377045070022433"
         ],
         "function": "metadsl_core.abstraction.Abstraction.__call__",
         "type_params": {
          "T": {
           "type": "metadsl_core.integer.Integer"
          },
          "U": {
           "type": "metadsl_core.integer.Integer"
          }
         }
        },
        "-4711146507285855794": {
         "args": [
          "448377045070022433",
          "5504918128939009495"
         ],
         "function": "metadsl_core.integer.Integer.__mul__"
        },
        "-5124226575538759185": {
         "args": [
          "-3761648464570011732",
          "-8997476289645855609"
         ],
         "function": "metadsl_core.integer.Integer.__mul__"
        },
        "-5988358747029618461": {
         "args": [
          "-9198064950632429771",
          "-3005929120812484172"
         ],
         "function": "metadsl_core.integer.Integer.__mul__"
        },
        "-6000412868027038455": {
         "args": [
          "-8098774356153391513"
         ],
         "function": "metadsl_core.abstraction.Abstraction.from_fn"
        },
        "-6657090525025480772": {
         "args": [
          "-8881034144831541911",
          "-3761648464570011732",
          "-7173634895950929025"
         ],
         "function": "metadsl_core.boolean.Boolean.if_"
        },
        "-6753046580149111840": {
         "args": [
          "-1739011688871278916",
          "-3761648464570011732"
         ],
         "function": "metadsl_core.abstraction.Abstraction.__call__",
         "type_params": {
          "T": {
           "type": "metadsl_core.integer.Integer"
          },
          "U": {
           "type": "metadsl_core.integer.Integer"
          }
         }
        },
        "-7173634895950929025": {
         "args": [
          "-9198064950632429771",
          "3073275938252098663"
         ],
         "function": "metadsl_core.integer.Integer.__mul__"
        },
        "-7378091907278634910": {
         "args": [
          "-3761648464570011732",
          "-3148566158153018070"
         ],
         "function": "metadsl_core.integer.Integer.__mul__"
        },
        "-7523385317980141960": {
         "args": [
          "-3761648464570011732",
          "-8477067086700752761"
         ],
         "function": "metadsl_core.integer.Integer.__mul__"
        },
        "-7842495516547100203": {
         "args": [
          "7664443263508927266",
          "648853626055728208"
         ],
         "function": "metadsl_core.integer.Integer.__mul__"
        },
        "-8025723602494604157": {
         "args": [
          "-9198064950632429771",
          "2234695453237846005"
         ],
         "function": "metadsl_core.integer.Integer.__mul__"
        },
        "-8098774356153391513": {
         "repr": "<function factorial at 0x10c4a10d0>",
         "type": "function"
        },
        "-8236704211142714508": {
         "args": [
          "-1739011688871278916",
          "1880936048214380717"
         ],
         "function": "metadsl_core.abstraction.Abstraction.__call__",
         "type_params": {
          "T": {
           "type": "metadsl_core.integer.Integer"
          },
          "U": {
           "type": "metadsl_core.integer.Integer"
          }
         }
        },
        "-8290421899266135467": {
         "args": [
          "6224739780514286792",
          "-3761648464570011732",
          "5097374435845051589"
         ],
         "function": "metadsl_core.boolean.Boolean.if_"
        },
        "-8383502884057781075": {
         "args": [
          "448377045070022433",
          "-6753046580149111840"
         ],
         "function": "metadsl_core.integer.Integer.__mul__"
        },
        "-8477067086700752761": {
         "args": [
          "-8603486734980525913",
          "-3761648464570011732",
          "5653394834464996904"
         ],
         "function": "metadsl_core.boolean.Boolean.if_"
        },
        "-8603486734980525913": {
         "args": [
          "-1343543487854115900"
         ],
         "function": "metadsl_core.boolean.Boolean.create"
        },
        "-8827702675607390721": {
         "args": [
          "-9198064950632429771",
          "4196200059632993030"
         ],
         "function": "metadsl_core.integer.Integer.__mul__"
        },
        "-8881034144831541911": {
         "args": [
          "-1343543487855198425"
         ],
         "function": "metadsl_core.boolean.Boolean.create"
        },
        "-8997476289645855609": {
         "args": [
          "-1739011688871278916",
          "-1396514070026963675"
         ],
         "function": "metadsl_core.abstraction.Abstraction.__call__",
         "type_params": {
          "T": {
           "type": "metadsl_core.integer.Integer"
          },
          "U": {
           "type": "metadsl_core.integer.Integer"
          }
         }
        },
        "-9032512893085977426": {
         "args": [
          "-3761648464570011732",
          "-2110154939986988874"
         ],
         "function": "metadsl_core.integer.Integer.__mul__"
        },
        "-9119862996066166481": {
         "args": [
          "-3761648464570011732",
          "2134574752010800875"
         ],
         "function": "metadsl_core.integer.Integer.__mul__"
        },
        "-9198064950632429771": {
         "args": [
          "5020133584681020042"
         ],
         "function": "metadsl_core.integer.Integer.from_int"
        },
        "-930789844318381307": {
         "args": [
          "-3261146991999286491",
          "-3761648464570011732"
         ],
         "function": "metadsl_core.integer.Integer.__sub__"
        },
        "1071242148663612846": {
         "args": [
          "-9198064950632429771",
          "4159197151951766977"
         ],
         "function": "metadsl_core.integer.Integer.__mul__"
        },
        "1124597996913431945": {
         "repr": "<function factorial.<locals>.inner at 0x10cf3e378>",
         "type": "function"
        },
        "1230940190814917584": {
         "args": [
          "-9198064950632429771",
          "-1675477245636034855"
         ],
         "function": "metadsl_core.integer.Integer.__mul__"
        },
        "1251464527634032073": {
         "args": [
          "-3761648464570011732",
          "1308931567296850694"
         ],
         "function": "metadsl_core.integer.Integer.__mul__"
        },
        "1308931567296850694": {
         "args": [
          "8744182282586139310",
          "-3761648464570011732",
          "5653394834464996904"
         ],
         "function": "metadsl_core.boolean.Boolean.if_"
        },
        "1317201759694169871": {
         "args": [
          "6838651028649421597"
         ],
         "function": "metadsl_core.abstraction.Abstraction.create_variable",
         "type_params": {
          "T": {
           "params": {
            "T": {
             "type": "metadsl_core.integer.Integer"
            },
            "U": {
             "type": "metadsl_core.integer.Integer"
            }
           },
           "type": "metadsl_core.abstraction.Abstraction"
          },
          "U": {
           "params": {
            "T": {
             "type": "metadsl_core.integer.Integer"
            },
            "U": {
             "type": "metadsl_core.integer.Integer"
            }
           },
           "type": "metadsl_core.abstraction.Abstraction"
          }
         }
        },
        "1610115233605074726": {
         "args": [
          "7664443263508927266",
          "-3261146991999286491"
         ],
         "function": "metadsl_core.integer.Integer.eq"
        },
        "1880936048214380717": {
         "args": [
          "7664443263508927266",
          "-3761648464570011732"
         ],
         "function": "metadsl_core.integer.Integer.__sub__"
        },
        "1964821022688577691": {
         "args": [
          "-9198064950632429771",
          "-3761648464570011732"
         ],
         "function": "metadsl_core.integer.Integer.__sub__"
        },
        "2094699975406884999": {
         "args": [
          "25351356777524522",
          "-9198064950632429771"
         ],
         "function": "metadsl_core.abstraction.Abstraction.__call__",
         "type_params": {
          "T": {
           "type": "metadsl_core.integer.Integer"
          },
          "U": {
           "type": "metadsl_core.integer.Integer"
          }
         }
        },
        "2134574752010800875": {
         "args": [
          "-1739011688871278916",
          "-3261146991999286491"
         ],
         "function": "metadsl_core.abstraction.Abstraction.__call__",
         "type_params": {
          "T": {
           "type": "metadsl_core.integer.Integer"
          },
          "U": {
           "type": "metadsl_core.integer.Integer"
          }
         }
        },
        "2234695453237846005": {
         "args": [
          "448377045070022433",
          "-7523385317980141960"
         ],
         "function": "metadsl_core.integer.Integer.__mul__"
        },
        "2297666814085689246": {
         "args": [
          "1610115233605074726",
          "-3761648464570011732",
          "-7842495516547100203"
         ],
         "function": "metadsl_core.boolean.Boolean.if_"
        },
        "2417876631091226093": {
         "args": [
          "448377045070022433",
          "1251464527634032073"
         ],
         "function": "metadsl_core.integer.Integer.__mul__"
        },
        "2493859532809620943": {
         "args": [
          "5237967625547649244",
          "-3761648464570011732",
          "-7173634895950929025"
         ],
         "function": "metadsl_core.boolean.Boolean.if_"
        },
        "25351356777524522": {
         "args": [
          "-6000412868027038455"
         ],
         "function": "metadsl_core.abstraction.Abstraction.fix"
        },
        "2567654429536128935": {
         "args": [
          "857512534981601222",
          "-1739011688871278916"
         ],
         "function": "metadsl_core.abstraction.Abstraction.__call__",
         "type_params": {
          "T": {
           "params": {
            "T": {
             "type": "metadsl_core.integer.Integer"
            },
            "U": {
             "type": "metadsl_core.integer.Integer"
            }
           },
           "type": "metadsl_core.abstraction.Abstraction"
          },
          "U": {
           "params": {
            "T": {
             "type": "metadsl_core.integer.Integer"
            },
            "U": {
             "type": "metadsl_core.integer.Integer"
            }
           },
           "type": "metadsl_core.abstraction.Abstraction"
          }
         }
        },
        "2887009960878816871": {
         "args": [
          "-9198064950632429771",
          "-4711146507285855794"
         ],
         "function": "metadsl_core.integer.Integer.__mul__"
        },
        "2946180503986392643": {
         "args": [
          "-9198064950632429771",
          "-4285478503308723628"
         ],
         "function": "metadsl_core.integer.Integer.__mul__"
        },
        "3073275938252098663": {
         "args": [
          "-1739011688871278916",
          "1964821022688577691"
         ],
         "function": "metadsl_core.abstraction.Abstraction.__call__",
         "type_params": {
          "T": {
           "type": "metadsl_core.integer.Integer"
          },
          "U": {
           "type": "metadsl_core.integer.Integer"
          }
         }
        },
        "3340767993503539728": {
         "args": [
          "-9198064950632429771",
          "-3224532582408340970"
         ],
         "function": "metadsl_core.integer.Integer.__mul__"
        },
        "3569681227535257458": {
         "args": [
          "-1739011688871278916",
          "-930789844318381307"
         ],
         "function": "metadsl_core.abstraction.Abstraction.__call__",
         "type_params": {
          "T": {
           "type": "metadsl_core.integer.Integer"
          },
          "U": {
           "type": "metadsl_core.integer.Integer"
          }
         }
        },
        "3791218079873091402": {
         "args": [
          "-16273939659257270"
         ],
         "function": "metadsl_core.abstraction.Abstraction.fix"
        },
        "3832378786494712998": {
         "args": [
          "7664443263508927266",
          "2297666814085689246"
         ],
         "function": "metadsl_core.abstraction.Abstraction.create",
         "type_params": {
          "T": {
           "type": "metadsl_core.integer.Integer"
          },
          "U": {
           "type": "metadsl_core.integer.Integer"
          }
         }
        },
        "3833705329025753595": {
         "args": [
          "448377045070022433",
          "-2503593351645374015"
         ],
         "function": "metadsl_core.integer.Integer.__mul__"
        },
        "4159197151951766977": {
         "args": [
          "448377045070022433",
          "-5124226575538759185"
         ],
         "function": "metadsl_core.integer.Integer.__mul__"
        },
        "4195317152331464951": {
         "args": [
          "448377045070022433",
          "-3761648464570011732"
         ],
         "function": "metadsl_core.integer.Integer.__sub__"
        },
        "4196200059632993030": {
         "args": [
          "448377045070022433",
          "-9032512893085977426"
         ],
         "function": "metadsl_core.integer.Integer.__mul__"
        },
        "448377045070022433": {
         "args": [
          "5020133584679937517"
         ],
         "function": "metadsl_core.integer.Integer.from_int"
        },
        "492210148375499800": {
         "args": [
          "7664443263508927266",
          "6164834309607227234"
         ],
         "function": "metadsl_core.abstraction.Abstraction.create",
         "type_params": {
          "T": {
           "type": "metadsl_core.integer.Integer"
          },
          "U": {
           "type": "metadsl_core.integer.Integer"
          }
         }
        },
        "497511676543944926": {
         "args": [
          "-9198064950632429771",
          "-467432560236078307"
         ],
         "function": "metadsl_core.integer.Integer.__mul__"
        },
        "4989086897960106256": {
         "args": [
          "-9198064950632429771",
          "9131869119941321727"
         ],
         "function": "metadsl_core.integer.Integer.__mul__"
        },
        "5020133584677772467": {
         "repr": "0",
         "type": "int"
        },
        "5020133584678854992": {
         "repr": "1",
         "type": "int"
        },
        "5020133584679937517": {
         "repr": "2",
         "type": "int"
        },
        "5020133584681020042": {
         "repr": "3",
         "type": "int"
        },
        "5020133584684267617": {
         "repr": "6",
         "type": "int"
        },
        "5097374435845051589": {
         "args": [
          "448377045070022433",
          "-36580418668738439"
         ],
         "function": "metadsl_core.integer.Integer.__mul__"
        },
        "5237967625547649244": {
         "args": [
          "-9198064950632429771",
          "-3261146991999286491"
         ],
         "function": "metadsl_core.integer.Integer.eq"
        },
        "5504918128939009495": {
         "args": [
          "-3761648464570011732",
          "-3761648464570011732"
         ],
         "function": "metadsl_core.integer.Integer.__mul__"
        },
        "5556213684307370570": {
         "args": [
          "-9198064950632429771",
          "-8383502884057781075"
         ],
         "function": "metadsl_core.integer.Integer.__mul__"
        },
        "5653394834464996904": {
         "args": [
          "-3261146991999286491",
          "3569681227535257458"
         ],
         "function": "metadsl_core.integer.Integer.__mul__"
        },
        "5970135790746733077": {
         "args": [
          "2567654429536128935",
          "-3761648464570011732"
         ],
         "function": "metadsl_core.abstraction.Abstraction.__call__",
         "type_params": {
          "T": {
           "type": "metadsl_core.integer.Integer"
          },
          "U": {
           "type": "metadsl_core.integer.Integer"
          }
         }
        },
        "5970376096185889217": {
         "args": [
          "-1739011688871278916",
          "-9198064950632429771"
         ],
         "function": "metadsl_core.abstraction.Abstraction.__call__",
         "type_params": {
          "T": {
           "type": "metadsl_core.integer.Integer"
          },
          "U": {
           "type": "metadsl_core.integer.Integer"
          }
         }
        },
        "6164834309607227234": {
         "args": [
          "1610115233605074726",
          "-3761648464570011732",
          "-1249476817723381172"
         ],
         "function": "metadsl_core.boolean.Boolean.if_"
        },
        "6224739780514286792": {
         "args": [
          "448377045070022433",
          "-3261146991999286491"
         ],
         "function": "metadsl_core.integer.Integer.eq"
        },
        "6315998705676060013": {
         "args": [
          "-9198064950632429771",
          "7273508617291920197"
         ],
         "function": "metadsl_core.integer.Integer.__mul__"
        },
        "648853626055728208": {
         "args": [
          "1317201759694169871",
          "1880936048214380717"
         ],
         "function": "metadsl_core.abstraction.Abstraction.__call__",
         "type_params": {
          "T": {
           "type": "metadsl_core.integer.Integer"
          },
          "U": {
           "type": "metadsl_core.integer.Integer"
          }
         }
        },
        "6539917089444321216": {
         "args": [
          "1124597996913431945"
         ],
         "function": "metadsl_core.abstraction.Abstraction.from_fn"
        },
        "6632681833014167910": {
         "args": [
          "-1751257619993432315",
          "-3761648464570011732",
          "-5124226575538759185"
         ],
         "function": "metadsl_core.boolean.Boolean.if_"
        },
        "6792392814498283792": {
         "args": [
          "-9198064950632429771",
          "448377045070022433"
         ],
         "function": "metadsl_core.integer.Integer.__mul__"
        },
        "6838651028649421597": {
         "repr": "Variable(4512105472)",
         "type": "metadsl_core.abstraction.Variable"
        },
        "7273508617291920197": {
         "args": [
          "448377045070022433",
          "-3761648464570011732"
         ],
         "function": "metadsl_core.integer.Integer.__mul__"
        },
        "7664443263508927266": {
         "args": [
          "-2384720982856948811"
         ],
         "function": "metadsl_core.abstraction.Abstraction.create_variable",
         "type_params": {
          "T": {
           "type": "metadsl_core.integer.Integer"
          },
          "U": {
           "type": "metadsl_core.integer.Integer"
          }
         }
        },
        "7685862414596826760": {
         "args": [
          "2567654429536128935",
          "448377045070022433"
         ],
         "function": "metadsl_core.abstraction.Abstraction.__call__",
         "type_params": {
          "T": {
           "type": "metadsl_core.integer.Integer"
          },
          "U": {
           "type": "metadsl_core.integer.Integer"
          }
         }
        },
        "8069484191585452082": {
         "args": [
          "-9198064950632429771",
          "7685862414596826760"
         ],
         "function": "metadsl_core.integer.Integer.__mul__"
        },
        "8198817181893144873": {
         "args": [
          "448377045070022433",
          "-7378091907278634910"
         ],
         "function": "metadsl_core.integer.Integer.__mul__"
        },
        "8235131843359757299": {
         "args": [
          "-9198064950632429771",
          "8198817181893144873"
         ],
         "function": "metadsl_core.integer.Integer.__mul__"
        },
        "857512534981601222": {
         "args": [
          "1317201759694169871",
          "3832378786494712998"
         ],
         "function": "metadsl_core.abstraction.Abstraction.create",
         "type_params": {
          "T": {
           "params": {
            "T": {
             "type": "metadsl_core.integer.Integer"
            },
            "U": {
             "type": "metadsl_core.integer.Integer"
            }
           },
           "type": "metadsl_core.abstraction.Abstraction"
          },
          "U": {
           "params": {
            "T": {
             "type": "metadsl_core.integer.Integer"
            },
            "U": {
             "type": "metadsl_core.integer.Integer"
            }
           },
           "type": "metadsl_core.abstraction.Abstraction"
          }
         }
        },
        "8744182282586139310": {
         "args": [
          "-3261146991999286491",
          "-3261146991999286491"
         ],
         "function": "metadsl_core.integer.Integer.eq"
        },
        "8812644984828765344": {
         "args": [
          "492210148375499800",
          "-9198064950632429771"
         ],
         "function": "metadsl_core.abstraction.Abstraction.__call__",
         "type_params": {
          "T": {
           "type": "metadsl_core.integer.Integer"
          },
          "U": {
           "type": "metadsl_core.integer.Integer"
          }
         }
        },
        "8918720544866503944": {
         "args": [
          "857512534981601222",
          "-1739011688871278916"
         ],
         "function": "metadsl_core.abstraction.Abstraction.__call__"
        },
        "9131869119941321727": {
         "args": [
          "448377045070022433",
          "-9119862996066166481"
         ],
         "function": "metadsl_core.integer.Integer.__mul__"
        },
        "9195884396846811451": {
         "args": [
          "8918720544866503944",
          "-9198064950632429771"
         ],
         "function": "metadsl_core.abstraction.Abstraction.__call__",
         "type_params": {
          "T": {
           "type": "metadsl_core.integer.Integer"
          },
          "U": {
           "type": "metadsl_core.integer.Integer"
          }
         }
        }
       },
       "states": {
        "initial": "2094699975406884999",
        "states": [
         {
          "node": "-2470805898224121994",
          "rule": "metadsl_core.abstraction.Abstraction.from_fn"
         },
         {
          "label": "core",
          "node": "5970376096185889217",
          "rule": "metadsl_core.abstraction.Abstraction.from_fn"
         },
         {
          "node": "9195884396846811451",
          "rule": "metadsl_core.abstraction.Abstraction.fix"
         },
         {
          "node": "8812644984828765344",
          "rule": "metadsl_core.abstraction.beta_reduce"
         },
         {
          "node": "2493859532809620943",
          "rule": "metadsl_core.abstraction.beta_reduce"
         },
         {
          "node": "-6657090525025480772",
          "rule": "metadsl_core.integer.integer_eq"
         },
         {
          "node": "-7173634895950929025",
          "rule": "metadsl_core.boolean.if_"
         },
         {
          "node": "497511676543944926",
          "rule": "metadsl_core.integer.integer_math"
         },
         {
          "node": "8069484191585452082",
          "rule": "metadsl_core.abstraction.Abstraction.fix"
         },
         {
          "node": "-5988358747029618461",
          "rule": "metadsl_core.abstraction.beta_reduce"
         },
         {
          "node": "-4389650980285422461",
          "rule": "metadsl_core.abstraction.beta_reduce"
         },
         {
          "node": "3340767993503539728",
          "rule": "metadsl_core.integer.integer_eq"
         },
         {
          "node": "-406601741073018782",
          "rule": "metadsl_core.boolean.if_"
         },
         {
          "node": "5556213684307370570",
          "rule": "metadsl_core.integer.integer_math"
         },
         {
          "node": "-156400494958923495",
          "rule": "metadsl_core.abstraction.Abstraction.fix"
         },
         {
          "node": "2946180503986392643",
          "rule": "metadsl_core.abstraction.beta_reduce"
         },
         {
          "node": "1230940190814917584",
          "rule": "metadsl_core.abstraction.beta_reduce"
         },
         {
          "node": "-4022890374450464025",
          "rule": "metadsl_core.integer.integer_eq"
         },
         {
          "node": "1071242148663612846",
          "rule": "metadsl_core.boolean.if_"
         },
         {
          "node": "4989086897960106256",
          "rule": "metadsl_core.integer.integer_math"
         },
         {
          "node": "8235131843359757299",
          "rule": "metadsl_core.abstraction.Abstraction.fix"
         },
         {
          "node": "-8827702675607390721",
          "rule": "metadsl_core.abstraction.beta_reduce"
         },
         {
          "node": "-3123841627651589275",
          "rule": "metadsl_core.abstraction.beta_reduce"
         },
         {
          "node": "-8025723602494604157",
          "rule": "metadsl_core.integer.integer_eq"
         },
         {
          "node": "2887009960878816871",
          "rule": "metadsl_core.boolean.if_"
         },
         {
          "node": "6315998705676060013",
          "rule": "metadsl_core.integer.integer_math"
         },
         {
          "node": "6792392814498283792",
          "rule": "metadsl_core.integer.integer_math"
         },
         {
          "label": "execute",
          "node": "-2730451188572742147",
          "rule": "metadsl_core.integer.integer_math"
         }
        ]
       }
      },
      "application/x.typez.graph+json": {
       "initial": "digraph {\n\t2094699975406884999 [label=\"metadsl_core.abstraction.Abstraction.__call__\"]\n\t2094699975406884999 -> 25351356777524522\n\t25351356777524522 [label=\"metadsl_core.abstraction.Abstraction.fix\"]\n\t25351356777524522 -> -6000412868027038455\n\t-6000412868027038455 [label=\"metadsl_core.abstraction.Abstraction.from_fn\"]\n\t-6000412868027038455 -> -8098774356153391513\n\t-8098774356153391513 [label=\"function factorial at 0x10c4a10d0\"]\n\t2094699975406884999 -> -9198064950632429771\n\t-9198064950632429771 [label=\"metadsl_core.integer.Integer.from_int\"]\n\t-9198064950632429771 -> 5020133584681020042\n\t5020133584681020042 [label=3]\n}",
       "states": [
        {
         "graph": "digraph {\n\t-2470805898224121994 [label=\"metadsl_core.abstraction.Abstraction.__call__\"]\n\t-2470805898224121994 -> 3791218079873091402\n\t3791218079873091402 [label=\"metadsl_core.abstraction.Abstraction.fix\"]\n\t3791218079873091402 -> -16273939659257270\n\t-16273939659257270 [label=\"metadsl_core.abstraction.Abstraction.create\"]\n\t-16273939659257270 -> 1317201759694169871\n\t1317201759694169871 [label=\"metadsl_core.abstraction.Abstraction.create_variable\"]\n\t1317201759694169871 -> 6838651028649421597\n\t6838651028649421597 [label=\"Variable(4512105472)\"]\n\t-16273939659257270 -> 6539917089444321216\n\t6539917089444321216 [label=\"metadsl_core.abstraction.Abstraction.from_fn\"]\n\t6539917089444321216 -> 1124597996913431945\n\t1124597996913431945 [label=\"function factorial.locals.inner at 0x10cf3e378\"]\n\t-2470805898224121994 -> -9198064950632429771\n\t-9198064950632429771 [label=\"metadsl_core.integer.Integer.from_int\"]\n\t-9198064950632429771 -> 5020133584681020042\n\t5020133584681020042 [label=3]\n}",
         "label": null,
         "rule": "metadsl_core.abstraction.Abstraction.from_fn"
        },
        {
         "graph": "digraph {\n\t5970376096185889217 [label=\"metadsl_core.abstraction.Abstraction.__call__\"]\n\t5970376096185889217 -> -1739011688871278916\n\t-1739011688871278916 [label=\"metadsl_core.abstraction.Abstraction.fix\"]\n\t-1739011688871278916 -> 857512534981601222\n\t857512534981601222 [label=\"metadsl_core.abstraction.Abstraction.create\"]\n\t857512534981601222 -> 1317201759694169871\n\t1317201759694169871 [label=\"metadsl_core.abstraction.Abstraction.create_variable\"]\n\t1317201759694169871 -> 6838651028649421597\n\t6838651028649421597 [label=\"Variable(4512105472)\"]\n\t857512534981601222 -> 3832378786494712998\n\t3832378786494712998 [label=\"metadsl_core.abstraction.Abstraction.create\"]\n\t3832378786494712998 -> 7664443263508927266\n\t7664443263508927266 [label=\"metadsl_core.abstraction.Abstraction.create_variable\"]\n\t7664443263508927266 -> -2384720982856948811\n\t-2384720982856948811 [label=\"Variable(4512349320)\"]\n\t3832378786494712998 -> 2297666814085689246\n\t2297666814085689246 [label=\"metadsl_core.boolean.Boolean.if_\"]\n\t2297666814085689246 -> 1610115233605074726\n\t1610115233605074726 [label=\"metadsl_core.integer.Integer.eq\"]\n\t1610115233605074726 -> 7664443263508927266\n\t1610115233605074726 -> -3261146991999286491\n\t-3261146991999286491 [label=\"metadsl_core.integer.Integer.from_int\"]\n\t-3261146991999286491 -> 5020133584677772467\n\t5020133584677772467 [label=0]\n\t2297666814085689246 -> -3761648464570011732\n\t-3761648464570011732 [label=\"metadsl_core.integer.Integer.from_int\"]\n\t-3761648464570011732 -> 5020133584678854992\n\t5020133584678854992 [label=1]\n\t2297666814085689246 -> -7842495516547100203\n\t-7842495516547100203 [label=\"metadsl_core.integer.Integer.__mul__\"]\n\t-7842495516547100203 -> 7664443263508927266\n\t-7842495516547100203 -> 648853626055728208\n\t648853626055728208 [label=\"metadsl_core.abstraction.Abstraction.__call__\"]\n\t648853626055728208 -> 1317201759694169871\n\t648853626055728208 -> 1880936048214380717\n\t1880936048214380717 [label=\"metadsl_core.integer.Integer.__sub__\"]\n\t1880936048214380717 -> 7664443263508927266\n\t1880936048214380717 -> -3761648464570011732\n\t5970376096185889217 -> -9198064950632429771\n\t-9198064950632429771 [label=\"metadsl_core.integer.Integer.from_int\"]\n\t-9198064950632429771 -> 5020133584681020042\n\t5020133584681020042 [label=3]\n}",
         "label": "core",
         "rule": "metadsl_core.abstraction.Abstraction.from_fn"
        },
        {
         "graph": "digraph {\n\t9195884396846811451 [label=\"metadsl_core.abstraction.Abstraction.__call__\"]\n\t9195884396846811451 -> 8918720544866503944\n\t8918720544866503944 [label=\"metadsl_core.abstraction.Abstraction.__call__\"]\n\t8918720544866503944 -> 857512534981601222\n\t857512534981601222 [label=\"metadsl_core.abstraction.Abstraction.create\"]\n\t857512534981601222 -> 1317201759694169871\n\t1317201759694169871 [label=\"metadsl_core.abstraction.Abstraction.create_variable\"]\n\t1317201759694169871 -> 6838651028649421597\n\t6838651028649421597 [label=\"Variable(4512105472)\"]\n\t857512534981601222 -> 3832378786494712998\n\t3832378786494712998 [label=\"metadsl_core.abstraction.Abstraction.create\"]\n\t3832378786494712998 -> 7664443263508927266\n\t7664443263508927266 [label=\"metadsl_core.abstraction.Abstraction.create_variable\"]\n\t7664443263508927266 -> -2384720982856948811\n\t-2384720982856948811 [label=\"Variable(4512349320)\"]\n\t3832378786494712998 -> 2297666814085689246\n\t2297666814085689246 [label=\"metadsl_core.boolean.Boolean.if_\"]\n\t2297666814085689246 -> 1610115233605074726\n\t1610115233605074726 [label=\"metadsl_core.integer.Integer.eq\"]\n\t1610115233605074726 -> 7664443263508927266\n\t1610115233605074726 -> -3261146991999286491\n\t-3261146991999286491 [label=\"metadsl_core.integer.Integer.from_int\"]\n\t-3261146991999286491 -> 5020133584677772467\n\t5020133584677772467 [label=0]\n\t2297666814085689246 -> -3761648464570011732\n\t-3761648464570011732 [label=\"metadsl_core.integer.Integer.from_int\"]\n\t-3761648464570011732 -> 5020133584678854992\n\t5020133584678854992 [label=1]\n\t2297666814085689246 -> -7842495516547100203\n\t-7842495516547100203 [label=\"metadsl_core.integer.Integer.__mul__\"]\n\t-7842495516547100203 -> 7664443263508927266\n\t-7842495516547100203 -> 648853626055728208\n\t648853626055728208 [label=\"metadsl_core.abstraction.Abstraction.__call__\"]\n\t648853626055728208 -> 1317201759694169871\n\t648853626055728208 -> 1880936048214380717\n\t1880936048214380717 [label=\"metadsl_core.integer.Integer.__sub__\"]\n\t1880936048214380717 -> 7664443263508927266\n\t1880936048214380717 -> -3761648464570011732\n\t8918720544866503944 -> -1739011688871278916\n\t-1739011688871278916 [label=\"metadsl_core.abstraction.Abstraction.fix\"]\n\t-1739011688871278916 -> 857512534981601222\n\t9195884396846811451 -> -9198064950632429771\n\t-9198064950632429771 [label=\"metadsl_core.integer.Integer.from_int\"]\n\t-9198064950632429771 -> 5020133584681020042\n\t5020133584681020042 [label=3]\n}",
         "label": null,
         "rule": "metadsl_core.abstraction.Abstraction.fix"
        },
        {
         "graph": "digraph {\n\t8812644984828765344 [label=\"metadsl_core.abstraction.Abstraction.__call__\"]\n\t8812644984828765344 -> 492210148375499800\n\t492210148375499800 [label=\"metadsl_core.abstraction.Abstraction.create\"]\n\t492210148375499800 -> 7664443263508927266\n\t7664443263508927266 [label=\"metadsl_core.abstraction.Abstraction.create_variable\"]\n\t7664443263508927266 -> -2384720982856948811\n\t-2384720982856948811 [label=\"Variable(4512349320)\"]\n\t492210148375499800 -> 6164834309607227234\n\t6164834309607227234 [label=\"metadsl_core.boolean.Boolean.if_\"]\n\t6164834309607227234 -> 1610115233605074726\n\t1610115233605074726 [label=\"metadsl_core.integer.Integer.eq\"]\n\t1610115233605074726 -> 7664443263508927266\n\t1610115233605074726 -> -3261146991999286491\n\t-3261146991999286491 [label=\"metadsl_core.integer.Integer.from_int\"]\n\t-3261146991999286491 -> 5020133584677772467\n\t5020133584677772467 [label=0]\n\t6164834309607227234 -> -3761648464570011732\n\t-3761648464570011732 [label=\"metadsl_core.integer.Integer.from_int\"]\n\t-3761648464570011732 -> 5020133584678854992\n\t5020133584678854992 [label=1]\n\t6164834309607227234 -> -1249476817723381172\n\t-1249476817723381172 [label=\"metadsl_core.integer.Integer.__mul__\"]\n\t-1249476817723381172 -> 7664443263508927266\n\t-1249476817723381172 -> -8236704211142714508\n\t-8236704211142714508 [label=\"metadsl_core.abstraction.Abstraction.__call__\"]\n\t-8236704211142714508 -> -1739011688871278916\n\t-1739011688871278916 [label=\"metadsl_core.abstraction.Abstraction.fix\"]\n\t-1739011688871278916 -> 857512534981601222\n\t857512534981601222 [label=\"metadsl_core.abstraction.Abstraction.create\"]\n\t857512534981601222 -> 1317201759694169871\n\t1317201759694169871 [label=\"metadsl_core.abstraction.Abstraction.create_variable\"]\n\t1317201759694169871 -> 6838651028649421597\n\t6838651028649421597 [label=\"Variable(4512105472)\"]\n\t857512534981601222 -> 3832378786494712998\n\t3832378786494712998 [label=\"metadsl_core.abstraction.Abstraction.create\"]\n\t3832378786494712998 -> 7664443263508927266\n\t3832378786494712998 -> 2297666814085689246\n\t2297666814085689246 [label=\"metadsl_core.boolean.Boolean.if_\"]\n\t2297666814085689246 -> 1610115233605074726\n\t2297666814085689246 -> -3761648464570011732\n\t2297666814085689246 -> -7842495516547100203\n\t-7842495516547100203 [label=\"metadsl_core.integer.Integer.__mul__\"]\n\t-7842495516547100203 -> 7664443263508927266\n\t-7842495516547100203 -> 648853626055728208\n\t648853626055728208 [label=\"metadsl_core.abstraction.Abstraction.__call__\"]\n\t648853626055728208 -> 1317201759694169871\n\t648853626055728208 -> 1880936048214380717\n\t1880936048214380717 [label=\"metadsl_core.integer.Integer.__sub__\"]\n\t1880936048214380717 -> 7664443263508927266\n\t1880936048214380717 -> -3761648464570011732\n\t-8236704211142714508 -> 1880936048214380717\n\t8812644984828765344 -> -9198064950632429771\n\t-9198064950632429771 [label=\"metadsl_core.integer.Integer.from_int\"]\n\t-9198064950632429771 -> 5020133584681020042\n\t5020133584681020042 [label=3]\n}",
         "label": null,
         "rule": "metadsl_core.abstraction.beta_reduce"
        },
        {
         "graph": "digraph {\n\t2493859532809620943 [label=\"metadsl_core.boolean.Boolean.if_\"]\n\t2493859532809620943 -> 5237967625547649244\n\t5237967625547649244 [label=\"metadsl_core.integer.Integer.eq\"]\n\t5237967625547649244 -> -9198064950632429771\n\t-9198064950632429771 [label=\"metadsl_core.integer.Integer.from_int\"]\n\t-9198064950632429771 -> 5020133584681020042\n\t5020133584681020042 [label=3]\n\t5237967625547649244 -> -3261146991999286491\n\t-3261146991999286491 [label=\"metadsl_core.integer.Integer.from_int\"]\n\t-3261146991999286491 -> 5020133584677772467\n\t5020133584677772467 [label=0]\n\t2493859532809620943 -> -3761648464570011732\n\t-3761648464570011732 [label=\"metadsl_core.integer.Integer.from_int\"]\n\t-3761648464570011732 -> 5020133584678854992\n\t5020133584678854992 [label=1]\n\t2493859532809620943 -> -7173634895950929025\n\t-7173634895950929025 [label=\"metadsl_core.integer.Integer.__mul__\"]\n\t-7173634895950929025 -> -9198064950632429771\n\t-7173634895950929025 -> 3073275938252098663\n\t3073275938252098663 [label=\"metadsl_core.abstraction.Abstraction.__call__\"]\n\t3073275938252098663 -> -1739011688871278916\n\t-1739011688871278916 [label=\"metadsl_core.abstraction.Abstraction.fix\"]\n\t-1739011688871278916 -> 857512534981601222\n\t857512534981601222 [label=\"metadsl_core.abstraction.Abstraction.create\"]\n\t857512534981601222 -> 1317201759694169871\n\t1317201759694169871 [label=\"metadsl_core.abstraction.Abstraction.create_variable\"]\n\t1317201759694169871 -> 6838651028649421597\n\t6838651028649421597 [label=\"Variable(4512105472)\"]\n\t857512534981601222 -> 3832378786494712998\n\t3832378786494712998 [label=\"metadsl_core.abstraction.Abstraction.create\"]\n\t3832378786494712998 -> 7664443263508927266\n\t7664443263508927266 [label=\"metadsl_core.abstraction.Abstraction.create_variable\"]\n\t7664443263508927266 -> -2384720982856948811\n\t-2384720982856948811 [label=\"Variable(4512349320)\"]\n\t3832378786494712998 -> 2297666814085689246\n\t2297666814085689246 [label=\"metadsl_core.boolean.Boolean.if_\"]\n\t2297666814085689246 -> 1610115233605074726\n\t1610115233605074726 [label=\"metadsl_core.integer.Integer.eq\"]\n\t1610115233605074726 -> 7664443263508927266\n\t1610115233605074726 -> -3261146991999286491\n\t2297666814085689246 -> -3761648464570011732\n\t2297666814085689246 -> -7842495516547100203\n\t-7842495516547100203 [label=\"metadsl_core.integer.Integer.__mul__\"]\n\t-7842495516547100203 -> 7664443263508927266\n\t-7842495516547100203 -> 648853626055728208\n\t648853626055728208 [label=\"metadsl_core.abstraction.Abstraction.__call__\"]\n\t648853626055728208 -> 1317201759694169871\n\t648853626055728208 -> 1880936048214380717\n\t1880936048214380717 [label=\"metadsl_core.integer.Integer.__sub__\"]\n\t1880936048214380717 -> 7664443263508927266\n\t1880936048214380717 -> -3761648464570011732\n\t3073275938252098663 -> 1964821022688577691\n\t1964821022688577691 [label=\"metadsl_core.integer.Integer.__sub__\"]\n\t1964821022688577691 -> -9198064950632429771\n\t1964821022688577691 -> -3761648464570011732\n}",
         "label": null,
         "rule": "metadsl_core.abstraction.beta_reduce"
        },
        {
         "graph": "digraph {\n\t-6657090525025480772 [label=\"metadsl_core.boolean.Boolean.if_\"]\n\t-6657090525025480772 -> -8881034144831541911\n\t-8881034144831541911 [label=\"metadsl_core.boolean.Boolean.create\"]\n\t-8881034144831541911 -> -1343543487855198425\n\t-1343543487855198425 [label=False]\n\t-6657090525025480772 -> -3761648464570011732\n\t-3761648464570011732 [label=\"metadsl_core.integer.Integer.from_int\"]\n\t-3761648464570011732 -> 5020133584678854992\n\t5020133584678854992 [label=1]\n\t-6657090525025480772 -> -7173634895950929025\n\t-7173634895950929025 [label=\"metadsl_core.integer.Integer.__mul__\"]\n\t-7173634895950929025 -> -9198064950632429771\n\t-9198064950632429771 [label=\"metadsl_core.integer.Integer.from_int\"]\n\t-9198064950632429771 -> 5020133584681020042\n\t5020133584681020042 [label=3]\n\t-7173634895950929025 -> 3073275938252098663\n\t3073275938252098663 [label=\"metadsl_core.abstraction.Abstraction.__call__\"]\n\t3073275938252098663 -> -1739011688871278916\n\t-1739011688871278916 [label=\"metadsl_core.abstraction.Abstraction.fix\"]\n\t-1739011688871278916 -> 857512534981601222\n\t857512534981601222 [label=\"metadsl_core.abstraction.Abstraction.create\"]\n\t857512534981601222 -> 1317201759694169871\n\t1317201759694169871 [label=\"metadsl_core.abstraction.Abstraction.create_variable\"]\n\t1317201759694169871 -> 6838651028649421597\n\t6838651028649421597 [label=\"Variable(4512105472)\"]\n\t857512534981601222 -> 3832378786494712998\n\t3832378786494712998 [label=\"metadsl_core.abstraction.Abstraction.create\"]\n\t3832378786494712998 -> 7664443263508927266\n\t7664443263508927266 [label=\"metadsl_core.abstraction.Abstraction.create_variable\"]\n\t7664443263508927266 -> -2384720982856948811\n\t-2384720982856948811 [label=\"Variable(4512349320)\"]\n\t3832378786494712998 -> 2297666814085689246\n\t2297666814085689246 [label=\"metadsl_core.boolean.Boolean.if_\"]\n\t2297666814085689246 -> 1610115233605074726\n\t1610115233605074726 [label=\"metadsl_core.integer.Integer.eq\"]\n\t1610115233605074726 -> 7664443263508927266\n\t1610115233605074726 -> -3261146991999286491\n\t-3261146991999286491 [label=\"metadsl_core.integer.Integer.from_int\"]\n\t-3261146991999286491 -> 5020133584677772467\n\t5020133584677772467 [label=0]\n\t2297666814085689246 -> -3761648464570011732\n\t2297666814085689246 -> -7842495516547100203\n\t-7842495516547100203 [label=\"metadsl_core.integer.Integer.__mul__\"]\n\t-7842495516547100203 -> 7664443263508927266\n\t-7842495516547100203 -> 648853626055728208\n\t648853626055728208 [label=\"metadsl_core.abstraction.Abstraction.__call__\"]\n\t648853626055728208 -> 1317201759694169871\n\t648853626055728208 -> 1880936048214380717\n\t1880936048214380717 [label=\"metadsl_core.integer.Integer.__sub__\"]\n\t1880936048214380717 -> 7664443263508927266\n\t1880936048214380717 -> -3761648464570011732\n\t3073275938252098663 -> 1964821022688577691\n\t1964821022688577691 [label=\"metadsl_core.integer.Integer.__sub__\"]\n\t1964821022688577691 -> -9198064950632429771\n\t1964821022688577691 -> -3761648464570011732\n}",
         "label": null,
         "rule": "metadsl_core.integer.integer_eq"
        },
        {
         "graph": "digraph {\n\t-7173634895950929025 [label=\"metadsl_core.integer.Integer.__mul__\"]\n\t-7173634895950929025 -> -9198064950632429771\n\t-9198064950632429771 [label=\"metadsl_core.integer.Integer.from_int\"]\n\t-9198064950632429771 -> 5020133584681020042\n\t5020133584681020042 [label=3]\n\t-7173634895950929025 -> 3073275938252098663\n\t3073275938252098663 [label=\"metadsl_core.abstraction.Abstraction.__call__\"]\n\t3073275938252098663 -> -1739011688871278916\n\t-1739011688871278916 [label=\"metadsl_core.abstraction.Abstraction.fix\"]\n\t-1739011688871278916 -> 857512534981601222\n\t857512534981601222 [label=\"metadsl_core.abstraction.Abstraction.create\"]\n\t857512534981601222 -> 1317201759694169871\n\t1317201759694169871 [label=\"metadsl_core.abstraction.Abstraction.create_variable\"]\n\t1317201759694169871 -> 6838651028649421597\n\t6838651028649421597 [label=\"Variable(4512105472)\"]\n\t857512534981601222 -> 3832378786494712998\n\t3832378786494712998 [label=\"metadsl_core.abstraction.Abstraction.create\"]\n\t3832378786494712998 -> 7664443263508927266\n\t7664443263508927266 [label=\"metadsl_core.abstraction.Abstraction.create_variable\"]\n\t7664443263508927266 -> -2384720982856948811\n\t-2384720982856948811 [label=\"Variable(4512349320)\"]\n\t3832378786494712998 -> 2297666814085689246\n\t2297666814085689246 [label=\"metadsl_core.boolean.Boolean.if_\"]\n\t2297666814085689246 -> 1610115233605074726\n\t1610115233605074726 [label=\"metadsl_core.integer.Integer.eq\"]\n\t1610115233605074726 -> 7664443263508927266\n\t1610115233605074726 -> -3261146991999286491\n\t-3261146991999286491 [label=\"metadsl_core.integer.Integer.from_int\"]\n\t-3261146991999286491 -> 5020133584677772467\n\t5020133584677772467 [label=0]\n\t2297666814085689246 -> -3761648464570011732\n\t-3761648464570011732 [label=\"metadsl_core.integer.Integer.from_int\"]\n\t-3761648464570011732 -> 5020133584678854992\n\t5020133584678854992 [label=1]\n\t2297666814085689246 -> -7842495516547100203\n\t-7842495516547100203 [label=\"metadsl_core.integer.Integer.__mul__\"]\n\t-7842495516547100203 -> 7664443263508927266\n\t-7842495516547100203 -> 648853626055728208\n\t648853626055728208 [label=\"metadsl_core.abstraction.Abstraction.__call__\"]\n\t648853626055728208 -> 1317201759694169871\n\t648853626055728208 -> 1880936048214380717\n\t1880936048214380717 [label=\"metadsl_core.integer.Integer.__sub__\"]\n\t1880936048214380717 -> 7664443263508927266\n\t1880936048214380717 -> -3761648464570011732\n\t3073275938252098663 -> 1964821022688577691\n\t1964821022688577691 [label=\"metadsl_core.integer.Integer.__sub__\"]\n\t1964821022688577691 -> -9198064950632429771\n\t1964821022688577691 -> -3761648464570011732\n}",
         "label": null,
         "rule": "metadsl_core.boolean.if_"
        },
        {
         "graph": "digraph {\n\t497511676543944926 [label=\"metadsl_core.integer.Integer.__mul__\"]\n\t497511676543944926 -> -9198064950632429771\n\t-9198064950632429771 [label=\"metadsl_core.integer.Integer.from_int\"]\n\t-9198064950632429771 -> 5020133584681020042\n\t5020133584681020042 [label=3]\n\t497511676543944926 -> -467432560236078307\n\t-467432560236078307 [label=\"metadsl_core.abstraction.Abstraction.__call__\"]\n\t-467432560236078307 -> -1739011688871278916\n\t-1739011688871278916 [label=\"metadsl_core.abstraction.Abstraction.fix\"]\n\t-1739011688871278916 -> 857512534981601222\n\t857512534981601222 [label=\"metadsl_core.abstraction.Abstraction.create\"]\n\t857512534981601222 -> 1317201759694169871\n\t1317201759694169871 [label=\"metadsl_core.abstraction.Abstraction.create_variable\"]\n\t1317201759694169871 -> 6838651028649421597\n\t6838651028649421597 [label=\"Variable(4512105472)\"]\n\t857512534981601222 -> 3832378786494712998\n\t3832378786494712998 [label=\"metadsl_core.abstraction.Abstraction.create\"]\n\t3832378786494712998 -> 7664443263508927266\n\t7664443263508927266 [label=\"metadsl_core.abstraction.Abstraction.create_variable\"]\n\t7664443263508927266 -> -2384720982856948811\n\t-2384720982856948811 [label=\"Variable(4512349320)\"]\n\t3832378786494712998 -> 2297666814085689246\n\t2297666814085689246 [label=\"metadsl_core.boolean.Boolean.if_\"]\n\t2297666814085689246 -> 1610115233605074726\n\t1610115233605074726 [label=\"metadsl_core.integer.Integer.eq\"]\n\t1610115233605074726 -> 7664443263508927266\n\t1610115233605074726 -> -3261146991999286491\n\t-3261146991999286491 [label=\"metadsl_core.integer.Integer.from_int\"]\n\t-3261146991999286491 -> 5020133584677772467\n\t5020133584677772467 [label=0]\n\t2297666814085689246 -> -3761648464570011732\n\t-3761648464570011732 [label=\"metadsl_core.integer.Integer.from_int\"]\n\t-3761648464570011732 -> 5020133584678854992\n\t5020133584678854992 [label=1]\n\t2297666814085689246 -> -7842495516547100203\n\t-7842495516547100203 [label=\"metadsl_core.integer.Integer.__mul__\"]\n\t-7842495516547100203 -> 7664443263508927266\n\t-7842495516547100203 -> 648853626055728208\n\t648853626055728208 [label=\"metadsl_core.abstraction.Abstraction.__call__\"]\n\t648853626055728208 -> 1317201759694169871\n\t648853626055728208 -> 1880936048214380717\n\t1880936048214380717 [label=\"metadsl_core.integer.Integer.__sub__\"]\n\t1880936048214380717 -> 7664443263508927266\n\t1880936048214380717 -> -3761648464570011732\n\t-467432560236078307 -> 448377045070022433\n\t448377045070022433 [label=\"metadsl_core.integer.Integer.from_int\"]\n\t448377045070022433 -> 5020133584679937517\n\t5020133584679937517 [label=2]\n}",
         "label": null,
         "rule": "metadsl_core.integer.integer_math"
        },
        {
         "graph": "digraph {\n\t8069484191585452082 [label=\"metadsl_core.integer.Integer.__mul__\"]\n\t8069484191585452082 -> -9198064950632429771\n\t-9198064950632429771 [label=\"metadsl_core.integer.Integer.from_int\"]\n\t-9198064950632429771 -> 5020133584681020042\n\t5020133584681020042 [label=3]\n\t8069484191585452082 -> 7685862414596826760\n\t7685862414596826760 [label=\"metadsl_core.abstraction.Abstraction.__call__\"]\n\t7685862414596826760 -> 2567654429536128935\n\t2567654429536128935 [label=\"metadsl_core.abstraction.Abstraction.__call__\"]\n\t2567654429536128935 -> 857512534981601222\n\t857512534981601222 [label=\"metadsl_core.abstraction.Abstraction.create\"]\n\t857512534981601222 -> 1317201759694169871\n\t1317201759694169871 [label=\"metadsl_core.abstraction.Abstraction.create_variable\"]\n\t1317201759694169871 -> 6838651028649421597\n\t6838651028649421597 [label=\"Variable(4512105472)\"]\n\t857512534981601222 -> 3832378786494712998\n\t3832378786494712998 [label=\"metadsl_core.abstraction.Abstraction.create\"]\n\t3832378786494712998 -> 7664443263508927266\n\t7664443263508927266 [label=\"metadsl_core.abstraction.Abstraction.create_variable\"]\n\t7664443263508927266 -> -2384720982856948811\n\t-2384720982856948811 [label=\"Variable(4512349320)\"]\n\t3832378786494712998 -> 2297666814085689246\n\t2297666814085689246 [label=\"metadsl_core.boolean.Boolean.if_\"]\n\t2297666814085689246 -> 1610115233605074726\n\t1610115233605074726 [label=\"metadsl_core.integer.Integer.eq\"]\n\t1610115233605074726 -> 7664443263508927266\n\t1610115233605074726 -> -3261146991999286491\n\t-3261146991999286491 [label=\"metadsl_core.integer.Integer.from_int\"]\n\t-3261146991999286491 -> 5020133584677772467\n\t5020133584677772467 [label=0]\n\t2297666814085689246 -> -3761648464570011732\n\t-3761648464570011732 [label=\"metadsl_core.integer.Integer.from_int\"]\n\t-3761648464570011732 -> 5020133584678854992\n\t5020133584678854992 [label=1]\n\t2297666814085689246 -> -7842495516547100203\n\t-7842495516547100203 [label=\"metadsl_core.integer.Integer.__mul__\"]\n\t-7842495516547100203 -> 7664443263508927266\n\t-7842495516547100203 -> 648853626055728208\n\t648853626055728208 [label=\"metadsl_core.abstraction.Abstraction.__call__\"]\n\t648853626055728208 -> 1317201759694169871\n\t648853626055728208 -> 1880936048214380717\n\t1880936048214380717 [label=\"metadsl_core.integer.Integer.__sub__\"]\n\t1880936048214380717 -> 7664443263508927266\n\t1880936048214380717 -> -3761648464570011732\n\t2567654429536128935 -> -1739011688871278916\n\t-1739011688871278916 [label=\"metadsl_core.abstraction.Abstraction.fix\"]\n\t-1739011688871278916 -> 857512534981601222\n\t7685862414596826760 -> 448377045070022433\n\t448377045070022433 [label=\"metadsl_core.integer.Integer.from_int\"]\n\t448377045070022433 -> 5020133584679937517\n\t5020133584679937517 [label=2]\n}",
         "label": null,
         "rule": "metadsl_core.abstraction.Abstraction.fix"
        },
        {
         "graph": "digraph {\n\t-5988358747029618461 [label=\"metadsl_core.integer.Integer.__mul__\"]\n\t-5988358747029618461 -> -9198064950632429771\n\t-9198064950632429771 [label=\"metadsl_core.integer.Integer.from_int\"]\n\t-9198064950632429771 -> 5020133584681020042\n\t5020133584681020042 [label=3]\n\t-5988358747029618461 -> -3005929120812484172\n\t-3005929120812484172 [label=\"metadsl_core.abstraction.Abstraction.__call__\"]\n\t-3005929120812484172 -> 492210148375499800\n\t492210148375499800 [label=\"metadsl_core.abstraction.Abstraction.create\"]\n\t492210148375499800 -> 7664443263508927266\n\t7664443263508927266 [label=\"metadsl_core.abstraction.Abstraction.create_variable\"]\n\t7664443263508927266 -> -2384720982856948811\n\t-2384720982856948811 [label=\"Variable(4512349320)\"]\n\t492210148375499800 -> 6164834309607227234\n\t6164834309607227234 [label=\"metadsl_core.boolean.Boolean.if_\"]\n\t6164834309607227234 -> 1610115233605074726\n\t1610115233605074726 [label=\"metadsl_core.integer.Integer.eq\"]\n\t1610115233605074726 -> 7664443263508927266\n\t1610115233605074726 -> -3261146991999286491\n\t-3261146991999286491 [label=\"metadsl_core.integer.Integer.from_int\"]\n\t-3261146991999286491 -> 5020133584677772467\n\t5020133584677772467 [label=0]\n\t6164834309607227234 -> -3761648464570011732\n\t-3761648464570011732 [label=\"metadsl_core.integer.Integer.from_int\"]\n\t-3761648464570011732 -> 5020133584678854992\n\t5020133584678854992 [label=1]\n\t6164834309607227234 -> -1249476817723381172\n\t-1249476817723381172 [label=\"metadsl_core.integer.Integer.__mul__\"]\n\t-1249476817723381172 -> 7664443263508927266\n\t-1249476817723381172 -> -8236704211142714508\n\t-8236704211142714508 [label=\"metadsl_core.abstraction.Abstraction.__call__\"]\n\t-8236704211142714508 -> -1739011688871278916\n\t-1739011688871278916 [label=\"metadsl_core.abstraction.Abstraction.fix\"]\n\t-1739011688871278916 -> 857512534981601222\n\t857512534981601222 [label=\"metadsl_core.abstraction.Abstraction.create\"]\n\t857512534981601222 -> 1317201759694169871\n\t1317201759694169871 [label=\"metadsl_core.abstraction.Abstraction.create_variable\"]\n\t1317201759694169871 -> 6838651028649421597\n\t6838651028649421597 [label=\"Variable(4512105472)\"]\n\t857512534981601222 -> 3832378786494712998\n\t3832378786494712998 [label=\"metadsl_core.abstraction.Abstraction.create\"]\n\t3832378786494712998 -> 7664443263508927266\n\t3832378786494712998 -> 2297666814085689246\n\t2297666814085689246 [label=\"metadsl_core.boolean.Boolean.if_\"]\n\t2297666814085689246 -> 1610115233605074726\n\t2297666814085689246 -> -3761648464570011732\n\t2297666814085689246 -> -7842495516547100203\n\t-7842495516547100203 [label=\"metadsl_core.integer.Integer.__mul__\"]\n\t-7842495516547100203 -> 7664443263508927266\n\t-7842495516547100203 -> 648853626055728208\n\t648853626055728208 [label=\"metadsl_core.abstraction.Abstraction.__call__\"]\n\t648853626055728208 -> 1317201759694169871\n\t648853626055728208 -> 1880936048214380717\n\t1880936048214380717 [label=\"metadsl_core.integer.Integer.__sub__\"]\n\t1880936048214380717 -> 7664443263508927266\n\t1880936048214380717 -> -3761648464570011732\n\t-8236704211142714508 -> 1880936048214380717\n\t-3005929120812484172 -> 448377045070022433\n\t448377045070022433 [label=\"metadsl_core.integer.Integer.from_int\"]\n\t448377045070022433 -> 5020133584679937517\n\t5020133584679937517 [label=2]\n}",
         "label": null,
         "rule": "metadsl_core.abstraction.beta_reduce"
        },
        {
         "graph": "digraph {\n\t-4389650980285422461 [label=\"metadsl_core.integer.Integer.__mul__\"]\n\t-4389650980285422461 -> -9198064950632429771\n\t-9198064950632429771 [label=\"metadsl_core.integer.Integer.from_int\"]\n\t-9198064950632429771 -> 5020133584681020042\n\t5020133584681020042 [label=3]\n\t-4389650980285422461 -> -8290421899266135467\n\t-8290421899266135467 [label=\"metadsl_core.boolean.Boolean.if_\"]\n\t-8290421899266135467 -> 6224739780514286792\n\t6224739780514286792 [label=\"metadsl_core.integer.Integer.eq\"]\n\t6224739780514286792 -> 448377045070022433\n\t448377045070022433 [label=\"metadsl_core.integer.Integer.from_int\"]\n\t448377045070022433 -> 5020133584679937517\n\t5020133584679937517 [label=2]\n\t6224739780514286792 -> -3261146991999286491\n\t-3261146991999286491 [label=\"metadsl_core.integer.Integer.from_int\"]\n\t-3261146991999286491 -> 5020133584677772467\n\t5020133584677772467 [label=0]\n\t-8290421899266135467 -> -3761648464570011732\n\t-3761648464570011732 [label=\"metadsl_core.integer.Integer.from_int\"]\n\t-3761648464570011732 -> 5020133584678854992\n\t5020133584678854992 [label=1]\n\t-8290421899266135467 -> 5097374435845051589\n\t5097374435845051589 [label=\"metadsl_core.integer.Integer.__mul__\"]\n\t5097374435845051589 -> 448377045070022433\n\t5097374435845051589 -> -36580418668738439\n\t-36580418668738439 [label=\"metadsl_core.abstraction.Abstraction.__call__\"]\n\t-36580418668738439 -> -1739011688871278916\n\t-1739011688871278916 [label=\"metadsl_core.abstraction.Abstraction.fix\"]\n\t-1739011688871278916 -> 857512534981601222\n\t857512534981601222 [label=\"metadsl_core.abstraction.Abstraction.create\"]\n\t857512534981601222 -> 1317201759694169871\n\t1317201759694169871 [label=\"metadsl_core.abstraction.Abstraction.create_variable\"]\n\t1317201759694169871 -> 6838651028649421597\n\t6838651028649421597 [label=\"Variable(4512105472)\"]\n\t857512534981601222 -> 3832378786494712998\n\t3832378786494712998 [label=\"metadsl_core.abstraction.Abstraction.create\"]\n\t3832378786494712998 -> 7664443263508927266\n\t7664443263508927266 [label=\"metadsl_core.abstraction.Abstraction.create_variable\"]\n\t7664443263508927266 -> -2384720982856948811\n\t-2384720982856948811 [label=\"Variable(4512349320)\"]\n\t3832378786494712998 -> 2297666814085689246\n\t2297666814085689246 [label=\"metadsl_core.boolean.Boolean.if_\"]\n\t2297666814085689246 -> 1610115233605074726\n\t1610115233605074726 [label=\"metadsl_core.integer.Integer.eq\"]\n\t1610115233605074726 -> 7664443263508927266\n\t1610115233605074726 -> -3261146991999286491\n\t2297666814085689246 -> -3761648464570011732\n\t2297666814085689246 -> -7842495516547100203\n\t-7842495516547100203 [label=\"metadsl_core.integer.Integer.__mul__\"]\n\t-7842495516547100203 -> 7664443263508927266\n\t-7842495516547100203 -> 648853626055728208\n\t648853626055728208 [label=\"metadsl_core.abstraction.Abstraction.__call__\"]\n\t648853626055728208 -> 1317201759694169871\n\t648853626055728208 -> 1880936048214380717\n\t1880936048214380717 [label=\"metadsl_core.integer.Integer.__sub__\"]\n\t1880936048214380717 -> 7664443263508927266\n\t1880936048214380717 -> -3761648464570011732\n\t-36580418668738439 -> 4195317152331464951\n\t4195317152331464951 [label=\"metadsl_core.integer.Integer.__sub__\"]\n\t4195317152331464951 -> 448377045070022433\n\t4195317152331464951 -> -3761648464570011732\n}",
         "label": null,
         "rule": "metadsl_core.abstraction.beta_reduce"
        },
        {
         "graph": "digraph {\n\t3340767993503539728 [label=\"metadsl_core.integer.Integer.__mul__\"]\n\t3340767993503539728 -> -9198064950632429771\n\t-9198064950632429771 [label=\"metadsl_core.integer.Integer.from_int\"]\n\t-9198064950632429771 -> 5020133584681020042\n\t5020133584681020042 [label=3]\n\t3340767993503539728 -> -3224532582408340970\n\t-3224532582408340970 [label=\"metadsl_core.boolean.Boolean.if_\"]\n\t-3224532582408340970 -> -8881034144831541911\n\t-8881034144831541911 [label=\"metadsl_core.boolean.Boolean.create\"]\n\t-8881034144831541911 -> -1343543487855198425\n\t-1343543487855198425 [label=False]\n\t-3224532582408340970 -> -3761648464570011732\n\t-3761648464570011732 [label=\"metadsl_core.integer.Integer.from_int\"]\n\t-3761648464570011732 -> 5020133584678854992\n\t5020133584678854992 [label=1]\n\t-3224532582408340970 -> 5097374435845051589\n\t5097374435845051589 [label=\"metadsl_core.integer.Integer.__mul__\"]\n\t5097374435845051589 -> 448377045070022433\n\t448377045070022433 [label=\"metadsl_core.integer.Integer.from_int\"]\n\t448377045070022433 -> 5020133584679937517\n\t5020133584679937517 [label=2]\n\t5097374435845051589 -> -36580418668738439\n\t-36580418668738439 [label=\"metadsl_core.abstraction.Abstraction.__call__\"]\n\t-36580418668738439 -> -1739011688871278916\n\t-1739011688871278916 [label=\"metadsl_core.abstraction.Abstraction.fix\"]\n\t-1739011688871278916 -> 857512534981601222\n\t857512534981601222 [label=\"metadsl_core.abstraction.Abstraction.create\"]\n\t857512534981601222 -> 1317201759694169871\n\t1317201759694169871 [label=\"metadsl_core.abstraction.Abstraction.create_variable\"]\n\t1317201759694169871 -> 6838651028649421597\n\t6838651028649421597 [label=\"Variable(4512105472)\"]\n\t857512534981601222 -> 3832378786494712998\n\t3832378786494712998 [label=\"metadsl_core.abstraction.Abstraction.create\"]\n\t3832378786494712998 -> 7664443263508927266\n\t7664443263508927266 [label=\"metadsl_core.abstraction.Abstraction.create_variable\"]\n\t7664443263508927266 -> -2384720982856948811\n\t-2384720982856948811 [label=\"Variable(4512349320)\"]\n\t3832378786494712998 -> 2297666814085689246\n\t2297666814085689246 [label=\"metadsl_core.boolean.Boolean.if_\"]\n\t2297666814085689246 -> 1610115233605074726\n\t1610115233605074726 [label=\"metadsl_core.integer.Integer.eq\"]\n\t1610115233605074726 -> 7664443263508927266\n\t1610115233605074726 -> -3261146991999286491\n\t-3261146991999286491 [label=\"metadsl_core.integer.Integer.from_int\"]\n\t-3261146991999286491 -> 5020133584677772467\n\t5020133584677772467 [label=0]\n\t2297666814085689246 -> -3761648464570011732\n\t2297666814085689246 -> -7842495516547100203\n\t-7842495516547100203 [label=\"metadsl_core.integer.Integer.__mul__\"]\n\t-7842495516547100203 -> 7664443263508927266\n\t-7842495516547100203 -> 648853626055728208\n\t648853626055728208 [label=\"metadsl_core.abstraction.Abstraction.__call__\"]\n\t648853626055728208 -> 1317201759694169871\n\t648853626055728208 -> 1880936048214380717\n\t1880936048214380717 [label=\"metadsl_core.integer.Integer.__sub__\"]\n\t1880936048214380717 -> 7664443263508927266\n\t1880936048214380717 -> -3761648464570011732\n\t-36580418668738439 -> 4195317152331464951\n\t4195317152331464951 [label=\"metadsl_core.integer.Integer.__sub__\"]\n\t4195317152331464951 -> 448377045070022433\n\t4195317152331464951 -> -3761648464570011732\n}",
         "label": null,
         "rule": "metadsl_core.integer.integer_eq"
        },
        {
         "graph": "digraph {\n\t-406601741073018782 [label=\"metadsl_core.integer.Integer.__mul__\"]\n\t-406601741073018782 -> -9198064950632429771\n\t-9198064950632429771 [label=\"metadsl_core.integer.Integer.from_int\"]\n\t-9198064950632429771 -> 5020133584681020042\n\t5020133584681020042 [label=3]\n\t-406601741073018782 -> 5097374435845051589\n\t5097374435845051589 [label=\"metadsl_core.integer.Integer.__mul__\"]\n\t5097374435845051589 -> 448377045070022433\n\t448377045070022433 [label=\"metadsl_core.integer.Integer.from_int\"]\n\t448377045070022433 -> 5020133584679937517\n\t5020133584679937517 [label=2]\n\t5097374435845051589 -> -36580418668738439\n\t-36580418668738439 [label=\"metadsl_core.abstraction.Abstraction.__call__\"]\n\t-36580418668738439 -> -1739011688871278916\n\t-1739011688871278916 [label=\"metadsl_core.abstraction.Abstraction.fix\"]\n\t-1739011688871278916 -> 857512534981601222\n\t857512534981601222 [label=\"metadsl_core.abstraction.Abstraction.create\"]\n\t857512534981601222 -> 1317201759694169871\n\t1317201759694169871 [label=\"metadsl_core.abstraction.Abstraction.create_variable\"]\n\t1317201759694169871 -> 6838651028649421597\n\t6838651028649421597 [label=\"Variable(4512105472)\"]\n\t857512534981601222 -> 3832378786494712998\n\t3832378786494712998 [label=\"metadsl_core.abstraction.Abstraction.create\"]\n\t3832378786494712998 -> 7664443263508927266\n\t7664443263508927266 [label=\"metadsl_core.abstraction.Abstraction.create_variable\"]\n\t7664443263508927266 -> -2384720982856948811\n\t-2384720982856948811 [label=\"Variable(4512349320)\"]\n\t3832378786494712998 -> 2297666814085689246\n\t2297666814085689246 [label=\"metadsl_core.boolean.Boolean.if_\"]\n\t2297666814085689246 -> 1610115233605074726\n\t1610115233605074726 [label=\"metadsl_core.integer.Integer.eq\"]\n\t1610115233605074726 -> 7664443263508927266\n\t1610115233605074726 -> -3261146991999286491\n\t-3261146991999286491 [label=\"metadsl_core.integer.Integer.from_int\"]\n\t-3261146991999286491 -> 5020133584677772467\n\t5020133584677772467 [label=0]\n\t2297666814085689246 -> -3761648464570011732\n\t-3761648464570011732 [label=\"metadsl_core.integer.Integer.from_int\"]\n\t-3761648464570011732 -> 5020133584678854992\n\t5020133584678854992 [label=1]\n\t2297666814085689246 -> -7842495516547100203\n\t-7842495516547100203 [label=\"metadsl_core.integer.Integer.__mul__\"]\n\t-7842495516547100203 -> 7664443263508927266\n\t-7842495516547100203 -> 648853626055728208\n\t648853626055728208 [label=\"metadsl_core.abstraction.Abstraction.__call__\"]\n\t648853626055728208 -> 1317201759694169871\n\t648853626055728208 -> 1880936048214380717\n\t1880936048214380717 [label=\"metadsl_core.integer.Integer.__sub__\"]\n\t1880936048214380717 -> 7664443263508927266\n\t1880936048214380717 -> -3761648464570011732\n\t-36580418668738439 -> 4195317152331464951\n\t4195317152331464951 [label=\"metadsl_core.integer.Integer.__sub__\"]\n\t4195317152331464951 -> 448377045070022433\n\t4195317152331464951 -> -3761648464570011732\n}",
         "label": null,
         "rule": "metadsl_core.boolean.if_"
        },
        {
         "graph": "digraph {\n\t5556213684307370570 [label=\"metadsl_core.integer.Integer.__mul__\"]\n\t5556213684307370570 -> -9198064950632429771\n\t-9198064950632429771 [label=\"metadsl_core.integer.Integer.from_int\"]\n\t-9198064950632429771 -> 5020133584681020042\n\t5020133584681020042 [label=3]\n\t5556213684307370570 -> -8383502884057781075\n\t-8383502884057781075 [label=\"metadsl_core.integer.Integer.__mul__\"]\n\t-8383502884057781075 -> 448377045070022433\n\t448377045070022433 [label=\"metadsl_core.integer.Integer.from_int\"]\n\t448377045070022433 -> 5020133584679937517\n\t5020133584679937517 [label=2]\n\t-8383502884057781075 -> -6753046580149111840\n\t-6753046580149111840 [label=\"metadsl_core.abstraction.Abstraction.__call__\"]\n\t-6753046580149111840 -> -1739011688871278916\n\t-1739011688871278916 [label=\"metadsl_core.abstraction.Abstraction.fix\"]\n\t-1739011688871278916 -> 857512534981601222\n\t857512534981601222 [label=\"metadsl_core.abstraction.Abstraction.create\"]\n\t857512534981601222 -> 1317201759694169871\n\t1317201759694169871 [label=\"metadsl_core.abstraction.Abstraction.create_variable\"]\n\t1317201759694169871 -> 6838651028649421597\n\t6838651028649421597 [label=\"Variable(4512105472)\"]\n\t857512534981601222 -> 3832378786494712998\n\t3832378786494712998 [label=\"metadsl_core.abstraction.Abstraction.create\"]\n\t3832378786494712998 -> 7664443263508927266\n\t7664443263508927266 [label=\"metadsl_core.abstraction.Abstraction.create_variable\"]\n\t7664443263508927266 -> -2384720982856948811\n\t-2384720982856948811 [label=\"Variable(4512349320)\"]\n\t3832378786494712998 -> 2297666814085689246\n\t2297666814085689246 [label=\"metadsl_core.boolean.Boolean.if_\"]\n\t2297666814085689246 -> 1610115233605074726\n\t1610115233605074726 [label=\"metadsl_core.integer.Integer.eq\"]\n\t1610115233605074726 -> 7664443263508927266\n\t1610115233605074726 -> -3261146991999286491\n\t-3261146991999286491 [label=\"metadsl_core.integer.Integer.from_int\"]\n\t-3261146991999286491 -> 5020133584677772467\n\t5020133584677772467 [label=0]\n\t2297666814085689246 -> -3761648464570011732\n\t-3761648464570011732 [label=\"metadsl_core.integer.Integer.from_int\"]\n\t-3761648464570011732 -> 5020133584678854992\n\t5020133584678854992 [label=1]\n\t2297666814085689246 -> -7842495516547100203\n\t-7842495516547100203 [label=\"metadsl_core.integer.Integer.__mul__\"]\n\t-7842495516547100203 -> 7664443263508927266\n\t-7842495516547100203 -> 648853626055728208\n\t648853626055728208 [label=\"metadsl_core.abstraction.Abstraction.__call__\"]\n\t648853626055728208 -> 1317201759694169871\n\t648853626055728208 -> 1880936048214380717\n\t1880936048214380717 [label=\"metadsl_core.integer.Integer.__sub__\"]\n\t1880936048214380717 -> 7664443263508927266\n\t1880936048214380717 -> -3761648464570011732\n\t-6753046580149111840 -> -3761648464570011732\n}",
         "label": null,
         "rule": "metadsl_core.integer.integer_math"
        },
        {
         "graph": "digraph {\n\t-156400494958923495 [label=\"metadsl_core.integer.Integer.__mul__\"]\n\t-156400494958923495 -> -9198064950632429771\n\t-9198064950632429771 [label=\"metadsl_core.integer.Integer.from_int\"]\n\t-9198064950632429771 -> 5020133584681020042\n\t5020133584681020042 [label=3]\n\t-156400494958923495 -> -1715183837058597579\n\t-1715183837058597579 [label=\"metadsl_core.integer.Integer.__mul__\"]\n\t-1715183837058597579 -> 448377045070022433\n\t448377045070022433 [label=\"metadsl_core.integer.Integer.from_int\"]\n\t448377045070022433 -> 5020133584679937517\n\t5020133584679937517 [label=2]\n\t-1715183837058597579 -> 5970135790746733077\n\t5970135790746733077 [label=\"metadsl_core.abstraction.Abstraction.__call__\"]\n\t5970135790746733077 -> 2567654429536128935\n\t2567654429536128935 [label=\"metadsl_core.abstraction.Abstraction.__call__\"]\n\t2567654429536128935 -> 857512534981601222\n\t857512534981601222 [label=\"metadsl_core.abstraction.Abstraction.create\"]\n\t857512534981601222 -> 1317201759694169871\n\t1317201759694169871 [label=\"metadsl_core.abstraction.Abstraction.create_variable\"]\n\t1317201759694169871 -> 6838651028649421597\n\t6838651028649421597 [label=\"Variable(4512105472)\"]\n\t857512534981601222 -> 3832378786494712998\n\t3832378786494712998 [label=\"metadsl_core.abstraction.Abstraction.create\"]\n\t3832378786494712998 -> 7664443263508927266\n\t7664443263508927266 [label=\"metadsl_core.abstraction.Abstraction.create_variable\"]\n\t7664443263508927266 -> -2384720982856948811\n\t-2384720982856948811 [label=\"Variable(4512349320)\"]\n\t3832378786494712998 -> 2297666814085689246\n\t2297666814085689246 [label=\"metadsl_core.boolean.Boolean.if_\"]\n\t2297666814085689246 -> 1610115233605074726\n\t1610115233605074726 [label=\"metadsl_core.integer.Integer.eq\"]\n\t1610115233605074726 -> 7664443263508927266\n\t1610115233605074726 -> -3261146991999286491\n\t-3261146991999286491 [label=\"metadsl_core.integer.Integer.from_int\"]\n\t-3261146991999286491 -> 5020133584677772467\n\t5020133584677772467 [label=0]\n\t2297666814085689246 -> -3761648464570011732\n\t-3761648464570011732 [label=\"metadsl_core.integer.Integer.from_int\"]\n\t-3761648464570011732 -> 5020133584678854992\n\t5020133584678854992 [label=1]\n\t2297666814085689246 -> -7842495516547100203\n\t-7842495516547100203 [label=\"metadsl_core.integer.Integer.__mul__\"]\n\t-7842495516547100203 -> 7664443263508927266\n\t-7842495516547100203 -> 648853626055728208\n\t648853626055728208 [label=\"metadsl_core.abstraction.Abstraction.__call__\"]\n\t648853626055728208 -> 1317201759694169871\n\t648853626055728208 -> 1880936048214380717\n\t1880936048214380717 [label=\"metadsl_core.integer.Integer.__sub__\"]\n\t1880936048214380717 -> 7664443263508927266\n\t1880936048214380717 -> -3761648464570011732\n\t2567654429536128935 -> -1739011688871278916\n\t-1739011688871278916 [label=\"metadsl_core.abstraction.Abstraction.fix\"]\n\t-1739011688871278916 -> 857512534981601222\n\t5970135790746733077 -> -3761648464570011732\n}",
         "label": null,
         "rule": "metadsl_core.abstraction.Abstraction.fix"
        },
        {
         "graph": "digraph {\n\t2946180503986392643 [label=\"metadsl_core.integer.Integer.__mul__\"]\n\t2946180503986392643 -> -9198064950632429771\n\t-9198064950632429771 [label=\"metadsl_core.integer.Integer.from_int\"]\n\t-9198064950632429771 -> 5020133584681020042\n\t5020133584681020042 [label=3]\n\t2946180503986392643 -> -4285478503308723628\n\t-4285478503308723628 [label=\"metadsl_core.integer.Integer.__mul__\"]\n\t-4285478503308723628 -> 448377045070022433\n\t448377045070022433 [label=\"metadsl_core.integer.Integer.from_int\"]\n\t448377045070022433 -> 5020133584679937517\n\t5020133584679937517 [label=2]\n\t-4285478503308723628 -> -1814261301443872895\n\t-1814261301443872895 [label=\"metadsl_core.abstraction.Abstraction.__call__\"]\n\t-1814261301443872895 -> 492210148375499800\n\t492210148375499800 [label=\"metadsl_core.abstraction.Abstraction.create\"]\n\t492210148375499800 -> 7664443263508927266\n\t7664443263508927266 [label=\"metadsl_core.abstraction.Abstraction.create_variable\"]\n\t7664443263508927266 -> -2384720982856948811\n\t-2384720982856948811 [label=\"Variable(4512349320)\"]\n\t492210148375499800 -> 6164834309607227234\n\t6164834309607227234 [label=\"metadsl_core.boolean.Boolean.if_\"]\n\t6164834309607227234 -> 1610115233605074726\n\t1610115233605074726 [label=\"metadsl_core.integer.Integer.eq\"]\n\t1610115233605074726 -> 7664443263508927266\n\t1610115233605074726 -> -3261146991999286491\n\t-3261146991999286491 [label=\"metadsl_core.integer.Integer.from_int\"]\n\t-3261146991999286491 -> 5020133584677772467\n\t5020133584677772467 [label=0]\n\t6164834309607227234 -> -3761648464570011732\n\t-3761648464570011732 [label=\"metadsl_core.integer.Integer.from_int\"]\n\t-3761648464570011732 -> 5020133584678854992\n\t5020133584678854992 [label=1]\n\t6164834309607227234 -> -1249476817723381172\n\t-1249476817723381172 [label=\"metadsl_core.integer.Integer.__mul__\"]\n\t-1249476817723381172 -> 7664443263508927266\n\t-1249476817723381172 -> -8236704211142714508\n\t-8236704211142714508 [label=\"metadsl_core.abstraction.Abstraction.__call__\"]\n\t-8236704211142714508 -> -1739011688871278916\n\t-1739011688871278916 [label=\"metadsl_core.abstraction.Abstraction.fix\"]\n\t-1739011688871278916 -> 857512534981601222\n\t857512534981601222 [label=\"metadsl_core.abstraction.Abstraction.create\"]\n\t857512534981601222 -> 1317201759694169871\n\t1317201759694169871 [label=\"metadsl_core.abstraction.Abstraction.create_variable\"]\n\t1317201759694169871 -> 6838651028649421597\n\t6838651028649421597 [label=\"Variable(4512105472)\"]\n\t857512534981601222 -> 3832378786494712998\n\t3832378786494712998 [label=\"metadsl_core.abstraction.Abstraction.create\"]\n\t3832378786494712998 -> 7664443263508927266\n\t3832378786494712998 -> 2297666814085689246\n\t2297666814085689246 [label=\"metadsl_core.boolean.Boolean.if_\"]\n\t2297666814085689246 -> 1610115233605074726\n\t2297666814085689246 -> -3761648464570011732\n\t2297666814085689246 -> -7842495516547100203\n\t-7842495516547100203 [label=\"metadsl_core.integer.Integer.__mul__\"]\n\t-7842495516547100203 -> 7664443263508927266\n\t-7842495516547100203 -> 648853626055728208\n\t648853626055728208 [label=\"metadsl_core.abstraction.Abstraction.__call__\"]\n\t648853626055728208 -> 1317201759694169871\n\t648853626055728208 -> 1880936048214380717\n\t1880936048214380717 [label=\"metadsl_core.integer.Integer.__sub__\"]\n\t1880936048214380717 -> 7664443263508927266\n\t1880936048214380717 -> -3761648464570011732\n\t-8236704211142714508 -> 1880936048214380717\n\t-1814261301443872895 -> -3761648464570011732\n}",
         "label": null,
         "rule": "metadsl_core.abstraction.beta_reduce"
        },
        {
         "graph": "digraph {\n\t1230940190814917584 [label=\"metadsl_core.integer.Integer.__mul__\"]\n\t1230940190814917584 -> -9198064950632429771\n\t-9198064950632429771 [label=\"metadsl_core.integer.Integer.from_int\"]\n\t-9198064950632429771 -> 5020133584681020042\n\t5020133584681020042 [label=3]\n\t1230940190814917584 -> -1675477245636034855\n\t-1675477245636034855 [label=\"metadsl_core.integer.Integer.__mul__\"]\n\t-1675477245636034855 -> 448377045070022433\n\t448377045070022433 [label=\"metadsl_core.integer.Integer.from_int\"]\n\t448377045070022433 -> 5020133584679937517\n\t5020133584679937517 [label=2]\n\t-1675477245636034855 -> 6632681833014167910\n\t6632681833014167910 [label=\"metadsl_core.boolean.Boolean.if_\"]\n\t6632681833014167910 -> -1751257619993432315\n\t-1751257619993432315 [label=\"metadsl_core.integer.Integer.eq\"]\n\t-1751257619993432315 -> -3761648464570011732\n\t-3761648464570011732 [label=\"metadsl_core.integer.Integer.from_int\"]\n\t-3761648464570011732 -> 5020133584678854992\n\t5020133584678854992 [label=1]\n\t-1751257619993432315 -> -3261146991999286491\n\t-3261146991999286491 [label=\"metadsl_core.integer.Integer.from_int\"]\n\t-3261146991999286491 -> 5020133584677772467\n\t5020133584677772467 [label=0]\n\t6632681833014167910 -> -3761648464570011732\n\t6632681833014167910 -> -5124226575538759185\n\t-5124226575538759185 [label=\"metadsl_core.integer.Integer.__mul__\"]\n\t-5124226575538759185 -> -3761648464570011732\n\t-5124226575538759185 -> -8997476289645855609\n\t-8997476289645855609 [label=\"metadsl_core.abstraction.Abstraction.__call__\"]\n\t-8997476289645855609 -> -1739011688871278916\n\t-1739011688871278916 [label=\"metadsl_core.abstraction.Abstraction.fix\"]\n\t-1739011688871278916 -> 857512534981601222\n\t857512534981601222 [label=\"metadsl_core.abstraction.Abstraction.create\"]\n\t857512534981601222 -> 1317201759694169871\n\t1317201759694169871 [label=\"metadsl_core.abstraction.Abstraction.create_variable\"]\n\t1317201759694169871 -> 6838651028649421597\n\t6838651028649421597 [label=\"Variable(4512105472)\"]\n\t857512534981601222 -> 3832378786494712998\n\t3832378786494712998 [label=\"metadsl_core.abstraction.Abstraction.create\"]\n\t3832378786494712998 -> 7664443263508927266\n\t7664443263508927266 [label=\"metadsl_core.abstraction.Abstraction.create_variable\"]\n\t7664443263508927266 -> -2384720982856948811\n\t-2384720982856948811 [label=\"Variable(4512349320)\"]\n\t3832378786494712998 -> 2297666814085689246\n\t2297666814085689246 [label=\"metadsl_core.boolean.Boolean.if_\"]\n\t2297666814085689246 -> 1610115233605074726\n\t1610115233605074726 [label=\"metadsl_core.integer.Integer.eq\"]\n\t1610115233605074726 -> 7664443263508927266\n\t1610115233605074726 -> -3261146991999286491\n\t2297666814085689246 -> -3761648464570011732\n\t2297666814085689246 -> -7842495516547100203\n\t-7842495516547100203 [label=\"metadsl_core.integer.Integer.__mul__\"]\n\t-7842495516547100203 -> 7664443263508927266\n\t-7842495516547100203 -> 648853626055728208\n\t648853626055728208 [label=\"metadsl_core.abstraction.Abstraction.__call__\"]\n\t648853626055728208 -> 1317201759694169871\n\t648853626055728208 -> 1880936048214380717\n\t1880936048214380717 [label=\"metadsl_core.integer.Integer.__sub__\"]\n\t1880936048214380717 -> 7664443263508927266\n\t1880936048214380717 -> -3761648464570011732\n\t-8997476289645855609 -> -1396514070026963675\n\t-1396514070026963675 [label=\"metadsl_core.integer.Integer.__sub__\"]\n\t-1396514070026963675 -> -3761648464570011732\n\t-1396514070026963675 -> -3761648464570011732\n}",
         "label": null,
         "rule": "metadsl_core.abstraction.beta_reduce"
        },
        {
         "graph": "digraph {\n\t-4022890374450464025 [label=\"metadsl_core.integer.Integer.__mul__\"]\n\t-4022890374450464025 -> -9198064950632429771\n\t-9198064950632429771 [label=\"metadsl_core.integer.Integer.from_int\"]\n\t-9198064950632429771 -> 5020133584681020042\n\t5020133584681020042 [label=3]\n\t-4022890374450464025 -> 3833705329025753595\n\t3833705329025753595 [label=\"metadsl_core.integer.Integer.__mul__\"]\n\t3833705329025753595 -> 448377045070022433\n\t448377045070022433 [label=\"metadsl_core.integer.Integer.from_int\"]\n\t448377045070022433 -> 5020133584679937517\n\t5020133584679937517 [label=2]\n\t3833705329025753595 -> -2503593351645374015\n\t-2503593351645374015 [label=\"metadsl_core.boolean.Boolean.if_\"]\n\t-2503593351645374015 -> -8881034144831541911\n\t-8881034144831541911 [label=\"metadsl_core.boolean.Boolean.create\"]\n\t-8881034144831541911 -> -1343543487855198425\n\t-1343543487855198425 [label=False]\n\t-2503593351645374015 -> -3761648464570011732\n\t-3761648464570011732 [label=\"metadsl_core.integer.Integer.from_int\"]\n\t-3761648464570011732 -> 5020133584678854992\n\t5020133584678854992 [label=1]\n\t-2503593351645374015 -> -5124226575538759185\n\t-5124226575538759185 [label=\"metadsl_core.integer.Integer.__mul__\"]\n\t-5124226575538759185 -> -3761648464570011732\n\t-5124226575538759185 -> -8997476289645855609\n\t-8997476289645855609 [label=\"metadsl_core.abstraction.Abstraction.__call__\"]\n\t-8997476289645855609 -> -1739011688871278916\n\t-1739011688871278916 [label=\"metadsl_core.abstraction.Abstraction.fix\"]\n\t-1739011688871278916 -> 857512534981601222\n\t857512534981601222 [label=\"metadsl_core.abstraction.Abstraction.create\"]\n\t857512534981601222 -> 1317201759694169871\n\t1317201759694169871 [label=\"metadsl_core.abstraction.Abstraction.create_variable\"]\n\t1317201759694169871 -> 6838651028649421597\n\t6838651028649421597 [label=\"Variable(4512105472)\"]\n\t857512534981601222 -> 3832378786494712998\n\t3832378786494712998 [label=\"metadsl_core.abstraction.Abstraction.create\"]\n\t3832378786494712998 -> 7664443263508927266\n\t7664443263508927266 [label=\"metadsl_core.abstraction.Abstraction.create_variable\"]\n\t7664443263508927266 -> -2384720982856948811\n\t-2384720982856948811 [label=\"Variable(4512349320)\"]\n\t3832378786494712998 -> 2297666814085689246\n\t2297666814085689246 [label=\"metadsl_core.boolean.Boolean.if_\"]\n\t2297666814085689246 -> 1610115233605074726\n\t1610115233605074726 [label=\"metadsl_core.integer.Integer.eq\"]\n\t1610115233605074726 -> 7664443263508927266\n\t1610115233605074726 -> -3261146991999286491\n\t-3261146991999286491 [label=\"metadsl_core.integer.Integer.from_int\"]\n\t-3261146991999286491 -> 5020133584677772467\n\t5020133584677772467 [label=0]\n\t2297666814085689246 -> -3761648464570011732\n\t2297666814085689246 -> -7842495516547100203\n\t-7842495516547100203 [label=\"metadsl_core.integer.Integer.__mul__\"]\n\t-7842495516547100203 -> 7664443263508927266\n\t-7842495516547100203 -> 648853626055728208\n\t648853626055728208 [label=\"metadsl_core.abstraction.Abstraction.__call__\"]\n\t648853626055728208 -> 1317201759694169871\n\t648853626055728208 -> 1880936048214380717\n\t1880936048214380717 [label=\"metadsl_core.integer.Integer.__sub__\"]\n\t1880936048214380717 -> 7664443263508927266\n\t1880936048214380717 -> -3761648464570011732\n\t-8997476289645855609 -> -1396514070026963675\n\t-1396514070026963675 [label=\"metadsl_core.integer.Integer.__sub__\"]\n\t-1396514070026963675 -> -3761648464570011732\n\t-1396514070026963675 -> -3761648464570011732\n}",
         "label": null,
         "rule": "metadsl_core.integer.integer_eq"
        },
        {
         "graph": "digraph {\n\t1071242148663612846 [label=\"metadsl_core.integer.Integer.__mul__\"]\n\t1071242148663612846 -> -9198064950632429771\n\t-9198064950632429771 [label=\"metadsl_core.integer.Integer.from_int\"]\n\t-9198064950632429771 -> 5020133584681020042\n\t5020133584681020042 [label=3]\n\t1071242148663612846 -> 4159197151951766977\n\t4159197151951766977 [label=\"metadsl_core.integer.Integer.__mul__\"]\n\t4159197151951766977 -> 448377045070022433\n\t448377045070022433 [label=\"metadsl_core.integer.Integer.from_int\"]\n\t448377045070022433 -> 5020133584679937517\n\t5020133584679937517 [label=2]\n\t4159197151951766977 -> -5124226575538759185\n\t-5124226575538759185 [label=\"metadsl_core.integer.Integer.__mul__\"]\n\t-5124226575538759185 -> -3761648464570011732\n\t-3761648464570011732 [label=\"metadsl_core.integer.Integer.from_int\"]\n\t-3761648464570011732 -> 5020133584678854992\n\t5020133584678854992 [label=1]\n\t-5124226575538759185 -> -8997476289645855609\n\t-8997476289645855609 [label=\"metadsl_core.abstraction.Abstraction.__call__\"]\n\t-8997476289645855609 -> -1739011688871278916\n\t-1739011688871278916 [label=\"metadsl_core.abstraction.Abstraction.fix\"]\n\t-1739011688871278916 -> 857512534981601222\n\t857512534981601222 [label=\"metadsl_core.abstraction.Abstraction.create\"]\n\t857512534981601222 -> 1317201759694169871\n\t1317201759694169871 [label=\"metadsl_core.abstraction.Abstraction.create_variable\"]\n\t1317201759694169871 -> 6838651028649421597\n\t6838651028649421597 [label=\"Variable(4512105472)\"]\n\t857512534981601222 -> 3832378786494712998\n\t3832378786494712998 [label=\"metadsl_core.abstraction.Abstraction.create\"]\n\t3832378786494712998 -> 7664443263508927266\n\t7664443263508927266 [label=\"metadsl_core.abstraction.Abstraction.create_variable\"]\n\t7664443263508927266 -> -2384720982856948811\n\t-2384720982856948811 [label=\"Variable(4512349320)\"]\n\t3832378786494712998 -> 2297666814085689246\n\t2297666814085689246 [label=\"metadsl_core.boolean.Boolean.if_\"]\n\t2297666814085689246 -> 1610115233605074726\n\t1610115233605074726 [label=\"metadsl_core.integer.Integer.eq\"]\n\t1610115233605074726 -> 7664443263508927266\n\t1610115233605074726 -> -3261146991999286491\n\t-3261146991999286491 [label=\"metadsl_core.integer.Integer.from_int\"]\n\t-3261146991999286491 -> 5020133584677772467\n\t5020133584677772467 [label=0]\n\t2297666814085689246 -> -3761648464570011732\n\t2297666814085689246 -> -7842495516547100203\n\t-7842495516547100203 [label=\"metadsl_core.integer.Integer.__mul__\"]\n\t-7842495516547100203 -> 7664443263508927266\n\t-7842495516547100203 -> 648853626055728208\n\t648853626055728208 [label=\"metadsl_core.abstraction.Abstraction.__call__\"]\n\t648853626055728208 -> 1317201759694169871\n\t648853626055728208 -> 1880936048214380717\n\t1880936048214380717 [label=\"metadsl_core.integer.Integer.__sub__\"]\n\t1880936048214380717 -> 7664443263508927266\n\t1880936048214380717 -> -3761648464570011732\n\t-8997476289645855609 -> -1396514070026963675\n\t-1396514070026963675 [label=\"metadsl_core.integer.Integer.__sub__\"]\n\t-1396514070026963675 -> -3761648464570011732\n\t-1396514070026963675 -> -3761648464570011732\n}",
         "label": null,
         "rule": "metadsl_core.boolean.if_"
        },
        {
         "graph": "digraph {\n\t4989086897960106256 [label=\"metadsl_core.integer.Integer.__mul__\"]\n\t4989086897960106256 -> -9198064950632429771\n\t-9198064950632429771 [label=\"metadsl_core.integer.Integer.from_int\"]\n\t-9198064950632429771 -> 5020133584681020042\n\t5020133584681020042 [label=3]\n\t4989086897960106256 -> 9131869119941321727\n\t9131869119941321727 [label=\"metadsl_core.integer.Integer.__mul__\"]\n\t9131869119941321727 -> 448377045070022433\n\t448377045070022433 [label=\"metadsl_core.integer.Integer.from_int\"]\n\t448377045070022433 -> 5020133584679937517\n\t5020133584679937517 [label=2]\n\t9131869119941321727 -> -9119862996066166481\n\t-9119862996066166481 [label=\"metadsl_core.integer.Integer.__mul__\"]\n\t-9119862996066166481 -> -3761648464570011732\n\t-3761648464570011732 [label=\"metadsl_core.integer.Integer.from_int\"]\n\t-3761648464570011732 -> 5020133584678854992\n\t5020133584678854992 [label=1]\n\t-9119862996066166481 -> 2134574752010800875\n\t2134574752010800875 [label=\"metadsl_core.abstraction.Abstraction.__call__\"]\n\t2134574752010800875 -> -1739011688871278916\n\t-1739011688871278916 [label=\"metadsl_core.abstraction.Abstraction.fix\"]\n\t-1739011688871278916 -> 857512534981601222\n\t857512534981601222 [label=\"metadsl_core.abstraction.Abstraction.create\"]\n\t857512534981601222 -> 1317201759694169871\n\t1317201759694169871 [label=\"metadsl_core.abstraction.Abstraction.create_variable\"]\n\t1317201759694169871 -> 6838651028649421597\n\t6838651028649421597 [label=\"Variable(4512105472)\"]\n\t857512534981601222 -> 3832378786494712998\n\t3832378786494712998 [label=\"metadsl_core.abstraction.Abstraction.create\"]\n\t3832378786494712998 -> 7664443263508927266\n\t7664443263508927266 [label=\"metadsl_core.abstraction.Abstraction.create_variable\"]\n\t7664443263508927266 -> -2384720982856948811\n\t-2384720982856948811 [label=\"Variable(4512349320)\"]\n\t3832378786494712998 -> 2297666814085689246\n\t2297666814085689246 [label=\"metadsl_core.boolean.Boolean.if_\"]\n\t2297666814085689246 -> 1610115233605074726\n\t1610115233605074726 [label=\"metadsl_core.integer.Integer.eq\"]\n\t1610115233605074726 -> 7664443263508927266\n\t1610115233605074726 -> -3261146991999286491\n\t-3261146991999286491 [label=\"metadsl_core.integer.Integer.from_int\"]\n\t-3261146991999286491 -> 5020133584677772467\n\t5020133584677772467 [label=0]\n\t2297666814085689246 -> -3761648464570011732\n\t2297666814085689246 -> -7842495516547100203\n\t-7842495516547100203 [label=\"metadsl_core.integer.Integer.__mul__\"]\n\t-7842495516547100203 -> 7664443263508927266\n\t-7842495516547100203 -> 648853626055728208\n\t648853626055728208 [label=\"metadsl_core.abstraction.Abstraction.__call__\"]\n\t648853626055728208 -> 1317201759694169871\n\t648853626055728208 -> 1880936048214380717\n\t1880936048214380717 [label=\"metadsl_core.integer.Integer.__sub__\"]\n\t1880936048214380717 -> 7664443263508927266\n\t1880936048214380717 -> -3761648464570011732\n\t2134574752010800875 -> -3261146991999286491\n}",
         "label": null,
         "rule": "metadsl_core.integer.integer_math"
        },
        {
         "graph": "digraph {\n\t8235131843359757299 [label=\"metadsl_core.integer.Integer.__mul__\"]\n\t8235131843359757299 -> -9198064950632429771\n\t-9198064950632429771 [label=\"metadsl_core.integer.Integer.from_int\"]\n\t-9198064950632429771 -> 5020133584681020042\n\t5020133584681020042 [label=3]\n\t8235131843359757299 -> 8198817181893144873\n\t8198817181893144873 [label=\"metadsl_core.integer.Integer.__mul__\"]\n\t8198817181893144873 -> 448377045070022433\n\t448377045070022433 [label=\"metadsl_core.integer.Integer.from_int\"]\n\t448377045070022433 -> 5020133584679937517\n\t5020133584679937517 [label=2]\n\t8198817181893144873 -> -7378091907278634910\n\t-7378091907278634910 [label=\"metadsl_core.integer.Integer.__mul__\"]\n\t-7378091907278634910 -> -3761648464570011732\n\t-3761648464570011732 [label=\"metadsl_core.integer.Integer.from_int\"]\n\t-3761648464570011732 -> 5020133584678854992\n\t5020133584678854992 [label=1]\n\t-7378091907278634910 -> -3148566158153018070\n\t-3148566158153018070 [label=\"metadsl_core.abstraction.Abstraction.__call__\"]\n\t-3148566158153018070 -> 2567654429536128935\n\t2567654429536128935 [label=\"metadsl_core.abstraction.Abstraction.__call__\"]\n\t2567654429536128935 -> 857512534981601222\n\t857512534981601222 [label=\"metadsl_core.abstraction.Abstraction.create\"]\n\t857512534981601222 -> 1317201759694169871\n\t1317201759694169871 [label=\"metadsl_core.abstraction.Abstraction.create_variable\"]\n\t1317201759694169871 -> 6838651028649421597\n\t6838651028649421597 [label=\"Variable(4512105472)\"]\n\t857512534981601222 -> 3832378786494712998\n\t3832378786494712998 [label=\"metadsl_core.abstraction.Abstraction.create\"]\n\t3832378786494712998 -> 7664443263508927266\n\t7664443263508927266 [label=\"metadsl_core.abstraction.Abstraction.create_variable\"]\n\t7664443263508927266 -> -2384720982856948811\n\t-2384720982856948811 [label=\"Variable(4512349320)\"]\n\t3832378786494712998 -> 2297666814085689246\n\t2297666814085689246 [label=\"metadsl_core.boolean.Boolean.if_\"]\n\t2297666814085689246 -> 1610115233605074726\n\t1610115233605074726 [label=\"metadsl_core.integer.Integer.eq\"]\n\t1610115233605074726 -> 7664443263508927266\n\t1610115233605074726 -> -3261146991999286491\n\t-3261146991999286491 [label=\"metadsl_core.integer.Integer.from_int\"]\n\t-3261146991999286491 -> 5020133584677772467\n\t5020133584677772467 [label=0]\n\t2297666814085689246 -> -3761648464570011732\n\t2297666814085689246 -> -7842495516547100203\n\t-7842495516547100203 [label=\"metadsl_core.integer.Integer.__mul__\"]\n\t-7842495516547100203 -> 7664443263508927266\n\t-7842495516547100203 -> 648853626055728208\n\t648853626055728208 [label=\"metadsl_core.abstraction.Abstraction.__call__\"]\n\t648853626055728208 -> 1317201759694169871\n\t648853626055728208 -> 1880936048214380717\n\t1880936048214380717 [label=\"metadsl_core.integer.Integer.__sub__\"]\n\t1880936048214380717 -> 7664443263508927266\n\t1880936048214380717 -> -3761648464570011732\n\t2567654429536128935 -> -1739011688871278916\n\t-1739011688871278916 [label=\"metadsl_core.abstraction.Abstraction.fix\"]\n\t-1739011688871278916 -> 857512534981601222\n\t-3148566158153018070 -> -3261146991999286491\n}",
         "label": null,
         "rule": "metadsl_core.abstraction.Abstraction.fix"
        },
        {
         "graph": "digraph {\n\t-8827702675607390721 [label=\"metadsl_core.integer.Integer.__mul__\"]\n\t-8827702675607390721 -> -9198064950632429771\n\t-9198064950632429771 [label=\"metadsl_core.integer.Integer.from_int\"]\n\t-9198064950632429771 -> 5020133584681020042\n\t5020133584681020042 [label=3]\n\t-8827702675607390721 -> 4196200059632993030\n\t4196200059632993030 [label=\"metadsl_core.integer.Integer.__mul__\"]\n\t4196200059632993030 -> 448377045070022433\n\t448377045070022433 [label=\"metadsl_core.integer.Integer.from_int\"]\n\t448377045070022433 -> 5020133584679937517\n\t5020133584679937517 [label=2]\n\t4196200059632993030 -> -9032512893085977426\n\t-9032512893085977426 [label=\"metadsl_core.integer.Integer.__mul__\"]\n\t-9032512893085977426 -> -3761648464570011732\n\t-3761648464570011732 [label=\"metadsl_core.integer.Integer.from_int\"]\n\t-3761648464570011732 -> 5020133584678854992\n\t5020133584678854992 [label=1]\n\t-9032512893085977426 -> -2110154939986988874\n\t-2110154939986988874 [label=\"metadsl_core.abstraction.Abstraction.__call__\"]\n\t-2110154939986988874 -> 492210148375499800\n\t492210148375499800 [label=\"metadsl_core.abstraction.Abstraction.create\"]\n\t492210148375499800 -> 7664443263508927266\n\t7664443263508927266 [label=\"metadsl_core.abstraction.Abstraction.create_variable\"]\n\t7664443263508927266 -> -2384720982856948811\n\t-2384720982856948811 [label=\"Variable(4512349320)\"]\n\t492210148375499800 -> 6164834309607227234\n\t6164834309607227234 [label=\"metadsl_core.boolean.Boolean.if_\"]\n\t6164834309607227234 -> 1610115233605074726\n\t1610115233605074726 [label=\"metadsl_core.integer.Integer.eq\"]\n\t1610115233605074726 -> 7664443263508927266\n\t1610115233605074726 -> -3261146991999286491\n\t-3261146991999286491 [label=\"metadsl_core.integer.Integer.from_int\"]\n\t-3261146991999286491 -> 5020133584677772467\n\t5020133584677772467 [label=0]\n\t6164834309607227234 -> -3761648464570011732\n\t6164834309607227234 -> -1249476817723381172\n\t-1249476817723381172 [label=\"metadsl_core.integer.Integer.__mul__\"]\n\t-1249476817723381172 -> 7664443263508927266\n\t-1249476817723381172 -> -8236704211142714508\n\t-8236704211142714508 [label=\"metadsl_core.abstraction.Abstraction.__call__\"]\n\t-8236704211142714508 -> -1739011688871278916\n\t-1739011688871278916 [label=\"metadsl_core.abstraction.Abstraction.fix\"]\n\t-1739011688871278916 -> 857512534981601222\n\t857512534981601222 [label=\"metadsl_core.abstraction.Abstraction.create\"]\n\t857512534981601222 -> 1317201759694169871\n\t1317201759694169871 [label=\"metadsl_core.abstraction.Abstraction.create_variable\"]\n\t1317201759694169871 -> 6838651028649421597\n\t6838651028649421597 [label=\"Variable(4512105472)\"]\n\t857512534981601222 -> 3832378786494712998\n\t3832378786494712998 [label=\"metadsl_core.abstraction.Abstraction.create\"]\n\t3832378786494712998 -> 7664443263508927266\n\t3832378786494712998 -> 2297666814085689246\n\t2297666814085689246 [label=\"metadsl_core.boolean.Boolean.if_\"]\n\t2297666814085689246 -> 1610115233605074726\n\t2297666814085689246 -> -3761648464570011732\n\t2297666814085689246 -> -7842495516547100203\n\t-7842495516547100203 [label=\"metadsl_core.integer.Integer.__mul__\"]\n\t-7842495516547100203 -> 7664443263508927266\n\t-7842495516547100203 -> 648853626055728208\n\t648853626055728208 [label=\"metadsl_core.abstraction.Abstraction.__call__\"]\n\t648853626055728208 -> 1317201759694169871\n\t648853626055728208 -> 1880936048214380717\n\t1880936048214380717 [label=\"metadsl_core.integer.Integer.__sub__\"]\n\t1880936048214380717 -> 7664443263508927266\n\t1880936048214380717 -> -3761648464570011732\n\t-8236704211142714508 -> 1880936048214380717\n\t-2110154939986988874 -> -3261146991999286491\n}",
         "label": null,
         "rule": "metadsl_core.abstraction.beta_reduce"
        },
        {
         "graph": "digraph {\n\t-3123841627651589275 [label=\"metadsl_core.integer.Integer.__mul__\"]\n\t-3123841627651589275 -> -9198064950632429771\n\t-9198064950632429771 [label=\"metadsl_core.integer.Integer.from_int\"]\n\t-9198064950632429771 -> 5020133584681020042\n\t5020133584681020042 [label=3]\n\t-3123841627651589275 -> 2417876631091226093\n\t2417876631091226093 [label=\"metadsl_core.integer.Integer.__mul__\"]\n\t2417876631091226093 -> 448377045070022433\n\t448377045070022433 [label=\"metadsl_core.integer.Integer.from_int\"]\n\t448377045070022433 -> 5020133584679937517\n\t5020133584679937517 [label=2]\n\t2417876631091226093 -> 1251464527634032073\n\t1251464527634032073 [label=\"metadsl_core.integer.Integer.__mul__\"]\n\t1251464527634032073 -> -3761648464570011732\n\t-3761648464570011732 [label=\"metadsl_core.integer.Integer.from_int\"]\n\t-3761648464570011732 -> 5020133584678854992\n\t5020133584678854992 [label=1]\n\t1251464527634032073 -> 1308931567296850694\n\t1308931567296850694 [label=\"metadsl_core.boolean.Boolean.if_\"]\n\t1308931567296850694 -> 8744182282586139310\n\t8744182282586139310 [label=\"metadsl_core.integer.Integer.eq\"]\n\t8744182282586139310 -> -3261146991999286491\n\t-3261146991999286491 [label=\"metadsl_core.integer.Integer.from_int\"]\n\t-3261146991999286491 -> 5020133584677772467\n\t5020133584677772467 [label=0]\n\t8744182282586139310 -> -3261146991999286491\n\t1308931567296850694 -> -3761648464570011732\n\t1308931567296850694 -> 5653394834464996904\n\t5653394834464996904 [label=\"metadsl_core.integer.Integer.__mul__\"]\n\t5653394834464996904 -> -3261146991999286491\n\t5653394834464996904 -> 3569681227535257458\n\t3569681227535257458 [label=\"metadsl_core.abstraction.Abstraction.__call__\"]\n\t3569681227535257458 -> -1739011688871278916\n\t-1739011688871278916 [label=\"metadsl_core.abstraction.Abstraction.fix\"]\n\t-1739011688871278916 -> 857512534981601222\n\t857512534981601222 [label=\"metadsl_core.abstraction.Abstraction.create\"]\n\t857512534981601222 -> 1317201759694169871\n\t1317201759694169871 [label=\"metadsl_core.abstraction.Abstraction.create_variable\"]\n\t1317201759694169871 -> 6838651028649421597\n\t6838651028649421597 [label=\"Variable(4512105472)\"]\n\t857512534981601222 -> 3832378786494712998\n\t3832378786494712998 [label=\"metadsl_core.abstraction.Abstraction.create\"]\n\t3832378786494712998 -> 7664443263508927266\n\t7664443263508927266 [label=\"metadsl_core.abstraction.Abstraction.create_variable\"]\n\t7664443263508927266 -> -2384720982856948811\n\t-2384720982856948811 [label=\"Variable(4512349320)\"]\n\t3832378786494712998 -> 2297666814085689246\n\t2297666814085689246 [label=\"metadsl_core.boolean.Boolean.if_\"]\n\t2297666814085689246 -> 1610115233605074726\n\t1610115233605074726 [label=\"metadsl_core.integer.Integer.eq\"]\n\t1610115233605074726 -> 7664443263508927266\n\t1610115233605074726 -> -3261146991999286491\n\t2297666814085689246 -> -3761648464570011732\n\t2297666814085689246 -> -7842495516547100203\n\t-7842495516547100203 [label=\"metadsl_core.integer.Integer.__mul__\"]\n\t-7842495516547100203 -> 7664443263508927266\n\t-7842495516547100203 -> 648853626055728208\n\t648853626055728208 [label=\"metadsl_core.abstraction.Abstraction.__call__\"]\n\t648853626055728208 -> 1317201759694169871\n\t648853626055728208 -> 1880936048214380717\n\t1880936048214380717 [label=\"metadsl_core.integer.Integer.__sub__\"]\n\t1880936048214380717 -> 7664443263508927266\n\t1880936048214380717 -> -3761648464570011732\n\t3569681227535257458 -> -930789844318381307\n\t-930789844318381307 [label=\"metadsl_core.integer.Integer.__sub__\"]\n\t-930789844318381307 -> -3261146991999286491\n\t-930789844318381307 -> -3761648464570011732\n}",
         "label": null,
         "rule": "metadsl_core.abstraction.beta_reduce"
        },
        {
         "graph": "digraph {\n\t-8025723602494604157 [label=\"metadsl_core.integer.Integer.__mul__\"]\n\t-8025723602494604157 -> -9198064950632429771\n\t-9198064950632429771 [label=\"metadsl_core.integer.Integer.from_int\"]\n\t-9198064950632429771 -> 5020133584681020042\n\t5020133584681020042 [label=3]\n\t-8025723602494604157 -> 2234695453237846005\n\t2234695453237846005 [label=\"metadsl_core.integer.Integer.__mul__\"]\n\t2234695453237846005 -> 448377045070022433\n\t448377045070022433 [label=\"metadsl_core.integer.Integer.from_int\"]\n\t448377045070022433 -> 5020133584679937517\n\t5020133584679937517 [label=2]\n\t2234695453237846005 -> -7523385317980141960\n\t-7523385317980141960 [label=\"metadsl_core.integer.Integer.__mul__\"]\n\t-7523385317980141960 -> -3761648464570011732\n\t-3761648464570011732 [label=\"metadsl_core.integer.Integer.from_int\"]\n\t-3761648464570011732 -> 5020133584678854992\n\t5020133584678854992 [label=1]\n\t-7523385317980141960 -> -8477067086700752761\n\t-8477067086700752761 [label=\"metadsl_core.boolean.Boolean.if_\"]\n\t-8477067086700752761 -> -8603486734980525913\n\t-8603486734980525913 [label=\"metadsl_core.boolean.Boolean.create\"]\n\t-8603486734980525913 -> -1343543487854115900\n\t-1343543487854115900 [label=True]\n\t-8477067086700752761 -> -3761648464570011732\n\t-8477067086700752761 -> 5653394834464996904\n\t5653394834464996904 [label=\"metadsl_core.integer.Integer.__mul__\"]\n\t5653394834464996904 -> -3261146991999286491\n\t-3261146991999286491 [label=\"metadsl_core.integer.Integer.from_int\"]\n\t-3261146991999286491 -> 5020133584677772467\n\t5020133584677772467 [label=0]\n\t5653394834464996904 -> 3569681227535257458\n\t3569681227535257458 [label=\"metadsl_core.abstraction.Abstraction.__call__\"]\n\t3569681227535257458 -> -1739011688871278916\n\t-1739011688871278916 [label=\"metadsl_core.abstraction.Abstraction.fix\"]\n\t-1739011688871278916 -> 857512534981601222\n\t857512534981601222 [label=\"metadsl_core.abstraction.Abstraction.create\"]\n\t857512534981601222 -> 1317201759694169871\n\t1317201759694169871 [label=\"metadsl_core.abstraction.Abstraction.create_variable\"]\n\t1317201759694169871 -> 6838651028649421597\n\t6838651028649421597 [label=\"Variable(4512105472)\"]\n\t857512534981601222 -> 3832378786494712998\n\t3832378786494712998 [label=\"metadsl_core.abstraction.Abstraction.create\"]\n\t3832378786494712998 -> 7664443263508927266\n\t7664443263508927266 [label=\"metadsl_core.abstraction.Abstraction.create_variable\"]\n\t7664443263508927266 -> -2384720982856948811\n\t-2384720982856948811 [label=\"Variable(4512349320)\"]\n\t3832378786494712998 -> 2297666814085689246\n\t2297666814085689246 [label=\"metadsl_core.boolean.Boolean.if_\"]\n\t2297666814085689246 -> 1610115233605074726\n\t1610115233605074726 [label=\"metadsl_core.integer.Integer.eq\"]\n\t1610115233605074726 -> 7664443263508927266\n\t1610115233605074726 -> -3261146991999286491\n\t2297666814085689246 -> -3761648464570011732\n\t2297666814085689246 -> -7842495516547100203\n\t-7842495516547100203 [label=\"metadsl_core.integer.Integer.__mul__\"]\n\t-7842495516547100203 -> 7664443263508927266\n\t-7842495516547100203 -> 648853626055728208\n\t648853626055728208 [label=\"metadsl_core.abstraction.Abstraction.__call__\"]\n\t648853626055728208 -> 1317201759694169871\n\t648853626055728208 -> 1880936048214380717\n\t1880936048214380717 [label=\"metadsl_core.integer.Integer.__sub__\"]\n\t1880936048214380717 -> 7664443263508927266\n\t1880936048214380717 -> -3761648464570011732\n\t3569681227535257458 -> -930789844318381307\n\t-930789844318381307 [label=\"metadsl_core.integer.Integer.__sub__\"]\n\t-930789844318381307 -> -3261146991999286491\n\t-930789844318381307 -> -3761648464570011732\n}",
         "label": null,
         "rule": "metadsl_core.integer.integer_eq"
        },
        {
         "graph": "digraph {\n\t2887009960878816871 [label=\"metadsl_core.integer.Integer.__mul__\"]\n\t2887009960878816871 -> -9198064950632429771\n\t-9198064950632429771 [label=\"metadsl_core.integer.Integer.from_int\"]\n\t-9198064950632429771 -> 5020133584681020042\n\t5020133584681020042 [label=3]\n\t2887009960878816871 -> -4711146507285855794\n\t-4711146507285855794 [label=\"metadsl_core.integer.Integer.__mul__\"]\n\t-4711146507285855794 -> 448377045070022433\n\t448377045070022433 [label=\"metadsl_core.integer.Integer.from_int\"]\n\t448377045070022433 -> 5020133584679937517\n\t5020133584679937517 [label=2]\n\t-4711146507285855794 -> 5504918128939009495\n\t5504918128939009495 [label=\"metadsl_core.integer.Integer.__mul__\"]\n\t5504918128939009495 -> -3761648464570011732\n\t-3761648464570011732 [label=\"metadsl_core.integer.Integer.from_int\"]\n\t-3761648464570011732 -> 5020133584678854992\n\t5020133584678854992 [label=1]\n\t5504918128939009495 -> -3761648464570011732\n}",
         "label": null,
         "rule": "metadsl_core.boolean.if_"
        },
        {
         "graph": "digraph {\n\t6315998705676060013 [label=\"metadsl_core.integer.Integer.__mul__\"]\n\t6315998705676060013 -> -9198064950632429771\n\t-9198064950632429771 [label=\"metadsl_core.integer.Integer.from_int\"]\n\t-9198064950632429771 -> 5020133584681020042\n\t5020133584681020042 [label=3]\n\t6315998705676060013 -> 7273508617291920197\n\t7273508617291920197 [label=\"metadsl_core.integer.Integer.__mul__\"]\n\t7273508617291920197 -> 448377045070022433\n\t448377045070022433 [label=\"metadsl_core.integer.Integer.from_int\"]\n\t448377045070022433 -> 5020133584679937517\n\t5020133584679937517 [label=2]\n\t7273508617291920197 -> -3761648464570011732\n\t-3761648464570011732 [label=\"metadsl_core.integer.Integer.from_int\"]\n\t-3761648464570011732 -> 5020133584678854992\n\t5020133584678854992 [label=1]\n}",
         "label": null,
         "rule": "metadsl_core.integer.integer_math"
        },
        {
         "graph": "digraph {\n\t6792392814498283792 [label=\"metadsl_core.integer.Integer.__mul__\"]\n\t6792392814498283792 -> -9198064950632429771\n\t-9198064950632429771 [label=\"metadsl_core.integer.Integer.from_int\"]\n\t-9198064950632429771 -> 5020133584681020042\n\t5020133584681020042 [label=3]\n\t6792392814498283792 -> 448377045070022433\n\t448377045070022433 [label=\"metadsl_core.integer.Integer.from_int\"]\n\t448377045070022433 -> 5020133584679937517\n\t5020133584679937517 [label=2]\n}",
         "label": null,
         "rule": "metadsl_core.integer.integer_math"
        },
        {
         "graph": "digraph {\n\t-2730451188572742147 [label=\"metadsl_core.integer.Integer.from_int\"]\n\t-2730451188572742147 -> 5020133584684267617\n\t5020133584684267617 [label=6]\n}",
         "label": "execute",
         "rule": "metadsl_core.integer.integer_math"
        }
       ]
      },
      "text/plain": [
       "Typez(definitions=None, nodes={'-8098774356153391513': PrimitiveNode(type='function', repr='<function factorial at 0x10c4a10d0>'), '-6000412868027038455': CallNode(function='metadsl_core.abstraction.Abstraction.from_fn', type_params=None, args=['-8098774356153391513'], kwargs=None), '25351356777524522': CallNode(function='metadsl_core.abstraction.Abstraction.fix', type_params=None, args=['-6000412868027038455'], kwargs=None), '5020133584681020042': PrimitiveNode(type='int', repr='3'), '-9198064950632429771': CallNode(function='metadsl_core.integer.Integer.from_int', type_params=None, args=['5020133584681020042'], kwargs=None), '2094699975406884999': CallNode(function='metadsl_core.abstraction.Abstraction.__call__', type_params={'U': DeclaredTypeInstance(type='metadsl_core.integer.Integer', params=None), 'T': DeclaredTypeInstance(type='metadsl_core.integer.Integer', params=None)}, args=['25351356777524522', '-9198064950632429771'], kwargs=None), '6838651028649421597': PrimitiveNode(type='metadsl_core.abstraction.Variable', repr='Variable(4512105472)'), '1317201759694169871': CallNode(function='metadsl_core.abstraction.Abstraction.create_variable', type_params={'U': DeclaredTypeInstance(type='metadsl_core.abstraction.Abstraction', params={'U': DeclaredTypeInstance(type='metadsl_core.integer.Integer', params=None), 'T': DeclaredTypeInstance(type='metadsl_core.integer.Integer', params=None)}), 'T': DeclaredTypeInstance(type='metadsl_core.abstraction.Abstraction', params={'U': DeclaredTypeInstance(type='metadsl_core.integer.Integer', params=None), 'T': DeclaredTypeInstance(type='metadsl_core.integer.Integer', params=None)})}, args=['6838651028649421597'], kwargs=None), '1124597996913431945': PrimitiveNode(type='function', repr='<function factorial.<locals>.inner at 0x10cf3e378>'), '6539917089444321216': CallNode(function='metadsl_core.abstraction.Abstraction.from_fn', type_params=None, args=['1124597996913431945'], kwargs=None), '-16273939659257270': CallNode(function='metadsl_core.abstraction.Abstraction.create', type_params={'U': DeclaredTypeInstance(type='metadsl_core.abstraction.Abstraction', params={'U': DeclaredTypeInstance(type='metadsl_core.integer.Integer', params=None), 'T': DeclaredTypeInstance(type='metadsl_core.integer.Integer', params=None)}), 'T': DeclaredTypeInstance(type='metadsl_core.abstraction.Abstraction', params={'U': DeclaredTypeInstance(type='metadsl_core.integer.Integer', params=None), 'T': DeclaredTypeInstance(type='metadsl_core.integer.Integer', params=None)})}, args=['1317201759694169871', '6539917089444321216'], kwargs=None), '3791218079873091402': CallNode(function='metadsl_core.abstraction.Abstraction.fix', type_params=None, args=['-16273939659257270'], kwargs=None), '-2470805898224121994': CallNode(function='metadsl_core.abstraction.Abstraction.__call__', type_params={'U': DeclaredTypeInstance(type='metadsl_core.integer.Integer', params=None), 'T': DeclaredTypeInstance(type='metadsl_core.integer.Integer', params=None)}, args=['3791218079873091402', '-9198064950632429771'], kwargs=None), '-2384720982856948811': PrimitiveNode(type='metadsl_core.abstraction.Variable', repr='Variable(4512349320)'), '7664443263508927266': CallNode(function='metadsl_core.abstraction.Abstraction.create_variable', type_params={'U': DeclaredTypeInstance(type='metadsl_core.integer.Integer', params=None), 'T': DeclaredTypeInstance(type='metadsl_core.integer.Integer', params=None)}, args=['-2384720982856948811'], kwargs=None), '5020133584677772467': PrimitiveNode(type='int', repr='0'), '-3261146991999286491': CallNode(function='metadsl_core.integer.Integer.from_int', type_params=None, args=['5020133584677772467'], kwargs=None), '1610115233605074726': CallNode(function='metadsl_core.integer.Integer.eq', type_params=None, args=['7664443263508927266', '-3261146991999286491'], kwargs=None), '5020133584678854992': PrimitiveNode(type='int', repr='1'), '-3761648464570011732': CallNode(function='metadsl_core.integer.Integer.from_int', type_params=None, args=['5020133584678854992'], kwargs=None), '1880936048214380717': CallNode(function='metadsl_core.integer.Integer.__sub__', type_params=None, args=['7664443263508927266', '-3761648464570011732'], kwargs=None), '648853626055728208': CallNode(function='metadsl_core.abstraction.Abstraction.__call__', type_params={'U': DeclaredTypeInstance(type='metadsl_core.integer.Integer', params=None), 'T': DeclaredTypeInstance(type='metadsl_core.integer.Integer', params=None)}, args=['1317201759694169871', '1880936048214380717'], kwargs=None), '-7842495516547100203': CallNode(function='metadsl_core.integer.Integer.__mul__', type_params=None, args=['7664443263508927266', '648853626055728208'], kwargs=None), '2297666814085689246': CallNode(function='metadsl_core.boolean.Boolean.if_', type_params=None, args=['1610115233605074726', '-3761648464570011732', '-7842495516547100203'], kwargs=None), '3832378786494712998': CallNode(function='metadsl_core.abstraction.Abstraction.create', type_params={'U': DeclaredTypeInstance(type='metadsl_core.integer.Integer', params=None), 'T': DeclaredTypeInstance(type='metadsl_core.integer.Integer', params=None)}, args=['7664443263508927266', '2297666814085689246'], kwargs=None), '857512534981601222': CallNode(function='metadsl_core.abstraction.Abstraction.create', type_params={'U': DeclaredTypeInstance(type='metadsl_core.abstraction.Abstraction', params={'U': DeclaredTypeInstance(type='metadsl_core.integer.Integer', params=None), 'T': DeclaredTypeInstance(type='metadsl_core.integer.Integer', params=None)}), 'T': DeclaredTypeInstance(type='metadsl_core.abstraction.Abstraction', params={'U': DeclaredTypeInstance(type='metadsl_core.integer.Integer', params=None), 'T': DeclaredTypeInstance(type='metadsl_core.integer.Integer', params=None)})}, args=['1317201759694169871', '3832378786494712998'], kwargs=None), '-1739011688871278916': CallNode(function='metadsl_core.abstraction.Abstraction.fix', type_params=None, args=['857512534981601222'], kwargs=None), '5970376096185889217': CallNode(function='metadsl_core.abstraction.Abstraction.__call__', type_params={'U': DeclaredTypeInstance(type='metadsl_core.integer.Integer', params=None), 'T': DeclaredTypeInstance(type='metadsl_core.integer.Integer', params=None)}, args=['-1739011688871278916', '-9198064950632429771'], kwargs=None), '8918720544866503944': CallNode(function='metadsl_core.abstraction.Abstraction.__call__', type_params=None, args=['857512534981601222', '-1739011688871278916'], kwargs=None), '9195884396846811451': CallNode(function='metadsl_core.abstraction.Abstraction.__call__', type_params={'U': DeclaredTypeInstance(type='metadsl_core.integer.Integer', params=None), 'T': DeclaredTypeInstance(type='metadsl_core.integer.Integer', params=None)}, args=['8918720544866503944', '-9198064950632429771'], kwargs=None), '-8236704211142714508': CallNode(function='metadsl_core.abstraction.Abstraction.__call__', type_params={'U': DeclaredTypeInstance(type='metadsl_core.integer.Integer', params=None), 'T': DeclaredTypeInstance(type='metadsl_core.integer.Integer', params=None)}, args=['-1739011688871278916', '1880936048214380717'], kwargs=None), '-1249476817723381172': CallNode(function='metadsl_core.integer.Integer.__mul__', type_params=None, args=['7664443263508927266', '-8236704211142714508'], kwargs=None), '6164834309607227234': CallNode(function='metadsl_core.boolean.Boolean.if_', type_params=None, args=['1610115233605074726', '-3761648464570011732', '-1249476817723381172'], kwargs=None), '492210148375499800': CallNode(function='metadsl_core.abstraction.Abstraction.create', type_params={'U': DeclaredTypeInstance(type='metadsl_core.integer.Integer', params=None), 'T': DeclaredTypeInstance(type='metadsl_core.integer.Integer', params=None)}, args=['7664443263508927266', '6164834309607227234'], kwargs=None), '8812644984828765344': CallNode(function='metadsl_core.abstraction.Abstraction.__call__', type_params={'U': DeclaredTypeInstance(type='metadsl_core.integer.Integer', params=None), 'T': DeclaredTypeInstance(type='metadsl_core.integer.Integer', params=None)}, args=['492210148375499800', '-9198064950632429771'], kwargs=None), '5237967625547649244': CallNode(function='metadsl_core.integer.Integer.eq', type_params=None, args=['-9198064950632429771', '-3261146991999286491'], kwargs=None), '1964821022688577691': CallNode(function='metadsl_core.integer.Integer.__sub__', type_params=None, args=['-9198064950632429771', '-3761648464570011732'], kwargs=None), '3073275938252098663': CallNode(function='metadsl_core.abstraction.Abstraction.__call__', type_params={'U': DeclaredTypeInstance(type='metadsl_core.integer.Integer', params=None), 'T': DeclaredTypeInstance(type='metadsl_core.integer.Integer', params=None)}, args=['-1739011688871278916', '1964821022688577691'], kwargs=None), '-7173634895950929025': CallNode(function='metadsl_core.integer.Integer.__mul__', type_params=None, args=['-9198064950632429771', '3073275938252098663'], kwargs=None), '2493859532809620943': CallNode(function='metadsl_core.boolean.Boolean.if_', type_params=None, args=['5237967625547649244', '-3761648464570011732', '-7173634895950929025'], kwargs=None), '-1343543487855198425': PrimitiveNode(type='bool', repr='False'), '-8881034144831541911': CallNode(function='metadsl_core.boolean.Boolean.create', type_params=None, args=['-1343543487855198425'], kwargs=None), '-6657090525025480772': CallNode(function='metadsl_core.boolean.Boolean.if_', type_params=None, args=['-8881034144831541911', '-3761648464570011732', '-7173634895950929025'], kwargs=None), '5020133584679937517': PrimitiveNode(type='int', repr='2'), '448377045070022433': CallNode(function='metadsl_core.integer.Integer.from_int', type_params=None, args=['5020133584679937517'], kwargs=None), '-467432560236078307': CallNode(function='metadsl_core.abstraction.Abstraction.__call__', type_params={'U': DeclaredTypeInstance(type='metadsl_core.integer.Integer', params=None), 'T': DeclaredTypeInstance(type='metadsl_core.integer.Integer', params=None)}, args=['-1739011688871278916', '448377045070022433'], kwargs=None), '497511676543944926': CallNode(function='metadsl_core.integer.Integer.__mul__', type_params=None, args=['-9198064950632429771', '-467432560236078307'], kwargs=None), '2567654429536128935': CallNode(function='metadsl_core.abstraction.Abstraction.__call__', type_params={'U': DeclaredTypeInstance(type='metadsl_core.abstraction.Abstraction', params={'U': DeclaredTypeInstance(type='metadsl_core.integer.Integer', params=None), 'T': DeclaredTypeInstance(type='metadsl_core.integer.Integer', params=None)}), 'T': DeclaredTypeInstance(type='metadsl_core.abstraction.Abstraction', params={'U': DeclaredTypeInstance(type='metadsl_core.integer.Integer', params=None), 'T': DeclaredTypeInstance(type='metadsl_core.integer.Integer', params=None)})}, args=['857512534981601222', '-1739011688871278916'], kwargs=None), '7685862414596826760': CallNode(function='metadsl_core.abstraction.Abstraction.__call__', type_params={'U': DeclaredTypeInstance(type='metadsl_core.integer.Integer', params=None), 'T': DeclaredTypeInstance(type='metadsl_core.integer.Integer', params=None)}, args=['2567654429536128935', '448377045070022433'], kwargs=None), '8069484191585452082': CallNode(function='metadsl_core.integer.Integer.__mul__', type_params=None, args=['-9198064950632429771', '7685862414596826760'], kwargs=None), '-3005929120812484172': CallNode(function='metadsl_core.abstraction.Abstraction.__call__', type_params={'U': DeclaredTypeInstance(type='metadsl_core.integer.Integer', params=None), 'T': DeclaredTypeInstance(type='metadsl_core.integer.Integer', params=None)}, args=['492210148375499800', '448377045070022433'], kwargs=None), '-5988358747029618461': CallNode(function='metadsl_core.integer.Integer.__mul__', type_params=None, args=['-9198064950632429771', '-3005929120812484172'], kwargs=None), '6224739780514286792': CallNode(function='metadsl_core.integer.Integer.eq', type_params=None, args=['448377045070022433', '-3261146991999286491'], kwargs=None), '4195317152331464951': CallNode(function='metadsl_core.integer.Integer.__sub__', type_params=None, args=['448377045070022433', '-3761648464570011732'], kwargs=None), '-36580418668738439': CallNode(function='metadsl_core.abstraction.Abstraction.__call__', type_params={'U': DeclaredTypeInstance(type='metadsl_core.integer.Integer', params=None), 'T': DeclaredTypeInstance(type='metadsl_core.integer.Integer', params=None)}, args=['-1739011688871278916', '4195317152331464951'], kwargs=None), '5097374435845051589': CallNode(function='metadsl_core.integer.Integer.__mul__', type_params=None, args=['448377045070022433', '-36580418668738439'], kwargs=None), '-8290421899266135467': CallNode(function='metadsl_core.boolean.Boolean.if_', type_params=None, args=['6224739780514286792', '-3761648464570011732', '5097374435845051589'], kwargs=None), '-4389650980285422461': CallNode(function='metadsl_core.integer.Integer.__mul__', type_params=None, args=['-9198064950632429771', '-8290421899266135467'], kwargs=None), '-3224532582408340970': CallNode(function='metadsl_core.boolean.Boolean.if_', type_params=None, args=['-8881034144831541911', '-3761648464570011732', '5097374435845051589'], kwargs=None), '3340767993503539728': CallNode(function='metadsl_core.integer.Integer.__mul__', type_params=None, args=['-9198064950632429771', '-3224532582408340970'], kwargs=None), '-406601741073018782': CallNode(function='metadsl_core.integer.Integer.__mul__', type_params=None, args=['-9198064950632429771', '5097374435845051589'], kwargs=None), '-6753046580149111840': CallNode(function='metadsl_core.abstraction.Abstraction.__call__', type_params={'U': DeclaredTypeInstance(type='metadsl_core.integer.Integer', params=None), 'T': DeclaredTypeInstance(type='metadsl_core.integer.Integer', params=None)}, args=['-1739011688871278916', '-3761648464570011732'], kwargs=None), '-8383502884057781075': CallNode(function='metadsl_core.integer.Integer.__mul__', type_params=None, args=['448377045070022433', '-6753046580149111840'], kwargs=None), '5556213684307370570': CallNode(function='metadsl_core.integer.Integer.__mul__', type_params=None, args=['-9198064950632429771', '-8383502884057781075'], kwargs=None), '5970135790746733077': CallNode(function='metadsl_core.abstraction.Abstraction.__call__', type_params={'U': DeclaredTypeInstance(type='metadsl_core.integer.Integer', params=None), 'T': DeclaredTypeInstance(type='metadsl_core.integer.Integer', params=None)}, args=['2567654429536128935', '-3761648464570011732'], kwargs=None), '-1715183837058597579': CallNode(function='metadsl_core.integer.Integer.__mul__', type_params=None, args=['448377045070022433', '5970135790746733077'], kwargs=None), '-156400494958923495': CallNode(function='metadsl_core.integer.Integer.__mul__', type_params=None, args=['-9198064950632429771', '-1715183837058597579'], kwargs=None), '-1814261301443872895': CallNode(function='metadsl_core.abstraction.Abstraction.__call__', type_params={'U': DeclaredTypeInstance(type='metadsl_core.integer.Integer', params=None), 'T': DeclaredTypeInstance(type='metadsl_core.integer.Integer', params=None)}, args=['492210148375499800', '-3761648464570011732'], kwargs=None), '-4285478503308723628': CallNode(function='metadsl_core.integer.Integer.__mul__', type_params=None, args=['448377045070022433', '-1814261301443872895'], kwargs=None), '2946180503986392643': CallNode(function='metadsl_core.integer.Integer.__mul__', type_params=None, args=['-9198064950632429771', '-4285478503308723628'], kwargs=None), '-1751257619993432315': CallNode(function='metadsl_core.integer.Integer.eq', type_params=None, args=['-3761648464570011732', '-3261146991999286491'], kwargs=None), '-1396514070026963675': CallNode(function='metadsl_core.integer.Integer.__sub__', type_params=None, args=['-3761648464570011732', '-3761648464570011732'], kwargs=None), '-8997476289645855609': CallNode(function='metadsl_core.abstraction.Abstraction.__call__', type_params={'U': DeclaredTypeInstance(type='metadsl_core.integer.Integer', params=None), 'T': DeclaredTypeInstance(type='metadsl_core.integer.Integer', params=None)}, args=['-1739011688871278916', '-1396514070026963675'], kwargs=None), '-5124226575538759185': CallNode(function='metadsl_core.integer.Integer.__mul__', type_params=None, args=['-3761648464570011732', '-8997476289645855609'], kwargs=None), '6632681833014167910': CallNode(function='metadsl_core.boolean.Boolean.if_', type_params=None, args=['-1751257619993432315', '-3761648464570011732', '-5124226575538759185'], kwargs=None), '-1675477245636034855': CallNode(function='metadsl_core.integer.Integer.__mul__', type_params=None, args=['448377045070022433', '6632681833014167910'], kwargs=None), '1230940190814917584': CallNode(function='metadsl_core.integer.Integer.__mul__', type_params=None, args=['-9198064950632429771', '-1675477245636034855'], kwargs=None), '-2503593351645374015': CallNode(function='metadsl_core.boolean.Boolean.if_', type_params=None, args=['-8881034144831541911', '-3761648464570011732', '-5124226575538759185'], kwargs=None), '3833705329025753595': CallNode(function='metadsl_core.integer.Integer.__mul__', type_params=None, args=['448377045070022433', '-2503593351645374015'], kwargs=None), '-4022890374450464025': CallNode(function='metadsl_core.integer.Integer.__mul__', type_params=None, args=['-9198064950632429771', '3833705329025753595'], kwargs=None), '4159197151951766977': CallNode(function='metadsl_core.integer.Integer.__mul__', type_params=None, args=['448377045070022433', '-5124226575538759185'], kwargs=None), '1071242148663612846': CallNode(function='metadsl_core.integer.Integer.__mul__', type_params=None, args=['-9198064950632429771', '4159197151951766977'], kwargs=None), '2134574752010800875': CallNode(function='metadsl_core.abstraction.Abstraction.__call__', type_params={'U': DeclaredTypeInstance(type='metadsl_core.integer.Integer', params=None), 'T': DeclaredTypeInstance(type='metadsl_core.integer.Integer', params=None)}, args=['-1739011688871278916', '-3261146991999286491'], kwargs=None), '-9119862996066166481': CallNode(function='metadsl_core.integer.Integer.__mul__', type_params=None, args=['-3761648464570011732', '2134574752010800875'], kwargs=None), '9131869119941321727': CallNode(function='metadsl_core.integer.Integer.__mul__', type_params=None, args=['448377045070022433', '-9119862996066166481'], kwargs=None), '4989086897960106256': CallNode(function='metadsl_core.integer.Integer.__mul__', type_params=None, args=['-9198064950632429771', '9131869119941321727'], kwargs=None), '-3148566158153018070': CallNode(function='metadsl_core.abstraction.Abstraction.__call__', type_params={'U': DeclaredTypeInstance(type='metadsl_core.integer.Integer', params=None), 'T': DeclaredTypeInstance(type='metadsl_core.integer.Integer', params=None)}, args=['2567654429536128935', '-3261146991999286491'], kwargs=None), '-7378091907278634910': CallNode(function='metadsl_core.integer.Integer.__mul__', type_params=None, args=['-3761648464570011732', '-3148566158153018070'], kwargs=None), '8198817181893144873': CallNode(function='metadsl_core.integer.Integer.__mul__', type_params=None, args=['448377045070022433', '-7378091907278634910'], kwargs=None), '8235131843359757299': CallNode(function='metadsl_core.integer.Integer.__mul__', type_params=None, args=['-9198064950632429771', '8198817181893144873'], kwargs=None), '-2110154939986988874': CallNode(function='metadsl_core.abstraction.Abstraction.__call__', type_params={'U': DeclaredTypeInstance(type='metadsl_core.integer.Integer', params=None), 'T': DeclaredTypeInstance(type='metadsl_core.integer.Integer', params=None)}, args=['492210148375499800', '-3261146991999286491'], kwargs=None), '-9032512893085977426': CallNode(function='metadsl_core.integer.Integer.__mul__', type_params=None, args=['-3761648464570011732', '-2110154939986988874'], kwargs=None), '4196200059632993030': CallNode(function='metadsl_core.integer.Integer.__mul__', type_params=None, args=['448377045070022433', '-9032512893085977426'], kwargs=None), '-8827702675607390721': CallNode(function='metadsl_core.integer.Integer.__mul__', type_params=None, args=['-9198064950632429771', '4196200059632993030'], kwargs=None), '8744182282586139310': CallNode(function='metadsl_core.integer.Integer.eq', type_params=None, args=['-3261146991999286491', '-3261146991999286491'], kwargs=None), '-930789844318381307': CallNode(function='metadsl_core.integer.Integer.__sub__', type_params=None, args=['-3261146991999286491', '-3761648464570011732'], kwargs=None), '3569681227535257458': CallNode(function='metadsl_core.abstraction.Abstraction.__call__', type_params={'U': DeclaredTypeInstance(type='metadsl_core.integer.Integer', params=None), 'T': DeclaredTypeInstance(type='metadsl_core.integer.Integer', params=None)}, args=['-1739011688871278916', '-930789844318381307'], kwargs=None), '5653394834464996904': CallNode(function='metadsl_core.integer.Integer.__mul__', type_params=None, args=['-3261146991999286491', '3569681227535257458'], kwargs=None), '1308931567296850694': CallNode(function='metadsl_core.boolean.Boolean.if_', type_params=None, args=['8744182282586139310', '-3761648464570011732', '5653394834464996904'], kwargs=None), '1251464527634032073': CallNode(function='metadsl_core.integer.Integer.__mul__', type_params=None, args=['-3761648464570011732', '1308931567296850694'], kwargs=None), '2417876631091226093': CallNode(function='metadsl_core.integer.Integer.__mul__', type_params=None, args=['448377045070022433', '1251464527634032073'], kwargs=None), '-3123841627651589275': CallNode(function='metadsl_core.integer.Integer.__mul__', type_params=None, args=['-9198064950632429771', '2417876631091226093'], kwargs=None), '-1343543487854115900': PrimitiveNode(type='bool', repr='True'), '-8603486734980525913': CallNode(function='metadsl_core.boolean.Boolean.create', type_params=None, args=['-1343543487854115900'], kwargs=None), '-8477067086700752761': CallNode(function='metadsl_core.boolean.Boolean.if_', type_params=None, args=['-8603486734980525913', '-3761648464570011732', '5653394834464996904'], kwargs=None), '-7523385317980141960': CallNode(function='metadsl_core.integer.Integer.__mul__', type_params=None, args=['-3761648464570011732', '-8477067086700752761'], kwargs=None), '2234695453237846005': CallNode(function='metadsl_core.integer.Integer.__mul__', type_params=None, args=['448377045070022433', '-7523385317980141960'], kwargs=None), '-8025723602494604157': CallNode(function='metadsl_core.integer.Integer.__mul__', type_params=None, args=['-9198064950632429771', '2234695453237846005'], kwargs=None), '5504918128939009495': CallNode(function='metadsl_core.integer.Integer.__mul__', type_params=None, args=['-3761648464570011732', '-3761648464570011732'], kwargs=None), '-4711146507285855794': CallNode(function='metadsl_core.integer.Integer.__mul__', type_params=None, args=['448377045070022433', '5504918128939009495'], kwargs=None), '2887009960878816871': CallNode(function='metadsl_core.integer.Integer.__mul__', type_params=None, args=['-9198064950632429771', '-4711146507285855794'], kwargs=None), '7273508617291920197': CallNode(function='metadsl_core.integer.Integer.__mul__', type_params=None, args=['448377045070022433', '-3761648464570011732'], kwargs=None), '6315998705676060013': CallNode(function='metadsl_core.integer.Integer.__mul__', type_params=None, args=['-9198064950632429771', '7273508617291920197'], kwargs=None), '6792392814498283792': CallNode(function='metadsl_core.integer.Integer.__mul__', type_params=None, args=['-9198064950632429771', '448377045070022433'], kwargs=None), '5020133584684267617': PrimitiveNode(type='int', repr='6'), '-2730451188572742147': CallNode(function='metadsl_core.integer.Integer.from_int', type_params=None, args=['5020133584684267617'], kwargs=None)}, states=States(initial='2094699975406884999', states=[State(node='-2470805898224121994', rule='metadsl_core.abstraction.Abstraction.from_fn', label=None), State(node='5970376096185889217', rule='metadsl_core.abstraction.Abstraction.from_fn', label='core'), State(node='9195884396846811451', rule='metadsl_core.abstraction.Abstraction.fix', label=None), State(node='8812644984828765344', rule='metadsl_core.abstraction.beta_reduce', label=None), State(node='2493859532809620943', rule='metadsl_core.abstraction.beta_reduce', label=None), State(node='-6657090525025480772', rule='metadsl_core.integer.integer_eq', label=None), State(node='-7173634895950929025', rule='metadsl_core.boolean.if_', label=None), State(node='497511676543944926', rule='metadsl_core.integer.integer_math', label=None), State(node='8069484191585452082', rule='metadsl_core.abstraction.Abstraction.fix', label=None), State(node='-5988358747029618461', rule='metadsl_core.abstraction.beta_reduce', label=None), State(node='-4389650980285422461', rule='metadsl_core.abstraction.beta_reduce', label=None), State(node='3340767993503539728', rule='metadsl_core.integer.integer_eq', label=None), State(node='-406601741073018782', rule='metadsl_core.boolean.if_', label=None), State(node='5556213684307370570', rule='metadsl_core.integer.integer_math', label=None), State(node='-156400494958923495', rule='metadsl_core.abstraction.Abstraction.fix', label=None), State(node='2946180503986392643', rule='metadsl_core.abstraction.beta_reduce', label=None), State(node='1230940190814917584', rule='metadsl_core.abstraction.beta_reduce', label=None), State(node='-4022890374450464025', rule='metadsl_core.integer.integer_eq', label=None), State(node='1071242148663612846', rule='metadsl_core.boolean.if_', label=None), State(node='4989086897960106256', rule='metadsl_core.integer.integer_math', label=None), State(node='8235131843359757299', rule='metadsl_core.abstraction.Abstraction.fix', label=None), State(node='-8827702675607390721', rule='metadsl_core.abstraction.beta_reduce', label=None), State(node='-3123841627651589275', rule='metadsl_core.abstraction.beta_reduce', label=None), State(node='-8025723602494604157', rule='metadsl_core.integer.integer_eq', label=None), State(node='2887009960878816871', rule='metadsl_core.boolean.if_', label=None), State(node='6315998705676060013', rule='metadsl_core.integer.integer_math', label=None), State(node='6792392814498283792', rule='metadsl_core.integer.integer_math', label=None), State(node='-2730451188572742147', rule='metadsl_core.integer.integer_math', label='execute')]))"
      ]
     },
     "metadata": {},
     "output_type": "display_data"
    },
    {
     "name": "stdout",
     "output_type": "stream",
     "text": [
      ".                                                                                                                                                                                                                                       [100%]\n",
      "\n",
      "=========================================================================================================================== 1 passed in 2.86 seconds ===========================================================================================================================\n"
     ]
    },
    {
     "data": {
      "text/plain": [
       "0"
      ]
     },
     "execution_count": 2,
     "metadata": {},
     "output_type": "execute_result"
    }
   ],
   "source": [
    "DISABLED_PLUGINS = [\n",
    "    \"xdist\",\n",
    "    \"mypy\",\n",
    "    \"pudb\",\n",
    "    \"testmon\",\n",
    "    \"randomly\",\n",
    "    \"forked\"\n",
    "]\n",
    "pytest.main([l for p in DISABLED_PLUGINS for l in (\"-p\", f\"no:{p}\")] + [\"metadsl_core/abstraction_test.py::TestAbstraction::test_fix\"])"
   ]
  },
  {
   "cell_type": "code",
   "execution_count": null,
   "metadata": {},
   "outputs": [],
   "source": []
  }
 ],
 "metadata": {
  "kernelspec": {
   "display_name": "Python 3",
   "language": "python",
   "name": "python3"
  },
  "language_info": {
   "codemirror_mode": {
    "name": "ipython",
    "version": 3
   },
   "file_extension": ".py",
   "mimetype": "text/x-python",
   "name": "python",
   "nbconvert_exporter": "python",
   "pygments_lexer": "ipython3",
   "version": "3.7.3"
  }
 },
 "nbformat": 4,
 "nbformat_minor": 4
}
