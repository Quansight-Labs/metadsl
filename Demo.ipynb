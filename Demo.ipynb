{
 "cells": [
  {
   "cell_type": "markdown",
   "metadata": {},
   "source": [
    "# `metadsl`\n",
    "\n",
    "...is a framework for creating domain specific languages in Python."
   ]
  },
  {
   "cell_type": "code",
   "execution_count": 1,
   "metadata": {},
   "outputs": [],
   "source": [
    "from __future__ import annotations\n",
    "\n",
    "from metadsl import *\n",
    "from metadsl_core import *\n",
    "from metadsl_visualize import *\n",
    "\n",
    "set_rule(all_rules)"
   ]
  },
  {
   "cell_type": "markdown",
   "metadata": {},
   "source": [
    "Here, we show a NumPy API compatible DSL that we have started writing. We can create a symbolic expression and then execute it. The widget shows the different stages of execution:"
   ]
  },
  {
   "cell_type": "code",
   "execution_count": 2,
   "metadata": {},
   "outputs": [
    {
     "data": {
      "application/json": {
       "nodes": {
        "-1122689718890182828": {
         "args": [
          "-5923656131815051501",
          "7110260842223528479"
         ],
         "function": "metadsl_core.maybe.Maybe[metadsl_core.either.Either[metadsl_core.integer.Integer, metadsl_core.vec.Vec[metadsl_core.integer.Integer]]].__or__",
         "type_params": {
          "~T": {
           "params": {
            "~T": {
             "type": "None"
            },
            "~U": {
             "params": {
              "~T": {
               "type": "None"
              }
             },
             "type": "<class 'metadsl_core.vec.Vec'>"
            }
           },
           "type": "<class 'metadsl_core.either.Either'>"
          }
         }
        },
        "-1139168476585419968": {
         "args": [
          "-2322850183695214135",
          "7110260842223528479"
         ],
         "function": "metadsl_core.maybe.Maybe[metadsl_core.either.Either[metadsl_core.integer.Integer, metadsl_core.vec.Vec[metadsl_core.integer.Integer]]].__or__",
         "type_params": {
          "~T": {
           "params": {
            "~T": {
             "type": "None"
            },
            "~U": {
             "params": {
              "~T": {
               "type": "None"
              }
             },
             "type": "<class 'metadsl_core.vec.Vec'>"
            }
           },
           "type": "<class 'metadsl_core.either.Either'>"
          }
         }
        },
        "-1166254989436450066": {
         "args": [
          "-1607582695400466492"
         ],
         "function": "Abstraction.from_fn"
        },
        "-1178522331047837227": {
         "repr": "10",
         "type": "<class 'numpy.int64'>"
        },
        "-1308169198235884699": {
         "args": [
          "5325694296562478479"
         ],
         "function": "NDArrayCompat.from_ndarray"
        },
        "-1380341197269524598": {
         "args": [
          "-4918430761008789601"
         ],
         "function": "metadsl_core.conversion.Converter[metadsl_core.numpy.NDArray].convert",
         "type_params": {
          "~T": {
           "type": "None"
          }
         }
        },
        "-1431836062064850620": {
         "args": [
          "-6911017947402962927"
         ],
         "function": "NDArrayCompat.to_ndarray"
        },
        "-1437577047752864531": {
         "args": [
          "1473238385366732049"
         ],
         "function": "metadsl_core.abstraction.Abstraction[metadsl_core.either.Either[metadsl_core.integer.Integer, metadsl_core.vec.Vec[metadsl_core.integer.Integer]], metadsl_core.maybe.Maybe[metadsl_core.either.Either[metadsl_core.integer.Integer, metadsl_core.vec.Vec[metadsl_core.integer.Integer]]]].create_variable",
         "type_params": {
          "~T": {
           "params": {
            "~T": {
             "type": "None"
            },
            "~U": {
             "params": {
              "~T": {
               "type": "None"
              }
             },
             "type": "<class 'metadsl_core.vec.Vec'>"
            }
           },
           "type": "<class 'metadsl_core.either.Either'>"
          },
          "~U": {
           "params": {
            "~T": {
             "params": {
              "~T": {
               "type": "None"
              },
              "~U": {
               "params": {
                "~T": {
                 "type": "None"
                }
               },
               "type": "<class 'metadsl_core.vec.Vec'>"
              }
             },
             "type": "<class 'metadsl_core.either.Either'>"
            }
           },
           "type": "<class 'metadsl_core.maybe.Maybe'>"
          }
         }
        },
        "-1493941571026113454": {
         "args": [
          "5133671696006867822"
         ],
         "function": "NDArrayCompat.to_ndarray"
        },
        "-1515850010960577075": {
         "args": [
          "4185942570325936474",
          "4883582262400259958"
         ],
         "function": "metadsl_core.abstraction.Abstraction[metadsl_core.either.Either[metadsl_core.integer.Integer, metadsl_core.vec.Vec[metadsl_core.integer.Integer]], metadsl_core.maybe.Maybe[metadsl_core.either.Either[metadsl_core.integer.Integer, metadsl_core.vec.Vec[metadsl_core.integer.Integer]]]].__add__",
         "type_params": {
          "~T": {
           "params": {
            "~T": {
             "type": "None"
            },
            "~U": {
             "params": {
              "~T": {
               "type": "None"
              }
             },
             "type": "<class 'metadsl_core.vec.Vec'>"
            }
           },
           "type": "<class 'metadsl_core.either.Either'>"
          },
          "~U": {
           "params": {
            "~T": {
             "params": {
              "~T": {
               "type": "None"
              },
              "~U": {
               "params": {
                "~T": {
                 "type": "None"
                }
               },
               "type": "<class 'metadsl_core.vec.Vec'>"
              }
             },
             "type": "<class 'metadsl_core.either.Either'>"
            }
           },
           "type": "<class 'metadsl_core.maybe.Maybe'>"
          }
         }
        },
        "-1569724923194123044": {
         "args": [
          "-582153245705112070"
         ],
         "function": "NDArrayCompat.from_ndarray"
        },
        "-1607582228910133292": {
         "repr": "BoundInfer(fn=<function Either.left at 0x103f8d158>, wrapper=<function wrapper at 0x103f51048>, owner=metadsl_core.either.Either[metadsl_core.integer.Integer, metadsl_core.vec.Vec[metadsl_core.integer.Integer]], is_classmethod=True)",
         "type": "<class 'metadsl.typing_tools.BoundInfer'>"
        },
        "-1607582240506141092": {
         "repr": "BoundInfer(fn=<function Either.right at 0x103f8d598>, wrapper=<function wrapper at 0x103f51048>, owner=metadsl_core.either.Either[metadsl_core.integer.Integer, metadsl_core.vec.Vec[metadsl_core.integer.Integer]], is_classmethod=True)",
         "type": "<class 'metadsl.typing_tools.BoundInfer'>"
        },
        "-1607582274107717092": {
         "repr": "BoundInfer(fn=<function Maybe.just at 0x103f71d08>, wrapper=<function wrapper at 0x103f51048>, owner=metadsl_core.maybe.Maybe[metadsl_core.numpy.NDArray], is_classmethod=True)",
         "type": "<class 'metadsl.typing_tools.BoundInfer'>"
        },
        "-1607582322431633092": {
         "repr": "BoundInfer(fn=<function Maybe.just at 0x103f71d08>, wrapper=<function wrapper at 0x103f51048>, owner=metadsl_core.maybe.Maybe[metadsl_core.numpy.NDArray], is_classmethod=True)",
         "type": "<class 'metadsl.typing_tools.BoundInfer'>"
        },
        "-1607582424630653292": {
         "repr": "BoundInfer(fn=<function Either.left at 0x103f8d158>, wrapper=<function wrapper at 0x103f51048>, owner=metadsl_core.either.Either[metadsl_core.integer.Integer, metadsl_core.vec.Vec[metadsl_core.integer.Integer]], is_classmethod=True)",
         "type": "<class 'metadsl.typing_tools.BoundInfer'>"
        },
        "-1607582429670889692": {
         "repr": "BoundInfer(fn=<function Maybe.just at 0x103f71d08>, wrapper=<function wrapper at 0x103f51048>, owner=metadsl_core.maybe.Maybe[metadsl_core.numpy.NDArray], is_classmethod=True)",
         "type": "<class 'metadsl.typing_tools.BoundInfer'>"
        },
        "-1607582431463551092": {
         "repr": "BoundInfer(fn=<function Either.right at 0x103f8d598>, wrapper=<function wrapper at 0x103f51048>, owner=metadsl_core.either.Either[metadsl_core.integer.Integer, metadsl_core.vec.Vec[metadsl_core.integer.Integer]], is_classmethod=True)",
         "type": "<class 'metadsl.typing_tools.BoundInfer'>"
        },
        "-1607582507630010092": {
         "repr": "BoundInfer(fn=<function Maybe.just at 0x103f71d08>, wrapper=<function wrapper at 0x103f51048>, owner=metadsl_core.maybe.Maybe[metadsl_core.numpy.NDArray], is_classmethod=True)",
         "type": "<class 'metadsl.typing_tools.BoundInfer'>"
        },
        "-1607582673853888892": {
         "repr": "BoundInfer(fn=<function Maybe.just at 0x103f71d08>, wrapper=<function wrapper at 0x103f51048>, owner=metadsl_core.maybe.Maybe[metadsl_core.either.Either[metadsl_core.integer.Integer, metadsl_core.vec.Vec[metadsl_core.integer.Integer]]], is_classmethod=True)",
         "type": "<class 'metadsl.typing_tools.BoundInfer'>"
        },
        "-1607582674884452692": {
         "repr": "BoundInfer(fn=<function Either.left at 0x103f8d158>, wrapper=<function wrapper at 0x103f51048>, owner=metadsl_core.either.Either[metadsl_core.integer.Integer, metadsl_core.vec.Vec[metadsl_core.integer.Integer]], is_classmethod=True)",
         "type": "<class 'metadsl.typing_tools.BoundInfer'>"
        },
        "-1607582695400466492": {
         "repr": "BoundInfer(fn=<function Maybe.just at 0x103f71d08>, wrapper=<function wrapper at 0x103f51048>, owner=metadsl_core.maybe.Maybe[metadsl_core.numpy.NDArray], is_classmethod=True)",
         "type": "<class 'metadsl.typing_tools.BoundInfer'>"
        },
        "-1607582775368753292": {
         "repr": "BoundInfer(fn=<function Maybe.just at 0x103f71d08>, wrapper=<function wrapper at 0x103f51048>, owner=metadsl_core.maybe.Maybe[metadsl_core.either.Either[metadsl_core.integer.Integer, metadsl_core.vec.Vec[metadsl_core.integer.Integer]]], is_classmethod=True)",
         "type": "<class 'metadsl.typing_tools.BoundInfer'>"
        },
        "-1607582783925030892": {
         "repr": "BoundInfer(fn=<function Either.left at 0x103f8d158>, wrapper=<function wrapper at 0x103f51048>, owner=metadsl_core.either.Either[metadsl_core.integer.Integer, metadsl_core.vec.Vec[metadsl_core.integer.Integer]], is_classmethod=True)",
         "type": "<class 'metadsl.typing_tools.BoundInfer'>"
        },
        "-1617433012068254295": {
         "args": [
          "6958929918376508470",
          "-5799366330510475334",
          "-7477978994960775319"
         ],
         "function": "Maybe.match"
        },
        "-164719936505841084": {
         "args": [
          "-7310815994323534430"
         ],
         "function": "arange_"
        },
        "-1673807843254666857": {
         "args": [
          "931419706256744064",
          "-6211872709800531426"
         ],
         "function": "metadsl_core.abstraction.Abstraction[metadsl_core.integer.Integer, metadsl_core.numpy.NDArray].create",
         "type_params": {
          "~T": {
           "type": "None"
          },
          "~U": {
           "type": "None"
          }
         }
        },
        "-1686062689311642513": {
         "args": [
          "5793999285095704564"
         ],
         "function": "arange"
        },
        "-1723925058666172788": {
         "args": [
          "-7539462300336234134",
          "-5312105169486054623"
         ],
         "function": "ndarray_getitem"
        },
        "-1825639675481737058": {
         "args": [
          "7184966082362138670"
         ],
         "function": "Maybe.just"
        },
        "-1835028791362583836": {
         "args": [
          "-2652651998234565930"
         ],
         "function": "metadsl_core.pair.Pair[metadsl_core.numpy.NDArray, metadsl_core.either.Either[metadsl_core.integer.Integer, metadsl_core.vec.Vec[metadsl_core.integer.Integer]]].right",
         "type_params": {
          "~T": {
           "type": "None"
          },
          "~U": {
           "params": {
            "~T": {
             "type": "None"
            },
            "~U": {
             "params": {
              "~T": {
               "type": "None"
              }
             },
             "type": "<class 'metadsl_core.vec.Vec'>"
            }
           },
           "type": "<class 'metadsl_core.either.Either'>"
          }
         }
        },
        "-1875854271945712492": {
         "args": [
          "-6518855418956150750",
          "1814314549131140756"
         ],
         "function": "metadsl_core.abstraction.Abstraction[metadsl_core.numpy.NDArray, metadsl_core.maybe.Maybe[metadsl_core.numpy.NDArray]].create",
         "type_params": {
          "~T": {
           "type": "None"
          },
          "~U": {
           "params": {
            "~T": {
             "type": "None"
            }
           },
           "type": "<class 'metadsl_core.maybe.Maybe'>"
          }
         }
        },
        "-1890841807323858431": {
         "args": [
          "-5181703610755471228",
          "-5799366330510475334",
          "-7477978994960775319"
         ],
         "function": "Maybe.match"
        },
        "-1969797189182383914": {
         "args": [
          "6008953796349760737"
         ],
         "function": "metadsl_core.abstraction.Abstraction[metadsl_core.pair.Pair[metadsl_core.numpy.NDArray, metadsl_core.either.Either[metadsl_core.integer.Integer, metadsl_core.vec.Vec[metadsl_core.integer.Integer]]], metadsl_core.numpy.NDArray].from_fn",
         "type_params": {
          "~T": {
           "params": {
            "~T": {
             "type": "None"
            },
            "~U": {
             "params": {
              "~T": {
               "type": "None"
              },
              "~U": {
               "params": {
                "~T": {
                 "type": "None"
                }
               },
               "type": "<class 'metadsl_core.vec.Vec'>"
              }
             },
             "type": "<class 'metadsl_core.either.Either'>"
            }
           },
           "type": "<class 'metadsl_core.pair.Pair'>"
          },
          "~U": {
           "type": "None"
          }
         }
        },
        "-2062961300368451795": {
         "repr": "100",
         "type": "<class 'int'>"
        },
        "-2062961300402010070": {
         "repr": "5",
         "type": "<class 'int'>"
        },
        "-2089317743506400581": {
         "args": [
          "-4032172086277843621"
         ],
         "function": "NDArrayCompat.from_ndarray"
        },
        "-2141169977656638728": {
         "args": [
          "-1607582424630653292"
         ],
         "function": "Abstraction.from_fn"
        },
        "-2170860302900065182": {
         "args": [
          "5102478036410264112",
          "-1673807843254666857"
         ],
         "function": "metadsl_core.abstraction.Abstraction[metadsl_core.numpy.NDArray, metadsl_core.maybe.Maybe[metadsl_core.numpy.NDArray]].__add__",
         "type_params": {
          "~T": {
           "type": "None"
          },
          "~U": {
           "params": {
            "~T": {
             "type": "None"
            }
           },
           "type": "<class 'metadsl_core.maybe.Maybe'>"
          }
         }
        },
        "-2177582755256329069": {
         "args": [
          "-923260063906323973",
          "-5799366330510475334",
          "-7477978994960775319"
         ],
         "function": "Maybe.match"
        },
        "-2191279762611742384": {
         "args": [
          "-6211872709800531426"
         ],
         "function": "metadsl_core.maybe.Maybe[metadsl_core.numpy.NDArray].just",
         "type_params": {
          "~T": {
           "type": "None"
          }
         }
        },
        "-2322850183695214135": {
         "args": [
          "6138330199496762554"
         ],
         "function": "metadsl_core.maybe.Maybe[metadsl_core.either.Either[metadsl_core.integer.Integer, metadsl_core.vec.Vec[metadsl_core.integer.Integer]]].just",
         "type_params": {
          "~T": {
           "params": {
            "~T": {
             "type": "None"
            },
            "~U": {
             "params": {
              "~T": {
               "type": "None"
              }
             },
             "type": "<class 'metadsl_core.vec.Vec'>"
            }
           },
           "type": "<class 'metadsl_core.either.Either'>"
          }
         }
        },
        "-2327018093481813258": {
         "args": [
          "901951854771457488",
          "6258012183568072117"
         ],
         "function": "NDArrayCompat.__add__"
        },
        "-2583547725721591347": {
         "args": [
          "-8990562706427671336",
          "4911082346213700237"
         ],
         "function": "Abstraction.create"
        },
        "-2632471959037560774": {
         "args": [
          "5320968424423773868",
          "-5312105169486054623"
         ],
         "function": "ndarray_getitem"
        },
        "-2652651998234565930": {
         "args": [
          "1473238351005223499"
         ],
         "function": "metadsl_core.abstraction.Abstraction[metadsl_core.pair.Pair[metadsl_core.numpy.NDArray, metadsl_core.either.Either[metadsl_core.integer.Integer, metadsl_core.vec.Vec[metadsl_core.integer.Integer]]], metadsl_core.numpy.NDArray].create_variable",
         "type_params": {
          "~T": {
           "params": {
            "~T": {
             "type": "None"
            },
            "~U": {
             "params": {
              "~T": {
               "type": "None"
              },
              "~U": {
               "params": {
                "~T": {
                 "type": "None"
                }
               },
               "type": "<class 'metadsl_core.vec.Vec'>"
              }
             },
             "type": "<class 'metadsl_core.either.Either'>"
            }
           },
           "type": "<class 'metadsl_core.pair.Pair'>"
          },
          "~U": {
           "type": "None"
          }
         }
        },
        "-2709977355845321892": {
         "args": [
          "-8990562706427671336",
          "-3628695812954142248"
         ],
         "function": "metadsl_core.abstraction.Abstraction[metadsl_core.integer.Integer, metadsl_core.either.Either[metadsl_core.integer.Integer, metadsl_core.vec.Vec[metadsl_core.integer.Integer]]].create",
         "type_params": {
          "~T": {
           "type": "None"
          },
          "~U": {
           "params": {
            "~T": {
             "type": "None"
            },
            "~U": {
             "params": {
              "~T": {
               "type": "None"
              }
             },
             "type": "<class 'metadsl_core.vec.Vec'>"
            }
           },
           "type": "<class 'metadsl_core.either.Either'>"
          }
         }
        },
        "-2788126439818582918": {
         "args": [
          "8056940863934102961"
         ],
         "function": "NDArrayCompat.from_ndarray"
        },
        "-288772167902643112": {
         "args": [
          "-2062961300402010070"
         ],
         "function": "metadsl_core.conversion.Converter[metadsl_core.vec.Vec[metadsl_core.integer.Integer]].convert",
         "type_params": {
          "~T": {
           "params": {
            "~T": {
             "type": "None"
            }
           },
           "type": "<class 'metadsl_core.vec.Vec'>"
          }
         }
        },
        "-2902201282976657465": {
         "args": [
          "6400324216289340679",
          "7110260842223528479"
         ],
         "function": "metadsl_core.maybe.Maybe[metadsl_core.either.Either[metadsl_core.integer.Integer, metadsl_core.vec.Vec[metadsl_core.integer.Integer]]].__or__",
         "type_params": {
          "~T": {
           "params": {
            "~T": {
             "type": "None"
            },
            "~U": {
             "params": {
              "~T": {
               "type": "None"
              }
             },
             "type": "<class 'metadsl_core.vec.Vec'>"
            }
           },
           "type": "<class 'metadsl_core.either.Either'>"
          }
         }
        },
        "-2963313882322249380": {
         "args": [
          "-5455555505360549256"
         ],
         "function": "NDArrayCompat.from_ndarray"
        },
        "-3024461076239560059": {
         "args": [
          "499212879731562402",
          "4328928153435006979"
         ],
         "function": "metadsl_core.maybe.Maybe[metadsl_core.numpy.NDArray].__and__",
         "type_params": {
          "~T": {
           "type": "None"
          }
         }
        },
        "-3030593872564034905": {
         "args": [
          "3531862033796360837"
         ],
         "function": "NDArrayCompat.from_ndarray"
        },
        "-3203634775850872767": {
         "args": [
          "-1437577047752864531"
         ],
         "function": "metadsl_core.maybe.Maybe[metadsl_core.either.Either[metadsl_core.integer.Integer, metadsl_core.vec.Vec[metadsl_core.integer.Integer]]].just",
         "type_params": {
          "~T": {
           "params": {
            "~T": {
             "type": "None"
            },
            "~U": {
             "params": {
              "~T": {
               "type": "None"
              }
             },
             "type": "<class 'metadsl_core.vec.Vec'>"
            }
           },
           "type": "<class 'metadsl_core.either.Either'>"
          }
         }
        },
        "-3214405503694481696": {
         "repr": "<function NDArrayCompat.__getitem__.<locals>.<lambda> at 0x103ef5ae8>",
         "type": "<class 'function'>"
        },
        "-3216256787761552093": {
         "args": [
          "8978106986500244405",
          "8978106986500244405"
         ],
         "function": "NDArray.__add__"
        },
        "-3314056357467995475": {
         "args": [
          "-1825639675481737058",
          "-2141169977656638728"
         ],
         "function": "metadsl_core.maybe.Maybe[metadsl_core.integer.Integer].map",
         "type_params": {
          "~T": {
           "type": "None"
          }
         }
        },
        "-3362091527069260262": {
         "args": [
          "1502454975205383795",
          "-5799366330510475334",
          "-7477978994960775319"
         ],
         "function": "Maybe.match"
        },
        "-3540937553888413857": {
         "args": [
          "1951136591077809905"
         ],
         "function": "NDArrayCompat.to_ndarray"
        },
        "-3547624826643548575": {
         "args": [
          "-1308169198235884699",
          "-4445990338267379393"
         ],
         "function": "NDArrayCompat.__add__"
        },
        "-3602106394535571159": {
         "args": [
          "-8924712875661442445"
         ],
         "function": "NDArrayCompat.to_ndarray"
        },
        "-3628695812954142248": {
         "args": [
          "-8990562706427671336"
         ],
         "function": "metadsl_core.either.Either[metadsl_core.integer.Integer, metadsl_core.vec.Vec[metadsl_core.integer.Integer]].left",
         "type_params": {
          "~T": {
           "type": "None"
          },
          "~U": {
           "params": {
            "~T": {
             "type": "None"
            }
           },
           "type": "<class 'metadsl_core.vec.Vec'>"
          }
         }
        },
        "-3644789626854629265": {
         "args": [
          "-835398202959862298",
          "-2062961300402010070"
         ],
         "function": "NDArrayCompat.__getitem__"
        },
        "-3938486709881475426": {
         "args": [
          "7188058630419213230",
          "8297471784638431252"
         ],
         "function": "metadsl_core.abstraction.Abstraction[metadsl_core.pair.Pair[metadsl_core.numpy.NDArray, metadsl_core.either.Either[metadsl_core.integer.Integer, metadsl_core.vec.Vec[metadsl_core.integer.Integer]]], metadsl_core.maybe.Maybe[metadsl_core.numpy.NDArray]].__call__",
         "type_params": {
          "~T": {
           "params": {
            "~T": {
             "type": "None"
            },
            "~U": {
             "params": {
              "~T": {
               "type": "None"
              },
              "~U": {
               "params": {
                "~T": {
                 "type": "None"
                }
               },
               "type": "<class 'metadsl_core.vec.Vec'>"
              }
             },
             "type": "<class 'metadsl_core.either.Either'>"
            }
           },
           "type": "<class 'metadsl_core.pair.Pair'>"
          },
          "~U": {
           "params": {
            "~T": {
             "type": "None"
            }
           },
           "type": "<class 'metadsl_core.maybe.Maybe'>"
          }
         }
        },
        "-3957586501688992548": {
         "args": [
          "-1569724923194123044"
         ],
         "function": "NDArrayCompat.to_ndarray"
        },
        "-398684574554688610": {
         "args": [
          "-2652651998234565930",
          "-990195451588134220"
         ],
         "function": "metadsl_core.abstraction.Abstraction[metadsl_core.pair.Pair[metadsl_core.numpy.NDArray, metadsl_core.either.Either[metadsl_core.integer.Integer, metadsl_core.vec.Vec[metadsl_core.integer.Integer]]], metadsl_core.numpy.NDArray].create",
         "type_params": {
          "~T": {
           "params": {
            "~T": {
             "type": "None"
            },
            "~U": {
             "params": {
              "~T": {
               "type": "None"
              },
              "~U": {
               "params": {
                "~T": {
                 "type": "None"
                }
               },
               "type": "<class 'metadsl_core.vec.Vec'>"
              }
             },
             "type": "<class 'metadsl_core.either.Either'>"
            }
           },
           "type": "<class 'metadsl_core.pair.Pair'>"
          },
          "~U": {
           "type": "None"
          }
         }
        },
        "-4032172086277843621": {
         "args": [
          "1971584677283386469",
          "8477142063027611003"
         ],
         "function": "metadsl_core.abstraction.Abstraction[metadsl_core.integer.Integer, metadsl_core.maybe.Maybe[metadsl_core.numpy.NDArray]].__call__",
         "type_params": {
          "~T": {
           "type": "None"
          },
          "~U": {
           "params": {
            "~T": {
             "type": "None"
            }
           },
           "type": "<class 'metadsl_core.maybe.Maybe'>"
          }
         }
        },
        "-4107915615322385158": {
         "args": [
          "-3216256787761552093",
          "5252012972780144397"
         ],
         "function": "NDArray.__getitem__"
        },
        "-4139213926396184803": {
         "args": [
          "-536003580891462585"
         ],
         "function": "NDArrayCompat.to_ndarray"
        },
        "-4161764246954012390": {
         "args": [
          "4527329981617562445",
          "-1308169198235884699"
         ],
         "function": "NDArrayCompat.__add__"
        },
        "-4175631801153021302": {
         "args": [
          "3214112961624286158",
          "-8497898649150175771"
         ],
         "function": "metadsl_core.maybe.Maybe[metadsl_core.pair.Pair[metadsl_core.numpy.NDArray, metadsl_core.either.Either[metadsl_core.integer.Integer, metadsl_core.vec.Vec[metadsl_core.integer.Integer]]]].map",
         "type_params": {
          "~T": {
           "params": {
            "~T": {
             "type": "None"
            },
            "~U": {
             "params": {
              "~T": {
               "type": "None"
              },
              "~U": {
               "params": {
                "~T": {
                 "type": "None"
                }
               },
               "type": "<class 'metadsl_core.vec.Vec'>"
              }
             },
             "type": "<class 'metadsl_core.either.Either'>"
            }
           },
           "type": "<class 'metadsl_core.pair.Pair'>"
          }
         }
        },
        "-4445990338267379393": {
         "args": [
          "-2062961300368451795"
         ],
         "function": "arange"
        },
        "-4555559504509008674": {
         "args": [
          "7248684319633093972",
          "-1308169198235884699"
         ],
         "function": "NDArrayCompat.__add__"
        },
        "-4560365066131255718": {
         "args": [
          "6212999931602779557"
         ],
         "function": "NDArrayCompat.to_ndarray"
        },
        "-4602873114490132049": {
         "args": [
          "-1825639675481737058",
          "-7175289740716332892"
         ],
         "function": "metadsl_core.maybe.Maybe[metadsl_core.integer.Integer].map",
         "type_params": {
          "~T": {
           "type": "None"
          }
         }
        },
        "-4624752315182808163": {
         "args": [
          "1648606417677201458",
          "7184966082362138670"
         ],
         "function": "metadsl_core.abstraction.Abstraction[metadsl_core.integer.Integer, metadsl_core.maybe.Maybe[metadsl_core.either.Either[metadsl_core.integer.Integer, metadsl_core.vec.Vec[metadsl_core.integer.Integer]]]].__call__",
         "type_params": {
          "~T": {
           "type": "None"
          },
          "~U": {
           "params": {
            "~T": {
             "params": {
              "~T": {
               "type": "None"
              },
              "~U": {
               "params": {
                "~T": {
                 "type": "None"
                }
               },
               "type": "<class 'metadsl_core.vec.Vec'>"
              }
             },
             "type": "<class 'metadsl_core.either.Either'>"
            }
           },
           "type": "<class 'metadsl_core.maybe.Maybe'>"
          }
         }
        },
        "-4639000439328824203": {
         "args": [
          "6401979815125174816",
          "-5799366330510475334",
          "-7477978994960775319"
         ],
         "function": "Maybe.match"
        },
        "-4664064062598619867": {
         "args": [
          "1172141488411232674",
          "1439211364568782376"
         ],
         "function": "metadsl_core.abstraction.Abstraction[metadsl_core.numpy.NDArray, metadsl_core.maybe.Maybe[metadsl_core.numpy.NDArray]].__add__",
         "type_params": {
          "~T": {
           "type": "None"
          },
          "~U": {
           "params": {
            "~T": {
             "type": "None"
            }
           },
           "type": "<class 'metadsl_core.maybe.Maybe'>"
          }
         }
        },
        "-4853504951318587629": {
         "args": [
          "4380945522060672891"
         ],
         "function": "NDArrayCompat.from_ndarray"
        },
        "-4855936670367088283": {
         "args": [
          "2573460414639214128",
          "2234576645629580033"
         ],
         "function": "metadsl_core.maybe.Maybe[metadsl_core.numpy.NDArray].__and__",
         "type_params": {
          "~T": {
           "type": "None"
          }
         }
        },
        "-489990974119709293": {
         "args": [
          "4868111966091899320"
         ],
         "function": "NDArrayCompat.to_ndarray"
        },
        "-4918430761008789601": {
         "args": [
          "2114229562290604220",
          "-1308169198235884699"
         ],
         "function": "NDArrayCompat.__add__"
        },
        "-4943563681457922389": {
         "args": [
          "-4175631801153021302"
         ],
         "function": "NDArrayCompat.from_ndarray"
        },
        "-5024623823782632329": {
         "args": [
          "-5631475467245446851"
         ],
         "function": "metadsl_core.maybe.Maybe[metadsl_core.numpy.NDArray].just",
         "type_params": {
          "~T": {
           "type": "None"
          }
         }
        },
        "-5046926574871989755": {
         "args": [
          "-802444088282729946"
         ],
         "function": "NDArrayCompat.from_ndarray"
        },
        "-5050760724141581212": {
         "args": [
          "8978106986500244405"
         ],
         "function": "metadsl_core.maybe.Maybe[metadsl_core.numpy.NDArray].just",
         "type_params": {
          "~T": {
           "type": "None"
          }
         }
        },
        "-5110737843845193322": {
         "args": [
          "-552000072291059055"
         ],
         "function": "NDArrayCompat.to_ndarray"
        },
        "-5181703610755471228": {
         "args": [
          "-6306696308265840314",
          "4328928153435006979"
         ],
         "function": "metadsl_core.maybe.Maybe[metadsl_core.numpy.NDArray].__and__",
         "type_params": {
          "~T": {
           "type": "None"
          }
         }
        },
        "-5200287576887986580": {
         "args": [
          "5797917120499402986",
          "-4445990338267379393"
         ],
         "function": "ndarray_add"
        },
        "-5243188063172693235": {
         "args": [
          "9163343564326968323"
         ],
         "function": "NDArrayCompat.from_ndarray"
        },
        "-5312105169486054623": {
         "args": [
          "6138330199496762554"
         ],
         "function": "unbox_idxs"
        },
        "-5340023998310075949": {
         "args": [
          "-4639000439328824203"
         ],
         "function": "NDArrayCompat.from_ndarray"
        },
        "-536003580891462585": {
         "args": [
          "1637469856755293584"
         ],
         "function": "NDArrayCompat.from_ndarray"
        },
        "-54189134728044296": {
         "args": [
          "-4624752315182808163",
          "7110260842223528479"
         ],
         "function": "metadsl_core.maybe.Maybe[metadsl_core.either.Either[metadsl_core.integer.Integer, metadsl_core.vec.Vec[metadsl_core.integer.Integer]]].__or__",
         "type_params": {
          "~T": {
           "params": {
            "~T": {
             "type": "None"
            },
            "~U": {
             "params": {
              "~T": {
               "type": "None"
              }
             },
             "type": "<class 'metadsl_core.vec.Vec'>"
            }
           },
           "type": "<class 'metadsl_core.either.Either'>"
          }
         }
        },
        "-5455555505360549256": {
         "args": [
          "-9090364587801604048",
          "-5799366330510475334",
          "-7477978994960775319"
         ],
         "function": "Maybe.match"
        },
        "-5460597511722792571": {
         "args": [
          "-8177303076573147965",
          "8477142063027611003"
         ],
         "function": "metadsl_core.abstraction.Abstraction[metadsl_core.integer.Integer, metadsl_core.maybe.Maybe[metadsl_core.numpy.NDArray]].__call__",
         "type_params": {
          "~T": {
           "type": "None"
          },
          "~U": {
           "params": {
            "~T": {
             "type": "None"
            }
           },
           "type": "<class 'metadsl_core.maybe.Maybe'>"
          }
         }
        },
        "-5506034725964225181": {
         "args": [
          "-1875854271945712492",
          "-398684574554688610"
         ],
         "function": "metadsl_core.abstraction.Abstraction[metadsl_core.numpy.NDArray, metadsl_core.maybe.Maybe[metadsl_core.numpy.NDArray]].__add__",
         "type_params": {
          "~T": {
           "type": "None"
          },
          "~U": {
           "params": {
            "~T": {
             "type": "None"
            }
           },
           "type": "<class 'metadsl_core.maybe.Maybe'>"
          }
         }
        },
        "-552000072291059055": {
         "args": [
          "-8605570651903629160"
         ],
         "function": "NDArrayCompat.from_ndarray"
        },
        "-5580591630019075469": {
         "args": [
          "2573460414639214128",
          "4328928153435006979"
         ],
         "function": "metadsl_core.maybe.Maybe[metadsl_core.numpy.NDArray].__and__",
         "type_params": {
          "~T": {
           "type": "None"
          }
         }
        },
        "-5631475467245446851": {
         "args": [
          "-7750133662280818009"
         ],
         "function": "metadsl_core.abstraction.Abstraction[metadsl_core.numpy.NDArray, metadsl_core.maybe.Maybe[metadsl_core.numpy.NDArray]].create_variable",
         "type_params": {
          "~T": {
           "type": "None"
          },
          "~U": {
           "params": {
            "~T": {
             "type": "None"
            }
           },
           "type": "<class 'metadsl_core.maybe.Maybe'>"
          }
         }
        },
        "-5725154971015528234": {
         "args": [
          "-6306696308265840314",
          "-2902201282976657465"
         ],
         "function": "metadsl_core.maybe.Maybe[metadsl_core.numpy.NDArray].__and__",
         "type_params": {
          "~T": {
           "type": "None"
          }
         }
        },
        "-5740158896823527825": {
         "args": [
          "5024181987038222354",
          "-6586937278371405921"
         ],
         "function": "metadsl_core.abstraction.Abstraction[metadsl_core.either.Either[metadsl_core.integer.Integer, metadsl_core.vec.Vec[metadsl_core.integer.Integer]], metadsl_core.maybe.Maybe[metadsl_core.either.Either[metadsl_core.integer.Integer, metadsl_core.vec.Vec[metadsl_core.integer.Integer]]]].__add__",
         "type_params": {
          "~T": {
           "params": {
            "~T": {
             "type": "None"
            },
            "~U": {
             "params": {
              "~T": {
               "type": "None"
              }
             },
             "type": "<class 'metadsl_core.vec.Vec'>"
            }
           },
           "type": "<class 'metadsl_core.either.Either'>"
          },
          "~U": {
           "params": {
            "~T": {
             "params": {
              "~T": {
               "type": "None"
              },
              "~U": {
               "params": {
                "~T": {
                 "type": "None"
                }
               },
               "type": "<class 'metadsl_core.vec.Vec'>"
              }
             },
             "type": "<class 'metadsl_core.either.Either'>"
            }
           },
           "type": "<class 'metadsl_core.maybe.Maybe'>"
          }
         }
        },
        "-5753031397901527004": {
         "args": [
          "-5997946929869746690",
          "-8497898649150175771"
         ],
         "function": "metadsl_core.maybe.Maybe[metadsl_core.pair.Pair[metadsl_core.numpy.NDArray, metadsl_core.either.Either[metadsl_core.integer.Integer, metadsl_core.vec.Vec[metadsl_core.integer.Integer]]]].map",
         "type_params": {
          "~T": {
           "params": {
            "~T": {
             "type": "None"
            },
            "~U": {
             "params": {
              "~T": {
               "type": "None"
              },
              "~U": {
               "params": {
                "~T": {
                 "type": "None"
                }
               },
               "type": "<class 'metadsl_core.vec.Vec'>"
              }
             },
             "type": "<class 'metadsl_core.either.Either'>"
            }
           },
           "type": "<class 'metadsl_core.pair.Pair'>"
          }
         }
        },
        "-5783354771919970542": {
         "args": [
          "1555094257984242149",
          "8477142063027611003"
         ],
         "function": "metadsl_core.abstraction.Abstraction[metadsl_core.integer.Integer, metadsl_core.maybe.Maybe[metadsl_core.numpy.NDArray]].__call__",
         "type_params": {
          "~T": {
           "type": "None"
          },
          "~U": {
           "params": {
            "~T": {
             "type": "None"
            }
           },
           "type": "<class 'metadsl_core.maybe.Maybe'>"
          }
         }
        },
        "-5797470991666339323": {
         "args": [
          "-3216256787761552093",
          "6138330199496762554"
         ],
         "function": "NDArray.__getitem__"
        },
        "-5799366330510475334": {
         "function": "metadsl_core.maybe.Maybe[metadsl_core.numpy.NDArray].nothing",
         "type_params": {
          "~T": {
           "type": "None"
          }
         }
        },
        "-5808411508091644526": {
         "args": [
          "6183214972308444700"
         ],
         "function": "metadsl_core.maybe.Maybe[metadsl_core.numpy.NDArray].just",
         "type_params": {
          "~T": {
           "type": "None"
          }
         }
        },
        "-582153245705112070": {
         "args": [
          "6213749376556673089",
          "-5799366330510475334",
          "-7477978994960775319"
         ],
         "function": "Maybe.match"
        },
        "-5923656131815051501": {
         "args": [
          "-8512928065898103158",
          "7184966082362138670"
         ],
         "function": "metadsl_core.abstraction.Abstraction[metadsl_core.integer.Integer, metadsl_core.maybe.Maybe[metadsl_core.either.Either[metadsl_core.integer.Integer, metadsl_core.vec.Vec[metadsl_core.integer.Integer]]]].__call__",
         "type_params": {
          "~T": {
           "type": "None"
          },
          "~U": {
           "params": {
            "~T": {
             "params": {
              "~T": {
               "type": "None"
              },
              "~U": {
               "params": {
                "~T": {
                 "type": "None"
                }
               },
               "type": "<class 'metadsl_core.vec.Vec'>"
              }
             },
             "type": "<class 'metadsl_core.either.Either'>"
            }
           },
           "type": "<class 'metadsl_core.maybe.Maybe'>"
          }
         }
        },
        "-595013536158689119": {
         "args": [
          "-5200287576887986580",
          "-2062961300402010070"
         ],
         "function": "ndarray_getitem"
        },
        "-5988540011959434746": {
         "args": [
          "901951854771457488",
          "9169436713849586569"
         ],
         "function": "NDArrayCompat.__add__"
        },
        "-5997946929869746690": {
         "args": [
          "2573460414639214128",
          "5968900565445465204"
         ],
         "function": "metadsl_core.maybe.Maybe[metadsl_core.numpy.NDArray].__and__",
         "type_params": {
          "~T": {
           "type": "None"
          }
         }
        },
        "-6015714051176105830": {
         "args": [
          "8968414072982726069",
          "-8497898649150175771"
         ],
         "function": "metadsl_core.maybe.Maybe[metadsl_core.pair.Pair[metadsl_core.numpy.NDArray, metadsl_core.either.Either[metadsl_core.integer.Integer, metadsl_core.vec.Vec[metadsl_core.integer.Integer]]]].map",
         "type_params": {
          "~T": {
           "params": {
            "~T": {
             "type": "None"
            },
            "~U": {
             "params": {
              "~T": {
               "type": "None"
              },
              "~U": {
               "params": {
                "~T": {
                 "type": "None"
                }
               },
               "type": "<class 'metadsl_core.vec.Vec'>"
              }
             },
             "type": "<class 'metadsl_core.either.Either'>"
            }
           },
           "type": "<class 'metadsl_core.pair.Pair'>"
          }
         }
        },
        "-6095152402170247054": {
         "args": [
          "-7266548315128234296"
         ],
         "function": "metadsl_core.conversion.Converter[metadsl_core.numpy.NDArray].convert",
         "type_params": {
          "~T": {
           "type": "None"
          }
         }
        },
        "-6133673341744032519": {
         "args": [
          "-8268772812427144376",
          "3458131972456969057"
         ],
         "function": "metadsl_core.maybe.Maybe[metadsl_core.numpy.NDArray].__and__",
         "type_params": {
          "~T": {
           "type": "None"
          }
         }
        },
        "-619774102914798480": {
         "args": [
          "-6306696308265840314",
          "-1139168476585419968"
         ],
         "function": "metadsl_core.maybe.Maybe[metadsl_core.numpy.NDArray].__and__",
         "type_params": {
          "~T": {
           "type": "None"
          }
         }
        },
        "-6211872709800531426": {
         "args": [
          "931419706256744064"
         ],
         "function": "arange_"
        },
        "-623983611469685975": {
         "args": [
          "-8848899656258759718"
         ],
         "function": "NDArrayCompat.from_ndarray"
        },
        "-6302861790931796041": {
         "args": [
          "5285543842702239874",
          "4328928153435006979"
         ],
         "function": "metadsl_core.maybe.Maybe[metadsl_core.numpy.NDArray].__and__",
         "type_params": {
          "~T": {
           "type": "None"
          }
         }
        },
        "-6306696308265840314": {
         "args": [
          "6704341838587835888"
         ],
         "function": "metadsl_core.conversion.Converter[metadsl_core.numpy.NDArray].convert",
         "type_params": {
          "~T": {
           "type": "None"
          }
         }
        },
        "-6354610349446788800": {
         "args": [
          "2453914356025722109"
         ],
         "function": "NDArrayCompat.from_ndarray"
        },
        "-6428469520816311307": {
         "args": [
          "-8918075753478658603",
          "1439211364568782376"
         ],
         "function": "metadsl_core.maybe.Maybe[metadsl_core.integer.Integer].map",
         "type_params": {
          "~T": {
           "type": "None"
          }
         }
        },
        "-6439115598738963142": {
         "args": [
          "-1607582274107717092"
         ],
         "function": "Abstraction.from_fn"
        },
        "-6444866083975501175": {
         "args": [
          "-7724374103708076898"
         ],
         "function": "NDArrayCompat.from_ndarray"
        },
        "-6518855418956150750": {
         "args": [
          "1473238391419129324"
         ],
         "function": "metadsl_core.abstraction.Abstraction[metadsl_core.numpy.NDArray, metadsl_core.maybe.Maybe[metadsl_core.numpy.NDArray]].create_variable",
         "type_params": {
          "~T": {
           "type": "None"
          },
          "~U": {
           "params": {
            "~T": {
             "type": "None"
            }
           },
           "type": "<class 'metadsl_core.maybe.Maybe'>"
          }
         }
        },
        "-6586937278371405921": {
         "args": [
          "-1607582674884452692"
         ],
         "function": "Abstraction.from_fn"
        },
        "-6601580080006815914": {
         "args": [
          "-9115157532034853779"
         ],
         "function": "NDArrayCompat.from_ndarray"
        },
        "-6611610019024373135": {
         "args": [
          "7507113132812865304",
          "-4445990338267379393"
         ],
         "function": "NDArrayCompat.__add__"
        },
        "-6699486375892394147": {
         "args": [
          "-1607582429670889692"
         ],
         "function": "Abstraction.from_fn"
        },
        "-6778975705719730535": {
         "args": [
          "8978106986500244405"
         ],
         "function": "NDArray.to_ndarray"
        },
        "-6833360097700140663": {
         "args": [
          "8297471784638431252"
         ],
         "function": "metadsl_core.pair.Pair[metadsl_core.numpy.NDArray, metadsl_core.either.Either[metadsl_core.integer.Integer, metadsl_core.vec.Vec[metadsl_core.integer.Integer]]].left",
         "type_params": {
          "~T": {
           "type": "None"
          },
          "~U": {
           "params": {
            "~T": {
             "type": "None"
            },
            "~U": {
             "params": {
              "~T": {
               "type": "None"
              }
             },
             "type": "<class 'metadsl_core.vec.Vec'>"
            }
           },
           "type": "<class 'metadsl_core.either.Either'>"
          }
         }
        },
        "-688369611984602878": {
         "args": [
          "901951854771457488",
          "-7468150654374214583"
         ],
         "function": "NDArrayCompat.__add__"
        },
        "-6910765976860442840": {
         "args": [
          "2219043011292674972"
         ],
         "function": "metadsl_core.conversion.Converter[metadsl_core.numpy.NDArray].convert",
         "type_params": {
          "~T": {
           "type": "None"
          }
         }
        },
        "-6911017947402962927": {
         "args": [
          "-2177582755256329069"
         ],
         "function": "NDArrayCompat.from_ndarray"
        },
        "-6939958628224613632": {
         "args": [
          "-2583547725721591347",
          "7184966082362138670"
         ],
         "function": "metadsl_core.abstraction.Abstraction[metadsl_core.integer.Integer, metadsl_core.maybe.Maybe[metadsl_core.either.Either[metadsl_core.integer.Integer, metadsl_core.vec.Vec[metadsl_core.integer.Integer]]]].__call__",
         "type_params": {
          "~T": {
           "type": "None"
          },
          "~U": {
           "params": {
            "~T": {
             "params": {
              "~T": {
               "type": "None"
              },
              "~U": {
               "params": {
                "~T": {
                 "type": "None"
                }
               },
               "type": "<class 'metadsl_core.vec.Vec'>"
              }
             },
             "type": "<class 'metadsl_core.either.Either'>"
            }
           },
           "type": "<class 'metadsl_core.maybe.Maybe'>"
          }
         }
        },
        "-7151142132499843596": {
         "args": [
          "5261341333028699595"
         ],
         "function": "metadsl_core.conversion.Converter[metadsl_core.numpy.NDArray].convert",
         "type_params": {
          "~T": {
           "type": "None"
          }
         }
        },
        "-7175289740716332892": {
         "args": [
          "-1607582228910133292"
         ],
         "function": "Abstraction.from_fn"
        },
        "-7202542479587578713": {
         "args": [
          "6794075058740415107",
          "3458131972456969057"
         ],
         "function": "metadsl_core.maybe.Maybe[metadsl_core.numpy.NDArray].__and__",
         "type_params": {
          "~T": {
           "type": "None"
          }
         }
        },
        "-7266548315128234296": {
         "args": [
          "901951854771457488",
          "-8895309082917183061"
         ],
         "function": "NDArrayCompat.__add__"
        },
        "-7310815994323534430": {
         "args": [
          "-7750133655943716659"
         ],
         "function": "metadsl_core.abstraction.Abstraction[metadsl_core.integer.Integer, metadsl_core.numpy.NDArray].create_variable",
         "type_params": {
          "~T": {
           "type": "None"
          },
          "~U": {
           "type": "None"
          }
         }
        },
        "-7324248834226409845": {
         "args": [
          "3128287608792530695",
          "8477142063027611003"
         ],
         "function": "metadsl_core.abstraction.Abstraction[metadsl_core.integer.Integer, metadsl_core.maybe.Maybe[metadsl_core.numpy.NDArray]].__call__",
         "type_params": {
          "~T": {
           "type": "None"
          },
          "~U": {
           "params": {
            "~T": {
             "type": "None"
            }
           },
           "type": "<class 'metadsl_core.maybe.Maybe'>"
          }
         }
        },
        "-7324706907540259154": {
         "args": [
          "-6444866083975501175"
         ],
         "function": "NDArrayCompat.to_ndarray"
        },
        "-7369005454185949690": {
         "args": [
          "-2788126439818582918"
         ],
         "function": "NDArrayCompat.to_ndarray"
        },
        "-7435878749370100561": {
         "args": [
          "-6306696308265840314",
          "5598890055333034651"
         ],
         "function": "metadsl_core.maybe.Maybe[metadsl_core.numpy.NDArray].__and__",
         "type_params": {
          "~T": {
           "type": "None"
          }
         }
        },
        "-7468150654374214583": {
         "args": [
          "2613358963466691751"
         ],
         "function": "NDArrayCompat.from_ndarray"
        },
        "-7477978994960775319": {
         "args": [
          "-6699486375892394147",
          "-1969797189182383914"
         ],
         "function": "metadsl_core.abstraction.Abstraction[metadsl_core.numpy.NDArray, metadsl_core.maybe.Maybe[metadsl_core.numpy.NDArray]].__add__",
         "type_params": {
          "~T": {
           "type": "None"
          },
          "~U": {
           "params": {
            "~T": {
             "type": "None"
            }
           },
           "type": "<class 'metadsl_core.maybe.Maybe'>"
          }
         }
        },
        "-7511051066897033045": {
         "args": [
          "5102478036410264112",
          "1439211364568782376"
         ],
         "function": "metadsl_core.abstraction.Abstraction[metadsl_core.numpy.NDArray, metadsl_core.maybe.Maybe[metadsl_core.numpy.NDArray]].__add__",
         "type_params": {
          "~T": {
           "type": "None"
          },
          "~U": {
           "params": {
            "~T": {
             "type": "None"
            }
           },
           "type": "<class 'metadsl_core.maybe.Maybe'>"
          }
         }
        },
        "-7539462300336234134": {
         "args": [
          "-1686062689311642513",
          "-6778975705719730535"
         ],
         "function": "ndarray_add"
        },
        "-7724374103708076898": {
         "args": [
          "-923260063906323973",
          "-5799366330510475334",
          "-5506034725964225181"
         ],
         "function": "Maybe.match"
        },
        "-7750133655943716659": {
         "repr": "Variable(4541621304)",
         "type": "<class 'metadsl_core.abstraction.Variable'>"
        },
        "-7750133662280818009": {
         "repr": "Variable(4541454936)",
         "type": "<class 'metadsl_core.abstraction.Variable'>"
        },
        "-7750133747417079159": {
         "repr": "Variable(4541138424)",
         "type": "<class 'metadsl_core.abstraction.Variable'>"
        },
        "-7750133753589636709": {
         "repr": "Variable(4541227416)",
         "type": "<class 'metadsl_core.abstraction.Variable'>"
        },
        "-7774494899441930141": {
         "args": [
          "7137461032966912186",
          "-5312105169486054623"
         ],
         "function": "ndarray_getitem"
        },
        "-7833040348391141653": {
         "args": [
          "-3644789626854629265"
         ],
         "function": "NDArrayCompat.to_ndarray"
        },
        "-7875425312996854524": {
         "args": [
          "5629210584540794992",
          "-5799366330510475334",
          "7188058630419213230"
         ],
         "function": "Maybe.match"
        },
        "-7989374007794508787": {
         "args": [
          "-8507214177937482656",
          "-5312105169486054623"
         ],
         "function": "ndarray_getitem"
        },
        "-802444088282729946": {
         "args": [
          "-6133673341744032519",
          "-8497898649150175771"
         ],
         "function": "metadsl_core.maybe.Maybe[metadsl_core.pair.Pair[metadsl_core.numpy.NDArray, metadsl_core.either.Either[metadsl_core.integer.Integer, metadsl_core.vec.Vec[metadsl_core.integer.Integer]]]].map",
         "type_params": {
          "~T": {
           "params": {
            "~T": {
             "type": "None"
            },
            "~U": {
             "params": {
              "~T": {
               "type": "None"
              },
              "~U": {
               "params": {
                "~T": {
                 "type": "None"
                }
               },
               "type": "<class 'metadsl_core.vec.Vec'>"
              }
             },
             "type": "<class 'metadsl_core.either.Either'>"
            }
           },
           "type": "<class 'metadsl_core.pair.Pair'>"
          }
         }
        },
        "-8080851809291337492": {
         "args": [
          "1588169093597100508",
          "-5312105169486054623"
         ],
         "function": "ndarray_getitem"
        },
        "-8177303076573147965": {
         "args": [
          "-7310815994323534430",
          "3432288373988719119"
         ],
         "function": "Abstraction.create"
        },
        "-8177804673271445063": {
         "args": [
          "5797917120499402986",
          "5797917645290202586"
         ],
         "function": "ndarray_add"
        },
        "-8190210044860058729": {
         "args": [
          "-6939958628224613632",
          "7110260842223528479"
         ],
         "function": "metadsl_core.maybe.Maybe[metadsl_core.either.Either[metadsl_core.integer.Integer, metadsl_core.vec.Vec[metadsl_core.integer.Integer]]].__or__",
         "type_params": {
          "~T": {
           "params": {
            "~T": {
             "type": "None"
            },
            "~U": {
             "params": {
              "~T": {
               "type": "None"
              }
             },
             "type": "<class 'metadsl_core.vec.Vec'>"
            }
           },
           "type": "<class 'metadsl_core.either.Either'>"
          }
         }
        },
        "-8203311941872801726": {
         "args": [
          "1570745746778997190"
         ],
         "function": "NDArrayCompat.to_ndarray"
        },
        "-8268772812427144376": {
         "args": [
          "-3547624826643548575"
         ],
         "function": "metadsl_core.conversion.Converter[metadsl_core.numpy.NDArray].convert",
         "type_params": {
          "~T": {
           "type": "None"
          }
         }
        },
        "-8286627865775262960": {
         "args": [
          "6138330199496762554"
         ],
         "function": "Maybe.just"
        },
        "-835398202959862298": {
         "args": [
          "-4445990338267379393",
          "-4445990338267379393"
         ],
         "function": "NDArrayCompat.__add__"
        },
        "-8394687580557921366": {
         "args": [
          "-835398202959862298"
         ],
         "function": "metadsl_core.conversion.Converter[metadsl_core.numpy.NDArray].convert",
         "type_params": {
          "~T": {
           "type": "None"
          }
         }
        },
        "-841062474213216563": {
         "args": [
          "901951854771457488",
          "-2089317743506400581"
         ],
         "function": "NDArrayCompat.__add__"
        },
        "-84181335953093332": {
         "args": [
          "-3024461076239560059",
          "-5799366330510475334",
          "-7477978994960775319"
         ],
         "function": "Maybe.match"
        },
        "-845212762024293811": {
         "args": [
          "-6095152402170247054",
          "4328928153435006979"
         ],
         "function": "metadsl_core.maybe.Maybe[metadsl_core.numpy.NDArray].__and__",
         "type_params": {
          "~T": {
           "type": "None"
          }
         }
        },
        "-8497898649150175771": {
         "args": [
          "-3214405503694481696"
         ],
         "function": "metadsl_core.abstraction.Abstraction[metadsl_core.pair.Pair[metadsl_core.numpy.NDArray, metadsl_core.either.Either[metadsl_core.integer.Integer, metadsl_core.vec.Vec[metadsl_core.integer.Integer]]], metadsl_core.numpy.NDArray].from_fn",
         "type_params": {
          "~T": {
           "params": {
            "~T": {
             "type": "None"
            },
            "~U": {
             "params": {
              "~T": {
               "type": "None"
              },
              "~U": {
               "params": {
                "~T": {
                 "type": "None"
                }
               },
               "type": "<class 'metadsl_core.vec.Vec'>"
              }
             },
             "type": "<class 'metadsl_core.either.Either'>"
            }
           },
           "type": "<class 'metadsl_core.pair.Pair'>"
          },
          "~U": {
           "type": "None"
          }
         }
        },
        "-8504930468684409565": {
         "args": [
          "-1825639675481737058",
          "5921660491540268460",
          "-1515850010960577075"
         ],
         "function": "metadsl_core.maybe.Maybe[metadsl_core.integer.Integer].match",
         "type_params": {
          "~T": {
           "type": "None"
          }
         }
        },
        "-8507214177937482656": {
         "args": [
          "-4445990338267379393",
          "-6778975705719730535"
         ],
         "function": "ndarray_add"
        },
        "-8512928065898103158": {
         "args": [
          "5024181987038222354",
          "-2709977355845321892"
         ],
         "function": "metadsl_core.abstraction.Abstraction[metadsl_core.either.Either[metadsl_core.integer.Integer, metadsl_core.vec.Vec[metadsl_core.integer.Integer]], metadsl_core.maybe.Maybe[metadsl_core.either.Either[metadsl_core.integer.Integer, metadsl_core.vec.Vec[metadsl_core.integer.Integer]]]].__add__",
         "type_params": {
          "~T": {
           "params": {
            "~T": {
             "type": "None"
            },
            "~U": {
             "params": {
              "~T": {
               "type": "None"
              }
             },
             "type": "<class 'metadsl_core.vec.Vec'>"
            }
           },
           "type": "<class 'metadsl_core.either.Either'>"
          },
          "~U": {
           "params": {
            "~T": {
             "params": {
              "~T": {
               "type": "None"
              },
              "~U": {
               "params": {
                "~T": {
                 "type": "None"
                }
               },
               "type": "<class 'metadsl_core.vec.Vec'>"
              }
             },
             "type": "<class 'metadsl_core.either.Either'>"
            }
           },
           "type": "<class 'metadsl_core.maybe.Maybe'>"
          }
         }
        },
        "-8605570651903629160": {
         "args": [
          "-619774102914798480",
          "-5799366330510475334",
          "-7477978994960775319"
         ],
         "function": "Maybe.match"
        },
        "-8670931767362243241": {
         "args": [
          "8477142063027611003"
         ],
         "function": "Maybe.just"
        },
        "-8675831871981970900": {
         "args": [
          "-5725154971015528234",
          "-5799366330510475334",
          "-7477978994960775319"
         ],
         "function": "Maybe.match"
        },
        "-8847698459365060321": {
         "args": [
          "-4855936670367088283",
          "-8497898649150175771"
         ],
         "function": "metadsl_core.maybe.Maybe[metadsl_core.pair.Pair[metadsl_core.numpy.NDArray, metadsl_core.either.Either[metadsl_core.integer.Integer, metadsl_core.vec.Vec[metadsl_core.integer.Integer]]]].map",
         "type_params": {
          "~T": {
           "params": {
            "~T": {
             "type": "None"
            },
            "~U": {
             "params": {
              "~T": {
               "type": "None"
              },
              "~U": {
               "params": {
                "~T": {
                 "type": "None"
                }
               },
               "type": "<class 'metadsl_core.vec.Vec'>"
              }
             },
             "type": "<class 'metadsl_core.either.Either'>"
            }
           },
           "type": "<class 'metadsl_core.pair.Pair'>"
          }
         }
        },
        "-8848899656258759718": {
         "args": [
          "-4107915615322385158"
         ],
         "function": "metadsl_core.maybe.Maybe[metadsl_core.numpy.NDArray].just",
         "type_params": {
          "~T": {
           "type": "None"
          }
         }
        },
        "-8895309082917183061": {
         "args": [
          "7206904151723123625"
         ],
         "function": "NDArrayCompat.from_ndarray"
        },
        "-8918075753478658603": {
         "args": [
          "-2062961300368451795"
         ],
         "function": "metadsl_core.conversion.Converter[metadsl_core.integer.Integer].convert",
         "type_params": {
          "~T": {
           "type": "None"
          }
         }
        },
        "-8924712875661442445": {
         "args": [
          "2176396490693157233"
         ],
         "function": "NDArrayCompat.from_ndarray"
        },
        "-8944468086341680881": {
         "args": [
          "-8670931767362243241",
          "-5799366330510475334",
          "6353920595340994400"
         ],
         "function": "metadsl_core.maybe.Maybe[metadsl_core.integer.Integer].match",
         "type_params": {
          "~T": {
           "type": "None"
          }
         }
        },
        "-8990562706427671336": {
         "args": [
          "1473238385437096174"
         ],
         "function": "metadsl_core.abstraction.Abstraction[metadsl_core.integer.Integer, metadsl_core.either.Either[metadsl_core.integer.Integer, metadsl_core.vec.Vec[metadsl_core.integer.Integer]]].create_variable",
         "type_params": {
          "~T": {
           "type": "None"
          },
          "~U": {
           "params": {
            "~T": {
             "type": "None"
            },
            "~U": {
             "params": {
              "~T": {
               "type": "None"
              }
             },
             "type": "<class 'metadsl_core.vec.Vec'>"
            }
           },
           "type": "<class 'metadsl_core.either.Either'>"
          }
         }
        },
        "-9090364587801604048": {
         "args": [
          "-6306696308265840314",
          "-8190210044860058729"
         ],
         "function": "metadsl_core.maybe.Maybe[metadsl_core.numpy.NDArray].__and__",
         "type_params": {
          "~T": {
           "type": "None"
          }
         }
        },
        "-9115157532034853779": {
         "args": [
          "-6302861790931796041",
          "-5799366330510475334",
          "-7477978994960775319"
         ],
         "function": "Maybe.match"
        },
        "-9128762291147863093": {
         "args": [
          "1588169093597100508",
          "-2062961300402010070"
         ],
         "function": "ndarray_getitem"
        },
        "-9177145750500466553": {
         "args": [
          "-5046926574871989755"
         ],
         "function": "NDArrayCompat.to_ndarray"
        },
        "-923260063906323973": {
         "args": [
          "-6306696308265840314",
          "-8286627865775262960"
         ],
         "function": "metadsl_core.maybe.Maybe[metadsl_core.numpy.NDArray].__and__",
         "type_params": {
          "~T": {
           "type": "None"
          }
         }
        },
        "-990195451588134220": {
         "args": [
          "4201760305467767112",
          "-1835028791362583836"
         ],
         "function": "NDArray.__getitem__"
        },
        "1103515497677217915": {
         "args": [
          "-84181335953093332"
         ],
         "function": "NDArrayCompat.from_ndarray"
        },
        "1114933272309088961": {
         "args": [
          "7926135943629605543"
         ],
         "function": "NDArrayCompat.from_ndarray"
        },
        "1121964476556409066": {
         "args": [
          "-5243188063172693235"
         ],
         "function": "NDArrayCompat.to_ndarray"
        },
        "1133973283078790881": {
         "args": [
          "8534248861081840471"
         ],
         "function": "NDArrayCompat.from_ndarray"
        },
        "1172141488411232674": {
         "args": [
          "-1607582507630010092"
         ],
         "function": "Abstraction.from_fn"
        },
        "1258083354409262386": {
         "args": [
          "-623983611469685975"
         ],
         "function": "NDArrayCompat.to_ndarray"
        },
        "1316979973259373120": {
         "args": [
          "-8675831871981970900"
         ],
         "function": "NDArrayCompat.from_ndarray"
        },
        "1393186743476143763": {
         "args": [
          "9194899104411129050",
          "-5799366330510475334",
          "-7477978994960775319"
         ],
         "function": "Maybe.match"
        },
        "1439211364568782376": {
         "args": [
          "8527765221302761412"
         ],
         "function": "Abstraction.from_fn"
        },
        "1446255895134801527": {
         "args": [
          "1506777295826759292"
         ],
         "function": "NDArrayCompat.to_ndarray"
        },
        "1473238351005223499": {
         "repr": "Variable(4542065296)",
         "type": "<class 'metadsl_core.abstraction.Variable'>"
        },
        "1473238385366732049": {
         "repr": "Variable(4541557616)",
         "type": "<class 'metadsl_core.abstraction.Variable'>"
        },
        "1473238385437096174": {
         "repr": "Variable(4541558624)",
         "type": "<class 'metadsl_core.abstraction.Variable'>"
        },
        "1473238391419129324": {
         "repr": "Variable(4541728192)",
         "type": "<class 'metadsl_core.abstraction.Variable'>"
        },
        "1502454975205383795": {
         "args": [
          "-6306696308265840314",
          "-1122689718890182828"
         ],
         "function": "metadsl_core.maybe.Maybe[metadsl_core.numpy.NDArray].__and__",
         "type_params": {
          "~T": {
           "type": "None"
          }
         }
        },
        "1506777295826759292": {
         "args": [
          "-1890841807323858431"
         ],
         "function": "NDArrayCompat.from_ndarray"
        },
        "1555094257984242149": {
         "args": [
          "931419706256744064",
          "-2191279762611742384"
         ],
         "function": "Abstraction.create"
        },
        "1570745746778997190": {
         "args": [
          "-5753031397901527004"
         ],
         "function": "NDArrayCompat.from_ndarray"
        },
        "1588169093597100508": {
         "args": [
          "-4445990338267379393",
          "-4445990338267379393"
         ],
         "function": "ndarray_add"
        },
        "1604448709696662245": {
         "args": [
          "-2963313882322249380"
         ],
         "function": "NDArrayCompat.to_ndarray"
        },
        "1619199742787553039": {
         "args": [
          "-1308169198235884699",
          "-1308169198235884699"
         ],
         "function": "NDArrayCompat.__add__"
        },
        "1637469856755293584": {
         "args": [
          "7522700098114692017",
          "-5799366330510475334",
          "-7477978994960775319"
         ],
         "function": "Maybe.match"
        },
        "1648606417677201458": {
         "args": [
          "5335607515346773011",
          "-6586937278371405921"
         ],
         "function": "metadsl_core.abstraction.Abstraction[metadsl_core.either.Either[metadsl_core.integer.Integer, metadsl_core.vec.Vec[metadsl_core.integer.Integer]], metadsl_core.maybe.Maybe[metadsl_core.either.Either[metadsl_core.integer.Integer, metadsl_core.vec.Vec[metadsl_core.integer.Integer]]]].__add__",
         "type_params": {
          "~T": {
           "params": {
            "~T": {
             "type": "None"
            },
            "~U": {
             "params": {
              "~T": {
               "type": "None"
              }
             },
             "type": "<class 'metadsl_core.vec.Vec'>"
            }
           },
           "type": "<class 'metadsl_core.either.Either'>"
          },
          "~U": {
           "params": {
            "~T": {
             "params": {
              "~T": {
               "type": "None"
              },
              "~U": {
               "params": {
                "~T": {
                 "type": "None"
                }
               },
               "type": "<class 'metadsl_core.vec.Vec'>"
              }
             },
             "type": "<class 'metadsl_core.either.Either'>"
            }
           },
           "type": "<class 'metadsl_core.maybe.Maybe'>"
          }
         }
        },
        "1707285698685903206": {
         "args": [
          "6119332537948483927"
         ],
         "function": "NDArrayCompat.from_ndarray"
        },
        "1783080233116463079": {
         "args": [
          "-1875854271945712492",
          "-1969797189182383914"
         ],
         "function": "metadsl_core.abstraction.Abstraction[metadsl_core.numpy.NDArray, metadsl_core.maybe.Maybe[metadsl_core.numpy.NDArray]].__add__",
         "type_params": {
          "~T": {
           "type": "None"
          },
          "~U": {
           "params": {
            "~T": {
             "type": "None"
            }
           },
           "type": "<class 'metadsl_core.maybe.Maybe'>"
          }
         }
        },
        "1783424724260451122": {
         "args": [
          "3162753530455697139"
         ],
         "function": "NDArrayCompat.from_ndarray"
        },
        "1808593692020796655": {
         "args": [
          "-7750133753589636709"
         ],
         "function": "metadsl_core.abstraction.Abstraction[metadsl_core.numpy.NDArray, metadsl_core.maybe.Maybe[metadsl_core.numpy.NDArray]].create_variable",
         "type_params": {
          "~T": {
           "type": "None"
          },
          "~U": {
           "params": {
            "~T": {
             "type": "None"
            }
           },
           "type": "<class 'metadsl_core.maybe.Maybe'>"
          }
         }
        },
        "1814314549131140756": {
         "args": [
          "-6518855418956150750"
         ],
         "function": "metadsl_core.maybe.Maybe[metadsl_core.numpy.NDArray].just",
         "type_params": {
          "~T": {
           "type": "None"
          }
         }
        },
        "1858756597262811621": {
         "args": [
          "5926688084004721991"
         ],
         "function": "NDArrayCompat.from_ndarray"
        },
        "1928989510382894430": {
         "args": [
          "5586118657262954705",
          "-5799366330510475334",
          "7188058630419213230"
         ],
         "function": "Maybe.match"
        },
        "1951136591077809905": {
         "args": [
          "-6015714051176105830"
         ],
         "function": "NDArrayCompat.from_ndarray"
        },
        "1971584677283386469": {
         "args": [
          "8529567687718499854",
          "1439211364568782376"
         ],
         "function": "metadsl_core.abstraction.Abstraction[metadsl_core.numpy.NDArray, metadsl_core.maybe.Maybe[metadsl_core.numpy.NDArray]].__add__",
         "type_params": {
          "~T": {
           "type": "None"
          },
          "~U": {
           "params": {
            "~T": {
             "type": "None"
            }
           },
           "type": "<class 'metadsl_core.maybe.Maybe'>"
          }
         }
        },
        "1998046598362843885": {
         "args": [
          "404081867552064956"
         ],
         "function": "NDArrayCompat.to_ndarray"
        },
        "2007766142401315863": {
         "args": [
          "5797916706957532586",
          "-2062961300402010070"
         ],
         "function": "ndarray_getitem"
        },
        "2114229562290604220": {
         "args": [
          "-8944468086341680881"
         ],
         "function": "NDArrayCompat.from_ndarray"
        },
        "2176396490693157233": {
         "args": [
          "5252368462417229828",
          "-5799366330510475334",
          "7188058630419213230"
         ],
         "function": "Maybe.match"
        },
        "2210254085416347127": {
         "args": [
          "4495956556882762840",
          "4328928153435006979"
         ],
         "function": "metadsl_core.maybe.Maybe[metadsl_core.numpy.NDArray].__and__",
         "type_params": {
          "~T": {
           "type": "None"
          }
         }
        },
        "2219043011292674972": {
         "args": [
          "1858756597262811621",
          "-1308169198235884699"
         ],
         "function": "NDArrayCompat.__add__"
        },
        "2234576645629580033": {
         "args": [
          "-4602873114490132049",
          "6982607551533396118"
         ],
         "function": "metadsl_core.maybe.Maybe[metadsl_core.either.Either[metadsl_core.integer.Integer, metadsl_core.vec.Vec[metadsl_core.integer.Integer]]].__or__",
         "type_params": {
          "~T": {
           "params": {
            "~T": {
             "type": "None"
            },
            "~U": {
             "params": {
              "~T": {
               "type": "None"
              }
             },
             "type": "<class 'metadsl_core.vec.Vec'>"
            }
           },
           "type": "<class 'metadsl_core.either.Either'>"
          }
         }
        },
        "2245798353483282457": {
         "args": [
          "-8177804673271445063",
          "-2062961300402010070"
         ],
         "function": "ndarray_getitem"
        },
        "2281173994021545228": {
         "args": [
          "-1607582431463551092"
         ],
         "function": "Abstraction.from_fn"
        },
        "229943346460482358": {
         "args": [
          "4143265416574776555"
         ],
         "function": "NDArrayCompat.to_ndarray"
        },
        "2301691637976199942": {
         "args": [
          "2573460414639214128",
          "3458131972456969057"
         ],
         "function": "metadsl_core.maybe.Maybe[metadsl_core.numpy.NDArray].__and__",
         "type_params": {
          "~T": {
           "type": "None"
          }
         }
        },
        "2453914356025722109": {
         "args": [
          "2210254085416347127",
          "-5799366330510475334",
          "-7477978994960775319"
         ],
         "function": "Maybe.match"
        },
        "2573460414639214128": {
         "args": [
          "1619199742787553039"
         ],
         "function": "metadsl_core.conversion.Converter[metadsl_core.numpy.NDArray].convert",
         "type_params": {
          "~T": {
           "type": "None"
          }
         }
        },
        "260030663300787620": {
         "args": [
          "-1308169198235884699",
          "7507113132812865304"
         ],
         "function": "NDArrayCompat.__add__"
        },
        "2613358963466691751": {
         "args": [
          "5962540824467823416",
          "8477142063027611003"
         ],
         "function": "metadsl_core.abstraction.Abstraction[metadsl_core.integer.Integer, metadsl_core.maybe.Maybe[metadsl_core.numpy.NDArray]].__call__",
         "type_params": {
          "~T": {
           "type": "None"
          },
          "~U": {
           "params": {
            "~T": {
             "type": "None"
            }
           },
           "type": "<class 'metadsl_core.maybe.Maybe'>"
          }
         }
        },
        "2653774393602673432": {
         "args": [
          "-2062961300402010070"
         ],
         "function": "metadsl_core.conversion.Converter[metadsl_core.integer.Integer].convert",
         "type_params": {
          "~T": {
           "type": "None"
          }
         }
        },
        "2797020513921284672": {
         "args": [
          "1316979973259373120"
         ],
         "function": "NDArrayCompat.to_ndarray"
        },
        "2838552804205211767": {
         "args": [
          "7250563427102780466"
         ],
         "function": "NDArrayCompat.to_ndarray"
        },
        "2906371502708252973": {
         "args": [
          "7184966082362138670"
         ],
         "function": "unbox_integer"
        },
        "2961056522713775846": {
         "args": [
          "-6910765976860442840",
          "4328928153435006979"
         ],
         "function": "metadsl_core.maybe.Maybe[metadsl_core.numpy.NDArray].__and__",
         "type_params": {
          "~T": {
           "type": "None"
          }
         }
        },
        "3117419148563638277": {
         "args": [
          "7723002838021551761",
          "-1308169198235884699"
         ],
         "function": "NDArrayCompat.__add__"
        },
        "3128287608792530695": {
         "args": [
          "-1166254989436450066",
          "1439211364568782376"
         ],
         "function": "metadsl_core.abstraction.Abstraction[metadsl_core.numpy.NDArray, metadsl_core.maybe.Maybe[metadsl_core.numpy.NDArray]].__add__",
         "type_params": {
          "~T": {
           "type": "None"
          },
          "~U": {
           "params": {
            "~T": {
             "type": "None"
            }
           },
           "type": "<class 'metadsl_core.maybe.Maybe'>"
          }
         }
        },
        "3162753530455697139": {
         "args": [
          "4335277966739166360",
          "-5799366330510475334",
          "-7477978994960775319"
         ],
         "function": "Maybe.match"
        },
        "3214112961624286158": {
         "args": [
          "6575150823205688004",
          "3458131972456969057"
         ],
         "function": "metadsl_core.maybe.Maybe[metadsl_core.numpy.NDArray].__and__",
         "type_params": {
          "~T": {
           "type": "None"
          }
         }
        },
        "3243639618497304043": {
         "args": [
          "947082553317848996",
          "8477142063027611003"
         ],
         "function": "metadsl_core.abstraction.Abstraction[metadsl_core.integer.Integer, metadsl_core.maybe.Maybe[metadsl_core.numpy.NDArray]].__call__",
         "type_params": {
          "~T": {
           "type": "None"
          },
          "~U": {
           "params": {
            "~T": {
             "type": "None"
            }
           },
           "type": "<class 'metadsl_core.maybe.Maybe'>"
          }
         }
        },
        "3325591963353805053": {
         "args": [
          "7018973077017144136"
         ],
         "function": "NDArrayCompat.to_ndarray"
        },
        "3401219268512331606": {
         "args": [
          "6402874878549973570"
         ],
         "function": "NDArrayCompat.to_ndarray"
        },
        "3432288373988719119": {
         "args": [
          "-164719936505841084"
         ],
         "function": "metadsl_core.maybe.Maybe[metadsl_core.numpy.NDArray].just",
         "type_params": {
          "~T": {
           "type": "None"
          }
         }
        },
        "3458131972456969057": {
         "args": [
          "-2062961300402010070"
         ],
         "function": "metadsl_core.conversion.Converter[metadsl_core.either.Either[metadsl_core.integer.Integer, metadsl_core.vec.Vec[metadsl_core.integer.Integer]]].convert",
         "type_params": {
          "~T": {
           "params": {
            "~T": {
             "type": "None"
            },
            "~U": {
             "params": {
              "~T": {
               "type": "None"
              }
             },
             "type": "<class 'metadsl_core.vec.Vec'>"
            }
           },
           "type": "<class 'metadsl_core.either.Either'>"
          }
         }
        },
        "3531862033796360837": {
         "args": [
          "2961056522713775846",
          "-5799366330510475334",
          "-7477978994960775319"
         ],
         "function": "Maybe.match"
        },
        "3642302327845014786": {
         "args": [
          "-5797470991666339323"
         ],
         "function": "NDArray.to_ndarray"
        },
        "3656583453314743723": {
         "args": [
          "3117419148563638277"
         ],
         "function": "metadsl_core.conversion.Converter[metadsl_core.numpy.NDArray].convert",
         "type_params": {
          "~T": {
           "type": "None"
          }
         }
        },
        "3957110674231360067": {
         "args": [
          "-7511051066897033045",
          "8477142063027611003"
         ],
         "function": "metadsl_core.abstraction.Abstraction[metadsl_core.integer.Integer, metadsl_core.maybe.Maybe[metadsl_core.numpy.NDArray]].__call__",
         "type_params": {
          "~T": {
           "type": "None"
          },
          "~U": {
           "params": {
            "~T": {
             "type": "None"
            }
           },
           "type": "<class 'metadsl_core.maybe.Maybe'>"
          }
         }
        },
        "3991979255121681613": {
         "args": [
          "4144809939029992796"
         ],
         "function": "NDArrayCompat.from_ndarray"
        },
        "404081867552064956": {
         "args": [
          "7232288019064300109"
         ],
         "function": "NDArrayCompat.from_ndarray"
        },
        "4143265416574776555": {
         "args": [
          "8206801104135139972"
         ],
         "function": "NDArrayCompat.from_ndarray"
        },
        "4144809939029992796": {
         "args": [
          "-845212762024293811",
          "-5799366330510475334",
          "-7477978994960775319"
         ],
         "function": "Maybe.match"
        },
        "4185942570325936474": {
         "args": [
          "-1607582775368753292"
         ],
         "function": "Abstraction.from_fn"
        },
        "4201760305467767112": {
         "args": [
          "-2652651998234565930"
         ],
         "function": "metadsl_core.pair.Pair[metadsl_core.numpy.NDArray, metadsl_core.either.Either[metadsl_core.integer.Integer, metadsl_core.vec.Vec[metadsl_core.integer.Integer]]].left",
         "type_params": {
          "~T": {
           "type": "None"
          },
          "~U": {
           "params": {
            "~T": {
             "type": "None"
            },
            "~U": {
             "params": {
              "~T": {
               "type": "None"
              }
             },
             "type": "<class 'metadsl_core.vec.Vec'>"
            }
           },
           "type": "<class 'metadsl_core.either.Either'>"
          }
         }
        },
        "4326243548356845196": {
         "args": [
          "-3030593872564034905"
         ],
         "function": "NDArrayCompat.to_ndarray"
        },
        "4328928153435006979": {
         "args": [
          "-3314056357467995475",
          "7110260842223528479"
         ],
         "function": "metadsl_core.maybe.Maybe[metadsl_core.either.Either[metadsl_core.integer.Integer, metadsl_core.vec.Vec[metadsl_core.integer.Integer]]].__or__",
         "type_params": {
          "~T": {
           "params": {
            "~T": {
             "type": "None"
            },
            "~U": {
             "params": {
              "~T": {
               "type": "None"
              }
             },
             "type": "<class 'metadsl_core.vec.Vec'>"
            }
           },
           "type": "<class 'metadsl_core.either.Either'>"
          }
         }
        },
        "4335277966739166360": {
         "args": [
          "7841508609295140449",
          "4328928153435006979"
         ],
         "function": "metadsl_core.maybe.Maybe[metadsl_core.numpy.NDArray].__and__",
         "type_params": {
          "~T": {
           "type": "None"
          }
         }
        },
        "4380945522060672891": {
         "args": [
          "-5580591630019075469",
          "-5799366330510475334",
          "-7477978994960775319"
         ],
         "function": "Maybe.match"
        },
        "4495956556882762840": {
         "args": [
          "5640951755693734811"
         ],
         "function": "metadsl_core.conversion.Converter[metadsl_core.numpy.NDArray].convert",
         "type_params": {
          "~T": {
           "type": "None"
          }
         }
        },
        "4515503403958692495": {
         "args": [
          "7206624984666222608"
         ],
         "function": "NDArrayCompat.to_ndarray"
        },
        "4527329981617562445": {
         "args": [
          "3957110674231360067"
         ],
         "function": "NDArrayCompat.from_ndarray"
        },
        "4633076588131622655": {
         "args": [
          "-1607582240506141092"
         ],
         "function": "Abstraction.from_fn"
        },
        "4868111966091899320": {
         "args": [
          "-8847698459365060321"
         ],
         "function": "NDArrayCompat.from_ndarray"
        },
        "4883582262400259958": {
         "args": [
          "-1607582783925030892"
         ],
         "function": "Abstraction.from_fn"
        },
        "4911082346213700237": {
         "args": [
          "-3628695812954142248"
         ],
         "function": "metadsl_core.maybe.Maybe[metadsl_core.either.Either[metadsl_core.integer.Integer, metadsl_core.vec.Vec[metadsl_core.integer.Integer]]].just",
         "type_params": {
          "~T": {
           "params": {
            "~T": {
             "type": "None"
            },
            "~U": {
             "params": {
              "~T": {
               "type": "None"
              }
             },
             "type": "<class 'metadsl_core.vec.Vec'>"
            }
           },
           "type": "<class 'metadsl_core.either.Either'>"
          }
         }
        },
        "4950136698486422878": {
         "args": [
          "-6354610349446788800"
         ],
         "function": "NDArrayCompat.to_ndarray"
        },
        "499212879731562402": {
         "args": [
          "-688369611984602878"
         ],
         "function": "metadsl_core.conversion.Converter[metadsl_core.numpy.NDArray].convert",
         "type_params": {
          "~T": {
           "type": "None"
          }
         }
        },
        "5005944128662866461": {
         "args": [
          "-3216256787761552093"
         ],
         "function": "NDArray.to_ndarray"
        },
        "5024181987038222354": {
         "args": [
          "-1437577047752864531",
          "-3203634775850872767"
         ],
         "function": "metadsl_core.abstraction.Abstraction[metadsl_core.either.Either[metadsl_core.integer.Integer, metadsl_core.vec.Vec[metadsl_core.integer.Integer]], metadsl_core.maybe.Maybe[metadsl_core.either.Either[metadsl_core.integer.Integer, metadsl_core.vec.Vec[metadsl_core.integer.Integer]]]].create",
         "type_params": {
          "~T": {
           "params": {
            "~T": {
             "type": "None"
            },
            "~U": {
             "params": {
              "~T": {
               "type": "None"
              }
             },
             "type": "<class 'metadsl_core.vec.Vec'>"
            }
           },
           "type": "<class 'metadsl_core.either.Either'>"
          },
          "~U": {
           "params": {
            "~T": {
             "params": {
              "~T": {
               "type": "None"
              },
              "~U": {
               "params": {
                "~T": {
                 "type": "None"
                }
               },
               "type": "<class 'metadsl_core.vec.Vec'>"
              }
             },
             "type": "<class 'metadsl_core.either.Either'>"
            }
           },
           "type": "<class 'metadsl_core.maybe.Maybe'>"
          }
         }
        },
        "5070327345094717641": {
         "args": [
          "5005944128662866461",
          "-5312105169486054623"
         ],
         "function": "ndarray_getitem"
        },
        "5098380273218132870": {
         "args": [
          "1783424724260451122"
         ],
         "function": "NDArrayCompat.to_ndarray"
        },
        "5102478036410264112": {
         "args": [
          "1808593692020796655",
          "74136777816683319"
         ],
         "function": "metadsl_core.abstraction.Abstraction[metadsl_core.numpy.NDArray, metadsl_core.maybe.Maybe[metadsl_core.numpy.NDArray]].create",
         "type_params": {
          "~T": {
           "type": "None"
          },
          "~U": {
           "params": {
            "~T": {
             "type": "None"
            }
           },
           "type": "<class 'metadsl_core.maybe.Maybe'>"
          }
         }
        },
        "5133671696006867822": {
         "args": [
          "-7875425312996854524"
         ],
         "function": "NDArrayCompat.from_ndarray"
        },
        "5252012972780144397": {
         "args": [
          "8297471784638431252"
         ],
         "function": "metadsl_core.pair.Pair[metadsl_core.numpy.NDArray, metadsl_core.either.Either[metadsl_core.integer.Integer, metadsl_core.vec.Vec[metadsl_core.integer.Integer]]].right",
         "type_params": {
          "~T": {
           "type": "None"
          },
          "~U": {
           "params": {
            "~T": {
             "type": "None"
            },
            "~U": {
             "params": {
              "~T": {
               "type": "None"
              }
             },
             "type": "<class 'metadsl_core.vec.Vec'>"
            }
           },
           "type": "<class 'metadsl_core.either.Either'>"
          }
         }
        },
        "5252368462417229828": {
         "args": [
          "8275525926990191922",
          "-8286627865775262960"
         ],
         "function": "metadsl_core.maybe.Maybe[metadsl_core.numpy.NDArray].__and__",
         "type_params": {
          "~T": {
           "type": "None"
          }
         }
        },
        "5261341333028699595": {
         "args": [
          "8275525926990191922"
         ],
         "function": "NDArrayCompat.from_ndarray"
        },
        "5285543842702239874": {
         "args": [
          "-2327018093481813258"
         ],
         "function": "metadsl_core.conversion.Converter[metadsl_core.numpy.NDArray].convert",
         "type_params": {
          "~T": {
           "type": "None"
          }
         }
        },
        "5320968424423773868": {
         "args": [
          "-4445990338267379393",
          "-1686062689311642513"
         ],
         "function": "ndarray_add"
        },
        "5325694296562478479": {
         "args": [
          "-8670931767362243241",
          "1439211364568782376"
         ],
         "function": "metadsl_core.maybe.Maybe[metadsl_core.integer.Integer].map",
         "type_params": {
          "~T": {
           "type": "None"
          }
         }
        },
        "5335607515346773011": {
         "args": [
          "-1607582673853888892"
         ],
         "function": "Abstraction.from_fn"
        },
        "5456872766239707982": {
         "args": [
          "-841062474213216563"
         ],
         "function": "metadsl_core.conversion.Converter[metadsl_core.numpy.NDArray].convert",
         "type_params": {
          "~T": {
           "type": "None"
          }
         }
        },
        "5552321182852822152": {
         "args": [
          "-1607582322431633092"
         ],
         "function": "Abstraction.from_fn"
        },
        "5586118657262954705": {
         "args": [
          "8297471784638431252"
         ],
         "function": "Maybe.just"
        },
        "5598890055333034651": {
         "args": [
          "-8504930468684409565",
          "7110260842223528479"
         ],
         "function": "metadsl_core.maybe.Maybe[metadsl_core.either.Either[metadsl_core.integer.Integer, metadsl_core.vec.Vec[metadsl_core.integer.Integer]]].__or__",
         "type_params": {
          "~T": {
           "params": {
            "~T": {
             "type": "None"
            },
            "~U": {
             "params": {
              "~T": {
               "type": "None"
              }
             },
             "type": "<class 'metadsl_core.vec.Vec'>"
            }
           },
           "type": "<class 'metadsl_core.either.Either'>"
          }
         }
        },
        "5629210584540794992": {
         "args": [
          "-7151142132499843596",
          "-8286627865775262960"
         ],
         "function": "metadsl_core.maybe.Maybe[metadsl_core.numpy.NDArray].__and__",
         "type_params": {
          "~T": {
           "type": "None"
          }
         }
        },
        "5640951755693734811": {
         "args": [
          "901951854771457488",
          "-1308169198235884699"
         ],
         "function": "NDArrayCompat.__add__"
        },
        "5793999285095704564": {
         "args": [
          "8477142063027611003"
         ],
         "function": "unbox_integer"
        },
        "5797916706957532586": {
         "repr": "array([  0,   2,   4,   6,   8,  10,  12,  14,  16,  18,  20,  22,  24,\n        26,  28,  30,  32,  34,  36,  38,  40,  42,  44,  46,  48,  50,\n        52,  54,  56,  58,  60,  62,  64,  66,  68,  70,  72,  74,  76,\n        78,  80,  82,  84,  86,  88,  90,  92,  94,  96,  98, 100, 102,\n       104, 106, 108, 110, 112, 114, 116, 118, 120, 122, 124, 126, 128,\n       130, 132, 134, 136, 138, 140, 142, 144, 146, 148, 150, 152, 154,\n       156, 158, 160, 162, 164, 166, 168, 170, 172, 174, 176, 178, 180,\n       182, 184, 186, 188, 190, 192, 194, 196, 198])",
         "type": "<class 'numpy.ndarray'>"
        },
        "5797917120499402986": {
         "repr": "array([ 0,  1,  2,  3,  4,  5,  6,  7,  8,  9, 10, 11, 12, 13, 14, 15, 16,\n       17, 18, 19, 20, 21, 22, 23, 24, 25, 26, 27, 28, 29, 30, 31, 32, 33,\n       34, 35, 36, 37, 38, 39, 40, 41, 42, 43, 44, 45, 46, 47, 48, 49, 50,\n       51, 52, 53, 54, 55, 56, 57, 58, 59, 60, 61, 62, 63, 64, 65, 66, 67,\n       68, 69, 70, 71, 72, 73, 74, 75, 76, 77, 78, 79, 80, 81, 82, 83, 84,\n       85, 86, 87, 88, 89, 90, 91, 92, 93, 94, 95, 96, 97, 98, 99])",
         "type": "<class 'numpy.ndarray'>"
        },
        "5797917645290202586": {
         "repr": "array([ 0,  1,  2,  3,  4,  5,  6,  7,  8,  9, 10, 11, 12, 13, 14, 15, 16,\n       17, 18, 19, 20, 21, 22, 23, 24, 25, 26, 27, 28, 29, 30, 31, 32, 33,\n       34, 35, 36, 37, 38, 39, 40, 41, 42, 43, 44, 45, 46, 47, 48, 49, 50,\n       51, 52, 53, 54, 55, 56, 57, 58, 59, 60, 61, 62, 63, 64, 65, 66, 67,\n       68, 69, 70, 71, 72, 73, 74, 75, 76, 77, 78, 79, 80, 81, 82, 83, 84,\n       85, 86, 87, 88, 89, 90, 91, 92, 93, 94, 95, 96, 97, 98, 99])",
         "type": "<class 'numpy.ndarray'>"
        },
        "5805233601970670215": {
         "args": [
          "1103515497677217915"
         ],
         "function": "NDArrayCompat.to_ndarray"
        },
        "5908187370580466859": {
         "args": [
          "-5988540011959434746"
         ],
         "function": "metadsl_core.conversion.Converter[metadsl_core.numpy.NDArray].convert",
         "type_params": {
          "~T": {
           "type": "None"
          }
         }
        },
        "5921660491540268460": {
         "function": "metadsl_core.maybe.Maybe[metadsl_core.either.Either[metadsl_core.integer.Integer, metadsl_core.vec.Vec[metadsl_core.integer.Integer]]].nothing",
         "type_params": {
          "~T": {
           "params": {
            "~T": {
             "type": "None"
            },
            "~U": {
             "params": {
              "~T": {
               "type": "None"
              }
             },
             "type": "<class 'metadsl_core.vec.Vec'>"
            }
           },
           "type": "<class 'metadsl_core.either.Either'>"
          }
         }
        },
        "5925678572987997446": {
         "args": [
          "-7310815994323534430",
          "-164719936505841084"
         ],
         "function": "metadsl_core.abstraction.Abstraction[metadsl_core.integer.Integer, metadsl_core.numpy.NDArray].create",
         "type_params": {
          "~T": {
           "type": "None"
          },
          "~U": {
           "type": "None"
          }
         }
        },
        "5926688084004721991": {
         "args": [
          "-2170860302900065182",
          "8477142063027611003"
         ],
         "function": "metadsl_core.abstraction.Abstraction[metadsl_core.integer.Integer, metadsl_core.maybe.Maybe[metadsl_core.numpy.NDArray]].__call__",
         "type_params": {
          "~T": {
           "type": "None"
          },
          "~U": {
           "params": {
            "~T": {
             "type": "None"
            }
           },
           "type": "<class 'metadsl_core.maybe.Maybe'>"
          }
         }
        },
        "5962540824467823416": {
         "args": [
          "8529567687718499854",
          "5925678572987997446"
         ],
         "function": "metadsl_core.abstraction.Abstraction[metadsl_core.numpy.NDArray, metadsl_core.maybe.Maybe[metadsl_core.numpy.NDArray]].__add__",
         "type_params": {
          "~T": {
           "type": "None"
          },
          "~U": {
           "params": {
            "~T": {
             "type": "None"
            }
           },
           "type": "<class 'metadsl_core.maybe.Maybe'>"
          }
         }
        },
        "5968900565445465204": {
         "args": [
          "7446879780063274518",
          "6982607551533396118"
         ],
         "function": "metadsl_core.maybe.Maybe[metadsl_core.either.Either[metadsl_core.integer.Integer, metadsl_core.vec.Vec[metadsl_core.integer.Integer]]].__or__",
         "type_params": {
          "~T": {
           "params": {
            "~T": {
             "type": "None"
            },
            "~U": {
             "params": {
              "~T": {
               "type": "None"
              }
             },
             "type": "<class 'metadsl_core.vec.Vec'>"
            }
           },
           "type": "<class 'metadsl_core.either.Either'>"
          }
         }
        },
        "6008953796349760737": {
         "repr": "<function NDArrayCompat.__getitem__.<locals>.<lambda> at 0x10ea6dd90>",
         "type": "<class 'function'>"
        },
        "6119332537948483927": {
         "args": [
          "2301691637976199942",
          "-8497898649150175771"
         ],
         "function": "metadsl_core.maybe.Maybe[metadsl_core.pair.Pair[metadsl_core.numpy.NDArray, metadsl_core.either.Either[metadsl_core.integer.Integer, metadsl_core.vec.Vec[metadsl_core.integer.Integer]]]].map",
         "type_params": {
          "~T": {
           "params": {
            "~T": {
             "type": "None"
            },
            "~U": {
             "params": {
              "~T": {
               "type": "None"
              },
              "~U": {
               "params": {
                "~T": {
                 "type": "None"
                }
               },
               "type": "<class 'metadsl_core.vec.Vec'>"
              }
             },
             "type": "<class 'metadsl_core.either.Either'>"
            }
           },
           "type": "<class 'metadsl_core.pair.Pair'>"
          }
         }
        },
        "6138330199496762554": {
         "args": [
          "7184966082362138670"
         ],
         "function": "metadsl_core.either.Either[metadsl_core.integer.Integer, metadsl_core.vec.Vec[metadsl_core.integer.Integer]].left",
         "type_params": {
          "~T": {
           "type": "None"
          },
          "~U": {
           "params": {
            "~T": {
             "type": "None"
            }
           },
           "type": "<class 'metadsl_core.vec.Vec'>"
          }
         }
        },
        "6162747097381933116": {
         "args": [
          "-5340023998310075949"
         ],
         "function": "NDArrayCompat.to_ndarray"
        },
        "6183214972308444700": {
         "args": [
          "-6833360097700140663",
          "5252012972780144397"
         ],
         "function": "NDArray.__getitem__"
        },
        "6212999931602779557": {
         "args": [
          "1393186743476143763"
         ],
         "function": "NDArrayCompat.from_ndarray"
        },
        "6213749376556673089": {
         "args": [
          "6851130839260865156",
          "4328928153435006979"
         ],
         "function": "metadsl_core.maybe.Maybe[metadsl_core.numpy.NDArray].__and__",
         "type_params": {
          "~T": {
           "type": "None"
          }
         }
        },
        "6258012183568072117": {
         "args": [
          "-7324248834226409845"
         ],
         "function": "NDArrayCompat.from_ndarray"
        },
        "6353920595340994400": {
         "args": [
          "-6439115598738963142",
          "1439211364568782376"
         ],
         "function": "metadsl_core.abstraction.Abstraction[metadsl_core.numpy.NDArray, metadsl_core.maybe.Maybe[metadsl_core.numpy.NDArray]].__add__",
         "type_params": {
          "~T": {
           "type": "None"
          },
          "~U": {
           "params": {
            "~T": {
             "type": "None"
            }
           },
           "type": "<class 'metadsl_core.maybe.Maybe'>"
          }
         }
        },
        "6400324216289340679": {
         "args": [
          "-5740158896823527825",
          "7184966082362138670"
         ],
         "function": "metadsl_core.abstraction.Abstraction[metadsl_core.integer.Integer, metadsl_core.maybe.Maybe[metadsl_core.either.Either[metadsl_core.integer.Integer, metadsl_core.vec.Vec[metadsl_core.integer.Integer]]]].__call__",
         "type_params": {
          "~T": {
           "type": "None"
          },
          "~U": {
           "params": {
            "~T": {
             "params": {
              "~T": {
               "type": "None"
              },
              "~U": {
               "params": {
                "~T": {
                 "type": "None"
                }
               },
               "type": "<class 'metadsl_core.vec.Vec'>"
              }
             },
             "type": "<class 'metadsl_core.either.Either'>"
            }
           },
           "type": "<class 'metadsl_core.maybe.Maybe'>"
          }
         }
        },
        "6401979815125174816": {
         "args": [
          "5908187370580466859",
          "4328928153435006979"
         ],
         "function": "metadsl_core.maybe.Maybe[metadsl_core.numpy.NDArray].__and__",
         "type_params": {
          "~T": {
           "type": "None"
          }
         }
        },
        "6402874878549973570": {
         "args": [
          "-1617433012068254295"
         ],
         "function": "NDArrayCompat.from_ndarray"
        },
        "6413173849436625359": {
         "args": [
          "-4853504951318587629"
         ],
         "function": "NDArrayCompat.to_ndarray"
        },
        "6575150823205688004": {
         "args": [
          "260030663300787620"
         ],
         "function": "metadsl_core.conversion.Converter[metadsl_core.numpy.NDArray].convert",
         "type_params": {
          "~T": {
           "type": "None"
          }
         }
        },
        "6704341838587835888": {
         "args": [
          "901951854771457488",
          "901951854771457488"
         ],
         "function": "NDArrayCompat.__add__"
        },
        "6739740236615398812": {
         "args": [
          "1114933272309088961"
         ],
         "function": "NDArrayCompat.to_ndarray"
        },
        "6794075058740415107": {
         "args": [
          "-6611610019024373135"
         ],
         "function": "metadsl_core.conversion.Converter[metadsl_core.numpy.NDArray].convert",
         "type_params": {
          "~T": {
           "type": "None"
          }
         }
        },
        "6802993579696638735": {
         "args": [
          "1928989510382894430"
         ],
         "function": "NDArrayCompat.from_ndarray"
        },
        "6851130839260865156": {
         "args": [
          "-4555559504509008674"
         ],
         "function": "metadsl_core.conversion.Converter[metadsl_core.numpy.NDArray].convert",
         "type_params": {
          "~T": {
           "type": "None"
          }
         }
        },
        "6958929918376508470": {
         "args": [
          "-6306696308265840314",
          "-54189134728044296"
         ],
         "function": "metadsl_core.maybe.Maybe[metadsl_core.numpy.NDArray].__and__",
         "type_params": {
          "~T": {
           "type": "None"
          }
         }
        },
        "6982607551533396118": {
         "args": [
          "-288772167902643112",
          "4633076588131622655"
         ],
         "function": "metadsl_core.maybe.Maybe[metadsl_core.vec.Vec[metadsl_core.integer.Integer]].map",
         "type_params": {
          "~T": {
           "params": {
            "~T": {
             "type": "None"
            }
           },
           "type": "<class 'metadsl_core.vec.Vec'>"
          }
         }
        },
        "7018973077017144136": {
         "args": [
          "-3362091527069260262"
         ],
         "function": "NDArrayCompat.from_ndarray"
        },
        "7110260842223528479": {
         "args": [
          "-288772167902643112",
          "2281173994021545228"
         ],
         "function": "metadsl_core.maybe.Maybe[metadsl_core.vec.Vec[metadsl_core.integer.Integer]].map",
         "type_params": {
          "~T": {
           "params": {
            "~T": {
             "type": "None"
            }
           },
           "type": "<class 'metadsl_core.vec.Vec'>"
          }
         }
        },
        "7137461032966912186": {
         "args": [
          "-6778975705719730535",
          "-6778975705719730535"
         ],
         "function": "ndarray_add"
        },
        "7184966082362138670": {
         "args": [
          "-2062961300402010070"
         ],
         "function": "Integer.from_int"
        },
        "7188058630419213230": {
         "args": [
          "-2652651998234565930",
          "7860314053504771284"
         ],
         "function": "Abstraction.create"
        },
        "7206624984666222608": {
         "args": [
          "-3938486709881475426"
         ],
         "function": "NDArrayCompat.from_ndarray"
        },
        "7206904151723123625": {
         "args": [
          "-8670931767362243241",
          "-5799366330510475334",
          "-4664064062598619867"
         ],
         "function": "metadsl_core.maybe.Maybe[metadsl_core.integer.Integer].match",
         "type_params": {
          "~T": {
           "type": "None"
          }
         }
        },
        "720832989631603035": {
         "args": [
          "1588169093597100508",
          "2906371502708252973"
         ],
         "function": "ndarray_getitem"
        },
        "7232288019064300109": {
         "args": [
          "-7202542479587578713",
          "-8497898649150175771"
         ],
         "function": "metadsl_core.maybe.Maybe[metadsl_core.pair.Pair[metadsl_core.numpy.NDArray, metadsl_core.either.Either[metadsl_core.integer.Integer, metadsl_core.vec.Vec[metadsl_core.integer.Integer]]]].map",
         "type_params": {
          "~T": {
           "params": {
            "~T": {
             "type": "None"
            },
            "~U": {
             "params": {
              "~T": {
               "type": "None"
              },
              "~U": {
               "params": {
                "~T": {
                 "type": "None"
                }
               },
               "type": "<class 'metadsl_core.vec.Vec'>"
              }
             },
             "type": "<class 'metadsl_core.either.Either'>"
            }
           },
           "type": "<class 'metadsl_core.pair.Pair'>"
          }
         }
        },
        "7248684319633093972": {
         "args": [
          "-5783354771919970542"
         ],
         "function": "NDArrayCompat.from_ndarray"
        },
        "7250563427102780466": {
         "args": [
          "-5808411508091644526"
         ],
         "function": "NDArrayCompat.from_ndarray"
        },
        "7395412007199821197": {
         "args": [
          "-4943563681457922389"
         ],
         "function": "NDArrayCompat.to_ndarray"
        },
        "74136777816683319": {
         "args": [
          "1808593692020796655"
         ],
         "function": "metadsl_core.maybe.Maybe[metadsl_core.numpy.NDArray].just",
         "type_params": {
          "~T": {
           "type": "None"
          }
         }
        },
        "7446879780063274518": {
         "args": [
          "2653774393602673432",
          "-7175289740716332892"
         ],
         "function": "metadsl_core.maybe.Maybe[metadsl_core.integer.Integer].map",
         "type_params": {
          "~T": {
           "type": "None"
          }
         }
        },
        "7507113132812865304": {
         "args": [
          "-6428469520816311307"
         ],
         "function": "NDArrayCompat.from_ndarray"
        },
        "7522700098114692017": {
         "args": [
          "-1380341197269524598",
          "4328928153435006979"
         ],
         "function": "metadsl_core.maybe.Maybe[metadsl_core.numpy.NDArray].__and__",
         "type_params": {
          "~T": {
           "type": "None"
          }
         }
        },
        "7723002838021551761": {
         "args": [
          "3243639618497304043"
         ],
         "function": "NDArrayCompat.from_ndarray"
        },
        "7828397652814802669": {
         "args": [
          "6802993579696638735"
         ],
         "function": "NDArrayCompat.to_ndarray"
        },
        "7841508609295140449": {
         "args": [
          "-4161764246954012390"
         ],
         "function": "metadsl_core.conversion.Converter[metadsl_core.numpy.NDArray].convert",
         "type_params": {
          "~T": {
           "type": "None"
          }
         }
        },
        "7860314053504771284": {
         "args": [
          "-990195451588134220"
         ],
         "function": "metadsl_core.maybe.Maybe[metadsl_core.numpy.NDArray].just",
         "type_params": {
          "~T": {
           "type": "None"
          }
         }
        },
        "7926135943629605543": {
         "args": [
          "-923260063906323973",
          "-5799366330510475334",
          "7188058630419213230"
         ],
         "function": "Maybe.match"
        },
        "8056940863934102961": {
         "args": [
          "936713106891147872",
          "-5799366330510475334",
          "-7477978994960775319"
         ],
         "function": "Maybe.match"
        },
        "8206801104135139972": {
         "args": [
          "-923260063906323973",
          "-5799366330510475334",
          "1783080233116463079"
         ],
         "function": "Maybe.match"
        },
        "8275525926990191922": {
         "args": [
          "-3216256787761552093"
         ],
         "function": "Maybe.just"
        },
        "8278037961011866466": {
         "args": [
          "3991979255121681613"
         ],
         "function": "NDArrayCompat.to_ndarray"
        },
        "8279772694318169411": {
         "args": [
          "1707285698685903206"
         ],
         "function": "NDArrayCompat.to_ndarray"
        },
        "8297471784638431252": {
         "args": [
          "-3216256787761552093",
          "6138330199496762554"
         ],
         "function": "Pair.create"
        },
        "8477142063027611003": {
         "args": [
          "-2062961300368451795"
         ],
         "function": "Integer.from_int"
        },
        "8527765221302761412": {
         "repr": "Infer(fn=<function arange_ at 0x10e65bea0>, wrapper=<function wrapper at 0x103f51048>)",
         "type": "<class 'metadsl.typing_tools.Infer'>"
        },
        "8529567687718499854": {
         "args": [
          "-5631475467245446851",
          "-5024623823782632329"
         ],
         "function": "metadsl_core.abstraction.Abstraction[metadsl_core.numpy.NDArray, metadsl_core.maybe.Maybe[metadsl_core.numpy.NDArray]].create",
         "type_params": {
          "~T": {
           "type": "None"
          },
          "~U": {
           "params": {
            "~T": {
             "type": "None"
            }
           },
           "type": "<class 'metadsl_core.maybe.Maybe'>"
          }
         }
        },
        "8534248861081840471": {
         "args": [
          "-5797470991666339323"
         ],
         "function": "metadsl_core.maybe.Maybe[metadsl_core.numpy.NDArray].just",
         "type_params": {
          "~T": {
           "type": "None"
          }
         }
        },
        "8838517083665952515": {
         "args": [
          "-6601580080006815914"
         ],
         "function": "NDArrayCompat.to_ndarray"
        },
        "8875821480694574614": {
         "args": [
          "1133973283078790881"
         ],
         "function": "NDArrayCompat.to_ndarray"
        },
        "8968414072982726069": {
         "args": [
          "-8394687580557921366",
          "3458131972456969057"
         ],
         "function": "metadsl_core.maybe.Maybe[metadsl_core.numpy.NDArray].__and__",
         "type_params": {
          "~T": {
           "type": "None"
          }
         }
        },
        "8978106986500244405": {
         "args": [
          "8477142063027611003"
         ],
         "function": "arange_"
        },
        "901951854771457488": {
         "args": [
          "-5050760724141581212"
         ],
         "function": "NDArrayCompat.from_ndarray"
        },
        "9163343564326968323": {
         "args": [
          "-7435878749370100561",
          "-5799366330510475334",
          "-7477978994960775319"
         ],
         "function": "Maybe.match"
        },
        "9169436713849586569": {
         "args": [
          "-5460597511722792571"
         ],
         "function": "NDArrayCompat.from_ndarray"
        },
        "9194899104411129050": {
         "args": [
          "5456872766239707982",
          "4328928153435006979"
         ],
         "function": "metadsl_core.maybe.Maybe[metadsl_core.numpy.NDArray].__and__",
         "type_params": {
          "~T": {
           "type": "None"
          }
         }
        },
        "931419706256744064": {
         "args": [
          "-7750133747417079159"
         ],
         "function": "metadsl_core.abstraction.Abstraction[metadsl_core.integer.Integer, metadsl_core.numpy.NDArray].create_variable",
         "type_params": {
          "~T": {
           "type": "None"
          },
          "~U": {
           "type": "None"
          }
         }
        },
        "936713106891147872": {
         "args": [
          "3656583453314743723",
          "4328928153435006979"
         ],
         "function": "metadsl_core.maybe.Maybe[metadsl_core.numpy.NDArray].__and__",
         "type_params": {
          "~T": {
           "type": "None"
          }
         }
        },
        "947082553317848996": {
         "args": [
          "5552321182852822152",
          "1439211364568782376"
         ],
         "function": "metadsl_core.abstraction.Abstraction[metadsl_core.numpy.NDArray, metadsl_core.maybe.Maybe[metadsl_core.numpy.NDArray]].__add__",
         "type_params": {
          "~T": {
           "type": "None"
          },
          "~U": {
           "params": {
            "~T": {
             "type": "None"
            }
           },
           "type": "<class 'metadsl_core.maybe.Maybe'>"
          }
         }
        }
       },
       "states": {
        "initial": "-7833040348391141653",
        "states": [
         {
          "node": "-3540937553888413857",
          "rule": "metadsl_core.numpy.NDArrayCompat.__getitem__"
         },
         {
          "node": "1998046598362843885",
          "rule": "metadsl_core.numpy.arange"
         },
         {
          "node": "-9177145750500466553",
          "rule": "metadsl_core.integer.convert_integer"
         },
         {
          "node": "7395412007199821197",
          "rule": "metadsl_core.numpy.arange"
         },
         {
          "node": "8279772694318169411",
          "rule": "metadsl_core.integer.convert_integer"
         },
         {
          "node": "-8203311941872801726",
          "rule": "metadsl_core.either.convert_to_either"
         },
         {
          "node": "-489990974119709293",
          "rule": "metadsl_core.integer.convert_integer"
         },
         {
          "node": "6413173849436625359",
          "rule": "metadsl_core.maybe.Maybe.map"
         },
         {
          "node": "-4139213926396184803",
          "rule": "metadsl_core.maybe.Maybe.map"
         },
         {
          "node": "-7369005454185949690",
          "rule": "metadsl_core.maybe.maybe_match"
         },
         {
          "node": "5098380273218132870",
          "rule": "metadsl_core.abstraction.Abstraction.from_fn"
         },
         {
          "node": "4326243548356845196",
          "rule": "metadsl_core.abstraction.Abstraction.from_fn"
         },
         {
          "node": "-3957586501688992548",
          "rule": "metadsl_core.abstraction.compose"
         },
         {
          "node": "4950136698486422878",
          "rule": "metadsl_core.abstraction.beta_reduce"
         },
         {
          "node": "8278037961011866466",
          "rule": "metadsl_core.maybe.Maybe.map"
         },
         {
          "node": "8838517083665952515",
          "rule": "metadsl_core.maybe.maybe_match"
         },
         {
          "node": "-4560365066131255718",
          "rule": "metadsl_core.abstraction.Abstraction.from_fn"
         },
         {
          "node": "5805233601970670215",
          "rule": "metadsl_core.abstraction.Abstraction.from_fn"
         },
         {
          "node": "6162747097381933116",
          "rule": "metadsl_core.abstraction.compose"
         },
         {
          "node": "1446255895134801527",
          "rule": "metadsl_core.abstraction.beta_reduce"
         },
         {
          "node": "1121964476556409066",
          "rule": "metadsl_core.maybe.Maybe.map"
         },
         {
          "node": "3401219268512331606",
          "rule": "metadsl_core.maybe.maybe_match"
         },
         {
          "node": "2797020513921284672",
          "rule": "metadsl_core.abstraction.Abstraction.from_fn"
         },
         {
          "node": "3325591963353805053",
          "rule": "metadsl_core.abstraction.Abstraction.from_fn"
         },
         {
          "node": "1604448709696662245",
          "rule": "metadsl_core.abstraction.compose"
         },
         {
          "node": "-5110737843845193322",
          "rule": "metadsl_core.abstraction.beta_reduce"
         },
         {
          "node": "-1431836062064850620",
          "rule": "metadsl_core.maybe.maybe_or"
         },
         {
          "node": "229943346460482358",
          "rule": "metadsl_core.abstraction.Abstraction.from_fn"
         },
         {
          "node": "-7324706907540259154",
          "rule": "metadsl_core.abstraction.Abstraction.from_fn"
         },
         {
          "node": "6739740236615398812",
          "rule": "metadsl_core.abstraction.compose"
         },
         {
          "node": "-1493941571026113454",
          "rule": "metadsl_core.numpy.add_compat"
         },
         {
          "node": "-3602106394535571159",
          "rule": "metadsl_core.numpy.convert_to_ndarray"
         },
         {
          "node": "7828397652814802669",
          "rule": "metadsl_core.maybe.maybe_and"
         },
         {
          "node": "4515503403958692495",
          "rule": "metadsl_core.maybe.maybe_match"
         },
         {
          "node": "2838552804205211767",
          "rule": "metadsl_core.abstraction.beta_reduce"
         },
         {
          "node": "1258083354409262386",
          "rule": "metadsl_core.pair.pair_left"
         },
         {
          "label": "convert",
          "node": "8875821480694574614",
          "rule": "metadsl_core.pair.pair_right"
         },
         {
          "node": "3642302327845014786",
          "rule": "metadsl_core.numpy.box_unbox_ndarray_compat"
         },
         {
          "node": "5070327345094717641",
          "rule": "metadsl_core.numpy_engine.unbox_ndarray_getitem"
         },
         {
          "node": "-7774494899441930141",
          "rule": "metadsl_core.numpy_engine.unbox_ndarray_add"
         },
         {
          "node": "-1723925058666172788",
          "rule": "metadsl_core.numpy_engine.unbox_arange"
         },
         {
          "node": "-7989374007794508787",
          "rule": "metadsl_core.numpy_engine.unbox_integer_rule"
         },
         {
          "node": "-2632471959037560774",
          "rule": "metadsl_core.numpy_engine.unbox_arange"
         },
         {
          "node": "-8080851809291337492",
          "rule": "metadsl_core.numpy_engine.unbox_integer_rule"
         },
         {
          "node": "720832989631603035",
          "rule": "metadsl_core.numpy_engine.unbox_idxs_rule"
         },
         {
          "label": "unbox",
          "node": "-9128762291147863093",
          "rule": "metadsl_core.numpy_engine.unbox_integer_rule"
         },
         {
          "node": "-595013536158689119",
          "rule": "metadsl_core.numpy_engine.arange"
         },
         {
          "node": "2245798353483282457",
          "rule": "metadsl_core.numpy_engine.arange"
         },
         {
          "node": "2007766142401315863",
          "rule": "metadsl_core.numpy_engine.ndarray_add"
         },
         {
          "label": "execute",
          "node": "-1178522331047837227",
          "rule": "metadsl_core.numpy_engine.ndarray_getitem"
         }
        ]
       }
      },
      "text/plain": [
       "Typez(definitions=None, nodes={'-2062961300368451795': PrimitiveNode(type=\"<class 'int'>\", repr='100'), '-4445990338267379393': CallNode(function='arange', type_params=None, args=['-2062961300368451795'], kwargs=None), '-835398202959862298': CallNode(function='NDArrayCompat.__add__', type_params=None, args=['-4445990338267379393', '-4445990338267379393'], kwargs=None), '-2062961300402010070': PrimitiveNode(type=\"<class 'int'>\", repr='5'), '-3644789626854629265': CallNode(function='NDArrayCompat.__getitem__', type_params=None, args=['-835398202959862298', '-2062961300402010070'], kwargs=None), '-7833040348391141653': CallNode(function='NDArrayCompat.to_ndarray', type_params=None, args=['-3644789626854629265'], kwargs=None), '-8394687580557921366': CallNode(function='metadsl_core.conversion.Converter[metadsl_core.numpy.NDArray].convert', type_params={'~T': DeclaredTypeInstance(type='None', params=None)}, args=['-835398202959862298'], kwargs=None), '3458131972456969057': CallNode(function='metadsl_core.conversion.Converter[metadsl_core.either.Either[metadsl_core.integer.Integer, metadsl_core.vec.Vec[metadsl_core.integer.Integer]]].convert', type_params={'~T': DeclaredTypeInstance(type=\"<class 'metadsl_core.either.Either'>\", params={'~U': DeclaredTypeInstance(type=\"<class 'metadsl_core.vec.Vec'>\", params={'~T': DeclaredTypeInstance(type='None', params=None)}), '~T': DeclaredTypeInstance(type='None', params=None)})}, args=['-2062961300402010070'], kwargs=None), '8968414072982726069': CallNode(function='metadsl_core.maybe.Maybe[metadsl_core.numpy.NDArray].__and__', type_params={'~T': DeclaredTypeInstance(type='None', params=None)}, args=['-8394687580557921366', '3458131972456969057'], kwargs=None), '-3214405503694481696': PrimitiveNode(type=\"<class 'function'>\", repr='<function NDArrayCompat.__getitem__.<locals>.<lambda> at 0x103ef5ae8>'), '-8497898649150175771': CallNode(function='metadsl_core.abstraction.Abstraction[metadsl_core.pair.Pair[metadsl_core.numpy.NDArray, metadsl_core.either.Either[metadsl_core.integer.Integer, metadsl_core.vec.Vec[metadsl_core.integer.Integer]]], metadsl_core.numpy.NDArray].from_fn', type_params={'~U': DeclaredTypeInstance(type='None', params=None), '~T': DeclaredTypeInstance(type=\"<class 'metadsl_core.pair.Pair'>\", params={'~U': DeclaredTypeInstance(type=\"<class 'metadsl_core.either.Either'>\", params={'~U': DeclaredTypeInstance(type=\"<class 'metadsl_core.vec.Vec'>\", params={'~T': DeclaredTypeInstance(type='None', params=None)}), '~T': DeclaredTypeInstance(type='None', params=None)}), '~T': DeclaredTypeInstance(type='None', params=None)})}, args=['-3214405503694481696'], kwargs=None), '-6015714051176105830': CallNode(function='metadsl_core.maybe.Maybe[metadsl_core.pair.Pair[metadsl_core.numpy.NDArray, metadsl_core.either.Either[metadsl_core.integer.Integer, metadsl_core.vec.Vec[metadsl_core.integer.Integer]]]].map', type_params={'~T': DeclaredTypeInstance(type=\"<class 'metadsl_core.pair.Pair'>\", params={'~U': DeclaredTypeInstance(type=\"<class 'metadsl_core.either.Either'>\", params={'~U': DeclaredTypeInstance(type=\"<class 'metadsl_core.vec.Vec'>\", params={'~T': DeclaredTypeInstance(type='None', params=None)}), '~T': DeclaredTypeInstance(type='None', params=None)}), '~T': DeclaredTypeInstance(type='None', params=None)})}, args=['8968414072982726069', '-8497898649150175771'], kwargs=None), '1951136591077809905': CallNode(function='NDArrayCompat.from_ndarray', type_params=None, args=['-6015714051176105830'], kwargs=None), '-3540937553888413857': CallNode(function='NDArrayCompat.to_ndarray', type_params=None, args=['1951136591077809905'], kwargs=None), '-8918075753478658603': CallNode(function='metadsl_core.conversion.Converter[metadsl_core.integer.Integer].convert', type_params={'~T': DeclaredTypeInstance(type='None', params=None)}, args=['-2062961300368451795'], kwargs=None), '8527765221302761412': PrimitiveNode(type=\"<class 'metadsl.typing_tools.Infer'>\", repr='Infer(fn=<function arange_ at 0x10e65bea0>, wrapper=<function wrapper at 0x103f51048>)'), '1439211364568782376': CallNode(function='Abstraction.from_fn', type_params=None, args=['8527765221302761412'], kwargs=None), '-6428469520816311307': CallNode(function='metadsl_core.maybe.Maybe[metadsl_core.integer.Integer].map', type_params={'~T': DeclaredTypeInstance(type='None', params=None)}, args=['-8918075753478658603', '1439211364568782376'], kwargs=None), '7507113132812865304': CallNode(function='NDArrayCompat.from_ndarray', type_params=None, args=['-6428469520816311307'], kwargs=None), '-6611610019024373135': CallNode(function='NDArrayCompat.__add__', type_params=None, args=['7507113132812865304', '-4445990338267379393'], kwargs=None), '6794075058740415107': CallNode(function='metadsl_core.conversion.Converter[metadsl_core.numpy.NDArray].convert', type_params={'~T': DeclaredTypeInstance(type='None', params=None)}, args=['-6611610019024373135'], kwargs=None), '-7202542479587578713': CallNode(function='metadsl_core.maybe.Maybe[metadsl_core.numpy.NDArray].__and__', type_params={'~T': DeclaredTypeInstance(type='None', params=None)}, args=['6794075058740415107', '3458131972456969057'], kwargs=None), '7232288019064300109': CallNode(function='metadsl_core.maybe.Maybe[metadsl_core.pair.Pair[metadsl_core.numpy.NDArray, metadsl_core.either.Either[metadsl_core.integer.Integer, metadsl_core.vec.Vec[metadsl_core.integer.Integer]]]].map', type_params={'~T': DeclaredTypeInstance(type=\"<class 'metadsl_core.pair.Pair'>\", params={'~U': DeclaredTypeInstance(type=\"<class 'metadsl_core.either.Either'>\", params={'~U': DeclaredTypeInstance(type=\"<class 'metadsl_core.vec.Vec'>\", params={'~T': DeclaredTypeInstance(type='None', params=None)}), '~T': DeclaredTypeInstance(type='None', params=None)}), '~T': DeclaredTypeInstance(type='None', params=None)})}, args=['-7202542479587578713', '-8497898649150175771'], kwargs=None), '404081867552064956': CallNode(function='NDArrayCompat.from_ndarray', type_params=None, args=['7232288019064300109'], kwargs=None), '1998046598362843885': CallNode(function='NDArrayCompat.to_ndarray', type_params=None, args=['404081867552064956'], kwargs=None), '8477142063027611003': CallNode(function='Integer.from_int', type_params=None, args=['-2062961300368451795'], kwargs=None), '-8670931767362243241': CallNode(function='Maybe.just', type_params=None, args=['8477142063027611003'], kwargs=None), '5325694296562478479': CallNode(function='metadsl_core.maybe.Maybe[metadsl_core.integer.Integer].map', type_params={'~T': DeclaredTypeInstance(type='None', params=None)}, args=['-8670931767362243241', '1439211364568782376'], kwargs=None), '-1308169198235884699': CallNode(function='NDArrayCompat.from_ndarray', type_params=None, args=['5325694296562478479'], kwargs=None), '-3547624826643548575': CallNode(function='NDArrayCompat.__add__', type_params=None, args=['-1308169198235884699', '-4445990338267379393'], kwargs=None), '-8268772812427144376': CallNode(function='metadsl_core.conversion.Converter[metadsl_core.numpy.NDArray].convert', type_params={'~T': DeclaredTypeInstance(type='None', params=None)}, args=['-3547624826643548575'], kwargs=None), '-6133673341744032519': CallNode(function='metadsl_core.maybe.Maybe[metadsl_core.numpy.NDArray].__and__', type_params={'~T': DeclaredTypeInstance(type='None', params=None)}, args=['-8268772812427144376', '3458131972456969057'], kwargs=None), '-802444088282729946': CallNode(function='metadsl_core.maybe.Maybe[metadsl_core.pair.Pair[metadsl_core.numpy.NDArray, metadsl_core.either.Either[metadsl_core.integer.Integer, metadsl_core.vec.Vec[metadsl_core.integer.Integer]]]].map', type_params={'~T': DeclaredTypeInstance(type=\"<class 'metadsl_core.pair.Pair'>\", params={'~U': DeclaredTypeInstance(type=\"<class 'metadsl_core.either.Either'>\", params={'~U': DeclaredTypeInstance(type=\"<class 'metadsl_core.vec.Vec'>\", params={'~T': DeclaredTypeInstance(type='None', params=None)}), '~T': DeclaredTypeInstance(type='None', params=None)}), '~T': DeclaredTypeInstance(type='None', params=None)})}, args=['-6133673341744032519', '-8497898649150175771'], kwargs=None), '-5046926574871989755': CallNode(function='NDArrayCompat.from_ndarray', type_params=None, args=['-802444088282729946'], kwargs=None), '-9177145750500466553': CallNode(function='NDArrayCompat.to_ndarray', type_params=None, args=['-5046926574871989755'], kwargs=None), '260030663300787620': CallNode(function='NDArrayCompat.__add__', type_params=None, args=['-1308169198235884699', '7507113132812865304'], kwargs=None), '6575150823205688004': CallNode(function='metadsl_core.conversion.Converter[metadsl_core.numpy.NDArray].convert', type_params={'~T': DeclaredTypeInstance(type='None', params=None)}, args=['260030663300787620'], kwargs=None), '3214112961624286158': CallNode(function='metadsl_core.maybe.Maybe[metadsl_core.numpy.NDArray].__and__', type_params={'~T': DeclaredTypeInstance(type='None', params=None)}, args=['6575150823205688004', '3458131972456969057'], kwargs=None), '-4175631801153021302': CallNode(function='metadsl_core.maybe.Maybe[metadsl_core.pair.Pair[metadsl_core.numpy.NDArray, metadsl_core.either.Either[metadsl_core.integer.Integer, metadsl_core.vec.Vec[metadsl_core.integer.Integer]]]].map', type_params={'~T': DeclaredTypeInstance(type=\"<class 'metadsl_core.pair.Pair'>\", params={'~U': DeclaredTypeInstance(type=\"<class 'metadsl_core.either.Either'>\", params={'~U': DeclaredTypeInstance(type=\"<class 'metadsl_core.vec.Vec'>\", params={'~T': DeclaredTypeInstance(type='None', params=None)}), '~T': DeclaredTypeInstance(type='None', params=None)}), '~T': DeclaredTypeInstance(type='None', params=None)})}, args=['3214112961624286158', '-8497898649150175771'], kwargs=None), '-4943563681457922389': CallNode(function='NDArrayCompat.from_ndarray', type_params=None, args=['-4175631801153021302'], kwargs=None), '7395412007199821197': CallNode(function='NDArrayCompat.to_ndarray', type_params=None, args=['-4943563681457922389'], kwargs=None), '1619199742787553039': CallNode(function='NDArrayCompat.__add__', type_params=None, args=['-1308169198235884699', '-1308169198235884699'], kwargs=None), '2573460414639214128': CallNode(function='metadsl_core.conversion.Converter[metadsl_core.numpy.NDArray].convert', type_params={'~T': DeclaredTypeInstance(type='None', params=None)}, args=['1619199742787553039'], kwargs=None), '2301691637976199942': CallNode(function='metadsl_core.maybe.Maybe[metadsl_core.numpy.NDArray].__and__', type_params={'~T': DeclaredTypeInstance(type='None', params=None)}, args=['2573460414639214128', '3458131972456969057'], kwargs=None), '6119332537948483927': CallNode(function='metadsl_core.maybe.Maybe[metadsl_core.pair.Pair[metadsl_core.numpy.NDArray, metadsl_core.either.Either[metadsl_core.integer.Integer, metadsl_core.vec.Vec[metadsl_core.integer.Integer]]]].map', type_params={'~T': DeclaredTypeInstance(type=\"<class 'metadsl_core.pair.Pair'>\", params={'~U': DeclaredTypeInstance(type=\"<class 'metadsl_core.either.Either'>\", params={'~U': DeclaredTypeInstance(type=\"<class 'metadsl_core.vec.Vec'>\", params={'~T': DeclaredTypeInstance(type='None', params=None)}), '~T': DeclaredTypeInstance(type='None', params=None)}), '~T': DeclaredTypeInstance(type='None', params=None)})}, args=['2301691637976199942', '-8497898649150175771'], kwargs=None), '1707285698685903206': CallNode(function='NDArrayCompat.from_ndarray', type_params=None, args=['6119332537948483927'], kwargs=None), '8279772694318169411': CallNode(function='NDArrayCompat.to_ndarray', type_params=None, args=['1707285698685903206'], kwargs=None), '2653774393602673432': CallNode(function='metadsl_core.conversion.Converter[metadsl_core.integer.Integer].convert', type_params={'~T': DeclaredTypeInstance(type='None', params=None)}, args=['-2062961300402010070'], kwargs=None), '-1607582228910133292': PrimitiveNode(type=\"<class 'metadsl.typing_tools.BoundInfer'>\", repr='BoundInfer(fn=<function Either.left at 0x103f8d158>, wrapper=<function wrapper at 0x103f51048>, owner=metadsl_core.either.Either[metadsl_core.integer.Integer, metadsl_core.vec.Vec[metadsl_core.integer.Integer]], is_classmethod=True)'), '-7175289740716332892': CallNode(function='Abstraction.from_fn', type_params=None, args=['-1607582228910133292'], kwargs=None), '7446879780063274518': CallNode(function='metadsl_core.maybe.Maybe[metadsl_core.integer.Integer].map', type_params={'~T': DeclaredTypeInstance(type='None', params=None)}, args=['2653774393602673432', '-7175289740716332892'], kwargs=None), '-288772167902643112': CallNode(function='metadsl_core.conversion.Converter[metadsl_core.vec.Vec[metadsl_core.integer.Integer]].convert', type_params={'~T': DeclaredTypeInstance(type=\"<class 'metadsl_core.vec.Vec'>\", params={'~T': DeclaredTypeInstance(type='None', params=None)})}, args=['-2062961300402010070'], kwargs=None), '-1607582240506141092': PrimitiveNode(type=\"<class 'metadsl.typing_tools.BoundInfer'>\", repr='BoundInfer(fn=<function Either.right at 0x103f8d598>, wrapper=<function wrapper at 0x103f51048>, owner=metadsl_core.either.Either[metadsl_core.integer.Integer, metadsl_core.vec.Vec[metadsl_core.integer.Integer]], is_classmethod=True)'), '4633076588131622655': CallNode(function='Abstraction.from_fn', type_params=None, args=['-1607582240506141092'], kwargs=None), '6982607551533396118': CallNode(function='metadsl_core.maybe.Maybe[metadsl_core.vec.Vec[metadsl_core.integer.Integer]].map', type_params={'~T': DeclaredTypeInstance(type=\"<class 'metadsl_core.vec.Vec'>\", params={'~T': DeclaredTypeInstance(type='None', params=None)})}, args=['-288772167902643112', '4633076588131622655'], kwargs=None), '5968900565445465204': CallNode(function='metadsl_core.maybe.Maybe[metadsl_core.either.Either[metadsl_core.integer.Integer, metadsl_core.vec.Vec[metadsl_core.integer.Integer]]].__or__', type_params={'~T': DeclaredTypeInstance(type=\"<class 'metadsl_core.either.Either'>\", params={'~U': DeclaredTypeInstance(type=\"<class 'metadsl_core.vec.Vec'>\", params={'~T': DeclaredTypeInstance(type='None', params=None)}), '~T': DeclaredTypeInstance(type='None', params=None)})}, args=['7446879780063274518', '6982607551533396118'], kwargs=None), '-5997946929869746690': CallNode(function='metadsl_core.maybe.Maybe[metadsl_core.numpy.NDArray].__and__', type_params={'~T': DeclaredTypeInstance(type='None', params=None)}, args=['2573460414639214128', '5968900565445465204'], kwargs=None), '-5753031397901527004': CallNode(function='metadsl_core.maybe.Maybe[metadsl_core.pair.Pair[metadsl_core.numpy.NDArray, metadsl_core.either.Either[metadsl_core.integer.Integer, metadsl_core.vec.Vec[metadsl_core.integer.Integer]]]].map', type_params={'~T': DeclaredTypeInstance(type=\"<class 'metadsl_core.pair.Pair'>\", params={'~U': DeclaredTypeInstance(type=\"<class 'metadsl_core.either.Either'>\", params={'~U': DeclaredTypeInstance(type=\"<class 'metadsl_core.vec.Vec'>\", params={'~T': DeclaredTypeInstance(type='None', params=None)}), '~T': DeclaredTypeInstance(type='None', params=None)}), '~T': DeclaredTypeInstance(type='None', params=None)})}, args=['-5997946929869746690', '-8497898649150175771'], kwargs=None), '1570745746778997190': CallNode(function='NDArrayCompat.from_ndarray', type_params=None, args=['-5753031397901527004'], kwargs=None), '-8203311941872801726': CallNode(function='NDArrayCompat.to_ndarray', type_params=None, args=['1570745746778997190'], kwargs=None), '7184966082362138670': CallNode(function='Integer.from_int', type_params=None, args=['-2062961300402010070'], kwargs=None), '-1825639675481737058': CallNode(function='Maybe.just', type_params=None, args=['7184966082362138670'], kwargs=None), '-4602873114490132049': CallNode(function='metadsl_core.maybe.Maybe[metadsl_core.integer.Integer].map', type_params={'~T': DeclaredTypeInstance(type='None', params=None)}, args=['-1825639675481737058', '-7175289740716332892'], kwargs=None), '2234576645629580033': CallNode(function='metadsl_core.maybe.Maybe[metadsl_core.either.Either[metadsl_core.integer.Integer, metadsl_core.vec.Vec[metadsl_core.integer.Integer]]].__or__', type_params={'~T': DeclaredTypeInstance(type=\"<class 'metadsl_core.either.Either'>\", params={'~U': DeclaredTypeInstance(type=\"<class 'metadsl_core.vec.Vec'>\", params={'~T': DeclaredTypeInstance(type='None', params=None)}), '~T': DeclaredTypeInstance(type='None', params=None)})}, args=['-4602873114490132049', '6982607551533396118'], kwargs=None), '-4855936670367088283': CallNode(function='metadsl_core.maybe.Maybe[metadsl_core.numpy.NDArray].__and__', type_params={'~T': DeclaredTypeInstance(type='None', params=None)}, args=['2573460414639214128', '2234576645629580033'], kwargs=None), '-8847698459365060321': CallNode(function='metadsl_core.maybe.Maybe[metadsl_core.pair.Pair[metadsl_core.numpy.NDArray, metadsl_core.either.Either[metadsl_core.integer.Integer, metadsl_core.vec.Vec[metadsl_core.integer.Integer]]]].map', type_params={'~T': DeclaredTypeInstance(type=\"<class 'metadsl_core.pair.Pair'>\", params={'~U': DeclaredTypeInstance(type=\"<class 'metadsl_core.either.Either'>\", params={'~U': DeclaredTypeInstance(type=\"<class 'metadsl_core.vec.Vec'>\", params={'~T': DeclaredTypeInstance(type='None', params=None)}), '~T': DeclaredTypeInstance(type='None', params=None)}), '~T': DeclaredTypeInstance(type='None', params=None)})}, args=['-4855936670367088283', '-8497898649150175771'], kwargs=None), '4868111966091899320': CallNode(function='NDArrayCompat.from_ndarray', type_params=None, args=['-8847698459365060321'], kwargs=None), '-489990974119709293': CallNode(function='NDArrayCompat.to_ndarray', type_params=None, args=['4868111966091899320'], kwargs=None), '-1607582424630653292': PrimitiveNode(type=\"<class 'metadsl.typing_tools.BoundInfer'>\", repr='BoundInfer(fn=<function Either.left at 0x103f8d158>, wrapper=<function wrapper at 0x103f51048>, owner=metadsl_core.either.Either[metadsl_core.integer.Integer, metadsl_core.vec.Vec[metadsl_core.integer.Integer]], is_classmethod=True)'), '-2141169977656638728': CallNode(function='Abstraction.from_fn', type_params=None, args=['-1607582424630653292'], kwargs=None), '-3314056357467995475': CallNode(function='metadsl_core.maybe.Maybe[metadsl_core.integer.Integer].map', type_params={'~T': DeclaredTypeInstance(type='None', params=None)}, args=['-1825639675481737058', '-2141169977656638728'], kwargs=None), '-1607582431463551092': PrimitiveNode(type=\"<class 'metadsl.typing_tools.BoundInfer'>\", repr='BoundInfer(fn=<function Either.right at 0x103f8d598>, wrapper=<function wrapper at 0x103f51048>, owner=metadsl_core.either.Either[metadsl_core.integer.Integer, metadsl_core.vec.Vec[metadsl_core.integer.Integer]], is_classmethod=True)'), '2281173994021545228': CallNode(function='Abstraction.from_fn', type_params=None, args=['-1607582431463551092'], kwargs=None), '7110260842223528479': CallNode(function='metadsl_core.maybe.Maybe[metadsl_core.vec.Vec[metadsl_core.integer.Integer]].map', type_params={'~T': DeclaredTypeInstance(type=\"<class 'metadsl_core.vec.Vec'>\", params={'~T': DeclaredTypeInstance(type='None', params=None)})}, args=['-288772167902643112', '2281173994021545228'], kwargs=None), '4328928153435006979': CallNode(function='metadsl_core.maybe.Maybe[metadsl_core.either.Either[metadsl_core.integer.Integer, metadsl_core.vec.Vec[metadsl_core.integer.Integer]]].__or__', type_params={'~T': DeclaredTypeInstance(type=\"<class 'metadsl_core.either.Either'>\", params={'~U': DeclaredTypeInstance(type=\"<class 'metadsl_core.vec.Vec'>\", params={'~T': DeclaredTypeInstance(type='None', params=None)}), '~T': DeclaredTypeInstance(type='None', params=None)})}, args=['-3314056357467995475', '7110260842223528479'], kwargs=None), '-5580591630019075469': CallNode(function='metadsl_core.maybe.Maybe[metadsl_core.numpy.NDArray].__and__', type_params={'~T': DeclaredTypeInstance(type='None', params=None)}, args=['2573460414639214128', '4328928153435006979'], kwargs=None), '-5799366330510475334': CallNode(function='metadsl_core.maybe.Maybe[metadsl_core.numpy.NDArray].nothing', type_params={'~T': DeclaredTypeInstance(type='None', params=None)}, args=None, kwargs=None), '-1607582429670889692': PrimitiveNode(type=\"<class 'metadsl.typing_tools.BoundInfer'>\", repr='BoundInfer(fn=<function Maybe.just at 0x103f71d08>, wrapper=<function wrapper at 0x103f51048>, owner=metadsl_core.maybe.Maybe[metadsl_core.numpy.NDArray], is_classmethod=True)'), '-6699486375892394147': CallNode(function='Abstraction.from_fn', type_params=None, args=['-1607582429670889692'], kwargs=None), '6008953796349760737': PrimitiveNode(type=\"<class 'function'>\", repr='<function NDArrayCompat.__getitem__.<locals>.<lambda> at 0x10ea6dd90>'), '-1969797189182383914': CallNode(function='metadsl_core.abstraction.Abstraction[metadsl_core.pair.Pair[metadsl_core.numpy.NDArray, metadsl_core.either.Either[metadsl_core.integer.Integer, metadsl_core.vec.Vec[metadsl_core.integer.Integer]]], metadsl_core.numpy.NDArray].from_fn', type_params={'~U': DeclaredTypeInstance(type='None', params=None), '~T': DeclaredTypeInstance(type=\"<class 'metadsl_core.pair.Pair'>\", params={'~U': DeclaredTypeInstance(type=\"<class 'metadsl_core.either.Either'>\", params={'~U': DeclaredTypeInstance(type=\"<class 'metadsl_core.vec.Vec'>\", params={'~T': DeclaredTypeInstance(type='None', params=None)}), '~T': DeclaredTypeInstance(type='None', params=None)}), '~T': DeclaredTypeInstance(type='None', params=None)})}, args=['6008953796349760737'], kwargs=None), '-7477978994960775319': CallNode(function='metadsl_core.abstraction.Abstraction[metadsl_core.numpy.NDArray, metadsl_core.maybe.Maybe[metadsl_core.numpy.NDArray]].__add__', type_params={'~U': DeclaredTypeInstance(type=\"<class 'metadsl_core.maybe.Maybe'>\", params={'~T': DeclaredTypeInstance(type='None', params=None)}), '~T': DeclaredTypeInstance(type='None', params=None)}, args=['-6699486375892394147', '-1969797189182383914'], kwargs=None), '4380945522060672891': CallNode(function='Maybe.match', type_params=None, args=['-5580591630019075469', '-5799366330510475334', '-7477978994960775319'], kwargs=None), '-4853504951318587629': CallNode(function='NDArrayCompat.from_ndarray', type_params=None, args=['4380945522060672891'], kwargs=None), '6413173849436625359': CallNode(function='NDArrayCompat.to_ndarray', type_params=None, args=['-4853504951318587629'], kwargs=None), '-1607582274107717092': PrimitiveNode(type=\"<class 'metadsl.typing_tools.BoundInfer'>\", repr='BoundInfer(fn=<function Maybe.just at 0x103f71d08>, wrapper=<function wrapper at 0x103f51048>, owner=metadsl_core.maybe.Maybe[metadsl_core.numpy.NDArray], is_classmethod=True)'), '-6439115598738963142': CallNode(function='Abstraction.from_fn', type_params=None, args=['-1607582274107717092'], kwargs=None), '6353920595340994400': CallNode(function='metadsl_core.abstraction.Abstraction[metadsl_core.numpy.NDArray, metadsl_core.maybe.Maybe[metadsl_core.numpy.NDArray]].__add__', type_params={'~U': DeclaredTypeInstance(type=\"<class 'metadsl_core.maybe.Maybe'>\", params={'~T': DeclaredTypeInstance(type='None', params=None)}), '~T': DeclaredTypeInstance(type='None', params=None)}, args=['-6439115598738963142', '1439211364568782376'], kwargs=None), '-8944468086341680881': CallNode(function='metadsl_core.maybe.Maybe[metadsl_core.integer.Integer].match', type_params={'~T': DeclaredTypeInstance(type='None', params=None)}, args=['-8670931767362243241', '-5799366330510475334', '6353920595340994400'], kwargs=None), '2114229562290604220': CallNode(function='NDArrayCompat.from_ndarray', type_params=None, args=['-8944468086341680881'], kwargs=None), '-4918430761008789601': CallNode(function='NDArrayCompat.__add__', type_params=None, args=['2114229562290604220', '-1308169198235884699'], kwargs=None), '-1380341197269524598': CallNode(function='metadsl_core.conversion.Converter[metadsl_core.numpy.NDArray].convert', type_params={'~T': DeclaredTypeInstance(type='None', params=None)}, args=['-4918430761008789601'], kwargs=None), '7522700098114692017': CallNode(function='metadsl_core.maybe.Maybe[metadsl_core.numpy.NDArray].__and__', type_params={'~T': DeclaredTypeInstance(type='None', params=None)}, args=['-1380341197269524598', '4328928153435006979'], kwargs=None), '1637469856755293584': CallNode(function='Maybe.match', type_params=None, args=['7522700098114692017', '-5799366330510475334', '-7477978994960775319'], kwargs=None), '-536003580891462585': CallNode(function='NDArrayCompat.from_ndarray', type_params=None, args=['1637469856755293584'], kwargs=None), '-4139213926396184803': CallNode(function='NDArrayCompat.to_ndarray', type_params=None, args=['-536003580891462585'], kwargs=None), '-1607582322431633092': PrimitiveNode(type=\"<class 'metadsl.typing_tools.BoundInfer'>\", repr='BoundInfer(fn=<function Maybe.just at 0x103f71d08>, wrapper=<function wrapper at 0x103f51048>, owner=metadsl_core.maybe.Maybe[metadsl_core.numpy.NDArray], is_classmethod=True)'), '5552321182852822152': CallNode(function='Abstraction.from_fn', type_params=None, args=['-1607582322431633092'], kwargs=None), '947082553317848996': CallNode(function='metadsl_core.abstraction.Abstraction[metadsl_core.numpy.NDArray, metadsl_core.maybe.Maybe[metadsl_core.numpy.NDArray]].__add__', type_params={'~U': DeclaredTypeInstance(type=\"<class 'metadsl_core.maybe.Maybe'>\", params={'~T': DeclaredTypeInstance(type='None', params=None)}), '~T': DeclaredTypeInstance(type='None', params=None)}, args=['5552321182852822152', '1439211364568782376'], kwargs=None), '3243639618497304043': CallNode(function='metadsl_core.abstraction.Abstraction[metadsl_core.integer.Integer, metadsl_core.maybe.Maybe[metadsl_core.numpy.NDArray]].__call__', type_params={'~U': DeclaredTypeInstance(type=\"<class 'metadsl_core.maybe.Maybe'>\", params={'~T': DeclaredTypeInstance(type='None', params=None)}), '~T': DeclaredTypeInstance(type='None', params=None)}, args=['947082553317848996', '8477142063027611003'], kwargs=None), '7723002838021551761': CallNode(function='NDArrayCompat.from_ndarray', type_params=None, args=['3243639618497304043'], kwargs=None), '3117419148563638277': CallNode(function='NDArrayCompat.__add__', type_params=None, args=['7723002838021551761', '-1308169198235884699'], kwargs=None), '3656583453314743723': CallNode(function='metadsl_core.conversion.Converter[metadsl_core.numpy.NDArray].convert', type_params={'~T': DeclaredTypeInstance(type='None', params=None)}, args=['3117419148563638277'], kwargs=None), '936713106891147872': CallNode(function='metadsl_core.maybe.Maybe[metadsl_core.numpy.NDArray].__and__', type_params={'~T': DeclaredTypeInstance(type='None', params=None)}, args=['3656583453314743723', '4328928153435006979'], kwargs=None), '8056940863934102961': CallNode(function='Maybe.match', type_params=None, args=['936713106891147872', '-5799366330510475334', '-7477978994960775319'], kwargs=None), '-2788126439818582918': CallNode(function='NDArrayCompat.from_ndarray', type_params=None, args=['8056940863934102961'], kwargs=None), '-7369005454185949690': CallNode(function='NDArrayCompat.to_ndarray', type_params=None, args=['-2788126439818582918'], kwargs=None), '-7750133753589636709': PrimitiveNode(type=\"<class 'metadsl_core.abstraction.Variable'>\", repr='Variable(4541227416)'), '1808593692020796655': CallNode(function='metadsl_core.abstraction.Abstraction[metadsl_core.numpy.NDArray, metadsl_core.maybe.Maybe[metadsl_core.numpy.NDArray]].create_variable', type_params={'~U': DeclaredTypeInstance(type=\"<class 'metadsl_core.maybe.Maybe'>\", params={'~T': DeclaredTypeInstance(type='None', params=None)}), '~T': DeclaredTypeInstance(type='None', params=None)}, args=['-7750133753589636709'], kwargs=None), '74136777816683319': CallNode(function='metadsl_core.maybe.Maybe[metadsl_core.numpy.NDArray].just', type_params={'~T': DeclaredTypeInstance(type='None', params=None)}, args=['1808593692020796655'], kwargs=None), '5102478036410264112': CallNode(function='metadsl_core.abstraction.Abstraction[metadsl_core.numpy.NDArray, metadsl_core.maybe.Maybe[metadsl_core.numpy.NDArray]].create', type_params={'~U': DeclaredTypeInstance(type=\"<class 'metadsl_core.maybe.Maybe'>\", params={'~T': DeclaredTypeInstance(type='None', params=None)}), '~T': DeclaredTypeInstance(type='None', params=None)}, args=['1808593692020796655', '74136777816683319'], kwargs=None), '-7511051066897033045': CallNode(function='metadsl_core.abstraction.Abstraction[metadsl_core.numpy.NDArray, metadsl_core.maybe.Maybe[metadsl_core.numpy.NDArray]].__add__', type_params={'~U': DeclaredTypeInstance(type=\"<class 'metadsl_core.maybe.Maybe'>\", params={'~T': DeclaredTypeInstance(type='None', params=None)}), '~T': DeclaredTypeInstance(type='None', params=None)}, args=['5102478036410264112', '1439211364568782376'], kwargs=None), '3957110674231360067': CallNode(function='metadsl_core.abstraction.Abstraction[metadsl_core.integer.Integer, metadsl_core.maybe.Maybe[metadsl_core.numpy.NDArray]].__call__', type_params={'~U': DeclaredTypeInstance(type=\"<class 'metadsl_core.maybe.Maybe'>\", params={'~T': DeclaredTypeInstance(type='None', params=None)}), '~T': DeclaredTypeInstance(type='None', params=None)}, args=['-7511051066897033045', '8477142063027611003'], kwargs=None), '4527329981617562445': CallNode(function='NDArrayCompat.from_ndarray', type_params=None, args=['3957110674231360067'], kwargs=None), '-4161764246954012390': CallNode(function='NDArrayCompat.__add__', type_params=None, args=['4527329981617562445', '-1308169198235884699'], kwargs=None), '7841508609295140449': CallNode(function='metadsl_core.conversion.Converter[metadsl_core.numpy.NDArray].convert', type_params={'~T': DeclaredTypeInstance(type='None', params=None)}, args=['-4161764246954012390'], kwargs=None), '4335277966739166360': CallNode(function='metadsl_core.maybe.Maybe[metadsl_core.numpy.NDArray].__and__', type_params={'~T': DeclaredTypeInstance(type='None', params=None)}, args=['7841508609295140449', '4328928153435006979'], kwargs=None), '3162753530455697139': CallNode(function='Maybe.match', type_params=None, args=['4335277966739166360', '-5799366330510475334', '-7477978994960775319'], kwargs=None), '1783424724260451122': CallNode(function='NDArrayCompat.from_ndarray', type_params=None, args=['3162753530455697139'], kwargs=None), '5098380273218132870': CallNode(function='NDArrayCompat.to_ndarray', type_params=None, args=['1783424724260451122'], kwargs=None), '-7750133747417079159': PrimitiveNode(type=\"<class 'metadsl_core.abstraction.Variable'>\", repr='Variable(4541138424)'), '931419706256744064': CallNode(function='metadsl_core.abstraction.Abstraction[metadsl_core.integer.Integer, metadsl_core.numpy.NDArray].create_variable', type_params={'~U': DeclaredTypeInstance(type='None', params=None), '~T': DeclaredTypeInstance(type='None', params=None)}, args=['-7750133747417079159'], kwargs=None), '-6211872709800531426': CallNode(function='arange_', type_params=None, args=['931419706256744064'], kwargs=None), '-1673807843254666857': CallNode(function='metadsl_core.abstraction.Abstraction[metadsl_core.integer.Integer, metadsl_core.numpy.NDArray].create', type_params={'~U': DeclaredTypeInstance(type='None', params=None), '~T': DeclaredTypeInstance(type='None', params=None)}, args=['931419706256744064', '-6211872709800531426'], kwargs=None), '-2170860302900065182': CallNode(function='metadsl_core.abstraction.Abstraction[metadsl_core.numpy.NDArray, metadsl_core.maybe.Maybe[metadsl_core.numpy.NDArray]].__add__', type_params={'~U': DeclaredTypeInstance(type=\"<class 'metadsl_core.maybe.Maybe'>\", params={'~T': DeclaredTypeInstance(type='None', params=None)}), '~T': DeclaredTypeInstance(type='None', params=None)}, args=['5102478036410264112', '-1673807843254666857'], kwargs=None), '5926688084004721991': CallNode(function='metadsl_core.abstraction.Abstraction[metadsl_core.integer.Integer, metadsl_core.maybe.Maybe[metadsl_core.numpy.NDArray]].__call__', type_params={'~U': DeclaredTypeInstance(type=\"<class 'metadsl_core.maybe.Maybe'>\", params={'~T': DeclaredTypeInstance(type='None', params=None)}), '~T': DeclaredTypeInstance(type='None', params=None)}, args=['-2170860302900065182', '8477142063027611003'], kwargs=None), '1858756597262811621': CallNode(function='NDArrayCompat.from_ndarray', type_params=None, args=['5926688084004721991'], kwargs=None), '2219043011292674972': CallNode(function='NDArrayCompat.__add__', type_params=None, args=['1858756597262811621', '-1308169198235884699'], kwargs=None), '-6910765976860442840': CallNode(function='metadsl_core.conversion.Converter[metadsl_core.numpy.NDArray].convert', type_params={'~T': DeclaredTypeInstance(type='None', params=None)}, args=['2219043011292674972'], kwargs=None), '2961056522713775846': CallNode(function='metadsl_core.maybe.Maybe[metadsl_core.numpy.NDArray].__and__', type_params={'~T': DeclaredTypeInstance(type='None', params=None)}, args=['-6910765976860442840', '4328928153435006979'], kwargs=None), '3531862033796360837': CallNode(function='Maybe.match', type_params=None, args=['2961056522713775846', '-5799366330510475334', '-7477978994960775319'], kwargs=None), '-3030593872564034905': CallNode(function='NDArrayCompat.from_ndarray', type_params=None, args=['3531862033796360837'], kwargs=None), '4326243548356845196': CallNode(function='NDArrayCompat.to_ndarray', type_params=None, args=['-3030593872564034905'], kwargs=None), '-2191279762611742384': CallNode(function='metadsl_core.maybe.Maybe[metadsl_core.numpy.NDArray].just', type_params={'~T': DeclaredTypeInstance(type='None', params=None)}, args=['-6211872709800531426'], kwargs=None), '1555094257984242149': CallNode(function='Abstraction.create', type_params=None, args=['931419706256744064', '-2191279762611742384'], kwargs=None), '-5783354771919970542': CallNode(function='metadsl_core.abstraction.Abstraction[metadsl_core.integer.Integer, metadsl_core.maybe.Maybe[metadsl_core.numpy.NDArray]].__call__', type_params={'~U': DeclaredTypeInstance(type=\"<class 'metadsl_core.maybe.Maybe'>\", params={'~T': DeclaredTypeInstance(type='None', params=None)}), '~T': DeclaredTypeInstance(type='None', params=None)}, args=['1555094257984242149', '8477142063027611003'], kwargs=None), '7248684319633093972': CallNode(function='NDArrayCompat.from_ndarray', type_params=None, args=['-5783354771919970542'], kwargs=None), '-4555559504509008674': CallNode(function='NDArrayCompat.__add__', type_params=None, args=['7248684319633093972', '-1308169198235884699'], kwargs=None), '6851130839260865156': CallNode(function='metadsl_core.conversion.Converter[metadsl_core.numpy.NDArray].convert', type_params={'~T': DeclaredTypeInstance(type='None', params=None)}, args=['-4555559504509008674'], kwargs=None), '6213749376556673089': CallNode(function='metadsl_core.maybe.Maybe[metadsl_core.numpy.NDArray].__and__', type_params={'~T': DeclaredTypeInstance(type='None', params=None)}, args=['6851130839260865156', '4328928153435006979'], kwargs=None), '-582153245705112070': CallNode(function='Maybe.match', type_params=None, args=['6213749376556673089', '-5799366330510475334', '-7477978994960775319'], kwargs=None), '-1569724923194123044': CallNode(function='NDArrayCompat.from_ndarray', type_params=None, args=['-582153245705112070'], kwargs=None), '-3957586501688992548': CallNode(function='NDArrayCompat.to_ndarray', type_params=None, args=['-1569724923194123044'], kwargs=None), '8978106986500244405': CallNode(function='arange_', type_params=None, args=['8477142063027611003'], kwargs=None), '-5050760724141581212': CallNode(function='metadsl_core.maybe.Maybe[metadsl_core.numpy.NDArray].just', type_params={'~T': DeclaredTypeInstance(type='None', params=None)}, args=['8978106986500244405'], kwargs=None), '901951854771457488': CallNode(function='NDArrayCompat.from_ndarray', type_params=None, args=['-5050760724141581212'], kwargs=None), '5640951755693734811': CallNode(function='NDArrayCompat.__add__', type_params=None, args=['901951854771457488', '-1308169198235884699'], kwargs=None), '4495956556882762840': CallNode(function='metadsl_core.conversion.Converter[metadsl_core.numpy.NDArray].convert', type_params={'~T': DeclaredTypeInstance(type='None', params=None)}, args=['5640951755693734811'], kwargs=None), '2210254085416347127': CallNode(function='metadsl_core.maybe.Maybe[metadsl_core.numpy.NDArray].__and__', type_params={'~T': DeclaredTypeInstance(type='None', params=None)}, args=['4495956556882762840', '4328928153435006979'], kwargs=None), '2453914356025722109': CallNode(function='Maybe.match', type_params=None, args=['2210254085416347127', '-5799366330510475334', '-7477978994960775319'], kwargs=None), '-6354610349446788800': CallNode(function='NDArrayCompat.from_ndarray', type_params=None, args=['2453914356025722109'], kwargs=None), '4950136698486422878': CallNode(function='NDArrayCompat.to_ndarray', type_params=None, args=['-6354610349446788800'], kwargs=None), '-1607582507630010092': PrimitiveNode(type=\"<class 'metadsl.typing_tools.BoundInfer'>\", repr='BoundInfer(fn=<function Maybe.just at 0x103f71d08>, wrapper=<function wrapper at 0x103f51048>, owner=metadsl_core.maybe.Maybe[metadsl_core.numpy.NDArray], is_classmethod=True)'), '1172141488411232674': CallNode(function='Abstraction.from_fn', type_params=None, args=['-1607582507630010092'], kwargs=None), '-4664064062598619867': CallNode(function='metadsl_core.abstraction.Abstraction[metadsl_core.numpy.NDArray, metadsl_core.maybe.Maybe[metadsl_core.numpy.NDArray]].__add__', type_params={'~U': DeclaredTypeInstance(type=\"<class 'metadsl_core.maybe.Maybe'>\", params={'~T': DeclaredTypeInstance(type='None', params=None)}), '~T': DeclaredTypeInstance(type='None', params=None)}, args=['1172141488411232674', '1439211364568782376'], kwargs=None), '7206904151723123625': CallNode(function='metadsl_core.maybe.Maybe[metadsl_core.integer.Integer].match', type_params={'~T': DeclaredTypeInstance(type='None', params=None)}, args=['-8670931767362243241', '-5799366330510475334', '-4664064062598619867'], kwargs=None), '-8895309082917183061': CallNode(function='NDArrayCompat.from_ndarray', type_params=None, args=['7206904151723123625'], kwargs=None), '-7266548315128234296': CallNode(function='NDArrayCompat.__add__', type_params=None, args=['901951854771457488', '-8895309082917183061'], kwargs=None), '-6095152402170247054': CallNode(function='metadsl_core.conversion.Converter[metadsl_core.numpy.NDArray].convert', type_params={'~T': DeclaredTypeInstance(type='None', params=None)}, args=['-7266548315128234296'], kwargs=None), '-845212762024293811': CallNode(function='metadsl_core.maybe.Maybe[metadsl_core.numpy.NDArray].__and__', type_params={'~T': DeclaredTypeInstance(type='None', params=None)}, args=['-6095152402170247054', '4328928153435006979'], kwargs=None), '4144809939029992796': CallNode(function='Maybe.match', type_params=None, args=['-845212762024293811', '-5799366330510475334', '-7477978994960775319'], kwargs=None), '3991979255121681613': CallNode(function='NDArrayCompat.from_ndarray', type_params=None, args=['4144809939029992796'], kwargs=None), '8278037961011866466': CallNode(function='NDArrayCompat.to_ndarray', type_params=None, args=['3991979255121681613'], kwargs=None), '-1607582695400466492': PrimitiveNode(type=\"<class 'metadsl.typing_tools.BoundInfer'>\", repr='BoundInfer(fn=<function Maybe.just at 0x103f71d08>, wrapper=<function wrapper at 0x103f51048>, owner=metadsl_core.maybe.Maybe[metadsl_core.numpy.NDArray], is_classmethod=True)'), '-1166254989436450066': CallNode(function='Abstraction.from_fn', type_params=None, args=['-1607582695400466492'], kwargs=None), '3128287608792530695': CallNode(function='metadsl_core.abstraction.Abstraction[metadsl_core.numpy.NDArray, metadsl_core.maybe.Maybe[metadsl_core.numpy.NDArray]].__add__', type_params={'~U': DeclaredTypeInstance(type=\"<class 'metadsl_core.maybe.Maybe'>\", params={'~T': DeclaredTypeInstance(type='None', params=None)}), '~T': DeclaredTypeInstance(type='None', params=None)}, args=['-1166254989436450066', '1439211364568782376'], kwargs=None), '-7324248834226409845': CallNode(function='metadsl_core.abstraction.Abstraction[metadsl_core.integer.Integer, metadsl_core.maybe.Maybe[metadsl_core.numpy.NDArray]].__call__', type_params={'~U': DeclaredTypeInstance(type=\"<class 'metadsl_core.maybe.Maybe'>\", params={'~T': DeclaredTypeInstance(type='None', params=None)}), '~T': DeclaredTypeInstance(type='None', params=None)}, args=['3128287608792530695', '8477142063027611003'], kwargs=None), '6258012183568072117': CallNode(function='NDArrayCompat.from_ndarray', type_params=None, args=['-7324248834226409845'], kwargs=None), '-2327018093481813258': CallNode(function='NDArrayCompat.__add__', type_params=None, args=['901951854771457488', '6258012183568072117'], kwargs=None), '5285543842702239874': CallNode(function='metadsl_core.conversion.Converter[metadsl_core.numpy.NDArray].convert', type_params={'~T': DeclaredTypeInstance(type='None', params=None)}, args=['-2327018093481813258'], kwargs=None), '-6302861790931796041': CallNode(function='metadsl_core.maybe.Maybe[metadsl_core.numpy.NDArray].__and__', type_params={'~T': DeclaredTypeInstance(type='None', params=None)}, args=['5285543842702239874', '4328928153435006979'], kwargs=None), '-9115157532034853779': CallNode(function='Maybe.match', type_params=None, args=['-6302861790931796041', '-5799366330510475334', '-7477978994960775319'], kwargs=None), '-6601580080006815914': CallNode(function='NDArrayCompat.from_ndarray', type_params=None, args=['-9115157532034853779'], kwargs=None), '8838517083665952515': CallNode(function='NDArrayCompat.to_ndarray', type_params=None, args=['-6601580080006815914'], kwargs=None), '-7750133662280818009': PrimitiveNode(type=\"<class 'metadsl_core.abstraction.Variable'>\", repr='Variable(4541454936)'), '-5631475467245446851': CallNode(function='metadsl_core.abstraction.Abstraction[metadsl_core.numpy.NDArray, metadsl_core.maybe.Maybe[metadsl_core.numpy.NDArray]].create_variable', type_params={'~U': DeclaredTypeInstance(type=\"<class 'metadsl_core.maybe.Maybe'>\", params={'~T': DeclaredTypeInstance(type='None', params=None)}), '~T': DeclaredTypeInstance(type='None', params=None)}, args=['-7750133662280818009'], kwargs=None), '-5024623823782632329': CallNode(function='metadsl_core.maybe.Maybe[metadsl_core.numpy.NDArray].just', type_params={'~T': DeclaredTypeInstance(type='None', params=None)}, args=['-5631475467245446851'], kwargs=None), '8529567687718499854': CallNode(function='metadsl_core.abstraction.Abstraction[metadsl_core.numpy.NDArray, metadsl_core.maybe.Maybe[metadsl_core.numpy.NDArray]].create', type_params={'~U': DeclaredTypeInstance(type=\"<class 'metadsl_core.maybe.Maybe'>\", params={'~T': DeclaredTypeInstance(type='None', params=None)}), '~T': DeclaredTypeInstance(type='None', params=None)}, args=['-5631475467245446851', '-5024623823782632329'], kwargs=None), '1971584677283386469': CallNode(function='metadsl_core.abstraction.Abstraction[metadsl_core.numpy.NDArray, metadsl_core.maybe.Maybe[metadsl_core.numpy.NDArray]].__add__', type_params={'~U': DeclaredTypeInstance(type=\"<class 'metadsl_core.maybe.Maybe'>\", params={'~T': DeclaredTypeInstance(type='None', params=None)}), '~T': DeclaredTypeInstance(type='None', params=None)}, args=['8529567687718499854', '1439211364568782376'], kwargs=None), '-4032172086277843621': CallNode(function='metadsl_core.abstraction.Abstraction[metadsl_core.integer.Integer, metadsl_core.maybe.Maybe[metadsl_core.numpy.NDArray]].__call__', type_params={'~U': DeclaredTypeInstance(type=\"<class 'metadsl_core.maybe.Maybe'>\", params={'~T': DeclaredTypeInstance(type='None', params=None)}), '~T': DeclaredTypeInstance(type='None', params=None)}, args=['1971584677283386469', '8477142063027611003'], kwargs=None), '-2089317743506400581': CallNode(function='NDArrayCompat.from_ndarray', type_params=None, args=['-4032172086277843621'], kwargs=None), '-841062474213216563': CallNode(function='NDArrayCompat.__add__', type_params=None, args=['901951854771457488', '-2089317743506400581'], kwargs=None), '5456872766239707982': CallNode(function='metadsl_core.conversion.Converter[metadsl_core.numpy.NDArray].convert', type_params={'~T': DeclaredTypeInstance(type='None', params=None)}, args=['-841062474213216563'], kwargs=None), '9194899104411129050': CallNode(function='metadsl_core.maybe.Maybe[metadsl_core.numpy.NDArray].__and__', type_params={'~T': DeclaredTypeInstance(type='None', params=None)}, args=['5456872766239707982', '4328928153435006979'], kwargs=None), '1393186743476143763': CallNode(function='Maybe.match', type_params=None, args=['9194899104411129050', '-5799366330510475334', '-7477978994960775319'], kwargs=None), '6212999931602779557': CallNode(function='NDArrayCompat.from_ndarray', type_params=None, args=['1393186743476143763'], kwargs=None), '-4560365066131255718': CallNode(function='NDArrayCompat.to_ndarray', type_params=None, args=['6212999931602779557'], kwargs=None), '-7750133655943716659': PrimitiveNode(type=\"<class 'metadsl_core.abstraction.Variable'>\", repr='Variable(4541621304)'), '-7310815994323534430': CallNode(function='metadsl_core.abstraction.Abstraction[metadsl_core.integer.Integer, metadsl_core.numpy.NDArray].create_variable', type_params={'~U': DeclaredTypeInstance(type='None', params=None), '~T': DeclaredTypeInstance(type='None', params=None)}, args=['-7750133655943716659'], kwargs=None), '-164719936505841084': CallNode(function='arange_', type_params=None, args=['-7310815994323534430'], kwargs=None), '5925678572987997446': CallNode(function='metadsl_core.abstraction.Abstraction[metadsl_core.integer.Integer, metadsl_core.numpy.NDArray].create', type_params={'~U': DeclaredTypeInstance(type='None', params=None), '~T': DeclaredTypeInstance(type='None', params=None)}, args=['-7310815994323534430', '-164719936505841084'], kwargs=None), '5962540824467823416': CallNode(function='metadsl_core.abstraction.Abstraction[metadsl_core.numpy.NDArray, metadsl_core.maybe.Maybe[metadsl_core.numpy.NDArray]].__add__', type_params={'~U': DeclaredTypeInstance(type=\"<class 'metadsl_core.maybe.Maybe'>\", params={'~T': DeclaredTypeInstance(type='None', params=None)}), '~T': DeclaredTypeInstance(type='None', params=None)}, args=['8529567687718499854', '5925678572987997446'], kwargs=None), '2613358963466691751': CallNode(function='metadsl_core.abstraction.Abstraction[metadsl_core.integer.Integer, metadsl_core.maybe.Maybe[metadsl_core.numpy.NDArray]].__call__', type_params={'~U': DeclaredTypeInstance(type=\"<class 'metadsl_core.maybe.Maybe'>\", params={'~T': DeclaredTypeInstance(type='None', params=None)}), '~T': DeclaredTypeInstance(type='None', params=None)}, args=['5962540824467823416', '8477142063027611003'], kwargs=None), '-7468150654374214583': CallNode(function='NDArrayCompat.from_ndarray', type_params=None, args=['2613358963466691751'], kwargs=None), '-688369611984602878': CallNode(function='NDArrayCompat.__add__', type_params=None, args=['901951854771457488', '-7468150654374214583'], kwargs=None), '499212879731562402': CallNode(function='metadsl_core.conversion.Converter[metadsl_core.numpy.NDArray].convert', type_params={'~T': DeclaredTypeInstance(type='None', params=None)}, args=['-688369611984602878'], kwargs=None), '-3024461076239560059': CallNode(function='metadsl_core.maybe.Maybe[metadsl_core.numpy.NDArray].__and__', type_params={'~T': DeclaredTypeInstance(type='None', params=None)}, args=['499212879731562402', '4328928153435006979'], kwargs=None), '-84181335953093332': CallNode(function='Maybe.match', type_params=None, args=['-3024461076239560059', '-5799366330510475334', '-7477978994960775319'], kwargs=None), '1103515497677217915': CallNode(function='NDArrayCompat.from_ndarray', type_params=None, args=['-84181335953093332'], kwargs=None), '5805233601970670215': CallNode(function='NDArrayCompat.to_ndarray', type_params=None, args=['1103515497677217915'], kwargs=None), '3432288373988719119': CallNode(function='metadsl_core.maybe.Maybe[metadsl_core.numpy.NDArray].just', type_params={'~T': DeclaredTypeInstance(type='None', params=None)}, args=['-164719936505841084'], kwargs=None), '-8177303076573147965': CallNode(function='Abstraction.create', type_params=None, args=['-7310815994323534430', '3432288373988719119'], kwargs=None), '-5460597511722792571': CallNode(function='metadsl_core.abstraction.Abstraction[metadsl_core.integer.Integer, metadsl_core.maybe.Maybe[metadsl_core.numpy.NDArray]].__call__', type_params={'~U': DeclaredTypeInstance(type=\"<class 'metadsl_core.maybe.Maybe'>\", params={'~T': DeclaredTypeInstance(type='None', params=None)}), '~T': DeclaredTypeInstance(type='None', params=None)}, args=['-8177303076573147965', '8477142063027611003'], kwargs=None), '9169436713849586569': CallNode(function='NDArrayCompat.from_ndarray', type_params=None, args=['-5460597511722792571'], kwargs=None), '-5988540011959434746': CallNode(function='NDArrayCompat.__add__', type_params=None, args=['901951854771457488', '9169436713849586569'], kwargs=None), '5908187370580466859': CallNode(function='metadsl_core.conversion.Converter[metadsl_core.numpy.NDArray].convert', type_params={'~T': DeclaredTypeInstance(type='None', params=None)}, args=['-5988540011959434746'], kwargs=None), '6401979815125174816': CallNode(function='metadsl_core.maybe.Maybe[metadsl_core.numpy.NDArray].__and__', type_params={'~T': DeclaredTypeInstance(type='None', params=None)}, args=['5908187370580466859', '4328928153435006979'], kwargs=None), '-4639000439328824203': CallNode(function='Maybe.match', type_params=None, args=['6401979815125174816', '-5799366330510475334', '-7477978994960775319'], kwargs=None), '-5340023998310075949': CallNode(function='NDArrayCompat.from_ndarray', type_params=None, args=['-4639000439328824203'], kwargs=None), '6162747097381933116': CallNode(function='NDArrayCompat.to_ndarray', type_params=None, args=['-5340023998310075949'], kwargs=None), '6704341838587835888': CallNode(function='NDArrayCompat.__add__', type_params=None, args=['901951854771457488', '901951854771457488'], kwargs=None), '-6306696308265840314': CallNode(function='metadsl_core.conversion.Converter[metadsl_core.numpy.NDArray].convert', type_params={'~T': DeclaredTypeInstance(type='None', params=None)}, args=['6704341838587835888'], kwargs=None), '-5181703610755471228': CallNode(function='metadsl_core.maybe.Maybe[metadsl_core.numpy.NDArray].__and__', type_params={'~T': DeclaredTypeInstance(type='None', params=None)}, args=['-6306696308265840314', '4328928153435006979'], kwargs=None), '-1890841807323858431': CallNode(function='Maybe.match', type_params=None, args=['-5181703610755471228', '-5799366330510475334', '-7477978994960775319'], kwargs=None), '1506777295826759292': CallNode(function='NDArrayCompat.from_ndarray', type_params=None, args=['-1890841807323858431'], kwargs=None), '1446255895134801527': CallNode(function='NDArrayCompat.to_ndarray', type_params=None, args=['1506777295826759292'], kwargs=None), '5921660491540268460': CallNode(function='metadsl_core.maybe.Maybe[metadsl_core.either.Either[metadsl_core.integer.Integer, metadsl_core.vec.Vec[metadsl_core.integer.Integer]]].nothing', type_params={'~T': DeclaredTypeInstance(type=\"<class 'metadsl_core.either.Either'>\", params={'~U': DeclaredTypeInstance(type=\"<class 'metadsl_core.vec.Vec'>\", params={'~T': DeclaredTypeInstance(type='None', params=None)}), '~T': DeclaredTypeInstance(type='None', params=None)})}, args=None, kwargs=None), '-1607582775368753292': PrimitiveNode(type=\"<class 'metadsl.typing_tools.BoundInfer'>\", repr='BoundInfer(fn=<function Maybe.just at 0x103f71d08>, wrapper=<function wrapper at 0x103f51048>, owner=metadsl_core.maybe.Maybe[metadsl_core.either.Either[metadsl_core.integer.Integer, metadsl_core.vec.Vec[metadsl_core.integer.Integer]]], is_classmethod=True)'), '4185942570325936474': CallNode(function='Abstraction.from_fn', type_params=None, args=['-1607582775368753292'], kwargs=None), '-1607582783925030892': PrimitiveNode(type=\"<class 'metadsl.typing_tools.BoundInfer'>\", repr='BoundInfer(fn=<function Either.left at 0x103f8d158>, wrapper=<function wrapper at 0x103f51048>, owner=metadsl_core.either.Either[metadsl_core.integer.Integer, metadsl_core.vec.Vec[metadsl_core.integer.Integer]], is_classmethod=True)'), '4883582262400259958': CallNode(function='Abstraction.from_fn', type_params=None, args=['-1607582783925030892'], kwargs=None), '-1515850010960577075': CallNode(function='metadsl_core.abstraction.Abstraction[metadsl_core.either.Either[metadsl_core.integer.Integer, metadsl_core.vec.Vec[metadsl_core.integer.Integer]], metadsl_core.maybe.Maybe[metadsl_core.either.Either[metadsl_core.integer.Integer, metadsl_core.vec.Vec[metadsl_core.integer.Integer]]]].__add__', type_params={'~U': DeclaredTypeInstance(type=\"<class 'metadsl_core.maybe.Maybe'>\", params={'~T': DeclaredTypeInstance(type=\"<class 'metadsl_core.either.Either'>\", params={'~U': DeclaredTypeInstance(type=\"<class 'metadsl_core.vec.Vec'>\", params={'~T': DeclaredTypeInstance(type='None', params=None)}), '~T': DeclaredTypeInstance(type='None', params=None)})}), '~T': DeclaredTypeInstance(type=\"<class 'metadsl_core.either.Either'>\", params={'~U': DeclaredTypeInstance(type=\"<class 'metadsl_core.vec.Vec'>\", params={'~T': DeclaredTypeInstance(type='None', params=None)}), '~T': DeclaredTypeInstance(type='None', params=None)})}, args=['4185942570325936474', '4883582262400259958'], kwargs=None), '-8504930468684409565': CallNode(function='metadsl_core.maybe.Maybe[metadsl_core.integer.Integer].match', type_params={'~T': DeclaredTypeInstance(type='None', params=None)}, args=['-1825639675481737058', '5921660491540268460', '-1515850010960577075'], kwargs=None), '5598890055333034651': CallNode(function='metadsl_core.maybe.Maybe[metadsl_core.either.Either[metadsl_core.integer.Integer, metadsl_core.vec.Vec[metadsl_core.integer.Integer]]].__or__', type_params={'~T': DeclaredTypeInstance(type=\"<class 'metadsl_core.either.Either'>\", params={'~U': DeclaredTypeInstance(type=\"<class 'metadsl_core.vec.Vec'>\", params={'~T': DeclaredTypeInstance(type='None', params=None)}), '~T': DeclaredTypeInstance(type='None', params=None)})}, args=['-8504930468684409565', '7110260842223528479'], kwargs=None), '-7435878749370100561': CallNode(function='metadsl_core.maybe.Maybe[metadsl_core.numpy.NDArray].__and__', type_params={'~T': DeclaredTypeInstance(type='None', params=None)}, args=['-6306696308265840314', '5598890055333034651'], kwargs=None), '9163343564326968323': CallNode(function='Maybe.match', type_params=None, args=['-7435878749370100561', '-5799366330510475334', '-7477978994960775319'], kwargs=None), '-5243188063172693235': CallNode(function='NDArrayCompat.from_ndarray', type_params=None, args=['9163343564326968323'], kwargs=None), '1121964476556409066': CallNode(function='NDArrayCompat.to_ndarray', type_params=None, args=['-5243188063172693235'], kwargs=None), '-1607582673853888892': PrimitiveNode(type=\"<class 'metadsl.typing_tools.BoundInfer'>\", repr='BoundInfer(fn=<function Maybe.just at 0x103f71d08>, wrapper=<function wrapper at 0x103f51048>, owner=metadsl_core.maybe.Maybe[metadsl_core.either.Either[metadsl_core.integer.Integer, metadsl_core.vec.Vec[metadsl_core.integer.Integer]]], is_classmethod=True)'), '5335607515346773011': CallNode(function='Abstraction.from_fn', type_params=None, args=['-1607582673853888892'], kwargs=None), '-1607582674884452692': PrimitiveNode(type=\"<class 'metadsl.typing_tools.BoundInfer'>\", repr='BoundInfer(fn=<function Either.left at 0x103f8d158>, wrapper=<function wrapper at 0x103f51048>, owner=metadsl_core.either.Either[metadsl_core.integer.Integer, metadsl_core.vec.Vec[metadsl_core.integer.Integer]], is_classmethod=True)'), '-6586937278371405921': CallNode(function='Abstraction.from_fn', type_params=None, args=['-1607582674884452692'], kwargs=None), '1648606417677201458': CallNode(function='metadsl_core.abstraction.Abstraction[metadsl_core.either.Either[metadsl_core.integer.Integer, metadsl_core.vec.Vec[metadsl_core.integer.Integer]], metadsl_core.maybe.Maybe[metadsl_core.either.Either[metadsl_core.integer.Integer, metadsl_core.vec.Vec[metadsl_core.integer.Integer]]]].__add__', type_params={'~U': DeclaredTypeInstance(type=\"<class 'metadsl_core.maybe.Maybe'>\", params={'~T': DeclaredTypeInstance(type=\"<class 'metadsl_core.either.Either'>\", params={'~U': DeclaredTypeInstance(type=\"<class 'metadsl_core.vec.Vec'>\", params={'~T': DeclaredTypeInstance(type='None', params=None)}), '~T': DeclaredTypeInstance(type='None', params=None)})}), '~T': DeclaredTypeInstance(type=\"<class 'metadsl_core.either.Either'>\", params={'~U': DeclaredTypeInstance(type=\"<class 'metadsl_core.vec.Vec'>\", params={'~T': DeclaredTypeInstance(type='None', params=None)}), '~T': DeclaredTypeInstance(type='None', params=None)})}, args=['5335607515346773011', '-6586937278371405921'], kwargs=None), '-4624752315182808163': CallNode(function='metadsl_core.abstraction.Abstraction[metadsl_core.integer.Integer, metadsl_core.maybe.Maybe[metadsl_core.either.Either[metadsl_core.integer.Integer, metadsl_core.vec.Vec[metadsl_core.integer.Integer]]]].__call__', type_params={'~U': DeclaredTypeInstance(type=\"<class 'metadsl_core.maybe.Maybe'>\", params={'~T': DeclaredTypeInstance(type=\"<class 'metadsl_core.either.Either'>\", params={'~U': DeclaredTypeInstance(type=\"<class 'metadsl_core.vec.Vec'>\", params={'~T': DeclaredTypeInstance(type='None', params=None)}), '~T': DeclaredTypeInstance(type='None', params=None)})}), '~T': DeclaredTypeInstance(type='None', params=None)}, args=['1648606417677201458', '7184966082362138670'], kwargs=None), '-54189134728044296': CallNode(function='metadsl_core.maybe.Maybe[metadsl_core.either.Either[metadsl_core.integer.Integer, metadsl_core.vec.Vec[metadsl_core.integer.Integer]]].__or__', type_params={'~T': DeclaredTypeInstance(type=\"<class 'metadsl_core.either.Either'>\", params={'~U': DeclaredTypeInstance(type=\"<class 'metadsl_core.vec.Vec'>\", params={'~T': DeclaredTypeInstance(type='None', params=None)}), '~T': DeclaredTypeInstance(type='None', params=None)})}, args=['-4624752315182808163', '7110260842223528479'], kwargs=None), '6958929918376508470': CallNode(function='metadsl_core.maybe.Maybe[metadsl_core.numpy.NDArray].__and__', type_params={'~T': DeclaredTypeInstance(type='None', params=None)}, args=['-6306696308265840314', '-54189134728044296'], kwargs=None), '-1617433012068254295': CallNode(function='Maybe.match', type_params=None, args=['6958929918376508470', '-5799366330510475334', '-7477978994960775319'], kwargs=None), '6402874878549973570': CallNode(function='NDArrayCompat.from_ndarray', type_params=None, args=['-1617433012068254295'], kwargs=None), '3401219268512331606': CallNode(function='NDArrayCompat.to_ndarray', type_params=None, args=['6402874878549973570'], kwargs=None), '1473238385366732049': PrimitiveNode(type=\"<class 'metadsl_core.abstraction.Variable'>\", repr='Variable(4541557616)'), '-1437577047752864531': CallNode(function='metadsl_core.abstraction.Abstraction[metadsl_core.either.Either[metadsl_core.integer.Integer, metadsl_core.vec.Vec[metadsl_core.integer.Integer]], metadsl_core.maybe.Maybe[metadsl_core.either.Either[metadsl_core.integer.Integer, metadsl_core.vec.Vec[metadsl_core.integer.Integer]]]].create_variable', type_params={'~U': DeclaredTypeInstance(type=\"<class 'metadsl_core.maybe.Maybe'>\", params={'~T': DeclaredTypeInstance(type=\"<class 'metadsl_core.either.Either'>\", params={'~U': DeclaredTypeInstance(type=\"<class 'metadsl_core.vec.Vec'>\", params={'~T': DeclaredTypeInstance(type='None', params=None)}), '~T': DeclaredTypeInstance(type='None', params=None)})}), '~T': DeclaredTypeInstance(type=\"<class 'metadsl_core.either.Either'>\", params={'~U': DeclaredTypeInstance(type=\"<class 'metadsl_core.vec.Vec'>\", params={'~T': DeclaredTypeInstance(type='None', params=None)}), '~T': DeclaredTypeInstance(type='None', params=None)})}, args=['1473238385366732049'], kwargs=None), '-3203634775850872767': CallNode(function='metadsl_core.maybe.Maybe[metadsl_core.either.Either[metadsl_core.integer.Integer, metadsl_core.vec.Vec[metadsl_core.integer.Integer]]].just', type_params={'~T': DeclaredTypeInstance(type=\"<class 'metadsl_core.either.Either'>\", params={'~U': DeclaredTypeInstance(type=\"<class 'metadsl_core.vec.Vec'>\", params={'~T': DeclaredTypeInstance(type='None', params=None)}), '~T': DeclaredTypeInstance(type='None', params=None)})}, args=['-1437577047752864531'], kwargs=None), '5024181987038222354': CallNode(function='metadsl_core.abstraction.Abstraction[metadsl_core.either.Either[metadsl_core.integer.Integer, metadsl_core.vec.Vec[metadsl_core.integer.Integer]], metadsl_core.maybe.Maybe[metadsl_core.either.Either[metadsl_core.integer.Integer, metadsl_core.vec.Vec[metadsl_core.integer.Integer]]]].create', type_params={'~U': DeclaredTypeInstance(type=\"<class 'metadsl_core.maybe.Maybe'>\", params={'~T': DeclaredTypeInstance(type=\"<class 'metadsl_core.either.Either'>\", params={'~U': DeclaredTypeInstance(type=\"<class 'metadsl_core.vec.Vec'>\", params={'~T': DeclaredTypeInstance(type='None', params=None)}), '~T': DeclaredTypeInstance(type='None', params=None)})}), '~T': DeclaredTypeInstance(type=\"<class 'metadsl_core.either.Either'>\", params={'~U': DeclaredTypeInstance(type=\"<class 'metadsl_core.vec.Vec'>\", params={'~T': DeclaredTypeInstance(type='None', params=None)}), '~T': DeclaredTypeInstance(type='None', params=None)})}, args=['-1437577047752864531', '-3203634775850872767'], kwargs=None), '-5740158896823527825': CallNode(function='metadsl_core.abstraction.Abstraction[metadsl_core.either.Either[metadsl_core.integer.Integer, metadsl_core.vec.Vec[metadsl_core.integer.Integer]], metadsl_core.maybe.Maybe[metadsl_core.either.Either[metadsl_core.integer.Integer, metadsl_core.vec.Vec[metadsl_core.integer.Integer]]]].__add__', type_params={'~U': DeclaredTypeInstance(type=\"<class 'metadsl_core.maybe.Maybe'>\", params={'~T': DeclaredTypeInstance(type=\"<class 'metadsl_core.either.Either'>\", params={'~U': DeclaredTypeInstance(type=\"<class 'metadsl_core.vec.Vec'>\", params={'~T': DeclaredTypeInstance(type='None', params=None)}), '~T': DeclaredTypeInstance(type='None', params=None)})}), '~T': DeclaredTypeInstance(type=\"<class 'metadsl_core.either.Either'>\", params={'~U': DeclaredTypeInstance(type=\"<class 'metadsl_core.vec.Vec'>\", params={'~T': DeclaredTypeInstance(type='None', params=None)}), '~T': DeclaredTypeInstance(type='None', params=None)})}, args=['5024181987038222354', '-6586937278371405921'], kwargs=None), '6400324216289340679': CallNode(function='metadsl_core.abstraction.Abstraction[metadsl_core.integer.Integer, metadsl_core.maybe.Maybe[metadsl_core.either.Either[metadsl_core.integer.Integer, metadsl_core.vec.Vec[metadsl_core.integer.Integer]]]].__call__', type_params={'~U': DeclaredTypeInstance(type=\"<class 'metadsl_core.maybe.Maybe'>\", params={'~T': DeclaredTypeInstance(type=\"<class 'metadsl_core.either.Either'>\", params={'~U': DeclaredTypeInstance(type=\"<class 'metadsl_core.vec.Vec'>\", params={'~T': DeclaredTypeInstance(type='None', params=None)}), '~T': DeclaredTypeInstance(type='None', params=None)})}), '~T': DeclaredTypeInstance(type='None', params=None)}, args=['-5740158896823527825', '7184966082362138670'], kwargs=None), '-2902201282976657465': CallNode(function='metadsl_core.maybe.Maybe[metadsl_core.either.Either[metadsl_core.integer.Integer, metadsl_core.vec.Vec[metadsl_core.integer.Integer]]].__or__', type_params={'~T': DeclaredTypeInstance(type=\"<class 'metadsl_core.either.Either'>\", params={'~U': DeclaredTypeInstance(type=\"<class 'metadsl_core.vec.Vec'>\", params={'~T': DeclaredTypeInstance(type='None', params=None)}), '~T': DeclaredTypeInstance(type='None', params=None)})}, args=['6400324216289340679', '7110260842223528479'], kwargs=None), '-5725154971015528234': CallNode(function='metadsl_core.maybe.Maybe[metadsl_core.numpy.NDArray].__and__', type_params={'~T': DeclaredTypeInstance(type='None', params=None)}, args=['-6306696308265840314', '-2902201282976657465'], kwargs=None), '-8675831871981970900': CallNode(function='Maybe.match', type_params=None, args=['-5725154971015528234', '-5799366330510475334', '-7477978994960775319'], kwargs=None), '1316979973259373120': CallNode(function='NDArrayCompat.from_ndarray', type_params=None, args=['-8675831871981970900'], kwargs=None), '2797020513921284672': CallNode(function='NDArrayCompat.to_ndarray', type_params=None, args=['1316979973259373120'], kwargs=None), '1473238385437096174': PrimitiveNode(type=\"<class 'metadsl_core.abstraction.Variable'>\", repr='Variable(4541558624)'), '-8990562706427671336': CallNode(function='metadsl_core.abstraction.Abstraction[metadsl_core.integer.Integer, metadsl_core.either.Either[metadsl_core.integer.Integer, metadsl_core.vec.Vec[metadsl_core.integer.Integer]]].create_variable', type_params={'~U': DeclaredTypeInstance(type=\"<class 'metadsl_core.either.Either'>\", params={'~U': DeclaredTypeInstance(type=\"<class 'metadsl_core.vec.Vec'>\", params={'~T': DeclaredTypeInstance(type='None', params=None)}), '~T': DeclaredTypeInstance(type='None', params=None)}), '~T': DeclaredTypeInstance(type='None', params=None)}, args=['1473238385437096174'], kwargs=None), '-3628695812954142248': CallNode(function='metadsl_core.either.Either[metadsl_core.integer.Integer, metadsl_core.vec.Vec[metadsl_core.integer.Integer]].left', type_params={'~U': DeclaredTypeInstance(type=\"<class 'metadsl_core.vec.Vec'>\", params={'~T': DeclaredTypeInstance(type='None', params=None)}), '~T': DeclaredTypeInstance(type='None', params=None)}, args=['-8990562706427671336'], kwargs=None), '-2709977355845321892': CallNode(function='metadsl_core.abstraction.Abstraction[metadsl_core.integer.Integer, metadsl_core.either.Either[metadsl_core.integer.Integer, metadsl_core.vec.Vec[metadsl_core.integer.Integer]]].create', type_params={'~U': DeclaredTypeInstance(type=\"<class 'metadsl_core.either.Either'>\", params={'~U': DeclaredTypeInstance(type=\"<class 'metadsl_core.vec.Vec'>\", params={'~T': DeclaredTypeInstance(type='None', params=None)}), '~T': DeclaredTypeInstance(type='None', params=None)}), '~T': DeclaredTypeInstance(type='None', params=None)}, args=['-8990562706427671336', '-3628695812954142248'], kwargs=None), '-8512928065898103158': CallNode(function='metadsl_core.abstraction.Abstraction[metadsl_core.either.Either[metadsl_core.integer.Integer, metadsl_core.vec.Vec[metadsl_core.integer.Integer]], metadsl_core.maybe.Maybe[metadsl_core.either.Either[metadsl_core.integer.Integer, metadsl_core.vec.Vec[metadsl_core.integer.Integer]]]].__add__', type_params={'~U': DeclaredTypeInstance(type=\"<class 'metadsl_core.maybe.Maybe'>\", params={'~T': DeclaredTypeInstance(type=\"<class 'metadsl_core.either.Either'>\", params={'~U': DeclaredTypeInstance(type=\"<class 'metadsl_core.vec.Vec'>\", params={'~T': DeclaredTypeInstance(type='None', params=None)}), '~T': DeclaredTypeInstance(type='None', params=None)})}), '~T': DeclaredTypeInstance(type=\"<class 'metadsl_core.either.Either'>\", params={'~U': DeclaredTypeInstance(type=\"<class 'metadsl_core.vec.Vec'>\", params={'~T': DeclaredTypeInstance(type='None', params=None)}), '~T': DeclaredTypeInstance(type='None', params=None)})}, args=['5024181987038222354', '-2709977355845321892'], kwargs=None), '-5923656131815051501': CallNode(function='metadsl_core.abstraction.Abstraction[metadsl_core.integer.Integer, metadsl_core.maybe.Maybe[metadsl_core.either.Either[metadsl_core.integer.Integer, metadsl_core.vec.Vec[metadsl_core.integer.Integer]]]].__call__', type_params={'~U': DeclaredTypeInstance(type=\"<class 'metadsl_core.maybe.Maybe'>\", params={'~T': DeclaredTypeInstance(type=\"<class 'metadsl_core.either.Either'>\", params={'~U': DeclaredTypeInstance(type=\"<class 'metadsl_core.vec.Vec'>\", params={'~T': DeclaredTypeInstance(type='None', params=None)}), '~T': DeclaredTypeInstance(type='None', params=None)})}), '~T': DeclaredTypeInstance(type='None', params=None)}, args=['-8512928065898103158', '7184966082362138670'], kwargs=None), '-1122689718890182828': CallNode(function='metadsl_core.maybe.Maybe[metadsl_core.either.Either[metadsl_core.integer.Integer, metadsl_core.vec.Vec[metadsl_core.integer.Integer]]].__or__', type_params={'~T': DeclaredTypeInstance(type=\"<class 'metadsl_core.either.Either'>\", params={'~U': DeclaredTypeInstance(type=\"<class 'metadsl_core.vec.Vec'>\", params={'~T': DeclaredTypeInstance(type='None', params=None)}), '~T': DeclaredTypeInstance(type='None', params=None)})}, args=['-5923656131815051501', '7110260842223528479'], kwargs=None), '1502454975205383795': CallNode(function='metadsl_core.maybe.Maybe[metadsl_core.numpy.NDArray].__and__', type_params={'~T': DeclaredTypeInstance(type='None', params=None)}, args=['-6306696308265840314', '-1122689718890182828'], kwargs=None), '-3362091527069260262': CallNode(function='Maybe.match', type_params=None, args=['1502454975205383795', '-5799366330510475334', '-7477978994960775319'], kwargs=None), '7018973077017144136': CallNode(function='NDArrayCompat.from_ndarray', type_params=None, args=['-3362091527069260262'], kwargs=None), '3325591963353805053': CallNode(function='NDArrayCompat.to_ndarray', type_params=None, args=['7018973077017144136'], kwargs=None), '4911082346213700237': CallNode(function='metadsl_core.maybe.Maybe[metadsl_core.either.Either[metadsl_core.integer.Integer, metadsl_core.vec.Vec[metadsl_core.integer.Integer]]].just', type_params={'~T': DeclaredTypeInstance(type=\"<class 'metadsl_core.either.Either'>\", params={'~U': DeclaredTypeInstance(type=\"<class 'metadsl_core.vec.Vec'>\", params={'~T': DeclaredTypeInstance(type='None', params=None)}), '~T': DeclaredTypeInstance(type='None', params=None)})}, args=['-3628695812954142248'], kwargs=None), '-2583547725721591347': CallNode(function='Abstraction.create', type_params=None, args=['-8990562706427671336', '4911082346213700237'], kwargs=None), '-6939958628224613632': CallNode(function='metadsl_core.abstraction.Abstraction[metadsl_core.integer.Integer, metadsl_core.maybe.Maybe[metadsl_core.either.Either[metadsl_core.integer.Integer, metadsl_core.vec.Vec[metadsl_core.integer.Integer]]]].__call__', type_params={'~U': DeclaredTypeInstance(type=\"<class 'metadsl_core.maybe.Maybe'>\", params={'~T': DeclaredTypeInstance(type=\"<class 'metadsl_core.either.Either'>\", params={'~U': DeclaredTypeInstance(type=\"<class 'metadsl_core.vec.Vec'>\", params={'~T': DeclaredTypeInstance(type='None', params=None)}), '~T': DeclaredTypeInstance(type='None', params=None)})}), '~T': DeclaredTypeInstance(type='None', params=None)}, args=['-2583547725721591347', '7184966082362138670'], kwargs=None), '-8190210044860058729': CallNode(function='metadsl_core.maybe.Maybe[metadsl_core.either.Either[metadsl_core.integer.Integer, metadsl_core.vec.Vec[metadsl_core.integer.Integer]]].__or__', type_params={'~T': DeclaredTypeInstance(type=\"<class 'metadsl_core.either.Either'>\", params={'~U': DeclaredTypeInstance(type=\"<class 'metadsl_core.vec.Vec'>\", params={'~T': DeclaredTypeInstance(type='None', params=None)}), '~T': DeclaredTypeInstance(type='None', params=None)})}, args=['-6939958628224613632', '7110260842223528479'], kwargs=None), '-9090364587801604048': CallNode(function='metadsl_core.maybe.Maybe[metadsl_core.numpy.NDArray].__and__', type_params={'~T': DeclaredTypeInstance(type='None', params=None)}, args=['-6306696308265840314', '-8190210044860058729'], kwargs=None), '-5455555505360549256': CallNode(function='Maybe.match', type_params=None, args=['-9090364587801604048', '-5799366330510475334', '-7477978994960775319'], kwargs=None), '-2963313882322249380': CallNode(function='NDArrayCompat.from_ndarray', type_params=None, args=['-5455555505360549256'], kwargs=None), '1604448709696662245': CallNode(function='NDArrayCompat.to_ndarray', type_params=None, args=['-2963313882322249380'], kwargs=None), '6138330199496762554': CallNode(function='metadsl_core.either.Either[metadsl_core.integer.Integer, metadsl_core.vec.Vec[metadsl_core.integer.Integer]].left', type_params={'~U': DeclaredTypeInstance(type=\"<class 'metadsl_core.vec.Vec'>\", params={'~T': DeclaredTypeInstance(type='None', params=None)}), '~T': DeclaredTypeInstance(type='None', params=None)}, args=['7184966082362138670'], kwargs=None), '-2322850183695214135': CallNode(function='metadsl_core.maybe.Maybe[metadsl_core.either.Either[metadsl_core.integer.Integer, metadsl_core.vec.Vec[metadsl_core.integer.Integer]]].just', type_params={'~T': DeclaredTypeInstance(type=\"<class 'metadsl_core.either.Either'>\", params={'~U': DeclaredTypeInstance(type=\"<class 'metadsl_core.vec.Vec'>\", params={'~T': DeclaredTypeInstance(type='None', params=None)}), '~T': DeclaredTypeInstance(type='None', params=None)})}, args=['6138330199496762554'], kwargs=None), '-1139168476585419968': CallNode(function='metadsl_core.maybe.Maybe[metadsl_core.either.Either[metadsl_core.integer.Integer, metadsl_core.vec.Vec[metadsl_core.integer.Integer]]].__or__', type_params={'~T': DeclaredTypeInstance(type=\"<class 'metadsl_core.either.Either'>\", params={'~U': DeclaredTypeInstance(type=\"<class 'metadsl_core.vec.Vec'>\", params={'~T': DeclaredTypeInstance(type='None', params=None)}), '~T': DeclaredTypeInstance(type='None', params=None)})}, args=['-2322850183695214135', '7110260842223528479'], kwargs=None), '-619774102914798480': CallNode(function='metadsl_core.maybe.Maybe[metadsl_core.numpy.NDArray].__and__', type_params={'~T': DeclaredTypeInstance(type='None', params=None)}, args=['-6306696308265840314', '-1139168476585419968'], kwargs=None), '-8605570651903629160': CallNode(function='Maybe.match', type_params=None, args=['-619774102914798480', '-5799366330510475334', '-7477978994960775319'], kwargs=None), '-552000072291059055': CallNode(function='NDArrayCompat.from_ndarray', type_params=None, args=['-8605570651903629160'], kwargs=None), '-5110737843845193322': CallNode(function='NDArrayCompat.to_ndarray', type_params=None, args=['-552000072291059055'], kwargs=None), '-8286627865775262960': CallNode(function='Maybe.just', type_params=None, args=['6138330199496762554'], kwargs=None), '-923260063906323973': CallNode(function='metadsl_core.maybe.Maybe[metadsl_core.numpy.NDArray].__and__', type_params={'~T': DeclaredTypeInstance(type='None', params=None)}, args=['-6306696308265840314', '-8286627865775262960'], kwargs=None), '-2177582755256329069': CallNode(function='Maybe.match', type_params=None, args=['-923260063906323973', '-5799366330510475334', '-7477978994960775319'], kwargs=None), '-6911017947402962927': CallNode(function='NDArrayCompat.from_ndarray', type_params=None, args=['-2177582755256329069'], kwargs=None), '-1431836062064850620': CallNode(function='NDArrayCompat.to_ndarray', type_params=None, args=['-6911017947402962927'], kwargs=None), '1473238391419129324': PrimitiveNode(type=\"<class 'metadsl_core.abstraction.Variable'>\", repr='Variable(4541728192)'), '-6518855418956150750': CallNode(function='metadsl_core.abstraction.Abstraction[metadsl_core.numpy.NDArray, metadsl_core.maybe.Maybe[metadsl_core.numpy.NDArray]].create_variable', type_params={'~U': DeclaredTypeInstance(type=\"<class 'metadsl_core.maybe.Maybe'>\", params={'~T': DeclaredTypeInstance(type='None', params=None)}), '~T': DeclaredTypeInstance(type='None', params=None)}, args=['1473238391419129324'], kwargs=None), '1814314549131140756': CallNode(function='metadsl_core.maybe.Maybe[metadsl_core.numpy.NDArray].just', type_params={'~T': DeclaredTypeInstance(type='None', params=None)}, args=['-6518855418956150750'], kwargs=None), '-1875854271945712492': CallNode(function='metadsl_core.abstraction.Abstraction[metadsl_core.numpy.NDArray, metadsl_core.maybe.Maybe[metadsl_core.numpy.NDArray]].create', type_params={'~U': DeclaredTypeInstance(type=\"<class 'metadsl_core.maybe.Maybe'>\", params={'~T': DeclaredTypeInstance(type='None', params=None)}), '~T': DeclaredTypeInstance(type='None', params=None)}, args=['-6518855418956150750', '1814314549131140756'], kwargs=None), '1783080233116463079': CallNode(function='metadsl_core.abstraction.Abstraction[metadsl_core.numpy.NDArray, metadsl_core.maybe.Maybe[metadsl_core.numpy.NDArray]].__add__', type_params={'~U': DeclaredTypeInstance(type=\"<class 'metadsl_core.maybe.Maybe'>\", params={'~T': DeclaredTypeInstance(type='None', params=None)}), '~T': DeclaredTypeInstance(type='None', params=None)}, args=['-1875854271945712492', '-1969797189182383914'], kwargs=None), '8206801104135139972': CallNode(function='Maybe.match', type_params=None, args=['-923260063906323973', '-5799366330510475334', '1783080233116463079'], kwargs=None), '4143265416574776555': CallNode(function='NDArrayCompat.from_ndarray', type_params=None, args=['8206801104135139972'], kwargs=None), '229943346460482358': CallNode(function='NDArrayCompat.to_ndarray', type_params=None, args=['4143265416574776555'], kwargs=None), '1473238351005223499': PrimitiveNode(type=\"<class 'metadsl_core.abstraction.Variable'>\", repr='Variable(4542065296)'), '-2652651998234565930': CallNode(function='metadsl_core.abstraction.Abstraction[metadsl_core.pair.Pair[metadsl_core.numpy.NDArray, metadsl_core.either.Either[metadsl_core.integer.Integer, metadsl_core.vec.Vec[metadsl_core.integer.Integer]]], metadsl_core.numpy.NDArray].create_variable', type_params={'~U': DeclaredTypeInstance(type='None', params=None), '~T': DeclaredTypeInstance(type=\"<class 'metadsl_core.pair.Pair'>\", params={'~U': DeclaredTypeInstance(type=\"<class 'metadsl_core.either.Either'>\", params={'~U': DeclaredTypeInstance(type=\"<class 'metadsl_core.vec.Vec'>\", params={'~T': DeclaredTypeInstance(type='None', params=None)}), '~T': DeclaredTypeInstance(type='None', params=None)}), '~T': DeclaredTypeInstance(type='None', params=None)})}, args=['1473238351005223499'], kwargs=None), '4201760305467767112': CallNode(function='metadsl_core.pair.Pair[metadsl_core.numpy.NDArray, metadsl_core.either.Either[metadsl_core.integer.Integer, metadsl_core.vec.Vec[metadsl_core.integer.Integer]]].left', type_params={'~U': DeclaredTypeInstance(type=\"<class 'metadsl_core.either.Either'>\", params={'~U': DeclaredTypeInstance(type=\"<class 'metadsl_core.vec.Vec'>\", params={'~T': DeclaredTypeInstance(type='None', params=None)}), '~T': DeclaredTypeInstance(type='None', params=None)}), '~T': DeclaredTypeInstance(type='None', params=None)}, args=['-2652651998234565930'], kwargs=None), '-1835028791362583836': CallNode(function='metadsl_core.pair.Pair[metadsl_core.numpy.NDArray, metadsl_core.either.Either[metadsl_core.integer.Integer, metadsl_core.vec.Vec[metadsl_core.integer.Integer]]].right', type_params={'~U': DeclaredTypeInstance(type=\"<class 'metadsl_core.either.Either'>\", params={'~U': DeclaredTypeInstance(type=\"<class 'metadsl_core.vec.Vec'>\", params={'~T': DeclaredTypeInstance(type='None', params=None)}), '~T': DeclaredTypeInstance(type='None', params=None)}), '~T': DeclaredTypeInstance(type='None', params=None)}, args=['-2652651998234565930'], kwargs=None), '-990195451588134220': CallNode(function='NDArray.__getitem__', type_params=None, args=['4201760305467767112', '-1835028791362583836'], kwargs=None), '-398684574554688610': CallNode(function='metadsl_core.abstraction.Abstraction[metadsl_core.pair.Pair[metadsl_core.numpy.NDArray, metadsl_core.either.Either[metadsl_core.integer.Integer, metadsl_core.vec.Vec[metadsl_core.integer.Integer]]], metadsl_core.numpy.NDArray].create', type_params={'~U': DeclaredTypeInstance(type='None', params=None), '~T': DeclaredTypeInstance(type=\"<class 'metadsl_core.pair.Pair'>\", params={'~U': DeclaredTypeInstance(type=\"<class 'metadsl_core.either.Either'>\", params={'~U': DeclaredTypeInstance(type=\"<class 'metadsl_core.vec.Vec'>\", params={'~T': DeclaredTypeInstance(type='None', params=None)}), '~T': DeclaredTypeInstance(type='None', params=None)}), '~T': DeclaredTypeInstance(type='None', params=None)})}, args=['-2652651998234565930', '-990195451588134220'], kwargs=None), '-5506034725964225181': CallNode(function='metadsl_core.abstraction.Abstraction[metadsl_core.numpy.NDArray, metadsl_core.maybe.Maybe[metadsl_core.numpy.NDArray]].__add__', type_params={'~U': DeclaredTypeInstance(type=\"<class 'metadsl_core.maybe.Maybe'>\", params={'~T': DeclaredTypeInstance(type='None', params=None)}), '~T': DeclaredTypeInstance(type='None', params=None)}, args=['-1875854271945712492', '-398684574554688610'], kwargs=None), '-7724374103708076898': CallNode(function='Maybe.match', type_params=None, args=['-923260063906323973', '-5799366330510475334', '-5506034725964225181'], kwargs=None), '-6444866083975501175': CallNode(function='NDArrayCompat.from_ndarray', type_params=None, args=['-7724374103708076898'], kwargs=None), '-7324706907540259154': CallNode(function='NDArrayCompat.to_ndarray', type_params=None, args=['-6444866083975501175'], kwargs=None), '7860314053504771284': CallNode(function='metadsl_core.maybe.Maybe[metadsl_core.numpy.NDArray].just', type_params={'~T': DeclaredTypeInstance(type='None', params=None)}, args=['-990195451588134220'], kwargs=None), '7188058630419213230': CallNode(function='Abstraction.create', type_params=None, args=['-2652651998234565930', '7860314053504771284'], kwargs=None), '7926135943629605543': CallNode(function='Maybe.match', type_params=None, args=['-923260063906323973', '-5799366330510475334', '7188058630419213230'], kwargs=None), '1114933272309088961': CallNode(function='NDArrayCompat.from_ndarray', type_params=None, args=['7926135943629605543'], kwargs=None), '6739740236615398812': CallNode(function='NDArrayCompat.to_ndarray', type_params=None, args=['1114933272309088961'], kwargs=None), '-3216256787761552093': CallNode(function='NDArray.__add__', type_params=None, args=['8978106986500244405', '8978106986500244405'], kwargs=None), '8275525926990191922': CallNode(function='Maybe.just', type_params=None, args=['-3216256787761552093'], kwargs=None), '5261341333028699595': CallNode(function='NDArrayCompat.from_ndarray', type_params=None, args=['8275525926990191922'], kwargs=None), '-7151142132499843596': CallNode(function='metadsl_core.conversion.Converter[metadsl_core.numpy.NDArray].convert', type_params={'~T': DeclaredTypeInstance(type='None', params=None)}, args=['5261341333028699595'], kwargs=None), '5629210584540794992': CallNode(function='metadsl_core.maybe.Maybe[metadsl_core.numpy.NDArray].__and__', type_params={'~T': DeclaredTypeInstance(type='None', params=None)}, args=['-7151142132499843596', '-8286627865775262960'], kwargs=None), '-7875425312996854524': CallNode(function='Maybe.match', type_params=None, args=['5629210584540794992', '-5799366330510475334', '7188058630419213230'], kwargs=None), '5133671696006867822': CallNode(function='NDArrayCompat.from_ndarray', type_params=None, args=['-7875425312996854524'], kwargs=None), '-1493941571026113454': CallNode(function='NDArrayCompat.to_ndarray', type_params=None, args=['5133671696006867822'], kwargs=None), '5252368462417229828': CallNode(function='metadsl_core.maybe.Maybe[metadsl_core.numpy.NDArray].__and__', type_params={'~T': DeclaredTypeInstance(type='None', params=None)}, args=['8275525926990191922', '-8286627865775262960'], kwargs=None), '2176396490693157233': CallNode(function='Maybe.match', type_params=None, args=['5252368462417229828', '-5799366330510475334', '7188058630419213230'], kwargs=None), '-8924712875661442445': CallNode(function='NDArrayCompat.from_ndarray', type_params=None, args=['2176396490693157233'], kwargs=None), '-3602106394535571159': CallNode(function='NDArrayCompat.to_ndarray', type_params=None, args=['-8924712875661442445'], kwargs=None), '8297471784638431252': CallNode(function='Pair.create', type_params=None, args=['-3216256787761552093', '6138330199496762554'], kwargs=None), '5586118657262954705': CallNode(function='Maybe.just', type_params=None, args=['8297471784638431252'], kwargs=None), '1928989510382894430': CallNode(function='Maybe.match', type_params=None, args=['5586118657262954705', '-5799366330510475334', '7188058630419213230'], kwargs=None), '6802993579696638735': CallNode(function='NDArrayCompat.from_ndarray', type_params=None, args=['1928989510382894430'], kwargs=None), '7828397652814802669': CallNode(function='NDArrayCompat.to_ndarray', type_params=None, args=['6802993579696638735'], kwargs=None), '-3938486709881475426': CallNode(function='metadsl_core.abstraction.Abstraction[metadsl_core.pair.Pair[metadsl_core.numpy.NDArray, metadsl_core.either.Either[metadsl_core.integer.Integer, metadsl_core.vec.Vec[metadsl_core.integer.Integer]]], metadsl_core.maybe.Maybe[metadsl_core.numpy.NDArray]].__call__', type_params={'~U': DeclaredTypeInstance(type=\"<class 'metadsl_core.maybe.Maybe'>\", params={'~T': DeclaredTypeInstance(type='None', params=None)}), '~T': DeclaredTypeInstance(type=\"<class 'metadsl_core.pair.Pair'>\", params={'~U': DeclaredTypeInstance(type=\"<class 'metadsl_core.either.Either'>\", params={'~U': DeclaredTypeInstance(type=\"<class 'metadsl_core.vec.Vec'>\", params={'~T': DeclaredTypeInstance(type='None', params=None)}), '~T': DeclaredTypeInstance(type='None', params=None)}), '~T': DeclaredTypeInstance(type='None', params=None)})}, args=['7188058630419213230', '8297471784638431252'], kwargs=None), '7206624984666222608': CallNode(function='NDArrayCompat.from_ndarray', type_params=None, args=['-3938486709881475426'], kwargs=None), '4515503403958692495': CallNode(function='NDArrayCompat.to_ndarray', type_params=None, args=['7206624984666222608'], kwargs=None), '-6833360097700140663': CallNode(function='metadsl_core.pair.Pair[metadsl_core.numpy.NDArray, metadsl_core.either.Either[metadsl_core.integer.Integer, metadsl_core.vec.Vec[metadsl_core.integer.Integer]]].left', type_params={'~U': DeclaredTypeInstance(type=\"<class 'metadsl_core.either.Either'>\", params={'~U': DeclaredTypeInstance(type=\"<class 'metadsl_core.vec.Vec'>\", params={'~T': DeclaredTypeInstance(type='None', params=None)}), '~T': DeclaredTypeInstance(type='None', params=None)}), '~T': DeclaredTypeInstance(type='None', params=None)}, args=['8297471784638431252'], kwargs=None), '5252012972780144397': CallNode(function='metadsl_core.pair.Pair[metadsl_core.numpy.NDArray, metadsl_core.either.Either[metadsl_core.integer.Integer, metadsl_core.vec.Vec[metadsl_core.integer.Integer]]].right', type_params={'~U': DeclaredTypeInstance(type=\"<class 'metadsl_core.either.Either'>\", params={'~U': DeclaredTypeInstance(type=\"<class 'metadsl_core.vec.Vec'>\", params={'~T': DeclaredTypeInstance(type='None', params=None)}), '~T': DeclaredTypeInstance(type='None', params=None)}), '~T': DeclaredTypeInstance(type='None', params=None)}, args=['8297471784638431252'], kwargs=None), '6183214972308444700': CallNode(function='NDArray.__getitem__', type_params=None, args=['-6833360097700140663', '5252012972780144397'], kwargs=None), '-5808411508091644526': CallNode(function='metadsl_core.maybe.Maybe[metadsl_core.numpy.NDArray].just', type_params={'~T': DeclaredTypeInstance(type='None', params=None)}, args=['6183214972308444700'], kwargs=None), '7250563427102780466': CallNode(function='NDArrayCompat.from_ndarray', type_params=None, args=['-5808411508091644526'], kwargs=None), '2838552804205211767': CallNode(function='NDArrayCompat.to_ndarray', type_params=None, args=['7250563427102780466'], kwargs=None), '-4107915615322385158': CallNode(function='NDArray.__getitem__', type_params=None, args=['-3216256787761552093', '5252012972780144397'], kwargs=None), '-8848899656258759718': CallNode(function='metadsl_core.maybe.Maybe[metadsl_core.numpy.NDArray].just', type_params={'~T': DeclaredTypeInstance(type='None', params=None)}, args=['-4107915615322385158'], kwargs=None), '-623983611469685975': CallNode(function='NDArrayCompat.from_ndarray', type_params=None, args=['-8848899656258759718'], kwargs=None), '1258083354409262386': CallNode(function='NDArrayCompat.to_ndarray', type_params=None, args=['-623983611469685975'], kwargs=None), '-5797470991666339323': CallNode(function='NDArray.__getitem__', type_params=None, args=['-3216256787761552093', '6138330199496762554'], kwargs=None), '8534248861081840471': CallNode(function='metadsl_core.maybe.Maybe[metadsl_core.numpy.NDArray].just', type_params={'~T': DeclaredTypeInstance(type='None', params=None)}, args=['-5797470991666339323'], kwargs=None), '1133973283078790881': CallNode(function='NDArrayCompat.from_ndarray', type_params=None, args=['8534248861081840471'], kwargs=None), '8875821480694574614': CallNode(function='NDArrayCompat.to_ndarray', type_params=None, args=['1133973283078790881'], kwargs=None), '3642302327845014786': CallNode(function='NDArray.to_ndarray', type_params=None, args=['-5797470991666339323'], kwargs=None), '5005944128662866461': CallNode(function='NDArray.to_ndarray', type_params=None, args=['-3216256787761552093'], kwargs=None), '-5312105169486054623': CallNode(function='unbox_idxs', type_params=None, args=['6138330199496762554'], kwargs=None), '5070327345094717641': CallNode(function='ndarray_getitem', type_params=None, args=['5005944128662866461', '-5312105169486054623'], kwargs=None), '-6778975705719730535': CallNode(function='NDArray.to_ndarray', type_params=None, args=['8978106986500244405'], kwargs=None), '7137461032966912186': CallNode(function='ndarray_add', type_params=None, args=['-6778975705719730535', '-6778975705719730535'], kwargs=None), '-7774494899441930141': CallNode(function='ndarray_getitem', type_params=None, args=['7137461032966912186', '-5312105169486054623'], kwargs=None), '5793999285095704564': CallNode(function='unbox_integer', type_params=None, args=['8477142063027611003'], kwargs=None), '-1686062689311642513': CallNode(function='arange', type_params=None, args=['5793999285095704564'], kwargs=None), '-7539462300336234134': CallNode(function='ndarray_add', type_params=None, args=['-1686062689311642513', '-6778975705719730535'], kwargs=None), '-1723925058666172788': CallNode(function='ndarray_getitem', type_params=None, args=['-7539462300336234134', '-5312105169486054623'], kwargs=None), '-8507214177937482656': CallNode(function='ndarray_add', type_params=None, args=['-4445990338267379393', '-6778975705719730535'], kwargs=None), '-7989374007794508787': CallNode(function='ndarray_getitem', type_params=None, args=['-8507214177937482656', '-5312105169486054623'], kwargs=None), '5320968424423773868': CallNode(function='ndarray_add', type_params=None, args=['-4445990338267379393', '-1686062689311642513'], kwargs=None), '-2632471959037560774': CallNode(function='ndarray_getitem', type_params=None, args=['5320968424423773868', '-5312105169486054623'], kwargs=None), '1588169093597100508': CallNode(function='ndarray_add', type_params=None, args=['-4445990338267379393', '-4445990338267379393'], kwargs=None), '-8080851809291337492': CallNode(function='ndarray_getitem', type_params=None, args=['1588169093597100508', '-5312105169486054623'], kwargs=None), '2906371502708252973': CallNode(function='unbox_integer', type_params=None, args=['7184966082362138670'], kwargs=None), '720832989631603035': CallNode(function='ndarray_getitem', type_params=None, args=['1588169093597100508', '2906371502708252973'], kwargs=None), '-9128762291147863093': CallNode(function='ndarray_getitem', type_params=None, args=['1588169093597100508', '-2062961300402010070'], kwargs=None), '5797917120499402986': PrimitiveNode(type=\"<class 'numpy.ndarray'>\", repr='array([ 0,  1,  2,  3,  4,  5,  6,  7,  8,  9, 10, 11, 12, 13, 14, 15, 16,\\n       17, 18, 19, 20, 21, 22, 23, 24, 25, 26, 27, 28, 29, 30, 31, 32, 33,\\n       34, 35, 36, 37, 38, 39, 40, 41, 42, 43, 44, 45, 46, 47, 48, 49, 50,\\n       51, 52, 53, 54, 55, 56, 57, 58, 59, 60, 61, 62, 63, 64, 65, 66, 67,\\n       68, 69, 70, 71, 72, 73, 74, 75, 76, 77, 78, 79, 80, 81, 82, 83, 84,\\n       85, 86, 87, 88, 89, 90, 91, 92, 93, 94, 95, 96, 97, 98, 99])'), '-5200287576887986580': CallNode(function='ndarray_add', type_params=None, args=['5797917120499402986', '-4445990338267379393'], kwargs=None), '-595013536158689119': CallNode(function='ndarray_getitem', type_params=None, args=['-5200287576887986580', '-2062961300402010070'], kwargs=None), '5797917645290202586': PrimitiveNode(type=\"<class 'numpy.ndarray'>\", repr='array([ 0,  1,  2,  3,  4,  5,  6,  7,  8,  9, 10, 11, 12, 13, 14, 15, 16,\\n       17, 18, 19, 20, 21, 22, 23, 24, 25, 26, 27, 28, 29, 30, 31, 32, 33,\\n       34, 35, 36, 37, 38, 39, 40, 41, 42, 43, 44, 45, 46, 47, 48, 49, 50,\\n       51, 52, 53, 54, 55, 56, 57, 58, 59, 60, 61, 62, 63, 64, 65, 66, 67,\\n       68, 69, 70, 71, 72, 73, 74, 75, 76, 77, 78, 79, 80, 81, 82, 83, 84,\\n       85, 86, 87, 88, 89, 90, 91, 92, 93, 94, 95, 96, 97, 98, 99])'), '-8177804673271445063': CallNode(function='ndarray_add', type_params=None, args=['5797917120499402986', '5797917645290202586'], kwargs=None), '2245798353483282457': CallNode(function='ndarray_getitem', type_params=None, args=['-8177804673271445063', '-2062961300402010070'], kwargs=None), '5797916706957532586': PrimitiveNode(type=\"<class 'numpy.ndarray'>\", repr='array([  0,   2,   4,   6,   8,  10,  12,  14,  16,  18,  20,  22,  24,\\n        26,  28,  30,  32,  34,  36,  38,  40,  42,  44,  46,  48,  50,\\n        52,  54,  56,  58,  60,  62,  64,  66,  68,  70,  72,  74,  76,\\n        78,  80,  82,  84,  86,  88,  90,  92,  94,  96,  98, 100, 102,\\n       104, 106, 108, 110, 112, 114, 116, 118, 120, 122, 124, 126, 128,\\n       130, 132, 134, 136, 138, 140, 142, 144, 146, 148, 150, 152, 154,\\n       156, 158, 160, 162, 164, 166, 168, 170, 172, 174, 176, 178, 180,\\n       182, 184, 186, 188, 190, 192, 194, 196, 198])'), '2007766142401315863': CallNode(function='ndarray_getitem', type_params=None, args=['5797916706957532586', '-2062961300402010070'], kwargs=None), '-1178522331047837227': PrimitiveNode(type=\"<class 'numpy.int64'>\", repr='10')}, states=States(initial='-7833040348391141653', states=[State(node='-3540937553888413857', rule='metadsl_core.numpy.NDArrayCompat.__getitem__', label=None), State(node='1998046598362843885', rule='metadsl_core.numpy.arange', label=None), State(node='-9177145750500466553', rule='metadsl_core.integer.convert_integer', label=None), State(node='7395412007199821197', rule='metadsl_core.numpy.arange', label=None), State(node='8279772694318169411', rule='metadsl_core.integer.convert_integer', label=None), State(node='-8203311941872801726', rule='metadsl_core.either.convert_to_either', label=None), State(node='-489990974119709293', rule='metadsl_core.integer.convert_integer', label=None), State(node='6413173849436625359', rule='metadsl_core.maybe.Maybe.map', label=None), State(node='-4139213926396184803', rule='metadsl_core.maybe.Maybe.map', label=None), State(node='-7369005454185949690', rule='metadsl_core.maybe.maybe_match', label=None), State(node='5098380273218132870', rule='metadsl_core.abstraction.Abstraction.from_fn', label=None), State(node='4326243548356845196', rule='metadsl_core.abstraction.Abstraction.from_fn', label=None), State(node='-3957586501688992548', rule='metadsl_core.abstraction.compose', label=None), State(node='4950136698486422878', rule='metadsl_core.abstraction.beta_reduce', label=None), State(node='8278037961011866466', rule='metadsl_core.maybe.Maybe.map', label=None), State(node='8838517083665952515', rule='metadsl_core.maybe.maybe_match', label=None), State(node='-4560365066131255718', rule='metadsl_core.abstraction.Abstraction.from_fn', label=None), State(node='5805233601970670215', rule='metadsl_core.abstraction.Abstraction.from_fn', label=None), State(node='6162747097381933116', rule='metadsl_core.abstraction.compose', label=None), State(node='1446255895134801527', rule='metadsl_core.abstraction.beta_reduce', label=None), State(node='1121964476556409066', rule='metadsl_core.maybe.Maybe.map', label=None), State(node='3401219268512331606', rule='metadsl_core.maybe.maybe_match', label=None), State(node='2797020513921284672', rule='metadsl_core.abstraction.Abstraction.from_fn', label=None), State(node='3325591963353805053', rule='metadsl_core.abstraction.Abstraction.from_fn', label=None), State(node='1604448709696662245', rule='metadsl_core.abstraction.compose', label=None), State(node='-5110737843845193322', rule='metadsl_core.abstraction.beta_reduce', label=None), State(node='-1431836062064850620', rule='metadsl_core.maybe.maybe_or', label=None), State(node='229943346460482358', rule='metadsl_core.abstraction.Abstraction.from_fn', label=None), State(node='-7324706907540259154', rule='metadsl_core.abstraction.Abstraction.from_fn', label=None), State(node='6739740236615398812', rule='metadsl_core.abstraction.compose', label=None), State(node='-1493941571026113454', rule='metadsl_core.numpy.add_compat', label=None), State(node='-3602106394535571159', rule='metadsl_core.numpy.convert_to_ndarray', label=None), State(node='7828397652814802669', rule='metadsl_core.maybe.maybe_and', label=None), State(node='4515503403958692495', rule='metadsl_core.maybe.maybe_match', label=None), State(node='2838552804205211767', rule='metadsl_core.abstraction.beta_reduce', label=None), State(node='1258083354409262386', rule='metadsl_core.pair.pair_left', label=None), State(node='8875821480694574614', rule='metadsl_core.pair.pair_right', label='convert'), State(node='3642302327845014786', rule='metadsl_core.numpy.box_unbox_ndarray_compat', label=None), State(node='5070327345094717641', rule='metadsl_core.numpy_engine.unbox_ndarray_getitem', label=None), State(node='-7774494899441930141', rule='metadsl_core.numpy_engine.unbox_ndarray_add', label=None), State(node='-1723925058666172788', rule='metadsl_core.numpy_engine.unbox_arange', label=None), State(node='-7989374007794508787', rule='metadsl_core.numpy_engine.unbox_integer_rule', label=None), State(node='-2632471959037560774', rule='metadsl_core.numpy_engine.unbox_arange', label=None), State(node='-8080851809291337492', rule='metadsl_core.numpy_engine.unbox_integer_rule', label=None), State(node='720832989631603035', rule='metadsl_core.numpy_engine.unbox_idxs_rule', label=None), State(node='-9128762291147863093', rule='metadsl_core.numpy_engine.unbox_integer_rule', label='unbox'), State(node='-595013536158689119', rule='metadsl_core.numpy_engine.arange', label=None), State(node='2245798353483282457', rule='metadsl_core.numpy_engine.arange', label=None), State(node='2007766142401315863', rule='metadsl_core.numpy_engine.ndarray_add', label=None), State(node='-1178522331047837227', rule='metadsl_core.numpy_engine.ndarray_getitem', label='execute')]))"
      ]
     },
     "metadata": {},
     "output_type": "display_data"
    },
    {
     "data": {
      "text/plain": [
       "10"
      ]
     },
     "metadata": {},
     "output_type": "display_data"
    }
   ],
   "source": [
    "N = 100\n",
    "expr = (arange(N) + arange(N))[5].to_ndarray()\n",
    "expr\n",
    "expr._ipython_display_()"
   ]
  },
  {
   "cell_type": "code",
   "execution_count": 30,
   "metadata": {},
   "outputs": [
    {
     "data": {
      "text/plain": [
       "10"
      ]
     },
     "execution_count": 30,
     "metadata": {},
     "output_type": "execute_result"
    }
   ],
   "source": [
    "execute_core(expr)"
   ]
  },
  {
   "cell_type": "markdown",
   "metadata": {},
   "source": [
    "Now, we can add an optimization replacement, so that we do the getitem before adding the two expressions:"
   ]
  },
  {
   "cell_type": "code",
   "execution_count": 32,
   "metadata": {},
   "outputs": [],
   "source": [
    "@register\n",
    "@rule\n",
    "def optimize_getitem_add(l: NDArray, r: NDArray, idx: IndxType) -> R[NDArray]:\n",
    "    return (\n",
    "        # expression to match against\n",
    "        (l + r)[idx],\n",
    "        # expression to replace it with\n",
    "        l[idx] + r[idx]\n",
    "    )"
   ]
  },
  {
   "cell_type": "markdown",
   "metadata": {},
   "source": [
    "Now, when we look at the execution steps, we see that it is doing each getitem before adding, which should be more efficient:"
   ]
  },
  {
   "cell_type": "code",
   "execution_count": 34,
   "metadata": {},
   "outputs": [
    {
     "data": {
      "application/vnd.jupyter.widget-view+json": {
       "model_id": "6bb9b1cef44a4a7c81629de04403f81b",
       "version_major": 2,
       "version_minor": 0
      },
      "text/plain": [
       "VBox(children=(IntSlider(value=0, max=3), Output()))"
      ]
     },
     "metadata": {},
     "output_type": "display_data"
    }
   ],
   "source": [
    "expr = (arange(N) + arange(N))[5].to_ndarray()\n",
    "expr"
   ]
  },
  {
   "cell_type": "markdown",
   "metadata": {},
   "source": [
    "This shows how we can break up the NumPy API into different layers, all of which are extensible:\n",
    "\n",
    "1. A compatibility layer that works like the existing NumPy API, except isn't limited to the Python types of the current API\n",
    "2. A type safe version of this API. The conversion between the compatability layer and this layer is extensible, so that third party authors can add new conversion between their own Python objects and the typed representation.\n",
    "3. A backend layer that translates either back to Python calls or source code, or to other targets like LLVM or Tensorflow.\n",
    "\n",
    "The key is that all these layers are composable, so you could have different frontends for any of them or add your own. This is all done through a typed replacement system that is compatible with static analysis using MyPy.\n",
    "\n",
    "`metadsl` is the glue that allows us to define this API in a way that enables greater greater collaboration. Since each layer has it's own well defined specification, different projects can extend and target these seperate layers, while minimizing the need to explicitly opt in to collaborate. The goal is to enable greater reuse, interoperability, and extensability within the Python scientific ecosystem."
   ]
  }
 ],
 "metadata": {
  "kernelspec": {
   "display_name": "Python 3",
   "language": "python",
   "name": "python3"
  },
  "language_info": {
   "codemirror_mode": {
    "name": "ipython",
    "version": 3
   },
   "file_extension": ".py",
   "mimetype": "text/x-python",
   "name": "python",
   "nbconvert_exporter": "python",
   "pygments_lexer": "ipython3",
   "version": "3.7.3"
  }
 },
 "nbformat": 4,
 "nbformat_minor": 2
}
