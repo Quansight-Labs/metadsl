{
 "cells": [
  {
   "cell_type": "markdown",
   "metadata": {},
   "source": [
    "# `metadsl`\n",
    "\n",
    "...is a framework for creating domain specific languages in Python."
   ]
  },
  {
   "cell_type": "code",
   "execution_count": 1,
   "metadata": {},
   "outputs": [],
   "source": [
    "from __future__ import annotations\n",
    "\n",
    "from metadsl import *\n",
    "from metadsl_core import *\n",
    "from metadsl_visualize import *"
   ]
  },
  {
   "cell_type": "markdown",
   "metadata": {},
   "source": [
    "Here, we show a NumPy API compatible DSL that we have started writing. We can create a symbolic expression and then execute it. The widget shows the different stages of execution:"
   ]
  },
  {
   "cell_type": "code",
   "execution_count": 2,
   "metadata": {},
   "outputs": [
    {
     "data": {
      "application/json": {
       "nodes": {
        "-1050096578571021704": [
         "5105228348163832661",
         {
          "args": [
           "2893270503678382867",
           "-5596765414591522228"
          ],
          "function": "Maybe.__and__",
          "type_params": {
           "T": {
            "type": "NDArray"
           }
          }
         }
        ],
        "-1359712873627368165": [
         "-5281961658848897139",
         {
          "args": [
           "-3942902063003924503"
          ],
          "function": "NDArrayCompat.to_ndarray"
         }
        ],
        "-1396724190485083222": [
         "-2224020701084858300",
         {
          "args": [
           "1475979828097991852"
          ],
          "function": "NDArrayCompat.from_ndarray"
         }
        ],
        "-1398120290594241701": [
         "3738807663539962808",
         {
          "args": [
           "-5670430935434763517"
          ],
          "function": "Converter.convert",
          "type_params": {
           "T": {
            "type": "NDArray"
           }
          }
         }
        ],
        "-1448899694609174123": [
         "-1448899694609174123",
         {
          "args": [
           "7929563447330875300"
          ],
          "function": "Integer.from_int"
         }
        ],
        "-150511557441503979": [
         "-8549068771019930555",
         {
          "args": [
           "-906915746085849223",
           "7168750140140484019"
          ],
          "function": "Maybe.__and__",
          "type_params": {
           "T": {
            "type": "NDArray"
           }
          }
         }
        ],
        "-1561121444444975497": [
         "1501117769350601043",
         {
          "args": [
           "4344538302833644691",
           "-3131809300698277100"
          ],
          "function": "Abstraction.__call__",
          "type_params": {
           "T": {
            "type": "Integer"
           },
           "U": {
            "params": {
             "T": {
              "type": "NDArray"
             }
            },
            "type": "Maybe"
           }
          }
         }
        ],
        "-1567811318780057522": [
         "-1567811318780057522",
         {
          "args": [
           "782204655928586145"
          ],
          "function": "Abstraction.create_variable",
          "type_params": {
           "T": {
            "params": {
             "T": {
              "type": "NDArray"
             },
             "U": {
              "params": {
               "T": {
                "type": "Integer"
               },
               "U": {
                "params": {
                 "T": {
                  "type": "Integer"
                 }
                },
                "type": "Vec"
               }
              },
              "type": "Either"
             }
            },
            "type": "Pair"
           },
           "U": {
            "type": "NDArray"
           }
          }
         }
        ],
        "-1679686273028200441": [
         "-1679686273028200441",
         {
          "args": [
           "-8442994137960948810",
           "3904670649235592956",
           "7417534677030413501"
          ],
          "function": "Maybe.match",
          "type_params": {
           "T": {
            "type": "Integer"
           }
          }
         }
        ],
        "-1705905533886788551": [
         "-1705905533886788551",
         {
          "args": [
           "-8441167327920353038"
          ],
          "function": "Abstraction.create_variable",
          "type_params": {
           "T": {
            "params": {
             "T": {
              "type": "Integer"
             },
             "U": {
              "params": {
               "T": {
                "type": "Integer"
               }
              },
              "type": "Vec"
             }
            },
            "type": "Either"
           },
           "U": {
            "params": {
             "T": {
              "params": {
               "T": {
                "type": "Integer"
               },
               "U": {
                "params": {
                 "T": {
                  "type": "Integer"
                 }
                },
                "type": "Vec"
               }
              },
              "type": "Either"
             }
            },
            "type": "Maybe"
           }
          }
         }
        ],
        "-1713706598553016229": [
         "-6051983548820151717",
         {
          "args": [
           "1888482096358126515",
           "1888482096358126515"
          ],
          "function": "ndarray_add"
         }
        ],
        "-1731939772881271889": [
         "-1731939772881271889",
         {
          "args": [
           "-2392957684524066418"
          ],
          "function": "Converter.convert",
          "type_params": {
           "T": {
            "type": "NDArray"
           }
          }
         }
        ],
        "-1798155223930758459": [
         "-2178932975760294384",
         {
          "args": [
           "-5229483840057583465",
           "3904670649235592956",
           "7023613846905740443"
          ],
          "function": "Maybe.match",
          "type_params": {
           "T": {
            "params": {
             "T": {
              "type": "NDArray"
             },
             "U": {
              "params": {
               "T": {
                "type": "Integer"
               },
               "U": {
                "params": {
                 "T": {
                  "type": "Integer"
                 }
                },
                "type": "Vec"
               }
              },
              "type": "Either"
             }
            },
            "type": "Pair"
           }
          }
         }
        ],
        "-184917476802828996": [
         "-9177130969686516551",
         {
          "args": [
           "3058467386769174257"
          ],
          "function": "NDArrayCompat.from_ndarray"
         }
        ],
        "-1852894578847174519": [
         "-1852894578847174519",
         {
          "args": [
           "782204650207441520"
          ],
          "function": "Abstraction.create_variable",
          "type_params": {
           "T": {
            "type": "Integer"
           },
           "U": {
            "type": "NDArray"
           }
          }
         }
        ],
        "-1881452536892832357": [
         "-1881452536892832357",
         {
          "repr": "Either.right",
          "type": "BoundInfer"
         }
        ],
        "-1927693558332765614": [
         "-1927693558332765614",
         {
          "args": [
           "-4057743209670033856",
           "2861773729804927232"
          ],
          "function": "Maybe.map",
          "type_params": {
           "T": {
            "type": "Integer"
           }
          }
         }
        ],
        "-2025809176917072033": [
         "-5281961658848897139",
         {
          "args": [
           "3286405099378477051"
          ],
          "function": "NDArrayCompat.to_ndarray"
         }
        ],
        "-2070786939647750622": [
         "-2178932975760294384",
         {
          "args": [
           "-5300946842481716894",
           "3904670649235592956",
           "-979998564141937302"
          ],
          "function": "Maybe.match",
          "type_params": {
           "T": {
            "params": {
             "T": {
              "type": "NDArray"
             },
             "U": {
              "params": {
               "T": {
                "type": "Integer"
               },
               "U": {
                "params": {
                 "T": {
                  "type": "Integer"
                 }
                },
                "type": "Vec"
               }
              },
              "type": "Either"
             }
            },
            "type": "Pair"
           }
          }
         }
        ],
        "-2111247561356716541": [
         "7417534677030413501",
         {
          "args": [
           "-1852894578847174519",
           "8345780857840190825"
          ],
          "function": "Abstraction.create"
         }
        ],
        "-2148437186735635834": [
         "-5928052358113968640",
         {
          "args": [
           "538172979487181565",
           "538172979487181565"
          ],
          "function": "NDArrayCompat.__add__"
         }
        ],
        "-2178932975760294384": [
         "-2178932975760294384",
         {
          "args": [
           "-8549068771019930555",
           "4803971645114961552"
          ],
          "function": "Maybe.map",
          "type_params": {
           "T": {
            "params": {
             "T": {
              "type": "NDArray"
             },
             "U": {
              "params": {
               "T": {
                "type": "Integer"
               },
               "U": {
                "params": {
                 "T": {
                  "type": "Integer"
                 }
                },
                "type": "Vec"
               }
              },
              "type": "Either"
             }
            },
            "type": "Pair"
           }
          }
         }
        ],
        "-2224020701084858300": [
         "-2224020701084858300",
         {
          "args": [
           "-6880367450692664388"
          ],
          "function": "NDArrayCompat.from_ndarray"
         }
        ],
        "-2275286690527128186": [
         "-9177130969686516551",
         {
          "args": [
           "-2178932975760294384"
          ],
          "function": "NDArrayCompat.from_ndarray"
         }
        ],
        "-2349488285811446359": [
         "3738807663539962808",
         {
          "args": [
           "-7717843735644360434"
          ],
          "function": "Converter.convert",
          "type_params": {
           "T": {
            "type": "NDArray"
           }
          }
         }
        ],
        "-2392957684524066418": [
         "-2392957684524066418",
         {
          "args": [
           "5957414941209220213",
           "5957414941209220213"
          ],
          "function": "NDArrayCompat.__add__"
         }
        ],
        "-2407715966420202401": [
         "-9177130969686516551",
         {
          "args": [
           "232939652242167621"
          ],
          "function": "NDArrayCompat.from_ndarray"
         }
        ],
        "-2422211557192635241": [
         "-9177130969686516551",
         {
          "args": [
           "1556497383409340477"
          ],
          "function": "NDArrayCompat.from_ndarray"
         }
        ],
        "-2451974414440893144": [
         "-5928052358113968640",
         {
          "args": [
           "-5073117767081961703",
           "-326778002507247179"
          ],
          "function": "NDArrayCompat.__add__"
         }
        ],
        "-2525385083890315318": [
         "-2178932975760294384",
         {
          "args": [
           "2641412347700615951",
           "4803971645114961552"
          ],
          "function": "Maybe.map",
          "type_params": {
           "T": {
            "params": {
             "T": {
              "type": "NDArray"
             },
             "U": {
              "params": {
               "T": {
                "type": "Integer"
               },
               "U": {
                "params": {
                 "T": {
                  "type": "Integer"
                 }
                },
                "type": "Vec"
               }
              },
              "type": "Either"
             }
            },
            "type": "Pair"
           }
          }
         }
        ],
        "-2531045510318504649": [
         "-5281961658848897139",
         {
          "args": [
           "-610731571215604364"
          ],
          "function": "NDArrayCompat.to_ndarray"
         }
        ],
        "-2584521374953452112": [
         "-8549068771019930555",
         {
          "args": [
           "-906915746085849223",
           "6956738586168736130"
          ],
          "function": "Maybe.__and__",
          "type_params": {
           "T": {
            "type": "NDArray"
           }
          }
         }
        ],
        "-2674899029458429109": [
         "-2178932975760294384",
         {
          "args": [
           "-7530698464818735296",
           "4803971645114961552"
          ],
          "function": "Maybe.map",
          "type_params": {
           "T": {
            "params": {
             "T": {
              "type": "NDArray"
             },
             "U": {
              "params": {
               "T": {
                "type": "Integer"
               },
               "U": {
                "params": {
                 "T": {
                  "type": "Integer"
                 }
                },
                "type": "Vec"
               }
              },
              "type": "Either"
             }
            },
            "type": "Pair"
           }
          }
         }
        ],
        "-2861860061290690084": [
         "-1927693558332765614",
         {
          "args": [
           "3438482133718761997"
          ],
          "function": "Maybe.just",
          "type_params": {
           "T": {
            "params": {
             "T": {
              "type": "Integer"
             },
             "U": {
              "params": {
               "T": {
                "type": "Integer"
               }
              },
              "type": "Vec"
             }
            },
            "type": "Either"
           }
          }
         }
        ],
        "-3022580817830158000": [
         "5105228348163832661",
         {
          "args": [
           "3281441242190016612"
          ],
          "function": "Maybe.just"
         }
        ],
        "-3044042026182915790": [
         "3738807663539962808",
         {
          "args": [
           "7411810815739975417"
          ],
          "function": "Converter.convert",
          "type_params": {
           "T": {
            "type": "NDArray"
           }
          }
         }
        ],
        "-3053313095907521341": [
         "-9177130969686516551",
         {
          "args": [
           "-8998346874421760956"
          ],
          "function": "NDArrayCompat.from_ndarray"
         }
        ],
        "-3103477373190562460": [
         "-3103477373190562460",
         {
          "args": [
           "-5394518138794402984"
          ],
          "function": "Maybe.just",
          "type_params": {
           "T": {
            "params": {
             "T": {
              "type": "Integer"
             },
             "U": {
              "params": {
               "T": {
                "type": "Integer"
               }
              },
              "type": "Vec"
             }
            },
            "type": "Either"
           }
          }
         }
        ],
        "-3114914308302251085": [
         "-6051983548820151717",
         {
          "args": [
           "4681656730430286325",
           "4681656730430286325"
          ],
          "function": "ndarray_add"
         }
        ],
        "-3126480785575616036": [
         "-2178932975760294384",
         {
          "args": [
           "5160524566463964012",
           "3904670649235592956",
           "7023613846905740443"
          ],
          "function": "Maybe.match",
          "type_params": {
           "T": {
            "params": {
             "T": {
              "type": "NDArray"
             },
             "U": {
              "params": {
               "T": {
                "type": "Integer"
               },
               "U": {
                "params": {
                 "T": {
                  "type": "Integer"
                 }
                },
                "type": "Vec"
               }
              },
              "type": "Either"
             }
            },
            "type": "Pair"
           }
          }
         }
        ],
        "-3131809300698277100": [
         "-3131809300698277100",
         {
          "args": [
           "7929563447225870375"
          ],
          "function": "Integer.from_int"
         }
        ],
        "-3237214598058232513": [
         "-2178932975760294384",
         {
          "args": [
           "6849173173472077666",
           "-9118015370219560904"
          ],
          "function": "Maybe.map",
          "type_params": {
           "T": {
            "params": {
             "T": {
              "type": "NDArray"
             },
             "U": {
              "params": {
               "T": {
                "type": "Integer"
               },
               "U": {
                "params": {
                 "T": {
                  "type": "Integer"
                 }
                },
                "type": "Vec"
               }
              },
              "type": "Either"
             }
            },
            "type": "Pair"
           }
          }
         }
        ],
        "-326778002507247179": [
         "-326778002507247179",
         {
          "args": [
           "-1679686273028200441"
          ],
          "function": "NDArrayCompat.from_ndarray"
         }
        ],
        "-3299145903312756364": [
         "-5281961658848897139",
         {
          "args": [
           "-6051983548820151717",
           "7929563447330875300"
          ],
          "function": "ndarray_getitem"
         }
        ],
        "-336318807303650252": [
         "-9177130969686516551",
         {
          "args": [
           "-4079412897980083317"
          ],
          "function": "NDArrayCompat.from_ndarray"
         }
        ],
        "-3411503716089640314": [
         "-3411503716089640314",
         {
          "args": [
           "5668266280651108832",
           "5668266280651108832"
          ],
          "function": "NDArray.__add__"
         }
        ],
        "-3416066141267607679": [
         "-3416066141267607679",
         {
          "args": [
           "7929563447330875300"
          ],
          "function": "Converter.convert",
          "type_params": {
           "T": {
            "params": {
             "T": {
              "type": "Integer"
             },
             "U": {
              "params": {
               "T": {
                "type": "Integer"
               }
              },
              "type": "Vec"
             }
            },
            "type": "Either"
           }
          }
         }
        ],
        "-3456717881889549357": [
         "-2178932975760294384",
         {
          "args": [
           "-3022580817830158000",
           "3904670649235592956",
           "-979998564141937302"
          ],
          "function": "Maybe.match",
          "type_params": {
           "T": {
            "params": {
             "T": {
              "type": "NDArray"
             },
             "U": {
              "params": {
               "T": {
                "type": "Integer"
               },
               "U": {
                "params": {
                 "T": {
                  "type": "Integer"
                 }
                },
                "type": "Vec"
               }
              },
              "type": "Either"
             }
            },
            "type": "Pair"
           }
          }
         }
        ],
        "-3509893514905579143": [
         "-5281961658848897139",
         {
          "args": [
           "-3053313095907521341"
          ],
          "function": "NDArrayCompat.to_ndarray"
         }
        ],
        "-3549436566379303328": [
         "-2178932975760294384",
         {
          "args": [
           "8820645040028002131",
           "3904670649235592956",
           "-979998564141937302"
          ],
          "function": "Maybe.match",
          "type_params": {
           "T": {
            "params": {
             "T": {
              "type": "NDArray"
             },
             "U": {
              "params": {
               "T": {
                "type": "Integer"
               },
               "U": {
                "params": {
                 "T": {
                  "type": "Integer"
                 }
                },
                "type": "Vec"
               }
              },
              "type": "Either"
             }
            },
            "type": "Pair"
           }
          }
         }
        ],
        "-3715420078525920815": [
         "-1927693558332765614",
         {
          "args": [
           "-9071831681035237069",
           "-1448899694609174123"
          ],
          "function": "Abstraction.__call__",
          "type_params": {
           "T": {
            "type": "Integer"
           },
           "U": {
            "params": {
             "T": {
              "params": {
               "T": {
                "type": "Integer"
               },
               "U": {
                "params": {
                 "T": {
                  "type": "Integer"
                 }
                },
                "type": "Vec"
               }
              },
              "type": "Either"
             }
            },
            "type": "Maybe"
           }
          }
         }
        ],
        "-3815901700388079820": [
         "7417534677030413501",
         {
          "args": [
           "7210536553855986561",
           "-8952102342635871110"
          ],
          "function": "Abstraction.__add__",
          "type_params": {
           "T": {
            "type": "NDArray"
           },
           "U": {
            "params": {
             "T": {
              "type": "NDArray"
             }
            },
            "type": "Maybe"
           }
          }
         }
        ],
        "-3880724937729080699": [
         "-5073117767081961703",
         {
          "args": [
           "-1561121444444975497"
          ],
          "function": "NDArrayCompat.from_ndarray"
         }
        ],
        "-3884366925730321283": [
         "-5281961658848897139",
         {
          "args": [
           "-7066220164683785549",
           "7929563447330875300"
          ],
          "function": "ndarray_getitem"
         }
        ],
        "-3898148759995715509": [
         "-2178932975760294384",
         {
          "args": [
           "8858306922078925636",
           "3904670649235592956",
           "-979998564141937302"
          ],
          "function": "Maybe.match",
          "type_params": {
           "T": {
            "params": {
             "T": {
              "type": "NDArray"
             },
             "U": {
              "params": {
               "T": {
                "type": "Integer"
               },
               "U": {
                "params": {
                 "T": {
                  "type": "Integer"
                 }
                },
                "type": "Vec"
               }
              },
              "type": "Either"
             }
            },
            "type": "Pair"
           }
          }
         }
        ],
        "-3920676090234507581": [
         "-5281961658848897139",
         {
          "args": [
           "7783357475922552301"
          ],
          "function": "NDArrayCompat.to_ndarray"
         }
        ],
        "-3942902063003924503": [
         "-9177130969686516551",
         {
          "args": [
           "963218007824931523"
          ],
          "function": "NDArrayCompat.from_ndarray"
         }
        ],
        "-4057743209670033856": [
         "-4057743209670033856",
         {
          "args": [
           "-1448899694609174123"
          ],
          "function": "Maybe.just"
         }
        ],
        "-4063692649573402404": [
         "-9177130969686516551",
         {
          "args": [
           "-3456717881889549357"
          ],
          "function": "NDArrayCompat.from_ndarray"
         }
        ],
        "-4079412897980083317": [
         "-2178932975760294384",
         {
          "args": [
           "8602002056363899264",
           "3904670649235592956",
           "7023613846905740443"
          ],
          "function": "Maybe.match",
          "type_params": {
           "T": {
            "params": {
             "T": {
              "type": "NDArray"
             },
             "U": {
              "params": {
               "T": {
                "type": "Integer"
               },
               "U": {
                "params": {
                 "T": {
                  "type": "Integer"
                 }
                },
                "type": "Vec"
               }
              },
              "type": "Either"
             }
            },
            "type": "Pair"
           }
          }
         }
        ],
        "-4094591097972136167": [
         "-4094591097972136167",
         {
          "repr": "Maybe.just",
          "type": "BoundInfer"
         }
        ],
        "-4118019760064062043": [
         "-1731939772881271889",
         {
          "args": [
           "-4227033389913437920"
          ],
          "function": "Converter.convert",
          "type_params": {
           "T": {
            "type": "NDArray"
           }
          }
         }
        ],
        "-4227033389913437920": [
         "-2392957684524066418",
         {
          "args": [
           "7734890108686739817",
           "7734890108686739817"
          ],
          "function": "NDArrayCompat.__add__"
         }
        ],
        "-4308639913409108949": [
         "-9177130969686516551",
         {
          "args": [
           "-2525385083890315318"
          ],
          "function": "NDArrayCompat.from_ndarray"
         }
        ],
        "-4574192517958908719": [
         "-5928052358113968640",
         {
          "args": [
           "-7831860903262410409",
           "-5073117767081961703"
          ],
          "function": "NDArrayCompat.__add__"
         }
        ],
        "-4655842278390333752": [
         "-4655842278390333752",
         {
          "args": [
           "2264477634205654134"
          ],
          "function": "Maybe.just",
          "type_params": {
           "T": {
            "type": "NDArray"
           }
          }
         }
        ],
        "-46570811318456514": [
         "-2178932975760294384",
         {
          "args": [
           "2342498251596656547",
           "3904670649235592956",
           "-979998564141937302"
          ],
          "function": "Maybe.match",
          "type_params": {
           "T": {
            "params": {
             "T": {
              "type": "NDArray"
             },
             "U": {
              "params": {
               "T": {
                "type": "Integer"
               },
               "U": {
                "params": {
                 "T": {
                  "type": "Integer"
                 }
                },
                "type": "Vec"
               }
              },
              "type": "Either"
             }
            },
            "type": "Pair"
           }
          }
         }
        ],
        "-4937833522134177421": [
         "-5281961658848897139",
         {
          "args": [
           "2683581776710087647"
          ],
          "function": "NDArrayCompat.to_ndarray"
         }
        ],
        "-4956525522698191664": [
         "-5928052358113968640",
         {
          "args": [
           "-7831860903262410409",
           "-3880724937729080699"
          ],
          "function": "NDArrayCompat.__add__"
         }
        ],
        "-4997712263342911668": [
         "-9177130969686516551",
         {
          "args": [
           "39861854122661410"
          ],
          "function": "NDArrayCompat.from_ndarray"
         }
        ],
        "-5002271024861607396": [
         "-9177130969686516551",
         {
          "args": [
           "-5638063581971655788"
          ],
          "function": "NDArrayCompat.from_ndarray"
         }
        ],
        "-5066980431023388391": [
         "-5066980431023388391",
         {
          "args": [
           "-1567811318780057522"
          ],
          "function": "Pair.right",
          "type_params": {
           "T": {
            "type": "NDArray"
           },
           "U": {
            "params": {
             "T": {
              "type": "Integer"
             },
             "U": {
              "params": {
               "T": {
                "type": "Integer"
               }
              },
              "type": "Vec"
             }
            },
            "type": "Either"
           }
          }
         }
        ],
        "-5073117767081961703": [
         "-5073117767081961703",
         {
          "args": [
           "1501117769350601043"
          ],
          "function": "NDArrayCompat.from_ndarray"
         }
        ],
        "-5229483840057583465": [
         "5105228348163832661",
         {
          "args": [
           "3738807663539962808",
           "-6190752929779388082"
          ],
          "function": "Maybe.__and__",
          "type_params": {
           "T": {
            "type": "NDArray"
           }
          }
         }
        ],
        "-5255964175121921594": [
         "-5281961658848897139",
         {
          "args": [
           "2124215296879408225"
          ],
          "function": "NDArrayCompat.to_ndarray"
         }
        ],
        "-5261918083163352740": [
         "-2178932975760294384",
         {
          "args": [
           "5105228348163832661",
           "-9118015370219560904"
          ],
          "function": "Maybe.map",
          "type_params": {
           "T": {
            "params": {
             "T": {
              "type": "NDArray"
             },
             "U": {
              "params": {
               "T": {
                "type": "Integer"
               },
               "U": {
                "params": {
                 "T": {
                  "type": "Integer"
                 }
                },
                "type": "Vec"
               }
              },
              "type": "Either"
             }
            },
            "type": "Pair"
           }
          }
         }
        ],
        "-5281961658848897139": [
         "-5281961658848897139",
         {
          "args": [
           "-9177130969686516551"
          ],
          "function": "NDArrayCompat.to_ndarray"
         }
        ],
        "-5300946842481716894": [
         "5105228348163832661",
         {
          "args": [
           "6034370012444041160",
           "8816093130121520419"
          ],
          "function": "Maybe.__and__",
          "type_params": {
           "T": {
            "type": "NDArray"
           }
          }
         }
        ],
        "-5384039155452932543": [
         "5105228348163832661",
         {
          "args": [
           "-3044042026182915790",
           "8955685588577225007"
          ],
          "function": "Maybe.__and__",
          "type_params": {
           "T": {
            "type": "NDArray"
           }
          }
         }
        ],
        "-5394518138794402984": [
         "-5394518138794402984",
         {
          "args": [
           "1059062756968867836"
          ],
          "function": "Either.left",
          "type_params": {
           "T": {
            "type": "Integer"
           },
           "U": {
            "params": {
             "T": {
              "type": "Integer"
             }
            },
            "type": "Vec"
           }
          }
         }
        ],
        "-54078915593045179": [
         "-8334591979778177377",
         {
          "args": [
           "-6111235855211480769",
           "1648329418498538327"
          ],
          "function": "Abstraction.__add__",
          "type_params": {
           "T": {
            "params": {
             "T": {
              "type": "Integer"
             },
             "U": {
              "params": {
               "T": {
                "type": "Integer"
               }
              },
              "type": "Vec"
             }
            },
            "type": "Either"
           },
           "U": {
            "params": {
             "T": {
              "params": {
               "T": {
                "type": "Integer"
               },
               "U": {
                "params": {
                 "T": {
                  "type": "Integer"
                 }
                },
                "type": "Vec"
               }
              },
              "type": "Either"
             }
            },
            "type": "Maybe"
           }
          }
         }
        ],
        "-5596765414591522228": [
         "7168750140140484019",
         {
          "args": [
           "-7077347480895772353",
           "-8817432787412657013"
          ],
          "function": "Maybe.__or__",
          "type_params": {
           "T": {
            "params": {
             "T": {
              "type": "Integer"
             },
             "U": {
              "params": {
               "T": {
                "type": "Integer"
               }
              },
              "type": "Vec"
             }
            },
            "type": "Either"
           }
          }
         }
        ],
        "-5638063581971655788": [
         "-2178932975760294384",
         {
          "args": [
           "1947658605703421602",
           "3904670649235592956",
           "-979998564141937302"
          ],
          "function": "Maybe.match",
          "type_params": {
           "T": {
            "params": {
             "T": {
              "type": "NDArray"
             },
             "U": {
              "params": {
               "T": {
                "type": "Integer"
               },
               "U": {
                "params": {
                 "T": {
                  "type": "Integer"
                 }
                },
                "type": "Vec"
               }
              },
              "type": "Either"
             }
            },
            "type": "Pair"
           }
          }
         }
        ],
        "-5670430935434763517": [
         "-5928052358113968640",
         {
          "args": [
           "-7831860903262410409",
           "538172979487181565"
          ],
          "function": "NDArrayCompat.__add__"
         }
        ],
        "-5681086482397369699": [
         "-5281961658848897139",
         {
          "args": [
           "-5837188023904175992"
          ],
          "function": "NDArrayCompat.to_ndarray"
         }
        ],
        "-5760226355314994421": [
         "5105228348163832661",
         {
          "args": [
           "-1398120290594241701",
           "8955685588577225007"
          ],
          "function": "Maybe.__and__",
          "type_params": {
           "T": {
            "type": "NDArray"
           }
          }
         }
        ],
        "-5788305488585017870": [
         "-5788305488585017870",
         {
          "args": [
           "782204642417591620"
          ],
          "function": "Abstraction.create_variable",
          "type_params": {
           "T": {
            "params": {
             "T": {
              "type": "Integer"
             }
            },
            "type": "Vec"
           },
           "U": {
            "params": {
             "T": {
              "type": "Integer"
             },
             "U": {
              "params": {
               "T": {
                "type": "Integer"
               }
              },
              "type": "Vec"
             }
            },
            "type": "Either"
           }
          }
         }
        ],
        "-5837188023904175992": [
         "-9177130969686516551",
         {
          "args": [
           "3928979941275204021"
          ],
          "function": "NDArrayCompat.from_ndarray"
         }
        ],
        "-5874662002019313860": [
         "-6822852619997036823",
         {
          "args": [
           "7195713575237942534",
           "-754019181540390696",
           "-54078915593045179"
          ],
          "function": "Maybe.match",
          "type_params": {
           "T": {
            "params": {
             "T": {
              "type": "Integer"
             }
            },
            "type": "Vec"
           }
          }
         }
        ],
        "-5928052358113968640": [
         "-5928052358113968640",
         {
          "args": [
           "-2224020701084858300",
           "-2224020701084858300"
          ],
          "function": "NDArrayCompat.__add__"
         }
        ],
        "-5980085414178983947": [
         "-3416066141267607679",
         {
          "args": [
           "6840992835378849873",
           "2204826897264784190"
          ],
          "function": "Maybe.__or__",
          "type_params": {
           "T": {
            "params": {
             "T": {
              "type": "Integer"
             },
             "U": {
              "params": {
               "T": {
                "type": "Integer"
               }
              },
              "type": "Vec"
             }
            },
            "type": "Either"
           }
          }
         }
        ],
        "-6010735612985633894": [
         "-5281961658848897139",
         {
          "args": [
           "-6546362162623416443",
           "7929563447330875300"
          ],
          "function": "ndarray_getitem"
         }
        ],
        "-6051983548820151717": [
         "-6051983548820151717",
         {
          "args": [
           "-3411503716089640314"
          ],
          "function": "NDArray.to_ndarray"
         }
        ],
        "-6076995830243228477": [
         "-5281961658848897139",
         {
          "args": [
           "1275872575919909872"
          ],
          "function": "NDArrayCompat.to_ndarray"
         }
        ],
        "-610731571215604364": [
         "-9177130969686516551",
         {
          "args": [
           "-3898148759995715509"
          ],
          "function": "NDArrayCompat.from_ndarray"
         }
        ],
        "-6111235855211480769": [
         "-7660677309244214554",
         {
          "args": [
           "-1705905533886788551",
           "5001873403081188039"
          ],
          "function": "Abstraction.create",
          "type_params": {
           "T": {
            "params": {
             "T": {
              "type": "Integer"
             },
             "U": {
              "params": {
               "T": {
                "type": "Integer"
               }
              },
              "type": "Vec"
             }
            },
            "type": "Either"
           },
           "U": {
            "params": {
             "T": {
              "params": {
               "T": {
                "type": "Integer"
               },
               "U": {
                "params": {
                 "T": {
                  "type": "Integer"
                 }
                },
                "type": "Vec"
               }
              },
              "type": "Either"
             }
            },
            "type": "Maybe"
           }
          }
         }
        ],
        "-6171369598117617926": [
         "-5928052358113968640",
         {
          "args": [
           "-7831860903262410409",
           "-1396724190485083222"
          ],
          "function": "NDArrayCompat.__add__"
         }
        ],
        "-6190752929779388082": [
         "7168750140140484019",
         {
          "args": [
           "5861720140862631724",
           "-8817432787412657013"
          ],
          "function": "Maybe.__or__",
          "type_params": {
           "T": {
            "params": {
             "T": {
              "type": "Integer"
             },
             "U": {
              "params": {
               "T": {
                "type": "Integer"
               }
              },
              "type": "Vec"
             }
            },
            "type": "Either"
           }
          }
         }
        ],
        "-6546362162623416443": [
         "-6051983548820151717",
         {
          "args": [
           "1478565890208829064",
           "1478565890208829064"
          ],
          "function": "ndarray_add"
         }
        ],
        "-656138738490108348": [
         "-3416066141267607679",
         {
          "args": [
           "4865162026085052172",
           "2204826897264784190"
          ],
          "function": "Maybe.__or__",
          "type_params": {
           "T": {
            "params": {
             "T": {
              "type": "Integer"
             },
             "U": {
              "params": {
               "T": {
                "type": "Integer"
               }
              },
              "type": "Vec"
             }
            },
            "type": "Either"
           }
          }
         }
        ],
        "-6802406250591612239": [
         "5957414941209220213",
         {
          "args": [
           "-8887871976037847346"
          ],
          "function": "NDArrayCompat.from_ndarray"
         }
        ],
        "-682004686293093714": [
         "-9177130969686516551",
         {
          "args": [
           "818682114679304408"
          ],
          "function": "NDArrayCompat.from_ndarray"
         }
        ],
        "-6822852619997036823": [
         "-6822852619997036823",
         {
          "args": [
           "7195713575237942534",
           "1648329418498538327"
          ],
          "function": "Maybe.map",
          "type_params": {
           "T": {
            "params": {
             "T": {
              "type": "Integer"
             }
            },
            "type": "Vec"
           }
          }
         }
        ],
        "-6875258176901991935": [
         "-5281961658848897139",
         {
          "args": [
           "-4308639913409108949"
          ],
          "function": "NDArrayCompat.to_ndarray"
         }
        ],
        "-6880367450692664388": [
         "-6880367450692664388",
         {
          "args": [
           "-8442994137960948810",
           "-8952102342635871110"
          ],
          "function": "Maybe.map",
          "type_params": {
           "T": {
            "type": "Integer"
           }
          }
         }
        ],
        "-692955919929815139": [
         "-5281961658848897139",
         {
          "args": [
           "-2275286690527128186"
          ],
          "function": "NDArrayCompat.to_ndarray"
         }
        ],
        "-7011619711849110242": [
         "-2392957684524066418",
         {
          "args": [
           "-6802406250591612239",
           "-6802406250591612239"
          ],
          "function": "NDArrayCompat.__add__"
         }
        ],
        "-7066220164683785549": [
         "-6051983548820151717",
         {
          "args": [
           "-7172645340293335110",
           "-7172645340293335110"
          ],
          "function": "ndarray_add"
         }
        ],
        "-7077347480895772353": [
         "-1927693558332765614",
         {
          "args": [
           "-9181448698224066163",
           "-1448899694609174123"
          ],
          "function": "Abstraction.__call__",
          "type_params": {
           "T": {
            "type": "Integer"
           },
           "U": {
            "params": {
             "T": {
              "params": {
               "T": {
                "type": "Integer"
               },
               "U": {
                "params": {
                 "T": {
                  "type": "Integer"
                 }
                },
                "type": "Vec"
               }
              },
              "type": "Either"
             }
            },
            "type": "Maybe"
           }
          }
         }
        ],
        "-7166437524877307118": [
         "-9177130969686516551",
         {
          "args": [
           "8473768900579042353"
          ],
          "function": "NDArrayCompat.from_ndarray"
         }
        ],
        "-7172645340293335110": [
         "1478565890208829064",
         {
          "args": [
           "7929563447225870375"
          ],
          "function": "arange"
         }
        ],
        "-724992619004743543": [
         "-9177130969686516551",
         {
          "args": [
           "8150279795932060320"
          ],
          "function": "NDArrayCompat.from_ndarray"
         }
        ],
        "-7293254293253925776": [
         "-7293254293253925776",
         {
          "args": [
           "-4094591097972136167"
          ],
          "function": "Abstraction.from_fn"
         }
        ],
        "-7442556872907999520": [
         "-5281961658848897139",
         {
          "args": [
           "7604809585525828148"
          ],
          "function": "NDArrayCompat.to_ndarray"
         }
        ],
        "-7530698464818735296": [
         "-8549068771019930555",
         {
          "args": [
           "-1731939772881271889",
           "-5980085414178983947"
          ],
          "function": "Maybe.__and__",
          "type_params": {
           "T": {
            "type": "NDArray"
           }
          }
         }
        ],
        "-754019181540390696": [
         "-754019181540390696",
         {
          "function": "Maybe.nothing",
          "type_params": {
           "T": {
            "params": {
             "T": {
              "type": "Integer"
             },
             "U": {
              "params": {
               "T": {
                "type": "Integer"
               }
              },
              "type": "Vec"
             }
            },
            "type": "Either"
           }
          }
         }
        ],
        "-7620949637964638205": [
         "-6822852619997036823",
         {
          "args": [
           "7195713575237942534",
           "-754019181540390696",
           "75270250234121364"
          ],
          "function": "Maybe.match",
          "type_params": {
           "T": {
            "params": {
             "T": {
              "type": "Integer"
             }
            },
            "type": "Vec"
           }
          }
         }
        ],
        "-764243351141283930": [
         "-5281961658848897139",
         {
          "args": [
           "4681656734119531525",
           "7929563447330875300"
          ],
          "function": "ndarray_getitem"
         }
        ],
        "-7660677309244214554": [
         "-7660677309244214554",
         {
          "args": [
           "2939876135484546645"
          ],
          "function": "Abstraction.from_fn"
         }
        ],
        "-7696148307407477498": [
         "-7696148307407477498",
         {
          "args": [
           "3281441242190016612"
          ],
          "function": "Pair.right",
          "type_params": {
           "T": {
            "type": "NDArray"
           },
           "U": {
            "params": {
             "T": {
              "type": "Integer"
             },
             "U": {
              "params": {
               "T": {
                "type": "Integer"
               }
              },
              "type": "Vec"
             }
            },
            "type": "Either"
           }
          }
         }
        ],
        "-7717843735644360434": [
         "-5928052358113968640",
         {
          "args": [
           "-5073117767081961703",
           "-5073117767081961703"
          ],
          "function": "NDArrayCompat.__add__"
         }
        ],
        "-7831860903262410409": [
         "-2224020701084858300",
         {
          "args": [
           "4456604564882372220"
          ],
          "function": "NDArrayCompat.from_ndarray"
         }
        ],
        "-7905890774861574462": [
         "-5281961658848897139",
         {
          "args": [
           "4181086702270924620"
          ],
          "function": "NDArrayCompat.to_ndarray"
         }
        ],
        "-7970435562759903997": [
         "-7970435562759903997",
         {
          "repr": "Either.left",
          "type": "BoundInfer"
         }
        ],
        "-8020584022532179864": [
         "-2178932975760294384",
         {
          "args": [
           "1510050165098996054"
          ],
          "function": "Maybe.just",
          "type_params": {
           "T": {
            "type": "NDArray"
           }
          }
         }
        ],
        "-8030635618025669199": [
         "-5281961658848897139",
         {
          "args": [
           "-5002271024861607396"
          ],
          "function": "NDArrayCompat.to_ndarray"
         }
        ],
        "-8047665718338118652": [
         "-8047665718338118652",
         {
          "args": [
           "6103565132160316810"
          ],
          "function": "Abstraction.from_fn"
         }
        ],
        "-8049593370211554969": [
         "-5281961658848897139",
         {
          "args": [
           "-6051983548820151717",
           "8368899336284295099"
          ],
          "function": "ndarray_getitem"
         }
        ],
        "-8069525802279093698": [
         "-2178932975760294384",
         {
          "args": [
           "3276076990700150435",
           "3904670649235592956",
           "-979998564141937302"
          ],
          "function": "Maybe.match",
          "type_params": {
           "T": {
            "params": {
             "T": {
              "type": "NDArray"
             },
             "U": {
              "params": {
               "T": {
                "type": "Integer"
               },
               "U": {
                "params": {
                 "T": {
                  "type": "Integer"
                 }
                },
                "type": "Vec"
               }
              },
              "type": "Either"
             }
            },
            "type": "Pair"
           }
          }
         }
        ],
        "-8110842241103782922": [
         "-9177130969686516551",
         {
          "args": [
           "7167062366888031581"
          ],
          "function": "NDArrayCompat.from_ndarray"
         }
        ],
        "-8125440203073956716": [
         "3738807663539962808",
         {
          "args": [
           "2748478874076706913"
          ],
          "function": "Converter.convert",
          "type_params": {
           "T": {
            "type": "NDArray"
           }
          }
         }
        ],
        "-8334591979778177377": [
         "-8334591979778177377",
         {
          "args": [
           "-7660677309244214554",
           "1648329418498538327"
          ],
          "function": "Abstraction.__add__",
          "type_params": {
           "T": {
            "params": {
             "T": {
              "type": "Integer"
             },
             "U": {
              "params": {
               "T": {
                "type": "Integer"
               }
              },
              "type": "Vec"
             }
            },
            "type": "Either"
           },
           "U": {
            "params": {
             "T": {
              "params": {
               "T": {
                "type": "Integer"
               },
               "U": {
                "params": {
                 "T": {
                  "type": "Integer"
                 }
                },
                "type": "Vec"
               }
              },
              "type": "Either"
             }
            },
            "type": "Maybe"
           }
          }
         }
        ],
        "-8441167325273579413": [
         "-8441167325273579413",
         {
          "repr": "Variable(4532371976)",
          "type": "Variable"
         }
        ],
        "-8441167327920353038": [
         "-8441167327920353038",
         {
          "repr": "Variable(4532349752)",
          "type": "Variable"
         }
        ],
        "-8441167376553871188": [
         "-8441167376553871188",
         {
          "repr": "Variable(4532810584)",
          "type": "Variable"
         }
        ],
        "-8441167380741077888": [
         "-8441167380741077888",
         {
          "repr": "Variable(4532601240)",
          "type": "Variable"
         }
        ],
        "-8442994137960948810": [
         "-8442994137960948810",
         {
          "args": [
           "-3131809300698277100"
          ],
          "function": "Maybe.just"
         }
        ],
        "-8549068771019930555": [
         "-8549068771019930555",
         {
          "args": [
           "-1731939772881271889",
           "-3416066141267607679"
          ],
          "function": "Maybe.__and__",
          "type_params": {
           "T": {
            "type": "NDArray"
           }
          }
         }
        ],
        "-8591904898952679221": [
         "8368899336284295099",
         {
          "args": [
           "-1448899694609174123"
          ],
          "function": "unbox_integer"
         }
        ],
        "-8691273077242567196": [
         "5105228348163832661",
         {
          "args": [
           "6034370012444041160",
           "8821978150029802049"
          ],
          "function": "Maybe.__and__",
          "type_params": {
           "T": {
            "type": "NDArray"
           }
          }
         }
        ],
        "-8813789946771923269": [
         "-5281961658848897139",
         {
          "args": [
           "3810858848635152647"
          ],
          "function": "NDArrayCompat.to_ndarray"
         }
        ],
        "-8817432787412657013": [
         "-6822852619997036823",
         {
          "args": [
           "7195713575237942534",
           "-754019181540390696",
           "-8334591979778177377"
          ],
          "function": "Maybe.match",
          "type_params": {
           "T": {
            "params": {
             "T": {
              "type": "Integer"
             }
            },
            "type": "Vec"
           }
          }
         }
        ],
        "-8887871976037847346": [
         "8185140690946981952",
         {
          "args": [
           "-8442994137960948810",
           "-8047665718338118652"
          ],
          "function": "Maybe.map",
          "type_params": {
           "T": {
            "type": "Integer"
           }
          }
         }
        ],
        "-8952102342635871110": [
         "-8952102342635871110",
         {
          "args": [
           "-1852894578847174519",
           "3306699016847434562"
          ],
          "function": "Abstraction.create",
          "type_params": {
           "T": {
            "type": "Integer"
           },
           "U": {
            "type": "NDArray"
           }
          }
         }
        ],
        "-8998346874421760956": [
         "-2178932975760294384",
         {
          "args": [
           "-2584521374953452112",
           "-9118015370219560904"
          ],
          "function": "Maybe.map",
          "type_params": {
           "T": {
            "params": {
             "T": {
              "type": "NDArray"
             },
             "U": {
              "params": {
               "T": {
                "type": "Integer"
               },
               "U": {
                "params": {
                 "T": {
                  "type": "Integer"
                 }
                },
                "type": "Vec"
               }
              },
              "type": "Either"
             }
            },
            "type": "Pair"
           }
          }
         }
        ],
        "-906915746085849223": [
         "-1731939772881271889",
         {
          "args": [
           "-7011619711849110242"
          ],
          "function": "Converter.convert",
          "type_params": {
           "T": {
            "type": "NDArray"
           }
          }
         }
        ],
        "-9071831681035237069": [
         "-9181448698224066163",
         {
          "args": [
           "1059062756968867836",
           "-3103477373190562460"
          ],
          "function": "Abstraction.create"
         }
        ],
        "-9118015370219560904": [
         "-9118015370219560904",
         {
          "args": [
           "-1567811318780057522",
           "2264477634205654134"
          ],
          "function": "Abstraction.create",
          "type_params": {
           "T": {
            "params": {
             "T": {
              "type": "NDArray"
             },
             "U": {
              "params": {
               "T": {
                "type": "Integer"
               },
               "U": {
                "params": {
                 "T": {
                  "type": "Integer"
                 }
                },
                "type": "Vec"
               }
              },
              "type": "Either"
             }
            },
            "type": "Pair"
           },
           "U": {
            "type": "NDArray"
           }
          }
         }
        ],
        "-9177130969686516551": [
         "-9177130969686516551",
         {
          "args": [
           "-2392957684524066418",
           "7929563447330875300"
          ],
          "function": "NDArrayCompat.__getitem__"
         }
        ],
        "-9181448698224066163": [
         "-9181448698224066163",
         {
          "args": [
           "-7660677309244214554",
           "2861773729804927232"
          ],
          "function": "Abstraction.__add__",
          "type_params": {
           "T": {
            "params": {
             "T": {
              "type": "Integer"
             },
             "U": {
              "params": {
               "T": {
                "type": "Integer"
               }
              },
              "type": "Vec"
             }
            },
            "type": "Either"
           },
           "U": {
            "params": {
             "T": {
              "params": {
               "T": {
                "type": "Integer"
               },
               "U": {
                "params": {
                 "T": {
                  "type": "Integer"
                 }
                },
                "type": "Vec"
               }
              },
              "type": "Either"
             }
            },
            "type": "Maybe"
           }
          }
         }
        ],
        "-9217164084872164381": [
         "-9177130969686516551",
         {
          "args": [
           "7564849359004638878"
          ],
          "function": "NDArrayCompat.from_ndarray"
         }
        ],
        "-966770576982675144": [
         "-966770576982675144",
         {
          "args": [
           "-7970435562759903997"
          ],
          "function": "Abstraction.from_fn"
         }
        ],
        "-979998564141937302": [
         "-979998564141937302",
         {
          "args": [
           "-1567811318780057522",
           "-4655842278390333752"
          ],
          "function": "Abstraction.create"
         }
        ],
        "1059062756968867836": [
         "1059062756968867836",
         {
          "args": [
           "-8441167380741077888"
          ],
          "function": "Abstraction.create_variable",
          "type_params": {
           "T": {
            "type": "Integer"
           },
           "U": {
            "params": {
             "T": {
              "type": "Integer"
             },
             "U": {
              "params": {
               "T": {
                "type": "Integer"
               }
              },
              "type": "Vec"
             }
            },
            "type": "Either"
           }
          }
         }
        ],
        "1124171096562325806": [
         "7023613846905740443",
         {
          "args": [
           "7210536553855986561",
           "-9118015370219560904"
          ],
          "function": "Abstraction.__add__",
          "type_params": {
           "T": {
            "type": "NDArray"
           },
           "U": {
            "params": {
             "T": {
              "type": "NDArray"
             }
            },
            "type": "Maybe"
           }
          }
         }
        ],
        "1205964400146739604": [
         "5105228348163832661",
         {
          "args": [
           "8160375906643553213",
           "-5596765414591522228"
          ],
          "function": "Maybe.__and__",
          "type_params": {
           "T": {
            "type": "NDArray"
           }
          }
         }
        ],
        "1264953580351725809": [
         "-9177130969686516551",
         {
          "args": [
           "4056124902168107402"
          ],
          "function": "NDArrayCompat.from_ndarray"
         }
        ],
        "1275872575919909872": [
         "-9177130969686516551",
         {
          "args": [
           "-3237214598058232513"
          ],
          "function": "NDArrayCompat.from_ndarray"
         }
        ],
        "1379772526540993227": [
         "1379772526540993227",
         {
          "args": [
           "6102774012109720231"
          ],
          "function": "Maybe.just",
          "type_params": {
           "T": {
            "type": "NDArray"
           }
          }
         }
        ],
        "1435844399326717123": [
         "5105228348163832661",
         {
          "args": [
           "4412416794792270398",
           "7241302157445506915"
          ],
          "function": "Maybe.__and__",
          "type_params": {
           "T": {
            "type": "NDArray"
           }
          }
         }
        ],
        "1475979828097991852": [
         "-6880367450692664388",
         {
          "args": [
           "-2111247561356716541",
           "-3131809300698277100"
          ],
          "function": "Abstraction.__call__",
          "type_params": {
           "T": {
            "type": "Integer"
           },
           "U": {
            "params": {
             "T": {
              "type": "NDArray"
             }
            },
            "type": "Maybe"
           }
          }
         }
        ],
        "1478565890208829064": [
         "1478565890208829064",
         {
          "args": [
           "5668266280651108832"
          ],
          "function": "NDArray.to_ndarray"
         }
        ],
        "1501117769350601043": [
         "1501117769350601043",
         {
          "args": [
           "7417534677030413501",
           "-3131809300698277100"
          ],
          "function": "Abstraction.__call__",
          "type_params": {
           "T": {
            "type": "Integer"
           },
           "U": {
            "params": {
             "T": {
              "type": "NDArray"
             }
            },
            "type": "Maybe"
           }
          }
         }
        ],
        "1503670130711119168": [
         "-5281961658848897139",
         {
          "args": [
           "19365732303179799"
          ],
          "function": "NDArrayCompat.to_ndarray"
         }
        ],
        "1510050165098996054": [
         "1706398612661724173",
         {
          "args": [
           "5755504588054598894",
           "3438482133718761997"
          ],
          "function": "NDArray.__getitem__"
         }
        ],
        "1556497383409340477": [
         "-2178932975760294384",
         {
          "args": [
           "8278597593574582942",
           "3904670649235592956",
           "-979998564141937302"
          ],
          "function": "Maybe.match",
          "type_params": {
           "T": {
            "params": {
             "T": {
              "type": "NDArray"
             },
             "U": {
              "params": {
               "T": {
                "type": "Integer"
               },
               "U": {
                "params": {
                 "T": {
                  "type": "Integer"
                 }
                },
                "type": "Vec"
               }
              },
              "type": "Either"
             }
            },
            "type": "Pair"
           }
          }
         }
        ],
        "1648329418498538327": [
         "1648329418498538327",
         {
          "args": [
           "-5788305488585017870",
           "5276140271914404268"
          ],
          "function": "Abstraction.create",
          "type_params": {
           "T": {
            "params": {
             "T": {
              "type": "Integer"
             }
            },
            "type": "Vec"
           },
           "U": {
            "params": {
             "T": {
              "type": "Integer"
             },
             "U": {
              "params": {
               "T": {
                "type": "Integer"
               }
              },
              "type": "Vec"
             }
            },
            "type": "Either"
           }
          }
         }
        ],
        "1669952521964761772": [
         "-5281961658848897139",
         {
          "args": [
           "-8110842241103782922"
          ],
          "function": "NDArrayCompat.to_ndarray"
         }
        ],
        "167139333153174711": [
         "167139333153174711",
         {
          "args": [
           "-3411503716089640314",
           "3438482133718761997"
          ],
          "function": "NDArray.__getitem__"
         }
        ],
        "1706398612661724173": [
         "1706398612661724173",
         {
          "args": [
           "5755504588054598894",
           "-7696148307407477498"
          ],
          "function": "NDArray.__getitem__"
         }
        ],
        "1866713766725349270": [
         "-5281961658848897139",
         {
          "args": [
           "3428731295290351088"
          ],
          "function": "NDArrayCompat.to_ndarray"
         }
        ],
        "1888482096358126515": [
         "1478565890208829064",
         {
          "args": [
           "6695801540915528909"
          ],
          "function": "arange"
         }
        ],
        "1889659546891565862": [
         "-9177130969686516551",
         {
          "args": [
           "3725999330449697263"
          ],
          "function": "NDArrayCompat.from_ndarray"
         }
        ],
        "192787192234352278": [
         "-5281961658848897139",
         {
          "args": [
           "1264953580351725809"
          ],
          "function": "NDArrayCompat.to_ndarray"
         }
        ],
        "19365732303179799": [
         "-9177130969686516551",
         {
          "args": [
           "6220958238760007611"
          ],
          "function": "NDArrayCompat.from_ndarray"
         }
        ],
        "1947658605703421602": [
         "5105228348163832661",
         {
          "args": [
           "6034370012444041160",
           "7241302157445506915"
          ],
          "function": "Maybe.__and__",
          "type_params": {
           "T": {
            "type": "NDArray"
           }
          }
         }
        ],
        "2124215296879408225": [
         "-9177130969686516551",
         {
          "args": [
           "-3126480785575616036"
          ],
          "function": "NDArrayCompat.from_ndarray"
         }
        ],
        "2204826897264784190": [
         "2204826897264784190",
         {
          "args": [
           "7195713575237942534",
           "7839880492979038879"
          ],
          "function": "Maybe.map",
          "type_params": {
           "T": {
            "params": {
             "T": {
              "type": "Integer"
             }
            },
            "type": "Vec"
           }
          }
         }
        ],
        "2264477634205654134": [
         "2264477634205654134",
         {
          "args": [
           "6869289972660339569",
           "-5066980431023388391"
          ],
          "function": "NDArray.__getitem__"
         }
        ],
        "2323171471742117409": [
         "-5281961658848897139",
         {
          "args": [
           "-6051983548820151717",
           "-8591904898952679221"
          ],
          "function": "ndarray_getitem"
         }
        ],
        "232939652242167621": [
         "-2178932975760294384",
         {
          "args": [
           "167139333153174711"
          ],
          "function": "Maybe.just",
          "type_params": {
           "T": {
            "type": "NDArray"
           }
          }
         }
        ],
        "2342498251596656547": [
         "5105228348163832661",
         {
          "args": [
           "7475225506484376816",
           "8955685588577225007"
          ],
          "function": "Maybe.__and__",
          "type_params": {
           "T": {
            "type": "NDArray"
           }
          }
         }
        ],
        "2641412347700615951": [
         "-8549068771019930555",
         {
          "args": [
           "-4118019760064062043",
           "-5980085414178983947"
          ],
          "function": "Maybe.__and__",
          "type_params": {
           "T": {
            "type": "NDArray"
           }
          }
         }
        ],
        "264614723978702256": [
         "-9177130969686516551",
         {
          "args": [
           "3216736406715560061"
          ],
          "function": "NDArrayCompat.from_ndarray"
         }
        ],
        "2683581776710087647": [
         "-9177130969686516551",
         {
          "args": [
           "-1798155223930758459"
          ],
          "function": "NDArrayCompat.from_ndarray"
         }
        ],
        "2748478874076706913": [
         "-5928052358113968640",
         {
          "args": [
           "-326778002507247179",
           "-2224020701084858300"
          ],
          "function": "NDArrayCompat.__add__"
         }
        ],
        "2855355018387612803": [
         "-5281961658848897139",
         {
          "args": [
           "264614723978702256"
          ],
          "function": "NDArrayCompat.to_ndarray"
         }
        ],
        "2861773729804927232": [
         "2861773729804927232",
         {
          "args": [
           "1059062756968867836",
           "-5394518138794402984"
          ],
          "function": "Abstraction.create",
          "type_params": {
           "T": {
            "type": "Integer"
           },
           "U": {
            "params": {
             "T": {
              "type": "Integer"
             },
             "U": {
              "params": {
               "T": {
                "type": "Integer"
               }
              },
              "type": "Vec"
             }
            },
            "type": "Either"
           }
          }
         }
        ],
        "2893270503678382867": [
         "3738807663539962808",
         {
          "args": [
           "8159527261163156774"
          ],
          "function": "Converter.convert",
          "type_params": {
           "T": {
            "type": "NDArray"
           }
          }
         }
        ],
        "2939876135484546645": [
         "2939876135484546645",
         {
          "repr": "Maybe.just",
          "type": "BoundInfer"
         }
        ],
        "3058467386769174257": [
         "-2178932975760294384",
         {
          "args": [
           "790147958428009313",
           "3904670649235592956",
           "7023613846905740443"
          ],
          "function": "Maybe.match",
          "type_params": {
           "T": {
            "params": {
             "T": {
              "type": "NDArray"
             },
             "U": {
              "params": {
               "T": {
                "type": "Integer"
               },
               "U": {
                "params": {
                 "T": {
                  "type": "Integer"
                 }
                },
                "type": "Vec"
               }
              },
              "type": "Either"
             }
            },
            "type": "Pair"
           }
          }
         }
        ],
        "3093590991159885856": [
         "5105228348163832661",
         {
          "args": [
           "-2349488285811446359",
           "7241302157445506915"
          ],
          "function": "Maybe.__and__",
          "type_params": {
           "T": {
            "type": "NDArray"
           }
          }
         }
        ],
        "3125821275735179278": [
         "-5281961658848897139",
         {
          "args": [
           "-724992619004743543"
          ],
          "function": "NDArrayCompat.to_ndarray"
         }
        ],
        "3146937952497747921": [
         "3146937952497747921",
         {
          "args": [
           "7929563447330875300"
          ],
          "function": "Converter.convert",
          "type_params": {
           "T": {
            "type": "Integer"
           }
          }
         }
        ],
        "3216736406715560061": [
         "-2178932975760294384",
         {
          "args": [
           "-8691273077242567196",
           "3904670649235592956",
           "-979998564141937302"
          ],
          "function": "Maybe.match",
          "type_params": {
           "T": {
            "params": {
             "T": {
              "type": "NDArray"
             },
             "U": {
              "params": {
               "T": {
                "type": "Integer"
               },
               "U": {
                "params": {
                 "T": {
                  "type": "Integer"
                 }
                },
                "type": "Vec"
               }
              },
              "type": "Either"
             }
            },
            "type": "Pair"
           }
          }
         }
        ],
        "3238987944950215735": [
         "-5281961658848897139",
         {
          "args": [
           "326943043175542900"
          ],
          "function": "NDArrayCompat.to_ndarray"
         }
        ],
        "326943043175542900": [
         "-9177130969686516551",
         {
          "args": [
           "-2674899029458429109"
          ],
          "function": "NDArrayCompat.from_ndarray"
         }
        ],
        "3276076990700150435": [
         "5105228348163832661",
         {
          "args": [
           "8225854957596729840",
           "8955685588577225007"
          ],
          "function": "Maybe.__and__",
          "type_params": {
           "T": {
            "type": "NDArray"
           }
          }
         }
        ],
        "3281441242190016612": [
         "3281441242190016612",
         {
          "args": [
           "-3411503716089640314",
           "3438482133718761997"
          ],
          "function": "Pair.create"
         }
        ],
        "3286405099378477051": [
         "-9177130969686516551",
         {
          "args": [
           "8465581987633940022"
          ],
          "function": "NDArrayCompat.from_ndarray"
         }
        ],
        "3306699016847434562": [
         "3306699016847434562",
         {
          "args": [
           "-1852894578847174519"
          ],
          "function": "arange_"
         }
        ],
        "3428731295290351088": [
         "-9177130969686516551",
         {
          "args": [
           "-46570811318456514"
          ],
          "function": "NDArrayCompat.from_ndarray"
         }
        ],
        "3438482133718761997": [
         "3438482133718761997",
         {
          "args": [
           "-1448899694609174123"
          ],
          "function": "Either.left",
          "type_params": {
           "T": {
            "type": "Integer"
           },
           "U": {
            "params": {
             "T": {
              "type": "Integer"
             }
            },
            "type": "Vec"
           }
          }
         }
        ],
        "3464842294167772706": [
         "3738807663539962808",
         {
          "args": [
           "8824695112797766569"
          ],
          "function": "Converter.convert",
          "type_params": {
           "T": {
            "type": "NDArray"
           }
          }
         }
        ],
        "3497394292135972729": [
         "-5281961658848897139",
         {
          "args": [
           "8145083593342055103"
          ],
          "function": "NDArrayCompat.to_ndarray"
         }
        ],
        "3725999330449697263": [
         "-2178932975760294384",
         {
          "args": [
           "5105228348163832661",
           "3904670649235592956",
           "7023613846905740443"
          ],
          "function": "Maybe.match",
          "type_params": {
           "T": {
            "params": {
             "T": {
              "type": "NDArray"
             },
             "U": {
              "params": {
               "T": {
                "type": "Integer"
               },
               "U": {
                "params": {
                 "T": {
                  "type": "Integer"
                 }
                },
                "type": "Vec"
               }
              },
              "type": "Either"
             }
            },
            "type": "Pair"
           }
          }
         }
        ],
        "3738807663539962808": [
         "3738807663539962808",
         {
          "args": [
           "-5928052358113968640"
          ],
          "function": "Converter.convert",
          "type_params": {
           "T": {
            "type": "NDArray"
           }
          }
         }
        ],
        "3748779951611522878": [
         "3748779951611522878",
         {
          "args": [
           "7164926897100554226",
           "8362505944321486831"
          ],
          "function": "Abstraction.create",
          "type_params": {
           "T": {
            "type": "NDArray"
           },
           "U": {
            "params": {
             "T": {
              "type": "NDArray"
             }
            },
            "type": "Maybe"
           }
          }
         }
        ],
        "3810858848635152647": [
         "-9177130969686516551",
         {
          "args": [
           "8364527385779016842"
          ],
          "function": "NDArrayCompat.from_ndarray"
         }
        ],
        "3866244541187059488": [
         "3866244541187059488",
         {
          "args": [
           "7929563447225870375"
          ],
          "function": "Converter.convert",
          "type_params": {
           "T": {
            "type": "Integer"
           }
          }
         }
        ],
        "3904670649235592956": [
         "3904670649235592956",
         {
          "function": "Maybe.nothing",
          "type_params": {
           "T": {
            "type": "NDArray"
           }
          }
         }
        ],
        "3928979941275204021": [
         "-2178932975760294384",
         {
          "args": [
           "-979998564141937302",
           "3281441242190016612"
          ],
          "function": "Abstraction.__call__",
          "type_params": {
           "T": {
            "params": {
             "T": {
              "type": "NDArray"
             },
             "U": {
              "params": {
               "T": {
                "type": "Integer"
               },
               "U": {
                "params": {
                 "T": {
                  "type": "Integer"
                 }
                },
                "type": "Vec"
               }
              },
              "type": "Either"
             }
            },
            "type": "Pair"
           },
           "U": {
            "params": {
             "T": {
              "type": "NDArray"
             }
            },
            "type": "Maybe"
           }
          }
         }
        ],
        "39861854122661410": [
         "-2178932975760294384",
         {
          "args": [
           "-150511557441503979",
           "-9118015370219560904"
          ],
          "function": "Maybe.map",
          "type_params": {
           "T": {
            "params": {
             "T": {
              "type": "NDArray"
             },
             "U": {
              "params": {
               "T": {
                "type": "Integer"
               },
               "U": {
                "params": {
                 "T": {
                  "type": "Integer"
                 }
                },
                "type": "Vec"
               }
              },
              "type": "Either"
             }
            },
            "type": "Pair"
           }
          }
         }
        ],
        "4018705536740731172": [
         "-9177130969686516551",
         {
          "args": [
           "-5261918083163352740"
          ],
          "function": "NDArrayCompat.from_ndarray"
         }
        ],
        "4056124902168107402": [
         "-2178932975760294384",
         {
          "args": [
           "4621034664011234982",
           "3904670649235592956",
           "-979998564141937302"
          ],
          "function": "Maybe.match",
          "type_params": {
           "T": {
            "params": {
             "T": {
              "type": "NDArray"
             },
             "U": {
              "params": {
               "T": {
                "type": "Integer"
               },
               "U": {
                "params": {
                 "T": {
                  "type": "Integer"
                 }
                },
                "type": "Vec"
               }
              },
              "type": "Either"
             }
            },
            "type": "Pair"
           }
          }
         }
        ],
        "4181086702270924620": [
         "-9177130969686516551",
         {
          "args": [
           "-2070786939647750622"
          ],
          "function": "NDArrayCompat.from_ndarray"
         }
        ],
        "4288836549562167401": [
         "5105228348163832661",
         {
          "args": [
           "-8125440203073956716",
           "-5596765414591522228"
          ],
          "function": "Maybe.__and__",
          "type_params": {
           "T": {
            "type": "NDArray"
           }
          }
         }
        ],
        "4344538302833644691": [
         "4344538302833644691",
         {
          "args": [
           "3748779951611522878",
           "-8952102342635871110"
          ],
          "function": "Abstraction.__add__",
          "type_params": {
           "T": {
            "type": "NDArray"
           },
           "U": {
            "params": {
             "T": {
              "type": "NDArray"
             }
            },
            "type": "Maybe"
           }
          }
         }
        ],
        "4357491119790259636": [
         "-5281961658848897139",
         {
          "args": [
           "-4063692649573402404"
          ],
          "function": "NDArrayCompat.to_ndarray"
         }
        ],
        "4409197928594064543": [
         "-5281961658848897139",
         {
          "args": [
           "-184917476802828996"
          ],
          "function": "NDArrayCompat.to_ndarray"
         }
        ],
        "4412416794792270398": [
         "3738807663539962808",
         {
          "args": [
           "-4574192517958908719"
          ],
          "function": "Converter.convert",
          "type_params": {
           "T": {
            "type": "NDArray"
           }
          }
         }
        ],
        "4456604564882372220": [
         "-6880367450692664388",
         {
          "args": [
           "-3815901700388079820",
           "-3131809300698277100"
          ],
          "function": "Abstraction.__call__",
          "type_params": {
           "T": {
            "type": "Integer"
           },
           "U": {
            "params": {
             "T": {
              "type": "NDArray"
             }
            },
            "type": "Maybe"
           }
          }
         }
        ],
        "4621034664011234982": [
         "5105228348163832661",
         {
          "args": [
           "6034370012444041160",
           "6310547295580285112"
          ],
          "function": "Maybe.__and__",
          "type_params": {
           "T": {
            "type": "NDArray"
           }
          }
         }
        ],
        "4659314994779263334": [
         "-5281961658848897139",
         {
          "args": [
           "512113888617637249"
          ],
          "function": "NDArrayCompat.to_ndarray"
         }
        ],
        "467193670212018109": [
         "-5281961658848897139",
         {
          "args": [
           "1889659546891565862"
          ],
          "function": "NDArrayCompat.to_ndarray"
         }
        ],
        "4681656730430286325": [
         "1478565890208829064",
         {
          "repr": "array([ 0,  1,  2,  3,  4,  5,  6,  7,  8,  9, 10, 11, 12, 13, 14, 15, 16,\n       17, 18, 19, 20, 21, 22, 23, 24, 25, 26, 27, 28, 29, 30, 31, 32, 33,\n       34, 35, 36, 37, 38, 39, 40, 41, 42, 43, 44, 45, 46, 47, 48, 49, 50,\n       51, 52, 53, 54, 55, 56, 57, 58, 59, 60, 61, 62, 63, 64, 65, 66, 67,\n       68, 69, 70, 71, 72, 73, 74, 75, 76, 77, 78, 79, 80, 81, 82, 83, 84,\n       85, 86, 87, 88, 89, 90, 91, 92, 93, 94, 95, 96, 97, 98, 99])",
          "type": "ndarray"
         }
        ],
        "4681656734119531525": [
         "-6051983548820151717",
         {
          "repr": "array([  0,   2,   4,   6,   8,  10,  12,  14,  16,  18,  20,  22,  24,\n        26,  28,  30,  32,  34,  36,  38,  40,  42,  44,  46,  48,  50,\n        52,  54,  56,  58,  60,  62,  64,  66,  68,  70,  72,  74,  76,\n        78,  80,  82,  84,  86,  88,  90,  92,  94,  96,  98, 100, 102,\n       104, 106, 108, 110, 112, 114, 116, 118, 120, 122, 124, 126, 128,\n       130, 132, 134, 136, 138, 140, 142, 144, 146, 148, 150, 152, 154,\n       156, 158, 160, 162, 164, 166, 168, 170, 172, 174, 176, 178, 180,\n       182, 184, 186, 188, 190, 192, 194, 196, 198])",
          "type": "ndarray"
         }
        ],
        "4681657163630810725": [
         "-5281961658848897139",
         {
          "repr": "array(10)",
          "type": "ndarray"
         }
        ],
        "4803971645114961552": [
         "4803971645114961552",
         {
          "args": [
           "7929849651593918375"
          ],
          "function": "Abstraction.from_fn",
          "type_params": {
           "T": {
            "params": {
             "T": {
              "type": "NDArray"
             },
             "U": {
              "params": {
               "T": {
                "type": "Integer"
               },
               "U": {
                "params": {
                 "T": {
                  "type": "Integer"
                 }
                },
                "type": "Vec"
               }
              },
              "type": "Either"
             }
            },
            "type": "Pair"
           },
           "U": {
            "type": "NDArray"
           }
          }
         }
        ],
        "4865162026085052172": [
         "4865162026085052172",
         {
          "args": [
           "3146937952497747921",
           "-966770576982675144"
          ],
          "function": "Maybe.map",
          "type_params": {
           "T": {
            "type": "Integer"
           }
          }
         }
        ],
        "4916320021783949814": [
         "3738807663539962808",
         {
          "args": [
           "-6171369598117617926"
          ],
          "function": "Converter.convert",
          "type_params": {
           "T": {
            "type": "NDArray"
           }
          }
         }
        ],
        "5001873403081188039": [
         "5001873403081188039",
         {
          "args": [
           "-1705905533886788551"
          ],
          "function": "Maybe.just",
          "type_params": {
           "T": {
            "params": {
             "T": {
              "type": "Integer"
             },
             "U": {
              "params": {
               "T": {
                "type": "Integer"
               }
              },
              "type": "Vec"
             }
            },
            "type": "Either"
           }
          }
         }
        ],
        "5019884390065704826": [
         "-5281961658848897139",
         {
          "args": [
           "4018705536740731172"
          ],
          "function": "NDArrayCompat.to_ndarray"
         }
        ],
        "5105228348163832661": [
         "5105228348163832661",
         {
          "args": [
           "3738807663539962808",
           "7168750140140484019"
          ],
          "function": "Maybe.__and__",
          "type_params": {
           "T": {
            "type": "NDArray"
           }
          }
         }
        ],
        "512113888617637249": [
         "-9177130969686516551",
         {
          "args": [
           "-8069525802279093698"
          ],
          "function": "NDArrayCompat.from_ndarray"
         }
        ],
        "5160524566463964012": [
         "5105228348163832661",
         {
          "args": [
           "-2349488285811446359",
           "-5596765414591522228"
          ],
          "function": "Maybe.__and__",
          "type_params": {
           "T": {
            "type": "NDArray"
           }
          }
         }
        ],
        "5276140271914404268": [
         "5276140271914404268",
         {
          "args": [
           "-5788305488585017870"
          ],
          "function": "Either.right",
          "type_params": {
           "T": {
            "type": "Integer"
           },
           "U": {
            "params": {
             "T": {
              "type": "Integer"
             }
            },
            "type": "Vec"
           }
          }
         }
        ],
        "5378610294031420407": [
         "-5281961658848897139",
         {
          "args": [
           "-336318807303650252"
          ],
          "function": "NDArrayCompat.to_ndarray"
         }
        ],
        "538172979487181565": [
         "-2224020701084858300",
         {
          "args": [
           "8522449151473608332"
          ],
          "function": "NDArrayCompat.from_ndarray"
         }
        ],
        "543791791595042277": [
         "-5281961658848897139",
         {
          "args": [
           "-682004686293093714"
          ],
          "function": "NDArrayCompat.to_ndarray"
         }
        ],
        "5488138619019703445": [
         "-9177130969686516551",
         {
          "args": [
           "6478834753594748325"
          ],
          "function": "NDArrayCompat.from_ndarray"
         }
        ],
        "5668266280651108832": [
         "5668266280651108832",
         {
          "args": [
           "-3131809300698277100"
          ],
          "function": "arange_"
         }
        ],
        "5755504588054598894": [
         "5755504588054598894",
         {
          "args": [
           "3281441242190016612"
          ],
          "function": "Pair.left",
          "type_params": {
           "T": {
            "type": "NDArray"
           },
           "U": {
            "params": {
             "T": {
              "type": "Integer"
             },
             "U": {
              "params": {
               "T": {
                "type": "Integer"
               }
              },
              "type": "Vec"
             }
            },
            "type": "Either"
           }
          }
         }
        ],
        "5861720140862631724": [
         "-1927693558332765614",
         {
          "args": [
           "-4057743209670033856",
           "-754019181540390696",
           "-9181448698224066163"
          ],
          "function": "Maybe.match",
          "type_params": {
           "T": {
            "type": "Integer"
           }
          }
         }
        ],
        "5957414941209220213": [
         "5957414941209220213",
         {
          "args": [
           "7929563447225870375"
          ],
          "function": "arange"
         }
        ],
        "5986287749207772674": [
         "-5281961658848897139",
         {
          "args": [
           "-1713706598553016229",
           "7929563447330875300"
          ],
          "function": "ndarray_getitem"
         }
        ],
        "601783772926128064": [
         "-5281961658848897139",
         {
          "args": [
           "5488138619019703445"
          ],
          "function": "NDArrayCompat.to_ndarray"
         }
        ],
        "6034370012444041160": [
         "3738807663539962808",
         {
          "args": [
           "-4956525522698191664"
          ],
          "function": "Converter.convert",
          "type_params": {
           "T": {
            "type": "NDArray"
           }
          }
         }
        ],
        "6102774012109720231": [
         "6102774012109720231",
         {
          "args": [
           "-8441167376553871188"
          ],
          "function": "Abstraction.create_variable",
          "type_params": {
           "T": {
            "type": "NDArray"
           },
           "U": {
            "params": {
             "T": {
              "type": "NDArray"
             }
            },
            "type": "Maybe"
           }
          }
         }
        ],
        "6103565132160316810": [
         "6103565132160316810",
         {
          "repr": "arange_",
          "type": "Infer"
         }
        ],
        "6220958238760007611": [
         "-2178932975760294384",
         {
          "args": [
           "1435844399326717123",
           "3904670649235592956",
           "1124171096562325806"
          ],
          "function": "Maybe.match",
          "type_params": {
           "T": {
            "params": {
             "T": {
              "type": "NDArray"
             },
             "U": {
              "params": {
               "T": {
                "type": "Integer"
               },
               "U": {
                "params": {
                 "T": {
                  "type": "Integer"
                 }
                },
                "type": "Vec"
               }
              },
              "type": "Either"
             }
            },
            "type": "Pair"
           }
          }
         }
        ],
        "6310547295580285112": [
         "7168750140140484019",
         {
          "args": [
           "-3715420078525920815",
           "-7620949637964638205"
          ],
          "function": "Maybe.__or__",
          "type_params": {
           "T": {
            "params": {
             "T": {
              "type": "Integer"
             },
             "U": {
              "params": {
               "T": {
                "type": "Integer"
               }
              },
              "type": "Vec"
             }
            },
            "type": "Either"
           }
          }
         }
        ],
        "6426084477688557308": [
         "6426084477688557308",
         {
          "args": [
           "5276140271914404268"
          ],
          "function": "Maybe.just",
          "type_params": {
           "T": {
            "params": {
             "T": {
              "type": "Integer"
             },
             "U": {
              "params": {
               "T": {
                "type": "Integer"
               }
              },
              "type": "Vec"
             }
            },
            "type": "Either"
           }
          }
         }
        ],
        "6478834753594748325": [
         "-2178932975760294384",
         {
          "args": [
           "-5760226355314994421",
           "3904670649235592956",
           "-979998564141937302"
          ],
          "function": "Maybe.match",
          "type_params": {
           "T": {
            "params": {
             "T": {
              "type": "NDArray"
             },
             "U": {
              "params": {
               "T": {
                "type": "Integer"
               },
               "U": {
                "params": {
                 "T": {
                  "type": "Integer"
                 }
                },
                "type": "Vec"
               }
              },
              "type": "Either"
             }
            },
            "type": "Pair"
           }
          }
         }
        ],
        "6555983600465518041": [
         "-8549068771019930555",
         {
          "args": [
           "-1731939772881271889",
           "-656138738490108348"
          ],
          "function": "Maybe.__and__",
          "type_params": {
           "T": {
            "type": "NDArray"
           }
          }
         }
        ],
        "6607133612709699955": [
         "-5281961658848897139",
         {
          "args": [
           "-9217164084872164381"
          ],
          "function": "NDArrayCompat.to_ndarray"
         }
        ],
        "6657799245420990369": [
         "-5281961658848897139",
         {
          "args": [
           "-4997712263342911668"
          ],
          "function": "NDArrayCompat.to_ndarray"
         }
        ],
        "6695801540915528909": [
         "6695801540915528909",
         {
          "args": [
           "-3131809300698277100"
          ],
          "function": "unbox_integer"
         }
        ],
        "6840992835378849873": [
         "4865162026085052172",
         {
          "args": [
           "-4057743209670033856",
           "-966770576982675144"
          ],
          "function": "Maybe.map",
          "type_params": {
           "T": {
            "type": "Integer"
           }
          }
         }
        ],
        "6849173173472077666": [
         "-8549068771019930555",
         {
          "args": [
           "-906915746085849223",
           "-5980085414178983947"
          ],
          "function": "Maybe.__and__",
          "type_params": {
           "T": {
            "type": "NDArray"
           }
          }
         }
        ],
        "6869289972660339569": [
         "6869289972660339569",
         {
          "args": [
           "-1567811318780057522"
          ],
          "function": "Pair.left",
          "type_params": {
           "T": {
            "type": "NDArray"
           },
           "U": {
            "params": {
             "T": {
              "type": "Integer"
             },
             "U": {
              "params": {
               "T": {
                "type": "Integer"
               }
              },
              "type": "Vec"
             }
            },
            "type": "Either"
           }
          }
         }
        ],
        "6956738586168736130": [
         "-3416066141267607679",
         {
          "args": [
           "6840992835378849873",
           "-6822852619997036823"
          ],
          "function": "Maybe.__or__",
          "type_params": {
           "T": {
            "params": {
             "T": {
              "type": "Integer"
             },
             "U": {
              "params": {
               "T": {
                "type": "Integer"
               }
              },
              "type": "Vec"
             }
            },
            "type": "Either"
           }
          }
         }
        ],
        "7023613846905740443": [
         "7023613846905740443",
         {
          "args": [
           "-7293254293253925776",
           "-9118015370219560904"
          ],
          "function": "Abstraction.__add__",
          "type_params": {
           "T": {
            "type": "NDArray"
           },
           "U": {
            "params": {
             "T": {
              "type": "NDArray"
             }
            },
            "type": "Maybe"
           }
          }
         }
        ],
        "7164926897100554226": [
         "7164926897100554226",
         {
          "args": [
           "-8441167325273579413"
          ],
          "function": "Abstraction.create_variable",
          "type_params": {
           "T": {
            "type": "NDArray"
           },
           "U": {
            "params": {
             "T": {
              "type": "NDArray"
             }
            },
            "type": "Maybe"
           }
          }
         }
        ],
        "7167062366888031581": [
         "-2178932975760294384",
         {
          "args": [
           "6555983600465518041",
           "4803971645114961552"
          ],
          "function": "Maybe.map",
          "type_params": {
           "T": {
            "params": {
             "T": {
              "type": "NDArray"
             },
             "U": {
              "params": {
               "T": {
                "type": "Integer"
               },
               "U": {
                "params": {
                 "T": {
                  "type": "Integer"
                 }
                },
                "type": "Vec"
               }
              },
              "type": "Either"
             }
            },
            "type": "Pair"
           }
          }
         }
        ],
        "7168750140140484019": [
         "7168750140140484019",
         {
          "args": [
           "-1927693558332765614",
           "-6822852619997036823"
          ],
          "function": "Maybe.__or__",
          "type_params": {
           "T": {
            "params": {
             "T": {
              "type": "Integer"
             },
             "U": {
              "params": {
               "T": {
                "type": "Integer"
               }
              },
              "type": "Vec"
             }
            },
            "type": "Either"
           }
          }
         }
        ],
        "7195713575237942534": [
         "7195713575237942534",
         {
          "args": [
           "7929563447330875300"
          ],
          "function": "Converter.convert",
          "type_params": {
           "T": {
            "params": {
             "T": {
              "type": "Integer"
             }
            },
            "type": "Vec"
           }
          }
         }
        ],
        "7210536553855986561": [
         "-7293254293253925776",
         {
          "args": [
           "6102774012109720231",
           "1379772526540993227"
          ],
          "function": "Abstraction.create",
          "type_params": {
           "T": {
            "type": "NDArray"
           },
           "U": {
            "params": {
             "T": {
              "type": "NDArray"
             }
            },
            "type": "Maybe"
           }
          }
         }
        ],
        "7241302157445506915": [
         "7168750140140484019",
         {
          "args": [
           "8315901269190522822",
           "-5874662002019313860"
          ],
          "function": "Maybe.__or__",
          "type_params": {
           "T": {
            "params": {
             "T": {
              "type": "Integer"
             },
             "U": {
              "params": {
               "T": {
                "type": "Integer"
               }
              },
              "type": "Vec"
             }
            },
            "type": "Either"
           }
          }
         }
        ],
        "7411810815739975417": [
         "-5928052358113968640",
         {
          "args": [
           "8225854957596729840"
          ],
          "function": "NDArrayCompat.from_ndarray"
         }
        ],
        "7417534677030413501": [
         "7417534677030413501",
         {
          "args": [
           "-7293254293253925776",
           "-8952102342635871110"
          ],
          "function": "Abstraction.__add__",
          "type_params": {
           "T": {
            "type": "NDArray"
           },
           "U": {
            "params": {
             "T": {
              "type": "NDArray"
             }
            },
            "type": "Maybe"
           }
          }
         }
        ],
        "7475225506484376816": [
         "3738807663539962808",
         {
          "args": [
           "-2148437186735635834"
          ],
          "function": "Converter.convert",
          "type_params": {
           "T": {
            "type": "NDArray"
           }
          }
         }
        ],
        "75270250234121364": [
         "-8334591979778177377",
         {
          "args": [
           "-5788305488585017870",
           "6426084477688557308"
          ],
          "function": "Abstraction.create"
         }
        ],
        "7564849359004638878": [
         "-2178932975760294384",
         {
          "args": [
           "-1050096578571021704",
           "3904670649235592956",
           "7023613846905740443"
          ],
          "function": "Maybe.match",
          "type_params": {
           "T": {
            "params": {
             "T": {
              "type": "NDArray"
             },
             "U": {
              "params": {
               "T": {
                "type": "Integer"
               },
               "U": {
                "params": {
                 "T": {
                  "type": "Integer"
                 }
                },
                "type": "Vec"
               }
              },
              "type": "Either"
             }
            },
            "type": "Pair"
           }
          }
         }
        ],
        "7576600612786205063": [
         "-2178932975760294384",
         {
          "args": [
           "1706398612661724173"
          ],
          "function": "Maybe.just",
          "type_params": {
           "T": {
            "type": "NDArray"
           }
          }
         }
        ],
        "7604809585525828148": [
         "-9177130969686516551",
         {
          "args": [
           "7576600612786205063"
          ],
          "function": "NDArrayCompat.from_ndarray"
         }
        ],
        "7734890108686739817": [
         "5957414941209220213",
         {
          "args": [
           "8185140690946981952"
          ],
          "function": "NDArrayCompat.from_ndarray"
         }
        ],
        "7783357475922552301": [
         "-9177130969686516551",
         {
          "args": [
           "-3549436566379303328"
          ],
          "function": "NDArrayCompat.from_ndarray"
         }
        ],
        "782204642417591620": [
         "782204642417591620",
         {
          "repr": "Variable(4532545744)",
          "type": "Variable"
         }
        ],
        "782204650207441520": [
         "782204650207441520",
         {
          "repr": "Variable(4532693648)",
          "type": "Variable"
         }
        ],
        "782204655928586145": [
         "782204655928586145",
         {
          "repr": "Variable(4532614368)",
          "type": "Variable"
         }
        ],
        "7839880492979038879": [
         "7839880492979038879",
         {
          "args": [
           "-1881452536892832357"
          ],
          "function": "Abstraction.from_fn"
         }
        ],
        "7892748191390383189": [
         "-5281961658848897139",
         {
          "args": [
           "-2407715966420202401"
          ],
          "function": "NDArrayCompat.to_ndarray"
         }
        ],
        "790147958428009313": [
         "5105228348163832661",
         {
          "args": [
           "3738807663539962808",
           "-5596765414591522228"
          ],
          "function": "Maybe.__and__",
          "type_params": {
           "T": {
            "type": "NDArray"
           }
          }
         }
        ],
        "7929563447225870375": [
         "6695801540915528909",
         {
          "repr": "100",
          "type": "int"
         }
        ],
        "7929563447330875300": [
         "8368899336284295099",
         {
          "repr": "5",
          "type": "int"
         }
        ],
        "7929849651593918375": [
         "7929849651593918375",
         {
          "repr": "<function NDArrayCompat.__getitem__.<locals>.<lambda> at 0x10e252158>",
          "type": "function"
         }
        ],
        "8109027888668994712": [
         "-5281961658848897139",
         {
          "args": [
           "-7166437524877307118"
          ],
          "function": "NDArrayCompat.to_ndarray"
         }
        ],
        "8145083593342055103": [
         "-9177130969686516551",
         {
          "args": [
           "-8020584022532179864"
          ],
          "function": "NDArrayCompat.from_ndarray"
         }
        ],
        "8150279795932060320": [
         "-2178932975760294384",
         {
          "args": [
           "1947658605703421602",
           "3904670649235592956",
           "1124171096562325806"
          ],
          "function": "Maybe.match",
          "type_params": {
           "T": {
            "params": {
             "T": {
              "type": "NDArray"
             },
             "U": {
              "params": {
               "T": {
                "type": "Integer"
               },
               "U": {
                "params": {
                 "T": {
                  "type": "Integer"
                 }
                },
                "type": "Vec"
               }
              },
              "type": "Either"
             }
            },
            "type": "Pair"
           }
          }
         }
        ],
        "8159527261163156774": [
         "-5928052358113968640",
         {
          "args": [
           "-326778002507247179",
           "-326778002507247179"
          ],
          "function": "NDArrayCompat.__add__"
         }
        ],
        "8160375906643553213": [
         "3738807663539962808",
         {
          "args": [
           "-2451974414440893144"
          ],
          "function": "Converter.convert",
          "type_params": {
           "T": {
            "type": "NDArray"
           }
          }
         }
        ],
        "8185140690946981952": [
         "8185140690946981952",
         {
          "args": [
           "3866244541187059488",
           "-8047665718338118652"
          ],
          "function": "Maybe.map",
          "type_params": {
           "T": {
            "type": "Integer"
           }
          }
         }
        ],
        "818682114679304408": [
         "-2178932975760294384",
         {
          "args": [
           "4288836549562167401",
           "3904670649235592956",
           "7023613846905740443"
          ],
          "function": "Maybe.match",
          "type_params": {
           "T": {
            "params": {
             "T": {
              "type": "NDArray"
             },
             "U": {
              "params": {
               "T": {
                "type": "Integer"
               },
               "U": {
                "params": {
                 "T": {
                  "type": "Integer"
                 }
                },
                "type": "Vec"
               }
              },
              "type": "Either"
             }
            },
            "type": "Pair"
           }
          }
         }
        ],
        "8225854957596729840": [
         "3738807663539962808",
         {
          "args": [
           "-3411503716089640314"
          ],
          "function": "Maybe.just"
         }
        ],
        "8278597593574582942": [
         "5105228348163832661",
         {
          "args": [
           "6034370012444041160",
           "8955685588577225007"
          ],
          "function": "Maybe.__and__",
          "type_params": {
           "T": {
            "type": "NDArray"
           }
          }
         }
        ],
        "8315901269190522822": [
         "-1927693558332765614",
         {
          "args": [
           "853586745109798487",
           "-1448899694609174123"
          ],
          "function": "Abstraction.__call__",
          "type_params": {
           "T": {
            "type": "Integer"
           },
           "U": {
            "params": {
             "T": {
              "params": {
               "T": {
                "type": "Integer"
               },
               "U": {
                "params": {
                 "T": {
                  "type": "Integer"
                 }
                },
                "type": "Vec"
               }
              },
              "type": "Either"
             }
            },
            "type": "Maybe"
           }
          }
         }
        ],
        "8319230915774641537": [
         "-5281961658848897139",
         {
          "args": [
           "167139333153174711"
          ],
          "function": "NDArray.to_ndarray"
         }
        ],
        "8345780857840190825": [
         "8345780857840190825",
         {
          "args": [
           "3306699016847434562"
          ],
          "function": "Maybe.just",
          "type_params": {
           "T": {
            "type": "NDArray"
           }
          }
         }
        ],
        "8362505944321486831": [
         "8362505944321486831",
         {
          "args": [
           "7164926897100554226"
          ],
          "function": "Maybe.just",
          "type_params": {
           "T": {
            "type": "NDArray"
           }
          }
         }
        ],
        "8364527385779016842": [
         "-2178932975760294384",
         {
          "args": [
           "1205964400146739604",
           "3904670649235592956",
           "7023613846905740443"
          ],
          "function": "Maybe.match",
          "type_params": {
           "T": {
            "params": {
             "T": {
              "type": "NDArray"
             },
             "U": {
              "params": {
               "T": {
                "type": "Integer"
               },
               "U": {
                "params": {
                 "T": {
                  "type": "Integer"
                 }
                },
                "type": "Vec"
               }
              },
              "type": "Either"
             }
            },
            "type": "Pair"
           }
          }
         }
        ],
        "8368899336284295099": [
         "8368899336284295099",
         {
          "args": [
           "3438482133718761997"
          ],
          "function": "unbox_idxs"
         }
        ],
        "8465581987633940022": [
         "-2178932975760294384",
         {
          "args": [
           "6849173173472077666",
           "4803971645114961552"
          ],
          "function": "Maybe.map",
          "type_params": {
           "T": {
            "params": {
             "T": {
              "type": "NDArray"
             },
             "U": {
              "params": {
               "T": {
                "type": "Integer"
               },
               "U": {
                "params": {
                 "T": {
                  "type": "Integer"
                 }
                },
                "type": "Vec"
               }
              },
              "type": "Either"
             }
            },
            "type": "Pair"
           }
          }
         }
        ],
        "8473768900579042353": [
         "-2178932975760294384",
         {
          "args": [
           "3093590991159885856",
           "3904670649235592956",
           "7023613846905740443"
          ],
          "function": "Maybe.match",
          "type_params": {
           "T": {
            "params": {
             "T": {
              "type": "NDArray"
             },
             "U": {
              "params": {
               "T": {
                "type": "Integer"
               },
               "U": {
                "params": {
                 "T": {
                  "type": "Integer"
                 }
                },
                "type": "Vec"
               }
              },
              "type": "Either"
             }
            },
            "type": "Pair"
           }
          }
         }
        ],
        "8479516727914236203": [
         "-5281961658848897139",
         {
          "args": [
           "-3114914308302251085",
           "7929563447330875300"
          ],
          "function": "ndarray_getitem"
         }
        ],
        "8522449151473608332": [
         "-6880367450692664388",
         {
          "args": [
           "5668266280651108832"
          ],
          "function": "Maybe.just",
          "type_params": {
           "T": {
            "type": "NDArray"
           }
          }
         }
        ],
        "853586745109798487": [
         "-9181448698224066163",
         {
          "args": [
           "-6111235855211480769",
           "2861773729804927232"
          ],
          "function": "Abstraction.__add__",
          "type_params": {
           "T": {
            "params": {
             "T": {
              "type": "Integer"
             },
             "U": {
              "params": {
               "T": {
                "type": "Integer"
               }
              },
              "type": "Vec"
             }
            },
            "type": "Either"
           },
           "U": {
            "params": {
             "T": {
              "params": {
               "T": {
                "type": "Integer"
               },
               "U": {
                "params": {
                 "T": {
                  "type": "Integer"
                 }
                },
                "type": "Vec"
               }
              },
              "type": "Either"
             }
            },
            "type": "Maybe"
           }
          }
         }
        ],
        "8602002056363899264": [
         "5105228348163832661",
         {
          "args": [
           "3738807663539962808",
           "9183481231975319666"
          ],
          "function": "Maybe.__and__",
          "type_params": {
           "T": {
            "type": "NDArray"
           }
          }
         }
        ],
        "8816093130121520419": [
         "7168750140140484019",
         {
          "args": [
           "-2861860061290690084",
           "-7620949637964638205"
          ],
          "function": "Maybe.__or__",
          "type_params": {
           "T": {
            "params": {
             "T": {
              "type": "Integer"
             },
             "U": {
              "params": {
               "T": {
                "type": "Integer"
               }
              },
              "type": "Vec"
             }
            },
            "type": "Either"
           }
          }
         }
        ],
        "8820645040028002131": [
         "5105228348163832661",
         {
          "args": [
           "3464842294167772706",
           "8955685588577225007"
          ],
          "function": "Maybe.__and__",
          "type_params": {
           "T": {
            "type": "NDArray"
           }
          }
         }
        ],
        "8821978150029802049": [
         "7168750140140484019",
         {
          "args": [
           "8315901269190522822",
           "-7620949637964638205"
          ],
          "function": "Maybe.__or__",
          "type_params": {
           "T": {
            "params": {
             "T": {
              "type": "Integer"
             },
             "U": {
              "params": {
               "T": {
                "type": "Integer"
               }
              },
              "type": "Vec"
             }
            },
            "type": "Either"
           }
          }
         }
        ],
        "8824695112797766569": [
         "-5928052358113968640",
         {
          "args": [
           "-1396724190485083222",
           "538172979487181565"
          ],
          "function": "NDArrayCompat.__add__"
         }
        ],
        "8858306922078925636": [
         "5105228348163832661",
         {
          "args": [
           "4916320021783949814",
           "8955685588577225007"
          ],
          "function": "Maybe.__and__",
          "type_params": {
           "T": {
            "type": "NDArray"
           }
          }
         }
        ],
        "8955685588577225007": [
         "7168750140140484019",
         {
          "args": [
           "3438482133718761997"
          ],
          "function": "Maybe.just"
         }
        ],
        "8991855025522833901": [
         "-5281961658848897139",
         {
          "args": [
           "-2422211557192635241"
          ],
          "function": "NDArrayCompat.to_ndarray"
         }
        ],
        "9183481231975319666": [
         "7168750140140484019",
         {
          "args": [
           "-1927693558332765614",
           "-8817432787412657013"
          ],
          "function": "Maybe.__or__",
          "type_params": {
           "T": {
            "params": {
             "T": {
              "type": "Integer"
             },
             "U": {
              "params": {
               "T": {
                "type": "Integer"
               }
              },
              "type": "Vec"
             }
            },
            "type": "Either"
           }
          }
         }
        ],
        "963218007824931523": [
         "-2178932975760294384",
         {
          "args": [
           "-5384039155452932543",
           "3904670649235592956",
           "-979998564141937302"
          ],
          "function": "Maybe.match",
          "type_params": {
           "T": {
            "params": {
             "T": {
              "type": "NDArray"
             },
             "U": {
              "params": {
               "T": {
                "type": "Integer"
               },
               "U": {
                "params": {
                 "T": {
                  "type": "Integer"
                 }
                },
                "type": "Vec"
               }
              },
              "type": "Either"
             }
            },
            "type": "Pair"
           }
          }
         }
        ]
       },
       "states": {
        "initial": "-5281961658848897139",
        "states": [
         {
          "node": "-692955919929815139",
          "rule": "metadsl_core.numpy.NDArrayCompat.__getitem__"
         },
         {
          "node": "1669952521964761772",
          "rule": "metadsl_core.either.convert_to_either"
         },
         {
          "node": "3238987944950215735",
          "rule": "metadsl_core.integer.convert_integer"
         },
         {
          "node": "-6875258176901991935",
          "rule": "metadsl_core.numpy.arange"
         },
         {
          "node": "-2025809176917072033",
          "rule": "metadsl_core.integer.convert_integer"
         },
         {
          "node": "-6076995830243228477",
          "rule": "metadsl_core.abstraction.Abstraction.from_fn"
         },
         {
          "node": "-3509893514905579143",
          "rule": "metadsl_core.abstraction.Abstraction.from_fn"
         },
         {
          "node": "6657799245420990369",
          "rule": "metadsl_core.abstraction.Abstraction.from_fn"
         },
         {
          "node": "5019884390065704826",
          "rule": "metadsl_core.abstraction.Abstraction.from_fn"
         },
         {
          "node": "467193670212018109",
          "rule": "metadsl_core.maybe.Maybe.map"
         },
         {
          "node": "5378610294031420407",
          "rule": "metadsl_core.maybe.Maybe.map"
         },
         {
          "node": "-4937833522134177421",
          "rule": "metadsl_core.maybe.Maybe.map"
         },
         {
          "node": "4409197928594064543",
          "rule": "metadsl_core.maybe.maybe_match"
         },
         {
          "node": "543791791595042277",
          "rule": "metadsl_core.maybe.Maybe.map"
         },
         {
          "node": "6607133612709699955",
          "rule": "metadsl_core.maybe.Maybe.map"
         },
         {
          "node": "-8813789946771923269",
          "rule": "metadsl_core.maybe.maybe_match"
         },
         {
          "node": "-5255964175121921594",
          "rule": "metadsl_core.maybe.maybe_match"
         },
         {
          "node": "8109027888668994712",
          "rule": "metadsl_core.abstraction.Abstraction.from_fn"
         },
         {
          "node": "1503670130711119168",
          "rule": "metadsl_core.abstraction.Abstraction.from_fn"
         },
         {
          "node": "3125821275735179278",
          "rule": "metadsl_core.abstraction.Abstraction.from_fn"
         },
         {
          "node": "-8030635618025669199",
          "rule": "metadsl_core.abstraction.compose"
         },
         {
          "node": "2855355018387612803",
          "rule": "metadsl_core.abstraction.compose"
         },
         {
          "node": "192787192234352278",
          "rule": "metadsl_core.abstraction.compose"
         },
         {
          "node": "-7905890774861574462",
          "rule": "metadsl_core.abstraction.beta_reduce"
         },
         {
          "node": "8991855025522833901",
          "rule": "metadsl_core.maybe.maybe_or"
         },
         {
          "node": "-2531045510318504649",
          "rule": "metadsl_core.abstraction.compose"
         },
         {
          "node": "601783772926128064",
          "rule": "metadsl_core.abstraction.beta_reduce"
         },
         {
          "node": "-3920676090234507581",
          "rule": "metadsl_core.abstraction.compose"
         },
         {
          "node": "1866713766725349270",
          "rule": "metadsl_core.abstraction.beta_reduce"
         },
         {
          "node": "-1359712873627368165",
          "rule": "metadsl_core.numpy.add_compat"
         },
         {
          "node": "4659314994779263334",
          "rule": "metadsl_core.numpy.convert_to_ndarray"
         },
         {
          "node": "4357491119790259636",
          "rule": "metadsl_core.maybe.maybe_and"
         },
         {
          "node": "-5681086482397369699",
          "rule": "metadsl_core.maybe.maybe_match"
         },
         {
          "node": "-7442556872907999520",
          "rule": "metadsl_core.abstraction.beta_reduce"
         },
         {
          "node": "3497394292135972729",
          "rule": "metadsl_core.pair.pair_right"
         },
         {
          "node": "7892748191390383189",
          "rule": "metadsl_core.pair.pair_left"
         },
         {
          "label": "convert",
          "node": "7892748191390383189",
          "rule": ""
         },
         {
          "node": "8319230915774641537",
          "rule": "metadsl_core.numpy.box_unbox_ndarray_compat"
         },
         {
          "node": "-8049593370211554969",
          "rule": "metadsl_core.numpy_engine.unbox_ndarray_getitem"
         },
         {
          "node": "2323171471742117409",
          "rule": "metadsl_core.numpy_engine.unbox_idxs_rule"
         },
         {
          "node": "-3299145903312756364",
          "rule": "metadsl_core.numpy_engine.unbox_integer_rule"
         },
         {
          "node": "-6010735612985633894",
          "rule": "metadsl_core.numpy_engine.unbox_ndarray_add"
         },
         {
          "node": "5986287749207772674",
          "rule": "metadsl_core.numpy_engine.unbox_arange"
         },
         {
          "node": "-3884366925730321283",
          "rule": "metadsl_core.numpy_engine.unbox_integer_rule"
         },
         {
          "label": "unbox",
          "node": "-3884366925730321283",
          "rule": ""
         },
         {
          "node": "8479516727914236203",
          "rule": "metadsl_core.numpy_engine.arange"
         },
         {
          "node": "-764243351141283930",
          "rule": "metadsl_core.numpy_engine.ndarray_add"
         },
         {
          "node": "4681657163630810725",
          "rule": "metadsl_core.numpy_engine.ndarray_getitem"
         },
         {
          "label": "execute",
          "node": "4681657163630810725",
          "rule": ""
         }
        ]
       }
      },
      "application/x.typez.graph+json": {
       "initial": "digraph {\n\tnode [shape=plain]\n\tedge [arrowsize=0.5 penwidth=0.5]\n\t-5281961658848897139 [label=\"NDArrayCompat.to_ndarray\" id=-5281961658848897139]\n\t-5281961658848897139 -> -9177130969686516551 [id=\"-5281961658848897139.args[0]\"]\n\t-9177130969686516551 [label=\"NDArrayCompat.__getitem__\" id=-9177130969686516551]\n\t-9177130969686516551 -> -2392957684524066418 [id=\"-9177130969686516551.args[0]\"]\n\t-2392957684524066418 [label=\"NDArrayCompat.__add__\" id=-2392957684524066418]\n\t-2392957684524066418 -> 5957414941209220213 [id=\"-2392957684524066418.args[0]\"]\n\t5957414941209220213 [label=arange id=5957414941209220213]\n\t5957414941209220213 -> 7929563447225870375 [id=\"5957414941209220213.args[0]\"]\n\t7929563447225870375 [label=100 id=6695801540915528909]\n\t-2392957684524066418 -> 5957414941209220213 [id=\"-2392957684524066418.args[1]\"]\n\t-9177130969686516551 -> 7929563447330875300 [id=\"-9177130969686516551.args[1]\"]\n\t7929563447330875300 [label=5 id=8368899336284295099]\n}",
       "states": [
        {
         "graph": "digraph {\n\tnode [shape=plain]\n\tedge [arrowsize=0.5 penwidth=0.5]\n\t-692955919929815139 [label=\"NDArrayCompat.to_ndarray\" id=-5281961658848897139]\n\t-692955919929815139 -> -2275286690527128186 [id=\"-5281961658848897139.args[0]\"]\n\t-2275286690527128186 [label=\"NDArrayCompat.from_ndarray\" id=-9177130969686516551]\n\t-2275286690527128186 -> -2178932975760294384 [id=\"-9177130969686516551.args[0]\"]\n\t-2178932975760294384 [label=\"Maybe.map\" id=-2178932975760294384]\n\t-2178932975760294384 -> -8549068771019930555 [id=\"-2178932975760294384.args[0]\"]\n\t-8549068771019930555 [label=\"Maybe.__and__\" id=-8549068771019930555]\n\t-8549068771019930555 -> -1731939772881271889 [id=\"-8549068771019930555.args[0]\"]\n\t-1731939772881271889 [label=\"Converter.convert\" id=-1731939772881271889]\n\t-1731939772881271889 -> -2392957684524066418 [id=\"-1731939772881271889.args[0]\"]\n\t-2392957684524066418 [label=\"NDArrayCompat.__add__\" id=-2392957684524066418]\n\t-2392957684524066418 -> 5957414941209220213 [id=\"-2392957684524066418.args[0]\"]\n\t5957414941209220213 [label=arange id=5957414941209220213]\n\t5957414941209220213 -> 7929563447225870375 [id=\"5957414941209220213.args[0]\"]\n\t7929563447225870375 [label=100 id=6695801540915528909]\n\t-2392957684524066418 -> 5957414941209220213 [id=\"-2392957684524066418.args[1]\"]\n\t-8549068771019930555 -> -3416066141267607679 [id=\"-8549068771019930555.args[1]\"]\n\t-3416066141267607679 [label=\"Converter.convert\" id=-3416066141267607679]\n\t-3416066141267607679 -> 7929563447330875300 [id=\"-3416066141267607679.args[0]\"]\n\t7929563447330875300 [label=5 id=8368899336284295099]\n\t-2178932975760294384 -> 4803971645114961552 [id=\"-2178932975760294384.args[1]\"]\n\t4803971645114961552 [label=\"Abstraction.from_fn\" id=4803971645114961552]\n\t4803971645114961552 -> 7929849651593918375 [id=\"4803971645114961552.args[0]\"]\n\t7929849651593918375 [label=\"function NDArrayCompat.__getitem__.locals.lambda at 0x10e252158\" id=7929849651593918375]\n}",
         "label": null,
         "rule": "metadsl_core.numpy.NDArrayCompat.__getitem__"
        },
        {
         "graph": "digraph {\n\tnode [shape=plain]\n\tedge [arrowsize=0.5 penwidth=0.5]\n\t1669952521964761772 [label=\"NDArrayCompat.to_ndarray\" id=-5281961658848897139]\n\t1669952521964761772 -> -8110842241103782922 [id=\"-5281961658848897139.args[0]\"]\n\t-8110842241103782922 [label=\"NDArrayCompat.from_ndarray\" id=-9177130969686516551]\n\t-8110842241103782922 -> 7167062366888031581 [id=\"-9177130969686516551.args[0]\"]\n\t7167062366888031581 [label=\"Maybe.map\" id=-2178932975760294384]\n\t7167062366888031581 -> 6555983600465518041 [id=\"-2178932975760294384.args[0]\"]\n\t6555983600465518041 [label=\"Maybe.__and__\" id=-8549068771019930555]\n\t6555983600465518041 -> -1731939772881271889 [id=\"-8549068771019930555.args[0]\"]\n\t-1731939772881271889 [label=\"Converter.convert\" id=-1731939772881271889]\n\t-1731939772881271889 -> -2392957684524066418 [id=\"-1731939772881271889.args[0]\"]\n\t-2392957684524066418 [label=\"NDArrayCompat.__add__\" id=-2392957684524066418]\n\t-2392957684524066418 -> 5957414941209220213 [id=\"-2392957684524066418.args[0]\"]\n\t5957414941209220213 [label=arange id=5957414941209220213]\n\t5957414941209220213 -> 7929563447225870375 [id=\"5957414941209220213.args[0]\"]\n\t7929563447225870375 [label=100 id=6695801540915528909]\n\t-2392957684524066418 -> 5957414941209220213 [id=\"-2392957684524066418.args[1]\"]\n\t6555983600465518041 -> -656138738490108348 [id=\"-8549068771019930555.args[1]\"]\n\t-656138738490108348 [label=\"Maybe.__or__\" id=-3416066141267607679]\n\t-656138738490108348 -> 4865162026085052172 [id=\"-3416066141267607679.args[0]\"]\n\t4865162026085052172 [label=\"Maybe.map\" id=4865162026085052172]\n\t4865162026085052172 -> 3146937952497747921 [id=\"4865162026085052172.args[0]\"]\n\t3146937952497747921 [label=\"Converter.convert\" id=3146937952497747921]\n\t3146937952497747921 -> 7929563447330875300 [id=\"3146937952497747921.args[0]\"]\n\t7929563447330875300 [label=5 id=8368899336284295099]\n\t4865162026085052172 -> -966770576982675144 [id=\"4865162026085052172.args[1]\"]\n\t-966770576982675144 [label=\"Abstraction.from_fn\" id=-966770576982675144]\n\t-966770576982675144 -> -7970435562759903997 [id=\"-966770576982675144.args[0]\"]\n\t-7970435562759903997 [label=\"Either.left\" id=-7970435562759903997]\n\t-656138738490108348 -> 2204826897264784190 [id=\"-3416066141267607679.args[1]\"]\n\t2204826897264784190 [label=\"Maybe.map\" id=2204826897264784190]\n\t2204826897264784190 -> 7195713575237942534 [id=\"2204826897264784190.args[0]\"]\n\t7195713575237942534 [label=\"Converter.convert\" id=7195713575237942534]\n\t7195713575237942534 -> 7929563447330875300 [id=\"7195713575237942534.args[0]\"]\n\t2204826897264784190 -> 7839880492979038879 [id=\"2204826897264784190.args[1]\"]\n\t7839880492979038879 [label=\"Abstraction.from_fn\" id=7839880492979038879]\n\t7839880492979038879 -> -1881452536892832357 [id=\"7839880492979038879.args[0]\"]\n\t-1881452536892832357 [label=\"Either.right\" id=-1881452536892832357]\n\t7167062366888031581 -> 4803971645114961552 [id=\"-2178932975760294384.args[1]\"]\n\t4803971645114961552 [label=\"Abstraction.from_fn\" id=4803971645114961552]\n\t4803971645114961552 -> 7929849651593918375 [id=\"4803971645114961552.args[0]\"]\n\t7929849651593918375 [label=\"function NDArrayCompat.__getitem__.locals.lambda at 0x10e252158\" id=7929849651593918375]\n}",
         "label": null,
         "rule": "metadsl_core.either.convert_to_either"
        },
        {
         "graph": "digraph {\n\tnode [shape=plain]\n\tedge [arrowsize=0.5 penwidth=0.5]\n\t3238987944950215735 [label=\"NDArrayCompat.to_ndarray\" id=-5281961658848897139]\n\t3238987944950215735 -> 326943043175542900 [id=\"-5281961658848897139.args[0]\"]\n\t326943043175542900 [label=\"NDArrayCompat.from_ndarray\" id=-9177130969686516551]\n\t326943043175542900 -> -2674899029458429109 [id=\"-9177130969686516551.args[0]\"]\n\t-2674899029458429109 [label=\"Maybe.map\" id=-2178932975760294384]\n\t-2674899029458429109 -> -7530698464818735296 [id=\"-2178932975760294384.args[0]\"]\n\t-7530698464818735296 [label=\"Maybe.__and__\" id=-8549068771019930555]\n\t-7530698464818735296 -> -1731939772881271889 [id=\"-8549068771019930555.args[0]\"]\n\t-1731939772881271889 [label=\"Converter.convert\" id=-1731939772881271889]\n\t-1731939772881271889 -> -2392957684524066418 [id=\"-1731939772881271889.args[0]\"]\n\t-2392957684524066418 [label=\"NDArrayCompat.__add__\" id=-2392957684524066418]\n\t-2392957684524066418 -> 5957414941209220213 [id=\"-2392957684524066418.args[0]\"]\n\t5957414941209220213 [label=arange id=5957414941209220213]\n\t5957414941209220213 -> 7929563447225870375 [id=\"5957414941209220213.args[0]\"]\n\t7929563447225870375 [label=100 id=6695801540915528909]\n\t-2392957684524066418 -> 5957414941209220213 [id=\"-2392957684524066418.args[1]\"]\n\t-7530698464818735296 -> -5980085414178983947 [id=\"-8549068771019930555.args[1]\"]\n\t-5980085414178983947 [label=\"Maybe.__or__\" id=-3416066141267607679]\n\t-5980085414178983947 -> 6840992835378849873 [id=\"-3416066141267607679.args[0]\"]\n\t6840992835378849873 [label=\"Maybe.map\" id=4865162026085052172]\n\t6840992835378849873 -> -4057743209670033856 [id=\"4865162026085052172.args[0]\"]\n\t-4057743209670033856 [label=\"Maybe.just\" id=-4057743209670033856]\n\t-4057743209670033856 -> -1448899694609174123 [id=\"-4057743209670033856.args[0]\"]\n\t-1448899694609174123 [label=\"Integer.from_int\" id=-1448899694609174123]\n\t-1448899694609174123 -> 7929563447330875300 [id=\"-1448899694609174123.args[0]\"]\n\t7929563447330875300 [label=5 id=8368899336284295099]\n\t6840992835378849873 -> -966770576982675144 [id=\"4865162026085052172.args[1]\"]\n\t-966770576982675144 [label=\"Abstraction.from_fn\" id=-966770576982675144]\n\t-966770576982675144 -> -7970435562759903997 [id=\"-966770576982675144.args[0]\"]\n\t-7970435562759903997 [label=\"Either.left\" id=-7970435562759903997]\n\t-5980085414178983947 -> 2204826897264784190 [id=\"-3416066141267607679.args[1]\"]\n\t2204826897264784190 [label=\"Maybe.map\" id=2204826897264784190]\n\t2204826897264784190 -> 7195713575237942534 [id=\"2204826897264784190.args[0]\"]\n\t7195713575237942534 [label=\"Converter.convert\" id=7195713575237942534]\n\t7195713575237942534 -> 7929563447330875300 [id=\"7195713575237942534.args[0]\"]\n\t2204826897264784190 -> 7839880492979038879 [id=\"2204826897264784190.args[1]\"]\n\t7839880492979038879 [label=\"Abstraction.from_fn\" id=7839880492979038879]\n\t7839880492979038879 -> -1881452536892832357 [id=\"7839880492979038879.args[0]\"]\n\t-1881452536892832357 [label=\"Either.right\" id=-1881452536892832357]\n\t-2674899029458429109 -> 4803971645114961552 [id=\"-2178932975760294384.args[1]\"]\n\t4803971645114961552 [label=\"Abstraction.from_fn\" id=4803971645114961552]\n\t4803971645114961552 -> 7929849651593918375 [id=\"4803971645114961552.args[0]\"]\n\t7929849651593918375 [label=\"function NDArrayCompat.__getitem__.locals.lambda at 0x10e252158\" id=7929849651593918375]\n}",
         "label": null,
         "rule": "metadsl_core.integer.convert_integer"
        },
        {
         "graph": "digraph {\n\tnode [shape=plain]\n\tedge [arrowsize=0.5 penwidth=0.5]\n\t-6875258176901991935 [label=\"NDArrayCompat.to_ndarray\" id=-5281961658848897139]\n\t-6875258176901991935 -> -4308639913409108949 [id=\"-5281961658848897139.args[0]\"]\n\t-4308639913409108949 [label=\"NDArrayCompat.from_ndarray\" id=-9177130969686516551]\n\t-4308639913409108949 -> -2525385083890315318 [id=\"-9177130969686516551.args[0]\"]\n\t-2525385083890315318 [label=\"Maybe.map\" id=-2178932975760294384]\n\t-2525385083890315318 -> 2641412347700615951 [id=\"-2178932975760294384.args[0]\"]\n\t2641412347700615951 [label=\"Maybe.__and__\" id=-8549068771019930555]\n\t2641412347700615951 -> -4118019760064062043 [id=\"-8549068771019930555.args[0]\"]\n\t-4118019760064062043 [label=\"Converter.convert\" id=-1731939772881271889]\n\t-4118019760064062043 -> -4227033389913437920 [id=\"-1731939772881271889.args[0]\"]\n\t-4227033389913437920 [label=\"NDArrayCompat.__add__\" id=-2392957684524066418]\n\t-4227033389913437920 -> 7734890108686739817 [id=\"-2392957684524066418.args[0]\"]\n\t7734890108686739817 [label=\"NDArrayCompat.from_ndarray\" id=5957414941209220213]\n\t7734890108686739817 -> 8185140690946981952 [id=\"5957414941209220213.args[0]\"]\n\t8185140690946981952 [label=\"Maybe.map\" id=8185140690946981952]\n\t8185140690946981952 -> 3866244541187059488 [id=\"8185140690946981952.args[0]\"]\n\t3866244541187059488 [label=\"Converter.convert\" id=3866244541187059488]\n\t3866244541187059488 -> 7929563447225870375 [id=\"3866244541187059488.args[0]\"]\n\t7929563447225870375 [label=100 id=6695801540915528909]\n\t8185140690946981952 -> -8047665718338118652 [id=\"8185140690946981952.args[1]\"]\n\t-8047665718338118652 [label=\"Abstraction.from_fn\" id=-8047665718338118652]\n\t-8047665718338118652 -> 6103565132160316810 [id=\"-8047665718338118652.args[0]\"]\n\t6103565132160316810 [label=arange_ id=6103565132160316810]\n\t-4227033389913437920 -> 7734890108686739817 [id=\"-2392957684524066418.args[1]\"]\n\t2641412347700615951 -> -5980085414178983947 [id=\"-8549068771019930555.args[1]\"]\n\t-5980085414178983947 [label=\"Maybe.__or__\" id=-3416066141267607679]\n\t-5980085414178983947 -> 6840992835378849873 [id=\"-3416066141267607679.args[0]\"]\n\t6840992835378849873 [label=\"Maybe.map\" id=4865162026085052172]\n\t6840992835378849873 -> -4057743209670033856 [id=\"4865162026085052172.args[0]\"]\n\t-4057743209670033856 [label=\"Maybe.just\" id=-4057743209670033856]\n\t-4057743209670033856 -> -1448899694609174123 [id=\"-4057743209670033856.args[0]\"]\n\t-1448899694609174123 [label=\"Integer.from_int\" id=-1448899694609174123]\n\t-1448899694609174123 -> 7929563447330875300 [id=\"-1448899694609174123.args[0]\"]\n\t7929563447330875300 [label=5 id=8368899336284295099]\n\t6840992835378849873 -> -966770576982675144 [id=\"4865162026085052172.args[1]\"]\n\t-966770576982675144 [label=\"Abstraction.from_fn\" id=-966770576982675144]\n\t-966770576982675144 -> -7970435562759903997 [id=\"-966770576982675144.args[0]\"]\n\t-7970435562759903997 [label=\"Either.left\" id=-7970435562759903997]\n\t-5980085414178983947 -> 2204826897264784190 [id=\"-3416066141267607679.args[1]\"]\n\t2204826897264784190 [label=\"Maybe.map\" id=2204826897264784190]\n\t2204826897264784190 -> 7195713575237942534 [id=\"2204826897264784190.args[0]\"]\n\t7195713575237942534 [label=\"Converter.convert\" id=7195713575237942534]\n\t7195713575237942534 -> 7929563447330875300 [id=\"7195713575237942534.args[0]\"]\n\t2204826897264784190 -> 7839880492979038879 [id=\"2204826897264784190.args[1]\"]\n\t7839880492979038879 [label=\"Abstraction.from_fn\" id=7839880492979038879]\n\t7839880492979038879 -> -1881452536892832357 [id=\"7839880492979038879.args[0]\"]\n\t-1881452536892832357 [label=\"Either.right\" id=-1881452536892832357]\n\t-2525385083890315318 -> 4803971645114961552 [id=\"-2178932975760294384.args[1]\"]\n\t4803971645114961552 [label=\"Abstraction.from_fn\" id=4803971645114961552]\n\t4803971645114961552 -> 7929849651593918375 [id=\"4803971645114961552.args[0]\"]\n\t7929849651593918375 [label=\"function NDArrayCompat.__getitem__.locals.lambda at 0x10e252158\" id=7929849651593918375]\n}",
         "label": null,
         "rule": "metadsl_core.numpy.arange"
        },
        {
         "graph": "digraph {\n\tnode [shape=plain]\n\tedge [arrowsize=0.5 penwidth=0.5]\n\t-2025809176917072033 [label=\"NDArrayCompat.to_ndarray\" id=-5281961658848897139]\n\t-2025809176917072033 -> 3286405099378477051 [id=\"-5281961658848897139.args[0]\"]\n\t3286405099378477051 [label=\"NDArrayCompat.from_ndarray\" id=-9177130969686516551]\n\t3286405099378477051 -> 8465581987633940022 [id=\"-9177130969686516551.args[0]\"]\n\t8465581987633940022 [label=\"Maybe.map\" id=-2178932975760294384]\n\t8465581987633940022 -> 6849173173472077666 [id=\"-2178932975760294384.args[0]\"]\n\t6849173173472077666 [label=\"Maybe.__and__\" id=-8549068771019930555]\n\t6849173173472077666 -> -906915746085849223 [id=\"-8549068771019930555.args[0]\"]\n\t-906915746085849223 [label=\"Converter.convert\" id=-1731939772881271889]\n\t-906915746085849223 -> -7011619711849110242 [id=\"-1731939772881271889.args[0]\"]\n\t-7011619711849110242 [label=\"NDArrayCompat.__add__\" id=-2392957684524066418]\n\t-7011619711849110242 -> -6802406250591612239 [id=\"-2392957684524066418.args[0]\"]\n\t-6802406250591612239 [label=\"NDArrayCompat.from_ndarray\" id=5957414941209220213]\n\t-6802406250591612239 -> -8887871976037847346 [id=\"5957414941209220213.args[0]\"]\n\t-8887871976037847346 [label=\"Maybe.map\" id=8185140690946981952]\n\t-8887871976037847346 -> -8442994137960948810 [id=\"8185140690946981952.args[0]\"]\n\t-8442994137960948810 [label=\"Maybe.just\" id=-8442994137960948810]\n\t-8442994137960948810 -> -3131809300698277100 [id=\"-8442994137960948810.args[0]\"]\n\t-3131809300698277100 [label=\"Integer.from_int\" id=-3131809300698277100]\n\t-3131809300698277100 -> 7929563447225870375 [id=\"-3131809300698277100.args[0]\"]\n\t7929563447225870375 [label=100 id=6695801540915528909]\n\t-8887871976037847346 -> -8047665718338118652 [id=\"8185140690946981952.args[1]\"]\n\t-8047665718338118652 [label=\"Abstraction.from_fn\" id=-8047665718338118652]\n\t-8047665718338118652 -> 6103565132160316810 [id=\"-8047665718338118652.args[0]\"]\n\t6103565132160316810 [label=arange_ id=6103565132160316810]\n\t-7011619711849110242 -> -6802406250591612239 [id=\"-2392957684524066418.args[1]\"]\n\t6849173173472077666 -> -5980085414178983947 [id=\"-8549068771019930555.args[1]\"]\n\t-5980085414178983947 [label=\"Maybe.__or__\" id=-3416066141267607679]\n\t-5980085414178983947 -> 6840992835378849873 [id=\"-3416066141267607679.args[0]\"]\n\t6840992835378849873 [label=\"Maybe.map\" id=4865162026085052172]\n\t6840992835378849873 -> -4057743209670033856 [id=\"4865162026085052172.args[0]\"]\n\t-4057743209670033856 [label=\"Maybe.just\" id=-4057743209670033856]\n\t-4057743209670033856 -> -1448899694609174123 [id=\"-4057743209670033856.args[0]\"]\n\t-1448899694609174123 [label=\"Integer.from_int\" id=-1448899694609174123]\n\t-1448899694609174123 -> 7929563447330875300 [id=\"-1448899694609174123.args[0]\"]\n\t7929563447330875300 [label=5 id=8368899336284295099]\n\t6840992835378849873 -> -966770576982675144 [id=\"4865162026085052172.args[1]\"]\n\t-966770576982675144 [label=\"Abstraction.from_fn\" id=-966770576982675144]\n\t-966770576982675144 -> -7970435562759903997 [id=\"-966770576982675144.args[0]\"]\n\t-7970435562759903997 [label=\"Either.left\" id=-7970435562759903997]\n\t-5980085414178983947 -> 2204826897264784190 [id=\"-3416066141267607679.args[1]\"]\n\t2204826897264784190 [label=\"Maybe.map\" id=2204826897264784190]\n\t2204826897264784190 -> 7195713575237942534 [id=\"2204826897264784190.args[0]\"]\n\t7195713575237942534 [label=\"Converter.convert\" id=7195713575237942534]\n\t7195713575237942534 -> 7929563447330875300 [id=\"7195713575237942534.args[0]\"]\n\t2204826897264784190 -> 7839880492979038879 [id=\"2204826897264784190.args[1]\"]\n\t7839880492979038879 [label=\"Abstraction.from_fn\" id=7839880492979038879]\n\t7839880492979038879 -> -1881452536892832357 [id=\"7839880492979038879.args[0]\"]\n\t-1881452536892832357 [label=\"Either.right\" id=-1881452536892832357]\n\t8465581987633940022 -> 4803971645114961552 [id=\"-2178932975760294384.args[1]\"]\n\t4803971645114961552 [label=\"Abstraction.from_fn\" id=4803971645114961552]\n\t4803971645114961552 -> 7929849651593918375 [id=\"4803971645114961552.args[0]\"]\n\t7929849651593918375 [label=\"function NDArrayCompat.__getitem__.locals.lambda at 0x10e252158\" id=7929849651593918375]\n}",
         "label": null,
         "rule": "metadsl_core.integer.convert_integer"
        },
        {
         "graph": "digraph {\n\tnode [shape=plain]\n\tedge [arrowsize=0.5 penwidth=0.5]\n\t-6076995830243228477 [label=\"NDArrayCompat.to_ndarray\" id=-5281961658848897139]\n\t-6076995830243228477 -> 1275872575919909872 [id=\"-5281961658848897139.args[0]\"]\n\t1275872575919909872 [label=\"NDArrayCompat.from_ndarray\" id=-9177130969686516551]\n\t1275872575919909872 -> -3237214598058232513 [id=\"-9177130969686516551.args[0]\"]\n\t-3237214598058232513 [label=\"Maybe.map\" id=-2178932975760294384]\n\t-3237214598058232513 -> 6849173173472077666 [id=\"-2178932975760294384.args[0]\"]\n\t6849173173472077666 [label=\"Maybe.__and__\" id=-8549068771019930555]\n\t6849173173472077666 -> -906915746085849223 [id=\"-8549068771019930555.args[0]\"]\n\t-906915746085849223 [label=\"Converter.convert\" id=-1731939772881271889]\n\t-906915746085849223 -> -7011619711849110242 [id=\"-1731939772881271889.args[0]\"]\n\t-7011619711849110242 [label=\"NDArrayCompat.__add__\" id=-2392957684524066418]\n\t-7011619711849110242 -> -6802406250591612239 [id=\"-2392957684524066418.args[0]\"]\n\t-6802406250591612239 [label=\"NDArrayCompat.from_ndarray\" id=5957414941209220213]\n\t-6802406250591612239 -> -8887871976037847346 [id=\"5957414941209220213.args[0]\"]\n\t-8887871976037847346 [label=\"Maybe.map\" id=8185140690946981952]\n\t-8887871976037847346 -> -8442994137960948810 [id=\"8185140690946981952.args[0]\"]\n\t-8442994137960948810 [label=\"Maybe.just\" id=-8442994137960948810]\n\t-8442994137960948810 -> -3131809300698277100 [id=\"-8442994137960948810.args[0]\"]\n\t-3131809300698277100 [label=\"Integer.from_int\" id=-3131809300698277100]\n\t-3131809300698277100 -> 7929563447225870375 [id=\"-3131809300698277100.args[0]\"]\n\t7929563447225870375 [label=100 id=6695801540915528909]\n\t-8887871976037847346 -> -8047665718338118652 [id=\"8185140690946981952.args[1]\"]\n\t-8047665718338118652 [label=\"Abstraction.from_fn\" id=-8047665718338118652]\n\t-8047665718338118652 -> 6103565132160316810 [id=\"-8047665718338118652.args[0]\"]\n\t6103565132160316810 [label=arange_ id=6103565132160316810]\n\t-7011619711849110242 -> -6802406250591612239 [id=\"-2392957684524066418.args[1]\"]\n\t6849173173472077666 -> -5980085414178983947 [id=\"-8549068771019930555.args[1]\"]\n\t-5980085414178983947 [label=\"Maybe.__or__\" id=-3416066141267607679]\n\t-5980085414178983947 -> 6840992835378849873 [id=\"-3416066141267607679.args[0]\"]\n\t6840992835378849873 [label=\"Maybe.map\" id=4865162026085052172]\n\t6840992835378849873 -> -4057743209670033856 [id=\"4865162026085052172.args[0]\"]\n\t-4057743209670033856 [label=\"Maybe.just\" id=-4057743209670033856]\n\t-4057743209670033856 -> -1448899694609174123 [id=\"-4057743209670033856.args[0]\"]\n\t-1448899694609174123 [label=\"Integer.from_int\" id=-1448899694609174123]\n\t-1448899694609174123 -> 7929563447330875300 [id=\"-1448899694609174123.args[0]\"]\n\t7929563447330875300 [label=5 id=8368899336284295099]\n\t6840992835378849873 -> -966770576982675144 [id=\"4865162026085052172.args[1]\"]\n\t-966770576982675144 [label=\"Abstraction.from_fn\" id=-966770576982675144]\n\t-966770576982675144 -> -7970435562759903997 [id=\"-966770576982675144.args[0]\"]\n\t-7970435562759903997 [label=\"Either.left\" id=-7970435562759903997]\n\t-5980085414178983947 -> 2204826897264784190 [id=\"-3416066141267607679.args[1]\"]\n\t2204826897264784190 [label=\"Maybe.map\" id=2204826897264784190]\n\t2204826897264784190 -> 7195713575237942534 [id=\"2204826897264784190.args[0]\"]\n\t7195713575237942534 [label=\"Converter.convert\" id=7195713575237942534]\n\t7195713575237942534 -> 7929563447330875300 [id=\"7195713575237942534.args[0]\"]\n\t2204826897264784190 -> 7839880492979038879 [id=\"2204826897264784190.args[1]\"]\n\t7839880492979038879 [label=\"Abstraction.from_fn\" id=7839880492979038879]\n\t7839880492979038879 -> -1881452536892832357 [id=\"7839880492979038879.args[0]\"]\n\t-1881452536892832357 [label=\"Either.right\" id=-1881452536892832357]\n\t-3237214598058232513 -> -9118015370219560904 [id=\"-2178932975760294384.args[1]\"]\n\t-9118015370219560904 [label=\"Abstraction.create\" id=-9118015370219560904]\n\t-9118015370219560904 -> -1567811318780057522 [id=\"-9118015370219560904.args[0]\"]\n\t-1567811318780057522 [label=\"Abstraction.create_variable\" id=-1567811318780057522]\n\t-1567811318780057522 -> 782204655928586145 [id=\"-1567811318780057522.args[0]\"]\n\t782204655928586145 [label=\"Variable(4532614368)\" id=782204655928586145]\n\t-9118015370219560904 -> 2264477634205654134 [id=\"-9118015370219560904.args[1]\"]\n\t2264477634205654134 [label=\"NDArray.__getitem__\" id=2264477634205654134]\n\t2264477634205654134 -> 6869289972660339569 [id=\"2264477634205654134.args[0]\"]\n\t6869289972660339569 [label=\"Pair.left\" id=6869289972660339569]\n\t6869289972660339569 -> -1567811318780057522 [id=\"6869289972660339569.args[0]\"]\n\t2264477634205654134 -> -5066980431023388391 [id=\"2264477634205654134.args[1]\"]\n\t-5066980431023388391 [label=\"Pair.right\" id=-5066980431023388391]\n\t-5066980431023388391 -> -1567811318780057522 [id=\"-5066980431023388391.args[0]\"]\n}",
         "label": null,
         "rule": "metadsl_core.abstraction.Abstraction.from_fn"
        },
        {
         "graph": "digraph {\n\tnode [shape=plain]\n\tedge [arrowsize=0.5 penwidth=0.5]\n\t-3509893514905579143 [label=\"NDArrayCompat.to_ndarray\" id=-5281961658848897139]\n\t-3509893514905579143 -> -3053313095907521341 [id=\"-5281961658848897139.args[0]\"]\n\t-3053313095907521341 [label=\"NDArrayCompat.from_ndarray\" id=-9177130969686516551]\n\t-3053313095907521341 -> -8998346874421760956 [id=\"-9177130969686516551.args[0]\"]\n\t-8998346874421760956 [label=\"Maybe.map\" id=-2178932975760294384]\n\t-8998346874421760956 -> -2584521374953452112 [id=\"-2178932975760294384.args[0]\"]\n\t-2584521374953452112 [label=\"Maybe.__and__\" id=-8549068771019930555]\n\t-2584521374953452112 -> -906915746085849223 [id=\"-8549068771019930555.args[0]\"]\n\t-906915746085849223 [label=\"Converter.convert\" id=-1731939772881271889]\n\t-906915746085849223 -> -7011619711849110242 [id=\"-1731939772881271889.args[0]\"]\n\t-7011619711849110242 [label=\"NDArrayCompat.__add__\" id=-2392957684524066418]\n\t-7011619711849110242 -> -6802406250591612239 [id=\"-2392957684524066418.args[0]\"]\n\t-6802406250591612239 [label=\"NDArrayCompat.from_ndarray\" id=5957414941209220213]\n\t-6802406250591612239 -> -8887871976037847346 [id=\"5957414941209220213.args[0]\"]\n\t-8887871976037847346 [label=\"Maybe.map\" id=8185140690946981952]\n\t-8887871976037847346 -> -8442994137960948810 [id=\"8185140690946981952.args[0]\"]\n\t-8442994137960948810 [label=\"Maybe.just\" id=-8442994137960948810]\n\t-8442994137960948810 -> -3131809300698277100 [id=\"-8442994137960948810.args[0]\"]\n\t-3131809300698277100 [label=\"Integer.from_int\" id=-3131809300698277100]\n\t-3131809300698277100 -> 7929563447225870375 [id=\"-3131809300698277100.args[0]\"]\n\t7929563447225870375 [label=100 id=6695801540915528909]\n\t-8887871976037847346 -> -8047665718338118652 [id=\"8185140690946981952.args[1]\"]\n\t-8047665718338118652 [label=\"Abstraction.from_fn\" id=-8047665718338118652]\n\t-8047665718338118652 -> 6103565132160316810 [id=\"-8047665718338118652.args[0]\"]\n\t6103565132160316810 [label=arange_ id=6103565132160316810]\n\t-7011619711849110242 -> -6802406250591612239 [id=\"-2392957684524066418.args[1]\"]\n\t-2584521374953452112 -> 6956738586168736130 [id=\"-8549068771019930555.args[1]\"]\n\t6956738586168736130 [label=\"Maybe.__or__\" id=-3416066141267607679]\n\t6956738586168736130 -> 6840992835378849873 [id=\"-3416066141267607679.args[0]\"]\n\t6840992835378849873 [label=\"Maybe.map\" id=4865162026085052172]\n\t6840992835378849873 -> -4057743209670033856 [id=\"4865162026085052172.args[0]\"]\n\t-4057743209670033856 [label=\"Maybe.just\" id=-4057743209670033856]\n\t-4057743209670033856 -> -1448899694609174123 [id=\"-4057743209670033856.args[0]\"]\n\t-1448899694609174123 [label=\"Integer.from_int\" id=-1448899694609174123]\n\t-1448899694609174123 -> 7929563447330875300 [id=\"-1448899694609174123.args[0]\"]\n\t7929563447330875300 [label=5 id=8368899336284295099]\n\t6840992835378849873 -> -966770576982675144 [id=\"4865162026085052172.args[1]\"]\n\t-966770576982675144 [label=\"Abstraction.from_fn\" id=-966770576982675144]\n\t-966770576982675144 -> -7970435562759903997 [id=\"-966770576982675144.args[0]\"]\n\t-7970435562759903997 [label=\"Either.left\" id=-7970435562759903997]\n\t6956738586168736130 -> -6822852619997036823 [id=\"-3416066141267607679.args[1]\"]\n\t-6822852619997036823 [label=\"Maybe.map\" id=-6822852619997036823]\n\t-6822852619997036823 -> 7195713575237942534 [id=\"-6822852619997036823.args[0]\"]\n\t7195713575237942534 [label=\"Converter.convert\" id=7195713575237942534]\n\t7195713575237942534 -> 7929563447330875300 [id=\"7195713575237942534.args[0]\"]\n\t-6822852619997036823 -> 1648329418498538327 [id=\"-6822852619997036823.args[1]\"]\n\t1648329418498538327 [label=\"Abstraction.create\" id=1648329418498538327]\n\t1648329418498538327 -> -5788305488585017870 [id=\"1648329418498538327.args[0]\"]\n\t-5788305488585017870 [label=\"Abstraction.create_variable\" id=-5788305488585017870]\n\t-5788305488585017870 -> 782204642417591620 [id=\"-5788305488585017870.args[0]\"]\n\t782204642417591620 [label=\"Variable(4532545744)\" id=782204642417591620]\n\t1648329418498538327 -> 5276140271914404268 [id=\"1648329418498538327.args[1]\"]\n\t5276140271914404268 [label=\"Either.right\" id=5276140271914404268]\n\t5276140271914404268 -> -5788305488585017870 [id=\"5276140271914404268.args[0]\"]\n\t-8998346874421760956 -> -9118015370219560904 [id=\"-2178932975760294384.args[1]\"]\n\t-9118015370219560904 [label=\"Abstraction.create\" id=-9118015370219560904]\n\t-9118015370219560904 -> -1567811318780057522 [id=\"-9118015370219560904.args[0]\"]\n\t-1567811318780057522 [label=\"Abstraction.create_variable\" id=-1567811318780057522]\n\t-1567811318780057522 -> 782204655928586145 [id=\"-1567811318780057522.args[0]\"]\n\t782204655928586145 [label=\"Variable(4532614368)\" id=782204655928586145]\n\t-9118015370219560904 -> 2264477634205654134 [id=\"-9118015370219560904.args[1]\"]\n\t2264477634205654134 [label=\"NDArray.__getitem__\" id=2264477634205654134]\n\t2264477634205654134 -> 6869289972660339569 [id=\"2264477634205654134.args[0]\"]\n\t6869289972660339569 [label=\"Pair.left\" id=6869289972660339569]\n\t6869289972660339569 -> -1567811318780057522 [id=\"6869289972660339569.args[0]\"]\n\t2264477634205654134 -> -5066980431023388391 [id=\"2264477634205654134.args[1]\"]\n\t-5066980431023388391 [label=\"Pair.right\" id=-5066980431023388391]\n\t-5066980431023388391 -> -1567811318780057522 [id=\"-5066980431023388391.args[0]\"]\n}",
         "label": null,
         "rule": "metadsl_core.abstraction.Abstraction.from_fn"
        },
        {
         "graph": "digraph {\n\tnode [shape=plain]\n\tedge [arrowsize=0.5 penwidth=0.5]\n\t6657799245420990369 [label=\"NDArrayCompat.to_ndarray\" id=-5281961658848897139]\n\t6657799245420990369 -> -4997712263342911668 [id=\"-5281961658848897139.args[0]\"]\n\t-4997712263342911668 [label=\"NDArrayCompat.from_ndarray\" id=-9177130969686516551]\n\t-4997712263342911668 -> 39861854122661410 [id=\"-9177130969686516551.args[0]\"]\n\t39861854122661410 [label=\"Maybe.map\" id=-2178932975760294384]\n\t39861854122661410 -> -150511557441503979 [id=\"-2178932975760294384.args[0]\"]\n\t-150511557441503979 [label=\"Maybe.__and__\" id=-8549068771019930555]\n\t-150511557441503979 -> -906915746085849223 [id=\"-8549068771019930555.args[0]\"]\n\t-906915746085849223 [label=\"Converter.convert\" id=-1731939772881271889]\n\t-906915746085849223 -> -7011619711849110242 [id=\"-1731939772881271889.args[0]\"]\n\t-7011619711849110242 [label=\"NDArrayCompat.__add__\" id=-2392957684524066418]\n\t-7011619711849110242 -> -6802406250591612239 [id=\"-2392957684524066418.args[0]\"]\n\t-6802406250591612239 [label=\"NDArrayCompat.from_ndarray\" id=5957414941209220213]\n\t-6802406250591612239 -> -8887871976037847346 [id=\"5957414941209220213.args[0]\"]\n\t-8887871976037847346 [label=\"Maybe.map\" id=8185140690946981952]\n\t-8887871976037847346 -> -8442994137960948810 [id=\"8185140690946981952.args[0]\"]\n\t-8442994137960948810 [label=\"Maybe.just\" id=-8442994137960948810]\n\t-8442994137960948810 -> -3131809300698277100 [id=\"-8442994137960948810.args[0]\"]\n\t-3131809300698277100 [label=\"Integer.from_int\" id=-3131809300698277100]\n\t-3131809300698277100 -> 7929563447225870375 [id=\"-3131809300698277100.args[0]\"]\n\t7929563447225870375 [label=100 id=6695801540915528909]\n\t-8887871976037847346 -> -8047665718338118652 [id=\"8185140690946981952.args[1]\"]\n\t-8047665718338118652 [label=\"Abstraction.from_fn\" id=-8047665718338118652]\n\t-8047665718338118652 -> 6103565132160316810 [id=\"-8047665718338118652.args[0]\"]\n\t6103565132160316810 [label=arange_ id=6103565132160316810]\n\t-7011619711849110242 -> -6802406250591612239 [id=\"-2392957684524066418.args[1]\"]\n\t-150511557441503979 -> 7168750140140484019 [id=\"-8549068771019930555.args[1]\"]\n\t7168750140140484019 [label=\"Maybe.__or__\" id=7168750140140484019]\n\t7168750140140484019 -> -1927693558332765614 [id=\"7168750140140484019.args[0]\"]\n\t-1927693558332765614 [label=\"Maybe.map\" id=-1927693558332765614]\n\t-1927693558332765614 -> -4057743209670033856 [id=\"-1927693558332765614.args[0]\"]\n\t-4057743209670033856 [label=\"Maybe.just\" id=-4057743209670033856]\n\t-4057743209670033856 -> -1448899694609174123 [id=\"-4057743209670033856.args[0]\"]\n\t-1448899694609174123 [label=\"Integer.from_int\" id=-1448899694609174123]\n\t-1448899694609174123 -> 7929563447330875300 [id=\"-1448899694609174123.args[0]\"]\n\t7929563447330875300 [label=5 id=8368899336284295099]\n\t-1927693558332765614 -> 2861773729804927232 [id=\"-1927693558332765614.args[1]\"]\n\t2861773729804927232 [label=\"Abstraction.create\" id=2861773729804927232]\n\t2861773729804927232 -> 1059062756968867836 [id=\"2861773729804927232.args[0]\"]\n\t1059062756968867836 [label=\"Abstraction.create_variable\" id=1059062756968867836]\n\t1059062756968867836 -> -8441167380741077888 [id=\"1059062756968867836.args[0]\"]\n\t-8441167380741077888 [label=\"Variable(4532601240)\" id=-8441167380741077888]\n\t2861773729804927232 -> -5394518138794402984 [id=\"2861773729804927232.args[1]\"]\n\t-5394518138794402984 [label=\"Either.left\" id=-5394518138794402984]\n\t-5394518138794402984 -> 1059062756968867836 [id=\"-5394518138794402984.args[0]\"]\n\t7168750140140484019 -> -6822852619997036823 [id=\"7168750140140484019.args[1]\"]\n\t-6822852619997036823 [label=\"Maybe.map\" id=-6822852619997036823]\n\t-6822852619997036823 -> 7195713575237942534 [id=\"-6822852619997036823.args[0]\"]\n\t7195713575237942534 [label=\"Converter.convert\" id=7195713575237942534]\n\t7195713575237942534 -> 7929563447330875300 [id=\"7195713575237942534.args[0]\"]\n\t-6822852619997036823 -> 1648329418498538327 [id=\"-6822852619997036823.args[1]\"]\n\t1648329418498538327 [label=\"Abstraction.create\" id=1648329418498538327]\n\t1648329418498538327 -> -5788305488585017870 [id=\"1648329418498538327.args[0]\"]\n\t-5788305488585017870 [label=\"Abstraction.create_variable\" id=-5788305488585017870]\n\t-5788305488585017870 -> 782204642417591620 [id=\"-5788305488585017870.args[0]\"]\n\t782204642417591620 [label=\"Variable(4532545744)\" id=782204642417591620]\n\t1648329418498538327 -> 5276140271914404268 [id=\"1648329418498538327.args[1]\"]\n\t5276140271914404268 [label=\"Either.right\" id=5276140271914404268]\n\t5276140271914404268 -> -5788305488585017870 [id=\"5276140271914404268.args[0]\"]\n\t39861854122661410 -> -9118015370219560904 [id=\"-2178932975760294384.args[1]\"]\n\t-9118015370219560904 [label=\"Abstraction.create\" id=-9118015370219560904]\n\t-9118015370219560904 -> -1567811318780057522 [id=\"-9118015370219560904.args[0]\"]\n\t-1567811318780057522 [label=\"Abstraction.create_variable\" id=-1567811318780057522]\n\t-1567811318780057522 -> 782204655928586145 [id=\"-1567811318780057522.args[0]\"]\n\t782204655928586145 [label=\"Variable(4532614368)\" id=782204655928586145]\n\t-9118015370219560904 -> 2264477634205654134 [id=\"-9118015370219560904.args[1]\"]\n\t2264477634205654134 [label=\"NDArray.__getitem__\" id=2264477634205654134]\n\t2264477634205654134 -> 6869289972660339569 [id=\"2264477634205654134.args[0]\"]\n\t6869289972660339569 [label=\"Pair.left\" id=6869289972660339569]\n\t6869289972660339569 -> -1567811318780057522 [id=\"6869289972660339569.args[0]\"]\n\t2264477634205654134 -> -5066980431023388391 [id=\"2264477634205654134.args[1]\"]\n\t-5066980431023388391 [label=\"Pair.right\" id=-5066980431023388391]\n\t-5066980431023388391 -> -1567811318780057522 [id=\"-5066980431023388391.args[0]\"]\n}",
         "label": null,
         "rule": "metadsl_core.abstraction.Abstraction.from_fn"
        },
        {
         "graph": "digraph {\n\tnode [shape=plain]\n\tedge [arrowsize=0.5 penwidth=0.5]\n\t5019884390065704826 [label=\"NDArrayCompat.to_ndarray\" id=-5281961658848897139]\n\t5019884390065704826 -> 4018705536740731172 [id=\"-5281961658848897139.args[0]\"]\n\t4018705536740731172 [label=\"NDArrayCompat.from_ndarray\" id=-9177130969686516551]\n\t4018705536740731172 -> -5261918083163352740 [id=\"-9177130969686516551.args[0]\"]\n\t-5261918083163352740 [label=\"Maybe.map\" id=-2178932975760294384]\n\t-5261918083163352740 -> 5105228348163832661 [id=\"-2178932975760294384.args[0]\"]\n\t5105228348163832661 [label=\"Maybe.__and__\" id=5105228348163832661]\n\t5105228348163832661 -> 3738807663539962808 [id=\"5105228348163832661.args[0]\"]\n\t3738807663539962808 [label=\"Converter.convert\" id=3738807663539962808]\n\t3738807663539962808 -> -5928052358113968640 [id=\"3738807663539962808.args[0]\"]\n\t-5928052358113968640 [label=\"NDArrayCompat.__add__\" id=-5928052358113968640]\n\t-5928052358113968640 -> -2224020701084858300 [id=\"-5928052358113968640.args[0]\"]\n\t-2224020701084858300 [label=\"NDArrayCompat.from_ndarray\" id=-2224020701084858300]\n\t-2224020701084858300 -> -6880367450692664388 [id=\"-2224020701084858300.args[0]\"]\n\t-6880367450692664388 [label=\"Maybe.map\" id=-6880367450692664388]\n\t-6880367450692664388 -> -8442994137960948810 [id=\"-6880367450692664388.args[0]\"]\n\t-8442994137960948810 [label=\"Maybe.just\" id=-8442994137960948810]\n\t-8442994137960948810 -> -3131809300698277100 [id=\"-8442994137960948810.args[0]\"]\n\t-3131809300698277100 [label=\"Integer.from_int\" id=-3131809300698277100]\n\t-3131809300698277100 -> 7929563447225870375 [id=\"-3131809300698277100.args[0]\"]\n\t7929563447225870375 [label=100 id=6695801540915528909]\n\t-6880367450692664388 -> -8952102342635871110 [id=\"-6880367450692664388.args[1]\"]\n\t-8952102342635871110 [label=\"Abstraction.create\" id=-8952102342635871110]\n\t-8952102342635871110 -> -1852894578847174519 [id=\"-8952102342635871110.args[0]\"]\n\t-1852894578847174519 [label=\"Abstraction.create_variable\" id=-1852894578847174519]\n\t-1852894578847174519 -> 782204650207441520 [id=\"-1852894578847174519.args[0]\"]\n\t782204650207441520 [label=\"Variable(4532693648)\" id=782204650207441520]\n\t-8952102342635871110 -> 3306699016847434562 [id=\"-8952102342635871110.args[1]\"]\n\t3306699016847434562 [label=arange_ id=3306699016847434562]\n\t3306699016847434562 -> -1852894578847174519 [id=\"3306699016847434562.args[0]\"]\n\t-5928052358113968640 -> -2224020701084858300 [id=\"-5928052358113968640.args[1]\"]\n\t5105228348163832661 -> 7168750140140484019 [id=\"5105228348163832661.args[1]\"]\n\t7168750140140484019 [label=\"Maybe.__or__\" id=7168750140140484019]\n\t7168750140140484019 -> -1927693558332765614 [id=\"7168750140140484019.args[0]\"]\n\t-1927693558332765614 [label=\"Maybe.map\" id=-1927693558332765614]\n\t-1927693558332765614 -> -4057743209670033856 [id=\"-1927693558332765614.args[0]\"]\n\t-4057743209670033856 [label=\"Maybe.just\" id=-4057743209670033856]\n\t-4057743209670033856 -> -1448899694609174123 [id=\"-4057743209670033856.args[0]\"]\n\t-1448899694609174123 [label=\"Integer.from_int\" id=-1448899694609174123]\n\t-1448899694609174123 -> 7929563447330875300 [id=\"-1448899694609174123.args[0]\"]\n\t7929563447330875300 [label=5 id=8368899336284295099]\n\t-1927693558332765614 -> 2861773729804927232 [id=\"-1927693558332765614.args[1]\"]\n\t2861773729804927232 [label=\"Abstraction.create\" id=2861773729804927232]\n\t2861773729804927232 -> 1059062756968867836 [id=\"2861773729804927232.args[0]\"]\n\t1059062756968867836 [label=\"Abstraction.create_variable\" id=1059062756968867836]\n\t1059062756968867836 -> -8441167380741077888 [id=\"1059062756968867836.args[0]\"]\n\t-8441167380741077888 [label=\"Variable(4532601240)\" id=-8441167380741077888]\n\t2861773729804927232 -> -5394518138794402984 [id=\"2861773729804927232.args[1]\"]\n\t-5394518138794402984 [label=\"Either.left\" id=-5394518138794402984]\n\t-5394518138794402984 -> 1059062756968867836 [id=\"-5394518138794402984.args[0]\"]\n\t7168750140140484019 -> -6822852619997036823 [id=\"7168750140140484019.args[1]\"]\n\t-6822852619997036823 [label=\"Maybe.map\" id=-6822852619997036823]\n\t-6822852619997036823 -> 7195713575237942534 [id=\"-6822852619997036823.args[0]\"]\n\t7195713575237942534 [label=\"Converter.convert\" id=7195713575237942534]\n\t7195713575237942534 -> 7929563447330875300 [id=\"7195713575237942534.args[0]\"]\n\t-6822852619997036823 -> 1648329418498538327 [id=\"-6822852619997036823.args[1]\"]\n\t1648329418498538327 [label=\"Abstraction.create\" id=1648329418498538327]\n\t1648329418498538327 -> -5788305488585017870 [id=\"1648329418498538327.args[0]\"]\n\t-5788305488585017870 [label=\"Abstraction.create_variable\" id=-5788305488585017870]\n\t-5788305488585017870 -> 782204642417591620 [id=\"-5788305488585017870.args[0]\"]\n\t782204642417591620 [label=\"Variable(4532545744)\" id=782204642417591620]\n\t1648329418498538327 -> 5276140271914404268 [id=\"1648329418498538327.args[1]\"]\n\t5276140271914404268 [label=\"Either.right\" id=5276140271914404268]\n\t5276140271914404268 -> -5788305488585017870 [id=\"5276140271914404268.args[0]\"]\n\t-5261918083163352740 -> -9118015370219560904 [id=\"-2178932975760294384.args[1]\"]\n\t-9118015370219560904 [label=\"Abstraction.create\" id=-9118015370219560904]\n\t-9118015370219560904 -> -1567811318780057522 [id=\"-9118015370219560904.args[0]\"]\n\t-1567811318780057522 [label=\"Abstraction.create_variable\" id=-1567811318780057522]\n\t-1567811318780057522 -> 782204655928586145 [id=\"-1567811318780057522.args[0]\"]\n\t782204655928586145 [label=\"Variable(4532614368)\" id=782204655928586145]\n\t-9118015370219560904 -> 2264477634205654134 [id=\"-9118015370219560904.args[1]\"]\n\t2264477634205654134 [label=\"NDArray.__getitem__\" id=2264477634205654134]\n\t2264477634205654134 -> 6869289972660339569 [id=\"2264477634205654134.args[0]\"]\n\t6869289972660339569 [label=\"Pair.left\" id=6869289972660339569]\n\t6869289972660339569 -> -1567811318780057522 [id=\"6869289972660339569.args[0]\"]\n\t2264477634205654134 -> -5066980431023388391 [id=\"2264477634205654134.args[1]\"]\n\t-5066980431023388391 [label=\"Pair.right\" id=-5066980431023388391]\n\t-5066980431023388391 -> -1567811318780057522 [id=\"-5066980431023388391.args[0]\"]\n}",
         "label": null,
         "rule": "metadsl_core.abstraction.Abstraction.from_fn"
        },
        {
         "graph": "digraph {\n\tnode [shape=plain]\n\tedge [arrowsize=0.5 penwidth=0.5]\n\t467193670212018109 [label=\"NDArrayCompat.to_ndarray\" id=-5281961658848897139]\n\t467193670212018109 -> 1889659546891565862 [id=\"-5281961658848897139.args[0]\"]\n\t1889659546891565862 [label=\"NDArrayCompat.from_ndarray\" id=-9177130969686516551]\n\t1889659546891565862 -> 3725999330449697263 [id=\"-9177130969686516551.args[0]\"]\n\t3725999330449697263 [label=\"Maybe.match\" id=-2178932975760294384]\n\t3725999330449697263 -> 5105228348163832661 [id=\"-2178932975760294384.args[0]\"]\n\t5105228348163832661 [label=\"Maybe.__and__\" id=5105228348163832661]\n\t5105228348163832661 -> 3738807663539962808 [id=\"5105228348163832661.args[0]\"]\n\t3738807663539962808 [label=\"Converter.convert\" id=3738807663539962808]\n\t3738807663539962808 -> -5928052358113968640 [id=\"3738807663539962808.args[0]\"]\n\t-5928052358113968640 [label=\"NDArrayCompat.__add__\" id=-5928052358113968640]\n\t-5928052358113968640 -> -2224020701084858300 [id=\"-5928052358113968640.args[0]\"]\n\t-2224020701084858300 [label=\"NDArrayCompat.from_ndarray\" id=-2224020701084858300]\n\t-2224020701084858300 -> -6880367450692664388 [id=\"-2224020701084858300.args[0]\"]\n\t-6880367450692664388 [label=\"Maybe.map\" id=-6880367450692664388]\n\t-6880367450692664388 -> -8442994137960948810 [id=\"-6880367450692664388.args[0]\"]\n\t-8442994137960948810 [label=\"Maybe.just\" id=-8442994137960948810]\n\t-8442994137960948810 -> -3131809300698277100 [id=\"-8442994137960948810.args[0]\"]\n\t-3131809300698277100 [label=\"Integer.from_int\" id=-3131809300698277100]\n\t-3131809300698277100 -> 7929563447225870375 [id=\"-3131809300698277100.args[0]\"]\n\t7929563447225870375 [label=100 id=6695801540915528909]\n\t-6880367450692664388 -> -8952102342635871110 [id=\"-6880367450692664388.args[1]\"]\n\t-8952102342635871110 [label=\"Abstraction.create\" id=-8952102342635871110]\n\t-8952102342635871110 -> -1852894578847174519 [id=\"-8952102342635871110.args[0]\"]\n\t-1852894578847174519 [label=\"Abstraction.create_variable\" id=-1852894578847174519]\n\t-1852894578847174519 -> 782204650207441520 [id=\"-1852894578847174519.args[0]\"]\n\t782204650207441520 [label=\"Variable(4532693648)\" id=782204650207441520]\n\t-8952102342635871110 -> 3306699016847434562 [id=\"-8952102342635871110.args[1]\"]\n\t3306699016847434562 [label=arange_ id=3306699016847434562]\n\t3306699016847434562 -> -1852894578847174519 [id=\"3306699016847434562.args[0]\"]\n\t-5928052358113968640 -> -2224020701084858300 [id=\"-5928052358113968640.args[1]\"]\n\t5105228348163832661 -> 7168750140140484019 [id=\"5105228348163832661.args[1]\"]\n\t7168750140140484019 [label=\"Maybe.__or__\" id=7168750140140484019]\n\t7168750140140484019 -> -1927693558332765614 [id=\"7168750140140484019.args[0]\"]\n\t-1927693558332765614 [label=\"Maybe.map\" id=-1927693558332765614]\n\t-1927693558332765614 -> -4057743209670033856 [id=\"-1927693558332765614.args[0]\"]\n\t-4057743209670033856 [label=\"Maybe.just\" id=-4057743209670033856]\n\t-4057743209670033856 -> -1448899694609174123 [id=\"-4057743209670033856.args[0]\"]\n\t-1448899694609174123 [label=\"Integer.from_int\" id=-1448899694609174123]\n\t-1448899694609174123 -> 7929563447330875300 [id=\"-1448899694609174123.args[0]\"]\n\t7929563447330875300 [label=5 id=8368899336284295099]\n\t-1927693558332765614 -> 2861773729804927232 [id=\"-1927693558332765614.args[1]\"]\n\t2861773729804927232 [label=\"Abstraction.create\" id=2861773729804927232]\n\t2861773729804927232 -> 1059062756968867836 [id=\"2861773729804927232.args[0]\"]\n\t1059062756968867836 [label=\"Abstraction.create_variable\" id=1059062756968867836]\n\t1059062756968867836 -> -8441167380741077888 [id=\"1059062756968867836.args[0]\"]\n\t-8441167380741077888 [label=\"Variable(4532601240)\" id=-8441167380741077888]\n\t2861773729804927232 -> -5394518138794402984 [id=\"2861773729804927232.args[1]\"]\n\t-5394518138794402984 [label=\"Either.left\" id=-5394518138794402984]\n\t-5394518138794402984 -> 1059062756968867836 [id=\"-5394518138794402984.args[0]\"]\n\t7168750140140484019 -> -6822852619997036823 [id=\"7168750140140484019.args[1]\"]\n\t-6822852619997036823 [label=\"Maybe.map\" id=-6822852619997036823]\n\t-6822852619997036823 -> 7195713575237942534 [id=\"-6822852619997036823.args[0]\"]\n\t7195713575237942534 [label=\"Converter.convert\" id=7195713575237942534]\n\t7195713575237942534 -> 7929563447330875300 [id=\"7195713575237942534.args[0]\"]\n\t-6822852619997036823 -> 1648329418498538327 [id=\"-6822852619997036823.args[1]\"]\n\t1648329418498538327 [label=\"Abstraction.create\" id=1648329418498538327]\n\t1648329418498538327 -> -5788305488585017870 [id=\"1648329418498538327.args[0]\"]\n\t-5788305488585017870 [label=\"Abstraction.create_variable\" id=-5788305488585017870]\n\t-5788305488585017870 -> 782204642417591620 [id=\"-5788305488585017870.args[0]\"]\n\t782204642417591620 [label=\"Variable(4532545744)\" id=782204642417591620]\n\t1648329418498538327 -> 5276140271914404268 [id=\"1648329418498538327.args[1]\"]\n\t5276140271914404268 [label=\"Either.right\" id=5276140271914404268]\n\t5276140271914404268 -> -5788305488585017870 [id=\"5276140271914404268.args[0]\"]\n\t3725999330449697263 -> 3904670649235592956 [id=\"-2178932975760294384.args[1]\"]\n\t3904670649235592956 [label=\"Maybe.nothing\" id=3904670649235592956]\n\t3725999330449697263 -> 7023613846905740443 [id=\"-2178932975760294384.args[2]\"]\n\t7023613846905740443 [label=\"Abstraction.__add__\" id=7023613846905740443]\n\t7023613846905740443 -> -7293254293253925776 [id=\"7023613846905740443.args[0]\"]\n\t-7293254293253925776 [label=\"Abstraction.from_fn\" id=-7293254293253925776]\n\t-7293254293253925776 -> -4094591097972136167 [id=\"-7293254293253925776.args[0]\"]\n\t-4094591097972136167 [label=\"Maybe.just\" id=-4094591097972136167]\n\t7023613846905740443 -> -9118015370219560904 [id=\"7023613846905740443.args[1]\"]\n\t-9118015370219560904 [label=\"Abstraction.create\" id=-9118015370219560904]\n\t-9118015370219560904 -> -1567811318780057522 [id=\"-9118015370219560904.args[0]\"]\n\t-1567811318780057522 [label=\"Abstraction.create_variable\" id=-1567811318780057522]\n\t-1567811318780057522 -> 782204655928586145 [id=\"-1567811318780057522.args[0]\"]\n\t782204655928586145 [label=\"Variable(4532614368)\" id=782204655928586145]\n\t-9118015370219560904 -> 2264477634205654134 [id=\"-9118015370219560904.args[1]\"]\n\t2264477634205654134 [label=\"NDArray.__getitem__\" id=2264477634205654134]\n\t2264477634205654134 -> 6869289972660339569 [id=\"2264477634205654134.args[0]\"]\n\t6869289972660339569 [label=\"Pair.left\" id=6869289972660339569]\n\t6869289972660339569 -> -1567811318780057522 [id=\"6869289972660339569.args[0]\"]\n\t2264477634205654134 -> -5066980431023388391 [id=\"2264477634205654134.args[1]\"]\n\t-5066980431023388391 [label=\"Pair.right\" id=-5066980431023388391]\n\t-5066980431023388391 -> -1567811318780057522 [id=\"-5066980431023388391.args[0]\"]\n}",
         "label": null,
         "rule": "metadsl_core.maybe.Maybe.map"
        },
        {
         "graph": "digraph {\n\tnode [shape=plain]\n\tedge [arrowsize=0.5 penwidth=0.5]\n\t5378610294031420407 [label=\"NDArrayCompat.to_ndarray\" id=-5281961658848897139]\n\t5378610294031420407 -> -336318807303650252 [id=\"-5281961658848897139.args[0]\"]\n\t-336318807303650252 [label=\"NDArrayCompat.from_ndarray\" id=-9177130969686516551]\n\t-336318807303650252 -> -4079412897980083317 [id=\"-9177130969686516551.args[0]\"]\n\t-4079412897980083317 [label=\"Maybe.match\" id=-2178932975760294384]\n\t-4079412897980083317 -> 8602002056363899264 [id=\"-2178932975760294384.args[0]\"]\n\t8602002056363899264 [label=\"Maybe.__and__\" id=5105228348163832661]\n\t8602002056363899264 -> 3738807663539962808 [id=\"5105228348163832661.args[0]\"]\n\t3738807663539962808 [label=\"Converter.convert\" id=3738807663539962808]\n\t3738807663539962808 -> -5928052358113968640 [id=\"3738807663539962808.args[0]\"]\n\t-5928052358113968640 [label=\"NDArrayCompat.__add__\" id=-5928052358113968640]\n\t-5928052358113968640 -> -2224020701084858300 [id=\"-5928052358113968640.args[0]\"]\n\t-2224020701084858300 [label=\"NDArrayCompat.from_ndarray\" id=-2224020701084858300]\n\t-2224020701084858300 -> -6880367450692664388 [id=\"-2224020701084858300.args[0]\"]\n\t-6880367450692664388 [label=\"Maybe.map\" id=-6880367450692664388]\n\t-6880367450692664388 -> -8442994137960948810 [id=\"-6880367450692664388.args[0]\"]\n\t-8442994137960948810 [label=\"Maybe.just\" id=-8442994137960948810]\n\t-8442994137960948810 -> -3131809300698277100 [id=\"-8442994137960948810.args[0]\"]\n\t-3131809300698277100 [label=\"Integer.from_int\" id=-3131809300698277100]\n\t-3131809300698277100 -> 7929563447225870375 [id=\"-3131809300698277100.args[0]\"]\n\t7929563447225870375 [label=100 id=6695801540915528909]\n\t-6880367450692664388 -> -8952102342635871110 [id=\"-6880367450692664388.args[1]\"]\n\t-8952102342635871110 [label=\"Abstraction.create\" id=-8952102342635871110]\n\t-8952102342635871110 -> -1852894578847174519 [id=\"-8952102342635871110.args[0]\"]\n\t-1852894578847174519 [label=\"Abstraction.create_variable\" id=-1852894578847174519]\n\t-1852894578847174519 -> 782204650207441520 [id=\"-1852894578847174519.args[0]\"]\n\t782204650207441520 [label=\"Variable(4532693648)\" id=782204650207441520]\n\t-8952102342635871110 -> 3306699016847434562 [id=\"-8952102342635871110.args[1]\"]\n\t3306699016847434562 [label=arange_ id=3306699016847434562]\n\t3306699016847434562 -> -1852894578847174519 [id=\"3306699016847434562.args[0]\"]\n\t-5928052358113968640 -> -2224020701084858300 [id=\"-5928052358113968640.args[1]\"]\n\t8602002056363899264 -> 9183481231975319666 [id=\"5105228348163832661.args[1]\"]\n\t9183481231975319666 [label=\"Maybe.__or__\" id=7168750140140484019]\n\t9183481231975319666 -> -1927693558332765614 [id=\"7168750140140484019.args[0]\"]\n\t-1927693558332765614 [label=\"Maybe.map\" id=-1927693558332765614]\n\t-1927693558332765614 -> -4057743209670033856 [id=\"-1927693558332765614.args[0]\"]\n\t-4057743209670033856 [label=\"Maybe.just\" id=-4057743209670033856]\n\t-4057743209670033856 -> -1448899694609174123 [id=\"-4057743209670033856.args[0]\"]\n\t-1448899694609174123 [label=\"Integer.from_int\" id=-1448899694609174123]\n\t-1448899694609174123 -> 7929563447330875300 [id=\"-1448899694609174123.args[0]\"]\n\t7929563447330875300 [label=5 id=8368899336284295099]\n\t-1927693558332765614 -> 2861773729804927232 [id=\"-1927693558332765614.args[1]\"]\n\t2861773729804927232 [label=\"Abstraction.create\" id=2861773729804927232]\n\t2861773729804927232 -> 1059062756968867836 [id=\"2861773729804927232.args[0]\"]\n\t1059062756968867836 [label=\"Abstraction.create_variable\" id=1059062756968867836]\n\t1059062756968867836 -> -8441167380741077888 [id=\"1059062756968867836.args[0]\"]\n\t-8441167380741077888 [label=\"Variable(4532601240)\" id=-8441167380741077888]\n\t2861773729804927232 -> -5394518138794402984 [id=\"2861773729804927232.args[1]\"]\n\t-5394518138794402984 [label=\"Either.left\" id=-5394518138794402984]\n\t-5394518138794402984 -> 1059062756968867836 [id=\"-5394518138794402984.args[0]\"]\n\t9183481231975319666 -> -8817432787412657013 [id=\"7168750140140484019.args[1]\"]\n\t-8817432787412657013 [label=\"Maybe.match\" id=-6822852619997036823]\n\t-8817432787412657013 -> 7195713575237942534 [id=\"-6822852619997036823.args[0]\"]\n\t7195713575237942534 [label=\"Converter.convert\" id=7195713575237942534]\n\t7195713575237942534 -> 7929563447330875300 [id=\"7195713575237942534.args[0]\"]\n\t-8817432787412657013 -> -754019181540390696 [id=\"-6822852619997036823.args[1]\"]\n\t-754019181540390696 [label=\"Maybe.nothing\" id=-754019181540390696]\n\t-8817432787412657013 -> -8334591979778177377 [id=\"-6822852619997036823.args[2]\"]\n\t-8334591979778177377 [label=\"Abstraction.__add__\" id=-8334591979778177377]\n\t-8334591979778177377 -> -7660677309244214554 [id=\"-8334591979778177377.args[0]\"]\n\t-7660677309244214554 [label=\"Abstraction.from_fn\" id=-7660677309244214554]\n\t-7660677309244214554 -> 2939876135484546645 [id=\"-7660677309244214554.args[0]\"]\n\t2939876135484546645 [label=\"Maybe.just\" id=2939876135484546645]\n\t-8334591979778177377 -> 1648329418498538327 [id=\"-8334591979778177377.args[1]\"]\n\t1648329418498538327 [label=\"Abstraction.create\" id=1648329418498538327]\n\t1648329418498538327 -> -5788305488585017870 [id=\"1648329418498538327.args[0]\"]\n\t-5788305488585017870 [label=\"Abstraction.create_variable\" id=-5788305488585017870]\n\t-5788305488585017870 -> 782204642417591620 [id=\"-5788305488585017870.args[0]\"]\n\t782204642417591620 [label=\"Variable(4532545744)\" id=782204642417591620]\n\t1648329418498538327 -> 5276140271914404268 [id=\"1648329418498538327.args[1]\"]\n\t5276140271914404268 [label=\"Either.right\" id=5276140271914404268]\n\t5276140271914404268 -> -5788305488585017870 [id=\"5276140271914404268.args[0]\"]\n\t-4079412897980083317 -> 3904670649235592956 [id=\"-2178932975760294384.args[1]\"]\n\t3904670649235592956 [label=\"Maybe.nothing\" id=3904670649235592956]\n\t-4079412897980083317 -> 7023613846905740443 [id=\"-2178932975760294384.args[2]\"]\n\t7023613846905740443 [label=\"Abstraction.__add__\" id=7023613846905740443]\n\t7023613846905740443 -> -7293254293253925776 [id=\"7023613846905740443.args[0]\"]\n\t-7293254293253925776 [label=\"Abstraction.from_fn\" id=-7293254293253925776]\n\t-7293254293253925776 -> -4094591097972136167 [id=\"-7293254293253925776.args[0]\"]\n\t-4094591097972136167 [label=\"Maybe.just\" id=-4094591097972136167]\n\t7023613846905740443 -> -9118015370219560904 [id=\"7023613846905740443.args[1]\"]\n\t-9118015370219560904 [label=\"Abstraction.create\" id=-9118015370219560904]\n\t-9118015370219560904 -> -1567811318780057522 [id=\"-9118015370219560904.args[0]\"]\n\t-1567811318780057522 [label=\"Abstraction.create_variable\" id=-1567811318780057522]\n\t-1567811318780057522 -> 782204655928586145 [id=\"-1567811318780057522.args[0]\"]\n\t782204655928586145 [label=\"Variable(4532614368)\" id=782204655928586145]\n\t-9118015370219560904 -> 2264477634205654134 [id=\"-9118015370219560904.args[1]\"]\n\t2264477634205654134 [label=\"NDArray.__getitem__\" id=2264477634205654134]\n\t2264477634205654134 -> 6869289972660339569 [id=\"2264477634205654134.args[0]\"]\n\t6869289972660339569 [label=\"Pair.left\" id=6869289972660339569]\n\t6869289972660339569 -> -1567811318780057522 [id=\"6869289972660339569.args[0]\"]\n\t2264477634205654134 -> -5066980431023388391 [id=\"2264477634205654134.args[1]\"]\n\t-5066980431023388391 [label=\"Pair.right\" id=-5066980431023388391]\n\t-5066980431023388391 -> -1567811318780057522 [id=\"-5066980431023388391.args[0]\"]\n}",
         "label": null,
         "rule": "metadsl_core.maybe.Maybe.map"
        },
        {
         "graph": "digraph {\n\tnode [shape=plain]\n\tedge [arrowsize=0.5 penwidth=0.5]\n\t-4937833522134177421 [label=\"NDArrayCompat.to_ndarray\" id=-5281961658848897139]\n\t-4937833522134177421 -> 2683581776710087647 [id=\"-5281961658848897139.args[0]\"]\n\t2683581776710087647 [label=\"NDArrayCompat.from_ndarray\" id=-9177130969686516551]\n\t2683581776710087647 -> -1798155223930758459 [id=\"-9177130969686516551.args[0]\"]\n\t-1798155223930758459 [label=\"Maybe.match\" id=-2178932975760294384]\n\t-1798155223930758459 -> -5229483840057583465 [id=\"-2178932975760294384.args[0]\"]\n\t-5229483840057583465 [label=\"Maybe.__and__\" id=5105228348163832661]\n\t-5229483840057583465 -> 3738807663539962808 [id=\"5105228348163832661.args[0]\"]\n\t3738807663539962808 [label=\"Converter.convert\" id=3738807663539962808]\n\t3738807663539962808 -> -5928052358113968640 [id=\"3738807663539962808.args[0]\"]\n\t-5928052358113968640 [label=\"NDArrayCompat.__add__\" id=-5928052358113968640]\n\t-5928052358113968640 -> -2224020701084858300 [id=\"-5928052358113968640.args[0]\"]\n\t-2224020701084858300 [label=\"NDArrayCompat.from_ndarray\" id=-2224020701084858300]\n\t-2224020701084858300 -> -6880367450692664388 [id=\"-2224020701084858300.args[0]\"]\n\t-6880367450692664388 [label=\"Maybe.map\" id=-6880367450692664388]\n\t-6880367450692664388 -> -8442994137960948810 [id=\"-6880367450692664388.args[0]\"]\n\t-8442994137960948810 [label=\"Maybe.just\" id=-8442994137960948810]\n\t-8442994137960948810 -> -3131809300698277100 [id=\"-8442994137960948810.args[0]\"]\n\t-3131809300698277100 [label=\"Integer.from_int\" id=-3131809300698277100]\n\t-3131809300698277100 -> 7929563447225870375 [id=\"-3131809300698277100.args[0]\"]\n\t7929563447225870375 [label=100 id=6695801540915528909]\n\t-6880367450692664388 -> -8952102342635871110 [id=\"-6880367450692664388.args[1]\"]\n\t-8952102342635871110 [label=\"Abstraction.create\" id=-8952102342635871110]\n\t-8952102342635871110 -> -1852894578847174519 [id=\"-8952102342635871110.args[0]\"]\n\t-1852894578847174519 [label=\"Abstraction.create_variable\" id=-1852894578847174519]\n\t-1852894578847174519 -> 782204650207441520 [id=\"-1852894578847174519.args[0]\"]\n\t782204650207441520 [label=\"Variable(4532693648)\" id=782204650207441520]\n\t-8952102342635871110 -> 3306699016847434562 [id=\"-8952102342635871110.args[1]\"]\n\t3306699016847434562 [label=arange_ id=3306699016847434562]\n\t3306699016847434562 -> -1852894578847174519 [id=\"3306699016847434562.args[0]\"]\n\t-5928052358113968640 -> -2224020701084858300 [id=\"-5928052358113968640.args[1]\"]\n\t-5229483840057583465 -> -6190752929779388082 [id=\"5105228348163832661.args[1]\"]\n\t-6190752929779388082 [label=\"Maybe.__or__\" id=7168750140140484019]\n\t-6190752929779388082 -> 5861720140862631724 [id=\"7168750140140484019.args[0]\"]\n\t5861720140862631724 [label=\"Maybe.match\" id=-1927693558332765614]\n\t5861720140862631724 -> -4057743209670033856 [id=\"-1927693558332765614.args[0]\"]\n\t-4057743209670033856 [label=\"Maybe.just\" id=-4057743209670033856]\n\t-4057743209670033856 -> -1448899694609174123 [id=\"-4057743209670033856.args[0]\"]\n\t-1448899694609174123 [label=\"Integer.from_int\" id=-1448899694609174123]\n\t-1448899694609174123 -> 7929563447330875300 [id=\"-1448899694609174123.args[0]\"]\n\t7929563447330875300 [label=5 id=8368899336284295099]\n\t5861720140862631724 -> -754019181540390696 [id=\"-1927693558332765614.args[1]\"]\n\t-754019181540390696 [label=\"Maybe.nothing\" id=-754019181540390696]\n\t5861720140862631724 -> -9181448698224066163 [id=\"-1927693558332765614.args[2]\"]\n\t-9181448698224066163 [label=\"Abstraction.__add__\" id=-9181448698224066163]\n\t-9181448698224066163 -> -7660677309244214554 [id=\"-9181448698224066163.args[0]\"]\n\t-7660677309244214554 [label=\"Abstraction.from_fn\" id=-7660677309244214554]\n\t-7660677309244214554 -> 2939876135484546645 [id=\"-7660677309244214554.args[0]\"]\n\t2939876135484546645 [label=\"Maybe.just\" id=2939876135484546645]\n\t-9181448698224066163 -> 2861773729804927232 [id=\"-9181448698224066163.args[1]\"]\n\t2861773729804927232 [label=\"Abstraction.create\" id=2861773729804927232]\n\t2861773729804927232 -> 1059062756968867836 [id=\"2861773729804927232.args[0]\"]\n\t1059062756968867836 [label=\"Abstraction.create_variable\" id=1059062756968867836]\n\t1059062756968867836 -> -8441167380741077888 [id=\"1059062756968867836.args[0]\"]\n\t-8441167380741077888 [label=\"Variable(4532601240)\" id=-8441167380741077888]\n\t2861773729804927232 -> -5394518138794402984 [id=\"2861773729804927232.args[1]\"]\n\t-5394518138794402984 [label=\"Either.left\" id=-5394518138794402984]\n\t-5394518138794402984 -> 1059062756968867836 [id=\"-5394518138794402984.args[0]\"]\n\t-6190752929779388082 -> -8817432787412657013 [id=\"7168750140140484019.args[1]\"]\n\t-8817432787412657013 [label=\"Maybe.match\" id=-6822852619997036823]\n\t-8817432787412657013 -> 7195713575237942534 [id=\"-6822852619997036823.args[0]\"]\n\t7195713575237942534 [label=\"Converter.convert\" id=7195713575237942534]\n\t7195713575237942534 -> 7929563447330875300 [id=\"7195713575237942534.args[0]\"]\n\t-8817432787412657013 -> -754019181540390696 [id=\"-6822852619997036823.args[1]\"]\n\t-8817432787412657013 -> -8334591979778177377 [id=\"-6822852619997036823.args[2]\"]\n\t-8334591979778177377 [label=\"Abstraction.__add__\" id=-8334591979778177377]\n\t-8334591979778177377 -> -7660677309244214554 [id=\"-8334591979778177377.args[0]\"]\n\t-8334591979778177377 -> 1648329418498538327 [id=\"-8334591979778177377.args[1]\"]\n\t1648329418498538327 [label=\"Abstraction.create\" id=1648329418498538327]\n\t1648329418498538327 -> -5788305488585017870 [id=\"1648329418498538327.args[0]\"]\n\t-5788305488585017870 [label=\"Abstraction.create_variable\" id=-5788305488585017870]\n\t-5788305488585017870 -> 782204642417591620 [id=\"-5788305488585017870.args[0]\"]\n\t782204642417591620 [label=\"Variable(4532545744)\" id=782204642417591620]\n\t1648329418498538327 -> 5276140271914404268 [id=\"1648329418498538327.args[1]\"]\n\t5276140271914404268 [label=\"Either.right\" id=5276140271914404268]\n\t5276140271914404268 -> -5788305488585017870 [id=\"5276140271914404268.args[0]\"]\n\t-1798155223930758459 -> 3904670649235592956 [id=\"-2178932975760294384.args[1]\"]\n\t3904670649235592956 [label=\"Maybe.nothing\" id=3904670649235592956]\n\t-1798155223930758459 -> 7023613846905740443 [id=\"-2178932975760294384.args[2]\"]\n\t7023613846905740443 [label=\"Abstraction.__add__\" id=7023613846905740443]\n\t7023613846905740443 -> -7293254293253925776 [id=\"7023613846905740443.args[0]\"]\n\t-7293254293253925776 [label=\"Abstraction.from_fn\" id=-7293254293253925776]\n\t-7293254293253925776 -> -4094591097972136167 [id=\"-7293254293253925776.args[0]\"]\n\t-4094591097972136167 [label=\"Maybe.just\" id=-4094591097972136167]\n\t7023613846905740443 -> -9118015370219560904 [id=\"7023613846905740443.args[1]\"]\n\t-9118015370219560904 [label=\"Abstraction.create\" id=-9118015370219560904]\n\t-9118015370219560904 -> -1567811318780057522 [id=\"-9118015370219560904.args[0]\"]\n\t-1567811318780057522 [label=\"Abstraction.create_variable\" id=-1567811318780057522]\n\t-1567811318780057522 -> 782204655928586145 [id=\"-1567811318780057522.args[0]\"]\n\t782204655928586145 [label=\"Variable(4532614368)\" id=782204655928586145]\n\t-9118015370219560904 -> 2264477634205654134 [id=\"-9118015370219560904.args[1]\"]\n\t2264477634205654134 [label=\"NDArray.__getitem__\" id=2264477634205654134]\n\t2264477634205654134 -> 6869289972660339569 [id=\"2264477634205654134.args[0]\"]\n\t6869289972660339569 [label=\"Pair.left\" id=6869289972660339569]\n\t6869289972660339569 -> -1567811318780057522 [id=\"6869289972660339569.args[0]\"]\n\t2264477634205654134 -> -5066980431023388391 [id=\"2264477634205654134.args[1]\"]\n\t-5066980431023388391 [label=\"Pair.right\" id=-5066980431023388391]\n\t-5066980431023388391 -> -1567811318780057522 [id=\"-5066980431023388391.args[0]\"]\n}",
         "label": null,
         "rule": "metadsl_core.maybe.Maybe.map"
        },
        {
         "graph": "digraph {\n\tnode [shape=plain]\n\tedge [arrowsize=0.5 penwidth=0.5]\n\t4409197928594064543 [label=\"NDArrayCompat.to_ndarray\" id=-5281961658848897139]\n\t4409197928594064543 -> -184917476802828996 [id=\"-5281961658848897139.args[0]\"]\n\t-184917476802828996 [label=\"NDArrayCompat.from_ndarray\" id=-9177130969686516551]\n\t-184917476802828996 -> 3058467386769174257 [id=\"-9177130969686516551.args[0]\"]\n\t3058467386769174257 [label=\"Maybe.match\" id=-2178932975760294384]\n\t3058467386769174257 -> 790147958428009313 [id=\"-2178932975760294384.args[0]\"]\n\t790147958428009313 [label=\"Maybe.__and__\" id=5105228348163832661]\n\t790147958428009313 -> 3738807663539962808 [id=\"5105228348163832661.args[0]\"]\n\t3738807663539962808 [label=\"Converter.convert\" id=3738807663539962808]\n\t3738807663539962808 -> -5928052358113968640 [id=\"3738807663539962808.args[0]\"]\n\t-5928052358113968640 [label=\"NDArrayCompat.__add__\" id=-5928052358113968640]\n\t-5928052358113968640 -> -2224020701084858300 [id=\"-5928052358113968640.args[0]\"]\n\t-2224020701084858300 [label=\"NDArrayCompat.from_ndarray\" id=-2224020701084858300]\n\t-2224020701084858300 -> -6880367450692664388 [id=\"-2224020701084858300.args[0]\"]\n\t-6880367450692664388 [label=\"Maybe.map\" id=-6880367450692664388]\n\t-6880367450692664388 -> -8442994137960948810 [id=\"-6880367450692664388.args[0]\"]\n\t-8442994137960948810 [label=\"Maybe.just\" id=-8442994137960948810]\n\t-8442994137960948810 -> -3131809300698277100 [id=\"-8442994137960948810.args[0]\"]\n\t-3131809300698277100 [label=\"Integer.from_int\" id=-3131809300698277100]\n\t-3131809300698277100 -> 7929563447225870375 [id=\"-3131809300698277100.args[0]\"]\n\t7929563447225870375 [label=100 id=6695801540915528909]\n\t-6880367450692664388 -> -8952102342635871110 [id=\"-6880367450692664388.args[1]\"]\n\t-8952102342635871110 [label=\"Abstraction.create\" id=-8952102342635871110]\n\t-8952102342635871110 -> -1852894578847174519 [id=\"-8952102342635871110.args[0]\"]\n\t-1852894578847174519 [label=\"Abstraction.create_variable\" id=-1852894578847174519]\n\t-1852894578847174519 -> 782204650207441520 [id=\"-1852894578847174519.args[0]\"]\n\t782204650207441520 [label=\"Variable(4532693648)\" id=782204650207441520]\n\t-8952102342635871110 -> 3306699016847434562 [id=\"-8952102342635871110.args[1]\"]\n\t3306699016847434562 [label=arange_ id=3306699016847434562]\n\t3306699016847434562 -> -1852894578847174519 [id=\"3306699016847434562.args[0]\"]\n\t-5928052358113968640 -> -2224020701084858300 [id=\"-5928052358113968640.args[1]\"]\n\t790147958428009313 -> -5596765414591522228 [id=\"5105228348163832661.args[1]\"]\n\t-5596765414591522228 [label=\"Maybe.__or__\" id=7168750140140484019]\n\t-5596765414591522228 -> -7077347480895772353 [id=\"7168750140140484019.args[0]\"]\n\t-7077347480895772353 [label=\"Abstraction.__call__\" id=-1927693558332765614]\n\t-7077347480895772353 -> -9181448698224066163 [id=\"-1927693558332765614.args[0]\"]\n\t-9181448698224066163 [label=\"Abstraction.__add__\" id=-9181448698224066163]\n\t-9181448698224066163 -> -7660677309244214554 [id=\"-9181448698224066163.args[0]\"]\n\t-7660677309244214554 [label=\"Abstraction.from_fn\" id=-7660677309244214554]\n\t-7660677309244214554 -> 2939876135484546645 [id=\"-7660677309244214554.args[0]\"]\n\t2939876135484546645 [label=\"Maybe.just\" id=2939876135484546645]\n\t-9181448698224066163 -> 2861773729804927232 [id=\"-9181448698224066163.args[1]\"]\n\t2861773729804927232 [label=\"Abstraction.create\" id=2861773729804927232]\n\t2861773729804927232 -> 1059062756968867836 [id=\"2861773729804927232.args[0]\"]\n\t1059062756968867836 [label=\"Abstraction.create_variable\" id=1059062756968867836]\n\t1059062756968867836 -> -8441167380741077888 [id=\"1059062756968867836.args[0]\"]\n\t-8441167380741077888 [label=\"Variable(4532601240)\" id=-8441167380741077888]\n\t2861773729804927232 -> -5394518138794402984 [id=\"2861773729804927232.args[1]\"]\n\t-5394518138794402984 [label=\"Either.left\" id=-5394518138794402984]\n\t-5394518138794402984 -> 1059062756968867836 [id=\"-5394518138794402984.args[0]\"]\n\t-7077347480895772353 -> -1448899694609174123 [id=\"-1927693558332765614.args[1]\"]\n\t-1448899694609174123 [label=\"Integer.from_int\" id=-1448899694609174123]\n\t-1448899694609174123 -> 7929563447330875300 [id=\"-1448899694609174123.args[0]\"]\n\t7929563447330875300 [label=5 id=8368899336284295099]\n\t-5596765414591522228 -> -8817432787412657013 [id=\"7168750140140484019.args[1]\"]\n\t-8817432787412657013 [label=\"Maybe.match\" id=-6822852619997036823]\n\t-8817432787412657013 -> 7195713575237942534 [id=\"-6822852619997036823.args[0]\"]\n\t7195713575237942534 [label=\"Converter.convert\" id=7195713575237942534]\n\t7195713575237942534 -> 7929563447330875300 [id=\"7195713575237942534.args[0]\"]\n\t-8817432787412657013 -> -754019181540390696 [id=\"-6822852619997036823.args[1]\"]\n\t-754019181540390696 [label=\"Maybe.nothing\" id=-754019181540390696]\n\t-8817432787412657013 -> -8334591979778177377 [id=\"-6822852619997036823.args[2]\"]\n\t-8334591979778177377 [label=\"Abstraction.__add__\" id=-8334591979778177377]\n\t-8334591979778177377 -> -7660677309244214554 [id=\"-8334591979778177377.args[0]\"]\n\t-8334591979778177377 -> 1648329418498538327 [id=\"-8334591979778177377.args[1]\"]\n\t1648329418498538327 [label=\"Abstraction.create\" id=1648329418498538327]\n\t1648329418498538327 -> -5788305488585017870 [id=\"1648329418498538327.args[0]\"]\n\t-5788305488585017870 [label=\"Abstraction.create_variable\" id=-5788305488585017870]\n\t-5788305488585017870 -> 782204642417591620 [id=\"-5788305488585017870.args[0]\"]\n\t782204642417591620 [label=\"Variable(4532545744)\" id=782204642417591620]\n\t1648329418498538327 -> 5276140271914404268 [id=\"1648329418498538327.args[1]\"]\n\t5276140271914404268 [label=\"Either.right\" id=5276140271914404268]\n\t5276140271914404268 -> -5788305488585017870 [id=\"5276140271914404268.args[0]\"]\n\t3058467386769174257 -> 3904670649235592956 [id=\"-2178932975760294384.args[1]\"]\n\t3904670649235592956 [label=\"Maybe.nothing\" id=3904670649235592956]\n\t3058467386769174257 -> 7023613846905740443 [id=\"-2178932975760294384.args[2]\"]\n\t7023613846905740443 [label=\"Abstraction.__add__\" id=7023613846905740443]\n\t7023613846905740443 -> -7293254293253925776 [id=\"7023613846905740443.args[0]\"]\n\t-7293254293253925776 [label=\"Abstraction.from_fn\" id=-7293254293253925776]\n\t-7293254293253925776 -> -4094591097972136167 [id=\"-7293254293253925776.args[0]\"]\n\t-4094591097972136167 [label=\"Maybe.just\" id=-4094591097972136167]\n\t7023613846905740443 -> -9118015370219560904 [id=\"7023613846905740443.args[1]\"]\n\t-9118015370219560904 [label=\"Abstraction.create\" id=-9118015370219560904]\n\t-9118015370219560904 -> -1567811318780057522 [id=\"-9118015370219560904.args[0]\"]\n\t-1567811318780057522 [label=\"Abstraction.create_variable\" id=-1567811318780057522]\n\t-1567811318780057522 -> 782204655928586145 [id=\"-1567811318780057522.args[0]\"]\n\t782204655928586145 [label=\"Variable(4532614368)\" id=782204655928586145]\n\t-9118015370219560904 -> 2264477634205654134 [id=\"-9118015370219560904.args[1]\"]\n\t2264477634205654134 [label=\"NDArray.__getitem__\" id=2264477634205654134]\n\t2264477634205654134 -> 6869289972660339569 [id=\"2264477634205654134.args[0]\"]\n\t6869289972660339569 [label=\"Pair.left\" id=6869289972660339569]\n\t6869289972660339569 -> -1567811318780057522 [id=\"6869289972660339569.args[0]\"]\n\t2264477634205654134 -> -5066980431023388391 [id=\"2264477634205654134.args[1]\"]\n\t-5066980431023388391 [label=\"Pair.right\" id=-5066980431023388391]\n\t-5066980431023388391 -> -1567811318780057522 [id=\"-5066980431023388391.args[0]\"]\n}",
         "label": null,
         "rule": "metadsl_core.maybe.maybe_match"
        },
        {
         "graph": "digraph {\n\tnode [shape=plain]\n\tedge [arrowsize=0.5 penwidth=0.5]\n\t543791791595042277 [label=\"NDArrayCompat.to_ndarray\" id=-5281961658848897139]\n\t543791791595042277 -> -682004686293093714 [id=\"-5281961658848897139.args[0]\"]\n\t-682004686293093714 [label=\"NDArrayCompat.from_ndarray\" id=-9177130969686516551]\n\t-682004686293093714 -> 818682114679304408 [id=\"-9177130969686516551.args[0]\"]\n\t818682114679304408 [label=\"Maybe.match\" id=-2178932975760294384]\n\t818682114679304408 -> 4288836549562167401 [id=\"-2178932975760294384.args[0]\"]\n\t4288836549562167401 [label=\"Maybe.__and__\" id=5105228348163832661]\n\t4288836549562167401 -> -8125440203073956716 [id=\"5105228348163832661.args[0]\"]\n\t-8125440203073956716 [label=\"Converter.convert\" id=3738807663539962808]\n\t-8125440203073956716 -> 2748478874076706913 [id=\"3738807663539962808.args[0]\"]\n\t2748478874076706913 [label=\"NDArrayCompat.__add__\" id=-5928052358113968640]\n\t2748478874076706913 -> -326778002507247179 [id=\"-5928052358113968640.args[0]\"]\n\t-326778002507247179 [label=\"NDArrayCompat.from_ndarray\" id=-326778002507247179]\n\t-326778002507247179 -> -1679686273028200441 [id=\"-326778002507247179.args[0]\"]\n\t-1679686273028200441 [label=\"Maybe.match\" id=-1679686273028200441]\n\t-1679686273028200441 -> -8442994137960948810 [id=\"-1679686273028200441.args[0]\"]\n\t-8442994137960948810 [label=\"Maybe.just\" id=-8442994137960948810]\n\t-8442994137960948810 -> -3131809300698277100 [id=\"-8442994137960948810.args[0]\"]\n\t-3131809300698277100 [label=\"Integer.from_int\" id=-3131809300698277100]\n\t-3131809300698277100 -> 7929563447225870375 [id=\"-3131809300698277100.args[0]\"]\n\t7929563447225870375 [label=100 id=6695801540915528909]\n\t-1679686273028200441 -> 3904670649235592956 [id=\"-1679686273028200441.args[1]\"]\n\t3904670649235592956 [label=\"Maybe.nothing\" id=3904670649235592956]\n\t-1679686273028200441 -> 7417534677030413501 [id=\"-1679686273028200441.args[2]\"]\n\t7417534677030413501 [label=\"Abstraction.__add__\" id=7417534677030413501]\n\t7417534677030413501 -> -7293254293253925776 [id=\"7417534677030413501.args[0]\"]\n\t-7293254293253925776 [label=\"Abstraction.from_fn\" id=-7293254293253925776]\n\t-7293254293253925776 -> -4094591097972136167 [id=\"-7293254293253925776.args[0]\"]\n\t-4094591097972136167 [label=\"Maybe.just\" id=-4094591097972136167]\n\t7417534677030413501 -> -8952102342635871110 [id=\"7417534677030413501.args[1]\"]\n\t-8952102342635871110 [label=\"Abstraction.create\" id=-8952102342635871110]\n\t-8952102342635871110 -> -1852894578847174519 [id=\"-8952102342635871110.args[0]\"]\n\t-1852894578847174519 [label=\"Abstraction.create_variable\" id=-1852894578847174519]\n\t-1852894578847174519 -> 782204650207441520 [id=\"-1852894578847174519.args[0]\"]\n\t782204650207441520 [label=\"Variable(4532693648)\" id=782204650207441520]\n\t-8952102342635871110 -> 3306699016847434562 [id=\"-8952102342635871110.args[1]\"]\n\t3306699016847434562 [label=arange_ id=3306699016847434562]\n\t3306699016847434562 -> -1852894578847174519 [id=\"3306699016847434562.args[0]\"]\n\t2748478874076706913 -> -2224020701084858300 [id=\"-5928052358113968640.args[1]\"]\n\t-2224020701084858300 [label=\"NDArrayCompat.from_ndarray\" id=-2224020701084858300]\n\t-2224020701084858300 -> -6880367450692664388 [id=\"-2224020701084858300.args[0]\"]\n\t-6880367450692664388 [label=\"Maybe.map\" id=-6880367450692664388]\n\t-6880367450692664388 -> -8442994137960948810 [id=\"-6880367450692664388.args[0]\"]\n\t-6880367450692664388 -> -8952102342635871110 [id=\"-6880367450692664388.args[1]\"]\n\t4288836549562167401 -> -5596765414591522228 [id=\"5105228348163832661.args[1]\"]\n\t-5596765414591522228 [label=\"Maybe.__or__\" id=7168750140140484019]\n\t-5596765414591522228 -> -7077347480895772353 [id=\"7168750140140484019.args[0]\"]\n\t-7077347480895772353 [label=\"Abstraction.__call__\" id=-1927693558332765614]\n\t-7077347480895772353 -> -9181448698224066163 [id=\"-1927693558332765614.args[0]\"]\n\t-9181448698224066163 [label=\"Abstraction.__add__\" id=-9181448698224066163]\n\t-9181448698224066163 -> -7660677309244214554 [id=\"-9181448698224066163.args[0]\"]\n\t-7660677309244214554 [label=\"Abstraction.from_fn\" id=-7660677309244214554]\n\t-7660677309244214554 -> 2939876135484546645 [id=\"-7660677309244214554.args[0]\"]\n\t2939876135484546645 [label=\"Maybe.just\" id=2939876135484546645]\n\t-9181448698224066163 -> 2861773729804927232 [id=\"-9181448698224066163.args[1]\"]\n\t2861773729804927232 [label=\"Abstraction.create\" id=2861773729804927232]\n\t2861773729804927232 -> 1059062756968867836 [id=\"2861773729804927232.args[0]\"]\n\t1059062756968867836 [label=\"Abstraction.create_variable\" id=1059062756968867836]\n\t1059062756968867836 -> -8441167380741077888 [id=\"1059062756968867836.args[0]\"]\n\t-8441167380741077888 [label=\"Variable(4532601240)\" id=-8441167380741077888]\n\t2861773729804927232 -> -5394518138794402984 [id=\"2861773729804927232.args[1]\"]\n\t-5394518138794402984 [label=\"Either.left\" id=-5394518138794402984]\n\t-5394518138794402984 -> 1059062756968867836 [id=\"-5394518138794402984.args[0]\"]\n\t-7077347480895772353 -> -1448899694609174123 [id=\"-1927693558332765614.args[1]\"]\n\t-1448899694609174123 [label=\"Integer.from_int\" id=-1448899694609174123]\n\t-1448899694609174123 -> 7929563447330875300 [id=\"-1448899694609174123.args[0]\"]\n\t7929563447330875300 [label=5 id=8368899336284295099]\n\t-5596765414591522228 -> -8817432787412657013 [id=\"7168750140140484019.args[1]\"]\n\t-8817432787412657013 [label=\"Maybe.match\" id=-6822852619997036823]\n\t-8817432787412657013 -> 7195713575237942534 [id=\"-6822852619997036823.args[0]\"]\n\t7195713575237942534 [label=\"Converter.convert\" id=7195713575237942534]\n\t7195713575237942534 -> 7929563447330875300 [id=\"7195713575237942534.args[0]\"]\n\t-8817432787412657013 -> -754019181540390696 [id=\"-6822852619997036823.args[1]\"]\n\t-754019181540390696 [label=\"Maybe.nothing\" id=-754019181540390696]\n\t-8817432787412657013 -> -8334591979778177377 [id=\"-6822852619997036823.args[2]\"]\n\t-8334591979778177377 [label=\"Abstraction.__add__\" id=-8334591979778177377]\n\t-8334591979778177377 -> -7660677309244214554 [id=\"-8334591979778177377.args[0]\"]\n\t-8334591979778177377 -> 1648329418498538327 [id=\"-8334591979778177377.args[1]\"]\n\t1648329418498538327 [label=\"Abstraction.create\" id=1648329418498538327]\n\t1648329418498538327 -> -5788305488585017870 [id=\"1648329418498538327.args[0]\"]\n\t-5788305488585017870 [label=\"Abstraction.create_variable\" id=-5788305488585017870]\n\t-5788305488585017870 -> 782204642417591620 [id=\"-5788305488585017870.args[0]\"]\n\t782204642417591620 [label=\"Variable(4532545744)\" id=782204642417591620]\n\t1648329418498538327 -> 5276140271914404268 [id=\"1648329418498538327.args[1]\"]\n\t5276140271914404268 [label=\"Either.right\" id=5276140271914404268]\n\t5276140271914404268 -> -5788305488585017870 [id=\"5276140271914404268.args[0]\"]\n\t818682114679304408 -> 3904670649235592956 [id=\"-2178932975760294384.args[1]\"]\n\t818682114679304408 -> 7023613846905740443 [id=\"-2178932975760294384.args[2]\"]\n\t7023613846905740443 [label=\"Abstraction.__add__\" id=7023613846905740443]\n\t7023613846905740443 -> -7293254293253925776 [id=\"7023613846905740443.args[0]\"]\n\t7023613846905740443 -> -9118015370219560904 [id=\"7023613846905740443.args[1]\"]\n\t-9118015370219560904 [label=\"Abstraction.create\" id=-9118015370219560904]\n\t-9118015370219560904 -> -1567811318780057522 [id=\"-9118015370219560904.args[0]\"]\n\t-1567811318780057522 [label=\"Abstraction.create_variable\" id=-1567811318780057522]\n\t-1567811318780057522 -> 782204655928586145 [id=\"-1567811318780057522.args[0]\"]\n\t782204655928586145 [label=\"Variable(4532614368)\" id=782204655928586145]\n\t-9118015370219560904 -> 2264477634205654134 [id=\"-9118015370219560904.args[1]\"]\n\t2264477634205654134 [label=\"NDArray.__getitem__\" id=2264477634205654134]\n\t2264477634205654134 -> 6869289972660339569 [id=\"2264477634205654134.args[0]\"]\n\t6869289972660339569 [label=\"Pair.left\" id=6869289972660339569]\n\t6869289972660339569 -> -1567811318780057522 [id=\"6869289972660339569.args[0]\"]\n\t2264477634205654134 -> -5066980431023388391 [id=\"2264477634205654134.args[1]\"]\n\t-5066980431023388391 [label=\"Pair.right\" id=-5066980431023388391]\n\t-5066980431023388391 -> -1567811318780057522 [id=\"-5066980431023388391.args[0]\"]\n}",
         "label": null,
         "rule": "metadsl_core.maybe.Maybe.map"
        },
        {
         "graph": "digraph {\n\tnode [shape=plain]\n\tedge [arrowsize=0.5 penwidth=0.5]\n\t6607133612709699955 [label=\"NDArrayCompat.to_ndarray\" id=-5281961658848897139]\n\t6607133612709699955 -> -9217164084872164381 [id=\"-5281961658848897139.args[0]\"]\n\t-9217164084872164381 [label=\"NDArrayCompat.from_ndarray\" id=-9177130969686516551]\n\t-9217164084872164381 -> 7564849359004638878 [id=\"-9177130969686516551.args[0]\"]\n\t7564849359004638878 [label=\"Maybe.match\" id=-2178932975760294384]\n\t7564849359004638878 -> -1050096578571021704 [id=\"-2178932975760294384.args[0]\"]\n\t-1050096578571021704 [label=\"Maybe.__and__\" id=5105228348163832661]\n\t-1050096578571021704 -> 2893270503678382867 [id=\"5105228348163832661.args[0]\"]\n\t2893270503678382867 [label=\"Converter.convert\" id=3738807663539962808]\n\t2893270503678382867 -> 8159527261163156774 [id=\"3738807663539962808.args[0]\"]\n\t8159527261163156774 [label=\"NDArrayCompat.__add__\" id=-5928052358113968640]\n\t8159527261163156774 -> -326778002507247179 [id=\"-5928052358113968640.args[0]\"]\n\t-326778002507247179 [label=\"NDArrayCompat.from_ndarray\" id=-326778002507247179]\n\t-326778002507247179 -> -1679686273028200441 [id=\"-326778002507247179.args[0]\"]\n\t-1679686273028200441 [label=\"Maybe.match\" id=-1679686273028200441]\n\t-1679686273028200441 -> -8442994137960948810 [id=\"-1679686273028200441.args[0]\"]\n\t-8442994137960948810 [label=\"Maybe.just\" id=-8442994137960948810]\n\t-8442994137960948810 -> -3131809300698277100 [id=\"-8442994137960948810.args[0]\"]\n\t-3131809300698277100 [label=\"Integer.from_int\" id=-3131809300698277100]\n\t-3131809300698277100 -> 7929563447225870375 [id=\"-3131809300698277100.args[0]\"]\n\t7929563447225870375 [label=100 id=6695801540915528909]\n\t-1679686273028200441 -> 3904670649235592956 [id=\"-1679686273028200441.args[1]\"]\n\t3904670649235592956 [label=\"Maybe.nothing\" id=3904670649235592956]\n\t-1679686273028200441 -> 7417534677030413501 [id=\"-1679686273028200441.args[2]\"]\n\t7417534677030413501 [label=\"Abstraction.__add__\" id=7417534677030413501]\n\t7417534677030413501 -> -7293254293253925776 [id=\"7417534677030413501.args[0]\"]\n\t-7293254293253925776 [label=\"Abstraction.from_fn\" id=-7293254293253925776]\n\t-7293254293253925776 -> -4094591097972136167 [id=\"-7293254293253925776.args[0]\"]\n\t-4094591097972136167 [label=\"Maybe.just\" id=-4094591097972136167]\n\t7417534677030413501 -> -8952102342635871110 [id=\"7417534677030413501.args[1]\"]\n\t-8952102342635871110 [label=\"Abstraction.create\" id=-8952102342635871110]\n\t-8952102342635871110 -> -1852894578847174519 [id=\"-8952102342635871110.args[0]\"]\n\t-1852894578847174519 [label=\"Abstraction.create_variable\" id=-1852894578847174519]\n\t-1852894578847174519 -> 782204650207441520 [id=\"-1852894578847174519.args[0]\"]\n\t782204650207441520 [label=\"Variable(4532693648)\" id=782204650207441520]\n\t-8952102342635871110 -> 3306699016847434562 [id=\"-8952102342635871110.args[1]\"]\n\t3306699016847434562 [label=arange_ id=3306699016847434562]\n\t3306699016847434562 -> -1852894578847174519 [id=\"3306699016847434562.args[0]\"]\n\t8159527261163156774 -> -326778002507247179 [id=\"-5928052358113968640.args[1]\"]\n\t-1050096578571021704 -> -5596765414591522228 [id=\"5105228348163832661.args[1]\"]\n\t-5596765414591522228 [label=\"Maybe.__or__\" id=7168750140140484019]\n\t-5596765414591522228 -> -7077347480895772353 [id=\"7168750140140484019.args[0]\"]\n\t-7077347480895772353 [label=\"Abstraction.__call__\" id=-1927693558332765614]\n\t-7077347480895772353 -> -9181448698224066163 [id=\"-1927693558332765614.args[0]\"]\n\t-9181448698224066163 [label=\"Abstraction.__add__\" id=-9181448698224066163]\n\t-9181448698224066163 -> -7660677309244214554 [id=\"-9181448698224066163.args[0]\"]\n\t-7660677309244214554 [label=\"Abstraction.from_fn\" id=-7660677309244214554]\n\t-7660677309244214554 -> 2939876135484546645 [id=\"-7660677309244214554.args[0]\"]\n\t2939876135484546645 [label=\"Maybe.just\" id=2939876135484546645]\n\t-9181448698224066163 -> 2861773729804927232 [id=\"-9181448698224066163.args[1]\"]\n\t2861773729804927232 [label=\"Abstraction.create\" id=2861773729804927232]\n\t2861773729804927232 -> 1059062756968867836 [id=\"2861773729804927232.args[0]\"]\n\t1059062756968867836 [label=\"Abstraction.create_variable\" id=1059062756968867836]\n\t1059062756968867836 -> -8441167380741077888 [id=\"1059062756968867836.args[0]\"]\n\t-8441167380741077888 [label=\"Variable(4532601240)\" id=-8441167380741077888]\n\t2861773729804927232 -> -5394518138794402984 [id=\"2861773729804927232.args[1]\"]\n\t-5394518138794402984 [label=\"Either.left\" id=-5394518138794402984]\n\t-5394518138794402984 -> 1059062756968867836 [id=\"-5394518138794402984.args[0]\"]\n\t-7077347480895772353 -> -1448899694609174123 [id=\"-1927693558332765614.args[1]\"]\n\t-1448899694609174123 [label=\"Integer.from_int\" id=-1448899694609174123]\n\t-1448899694609174123 -> 7929563447330875300 [id=\"-1448899694609174123.args[0]\"]\n\t7929563447330875300 [label=5 id=8368899336284295099]\n\t-5596765414591522228 -> -8817432787412657013 [id=\"7168750140140484019.args[1]\"]\n\t-8817432787412657013 [label=\"Maybe.match\" id=-6822852619997036823]\n\t-8817432787412657013 -> 7195713575237942534 [id=\"-6822852619997036823.args[0]\"]\n\t7195713575237942534 [label=\"Converter.convert\" id=7195713575237942534]\n\t7195713575237942534 -> 7929563447330875300 [id=\"7195713575237942534.args[0]\"]\n\t-8817432787412657013 -> -754019181540390696 [id=\"-6822852619997036823.args[1]\"]\n\t-754019181540390696 [label=\"Maybe.nothing\" id=-754019181540390696]\n\t-8817432787412657013 -> -8334591979778177377 [id=\"-6822852619997036823.args[2]\"]\n\t-8334591979778177377 [label=\"Abstraction.__add__\" id=-8334591979778177377]\n\t-8334591979778177377 -> -7660677309244214554 [id=\"-8334591979778177377.args[0]\"]\n\t-8334591979778177377 -> 1648329418498538327 [id=\"-8334591979778177377.args[1]\"]\n\t1648329418498538327 [label=\"Abstraction.create\" id=1648329418498538327]\n\t1648329418498538327 -> -5788305488585017870 [id=\"1648329418498538327.args[0]\"]\n\t-5788305488585017870 [label=\"Abstraction.create_variable\" id=-5788305488585017870]\n\t-5788305488585017870 -> 782204642417591620 [id=\"-5788305488585017870.args[0]\"]\n\t782204642417591620 [label=\"Variable(4532545744)\" id=782204642417591620]\n\t1648329418498538327 -> 5276140271914404268 [id=\"1648329418498538327.args[1]\"]\n\t5276140271914404268 [label=\"Either.right\" id=5276140271914404268]\n\t5276140271914404268 -> -5788305488585017870 [id=\"5276140271914404268.args[0]\"]\n\t7564849359004638878 -> 3904670649235592956 [id=\"-2178932975760294384.args[1]\"]\n\t7564849359004638878 -> 7023613846905740443 [id=\"-2178932975760294384.args[2]\"]\n\t7023613846905740443 [label=\"Abstraction.__add__\" id=7023613846905740443]\n\t7023613846905740443 -> -7293254293253925776 [id=\"7023613846905740443.args[0]\"]\n\t7023613846905740443 -> -9118015370219560904 [id=\"7023613846905740443.args[1]\"]\n\t-9118015370219560904 [label=\"Abstraction.create\" id=-9118015370219560904]\n\t-9118015370219560904 -> -1567811318780057522 [id=\"-9118015370219560904.args[0]\"]\n\t-1567811318780057522 [label=\"Abstraction.create_variable\" id=-1567811318780057522]\n\t-1567811318780057522 -> 782204655928586145 [id=\"-1567811318780057522.args[0]\"]\n\t782204655928586145 [label=\"Variable(4532614368)\" id=782204655928586145]\n\t-9118015370219560904 -> 2264477634205654134 [id=\"-9118015370219560904.args[1]\"]\n\t2264477634205654134 [label=\"NDArray.__getitem__\" id=2264477634205654134]\n\t2264477634205654134 -> 6869289972660339569 [id=\"2264477634205654134.args[0]\"]\n\t6869289972660339569 [label=\"Pair.left\" id=6869289972660339569]\n\t6869289972660339569 -> -1567811318780057522 [id=\"6869289972660339569.args[0]\"]\n\t2264477634205654134 -> -5066980431023388391 [id=\"2264477634205654134.args[1]\"]\n\t-5066980431023388391 [label=\"Pair.right\" id=-5066980431023388391]\n\t-5066980431023388391 -> -1567811318780057522 [id=\"-5066980431023388391.args[0]\"]\n}",
         "label": null,
         "rule": "metadsl_core.maybe.Maybe.map"
        },
        {
         "graph": "digraph {\n\tnode [shape=plain]\n\tedge [arrowsize=0.5 penwidth=0.5]\n\t-8813789946771923269 [label=\"NDArrayCompat.to_ndarray\" id=-5281961658848897139]\n\t-8813789946771923269 -> 3810858848635152647 [id=\"-5281961658848897139.args[0]\"]\n\t3810858848635152647 [label=\"NDArrayCompat.from_ndarray\" id=-9177130969686516551]\n\t3810858848635152647 -> 8364527385779016842 [id=\"-9177130969686516551.args[0]\"]\n\t8364527385779016842 [label=\"Maybe.match\" id=-2178932975760294384]\n\t8364527385779016842 -> 1205964400146739604 [id=\"-2178932975760294384.args[0]\"]\n\t1205964400146739604 [label=\"Maybe.__and__\" id=5105228348163832661]\n\t1205964400146739604 -> 8160375906643553213 [id=\"5105228348163832661.args[0]\"]\n\t8160375906643553213 [label=\"Converter.convert\" id=3738807663539962808]\n\t8160375906643553213 -> -2451974414440893144 [id=\"3738807663539962808.args[0]\"]\n\t-2451974414440893144 [label=\"NDArrayCompat.__add__\" id=-5928052358113968640]\n\t-2451974414440893144 -> -5073117767081961703 [id=\"-5928052358113968640.args[0]\"]\n\t-5073117767081961703 [label=\"NDArrayCompat.from_ndarray\" id=-5073117767081961703]\n\t-5073117767081961703 -> 1501117769350601043 [id=\"-5073117767081961703.args[0]\"]\n\t1501117769350601043 [label=\"Abstraction.__call__\" id=1501117769350601043]\n\t1501117769350601043 -> 7417534677030413501 [id=\"1501117769350601043.args[0]\"]\n\t7417534677030413501 [label=\"Abstraction.__add__\" id=7417534677030413501]\n\t7417534677030413501 -> -7293254293253925776 [id=\"7417534677030413501.args[0]\"]\n\t-7293254293253925776 [label=\"Abstraction.from_fn\" id=-7293254293253925776]\n\t-7293254293253925776 -> -4094591097972136167 [id=\"-7293254293253925776.args[0]\"]\n\t-4094591097972136167 [label=\"Maybe.just\" id=-4094591097972136167]\n\t7417534677030413501 -> -8952102342635871110 [id=\"7417534677030413501.args[1]\"]\n\t-8952102342635871110 [label=\"Abstraction.create\" id=-8952102342635871110]\n\t-8952102342635871110 -> -1852894578847174519 [id=\"-8952102342635871110.args[0]\"]\n\t-1852894578847174519 [label=\"Abstraction.create_variable\" id=-1852894578847174519]\n\t-1852894578847174519 -> 782204650207441520 [id=\"-1852894578847174519.args[0]\"]\n\t782204650207441520 [label=\"Variable(4532693648)\" id=782204650207441520]\n\t-8952102342635871110 -> 3306699016847434562 [id=\"-8952102342635871110.args[1]\"]\n\t3306699016847434562 [label=arange_ id=3306699016847434562]\n\t3306699016847434562 -> -1852894578847174519 [id=\"3306699016847434562.args[0]\"]\n\t1501117769350601043 -> -3131809300698277100 [id=\"1501117769350601043.args[1]\"]\n\t-3131809300698277100 [label=\"Integer.from_int\" id=-3131809300698277100]\n\t-3131809300698277100 -> 7929563447225870375 [id=\"-3131809300698277100.args[0]\"]\n\t7929563447225870375 [label=100 id=6695801540915528909]\n\t-2451974414440893144 -> -326778002507247179 [id=\"-5928052358113968640.args[1]\"]\n\t-326778002507247179 [label=\"NDArrayCompat.from_ndarray\" id=-326778002507247179]\n\t-326778002507247179 -> -1679686273028200441 [id=\"-326778002507247179.args[0]\"]\n\t-1679686273028200441 [label=\"Maybe.match\" id=-1679686273028200441]\n\t-1679686273028200441 -> -8442994137960948810 [id=\"-1679686273028200441.args[0]\"]\n\t-8442994137960948810 [label=\"Maybe.just\" id=-8442994137960948810]\n\t-8442994137960948810 -> -3131809300698277100 [id=\"-8442994137960948810.args[0]\"]\n\t-1679686273028200441 -> 3904670649235592956 [id=\"-1679686273028200441.args[1]\"]\n\t3904670649235592956 [label=\"Maybe.nothing\" id=3904670649235592956]\n\t-1679686273028200441 -> 7417534677030413501 [id=\"-1679686273028200441.args[2]\"]\n\t1205964400146739604 -> -5596765414591522228 [id=\"5105228348163832661.args[1]\"]\n\t-5596765414591522228 [label=\"Maybe.__or__\" id=7168750140140484019]\n\t-5596765414591522228 -> -7077347480895772353 [id=\"7168750140140484019.args[0]\"]\n\t-7077347480895772353 [label=\"Abstraction.__call__\" id=-1927693558332765614]\n\t-7077347480895772353 -> -9181448698224066163 [id=\"-1927693558332765614.args[0]\"]\n\t-9181448698224066163 [label=\"Abstraction.__add__\" id=-9181448698224066163]\n\t-9181448698224066163 -> -7660677309244214554 [id=\"-9181448698224066163.args[0]\"]\n\t-7660677309244214554 [label=\"Abstraction.from_fn\" id=-7660677309244214554]\n\t-7660677309244214554 -> 2939876135484546645 [id=\"-7660677309244214554.args[0]\"]\n\t2939876135484546645 [label=\"Maybe.just\" id=2939876135484546645]\n\t-9181448698224066163 -> 2861773729804927232 [id=\"-9181448698224066163.args[1]\"]\n\t2861773729804927232 [label=\"Abstraction.create\" id=2861773729804927232]\n\t2861773729804927232 -> 1059062756968867836 [id=\"2861773729804927232.args[0]\"]\n\t1059062756968867836 [label=\"Abstraction.create_variable\" id=1059062756968867836]\n\t1059062756968867836 -> -8441167380741077888 [id=\"1059062756968867836.args[0]\"]\n\t-8441167380741077888 [label=\"Variable(4532601240)\" id=-8441167380741077888]\n\t2861773729804927232 -> -5394518138794402984 [id=\"2861773729804927232.args[1]\"]\n\t-5394518138794402984 [label=\"Either.left\" id=-5394518138794402984]\n\t-5394518138794402984 -> 1059062756968867836 [id=\"-5394518138794402984.args[0]\"]\n\t-7077347480895772353 -> -1448899694609174123 [id=\"-1927693558332765614.args[1]\"]\n\t-1448899694609174123 [label=\"Integer.from_int\" id=-1448899694609174123]\n\t-1448899694609174123 -> 7929563447330875300 [id=\"-1448899694609174123.args[0]\"]\n\t7929563447330875300 [label=5 id=8368899336284295099]\n\t-5596765414591522228 -> -8817432787412657013 [id=\"7168750140140484019.args[1]\"]\n\t-8817432787412657013 [label=\"Maybe.match\" id=-6822852619997036823]\n\t-8817432787412657013 -> 7195713575237942534 [id=\"-6822852619997036823.args[0]\"]\n\t7195713575237942534 [label=\"Converter.convert\" id=7195713575237942534]\n\t7195713575237942534 -> 7929563447330875300 [id=\"7195713575237942534.args[0]\"]\n\t-8817432787412657013 -> -754019181540390696 [id=\"-6822852619997036823.args[1]\"]\n\t-754019181540390696 [label=\"Maybe.nothing\" id=-754019181540390696]\n\t-8817432787412657013 -> -8334591979778177377 [id=\"-6822852619997036823.args[2]\"]\n\t-8334591979778177377 [label=\"Abstraction.__add__\" id=-8334591979778177377]\n\t-8334591979778177377 -> -7660677309244214554 [id=\"-8334591979778177377.args[0]\"]\n\t-8334591979778177377 -> 1648329418498538327 [id=\"-8334591979778177377.args[1]\"]\n\t1648329418498538327 [label=\"Abstraction.create\" id=1648329418498538327]\n\t1648329418498538327 -> -5788305488585017870 [id=\"1648329418498538327.args[0]\"]\n\t-5788305488585017870 [label=\"Abstraction.create_variable\" id=-5788305488585017870]\n\t-5788305488585017870 -> 782204642417591620 [id=\"-5788305488585017870.args[0]\"]\n\t782204642417591620 [label=\"Variable(4532545744)\" id=782204642417591620]\n\t1648329418498538327 -> 5276140271914404268 [id=\"1648329418498538327.args[1]\"]\n\t5276140271914404268 [label=\"Either.right\" id=5276140271914404268]\n\t5276140271914404268 -> -5788305488585017870 [id=\"5276140271914404268.args[0]\"]\n\t8364527385779016842 -> 3904670649235592956 [id=\"-2178932975760294384.args[1]\"]\n\t8364527385779016842 -> 7023613846905740443 [id=\"-2178932975760294384.args[2]\"]\n\t7023613846905740443 [label=\"Abstraction.__add__\" id=7023613846905740443]\n\t7023613846905740443 -> -7293254293253925776 [id=\"7023613846905740443.args[0]\"]\n\t7023613846905740443 -> -9118015370219560904 [id=\"7023613846905740443.args[1]\"]\n\t-9118015370219560904 [label=\"Abstraction.create\" id=-9118015370219560904]\n\t-9118015370219560904 -> -1567811318780057522 [id=\"-9118015370219560904.args[0]\"]\n\t-1567811318780057522 [label=\"Abstraction.create_variable\" id=-1567811318780057522]\n\t-1567811318780057522 -> 782204655928586145 [id=\"-1567811318780057522.args[0]\"]\n\t782204655928586145 [label=\"Variable(4532614368)\" id=782204655928586145]\n\t-9118015370219560904 -> 2264477634205654134 [id=\"-9118015370219560904.args[1]\"]\n\t2264477634205654134 [label=\"NDArray.__getitem__\" id=2264477634205654134]\n\t2264477634205654134 -> 6869289972660339569 [id=\"2264477634205654134.args[0]\"]\n\t6869289972660339569 [label=\"Pair.left\" id=6869289972660339569]\n\t6869289972660339569 -> -1567811318780057522 [id=\"6869289972660339569.args[0]\"]\n\t2264477634205654134 -> -5066980431023388391 [id=\"2264477634205654134.args[1]\"]\n\t-5066980431023388391 [label=\"Pair.right\" id=-5066980431023388391]\n\t-5066980431023388391 -> -1567811318780057522 [id=\"-5066980431023388391.args[0]\"]\n}",
         "label": null,
         "rule": "metadsl_core.maybe.maybe_match"
        },
        {
         "graph": "digraph {\n\tnode [shape=plain]\n\tedge [arrowsize=0.5 penwidth=0.5]\n\t-5255964175121921594 [label=\"NDArrayCompat.to_ndarray\" id=-5281961658848897139]\n\t-5255964175121921594 -> 2124215296879408225 [id=\"-5281961658848897139.args[0]\"]\n\t2124215296879408225 [label=\"NDArrayCompat.from_ndarray\" id=-9177130969686516551]\n\t2124215296879408225 -> -3126480785575616036 [id=\"-9177130969686516551.args[0]\"]\n\t-3126480785575616036 [label=\"Maybe.match\" id=-2178932975760294384]\n\t-3126480785575616036 -> 5160524566463964012 [id=\"-2178932975760294384.args[0]\"]\n\t5160524566463964012 [label=\"Maybe.__and__\" id=5105228348163832661]\n\t5160524566463964012 -> -2349488285811446359 [id=\"5105228348163832661.args[0]\"]\n\t-2349488285811446359 [label=\"Converter.convert\" id=3738807663539962808]\n\t-2349488285811446359 -> -7717843735644360434 [id=\"3738807663539962808.args[0]\"]\n\t-7717843735644360434 [label=\"NDArrayCompat.__add__\" id=-5928052358113968640]\n\t-7717843735644360434 -> -5073117767081961703 [id=\"-5928052358113968640.args[0]\"]\n\t-5073117767081961703 [label=\"NDArrayCompat.from_ndarray\" id=-5073117767081961703]\n\t-5073117767081961703 -> 1501117769350601043 [id=\"-5073117767081961703.args[0]\"]\n\t1501117769350601043 [label=\"Abstraction.__call__\" id=1501117769350601043]\n\t1501117769350601043 -> 7417534677030413501 [id=\"1501117769350601043.args[0]\"]\n\t7417534677030413501 [label=\"Abstraction.__add__\" id=7417534677030413501]\n\t7417534677030413501 -> -7293254293253925776 [id=\"7417534677030413501.args[0]\"]\n\t-7293254293253925776 [label=\"Abstraction.from_fn\" id=-7293254293253925776]\n\t-7293254293253925776 -> -4094591097972136167 [id=\"-7293254293253925776.args[0]\"]\n\t-4094591097972136167 [label=\"Maybe.just\" id=-4094591097972136167]\n\t7417534677030413501 -> -8952102342635871110 [id=\"7417534677030413501.args[1]\"]\n\t-8952102342635871110 [label=\"Abstraction.create\" id=-8952102342635871110]\n\t-8952102342635871110 -> -1852894578847174519 [id=\"-8952102342635871110.args[0]\"]\n\t-1852894578847174519 [label=\"Abstraction.create_variable\" id=-1852894578847174519]\n\t-1852894578847174519 -> 782204650207441520 [id=\"-1852894578847174519.args[0]\"]\n\t782204650207441520 [label=\"Variable(4532693648)\" id=782204650207441520]\n\t-8952102342635871110 -> 3306699016847434562 [id=\"-8952102342635871110.args[1]\"]\n\t3306699016847434562 [label=arange_ id=3306699016847434562]\n\t3306699016847434562 -> -1852894578847174519 [id=\"3306699016847434562.args[0]\"]\n\t1501117769350601043 -> -3131809300698277100 [id=\"1501117769350601043.args[1]\"]\n\t-3131809300698277100 [label=\"Integer.from_int\" id=-3131809300698277100]\n\t-3131809300698277100 -> 7929563447225870375 [id=\"-3131809300698277100.args[0]\"]\n\t7929563447225870375 [label=100 id=6695801540915528909]\n\t-7717843735644360434 -> -5073117767081961703 [id=\"-5928052358113968640.args[1]\"]\n\t5160524566463964012 -> -5596765414591522228 [id=\"5105228348163832661.args[1]\"]\n\t-5596765414591522228 [label=\"Maybe.__or__\" id=7168750140140484019]\n\t-5596765414591522228 -> -7077347480895772353 [id=\"7168750140140484019.args[0]\"]\n\t-7077347480895772353 [label=\"Abstraction.__call__\" id=-1927693558332765614]\n\t-7077347480895772353 -> -9181448698224066163 [id=\"-1927693558332765614.args[0]\"]\n\t-9181448698224066163 [label=\"Abstraction.__add__\" id=-9181448698224066163]\n\t-9181448698224066163 -> -7660677309244214554 [id=\"-9181448698224066163.args[0]\"]\n\t-7660677309244214554 [label=\"Abstraction.from_fn\" id=-7660677309244214554]\n\t-7660677309244214554 -> 2939876135484546645 [id=\"-7660677309244214554.args[0]\"]\n\t2939876135484546645 [label=\"Maybe.just\" id=2939876135484546645]\n\t-9181448698224066163 -> 2861773729804927232 [id=\"-9181448698224066163.args[1]\"]\n\t2861773729804927232 [label=\"Abstraction.create\" id=2861773729804927232]\n\t2861773729804927232 -> 1059062756968867836 [id=\"2861773729804927232.args[0]\"]\n\t1059062756968867836 [label=\"Abstraction.create_variable\" id=1059062756968867836]\n\t1059062756968867836 -> -8441167380741077888 [id=\"1059062756968867836.args[0]\"]\n\t-8441167380741077888 [label=\"Variable(4532601240)\" id=-8441167380741077888]\n\t2861773729804927232 -> -5394518138794402984 [id=\"2861773729804927232.args[1]\"]\n\t-5394518138794402984 [label=\"Either.left\" id=-5394518138794402984]\n\t-5394518138794402984 -> 1059062756968867836 [id=\"-5394518138794402984.args[0]\"]\n\t-7077347480895772353 -> -1448899694609174123 [id=\"-1927693558332765614.args[1]\"]\n\t-1448899694609174123 [label=\"Integer.from_int\" id=-1448899694609174123]\n\t-1448899694609174123 -> 7929563447330875300 [id=\"-1448899694609174123.args[0]\"]\n\t7929563447330875300 [label=5 id=8368899336284295099]\n\t-5596765414591522228 -> -8817432787412657013 [id=\"7168750140140484019.args[1]\"]\n\t-8817432787412657013 [label=\"Maybe.match\" id=-6822852619997036823]\n\t-8817432787412657013 -> 7195713575237942534 [id=\"-6822852619997036823.args[0]\"]\n\t7195713575237942534 [label=\"Converter.convert\" id=7195713575237942534]\n\t7195713575237942534 -> 7929563447330875300 [id=\"7195713575237942534.args[0]\"]\n\t-8817432787412657013 -> -754019181540390696 [id=\"-6822852619997036823.args[1]\"]\n\t-754019181540390696 [label=\"Maybe.nothing\" id=-754019181540390696]\n\t-8817432787412657013 -> -8334591979778177377 [id=\"-6822852619997036823.args[2]\"]\n\t-8334591979778177377 [label=\"Abstraction.__add__\" id=-8334591979778177377]\n\t-8334591979778177377 -> -7660677309244214554 [id=\"-8334591979778177377.args[0]\"]\n\t-8334591979778177377 -> 1648329418498538327 [id=\"-8334591979778177377.args[1]\"]\n\t1648329418498538327 [label=\"Abstraction.create\" id=1648329418498538327]\n\t1648329418498538327 -> -5788305488585017870 [id=\"1648329418498538327.args[0]\"]\n\t-5788305488585017870 [label=\"Abstraction.create_variable\" id=-5788305488585017870]\n\t-5788305488585017870 -> 782204642417591620 [id=\"-5788305488585017870.args[0]\"]\n\t782204642417591620 [label=\"Variable(4532545744)\" id=782204642417591620]\n\t1648329418498538327 -> 5276140271914404268 [id=\"1648329418498538327.args[1]\"]\n\t5276140271914404268 [label=\"Either.right\" id=5276140271914404268]\n\t5276140271914404268 -> -5788305488585017870 [id=\"5276140271914404268.args[0]\"]\n\t-3126480785575616036 -> 3904670649235592956 [id=\"-2178932975760294384.args[1]\"]\n\t3904670649235592956 [label=\"Maybe.nothing\" id=3904670649235592956]\n\t-3126480785575616036 -> 7023613846905740443 [id=\"-2178932975760294384.args[2]\"]\n\t7023613846905740443 [label=\"Abstraction.__add__\" id=7023613846905740443]\n\t7023613846905740443 -> -7293254293253925776 [id=\"7023613846905740443.args[0]\"]\n\t7023613846905740443 -> -9118015370219560904 [id=\"7023613846905740443.args[1]\"]\n\t-9118015370219560904 [label=\"Abstraction.create\" id=-9118015370219560904]\n\t-9118015370219560904 -> -1567811318780057522 [id=\"-9118015370219560904.args[0]\"]\n\t-1567811318780057522 [label=\"Abstraction.create_variable\" id=-1567811318780057522]\n\t-1567811318780057522 -> 782204655928586145 [id=\"-1567811318780057522.args[0]\"]\n\t782204655928586145 [label=\"Variable(4532614368)\" id=782204655928586145]\n\t-9118015370219560904 -> 2264477634205654134 [id=\"-9118015370219560904.args[1]\"]\n\t2264477634205654134 [label=\"NDArray.__getitem__\" id=2264477634205654134]\n\t2264477634205654134 -> 6869289972660339569 [id=\"2264477634205654134.args[0]\"]\n\t6869289972660339569 [label=\"Pair.left\" id=6869289972660339569]\n\t6869289972660339569 -> -1567811318780057522 [id=\"6869289972660339569.args[0]\"]\n\t2264477634205654134 -> -5066980431023388391 [id=\"2264477634205654134.args[1]\"]\n\t-5066980431023388391 [label=\"Pair.right\" id=-5066980431023388391]\n\t-5066980431023388391 -> -1567811318780057522 [id=\"-5066980431023388391.args[0]\"]\n}",
         "label": null,
         "rule": "metadsl_core.maybe.maybe_match"
        },
        {
         "graph": "digraph {\n\tnode [shape=plain]\n\tedge [arrowsize=0.5 penwidth=0.5]\n\t8109027888668994712 [label=\"NDArrayCompat.to_ndarray\" id=-5281961658848897139]\n\t8109027888668994712 -> -7166437524877307118 [id=\"-5281961658848897139.args[0]\"]\n\t-7166437524877307118 [label=\"NDArrayCompat.from_ndarray\" id=-9177130969686516551]\n\t-7166437524877307118 -> 8473768900579042353 [id=\"-9177130969686516551.args[0]\"]\n\t8473768900579042353 [label=\"Maybe.match\" id=-2178932975760294384]\n\t8473768900579042353 -> 3093590991159885856 [id=\"-2178932975760294384.args[0]\"]\n\t3093590991159885856 [label=\"Maybe.__and__\" id=5105228348163832661]\n\t3093590991159885856 -> -2349488285811446359 [id=\"5105228348163832661.args[0]\"]\n\t-2349488285811446359 [label=\"Converter.convert\" id=3738807663539962808]\n\t-2349488285811446359 -> -7717843735644360434 [id=\"3738807663539962808.args[0]\"]\n\t-7717843735644360434 [label=\"NDArrayCompat.__add__\" id=-5928052358113968640]\n\t-7717843735644360434 -> -5073117767081961703 [id=\"-5928052358113968640.args[0]\"]\n\t-5073117767081961703 [label=\"NDArrayCompat.from_ndarray\" id=-5073117767081961703]\n\t-5073117767081961703 -> 1501117769350601043 [id=\"-5073117767081961703.args[0]\"]\n\t1501117769350601043 [label=\"Abstraction.__call__\" id=1501117769350601043]\n\t1501117769350601043 -> 7417534677030413501 [id=\"1501117769350601043.args[0]\"]\n\t7417534677030413501 [label=\"Abstraction.__add__\" id=7417534677030413501]\n\t7417534677030413501 -> -7293254293253925776 [id=\"7417534677030413501.args[0]\"]\n\t-7293254293253925776 [label=\"Abstraction.from_fn\" id=-7293254293253925776]\n\t-7293254293253925776 -> -4094591097972136167 [id=\"-7293254293253925776.args[0]\"]\n\t-4094591097972136167 [label=\"Maybe.just\" id=-4094591097972136167]\n\t7417534677030413501 -> -8952102342635871110 [id=\"7417534677030413501.args[1]\"]\n\t-8952102342635871110 [label=\"Abstraction.create\" id=-8952102342635871110]\n\t-8952102342635871110 -> -1852894578847174519 [id=\"-8952102342635871110.args[0]\"]\n\t-1852894578847174519 [label=\"Abstraction.create_variable\" id=-1852894578847174519]\n\t-1852894578847174519 -> 782204650207441520 [id=\"-1852894578847174519.args[0]\"]\n\t782204650207441520 [label=\"Variable(4532693648)\" id=782204650207441520]\n\t-8952102342635871110 -> 3306699016847434562 [id=\"-8952102342635871110.args[1]\"]\n\t3306699016847434562 [label=arange_ id=3306699016847434562]\n\t3306699016847434562 -> -1852894578847174519 [id=\"3306699016847434562.args[0]\"]\n\t1501117769350601043 -> -3131809300698277100 [id=\"1501117769350601043.args[1]\"]\n\t-3131809300698277100 [label=\"Integer.from_int\" id=-3131809300698277100]\n\t-3131809300698277100 -> 7929563447225870375 [id=\"-3131809300698277100.args[0]\"]\n\t7929563447225870375 [label=100 id=6695801540915528909]\n\t-7717843735644360434 -> -5073117767081961703 [id=\"-5928052358113968640.args[1]\"]\n\t3093590991159885856 -> 7241302157445506915 [id=\"5105228348163832661.args[1]\"]\n\t7241302157445506915 [label=\"Maybe.__or__\" id=7168750140140484019]\n\t7241302157445506915 -> 8315901269190522822 [id=\"7168750140140484019.args[0]\"]\n\t8315901269190522822 [label=\"Abstraction.__call__\" id=-1927693558332765614]\n\t8315901269190522822 -> 853586745109798487 [id=\"-1927693558332765614.args[0]\"]\n\t853586745109798487 [label=\"Abstraction.__add__\" id=-9181448698224066163]\n\t853586745109798487 -> -6111235855211480769 [id=\"-9181448698224066163.args[0]\"]\n\t-6111235855211480769 [label=\"Abstraction.create\" id=-7660677309244214554]\n\t-6111235855211480769 -> -1705905533886788551 [id=\"-7660677309244214554.args[0]\"]\n\t-1705905533886788551 [label=\"Abstraction.create_variable\" id=-1705905533886788551]\n\t-1705905533886788551 -> -8441167327920353038 [id=\"-1705905533886788551.args[0]\"]\n\t-8441167327920353038 [label=\"Variable(4532349752)\" id=-8441167327920353038]\n\t-6111235855211480769 -> 5001873403081188039 [id=\"-7660677309244214554.args[1]\"]\n\t5001873403081188039 [label=\"Maybe.just\" id=5001873403081188039]\n\t5001873403081188039 -> -1705905533886788551 [id=\"5001873403081188039.args[0]\"]\n\t853586745109798487 -> 2861773729804927232 [id=\"-9181448698224066163.args[1]\"]\n\t2861773729804927232 [label=\"Abstraction.create\" id=2861773729804927232]\n\t2861773729804927232 -> 1059062756968867836 [id=\"2861773729804927232.args[0]\"]\n\t1059062756968867836 [label=\"Abstraction.create_variable\" id=1059062756968867836]\n\t1059062756968867836 -> -8441167380741077888 [id=\"1059062756968867836.args[0]\"]\n\t-8441167380741077888 [label=\"Variable(4532601240)\" id=-8441167380741077888]\n\t2861773729804927232 -> -5394518138794402984 [id=\"2861773729804927232.args[1]\"]\n\t-5394518138794402984 [label=\"Either.left\" id=-5394518138794402984]\n\t-5394518138794402984 -> 1059062756968867836 [id=\"-5394518138794402984.args[0]\"]\n\t8315901269190522822 -> -1448899694609174123 [id=\"-1927693558332765614.args[1]\"]\n\t-1448899694609174123 [label=\"Integer.from_int\" id=-1448899694609174123]\n\t-1448899694609174123 -> 7929563447330875300 [id=\"-1448899694609174123.args[0]\"]\n\t7929563447330875300 [label=5 id=8368899336284295099]\n\t7241302157445506915 -> -5874662002019313860 [id=\"7168750140140484019.args[1]\"]\n\t-5874662002019313860 [label=\"Maybe.match\" id=-6822852619997036823]\n\t-5874662002019313860 -> 7195713575237942534 [id=\"-6822852619997036823.args[0]\"]\n\t7195713575237942534 [label=\"Converter.convert\" id=7195713575237942534]\n\t7195713575237942534 -> 7929563447330875300 [id=\"7195713575237942534.args[0]\"]\n\t-5874662002019313860 -> -754019181540390696 [id=\"-6822852619997036823.args[1]\"]\n\t-754019181540390696 [label=\"Maybe.nothing\" id=-754019181540390696]\n\t-5874662002019313860 -> -54078915593045179 [id=\"-6822852619997036823.args[2]\"]\n\t-54078915593045179 [label=\"Abstraction.__add__\" id=-8334591979778177377]\n\t-54078915593045179 -> -6111235855211480769 [id=\"-8334591979778177377.args[0]\"]\n\t-54078915593045179 -> 1648329418498538327 [id=\"-8334591979778177377.args[1]\"]\n\t1648329418498538327 [label=\"Abstraction.create\" id=1648329418498538327]\n\t1648329418498538327 -> -5788305488585017870 [id=\"1648329418498538327.args[0]\"]\n\t-5788305488585017870 [label=\"Abstraction.create_variable\" id=-5788305488585017870]\n\t-5788305488585017870 -> 782204642417591620 [id=\"-5788305488585017870.args[0]\"]\n\t782204642417591620 [label=\"Variable(4532545744)\" id=782204642417591620]\n\t1648329418498538327 -> 5276140271914404268 [id=\"1648329418498538327.args[1]\"]\n\t5276140271914404268 [label=\"Either.right\" id=5276140271914404268]\n\t5276140271914404268 -> -5788305488585017870 [id=\"5276140271914404268.args[0]\"]\n\t8473768900579042353 -> 3904670649235592956 [id=\"-2178932975760294384.args[1]\"]\n\t3904670649235592956 [label=\"Maybe.nothing\" id=3904670649235592956]\n\t8473768900579042353 -> 7023613846905740443 [id=\"-2178932975760294384.args[2]\"]\n\t7023613846905740443 [label=\"Abstraction.__add__\" id=7023613846905740443]\n\t7023613846905740443 -> -7293254293253925776 [id=\"7023613846905740443.args[0]\"]\n\t7023613846905740443 -> -9118015370219560904 [id=\"7023613846905740443.args[1]\"]\n\t-9118015370219560904 [label=\"Abstraction.create\" id=-9118015370219560904]\n\t-9118015370219560904 -> -1567811318780057522 [id=\"-9118015370219560904.args[0]\"]\n\t-1567811318780057522 [label=\"Abstraction.create_variable\" id=-1567811318780057522]\n\t-1567811318780057522 -> 782204655928586145 [id=\"-1567811318780057522.args[0]\"]\n\t782204655928586145 [label=\"Variable(4532614368)\" id=782204655928586145]\n\t-9118015370219560904 -> 2264477634205654134 [id=\"-9118015370219560904.args[1]\"]\n\t2264477634205654134 [label=\"NDArray.__getitem__\" id=2264477634205654134]\n\t2264477634205654134 -> 6869289972660339569 [id=\"2264477634205654134.args[0]\"]\n\t6869289972660339569 [label=\"Pair.left\" id=6869289972660339569]\n\t6869289972660339569 -> -1567811318780057522 [id=\"6869289972660339569.args[0]\"]\n\t2264477634205654134 -> -5066980431023388391 [id=\"2264477634205654134.args[1]\"]\n\t-5066980431023388391 [label=\"Pair.right\" id=-5066980431023388391]\n\t-5066980431023388391 -> -1567811318780057522 [id=\"-5066980431023388391.args[0]\"]\n}",
         "label": null,
         "rule": "metadsl_core.abstraction.Abstraction.from_fn"
        },
        {
         "graph": "digraph {\n\tnode [shape=plain]\n\tedge [arrowsize=0.5 penwidth=0.5]\n\t1503670130711119168 [label=\"NDArrayCompat.to_ndarray\" id=-5281961658848897139]\n\t1503670130711119168 -> 19365732303179799 [id=\"-5281961658848897139.args[0]\"]\n\t19365732303179799 [label=\"NDArrayCompat.from_ndarray\" id=-9177130969686516551]\n\t19365732303179799 -> 6220958238760007611 [id=\"-9177130969686516551.args[0]\"]\n\t6220958238760007611 [label=\"Maybe.match\" id=-2178932975760294384]\n\t6220958238760007611 -> 1435844399326717123 [id=\"-2178932975760294384.args[0]\"]\n\t1435844399326717123 [label=\"Maybe.__and__\" id=5105228348163832661]\n\t1435844399326717123 -> 4412416794792270398 [id=\"5105228348163832661.args[0]\"]\n\t4412416794792270398 [label=\"Converter.convert\" id=3738807663539962808]\n\t4412416794792270398 -> -4574192517958908719 [id=\"3738807663539962808.args[0]\"]\n\t-4574192517958908719 [label=\"NDArrayCompat.__add__\" id=-5928052358113968640]\n\t-4574192517958908719 -> -7831860903262410409 [id=\"-5928052358113968640.args[0]\"]\n\t-7831860903262410409 [label=\"NDArrayCompat.from_ndarray\" id=-2224020701084858300]\n\t-7831860903262410409 -> 4456604564882372220 [id=\"-2224020701084858300.args[0]\"]\n\t4456604564882372220 [label=\"Abstraction.__call__\" id=-6880367450692664388]\n\t4456604564882372220 -> -3815901700388079820 [id=\"-6880367450692664388.args[0]\"]\n\t-3815901700388079820 [label=\"Abstraction.__add__\" id=7417534677030413501]\n\t-3815901700388079820 -> 7210536553855986561 [id=\"7417534677030413501.args[0]\"]\n\t7210536553855986561 [label=\"Abstraction.create\" id=-7293254293253925776]\n\t7210536553855986561 -> 6102774012109720231 [id=\"-7293254293253925776.args[0]\"]\n\t6102774012109720231 [label=\"Abstraction.create_variable\" id=6102774012109720231]\n\t6102774012109720231 -> -8441167376553871188 [id=\"6102774012109720231.args[0]\"]\n\t-8441167376553871188 [label=\"Variable(4532810584)\" id=-8441167376553871188]\n\t7210536553855986561 -> 1379772526540993227 [id=\"-7293254293253925776.args[1]\"]\n\t1379772526540993227 [label=\"Maybe.just\" id=1379772526540993227]\n\t1379772526540993227 -> 6102774012109720231 [id=\"1379772526540993227.args[0]\"]\n\t-3815901700388079820 -> -8952102342635871110 [id=\"7417534677030413501.args[1]\"]\n\t-8952102342635871110 [label=\"Abstraction.create\" id=-8952102342635871110]\n\t-8952102342635871110 -> -1852894578847174519 [id=\"-8952102342635871110.args[0]\"]\n\t-1852894578847174519 [label=\"Abstraction.create_variable\" id=-1852894578847174519]\n\t-1852894578847174519 -> 782204650207441520 [id=\"-1852894578847174519.args[0]\"]\n\t782204650207441520 [label=\"Variable(4532693648)\" id=782204650207441520]\n\t-8952102342635871110 -> 3306699016847434562 [id=\"-8952102342635871110.args[1]\"]\n\t3306699016847434562 [label=arange_ id=3306699016847434562]\n\t3306699016847434562 -> -1852894578847174519 [id=\"3306699016847434562.args[0]\"]\n\t4456604564882372220 -> -3131809300698277100 [id=\"-6880367450692664388.args[1]\"]\n\t-3131809300698277100 [label=\"Integer.from_int\" id=-3131809300698277100]\n\t-3131809300698277100 -> 7929563447225870375 [id=\"-3131809300698277100.args[0]\"]\n\t7929563447225870375 [label=100 id=6695801540915528909]\n\t-4574192517958908719 -> -5073117767081961703 [id=\"-5928052358113968640.args[1]\"]\n\t-5073117767081961703 [label=\"NDArrayCompat.from_ndarray\" id=-5073117767081961703]\n\t-5073117767081961703 -> 1501117769350601043 [id=\"-5073117767081961703.args[0]\"]\n\t1501117769350601043 [label=\"Abstraction.__call__\" id=1501117769350601043]\n\t1501117769350601043 -> 7417534677030413501 [id=\"1501117769350601043.args[0]\"]\n\t7417534677030413501 [label=\"Abstraction.__add__\" id=7417534677030413501]\n\t7417534677030413501 -> -7293254293253925776 [id=\"7417534677030413501.args[0]\"]\n\t-7293254293253925776 [label=\"Abstraction.from_fn\" id=-7293254293253925776]\n\t-7293254293253925776 -> -4094591097972136167 [id=\"-7293254293253925776.args[0]\"]\n\t-4094591097972136167 [label=\"Maybe.just\" id=-4094591097972136167]\n\t7417534677030413501 -> -8952102342635871110 [id=\"7417534677030413501.args[1]\"]\n\t1501117769350601043 -> -3131809300698277100 [id=\"1501117769350601043.args[1]\"]\n\t1435844399326717123 -> 7241302157445506915 [id=\"5105228348163832661.args[1]\"]\n\t7241302157445506915 [label=\"Maybe.__or__\" id=7168750140140484019]\n\t7241302157445506915 -> 8315901269190522822 [id=\"7168750140140484019.args[0]\"]\n\t8315901269190522822 [label=\"Abstraction.__call__\" id=-1927693558332765614]\n\t8315901269190522822 -> 853586745109798487 [id=\"-1927693558332765614.args[0]\"]\n\t853586745109798487 [label=\"Abstraction.__add__\" id=-9181448698224066163]\n\t853586745109798487 -> -6111235855211480769 [id=\"-9181448698224066163.args[0]\"]\n\t-6111235855211480769 [label=\"Abstraction.create\" id=-7660677309244214554]\n\t-6111235855211480769 -> -1705905533886788551 [id=\"-7660677309244214554.args[0]\"]\n\t-1705905533886788551 [label=\"Abstraction.create_variable\" id=-1705905533886788551]\n\t-1705905533886788551 -> -8441167327920353038 [id=\"-1705905533886788551.args[0]\"]\n\t-8441167327920353038 [label=\"Variable(4532349752)\" id=-8441167327920353038]\n\t-6111235855211480769 -> 5001873403081188039 [id=\"-7660677309244214554.args[1]\"]\n\t5001873403081188039 [label=\"Maybe.just\" id=5001873403081188039]\n\t5001873403081188039 -> -1705905533886788551 [id=\"5001873403081188039.args[0]\"]\n\t853586745109798487 -> 2861773729804927232 [id=\"-9181448698224066163.args[1]\"]\n\t2861773729804927232 [label=\"Abstraction.create\" id=2861773729804927232]\n\t2861773729804927232 -> 1059062756968867836 [id=\"2861773729804927232.args[0]\"]\n\t1059062756968867836 [label=\"Abstraction.create_variable\" id=1059062756968867836]\n\t1059062756968867836 -> -8441167380741077888 [id=\"1059062756968867836.args[0]\"]\n\t-8441167380741077888 [label=\"Variable(4532601240)\" id=-8441167380741077888]\n\t2861773729804927232 -> -5394518138794402984 [id=\"2861773729804927232.args[1]\"]\n\t-5394518138794402984 [label=\"Either.left\" id=-5394518138794402984]\n\t-5394518138794402984 -> 1059062756968867836 [id=\"-5394518138794402984.args[0]\"]\n\t8315901269190522822 -> -1448899694609174123 [id=\"-1927693558332765614.args[1]\"]\n\t-1448899694609174123 [label=\"Integer.from_int\" id=-1448899694609174123]\n\t-1448899694609174123 -> 7929563447330875300 [id=\"-1448899694609174123.args[0]\"]\n\t7929563447330875300 [label=5 id=8368899336284295099]\n\t7241302157445506915 -> -5874662002019313860 [id=\"7168750140140484019.args[1]\"]\n\t-5874662002019313860 [label=\"Maybe.match\" id=-6822852619997036823]\n\t-5874662002019313860 -> 7195713575237942534 [id=\"-6822852619997036823.args[0]\"]\n\t7195713575237942534 [label=\"Converter.convert\" id=7195713575237942534]\n\t7195713575237942534 -> 7929563447330875300 [id=\"7195713575237942534.args[0]\"]\n\t-5874662002019313860 -> -754019181540390696 [id=\"-6822852619997036823.args[1]\"]\n\t-754019181540390696 [label=\"Maybe.nothing\" id=-754019181540390696]\n\t-5874662002019313860 -> -54078915593045179 [id=\"-6822852619997036823.args[2]\"]\n\t-54078915593045179 [label=\"Abstraction.__add__\" id=-8334591979778177377]\n\t-54078915593045179 -> -6111235855211480769 [id=\"-8334591979778177377.args[0]\"]\n\t-54078915593045179 -> 1648329418498538327 [id=\"-8334591979778177377.args[1]\"]\n\t1648329418498538327 [label=\"Abstraction.create\" id=1648329418498538327]\n\t1648329418498538327 -> -5788305488585017870 [id=\"1648329418498538327.args[0]\"]\n\t-5788305488585017870 [label=\"Abstraction.create_variable\" id=-5788305488585017870]\n\t-5788305488585017870 -> 782204642417591620 [id=\"-5788305488585017870.args[0]\"]\n\t782204642417591620 [label=\"Variable(4532545744)\" id=782204642417591620]\n\t1648329418498538327 -> 5276140271914404268 [id=\"1648329418498538327.args[1]\"]\n\t5276140271914404268 [label=\"Either.right\" id=5276140271914404268]\n\t5276140271914404268 -> -5788305488585017870 [id=\"5276140271914404268.args[0]\"]\n\t6220958238760007611 -> 3904670649235592956 [id=\"-2178932975760294384.args[1]\"]\n\t3904670649235592956 [label=\"Maybe.nothing\" id=3904670649235592956]\n\t6220958238760007611 -> 1124171096562325806 [id=\"-2178932975760294384.args[2]\"]\n\t1124171096562325806 [label=\"Abstraction.__add__\" id=7023613846905740443]\n\t1124171096562325806 -> 7210536553855986561 [id=\"7023613846905740443.args[0]\"]\n\t1124171096562325806 -> -9118015370219560904 [id=\"7023613846905740443.args[1]\"]\n\t-9118015370219560904 [label=\"Abstraction.create\" id=-9118015370219560904]\n\t-9118015370219560904 -> -1567811318780057522 [id=\"-9118015370219560904.args[0]\"]\n\t-1567811318780057522 [label=\"Abstraction.create_variable\" id=-1567811318780057522]\n\t-1567811318780057522 -> 782204655928586145 [id=\"-1567811318780057522.args[0]\"]\n\t782204655928586145 [label=\"Variable(4532614368)\" id=782204655928586145]\n\t-9118015370219560904 -> 2264477634205654134 [id=\"-9118015370219560904.args[1]\"]\n\t2264477634205654134 [label=\"NDArray.__getitem__\" id=2264477634205654134]\n\t2264477634205654134 -> 6869289972660339569 [id=\"2264477634205654134.args[0]\"]\n\t6869289972660339569 [label=\"Pair.left\" id=6869289972660339569]\n\t6869289972660339569 -> -1567811318780057522 [id=\"6869289972660339569.args[0]\"]\n\t2264477634205654134 -> -5066980431023388391 [id=\"2264477634205654134.args[1]\"]\n\t-5066980431023388391 [label=\"Pair.right\" id=-5066980431023388391]\n\t-5066980431023388391 -> -1567811318780057522 [id=\"-5066980431023388391.args[0]\"]\n}",
         "label": null,
         "rule": "metadsl_core.abstraction.Abstraction.from_fn"
        },
        {
         "graph": "digraph {\n\tnode [shape=plain]\n\tedge [arrowsize=0.5 penwidth=0.5]\n\t3125821275735179278 [label=\"NDArrayCompat.to_ndarray\" id=-5281961658848897139]\n\t3125821275735179278 -> -724992619004743543 [id=\"-5281961658848897139.args[0]\"]\n\t-724992619004743543 [label=\"NDArrayCompat.from_ndarray\" id=-9177130969686516551]\n\t-724992619004743543 -> 8150279795932060320 [id=\"-9177130969686516551.args[0]\"]\n\t8150279795932060320 [label=\"Maybe.match\" id=-2178932975760294384]\n\t8150279795932060320 -> 1947658605703421602 [id=\"-2178932975760294384.args[0]\"]\n\t1947658605703421602 [label=\"Maybe.__and__\" id=5105228348163832661]\n\t1947658605703421602 -> 6034370012444041160 [id=\"5105228348163832661.args[0]\"]\n\t6034370012444041160 [label=\"Converter.convert\" id=3738807663539962808]\n\t6034370012444041160 -> -4956525522698191664 [id=\"3738807663539962808.args[0]\"]\n\t-4956525522698191664 [label=\"NDArrayCompat.__add__\" id=-5928052358113968640]\n\t-4956525522698191664 -> -7831860903262410409 [id=\"-5928052358113968640.args[0]\"]\n\t-7831860903262410409 [label=\"NDArrayCompat.from_ndarray\" id=-2224020701084858300]\n\t-7831860903262410409 -> 4456604564882372220 [id=\"-2224020701084858300.args[0]\"]\n\t4456604564882372220 [label=\"Abstraction.__call__\" id=-6880367450692664388]\n\t4456604564882372220 -> -3815901700388079820 [id=\"-6880367450692664388.args[0]\"]\n\t-3815901700388079820 [label=\"Abstraction.__add__\" id=7417534677030413501]\n\t-3815901700388079820 -> 7210536553855986561 [id=\"7417534677030413501.args[0]\"]\n\t7210536553855986561 [label=\"Abstraction.create\" id=-7293254293253925776]\n\t7210536553855986561 -> 6102774012109720231 [id=\"-7293254293253925776.args[0]\"]\n\t6102774012109720231 [label=\"Abstraction.create_variable\" id=6102774012109720231]\n\t6102774012109720231 -> -8441167376553871188 [id=\"6102774012109720231.args[0]\"]\n\t-8441167376553871188 [label=\"Variable(4532810584)\" id=-8441167376553871188]\n\t7210536553855986561 -> 1379772526540993227 [id=\"-7293254293253925776.args[1]\"]\n\t1379772526540993227 [label=\"Maybe.just\" id=1379772526540993227]\n\t1379772526540993227 -> 6102774012109720231 [id=\"1379772526540993227.args[0]\"]\n\t-3815901700388079820 -> -8952102342635871110 [id=\"7417534677030413501.args[1]\"]\n\t-8952102342635871110 [label=\"Abstraction.create\" id=-8952102342635871110]\n\t-8952102342635871110 -> -1852894578847174519 [id=\"-8952102342635871110.args[0]\"]\n\t-1852894578847174519 [label=\"Abstraction.create_variable\" id=-1852894578847174519]\n\t-1852894578847174519 -> 782204650207441520 [id=\"-1852894578847174519.args[0]\"]\n\t782204650207441520 [label=\"Variable(4532693648)\" id=782204650207441520]\n\t-8952102342635871110 -> 3306699016847434562 [id=\"-8952102342635871110.args[1]\"]\n\t3306699016847434562 [label=arange_ id=3306699016847434562]\n\t3306699016847434562 -> -1852894578847174519 [id=\"3306699016847434562.args[0]\"]\n\t4456604564882372220 -> -3131809300698277100 [id=\"-6880367450692664388.args[1]\"]\n\t-3131809300698277100 [label=\"Integer.from_int\" id=-3131809300698277100]\n\t-3131809300698277100 -> 7929563447225870375 [id=\"-3131809300698277100.args[0]\"]\n\t7929563447225870375 [label=100 id=6695801540915528909]\n\t-4956525522698191664 -> -3880724937729080699 [id=\"-5928052358113968640.args[1]\"]\n\t-3880724937729080699 [label=\"NDArrayCompat.from_ndarray\" id=-5073117767081961703]\n\t-3880724937729080699 -> -1561121444444975497 [id=\"-5073117767081961703.args[0]\"]\n\t-1561121444444975497 [label=\"Abstraction.__call__\" id=1501117769350601043]\n\t-1561121444444975497 -> 4344538302833644691 [id=\"1501117769350601043.args[0]\"]\n\t4344538302833644691 [label=\"Abstraction.__add__\" id=4344538302833644691]\n\t4344538302833644691 -> 3748779951611522878 [id=\"4344538302833644691.args[0]\"]\n\t3748779951611522878 [label=\"Abstraction.create\" id=3748779951611522878]\n\t3748779951611522878 -> 7164926897100554226 [id=\"3748779951611522878.args[0]\"]\n\t7164926897100554226 [label=\"Abstraction.create_variable\" id=7164926897100554226]\n\t7164926897100554226 -> -8441167325273579413 [id=\"7164926897100554226.args[0]\"]\n\t-8441167325273579413 [label=\"Variable(4532371976)\" id=-8441167325273579413]\n\t3748779951611522878 -> 8362505944321486831 [id=\"3748779951611522878.args[1]\"]\n\t8362505944321486831 [label=\"Maybe.just\" id=8362505944321486831]\n\t8362505944321486831 -> 7164926897100554226 [id=\"8362505944321486831.args[0]\"]\n\t4344538302833644691 -> -8952102342635871110 [id=\"4344538302833644691.args[1]\"]\n\t-1561121444444975497 -> -3131809300698277100 [id=\"1501117769350601043.args[1]\"]\n\t1947658605703421602 -> 7241302157445506915 [id=\"5105228348163832661.args[1]\"]\n\t7241302157445506915 [label=\"Maybe.__or__\" id=7168750140140484019]\n\t7241302157445506915 -> 8315901269190522822 [id=\"7168750140140484019.args[0]\"]\n\t8315901269190522822 [label=\"Abstraction.__call__\" id=-1927693558332765614]\n\t8315901269190522822 -> 853586745109798487 [id=\"-1927693558332765614.args[0]\"]\n\t853586745109798487 [label=\"Abstraction.__add__\" id=-9181448698224066163]\n\t853586745109798487 -> -6111235855211480769 [id=\"-9181448698224066163.args[0]\"]\n\t-6111235855211480769 [label=\"Abstraction.create\" id=-7660677309244214554]\n\t-6111235855211480769 -> -1705905533886788551 [id=\"-7660677309244214554.args[0]\"]\n\t-1705905533886788551 [label=\"Abstraction.create_variable\" id=-1705905533886788551]\n\t-1705905533886788551 -> -8441167327920353038 [id=\"-1705905533886788551.args[0]\"]\n\t-8441167327920353038 [label=\"Variable(4532349752)\" id=-8441167327920353038]\n\t-6111235855211480769 -> 5001873403081188039 [id=\"-7660677309244214554.args[1]\"]\n\t5001873403081188039 [label=\"Maybe.just\" id=5001873403081188039]\n\t5001873403081188039 -> -1705905533886788551 [id=\"5001873403081188039.args[0]\"]\n\t853586745109798487 -> 2861773729804927232 [id=\"-9181448698224066163.args[1]\"]\n\t2861773729804927232 [label=\"Abstraction.create\" id=2861773729804927232]\n\t2861773729804927232 -> 1059062756968867836 [id=\"2861773729804927232.args[0]\"]\n\t1059062756968867836 [label=\"Abstraction.create_variable\" id=1059062756968867836]\n\t1059062756968867836 -> -8441167380741077888 [id=\"1059062756968867836.args[0]\"]\n\t-8441167380741077888 [label=\"Variable(4532601240)\" id=-8441167380741077888]\n\t2861773729804927232 -> -5394518138794402984 [id=\"2861773729804927232.args[1]\"]\n\t-5394518138794402984 [label=\"Either.left\" id=-5394518138794402984]\n\t-5394518138794402984 -> 1059062756968867836 [id=\"-5394518138794402984.args[0]\"]\n\t8315901269190522822 -> -1448899694609174123 [id=\"-1927693558332765614.args[1]\"]\n\t-1448899694609174123 [label=\"Integer.from_int\" id=-1448899694609174123]\n\t-1448899694609174123 -> 7929563447330875300 [id=\"-1448899694609174123.args[0]\"]\n\t7929563447330875300 [label=5 id=8368899336284295099]\n\t7241302157445506915 -> -5874662002019313860 [id=\"7168750140140484019.args[1]\"]\n\t-5874662002019313860 [label=\"Maybe.match\" id=-6822852619997036823]\n\t-5874662002019313860 -> 7195713575237942534 [id=\"-6822852619997036823.args[0]\"]\n\t7195713575237942534 [label=\"Converter.convert\" id=7195713575237942534]\n\t7195713575237942534 -> 7929563447330875300 [id=\"7195713575237942534.args[0]\"]\n\t-5874662002019313860 -> -754019181540390696 [id=\"-6822852619997036823.args[1]\"]\n\t-754019181540390696 [label=\"Maybe.nothing\" id=-754019181540390696]\n\t-5874662002019313860 -> -54078915593045179 [id=\"-6822852619997036823.args[2]\"]\n\t-54078915593045179 [label=\"Abstraction.__add__\" id=-8334591979778177377]\n\t-54078915593045179 -> -6111235855211480769 [id=\"-8334591979778177377.args[0]\"]\n\t-54078915593045179 -> 1648329418498538327 [id=\"-8334591979778177377.args[1]\"]\n\t1648329418498538327 [label=\"Abstraction.create\" id=1648329418498538327]\n\t1648329418498538327 -> -5788305488585017870 [id=\"1648329418498538327.args[0]\"]\n\t-5788305488585017870 [label=\"Abstraction.create_variable\" id=-5788305488585017870]\n\t-5788305488585017870 -> 782204642417591620 [id=\"-5788305488585017870.args[0]\"]\n\t782204642417591620 [label=\"Variable(4532545744)\" id=782204642417591620]\n\t1648329418498538327 -> 5276140271914404268 [id=\"1648329418498538327.args[1]\"]\n\t5276140271914404268 [label=\"Either.right\" id=5276140271914404268]\n\t5276140271914404268 -> -5788305488585017870 [id=\"5276140271914404268.args[0]\"]\n\t8150279795932060320 -> 3904670649235592956 [id=\"-2178932975760294384.args[1]\"]\n\t3904670649235592956 [label=\"Maybe.nothing\" id=3904670649235592956]\n\t8150279795932060320 -> 1124171096562325806 [id=\"-2178932975760294384.args[2]\"]\n\t1124171096562325806 [label=\"Abstraction.__add__\" id=7023613846905740443]\n\t1124171096562325806 -> 7210536553855986561 [id=\"7023613846905740443.args[0]\"]\n\t1124171096562325806 -> -9118015370219560904 [id=\"7023613846905740443.args[1]\"]\n\t-9118015370219560904 [label=\"Abstraction.create\" id=-9118015370219560904]\n\t-9118015370219560904 -> -1567811318780057522 [id=\"-9118015370219560904.args[0]\"]\n\t-1567811318780057522 [label=\"Abstraction.create_variable\" id=-1567811318780057522]\n\t-1567811318780057522 -> 782204655928586145 [id=\"-1567811318780057522.args[0]\"]\n\t782204655928586145 [label=\"Variable(4532614368)\" id=782204655928586145]\n\t-9118015370219560904 -> 2264477634205654134 [id=\"-9118015370219560904.args[1]\"]\n\t2264477634205654134 [label=\"NDArray.__getitem__\" id=2264477634205654134]\n\t2264477634205654134 -> 6869289972660339569 [id=\"2264477634205654134.args[0]\"]\n\t6869289972660339569 [label=\"Pair.left\" id=6869289972660339569]\n\t6869289972660339569 -> -1567811318780057522 [id=\"6869289972660339569.args[0]\"]\n\t2264477634205654134 -> -5066980431023388391 [id=\"2264477634205654134.args[1]\"]\n\t-5066980431023388391 [label=\"Pair.right\" id=-5066980431023388391]\n\t-5066980431023388391 -> -1567811318780057522 [id=\"-5066980431023388391.args[0]\"]\n}",
         "label": null,
         "rule": "metadsl_core.abstraction.Abstraction.from_fn"
        },
        {
         "graph": "digraph {\n\tnode [shape=plain]\n\tedge [arrowsize=0.5 penwidth=0.5]\n\t-8030635618025669199 [label=\"NDArrayCompat.to_ndarray\" id=-5281961658848897139]\n\t-8030635618025669199 -> -5002271024861607396 [id=\"-5281961658848897139.args[0]\"]\n\t-5002271024861607396 [label=\"NDArrayCompat.from_ndarray\" id=-9177130969686516551]\n\t-5002271024861607396 -> -5638063581971655788 [id=\"-9177130969686516551.args[0]\"]\n\t-5638063581971655788 [label=\"Maybe.match\" id=-2178932975760294384]\n\t-5638063581971655788 -> 1947658605703421602 [id=\"-2178932975760294384.args[0]\"]\n\t1947658605703421602 [label=\"Maybe.__and__\" id=5105228348163832661]\n\t1947658605703421602 -> 6034370012444041160 [id=\"5105228348163832661.args[0]\"]\n\t6034370012444041160 [label=\"Converter.convert\" id=3738807663539962808]\n\t6034370012444041160 -> -4956525522698191664 [id=\"3738807663539962808.args[0]\"]\n\t-4956525522698191664 [label=\"NDArrayCompat.__add__\" id=-5928052358113968640]\n\t-4956525522698191664 -> -7831860903262410409 [id=\"-5928052358113968640.args[0]\"]\n\t-7831860903262410409 [label=\"NDArrayCompat.from_ndarray\" id=-2224020701084858300]\n\t-7831860903262410409 -> 4456604564882372220 [id=\"-2224020701084858300.args[0]\"]\n\t4456604564882372220 [label=\"Abstraction.__call__\" id=-6880367450692664388]\n\t4456604564882372220 -> -3815901700388079820 [id=\"-6880367450692664388.args[0]\"]\n\t-3815901700388079820 [label=\"Abstraction.__add__\" id=7417534677030413501]\n\t-3815901700388079820 -> 7210536553855986561 [id=\"7417534677030413501.args[0]\"]\n\t7210536553855986561 [label=\"Abstraction.create\" id=-7293254293253925776]\n\t7210536553855986561 -> 6102774012109720231 [id=\"-7293254293253925776.args[0]\"]\n\t6102774012109720231 [label=\"Abstraction.create_variable\" id=6102774012109720231]\n\t6102774012109720231 -> -8441167376553871188 [id=\"6102774012109720231.args[0]\"]\n\t-8441167376553871188 [label=\"Variable(4532810584)\" id=-8441167376553871188]\n\t7210536553855986561 -> 1379772526540993227 [id=\"-7293254293253925776.args[1]\"]\n\t1379772526540993227 [label=\"Maybe.just\" id=1379772526540993227]\n\t1379772526540993227 -> 6102774012109720231 [id=\"1379772526540993227.args[0]\"]\n\t-3815901700388079820 -> -8952102342635871110 [id=\"7417534677030413501.args[1]\"]\n\t-8952102342635871110 [label=\"Abstraction.create\" id=-8952102342635871110]\n\t-8952102342635871110 -> -1852894578847174519 [id=\"-8952102342635871110.args[0]\"]\n\t-1852894578847174519 [label=\"Abstraction.create_variable\" id=-1852894578847174519]\n\t-1852894578847174519 -> 782204650207441520 [id=\"-1852894578847174519.args[0]\"]\n\t782204650207441520 [label=\"Variable(4532693648)\" id=782204650207441520]\n\t-8952102342635871110 -> 3306699016847434562 [id=\"-8952102342635871110.args[1]\"]\n\t3306699016847434562 [label=arange_ id=3306699016847434562]\n\t3306699016847434562 -> -1852894578847174519 [id=\"3306699016847434562.args[0]\"]\n\t4456604564882372220 -> -3131809300698277100 [id=\"-6880367450692664388.args[1]\"]\n\t-3131809300698277100 [label=\"Integer.from_int\" id=-3131809300698277100]\n\t-3131809300698277100 -> 7929563447225870375 [id=\"-3131809300698277100.args[0]\"]\n\t7929563447225870375 [label=100 id=6695801540915528909]\n\t-4956525522698191664 -> -3880724937729080699 [id=\"-5928052358113968640.args[1]\"]\n\t-3880724937729080699 [label=\"NDArrayCompat.from_ndarray\" id=-5073117767081961703]\n\t-3880724937729080699 -> -1561121444444975497 [id=\"-5073117767081961703.args[0]\"]\n\t-1561121444444975497 [label=\"Abstraction.__call__\" id=1501117769350601043]\n\t-1561121444444975497 -> 4344538302833644691 [id=\"1501117769350601043.args[0]\"]\n\t4344538302833644691 [label=\"Abstraction.__add__\" id=4344538302833644691]\n\t4344538302833644691 -> 3748779951611522878 [id=\"4344538302833644691.args[0]\"]\n\t3748779951611522878 [label=\"Abstraction.create\" id=3748779951611522878]\n\t3748779951611522878 -> 7164926897100554226 [id=\"3748779951611522878.args[0]\"]\n\t7164926897100554226 [label=\"Abstraction.create_variable\" id=7164926897100554226]\n\t7164926897100554226 -> -8441167325273579413 [id=\"7164926897100554226.args[0]\"]\n\t-8441167325273579413 [label=\"Variable(4532371976)\" id=-8441167325273579413]\n\t3748779951611522878 -> 8362505944321486831 [id=\"3748779951611522878.args[1]\"]\n\t8362505944321486831 [label=\"Maybe.just\" id=8362505944321486831]\n\t8362505944321486831 -> 7164926897100554226 [id=\"8362505944321486831.args[0]\"]\n\t4344538302833644691 -> -8952102342635871110 [id=\"4344538302833644691.args[1]\"]\n\t-1561121444444975497 -> -3131809300698277100 [id=\"1501117769350601043.args[1]\"]\n\t1947658605703421602 -> 7241302157445506915 [id=\"5105228348163832661.args[1]\"]\n\t7241302157445506915 [label=\"Maybe.__or__\" id=7168750140140484019]\n\t7241302157445506915 -> 8315901269190522822 [id=\"7168750140140484019.args[0]\"]\n\t8315901269190522822 [label=\"Abstraction.__call__\" id=-1927693558332765614]\n\t8315901269190522822 -> 853586745109798487 [id=\"-1927693558332765614.args[0]\"]\n\t853586745109798487 [label=\"Abstraction.__add__\" id=-9181448698224066163]\n\t853586745109798487 -> -6111235855211480769 [id=\"-9181448698224066163.args[0]\"]\n\t-6111235855211480769 [label=\"Abstraction.create\" id=-7660677309244214554]\n\t-6111235855211480769 -> -1705905533886788551 [id=\"-7660677309244214554.args[0]\"]\n\t-1705905533886788551 [label=\"Abstraction.create_variable\" id=-1705905533886788551]\n\t-1705905533886788551 -> -8441167327920353038 [id=\"-1705905533886788551.args[0]\"]\n\t-8441167327920353038 [label=\"Variable(4532349752)\" id=-8441167327920353038]\n\t-6111235855211480769 -> 5001873403081188039 [id=\"-7660677309244214554.args[1]\"]\n\t5001873403081188039 [label=\"Maybe.just\" id=5001873403081188039]\n\t5001873403081188039 -> -1705905533886788551 [id=\"5001873403081188039.args[0]\"]\n\t853586745109798487 -> 2861773729804927232 [id=\"-9181448698224066163.args[1]\"]\n\t2861773729804927232 [label=\"Abstraction.create\" id=2861773729804927232]\n\t2861773729804927232 -> 1059062756968867836 [id=\"2861773729804927232.args[0]\"]\n\t1059062756968867836 [label=\"Abstraction.create_variable\" id=1059062756968867836]\n\t1059062756968867836 -> -8441167380741077888 [id=\"1059062756968867836.args[0]\"]\n\t-8441167380741077888 [label=\"Variable(4532601240)\" id=-8441167380741077888]\n\t2861773729804927232 -> -5394518138794402984 [id=\"2861773729804927232.args[1]\"]\n\t-5394518138794402984 [label=\"Either.left\" id=-5394518138794402984]\n\t-5394518138794402984 -> 1059062756968867836 [id=\"-5394518138794402984.args[0]\"]\n\t8315901269190522822 -> -1448899694609174123 [id=\"-1927693558332765614.args[1]\"]\n\t-1448899694609174123 [label=\"Integer.from_int\" id=-1448899694609174123]\n\t-1448899694609174123 -> 7929563447330875300 [id=\"-1448899694609174123.args[0]\"]\n\t7929563447330875300 [label=5 id=8368899336284295099]\n\t7241302157445506915 -> -5874662002019313860 [id=\"7168750140140484019.args[1]\"]\n\t-5874662002019313860 [label=\"Maybe.match\" id=-6822852619997036823]\n\t-5874662002019313860 -> 7195713575237942534 [id=\"-6822852619997036823.args[0]\"]\n\t7195713575237942534 [label=\"Converter.convert\" id=7195713575237942534]\n\t7195713575237942534 -> 7929563447330875300 [id=\"7195713575237942534.args[0]\"]\n\t-5874662002019313860 -> -754019181540390696 [id=\"-6822852619997036823.args[1]\"]\n\t-754019181540390696 [label=\"Maybe.nothing\" id=-754019181540390696]\n\t-5874662002019313860 -> -54078915593045179 [id=\"-6822852619997036823.args[2]\"]\n\t-54078915593045179 [label=\"Abstraction.__add__\" id=-8334591979778177377]\n\t-54078915593045179 -> -6111235855211480769 [id=\"-8334591979778177377.args[0]\"]\n\t-54078915593045179 -> 1648329418498538327 [id=\"-8334591979778177377.args[1]\"]\n\t1648329418498538327 [label=\"Abstraction.create\" id=1648329418498538327]\n\t1648329418498538327 -> -5788305488585017870 [id=\"1648329418498538327.args[0]\"]\n\t-5788305488585017870 [label=\"Abstraction.create_variable\" id=-5788305488585017870]\n\t-5788305488585017870 -> 782204642417591620 [id=\"-5788305488585017870.args[0]\"]\n\t782204642417591620 [label=\"Variable(4532545744)\" id=782204642417591620]\n\t1648329418498538327 -> 5276140271914404268 [id=\"1648329418498538327.args[1]\"]\n\t5276140271914404268 [label=\"Either.right\" id=5276140271914404268]\n\t5276140271914404268 -> -5788305488585017870 [id=\"5276140271914404268.args[0]\"]\n\t-5638063581971655788 -> 3904670649235592956 [id=\"-2178932975760294384.args[1]\"]\n\t3904670649235592956 [label=\"Maybe.nothing\" id=3904670649235592956]\n\t-5638063581971655788 -> -979998564141937302 [id=\"-2178932975760294384.args[2]\"]\n\t-979998564141937302 [label=\"Abstraction.create\" id=-979998564141937302]\n\t-979998564141937302 -> -1567811318780057522 [id=\"-979998564141937302.args[0]\"]\n\t-1567811318780057522 [label=\"Abstraction.create_variable\" id=-1567811318780057522]\n\t-1567811318780057522 -> 782204655928586145 [id=\"-1567811318780057522.args[0]\"]\n\t782204655928586145 [label=\"Variable(4532614368)\" id=782204655928586145]\n\t-979998564141937302 -> -4655842278390333752 [id=\"-979998564141937302.args[1]\"]\n\t-4655842278390333752 [label=\"Maybe.just\" id=-4655842278390333752]\n\t-4655842278390333752 -> 2264477634205654134 [id=\"-4655842278390333752.args[0]\"]\n\t2264477634205654134 [label=\"NDArray.__getitem__\" id=2264477634205654134]\n\t2264477634205654134 -> 6869289972660339569 [id=\"2264477634205654134.args[0]\"]\n\t6869289972660339569 [label=\"Pair.left\" id=6869289972660339569]\n\t6869289972660339569 -> -1567811318780057522 [id=\"6869289972660339569.args[0]\"]\n\t2264477634205654134 -> -5066980431023388391 [id=\"2264477634205654134.args[1]\"]\n\t-5066980431023388391 [label=\"Pair.right\" id=-5066980431023388391]\n\t-5066980431023388391 -> -1567811318780057522 [id=\"-5066980431023388391.args[0]\"]\n}",
         "label": null,
         "rule": "metadsl_core.abstraction.compose"
        },
        {
         "graph": "digraph {\n\tnode [shape=plain]\n\tedge [arrowsize=0.5 penwidth=0.5]\n\t2855355018387612803 [label=\"NDArrayCompat.to_ndarray\" id=-5281961658848897139]\n\t2855355018387612803 -> 264614723978702256 [id=\"-5281961658848897139.args[0]\"]\n\t264614723978702256 [label=\"NDArrayCompat.from_ndarray\" id=-9177130969686516551]\n\t264614723978702256 -> 3216736406715560061 [id=\"-9177130969686516551.args[0]\"]\n\t3216736406715560061 [label=\"Maybe.match\" id=-2178932975760294384]\n\t3216736406715560061 -> -8691273077242567196 [id=\"-2178932975760294384.args[0]\"]\n\t-8691273077242567196 [label=\"Maybe.__and__\" id=5105228348163832661]\n\t-8691273077242567196 -> 6034370012444041160 [id=\"5105228348163832661.args[0]\"]\n\t6034370012444041160 [label=\"Converter.convert\" id=3738807663539962808]\n\t6034370012444041160 -> -4956525522698191664 [id=\"3738807663539962808.args[0]\"]\n\t-4956525522698191664 [label=\"NDArrayCompat.__add__\" id=-5928052358113968640]\n\t-4956525522698191664 -> -7831860903262410409 [id=\"-5928052358113968640.args[0]\"]\n\t-7831860903262410409 [label=\"NDArrayCompat.from_ndarray\" id=-2224020701084858300]\n\t-7831860903262410409 -> 4456604564882372220 [id=\"-2224020701084858300.args[0]\"]\n\t4456604564882372220 [label=\"Abstraction.__call__\" id=-6880367450692664388]\n\t4456604564882372220 -> -3815901700388079820 [id=\"-6880367450692664388.args[0]\"]\n\t-3815901700388079820 [label=\"Abstraction.__add__\" id=7417534677030413501]\n\t-3815901700388079820 -> 7210536553855986561 [id=\"7417534677030413501.args[0]\"]\n\t7210536553855986561 [label=\"Abstraction.create\" id=-7293254293253925776]\n\t7210536553855986561 -> 6102774012109720231 [id=\"-7293254293253925776.args[0]\"]\n\t6102774012109720231 [label=\"Abstraction.create_variable\" id=6102774012109720231]\n\t6102774012109720231 -> -8441167376553871188 [id=\"6102774012109720231.args[0]\"]\n\t-8441167376553871188 [label=\"Variable(4532810584)\" id=-8441167376553871188]\n\t7210536553855986561 -> 1379772526540993227 [id=\"-7293254293253925776.args[1]\"]\n\t1379772526540993227 [label=\"Maybe.just\" id=1379772526540993227]\n\t1379772526540993227 -> 6102774012109720231 [id=\"1379772526540993227.args[0]\"]\n\t-3815901700388079820 -> -8952102342635871110 [id=\"7417534677030413501.args[1]\"]\n\t-8952102342635871110 [label=\"Abstraction.create\" id=-8952102342635871110]\n\t-8952102342635871110 -> -1852894578847174519 [id=\"-8952102342635871110.args[0]\"]\n\t-1852894578847174519 [label=\"Abstraction.create_variable\" id=-1852894578847174519]\n\t-1852894578847174519 -> 782204650207441520 [id=\"-1852894578847174519.args[0]\"]\n\t782204650207441520 [label=\"Variable(4532693648)\" id=782204650207441520]\n\t-8952102342635871110 -> 3306699016847434562 [id=\"-8952102342635871110.args[1]\"]\n\t3306699016847434562 [label=arange_ id=3306699016847434562]\n\t3306699016847434562 -> -1852894578847174519 [id=\"3306699016847434562.args[0]\"]\n\t4456604564882372220 -> -3131809300698277100 [id=\"-6880367450692664388.args[1]\"]\n\t-3131809300698277100 [label=\"Integer.from_int\" id=-3131809300698277100]\n\t-3131809300698277100 -> 7929563447225870375 [id=\"-3131809300698277100.args[0]\"]\n\t7929563447225870375 [label=100 id=6695801540915528909]\n\t-4956525522698191664 -> -3880724937729080699 [id=\"-5928052358113968640.args[1]\"]\n\t-3880724937729080699 [label=\"NDArrayCompat.from_ndarray\" id=-5073117767081961703]\n\t-3880724937729080699 -> -1561121444444975497 [id=\"-5073117767081961703.args[0]\"]\n\t-1561121444444975497 [label=\"Abstraction.__call__\" id=1501117769350601043]\n\t-1561121444444975497 -> 4344538302833644691 [id=\"1501117769350601043.args[0]\"]\n\t4344538302833644691 [label=\"Abstraction.__add__\" id=4344538302833644691]\n\t4344538302833644691 -> 3748779951611522878 [id=\"4344538302833644691.args[0]\"]\n\t3748779951611522878 [label=\"Abstraction.create\" id=3748779951611522878]\n\t3748779951611522878 -> 7164926897100554226 [id=\"3748779951611522878.args[0]\"]\n\t7164926897100554226 [label=\"Abstraction.create_variable\" id=7164926897100554226]\n\t7164926897100554226 -> -8441167325273579413 [id=\"7164926897100554226.args[0]\"]\n\t-8441167325273579413 [label=\"Variable(4532371976)\" id=-8441167325273579413]\n\t3748779951611522878 -> 8362505944321486831 [id=\"3748779951611522878.args[1]\"]\n\t8362505944321486831 [label=\"Maybe.just\" id=8362505944321486831]\n\t8362505944321486831 -> 7164926897100554226 [id=\"8362505944321486831.args[0]\"]\n\t4344538302833644691 -> -8952102342635871110 [id=\"4344538302833644691.args[1]\"]\n\t-1561121444444975497 -> -3131809300698277100 [id=\"1501117769350601043.args[1]\"]\n\t-8691273077242567196 -> 8821978150029802049 [id=\"5105228348163832661.args[1]\"]\n\t8821978150029802049 [label=\"Maybe.__or__\" id=7168750140140484019]\n\t8821978150029802049 -> 8315901269190522822 [id=\"7168750140140484019.args[0]\"]\n\t8315901269190522822 [label=\"Abstraction.__call__\" id=-1927693558332765614]\n\t8315901269190522822 -> 853586745109798487 [id=\"-1927693558332765614.args[0]\"]\n\t853586745109798487 [label=\"Abstraction.__add__\" id=-9181448698224066163]\n\t853586745109798487 -> -6111235855211480769 [id=\"-9181448698224066163.args[0]\"]\n\t-6111235855211480769 [label=\"Abstraction.create\" id=-7660677309244214554]\n\t-6111235855211480769 -> -1705905533886788551 [id=\"-7660677309244214554.args[0]\"]\n\t-1705905533886788551 [label=\"Abstraction.create_variable\" id=-1705905533886788551]\n\t-1705905533886788551 -> -8441167327920353038 [id=\"-1705905533886788551.args[0]\"]\n\t-8441167327920353038 [label=\"Variable(4532349752)\" id=-8441167327920353038]\n\t-6111235855211480769 -> 5001873403081188039 [id=\"-7660677309244214554.args[1]\"]\n\t5001873403081188039 [label=\"Maybe.just\" id=5001873403081188039]\n\t5001873403081188039 -> -1705905533886788551 [id=\"5001873403081188039.args[0]\"]\n\t853586745109798487 -> 2861773729804927232 [id=\"-9181448698224066163.args[1]\"]\n\t2861773729804927232 [label=\"Abstraction.create\" id=2861773729804927232]\n\t2861773729804927232 -> 1059062756968867836 [id=\"2861773729804927232.args[0]\"]\n\t1059062756968867836 [label=\"Abstraction.create_variable\" id=1059062756968867836]\n\t1059062756968867836 -> -8441167380741077888 [id=\"1059062756968867836.args[0]\"]\n\t-8441167380741077888 [label=\"Variable(4532601240)\" id=-8441167380741077888]\n\t2861773729804927232 -> -5394518138794402984 [id=\"2861773729804927232.args[1]\"]\n\t-5394518138794402984 [label=\"Either.left\" id=-5394518138794402984]\n\t-5394518138794402984 -> 1059062756968867836 [id=\"-5394518138794402984.args[0]\"]\n\t8315901269190522822 -> -1448899694609174123 [id=\"-1927693558332765614.args[1]\"]\n\t-1448899694609174123 [label=\"Integer.from_int\" id=-1448899694609174123]\n\t-1448899694609174123 -> 7929563447330875300 [id=\"-1448899694609174123.args[0]\"]\n\t7929563447330875300 [label=5 id=8368899336284295099]\n\t8821978150029802049 -> -7620949637964638205 [id=\"7168750140140484019.args[1]\"]\n\t-7620949637964638205 [label=\"Maybe.match\" id=-6822852619997036823]\n\t-7620949637964638205 -> 7195713575237942534 [id=\"-6822852619997036823.args[0]\"]\n\t7195713575237942534 [label=\"Converter.convert\" id=7195713575237942534]\n\t7195713575237942534 -> 7929563447330875300 [id=\"7195713575237942534.args[0]\"]\n\t-7620949637964638205 -> -754019181540390696 [id=\"-6822852619997036823.args[1]\"]\n\t-754019181540390696 [label=\"Maybe.nothing\" id=-754019181540390696]\n\t-7620949637964638205 -> 75270250234121364 [id=\"-6822852619997036823.args[2]\"]\n\t75270250234121364 [label=\"Abstraction.create\" id=-8334591979778177377]\n\t75270250234121364 -> -5788305488585017870 [id=\"-8334591979778177377.args[0]\"]\n\t-5788305488585017870 [label=\"Abstraction.create_variable\" id=-5788305488585017870]\n\t-5788305488585017870 -> 782204642417591620 [id=\"-5788305488585017870.args[0]\"]\n\t782204642417591620 [label=\"Variable(4532545744)\" id=782204642417591620]\n\t75270250234121364 -> 6426084477688557308 [id=\"-8334591979778177377.args[1]\"]\n\t6426084477688557308 [label=\"Maybe.just\" id=6426084477688557308]\n\t6426084477688557308 -> 5276140271914404268 [id=\"6426084477688557308.args[0]\"]\n\t5276140271914404268 [label=\"Either.right\" id=5276140271914404268]\n\t5276140271914404268 -> -5788305488585017870 [id=\"5276140271914404268.args[0]\"]\n\t3216736406715560061 -> 3904670649235592956 [id=\"-2178932975760294384.args[1]\"]\n\t3904670649235592956 [label=\"Maybe.nothing\" id=3904670649235592956]\n\t3216736406715560061 -> -979998564141937302 [id=\"-2178932975760294384.args[2]\"]\n\t-979998564141937302 [label=\"Abstraction.create\" id=-979998564141937302]\n\t-979998564141937302 -> -1567811318780057522 [id=\"-979998564141937302.args[0]\"]\n\t-1567811318780057522 [label=\"Abstraction.create_variable\" id=-1567811318780057522]\n\t-1567811318780057522 -> 782204655928586145 [id=\"-1567811318780057522.args[0]\"]\n\t782204655928586145 [label=\"Variable(4532614368)\" id=782204655928586145]\n\t-979998564141937302 -> -4655842278390333752 [id=\"-979998564141937302.args[1]\"]\n\t-4655842278390333752 [label=\"Maybe.just\" id=-4655842278390333752]\n\t-4655842278390333752 -> 2264477634205654134 [id=\"-4655842278390333752.args[0]\"]\n\t2264477634205654134 [label=\"NDArray.__getitem__\" id=2264477634205654134]\n\t2264477634205654134 -> 6869289972660339569 [id=\"2264477634205654134.args[0]\"]\n\t6869289972660339569 [label=\"Pair.left\" id=6869289972660339569]\n\t6869289972660339569 -> -1567811318780057522 [id=\"6869289972660339569.args[0]\"]\n\t2264477634205654134 -> -5066980431023388391 [id=\"2264477634205654134.args[1]\"]\n\t-5066980431023388391 [label=\"Pair.right\" id=-5066980431023388391]\n\t-5066980431023388391 -> -1567811318780057522 [id=\"-5066980431023388391.args[0]\"]\n}",
         "label": null,
         "rule": "metadsl_core.abstraction.compose"
        },
        {
         "graph": "digraph {\n\tnode [shape=plain]\n\tedge [arrowsize=0.5 penwidth=0.5]\n\t192787192234352278 [label=\"NDArrayCompat.to_ndarray\" id=-5281961658848897139]\n\t192787192234352278 -> 1264953580351725809 [id=\"-5281961658848897139.args[0]\"]\n\t1264953580351725809 [label=\"NDArrayCompat.from_ndarray\" id=-9177130969686516551]\n\t1264953580351725809 -> 4056124902168107402 [id=\"-9177130969686516551.args[0]\"]\n\t4056124902168107402 [label=\"Maybe.match\" id=-2178932975760294384]\n\t4056124902168107402 -> 4621034664011234982 [id=\"-2178932975760294384.args[0]\"]\n\t4621034664011234982 [label=\"Maybe.__and__\" id=5105228348163832661]\n\t4621034664011234982 -> 6034370012444041160 [id=\"5105228348163832661.args[0]\"]\n\t6034370012444041160 [label=\"Converter.convert\" id=3738807663539962808]\n\t6034370012444041160 -> -4956525522698191664 [id=\"3738807663539962808.args[0]\"]\n\t-4956525522698191664 [label=\"NDArrayCompat.__add__\" id=-5928052358113968640]\n\t-4956525522698191664 -> -7831860903262410409 [id=\"-5928052358113968640.args[0]\"]\n\t-7831860903262410409 [label=\"NDArrayCompat.from_ndarray\" id=-2224020701084858300]\n\t-7831860903262410409 -> 4456604564882372220 [id=\"-2224020701084858300.args[0]\"]\n\t4456604564882372220 [label=\"Abstraction.__call__\" id=-6880367450692664388]\n\t4456604564882372220 -> -3815901700388079820 [id=\"-6880367450692664388.args[0]\"]\n\t-3815901700388079820 [label=\"Abstraction.__add__\" id=7417534677030413501]\n\t-3815901700388079820 -> 7210536553855986561 [id=\"7417534677030413501.args[0]\"]\n\t7210536553855986561 [label=\"Abstraction.create\" id=-7293254293253925776]\n\t7210536553855986561 -> 6102774012109720231 [id=\"-7293254293253925776.args[0]\"]\n\t6102774012109720231 [label=\"Abstraction.create_variable\" id=6102774012109720231]\n\t6102774012109720231 -> -8441167376553871188 [id=\"6102774012109720231.args[0]\"]\n\t-8441167376553871188 [label=\"Variable(4532810584)\" id=-8441167376553871188]\n\t7210536553855986561 -> 1379772526540993227 [id=\"-7293254293253925776.args[1]\"]\n\t1379772526540993227 [label=\"Maybe.just\" id=1379772526540993227]\n\t1379772526540993227 -> 6102774012109720231 [id=\"1379772526540993227.args[0]\"]\n\t-3815901700388079820 -> -8952102342635871110 [id=\"7417534677030413501.args[1]\"]\n\t-8952102342635871110 [label=\"Abstraction.create\" id=-8952102342635871110]\n\t-8952102342635871110 -> -1852894578847174519 [id=\"-8952102342635871110.args[0]\"]\n\t-1852894578847174519 [label=\"Abstraction.create_variable\" id=-1852894578847174519]\n\t-1852894578847174519 -> 782204650207441520 [id=\"-1852894578847174519.args[0]\"]\n\t782204650207441520 [label=\"Variable(4532693648)\" id=782204650207441520]\n\t-8952102342635871110 -> 3306699016847434562 [id=\"-8952102342635871110.args[1]\"]\n\t3306699016847434562 [label=arange_ id=3306699016847434562]\n\t3306699016847434562 -> -1852894578847174519 [id=\"3306699016847434562.args[0]\"]\n\t4456604564882372220 -> -3131809300698277100 [id=\"-6880367450692664388.args[1]\"]\n\t-3131809300698277100 [label=\"Integer.from_int\" id=-3131809300698277100]\n\t-3131809300698277100 -> 7929563447225870375 [id=\"-3131809300698277100.args[0]\"]\n\t7929563447225870375 [label=100 id=6695801540915528909]\n\t-4956525522698191664 -> -3880724937729080699 [id=\"-5928052358113968640.args[1]\"]\n\t-3880724937729080699 [label=\"NDArrayCompat.from_ndarray\" id=-5073117767081961703]\n\t-3880724937729080699 -> -1561121444444975497 [id=\"-5073117767081961703.args[0]\"]\n\t-1561121444444975497 [label=\"Abstraction.__call__\" id=1501117769350601043]\n\t-1561121444444975497 -> 4344538302833644691 [id=\"1501117769350601043.args[0]\"]\n\t4344538302833644691 [label=\"Abstraction.__add__\" id=4344538302833644691]\n\t4344538302833644691 -> 3748779951611522878 [id=\"4344538302833644691.args[0]\"]\n\t3748779951611522878 [label=\"Abstraction.create\" id=3748779951611522878]\n\t3748779951611522878 -> 7164926897100554226 [id=\"3748779951611522878.args[0]\"]\n\t7164926897100554226 [label=\"Abstraction.create_variable\" id=7164926897100554226]\n\t7164926897100554226 -> -8441167325273579413 [id=\"7164926897100554226.args[0]\"]\n\t-8441167325273579413 [label=\"Variable(4532371976)\" id=-8441167325273579413]\n\t3748779951611522878 -> 8362505944321486831 [id=\"3748779951611522878.args[1]\"]\n\t8362505944321486831 [label=\"Maybe.just\" id=8362505944321486831]\n\t8362505944321486831 -> 7164926897100554226 [id=\"8362505944321486831.args[0]\"]\n\t4344538302833644691 -> -8952102342635871110 [id=\"4344538302833644691.args[1]\"]\n\t-1561121444444975497 -> -3131809300698277100 [id=\"1501117769350601043.args[1]\"]\n\t4621034664011234982 -> 6310547295580285112 [id=\"5105228348163832661.args[1]\"]\n\t6310547295580285112 [label=\"Maybe.__or__\" id=7168750140140484019]\n\t6310547295580285112 -> -3715420078525920815 [id=\"7168750140140484019.args[0]\"]\n\t-3715420078525920815 [label=\"Abstraction.__call__\" id=-1927693558332765614]\n\t-3715420078525920815 -> -9071831681035237069 [id=\"-1927693558332765614.args[0]\"]\n\t-9071831681035237069 [label=\"Abstraction.create\" id=-9181448698224066163]\n\t-9071831681035237069 -> 1059062756968867836 [id=\"-9181448698224066163.args[0]\"]\n\t1059062756968867836 [label=\"Abstraction.create_variable\" id=1059062756968867836]\n\t1059062756968867836 -> -8441167380741077888 [id=\"1059062756968867836.args[0]\"]\n\t-8441167380741077888 [label=\"Variable(4532601240)\" id=-8441167380741077888]\n\t-9071831681035237069 -> -3103477373190562460 [id=\"-9181448698224066163.args[1]\"]\n\t-3103477373190562460 [label=\"Maybe.just\" id=-3103477373190562460]\n\t-3103477373190562460 -> -5394518138794402984 [id=\"-3103477373190562460.args[0]\"]\n\t-5394518138794402984 [label=\"Either.left\" id=-5394518138794402984]\n\t-5394518138794402984 -> 1059062756968867836 [id=\"-5394518138794402984.args[0]\"]\n\t-3715420078525920815 -> -1448899694609174123 [id=\"-1927693558332765614.args[1]\"]\n\t-1448899694609174123 [label=\"Integer.from_int\" id=-1448899694609174123]\n\t-1448899694609174123 -> 7929563447330875300 [id=\"-1448899694609174123.args[0]\"]\n\t7929563447330875300 [label=5 id=8368899336284295099]\n\t6310547295580285112 -> -7620949637964638205 [id=\"7168750140140484019.args[1]\"]\n\t-7620949637964638205 [label=\"Maybe.match\" id=-6822852619997036823]\n\t-7620949637964638205 -> 7195713575237942534 [id=\"-6822852619997036823.args[0]\"]\n\t7195713575237942534 [label=\"Converter.convert\" id=7195713575237942534]\n\t7195713575237942534 -> 7929563447330875300 [id=\"7195713575237942534.args[0]\"]\n\t-7620949637964638205 -> -754019181540390696 [id=\"-6822852619997036823.args[1]\"]\n\t-754019181540390696 [label=\"Maybe.nothing\" id=-754019181540390696]\n\t-7620949637964638205 -> 75270250234121364 [id=\"-6822852619997036823.args[2]\"]\n\t75270250234121364 [label=\"Abstraction.create\" id=-8334591979778177377]\n\t75270250234121364 -> -5788305488585017870 [id=\"-8334591979778177377.args[0]\"]\n\t-5788305488585017870 [label=\"Abstraction.create_variable\" id=-5788305488585017870]\n\t-5788305488585017870 -> 782204642417591620 [id=\"-5788305488585017870.args[0]\"]\n\t782204642417591620 [label=\"Variable(4532545744)\" id=782204642417591620]\n\t75270250234121364 -> 6426084477688557308 [id=\"-8334591979778177377.args[1]\"]\n\t6426084477688557308 [label=\"Maybe.just\" id=6426084477688557308]\n\t6426084477688557308 -> 5276140271914404268 [id=\"6426084477688557308.args[0]\"]\n\t5276140271914404268 [label=\"Either.right\" id=5276140271914404268]\n\t5276140271914404268 -> -5788305488585017870 [id=\"5276140271914404268.args[0]\"]\n\t4056124902168107402 -> 3904670649235592956 [id=\"-2178932975760294384.args[1]\"]\n\t3904670649235592956 [label=\"Maybe.nothing\" id=3904670649235592956]\n\t4056124902168107402 -> -979998564141937302 [id=\"-2178932975760294384.args[2]\"]\n\t-979998564141937302 [label=\"Abstraction.create\" id=-979998564141937302]\n\t-979998564141937302 -> -1567811318780057522 [id=\"-979998564141937302.args[0]\"]\n\t-1567811318780057522 [label=\"Abstraction.create_variable\" id=-1567811318780057522]\n\t-1567811318780057522 -> 782204655928586145 [id=\"-1567811318780057522.args[0]\"]\n\t782204655928586145 [label=\"Variable(4532614368)\" id=782204655928586145]\n\t-979998564141937302 -> -4655842278390333752 [id=\"-979998564141937302.args[1]\"]\n\t-4655842278390333752 [label=\"Maybe.just\" id=-4655842278390333752]\n\t-4655842278390333752 -> 2264477634205654134 [id=\"-4655842278390333752.args[0]\"]\n\t2264477634205654134 [label=\"NDArray.__getitem__\" id=2264477634205654134]\n\t2264477634205654134 -> 6869289972660339569 [id=\"2264477634205654134.args[0]\"]\n\t6869289972660339569 [label=\"Pair.left\" id=6869289972660339569]\n\t6869289972660339569 -> -1567811318780057522 [id=\"6869289972660339569.args[0]\"]\n\t2264477634205654134 -> -5066980431023388391 [id=\"2264477634205654134.args[1]\"]\n\t-5066980431023388391 [label=\"Pair.right\" id=-5066980431023388391]\n\t-5066980431023388391 -> -1567811318780057522 [id=\"-5066980431023388391.args[0]\"]\n}",
         "label": null,
         "rule": "metadsl_core.abstraction.compose"
        },
        {
         "graph": "digraph {\n\tnode [shape=plain]\n\tedge [arrowsize=0.5 penwidth=0.5]\n\t-7905890774861574462 [label=\"NDArrayCompat.to_ndarray\" id=-5281961658848897139]\n\t-7905890774861574462 -> 4181086702270924620 [id=\"-5281961658848897139.args[0]\"]\n\t4181086702270924620 [label=\"NDArrayCompat.from_ndarray\" id=-9177130969686516551]\n\t4181086702270924620 -> -2070786939647750622 [id=\"-9177130969686516551.args[0]\"]\n\t-2070786939647750622 [label=\"Maybe.match\" id=-2178932975760294384]\n\t-2070786939647750622 -> -5300946842481716894 [id=\"-2178932975760294384.args[0]\"]\n\t-5300946842481716894 [label=\"Maybe.__and__\" id=5105228348163832661]\n\t-5300946842481716894 -> 6034370012444041160 [id=\"5105228348163832661.args[0]\"]\n\t6034370012444041160 [label=\"Converter.convert\" id=3738807663539962808]\n\t6034370012444041160 -> -4956525522698191664 [id=\"3738807663539962808.args[0]\"]\n\t-4956525522698191664 [label=\"NDArrayCompat.__add__\" id=-5928052358113968640]\n\t-4956525522698191664 -> -7831860903262410409 [id=\"-5928052358113968640.args[0]\"]\n\t-7831860903262410409 [label=\"NDArrayCompat.from_ndarray\" id=-2224020701084858300]\n\t-7831860903262410409 -> 4456604564882372220 [id=\"-2224020701084858300.args[0]\"]\n\t4456604564882372220 [label=\"Abstraction.__call__\" id=-6880367450692664388]\n\t4456604564882372220 -> -3815901700388079820 [id=\"-6880367450692664388.args[0]\"]\n\t-3815901700388079820 [label=\"Abstraction.__add__\" id=7417534677030413501]\n\t-3815901700388079820 -> 7210536553855986561 [id=\"7417534677030413501.args[0]\"]\n\t7210536553855986561 [label=\"Abstraction.create\" id=-7293254293253925776]\n\t7210536553855986561 -> 6102774012109720231 [id=\"-7293254293253925776.args[0]\"]\n\t6102774012109720231 [label=\"Abstraction.create_variable\" id=6102774012109720231]\n\t6102774012109720231 -> -8441167376553871188 [id=\"6102774012109720231.args[0]\"]\n\t-8441167376553871188 [label=\"Variable(4532810584)\" id=-8441167376553871188]\n\t7210536553855986561 -> 1379772526540993227 [id=\"-7293254293253925776.args[1]\"]\n\t1379772526540993227 [label=\"Maybe.just\" id=1379772526540993227]\n\t1379772526540993227 -> 6102774012109720231 [id=\"1379772526540993227.args[0]\"]\n\t-3815901700388079820 -> -8952102342635871110 [id=\"7417534677030413501.args[1]\"]\n\t-8952102342635871110 [label=\"Abstraction.create\" id=-8952102342635871110]\n\t-8952102342635871110 -> -1852894578847174519 [id=\"-8952102342635871110.args[0]\"]\n\t-1852894578847174519 [label=\"Abstraction.create_variable\" id=-1852894578847174519]\n\t-1852894578847174519 -> 782204650207441520 [id=\"-1852894578847174519.args[0]\"]\n\t782204650207441520 [label=\"Variable(4532693648)\" id=782204650207441520]\n\t-8952102342635871110 -> 3306699016847434562 [id=\"-8952102342635871110.args[1]\"]\n\t3306699016847434562 [label=arange_ id=3306699016847434562]\n\t3306699016847434562 -> -1852894578847174519 [id=\"3306699016847434562.args[0]\"]\n\t4456604564882372220 -> -3131809300698277100 [id=\"-6880367450692664388.args[1]\"]\n\t-3131809300698277100 [label=\"Integer.from_int\" id=-3131809300698277100]\n\t-3131809300698277100 -> 7929563447225870375 [id=\"-3131809300698277100.args[0]\"]\n\t7929563447225870375 [label=100 id=6695801540915528909]\n\t-4956525522698191664 -> -3880724937729080699 [id=\"-5928052358113968640.args[1]\"]\n\t-3880724937729080699 [label=\"NDArrayCompat.from_ndarray\" id=-5073117767081961703]\n\t-3880724937729080699 -> -1561121444444975497 [id=\"-5073117767081961703.args[0]\"]\n\t-1561121444444975497 [label=\"Abstraction.__call__\" id=1501117769350601043]\n\t-1561121444444975497 -> 4344538302833644691 [id=\"1501117769350601043.args[0]\"]\n\t4344538302833644691 [label=\"Abstraction.__add__\" id=4344538302833644691]\n\t4344538302833644691 -> 3748779951611522878 [id=\"4344538302833644691.args[0]\"]\n\t3748779951611522878 [label=\"Abstraction.create\" id=3748779951611522878]\n\t3748779951611522878 -> 7164926897100554226 [id=\"3748779951611522878.args[0]\"]\n\t7164926897100554226 [label=\"Abstraction.create_variable\" id=7164926897100554226]\n\t7164926897100554226 -> -8441167325273579413 [id=\"7164926897100554226.args[0]\"]\n\t-8441167325273579413 [label=\"Variable(4532371976)\" id=-8441167325273579413]\n\t3748779951611522878 -> 8362505944321486831 [id=\"3748779951611522878.args[1]\"]\n\t8362505944321486831 [label=\"Maybe.just\" id=8362505944321486831]\n\t8362505944321486831 -> 7164926897100554226 [id=\"8362505944321486831.args[0]\"]\n\t4344538302833644691 -> -8952102342635871110 [id=\"4344538302833644691.args[1]\"]\n\t-1561121444444975497 -> -3131809300698277100 [id=\"1501117769350601043.args[1]\"]\n\t-5300946842481716894 -> 8816093130121520419 [id=\"5105228348163832661.args[1]\"]\n\t8816093130121520419 [label=\"Maybe.__or__\" id=7168750140140484019]\n\t8816093130121520419 -> -2861860061290690084 [id=\"7168750140140484019.args[0]\"]\n\t-2861860061290690084 [label=\"Maybe.just\" id=-1927693558332765614]\n\t-2861860061290690084 -> 3438482133718761997 [id=\"-1927693558332765614.args[0]\"]\n\t3438482133718761997 [label=\"Either.left\" id=3438482133718761997]\n\t3438482133718761997 -> -1448899694609174123 [id=\"3438482133718761997.args[0]\"]\n\t-1448899694609174123 [label=\"Integer.from_int\" id=-1448899694609174123]\n\t-1448899694609174123 -> 7929563447330875300 [id=\"-1448899694609174123.args[0]\"]\n\t7929563447330875300 [label=5 id=8368899336284295099]\n\t8816093130121520419 -> -7620949637964638205 [id=\"7168750140140484019.args[1]\"]\n\t-7620949637964638205 [label=\"Maybe.match\" id=-6822852619997036823]\n\t-7620949637964638205 -> 7195713575237942534 [id=\"-6822852619997036823.args[0]\"]\n\t7195713575237942534 [label=\"Converter.convert\" id=7195713575237942534]\n\t7195713575237942534 -> 7929563447330875300 [id=\"7195713575237942534.args[0]\"]\n\t-7620949637964638205 -> -754019181540390696 [id=\"-6822852619997036823.args[1]\"]\n\t-754019181540390696 [label=\"Maybe.nothing\" id=-754019181540390696]\n\t-7620949637964638205 -> 75270250234121364 [id=\"-6822852619997036823.args[2]\"]\n\t75270250234121364 [label=\"Abstraction.create\" id=-8334591979778177377]\n\t75270250234121364 -> -5788305488585017870 [id=\"-8334591979778177377.args[0]\"]\n\t-5788305488585017870 [label=\"Abstraction.create_variable\" id=-5788305488585017870]\n\t-5788305488585017870 -> 782204642417591620 [id=\"-5788305488585017870.args[0]\"]\n\t782204642417591620 [label=\"Variable(4532545744)\" id=782204642417591620]\n\t75270250234121364 -> 6426084477688557308 [id=\"-8334591979778177377.args[1]\"]\n\t6426084477688557308 [label=\"Maybe.just\" id=6426084477688557308]\n\t6426084477688557308 -> 5276140271914404268 [id=\"6426084477688557308.args[0]\"]\n\t5276140271914404268 [label=\"Either.right\" id=5276140271914404268]\n\t5276140271914404268 -> -5788305488585017870 [id=\"5276140271914404268.args[0]\"]\n\t-2070786939647750622 -> 3904670649235592956 [id=\"-2178932975760294384.args[1]\"]\n\t3904670649235592956 [label=\"Maybe.nothing\" id=3904670649235592956]\n\t-2070786939647750622 -> -979998564141937302 [id=\"-2178932975760294384.args[2]\"]\n\t-979998564141937302 [label=\"Abstraction.create\" id=-979998564141937302]\n\t-979998564141937302 -> -1567811318780057522 [id=\"-979998564141937302.args[0]\"]\n\t-1567811318780057522 [label=\"Abstraction.create_variable\" id=-1567811318780057522]\n\t-1567811318780057522 -> 782204655928586145 [id=\"-1567811318780057522.args[0]\"]\n\t782204655928586145 [label=\"Variable(4532614368)\" id=782204655928586145]\n\t-979998564141937302 -> -4655842278390333752 [id=\"-979998564141937302.args[1]\"]\n\t-4655842278390333752 [label=\"Maybe.just\" id=-4655842278390333752]\n\t-4655842278390333752 -> 2264477634205654134 [id=\"-4655842278390333752.args[0]\"]\n\t2264477634205654134 [label=\"NDArray.__getitem__\" id=2264477634205654134]\n\t2264477634205654134 -> 6869289972660339569 [id=\"2264477634205654134.args[0]\"]\n\t6869289972660339569 [label=\"Pair.left\" id=6869289972660339569]\n\t6869289972660339569 -> -1567811318780057522 [id=\"6869289972660339569.args[0]\"]\n\t2264477634205654134 -> -5066980431023388391 [id=\"2264477634205654134.args[1]\"]\n\t-5066980431023388391 [label=\"Pair.right\" id=-5066980431023388391]\n\t-5066980431023388391 -> -1567811318780057522 [id=\"-5066980431023388391.args[0]\"]\n}",
         "label": null,
         "rule": "metadsl_core.abstraction.beta_reduce"
        },
        {
         "graph": "digraph {\n\tnode [shape=plain]\n\tedge [arrowsize=0.5 penwidth=0.5]\n\t8991855025522833901 [label=\"NDArrayCompat.to_ndarray\" id=-5281961658848897139]\n\t8991855025522833901 -> -2422211557192635241 [id=\"-5281961658848897139.args[0]\"]\n\t-2422211557192635241 [label=\"NDArrayCompat.from_ndarray\" id=-9177130969686516551]\n\t-2422211557192635241 -> 1556497383409340477 [id=\"-9177130969686516551.args[0]\"]\n\t1556497383409340477 [label=\"Maybe.match\" id=-2178932975760294384]\n\t1556497383409340477 -> 8278597593574582942 [id=\"-2178932975760294384.args[0]\"]\n\t8278597593574582942 [label=\"Maybe.__and__\" id=5105228348163832661]\n\t8278597593574582942 -> 6034370012444041160 [id=\"5105228348163832661.args[0]\"]\n\t6034370012444041160 [label=\"Converter.convert\" id=3738807663539962808]\n\t6034370012444041160 -> -4956525522698191664 [id=\"3738807663539962808.args[0]\"]\n\t-4956525522698191664 [label=\"NDArrayCompat.__add__\" id=-5928052358113968640]\n\t-4956525522698191664 -> -7831860903262410409 [id=\"-5928052358113968640.args[0]\"]\n\t-7831860903262410409 [label=\"NDArrayCompat.from_ndarray\" id=-2224020701084858300]\n\t-7831860903262410409 -> 4456604564882372220 [id=\"-2224020701084858300.args[0]\"]\n\t4456604564882372220 [label=\"Abstraction.__call__\" id=-6880367450692664388]\n\t4456604564882372220 -> -3815901700388079820 [id=\"-6880367450692664388.args[0]\"]\n\t-3815901700388079820 [label=\"Abstraction.__add__\" id=7417534677030413501]\n\t-3815901700388079820 -> 7210536553855986561 [id=\"7417534677030413501.args[0]\"]\n\t7210536553855986561 [label=\"Abstraction.create\" id=-7293254293253925776]\n\t7210536553855986561 -> 6102774012109720231 [id=\"-7293254293253925776.args[0]\"]\n\t6102774012109720231 [label=\"Abstraction.create_variable\" id=6102774012109720231]\n\t6102774012109720231 -> -8441167376553871188 [id=\"6102774012109720231.args[0]\"]\n\t-8441167376553871188 [label=\"Variable(4532810584)\" id=-8441167376553871188]\n\t7210536553855986561 -> 1379772526540993227 [id=\"-7293254293253925776.args[1]\"]\n\t1379772526540993227 [label=\"Maybe.just\" id=1379772526540993227]\n\t1379772526540993227 -> 6102774012109720231 [id=\"1379772526540993227.args[0]\"]\n\t-3815901700388079820 -> -8952102342635871110 [id=\"7417534677030413501.args[1]\"]\n\t-8952102342635871110 [label=\"Abstraction.create\" id=-8952102342635871110]\n\t-8952102342635871110 -> -1852894578847174519 [id=\"-8952102342635871110.args[0]\"]\n\t-1852894578847174519 [label=\"Abstraction.create_variable\" id=-1852894578847174519]\n\t-1852894578847174519 -> 782204650207441520 [id=\"-1852894578847174519.args[0]\"]\n\t782204650207441520 [label=\"Variable(4532693648)\" id=782204650207441520]\n\t-8952102342635871110 -> 3306699016847434562 [id=\"-8952102342635871110.args[1]\"]\n\t3306699016847434562 [label=arange_ id=3306699016847434562]\n\t3306699016847434562 -> -1852894578847174519 [id=\"3306699016847434562.args[0]\"]\n\t4456604564882372220 -> -3131809300698277100 [id=\"-6880367450692664388.args[1]\"]\n\t-3131809300698277100 [label=\"Integer.from_int\" id=-3131809300698277100]\n\t-3131809300698277100 -> 7929563447225870375 [id=\"-3131809300698277100.args[0]\"]\n\t7929563447225870375 [label=100 id=6695801540915528909]\n\t-4956525522698191664 -> -3880724937729080699 [id=\"-5928052358113968640.args[1]\"]\n\t-3880724937729080699 [label=\"NDArrayCompat.from_ndarray\" id=-5073117767081961703]\n\t-3880724937729080699 -> -1561121444444975497 [id=\"-5073117767081961703.args[0]\"]\n\t-1561121444444975497 [label=\"Abstraction.__call__\" id=1501117769350601043]\n\t-1561121444444975497 -> 4344538302833644691 [id=\"1501117769350601043.args[0]\"]\n\t4344538302833644691 [label=\"Abstraction.__add__\" id=4344538302833644691]\n\t4344538302833644691 -> 3748779951611522878 [id=\"4344538302833644691.args[0]\"]\n\t3748779951611522878 [label=\"Abstraction.create\" id=3748779951611522878]\n\t3748779951611522878 -> 7164926897100554226 [id=\"3748779951611522878.args[0]\"]\n\t7164926897100554226 [label=\"Abstraction.create_variable\" id=7164926897100554226]\n\t7164926897100554226 -> -8441167325273579413 [id=\"7164926897100554226.args[0]\"]\n\t-8441167325273579413 [label=\"Variable(4532371976)\" id=-8441167325273579413]\n\t3748779951611522878 -> 8362505944321486831 [id=\"3748779951611522878.args[1]\"]\n\t8362505944321486831 [label=\"Maybe.just\" id=8362505944321486831]\n\t8362505944321486831 -> 7164926897100554226 [id=\"8362505944321486831.args[0]\"]\n\t4344538302833644691 -> -8952102342635871110 [id=\"4344538302833644691.args[1]\"]\n\t-1561121444444975497 -> -3131809300698277100 [id=\"1501117769350601043.args[1]\"]\n\t8278597593574582942 -> 8955685588577225007 [id=\"5105228348163832661.args[1]\"]\n\t8955685588577225007 [label=\"Maybe.just\" id=7168750140140484019]\n\t8955685588577225007 -> 3438482133718761997 [id=\"7168750140140484019.args[0]\"]\n\t3438482133718761997 [label=\"Either.left\" id=3438482133718761997]\n\t3438482133718761997 -> -1448899694609174123 [id=\"3438482133718761997.args[0]\"]\n\t-1448899694609174123 [label=\"Integer.from_int\" id=-1448899694609174123]\n\t-1448899694609174123 -> 7929563447330875300 [id=\"-1448899694609174123.args[0]\"]\n\t7929563447330875300 [label=5 id=8368899336284295099]\n\t1556497383409340477 -> 3904670649235592956 [id=\"-2178932975760294384.args[1]\"]\n\t3904670649235592956 [label=\"Maybe.nothing\" id=3904670649235592956]\n\t1556497383409340477 -> -979998564141937302 [id=\"-2178932975760294384.args[2]\"]\n\t-979998564141937302 [label=\"Abstraction.create\" id=-979998564141937302]\n\t-979998564141937302 -> -1567811318780057522 [id=\"-979998564141937302.args[0]\"]\n\t-1567811318780057522 [label=\"Abstraction.create_variable\" id=-1567811318780057522]\n\t-1567811318780057522 -> 782204655928586145 [id=\"-1567811318780057522.args[0]\"]\n\t782204655928586145 [label=\"Variable(4532614368)\" id=782204655928586145]\n\t-979998564141937302 -> -4655842278390333752 [id=\"-979998564141937302.args[1]\"]\n\t-4655842278390333752 [label=\"Maybe.just\" id=-4655842278390333752]\n\t-4655842278390333752 -> 2264477634205654134 [id=\"-4655842278390333752.args[0]\"]\n\t2264477634205654134 [label=\"NDArray.__getitem__\" id=2264477634205654134]\n\t2264477634205654134 -> 6869289972660339569 [id=\"2264477634205654134.args[0]\"]\n\t6869289972660339569 [label=\"Pair.left\" id=6869289972660339569]\n\t6869289972660339569 -> -1567811318780057522 [id=\"6869289972660339569.args[0]\"]\n\t2264477634205654134 -> -5066980431023388391 [id=\"2264477634205654134.args[1]\"]\n\t-5066980431023388391 [label=\"Pair.right\" id=-5066980431023388391]\n\t-5066980431023388391 -> -1567811318780057522 [id=\"-5066980431023388391.args[0]\"]\n}",
         "label": null,
         "rule": "metadsl_core.maybe.maybe_or"
        },
        {
         "graph": "digraph {\n\tnode [shape=plain]\n\tedge [arrowsize=0.5 penwidth=0.5]\n\t-2531045510318504649 [label=\"NDArrayCompat.to_ndarray\" id=-5281961658848897139]\n\t-2531045510318504649 -> -610731571215604364 [id=\"-5281961658848897139.args[0]\"]\n\t-610731571215604364 [label=\"NDArrayCompat.from_ndarray\" id=-9177130969686516551]\n\t-610731571215604364 -> -3898148759995715509 [id=\"-9177130969686516551.args[0]\"]\n\t-3898148759995715509 [label=\"Maybe.match\" id=-2178932975760294384]\n\t-3898148759995715509 -> 8858306922078925636 [id=\"-2178932975760294384.args[0]\"]\n\t8858306922078925636 [label=\"Maybe.__and__\" id=5105228348163832661]\n\t8858306922078925636 -> 4916320021783949814 [id=\"5105228348163832661.args[0]\"]\n\t4916320021783949814 [label=\"Converter.convert\" id=3738807663539962808]\n\t4916320021783949814 -> -6171369598117617926 [id=\"3738807663539962808.args[0]\"]\n\t-6171369598117617926 [label=\"NDArrayCompat.__add__\" id=-5928052358113968640]\n\t-6171369598117617926 -> -7831860903262410409 [id=\"-5928052358113968640.args[0]\"]\n\t-7831860903262410409 [label=\"NDArrayCompat.from_ndarray\" id=-2224020701084858300]\n\t-7831860903262410409 -> 4456604564882372220 [id=\"-2224020701084858300.args[0]\"]\n\t4456604564882372220 [label=\"Abstraction.__call__\" id=-6880367450692664388]\n\t4456604564882372220 -> -3815901700388079820 [id=\"-6880367450692664388.args[0]\"]\n\t-3815901700388079820 [label=\"Abstraction.__add__\" id=7417534677030413501]\n\t-3815901700388079820 -> 7210536553855986561 [id=\"7417534677030413501.args[0]\"]\n\t7210536553855986561 [label=\"Abstraction.create\" id=-7293254293253925776]\n\t7210536553855986561 -> 6102774012109720231 [id=\"-7293254293253925776.args[0]\"]\n\t6102774012109720231 [label=\"Abstraction.create_variable\" id=6102774012109720231]\n\t6102774012109720231 -> -8441167376553871188 [id=\"6102774012109720231.args[0]\"]\n\t-8441167376553871188 [label=\"Variable(4532810584)\" id=-8441167376553871188]\n\t7210536553855986561 -> 1379772526540993227 [id=\"-7293254293253925776.args[1]\"]\n\t1379772526540993227 [label=\"Maybe.just\" id=1379772526540993227]\n\t1379772526540993227 -> 6102774012109720231 [id=\"1379772526540993227.args[0]\"]\n\t-3815901700388079820 -> -8952102342635871110 [id=\"7417534677030413501.args[1]\"]\n\t-8952102342635871110 [label=\"Abstraction.create\" id=-8952102342635871110]\n\t-8952102342635871110 -> -1852894578847174519 [id=\"-8952102342635871110.args[0]\"]\n\t-1852894578847174519 [label=\"Abstraction.create_variable\" id=-1852894578847174519]\n\t-1852894578847174519 -> 782204650207441520 [id=\"-1852894578847174519.args[0]\"]\n\t782204650207441520 [label=\"Variable(4532693648)\" id=782204650207441520]\n\t-8952102342635871110 -> 3306699016847434562 [id=\"-8952102342635871110.args[1]\"]\n\t3306699016847434562 [label=arange_ id=3306699016847434562]\n\t3306699016847434562 -> -1852894578847174519 [id=\"3306699016847434562.args[0]\"]\n\t4456604564882372220 -> -3131809300698277100 [id=\"-6880367450692664388.args[1]\"]\n\t-3131809300698277100 [label=\"Integer.from_int\" id=-3131809300698277100]\n\t-3131809300698277100 -> 7929563447225870375 [id=\"-3131809300698277100.args[0]\"]\n\t7929563447225870375 [label=100 id=6695801540915528909]\n\t-6171369598117617926 -> -1396724190485083222 [id=\"-5928052358113968640.args[1]\"]\n\t-1396724190485083222 [label=\"NDArrayCompat.from_ndarray\" id=-2224020701084858300]\n\t-1396724190485083222 -> 1475979828097991852 [id=\"-2224020701084858300.args[0]\"]\n\t1475979828097991852 [label=\"Abstraction.__call__\" id=-6880367450692664388]\n\t1475979828097991852 -> -2111247561356716541 [id=\"-6880367450692664388.args[0]\"]\n\t-2111247561356716541 [label=\"Abstraction.create\" id=7417534677030413501]\n\t-2111247561356716541 -> -1852894578847174519 [id=\"7417534677030413501.args[0]\"]\n\t-2111247561356716541 -> 8345780857840190825 [id=\"7417534677030413501.args[1]\"]\n\t8345780857840190825 [label=\"Maybe.just\" id=8345780857840190825]\n\t8345780857840190825 -> 3306699016847434562 [id=\"8345780857840190825.args[0]\"]\n\t1475979828097991852 -> -3131809300698277100 [id=\"-6880367450692664388.args[1]\"]\n\t8858306922078925636 -> 8955685588577225007 [id=\"5105228348163832661.args[1]\"]\n\t8955685588577225007 [label=\"Maybe.just\" id=7168750140140484019]\n\t8955685588577225007 -> 3438482133718761997 [id=\"7168750140140484019.args[0]\"]\n\t3438482133718761997 [label=\"Either.left\" id=3438482133718761997]\n\t3438482133718761997 -> -1448899694609174123 [id=\"3438482133718761997.args[0]\"]\n\t-1448899694609174123 [label=\"Integer.from_int\" id=-1448899694609174123]\n\t-1448899694609174123 -> 7929563447330875300 [id=\"-1448899694609174123.args[0]\"]\n\t7929563447330875300 [label=5 id=8368899336284295099]\n\t-3898148759995715509 -> 3904670649235592956 [id=\"-2178932975760294384.args[1]\"]\n\t3904670649235592956 [label=\"Maybe.nothing\" id=3904670649235592956]\n\t-3898148759995715509 -> -979998564141937302 [id=\"-2178932975760294384.args[2]\"]\n\t-979998564141937302 [label=\"Abstraction.create\" id=-979998564141937302]\n\t-979998564141937302 -> -1567811318780057522 [id=\"-979998564141937302.args[0]\"]\n\t-1567811318780057522 [label=\"Abstraction.create_variable\" id=-1567811318780057522]\n\t-1567811318780057522 -> 782204655928586145 [id=\"-1567811318780057522.args[0]\"]\n\t782204655928586145 [label=\"Variable(4532614368)\" id=782204655928586145]\n\t-979998564141937302 -> -4655842278390333752 [id=\"-979998564141937302.args[1]\"]\n\t-4655842278390333752 [label=\"Maybe.just\" id=-4655842278390333752]\n\t-4655842278390333752 -> 2264477634205654134 [id=\"-4655842278390333752.args[0]\"]\n\t2264477634205654134 [label=\"NDArray.__getitem__\" id=2264477634205654134]\n\t2264477634205654134 -> 6869289972660339569 [id=\"2264477634205654134.args[0]\"]\n\t6869289972660339569 [label=\"Pair.left\" id=6869289972660339569]\n\t6869289972660339569 -> -1567811318780057522 [id=\"6869289972660339569.args[0]\"]\n\t2264477634205654134 -> -5066980431023388391 [id=\"2264477634205654134.args[1]\"]\n\t-5066980431023388391 [label=\"Pair.right\" id=-5066980431023388391]\n\t-5066980431023388391 -> -1567811318780057522 [id=\"-5066980431023388391.args[0]\"]\n}",
         "label": null,
         "rule": "metadsl_core.abstraction.compose"
        },
        {
         "graph": "digraph {\n\tnode [shape=plain]\n\tedge [arrowsize=0.5 penwidth=0.5]\n\t601783772926128064 [label=\"NDArrayCompat.to_ndarray\" id=-5281961658848897139]\n\t601783772926128064 -> 5488138619019703445 [id=\"-5281961658848897139.args[0]\"]\n\t5488138619019703445 [label=\"NDArrayCompat.from_ndarray\" id=-9177130969686516551]\n\t5488138619019703445 -> 6478834753594748325 [id=\"-9177130969686516551.args[0]\"]\n\t6478834753594748325 [label=\"Maybe.match\" id=-2178932975760294384]\n\t6478834753594748325 -> -5760226355314994421 [id=\"-2178932975760294384.args[0]\"]\n\t-5760226355314994421 [label=\"Maybe.__and__\" id=5105228348163832661]\n\t-5760226355314994421 -> -1398120290594241701 [id=\"5105228348163832661.args[0]\"]\n\t-1398120290594241701 [label=\"Converter.convert\" id=3738807663539962808]\n\t-1398120290594241701 -> -5670430935434763517 [id=\"3738807663539962808.args[0]\"]\n\t-5670430935434763517 [label=\"NDArrayCompat.__add__\" id=-5928052358113968640]\n\t-5670430935434763517 -> -7831860903262410409 [id=\"-5928052358113968640.args[0]\"]\n\t-7831860903262410409 [label=\"NDArrayCompat.from_ndarray\" id=-2224020701084858300]\n\t-7831860903262410409 -> 4456604564882372220 [id=\"-2224020701084858300.args[0]\"]\n\t4456604564882372220 [label=\"Abstraction.__call__\" id=-6880367450692664388]\n\t4456604564882372220 -> -3815901700388079820 [id=\"-6880367450692664388.args[0]\"]\n\t-3815901700388079820 [label=\"Abstraction.__add__\" id=7417534677030413501]\n\t-3815901700388079820 -> 7210536553855986561 [id=\"7417534677030413501.args[0]\"]\n\t7210536553855986561 [label=\"Abstraction.create\" id=-7293254293253925776]\n\t7210536553855986561 -> 6102774012109720231 [id=\"-7293254293253925776.args[0]\"]\n\t6102774012109720231 [label=\"Abstraction.create_variable\" id=6102774012109720231]\n\t6102774012109720231 -> -8441167376553871188 [id=\"6102774012109720231.args[0]\"]\n\t-8441167376553871188 [label=\"Variable(4532810584)\" id=-8441167376553871188]\n\t7210536553855986561 -> 1379772526540993227 [id=\"-7293254293253925776.args[1]\"]\n\t1379772526540993227 [label=\"Maybe.just\" id=1379772526540993227]\n\t1379772526540993227 -> 6102774012109720231 [id=\"1379772526540993227.args[0]\"]\n\t-3815901700388079820 -> -8952102342635871110 [id=\"7417534677030413501.args[1]\"]\n\t-8952102342635871110 [label=\"Abstraction.create\" id=-8952102342635871110]\n\t-8952102342635871110 -> -1852894578847174519 [id=\"-8952102342635871110.args[0]\"]\n\t-1852894578847174519 [label=\"Abstraction.create_variable\" id=-1852894578847174519]\n\t-1852894578847174519 -> 782204650207441520 [id=\"-1852894578847174519.args[0]\"]\n\t782204650207441520 [label=\"Variable(4532693648)\" id=782204650207441520]\n\t-8952102342635871110 -> 3306699016847434562 [id=\"-8952102342635871110.args[1]\"]\n\t3306699016847434562 [label=arange_ id=3306699016847434562]\n\t3306699016847434562 -> -1852894578847174519 [id=\"3306699016847434562.args[0]\"]\n\t4456604564882372220 -> -3131809300698277100 [id=\"-6880367450692664388.args[1]\"]\n\t-3131809300698277100 [label=\"Integer.from_int\" id=-3131809300698277100]\n\t-3131809300698277100 -> 7929563447225870375 [id=\"-3131809300698277100.args[0]\"]\n\t7929563447225870375 [label=100 id=6695801540915528909]\n\t-5670430935434763517 -> 538172979487181565 [id=\"-5928052358113968640.args[1]\"]\n\t538172979487181565 [label=\"NDArrayCompat.from_ndarray\" id=-2224020701084858300]\n\t538172979487181565 -> 8522449151473608332 [id=\"-2224020701084858300.args[0]\"]\n\t8522449151473608332 [label=\"Maybe.just\" id=-6880367450692664388]\n\t8522449151473608332 -> 5668266280651108832 [id=\"-6880367450692664388.args[0]\"]\n\t5668266280651108832 [label=arange_ id=5668266280651108832]\n\t5668266280651108832 -> -3131809300698277100 [id=\"5668266280651108832.args[0]\"]\n\t-5760226355314994421 -> 8955685588577225007 [id=\"5105228348163832661.args[1]\"]\n\t8955685588577225007 [label=\"Maybe.just\" id=7168750140140484019]\n\t8955685588577225007 -> 3438482133718761997 [id=\"7168750140140484019.args[0]\"]\n\t3438482133718761997 [label=\"Either.left\" id=3438482133718761997]\n\t3438482133718761997 -> -1448899694609174123 [id=\"3438482133718761997.args[0]\"]\n\t-1448899694609174123 [label=\"Integer.from_int\" id=-1448899694609174123]\n\t-1448899694609174123 -> 7929563447330875300 [id=\"-1448899694609174123.args[0]\"]\n\t7929563447330875300 [label=5 id=8368899336284295099]\n\t6478834753594748325 -> 3904670649235592956 [id=\"-2178932975760294384.args[1]\"]\n\t3904670649235592956 [label=\"Maybe.nothing\" id=3904670649235592956]\n\t6478834753594748325 -> -979998564141937302 [id=\"-2178932975760294384.args[2]\"]\n\t-979998564141937302 [label=\"Abstraction.create\" id=-979998564141937302]\n\t-979998564141937302 -> -1567811318780057522 [id=\"-979998564141937302.args[0]\"]\n\t-1567811318780057522 [label=\"Abstraction.create_variable\" id=-1567811318780057522]\n\t-1567811318780057522 -> 782204655928586145 [id=\"-1567811318780057522.args[0]\"]\n\t782204655928586145 [label=\"Variable(4532614368)\" id=782204655928586145]\n\t-979998564141937302 -> -4655842278390333752 [id=\"-979998564141937302.args[1]\"]\n\t-4655842278390333752 [label=\"Maybe.just\" id=-4655842278390333752]\n\t-4655842278390333752 -> 2264477634205654134 [id=\"-4655842278390333752.args[0]\"]\n\t2264477634205654134 [label=\"NDArray.__getitem__\" id=2264477634205654134]\n\t2264477634205654134 -> 6869289972660339569 [id=\"2264477634205654134.args[0]\"]\n\t6869289972660339569 [label=\"Pair.left\" id=6869289972660339569]\n\t6869289972660339569 -> -1567811318780057522 [id=\"6869289972660339569.args[0]\"]\n\t2264477634205654134 -> -5066980431023388391 [id=\"2264477634205654134.args[1]\"]\n\t-5066980431023388391 [label=\"Pair.right\" id=-5066980431023388391]\n\t-5066980431023388391 -> -1567811318780057522 [id=\"-5066980431023388391.args[0]\"]\n}",
         "label": null,
         "rule": "metadsl_core.abstraction.beta_reduce"
        },
        {
         "graph": "digraph {\n\tnode [shape=plain]\n\tedge [arrowsize=0.5 penwidth=0.5]\n\t-3920676090234507581 [label=\"NDArrayCompat.to_ndarray\" id=-5281961658848897139]\n\t-3920676090234507581 -> 7783357475922552301 [id=\"-5281961658848897139.args[0]\"]\n\t7783357475922552301 [label=\"NDArrayCompat.from_ndarray\" id=-9177130969686516551]\n\t7783357475922552301 -> -3549436566379303328 [id=\"-9177130969686516551.args[0]\"]\n\t-3549436566379303328 [label=\"Maybe.match\" id=-2178932975760294384]\n\t-3549436566379303328 -> 8820645040028002131 [id=\"-2178932975760294384.args[0]\"]\n\t8820645040028002131 [label=\"Maybe.__and__\" id=5105228348163832661]\n\t8820645040028002131 -> 3464842294167772706 [id=\"5105228348163832661.args[0]\"]\n\t3464842294167772706 [label=\"Converter.convert\" id=3738807663539962808]\n\t3464842294167772706 -> 8824695112797766569 [id=\"3738807663539962808.args[0]\"]\n\t8824695112797766569 [label=\"NDArrayCompat.__add__\" id=-5928052358113968640]\n\t8824695112797766569 -> -1396724190485083222 [id=\"-5928052358113968640.args[0]\"]\n\t-1396724190485083222 [label=\"NDArrayCompat.from_ndarray\" id=-2224020701084858300]\n\t-1396724190485083222 -> 1475979828097991852 [id=\"-2224020701084858300.args[0]\"]\n\t1475979828097991852 [label=\"Abstraction.__call__\" id=-6880367450692664388]\n\t1475979828097991852 -> -2111247561356716541 [id=\"-6880367450692664388.args[0]\"]\n\t-2111247561356716541 [label=\"Abstraction.create\" id=7417534677030413501]\n\t-2111247561356716541 -> -1852894578847174519 [id=\"7417534677030413501.args[0]\"]\n\t-1852894578847174519 [label=\"Abstraction.create_variable\" id=-1852894578847174519]\n\t-1852894578847174519 -> 782204650207441520 [id=\"-1852894578847174519.args[0]\"]\n\t782204650207441520 [label=\"Variable(4532693648)\" id=782204650207441520]\n\t-2111247561356716541 -> 8345780857840190825 [id=\"7417534677030413501.args[1]\"]\n\t8345780857840190825 [label=\"Maybe.just\" id=8345780857840190825]\n\t8345780857840190825 -> 3306699016847434562 [id=\"8345780857840190825.args[0]\"]\n\t3306699016847434562 [label=arange_ id=3306699016847434562]\n\t3306699016847434562 -> -1852894578847174519 [id=\"3306699016847434562.args[0]\"]\n\t1475979828097991852 -> -3131809300698277100 [id=\"-6880367450692664388.args[1]\"]\n\t-3131809300698277100 [label=\"Integer.from_int\" id=-3131809300698277100]\n\t-3131809300698277100 -> 7929563447225870375 [id=\"-3131809300698277100.args[0]\"]\n\t7929563447225870375 [label=100 id=6695801540915528909]\n\t8824695112797766569 -> 538172979487181565 [id=\"-5928052358113968640.args[1]\"]\n\t538172979487181565 [label=\"NDArrayCompat.from_ndarray\" id=-2224020701084858300]\n\t538172979487181565 -> 8522449151473608332 [id=\"-2224020701084858300.args[0]\"]\n\t8522449151473608332 [label=\"Maybe.just\" id=-6880367450692664388]\n\t8522449151473608332 -> 5668266280651108832 [id=\"-6880367450692664388.args[0]\"]\n\t5668266280651108832 [label=arange_ id=5668266280651108832]\n\t5668266280651108832 -> -3131809300698277100 [id=\"5668266280651108832.args[0]\"]\n\t8820645040028002131 -> 8955685588577225007 [id=\"5105228348163832661.args[1]\"]\n\t8955685588577225007 [label=\"Maybe.just\" id=7168750140140484019]\n\t8955685588577225007 -> 3438482133718761997 [id=\"7168750140140484019.args[0]\"]\n\t3438482133718761997 [label=\"Either.left\" id=3438482133718761997]\n\t3438482133718761997 -> -1448899694609174123 [id=\"3438482133718761997.args[0]\"]\n\t-1448899694609174123 [label=\"Integer.from_int\" id=-1448899694609174123]\n\t-1448899694609174123 -> 7929563447330875300 [id=\"-1448899694609174123.args[0]\"]\n\t7929563447330875300 [label=5 id=8368899336284295099]\n\t-3549436566379303328 -> 3904670649235592956 [id=\"-2178932975760294384.args[1]\"]\n\t3904670649235592956 [label=\"Maybe.nothing\" id=3904670649235592956]\n\t-3549436566379303328 -> -979998564141937302 [id=\"-2178932975760294384.args[2]\"]\n\t-979998564141937302 [label=\"Abstraction.create\" id=-979998564141937302]\n\t-979998564141937302 -> -1567811318780057522 [id=\"-979998564141937302.args[0]\"]\n\t-1567811318780057522 [label=\"Abstraction.create_variable\" id=-1567811318780057522]\n\t-1567811318780057522 -> 782204655928586145 [id=\"-1567811318780057522.args[0]\"]\n\t782204655928586145 [label=\"Variable(4532614368)\" id=782204655928586145]\n\t-979998564141937302 -> -4655842278390333752 [id=\"-979998564141937302.args[1]\"]\n\t-4655842278390333752 [label=\"Maybe.just\" id=-4655842278390333752]\n\t-4655842278390333752 -> 2264477634205654134 [id=\"-4655842278390333752.args[0]\"]\n\t2264477634205654134 [label=\"NDArray.__getitem__\" id=2264477634205654134]\n\t2264477634205654134 -> 6869289972660339569 [id=\"2264477634205654134.args[0]\"]\n\t6869289972660339569 [label=\"Pair.left\" id=6869289972660339569]\n\t6869289972660339569 -> -1567811318780057522 [id=\"6869289972660339569.args[0]\"]\n\t2264477634205654134 -> -5066980431023388391 [id=\"2264477634205654134.args[1]\"]\n\t-5066980431023388391 [label=\"Pair.right\" id=-5066980431023388391]\n\t-5066980431023388391 -> -1567811318780057522 [id=\"-5066980431023388391.args[0]\"]\n}",
         "label": null,
         "rule": "metadsl_core.abstraction.compose"
        },
        {
         "graph": "digraph {\n\tnode [shape=plain]\n\tedge [arrowsize=0.5 penwidth=0.5]\n\t1866713766725349270 [label=\"NDArrayCompat.to_ndarray\" id=-5281961658848897139]\n\t1866713766725349270 -> 3428731295290351088 [id=\"-5281961658848897139.args[0]\"]\n\t3428731295290351088 [label=\"NDArrayCompat.from_ndarray\" id=-9177130969686516551]\n\t3428731295290351088 -> -46570811318456514 [id=\"-9177130969686516551.args[0]\"]\n\t-46570811318456514 [label=\"Maybe.match\" id=-2178932975760294384]\n\t-46570811318456514 -> 2342498251596656547 [id=\"-2178932975760294384.args[0]\"]\n\t2342498251596656547 [label=\"Maybe.__and__\" id=5105228348163832661]\n\t2342498251596656547 -> 7475225506484376816 [id=\"5105228348163832661.args[0]\"]\n\t7475225506484376816 [label=\"Converter.convert\" id=3738807663539962808]\n\t7475225506484376816 -> -2148437186735635834 [id=\"3738807663539962808.args[0]\"]\n\t-2148437186735635834 [label=\"NDArrayCompat.__add__\" id=-5928052358113968640]\n\t-2148437186735635834 -> 538172979487181565 [id=\"-5928052358113968640.args[0]\"]\n\t538172979487181565 [label=\"NDArrayCompat.from_ndarray\" id=-2224020701084858300]\n\t538172979487181565 -> 8522449151473608332 [id=\"-2224020701084858300.args[0]\"]\n\t8522449151473608332 [label=\"Maybe.just\" id=-6880367450692664388]\n\t8522449151473608332 -> 5668266280651108832 [id=\"-6880367450692664388.args[0]\"]\n\t5668266280651108832 [label=arange_ id=5668266280651108832]\n\t5668266280651108832 -> -3131809300698277100 [id=\"5668266280651108832.args[0]\"]\n\t-3131809300698277100 [label=\"Integer.from_int\" id=-3131809300698277100]\n\t-3131809300698277100 -> 7929563447225870375 [id=\"-3131809300698277100.args[0]\"]\n\t7929563447225870375 [label=100 id=6695801540915528909]\n\t-2148437186735635834 -> 538172979487181565 [id=\"-5928052358113968640.args[1]\"]\n\t2342498251596656547 -> 8955685588577225007 [id=\"5105228348163832661.args[1]\"]\n\t8955685588577225007 [label=\"Maybe.just\" id=7168750140140484019]\n\t8955685588577225007 -> 3438482133718761997 [id=\"7168750140140484019.args[0]\"]\n\t3438482133718761997 [label=\"Either.left\" id=3438482133718761997]\n\t3438482133718761997 -> -1448899694609174123 [id=\"3438482133718761997.args[0]\"]\n\t-1448899694609174123 [label=\"Integer.from_int\" id=-1448899694609174123]\n\t-1448899694609174123 -> 7929563447330875300 [id=\"-1448899694609174123.args[0]\"]\n\t7929563447330875300 [label=5 id=8368899336284295099]\n\t-46570811318456514 -> 3904670649235592956 [id=\"-2178932975760294384.args[1]\"]\n\t3904670649235592956 [label=\"Maybe.nothing\" id=3904670649235592956]\n\t-46570811318456514 -> -979998564141937302 [id=\"-2178932975760294384.args[2]\"]\n\t-979998564141937302 [label=\"Abstraction.create\" id=-979998564141937302]\n\t-979998564141937302 -> -1567811318780057522 [id=\"-979998564141937302.args[0]\"]\n\t-1567811318780057522 [label=\"Abstraction.create_variable\" id=-1567811318780057522]\n\t-1567811318780057522 -> 782204655928586145 [id=\"-1567811318780057522.args[0]\"]\n\t782204655928586145 [label=\"Variable(4532614368)\" id=782204655928586145]\n\t-979998564141937302 -> -4655842278390333752 [id=\"-979998564141937302.args[1]\"]\n\t-4655842278390333752 [label=\"Maybe.just\" id=-4655842278390333752]\n\t-4655842278390333752 -> 2264477634205654134 [id=\"-4655842278390333752.args[0]\"]\n\t2264477634205654134 [label=\"NDArray.__getitem__\" id=2264477634205654134]\n\t2264477634205654134 -> 6869289972660339569 [id=\"2264477634205654134.args[0]\"]\n\t6869289972660339569 [label=\"Pair.left\" id=6869289972660339569]\n\t6869289972660339569 -> -1567811318780057522 [id=\"6869289972660339569.args[0]\"]\n\t2264477634205654134 -> -5066980431023388391 [id=\"2264477634205654134.args[1]\"]\n\t-5066980431023388391 [label=\"Pair.right\" id=-5066980431023388391]\n\t-5066980431023388391 -> -1567811318780057522 [id=\"-5066980431023388391.args[0]\"]\n}",
         "label": null,
         "rule": "metadsl_core.abstraction.beta_reduce"
        },
        {
         "graph": "digraph {\n\tnode [shape=plain]\n\tedge [arrowsize=0.5 penwidth=0.5]\n\t-1359712873627368165 [label=\"NDArrayCompat.to_ndarray\" id=-5281961658848897139]\n\t-1359712873627368165 -> -3942902063003924503 [id=\"-5281961658848897139.args[0]\"]\n\t-3942902063003924503 [label=\"NDArrayCompat.from_ndarray\" id=-9177130969686516551]\n\t-3942902063003924503 -> 963218007824931523 [id=\"-9177130969686516551.args[0]\"]\n\t963218007824931523 [label=\"Maybe.match\" id=-2178932975760294384]\n\t963218007824931523 -> -5384039155452932543 [id=\"-2178932975760294384.args[0]\"]\n\t-5384039155452932543 [label=\"Maybe.__and__\" id=5105228348163832661]\n\t-5384039155452932543 -> -3044042026182915790 [id=\"5105228348163832661.args[0]\"]\n\t-3044042026182915790 [label=\"Converter.convert\" id=3738807663539962808]\n\t-3044042026182915790 -> 7411810815739975417 [id=\"3738807663539962808.args[0]\"]\n\t7411810815739975417 [label=\"NDArrayCompat.from_ndarray\" id=-5928052358113968640]\n\t7411810815739975417 -> 8225854957596729840 [id=\"-5928052358113968640.args[0]\"]\n\t8225854957596729840 [label=\"Maybe.just\" id=3738807663539962808]\n\t8225854957596729840 -> -3411503716089640314 [id=\"3738807663539962808.args[0]\"]\n\t-3411503716089640314 [label=\"NDArray.__add__\" id=-3411503716089640314]\n\t-3411503716089640314 -> 5668266280651108832 [id=\"-3411503716089640314.args[0]\"]\n\t5668266280651108832 [label=arange_ id=5668266280651108832]\n\t5668266280651108832 -> -3131809300698277100 [id=\"5668266280651108832.args[0]\"]\n\t-3131809300698277100 [label=\"Integer.from_int\" id=-3131809300698277100]\n\t-3131809300698277100 -> 7929563447225870375 [id=\"-3131809300698277100.args[0]\"]\n\t7929563447225870375 [label=100 id=6695801540915528909]\n\t-3411503716089640314 -> 5668266280651108832 [id=\"-3411503716089640314.args[1]\"]\n\t-5384039155452932543 -> 8955685588577225007 [id=\"5105228348163832661.args[1]\"]\n\t8955685588577225007 [label=\"Maybe.just\" id=7168750140140484019]\n\t8955685588577225007 -> 3438482133718761997 [id=\"7168750140140484019.args[0]\"]\n\t3438482133718761997 [label=\"Either.left\" id=3438482133718761997]\n\t3438482133718761997 -> -1448899694609174123 [id=\"3438482133718761997.args[0]\"]\n\t-1448899694609174123 [label=\"Integer.from_int\" id=-1448899694609174123]\n\t-1448899694609174123 -> 7929563447330875300 [id=\"-1448899694609174123.args[0]\"]\n\t7929563447330875300 [label=5 id=8368899336284295099]\n\t963218007824931523 -> 3904670649235592956 [id=\"-2178932975760294384.args[1]\"]\n\t3904670649235592956 [label=\"Maybe.nothing\" id=3904670649235592956]\n\t963218007824931523 -> -979998564141937302 [id=\"-2178932975760294384.args[2]\"]\n\t-979998564141937302 [label=\"Abstraction.create\" id=-979998564141937302]\n\t-979998564141937302 -> -1567811318780057522 [id=\"-979998564141937302.args[0]\"]\n\t-1567811318780057522 [label=\"Abstraction.create_variable\" id=-1567811318780057522]\n\t-1567811318780057522 -> 782204655928586145 [id=\"-1567811318780057522.args[0]\"]\n\t782204655928586145 [label=\"Variable(4532614368)\" id=782204655928586145]\n\t-979998564141937302 -> -4655842278390333752 [id=\"-979998564141937302.args[1]\"]\n\t-4655842278390333752 [label=\"Maybe.just\" id=-4655842278390333752]\n\t-4655842278390333752 -> 2264477634205654134 [id=\"-4655842278390333752.args[0]\"]\n\t2264477634205654134 [label=\"NDArray.__getitem__\" id=2264477634205654134]\n\t2264477634205654134 -> 6869289972660339569 [id=\"2264477634205654134.args[0]\"]\n\t6869289972660339569 [label=\"Pair.left\" id=6869289972660339569]\n\t6869289972660339569 -> -1567811318780057522 [id=\"6869289972660339569.args[0]\"]\n\t2264477634205654134 -> -5066980431023388391 [id=\"2264477634205654134.args[1]\"]\n\t-5066980431023388391 [label=\"Pair.right\" id=-5066980431023388391]\n\t-5066980431023388391 -> -1567811318780057522 [id=\"-5066980431023388391.args[0]\"]\n}",
         "label": null,
         "rule": "metadsl_core.numpy.add_compat"
        },
        {
         "graph": "digraph {\n\tnode [shape=plain]\n\tedge [arrowsize=0.5 penwidth=0.5]\n\t4659314994779263334 [label=\"NDArrayCompat.to_ndarray\" id=-5281961658848897139]\n\t4659314994779263334 -> 512113888617637249 [id=\"-5281961658848897139.args[0]\"]\n\t512113888617637249 [label=\"NDArrayCompat.from_ndarray\" id=-9177130969686516551]\n\t512113888617637249 -> -8069525802279093698 [id=\"-9177130969686516551.args[0]\"]\n\t-8069525802279093698 [label=\"Maybe.match\" id=-2178932975760294384]\n\t-8069525802279093698 -> 3276076990700150435 [id=\"-2178932975760294384.args[0]\"]\n\t3276076990700150435 [label=\"Maybe.__and__\" id=5105228348163832661]\n\t3276076990700150435 -> 8225854957596729840 [id=\"5105228348163832661.args[0]\"]\n\t8225854957596729840 [label=\"Maybe.just\" id=3738807663539962808]\n\t8225854957596729840 -> -3411503716089640314 [id=\"3738807663539962808.args[0]\"]\n\t-3411503716089640314 [label=\"NDArray.__add__\" id=-3411503716089640314]\n\t-3411503716089640314 -> 5668266280651108832 [id=\"-3411503716089640314.args[0]\"]\n\t5668266280651108832 [label=arange_ id=5668266280651108832]\n\t5668266280651108832 -> -3131809300698277100 [id=\"5668266280651108832.args[0]\"]\n\t-3131809300698277100 [label=\"Integer.from_int\" id=-3131809300698277100]\n\t-3131809300698277100 -> 7929563447225870375 [id=\"-3131809300698277100.args[0]\"]\n\t7929563447225870375 [label=100 id=6695801540915528909]\n\t-3411503716089640314 -> 5668266280651108832 [id=\"-3411503716089640314.args[1]\"]\n\t3276076990700150435 -> 8955685588577225007 [id=\"5105228348163832661.args[1]\"]\n\t8955685588577225007 [label=\"Maybe.just\" id=7168750140140484019]\n\t8955685588577225007 -> 3438482133718761997 [id=\"7168750140140484019.args[0]\"]\n\t3438482133718761997 [label=\"Either.left\" id=3438482133718761997]\n\t3438482133718761997 -> -1448899694609174123 [id=\"3438482133718761997.args[0]\"]\n\t-1448899694609174123 [label=\"Integer.from_int\" id=-1448899694609174123]\n\t-1448899694609174123 -> 7929563447330875300 [id=\"-1448899694609174123.args[0]\"]\n\t7929563447330875300 [label=5 id=8368899336284295099]\n\t-8069525802279093698 -> 3904670649235592956 [id=\"-2178932975760294384.args[1]\"]\n\t3904670649235592956 [label=\"Maybe.nothing\" id=3904670649235592956]\n\t-8069525802279093698 -> -979998564141937302 [id=\"-2178932975760294384.args[2]\"]\n\t-979998564141937302 [label=\"Abstraction.create\" id=-979998564141937302]\n\t-979998564141937302 -> -1567811318780057522 [id=\"-979998564141937302.args[0]\"]\n\t-1567811318780057522 [label=\"Abstraction.create_variable\" id=-1567811318780057522]\n\t-1567811318780057522 -> 782204655928586145 [id=\"-1567811318780057522.args[0]\"]\n\t782204655928586145 [label=\"Variable(4532614368)\" id=782204655928586145]\n\t-979998564141937302 -> -4655842278390333752 [id=\"-979998564141937302.args[1]\"]\n\t-4655842278390333752 [label=\"Maybe.just\" id=-4655842278390333752]\n\t-4655842278390333752 -> 2264477634205654134 [id=\"-4655842278390333752.args[0]\"]\n\t2264477634205654134 [label=\"NDArray.__getitem__\" id=2264477634205654134]\n\t2264477634205654134 -> 6869289972660339569 [id=\"2264477634205654134.args[0]\"]\n\t6869289972660339569 [label=\"Pair.left\" id=6869289972660339569]\n\t6869289972660339569 -> -1567811318780057522 [id=\"6869289972660339569.args[0]\"]\n\t2264477634205654134 -> -5066980431023388391 [id=\"2264477634205654134.args[1]\"]\n\t-5066980431023388391 [label=\"Pair.right\" id=-5066980431023388391]\n\t-5066980431023388391 -> -1567811318780057522 [id=\"-5066980431023388391.args[0]\"]\n}",
         "label": null,
         "rule": "metadsl_core.numpy.convert_to_ndarray"
        },
        {
         "graph": "digraph {\n\tnode [shape=plain]\n\tedge [arrowsize=0.5 penwidth=0.5]\n\t4357491119790259636 [label=\"NDArrayCompat.to_ndarray\" id=-5281961658848897139]\n\t4357491119790259636 -> -4063692649573402404 [id=\"-5281961658848897139.args[0]\"]\n\t-4063692649573402404 [label=\"NDArrayCompat.from_ndarray\" id=-9177130969686516551]\n\t-4063692649573402404 -> -3456717881889549357 [id=\"-9177130969686516551.args[0]\"]\n\t-3456717881889549357 [label=\"Maybe.match\" id=-2178932975760294384]\n\t-3456717881889549357 -> -3022580817830158000 [id=\"-2178932975760294384.args[0]\"]\n\t-3022580817830158000 [label=\"Maybe.just\" id=5105228348163832661]\n\t-3022580817830158000 -> 3281441242190016612 [id=\"5105228348163832661.args[0]\"]\n\t3281441242190016612 [label=\"Pair.create\" id=3281441242190016612]\n\t3281441242190016612 -> -3411503716089640314 [id=\"3281441242190016612.args[0]\"]\n\t-3411503716089640314 [label=\"NDArray.__add__\" id=-3411503716089640314]\n\t-3411503716089640314 -> 5668266280651108832 [id=\"-3411503716089640314.args[0]\"]\n\t5668266280651108832 [label=arange_ id=5668266280651108832]\n\t5668266280651108832 -> -3131809300698277100 [id=\"5668266280651108832.args[0]\"]\n\t-3131809300698277100 [label=\"Integer.from_int\" id=-3131809300698277100]\n\t-3131809300698277100 -> 7929563447225870375 [id=\"-3131809300698277100.args[0]\"]\n\t7929563447225870375 [label=100 id=6695801540915528909]\n\t-3411503716089640314 -> 5668266280651108832 [id=\"-3411503716089640314.args[1]\"]\n\t3281441242190016612 -> 3438482133718761997 [id=\"3281441242190016612.args[1]\"]\n\t3438482133718761997 [label=\"Either.left\" id=3438482133718761997]\n\t3438482133718761997 -> -1448899694609174123 [id=\"3438482133718761997.args[0]\"]\n\t-1448899694609174123 [label=\"Integer.from_int\" id=-1448899694609174123]\n\t-1448899694609174123 -> 7929563447330875300 [id=\"-1448899694609174123.args[0]\"]\n\t7929563447330875300 [label=5 id=8368899336284295099]\n\t-3456717881889549357 -> 3904670649235592956 [id=\"-2178932975760294384.args[1]\"]\n\t3904670649235592956 [label=\"Maybe.nothing\" id=3904670649235592956]\n\t-3456717881889549357 -> -979998564141937302 [id=\"-2178932975760294384.args[2]\"]\n\t-979998564141937302 [label=\"Abstraction.create\" id=-979998564141937302]\n\t-979998564141937302 -> -1567811318780057522 [id=\"-979998564141937302.args[0]\"]\n\t-1567811318780057522 [label=\"Abstraction.create_variable\" id=-1567811318780057522]\n\t-1567811318780057522 -> 782204655928586145 [id=\"-1567811318780057522.args[0]\"]\n\t782204655928586145 [label=\"Variable(4532614368)\" id=782204655928586145]\n\t-979998564141937302 -> -4655842278390333752 [id=\"-979998564141937302.args[1]\"]\n\t-4655842278390333752 [label=\"Maybe.just\" id=-4655842278390333752]\n\t-4655842278390333752 -> 2264477634205654134 [id=\"-4655842278390333752.args[0]\"]\n\t2264477634205654134 [label=\"NDArray.__getitem__\" id=2264477634205654134]\n\t2264477634205654134 -> 6869289972660339569 [id=\"2264477634205654134.args[0]\"]\n\t6869289972660339569 [label=\"Pair.left\" id=6869289972660339569]\n\t6869289972660339569 -> -1567811318780057522 [id=\"6869289972660339569.args[0]\"]\n\t2264477634205654134 -> -5066980431023388391 [id=\"2264477634205654134.args[1]\"]\n\t-5066980431023388391 [label=\"Pair.right\" id=-5066980431023388391]\n\t-5066980431023388391 -> -1567811318780057522 [id=\"-5066980431023388391.args[0]\"]\n}",
         "label": null,
         "rule": "metadsl_core.maybe.maybe_and"
        },
        {
         "graph": "digraph {\n\tnode [shape=plain]\n\tedge [arrowsize=0.5 penwidth=0.5]\n\t-5681086482397369699 [label=\"NDArrayCompat.to_ndarray\" id=-5281961658848897139]\n\t-5681086482397369699 -> -5837188023904175992 [id=\"-5281961658848897139.args[0]\"]\n\t-5837188023904175992 [label=\"NDArrayCompat.from_ndarray\" id=-9177130969686516551]\n\t-5837188023904175992 -> 3928979941275204021 [id=\"-9177130969686516551.args[0]\"]\n\t3928979941275204021 [label=\"Abstraction.__call__\" id=-2178932975760294384]\n\t3928979941275204021 -> -979998564141937302 [id=\"-2178932975760294384.args[0]\"]\n\t-979998564141937302 [label=\"Abstraction.create\" id=-979998564141937302]\n\t-979998564141937302 -> -1567811318780057522 [id=\"-979998564141937302.args[0]\"]\n\t-1567811318780057522 [label=\"Abstraction.create_variable\" id=-1567811318780057522]\n\t-1567811318780057522 -> 782204655928586145 [id=\"-1567811318780057522.args[0]\"]\n\t782204655928586145 [label=\"Variable(4532614368)\" id=782204655928586145]\n\t-979998564141937302 -> -4655842278390333752 [id=\"-979998564141937302.args[1]\"]\n\t-4655842278390333752 [label=\"Maybe.just\" id=-4655842278390333752]\n\t-4655842278390333752 -> 2264477634205654134 [id=\"-4655842278390333752.args[0]\"]\n\t2264477634205654134 [label=\"NDArray.__getitem__\" id=2264477634205654134]\n\t2264477634205654134 -> 6869289972660339569 [id=\"2264477634205654134.args[0]\"]\n\t6869289972660339569 [label=\"Pair.left\" id=6869289972660339569]\n\t6869289972660339569 -> -1567811318780057522 [id=\"6869289972660339569.args[0]\"]\n\t2264477634205654134 -> -5066980431023388391 [id=\"2264477634205654134.args[1]\"]\n\t-5066980431023388391 [label=\"Pair.right\" id=-5066980431023388391]\n\t-5066980431023388391 -> -1567811318780057522 [id=\"-5066980431023388391.args[0]\"]\n\t3928979941275204021 -> 3281441242190016612 [id=\"-2178932975760294384.args[1]\"]\n\t3281441242190016612 [label=\"Pair.create\" id=3281441242190016612]\n\t3281441242190016612 -> -3411503716089640314 [id=\"3281441242190016612.args[0]\"]\n\t-3411503716089640314 [label=\"NDArray.__add__\" id=-3411503716089640314]\n\t-3411503716089640314 -> 5668266280651108832 [id=\"-3411503716089640314.args[0]\"]\n\t5668266280651108832 [label=arange_ id=5668266280651108832]\n\t5668266280651108832 -> -3131809300698277100 [id=\"5668266280651108832.args[0]\"]\n\t-3131809300698277100 [label=\"Integer.from_int\" id=-3131809300698277100]\n\t-3131809300698277100 -> 7929563447225870375 [id=\"-3131809300698277100.args[0]\"]\n\t7929563447225870375 [label=100 id=6695801540915528909]\n\t-3411503716089640314 -> 5668266280651108832 [id=\"-3411503716089640314.args[1]\"]\n\t3281441242190016612 -> 3438482133718761997 [id=\"3281441242190016612.args[1]\"]\n\t3438482133718761997 [label=\"Either.left\" id=3438482133718761997]\n\t3438482133718761997 -> -1448899694609174123 [id=\"3438482133718761997.args[0]\"]\n\t-1448899694609174123 [label=\"Integer.from_int\" id=-1448899694609174123]\n\t-1448899694609174123 -> 7929563447330875300 [id=\"-1448899694609174123.args[0]\"]\n\t7929563447330875300 [label=5 id=8368899336284295099]\n}",
         "label": null,
         "rule": "metadsl_core.maybe.maybe_match"
        },
        {
         "graph": "digraph {\n\tnode [shape=plain]\n\tedge [arrowsize=0.5 penwidth=0.5]\n\t-7442556872907999520 [label=\"NDArrayCompat.to_ndarray\" id=-5281961658848897139]\n\t-7442556872907999520 -> 7604809585525828148 [id=\"-5281961658848897139.args[0]\"]\n\t7604809585525828148 [label=\"NDArrayCompat.from_ndarray\" id=-9177130969686516551]\n\t7604809585525828148 -> 7576600612786205063 [id=\"-9177130969686516551.args[0]\"]\n\t7576600612786205063 [label=\"Maybe.just\" id=-2178932975760294384]\n\t7576600612786205063 -> 1706398612661724173 [id=\"-2178932975760294384.args[0]\"]\n\t1706398612661724173 [label=\"NDArray.__getitem__\" id=1706398612661724173]\n\t1706398612661724173 -> 5755504588054598894 [id=\"1706398612661724173.args[0]\"]\n\t5755504588054598894 [label=\"Pair.left\" id=5755504588054598894]\n\t5755504588054598894 -> 3281441242190016612 [id=\"5755504588054598894.args[0]\"]\n\t3281441242190016612 [label=\"Pair.create\" id=3281441242190016612]\n\t3281441242190016612 -> -3411503716089640314 [id=\"3281441242190016612.args[0]\"]\n\t-3411503716089640314 [label=\"NDArray.__add__\" id=-3411503716089640314]\n\t-3411503716089640314 -> 5668266280651108832 [id=\"-3411503716089640314.args[0]\"]\n\t5668266280651108832 [label=arange_ id=5668266280651108832]\n\t5668266280651108832 -> -3131809300698277100 [id=\"5668266280651108832.args[0]\"]\n\t-3131809300698277100 [label=\"Integer.from_int\" id=-3131809300698277100]\n\t-3131809300698277100 -> 7929563447225870375 [id=\"-3131809300698277100.args[0]\"]\n\t7929563447225870375 [label=100 id=6695801540915528909]\n\t-3411503716089640314 -> 5668266280651108832 [id=\"-3411503716089640314.args[1]\"]\n\t3281441242190016612 -> 3438482133718761997 [id=\"3281441242190016612.args[1]\"]\n\t3438482133718761997 [label=\"Either.left\" id=3438482133718761997]\n\t3438482133718761997 -> -1448899694609174123 [id=\"3438482133718761997.args[0]\"]\n\t-1448899694609174123 [label=\"Integer.from_int\" id=-1448899694609174123]\n\t-1448899694609174123 -> 7929563447330875300 [id=\"-1448899694609174123.args[0]\"]\n\t7929563447330875300 [label=5 id=8368899336284295099]\n\t1706398612661724173 -> -7696148307407477498 [id=\"1706398612661724173.args[1]\"]\n\t-7696148307407477498 [label=\"Pair.right\" id=-7696148307407477498]\n\t-7696148307407477498 -> 3281441242190016612 [id=\"-7696148307407477498.args[0]\"]\n}",
         "label": null,
         "rule": "metadsl_core.abstraction.beta_reduce"
        },
        {
         "graph": "digraph {\n\tnode [shape=plain]\n\tedge [arrowsize=0.5 penwidth=0.5]\n\t3497394292135972729 [label=\"NDArrayCompat.to_ndarray\" id=-5281961658848897139]\n\t3497394292135972729 -> 8145083593342055103 [id=\"-5281961658848897139.args[0]\"]\n\t8145083593342055103 [label=\"NDArrayCompat.from_ndarray\" id=-9177130969686516551]\n\t8145083593342055103 -> -8020584022532179864 [id=\"-9177130969686516551.args[0]\"]\n\t-8020584022532179864 [label=\"Maybe.just\" id=-2178932975760294384]\n\t-8020584022532179864 -> 1510050165098996054 [id=\"-2178932975760294384.args[0]\"]\n\t1510050165098996054 [label=\"NDArray.__getitem__\" id=1706398612661724173]\n\t1510050165098996054 -> 5755504588054598894 [id=\"1706398612661724173.args[0]\"]\n\t5755504588054598894 [label=\"Pair.left\" id=5755504588054598894]\n\t5755504588054598894 -> 3281441242190016612 [id=\"5755504588054598894.args[0]\"]\n\t3281441242190016612 [label=\"Pair.create\" id=3281441242190016612]\n\t3281441242190016612 -> -3411503716089640314 [id=\"3281441242190016612.args[0]\"]\n\t-3411503716089640314 [label=\"NDArray.__add__\" id=-3411503716089640314]\n\t-3411503716089640314 -> 5668266280651108832 [id=\"-3411503716089640314.args[0]\"]\n\t5668266280651108832 [label=arange_ id=5668266280651108832]\n\t5668266280651108832 -> -3131809300698277100 [id=\"5668266280651108832.args[0]\"]\n\t-3131809300698277100 [label=\"Integer.from_int\" id=-3131809300698277100]\n\t-3131809300698277100 -> 7929563447225870375 [id=\"-3131809300698277100.args[0]\"]\n\t7929563447225870375 [label=100 id=6695801540915528909]\n\t-3411503716089640314 -> 5668266280651108832 [id=\"-3411503716089640314.args[1]\"]\n\t3281441242190016612 -> 3438482133718761997 [id=\"3281441242190016612.args[1]\"]\n\t3438482133718761997 [label=\"Either.left\" id=3438482133718761997]\n\t3438482133718761997 -> -1448899694609174123 [id=\"3438482133718761997.args[0]\"]\n\t-1448899694609174123 [label=\"Integer.from_int\" id=-1448899694609174123]\n\t-1448899694609174123 -> 7929563447330875300 [id=\"-1448899694609174123.args[0]\"]\n\t7929563447330875300 [label=5 id=8368899336284295099]\n\t1510050165098996054 -> 3438482133718761997 [id=\"1706398612661724173.args[1]\"]\n}",
         "label": null,
         "rule": "metadsl_core.pair.pair_right"
        },
        {
         "graph": "digraph {\n\tnode [shape=plain]\n\tedge [arrowsize=0.5 penwidth=0.5]\n\t7892748191390383189 [label=\"NDArrayCompat.to_ndarray\" id=-5281961658848897139]\n\t7892748191390383189 -> -2407715966420202401 [id=\"-5281961658848897139.args[0]\"]\n\t-2407715966420202401 [label=\"NDArrayCompat.from_ndarray\" id=-9177130969686516551]\n\t-2407715966420202401 -> 232939652242167621 [id=\"-9177130969686516551.args[0]\"]\n\t232939652242167621 [label=\"Maybe.just\" id=-2178932975760294384]\n\t232939652242167621 -> 167139333153174711 [id=\"-2178932975760294384.args[0]\"]\n\t167139333153174711 [label=\"NDArray.__getitem__\" id=167139333153174711]\n\t167139333153174711 -> -3411503716089640314 [id=\"167139333153174711.args[0]\"]\n\t-3411503716089640314 [label=\"NDArray.__add__\" id=-3411503716089640314]\n\t-3411503716089640314 -> 5668266280651108832 [id=\"-3411503716089640314.args[0]\"]\n\t5668266280651108832 [label=arange_ id=5668266280651108832]\n\t5668266280651108832 -> -3131809300698277100 [id=\"5668266280651108832.args[0]\"]\n\t-3131809300698277100 [label=\"Integer.from_int\" id=-3131809300698277100]\n\t-3131809300698277100 -> 7929563447225870375 [id=\"-3131809300698277100.args[0]\"]\n\t7929563447225870375 [label=100 id=6695801540915528909]\n\t-3411503716089640314 -> 5668266280651108832 [id=\"-3411503716089640314.args[1]\"]\n\t167139333153174711 -> 3438482133718761997 [id=\"167139333153174711.args[1]\"]\n\t3438482133718761997 [label=\"Either.left\" id=3438482133718761997]\n\t3438482133718761997 -> -1448899694609174123 [id=\"3438482133718761997.args[0]\"]\n\t-1448899694609174123 [label=\"Integer.from_int\" id=-1448899694609174123]\n\t-1448899694609174123 -> 7929563447330875300 [id=\"-1448899694609174123.args[0]\"]\n\t7929563447330875300 [label=5 id=8368899336284295099]\n}",
         "label": null,
         "rule": "metadsl_core.pair.pair_left"
        },
        {
         "graph": "digraph {\n\tnode [shape=plain]\n\tedge [arrowsize=0.5 penwidth=0.5]\n\t7892748191390383189 [label=\"NDArrayCompat.to_ndarray\" id=-5281961658848897139]\n\t7892748191390383189 -> -2407715966420202401 [id=\"-5281961658848897139.args[0]\"]\n\t-2407715966420202401 [label=\"NDArrayCompat.from_ndarray\" id=-9177130969686516551]\n\t-2407715966420202401 -> 232939652242167621 [id=\"-9177130969686516551.args[0]\"]\n\t232939652242167621 [label=\"Maybe.just\" id=-2178932975760294384]\n\t232939652242167621 -> 167139333153174711 [id=\"-2178932975760294384.args[0]\"]\n\t167139333153174711 [label=\"NDArray.__getitem__\" id=167139333153174711]\n\t167139333153174711 -> -3411503716089640314 [id=\"167139333153174711.args[0]\"]\n\t-3411503716089640314 [label=\"NDArray.__add__\" id=-3411503716089640314]\n\t-3411503716089640314 -> 5668266280651108832 [id=\"-3411503716089640314.args[0]\"]\n\t5668266280651108832 [label=arange_ id=5668266280651108832]\n\t5668266280651108832 -> -3131809300698277100 [id=\"5668266280651108832.args[0]\"]\n\t-3131809300698277100 [label=\"Integer.from_int\" id=-3131809300698277100]\n\t-3131809300698277100 -> 7929563447225870375 [id=\"-3131809300698277100.args[0]\"]\n\t7929563447225870375 [label=100 id=6695801540915528909]\n\t-3411503716089640314 -> 5668266280651108832 [id=\"-3411503716089640314.args[1]\"]\n\t167139333153174711 -> 3438482133718761997 [id=\"167139333153174711.args[1]\"]\n\t3438482133718761997 [label=\"Either.left\" id=3438482133718761997]\n\t3438482133718761997 -> -1448899694609174123 [id=\"3438482133718761997.args[0]\"]\n\t-1448899694609174123 [label=\"Integer.from_int\" id=-1448899694609174123]\n\t-1448899694609174123 -> 7929563447330875300 [id=\"-1448899694609174123.args[0]\"]\n\t7929563447330875300 [label=5 id=8368899336284295099]\n}",
         "label": "convert",
         "rule": ""
        },
        {
         "graph": "digraph {\n\tnode [shape=plain]\n\tedge [arrowsize=0.5 penwidth=0.5]\n\t8319230915774641537 [label=\"NDArray.to_ndarray\" id=-5281961658848897139]\n\t8319230915774641537 -> 167139333153174711 [id=\"-5281961658848897139.args[0]\"]\n\t167139333153174711 [label=\"NDArray.__getitem__\" id=167139333153174711]\n\t167139333153174711 -> -3411503716089640314 [id=\"167139333153174711.args[0]\"]\n\t-3411503716089640314 [label=\"NDArray.__add__\" id=-3411503716089640314]\n\t-3411503716089640314 -> 5668266280651108832 [id=\"-3411503716089640314.args[0]\"]\n\t5668266280651108832 [label=arange_ id=5668266280651108832]\n\t5668266280651108832 -> -3131809300698277100 [id=\"5668266280651108832.args[0]\"]\n\t-3131809300698277100 [label=\"Integer.from_int\" id=-3131809300698277100]\n\t-3131809300698277100 -> 7929563447225870375 [id=\"-3131809300698277100.args[0]\"]\n\t7929563447225870375 [label=100 id=6695801540915528909]\n\t-3411503716089640314 -> 5668266280651108832 [id=\"-3411503716089640314.args[1]\"]\n\t167139333153174711 -> 3438482133718761997 [id=\"167139333153174711.args[1]\"]\n\t3438482133718761997 [label=\"Either.left\" id=3438482133718761997]\n\t3438482133718761997 -> -1448899694609174123 [id=\"3438482133718761997.args[0]\"]\n\t-1448899694609174123 [label=\"Integer.from_int\" id=-1448899694609174123]\n\t-1448899694609174123 -> 7929563447330875300 [id=\"-1448899694609174123.args[0]\"]\n\t7929563447330875300 [label=5 id=8368899336284295099]\n}",
         "label": null,
         "rule": "metadsl_core.numpy.box_unbox_ndarray_compat"
        },
        {
         "graph": "digraph {\n\tnode [shape=plain]\n\tedge [arrowsize=0.5 penwidth=0.5]\n\t-8049593370211554969 [label=ndarray_getitem id=-5281961658848897139]\n\t-8049593370211554969 -> -6051983548820151717 [id=\"-5281961658848897139.args[0]\"]\n\t-6051983548820151717 [label=\"NDArray.to_ndarray\" id=-6051983548820151717]\n\t-6051983548820151717 -> -3411503716089640314 [id=\"-6051983548820151717.args[0]\"]\n\t-3411503716089640314 [label=\"NDArray.__add__\" id=-3411503716089640314]\n\t-3411503716089640314 -> 5668266280651108832 [id=\"-3411503716089640314.args[0]\"]\n\t5668266280651108832 [label=arange_ id=5668266280651108832]\n\t5668266280651108832 -> -3131809300698277100 [id=\"5668266280651108832.args[0]\"]\n\t-3131809300698277100 [label=\"Integer.from_int\" id=-3131809300698277100]\n\t-3131809300698277100 -> 7929563447225870375 [id=\"-3131809300698277100.args[0]\"]\n\t7929563447225870375 [label=100 id=6695801540915528909]\n\t-3411503716089640314 -> 5668266280651108832 [id=\"-3411503716089640314.args[1]\"]\n\t-8049593370211554969 -> 8368899336284295099 [id=\"-5281961658848897139.args[1]\"]\n\t8368899336284295099 [label=unbox_idxs id=8368899336284295099]\n\t8368899336284295099 -> 3438482133718761997 [id=\"8368899336284295099.args[0]\"]\n\t3438482133718761997 [label=\"Either.left\" id=3438482133718761997]\n\t3438482133718761997 -> -1448899694609174123 [id=\"3438482133718761997.args[0]\"]\n\t-1448899694609174123 [label=\"Integer.from_int\" id=-1448899694609174123]\n\t-1448899694609174123 -> 7929563447330875300 [id=\"-1448899694609174123.args[0]\"]\n\t7929563447330875300 [label=5 id=8368899336284295099]\n}",
         "label": null,
         "rule": "metadsl_core.numpy_engine.unbox_ndarray_getitem"
        },
        {
         "graph": "digraph {\n\tnode [shape=plain]\n\tedge [arrowsize=0.5 penwidth=0.5]\n\t2323171471742117409 [label=ndarray_getitem id=-5281961658848897139]\n\t2323171471742117409 -> -6051983548820151717 [id=\"-5281961658848897139.args[0]\"]\n\t-6051983548820151717 [label=\"NDArray.to_ndarray\" id=-6051983548820151717]\n\t-6051983548820151717 -> -3411503716089640314 [id=\"-6051983548820151717.args[0]\"]\n\t-3411503716089640314 [label=\"NDArray.__add__\" id=-3411503716089640314]\n\t-3411503716089640314 -> 5668266280651108832 [id=\"-3411503716089640314.args[0]\"]\n\t5668266280651108832 [label=arange_ id=5668266280651108832]\n\t5668266280651108832 -> -3131809300698277100 [id=\"5668266280651108832.args[0]\"]\n\t-3131809300698277100 [label=\"Integer.from_int\" id=-3131809300698277100]\n\t-3131809300698277100 -> 7929563447225870375 [id=\"-3131809300698277100.args[0]\"]\n\t7929563447225870375 [label=100 id=6695801540915528909]\n\t-3411503716089640314 -> 5668266280651108832 [id=\"-3411503716089640314.args[1]\"]\n\t2323171471742117409 -> -8591904898952679221 [id=\"-5281961658848897139.args[1]\"]\n\t-8591904898952679221 [label=unbox_integer id=8368899336284295099]\n\t-8591904898952679221 -> -1448899694609174123 [id=\"8368899336284295099.args[0]\"]\n\t-1448899694609174123 [label=\"Integer.from_int\" id=-1448899694609174123]\n\t-1448899694609174123 -> 7929563447330875300 [id=\"-1448899694609174123.args[0]\"]\n\t7929563447330875300 [label=5 id=8368899336284295099]\n}",
         "label": null,
         "rule": "metadsl_core.numpy_engine.unbox_idxs_rule"
        },
        {
         "graph": "digraph {\n\tnode [shape=plain]\n\tedge [arrowsize=0.5 penwidth=0.5]\n\t-3299145903312756364 [label=ndarray_getitem id=-5281961658848897139]\n\t-3299145903312756364 -> -6051983548820151717 [id=\"-5281961658848897139.args[0]\"]\n\t-6051983548820151717 [label=\"NDArray.to_ndarray\" id=-6051983548820151717]\n\t-6051983548820151717 -> -3411503716089640314 [id=\"-6051983548820151717.args[0]\"]\n\t-3411503716089640314 [label=\"NDArray.__add__\" id=-3411503716089640314]\n\t-3411503716089640314 -> 5668266280651108832 [id=\"-3411503716089640314.args[0]\"]\n\t5668266280651108832 [label=arange_ id=5668266280651108832]\n\t5668266280651108832 -> -3131809300698277100 [id=\"5668266280651108832.args[0]\"]\n\t-3131809300698277100 [label=\"Integer.from_int\" id=-3131809300698277100]\n\t-3131809300698277100 -> 7929563447225870375 [id=\"-3131809300698277100.args[0]\"]\n\t7929563447225870375 [label=100 id=6695801540915528909]\n\t-3411503716089640314 -> 5668266280651108832 [id=\"-3411503716089640314.args[1]\"]\n\t-3299145903312756364 -> 7929563447330875300 [id=\"-5281961658848897139.args[1]\"]\n\t7929563447330875300 [label=5 id=8368899336284295099]\n}",
         "label": null,
         "rule": "metadsl_core.numpy_engine.unbox_integer_rule"
        },
        {
         "graph": "digraph {\n\tnode [shape=plain]\n\tedge [arrowsize=0.5 penwidth=0.5]\n\t-6010735612985633894 [label=ndarray_getitem id=-5281961658848897139]\n\t-6010735612985633894 -> -6546362162623416443 [id=\"-5281961658848897139.args[0]\"]\n\t-6546362162623416443 [label=ndarray_add id=-6051983548820151717]\n\t-6546362162623416443 -> 1478565890208829064 [id=\"-6051983548820151717.args[0]\"]\n\t1478565890208829064 [label=\"NDArray.to_ndarray\" id=1478565890208829064]\n\t1478565890208829064 -> 5668266280651108832 [id=\"1478565890208829064.args[0]\"]\n\t5668266280651108832 [label=arange_ id=5668266280651108832]\n\t5668266280651108832 -> -3131809300698277100 [id=\"5668266280651108832.args[0]\"]\n\t-3131809300698277100 [label=\"Integer.from_int\" id=-3131809300698277100]\n\t-3131809300698277100 -> 7929563447225870375 [id=\"-3131809300698277100.args[0]\"]\n\t7929563447225870375 [label=100 id=6695801540915528909]\n\t-6546362162623416443 -> 1478565890208829064 [id=\"-6051983548820151717.args[1]\"]\n\t-6010735612985633894 -> 7929563447330875300 [id=\"-5281961658848897139.args[1]\"]\n\t7929563447330875300 [label=5 id=8368899336284295099]\n}",
         "label": null,
         "rule": "metadsl_core.numpy_engine.unbox_ndarray_add"
        },
        {
         "graph": "digraph {\n\tnode [shape=plain]\n\tedge [arrowsize=0.5 penwidth=0.5]\n\t5986287749207772674 [label=ndarray_getitem id=-5281961658848897139]\n\t5986287749207772674 -> -1713706598553016229 [id=\"-5281961658848897139.args[0]\"]\n\t-1713706598553016229 [label=ndarray_add id=-6051983548820151717]\n\t-1713706598553016229 -> 1888482096358126515 [id=\"-6051983548820151717.args[0]\"]\n\t1888482096358126515 [label=arange id=1478565890208829064]\n\t1888482096358126515 -> 6695801540915528909 [id=\"1478565890208829064.args[0]\"]\n\t6695801540915528909 [label=unbox_integer id=6695801540915528909]\n\t6695801540915528909 -> -3131809300698277100 [id=\"6695801540915528909.args[0]\"]\n\t-3131809300698277100 [label=\"Integer.from_int\" id=-3131809300698277100]\n\t-3131809300698277100 -> 7929563447225870375 [id=\"-3131809300698277100.args[0]\"]\n\t7929563447225870375 [label=100 id=6695801540915528909]\n\t-1713706598553016229 -> 1888482096358126515 [id=\"-6051983548820151717.args[1]\"]\n\t5986287749207772674 -> 7929563447330875300 [id=\"-5281961658848897139.args[1]\"]\n\t7929563447330875300 [label=5 id=8368899336284295099]\n}",
         "label": null,
         "rule": "metadsl_core.numpy_engine.unbox_arange"
        },
        {
         "graph": "digraph {\n\tnode [shape=plain]\n\tedge [arrowsize=0.5 penwidth=0.5]\n\t-3884366925730321283 [label=ndarray_getitem id=-5281961658848897139]\n\t-3884366925730321283 -> -7066220164683785549 [id=\"-5281961658848897139.args[0]\"]\n\t-7066220164683785549 [label=ndarray_add id=-6051983548820151717]\n\t-7066220164683785549 -> -7172645340293335110 [id=\"-6051983548820151717.args[0]\"]\n\t-7172645340293335110 [label=arange id=1478565890208829064]\n\t-7172645340293335110 -> 7929563447225870375 [id=\"1478565890208829064.args[0]\"]\n\t7929563447225870375 [label=100 id=6695801540915528909]\n\t-7066220164683785549 -> -7172645340293335110 [id=\"-6051983548820151717.args[1]\"]\n\t-3884366925730321283 -> 7929563447330875300 [id=\"-5281961658848897139.args[1]\"]\n\t7929563447330875300 [label=5 id=8368899336284295099]\n}",
         "label": null,
         "rule": "metadsl_core.numpy_engine.unbox_integer_rule"
        },
        {
         "graph": "digraph {\n\tnode [shape=plain]\n\tedge [arrowsize=0.5 penwidth=0.5]\n\t-3884366925730321283 [label=ndarray_getitem id=-5281961658848897139]\n\t-3884366925730321283 -> -7066220164683785549 [id=\"-5281961658848897139.args[0]\"]\n\t-7066220164683785549 [label=ndarray_add id=-6051983548820151717]\n\t-7066220164683785549 -> -7172645340293335110 [id=\"-6051983548820151717.args[0]\"]\n\t-7172645340293335110 [label=arange id=1478565890208829064]\n\t-7172645340293335110 -> 7929563447225870375 [id=\"1478565890208829064.args[0]\"]\n\t7929563447225870375 [label=100 id=6695801540915528909]\n\t-7066220164683785549 -> -7172645340293335110 [id=\"-6051983548820151717.args[1]\"]\n\t-3884366925730321283 -> 7929563447330875300 [id=\"-5281961658848897139.args[1]\"]\n\t7929563447330875300 [label=5 id=8368899336284295099]\n}",
         "label": "unbox",
         "rule": ""
        },
        {
         "graph": "digraph {\n\tnode [shape=plain]\n\tedge [arrowsize=0.5 penwidth=0.5]\n\t8479516727914236203 [label=ndarray_getitem id=-5281961658848897139]\n\t8479516727914236203 -> -3114914308302251085 [id=\"-5281961658848897139.args[0]\"]\n\t-3114914308302251085 [label=ndarray_add id=-6051983548820151717]\n\t-3114914308302251085 -> 4681656730430286325 [id=\"-6051983548820151717.args[0]\"]\n\t4681656730430286325 [label=\"array([ 0,  1,  2,  3,  4,  5,  6,  7,  8,  9, 10, 11, 12, 13, 14, 15, 16,\n       17, 18, 19, 20, 21, 22, 23, 24, 25, 26, 27, 28, 29, 30, 31, 32, 33,\n       34, 35, 36, 37, 38, 39, 40, 41, 42, 43, 44, 45, 46, 47, 48, 49, 50,\n       51, 52, 53, 54, 55, 56, 57, 58, 59, 60, 61, 62, 63, 64, 65, 66, 67,\n       68, 69, 70, 71, 72, 73, 74, 75, 76, 77, 78, 79, 80, 81, 82, 83, 84,\n       85, 86, 87, 88, 89, 90, 91, 92, 93, 94, 95, 96, 97, 98, 99])\" id=1478565890208829064]\n\t-3114914308302251085 -> 4681656730430286325 [id=\"-6051983548820151717.args[1]\"]\n\t8479516727914236203 -> 7929563447330875300 [id=\"-5281961658848897139.args[1]\"]\n\t7929563447330875300 [label=5 id=8368899336284295099]\n}",
         "label": null,
         "rule": "metadsl_core.numpy_engine.arange"
        },
        {
         "graph": "digraph {\n\tnode [shape=plain]\n\tedge [arrowsize=0.5 penwidth=0.5]\n\t-764243351141283930 [label=ndarray_getitem id=-5281961658848897139]\n\t-764243351141283930 -> 4681656734119531525 [id=\"-5281961658848897139.args[0]\"]\n\t4681656734119531525 [label=\"array([  0,   2,   4,   6,   8,  10,  12,  14,  16,  18,  20,  22,  24,\n        26,  28,  30,  32,  34,  36,  38,  40,  42,  44,  46,  48,  50,\n        52,  54,  56,  58,  60,  62,  64,  66,  68,  70,  72,  74,  76,\n        78,  80,  82,  84,  86,  88,  90,  92,  94,  96,  98, 100, 102,\n       104, 106, 108, 110, 112, 114, 116, 118, 120, 122, 124, 126, 128,\n       130, 132, 134, 136, 138, 140, 142, 144, 146, 148, 150, 152, 154,\n       156, 158, 160, 162, 164, 166, 168, 170, 172, 174, 176, 178, 180,\n       182, 184, 186, 188, 190, 192, 194, 196, 198])\" id=-6051983548820151717]\n\t-764243351141283930 -> 7929563447330875300 [id=\"-5281961658848897139.args[1]\"]\n\t7929563447330875300 [label=5 id=8368899336284295099]\n}",
         "label": null,
         "rule": "metadsl_core.numpy_engine.ndarray_add"
        },
        {
         "graph": "digraph {\n\tnode [shape=plain]\n\tedge [arrowsize=0.5 penwidth=0.5]\n\t4681657163630810725 [label=\"array(10)\" id=-5281961658848897139]\n}",
         "label": null,
         "rule": "metadsl_core.numpy_engine.ndarray_getitem"
        },
        {
         "graph": "digraph {\n\tnode [shape=plain]\n\tedge [arrowsize=0.5 penwidth=0.5]\n\t4681657163630810725 [label=\"array(10)\" id=-5281961658848897139]\n}",
         "label": "execute",
         "rule": ""
        }
       ]
      },
      "text/plain": [
       "Typez(definitions=None, nodes={'7929563447225870375': ['6695801540915528909', PrimitiveNode(type='int', repr='100')], '5957414941209220213': ['5957414941209220213', CallNode(function='arange', type_params=None, args=['7929563447225870375'], kwargs=None)], '-2392957684524066418': ['-2392957684524066418', CallNode(function='NDArrayCompat.__add__', type_params=None, args=['5957414941209220213', '5957414941209220213'], kwargs=None)], '7929563447330875300': ['8368899336284295099', PrimitiveNode(type='int', repr='5')], '-9177130969686516551': ['-9177130969686516551', CallNode(function='NDArrayCompat.__getitem__', type_params=None, args=['-2392957684524066418', '7929563447330875300'], kwargs=None)], '-5281961658848897139': ['-5281961658848897139', CallNode(function='NDArrayCompat.to_ndarray', type_params=None, args=['-9177130969686516551'], kwargs=None)], '-1731939772881271889': ['-1731939772881271889', CallNode(function='Converter.convert', type_params={'T': DeclaredTypeInstance(type='NDArray', params=None)}, args=['-2392957684524066418'], kwargs=None)], '-3416066141267607679': ['-3416066141267607679', CallNode(function='Converter.convert', type_params={'T': DeclaredTypeInstance(type='Either', params={'U': DeclaredTypeInstance(type='Vec', params={'T': DeclaredTypeInstance(type='Integer', params=None)}), 'T': DeclaredTypeInstance(type='Integer', params=None)})}, args=['7929563447330875300'], kwargs=None)], '-8549068771019930555': ['-8549068771019930555', CallNode(function='Maybe.__and__', type_params={'T': DeclaredTypeInstance(type='NDArray', params=None)}, args=['-1731939772881271889', '-3416066141267607679'], kwargs=None)], '7929849651593918375': ['7929849651593918375', PrimitiveNode(type='function', repr='<function NDArrayCompat.__getitem__.<locals>.<lambda> at 0x10e252158>')], '4803971645114961552': ['4803971645114961552', CallNode(function='Abstraction.from_fn', type_params={'U': DeclaredTypeInstance(type='NDArray', params=None), 'T': DeclaredTypeInstance(type='Pair', params={'U': DeclaredTypeInstance(type='Either', params={'U': DeclaredTypeInstance(type='Vec', params={'T': DeclaredTypeInstance(type='Integer', params=None)}), 'T': DeclaredTypeInstance(type='Integer', params=None)}), 'T': DeclaredTypeInstance(type='NDArray', params=None)})}, args=['7929849651593918375'], kwargs=None)], '-2178932975760294384': ['-2178932975760294384', CallNode(function='Maybe.map', type_params={'T': DeclaredTypeInstance(type='Pair', params={'U': DeclaredTypeInstance(type='Either', params={'U': DeclaredTypeInstance(type='Vec', params={'T': DeclaredTypeInstance(type='Integer', params=None)}), 'T': DeclaredTypeInstance(type='Integer', params=None)}), 'T': DeclaredTypeInstance(type='NDArray', params=None)})}, args=['-8549068771019930555', '4803971645114961552'], kwargs=None)], '-2275286690527128186': ['-9177130969686516551', CallNode(function='NDArrayCompat.from_ndarray', type_params=None, args=['-2178932975760294384'], kwargs=None)], '-692955919929815139': ['-5281961658848897139', CallNode(function='NDArrayCompat.to_ndarray', type_params=None, args=['-2275286690527128186'], kwargs=None)], '3146937952497747921': ['3146937952497747921', CallNode(function='Converter.convert', type_params={'T': DeclaredTypeInstance(type='Integer', params=None)}, args=['7929563447330875300'], kwargs=None)], '-7970435562759903997': ['-7970435562759903997', PrimitiveNode(type='BoundInfer', repr='Either.left')], '-966770576982675144': ['-966770576982675144', CallNode(function='Abstraction.from_fn', type_params=None, args=['-7970435562759903997'], kwargs=None)], '4865162026085052172': ['4865162026085052172', CallNode(function='Maybe.map', type_params={'T': DeclaredTypeInstance(type='Integer', params=None)}, args=['3146937952497747921', '-966770576982675144'], kwargs=None)], '7195713575237942534': ['7195713575237942534', CallNode(function='Converter.convert', type_params={'T': DeclaredTypeInstance(type='Vec', params={'T': DeclaredTypeInstance(type='Integer', params=None)})}, args=['7929563447330875300'], kwargs=None)], '-1881452536892832357': ['-1881452536892832357', PrimitiveNode(type='BoundInfer', repr='Either.right')], '7839880492979038879': ['7839880492979038879', CallNode(function='Abstraction.from_fn', type_params=None, args=['-1881452536892832357'], kwargs=None)], '2204826897264784190': ['2204826897264784190', CallNode(function='Maybe.map', type_params={'T': DeclaredTypeInstance(type='Vec', params={'T': DeclaredTypeInstance(type='Integer', params=None)})}, args=['7195713575237942534', '7839880492979038879'], kwargs=None)], '-656138738490108348': ['-3416066141267607679', CallNode(function='Maybe.__or__', type_params={'T': DeclaredTypeInstance(type='Either', params={'U': DeclaredTypeInstance(type='Vec', params={'T': DeclaredTypeInstance(type='Integer', params=None)}), 'T': DeclaredTypeInstance(type='Integer', params=None)})}, args=['4865162026085052172', '2204826897264784190'], kwargs=None)], '6555983600465518041': ['-8549068771019930555', CallNode(function='Maybe.__and__', type_params={'T': DeclaredTypeInstance(type='NDArray', params=None)}, args=['-1731939772881271889', '-656138738490108348'], kwargs=None)], '7167062366888031581': ['-2178932975760294384', CallNode(function='Maybe.map', type_params={'T': DeclaredTypeInstance(type='Pair', params={'U': DeclaredTypeInstance(type='Either', params={'U': DeclaredTypeInstance(type='Vec', params={'T': DeclaredTypeInstance(type='Integer', params=None)}), 'T': DeclaredTypeInstance(type='Integer', params=None)}), 'T': DeclaredTypeInstance(type='NDArray', params=None)})}, args=['6555983600465518041', '4803971645114961552'], kwargs=None)], '-8110842241103782922': ['-9177130969686516551', CallNode(function='NDArrayCompat.from_ndarray', type_params=None, args=['7167062366888031581'], kwargs=None)], '1669952521964761772': ['-5281961658848897139', CallNode(function='NDArrayCompat.to_ndarray', type_params=None, args=['-8110842241103782922'], kwargs=None)], '-1448899694609174123': ['-1448899694609174123', CallNode(function='Integer.from_int', type_params=None, args=['7929563447330875300'], kwargs=None)], '-4057743209670033856': ['-4057743209670033856', CallNode(function='Maybe.just', type_params=None, args=['-1448899694609174123'], kwargs=None)], '6840992835378849873': ['4865162026085052172', CallNode(function='Maybe.map', type_params={'T': DeclaredTypeInstance(type='Integer', params=None)}, args=['-4057743209670033856', '-966770576982675144'], kwargs=None)], '-5980085414178983947': ['-3416066141267607679', CallNode(function='Maybe.__or__', type_params={'T': DeclaredTypeInstance(type='Either', params={'U': DeclaredTypeInstance(type='Vec', params={'T': DeclaredTypeInstance(type='Integer', params=None)}), 'T': DeclaredTypeInstance(type='Integer', params=None)})}, args=['6840992835378849873', '2204826897264784190'], kwargs=None)], '-7530698464818735296': ['-8549068771019930555', CallNode(function='Maybe.__and__', type_params={'T': DeclaredTypeInstance(type='NDArray', params=None)}, args=['-1731939772881271889', '-5980085414178983947'], kwargs=None)], '-2674899029458429109': ['-2178932975760294384', CallNode(function='Maybe.map', type_params={'T': DeclaredTypeInstance(type='Pair', params={'U': DeclaredTypeInstance(type='Either', params={'U': DeclaredTypeInstance(type='Vec', params={'T': DeclaredTypeInstance(type='Integer', params=None)}), 'T': DeclaredTypeInstance(type='Integer', params=None)}), 'T': DeclaredTypeInstance(type='NDArray', params=None)})}, args=['-7530698464818735296', '4803971645114961552'], kwargs=None)], '326943043175542900': ['-9177130969686516551', CallNode(function='NDArrayCompat.from_ndarray', type_params=None, args=['-2674899029458429109'], kwargs=None)], '3238987944950215735': ['-5281961658848897139', CallNode(function='NDArrayCompat.to_ndarray', type_params=None, args=['326943043175542900'], kwargs=None)], '3866244541187059488': ['3866244541187059488', CallNode(function='Converter.convert', type_params={'T': DeclaredTypeInstance(type='Integer', params=None)}, args=['7929563447225870375'], kwargs=None)], '6103565132160316810': ['6103565132160316810', PrimitiveNode(type='Infer', repr='arange_')], '-8047665718338118652': ['-8047665718338118652', CallNode(function='Abstraction.from_fn', type_params=None, args=['6103565132160316810'], kwargs=None)], '8185140690946981952': ['8185140690946981952', CallNode(function='Maybe.map', type_params={'T': DeclaredTypeInstance(type='Integer', params=None)}, args=['3866244541187059488', '-8047665718338118652'], kwargs=None)], '7734890108686739817': ['5957414941209220213', CallNode(function='NDArrayCompat.from_ndarray', type_params=None, args=['8185140690946981952'], kwargs=None)], '-4227033389913437920': ['-2392957684524066418', CallNode(function='NDArrayCompat.__add__', type_params=None, args=['7734890108686739817', '7734890108686739817'], kwargs=None)], '-4118019760064062043': ['-1731939772881271889', CallNode(function='Converter.convert', type_params={'T': DeclaredTypeInstance(type='NDArray', params=None)}, args=['-4227033389913437920'], kwargs=None)], '2641412347700615951': ['-8549068771019930555', CallNode(function='Maybe.__and__', type_params={'T': DeclaredTypeInstance(type='NDArray', params=None)}, args=['-4118019760064062043', '-5980085414178983947'], kwargs=None)], '-2525385083890315318': ['-2178932975760294384', CallNode(function='Maybe.map', type_params={'T': DeclaredTypeInstance(type='Pair', params={'U': DeclaredTypeInstance(type='Either', params={'U': DeclaredTypeInstance(type='Vec', params={'T': DeclaredTypeInstance(type='Integer', params=None)}), 'T': DeclaredTypeInstance(type='Integer', params=None)}), 'T': DeclaredTypeInstance(type='NDArray', params=None)})}, args=['2641412347700615951', '4803971645114961552'], kwargs=None)], '-4308639913409108949': ['-9177130969686516551', CallNode(function='NDArrayCompat.from_ndarray', type_params=None, args=['-2525385083890315318'], kwargs=None)], '-6875258176901991935': ['-5281961658848897139', CallNode(function='NDArrayCompat.to_ndarray', type_params=None, args=['-4308639913409108949'], kwargs=None)], '-3131809300698277100': ['-3131809300698277100', CallNode(function='Integer.from_int', type_params=None, args=['7929563447225870375'], kwargs=None)], '-8442994137960948810': ['-8442994137960948810', CallNode(function='Maybe.just', type_params=None, args=['-3131809300698277100'], kwargs=None)], '-8887871976037847346': ['8185140690946981952', CallNode(function='Maybe.map', type_params={'T': DeclaredTypeInstance(type='Integer', params=None)}, args=['-8442994137960948810', '-8047665718338118652'], kwargs=None)], '-6802406250591612239': ['5957414941209220213', CallNode(function='NDArrayCompat.from_ndarray', type_params=None, args=['-8887871976037847346'], kwargs=None)], '-7011619711849110242': ['-2392957684524066418', CallNode(function='NDArrayCompat.__add__', type_params=None, args=['-6802406250591612239', '-6802406250591612239'], kwargs=None)], '-906915746085849223': ['-1731939772881271889', CallNode(function='Converter.convert', type_params={'T': DeclaredTypeInstance(type='NDArray', params=None)}, args=['-7011619711849110242'], kwargs=None)], '6849173173472077666': ['-8549068771019930555', CallNode(function='Maybe.__and__', type_params={'T': DeclaredTypeInstance(type='NDArray', params=None)}, args=['-906915746085849223', '-5980085414178983947'], kwargs=None)], '8465581987633940022': ['-2178932975760294384', CallNode(function='Maybe.map', type_params={'T': DeclaredTypeInstance(type='Pair', params={'U': DeclaredTypeInstance(type='Either', params={'U': DeclaredTypeInstance(type='Vec', params={'T': DeclaredTypeInstance(type='Integer', params=None)}), 'T': DeclaredTypeInstance(type='Integer', params=None)}), 'T': DeclaredTypeInstance(type='NDArray', params=None)})}, args=['6849173173472077666', '4803971645114961552'], kwargs=None)], '3286405099378477051': ['-9177130969686516551', CallNode(function='NDArrayCompat.from_ndarray', type_params=None, args=['8465581987633940022'], kwargs=None)], '-2025809176917072033': ['-5281961658848897139', CallNode(function='NDArrayCompat.to_ndarray', type_params=None, args=['3286405099378477051'], kwargs=None)], '782204655928586145': ['782204655928586145', PrimitiveNode(type='Variable', repr='Variable(4532614368)')], '-1567811318780057522': ['-1567811318780057522', CallNode(function='Abstraction.create_variable', type_params={'U': DeclaredTypeInstance(type='NDArray', params=None), 'T': DeclaredTypeInstance(type='Pair', params={'U': DeclaredTypeInstance(type='Either', params={'U': DeclaredTypeInstance(type='Vec', params={'T': DeclaredTypeInstance(type='Integer', params=None)}), 'T': DeclaredTypeInstance(type='Integer', params=None)}), 'T': DeclaredTypeInstance(type='NDArray', params=None)})}, args=['782204655928586145'], kwargs=None)], '6869289972660339569': ['6869289972660339569', CallNode(function='Pair.left', type_params={'U': DeclaredTypeInstance(type='Either', params={'U': DeclaredTypeInstance(type='Vec', params={'T': DeclaredTypeInstance(type='Integer', params=None)}), 'T': DeclaredTypeInstance(type='Integer', params=None)}), 'T': DeclaredTypeInstance(type='NDArray', params=None)}, args=['-1567811318780057522'], kwargs=None)], '-5066980431023388391': ['-5066980431023388391', CallNode(function='Pair.right', type_params={'U': DeclaredTypeInstance(type='Either', params={'U': DeclaredTypeInstance(type='Vec', params={'T': DeclaredTypeInstance(type='Integer', params=None)}), 'T': DeclaredTypeInstance(type='Integer', params=None)}), 'T': DeclaredTypeInstance(type='NDArray', params=None)}, args=['-1567811318780057522'], kwargs=None)], '2264477634205654134': ['2264477634205654134', CallNode(function='NDArray.__getitem__', type_params=None, args=['6869289972660339569', '-5066980431023388391'], kwargs=None)], '-9118015370219560904': ['-9118015370219560904', CallNode(function='Abstraction.create', type_params={'U': DeclaredTypeInstance(type='NDArray', params=None), 'T': DeclaredTypeInstance(type='Pair', params={'U': DeclaredTypeInstance(type='Either', params={'U': DeclaredTypeInstance(type='Vec', params={'T': DeclaredTypeInstance(type='Integer', params=None)}), 'T': DeclaredTypeInstance(type='Integer', params=None)}), 'T': DeclaredTypeInstance(type='NDArray', params=None)})}, args=['-1567811318780057522', '2264477634205654134'], kwargs=None)], '-3237214598058232513': ['-2178932975760294384', CallNode(function='Maybe.map', type_params={'T': DeclaredTypeInstance(type='Pair', params={'U': DeclaredTypeInstance(type='Either', params={'U': DeclaredTypeInstance(type='Vec', params={'T': DeclaredTypeInstance(type='Integer', params=None)}), 'T': DeclaredTypeInstance(type='Integer', params=None)}), 'T': DeclaredTypeInstance(type='NDArray', params=None)})}, args=['6849173173472077666', '-9118015370219560904'], kwargs=None)], '1275872575919909872': ['-9177130969686516551', CallNode(function='NDArrayCompat.from_ndarray', type_params=None, args=['-3237214598058232513'], kwargs=None)], '-6076995830243228477': ['-5281961658848897139', CallNode(function='NDArrayCompat.to_ndarray', type_params=None, args=['1275872575919909872'], kwargs=None)], '782204642417591620': ['782204642417591620', PrimitiveNode(type='Variable', repr='Variable(4532545744)')], '-5788305488585017870': ['-5788305488585017870', CallNode(function='Abstraction.create_variable', type_params={'U': DeclaredTypeInstance(type='Either', params={'U': DeclaredTypeInstance(type='Vec', params={'T': DeclaredTypeInstance(type='Integer', params=None)}), 'T': DeclaredTypeInstance(type='Integer', params=None)}), 'T': DeclaredTypeInstance(type='Vec', params={'T': DeclaredTypeInstance(type='Integer', params=None)})}, args=['782204642417591620'], kwargs=None)], '5276140271914404268': ['5276140271914404268', CallNode(function='Either.right', type_params={'U': DeclaredTypeInstance(type='Vec', params={'T': DeclaredTypeInstance(type='Integer', params=None)}), 'T': DeclaredTypeInstance(type='Integer', params=None)}, args=['-5788305488585017870'], kwargs=None)], '1648329418498538327': ['1648329418498538327', CallNode(function='Abstraction.create', type_params={'U': DeclaredTypeInstance(type='Either', params={'U': DeclaredTypeInstance(type='Vec', params={'T': DeclaredTypeInstance(type='Integer', params=None)}), 'T': DeclaredTypeInstance(type='Integer', params=None)}), 'T': DeclaredTypeInstance(type='Vec', params={'T': DeclaredTypeInstance(type='Integer', params=None)})}, args=['-5788305488585017870', '5276140271914404268'], kwargs=None)], '-6822852619997036823': ['-6822852619997036823', CallNode(function='Maybe.map', type_params={'T': DeclaredTypeInstance(type='Vec', params={'T': DeclaredTypeInstance(type='Integer', params=None)})}, args=['7195713575237942534', '1648329418498538327'], kwargs=None)], '6956738586168736130': ['-3416066141267607679', CallNode(function='Maybe.__or__', type_params={'T': DeclaredTypeInstance(type='Either', params={'U': DeclaredTypeInstance(type='Vec', params={'T': DeclaredTypeInstance(type='Integer', params=None)}), 'T': DeclaredTypeInstance(type='Integer', params=None)})}, args=['6840992835378849873', '-6822852619997036823'], kwargs=None)], '-2584521374953452112': ['-8549068771019930555', CallNode(function='Maybe.__and__', type_params={'T': DeclaredTypeInstance(type='NDArray', params=None)}, args=['-906915746085849223', '6956738586168736130'], kwargs=None)], '-8998346874421760956': ['-2178932975760294384', CallNode(function='Maybe.map', type_params={'T': DeclaredTypeInstance(type='Pair', params={'U': DeclaredTypeInstance(type='Either', params={'U': DeclaredTypeInstance(type='Vec', params={'T': DeclaredTypeInstance(type='Integer', params=None)}), 'T': DeclaredTypeInstance(type='Integer', params=None)}), 'T': DeclaredTypeInstance(type='NDArray', params=None)})}, args=['-2584521374953452112', '-9118015370219560904'], kwargs=None)], '-3053313095907521341': ['-9177130969686516551', CallNode(function='NDArrayCompat.from_ndarray', type_params=None, args=['-8998346874421760956'], kwargs=None)], '-3509893514905579143': ['-5281961658848897139', CallNode(function='NDArrayCompat.to_ndarray', type_params=None, args=['-3053313095907521341'], kwargs=None)], '-8441167380741077888': ['-8441167380741077888', PrimitiveNode(type='Variable', repr='Variable(4532601240)')], '1059062756968867836': ['1059062756968867836', CallNode(function='Abstraction.create_variable', type_params={'U': DeclaredTypeInstance(type='Either', params={'U': DeclaredTypeInstance(type='Vec', params={'T': DeclaredTypeInstance(type='Integer', params=None)}), 'T': DeclaredTypeInstance(type='Integer', params=None)}), 'T': DeclaredTypeInstance(type='Integer', params=None)}, args=['-8441167380741077888'], kwargs=None)], '-5394518138794402984': ['-5394518138794402984', CallNode(function='Either.left', type_params={'U': DeclaredTypeInstance(type='Vec', params={'T': DeclaredTypeInstance(type='Integer', params=None)}), 'T': DeclaredTypeInstance(type='Integer', params=None)}, args=['1059062756968867836'], kwargs=None)], '2861773729804927232': ['2861773729804927232', CallNode(function='Abstraction.create', type_params={'U': DeclaredTypeInstance(type='Either', params={'U': DeclaredTypeInstance(type='Vec', params={'T': DeclaredTypeInstance(type='Integer', params=None)}), 'T': DeclaredTypeInstance(type='Integer', params=None)}), 'T': DeclaredTypeInstance(type='Integer', params=None)}, args=['1059062756968867836', '-5394518138794402984'], kwargs=None)], '-1927693558332765614': ['-1927693558332765614', CallNode(function='Maybe.map', type_params={'T': DeclaredTypeInstance(type='Integer', params=None)}, args=['-4057743209670033856', '2861773729804927232'], kwargs=None)], '7168750140140484019': ['7168750140140484019', CallNode(function='Maybe.__or__', type_params={'T': DeclaredTypeInstance(type='Either', params={'U': DeclaredTypeInstance(type='Vec', params={'T': DeclaredTypeInstance(type='Integer', params=None)}), 'T': DeclaredTypeInstance(type='Integer', params=None)})}, args=['-1927693558332765614', '-6822852619997036823'], kwargs=None)], '-150511557441503979': ['-8549068771019930555', CallNode(function='Maybe.__and__', type_params={'T': DeclaredTypeInstance(type='NDArray', params=None)}, args=['-906915746085849223', '7168750140140484019'], kwargs=None)], '39861854122661410': ['-2178932975760294384', CallNode(function='Maybe.map', type_params={'T': DeclaredTypeInstance(type='Pair', params={'U': DeclaredTypeInstance(type='Either', params={'U': DeclaredTypeInstance(type='Vec', params={'T': DeclaredTypeInstance(type='Integer', params=None)}), 'T': DeclaredTypeInstance(type='Integer', params=None)}), 'T': DeclaredTypeInstance(type='NDArray', params=None)})}, args=['-150511557441503979', '-9118015370219560904'], kwargs=None)], '-4997712263342911668': ['-9177130969686516551', CallNode(function='NDArrayCompat.from_ndarray', type_params=None, args=['39861854122661410'], kwargs=None)], '6657799245420990369': ['-5281961658848897139', CallNode(function='NDArrayCompat.to_ndarray', type_params=None, args=['-4997712263342911668'], kwargs=None)], '782204650207441520': ['782204650207441520', PrimitiveNode(type='Variable', repr='Variable(4532693648)')], '-1852894578847174519': ['-1852894578847174519', CallNode(function='Abstraction.create_variable', type_params={'U': DeclaredTypeInstance(type='NDArray', params=None), 'T': DeclaredTypeInstance(type='Integer', params=None)}, args=['782204650207441520'], kwargs=None)], '3306699016847434562': ['3306699016847434562', CallNode(function='arange_', type_params=None, args=['-1852894578847174519'], kwargs=None)], '-8952102342635871110': ['-8952102342635871110', CallNode(function='Abstraction.create', type_params={'U': DeclaredTypeInstance(type='NDArray', params=None), 'T': DeclaredTypeInstance(type='Integer', params=None)}, args=['-1852894578847174519', '3306699016847434562'], kwargs=None)], '-6880367450692664388': ['-6880367450692664388', CallNode(function='Maybe.map', type_params={'T': DeclaredTypeInstance(type='Integer', params=None)}, args=['-8442994137960948810', '-8952102342635871110'], kwargs=None)], '-2224020701084858300': ['-2224020701084858300', CallNode(function='NDArrayCompat.from_ndarray', type_params=None, args=['-6880367450692664388'], kwargs=None)], '-5928052358113968640': ['-5928052358113968640', CallNode(function='NDArrayCompat.__add__', type_params=None, args=['-2224020701084858300', '-2224020701084858300'], kwargs=None)], '3738807663539962808': ['3738807663539962808', CallNode(function='Converter.convert', type_params={'T': DeclaredTypeInstance(type='NDArray', params=None)}, args=['-5928052358113968640'], kwargs=None)], '5105228348163832661': ['5105228348163832661', CallNode(function='Maybe.__and__', type_params={'T': DeclaredTypeInstance(type='NDArray', params=None)}, args=['3738807663539962808', '7168750140140484019'], kwargs=None)], '-5261918083163352740': ['-2178932975760294384', CallNode(function='Maybe.map', type_params={'T': DeclaredTypeInstance(type='Pair', params={'U': DeclaredTypeInstance(type='Either', params={'U': DeclaredTypeInstance(type='Vec', params={'T': DeclaredTypeInstance(type='Integer', params=None)}), 'T': DeclaredTypeInstance(type='Integer', params=None)}), 'T': DeclaredTypeInstance(type='NDArray', params=None)})}, args=['5105228348163832661', '-9118015370219560904'], kwargs=None)], '4018705536740731172': ['-9177130969686516551', CallNode(function='NDArrayCompat.from_ndarray', type_params=None, args=['-5261918083163352740'], kwargs=None)], '5019884390065704826': ['-5281961658848897139', CallNode(function='NDArrayCompat.to_ndarray', type_params=None, args=['4018705536740731172'], kwargs=None)], '3904670649235592956': ['3904670649235592956', CallNode(function='Maybe.nothing', type_params={'T': DeclaredTypeInstance(type='NDArray', params=None)}, args=None, kwargs=None)], '-4094591097972136167': ['-4094591097972136167', PrimitiveNode(type='BoundInfer', repr='Maybe.just')], '-7293254293253925776': ['-7293254293253925776', CallNode(function='Abstraction.from_fn', type_params=None, args=['-4094591097972136167'], kwargs=None)], '7023613846905740443': ['7023613846905740443', CallNode(function='Abstraction.__add__', type_params={'U': DeclaredTypeInstance(type='Maybe', params={'T': DeclaredTypeInstance(type='NDArray', params=None)}), 'T': DeclaredTypeInstance(type='NDArray', params=None)}, args=['-7293254293253925776', '-9118015370219560904'], kwargs=None)], '3725999330449697263': ['-2178932975760294384', CallNode(function='Maybe.match', type_params={'T': DeclaredTypeInstance(type='Pair', params={'U': DeclaredTypeInstance(type='Either', params={'U': DeclaredTypeInstance(type='Vec', params={'T': DeclaredTypeInstance(type='Integer', params=None)}), 'T': DeclaredTypeInstance(type='Integer', params=None)}), 'T': DeclaredTypeInstance(type='NDArray', params=None)})}, args=['5105228348163832661', '3904670649235592956', '7023613846905740443'], kwargs=None)], '1889659546891565862': ['-9177130969686516551', CallNode(function='NDArrayCompat.from_ndarray', type_params=None, args=['3725999330449697263'], kwargs=None)], '467193670212018109': ['-5281961658848897139', CallNode(function='NDArrayCompat.to_ndarray', type_params=None, args=['1889659546891565862'], kwargs=None)], '-754019181540390696': ['-754019181540390696', CallNode(function='Maybe.nothing', type_params={'T': DeclaredTypeInstance(type='Either', params={'U': DeclaredTypeInstance(type='Vec', params={'T': DeclaredTypeInstance(type='Integer', params=None)}), 'T': DeclaredTypeInstance(type='Integer', params=None)})}, args=None, kwargs=None)], '2939876135484546645': ['2939876135484546645', PrimitiveNode(type='BoundInfer', repr='Maybe.just')], '-7660677309244214554': ['-7660677309244214554', CallNode(function='Abstraction.from_fn', type_params=None, args=['2939876135484546645'], kwargs=None)], '-8334591979778177377': ['-8334591979778177377', CallNode(function='Abstraction.__add__', type_params={'U': DeclaredTypeInstance(type='Maybe', params={'T': DeclaredTypeInstance(type='Either', params={'U': DeclaredTypeInstance(type='Vec', params={'T': DeclaredTypeInstance(type='Integer', params=None)}), 'T': DeclaredTypeInstance(type='Integer', params=None)})}), 'T': DeclaredTypeInstance(type='Either', params={'U': DeclaredTypeInstance(type='Vec', params={'T': DeclaredTypeInstance(type='Integer', params=None)}), 'T': DeclaredTypeInstance(type='Integer', params=None)})}, args=['-7660677309244214554', '1648329418498538327'], kwargs=None)], '-8817432787412657013': ['-6822852619997036823', CallNode(function='Maybe.match', type_params={'T': DeclaredTypeInstance(type='Vec', params={'T': DeclaredTypeInstance(type='Integer', params=None)})}, args=['7195713575237942534', '-754019181540390696', '-8334591979778177377'], kwargs=None)], '9183481231975319666': ['7168750140140484019', CallNode(function='Maybe.__or__', type_params={'T': DeclaredTypeInstance(type='Either', params={'U': DeclaredTypeInstance(type='Vec', params={'T': DeclaredTypeInstance(type='Integer', params=None)}), 'T': DeclaredTypeInstance(type='Integer', params=None)})}, args=['-1927693558332765614', '-8817432787412657013'], kwargs=None)], '8602002056363899264': ['5105228348163832661', CallNode(function='Maybe.__and__', type_params={'T': DeclaredTypeInstance(type='NDArray', params=None)}, args=['3738807663539962808', '9183481231975319666'], kwargs=None)], '-4079412897980083317': ['-2178932975760294384', CallNode(function='Maybe.match', type_params={'T': DeclaredTypeInstance(type='Pair', params={'U': DeclaredTypeInstance(type='Either', params={'U': DeclaredTypeInstance(type='Vec', params={'T': DeclaredTypeInstance(type='Integer', params=None)}), 'T': DeclaredTypeInstance(type='Integer', params=None)}), 'T': DeclaredTypeInstance(type='NDArray', params=None)})}, args=['8602002056363899264', '3904670649235592956', '7023613846905740443'], kwargs=None)], '-336318807303650252': ['-9177130969686516551', CallNode(function='NDArrayCompat.from_ndarray', type_params=None, args=['-4079412897980083317'], kwargs=None)], '5378610294031420407': ['-5281961658848897139', CallNode(function='NDArrayCompat.to_ndarray', type_params=None, args=['-336318807303650252'], kwargs=None)], '-9181448698224066163': ['-9181448698224066163', CallNode(function='Abstraction.__add__', type_params={'U': DeclaredTypeInstance(type='Maybe', params={'T': DeclaredTypeInstance(type='Either', params={'U': DeclaredTypeInstance(type='Vec', params={'T': DeclaredTypeInstance(type='Integer', params=None)}), 'T': DeclaredTypeInstance(type='Integer', params=None)})}), 'T': DeclaredTypeInstance(type='Either', params={'U': DeclaredTypeInstance(type='Vec', params={'T': DeclaredTypeInstance(type='Integer', params=None)}), 'T': DeclaredTypeInstance(type='Integer', params=None)})}, args=['-7660677309244214554', '2861773729804927232'], kwargs=None)], '5861720140862631724': ['-1927693558332765614', CallNode(function='Maybe.match', type_params={'T': DeclaredTypeInstance(type='Integer', params=None)}, args=['-4057743209670033856', '-754019181540390696', '-9181448698224066163'], kwargs=None)], '-6190752929779388082': ['7168750140140484019', CallNode(function='Maybe.__or__', type_params={'T': DeclaredTypeInstance(type='Either', params={'U': DeclaredTypeInstance(type='Vec', params={'T': DeclaredTypeInstance(type='Integer', params=None)}), 'T': DeclaredTypeInstance(type='Integer', params=None)})}, args=['5861720140862631724', '-8817432787412657013'], kwargs=None)], '-5229483840057583465': ['5105228348163832661', CallNode(function='Maybe.__and__', type_params={'T': DeclaredTypeInstance(type='NDArray', params=None)}, args=['3738807663539962808', '-6190752929779388082'], kwargs=None)], '-1798155223930758459': ['-2178932975760294384', CallNode(function='Maybe.match', type_params={'T': DeclaredTypeInstance(type='Pair', params={'U': DeclaredTypeInstance(type='Either', params={'U': DeclaredTypeInstance(type='Vec', params={'T': DeclaredTypeInstance(type='Integer', params=None)}), 'T': DeclaredTypeInstance(type='Integer', params=None)}), 'T': DeclaredTypeInstance(type='NDArray', params=None)})}, args=['-5229483840057583465', '3904670649235592956', '7023613846905740443'], kwargs=None)], '2683581776710087647': ['-9177130969686516551', CallNode(function='NDArrayCompat.from_ndarray', type_params=None, args=['-1798155223930758459'], kwargs=None)], '-4937833522134177421': ['-5281961658848897139', CallNode(function='NDArrayCompat.to_ndarray', type_params=None, args=['2683581776710087647'], kwargs=None)], '-7077347480895772353': ['-1927693558332765614', CallNode(function='Abstraction.__call__', type_params={'U': DeclaredTypeInstance(type='Maybe', params={'T': DeclaredTypeInstance(type='Either', params={'U': DeclaredTypeInstance(type='Vec', params={'T': DeclaredTypeInstance(type='Integer', params=None)}), 'T': DeclaredTypeInstance(type='Integer', params=None)})}), 'T': DeclaredTypeInstance(type='Integer', params=None)}, args=['-9181448698224066163', '-1448899694609174123'], kwargs=None)], '-5596765414591522228': ['7168750140140484019', CallNode(function='Maybe.__or__', type_params={'T': DeclaredTypeInstance(type='Either', params={'U': DeclaredTypeInstance(type='Vec', params={'T': DeclaredTypeInstance(type='Integer', params=None)}), 'T': DeclaredTypeInstance(type='Integer', params=None)})}, args=['-7077347480895772353', '-8817432787412657013'], kwargs=None)], '790147958428009313': ['5105228348163832661', CallNode(function='Maybe.__and__', type_params={'T': DeclaredTypeInstance(type='NDArray', params=None)}, args=['3738807663539962808', '-5596765414591522228'], kwargs=None)], '3058467386769174257': ['-2178932975760294384', CallNode(function='Maybe.match', type_params={'T': DeclaredTypeInstance(type='Pair', params={'U': DeclaredTypeInstance(type='Either', params={'U': DeclaredTypeInstance(type='Vec', params={'T': DeclaredTypeInstance(type='Integer', params=None)}), 'T': DeclaredTypeInstance(type='Integer', params=None)}), 'T': DeclaredTypeInstance(type='NDArray', params=None)})}, args=['790147958428009313', '3904670649235592956', '7023613846905740443'], kwargs=None)], '-184917476802828996': ['-9177130969686516551', CallNode(function='NDArrayCompat.from_ndarray', type_params=None, args=['3058467386769174257'], kwargs=None)], '4409197928594064543': ['-5281961658848897139', CallNode(function='NDArrayCompat.to_ndarray', type_params=None, args=['-184917476802828996'], kwargs=None)], '7417534677030413501': ['7417534677030413501', CallNode(function='Abstraction.__add__', type_params={'U': DeclaredTypeInstance(type='Maybe', params={'T': DeclaredTypeInstance(type='NDArray', params=None)}), 'T': DeclaredTypeInstance(type='NDArray', params=None)}, args=['-7293254293253925776', '-8952102342635871110'], kwargs=None)], '-1679686273028200441': ['-1679686273028200441', CallNode(function='Maybe.match', type_params={'T': DeclaredTypeInstance(type='Integer', params=None)}, args=['-8442994137960948810', '3904670649235592956', '7417534677030413501'], kwargs=None)], '-326778002507247179': ['-326778002507247179', CallNode(function='NDArrayCompat.from_ndarray', type_params=None, args=['-1679686273028200441'], kwargs=None)], '2748478874076706913': ['-5928052358113968640', CallNode(function='NDArrayCompat.__add__', type_params=None, args=['-326778002507247179', '-2224020701084858300'], kwargs=None)], '-8125440203073956716': ['3738807663539962808', CallNode(function='Converter.convert', type_params={'T': DeclaredTypeInstance(type='NDArray', params=None)}, args=['2748478874076706913'], kwargs=None)], '4288836549562167401': ['5105228348163832661', CallNode(function='Maybe.__and__', type_params={'T': DeclaredTypeInstance(type='NDArray', params=None)}, args=['-8125440203073956716', '-5596765414591522228'], kwargs=None)], '818682114679304408': ['-2178932975760294384', CallNode(function='Maybe.match', type_params={'T': DeclaredTypeInstance(type='Pair', params={'U': DeclaredTypeInstance(type='Either', params={'U': DeclaredTypeInstance(type='Vec', params={'T': DeclaredTypeInstance(type='Integer', params=None)}), 'T': DeclaredTypeInstance(type='Integer', params=None)}), 'T': DeclaredTypeInstance(type='NDArray', params=None)})}, args=['4288836549562167401', '3904670649235592956', '7023613846905740443'], kwargs=None)], '-682004686293093714': ['-9177130969686516551', CallNode(function='NDArrayCompat.from_ndarray', type_params=None, args=['818682114679304408'], kwargs=None)], '543791791595042277': ['-5281961658848897139', CallNode(function='NDArrayCompat.to_ndarray', type_params=None, args=['-682004686293093714'], kwargs=None)], '8159527261163156774': ['-5928052358113968640', CallNode(function='NDArrayCompat.__add__', type_params=None, args=['-326778002507247179', '-326778002507247179'], kwargs=None)], '2893270503678382867': ['3738807663539962808', CallNode(function='Converter.convert', type_params={'T': DeclaredTypeInstance(type='NDArray', params=None)}, args=['8159527261163156774'], kwargs=None)], '-1050096578571021704': ['5105228348163832661', CallNode(function='Maybe.__and__', type_params={'T': DeclaredTypeInstance(type='NDArray', params=None)}, args=['2893270503678382867', '-5596765414591522228'], kwargs=None)], '7564849359004638878': ['-2178932975760294384', CallNode(function='Maybe.match', type_params={'T': DeclaredTypeInstance(type='Pair', params={'U': DeclaredTypeInstance(type='Either', params={'U': DeclaredTypeInstance(type='Vec', params={'T': DeclaredTypeInstance(type='Integer', params=None)}), 'T': DeclaredTypeInstance(type='Integer', params=None)}), 'T': DeclaredTypeInstance(type='NDArray', params=None)})}, args=['-1050096578571021704', '3904670649235592956', '7023613846905740443'], kwargs=None)], '-9217164084872164381': ['-9177130969686516551', CallNode(function='NDArrayCompat.from_ndarray', type_params=None, args=['7564849359004638878'], kwargs=None)], '6607133612709699955': ['-5281961658848897139', CallNode(function='NDArrayCompat.to_ndarray', type_params=None, args=['-9217164084872164381'], kwargs=None)], '1501117769350601043': ['1501117769350601043', CallNode(function='Abstraction.__call__', type_params={'U': DeclaredTypeInstance(type='Maybe', params={'T': DeclaredTypeInstance(type='NDArray', params=None)}), 'T': DeclaredTypeInstance(type='Integer', params=None)}, args=['7417534677030413501', '-3131809300698277100'], kwargs=None)], '-5073117767081961703': ['-5073117767081961703', CallNode(function='NDArrayCompat.from_ndarray', type_params=None, args=['1501117769350601043'], kwargs=None)], '-2451974414440893144': ['-5928052358113968640', CallNode(function='NDArrayCompat.__add__', type_params=None, args=['-5073117767081961703', '-326778002507247179'], kwargs=None)], '8160375906643553213': ['3738807663539962808', CallNode(function='Converter.convert', type_params={'T': DeclaredTypeInstance(type='NDArray', params=None)}, args=['-2451974414440893144'], kwargs=None)], '1205964400146739604': ['5105228348163832661', CallNode(function='Maybe.__and__', type_params={'T': DeclaredTypeInstance(type='NDArray', params=None)}, args=['8160375906643553213', '-5596765414591522228'], kwargs=None)], '8364527385779016842': ['-2178932975760294384', CallNode(function='Maybe.match', type_params={'T': DeclaredTypeInstance(type='Pair', params={'U': DeclaredTypeInstance(type='Either', params={'U': DeclaredTypeInstance(type='Vec', params={'T': DeclaredTypeInstance(type='Integer', params=None)}), 'T': DeclaredTypeInstance(type='Integer', params=None)}), 'T': DeclaredTypeInstance(type='NDArray', params=None)})}, args=['1205964400146739604', '3904670649235592956', '7023613846905740443'], kwargs=None)], '3810858848635152647': ['-9177130969686516551', CallNode(function='NDArrayCompat.from_ndarray', type_params=None, args=['8364527385779016842'], kwargs=None)], '-8813789946771923269': ['-5281961658848897139', CallNode(function='NDArrayCompat.to_ndarray', type_params=None, args=['3810858848635152647'], kwargs=None)], '-7717843735644360434': ['-5928052358113968640', CallNode(function='NDArrayCompat.__add__', type_params=None, args=['-5073117767081961703', '-5073117767081961703'], kwargs=None)], '-2349488285811446359': ['3738807663539962808', CallNode(function='Converter.convert', type_params={'T': DeclaredTypeInstance(type='NDArray', params=None)}, args=['-7717843735644360434'], kwargs=None)], '5160524566463964012': ['5105228348163832661', CallNode(function='Maybe.__and__', type_params={'T': DeclaredTypeInstance(type='NDArray', params=None)}, args=['-2349488285811446359', '-5596765414591522228'], kwargs=None)], '-3126480785575616036': ['-2178932975760294384', CallNode(function='Maybe.match', type_params={'T': DeclaredTypeInstance(type='Pair', params={'U': DeclaredTypeInstance(type='Either', params={'U': DeclaredTypeInstance(type='Vec', params={'T': DeclaredTypeInstance(type='Integer', params=None)}), 'T': DeclaredTypeInstance(type='Integer', params=None)}), 'T': DeclaredTypeInstance(type='NDArray', params=None)})}, args=['5160524566463964012', '3904670649235592956', '7023613846905740443'], kwargs=None)], '2124215296879408225': ['-9177130969686516551', CallNode(function='NDArrayCompat.from_ndarray', type_params=None, args=['-3126480785575616036'], kwargs=None)], '-5255964175121921594': ['-5281961658848897139', CallNode(function='NDArrayCompat.to_ndarray', type_params=None, args=['2124215296879408225'], kwargs=None)], '-8441167327920353038': ['-8441167327920353038', PrimitiveNode(type='Variable', repr='Variable(4532349752)')], '-1705905533886788551': ['-1705905533886788551', CallNode(function='Abstraction.create_variable', type_params={'U': DeclaredTypeInstance(type='Maybe', params={'T': DeclaredTypeInstance(type='Either', params={'U': DeclaredTypeInstance(type='Vec', params={'T': DeclaredTypeInstance(type='Integer', params=None)}), 'T': DeclaredTypeInstance(type='Integer', params=None)})}), 'T': DeclaredTypeInstance(type='Either', params={'U': DeclaredTypeInstance(type='Vec', params={'T': DeclaredTypeInstance(type='Integer', params=None)}), 'T': DeclaredTypeInstance(type='Integer', params=None)})}, args=['-8441167327920353038'], kwargs=None)], '5001873403081188039': ['5001873403081188039', CallNode(function='Maybe.just', type_params={'T': DeclaredTypeInstance(type='Either', params={'U': DeclaredTypeInstance(type='Vec', params={'T': DeclaredTypeInstance(type='Integer', params=None)}), 'T': DeclaredTypeInstance(type='Integer', params=None)})}, args=['-1705905533886788551'], kwargs=None)], '-6111235855211480769': ['-7660677309244214554', CallNode(function='Abstraction.create', type_params={'U': DeclaredTypeInstance(type='Maybe', params={'T': DeclaredTypeInstance(type='Either', params={'U': DeclaredTypeInstance(type='Vec', params={'T': DeclaredTypeInstance(type='Integer', params=None)}), 'T': DeclaredTypeInstance(type='Integer', params=None)})}), 'T': DeclaredTypeInstance(type='Either', params={'U': DeclaredTypeInstance(type='Vec', params={'T': DeclaredTypeInstance(type='Integer', params=None)}), 'T': DeclaredTypeInstance(type='Integer', params=None)})}, args=['-1705905533886788551', '5001873403081188039'], kwargs=None)], '853586745109798487': ['-9181448698224066163', CallNode(function='Abstraction.__add__', type_params={'U': DeclaredTypeInstance(type='Maybe', params={'T': DeclaredTypeInstance(type='Either', params={'U': DeclaredTypeInstance(type='Vec', params={'T': DeclaredTypeInstance(type='Integer', params=None)}), 'T': DeclaredTypeInstance(type='Integer', params=None)})}), 'T': DeclaredTypeInstance(type='Either', params={'U': DeclaredTypeInstance(type='Vec', params={'T': DeclaredTypeInstance(type='Integer', params=None)}), 'T': DeclaredTypeInstance(type='Integer', params=None)})}, args=['-6111235855211480769', '2861773729804927232'], kwargs=None)], '8315901269190522822': ['-1927693558332765614', CallNode(function='Abstraction.__call__', type_params={'U': DeclaredTypeInstance(type='Maybe', params={'T': DeclaredTypeInstance(type='Either', params={'U': DeclaredTypeInstance(type='Vec', params={'T': DeclaredTypeInstance(type='Integer', params=None)}), 'T': DeclaredTypeInstance(type='Integer', params=None)})}), 'T': DeclaredTypeInstance(type='Integer', params=None)}, args=['853586745109798487', '-1448899694609174123'], kwargs=None)], '-54078915593045179': ['-8334591979778177377', CallNode(function='Abstraction.__add__', type_params={'U': DeclaredTypeInstance(type='Maybe', params={'T': DeclaredTypeInstance(type='Either', params={'U': DeclaredTypeInstance(type='Vec', params={'T': DeclaredTypeInstance(type='Integer', params=None)}), 'T': DeclaredTypeInstance(type='Integer', params=None)})}), 'T': DeclaredTypeInstance(type='Either', params={'U': DeclaredTypeInstance(type='Vec', params={'T': DeclaredTypeInstance(type='Integer', params=None)}), 'T': DeclaredTypeInstance(type='Integer', params=None)})}, args=['-6111235855211480769', '1648329418498538327'], kwargs=None)], '-5874662002019313860': ['-6822852619997036823', CallNode(function='Maybe.match', type_params={'T': DeclaredTypeInstance(type='Vec', params={'T': DeclaredTypeInstance(type='Integer', params=None)})}, args=['7195713575237942534', '-754019181540390696', '-54078915593045179'], kwargs=None)], '7241302157445506915': ['7168750140140484019', CallNode(function='Maybe.__or__', type_params={'T': DeclaredTypeInstance(type='Either', params={'U': DeclaredTypeInstance(type='Vec', params={'T': DeclaredTypeInstance(type='Integer', params=None)}), 'T': DeclaredTypeInstance(type='Integer', params=None)})}, args=['8315901269190522822', '-5874662002019313860'], kwargs=None)], '3093590991159885856': ['5105228348163832661', CallNode(function='Maybe.__and__', type_params={'T': DeclaredTypeInstance(type='NDArray', params=None)}, args=['-2349488285811446359', '7241302157445506915'], kwargs=None)], '8473768900579042353': ['-2178932975760294384', CallNode(function='Maybe.match', type_params={'T': DeclaredTypeInstance(type='Pair', params={'U': DeclaredTypeInstance(type='Either', params={'U': DeclaredTypeInstance(type='Vec', params={'T': DeclaredTypeInstance(type='Integer', params=None)}), 'T': DeclaredTypeInstance(type='Integer', params=None)}), 'T': DeclaredTypeInstance(type='NDArray', params=None)})}, args=['3093590991159885856', '3904670649235592956', '7023613846905740443'], kwargs=None)], '-7166437524877307118': ['-9177130969686516551', CallNode(function='NDArrayCompat.from_ndarray', type_params=None, args=['8473768900579042353'], kwargs=None)], '8109027888668994712': ['-5281961658848897139', CallNode(function='NDArrayCompat.to_ndarray', type_params=None, args=['-7166437524877307118'], kwargs=None)], '-8441167376553871188': ['-8441167376553871188', PrimitiveNode(type='Variable', repr='Variable(4532810584)')], '6102774012109720231': ['6102774012109720231', CallNode(function='Abstraction.create_variable', type_params={'U': DeclaredTypeInstance(type='Maybe', params={'T': DeclaredTypeInstance(type='NDArray', params=None)}), 'T': DeclaredTypeInstance(type='NDArray', params=None)}, args=['-8441167376553871188'], kwargs=None)], '1379772526540993227': ['1379772526540993227', CallNode(function='Maybe.just', type_params={'T': DeclaredTypeInstance(type='NDArray', params=None)}, args=['6102774012109720231'], kwargs=None)], '7210536553855986561': ['-7293254293253925776', CallNode(function='Abstraction.create', type_params={'U': DeclaredTypeInstance(type='Maybe', params={'T': DeclaredTypeInstance(type='NDArray', params=None)}), 'T': DeclaredTypeInstance(type='NDArray', params=None)}, args=['6102774012109720231', '1379772526540993227'], kwargs=None)], '-3815901700388079820': ['7417534677030413501', CallNode(function='Abstraction.__add__', type_params={'U': DeclaredTypeInstance(type='Maybe', params={'T': DeclaredTypeInstance(type='NDArray', params=None)}), 'T': DeclaredTypeInstance(type='NDArray', params=None)}, args=['7210536553855986561', '-8952102342635871110'], kwargs=None)], '4456604564882372220': ['-6880367450692664388', CallNode(function='Abstraction.__call__', type_params={'U': DeclaredTypeInstance(type='Maybe', params={'T': DeclaredTypeInstance(type='NDArray', params=None)}), 'T': DeclaredTypeInstance(type='Integer', params=None)}, args=['-3815901700388079820', '-3131809300698277100'], kwargs=None)], '-7831860903262410409': ['-2224020701084858300', CallNode(function='NDArrayCompat.from_ndarray', type_params=None, args=['4456604564882372220'], kwargs=None)], '-4574192517958908719': ['-5928052358113968640', CallNode(function='NDArrayCompat.__add__', type_params=None, args=['-7831860903262410409', '-5073117767081961703'], kwargs=None)], '4412416794792270398': ['3738807663539962808', CallNode(function='Converter.convert', type_params={'T': DeclaredTypeInstance(type='NDArray', params=None)}, args=['-4574192517958908719'], kwargs=None)], '1435844399326717123': ['5105228348163832661', CallNode(function='Maybe.__and__', type_params={'T': DeclaredTypeInstance(type='NDArray', params=None)}, args=['4412416794792270398', '7241302157445506915'], kwargs=None)], '1124171096562325806': ['7023613846905740443', CallNode(function='Abstraction.__add__', type_params={'U': DeclaredTypeInstance(type='Maybe', params={'T': DeclaredTypeInstance(type='NDArray', params=None)}), 'T': DeclaredTypeInstance(type='NDArray', params=None)}, args=['7210536553855986561', '-9118015370219560904'], kwargs=None)], '6220958238760007611': ['-2178932975760294384', CallNode(function='Maybe.match', type_params={'T': DeclaredTypeInstance(type='Pair', params={'U': DeclaredTypeInstance(type='Either', params={'U': DeclaredTypeInstance(type='Vec', params={'T': DeclaredTypeInstance(type='Integer', params=None)}), 'T': DeclaredTypeInstance(type='Integer', params=None)}), 'T': DeclaredTypeInstance(type='NDArray', params=None)})}, args=['1435844399326717123', '3904670649235592956', '1124171096562325806'], kwargs=None)], '19365732303179799': ['-9177130969686516551', CallNode(function='NDArrayCompat.from_ndarray', type_params=None, args=['6220958238760007611'], kwargs=None)], '1503670130711119168': ['-5281961658848897139', CallNode(function='NDArrayCompat.to_ndarray', type_params=None, args=['19365732303179799'], kwargs=None)], '-8441167325273579413': ['-8441167325273579413', PrimitiveNode(type='Variable', repr='Variable(4532371976)')], '7164926897100554226': ['7164926897100554226', CallNode(function='Abstraction.create_variable', type_params={'U': DeclaredTypeInstance(type='Maybe', params={'T': DeclaredTypeInstance(type='NDArray', params=None)}), 'T': DeclaredTypeInstance(type='NDArray', params=None)}, args=['-8441167325273579413'], kwargs=None)], '8362505944321486831': ['8362505944321486831', CallNode(function='Maybe.just', type_params={'T': DeclaredTypeInstance(type='NDArray', params=None)}, args=['7164926897100554226'], kwargs=None)], '3748779951611522878': ['3748779951611522878', CallNode(function='Abstraction.create', type_params={'U': DeclaredTypeInstance(type='Maybe', params={'T': DeclaredTypeInstance(type='NDArray', params=None)}), 'T': DeclaredTypeInstance(type='NDArray', params=None)}, args=['7164926897100554226', '8362505944321486831'], kwargs=None)], '4344538302833644691': ['4344538302833644691', CallNode(function='Abstraction.__add__', type_params={'U': DeclaredTypeInstance(type='Maybe', params={'T': DeclaredTypeInstance(type='NDArray', params=None)}), 'T': DeclaredTypeInstance(type='NDArray', params=None)}, args=['3748779951611522878', '-8952102342635871110'], kwargs=None)], '-1561121444444975497': ['1501117769350601043', CallNode(function='Abstraction.__call__', type_params={'U': DeclaredTypeInstance(type='Maybe', params={'T': DeclaredTypeInstance(type='NDArray', params=None)}), 'T': DeclaredTypeInstance(type='Integer', params=None)}, args=['4344538302833644691', '-3131809300698277100'], kwargs=None)], '-3880724937729080699': ['-5073117767081961703', CallNode(function='NDArrayCompat.from_ndarray', type_params=None, args=['-1561121444444975497'], kwargs=None)], '-4956525522698191664': ['-5928052358113968640', CallNode(function='NDArrayCompat.__add__', type_params=None, args=['-7831860903262410409', '-3880724937729080699'], kwargs=None)], '6034370012444041160': ['3738807663539962808', CallNode(function='Converter.convert', type_params={'T': DeclaredTypeInstance(type='NDArray', params=None)}, args=['-4956525522698191664'], kwargs=None)], '1947658605703421602': ['5105228348163832661', CallNode(function='Maybe.__and__', type_params={'T': DeclaredTypeInstance(type='NDArray', params=None)}, args=['6034370012444041160', '7241302157445506915'], kwargs=None)], '8150279795932060320': ['-2178932975760294384', CallNode(function='Maybe.match', type_params={'T': DeclaredTypeInstance(type='Pair', params={'U': DeclaredTypeInstance(type='Either', params={'U': DeclaredTypeInstance(type='Vec', params={'T': DeclaredTypeInstance(type='Integer', params=None)}), 'T': DeclaredTypeInstance(type='Integer', params=None)}), 'T': DeclaredTypeInstance(type='NDArray', params=None)})}, args=['1947658605703421602', '3904670649235592956', '1124171096562325806'], kwargs=None)], '-724992619004743543': ['-9177130969686516551', CallNode(function='NDArrayCompat.from_ndarray', type_params=None, args=['8150279795932060320'], kwargs=None)], '3125821275735179278': ['-5281961658848897139', CallNode(function='NDArrayCompat.to_ndarray', type_params=None, args=['-724992619004743543'], kwargs=None)], '-4655842278390333752': ['-4655842278390333752', CallNode(function='Maybe.just', type_params={'T': DeclaredTypeInstance(type='NDArray', params=None)}, args=['2264477634205654134'], kwargs=None)], '-979998564141937302': ['-979998564141937302', CallNode(function='Abstraction.create', type_params=None, args=['-1567811318780057522', '-4655842278390333752'], kwargs=None)], '-5638063581971655788': ['-2178932975760294384', CallNode(function='Maybe.match', type_params={'T': DeclaredTypeInstance(type='Pair', params={'U': DeclaredTypeInstance(type='Either', params={'U': DeclaredTypeInstance(type='Vec', params={'T': DeclaredTypeInstance(type='Integer', params=None)}), 'T': DeclaredTypeInstance(type='Integer', params=None)}), 'T': DeclaredTypeInstance(type='NDArray', params=None)})}, args=['1947658605703421602', '3904670649235592956', '-979998564141937302'], kwargs=None)], '-5002271024861607396': ['-9177130969686516551', CallNode(function='NDArrayCompat.from_ndarray', type_params=None, args=['-5638063581971655788'], kwargs=None)], '-8030635618025669199': ['-5281961658848897139', CallNode(function='NDArrayCompat.to_ndarray', type_params=None, args=['-5002271024861607396'], kwargs=None)], '6426084477688557308': ['6426084477688557308', CallNode(function='Maybe.just', type_params={'T': DeclaredTypeInstance(type='Either', params={'U': DeclaredTypeInstance(type='Vec', params={'T': DeclaredTypeInstance(type='Integer', params=None)}), 'T': DeclaredTypeInstance(type='Integer', params=None)})}, args=['5276140271914404268'], kwargs=None)], '75270250234121364': ['-8334591979778177377', CallNode(function='Abstraction.create', type_params=None, args=['-5788305488585017870', '6426084477688557308'], kwargs=None)], '-7620949637964638205': ['-6822852619997036823', CallNode(function='Maybe.match', type_params={'T': DeclaredTypeInstance(type='Vec', params={'T': DeclaredTypeInstance(type='Integer', params=None)})}, args=['7195713575237942534', '-754019181540390696', '75270250234121364'], kwargs=None)], '8821978150029802049': ['7168750140140484019', CallNode(function='Maybe.__or__', type_params={'T': DeclaredTypeInstance(type='Either', params={'U': DeclaredTypeInstance(type='Vec', params={'T': DeclaredTypeInstance(type='Integer', params=None)}), 'T': DeclaredTypeInstance(type='Integer', params=None)})}, args=['8315901269190522822', '-7620949637964638205'], kwargs=None)], '-8691273077242567196': ['5105228348163832661', CallNode(function='Maybe.__and__', type_params={'T': DeclaredTypeInstance(type='NDArray', params=None)}, args=['6034370012444041160', '8821978150029802049'], kwargs=None)], '3216736406715560061': ['-2178932975760294384', CallNode(function='Maybe.match', type_params={'T': DeclaredTypeInstance(type='Pair', params={'U': DeclaredTypeInstance(type='Either', params={'U': DeclaredTypeInstance(type='Vec', params={'T': DeclaredTypeInstance(type='Integer', params=None)}), 'T': DeclaredTypeInstance(type='Integer', params=None)}), 'T': DeclaredTypeInstance(type='NDArray', params=None)})}, args=['-8691273077242567196', '3904670649235592956', '-979998564141937302'], kwargs=None)], '264614723978702256': ['-9177130969686516551', CallNode(function='NDArrayCompat.from_ndarray', type_params=None, args=['3216736406715560061'], kwargs=None)], '2855355018387612803': ['-5281961658848897139', CallNode(function='NDArrayCompat.to_ndarray', type_params=None, args=['264614723978702256'], kwargs=None)], '-3103477373190562460': ['-3103477373190562460', CallNode(function='Maybe.just', type_params={'T': DeclaredTypeInstance(type='Either', params={'U': DeclaredTypeInstance(type='Vec', params={'T': DeclaredTypeInstance(type='Integer', params=None)}), 'T': DeclaredTypeInstance(type='Integer', params=None)})}, args=['-5394518138794402984'], kwargs=None)], '-9071831681035237069': ['-9181448698224066163', CallNode(function='Abstraction.create', type_params=None, args=['1059062756968867836', '-3103477373190562460'], kwargs=None)], '-3715420078525920815': ['-1927693558332765614', CallNode(function='Abstraction.__call__', type_params={'U': DeclaredTypeInstance(type='Maybe', params={'T': DeclaredTypeInstance(type='Either', params={'U': DeclaredTypeInstance(type='Vec', params={'T': DeclaredTypeInstance(type='Integer', params=None)}), 'T': DeclaredTypeInstance(type='Integer', params=None)})}), 'T': DeclaredTypeInstance(type='Integer', params=None)}, args=['-9071831681035237069', '-1448899694609174123'], kwargs=None)], '6310547295580285112': ['7168750140140484019', CallNode(function='Maybe.__or__', type_params={'T': DeclaredTypeInstance(type='Either', params={'U': DeclaredTypeInstance(type='Vec', params={'T': DeclaredTypeInstance(type='Integer', params=None)}), 'T': DeclaredTypeInstance(type='Integer', params=None)})}, args=['-3715420078525920815', '-7620949637964638205'], kwargs=None)], '4621034664011234982': ['5105228348163832661', CallNode(function='Maybe.__and__', type_params={'T': DeclaredTypeInstance(type='NDArray', params=None)}, args=['6034370012444041160', '6310547295580285112'], kwargs=None)], '4056124902168107402': ['-2178932975760294384', CallNode(function='Maybe.match', type_params={'T': DeclaredTypeInstance(type='Pair', params={'U': DeclaredTypeInstance(type='Either', params={'U': DeclaredTypeInstance(type='Vec', params={'T': DeclaredTypeInstance(type='Integer', params=None)}), 'T': DeclaredTypeInstance(type='Integer', params=None)}), 'T': DeclaredTypeInstance(type='NDArray', params=None)})}, args=['4621034664011234982', '3904670649235592956', '-979998564141937302'], kwargs=None)], '1264953580351725809': ['-9177130969686516551', CallNode(function='NDArrayCompat.from_ndarray', type_params=None, args=['4056124902168107402'], kwargs=None)], '192787192234352278': ['-5281961658848897139', CallNode(function='NDArrayCompat.to_ndarray', type_params=None, args=['1264953580351725809'], kwargs=None)], '3438482133718761997': ['3438482133718761997', CallNode(function='Either.left', type_params={'U': DeclaredTypeInstance(type='Vec', params={'T': DeclaredTypeInstance(type='Integer', params=None)}), 'T': DeclaredTypeInstance(type='Integer', params=None)}, args=['-1448899694609174123'], kwargs=None)], '-2861860061290690084': ['-1927693558332765614', CallNode(function='Maybe.just', type_params={'T': DeclaredTypeInstance(type='Either', params={'U': DeclaredTypeInstance(type='Vec', params={'T': DeclaredTypeInstance(type='Integer', params=None)}), 'T': DeclaredTypeInstance(type='Integer', params=None)})}, args=['3438482133718761997'], kwargs=None)], '8816093130121520419': ['7168750140140484019', CallNode(function='Maybe.__or__', type_params={'T': DeclaredTypeInstance(type='Either', params={'U': DeclaredTypeInstance(type='Vec', params={'T': DeclaredTypeInstance(type='Integer', params=None)}), 'T': DeclaredTypeInstance(type='Integer', params=None)})}, args=['-2861860061290690084', '-7620949637964638205'], kwargs=None)], '-5300946842481716894': ['5105228348163832661', CallNode(function='Maybe.__and__', type_params={'T': DeclaredTypeInstance(type='NDArray', params=None)}, args=['6034370012444041160', '8816093130121520419'], kwargs=None)], '-2070786939647750622': ['-2178932975760294384', CallNode(function='Maybe.match', type_params={'T': DeclaredTypeInstance(type='Pair', params={'U': DeclaredTypeInstance(type='Either', params={'U': DeclaredTypeInstance(type='Vec', params={'T': DeclaredTypeInstance(type='Integer', params=None)}), 'T': DeclaredTypeInstance(type='Integer', params=None)}), 'T': DeclaredTypeInstance(type='NDArray', params=None)})}, args=['-5300946842481716894', '3904670649235592956', '-979998564141937302'], kwargs=None)], '4181086702270924620': ['-9177130969686516551', CallNode(function='NDArrayCompat.from_ndarray', type_params=None, args=['-2070786939647750622'], kwargs=None)], '-7905890774861574462': ['-5281961658848897139', CallNode(function='NDArrayCompat.to_ndarray', type_params=None, args=['4181086702270924620'], kwargs=None)], '8955685588577225007': ['7168750140140484019', CallNode(function='Maybe.just', type_params=None, args=['3438482133718761997'], kwargs=None)], '8278597593574582942': ['5105228348163832661', CallNode(function='Maybe.__and__', type_params={'T': DeclaredTypeInstance(type='NDArray', params=None)}, args=['6034370012444041160', '8955685588577225007'], kwargs=None)], '1556497383409340477': ['-2178932975760294384', CallNode(function='Maybe.match', type_params={'T': DeclaredTypeInstance(type='Pair', params={'U': DeclaredTypeInstance(type='Either', params={'U': DeclaredTypeInstance(type='Vec', params={'T': DeclaredTypeInstance(type='Integer', params=None)}), 'T': DeclaredTypeInstance(type='Integer', params=None)}), 'T': DeclaredTypeInstance(type='NDArray', params=None)})}, args=['8278597593574582942', '3904670649235592956', '-979998564141937302'], kwargs=None)], '-2422211557192635241': ['-9177130969686516551', CallNode(function='NDArrayCompat.from_ndarray', type_params=None, args=['1556497383409340477'], kwargs=None)], '8991855025522833901': ['-5281961658848897139', CallNode(function='NDArrayCompat.to_ndarray', type_params=None, args=['-2422211557192635241'], kwargs=None)], '8345780857840190825': ['8345780857840190825', CallNode(function='Maybe.just', type_params={'T': DeclaredTypeInstance(type='NDArray', params=None)}, args=['3306699016847434562'], kwargs=None)], '-2111247561356716541': ['7417534677030413501', CallNode(function='Abstraction.create', type_params=None, args=['-1852894578847174519', '8345780857840190825'], kwargs=None)], '1475979828097991852': ['-6880367450692664388', CallNode(function='Abstraction.__call__', type_params={'U': DeclaredTypeInstance(type='Maybe', params={'T': DeclaredTypeInstance(type='NDArray', params=None)}), 'T': DeclaredTypeInstance(type='Integer', params=None)}, args=['-2111247561356716541', '-3131809300698277100'], kwargs=None)], '-1396724190485083222': ['-2224020701084858300', CallNode(function='NDArrayCompat.from_ndarray', type_params=None, args=['1475979828097991852'], kwargs=None)], '-6171369598117617926': ['-5928052358113968640', CallNode(function='NDArrayCompat.__add__', type_params=None, args=['-7831860903262410409', '-1396724190485083222'], kwargs=None)], '4916320021783949814': ['3738807663539962808', CallNode(function='Converter.convert', type_params={'T': DeclaredTypeInstance(type='NDArray', params=None)}, args=['-6171369598117617926'], kwargs=None)], '8858306922078925636': ['5105228348163832661', CallNode(function='Maybe.__and__', type_params={'T': DeclaredTypeInstance(type='NDArray', params=None)}, args=['4916320021783949814', '8955685588577225007'], kwargs=None)], '-3898148759995715509': ['-2178932975760294384', CallNode(function='Maybe.match', type_params={'T': DeclaredTypeInstance(type='Pair', params={'U': DeclaredTypeInstance(type='Either', params={'U': DeclaredTypeInstance(type='Vec', params={'T': DeclaredTypeInstance(type='Integer', params=None)}), 'T': DeclaredTypeInstance(type='Integer', params=None)}), 'T': DeclaredTypeInstance(type='NDArray', params=None)})}, args=['8858306922078925636', '3904670649235592956', '-979998564141937302'], kwargs=None)], '-610731571215604364': ['-9177130969686516551', CallNode(function='NDArrayCompat.from_ndarray', type_params=None, args=['-3898148759995715509'], kwargs=None)], '-2531045510318504649': ['-5281961658848897139', CallNode(function='NDArrayCompat.to_ndarray', type_params=None, args=['-610731571215604364'], kwargs=None)], '5668266280651108832': ['5668266280651108832', CallNode(function='arange_', type_params=None, args=['-3131809300698277100'], kwargs=None)], '8522449151473608332': ['-6880367450692664388', CallNode(function='Maybe.just', type_params={'T': DeclaredTypeInstance(type='NDArray', params=None)}, args=['5668266280651108832'], kwargs=None)], '538172979487181565': ['-2224020701084858300', CallNode(function='NDArrayCompat.from_ndarray', type_params=None, args=['8522449151473608332'], kwargs=None)], '-5670430935434763517': ['-5928052358113968640', CallNode(function='NDArrayCompat.__add__', type_params=None, args=['-7831860903262410409', '538172979487181565'], kwargs=None)], '-1398120290594241701': ['3738807663539962808', CallNode(function='Converter.convert', type_params={'T': DeclaredTypeInstance(type='NDArray', params=None)}, args=['-5670430935434763517'], kwargs=None)], '-5760226355314994421': ['5105228348163832661', CallNode(function='Maybe.__and__', type_params={'T': DeclaredTypeInstance(type='NDArray', params=None)}, args=['-1398120290594241701', '8955685588577225007'], kwargs=None)], '6478834753594748325': ['-2178932975760294384', CallNode(function='Maybe.match', type_params={'T': DeclaredTypeInstance(type='Pair', params={'U': DeclaredTypeInstance(type='Either', params={'U': DeclaredTypeInstance(type='Vec', params={'T': DeclaredTypeInstance(type='Integer', params=None)}), 'T': DeclaredTypeInstance(type='Integer', params=None)}), 'T': DeclaredTypeInstance(type='NDArray', params=None)})}, args=['-5760226355314994421', '3904670649235592956', '-979998564141937302'], kwargs=None)], '5488138619019703445': ['-9177130969686516551', CallNode(function='NDArrayCompat.from_ndarray', type_params=None, args=['6478834753594748325'], kwargs=None)], '601783772926128064': ['-5281961658848897139', CallNode(function='NDArrayCompat.to_ndarray', type_params=None, args=['5488138619019703445'], kwargs=None)], '8824695112797766569': ['-5928052358113968640', CallNode(function='NDArrayCompat.__add__', type_params=None, args=['-1396724190485083222', '538172979487181565'], kwargs=None)], '3464842294167772706': ['3738807663539962808', CallNode(function='Converter.convert', type_params={'T': DeclaredTypeInstance(type='NDArray', params=None)}, args=['8824695112797766569'], kwargs=None)], '8820645040028002131': ['5105228348163832661', CallNode(function='Maybe.__and__', type_params={'T': DeclaredTypeInstance(type='NDArray', params=None)}, args=['3464842294167772706', '8955685588577225007'], kwargs=None)], '-3549436566379303328': ['-2178932975760294384', CallNode(function='Maybe.match', type_params={'T': DeclaredTypeInstance(type='Pair', params={'U': DeclaredTypeInstance(type='Either', params={'U': DeclaredTypeInstance(type='Vec', params={'T': DeclaredTypeInstance(type='Integer', params=None)}), 'T': DeclaredTypeInstance(type='Integer', params=None)}), 'T': DeclaredTypeInstance(type='NDArray', params=None)})}, args=['8820645040028002131', '3904670649235592956', '-979998564141937302'], kwargs=None)], '7783357475922552301': ['-9177130969686516551', CallNode(function='NDArrayCompat.from_ndarray', type_params=None, args=['-3549436566379303328'], kwargs=None)], '-3920676090234507581': ['-5281961658848897139', CallNode(function='NDArrayCompat.to_ndarray', type_params=None, args=['7783357475922552301'], kwargs=None)], '-2148437186735635834': ['-5928052358113968640', CallNode(function='NDArrayCompat.__add__', type_params=None, args=['538172979487181565', '538172979487181565'], kwargs=None)], '7475225506484376816': ['3738807663539962808', CallNode(function='Converter.convert', type_params={'T': DeclaredTypeInstance(type='NDArray', params=None)}, args=['-2148437186735635834'], kwargs=None)], '2342498251596656547': ['5105228348163832661', CallNode(function='Maybe.__and__', type_params={'T': DeclaredTypeInstance(type='NDArray', params=None)}, args=['7475225506484376816', '8955685588577225007'], kwargs=None)], '-46570811318456514': ['-2178932975760294384', CallNode(function='Maybe.match', type_params={'T': DeclaredTypeInstance(type='Pair', params={'U': DeclaredTypeInstance(type='Either', params={'U': DeclaredTypeInstance(type='Vec', params={'T': DeclaredTypeInstance(type='Integer', params=None)}), 'T': DeclaredTypeInstance(type='Integer', params=None)}), 'T': DeclaredTypeInstance(type='NDArray', params=None)})}, args=['2342498251596656547', '3904670649235592956', '-979998564141937302'], kwargs=None)], '3428731295290351088': ['-9177130969686516551', CallNode(function='NDArrayCompat.from_ndarray', type_params=None, args=['-46570811318456514'], kwargs=None)], '1866713766725349270': ['-5281961658848897139', CallNode(function='NDArrayCompat.to_ndarray', type_params=None, args=['3428731295290351088'], kwargs=None)], '-3411503716089640314': ['-3411503716089640314', CallNode(function='NDArray.__add__', type_params=None, args=['5668266280651108832', '5668266280651108832'], kwargs=None)], '8225854957596729840': ['3738807663539962808', CallNode(function='Maybe.just', type_params=None, args=['-3411503716089640314'], kwargs=None)], '7411810815739975417': ['-5928052358113968640', CallNode(function='NDArrayCompat.from_ndarray', type_params=None, args=['8225854957596729840'], kwargs=None)], '-3044042026182915790': ['3738807663539962808', CallNode(function='Converter.convert', type_params={'T': DeclaredTypeInstance(type='NDArray', params=None)}, args=['7411810815739975417'], kwargs=None)], '-5384039155452932543': ['5105228348163832661', CallNode(function='Maybe.__and__', type_params={'T': DeclaredTypeInstance(type='NDArray', params=None)}, args=['-3044042026182915790', '8955685588577225007'], kwargs=None)], '963218007824931523': ['-2178932975760294384', CallNode(function='Maybe.match', type_params={'T': DeclaredTypeInstance(type='Pair', params={'U': DeclaredTypeInstance(type='Either', params={'U': DeclaredTypeInstance(type='Vec', params={'T': DeclaredTypeInstance(type='Integer', params=None)}), 'T': DeclaredTypeInstance(type='Integer', params=None)}), 'T': DeclaredTypeInstance(type='NDArray', params=None)})}, args=['-5384039155452932543', '3904670649235592956', '-979998564141937302'], kwargs=None)], '-3942902063003924503': ['-9177130969686516551', CallNode(function='NDArrayCompat.from_ndarray', type_params=None, args=['963218007824931523'], kwargs=None)], '-1359712873627368165': ['-5281961658848897139', CallNode(function='NDArrayCompat.to_ndarray', type_params=None, args=['-3942902063003924503'], kwargs=None)], '3276076990700150435': ['5105228348163832661', CallNode(function='Maybe.__and__', type_params={'T': DeclaredTypeInstance(type='NDArray', params=None)}, args=['8225854957596729840', '8955685588577225007'], kwargs=None)], '-8069525802279093698': ['-2178932975760294384', CallNode(function='Maybe.match', type_params={'T': DeclaredTypeInstance(type='Pair', params={'U': DeclaredTypeInstance(type='Either', params={'U': DeclaredTypeInstance(type='Vec', params={'T': DeclaredTypeInstance(type='Integer', params=None)}), 'T': DeclaredTypeInstance(type='Integer', params=None)}), 'T': DeclaredTypeInstance(type='NDArray', params=None)})}, args=['3276076990700150435', '3904670649235592956', '-979998564141937302'], kwargs=None)], '512113888617637249': ['-9177130969686516551', CallNode(function='NDArrayCompat.from_ndarray', type_params=None, args=['-8069525802279093698'], kwargs=None)], '4659314994779263334': ['-5281961658848897139', CallNode(function='NDArrayCompat.to_ndarray', type_params=None, args=['512113888617637249'], kwargs=None)], '3281441242190016612': ['3281441242190016612', CallNode(function='Pair.create', type_params=None, args=['-3411503716089640314', '3438482133718761997'], kwargs=None)], '-3022580817830158000': ['5105228348163832661', CallNode(function='Maybe.just', type_params=None, args=['3281441242190016612'], kwargs=None)], '-3456717881889549357': ['-2178932975760294384', CallNode(function='Maybe.match', type_params={'T': DeclaredTypeInstance(type='Pair', params={'U': DeclaredTypeInstance(type='Either', params={'U': DeclaredTypeInstance(type='Vec', params={'T': DeclaredTypeInstance(type='Integer', params=None)}), 'T': DeclaredTypeInstance(type='Integer', params=None)}), 'T': DeclaredTypeInstance(type='NDArray', params=None)})}, args=['-3022580817830158000', '3904670649235592956', '-979998564141937302'], kwargs=None)], '-4063692649573402404': ['-9177130969686516551', CallNode(function='NDArrayCompat.from_ndarray', type_params=None, args=['-3456717881889549357'], kwargs=None)], '4357491119790259636': ['-5281961658848897139', CallNode(function='NDArrayCompat.to_ndarray', type_params=None, args=['-4063692649573402404'], kwargs=None)], '3928979941275204021': ['-2178932975760294384', CallNode(function='Abstraction.__call__', type_params={'U': DeclaredTypeInstance(type='Maybe', params={'T': DeclaredTypeInstance(type='NDArray', params=None)}), 'T': DeclaredTypeInstance(type='Pair', params={'U': DeclaredTypeInstance(type='Either', params={'U': DeclaredTypeInstance(type='Vec', params={'T': DeclaredTypeInstance(type='Integer', params=None)}), 'T': DeclaredTypeInstance(type='Integer', params=None)}), 'T': DeclaredTypeInstance(type='NDArray', params=None)})}, args=['-979998564141937302', '3281441242190016612'], kwargs=None)], '-5837188023904175992': ['-9177130969686516551', CallNode(function='NDArrayCompat.from_ndarray', type_params=None, args=['3928979941275204021'], kwargs=None)], '-5681086482397369699': ['-5281961658848897139', CallNode(function='NDArrayCompat.to_ndarray', type_params=None, args=['-5837188023904175992'], kwargs=None)], '5755504588054598894': ['5755504588054598894', CallNode(function='Pair.left', type_params={'U': DeclaredTypeInstance(type='Either', params={'U': DeclaredTypeInstance(type='Vec', params={'T': DeclaredTypeInstance(type='Integer', params=None)}), 'T': DeclaredTypeInstance(type='Integer', params=None)}), 'T': DeclaredTypeInstance(type='NDArray', params=None)}, args=['3281441242190016612'], kwargs=None)], '-7696148307407477498': ['-7696148307407477498', CallNode(function='Pair.right', type_params={'U': DeclaredTypeInstance(type='Either', params={'U': DeclaredTypeInstance(type='Vec', params={'T': DeclaredTypeInstance(type='Integer', params=None)}), 'T': DeclaredTypeInstance(type='Integer', params=None)}), 'T': DeclaredTypeInstance(type='NDArray', params=None)}, args=['3281441242190016612'], kwargs=None)], '1706398612661724173': ['1706398612661724173', CallNode(function='NDArray.__getitem__', type_params=None, args=['5755504588054598894', '-7696148307407477498'], kwargs=None)], '7576600612786205063': ['-2178932975760294384', CallNode(function='Maybe.just', type_params={'T': DeclaredTypeInstance(type='NDArray', params=None)}, args=['1706398612661724173'], kwargs=None)], '7604809585525828148': ['-9177130969686516551', CallNode(function='NDArrayCompat.from_ndarray', type_params=None, args=['7576600612786205063'], kwargs=None)], '-7442556872907999520': ['-5281961658848897139', CallNode(function='NDArrayCompat.to_ndarray', type_params=None, args=['7604809585525828148'], kwargs=None)], '1510050165098996054': ['1706398612661724173', CallNode(function='NDArray.__getitem__', type_params=None, args=['5755504588054598894', '3438482133718761997'], kwargs=None)], '-8020584022532179864': ['-2178932975760294384', CallNode(function='Maybe.just', type_params={'T': DeclaredTypeInstance(type='NDArray', params=None)}, args=['1510050165098996054'], kwargs=None)], '8145083593342055103': ['-9177130969686516551', CallNode(function='NDArrayCompat.from_ndarray', type_params=None, args=['-8020584022532179864'], kwargs=None)], '3497394292135972729': ['-5281961658848897139', CallNode(function='NDArrayCompat.to_ndarray', type_params=None, args=['8145083593342055103'], kwargs=None)], '167139333153174711': ['167139333153174711', CallNode(function='NDArray.__getitem__', type_params=None, args=['-3411503716089640314', '3438482133718761997'], kwargs=None)], '232939652242167621': ['-2178932975760294384', CallNode(function='Maybe.just', type_params={'T': DeclaredTypeInstance(type='NDArray', params=None)}, args=['167139333153174711'], kwargs=None)], '-2407715966420202401': ['-9177130969686516551', CallNode(function='NDArrayCompat.from_ndarray', type_params=None, args=['232939652242167621'], kwargs=None)], '7892748191390383189': ['-5281961658848897139', CallNode(function='NDArrayCompat.to_ndarray', type_params=None, args=['-2407715966420202401'], kwargs=None)], '8319230915774641537': ['-5281961658848897139', CallNode(function='NDArray.to_ndarray', type_params=None, args=['167139333153174711'], kwargs=None)], '-6051983548820151717': ['-6051983548820151717', CallNode(function='NDArray.to_ndarray', type_params=None, args=['-3411503716089640314'], kwargs=None)], '8368899336284295099': ['8368899336284295099', CallNode(function='unbox_idxs', type_params=None, args=['3438482133718761997'], kwargs=None)], '-8049593370211554969': ['-5281961658848897139', CallNode(function='ndarray_getitem', type_params=None, args=['-6051983548820151717', '8368899336284295099'], kwargs=None)], '-8591904898952679221': ['8368899336284295099', CallNode(function='unbox_integer', type_params=None, args=['-1448899694609174123'], kwargs=None)], '2323171471742117409': ['-5281961658848897139', CallNode(function='ndarray_getitem', type_params=None, args=['-6051983548820151717', '-8591904898952679221'], kwargs=None)], '-3299145903312756364': ['-5281961658848897139', CallNode(function='ndarray_getitem', type_params=None, args=['-6051983548820151717', '7929563447330875300'], kwargs=None)], '1478565890208829064': ['1478565890208829064', CallNode(function='NDArray.to_ndarray', type_params=None, args=['5668266280651108832'], kwargs=None)], '-6546362162623416443': ['-6051983548820151717', CallNode(function='ndarray_add', type_params=None, args=['1478565890208829064', '1478565890208829064'], kwargs=None)], '-6010735612985633894': ['-5281961658848897139', CallNode(function='ndarray_getitem', type_params=None, args=['-6546362162623416443', '7929563447330875300'], kwargs=None)], '6695801540915528909': ['6695801540915528909', CallNode(function='unbox_integer', type_params=None, args=['-3131809300698277100'], kwargs=None)], '1888482096358126515': ['1478565890208829064', CallNode(function='arange', type_params=None, args=['6695801540915528909'], kwargs=None)], '-1713706598553016229': ['-6051983548820151717', CallNode(function='ndarray_add', type_params=None, args=['1888482096358126515', '1888482096358126515'], kwargs=None)], '5986287749207772674': ['-5281961658848897139', CallNode(function='ndarray_getitem', type_params=None, args=['-1713706598553016229', '7929563447330875300'], kwargs=None)], '-7172645340293335110': ['1478565890208829064', CallNode(function='arange', type_params=None, args=['7929563447225870375'], kwargs=None)], '-7066220164683785549': ['-6051983548820151717', CallNode(function='ndarray_add', type_params=None, args=['-7172645340293335110', '-7172645340293335110'], kwargs=None)], '-3884366925730321283': ['-5281961658848897139', CallNode(function='ndarray_getitem', type_params=None, args=['-7066220164683785549', '7929563447330875300'], kwargs=None)], '4681656730430286325': ['1478565890208829064', PrimitiveNode(type='ndarray', repr='array([ 0,  1,  2,  3,  4,  5,  6,  7,  8,  9, 10, 11, 12, 13, 14, 15, 16,\\n       17, 18, 19, 20, 21, 22, 23, 24, 25, 26, 27, 28, 29, 30, 31, 32, 33,\\n       34, 35, 36, 37, 38, 39, 40, 41, 42, 43, 44, 45, 46, 47, 48, 49, 50,\\n       51, 52, 53, 54, 55, 56, 57, 58, 59, 60, 61, 62, 63, 64, 65, 66, 67,\\n       68, 69, 70, 71, 72, 73, 74, 75, 76, 77, 78, 79, 80, 81, 82, 83, 84,\\n       85, 86, 87, 88, 89, 90, 91, 92, 93, 94, 95, 96, 97, 98, 99])')], '-3114914308302251085': ['-6051983548820151717', CallNode(function='ndarray_add', type_params=None, args=['4681656730430286325', '4681656730430286325'], kwargs=None)], '8479516727914236203': ['-5281961658848897139', CallNode(function='ndarray_getitem', type_params=None, args=['-3114914308302251085', '7929563447330875300'], kwargs=None)], '4681656734119531525': ['-6051983548820151717', PrimitiveNode(type='ndarray', repr='array([  0,   2,   4,   6,   8,  10,  12,  14,  16,  18,  20,  22,  24,\\n        26,  28,  30,  32,  34,  36,  38,  40,  42,  44,  46,  48,  50,\\n        52,  54,  56,  58,  60,  62,  64,  66,  68,  70,  72,  74,  76,\\n        78,  80,  82,  84,  86,  88,  90,  92,  94,  96,  98, 100, 102,\\n       104, 106, 108, 110, 112, 114, 116, 118, 120, 122, 124, 126, 128,\\n       130, 132, 134, 136, 138, 140, 142, 144, 146, 148, 150, 152, 154,\\n       156, 158, 160, 162, 164, 166, 168, 170, 172, 174, 176, 178, 180,\\n       182, 184, 186, 188, 190, 192, 194, 196, 198])')], '-764243351141283930': ['-5281961658848897139', CallNode(function='ndarray_getitem', type_params=None, args=['4681656734119531525', '7929563447330875300'], kwargs=None)], '4681657163630810725': ['-5281961658848897139', PrimitiveNode(type='ndarray', repr='array(10)')]}, states=States(initial='-5281961658848897139', states=[State(node='-692955919929815139', rule='metadsl_core.numpy.NDArrayCompat.__getitem__', label=None), State(node='1669952521964761772', rule='metadsl_core.either.convert_to_either', label=None), State(node='3238987944950215735', rule='metadsl_core.integer.convert_integer', label=None), State(node='-6875258176901991935', rule='metadsl_core.numpy.arange', label=None), State(node='-2025809176917072033', rule='metadsl_core.integer.convert_integer', label=None), State(node='-6076995830243228477', rule='metadsl_core.abstraction.Abstraction.from_fn', label=None), State(node='-3509893514905579143', rule='metadsl_core.abstraction.Abstraction.from_fn', label=None), State(node='6657799245420990369', rule='metadsl_core.abstraction.Abstraction.from_fn', label=None), State(node='5019884390065704826', rule='metadsl_core.abstraction.Abstraction.from_fn', label=None), State(node='467193670212018109', rule='metadsl_core.maybe.Maybe.map', label=None), State(node='5378610294031420407', rule='metadsl_core.maybe.Maybe.map', label=None), State(node='-4937833522134177421', rule='metadsl_core.maybe.Maybe.map', label=None), State(node='4409197928594064543', rule='metadsl_core.maybe.maybe_match', label=None), State(node='543791791595042277', rule='metadsl_core.maybe.Maybe.map', label=None), State(node='6607133612709699955', rule='metadsl_core.maybe.Maybe.map', label=None), State(node='-8813789946771923269', rule='metadsl_core.maybe.maybe_match', label=None), State(node='-5255964175121921594', rule='metadsl_core.maybe.maybe_match', label=None), State(node='8109027888668994712', rule='metadsl_core.abstraction.Abstraction.from_fn', label=None), State(node='1503670130711119168', rule='metadsl_core.abstraction.Abstraction.from_fn', label=None), State(node='3125821275735179278', rule='metadsl_core.abstraction.Abstraction.from_fn', label=None), State(node='-8030635618025669199', rule='metadsl_core.abstraction.compose', label=None), State(node='2855355018387612803', rule='metadsl_core.abstraction.compose', label=None), State(node='192787192234352278', rule='metadsl_core.abstraction.compose', label=None), State(node='-7905890774861574462', rule='metadsl_core.abstraction.beta_reduce', label=None), State(node='8991855025522833901', rule='metadsl_core.maybe.maybe_or', label=None), State(node='-2531045510318504649', rule='metadsl_core.abstraction.compose', label=None), State(node='601783772926128064', rule='metadsl_core.abstraction.beta_reduce', label=None), State(node='-3920676090234507581', rule='metadsl_core.abstraction.compose', label=None), State(node='1866713766725349270', rule='metadsl_core.abstraction.beta_reduce', label=None), State(node='-1359712873627368165', rule='metadsl_core.numpy.add_compat', label=None), State(node='4659314994779263334', rule='metadsl_core.numpy.convert_to_ndarray', label=None), State(node='4357491119790259636', rule='metadsl_core.maybe.maybe_and', label=None), State(node='-5681086482397369699', rule='metadsl_core.maybe.maybe_match', label=None), State(node='-7442556872907999520', rule='metadsl_core.abstraction.beta_reduce', label=None), State(node='3497394292135972729', rule='metadsl_core.pair.pair_right', label=None), State(node='7892748191390383189', rule='metadsl_core.pair.pair_left', label=None), State(node='7892748191390383189', rule='', label='convert'), State(node='8319230915774641537', rule='metadsl_core.numpy.box_unbox_ndarray_compat', label=None), State(node='-8049593370211554969', rule='metadsl_core.numpy_engine.unbox_ndarray_getitem', label=None), State(node='2323171471742117409', rule='metadsl_core.numpy_engine.unbox_idxs_rule', label=None), State(node='-3299145903312756364', rule='metadsl_core.numpy_engine.unbox_integer_rule', label=None), State(node='-6010735612985633894', rule='metadsl_core.numpy_engine.unbox_ndarray_add', label=None), State(node='5986287749207772674', rule='metadsl_core.numpy_engine.unbox_arange', label=None), State(node='-3884366925730321283', rule='metadsl_core.numpy_engine.unbox_integer_rule', label=None), State(node='-3884366925730321283', rule='', label='unbox'), State(node='8479516727914236203', rule='metadsl_core.numpy_engine.arange', label=None), State(node='-764243351141283930', rule='metadsl_core.numpy_engine.ndarray_add', label=None), State(node='4681657163630810725', rule='metadsl_core.numpy_engine.ndarray_getitem', label=None), State(node='4681657163630810725', rule='', label='execute')]))"
      ]
     },
     "metadata": {},
     "output_type": "display_data"
    },
    {
     "data": {
      "text/plain": [
       "array(10)"
      ]
     },
     "metadata": {},
     "output_type": "display_data"
    }
   ],
   "source": [
    "N = 100\n",
    "expr = (arange(N) + arange(N))[5].to_ndarray()\n",
    "expr\n",
    "expr._ipython_display_()"
   ]
  },
  {
   "cell_type": "markdown",
   "metadata": {},
   "source": [
    "Now, we can add an optimization replacement, so that we do the getitem before adding the two expressions:"
   ]
  },
  {
   "cell_type": "code",
   "execution_count": 3,
   "metadata": {},
   "outputs": [],
   "source": [
    "@register\n",
    "@rule\n",
    "def optimize_getitem_add(l: NDArray, r: NDArray, idx: IndxType) -> R[NDArray]:\n",
    "    return (\n",
    "        # expression to match against\n",
    "        (l + r)[idx],\n",
    "        # expression to replace it with\n",
    "        l[idx] + r[idx]\n",
    "    )"
   ]
  },
  {
   "cell_type": "markdown",
   "metadata": {},
   "source": [
    "Now, when we look at the execution steps, we see that it is doing each getitem before adding, which should be more efficient:"
   ]
  },
  {
   "cell_type": "code",
   "execution_count": 4,
   "metadata": {},
   "outputs": [
    {
     "data": {
      "application/json": {
       "nodes": {
        "-1012365816900040780": [
         "-4657327696202073921",
         {
          "args": [
           "-6022807547901512444"
          ],
          "function": "Converter.convert",
          "type_params": {
           "T": {
            "type": "NDArray"
           }
          }
         }
        ],
        "-1038334610434623674": [
         "-1662407830212765793",
         {
          "args": [
           "-2525517652145278719",
           "1585156807716819921"
          ],
          "function": "Abstraction.__add__",
          "type_params": {
           "T": {
            "type": "NDArray"
           },
           "U": {
            "params": {
             "T": {
              "type": "NDArray"
             }
            },
            "type": "Maybe"
           }
          }
         }
        ],
        "-1044082949805659749": [
         "-1044082949805659749",
         {
          "args": [
           "-9011949978648459748"
          ],
          "function": "Maybe.just",
          "type_params": {
           "T": {
            "type": "NDArray"
           }
          }
         }
        ],
        "-105242845287374559": [
         "-5281961658848897139",
         {
          "args": [
           "4735386674060708040"
          ],
          "function": "NDArrayCompat.to_ndarray"
         }
        ],
        "-1235563763381942461": [
         "-5281961658848897139",
         {
          "args": [
           "-4529994381046582686",
           "-4529994381046582686"
          ],
          "function": "ndarray_add"
         }
        ],
        "-1273181020905429240": [
         "-4264090195847481250",
         {
          "args": [
           "5957420681722204814",
           "132669007182046688"
          ],
          "function": "NDArrayCompat.__add__"
         }
        ],
        "-1275005779964108530": [
         "-9177130969686516551",
         {
          "args": [
           "6003199730597830134"
          ],
          "function": "NDArrayCompat.from_ndarray"
         }
        ],
        "-1293522413629507583": [
         "-1293522413629507583",
         {
          "repr": "<function NDArrayCompat.__getitem__.<locals>.<lambda> at 0x10e2b4b70>",
          "type": "function"
         }
        ],
        "-1377547289922163818": [
         "4035649169692160937",
         {
          "args": [
           "-3979005081292367894",
           "3281441242190016612"
          ],
          "function": "Abstraction.__call__",
          "type_params": {
           "T": {
            "params": {
             "T": {
              "type": "NDArray"
             },
             "U": {
              "params": {
               "T": {
                "type": "Integer"
               },
               "U": {
                "params": {
                 "T": {
                  "type": "Integer"
                 }
                },
                "type": "Vec"
               }
              },
              "type": "Either"
             }
            },
            "type": "Pair"
           },
           "U": {
            "params": {
             "T": {
              "type": "NDArray"
             }
            },
            "type": "Maybe"
           }
          }
         }
        ],
        "-137826882274979556": [
         "8502660837632541408",
         {
          "args": [
           "-4426976549251226415",
           "8955685588577225007"
          ],
          "function": "Maybe.__and__",
          "type_params": {
           "T": {
            "type": "NDArray"
           }
          }
         }
        ],
        "-1397785812529730010": [
         "-9177130969686516551",
         {
          "args": [
           "-6898080762443331342"
          ],
          "function": "NDArrayCompat.from_ndarray"
         }
        ],
        "-1448899694609174123": [
         "-1448899694609174123",
         {
          "args": [
           "7929563447330875300"
          ],
          "function": "Integer.from_int"
         }
        ],
        "-1511046752529135579": [
         "8502660837632541408",
         {
          "args": [
           "1645808693577477251",
           "-1677132938923416940"
          ],
          "function": "Maybe.__and__",
          "type_params": {
           "T": {
            "type": "NDArray"
           }
          }
         }
        ],
        "-1570463946834956669": [
         "-1625682492666313023",
         {
          "args": [
           "132293261472413313"
          ],
          "function": "NDArrayCompat.from_ndarray"
         }
        ],
        "-1584840993100416059": [
         "-5281961658848897139",
         {
          "args": [
           "-5086137649554023920"
          ],
          "function": "NDArrayCompat.to_ndarray"
         }
        ],
        "-1625682492666313023": [
         "-1625682492666313023",
         {
          "args": [
           "-7714184177713562882"
          ],
          "function": "NDArrayCompat.from_ndarray"
         }
        ],
        "-1662407830212765793": [
         "-1662407830212765793",
         {
          "args": [
           "-7293254293253925776",
           "1585156807716819921"
          ],
          "function": "Abstraction.__add__",
          "type_params": {
           "T": {
            "type": "NDArray"
           },
           "U": {
            "params": {
             "T": {
              "type": "NDArray"
             }
            },
            "type": "Maybe"
           }
          }
         }
        ],
        "-1677132938923416940": [
         "2695006792991180376",
         {
          "args": [
           "-7863093532163047772",
           "-6274474774942059959"
          ],
          "function": "Maybe.__or__",
          "type_params": {
           "T": {
            "params": {
             "T": {
              "type": "Integer"
             },
             "U": {
              "params": {
               "T": {
                "type": "Integer"
               }
              },
              "type": "Vec"
             }
            },
            "type": "Either"
           }
          }
         }
        ],
        "-1697382596041886450": [
         "-1697382596041886450",
         {
          "args": [
           "-8442994137960948810",
           "3904670649235592956",
           "-1662407830212765793"
          ],
          "function": "Maybe.match",
          "type_params": {
           "T": {
            "type": "Integer"
           }
          }
         }
        ],
        "-1731939772881271889": [
         "-1731939772881271889",
         {
          "args": [
           "-2392957684524066418"
          ],
          "function": "Converter.convert",
          "type_params": {
           "T": {
            "type": "NDArray"
           }
          }
         }
        ],
        "-1793125784451659429": [
         "-5281961658848897139",
         {
          "args": [
           "7498594492410777200",
           "7498594492410777200"
          ],
          "function": "ndarray_add"
         }
        ],
        "-1830947424158894334": [
         "-4657327696202073921",
         {
          "args": [
           "3954943629499034635"
          ],
          "function": "Converter.convert",
          "type_params": {
           "T": {
            "type": "NDArray"
           }
          }
         }
        ],
        "-1877078773385754871": [
         "-5281961658848897139",
         {
          "args": [
           "7130961231851722511"
          ],
          "function": "NDArrayCompat.to_ndarray"
         }
        ],
        "-1881452536892832357": [
         "-1881452536892832357",
         {
          "repr": "Either.right",
          "type": "BoundInfer"
         }
        ],
        "-1887839988067155443": [
         "-5281961658848897139",
         {
          "args": [
           "8177597676630684467"
          ],
          "function": "NDArrayCompat.to_ndarray"
         }
        ],
        "-2056080962441618427": [
         "-9177130969686516551",
         {
          "args": [
           "7938352705060161012"
          ],
          "function": "NDArrayCompat.from_ndarray"
         }
        ],
        "-2148437186735635834": [
         "-4264090195847481250",
         {
          "args": [
           "538172979487181565",
           "538172979487181565"
          ],
          "function": "NDArrayCompat.__add__"
         }
        ],
        "-2187598542372021273": [
         "-9177130969686516551",
         {
          "args": [
           "1612270974676835373"
          ],
          "function": "NDArrayCompat.from_ndarray"
         }
        ],
        "-2257581189001708563": [
         "-5281961658848897139",
         {
          "args": [
           "6090055618020902548"
          ],
          "function": "NDArrayCompat.to_ndarray"
         }
        ],
        "-2285846794637674533": [
         "-5281961658848897139",
         {
          "args": [
           "3455548431527478986",
           "3455548431527478986"
          ],
          "function": "ndarray_add"
         }
        ],
        "-2287343561468040193": [
         "4035649169692160937",
         {
          "args": [
           "3276076990700150435",
           "3904670649235592956",
           "-3979005081292367894"
          ],
          "function": "Maybe.match",
          "type_params": {
           "T": {
            "params": {
             "T": {
              "type": "NDArray"
             },
             "U": {
              "params": {
               "T": {
                "type": "Integer"
               },
               "U": {
                "params": {
                 "T": {
                  "type": "Integer"
                 }
                },
                "type": "Vec"
               }
              },
              "type": "Either"
             }
            },
            "type": "Pair"
           }
          }
         }
        ],
        "-2292070056515589903": [
         "-4657327696202073921",
         {
          "args": [
           "-4650555701787094139"
          ],
          "function": "Converter.convert",
          "type_params": {
           "T": {
            "type": "NDArray"
           }
          }
         }
        ],
        "-233472917803222217": [
         "-5281961658848897139",
         {
          "args": [
           "6629095570166745970"
          ],
          "function": "NDArrayCompat.to_ndarray"
         }
        ],
        "-2372905008136394232": [
         "-5281961658848897139",
         {
          "args": [
           "7141999614432729020"
          ],
          "function": "NDArrayCompat.to_ndarray"
         }
        ],
        "-2392957684524066418": [
         "-2392957684524066418",
         {
          "args": [
           "5957414941209220213",
           "5957414941209220213"
          ],
          "function": "NDArrayCompat.__add__"
         }
        ],
        "-2401271500172572526": [
         "4035649169692160937",
         {
          "args": [
           "-5384039155452932543",
           "3904670649235592956",
           "-3979005081292367894"
          ],
          "function": "Maybe.match",
          "type_params": {
           "T": {
            "params": {
             "T": {
              "type": "NDArray"
             },
             "U": {
              "params": {
               "T": {
                "type": "Integer"
               },
               "U": {
                "params": {
                 "T": {
                  "type": "Integer"
                 }
                },
                "type": "Vec"
               }
              },
              "type": "Either"
             }
            },
            "type": "Pair"
           }
          }
         }
        ],
        "-2407715966420202401": [
         "-9177130969686516551",
         {
          "args": [
           "232939652242167621"
          ],
          "function": "NDArrayCompat.from_ndarray"
         }
        ],
        "-2525517652145278719": [
         "-7293254293253925776",
         {
          "args": [
           "-9011949978648459748",
           "-1044082949805659749"
          ],
          "function": "Abstraction.create",
          "type_params": {
           "T": {
            "type": "NDArray"
           },
           "U": {
            "params": {
             "T": {
              "type": "NDArray"
             }
            },
            "type": "Maybe"
           }
          }
         }
        ],
        "-2536339837989076326": [
         "-5281961658848897139",
         {
          "args": [
           "1650229264940692165"
          ],
          "function": "NDArrayCompat.to_ndarray"
         }
        ],
        "-2545139309697966504": [
         "-5281961658848897139",
         {
          "args": [
           "7721075201050541004"
          ],
          "function": "NDArrayCompat.to_ndarray"
         }
        ],
        "-2548520950610565718": [
         "-5281961658848897139",
         {
          "args": [
           "-8607043800215046248"
          ],
          "function": "NDArrayCompat.to_ndarray"
         }
        ],
        "-2549737338481120339": [
         "-5281961658848897139",
         {
          "args": [
           "5153155067992430676"
          ],
          "function": "NDArrayCompat.to_ndarray"
         }
        ],
        "-2555114394254853763": [
         "-5281961658848897139",
         {
          "args": [
           "5850578274881120740"
          ],
          "function": "NDArrayCompat.to_ndarray"
         }
        ],
        "-2627613708899276376": [
         "2901486184407898514",
         {
          "args": [
           "7195713575237942534",
           "-754019181540390696",
           "8248950071670219750"
          ],
          "function": "Maybe.match",
          "type_params": {
           "T": {
            "params": {
             "T": {
              "type": "Integer"
             }
            },
            "type": "Vec"
           }
          }
         }
        ],
        "-279173692147741471": [
         "-279173692147741471",
         {
          "args": [
           "-7660677309244214554",
           "-8871729180521625528"
          ],
          "function": "Abstraction.__add__",
          "type_params": {
           "T": {
            "params": {
             "T": {
              "type": "Integer"
             },
             "U": {
              "params": {
               "T": {
                "type": "Integer"
               }
              },
              "type": "Vec"
             }
            },
            "type": "Either"
           },
           "U": {
            "params": {
             "T": {
              "params": {
               "T": {
                "type": "Integer"
               },
               "U": {
                "params": {
                 "T": {
                  "type": "Integer"
                 }
                },
                "type": "Vec"
               }
              },
              "type": "Either"
             }
            },
            "type": "Maybe"
           }
          }
         }
        ],
        "-2820208290180765478": [
         "-5281961658848897139",
         {
          "args": [
           "-2056080962441618427"
          ],
          "function": "NDArrayCompat.to_ndarray"
         }
        ],
        "-2861860061290690084": [
         "8486722407058537054",
         {
          "args": [
           "3438482133718761997"
          ],
          "function": "Maybe.just",
          "type_params": {
           "T": {
            "params": {
             "T": {
              "type": "Integer"
             },
             "U": {
              "params": {
               "T": {
                "type": "Integer"
               }
              },
              "type": "Vec"
             }
            },
            "type": "Either"
           }
          }
         }
        ],
        "-2876691355224468715": [
         "4035649169692160937",
         {
          "args": [
           "-3009327541969435377",
           "3904670649235592956",
           "-3979005081292367894"
          ],
          "function": "Maybe.match",
          "type_params": {
           "T": {
            "params": {
             "T": {
              "type": "NDArray"
             },
             "U": {
              "params": {
               "T": {
                "type": "Integer"
               },
               "U": {
                "params": {
                 "T": {
                  "type": "Integer"
                 }
                },
                "type": "Vec"
               }
              },
              "type": "Either"
             }
            },
            "type": "Pair"
           }
          }
         }
        ],
        "-2952094401554747717": [
         "4035649169692160937",
         {
          "args": [
           "-8809534465752996021",
           "3904670649235592956",
           "-3979005081292367894"
          ],
          "function": "Maybe.match",
          "type_params": {
           "T": {
            "params": {
             "T": {
              "type": "NDArray"
             },
             "U": {
              "params": {
               "T": {
                "type": "Integer"
               },
               "U": {
                "params": {
                 "T": {
                  "type": "Integer"
                 }
                },
                "type": "Vec"
               }
              },
              "type": "Either"
             }
            },
            "type": "Pair"
           }
          }
         }
        ],
        "-2990722845636545594": [
         "-7660677309244214554",
         {
          "args": [
           "2492526699005507642",
           "-4454967555415645571"
          ],
          "function": "Abstraction.create",
          "type_params": {
           "T": {
            "params": {
             "T": {
              "type": "Integer"
             },
             "U": {
              "params": {
               "T": {
                "type": "Integer"
               }
              },
              "type": "Vec"
             }
            },
            "type": "Either"
           },
           "U": {
            "params": {
             "T": {
              "params": {
               "T": {
                "type": "Integer"
               },
               "U": {
                "params": {
                 "T": {
                  "type": "Integer"
                 }
                },
                "type": "Vec"
               }
              },
              "type": "Either"
             }
            },
            "type": "Maybe"
           }
          }
         }
        ],
        "-3009327541969435377": [
         "8502660837632541408",
         {
          "args": [
           "-4426976549251226415",
           "7728163612015094428"
          ],
          "function": "Maybe.__and__",
          "type_params": {
           "T": {
            "type": "NDArray"
           }
          }
         }
        ],
        "-3022580817830158000": [
         "8502660837632541408",
         {
          "args": [
           "3281441242190016612"
          ],
          "function": "Maybe.just"
         }
        ],
        "-3044042026182915790": [
         "-4657327696202073921",
         {
          "args": [
           "7411810815739975417"
          ],
          "function": "Converter.convert",
          "type_params": {
           "T": {
            "type": "NDArray"
           }
          }
         }
        ],
        "-3125131827332125891": [
         "4035649169692160937",
         {
          "args": [
           "8227145086890198440",
           "3904670649235592956",
           "-7929933669310959521"
          ],
          "function": "Maybe.match",
          "type_params": {
           "T": {
            "params": {
             "T": {
              "type": "NDArray"
             },
             "U": {
              "params": {
               "T": {
                "type": "Integer"
               },
               "U": {
                "params": {
                 "T": {
                  "type": "Integer"
                 }
                },
                "type": "Vec"
               }
              },
              "type": "Either"
             }
            },
            "type": "Pair"
           }
          }
         }
        ],
        "-3131809300698277100": [
         "-3131809300698277100",
         {
          "args": [
           "7929563447225870375"
          ],
          "function": "Integer.from_int"
         }
        ],
        "-3192881285023434533": [
         "-9177130969686516551",
         {
          "args": [
           "-6657421573467346981"
          ],
          "function": "NDArrayCompat.from_ndarray"
         }
        ],
        "-3229636477889296835": [
         "-9177130969686516551",
         {
          "args": [
           "-6567305610583307951"
          ],
          "function": "NDArrayCompat.from_ndarray"
         }
        ],
        "-3244667734406134969": [
         "-3244667734406134969",
         {
          "args": [
           "-7971745150971623974",
           "6641299432733888386"
          ],
          "function": "NDArray.__getitem__"
         }
        ],
        "-3337978948669749593": [
         "2695006792991180376",
         {
          "args": [
           "5346454351036495004",
           "-2627613708899276376"
          ],
          "function": "Maybe.__or__",
          "type_params": {
           "T": {
            "params": {
             "T": {
              "type": "Integer"
             },
             "U": {
              "params": {
               "T": {
                "type": "Integer"
               }
              },
              "type": "Vec"
             }
            },
            "type": "Either"
           }
          }
         }
        ],
        "-338232751189935212": [
         "-9177130969686516551",
         {
          "args": [
           "4035649169692160937"
          ],
          "function": "NDArrayCompat.from_ndarray"
         }
        ],
        "-3387562152484636417": [
         "4035649169692160937",
         {
          "args": [
           "2342498251596656547",
           "3904670649235592956",
           "-3979005081292367894"
          ],
          "function": "Maybe.match",
          "type_params": {
           "T": {
            "params": {
             "T": {
              "type": "NDArray"
             },
             "U": {
              "params": {
               "T": {
                "type": "Integer"
               },
               "U": {
                "params": {
                 "T": {
                  "type": "Integer"
                 }
                },
                "type": "Vec"
               }
              },
              "type": "Either"
             }
            },
            "type": "Pair"
           }
          }
         }
        ],
        "-3411503716089640314": [
         "5755504588054598894",
         {
          "args": [
           "5668266280651108832",
           "5668266280651108832"
          ],
          "function": "NDArray.__add__"
         }
        ],
        "-3416066141267607679": [
         "-3416066141267607679",
         {
          "args": [
           "7929563447330875300"
          ],
          "function": "Converter.convert",
          "type_params": {
           "T": {
            "params": {
             "T": {
              "type": "Integer"
             },
             "U": {
              "params": {
               "T": {
                "type": "Integer"
               }
              },
              "type": "Vec"
             }
            },
            "type": "Either"
           }
          }
         }
        ],
        "-3477876327207206289": [
         "-3477876327207206289",
         {
          "args": [
           "782204666144374570"
          ],
          "function": "Abstraction.create_variable",
          "type_params": {
           "T": {
            "type": "Integer"
           },
           "U": {
            "params": {
             "T": {
              "type": "Integer"
             },
             "U": {
              "params": {
               "T": {
                "type": "Integer"
               }
              },
              "type": "Vec"
             }
            },
            "type": "Either"
           }
          }
         }
        ],
        "-3492423308690766165": [
         "4035649169692160937",
         {
          "args": [
           "6849173173472077666",
           "6494948380406284327"
          ],
          "function": "Maybe.map",
          "type_params": {
           "T": {
            "params": {
             "T": {
              "type": "NDArray"
             },
             "U": {
              "params": {
               "T": {
                "type": "Integer"
               },
               "U": {
                "params": {
                 "T": {
                  "type": "Integer"
                 }
                },
                "type": "Vec"
               }
              },
              "type": "Either"
             }
            },
            "type": "Pair"
           }
          }
         }
        ],
        "-3533169068582244492": [
         "1939674178738103160",
         {
          "args": [
           "-6796029686444343107",
           "-3131809300698277100"
          ],
          "function": "Abstraction.__call__",
          "type_params": {
           "T": {
            "type": "Integer"
           },
           "U": {
            "params": {
             "T": {
              "type": "NDArray"
             }
            },
            "type": "Maybe"
           }
          }
         }
        ],
        "-3588758348911579279": [
         "-5281961658848897139",
         {
          "args": [
           "-3192881285023434533"
          ],
          "function": "NDArrayCompat.to_ndarray"
         }
        ],
        "-36014167958209776": [
         "-36014167958209776",
         {
          "args": [
           "5602477112898136929"
          ],
          "function": "arange_"
         }
        ],
        "-3738442817099480136": [
         "-3738442817099480136",
         {
          "args": [
           "-3244667734406134969"
          ],
          "function": "Maybe.just",
          "type_params": {
           "T": {
            "type": "NDArray"
           }
          }
         }
        ],
        "-3817005916255388074": [
         "-4657327696202073921",
         {
          "args": [
           "-528276751697229608"
          ],
          "function": "Converter.convert",
          "type_params": {
           "T": {
            "type": "NDArray"
           }
          }
         }
        ],
        "-3874205195205355599": [
         "-3874205195205355599",
         {
          "args": [
           "7595844918048910182"
          ],
          "function": "Either.right",
          "type_params": {
           "T": {
            "type": "Integer"
           },
           "U": {
            "params": {
             "T": {
              "type": "Integer"
             }
            },
            "type": "Vec"
           }
          }
         }
        ],
        "-3888203582443754260": [
         "8502660837632541408",
         {
          "args": [
           "-4426976549251226415",
           "-7125989683868607675"
          ],
          "function": "Maybe.__and__",
          "type_params": {
           "T": {
            "type": "NDArray"
           }
          }
         }
        ],
        "-3924048906950690208": [
         "8502660837632541408",
         {
          "args": [
           "-1012365816900040780",
           "8955685588577225007"
          ],
          "function": "Maybe.__and__",
          "type_params": {
           "T": {
            "type": "NDArray"
           }
          }
         }
        ],
        "-3979005081292367894": [
         "-3979005081292367894",
         {
          "args": [
           "-4515816141679379126",
           "-3738442817099480136"
          ],
          "function": "Abstraction.create"
         }
        ],
        "-4054743589875753688": [
         "-9177130969686516551",
         {
          "args": [
           "-1377547289922163818"
          ],
          "function": "NDArrayCompat.from_ndarray"
         }
        ],
        "-4057743209670033856": [
         "-4057743209670033856",
         {
          "args": [
           "-1448899694609174123"
          ],
          "function": "Maybe.just"
         }
        ],
        "-4094591097972136167": [
         "-4094591097972136167",
         {
          "repr": "Maybe.just",
          "type": "BoundInfer"
         }
        ],
        "-4118019760064062043": [
         "-1731939772881271889",
         {
          "args": [
           "-4227033389913437920"
          ],
          "function": "Converter.convert",
          "type_params": {
           "T": {
            "type": "NDArray"
           }
          }
         }
        ],
        "-4135098398937554906": [
         "4035649169692160937",
         {
          "args": [
           "8043623796329489448",
           "3904670649235592956",
           "-3979005081292367894"
          ],
          "function": "Maybe.match",
          "type_params": {
           "T": {
            "params": {
             "T": {
              "type": "NDArray"
             },
             "U": {
              "params": {
               "T": {
                "type": "Integer"
               },
               "U": {
                "params": {
                 "T": {
                  "type": "Integer"
                 }
                },
                "type": "Vec"
               }
              },
              "type": "Either"
             }
            },
            "type": "Pair"
           }
          }
         }
        ],
        "-4227033389913437920": [
         "-2392957684524066418",
         {
          "args": [
           "7734890108686739817",
           "7734890108686739817"
          ],
          "function": "NDArrayCompat.__add__"
         }
        ],
        "-4245698127611375010": [
         "-5281961658848897139",
         {
          "args": [
           "-6704007316606680421"
          ],
          "function": "NDArrayCompat.to_ndarray"
         }
        ],
        "-4264090195847481250": [
         "-4264090195847481250",
         {
          "args": [
           "-1625682492666313023",
           "-1625682492666313023"
          ],
          "function": "NDArrayCompat.__add__"
         }
        ],
        "-4417325727130035079": [
         "-7714184177713562882",
         {
          "args": [
           "-1038334610434623674",
           "-3131809300698277100"
          ],
          "function": "Abstraction.__call__",
          "type_params": {
           "T": {
            "type": "Integer"
           },
           "U": {
            "params": {
             "T": {
              "type": "NDArray"
             }
            },
            "type": "Maybe"
           }
          }
         }
        ],
        "-4418802424163847894": [
         "-4418802424163847894",
         {
          "args": [
           "-3874205195205355599"
          ],
          "function": "Maybe.just",
          "type_params": {
           "T": {
            "params": {
             "T": {
              "type": "Integer"
             },
             "U": {
              "params": {
               "T": {
                "type": "Integer"
               }
              },
              "type": "Vec"
             }
            },
            "type": "Either"
           }
          }
         }
        ],
        "-4426976549251226415": [
         "-4657327696202073921",
         {
          "args": [
           "1062238987970653667"
          ],
          "function": "Converter.convert",
          "type_params": {
           "T": {
            "type": "NDArray"
           }
          }
         }
        ],
        "-4454967555415645571": [
         "-4454967555415645571",
         {
          "args": [
           "2492526699005507642"
          ],
          "function": "Maybe.just",
          "type_params": {
           "T": {
            "params": {
             "T": {
              "type": "Integer"
             },
             "U": {
              "params": {
               "T": {
                "type": "Integer"
               }
              },
              "type": "Vec"
             }
            },
            "type": "Either"
           }
          }
         }
        ],
        "-4499179060701053183": [
         "-5281961658848897139",
         {
          "repr": "10",
          "type": "int64"
         }
        ],
        "-4515816141679379126": [
         "-4515816141679379126",
         {
          "args": [
           "-8441167332832851488"
          ],
          "function": "Abstraction.create_variable",
          "type_params": {
           "T": {
            "params": {
             "T": {
              "type": "NDArray"
             },
             "U": {
              "params": {
               "T": {
                "type": "Integer"
               },
               "U": {
                "params": {
                 "T": {
                  "type": "Integer"
                 }
                },
                "type": "Vec"
               }
              },
              "type": "Either"
             }
            },
            "type": "Pair"
           },
           "U": {
            "type": "NDArray"
           }
          }
         }
        ],
        "-4529994381046582686": [
         "-723946642597332421",
         {
          "args": [
           "1478565890208829064",
           "8368899336284295099"
          ],
          "function": "ndarray_getitem"
         }
        ],
        "-4578509408724638683": [
         "-5281961658848897139",
         {
          "args": [
           "5173449264886962518",
           "5173449264886962518"
          ],
          "function": "ndarray_add"
         }
        ],
        "-4650555701787094139": [
         "-4264090195847481250",
         {
          "args": [
           "1182744138744153998",
           "538172979487181565"
          ],
          "function": "NDArrayCompat.__add__"
         }
        ],
        "-4657327696202073921": [
         "-4657327696202073921",
         {
          "args": [
           "-4264090195847481250"
          ],
          "function": "Converter.convert",
          "type_params": {
           "T": {
            "type": "NDArray"
           }
          }
         }
        ],
        "-4809068257750643778": [
         "-9177130969686516551",
         {
          "args": [
           "7963321782420935429"
          ],
          "function": "NDArrayCompat.from_ndarray"
         }
        ],
        "-4950661753505737510": [
         "-9177130969686516551",
         {
          "args": [
           "-3125131827332125891"
          ],
          "function": "NDArrayCompat.from_ndarray"
         }
        ],
        "-4995345293142149025": [
         "2901486184407898514",
         {
          "args": [
           "7195713575237942534",
           "-754019181540390696",
           "836454584771326360"
          ],
          "function": "Maybe.match",
          "type_params": {
           "T": {
            "params": {
             "T": {
              "type": "Integer"
             }
            },
            "type": "Vec"
           }
          }
         }
        ],
        "-5023749376242042757": [
         "4035649169692160937",
         {
          "args": [
           "6446121888231165459",
           "3904670649235592956",
           "-7929933669310959521"
          ],
          "function": "Maybe.match",
          "type_params": {
           "T": {
            "params": {
             "T": {
              "type": "NDArray"
             },
             "U": {
              "params": {
               "T": {
                "type": "Integer"
               },
               "U": {
                "params": {
                 "T": {
                  "type": "Integer"
                 }
                },
                "type": "Vec"
               }
              },
              "type": "Either"
             }
            },
            "type": "Pair"
           }
          }
         }
        ],
        "-5034921434684324421": [
         "-5281961658848897139",
         {
          "args": [
           "-723946642597332421",
           "-723946642597332421"
          ],
          "function": "ndarray_add"
         }
        ],
        "-5086137649554023920": [
         "-9177130969686516551",
         {
          "args": [
           "3049639165504999069"
          ],
          "function": "NDArrayCompat.from_ndarray"
         }
        ],
        "-5281961658848897139": [
         "-5281961658848897139",
         {
          "args": [
           "-9177130969686516551"
          ],
          "function": "NDArrayCompat.to_ndarray"
         }
        ],
        "-528276751697229608": [
         "-4264090195847481250",
         {
          "args": [
           "5957420681722204814",
           "5957420681722204814"
          ],
          "function": "NDArrayCompat.__add__"
         }
        ],
        "-5384039155452932543": [
         "8502660837632541408",
         {
          "args": [
           "-3044042026182915790",
           "8955685588577225007"
          ],
          "function": "Maybe.__and__",
          "type_params": {
           "T": {
            "type": "NDArray"
           }
          }
         }
        ],
        "-5432273202398116650": [
         "-9177130969686516551",
         {
          "args": [
           "-7815845332213257725"
          ],
          "function": "NDArrayCompat.from_ndarray"
         }
        ],
        "-5510346358208569941": [
         "4035649169692160937",
         {
          "args": [
           "-1511046752529135579",
           "3904670649235592956",
           "-7929933669310959521"
          ],
          "function": "Maybe.match",
          "type_params": {
           "T": {
            "params": {
             "T": {
              "type": "NDArray"
             },
             "U": {
              "params": {
               "T": {
                "type": "Integer"
               },
               "U": {
                "params": {
                 "T": {
                  "type": "Integer"
                 }
                },
                "type": "Vec"
               }
              },
              "type": "Either"
             }
            },
            "type": "Pair"
           }
          }
         }
        ],
        "-5586627255211727058": [
         "2695006792991180376",
         {
          "args": [
           "6508932817373433141",
           "-6274474774942059959"
          ],
          "function": "Maybe.__or__",
          "type_params": {
           "T": {
            "params": {
             "T": {
              "type": "Integer"
             },
             "U": {
              "params": {
               "T": {
                "type": "Integer"
               }
              },
              "type": "Vec"
             }
            },
            "type": "Either"
           }
          }
         }
        ],
        "-5693918354505073214": [
         "-5693918354505073214",
         {
          "args": [
           "-3477876327207206289"
          ],
          "function": "Either.left",
          "type_params": {
           "T": {
            "type": "Integer"
           },
           "U": {
            "params": {
             "T": {
              "type": "Integer"
             }
            },
            "type": "Vec"
           }
          }
         }
        ],
        "-5767205988462710480": [
         "-5767205988462710480",
         {
          "args": [
           "-7660677309244214554",
           "6137053630892031812"
          ],
          "function": "Abstraction.__add__",
          "type_params": {
           "T": {
            "params": {
             "T": {
              "type": "Integer"
             },
             "U": {
              "params": {
               "T": {
                "type": "Integer"
               }
              },
              "type": "Vec"
             }
            },
            "type": "Either"
           },
           "U": {
            "params": {
             "T": {
              "params": {
               "T": {
                "type": "Integer"
               },
               "U": {
                "params": {
                 "T": {
                  "type": "Integer"
                 }
                },
                "type": "Vec"
               }
              },
              "type": "Either"
             }
            },
            "type": "Maybe"
           }
          }
         }
        ],
        "-5798802809724824856": [
         "4035649169692160937",
         {
          "args": [
           "4148594007068660519",
           "3904670649235592956",
           "6914956826103742470"
          ],
          "function": "Maybe.match",
          "type_params": {
           "T": {
            "params": {
             "T": {
              "type": "NDArray"
             },
             "U": {
              "params": {
               "T": {
                "type": "Integer"
               },
               "U": {
                "params": {
                 "T": {
                  "type": "Integer"
                 }
                },
                "type": "Vec"
               }
              },
              "type": "Either"
             }
            },
            "type": "Pair"
           }
          }
         }
        ],
        "-5803758837919934266": [
         "-4264090195847481250",
         {
          "args": [
           "1182744138744153998",
           "5957420681722204814"
          ],
          "function": "NDArrayCompat.__add__"
         }
        ],
        "-5875775773204823162": [
         "-5875775773204823162",
         {
          "args": [
           "-36014167958209776"
          ],
          "function": "Maybe.just",
          "type_params": {
           "T": {
            "type": "NDArray"
           }
          }
         }
        ],
        "-5949359165855776123": [
         "-5281961658848897139",
         {
          "args": [
           "8763410445298449381",
           "8763410445298449381"
          ],
          "function": "ndarray_add"
         }
        ],
        "-5980085414178983947": [
         "-3416066141267607679",
         {
          "args": [
           "6840992835378849873",
           "2204826897264784190"
          ],
          "function": "Maybe.__or__",
          "type_params": {
           "T": {
            "params": {
             "T": {
              "type": "Integer"
             },
             "U": {
              "params": {
               "T": {
                "type": "Integer"
               }
              },
              "type": "Vec"
             }
            },
            "type": "Either"
           }
          }
         }
        ],
        "-6022807547901512444": [
         "-4264090195847481250",
         {
          "args": [
           "-1570463946834956669",
           "538172979487181565"
          ],
          "function": "NDArrayCompat.__add__"
         }
        ],
        "-6140945438237859125": [
         "-5281961658848897139",
         {
          "args": [
           "-4950661753505737510"
          ],
          "function": "NDArrayCompat.to_ndarray"
         }
        ],
        "-6274474774942059959": [
         "2901486184407898514",
         {
          "args": [
           "7195713575237942534",
           "-754019181540390696",
           "-5767205988462710480"
          ],
          "function": "Maybe.match",
          "type_params": {
           "T": {
            "params": {
             "T": {
              "type": "Integer"
             }
            },
            "type": "Vec"
           }
          }
         }
        ],
        "-656138738490108348": [
         "-3416066141267607679",
         {
          "args": [
           "4865162026085052172",
           "2204826897264784190"
          ],
          "function": "Maybe.__or__",
          "type_params": {
           "T": {
            "params": {
             "T": {
              "type": "Integer"
             },
             "U": {
              "params": {
               "T": {
                "type": "Integer"
               }
              },
              "type": "Vec"
             }
            },
            "type": "Either"
           }
          }
         }
        ],
        "-6567305610583307951": [
         "4035649169692160937",
         {
          "args": [
           "8043623796329489448",
           "3904670649235592956",
           "6914956826103742470"
          ],
          "function": "Maybe.match",
          "type_params": {
           "T": {
            "params": {
             "T": {
              "type": "NDArray"
             },
             "U": {
              "params": {
               "T": {
                "type": "Integer"
               },
               "U": {
                "params": {
                 "T": {
                  "type": "Integer"
                 }
                },
                "type": "Vec"
               }
              },
              "type": "Either"
             }
            },
            "type": "Pair"
           }
          }
         }
        ],
        "-6580118316492249228": [
         "4035649169692160937",
         {
          "args": [
           "6555983600465518041",
           "6494948380406284327"
          ],
          "function": "Maybe.map",
          "type_params": {
           "T": {
            "params": {
             "T": {
              "type": "NDArray"
             },
             "U": {
              "params": {
               "T": {
                "type": "Integer"
               },
               "U": {
                "params": {
                 "T": {
                  "type": "Integer"
                 }
                },
                "type": "Vec"
               }
              },
              "type": "Either"
             }
            },
            "type": "Pair"
           }
          }
         }
        ],
        "-6657421573467346981": [
         "4035649169692160937",
         {
          "args": [
           "1847518014012259020",
           "-6872534957557579885"
          ],
          "function": "Maybe.map",
          "type_params": {
           "T": {
            "params": {
             "T": {
              "type": "NDArray"
             },
             "U": {
              "params": {
               "T": {
                "type": "Integer"
               },
               "U": {
                "params": {
                 "T": {
                  "type": "Integer"
                 }
                },
                "type": "Vec"
               }
              },
              "type": "Either"
             }
            },
            "type": "Pair"
           }
          }
         }
        ],
        "-6686545371307024261": [
         "-279173692147741471",
         {
          "args": [
           "-2990722845636545594",
           "-8871729180521625528"
          ],
          "function": "Abstraction.__add__",
          "type_params": {
           "T": {
            "params": {
             "T": {
              "type": "Integer"
             },
             "U": {
              "params": {
               "T": {
                "type": "Integer"
               }
              },
              "type": "Vec"
             }
            },
            "type": "Either"
           },
           "U": {
            "params": {
             "T": {
              "params": {
               "T": {
                "type": "Integer"
               },
               "U": {
                "params": {
                 "T": {
                  "type": "Integer"
                 }
                },
                "type": "Vec"
               }
              },
              "type": "Either"
             }
            },
            "type": "Maybe"
           }
          }
         }
        ],
        "-6704007316606680421": [
         "-9177130969686516551",
         {
          "args": [
           "8138129422473267734"
          ],
          "function": "NDArrayCompat.from_ndarray"
         }
        ],
        "-6796029686444343107": [
         "-6796029686444343107",
         {
          "args": [
           "7093854142050087112",
           "1585156807716819921"
          ],
          "function": "Abstraction.__add__",
          "type_params": {
           "T": {
            "type": "NDArray"
           },
           "U": {
            "params": {
             "T": {
              "type": "NDArray"
             }
            },
            "type": "Maybe"
           }
          }
         }
        ],
        "-6802406250591612239": [
         "5957414941209220213",
         {
          "args": [
           "-8887871976037847346"
          ],
          "function": "NDArrayCompat.from_ndarray"
         }
        ],
        "-680558533147514369": [
         "-9177130969686516551",
         {
          "args": [
           "-4135098398937554906"
          ],
          "function": "NDArrayCompat.from_ndarray"
         }
        ],
        "-6872534957557579885": [
         "-6872534957557579885",
         {
          "args": [
           "-4515816141679379126",
           "-3244667734406134969"
          ],
          "function": "Abstraction.create",
          "type_params": {
           "T": {
            "params": {
             "T": {
              "type": "NDArray"
             },
             "U": {
              "params": {
               "T": {
                "type": "Integer"
               },
               "U": {
                "params": {
                 "T": {
                  "type": "Integer"
                 }
                },
                "type": "Vec"
               }
              },
              "type": "Either"
             }
            },
            "type": "Pair"
           },
           "U": {
            "type": "NDArray"
           }
          }
         }
        ],
        "-6891540199889357791": [
         "-279173692147741471",
         {
          "args": [
           "-3477876327207206289",
           "-8262924415670402534"
          ],
          "function": "Abstraction.create"
         }
        ],
        "-6898080762443331342": [
         "4035649169692160937",
         {
          "args": [
           "-3924048906950690208",
           "3904670649235592956",
           "-3979005081292367894"
          ],
          "function": "Maybe.match",
          "type_params": {
           "T": {
            "params": {
             "T": {
              "type": "NDArray"
             },
             "U": {
              "params": {
               "T": {
                "type": "Integer"
               },
               "U": {
                "params": {
                 "T": {
                  "type": "Integer"
                 }
                },
                "type": "Vec"
               }
              },
              "type": "Either"
             }
            },
            "type": "Pair"
           }
          }
         }
        ],
        "-7011619711849110242": [
         "-2392957684524066418",
         {
          "args": [
           "-6802406250591612239",
           "-6802406250591612239"
          ],
          "function": "NDArrayCompat.__add__"
         }
        ],
        "-7125989683868607675": [
         "2695006792991180376",
         {
          "args": [
           "5346454351036495004",
           "-4995345293142149025"
          ],
          "function": "Maybe.__or__",
          "type_params": {
           "T": {
            "params": {
             "T": {
              "type": "Integer"
             },
             "U": {
              "params": {
               "T": {
                "type": "Integer"
               }
              },
              "type": "Vec"
             }
            },
            "type": "Either"
           }
          }
         }
        ],
        "-7128362217130124307": [
         "4035649169692160937",
         {
          "args": [
           "-9032728719831084162",
           "3904670649235592956",
           "-7929933669310959521"
          ],
          "function": "Maybe.match",
          "type_params": {
           "T": {
            "params": {
             "T": {
              "type": "NDArray"
             },
             "U": {
              "params": {
               "T": {
                "type": "Integer"
               },
               "U": {
                "params": {
                 "T": {
                  "type": "Integer"
                 }
                },
                "type": "Vec"
               }
              },
              "type": "Either"
             }
            },
            "type": "Pair"
           }
          }
         }
        ],
        "-7172645340293335110": [
         "1478565890208829064",
         {
          "args": [
           "7929563447225870375"
          ],
          "function": "arange"
         }
        ],
        "-7176004047903659196": [
         "-9177130969686516551",
         {
          "args": [
           "-2952094401554747717"
          ],
          "function": "NDArrayCompat.from_ndarray"
         }
        ],
        "-723946642597332421": [
         "-723946642597332421",
         {
          "args": [
           "4074577022649293540"
          ],
          "function": "NDArray.to_ndarray"
         }
        ],
        "-7246996004018175797": [
         "-9177130969686516551",
         {
          "args": [
           "-5510346358208569941"
          ],
          "function": "NDArrayCompat.from_ndarray"
         }
        ],
        "-7293254293253925776": [
         "-7293254293253925776",
         {
          "args": [
           "-4094591097972136167"
          ],
          "function": "Abstraction.from_fn"
         }
        ],
        "-733937185094673067": [
         "4035649169692160937",
         {
          "args": [
           "7373952721722758372"
          ],
          "function": "Maybe.just",
          "type_params": {
           "T": {
            "type": "NDArray"
           }
          }
         }
        ],
        "-7442556872907999520": [
         "-5281961658848897139",
         {
          "args": [
           "7604809585525828148"
          ],
          "function": "NDArrayCompat.to_ndarray"
         }
        ],
        "-7530698464818735296": [
         "-8549068771019930555",
         {
          "args": [
           "-1731939772881271889",
           "-5980085414178983947"
          ],
          "function": "Maybe.__and__",
          "type_params": {
           "T": {
            "type": "NDArray"
           }
          }
         }
        ],
        "-754019181540390696": [
         "-754019181540390696",
         {
          "function": "Maybe.nothing",
          "type_params": {
           "T": {
            "params": {
             "T": {
              "type": "Integer"
             },
             "U": {
              "params": {
               "T": {
                "type": "Integer"
               }
              },
              "type": "Vec"
             }
            },
            "type": "Either"
           }
          }
         }
        ],
        "-7660677309244214554": [
         "-7660677309244214554",
         {
          "args": [
           "2939876135484546645"
          ],
          "function": "Abstraction.from_fn"
         }
        ],
        "-7692020475537396670": [
         "-5281961658848897139",
         {
          "args": [
           "1992900434640576717"
          ],
          "function": "NDArrayCompat.to_ndarray"
         }
        ],
        "-7696148307407477498": [
         "-7696148307407477498",
         {
          "args": [
           "3281441242190016612"
          ],
          "function": "Pair.right",
          "type_params": {
           "T": {
            "type": "NDArray"
           },
           "U": {
            "params": {
             "T": {
              "type": "Integer"
             },
             "U": {
              "params": {
               "T": {
                "type": "Integer"
               }
              },
              "type": "Vec"
             }
            },
            "type": "Either"
           }
          }
         }
        ],
        "-7714184177713562882": [
         "-7714184177713562882",
         {
          "args": [
           "-8442994137960948810",
           "1585156807716819921"
          ],
          "function": "Maybe.map",
          "type_params": {
           "T": {
            "type": "Integer"
           }
          }
         }
        ],
        "-7742234567815799009": [
         "-5281961658848897139",
         {
          "args": [
           "-4809068257750643778"
          ],
          "function": "NDArrayCompat.to_ndarray"
         }
        ],
        "-7815845332213257725": [
         "4035649169692160937",
         {
          "args": [
           "6849173173472077666",
           "-6872534957557579885"
          ],
          "function": "Maybe.map",
          "type_params": {
           "T": {
            "params": {
             "T": {
              "type": "NDArray"
             },
             "U": {
              "params": {
               "T": {
                "type": "Integer"
               },
               "U": {
                "params": {
                 "T": {
                  "type": "Integer"
                 }
                },
                "type": "Vec"
               }
              },
              "type": "Either"
             }
            },
            "type": "Pair"
           }
          }
         }
        ],
        "-7863093532163047772": [
         "8486722407058537054",
         {
          "args": [
           "-279173692147741471",
           "-1448899694609174123"
          ],
          "function": "Abstraction.__call__",
          "type_params": {
           "T": {
            "type": "Integer"
           },
           "U": {
            "params": {
             "T": {
              "params": {
               "T": {
                "type": "Integer"
               },
               "U": {
                "params": {
                 "T": {
                  "type": "Integer"
                 }
                },
                "type": "Vec"
               }
              },
              "type": "Either"
             }
            },
            "type": "Maybe"
           }
          }
         }
        ],
        "-7929933669310959521": [
         "-7929933669310959521",
         {
          "args": [
           "-7293254293253925776",
           "-6872534957557579885"
          ],
          "function": "Abstraction.__add__",
          "type_params": {
           "T": {
            "type": "NDArray"
           },
           "U": {
            "params": {
             "T": {
              "type": "NDArray"
             }
            },
            "type": "Maybe"
           }
          }
         }
        ],
        "-7970435562759903997": [
         "-7970435562759903997",
         {
          "repr": "Either.left",
          "type": "BoundInfer"
         }
        ],
        "-7971745150971623974": [
         "-7971745150971623974",
         {
          "args": [
           "-4515816141679379126"
          ],
          "function": "Pair.left",
          "type_params": {
           "T": {
            "type": "NDArray"
           },
           "U": {
            "params": {
             "T": {
              "type": "Integer"
             },
             "U": {
              "params": {
               "T": {
                "type": "Integer"
               }
              },
              "type": "Vec"
             }
            },
            "type": "Either"
           }
          }
         }
        ],
        "-8020584022532179864": [
         "4035649169692160937",
         {
          "args": [
           "1510050165098996054"
          ],
          "function": "Maybe.just",
          "type_params": {
           "T": {
            "type": "NDArray"
           }
          }
         }
        ],
        "-8027661977793249311": [
         "-1662407830212765793",
         {
          "args": [
           "5602477112898136929",
           "-5875775773204823162"
          ],
          "function": "Abstraction.create"
         }
        ],
        "-8042496346563878572": [
         "2695006792991180376",
         {
          "args": [
           "8486722407058537054",
           "-6274474774942059959"
          ],
          "function": "Maybe.__or__",
          "type_params": {
           "T": {
            "params": {
             "T": {
              "type": "Integer"
             },
             "U": {
              "params": {
               "T": {
                "type": "Integer"
               }
              },
              "type": "Vec"
             }
            },
            "type": "Either"
           }
          }
         }
        ],
        "-8047665718338118652": [
         "-8047665718338118652",
         {
          "args": [
           "6103565132160316810"
          ],
          "function": "Abstraction.from_fn"
         }
        ],
        "-8080735215263406917": [
         "-9177130969686516551",
         {
          "args": [
           "-5023749376242042757"
          ],
          "function": "NDArrayCompat.from_ndarray"
         }
        ],
        "-8213289279091853680": [
         "-5281961658848897139",
         {
          "args": [
           "-4054743589875753688"
          ],
          "function": "NDArrayCompat.to_ndarray"
         }
        ],
        "-8262924415670402534": [
         "-8262924415670402534",
         {
          "args": [
           "-5693918354505073214"
          ],
          "function": "Maybe.just",
          "type_params": {
           "T": {
            "params": {
             "T": {
              "type": "Integer"
             },
             "U": {
              "params": {
               "T": {
                "type": "Integer"
               }
              },
              "type": "Vec"
             }
            },
            "type": "Either"
           }
          }
         }
        ],
        "-8324418747529519971": [
         "4035649169692160937",
         {
          "args": [
           "1801178083910655243",
           "3904670649235592956",
           "-7929933669310959521"
          ],
          "function": "Maybe.match",
          "type_params": {
           "T": {
            "params": {
             "T": {
              "type": "NDArray"
             },
             "U": {
              "params": {
               "T": {
                "type": "Integer"
               },
               "U": {
                "params": {
                 "T": {
                  "type": "Integer"
                 }
                },
                "type": "Vec"
               }
              },
              "type": "Either"
             }
            },
            "type": "Pair"
           }
          }
         }
        ],
        "-8441167332832851488": [
         "-8441167332832851488",
         {
          "repr": "Variable(4532424600)",
          "type": "Variable"
         }
        ],
        "-8441167338211918213": [
         "-8441167338211918213",
         {
          "repr": "Variable(4532312328)",
          "type": "Variable"
         }
        ],
        "-8441167386739348913": [
         "-8441167386739348913",
         {
          "repr": "Variable(4532692808)",
          "type": "Variable"
         }
        ],
        "-8442994137960948810": [
         "-8442994137960948810",
         {
          "args": [
           "-3131809300698277100"
          ],
          "function": "Maybe.just"
         }
        ],
        "-8549068771019930555": [
         "-8549068771019930555",
         {
          "args": [
           "-1731939772881271889",
           "-3416066141267607679"
          ],
          "function": "Maybe.__and__",
          "type_params": {
           "T": {
            "type": "NDArray"
           }
          }
         }
        ],
        "-8591904898952679221": [
         "8368899336284295099",
         {
          "args": [
           "-1448899694609174123"
          ],
          "function": "unbox_integer"
         }
        ],
        "-8607043800215046248": [
         "-9177130969686516551",
         {
          "args": [
           "-5798802809724824856"
          ],
          "function": "NDArrayCompat.from_ndarray"
         }
        ],
        "-8673198322027389032": [
         "-9177130969686516551",
         {
          "args": [
           "2020085580365109990"
          ],
          "function": "NDArrayCompat.from_ndarray"
         }
        ],
        "-8809534465752996021": [
         "8502660837632541408",
         {
          "args": [
           "-4426976549251226415",
           "3625135037270020002"
          ],
          "function": "Maybe.__and__",
          "type_params": {
           "T": {
            "type": "NDArray"
           }
          }
         }
        ],
        "-8871729180521625528": [
         "-8871729180521625528",
         {
          "args": [
           "-3477876327207206289",
           "-5693918354505073214"
          ],
          "function": "Abstraction.create",
          "type_params": {
           "T": {
            "type": "Integer"
           },
           "U": {
            "params": {
             "T": {
              "type": "Integer"
             },
             "U": {
              "params": {
               "T": {
                "type": "Integer"
               }
              },
              "type": "Vec"
             }
            },
            "type": "Either"
           }
          }
         }
        ],
        "-8880940085851648301": [
         "-5281961658848897139",
         {
          "args": [
           "2894871816508087462",
           "2894871816508087462"
          ],
          "function": "ndarray_add"
         }
        ],
        "-8887125472162681221": [
         "-5281961658848897139",
         {
          "args": [
           "-7246996004018175797"
          ],
          "function": "NDArrayCompat.to_ndarray"
         }
        ],
        "-8887871976037847346": [
         "8185140690946981952",
         {
          "args": [
           "-8442994137960948810",
           "-8047665718338118652"
          ],
          "function": "Maybe.map",
          "type_params": {
           "T": {
            "type": "Integer"
           }
          }
         }
        ],
        "-9011949978648459748": [
         "-9011949978648459748",
         {
          "args": [
           "782204698780338270"
          ],
          "function": "Abstraction.create_variable",
          "type_params": {
           "T": {
            "type": "NDArray"
           },
           "U": {
            "params": {
             "T": {
              "type": "NDArray"
             }
            },
            "type": "Maybe"
           }
          }
         }
        ],
        "-90314547274914256": [
         "-9177130969686516551",
         {
          "args": [
           "-3387562152484636417"
          ],
          "function": "NDArrayCompat.from_ndarray"
         }
        ],
        "-9032728719831084162": [
         "8502660837632541408",
         {
          "args": [
           "4919796284216390214",
           "-1677132938923416940"
          ],
          "function": "Maybe.__and__",
          "type_params": {
           "T": {
            "type": "NDArray"
           }
          }
         }
        ],
        "-9034280047187996927": [
         "8502660837632541408",
         {
          "args": [
           "-2292070056515589903",
           "8955685588577225007"
          ],
          "function": "Maybe.__and__",
          "type_params": {
           "T": {
            "type": "NDArray"
           }
          }
         }
        ],
        "-906915746085849223": [
         "-1731939772881271889",
         {
          "args": [
           "-7011619711849110242"
          ],
          "function": "Converter.convert",
          "type_params": {
           "T": {
            "type": "NDArray"
           }
          }
         }
        ],
        "-9177130969686516551": [
         "-9177130969686516551",
         {
          "args": [
           "-2392957684524066418",
           "7929563447330875300"
          ],
          "function": "NDArrayCompat.__getitem__"
         }
        ],
        "-9207658077265931433": [
         "4035649169692160937",
         {
          "args": [
           "-137826882274979556",
           "3904670649235592956",
           "-3979005081292367894"
          ],
          "function": "Maybe.match",
          "type_params": {
           "T": {
            "params": {
             "T": {
              "type": "NDArray"
             },
             "U": {
              "params": {
               "T": {
                "type": "Integer"
               },
               "U": {
                "params": {
                 "T": {
                  "type": "Integer"
                 }
                },
                "type": "Vec"
               }
              },
              "type": "Either"
             }
            },
            "type": "Pair"
           }
          }
         }
        ],
        "-966770576982675144": [
         "-966770576982675144",
         {
          "args": [
           "-7970435562759903997"
          ],
          "function": "Abstraction.from_fn"
         }
        ],
        "1062238987970653667": [
         "-4264090195847481250",
         {
          "args": [
           "1182744138744153998",
           "6907139717285289081"
          ],
          "function": "NDArrayCompat.__add__"
         }
        ],
        "1142402503048777745": [
         "-9177130969686516551",
         {
          "args": [
           "3406801853680613610"
          ],
          "function": "NDArrayCompat.from_ndarray"
         }
        ],
        "1182744138744153998": [
         "-1625682492666313023",
         {
          "args": [
           "-4417325727130035079"
          ],
          "function": "NDArrayCompat.from_ndarray"
         }
        ],
        "1216816452931342751": [
         "-5281961658848897139",
         {
          "args": [
           "-3229636477889296835"
          ],
          "function": "NDArrayCompat.to_ndarray"
         }
        ],
        "1240424551539893949": [
         "-5281961658848897139",
         {
          "args": [
           "-1397785812529730010"
          ],
          "function": "NDArrayCompat.to_ndarray"
         }
        ],
        "132293261472413313": [
         "-7714184177713562882",
         {
          "args": [
           "-8027661977793249311",
           "-3131809300698277100"
          ],
          "function": "Abstraction.__call__",
          "type_params": {
           "T": {
            "type": "Integer"
           },
           "U": {
            "params": {
             "T": {
              "type": "NDArray"
             }
            },
            "type": "Maybe"
           }
          }
         }
        ],
        "132669007182046688": [
         "132669007182046688",
         {
          "args": [
           "-1697382596041886450"
          ],
          "function": "NDArrayCompat.from_ndarray"
         }
        ],
        "1478565890208829064": [
         "1478565890208829064",
         {
          "args": [
           "5668266280651108832"
          ],
          "function": "NDArray.to_ndarray"
         }
        ],
        "1510050165098996054": [
         "1706398612661724173",
         {
          "args": [
           "5755504588054598894",
           "3438482133718761997"
          ],
          "function": "NDArray.__getitem__"
         }
        ],
        "1585156807716819921": [
         "1585156807716819921",
         {
          "args": [
           "5602477112898136929",
           "-36014167958209776"
          ],
          "function": "Abstraction.create",
          "type_params": {
           "T": {
            "type": "Integer"
           },
           "U": {
            "type": "NDArray"
           }
          }
         }
        ],
        "1612270974676835373": [
         "4035649169692160937",
         {
          "args": [
           "6005744672146614201",
           "3904670649235592956",
           "-7929933669310959521"
          ],
          "function": "Maybe.match",
          "type_params": {
           "T": {
            "params": {
             "T": {
              "type": "NDArray"
             },
             "U": {
              "params": {
               "T": {
                "type": "Integer"
               },
               "U": {
                "params": {
                 "T": {
                  "type": "Integer"
                 }
                },
                "type": "Vec"
               }
              },
              "type": "Either"
             }
            },
            "type": "Pair"
           }
          }
         }
        ],
        "1645808693577477251": [
         "-4657327696202073921",
         {
          "args": [
           "2609767178489679320"
          ],
          "function": "Converter.convert",
          "type_params": {
           "T": {
            "type": "NDArray"
           }
          }
         }
        ],
        "1650229264940692165": [
         "-9177130969686516551",
         {
          "args": [
           "6076550561636597045"
          ],
          "function": "NDArrayCompat.from_ndarray"
         }
        ],
        "1650910841988864359": [
         "-4657327696202073921",
         {
          "args": [
           "5616511007139939859"
          ],
          "function": "Converter.convert",
          "type_params": {
           "T": {
            "type": "NDArray"
           }
          }
         }
        ],
        "167139333153174711": [
         "1706398612661724173",
         {
          "args": [
           "-3411503716089640314",
           "3438482133718761997"
          ],
          "function": "NDArray.__getitem__"
         }
        ],
        "1706398612661724173": [
         "1706398612661724173",
         {
          "args": [
           "5755504588054598894",
           "-7696148307407477498"
          ],
          "function": "NDArray.__getitem__"
         }
        ],
        "1801178083910655243": [
         "8502660837632541408",
         {
          "args": [
           "-4657327696202073921",
           "-1677132938923416940"
          ],
          "function": "Maybe.__and__",
          "type_params": {
           "T": {
            "type": "NDArray"
           }
          }
         }
        ],
        "1847518014012259020": [
         "-8549068771019930555",
         {
          "args": [
           "-906915746085849223",
           "2695006792991180376"
          ],
          "function": "Maybe.__and__",
          "type_params": {
           "T": {
            "type": "NDArray"
           }
          }
         }
        ],
        "1888482096358126515": [
         "1478565890208829064",
         {
          "args": [
           "6695801540915528909"
          ],
          "function": "arange"
         }
        ],
        "1939674178738103160": [
         "1939674178738103160",
         {
          "args": [
           "-1662407830212765793",
           "-3131809300698277100"
          ],
          "function": "Abstraction.__call__",
          "type_params": {
           "T": {
            "type": "Integer"
           },
           "U": {
            "params": {
             "T": {
              "type": "NDArray"
             }
            },
            "type": "Maybe"
           }
          }
         }
        ],
        "1992900434640576717": [
         "-9177130969686516551",
         {
          "args": [
           "-2287343561468040193"
          ],
          "function": "NDArrayCompat.from_ndarray"
         }
        ],
        "2020085580365109990": [
         "4035649169692160937",
         {
          "args": [
           "-3888203582443754260",
           "3904670649235592956",
           "-3979005081292367894"
          ],
          "function": "Maybe.match",
          "type_params": {
           "T": {
            "params": {
             "T": {
              "type": "NDArray"
             },
             "U": {
              "params": {
               "T": {
                "type": "Integer"
               },
               "U": {
                "params": {
                 "T": {
                  "type": "Integer"
                 }
                },
                "type": "Vec"
               }
              },
              "type": "Either"
             }
            },
            "type": "Pair"
           }
          }
         }
        ],
        "2204826897264784190": [
         "2204826897264784190",
         {
          "args": [
           "7195713575237942534",
           "7839880492979038879"
          ],
          "function": "Maybe.map",
          "type_params": {
           "T": {
            "params": {
             "T": {
              "type": "Integer"
             }
            },
            "type": "Vec"
           }
          }
         }
        ],
        "2253509439300303538": [
         "-9177130969686516551",
         {
          "args": [
           "-2876691355224468715"
          ],
          "function": "NDArrayCompat.from_ndarray"
         }
        ],
        "2322691605591635317": [
         "4035649169692160937",
         {
          "args": [
           "6201539520600265249",
           "3904670649235592956",
           "-7929933669310959521"
          ],
          "function": "Maybe.match",
          "type_params": {
           "T": {
            "params": {
             "T": {
              "type": "NDArray"
             },
             "U": {
              "params": {
               "T": {
                "type": "Integer"
               },
               "U": {
                "params": {
                 "T": {
                  "type": "Integer"
                 }
                },
                "type": "Vec"
               }
              },
              "type": "Either"
             }
            },
            "type": "Pair"
           }
          }
         }
        ],
        "232939652242167621": [
         "4035649169692160937",
         {
          "args": [
           "167139333153174711"
          ],
          "function": "Maybe.just",
          "type_params": {
           "T": {
            "type": "NDArray"
           }
          }
         }
        ],
        "233197053466742600": [
         "-5281961658848897139",
         {
          "args": [
           "-680558533147514369"
          ],
          "function": "NDArrayCompat.to_ndarray"
         }
        ],
        "2342498251596656547": [
         "8502660837632541408",
         {
          "args": [
           "7475225506484376816",
           "8955685588577225007"
          ],
          "function": "Maybe.__and__",
          "type_params": {
           "T": {
            "type": "NDArray"
           }
          }
         }
        ],
        "2350887084669467573": [
         "-8549068771019930555",
         {
          "args": [
           "-906915746085849223",
           "832360493236160598"
          ],
          "function": "Maybe.__and__",
          "type_params": {
           "T": {
            "type": "NDArray"
           }
          }
         }
        ],
        "2492526699005507642": [
         "2492526699005507642",
         {
          "args": [
           "782204673390796920"
          ],
          "function": "Abstraction.create_variable",
          "type_params": {
           "T": {
            "params": {
             "T": {
              "type": "Integer"
             },
             "U": {
              "params": {
               "T": {
                "type": "Integer"
               }
              },
              "type": "Vec"
             }
            },
            "type": "Either"
           },
           "U": {
            "params": {
             "T": {
              "params": {
               "T": {
                "type": "Integer"
               },
               "U": {
                "params": {
                 "T": {
                  "type": "Integer"
                 }
                },
                "type": "Vec"
               }
              },
              "type": "Either"
             }
            },
            "type": "Maybe"
           }
          }
         }
        ],
        "2545441806645579178": [
         "-5281961658848897139",
         {
          "args": [
           "-8673198322027389032"
          ],
          "function": "NDArrayCompat.to_ndarray"
         }
        ],
        "2609767178489679320": [
         "-4264090195847481250",
         {
          "args": [
           "132669007182046688",
           "132669007182046688"
          ],
          "function": "NDArrayCompat.__add__"
         }
        ],
        "2641412347700615951": [
         "-8549068771019930555",
         {
          "args": [
           "-4118019760064062043",
           "-5980085414178983947"
          ],
          "function": "Maybe.__and__",
          "type_params": {
           "T": {
            "type": "NDArray"
           }
          }
         }
        ],
        "2679162014291103286": [
         "-5281961658848897139",
         {
          "args": [
           "1142402503048777745"
          ],
          "function": "NDArrayCompat.to_ndarray"
         }
        ],
        "2695006792991180376": [
         "2695006792991180376",
         {
          "args": [
           "8486722407058537054",
           "2901486184407898514"
          ],
          "function": "Maybe.__or__",
          "type_params": {
           "T": {
            "params": {
             "T": {
              "type": "Integer"
             },
             "U": {
              "params": {
               "T": {
                "type": "Integer"
               }
              },
              "type": "Vec"
             }
            },
            "type": "Either"
           }
          }
         }
        ],
        "2796822780643328266": [
         "-4657327696202073921",
         {
          "args": [
           "-5803758837919934266"
          ],
          "function": "Converter.convert",
          "type_params": {
           "T": {
            "type": "NDArray"
           }
          }
         }
        ],
        "2894871816508087462": [
         "-723946642597332421",
         {
          "args": [
           "4681656829173886725",
           "7929563447330875300"
          ],
          "function": "ndarray_getitem"
         }
        ],
        "2901486184407898514": [
         "2901486184407898514",
         {
          "args": [
           "7195713575237942534",
           "6137053630892031812"
          ],
          "function": "Maybe.map",
          "type_params": {
           "T": {
            "params": {
             "T": {
              "type": "Integer"
             }
            },
            "type": "Vec"
           }
          }
         }
        ],
        "2939876135484546645": [
         "2939876135484546645",
         {
          "repr": "Maybe.just",
          "type": "BoundInfer"
         }
        ],
        "2957650358123280855": [
         "-5281961658848897139",
         {
          "args": [
           "-338232751189935212"
          ],
          "function": "NDArrayCompat.to_ndarray"
         }
        ],
        "3024162645320885814": [
         "8502660837632541408",
         {
          "args": [
           "-1830947424158894334",
           "8955685588577225007"
          ],
          "function": "Maybe.__and__",
          "type_params": {
           "T": {
            "type": "NDArray"
           }
          }
         }
        ],
        "3049639165504999069": [
         "4035649169692160937",
         {
          "args": [
           "2350887084669467573",
           "-6872534957557579885"
          ],
          "function": "Maybe.map",
          "type_params": {
           "T": {
            "params": {
             "T": {
              "type": "NDArray"
             },
             "U": {
              "params": {
               "T": {
                "type": "Integer"
               },
               "U": {
                "params": {
                 "T": {
                  "type": "Integer"
                 }
                },
                "type": "Vec"
               }
              },
              "type": "Either"
             }
            },
            "type": "Pair"
           }
          }
         }
        ],
        "3146937952497747921": [
         "3146937952497747921",
         {
          "args": [
           "7929563447330875300"
          ],
          "function": "Converter.convert",
          "type_params": {
           "T": {
            "type": "Integer"
           }
          }
         }
        ],
        "3276076990700150435": [
         "8502660837632541408",
         {
          "args": [
           "8225854957596729840",
           "8955685588577225007"
          ],
          "function": "Maybe.__and__",
          "type_params": {
           "T": {
            "type": "NDArray"
           }
          }
         }
        ],
        "3281441242190016612": [
         "3281441242190016612",
         {
          "args": [
           "-3411503716089640314",
           "3438482133718761997"
          ],
          "function": "Pair.create"
         }
        ],
        "3406801853680613610": [
         "4035649169692160937",
         {
          "args": [
           "3024162645320885814",
           "3904670649235592956",
           "-3979005081292367894"
          ],
          "function": "Maybe.match",
          "type_params": {
           "T": {
            "params": {
             "T": {
              "type": "NDArray"
             },
             "U": {
              "params": {
               "T": {
                "type": "Integer"
               },
               "U": {
                "params": {
                 "T": {
                  "type": "Integer"
                 }
                },
                "type": "Vec"
               }
              },
              "type": "Either"
             }
            },
            "type": "Pair"
           }
          }
         }
        ],
        "3438482133718761997": [
         "3438482133718761997",
         {
          "args": [
           "-1448899694609174123"
          ],
          "function": "Either.left",
          "type_params": {
           "T": {
            "type": "Integer"
           },
           "U": {
            "params": {
             "T": {
              "type": "Integer"
             }
            },
            "type": "Vec"
           }
          }
         }
        ],
        "3455548431527478986": [
         "-723946642597332421",
         {
          "args": [
           "1888482096358126515",
           "7929563447330875300"
          ],
          "function": "ndarray_getitem"
         }
        ],
        "3497394292135972729": [
         "-5281961658848897139",
         {
          "args": [
           "8145083593342055103"
          ],
          "function": "NDArrayCompat.to_ndarray"
         }
        ],
        "3625135037270020002": [
         "2695006792991180376",
         {
          "args": [
           "7342104869399788590",
           "-4995345293142149025"
          ],
          "function": "Maybe.__or__",
          "type_params": {
           "T": {
            "params": {
             "T": {
              "type": "Integer"
             },
             "U": {
              "params": {
               "T": {
                "type": "Integer"
               }
              },
              "type": "Vec"
             }
            },
            "type": "Either"
           }
          }
         }
        ],
        "3683961343488085320": [
         "3683961343488085320",
         {
          "args": [
           "647269574557256950"
          ],
          "function": "Maybe.just",
          "type_params": {
           "T": {
            "type": "NDArray"
           }
          }
         }
        ],
        "38305072810632230": [
         "-5281961658848897139",
         {
          "args": [
           "-7176004047903659196"
          ],
          "function": "NDArrayCompat.to_ndarray"
         }
        ],
        "3866244541187059488": [
         "3866244541187059488",
         {
          "args": [
           "7929563447225870375"
          ],
          "function": "Converter.convert",
          "type_params": {
           "T": {
            "type": "Integer"
           }
          }
         }
        ],
        "3904670649235592956": [
         "3904670649235592956",
         {
          "function": "Maybe.nothing",
          "type_params": {
           "T": {
            "type": "NDArray"
           }
          }
         }
        ],
        "3904821806622877777": [
         "-5281961658848897139",
         {
          "args": [
           "7373952721722758372"
          ],
          "function": "NDArray.to_ndarray"
         }
        ],
        "3954943629499034635": [
         "-4264090195847481250",
         {
          "args": [
           "1182744138744153998",
           "-1570463946834956669"
          ],
          "function": "NDArrayCompat.__add__"
         }
        ],
        "4035649169692160937": [
         "4035649169692160937",
         {
          "args": [
           "-8549068771019930555",
           "6494948380406284327"
          ],
          "function": "Maybe.map",
          "type_params": {
           "T": {
            "params": {
             "T": {
              "type": "NDArray"
             },
             "U": {
              "params": {
               "T": {
                "type": "Integer"
               },
               "U": {
                "params": {
                 "T": {
                  "type": "Integer"
                 }
                },
                "type": "Vec"
               }
              },
              "type": "Either"
             }
            },
            "type": "Pair"
           }
          }
         }
        ],
        "4074577022649293540": [
         "4074577022649293540",
         {
          "args": [
           "5668266280651108832",
           "3438482133718761997"
          ],
          "function": "NDArray.__getitem__"
         }
        ],
        "4148594007068660519": [
         "8502660837632541408",
         {
          "args": [
           "2796822780643328266",
           "-3337978948669749593"
          ],
          "function": "Maybe.__and__",
          "type_params": {
           "T": {
            "type": "NDArray"
           }
          }
         }
        ],
        "4555003153227544087": [
         "-5281961658848897139",
         {
          "args": [
           "-5432273202398116650"
          ],
          "function": "NDArrayCompat.to_ndarray"
         }
        ],
        "4681656006991819125": [
         "-723946642597332421",
         {
          "repr": "array(5)",
          "type": "ndarray"
         }
        ],
        "4681656829173886725": [
         "1478565890208829064",
         {
          "repr": "array([ 0,  1,  2,  3,  4,  5,  6,  7,  8,  9, 10, 11, 12, 13, 14, 15, 16,\n       17, 18, 19, 20, 21, 22, 23, 24, 25, 26, 27, 28, 29, 30, 31, 32, 33,\n       34, 35, 36, 37, 38, 39, 40, 41, 42, 43, 44, 45, 46, 47, 48, 49, 50,\n       51, 52, 53, 54, 55, 56, 57, 58, 59, 60, 61, 62, 63, 64, 65, 66, 67,\n       68, 69, 70, 71, 72, 73, 74, 75, 76, 77, 78, 79, 80, 81, 82, 83, 84,\n       85, 86, 87, 88, 89, 90, 91, 92, 93, 94, 95, 96, 97, 98, 99])",
          "type": "ndarray"
         }
        ],
        "4735386674060708040": [
         "-9177130969686516551",
         {
          "args": [
           "2322691605591635317"
          ],
          "function": "NDArrayCompat.from_ndarray"
         }
        ],
        "483821876708433058": [
         "4035649169692160937",
         {
          "args": [
           "-3022580817830158000",
           "3904670649235592956",
           "-3979005081292367894"
          ],
          "function": "Maybe.match",
          "type_params": {
           "T": {
            "params": {
             "T": {
              "type": "NDArray"
             },
             "U": {
              "params": {
               "T": {
                "type": "Integer"
               },
               "U": {
                "params": {
                 "T": {
                  "type": "Integer"
                 }
                },
                "type": "Vec"
               }
              },
              "type": "Either"
             }
            },
            "type": "Pair"
           }
          }
         }
        ],
        "4865162026085052172": [
         "4865162026085052172",
         {
          "args": [
           "3146937952497747921",
           "-966770576982675144"
          ],
          "function": "Maybe.map",
          "type_params": {
           "T": {
            "type": "Integer"
           }
          }
         }
        ],
        "488258681527690191": [
         "4035649169692160937",
         {
          "args": [
           "2641412347700615951",
           "6494948380406284327"
          ],
          "function": "Maybe.map",
          "type_params": {
           "T": {
            "params": {
             "T": {
              "type": "NDArray"
             },
             "U": {
              "params": {
               "T": {
                "type": "Integer"
               },
               "U": {
                "params": {
                 "T": {
                  "type": "Integer"
                 }
                },
                "type": "Vec"
               }
              },
              "type": "Either"
             }
            },
            "type": "Pair"
           }
          }
         }
        ],
        "4919796284216390214": [
         "-4657327696202073921",
         {
          "args": [
           "-1273181020905429240"
          ],
          "function": "Converter.convert",
          "type_params": {
           "T": {
            "type": "NDArray"
           }
          }
         }
        ],
        "4920957871297456837": [
         "-5281961658848897139",
         {
          "args": [
           "-1275005779964108530"
          ],
          "function": "NDArrayCompat.to_ndarray"
         }
        ],
        "5152011804381047120": [
         "-5281961658848897139",
         {
          "args": [
           "-2187598542372021273"
          ],
          "function": "NDArrayCompat.to_ndarray"
         }
        ],
        "5153155067992430676": [
         "-9177130969686516551",
         {
          "args": [
           "-7128362217130124307"
          ],
          "function": "NDArrayCompat.from_ndarray"
         }
        ],
        "5173449264886962518": [
         "-723946642597332421",
         {
          "args": [
           "-7172645340293335110",
           "7929563447330875300"
          ],
          "function": "ndarray_getitem"
         }
        ],
        "5346454351036495004": [
         "8486722407058537054",
         {
          "args": [
           "-6686545371307024261",
           "-1448899694609174123"
          ],
          "function": "Abstraction.__call__",
          "type_params": {
           "T": {
            "type": "Integer"
           },
           "U": {
            "params": {
             "T": {
              "params": {
               "T": {
                "type": "Integer"
               },
               "U": {
                "params": {
                 "T": {
                  "type": "Integer"
                 }
                },
                "type": "Vec"
               }
              },
              "type": "Either"
             }
            },
            "type": "Maybe"
           }
          }
         }
        ],
        "538172979487181565": [
         "-1625682492666313023",
         {
          "args": [
           "8522449151473608332"
          ],
          "function": "NDArrayCompat.from_ndarray"
         }
        ],
        "5602477112898136929": [
         "5602477112898136929",
         {
          "args": [
           "-8441167338211918213"
          ],
          "function": "Abstraction.create_variable",
          "type_params": {
           "T": {
            "type": "Integer"
           },
           "U": {
            "type": "NDArray"
           }
          }
         }
        ],
        "5616511007139939859": [
         "-4264090195847481250",
         {
          "args": [
           "132669007182046688",
           "-1625682492666313023"
          ],
          "function": "NDArrayCompat.__add__"
         }
        ],
        "5668266280651108832": [
         "5668266280651108832",
         {
          "args": [
           "-3131809300698277100"
          ],
          "function": "arange_"
         }
        ],
        "5755504588054598894": [
         "5755504588054598894",
         {
          "args": [
           "3281441242190016612"
          ],
          "function": "Pair.left",
          "type_params": {
           "T": {
            "type": "NDArray"
           },
           "U": {
            "params": {
             "T": {
              "type": "Integer"
             },
             "U": {
              "params": {
               "T": {
                "type": "Integer"
               }
              },
              "type": "Vec"
             }
            },
            "type": "Either"
           }
          }
         }
        ],
        "5850578274881120740": [
         "-9177130969686516551",
         {
          "args": [
           "-8324418747529519971"
          ],
          "function": "NDArrayCompat.from_ndarray"
         }
        ],
        "5957414941209220213": [
         "5957414941209220213",
         {
          "args": [
           "7929563447225870375"
          ],
          "function": "arange"
         }
        ],
        "5957420681722204814": [
         "5957420681722204814",
         {
          "args": [
           "1939674178738103160"
          ],
          "function": "NDArrayCompat.from_ndarray"
         }
        ],
        "5970789552854311683": [
         "-5281961658848897139",
         {
          "args": [
           "-90314547274914256"
          ],
          "function": "NDArrayCompat.to_ndarray"
         }
        ],
        "6003199730597830134": [
         "4035649169692160937",
         {
          "args": [
           "8553718067708940707",
           "3904670649235592956",
           "-7929933669310959521"
          ],
          "function": "Maybe.match",
          "type_params": {
           "T": {
            "params": {
             "T": {
              "type": "NDArray"
             },
             "U": {
              "params": {
               "T": {
                "type": "Integer"
               },
               "U": {
                "params": {
                 "T": {
                  "type": "Integer"
                 }
                },
                "type": "Vec"
               }
              },
              "type": "Either"
             }
            },
            "type": "Pair"
           }
          }
         }
        ],
        "6005744672146614201": [
         "8502660837632541408",
         {
          "args": [
           "-3817005916255388074",
           "-3337978948669749593"
          ],
          "function": "Maybe.__and__",
          "type_params": {
           "T": {
            "type": "NDArray"
           }
          }
         }
        ],
        "6076550561636597045": [
         "4035649169692160937",
         {
          "args": [
           "8502660837632541408",
           "3904670649235592956",
           "-7929933669310959521"
          ],
          "function": "Maybe.match",
          "type_params": {
           "T": {
            "params": {
             "T": {
              "type": "NDArray"
             },
             "U": {
              "params": {
               "T": {
                "type": "Integer"
               },
               "U": {
                "params": {
                 "T": {
                  "type": "Integer"
                 }
                },
                "type": "Vec"
               }
              },
              "type": "Either"
             }
            },
            "type": "Pair"
           }
          }
         }
        ],
        "6090055618020902548": [
         "-9177130969686516551",
         {
          "args": [
           "-3492423308690766165"
          ],
          "function": "NDArrayCompat.from_ndarray"
         }
        ],
        "6103565132160316810": [
         "6103565132160316810",
         {
          "repr": "arange_",
          "type": "Infer"
         }
        ],
        "6137053630892031812": [
         "6137053630892031812",
         {
          "args": [
           "7595844918048910182",
           "-3874205195205355599"
          ],
          "function": "Abstraction.create",
          "type_params": {
           "T": {
            "params": {
             "T": {
              "type": "Integer"
             }
            },
            "type": "Vec"
           },
           "U": {
            "params": {
             "T": {
              "type": "Integer"
             },
             "U": {
              "params": {
               "T": {
                "type": "Integer"
               }
              },
              "type": "Vec"
             }
            },
            "type": "Either"
           }
          }
         }
        ],
        "6201539520600265249": [
         "8502660837632541408",
         {
          "args": [
           "1650910841988864359",
           "-1677132938923416940"
          ],
          "function": "Maybe.__and__",
          "type_params": {
           "T": {
            "type": "NDArray"
           }
          }
         }
        ],
        "6446121888231165459": [
         "8502660837632541408",
         {
          "args": [
           "-4657327696202073921",
           "-5586627255211727058"
          ],
          "function": "Maybe.__and__",
          "type_params": {
           "T": {
            "type": "NDArray"
           }
          }
         }
        ],
        "647269574557256950": [
         "647269574557256950",
         {
          "args": [
           "-8441167386739348913"
          ],
          "function": "Abstraction.create_variable",
          "type_params": {
           "T": {
            "type": "NDArray"
           },
           "U": {
            "params": {
             "T": {
              "type": "NDArray"
             }
            },
            "type": "Maybe"
           }
          }
         }
        ],
        "6494948380406284327": [
         "6494948380406284327",
         {
          "args": [
           "-1293522413629507583"
          ],
          "function": "Abstraction.from_fn",
          "type_params": {
           "T": {
            "params": {
             "T": {
              "type": "NDArray"
             },
             "U": {
              "params": {
               "T": {
                "type": "Integer"
               },
               "U": {
                "params": {
                 "T": {
                  "type": "Integer"
                 }
                },
                "type": "Vec"
               }
              },
              "type": "Either"
             }
            },
            "type": "Pair"
           },
           "U": {
            "type": "NDArray"
           }
          }
         }
        ],
        "6508932817373433141": [
         "8486722407058537054",
         {
          "args": [
           "-4057743209670033856",
           "-754019181540390696",
           "-279173692147741471"
          ],
          "function": "Maybe.match",
          "type_params": {
           "T": {
            "type": "Integer"
           }
          }
         }
        ],
        "6555983600465518041": [
         "-8549068771019930555",
         {
          "args": [
           "-1731939772881271889",
           "-656138738490108348"
          ],
          "function": "Maybe.__and__",
          "type_params": {
           "T": {
            "type": "NDArray"
           }
          }
         }
        ],
        "6629095570166745970": [
         "-9177130969686516551",
         {
          "args": [
           "-9207658077265931433"
          ],
          "function": "NDArrayCompat.from_ndarray"
         }
        ],
        "6641299432733888386": [
         "6641299432733888386",
         {
          "args": [
           "-4515816141679379126"
          ],
          "function": "Pair.right",
          "type_params": {
           "T": {
            "type": "NDArray"
           },
           "U": {
            "params": {
             "T": {
              "type": "Integer"
             },
             "U": {
              "params": {
               "T": {
                "type": "Integer"
               }
              },
              "type": "Vec"
             }
            },
            "type": "Either"
           }
          }
         }
        ],
        "6695801540915528909": [
         "6695801540915528909",
         {
          "args": [
           "-3131809300698277100"
          ],
          "function": "unbox_integer"
         }
        ],
        "6840992835378849873": [
         "4865162026085052172",
         {
          "args": [
           "-4057743209670033856",
           "-966770576982675144"
          ],
          "function": "Maybe.map",
          "type_params": {
           "T": {
            "type": "Integer"
           }
          }
         }
        ],
        "6849173173472077666": [
         "-8549068771019930555",
         {
          "args": [
           "-906915746085849223",
           "-5980085414178983947"
          ],
          "function": "Maybe.__and__",
          "type_params": {
           "T": {
            "type": "NDArray"
           }
          }
         }
        ],
        "6907139717285289081": [
         "5957420681722204814",
         {
          "args": [
           "-3533169068582244492"
          ],
          "function": "NDArrayCompat.from_ndarray"
         }
        ],
        "6914956826103742470": [
         "-7929933669310959521",
         {
          "args": [
           "-2525517652145278719",
           "-6872534957557579885"
          ],
          "function": "Abstraction.__add__",
          "type_params": {
           "T": {
            "type": "NDArray"
           },
           "U": {
            "params": {
             "T": {
              "type": "NDArray"
             }
            },
            "type": "Maybe"
           }
          }
         }
        ],
        "7046481236595167785": [
         "-5281961658848897139",
         {
          "args": [
           "2253509439300303538"
          ],
          "function": "NDArrayCompat.to_ndarray"
         }
        ],
        "7093854142050087112": [
         "7093854142050087112",
         {
          "args": [
           "647269574557256950",
           "3683961343488085320"
          ],
          "function": "Abstraction.create",
          "type_params": {
           "T": {
            "type": "NDArray"
           },
           "U": {
            "params": {
             "T": {
              "type": "NDArray"
             }
            },
            "type": "Maybe"
           }
          }
         }
        ],
        "7130961231851722511": [
         "-9177130969686516551",
         {
          "args": [
           "-733937185094673067"
          ],
          "function": "NDArrayCompat.from_ndarray"
         }
        ],
        "7141999614432729020": [
         "-9177130969686516551",
         {
          "args": [
           "-6580118316492249228"
          ],
          "function": "NDArrayCompat.from_ndarray"
         }
        ],
        "7195713575237942534": [
         "7195713575237942534",
         {
          "args": [
           "7929563447330875300"
          ],
          "function": "Converter.convert",
          "type_params": {
           "T": {
            "params": {
             "T": {
              "type": "Integer"
             }
            },
            "type": "Vec"
           }
          }
         }
        ],
        "7209205958286522155": [
         "-5281961658848897139",
         {
          "args": [
           "-8080735215263406917"
          ],
          "function": "NDArrayCompat.to_ndarray"
         }
        ],
        "7342104869399788590": [
         "8486722407058537054",
         {
          "args": [
           "-6891540199889357791",
           "-1448899694609174123"
          ],
          "function": "Abstraction.__call__",
          "type_params": {
           "T": {
            "type": "Integer"
           },
           "U": {
            "params": {
             "T": {
              "params": {
               "T": {
                "type": "Integer"
               },
               "U": {
                "params": {
                 "T": {
                  "type": "Integer"
                 }
                },
                "type": "Vec"
               }
              },
              "type": "Either"
             }
            },
            "type": "Maybe"
           }
          }
         }
        ],
        "7373952721722758372": [
         "7373952721722758372",
         {
          "args": [
           "4074577022649293540",
           "4074577022649293540"
          ],
          "function": "NDArray.__add__"
         }
        ],
        "7411810815739975417": [
         "-4264090195847481250",
         {
          "args": [
           "8225854957596729840"
          ],
          "function": "NDArrayCompat.from_ndarray"
         }
        ],
        "7475225506484376816": [
         "-4657327696202073921",
         {
          "args": [
           "-2148437186735635834"
          ],
          "function": "Converter.convert",
          "type_params": {
           "T": {
            "type": "NDArray"
           }
          }
         }
        ],
        "7498594492410777200": [
         "-723946642597332421",
         {
          "args": [
           "1478565890208829064",
           "-8591904898952679221"
          ],
          "function": "ndarray_getitem"
         }
        ],
        "7509929552176292051": [
         "-5281961658848897139",
         {
          "args": [
           "8205123287508767421"
          ],
          "function": "NDArrayCompat.to_ndarray"
         }
        ],
        "7576600612786205063": [
         "4035649169692160937",
         {
          "args": [
           "1706398612661724173"
          ],
          "function": "Maybe.just",
          "type_params": {
           "T": {
            "type": "NDArray"
           }
          }
         }
        ],
        "7595844918048910182": [
         "7595844918048910182",
         {
          "args": [
           "782204653931327520"
          ],
          "function": "Abstraction.create_variable",
          "type_params": {
           "T": {
            "params": {
             "T": {
              "type": "Integer"
             }
            },
            "type": "Vec"
           },
           "U": {
            "params": {
             "T": {
              "type": "Integer"
             },
             "U": {
              "params": {
               "T": {
                "type": "Integer"
               }
              },
              "type": "Vec"
             }
            },
            "type": "Either"
           }
          }
         }
        ],
        "7604809585525828148": [
         "-9177130969686516551",
         {
          "args": [
           "7576600612786205063"
          ],
          "function": "NDArrayCompat.from_ndarray"
         }
        ],
        "7721075201050541004": [
         "-9177130969686516551",
         {
          "args": [
           "483821876708433058"
          ],
          "function": "NDArrayCompat.from_ndarray"
         }
        ],
        "7728163612015094428": [
         "2695006792991180376",
         {
          "args": [
           "-2861860061290690084",
           "-4995345293142149025"
          ],
          "function": "Maybe.__or__",
          "type_params": {
           "T": {
            "params": {
             "T": {
              "type": "Integer"
             },
             "U": {
              "params": {
               "T": {
                "type": "Integer"
               }
              },
              "type": "Vec"
             }
            },
            "type": "Either"
           }
          }
         }
        ],
        "7734890108686739817": [
         "5957414941209220213",
         {
          "args": [
           "8185140690946981952"
          ],
          "function": "NDArrayCompat.from_ndarray"
         }
        ],
        "782204653931327520": [
         "782204653931327520",
         {
          "repr": "Variable(4532700048)",
          "type": "Variable"
         }
        ],
        "782204666144374570": [
         "782204666144374570",
         {
          "repr": "Variable(4532781744)",
          "type": "Variable"
         }
        ],
        "782204673390796920": [
         "782204673390796920",
         {
          "repr": "Variable(4532872976)",
          "type": "Variable"
         }
        ],
        "782204698780338270": [
         "782204698780338270",
         {
          "repr": "Variable(4532313840)",
          "type": "Variable"
         }
        ],
        "7839880492979038879": [
         "7839880492979038879",
         {
          "args": [
           "-1881452536892832357"
          ],
          "function": "Abstraction.from_fn"
         }
        ],
        "7892748191390383189": [
         "-5281961658848897139",
         {
          "args": [
           "-2407715966420202401"
          ],
          "function": "NDArrayCompat.to_ndarray"
         }
        ],
        "7929563447225870375": [
         "6695801540915528909",
         {
          "repr": "100",
          "type": "int"
         }
        ],
        "7929563447330875300": [
         "8368899336284295099",
         {
          "repr": "5",
          "type": "int"
         }
        ],
        "7938352705060161012": [
         "4035649169692160937",
         {
          "args": [
           "8502660837632541408",
           "-6872534957557579885"
          ],
          "function": "Maybe.map",
          "type_params": {
           "T": {
            "params": {
             "T": {
              "type": "NDArray"
             },
             "U": {
              "params": {
               "T": {
                "type": "Integer"
               },
               "U": {
                "params": {
                 "T": {
                  "type": "Integer"
                 }
                },
                "type": "Vec"
               }
              },
              "type": "Either"
             }
            },
            "type": "Pair"
           }
          }
         }
        ],
        "7963321782420935429": [
         "4035649169692160937",
         {
          "args": [
           "-9034280047187996927",
           "3904670649235592956",
           "-3979005081292367894"
          ],
          "function": "Maybe.match",
          "type_params": {
           "T": {
            "params": {
             "T": {
              "type": "NDArray"
             },
             "U": {
              "params": {
               "T": {
                "type": "Integer"
               },
               "U": {
                "params": {
                 "T": {
                  "type": "Integer"
                 }
                },
                "type": "Vec"
               }
              },
              "type": "Either"
             }
            },
            "type": "Pair"
           }
          }
         }
        ],
        "8043623796329489448": [
         "8502660837632541408",
         {
          "args": [
           "-4426976549251226415",
           "-3337978948669749593"
          ],
          "function": "Maybe.__and__",
          "type_params": {
           "T": {
            "type": "NDArray"
           }
          }
         }
        ],
        "8138129422473267734": [
         "4035649169692160937",
         {
          "args": [
           "-7530698464818735296",
           "6494948380406284327"
          ],
          "function": "Maybe.map",
          "type_params": {
           "T": {
            "params": {
             "T": {
              "type": "NDArray"
             },
             "U": {
              "params": {
               "T": {
                "type": "Integer"
               },
               "U": {
                "params": {
                 "T": {
                  "type": "Integer"
                 }
                },
                "type": "Vec"
               }
              },
              "type": "Either"
             }
            },
            "type": "Pair"
           }
          }
         }
        ],
        "8145083593342055103": [
         "-9177130969686516551",
         {
          "args": [
           "-8020584022532179864"
          ],
          "function": "NDArrayCompat.from_ndarray"
         }
        ],
        "8177597676630684467": [
         "-9177130969686516551",
         {
          "args": [
           "-2401271500172572526"
          ],
          "function": "NDArrayCompat.from_ndarray"
         }
        ],
        "8185140690946981952": [
         "8185140690946981952",
         {
          "args": [
           "3866244541187059488",
           "-8047665718338118652"
          ],
          "function": "Maybe.map",
          "type_params": {
           "T": {
            "type": "Integer"
           }
          }
         }
        ],
        "8205123287508767421": [
         "-9177130969686516551",
         {
          "args": [
           "488258681527690191"
          ],
          "function": "NDArrayCompat.from_ndarray"
         }
        ],
        "8225854957596729840": [
         "-4657327696202073921",
         {
          "args": [
           "-3411503716089640314"
          ],
          "function": "Maybe.just"
         }
        ],
        "8227145086890198440": [
         "8502660837632541408",
         {
          "args": [
           "-4657327696202073921",
           "-8042496346563878572"
          ],
          "function": "Maybe.__and__",
          "type_params": {
           "T": {
            "type": "NDArray"
           }
          }
         }
        ],
        "8248950071670219750": [
         "-5767205988462710480",
         {
          "args": [
           "-2990722845636545594",
           "6137053630892031812"
          ],
          "function": "Abstraction.__add__",
          "type_params": {
           "T": {
            "params": {
             "T": {
              "type": "Integer"
             },
             "U": {
              "params": {
               "T": {
                "type": "Integer"
               }
              },
              "type": "Vec"
             }
            },
            "type": "Either"
           },
           "U": {
            "params": {
             "T": {
              "params": {
               "T": {
                "type": "Integer"
               },
               "U": {
                "params": {
                 "T": {
                  "type": "Integer"
                 }
                },
                "type": "Vec"
               }
              },
              "type": "Either"
             }
            },
            "type": "Maybe"
           }
          }
         }
        ],
        "832360493236160598": [
         "-3416066141267607679",
         {
          "args": [
           "6840992835378849873",
           "2901486184407898514"
          ],
          "function": "Maybe.__or__",
          "type_params": {
           "T": {
            "params": {
             "T": {
              "type": "Integer"
             },
             "U": {
              "params": {
               "T": {
                "type": "Integer"
               }
              },
              "type": "Vec"
             }
            },
            "type": "Either"
           }
          }
         }
        ],
        "8331835693138365875": [
         "-5281961658848897139",
         {
          "args": [
           "4681656006991819125",
           "4681656006991819125"
          ],
          "function": "ndarray_add"
         }
        ],
        "836454584771326360": [
         "-5767205988462710480",
         {
          "args": [
           "7595844918048910182",
           "-4418802424163847894"
          ],
          "function": "Abstraction.create"
         }
        ],
        "8368899336284295099": [
         "8368899336284295099",
         {
          "args": [
           "3438482133718761997"
          ],
          "function": "unbox_idxs"
         }
        ],
        "8486722407058537054": [
         "8486722407058537054",
         {
          "args": [
           "-4057743209670033856",
           "-8871729180521625528"
          ],
          "function": "Maybe.map",
          "type_params": {
           "T": {
            "type": "Integer"
           }
          }
         }
        ],
        "8502660837632541408": [
         "8502660837632541408",
         {
          "args": [
           "-4657327696202073921",
           "2695006792991180376"
          ],
          "function": "Maybe.__and__",
          "type_params": {
           "T": {
            "type": "NDArray"
           }
          }
         }
        ],
        "8522449151473608332": [
         "-7714184177713562882",
         {
          "args": [
           "5668266280651108832"
          ],
          "function": "Maybe.just",
          "type_params": {
           "T": {
            "type": "NDArray"
           }
          }
         }
        ],
        "8553718067708940707": [
         "8502660837632541408",
         {
          "args": [
           "-3817005916255388074",
           "-1677132938923416940"
          ],
          "function": "Maybe.__and__",
          "type_params": {
           "T": {
            "type": "NDArray"
           }
          }
         }
        ],
        "8763410445298449381": [
         "-723946642597332421",
         {
          "args": [
           "1478565890208829064",
           "7929563447330875300"
          ],
          "function": "ndarray_getitem"
         }
        ],
        "8955685588577225007": [
         "2695006792991180376",
         {
          "args": [
           "3438482133718761997"
          ],
          "function": "Maybe.just"
         }
        ]
       },
       "states": {
        "initial": "-5281961658848897139",
        "states": [
         {
          "node": "2957650358123280855",
          "rule": "metadsl_core.numpy.NDArrayCompat.__getitem__"
         },
         {
          "node": "-2372905008136394232",
          "rule": "metadsl_core.either.convert_to_either"
         },
         {
          "node": "-4245698127611375010",
          "rule": "metadsl_core.integer.convert_integer"
         },
         {
          "node": "7509929552176292051",
          "rule": "metadsl_core.numpy.arange"
         },
         {
          "node": "-2257581189001708563",
          "rule": "metadsl_core.integer.convert_integer"
         },
         {
          "node": "4555003153227544087",
          "rule": "metadsl_core.abstraction.Abstraction.from_fn"
         },
         {
          "node": "-1584840993100416059",
          "rule": "metadsl_core.abstraction.Abstraction.from_fn"
         },
         {
          "node": "-3588758348911579279",
          "rule": "metadsl_core.abstraction.Abstraction.from_fn"
         },
         {
          "node": "-2820208290180765478",
          "rule": "metadsl_core.abstraction.Abstraction.from_fn"
         },
         {
          "node": "-2536339837989076326",
          "rule": "metadsl_core.maybe.Maybe.map"
         },
         {
          "node": "-6140945438237859125",
          "rule": "metadsl_core.maybe.Maybe.map"
         },
         {
          "node": "7209205958286522155",
          "rule": "metadsl_core.maybe.Maybe.map"
         },
         {
          "node": "-2555114394254853763",
          "rule": "metadsl_core.maybe.maybe_match"
         },
         {
          "node": "-105242845287374559",
          "rule": "metadsl_core.maybe.Maybe.map"
         },
         {
          "node": "-8887125472162681221",
          "rule": "metadsl_core.maybe.Maybe.map"
         },
         {
          "node": "-2549737338481120339",
          "rule": "metadsl_core.maybe.maybe_match"
         },
         {
          "node": "4920957871297456837",
          "rule": "metadsl_core.maybe.maybe_match"
         },
         {
          "node": "5152011804381047120",
          "rule": "metadsl_core.abstraction.Abstraction.from_fn"
         },
         {
          "node": "-2548520950610565718",
          "rule": "metadsl_core.abstraction.Abstraction.from_fn"
         },
         {
          "node": "1216816452931342751",
          "rule": "metadsl_core.abstraction.Abstraction.from_fn"
         },
         {
          "node": "233197053466742600",
          "rule": "metadsl_core.abstraction.compose"
         },
         {
          "node": "2545441806645579178",
          "rule": "metadsl_core.abstraction.compose"
         },
         {
          "node": "38305072810632230",
          "rule": "metadsl_core.abstraction.compose"
         },
         {
          "node": "7046481236595167785",
          "rule": "metadsl_core.abstraction.beta_reduce"
         },
         {
          "node": "-233472917803222217",
          "rule": "metadsl_core.maybe.maybe_or"
         },
         {
          "node": "2679162014291103286",
          "rule": "metadsl_core.abstraction.compose"
         },
         {
          "node": "-7742234567815799009",
          "rule": "metadsl_core.abstraction.beta_reduce"
         },
         {
          "node": "1240424551539893949",
          "rule": "metadsl_core.abstraction.compose"
         },
         {
          "node": "5970789552854311683",
          "rule": "metadsl_core.abstraction.beta_reduce"
         },
         {
          "node": "-1887839988067155443",
          "rule": "metadsl_core.numpy.add_compat"
         },
         {
          "node": "-7692020475537396670",
          "rule": "metadsl_core.numpy.convert_to_ndarray"
         },
         {
          "node": "-2545139309697966504",
          "rule": "metadsl_core.maybe.maybe_and"
         },
         {
          "node": "-8213289279091853680",
          "rule": "metadsl_core.maybe.maybe_match"
         },
         {
          "node": "-7442556872907999520",
          "rule": "metadsl_core.abstraction.beta_reduce"
         },
         {
          "node": "3497394292135972729",
          "rule": "metadsl_core.pair.pair_right"
         },
         {
          "node": "7892748191390383189",
          "rule": "metadsl_core.pair.pair_left"
         },
         {
          "node": "-1877078773385754871",
          "rule": "__main__.optimize_getitem_add"
         },
         {
          "label": "convert",
          "node": "-1877078773385754871",
          "rule": ""
         },
         {
          "node": "3904821806622877777",
          "rule": "metadsl_core.numpy.box_unbox_ndarray_compat"
         },
         {
          "node": "-5034921434684324421",
          "rule": "metadsl_core.numpy_engine.unbox_ndarray_add"
         },
         {
          "node": "-1235563763381942461",
          "rule": "metadsl_core.numpy_engine.unbox_ndarray_getitem"
         },
         {
          "node": "-1793125784451659429",
          "rule": "metadsl_core.numpy_engine.unbox_idxs_rule"
         },
         {
          "node": "-5949359165855776123",
          "rule": "metadsl_core.numpy_engine.unbox_integer_rule"
         },
         {
          "node": "-2285846794637674533",
          "rule": "metadsl_core.numpy_engine.unbox_arange"
         },
         {
          "node": "-4578509408724638683",
          "rule": "metadsl_core.numpy_engine.unbox_integer_rule"
         },
         {
          "label": "unbox",
          "node": "-4578509408724638683",
          "rule": ""
         },
         {
          "node": "-8880940085851648301",
          "rule": "metadsl_core.numpy_engine.arange"
         },
         {
          "node": "8331835693138365875",
          "rule": "metadsl_core.numpy_engine.ndarray_getitem"
         },
         {
          "node": "-4499179060701053183",
          "rule": "metadsl_core.numpy_engine.ndarray_add"
         },
         {
          "label": "execute",
          "node": "-4499179060701053183",
          "rule": ""
         }
        ]
       }
      },
      "application/x.typez.graph+json": {
       "initial": "digraph {\n\tnode [shape=plain]\n\tedge [arrowsize=0.5 penwidth=0.5]\n\t-5281961658848897139 [label=\"NDArrayCompat.to_ndarray\" id=-5281961658848897139]\n\t-5281961658848897139 -> -9177130969686516551 [id=\"-5281961658848897139.args[0]\"]\n\t-9177130969686516551 [label=\"NDArrayCompat.__getitem__\" id=-9177130969686516551]\n\t-9177130969686516551 -> -2392957684524066418 [id=\"-9177130969686516551.args[0]\"]\n\t-2392957684524066418 [label=\"NDArrayCompat.__add__\" id=-2392957684524066418]\n\t-2392957684524066418 -> 5957414941209220213 [id=\"-2392957684524066418.args[0]\"]\n\t5957414941209220213 [label=arange id=5957414941209220213]\n\t5957414941209220213 -> 7929563447225870375 [id=\"5957414941209220213.args[0]\"]\n\t7929563447225870375 [label=100 id=6695801540915528909]\n\t-2392957684524066418 -> 5957414941209220213 [id=\"-2392957684524066418.args[1]\"]\n\t-9177130969686516551 -> 7929563447330875300 [id=\"-9177130969686516551.args[1]\"]\n\t7929563447330875300 [label=5 id=8368899336284295099]\n}",
       "states": [
        {
         "graph": "digraph {\n\tnode [shape=plain]\n\tedge [arrowsize=0.5 penwidth=0.5]\n\t2957650358123280855 [label=\"NDArrayCompat.to_ndarray\" id=-5281961658848897139]\n\t2957650358123280855 -> -338232751189935212 [id=\"-5281961658848897139.args[0]\"]\n\t-338232751189935212 [label=\"NDArrayCompat.from_ndarray\" id=-9177130969686516551]\n\t-338232751189935212 -> 4035649169692160937 [id=\"-9177130969686516551.args[0]\"]\n\t4035649169692160937 [label=\"Maybe.map\" id=4035649169692160937]\n\t4035649169692160937 -> -8549068771019930555 [id=\"4035649169692160937.args[0]\"]\n\t-8549068771019930555 [label=\"Maybe.__and__\" id=-8549068771019930555]\n\t-8549068771019930555 -> -1731939772881271889 [id=\"-8549068771019930555.args[0]\"]\n\t-1731939772881271889 [label=\"Converter.convert\" id=-1731939772881271889]\n\t-1731939772881271889 -> -2392957684524066418 [id=\"-1731939772881271889.args[0]\"]\n\t-2392957684524066418 [label=\"NDArrayCompat.__add__\" id=-2392957684524066418]\n\t-2392957684524066418 -> 5957414941209220213 [id=\"-2392957684524066418.args[0]\"]\n\t5957414941209220213 [label=arange id=5957414941209220213]\n\t5957414941209220213 -> 7929563447225870375 [id=\"5957414941209220213.args[0]\"]\n\t7929563447225870375 [label=100 id=6695801540915528909]\n\t-2392957684524066418 -> 5957414941209220213 [id=\"-2392957684524066418.args[1]\"]\n\t-8549068771019930555 -> -3416066141267607679 [id=\"-8549068771019930555.args[1]\"]\n\t-3416066141267607679 [label=\"Converter.convert\" id=-3416066141267607679]\n\t-3416066141267607679 -> 7929563447330875300 [id=\"-3416066141267607679.args[0]\"]\n\t7929563447330875300 [label=5 id=8368899336284295099]\n\t4035649169692160937 -> 6494948380406284327 [id=\"4035649169692160937.args[1]\"]\n\t6494948380406284327 [label=\"Abstraction.from_fn\" id=6494948380406284327]\n\t6494948380406284327 -> -1293522413629507583 [id=\"6494948380406284327.args[0]\"]\n\t-1293522413629507583 [label=\"function NDArrayCompat.__getitem__.locals.lambda at 0x10e2b4b70\" id=-1293522413629507583]\n}",
         "label": null,
         "rule": "metadsl_core.numpy.NDArrayCompat.__getitem__"
        },
        {
         "graph": "digraph {\n\tnode [shape=plain]\n\tedge [arrowsize=0.5 penwidth=0.5]\n\t-2372905008136394232 [label=\"NDArrayCompat.to_ndarray\" id=-5281961658848897139]\n\t-2372905008136394232 -> 7141999614432729020 [id=\"-5281961658848897139.args[0]\"]\n\t7141999614432729020 [label=\"NDArrayCompat.from_ndarray\" id=-9177130969686516551]\n\t7141999614432729020 -> -6580118316492249228 [id=\"-9177130969686516551.args[0]\"]\n\t-6580118316492249228 [label=\"Maybe.map\" id=4035649169692160937]\n\t-6580118316492249228 -> 6555983600465518041 [id=\"4035649169692160937.args[0]\"]\n\t6555983600465518041 [label=\"Maybe.__and__\" id=-8549068771019930555]\n\t6555983600465518041 -> -1731939772881271889 [id=\"-8549068771019930555.args[0]\"]\n\t-1731939772881271889 [label=\"Converter.convert\" id=-1731939772881271889]\n\t-1731939772881271889 -> -2392957684524066418 [id=\"-1731939772881271889.args[0]\"]\n\t-2392957684524066418 [label=\"NDArrayCompat.__add__\" id=-2392957684524066418]\n\t-2392957684524066418 -> 5957414941209220213 [id=\"-2392957684524066418.args[0]\"]\n\t5957414941209220213 [label=arange id=5957414941209220213]\n\t5957414941209220213 -> 7929563447225870375 [id=\"5957414941209220213.args[0]\"]\n\t7929563447225870375 [label=100 id=6695801540915528909]\n\t-2392957684524066418 -> 5957414941209220213 [id=\"-2392957684524066418.args[1]\"]\n\t6555983600465518041 -> -656138738490108348 [id=\"-8549068771019930555.args[1]\"]\n\t-656138738490108348 [label=\"Maybe.__or__\" id=-3416066141267607679]\n\t-656138738490108348 -> 4865162026085052172 [id=\"-3416066141267607679.args[0]\"]\n\t4865162026085052172 [label=\"Maybe.map\" id=4865162026085052172]\n\t4865162026085052172 -> 3146937952497747921 [id=\"4865162026085052172.args[0]\"]\n\t3146937952497747921 [label=\"Converter.convert\" id=3146937952497747921]\n\t3146937952497747921 -> 7929563447330875300 [id=\"3146937952497747921.args[0]\"]\n\t7929563447330875300 [label=5 id=8368899336284295099]\n\t4865162026085052172 -> -966770576982675144 [id=\"4865162026085052172.args[1]\"]\n\t-966770576982675144 [label=\"Abstraction.from_fn\" id=-966770576982675144]\n\t-966770576982675144 -> -7970435562759903997 [id=\"-966770576982675144.args[0]\"]\n\t-7970435562759903997 [label=\"Either.left\" id=-7970435562759903997]\n\t-656138738490108348 -> 2204826897264784190 [id=\"-3416066141267607679.args[1]\"]\n\t2204826897264784190 [label=\"Maybe.map\" id=2204826897264784190]\n\t2204826897264784190 -> 7195713575237942534 [id=\"2204826897264784190.args[0]\"]\n\t7195713575237942534 [label=\"Converter.convert\" id=7195713575237942534]\n\t7195713575237942534 -> 7929563447330875300 [id=\"7195713575237942534.args[0]\"]\n\t2204826897264784190 -> 7839880492979038879 [id=\"2204826897264784190.args[1]\"]\n\t7839880492979038879 [label=\"Abstraction.from_fn\" id=7839880492979038879]\n\t7839880492979038879 -> -1881452536892832357 [id=\"7839880492979038879.args[0]\"]\n\t-1881452536892832357 [label=\"Either.right\" id=-1881452536892832357]\n\t-6580118316492249228 -> 6494948380406284327 [id=\"4035649169692160937.args[1]\"]\n\t6494948380406284327 [label=\"Abstraction.from_fn\" id=6494948380406284327]\n\t6494948380406284327 -> -1293522413629507583 [id=\"6494948380406284327.args[0]\"]\n\t-1293522413629507583 [label=\"function NDArrayCompat.__getitem__.locals.lambda at 0x10e2b4b70\" id=-1293522413629507583]\n}",
         "label": null,
         "rule": "metadsl_core.either.convert_to_either"
        },
        {
         "graph": "digraph {\n\tnode [shape=plain]\n\tedge [arrowsize=0.5 penwidth=0.5]\n\t-4245698127611375010 [label=\"NDArrayCompat.to_ndarray\" id=-5281961658848897139]\n\t-4245698127611375010 -> -6704007316606680421 [id=\"-5281961658848897139.args[0]\"]\n\t-6704007316606680421 [label=\"NDArrayCompat.from_ndarray\" id=-9177130969686516551]\n\t-6704007316606680421 -> 8138129422473267734 [id=\"-9177130969686516551.args[0]\"]\n\t8138129422473267734 [label=\"Maybe.map\" id=4035649169692160937]\n\t8138129422473267734 -> -7530698464818735296 [id=\"4035649169692160937.args[0]\"]\n\t-7530698464818735296 [label=\"Maybe.__and__\" id=-8549068771019930555]\n\t-7530698464818735296 -> -1731939772881271889 [id=\"-8549068771019930555.args[0]\"]\n\t-1731939772881271889 [label=\"Converter.convert\" id=-1731939772881271889]\n\t-1731939772881271889 -> -2392957684524066418 [id=\"-1731939772881271889.args[0]\"]\n\t-2392957684524066418 [label=\"NDArrayCompat.__add__\" id=-2392957684524066418]\n\t-2392957684524066418 -> 5957414941209220213 [id=\"-2392957684524066418.args[0]\"]\n\t5957414941209220213 [label=arange id=5957414941209220213]\n\t5957414941209220213 -> 7929563447225870375 [id=\"5957414941209220213.args[0]\"]\n\t7929563447225870375 [label=100 id=6695801540915528909]\n\t-2392957684524066418 -> 5957414941209220213 [id=\"-2392957684524066418.args[1]\"]\n\t-7530698464818735296 -> -5980085414178983947 [id=\"-8549068771019930555.args[1]\"]\n\t-5980085414178983947 [label=\"Maybe.__or__\" id=-3416066141267607679]\n\t-5980085414178983947 -> 6840992835378849873 [id=\"-3416066141267607679.args[0]\"]\n\t6840992835378849873 [label=\"Maybe.map\" id=4865162026085052172]\n\t6840992835378849873 -> -4057743209670033856 [id=\"4865162026085052172.args[0]\"]\n\t-4057743209670033856 [label=\"Maybe.just\" id=-4057743209670033856]\n\t-4057743209670033856 -> -1448899694609174123 [id=\"-4057743209670033856.args[0]\"]\n\t-1448899694609174123 [label=\"Integer.from_int\" id=-1448899694609174123]\n\t-1448899694609174123 -> 7929563447330875300 [id=\"-1448899694609174123.args[0]\"]\n\t7929563447330875300 [label=5 id=8368899336284295099]\n\t6840992835378849873 -> -966770576982675144 [id=\"4865162026085052172.args[1]\"]\n\t-966770576982675144 [label=\"Abstraction.from_fn\" id=-966770576982675144]\n\t-966770576982675144 -> -7970435562759903997 [id=\"-966770576982675144.args[0]\"]\n\t-7970435562759903997 [label=\"Either.left\" id=-7970435562759903997]\n\t-5980085414178983947 -> 2204826897264784190 [id=\"-3416066141267607679.args[1]\"]\n\t2204826897264784190 [label=\"Maybe.map\" id=2204826897264784190]\n\t2204826897264784190 -> 7195713575237942534 [id=\"2204826897264784190.args[0]\"]\n\t7195713575237942534 [label=\"Converter.convert\" id=7195713575237942534]\n\t7195713575237942534 -> 7929563447330875300 [id=\"7195713575237942534.args[0]\"]\n\t2204826897264784190 -> 7839880492979038879 [id=\"2204826897264784190.args[1]\"]\n\t7839880492979038879 [label=\"Abstraction.from_fn\" id=7839880492979038879]\n\t7839880492979038879 -> -1881452536892832357 [id=\"7839880492979038879.args[0]\"]\n\t-1881452536892832357 [label=\"Either.right\" id=-1881452536892832357]\n\t8138129422473267734 -> 6494948380406284327 [id=\"4035649169692160937.args[1]\"]\n\t6494948380406284327 [label=\"Abstraction.from_fn\" id=6494948380406284327]\n\t6494948380406284327 -> -1293522413629507583 [id=\"6494948380406284327.args[0]\"]\n\t-1293522413629507583 [label=\"function NDArrayCompat.__getitem__.locals.lambda at 0x10e2b4b70\" id=-1293522413629507583]\n}",
         "label": null,
         "rule": "metadsl_core.integer.convert_integer"
        },
        {
         "graph": "digraph {\n\tnode [shape=plain]\n\tedge [arrowsize=0.5 penwidth=0.5]\n\t7509929552176292051 [label=\"NDArrayCompat.to_ndarray\" id=-5281961658848897139]\n\t7509929552176292051 -> 8205123287508767421 [id=\"-5281961658848897139.args[0]\"]\n\t8205123287508767421 [label=\"NDArrayCompat.from_ndarray\" id=-9177130969686516551]\n\t8205123287508767421 -> 488258681527690191 [id=\"-9177130969686516551.args[0]\"]\n\t488258681527690191 [label=\"Maybe.map\" id=4035649169692160937]\n\t488258681527690191 -> 2641412347700615951 [id=\"4035649169692160937.args[0]\"]\n\t2641412347700615951 [label=\"Maybe.__and__\" id=-8549068771019930555]\n\t2641412347700615951 -> -4118019760064062043 [id=\"-8549068771019930555.args[0]\"]\n\t-4118019760064062043 [label=\"Converter.convert\" id=-1731939772881271889]\n\t-4118019760064062043 -> -4227033389913437920 [id=\"-1731939772881271889.args[0]\"]\n\t-4227033389913437920 [label=\"NDArrayCompat.__add__\" id=-2392957684524066418]\n\t-4227033389913437920 -> 7734890108686739817 [id=\"-2392957684524066418.args[0]\"]\n\t7734890108686739817 [label=\"NDArrayCompat.from_ndarray\" id=5957414941209220213]\n\t7734890108686739817 -> 8185140690946981952 [id=\"5957414941209220213.args[0]\"]\n\t8185140690946981952 [label=\"Maybe.map\" id=8185140690946981952]\n\t8185140690946981952 -> 3866244541187059488 [id=\"8185140690946981952.args[0]\"]\n\t3866244541187059488 [label=\"Converter.convert\" id=3866244541187059488]\n\t3866244541187059488 -> 7929563447225870375 [id=\"3866244541187059488.args[0]\"]\n\t7929563447225870375 [label=100 id=6695801540915528909]\n\t8185140690946981952 -> -8047665718338118652 [id=\"8185140690946981952.args[1]\"]\n\t-8047665718338118652 [label=\"Abstraction.from_fn\" id=-8047665718338118652]\n\t-8047665718338118652 -> 6103565132160316810 [id=\"-8047665718338118652.args[0]\"]\n\t6103565132160316810 [label=arange_ id=6103565132160316810]\n\t-4227033389913437920 -> 7734890108686739817 [id=\"-2392957684524066418.args[1]\"]\n\t2641412347700615951 -> -5980085414178983947 [id=\"-8549068771019930555.args[1]\"]\n\t-5980085414178983947 [label=\"Maybe.__or__\" id=-3416066141267607679]\n\t-5980085414178983947 -> 6840992835378849873 [id=\"-3416066141267607679.args[0]\"]\n\t6840992835378849873 [label=\"Maybe.map\" id=4865162026085052172]\n\t6840992835378849873 -> -4057743209670033856 [id=\"4865162026085052172.args[0]\"]\n\t-4057743209670033856 [label=\"Maybe.just\" id=-4057743209670033856]\n\t-4057743209670033856 -> -1448899694609174123 [id=\"-4057743209670033856.args[0]\"]\n\t-1448899694609174123 [label=\"Integer.from_int\" id=-1448899694609174123]\n\t-1448899694609174123 -> 7929563447330875300 [id=\"-1448899694609174123.args[0]\"]\n\t7929563447330875300 [label=5 id=8368899336284295099]\n\t6840992835378849873 -> -966770576982675144 [id=\"4865162026085052172.args[1]\"]\n\t-966770576982675144 [label=\"Abstraction.from_fn\" id=-966770576982675144]\n\t-966770576982675144 -> -7970435562759903997 [id=\"-966770576982675144.args[0]\"]\n\t-7970435562759903997 [label=\"Either.left\" id=-7970435562759903997]\n\t-5980085414178983947 -> 2204826897264784190 [id=\"-3416066141267607679.args[1]\"]\n\t2204826897264784190 [label=\"Maybe.map\" id=2204826897264784190]\n\t2204826897264784190 -> 7195713575237942534 [id=\"2204826897264784190.args[0]\"]\n\t7195713575237942534 [label=\"Converter.convert\" id=7195713575237942534]\n\t7195713575237942534 -> 7929563447330875300 [id=\"7195713575237942534.args[0]\"]\n\t2204826897264784190 -> 7839880492979038879 [id=\"2204826897264784190.args[1]\"]\n\t7839880492979038879 [label=\"Abstraction.from_fn\" id=7839880492979038879]\n\t7839880492979038879 -> -1881452536892832357 [id=\"7839880492979038879.args[0]\"]\n\t-1881452536892832357 [label=\"Either.right\" id=-1881452536892832357]\n\t488258681527690191 -> 6494948380406284327 [id=\"4035649169692160937.args[1]\"]\n\t6494948380406284327 [label=\"Abstraction.from_fn\" id=6494948380406284327]\n\t6494948380406284327 -> -1293522413629507583 [id=\"6494948380406284327.args[0]\"]\n\t-1293522413629507583 [label=\"function NDArrayCompat.__getitem__.locals.lambda at 0x10e2b4b70\" id=-1293522413629507583]\n}",
         "label": null,
         "rule": "metadsl_core.numpy.arange"
        },
        {
         "graph": "digraph {\n\tnode [shape=plain]\n\tedge [arrowsize=0.5 penwidth=0.5]\n\t-2257581189001708563 [label=\"NDArrayCompat.to_ndarray\" id=-5281961658848897139]\n\t-2257581189001708563 -> 6090055618020902548 [id=\"-5281961658848897139.args[0]\"]\n\t6090055618020902548 [label=\"NDArrayCompat.from_ndarray\" id=-9177130969686516551]\n\t6090055618020902548 -> -3492423308690766165 [id=\"-9177130969686516551.args[0]\"]\n\t-3492423308690766165 [label=\"Maybe.map\" id=4035649169692160937]\n\t-3492423308690766165 -> 6849173173472077666 [id=\"4035649169692160937.args[0]\"]\n\t6849173173472077666 [label=\"Maybe.__and__\" id=-8549068771019930555]\n\t6849173173472077666 -> -906915746085849223 [id=\"-8549068771019930555.args[0]\"]\n\t-906915746085849223 [label=\"Converter.convert\" id=-1731939772881271889]\n\t-906915746085849223 -> -7011619711849110242 [id=\"-1731939772881271889.args[0]\"]\n\t-7011619711849110242 [label=\"NDArrayCompat.__add__\" id=-2392957684524066418]\n\t-7011619711849110242 -> -6802406250591612239 [id=\"-2392957684524066418.args[0]\"]\n\t-6802406250591612239 [label=\"NDArrayCompat.from_ndarray\" id=5957414941209220213]\n\t-6802406250591612239 -> -8887871976037847346 [id=\"5957414941209220213.args[0]\"]\n\t-8887871976037847346 [label=\"Maybe.map\" id=8185140690946981952]\n\t-8887871976037847346 -> -8442994137960948810 [id=\"8185140690946981952.args[0]\"]\n\t-8442994137960948810 [label=\"Maybe.just\" id=-8442994137960948810]\n\t-8442994137960948810 -> -3131809300698277100 [id=\"-8442994137960948810.args[0]\"]\n\t-3131809300698277100 [label=\"Integer.from_int\" id=-3131809300698277100]\n\t-3131809300698277100 -> 7929563447225870375 [id=\"-3131809300698277100.args[0]\"]\n\t7929563447225870375 [label=100 id=6695801540915528909]\n\t-8887871976037847346 -> -8047665718338118652 [id=\"8185140690946981952.args[1]\"]\n\t-8047665718338118652 [label=\"Abstraction.from_fn\" id=-8047665718338118652]\n\t-8047665718338118652 -> 6103565132160316810 [id=\"-8047665718338118652.args[0]\"]\n\t6103565132160316810 [label=arange_ id=6103565132160316810]\n\t-7011619711849110242 -> -6802406250591612239 [id=\"-2392957684524066418.args[1]\"]\n\t6849173173472077666 -> -5980085414178983947 [id=\"-8549068771019930555.args[1]\"]\n\t-5980085414178983947 [label=\"Maybe.__or__\" id=-3416066141267607679]\n\t-5980085414178983947 -> 6840992835378849873 [id=\"-3416066141267607679.args[0]\"]\n\t6840992835378849873 [label=\"Maybe.map\" id=4865162026085052172]\n\t6840992835378849873 -> -4057743209670033856 [id=\"4865162026085052172.args[0]\"]\n\t-4057743209670033856 [label=\"Maybe.just\" id=-4057743209670033856]\n\t-4057743209670033856 -> -1448899694609174123 [id=\"-4057743209670033856.args[0]\"]\n\t-1448899694609174123 [label=\"Integer.from_int\" id=-1448899694609174123]\n\t-1448899694609174123 -> 7929563447330875300 [id=\"-1448899694609174123.args[0]\"]\n\t7929563447330875300 [label=5 id=8368899336284295099]\n\t6840992835378849873 -> -966770576982675144 [id=\"4865162026085052172.args[1]\"]\n\t-966770576982675144 [label=\"Abstraction.from_fn\" id=-966770576982675144]\n\t-966770576982675144 -> -7970435562759903997 [id=\"-966770576982675144.args[0]\"]\n\t-7970435562759903997 [label=\"Either.left\" id=-7970435562759903997]\n\t-5980085414178983947 -> 2204826897264784190 [id=\"-3416066141267607679.args[1]\"]\n\t2204826897264784190 [label=\"Maybe.map\" id=2204826897264784190]\n\t2204826897264784190 -> 7195713575237942534 [id=\"2204826897264784190.args[0]\"]\n\t7195713575237942534 [label=\"Converter.convert\" id=7195713575237942534]\n\t7195713575237942534 -> 7929563447330875300 [id=\"7195713575237942534.args[0]\"]\n\t2204826897264784190 -> 7839880492979038879 [id=\"2204826897264784190.args[1]\"]\n\t7839880492979038879 [label=\"Abstraction.from_fn\" id=7839880492979038879]\n\t7839880492979038879 -> -1881452536892832357 [id=\"7839880492979038879.args[0]\"]\n\t-1881452536892832357 [label=\"Either.right\" id=-1881452536892832357]\n\t-3492423308690766165 -> 6494948380406284327 [id=\"4035649169692160937.args[1]\"]\n\t6494948380406284327 [label=\"Abstraction.from_fn\" id=6494948380406284327]\n\t6494948380406284327 -> -1293522413629507583 [id=\"6494948380406284327.args[0]\"]\n\t-1293522413629507583 [label=\"function NDArrayCompat.__getitem__.locals.lambda at 0x10e2b4b70\" id=-1293522413629507583]\n}",
         "label": null,
         "rule": "metadsl_core.integer.convert_integer"
        },
        {
         "graph": "digraph {\n\tnode [shape=plain]\n\tedge [arrowsize=0.5 penwidth=0.5]\n\t4555003153227544087 [label=\"NDArrayCompat.to_ndarray\" id=-5281961658848897139]\n\t4555003153227544087 -> -5432273202398116650 [id=\"-5281961658848897139.args[0]\"]\n\t-5432273202398116650 [label=\"NDArrayCompat.from_ndarray\" id=-9177130969686516551]\n\t-5432273202398116650 -> -7815845332213257725 [id=\"-9177130969686516551.args[0]\"]\n\t-7815845332213257725 [label=\"Maybe.map\" id=4035649169692160937]\n\t-7815845332213257725 -> 6849173173472077666 [id=\"4035649169692160937.args[0]\"]\n\t6849173173472077666 [label=\"Maybe.__and__\" id=-8549068771019930555]\n\t6849173173472077666 -> -906915746085849223 [id=\"-8549068771019930555.args[0]\"]\n\t-906915746085849223 [label=\"Converter.convert\" id=-1731939772881271889]\n\t-906915746085849223 -> -7011619711849110242 [id=\"-1731939772881271889.args[0]\"]\n\t-7011619711849110242 [label=\"NDArrayCompat.__add__\" id=-2392957684524066418]\n\t-7011619711849110242 -> -6802406250591612239 [id=\"-2392957684524066418.args[0]\"]\n\t-6802406250591612239 [label=\"NDArrayCompat.from_ndarray\" id=5957414941209220213]\n\t-6802406250591612239 -> -8887871976037847346 [id=\"5957414941209220213.args[0]\"]\n\t-8887871976037847346 [label=\"Maybe.map\" id=8185140690946981952]\n\t-8887871976037847346 -> -8442994137960948810 [id=\"8185140690946981952.args[0]\"]\n\t-8442994137960948810 [label=\"Maybe.just\" id=-8442994137960948810]\n\t-8442994137960948810 -> -3131809300698277100 [id=\"-8442994137960948810.args[0]\"]\n\t-3131809300698277100 [label=\"Integer.from_int\" id=-3131809300698277100]\n\t-3131809300698277100 -> 7929563447225870375 [id=\"-3131809300698277100.args[0]\"]\n\t7929563447225870375 [label=100 id=6695801540915528909]\n\t-8887871976037847346 -> -8047665718338118652 [id=\"8185140690946981952.args[1]\"]\n\t-8047665718338118652 [label=\"Abstraction.from_fn\" id=-8047665718338118652]\n\t-8047665718338118652 -> 6103565132160316810 [id=\"-8047665718338118652.args[0]\"]\n\t6103565132160316810 [label=arange_ id=6103565132160316810]\n\t-7011619711849110242 -> -6802406250591612239 [id=\"-2392957684524066418.args[1]\"]\n\t6849173173472077666 -> -5980085414178983947 [id=\"-8549068771019930555.args[1]\"]\n\t-5980085414178983947 [label=\"Maybe.__or__\" id=-3416066141267607679]\n\t-5980085414178983947 -> 6840992835378849873 [id=\"-3416066141267607679.args[0]\"]\n\t6840992835378849873 [label=\"Maybe.map\" id=4865162026085052172]\n\t6840992835378849873 -> -4057743209670033856 [id=\"4865162026085052172.args[0]\"]\n\t-4057743209670033856 [label=\"Maybe.just\" id=-4057743209670033856]\n\t-4057743209670033856 -> -1448899694609174123 [id=\"-4057743209670033856.args[0]\"]\n\t-1448899694609174123 [label=\"Integer.from_int\" id=-1448899694609174123]\n\t-1448899694609174123 -> 7929563447330875300 [id=\"-1448899694609174123.args[0]\"]\n\t7929563447330875300 [label=5 id=8368899336284295099]\n\t6840992835378849873 -> -966770576982675144 [id=\"4865162026085052172.args[1]\"]\n\t-966770576982675144 [label=\"Abstraction.from_fn\" id=-966770576982675144]\n\t-966770576982675144 -> -7970435562759903997 [id=\"-966770576982675144.args[0]\"]\n\t-7970435562759903997 [label=\"Either.left\" id=-7970435562759903997]\n\t-5980085414178983947 -> 2204826897264784190 [id=\"-3416066141267607679.args[1]\"]\n\t2204826897264784190 [label=\"Maybe.map\" id=2204826897264784190]\n\t2204826897264784190 -> 7195713575237942534 [id=\"2204826897264784190.args[0]\"]\n\t7195713575237942534 [label=\"Converter.convert\" id=7195713575237942534]\n\t7195713575237942534 -> 7929563447330875300 [id=\"7195713575237942534.args[0]\"]\n\t2204826897264784190 -> 7839880492979038879 [id=\"2204826897264784190.args[1]\"]\n\t7839880492979038879 [label=\"Abstraction.from_fn\" id=7839880492979038879]\n\t7839880492979038879 -> -1881452536892832357 [id=\"7839880492979038879.args[0]\"]\n\t-1881452536892832357 [label=\"Either.right\" id=-1881452536892832357]\n\t-7815845332213257725 -> -6872534957557579885 [id=\"4035649169692160937.args[1]\"]\n\t-6872534957557579885 [label=\"Abstraction.create\" id=-6872534957557579885]\n\t-6872534957557579885 -> -4515816141679379126 [id=\"-6872534957557579885.args[0]\"]\n\t-4515816141679379126 [label=\"Abstraction.create_variable\" id=-4515816141679379126]\n\t-4515816141679379126 -> -8441167332832851488 [id=\"-4515816141679379126.args[0]\"]\n\t-8441167332832851488 [label=\"Variable(4532424600)\" id=-8441167332832851488]\n\t-6872534957557579885 -> -3244667734406134969 [id=\"-6872534957557579885.args[1]\"]\n\t-3244667734406134969 [label=\"NDArray.__getitem__\" id=-3244667734406134969]\n\t-3244667734406134969 -> -7971745150971623974 [id=\"-3244667734406134969.args[0]\"]\n\t-7971745150971623974 [label=\"Pair.left\" id=-7971745150971623974]\n\t-7971745150971623974 -> -4515816141679379126 [id=\"-7971745150971623974.args[0]\"]\n\t-3244667734406134969 -> 6641299432733888386 [id=\"-3244667734406134969.args[1]\"]\n\t6641299432733888386 [label=\"Pair.right\" id=6641299432733888386]\n\t6641299432733888386 -> -4515816141679379126 [id=\"6641299432733888386.args[0]\"]\n}",
         "label": null,
         "rule": "metadsl_core.abstraction.Abstraction.from_fn"
        },
        {
         "graph": "digraph {\n\tnode [shape=plain]\n\tedge [arrowsize=0.5 penwidth=0.5]\n\t-1584840993100416059 [label=\"NDArrayCompat.to_ndarray\" id=-5281961658848897139]\n\t-1584840993100416059 -> -5086137649554023920 [id=\"-5281961658848897139.args[0]\"]\n\t-5086137649554023920 [label=\"NDArrayCompat.from_ndarray\" id=-9177130969686516551]\n\t-5086137649554023920 -> 3049639165504999069 [id=\"-9177130969686516551.args[0]\"]\n\t3049639165504999069 [label=\"Maybe.map\" id=4035649169692160937]\n\t3049639165504999069 -> 2350887084669467573 [id=\"4035649169692160937.args[0]\"]\n\t2350887084669467573 [label=\"Maybe.__and__\" id=-8549068771019930555]\n\t2350887084669467573 -> -906915746085849223 [id=\"-8549068771019930555.args[0]\"]\n\t-906915746085849223 [label=\"Converter.convert\" id=-1731939772881271889]\n\t-906915746085849223 -> -7011619711849110242 [id=\"-1731939772881271889.args[0]\"]\n\t-7011619711849110242 [label=\"NDArrayCompat.__add__\" id=-2392957684524066418]\n\t-7011619711849110242 -> -6802406250591612239 [id=\"-2392957684524066418.args[0]\"]\n\t-6802406250591612239 [label=\"NDArrayCompat.from_ndarray\" id=5957414941209220213]\n\t-6802406250591612239 -> -8887871976037847346 [id=\"5957414941209220213.args[0]\"]\n\t-8887871976037847346 [label=\"Maybe.map\" id=8185140690946981952]\n\t-8887871976037847346 -> -8442994137960948810 [id=\"8185140690946981952.args[0]\"]\n\t-8442994137960948810 [label=\"Maybe.just\" id=-8442994137960948810]\n\t-8442994137960948810 -> -3131809300698277100 [id=\"-8442994137960948810.args[0]\"]\n\t-3131809300698277100 [label=\"Integer.from_int\" id=-3131809300698277100]\n\t-3131809300698277100 -> 7929563447225870375 [id=\"-3131809300698277100.args[0]\"]\n\t7929563447225870375 [label=100 id=6695801540915528909]\n\t-8887871976037847346 -> -8047665718338118652 [id=\"8185140690946981952.args[1]\"]\n\t-8047665718338118652 [label=\"Abstraction.from_fn\" id=-8047665718338118652]\n\t-8047665718338118652 -> 6103565132160316810 [id=\"-8047665718338118652.args[0]\"]\n\t6103565132160316810 [label=arange_ id=6103565132160316810]\n\t-7011619711849110242 -> -6802406250591612239 [id=\"-2392957684524066418.args[1]\"]\n\t2350887084669467573 -> 832360493236160598 [id=\"-8549068771019930555.args[1]\"]\n\t832360493236160598 [label=\"Maybe.__or__\" id=-3416066141267607679]\n\t832360493236160598 -> 6840992835378849873 [id=\"-3416066141267607679.args[0]\"]\n\t6840992835378849873 [label=\"Maybe.map\" id=4865162026085052172]\n\t6840992835378849873 -> -4057743209670033856 [id=\"4865162026085052172.args[0]\"]\n\t-4057743209670033856 [label=\"Maybe.just\" id=-4057743209670033856]\n\t-4057743209670033856 -> -1448899694609174123 [id=\"-4057743209670033856.args[0]\"]\n\t-1448899694609174123 [label=\"Integer.from_int\" id=-1448899694609174123]\n\t-1448899694609174123 -> 7929563447330875300 [id=\"-1448899694609174123.args[0]\"]\n\t7929563447330875300 [label=5 id=8368899336284295099]\n\t6840992835378849873 -> -966770576982675144 [id=\"4865162026085052172.args[1]\"]\n\t-966770576982675144 [label=\"Abstraction.from_fn\" id=-966770576982675144]\n\t-966770576982675144 -> -7970435562759903997 [id=\"-966770576982675144.args[0]\"]\n\t-7970435562759903997 [label=\"Either.left\" id=-7970435562759903997]\n\t832360493236160598 -> 2901486184407898514 [id=\"-3416066141267607679.args[1]\"]\n\t2901486184407898514 [label=\"Maybe.map\" id=2901486184407898514]\n\t2901486184407898514 -> 7195713575237942534 [id=\"2901486184407898514.args[0]\"]\n\t7195713575237942534 [label=\"Converter.convert\" id=7195713575237942534]\n\t7195713575237942534 -> 7929563447330875300 [id=\"7195713575237942534.args[0]\"]\n\t2901486184407898514 -> 6137053630892031812 [id=\"2901486184407898514.args[1]\"]\n\t6137053630892031812 [label=\"Abstraction.create\" id=6137053630892031812]\n\t6137053630892031812 -> 7595844918048910182 [id=\"6137053630892031812.args[0]\"]\n\t7595844918048910182 [label=\"Abstraction.create_variable\" id=7595844918048910182]\n\t7595844918048910182 -> 782204653931327520 [id=\"7595844918048910182.args[0]\"]\n\t782204653931327520 [label=\"Variable(4532700048)\" id=782204653931327520]\n\t6137053630892031812 -> -3874205195205355599 [id=\"6137053630892031812.args[1]\"]\n\t-3874205195205355599 [label=\"Either.right\" id=-3874205195205355599]\n\t-3874205195205355599 -> 7595844918048910182 [id=\"-3874205195205355599.args[0]\"]\n\t3049639165504999069 -> -6872534957557579885 [id=\"4035649169692160937.args[1]\"]\n\t-6872534957557579885 [label=\"Abstraction.create\" id=-6872534957557579885]\n\t-6872534957557579885 -> -4515816141679379126 [id=\"-6872534957557579885.args[0]\"]\n\t-4515816141679379126 [label=\"Abstraction.create_variable\" id=-4515816141679379126]\n\t-4515816141679379126 -> -8441167332832851488 [id=\"-4515816141679379126.args[0]\"]\n\t-8441167332832851488 [label=\"Variable(4532424600)\" id=-8441167332832851488]\n\t-6872534957557579885 -> -3244667734406134969 [id=\"-6872534957557579885.args[1]\"]\n\t-3244667734406134969 [label=\"NDArray.__getitem__\" id=-3244667734406134969]\n\t-3244667734406134969 -> -7971745150971623974 [id=\"-3244667734406134969.args[0]\"]\n\t-7971745150971623974 [label=\"Pair.left\" id=-7971745150971623974]\n\t-7971745150971623974 -> -4515816141679379126 [id=\"-7971745150971623974.args[0]\"]\n\t-3244667734406134969 -> 6641299432733888386 [id=\"-3244667734406134969.args[1]\"]\n\t6641299432733888386 [label=\"Pair.right\" id=6641299432733888386]\n\t6641299432733888386 -> -4515816141679379126 [id=\"6641299432733888386.args[0]\"]\n}",
         "label": null,
         "rule": "metadsl_core.abstraction.Abstraction.from_fn"
        },
        {
         "graph": "digraph {\n\tnode [shape=plain]\n\tedge [arrowsize=0.5 penwidth=0.5]\n\t-3588758348911579279 [label=\"NDArrayCompat.to_ndarray\" id=-5281961658848897139]\n\t-3588758348911579279 -> -3192881285023434533 [id=\"-5281961658848897139.args[0]\"]\n\t-3192881285023434533 [label=\"NDArrayCompat.from_ndarray\" id=-9177130969686516551]\n\t-3192881285023434533 -> -6657421573467346981 [id=\"-9177130969686516551.args[0]\"]\n\t-6657421573467346981 [label=\"Maybe.map\" id=4035649169692160937]\n\t-6657421573467346981 -> 1847518014012259020 [id=\"4035649169692160937.args[0]\"]\n\t1847518014012259020 [label=\"Maybe.__and__\" id=-8549068771019930555]\n\t1847518014012259020 -> -906915746085849223 [id=\"-8549068771019930555.args[0]\"]\n\t-906915746085849223 [label=\"Converter.convert\" id=-1731939772881271889]\n\t-906915746085849223 -> -7011619711849110242 [id=\"-1731939772881271889.args[0]\"]\n\t-7011619711849110242 [label=\"NDArrayCompat.__add__\" id=-2392957684524066418]\n\t-7011619711849110242 -> -6802406250591612239 [id=\"-2392957684524066418.args[0]\"]\n\t-6802406250591612239 [label=\"NDArrayCompat.from_ndarray\" id=5957414941209220213]\n\t-6802406250591612239 -> -8887871976037847346 [id=\"5957414941209220213.args[0]\"]\n\t-8887871976037847346 [label=\"Maybe.map\" id=8185140690946981952]\n\t-8887871976037847346 -> -8442994137960948810 [id=\"8185140690946981952.args[0]\"]\n\t-8442994137960948810 [label=\"Maybe.just\" id=-8442994137960948810]\n\t-8442994137960948810 -> -3131809300698277100 [id=\"-8442994137960948810.args[0]\"]\n\t-3131809300698277100 [label=\"Integer.from_int\" id=-3131809300698277100]\n\t-3131809300698277100 -> 7929563447225870375 [id=\"-3131809300698277100.args[0]\"]\n\t7929563447225870375 [label=100 id=6695801540915528909]\n\t-8887871976037847346 -> -8047665718338118652 [id=\"8185140690946981952.args[1]\"]\n\t-8047665718338118652 [label=\"Abstraction.from_fn\" id=-8047665718338118652]\n\t-8047665718338118652 -> 6103565132160316810 [id=\"-8047665718338118652.args[0]\"]\n\t6103565132160316810 [label=arange_ id=6103565132160316810]\n\t-7011619711849110242 -> -6802406250591612239 [id=\"-2392957684524066418.args[1]\"]\n\t1847518014012259020 -> 2695006792991180376 [id=\"-8549068771019930555.args[1]\"]\n\t2695006792991180376 [label=\"Maybe.__or__\" id=2695006792991180376]\n\t2695006792991180376 -> 8486722407058537054 [id=\"2695006792991180376.args[0]\"]\n\t8486722407058537054 [label=\"Maybe.map\" id=8486722407058537054]\n\t8486722407058537054 -> -4057743209670033856 [id=\"8486722407058537054.args[0]\"]\n\t-4057743209670033856 [label=\"Maybe.just\" id=-4057743209670033856]\n\t-4057743209670033856 -> -1448899694609174123 [id=\"-4057743209670033856.args[0]\"]\n\t-1448899694609174123 [label=\"Integer.from_int\" id=-1448899694609174123]\n\t-1448899694609174123 -> 7929563447330875300 [id=\"-1448899694609174123.args[0]\"]\n\t7929563447330875300 [label=5 id=8368899336284295099]\n\t8486722407058537054 -> -8871729180521625528 [id=\"8486722407058537054.args[1]\"]\n\t-8871729180521625528 [label=\"Abstraction.create\" id=-8871729180521625528]\n\t-8871729180521625528 -> -3477876327207206289 [id=\"-8871729180521625528.args[0]\"]\n\t-3477876327207206289 [label=\"Abstraction.create_variable\" id=-3477876327207206289]\n\t-3477876327207206289 -> 782204666144374570 [id=\"-3477876327207206289.args[0]\"]\n\t782204666144374570 [label=\"Variable(4532781744)\" id=782204666144374570]\n\t-8871729180521625528 -> -5693918354505073214 [id=\"-8871729180521625528.args[1]\"]\n\t-5693918354505073214 [label=\"Either.left\" id=-5693918354505073214]\n\t-5693918354505073214 -> -3477876327207206289 [id=\"-5693918354505073214.args[0]\"]\n\t2695006792991180376 -> 2901486184407898514 [id=\"2695006792991180376.args[1]\"]\n\t2901486184407898514 [label=\"Maybe.map\" id=2901486184407898514]\n\t2901486184407898514 -> 7195713575237942534 [id=\"2901486184407898514.args[0]\"]\n\t7195713575237942534 [label=\"Converter.convert\" id=7195713575237942534]\n\t7195713575237942534 -> 7929563447330875300 [id=\"7195713575237942534.args[0]\"]\n\t2901486184407898514 -> 6137053630892031812 [id=\"2901486184407898514.args[1]\"]\n\t6137053630892031812 [label=\"Abstraction.create\" id=6137053630892031812]\n\t6137053630892031812 -> 7595844918048910182 [id=\"6137053630892031812.args[0]\"]\n\t7595844918048910182 [label=\"Abstraction.create_variable\" id=7595844918048910182]\n\t7595844918048910182 -> 782204653931327520 [id=\"7595844918048910182.args[0]\"]\n\t782204653931327520 [label=\"Variable(4532700048)\" id=782204653931327520]\n\t6137053630892031812 -> -3874205195205355599 [id=\"6137053630892031812.args[1]\"]\n\t-3874205195205355599 [label=\"Either.right\" id=-3874205195205355599]\n\t-3874205195205355599 -> 7595844918048910182 [id=\"-3874205195205355599.args[0]\"]\n\t-6657421573467346981 -> -6872534957557579885 [id=\"4035649169692160937.args[1]\"]\n\t-6872534957557579885 [label=\"Abstraction.create\" id=-6872534957557579885]\n\t-6872534957557579885 -> -4515816141679379126 [id=\"-6872534957557579885.args[0]\"]\n\t-4515816141679379126 [label=\"Abstraction.create_variable\" id=-4515816141679379126]\n\t-4515816141679379126 -> -8441167332832851488 [id=\"-4515816141679379126.args[0]\"]\n\t-8441167332832851488 [label=\"Variable(4532424600)\" id=-8441167332832851488]\n\t-6872534957557579885 -> -3244667734406134969 [id=\"-6872534957557579885.args[1]\"]\n\t-3244667734406134969 [label=\"NDArray.__getitem__\" id=-3244667734406134969]\n\t-3244667734406134969 -> -7971745150971623974 [id=\"-3244667734406134969.args[0]\"]\n\t-7971745150971623974 [label=\"Pair.left\" id=-7971745150971623974]\n\t-7971745150971623974 -> -4515816141679379126 [id=\"-7971745150971623974.args[0]\"]\n\t-3244667734406134969 -> 6641299432733888386 [id=\"-3244667734406134969.args[1]\"]\n\t6641299432733888386 [label=\"Pair.right\" id=6641299432733888386]\n\t6641299432733888386 -> -4515816141679379126 [id=\"6641299432733888386.args[0]\"]\n}",
         "label": null,
         "rule": "metadsl_core.abstraction.Abstraction.from_fn"
        },
        {
         "graph": "digraph {\n\tnode [shape=plain]\n\tedge [arrowsize=0.5 penwidth=0.5]\n\t-2820208290180765478 [label=\"NDArrayCompat.to_ndarray\" id=-5281961658848897139]\n\t-2820208290180765478 -> -2056080962441618427 [id=\"-5281961658848897139.args[0]\"]\n\t-2056080962441618427 [label=\"NDArrayCompat.from_ndarray\" id=-9177130969686516551]\n\t-2056080962441618427 -> 7938352705060161012 [id=\"-9177130969686516551.args[0]\"]\n\t7938352705060161012 [label=\"Maybe.map\" id=4035649169692160937]\n\t7938352705060161012 -> 8502660837632541408 [id=\"4035649169692160937.args[0]\"]\n\t8502660837632541408 [label=\"Maybe.__and__\" id=8502660837632541408]\n\t8502660837632541408 -> -4657327696202073921 [id=\"8502660837632541408.args[0]\"]\n\t-4657327696202073921 [label=\"Converter.convert\" id=-4657327696202073921]\n\t-4657327696202073921 -> -4264090195847481250 [id=\"-4657327696202073921.args[0]\"]\n\t-4264090195847481250 [label=\"NDArrayCompat.__add__\" id=-4264090195847481250]\n\t-4264090195847481250 -> -1625682492666313023 [id=\"-4264090195847481250.args[0]\"]\n\t-1625682492666313023 [label=\"NDArrayCompat.from_ndarray\" id=-1625682492666313023]\n\t-1625682492666313023 -> -7714184177713562882 [id=\"-1625682492666313023.args[0]\"]\n\t-7714184177713562882 [label=\"Maybe.map\" id=-7714184177713562882]\n\t-7714184177713562882 -> -8442994137960948810 [id=\"-7714184177713562882.args[0]\"]\n\t-8442994137960948810 [label=\"Maybe.just\" id=-8442994137960948810]\n\t-8442994137960948810 -> -3131809300698277100 [id=\"-8442994137960948810.args[0]\"]\n\t-3131809300698277100 [label=\"Integer.from_int\" id=-3131809300698277100]\n\t-3131809300698277100 -> 7929563447225870375 [id=\"-3131809300698277100.args[0]\"]\n\t7929563447225870375 [label=100 id=6695801540915528909]\n\t-7714184177713562882 -> 1585156807716819921 [id=\"-7714184177713562882.args[1]\"]\n\t1585156807716819921 [label=\"Abstraction.create\" id=1585156807716819921]\n\t1585156807716819921 -> 5602477112898136929 [id=\"1585156807716819921.args[0]\"]\n\t5602477112898136929 [label=\"Abstraction.create_variable\" id=5602477112898136929]\n\t5602477112898136929 -> -8441167338211918213 [id=\"5602477112898136929.args[0]\"]\n\t-8441167338211918213 [label=\"Variable(4532312328)\" id=-8441167338211918213]\n\t1585156807716819921 -> -36014167958209776 [id=\"1585156807716819921.args[1]\"]\n\t-36014167958209776 [label=arange_ id=-36014167958209776]\n\t-36014167958209776 -> 5602477112898136929 [id=\"-36014167958209776.args[0]\"]\n\t-4264090195847481250 -> -1625682492666313023 [id=\"-4264090195847481250.args[1]\"]\n\t8502660837632541408 -> 2695006792991180376 [id=\"8502660837632541408.args[1]\"]\n\t2695006792991180376 [label=\"Maybe.__or__\" id=2695006792991180376]\n\t2695006792991180376 -> 8486722407058537054 [id=\"2695006792991180376.args[0]\"]\n\t8486722407058537054 [label=\"Maybe.map\" id=8486722407058537054]\n\t8486722407058537054 -> -4057743209670033856 [id=\"8486722407058537054.args[0]\"]\n\t-4057743209670033856 [label=\"Maybe.just\" id=-4057743209670033856]\n\t-4057743209670033856 -> -1448899694609174123 [id=\"-4057743209670033856.args[0]\"]\n\t-1448899694609174123 [label=\"Integer.from_int\" id=-1448899694609174123]\n\t-1448899694609174123 -> 7929563447330875300 [id=\"-1448899694609174123.args[0]\"]\n\t7929563447330875300 [label=5 id=8368899336284295099]\n\t8486722407058537054 -> -8871729180521625528 [id=\"8486722407058537054.args[1]\"]\n\t-8871729180521625528 [label=\"Abstraction.create\" id=-8871729180521625528]\n\t-8871729180521625528 -> -3477876327207206289 [id=\"-8871729180521625528.args[0]\"]\n\t-3477876327207206289 [label=\"Abstraction.create_variable\" id=-3477876327207206289]\n\t-3477876327207206289 -> 782204666144374570 [id=\"-3477876327207206289.args[0]\"]\n\t782204666144374570 [label=\"Variable(4532781744)\" id=782204666144374570]\n\t-8871729180521625528 -> -5693918354505073214 [id=\"-8871729180521625528.args[1]\"]\n\t-5693918354505073214 [label=\"Either.left\" id=-5693918354505073214]\n\t-5693918354505073214 -> -3477876327207206289 [id=\"-5693918354505073214.args[0]\"]\n\t2695006792991180376 -> 2901486184407898514 [id=\"2695006792991180376.args[1]\"]\n\t2901486184407898514 [label=\"Maybe.map\" id=2901486184407898514]\n\t2901486184407898514 -> 7195713575237942534 [id=\"2901486184407898514.args[0]\"]\n\t7195713575237942534 [label=\"Converter.convert\" id=7195713575237942534]\n\t7195713575237942534 -> 7929563447330875300 [id=\"7195713575237942534.args[0]\"]\n\t2901486184407898514 -> 6137053630892031812 [id=\"2901486184407898514.args[1]\"]\n\t6137053630892031812 [label=\"Abstraction.create\" id=6137053630892031812]\n\t6137053630892031812 -> 7595844918048910182 [id=\"6137053630892031812.args[0]\"]\n\t7595844918048910182 [label=\"Abstraction.create_variable\" id=7595844918048910182]\n\t7595844918048910182 -> 782204653931327520 [id=\"7595844918048910182.args[0]\"]\n\t782204653931327520 [label=\"Variable(4532700048)\" id=782204653931327520]\n\t6137053630892031812 -> -3874205195205355599 [id=\"6137053630892031812.args[1]\"]\n\t-3874205195205355599 [label=\"Either.right\" id=-3874205195205355599]\n\t-3874205195205355599 -> 7595844918048910182 [id=\"-3874205195205355599.args[0]\"]\n\t7938352705060161012 -> -6872534957557579885 [id=\"4035649169692160937.args[1]\"]\n\t-6872534957557579885 [label=\"Abstraction.create\" id=-6872534957557579885]\n\t-6872534957557579885 -> -4515816141679379126 [id=\"-6872534957557579885.args[0]\"]\n\t-4515816141679379126 [label=\"Abstraction.create_variable\" id=-4515816141679379126]\n\t-4515816141679379126 -> -8441167332832851488 [id=\"-4515816141679379126.args[0]\"]\n\t-8441167332832851488 [label=\"Variable(4532424600)\" id=-8441167332832851488]\n\t-6872534957557579885 -> -3244667734406134969 [id=\"-6872534957557579885.args[1]\"]\n\t-3244667734406134969 [label=\"NDArray.__getitem__\" id=-3244667734406134969]\n\t-3244667734406134969 -> -7971745150971623974 [id=\"-3244667734406134969.args[0]\"]\n\t-7971745150971623974 [label=\"Pair.left\" id=-7971745150971623974]\n\t-7971745150971623974 -> -4515816141679379126 [id=\"-7971745150971623974.args[0]\"]\n\t-3244667734406134969 -> 6641299432733888386 [id=\"-3244667734406134969.args[1]\"]\n\t6641299432733888386 [label=\"Pair.right\" id=6641299432733888386]\n\t6641299432733888386 -> -4515816141679379126 [id=\"6641299432733888386.args[0]\"]\n}",
         "label": null,
         "rule": "metadsl_core.abstraction.Abstraction.from_fn"
        },
        {
         "graph": "digraph {\n\tnode [shape=plain]\n\tedge [arrowsize=0.5 penwidth=0.5]\n\t-2536339837989076326 [label=\"NDArrayCompat.to_ndarray\" id=-5281961658848897139]\n\t-2536339837989076326 -> 1650229264940692165 [id=\"-5281961658848897139.args[0]\"]\n\t1650229264940692165 [label=\"NDArrayCompat.from_ndarray\" id=-9177130969686516551]\n\t1650229264940692165 -> 6076550561636597045 [id=\"-9177130969686516551.args[0]\"]\n\t6076550561636597045 [label=\"Maybe.match\" id=4035649169692160937]\n\t6076550561636597045 -> 8502660837632541408 [id=\"4035649169692160937.args[0]\"]\n\t8502660837632541408 [label=\"Maybe.__and__\" id=8502660837632541408]\n\t8502660837632541408 -> -4657327696202073921 [id=\"8502660837632541408.args[0]\"]\n\t-4657327696202073921 [label=\"Converter.convert\" id=-4657327696202073921]\n\t-4657327696202073921 -> -4264090195847481250 [id=\"-4657327696202073921.args[0]\"]\n\t-4264090195847481250 [label=\"NDArrayCompat.__add__\" id=-4264090195847481250]\n\t-4264090195847481250 -> -1625682492666313023 [id=\"-4264090195847481250.args[0]\"]\n\t-1625682492666313023 [label=\"NDArrayCompat.from_ndarray\" id=-1625682492666313023]\n\t-1625682492666313023 -> -7714184177713562882 [id=\"-1625682492666313023.args[0]\"]\n\t-7714184177713562882 [label=\"Maybe.map\" id=-7714184177713562882]\n\t-7714184177713562882 -> -8442994137960948810 [id=\"-7714184177713562882.args[0]\"]\n\t-8442994137960948810 [label=\"Maybe.just\" id=-8442994137960948810]\n\t-8442994137960948810 -> -3131809300698277100 [id=\"-8442994137960948810.args[0]\"]\n\t-3131809300698277100 [label=\"Integer.from_int\" id=-3131809300698277100]\n\t-3131809300698277100 -> 7929563447225870375 [id=\"-3131809300698277100.args[0]\"]\n\t7929563447225870375 [label=100 id=6695801540915528909]\n\t-7714184177713562882 -> 1585156807716819921 [id=\"-7714184177713562882.args[1]\"]\n\t1585156807716819921 [label=\"Abstraction.create\" id=1585156807716819921]\n\t1585156807716819921 -> 5602477112898136929 [id=\"1585156807716819921.args[0]\"]\n\t5602477112898136929 [label=\"Abstraction.create_variable\" id=5602477112898136929]\n\t5602477112898136929 -> -8441167338211918213 [id=\"5602477112898136929.args[0]\"]\n\t-8441167338211918213 [label=\"Variable(4532312328)\" id=-8441167338211918213]\n\t1585156807716819921 -> -36014167958209776 [id=\"1585156807716819921.args[1]\"]\n\t-36014167958209776 [label=arange_ id=-36014167958209776]\n\t-36014167958209776 -> 5602477112898136929 [id=\"-36014167958209776.args[0]\"]\n\t-4264090195847481250 -> -1625682492666313023 [id=\"-4264090195847481250.args[1]\"]\n\t8502660837632541408 -> 2695006792991180376 [id=\"8502660837632541408.args[1]\"]\n\t2695006792991180376 [label=\"Maybe.__or__\" id=2695006792991180376]\n\t2695006792991180376 -> 8486722407058537054 [id=\"2695006792991180376.args[0]\"]\n\t8486722407058537054 [label=\"Maybe.map\" id=8486722407058537054]\n\t8486722407058537054 -> -4057743209670033856 [id=\"8486722407058537054.args[0]\"]\n\t-4057743209670033856 [label=\"Maybe.just\" id=-4057743209670033856]\n\t-4057743209670033856 -> -1448899694609174123 [id=\"-4057743209670033856.args[0]\"]\n\t-1448899694609174123 [label=\"Integer.from_int\" id=-1448899694609174123]\n\t-1448899694609174123 -> 7929563447330875300 [id=\"-1448899694609174123.args[0]\"]\n\t7929563447330875300 [label=5 id=8368899336284295099]\n\t8486722407058537054 -> -8871729180521625528 [id=\"8486722407058537054.args[1]\"]\n\t-8871729180521625528 [label=\"Abstraction.create\" id=-8871729180521625528]\n\t-8871729180521625528 -> -3477876327207206289 [id=\"-8871729180521625528.args[0]\"]\n\t-3477876327207206289 [label=\"Abstraction.create_variable\" id=-3477876327207206289]\n\t-3477876327207206289 -> 782204666144374570 [id=\"-3477876327207206289.args[0]\"]\n\t782204666144374570 [label=\"Variable(4532781744)\" id=782204666144374570]\n\t-8871729180521625528 -> -5693918354505073214 [id=\"-8871729180521625528.args[1]\"]\n\t-5693918354505073214 [label=\"Either.left\" id=-5693918354505073214]\n\t-5693918354505073214 -> -3477876327207206289 [id=\"-5693918354505073214.args[0]\"]\n\t2695006792991180376 -> 2901486184407898514 [id=\"2695006792991180376.args[1]\"]\n\t2901486184407898514 [label=\"Maybe.map\" id=2901486184407898514]\n\t2901486184407898514 -> 7195713575237942534 [id=\"2901486184407898514.args[0]\"]\n\t7195713575237942534 [label=\"Converter.convert\" id=7195713575237942534]\n\t7195713575237942534 -> 7929563447330875300 [id=\"7195713575237942534.args[0]\"]\n\t2901486184407898514 -> 6137053630892031812 [id=\"2901486184407898514.args[1]\"]\n\t6137053630892031812 [label=\"Abstraction.create\" id=6137053630892031812]\n\t6137053630892031812 -> 7595844918048910182 [id=\"6137053630892031812.args[0]\"]\n\t7595844918048910182 [label=\"Abstraction.create_variable\" id=7595844918048910182]\n\t7595844918048910182 -> 782204653931327520 [id=\"7595844918048910182.args[0]\"]\n\t782204653931327520 [label=\"Variable(4532700048)\" id=782204653931327520]\n\t6137053630892031812 -> -3874205195205355599 [id=\"6137053630892031812.args[1]\"]\n\t-3874205195205355599 [label=\"Either.right\" id=-3874205195205355599]\n\t-3874205195205355599 -> 7595844918048910182 [id=\"-3874205195205355599.args[0]\"]\n\t6076550561636597045 -> 3904670649235592956 [id=\"4035649169692160937.args[1]\"]\n\t3904670649235592956 [label=\"Maybe.nothing\" id=3904670649235592956]\n\t6076550561636597045 -> -7929933669310959521 [id=\"4035649169692160937.args[2]\"]\n\t-7929933669310959521 [label=\"Abstraction.__add__\" id=-7929933669310959521]\n\t-7929933669310959521 -> -7293254293253925776 [id=\"-7929933669310959521.args[0]\"]\n\t-7293254293253925776 [label=\"Abstraction.from_fn\" id=-7293254293253925776]\n\t-7293254293253925776 -> -4094591097972136167 [id=\"-7293254293253925776.args[0]\"]\n\t-4094591097972136167 [label=\"Maybe.just\" id=-4094591097972136167]\n\t-7929933669310959521 -> -6872534957557579885 [id=\"-7929933669310959521.args[1]\"]\n\t-6872534957557579885 [label=\"Abstraction.create\" id=-6872534957557579885]\n\t-6872534957557579885 -> -4515816141679379126 [id=\"-6872534957557579885.args[0]\"]\n\t-4515816141679379126 [label=\"Abstraction.create_variable\" id=-4515816141679379126]\n\t-4515816141679379126 -> -8441167332832851488 [id=\"-4515816141679379126.args[0]\"]\n\t-8441167332832851488 [label=\"Variable(4532424600)\" id=-8441167332832851488]\n\t-6872534957557579885 -> -3244667734406134969 [id=\"-6872534957557579885.args[1]\"]\n\t-3244667734406134969 [label=\"NDArray.__getitem__\" id=-3244667734406134969]\n\t-3244667734406134969 -> -7971745150971623974 [id=\"-3244667734406134969.args[0]\"]\n\t-7971745150971623974 [label=\"Pair.left\" id=-7971745150971623974]\n\t-7971745150971623974 -> -4515816141679379126 [id=\"-7971745150971623974.args[0]\"]\n\t-3244667734406134969 -> 6641299432733888386 [id=\"-3244667734406134969.args[1]\"]\n\t6641299432733888386 [label=\"Pair.right\" id=6641299432733888386]\n\t6641299432733888386 -> -4515816141679379126 [id=\"6641299432733888386.args[0]\"]\n}",
         "label": null,
         "rule": "metadsl_core.maybe.Maybe.map"
        },
        {
         "graph": "digraph {\n\tnode [shape=plain]\n\tedge [arrowsize=0.5 penwidth=0.5]\n\t-6140945438237859125 [label=\"NDArrayCompat.to_ndarray\" id=-5281961658848897139]\n\t-6140945438237859125 -> -4950661753505737510 [id=\"-5281961658848897139.args[0]\"]\n\t-4950661753505737510 [label=\"NDArrayCompat.from_ndarray\" id=-9177130969686516551]\n\t-4950661753505737510 -> -3125131827332125891 [id=\"-9177130969686516551.args[0]\"]\n\t-3125131827332125891 [label=\"Maybe.match\" id=4035649169692160937]\n\t-3125131827332125891 -> 8227145086890198440 [id=\"4035649169692160937.args[0]\"]\n\t8227145086890198440 [label=\"Maybe.__and__\" id=8502660837632541408]\n\t8227145086890198440 -> -4657327696202073921 [id=\"8502660837632541408.args[0]\"]\n\t-4657327696202073921 [label=\"Converter.convert\" id=-4657327696202073921]\n\t-4657327696202073921 -> -4264090195847481250 [id=\"-4657327696202073921.args[0]\"]\n\t-4264090195847481250 [label=\"NDArrayCompat.__add__\" id=-4264090195847481250]\n\t-4264090195847481250 -> -1625682492666313023 [id=\"-4264090195847481250.args[0]\"]\n\t-1625682492666313023 [label=\"NDArrayCompat.from_ndarray\" id=-1625682492666313023]\n\t-1625682492666313023 -> -7714184177713562882 [id=\"-1625682492666313023.args[0]\"]\n\t-7714184177713562882 [label=\"Maybe.map\" id=-7714184177713562882]\n\t-7714184177713562882 -> -8442994137960948810 [id=\"-7714184177713562882.args[0]\"]\n\t-8442994137960948810 [label=\"Maybe.just\" id=-8442994137960948810]\n\t-8442994137960948810 -> -3131809300698277100 [id=\"-8442994137960948810.args[0]\"]\n\t-3131809300698277100 [label=\"Integer.from_int\" id=-3131809300698277100]\n\t-3131809300698277100 -> 7929563447225870375 [id=\"-3131809300698277100.args[0]\"]\n\t7929563447225870375 [label=100 id=6695801540915528909]\n\t-7714184177713562882 -> 1585156807716819921 [id=\"-7714184177713562882.args[1]\"]\n\t1585156807716819921 [label=\"Abstraction.create\" id=1585156807716819921]\n\t1585156807716819921 -> 5602477112898136929 [id=\"1585156807716819921.args[0]\"]\n\t5602477112898136929 [label=\"Abstraction.create_variable\" id=5602477112898136929]\n\t5602477112898136929 -> -8441167338211918213 [id=\"5602477112898136929.args[0]\"]\n\t-8441167338211918213 [label=\"Variable(4532312328)\" id=-8441167338211918213]\n\t1585156807716819921 -> -36014167958209776 [id=\"1585156807716819921.args[1]\"]\n\t-36014167958209776 [label=arange_ id=-36014167958209776]\n\t-36014167958209776 -> 5602477112898136929 [id=\"-36014167958209776.args[0]\"]\n\t-4264090195847481250 -> -1625682492666313023 [id=\"-4264090195847481250.args[1]\"]\n\t8227145086890198440 -> -8042496346563878572 [id=\"8502660837632541408.args[1]\"]\n\t-8042496346563878572 [label=\"Maybe.__or__\" id=2695006792991180376]\n\t-8042496346563878572 -> 8486722407058537054 [id=\"2695006792991180376.args[0]\"]\n\t8486722407058537054 [label=\"Maybe.map\" id=8486722407058537054]\n\t8486722407058537054 -> -4057743209670033856 [id=\"8486722407058537054.args[0]\"]\n\t-4057743209670033856 [label=\"Maybe.just\" id=-4057743209670033856]\n\t-4057743209670033856 -> -1448899694609174123 [id=\"-4057743209670033856.args[0]\"]\n\t-1448899694609174123 [label=\"Integer.from_int\" id=-1448899694609174123]\n\t-1448899694609174123 -> 7929563447330875300 [id=\"-1448899694609174123.args[0]\"]\n\t7929563447330875300 [label=5 id=8368899336284295099]\n\t8486722407058537054 -> -8871729180521625528 [id=\"8486722407058537054.args[1]\"]\n\t-8871729180521625528 [label=\"Abstraction.create\" id=-8871729180521625528]\n\t-8871729180521625528 -> -3477876327207206289 [id=\"-8871729180521625528.args[0]\"]\n\t-3477876327207206289 [label=\"Abstraction.create_variable\" id=-3477876327207206289]\n\t-3477876327207206289 -> 782204666144374570 [id=\"-3477876327207206289.args[0]\"]\n\t782204666144374570 [label=\"Variable(4532781744)\" id=782204666144374570]\n\t-8871729180521625528 -> -5693918354505073214 [id=\"-8871729180521625528.args[1]\"]\n\t-5693918354505073214 [label=\"Either.left\" id=-5693918354505073214]\n\t-5693918354505073214 -> -3477876327207206289 [id=\"-5693918354505073214.args[0]\"]\n\t-8042496346563878572 -> -6274474774942059959 [id=\"2695006792991180376.args[1]\"]\n\t-6274474774942059959 [label=\"Maybe.match\" id=2901486184407898514]\n\t-6274474774942059959 -> 7195713575237942534 [id=\"2901486184407898514.args[0]\"]\n\t7195713575237942534 [label=\"Converter.convert\" id=7195713575237942534]\n\t7195713575237942534 -> 7929563447330875300 [id=\"7195713575237942534.args[0]\"]\n\t-6274474774942059959 -> -754019181540390696 [id=\"2901486184407898514.args[1]\"]\n\t-754019181540390696 [label=\"Maybe.nothing\" id=-754019181540390696]\n\t-6274474774942059959 -> -5767205988462710480 [id=\"2901486184407898514.args[2]\"]\n\t-5767205988462710480 [label=\"Abstraction.__add__\" id=-5767205988462710480]\n\t-5767205988462710480 -> -7660677309244214554 [id=\"-5767205988462710480.args[0]\"]\n\t-7660677309244214554 [label=\"Abstraction.from_fn\" id=-7660677309244214554]\n\t-7660677309244214554 -> 2939876135484546645 [id=\"-7660677309244214554.args[0]\"]\n\t2939876135484546645 [label=\"Maybe.just\" id=2939876135484546645]\n\t-5767205988462710480 -> 6137053630892031812 [id=\"-5767205988462710480.args[1]\"]\n\t6137053630892031812 [label=\"Abstraction.create\" id=6137053630892031812]\n\t6137053630892031812 -> 7595844918048910182 [id=\"6137053630892031812.args[0]\"]\n\t7595844918048910182 [label=\"Abstraction.create_variable\" id=7595844918048910182]\n\t7595844918048910182 -> 782204653931327520 [id=\"7595844918048910182.args[0]\"]\n\t782204653931327520 [label=\"Variable(4532700048)\" id=782204653931327520]\n\t6137053630892031812 -> -3874205195205355599 [id=\"6137053630892031812.args[1]\"]\n\t-3874205195205355599 [label=\"Either.right\" id=-3874205195205355599]\n\t-3874205195205355599 -> 7595844918048910182 [id=\"-3874205195205355599.args[0]\"]\n\t-3125131827332125891 -> 3904670649235592956 [id=\"4035649169692160937.args[1]\"]\n\t3904670649235592956 [label=\"Maybe.nothing\" id=3904670649235592956]\n\t-3125131827332125891 -> -7929933669310959521 [id=\"4035649169692160937.args[2]\"]\n\t-7929933669310959521 [label=\"Abstraction.__add__\" id=-7929933669310959521]\n\t-7929933669310959521 -> -7293254293253925776 [id=\"-7929933669310959521.args[0]\"]\n\t-7293254293253925776 [label=\"Abstraction.from_fn\" id=-7293254293253925776]\n\t-7293254293253925776 -> -4094591097972136167 [id=\"-7293254293253925776.args[0]\"]\n\t-4094591097972136167 [label=\"Maybe.just\" id=-4094591097972136167]\n\t-7929933669310959521 -> -6872534957557579885 [id=\"-7929933669310959521.args[1]\"]\n\t-6872534957557579885 [label=\"Abstraction.create\" id=-6872534957557579885]\n\t-6872534957557579885 -> -4515816141679379126 [id=\"-6872534957557579885.args[0]\"]\n\t-4515816141679379126 [label=\"Abstraction.create_variable\" id=-4515816141679379126]\n\t-4515816141679379126 -> -8441167332832851488 [id=\"-4515816141679379126.args[0]\"]\n\t-8441167332832851488 [label=\"Variable(4532424600)\" id=-8441167332832851488]\n\t-6872534957557579885 -> -3244667734406134969 [id=\"-6872534957557579885.args[1]\"]\n\t-3244667734406134969 [label=\"NDArray.__getitem__\" id=-3244667734406134969]\n\t-3244667734406134969 -> -7971745150971623974 [id=\"-3244667734406134969.args[0]\"]\n\t-7971745150971623974 [label=\"Pair.left\" id=-7971745150971623974]\n\t-7971745150971623974 -> -4515816141679379126 [id=\"-7971745150971623974.args[0]\"]\n\t-3244667734406134969 -> 6641299432733888386 [id=\"-3244667734406134969.args[1]\"]\n\t6641299432733888386 [label=\"Pair.right\" id=6641299432733888386]\n\t6641299432733888386 -> -4515816141679379126 [id=\"6641299432733888386.args[0]\"]\n}",
         "label": null,
         "rule": "metadsl_core.maybe.Maybe.map"
        },
        {
         "graph": "digraph {\n\tnode [shape=plain]\n\tedge [arrowsize=0.5 penwidth=0.5]\n\t7209205958286522155 [label=\"NDArrayCompat.to_ndarray\" id=-5281961658848897139]\n\t7209205958286522155 -> -8080735215263406917 [id=\"-5281961658848897139.args[0]\"]\n\t-8080735215263406917 [label=\"NDArrayCompat.from_ndarray\" id=-9177130969686516551]\n\t-8080735215263406917 -> -5023749376242042757 [id=\"-9177130969686516551.args[0]\"]\n\t-5023749376242042757 [label=\"Maybe.match\" id=4035649169692160937]\n\t-5023749376242042757 -> 6446121888231165459 [id=\"4035649169692160937.args[0]\"]\n\t6446121888231165459 [label=\"Maybe.__and__\" id=8502660837632541408]\n\t6446121888231165459 -> -4657327696202073921 [id=\"8502660837632541408.args[0]\"]\n\t-4657327696202073921 [label=\"Converter.convert\" id=-4657327696202073921]\n\t-4657327696202073921 -> -4264090195847481250 [id=\"-4657327696202073921.args[0]\"]\n\t-4264090195847481250 [label=\"NDArrayCompat.__add__\" id=-4264090195847481250]\n\t-4264090195847481250 -> -1625682492666313023 [id=\"-4264090195847481250.args[0]\"]\n\t-1625682492666313023 [label=\"NDArrayCompat.from_ndarray\" id=-1625682492666313023]\n\t-1625682492666313023 -> -7714184177713562882 [id=\"-1625682492666313023.args[0]\"]\n\t-7714184177713562882 [label=\"Maybe.map\" id=-7714184177713562882]\n\t-7714184177713562882 -> -8442994137960948810 [id=\"-7714184177713562882.args[0]\"]\n\t-8442994137960948810 [label=\"Maybe.just\" id=-8442994137960948810]\n\t-8442994137960948810 -> -3131809300698277100 [id=\"-8442994137960948810.args[0]\"]\n\t-3131809300698277100 [label=\"Integer.from_int\" id=-3131809300698277100]\n\t-3131809300698277100 -> 7929563447225870375 [id=\"-3131809300698277100.args[0]\"]\n\t7929563447225870375 [label=100 id=6695801540915528909]\n\t-7714184177713562882 -> 1585156807716819921 [id=\"-7714184177713562882.args[1]\"]\n\t1585156807716819921 [label=\"Abstraction.create\" id=1585156807716819921]\n\t1585156807716819921 -> 5602477112898136929 [id=\"1585156807716819921.args[0]\"]\n\t5602477112898136929 [label=\"Abstraction.create_variable\" id=5602477112898136929]\n\t5602477112898136929 -> -8441167338211918213 [id=\"5602477112898136929.args[0]\"]\n\t-8441167338211918213 [label=\"Variable(4532312328)\" id=-8441167338211918213]\n\t1585156807716819921 -> -36014167958209776 [id=\"1585156807716819921.args[1]\"]\n\t-36014167958209776 [label=arange_ id=-36014167958209776]\n\t-36014167958209776 -> 5602477112898136929 [id=\"-36014167958209776.args[0]\"]\n\t-4264090195847481250 -> -1625682492666313023 [id=\"-4264090195847481250.args[1]\"]\n\t6446121888231165459 -> -5586627255211727058 [id=\"8502660837632541408.args[1]\"]\n\t-5586627255211727058 [label=\"Maybe.__or__\" id=2695006792991180376]\n\t-5586627255211727058 -> 6508932817373433141 [id=\"2695006792991180376.args[0]\"]\n\t6508932817373433141 [label=\"Maybe.match\" id=8486722407058537054]\n\t6508932817373433141 -> -4057743209670033856 [id=\"8486722407058537054.args[0]\"]\n\t-4057743209670033856 [label=\"Maybe.just\" id=-4057743209670033856]\n\t-4057743209670033856 -> -1448899694609174123 [id=\"-4057743209670033856.args[0]\"]\n\t-1448899694609174123 [label=\"Integer.from_int\" id=-1448899694609174123]\n\t-1448899694609174123 -> 7929563447330875300 [id=\"-1448899694609174123.args[0]\"]\n\t7929563447330875300 [label=5 id=8368899336284295099]\n\t6508932817373433141 -> -754019181540390696 [id=\"8486722407058537054.args[1]\"]\n\t-754019181540390696 [label=\"Maybe.nothing\" id=-754019181540390696]\n\t6508932817373433141 -> -279173692147741471 [id=\"8486722407058537054.args[2]\"]\n\t-279173692147741471 [label=\"Abstraction.__add__\" id=-279173692147741471]\n\t-279173692147741471 -> -7660677309244214554 [id=\"-279173692147741471.args[0]\"]\n\t-7660677309244214554 [label=\"Abstraction.from_fn\" id=-7660677309244214554]\n\t-7660677309244214554 -> 2939876135484546645 [id=\"-7660677309244214554.args[0]\"]\n\t2939876135484546645 [label=\"Maybe.just\" id=2939876135484546645]\n\t-279173692147741471 -> -8871729180521625528 [id=\"-279173692147741471.args[1]\"]\n\t-8871729180521625528 [label=\"Abstraction.create\" id=-8871729180521625528]\n\t-8871729180521625528 -> -3477876327207206289 [id=\"-8871729180521625528.args[0]\"]\n\t-3477876327207206289 [label=\"Abstraction.create_variable\" id=-3477876327207206289]\n\t-3477876327207206289 -> 782204666144374570 [id=\"-3477876327207206289.args[0]\"]\n\t782204666144374570 [label=\"Variable(4532781744)\" id=782204666144374570]\n\t-8871729180521625528 -> -5693918354505073214 [id=\"-8871729180521625528.args[1]\"]\n\t-5693918354505073214 [label=\"Either.left\" id=-5693918354505073214]\n\t-5693918354505073214 -> -3477876327207206289 [id=\"-5693918354505073214.args[0]\"]\n\t-5586627255211727058 -> -6274474774942059959 [id=\"2695006792991180376.args[1]\"]\n\t-6274474774942059959 [label=\"Maybe.match\" id=2901486184407898514]\n\t-6274474774942059959 -> 7195713575237942534 [id=\"2901486184407898514.args[0]\"]\n\t7195713575237942534 [label=\"Converter.convert\" id=7195713575237942534]\n\t7195713575237942534 -> 7929563447330875300 [id=\"7195713575237942534.args[0]\"]\n\t-6274474774942059959 -> -754019181540390696 [id=\"2901486184407898514.args[1]\"]\n\t-6274474774942059959 -> -5767205988462710480 [id=\"2901486184407898514.args[2]\"]\n\t-5767205988462710480 [label=\"Abstraction.__add__\" id=-5767205988462710480]\n\t-5767205988462710480 -> -7660677309244214554 [id=\"-5767205988462710480.args[0]\"]\n\t-5767205988462710480 -> 6137053630892031812 [id=\"-5767205988462710480.args[1]\"]\n\t6137053630892031812 [label=\"Abstraction.create\" id=6137053630892031812]\n\t6137053630892031812 -> 7595844918048910182 [id=\"6137053630892031812.args[0]\"]\n\t7595844918048910182 [label=\"Abstraction.create_variable\" id=7595844918048910182]\n\t7595844918048910182 -> 782204653931327520 [id=\"7595844918048910182.args[0]\"]\n\t782204653931327520 [label=\"Variable(4532700048)\" id=782204653931327520]\n\t6137053630892031812 -> -3874205195205355599 [id=\"6137053630892031812.args[1]\"]\n\t-3874205195205355599 [label=\"Either.right\" id=-3874205195205355599]\n\t-3874205195205355599 -> 7595844918048910182 [id=\"-3874205195205355599.args[0]\"]\n\t-5023749376242042757 -> 3904670649235592956 [id=\"4035649169692160937.args[1]\"]\n\t3904670649235592956 [label=\"Maybe.nothing\" id=3904670649235592956]\n\t-5023749376242042757 -> -7929933669310959521 [id=\"4035649169692160937.args[2]\"]\n\t-7929933669310959521 [label=\"Abstraction.__add__\" id=-7929933669310959521]\n\t-7929933669310959521 -> -7293254293253925776 [id=\"-7929933669310959521.args[0]\"]\n\t-7293254293253925776 [label=\"Abstraction.from_fn\" id=-7293254293253925776]\n\t-7293254293253925776 -> -4094591097972136167 [id=\"-7293254293253925776.args[0]\"]\n\t-4094591097972136167 [label=\"Maybe.just\" id=-4094591097972136167]\n\t-7929933669310959521 -> -6872534957557579885 [id=\"-7929933669310959521.args[1]\"]\n\t-6872534957557579885 [label=\"Abstraction.create\" id=-6872534957557579885]\n\t-6872534957557579885 -> -4515816141679379126 [id=\"-6872534957557579885.args[0]\"]\n\t-4515816141679379126 [label=\"Abstraction.create_variable\" id=-4515816141679379126]\n\t-4515816141679379126 -> -8441167332832851488 [id=\"-4515816141679379126.args[0]\"]\n\t-8441167332832851488 [label=\"Variable(4532424600)\" id=-8441167332832851488]\n\t-6872534957557579885 -> -3244667734406134969 [id=\"-6872534957557579885.args[1]\"]\n\t-3244667734406134969 [label=\"NDArray.__getitem__\" id=-3244667734406134969]\n\t-3244667734406134969 -> -7971745150971623974 [id=\"-3244667734406134969.args[0]\"]\n\t-7971745150971623974 [label=\"Pair.left\" id=-7971745150971623974]\n\t-7971745150971623974 -> -4515816141679379126 [id=\"-7971745150971623974.args[0]\"]\n\t-3244667734406134969 -> 6641299432733888386 [id=\"-3244667734406134969.args[1]\"]\n\t6641299432733888386 [label=\"Pair.right\" id=6641299432733888386]\n\t6641299432733888386 -> -4515816141679379126 [id=\"6641299432733888386.args[0]\"]\n}",
         "label": null,
         "rule": "metadsl_core.maybe.Maybe.map"
        },
        {
         "graph": "digraph {\n\tnode [shape=plain]\n\tedge [arrowsize=0.5 penwidth=0.5]\n\t-2555114394254853763 [label=\"NDArrayCompat.to_ndarray\" id=-5281961658848897139]\n\t-2555114394254853763 -> 5850578274881120740 [id=\"-5281961658848897139.args[0]\"]\n\t5850578274881120740 [label=\"NDArrayCompat.from_ndarray\" id=-9177130969686516551]\n\t5850578274881120740 -> -8324418747529519971 [id=\"-9177130969686516551.args[0]\"]\n\t-8324418747529519971 [label=\"Maybe.match\" id=4035649169692160937]\n\t-8324418747529519971 -> 1801178083910655243 [id=\"4035649169692160937.args[0]\"]\n\t1801178083910655243 [label=\"Maybe.__and__\" id=8502660837632541408]\n\t1801178083910655243 -> -4657327696202073921 [id=\"8502660837632541408.args[0]\"]\n\t-4657327696202073921 [label=\"Converter.convert\" id=-4657327696202073921]\n\t-4657327696202073921 -> -4264090195847481250 [id=\"-4657327696202073921.args[0]\"]\n\t-4264090195847481250 [label=\"NDArrayCompat.__add__\" id=-4264090195847481250]\n\t-4264090195847481250 -> -1625682492666313023 [id=\"-4264090195847481250.args[0]\"]\n\t-1625682492666313023 [label=\"NDArrayCompat.from_ndarray\" id=-1625682492666313023]\n\t-1625682492666313023 -> -7714184177713562882 [id=\"-1625682492666313023.args[0]\"]\n\t-7714184177713562882 [label=\"Maybe.map\" id=-7714184177713562882]\n\t-7714184177713562882 -> -8442994137960948810 [id=\"-7714184177713562882.args[0]\"]\n\t-8442994137960948810 [label=\"Maybe.just\" id=-8442994137960948810]\n\t-8442994137960948810 -> -3131809300698277100 [id=\"-8442994137960948810.args[0]\"]\n\t-3131809300698277100 [label=\"Integer.from_int\" id=-3131809300698277100]\n\t-3131809300698277100 -> 7929563447225870375 [id=\"-3131809300698277100.args[0]\"]\n\t7929563447225870375 [label=100 id=6695801540915528909]\n\t-7714184177713562882 -> 1585156807716819921 [id=\"-7714184177713562882.args[1]\"]\n\t1585156807716819921 [label=\"Abstraction.create\" id=1585156807716819921]\n\t1585156807716819921 -> 5602477112898136929 [id=\"1585156807716819921.args[0]\"]\n\t5602477112898136929 [label=\"Abstraction.create_variable\" id=5602477112898136929]\n\t5602477112898136929 -> -8441167338211918213 [id=\"5602477112898136929.args[0]\"]\n\t-8441167338211918213 [label=\"Variable(4532312328)\" id=-8441167338211918213]\n\t1585156807716819921 -> -36014167958209776 [id=\"1585156807716819921.args[1]\"]\n\t-36014167958209776 [label=arange_ id=-36014167958209776]\n\t-36014167958209776 -> 5602477112898136929 [id=\"-36014167958209776.args[0]\"]\n\t-4264090195847481250 -> -1625682492666313023 [id=\"-4264090195847481250.args[1]\"]\n\t1801178083910655243 -> -1677132938923416940 [id=\"8502660837632541408.args[1]\"]\n\t-1677132938923416940 [label=\"Maybe.__or__\" id=2695006792991180376]\n\t-1677132938923416940 -> -7863093532163047772 [id=\"2695006792991180376.args[0]\"]\n\t-7863093532163047772 [label=\"Abstraction.__call__\" id=8486722407058537054]\n\t-7863093532163047772 -> -279173692147741471 [id=\"8486722407058537054.args[0]\"]\n\t-279173692147741471 [label=\"Abstraction.__add__\" id=-279173692147741471]\n\t-279173692147741471 -> -7660677309244214554 [id=\"-279173692147741471.args[0]\"]\n\t-7660677309244214554 [label=\"Abstraction.from_fn\" id=-7660677309244214554]\n\t-7660677309244214554 -> 2939876135484546645 [id=\"-7660677309244214554.args[0]\"]\n\t2939876135484546645 [label=\"Maybe.just\" id=2939876135484546645]\n\t-279173692147741471 -> -8871729180521625528 [id=\"-279173692147741471.args[1]\"]\n\t-8871729180521625528 [label=\"Abstraction.create\" id=-8871729180521625528]\n\t-8871729180521625528 -> -3477876327207206289 [id=\"-8871729180521625528.args[0]\"]\n\t-3477876327207206289 [label=\"Abstraction.create_variable\" id=-3477876327207206289]\n\t-3477876327207206289 -> 782204666144374570 [id=\"-3477876327207206289.args[0]\"]\n\t782204666144374570 [label=\"Variable(4532781744)\" id=782204666144374570]\n\t-8871729180521625528 -> -5693918354505073214 [id=\"-8871729180521625528.args[1]\"]\n\t-5693918354505073214 [label=\"Either.left\" id=-5693918354505073214]\n\t-5693918354505073214 -> -3477876327207206289 [id=\"-5693918354505073214.args[0]\"]\n\t-7863093532163047772 -> -1448899694609174123 [id=\"8486722407058537054.args[1]\"]\n\t-1448899694609174123 [label=\"Integer.from_int\" id=-1448899694609174123]\n\t-1448899694609174123 -> 7929563447330875300 [id=\"-1448899694609174123.args[0]\"]\n\t7929563447330875300 [label=5 id=8368899336284295099]\n\t-1677132938923416940 -> -6274474774942059959 [id=\"2695006792991180376.args[1]\"]\n\t-6274474774942059959 [label=\"Maybe.match\" id=2901486184407898514]\n\t-6274474774942059959 -> 7195713575237942534 [id=\"2901486184407898514.args[0]\"]\n\t7195713575237942534 [label=\"Converter.convert\" id=7195713575237942534]\n\t7195713575237942534 -> 7929563447330875300 [id=\"7195713575237942534.args[0]\"]\n\t-6274474774942059959 -> -754019181540390696 [id=\"2901486184407898514.args[1]\"]\n\t-754019181540390696 [label=\"Maybe.nothing\" id=-754019181540390696]\n\t-6274474774942059959 -> -5767205988462710480 [id=\"2901486184407898514.args[2]\"]\n\t-5767205988462710480 [label=\"Abstraction.__add__\" id=-5767205988462710480]\n\t-5767205988462710480 -> -7660677309244214554 [id=\"-5767205988462710480.args[0]\"]\n\t-5767205988462710480 -> 6137053630892031812 [id=\"-5767205988462710480.args[1]\"]\n\t6137053630892031812 [label=\"Abstraction.create\" id=6137053630892031812]\n\t6137053630892031812 -> 7595844918048910182 [id=\"6137053630892031812.args[0]\"]\n\t7595844918048910182 [label=\"Abstraction.create_variable\" id=7595844918048910182]\n\t7595844918048910182 -> 782204653931327520 [id=\"7595844918048910182.args[0]\"]\n\t782204653931327520 [label=\"Variable(4532700048)\" id=782204653931327520]\n\t6137053630892031812 -> -3874205195205355599 [id=\"6137053630892031812.args[1]\"]\n\t-3874205195205355599 [label=\"Either.right\" id=-3874205195205355599]\n\t-3874205195205355599 -> 7595844918048910182 [id=\"-3874205195205355599.args[0]\"]\n\t-8324418747529519971 -> 3904670649235592956 [id=\"4035649169692160937.args[1]\"]\n\t3904670649235592956 [label=\"Maybe.nothing\" id=3904670649235592956]\n\t-8324418747529519971 -> -7929933669310959521 [id=\"4035649169692160937.args[2]\"]\n\t-7929933669310959521 [label=\"Abstraction.__add__\" id=-7929933669310959521]\n\t-7929933669310959521 -> -7293254293253925776 [id=\"-7929933669310959521.args[0]\"]\n\t-7293254293253925776 [label=\"Abstraction.from_fn\" id=-7293254293253925776]\n\t-7293254293253925776 -> -4094591097972136167 [id=\"-7293254293253925776.args[0]\"]\n\t-4094591097972136167 [label=\"Maybe.just\" id=-4094591097972136167]\n\t-7929933669310959521 -> -6872534957557579885 [id=\"-7929933669310959521.args[1]\"]\n\t-6872534957557579885 [label=\"Abstraction.create\" id=-6872534957557579885]\n\t-6872534957557579885 -> -4515816141679379126 [id=\"-6872534957557579885.args[0]\"]\n\t-4515816141679379126 [label=\"Abstraction.create_variable\" id=-4515816141679379126]\n\t-4515816141679379126 -> -8441167332832851488 [id=\"-4515816141679379126.args[0]\"]\n\t-8441167332832851488 [label=\"Variable(4532424600)\" id=-8441167332832851488]\n\t-6872534957557579885 -> -3244667734406134969 [id=\"-6872534957557579885.args[1]\"]\n\t-3244667734406134969 [label=\"NDArray.__getitem__\" id=-3244667734406134969]\n\t-3244667734406134969 -> -7971745150971623974 [id=\"-3244667734406134969.args[0]\"]\n\t-7971745150971623974 [label=\"Pair.left\" id=-7971745150971623974]\n\t-7971745150971623974 -> -4515816141679379126 [id=\"-7971745150971623974.args[0]\"]\n\t-3244667734406134969 -> 6641299432733888386 [id=\"-3244667734406134969.args[1]\"]\n\t6641299432733888386 [label=\"Pair.right\" id=6641299432733888386]\n\t6641299432733888386 -> -4515816141679379126 [id=\"6641299432733888386.args[0]\"]\n}",
         "label": null,
         "rule": "metadsl_core.maybe.maybe_match"
        },
        {
         "graph": "digraph {\n\tnode [shape=plain]\n\tedge [arrowsize=0.5 penwidth=0.5]\n\t-105242845287374559 [label=\"NDArrayCompat.to_ndarray\" id=-5281961658848897139]\n\t-105242845287374559 -> 4735386674060708040 [id=\"-5281961658848897139.args[0]\"]\n\t4735386674060708040 [label=\"NDArrayCompat.from_ndarray\" id=-9177130969686516551]\n\t4735386674060708040 -> 2322691605591635317 [id=\"-9177130969686516551.args[0]\"]\n\t2322691605591635317 [label=\"Maybe.match\" id=4035649169692160937]\n\t2322691605591635317 -> 6201539520600265249 [id=\"4035649169692160937.args[0]\"]\n\t6201539520600265249 [label=\"Maybe.__and__\" id=8502660837632541408]\n\t6201539520600265249 -> 1650910841988864359 [id=\"8502660837632541408.args[0]\"]\n\t1650910841988864359 [label=\"Converter.convert\" id=-4657327696202073921]\n\t1650910841988864359 -> 5616511007139939859 [id=\"-4657327696202073921.args[0]\"]\n\t5616511007139939859 [label=\"NDArrayCompat.__add__\" id=-4264090195847481250]\n\t5616511007139939859 -> 132669007182046688 [id=\"-4264090195847481250.args[0]\"]\n\t132669007182046688 [label=\"NDArrayCompat.from_ndarray\" id=132669007182046688]\n\t132669007182046688 -> -1697382596041886450 [id=\"132669007182046688.args[0]\"]\n\t-1697382596041886450 [label=\"Maybe.match\" id=-1697382596041886450]\n\t-1697382596041886450 -> -8442994137960948810 [id=\"-1697382596041886450.args[0]\"]\n\t-8442994137960948810 [label=\"Maybe.just\" id=-8442994137960948810]\n\t-8442994137960948810 -> -3131809300698277100 [id=\"-8442994137960948810.args[0]\"]\n\t-3131809300698277100 [label=\"Integer.from_int\" id=-3131809300698277100]\n\t-3131809300698277100 -> 7929563447225870375 [id=\"-3131809300698277100.args[0]\"]\n\t7929563447225870375 [label=100 id=6695801540915528909]\n\t-1697382596041886450 -> 3904670649235592956 [id=\"-1697382596041886450.args[1]\"]\n\t3904670649235592956 [label=\"Maybe.nothing\" id=3904670649235592956]\n\t-1697382596041886450 -> -1662407830212765793 [id=\"-1697382596041886450.args[2]\"]\n\t-1662407830212765793 [label=\"Abstraction.__add__\" id=-1662407830212765793]\n\t-1662407830212765793 -> -7293254293253925776 [id=\"-1662407830212765793.args[0]\"]\n\t-7293254293253925776 [label=\"Abstraction.from_fn\" id=-7293254293253925776]\n\t-7293254293253925776 -> -4094591097972136167 [id=\"-7293254293253925776.args[0]\"]\n\t-4094591097972136167 [label=\"Maybe.just\" id=-4094591097972136167]\n\t-1662407830212765793 -> 1585156807716819921 [id=\"-1662407830212765793.args[1]\"]\n\t1585156807716819921 [label=\"Abstraction.create\" id=1585156807716819921]\n\t1585156807716819921 -> 5602477112898136929 [id=\"1585156807716819921.args[0]\"]\n\t5602477112898136929 [label=\"Abstraction.create_variable\" id=5602477112898136929]\n\t5602477112898136929 -> -8441167338211918213 [id=\"5602477112898136929.args[0]\"]\n\t-8441167338211918213 [label=\"Variable(4532312328)\" id=-8441167338211918213]\n\t1585156807716819921 -> -36014167958209776 [id=\"1585156807716819921.args[1]\"]\n\t-36014167958209776 [label=arange_ id=-36014167958209776]\n\t-36014167958209776 -> 5602477112898136929 [id=\"-36014167958209776.args[0]\"]\n\t5616511007139939859 -> -1625682492666313023 [id=\"-4264090195847481250.args[1]\"]\n\t-1625682492666313023 [label=\"NDArrayCompat.from_ndarray\" id=-1625682492666313023]\n\t-1625682492666313023 -> -7714184177713562882 [id=\"-1625682492666313023.args[0]\"]\n\t-7714184177713562882 [label=\"Maybe.map\" id=-7714184177713562882]\n\t-7714184177713562882 -> -8442994137960948810 [id=\"-7714184177713562882.args[0]\"]\n\t-7714184177713562882 -> 1585156807716819921 [id=\"-7714184177713562882.args[1]\"]\n\t6201539520600265249 -> -1677132938923416940 [id=\"8502660837632541408.args[1]\"]\n\t-1677132938923416940 [label=\"Maybe.__or__\" id=2695006792991180376]\n\t-1677132938923416940 -> -7863093532163047772 [id=\"2695006792991180376.args[0]\"]\n\t-7863093532163047772 [label=\"Abstraction.__call__\" id=8486722407058537054]\n\t-7863093532163047772 -> -279173692147741471 [id=\"8486722407058537054.args[0]\"]\n\t-279173692147741471 [label=\"Abstraction.__add__\" id=-279173692147741471]\n\t-279173692147741471 -> -7660677309244214554 [id=\"-279173692147741471.args[0]\"]\n\t-7660677309244214554 [label=\"Abstraction.from_fn\" id=-7660677309244214554]\n\t-7660677309244214554 -> 2939876135484546645 [id=\"-7660677309244214554.args[0]\"]\n\t2939876135484546645 [label=\"Maybe.just\" id=2939876135484546645]\n\t-279173692147741471 -> -8871729180521625528 [id=\"-279173692147741471.args[1]\"]\n\t-8871729180521625528 [label=\"Abstraction.create\" id=-8871729180521625528]\n\t-8871729180521625528 -> -3477876327207206289 [id=\"-8871729180521625528.args[0]\"]\n\t-3477876327207206289 [label=\"Abstraction.create_variable\" id=-3477876327207206289]\n\t-3477876327207206289 -> 782204666144374570 [id=\"-3477876327207206289.args[0]\"]\n\t782204666144374570 [label=\"Variable(4532781744)\" id=782204666144374570]\n\t-8871729180521625528 -> -5693918354505073214 [id=\"-8871729180521625528.args[1]\"]\n\t-5693918354505073214 [label=\"Either.left\" id=-5693918354505073214]\n\t-5693918354505073214 -> -3477876327207206289 [id=\"-5693918354505073214.args[0]\"]\n\t-7863093532163047772 -> -1448899694609174123 [id=\"8486722407058537054.args[1]\"]\n\t-1448899694609174123 [label=\"Integer.from_int\" id=-1448899694609174123]\n\t-1448899694609174123 -> 7929563447330875300 [id=\"-1448899694609174123.args[0]\"]\n\t7929563447330875300 [label=5 id=8368899336284295099]\n\t-1677132938923416940 -> -6274474774942059959 [id=\"2695006792991180376.args[1]\"]\n\t-6274474774942059959 [label=\"Maybe.match\" id=2901486184407898514]\n\t-6274474774942059959 -> 7195713575237942534 [id=\"2901486184407898514.args[0]\"]\n\t7195713575237942534 [label=\"Converter.convert\" id=7195713575237942534]\n\t7195713575237942534 -> 7929563447330875300 [id=\"7195713575237942534.args[0]\"]\n\t-6274474774942059959 -> -754019181540390696 [id=\"2901486184407898514.args[1]\"]\n\t-754019181540390696 [label=\"Maybe.nothing\" id=-754019181540390696]\n\t-6274474774942059959 -> -5767205988462710480 [id=\"2901486184407898514.args[2]\"]\n\t-5767205988462710480 [label=\"Abstraction.__add__\" id=-5767205988462710480]\n\t-5767205988462710480 -> -7660677309244214554 [id=\"-5767205988462710480.args[0]\"]\n\t-5767205988462710480 -> 6137053630892031812 [id=\"-5767205988462710480.args[1]\"]\n\t6137053630892031812 [label=\"Abstraction.create\" id=6137053630892031812]\n\t6137053630892031812 -> 7595844918048910182 [id=\"6137053630892031812.args[0]\"]\n\t7595844918048910182 [label=\"Abstraction.create_variable\" id=7595844918048910182]\n\t7595844918048910182 -> 782204653931327520 [id=\"7595844918048910182.args[0]\"]\n\t782204653931327520 [label=\"Variable(4532700048)\" id=782204653931327520]\n\t6137053630892031812 -> -3874205195205355599 [id=\"6137053630892031812.args[1]\"]\n\t-3874205195205355599 [label=\"Either.right\" id=-3874205195205355599]\n\t-3874205195205355599 -> 7595844918048910182 [id=\"-3874205195205355599.args[0]\"]\n\t2322691605591635317 -> 3904670649235592956 [id=\"4035649169692160937.args[1]\"]\n\t2322691605591635317 -> -7929933669310959521 [id=\"4035649169692160937.args[2]\"]\n\t-7929933669310959521 [label=\"Abstraction.__add__\" id=-7929933669310959521]\n\t-7929933669310959521 -> -7293254293253925776 [id=\"-7929933669310959521.args[0]\"]\n\t-7929933669310959521 -> -6872534957557579885 [id=\"-7929933669310959521.args[1]\"]\n\t-6872534957557579885 [label=\"Abstraction.create\" id=-6872534957557579885]\n\t-6872534957557579885 -> -4515816141679379126 [id=\"-6872534957557579885.args[0]\"]\n\t-4515816141679379126 [label=\"Abstraction.create_variable\" id=-4515816141679379126]\n\t-4515816141679379126 -> -8441167332832851488 [id=\"-4515816141679379126.args[0]\"]\n\t-8441167332832851488 [label=\"Variable(4532424600)\" id=-8441167332832851488]\n\t-6872534957557579885 -> -3244667734406134969 [id=\"-6872534957557579885.args[1]\"]\n\t-3244667734406134969 [label=\"NDArray.__getitem__\" id=-3244667734406134969]\n\t-3244667734406134969 -> -7971745150971623974 [id=\"-3244667734406134969.args[0]\"]\n\t-7971745150971623974 [label=\"Pair.left\" id=-7971745150971623974]\n\t-7971745150971623974 -> -4515816141679379126 [id=\"-7971745150971623974.args[0]\"]\n\t-3244667734406134969 -> 6641299432733888386 [id=\"-3244667734406134969.args[1]\"]\n\t6641299432733888386 [label=\"Pair.right\" id=6641299432733888386]\n\t6641299432733888386 -> -4515816141679379126 [id=\"6641299432733888386.args[0]\"]\n}",
         "label": null,
         "rule": "metadsl_core.maybe.Maybe.map"
        },
        {
         "graph": "digraph {\n\tnode [shape=plain]\n\tedge [arrowsize=0.5 penwidth=0.5]\n\t-8887125472162681221 [label=\"NDArrayCompat.to_ndarray\" id=-5281961658848897139]\n\t-8887125472162681221 -> -7246996004018175797 [id=\"-5281961658848897139.args[0]\"]\n\t-7246996004018175797 [label=\"NDArrayCompat.from_ndarray\" id=-9177130969686516551]\n\t-7246996004018175797 -> -5510346358208569941 [id=\"-9177130969686516551.args[0]\"]\n\t-5510346358208569941 [label=\"Maybe.match\" id=4035649169692160937]\n\t-5510346358208569941 -> -1511046752529135579 [id=\"4035649169692160937.args[0]\"]\n\t-1511046752529135579 [label=\"Maybe.__and__\" id=8502660837632541408]\n\t-1511046752529135579 -> 1645808693577477251 [id=\"8502660837632541408.args[0]\"]\n\t1645808693577477251 [label=\"Converter.convert\" id=-4657327696202073921]\n\t1645808693577477251 -> 2609767178489679320 [id=\"-4657327696202073921.args[0]\"]\n\t2609767178489679320 [label=\"NDArrayCompat.__add__\" id=-4264090195847481250]\n\t2609767178489679320 -> 132669007182046688 [id=\"-4264090195847481250.args[0]\"]\n\t132669007182046688 [label=\"NDArrayCompat.from_ndarray\" id=132669007182046688]\n\t132669007182046688 -> -1697382596041886450 [id=\"132669007182046688.args[0]\"]\n\t-1697382596041886450 [label=\"Maybe.match\" id=-1697382596041886450]\n\t-1697382596041886450 -> -8442994137960948810 [id=\"-1697382596041886450.args[0]\"]\n\t-8442994137960948810 [label=\"Maybe.just\" id=-8442994137960948810]\n\t-8442994137960948810 -> -3131809300698277100 [id=\"-8442994137960948810.args[0]\"]\n\t-3131809300698277100 [label=\"Integer.from_int\" id=-3131809300698277100]\n\t-3131809300698277100 -> 7929563447225870375 [id=\"-3131809300698277100.args[0]\"]\n\t7929563447225870375 [label=100 id=6695801540915528909]\n\t-1697382596041886450 -> 3904670649235592956 [id=\"-1697382596041886450.args[1]\"]\n\t3904670649235592956 [label=\"Maybe.nothing\" id=3904670649235592956]\n\t-1697382596041886450 -> -1662407830212765793 [id=\"-1697382596041886450.args[2]\"]\n\t-1662407830212765793 [label=\"Abstraction.__add__\" id=-1662407830212765793]\n\t-1662407830212765793 -> -7293254293253925776 [id=\"-1662407830212765793.args[0]\"]\n\t-7293254293253925776 [label=\"Abstraction.from_fn\" id=-7293254293253925776]\n\t-7293254293253925776 -> -4094591097972136167 [id=\"-7293254293253925776.args[0]\"]\n\t-4094591097972136167 [label=\"Maybe.just\" id=-4094591097972136167]\n\t-1662407830212765793 -> 1585156807716819921 [id=\"-1662407830212765793.args[1]\"]\n\t1585156807716819921 [label=\"Abstraction.create\" id=1585156807716819921]\n\t1585156807716819921 -> 5602477112898136929 [id=\"1585156807716819921.args[0]\"]\n\t5602477112898136929 [label=\"Abstraction.create_variable\" id=5602477112898136929]\n\t5602477112898136929 -> -8441167338211918213 [id=\"5602477112898136929.args[0]\"]\n\t-8441167338211918213 [label=\"Variable(4532312328)\" id=-8441167338211918213]\n\t1585156807716819921 -> -36014167958209776 [id=\"1585156807716819921.args[1]\"]\n\t-36014167958209776 [label=arange_ id=-36014167958209776]\n\t-36014167958209776 -> 5602477112898136929 [id=\"-36014167958209776.args[0]\"]\n\t2609767178489679320 -> 132669007182046688 [id=\"-4264090195847481250.args[1]\"]\n\t-1511046752529135579 -> -1677132938923416940 [id=\"8502660837632541408.args[1]\"]\n\t-1677132938923416940 [label=\"Maybe.__or__\" id=2695006792991180376]\n\t-1677132938923416940 -> -7863093532163047772 [id=\"2695006792991180376.args[0]\"]\n\t-7863093532163047772 [label=\"Abstraction.__call__\" id=8486722407058537054]\n\t-7863093532163047772 -> -279173692147741471 [id=\"8486722407058537054.args[0]\"]\n\t-279173692147741471 [label=\"Abstraction.__add__\" id=-279173692147741471]\n\t-279173692147741471 -> -7660677309244214554 [id=\"-279173692147741471.args[0]\"]\n\t-7660677309244214554 [label=\"Abstraction.from_fn\" id=-7660677309244214554]\n\t-7660677309244214554 -> 2939876135484546645 [id=\"-7660677309244214554.args[0]\"]\n\t2939876135484546645 [label=\"Maybe.just\" id=2939876135484546645]\n\t-279173692147741471 -> -8871729180521625528 [id=\"-279173692147741471.args[1]\"]\n\t-8871729180521625528 [label=\"Abstraction.create\" id=-8871729180521625528]\n\t-8871729180521625528 -> -3477876327207206289 [id=\"-8871729180521625528.args[0]\"]\n\t-3477876327207206289 [label=\"Abstraction.create_variable\" id=-3477876327207206289]\n\t-3477876327207206289 -> 782204666144374570 [id=\"-3477876327207206289.args[0]\"]\n\t782204666144374570 [label=\"Variable(4532781744)\" id=782204666144374570]\n\t-8871729180521625528 -> -5693918354505073214 [id=\"-8871729180521625528.args[1]\"]\n\t-5693918354505073214 [label=\"Either.left\" id=-5693918354505073214]\n\t-5693918354505073214 -> -3477876327207206289 [id=\"-5693918354505073214.args[0]\"]\n\t-7863093532163047772 -> -1448899694609174123 [id=\"8486722407058537054.args[1]\"]\n\t-1448899694609174123 [label=\"Integer.from_int\" id=-1448899694609174123]\n\t-1448899694609174123 -> 7929563447330875300 [id=\"-1448899694609174123.args[0]\"]\n\t7929563447330875300 [label=5 id=8368899336284295099]\n\t-1677132938923416940 -> -6274474774942059959 [id=\"2695006792991180376.args[1]\"]\n\t-6274474774942059959 [label=\"Maybe.match\" id=2901486184407898514]\n\t-6274474774942059959 -> 7195713575237942534 [id=\"2901486184407898514.args[0]\"]\n\t7195713575237942534 [label=\"Converter.convert\" id=7195713575237942534]\n\t7195713575237942534 -> 7929563447330875300 [id=\"7195713575237942534.args[0]\"]\n\t-6274474774942059959 -> -754019181540390696 [id=\"2901486184407898514.args[1]\"]\n\t-754019181540390696 [label=\"Maybe.nothing\" id=-754019181540390696]\n\t-6274474774942059959 -> -5767205988462710480 [id=\"2901486184407898514.args[2]\"]\n\t-5767205988462710480 [label=\"Abstraction.__add__\" id=-5767205988462710480]\n\t-5767205988462710480 -> -7660677309244214554 [id=\"-5767205988462710480.args[0]\"]\n\t-5767205988462710480 -> 6137053630892031812 [id=\"-5767205988462710480.args[1]\"]\n\t6137053630892031812 [label=\"Abstraction.create\" id=6137053630892031812]\n\t6137053630892031812 -> 7595844918048910182 [id=\"6137053630892031812.args[0]\"]\n\t7595844918048910182 [label=\"Abstraction.create_variable\" id=7595844918048910182]\n\t7595844918048910182 -> 782204653931327520 [id=\"7595844918048910182.args[0]\"]\n\t782204653931327520 [label=\"Variable(4532700048)\" id=782204653931327520]\n\t6137053630892031812 -> -3874205195205355599 [id=\"6137053630892031812.args[1]\"]\n\t-3874205195205355599 [label=\"Either.right\" id=-3874205195205355599]\n\t-3874205195205355599 -> 7595844918048910182 [id=\"-3874205195205355599.args[0]\"]\n\t-5510346358208569941 -> 3904670649235592956 [id=\"4035649169692160937.args[1]\"]\n\t-5510346358208569941 -> -7929933669310959521 [id=\"4035649169692160937.args[2]\"]\n\t-7929933669310959521 [label=\"Abstraction.__add__\" id=-7929933669310959521]\n\t-7929933669310959521 -> -7293254293253925776 [id=\"-7929933669310959521.args[0]\"]\n\t-7929933669310959521 -> -6872534957557579885 [id=\"-7929933669310959521.args[1]\"]\n\t-6872534957557579885 [label=\"Abstraction.create\" id=-6872534957557579885]\n\t-6872534957557579885 -> -4515816141679379126 [id=\"-6872534957557579885.args[0]\"]\n\t-4515816141679379126 [label=\"Abstraction.create_variable\" id=-4515816141679379126]\n\t-4515816141679379126 -> -8441167332832851488 [id=\"-4515816141679379126.args[0]\"]\n\t-8441167332832851488 [label=\"Variable(4532424600)\" id=-8441167332832851488]\n\t-6872534957557579885 -> -3244667734406134969 [id=\"-6872534957557579885.args[1]\"]\n\t-3244667734406134969 [label=\"NDArray.__getitem__\" id=-3244667734406134969]\n\t-3244667734406134969 -> -7971745150971623974 [id=\"-3244667734406134969.args[0]\"]\n\t-7971745150971623974 [label=\"Pair.left\" id=-7971745150971623974]\n\t-7971745150971623974 -> -4515816141679379126 [id=\"-7971745150971623974.args[0]\"]\n\t-3244667734406134969 -> 6641299432733888386 [id=\"-3244667734406134969.args[1]\"]\n\t6641299432733888386 [label=\"Pair.right\" id=6641299432733888386]\n\t6641299432733888386 -> -4515816141679379126 [id=\"6641299432733888386.args[0]\"]\n}",
         "label": null,
         "rule": "metadsl_core.maybe.Maybe.map"
        },
        {
         "graph": "digraph {\n\tnode [shape=plain]\n\tedge [arrowsize=0.5 penwidth=0.5]\n\t-2549737338481120339 [label=\"NDArrayCompat.to_ndarray\" id=-5281961658848897139]\n\t-2549737338481120339 -> 5153155067992430676 [id=\"-5281961658848897139.args[0]\"]\n\t5153155067992430676 [label=\"NDArrayCompat.from_ndarray\" id=-9177130969686516551]\n\t5153155067992430676 -> -7128362217130124307 [id=\"-9177130969686516551.args[0]\"]\n\t-7128362217130124307 [label=\"Maybe.match\" id=4035649169692160937]\n\t-7128362217130124307 -> -9032728719831084162 [id=\"4035649169692160937.args[0]\"]\n\t-9032728719831084162 [label=\"Maybe.__and__\" id=8502660837632541408]\n\t-9032728719831084162 -> 4919796284216390214 [id=\"8502660837632541408.args[0]\"]\n\t4919796284216390214 [label=\"Converter.convert\" id=-4657327696202073921]\n\t4919796284216390214 -> -1273181020905429240 [id=\"-4657327696202073921.args[0]\"]\n\t-1273181020905429240 [label=\"NDArrayCompat.__add__\" id=-4264090195847481250]\n\t-1273181020905429240 -> 5957420681722204814 [id=\"-4264090195847481250.args[0]\"]\n\t5957420681722204814 [label=\"NDArrayCompat.from_ndarray\" id=5957420681722204814]\n\t5957420681722204814 -> 1939674178738103160 [id=\"5957420681722204814.args[0]\"]\n\t1939674178738103160 [label=\"Abstraction.__call__\" id=1939674178738103160]\n\t1939674178738103160 -> -1662407830212765793 [id=\"1939674178738103160.args[0]\"]\n\t-1662407830212765793 [label=\"Abstraction.__add__\" id=-1662407830212765793]\n\t-1662407830212765793 -> -7293254293253925776 [id=\"-1662407830212765793.args[0]\"]\n\t-7293254293253925776 [label=\"Abstraction.from_fn\" id=-7293254293253925776]\n\t-7293254293253925776 -> -4094591097972136167 [id=\"-7293254293253925776.args[0]\"]\n\t-4094591097972136167 [label=\"Maybe.just\" id=-4094591097972136167]\n\t-1662407830212765793 -> 1585156807716819921 [id=\"-1662407830212765793.args[1]\"]\n\t1585156807716819921 [label=\"Abstraction.create\" id=1585156807716819921]\n\t1585156807716819921 -> 5602477112898136929 [id=\"1585156807716819921.args[0]\"]\n\t5602477112898136929 [label=\"Abstraction.create_variable\" id=5602477112898136929]\n\t5602477112898136929 -> -8441167338211918213 [id=\"5602477112898136929.args[0]\"]\n\t-8441167338211918213 [label=\"Variable(4532312328)\" id=-8441167338211918213]\n\t1585156807716819921 -> -36014167958209776 [id=\"1585156807716819921.args[1]\"]\n\t-36014167958209776 [label=arange_ id=-36014167958209776]\n\t-36014167958209776 -> 5602477112898136929 [id=\"-36014167958209776.args[0]\"]\n\t1939674178738103160 -> -3131809300698277100 [id=\"1939674178738103160.args[1]\"]\n\t-3131809300698277100 [label=\"Integer.from_int\" id=-3131809300698277100]\n\t-3131809300698277100 -> 7929563447225870375 [id=\"-3131809300698277100.args[0]\"]\n\t7929563447225870375 [label=100 id=6695801540915528909]\n\t-1273181020905429240 -> 132669007182046688 [id=\"-4264090195847481250.args[1]\"]\n\t132669007182046688 [label=\"NDArrayCompat.from_ndarray\" id=132669007182046688]\n\t132669007182046688 -> -1697382596041886450 [id=\"132669007182046688.args[0]\"]\n\t-1697382596041886450 [label=\"Maybe.match\" id=-1697382596041886450]\n\t-1697382596041886450 -> -8442994137960948810 [id=\"-1697382596041886450.args[0]\"]\n\t-8442994137960948810 [label=\"Maybe.just\" id=-8442994137960948810]\n\t-8442994137960948810 -> -3131809300698277100 [id=\"-8442994137960948810.args[0]\"]\n\t-1697382596041886450 -> 3904670649235592956 [id=\"-1697382596041886450.args[1]\"]\n\t3904670649235592956 [label=\"Maybe.nothing\" id=3904670649235592956]\n\t-1697382596041886450 -> -1662407830212765793 [id=\"-1697382596041886450.args[2]\"]\n\t-9032728719831084162 -> -1677132938923416940 [id=\"8502660837632541408.args[1]\"]\n\t-1677132938923416940 [label=\"Maybe.__or__\" id=2695006792991180376]\n\t-1677132938923416940 -> -7863093532163047772 [id=\"2695006792991180376.args[0]\"]\n\t-7863093532163047772 [label=\"Abstraction.__call__\" id=8486722407058537054]\n\t-7863093532163047772 -> -279173692147741471 [id=\"8486722407058537054.args[0]\"]\n\t-279173692147741471 [label=\"Abstraction.__add__\" id=-279173692147741471]\n\t-279173692147741471 -> -7660677309244214554 [id=\"-279173692147741471.args[0]\"]\n\t-7660677309244214554 [label=\"Abstraction.from_fn\" id=-7660677309244214554]\n\t-7660677309244214554 -> 2939876135484546645 [id=\"-7660677309244214554.args[0]\"]\n\t2939876135484546645 [label=\"Maybe.just\" id=2939876135484546645]\n\t-279173692147741471 -> -8871729180521625528 [id=\"-279173692147741471.args[1]\"]\n\t-8871729180521625528 [label=\"Abstraction.create\" id=-8871729180521625528]\n\t-8871729180521625528 -> -3477876327207206289 [id=\"-8871729180521625528.args[0]\"]\n\t-3477876327207206289 [label=\"Abstraction.create_variable\" id=-3477876327207206289]\n\t-3477876327207206289 -> 782204666144374570 [id=\"-3477876327207206289.args[0]\"]\n\t782204666144374570 [label=\"Variable(4532781744)\" id=782204666144374570]\n\t-8871729180521625528 -> -5693918354505073214 [id=\"-8871729180521625528.args[1]\"]\n\t-5693918354505073214 [label=\"Either.left\" id=-5693918354505073214]\n\t-5693918354505073214 -> -3477876327207206289 [id=\"-5693918354505073214.args[0]\"]\n\t-7863093532163047772 -> -1448899694609174123 [id=\"8486722407058537054.args[1]\"]\n\t-1448899694609174123 [label=\"Integer.from_int\" id=-1448899694609174123]\n\t-1448899694609174123 -> 7929563447330875300 [id=\"-1448899694609174123.args[0]\"]\n\t7929563447330875300 [label=5 id=8368899336284295099]\n\t-1677132938923416940 -> -6274474774942059959 [id=\"2695006792991180376.args[1]\"]\n\t-6274474774942059959 [label=\"Maybe.match\" id=2901486184407898514]\n\t-6274474774942059959 -> 7195713575237942534 [id=\"2901486184407898514.args[0]\"]\n\t7195713575237942534 [label=\"Converter.convert\" id=7195713575237942534]\n\t7195713575237942534 -> 7929563447330875300 [id=\"7195713575237942534.args[0]\"]\n\t-6274474774942059959 -> -754019181540390696 [id=\"2901486184407898514.args[1]\"]\n\t-754019181540390696 [label=\"Maybe.nothing\" id=-754019181540390696]\n\t-6274474774942059959 -> -5767205988462710480 [id=\"2901486184407898514.args[2]\"]\n\t-5767205988462710480 [label=\"Abstraction.__add__\" id=-5767205988462710480]\n\t-5767205988462710480 -> -7660677309244214554 [id=\"-5767205988462710480.args[0]\"]\n\t-5767205988462710480 -> 6137053630892031812 [id=\"-5767205988462710480.args[1]\"]\n\t6137053630892031812 [label=\"Abstraction.create\" id=6137053630892031812]\n\t6137053630892031812 -> 7595844918048910182 [id=\"6137053630892031812.args[0]\"]\n\t7595844918048910182 [label=\"Abstraction.create_variable\" id=7595844918048910182]\n\t7595844918048910182 -> 782204653931327520 [id=\"7595844918048910182.args[0]\"]\n\t782204653931327520 [label=\"Variable(4532700048)\" id=782204653931327520]\n\t6137053630892031812 -> -3874205195205355599 [id=\"6137053630892031812.args[1]\"]\n\t-3874205195205355599 [label=\"Either.right\" id=-3874205195205355599]\n\t-3874205195205355599 -> 7595844918048910182 [id=\"-3874205195205355599.args[0]\"]\n\t-7128362217130124307 -> 3904670649235592956 [id=\"4035649169692160937.args[1]\"]\n\t-7128362217130124307 -> -7929933669310959521 [id=\"4035649169692160937.args[2]\"]\n\t-7929933669310959521 [label=\"Abstraction.__add__\" id=-7929933669310959521]\n\t-7929933669310959521 -> -7293254293253925776 [id=\"-7929933669310959521.args[0]\"]\n\t-7929933669310959521 -> -6872534957557579885 [id=\"-7929933669310959521.args[1]\"]\n\t-6872534957557579885 [label=\"Abstraction.create\" id=-6872534957557579885]\n\t-6872534957557579885 -> -4515816141679379126 [id=\"-6872534957557579885.args[0]\"]\n\t-4515816141679379126 [label=\"Abstraction.create_variable\" id=-4515816141679379126]\n\t-4515816141679379126 -> -8441167332832851488 [id=\"-4515816141679379126.args[0]\"]\n\t-8441167332832851488 [label=\"Variable(4532424600)\" id=-8441167332832851488]\n\t-6872534957557579885 -> -3244667734406134969 [id=\"-6872534957557579885.args[1]\"]\n\t-3244667734406134969 [label=\"NDArray.__getitem__\" id=-3244667734406134969]\n\t-3244667734406134969 -> -7971745150971623974 [id=\"-3244667734406134969.args[0]\"]\n\t-7971745150971623974 [label=\"Pair.left\" id=-7971745150971623974]\n\t-7971745150971623974 -> -4515816141679379126 [id=\"-7971745150971623974.args[0]\"]\n\t-3244667734406134969 -> 6641299432733888386 [id=\"-3244667734406134969.args[1]\"]\n\t6641299432733888386 [label=\"Pair.right\" id=6641299432733888386]\n\t6641299432733888386 -> -4515816141679379126 [id=\"6641299432733888386.args[0]\"]\n}",
         "label": null,
         "rule": "metadsl_core.maybe.maybe_match"
        },
        {
         "graph": "digraph {\n\tnode [shape=plain]\n\tedge [arrowsize=0.5 penwidth=0.5]\n\t4920957871297456837 [label=\"NDArrayCompat.to_ndarray\" id=-5281961658848897139]\n\t4920957871297456837 -> -1275005779964108530 [id=\"-5281961658848897139.args[0]\"]\n\t-1275005779964108530 [label=\"NDArrayCompat.from_ndarray\" id=-9177130969686516551]\n\t-1275005779964108530 -> 6003199730597830134 [id=\"-9177130969686516551.args[0]\"]\n\t6003199730597830134 [label=\"Maybe.match\" id=4035649169692160937]\n\t6003199730597830134 -> 8553718067708940707 [id=\"4035649169692160937.args[0]\"]\n\t8553718067708940707 [label=\"Maybe.__and__\" id=8502660837632541408]\n\t8553718067708940707 -> -3817005916255388074 [id=\"8502660837632541408.args[0]\"]\n\t-3817005916255388074 [label=\"Converter.convert\" id=-4657327696202073921]\n\t-3817005916255388074 -> -528276751697229608 [id=\"-4657327696202073921.args[0]\"]\n\t-528276751697229608 [label=\"NDArrayCompat.__add__\" id=-4264090195847481250]\n\t-528276751697229608 -> 5957420681722204814 [id=\"-4264090195847481250.args[0]\"]\n\t5957420681722204814 [label=\"NDArrayCompat.from_ndarray\" id=5957420681722204814]\n\t5957420681722204814 -> 1939674178738103160 [id=\"5957420681722204814.args[0]\"]\n\t1939674178738103160 [label=\"Abstraction.__call__\" id=1939674178738103160]\n\t1939674178738103160 -> -1662407830212765793 [id=\"1939674178738103160.args[0]\"]\n\t-1662407830212765793 [label=\"Abstraction.__add__\" id=-1662407830212765793]\n\t-1662407830212765793 -> -7293254293253925776 [id=\"-1662407830212765793.args[0]\"]\n\t-7293254293253925776 [label=\"Abstraction.from_fn\" id=-7293254293253925776]\n\t-7293254293253925776 -> -4094591097972136167 [id=\"-7293254293253925776.args[0]\"]\n\t-4094591097972136167 [label=\"Maybe.just\" id=-4094591097972136167]\n\t-1662407830212765793 -> 1585156807716819921 [id=\"-1662407830212765793.args[1]\"]\n\t1585156807716819921 [label=\"Abstraction.create\" id=1585156807716819921]\n\t1585156807716819921 -> 5602477112898136929 [id=\"1585156807716819921.args[0]\"]\n\t5602477112898136929 [label=\"Abstraction.create_variable\" id=5602477112898136929]\n\t5602477112898136929 -> -8441167338211918213 [id=\"5602477112898136929.args[0]\"]\n\t-8441167338211918213 [label=\"Variable(4532312328)\" id=-8441167338211918213]\n\t1585156807716819921 -> -36014167958209776 [id=\"1585156807716819921.args[1]\"]\n\t-36014167958209776 [label=arange_ id=-36014167958209776]\n\t-36014167958209776 -> 5602477112898136929 [id=\"-36014167958209776.args[0]\"]\n\t1939674178738103160 -> -3131809300698277100 [id=\"1939674178738103160.args[1]\"]\n\t-3131809300698277100 [label=\"Integer.from_int\" id=-3131809300698277100]\n\t-3131809300698277100 -> 7929563447225870375 [id=\"-3131809300698277100.args[0]\"]\n\t7929563447225870375 [label=100 id=6695801540915528909]\n\t-528276751697229608 -> 5957420681722204814 [id=\"-4264090195847481250.args[1]\"]\n\t8553718067708940707 -> -1677132938923416940 [id=\"8502660837632541408.args[1]\"]\n\t-1677132938923416940 [label=\"Maybe.__or__\" id=2695006792991180376]\n\t-1677132938923416940 -> -7863093532163047772 [id=\"2695006792991180376.args[0]\"]\n\t-7863093532163047772 [label=\"Abstraction.__call__\" id=8486722407058537054]\n\t-7863093532163047772 -> -279173692147741471 [id=\"8486722407058537054.args[0]\"]\n\t-279173692147741471 [label=\"Abstraction.__add__\" id=-279173692147741471]\n\t-279173692147741471 -> -7660677309244214554 [id=\"-279173692147741471.args[0]\"]\n\t-7660677309244214554 [label=\"Abstraction.from_fn\" id=-7660677309244214554]\n\t-7660677309244214554 -> 2939876135484546645 [id=\"-7660677309244214554.args[0]\"]\n\t2939876135484546645 [label=\"Maybe.just\" id=2939876135484546645]\n\t-279173692147741471 -> -8871729180521625528 [id=\"-279173692147741471.args[1]\"]\n\t-8871729180521625528 [label=\"Abstraction.create\" id=-8871729180521625528]\n\t-8871729180521625528 -> -3477876327207206289 [id=\"-8871729180521625528.args[0]\"]\n\t-3477876327207206289 [label=\"Abstraction.create_variable\" id=-3477876327207206289]\n\t-3477876327207206289 -> 782204666144374570 [id=\"-3477876327207206289.args[0]\"]\n\t782204666144374570 [label=\"Variable(4532781744)\" id=782204666144374570]\n\t-8871729180521625528 -> -5693918354505073214 [id=\"-8871729180521625528.args[1]\"]\n\t-5693918354505073214 [label=\"Either.left\" id=-5693918354505073214]\n\t-5693918354505073214 -> -3477876327207206289 [id=\"-5693918354505073214.args[0]\"]\n\t-7863093532163047772 -> -1448899694609174123 [id=\"8486722407058537054.args[1]\"]\n\t-1448899694609174123 [label=\"Integer.from_int\" id=-1448899694609174123]\n\t-1448899694609174123 -> 7929563447330875300 [id=\"-1448899694609174123.args[0]\"]\n\t7929563447330875300 [label=5 id=8368899336284295099]\n\t-1677132938923416940 -> -6274474774942059959 [id=\"2695006792991180376.args[1]\"]\n\t-6274474774942059959 [label=\"Maybe.match\" id=2901486184407898514]\n\t-6274474774942059959 -> 7195713575237942534 [id=\"2901486184407898514.args[0]\"]\n\t7195713575237942534 [label=\"Converter.convert\" id=7195713575237942534]\n\t7195713575237942534 -> 7929563447330875300 [id=\"7195713575237942534.args[0]\"]\n\t-6274474774942059959 -> -754019181540390696 [id=\"2901486184407898514.args[1]\"]\n\t-754019181540390696 [label=\"Maybe.nothing\" id=-754019181540390696]\n\t-6274474774942059959 -> -5767205988462710480 [id=\"2901486184407898514.args[2]\"]\n\t-5767205988462710480 [label=\"Abstraction.__add__\" id=-5767205988462710480]\n\t-5767205988462710480 -> -7660677309244214554 [id=\"-5767205988462710480.args[0]\"]\n\t-5767205988462710480 -> 6137053630892031812 [id=\"-5767205988462710480.args[1]\"]\n\t6137053630892031812 [label=\"Abstraction.create\" id=6137053630892031812]\n\t6137053630892031812 -> 7595844918048910182 [id=\"6137053630892031812.args[0]\"]\n\t7595844918048910182 [label=\"Abstraction.create_variable\" id=7595844918048910182]\n\t7595844918048910182 -> 782204653931327520 [id=\"7595844918048910182.args[0]\"]\n\t782204653931327520 [label=\"Variable(4532700048)\" id=782204653931327520]\n\t6137053630892031812 -> -3874205195205355599 [id=\"6137053630892031812.args[1]\"]\n\t-3874205195205355599 [label=\"Either.right\" id=-3874205195205355599]\n\t-3874205195205355599 -> 7595844918048910182 [id=\"-3874205195205355599.args[0]\"]\n\t6003199730597830134 -> 3904670649235592956 [id=\"4035649169692160937.args[1]\"]\n\t3904670649235592956 [label=\"Maybe.nothing\" id=3904670649235592956]\n\t6003199730597830134 -> -7929933669310959521 [id=\"4035649169692160937.args[2]\"]\n\t-7929933669310959521 [label=\"Abstraction.__add__\" id=-7929933669310959521]\n\t-7929933669310959521 -> -7293254293253925776 [id=\"-7929933669310959521.args[0]\"]\n\t-7929933669310959521 -> -6872534957557579885 [id=\"-7929933669310959521.args[1]\"]\n\t-6872534957557579885 [label=\"Abstraction.create\" id=-6872534957557579885]\n\t-6872534957557579885 -> -4515816141679379126 [id=\"-6872534957557579885.args[0]\"]\n\t-4515816141679379126 [label=\"Abstraction.create_variable\" id=-4515816141679379126]\n\t-4515816141679379126 -> -8441167332832851488 [id=\"-4515816141679379126.args[0]\"]\n\t-8441167332832851488 [label=\"Variable(4532424600)\" id=-8441167332832851488]\n\t-6872534957557579885 -> -3244667734406134969 [id=\"-6872534957557579885.args[1]\"]\n\t-3244667734406134969 [label=\"NDArray.__getitem__\" id=-3244667734406134969]\n\t-3244667734406134969 -> -7971745150971623974 [id=\"-3244667734406134969.args[0]\"]\n\t-7971745150971623974 [label=\"Pair.left\" id=-7971745150971623974]\n\t-7971745150971623974 -> -4515816141679379126 [id=\"-7971745150971623974.args[0]\"]\n\t-3244667734406134969 -> 6641299432733888386 [id=\"-3244667734406134969.args[1]\"]\n\t6641299432733888386 [label=\"Pair.right\" id=6641299432733888386]\n\t6641299432733888386 -> -4515816141679379126 [id=\"6641299432733888386.args[0]\"]\n}",
         "label": null,
         "rule": "metadsl_core.maybe.maybe_match"
        },
        {
         "graph": "digraph {\n\tnode [shape=plain]\n\tedge [arrowsize=0.5 penwidth=0.5]\n\t5152011804381047120 [label=\"NDArrayCompat.to_ndarray\" id=-5281961658848897139]\n\t5152011804381047120 -> -2187598542372021273 [id=\"-5281961658848897139.args[0]\"]\n\t-2187598542372021273 [label=\"NDArrayCompat.from_ndarray\" id=-9177130969686516551]\n\t-2187598542372021273 -> 1612270974676835373 [id=\"-9177130969686516551.args[0]\"]\n\t1612270974676835373 [label=\"Maybe.match\" id=4035649169692160937]\n\t1612270974676835373 -> 6005744672146614201 [id=\"4035649169692160937.args[0]\"]\n\t6005744672146614201 [label=\"Maybe.__and__\" id=8502660837632541408]\n\t6005744672146614201 -> -3817005916255388074 [id=\"8502660837632541408.args[0]\"]\n\t-3817005916255388074 [label=\"Converter.convert\" id=-4657327696202073921]\n\t-3817005916255388074 -> -528276751697229608 [id=\"-4657327696202073921.args[0]\"]\n\t-528276751697229608 [label=\"NDArrayCompat.__add__\" id=-4264090195847481250]\n\t-528276751697229608 -> 5957420681722204814 [id=\"-4264090195847481250.args[0]\"]\n\t5957420681722204814 [label=\"NDArrayCompat.from_ndarray\" id=5957420681722204814]\n\t5957420681722204814 -> 1939674178738103160 [id=\"5957420681722204814.args[0]\"]\n\t1939674178738103160 [label=\"Abstraction.__call__\" id=1939674178738103160]\n\t1939674178738103160 -> -1662407830212765793 [id=\"1939674178738103160.args[0]\"]\n\t-1662407830212765793 [label=\"Abstraction.__add__\" id=-1662407830212765793]\n\t-1662407830212765793 -> -7293254293253925776 [id=\"-1662407830212765793.args[0]\"]\n\t-7293254293253925776 [label=\"Abstraction.from_fn\" id=-7293254293253925776]\n\t-7293254293253925776 -> -4094591097972136167 [id=\"-7293254293253925776.args[0]\"]\n\t-4094591097972136167 [label=\"Maybe.just\" id=-4094591097972136167]\n\t-1662407830212765793 -> 1585156807716819921 [id=\"-1662407830212765793.args[1]\"]\n\t1585156807716819921 [label=\"Abstraction.create\" id=1585156807716819921]\n\t1585156807716819921 -> 5602477112898136929 [id=\"1585156807716819921.args[0]\"]\n\t5602477112898136929 [label=\"Abstraction.create_variable\" id=5602477112898136929]\n\t5602477112898136929 -> -8441167338211918213 [id=\"5602477112898136929.args[0]\"]\n\t-8441167338211918213 [label=\"Variable(4532312328)\" id=-8441167338211918213]\n\t1585156807716819921 -> -36014167958209776 [id=\"1585156807716819921.args[1]\"]\n\t-36014167958209776 [label=arange_ id=-36014167958209776]\n\t-36014167958209776 -> 5602477112898136929 [id=\"-36014167958209776.args[0]\"]\n\t1939674178738103160 -> -3131809300698277100 [id=\"1939674178738103160.args[1]\"]\n\t-3131809300698277100 [label=\"Integer.from_int\" id=-3131809300698277100]\n\t-3131809300698277100 -> 7929563447225870375 [id=\"-3131809300698277100.args[0]\"]\n\t7929563447225870375 [label=100 id=6695801540915528909]\n\t-528276751697229608 -> 5957420681722204814 [id=\"-4264090195847481250.args[1]\"]\n\t6005744672146614201 -> -3337978948669749593 [id=\"8502660837632541408.args[1]\"]\n\t-3337978948669749593 [label=\"Maybe.__or__\" id=2695006792991180376]\n\t-3337978948669749593 -> 5346454351036495004 [id=\"2695006792991180376.args[0]\"]\n\t5346454351036495004 [label=\"Abstraction.__call__\" id=8486722407058537054]\n\t5346454351036495004 -> -6686545371307024261 [id=\"8486722407058537054.args[0]\"]\n\t-6686545371307024261 [label=\"Abstraction.__add__\" id=-279173692147741471]\n\t-6686545371307024261 -> -2990722845636545594 [id=\"-279173692147741471.args[0]\"]\n\t-2990722845636545594 [label=\"Abstraction.create\" id=-7660677309244214554]\n\t-2990722845636545594 -> 2492526699005507642 [id=\"-7660677309244214554.args[0]\"]\n\t2492526699005507642 [label=\"Abstraction.create_variable\" id=2492526699005507642]\n\t2492526699005507642 -> 782204673390796920 [id=\"2492526699005507642.args[0]\"]\n\t782204673390796920 [label=\"Variable(4532872976)\" id=782204673390796920]\n\t-2990722845636545594 -> -4454967555415645571 [id=\"-7660677309244214554.args[1]\"]\n\t-4454967555415645571 [label=\"Maybe.just\" id=-4454967555415645571]\n\t-4454967555415645571 -> 2492526699005507642 [id=\"-4454967555415645571.args[0]\"]\n\t-6686545371307024261 -> -8871729180521625528 [id=\"-279173692147741471.args[1]\"]\n\t-8871729180521625528 [label=\"Abstraction.create\" id=-8871729180521625528]\n\t-8871729180521625528 -> -3477876327207206289 [id=\"-8871729180521625528.args[0]\"]\n\t-3477876327207206289 [label=\"Abstraction.create_variable\" id=-3477876327207206289]\n\t-3477876327207206289 -> 782204666144374570 [id=\"-3477876327207206289.args[0]\"]\n\t782204666144374570 [label=\"Variable(4532781744)\" id=782204666144374570]\n\t-8871729180521625528 -> -5693918354505073214 [id=\"-8871729180521625528.args[1]\"]\n\t-5693918354505073214 [label=\"Either.left\" id=-5693918354505073214]\n\t-5693918354505073214 -> -3477876327207206289 [id=\"-5693918354505073214.args[0]\"]\n\t5346454351036495004 -> -1448899694609174123 [id=\"8486722407058537054.args[1]\"]\n\t-1448899694609174123 [label=\"Integer.from_int\" id=-1448899694609174123]\n\t-1448899694609174123 -> 7929563447330875300 [id=\"-1448899694609174123.args[0]\"]\n\t7929563447330875300 [label=5 id=8368899336284295099]\n\t-3337978948669749593 -> -2627613708899276376 [id=\"2695006792991180376.args[1]\"]\n\t-2627613708899276376 [label=\"Maybe.match\" id=2901486184407898514]\n\t-2627613708899276376 -> 7195713575237942534 [id=\"2901486184407898514.args[0]\"]\n\t7195713575237942534 [label=\"Converter.convert\" id=7195713575237942534]\n\t7195713575237942534 -> 7929563447330875300 [id=\"7195713575237942534.args[0]\"]\n\t-2627613708899276376 -> -754019181540390696 [id=\"2901486184407898514.args[1]\"]\n\t-754019181540390696 [label=\"Maybe.nothing\" id=-754019181540390696]\n\t-2627613708899276376 -> 8248950071670219750 [id=\"2901486184407898514.args[2]\"]\n\t8248950071670219750 [label=\"Abstraction.__add__\" id=-5767205988462710480]\n\t8248950071670219750 -> -2990722845636545594 [id=\"-5767205988462710480.args[0]\"]\n\t8248950071670219750 -> 6137053630892031812 [id=\"-5767205988462710480.args[1]\"]\n\t6137053630892031812 [label=\"Abstraction.create\" id=6137053630892031812]\n\t6137053630892031812 -> 7595844918048910182 [id=\"6137053630892031812.args[0]\"]\n\t7595844918048910182 [label=\"Abstraction.create_variable\" id=7595844918048910182]\n\t7595844918048910182 -> 782204653931327520 [id=\"7595844918048910182.args[0]\"]\n\t782204653931327520 [label=\"Variable(4532700048)\" id=782204653931327520]\n\t6137053630892031812 -> -3874205195205355599 [id=\"6137053630892031812.args[1]\"]\n\t-3874205195205355599 [label=\"Either.right\" id=-3874205195205355599]\n\t-3874205195205355599 -> 7595844918048910182 [id=\"-3874205195205355599.args[0]\"]\n\t1612270974676835373 -> 3904670649235592956 [id=\"4035649169692160937.args[1]\"]\n\t3904670649235592956 [label=\"Maybe.nothing\" id=3904670649235592956]\n\t1612270974676835373 -> -7929933669310959521 [id=\"4035649169692160937.args[2]\"]\n\t-7929933669310959521 [label=\"Abstraction.__add__\" id=-7929933669310959521]\n\t-7929933669310959521 -> -7293254293253925776 [id=\"-7929933669310959521.args[0]\"]\n\t-7929933669310959521 -> -6872534957557579885 [id=\"-7929933669310959521.args[1]\"]\n\t-6872534957557579885 [label=\"Abstraction.create\" id=-6872534957557579885]\n\t-6872534957557579885 -> -4515816141679379126 [id=\"-6872534957557579885.args[0]\"]\n\t-4515816141679379126 [label=\"Abstraction.create_variable\" id=-4515816141679379126]\n\t-4515816141679379126 -> -8441167332832851488 [id=\"-4515816141679379126.args[0]\"]\n\t-8441167332832851488 [label=\"Variable(4532424600)\" id=-8441167332832851488]\n\t-6872534957557579885 -> -3244667734406134969 [id=\"-6872534957557579885.args[1]\"]\n\t-3244667734406134969 [label=\"NDArray.__getitem__\" id=-3244667734406134969]\n\t-3244667734406134969 -> -7971745150971623974 [id=\"-3244667734406134969.args[0]\"]\n\t-7971745150971623974 [label=\"Pair.left\" id=-7971745150971623974]\n\t-7971745150971623974 -> -4515816141679379126 [id=\"-7971745150971623974.args[0]\"]\n\t-3244667734406134969 -> 6641299432733888386 [id=\"-3244667734406134969.args[1]\"]\n\t6641299432733888386 [label=\"Pair.right\" id=6641299432733888386]\n\t6641299432733888386 -> -4515816141679379126 [id=\"6641299432733888386.args[0]\"]\n}",
         "label": null,
         "rule": "metadsl_core.abstraction.Abstraction.from_fn"
        },
        {
         "graph": "digraph {\n\tnode [shape=plain]\n\tedge [arrowsize=0.5 penwidth=0.5]\n\t-2548520950610565718 [label=\"NDArrayCompat.to_ndarray\" id=-5281961658848897139]\n\t-2548520950610565718 -> -8607043800215046248 [id=\"-5281961658848897139.args[0]\"]\n\t-8607043800215046248 [label=\"NDArrayCompat.from_ndarray\" id=-9177130969686516551]\n\t-8607043800215046248 -> -5798802809724824856 [id=\"-9177130969686516551.args[0]\"]\n\t-5798802809724824856 [label=\"Maybe.match\" id=4035649169692160937]\n\t-5798802809724824856 -> 4148594007068660519 [id=\"4035649169692160937.args[0]\"]\n\t4148594007068660519 [label=\"Maybe.__and__\" id=8502660837632541408]\n\t4148594007068660519 -> 2796822780643328266 [id=\"8502660837632541408.args[0]\"]\n\t2796822780643328266 [label=\"Converter.convert\" id=-4657327696202073921]\n\t2796822780643328266 -> -5803758837919934266 [id=\"-4657327696202073921.args[0]\"]\n\t-5803758837919934266 [label=\"NDArrayCompat.__add__\" id=-4264090195847481250]\n\t-5803758837919934266 -> 1182744138744153998 [id=\"-4264090195847481250.args[0]\"]\n\t1182744138744153998 [label=\"NDArrayCompat.from_ndarray\" id=-1625682492666313023]\n\t1182744138744153998 -> -4417325727130035079 [id=\"-1625682492666313023.args[0]\"]\n\t-4417325727130035079 [label=\"Abstraction.__call__\" id=-7714184177713562882]\n\t-4417325727130035079 -> -1038334610434623674 [id=\"-7714184177713562882.args[0]\"]\n\t-1038334610434623674 [label=\"Abstraction.__add__\" id=-1662407830212765793]\n\t-1038334610434623674 -> -2525517652145278719 [id=\"-1662407830212765793.args[0]\"]\n\t-2525517652145278719 [label=\"Abstraction.create\" id=-7293254293253925776]\n\t-2525517652145278719 -> -9011949978648459748 [id=\"-7293254293253925776.args[0]\"]\n\t-9011949978648459748 [label=\"Abstraction.create_variable\" id=-9011949978648459748]\n\t-9011949978648459748 -> 782204698780338270 [id=\"-9011949978648459748.args[0]\"]\n\t782204698780338270 [label=\"Variable(4532313840)\" id=782204698780338270]\n\t-2525517652145278719 -> -1044082949805659749 [id=\"-7293254293253925776.args[1]\"]\n\t-1044082949805659749 [label=\"Maybe.just\" id=-1044082949805659749]\n\t-1044082949805659749 -> -9011949978648459748 [id=\"-1044082949805659749.args[0]\"]\n\t-1038334610434623674 -> 1585156807716819921 [id=\"-1662407830212765793.args[1]\"]\n\t1585156807716819921 [label=\"Abstraction.create\" id=1585156807716819921]\n\t1585156807716819921 -> 5602477112898136929 [id=\"1585156807716819921.args[0]\"]\n\t5602477112898136929 [label=\"Abstraction.create_variable\" id=5602477112898136929]\n\t5602477112898136929 -> -8441167338211918213 [id=\"5602477112898136929.args[0]\"]\n\t-8441167338211918213 [label=\"Variable(4532312328)\" id=-8441167338211918213]\n\t1585156807716819921 -> -36014167958209776 [id=\"1585156807716819921.args[1]\"]\n\t-36014167958209776 [label=arange_ id=-36014167958209776]\n\t-36014167958209776 -> 5602477112898136929 [id=\"-36014167958209776.args[0]\"]\n\t-4417325727130035079 -> -3131809300698277100 [id=\"-7714184177713562882.args[1]\"]\n\t-3131809300698277100 [label=\"Integer.from_int\" id=-3131809300698277100]\n\t-3131809300698277100 -> 7929563447225870375 [id=\"-3131809300698277100.args[0]\"]\n\t7929563447225870375 [label=100 id=6695801540915528909]\n\t-5803758837919934266 -> 5957420681722204814 [id=\"-4264090195847481250.args[1]\"]\n\t5957420681722204814 [label=\"NDArrayCompat.from_ndarray\" id=5957420681722204814]\n\t5957420681722204814 -> 1939674178738103160 [id=\"5957420681722204814.args[0]\"]\n\t1939674178738103160 [label=\"Abstraction.__call__\" id=1939674178738103160]\n\t1939674178738103160 -> -1662407830212765793 [id=\"1939674178738103160.args[0]\"]\n\t-1662407830212765793 [label=\"Abstraction.__add__\" id=-1662407830212765793]\n\t-1662407830212765793 -> -7293254293253925776 [id=\"-1662407830212765793.args[0]\"]\n\t-7293254293253925776 [label=\"Abstraction.from_fn\" id=-7293254293253925776]\n\t-7293254293253925776 -> -4094591097972136167 [id=\"-7293254293253925776.args[0]\"]\n\t-4094591097972136167 [label=\"Maybe.just\" id=-4094591097972136167]\n\t-1662407830212765793 -> 1585156807716819921 [id=\"-1662407830212765793.args[1]\"]\n\t1939674178738103160 -> -3131809300698277100 [id=\"1939674178738103160.args[1]\"]\n\t4148594007068660519 -> -3337978948669749593 [id=\"8502660837632541408.args[1]\"]\n\t-3337978948669749593 [label=\"Maybe.__or__\" id=2695006792991180376]\n\t-3337978948669749593 -> 5346454351036495004 [id=\"2695006792991180376.args[0]\"]\n\t5346454351036495004 [label=\"Abstraction.__call__\" id=8486722407058537054]\n\t5346454351036495004 -> -6686545371307024261 [id=\"8486722407058537054.args[0]\"]\n\t-6686545371307024261 [label=\"Abstraction.__add__\" id=-279173692147741471]\n\t-6686545371307024261 -> -2990722845636545594 [id=\"-279173692147741471.args[0]\"]\n\t-2990722845636545594 [label=\"Abstraction.create\" id=-7660677309244214554]\n\t-2990722845636545594 -> 2492526699005507642 [id=\"-7660677309244214554.args[0]\"]\n\t2492526699005507642 [label=\"Abstraction.create_variable\" id=2492526699005507642]\n\t2492526699005507642 -> 782204673390796920 [id=\"2492526699005507642.args[0]\"]\n\t782204673390796920 [label=\"Variable(4532872976)\" id=782204673390796920]\n\t-2990722845636545594 -> -4454967555415645571 [id=\"-7660677309244214554.args[1]\"]\n\t-4454967555415645571 [label=\"Maybe.just\" id=-4454967555415645571]\n\t-4454967555415645571 -> 2492526699005507642 [id=\"-4454967555415645571.args[0]\"]\n\t-6686545371307024261 -> -8871729180521625528 [id=\"-279173692147741471.args[1]\"]\n\t-8871729180521625528 [label=\"Abstraction.create\" id=-8871729180521625528]\n\t-8871729180521625528 -> -3477876327207206289 [id=\"-8871729180521625528.args[0]\"]\n\t-3477876327207206289 [label=\"Abstraction.create_variable\" id=-3477876327207206289]\n\t-3477876327207206289 -> 782204666144374570 [id=\"-3477876327207206289.args[0]\"]\n\t782204666144374570 [label=\"Variable(4532781744)\" id=782204666144374570]\n\t-8871729180521625528 -> -5693918354505073214 [id=\"-8871729180521625528.args[1]\"]\n\t-5693918354505073214 [label=\"Either.left\" id=-5693918354505073214]\n\t-5693918354505073214 -> -3477876327207206289 [id=\"-5693918354505073214.args[0]\"]\n\t5346454351036495004 -> -1448899694609174123 [id=\"8486722407058537054.args[1]\"]\n\t-1448899694609174123 [label=\"Integer.from_int\" id=-1448899694609174123]\n\t-1448899694609174123 -> 7929563447330875300 [id=\"-1448899694609174123.args[0]\"]\n\t7929563447330875300 [label=5 id=8368899336284295099]\n\t-3337978948669749593 -> -2627613708899276376 [id=\"2695006792991180376.args[1]\"]\n\t-2627613708899276376 [label=\"Maybe.match\" id=2901486184407898514]\n\t-2627613708899276376 -> 7195713575237942534 [id=\"2901486184407898514.args[0]\"]\n\t7195713575237942534 [label=\"Converter.convert\" id=7195713575237942534]\n\t7195713575237942534 -> 7929563447330875300 [id=\"7195713575237942534.args[0]\"]\n\t-2627613708899276376 -> -754019181540390696 [id=\"2901486184407898514.args[1]\"]\n\t-754019181540390696 [label=\"Maybe.nothing\" id=-754019181540390696]\n\t-2627613708899276376 -> 8248950071670219750 [id=\"2901486184407898514.args[2]\"]\n\t8248950071670219750 [label=\"Abstraction.__add__\" id=-5767205988462710480]\n\t8248950071670219750 -> -2990722845636545594 [id=\"-5767205988462710480.args[0]\"]\n\t8248950071670219750 -> 6137053630892031812 [id=\"-5767205988462710480.args[1]\"]\n\t6137053630892031812 [label=\"Abstraction.create\" id=6137053630892031812]\n\t6137053630892031812 -> 7595844918048910182 [id=\"6137053630892031812.args[0]\"]\n\t7595844918048910182 [label=\"Abstraction.create_variable\" id=7595844918048910182]\n\t7595844918048910182 -> 782204653931327520 [id=\"7595844918048910182.args[0]\"]\n\t782204653931327520 [label=\"Variable(4532700048)\" id=782204653931327520]\n\t6137053630892031812 -> -3874205195205355599 [id=\"6137053630892031812.args[1]\"]\n\t-3874205195205355599 [label=\"Either.right\" id=-3874205195205355599]\n\t-3874205195205355599 -> 7595844918048910182 [id=\"-3874205195205355599.args[0]\"]\n\t-5798802809724824856 -> 3904670649235592956 [id=\"4035649169692160937.args[1]\"]\n\t3904670649235592956 [label=\"Maybe.nothing\" id=3904670649235592956]\n\t-5798802809724824856 -> 6914956826103742470 [id=\"4035649169692160937.args[2]\"]\n\t6914956826103742470 [label=\"Abstraction.__add__\" id=-7929933669310959521]\n\t6914956826103742470 -> -2525517652145278719 [id=\"-7929933669310959521.args[0]\"]\n\t6914956826103742470 -> -6872534957557579885 [id=\"-7929933669310959521.args[1]\"]\n\t-6872534957557579885 [label=\"Abstraction.create\" id=-6872534957557579885]\n\t-6872534957557579885 -> -4515816141679379126 [id=\"-6872534957557579885.args[0]\"]\n\t-4515816141679379126 [label=\"Abstraction.create_variable\" id=-4515816141679379126]\n\t-4515816141679379126 -> -8441167332832851488 [id=\"-4515816141679379126.args[0]\"]\n\t-8441167332832851488 [label=\"Variable(4532424600)\" id=-8441167332832851488]\n\t-6872534957557579885 -> -3244667734406134969 [id=\"-6872534957557579885.args[1]\"]\n\t-3244667734406134969 [label=\"NDArray.__getitem__\" id=-3244667734406134969]\n\t-3244667734406134969 -> -7971745150971623974 [id=\"-3244667734406134969.args[0]\"]\n\t-7971745150971623974 [label=\"Pair.left\" id=-7971745150971623974]\n\t-7971745150971623974 -> -4515816141679379126 [id=\"-7971745150971623974.args[0]\"]\n\t-3244667734406134969 -> 6641299432733888386 [id=\"-3244667734406134969.args[1]\"]\n\t6641299432733888386 [label=\"Pair.right\" id=6641299432733888386]\n\t6641299432733888386 -> -4515816141679379126 [id=\"6641299432733888386.args[0]\"]\n}",
         "label": null,
         "rule": "metadsl_core.abstraction.Abstraction.from_fn"
        },
        {
         "graph": "digraph {\n\tnode [shape=plain]\n\tedge [arrowsize=0.5 penwidth=0.5]\n\t1216816452931342751 [label=\"NDArrayCompat.to_ndarray\" id=-5281961658848897139]\n\t1216816452931342751 -> -3229636477889296835 [id=\"-5281961658848897139.args[0]\"]\n\t-3229636477889296835 [label=\"NDArrayCompat.from_ndarray\" id=-9177130969686516551]\n\t-3229636477889296835 -> -6567305610583307951 [id=\"-9177130969686516551.args[0]\"]\n\t-6567305610583307951 [label=\"Maybe.match\" id=4035649169692160937]\n\t-6567305610583307951 -> 8043623796329489448 [id=\"4035649169692160937.args[0]\"]\n\t8043623796329489448 [label=\"Maybe.__and__\" id=8502660837632541408]\n\t8043623796329489448 -> -4426976549251226415 [id=\"8502660837632541408.args[0]\"]\n\t-4426976549251226415 [label=\"Converter.convert\" id=-4657327696202073921]\n\t-4426976549251226415 -> 1062238987970653667 [id=\"-4657327696202073921.args[0]\"]\n\t1062238987970653667 [label=\"NDArrayCompat.__add__\" id=-4264090195847481250]\n\t1062238987970653667 -> 1182744138744153998 [id=\"-4264090195847481250.args[0]\"]\n\t1182744138744153998 [label=\"NDArrayCompat.from_ndarray\" id=-1625682492666313023]\n\t1182744138744153998 -> -4417325727130035079 [id=\"-1625682492666313023.args[0]\"]\n\t-4417325727130035079 [label=\"Abstraction.__call__\" id=-7714184177713562882]\n\t-4417325727130035079 -> -1038334610434623674 [id=\"-7714184177713562882.args[0]\"]\n\t-1038334610434623674 [label=\"Abstraction.__add__\" id=-1662407830212765793]\n\t-1038334610434623674 -> -2525517652145278719 [id=\"-1662407830212765793.args[0]\"]\n\t-2525517652145278719 [label=\"Abstraction.create\" id=-7293254293253925776]\n\t-2525517652145278719 -> -9011949978648459748 [id=\"-7293254293253925776.args[0]\"]\n\t-9011949978648459748 [label=\"Abstraction.create_variable\" id=-9011949978648459748]\n\t-9011949978648459748 -> 782204698780338270 [id=\"-9011949978648459748.args[0]\"]\n\t782204698780338270 [label=\"Variable(4532313840)\" id=782204698780338270]\n\t-2525517652145278719 -> -1044082949805659749 [id=\"-7293254293253925776.args[1]\"]\n\t-1044082949805659749 [label=\"Maybe.just\" id=-1044082949805659749]\n\t-1044082949805659749 -> -9011949978648459748 [id=\"-1044082949805659749.args[0]\"]\n\t-1038334610434623674 -> 1585156807716819921 [id=\"-1662407830212765793.args[1]\"]\n\t1585156807716819921 [label=\"Abstraction.create\" id=1585156807716819921]\n\t1585156807716819921 -> 5602477112898136929 [id=\"1585156807716819921.args[0]\"]\n\t5602477112898136929 [label=\"Abstraction.create_variable\" id=5602477112898136929]\n\t5602477112898136929 -> -8441167338211918213 [id=\"5602477112898136929.args[0]\"]\n\t-8441167338211918213 [label=\"Variable(4532312328)\" id=-8441167338211918213]\n\t1585156807716819921 -> -36014167958209776 [id=\"1585156807716819921.args[1]\"]\n\t-36014167958209776 [label=arange_ id=-36014167958209776]\n\t-36014167958209776 -> 5602477112898136929 [id=\"-36014167958209776.args[0]\"]\n\t-4417325727130035079 -> -3131809300698277100 [id=\"-7714184177713562882.args[1]\"]\n\t-3131809300698277100 [label=\"Integer.from_int\" id=-3131809300698277100]\n\t-3131809300698277100 -> 7929563447225870375 [id=\"-3131809300698277100.args[0]\"]\n\t7929563447225870375 [label=100 id=6695801540915528909]\n\t1062238987970653667 -> 6907139717285289081 [id=\"-4264090195847481250.args[1]\"]\n\t6907139717285289081 [label=\"NDArrayCompat.from_ndarray\" id=5957420681722204814]\n\t6907139717285289081 -> -3533169068582244492 [id=\"5957420681722204814.args[0]\"]\n\t-3533169068582244492 [label=\"Abstraction.__call__\" id=1939674178738103160]\n\t-3533169068582244492 -> -6796029686444343107 [id=\"1939674178738103160.args[0]\"]\n\t-6796029686444343107 [label=\"Abstraction.__add__\" id=-6796029686444343107]\n\t-6796029686444343107 -> 7093854142050087112 [id=\"-6796029686444343107.args[0]\"]\n\t7093854142050087112 [label=\"Abstraction.create\" id=7093854142050087112]\n\t7093854142050087112 -> 647269574557256950 [id=\"7093854142050087112.args[0]\"]\n\t647269574557256950 [label=\"Abstraction.create_variable\" id=647269574557256950]\n\t647269574557256950 -> -8441167386739348913 [id=\"647269574557256950.args[0]\"]\n\t-8441167386739348913 [label=\"Variable(4532692808)\" id=-8441167386739348913]\n\t7093854142050087112 -> 3683961343488085320 [id=\"7093854142050087112.args[1]\"]\n\t3683961343488085320 [label=\"Maybe.just\" id=3683961343488085320]\n\t3683961343488085320 -> 647269574557256950 [id=\"3683961343488085320.args[0]\"]\n\t-6796029686444343107 -> 1585156807716819921 [id=\"-6796029686444343107.args[1]\"]\n\t-3533169068582244492 -> -3131809300698277100 [id=\"1939674178738103160.args[1]\"]\n\t8043623796329489448 -> -3337978948669749593 [id=\"8502660837632541408.args[1]\"]\n\t-3337978948669749593 [label=\"Maybe.__or__\" id=2695006792991180376]\n\t-3337978948669749593 -> 5346454351036495004 [id=\"2695006792991180376.args[0]\"]\n\t5346454351036495004 [label=\"Abstraction.__call__\" id=8486722407058537054]\n\t5346454351036495004 -> -6686545371307024261 [id=\"8486722407058537054.args[0]\"]\n\t-6686545371307024261 [label=\"Abstraction.__add__\" id=-279173692147741471]\n\t-6686545371307024261 -> -2990722845636545594 [id=\"-279173692147741471.args[0]\"]\n\t-2990722845636545594 [label=\"Abstraction.create\" id=-7660677309244214554]\n\t-2990722845636545594 -> 2492526699005507642 [id=\"-7660677309244214554.args[0]\"]\n\t2492526699005507642 [label=\"Abstraction.create_variable\" id=2492526699005507642]\n\t2492526699005507642 -> 782204673390796920 [id=\"2492526699005507642.args[0]\"]\n\t782204673390796920 [label=\"Variable(4532872976)\" id=782204673390796920]\n\t-2990722845636545594 -> -4454967555415645571 [id=\"-7660677309244214554.args[1]\"]\n\t-4454967555415645571 [label=\"Maybe.just\" id=-4454967555415645571]\n\t-4454967555415645571 -> 2492526699005507642 [id=\"-4454967555415645571.args[0]\"]\n\t-6686545371307024261 -> -8871729180521625528 [id=\"-279173692147741471.args[1]\"]\n\t-8871729180521625528 [label=\"Abstraction.create\" id=-8871729180521625528]\n\t-8871729180521625528 -> -3477876327207206289 [id=\"-8871729180521625528.args[0]\"]\n\t-3477876327207206289 [label=\"Abstraction.create_variable\" id=-3477876327207206289]\n\t-3477876327207206289 -> 782204666144374570 [id=\"-3477876327207206289.args[0]\"]\n\t782204666144374570 [label=\"Variable(4532781744)\" id=782204666144374570]\n\t-8871729180521625528 -> -5693918354505073214 [id=\"-8871729180521625528.args[1]\"]\n\t-5693918354505073214 [label=\"Either.left\" id=-5693918354505073214]\n\t-5693918354505073214 -> -3477876327207206289 [id=\"-5693918354505073214.args[0]\"]\n\t5346454351036495004 -> -1448899694609174123 [id=\"8486722407058537054.args[1]\"]\n\t-1448899694609174123 [label=\"Integer.from_int\" id=-1448899694609174123]\n\t-1448899694609174123 -> 7929563447330875300 [id=\"-1448899694609174123.args[0]\"]\n\t7929563447330875300 [label=5 id=8368899336284295099]\n\t-3337978948669749593 -> -2627613708899276376 [id=\"2695006792991180376.args[1]\"]\n\t-2627613708899276376 [label=\"Maybe.match\" id=2901486184407898514]\n\t-2627613708899276376 -> 7195713575237942534 [id=\"2901486184407898514.args[0]\"]\n\t7195713575237942534 [label=\"Converter.convert\" id=7195713575237942534]\n\t7195713575237942534 -> 7929563447330875300 [id=\"7195713575237942534.args[0]\"]\n\t-2627613708899276376 -> -754019181540390696 [id=\"2901486184407898514.args[1]\"]\n\t-754019181540390696 [label=\"Maybe.nothing\" id=-754019181540390696]\n\t-2627613708899276376 -> 8248950071670219750 [id=\"2901486184407898514.args[2]\"]\n\t8248950071670219750 [label=\"Abstraction.__add__\" id=-5767205988462710480]\n\t8248950071670219750 -> -2990722845636545594 [id=\"-5767205988462710480.args[0]\"]\n\t8248950071670219750 -> 6137053630892031812 [id=\"-5767205988462710480.args[1]\"]\n\t6137053630892031812 [label=\"Abstraction.create\" id=6137053630892031812]\n\t6137053630892031812 -> 7595844918048910182 [id=\"6137053630892031812.args[0]\"]\n\t7595844918048910182 [label=\"Abstraction.create_variable\" id=7595844918048910182]\n\t7595844918048910182 -> 782204653931327520 [id=\"7595844918048910182.args[0]\"]\n\t782204653931327520 [label=\"Variable(4532700048)\" id=782204653931327520]\n\t6137053630892031812 -> -3874205195205355599 [id=\"6137053630892031812.args[1]\"]\n\t-3874205195205355599 [label=\"Either.right\" id=-3874205195205355599]\n\t-3874205195205355599 -> 7595844918048910182 [id=\"-3874205195205355599.args[0]\"]\n\t-6567305610583307951 -> 3904670649235592956 [id=\"4035649169692160937.args[1]\"]\n\t3904670649235592956 [label=\"Maybe.nothing\" id=3904670649235592956]\n\t-6567305610583307951 -> 6914956826103742470 [id=\"4035649169692160937.args[2]\"]\n\t6914956826103742470 [label=\"Abstraction.__add__\" id=-7929933669310959521]\n\t6914956826103742470 -> -2525517652145278719 [id=\"-7929933669310959521.args[0]\"]\n\t6914956826103742470 -> -6872534957557579885 [id=\"-7929933669310959521.args[1]\"]\n\t-6872534957557579885 [label=\"Abstraction.create\" id=-6872534957557579885]\n\t-6872534957557579885 -> -4515816141679379126 [id=\"-6872534957557579885.args[0]\"]\n\t-4515816141679379126 [label=\"Abstraction.create_variable\" id=-4515816141679379126]\n\t-4515816141679379126 -> -8441167332832851488 [id=\"-4515816141679379126.args[0]\"]\n\t-8441167332832851488 [label=\"Variable(4532424600)\" id=-8441167332832851488]\n\t-6872534957557579885 -> -3244667734406134969 [id=\"-6872534957557579885.args[1]\"]\n\t-3244667734406134969 [label=\"NDArray.__getitem__\" id=-3244667734406134969]\n\t-3244667734406134969 -> -7971745150971623974 [id=\"-3244667734406134969.args[0]\"]\n\t-7971745150971623974 [label=\"Pair.left\" id=-7971745150971623974]\n\t-7971745150971623974 -> -4515816141679379126 [id=\"-7971745150971623974.args[0]\"]\n\t-3244667734406134969 -> 6641299432733888386 [id=\"-3244667734406134969.args[1]\"]\n\t6641299432733888386 [label=\"Pair.right\" id=6641299432733888386]\n\t6641299432733888386 -> -4515816141679379126 [id=\"6641299432733888386.args[0]\"]\n}",
         "label": null,
         "rule": "metadsl_core.abstraction.Abstraction.from_fn"
        },
        {
         "graph": "digraph {\n\tnode [shape=plain]\n\tedge [arrowsize=0.5 penwidth=0.5]\n\t233197053466742600 [label=\"NDArrayCompat.to_ndarray\" id=-5281961658848897139]\n\t233197053466742600 -> -680558533147514369 [id=\"-5281961658848897139.args[0]\"]\n\t-680558533147514369 [label=\"NDArrayCompat.from_ndarray\" id=-9177130969686516551]\n\t-680558533147514369 -> -4135098398937554906 [id=\"-9177130969686516551.args[0]\"]\n\t-4135098398937554906 [label=\"Maybe.match\" id=4035649169692160937]\n\t-4135098398937554906 -> 8043623796329489448 [id=\"4035649169692160937.args[0]\"]\n\t8043623796329489448 [label=\"Maybe.__and__\" id=8502660837632541408]\n\t8043623796329489448 -> -4426976549251226415 [id=\"8502660837632541408.args[0]\"]\n\t-4426976549251226415 [label=\"Converter.convert\" id=-4657327696202073921]\n\t-4426976549251226415 -> 1062238987970653667 [id=\"-4657327696202073921.args[0]\"]\n\t1062238987970653667 [label=\"NDArrayCompat.__add__\" id=-4264090195847481250]\n\t1062238987970653667 -> 1182744138744153998 [id=\"-4264090195847481250.args[0]\"]\n\t1182744138744153998 [label=\"NDArrayCompat.from_ndarray\" id=-1625682492666313023]\n\t1182744138744153998 -> -4417325727130035079 [id=\"-1625682492666313023.args[0]\"]\n\t-4417325727130035079 [label=\"Abstraction.__call__\" id=-7714184177713562882]\n\t-4417325727130035079 -> -1038334610434623674 [id=\"-7714184177713562882.args[0]\"]\n\t-1038334610434623674 [label=\"Abstraction.__add__\" id=-1662407830212765793]\n\t-1038334610434623674 -> -2525517652145278719 [id=\"-1662407830212765793.args[0]\"]\n\t-2525517652145278719 [label=\"Abstraction.create\" id=-7293254293253925776]\n\t-2525517652145278719 -> -9011949978648459748 [id=\"-7293254293253925776.args[0]\"]\n\t-9011949978648459748 [label=\"Abstraction.create_variable\" id=-9011949978648459748]\n\t-9011949978648459748 -> 782204698780338270 [id=\"-9011949978648459748.args[0]\"]\n\t782204698780338270 [label=\"Variable(4532313840)\" id=782204698780338270]\n\t-2525517652145278719 -> -1044082949805659749 [id=\"-7293254293253925776.args[1]\"]\n\t-1044082949805659749 [label=\"Maybe.just\" id=-1044082949805659749]\n\t-1044082949805659749 -> -9011949978648459748 [id=\"-1044082949805659749.args[0]\"]\n\t-1038334610434623674 -> 1585156807716819921 [id=\"-1662407830212765793.args[1]\"]\n\t1585156807716819921 [label=\"Abstraction.create\" id=1585156807716819921]\n\t1585156807716819921 -> 5602477112898136929 [id=\"1585156807716819921.args[0]\"]\n\t5602477112898136929 [label=\"Abstraction.create_variable\" id=5602477112898136929]\n\t5602477112898136929 -> -8441167338211918213 [id=\"5602477112898136929.args[0]\"]\n\t-8441167338211918213 [label=\"Variable(4532312328)\" id=-8441167338211918213]\n\t1585156807716819921 -> -36014167958209776 [id=\"1585156807716819921.args[1]\"]\n\t-36014167958209776 [label=arange_ id=-36014167958209776]\n\t-36014167958209776 -> 5602477112898136929 [id=\"-36014167958209776.args[0]\"]\n\t-4417325727130035079 -> -3131809300698277100 [id=\"-7714184177713562882.args[1]\"]\n\t-3131809300698277100 [label=\"Integer.from_int\" id=-3131809300698277100]\n\t-3131809300698277100 -> 7929563447225870375 [id=\"-3131809300698277100.args[0]\"]\n\t7929563447225870375 [label=100 id=6695801540915528909]\n\t1062238987970653667 -> 6907139717285289081 [id=\"-4264090195847481250.args[1]\"]\n\t6907139717285289081 [label=\"NDArrayCompat.from_ndarray\" id=5957420681722204814]\n\t6907139717285289081 -> -3533169068582244492 [id=\"5957420681722204814.args[0]\"]\n\t-3533169068582244492 [label=\"Abstraction.__call__\" id=1939674178738103160]\n\t-3533169068582244492 -> -6796029686444343107 [id=\"1939674178738103160.args[0]\"]\n\t-6796029686444343107 [label=\"Abstraction.__add__\" id=-6796029686444343107]\n\t-6796029686444343107 -> 7093854142050087112 [id=\"-6796029686444343107.args[0]\"]\n\t7093854142050087112 [label=\"Abstraction.create\" id=7093854142050087112]\n\t7093854142050087112 -> 647269574557256950 [id=\"7093854142050087112.args[0]\"]\n\t647269574557256950 [label=\"Abstraction.create_variable\" id=647269574557256950]\n\t647269574557256950 -> -8441167386739348913 [id=\"647269574557256950.args[0]\"]\n\t-8441167386739348913 [label=\"Variable(4532692808)\" id=-8441167386739348913]\n\t7093854142050087112 -> 3683961343488085320 [id=\"7093854142050087112.args[1]\"]\n\t3683961343488085320 [label=\"Maybe.just\" id=3683961343488085320]\n\t3683961343488085320 -> 647269574557256950 [id=\"3683961343488085320.args[0]\"]\n\t-6796029686444343107 -> 1585156807716819921 [id=\"-6796029686444343107.args[1]\"]\n\t-3533169068582244492 -> -3131809300698277100 [id=\"1939674178738103160.args[1]\"]\n\t8043623796329489448 -> -3337978948669749593 [id=\"8502660837632541408.args[1]\"]\n\t-3337978948669749593 [label=\"Maybe.__or__\" id=2695006792991180376]\n\t-3337978948669749593 -> 5346454351036495004 [id=\"2695006792991180376.args[0]\"]\n\t5346454351036495004 [label=\"Abstraction.__call__\" id=8486722407058537054]\n\t5346454351036495004 -> -6686545371307024261 [id=\"8486722407058537054.args[0]\"]\n\t-6686545371307024261 [label=\"Abstraction.__add__\" id=-279173692147741471]\n\t-6686545371307024261 -> -2990722845636545594 [id=\"-279173692147741471.args[0]\"]\n\t-2990722845636545594 [label=\"Abstraction.create\" id=-7660677309244214554]\n\t-2990722845636545594 -> 2492526699005507642 [id=\"-7660677309244214554.args[0]\"]\n\t2492526699005507642 [label=\"Abstraction.create_variable\" id=2492526699005507642]\n\t2492526699005507642 -> 782204673390796920 [id=\"2492526699005507642.args[0]\"]\n\t782204673390796920 [label=\"Variable(4532872976)\" id=782204673390796920]\n\t-2990722845636545594 -> -4454967555415645571 [id=\"-7660677309244214554.args[1]\"]\n\t-4454967555415645571 [label=\"Maybe.just\" id=-4454967555415645571]\n\t-4454967555415645571 -> 2492526699005507642 [id=\"-4454967555415645571.args[0]\"]\n\t-6686545371307024261 -> -8871729180521625528 [id=\"-279173692147741471.args[1]\"]\n\t-8871729180521625528 [label=\"Abstraction.create\" id=-8871729180521625528]\n\t-8871729180521625528 -> -3477876327207206289 [id=\"-8871729180521625528.args[0]\"]\n\t-3477876327207206289 [label=\"Abstraction.create_variable\" id=-3477876327207206289]\n\t-3477876327207206289 -> 782204666144374570 [id=\"-3477876327207206289.args[0]\"]\n\t782204666144374570 [label=\"Variable(4532781744)\" id=782204666144374570]\n\t-8871729180521625528 -> -5693918354505073214 [id=\"-8871729180521625528.args[1]\"]\n\t-5693918354505073214 [label=\"Either.left\" id=-5693918354505073214]\n\t-5693918354505073214 -> -3477876327207206289 [id=\"-5693918354505073214.args[0]\"]\n\t5346454351036495004 -> -1448899694609174123 [id=\"8486722407058537054.args[1]\"]\n\t-1448899694609174123 [label=\"Integer.from_int\" id=-1448899694609174123]\n\t-1448899694609174123 -> 7929563447330875300 [id=\"-1448899694609174123.args[0]\"]\n\t7929563447330875300 [label=5 id=8368899336284295099]\n\t-3337978948669749593 -> -2627613708899276376 [id=\"2695006792991180376.args[1]\"]\n\t-2627613708899276376 [label=\"Maybe.match\" id=2901486184407898514]\n\t-2627613708899276376 -> 7195713575237942534 [id=\"2901486184407898514.args[0]\"]\n\t7195713575237942534 [label=\"Converter.convert\" id=7195713575237942534]\n\t7195713575237942534 -> 7929563447330875300 [id=\"7195713575237942534.args[0]\"]\n\t-2627613708899276376 -> -754019181540390696 [id=\"2901486184407898514.args[1]\"]\n\t-754019181540390696 [label=\"Maybe.nothing\" id=-754019181540390696]\n\t-2627613708899276376 -> 8248950071670219750 [id=\"2901486184407898514.args[2]\"]\n\t8248950071670219750 [label=\"Abstraction.__add__\" id=-5767205988462710480]\n\t8248950071670219750 -> -2990722845636545594 [id=\"-5767205988462710480.args[0]\"]\n\t8248950071670219750 -> 6137053630892031812 [id=\"-5767205988462710480.args[1]\"]\n\t6137053630892031812 [label=\"Abstraction.create\" id=6137053630892031812]\n\t6137053630892031812 -> 7595844918048910182 [id=\"6137053630892031812.args[0]\"]\n\t7595844918048910182 [label=\"Abstraction.create_variable\" id=7595844918048910182]\n\t7595844918048910182 -> 782204653931327520 [id=\"7595844918048910182.args[0]\"]\n\t782204653931327520 [label=\"Variable(4532700048)\" id=782204653931327520]\n\t6137053630892031812 -> -3874205195205355599 [id=\"6137053630892031812.args[1]\"]\n\t-3874205195205355599 [label=\"Either.right\" id=-3874205195205355599]\n\t-3874205195205355599 -> 7595844918048910182 [id=\"-3874205195205355599.args[0]\"]\n\t-4135098398937554906 -> 3904670649235592956 [id=\"4035649169692160937.args[1]\"]\n\t3904670649235592956 [label=\"Maybe.nothing\" id=3904670649235592956]\n\t-4135098398937554906 -> -3979005081292367894 [id=\"4035649169692160937.args[2]\"]\n\t-3979005081292367894 [label=\"Abstraction.create\" id=-3979005081292367894]\n\t-3979005081292367894 -> -4515816141679379126 [id=\"-3979005081292367894.args[0]\"]\n\t-4515816141679379126 [label=\"Abstraction.create_variable\" id=-4515816141679379126]\n\t-4515816141679379126 -> -8441167332832851488 [id=\"-4515816141679379126.args[0]\"]\n\t-8441167332832851488 [label=\"Variable(4532424600)\" id=-8441167332832851488]\n\t-3979005081292367894 -> -3738442817099480136 [id=\"-3979005081292367894.args[1]\"]\n\t-3738442817099480136 [label=\"Maybe.just\" id=-3738442817099480136]\n\t-3738442817099480136 -> -3244667734406134969 [id=\"-3738442817099480136.args[0]\"]\n\t-3244667734406134969 [label=\"NDArray.__getitem__\" id=-3244667734406134969]\n\t-3244667734406134969 -> -7971745150971623974 [id=\"-3244667734406134969.args[0]\"]\n\t-7971745150971623974 [label=\"Pair.left\" id=-7971745150971623974]\n\t-7971745150971623974 -> -4515816141679379126 [id=\"-7971745150971623974.args[0]\"]\n\t-3244667734406134969 -> 6641299432733888386 [id=\"-3244667734406134969.args[1]\"]\n\t6641299432733888386 [label=\"Pair.right\" id=6641299432733888386]\n\t6641299432733888386 -> -4515816141679379126 [id=\"6641299432733888386.args[0]\"]\n}",
         "label": null,
         "rule": "metadsl_core.abstraction.compose"
        },
        {
         "graph": "digraph {\n\tnode [shape=plain]\n\tedge [arrowsize=0.5 penwidth=0.5]\n\t2545441806645579178 [label=\"NDArrayCompat.to_ndarray\" id=-5281961658848897139]\n\t2545441806645579178 -> -8673198322027389032 [id=\"-5281961658848897139.args[0]\"]\n\t-8673198322027389032 [label=\"NDArrayCompat.from_ndarray\" id=-9177130969686516551]\n\t-8673198322027389032 -> 2020085580365109990 [id=\"-9177130969686516551.args[0]\"]\n\t2020085580365109990 [label=\"Maybe.match\" id=4035649169692160937]\n\t2020085580365109990 -> -3888203582443754260 [id=\"4035649169692160937.args[0]\"]\n\t-3888203582443754260 [label=\"Maybe.__and__\" id=8502660837632541408]\n\t-3888203582443754260 -> -4426976549251226415 [id=\"8502660837632541408.args[0]\"]\n\t-4426976549251226415 [label=\"Converter.convert\" id=-4657327696202073921]\n\t-4426976549251226415 -> 1062238987970653667 [id=\"-4657327696202073921.args[0]\"]\n\t1062238987970653667 [label=\"NDArrayCompat.__add__\" id=-4264090195847481250]\n\t1062238987970653667 -> 1182744138744153998 [id=\"-4264090195847481250.args[0]\"]\n\t1182744138744153998 [label=\"NDArrayCompat.from_ndarray\" id=-1625682492666313023]\n\t1182744138744153998 -> -4417325727130035079 [id=\"-1625682492666313023.args[0]\"]\n\t-4417325727130035079 [label=\"Abstraction.__call__\" id=-7714184177713562882]\n\t-4417325727130035079 -> -1038334610434623674 [id=\"-7714184177713562882.args[0]\"]\n\t-1038334610434623674 [label=\"Abstraction.__add__\" id=-1662407830212765793]\n\t-1038334610434623674 -> -2525517652145278719 [id=\"-1662407830212765793.args[0]\"]\n\t-2525517652145278719 [label=\"Abstraction.create\" id=-7293254293253925776]\n\t-2525517652145278719 -> -9011949978648459748 [id=\"-7293254293253925776.args[0]\"]\n\t-9011949978648459748 [label=\"Abstraction.create_variable\" id=-9011949978648459748]\n\t-9011949978648459748 -> 782204698780338270 [id=\"-9011949978648459748.args[0]\"]\n\t782204698780338270 [label=\"Variable(4532313840)\" id=782204698780338270]\n\t-2525517652145278719 -> -1044082949805659749 [id=\"-7293254293253925776.args[1]\"]\n\t-1044082949805659749 [label=\"Maybe.just\" id=-1044082949805659749]\n\t-1044082949805659749 -> -9011949978648459748 [id=\"-1044082949805659749.args[0]\"]\n\t-1038334610434623674 -> 1585156807716819921 [id=\"-1662407830212765793.args[1]\"]\n\t1585156807716819921 [label=\"Abstraction.create\" id=1585156807716819921]\n\t1585156807716819921 -> 5602477112898136929 [id=\"1585156807716819921.args[0]\"]\n\t5602477112898136929 [label=\"Abstraction.create_variable\" id=5602477112898136929]\n\t5602477112898136929 -> -8441167338211918213 [id=\"5602477112898136929.args[0]\"]\n\t-8441167338211918213 [label=\"Variable(4532312328)\" id=-8441167338211918213]\n\t1585156807716819921 -> -36014167958209776 [id=\"1585156807716819921.args[1]\"]\n\t-36014167958209776 [label=arange_ id=-36014167958209776]\n\t-36014167958209776 -> 5602477112898136929 [id=\"-36014167958209776.args[0]\"]\n\t-4417325727130035079 -> -3131809300698277100 [id=\"-7714184177713562882.args[1]\"]\n\t-3131809300698277100 [label=\"Integer.from_int\" id=-3131809300698277100]\n\t-3131809300698277100 -> 7929563447225870375 [id=\"-3131809300698277100.args[0]\"]\n\t7929563447225870375 [label=100 id=6695801540915528909]\n\t1062238987970653667 -> 6907139717285289081 [id=\"-4264090195847481250.args[1]\"]\n\t6907139717285289081 [label=\"NDArrayCompat.from_ndarray\" id=5957420681722204814]\n\t6907139717285289081 -> -3533169068582244492 [id=\"5957420681722204814.args[0]\"]\n\t-3533169068582244492 [label=\"Abstraction.__call__\" id=1939674178738103160]\n\t-3533169068582244492 -> -6796029686444343107 [id=\"1939674178738103160.args[0]\"]\n\t-6796029686444343107 [label=\"Abstraction.__add__\" id=-6796029686444343107]\n\t-6796029686444343107 -> 7093854142050087112 [id=\"-6796029686444343107.args[0]\"]\n\t7093854142050087112 [label=\"Abstraction.create\" id=7093854142050087112]\n\t7093854142050087112 -> 647269574557256950 [id=\"7093854142050087112.args[0]\"]\n\t647269574557256950 [label=\"Abstraction.create_variable\" id=647269574557256950]\n\t647269574557256950 -> -8441167386739348913 [id=\"647269574557256950.args[0]\"]\n\t-8441167386739348913 [label=\"Variable(4532692808)\" id=-8441167386739348913]\n\t7093854142050087112 -> 3683961343488085320 [id=\"7093854142050087112.args[1]\"]\n\t3683961343488085320 [label=\"Maybe.just\" id=3683961343488085320]\n\t3683961343488085320 -> 647269574557256950 [id=\"3683961343488085320.args[0]\"]\n\t-6796029686444343107 -> 1585156807716819921 [id=\"-6796029686444343107.args[1]\"]\n\t-3533169068582244492 -> -3131809300698277100 [id=\"1939674178738103160.args[1]\"]\n\t-3888203582443754260 -> -7125989683868607675 [id=\"8502660837632541408.args[1]\"]\n\t-7125989683868607675 [label=\"Maybe.__or__\" id=2695006792991180376]\n\t-7125989683868607675 -> 5346454351036495004 [id=\"2695006792991180376.args[0]\"]\n\t5346454351036495004 [label=\"Abstraction.__call__\" id=8486722407058537054]\n\t5346454351036495004 -> -6686545371307024261 [id=\"8486722407058537054.args[0]\"]\n\t-6686545371307024261 [label=\"Abstraction.__add__\" id=-279173692147741471]\n\t-6686545371307024261 -> -2990722845636545594 [id=\"-279173692147741471.args[0]\"]\n\t-2990722845636545594 [label=\"Abstraction.create\" id=-7660677309244214554]\n\t-2990722845636545594 -> 2492526699005507642 [id=\"-7660677309244214554.args[0]\"]\n\t2492526699005507642 [label=\"Abstraction.create_variable\" id=2492526699005507642]\n\t2492526699005507642 -> 782204673390796920 [id=\"2492526699005507642.args[0]\"]\n\t782204673390796920 [label=\"Variable(4532872976)\" id=782204673390796920]\n\t-2990722845636545594 -> -4454967555415645571 [id=\"-7660677309244214554.args[1]\"]\n\t-4454967555415645571 [label=\"Maybe.just\" id=-4454967555415645571]\n\t-4454967555415645571 -> 2492526699005507642 [id=\"-4454967555415645571.args[0]\"]\n\t-6686545371307024261 -> -8871729180521625528 [id=\"-279173692147741471.args[1]\"]\n\t-8871729180521625528 [label=\"Abstraction.create\" id=-8871729180521625528]\n\t-8871729180521625528 -> -3477876327207206289 [id=\"-8871729180521625528.args[0]\"]\n\t-3477876327207206289 [label=\"Abstraction.create_variable\" id=-3477876327207206289]\n\t-3477876327207206289 -> 782204666144374570 [id=\"-3477876327207206289.args[0]\"]\n\t782204666144374570 [label=\"Variable(4532781744)\" id=782204666144374570]\n\t-8871729180521625528 -> -5693918354505073214 [id=\"-8871729180521625528.args[1]\"]\n\t-5693918354505073214 [label=\"Either.left\" id=-5693918354505073214]\n\t-5693918354505073214 -> -3477876327207206289 [id=\"-5693918354505073214.args[0]\"]\n\t5346454351036495004 -> -1448899694609174123 [id=\"8486722407058537054.args[1]\"]\n\t-1448899694609174123 [label=\"Integer.from_int\" id=-1448899694609174123]\n\t-1448899694609174123 -> 7929563447330875300 [id=\"-1448899694609174123.args[0]\"]\n\t7929563447330875300 [label=5 id=8368899336284295099]\n\t-7125989683868607675 -> -4995345293142149025 [id=\"2695006792991180376.args[1]\"]\n\t-4995345293142149025 [label=\"Maybe.match\" id=2901486184407898514]\n\t-4995345293142149025 -> 7195713575237942534 [id=\"2901486184407898514.args[0]\"]\n\t7195713575237942534 [label=\"Converter.convert\" id=7195713575237942534]\n\t7195713575237942534 -> 7929563447330875300 [id=\"7195713575237942534.args[0]\"]\n\t-4995345293142149025 -> -754019181540390696 [id=\"2901486184407898514.args[1]\"]\n\t-754019181540390696 [label=\"Maybe.nothing\" id=-754019181540390696]\n\t-4995345293142149025 -> 836454584771326360 [id=\"2901486184407898514.args[2]\"]\n\t836454584771326360 [label=\"Abstraction.create\" id=-5767205988462710480]\n\t836454584771326360 -> 7595844918048910182 [id=\"-5767205988462710480.args[0]\"]\n\t7595844918048910182 [label=\"Abstraction.create_variable\" id=7595844918048910182]\n\t7595844918048910182 -> 782204653931327520 [id=\"7595844918048910182.args[0]\"]\n\t782204653931327520 [label=\"Variable(4532700048)\" id=782204653931327520]\n\t836454584771326360 -> -4418802424163847894 [id=\"-5767205988462710480.args[1]\"]\n\t-4418802424163847894 [label=\"Maybe.just\" id=-4418802424163847894]\n\t-4418802424163847894 -> -3874205195205355599 [id=\"-4418802424163847894.args[0]\"]\n\t-3874205195205355599 [label=\"Either.right\" id=-3874205195205355599]\n\t-3874205195205355599 -> 7595844918048910182 [id=\"-3874205195205355599.args[0]\"]\n\t2020085580365109990 -> 3904670649235592956 [id=\"4035649169692160937.args[1]\"]\n\t3904670649235592956 [label=\"Maybe.nothing\" id=3904670649235592956]\n\t2020085580365109990 -> -3979005081292367894 [id=\"4035649169692160937.args[2]\"]\n\t-3979005081292367894 [label=\"Abstraction.create\" id=-3979005081292367894]\n\t-3979005081292367894 -> -4515816141679379126 [id=\"-3979005081292367894.args[0]\"]\n\t-4515816141679379126 [label=\"Abstraction.create_variable\" id=-4515816141679379126]\n\t-4515816141679379126 -> -8441167332832851488 [id=\"-4515816141679379126.args[0]\"]\n\t-8441167332832851488 [label=\"Variable(4532424600)\" id=-8441167332832851488]\n\t-3979005081292367894 -> -3738442817099480136 [id=\"-3979005081292367894.args[1]\"]\n\t-3738442817099480136 [label=\"Maybe.just\" id=-3738442817099480136]\n\t-3738442817099480136 -> -3244667734406134969 [id=\"-3738442817099480136.args[0]\"]\n\t-3244667734406134969 [label=\"NDArray.__getitem__\" id=-3244667734406134969]\n\t-3244667734406134969 -> -7971745150971623974 [id=\"-3244667734406134969.args[0]\"]\n\t-7971745150971623974 [label=\"Pair.left\" id=-7971745150971623974]\n\t-7971745150971623974 -> -4515816141679379126 [id=\"-7971745150971623974.args[0]\"]\n\t-3244667734406134969 -> 6641299432733888386 [id=\"-3244667734406134969.args[1]\"]\n\t6641299432733888386 [label=\"Pair.right\" id=6641299432733888386]\n\t6641299432733888386 -> -4515816141679379126 [id=\"6641299432733888386.args[0]\"]\n}",
         "label": null,
         "rule": "metadsl_core.abstraction.compose"
        },
        {
         "graph": "digraph {\n\tnode [shape=plain]\n\tedge [arrowsize=0.5 penwidth=0.5]\n\t38305072810632230 [label=\"NDArrayCompat.to_ndarray\" id=-5281961658848897139]\n\t38305072810632230 -> -7176004047903659196 [id=\"-5281961658848897139.args[0]\"]\n\t-7176004047903659196 [label=\"NDArrayCompat.from_ndarray\" id=-9177130969686516551]\n\t-7176004047903659196 -> -2952094401554747717 [id=\"-9177130969686516551.args[0]\"]\n\t-2952094401554747717 [label=\"Maybe.match\" id=4035649169692160937]\n\t-2952094401554747717 -> -8809534465752996021 [id=\"4035649169692160937.args[0]\"]\n\t-8809534465752996021 [label=\"Maybe.__and__\" id=8502660837632541408]\n\t-8809534465752996021 -> -4426976549251226415 [id=\"8502660837632541408.args[0]\"]\n\t-4426976549251226415 [label=\"Converter.convert\" id=-4657327696202073921]\n\t-4426976549251226415 -> 1062238987970653667 [id=\"-4657327696202073921.args[0]\"]\n\t1062238987970653667 [label=\"NDArrayCompat.__add__\" id=-4264090195847481250]\n\t1062238987970653667 -> 1182744138744153998 [id=\"-4264090195847481250.args[0]\"]\n\t1182744138744153998 [label=\"NDArrayCompat.from_ndarray\" id=-1625682492666313023]\n\t1182744138744153998 -> -4417325727130035079 [id=\"-1625682492666313023.args[0]\"]\n\t-4417325727130035079 [label=\"Abstraction.__call__\" id=-7714184177713562882]\n\t-4417325727130035079 -> -1038334610434623674 [id=\"-7714184177713562882.args[0]\"]\n\t-1038334610434623674 [label=\"Abstraction.__add__\" id=-1662407830212765793]\n\t-1038334610434623674 -> -2525517652145278719 [id=\"-1662407830212765793.args[0]\"]\n\t-2525517652145278719 [label=\"Abstraction.create\" id=-7293254293253925776]\n\t-2525517652145278719 -> -9011949978648459748 [id=\"-7293254293253925776.args[0]\"]\n\t-9011949978648459748 [label=\"Abstraction.create_variable\" id=-9011949978648459748]\n\t-9011949978648459748 -> 782204698780338270 [id=\"-9011949978648459748.args[0]\"]\n\t782204698780338270 [label=\"Variable(4532313840)\" id=782204698780338270]\n\t-2525517652145278719 -> -1044082949805659749 [id=\"-7293254293253925776.args[1]\"]\n\t-1044082949805659749 [label=\"Maybe.just\" id=-1044082949805659749]\n\t-1044082949805659749 -> -9011949978648459748 [id=\"-1044082949805659749.args[0]\"]\n\t-1038334610434623674 -> 1585156807716819921 [id=\"-1662407830212765793.args[1]\"]\n\t1585156807716819921 [label=\"Abstraction.create\" id=1585156807716819921]\n\t1585156807716819921 -> 5602477112898136929 [id=\"1585156807716819921.args[0]\"]\n\t5602477112898136929 [label=\"Abstraction.create_variable\" id=5602477112898136929]\n\t5602477112898136929 -> -8441167338211918213 [id=\"5602477112898136929.args[0]\"]\n\t-8441167338211918213 [label=\"Variable(4532312328)\" id=-8441167338211918213]\n\t1585156807716819921 -> -36014167958209776 [id=\"1585156807716819921.args[1]\"]\n\t-36014167958209776 [label=arange_ id=-36014167958209776]\n\t-36014167958209776 -> 5602477112898136929 [id=\"-36014167958209776.args[0]\"]\n\t-4417325727130035079 -> -3131809300698277100 [id=\"-7714184177713562882.args[1]\"]\n\t-3131809300698277100 [label=\"Integer.from_int\" id=-3131809300698277100]\n\t-3131809300698277100 -> 7929563447225870375 [id=\"-3131809300698277100.args[0]\"]\n\t7929563447225870375 [label=100 id=6695801540915528909]\n\t1062238987970653667 -> 6907139717285289081 [id=\"-4264090195847481250.args[1]\"]\n\t6907139717285289081 [label=\"NDArrayCompat.from_ndarray\" id=5957420681722204814]\n\t6907139717285289081 -> -3533169068582244492 [id=\"5957420681722204814.args[0]\"]\n\t-3533169068582244492 [label=\"Abstraction.__call__\" id=1939674178738103160]\n\t-3533169068582244492 -> -6796029686444343107 [id=\"1939674178738103160.args[0]\"]\n\t-6796029686444343107 [label=\"Abstraction.__add__\" id=-6796029686444343107]\n\t-6796029686444343107 -> 7093854142050087112 [id=\"-6796029686444343107.args[0]\"]\n\t7093854142050087112 [label=\"Abstraction.create\" id=7093854142050087112]\n\t7093854142050087112 -> 647269574557256950 [id=\"7093854142050087112.args[0]\"]\n\t647269574557256950 [label=\"Abstraction.create_variable\" id=647269574557256950]\n\t647269574557256950 -> -8441167386739348913 [id=\"647269574557256950.args[0]\"]\n\t-8441167386739348913 [label=\"Variable(4532692808)\" id=-8441167386739348913]\n\t7093854142050087112 -> 3683961343488085320 [id=\"7093854142050087112.args[1]\"]\n\t3683961343488085320 [label=\"Maybe.just\" id=3683961343488085320]\n\t3683961343488085320 -> 647269574557256950 [id=\"3683961343488085320.args[0]\"]\n\t-6796029686444343107 -> 1585156807716819921 [id=\"-6796029686444343107.args[1]\"]\n\t-3533169068582244492 -> -3131809300698277100 [id=\"1939674178738103160.args[1]\"]\n\t-8809534465752996021 -> 3625135037270020002 [id=\"8502660837632541408.args[1]\"]\n\t3625135037270020002 [label=\"Maybe.__or__\" id=2695006792991180376]\n\t3625135037270020002 -> 7342104869399788590 [id=\"2695006792991180376.args[0]\"]\n\t7342104869399788590 [label=\"Abstraction.__call__\" id=8486722407058537054]\n\t7342104869399788590 -> -6891540199889357791 [id=\"8486722407058537054.args[0]\"]\n\t-6891540199889357791 [label=\"Abstraction.create\" id=-279173692147741471]\n\t-6891540199889357791 -> -3477876327207206289 [id=\"-279173692147741471.args[0]\"]\n\t-3477876327207206289 [label=\"Abstraction.create_variable\" id=-3477876327207206289]\n\t-3477876327207206289 -> 782204666144374570 [id=\"-3477876327207206289.args[0]\"]\n\t782204666144374570 [label=\"Variable(4532781744)\" id=782204666144374570]\n\t-6891540199889357791 -> -8262924415670402534 [id=\"-279173692147741471.args[1]\"]\n\t-8262924415670402534 [label=\"Maybe.just\" id=-8262924415670402534]\n\t-8262924415670402534 -> -5693918354505073214 [id=\"-8262924415670402534.args[0]\"]\n\t-5693918354505073214 [label=\"Either.left\" id=-5693918354505073214]\n\t-5693918354505073214 -> -3477876327207206289 [id=\"-5693918354505073214.args[0]\"]\n\t7342104869399788590 -> -1448899694609174123 [id=\"8486722407058537054.args[1]\"]\n\t-1448899694609174123 [label=\"Integer.from_int\" id=-1448899694609174123]\n\t-1448899694609174123 -> 7929563447330875300 [id=\"-1448899694609174123.args[0]\"]\n\t7929563447330875300 [label=5 id=8368899336284295099]\n\t3625135037270020002 -> -4995345293142149025 [id=\"2695006792991180376.args[1]\"]\n\t-4995345293142149025 [label=\"Maybe.match\" id=2901486184407898514]\n\t-4995345293142149025 -> 7195713575237942534 [id=\"2901486184407898514.args[0]\"]\n\t7195713575237942534 [label=\"Converter.convert\" id=7195713575237942534]\n\t7195713575237942534 -> 7929563447330875300 [id=\"7195713575237942534.args[0]\"]\n\t-4995345293142149025 -> -754019181540390696 [id=\"2901486184407898514.args[1]\"]\n\t-754019181540390696 [label=\"Maybe.nothing\" id=-754019181540390696]\n\t-4995345293142149025 -> 836454584771326360 [id=\"2901486184407898514.args[2]\"]\n\t836454584771326360 [label=\"Abstraction.create\" id=-5767205988462710480]\n\t836454584771326360 -> 7595844918048910182 [id=\"-5767205988462710480.args[0]\"]\n\t7595844918048910182 [label=\"Abstraction.create_variable\" id=7595844918048910182]\n\t7595844918048910182 -> 782204653931327520 [id=\"7595844918048910182.args[0]\"]\n\t782204653931327520 [label=\"Variable(4532700048)\" id=782204653931327520]\n\t836454584771326360 -> -4418802424163847894 [id=\"-5767205988462710480.args[1]\"]\n\t-4418802424163847894 [label=\"Maybe.just\" id=-4418802424163847894]\n\t-4418802424163847894 -> -3874205195205355599 [id=\"-4418802424163847894.args[0]\"]\n\t-3874205195205355599 [label=\"Either.right\" id=-3874205195205355599]\n\t-3874205195205355599 -> 7595844918048910182 [id=\"-3874205195205355599.args[0]\"]\n\t-2952094401554747717 -> 3904670649235592956 [id=\"4035649169692160937.args[1]\"]\n\t3904670649235592956 [label=\"Maybe.nothing\" id=3904670649235592956]\n\t-2952094401554747717 -> -3979005081292367894 [id=\"4035649169692160937.args[2]\"]\n\t-3979005081292367894 [label=\"Abstraction.create\" id=-3979005081292367894]\n\t-3979005081292367894 -> -4515816141679379126 [id=\"-3979005081292367894.args[0]\"]\n\t-4515816141679379126 [label=\"Abstraction.create_variable\" id=-4515816141679379126]\n\t-4515816141679379126 -> -8441167332832851488 [id=\"-4515816141679379126.args[0]\"]\n\t-8441167332832851488 [label=\"Variable(4532424600)\" id=-8441167332832851488]\n\t-3979005081292367894 -> -3738442817099480136 [id=\"-3979005081292367894.args[1]\"]\n\t-3738442817099480136 [label=\"Maybe.just\" id=-3738442817099480136]\n\t-3738442817099480136 -> -3244667734406134969 [id=\"-3738442817099480136.args[0]\"]\n\t-3244667734406134969 [label=\"NDArray.__getitem__\" id=-3244667734406134969]\n\t-3244667734406134969 -> -7971745150971623974 [id=\"-3244667734406134969.args[0]\"]\n\t-7971745150971623974 [label=\"Pair.left\" id=-7971745150971623974]\n\t-7971745150971623974 -> -4515816141679379126 [id=\"-7971745150971623974.args[0]\"]\n\t-3244667734406134969 -> 6641299432733888386 [id=\"-3244667734406134969.args[1]\"]\n\t6641299432733888386 [label=\"Pair.right\" id=6641299432733888386]\n\t6641299432733888386 -> -4515816141679379126 [id=\"6641299432733888386.args[0]\"]\n}",
         "label": null,
         "rule": "metadsl_core.abstraction.compose"
        },
        {
         "graph": "digraph {\n\tnode [shape=plain]\n\tedge [arrowsize=0.5 penwidth=0.5]\n\t7046481236595167785 [label=\"NDArrayCompat.to_ndarray\" id=-5281961658848897139]\n\t7046481236595167785 -> 2253509439300303538 [id=\"-5281961658848897139.args[0]\"]\n\t2253509439300303538 [label=\"NDArrayCompat.from_ndarray\" id=-9177130969686516551]\n\t2253509439300303538 -> -2876691355224468715 [id=\"-9177130969686516551.args[0]\"]\n\t-2876691355224468715 [label=\"Maybe.match\" id=4035649169692160937]\n\t-2876691355224468715 -> -3009327541969435377 [id=\"4035649169692160937.args[0]\"]\n\t-3009327541969435377 [label=\"Maybe.__and__\" id=8502660837632541408]\n\t-3009327541969435377 -> -4426976549251226415 [id=\"8502660837632541408.args[0]\"]\n\t-4426976549251226415 [label=\"Converter.convert\" id=-4657327696202073921]\n\t-4426976549251226415 -> 1062238987970653667 [id=\"-4657327696202073921.args[0]\"]\n\t1062238987970653667 [label=\"NDArrayCompat.__add__\" id=-4264090195847481250]\n\t1062238987970653667 -> 1182744138744153998 [id=\"-4264090195847481250.args[0]\"]\n\t1182744138744153998 [label=\"NDArrayCompat.from_ndarray\" id=-1625682492666313023]\n\t1182744138744153998 -> -4417325727130035079 [id=\"-1625682492666313023.args[0]\"]\n\t-4417325727130035079 [label=\"Abstraction.__call__\" id=-7714184177713562882]\n\t-4417325727130035079 -> -1038334610434623674 [id=\"-7714184177713562882.args[0]\"]\n\t-1038334610434623674 [label=\"Abstraction.__add__\" id=-1662407830212765793]\n\t-1038334610434623674 -> -2525517652145278719 [id=\"-1662407830212765793.args[0]\"]\n\t-2525517652145278719 [label=\"Abstraction.create\" id=-7293254293253925776]\n\t-2525517652145278719 -> -9011949978648459748 [id=\"-7293254293253925776.args[0]\"]\n\t-9011949978648459748 [label=\"Abstraction.create_variable\" id=-9011949978648459748]\n\t-9011949978648459748 -> 782204698780338270 [id=\"-9011949978648459748.args[0]\"]\n\t782204698780338270 [label=\"Variable(4532313840)\" id=782204698780338270]\n\t-2525517652145278719 -> -1044082949805659749 [id=\"-7293254293253925776.args[1]\"]\n\t-1044082949805659749 [label=\"Maybe.just\" id=-1044082949805659749]\n\t-1044082949805659749 -> -9011949978648459748 [id=\"-1044082949805659749.args[0]\"]\n\t-1038334610434623674 -> 1585156807716819921 [id=\"-1662407830212765793.args[1]\"]\n\t1585156807716819921 [label=\"Abstraction.create\" id=1585156807716819921]\n\t1585156807716819921 -> 5602477112898136929 [id=\"1585156807716819921.args[0]\"]\n\t5602477112898136929 [label=\"Abstraction.create_variable\" id=5602477112898136929]\n\t5602477112898136929 -> -8441167338211918213 [id=\"5602477112898136929.args[0]\"]\n\t-8441167338211918213 [label=\"Variable(4532312328)\" id=-8441167338211918213]\n\t1585156807716819921 -> -36014167958209776 [id=\"1585156807716819921.args[1]\"]\n\t-36014167958209776 [label=arange_ id=-36014167958209776]\n\t-36014167958209776 -> 5602477112898136929 [id=\"-36014167958209776.args[0]\"]\n\t-4417325727130035079 -> -3131809300698277100 [id=\"-7714184177713562882.args[1]\"]\n\t-3131809300698277100 [label=\"Integer.from_int\" id=-3131809300698277100]\n\t-3131809300698277100 -> 7929563447225870375 [id=\"-3131809300698277100.args[0]\"]\n\t7929563447225870375 [label=100 id=6695801540915528909]\n\t1062238987970653667 -> 6907139717285289081 [id=\"-4264090195847481250.args[1]\"]\n\t6907139717285289081 [label=\"NDArrayCompat.from_ndarray\" id=5957420681722204814]\n\t6907139717285289081 -> -3533169068582244492 [id=\"5957420681722204814.args[0]\"]\n\t-3533169068582244492 [label=\"Abstraction.__call__\" id=1939674178738103160]\n\t-3533169068582244492 -> -6796029686444343107 [id=\"1939674178738103160.args[0]\"]\n\t-6796029686444343107 [label=\"Abstraction.__add__\" id=-6796029686444343107]\n\t-6796029686444343107 -> 7093854142050087112 [id=\"-6796029686444343107.args[0]\"]\n\t7093854142050087112 [label=\"Abstraction.create\" id=7093854142050087112]\n\t7093854142050087112 -> 647269574557256950 [id=\"7093854142050087112.args[0]\"]\n\t647269574557256950 [label=\"Abstraction.create_variable\" id=647269574557256950]\n\t647269574557256950 -> -8441167386739348913 [id=\"647269574557256950.args[0]\"]\n\t-8441167386739348913 [label=\"Variable(4532692808)\" id=-8441167386739348913]\n\t7093854142050087112 -> 3683961343488085320 [id=\"7093854142050087112.args[1]\"]\n\t3683961343488085320 [label=\"Maybe.just\" id=3683961343488085320]\n\t3683961343488085320 -> 647269574557256950 [id=\"3683961343488085320.args[0]\"]\n\t-6796029686444343107 -> 1585156807716819921 [id=\"-6796029686444343107.args[1]\"]\n\t-3533169068582244492 -> -3131809300698277100 [id=\"1939674178738103160.args[1]\"]\n\t-3009327541969435377 -> 7728163612015094428 [id=\"8502660837632541408.args[1]\"]\n\t7728163612015094428 [label=\"Maybe.__or__\" id=2695006792991180376]\n\t7728163612015094428 -> -2861860061290690084 [id=\"2695006792991180376.args[0]\"]\n\t-2861860061290690084 [label=\"Maybe.just\" id=8486722407058537054]\n\t-2861860061290690084 -> 3438482133718761997 [id=\"8486722407058537054.args[0]\"]\n\t3438482133718761997 [label=\"Either.left\" id=3438482133718761997]\n\t3438482133718761997 -> -1448899694609174123 [id=\"3438482133718761997.args[0]\"]\n\t-1448899694609174123 [label=\"Integer.from_int\" id=-1448899694609174123]\n\t-1448899694609174123 -> 7929563447330875300 [id=\"-1448899694609174123.args[0]\"]\n\t7929563447330875300 [label=5 id=8368899336284295099]\n\t7728163612015094428 -> -4995345293142149025 [id=\"2695006792991180376.args[1]\"]\n\t-4995345293142149025 [label=\"Maybe.match\" id=2901486184407898514]\n\t-4995345293142149025 -> 7195713575237942534 [id=\"2901486184407898514.args[0]\"]\n\t7195713575237942534 [label=\"Converter.convert\" id=7195713575237942534]\n\t7195713575237942534 -> 7929563447330875300 [id=\"7195713575237942534.args[0]\"]\n\t-4995345293142149025 -> -754019181540390696 [id=\"2901486184407898514.args[1]\"]\n\t-754019181540390696 [label=\"Maybe.nothing\" id=-754019181540390696]\n\t-4995345293142149025 -> 836454584771326360 [id=\"2901486184407898514.args[2]\"]\n\t836454584771326360 [label=\"Abstraction.create\" id=-5767205988462710480]\n\t836454584771326360 -> 7595844918048910182 [id=\"-5767205988462710480.args[0]\"]\n\t7595844918048910182 [label=\"Abstraction.create_variable\" id=7595844918048910182]\n\t7595844918048910182 -> 782204653931327520 [id=\"7595844918048910182.args[0]\"]\n\t782204653931327520 [label=\"Variable(4532700048)\" id=782204653931327520]\n\t836454584771326360 -> -4418802424163847894 [id=\"-5767205988462710480.args[1]\"]\n\t-4418802424163847894 [label=\"Maybe.just\" id=-4418802424163847894]\n\t-4418802424163847894 -> -3874205195205355599 [id=\"-4418802424163847894.args[0]\"]\n\t-3874205195205355599 [label=\"Either.right\" id=-3874205195205355599]\n\t-3874205195205355599 -> 7595844918048910182 [id=\"-3874205195205355599.args[0]\"]\n\t-2876691355224468715 -> 3904670649235592956 [id=\"4035649169692160937.args[1]\"]\n\t3904670649235592956 [label=\"Maybe.nothing\" id=3904670649235592956]\n\t-2876691355224468715 -> -3979005081292367894 [id=\"4035649169692160937.args[2]\"]\n\t-3979005081292367894 [label=\"Abstraction.create\" id=-3979005081292367894]\n\t-3979005081292367894 -> -4515816141679379126 [id=\"-3979005081292367894.args[0]\"]\n\t-4515816141679379126 [label=\"Abstraction.create_variable\" id=-4515816141679379126]\n\t-4515816141679379126 -> -8441167332832851488 [id=\"-4515816141679379126.args[0]\"]\n\t-8441167332832851488 [label=\"Variable(4532424600)\" id=-8441167332832851488]\n\t-3979005081292367894 -> -3738442817099480136 [id=\"-3979005081292367894.args[1]\"]\n\t-3738442817099480136 [label=\"Maybe.just\" id=-3738442817099480136]\n\t-3738442817099480136 -> -3244667734406134969 [id=\"-3738442817099480136.args[0]\"]\n\t-3244667734406134969 [label=\"NDArray.__getitem__\" id=-3244667734406134969]\n\t-3244667734406134969 -> -7971745150971623974 [id=\"-3244667734406134969.args[0]\"]\n\t-7971745150971623974 [label=\"Pair.left\" id=-7971745150971623974]\n\t-7971745150971623974 -> -4515816141679379126 [id=\"-7971745150971623974.args[0]\"]\n\t-3244667734406134969 -> 6641299432733888386 [id=\"-3244667734406134969.args[1]\"]\n\t6641299432733888386 [label=\"Pair.right\" id=6641299432733888386]\n\t6641299432733888386 -> -4515816141679379126 [id=\"6641299432733888386.args[0]\"]\n}",
         "label": null,
         "rule": "metadsl_core.abstraction.beta_reduce"
        },
        {
         "graph": "digraph {\n\tnode [shape=plain]\n\tedge [arrowsize=0.5 penwidth=0.5]\n\t-233472917803222217 [label=\"NDArrayCompat.to_ndarray\" id=-5281961658848897139]\n\t-233472917803222217 -> 6629095570166745970 [id=\"-5281961658848897139.args[0]\"]\n\t6629095570166745970 [label=\"NDArrayCompat.from_ndarray\" id=-9177130969686516551]\n\t6629095570166745970 -> -9207658077265931433 [id=\"-9177130969686516551.args[0]\"]\n\t-9207658077265931433 [label=\"Maybe.match\" id=4035649169692160937]\n\t-9207658077265931433 -> -137826882274979556 [id=\"4035649169692160937.args[0]\"]\n\t-137826882274979556 [label=\"Maybe.__and__\" id=8502660837632541408]\n\t-137826882274979556 -> -4426976549251226415 [id=\"8502660837632541408.args[0]\"]\n\t-4426976549251226415 [label=\"Converter.convert\" id=-4657327696202073921]\n\t-4426976549251226415 -> 1062238987970653667 [id=\"-4657327696202073921.args[0]\"]\n\t1062238987970653667 [label=\"NDArrayCompat.__add__\" id=-4264090195847481250]\n\t1062238987970653667 -> 1182744138744153998 [id=\"-4264090195847481250.args[0]\"]\n\t1182744138744153998 [label=\"NDArrayCompat.from_ndarray\" id=-1625682492666313023]\n\t1182744138744153998 -> -4417325727130035079 [id=\"-1625682492666313023.args[0]\"]\n\t-4417325727130035079 [label=\"Abstraction.__call__\" id=-7714184177713562882]\n\t-4417325727130035079 -> -1038334610434623674 [id=\"-7714184177713562882.args[0]\"]\n\t-1038334610434623674 [label=\"Abstraction.__add__\" id=-1662407830212765793]\n\t-1038334610434623674 -> -2525517652145278719 [id=\"-1662407830212765793.args[0]\"]\n\t-2525517652145278719 [label=\"Abstraction.create\" id=-7293254293253925776]\n\t-2525517652145278719 -> -9011949978648459748 [id=\"-7293254293253925776.args[0]\"]\n\t-9011949978648459748 [label=\"Abstraction.create_variable\" id=-9011949978648459748]\n\t-9011949978648459748 -> 782204698780338270 [id=\"-9011949978648459748.args[0]\"]\n\t782204698780338270 [label=\"Variable(4532313840)\" id=782204698780338270]\n\t-2525517652145278719 -> -1044082949805659749 [id=\"-7293254293253925776.args[1]\"]\n\t-1044082949805659749 [label=\"Maybe.just\" id=-1044082949805659749]\n\t-1044082949805659749 -> -9011949978648459748 [id=\"-1044082949805659749.args[0]\"]\n\t-1038334610434623674 -> 1585156807716819921 [id=\"-1662407830212765793.args[1]\"]\n\t1585156807716819921 [label=\"Abstraction.create\" id=1585156807716819921]\n\t1585156807716819921 -> 5602477112898136929 [id=\"1585156807716819921.args[0]\"]\n\t5602477112898136929 [label=\"Abstraction.create_variable\" id=5602477112898136929]\n\t5602477112898136929 -> -8441167338211918213 [id=\"5602477112898136929.args[0]\"]\n\t-8441167338211918213 [label=\"Variable(4532312328)\" id=-8441167338211918213]\n\t1585156807716819921 -> -36014167958209776 [id=\"1585156807716819921.args[1]\"]\n\t-36014167958209776 [label=arange_ id=-36014167958209776]\n\t-36014167958209776 -> 5602477112898136929 [id=\"-36014167958209776.args[0]\"]\n\t-4417325727130035079 -> -3131809300698277100 [id=\"-7714184177713562882.args[1]\"]\n\t-3131809300698277100 [label=\"Integer.from_int\" id=-3131809300698277100]\n\t-3131809300698277100 -> 7929563447225870375 [id=\"-3131809300698277100.args[0]\"]\n\t7929563447225870375 [label=100 id=6695801540915528909]\n\t1062238987970653667 -> 6907139717285289081 [id=\"-4264090195847481250.args[1]\"]\n\t6907139717285289081 [label=\"NDArrayCompat.from_ndarray\" id=5957420681722204814]\n\t6907139717285289081 -> -3533169068582244492 [id=\"5957420681722204814.args[0]\"]\n\t-3533169068582244492 [label=\"Abstraction.__call__\" id=1939674178738103160]\n\t-3533169068582244492 -> -6796029686444343107 [id=\"1939674178738103160.args[0]\"]\n\t-6796029686444343107 [label=\"Abstraction.__add__\" id=-6796029686444343107]\n\t-6796029686444343107 -> 7093854142050087112 [id=\"-6796029686444343107.args[0]\"]\n\t7093854142050087112 [label=\"Abstraction.create\" id=7093854142050087112]\n\t7093854142050087112 -> 647269574557256950 [id=\"7093854142050087112.args[0]\"]\n\t647269574557256950 [label=\"Abstraction.create_variable\" id=647269574557256950]\n\t647269574557256950 -> -8441167386739348913 [id=\"647269574557256950.args[0]\"]\n\t-8441167386739348913 [label=\"Variable(4532692808)\" id=-8441167386739348913]\n\t7093854142050087112 -> 3683961343488085320 [id=\"7093854142050087112.args[1]\"]\n\t3683961343488085320 [label=\"Maybe.just\" id=3683961343488085320]\n\t3683961343488085320 -> 647269574557256950 [id=\"3683961343488085320.args[0]\"]\n\t-6796029686444343107 -> 1585156807716819921 [id=\"-6796029686444343107.args[1]\"]\n\t-3533169068582244492 -> -3131809300698277100 [id=\"1939674178738103160.args[1]\"]\n\t-137826882274979556 -> 8955685588577225007 [id=\"8502660837632541408.args[1]\"]\n\t8955685588577225007 [label=\"Maybe.just\" id=2695006792991180376]\n\t8955685588577225007 -> 3438482133718761997 [id=\"2695006792991180376.args[0]\"]\n\t3438482133718761997 [label=\"Either.left\" id=3438482133718761997]\n\t3438482133718761997 -> -1448899694609174123 [id=\"3438482133718761997.args[0]\"]\n\t-1448899694609174123 [label=\"Integer.from_int\" id=-1448899694609174123]\n\t-1448899694609174123 -> 7929563447330875300 [id=\"-1448899694609174123.args[0]\"]\n\t7929563447330875300 [label=5 id=8368899336284295099]\n\t-9207658077265931433 -> 3904670649235592956 [id=\"4035649169692160937.args[1]\"]\n\t3904670649235592956 [label=\"Maybe.nothing\" id=3904670649235592956]\n\t-9207658077265931433 -> -3979005081292367894 [id=\"4035649169692160937.args[2]\"]\n\t-3979005081292367894 [label=\"Abstraction.create\" id=-3979005081292367894]\n\t-3979005081292367894 -> -4515816141679379126 [id=\"-3979005081292367894.args[0]\"]\n\t-4515816141679379126 [label=\"Abstraction.create_variable\" id=-4515816141679379126]\n\t-4515816141679379126 -> -8441167332832851488 [id=\"-4515816141679379126.args[0]\"]\n\t-8441167332832851488 [label=\"Variable(4532424600)\" id=-8441167332832851488]\n\t-3979005081292367894 -> -3738442817099480136 [id=\"-3979005081292367894.args[1]\"]\n\t-3738442817099480136 [label=\"Maybe.just\" id=-3738442817099480136]\n\t-3738442817099480136 -> -3244667734406134969 [id=\"-3738442817099480136.args[0]\"]\n\t-3244667734406134969 [label=\"NDArray.__getitem__\" id=-3244667734406134969]\n\t-3244667734406134969 -> -7971745150971623974 [id=\"-3244667734406134969.args[0]\"]\n\t-7971745150971623974 [label=\"Pair.left\" id=-7971745150971623974]\n\t-7971745150971623974 -> -4515816141679379126 [id=\"-7971745150971623974.args[0]\"]\n\t-3244667734406134969 -> 6641299432733888386 [id=\"-3244667734406134969.args[1]\"]\n\t6641299432733888386 [label=\"Pair.right\" id=6641299432733888386]\n\t6641299432733888386 -> -4515816141679379126 [id=\"6641299432733888386.args[0]\"]\n}",
         "label": null,
         "rule": "metadsl_core.maybe.maybe_or"
        },
        {
         "graph": "digraph {\n\tnode [shape=plain]\n\tedge [arrowsize=0.5 penwidth=0.5]\n\t2679162014291103286 [label=\"NDArrayCompat.to_ndarray\" id=-5281961658848897139]\n\t2679162014291103286 -> 1142402503048777745 [id=\"-5281961658848897139.args[0]\"]\n\t1142402503048777745 [label=\"NDArrayCompat.from_ndarray\" id=-9177130969686516551]\n\t1142402503048777745 -> 3406801853680613610 [id=\"-9177130969686516551.args[0]\"]\n\t3406801853680613610 [label=\"Maybe.match\" id=4035649169692160937]\n\t3406801853680613610 -> 3024162645320885814 [id=\"4035649169692160937.args[0]\"]\n\t3024162645320885814 [label=\"Maybe.__and__\" id=8502660837632541408]\n\t3024162645320885814 -> -1830947424158894334 [id=\"8502660837632541408.args[0]\"]\n\t-1830947424158894334 [label=\"Converter.convert\" id=-4657327696202073921]\n\t-1830947424158894334 -> 3954943629499034635 [id=\"-4657327696202073921.args[0]\"]\n\t3954943629499034635 [label=\"NDArrayCompat.__add__\" id=-4264090195847481250]\n\t3954943629499034635 -> 1182744138744153998 [id=\"-4264090195847481250.args[0]\"]\n\t1182744138744153998 [label=\"NDArrayCompat.from_ndarray\" id=-1625682492666313023]\n\t1182744138744153998 -> -4417325727130035079 [id=\"-1625682492666313023.args[0]\"]\n\t-4417325727130035079 [label=\"Abstraction.__call__\" id=-7714184177713562882]\n\t-4417325727130035079 -> -1038334610434623674 [id=\"-7714184177713562882.args[0]\"]\n\t-1038334610434623674 [label=\"Abstraction.__add__\" id=-1662407830212765793]\n\t-1038334610434623674 -> -2525517652145278719 [id=\"-1662407830212765793.args[0]\"]\n\t-2525517652145278719 [label=\"Abstraction.create\" id=-7293254293253925776]\n\t-2525517652145278719 -> -9011949978648459748 [id=\"-7293254293253925776.args[0]\"]\n\t-9011949978648459748 [label=\"Abstraction.create_variable\" id=-9011949978648459748]\n\t-9011949978648459748 -> 782204698780338270 [id=\"-9011949978648459748.args[0]\"]\n\t782204698780338270 [label=\"Variable(4532313840)\" id=782204698780338270]\n\t-2525517652145278719 -> -1044082949805659749 [id=\"-7293254293253925776.args[1]\"]\n\t-1044082949805659749 [label=\"Maybe.just\" id=-1044082949805659749]\n\t-1044082949805659749 -> -9011949978648459748 [id=\"-1044082949805659749.args[0]\"]\n\t-1038334610434623674 -> 1585156807716819921 [id=\"-1662407830212765793.args[1]\"]\n\t1585156807716819921 [label=\"Abstraction.create\" id=1585156807716819921]\n\t1585156807716819921 -> 5602477112898136929 [id=\"1585156807716819921.args[0]\"]\n\t5602477112898136929 [label=\"Abstraction.create_variable\" id=5602477112898136929]\n\t5602477112898136929 -> -8441167338211918213 [id=\"5602477112898136929.args[0]\"]\n\t-8441167338211918213 [label=\"Variable(4532312328)\" id=-8441167338211918213]\n\t1585156807716819921 -> -36014167958209776 [id=\"1585156807716819921.args[1]\"]\n\t-36014167958209776 [label=arange_ id=-36014167958209776]\n\t-36014167958209776 -> 5602477112898136929 [id=\"-36014167958209776.args[0]\"]\n\t-4417325727130035079 -> -3131809300698277100 [id=\"-7714184177713562882.args[1]\"]\n\t-3131809300698277100 [label=\"Integer.from_int\" id=-3131809300698277100]\n\t-3131809300698277100 -> 7929563447225870375 [id=\"-3131809300698277100.args[0]\"]\n\t7929563447225870375 [label=100 id=6695801540915528909]\n\t3954943629499034635 -> -1570463946834956669 [id=\"-4264090195847481250.args[1]\"]\n\t-1570463946834956669 [label=\"NDArrayCompat.from_ndarray\" id=-1625682492666313023]\n\t-1570463946834956669 -> 132293261472413313 [id=\"-1625682492666313023.args[0]\"]\n\t132293261472413313 [label=\"Abstraction.__call__\" id=-7714184177713562882]\n\t132293261472413313 -> -8027661977793249311 [id=\"-7714184177713562882.args[0]\"]\n\t-8027661977793249311 [label=\"Abstraction.create\" id=-1662407830212765793]\n\t-8027661977793249311 -> 5602477112898136929 [id=\"-1662407830212765793.args[0]\"]\n\t-8027661977793249311 -> -5875775773204823162 [id=\"-1662407830212765793.args[1]\"]\n\t-5875775773204823162 [label=\"Maybe.just\" id=-5875775773204823162]\n\t-5875775773204823162 -> -36014167958209776 [id=\"-5875775773204823162.args[0]\"]\n\t132293261472413313 -> -3131809300698277100 [id=\"-7714184177713562882.args[1]\"]\n\t3024162645320885814 -> 8955685588577225007 [id=\"8502660837632541408.args[1]\"]\n\t8955685588577225007 [label=\"Maybe.just\" id=2695006792991180376]\n\t8955685588577225007 -> 3438482133718761997 [id=\"2695006792991180376.args[0]\"]\n\t3438482133718761997 [label=\"Either.left\" id=3438482133718761997]\n\t3438482133718761997 -> -1448899694609174123 [id=\"3438482133718761997.args[0]\"]\n\t-1448899694609174123 [label=\"Integer.from_int\" id=-1448899694609174123]\n\t-1448899694609174123 -> 7929563447330875300 [id=\"-1448899694609174123.args[0]\"]\n\t7929563447330875300 [label=5 id=8368899336284295099]\n\t3406801853680613610 -> 3904670649235592956 [id=\"4035649169692160937.args[1]\"]\n\t3904670649235592956 [label=\"Maybe.nothing\" id=3904670649235592956]\n\t3406801853680613610 -> -3979005081292367894 [id=\"4035649169692160937.args[2]\"]\n\t-3979005081292367894 [label=\"Abstraction.create\" id=-3979005081292367894]\n\t-3979005081292367894 -> -4515816141679379126 [id=\"-3979005081292367894.args[0]\"]\n\t-4515816141679379126 [label=\"Abstraction.create_variable\" id=-4515816141679379126]\n\t-4515816141679379126 -> -8441167332832851488 [id=\"-4515816141679379126.args[0]\"]\n\t-8441167332832851488 [label=\"Variable(4532424600)\" id=-8441167332832851488]\n\t-3979005081292367894 -> -3738442817099480136 [id=\"-3979005081292367894.args[1]\"]\n\t-3738442817099480136 [label=\"Maybe.just\" id=-3738442817099480136]\n\t-3738442817099480136 -> -3244667734406134969 [id=\"-3738442817099480136.args[0]\"]\n\t-3244667734406134969 [label=\"NDArray.__getitem__\" id=-3244667734406134969]\n\t-3244667734406134969 -> -7971745150971623974 [id=\"-3244667734406134969.args[0]\"]\n\t-7971745150971623974 [label=\"Pair.left\" id=-7971745150971623974]\n\t-7971745150971623974 -> -4515816141679379126 [id=\"-7971745150971623974.args[0]\"]\n\t-3244667734406134969 -> 6641299432733888386 [id=\"-3244667734406134969.args[1]\"]\n\t6641299432733888386 [label=\"Pair.right\" id=6641299432733888386]\n\t6641299432733888386 -> -4515816141679379126 [id=\"6641299432733888386.args[0]\"]\n}",
         "label": null,
         "rule": "metadsl_core.abstraction.compose"
        },
        {
         "graph": "digraph {\n\tnode [shape=plain]\n\tedge [arrowsize=0.5 penwidth=0.5]\n\t-7742234567815799009 [label=\"NDArrayCompat.to_ndarray\" id=-5281961658848897139]\n\t-7742234567815799009 -> -4809068257750643778 [id=\"-5281961658848897139.args[0]\"]\n\t-4809068257750643778 [label=\"NDArrayCompat.from_ndarray\" id=-9177130969686516551]\n\t-4809068257750643778 -> 7963321782420935429 [id=\"-9177130969686516551.args[0]\"]\n\t7963321782420935429 [label=\"Maybe.match\" id=4035649169692160937]\n\t7963321782420935429 -> -9034280047187996927 [id=\"4035649169692160937.args[0]\"]\n\t-9034280047187996927 [label=\"Maybe.__and__\" id=8502660837632541408]\n\t-9034280047187996927 -> -2292070056515589903 [id=\"8502660837632541408.args[0]\"]\n\t-2292070056515589903 [label=\"Converter.convert\" id=-4657327696202073921]\n\t-2292070056515589903 -> -4650555701787094139 [id=\"-4657327696202073921.args[0]\"]\n\t-4650555701787094139 [label=\"NDArrayCompat.__add__\" id=-4264090195847481250]\n\t-4650555701787094139 -> 1182744138744153998 [id=\"-4264090195847481250.args[0]\"]\n\t1182744138744153998 [label=\"NDArrayCompat.from_ndarray\" id=-1625682492666313023]\n\t1182744138744153998 -> -4417325727130035079 [id=\"-1625682492666313023.args[0]\"]\n\t-4417325727130035079 [label=\"Abstraction.__call__\" id=-7714184177713562882]\n\t-4417325727130035079 -> -1038334610434623674 [id=\"-7714184177713562882.args[0]\"]\n\t-1038334610434623674 [label=\"Abstraction.__add__\" id=-1662407830212765793]\n\t-1038334610434623674 -> -2525517652145278719 [id=\"-1662407830212765793.args[0]\"]\n\t-2525517652145278719 [label=\"Abstraction.create\" id=-7293254293253925776]\n\t-2525517652145278719 -> -9011949978648459748 [id=\"-7293254293253925776.args[0]\"]\n\t-9011949978648459748 [label=\"Abstraction.create_variable\" id=-9011949978648459748]\n\t-9011949978648459748 -> 782204698780338270 [id=\"-9011949978648459748.args[0]\"]\n\t782204698780338270 [label=\"Variable(4532313840)\" id=782204698780338270]\n\t-2525517652145278719 -> -1044082949805659749 [id=\"-7293254293253925776.args[1]\"]\n\t-1044082949805659749 [label=\"Maybe.just\" id=-1044082949805659749]\n\t-1044082949805659749 -> -9011949978648459748 [id=\"-1044082949805659749.args[0]\"]\n\t-1038334610434623674 -> 1585156807716819921 [id=\"-1662407830212765793.args[1]\"]\n\t1585156807716819921 [label=\"Abstraction.create\" id=1585156807716819921]\n\t1585156807716819921 -> 5602477112898136929 [id=\"1585156807716819921.args[0]\"]\n\t5602477112898136929 [label=\"Abstraction.create_variable\" id=5602477112898136929]\n\t5602477112898136929 -> -8441167338211918213 [id=\"5602477112898136929.args[0]\"]\n\t-8441167338211918213 [label=\"Variable(4532312328)\" id=-8441167338211918213]\n\t1585156807716819921 -> -36014167958209776 [id=\"1585156807716819921.args[1]\"]\n\t-36014167958209776 [label=arange_ id=-36014167958209776]\n\t-36014167958209776 -> 5602477112898136929 [id=\"-36014167958209776.args[0]\"]\n\t-4417325727130035079 -> -3131809300698277100 [id=\"-7714184177713562882.args[1]\"]\n\t-3131809300698277100 [label=\"Integer.from_int\" id=-3131809300698277100]\n\t-3131809300698277100 -> 7929563447225870375 [id=\"-3131809300698277100.args[0]\"]\n\t7929563447225870375 [label=100 id=6695801540915528909]\n\t-4650555701787094139 -> 538172979487181565 [id=\"-4264090195847481250.args[1]\"]\n\t538172979487181565 [label=\"NDArrayCompat.from_ndarray\" id=-1625682492666313023]\n\t538172979487181565 -> 8522449151473608332 [id=\"-1625682492666313023.args[0]\"]\n\t8522449151473608332 [label=\"Maybe.just\" id=-7714184177713562882]\n\t8522449151473608332 -> 5668266280651108832 [id=\"-7714184177713562882.args[0]\"]\n\t5668266280651108832 [label=arange_ id=5668266280651108832]\n\t5668266280651108832 -> -3131809300698277100 [id=\"5668266280651108832.args[0]\"]\n\t-9034280047187996927 -> 8955685588577225007 [id=\"8502660837632541408.args[1]\"]\n\t8955685588577225007 [label=\"Maybe.just\" id=2695006792991180376]\n\t8955685588577225007 -> 3438482133718761997 [id=\"2695006792991180376.args[0]\"]\n\t3438482133718761997 [label=\"Either.left\" id=3438482133718761997]\n\t3438482133718761997 -> -1448899694609174123 [id=\"3438482133718761997.args[0]\"]\n\t-1448899694609174123 [label=\"Integer.from_int\" id=-1448899694609174123]\n\t-1448899694609174123 -> 7929563447330875300 [id=\"-1448899694609174123.args[0]\"]\n\t7929563447330875300 [label=5 id=8368899336284295099]\n\t7963321782420935429 -> 3904670649235592956 [id=\"4035649169692160937.args[1]\"]\n\t3904670649235592956 [label=\"Maybe.nothing\" id=3904670649235592956]\n\t7963321782420935429 -> -3979005081292367894 [id=\"4035649169692160937.args[2]\"]\n\t-3979005081292367894 [label=\"Abstraction.create\" id=-3979005081292367894]\n\t-3979005081292367894 -> -4515816141679379126 [id=\"-3979005081292367894.args[0]\"]\n\t-4515816141679379126 [label=\"Abstraction.create_variable\" id=-4515816141679379126]\n\t-4515816141679379126 -> -8441167332832851488 [id=\"-4515816141679379126.args[0]\"]\n\t-8441167332832851488 [label=\"Variable(4532424600)\" id=-8441167332832851488]\n\t-3979005081292367894 -> -3738442817099480136 [id=\"-3979005081292367894.args[1]\"]\n\t-3738442817099480136 [label=\"Maybe.just\" id=-3738442817099480136]\n\t-3738442817099480136 -> -3244667734406134969 [id=\"-3738442817099480136.args[0]\"]\n\t-3244667734406134969 [label=\"NDArray.__getitem__\" id=-3244667734406134969]\n\t-3244667734406134969 -> -7971745150971623974 [id=\"-3244667734406134969.args[0]\"]\n\t-7971745150971623974 [label=\"Pair.left\" id=-7971745150971623974]\n\t-7971745150971623974 -> -4515816141679379126 [id=\"-7971745150971623974.args[0]\"]\n\t-3244667734406134969 -> 6641299432733888386 [id=\"-3244667734406134969.args[1]\"]\n\t6641299432733888386 [label=\"Pair.right\" id=6641299432733888386]\n\t6641299432733888386 -> -4515816141679379126 [id=\"6641299432733888386.args[0]\"]\n}",
         "label": null,
         "rule": "metadsl_core.abstraction.beta_reduce"
        },
        {
         "graph": "digraph {\n\tnode [shape=plain]\n\tedge [arrowsize=0.5 penwidth=0.5]\n\t1240424551539893949 [label=\"NDArrayCompat.to_ndarray\" id=-5281961658848897139]\n\t1240424551539893949 -> -1397785812529730010 [id=\"-5281961658848897139.args[0]\"]\n\t-1397785812529730010 [label=\"NDArrayCompat.from_ndarray\" id=-9177130969686516551]\n\t-1397785812529730010 -> -6898080762443331342 [id=\"-9177130969686516551.args[0]\"]\n\t-6898080762443331342 [label=\"Maybe.match\" id=4035649169692160937]\n\t-6898080762443331342 -> -3924048906950690208 [id=\"4035649169692160937.args[0]\"]\n\t-3924048906950690208 [label=\"Maybe.__and__\" id=8502660837632541408]\n\t-3924048906950690208 -> -1012365816900040780 [id=\"8502660837632541408.args[0]\"]\n\t-1012365816900040780 [label=\"Converter.convert\" id=-4657327696202073921]\n\t-1012365816900040780 -> -6022807547901512444 [id=\"-4657327696202073921.args[0]\"]\n\t-6022807547901512444 [label=\"NDArrayCompat.__add__\" id=-4264090195847481250]\n\t-6022807547901512444 -> -1570463946834956669 [id=\"-4264090195847481250.args[0]\"]\n\t-1570463946834956669 [label=\"NDArrayCompat.from_ndarray\" id=-1625682492666313023]\n\t-1570463946834956669 -> 132293261472413313 [id=\"-1625682492666313023.args[0]\"]\n\t132293261472413313 [label=\"Abstraction.__call__\" id=-7714184177713562882]\n\t132293261472413313 -> -8027661977793249311 [id=\"-7714184177713562882.args[0]\"]\n\t-8027661977793249311 [label=\"Abstraction.create\" id=-1662407830212765793]\n\t-8027661977793249311 -> 5602477112898136929 [id=\"-1662407830212765793.args[0]\"]\n\t5602477112898136929 [label=\"Abstraction.create_variable\" id=5602477112898136929]\n\t5602477112898136929 -> -8441167338211918213 [id=\"5602477112898136929.args[0]\"]\n\t-8441167338211918213 [label=\"Variable(4532312328)\" id=-8441167338211918213]\n\t-8027661977793249311 -> -5875775773204823162 [id=\"-1662407830212765793.args[1]\"]\n\t-5875775773204823162 [label=\"Maybe.just\" id=-5875775773204823162]\n\t-5875775773204823162 -> -36014167958209776 [id=\"-5875775773204823162.args[0]\"]\n\t-36014167958209776 [label=arange_ id=-36014167958209776]\n\t-36014167958209776 -> 5602477112898136929 [id=\"-36014167958209776.args[0]\"]\n\t132293261472413313 -> -3131809300698277100 [id=\"-7714184177713562882.args[1]\"]\n\t-3131809300698277100 [label=\"Integer.from_int\" id=-3131809300698277100]\n\t-3131809300698277100 -> 7929563447225870375 [id=\"-3131809300698277100.args[0]\"]\n\t7929563447225870375 [label=100 id=6695801540915528909]\n\t-6022807547901512444 -> 538172979487181565 [id=\"-4264090195847481250.args[1]\"]\n\t538172979487181565 [label=\"NDArrayCompat.from_ndarray\" id=-1625682492666313023]\n\t538172979487181565 -> 8522449151473608332 [id=\"-1625682492666313023.args[0]\"]\n\t8522449151473608332 [label=\"Maybe.just\" id=-7714184177713562882]\n\t8522449151473608332 -> 5668266280651108832 [id=\"-7714184177713562882.args[0]\"]\n\t5668266280651108832 [label=arange_ id=5668266280651108832]\n\t5668266280651108832 -> -3131809300698277100 [id=\"5668266280651108832.args[0]\"]\n\t-3924048906950690208 -> 8955685588577225007 [id=\"8502660837632541408.args[1]\"]\n\t8955685588577225007 [label=\"Maybe.just\" id=2695006792991180376]\n\t8955685588577225007 -> 3438482133718761997 [id=\"2695006792991180376.args[0]\"]\n\t3438482133718761997 [label=\"Either.left\" id=3438482133718761997]\n\t3438482133718761997 -> -1448899694609174123 [id=\"3438482133718761997.args[0]\"]\n\t-1448899694609174123 [label=\"Integer.from_int\" id=-1448899694609174123]\n\t-1448899694609174123 -> 7929563447330875300 [id=\"-1448899694609174123.args[0]\"]\n\t7929563447330875300 [label=5 id=8368899336284295099]\n\t-6898080762443331342 -> 3904670649235592956 [id=\"4035649169692160937.args[1]\"]\n\t3904670649235592956 [label=\"Maybe.nothing\" id=3904670649235592956]\n\t-6898080762443331342 -> -3979005081292367894 [id=\"4035649169692160937.args[2]\"]\n\t-3979005081292367894 [label=\"Abstraction.create\" id=-3979005081292367894]\n\t-3979005081292367894 -> -4515816141679379126 [id=\"-3979005081292367894.args[0]\"]\n\t-4515816141679379126 [label=\"Abstraction.create_variable\" id=-4515816141679379126]\n\t-4515816141679379126 -> -8441167332832851488 [id=\"-4515816141679379126.args[0]\"]\n\t-8441167332832851488 [label=\"Variable(4532424600)\" id=-8441167332832851488]\n\t-3979005081292367894 -> -3738442817099480136 [id=\"-3979005081292367894.args[1]\"]\n\t-3738442817099480136 [label=\"Maybe.just\" id=-3738442817099480136]\n\t-3738442817099480136 -> -3244667734406134969 [id=\"-3738442817099480136.args[0]\"]\n\t-3244667734406134969 [label=\"NDArray.__getitem__\" id=-3244667734406134969]\n\t-3244667734406134969 -> -7971745150971623974 [id=\"-3244667734406134969.args[0]\"]\n\t-7971745150971623974 [label=\"Pair.left\" id=-7971745150971623974]\n\t-7971745150971623974 -> -4515816141679379126 [id=\"-7971745150971623974.args[0]\"]\n\t-3244667734406134969 -> 6641299432733888386 [id=\"-3244667734406134969.args[1]\"]\n\t6641299432733888386 [label=\"Pair.right\" id=6641299432733888386]\n\t6641299432733888386 -> -4515816141679379126 [id=\"6641299432733888386.args[0]\"]\n}",
         "label": null,
         "rule": "metadsl_core.abstraction.compose"
        },
        {
         "graph": "digraph {\n\tnode [shape=plain]\n\tedge [arrowsize=0.5 penwidth=0.5]\n\t5970789552854311683 [label=\"NDArrayCompat.to_ndarray\" id=-5281961658848897139]\n\t5970789552854311683 -> -90314547274914256 [id=\"-5281961658848897139.args[0]\"]\n\t-90314547274914256 [label=\"NDArrayCompat.from_ndarray\" id=-9177130969686516551]\n\t-90314547274914256 -> -3387562152484636417 [id=\"-9177130969686516551.args[0]\"]\n\t-3387562152484636417 [label=\"Maybe.match\" id=4035649169692160937]\n\t-3387562152484636417 -> 2342498251596656547 [id=\"4035649169692160937.args[0]\"]\n\t2342498251596656547 [label=\"Maybe.__and__\" id=8502660837632541408]\n\t2342498251596656547 -> 7475225506484376816 [id=\"8502660837632541408.args[0]\"]\n\t7475225506484376816 [label=\"Converter.convert\" id=-4657327696202073921]\n\t7475225506484376816 -> -2148437186735635834 [id=\"-4657327696202073921.args[0]\"]\n\t-2148437186735635834 [label=\"NDArrayCompat.__add__\" id=-4264090195847481250]\n\t-2148437186735635834 -> 538172979487181565 [id=\"-4264090195847481250.args[0]\"]\n\t538172979487181565 [label=\"NDArrayCompat.from_ndarray\" id=-1625682492666313023]\n\t538172979487181565 -> 8522449151473608332 [id=\"-1625682492666313023.args[0]\"]\n\t8522449151473608332 [label=\"Maybe.just\" id=-7714184177713562882]\n\t8522449151473608332 -> 5668266280651108832 [id=\"-7714184177713562882.args[0]\"]\n\t5668266280651108832 [label=arange_ id=5668266280651108832]\n\t5668266280651108832 -> -3131809300698277100 [id=\"5668266280651108832.args[0]\"]\n\t-3131809300698277100 [label=\"Integer.from_int\" id=-3131809300698277100]\n\t-3131809300698277100 -> 7929563447225870375 [id=\"-3131809300698277100.args[0]\"]\n\t7929563447225870375 [label=100 id=6695801540915528909]\n\t-2148437186735635834 -> 538172979487181565 [id=\"-4264090195847481250.args[1]\"]\n\t2342498251596656547 -> 8955685588577225007 [id=\"8502660837632541408.args[1]\"]\n\t8955685588577225007 [label=\"Maybe.just\" id=2695006792991180376]\n\t8955685588577225007 -> 3438482133718761997 [id=\"2695006792991180376.args[0]\"]\n\t3438482133718761997 [label=\"Either.left\" id=3438482133718761997]\n\t3438482133718761997 -> -1448899694609174123 [id=\"3438482133718761997.args[0]\"]\n\t-1448899694609174123 [label=\"Integer.from_int\" id=-1448899694609174123]\n\t-1448899694609174123 -> 7929563447330875300 [id=\"-1448899694609174123.args[0]\"]\n\t7929563447330875300 [label=5 id=8368899336284295099]\n\t-3387562152484636417 -> 3904670649235592956 [id=\"4035649169692160937.args[1]\"]\n\t3904670649235592956 [label=\"Maybe.nothing\" id=3904670649235592956]\n\t-3387562152484636417 -> -3979005081292367894 [id=\"4035649169692160937.args[2]\"]\n\t-3979005081292367894 [label=\"Abstraction.create\" id=-3979005081292367894]\n\t-3979005081292367894 -> -4515816141679379126 [id=\"-3979005081292367894.args[0]\"]\n\t-4515816141679379126 [label=\"Abstraction.create_variable\" id=-4515816141679379126]\n\t-4515816141679379126 -> -8441167332832851488 [id=\"-4515816141679379126.args[0]\"]\n\t-8441167332832851488 [label=\"Variable(4532424600)\" id=-8441167332832851488]\n\t-3979005081292367894 -> -3738442817099480136 [id=\"-3979005081292367894.args[1]\"]\n\t-3738442817099480136 [label=\"Maybe.just\" id=-3738442817099480136]\n\t-3738442817099480136 -> -3244667734406134969 [id=\"-3738442817099480136.args[0]\"]\n\t-3244667734406134969 [label=\"NDArray.__getitem__\" id=-3244667734406134969]\n\t-3244667734406134969 -> -7971745150971623974 [id=\"-3244667734406134969.args[0]\"]\n\t-7971745150971623974 [label=\"Pair.left\" id=-7971745150971623974]\n\t-7971745150971623974 -> -4515816141679379126 [id=\"-7971745150971623974.args[0]\"]\n\t-3244667734406134969 -> 6641299432733888386 [id=\"-3244667734406134969.args[1]\"]\n\t6641299432733888386 [label=\"Pair.right\" id=6641299432733888386]\n\t6641299432733888386 -> -4515816141679379126 [id=\"6641299432733888386.args[0]\"]\n}",
         "label": null,
         "rule": "metadsl_core.abstraction.beta_reduce"
        },
        {
         "graph": "digraph {\n\tnode [shape=plain]\n\tedge [arrowsize=0.5 penwidth=0.5]\n\t-1887839988067155443 [label=\"NDArrayCompat.to_ndarray\" id=-5281961658848897139]\n\t-1887839988067155443 -> 8177597676630684467 [id=\"-5281961658848897139.args[0]\"]\n\t8177597676630684467 [label=\"NDArrayCompat.from_ndarray\" id=-9177130969686516551]\n\t8177597676630684467 -> -2401271500172572526 [id=\"-9177130969686516551.args[0]\"]\n\t-2401271500172572526 [label=\"Maybe.match\" id=4035649169692160937]\n\t-2401271500172572526 -> -5384039155452932543 [id=\"4035649169692160937.args[0]\"]\n\t-5384039155452932543 [label=\"Maybe.__and__\" id=8502660837632541408]\n\t-5384039155452932543 -> -3044042026182915790 [id=\"8502660837632541408.args[0]\"]\n\t-3044042026182915790 [label=\"Converter.convert\" id=-4657327696202073921]\n\t-3044042026182915790 -> 7411810815739975417 [id=\"-4657327696202073921.args[0]\"]\n\t7411810815739975417 [label=\"NDArrayCompat.from_ndarray\" id=-4264090195847481250]\n\t7411810815739975417 -> 8225854957596729840 [id=\"-4264090195847481250.args[0]\"]\n\t8225854957596729840 [label=\"Maybe.just\" id=-4657327696202073921]\n\t8225854957596729840 -> -3411503716089640314 [id=\"-4657327696202073921.args[0]\"]\n\t-3411503716089640314 [label=\"NDArray.__add__\" id=5755504588054598894]\n\t-3411503716089640314 -> 5668266280651108832 [id=\"5755504588054598894.args[0]\"]\n\t5668266280651108832 [label=arange_ id=5668266280651108832]\n\t5668266280651108832 -> -3131809300698277100 [id=\"5668266280651108832.args[0]\"]\n\t-3131809300698277100 [label=\"Integer.from_int\" id=-3131809300698277100]\n\t-3131809300698277100 -> 7929563447225870375 [id=\"-3131809300698277100.args[0]\"]\n\t7929563447225870375 [label=100 id=6695801540915528909]\n\t-3411503716089640314 -> 5668266280651108832 [id=\"5755504588054598894.args[1]\"]\n\t-5384039155452932543 -> 8955685588577225007 [id=\"8502660837632541408.args[1]\"]\n\t8955685588577225007 [label=\"Maybe.just\" id=2695006792991180376]\n\t8955685588577225007 -> 3438482133718761997 [id=\"2695006792991180376.args[0]\"]\n\t3438482133718761997 [label=\"Either.left\" id=3438482133718761997]\n\t3438482133718761997 -> -1448899694609174123 [id=\"3438482133718761997.args[0]\"]\n\t-1448899694609174123 [label=\"Integer.from_int\" id=-1448899694609174123]\n\t-1448899694609174123 -> 7929563447330875300 [id=\"-1448899694609174123.args[0]\"]\n\t7929563447330875300 [label=5 id=8368899336284295099]\n\t-2401271500172572526 -> 3904670649235592956 [id=\"4035649169692160937.args[1]\"]\n\t3904670649235592956 [label=\"Maybe.nothing\" id=3904670649235592956]\n\t-2401271500172572526 -> -3979005081292367894 [id=\"4035649169692160937.args[2]\"]\n\t-3979005081292367894 [label=\"Abstraction.create\" id=-3979005081292367894]\n\t-3979005081292367894 -> -4515816141679379126 [id=\"-3979005081292367894.args[0]\"]\n\t-4515816141679379126 [label=\"Abstraction.create_variable\" id=-4515816141679379126]\n\t-4515816141679379126 -> -8441167332832851488 [id=\"-4515816141679379126.args[0]\"]\n\t-8441167332832851488 [label=\"Variable(4532424600)\" id=-8441167332832851488]\n\t-3979005081292367894 -> -3738442817099480136 [id=\"-3979005081292367894.args[1]\"]\n\t-3738442817099480136 [label=\"Maybe.just\" id=-3738442817099480136]\n\t-3738442817099480136 -> -3244667734406134969 [id=\"-3738442817099480136.args[0]\"]\n\t-3244667734406134969 [label=\"NDArray.__getitem__\" id=-3244667734406134969]\n\t-3244667734406134969 -> -7971745150971623974 [id=\"-3244667734406134969.args[0]\"]\n\t-7971745150971623974 [label=\"Pair.left\" id=-7971745150971623974]\n\t-7971745150971623974 -> -4515816141679379126 [id=\"-7971745150971623974.args[0]\"]\n\t-3244667734406134969 -> 6641299432733888386 [id=\"-3244667734406134969.args[1]\"]\n\t6641299432733888386 [label=\"Pair.right\" id=6641299432733888386]\n\t6641299432733888386 -> -4515816141679379126 [id=\"6641299432733888386.args[0]\"]\n}",
         "label": null,
         "rule": "metadsl_core.numpy.add_compat"
        },
        {
         "graph": "digraph {\n\tnode [shape=plain]\n\tedge [arrowsize=0.5 penwidth=0.5]\n\t-7692020475537396670 [label=\"NDArrayCompat.to_ndarray\" id=-5281961658848897139]\n\t-7692020475537396670 -> 1992900434640576717 [id=\"-5281961658848897139.args[0]\"]\n\t1992900434640576717 [label=\"NDArrayCompat.from_ndarray\" id=-9177130969686516551]\n\t1992900434640576717 -> -2287343561468040193 [id=\"-9177130969686516551.args[0]\"]\n\t-2287343561468040193 [label=\"Maybe.match\" id=4035649169692160937]\n\t-2287343561468040193 -> 3276076990700150435 [id=\"4035649169692160937.args[0]\"]\n\t3276076990700150435 [label=\"Maybe.__and__\" id=8502660837632541408]\n\t3276076990700150435 -> 8225854957596729840 [id=\"8502660837632541408.args[0]\"]\n\t8225854957596729840 [label=\"Maybe.just\" id=-4657327696202073921]\n\t8225854957596729840 -> -3411503716089640314 [id=\"-4657327696202073921.args[0]\"]\n\t-3411503716089640314 [label=\"NDArray.__add__\" id=5755504588054598894]\n\t-3411503716089640314 -> 5668266280651108832 [id=\"5755504588054598894.args[0]\"]\n\t5668266280651108832 [label=arange_ id=5668266280651108832]\n\t5668266280651108832 -> -3131809300698277100 [id=\"5668266280651108832.args[0]\"]\n\t-3131809300698277100 [label=\"Integer.from_int\" id=-3131809300698277100]\n\t-3131809300698277100 -> 7929563447225870375 [id=\"-3131809300698277100.args[0]\"]\n\t7929563447225870375 [label=100 id=6695801540915528909]\n\t-3411503716089640314 -> 5668266280651108832 [id=\"5755504588054598894.args[1]\"]\n\t3276076990700150435 -> 8955685588577225007 [id=\"8502660837632541408.args[1]\"]\n\t8955685588577225007 [label=\"Maybe.just\" id=2695006792991180376]\n\t8955685588577225007 -> 3438482133718761997 [id=\"2695006792991180376.args[0]\"]\n\t3438482133718761997 [label=\"Either.left\" id=3438482133718761997]\n\t3438482133718761997 -> -1448899694609174123 [id=\"3438482133718761997.args[0]\"]\n\t-1448899694609174123 [label=\"Integer.from_int\" id=-1448899694609174123]\n\t-1448899694609174123 -> 7929563447330875300 [id=\"-1448899694609174123.args[0]\"]\n\t7929563447330875300 [label=5 id=8368899336284295099]\n\t-2287343561468040193 -> 3904670649235592956 [id=\"4035649169692160937.args[1]\"]\n\t3904670649235592956 [label=\"Maybe.nothing\" id=3904670649235592956]\n\t-2287343561468040193 -> -3979005081292367894 [id=\"4035649169692160937.args[2]\"]\n\t-3979005081292367894 [label=\"Abstraction.create\" id=-3979005081292367894]\n\t-3979005081292367894 -> -4515816141679379126 [id=\"-3979005081292367894.args[0]\"]\n\t-4515816141679379126 [label=\"Abstraction.create_variable\" id=-4515816141679379126]\n\t-4515816141679379126 -> -8441167332832851488 [id=\"-4515816141679379126.args[0]\"]\n\t-8441167332832851488 [label=\"Variable(4532424600)\" id=-8441167332832851488]\n\t-3979005081292367894 -> -3738442817099480136 [id=\"-3979005081292367894.args[1]\"]\n\t-3738442817099480136 [label=\"Maybe.just\" id=-3738442817099480136]\n\t-3738442817099480136 -> -3244667734406134969 [id=\"-3738442817099480136.args[0]\"]\n\t-3244667734406134969 [label=\"NDArray.__getitem__\" id=-3244667734406134969]\n\t-3244667734406134969 -> -7971745150971623974 [id=\"-3244667734406134969.args[0]\"]\n\t-7971745150971623974 [label=\"Pair.left\" id=-7971745150971623974]\n\t-7971745150971623974 -> -4515816141679379126 [id=\"-7971745150971623974.args[0]\"]\n\t-3244667734406134969 -> 6641299432733888386 [id=\"-3244667734406134969.args[1]\"]\n\t6641299432733888386 [label=\"Pair.right\" id=6641299432733888386]\n\t6641299432733888386 -> -4515816141679379126 [id=\"6641299432733888386.args[0]\"]\n}",
         "label": null,
         "rule": "metadsl_core.numpy.convert_to_ndarray"
        },
        {
         "graph": "digraph {\n\tnode [shape=plain]\n\tedge [arrowsize=0.5 penwidth=0.5]\n\t-2545139309697966504 [label=\"NDArrayCompat.to_ndarray\" id=-5281961658848897139]\n\t-2545139309697966504 -> 7721075201050541004 [id=\"-5281961658848897139.args[0]\"]\n\t7721075201050541004 [label=\"NDArrayCompat.from_ndarray\" id=-9177130969686516551]\n\t7721075201050541004 -> 483821876708433058 [id=\"-9177130969686516551.args[0]\"]\n\t483821876708433058 [label=\"Maybe.match\" id=4035649169692160937]\n\t483821876708433058 -> -3022580817830158000 [id=\"4035649169692160937.args[0]\"]\n\t-3022580817830158000 [label=\"Maybe.just\" id=8502660837632541408]\n\t-3022580817830158000 -> 3281441242190016612 [id=\"8502660837632541408.args[0]\"]\n\t3281441242190016612 [label=\"Pair.create\" id=3281441242190016612]\n\t3281441242190016612 -> -3411503716089640314 [id=\"3281441242190016612.args[0]\"]\n\t-3411503716089640314 [label=\"NDArray.__add__\" id=5755504588054598894]\n\t-3411503716089640314 -> 5668266280651108832 [id=\"5755504588054598894.args[0]\"]\n\t5668266280651108832 [label=arange_ id=5668266280651108832]\n\t5668266280651108832 -> -3131809300698277100 [id=\"5668266280651108832.args[0]\"]\n\t-3131809300698277100 [label=\"Integer.from_int\" id=-3131809300698277100]\n\t-3131809300698277100 -> 7929563447225870375 [id=\"-3131809300698277100.args[0]\"]\n\t7929563447225870375 [label=100 id=6695801540915528909]\n\t-3411503716089640314 -> 5668266280651108832 [id=\"5755504588054598894.args[1]\"]\n\t3281441242190016612 -> 3438482133718761997 [id=\"3281441242190016612.args[1]\"]\n\t3438482133718761997 [label=\"Either.left\" id=3438482133718761997]\n\t3438482133718761997 -> -1448899694609174123 [id=\"3438482133718761997.args[0]\"]\n\t-1448899694609174123 [label=\"Integer.from_int\" id=-1448899694609174123]\n\t-1448899694609174123 -> 7929563447330875300 [id=\"-1448899694609174123.args[0]\"]\n\t7929563447330875300 [label=5 id=8368899336284295099]\n\t483821876708433058 -> 3904670649235592956 [id=\"4035649169692160937.args[1]\"]\n\t3904670649235592956 [label=\"Maybe.nothing\" id=3904670649235592956]\n\t483821876708433058 -> -3979005081292367894 [id=\"4035649169692160937.args[2]\"]\n\t-3979005081292367894 [label=\"Abstraction.create\" id=-3979005081292367894]\n\t-3979005081292367894 -> -4515816141679379126 [id=\"-3979005081292367894.args[0]\"]\n\t-4515816141679379126 [label=\"Abstraction.create_variable\" id=-4515816141679379126]\n\t-4515816141679379126 -> -8441167332832851488 [id=\"-4515816141679379126.args[0]\"]\n\t-8441167332832851488 [label=\"Variable(4532424600)\" id=-8441167332832851488]\n\t-3979005081292367894 -> -3738442817099480136 [id=\"-3979005081292367894.args[1]\"]\n\t-3738442817099480136 [label=\"Maybe.just\" id=-3738442817099480136]\n\t-3738442817099480136 -> -3244667734406134969 [id=\"-3738442817099480136.args[0]\"]\n\t-3244667734406134969 [label=\"NDArray.__getitem__\" id=-3244667734406134969]\n\t-3244667734406134969 -> -7971745150971623974 [id=\"-3244667734406134969.args[0]\"]\n\t-7971745150971623974 [label=\"Pair.left\" id=-7971745150971623974]\n\t-7971745150971623974 -> -4515816141679379126 [id=\"-7971745150971623974.args[0]\"]\n\t-3244667734406134969 -> 6641299432733888386 [id=\"-3244667734406134969.args[1]\"]\n\t6641299432733888386 [label=\"Pair.right\" id=6641299432733888386]\n\t6641299432733888386 -> -4515816141679379126 [id=\"6641299432733888386.args[0]\"]\n}",
         "label": null,
         "rule": "metadsl_core.maybe.maybe_and"
        },
        {
         "graph": "digraph {\n\tnode [shape=plain]\n\tedge [arrowsize=0.5 penwidth=0.5]\n\t-8213289279091853680 [label=\"NDArrayCompat.to_ndarray\" id=-5281961658848897139]\n\t-8213289279091853680 -> -4054743589875753688 [id=\"-5281961658848897139.args[0]\"]\n\t-4054743589875753688 [label=\"NDArrayCompat.from_ndarray\" id=-9177130969686516551]\n\t-4054743589875753688 -> -1377547289922163818 [id=\"-9177130969686516551.args[0]\"]\n\t-1377547289922163818 [label=\"Abstraction.__call__\" id=4035649169692160937]\n\t-1377547289922163818 -> -3979005081292367894 [id=\"4035649169692160937.args[0]\"]\n\t-3979005081292367894 [label=\"Abstraction.create\" id=-3979005081292367894]\n\t-3979005081292367894 -> -4515816141679379126 [id=\"-3979005081292367894.args[0]\"]\n\t-4515816141679379126 [label=\"Abstraction.create_variable\" id=-4515816141679379126]\n\t-4515816141679379126 -> -8441167332832851488 [id=\"-4515816141679379126.args[0]\"]\n\t-8441167332832851488 [label=\"Variable(4532424600)\" id=-8441167332832851488]\n\t-3979005081292367894 -> -3738442817099480136 [id=\"-3979005081292367894.args[1]\"]\n\t-3738442817099480136 [label=\"Maybe.just\" id=-3738442817099480136]\n\t-3738442817099480136 -> -3244667734406134969 [id=\"-3738442817099480136.args[0]\"]\n\t-3244667734406134969 [label=\"NDArray.__getitem__\" id=-3244667734406134969]\n\t-3244667734406134969 -> -7971745150971623974 [id=\"-3244667734406134969.args[0]\"]\n\t-7971745150971623974 [label=\"Pair.left\" id=-7971745150971623974]\n\t-7971745150971623974 -> -4515816141679379126 [id=\"-7971745150971623974.args[0]\"]\n\t-3244667734406134969 -> 6641299432733888386 [id=\"-3244667734406134969.args[1]\"]\n\t6641299432733888386 [label=\"Pair.right\" id=6641299432733888386]\n\t6641299432733888386 -> -4515816141679379126 [id=\"6641299432733888386.args[0]\"]\n\t-1377547289922163818 -> 3281441242190016612 [id=\"4035649169692160937.args[1]\"]\n\t3281441242190016612 [label=\"Pair.create\" id=3281441242190016612]\n\t3281441242190016612 -> -3411503716089640314 [id=\"3281441242190016612.args[0]\"]\n\t-3411503716089640314 [label=\"NDArray.__add__\" id=5755504588054598894]\n\t-3411503716089640314 -> 5668266280651108832 [id=\"5755504588054598894.args[0]\"]\n\t5668266280651108832 [label=arange_ id=5668266280651108832]\n\t5668266280651108832 -> -3131809300698277100 [id=\"5668266280651108832.args[0]\"]\n\t-3131809300698277100 [label=\"Integer.from_int\" id=-3131809300698277100]\n\t-3131809300698277100 -> 7929563447225870375 [id=\"-3131809300698277100.args[0]\"]\n\t7929563447225870375 [label=100 id=6695801540915528909]\n\t-3411503716089640314 -> 5668266280651108832 [id=\"5755504588054598894.args[1]\"]\n\t3281441242190016612 -> 3438482133718761997 [id=\"3281441242190016612.args[1]\"]\n\t3438482133718761997 [label=\"Either.left\" id=3438482133718761997]\n\t3438482133718761997 -> -1448899694609174123 [id=\"3438482133718761997.args[0]\"]\n\t-1448899694609174123 [label=\"Integer.from_int\" id=-1448899694609174123]\n\t-1448899694609174123 -> 7929563447330875300 [id=\"-1448899694609174123.args[0]\"]\n\t7929563447330875300 [label=5 id=8368899336284295099]\n}",
         "label": null,
         "rule": "metadsl_core.maybe.maybe_match"
        },
        {
         "graph": "digraph {\n\tnode [shape=plain]\n\tedge [arrowsize=0.5 penwidth=0.5]\n\t-7442556872907999520 [label=\"NDArrayCompat.to_ndarray\" id=-5281961658848897139]\n\t-7442556872907999520 -> 7604809585525828148 [id=\"-5281961658848897139.args[0]\"]\n\t7604809585525828148 [label=\"NDArrayCompat.from_ndarray\" id=-9177130969686516551]\n\t7604809585525828148 -> 7576600612786205063 [id=\"-9177130969686516551.args[0]\"]\n\t7576600612786205063 [label=\"Maybe.just\" id=4035649169692160937]\n\t7576600612786205063 -> 1706398612661724173 [id=\"4035649169692160937.args[0]\"]\n\t1706398612661724173 [label=\"NDArray.__getitem__\" id=1706398612661724173]\n\t1706398612661724173 -> 5755504588054598894 [id=\"1706398612661724173.args[0]\"]\n\t5755504588054598894 [label=\"Pair.left\" id=5755504588054598894]\n\t5755504588054598894 -> 3281441242190016612 [id=\"5755504588054598894.args[0]\"]\n\t3281441242190016612 [label=\"Pair.create\" id=3281441242190016612]\n\t3281441242190016612 -> -3411503716089640314 [id=\"3281441242190016612.args[0]\"]\n\t-3411503716089640314 [label=\"NDArray.__add__\" id=5755504588054598894]\n\t-3411503716089640314 -> 5668266280651108832 [id=\"5755504588054598894.args[0]\"]\n\t5668266280651108832 [label=arange_ id=5668266280651108832]\n\t5668266280651108832 -> -3131809300698277100 [id=\"5668266280651108832.args[0]\"]\n\t-3131809300698277100 [label=\"Integer.from_int\" id=-3131809300698277100]\n\t-3131809300698277100 -> 7929563447225870375 [id=\"-3131809300698277100.args[0]\"]\n\t7929563447225870375 [label=100 id=6695801540915528909]\n\t-3411503716089640314 -> 5668266280651108832 [id=\"5755504588054598894.args[1]\"]\n\t3281441242190016612 -> 3438482133718761997 [id=\"3281441242190016612.args[1]\"]\n\t3438482133718761997 [label=\"Either.left\" id=3438482133718761997]\n\t3438482133718761997 -> -1448899694609174123 [id=\"3438482133718761997.args[0]\"]\n\t-1448899694609174123 [label=\"Integer.from_int\" id=-1448899694609174123]\n\t-1448899694609174123 -> 7929563447330875300 [id=\"-1448899694609174123.args[0]\"]\n\t7929563447330875300 [label=5 id=8368899336284295099]\n\t1706398612661724173 -> -7696148307407477498 [id=\"1706398612661724173.args[1]\"]\n\t-7696148307407477498 [label=\"Pair.right\" id=-7696148307407477498]\n\t-7696148307407477498 -> 3281441242190016612 [id=\"-7696148307407477498.args[0]\"]\n}",
         "label": null,
         "rule": "metadsl_core.abstraction.beta_reduce"
        },
        {
         "graph": "digraph {\n\tnode [shape=plain]\n\tedge [arrowsize=0.5 penwidth=0.5]\n\t3497394292135972729 [label=\"NDArrayCompat.to_ndarray\" id=-5281961658848897139]\n\t3497394292135972729 -> 8145083593342055103 [id=\"-5281961658848897139.args[0]\"]\n\t8145083593342055103 [label=\"NDArrayCompat.from_ndarray\" id=-9177130969686516551]\n\t8145083593342055103 -> -8020584022532179864 [id=\"-9177130969686516551.args[0]\"]\n\t-8020584022532179864 [label=\"Maybe.just\" id=4035649169692160937]\n\t-8020584022532179864 -> 1510050165098996054 [id=\"4035649169692160937.args[0]\"]\n\t1510050165098996054 [label=\"NDArray.__getitem__\" id=1706398612661724173]\n\t1510050165098996054 -> 5755504588054598894 [id=\"1706398612661724173.args[0]\"]\n\t5755504588054598894 [label=\"Pair.left\" id=5755504588054598894]\n\t5755504588054598894 -> 3281441242190016612 [id=\"5755504588054598894.args[0]\"]\n\t3281441242190016612 [label=\"Pair.create\" id=3281441242190016612]\n\t3281441242190016612 -> -3411503716089640314 [id=\"3281441242190016612.args[0]\"]\n\t-3411503716089640314 [label=\"NDArray.__add__\" id=5755504588054598894]\n\t-3411503716089640314 -> 5668266280651108832 [id=\"5755504588054598894.args[0]\"]\n\t5668266280651108832 [label=arange_ id=5668266280651108832]\n\t5668266280651108832 -> -3131809300698277100 [id=\"5668266280651108832.args[0]\"]\n\t-3131809300698277100 [label=\"Integer.from_int\" id=-3131809300698277100]\n\t-3131809300698277100 -> 7929563447225870375 [id=\"-3131809300698277100.args[0]\"]\n\t7929563447225870375 [label=100 id=6695801540915528909]\n\t-3411503716089640314 -> 5668266280651108832 [id=\"5755504588054598894.args[1]\"]\n\t3281441242190016612 -> 3438482133718761997 [id=\"3281441242190016612.args[1]\"]\n\t3438482133718761997 [label=\"Either.left\" id=3438482133718761997]\n\t3438482133718761997 -> -1448899694609174123 [id=\"3438482133718761997.args[0]\"]\n\t-1448899694609174123 [label=\"Integer.from_int\" id=-1448899694609174123]\n\t-1448899694609174123 -> 7929563447330875300 [id=\"-1448899694609174123.args[0]\"]\n\t7929563447330875300 [label=5 id=8368899336284295099]\n\t1510050165098996054 -> 3438482133718761997 [id=\"1706398612661724173.args[1]\"]\n}",
         "label": null,
         "rule": "metadsl_core.pair.pair_right"
        },
        {
         "graph": "digraph {\n\tnode [shape=plain]\n\tedge [arrowsize=0.5 penwidth=0.5]\n\t7892748191390383189 [label=\"NDArrayCompat.to_ndarray\" id=-5281961658848897139]\n\t7892748191390383189 -> -2407715966420202401 [id=\"-5281961658848897139.args[0]\"]\n\t-2407715966420202401 [label=\"NDArrayCompat.from_ndarray\" id=-9177130969686516551]\n\t-2407715966420202401 -> 232939652242167621 [id=\"-9177130969686516551.args[0]\"]\n\t232939652242167621 [label=\"Maybe.just\" id=4035649169692160937]\n\t232939652242167621 -> 167139333153174711 [id=\"4035649169692160937.args[0]\"]\n\t167139333153174711 [label=\"NDArray.__getitem__\" id=1706398612661724173]\n\t167139333153174711 -> -3411503716089640314 [id=\"1706398612661724173.args[0]\"]\n\t-3411503716089640314 [label=\"NDArray.__add__\" id=5755504588054598894]\n\t-3411503716089640314 -> 5668266280651108832 [id=\"5755504588054598894.args[0]\"]\n\t5668266280651108832 [label=arange_ id=5668266280651108832]\n\t5668266280651108832 -> -3131809300698277100 [id=\"5668266280651108832.args[0]\"]\n\t-3131809300698277100 [label=\"Integer.from_int\" id=-3131809300698277100]\n\t-3131809300698277100 -> 7929563447225870375 [id=\"-3131809300698277100.args[0]\"]\n\t7929563447225870375 [label=100 id=6695801540915528909]\n\t-3411503716089640314 -> 5668266280651108832 [id=\"5755504588054598894.args[1]\"]\n\t167139333153174711 -> 3438482133718761997 [id=\"1706398612661724173.args[1]\"]\n\t3438482133718761997 [label=\"Either.left\" id=3438482133718761997]\n\t3438482133718761997 -> -1448899694609174123 [id=\"3438482133718761997.args[0]\"]\n\t-1448899694609174123 [label=\"Integer.from_int\" id=-1448899694609174123]\n\t-1448899694609174123 -> 7929563447330875300 [id=\"-1448899694609174123.args[0]\"]\n\t7929563447330875300 [label=5 id=8368899336284295099]\n}",
         "label": null,
         "rule": "metadsl_core.pair.pair_left"
        },
        {
         "graph": "digraph {\n\tnode [shape=plain]\n\tedge [arrowsize=0.5 penwidth=0.5]\n\t-1877078773385754871 [label=\"NDArrayCompat.to_ndarray\" id=-5281961658848897139]\n\t-1877078773385754871 -> 7130961231851722511 [id=\"-5281961658848897139.args[0]\"]\n\t7130961231851722511 [label=\"NDArrayCompat.from_ndarray\" id=-9177130969686516551]\n\t7130961231851722511 -> -733937185094673067 [id=\"-9177130969686516551.args[0]\"]\n\t-733937185094673067 [label=\"Maybe.just\" id=4035649169692160937]\n\t-733937185094673067 -> 7373952721722758372 [id=\"4035649169692160937.args[0]\"]\n\t7373952721722758372 [label=\"NDArray.__add__\" id=7373952721722758372]\n\t7373952721722758372 -> 4074577022649293540 [id=\"7373952721722758372.args[0]\"]\n\t4074577022649293540 [label=\"NDArray.__getitem__\" id=4074577022649293540]\n\t4074577022649293540 -> 5668266280651108832 [id=\"4074577022649293540.args[0]\"]\n\t5668266280651108832 [label=arange_ id=5668266280651108832]\n\t5668266280651108832 -> -3131809300698277100 [id=\"5668266280651108832.args[0]\"]\n\t-3131809300698277100 [label=\"Integer.from_int\" id=-3131809300698277100]\n\t-3131809300698277100 -> 7929563447225870375 [id=\"-3131809300698277100.args[0]\"]\n\t7929563447225870375 [label=100 id=6695801540915528909]\n\t4074577022649293540 -> 3438482133718761997 [id=\"4074577022649293540.args[1]\"]\n\t3438482133718761997 [label=\"Either.left\" id=3438482133718761997]\n\t3438482133718761997 -> -1448899694609174123 [id=\"3438482133718761997.args[0]\"]\n\t-1448899694609174123 [label=\"Integer.from_int\" id=-1448899694609174123]\n\t-1448899694609174123 -> 7929563447330875300 [id=\"-1448899694609174123.args[0]\"]\n\t7929563447330875300 [label=5 id=8368899336284295099]\n\t7373952721722758372 -> 4074577022649293540 [id=\"7373952721722758372.args[1]\"]\n}",
         "label": null,
         "rule": "__main__.optimize_getitem_add"
        },
        {
         "graph": "digraph {\n\tnode [shape=plain]\n\tedge [arrowsize=0.5 penwidth=0.5]\n\t-1877078773385754871 [label=\"NDArrayCompat.to_ndarray\" id=-5281961658848897139]\n\t-1877078773385754871 -> 7130961231851722511 [id=\"-5281961658848897139.args[0]\"]\n\t7130961231851722511 [label=\"NDArrayCompat.from_ndarray\" id=-9177130969686516551]\n\t7130961231851722511 -> -733937185094673067 [id=\"-9177130969686516551.args[0]\"]\n\t-733937185094673067 [label=\"Maybe.just\" id=4035649169692160937]\n\t-733937185094673067 -> 7373952721722758372 [id=\"4035649169692160937.args[0]\"]\n\t7373952721722758372 [label=\"NDArray.__add__\" id=7373952721722758372]\n\t7373952721722758372 -> 4074577022649293540 [id=\"7373952721722758372.args[0]\"]\n\t4074577022649293540 [label=\"NDArray.__getitem__\" id=4074577022649293540]\n\t4074577022649293540 -> 5668266280651108832 [id=\"4074577022649293540.args[0]\"]\n\t5668266280651108832 [label=arange_ id=5668266280651108832]\n\t5668266280651108832 -> -3131809300698277100 [id=\"5668266280651108832.args[0]\"]\n\t-3131809300698277100 [label=\"Integer.from_int\" id=-3131809300698277100]\n\t-3131809300698277100 -> 7929563447225870375 [id=\"-3131809300698277100.args[0]\"]\n\t7929563447225870375 [label=100 id=6695801540915528909]\n\t4074577022649293540 -> 3438482133718761997 [id=\"4074577022649293540.args[1]\"]\n\t3438482133718761997 [label=\"Either.left\" id=3438482133718761997]\n\t3438482133718761997 -> -1448899694609174123 [id=\"3438482133718761997.args[0]\"]\n\t-1448899694609174123 [label=\"Integer.from_int\" id=-1448899694609174123]\n\t-1448899694609174123 -> 7929563447330875300 [id=\"-1448899694609174123.args[0]\"]\n\t7929563447330875300 [label=5 id=8368899336284295099]\n\t7373952721722758372 -> 4074577022649293540 [id=\"7373952721722758372.args[1]\"]\n}",
         "label": "convert",
         "rule": ""
        },
        {
         "graph": "digraph {\n\tnode [shape=plain]\n\tedge [arrowsize=0.5 penwidth=0.5]\n\t3904821806622877777 [label=\"NDArray.to_ndarray\" id=-5281961658848897139]\n\t3904821806622877777 -> 7373952721722758372 [id=\"-5281961658848897139.args[0]\"]\n\t7373952721722758372 [label=\"NDArray.__add__\" id=7373952721722758372]\n\t7373952721722758372 -> 4074577022649293540 [id=\"7373952721722758372.args[0]\"]\n\t4074577022649293540 [label=\"NDArray.__getitem__\" id=4074577022649293540]\n\t4074577022649293540 -> 5668266280651108832 [id=\"4074577022649293540.args[0]\"]\n\t5668266280651108832 [label=arange_ id=5668266280651108832]\n\t5668266280651108832 -> -3131809300698277100 [id=\"5668266280651108832.args[0]\"]\n\t-3131809300698277100 [label=\"Integer.from_int\" id=-3131809300698277100]\n\t-3131809300698277100 -> 7929563447225870375 [id=\"-3131809300698277100.args[0]\"]\n\t7929563447225870375 [label=100 id=6695801540915528909]\n\t4074577022649293540 -> 3438482133718761997 [id=\"4074577022649293540.args[1]\"]\n\t3438482133718761997 [label=\"Either.left\" id=3438482133718761997]\n\t3438482133718761997 -> -1448899694609174123 [id=\"3438482133718761997.args[0]\"]\n\t-1448899694609174123 [label=\"Integer.from_int\" id=-1448899694609174123]\n\t-1448899694609174123 -> 7929563447330875300 [id=\"-1448899694609174123.args[0]\"]\n\t7929563447330875300 [label=5 id=8368899336284295099]\n\t7373952721722758372 -> 4074577022649293540 [id=\"7373952721722758372.args[1]\"]\n}",
         "label": null,
         "rule": "metadsl_core.numpy.box_unbox_ndarray_compat"
        },
        {
         "graph": "digraph {\n\tnode [shape=plain]\n\tedge [arrowsize=0.5 penwidth=0.5]\n\t-5034921434684324421 [label=ndarray_add id=-5281961658848897139]\n\t-5034921434684324421 -> -723946642597332421 [id=\"-5281961658848897139.args[0]\"]\n\t-723946642597332421 [label=\"NDArray.to_ndarray\" id=-723946642597332421]\n\t-723946642597332421 -> 4074577022649293540 [id=\"-723946642597332421.args[0]\"]\n\t4074577022649293540 [label=\"NDArray.__getitem__\" id=4074577022649293540]\n\t4074577022649293540 -> 5668266280651108832 [id=\"4074577022649293540.args[0]\"]\n\t5668266280651108832 [label=arange_ id=5668266280651108832]\n\t5668266280651108832 -> -3131809300698277100 [id=\"5668266280651108832.args[0]\"]\n\t-3131809300698277100 [label=\"Integer.from_int\" id=-3131809300698277100]\n\t-3131809300698277100 -> 7929563447225870375 [id=\"-3131809300698277100.args[0]\"]\n\t7929563447225870375 [label=100 id=6695801540915528909]\n\t4074577022649293540 -> 3438482133718761997 [id=\"4074577022649293540.args[1]\"]\n\t3438482133718761997 [label=\"Either.left\" id=3438482133718761997]\n\t3438482133718761997 -> -1448899694609174123 [id=\"3438482133718761997.args[0]\"]\n\t-1448899694609174123 [label=\"Integer.from_int\" id=-1448899694609174123]\n\t-1448899694609174123 -> 7929563447330875300 [id=\"-1448899694609174123.args[0]\"]\n\t7929563447330875300 [label=5 id=8368899336284295099]\n\t-5034921434684324421 -> -723946642597332421 [id=\"-5281961658848897139.args[1]\"]\n}",
         "label": null,
         "rule": "metadsl_core.numpy_engine.unbox_ndarray_add"
        },
        {
         "graph": "digraph {\n\tnode [shape=plain]\n\tedge [arrowsize=0.5 penwidth=0.5]\n\t-1235563763381942461 [label=ndarray_add id=-5281961658848897139]\n\t-1235563763381942461 -> -4529994381046582686 [id=\"-5281961658848897139.args[0]\"]\n\t-4529994381046582686 [label=ndarray_getitem id=-723946642597332421]\n\t-4529994381046582686 -> 1478565890208829064 [id=\"-723946642597332421.args[0]\"]\n\t1478565890208829064 [label=\"NDArray.to_ndarray\" id=1478565890208829064]\n\t1478565890208829064 -> 5668266280651108832 [id=\"1478565890208829064.args[0]\"]\n\t5668266280651108832 [label=arange_ id=5668266280651108832]\n\t5668266280651108832 -> -3131809300698277100 [id=\"5668266280651108832.args[0]\"]\n\t-3131809300698277100 [label=\"Integer.from_int\" id=-3131809300698277100]\n\t-3131809300698277100 -> 7929563447225870375 [id=\"-3131809300698277100.args[0]\"]\n\t7929563447225870375 [label=100 id=6695801540915528909]\n\t-4529994381046582686 -> 8368899336284295099 [id=\"-723946642597332421.args[1]\"]\n\t8368899336284295099 [label=unbox_idxs id=8368899336284295099]\n\t8368899336284295099 -> 3438482133718761997 [id=\"8368899336284295099.args[0]\"]\n\t3438482133718761997 [label=\"Either.left\" id=3438482133718761997]\n\t3438482133718761997 -> -1448899694609174123 [id=\"3438482133718761997.args[0]\"]\n\t-1448899694609174123 [label=\"Integer.from_int\" id=-1448899694609174123]\n\t-1448899694609174123 -> 7929563447330875300 [id=\"-1448899694609174123.args[0]\"]\n\t7929563447330875300 [label=5 id=8368899336284295099]\n\t-1235563763381942461 -> -4529994381046582686 [id=\"-5281961658848897139.args[1]\"]\n}",
         "label": null,
         "rule": "metadsl_core.numpy_engine.unbox_ndarray_getitem"
        },
        {
         "graph": "digraph {\n\tnode [shape=plain]\n\tedge [arrowsize=0.5 penwidth=0.5]\n\t-1793125784451659429 [label=ndarray_add id=-5281961658848897139]\n\t-1793125784451659429 -> 7498594492410777200 [id=\"-5281961658848897139.args[0]\"]\n\t7498594492410777200 [label=ndarray_getitem id=-723946642597332421]\n\t7498594492410777200 -> 1478565890208829064 [id=\"-723946642597332421.args[0]\"]\n\t1478565890208829064 [label=\"NDArray.to_ndarray\" id=1478565890208829064]\n\t1478565890208829064 -> 5668266280651108832 [id=\"1478565890208829064.args[0]\"]\n\t5668266280651108832 [label=arange_ id=5668266280651108832]\n\t5668266280651108832 -> -3131809300698277100 [id=\"5668266280651108832.args[0]\"]\n\t-3131809300698277100 [label=\"Integer.from_int\" id=-3131809300698277100]\n\t-3131809300698277100 -> 7929563447225870375 [id=\"-3131809300698277100.args[0]\"]\n\t7929563447225870375 [label=100 id=6695801540915528909]\n\t7498594492410777200 -> -8591904898952679221 [id=\"-723946642597332421.args[1]\"]\n\t-8591904898952679221 [label=unbox_integer id=8368899336284295099]\n\t-8591904898952679221 -> -1448899694609174123 [id=\"8368899336284295099.args[0]\"]\n\t-1448899694609174123 [label=\"Integer.from_int\" id=-1448899694609174123]\n\t-1448899694609174123 -> 7929563447330875300 [id=\"-1448899694609174123.args[0]\"]\n\t7929563447330875300 [label=5 id=8368899336284295099]\n\t-1793125784451659429 -> 7498594492410777200 [id=\"-5281961658848897139.args[1]\"]\n}",
         "label": null,
         "rule": "metadsl_core.numpy_engine.unbox_idxs_rule"
        },
        {
         "graph": "digraph {\n\tnode [shape=plain]\n\tedge [arrowsize=0.5 penwidth=0.5]\n\t-5949359165855776123 [label=ndarray_add id=-5281961658848897139]\n\t-5949359165855776123 -> 8763410445298449381 [id=\"-5281961658848897139.args[0]\"]\n\t8763410445298449381 [label=ndarray_getitem id=-723946642597332421]\n\t8763410445298449381 -> 1478565890208829064 [id=\"-723946642597332421.args[0]\"]\n\t1478565890208829064 [label=\"NDArray.to_ndarray\" id=1478565890208829064]\n\t1478565890208829064 -> 5668266280651108832 [id=\"1478565890208829064.args[0]\"]\n\t5668266280651108832 [label=arange_ id=5668266280651108832]\n\t5668266280651108832 -> -3131809300698277100 [id=\"5668266280651108832.args[0]\"]\n\t-3131809300698277100 [label=\"Integer.from_int\" id=-3131809300698277100]\n\t-3131809300698277100 -> 7929563447225870375 [id=\"-3131809300698277100.args[0]\"]\n\t7929563447225870375 [label=100 id=6695801540915528909]\n\t8763410445298449381 -> 7929563447330875300 [id=\"-723946642597332421.args[1]\"]\n\t7929563447330875300 [label=5 id=8368899336284295099]\n\t-5949359165855776123 -> 8763410445298449381 [id=\"-5281961658848897139.args[1]\"]\n}",
         "label": null,
         "rule": "metadsl_core.numpy_engine.unbox_integer_rule"
        },
        {
         "graph": "digraph {\n\tnode [shape=plain]\n\tedge [arrowsize=0.5 penwidth=0.5]\n\t-2285846794637674533 [label=ndarray_add id=-5281961658848897139]\n\t-2285846794637674533 -> 3455548431527478986 [id=\"-5281961658848897139.args[0]\"]\n\t3455548431527478986 [label=ndarray_getitem id=-723946642597332421]\n\t3455548431527478986 -> 1888482096358126515 [id=\"-723946642597332421.args[0]\"]\n\t1888482096358126515 [label=arange id=1478565890208829064]\n\t1888482096358126515 -> 6695801540915528909 [id=\"1478565890208829064.args[0]\"]\n\t6695801540915528909 [label=unbox_integer id=6695801540915528909]\n\t6695801540915528909 -> -3131809300698277100 [id=\"6695801540915528909.args[0]\"]\n\t-3131809300698277100 [label=\"Integer.from_int\" id=-3131809300698277100]\n\t-3131809300698277100 -> 7929563447225870375 [id=\"-3131809300698277100.args[0]\"]\n\t7929563447225870375 [label=100 id=6695801540915528909]\n\t3455548431527478986 -> 7929563447330875300 [id=\"-723946642597332421.args[1]\"]\n\t7929563447330875300 [label=5 id=8368899336284295099]\n\t-2285846794637674533 -> 3455548431527478986 [id=\"-5281961658848897139.args[1]\"]\n}",
         "label": null,
         "rule": "metadsl_core.numpy_engine.unbox_arange"
        },
        {
         "graph": "digraph {\n\tnode [shape=plain]\n\tedge [arrowsize=0.5 penwidth=0.5]\n\t-4578509408724638683 [label=ndarray_add id=-5281961658848897139]\n\t-4578509408724638683 -> 5173449264886962518 [id=\"-5281961658848897139.args[0]\"]\n\t5173449264886962518 [label=ndarray_getitem id=-723946642597332421]\n\t5173449264886962518 -> -7172645340293335110 [id=\"-723946642597332421.args[0]\"]\n\t-7172645340293335110 [label=arange id=1478565890208829064]\n\t-7172645340293335110 -> 7929563447225870375 [id=\"1478565890208829064.args[0]\"]\n\t7929563447225870375 [label=100 id=6695801540915528909]\n\t5173449264886962518 -> 7929563447330875300 [id=\"-723946642597332421.args[1]\"]\n\t7929563447330875300 [label=5 id=8368899336284295099]\n\t-4578509408724638683 -> 5173449264886962518 [id=\"-5281961658848897139.args[1]\"]\n}",
         "label": null,
         "rule": "metadsl_core.numpy_engine.unbox_integer_rule"
        },
        {
         "graph": "digraph {\n\tnode [shape=plain]\n\tedge [arrowsize=0.5 penwidth=0.5]\n\t-4578509408724638683 [label=ndarray_add id=-5281961658848897139]\n\t-4578509408724638683 -> 5173449264886962518 [id=\"-5281961658848897139.args[0]\"]\n\t5173449264886962518 [label=ndarray_getitem id=-723946642597332421]\n\t5173449264886962518 -> -7172645340293335110 [id=\"-723946642597332421.args[0]\"]\n\t-7172645340293335110 [label=arange id=1478565890208829064]\n\t-7172645340293335110 -> 7929563447225870375 [id=\"1478565890208829064.args[0]\"]\n\t7929563447225870375 [label=100 id=6695801540915528909]\n\t5173449264886962518 -> 7929563447330875300 [id=\"-723946642597332421.args[1]\"]\n\t7929563447330875300 [label=5 id=8368899336284295099]\n\t-4578509408724638683 -> 5173449264886962518 [id=\"-5281961658848897139.args[1]\"]\n}",
         "label": "unbox",
         "rule": ""
        },
        {
         "graph": "digraph {\n\tnode [shape=plain]\n\tedge [arrowsize=0.5 penwidth=0.5]\n\t-8880940085851648301 [label=ndarray_add id=-5281961658848897139]\n\t-8880940085851648301 -> 2894871816508087462 [id=\"-5281961658848897139.args[0]\"]\n\t2894871816508087462 [label=ndarray_getitem id=-723946642597332421]\n\t2894871816508087462 -> 4681656829173886725 [id=\"-723946642597332421.args[0]\"]\n\t4681656829173886725 [label=\"array([ 0,  1,  2,  3,  4,  5,  6,  7,  8,  9, 10, 11, 12, 13, 14, 15, 16,\n       17, 18, 19, 20, 21, 22, 23, 24, 25, 26, 27, 28, 29, 30, 31, 32, 33,\n       34, 35, 36, 37, 38, 39, 40, 41, 42, 43, 44, 45, 46, 47, 48, 49, 50,\n       51, 52, 53, 54, 55, 56, 57, 58, 59, 60, 61, 62, 63, 64, 65, 66, 67,\n       68, 69, 70, 71, 72, 73, 74, 75, 76, 77, 78, 79, 80, 81, 82, 83, 84,\n       85, 86, 87, 88, 89, 90, 91, 92, 93, 94, 95, 96, 97, 98, 99])\" id=1478565890208829064]\n\t2894871816508087462 -> 7929563447330875300 [id=\"-723946642597332421.args[1]\"]\n\t7929563447330875300 [label=5 id=8368899336284295099]\n\t-8880940085851648301 -> 2894871816508087462 [id=\"-5281961658848897139.args[1]\"]\n}",
         "label": null,
         "rule": "metadsl_core.numpy_engine.arange"
        },
        {
         "graph": "digraph {\n\tnode [shape=plain]\n\tedge [arrowsize=0.5 penwidth=0.5]\n\t8331835693138365875 [label=ndarray_add id=-5281961658848897139]\n\t8331835693138365875 -> 4681656006991819125 [id=\"-5281961658848897139.args[0]\"]\n\t4681656006991819125 [label=\"array(5)\" id=-723946642597332421]\n\t8331835693138365875 -> 4681656006991819125 [id=\"-5281961658848897139.args[1]\"]\n}",
         "label": null,
         "rule": "metadsl_core.numpy_engine.ndarray_getitem"
        },
        {
         "graph": "digraph {\n\tnode [shape=plain]\n\tedge [arrowsize=0.5 penwidth=0.5]\n\t-4499179060701053183 [label=10 id=-5281961658848897139]\n}",
         "label": null,
         "rule": "metadsl_core.numpy_engine.ndarray_add"
        },
        {
         "graph": "digraph {\n\tnode [shape=plain]\n\tedge [arrowsize=0.5 penwidth=0.5]\n\t-4499179060701053183 [label=10 id=-5281961658848897139]\n}",
         "label": "execute",
         "rule": ""
        }
       ]
      },
      "text/plain": [
       "Typez(definitions=None, nodes={'7929563447225870375': ['6695801540915528909', PrimitiveNode(type='int', repr='100')], '5957414941209220213': ['5957414941209220213', CallNode(function='arange', type_params=None, args=['7929563447225870375'], kwargs=None)], '-2392957684524066418': ['-2392957684524066418', CallNode(function='NDArrayCompat.__add__', type_params=None, args=['5957414941209220213', '5957414941209220213'], kwargs=None)], '7929563447330875300': ['8368899336284295099', PrimitiveNode(type='int', repr='5')], '-9177130969686516551': ['-9177130969686516551', CallNode(function='NDArrayCompat.__getitem__', type_params=None, args=['-2392957684524066418', '7929563447330875300'], kwargs=None)], '-5281961658848897139': ['-5281961658848897139', CallNode(function='NDArrayCompat.to_ndarray', type_params=None, args=['-9177130969686516551'], kwargs=None)], '-1731939772881271889': ['-1731939772881271889', CallNode(function='Converter.convert', type_params={'T': DeclaredTypeInstance(type='NDArray', params=None)}, args=['-2392957684524066418'], kwargs=None)], '-3416066141267607679': ['-3416066141267607679', CallNode(function='Converter.convert', type_params={'T': DeclaredTypeInstance(type='Either', params={'U': DeclaredTypeInstance(type='Vec', params={'T': DeclaredTypeInstance(type='Integer', params=None)}), 'T': DeclaredTypeInstance(type='Integer', params=None)})}, args=['7929563447330875300'], kwargs=None)], '-8549068771019930555': ['-8549068771019930555', CallNode(function='Maybe.__and__', type_params={'T': DeclaredTypeInstance(type='NDArray', params=None)}, args=['-1731939772881271889', '-3416066141267607679'], kwargs=None)], '-1293522413629507583': ['-1293522413629507583', PrimitiveNode(type='function', repr='<function NDArrayCompat.__getitem__.<locals>.<lambda> at 0x10e2b4b70>')], '6494948380406284327': ['6494948380406284327', CallNode(function='Abstraction.from_fn', type_params={'U': DeclaredTypeInstance(type='NDArray', params=None), 'T': DeclaredTypeInstance(type='Pair', params={'U': DeclaredTypeInstance(type='Either', params={'U': DeclaredTypeInstance(type='Vec', params={'T': DeclaredTypeInstance(type='Integer', params=None)}), 'T': DeclaredTypeInstance(type='Integer', params=None)}), 'T': DeclaredTypeInstance(type='NDArray', params=None)})}, args=['-1293522413629507583'], kwargs=None)], '4035649169692160937': ['4035649169692160937', CallNode(function='Maybe.map', type_params={'T': DeclaredTypeInstance(type='Pair', params={'U': DeclaredTypeInstance(type='Either', params={'U': DeclaredTypeInstance(type='Vec', params={'T': DeclaredTypeInstance(type='Integer', params=None)}), 'T': DeclaredTypeInstance(type='Integer', params=None)}), 'T': DeclaredTypeInstance(type='NDArray', params=None)})}, args=['-8549068771019930555', '6494948380406284327'], kwargs=None)], '-338232751189935212': ['-9177130969686516551', CallNode(function='NDArrayCompat.from_ndarray', type_params=None, args=['4035649169692160937'], kwargs=None)], '2957650358123280855': ['-5281961658848897139', CallNode(function='NDArrayCompat.to_ndarray', type_params=None, args=['-338232751189935212'], kwargs=None)], '3146937952497747921': ['3146937952497747921', CallNode(function='Converter.convert', type_params={'T': DeclaredTypeInstance(type='Integer', params=None)}, args=['7929563447330875300'], kwargs=None)], '-7970435562759903997': ['-7970435562759903997', PrimitiveNode(type='BoundInfer', repr='Either.left')], '-966770576982675144': ['-966770576982675144', CallNode(function='Abstraction.from_fn', type_params=None, args=['-7970435562759903997'], kwargs=None)], '4865162026085052172': ['4865162026085052172', CallNode(function='Maybe.map', type_params={'T': DeclaredTypeInstance(type='Integer', params=None)}, args=['3146937952497747921', '-966770576982675144'], kwargs=None)], '7195713575237942534': ['7195713575237942534', CallNode(function='Converter.convert', type_params={'T': DeclaredTypeInstance(type='Vec', params={'T': DeclaredTypeInstance(type='Integer', params=None)})}, args=['7929563447330875300'], kwargs=None)], '-1881452536892832357': ['-1881452536892832357', PrimitiveNode(type='BoundInfer', repr='Either.right')], '7839880492979038879': ['7839880492979038879', CallNode(function='Abstraction.from_fn', type_params=None, args=['-1881452536892832357'], kwargs=None)], '2204826897264784190': ['2204826897264784190', CallNode(function='Maybe.map', type_params={'T': DeclaredTypeInstance(type='Vec', params={'T': DeclaredTypeInstance(type='Integer', params=None)})}, args=['7195713575237942534', '7839880492979038879'], kwargs=None)], '-656138738490108348': ['-3416066141267607679', CallNode(function='Maybe.__or__', type_params={'T': DeclaredTypeInstance(type='Either', params={'U': DeclaredTypeInstance(type='Vec', params={'T': DeclaredTypeInstance(type='Integer', params=None)}), 'T': DeclaredTypeInstance(type='Integer', params=None)})}, args=['4865162026085052172', '2204826897264784190'], kwargs=None)], '6555983600465518041': ['-8549068771019930555', CallNode(function='Maybe.__and__', type_params={'T': DeclaredTypeInstance(type='NDArray', params=None)}, args=['-1731939772881271889', '-656138738490108348'], kwargs=None)], '-6580118316492249228': ['4035649169692160937', CallNode(function='Maybe.map', type_params={'T': DeclaredTypeInstance(type='Pair', params={'U': DeclaredTypeInstance(type='Either', params={'U': DeclaredTypeInstance(type='Vec', params={'T': DeclaredTypeInstance(type='Integer', params=None)}), 'T': DeclaredTypeInstance(type='Integer', params=None)}), 'T': DeclaredTypeInstance(type='NDArray', params=None)})}, args=['6555983600465518041', '6494948380406284327'], kwargs=None)], '7141999614432729020': ['-9177130969686516551', CallNode(function='NDArrayCompat.from_ndarray', type_params=None, args=['-6580118316492249228'], kwargs=None)], '-2372905008136394232': ['-5281961658848897139', CallNode(function='NDArrayCompat.to_ndarray', type_params=None, args=['7141999614432729020'], kwargs=None)], '-1448899694609174123': ['-1448899694609174123', CallNode(function='Integer.from_int', type_params=None, args=['7929563447330875300'], kwargs=None)], '-4057743209670033856': ['-4057743209670033856', CallNode(function='Maybe.just', type_params=None, args=['-1448899694609174123'], kwargs=None)], '6840992835378849873': ['4865162026085052172', CallNode(function='Maybe.map', type_params={'T': DeclaredTypeInstance(type='Integer', params=None)}, args=['-4057743209670033856', '-966770576982675144'], kwargs=None)], '-5980085414178983947': ['-3416066141267607679', CallNode(function='Maybe.__or__', type_params={'T': DeclaredTypeInstance(type='Either', params={'U': DeclaredTypeInstance(type='Vec', params={'T': DeclaredTypeInstance(type='Integer', params=None)}), 'T': DeclaredTypeInstance(type='Integer', params=None)})}, args=['6840992835378849873', '2204826897264784190'], kwargs=None)], '-7530698464818735296': ['-8549068771019930555', CallNode(function='Maybe.__and__', type_params={'T': DeclaredTypeInstance(type='NDArray', params=None)}, args=['-1731939772881271889', '-5980085414178983947'], kwargs=None)], '8138129422473267734': ['4035649169692160937', CallNode(function='Maybe.map', type_params={'T': DeclaredTypeInstance(type='Pair', params={'U': DeclaredTypeInstance(type='Either', params={'U': DeclaredTypeInstance(type='Vec', params={'T': DeclaredTypeInstance(type='Integer', params=None)}), 'T': DeclaredTypeInstance(type='Integer', params=None)}), 'T': DeclaredTypeInstance(type='NDArray', params=None)})}, args=['-7530698464818735296', '6494948380406284327'], kwargs=None)], '-6704007316606680421': ['-9177130969686516551', CallNode(function='NDArrayCompat.from_ndarray', type_params=None, args=['8138129422473267734'], kwargs=None)], '-4245698127611375010': ['-5281961658848897139', CallNode(function='NDArrayCompat.to_ndarray', type_params=None, args=['-6704007316606680421'], kwargs=None)], '3866244541187059488': ['3866244541187059488', CallNode(function='Converter.convert', type_params={'T': DeclaredTypeInstance(type='Integer', params=None)}, args=['7929563447225870375'], kwargs=None)], '6103565132160316810': ['6103565132160316810', PrimitiveNode(type='Infer', repr='arange_')], '-8047665718338118652': ['-8047665718338118652', CallNode(function='Abstraction.from_fn', type_params=None, args=['6103565132160316810'], kwargs=None)], '8185140690946981952': ['8185140690946981952', CallNode(function='Maybe.map', type_params={'T': DeclaredTypeInstance(type='Integer', params=None)}, args=['3866244541187059488', '-8047665718338118652'], kwargs=None)], '7734890108686739817': ['5957414941209220213', CallNode(function='NDArrayCompat.from_ndarray', type_params=None, args=['8185140690946981952'], kwargs=None)], '-4227033389913437920': ['-2392957684524066418', CallNode(function='NDArrayCompat.__add__', type_params=None, args=['7734890108686739817', '7734890108686739817'], kwargs=None)], '-4118019760064062043': ['-1731939772881271889', CallNode(function='Converter.convert', type_params={'T': DeclaredTypeInstance(type='NDArray', params=None)}, args=['-4227033389913437920'], kwargs=None)], '2641412347700615951': ['-8549068771019930555', CallNode(function='Maybe.__and__', type_params={'T': DeclaredTypeInstance(type='NDArray', params=None)}, args=['-4118019760064062043', '-5980085414178983947'], kwargs=None)], '488258681527690191': ['4035649169692160937', CallNode(function='Maybe.map', type_params={'T': DeclaredTypeInstance(type='Pair', params={'U': DeclaredTypeInstance(type='Either', params={'U': DeclaredTypeInstance(type='Vec', params={'T': DeclaredTypeInstance(type='Integer', params=None)}), 'T': DeclaredTypeInstance(type='Integer', params=None)}), 'T': DeclaredTypeInstance(type='NDArray', params=None)})}, args=['2641412347700615951', '6494948380406284327'], kwargs=None)], '8205123287508767421': ['-9177130969686516551', CallNode(function='NDArrayCompat.from_ndarray', type_params=None, args=['488258681527690191'], kwargs=None)], '7509929552176292051': ['-5281961658848897139', CallNode(function='NDArrayCompat.to_ndarray', type_params=None, args=['8205123287508767421'], kwargs=None)], '-3131809300698277100': ['-3131809300698277100', CallNode(function='Integer.from_int', type_params=None, args=['7929563447225870375'], kwargs=None)], '-8442994137960948810': ['-8442994137960948810', CallNode(function='Maybe.just', type_params=None, args=['-3131809300698277100'], kwargs=None)], '-8887871976037847346': ['8185140690946981952', CallNode(function='Maybe.map', type_params={'T': DeclaredTypeInstance(type='Integer', params=None)}, args=['-8442994137960948810', '-8047665718338118652'], kwargs=None)], '-6802406250591612239': ['5957414941209220213', CallNode(function='NDArrayCompat.from_ndarray', type_params=None, args=['-8887871976037847346'], kwargs=None)], '-7011619711849110242': ['-2392957684524066418', CallNode(function='NDArrayCompat.__add__', type_params=None, args=['-6802406250591612239', '-6802406250591612239'], kwargs=None)], '-906915746085849223': ['-1731939772881271889', CallNode(function='Converter.convert', type_params={'T': DeclaredTypeInstance(type='NDArray', params=None)}, args=['-7011619711849110242'], kwargs=None)], '6849173173472077666': ['-8549068771019930555', CallNode(function='Maybe.__and__', type_params={'T': DeclaredTypeInstance(type='NDArray', params=None)}, args=['-906915746085849223', '-5980085414178983947'], kwargs=None)], '-3492423308690766165': ['4035649169692160937', CallNode(function='Maybe.map', type_params={'T': DeclaredTypeInstance(type='Pair', params={'U': DeclaredTypeInstance(type='Either', params={'U': DeclaredTypeInstance(type='Vec', params={'T': DeclaredTypeInstance(type='Integer', params=None)}), 'T': DeclaredTypeInstance(type='Integer', params=None)}), 'T': DeclaredTypeInstance(type='NDArray', params=None)})}, args=['6849173173472077666', '6494948380406284327'], kwargs=None)], '6090055618020902548': ['-9177130969686516551', CallNode(function='NDArrayCompat.from_ndarray', type_params=None, args=['-3492423308690766165'], kwargs=None)], '-2257581189001708563': ['-5281961658848897139', CallNode(function='NDArrayCompat.to_ndarray', type_params=None, args=['6090055618020902548'], kwargs=None)], '-8441167332832851488': ['-8441167332832851488', PrimitiveNode(type='Variable', repr='Variable(4532424600)')], '-4515816141679379126': ['-4515816141679379126', CallNode(function='Abstraction.create_variable', type_params={'U': DeclaredTypeInstance(type='NDArray', params=None), 'T': DeclaredTypeInstance(type='Pair', params={'U': DeclaredTypeInstance(type='Either', params={'U': DeclaredTypeInstance(type='Vec', params={'T': DeclaredTypeInstance(type='Integer', params=None)}), 'T': DeclaredTypeInstance(type='Integer', params=None)}), 'T': DeclaredTypeInstance(type='NDArray', params=None)})}, args=['-8441167332832851488'], kwargs=None)], '-7971745150971623974': ['-7971745150971623974', CallNode(function='Pair.left', type_params={'U': DeclaredTypeInstance(type='Either', params={'U': DeclaredTypeInstance(type='Vec', params={'T': DeclaredTypeInstance(type='Integer', params=None)}), 'T': DeclaredTypeInstance(type='Integer', params=None)}), 'T': DeclaredTypeInstance(type='NDArray', params=None)}, args=['-4515816141679379126'], kwargs=None)], '6641299432733888386': ['6641299432733888386', CallNode(function='Pair.right', type_params={'U': DeclaredTypeInstance(type='Either', params={'U': DeclaredTypeInstance(type='Vec', params={'T': DeclaredTypeInstance(type='Integer', params=None)}), 'T': DeclaredTypeInstance(type='Integer', params=None)}), 'T': DeclaredTypeInstance(type='NDArray', params=None)}, args=['-4515816141679379126'], kwargs=None)], '-3244667734406134969': ['-3244667734406134969', CallNode(function='NDArray.__getitem__', type_params=None, args=['-7971745150971623974', '6641299432733888386'], kwargs=None)], '-6872534957557579885': ['-6872534957557579885', CallNode(function='Abstraction.create', type_params={'U': DeclaredTypeInstance(type='NDArray', params=None), 'T': DeclaredTypeInstance(type='Pair', params={'U': DeclaredTypeInstance(type='Either', params={'U': DeclaredTypeInstance(type='Vec', params={'T': DeclaredTypeInstance(type='Integer', params=None)}), 'T': DeclaredTypeInstance(type='Integer', params=None)}), 'T': DeclaredTypeInstance(type='NDArray', params=None)})}, args=['-4515816141679379126', '-3244667734406134969'], kwargs=None)], '-7815845332213257725': ['4035649169692160937', CallNode(function='Maybe.map', type_params={'T': DeclaredTypeInstance(type='Pair', params={'U': DeclaredTypeInstance(type='Either', params={'U': DeclaredTypeInstance(type='Vec', params={'T': DeclaredTypeInstance(type='Integer', params=None)}), 'T': DeclaredTypeInstance(type='Integer', params=None)}), 'T': DeclaredTypeInstance(type='NDArray', params=None)})}, args=['6849173173472077666', '-6872534957557579885'], kwargs=None)], '-5432273202398116650': ['-9177130969686516551', CallNode(function='NDArrayCompat.from_ndarray', type_params=None, args=['-7815845332213257725'], kwargs=None)], '4555003153227544087': ['-5281961658848897139', CallNode(function='NDArrayCompat.to_ndarray', type_params=None, args=['-5432273202398116650'], kwargs=None)], '782204653931327520': ['782204653931327520', PrimitiveNode(type='Variable', repr='Variable(4532700048)')], '7595844918048910182': ['7595844918048910182', CallNode(function='Abstraction.create_variable', type_params={'U': DeclaredTypeInstance(type='Either', params={'U': DeclaredTypeInstance(type='Vec', params={'T': DeclaredTypeInstance(type='Integer', params=None)}), 'T': DeclaredTypeInstance(type='Integer', params=None)}), 'T': DeclaredTypeInstance(type='Vec', params={'T': DeclaredTypeInstance(type='Integer', params=None)})}, args=['782204653931327520'], kwargs=None)], '-3874205195205355599': ['-3874205195205355599', CallNode(function='Either.right', type_params={'U': DeclaredTypeInstance(type='Vec', params={'T': DeclaredTypeInstance(type='Integer', params=None)}), 'T': DeclaredTypeInstance(type='Integer', params=None)}, args=['7595844918048910182'], kwargs=None)], '6137053630892031812': ['6137053630892031812', CallNode(function='Abstraction.create', type_params={'U': DeclaredTypeInstance(type='Either', params={'U': DeclaredTypeInstance(type='Vec', params={'T': DeclaredTypeInstance(type='Integer', params=None)}), 'T': DeclaredTypeInstance(type='Integer', params=None)}), 'T': DeclaredTypeInstance(type='Vec', params={'T': DeclaredTypeInstance(type='Integer', params=None)})}, args=['7595844918048910182', '-3874205195205355599'], kwargs=None)], '2901486184407898514': ['2901486184407898514', CallNode(function='Maybe.map', type_params={'T': DeclaredTypeInstance(type='Vec', params={'T': DeclaredTypeInstance(type='Integer', params=None)})}, args=['7195713575237942534', '6137053630892031812'], kwargs=None)], '832360493236160598': ['-3416066141267607679', CallNode(function='Maybe.__or__', type_params={'T': DeclaredTypeInstance(type='Either', params={'U': DeclaredTypeInstance(type='Vec', params={'T': DeclaredTypeInstance(type='Integer', params=None)}), 'T': DeclaredTypeInstance(type='Integer', params=None)})}, args=['6840992835378849873', '2901486184407898514'], kwargs=None)], '2350887084669467573': ['-8549068771019930555', CallNode(function='Maybe.__and__', type_params={'T': DeclaredTypeInstance(type='NDArray', params=None)}, args=['-906915746085849223', '832360493236160598'], kwargs=None)], '3049639165504999069': ['4035649169692160937', CallNode(function='Maybe.map', type_params={'T': DeclaredTypeInstance(type='Pair', params={'U': DeclaredTypeInstance(type='Either', params={'U': DeclaredTypeInstance(type='Vec', params={'T': DeclaredTypeInstance(type='Integer', params=None)}), 'T': DeclaredTypeInstance(type='Integer', params=None)}), 'T': DeclaredTypeInstance(type='NDArray', params=None)})}, args=['2350887084669467573', '-6872534957557579885'], kwargs=None)], '-5086137649554023920': ['-9177130969686516551', CallNode(function='NDArrayCompat.from_ndarray', type_params=None, args=['3049639165504999069'], kwargs=None)], '-1584840993100416059': ['-5281961658848897139', CallNode(function='NDArrayCompat.to_ndarray', type_params=None, args=['-5086137649554023920'], kwargs=None)], '782204666144374570': ['782204666144374570', PrimitiveNode(type='Variable', repr='Variable(4532781744)')], '-3477876327207206289': ['-3477876327207206289', CallNode(function='Abstraction.create_variable', type_params={'U': DeclaredTypeInstance(type='Either', params={'U': DeclaredTypeInstance(type='Vec', params={'T': DeclaredTypeInstance(type='Integer', params=None)}), 'T': DeclaredTypeInstance(type='Integer', params=None)}), 'T': DeclaredTypeInstance(type='Integer', params=None)}, args=['782204666144374570'], kwargs=None)], '-5693918354505073214': ['-5693918354505073214', CallNode(function='Either.left', type_params={'U': DeclaredTypeInstance(type='Vec', params={'T': DeclaredTypeInstance(type='Integer', params=None)}), 'T': DeclaredTypeInstance(type='Integer', params=None)}, args=['-3477876327207206289'], kwargs=None)], '-8871729180521625528': ['-8871729180521625528', CallNode(function='Abstraction.create', type_params={'U': DeclaredTypeInstance(type='Either', params={'U': DeclaredTypeInstance(type='Vec', params={'T': DeclaredTypeInstance(type='Integer', params=None)}), 'T': DeclaredTypeInstance(type='Integer', params=None)}), 'T': DeclaredTypeInstance(type='Integer', params=None)}, args=['-3477876327207206289', '-5693918354505073214'], kwargs=None)], '8486722407058537054': ['8486722407058537054', CallNode(function='Maybe.map', type_params={'T': DeclaredTypeInstance(type='Integer', params=None)}, args=['-4057743209670033856', '-8871729180521625528'], kwargs=None)], '2695006792991180376': ['2695006792991180376', CallNode(function='Maybe.__or__', type_params={'T': DeclaredTypeInstance(type='Either', params={'U': DeclaredTypeInstance(type='Vec', params={'T': DeclaredTypeInstance(type='Integer', params=None)}), 'T': DeclaredTypeInstance(type='Integer', params=None)})}, args=['8486722407058537054', '2901486184407898514'], kwargs=None)], '1847518014012259020': ['-8549068771019930555', CallNode(function='Maybe.__and__', type_params={'T': DeclaredTypeInstance(type='NDArray', params=None)}, args=['-906915746085849223', '2695006792991180376'], kwargs=None)], '-6657421573467346981': ['4035649169692160937', CallNode(function='Maybe.map', type_params={'T': DeclaredTypeInstance(type='Pair', params={'U': DeclaredTypeInstance(type='Either', params={'U': DeclaredTypeInstance(type='Vec', params={'T': DeclaredTypeInstance(type='Integer', params=None)}), 'T': DeclaredTypeInstance(type='Integer', params=None)}), 'T': DeclaredTypeInstance(type='NDArray', params=None)})}, args=['1847518014012259020', '-6872534957557579885'], kwargs=None)], '-3192881285023434533': ['-9177130969686516551', CallNode(function='NDArrayCompat.from_ndarray', type_params=None, args=['-6657421573467346981'], kwargs=None)], '-3588758348911579279': ['-5281961658848897139', CallNode(function='NDArrayCompat.to_ndarray', type_params=None, args=['-3192881285023434533'], kwargs=None)], '-8441167338211918213': ['-8441167338211918213', PrimitiveNode(type='Variable', repr='Variable(4532312328)')], '5602477112898136929': ['5602477112898136929', CallNode(function='Abstraction.create_variable', type_params={'U': DeclaredTypeInstance(type='NDArray', params=None), 'T': DeclaredTypeInstance(type='Integer', params=None)}, args=['-8441167338211918213'], kwargs=None)], '-36014167958209776': ['-36014167958209776', CallNode(function='arange_', type_params=None, args=['5602477112898136929'], kwargs=None)], '1585156807716819921': ['1585156807716819921', CallNode(function='Abstraction.create', type_params={'U': DeclaredTypeInstance(type='NDArray', params=None), 'T': DeclaredTypeInstance(type='Integer', params=None)}, args=['5602477112898136929', '-36014167958209776'], kwargs=None)], '-7714184177713562882': ['-7714184177713562882', CallNode(function='Maybe.map', type_params={'T': DeclaredTypeInstance(type='Integer', params=None)}, args=['-8442994137960948810', '1585156807716819921'], kwargs=None)], '-1625682492666313023': ['-1625682492666313023', CallNode(function='NDArrayCompat.from_ndarray', type_params=None, args=['-7714184177713562882'], kwargs=None)], '-4264090195847481250': ['-4264090195847481250', CallNode(function='NDArrayCompat.__add__', type_params=None, args=['-1625682492666313023', '-1625682492666313023'], kwargs=None)], '-4657327696202073921': ['-4657327696202073921', CallNode(function='Converter.convert', type_params={'T': DeclaredTypeInstance(type='NDArray', params=None)}, args=['-4264090195847481250'], kwargs=None)], '8502660837632541408': ['8502660837632541408', CallNode(function='Maybe.__and__', type_params={'T': DeclaredTypeInstance(type='NDArray', params=None)}, args=['-4657327696202073921', '2695006792991180376'], kwargs=None)], '7938352705060161012': ['4035649169692160937', CallNode(function='Maybe.map', type_params={'T': DeclaredTypeInstance(type='Pair', params={'U': DeclaredTypeInstance(type='Either', params={'U': DeclaredTypeInstance(type='Vec', params={'T': DeclaredTypeInstance(type='Integer', params=None)}), 'T': DeclaredTypeInstance(type='Integer', params=None)}), 'T': DeclaredTypeInstance(type='NDArray', params=None)})}, args=['8502660837632541408', '-6872534957557579885'], kwargs=None)], '-2056080962441618427': ['-9177130969686516551', CallNode(function='NDArrayCompat.from_ndarray', type_params=None, args=['7938352705060161012'], kwargs=None)], '-2820208290180765478': ['-5281961658848897139', CallNode(function='NDArrayCompat.to_ndarray', type_params=None, args=['-2056080962441618427'], kwargs=None)], '3904670649235592956': ['3904670649235592956', CallNode(function='Maybe.nothing', type_params={'T': DeclaredTypeInstance(type='NDArray', params=None)}, args=None, kwargs=None)], '-4094591097972136167': ['-4094591097972136167', PrimitiveNode(type='BoundInfer', repr='Maybe.just')], '-7293254293253925776': ['-7293254293253925776', CallNode(function='Abstraction.from_fn', type_params=None, args=['-4094591097972136167'], kwargs=None)], '-7929933669310959521': ['-7929933669310959521', CallNode(function='Abstraction.__add__', type_params={'U': DeclaredTypeInstance(type='Maybe', params={'T': DeclaredTypeInstance(type='NDArray', params=None)}), 'T': DeclaredTypeInstance(type='NDArray', params=None)}, args=['-7293254293253925776', '-6872534957557579885'], kwargs=None)], '6076550561636597045': ['4035649169692160937', CallNode(function='Maybe.match', type_params={'T': DeclaredTypeInstance(type='Pair', params={'U': DeclaredTypeInstance(type='Either', params={'U': DeclaredTypeInstance(type='Vec', params={'T': DeclaredTypeInstance(type='Integer', params=None)}), 'T': DeclaredTypeInstance(type='Integer', params=None)}), 'T': DeclaredTypeInstance(type='NDArray', params=None)})}, args=['8502660837632541408', '3904670649235592956', '-7929933669310959521'], kwargs=None)], '1650229264940692165': ['-9177130969686516551', CallNode(function='NDArrayCompat.from_ndarray', type_params=None, args=['6076550561636597045'], kwargs=None)], '-2536339837989076326': ['-5281961658848897139', CallNode(function='NDArrayCompat.to_ndarray', type_params=None, args=['1650229264940692165'], kwargs=None)], '-754019181540390696': ['-754019181540390696', CallNode(function='Maybe.nothing', type_params={'T': DeclaredTypeInstance(type='Either', params={'U': DeclaredTypeInstance(type='Vec', params={'T': DeclaredTypeInstance(type='Integer', params=None)}), 'T': DeclaredTypeInstance(type='Integer', params=None)})}, args=None, kwargs=None)], '2939876135484546645': ['2939876135484546645', PrimitiveNode(type='BoundInfer', repr='Maybe.just')], '-7660677309244214554': ['-7660677309244214554', CallNode(function='Abstraction.from_fn', type_params=None, args=['2939876135484546645'], kwargs=None)], '-5767205988462710480': ['-5767205988462710480', CallNode(function='Abstraction.__add__', type_params={'U': DeclaredTypeInstance(type='Maybe', params={'T': DeclaredTypeInstance(type='Either', params={'U': DeclaredTypeInstance(type='Vec', params={'T': DeclaredTypeInstance(type='Integer', params=None)}), 'T': DeclaredTypeInstance(type='Integer', params=None)})}), 'T': DeclaredTypeInstance(type='Either', params={'U': DeclaredTypeInstance(type='Vec', params={'T': DeclaredTypeInstance(type='Integer', params=None)}), 'T': DeclaredTypeInstance(type='Integer', params=None)})}, args=['-7660677309244214554', '6137053630892031812'], kwargs=None)], '-6274474774942059959': ['2901486184407898514', CallNode(function='Maybe.match', type_params={'T': DeclaredTypeInstance(type='Vec', params={'T': DeclaredTypeInstance(type='Integer', params=None)})}, args=['7195713575237942534', '-754019181540390696', '-5767205988462710480'], kwargs=None)], '-8042496346563878572': ['2695006792991180376', CallNode(function='Maybe.__or__', type_params={'T': DeclaredTypeInstance(type='Either', params={'U': DeclaredTypeInstance(type='Vec', params={'T': DeclaredTypeInstance(type='Integer', params=None)}), 'T': DeclaredTypeInstance(type='Integer', params=None)})}, args=['8486722407058537054', '-6274474774942059959'], kwargs=None)], '8227145086890198440': ['8502660837632541408', CallNode(function='Maybe.__and__', type_params={'T': DeclaredTypeInstance(type='NDArray', params=None)}, args=['-4657327696202073921', '-8042496346563878572'], kwargs=None)], '-3125131827332125891': ['4035649169692160937', CallNode(function='Maybe.match', type_params={'T': DeclaredTypeInstance(type='Pair', params={'U': DeclaredTypeInstance(type='Either', params={'U': DeclaredTypeInstance(type='Vec', params={'T': DeclaredTypeInstance(type='Integer', params=None)}), 'T': DeclaredTypeInstance(type='Integer', params=None)}), 'T': DeclaredTypeInstance(type='NDArray', params=None)})}, args=['8227145086890198440', '3904670649235592956', '-7929933669310959521'], kwargs=None)], '-4950661753505737510': ['-9177130969686516551', CallNode(function='NDArrayCompat.from_ndarray', type_params=None, args=['-3125131827332125891'], kwargs=None)], '-6140945438237859125': ['-5281961658848897139', CallNode(function='NDArrayCompat.to_ndarray', type_params=None, args=['-4950661753505737510'], kwargs=None)], '-279173692147741471': ['-279173692147741471', CallNode(function='Abstraction.__add__', type_params={'U': DeclaredTypeInstance(type='Maybe', params={'T': DeclaredTypeInstance(type='Either', params={'U': DeclaredTypeInstance(type='Vec', params={'T': DeclaredTypeInstance(type='Integer', params=None)}), 'T': DeclaredTypeInstance(type='Integer', params=None)})}), 'T': DeclaredTypeInstance(type='Either', params={'U': DeclaredTypeInstance(type='Vec', params={'T': DeclaredTypeInstance(type='Integer', params=None)}), 'T': DeclaredTypeInstance(type='Integer', params=None)})}, args=['-7660677309244214554', '-8871729180521625528'], kwargs=None)], '6508932817373433141': ['8486722407058537054', CallNode(function='Maybe.match', type_params={'T': DeclaredTypeInstance(type='Integer', params=None)}, args=['-4057743209670033856', '-754019181540390696', '-279173692147741471'], kwargs=None)], '-5586627255211727058': ['2695006792991180376', CallNode(function='Maybe.__or__', type_params={'T': DeclaredTypeInstance(type='Either', params={'U': DeclaredTypeInstance(type='Vec', params={'T': DeclaredTypeInstance(type='Integer', params=None)}), 'T': DeclaredTypeInstance(type='Integer', params=None)})}, args=['6508932817373433141', '-6274474774942059959'], kwargs=None)], '6446121888231165459': ['8502660837632541408', CallNode(function='Maybe.__and__', type_params={'T': DeclaredTypeInstance(type='NDArray', params=None)}, args=['-4657327696202073921', '-5586627255211727058'], kwargs=None)], '-5023749376242042757': ['4035649169692160937', CallNode(function='Maybe.match', type_params={'T': DeclaredTypeInstance(type='Pair', params={'U': DeclaredTypeInstance(type='Either', params={'U': DeclaredTypeInstance(type='Vec', params={'T': DeclaredTypeInstance(type='Integer', params=None)}), 'T': DeclaredTypeInstance(type='Integer', params=None)}), 'T': DeclaredTypeInstance(type='NDArray', params=None)})}, args=['6446121888231165459', '3904670649235592956', '-7929933669310959521'], kwargs=None)], '-8080735215263406917': ['-9177130969686516551', CallNode(function='NDArrayCompat.from_ndarray', type_params=None, args=['-5023749376242042757'], kwargs=None)], '7209205958286522155': ['-5281961658848897139', CallNode(function='NDArrayCompat.to_ndarray', type_params=None, args=['-8080735215263406917'], kwargs=None)], '-7863093532163047772': ['8486722407058537054', CallNode(function='Abstraction.__call__', type_params={'U': DeclaredTypeInstance(type='Maybe', params={'T': DeclaredTypeInstance(type='Either', params={'U': DeclaredTypeInstance(type='Vec', params={'T': DeclaredTypeInstance(type='Integer', params=None)}), 'T': DeclaredTypeInstance(type='Integer', params=None)})}), 'T': DeclaredTypeInstance(type='Integer', params=None)}, args=['-279173692147741471', '-1448899694609174123'], kwargs=None)], '-1677132938923416940': ['2695006792991180376', CallNode(function='Maybe.__or__', type_params={'T': DeclaredTypeInstance(type='Either', params={'U': DeclaredTypeInstance(type='Vec', params={'T': DeclaredTypeInstance(type='Integer', params=None)}), 'T': DeclaredTypeInstance(type='Integer', params=None)})}, args=['-7863093532163047772', '-6274474774942059959'], kwargs=None)], '1801178083910655243': ['8502660837632541408', CallNode(function='Maybe.__and__', type_params={'T': DeclaredTypeInstance(type='NDArray', params=None)}, args=['-4657327696202073921', '-1677132938923416940'], kwargs=None)], '-8324418747529519971': ['4035649169692160937', CallNode(function='Maybe.match', type_params={'T': DeclaredTypeInstance(type='Pair', params={'U': DeclaredTypeInstance(type='Either', params={'U': DeclaredTypeInstance(type='Vec', params={'T': DeclaredTypeInstance(type='Integer', params=None)}), 'T': DeclaredTypeInstance(type='Integer', params=None)}), 'T': DeclaredTypeInstance(type='NDArray', params=None)})}, args=['1801178083910655243', '3904670649235592956', '-7929933669310959521'], kwargs=None)], '5850578274881120740': ['-9177130969686516551', CallNode(function='NDArrayCompat.from_ndarray', type_params=None, args=['-8324418747529519971'], kwargs=None)], '-2555114394254853763': ['-5281961658848897139', CallNode(function='NDArrayCompat.to_ndarray', type_params=None, args=['5850578274881120740'], kwargs=None)], '-1662407830212765793': ['-1662407830212765793', CallNode(function='Abstraction.__add__', type_params={'U': DeclaredTypeInstance(type='Maybe', params={'T': DeclaredTypeInstance(type='NDArray', params=None)}), 'T': DeclaredTypeInstance(type='NDArray', params=None)}, args=['-7293254293253925776', '1585156807716819921'], kwargs=None)], '-1697382596041886450': ['-1697382596041886450', CallNode(function='Maybe.match', type_params={'T': DeclaredTypeInstance(type='Integer', params=None)}, args=['-8442994137960948810', '3904670649235592956', '-1662407830212765793'], kwargs=None)], '132669007182046688': ['132669007182046688', CallNode(function='NDArrayCompat.from_ndarray', type_params=None, args=['-1697382596041886450'], kwargs=None)], '5616511007139939859': ['-4264090195847481250', CallNode(function='NDArrayCompat.__add__', type_params=None, args=['132669007182046688', '-1625682492666313023'], kwargs=None)], '1650910841988864359': ['-4657327696202073921', CallNode(function='Converter.convert', type_params={'T': DeclaredTypeInstance(type='NDArray', params=None)}, args=['5616511007139939859'], kwargs=None)], '6201539520600265249': ['8502660837632541408', CallNode(function='Maybe.__and__', type_params={'T': DeclaredTypeInstance(type='NDArray', params=None)}, args=['1650910841988864359', '-1677132938923416940'], kwargs=None)], '2322691605591635317': ['4035649169692160937', CallNode(function='Maybe.match', type_params={'T': DeclaredTypeInstance(type='Pair', params={'U': DeclaredTypeInstance(type='Either', params={'U': DeclaredTypeInstance(type='Vec', params={'T': DeclaredTypeInstance(type='Integer', params=None)}), 'T': DeclaredTypeInstance(type='Integer', params=None)}), 'T': DeclaredTypeInstance(type='NDArray', params=None)})}, args=['6201539520600265249', '3904670649235592956', '-7929933669310959521'], kwargs=None)], '4735386674060708040': ['-9177130969686516551', CallNode(function='NDArrayCompat.from_ndarray', type_params=None, args=['2322691605591635317'], kwargs=None)], '-105242845287374559': ['-5281961658848897139', CallNode(function='NDArrayCompat.to_ndarray', type_params=None, args=['4735386674060708040'], kwargs=None)], '2609767178489679320': ['-4264090195847481250', CallNode(function='NDArrayCompat.__add__', type_params=None, args=['132669007182046688', '132669007182046688'], kwargs=None)], '1645808693577477251': ['-4657327696202073921', CallNode(function='Converter.convert', type_params={'T': DeclaredTypeInstance(type='NDArray', params=None)}, args=['2609767178489679320'], kwargs=None)], '-1511046752529135579': ['8502660837632541408', CallNode(function='Maybe.__and__', type_params={'T': DeclaredTypeInstance(type='NDArray', params=None)}, args=['1645808693577477251', '-1677132938923416940'], kwargs=None)], '-5510346358208569941': ['4035649169692160937', CallNode(function='Maybe.match', type_params={'T': DeclaredTypeInstance(type='Pair', params={'U': DeclaredTypeInstance(type='Either', params={'U': DeclaredTypeInstance(type='Vec', params={'T': DeclaredTypeInstance(type='Integer', params=None)}), 'T': DeclaredTypeInstance(type='Integer', params=None)}), 'T': DeclaredTypeInstance(type='NDArray', params=None)})}, args=['-1511046752529135579', '3904670649235592956', '-7929933669310959521'], kwargs=None)], '-7246996004018175797': ['-9177130969686516551', CallNode(function='NDArrayCompat.from_ndarray', type_params=None, args=['-5510346358208569941'], kwargs=None)], '-8887125472162681221': ['-5281961658848897139', CallNode(function='NDArrayCompat.to_ndarray', type_params=None, args=['-7246996004018175797'], kwargs=None)], '1939674178738103160': ['1939674178738103160', CallNode(function='Abstraction.__call__', type_params={'U': DeclaredTypeInstance(type='Maybe', params={'T': DeclaredTypeInstance(type='NDArray', params=None)}), 'T': DeclaredTypeInstance(type='Integer', params=None)}, args=['-1662407830212765793', '-3131809300698277100'], kwargs=None)], '5957420681722204814': ['5957420681722204814', CallNode(function='NDArrayCompat.from_ndarray', type_params=None, args=['1939674178738103160'], kwargs=None)], '-1273181020905429240': ['-4264090195847481250', CallNode(function='NDArrayCompat.__add__', type_params=None, args=['5957420681722204814', '132669007182046688'], kwargs=None)], '4919796284216390214': ['-4657327696202073921', CallNode(function='Converter.convert', type_params={'T': DeclaredTypeInstance(type='NDArray', params=None)}, args=['-1273181020905429240'], kwargs=None)], '-9032728719831084162': ['8502660837632541408', CallNode(function='Maybe.__and__', type_params={'T': DeclaredTypeInstance(type='NDArray', params=None)}, args=['4919796284216390214', '-1677132938923416940'], kwargs=None)], '-7128362217130124307': ['4035649169692160937', CallNode(function='Maybe.match', type_params={'T': DeclaredTypeInstance(type='Pair', params={'U': DeclaredTypeInstance(type='Either', params={'U': DeclaredTypeInstance(type='Vec', params={'T': DeclaredTypeInstance(type='Integer', params=None)}), 'T': DeclaredTypeInstance(type='Integer', params=None)}), 'T': DeclaredTypeInstance(type='NDArray', params=None)})}, args=['-9032728719831084162', '3904670649235592956', '-7929933669310959521'], kwargs=None)], '5153155067992430676': ['-9177130969686516551', CallNode(function='NDArrayCompat.from_ndarray', type_params=None, args=['-7128362217130124307'], kwargs=None)], '-2549737338481120339': ['-5281961658848897139', CallNode(function='NDArrayCompat.to_ndarray', type_params=None, args=['5153155067992430676'], kwargs=None)], '-528276751697229608': ['-4264090195847481250', CallNode(function='NDArrayCompat.__add__', type_params=None, args=['5957420681722204814', '5957420681722204814'], kwargs=None)], '-3817005916255388074': ['-4657327696202073921', CallNode(function='Converter.convert', type_params={'T': DeclaredTypeInstance(type='NDArray', params=None)}, args=['-528276751697229608'], kwargs=None)], '8553718067708940707': ['8502660837632541408', CallNode(function='Maybe.__and__', type_params={'T': DeclaredTypeInstance(type='NDArray', params=None)}, args=['-3817005916255388074', '-1677132938923416940'], kwargs=None)], '6003199730597830134': ['4035649169692160937', CallNode(function='Maybe.match', type_params={'T': DeclaredTypeInstance(type='Pair', params={'U': DeclaredTypeInstance(type='Either', params={'U': DeclaredTypeInstance(type='Vec', params={'T': DeclaredTypeInstance(type='Integer', params=None)}), 'T': DeclaredTypeInstance(type='Integer', params=None)}), 'T': DeclaredTypeInstance(type='NDArray', params=None)})}, args=['8553718067708940707', '3904670649235592956', '-7929933669310959521'], kwargs=None)], '-1275005779964108530': ['-9177130969686516551', CallNode(function='NDArrayCompat.from_ndarray', type_params=None, args=['6003199730597830134'], kwargs=None)], '4920957871297456837': ['-5281961658848897139', CallNode(function='NDArrayCompat.to_ndarray', type_params=None, args=['-1275005779964108530'], kwargs=None)], '782204673390796920': ['782204673390796920', PrimitiveNode(type='Variable', repr='Variable(4532872976)')], '2492526699005507642': ['2492526699005507642', CallNode(function='Abstraction.create_variable', type_params={'U': DeclaredTypeInstance(type='Maybe', params={'T': DeclaredTypeInstance(type='Either', params={'U': DeclaredTypeInstance(type='Vec', params={'T': DeclaredTypeInstance(type='Integer', params=None)}), 'T': DeclaredTypeInstance(type='Integer', params=None)})}), 'T': DeclaredTypeInstance(type='Either', params={'U': DeclaredTypeInstance(type='Vec', params={'T': DeclaredTypeInstance(type='Integer', params=None)}), 'T': DeclaredTypeInstance(type='Integer', params=None)})}, args=['782204673390796920'], kwargs=None)], '-4454967555415645571': ['-4454967555415645571', CallNode(function='Maybe.just', type_params={'T': DeclaredTypeInstance(type='Either', params={'U': DeclaredTypeInstance(type='Vec', params={'T': DeclaredTypeInstance(type='Integer', params=None)}), 'T': DeclaredTypeInstance(type='Integer', params=None)})}, args=['2492526699005507642'], kwargs=None)], '-2990722845636545594': ['-7660677309244214554', CallNode(function='Abstraction.create', type_params={'U': DeclaredTypeInstance(type='Maybe', params={'T': DeclaredTypeInstance(type='Either', params={'U': DeclaredTypeInstance(type='Vec', params={'T': DeclaredTypeInstance(type='Integer', params=None)}), 'T': DeclaredTypeInstance(type='Integer', params=None)})}), 'T': DeclaredTypeInstance(type='Either', params={'U': DeclaredTypeInstance(type='Vec', params={'T': DeclaredTypeInstance(type='Integer', params=None)}), 'T': DeclaredTypeInstance(type='Integer', params=None)})}, args=['2492526699005507642', '-4454967555415645571'], kwargs=None)], '-6686545371307024261': ['-279173692147741471', CallNode(function='Abstraction.__add__', type_params={'U': DeclaredTypeInstance(type='Maybe', params={'T': DeclaredTypeInstance(type='Either', params={'U': DeclaredTypeInstance(type='Vec', params={'T': DeclaredTypeInstance(type='Integer', params=None)}), 'T': DeclaredTypeInstance(type='Integer', params=None)})}), 'T': DeclaredTypeInstance(type='Either', params={'U': DeclaredTypeInstance(type='Vec', params={'T': DeclaredTypeInstance(type='Integer', params=None)}), 'T': DeclaredTypeInstance(type='Integer', params=None)})}, args=['-2990722845636545594', '-8871729180521625528'], kwargs=None)], '5346454351036495004': ['8486722407058537054', CallNode(function='Abstraction.__call__', type_params={'U': DeclaredTypeInstance(type='Maybe', params={'T': DeclaredTypeInstance(type='Either', params={'U': DeclaredTypeInstance(type='Vec', params={'T': DeclaredTypeInstance(type='Integer', params=None)}), 'T': DeclaredTypeInstance(type='Integer', params=None)})}), 'T': DeclaredTypeInstance(type='Integer', params=None)}, args=['-6686545371307024261', '-1448899694609174123'], kwargs=None)], '8248950071670219750': ['-5767205988462710480', CallNode(function='Abstraction.__add__', type_params={'U': DeclaredTypeInstance(type='Maybe', params={'T': DeclaredTypeInstance(type='Either', params={'U': DeclaredTypeInstance(type='Vec', params={'T': DeclaredTypeInstance(type='Integer', params=None)}), 'T': DeclaredTypeInstance(type='Integer', params=None)})}), 'T': DeclaredTypeInstance(type='Either', params={'U': DeclaredTypeInstance(type='Vec', params={'T': DeclaredTypeInstance(type='Integer', params=None)}), 'T': DeclaredTypeInstance(type='Integer', params=None)})}, args=['-2990722845636545594', '6137053630892031812'], kwargs=None)], '-2627613708899276376': ['2901486184407898514', CallNode(function='Maybe.match', type_params={'T': DeclaredTypeInstance(type='Vec', params={'T': DeclaredTypeInstance(type='Integer', params=None)})}, args=['7195713575237942534', '-754019181540390696', '8248950071670219750'], kwargs=None)], '-3337978948669749593': ['2695006792991180376', CallNode(function='Maybe.__or__', type_params={'T': DeclaredTypeInstance(type='Either', params={'U': DeclaredTypeInstance(type='Vec', params={'T': DeclaredTypeInstance(type='Integer', params=None)}), 'T': DeclaredTypeInstance(type='Integer', params=None)})}, args=['5346454351036495004', '-2627613708899276376'], kwargs=None)], '6005744672146614201': ['8502660837632541408', CallNode(function='Maybe.__and__', type_params={'T': DeclaredTypeInstance(type='NDArray', params=None)}, args=['-3817005916255388074', '-3337978948669749593'], kwargs=None)], '1612270974676835373': ['4035649169692160937', CallNode(function='Maybe.match', type_params={'T': DeclaredTypeInstance(type='Pair', params={'U': DeclaredTypeInstance(type='Either', params={'U': DeclaredTypeInstance(type='Vec', params={'T': DeclaredTypeInstance(type='Integer', params=None)}), 'T': DeclaredTypeInstance(type='Integer', params=None)}), 'T': DeclaredTypeInstance(type='NDArray', params=None)})}, args=['6005744672146614201', '3904670649235592956', '-7929933669310959521'], kwargs=None)], '-2187598542372021273': ['-9177130969686516551', CallNode(function='NDArrayCompat.from_ndarray', type_params=None, args=['1612270974676835373'], kwargs=None)], '5152011804381047120': ['-5281961658848897139', CallNode(function='NDArrayCompat.to_ndarray', type_params=None, args=['-2187598542372021273'], kwargs=None)], '782204698780338270': ['782204698780338270', PrimitiveNode(type='Variable', repr='Variable(4532313840)')], '-9011949978648459748': ['-9011949978648459748', CallNode(function='Abstraction.create_variable', type_params={'U': DeclaredTypeInstance(type='Maybe', params={'T': DeclaredTypeInstance(type='NDArray', params=None)}), 'T': DeclaredTypeInstance(type='NDArray', params=None)}, args=['782204698780338270'], kwargs=None)], '-1044082949805659749': ['-1044082949805659749', CallNode(function='Maybe.just', type_params={'T': DeclaredTypeInstance(type='NDArray', params=None)}, args=['-9011949978648459748'], kwargs=None)], '-2525517652145278719': ['-7293254293253925776', CallNode(function='Abstraction.create', type_params={'U': DeclaredTypeInstance(type='Maybe', params={'T': DeclaredTypeInstance(type='NDArray', params=None)}), 'T': DeclaredTypeInstance(type='NDArray', params=None)}, args=['-9011949978648459748', '-1044082949805659749'], kwargs=None)], '-1038334610434623674': ['-1662407830212765793', CallNode(function='Abstraction.__add__', type_params={'U': DeclaredTypeInstance(type='Maybe', params={'T': DeclaredTypeInstance(type='NDArray', params=None)}), 'T': DeclaredTypeInstance(type='NDArray', params=None)}, args=['-2525517652145278719', '1585156807716819921'], kwargs=None)], '-4417325727130035079': ['-7714184177713562882', CallNode(function='Abstraction.__call__', type_params={'U': DeclaredTypeInstance(type='Maybe', params={'T': DeclaredTypeInstance(type='NDArray', params=None)}), 'T': DeclaredTypeInstance(type='Integer', params=None)}, args=['-1038334610434623674', '-3131809300698277100'], kwargs=None)], '1182744138744153998': ['-1625682492666313023', CallNode(function='NDArrayCompat.from_ndarray', type_params=None, args=['-4417325727130035079'], kwargs=None)], '-5803758837919934266': ['-4264090195847481250', CallNode(function='NDArrayCompat.__add__', type_params=None, args=['1182744138744153998', '5957420681722204814'], kwargs=None)], '2796822780643328266': ['-4657327696202073921', CallNode(function='Converter.convert', type_params={'T': DeclaredTypeInstance(type='NDArray', params=None)}, args=['-5803758837919934266'], kwargs=None)], '4148594007068660519': ['8502660837632541408', CallNode(function='Maybe.__and__', type_params={'T': DeclaredTypeInstance(type='NDArray', params=None)}, args=['2796822780643328266', '-3337978948669749593'], kwargs=None)], '6914956826103742470': ['-7929933669310959521', CallNode(function='Abstraction.__add__', type_params={'U': DeclaredTypeInstance(type='Maybe', params={'T': DeclaredTypeInstance(type='NDArray', params=None)}), 'T': DeclaredTypeInstance(type='NDArray', params=None)}, args=['-2525517652145278719', '-6872534957557579885'], kwargs=None)], '-5798802809724824856': ['4035649169692160937', CallNode(function='Maybe.match', type_params={'T': DeclaredTypeInstance(type='Pair', params={'U': DeclaredTypeInstance(type='Either', params={'U': DeclaredTypeInstance(type='Vec', params={'T': DeclaredTypeInstance(type='Integer', params=None)}), 'T': DeclaredTypeInstance(type='Integer', params=None)}), 'T': DeclaredTypeInstance(type='NDArray', params=None)})}, args=['4148594007068660519', '3904670649235592956', '6914956826103742470'], kwargs=None)], '-8607043800215046248': ['-9177130969686516551', CallNode(function='NDArrayCompat.from_ndarray', type_params=None, args=['-5798802809724824856'], kwargs=None)], '-2548520950610565718': ['-5281961658848897139', CallNode(function='NDArrayCompat.to_ndarray', type_params=None, args=['-8607043800215046248'], kwargs=None)], '-8441167386739348913': ['-8441167386739348913', PrimitiveNode(type='Variable', repr='Variable(4532692808)')], '647269574557256950': ['647269574557256950', CallNode(function='Abstraction.create_variable', type_params={'U': DeclaredTypeInstance(type='Maybe', params={'T': DeclaredTypeInstance(type='NDArray', params=None)}), 'T': DeclaredTypeInstance(type='NDArray', params=None)}, args=['-8441167386739348913'], kwargs=None)], '3683961343488085320': ['3683961343488085320', CallNode(function='Maybe.just', type_params={'T': DeclaredTypeInstance(type='NDArray', params=None)}, args=['647269574557256950'], kwargs=None)], '7093854142050087112': ['7093854142050087112', CallNode(function='Abstraction.create', type_params={'U': DeclaredTypeInstance(type='Maybe', params={'T': DeclaredTypeInstance(type='NDArray', params=None)}), 'T': DeclaredTypeInstance(type='NDArray', params=None)}, args=['647269574557256950', '3683961343488085320'], kwargs=None)], '-6796029686444343107': ['-6796029686444343107', CallNode(function='Abstraction.__add__', type_params={'U': DeclaredTypeInstance(type='Maybe', params={'T': DeclaredTypeInstance(type='NDArray', params=None)}), 'T': DeclaredTypeInstance(type='NDArray', params=None)}, args=['7093854142050087112', '1585156807716819921'], kwargs=None)], '-3533169068582244492': ['1939674178738103160', CallNode(function='Abstraction.__call__', type_params={'U': DeclaredTypeInstance(type='Maybe', params={'T': DeclaredTypeInstance(type='NDArray', params=None)}), 'T': DeclaredTypeInstance(type='Integer', params=None)}, args=['-6796029686444343107', '-3131809300698277100'], kwargs=None)], '6907139717285289081': ['5957420681722204814', CallNode(function='NDArrayCompat.from_ndarray', type_params=None, args=['-3533169068582244492'], kwargs=None)], '1062238987970653667': ['-4264090195847481250', CallNode(function='NDArrayCompat.__add__', type_params=None, args=['1182744138744153998', '6907139717285289081'], kwargs=None)], '-4426976549251226415': ['-4657327696202073921', CallNode(function='Converter.convert', type_params={'T': DeclaredTypeInstance(type='NDArray', params=None)}, args=['1062238987970653667'], kwargs=None)], '8043623796329489448': ['8502660837632541408', CallNode(function='Maybe.__and__', type_params={'T': DeclaredTypeInstance(type='NDArray', params=None)}, args=['-4426976549251226415', '-3337978948669749593'], kwargs=None)], '-6567305610583307951': ['4035649169692160937', CallNode(function='Maybe.match', type_params={'T': DeclaredTypeInstance(type='Pair', params={'U': DeclaredTypeInstance(type='Either', params={'U': DeclaredTypeInstance(type='Vec', params={'T': DeclaredTypeInstance(type='Integer', params=None)}), 'T': DeclaredTypeInstance(type='Integer', params=None)}), 'T': DeclaredTypeInstance(type='NDArray', params=None)})}, args=['8043623796329489448', '3904670649235592956', '6914956826103742470'], kwargs=None)], '-3229636477889296835': ['-9177130969686516551', CallNode(function='NDArrayCompat.from_ndarray', type_params=None, args=['-6567305610583307951'], kwargs=None)], '1216816452931342751': ['-5281961658848897139', CallNode(function='NDArrayCompat.to_ndarray', type_params=None, args=['-3229636477889296835'], kwargs=None)], '-3738442817099480136': ['-3738442817099480136', CallNode(function='Maybe.just', type_params={'T': DeclaredTypeInstance(type='NDArray', params=None)}, args=['-3244667734406134969'], kwargs=None)], '-3979005081292367894': ['-3979005081292367894', CallNode(function='Abstraction.create', type_params=None, args=['-4515816141679379126', '-3738442817099480136'], kwargs=None)], '-4135098398937554906': ['4035649169692160937', CallNode(function='Maybe.match', type_params={'T': DeclaredTypeInstance(type='Pair', params={'U': DeclaredTypeInstance(type='Either', params={'U': DeclaredTypeInstance(type='Vec', params={'T': DeclaredTypeInstance(type='Integer', params=None)}), 'T': DeclaredTypeInstance(type='Integer', params=None)}), 'T': DeclaredTypeInstance(type='NDArray', params=None)})}, args=['8043623796329489448', '3904670649235592956', '-3979005081292367894'], kwargs=None)], '-680558533147514369': ['-9177130969686516551', CallNode(function='NDArrayCompat.from_ndarray', type_params=None, args=['-4135098398937554906'], kwargs=None)], '233197053466742600': ['-5281961658848897139', CallNode(function='NDArrayCompat.to_ndarray', type_params=None, args=['-680558533147514369'], kwargs=None)], '-4418802424163847894': ['-4418802424163847894', CallNode(function='Maybe.just', type_params={'T': DeclaredTypeInstance(type='Either', params={'U': DeclaredTypeInstance(type='Vec', params={'T': DeclaredTypeInstance(type='Integer', params=None)}), 'T': DeclaredTypeInstance(type='Integer', params=None)})}, args=['-3874205195205355599'], kwargs=None)], '836454584771326360': ['-5767205988462710480', CallNode(function='Abstraction.create', type_params=None, args=['7595844918048910182', '-4418802424163847894'], kwargs=None)], '-4995345293142149025': ['2901486184407898514', CallNode(function='Maybe.match', type_params={'T': DeclaredTypeInstance(type='Vec', params={'T': DeclaredTypeInstance(type='Integer', params=None)})}, args=['7195713575237942534', '-754019181540390696', '836454584771326360'], kwargs=None)], '-7125989683868607675': ['2695006792991180376', CallNode(function='Maybe.__or__', type_params={'T': DeclaredTypeInstance(type='Either', params={'U': DeclaredTypeInstance(type='Vec', params={'T': DeclaredTypeInstance(type='Integer', params=None)}), 'T': DeclaredTypeInstance(type='Integer', params=None)})}, args=['5346454351036495004', '-4995345293142149025'], kwargs=None)], '-3888203582443754260': ['8502660837632541408', CallNode(function='Maybe.__and__', type_params={'T': DeclaredTypeInstance(type='NDArray', params=None)}, args=['-4426976549251226415', '-7125989683868607675'], kwargs=None)], '2020085580365109990': ['4035649169692160937', CallNode(function='Maybe.match', type_params={'T': DeclaredTypeInstance(type='Pair', params={'U': DeclaredTypeInstance(type='Either', params={'U': DeclaredTypeInstance(type='Vec', params={'T': DeclaredTypeInstance(type='Integer', params=None)}), 'T': DeclaredTypeInstance(type='Integer', params=None)}), 'T': DeclaredTypeInstance(type='NDArray', params=None)})}, args=['-3888203582443754260', '3904670649235592956', '-3979005081292367894'], kwargs=None)], '-8673198322027389032': ['-9177130969686516551', CallNode(function='NDArrayCompat.from_ndarray', type_params=None, args=['2020085580365109990'], kwargs=None)], '2545441806645579178': ['-5281961658848897139', CallNode(function='NDArrayCompat.to_ndarray', type_params=None, args=['-8673198322027389032'], kwargs=None)], '-8262924415670402534': ['-8262924415670402534', CallNode(function='Maybe.just', type_params={'T': DeclaredTypeInstance(type='Either', params={'U': DeclaredTypeInstance(type='Vec', params={'T': DeclaredTypeInstance(type='Integer', params=None)}), 'T': DeclaredTypeInstance(type='Integer', params=None)})}, args=['-5693918354505073214'], kwargs=None)], '-6891540199889357791': ['-279173692147741471', CallNode(function='Abstraction.create', type_params=None, args=['-3477876327207206289', '-8262924415670402534'], kwargs=None)], '7342104869399788590': ['8486722407058537054', CallNode(function='Abstraction.__call__', type_params={'U': DeclaredTypeInstance(type='Maybe', params={'T': DeclaredTypeInstance(type='Either', params={'U': DeclaredTypeInstance(type='Vec', params={'T': DeclaredTypeInstance(type='Integer', params=None)}), 'T': DeclaredTypeInstance(type='Integer', params=None)})}), 'T': DeclaredTypeInstance(type='Integer', params=None)}, args=['-6891540199889357791', '-1448899694609174123'], kwargs=None)], '3625135037270020002': ['2695006792991180376', CallNode(function='Maybe.__or__', type_params={'T': DeclaredTypeInstance(type='Either', params={'U': DeclaredTypeInstance(type='Vec', params={'T': DeclaredTypeInstance(type='Integer', params=None)}), 'T': DeclaredTypeInstance(type='Integer', params=None)})}, args=['7342104869399788590', '-4995345293142149025'], kwargs=None)], '-8809534465752996021': ['8502660837632541408', CallNode(function='Maybe.__and__', type_params={'T': DeclaredTypeInstance(type='NDArray', params=None)}, args=['-4426976549251226415', '3625135037270020002'], kwargs=None)], '-2952094401554747717': ['4035649169692160937', CallNode(function='Maybe.match', type_params={'T': DeclaredTypeInstance(type='Pair', params={'U': DeclaredTypeInstance(type='Either', params={'U': DeclaredTypeInstance(type='Vec', params={'T': DeclaredTypeInstance(type='Integer', params=None)}), 'T': DeclaredTypeInstance(type='Integer', params=None)}), 'T': DeclaredTypeInstance(type='NDArray', params=None)})}, args=['-8809534465752996021', '3904670649235592956', '-3979005081292367894'], kwargs=None)], '-7176004047903659196': ['-9177130969686516551', CallNode(function='NDArrayCompat.from_ndarray', type_params=None, args=['-2952094401554747717'], kwargs=None)], '38305072810632230': ['-5281961658848897139', CallNode(function='NDArrayCompat.to_ndarray', type_params=None, args=['-7176004047903659196'], kwargs=None)], '3438482133718761997': ['3438482133718761997', CallNode(function='Either.left', type_params={'U': DeclaredTypeInstance(type='Vec', params={'T': DeclaredTypeInstance(type='Integer', params=None)}), 'T': DeclaredTypeInstance(type='Integer', params=None)}, args=['-1448899694609174123'], kwargs=None)], '-2861860061290690084': ['8486722407058537054', CallNode(function='Maybe.just', type_params={'T': DeclaredTypeInstance(type='Either', params={'U': DeclaredTypeInstance(type='Vec', params={'T': DeclaredTypeInstance(type='Integer', params=None)}), 'T': DeclaredTypeInstance(type='Integer', params=None)})}, args=['3438482133718761997'], kwargs=None)], '7728163612015094428': ['2695006792991180376', CallNode(function='Maybe.__or__', type_params={'T': DeclaredTypeInstance(type='Either', params={'U': DeclaredTypeInstance(type='Vec', params={'T': DeclaredTypeInstance(type='Integer', params=None)}), 'T': DeclaredTypeInstance(type='Integer', params=None)})}, args=['-2861860061290690084', '-4995345293142149025'], kwargs=None)], '-3009327541969435377': ['8502660837632541408', CallNode(function='Maybe.__and__', type_params={'T': DeclaredTypeInstance(type='NDArray', params=None)}, args=['-4426976549251226415', '7728163612015094428'], kwargs=None)], '-2876691355224468715': ['4035649169692160937', CallNode(function='Maybe.match', type_params={'T': DeclaredTypeInstance(type='Pair', params={'U': DeclaredTypeInstance(type='Either', params={'U': DeclaredTypeInstance(type='Vec', params={'T': DeclaredTypeInstance(type='Integer', params=None)}), 'T': DeclaredTypeInstance(type='Integer', params=None)}), 'T': DeclaredTypeInstance(type='NDArray', params=None)})}, args=['-3009327541969435377', '3904670649235592956', '-3979005081292367894'], kwargs=None)], '2253509439300303538': ['-9177130969686516551', CallNode(function='NDArrayCompat.from_ndarray', type_params=None, args=['-2876691355224468715'], kwargs=None)], '7046481236595167785': ['-5281961658848897139', CallNode(function='NDArrayCompat.to_ndarray', type_params=None, args=['2253509439300303538'], kwargs=None)], '8955685588577225007': ['2695006792991180376', CallNode(function='Maybe.just', type_params=None, args=['3438482133718761997'], kwargs=None)], '-137826882274979556': ['8502660837632541408', CallNode(function='Maybe.__and__', type_params={'T': DeclaredTypeInstance(type='NDArray', params=None)}, args=['-4426976549251226415', '8955685588577225007'], kwargs=None)], '-9207658077265931433': ['4035649169692160937', CallNode(function='Maybe.match', type_params={'T': DeclaredTypeInstance(type='Pair', params={'U': DeclaredTypeInstance(type='Either', params={'U': DeclaredTypeInstance(type='Vec', params={'T': DeclaredTypeInstance(type='Integer', params=None)}), 'T': DeclaredTypeInstance(type='Integer', params=None)}), 'T': DeclaredTypeInstance(type='NDArray', params=None)})}, args=['-137826882274979556', '3904670649235592956', '-3979005081292367894'], kwargs=None)], '6629095570166745970': ['-9177130969686516551', CallNode(function='NDArrayCompat.from_ndarray', type_params=None, args=['-9207658077265931433'], kwargs=None)], '-233472917803222217': ['-5281961658848897139', CallNode(function='NDArrayCompat.to_ndarray', type_params=None, args=['6629095570166745970'], kwargs=None)], '-5875775773204823162': ['-5875775773204823162', CallNode(function='Maybe.just', type_params={'T': DeclaredTypeInstance(type='NDArray', params=None)}, args=['-36014167958209776'], kwargs=None)], '-8027661977793249311': ['-1662407830212765793', CallNode(function='Abstraction.create', type_params=None, args=['5602477112898136929', '-5875775773204823162'], kwargs=None)], '132293261472413313': ['-7714184177713562882', CallNode(function='Abstraction.__call__', type_params={'U': DeclaredTypeInstance(type='Maybe', params={'T': DeclaredTypeInstance(type='NDArray', params=None)}), 'T': DeclaredTypeInstance(type='Integer', params=None)}, args=['-8027661977793249311', '-3131809300698277100'], kwargs=None)], '-1570463946834956669': ['-1625682492666313023', CallNode(function='NDArrayCompat.from_ndarray', type_params=None, args=['132293261472413313'], kwargs=None)], '3954943629499034635': ['-4264090195847481250', CallNode(function='NDArrayCompat.__add__', type_params=None, args=['1182744138744153998', '-1570463946834956669'], kwargs=None)], '-1830947424158894334': ['-4657327696202073921', CallNode(function='Converter.convert', type_params={'T': DeclaredTypeInstance(type='NDArray', params=None)}, args=['3954943629499034635'], kwargs=None)], '3024162645320885814': ['8502660837632541408', CallNode(function='Maybe.__and__', type_params={'T': DeclaredTypeInstance(type='NDArray', params=None)}, args=['-1830947424158894334', '8955685588577225007'], kwargs=None)], '3406801853680613610': ['4035649169692160937', CallNode(function='Maybe.match', type_params={'T': DeclaredTypeInstance(type='Pair', params={'U': DeclaredTypeInstance(type='Either', params={'U': DeclaredTypeInstance(type='Vec', params={'T': DeclaredTypeInstance(type='Integer', params=None)}), 'T': DeclaredTypeInstance(type='Integer', params=None)}), 'T': DeclaredTypeInstance(type='NDArray', params=None)})}, args=['3024162645320885814', '3904670649235592956', '-3979005081292367894'], kwargs=None)], '1142402503048777745': ['-9177130969686516551', CallNode(function='NDArrayCompat.from_ndarray', type_params=None, args=['3406801853680613610'], kwargs=None)], '2679162014291103286': ['-5281961658848897139', CallNode(function='NDArrayCompat.to_ndarray', type_params=None, args=['1142402503048777745'], kwargs=None)], '5668266280651108832': ['5668266280651108832', CallNode(function='arange_', type_params=None, args=['-3131809300698277100'], kwargs=None)], '8522449151473608332': ['-7714184177713562882', CallNode(function='Maybe.just', type_params={'T': DeclaredTypeInstance(type='NDArray', params=None)}, args=['5668266280651108832'], kwargs=None)], '538172979487181565': ['-1625682492666313023', CallNode(function='NDArrayCompat.from_ndarray', type_params=None, args=['8522449151473608332'], kwargs=None)], '-4650555701787094139': ['-4264090195847481250', CallNode(function='NDArrayCompat.__add__', type_params=None, args=['1182744138744153998', '538172979487181565'], kwargs=None)], '-2292070056515589903': ['-4657327696202073921', CallNode(function='Converter.convert', type_params={'T': DeclaredTypeInstance(type='NDArray', params=None)}, args=['-4650555701787094139'], kwargs=None)], '-9034280047187996927': ['8502660837632541408', CallNode(function='Maybe.__and__', type_params={'T': DeclaredTypeInstance(type='NDArray', params=None)}, args=['-2292070056515589903', '8955685588577225007'], kwargs=None)], '7963321782420935429': ['4035649169692160937', CallNode(function='Maybe.match', type_params={'T': DeclaredTypeInstance(type='Pair', params={'U': DeclaredTypeInstance(type='Either', params={'U': DeclaredTypeInstance(type='Vec', params={'T': DeclaredTypeInstance(type='Integer', params=None)}), 'T': DeclaredTypeInstance(type='Integer', params=None)}), 'T': DeclaredTypeInstance(type='NDArray', params=None)})}, args=['-9034280047187996927', '3904670649235592956', '-3979005081292367894'], kwargs=None)], '-4809068257750643778': ['-9177130969686516551', CallNode(function='NDArrayCompat.from_ndarray', type_params=None, args=['7963321782420935429'], kwargs=None)], '-7742234567815799009': ['-5281961658848897139', CallNode(function='NDArrayCompat.to_ndarray', type_params=None, args=['-4809068257750643778'], kwargs=None)], '-6022807547901512444': ['-4264090195847481250', CallNode(function='NDArrayCompat.__add__', type_params=None, args=['-1570463946834956669', '538172979487181565'], kwargs=None)], '-1012365816900040780': ['-4657327696202073921', CallNode(function='Converter.convert', type_params={'T': DeclaredTypeInstance(type='NDArray', params=None)}, args=['-6022807547901512444'], kwargs=None)], '-3924048906950690208': ['8502660837632541408', CallNode(function='Maybe.__and__', type_params={'T': DeclaredTypeInstance(type='NDArray', params=None)}, args=['-1012365816900040780', '8955685588577225007'], kwargs=None)], '-6898080762443331342': ['4035649169692160937', CallNode(function='Maybe.match', type_params={'T': DeclaredTypeInstance(type='Pair', params={'U': DeclaredTypeInstance(type='Either', params={'U': DeclaredTypeInstance(type='Vec', params={'T': DeclaredTypeInstance(type='Integer', params=None)}), 'T': DeclaredTypeInstance(type='Integer', params=None)}), 'T': DeclaredTypeInstance(type='NDArray', params=None)})}, args=['-3924048906950690208', '3904670649235592956', '-3979005081292367894'], kwargs=None)], '-1397785812529730010': ['-9177130969686516551', CallNode(function='NDArrayCompat.from_ndarray', type_params=None, args=['-6898080762443331342'], kwargs=None)], '1240424551539893949': ['-5281961658848897139', CallNode(function='NDArrayCompat.to_ndarray', type_params=None, args=['-1397785812529730010'], kwargs=None)], '-2148437186735635834': ['-4264090195847481250', CallNode(function='NDArrayCompat.__add__', type_params=None, args=['538172979487181565', '538172979487181565'], kwargs=None)], '7475225506484376816': ['-4657327696202073921', CallNode(function='Converter.convert', type_params={'T': DeclaredTypeInstance(type='NDArray', params=None)}, args=['-2148437186735635834'], kwargs=None)], '2342498251596656547': ['8502660837632541408', CallNode(function='Maybe.__and__', type_params={'T': DeclaredTypeInstance(type='NDArray', params=None)}, args=['7475225506484376816', '8955685588577225007'], kwargs=None)], '-3387562152484636417': ['4035649169692160937', CallNode(function='Maybe.match', type_params={'T': DeclaredTypeInstance(type='Pair', params={'U': DeclaredTypeInstance(type='Either', params={'U': DeclaredTypeInstance(type='Vec', params={'T': DeclaredTypeInstance(type='Integer', params=None)}), 'T': DeclaredTypeInstance(type='Integer', params=None)}), 'T': DeclaredTypeInstance(type='NDArray', params=None)})}, args=['2342498251596656547', '3904670649235592956', '-3979005081292367894'], kwargs=None)], '-90314547274914256': ['-9177130969686516551', CallNode(function='NDArrayCompat.from_ndarray', type_params=None, args=['-3387562152484636417'], kwargs=None)], '5970789552854311683': ['-5281961658848897139', CallNode(function='NDArrayCompat.to_ndarray', type_params=None, args=['-90314547274914256'], kwargs=None)], '-3411503716089640314': ['5755504588054598894', CallNode(function='NDArray.__add__', type_params=None, args=['5668266280651108832', '5668266280651108832'], kwargs=None)], '8225854957596729840': ['-4657327696202073921', CallNode(function='Maybe.just', type_params=None, args=['-3411503716089640314'], kwargs=None)], '7411810815739975417': ['-4264090195847481250', CallNode(function='NDArrayCompat.from_ndarray', type_params=None, args=['8225854957596729840'], kwargs=None)], '-3044042026182915790': ['-4657327696202073921', CallNode(function='Converter.convert', type_params={'T': DeclaredTypeInstance(type='NDArray', params=None)}, args=['7411810815739975417'], kwargs=None)], '-5384039155452932543': ['8502660837632541408', CallNode(function='Maybe.__and__', type_params={'T': DeclaredTypeInstance(type='NDArray', params=None)}, args=['-3044042026182915790', '8955685588577225007'], kwargs=None)], '-2401271500172572526': ['4035649169692160937', CallNode(function='Maybe.match', type_params={'T': DeclaredTypeInstance(type='Pair', params={'U': DeclaredTypeInstance(type='Either', params={'U': DeclaredTypeInstance(type='Vec', params={'T': DeclaredTypeInstance(type='Integer', params=None)}), 'T': DeclaredTypeInstance(type='Integer', params=None)}), 'T': DeclaredTypeInstance(type='NDArray', params=None)})}, args=['-5384039155452932543', '3904670649235592956', '-3979005081292367894'], kwargs=None)], '8177597676630684467': ['-9177130969686516551', CallNode(function='NDArrayCompat.from_ndarray', type_params=None, args=['-2401271500172572526'], kwargs=None)], '-1887839988067155443': ['-5281961658848897139', CallNode(function='NDArrayCompat.to_ndarray', type_params=None, args=['8177597676630684467'], kwargs=None)], '3276076990700150435': ['8502660837632541408', CallNode(function='Maybe.__and__', type_params={'T': DeclaredTypeInstance(type='NDArray', params=None)}, args=['8225854957596729840', '8955685588577225007'], kwargs=None)], '-2287343561468040193': ['4035649169692160937', CallNode(function='Maybe.match', type_params={'T': DeclaredTypeInstance(type='Pair', params={'U': DeclaredTypeInstance(type='Either', params={'U': DeclaredTypeInstance(type='Vec', params={'T': DeclaredTypeInstance(type='Integer', params=None)}), 'T': DeclaredTypeInstance(type='Integer', params=None)}), 'T': DeclaredTypeInstance(type='NDArray', params=None)})}, args=['3276076990700150435', '3904670649235592956', '-3979005081292367894'], kwargs=None)], '1992900434640576717': ['-9177130969686516551', CallNode(function='NDArrayCompat.from_ndarray', type_params=None, args=['-2287343561468040193'], kwargs=None)], '-7692020475537396670': ['-5281961658848897139', CallNode(function='NDArrayCompat.to_ndarray', type_params=None, args=['1992900434640576717'], kwargs=None)], '3281441242190016612': ['3281441242190016612', CallNode(function='Pair.create', type_params=None, args=['-3411503716089640314', '3438482133718761997'], kwargs=None)], '-3022580817830158000': ['8502660837632541408', CallNode(function='Maybe.just', type_params=None, args=['3281441242190016612'], kwargs=None)], '483821876708433058': ['4035649169692160937', CallNode(function='Maybe.match', type_params={'T': DeclaredTypeInstance(type='Pair', params={'U': DeclaredTypeInstance(type='Either', params={'U': DeclaredTypeInstance(type='Vec', params={'T': DeclaredTypeInstance(type='Integer', params=None)}), 'T': DeclaredTypeInstance(type='Integer', params=None)}), 'T': DeclaredTypeInstance(type='NDArray', params=None)})}, args=['-3022580817830158000', '3904670649235592956', '-3979005081292367894'], kwargs=None)], '7721075201050541004': ['-9177130969686516551', CallNode(function='NDArrayCompat.from_ndarray', type_params=None, args=['483821876708433058'], kwargs=None)], '-2545139309697966504': ['-5281961658848897139', CallNode(function='NDArrayCompat.to_ndarray', type_params=None, args=['7721075201050541004'], kwargs=None)], '-1377547289922163818': ['4035649169692160937', CallNode(function='Abstraction.__call__', type_params={'U': DeclaredTypeInstance(type='Maybe', params={'T': DeclaredTypeInstance(type='NDArray', params=None)}), 'T': DeclaredTypeInstance(type='Pair', params={'U': DeclaredTypeInstance(type='Either', params={'U': DeclaredTypeInstance(type='Vec', params={'T': DeclaredTypeInstance(type='Integer', params=None)}), 'T': DeclaredTypeInstance(type='Integer', params=None)}), 'T': DeclaredTypeInstance(type='NDArray', params=None)})}, args=['-3979005081292367894', '3281441242190016612'], kwargs=None)], '-4054743589875753688': ['-9177130969686516551', CallNode(function='NDArrayCompat.from_ndarray', type_params=None, args=['-1377547289922163818'], kwargs=None)], '-8213289279091853680': ['-5281961658848897139', CallNode(function='NDArrayCompat.to_ndarray', type_params=None, args=['-4054743589875753688'], kwargs=None)], '5755504588054598894': ['5755504588054598894', CallNode(function='Pair.left', type_params={'U': DeclaredTypeInstance(type='Either', params={'U': DeclaredTypeInstance(type='Vec', params={'T': DeclaredTypeInstance(type='Integer', params=None)}), 'T': DeclaredTypeInstance(type='Integer', params=None)}), 'T': DeclaredTypeInstance(type='NDArray', params=None)}, args=['3281441242190016612'], kwargs=None)], '-7696148307407477498': ['-7696148307407477498', CallNode(function='Pair.right', type_params={'U': DeclaredTypeInstance(type='Either', params={'U': DeclaredTypeInstance(type='Vec', params={'T': DeclaredTypeInstance(type='Integer', params=None)}), 'T': DeclaredTypeInstance(type='Integer', params=None)}), 'T': DeclaredTypeInstance(type='NDArray', params=None)}, args=['3281441242190016612'], kwargs=None)], '1706398612661724173': ['1706398612661724173', CallNode(function='NDArray.__getitem__', type_params=None, args=['5755504588054598894', '-7696148307407477498'], kwargs=None)], '7576600612786205063': ['4035649169692160937', CallNode(function='Maybe.just', type_params={'T': DeclaredTypeInstance(type='NDArray', params=None)}, args=['1706398612661724173'], kwargs=None)], '7604809585525828148': ['-9177130969686516551', CallNode(function='NDArrayCompat.from_ndarray', type_params=None, args=['7576600612786205063'], kwargs=None)], '-7442556872907999520': ['-5281961658848897139', CallNode(function='NDArrayCompat.to_ndarray', type_params=None, args=['7604809585525828148'], kwargs=None)], '1510050165098996054': ['1706398612661724173', CallNode(function='NDArray.__getitem__', type_params=None, args=['5755504588054598894', '3438482133718761997'], kwargs=None)], '-8020584022532179864': ['4035649169692160937', CallNode(function='Maybe.just', type_params={'T': DeclaredTypeInstance(type='NDArray', params=None)}, args=['1510050165098996054'], kwargs=None)], '8145083593342055103': ['-9177130969686516551', CallNode(function='NDArrayCompat.from_ndarray', type_params=None, args=['-8020584022532179864'], kwargs=None)], '3497394292135972729': ['-5281961658848897139', CallNode(function='NDArrayCompat.to_ndarray', type_params=None, args=['8145083593342055103'], kwargs=None)], '167139333153174711': ['1706398612661724173', CallNode(function='NDArray.__getitem__', type_params=None, args=['-3411503716089640314', '3438482133718761997'], kwargs=None)], '232939652242167621': ['4035649169692160937', CallNode(function='Maybe.just', type_params={'T': DeclaredTypeInstance(type='NDArray', params=None)}, args=['167139333153174711'], kwargs=None)], '-2407715966420202401': ['-9177130969686516551', CallNode(function='NDArrayCompat.from_ndarray', type_params=None, args=['232939652242167621'], kwargs=None)], '7892748191390383189': ['-5281961658848897139', CallNode(function='NDArrayCompat.to_ndarray', type_params=None, args=['-2407715966420202401'], kwargs=None)], '4074577022649293540': ['4074577022649293540', CallNode(function='NDArray.__getitem__', type_params=None, args=['5668266280651108832', '3438482133718761997'], kwargs=None)], '7373952721722758372': ['7373952721722758372', CallNode(function='NDArray.__add__', type_params=None, args=['4074577022649293540', '4074577022649293540'], kwargs=None)], '-733937185094673067': ['4035649169692160937', CallNode(function='Maybe.just', type_params={'T': DeclaredTypeInstance(type='NDArray', params=None)}, args=['7373952721722758372'], kwargs=None)], '7130961231851722511': ['-9177130969686516551', CallNode(function='NDArrayCompat.from_ndarray', type_params=None, args=['-733937185094673067'], kwargs=None)], '-1877078773385754871': ['-5281961658848897139', CallNode(function='NDArrayCompat.to_ndarray', type_params=None, args=['7130961231851722511'], kwargs=None)], '3904821806622877777': ['-5281961658848897139', CallNode(function='NDArray.to_ndarray', type_params=None, args=['7373952721722758372'], kwargs=None)], '-723946642597332421': ['-723946642597332421', CallNode(function='NDArray.to_ndarray', type_params=None, args=['4074577022649293540'], kwargs=None)], '-5034921434684324421': ['-5281961658848897139', CallNode(function='ndarray_add', type_params=None, args=['-723946642597332421', '-723946642597332421'], kwargs=None)], '1478565890208829064': ['1478565890208829064', CallNode(function='NDArray.to_ndarray', type_params=None, args=['5668266280651108832'], kwargs=None)], '8368899336284295099': ['8368899336284295099', CallNode(function='unbox_idxs', type_params=None, args=['3438482133718761997'], kwargs=None)], '-4529994381046582686': ['-723946642597332421', CallNode(function='ndarray_getitem', type_params=None, args=['1478565890208829064', '8368899336284295099'], kwargs=None)], '-1235563763381942461': ['-5281961658848897139', CallNode(function='ndarray_add', type_params=None, args=['-4529994381046582686', '-4529994381046582686'], kwargs=None)], '-8591904898952679221': ['8368899336284295099', CallNode(function='unbox_integer', type_params=None, args=['-1448899694609174123'], kwargs=None)], '7498594492410777200': ['-723946642597332421', CallNode(function='ndarray_getitem', type_params=None, args=['1478565890208829064', '-8591904898952679221'], kwargs=None)], '-1793125784451659429': ['-5281961658848897139', CallNode(function='ndarray_add', type_params=None, args=['7498594492410777200', '7498594492410777200'], kwargs=None)], '8763410445298449381': ['-723946642597332421', CallNode(function='ndarray_getitem', type_params=None, args=['1478565890208829064', '7929563447330875300'], kwargs=None)], '-5949359165855776123': ['-5281961658848897139', CallNode(function='ndarray_add', type_params=None, args=['8763410445298449381', '8763410445298449381'], kwargs=None)], '6695801540915528909': ['6695801540915528909', CallNode(function='unbox_integer', type_params=None, args=['-3131809300698277100'], kwargs=None)], '1888482096358126515': ['1478565890208829064', CallNode(function='arange', type_params=None, args=['6695801540915528909'], kwargs=None)], '3455548431527478986': ['-723946642597332421', CallNode(function='ndarray_getitem', type_params=None, args=['1888482096358126515', '7929563447330875300'], kwargs=None)], '-2285846794637674533': ['-5281961658848897139', CallNode(function='ndarray_add', type_params=None, args=['3455548431527478986', '3455548431527478986'], kwargs=None)], '-7172645340293335110': ['1478565890208829064', CallNode(function='arange', type_params=None, args=['7929563447225870375'], kwargs=None)], '5173449264886962518': ['-723946642597332421', CallNode(function='ndarray_getitem', type_params=None, args=['-7172645340293335110', '7929563447330875300'], kwargs=None)], '-4578509408724638683': ['-5281961658848897139', CallNode(function='ndarray_add', type_params=None, args=['5173449264886962518', '5173449264886962518'], kwargs=None)], '4681656829173886725': ['1478565890208829064', PrimitiveNode(type='ndarray', repr='array([ 0,  1,  2,  3,  4,  5,  6,  7,  8,  9, 10, 11, 12, 13, 14, 15, 16,\\n       17, 18, 19, 20, 21, 22, 23, 24, 25, 26, 27, 28, 29, 30, 31, 32, 33,\\n       34, 35, 36, 37, 38, 39, 40, 41, 42, 43, 44, 45, 46, 47, 48, 49, 50,\\n       51, 52, 53, 54, 55, 56, 57, 58, 59, 60, 61, 62, 63, 64, 65, 66, 67,\\n       68, 69, 70, 71, 72, 73, 74, 75, 76, 77, 78, 79, 80, 81, 82, 83, 84,\\n       85, 86, 87, 88, 89, 90, 91, 92, 93, 94, 95, 96, 97, 98, 99])')], '2894871816508087462': ['-723946642597332421', CallNode(function='ndarray_getitem', type_params=None, args=['4681656829173886725', '7929563447330875300'], kwargs=None)], '-8880940085851648301': ['-5281961658848897139', CallNode(function='ndarray_add', type_params=None, args=['2894871816508087462', '2894871816508087462'], kwargs=None)], '4681656006991819125': ['-723946642597332421', PrimitiveNode(type='ndarray', repr='array(5)')], '8331835693138365875': ['-5281961658848897139', CallNode(function='ndarray_add', type_params=None, args=['4681656006991819125', '4681656006991819125'], kwargs=None)], '-4499179060701053183': ['-5281961658848897139', PrimitiveNode(type='int64', repr='10')]}, states=States(initial='-5281961658848897139', states=[State(node='2957650358123280855', rule='metadsl_core.numpy.NDArrayCompat.__getitem__', label=None), State(node='-2372905008136394232', rule='metadsl_core.either.convert_to_either', label=None), State(node='-4245698127611375010', rule='metadsl_core.integer.convert_integer', label=None), State(node='7509929552176292051', rule='metadsl_core.numpy.arange', label=None), State(node='-2257581189001708563', rule='metadsl_core.integer.convert_integer', label=None), State(node='4555003153227544087', rule='metadsl_core.abstraction.Abstraction.from_fn', label=None), State(node='-1584840993100416059', rule='metadsl_core.abstraction.Abstraction.from_fn', label=None), State(node='-3588758348911579279', rule='metadsl_core.abstraction.Abstraction.from_fn', label=None), State(node='-2820208290180765478', rule='metadsl_core.abstraction.Abstraction.from_fn', label=None), State(node='-2536339837989076326', rule='metadsl_core.maybe.Maybe.map', label=None), State(node='-6140945438237859125', rule='metadsl_core.maybe.Maybe.map', label=None), State(node='7209205958286522155', rule='metadsl_core.maybe.Maybe.map', label=None), State(node='-2555114394254853763', rule='metadsl_core.maybe.maybe_match', label=None), State(node='-105242845287374559', rule='metadsl_core.maybe.Maybe.map', label=None), State(node='-8887125472162681221', rule='metadsl_core.maybe.Maybe.map', label=None), State(node='-2549737338481120339', rule='metadsl_core.maybe.maybe_match', label=None), State(node='4920957871297456837', rule='metadsl_core.maybe.maybe_match', label=None), State(node='5152011804381047120', rule='metadsl_core.abstraction.Abstraction.from_fn', label=None), State(node='-2548520950610565718', rule='metadsl_core.abstraction.Abstraction.from_fn', label=None), State(node='1216816452931342751', rule='metadsl_core.abstraction.Abstraction.from_fn', label=None), State(node='233197053466742600', rule='metadsl_core.abstraction.compose', label=None), State(node='2545441806645579178', rule='metadsl_core.abstraction.compose', label=None), State(node='38305072810632230', rule='metadsl_core.abstraction.compose', label=None), State(node='7046481236595167785', rule='metadsl_core.abstraction.beta_reduce', label=None), State(node='-233472917803222217', rule='metadsl_core.maybe.maybe_or', label=None), State(node='2679162014291103286', rule='metadsl_core.abstraction.compose', label=None), State(node='-7742234567815799009', rule='metadsl_core.abstraction.beta_reduce', label=None), State(node='1240424551539893949', rule='metadsl_core.abstraction.compose', label=None), State(node='5970789552854311683', rule='metadsl_core.abstraction.beta_reduce', label=None), State(node='-1887839988067155443', rule='metadsl_core.numpy.add_compat', label=None), State(node='-7692020475537396670', rule='metadsl_core.numpy.convert_to_ndarray', label=None), State(node='-2545139309697966504', rule='metadsl_core.maybe.maybe_and', label=None), State(node='-8213289279091853680', rule='metadsl_core.maybe.maybe_match', label=None), State(node='-7442556872907999520', rule='metadsl_core.abstraction.beta_reduce', label=None), State(node='3497394292135972729', rule='metadsl_core.pair.pair_right', label=None), State(node='7892748191390383189', rule='metadsl_core.pair.pair_left', label=None), State(node='-1877078773385754871', rule='__main__.optimize_getitem_add', label=None), State(node='-1877078773385754871', rule='', label='convert'), State(node='3904821806622877777', rule='metadsl_core.numpy.box_unbox_ndarray_compat', label=None), State(node='-5034921434684324421', rule='metadsl_core.numpy_engine.unbox_ndarray_add', label=None), State(node='-1235563763381942461', rule='metadsl_core.numpy_engine.unbox_ndarray_getitem', label=None), State(node='-1793125784451659429', rule='metadsl_core.numpy_engine.unbox_idxs_rule', label=None), State(node='-5949359165855776123', rule='metadsl_core.numpy_engine.unbox_integer_rule', label=None), State(node='-2285846794637674533', rule='metadsl_core.numpy_engine.unbox_arange', label=None), State(node='-4578509408724638683', rule='metadsl_core.numpy_engine.unbox_integer_rule', label=None), State(node='-4578509408724638683', rule='', label='unbox'), State(node='-8880940085851648301', rule='metadsl_core.numpy_engine.arange', label=None), State(node='8331835693138365875', rule='metadsl_core.numpy_engine.ndarray_getitem', label=None), State(node='-4499179060701053183', rule='metadsl_core.numpy_engine.ndarray_add', label=None), State(node='-4499179060701053183', rule='', label='execute')]))"
      ]
     },
     "metadata": {},
     "output_type": "display_data"
    },
    {
     "data": {
      "text/plain": [
       "10"
      ]
     },
     "metadata": {},
     "output_type": "display_data"
    }
   ],
   "source": [
    "expr = (arange(N) + arange(N))[5].to_ndarray()\n",
    "expr"
   ]
  },
  {
   "cell_type": "markdown",
   "metadata": {},
   "source": [
    "This shows how we can break up the NumPy API into different layers, all of which are extensible:\n",
    "\n",
    "1. A compatibility layer that works like the existing NumPy API, except isn't limited to the Python types of the current API\n",
    "2. A type safe version of this API. The conversion between the compatability layer and this layer is extensible, so that third party authors can add new conversion between their own Python objects and the typed representation.\n",
    "3. A backend layer that translates either back to Python calls or source code, or to other targets like LLVM or Tensorflow.\n",
    "\n",
    "The key is that all these layers are composable, so you could have different frontends for any of them or add your own. This is all done through a typed replacement system that is compatible with static analysis using MyPy.\n",
    "\n",
    "`metadsl` is the glue that allows us to define this API in a way that enables greater greater collaboration. Since each layer has it's own well defined specification, different projects can extend and target these seperate layers, while minimizing the need to explicitly opt in to collaborate. The goal is to enable greater reuse, interoperability, and extensability within the Python scientific ecosystem."
   ]
  }
 ],
 "metadata": {
  "kernelspec": {
   "display_name": "Python 3",
   "language": "python",
   "name": "python3"
  },
  "language_info": {
   "codemirror_mode": {
    "name": "ipython",
    "version": 3
   },
   "file_extension": ".py",
   "mimetype": "text/x-python",
   "name": "python",
   "nbconvert_exporter": "python",
   "pygments_lexer": "ipython3",
   "version": "3.7.3"
  }
 },
 "nbformat": 4,
 "nbformat_minor": 4
}
