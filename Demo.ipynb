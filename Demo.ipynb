{
 "cells": [
  {
   "cell_type": "markdown",
   "metadata": {},
   "source": [
    "# `metadsl`\n",
    "\n",
    "...is a framework for creating domain specific languages in Python."
   ]
  },
  {
   "cell_type": "code",
   "execution_count": 1,
   "metadata": {},
   "outputs": [],
   "source": [
    "from __future__ import annotations\n",
    "\n",
    "from metadsl import *\n",
    "from metadsl_core import *\n",
    "from metadsl_visualize import *"
   ]
  },
  {
   "cell_type": "markdown",
   "metadata": {},
   "source": [
    "Here, we show a NumPy API compatible DSL that we have started writing. We can create a symbolic expression and then execute it. The widget shows the different stages of execution:"
   ]
  },
  {
   "cell_type": "code",
   "execution_count": 2,
   "metadata": {},
   "outputs": [
    {
     "data": {
      "application/json": {
       "nodes": {
        "-1010262108927125773": [
         "-1010262108927125773",
         {
          "args": [
           "-7334224414564589854"
          ],
          "function": "Maybe.just"
         }
        ],
        "-1016045937770588202": [
         "9185684620050578154",
         {
          "args": [
           "2234741608541215826"
          ],
          "function": "Maybe.just",
          "type_params": {
           "T": {
            "params": {
             "T": {
              "type": "Integer"
             },
             "U": {
              "params": {
               "T": {
                "type": "Integer"
               }
              },
              "type": "Vec"
             }
            },
            "type": "Either"
           }
          }
         }
        ],
        "-1026313121908345213": [
         "-4814678537500170364",
         {
          "args": [
           "-1156468161871471630",
           "6856229555535770924"
          ],
          "function": "Maybe.__and__",
          "type_params": {
           "T": {
            "type": "NDArray"
           }
          }
         }
        ],
        "-1055990109103758883": [
         "-1055990109103758883",
         {
          "args": [
           "-4814678537500170364",
           "7031873113613421220"
          ],
          "function": "Maybe.map",
          "type_params": {
           "T": {
            "params": {
             "T": {
              "type": "NDArray"
             },
             "U": {
              "params": {
               "T": {
                "type": "Integer"
               },
               "U": {
                "params": {
                 "T": {
                  "type": "Integer"
                 }
                },
                "type": "Vec"
               }
              },
              "type": "Either"
             }
            },
            "type": "Pair"
           }
          }
         }
        ],
        "-1156468161871471630": [
         "7947258440880147023",
         {
          "args": [
           "-3654042068687366610"
          ],
          "function": "Converter.convert",
          "type_params": {
           "T": {
            "type": "NDArray"
           }
          }
         }
        ],
        "-1163157815125262957": [
         "-8125902144106883229",
         {
          "args": [
           "-2728638420105509621"
          ],
          "function": "Maybe.just",
          "type_params": {
           "T": {
            "type": "NDArray"
           }
          }
         }
        ],
        "-1204856444816838500": [
         "-8054137683011941171",
         {
          "args": [
           "-5980548734597163353"
          ],
          "function": "NDArrayCompat.from_ndarray"
         }
        ],
        "-1223578185388110866": [
         "-1055990109103758883",
         {
          "args": [
           "-7774097712138673687",
           "1086476962447876602"
          ],
          "function": "Maybe.map",
          "type_params": {
           "T": {
            "params": {
             "T": {
              "type": "NDArray"
             },
             "U": {
              "params": {
               "T": {
                "type": "Integer"
               },
               "U": {
                "params": {
                 "T": {
                  "type": "Integer"
                 }
                },
                "type": "Vec"
               }
              },
              "type": "Either"
             }
            },
            "type": "Pair"
           }
          }
         }
        ],
        "-1257909439195940719": [
         "6606662420229354367",
         {
          "args": [
           "-9111585453556964138",
           "4035559444610765789"
          ],
          "function": "Maybe.__or__",
          "type_params": {
           "T": {
            "params": {
             "T": {
              "type": "Integer"
             },
             "U": {
              "params": {
               "T": {
                "type": "Integer"
               }
              },
              "type": "Vec"
             }
            },
            "type": "Either"
           }
          }
         }
        ],
        "-1519619319546324696": [
         "2204185982366297925",
         {
          "args": [
           "2836610356540546088"
          ],
          "function": "NDArrayCompat.from_ndarray"
         }
        ],
        "-1643751931071470440": [
         "-7774097712138673687",
         {
          "args": [
           "-6026802563305382491",
           "-6935731215494089261"
          ],
          "function": "Maybe.__and__",
          "type_params": {
           "T": {
            "type": "NDArray"
           }
          }
         }
        ],
        "-1741944831158160669": [
         "-1741944831158160669",
         {
          "function": "Maybe.nothing",
          "type_params": {
           "T": {
            "type": "NDArray"
           }
          }
         }
        ],
        "-1743313584654778961": [
         "-1743313584654778961",
         {
          "repr": "Either.right",
          "type": "BoundInfer"
         }
        ],
        "-177182266443459815": [
         "-4814678537500170364",
         {
          "args": [
           "-1156468161871471630",
           "-2221606549504931728"
          ],
          "function": "Maybe.__and__",
          "type_params": {
           "T": {
            "type": "NDArray"
           }
          }
         }
        ],
        "-1834663258746100869": [
         "-8054137683011941171",
         {
          "args": [
           "-2853208546089932377"
          ],
          "function": "NDArrayCompat.from_ndarray"
         }
        ],
        "-2083092937690161639": [
         "-1055990109103758883",
         {
          "args": [
           "-4889097378641880829",
           "-1741944831158160669",
           "-4006968251054608271"
          ],
          "function": "Maybe.match",
          "type_params": {
           "T": {
            "params": {
             "T": {
              "type": "NDArray"
             },
             "U": {
              "params": {
               "T": {
                "type": "Integer"
               },
               "U": {
                "params": {
                 "T": {
                  "type": "Integer"
                 }
                },
                "type": "Vec"
               }
              },
              "type": "Either"
             }
            },
            "type": "Pair"
           }
          }
         }
        ],
        "-2097076808746091769": [
         "-1055990109103758883",
         {
          "args": [
           "1432287808875976594",
           "-1741944831158160669",
           "-5849131892695947717"
          ],
          "function": "Maybe.match",
          "type_params": {
           "T": {
            "params": {
             "T": {
              "type": "NDArray"
             },
             "U": {
              "params": {
               "T": {
                "type": "Integer"
               },
               "U": {
                "params": {
                 "T": {
                  "type": "Integer"
                 }
                },
                "type": "Vec"
               }
              },
              "type": "Either"
             }
            },
            "type": "Pair"
           }
          }
         }
        ],
        "-2111825957195779556": [
         "-8020448314167642308",
         {
          "args": [
           "-3019841021786883956",
           "-3019841021786883956"
          ],
          "function": "NDArrayCompat.__add__"
         }
        ],
        "-2166330811180776367": [
         "-2166330811180776367",
         {
          "args": [
           "-3417637043715638955"
          ],
          "function": "Pair.left",
          "type_params": {
           "T": {
            "type": "NDArray"
           },
           "U": {
            "params": {
             "T": {
              "type": "Integer"
             },
             "U": {
              "params": {
               "T": {
                "type": "Integer"
               }
              },
              "type": "Vec"
             }
            },
            "type": "Either"
           }
          }
         }
        ],
        "-2203303042166162505": [
         "-2203303042166162505",
         {
          "args": [
           "7616326404151103511"
          ],
          "function": "Pair.left",
          "type_params": {
           "T": {
            "type": "NDArray"
           },
           "U": {
            "params": {
             "T": {
              "type": "Integer"
             },
             "U": {
              "params": {
               "T": {
                "type": "Integer"
               }
              },
              "type": "Vec"
             }
            },
            "type": "Either"
           }
          }
         }
        ],
        "-2221606549504931728": [
         "-7413928963025066946",
         {
          "args": [
           "9185684620050578154",
           "4687392789662792897"
          ],
          "function": "Maybe.__or__",
          "type_params": {
           "T": {
            "params": {
             "T": {
              "type": "Integer"
             },
             "U": {
              "params": {
               "T": {
                "type": "Integer"
               }
              },
              "type": "Vec"
             }
            },
            "type": "Either"
           }
          }
         }
        ],
        "-2266514298468117634": [
         "-2266514298468117634",
         {
          "repr": "Maybe.just",
          "type": "BoundInfer"
         }
        ],
        "-2313527872926375608": [
         "-8125902144106883229",
         {
          "args": [
           "5710602366917524060",
           "-6362610179852757995"
          ],
          "function": "Abstraction.__call__",
          "type_params": {
           "T": {
            "type": "Integer"
           },
           "U": {
            "params": {
             "T": {
              "type": "NDArray"
             }
            },
            "type": "Maybe"
           }
          }
         }
        ],
        "-2412009377546269807": [
         "-1055990109103758883",
         {
          "args": [
           "1182897658369612985",
           "-1741944831158160669",
           "-4006968251054608271"
          ],
          "function": "Maybe.match",
          "type_params": {
           "T": {
            "params": {
             "T": {
              "type": "NDArray"
             },
             "U": {
              "params": {
               "T": {
                "type": "Integer"
               },
               "U": {
                "params": {
                 "T": {
                  "type": "Integer"
                 }
                },
                "type": "Vec"
               }
              },
              "type": "Either"
             }
            },
            "type": "Pair"
           }
          }
         }
        ],
        "-242142689691567201": [
         "-242142689691567201",
         {
          "args": [
           "2234741608541215826"
          ],
          "function": "unbox_idxs"
         }
        ],
        "-2543239021466432252": [
         "-2612058384443202226",
         {
          "args": [
           "-3947284529329432452"
          ],
          "function": "Converter.convert",
          "type_params": {
           "T": {
            "type": "NDArray"
           }
          }
         }
        ],
        "-2612058384443202226": [
         "-2612058384443202226",
         {
          "args": [
           "-8020448314167642308"
          ],
          "function": "Converter.convert",
          "type_params": {
           "T": {
            "type": "NDArray"
           }
          }
         }
        ],
        "-266809558131030456": [
         "4165022598424862665",
         {
          "args": [
           "-2925862996932521592"
          ],
          "function": "NDArrayCompat.to_ndarray"
         }
        ],
        "-2721977203944501192": [
         "-1055990109103758883",
         {
          "args": [
           "8199993726224451980",
           "7031873113613421220"
          ],
          "function": "Maybe.map",
          "type_params": {
           "T": {
            "params": {
             "T": {
              "type": "NDArray"
             },
             "U": {
              "params": {
               "T": {
                "type": "Integer"
               },
               "U": {
                "params": {
                 "T": {
                  "type": "Integer"
                 }
                },
                "type": "Vec"
               }
              },
              "type": "Either"
             }
            },
            "type": "Pair"
           }
          }
         }
        ],
        "-2728638420105509621": [
         "-2728638420105509621",
         {
          "args": [
           "-6362610179852757995"
          ],
          "function": "arange_"
         }
        ],
        "-2853208546089932377": [
         "-1055990109103758883",
         {
          "args": [
           "-1026313121908345213",
           "1086476962447876602"
          ],
          "function": "Maybe.map",
          "type_params": {
           "T": {
            "params": {
             "T": {
              "type": "NDArray"
             },
             "U": {
              "params": {
               "T": {
                "type": "Integer"
               },
               "U": {
                "params": {
                 "T": {
                  "type": "Integer"
                 }
                },
                "type": "Vec"
               }
              },
              "type": "Either"
             }
            },
            "type": "Pair"
           }
          }
         }
        ],
        "-2925862996932521592": [
         "-8054137683011941171",
         {
          "args": [
           "2431515222273860616"
          ],
          "function": "NDArrayCompat.from_ndarray"
         }
        ],
        "-2946654602699934174": [
         "-8020448314167642308",
         {
          "args": [
           "-1519619319546324696",
           "-1519619319546324696"
          ],
          "function": "NDArrayCompat.__add__"
         }
        ],
        "-2980477199811135322": [
         "2204185982366297925",
         {
          "args": [
           "-2313527872926375608"
          ],
          "function": "NDArrayCompat.from_ndarray"
         }
        ],
        "-3010162411960893490": [
         "-8054137683011941171",
         {
          "args": [
           "2014328262272300159"
          ],
          "function": "NDArrayCompat.from_ndarray"
         }
        ],
        "-3019841021786883956": [
         "2204185982366297925",
         {
          "args": [
           "-4190340053235037130"
          ],
          "function": "NDArrayCompat.from_ndarray"
         }
        ],
        "-3052203273464861294": [
         "-3052203273464861294",
         {
          "function": "Maybe.nothing",
          "type_params": {
           "T": {
            "params": {
             "T": {
              "type": "Integer"
             },
             "U": {
              "params": {
               "T": {
                "type": "Integer"
               }
              },
              "type": "Vec"
             }
            },
            "type": "Either"
           }
          }
         }
        ],
        "-3198979504917696568": [
         "-8054137683011941171",
         {
          "args": [
           "-5959028095944793269"
          ],
          "function": "NDArrayCompat.from_ndarray"
         }
        ],
        "-3252314534772413263": [
         "6606662420229354367",
         {
          "args": [
           "-9111585453556964138",
           "-4974165390111393856"
          ],
          "function": "Maybe.__or__",
          "type_params": {
           "T": {
            "params": {
             "T": {
              "type": "Integer"
             },
             "U": {
              "params": {
               "T": {
                "type": "Integer"
               }
              },
              "type": "Vec"
             }
            },
            "type": "Either"
           }
          }
         }
        ],
        "-3356482032731387926": [
         "-8054137683011941171",
         {
          "args": [
           "-3830912570336408588"
          ],
          "function": "NDArrayCompat.from_ndarray"
         }
        ],
        "-3417637043715638955": [
         "-3417637043715638955",
         {
          "args": [
           "7295427386607788938",
           "2234741608541215826"
          ],
          "function": "Pair.create"
         }
        ],
        "-3478057614712610906": [
         "4165022598424862665",
         {
          "args": [
           "-6437443823834153471",
           "7516757055623286900"
          ],
          "function": "ndarray_getitem"
         }
        ],
        "-3590883686264525135": [
         "-4974165390111393856",
         {
          "args": [
           "2903062968911337222",
           "-3052203273464861294",
           "-4316034631652130263"
          ],
          "function": "Maybe.match",
          "type_params": {
           "T": {
            "params": {
             "T": {
              "type": "Integer"
             }
            },
            "type": "Vec"
           }
          }
         }
        ],
        "-3593810371421164704": [
         "-3593810371421164704",
         {
          "args": [
           "-6362610179852757995"
          ],
          "function": "unbox_integer"
         }
        ],
        "-3607651342286296696": [
         "-3607651342286296696",
         {
          "args": [
           "-9156363857593975122",
           "4236997518345950211"
          ],
          "function": "Abstraction.create",
          "type_params": {
           "T": {
            "type": "Integer"
           },
           "U": {
            "type": "NDArray"
           }
          }
         }
        ],
        "-3654042068687366610": [
         "-5558510579709572674",
         {
          "args": [
           "6583497480016573524",
           "6583497480016573524"
          ],
          "function": "NDArrayCompat.__add__"
         }
        ],
        "-3675715368958408947": [
         "-7774097712138673687",
         {
          "args": [
           "6288611761615413999",
           "-1257909439195940719"
          ],
          "function": "Maybe.__and__",
          "type_params": {
           "T": {
            "type": "NDArray"
           }
          }
         }
        ],
        "-3689034126165086493": [
         "-3689034126165086493",
         {
          "args": [
           "-562755898029559237"
          ],
          "function": "Abstraction.from_fn"
         }
        ],
        "-3740630418154875537": [
         "-1055990109103758883",
         {
          "args": [
           "-5849131892695947717",
           "-3417637043715638955"
          ],
          "function": "Abstraction.__call__",
          "type_params": {
           "T": {
            "params": {
             "T": {
              "type": "NDArray"
             },
             "U": {
              "params": {
               "T": {
                "type": "Integer"
               },
               "U": {
                "params": {
                 "T": {
                  "type": "Integer"
                 }
                },
                "type": "Vec"
               }
              },
              "type": "Either"
             }
            },
            "type": "Pair"
           },
           "U": {
            "params": {
             "T": {
              "type": "NDArray"
             }
            },
            "type": "Maybe"
           }
          }
         }
        ],
        "-3781123388935602301": [
         "-3781123388935602301",
         {
          "args": [
           "-6242641388488469540"
          ],
          "function": "Maybe.just",
          "type_params": {
           "T": {
            "type": "NDArray"
           }
          }
         }
        ],
        "-3787670070481337032": [
         "-8054137683011941171",
         {
          "args": [
           "-7364785662191049572"
          ],
          "function": "NDArrayCompat.from_ndarray"
         }
        ],
        "-3830912570336408588": [
         "-1055990109103758883",
         {
          "args": [
           "-7781987752522514566",
           "-1741944831158160669",
           "-5849131892695947717"
          ],
          "function": "Maybe.match",
          "type_params": {
           "T": {
            "params": {
             "T": {
              "type": "NDArray"
             },
             "U": {
              "params": {
               "T": {
                "type": "Integer"
               },
               "U": {
                "params": {
                 "T": {
                  "type": "Integer"
                 }
                },
                "type": "Vec"
               }
              },
              "type": "Either"
             }
            },
            "type": "Pair"
           }
          }
         }
        ],
        "-3901462807584601996": [
         "-1055990109103758883",
         {
          "args": [
           "-5704966778682325114",
           "1086476962447876602"
          ],
          "function": "Maybe.map",
          "type_params": {
           "T": {
            "params": {
             "T": {
              "type": "NDArray"
             },
             "U": {
              "params": {
               "T": {
                "type": "Integer"
               },
               "U": {
                "params": {
                 "T": {
                  "type": "Integer"
                 }
                },
                "type": "Vec"
               }
              },
              "type": "Either"
             }
            },
            "type": "Pair"
           }
          }
         }
        ],
        "-3947284529329432452": [
         "-8020448314167642308",
         {
          "args": [
           "-2980477199811135322",
           "-2980477199811135322"
          ],
          "function": "NDArrayCompat.__add__"
         }
        ],
        "-4006968251054608271": [
         "-4006968251054608271",
         {
          "args": [
           "-3689034126165086493",
           "1086476962447876602"
          ],
          "function": "Abstraction.__add__",
          "type_params": {
           "T": {
            "type": "NDArray"
           },
           "U": {
            "params": {
             "T": {
              "type": "NDArray"
             }
            },
            "type": "Maybe"
           }
          }
         }
        ],
        "-4190340053235037130": [
         "-8125902144106883229",
         {
          "args": [
           "-5463825541328231257",
           "-1741944831158160669",
           "576327488382086654"
          ],
          "function": "Maybe.match",
          "type_params": {
           "T": {
            "type": "Integer"
           }
          }
         }
        ],
        "-4197977456492689751": [
         "4165022598424862665",
         {
          "args": [
           "-927448462973283222"
          ],
          "function": "NDArrayCompat.to_ndarray"
         }
        ],
        "-4316034631652130263": [
         "4127710310388454811",
         {
          "args": [
           "-524300340023843831",
           "878450276063681107"
          ],
          "function": "Abstraction.__add__",
          "type_params": {
           "T": {
            "params": {
             "T": {
              "type": "Integer"
             },
             "U": {
              "params": {
               "T": {
                "type": "Integer"
               }
              },
              "type": "Vec"
             }
            },
            "type": "Either"
           },
           "U": {
            "params": {
             "T": {
              "params": {
               "T": {
                "type": "Integer"
               },
               "U": {
                "params": {
                 "T": {
                  "type": "Integer"
                 }
                },
                "type": "Vec"
               }
              },
              "type": "Either"
             }
            },
            "type": "Maybe"
           }
          }
         }
        ],
        "-4518717273791479957": [
         "4165022598424862665",
         {
          "args": [
           "-6437443823834153471",
           "852842466831624100"
          ],
          "function": "ndarray_getitem"
         }
        ],
        "-4608393608812827134": [
         "-8020448314167642308",
         {
          "args": [
           "5050840167957568185"
          ],
          "function": "NDArrayCompat.from_ndarray"
         }
        ],
        "-4655249603592277273": [
         "4165022598424862665",
         {
          "args": [
           "-1204856444816838500"
          ],
          "function": "NDArrayCompat.to_ndarray"
         }
        ],
        "-4681697684847155292": [
         "4165022598424862665",
         {
          "args": [
           "-5149631899159039979"
          ],
          "function": "NDArrayCompat.to_ndarray"
         }
        ],
        "-4699293650293600044": [
         "-8020448314167642308",
         {
          "args": [
           "-7076490350121616374",
           "-7076490350121616374"
          ],
          "function": "NDArrayCompat.__add__"
         }
        ],
        "-4724715256758988081": [
         "5848963126652067044",
         {
          "args": [
           "-5463825541328231257",
           "-8550721238847586890"
          ],
          "function": "Maybe.map",
          "type_params": {
           "T": {
            "type": "Integer"
           }
          }
         }
        ],
        "-4814678537500170364": [
         "-4814678537500170364",
         {
          "args": [
           "7947258440880147023",
           "-7413928963025066946"
          ],
          "function": "Maybe.__and__",
          "type_params": {
           "T": {
            "type": "NDArray"
           }
          }
         }
        ],
        "-4841628976487324042": [
         "-8054137683011941171",
         {
          "args": [
           "-2721977203944501192"
          ],
          "function": "NDArrayCompat.from_ndarray"
         }
        ],
        "-4889097378641880829": [
         "-7774097712138673687",
         {
          "args": [
           "-7222866878188757834",
           "-1257909439195940719"
          ],
          "function": "Maybe.__and__",
          "type_params": {
           "T": {
            "type": "NDArray"
           }
          }
         }
        ],
        "-4902155376939906580": [
         "6336738595663581056",
         {
          "args": [
           "7295427386607788938",
           "-7588579201374007797"
          ],
          "function": "NDArray.__getitem__"
         }
        ],
        "-4974165390111393856": [
         "-4974165390111393856",
         {
          "args": [
           "2903062968911337222",
           "878450276063681107"
          ],
          "function": "Maybe.map",
          "type_params": {
           "T": {
            "params": {
             "T": {
              "type": "Integer"
             }
            },
            "type": "Vec"
           }
          }
         }
        ],
        "-5149631899159039979": [
         "-8054137683011941171",
         {
          "args": [
           "7967578635331361165"
          ],
          "function": "NDArrayCompat.from_ndarray"
         }
        ],
        "-5190030925353645917": [
         "4165022598424862665",
         {
          "args": [
           "-7825820219442522469"
          ],
          "function": "NDArrayCompat.to_ndarray"
         }
        ],
        "-524300340023843831": [
         "-7507020889469263454",
         {
          "args": [
           "-8009119954895460388",
           "8351397859519109505"
          ],
          "function": "Abstraction.create",
          "type_params": {
           "T": {
            "params": {
             "T": {
              "type": "Integer"
             },
             "U": {
              "params": {
               "T": {
                "type": "Integer"
               }
              },
              "type": "Vec"
             }
            },
            "type": "Either"
           },
           "U": {
            "params": {
             "T": {
              "params": {
               "T": {
                "type": "Integer"
               },
               "U": {
                "params": {
                 "T": {
                  "type": "Integer"
                 }
                },
                "type": "Vec"
               }
              },
              "type": "Either"
             }
            },
            "type": "Maybe"
           }
          }
         }
        ],
        "-5346943820470270956": [
         "-1055990109103758883",
         {
          "args": [
           "3007494864010919930",
           "7031873113613421220"
          ],
          "function": "Maybe.map",
          "type_params": {
           "T": {
            "params": {
             "T": {
              "type": "NDArray"
             },
             "U": {
              "params": {
               "T": {
                "type": "Integer"
               },
               "U": {
                "params": {
                 "T": {
                  "type": "Integer"
                 }
                },
                "type": "Vec"
               }
              },
              "type": "Either"
             }
            },
            "type": "Pair"
           }
          }
         }
        ],
        "-5463825541328231257": [
         "-5463825541328231257",
         {
          "args": [
           "-6362610179852757995"
          ],
          "function": "Maybe.just"
         }
        ],
        "-5558510579709572674": [
         "-5558510579709572674",
         {
          "args": [
           "971722316536660130",
           "971722316536660130"
          ],
          "function": "NDArrayCompat.__add__"
         }
        ],
        "-557126145891318584": [
         "-7774097712138673687",
         {
          "args": [
           "338140197606853017",
           "-571292593498884750"
          ],
          "function": "Maybe.__and__",
          "type_params": {
           "T": {
            "type": "NDArray"
           }
          }
         }
        ],
        "-562755898029559237": [
         "-562755898029559237",
         {
          "repr": "Maybe.just",
          "type": "BoundInfer"
         }
        ],
        "-5627968470848797187": [
         "88960120338462496",
         {
          "args": [
           "-8166652912911790717",
           "-8166652912911790717"
          ],
          "function": "ndarray_add"
         }
        ],
        "-5704966778682325114": [
         "-4814678537500170364",
         {
          "args": [
           "-1156468161871471630",
           "6606662420229354367"
          ],
          "function": "Maybe.__and__",
          "type_params": {
           "T": {
            "type": "NDArray"
           }
          }
         }
        ],
        "-571292593498884750": [
         "6606662420229354367",
         {
          "args": [
           "2234741608541215826"
          ],
          "function": "Maybe.just"
         }
        ],
        "-575799573802277263": [
         "88960120338462496",
         {
          "args": [
           "7193990468420720555",
           "7193990468420720555"
          ],
          "function": "ndarray_add"
         }
        ],
        "-5782871365754188927": [
         "7947258440880147023",
         {
          "args": [
           "-5952365224410209476"
          ],
          "function": "Converter.convert",
          "type_params": {
           "T": {
            "type": "NDArray"
           }
          }
         }
        ],
        "-579534469142454861": [
         "-1055990109103758883",
         {
          "args": [
           "-4902155376939906580"
          ],
          "function": "Maybe.just",
          "type_params": {
           "T": {
            "type": "NDArray"
           }
          }
         }
        ],
        "-5796473528836597542": [
         "4165022598424862665",
         {
          "args": [
           "-5952650148250581553"
          ],
          "function": "NDArrayCompat.to_ndarray"
         }
        ],
        "-5849131892695947717": [
         "-5849131892695947717",
         {
          "args": [
           "7616326404151103511",
           "-3781123388935602301"
          ],
          "function": "Abstraction.create"
         }
        ],
        "-5891830971523934250": [
         "-2612058384443202226",
         {
          "args": [
           "-4608393608812827134"
          ],
          "function": "Converter.convert",
          "type_params": {
           "T": {
            "type": "NDArray"
           }
          }
         }
        ],
        "-5952365224410209476": [
         "-5558510579709572674",
         {
          "args": [
           "1347295785570687419",
           "1347295785570687419"
          ],
          "function": "NDArrayCompat.__add__"
         }
        ],
        "-5952650148250581553": [
         "-8054137683011941171",
         {
          "args": [
           "4110092845792029569"
          ],
          "function": "NDArrayCompat.from_ndarray"
         }
        ],
        "-5959028095944793269": [
         "-1055990109103758883",
         {
          "args": [
           "6336738595663581056"
          ],
          "function": "Maybe.just",
          "type_params": {
           "T": {
            "type": "NDArray"
           }
          }
         }
        ],
        "-5980548734597163353": [
         "-1055990109103758883",
         {
          "args": [
           "2610055142882305649",
           "-1741944831158160669",
           "-5849131892695947717"
          ],
          "function": "Maybe.match",
          "type_params": {
           "T": {
            "params": {
             "T": {
              "type": "NDArray"
             },
             "U": {
              "params": {
               "T": {
                "type": "Integer"
               },
               "U": {
                "params": {
                 "T": {
                  "type": "Integer"
                 }
                },
                "type": "Vec"
               }
              },
              "type": "Either"
             }
            },
            "type": "Pair"
           }
          }
         }
        ],
        "-6026802563305382491": [
         "-2612058384443202226",
         {
          "args": [
           "4867488836770560508"
          ],
          "function": "Converter.convert",
          "type_params": {
           "T": {
            "type": "NDArray"
           }
          }
         }
        ],
        "-623527401191838813": [
         "-8054137683011941171",
         {
          "args": [
           "2676937003383821533"
          ],
          "function": "NDArrayCompat.from_ndarray"
         }
        ],
        "-6242641388488469540": [
         "-6242641388488469540",
         {
          "args": [
           "-2203303042166162505",
           "-7578727142363371923"
          ],
          "function": "NDArray.__getitem__"
         }
        ],
        "-6362610179852757995": [
         "-6362610179852757995",
         {
          "args": [
           "852842466726619175"
          ],
          "function": "Integer.from_int"
         }
        ],
        "-6437443823834153471": [
         "88960120338462496",
         {
          "args": [
           "8387922858404920787",
           "8387922858404920787"
          ],
          "function": "ndarray_add"
         }
        ],
        "-6449000199390749469": [
         "5068959694142403101",
         {
          "args": [
           "-1010262108927125773",
           "3299436367977257648"
          ],
          "function": "Maybe.map",
          "type_params": {
           "T": {
            "type": "Integer"
           }
          }
         }
        ],
        "-6484536546174589122": [
         "-6484536546174589122",
         {
          "args": [
           "7295427386607788938",
           "2234741608541215826"
          ],
          "function": "NDArray.__getitem__"
         }
        ],
        "-6499163487982209355": [
         "-6499163487982209355",
         {
          "args": [
           "1599161639649727859"
          ],
          "function": "Abstraction.create_variable",
          "type_params": {
           "T": {
            "params": {
             "T": {
              "type": "Integer"
             }
            },
            "type": "Vec"
           },
           "U": {
            "params": {
             "T": {
              "type": "Integer"
             },
             "U": {
              "params": {
               "T": {
                "type": "Integer"
               }
              },
              "type": "Vec"
             }
            },
            "type": "Either"
           }
          }
         }
        ],
        "-651403784083398801": [
         "-8125902144106883229",
         {
          "args": [
           "6815027276318066451",
           "-6362610179852757995"
          ],
          "function": "Abstraction.__call__",
          "type_params": {
           "T": {
            "type": "Integer"
           },
           "U": {
            "params": {
             "T": {
              "type": "NDArray"
             }
            },
            "type": "Maybe"
           }
          }
         }
        ],
        "-6693496697354555112": [
         "-6693496697354555112",
         {
          "args": [
           "2819426627661147747"
          ],
          "function": "Maybe.just",
          "type_params": {
           "T": {
            "params": {
             "T": {
              "type": "Integer"
             },
             "U": {
              "params": {
               "T": {
                "type": "Integer"
               }
              },
              "type": "Vec"
             }
            },
            "type": "Either"
           }
          }
         }
        ],
        "-6922184826676391054": [
         "4165022598424862665",
         {
          "args": [
           "6756485215062105331"
          ],
          "function": "NDArrayCompat.to_ndarray"
         }
        ],
        "-6935731215494089261": [
         "6606662420229354367",
         {
          "args": [
           "3146911794523596558",
           "-3590883686264525135"
          ],
          "function": "Maybe.__or__",
          "type_params": {
           "T": {
            "params": {
             "T": {
              "type": "Integer"
             },
             "U": {
              "params": {
               "T": {
                "type": "Integer"
               }
              },
              "type": "Vec"
             }
            },
            "type": "Either"
           }
          }
         }
        ],
        "-6950667504736825385": [
         "-8054137683011941171",
         {
          "args": [
           "-8894809238350107363"
          ],
          "function": "NDArrayCompat.from_ndarray"
         }
        ],
        "-7004180416014216026": [
         "-7413928963025066946",
         {
          "args": [
           "5068959694142403101",
           "4687392789662792897"
          ],
          "function": "Maybe.__or__",
          "type_params": {
           "T": {
            "params": {
             "T": {
              "type": "Integer"
             },
             "U": {
              "params": {
               "T": {
                "type": "Integer"
               }
              },
              "type": "Vec"
             }
            },
            "type": "Either"
           }
          }
         }
        ],
        "-7075926890243176742": [
         "4165022598424862665",
         {
          "args": [
           "-3010162411960893490"
          ],
          "function": "NDArrayCompat.to_ndarray"
         }
        ],
        "-7076490350121616374": [
         "2204185982366297925",
         {
          "args": [
           "-1163157815125262957"
          ],
          "function": "NDArrayCompat.from_ndarray"
         }
        ],
        "-7139390227789993331": [
         "4165022598424862665",
         {
          "args": [
           "4183060667905065981"
          ],
          "function": "NDArrayCompat.to_ndarray"
         }
        ],
        "-7222866878188757834": [
         "-2612058384443202226",
         {
          "args": [
           "-2946654602699934174"
          ],
          "function": "Converter.convert",
          "type_params": {
           "T": {
            "type": "NDArray"
           }
          }
         }
        ],
        "-7334224414564589854": [
         "-7334224414564589854",
         {
          "args": [
           "852842466831624100"
          ],
          "function": "Integer.from_int"
         }
        ],
        "-7364785662191049572": [
         "-1055990109103758883",
         {
          "args": [
           "-8738724501778214990",
           "-1741944831158160669",
           "-5849131892695947717"
          ],
          "function": "Maybe.match",
          "type_params": {
           "T": {
            "params": {
             "T": {
              "type": "NDArray"
             },
             "U": {
              "params": {
               "T": {
                "type": "Integer"
               },
               "U": {
                "params": {
                 "T": {
                  "type": "Integer"
                 }
                },
                "type": "Vec"
               }
              },
              "type": "Either"
             }
            },
            "type": "Pair"
           }
          }
         }
        ],
        "-7402593879957315393": [
         "4165022598424862665",
         {
          "args": [
           "-5627968470848797187",
           "852842466831624100"
          ],
          "function": "ndarray_getitem"
         }
        ],
        "-7413928963025066946": [
         "-7413928963025066946",
         {
          "args": [
           "852842466831624100"
          ],
          "function": "Converter.convert",
          "type_params": {
           "T": {
            "params": {
             "T": {
              "type": "Integer"
             },
             "U": {
              "params": {
               "T": {
                "type": "Integer"
               }
              },
              "type": "Vec"
             }
            },
            "type": "Either"
           }
          }
         }
        ],
        "-7507020889469263454": [
         "-7507020889469263454",
         {
          "args": [
           "-2266514298468117634"
          ],
          "function": "Abstraction.from_fn"
         }
        ],
        "-7557170376531022965": [
         "-1055990109103758883",
         {
          "args": [
           "-8298483154950733741",
           "-1741944831158160669",
           "7341543321610707392"
          ],
          "function": "Maybe.match",
          "type_params": {
           "T": {
            "params": {
             "T": {
              "type": "NDArray"
             },
             "U": {
              "params": {
               "T": {
                "type": "Integer"
               },
               "U": {
                "params": {
                 "T": {
                  "type": "Integer"
                 }
                },
                "type": "Vec"
               }
              },
              "type": "Either"
             }
            },
            "type": "Pair"
           }
          }
         }
        ],
        "-7578727142363371923": [
         "-7578727142363371923",
         {
          "args": [
           "7616326404151103511"
          ],
          "function": "Pair.right",
          "type_params": {
           "T": {
            "type": "NDArray"
           },
           "U": {
            "params": {
             "T": {
              "type": "Integer"
             },
             "U": {
              "params": {
               "T": {
                "type": "Integer"
               }
              },
              "type": "Vec"
             }
            },
            "type": "Either"
           }
          }
         }
        ],
        "-7588579201374007797": [
         "-7588579201374007797",
         {
          "args": [
           "-3417637043715638955"
          ],
          "function": "Pair.right",
          "type_params": {
           "T": {
            "type": "NDArray"
           },
           "U": {
            "params": {
             "T": {
              "type": "Integer"
             },
             "U": {
              "params": {
               "T": {
                "type": "Integer"
               }
              },
              "type": "Vec"
             }
            },
            "type": "Either"
           }
          }
         }
        ],
        "-7774097712138673687": [
         "-7774097712138673687",
         {
          "args": [
           "-2612058384443202226",
           "6606662420229354367"
          ],
          "function": "Maybe.__and__",
          "type_params": {
           "T": {
            "type": "NDArray"
           }
          }
         }
        ],
        "-7781987752522514566": [
         "-7774097712138673687",
         {
          "args": [
           "5050840167957568185",
           "-571292593498884750"
          ],
          "function": "Maybe.__and__",
          "type_params": {
           "T": {
            "type": "NDArray"
           }
          }
         }
        ],
        "-7825820219442522469": [
         "-8054137683011941171",
         {
          "args": [
           "3510727206626288453"
          ],
          "function": "NDArrayCompat.from_ndarray"
         }
        ],
        "-7848175503099266099": [
         "-1055990109103758883",
         {
          "args": [
           "-177182266443459815",
           "1086476962447876602"
          ],
          "function": "Maybe.map",
          "type_params": {
           "T": {
            "params": {
             "T": {
              "type": "NDArray"
             },
             "U": {
              "params": {
               "T": {
                "type": "Integer"
               },
               "U": {
                "params": {
                 "T": {
                  "type": "Integer"
                 }
                },
                "type": "Vec"
               }
              },
              "type": "Either"
             }
            },
            "type": "Pair"
           }
          }
         }
        ],
        "-7992742604827214209": [
         "-8054137683011941171",
         {
          "args": [
           "-5346943820470270956"
          ],
          "function": "NDArrayCompat.from_ndarray"
         }
        ],
        "-8009119954895460388": [
         "-8009119954895460388",
         {
          "args": [
           "1599161666292833159"
          ],
          "function": "Abstraction.create_variable",
          "type_params": {
           "T": {
            "params": {
             "T": {
              "type": "Integer"
             },
             "U": {
              "params": {
               "T": {
                "type": "Integer"
               }
              },
              "type": "Vec"
             }
            },
            "type": "Either"
           },
           "U": {
            "params": {
             "T": {
              "params": {
               "T": {
                "type": "Integer"
               },
               "U": {
                "params": {
                 "T": {
                  "type": "Integer"
                 }
                },
                "type": "Vec"
               }
              },
              "type": "Either"
             }
            },
            "type": "Maybe"
           }
          }
         }
        ],
        "-8020448314167642308": [
         "-8020448314167642308",
         {
          "args": [
           "2204185982366297925",
           "2204185982366297925"
          ],
          "function": "NDArrayCompat.__add__"
         }
        ],
        "-8054137683011941171": [
         "-8054137683011941171",
         {
          "args": [
           "-5558510579709572674",
           "852842466831624100"
          ],
          "function": "NDArrayCompat.__getitem__"
         }
        ],
        "-8125902144106883229": [
         "-8125902144106883229",
         {
          "args": [
           "-5463825541328231257",
           "-3607651342286296696"
          ],
          "function": "Maybe.map",
          "type_params": {
           "T": {
            "type": "Integer"
           }
          }
         }
        ],
        "-8166652912911790717": [
         "8387922858404920787",
         {
          "args": [
           "852842466726619175"
          ],
          "function": "arange"
         }
        ],
        "-829264615964567717": [
         "4165022598424862665",
         {
          "args": [
           "-8800496188540116189"
          ],
          "function": "NDArrayCompat.to_ndarray"
         }
        ],
        "-8298483154950733741": [
         "-7774097712138673687",
         {
          "args": [
           "-6026802563305382491",
           "5922024548564054383"
          ],
          "function": "Maybe.__and__",
          "type_params": {
           "T": {
            "type": "NDArray"
           }
          }
         }
        ],
        "-8369638370716816908": [
         "-8369638370716816908",
         {
          "repr": "<function NDArrayCompat.__getitem__.<locals>.<lambda> at 0x10f290840>",
          "type": "function"
         }
        ],
        "-8370592865890929625": [
         "-8054137683011941171",
         {
          "args": [
           "-7848175503099266099"
          ],
          "function": "NDArrayCompat.from_ndarray"
         }
        ],
        "-8436013719796374484": [
         "-8436013719796374484",
         {
          "args": [
           "-7507020889469263454",
           "1476814018894724778"
          ],
          "function": "Abstraction.__add__",
          "type_params": {
           "T": {
            "params": {
             "T": {
              "type": "Integer"
             },
             "U": {
              "params": {
               "T": {
                "type": "Integer"
               }
              },
              "type": "Vec"
             }
            },
            "type": "Either"
           },
           "U": {
            "params": {
             "T": {
              "params": {
               "T": {
                "type": "Integer"
               },
               "U": {
                "params": {
                 "T": {
                  "type": "Integer"
                 }
                },
                "type": "Vec"
               }
              },
              "type": "Either"
             }
            },
            "type": "Maybe"
           }
          }
         }
        ],
        "-8517131237815112965": [
         "4165022598424862665",
         {
          "args": [
           "-9016173781794098173"
          ],
          "function": "NDArrayCompat.to_ndarray"
         }
        ],
        "-8550721238847586890": [
         "-8550721238847586890",
         {
          "args": [
           "5765685988797773240"
          ],
          "function": "Abstraction.from_fn"
         }
        ],
        "-8562978656126608956": [
         "-8054137683011941171",
         {
          "args": [
           "-1055990109103758883"
          ],
          "function": "NDArrayCompat.from_ndarray"
         }
        ],
        "-8738724501778214990": [
         "-7774097712138673687",
         {
          "args": [
           "-6026802563305382491",
           "-571292593498884750"
          ],
          "function": "Maybe.__and__",
          "type_params": {
           "T": {
            "type": "NDArray"
           }
          }
         }
        ],
        "-8800496188540116189": [
         "-8054137683011941171",
         {
          "args": [
           "5517747706173211228"
          ],
          "function": "NDArrayCompat.from_ndarray"
         }
        ],
        "-8841748531208643889": [
         "-8841748531208643889",
         {
          "args": [
           "-1743313584654778961"
          ],
          "function": "Abstraction.from_fn"
         }
        ],
        "-8894809238350107363": [
         "-1055990109103758883",
         {
          "args": [
           "-6484536546174589122"
          ],
          "function": "Maybe.just",
          "type_params": {
           "T": {
            "type": "NDArray"
           }
          }
         }
        ],
        "-8930988476283103842": [
         "2204185982366297925",
         {
          "args": [
           "-651403784083398801"
          ],
          "function": "NDArrayCompat.from_ndarray"
         }
        ],
        "-9016173781794098173": [
         "-8054137683011941171",
         {
          "args": [
           "8450186211931925691"
          ],
          "function": "NDArrayCompat.from_ndarray"
         }
        ],
        "-9032464671173933132": [
         "4165022598424862665",
         {
          "args": [
           "-623527401191838813"
          ],
          "function": "NDArrayCompat.to_ndarray"
         }
        ],
        "-9111585453556964138": [
         "9185684620050578154",
         {
          "args": [
           "-8436013719796374484",
           "-7334224414564589854"
          ],
          "function": "Abstraction.__call__",
          "type_params": {
           "T": {
            "type": "Integer"
           },
           "U": {
            "params": {
             "T": {
              "params": {
               "T": {
                "type": "Integer"
               },
               "U": {
                "params": {
                 "T": {
                  "type": "Integer"
                 }
                },
                "type": "Vec"
               }
              },
              "type": "Either"
             }
            },
            "type": "Maybe"
           }
          }
         }
        ],
        "-9130150324483212915": [
         "-1055990109103758883",
         {
          "args": [
           "7931816278954226227",
           "-1741944831158160669",
           "7341543321610707392"
          ],
          "function": "Maybe.match",
          "type_params": {
           "T": {
            "params": {
             "T": {
              "type": "NDArray"
             },
             "U": {
              "params": {
               "T": {
                "type": "Integer"
               },
               "U": {
                "params": {
                 "T": {
                  "type": "Integer"
                 }
                },
                "type": "Vec"
               }
              },
              "type": "Either"
             }
            },
            "type": "Pair"
           }
          }
         }
        ],
        "-9156363857593975122": [
         "-9156363857593975122",
         {
          "args": [
           "1599161652712557034"
          ],
          "function": "Abstraction.create_variable",
          "type_params": {
           "T": {
            "type": "Integer"
           },
           "U": {
            "type": "NDArray"
           }
          }
         }
        ],
        "-927448462973283222": [
         "-8054137683011941171",
         {
          "args": [
           "-3901462807584601996"
          ],
          "function": "NDArrayCompat.from_ndarray"
         }
        ],
        "1086476962447876602": [
         "1086476962447876602",
         {
          "args": [
           "7616326404151103511",
           "-6242641388488469540"
          ],
          "function": "Abstraction.create",
          "type_params": {
           "T": {
            "params": {
             "T": {
              "type": "NDArray"
             },
             "U": {
              "params": {
               "T": {
                "type": "Integer"
               },
               "U": {
                "params": {
                 "T": {
                  "type": "Integer"
                 }
                },
                "type": "Vec"
               }
              },
              "type": "Either"
             }
            },
            "type": "Pair"
           },
           "U": {
            "type": "NDArray"
           }
          }
         }
        ],
        "1120835995330561934": [
         "-1055990109103758883",
         {
          "args": [
           "-3675715368958408947",
           "-1741944831158160669",
           "-4006968251054608271"
          ],
          "function": "Maybe.match",
          "type_params": {
           "T": {
            "params": {
             "T": {
              "type": "NDArray"
             },
             "U": {
              "params": {
               "T": {
                "type": "Integer"
               },
               "U": {
                "params": {
                 "T": {
                  "type": "Integer"
                 }
                },
                "type": "Vec"
               }
              },
              "type": "Either"
             }
            },
            "type": "Pair"
           }
          }
         }
        ],
        "1182897658369612985": [
         "-7774097712138673687",
         {
          "args": [
           "-2612058384443202226",
           "-1257909439195940719"
          ],
          "function": "Maybe.__and__",
          "type_params": {
           "T": {
            "type": "NDArray"
           }
          }
         }
        ],
        "1330894252487505654": [
         "-7774097712138673687",
         {
          "args": [
           "-2612058384443202226",
           "-3252314534772413263"
          ],
          "function": "Maybe.__and__",
          "type_params": {
           "T": {
            "type": "NDArray"
           }
          }
         }
        ],
        "1347295785570687419": [
         "971722316536660130",
         {
          "args": [
           "5848963126652067044"
          ],
          "function": "NDArrayCompat.from_ndarray"
         }
        ],
        "1432287808875976594": [
         "-7774097712138673687",
         {
          "args": [
           "-2543239021466432252",
           "-571292593498884750"
          ],
          "function": "Maybe.__and__",
          "type_params": {
           "T": {
            "type": "NDArray"
           }
          }
         }
        ],
        "1472128545317462712": [
         "-8054137683011941171",
         {
          "args": [
           "3598809636702784536"
          ],
          "function": "NDArrayCompat.from_ndarray"
         }
        ],
        "1476814018894724778": [
         "1476814018894724778",
         {
          "args": [
           "8578252472718281855",
           "2819426627661147747"
          ],
          "function": "Abstraction.create",
          "type_params": {
           "T": {
            "type": "Integer"
           },
           "U": {
            "params": {
             "T": {
              "type": "Integer"
             },
             "U": {
              "params": {
               "T": {
                "type": "Integer"
               }
              },
              "type": "Vec"
             }
            },
            "type": "Either"
           }
          }
         }
        ],
        "1599161639649727859": [
         "1599161639649727859",
         {
          "repr": "Variable(4549632072)",
          "type": "Variable"
         }
        ],
        "1599161639703854109": [
         "1599161639703854109",
         {
          "repr": "Variable(4549639528)",
          "type": "Variable"
         }
        ],
        "1599161639873810534": [
         "1599161639873810534",
         {
          "repr": "Variable(4549638072)",
          "type": "Variable"
         }
        ],
        "1599161652712557034": [
         "1599161652712557034",
         {
          "repr": "Variable(4549677688)",
          "type": "Variable"
         }
        ],
        "1599161653680334384": [
         "1599161653680334384",
         {
          "repr": "Variable(4549696088)",
          "type": "Variable"
         }
        ],
        "1599161666292833159": [
         "1599161666292833159",
         {
          "repr": "Variable(4549501448)",
          "type": "Variable"
         }
        ],
        "2014328262272300159": [
         "-1055990109103758883",
         {
          "args": [
           "7268800435487306097",
           "7031873113613421220"
          ],
          "function": "Maybe.map",
          "type_params": {
           "T": {
            "params": {
             "T": {
              "type": "NDArray"
             },
             "U": {
              "params": {
               "T": {
                "type": "Integer"
               },
               "U": {
                "params": {
                 "T": {
                  "type": "Integer"
                 }
                },
                "type": "Vec"
               }
              },
              "type": "Either"
             }
            },
            "type": "Pair"
           }
          }
         }
        ],
        "2204185982366297925": [
         "2204185982366297925",
         {
          "args": [
           "-8125902144106883229"
          ],
          "function": "NDArrayCompat.from_ndarray"
         }
        ],
        "2234741608541215826": [
         "2234741608541215826",
         {
          "args": [
           "-7334224414564589854"
          ],
          "function": "Either.left",
          "type_params": {
           "T": {
            "type": "Integer"
           },
           "U": {
            "params": {
             "T": {
              "type": "Integer"
             }
            },
            "type": "Vec"
           }
          }
         }
        ],
        "2283664882045373484": [
         "4165022598424862665",
         {
          "args": [
           "4201326982062544042"
          ],
          "function": "NDArrayCompat.to_ndarray"
         }
        ],
        "235132293712215603": [
         "9185684620050578154",
         {
          "args": [
           "5863251406667164858",
           "-7334224414564589854"
          ],
          "function": "Abstraction.__call__",
          "type_params": {
           "T": {
            "type": "Integer"
           },
           "U": {
            "params": {
             "T": {
              "params": {
               "T": {
                "type": "Integer"
               },
               "U": {
                "params": {
                 "T": {
                  "type": "Integer"
                 }
                },
                "type": "Vec"
               }
              },
              "type": "Either"
             }
            },
            "type": "Maybe"
           }
          }
         }
        ],
        "2431515222273860616": [
         "-1055990109103758883",
         {
          "args": [
           "-7774097712138673687",
           "-1741944831158160669",
           "-4006968251054608271"
          ],
          "function": "Maybe.match",
          "type_params": {
           "T": {
            "params": {
             "T": {
              "type": "NDArray"
             },
             "U": {
              "params": {
               "T": {
                "type": "Integer"
               },
               "U": {
                "params": {
                 "T": {
                  "type": "Integer"
                 }
                },
                "type": "Vec"
               }
              },
              "type": "Either"
             }
            },
            "type": "Pair"
           }
          }
         }
        ],
        "2434176688676008533": [
         "4165022598424862665",
         {
          "args": [
           "-575799573802277263",
           "852842466831624100"
          ],
          "function": "ndarray_getitem"
         }
        ],
        "2610055142882305649": [
         "-7774097712138673687",
         {
          "args": [
           "-5891830971523934250",
           "-571292593498884750"
          ],
          "function": "Maybe.__and__",
          "type_params": {
           "T": {
            "type": "NDArray"
           }
          }
         }
        ],
        "2676937003383821533": [
         "-1055990109103758883",
         {
          "args": [
           "-1643751931071470440",
           "-1741944831158160669",
           "-5849131892695947717"
          ],
          "function": "Maybe.match",
          "type_params": {
           "T": {
            "params": {
             "T": {
              "type": "NDArray"
             },
             "U": {
              "params": {
               "T": {
                "type": "Integer"
               },
               "U": {
                "params": {
                 "T": {
                  "type": "Integer"
                 }
                },
                "type": "Vec"
               }
              },
              "type": "Either"
             }
            },
            "type": "Pair"
           }
          }
         }
        ],
        "2819426627661147747": [
         "2819426627661147747",
         {
          "args": [
           "8578252472718281855"
          ],
          "function": "Either.left",
          "type_params": {
           "T": {
            "type": "Integer"
           },
           "U": {
            "params": {
             "T": {
              "type": "Integer"
             }
            },
            "type": "Vec"
           }
          }
         }
        ],
        "2836610356540546088": [
         "-8125902144106883229",
         {
          "args": [
           "576327488382086654",
           "-6362610179852757995"
          ],
          "function": "Abstraction.__call__",
          "type_params": {
           "T": {
            "type": "Integer"
           },
           "U": {
            "params": {
             "T": {
              "type": "NDArray"
             }
            },
            "type": "Maybe"
           }
          }
         }
        ],
        "2903062968911337222": [
         "2903062968911337222",
         {
          "args": [
           "852842466831624100"
          ],
          "function": "Converter.convert",
          "type_params": {
           "T": {
            "params": {
             "T": {
              "type": "Integer"
             }
            },
            "type": "Vec"
           }
          }
         }
        ],
        "3007494864010919930": [
         "-4814678537500170364",
         {
          "args": [
           "-5782871365754188927",
           "6856229555535770924"
          ],
          "function": "Maybe.__and__",
          "type_params": {
           "T": {
            "type": "NDArray"
           }
          }
         }
        ],
        "3139592889617416915": [
         "-8054137683011941171",
         {
          "args": [
           "-1223578185388110866"
          ],
          "function": "NDArrayCompat.from_ndarray"
         }
        ],
        "3146911794523596558": [
         "9185684620050578154",
         {
          "args": [
           "5984891096985012143",
           "-7334224414564589854"
          ],
          "function": "Abstraction.__call__",
          "type_params": {
           "T": {
            "type": "Integer"
           },
           "U": {
            "params": {
             "T": {
              "params": {
               "T": {
                "type": "Integer"
               },
               "U": {
                "params": {
                 "T": {
                  "type": "Integer"
                 }
                },
                "type": "Vec"
               }
              },
              "type": "Either"
             }
            },
            "type": "Maybe"
           }
          }
         }
        ],
        "3213267652378594488": [
         "-8054137683011941171",
         {
          "args": [
           "-2083092937690161639"
          ],
          "function": "NDArrayCompat.from_ndarray"
         }
        ],
        "3299436367977257648": [
         "3299436367977257648",
         {
          "args": [
           "3303217568467687651"
          ],
          "function": "Abstraction.from_fn"
         }
        ],
        "3303217568467687651": [
         "3303217568467687651",
         {
          "repr": "Either.left",
          "type": "BoundInfer"
         }
        ],
        "338140197606853017": [
         "-2612058384443202226",
         {
          "args": [
           "-4699293650293600044"
          ],
          "function": "Converter.convert",
          "type_params": {
           "T": {
            "type": "NDArray"
           }
          }
         }
        ],
        "3510727206626288453": [
         "-1055990109103758883",
         {
          "args": [
           "-8298483154950733741",
           "-1741944831158160669",
           "-5849131892695947717"
          ],
          "function": "Maybe.match",
          "type_params": {
           "T": {
            "params": {
             "T": {
              "type": "NDArray"
             },
             "U": {
              "params": {
               "T": {
                "type": "Integer"
               },
               "U": {
                "params": {
                 "T": {
                  "type": "Integer"
                 }
                },
                "type": "Vec"
               }
              },
              "type": "Either"
             }
            },
            "type": "Pair"
           }
          }
         }
        ],
        "3598809636702784536": [
         "-1055990109103758883",
         {
          "args": [
           "1330894252487505654",
           "-1741944831158160669",
           "-4006968251054608271"
          ],
          "function": "Maybe.match",
          "type_params": {
           "T": {
            "params": {
             "T": {
              "type": "NDArray"
             },
             "U": {
              "params": {
               "T": {
                "type": "Integer"
               },
               "U": {
                "params": {
                 "T": {
                  "type": "Integer"
                 }
                },
                "type": "Vec"
               }
              },
              "type": "Either"
             }
            },
            "type": "Pair"
           }
          }
         }
        ],
        "3659108955502189240": [
         "4165022598424862665",
         {
          "args": [
           "-3787670070481337032"
          ],
          "function": "NDArrayCompat.to_ndarray"
         }
        ],
        "4035559444610765789": [
         "-4974165390111393856",
         {
          "args": [
           "2903062968911337222",
           "-3052203273464861294",
           "4127710310388454811"
          ],
          "function": "Maybe.match",
          "type_params": {
           "T": {
            "params": {
             "T": {
              "type": "Integer"
             }
            },
            "type": "Vec"
           }
          }
         }
        ],
        "4110092845792029569": [
         "-1055990109103758883",
         {
          "args": [
           "5573314645756069927",
           "-1741944831158160669",
           "-4006968251054608271"
          ],
          "function": "Maybe.match",
          "type_params": {
           "T": {
            "params": {
             "T": {
              "type": "NDArray"
             },
             "U": {
              "params": {
               "T": {
                "type": "Integer"
               },
               "U": {
                "params": {
                 "T": {
                  "type": "Integer"
                 }
                },
                "type": "Vec"
               }
              },
              "type": "Either"
             }
            },
            "type": "Pair"
           }
          }
         }
        ],
        "4127710310388454811": [
         "4127710310388454811",
         {
          "args": [
           "-7507020889469263454",
           "878450276063681107"
          ],
          "function": "Abstraction.__add__",
          "type_params": {
           "T": {
            "params": {
             "T": {
              "type": "Integer"
             },
             "U": {
              "params": {
               "T": {
                "type": "Integer"
               }
              },
              "type": "Vec"
             }
            },
            "type": "Either"
           },
           "U": {
            "params": {
             "T": {
              "params": {
               "T": {
                "type": "Integer"
               },
               "U": {
                "params": {
                 "T": {
                  "type": "Integer"
                 }
                },
                "type": "Vec"
               }
              },
              "type": "Either"
             }
            },
            "type": "Maybe"
           }
          }
         }
        ],
        "4165022598424862665": [
         "4165022598424862665",
         {
          "args": [
           "-8054137683011941171"
          ],
          "function": "NDArrayCompat.to_ndarray"
         }
        ],
        "4183060667905065981": [
         "-8054137683011941171",
         {
          "args": [
           "-7557170376531022965"
          ],
          "function": "NDArrayCompat.from_ndarray"
         }
        ],
        "4201326982062544042": [
         "-8054137683011941171",
         {
          "args": [
           "-579534469142454861"
          ],
          "function": "NDArrayCompat.from_ndarray"
         }
        ],
        "4236997518345950211": [
         "4236997518345950211",
         {
          "args": [
           "-9156363857593975122"
          ],
          "function": "arange_"
         }
        ],
        "4425729685164377546": [
         "4425729685164377546",
         {
          "args": [
           "-6499163487982209355"
          ],
          "function": "Either.right",
          "type_params": {
           "T": {
            "type": "Integer"
           },
           "U": {
            "params": {
             "T": {
              "type": "Integer"
             }
            },
            "type": "Vec"
           }
          }
         }
        ],
        "4687392789662792897": [
         "4687392789662792897",
         {
          "args": [
           "2903062968911337222",
           "-8841748531208643889"
          ],
          "function": "Maybe.map",
          "type_params": {
           "T": {
            "params": {
             "T": {
              "type": "Integer"
             }
            },
            "type": "Vec"
           }
          }
         }
        ],
        "48187019571414214": [
         "4165022598424862665",
         {
          "args": [
           "8127935577886256998"
          ],
          "function": "NDArrayCompat.to_ndarray"
         }
        ],
        "4867488836770560508": [
         "-8020448314167642308",
         {
          "args": [
           "-8930988476283103842",
           "-8930988476283103842"
          ],
          "function": "NDArrayCompat.__add__"
         }
        ],
        "5050840167957568185": [
         "5050840167957568185",
         {
          "args": [
           "7295427386607788938"
          ],
          "function": "Maybe.just"
         }
        ],
        "5059275132099476370": [
         "4165022598424862665",
         {
          "args": [
           "6273001340327855699"
          ],
          "function": "NDArrayCompat.to_ndarray"
         }
        ],
        "5068959694142403101": [
         "5068959694142403101",
         {
          "args": [
           "5743490207633551519",
           "3299436367977257648"
          ],
          "function": "Maybe.map",
          "type_params": {
           "T": {
            "type": "Integer"
           }
          }
         }
        ],
        "5162661124608334874": [
         "6606662420229354367",
         {
          "args": [
           "-1016045937770588202",
           "-3590883686264525135"
          ],
          "function": "Maybe.__or__",
          "type_params": {
           "T": {
            "params": {
             "T": {
              "type": "Integer"
             },
             "U": {
              "params": {
               "T": {
                "type": "Integer"
               }
              },
              "type": "Vec"
             }
            },
            "type": "Either"
           }
          }
         }
        ],
        "5420067201103152751": [
         "4165022598424862665",
         {
          "args": [
           "3139592889617416915"
          ],
          "function": "NDArrayCompat.to_ndarray"
         }
        ],
        "5517747706173211228": [
         "-1055990109103758883",
         {
          "args": [
           "-1026313121908345213",
           "7031873113613421220"
          ],
          "function": "Maybe.map",
          "type_params": {
           "T": {
            "params": {
             "T": {
              "type": "NDArray"
             },
             "U": {
              "params": {
               "T": {
                "type": "Integer"
               },
               "U": {
                "params": {
                 "T": {
                  "type": "Integer"
                 }
                },
                "type": "Vec"
               }
              },
              "type": "Either"
             }
            },
            "type": "Pair"
           }
          }
         }
        ],
        "5573314645756069927": [
         "-7774097712138673687",
         {
          "args": [
           "-2612058384443202226",
           "805248575967173939"
          ],
          "function": "Maybe.__and__",
          "type_params": {
           "T": {
            "type": "NDArray"
           }
          }
         }
        ],
        "5580781905710314117": [
         "4165022598424862665",
         {
          "args": [
           "8969952725409257859"
          ],
          "function": "NDArrayCompat.to_ndarray"
         }
        ],
        "5582787500205250909": [
         "4165022598424862665",
         {
          "args": [
           "-6484536546174589122"
          ],
          "function": "NDArray.to_ndarray"
         }
        ],
        "5632438364959790300": [
         "-7774097712138673687",
         {
          "args": [
           "-6026802563305382491",
           "5162661124608334874"
          ],
          "function": "Maybe.__and__",
          "type_params": {
           "T": {
            "type": "NDArray"
           }
          }
         }
        ],
        "5643084342530937823": [
         "9185684620050578154",
         {
          "args": [
           "-1010262108927125773",
           "-3052203273464861294",
           "-8436013719796374484"
          ],
          "function": "Maybe.match",
          "type_params": {
           "T": {
            "type": "Integer"
           }
          }
         }
        ],
        "5706060419324713096": [
         "5706060419324713096",
         {
          "args": [
           "852842466726619175"
          ],
          "function": "Converter.convert",
          "type_params": {
           "T": {
            "type": "Integer"
           }
          }
         }
        ],
        "5710602366917524060": [
         "576327488382086654",
         {
          "args": [
           "-9156363857593975122",
           "7180603756957825861"
          ],
          "function": "Abstraction.create"
         }
        ],
        "5730508223048694221": [
         "4165022598424862665",
         {
          "args": [
           "88960120338462496",
           "-242142689691567201"
          ],
          "function": "ndarray_getitem"
         }
        ],
        "5743490207633551519": [
         "5743490207633551519",
         {
          "args": [
           "852842466831624100"
          ],
          "function": "Converter.convert",
          "type_params": {
           "T": {
            "type": "Integer"
           }
          }
         }
        ],
        "576327488382086654": [
         "576327488382086654",
         {
          "args": [
           "-3689034126165086493",
           "-3607651342286296696"
          ],
          "function": "Abstraction.__add__",
          "type_params": {
           "T": {
            "type": "NDArray"
           },
           "U": {
            "params": {
             "T": {
              "type": "NDArray"
             }
            },
            "type": "Maybe"
           }
          }
         }
        ],
        "5765685988797773240": [
         "5765685988797773240",
         {
          "repr": "arange_",
          "type": "Infer"
         }
        ],
        "5848963126652067044": [
         "5848963126652067044",
         {
          "args": [
           "5706060419324713096",
           "-8550721238847586890"
          ],
          "function": "Maybe.map",
          "type_params": {
           "T": {
            "type": "Integer"
           }
          }
         }
        ],
        "5863251406667164858": [
         "-8436013719796374484",
         {
          "args": [
           "-524300340023843831",
           "1476814018894724778"
          ],
          "function": "Abstraction.__add__",
          "type_params": {
           "T": {
            "params": {
             "T": {
              "type": "Integer"
             },
             "U": {
              "params": {
               "T": {
                "type": "Integer"
               }
              },
              "type": "Vec"
             }
            },
            "type": "Either"
           },
           "U": {
            "params": {
             "T": {
              "params": {
               "T": {
                "type": "Integer"
               },
               "U": {
                "params": {
                 "T": {
                  "type": "Integer"
                 }
                },
                "type": "Vec"
               }
              },
              "type": "Either"
             }
            },
            "type": "Maybe"
           }
          }
         }
        ],
        "5922024548564054383": [
         "6606662420229354367",
         {
          "args": [
           "235132293712215603",
           "-3590883686264525135"
          ],
          "function": "Maybe.__or__",
          "type_params": {
           "T": {
            "params": {
             "T": {
              "type": "Integer"
             },
             "U": {
              "params": {
               "T": {
                "type": "Integer"
               }
              },
              "type": "Vec"
             }
            },
            "type": "Either"
           }
          }
         }
        ],
        "5984891096985012143": [
         "-8436013719796374484",
         {
          "args": [
           "8578252472718281855",
           "-6693496697354555112"
          ],
          "function": "Abstraction.create"
         }
        ],
        "6273001340327855699": [
         "-8054137683011941171",
         {
          "args": [
           "-3740630418154875537"
          ],
          "function": "NDArrayCompat.from_ndarray"
         }
        ],
        "6288611761615413999": [
         "-2612058384443202226",
         {
          "args": [
           "-2111825957195779556"
          ],
          "function": "Converter.convert",
          "type_params": {
           "T": {
            "type": "NDArray"
           }
          }
         }
        ],
        "6317892281008984646": [
         "4165022598424862665",
         {
          "args": [
           "-3356482032731387926"
          ],
          "function": "NDArrayCompat.to_ndarray"
         }
        ],
        "6336738595663581056": [
         "6336738595663581056",
         {
          "args": [
           "-2166330811180776367",
           "-7588579201374007797"
          ],
          "function": "NDArray.__getitem__"
         }
        ],
        "6346996280005156099": [
         "4165022598424862665",
         {
          "args": [
           "1472128545317462712"
          ],
          "function": "NDArrayCompat.to_ndarray"
         }
        ],
        "6427508265334465884": [
         "-7774097712138673687",
         {
          "args": [
           "-3417637043715638955"
          ],
          "function": "Maybe.just"
         }
        ],
        "6459715368499033432": [
         "4165022598424862665",
         {
          "args": [
           "6646924165475105301"
          ],
          "function": "NDArrayCompat.to_ndarray"
         }
        ],
        "6463438930795674921": [
         "4165022598424862665",
         {
          "args": [
           "8682561727444403687"
          ],
          "function": "NDArrayCompat.to_ndarray"
         }
        ],
        "652240624794251119": [
         "4165022598424862665",
         {
          "args": [
           "-6950667504736825385"
          ],
          "function": "NDArrayCompat.to_ndarray"
         }
        ],
        "6583497480016573524": [
         "971722316536660130",
         {
          "args": [
           "-4724715256758988081"
          ],
          "function": "NDArrayCompat.from_ndarray"
         }
        ],
        "6606662420229354367": [
         "6606662420229354367",
         {
          "args": [
           "9185684620050578154",
           "-4974165390111393856"
          ],
          "function": "Maybe.__or__",
          "type_params": {
           "T": {
            "params": {
             "T": {
              "type": "Integer"
             },
             "U": {
              "params": {
               "T": {
                "type": "Integer"
               }
              },
              "type": "Vec"
             }
            },
            "type": "Either"
           }
          }
         }
        ],
        "6646924165475105301": [
         "-8054137683011941171",
         {
          "args": [
           "-2412009377546269807"
          ],
          "function": "NDArrayCompat.from_ndarray"
         }
        ],
        "6676561579805787525": [
         "88960120338462496",
         {
          "repr": "array([  0,   2,   4,   6,   8,  10,  12,  14,  16,  18,  20,  22,  24,\n        26,  28,  30,  32,  34,  36,  38,  40,  42,  44,  46,  48,  50,\n        52,  54,  56,  58,  60,  62,  64,  66,  68,  70,  72,  74,  76,\n        78,  80,  82,  84,  86,  88,  90,  92,  94,  96,  98, 100, 102,\n       104, 106, 108, 110, 112, 114, 116, 118, 120, 122, 124, 126, 128,\n       130, 132, 134, 136, 138, 140, 142, 144, 146, 148, 150, 152, 154,\n       156, 158, 160, 162, 164, 166, 168, 170, 172, 174, 176, 178, 180,\n       182, 184, 186, 188, 190, 192, 194, 196, 198])",
          "type": "ndarray"
         }
        ],
        "6676562265208656325": [
         "8387922858404920787",
         {
          "repr": "array([ 0,  1,  2,  3,  4,  5,  6,  7,  8,  9, 10, 11, 12, 13, 14, 15, 16,\n       17, 18, 19, 20, 21, 22, 23, 24, 25, 26, 27, 28, 29, 30, 31, 32, 33,\n       34, 35, 36, 37, 38, 39, 40, 41, 42, 43, 44, 45, 46, 47, 48, 49, 50,\n       51, 52, 53, 54, 55, 56, 57, 58, 59, 60, 61, 62, 63, 64, 65, 66, 67,\n       68, 69, 70, 71, 72, 73, 74, 75, 76, 77, 78, 79, 80, 81, 82, 83, 84,\n       85, 86, 87, 88, 89, 90, 91, 92, 93, 94, 95, 96, 97, 98, 99])",
          "type": "ndarray"
         }
        ],
        "6676563145414063925": [
         "4165022598424862665",
         {
          "repr": "array(10)",
          "type": "ndarray"
         }
        ],
        "6756485215062105331": [
         "-8054137683011941171",
         {
          "args": [
           "1120835995330561934"
          ],
          "function": "NDArrayCompat.from_ndarray"
         }
        ],
        "6815027276318066451": [
         "576327488382086654",
         {
          "args": [
           "7003961003669514196",
           "-3607651342286296696"
          ],
          "function": "Abstraction.__add__",
          "type_params": {
           "T": {
            "type": "NDArray"
           },
           "U": {
            "params": {
             "T": {
              "type": "NDArray"
             }
            },
            "type": "Maybe"
           }
          }
         }
        ],
        "6856229555535770924": [
         "-7413928963025066946",
         {
          "args": [
           "-6449000199390749469",
           "4687392789662792897"
          ],
          "function": "Maybe.__or__",
          "type_params": {
           "T": {
            "params": {
             "T": {
              "type": "Integer"
             },
             "U": {
              "params": {
               "T": {
                "type": "Integer"
               }
              },
              "type": "Vec"
             }
            },
            "type": "Either"
           }
          }
         }
        ],
        "6891690128474555983": [
         "4165022598424862665",
         {
          "args": [
           "-4841628976487324042"
          ],
          "function": "NDArrayCompat.to_ndarray"
         }
        ],
        "6911206259321583495": [
         "4165022598424862665",
         {
          "args": [
           "-7992742604827214209"
          ],
          "function": "NDArrayCompat.to_ndarray"
         }
        ],
        "7003961003669514196": [
         "-3689034126165086493",
         {
          "args": [
           "8497656163443754274",
           "7426659112406479064"
          ],
          "function": "Abstraction.create",
          "type_params": {
           "T": {
            "type": "NDArray"
           },
           "U": {
            "params": {
             "T": {
              "type": "NDArray"
             }
            },
            "type": "Maybe"
           }
          }
         }
        ],
        "7031873113613421220": [
         "7031873113613421220",
         {
          "args": [
           "-8369638370716816908"
          ],
          "function": "Abstraction.from_fn",
          "type_params": {
           "T": {
            "params": {
             "T": {
              "type": "NDArray"
             },
             "U": {
              "params": {
               "T": {
                "type": "Integer"
               },
               "U": {
                "params": {
                 "T": {
                  "type": "Integer"
                 }
                },
                "type": "Vec"
               }
              },
              "type": "Either"
             }
            },
            "type": "Pair"
           },
           "U": {
            "type": "NDArray"
           }
          }
         }
        ],
        "7072695247568516718": [
         "4165022598424862665",
         {
          "args": [
           "-6437443823834153471",
           "-242142689691567201"
          ],
          "function": "ndarray_getitem"
         }
        ],
        "7180603756957825861": [
         "7180603756957825861",
         {
          "args": [
           "4236997518345950211"
          ],
          "function": "Maybe.just",
          "type_params": {
           "T": {
            "type": "NDArray"
           }
          }
         }
        ],
        "7193990468420720555": [
         "8387922858404920787",
         {
          "args": [
           "-3593810371421164704"
          ],
          "function": "arange"
         }
        ],
        "7268800435487306097": [
         "-4814678537500170364",
         {
          "args": [
           "-5782871365754188927",
           "-7004180416014216026"
          ],
          "function": "Maybe.__and__",
          "type_params": {
           "T": {
            "type": "NDArray"
           }
          }
         }
        ],
        "7295427386607788938": [
         "7295427386607788938",
         {
          "args": [
           "-2728638420105509621",
           "-2728638420105509621"
          ],
          "function": "NDArray.__add__"
         }
        ],
        "7341543321610707392": [
         "-4006968251054608271",
         {
          "args": [
           "7003961003669514196",
           "1086476962447876602"
          ],
          "function": "Abstraction.__add__",
          "type_params": {
           "T": {
            "type": "NDArray"
           },
           "U": {
            "params": {
             "T": {
              "type": "NDArray"
             }
            },
            "type": "Maybe"
           }
          }
         }
        ],
        "7426659112406479064": [
         "7426659112406479064",
         {
          "args": [
           "8497656163443754274"
          ],
          "function": "Maybe.just",
          "type_params": {
           "T": {
            "type": "NDArray"
           }
          }
         }
        ],
        "7516757055623286900": [
         "-242142689691567201",
         {
          "args": [
           "-7334224414564589854"
          ],
          "function": "unbox_integer"
         }
        ],
        "7616326404151103511": [
         "7616326404151103511",
         {
          "args": [
           "1599161639873810534"
          ],
          "function": "Abstraction.create_variable",
          "type_params": {
           "T": {
            "params": {
             "T": {
              "type": "NDArray"
             },
             "U": {
              "params": {
               "T": {
                "type": "Integer"
               },
               "U": {
                "params": {
                 "T": {
                  "type": "Integer"
                 }
                },
                "type": "Vec"
               }
              },
              "type": "Either"
             }
            },
            "type": "Pair"
           },
           "U": {
            "type": "NDArray"
           }
          }
         }
        ],
        "7676590665895654396": [
         "4165022598424862665",
         {
          "args": [
           "-1834663258746100869"
          ],
          "function": "NDArrayCompat.to_ndarray"
         }
        ],
        "7931816278954226227": [
         "-7774097712138673687",
         {
          "args": [
           "-6026802563305382491",
           "-1257909439195940719"
          ],
          "function": "Maybe.__and__",
          "type_params": {
           "T": {
            "type": "NDArray"
           }
          }
         }
        ],
        "7947258440880147023": [
         "7947258440880147023",
         {
          "args": [
           "-5558510579709572674"
          ],
          "function": "Converter.convert",
          "type_params": {
           "T": {
            "type": "NDArray"
           }
          }
         }
        ],
        "7967578635331361165": [
         "-1055990109103758883",
         {
          "args": [
           "-557126145891318584",
           "-1741944831158160669",
           "-5849131892695947717"
          ],
          "function": "Maybe.match",
          "type_params": {
           "T": {
            "params": {
             "T": {
              "type": "NDArray"
             },
             "U": {
              "params": {
               "T": {
                "type": "Integer"
               },
               "U": {
                "params": {
                 "T": {
                  "type": "Integer"
                 }
                },
                "type": "Vec"
               }
              },
              "type": "Either"
             }
            },
            "type": "Pair"
           }
          }
         }
        ],
        "805248575967173939": [
         "6606662420229354367",
         {
          "args": [
           "5643084342530937823",
           "-4974165390111393856"
          ],
          "function": "Maybe.__or__",
          "type_params": {
           "T": {
            "params": {
             "T": {
              "type": "Integer"
             },
             "U": {
              "params": {
               "T": {
                "type": "Integer"
               }
              },
              "type": "Vec"
             }
            },
            "type": "Either"
           }
          }
         }
        ],
        "8084026966032417544": [
         "4165022598424862665",
         {
          "args": [
           "-3198979504917696568"
          ],
          "function": "NDArrayCompat.to_ndarray"
         }
        ],
        "8127935577886256998": [
         "-8054137683011941171",
         {
          "args": [
           "-2097076808746091769"
          ],
          "function": "NDArrayCompat.from_ndarray"
         }
        ],
        "8199993726224451980": [
         "-4814678537500170364",
         {
          "args": [
           "7947258440880147023",
           "-7004180416014216026"
          ],
          "function": "Maybe.__and__",
          "type_params": {
           "T": {
            "type": "NDArray"
           }
          }
         }
        ],
        "8319209501349130299": [
         "-1055990109103758883",
         {
          "args": [
           "6427508265334465884",
           "-1741944831158160669",
           "-5849131892695947717"
          ],
          "function": "Maybe.match",
          "type_params": {
           "T": {
            "params": {
             "T": {
              "type": "NDArray"
             },
             "U": {
              "params": {
               "T": {
                "type": "Integer"
               },
               "U": {
                "params": {
                 "T": {
                  "type": "Integer"
                 }
                },
                "type": "Vec"
               }
              },
              "type": "Either"
             }
            },
            "type": "Pair"
           }
          }
         }
        ],
        "8351397859519109505": [
         "8351397859519109505",
         {
          "args": [
           "-8009119954895460388"
          ],
          "function": "Maybe.just",
          "type_params": {
           "T": {
            "params": {
             "T": {
              "type": "Integer"
             },
             "U": {
              "params": {
               "T": {
                "type": "Integer"
               }
              },
              "type": "Vec"
             }
            },
            "type": "Either"
           }
          }
         }
        ],
        "8387922858404920787": [
         "8387922858404920787",
         {
          "args": [
           "-2728638420105509621"
          ],
          "function": "NDArray.to_ndarray"
         }
        ],
        "8450186211931925691": [
         "-1055990109103758883",
         {
          "args": [
           "5632438364959790300",
           "-1741944831158160669",
           "-5849131892695947717"
          ],
          "function": "Maybe.match",
          "type_params": {
           "T": {
            "params": {
             "T": {
              "type": "NDArray"
             },
             "U": {
              "params": {
               "T": {
                "type": "Integer"
               },
               "U": {
                "params": {
                 "T": {
                  "type": "Integer"
                 }
                },
                "type": "Vec"
               }
              },
              "type": "Either"
             }
            },
            "type": "Pair"
           }
          }
         }
        ],
        "8462966148717783947": [
         "88960120338462496",
         {
          "args": [
           "6676562265208656325",
           "6676562265208656325"
          ],
          "function": "ndarray_add"
         }
        ],
        "8495798021883795": [
         "4165022598424862665",
         {
          "args": [
           "6676561579805787525",
           "852842466831624100"
          ],
          "function": "ndarray_getitem"
         }
        ],
        "8497656163443754274": [
         "8497656163443754274",
         {
          "args": [
           "1599161639703854109"
          ],
          "function": "Abstraction.create_variable",
          "type_params": {
           "T": {
            "type": "NDArray"
           },
           "U": {
            "params": {
             "T": {
              "type": "NDArray"
             }
            },
            "type": "Maybe"
           }
          }
         }
        ],
        "852842466726619175": [
         "852842466726619175",
         {
          "repr": "100",
          "type": "int"
         }
        ],
        "852842466831624100": [
         "852842466831624100",
         {
          "repr": "5",
          "type": "int"
         }
        ],
        "8573804343708975551": [
         "4165022598424862665",
         {
          "args": [
           "-8370592865890929625"
          ],
          "function": "NDArrayCompat.to_ndarray"
         }
        ],
        "8578252472718281855": [
         "8578252472718281855",
         {
          "args": [
           "1599161653680334384"
          ],
          "function": "Abstraction.create_variable",
          "type_params": {
           "T": {
            "type": "Integer"
           },
           "U": {
            "params": {
             "T": {
              "type": "Integer"
             },
             "U": {
              "params": {
               "T": {
                "type": "Integer"
               }
              },
              "type": "Vec"
             }
            },
            "type": "Either"
           }
          }
         }
        ],
        "8682561727444403687": [
         "-8054137683011941171",
         {
          "args": [
           "-9130150324483212915"
          ],
          "function": "NDArrayCompat.from_ndarray"
         }
        ],
        "8753659172748810690": [
         "4165022598424862665",
         {
          "args": [
           "8462966148717783947",
           "852842466831624100"
          ],
          "function": "ndarray_getitem"
         }
        ],
        "878450276063681107": [
         "878450276063681107",
         {
          "args": [
           "-6499163487982209355",
           "4425729685164377546"
          ],
          "function": "Abstraction.create",
          "type_params": {
           "T": {
            "params": {
             "T": {
              "type": "Integer"
             }
            },
            "type": "Vec"
           },
           "U": {
            "params": {
             "T": {
              "type": "Integer"
             },
             "U": {
              "params": {
               "T": {
                "type": "Integer"
               }
              },
              "type": "Vec"
             }
            },
            "type": "Either"
           }
          }
         }
        ],
        "8880641909229014926": [
         "4165022598424862665",
         {
          "args": [
           "-8562978656126608956"
          ],
          "function": "NDArrayCompat.to_ndarray"
         }
        ],
        "88960120338462496": [
         "88960120338462496",
         {
          "args": [
           "7295427386607788938"
          ],
          "function": "NDArray.to_ndarray"
         }
        ],
        "8969952725409257859": [
         "-8054137683011941171",
         {
          "args": [
           "8319209501349130299"
          ],
          "function": "NDArrayCompat.from_ndarray"
         }
        ],
        "9185684620050578154": [
         "9185684620050578154",
         {
          "args": [
           "-1010262108927125773",
           "1476814018894724778"
          ],
          "function": "Maybe.map",
          "type_params": {
           "T": {
            "type": "Integer"
           }
          }
         }
        ],
        "953149618496524630": [
         "4165022598424862665",
         {
          "args": [
           "3213267652378594488"
          ],
          "function": "NDArrayCompat.to_ndarray"
         }
        ],
        "971722316536660130": [
         "971722316536660130",
         {
          "args": [
           "852842466726619175"
          ],
          "function": "arange"
         }
        ]
       },
       "states": {
        "initial": "4165022598424862665",
        "states": [
         {
          "node": "8880641909229014926",
          "rule": "metadsl_core.numpy.NDArrayCompat.__getitem__"
         },
         {
          "node": "6891690128474555983",
          "rule": "metadsl_core.either.convert_to_either"
         },
         {
          "node": "-7075926890243176742",
          "rule": "metadsl_core.numpy.arange"
         },
         {
          "node": "6911206259321583495",
          "rule": "metadsl_core.integer.convert_integer"
         },
         {
          "node": "-829264615964567717",
          "rule": "metadsl_core.integer.convert_integer"
         },
         {
          "node": "7676590665895654396",
          "rule": "metadsl_core.abstraction.Abstraction.from_fn"
         },
         {
          "node": "8573804343708975551",
          "rule": "metadsl_core.abstraction.Abstraction.from_fn"
         },
         {
          "node": "-4197977456492689751",
          "rule": "metadsl_core.abstraction.Abstraction.from_fn"
         },
         {
          "node": "5420067201103152751",
          "rule": "metadsl_core.abstraction.Abstraction.from_fn"
         },
         {
          "node": "-266809558131030456",
          "rule": "metadsl_core.maybe.Maybe.map"
         },
         {
          "node": "-5796473528836597542",
          "rule": "metadsl_core.maybe.Maybe.map"
         },
         {
          "node": "6346996280005156099",
          "rule": "metadsl_core.maybe.maybe_match"
         },
         {
          "node": "6459715368499033432",
          "rule": "metadsl_core.maybe.Maybe.map"
         },
         {
          "node": "-6922184826676391054",
          "rule": "metadsl_core.maybe.Maybe.map"
         },
         {
          "node": "953149618496524630",
          "rule": "metadsl_core.maybe.maybe_match"
         },
         {
          "node": "6463438930795674921",
          "rule": "metadsl_core.abstraction.Abstraction.from_fn"
         },
         {
          "node": "-7139390227789993331",
          "rule": "metadsl_core.abstraction.Abstraction.from_fn"
         },
         {
          "node": "-5190030925353645917",
          "rule": "metadsl_core.abstraction.compose"
         },
         {
          "node": "-9032464671173933132",
          "rule": "metadsl_core.abstraction.compose"
         },
         {
          "node": "-8517131237815112965",
          "rule": "metadsl_core.abstraction.beta_reduce"
         },
         {
          "node": "3659108955502189240",
          "rule": "metadsl_core.maybe.maybe_or"
         },
         {
          "node": "48187019571414214",
          "rule": "metadsl_core.abstraction.compose"
         },
         {
          "node": "-4681697684847155292",
          "rule": "metadsl_core.abstraction.beta_reduce"
         },
         {
          "node": "-4655249603592277273",
          "rule": "metadsl_core.numpy.add_compat"
         },
         {
          "node": "6317892281008984646",
          "rule": "metadsl_core.numpy.convert_to_ndarray"
         },
         {
          "node": "5580781905710314117",
          "rule": "metadsl_core.maybe.maybe_and"
         },
         {
          "node": "5059275132099476370",
          "rule": "metadsl_core.maybe.maybe_match"
         },
         {
          "node": "8084026966032417544",
          "rule": "metadsl_core.abstraction.beta_reduce"
         },
         {
          "node": "2283664882045373484",
          "rule": "metadsl_core.pair.pair_left"
         },
         {
          "node": "652240624794251119",
          "rule": "metadsl_core.pair.pair_right"
         },
         {
          "label": "convert",
          "node": "652240624794251119",
          "rule": ""
         },
         {
          "node": "5582787500205250909",
          "rule": "metadsl_core.numpy.box_unbox_ndarray_compat"
         },
         {
          "node": "5730508223048694221",
          "rule": "metadsl_core.numpy_engine.unbox_ndarray_getitem"
         },
         {
          "node": "7072695247568516718",
          "rule": "metadsl_core.numpy_engine.unbox_ndarray_add"
         },
         {
          "node": "-3478057614712610906",
          "rule": "metadsl_core.numpy_engine.unbox_idxs_rule"
         },
         {
          "node": "-4518717273791479957",
          "rule": "metadsl_core.numpy_engine.unbox_integer_rule"
         },
         {
          "node": "2434176688676008533",
          "rule": "metadsl_core.numpy_engine.unbox_arange"
         },
         {
          "node": "-7402593879957315393",
          "rule": "metadsl_core.numpy_engine.unbox_integer_rule"
         },
         {
          "label": "unbox",
          "node": "-7402593879957315393",
          "rule": ""
         },
         {
          "node": "8753659172748810690",
          "rule": "metadsl_core.numpy_engine.arange"
         },
         {
          "node": "8495798021883795",
          "rule": "metadsl_core.numpy_engine.ndarray_add"
         },
         {
          "node": "6676563145414063925",
          "rule": "metadsl_core.numpy_engine.ndarray_getitem"
         },
         {
          "label": "execute",
          "node": "6676563145414063925",
          "rule": ""
         }
        ]
       }
      },
      "application/x.typez.graph+json": {
       "initial": "digraph {\n\tnode [shape=plain]\n\tedge [arrowsize=0.5 penwidth=0.5]\n\t4165022598424862665 [label=\"NDArrayCompat.to_ndarray\" id=4165022598424862665]\n\t4165022598424862665 -> -8054137683011941171 [id=\"4165022598424862665.args[0]\"]\n\t-8054137683011941171 [label=\"NDArrayCompat.__getitem__\" id=-8054137683011941171]\n\t-8054137683011941171 -> -5558510579709572674 [id=\"-8054137683011941171.args[0]\"]\n\t-5558510579709572674 [label=\"NDArrayCompat.__add__\" id=-5558510579709572674]\n\t-5558510579709572674 -> 971722316536660130 [id=\"-5558510579709572674.args[0]\"]\n\t971722316536660130 [label=arange id=971722316536660130]\n\t971722316536660130 -> 852842466726619175 [id=\"971722316536660130.args[0]\"]\n\t852842466726619175 [label=100 id=852842466726619175]\n\t-5558510579709572674 -> 971722316536660130 [id=\"-5558510579709572674.args[1]\"]\n\t-8054137683011941171 -> 852842466831624100 [id=\"-8054137683011941171.args[1]\"]\n\t852842466831624100 [label=5 id=852842466831624100]\n}",
       "states": [
        {
         "graph": "digraph {\n\tnode [shape=plain]\n\tedge [arrowsize=0.5 penwidth=0.5]\n\t8880641909229014926 [label=\"NDArrayCompat.to_ndarray\" id=4165022598424862665]\n\t8880641909229014926 -> -8562978656126608956 [id=\"4165022598424862665.args[0]\"]\n\t-8562978656126608956 [label=\"NDArrayCompat.from_ndarray\" id=-8054137683011941171]\n\t-8562978656126608956 -> -1055990109103758883 [id=\"-8054137683011941171.args[0]\"]\n\t-1055990109103758883 [label=\"Maybe.map\" id=-1055990109103758883]\n\t-1055990109103758883 -> -4814678537500170364 [id=\"-1055990109103758883.args[0]\"]\n\t-4814678537500170364 [label=\"Maybe.__and__\" id=-4814678537500170364]\n\t-4814678537500170364 -> 7947258440880147023 [id=\"-4814678537500170364.args[0]\"]\n\t7947258440880147023 [label=\"Converter.convert\" id=7947258440880147023]\n\t7947258440880147023 -> -5558510579709572674 [id=\"7947258440880147023.args[0]\"]\n\t-5558510579709572674 [label=\"NDArrayCompat.__add__\" id=-5558510579709572674]\n\t-5558510579709572674 -> 971722316536660130 [id=\"-5558510579709572674.args[0]\"]\n\t971722316536660130 [label=arange id=971722316536660130]\n\t971722316536660130 -> 852842466726619175 [id=\"971722316536660130.args[0]\"]\n\t852842466726619175 [label=100 id=852842466726619175]\n\t-5558510579709572674 -> 971722316536660130 [id=\"-5558510579709572674.args[1]\"]\n\t-4814678537500170364 -> -7413928963025066946 [id=\"-4814678537500170364.args[1]\"]\n\t-7413928963025066946 [label=\"Converter.convert\" id=-7413928963025066946]\n\t-7413928963025066946 -> 852842466831624100 [id=\"-7413928963025066946.args[0]\"]\n\t852842466831624100 [label=5 id=852842466831624100]\n\t-1055990109103758883 -> 7031873113613421220 [id=\"-1055990109103758883.args[1]\"]\n\t7031873113613421220 [label=\"Abstraction.from_fn\" id=7031873113613421220]\n\t7031873113613421220 -> -8369638370716816908 [id=\"7031873113613421220.args[0]\"]\n\t-8369638370716816908 [label=\"function NDArrayCompat.__getitem__.locals.lambda at 0x10f290840\" id=-8369638370716816908]\n}",
         "label": null,
         "rule": "metadsl_core.numpy.NDArrayCompat.__getitem__"
        },
        {
         "graph": "digraph {\n\tnode [shape=plain]\n\tedge [arrowsize=0.5 penwidth=0.5]\n\t6891690128474555983 [label=\"NDArrayCompat.to_ndarray\" id=4165022598424862665]\n\t6891690128474555983 -> -4841628976487324042 [id=\"4165022598424862665.args[0]\"]\n\t-4841628976487324042 [label=\"NDArrayCompat.from_ndarray\" id=-8054137683011941171]\n\t-4841628976487324042 -> -2721977203944501192 [id=\"-8054137683011941171.args[0]\"]\n\t-2721977203944501192 [label=\"Maybe.map\" id=-1055990109103758883]\n\t-2721977203944501192 -> 8199993726224451980 [id=\"-1055990109103758883.args[0]\"]\n\t8199993726224451980 [label=\"Maybe.__and__\" id=-4814678537500170364]\n\t8199993726224451980 -> 7947258440880147023 [id=\"-4814678537500170364.args[0]\"]\n\t7947258440880147023 [label=\"Converter.convert\" id=7947258440880147023]\n\t7947258440880147023 -> -5558510579709572674 [id=\"7947258440880147023.args[0]\"]\n\t-5558510579709572674 [label=\"NDArrayCompat.__add__\" id=-5558510579709572674]\n\t-5558510579709572674 -> 971722316536660130 [id=\"-5558510579709572674.args[0]\"]\n\t971722316536660130 [label=arange id=971722316536660130]\n\t971722316536660130 -> 852842466726619175 [id=\"971722316536660130.args[0]\"]\n\t852842466726619175 [label=100 id=852842466726619175]\n\t-5558510579709572674 -> 971722316536660130 [id=\"-5558510579709572674.args[1]\"]\n\t8199993726224451980 -> -7004180416014216026 [id=\"-4814678537500170364.args[1]\"]\n\t-7004180416014216026 [label=\"Maybe.__or__\" id=-7413928963025066946]\n\t-7004180416014216026 -> 5068959694142403101 [id=\"-7413928963025066946.args[0]\"]\n\t5068959694142403101 [label=\"Maybe.map\" id=5068959694142403101]\n\t5068959694142403101 -> 5743490207633551519 [id=\"5068959694142403101.args[0]\"]\n\t5743490207633551519 [label=\"Converter.convert\" id=5743490207633551519]\n\t5743490207633551519 -> 852842466831624100 [id=\"5743490207633551519.args[0]\"]\n\t852842466831624100 [label=5 id=852842466831624100]\n\t5068959694142403101 -> 3299436367977257648 [id=\"5068959694142403101.args[1]\"]\n\t3299436367977257648 [label=\"Abstraction.from_fn\" id=3299436367977257648]\n\t3299436367977257648 -> 3303217568467687651 [id=\"3299436367977257648.args[0]\"]\n\t3303217568467687651 [label=\"Either.left\" id=3303217568467687651]\n\t-7004180416014216026 -> 4687392789662792897 [id=\"-7413928963025066946.args[1]\"]\n\t4687392789662792897 [label=\"Maybe.map\" id=4687392789662792897]\n\t4687392789662792897 -> 2903062968911337222 [id=\"4687392789662792897.args[0]\"]\n\t2903062968911337222 [label=\"Converter.convert\" id=2903062968911337222]\n\t2903062968911337222 -> 852842466831624100 [id=\"2903062968911337222.args[0]\"]\n\t4687392789662792897 -> -8841748531208643889 [id=\"4687392789662792897.args[1]\"]\n\t-8841748531208643889 [label=\"Abstraction.from_fn\" id=-8841748531208643889]\n\t-8841748531208643889 -> -1743313584654778961 [id=\"-8841748531208643889.args[0]\"]\n\t-1743313584654778961 [label=\"Either.right\" id=-1743313584654778961]\n\t-2721977203944501192 -> 7031873113613421220 [id=\"-1055990109103758883.args[1]\"]\n\t7031873113613421220 [label=\"Abstraction.from_fn\" id=7031873113613421220]\n\t7031873113613421220 -> -8369638370716816908 [id=\"7031873113613421220.args[0]\"]\n\t-8369638370716816908 [label=\"function NDArrayCompat.__getitem__.locals.lambda at 0x10f290840\" id=-8369638370716816908]\n}",
         "label": null,
         "rule": "metadsl_core.either.convert_to_either"
        },
        {
         "graph": "digraph {\n\tnode [shape=plain]\n\tedge [arrowsize=0.5 penwidth=0.5]\n\t-7075926890243176742 [label=\"NDArrayCompat.to_ndarray\" id=4165022598424862665]\n\t-7075926890243176742 -> -3010162411960893490 [id=\"4165022598424862665.args[0]\"]\n\t-3010162411960893490 [label=\"NDArrayCompat.from_ndarray\" id=-8054137683011941171]\n\t-3010162411960893490 -> 2014328262272300159 [id=\"-8054137683011941171.args[0]\"]\n\t2014328262272300159 [label=\"Maybe.map\" id=-1055990109103758883]\n\t2014328262272300159 -> 7268800435487306097 [id=\"-1055990109103758883.args[0]\"]\n\t7268800435487306097 [label=\"Maybe.__and__\" id=-4814678537500170364]\n\t7268800435487306097 -> -5782871365754188927 [id=\"-4814678537500170364.args[0]\"]\n\t-5782871365754188927 [label=\"Converter.convert\" id=7947258440880147023]\n\t-5782871365754188927 -> -5952365224410209476 [id=\"7947258440880147023.args[0]\"]\n\t-5952365224410209476 [label=\"NDArrayCompat.__add__\" id=-5558510579709572674]\n\t-5952365224410209476 -> 1347295785570687419 [id=\"-5558510579709572674.args[0]\"]\n\t1347295785570687419 [label=\"NDArrayCompat.from_ndarray\" id=971722316536660130]\n\t1347295785570687419 -> 5848963126652067044 [id=\"971722316536660130.args[0]\"]\n\t5848963126652067044 [label=\"Maybe.map\" id=5848963126652067044]\n\t5848963126652067044 -> 5706060419324713096 [id=\"5848963126652067044.args[0]\"]\n\t5706060419324713096 [label=\"Converter.convert\" id=5706060419324713096]\n\t5706060419324713096 -> 852842466726619175 [id=\"5706060419324713096.args[0]\"]\n\t852842466726619175 [label=100 id=852842466726619175]\n\t5848963126652067044 -> -8550721238847586890 [id=\"5848963126652067044.args[1]\"]\n\t-8550721238847586890 [label=\"Abstraction.from_fn\" id=-8550721238847586890]\n\t-8550721238847586890 -> 5765685988797773240 [id=\"-8550721238847586890.args[0]\"]\n\t5765685988797773240 [label=arange_ id=5765685988797773240]\n\t-5952365224410209476 -> 1347295785570687419 [id=\"-5558510579709572674.args[1]\"]\n\t7268800435487306097 -> -7004180416014216026 [id=\"-4814678537500170364.args[1]\"]\n\t-7004180416014216026 [label=\"Maybe.__or__\" id=-7413928963025066946]\n\t-7004180416014216026 -> 5068959694142403101 [id=\"-7413928963025066946.args[0]\"]\n\t5068959694142403101 [label=\"Maybe.map\" id=5068959694142403101]\n\t5068959694142403101 -> 5743490207633551519 [id=\"5068959694142403101.args[0]\"]\n\t5743490207633551519 [label=\"Converter.convert\" id=5743490207633551519]\n\t5743490207633551519 -> 852842466831624100 [id=\"5743490207633551519.args[0]\"]\n\t852842466831624100 [label=5 id=852842466831624100]\n\t5068959694142403101 -> 3299436367977257648 [id=\"5068959694142403101.args[1]\"]\n\t3299436367977257648 [label=\"Abstraction.from_fn\" id=3299436367977257648]\n\t3299436367977257648 -> 3303217568467687651 [id=\"3299436367977257648.args[0]\"]\n\t3303217568467687651 [label=\"Either.left\" id=3303217568467687651]\n\t-7004180416014216026 -> 4687392789662792897 [id=\"-7413928963025066946.args[1]\"]\n\t4687392789662792897 [label=\"Maybe.map\" id=4687392789662792897]\n\t4687392789662792897 -> 2903062968911337222 [id=\"4687392789662792897.args[0]\"]\n\t2903062968911337222 [label=\"Converter.convert\" id=2903062968911337222]\n\t2903062968911337222 -> 852842466831624100 [id=\"2903062968911337222.args[0]\"]\n\t4687392789662792897 -> -8841748531208643889 [id=\"4687392789662792897.args[1]\"]\n\t-8841748531208643889 [label=\"Abstraction.from_fn\" id=-8841748531208643889]\n\t-8841748531208643889 -> -1743313584654778961 [id=\"-8841748531208643889.args[0]\"]\n\t-1743313584654778961 [label=\"Either.right\" id=-1743313584654778961]\n\t2014328262272300159 -> 7031873113613421220 [id=\"-1055990109103758883.args[1]\"]\n\t7031873113613421220 [label=\"Abstraction.from_fn\" id=7031873113613421220]\n\t7031873113613421220 -> -8369638370716816908 [id=\"7031873113613421220.args[0]\"]\n\t-8369638370716816908 [label=\"function NDArrayCompat.__getitem__.locals.lambda at 0x10f290840\" id=-8369638370716816908]\n}",
         "label": null,
         "rule": "metadsl_core.numpy.arange"
        },
        {
         "graph": "digraph {\n\tnode [shape=plain]\n\tedge [arrowsize=0.5 penwidth=0.5]\n\t6911206259321583495 [label=\"NDArrayCompat.to_ndarray\" id=4165022598424862665]\n\t6911206259321583495 -> -7992742604827214209 [id=\"4165022598424862665.args[0]\"]\n\t-7992742604827214209 [label=\"NDArrayCompat.from_ndarray\" id=-8054137683011941171]\n\t-7992742604827214209 -> -5346943820470270956 [id=\"-8054137683011941171.args[0]\"]\n\t-5346943820470270956 [label=\"Maybe.map\" id=-1055990109103758883]\n\t-5346943820470270956 -> 3007494864010919930 [id=\"-1055990109103758883.args[0]\"]\n\t3007494864010919930 [label=\"Maybe.__and__\" id=-4814678537500170364]\n\t3007494864010919930 -> -5782871365754188927 [id=\"-4814678537500170364.args[0]\"]\n\t-5782871365754188927 [label=\"Converter.convert\" id=7947258440880147023]\n\t-5782871365754188927 -> -5952365224410209476 [id=\"7947258440880147023.args[0]\"]\n\t-5952365224410209476 [label=\"NDArrayCompat.__add__\" id=-5558510579709572674]\n\t-5952365224410209476 -> 1347295785570687419 [id=\"-5558510579709572674.args[0]\"]\n\t1347295785570687419 [label=\"NDArrayCompat.from_ndarray\" id=971722316536660130]\n\t1347295785570687419 -> 5848963126652067044 [id=\"971722316536660130.args[0]\"]\n\t5848963126652067044 [label=\"Maybe.map\" id=5848963126652067044]\n\t5848963126652067044 -> 5706060419324713096 [id=\"5848963126652067044.args[0]\"]\n\t5706060419324713096 [label=\"Converter.convert\" id=5706060419324713096]\n\t5706060419324713096 -> 852842466726619175 [id=\"5706060419324713096.args[0]\"]\n\t852842466726619175 [label=100 id=852842466726619175]\n\t5848963126652067044 -> -8550721238847586890 [id=\"5848963126652067044.args[1]\"]\n\t-8550721238847586890 [label=\"Abstraction.from_fn\" id=-8550721238847586890]\n\t-8550721238847586890 -> 5765685988797773240 [id=\"-8550721238847586890.args[0]\"]\n\t5765685988797773240 [label=arange_ id=5765685988797773240]\n\t-5952365224410209476 -> 1347295785570687419 [id=\"-5558510579709572674.args[1]\"]\n\t3007494864010919930 -> 6856229555535770924 [id=\"-4814678537500170364.args[1]\"]\n\t6856229555535770924 [label=\"Maybe.__or__\" id=-7413928963025066946]\n\t6856229555535770924 -> -6449000199390749469 [id=\"-7413928963025066946.args[0]\"]\n\t-6449000199390749469 [label=\"Maybe.map\" id=5068959694142403101]\n\t-6449000199390749469 -> -1010262108927125773 [id=\"5068959694142403101.args[0]\"]\n\t-1010262108927125773 [label=\"Maybe.just\" id=-1010262108927125773]\n\t-1010262108927125773 -> -7334224414564589854 [id=\"-1010262108927125773.args[0]\"]\n\t-7334224414564589854 [label=\"Integer.from_int\" id=-7334224414564589854]\n\t-7334224414564589854 -> 852842466831624100 [id=\"-7334224414564589854.args[0]\"]\n\t852842466831624100 [label=5 id=852842466831624100]\n\t-6449000199390749469 -> 3299436367977257648 [id=\"5068959694142403101.args[1]\"]\n\t3299436367977257648 [label=\"Abstraction.from_fn\" id=3299436367977257648]\n\t3299436367977257648 -> 3303217568467687651 [id=\"3299436367977257648.args[0]\"]\n\t3303217568467687651 [label=\"Either.left\" id=3303217568467687651]\n\t6856229555535770924 -> 4687392789662792897 [id=\"-7413928963025066946.args[1]\"]\n\t4687392789662792897 [label=\"Maybe.map\" id=4687392789662792897]\n\t4687392789662792897 -> 2903062968911337222 [id=\"4687392789662792897.args[0]\"]\n\t2903062968911337222 [label=\"Converter.convert\" id=2903062968911337222]\n\t2903062968911337222 -> 852842466831624100 [id=\"2903062968911337222.args[0]\"]\n\t4687392789662792897 -> -8841748531208643889 [id=\"4687392789662792897.args[1]\"]\n\t-8841748531208643889 [label=\"Abstraction.from_fn\" id=-8841748531208643889]\n\t-8841748531208643889 -> -1743313584654778961 [id=\"-8841748531208643889.args[0]\"]\n\t-1743313584654778961 [label=\"Either.right\" id=-1743313584654778961]\n\t-5346943820470270956 -> 7031873113613421220 [id=\"-1055990109103758883.args[1]\"]\n\t7031873113613421220 [label=\"Abstraction.from_fn\" id=7031873113613421220]\n\t7031873113613421220 -> -8369638370716816908 [id=\"7031873113613421220.args[0]\"]\n\t-8369638370716816908 [label=\"function NDArrayCompat.__getitem__.locals.lambda at 0x10f290840\" id=-8369638370716816908]\n}",
         "label": null,
         "rule": "metadsl_core.integer.convert_integer"
        },
        {
         "graph": "digraph {\n\tnode [shape=plain]\n\tedge [arrowsize=0.5 penwidth=0.5]\n\t-829264615964567717 [label=\"NDArrayCompat.to_ndarray\" id=4165022598424862665]\n\t-829264615964567717 -> -8800496188540116189 [id=\"4165022598424862665.args[0]\"]\n\t-8800496188540116189 [label=\"NDArrayCompat.from_ndarray\" id=-8054137683011941171]\n\t-8800496188540116189 -> 5517747706173211228 [id=\"-8054137683011941171.args[0]\"]\n\t5517747706173211228 [label=\"Maybe.map\" id=-1055990109103758883]\n\t5517747706173211228 -> -1026313121908345213 [id=\"-1055990109103758883.args[0]\"]\n\t-1026313121908345213 [label=\"Maybe.__and__\" id=-4814678537500170364]\n\t-1026313121908345213 -> -1156468161871471630 [id=\"-4814678537500170364.args[0]\"]\n\t-1156468161871471630 [label=\"Converter.convert\" id=7947258440880147023]\n\t-1156468161871471630 -> -3654042068687366610 [id=\"7947258440880147023.args[0]\"]\n\t-3654042068687366610 [label=\"NDArrayCompat.__add__\" id=-5558510579709572674]\n\t-3654042068687366610 -> 6583497480016573524 [id=\"-5558510579709572674.args[0]\"]\n\t6583497480016573524 [label=\"NDArrayCompat.from_ndarray\" id=971722316536660130]\n\t6583497480016573524 -> -4724715256758988081 [id=\"971722316536660130.args[0]\"]\n\t-4724715256758988081 [label=\"Maybe.map\" id=5848963126652067044]\n\t-4724715256758988081 -> -5463825541328231257 [id=\"5848963126652067044.args[0]\"]\n\t-5463825541328231257 [label=\"Maybe.just\" id=-5463825541328231257]\n\t-5463825541328231257 -> -6362610179852757995 [id=\"-5463825541328231257.args[0]\"]\n\t-6362610179852757995 [label=\"Integer.from_int\" id=-6362610179852757995]\n\t-6362610179852757995 -> 852842466726619175 [id=\"-6362610179852757995.args[0]\"]\n\t852842466726619175 [label=100 id=852842466726619175]\n\t-4724715256758988081 -> -8550721238847586890 [id=\"5848963126652067044.args[1]\"]\n\t-8550721238847586890 [label=\"Abstraction.from_fn\" id=-8550721238847586890]\n\t-8550721238847586890 -> 5765685988797773240 [id=\"-8550721238847586890.args[0]\"]\n\t5765685988797773240 [label=arange_ id=5765685988797773240]\n\t-3654042068687366610 -> 6583497480016573524 [id=\"-5558510579709572674.args[1]\"]\n\t-1026313121908345213 -> 6856229555535770924 [id=\"-4814678537500170364.args[1]\"]\n\t6856229555535770924 [label=\"Maybe.__or__\" id=-7413928963025066946]\n\t6856229555535770924 -> -6449000199390749469 [id=\"-7413928963025066946.args[0]\"]\n\t-6449000199390749469 [label=\"Maybe.map\" id=5068959694142403101]\n\t-6449000199390749469 -> -1010262108927125773 [id=\"5068959694142403101.args[0]\"]\n\t-1010262108927125773 [label=\"Maybe.just\" id=-1010262108927125773]\n\t-1010262108927125773 -> -7334224414564589854 [id=\"-1010262108927125773.args[0]\"]\n\t-7334224414564589854 [label=\"Integer.from_int\" id=-7334224414564589854]\n\t-7334224414564589854 -> 852842466831624100 [id=\"-7334224414564589854.args[0]\"]\n\t852842466831624100 [label=5 id=852842466831624100]\n\t-6449000199390749469 -> 3299436367977257648 [id=\"5068959694142403101.args[1]\"]\n\t3299436367977257648 [label=\"Abstraction.from_fn\" id=3299436367977257648]\n\t3299436367977257648 -> 3303217568467687651 [id=\"3299436367977257648.args[0]\"]\n\t3303217568467687651 [label=\"Either.left\" id=3303217568467687651]\n\t6856229555535770924 -> 4687392789662792897 [id=\"-7413928963025066946.args[1]\"]\n\t4687392789662792897 [label=\"Maybe.map\" id=4687392789662792897]\n\t4687392789662792897 -> 2903062968911337222 [id=\"4687392789662792897.args[0]\"]\n\t2903062968911337222 [label=\"Converter.convert\" id=2903062968911337222]\n\t2903062968911337222 -> 852842466831624100 [id=\"2903062968911337222.args[0]\"]\n\t4687392789662792897 -> -8841748531208643889 [id=\"4687392789662792897.args[1]\"]\n\t-8841748531208643889 [label=\"Abstraction.from_fn\" id=-8841748531208643889]\n\t-8841748531208643889 -> -1743313584654778961 [id=\"-8841748531208643889.args[0]\"]\n\t-1743313584654778961 [label=\"Either.right\" id=-1743313584654778961]\n\t5517747706173211228 -> 7031873113613421220 [id=\"-1055990109103758883.args[1]\"]\n\t7031873113613421220 [label=\"Abstraction.from_fn\" id=7031873113613421220]\n\t7031873113613421220 -> -8369638370716816908 [id=\"7031873113613421220.args[0]\"]\n\t-8369638370716816908 [label=\"function NDArrayCompat.__getitem__.locals.lambda at 0x10f290840\" id=-8369638370716816908]\n}",
         "label": null,
         "rule": "metadsl_core.integer.convert_integer"
        },
        {
         "graph": "digraph {\n\tnode [shape=plain]\n\tedge [arrowsize=0.5 penwidth=0.5]\n\t7676590665895654396 [label=\"NDArrayCompat.to_ndarray\" id=4165022598424862665]\n\t7676590665895654396 -> -1834663258746100869 [id=\"4165022598424862665.args[0]\"]\n\t-1834663258746100869 [label=\"NDArrayCompat.from_ndarray\" id=-8054137683011941171]\n\t-1834663258746100869 -> -2853208546089932377 [id=\"-8054137683011941171.args[0]\"]\n\t-2853208546089932377 [label=\"Maybe.map\" id=-1055990109103758883]\n\t-2853208546089932377 -> -1026313121908345213 [id=\"-1055990109103758883.args[0]\"]\n\t-1026313121908345213 [label=\"Maybe.__and__\" id=-4814678537500170364]\n\t-1026313121908345213 -> -1156468161871471630 [id=\"-4814678537500170364.args[0]\"]\n\t-1156468161871471630 [label=\"Converter.convert\" id=7947258440880147023]\n\t-1156468161871471630 -> -3654042068687366610 [id=\"7947258440880147023.args[0]\"]\n\t-3654042068687366610 [label=\"NDArrayCompat.__add__\" id=-5558510579709572674]\n\t-3654042068687366610 -> 6583497480016573524 [id=\"-5558510579709572674.args[0]\"]\n\t6583497480016573524 [label=\"NDArrayCompat.from_ndarray\" id=971722316536660130]\n\t6583497480016573524 -> -4724715256758988081 [id=\"971722316536660130.args[0]\"]\n\t-4724715256758988081 [label=\"Maybe.map\" id=5848963126652067044]\n\t-4724715256758988081 -> -5463825541328231257 [id=\"5848963126652067044.args[0]\"]\n\t-5463825541328231257 [label=\"Maybe.just\" id=-5463825541328231257]\n\t-5463825541328231257 -> -6362610179852757995 [id=\"-5463825541328231257.args[0]\"]\n\t-6362610179852757995 [label=\"Integer.from_int\" id=-6362610179852757995]\n\t-6362610179852757995 -> 852842466726619175 [id=\"-6362610179852757995.args[0]\"]\n\t852842466726619175 [label=100 id=852842466726619175]\n\t-4724715256758988081 -> -8550721238847586890 [id=\"5848963126652067044.args[1]\"]\n\t-8550721238847586890 [label=\"Abstraction.from_fn\" id=-8550721238847586890]\n\t-8550721238847586890 -> 5765685988797773240 [id=\"-8550721238847586890.args[0]\"]\n\t5765685988797773240 [label=arange_ id=5765685988797773240]\n\t-3654042068687366610 -> 6583497480016573524 [id=\"-5558510579709572674.args[1]\"]\n\t-1026313121908345213 -> 6856229555535770924 [id=\"-4814678537500170364.args[1]\"]\n\t6856229555535770924 [label=\"Maybe.__or__\" id=-7413928963025066946]\n\t6856229555535770924 -> -6449000199390749469 [id=\"-7413928963025066946.args[0]\"]\n\t-6449000199390749469 [label=\"Maybe.map\" id=5068959694142403101]\n\t-6449000199390749469 -> -1010262108927125773 [id=\"5068959694142403101.args[0]\"]\n\t-1010262108927125773 [label=\"Maybe.just\" id=-1010262108927125773]\n\t-1010262108927125773 -> -7334224414564589854 [id=\"-1010262108927125773.args[0]\"]\n\t-7334224414564589854 [label=\"Integer.from_int\" id=-7334224414564589854]\n\t-7334224414564589854 -> 852842466831624100 [id=\"-7334224414564589854.args[0]\"]\n\t852842466831624100 [label=5 id=852842466831624100]\n\t-6449000199390749469 -> 3299436367977257648 [id=\"5068959694142403101.args[1]\"]\n\t3299436367977257648 [label=\"Abstraction.from_fn\" id=3299436367977257648]\n\t3299436367977257648 -> 3303217568467687651 [id=\"3299436367977257648.args[0]\"]\n\t3303217568467687651 [label=\"Either.left\" id=3303217568467687651]\n\t6856229555535770924 -> 4687392789662792897 [id=\"-7413928963025066946.args[1]\"]\n\t4687392789662792897 [label=\"Maybe.map\" id=4687392789662792897]\n\t4687392789662792897 -> 2903062968911337222 [id=\"4687392789662792897.args[0]\"]\n\t2903062968911337222 [label=\"Converter.convert\" id=2903062968911337222]\n\t2903062968911337222 -> 852842466831624100 [id=\"2903062968911337222.args[0]\"]\n\t4687392789662792897 -> -8841748531208643889 [id=\"4687392789662792897.args[1]\"]\n\t-8841748531208643889 [label=\"Abstraction.from_fn\" id=-8841748531208643889]\n\t-8841748531208643889 -> -1743313584654778961 [id=\"-8841748531208643889.args[0]\"]\n\t-1743313584654778961 [label=\"Either.right\" id=-1743313584654778961]\n\t-2853208546089932377 -> 1086476962447876602 [id=\"-1055990109103758883.args[1]\"]\n\t1086476962447876602 [label=\"Abstraction.create\" id=1086476962447876602]\n\t1086476962447876602 -> 7616326404151103511 [id=\"1086476962447876602.args[0]\"]\n\t7616326404151103511 [label=\"Abstraction.create_variable\" id=7616326404151103511]\n\t7616326404151103511 -> 1599161639873810534 [id=\"7616326404151103511.args[0]\"]\n\t1599161639873810534 [label=\"Variable(4549638072)\" id=1599161639873810534]\n\t1086476962447876602 -> -6242641388488469540 [id=\"1086476962447876602.args[1]\"]\n\t-6242641388488469540 [label=\"NDArray.__getitem__\" id=-6242641388488469540]\n\t-6242641388488469540 -> -2203303042166162505 [id=\"-6242641388488469540.args[0]\"]\n\t-2203303042166162505 [label=\"Pair.left\" id=-2203303042166162505]\n\t-2203303042166162505 -> 7616326404151103511 [id=\"-2203303042166162505.args[0]\"]\n\t-6242641388488469540 -> -7578727142363371923 [id=\"-6242641388488469540.args[1]\"]\n\t-7578727142363371923 [label=\"Pair.right\" id=-7578727142363371923]\n\t-7578727142363371923 -> 7616326404151103511 [id=\"-7578727142363371923.args[0]\"]\n}",
         "label": null,
         "rule": "metadsl_core.abstraction.Abstraction.from_fn"
        },
        {
         "graph": "digraph {\n\tnode [shape=plain]\n\tedge [arrowsize=0.5 penwidth=0.5]\n\t8573804343708975551 [label=\"NDArrayCompat.to_ndarray\" id=4165022598424862665]\n\t8573804343708975551 -> -8370592865890929625 [id=\"4165022598424862665.args[0]\"]\n\t-8370592865890929625 [label=\"NDArrayCompat.from_ndarray\" id=-8054137683011941171]\n\t-8370592865890929625 -> -7848175503099266099 [id=\"-8054137683011941171.args[0]\"]\n\t-7848175503099266099 [label=\"Maybe.map\" id=-1055990109103758883]\n\t-7848175503099266099 -> -177182266443459815 [id=\"-1055990109103758883.args[0]\"]\n\t-177182266443459815 [label=\"Maybe.__and__\" id=-4814678537500170364]\n\t-177182266443459815 -> -1156468161871471630 [id=\"-4814678537500170364.args[0]\"]\n\t-1156468161871471630 [label=\"Converter.convert\" id=7947258440880147023]\n\t-1156468161871471630 -> -3654042068687366610 [id=\"7947258440880147023.args[0]\"]\n\t-3654042068687366610 [label=\"NDArrayCompat.__add__\" id=-5558510579709572674]\n\t-3654042068687366610 -> 6583497480016573524 [id=\"-5558510579709572674.args[0]\"]\n\t6583497480016573524 [label=\"NDArrayCompat.from_ndarray\" id=971722316536660130]\n\t6583497480016573524 -> -4724715256758988081 [id=\"971722316536660130.args[0]\"]\n\t-4724715256758988081 [label=\"Maybe.map\" id=5848963126652067044]\n\t-4724715256758988081 -> -5463825541328231257 [id=\"5848963126652067044.args[0]\"]\n\t-5463825541328231257 [label=\"Maybe.just\" id=-5463825541328231257]\n\t-5463825541328231257 -> -6362610179852757995 [id=\"-5463825541328231257.args[0]\"]\n\t-6362610179852757995 [label=\"Integer.from_int\" id=-6362610179852757995]\n\t-6362610179852757995 -> 852842466726619175 [id=\"-6362610179852757995.args[0]\"]\n\t852842466726619175 [label=100 id=852842466726619175]\n\t-4724715256758988081 -> -8550721238847586890 [id=\"5848963126652067044.args[1]\"]\n\t-8550721238847586890 [label=\"Abstraction.from_fn\" id=-8550721238847586890]\n\t-8550721238847586890 -> 5765685988797773240 [id=\"-8550721238847586890.args[0]\"]\n\t5765685988797773240 [label=arange_ id=5765685988797773240]\n\t-3654042068687366610 -> 6583497480016573524 [id=\"-5558510579709572674.args[1]\"]\n\t-177182266443459815 -> -2221606549504931728 [id=\"-4814678537500170364.args[1]\"]\n\t-2221606549504931728 [label=\"Maybe.__or__\" id=-7413928963025066946]\n\t-2221606549504931728 -> 9185684620050578154 [id=\"-7413928963025066946.args[0]\"]\n\t9185684620050578154 [label=\"Maybe.map\" id=9185684620050578154]\n\t9185684620050578154 -> -1010262108927125773 [id=\"9185684620050578154.args[0]\"]\n\t-1010262108927125773 [label=\"Maybe.just\" id=-1010262108927125773]\n\t-1010262108927125773 -> -7334224414564589854 [id=\"-1010262108927125773.args[0]\"]\n\t-7334224414564589854 [label=\"Integer.from_int\" id=-7334224414564589854]\n\t-7334224414564589854 -> 852842466831624100 [id=\"-7334224414564589854.args[0]\"]\n\t852842466831624100 [label=5 id=852842466831624100]\n\t9185684620050578154 -> 1476814018894724778 [id=\"9185684620050578154.args[1]\"]\n\t1476814018894724778 [label=\"Abstraction.create\" id=1476814018894724778]\n\t1476814018894724778 -> 8578252472718281855 [id=\"1476814018894724778.args[0]\"]\n\t8578252472718281855 [label=\"Abstraction.create_variable\" id=8578252472718281855]\n\t8578252472718281855 -> 1599161653680334384 [id=\"8578252472718281855.args[0]\"]\n\t1599161653680334384 [label=\"Variable(4549696088)\" id=1599161653680334384]\n\t1476814018894724778 -> 2819426627661147747 [id=\"1476814018894724778.args[1]\"]\n\t2819426627661147747 [label=\"Either.left\" id=2819426627661147747]\n\t2819426627661147747 -> 8578252472718281855 [id=\"2819426627661147747.args[0]\"]\n\t-2221606549504931728 -> 4687392789662792897 [id=\"-7413928963025066946.args[1]\"]\n\t4687392789662792897 [label=\"Maybe.map\" id=4687392789662792897]\n\t4687392789662792897 -> 2903062968911337222 [id=\"4687392789662792897.args[0]\"]\n\t2903062968911337222 [label=\"Converter.convert\" id=2903062968911337222]\n\t2903062968911337222 -> 852842466831624100 [id=\"2903062968911337222.args[0]\"]\n\t4687392789662792897 -> -8841748531208643889 [id=\"4687392789662792897.args[1]\"]\n\t-8841748531208643889 [label=\"Abstraction.from_fn\" id=-8841748531208643889]\n\t-8841748531208643889 -> -1743313584654778961 [id=\"-8841748531208643889.args[0]\"]\n\t-1743313584654778961 [label=\"Either.right\" id=-1743313584654778961]\n\t-7848175503099266099 -> 1086476962447876602 [id=\"-1055990109103758883.args[1]\"]\n\t1086476962447876602 [label=\"Abstraction.create\" id=1086476962447876602]\n\t1086476962447876602 -> 7616326404151103511 [id=\"1086476962447876602.args[0]\"]\n\t7616326404151103511 [label=\"Abstraction.create_variable\" id=7616326404151103511]\n\t7616326404151103511 -> 1599161639873810534 [id=\"7616326404151103511.args[0]\"]\n\t1599161639873810534 [label=\"Variable(4549638072)\" id=1599161639873810534]\n\t1086476962447876602 -> -6242641388488469540 [id=\"1086476962447876602.args[1]\"]\n\t-6242641388488469540 [label=\"NDArray.__getitem__\" id=-6242641388488469540]\n\t-6242641388488469540 -> -2203303042166162505 [id=\"-6242641388488469540.args[0]\"]\n\t-2203303042166162505 [label=\"Pair.left\" id=-2203303042166162505]\n\t-2203303042166162505 -> 7616326404151103511 [id=\"-2203303042166162505.args[0]\"]\n\t-6242641388488469540 -> -7578727142363371923 [id=\"-6242641388488469540.args[1]\"]\n\t-7578727142363371923 [label=\"Pair.right\" id=-7578727142363371923]\n\t-7578727142363371923 -> 7616326404151103511 [id=\"-7578727142363371923.args[0]\"]\n}",
         "label": null,
         "rule": "metadsl_core.abstraction.Abstraction.from_fn"
        },
        {
         "graph": "digraph {\n\tnode [shape=plain]\n\tedge [arrowsize=0.5 penwidth=0.5]\n\t-4197977456492689751 [label=\"NDArrayCompat.to_ndarray\" id=4165022598424862665]\n\t-4197977456492689751 -> -927448462973283222 [id=\"4165022598424862665.args[0]\"]\n\t-927448462973283222 [label=\"NDArrayCompat.from_ndarray\" id=-8054137683011941171]\n\t-927448462973283222 -> -3901462807584601996 [id=\"-8054137683011941171.args[0]\"]\n\t-3901462807584601996 [label=\"Maybe.map\" id=-1055990109103758883]\n\t-3901462807584601996 -> -5704966778682325114 [id=\"-1055990109103758883.args[0]\"]\n\t-5704966778682325114 [label=\"Maybe.__and__\" id=-4814678537500170364]\n\t-5704966778682325114 -> -1156468161871471630 [id=\"-4814678537500170364.args[0]\"]\n\t-1156468161871471630 [label=\"Converter.convert\" id=7947258440880147023]\n\t-1156468161871471630 -> -3654042068687366610 [id=\"7947258440880147023.args[0]\"]\n\t-3654042068687366610 [label=\"NDArrayCompat.__add__\" id=-5558510579709572674]\n\t-3654042068687366610 -> 6583497480016573524 [id=\"-5558510579709572674.args[0]\"]\n\t6583497480016573524 [label=\"NDArrayCompat.from_ndarray\" id=971722316536660130]\n\t6583497480016573524 -> -4724715256758988081 [id=\"971722316536660130.args[0]\"]\n\t-4724715256758988081 [label=\"Maybe.map\" id=5848963126652067044]\n\t-4724715256758988081 -> -5463825541328231257 [id=\"5848963126652067044.args[0]\"]\n\t-5463825541328231257 [label=\"Maybe.just\" id=-5463825541328231257]\n\t-5463825541328231257 -> -6362610179852757995 [id=\"-5463825541328231257.args[0]\"]\n\t-6362610179852757995 [label=\"Integer.from_int\" id=-6362610179852757995]\n\t-6362610179852757995 -> 852842466726619175 [id=\"-6362610179852757995.args[0]\"]\n\t852842466726619175 [label=100 id=852842466726619175]\n\t-4724715256758988081 -> -8550721238847586890 [id=\"5848963126652067044.args[1]\"]\n\t-8550721238847586890 [label=\"Abstraction.from_fn\" id=-8550721238847586890]\n\t-8550721238847586890 -> 5765685988797773240 [id=\"-8550721238847586890.args[0]\"]\n\t5765685988797773240 [label=arange_ id=5765685988797773240]\n\t-3654042068687366610 -> 6583497480016573524 [id=\"-5558510579709572674.args[1]\"]\n\t-5704966778682325114 -> 6606662420229354367 [id=\"-4814678537500170364.args[1]\"]\n\t6606662420229354367 [label=\"Maybe.__or__\" id=6606662420229354367]\n\t6606662420229354367 -> 9185684620050578154 [id=\"6606662420229354367.args[0]\"]\n\t9185684620050578154 [label=\"Maybe.map\" id=9185684620050578154]\n\t9185684620050578154 -> -1010262108927125773 [id=\"9185684620050578154.args[0]\"]\n\t-1010262108927125773 [label=\"Maybe.just\" id=-1010262108927125773]\n\t-1010262108927125773 -> -7334224414564589854 [id=\"-1010262108927125773.args[0]\"]\n\t-7334224414564589854 [label=\"Integer.from_int\" id=-7334224414564589854]\n\t-7334224414564589854 -> 852842466831624100 [id=\"-7334224414564589854.args[0]\"]\n\t852842466831624100 [label=5 id=852842466831624100]\n\t9185684620050578154 -> 1476814018894724778 [id=\"9185684620050578154.args[1]\"]\n\t1476814018894724778 [label=\"Abstraction.create\" id=1476814018894724778]\n\t1476814018894724778 -> 8578252472718281855 [id=\"1476814018894724778.args[0]\"]\n\t8578252472718281855 [label=\"Abstraction.create_variable\" id=8578252472718281855]\n\t8578252472718281855 -> 1599161653680334384 [id=\"8578252472718281855.args[0]\"]\n\t1599161653680334384 [label=\"Variable(4549696088)\" id=1599161653680334384]\n\t1476814018894724778 -> 2819426627661147747 [id=\"1476814018894724778.args[1]\"]\n\t2819426627661147747 [label=\"Either.left\" id=2819426627661147747]\n\t2819426627661147747 -> 8578252472718281855 [id=\"2819426627661147747.args[0]\"]\n\t6606662420229354367 -> -4974165390111393856 [id=\"6606662420229354367.args[1]\"]\n\t-4974165390111393856 [label=\"Maybe.map\" id=-4974165390111393856]\n\t-4974165390111393856 -> 2903062968911337222 [id=\"-4974165390111393856.args[0]\"]\n\t2903062968911337222 [label=\"Converter.convert\" id=2903062968911337222]\n\t2903062968911337222 -> 852842466831624100 [id=\"2903062968911337222.args[0]\"]\n\t-4974165390111393856 -> 878450276063681107 [id=\"-4974165390111393856.args[1]\"]\n\t878450276063681107 [label=\"Abstraction.create\" id=878450276063681107]\n\t878450276063681107 -> -6499163487982209355 [id=\"878450276063681107.args[0]\"]\n\t-6499163487982209355 [label=\"Abstraction.create_variable\" id=-6499163487982209355]\n\t-6499163487982209355 -> 1599161639649727859 [id=\"-6499163487982209355.args[0]\"]\n\t1599161639649727859 [label=\"Variable(4549632072)\" id=1599161639649727859]\n\t878450276063681107 -> 4425729685164377546 [id=\"878450276063681107.args[1]\"]\n\t4425729685164377546 [label=\"Either.right\" id=4425729685164377546]\n\t4425729685164377546 -> -6499163487982209355 [id=\"4425729685164377546.args[0]\"]\n\t-3901462807584601996 -> 1086476962447876602 [id=\"-1055990109103758883.args[1]\"]\n\t1086476962447876602 [label=\"Abstraction.create\" id=1086476962447876602]\n\t1086476962447876602 -> 7616326404151103511 [id=\"1086476962447876602.args[0]\"]\n\t7616326404151103511 [label=\"Abstraction.create_variable\" id=7616326404151103511]\n\t7616326404151103511 -> 1599161639873810534 [id=\"7616326404151103511.args[0]\"]\n\t1599161639873810534 [label=\"Variable(4549638072)\" id=1599161639873810534]\n\t1086476962447876602 -> -6242641388488469540 [id=\"1086476962447876602.args[1]\"]\n\t-6242641388488469540 [label=\"NDArray.__getitem__\" id=-6242641388488469540]\n\t-6242641388488469540 -> -2203303042166162505 [id=\"-6242641388488469540.args[0]\"]\n\t-2203303042166162505 [label=\"Pair.left\" id=-2203303042166162505]\n\t-2203303042166162505 -> 7616326404151103511 [id=\"-2203303042166162505.args[0]\"]\n\t-6242641388488469540 -> -7578727142363371923 [id=\"-6242641388488469540.args[1]\"]\n\t-7578727142363371923 [label=\"Pair.right\" id=-7578727142363371923]\n\t-7578727142363371923 -> 7616326404151103511 [id=\"-7578727142363371923.args[0]\"]\n}",
         "label": null,
         "rule": "metadsl_core.abstraction.Abstraction.from_fn"
        },
        {
         "graph": "digraph {\n\tnode [shape=plain]\n\tedge [arrowsize=0.5 penwidth=0.5]\n\t5420067201103152751 [label=\"NDArrayCompat.to_ndarray\" id=4165022598424862665]\n\t5420067201103152751 -> 3139592889617416915 [id=\"4165022598424862665.args[0]\"]\n\t3139592889617416915 [label=\"NDArrayCompat.from_ndarray\" id=-8054137683011941171]\n\t3139592889617416915 -> -1223578185388110866 [id=\"-8054137683011941171.args[0]\"]\n\t-1223578185388110866 [label=\"Maybe.map\" id=-1055990109103758883]\n\t-1223578185388110866 -> -7774097712138673687 [id=\"-1055990109103758883.args[0]\"]\n\t-7774097712138673687 [label=\"Maybe.__and__\" id=-7774097712138673687]\n\t-7774097712138673687 -> -2612058384443202226 [id=\"-7774097712138673687.args[0]\"]\n\t-2612058384443202226 [label=\"Converter.convert\" id=-2612058384443202226]\n\t-2612058384443202226 -> -8020448314167642308 [id=\"-2612058384443202226.args[0]\"]\n\t-8020448314167642308 [label=\"NDArrayCompat.__add__\" id=-8020448314167642308]\n\t-8020448314167642308 -> 2204185982366297925 [id=\"-8020448314167642308.args[0]\"]\n\t2204185982366297925 [label=\"NDArrayCompat.from_ndarray\" id=2204185982366297925]\n\t2204185982366297925 -> -8125902144106883229 [id=\"2204185982366297925.args[0]\"]\n\t-8125902144106883229 [label=\"Maybe.map\" id=-8125902144106883229]\n\t-8125902144106883229 -> -5463825541328231257 [id=\"-8125902144106883229.args[0]\"]\n\t-5463825541328231257 [label=\"Maybe.just\" id=-5463825541328231257]\n\t-5463825541328231257 -> -6362610179852757995 [id=\"-5463825541328231257.args[0]\"]\n\t-6362610179852757995 [label=\"Integer.from_int\" id=-6362610179852757995]\n\t-6362610179852757995 -> 852842466726619175 [id=\"-6362610179852757995.args[0]\"]\n\t852842466726619175 [label=100 id=852842466726619175]\n\t-8125902144106883229 -> -3607651342286296696 [id=\"-8125902144106883229.args[1]\"]\n\t-3607651342286296696 [label=\"Abstraction.create\" id=-3607651342286296696]\n\t-3607651342286296696 -> -9156363857593975122 [id=\"-3607651342286296696.args[0]\"]\n\t-9156363857593975122 [label=\"Abstraction.create_variable\" id=-9156363857593975122]\n\t-9156363857593975122 -> 1599161652712557034 [id=\"-9156363857593975122.args[0]\"]\n\t1599161652712557034 [label=\"Variable(4549677688)\" id=1599161652712557034]\n\t-3607651342286296696 -> 4236997518345950211 [id=\"-3607651342286296696.args[1]\"]\n\t4236997518345950211 [label=arange_ id=4236997518345950211]\n\t4236997518345950211 -> -9156363857593975122 [id=\"4236997518345950211.args[0]\"]\n\t-8020448314167642308 -> 2204185982366297925 [id=\"-8020448314167642308.args[1]\"]\n\t-7774097712138673687 -> 6606662420229354367 [id=\"-7774097712138673687.args[1]\"]\n\t6606662420229354367 [label=\"Maybe.__or__\" id=6606662420229354367]\n\t6606662420229354367 -> 9185684620050578154 [id=\"6606662420229354367.args[0]\"]\n\t9185684620050578154 [label=\"Maybe.map\" id=9185684620050578154]\n\t9185684620050578154 -> -1010262108927125773 [id=\"9185684620050578154.args[0]\"]\n\t-1010262108927125773 [label=\"Maybe.just\" id=-1010262108927125773]\n\t-1010262108927125773 -> -7334224414564589854 [id=\"-1010262108927125773.args[0]\"]\n\t-7334224414564589854 [label=\"Integer.from_int\" id=-7334224414564589854]\n\t-7334224414564589854 -> 852842466831624100 [id=\"-7334224414564589854.args[0]\"]\n\t852842466831624100 [label=5 id=852842466831624100]\n\t9185684620050578154 -> 1476814018894724778 [id=\"9185684620050578154.args[1]\"]\n\t1476814018894724778 [label=\"Abstraction.create\" id=1476814018894724778]\n\t1476814018894724778 -> 8578252472718281855 [id=\"1476814018894724778.args[0]\"]\n\t8578252472718281855 [label=\"Abstraction.create_variable\" id=8578252472718281855]\n\t8578252472718281855 -> 1599161653680334384 [id=\"8578252472718281855.args[0]\"]\n\t1599161653680334384 [label=\"Variable(4549696088)\" id=1599161653680334384]\n\t1476814018894724778 -> 2819426627661147747 [id=\"1476814018894724778.args[1]\"]\n\t2819426627661147747 [label=\"Either.left\" id=2819426627661147747]\n\t2819426627661147747 -> 8578252472718281855 [id=\"2819426627661147747.args[0]\"]\n\t6606662420229354367 -> -4974165390111393856 [id=\"6606662420229354367.args[1]\"]\n\t-4974165390111393856 [label=\"Maybe.map\" id=-4974165390111393856]\n\t-4974165390111393856 -> 2903062968911337222 [id=\"-4974165390111393856.args[0]\"]\n\t2903062968911337222 [label=\"Converter.convert\" id=2903062968911337222]\n\t2903062968911337222 -> 852842466831624100 [id=\"2903062968911337222.args[0]\"]\n\t-4974165390111393856 -> 878450276063681107 [id=\"-4974165390111393856.args[1]\"]\n\t878450276063681107 [label=\"Abstraction.create\" id=878450276063681107]\n\t878450276063681107 -> -6499163487982209355 [id=\"878450276063681107.args[0]\"]\n\t-6499163487982209355 [label=\"Abstraction.create_variable\" id=-6499163487982209355]\n\t-6499163487982209355 -> 1599161639649727859 [id=\"-6499163487982209355.args[0]\"]\n\t1599161639649727859 [label=\"Variable(4549632072)\" id=1599161639649727859]\n\t878450276063681107 -> 4425729685164377546 [id=\"878450276063681107.args[1]\"]\n\t4425729685164377546 [label=\"Either.right\" id=4425729685164377546]\n\t4425729685164377546 -> -6499163487982209355 [id=\"4425729685164377546.args[0]\"]\n\t-1223578185388110866 -> 1086476962447876602 [id=\"-1055990109103758883.args[1]\"]\n\t1086476962447876602 [label=\"Abstraction.create\" id=1086476962447876602]\n\t1086476962447876602 -> 7616326404151103511 [id=\"1086476962447876602.args[0]\"]\n\t7616326404151103511 [label=\"Abstraction.create_variable\" id=7616326404151103511]\n\t7616326404151103511 -> 1599161639873810534 [id=\"7616326404151103511.args[0]\"]\n\t1599161639873810534 [label=\"Variable(4549638072)\" id=1599161639873810534]\n\t1086476962447876602 -> -6242641388488469540 [id=\"1086476962447876602.args[1]\"]\n\t-6242641388488469540 [label=\"NDArray.__getitem__\" id=-6242641388488469540]\n\t-6242641388488469540 -> -2203303042166162505 [id=\"-6242641388488469540.args[0]\"]\n\t-2203303042166162505 [label=\"Pair.left\" id=-2203303042166162505]\n\t-2203303042166162505 -> 7616326404151103511 [id=\"-2203303042166162505.args[0]\"]\n\t-6242641388488469540 -> -7578727142363371923 [id=\"-6242641388488469540.args[1]\"]\n\t-7578727142363371923 [label=\"Pair.right\" id=-7578727142363371923]\n\t-7578727142363371923 -> 7616326404151103511 [id=\"-7578727142363371923.args[0]\"]\n}",
         "label": null,
         "rule": "metadsl_core.abstraction.Abstraction.from_fn"
        },
        {
         "graph": "digraph {\n\tnode [shape=plain]\n\tedge [arrowsize=0.5 penwidth=0.5]\n\t-266809558131030456 [label=\"NDArrayCompat.to_ndarray\" id=4165022598424862665]\n\t-266809558131030456 -> -2925862996932521592 [id=\"4165022598424862665.args[0]\"]\n\t-2925862996932521592 [label=\"NDArrayCompat.from_ndarray\" id=-8054137683011941171]\n\t-2925862996932521592 -> 2431515222273860616 [id=\"-8054137683011941171.args[0]\"]\n\t2431515222273860616 [label=\"Maybe.match\" id=-1055990109103758883]\n\t2431515222273860616 -> -7774097712138673687 [id=\"-1055990109103758883.args[0]\"]\n\t-7774097712138673687 [label=\"Maybe.__and__\" id=-7774097712138673687]\n\t-7774097712138673687 -> -2612058384443202226 [id=\"-7774097712138673687.args[0]\"]\n\t-2612058384443202226 [label=\"Converter.convert\" id=-2612058384443202226]\n\t-2612058384443202226 -> -8020448314167642308 [id=\"-2612058384443202226.args[0]\"]\n\t-8020448314167642308 [label=\"NDArrayCompat.__add__\" id=-8020448314167642308]\n\t-8020448314167642308 -> 2204185982366297925 [id=\"-8020448314167642308.args[0]\"]\n\t2204185982366297925 [label=\"NDArrayCompat.from_ndarray\" id=2204185982366297925]\n\t2204185982366297925 -> -8125902144106883229 [id=\"2204185982366297925.args[0]\"]\n\t-8125902144106883229 [label=\"Maybe.map\" id=-8125902144106883229]\n\t-8125902144106883229 -> -5463825541328231257 [id=\"-8125902144106883229.args[0]\"]\n\t-5463825541328231257 [label=\"Maybe.just\" id=-5463825541328231257]\n\t-5463825541328231257 -> -6362610179852757995 [id=\"-5463825541328231257.args[0]\"]\n\t-6362610179852757995 [label=\"Integer.from_int\" id=-6362610179852757995]\n\t-6362610179852757995 -> 852842466726619175 [id=\"-6362610179852757995.args[0]\"]\n\t852842466726619175 [label=100 id=852842466726619175]\n\t-8125902144106883229 -> -3607651342286296696 [id=\"-8125902144106883229.args[1]\"]\n\t-3607651342286296696 [label=\"Abstraction.create\" id=-3607651342286296696]\n\t-3607651342286296696 -> -9156363857593975122 [id=\"-3607651342286296696.args[0]\"]\n\t-9156363857593975122 [label=\"Abstraction.create_variable\" id=-9156363857593975122]\n\t-9156363857593975122 -> 1599161652712557034 [id=\"-9156363857593975122.args[0]\"]\n\t1599161652712557034 [label=\"Variable(4549677688)\" id=1599161652712557034]\n\t-3607651342286296696 -> 4236997518345950211 [id=\"-3607651342286296696.args[1]\"]\n\t4236997518345950211 [label=arange_ id=4236997518345950211]\n\t4236997518345950211 -> -9156363857593975122 [id=\"4236997518345950211.args[0]\"]\n\t-8020448314167642308 -> 2204185982366297925 [id=\"-8020448314167642308.args[1]\"]\n\t-7774097712138673687 -> 6606662420229354367 [id=\"-7774097712138673687.args[1]\"]\n\t6606662420229354367 [label=\"Maybe.__or__\" id=6606662420229354367]\n\t6606662420229354367 -> 9185684620050578154 [id=\"6606662420229354367.args[0]\"]\n\t9185684620050578154 [label=\"Maybe.map\" id=9185684620050578154]\n\t9185684620050578154 -> -1010262108927125773 [id=\"9185684620050578154.args[0]\"]\n\t-1010262108927125773 [label=\"Maybe.just\" id=-1010262108927125773]\n\t-1010262108927125773 -> -7334224414564589854 [id=\"-1010262108927125773.args[0]\"]\n\t-7334224414564589854 [label=\"Integer.from_int\" id=-7334224414564589854]\n\t-7334224414564589854 -> 852842466831624100 [id=\"-7334224414564589854.args[0]\"]\n\t852842466831624100 [label=5 id=852842466831624100]\n\t9185684620050578154 -> 1476814018894724778 [id=\"9185684620050578154.args[1]\"]\n\t1476814018894724778 [label=\"Abstraction.create\" id=1476814018894724778]\n\t1476814018894724778 -> 8578252472718281855 [id=\"1476814018894724778.args[0]\"]\n\t8578252472718281855 [label=\"Abstraction.create_variable\" id=8578252472718281855]\n\t8578252472718281855 -> 1599161653680334384 [id=\"8578252472718281855.args[0]\"]\n\t1599161653680334384 [label=\"Variable(4549696088)\" id=1599161653680334384]\n\t1476814018894724778 -> 2819426627661147747 [id=\"1476814018894724778.args[1]\"]\n\t2819426627661147747 [label=\"Either.left\" id=2819426627661147747]\n\t2819426627661147747 -> 8578252472718281855 [id=\"2819426627661147747.args[0]\"]\n\t6606662420229354367 -> -4974165390111393856 [id=\"6606662420229354367.args[1]\"]\n\t-4974165390111393856 [label=\"Maybe.map\" id=-4974165390111393856]\n\t-4974165390111393856 -> 2903062968911337222 [id=\"-4974165390111393856.args[0]\"]\n\t2903062968911337222 [label=\"Converter.convert\" id=2903062968911337222]\n\t2903062968911337222 -> 852842466831624100 [id=\"2903062968911337222.args[0]\"]\n\t-4974165390111393856 -> 878450276063681107 [id=\"-4974165390111393856.args[1]\"]\n\t878450276063681107 [label=\"Abstraction.create\" id=878450276063681107]\n\t878450276063681107 -> -6499163487982209355 [id=\"878450276063681107.args[0]\"]\n\t-6499163487982209355 [label=\"Abstraction.create_variable\" id=-6499163487982209355]\n\t-6499163487982209355 -> 1599161639649727859 [id=\"-6499163487982209355.args[0]\"]\n\t1599161639649727859 [label=\"Variable(4549632072)\" id=1599161639649727859]\n\t878450276063681107 -> 4425729685164377546 [id=\"878450276063681107.args[1]\"]\n\t4425729685164377546 [label=\"Either.right\" id=4425729685164377546]\n\t4425729685164377546 -> -6499163487982209355 [id=\"4425729685164377546.args[0]\"]\n\t2431515222273860616 -> -1741944831158160669 [id=\"-1055990109103758883.args[1]\"]\n\t-1741944831158160669 [label=\"Maybe.nothing\" id=-1741944831158160669]\n\t2431515222273860616 -> -4006968251054608271 [id=\"-1055990109103758883.args[2]\"]\n\t-4006968251054608271 [label=\"Abstraction.__add__\" id=-4006968251054608271]\n\t-4006968251054608271 -> -3689034126165086493 [id=\"-4006968251054608271.args[0]\"]\n\t-3689034126165086493 [label=\"Abstraction.from_fn\" id=-3689034126165086493]\n\t-3689034126165086493 -> -562755898029559237 [id=\"-3689034126165086493.args[0]\"]\n\t-562755898029559237 [label=\"Maybe.just\" id=-562755898029559237]\n\t-4006968251054608271 -> 1086476962447876602 [id=\"-4006968251054608271.args[1]\"]\n\t1086476962447876602 [label=\"Abstraction.create\" id=1086476962447876602]\n\t1086476962447876602 -> 7616326404151103511 [id=\"1086476962447876602.args[0]\"]\n\t7616326404151103511 [label=\"Abstraction.create_variable\" id=7616326404151103511]\n\t7616326404151103511 -> 1599161639873810534 [id=\"7616326404151103511.args[0]\"]\n\t1599161639873810534 [label=\"Variable(4549638072)\" id=1599161639873810534]\n\t1086476962447876602 -> -6242641388488469540 [id=\"1086476962447876602.args[1]\"]\n\t-6242641388488469540 [label=\"NDArray.__getitem__\" id=-6242641388488469540]\n\t-6242641388488469540 -> -2203303042166162505 [id=\"-6242641388488469540.args[0]\"]\n\t-2203303042166162505 [label=\"Pair.left\" id=-2203303042166162505]\n\t-2203303042166162505 -> 7616326404151103511 [id=\"-2203303042166162505.args[0]\"]\n\t-6242641388488469540 -> -7578727142363371923 [id=\"-6242641388488469540.args[1]\"]\n\t-7578727142363371923 [label=\"Pair.right\" id=-7578727142363371923]\n\t-7578727142363371923 -> 7616326404151103511 [id=\"-7578727142363371923.args[0]\"]\n}",
         "label": null,
         "rule": "metadsl_core.maybe.Maybe.map"
        },
        {
         "graph": "digraph {\n\tnode [shape=plain]\n\tedge [arrowsize=0.5 penwidth=0.5]\n\t-5796473528836597542 [label=\"NDArrayCompat.to_ndarray\" id=4165022598424862665]\n\t-5796473528836597542 -> -5952650148250581553 [id=\"4165022598424862665.args[0]\"]\n\t-5952650148250581553 [label=\"NDArrayCompat.from_ndarray\" id=-8054137683011941171]\n\t-5952650148250581553 -> 4110092845792029569 [id=\"-8054137683011941171.args[0]\"]\n\t4110092845792029569 [label=\"Maybe.match\" id=-1055990109103758883]\n\t4110092845792029569 -> 5573314645756069927 [id=\"-1055990109103758883.args[0]\"]\n\t5573314645756069927 [label=\"Maybe.__and__\" id=-7774097712138673687]\n\t5573314645756069927 -> -2612058384443202226 [id=\"-7774097712138673687.args[0]\"]\n\t-2612058384443202226 [label=\"Converter.convert\" id=-2612058384443202226]\n\t-2612058384443202226 -> -8020448314167642308 [id=\"-2612058384443202226.args[0]\"]\n\t-8020448314167642308 [label=\"NDArrayCompat.__add__\" id=-8020448314167642308]\n\t-8020448314167642308 -> 2204185982366297925 [id=\"-8020448314167642308.args[0]\"]\n\t2204185982366297925 [label=\"NDArrayCompat.from_ndarray\" id=2204185982366297925]\n\t2204185982366297925 -> -8125902144106883229 [id=\"2204185982366297925.args[0]\"]\n\t-8125902144106883229 [label=\"Maybe.map\" id=-8125902144106883229]\n\t-8125902144106883229 -> -5463825541328231257 [id=\"-8125902144106883229.args[0]\"]\n\t-5463825541328231257 [label=\"Maybe.just\" id=-5463825541328231257]\n\t-5463825541328231257 -> -6362610179852757995 [id=\"-5463825541328231257.args[0]\"]\n\t-6362610179852757995 [label=\"Integer.from_int\" id=-6362610179852757995]\n\t-6362610179852757995 -> 852842466726619175 [id=\"-6362610179852757995.args[0]\"]\n\t852842466726619175 [label=100 id=852842466726619175]\n\t-8125902144106883229 -> -3607651342286296696 [id=\"-8125902144106883229.args[1]\"]\n\t-3607651342286296696 [label=\"Abstraction.create\" id=-3607651342286296696]\n\t-3607651342286296696 -> -9156363857593975122 [id=\"-3607651342286296696.args[0]\"]\n\t-9156363857593975122 [label=\"Abstraction.create_variable\" id=-9156363857593975122]\n\t-9156363857593975122 -> 1599161652712557034 [id=\"-9156363857593975122.args[0]\"]\n\t1599161652712557034 [label=\"Variable(4549677688)\" id=1599161652712557034]\n\t-3607651342286296696 -> 4236997518345950211 [id=\"-3607651342286296696.args[1]\"]\n\t4236997518345950211 [label=arange_ id=4236997518345950211]\n\t4236997518345950211 -> -9156363857593975122 [id=\"4236997518345950211.args[0]\"]\n\t-8020448314167642308 -> 2204185982366297925 [id=\"-8020448314167642308.args[1]\"]\n\t5573314645756069927 -> 805248575967173939 [id=\"-7774097712138673687.args[1]\"]\n\t805248575967173939 [label=\"Maybe.__or__\" id=6606662420229354367]\n\t805248575967173939 -> 5643084342530937823 [id=\"6606662420229354367.args[0]\"]\n\t5643084342530937823 [label=\"Maybe.match\" id=9185684620050578154]\n\t5643084342530937823 -> -1010262108927125773 [id=\"9185684620050578154.args[0]\"]\n\t-1010262108927125773 [label=\"Maybe.just\" id=-1010262108927125773]\n\t-1010262108927125773 -> -7334224414564589854 [id=\"-1010262108927125773.args[0]\"]\n\t-7334224414564589854 [label=\"Integer.from_int\" id=-7334224414564589854]\n\t-7334224414564589854 -> 852842466831624100 [id=\"-7334224414564589854.args[0]\"]\n\t852842466831624100 [label=5 id=852842466831624100]\n\t5643084342530937823 -> -3052203273464861294 [id=\"9185684620050578154.args[1]\"]\n\t-3052203273464861294 [label=\"Maybe.nothing\" id=-3052203273464861294]\n\t5643084342530937823 -> -8436013719796374484 [id=\"9185684620050578154.args[2]\"]\n\t-8436013719796374484 [label=\"Abstraction.__add__\" id=-8436013719796374484]\n\t-8436013719796374484 -> -7507020889469263454 [id=\"-8436013719796374484.args[0]\"]\n\t-7507020889469263454 [label=\"Abstraction.from_fn\" id=-7507020889469263454]\n\t-7507020889469263454 -> -2266514298468117634 [id=\"-7507020889469263454.args[0]\"]\n\t-2266514298468117634 [label=\"Maybe.just\" id=-2266514298468117634]\n\t-8436013719796374484 -> 1476814018894724778 [id=\"-8436013719796374484.args[1]\"]\n\t1476814018894724778 [label=\"Abstraction.create\" id=1476814018894724778]\n\t1476814018894724778 -> 8578252472718281855 [id=\"1476814018894724778.args[0]\"]\n\t8578252472718281855 [label=\"Abstraction.create_variable\" id=8578252472718281855]\n\t8578252472718281855 -> 1599161653680334384 [id=\"8578252472718281855.args[0]\"]\n\t1599161653680334384 [label=\"Variable(4549696088)\" id=1599161653680334384]\n\t1476814018894724778 -> 2819426627661147747 [id=\"1476814018894724778.args[1]\"]\n\t2819426627661147747 [label=\"Either.left\" id=2819426627661147747]\n\t2819426627661147747 -> 8578252472718281855 [id=\"2819426627661147747.args[0]\"]\n\t805248575967173939 -> -4974165390111393856 [id=\"6606662420229354367.args[1]\"]\n\t-4974165390111393856 [label=\"Maybe.map\" id=-4974165390111393856]\n\t-4974165390111393856 -> 2903062968911337222 [id=\"-4974165390111393856.args[0]\"]\n\t2903062968911337222 [label=\"Converter.convert\" id=2903062968911337222]\n\t2903062968911337222 -> 852842466831624100 [id=\"2903062968911337222.args[0]\"]\n\t-4974165390111393856 -> 878450276063681107 [id=\"-4974165390111393856.args[1]\"]\n\t878450276063681107 [label=\"Abstraction.create\" id=878450276063681107]\n\t878450276063681107 -> -6499163487982209355 [id=\"878450276063681107.args[0]\"]\n\t-6499163487982209355 [label=\"Abstraction.create_variable\" id=-6499163487982209355]\n\t-6499163487982209355 -> 1599161639649727859 [id=\"-6499163487982209355.args[0]\"]\n\t1599161639649727859 [label=\"Variable(4549632072)\" id=1599161639649727859]\n\t878450276063681107 -> 4425729685164377546 [id=\"878450276063681107.args[1]\"]\n\t4425729685164377546 [label=\"Either.right\" id=4425729685164377546]\n\t4425729685164377546 -> -6499163487982209355 [id=\"4425729685164377546.args[0]\"]\n\t4110092845792029569 -> -1741944831158160669 [id=\"-1055990109103758883.args[1]\"]\n\t-1741944831158160669 [label=\"Maybe.nothing\" id=-1741944831158160669]\n\t4110092845792029569 -> -4006968251054608271 [id=\"-1055990109103758883.args[2]\"]\n\t-4006968251054608271 [label=\"Abstraction.__add__\" id=-4006968251054608271]\n\t-4006968251054608271 -> -3689034126165086493 [id=\"-4006968251054608271.args[0]\"]\n\t-3689034126165086493 [label=\"Abstraction.from_fn\" id=-3689034126165086493]\n\t-3689034126165086493 -> -562755898029559237 [id=\"-3689034126165086493.args[0]\"]\n\t-562755898029559237 [label=\"Maybe.just\" id=-562755898029559237]\n\t-4006968251054608271 -> 1086476962447876602 [id=\"-4006968251054608271.args[1]\"]\n\t1086476962447876602 [label=\"Abstraction.create\" id=1086476962447876602]\n\t1086476962447876602 -> 7616326404151103511 [id=\"1086476962447876602.args[0]\"]\n\t7616326404151103511 [label=\"Abstraction.create_variable\" id=7616326404151103511]\n\t7616326404151103511 -> 1599161639873810534 [id=\"7616326404151103511.args[0]\"]\n\t1599161639873810534 [label=\"Variable(4549638072)\" id=1599161639873810534]\n\t1086476962447876602 -> -6242641388488469540 [id=\"1086476962447876602.args[1]\"]\n\t-6242641388488469540 [label=\"NDArray.__getitem__\" id=-6242641388488469540]\n\t-6242641388488469540 -> -2203303042166162505 [id=\"-6242641388488469540.args[0]\"]\n\t-2203303042166162505 [label=\"Pair.left\" id=-2203303042166162505]\n\t-2203303042166162505 -> 7616326404151103511 [id=\"-2203303042166162505.args[0]\"]\n\t-6242641388488469540 -> -7578727142363371923 [id=\"-6242641388488469540.args[1]\"]\n\t-7578727142363371923 [label=\"Pair.right\" id=-7578727142363371923]\n\t-7578727142363371923 -> 7616326404151103511 [id=\"-7578727142363371923.args[0]\"]\n}",
         "label": null,
         "rule": "metadsl_core.maybe.Maybe.map"
        },
        {
         "graph": "digraph {\n\tnode [shape=plain]\n\tedge [arrowsize=0.5 penwidth=0.5]\n\t6346996280005156099 [label=\"NDArrayCompat.to_ndarray\" id=4165022598424862665]\n\t6346996280005156099 -> 1472128545317462712 [id=\"4165022598424862665.args[0]\"]\n\t1472128545317462712 [label=\"NDArrayCompat.from_ndarray\" id=-8054137683011941171]\n\t1472128545317462712 -> 3598809636702784536 [id=\"-8054137683011941171.args[0]\"]\n\t3598809636702784536 [label=\"Maybe.match\" id=-1055990109103758883]\n\t3598809636702784536 -> 1330894252487505654 [id=\"-1055990109103758883.args[0]\"]\n\t1330894252487505654 [label=\"Maybe.__and__\" id=-7774097712138673687]\n\t1330894252487505654 -> -2612058384443202226 [id=\"-7774097712138673687.args[0]\"]\n\t-2612058384443202226 [label=\"Converter.convert\" id=-2612058384443202226]\n\t-2612058384443202226 -> -8020448314167642308 [id=\"-2612058384443202226.args[0]\"]\n\t-8020448314167642308 [label=\"NDArrayCompat.__add__\" id=-8020448314167642308]\n\t-8020448314167642308 -> 2204185982366297925 [id=\"-8020448314167642308.args[0]\"]\n\t2204185982366297925 [label=\"NDArrayCompat.from_ndarray\" id=2204185982366297925]\n\t2204185982366297925 -> -8125902144106883229 [id=\"2204185982366297925.args[0]\"]\n\t-8125902144106883229 [label=\"Maybe.map\" id=-8125902144106883229]\n\t-8125902144106883229 -> -5463825541328231257 [id=\"-8125902144106883229.args[0]\"]\n\t-5463825541328231257 [label=\"Maybe.just\" id=-5463825541328231257]\n\t-5463825541328231257 -> -6362610179852757995 [id=\"-5463825541328231257.args[0]\"]\n\t-6362610179852757995 [label=\"Integer.from_int\" id=-6362610179852757995]\n\t-6362610179852757995 -> 852842466726619175 [id=\"-6362610179852757995.args[0]\"]\n\t852842466726619175 [label=100 id=852842466726619175]\n\t-8125902144106883229 -> -3607651342286296696 [id=\"-8125902144106883229.args[1]\"]\n\t-3607651342286296696 [label=\"Abstraction.create\" id=-3607651342286296696]\n\t-3607651342286296696 -> -9156363857593975122 [id=\"-3607651342286296696.args[0]\"]\n\t-9156363857593975122 [label=\"Abstraction.create_variable\" id=-9156363857593975122]\n\t-9156363857593975122 -> 1599161652712557034 [id=\"-9156363857593975122.args[0]\"]\n\t1599161652712557034 [label=\"Variable(4549677688)\" id=1599161652712557034]\n\t-3607651342286296696 -> 4236997518345950211 [id=\"-3607651342286296696.args[1]\"]\n\t4236997518345950211 [label=arange_ id=4236997518345950211]\n\t4236997518345950211 -> -9156363857593975122 [id=\"4236997518345950211.args[0]\"]\n\t-8020448314167642308 -> 2204185982366297925 [id=\"-8020448314167642308.args[1]\"]\n\t1330894252487505654 -> -3252314534772413263 [id=\"-7774097712138673687.args[1]\"]\n\t-3252314534772413263 [label=\"Maybe.__or__\" id=6606662420229354367]\n\t-3252314534772413263 -> -9111585453556964138 [id=\"6606662420229354367.args[0]\"]\n\t-9111585453556964138 [label=\"Abstraction.__call__\" id=9185684620050578154]\n\t-9111585453556964138 -> -8436013719796374484 [id=\"9185684620050578154.args[0]\"]\n\t-8436013719796374484 [label=\"Abstraction.__add__\" id=-8436013719796374484]\n\t-8436013719796374484 -> -7507020889469263454 [id=\"-8436013719796374484.args[0]\"]\n\t-7507020889469263454 [label=\"Abstraction.from_fn\" id=-7507020889469263454]\n\t-7507020889469263454 -> -2266514298468117634 [id=\"-7507020889469263454.args[0]\"]\n\t-2266514298468117634 [label=\"Maybe.just\" id=-2266514298468117634]\n\t-8436013719796374484 -> 1476814018894724778 [id=\"-8436013719796374484.args[1]\"]\n\t1476814018894724778 [label=\"Abstraction.create\" id=1476814018894724778]\n\t1476814018894724778 -> 8578252472718281855 [id=\"1476814018894724778.args[0]\"]\n\t8578252472718281855 [label=\"Abstraction.create_variable\" id=8578252472718281855]\n\t8578252472718281855 -> 1599161653680334384 [id=\"8578252472718281855.args[0]\"]\n\t1599161653680334384 [label=\"Variable(4549696088)\" id=1599161653680334384]\n\t1476814018894724778 -> 2819426627661147747 [id=\"1476814018894724778.args[1]\"]\n\t2819426627661147747 [label=\"Either.left\" id=2819426627661147747]\n\t2819426627661147747 -> 8578252472718281855 [id=\"2819426627661147747.args[0]\"]\n\t-9111585453556964138 -> -7334224414564589854 [id=\"9185684620050578154.args[1]\"]\n\t-7334224414564589854 [label=\"Integer.from_int\" id=-7334224414564589854]\n\t-7334224414564589854 -> 852842466831624100 [id=\"-7334224414564589854.args[0]\"]\n\t852842466831624100 [label=5 id=852842466831624100]\n\t-3252314534772413263 -> -4974165390111393856 [id=\"6606662420229354367.args[1]\"]\n\t-4974165390111393856 [label=\"Maybe.map\" id=-4974165390111393856]\n\t-4974165390111393856 -> 2903062968911337222 [id=\"-4974165390111393856.args[0]\"]\n\t2903062968911337222 [label=\"Converter.convert\" id=2903062968911337222]\n\t2903062968911337222 -> 852842466831624100 [id=\"2903062968911337222.args[0]\"]\n\t-4974165390111393856 -> 878450276063681107 [id=\"-4974165390111393856.args[1]\"]\n\t878450276063681107 [label=\"Abstraction.create\" id=878450276063681107]\n\t878450276063681107 -> -6499163487982209355 [id=\"878450276063681107.args[0]\"]\n\t-6499163487982209355 [label=\"Abstraction.create_variable\" id=-6499163487982209355]\n\t-6499163487982209355 -> 1599161639649727859 [id=\"-6499163487982209355.args[0]\"]\n\t1599161639649727859 [label=\"Variable(4549632072)\" id=1599161639649727859]\n\t878450276063681107 -> 4425729685164377546 [id=\"878450276063681107.args[1]\"]\n\t4425729685164377546 [label=\"Either.right\" id=4425729685164377546]\n\t4425729685164377546 -> -6499163487982209355 [id=\"4425729685164377546.args[0]\"]\n\t3598809636702784536 -> -1741944831158160669 [id=\"-1055990109103758883.args[1]\"]\n\t-1741944831158160669 [label=\"Maybe.nothing\" id=-1741944831158160669]\n\t3598809636702784536 -> -4006968251054608271 [id=\"-1055990109103758883.args[2]\"]\n\t-4006968251054608271 [label=\"Abstraction.__add__\" id=-4006968251054608271]\n\t-4006968251054608271 -> -3689034126165086493 [id=\"-4006968251054608271.args[0]\"]\n\t-3689034126165086493 [label=\"Abstraction.from_fn\" id=-3689034126165086493]\n\t-3689034126165086493 -> -562755898029559237 [id=\"-3689034126165086493.args[0]\"]\n\t-562755898029559237 [label=\"Maybe.just\" id=-562755898029559237]\n\t-4006968251054608271 -> 1086476962447876602 [id=\"-4006968251054608271.args[1]\"]\n\t1086476962447876602 [label=\"Abstraction.create\" id=1086476962447876602]\n\t1086476962447876602 -> 7616326404151103511 [id=\"1086476962447876602.args[0]\"]\n\t7616326404151103511 [label=\"Abstraction.create_variable\" id=7616326404151103511]\n\t7616326404151103511 -> 1599161639873810534 [id=\"7616326404151103511.args[0]\"]\n\t1599161639873810534 [label=\"Variable(4549638072)\" id=1599161639873810534]\n\t1086476962447876602 -> -6242641388488469540 [id=\"1086476962447876602.args[1]\"]\n\t-6242641388488469540 [label=\"NDArray.__getitem__\" id=-6242641388488469540]\n\t-6242641388488469540 -> -2203303042166162505 [id=\"-6242641388488469540.args[0]\"]\n\t-2203303042166162505 [label=\"Pair.left\" id=-2203303042166162505]\n\t-2203303042166162505 -> 7616326404151103511 [id=\"-2203303042166162505.args[0]\"]\n\t-6242641388488469540 -> -7578727142363371923 [id=\"-6242641388488469540.args[1]\"]\n\t-7578727142363371923 [label=\"Pair.right\" id=-7578727142363371923]\n\t-7578727142363371923 -> 7616326404151103511 [id=\"-7578727142363371923.args[0]\"]\n}",
         "label": null,
         "rule": "metadsl_core.maybe.maybe_match"
        },
        {
         "graph": "digraph {\n\tnode [shape=plain]\n\tedge [arrowsize=0.5 penwidth=0.5]\n\t6459715368499033432 [label=\"NDArrayCompat.to_ndarray\" id=4165022598424862665]\n\t6459715368499033432 -> 6646924165475105301 [id=\"4165022598424862665.args[0]\"]\n\t6646924165475105301 [label=\"NDArrayCompat.from_ndarray\" id=-8054137683011941171]\n\t6646924165475105301 -> -2412009377546269807 [id=\"-8054137683011941171.args[0]\"]\n\t-2412009377546269807 [label=\"Maybe.match\" id=-1055990109103758883]\n\t-2412009377546269807 -> 1182897658369612985 [id=\"-1055990109103758883.args[0]\"]\n\t1182897658369612985 [label=\"Maybe.__and__\" id=-7774097712138673687]\n\t1182897658369612985 -> -2612058384443202226 [id=\"-7774097712138673687.args[0]\"]\n\t-2612058384443202226 [label=\"Converter.convert\" id=-2612058384443202226]\n\t-2612058384443202226 -> -8020448314167642308 [id=\"-2612058384443202226.args[0]\"]\n\t-8020448314167642308 [label=\"NDArrayCompat.__add__\" id=-8020448314167642308]\n\t-8020448314167642308 -> 2204185982366297925 [id=\"-8020448314167642308.args[0]\"]\n\t2204185982366297925 [label=\"NDArrayCompat.from_ndarray\" id=2204185982366297925]\n\t2204185982366297925 -> -8125902144106883229 [id=\"2204185982366297925.args[0]\"]\n\t-8125902144106883229 [label=\"Maybe.map\" id=-8125902144106883229]\n\t-8125902144106883229 -> -5463825541328231257 [id=\"-8125902144106883229.args[0]\"]\n\t-5463825541328231257 [label=\"Maybe.just\" id=-5463825541328231257]\n\t-5463825541328231257 -> -6362610179852757995 [id=\"-5463825541328231257.args[0]\"]\n\t-6362610179852757995 [label=\"Integer.from_int\" id=-6362610179852757995]\n\t-6362610179852757995 -> 852842466726619175 [id=\"-6362610179852757995.args[0]\"]\n\t852842466726619175 [label=100 id=852842466726619175]\n\t-8125902144106883229 -> -3607651342286296696 [id=\"-8125902144106883229.args[1]\"]\n\t-3607651342286296696 [label=\"Abstraction.create\" id=-3607651342286296696]\n\t-3607651342286296696 -> -9156363857593975122 [id=\"-3607651342286296696.args[0]\"]\n\t-9156363857593975122 [label=\"Abstraction.create_variable\" id=-9156363857593975122]\n\t-9156363857593975122 -> 1599161652712557034 [id=\"-9156363857593975122.args[0]\"]\n\t1599161652712557034 [label=\"Variable(4549677688)\" id=1599161652712557034]\n\t-3607651342286296696 -> 4236997518345950211 [id=\"-3607651342286296696.args[1]\"]\n\t4236997518345950211 [label=arange_ id=4236997518345950211]\n\t4236997518345950211 -> -9156363857593975122 [id=\"4236997518345950211.args[0]\"]\n\t-8020448314167642308 -> 2204185982366297925 [id=\"-8020448314167642308.args[1]\"]\n\t1182897658369612985 -> -1257909439195940719 [id=\"-7774097712138673687.args[1]\"]\n\t-1257909439195940719 [label=\"Maybe.__or__\" id=6606662420229354367]\n\t-1257909439195940719 -> -9111585453556964138 [id=\"6606662420229354367.args[0]\"]\n\t-9111585453556964138 [label=\"Abstraction.__call__\" id=9185684620050578154]\n\t-9111585453556964138 -> -8436013719796374484 [id=\"9185684620050578154.args[0]\"]\n\t-8436013719796374484 [label=\"Abstraction.__add__\" id=-8436013719796374484]\n\t-8436013719796374484 -> -7507020889469263454 [id=\"-8436013719796374484.args[0]\"]\n\t-7507020889469263454 [label=\"Abstraction.from_fn\" id=-7507020889469263454]\n\t-7507020889469263454 -> -2266514298468117634 [id=\"-7507020889469263454.args[0]\"]\n\t-2266514298468117634 [label=\"Maybe.just\" id=-2266514298468117634]\n\t-8436013719796374484 -> 1476814018894724778 [id=\"-8436013719796374484.args[1]\"]\n\t1476814018894724778 [label=\"Abstraction.create\" id=1476814018894724778]\n\t1476814018894724778 -> 8578252472718281855 [id=\"1476814018894724778.args[0]\"]\n\t8578252472718281855 [label=\"Abstraction.create_variable\" id=8578252472718281855]\n\t8578252472718281855 -> 1599161653680334384 [id=\"8578252472718281855.args[0]\"]\n\t1599161653680334384 [label=\"Variable(4549696088)\" id=1599161653680334384]\n\t1476814018894724778 -> 2819426627661147747 [id=\"1476814018894724778.args[1]\"]\n\t2819426627661147747 [label=\"Either.left\" id=2819426627661147747]\n\t2819426627661147747 -> 8578252472718281855 [id=\"2819426627661147747.args[0]\"]\n\t-9111585453556964138 -> -7334224414564589854 [id=\"9185684620050578154.args[1]\"]\n\t-7334224414564589854 [label=\"Integer.from_int\" id=-7334224414564589854]\n\t-7334224414564589854 -> 852842466831624100 [id=\"-7334224414564589854.args[0]\"]\n\t852842466831624100 [label=5 id=852842466831624100]\n\t-1257909439195940719 -> 4035559444610765789 [id=\"6606662420229354367.args[1]\"]\n\t4035559444610765789 [label=\"Maybe.match\" id=-4974165390111393856]\n\t4035559444610765789 -> 2903062968911337222 [id=\"-4974165390111393856.args[0]\"]\n\t2903062968911337222 [label=\"Converter.convert\" id=2903062968911337222]\n\t2903062968911337222 -> 852842466831624100 [id=\"2903062968911337222.args[0]\"]\n\t4035559444610765789 -> -3052203273464861294 [id=\"-4974165390111393856.args[1]\"]\n\t-3052203273464861294 [label=\"Maybe.nothing\" id=-3052203273464861294]\n\t4035559444610765789 -> 4127710310388454811 [id=\"-4974165390111393856.args[2]\"]\n\t4127710310388454811 [label=\"Abstraction.__add__\" id=4127710310388454811]\n\t4127710310388454811 -> -7507020889469263454 [id=\"4127710310388454811.args[0]\"]\n\t4127710310388454811 -> 878450276063681107 [id=\"4127710310388454811.args[1]\"]\n\t878450276063681107 [label=\"Abstraction.create\" id=878450276063681107]\n\t878450276063681107 -> -6499163487982209355 [id=\"878450276063681107.args[0]\"]\n\t-6499163487982209355 [label=\"Abstraction.create_variable\" id=-6499163487982209355]\n\t-6499163487982209355 -> 1599161639649727859 [id=\"-6499163487982209355.args[0]\"]\n\t1599161639649727859 [label=\"Variable(4549632072)\" id=1599161639649727859]\n\t878450276063681107 -> 4425729685164377546 [id=\"878450276063681107.args[1]\"]\n\t4425729685164377546 [label=\"Either.right\" id=4425729685164377546]\n\t4425729685164377546 -> -6499163487982209355 [id=\"4425729685164377546.args[0]\"]\n\t-2412009377546269807 -> -1741944831158160669 [id=\"-1055990109103758883.args[1]\"]\n\t-1741944831158160669 [label=\"Maybe.nothing\" id=-1741944831158160669]\n\t-2412009377546269807 -> -4006968251054608271 [id=\"-1055990109103758883.args[2]\"]\n\t-4006968251054608271 [label=\"Abstraction.__add__\" id=-4006968251054608271]\n\t-4006968251054608271 -> -3689034126165086493 [id=\"-4006968251054608271.args[0]\"]\n\t-3689034126165086493 [label=\"Abstraction.from_fn\" id=-3689034126165086493]\n\t-3689034126165086493 -> -562755898029559237 [id=\"-3689034126165086493.args[0]\"]\n\t-562755898029559237 [label=\"Maybe.just\" id=-562755898029559237]\n\t-4006968251054608271 -> 1086476962447876602 [id=\"-4006968251054608271.args[1]\"]\n\t1086476962447876602 [label=\"Abstraction.create\" id=1086476962447876602]\n\t1086476962447876602 -> 7616326404151103511 [id=\"1086476962447876602.args[0]\"]\n\t7616326404151103511 [label=\"Abstraction.create_variable\" id=7616326404151103511]\n\t7616326404151103511 -> 1599161639873810534 [id=\"7616326404151103511.args[0]\"]\n\t1599161639873810534 [label=\"Variable(4549638072)\" id=1599161639873810534]\n\t1086476962447876602 -> -6242641388488469540 [id=\"1086476962447876602.args[1]\"]\n\t-6242641388488469540 [label=\"NDArray.__getitem__\" id=-6242641388488469540]\n\t-6242641388488469540 -> -2203303042166162505 [id=\"-6242641388488469540.args[0]\"]\n\t-2203303042166162505 [label=\"Pair.left\" id=-2203303042166162505]\n\t-2203303042166162505 -> 7616326404151103511 [id=\"-2203303042166162505.args[0]\"]\n\t-6242641388488469540 -> -7578727142363371923 [id=\"-6242641388488469540.args[1]\"]\n\t-7578727142363371923 [label=\"Pair.right\" id=-7578727142363371923]\n\t-7578727142363371923 -> 7616326404151103511 [id=\"-7578727142363371923.args[0]\"]\n}",
         "label": null,
         "rule": "metadsl_core.maybe.Maybe.map"
        },
        {
         "graph": "digraph {\n\tnode [shape=plain]\n\tedge [arrowsize=0.5 penwidth=0.5]\n\t-6922184826676391054 [label=\"NDArrayCompat.to_ndarray\" id=4165022598424862665]\n\t-6922184826676391054 -> 6756485215062105331 [id=\"4165022598424862665.args[0]\"]\n\t6756485215062105331 [label=\"NDArrayCompat.from_ndarray\" id=-8054137683011941171]\n\t6756485215062105331 -> 1120835995330561934 [id=\"-8054137683011941171.args[0]\"]\n\t1120835995330561934 [label=\"Maybe.match\" id=-1055990109103758883]\n\t1120835995330561934 -> -3675715368958408947 [id=\"-1055990109103758883.args[0]\"]\n\t-3675715368958408947 [label=\"Maybe.__and__\" id=-7774097712138673687]\n\t-3675715368958408947 -> 6288611761615413999 [id=\"-7774097712138673687.args[0]\"]\n\t6288611761615413999 [label=\"Converter.convert\" id=-2612058384443202226]\n\t6288611761615413999 -> -2111825957195779556 [id=\"-2612058384443202226.args[0]\"]\n\t-2111825957195779556 [label=\"NDArrayCompat.__add__\" id=-8020448314167642308]\n\t-2111825957195779556 -> -3019841021786883956 [id=\"-8020448314167642308.args[0]\"]\n\t-3019841021786883956 [label=\"NDArrayCompat.from_ndarray\" id=2204185982366297925]\n\t-3019841021786883956 -> -4190340053235037130 [id=\"2204185982366297925.args[0]\"]\n\t-4190340053235037130 [label=\"Maybe.match\" id=-8125902144106883229]\n\t-4190340053235037130 -> -5463825541328231257 [id=\"-8125902144106883229.args[0]\"]\n\t-5463825541328231257 [label=\"Maybe.just\" id=-5463825541328231257]\n\t-5463825541328231257 -> -6362610179852757995 [id=\"-5463825541328231257.args[0]\"]\n\t-6362610179852757995 [label=\"Integer.from_int\" id=-6362610179852757995]\n\t-6362610179852757995 -> 852842466726619175 [id=\"-6362610179852757995.args[0]\"]\n\t852842466726619175 [label=100 id=852842466726619175]\n\t-4190340053235037130 -> -1741944831158160669 [id=\"-8125902144106883229.args[1]\"]\n\t-1741944831158160669 [label=\"Maybe.nothing\" id=-1741944831158160669]\n\t-4190340053235037130 -> 576327488382086654 [id=\"-8125902144106883229.args[2]\"]\n\t576327488382086654 [label=\"Abstraction.__add__\" id=576327488382086654]\n\t576327488382086654 -> -3689034126165086493 [id=\"576327488382086654.args[0]\"]\n\t-3689034126165086493 [label=\"Abstraction.from_fn\" id=-3689034126165086493]\n\t-3689034126165086493 -> -562755898029559237 [id=\"-3689034126165086493.args[0]\"]\n\t-562755898029559237 [label=\"Maybe.just\" id=-562755898029559237]\n\t576327488382086654 -> -3607651342286296696 [id=\"576327488382086654.args[1]\"]\n\t-3607651342286296696 [label=\"Abstraction.create\" id=-3607651342286296696]\n\t-3607651342286296696 -> -9156363857593975122 [id=\"-3607651342286296696.args[0]\"]\n\t-9156363857593975122 [label=\"Abstraction.create_variable\" id=-9156363857593975122]\n\t-9156363857593975122 -> 1599161652712557034 [id=\"-9156363857593975122.args[0]\"]\n\t1599161652712557034 [label=\"Variable(4549677688)\" id=1599161652712557034]\n\t-3607651342286296696 -> 4236997518345950211 [id=\"-3607651342286296696.args[1]\"]\n\t4236997518345950211 [label=arange_ id=4236997518345950211]\n\t4236997518345950211 -> -9156363857593975122 [id=\"4236997518345950211.args[0]\"]\n\t-2111825957195779556 -> -3019841021786883956 [id=\"-8020448314167642308.args[1]\"]\n\t-3675715368958408947 -> -1257909439195940719 [id=\"-7774097712138673687.args[1]\"]\n\t-1257909439195940719 [label=\"Maybe.__or__\" id=6606662420229354367]\n\t-1257909439195940719 -> -9111585453556964138 [id=\"6606662420229354367.args[0]\"]\n\t-9111585453556964138 [label=\"Abstraction.__call__\" id=9185684620050578154]\n\t-9111585453556964138 -> -8436013719796374484 [id=\"9185684620050578154.args[0]\"]\n\t-8436013719796374484 [label=\"Abstraction.__add__\" id=-8436013719796374484]\n\t-8436013719796374484 -> -7507020889469263454 [id=\"-8436013719796374484.args[0]\"]\n\t-7507020889469263454 [label=\"Abstraction.from_fn\" id=-7507020889469263454]\n\t-7507020889469263454 -> -2266514298468117634 [id=\"-7507020889469263454.args[0]\"]\n\t-2266514298468117634 [label=\"Maybe.just\" id=-2266514298468117634]\n\t-8436013719796374484 -> 1476814018894724778 [id=\"-8436013719796374484.args[1]\"]\n\t1476814018894724778 [label=\"Abstraction.create\" id=1476814018894724778]\n\t1476814018894724778 -> 8578252472718281855 [id=\"1476814018894724778.args[0]\"]\n\t8578252472718281855 [label=\"Abstraction.create_variable\" id=8578252472718281855]\n\t8578252472718281855 -> 1599161653680334384 [id=\"8578252472718281855.args[0]\"]\n\t1599161653680334384 [label=\"Variable(4549696088)\" id=1599161653680334384]\n\t1476814018894724778 -> 2819426627661147747 [id=\"1476814018894724778.args[1]\"]\n\t2819426627661147747 [label=\"Either.left\" id=2819426627661147747]\n\t2819426627661147747 -> 8578252472718281855 [id=\"2819426627661147747.args[0]\"]\n\t-9111585453556964138 -> -7334224414564589854 [id=\"9185684620050578154.args[1]\"]\n\t-7334224414564589854 [label=\"Integer.from_int\" id=-7334224414564589854]\n\t-7334224414564589854 -> 852842466831624100 [id=\"-7334224414564589854.args[0]\"]\n\t852842466831624100 [label=5 id=852842466831624100]\n\t-1257909439195940719 -> 4035559444610765789 [id=\"6606662420229354367.args[1]\"]\n\t4035559444610765789 [label=\"Maybe.match\" id=-4974165390111393856]\n\t4035559444610765789 -> 2903062968911337222 [id=\"-4974165390111393856.args[0]\"]\n\t2903062968911337222 [label=\"Converter.convert\" id=2903062968911337222]\n\t2903062968911337222 -> 852842466831624100 [id=\"2903062968911337222.args[0]\"]\n\t4035559444610765789 -> -3052203273464861294 [id=\"-4974165390111393856.args[1]\"]\n\t-3052203273464861294 [label=\"Maybe.nothing\" id=-3052203273464861294]\n\t4035559444610765789 -> 4127710310388454811 [id=\"-4974165390111393856.args[2]\"]\n\t4127710310388454811 [label=\"Abstraction.__add__\" id=4127710310388454811]\n\t4127710310388454811 -> -7507020889469263454 [id=\"4127710310388454811.args[0]\"]\n\t4127710310388454811 -> 878450276063681107 [id=\"4127710310388454811.args[1]\"]\n\t878450276063681107 [label=\"Abstraction.create\" id=878450276063681107]\n\t878450276063681107 -> -6499163487982209355 [id=\"878450276063681107.args[0]\"]\n\t-6499163487982209355 [label=\"Abstraction.create_variable\" id=-6499163487982209355]\n\t-6499163487982209355 -> 1599161639649727859 [id=\"-6499163487982209355.args[0]\"]\n\t1599161639649727859 [label=\"Variable(4549632072)\" id=1599161639649727859]\n\t878450276063681107 -> 4425729685164377546 [id=\"878450276063681107.args[1]\"]\n\t4425729685164377546 [label=\"Either.right\" id=4425729685164377546]\n\t4425729685164377546 -> -6499163487982209355 [id=\"4425729685164377546.args[0]\"]\n\t1120835995330561934 -> -1741944831158160669 [id=\"-1055990109103758883.args[1]\"]\n\t1120835995330561934 -> -4006968251054608271 [id=\"-1055990109103758883.args[2]\"]\n\t-4006968251054608271 [label=\"Abstraction.__add__\" id=-4006968251054608271]\n\t-4006968251054608271 -> -3689034126165086493 [id=\"-4006968251054608271.args[0]\"]\n\t-4006968251054608271 -> 1086476962447876602 [id=\"-4006968251054608271.args[1]\"]\n\t1086476962447876602 [label=\"Abstraction.create\" id=1086476962447876602]\n\t1086476962447876602 -> 7616326404151103511 [id=\"1086476962447876602.args[0]\"]\n\t7616326404151103511 [label=\"Abstraction.create_variable\" id=7616326404151103511]\n\t7616326404151103511 -> 1599161639873810534 [id=\"7616326404151103511.args[0]\"]\n\t1599161639873810534 [label=\"Variable(4549638072)\" id=1599161639873810534]\n\t1086476962447876602 -> -6242641388488469540 [id=\"1086476962447876602.args[1]\"]\n\t-6242641388488469540 [label=\"NDArray.__getitem__\" id=-6242641388488469540]\n\t-6242641388488469540 -> -2203303042166162505 [id=\"-6242641388488469540.args[0]\"]\n\t-2203303042166162505 [label=\"Pair.left\" id=-2203303042166162505]\n\t-2203303042166162505 -> 7616326404151103511 [id=\"-2203303042166162505.args[0]\"]\n\t-6242641388488469540 -> -7578727142363371923 [id=\"-6242641388488469540.args[1]\"]\n\t-7578727142363371923 [label=\"Pair.right\" id=-7578727142363371923]\n\t-7578727142363371923 -> 7616326404151103511 [id=\"-7578727142363371923.args[0]\"]\n}",
         "label": null,
         "rule": "metadsl_core.maybe.Maybe.map"
        },
        {
         "graph": "digraph {\n\tnode [shape=plain]\n\tedge [arrowsize=0.5 penwidth=0.5]\n\t953149618496524630 [label=\"NDArrayCompat.to_ndarray\" id=4165022598424862665]\n\t953149618496524630 -> 3213267652378594488 [id=\"4165022598424862665.args[0]\"]\n\t3213267652378594488 [label=\"NDArrayCompat.from_ndarray\" id=-8054137683011941171]\n\t3213267652378594488 -> -2083092937690161639 [id=\"-8054137683011941171.args[0]\"]\n\t-2083092937690161639 [label=\"Maybe.match\" id=-1055990109103758883]\n\t-2083092937690161639 -> -4889097378641880829 [id=\"-1055990109103758883.args[0]\"]\n\t-4889097378641880829 [label=\"Maybe.__and__\" id=-7774097712138673687]\n\t-4889097378641880829 -> -7222866878188757834 [id=\"-7774097712138673687.args[0]\"]\n\t-7222866878188757834 [label=\"Converter.convert\" id=-2612058384443202226]\n\t-7222866878188757834 -> -2946654602699934174 [id=\"-2612058384443202226.args[0]\"]\n\t-2946654602699934174 [label=\"NDArrayCompat.__add__\" id=-8020448314167642308]\n\t-2946654602699934174 -> -1519619319546324696 [id=\"-8020448314167642308.args[0]\"]\n\t-1519619319546324696 [label=\"NDArrayCompat.from_ndarray\" id=2204185982366297925]\n\t-1519619319546324696 -> 2836610356540546088 [id=\"2204185982366297925.args[0]\"]\n\t2836610356540546088 [label=\"Abstraction.__call__\" id=-8125902144106883229]\n\t2836610356540546088 -> 576327488382086654 [id=\"-8125902144106883229.args[0]\"]\n\t576327488382086654 [label=\"Abstraction.__add__\" id=576327488382086654]\n\t576327488382086654 -> -3689034126165086493 [id=\"576327488382086654.args[0]\"]\n\t-3689034126165086493 [label=\"Abstraction.from_fn\" id=-3689034126165086493]\n\t-3689034126165086493 -> -562755898029559237 [id=\"-3689034126165086493.args[0]\"]\n\t-562755898029559237 [label=\"Maybe.just\" id=-562755898029559237]\n\t576327488382086654 -> -3607651342286296696 [id=\"576327488382086654.args[1]\"]\n\t-3607651342286296696 [label=\"Abstraction.create\" id=-3607651342286296696]\n\t-3607651342286296696 -> -9156363857593975122 [id=\"-3607651342286296696.args[0]\"]\n\t-9156363857593975122 [label=\"Abstraction.create_variable\" id=-9156363857593975122]\n\t-9156363857593975122 -> 1599161652712557034 [id=\"-9156363857593975122.args[0]\"]\n\t1599161652712557034 [label=\"Variable(4549677688)\" id=1599161652712557034]\n\t-3607651342286296696 -> 4236997518345950211 [id=\"-3607651342286296696.args[1]\"]\n\t4236997518345950211 [label=arange_ id=4236997518345950211]\n\t4236997518345950211 -> -9156363857593975122 [id=\"4236997518345950211.args[0]\"]\n\t2836610356540546088 -> -6362610179852757995 [id=\"-8125902144106883229.args[1]\"]\n\t-6362610179852757995 [label=\"Integer.from_int\" id=-6362610179852757995]\n\t-6362610179852757995 -> 852842466726619175 [id=\"-6362610179852757995.args[0]\"]\n\t852842466726619175 [label=100 id=852842466726619175]\n\t-2946654602699934174 -> -1519619319546324696 [id=\"-8020448314167642308.args[1]\"]\n\t-4889097378641880829 -> -1257909439195940719 [id=\"-7774097712138673687.args[1]\"]\n\t-1257909439195940719 [label=\"Maybe.__or__\" id=6606662420229354367]\n\t-1257909439195940719 -> -9111585453556964138 [id=\"6606662420229354367.args[0]\"]\n\t-9111585453556964138 [label=\"Abstraction.__call__\" id=9185684620050578154]\n\t-9111585453556964138 -> -8436013719796374484 [id=\"9185684620050578154.args[0]\"]\n\t-8436013719796374484 [label=\"Abstraction.__add__\" id=-8436013719796374484]\n\t-8436013719796374484 -> -7507020889469263454 [id=\"-8436013719796374484.args[0]\"]\n\t-7507020889469263454 [label=\"Abstraction.from_fn\" id=-7507020889469263454]\n\t-7507020889469263454 -> -2266514298468117634 [id=\"-7507020889469263454.args[0]\"]\n\t-2266514298468117634 [label=\"Maybe.just\" id=-2266514298468117634]\n\t-8436013719796374484 -> 1476814018894724778 [id=\"-8436013719796374484.args[1]\"]\n\t1476814018894724778 [label=\"Abstraction.create\" id=1476814018894724778]\n\t1476814018894724778 -> 8578252472718281855 [id=\"1476814018894724778.args[0]\"]\n\t8578252472718281855 [label=\"Abstraction.create_variable\" id=8578252472718281855]\n\t8578252472718281855 -> 1599161653680334384 [id=\"8578252472718281855.args[0]\"]\n\t1599161653680334384 [label=\"Variable(4549696088)\" id=1599161653680334384]\n\t1476814018894724778 -> 2819426627661147747 [id=\"1476814018894724778.args[1]\"]\n\t2819426627661147747 [label=\"Either.left\" id=2819426627661147747]\n\t2819426627661147747 -> 8578252472718281855 [id=\"2819426627661147747.args[0]\"]\n\t-9111585453556964138 -> -7334224414564589854 [id=\"9185684620050578154.args[1]\"]\n\t-7334224414564589854 [label=\"Integer.from_int\" id=-7334224414564589854]\n\t-7334224414564589854 -> 852842466831624100 [id=\"-7334224414564589854.args[0]\"]\n\t852842466831624100 [label=5 id=852842466831624100]\n\t-1257909439195940719 -> 4035559444610765789 [id=\"6606662420229354367.args[1]\"]\n\t4035559444610765789 [label=\"Maybe.match\" id=-4974165390111393856]\n\t4035559444610765789 -> 2903062968911337222 [id=\"-4974165390111393856.args[0]\"]\n\t2903062968911337222 [label=\"Converter.convert\" id=2903062968911337222]\n\t2903062968911337222 -> 852842466831624100 [id=\"2903062968911337222.args[0]\"]\n\t4035559444610765789 -> -3052203273464861294 [id=\"-4974165390111393856.args[1]\"]\n\t-3052203273464861294 [label=\"Maybe.nothing\" id=-3052203273464861294]\n\t4035559444610765789 -> 4127710310388454811 [id=\"-4974165390111393856.args[2]\"]\n\t4127710310388454811 [label=\"Abstraction.__add__\" id=4127710310388454811]\n\t4127710310388454811 -> -7507020889469263454 [id=\"4127710310388454811.args[0]\"]\n\t4127710310388454811 -> 878450276063681107 [id=\"4127710310388454811.args[1]\"]\n\t878450276063681107 [label=\"Abstraction.create\" id=878450276063681107]\n\t878450276063681107 -> -6499163487982209355 [id=\"878450276063681107.args[0]\"]\n\t-6499163487982209355 [label=\"Abstraction.create_variable\" id=-6499163487982209355]\n\t-6499163487982209355 -> 1599161639649727859 [id=\"-6499163487982209355.args[0]\"]\n\t1599161639649727859 [label=\"Variable(4549632072)\" id=1599161639649727859]\n\t878450276063681107 -> 4425729685164377546 [id=\"878450276063681107.args[1]\"]\n\t4425729685164377546 [label=\"Either.right\" id=4425729685164377546]\n\t4425729685164377546 -> -6499163487982209355 [id=\"4425729685164377546.args[0]\"]\n\t-2083092937690161639 -> -1741944831158160669 [id=\"-1055990109103758883.args[1]\"]\n\t-1741944831158160669 [label=\"Maybe.nothing\" id=-1741944831158160669]\n\t-2083092937690161639 -> -4006968251054608271 [id=\"-1055990109103758883.args[2]\"]\n\t-4006968251054608271 [label=\"Abstraction.__add__\" id=-4006968251054608271]\n\t-4006968251054608271 -> -3689034126165086493 [id=\"-4006968251054608271.args[0]\"]\n\t-4006968251054608271 -> 1086476962447876602 [id=\"-4006968251054608271.args[1]\"]\n\t1086476962447876602 [label=\"Abstraction.create\" id=1086476962447876602]\n\t1086476962447876602 -> 7616326404151103511 [id=\"1086476962447876602.args[0]\"]\n\t7616326404151103511 [label=\"Abstraction.create_variable\" id=7616326404151103511]\n\t7616326404151103511 -> 1599161639873810534 [id=\"7616326404151103511.args[0]\"]\n\t1599161639873810534 [label=\"Variable(4549638072)\" id=1599161639873810534]\n\t1086476962447876602 -> -6242641388488469540 [id=\"1086476962447876602.args[1]\"]\n\t-6242641388488469540 [label=\"NDArray.__getitem__\" id=-6242641388488469540]\n\t-6242641388488469540 -> -2203303042166162505 [id=\"-6242641388488469540.args[0]\"]\n\t-2203303042166162505 [label=\"Pair.left\" id=-2203303042166162505]\n\t-2203303042166162505 -> 7616326404151103511 [id=\"-2203303042166162505.args[0]\"]\n\t-6242641388488469540 -> -7578727142363371923 [id=\"-6242641388488469540.args[1]\"]\n\t-7578727142363371923 [label=\"Pair.right\" id=-7578727142363371923]\n\t-7578727142363371923 -> 7616326404151103511 [id=\"-7578727142363371923.args[0]\"]\n}",
         "label": null,
         "rule": "metadsl_core.maybe.maybe_match"
        },
        {
         "graph": "digraph {\n\tnode [shape=plain]\n\tedge [arrowsize=0.5 penwidth=0.5]\n\t6463438930795674921 [label=\"NDArrayCompat.to_ndarray\" id=4165022598424862665]\n\t6463438930795674921 -> 8682561727444403687 [id=\"4165022598424862665.args[0]\"]\n\t8682561727444403687 [label=\"NDArrayCompat.from_ndarray\" id=-8054137683011941171]\n\t8682561727444403687 -> -9130150324483212915 [id=\"-8054137683011941171.args[0]\"]\n\t-9130150324483212915 [label=\"Maybe.match\" id=-1055990109103758883]\n\t-9130150324483212915 -> 7931816278954226227 [id=\"-1055990109103758883.args[0]\"]\n\t7931816278954226227 [label=\"Maybe.__and__\" id=-7774097712138673687]\n\t7931816278954226227 -> -6026802563305382491 [id=\"-7774097712138673687.args[0]\"]\n\t-6026802563305382491 [label=\"Converter.convert\" id=-2612058384443202226]\n\t-6026802563305382491 -> 4867488836770560508 [id=\"-2612058384443202226.args[0]\"]\n\t4867488836770560508 [label=\"NDArrayCompat.__add__\" id=-8020448314167642308]\n\t4867488836770560508 -> -8930988476283103842 [id=\"-8020448314167642308.args[0]\"]\n\t-8930988476283103842 [label=\"NDArrayCompat.from_ndarray\" id=2204185982366297925]\n\t-8930988476283103842 -> -651403784083398801 [id=\"2204185982366297925.args[0]\"]\n\t-651403784083398801 [label=\"Abstraction.__call__\" id=-8125902144106883229]\n\t-651403784083398801 -> 6815027276318066451 [id=\"-8125902144106883229.args[0]\"]\n\t6815027276318066451 [label=\"Abstraction.__add__\" id=576327488382086654]\n\t6815027276318066451 -> 7003961003669514196 [id=\"576327488382086654.args[0]\"]\n\t7003961003669514196 [label=\"Abstraction.create\" id=-3689034126165086493]\n\t7003961003669514196 -> 8497656163443754274 [id=\"-3689034126165086493.args[0]\"]\n\t8497656163443754274 [label=\"Abstraction.create_variable\" id=8497656163443754274]\n\t8497656163443754274 -> 1599161639703854109 [id=\"8497656163443754274.args[0]\"]\n\t1599161639703854109 [label=\"Variable(4549639528)\" id=1599161639703854109]\n\t7003961003669514196 -> 7426659112406479064 [id=\"-3689034126165086493.args[1]\"]\n\t7426659112406479064 [label=\"Maybe.just\" id=7426659112406479064]\n\t7426659112406479064 -> 8497656163443754274 [id=\"7426659112406479064.args[0]\"]\n\t6815027276318066451 -> -3607651342286296696 [id=\"576327488382086654.args[1]\"]\n\t-3607651342286296696 [label=\"Abstraction.create\" id=-3607651342286296696]\n\t-3607651342286296696 -> -9156363857593975122 [id=\"-3607651342286296696.args[0]\"]\n\t-9156363857593975122 [label=\"Abstraction.create_variable\" id=-9156363857593975122]\n\t-9156363857593975122 -> 1599161652712557034 [id=\"-9156363857593975122.args[0]\"]\n\t1599161652712557034 [label=\"Variable(4549677688)\" id=1599161652712557034]\n\t-3607651342286296696 -> 4236997518345950211 [id=\"-3607651342286296696.args[1]\"]\n\t4236997518345950211 [label=arange_ id=4236997518345950211]\n\t4236997518345950211 -> -9156363857593975122 [id=\"4236997518345950211.args[0]\"]\n\t-651403784083398801 -> -6362610179852757995 [id=\"-8125902144106883229.args[1]\"]\n\t-6362610179852757995 [label=\"Integer.from_int\" id=-6362610179852757995]\n\t-6362610179852757995 -> 852842466726619175 [id=\"-6362610179852757995.args[0]\"]\n\t852842466726619175 [label=100 id=852842466726619175]\n\t4867488836770560508 -> -8930988476283103842 [id=\"-8020448314167642308.args[1]\"]\n\t7931816278954226227 -> -1257909439195940719 [id=\"-7774097712138673687.args[1]\"]\n\t-1257909439195940719 [label=\"Maybe.__or__\" id=6606662420229354367]\n\t-1257909439195940719 -> -9111585453556964138 [id=\"6606662420229354367.args[0]\"]\n\t-9111585453556964138 [label=\"Abstraction.__call__\" id=9185684620050578154]\n\t-9111585453556964138 -> -8436013719796374484 [id=\"9185684620050578154.args[0]\"]\n\t-8436013719796374484 [label=\"Abstraction.__add__\" id=-8436013719796374484]\n\t-8436013719796374484 -> -7507020889469263454 [id=\"-8436013719796374484.args[0]\"]\n\t-7507020889469263454 [label=\"Abstraction.from_fn\" id=-7507020889469263454]\n\t-7507020889469263454 -> -2266514298468117634 [id=\"-7507020889469263454.args[0]\"]\n\t-2266514298468117634 [label=\"Maybe.just\" id=-2266514298468117634]\n\t-8436013719796374484 -> 1476814018894724778 [id=\"-8436013719796374484.args[1]\"]\n\t1476814018894724778 [label=\"Abstraction.create\" id=1476814018894724778]\n\t1476814018894724778 -> 8578252472718281855 [id=\"1476814018894724778.args[0]\"]\n\t8578252472718281855 [label=\"Abstraction.create_variable\" id=8578252472718281855]\n\t8578252472718281855 -> 1599161653680334384 [id=\"8578252472718281855.args[0]\"]\n\t1599161653680334384 [label=\"Variable(4549696088)\" id=1599161653680334384]\n\t1476814018894724778 -> 2819426627661147747 [id=\"1476814018894724778.args[1]\"]\n\t2819426627661147747 [label=\"Either.left\" id=2819426627661147747]\n\t2819426627661147747 -> 8578252472718281855 [id=\"2819426627661147747.args[0]\"]\n\t-9111585453556964138 -> -7334224414564589854 [id=\"9185684620050578154.args[1]\"]\n\t-7334224414564589854 [label=\"Integer.from_int\" id=-7334224414564589854]\n\t-7334224414564589854 -> 852842466831624100 [id=\"-7334224414564589854.args[0]\"]\n\t852842466831624100 [label=5 id=852842466831624100]\n\t-1257909439195940719 -> 4035559444610765789 [id=\"6606662420229354367.args[1]\"]\n\t4035559444610765789 [label=\"Maybe.match\" id=-4974165390111393856]\n\t4035559444610765789 -> 2903062968911337222 [id=\"-4974165390111393856.args[0]\"]\n\t2903062968911337222 [label=\"Converter.convert\" id=2903062968911337222]\n\t2903062968911337222 -> 852842466831624100 [id=\"2903062968911337222.args[0]\"]\n\t4035559444610765789 -> -3052203273464861294 [id=\"-4974165390111393856.args[1]\"]\n\t-3052203273464861294 [label=\"Maybe.nothing\" id=-3052203273464861294]\n\t4035559444610765789 -> 4127710310388454811 [id=\"-4974165390111393856.args[2]\"]\n\t4127710310388454811 [label=\"Abstraction.__add__\" id=4127710310388454811]\n\t4127710310388454811 -> -7507020889469263454 [id=\"4127710310388454811.args[0]\"]\n\t4127710310388454811 -> 878450276063681107 [id=\"4127710310388454811.args[1]\"]\n\t878450276063681107 [label=\"Abstraction.create\" id=878450276063681107]\n\t878450276063681107 -> -6499163487982209355 [id=\"878450276063681107.args[0]\"]\n\t-6499163487982209355 [label=\"Abstraction.create_variable\" id=-6499163487982209355]\n\t-6499163487982209355 -> 1599161639649727859 [id=\"-6499163487982209355.args[0]\"]\n\t1599161639649727859 [label=\"Variable(4549632072)\" id=1599161639649727859]\n\t878450276063681107 -> 4425729685164377546 [id=\"878450276063681107.args[1]\"]\n\t4425729685164377546 [label=\"Either.right\" id=4425729685164377546]\n\t4425729685164377546 -> -6499163487982209355 [id=\"4425729685164377546.args[0]\"]\n\t-9130150324483212915 -> -1741944831158160669 [id=\"-1055990109103758883.args[1]\"]\n\t-1741944831158160669 [label=\"Maybe.nothing\" id=-1741944831158160669]\n\t-9130150324483212915 -> 7341543321610707392 [id=\"-1055990109103758883.args[2]\"]\n\t7341543321610707392 [label=\"Abstraction.__add__\" id=-4006968251054608271]\n\t7341543321610707392 -> 7003961003669514196 [id=\"-4006968251054608271.args[0]\"]\n\t7341543321610707392 -> 1086476962447876602 [id=\"-4006968251054608271.args[1]\"]\n\t1086476962447876602 [label=\"Abstraction.create\" id=1086476962447876602]\n\t1086476962447876602 -> 7616326404151103511 [id=\"1086476962447876602.args[0]\"]\n\t7616326404151103511 [label=\"Abstraction.create_variable\" id=7616326404151103511]\n\t7616326404151103511 -> 1599161639873810534 [id=\"7616326404151103511.args[0]\"]\n\t1599161639873810534 [label=\"Variable(4549638072)\" id=1599161639873810534]\n\t1086476962447876602 -> -6242641388488469540 [id=\"1086476962447876602.args[1]\"]\n\t-6242641388488469540 [label=\"NDArray.__getitem__\" id=-6242641388488469540]\n\t-6242641388488469540 -> -2203303042166162505 [id=\"-6242641388488469540.args[0]\"]\n\t-2203303042166162505 [label=\"Pair.left\" id=-2203303042166162505]\n\t-2203303042166162505 -> 7616326404151103511 [id=\"-2203303042166162505.args[0]\"]\n\t-6242641388488469540 -> -7578727142363371923 [id=\"-6242641388488469540.args[1]\"]\n\t-7578727142363371923 [label=\"Pair.right\" id=-7578727142363371923]\n\t-7578727142363371923 -> 7616326404151103511 [id=\"-7578727142363371923.args[0]\"]\n}",
         "label": null,
         "rule": "metadsl_core.abstraction.Abstraction.from_fn"
        },
        {
         "graph": "digraph {\n\tnode [shape=plain]\n\tedge [arrowsize=0.5 penwidth=0.5]\n\t-7139390227789993331 [label=\"NDArrayCompat.to_ndarray\" id=4165022598424862665]\n\t-7139390227789993331 -> 4183060667905065981 [id=\"4165022598424862665.args[0]\"]\n\t4183060667905065981 [label=\"NDArrayCompat.from_ndarray\" id=-8054137683011941171]\n\t4183060667905065981 -> -7557170376531022965 [id=\"-8054137683011941171.args[0]\"]\n\t-7557170376531022965 [label=\"Maybe.match\" id=-1055990109103758883]\n\t-7557170376531022965 -> -8298483154950733741 [id=\"-1055990109103758883.args[0]\"]\n\t-8298483154950733741 [label=\"Maybe.__and__\" id=-7774097712138673687]\n\t-8298483154950733741 -> -6026802563305382491 [id=\"-7774097712138673687.args[0]\"]\n\t-6026802563305382491 [label=\"Converter.convert\" id=-2612058384443202226]\n\t-6026802563305382491 -> 4867488836770560508 [id=\"-2612058384443202226.args[0]\"]\n\t4867488836770560508 [label=\"NDArrayCompat.__add__\" id=-8020448314167642308]\n\t4867488836770560508 -> -8930988476283103842 [id=\"-8020448314167642308.args[0]\"]\n\t-8930988476283103842 [label=\"NDArrayCompat.from_ndarray\" id=2204185982366297925]\n\t-8930988476283103842 -> -651403784083398801 [id=\"2204185982366297925.args[0]\"]\n\t-651403784083398801 [label=\"Abstraction.__call__\" id=-8125902144106883229]\n\t-651403784083398801 -> 6815027276318066451 [id=\"-8125902144106883229.args[0]\"]\n\t6815027276318066451 [label=\"Abstraction.__add__\" id=576327488382086654]\n\t6815027276318066451 -> 7003961003669514196 [id=\"576327488382086654.args[0]\"]\n\t7003961003669514196 [label=\"Abstraction.create\" id=-3689034126165086493]\n\t7003961003669514196 -> 8497656163443754274 [id=\"-3689034126165086493.args[0]\"]\n\t8497656163443754274 [label=\"Abstraction.create_variable\" id=8497656163443754274]\n\t8497656163443754274 -> 1599161639703854109 [id=\"8497656163443754274.args[0]\"]\n\t1599161639703854109 [label=\"Variable(4549639528)\" id=1599161639703854109]\n\t7003961003669514196 -> 7426659112406479064 [id=\"-3689034126165086493.args[1]\"]\n\t7426659112406479064 [label=\"Maybe.just\" id=7426659112406479064]\n\t7426659112406479064 -> 8497656163443754274 [id=\"7426659112406479064.args[0]\"]\n\t6815027276318066451 -> -3607651342286296696 [id=\"576327488382086654.args[1]\"]\n\t-3607651342286296696 [label=\"Abstraction.create\" id=-3607651342286296696]\n\t-3607651342286296696 -> -9156363857593975122 [id=\"-3607651342286296696.args[0]\"]\n\t-9156363857593975122 [label=\"Abstraction.create_variable\" id=-9156363857593975122]\n\t-9156363857593975122 -> 1599161652712557034 [id=\"-9156363857593975122.args[0]\"]\n\t1599161652712557034 [label=\"Variable(4549677688)\" id=1599161652712557034]\n\t-3607651342286296696 -> 4236997518345950211 [id=\"-3607651342286296696.args[1]\"]\n\t4236997518345950211 [label=arange_ id=4236997518345950211]\n\t4236997518345950211 -> -9156363857593975122 [id=\"4236997518345950211.args[0]\"]\n\t-651403784083398801 -> -6362610179852757995 [id=\"-8125902144106883229.args[1]\"]\n\t-6362610179852757995 [label=\"Integer.from_int\" id=-6362610179852757995]\n\t-6362610179852757995 -> 852842466726619175 [id=\"-6362610179852757995.args[0]\"]\n\t852842466726619175 [label=100 id=852842466726619175]\n\t4867488836770560508 -> -8930988476283103842 [id=\"-8020448314167642308.args[1]\"]\n\t-8298483154950733741 -> 5922024548564054383 [id=\"-7774097712138673687.args[1]\"]\n\t5922024548564054383 [label=\"Maybe.__or__\" id=6606662420229354367]\n\t5922024548564054383 -> 235132293712215603 [id=\"6606662420229354367.args[0]\"]\n\t235132293712215603 [label=\"Abstraction.__call__\" id=9185684620050578154]\n\t235132293712215603 -> 5863251406667164858 [id=\"9185684620050578154.args[0]\"]\n\t5863251406667164858 [label=\"Abstraction.__add__\" id=-8436013719796374484]\n\t5863251406667164858 -> -524300340023843831 [id=\"-8436013719796374484.args[0]\"]\n\t-524300340023843831 [label=\"Abstraction.create\" id=-7507020889469263454]\n\t-524300340023843831 -> -8009119954895460388 [id=\"-7507020889469263454.args[0]\"]\n\t-8009119954895460388 [label=\"Abstraction.create_variable\" id=-8009119954895460388]\n\t-8009119954895460388 -> 1599161666292833159 [id=\"-8009119954895460388.args[0]\"]\n\t1599161666292833159 [label=\"Variable(4549501448)\" id=1599161666292833159]\n\t-524300340023843831 -> 8351397859519109505 [id=\"-7507020889469263454.args[1]\"]\n\t8351397859519109505 [label=\"Maybe.just\" id=8351397859519109505]\n\t8351397859519109505 -> -8009119954895460388 [id=\"8351397859519109505.args[0]\"]\n\t5863251406667164858 -> 1476814018894724778 [id=\"-8436013719796374484.args[1]\"]\n\t1476814018894724778 [label=\"Abstraction.create\" id=1476814018894724778]\n\t1476814018894724778 -> 8578252472718281855 [id=\"1476814018894724778.args[0]\"]\n\t8578252472718281855 [label=\"Abstraction.create_variable\" id=8578252472718281855]\n\t8578252472718281855 -> 1599161653680334384 [id=\"8578252472718281855.args[0]\"]\n\t1599161653680334384 [label=\"Variable(4549696088)\" id=1599161653680334384]\n\t1476814018894724778 -> 2819426627661147747 [id=\"1476814018894724778.args[1]\"]\n\t2819426627661147747 [label=\"Either.left\" id=2819426627661147747]\n\t2819426627661147747 -> 8578252472718281855 [id=\"2819426627661147747.args[0]\"]\n\t235132293712215603 -> -7334224414564589854 [id=\"9185684620050578154.args[1]\"]\n\t-7334224414564589854 [label=\"Integer.from_int\" id=-7334224414564589854]\n\t-7334224414564589854 -> 852842466831624100 [id=\"-7334224414564589854.args[0]\"]\n\t852842466831624100 [label=5 id=852842466831624100]\n\t5922024548564054383 -> -3590883686264525135 [id=\"6606662420229354367.args[1]\"]\n\t-3590883686264525135 [label=\"Maybe.match\" id=-4974165390111393856]\n\t-3590883686264525135 -> 2903062968911337222 [id=\"-4974165390111393856.args[0]\"]\n\t2903062968911337222 [label=\"Converter.convert\" id=2903062968911337222]\n\t2903062968911337222 -> 852842466831624100 [id=\"2903062968911337222.args[0]\"]\n\t-3590883686264525135 -> -3052203273464861294 [id=\"-4974165390111393856.args[1]\"]\n\t-3052203273464861294 [label=\"Maybe.nothing\" id=-3052203273464861294]\n\t-3590883686264525135 -> -4316034631652130263 [id=\"-4974165390111393856.args[2]\"]\n\t-4316034631652130263 [label=\"Abstraction.__add__\" id=4127710310388454811]\n\t-4316034631652130263 -> -524300340023843831 [id=\"4127710310388454811.args[0]\"]\n\t-4316034631652130263 -> 878450276063681107 [id=\"4127710310388454811.args[1]\"]\n\t878450276063681107 [label=\"Abstraction.create\" id=878450276063681107]\n\t878450276063681107 -> -6499163487982209355 [id=\"878450276063681107.args[0]\"]\n\t-6499163487982209355 [label=\"Abstraction.create_variable\" id=-6499163487982209355]\n\t-6499163487982209355 -> 1599161639649727859 [id=\"-6499163487982209355.args[0]\"]\n\t1599161639649727859 [label=\"Variable(4549632072)\" id=1599161639649727859]\n\t878450276063681107 -> 4425729685164377546 [id=\"878450276063681107.args[1]\"]\n\t4425729685164377546 [label=\"Either.right\" id=4425729685164377546]\n\t4425729685164377546 -> -6499163487982209355 [id=\"4425729685164377546.args[0]\"]\n\t-7557170376531022965 -> -1741944831158160669 [id=\"-1055990109103758883.args[1]\"]\n\t-1741944831158160669 [label=\"Maybe.nothing\" id=-1741944831158160669]\n\t-7557170376531022965 -> 7341543321610707392 [id=\"-1055990109103758883.args[2]\"]\n\t7341543321610707392 [label=\"Abstraction.__add__\" id=-4006968251054608271]\n\t7341543321610707392 -> 7003961003669514196 [id=\"-4006968251054608271.args[0]\"]\n\t7341543321610707392 -> 1086476962447876602 [id=\"-4006968251054608271.args[1]\"]\n\t1086476962447876602 [label=\"Abstraction.create\" id=1086476962447876602]\n\t1086476962447876602 -> 7616326404151103511 [id=\"1086476962447876602.args[0]\"]\n\t7616326404151103511 [label=\"Abstraction.create_variable\" id=7616326404151103511]\n\t7616326404151103511 -> 1599161639873810534 [id=\"7616326404151103511.args[0]\"]\n\t1599161639873810534 [label=\"Variable(4549638072)\" id=1599161639873810534]\n\t1086476962447876602 -> -6242641388488469540 [id=\"1086476962447876602.args[1]\"]\n\t-6242641388488469540 [label=\"NDArray.__getitem__\" id=-6242641388488469540]\n\t-6242641388488469540 -> -2203303042166162505 [id=\"-6242641388488469540.args[0]\"]\n\t-2203303042166162505 [label=\"Pair.left\" id=-2203303042166162505]\n\t-2203303042166162505 -> 7616326404151103511 [id=\"-2203303042166162505.args[0]\"]\n\t-6242641388488469540 -> -7578727142363371923 [id=\"-6242641388488469540.args[1]\"]\n\t-7578727142363371923 [label=\"Pair.right\" id=-7578727142363371923]\n\t-7578727142363371923 -> 7616326404151103511 [id=\"-7578727142363371923.args[0]\"]\n}",
         "label": null,
         "rule": "metadsl_core.abstraction.Abstraction.from_fn"
        },
        {
         "graph": "digraph {\n\tnode [shape=plain]\n\tedge [arrowsize=0.5 penwidth=0.5]\n\t-5190030925353645917 [label=\"NDArrayCompat.to_ndarray\" id=4165022598424862665]\n\t-5190030925353645917 -> -7825820219442522469 [id=\"4165022598424862665.args[0]\"]\n\t-7825820219442522469 [label=\"NDArrayCompat.from_ndarray\" id=-8054137683011941171]\n\t-7825820219442522469 -> 3510727206626288453 [id=\"-8054137683011941171.args[0]\"]\n\t3510727206626288453 [label=\"Maybe.match\" id=-1055990109103758883]\n\t3510727206626288453 -> -8298483154950733741 [id=\"-1055990109103758883.args[0]\"]\n\t-8298483154950733741 [label=\"Maybe.__and__\" id=-7774097712138673687]\n\t-8298483154950733741 -> -6026802563305382491 [id=\"-7774097712138673687.args[0]\"]\n\t-6026802563305382491 [label=\"Converter.convert\" id=-2612058384443202226]\n\t-6026802563305382491 -> 4867488836770560508 [id=\"-2612058384443202226.args[0]\"]\n\t4867488836770560508 [label=\"NDArrayCompat.__add__\" id=-8020448314167642308]\n\t4867488836770560508 -> -8930988476283103842 [id=\"-8020448314167642308.args[0]\"]\n\t-8930988476283103842 [label=\"NDArrayCompat.from_ndarray\" id=2204185982366297925]\n\t-8930988476283103842 -> -651403784083398801 [id=\"2204185982366297925.args[0]\"]\n\t-651403784083398801 [label=\"Abstraction.__call__\" id=-8125902144106883229]\n\t-651403784083398801 -> 6815027276318066451 [id=\"-8125902144106883229.args[0]\"]\n\t6815027276318066451 [label=\"Abstraction.__add__\" id=576327488382086654]\n\t6815027276318066451 -> 7003961003669514196 [id=\"576327488382086654.args[0]\"]\n\t7003961003669514196 [label=\"Abstraction.create\" id=-3689034126165086493]\n\t7003961003669514196 -> 8497656163443754274 [id=\"-3689034126165086493.args[0]\"]\n\t8497656163443754274 [label=\"Abstraction.create_variable\" id=8497656163443754274]\n\t8497656163443754274 -> 1599161639703854109 [id=\"8497656163443754274.args[0]\"]\n\t1599161639703854109 [label=\"Variable(4549639528)\" id=1599161639703854109]\n\t7003961003669514196 -> 7426659112406479064 [id=\"-3689034126165086493.args[1]\"]\n\t7426659112406479064 [label=\"Maybe.just\" id=7426659112406479064]\n\t7426659112406479064 -> 8497656163443754274 [id=\"7426659112406479064.args[0]\"]\n\t6815027276318066451 -> -3607651342286296696 [id=\"576327488382086654.args[1]\"]\n\t-3607651342286296696 [label=\"Abstraction.create\" id=-3607651342286296696]\n\t-3607651342286296696 -> -9156363857593975122 [id=\"-3607651342286296696.args[0]\"]\n\t-9156363857593975122 [label=\"Abstraction.create_variable\" id=-9156363857593975122]\n\t-9156363857593975122 -> 1599161652712557034 [id=\"-9156363857593975122.args[0]\"]\n\t1599161652712557034 [label=\"Variable(4549677688)\" id=1599161652712557034]\n\t-3607651342286296696 -> 4236997518345950211 [id=\"-3607651342286296696.args[1]\"]\n\t4236997518345950211 [label=arange_ id=4236997518345950211]\n\t4236997518345950211 -> -9156363857593975122 [id=\"4236997518345950211.args[0]\"]\n\t-651403784083398801 -> -6362610179852757995 [id=\"-8125902144106883229.args[1]\"]\n\t-6362610179852757995 [label=\"Integer.from_int\" id=-6362610179852757995]\n\t-6362610179852757995 -> 852842466726619175 [id=\"-6362610179852757995.args[0]\"]\n\t852842466726619175 [label=100 id=852842466726619175]\n\t4867488836770560508 -> -8930988476283103842 [id=\"-8020448314167642308.args[1]\"]\n\t-8298483154950733741 -> 5922024548564054383 [id=\"-7774097712138673687.args[1]\"]\n\t5922024548564054383 [label=\"Maybe.__or__\" id=6606662420229354367]\n\t5922024548564054383 -> 235132293712215603 [id=\"6606662420229354367.args[0]\"]\n\t235132293712215603 [label=\"Abstraction.__call__\" id=9185684620050578154]\n\t235132293712215603 -> 5863251406667164858 [id=\"9185684620050578154.args[0]\"]\n\t5863251406667164858 [label=\"Abstraction.__add__\" id=-8436013719796374484]\n\t5863251406667164858 -> -524300340023843831 [id=\"-8436013719796374484.args[0]\"]\n\t-524300340023843831 [label=\"Abstraction.create\" id=-7507020889469263454]\n\t-524300340023843831 -> -8009119954895460388 [id=\"-7507020889469263454.args[0]\"]\n\t-8009119954895460388 [label=\"Abstraction.create_variable\" id=-8009119954895460388]\n\t-8009119954895460388 -> 1599161666292833159 [id=\"-8009119954895460388.args[0]\"]\n\t1599161666292833159 [label=\"Variable(4549501448)\" id=1599161666292833159]\n\t-524300340023843831 -> 8351397859519109505 [id=\"-7507020889469263454.args[1]\"]\n\t8351397859519109505 [label=\"Maybe.just\" id=8351397859519109505]\n\t8351397859519109505 -> -8009119954895460388 [id=\"8351397859519109505.args[0]\"]\n\t5863251406667164858 -> 1476814018894724778 [id=\"-8436013719796374484.args[1]\"]\n\t1476814018894724778 [label=\"Abstraction.create\" id=1476814018894724778]\n\t1476814018894724778 -> 8578252472718281855 [id=\"1476814018894724778.args[0]\"]\n\t8578252472718281855 [label=\"Abstraction.create_variable\" id=8578252472718281855]\n\t8578252472718281855 -> 1599161653680334384 [id=\"8578252472718281855.args[0]\"]\n\t1599161653680334384 [label=\"Variable(4549696088)\" id=1599161653680334384]\n\t1476814018894724778 -> 2819426627661147747 [id=\"1476814018894724778.args[1]\"]\n\t2819426627661147747 [label=\"Either.left\" id=2819426627661147747]\n\t2819426627661147747 -> 8578252472718281855 [id=\"2819426627661147747.args[0]\"]\n\t235132293712215603 -> -7334224414564589854 [id=\"9185684620050578154.args[1]\"]\n\t-7334224414564589854 [label=\"Integer.from_int\" id=-7334224414564589854]\n\t-7334224414564589854 -> 852842466831624100 [id=\"-7334224414564589854.args[0]\"]\n\t852842466831624100 [label=5 id=852842466831624100]\n\t5922024548564054383 -> -3590883686264525135 [id=\"6606662420229354367.args[1]\"]\n\t-3590883686264525135 [label=\"Maybe.match\" id=-4974165390111393856]\n\t-3590883686264525135 -> 2903062968911337222 [id=\"-4974165390111393856.args[0]\"]\n\t2903062968911337222 [label=\"Converter.convert\" id=2903062968911337222]\n\t2903062968911337222 -> 852842466831624100 [id=\"2903062968911337222.args[0]\"]\n\t-3590883686264525135 -> -3052203273464861294 [id=\"-4974165390111393856.args[1]\"]\n\t-3052203273464861294 [label=\"Maybe.nothing\" id=-3052203273464861294]\n\t-3590883686264525135 -> -4316034631652130263 [id=\"-4974165390111393856.args[2]\"]\n\t-4316034631652130263 [label=\"Abstraction.__add__\" id=4127710310388454811]\n\t-4316034631652130263 -> -524300340023843831 [id=\"4127710310388454811.args[0]\"]\n\t-4316034631652130263 -> 878450276063681107 [id=\"4127710310388454811.args[1]\"]\n\t878450276063681107 [label=\"Abstraction.create\" id=878450276063681107]\n\t878450276063681107 -> -6499163487982209355 [id=\"878450276063681107.args[0]\"]\n\t-6499163487982209355 [label=\"Abstraction.create_variable\" id=-6499163487982209355]\n\t-6499163487982209355 -> 1599161639649727859 [id=\"-6499163487982209355.args[0]\"]\n\t1599161639649727859 [label=\"Variable(4549632072)\" id=1599161639649727859]\n\t878450276063681107 -> 4425729685164377546 [id=\"878450276063681107.args[1]\"]\n\t4425729685164377546 [label=\"Either.right\" id=4425729685164377546]\n\t4425729685164377546 -> -6499163487982209355 [id=\"4425729685164377546.args[0]\"]\n\t3510727206626288453 -> -1741944831158160669 [id=\"-1055990109103758883.args[1]\"]\n\t-1741944831158160669 [label=\"Maybe.nothing\" id=-1741944831158160669]\n\t3510727206626288453 -> -5849131892695947717 [id=\"-1055990109103758883.args[2]\"]\n\t-5849131892695947717 [label=\"Abstraction.create\" id=-5849131892695947717]\n\t-5849131892695947717 -> 7616326404151103511 [id=\"-5849131892695947717.args[0]\"]\n\t7616326404151103511 [label=\"Abstraction.create_variable\" id=7616326404151103511]\n\t7616326404151103511 -> 1599161639873810534 [id=\"7616326404151103511.args[0]\"]\n\t1599161639873810534 [label=\"Variable(4549638072)\" id=1599161639873810534]\n\t-5849131892695947717 -> -3781123388935602301 [id=\"-5849131892695947717.args[1]\"]\n\t-3781123388935602301 [label=\"Maybe.just\" id=-3781123388935602301]\n\t-3781123388935602301 -> -6242641388488469540 [id=\"-3781123388935602301.args[0]\"]\n\t-6242641388488469540 [label=\"NDArray.__getitem__\" id=-6242641388488469540]\n\t-6242641388488469540 -> -2203303042166162505 [id=\"-6242641388488469540.args[0]\"]\n\t-2203303042166162505 [label=\"Pair.left\" id=-2203303042166162505]\n\t-2203303042166162505 -> 7616326404151103511 [id=\"-2203303042166162505.args[0]\"]\n\t-6242641388488469540 -> -7578727142363371923 [id=\"-6242641388488469540.args[1]\"]\n\t-7578727142363371923 [label=\"Pair.right\" id=-7578727142363371923]\n\t-7578727142363371923 -> 7616326404151103511 [id=\"-7578727142363371923.args[0]\"]\n}",
         "label": null,
         "rule": "metadsl_core.abstraction.compose"
        },
        {
         "graph": "digraph {\n\tnode [shape=plain]\n\tedge [arrowsize=0.5 penwidth=0.5]\n\t-9032464671173933132 [label=\"NDArrayCompat.to_ndarray\" id=4165022598424862665]\n\t-9032464671173933132 -> -623527401191838813 [id=\"4165022598424862665.args[0]\"]\n\t-623527401191838813 [label=\"NDArrayCompat.from_ndarray\" id=-8054137683011941171]\n\t-623527401191838813 -> 2676937003383821533 [id=\"-8054137683011941171.args[0]\"]\n\t2676937003383821533 [label=\"Maybe.match\" id=-1055990109103758883]\n\t2676937003383821533 -> -1643751931071470440 [id=\"-1055990109103758883.args[0]\"]\n\t-1643751931071470440 [label=\"Maybe.__and__\" id=-7774097712138673687]\n\t-1643751931071470440 -> -6026802563305382491 [id=\"-7774097712138673687.args[0]\"]\n\t-6026802563305382491 [label=\"Converter.convert\" id=-2612058384443202226]\n\t-6026802563305382491 -> 4867488836770560508 [id=\"-2612058384443202226.args[0]\"]\n\t4867488836770560508 [label=\"NDArrayCompat.__add__\" id=-8020448314167642308]\n\t4867488836770560508 -> -8930988476283103842 [id=\"-8020448314167642308.args[0]\"]\n\t-8930988476283103842 [label=\"NDArrayCompat.from_ndarray\" id=2204185982366297925]\n\t-8930988476283103842 -> -651403784083398801 [id=\"2204185982366297925.args[0]\"]\n\t-651403784083398801 [label=\"Abstraction.__call__\" id=-8125902144106883229]\n\t-651403784083398801 -> 6815027276318066451 [id=\"-8125902144106883229.args[0]\"]\n\t6815027276318066451 [label=\"Abstraction.__add__\" id=576327488382086654]\n\t6815027276318066451 -> 7003961003669514196 [id=\"576327488382086654.args[0]\"]\n\t7003961003669514196 [label=\"Abstraction.create\" id=-3689034126165086493]\n\t7003961003669514196 -> 8497656163443754274 [id=\"-3689034126165086493.args[0]\"]\n\t8497656163443754274 [label=\"Abstraction.create_variable\" id=8497656163443754274]\n\t8497656163443754274 -> 1599161639703854109 [id=\"8497656163443754274.args[0]\"]\n\t1599161639703854109 [label=\"Variable(4549639528)\" id=1599161639703854109]\n\t7003961003669514196 -> 7426659112406479064 [id=\"-3689034126165086493.args[1]\"]\n\t7426659112406479064 [label=\"Maybe.just\" id=7426659112406479064]\n\t7426659112406479064 -> 8497656163443754274 [id=\"7426659112406479064.args[0]\"]\n\t6815027276318066451 -> -3607651342286296696 [id=\"576327488382086654.args[1]\"]\n\t-3607651342286296696 [label=\"Abstraction.create\" id=-3607651342286296696]\n\t-3607651342286296696 -> -9156363857593975122 [id=\"-3607651342286296696.args[0]\"]\n\t-9156363857593975122 [label=\"Abstraction.create_variable\" id=-9156363857593975122]\n\t-9156363857593975122 -> 1599161652712557034 [id=\"-9156363857593975122.args[0]\"]\n\t1599161652712557034 [label=\"Variable(4549677688)\" id=1599161652712557034]\n\t-3607651342286296696 -> 4236997518345950211 [id=\"-3607651342286296696.args[1]\"]\n\t4236997518345950211 [label=arange_ id=4236997518345950211]\n\t4236997518345950211 -> -9156363857593975122 [id=\"4236997518345950211.args[0]\"]\n\t-651403784083398801 -> -6362610179852757995 [id=\"-8125902144106883229.args[1]\"]\n\t-6362610179852757995 [label=\"Integer.from_int\" id=-6362610179852757995]\n\t-6362610179852757995 -> 852842466726619175 [id=\"-6362610179852757995.args[0]\"]\n\t852842466726619175 [label=100 id=852842466726619175]\n\t4867488836770560508 -> -8930988476283103842 [id=\"-8020448314167642308.args[1]\"]\n\t-1643751931071470440 -> -6935731215494089261 [id=\"-7774097712138673687.args[1]\"]\n\t-6935731215494089261 [label=\"Maybe.__or__\" id=6606662420229354367]\n\t-6935731215494089261 -> 3146911794523596558 [id=\"6606662420229354367.args[0]\"]\n\t3146911794523596558 [label=\"Abstraction.__call__\" id=9185684620050578154]\n\t3146911794523596558 -> 5984891096985012143 [id=\"9185684620050578154.args[0]\"]\n\t5984891096985012143 [label=\"Abstraction.create\" id=-8436013719796374484]\n\t5984891096985012143 -> 8578252472718281855 [id=\"-8436013719796374484.args[0]\"]\n\t8578252472718281855 [label=\"Abstraction.create_variable\" id=8578252472718281855]\n\t8578252472718281855 -> 1599161653680334384 [id=\"8578252472718281855.args[0]\"]\n\t1599161653680334384 [label=\"Variable(4549696088)\" id=1599161653680334384]\n\t5984891096985012143 -> -6693496697354555112 [id=\"-8436013719796374484.args[1]\"]\n\t-6693496697354555112 [label=\"Maybe.just\" id=-6693496697354555112]\n\t-6693496697354555112 -> 2819426627661147747 [id=\"-6693496697354555112.args[0]\"]\n\t2819426627661147747 [label=\"Either.left\" id=2819426627661147747]\n\t2819426627661147747 -> 8578252472718281855 [id=\"2819426627661147747.args[0]\"]\n\t3146911794523596558 -> -7334224414564589854 [id=\"9185684620050578154.args[1]\"]\n\t-7334224414564589854 [label=\"Integer.from_int\" id=-7334224414564589854]\n\t-7334224414564589854 -> 852842466831624100 [id=\"-7334224414564589854.args[0]\"]\n\t852842466831624100 [label=5 id=852842466831624100]\n\t-6935731215494089261 -> -3590883686264525135 [id=\"6606662420229354367.args[1]\"]\n\t-3590883686264525135 [label=\"Maybe.match\" id=-4974165390111393856]\n\t-3590883686264525135 -> 2903062968911337222 [id=\"-4974165390111393856.args[0]\"]\n\t2903062968911337222 [label=\"Converter.convert\" id=2903062968911337222]\n\t2903062968911337222 -> 852842466831624100 [id=\"2903062968911337222.args[0]\"]\n\t-3590883686264525135 -> -3052203273464861294 [id=\"-4974165390111393856.args[1]\"]\n\t-3052203273464861294 [label=\"Maybe.nothing\" id=-3052203273464861294]\n\t-3590883686264525135 -> -4316034631652130263 [id=\"-4974165390111393856.args[2]\"]\n\t-4316034631652130263 [label=\"Abstraction.__add__\" id=4127710310388454811]\n\t-4316034631652130263 -> -524300340023843831 [id=\"4127710310388454811.args[0]\"]\n\t-524300340023843831 [label=\"Abstraction.create\" id=-7507020889469263454]\n\t-524300340023843831 -> -8009119954895460388 [id=\"-7507020889469263454.args[0]\"]\n\t-8009119954895460388 [label=\"Abstraction.create_variable\" id=-8009119954895460388]\n\t-8009119954895460388 -> 1599161666292833159 [id=\"-8009119954895460388.args[0]\"]\n\t1599161666292833159 [label=\"Variable(4549501448)\" id=1599161666292833159]\n\t-524300340023843831 -> 8351397859519109505 [id=\"-7507020889469263454.args[1]\"]\n\t8351397859519109505 [label=\"Maybe.just\" id=8351397859519109505]\n\t8351397859519109505 -> -8009119954895460388 [id=\"8351397859519109505.args[0]\"]\n\t-4316034631652130263 -> 878450276063681107 [id=\"4127710310388454811.args[1]\"]\n\t878450276063681107 [label=\"Abstraction.create\" id=878450276063681107]\n\t878450276063681107 -> -6499163487982209355 [id=\"878450276063681107.args[0]\"]\n\t-6499163487982209355 [label=\"Abstraction.create_variable\" id=-6499163487982209355]\n\t-6499163487982209355 -> 1599161639649727859 [id=\"-6499163487982209355.args[0]\"]\n\t1599161639649727859 [label=\"Variable(4549632072)\" id=1599161639649727859]\n\t878450276063681107 -> 4425729685164377546 [id=\"878450276063681107.args[1]\"]\n\t4425729685164377546 [label=\"Either.right\" id=4425729685164377546]\n\t4425729685164377546 -> -6499163487982209355 [id=\"4425729685164377546.args[0]\"]\n\t2676937003383821533 -> -1741944831158160669 [id=\"-1055990109103758883.args[1]\"]\n\t-1741944831158160669 [label=\"Maybe.nothing\" id=-1741944831158160669]\n\t2676937003383821533 -> -5849131892695947717 [id=\"-1055990109103758883.args[2]\"]\n\t-5849131892695947717 [label=\"Abstraction.create\" id=-5849131892695947717]\n\t-5849131892695947717 -> 7616326404151103511 [id=\"-5849131892695947717.args[0]\"]\n\t7616326404151103511 [label=\"Abstraction.create_variable\" id=7616326404151103511]\n\t7616326404151103511 -> 1599161639873810534 [id=\"7616326404151103511.args[0]\"]\n\t1599161639873810534 [label=\"Variable(4549638072)\" id=1599161639873810534]\n\t-5849131892695947717 -> -3781123388935602301 [id=\"-5849131892695947717.args[1]\"]\n\t-3781123388935602301 [label=\"Maybe.just\" id=-3781123388935602301]\n\t-3781123388935602301 -> -6242641388488469540 [id=\"-3781123388935602301.args[0]\"]\n\t-6242641388488469540 [label=\"NDArray.__getitem__\" id=-6242641388488469540]\n\t-6242641388488469540 -> -2203303042166162505 [id=\"-6242641388488469540.args[0]\"]\n\t-2203303042166162505 [label=\"Pair.left\" id=-2203303042166162505]\n\t-2203303042166162505 -> 7616326404151103511 [id=\"-2203303042166162505.args[0]\"]\n\t-6242641388488469540 -> -7578727142363371923 [id=\"-6242641388488469540.args[1]\"]\n\t-7578727142363371923 [label=\"Pair.right\" id=-7578727142363371923]\n\t-7578727142363371923 -> 7616326404151103511 [id=\"-7578727142363371923.args[0]\"]\n}",
         "label": null,
         "rule": "metadsl_core.abstraction.compose"
        },
        {
         "graph": "digraph {\n\tnode [shape=plain]\n\tedge [arrowsize=0.5 penwidth=0.5]\n\t-8517131237815112965 [label=\"NDArrayCompat.to_ndarray\" id=4165022598424862665]\n\t-8517131237815112965 -> -9016173781794098173 [id=\"4165022598424862665.args[0]\"]\n\t-9016173781794098173 [label=\"NDArrayCompat.from_ndarray\" id=-8054137683011941171]\n\t-9016173781794098173 -> 8450186211931925691 [id=\"-8054137683011941171.args[0]\"]\n\t8450186211931925691 [label=\"Maybe.match\" id=-1055990109103758883]\n\t8450186211931925691 -> 5632438364959790300 [id=\"-1055990109103758883.args[0]\"]\n\t5632438364959790300 [label=\"Maybe.__and__\" id=-7774097712138673687]\n\t5632438364959790300 -> -6026802563305382491 [id=\"-7774097712138673687.args[0]\"]\n\t-6026802563305382491 [label=\"Converter.convert\" id=-2612058384443202226]\n\t-6026802563305382491 -> 4867488836770560508 [id=\"-2612058384443202226.args[0]\"]\n\t4867488836770560508 [label=\"NDArrayCompat.__add__\" id=-8020448314167642308]\n\t4867488836770560508 -> -8930988476283103842 [id=\"-8020448314167642308.args[0]\"]\n\t-8930988476283103842 [label=\"NDArrayCompat.from_ndarray\" id=2204185982366297925]\n\t-8930988476283103842 -> -651403784083398801 [id=\"2204185982366297925.args[0]\"]\n\t-651403784083398801 [label=\"Abstraction.__call__\" id=-8125902144106883229]\n\t-651403784083398801 -> 6815027276318066451 [id=\"-8125902144106883229.args[0]\"]\n\t6815027276318066451 [label=\"Abstraction.__add__\" id=576327488382086654]\n\t6815027276318066451 -> 7003961003669514196 [id=\"576327488382086654.args[0]\"]\n\t7003961003669514196 [label=\"Abstraction.create\" id=-3689034126165086493]\n\t7003961003669514196 -> 8497656163443754274 [id=\"-3689034126165086493.args[0]\"]\n\t8497656163443754274 [label=\"Abstraction.create_variable\" id=8497656163443754274]\n\t8497656163443754274 -> 1599161639703854109 [id=\"8497656163443754274.args[0]\"]\n\t1599161639703854109 [label=\"Variable(4549639528)\" id=1599161639703854109]\n\t7003961003669514196 -> 7426659112406479064 [id=\"-3689034126165086493.args[1]\"]\n\t7426659112406479064 [label=\"Maybe.just\" id=7426659112406479064]\n\t7426659112406479064 -> 8497656163443754274 [id=\"7426659112406479064.args[0]\"]\n\t6815027276318066451 -> -3607651342286296696 [id=\"576327488382086654.args[1]\"]\n\t-3607651342286296696 [label=\"Abstraction.create\" id=-3607651342286296696]\n\t-3607651342286296696 -> -9156363857593975122 [id=\"-3607651342286296696.args[0]\"]\n\t-9156363857593975122 [label=\"Abstraction.create_variable\" id=-9156363857593975122]\n\t-9156363857593975122 -> 1599161652712557034 [id=\"-9156363857593975122.args[0]\"]\n\t1599161652712557034 [label=\"Variable(4549677688)\" id=1599161652712557034]\n\t-3607651342286296696 -> 4236997518345950211 [id=\"-3607651342286296696.args[1]\"]\n\t4236997518345950211 [label=arange_ id=4236997518345950211]\n\t4236997518345950211 -> -9156363857593975122 [id=\"4236997518345950211.args[0]\"]\n\t-651403784083398801 -> -6362610179852757995 [id=\"-8125902144106883229.args[1]\"]\n\t-6362610179852757995 [label=\"Integer.from_int\" id=-6362610179852757995]\n\t-6362610179852757995 -> 852842466726619175 [id=\"-6362610179852757995.args[0]\"]\n\t852842466726619175 [label=100 id=852842466726619175]\n\t4867488836770560508 -> -8930988476283103842 [id=\"-8020448314167642308.args[1]\"]\n\t5632438364959790300 -> 5162661124608334874 [id=\"-7774097712138673687.args[1]\"]\n\t5162661124608334874 [label=\"Maybe.__or__\" id=6606662420229354367]\n\t5162661124608334874 -> -1016045937770588202 [id=\"6606662420229354367.args[0]\"]\n\t-1016045937770588202 [label=\"Maybe.just\" id=9185684620050578154]\n\t-1016045937770588202 -> 2234741608541215826 [id=\"9185684620050578154.args[0]\"]\n\t2234741608541215826 [label=\"Either.left\" id=2234741608541215826]\n\t2234741608541215826 -> -7334224414564589854 [id=\"2234741608541215826.args[0]\"]\n\t-7334224414564589854 [label=\"Integer.from_int\" id=-7334224414564589854]\n\t-7334224414564589854 -> 852842466831624100 [id=\"-7334224414564589854.args[0]\"]\n\t852842466831624100 [label=5 id=852842466831624100]\n\t5162661124608334874 -> -3590883686264525135 [id=\"6606662420229354367.args[1]\"]\n\t-3590883686264525135 [label=\"Maybe.match\" id=-4974165390111393856]\n\t-3590883686264525135 -> 2903062968911337222 [id=\"-4974165390111393856.args[0]\"]\n\t2903062968911337222 [label=\"Converter.convert\" id=2903062968911337222]\n\t2903062968911337222 -> 852842466831624100 [id=\"2903062968911337222.args[0]\"]\n\t-3590883686264525135 -> -3052203273464861294 [id=\"-4974165390111393856.args[1]\"]\n\t-3052203273464861294 [label=\"Maybe.nothing\" id=-3052203273464861294]\n\t-3590883686264525135 -> -4316034631652130263 [id=\"-4974165390111393856.args[2]\"]\n\t-4316034631652130263 [label=\"Abstraction.__add__\" id=4127710310388454811]\n\t-4316034631652130263 -> -524300340023843831 [id=\"4127710310388454811.args[0]\"]\n\t-524300340023843831 [label=\"Abstraction.create\" id=-7507020889469263454]\n\t-524300340023843831 -> -8009119954895460388 [id=\"-7507020889469263454.args[0]\"]\n\t-8009119954895460388 [label=\"Abstraction.create_variable\" id=-8009119954895460388]\n\t-8009119954895460388 -> 1599161666292833159 [id=\"-8009119954895460388.args[0]\"]\n\t1599161666292833159 [label=\"Variable(4549501448)\" id=1599161666292833159]\n\t-524300340023843831 -> 8351397859519109505 [id=\"-7507020889469263454.args[1]\"]\n\t8351397859519109505 [label=\"Maybe.just\" id=8351397859519109505]\n\t8351397859519109505 -> -8009119954895460388 [id=\"8351397859519109505.args[0]\"]\n\t-4316034631652130263 -> 878450276063681107 [id=\"4127710310388454811.args[1]\"]\n\t878450276063681107 [label=\"Abstraction.create\" id=878450276063681107]\n\t878450276063681107 -> -6499163487982209355 [id=\"878450276063681107.args[0]\"]\n\t-6499163487982209355 [label=\"Abstraction.create_variable\" id=-6499163487982209355]\n\t-6499163487982209355 -> 1599161639649727859 [id=\"-6499163487982209355.args[0]\"]\n\t1599161639649727859 [label=\"Variable(4549632072)\" id=1599161639649727859]\n\t878450276063681107 -> 4425729685164377546 [id=\"878450276063681107.args[1]\"]\n\t4425729685164377546 [label=\"Either.right\" id=4425729685164377546]\n\t4425729685164377546 -> -6499163487982209355 [id=\"4425729685164377546.args[0]\"]\n\t8450186211931925691 -> -1741944831158160669 [id=\"-1055990109103758883.args[1]\"]\n\t-1741944831158160669 [label=\"Maybe.nothing\" id=-1741944831158160669]\n\t8450186211931925691 -> -5849131892695947717 [id=\"-1055990109103758883.args[2]\"]\n\t-5849131892695947717 [label=\"Abstraction.create\" id=-5849131892695947717]\n\t-5849131892695947717 -> 7616326404151103511 [id=\"-5849131892695947717.args[0]\"]\n\t7616326404151103511 [label=\"Abstraction.create_variable\" id=7616326404151103511]\n\t7616326404151103511 -> 1599161639873810534 [id=\"7616326404151103511.args[0]\"]\n\t1599161639873810534 [label=\"Variable(4549638072)\" id=1599161639873810534]\n\t-5849131892695947717 -> -3781123388935602301 [id=\"-5849131892695947717.args[1]\"]\n\t-3781123388935602301 [label=\"Maybe.just\" id=-3781123388935602301]\n\t-3781123388935602301 -> -6242641388488469540 [id=\"-3781123388935602301.args[0]\"]\n\t-6242641388488469540 [label=\"NDArray.__getitem__\" id=-6242641388488469540]\n\t-6242641388488469540 -> -2203303042166162505 [id=\"-6242641388488469540.args[0]\"]\n\t-2203303042166162505 [label=\"Pair.left\" id=-2203303042166162505]\n\t-2203303042166162505 -> 7616326404151103511 [id=\"-2203303042166162505.args[0]\"]\n\t-6242641388488469540 -> -7578727142363371923 [id=\"-6242641388488469540.args[1]\"]\n\t-7578727142363371923 [label=\"Pair.right\" id=-7578727142363371923]\n\t-7578727142363371923 -> 7616326404151103511 [id=\"-7578727142363371923.args[0]\"]\n}",
         "label": null,
         "rule": "metadsl_core.abstraction.beta_reduce"
        },
        {
         "graph": "digraph {\n\tnode [shape=plain]\n\tedge [arrowsize=0.5 penwidth=0.5]\n\t3659108955502189240 [label=\"NDArrayCompat.to_ndarray\" id=4165022598424862665]\n\t3659108955502189240 -> -3787670070481337032 [id=\"4165022598424862665.args[0]\"]\n\t-3787670070481337032 [label=\"NDArrayCompat.from_ndarray\" id=-8054137683011941171]\n\t-3787670070481337032 -> -7364785662191049572 [id=\"-8054137683011941171.args[0]\"]\n\t-7364785662191049572 [label=\"Maybe.match\" id=-1055990109103758883]\n\t-7364785662191049572 -> -8738724501778214990 [id=\"-1055990109103758883.args[0]\"]\n\t-8738724501778214990 [label=\"Maybe.__and__\" id=-7774097712138673687]\n\t-8738724501778214990 -> -6026802563305382491 [id=\"-7774097712138673687.args[0]\"]\n\t-6026802563305382491 [label=\"Converter.convert\" id=-2612058384443202226]\n\t-6026802563305382491 -> 4867488836770560508 [id=\"-2612058384443202226.args[0]\"]\n\t4867488836770560508 [label=\"NDArrayCompat.__add__\" id=-8020448314167642308]\n\t4867488836770560508 -> -8930988476283103842 [id=\"-8020448314167642308.args[0]\"]\n\t-8930988476283103842 [label=\"NDArrayCompat.from_ndarray\" id=2204185982366297925]\n\t-8930988476283103842 -> -651403784083398801 [id=\"2204185982366297925.args[0]\"]\n\t-651403784083398801 [label=\"Abstraction.__call__\" id=-8125902144106883229]\n\t-651403784083398801 -> 6815027276318066451 [id=\"-8125902144106883229.args[0]\"]\n\t6815027276318066451 [label=\"Abstraction.__add__\" id=576327488382086654]\n\t6815027276318066451 -> 7003961003669514196 [id=\"576327488382086654.args[0]\"]\n\t7003961003669514196 [label=\"Abstraction.create\" id=-3689034126165086493]\n\t7003961003669514196 -> 8497656163443754274 [id=\"-3689034126165086493.args[0]\"]\n\t8497656163443754274 [label=\"Abstraction.create_variable\" id=8497656163443754274]\n\t8497656163443754274 -> 1599161639703854109 [id=\"8497656163443754274.args[0]\"]\n\t1599161639703854109 [label=\"Variable(4549639528)\" id=1599161639703854109]\n\t7003961003669514196 -> 7426659112406479064 [id=\"-3689034126165086493.args[1]\"]\n\t7426659112406479064 [label=\"Maybe.just\" id=7426659112406479064]\n\t7426659112406479064 -> 8497656163443754274 [id=\"7426659112406479064.args[0]\"]\n\t6815027276318066451 -> -3607651342286296696 [id=\"576327488382086654.args[1]\"]\n\t-3607651342286296696 [label=\"Abstraction.create\" id=-3607651342286296696]\n\t-3607651342286296696 -> -9156363857593975122 [id=\"-3607651342286296696.args[0]\"]\n\t-9156363857593975122 [label=\"Abstraction.create_variable\" id=-9156363857593975122]\n\t-9156363857593975122 -> 1599161652712557034 [id=\"-9156363857593975122.args[0]\"]\n\t1599161652712557034 [label=\"Variable(4549677688)\" id=1599161652712557034]\n\t-3607651342286296696 -> 4236997518345950211 [id=\"-3607651342286296696.args[1]\"]\n\t4236997518345950211 [label=arange_ id=4236997518345950211]\n\t4236997518345950211 -> -9156363857593975122 [id=\"4236997518345950211.args[0]\"]\n\t-651403784083398801 -> -6362610179852757995 [id=\"-8125902144106883229.args[1]\"]\n\t-6362610179852757995 [label=\"Integer.from_int\" id=-6362610179852757995]\n\t-6362610179852757995 -> 852842466726619175 [id=\"-6362610179852757995.args[0]\"]\n\t852842466726619175 [label=100 id=852842466726619175]\n\t4867488836770560508 -> -8930988476283103842 [id=\"-8020448314167642308.args[1]\"]\n\t-8738724501778214990 -> -571292593498884750 [id=\"-7774097712138673687.args[1]\"]\n\t-571292593498884750 [label=\"Maybe.just\" id=6606662420229354367]\n\t-571292593498884750 -> 2234741608541215826 [id=\"6606662420229354367.args[0]\"]\n\t2234741608541215826 [label=\"Either.left\" id=2234741608541215826]\n\t2234741608541215826 -> -7334224414564589854 [id=\"2234741608541215826.args[0]\"]\n\t-7334224414564589854 [label=\"Integer.from_int\" id=-7334224414564589854]\n\t-7334224414564589854 -> 852842466831624100 [id=\"-7334224414564589854.args[0]\"]\n\t852842466831624100 [label=5 id=852842466831624100]\n\t-7364785662191049572 -> -1741944831158160669 [id=\"-1055990109103758883.args[1]\"]\n\t-1741944831158160669 [label=\"Maybe.nothing\" id=-1741944831158160669]\n\t-7364785662191049572 -> -5849131892695947717 [id=\"-1055990109103758883.args[2]\"]\n\t-5849131892695947717 [label=\"Abstraction.create\" id=-5849131892695947717]\n\t-5849131892695947717 -> 7616326404151103511 [id=\"-5849131892695947717.args[0]\"]\n\t7616326404151103511 [label=\"Abstraction.create_variable\" id=7616326404151103511]\n\t7616326404151103511 -> 1599161639873810534 [id=\"7616326404151103511.args[0]\"]\n\t1599161639873810534 [label=\"Variable(4549638072)\" id=1599161639873810534]\n\t-5849131892695947717 -> -3781123388935602301 [id=\"-5849131892695947717.args[1]\"]\n\t-3781123388935602301 [label=\"Maybe.just\" id=-3781123388935602301]\n\t-3781123388935602301 -> -6242641388488469540 [id=\"-3781123388935602301.args[0]\"]\n\t-6242641388488469540 [label=\"NDArray.__getitem__\" id=-6242641388488469540]\n\t-6242641388488469540 -> -2203303042166162505 [id=\"-6242641388488469540.args[0]\"]\n\t-2203303042166162505 [label=\"Pair.left\" id=-2203303042166162505]\n\t-2203303042166162505 -> 7616326404151103511 [id=\"-2203303042166162505.args[0]\"]\n\t-6242641388488469540 -> -7578727142363371923 [id=\"-6242641388488469540.args[1]\"]\n\t-7578727142363371923 [label=\"Pair.right\" id=-7578727142363371923]\n\t-7578727142363371923 -> 7616326404151103511 [id=\"-7578727142363371923.args[0]\"]\n}",
         "label": null,
         "rule": "metadsl_core.maybe.maybe_or"
        },
        {
         "graph": "digraph {\n\tnode [shape=plain]\n\tedge [arrowsize=0.5 penwidth=0.5]\n\t48187019571414214 [label=\"NDArrayCompat.to_ndarray\" id=4165022598424862665]\n\t48187019571414214 -> 8127935577886256998 [id=\"4165022598424862665.args[0]\"]\n\t8127935577886256998 [label=\"NDArrayCompat.from_ndarray\" id=-8054137683011941171]\n\t8127935577886256998 -> -2097076808746091769 [id=\"-8054137683011941171.args[0]\"]\n\t-2097076808746091769 [label=\"Maybe.match\" id=-1055990109103758883]\n\t-2097076808746091769 -> 1432287808875976594 [id=\"-1055990109103758883.args[0]\"]\n\t1432287808875976594 [label=\"Maybe.__and__\" id=-7774097712138673687]\n\t1432287808875976594 -> -2543239021466432252 [id=\"-7774097712138673687.args[0]\"]\n\t-2543239021466432252 [label=\"Converter.convert\" id=-2612058384443202226]\n\t-2543239021466432252 -> -3947284529329432452 [id=\"-2612058384443202226.args[0]\"]\n\t-3947284529329432452 [label=\"NDArrayCompat.__add__\" id=-8020448314167642308]\n\t-3947284529329432452 -> -2980477199811135322 [id=\"-8020448314167642308.args[0]\"]\n\t-2980477199811135322 [label=\"NDArrayCompat.from_ndarray\" id=2204185982366297925]\n\t-2980477199811135322 -> -2313527872926375608 [id=\"2204185982366297925.args[0]\"]\n\t-2313527872926375608 [label=\"Abstraction.__call__\" id=-8125902144106883229]\n\t-2313527872926375608 -> 5710602366917524060 [id=\"-8125902144106883229.args[0]\"]\n\t5710602366917524060 [label=\"Abstraction.create\" id=576327488382086654]\n\t5710602366917524060 -> -9156363857593975122 [id=\"576327488382086654.args[0]\"]\n\t-9156363857593975122 [label=\"Abstraction.create_variable\" id=-9156363857593975122]\n\t-9156363857593975122 -> 1599161652712557034 [id=\"-9156363857593975122.args[0]\"]\n\t1599161652712557034 [label=\"Variable(4549677688)\" id=1599161652712557034]\n\t5710602366917524060 -> 7180603756957825861 [id=\"576327488382086654.args[1]\"]\n\t7180603756957825861 [label=\"Maybe.just\" id=7180603756957825861]\n\t7180603756957825861 -> 4236997518345950211 [id=\"7180603756957825861.args[0]\"]\n\t4236997518345950211 [label=arange_ id=4236997518345950211]\n\t4236997518345950211 -> -9156363857593975122 [id=\"4236997518345950211.args[0]\"]\n\t-2313527872926375608 -> -6362610179852757995 [id=\"-8125902144106883229.args[1]\"]\n\t-6362610179852757995 [label=\"Integer.from_int\" id=-6362610179852757995]\n\t-6362610179852757995 -> 852842466726619175 [id=\"-6362610179852757995.args[0]\"]\n\t852842466726619175 [label=100 id=852842466726619175]\n\t-3947284529329432452 -> -2980477199811135322 [id=\"-8020448314167642308.args[1]\"]\n\t1432287808875976594 -> -571292593498884750 [id=\"-7774097712138673687.args[1]\"]\n\t-571292593498884750 [label=\"Maybe.just\" id=6606662420229354367]\n\t-571292593498884750 -> 2234741608541215826 [id=\"6606662420229354367.args[0]\"]\n\t2234741608541215826 [label=\"Either.left\" id=2234741608541215826]\n\t2234741608541215826 -> -7334224414564589854 [id=\"2234741608541215826.args[0]\"]\n\t-7334224414564589854 [label=\"Integer.from_int\" id=-7334224414564589854]\n\t-7334224414564589854 -> 852842466831624100 [id=\"-7334224414564589854.args[0]\"]\n\t852842466831624100 [label=5 id=852842466831624100]\n\t-2097076808746091769 -> -1741944831158160669 [id=\"-1055990109103758883.args[1]\"]\n\t-1741944831158160669 [label=\"Maybe.nothing\" id=-1741944831158160669]\n\t-2097076808746091769 -> -5849131892695947717 [id=\"-1055990109103758883.args[2]\"]\n\t-5849131892695947717 [label=\"Abstraction.create\" id=-5849131892695947717]\n\t-5849131892695947717 -> 7616326404151103511 [id=\"-5849131892695947717.args[0]\"]\n\t7616326404151103511 [label=\"Abstraction.create_variable\" id=7616326404151103511]\n\t7616326404151103511 -> 1599161639873810534 [id=\"7616326404151103511.args[0]\"]\n\t1599161639873810534 [label=\"Variable(4549638072)\" id=1599161639873810534]\n\t-5849131892695947717 -> -3781123388935602301 [id=\"-5849131892695947717.args[1]\"]\n\t-3781123388935602301 [label=\"Maybe.just\" id=-3781123388935602301]\n\t-3781123388935602301 -> -6242641388488469540 [id=\"-3781123388935602301.args[0]\"]\n\t-6242641388488469540 [label=\"NDArray.__getitem__\" id=-6242641388488469540]\n\t-6242641388488469540 -> -2203303042166162505 [id=\"-6242641388488469540.args[0]\"]\n\t-2203303042166162505 [label=\"Pair.left\" id=-2203303042166162505]\n\t-2203303042166162505 -> 7616326404151103511 [id=\"-2203303042166162505.args[0]\"]\n\t-6242641388488469540 -> -7578727142363371923 [id=\"-6242641388488469540.args[1]\"]\n\t-7578727142363371923 [label=\"Pair.right\" id=-7578727142363371923]\n\t-7578727142363371923 -> 7616326404151103511 [id=\"-7578727142363371923.args[0]\"]\n}",
         "label": null,
         "rule": "metadsl_core.abstraction.compose"
        },
        {
         "graph": "digraph {\n\tnode [shape=plain]\n\tedge [arrowsize=0.5 penwidth=0.5]\n\t-4681697684847155292 [label=\"NDArrayCompat.to_ndarray\" id=4165022598424862665]\n\t-4681697684847155292 -> -5149631899159039979 [id=\"4165022598424862665.args[0]\"]\n\t-5149631899159039979 [label=\"NDArrayCompat.from_ndarray\" id=-8054137683011941171]\n\t-5149631899159039979 -> 7967578635331361165 [id=\"-8054137683011941171.args[0]\"]\n\t7967578635331361165 [label=\"Maybe.match\" id=-1055990109103758883]\n\t7967578635331361165 -> -557126145891318584 [id=\"-1055990109103758883.args[0]\"]\n\t-557126145891318584 [label=\"Maybe.__and__\" id=-7774097712138673687]\n\t-557126145891318584 -> 338140197606853017 [id=\"-7774097712138673687.args[0]\"]\n\t338140197606853017 [label=\"Converter.convert\" id=-2612058384443202226]\n\t338140197606853017 -> -4699293650293600044 [id=\"-2612058384443202226.args[0]\"]\n\t-4699293650293600044 [label=\"NDArrayCompat.__add__\" id=-8020448314167642308]\n\t-4699293650293600044 -> -7076490350121616374 [id=\"-8020448314167642308.args[0]\"]\n\t-7076490350121616374 [label=\"NDArrayCompat.from_ndarray\" id=2204185982366297925]\n\t-7076490350121616374 -> -1163157815125262957 [id=\"2204185982366297925.args[0]\"]\n\t-1163157815125262957 [label=\"Maybe.just\" id=-8125902144106883229]\n\t-1163157815125262957 -> -2728638420105509621 [id=\"-8125902144106883229.args[0]\"]\n\t-2728638420105509621 [label=arange_ id=-2728638420105509621]\n\t-2728638420105509621 -> -6362610179852757995 [id=\"-2728638420105509621.args[0]\"]\n\t-6362610179852757995 [label=\"Integer.from_int\" id=-6362610179852757995]\n\t-6362610179852757995 -> 852842466726619175 [id=\"-6362610179852757995.args[0]\"]\n\t852842466726619175 [label=100 id=852842466726619175]\n\t-4699293650293600044 -> -7076490350121616374 [id=\"-8020448314167642308.args[1]\"]\n\t-557126145891318584 -> -571292593498884750 [id=\"-7774097712138673687.args[1]\"]\n\t-571292593498884750 [label=\"Maybe.just\" id=6606662420229354367]\n\t-571292593498884750 -> 2234741608541215826 [id=\"6606662420229354367.args[0]\"]\n\t2234741608541215826 [label=\"Either.left\" id=2234741608541215826]\n\t2234741608541215826 -> -7334224414564589854 [id=\"2234741608541215826.args[0]\"]\n\t-7334224414564589854 [label=\"Integer.from_int\" id=-7334224414564589854]\n\t-7334224414564589854 -> 852842466831624100 [id=\"-7334224414564589854.args[0]\"]\n\t852842466831624100 [label=5 id=852842466831624100]\n\t7967578635331361165 -> -1741944831158160669 [id=\"-1055990109103758883.args[1]\"]\n\t-1741944831158160669 [label=\"Maybe.nothing\" id=-1741944831158160669]\n\t7967578635331361165 -> -5849131892695947717 [id=\"-1055990109103758883.args[2]\"]\n\t-5849131892695947717 [label=\"Abstraction.create\" id=-5849131892695947717]\n\t-5849131892695947717 -> 7616326404151103511 [id=\"-5849131892695947717.args[0]\"]\n\t7616326404151103511 [label=\"Abstraction.create_variable\" id=7616326404151103511]\n\t7616326404151103511 -> 1599161639873810534 [id=\"7616326404151103511.args[0]\"]\n\t1599161639873810534 [label=\"Variable(4549638072)\" id=1599161639873810534]\n\t-5849131892695947717 -> -3781123388935602301 [id=\"-5849131892695947717.args[1]\"]\n\t-3781123388935602301 [label=\"Maybe.just\" id=-3781123388935602301]\n\t-3781123388935602301 -> -6242641388488469540 [id=\"-3781123388935602301.args[0]\"]\n\t-6242641388488469540 [label=\"NDArray.__getitem__\" id=-6242641388488469540]\n\t-6242641388488469540 -> -2203303042166162505 [id=\"-6242641388488469540.args[0]\"]\n\t-2203303042166162505 [label=\"Pair.left\" id=-2203303042166162505]\n\t-2203303042166162505 -> 7616326404151103511 [id=\"-2203303042166162505.args[0]\"]\n\t-6242641388488469540 -> -7578727142363371923 [id=\"-6242641388488469540.args[1]\"]\n\t-7578727142363371923 [label=\"Pair.right\" id=-7578727142363371923]\n\t-7578727142363371923 -> 7616326404151103511 [id=\"-7578727142363371923.args[0]\"]\n}",
         "label": null,
         "rule": "metadsl_core.abstraction.beta_reduce"
        },
        {
         "graph": "digraph {\n\tnode [shape=plain]\n\tedge [arrowsize=0.5 penwidth=0.5]\n\t-4655249603592277273 [label=\"NDArrayCompat.to_ndarray\" id=4165022598424862665]\n\t-4655249603592277273 -> -1204856444816838500 [id=\"4165022598424862665.args[0]\"]\n\t-1204856444816838500 [label=\"NDArrayCompat.from_ndarray\" id=-8054137683011941171]\n\t-1204856444816838500 -> -5980548734597163353 [id=\"-8054137683011941171.args[0]\"]\n\t-5980548734597163353 [label=\"Maybe.match\" id=-1055990109103758883]\n\t-5980548734597163353 -> 2610055142882305649 [id=\"-1055990109103758883.args[0]\"]\n\t2610055142882305649 [label=\"Maybe.__and__\" id=-7774097712138673687]\n\t2610055142882305649 -> -5891830971523934250 [id=\"-7774097712138673687.args[0]\"]\n\t-5891830971523934250 [label=\"Converter.convert\" id=-2612058384443202226]\n\t-5891830971523934250 -> -4608393608812827134 [id=\"-2612058384443202226.args[0]\"]\n\t-4608393608812827134 [label=\"NDArrayCompat.from_ndarray\" id=-8020448314167642308]\n\t-4608393608812827134 -> 5050840167957568185 [id=\"-8020448314167642308.args[0]\"]\n\t5050840167957568185 [label=\"Maybe.just\" id=5050840167957568185]\n\t5050840167957568185 -> 7295427386607788938 [id=\"5050840167957568185.args[0]\"]\n\t7295427386607788938 [label=\"NDArray.__add__\" id=7295427386607788938]\n\t7295427386607788938 -> -2728638420105509621 [id=\"7295427386607788938.args[0]\"]\n\t-2728638420105509621 [label=arange_ id=-2728638420105509621]\n\t-2728638420105509621 -> -6362610179852757995 [id=\"-2728638420105509621.args[0]\"]\n\t-6362610179852757995 [label=\"Integer.from_int\" id=-6362610179852757995]\n\t-6362610179852757995 -> 852842466726619175 [id=\"-6362610179852757995.args[0]\"]\n\t852842466726619175 [label=100 id=852842466726619175]\n\t7295427386607788938 -> -2728638420105509621 [id=\"7295427386607788938.args[1]\"]\n\t2610055142882305649 -> -571292593498884750 [id=\"-7774097712138673687.args[1]\"]\n\t-571292593498884750 [label=\"Maybe.just\" id=6606662420229354367]\n\t-571292593498884750 -> 2234741608541215826 [id=\"6606662420229354367.args[0]\"]\n\t2234741608541215826 [label=\"Either.left\" id=2234741608541215826]\n\t2234741608541215826 -> -7334224414564589854 [id=\"2234741608541215826.args[0]\"]\n\t-7334224414564589854 [label=\"Integer.from_int\" id=-7334224414564589854]\n\t-7334224414564589854 -> 852842466831624100 [id=\"-7334224414564589854.args[0]\"]\n\t852842466831624100 [label=5 id=852842466831624100]\n\t-5980548734597163353 -> -1741944831158160669 [id=\"-1055990109103758883.args[1]\"]\n\t-1741944831158160669 [label=\"Maybe.nothing\" id=-1741944831158160669]\n\t-5980548734597163353 -> -5849131892695947717 [id=\"-1055990109103758883.args[2]\"]\n\t-5849131892695947717 [label=\"Abstraction.create\" id=-5849131892695947717]\n\t-5849131892695947717 -> 7616326404151103511 [id=\"-5849131892695947717.args[0]\"]\n\t7616326404151103511 [label=\"Abstraction.create_variable\" id=7616326404151103511]\n\t7616326404151103511 -> 1599161639873810534 [id=\"7616326404151103511.args[0]\"]\n\t1599161639873810534 [label=\"Variable(4549638072)\" id=1599161639873810534]\n\t-5849131892695947717 -> -3781123388935602301 [id=\"-5849131892695947717.args[1]\"]\n\t-3781123388935602301 [label=\"Maybe.just\" id=-3781123388935602301]\n\t-3781123388935602301 -> -6242641388488469540 [id=\"-3781123388935602301.args[0]\"]\n\t-6242641388488469540 [label=\"NDArray.__getitem__\" id=-6242641388488469540]\n\t-6242641388488469540 -> -2203303042166162505 [id=\"-6242641388488469540.args[0]\"]\n\t-2203303042166162505 [label=\"Pair.left\" id=-2203303042166162505]\n\t-2203303042166162505 -> 7616326404151103511 [id=\"-2203303042166162505.args[0]\"]\n\t-6242641388488469540 -> -7578727142363371923 [id=\"-6242641388488469540.args[1]\"]\n\t-7578727142363371923 [label=\"Pair.right\" id=-7578727142363371923]\n\t-7578727142363371923 -> 7616326404151103511 [id=\"-7578727142363371923.args[0]\"]\n}",
         "label": null,
         "rule": "metadsl_core.numpy.add_compat"
        },
        {
         "graph": "digraph {\n\tnode [shape=plain]\n\tedge [arrowsize=0.5 penwidth=0.5]\n\t6317892281008984646 [label=\"NDArrayCompat.to_ndarray\" id=4165022598424862665]\n\t6317892281008984646 -> -3356482032731387926 [id=\"4165022598424862665.args[0]\"]\n\t-3356482032731387926 [label=\"NDArrayCompat.from_ndarray\" id=-8054137683011941171]\n\t-3356482032731387926 -> -3830912570336408588 [id=\"-8054137683011941171.args[0]\"]\n\t-3830912570336408588 [label=\"Maybe.match\" id=-1055990109103758883]\n\t-3830912570336408588 -> -7781987752522514566 [id=\"-1055990109103758883.args[0]\"]\n\t-7781987752522514566 [label=\"Maybe.__and__\" id=-7774097712138673687]\n\t-7781987752522514566 -> 5050840167957568185 [id=\"-7774097712138673687.args[0]\"]\n\t5050840167957568185 [label=\"Maybe.just\" id=5050840167957568185]\n\t5050840167957568185 -> 7295427386607788938 [id=\"5050840167957568185.args[0]\"]\n\t7295427386607788938 [label=\"NDArray.__add__\" id=7295427386607788938]\n\t7295427386607788938 -> -2728638420105509621 [id=\"7295427386607788938.args[0]\"]\n\t-2728638420105509621 [label=arange_ id=-2728638420105509621]\n\t-2728638420105509621 -> -6362610179852757995 [id=\"-2728638420105509621.args[0]\"]\n\t-6362610179852757995 [label=\"Integer.from_int\" id=-6362610179852757995]\n\t-6362610179852757995 -> 852842466726619175 [id=\"-6362610179852757995.args[0]\"]\n\t852842466726619175 [label=100 id=852842466726619175]\n\t7295427386607788938 -> -2728638420105509621 [id=\"7295427386607788938.args[1]\"]\n\t-7781987752522514566 -> -571292593498884750 [id=\"-7774097712138673687.args[1]\"]\n\t-571292593498884750 [label=\"Maybe.just\" id=6606662420229354367]\n\t-571292593498884750 -> 2234741608541215826 [id=\"6606662420229354367.args[0]\"]\n\t2234741608541215826 [label=\"Either.left\" id=2234741608541215826]\n\t2234741608541215826 -> -7334224414564589854 [id=\"2234741608541215826.args[0]\"]\n\t-7334224414564589854 [label=\"Integer.from_int\" id=-7334224414564589854]\n\t-7334224414564589854 -> 852842466831624100 [id=\"-7334224414564589854.args[0]\"]\n\t852842466831624100 [label=5 id=852842466831624100]\n\t-3830912570336408588 -> -1741944831158160669 [id=\"-1055990109103758883.args[1]\"]\n\t-1741944831158160669 [label=\"Maybe.nothing\" id=-1741944831158160669]\n\t-3830912570336408588 -> -5849131892695947717 [id=\"-1055990109103758883.args[2]\"]\n\t-5849131892695947717 [label=\"Abstraction.create\" id=-5849131892695947717]\n\t-5849131892695947717 -> 7616326404151103511 [id=\"-5849131892695947717.args[0]\"]\n\t7616326404151103511 [label=\"Abstraction.create_variable\" id=7616326404151103511]\n\t7616326404151103511 -> 1599161639873810534 [id=\"7616326404151103511.args[0]\"]\n\t1599161639873810534 [label=\"Variable(4549638072)\" id=1599161639873810534]\n\t-5849131892695947717 -> -3781123388935602301 [id=\"-5849131892695947717.args[1]\"]\n\t-3781123388935602301 [label=\"Maybe.just\" id=-3781123388935602301]\n\t-3781123388935602301 -> -6242641388488469540 [id=\"-3781123388935602301.args[0]\"]\n\t-6242641388488469540 [label=\"NDArray.__getitem__\" id=-6242641388488469540]\n\t-6242641388488469540 -> -2203303042166162505 [id=\"-6242641388488469540.args[0]\"]\n\t-2203303042166162505 [label=\"Pair.left\" id=-2203303042166162505]\n\t-2203303042166162505 -> 7616326404151103511 [id=\"-2203303042166162505.args[0]\"]\n\t-6242641388488469540 -> -7578727142363371923 [id=\"-6242641388488469540.args[1]\"]\n\t-7578727142363371923 [label=\"Pair.right\" id=-7578727142363371923]\n\t-7578727142363371923 -> 7616326404151103511 [id=\"-7578727142363371923.args[0]\"]\n}",
         "label": null,
         "rule": "metadsl_core.numpy.convert_to_ndarray"
        },
        {
         "graph": "digraph {\n\tnode [shape=plain]\n\tedge [arrowsize=0.5 penwidth=0.5]\n\t5580781905710314117 [label=\"NDArrayCompat.to_ndarray\" id=4165022598424862665]\n\t5580781905710314117 -> 8969952725409257859 [id=\"4165022598424862665.args[0]\"]\n\t8969952725409257859 [label=\"NDArrayCompat.from_ndarray\" id=-8054137683011941171]\n\t8969952725409257859 -> 8319209501349130299 [id=\"-8054137683011941171.args[0]\"]\n\t8319209501349130299 [label=\"Maybe.match\" id=-1055990109103758883]\n\t8319209501349130299 -> 6427508265334465884 [id=\"-1055990109103758883.args[0]\"]\n\t6427508265334465884 [label=\"Maybe.just\" id=-7774097712138673687]\n\t6427508265334465884 -> -3417637043715638955 [id=\"-7774097712138673687.args[0]\"]\n\t-3417637043715638955 [label=\"Pair.create\" id=-3417637043715638955]\n\t-3417637043715638955 -> 7295427386607788938 [id=\"-3417637043715638955.args[0]\"]\n\t7295427386607788938 [label=\"NDArray.__add__\" id=7295427386607788938]\n\t7295427386607788938 -> -2728638420105509621 [id=\"7295427386607788938.args[0]\"]\n\t-2728638420105509621 [label=arange_ id=-2728638420105509621]\n\t-2728638420105509621 -> -6362610179852757995 [id=\"-2728638420105509621.args[0]\"]\n\t-6362610179852757995 [label=\"Integer.from_int\" id=-6362610179852757995]\n\t-6362610179852757995 -> 852842466726619175 [id=\"-6362610179852757995.args[0]\"]\n\t852842466726619175 [label=100 id=852842466726619175]\n\t7295427386607788938 -> -2728638420105509621 [id=\"7295427386607788938.args[1]\"]\n\t-3417637043715638955 -> 2234741608541215826 [id=\"-3417637043715638955.args[1]\"]\n\t2234741608541215826 [label=\"Either.left\" id=2234741608541215826]\n\t2234741608541215826 -> -7334224414564589854 [id=\"2234741608541215826.args[0]\"]\n\t-7334224414564589854 [label=\"Integer.from_int\" id=-7334224414564589854]\n\t-7334224414564589854 -> 852842466831624100 [id=\"-7334224414564589854.args[0]\"]\n\t852842466831624100 [label=5 id=852842466831624100]\n\t8319209501349130299 -> -1741944831158160669 [id=\"-1055990109103758883.args[1]\"]\n\t-1741944831158160669 [label=\"Maybe.nothing\" id=-1741944831158160669]\n\t8319209501349130299 -> -5849131892695947717 [id=\"-1055990109103758883.args[2]\"]\n\t-5849131892695947717 [label=\"Abstraction.create\" id=-5849131892695947717]\n\t-5849131892695947717 -> 7616326404151103511 [id=\"-5849131892695947717.args[0]\"]\n\t7616326404151103511 [label=\"Abstraction.create_variable\" id=7616326404151103511]\n\t7616326404151103511 -> 1599161639873810534 [id=\"7616326404151103511.args[0]\"]\n\t1599161639873810534 [label=\"Variable(4549638072)\" id=1599161639873810534]\n\t-5849131892695947717 -> -3781123388935602301 [id=\"-5849131892695947717.args[1]\"]\n\t-3781123388935602301 [label=\"Maybe.just\" id=-3781123388935602301]\n\t-3781123388935602301 -> -6242641388488469540 [id=\"-3781123388935602301.args[0]\"]\n\t-6242641388488469540 [label=\"NDArray.__getitem__\" id=-6242641388488469540]\n\t-6242641388488469540 -> -2203303042166162505 [id=\"-6242641388488469540.args[0]\"]\n\t-2203303042166162505 [label=\"Pair.left\" id=-2203303042166162505]\n\t-2203303042166162505 -> 7616326404151103511 [id=\"-2203303042166162505.args[0]\"]\n\t-6242641388488469540 -> -7578727142363371923 [id=\"-6242641388488469540.args[1]\"]\n\t-7578727142363371923 [label=\"Pair.right\" id=-7578727142363371923]\n\t-7578727142363371923 -> 7616326404151103511 [id=\"-7578727142363371923.args[0]\"]\n}",
         "label": null,
         "rule": "metadsl_core.maybe.maybe_and"
        },
        {
         "graph": "digraph {\n\tnode [shape=plain]\n\tedge [arrowsize=0.5 penwidth=0.5]\n\t5059275132099476370 [label=\"NDArrayCompat.to_ndarray\" id=4165022598424862665]\n\t5059275132099476370 -> 6273001340327855699 [id=\"4165022598424862665.args[0]\"]\n\t6273001340327855699 [label=\"NDArrayCompat.from_ndarray\" id=-8054137683011941171]\n\t6273001340327855699 -> -3740630418154875537 [id=\"-8054137683011941171.args[0]\"]\n\t-3740630418154875537 [label=\"Abstraction.__call__\" id=-1055990109103758883]\n\t-3740630418154875537 -> -5849131892695947717 [id=\"-1055990109103758883.args[0]\"]\n\t-5849131892695947717 [label=\"Abstraction.create\" id=-5849131892695947717]\n\t-5849131892695947717 -> 7616326404151103511 [id=\"-5849131892695947717.args[0]\"]\n\t7616326404151103511 [label=\"Abstraction.create_variable\" id=7616326404151103511]\n\t7616326404151103511 -> 1599161639873810534 [id=\"7616326404151103511.args[0]\"]\n\t1599161639873810534 [label=\"Variable(4549638072)\" id=1599161639873810534]\n\t-5849131892695947717 -> -3781123388935602301 [id=\"-5849131892695947717.args[1]\"]\n\t-3781123388935602301 [label=\"Maybe.just\" id=-3781123388935602301]\n\t-3781123388935602301 -> -6242641388488469540 [id=\"-3781123388935602301.args[0]\"]\n\t-6242641388488469540 [label=\"NDArray.__getitem__\" id=-6242641388488469540]\n\t-6242641388488469540 -> -2203303042166162505 [id=\"-6242641388488469540.args[0]\"]\n\t-2203303042166162505 [label=\"Pair.left\" id=-2203303042166162505]\n\t-2203303042166162505 -> 7616326404151103511 [id=\"-2203303042166162505.args[0]\"]\n\t-6242641388488469540 -> -7578727142363371923 [id=\"-6242641388488469540.args[1]\"]\n\t-7578727142363371923 [label=\"Pair.right\" id=-7578727142363371923]\n\t-7578727142363371923 -> 7616326404151103511 [id=\"-7578727142363371923.args[0]\"]\n\t-3740630418154875537 -> -3417637043715638955 [id=\"-1055990109103758883.args[1]\"]\n\t-3417637043715638955 [label=\"Pair.create\" id=-3417637043715638955]\n\t-3417637043715638955 -> 7295427386607788938 [id=\"-3417637043715638955.args[0]\"]\n\t7295427386607788938 [label=\"NDArray.__add__\" id=7295427386607788938]\n\t7295427386607788938 -> -2728638420105509621 [id=\"7295427386607788938.args[0]\"]\n\t-2728638420105509621 [label=arange_ id=-2728638420105509621]\n\t-2728638420105509621 -> -6362610179852757995 [id=\"-2728638420105509621.args[0]\"]\n\t-6362610179852757995 [label=\"Integer.from_int\" id=-6362610179852757995]\n\t-6362610179852757995 -> 852842466726619175 [id=\"-6362610179852757995.args[0]\"]\n\t852842466726619175 [label=100 id=852842466726619175]\n\t7295427386607788938 -> -2728638420105509621 [id=\"7295427386607788938.args[1]\"]\n\t-3417637043715638955 -> 2234741608541215826 [id=\"-3417637043715638955.args[1]\"]\n\t2234741608541215826 [label=\"Either.left\" id=2234741608541215826]\n\t2234741608541215826 -> -7334224414564589854 [id=\"2234741608541215826.args[0]\"]\n\t-7334224414564589854 [label=\"Integer.from_int\" id=-7334224414564589854]\n\t-7334224414564589854 -> 852842466831624100 [id=\"-7334224414564589854.args[0]\"]\n\t852842466831624100 [label=5 id=852842466831624100]\n}",
         "label": null,
         "rule": "metadsl_core.maybe.maybe_match"
        },
        {
         "graph": "digraph {\n\tnode [shape=plain]\n\tedge [arrowsize=0.5 penwidth=0.5]\n\t8084026966032417544 [label=\"NDArrayCompat.to_ndarray\" id=4165022598424862665]\n\t8084026966032417544 -> -3198979504917696568 [id=\"4165022598424862665.args[0]\"]\n\t-3198979504917696568 [label=\"NDArrayCompat.from_ndarray\" id=-8054137683011941171]\n\t-3198979504917696568 -> -5959028095944793269 [id=\"-8054137683011941171.args[0]\"]\n\t-5959028095944793269 [label=\"Maybe.just\" id=-1055990109103758883]\n\t-5959028095944793269 -> 6336738595663581056 [id=\"-1055990109103758883.args[0]\"]\n\t6336738595663581056 [label=\"NDArray.__getitem__\" id=6336738595663581056]\n\t6336738595663581056 -> -2166330811180776367 [id=\"6336738595663581056.args[0]\"]\n\t-2166330811180776367 [label=\"Pair.left\" id=-2166330811180776367]\n\t-2166330811180776367 -> -3417637043715638955 [id=\"-2166330811180776367.args[0]\"]\n\t-3417637043715638955 [label=\"Pair.create\" id=-3417637043715638955]\n\t-3417637043715638955 -> 7295427386607788938 [id=\"-3417637043715638955.args[0]\"]\n\t7295427386607788938 [label=\"NDArray.__add__\" id=7295427386607788938]\n\t7295427386607788938 -> -2728638420105509621 [id=\"7295427386607788938.args[0]\"]\n\t-2728638420105509621 [label=arange_ id=-2728638420105509621]\n\t-2728638420105509621 -> -6362610179852757995 [id=\"-2728638420105509621.args[0]\"]\n\t-6362610179852757995 [label=\"Integer.from_int\" id=-6362610179852757995]\n\t-6362610179852757995 -> 852842466726619175 [id=\"-6362610179852757995.args[0]\"]\n\t852842466726619175 [label=100 id=852842466726619175]\n\t7295427386607788938 -> -2728638420105509621 [id=\"7295427386607788938.args[1]\"]\n\t-3417637043715638955 -> 2234741608541215826 [id=\"-3417637043715638955.args[1]\"]\n\t2234741608541215826 [label=\"Either.left\" id=2234741608541215826]\n\t2234741608541215826 -> -7334224414564589854 [id=\"2234741608541215826.args[0]\"]\n\t-7334224414564589854 [label=\"Integer.from_int\" id=-7334224414564589854]\n\t-7334224414564589854 -> 852842466831624100 [id=\"-7334224414564589854.args[0]\"]\n\t852842466831624100 [label=5 id=852842466831624100]\n\t6336738595663581056 -> -7588579201374007797 [id=\"6336738595663581056.args[1]\"]\n\t-7588579201374007797 [label=\"Pair.right\" id=-7588579201374007797]\n\t-7588579201374007797 -> -3417637043715638955 [id=\"-7588579201374007797.args[0]\"]\n}",
         "label": null,
         "rule": "metadsl_core.abstraction.beta_reduce"
        },
        {
         "graph": "digraph {\n\tnode [shape=plain]\n\tedge [arrowsize=0.5 penwidth=0.5]\n\t2283664882045373484 [label=\"NDArrayCompat.to_ndarray\" id=4165022598424862665]\n\t2283664882045373484 -> 4201326982062544042 [id=\"4165022598424862665.args[0]\"]\n\t4201326982062544042 [label=\"NDArrayCompat.from_ndarray\" id=-8054137683011941171]\n\t4201326982062544042 -> -579534469142454861 [id=\"-8054137683011941171.args[0]\"]\n\t-579534469142454861 [label=\"Maybe.just\" id=-1055990109103758883]\n\t-579534469142454861 -> -4902155376939906580 [id=\"-1055990109103758883.args[0]\"]\n\t-4902155376939906580 [label=\"NDArray.__getitem__\" id=6336738595663581056]\n\t-4902155376939906580 -> 7295427386607788938 [id=\"6336738595663581056.args[0]\"]\n\t7295427386607788938 [label=\"NDArray.__add__\" id=7295427386607788938]\n\t7295427386607788938 -> -2728638420105509621 [id=\"7295427386607788938.args[0]\"]\n\t-2728638420105509621 [label=arange_ id=-2728638420105509621]\n\t-2728638420105509621 -> -6362610179852757995 [id=\"-2728638420105509621.args[0]\"]\n\t-6362610179852757995 [label=\"Integer.from_int\" id=-6362610179852757995]\n\t-6362610179852757995 -> 852842466726619175 [id=\"-6362610179852757995.args[0]\"]\n\t852842466726619175 [label=100 id=852842466726619175]\n\t7295427386607788938 -> -2728638420105509621 [id=\"7295427386607788938.args[1]\"]\n\t-4902155376939906580 -> -7588579201374007797 [id=\"6336738595663581056.args[1]\"]\n\t-7588579201374007797 [label=\"Pair.right\" id=-7588579201374007797]\n\t-7588579201374007797 -> -3417637043715638955 [id=\"-7588579201374007797.args[0]\"]\n\t-3417637043715638955 [label=\"Pair.create\" id=-3417637043715638955]\n\t-3417637043715638955 -> 7295427386607788938 [id=\"-3417637043715638955.args[0]\"]\n\t-3417637043715638955 -> 2234741608541215826 [id=\"-3417637043715638955.args[1]\"]\n\t2234741608541215826 [label=\"Either.left\" id=2234741608541215826]\n\t2234741608541215826 -> -7334224414564589854 [id=\"2234741608541215826.args[0]\"]\n\t-7334224414564589854 [label=\"Integer.from_int\" id=-7334224414564589854]\n\t-7334224414564589854 -> 852842466831624100 [id=\"-7334224414564589854.args[0]\"]\n\t852842466831624100 [label=5 id=852842466831624100]\n}",
         "label": null,
         "rule": "metadsl_core.pair.pair_left"
        },
        {
         "graph": "digraph {\n\tnode [shape=plain]\n\tedge [arrowsize=0.5 penwidth=0.5]\n\t652240624794251119 [label=\"NDArrayCompat.to_ndarray\" id=4165022598424862665]\n\t652240624794251119 -> -6950667504736825385 [id=\"4165022598424862665.args[0]\"]\n\t-6950667504736825385 [label=\"NDArrayCompat.from_ndarray\" id=-8054137683011941171]\n\t-6950667504736825385 -> -8894809238350107363 [id=\"-8054137683011941171.args[0]\"]\n\t-8894809238350107363 [label=\"Maybe.just\" id=-1055990109103758883]\n\t-8894809238350107363 -> -6484536546174589122 [id=\"-1055990109103758883.args[0]\"]\n\t-6484536546174589122 [label=\"NDArray.__getitem__\" id=-6484536546174589122]\n\t-6484536546174589122 -> 7295427386607788938 [id=\"-6484536546174589122.args[0]\"]\n\t7295427386607788938 [label=\"NDArray.__add__\" id=7295427386607788938]\n\t7295427386607788938 -> -2728638420105509621 [id=\"7295427386607788938.args[0]\"]\n\t-2728638420105509621 [label=arange_ id=-2728638420105509621]\n\t-2728638420105509621 -> -6362610179852757995 [id=\"-2728638420105509621.args[0]\"]\n\t-6362610179852757995 [label=\"Integer.from_int\" id=-6362610179852757995]\n\t-6362610179852757995 -> 852842466726619175 [id=\"-6362610179852757995.args[0]\"]\n\t852842466726619175 [label=100 id=852842466726619175]\n\t7295427386607788938 -> -2728638420105509621 [id=\"7295427386607788938.args[1]\"]\n\t-6484536546174589122 -> 2234741608541215826 [id=\"-6484536546174589122.args[1]\"]\n\t2234741608541215826 [label=\"Either.left\" id=2234741608541215826]\n\t2234741608541215826 -> -7334224414564589854 [id=\"2234741608541215826.args[0]\"]\n\t-7334224414564589854 [label=\"Integer.from_int\" id=-7334224414564589854]\n\t-7334224414564589854 -> 852842466831624100 [id=\"-7334224414564589854.args[0]\"]\n\t852842466831624100 [label=5 id=852842466831624100]\n}",
         "label": null,
         "rule": "metadsl_core.pair.pair_right"
        },
        {
         "graph": "digraph {\n\tnode [shape=plain]\n\tedge [arrowsize=0.5 penwidth=0.5]\n\t652240624794251119 [label=\"NDArrayCompat.to_ndarray\" id=4165022598424862665]\n\t652240624794251119 -> -6950667504736825385 [id=\"4165022598424862665.args[0]\"]\n\t-6950667504736825385 [label=\"NDArrayCompat.from_ndarray\" id=-8054137683011941171]\n\t-6950667504736825385 -> -8894809238350107363 [id=\"-8054137683011941171.args[0]\"]\n\t-8894809238350107363 [label=\"Maybe.just\" id=-1055990109103758883]\n\t-8894809238350107363 -> -6484536546174589122 [id=\"-1055990109103758883.args[0]\"]\n\t-6484536546174589122 [label=\"NDArray.__getitem__\" id=-6484536546174589122]\n\t-6484536546174589122 -> 7295427386607788938 [id=\"-6484536546174589122.args[0]\"]\n\t7295427386607788938 [label=\"NDArray.__add__\" id=7295427386607788938]\n\t7295427386607788938 -> -2728638420105509621 [id=\"7295427386607788938.args[0]\"]\n\t-2728638420105509621 [label=arange_ id=-2728638420105509621]\n\t-2728638420105509621 -> -6362610179852757995 [id=\"-2728638420105509621.args[0]\"]\n\t-6362610179852757995 [label=\"Integer.from_int\" id=-6362610179852757995]\n\t-6362610179852757995 -> 852842466726619175 [id=\"-6362610179852757995.args[0]\"]\n\t852842466726619175 [label=100 id=852842466726619175]\n\t7295427386607788938 -> -2728638420105509621 [id=\"7295427386607788938.args[1]\"]\n\t-6484536546174589122 -> 2234741608541215826 [id=\"-6484536546174589122.args[1]\"]\n\t2234741608541215826 [label=\"Either.left\" id=2234741608541215826]\n\t2234741608541215826 -> -7334224414564589854 [id=\"2234741608541215826.args[0]\"]\n\t-7334224414564589854 [label=\"Integer.from_int\" id=-7334224414564589854]\n\t-7334224414564589854 -> 852842466831624100 [id=\"-7334224414564589854.args[0]\"]\n\t852842466831624100 [label=5 id=852842466831624100]\n}",
         "label": "convert",
         "rule": ""
        },
        {
         "graph": "digraph {\n\tnode [shape=plain]\n\tedge [arrowsize=0.5 penwidth=0.5]\n\t5582787500205250909 [label=\"NDArray.to_ndarray\" id=4165022598424862665]\n\t5582787500205250909 -> -6484536546174589122 [id=\"4165022598424862665.args[0]\"]\n\t-6484536546174589122 [label=\"NDArray.__getitem__\" id=-6484536546174589122]\n\t-6484536546174589122 -> 7295427386607788938 [id=\"-6484536546174589122.args[0]\"]\n\t7295427386607788938 [label=\"NDArray.__add__\" id=7295427386607788938]\n\t7295427386607788938 -> -2728638420105509621 [id=\"7295427386607788938.args[0]\"]\n\t-2728638420105509621 [label=arange_ id=-2728638420105509621]\n\t-2728638420105509621 -> -6362610179852757995 [id=\"-2728638420105509621.args[0]\"]\n\t-6362610179852757995 [label=\"Integer.from_int\" id=-6362610179852757995]\n\t-6362610179852757995 -> 852842466726619175 [id=\"-6362610179852757995.args[0]\"]\n\t852842466726619175 [label=100 id=852842466726619175]\n\t7295427386607788938 -> -2728638420105509621 [id=\"7295427386607788938.args[1]\"]\n\t-6484536546174589122 -> 2234741608541215826 [id=\"-6484536546174589122.args[1]\"]\n\t2234741608541215826 [label=\"Either.left\" id=2234741608541215826]\n\t2234741608541215826 -> -7334224414564589854 [id=\"2234741608541215826.args[0]\"]\n\t-7334224414564589854 [label=\"Integer.from_int\" id=-7334224414564589854]\n\t-7334224414564589854 -> 852842466831624100 [id=\"-7334224414564589854.args[0]\"]\n\t852842466831624100 [label=5 id=852842466831624100]\n}",
         "label": null,
         "rule": "metadsl_core.numpy.box_unbox_ndarray_compat"
        },
        {
         "graph": "digraph {\n\tnode [shape=plain]\n\tedge [arrowsize=0.5 penwidth=0.5]\n\t5730508223048694221 [label=ndarray_getitem id=4165022598424862665]\n\t5730508223048694221 -> 88960120338462496 [id=\"4165022598424862665.args[0]\"]\n\t88960120338462496 [label=\"NDArray.to_ndarray\" id=88960120338462496]\n\t88960120338462496 -> 7295427386607788938 [id=\"88960120338462496.args[0]\"]\n\t7295427386607788938 [label=\"NDArray.__add__\" id=7295427386607788938]\n\t7295427386607788938 -> -2728638420105509621 [id=\"7295427386607788938.args[0]\"]\n\t-2728638420105509621 [label=arange_ id=-2728638420105509621]\n\t-2728638420105509621 -> -6362610179852757995 [id=\"-2728638420105509621.args[0]\"]\n\t-6362610179852757995 [label=\"Integer.from_int\" id=-6362610179852757995]\n\t-6362610179852757995 -> 852842466726619175 [id=\"-6362610179852757995.args[0]\"]\n\t852842466726619175 [label=100 id=852842466726619175]\n\t7295427386607788938 -> -2728638420105509621 [id=\"7295427386607788938.args[1]\"]\n\t5730508223048694221 -> -242142689691567201 [id=\"4165022598424862665.args[1]\"]\n\t-242142689691567201 [label=unbox_idxs id=-242142689691567201]\n\t-242142689691567201 -> 2234741608541215826 [id=\"-242142689691567201.args[0]\"]\n\t2234741608541215826 [label=\"Either.left\" id=2234741608541215826]\n\t2234741608541215826 -> -7334224414564589854 [id=\"2234741608541215826.args[0]\"]\n\t-7334224414564589854 [label=\"Integer.from_int\" id=-7334224414564589854]\n\t-7334224414564589854 -> 852842466831624100 [id=\"-7334224414564589854.args[0]\"]\n\t852842466831624100 [label=5 id=852842466831624100]\n}",
         "label": null,
         "rule": "metadsl_core.numpy_engine.unbox_ndarray_getitem"
        },
        {
         "graph": "digraph {\n\tnode [shape=plain]\n\tedge [arrowsize=0.5 penwidth=0.5]\n\t7072695247568516718 [label=ndarray_getitem id=4165022598424862665]\n\t7072695247568516718 -> -6437443823834153471 [id=\"4165022598424862665.args[0]\"]\n\t-6437443823834153471 [label=ndarray_add id=88960120338462496]\n\t-6437443823834153471 -> 8387922858404920787 [id=\"88960120338462496.args[0]\"]\n\t8387922858404920787 [label=\"NDArray.to_ndarray\" id=8387922858404920787]\n\t8387922858404920787 -> -2728638420105509621 [id=\"8387922858404920787.args[0]\"]\n\t-2728638420105509621 [label=arange_ id=-2728638420105509621]\n\t-2728638420105509621 -> -6362610179852757995 [id=\"-2728638420105509621.args[0]\"]\n\t-6362610179852757995 [label=\"Integer.from_int\" id=-6362610179852757995]\n\t-6362610179852757995 -> 852842466726619175 [id=\"-6362610179852757995.args[0]\"]\n\t852842466726619175 [label=100 id=852842466726619175]\n\t-6437443823834153471 -> 8387922858404920787 [id=\"88960120338462496.args[1]\"]\n\t7072695247568516718 -> -242142689691567201 [id=\"4165022598424862665.args[1]\"]\n\t-242142689691567201 [label=unbox_idxs id=-242142689691567201]\n\t-242142689691567201 -> 2234741608541215826 [id=\"-242142689691567201.args[0]\"]\n\t2234741608541215826 [label=\"Either.left\" id=2234741608541215826]\n\t2234741608541215826 -> -7334224414564589854 [id=\"2234741608541215826.args[0]\"]\n\t-7334224414564589854 [label=\"Integer.from_int\" id=-7334224414564589854]\n\t-7334224414564589854 -> 852842466831624100 [id=\"-7334224414564589854.args[0]\"]\n\t852842466831624100 [label=5 id=852842466831624100]\n}",
         "label": null,
         "rule": "metadsl_core.numpy_engine.unbox_ndarray_add"
        },
        {
         "graph": "digraph {\n\tnode [shape=plain]\n\tedge [arrowsize=0.5 penwidth=0.5]\n\t-3478057614712610906 [label=ndarray_getitem id=4165022598424862665]\n\t-3478057614712610906 -> -6437443823834153471 [id=\"4165022598424862665.args[0]\"]\n\t-6437443823834153471 [label=ndarray_add id=88960120338462496]\n\t-6437443823834153471 -> 8387922858404920787 [id=\"88960120338462496.args[0]\"]\n\t8387922858404920787 [label=\"NDArray.to_ndarray\" id=8387922858404920787]\n\t8387922858404920787 -> -2728638420105509621 [id=\"8387922858404920787.args[0]\"]\n\t-2728638420105509621 [label=arange_ id=-2728638420105509621]\n\t-2728638420105509621 -> -6362610179852757995 [id=\"-2728638420105509621.args[0]\"]\n\t-6362610179852757995 [label=\"Integer.from_int\" id=-6362610179852757995]\n\t-6362610179852757995 -> 852842466726619175 [id=\"-6362610179852757995.args[0]\"]\n\t852842466726619175 [label=100 id=852842466726619175]\n\t-6437443823834153471 -> 8387922858404920787 [id=\"88960120338462496.args[1]\"]\n\t-3478057614712610906 -> 7516757055623286900 [id=\"4165022598424862665.args[1]\"]\n\t7516757055623286900 [label=unbox_integer id=-242142689691567201]\n\t7516757055623286900 -> -7334224414564589854 [id=\"-242142689691567201.args[0]\"]\n\t-7334224414564589854 [label=\"Integer.from_int\" id=-7334224414564589854]\n\t-7334224414564589854 -> 852842466831624100 [id=\"-7334224414564589854.args[0]\"]\n\t852842466831624100 [label=5 id=852842466831624100]\n}",
         "label": null,
         "rule": "metadsl_core.numpy_engine.unbox_idxs_rule"
        },
        {
         "graph": "digraph {\n\tnode [shape=plain]\n\tedge [arrowsize=0.5 penwidth=0.5]\n\t-4518717273791479957 [label=ndarray_getitem id=4165022598424862665]\n\t-4518717273791479957 -> -6437443823834153471 [id=\"4165022598424862665.args[0]\"]\n\t-6437443823834153471 [label=ndarray_add id=88960120338462496]\n\t-6437443823834153471 -> 8387922858404920787 [id=\"88960120338462496.args[0]\"]\n\t8387922858404920787 [label=\"NDArray.to_ndarray\" id=8387922858404920787]\n\t8387922858404920787 -> -2728638420105509621 [id=\"8387922858404920787.args[0]\"]\n\t-2728638420105509621 [label=arange_ id=-2728638420105509621]\n\t-2728638420105509621 -> -6362610179852757995 [id=\"-2728638420105509621.args[0]\"]\n\t-6362610179852757995 [label=\"Integer.from_int\" id=-6362610179852757995]\n\t-6362610179852757995 -> 852842466726619175 [id=\"-6362610179852757995.args[0]\"]\n\t852842466726619175 [label=100 id=852842466726619175]\n\t-6437443823834153471 -> 8387922858404920787 [id=\"88960120338462496.args[1]\"]\n\t-4518717273791479957 -> 852842466831624100 [id=\"4165022598424862665.args[1]\"]\n\t852842466831624100 [label=5 id=852842466831624100]\n}",
         "label": null,
         "rule": "metadsl_core.numpy_engine.unbox_integer_rule"
        },
        {
         "graph": "digraph {\n\tnode [shape=plain]\n\tedge [arrowsize=0.5 penwidth=0.5]\n\t2434176688676008533 [label=ndarray_getitem id=4165022598424862665]\n\t2434176688676008533 -> -575799573802277263 [id=\"4165022598424862665.args[0]\"]\n\t-575799573802277263 [label=ndarray_add id=88960120338462496]\n\t-575799573802277263 -> 7193990468420720555 [id=\"88960120338462496.args[0]\"]\n\t7193990468420720555 [label=arange id=8387922858404920787]\n\t7193990468420720555 -> -3593810371421164704 [id=\"8387922858404920787.args[0]\"]\n\t-3593810371421164704 [label=unbox_integer id=-3593810371421164704]\n\t-3593810371421164704 -> -6362610179852757995 [id=\"-3593810371421164704.args[0]\"]\n\t-6362610179852757995 [label=\"Integer.from_int\" id=-6362610179852757995]\n\t-6362610179852757995 -> 852842466726619175 [id=\"-6362610179852757995.args[0]\"]\n\t852842466726619175 [label=100 id=852842466726619175]\n\t-575799573802277263 -> 7193990468420720555 [id=\"88960120338462496.args[1]\"]\n\t2434176688676008533 -> 852842466831624100 [id=\"4165022598424862665.args[1]\"]\n\t852842466831624100 [label=5 id=852842466831624100]\n}",
         "label": null,
         "rule": "metadsl_core.numpy_engine.unbox_arange"
        },
        {
         "graph": "digraph {\n\tnode [shape=plain]\n\tedge [arrowsize=0.5 penwidth=0.5]\n\t-7402593879957315393 [label=ndarray_getitem id=4165022598424862665]\n\t-7402593879957315393 -> -5627968470848797187 [id=\"4165022598424862665.args[0]\"]\n\t-5627968470848797187 [label=ndarray_add id=88960120338462496]\n\t-5627968470848797187 -> -8166652912911790717 [id=\"88960120338462496.args[0]\"]\n\t-8166652912911790717 [label=arange id=8387922858404920787]\n\t-8166652912911790717 -> 852842466726619175 [id=\"8387922858404920787.args[0]\"]\n\t852842466726619175 [label=100 id=852842466726619175]\n\t-5627968470848797187 -> -8166652912911790717 [id=\"88960120338462496.args[1]\"]\n\t-7402593879957315393 -> 852842466831624100 [id=\"4165022598424862665.args[1]\"]\n\t852842466831624100 [label=5 id=852842466831624100]\n}",
         "label": null,
         "rule": "metadsl_core.numpy_engine.unbox_integer_rule"
        },
        {
         "graph": "digraph {\n\tnode [shape=plain]\n\tedge [arrowsize=0.5 penwidth=0.5]\n\t-7402593879957315393 [label=ndarray_getitem id=4165022598424862665]\n\t-7402593879957315393 -> -5627968470848797187 [id=\"4165022598424862665.args[0]\"]\n\t-5627968470848797187 [label=ndarray_add id=88960120338462496]\n\t-5627968470848797187 -> -8166652912911790717 [id=\"88960120338462496.args[0]\"]\n\t-8166652912911790717 [label=arange id=8387922858404920787]\n\t-8166652912911790717 -> 852842466726619175 [id=\"8387922858404920787.args[0]\"]\n\t852842466726619175 [label=100 id=852842466726619175]\n\t-5627968470848797187 -> -8166652912911790717 [id=\"88960120338462496.args[1]\"]\n\t-7402593879957315393 -> 852842466831624100 [id=\"4165022598424862665.args[1]\"]\n\t852842466831624100 [label=5 id=852842466831624100]\n}",
         "label": "unbox",
         "rule": ""
        },
        {
         "graph": "digraph {\n\tnode [shape=plain]\n\tedge [arrowsize=0.5 penwidth=0.5]\n\t8753659172748810690 [label=ndarray_getitem id=4165022598424862665]\n\t8753659172748810690 -> 8462966148717783947 [id=\"4165022598424862665.args[0]\"]\n\t8462966148717783947 [label=ndarray_add id=88960120338462496]\n\t8462966148717783947 -> 6676562265208656325 [id=\"88960120338462496.args[0]\"]\n\t6676562265208656325 [label=\"array([ 0,  1,  2,  3,  4,  5,  6,  7,  8,  9, 10, 11, 12, 13, 14, 15, 16,\n       17, 18, 19, 20, 21, 22, 23, 24, 25, 26, 27, 28, 29, 30, 31, 32, 33,\n       34, 35, 36, 37, 38, 39, 40, 41, 42, 43, 44, 45, 46, 47, 48, 49, 50,\n       51, 52, 53, 54, 55, 56, 57, 58, 59, 60, 61, 62, 63, 64, 65, 66, 67,\n       68, 69, 70, 71, 72, 73, 74, 75, 76, 77, 78, 79, 80, 81, 82, 83, 84,\n       85, 86, 87, 88, 89, 90, 91, 92, 93, 94, 95, 96, 97, 98, 99])\" id=8387922858404920787]\n\t8462966148717783947 -> 6676562265208656325 [id=\"88960120338462496.args[1]\"]\n\t8753659172748810690 -> 852842466831624100 [id=\"4165022598424862665.args[1]\"]\n\t852842466831624100 [label=5 id=852842466831624100]\n}",
         "label": null,
         "rule": "metadsl_core.numpy_engine.arange"
        },
        {
         "graph": "digraph {\n\tnode [shape=plain]\n\tedge [arrowsize=0.5 penwidth=0.5]\n\t8495798021883795 [label=ndarray_getitem id=4165022598424862665]\n\t8495798021883795 -> 6676561579805787525 [id=\"4165022598424862665.args[0]\"]\n\t6676561579805787525 [label=\"array([  0,   2,   4,   6,   8,  10,  12,  14,  16,  18,  20,  22,  24,\n        26,  28,  30,  32,  34,  36,  38,  40,  42,  44,  46,  48,  50,\n        52,  54,  56,  58,  60,  62,  64,  66,  68,  70,  72,  74,  76,\n        78,  80,  82,  84,  86,  88,  90,  92,  94,  96,  98, 100, 102,\n       104, 106, 108, 110, 112, 114, 116, 118, 120, 122, 124, 126, 128,\n       130, 132, 134, 136, 138, 140, 142, 144, 146, 148, 150, 152, 154,\n       156, 158, 160, 162, 164, 166, 168, 170, 172, 174, 176, 178, 180,\n       182, 184, 186, 188, 190, 192, 194, 196, 198])\" id=88960120338462496]\n\t8495798021883795 -> 852842466831624100 [id=\"4165022598424862665.args[1]\"]\n\t852842466831624100 [label=5 id=852842466831624100]\n}",
         "label": null,
         "rule": "metadsl_core.numpy_engine.ndarray_add"
        },
        {
         "graph": "digraph {\n\tnode [shape=plain]\n\tedge [arrowsize=0.5 penwidth=0.5]\n\t6676563145414063925 [label=\"array(10)\" id=4165022598424862665]\n}",
         "label": null,
         "rule": "metadsl_core.numpy_engine.ndarray_getitem"
        },
        {
         "graph": "digraph {\n\tnode [shape=plain]\n\tedge [arrowsize=0.5 penwidth=0.5]\n\t6676563145414063925 [label=\"array(10)\" id=4165022598424862665]\n}",
         "label": "execute",
         "rule": ""
        }
       ]
      },
      "text/plain": [
       "Typez(definitions=None, nodes={'4165022598424862665': ['4165022598424862665', CallNode(function='NDArrayCompat.to_ndarray', type_params=None, args=['-8054137683011941171'], kwargs=None)], '-8054137683011941171': ['-8054137683011941171', CallNode(function='NDArrayCompat.__getitem__', type_params=None, args=['-5558510579709572674', '852842466831624100'], kwargs=None)], '-5558510579709572674': ['-5558510579709572674', CallNode(function='NDArrayCompat.__add__', type_params=None, args=['971722316536660130', '971722316536660130'], kwargs=None)], '852842466831624100': ['852842466831624100', PrimitiveNode(type='int', repr='5')], '971722316536660130': ['971722316536660130', CallNode(function='arange', type_params=None, args=['852842466726619175'], kwargs=None)], '852842466726619175': ['852842466726619175', PrimitiveNode(type='int', repr='100')], '8880641909229014926': ['4165022598424862665', CallNode(function='NDArrayCompat.to_ndarray', type_params=None, args=['-8562978656126608956'], kwargs=None)], '-8562978656126608956': ['-8054137683011941171', CallNode(function='NDArrayCompat.from_ndarray', type_params=None, args=['-1055990109103758883'], kwargs=None)], '-1055990109103758883': ['-1055990109103758883', CallNode(function='Maybe.map', type_params={'T': DeclaredTypeInstance(type='Pair', params={'U': DeclaredTypeInstance(type='Either', params={'U': DeclaredTypeInstance(type='Vec', params={'T': DeclaredTypeInstance(type='Integer', params=None)}), 'T': DeclaredTypeInstance(type='Integer', params=None)}), 'T': DeclaredTypeInstance(type='NDArray', params=None)})}, args=['-4814678537500170364', '7031873113613421220'], kwargs=None)], '-4814678537500170364': ['-4814678537500170364', CallNode(function='Maybe.__and__', type_params={'T': DeclaredTypeInstance(type='NDArray', params=None)}, args=['7947258440880147023', '-7413928963025066946'], kwargs=None)], '7031873113613421220': ['7031873113613421220', CallNode(function='Abstraction.from_fn', type_params={'U': DeclaredTypeInstance(type='NDArray', params=None), 'T': DeclaredTypeInstance(type='Pair', params={'U': DeclaredTypeInstance(type='Either', params={'U': DeclaredTypeInstance(type='Vec', params={'T': DeclaredTypeInstance(type='Integer', params=None)}), 'T': DeclaredTypeInstance(type='Integer', params=None)}), 'T': DeclaredTypeInstance(type='NDArray', params=None)})}, args=['-8369638370716816908'], kwargs=None)], '7947258440880147023': ['7947258440880147023', CallNode(function='Converter.convert', type_params={'T': DeclaredTypeInstance(type='NDArray', params=None)}, args=['-5558510579709572674'], kwargs=None)], '-7413928963025066946': ['-7413928963025066946', CallNode(function='Converter.convert', type_params={'T': DeclaredTypeInstance(type='Either', params={'U': DeclaredTypeInstance(type='Vec', params={'T': DeclaredTypeInstance(type='Integer', params=None)}), 'T': DeclaredTypeInstance(type='Integer', params=None)})}, args=['852842466831624100'], kwargs=None)], '-8369638370716816908': ['-8369638370716816908', PrimitiveNode(type='function', repr='<function NDArrayCompat.__getitem__.<locals>.<lambda> at 0x10f290840>')], '6891690128474555983': ['4165022598424862665', CallNode(function='NDArrayCompat.to_ndarray', type_params=None, args=['-4841628976487324042'], kwargs=None)], '-4841628976487324042': ['-8054137683011941171', CallNode(function='NDArrayCompat.from_ndarray', type_params=None, args=['-2721977203944501192'], kwargs=None)], '-2721977203944501192': ['-1055990109103758883', CallNode(function='Maybe.map', type_params={'T': DeclaredTypeInstance(type='Pair', params={'U': DeclaredTypeInstance(type='Either', params={'U': DeclaredTypeInstance(type='Vec', params={'T': DeclaredTypeInstance(type='Integer', params=None)}), 'T': DeclaredTypeInstance(type='Integer', params=None)}), 'T': DeclaredTypeInstance(type='NDArray', params=None)})}, args=['8199993726224451980', '7031873113613421220'], kwargs=None)], '8199993726224451980': ['-4814678537500170364', CallNode(function='Maybe.__and__', type_params={'T': DeclaredTypeInstance(type='NDArray', params=None)}, args=['7947258440880147023', '-7004180416014216026'], kwargs=None)], '-7004180416014216026': ['-7413928963025066946', CallNode(function='Maybe.__or__', type_params={'T': DeclaredTypeInstance(type='Either', params={'U': DeclaredTypeInstance(type='Vec', params={'T': DeclaredTypeInstance(type='Integer', params=None)}), 'T': DeclaredTypeInstance(type='Integer', params=None)})}, args=['5068959694142403101', '4687392789662792897'], kwargs=None)], '5068959694142403101': ['5068959694142403101', CallNode(function='Maybe.map', type_params={'T': DeclaredTypeInstance(type='Integer', params=None)}, args=['5743490207633551519', '3299436367977257648'], kwargs=None)], '4687392789662792897': ['4687392789662792897', CallNode(function='Maybe.map', type_params={'T': DeclaredTypeInstance(type='Vec', params={'T': DeclaredTypeInstance(type='Integer', params=None)})}, args=['2903062968911337222', '-8841748531208643889'], kwargs=None)], '5743490207633551519': ['5743490207633551519', CallNode(function='Converter.convert', type_params={'T': DeclaredTypeInstance(type='Integer', params=None)}, args=['852842466831624100'], kwargs=None)], '3299436367977257648': ['3299436367977257648', CallNode(function='Abstraction.from_fn', type_params=None, args=['3303217568467687651'], kwargs=None)], '2903062968911337222': ['2903062968911337222', CallNode(function='Converter.convert', type_params={'T': DeclaredTypeInstance(type='Vec', params={'T': DeclaredTypeInstance(type='Integer', params=None)})}, args=['852842466831624100'], kwargs=None)], '-8841748531208643889': ['-8841748531208643889', CallNode(function='Abstraction.from_fn', type_params=None, args=['-1743313584654778961'], kwargs=None)], '3303217568467687651': ['3303217568467687651', PrimitiveNode(type='BoundInfer', repr='Either.left')], '-1743313584654778961': ['-1743313584654778961', PrimitiveNode(type='BoundInfer', repr='Either.right')], '-7075926890243176742': ['4165022598424862665', CallNode(function='NDArrayCompat.to_ndarray', type_params=None, args=['-3010162411960893490'], kwargs=None)], '-3010162411960893490': ['-8054137683011941171', CallNode(function='NDArrayCompat.from_ndarray', type_params=None, args=['2014328262272300159'], kwargs=None)], '2014328262272300159': ['-1055990109103758883', CallNode(function='Maybe.map', type_params={'T': DeclaredTypeInstance(type='Pair', params={'U': DeclaredTypeInstance(type='Either', params={'U': DeclaredTypeInstance(type='Vec', params={'T': DeclaredTypeInstance(type='Integer', params=None)}), 'T': DeclaredTypeInstance(type='Integer', params=None)}), 'T': DeclaredTypeInstance(type='NDArray', params=None)})}, args=['7268800435487306097', '7031873113613421220'], kwargs=None)], '7268800435487306097': ['-4814678537500170364', CallNode(function='Maybe.__and__', type_params={'T': DeclaredTypeInstance(type='NDArray', params=None)}, args=['-5782871365754188927', '-7004180416014216026'], kwargs=None)], '-5782871365754188927': ['7947258440880147023', CallNode(function='Converter.convert', type_params={'T': DeclaredTypeInstance(type='NDArray', params=None)}, args=['-5952365224410209476'], kwargs=None)], '-5952365224410209476': ['-5558510579709572674', CallNode(function='NDArrayCompat.__add__', type_params=None, args=['1347295785570687419', '1347295785570687419'], kwargs=None)], '1347295785570687419': ['971722316536660130', CallNode(function='NDArrayCompat.from_ndarray', type_params=None, args=['5848963126652067044'], kwargs=None)], '5848963126652067044': ['5848963126652067044', CallNode(function='Maybe.map', type_params={'T': DeclaredTypeInstance(type='Integer', params=None)}, args=['5706060419324713096', '-8550721238847586890'], kwargs=None)], '5706060419324713096': ['5706060419324713096', CallNode(function='Converter.convert', type_params={'T': DeclaredTypeInstance(type='Integer', params=None)}, args=['852842466726619175'], kwargs=None)], '-8550721238847586890': ['-8550721238847586890', CallNode(function='Abstraction.from_fn', type_params=None, args=['5765685988797773240'], kwargs=None)], '5765685988797773240': ['5765685988797773240', PrimitiveNode(type='Infer', repr='arange_')], '6911206259321583495': ['4165022598424862665', CallNode(function='NDArrayCompat.to_ndarray', type_params=None, args=['-7992742604827214209'], kwargs=None)], '-7992742604827214209': ['-8054137683011941171', CallNode(function='NDArrayCompat.from_ndarray', type_params=None, args=['-5346943820470270956'], kwargs=None)], '-5346943820470270956': ['-1055990109103758883', CallNode(function='Maybe.map', type_params={'T': DeclaredTypeInstance(type='Pair', params={'U': DeclaredTypeInstance(type='Either', params={'U': DeclaredTypeInstance(type='Vec', params={'T': DeclaredTypeInstance(type='Integer', params=None)}), 'T': DeclaredTypeInstance(type='Integer', params=None)}), 'T': DeclaredTypeInstance(type='NDArray', params=None)})}, args=['3007494864010919930', '7031873113613421220'], kwargs=None)], '3007494864010919930': ['-4814678537500170364', CallNode(function='Maybe.__and__', type_params={'T': DeclaredTypeInstance(type='NDArray', params=None)}, args=['-5782871365754188927', '6856229555535770924'], kwargs=None)], '6856229555535770924': ['-7413928963025066946', CallNode(function='Maybe.__or__', type_params={'T': DeclaredTypeInstance(type='Either', params={'U': DeclaredTypeInstance(type='Vec', params={'T': DeclaredTypeInstance(type='Integer', params=None)}), 'T': DeclaredTypeInstance(type='Integer', params=None)})}, args=['-6449000199390749469', '4687392789662792897'], kwargs=None)], '-6449000199390749469': ['5068959694142403101', CallNode(function='Maybe.map', type_params={'T': DeclaredTypeInstance(type='Integer', params=None)}, args=['-1010262108927125773', '3299436367977257648'], kwargs=None)], '-1010262108927125773': ['-1010262108927125773', CallNode(function='Maybe.just', type_params=None, args=['-7334224414564589854'], kwargs=None)], '-7334224414564589854': ['-7334224414564589854', CallNode(function='Integer.from_int', type_params=None, args=['852842466831624100'], kwargs=None)], '-829264615964567717': ['4165022598424862665', CallNode(function='NDArrayCompat.to_ndarray', type_params=None, args=['-8800496188540116189'], kwargs=None)], '-8800496188540116189': ['-8054137683011941171', CallNode(function='NDArrayCompat.from_ndarray', type_params=None, args=['5517747706173211228'], kwargs=None)], '5517747706173211228': ['-1055990109103758883', CallNode(function='Maybe.map', type_params={'T': DeclaredTypeInstance(type='Pair', params={'U': DeclaredTypeInstance(type='Either', params={'U': DeclaredTypeInstance(type='Vec', params={'T': DeclaredTypeInstance(type='Integer', params=None)}), 'T': DeclaredTypeInstance(type='Integer', params=None)}), 'T': DeclaredTypeInstance(type='NDArray', params=None)})}, args=['-1026313121908345213', '7031873113613421220'], kwargs=None)], '-1026313121908345213': ['-4814678537500170364', CallNode(function='Maybe.__and__', type_params={'T': DeclaredTypeInstance(type='NDArray', params=None)}, args=['-1156468161871471630', '6856229555535770924'], kwargs=None)], '-1156468161871471630': ['7947258440880147023', CallNode(function='Converter.convert', type_params={'T': DeclaredTypeInstance(type='NDArray', params=None)}, args=['-3654042068687366610'], kwargs=None)], '-3654042068687366610': ['-5558510579709572674', CallNode(function='NDArrayCompat.__add__', type_params=None, args=['6583497480016573524', '6583497480016573524'], kwargs=None)], '6583497480016573524': ['971722316536660130', CallNode(function='NDArrayCompat.from_ndarray', type_params=None, args=['-4724715256758988081'], kwargs=None)], '-4724715256758988081': ['5848963126652067044', CallNode(function='Maybe.map', type_params={'T': DeclaredTypeInstance(type='Integer', params=None)}, args=['-5463825541328231257', '-8550721238847586890'], kwargs=None)], '-5463825541328231257': ['-5463825541328231257', CallNode(function='Maybe.just', type_params=None, args=['-6362610179852757995'], kwargs=None)], '-6362610179852757995': ['-6362610179852757995', CallNode(function='Integer.from_int', type_params=None, args=['852842466726619175'], kwargs=None)], '7676590665895654396': ['4165022598424862665', CallNode(function='NDArrayCompat.to_ndarray', type_params=None, args=['-1834663258746100869'], kwargs=None)], '-1834663258746100869': ['-8054137683011941171', CallNode(function='NDArrayCompat.from_ndarray', type_params=None, args=['-2853208546089932377'], kwargs=None)], '-2853208546089932377': ['-1055990109103758883', CallNode(function='Maybe.map', type_params={'T': DeclaredTypeInstance(type='Pair', params={'U': DeclaredTypeInstance(type='Either', params={'U': DeclaredTypeInstance(type='Vec', params={'T': DeclaredTypeInstance(type='Integer', params=None)}), 'T': DeclaredTypeInstance(type='Integer', params=None)}), 'T': DeclaredTypeInstance(type='NDArray', params=None)})}, args=['-1026313121908345213', '1086476962447876602'], kwargs=None)], '1086476962447876602': ['1086476962447876602', CallNode(function='Abstraction.create', type_params={'U': DeclaredTypeInstance(type='NDArray', params=None), 'T': DeclaredTypeInstance(type='Pair', params={'U': DeclaredTypeInstance(type='Either', params={'U': DeclaredTypeInstance(type='Vec', params={'T': DeclaredTypeInstance(type='Integer', params=None)}), 'T': DeclaredTypeInstance(type='Integer', params=None)}), 'T': DeclaredTypeInstance(type='NDArray', params=None)})}, args=['7616326404151103511', '-6242641388488469540'], kwargs=None)], '7616326404151103511': ['7616326404151103511', CallNode(function='Abstraction.create_variable', type_params={'U': DeclaredTypeInstance(type='NDArray', params=None), 'T': DeclaredTypeInstance(type='Pair', params={'U': DeclaredTypeInstance(type='Either', params={'U': DeclaredTypeInstance(type='Vec', params={'T': DeclaredTypeInstance(type='Integer', params=None)}), 'T': DeclaredTypeInstance(type='Integer', params=None)}), 'T': DeclaredTypeInstance(type='NDArray', params=None)})}, args=['1599161639873810534'], kwargs=None)], '-6242641388488469540': ['-6242641388488469540', CallNode(function='NDArray.__getitem__', type_params=None, args=['-2203303042166162505', '-7578727142363371923'], kwargs=None)], '1599161639873810534': ['1599161639873810534', PrimitiveNode(type='Variable', repr='Variable(4549638072)')], '-2203303042166162505': ['-2203303042166162505', CallNode(function='Pair.left', type_params={'U': DeclaredTypeInstance(type='Either', params={'U': DeclaredTypeInstance(type='Vec', params={'T': DeclaredTypeInstance(type='Integer', params=None)}), 'T': DeclaredTypeInstance(type='Integer', params=None)}), 'T': DeclaredTypeInstance(type='NDArray', params=None)}, args=['7616326404151103511'], kwargs=None)], '-7578727142363371923': ['-7578727142363371923', CallNode(function='Pair.right', type_params={'U': DeclaredTypeInstance(type='Either', params={'U': DeclaredTypeInstance(type='Vec', params={'T': DeclaredTypeInstance(type='Integer', params=None)}), 'T': DeclaredTypeInstance(type='Integer', params=None)}), 'T': DeclaredTypeInstance(type='NDArray', params=None)}, args=['7616326404151103511'], kwargs=None)], '8573804343708975551': ['4165022598424862665', CallNode(function='NDArrayCompat.to_ndarray', type_params=None, args=['-8370592865890929625'], kwargs=None)], '-8370592865890929625': ['-8054137683011941171', CallNode(function='NDArrayCompat.from_ndarray', type_params=None, args=['-7848175503099266099'], kwargs=None)], '-7848175503099266099': ['-1055990109103758883', CallNode(function='Maybe.map', type_params={'T': DeclaredTypeInstance(type='Pair', params={'U': DeclaredTypeInstance(type='Either', params={'U': DeclaredTypeInstance(type='Vec', params={'T': DeclaredTypeInstance(type='Integer', params=None)}), 'T': DeclaredTypeInstance(type='Integer', params=None)}), 'T': DeclaredTypeInstance(type='NDArray', params=None)})}, args=['-177182266443459815', '1086476962447876602'], kwargs=None)], '-177182266443459815': ['-4814678537500170364', CallNode(function='Maybe.__and__', type_params={'T': DeclaredTypeInstance(type='NDArray', params=None)}, args=['-1156468161871471630', '-2221606549504931728'], kwargs=None)], '-2221606549504931728': ['-7413928963025066946', CallNode(function='Maybe.__or__', type_params={'T': DeclaredTypeInstance(type='Either', params={'U': DeclaredTypeInstance(type='Vec', params={'T': DeclaredTypeInstance(type='Integer', params=None)}), 'T': DeclaredTypeInstance(type='Integer', params=None)})}, args=['9185684620050578154', '4687392789662792897'], kwargs=None)], '9185684620050578154': ['9185684620050578154', CallNode(function='Maybe.map', type_params={'T': DeclaredTypeInstance(type='Integer', params=None)}, args=['-1010262108927125773', '1476814018894724778'], kwargs=None)], '1476814018894724778': ['1476814018894724778', CallNode(function='Abstraction.create', type_params={'U': DeclaredTypeInstance(type='Either', params={'U': DeclaredTypeInstance(type='Vec', params={'T': DeclaredTypeInstance(type='Integer', params=None)}), 'T': DeclaredTypeInstance(type='Integer', params=None)}), 'T': DeclaredTypeInstance(type='Integer', params=None)}, args=['8578252472718281855', '2819426627661147747'], kwargs=None)], '8578252472718281855': ['8578252472718281855', CallNode(function='Abstraction.create_variable', type_params={'U': DeclaredTypeInstance(type='Either', params={'U': DeclaredTypeInstance(type='Vec', params={'T': DeclaredTypeInstance(type='Integer', params=None)}), 'T': DeclaredTypeInstance(type='Integer', params=None)}), 'T': DeclaredTypeInstance(type='Integer', params=None)}, args=['1599161653680334384'], kwargs=None)], '2819426627661147747': ['2819426627661147747', CallNode(function='Either.left', type_params={'U': DeclaredTypeInstance(type='Vec', params={'T': DeclaredTypeInstance(type='Integer', params=None)}), 'T': DeclaredTypeInstance(type='Integer', params=None)}, args=['8578252472718281855'], kwargs=None)], '1599161653680334384': ['1599161653680334384', PrimitiveNode(type='Variable', repr='Variable(4549696088)')], '-4197977456492689751': ['4165022598424862665', CallNode(function='NDArrayCompat.to_ndarray', type_params=None, args=['-927448462973283222'], kwargs=None)], '-927448462973283222': ['-8054137683011941171', CallNode(function='NDArrayCompat.from_ndarray', type_params=None, args=['-3901462807584601996'], kwargs=None)], '-3901462807584601996': ['-1055990109103758883', CallNode(function='Maybe.map', type_params={'T': DeclaredTypeInstance(type='Pair', params={'U': DeclaredTypeInstance(type='Either', params={'U': DeclaredTypeInstance(type='Vec', params={'T': DeclaredTypeInstance(type='Integer', params=None)}), 'T': DeclaredTypeInstance(type='Integer', params=None)}), 'T': DeclaredTypeInstance(type='NDArray', params=None)})}, args=['-5704966778682325114', '1086476962447876602'], kwargs=None)], '-5704966778682325114': ['-4814678537500170364', CallNode(function='Maybe.__and__', type_params={'T': DeclaredTypeInstance(type='NDArray', params=None)}, args=['-1156468161871471630', '6606662420229354367'], kwargs=None)], '6606662420229354367': ['6606662420229354367', CallNode(function='Maybe.__or__', type_params={'T': DeclaredTypeInstance(type='Either', params={'U': DeclaredTypeInstance(type='Vec', params={'T': DeclaredTypeInstance(type='Integer', params=None)}), 'T': DeclaredTypeInstance(type='Integer', params=None)})}, args=['9185684620050578154', '-4974165390111393856'], kwargs=None)], '-4974165390111393856': ['-4974165390111393856', CallNode(function='Maybe.map', type_params={'T': DeclaredTypeInstance(type='Vec', params={'T': DeclaredTypeInstance(type='Integer', params=None)})}, args=['2903062968911337222', '878450276063681107'], kwargs=None)], '878450276063681107': ['878450276063681107', CallNode(function='Abstraction.create', type_params={'U': DeclaredTypeInstance(type='Either', params={'U': DeclaredTypeInstance(type='Vec', params={'T': DeclaredTypeInstance(type='Integer', params=None)}), 'T': DeclaredTypeInstance(type='Integer', params=None)}), 'T': DeclaredTypeInstance(type='Vec', params={'T': DeclaredTypeInstance(type='Integer', params=None)})}, args=['-6499163487982209355', '4425729685164377546'], kwargs=None)], '-6499163487982209355': ['-6499163487982209355', CallNode(function='Abstraction.create_variable', type_params={'U': DeclaredTypeInstance(type='Either', params={'U': DeclaredTypeInstance(type='Vec', params={'T': DeclaredTypeInstance(type='Integer', params=None)}), 'T': DeclaredTypeInstance(type='Integer', params=None)}), 'T': DeclaredTypeInstance(type='Vec', params={'T': DeclaredTypeInstance(type='Integer', params=None)})}, args=['1599161639649727859'], kwargs=None)], '4425729685164377546': ['4425729685164377546', CallNode(function='Either.right', type_params={'U': DeclaredTypeInstance(type='Vec', params={'T': DeclaredTypeInstance(type='Integer', params=None)}), 'T': DeclaredTypeInstance(type='Integer', params=None)}, args=['-6499163487982209355'], kwargs=None)], '1599161639649727859': ['1599161639649727859', PrimitiveNode(type='Variable', repr='Variable(4549632072)')], '5420067201103152751': ['4165022598424862665', CallNode(function='NDArrayCompat.to_ndarray', type_params=None, args=['3139592889617416915'], kwargs=None)], '3139592889617416915': ['-8054137683011941171', CallNode(function='NDArrayCompat.from_ndarray', type_params=None, args=['-1223578185388110866'], kwargs=None)], '-1223578185388110866': ['-1055990109103758883', CallNode(function='Maybe.map', type_params={'T': DeclaredTypeInstance(type='Pair', params={'U': DeclaredTypeInstance(type='Either', params={'U': DeclaredTypeInstance(type='Vec', params={'T': DeclaredTypeInstance(type='Integer', params=None)}), 'T': DeclaredTypeInstance(type='Integer', params=None)}), 'T': DeclaredTypeInstance(type='NDArray', params=None)})}, args=['-7774097712138673687', '1086476962447876602'], kwargs=None)], '-7774097712138673687': ['-7774097712138673687', CallNode(function='Maybe.__and__', type_params={'T': DeclaredTypeInstance(type='NDArray', params=None)}, args=['-2612058384443202226', '6606662420229354367'], kwargs=None)], '-2612058384443202226': ['-2612058384443202226', CallNode(function='Converter.convert', type_params={'T': DeclaredTypeInstance(type='NDArray', params=None)}, args=['-8020448314167642308'], kwargs=None)], '-8020448314167642308': ['-8020448314167642308', CallNode(function='NDArrayCompat.__add__', type_params=None, args=['2204185982366297925', '2204185982366297925'], kwargs=None)], '2204185982366297925': ['2204185982366297925', CallNode(function='NDArrayCompat.from_ndarray', type_params=None, args=['-8125902144106883229'], kwargs=None)], '-8125902144106883229': ['-8125902144106883229', CallNode(function='Maybe.map', type_params={'T': DeclaredTypeInstance(type='Integer', params=None)}, args=['-5463825541328231257', '-3607651342286296696'], kwargs=None)], '-3607651342286296696': ['-3607651342286296696', CallNode(function='Abstraction.create', type_params={'U': DeclaredTypeInstance(type='NDArray', params=None), 'T': DeclaredTypeInstance(type='Integer', params=None)}, args=['-9156363857593975122', '4236997518345950211'], kwargs=None)], '-9156363857593975122': ['-9156363857593975122', CallNode(function='Abstraction.create_variable', type_params={'U': DeclaredTypeInstance(type='NDArray', params=None), 'T': DeclaredTypeInstance(type='Integer', params=None)}, args=['1599161652712557034'], kwargs=None)], '4236997518345950211': ['4236997518345950211', CallNode(function='arange_', type_params=None, args=['-9156363857593975122'], kwargs=None)], '1599161652712557034': ['1599161652712557034', PrimitiveNode(type='Variable', repr='Variable(4549677688)')], '-266809558131030456': ['4165022598424862665', CallNode(function='NDArrayCompat.to_ndarray', type_params=None, args=['-2925862996932521592'], kwargs=None)], '-2925862996932521592': ['-8054137683011941171', CallNode(function='NDArrayCompat.from_ndarray', type_params=None, args=['2431515222273860616'], kwargs=None)], '2431515222273860616': ['-1055990109103758883', CallNode(function='Maybe.match', type_params={'T': DeclaredTypeInstance(type='Pair', params={'U': DeclaredTypeInstance(type='Either', params={'U': DeclaredTypeInstance(type='Vec', params={'T': DeclaredTypeInstance(type='Integer', params=None)}), 'T': DeclaredTypeInstance(type='Integer', params=None)}), 'T': DeclaredTypeInstance(type='NDArray', params=None)})}, args=['-7774097712138673687', '-1741944831158160669', '-4006968251054608271'], kwargs=None)], '-1741944831158160669': ['-1741944831158160669', CallNode(function='Maybe.nothing', type_params={'T': DeclaredTypeInstance(type='NDArray', params=None)}, args=None, kwargs=None)], '-4006968251054608271': ['-4006968251054608271', CallNode(function='Abstraction.__add__', type_params={'U': DeclaredTypeInstance(type='Maybe', params={'T': DeclaredTypeInstance(type='NDArray', params=None)}), 'T': DeclaredTypeInstance(type='NDArray', params=None)}, args=['-3689034126165086493', '1086476962447876602'], kwargs=None)], '-3689034126165086493': ['-3689034126165086493', CallNode(function='Abstraction.from_fn', type_params=None, args=['-562755898029559237'], kwargs=None)], '-562755898029559237': ['-562755898029559237', PrimitiveNode(type='BoundInfer', repr='Maybe.just')], '-5796473528836597542': ['4165022598424862665', CallNode(function='NDArrayCompat.to_ndarray', type_params=None, args=['-5952650148250581553'], kwargs=None)], '-5952650148250581553': ['-8054137683011941171', CallNode(function='NDArrayCompat.from_ndarray', type_params=None, args=['4110092845792029569'], kwargs=None)], '4110092845792029569': ['-1055990109103758883', CallNode(function='Maybe.match', type_params={'T': DeclaredTypeInstance(type='Pair', params={'U': DeclaredTypeInstance(type='Either', params={'U': DeclaredTypeInstance(type='Vec', params={'T': DeclaredTypeInstance(type='Integer', params=None)}), 'T': DeclaredTypeInstance(type='Integer', params=None)}), 'T': DeclaredTypeInstance(type='NDArray', params=None)})}, args=['5573314645756069927', '-1741944831158160669', '-4006968251054608271'], kwargs=None)], '5573314645756069927': ['-7774097712138673687', CallNode(function='Maybe.__and__', type_params={'T': DeclaredTypeInstance(type='NDArray', params=None)}, args=['-2612058384443202226', '805248575967173939'], kwargs=None)], '805248575967173939': ['6606662420229354367', CallNode(function='Maybe.__or__', type_params={'T': DeclaredTypeInstance(type='Either', params={'U': DeclaredTypeInstance(type='Vec', params={'T': DeclaredTypeInstance(type='Integer', params=None)}), 'T': DeclaredTypeInstance(type='Integer', params=None)})}, args=['5643084342530937823', '-4974165390111393856'], kwargs=None)], '5643084342530937823': ['9185684620050578154', CallNode(function='Maybe.match', type_params={'T': DeclaredTypeInstance(type='Integer', params=None)}, args=['-1010262108927125773', '-3052203273464861294', '-8436013719796374484'], kwargs=None)], '-3052203273464861294': ['-3052203273464861294', CallNode(function='Maybe.nothing', type_params={'T': DeclaredTypeInstance(type='Either', params={'U': DeclaredTypeInstance(type='Vec', params={'T': DeclaredTypeInstance(type='Integer', params=None)}), 'T': DeclaredTypeInstance(type='Integer', params=None)})}, args=None, kwargs=None)], '-8436013719796374484': ['-8436013719796374484', CallNode(function='Abstraction.__add__', type_params={'U': DeclaredTypeInstance(type='Maybe', params={'T': DeclaredTypeInstance(type='Either', params={'U': DeclaredTypeInstance(type='Vec', params={'T': DeclaredTypeInstance(type='Integer', params=None)}), 'T': DeclaredTypeInstance(type='Integer', params=None)})}), 'T': DeclaredTypeInstance(type='Either', params={'U': DeclaredTypeInstance(type='Vec', params={'T': DeclaredTypeInstance(type='Integer', params=None)}), 'T': DeclaredTypeInstance(type='Integer', params=None)})}, args=['-7507020889469263454', '1476814018894724778'], kwargs=None)], '-7507020889469263454': ['-7507020889469263454', CallNode(function='Abstraction.from_fn', type_params=None, args=['-2266514298468117634'], kwargs=None)], '-2266514298468117634': ['-2266514298468117634', PrimitiveNode(type='BoundInfer', repr='Maybe.just')], '6346996280005156099': ['4165022598424862665', CallNode(function='NDArrayCompat.to_ndarray', type_params=None, args=['1472128545317462712'], kwargs=None)], '1472128545317462712': ['-8054137683011941171', CallNode(function='NDArrayCompat.from_ndarray', type_params=None, args=['3598809636702784536'], kwargs=None)], '3598809636702784536': ['-1055990109103758883', CallNode(function='Maybe.match', type_params={'T': DeclaredTypeInstance(type='Pair', params={'U': DeclaredTypeInstance(type='Either', params={'U': DeclaredTypeInstance(type='Vec', params={'T': DeclaredTypeInstance(type='Integer', params=None)}), 'T': DeclaredTypeInstance(type='Integer', params=None)}), 'T': DeclaredTypeInstance(type='NDArray', params=None)})}, args=['1330894252487505654', '-1741944831158160669', '-4006968251054608271'], kwargs=None)], '1330894252487505654': ['-7774097712138673687', CallNode(function='Maybe.__and__', type_params={'T': DeclaredTypeInstance(type='NDArray', params=None)}, args=['-2612058384443202226', '-3252314534772413263'], kwargs=None)], '-3252314534772413263': ['6606662420229354367', CallNode(function='Maybe.__or__', type_params={'T': DeclaredTypeInstance(type='Either', params={'U': DeclaredTypeInstance(type='Vec', params={'T': DeclaredTypeInstance(type='Integer', params=None)}), 'T': DeclaredTypeInstance(type='Integer', params=None)})}, args=['-9111585453556964138', '-4974165390111393856'], kwargs=None)], '-9111585453556964138': ['9185684620050578154', CallNode(function='Abstraction.__call__', type_params={'U': DeclaredTypeInstance(type='Maybe', params={'T': DeclaredTypeInstance(type='Either', params={'U': DeclaredTypeInstance(type='Vec', params={'T': DeclaredTypeInstance(type='Integer', params=None)}), 'T': DeclaredTypeInstance(type='Integer', params=None)})}), 'T': DeclaredTypeInstance(type='Integer', params=None)}, args=['-8436013719796374484', '-7334224414564589854'], kwargs=None)], '6459715368499033432': ['4165022598424862665', CallNode(function='NDArrayCompat.to_ndarray', type_params=None, args=['6646924165475105301'], kwargs=None)], '6646924165475105301': ['-8054137683011941171', CallNode(function='NDArrayCompat.from_ndarray', type_params=None, args=['-2412009377546269807'], kwargs=None)], '-2412009377546269807': ['-1055990109103758883', CallNode(function='Maybe.match', type_params={'T': DeclaredTypeInstance(type='Pair', params={'U': DeclaredTypeInstance(type='Either', params={'U': DeclaredTypeInstance(type='Vec', params={'T': DeclaredTypeInstance(type='Integer', params=None)}), 'T': DeclaredTypeInstance(type='Integer', params=None)}), 'T': DeclaredTypeInstance(type='NDArray', params=None)})}, args=['1182897658369612985', '-1741944831158160669', '-4006968251054608271'], kwargs=None)], '1182897658369612985': ['-7774097712138673687', CallNode(function='Maybe.__and__', type_params={'T': DeclaredTypeInstance(type='NDArray', params=None)}, args=['-2612058384443202226', '-1257909439195940719'], kwargs=None)], '-1257909439195940719': ['6606662420229354367', CallNode(function='Maybe.__or__', type_params={'T': DeclaredTypeInstance(type='Either', params={'U': DeclaredTypeInstance(type='Vec', params={'T': DeclaredTypeInstance(type='Integer', params=None)}), 'T': DeclaredTypeInstance(type='Integer', params=None)})}, args=['-9111585453556964138', '4035559444610765789'], kwargs=None)], '4035559444610765789': ['-4974165390111393856', CallNode(function='Maybe.match', type_params={'T': DeclaredTypeInstance(type='Vec', params={'T': DeclaredTypeInstance(type='Integer', params=None)})}, args=['2903062968911337222', '-3052203273464861294', '4127710310388454811'], kwargs=None)], '4127710310388454811': ['4127710310388454811', CallNode(function='Abstraction.__add__', type_params={'U': DeclaredTypeInstance(type='Maybe', params={'T': DeclaredTypeInstance(type='Either', params={'U': DeclaredTypeInstance(type='Vec', params={'T': DeclaredTypeInstance(type='Integer', params=None)}), 'T': DeclaredTypeInstance(type='Integer', params=None)})}), 'T': DeclaredTypeInstance(type='Either', params={'U': DeclaredTypeInstance(type='Vec', params={'T': DeclaredTypeInstance(type='Integer', params=None)}), 'T': DeclaredTypeInstance(type='Integer', params=None)})}, args=['-7507020889469263454', '878450276063681107'], kwargs=None)], '-6922184826676391054': ['4165022598424862665', CallNode(function='NDArrayCompat.to_ndarray', type_params=None, args=['6756485215062105331'], kwargs=None)], '6756485215062105331': ['-8054137683011941171', CallNode(function='NDArrayCompat.from_ndarray', type_params=None, args=['1120835995330561934'], kwargs=None)], '1120835995330561934': ['-1055990109103758883', CallNode(function='Maybe.match', type_params={'T': DeclaredTypeInstance(type='Pair', params={'U': DeclaredTypeInstance(type='Either', params={'U': DeclaredTypeInstance(type='Vec', params={'T': DeclaredTypeInstance(type='Integer', params=None)}), 'T': DeclaredTypeInstance(type='Integer', params=None)}), 'T': DeclaredTypeInstance(type='NDArray', params=None)})}, args=['-3675715368958408947', '-1741944831158160669', '-4006968251054608271'], kwargs=None)], '-3675715368958408947': ['-7774097712138673687', CallNode(function='Maybe.__and__', type_params={'T': DeclaredTypeInstance(type='NDArray', params=None)}, args=['6288611761615413999', '-1257909439195940719'], kwargs=None)], '6288611761615413999': ['-2612058384443202226', CallNode(function='Converter.convert', type_params={'T': DeclaredTypeInstance(type='NDArray', params=None)}, args=['-2111825957195779556'], kwargs=None)], '-2111825957195779556': ['-8020448314167642308', CallNode(function='NDArrayCompat.__add__', type_params=None, args=['-3019841021786883956', '-3019841021786883956'], kwargs=None)], '-3019841021786883956': ['2204185982366297925', CallNode(function='NDArrayCompat.from_ndarray', type_params=None, args=['-4190340053235037130'], kwargs=None)], '-4190340053235037130': ['-8125902144106883229', CallNode(function='Maybe.match', type_params={'T': DeclaredTypeInstance(type='Integer', params=None)}, args=['-5463825541328231257', '-1741944831158160669', '576327488382086654'], kwargs=None)], '576327488382086654': ['576327488382086654', CallNode(function='Abstraction.__add__', type_params={'U': DeclaredTypeInstance(type='Maybe', params={'T': DeclaredTypeInstance(type='NDArray', params=None)}), 'T': DeclaredTypeInstance(type='NDArray', params=None)}, args=['-3689034126165086493', '-3607651342286296696'], kwargs=None)], '953149618496524630': ['4165022598424862665', CallNode(function='NDArrayCompat.to_ndarray', type_params=None, args=['3213267652378594488'], kwargs=None)], '3213267652378594488': ['-8054137683011941171', CallNode(function='NDArrayCompat.from_ndarray', type_params=None, args=['-2083092937690161639'], kwargs=None)], '-2083092937690161639': ['-1055990109103758883', CallNode(function='Maybe.match', type_params={'T': DeclaredTypeInstance(type='Pair', params={'U': DeclaredTypeInstance(type='Either', params={'U': DeclaredTypeInstance(type='Vec', params={'T': DeclaredTypeInstance(type='Integer', params=None)}), 'T': DeclaredTypeInstance(type='Integer', params=None)}), 'T': DeclaredTypeInstance(type='NDArray', params=None)})}, args=['-4889097378641880829', '-1741944831158160669', '-4006968251054608271'], kwargs=None)], '-4889097378641880829': ['-7774097712138673687', CallNode(function='Maybe.__and__', type_params={'T': DeclaredTypeInstance(type='NDArray', params=None)}, args=['-7222866878188757834', '-1257909439195940719'], kwargs=None)], '-7222866878188757834': ['-2612058384443202226', CallNode(function='Converter.convert', type_params={'T': DeclaredTypeInstance(type='NDArray', params=None)}, args=['-2946654602699934174'], kwargs=None)], '-2946654602699934174': ['-8020448314167642308', CallNode(function='NDArrayCompat.__add__', type_params=None, args=['-1519619319546324696', '-1519619319546324696'], kwargs=None)], '-1519619319546324696': ['2204185982366297925', CallNode(function='NDArrayCompat.from_ndarray', type_params=None, args=['2836610356540546088'], kwargs=None)], '2836610356540546088': ['-8125902144106883229', CallNode(function='Abstraction.__call__', type_params={'U': DeclaredTypeInstance(type='Maybe', params={'T': DeclaredTypeInstance(type='NDArray', params=None)}), 'T': DeclaredTypeInstance(type='Integer', params=None)}, args=['576327488382086654', '-6362610179852757995'], kwargs=None)], '6463438930795674921': ['4165022598424862665', CallNode(function='NDArrayCompat.to_ndarray', type_params=None, args=['8682561727444403687'], kwargs=None)], '8682561727444403687': ['-8054137683011941171', CallNode(function='NDArrayCompat.from_ndarray', type_params=None, args=['-9130150324483212915'], kwargs=None)], '-9130150324483212915': ['-1055990109103758883', CallNode(function='Maybe.match', type_params={'T': DeclaredTypeInstance(type='Pair', params={'U': DeclaredTypeInstance(type='Either', params={'U': DeclaredTypeInstance(type='Vec', params={'T': DeclaredTypeInstance(type='Integer', params=None)}), 'T': DeclaredTypeInstance(type='Integer', params=None)}), 'T': DeclaredTypeInstance(type='NDArray', params=None)})}, args=['7931816278954226227', '-1741944831158160669', '7341543321610707392'], kwargs=None)], '7931816278954226227': ['-7774097712138673687', CallNode(function='Maybe.__and__', type_params={'T': DeclaredTypeInstance(type='NDArray', params=None)}, args=['-6026802563305382491', '-1257909439195940719'], kwargs=None)], '7341543321610707392': ['-4006968251054608271', CallNode(function='Abstraction.__add__', type_params={'U': DeclaredTypeInstance(type='Maybe', params={'T': DeclaredTypeInstance(type='NDArray', params=None)}), 'T': DeclaredTypeInstance(type='NDArray', params=None)}, args=['7003961003669514196', '1086476962447876602'], kwargs=None)], '-6026802563305382491': ['-2612058384443202226', CallNode(function='Converter.convert', type_params={'T': DeclaredTypeInstance(type='NDArray', params=None)}, args=['4867488836770560508'], kwargs=None)], '7003961003669514196': ['-3689034126165086493', CallNode(function='Abstraction.create', type_params={'U': DeclaredTypeInstance(type='Maybe', params={'T': DeclaredTypeInstance(type='NDArray', params=None)}), 'T': DeclaredTypeInstance(type='NDArray', params=None)}, args=['8497656163443754274', '7426659112406479064'], kwargs=None)], '4867488836770560508': ['-8020448314167642308', CallNode(function='NDArrayCompat.__add__', type_params=None, args=['-8930988476283103842', '-8930988476283103842'], kwargs=None)], '8497656163443754274': ['8497656163443754274', CallNode(function='Abstraction.create_variable', type_params={'U': DeclaredTypeInstance(type='Maybe', params={'T': DeclaredTypeInstance(type='NDArray', params=None)}), 'T': DeclaredTypeInstance(type='NDArray', params=None)}, args=['1599161639703854109'], kwargs=None)], '7426659112406479064': ['7426659112406479064', CallNode(function='Maybe.just', type_params={'T': DeclaredTypeInstance(type='NDArray', params=None)}, args=['8497656163443754274'], kwargs=None)], '-8930988476283103842': ['2204185982366297925', CallNode(function='NDArrayCompat.from_ndarray', type_params=None, args=['-651403784083398801'], kwargs=None)], '1599161639703854109': ['1599161639703854109', PrimitiveNode(type='Variable', repr='Variable(4549639528)')], '-651403784083398801': ['-8125902144106883229', CallNode(function='Abstraction.__call__', type_params={'U': DeclaredTypeInstance(type='Maybe', params={'T': DeclaredTypeInstance(type='NDArray', params=None)}), 'T': DeclaredTypeInstance(type='Integer', params=None)}, args=['6815027276318066451', '-6362610179852757995'], kwargs=None)], '6815027276318066451': ['576327488382086654', CallNode(function='Abstraction.__add__', type_params={'U': DeclaredTypeInstance(type='Maybe', params={'T': DeclaredTypeInstance(type='NDArray', params=None)}), 'T': DeclaredTypeInstance(type='NDArray', params=None)}, args=['7003961003669514196', '-3607651342286296696'], kwargs=None)], '-7139390227789993331': ['4165022598424862665', CallNode(function='NDArrayCompat.to_ndarray', type_params=None, args=['4183060667905065981'], kwargs=None)], '4183060667905065981': ['-8054137683011941171', CallNode(function='NDArrayCompat.from_ndarray', type_params=None, args=['-7557170376531022965'], kwargs=None)], '-7557170376531022965': ['-1055990109103758883', CallNode(function='Maybe.match', type_params={'T': DeclaredTypeInstance(type='Pair', params={'U': DeclaredTypeInstance(type='Either', params={'U': DeclaredTypeInstance(type='Vec', params={'T': DeclaredTypeInstance(type='Integer', params=None)}), 'T': DeclaredTypeInstance(type='Integer', params=None)}), 'T': DeclaredTypeInstance(type='NDArray', params=None)})}, args=['-8298483154950733741', '-1741944831158160669', '7341543321610707392'], kwargs=None)], '-8298483154950733741': ['-7774097712138673687', CallNode(function='Maybe.__and__', type_params={'T': DeclaredTypeInstance(type='NDArray', params=None)}, args=['-6026802563305382491', '5922024548564054383'], kwargs=None)], '5922024548564054383': ['6606662420229354367', CallNode(function='Maybe.__or__', type_params={'T': DeclaredTypeInstance(type='Either', params={'U': DeclaredTypeInstance(type='Vec', params={'T': DeclaredTypeInstance(type='Integer', params=None)}), 'T': DeclaredTypeInstance(type='Integer', params=None)})}, args=['235132293712215603', '-3590883686264525135'], kwargs=None)], '235132293712215603': ['9185684620050578154', CallNode(function='Abstraction.__call__', type_params={'U': DeclaredTypeInstance(type='Maybe', params={'T': DeclaredTypeInstance(type='Either', params={'U': DeclaredTypeInstance(type='Vec', params={'T': DeclaredTypeInstance(type='Integer', params=None)}), 'T': DeclaredTypeInstance(type='Integer', params=None)})}), 'T': DeclaredTypeInstance(type='Integer', params=None)}, args=['5863251406667164858', '-7334224414564589854'], kwargs=None)], '-3590883686264525135': ['-4974165390111393856', CallNode(function='Maybe.match', type_params={'T': DeclaredTypeInstance(type='Vec', params={'T': DeclaredTypeInstance(type='Integer', params=None)})}, args=['2903062968911337222', '-3052203273464861294', '-4316034631652130263'], kwargs=None)], '5863251406667164858': ['-8436013719796374484', CallNode(function='Abstraction.__add__', type_params={'U': DeclaredTypeInstance(type='Maybe', params={'T': DeclaredTypeInstance(type='Either', params={'U': DeclaredTypeInstance(type='Vec', params={'T': DeclaredTypeInstance(type='Integer', params=None)}), 'T': DeclaredTypeInstance(type='Integer', params=None)})}), 'T': DeclaredTypeInstance(type='Either', params={'U': DeclaredTypeInstance(type='Vec', params={'T': DeclaredTypeInstance(type='Integer', params=None)}), 'T': DeclaredTypeInstance(type='Integer', params=None)})}, args=['-524300340023843831', '1476814018894724778'], kwargs=None)], '-4316034631652130263': ['4127710310388454811', CallNode(function='Abstraction.__add__', type_params={'U': DeclaredTypeInstance(type='Maybe', params={'T': DeclaredTypeInstance(type='Either', params={'U': DeclaredTypeInstance(type='Vec', params={'T': DeclaredTypeInstance(type='Integer', params=None)}), 'T': DeclaredTypeInstance(type='Integer', params=None)})}), 'T': DeclaredTypeInstance(type='Either', params={'U': DeclaredTypeInstance(type='Vec', params={'T': DeclaredTypeInstance(type='Integer', params=None)}), 'T': DeclaredTypeInstance(type='Integer', params=None)})}, args=['-524300340023843831', '878450276063681107'], kwargs=None)], '-524300340023843831': ['-7507020889469263454', CallNode(function='Abstraction.create', type_params={'U': DeclaredTypeInstance(type='Maybe', params={'T': DeclaredTypeInstance(type='Either', params={'U': DeclaredTypeInstance(type='Vec', params={'T': DeclaredTypeInstance(type='Integer', params=None)}), 'T': DeclaredTypeInstance(type='Integer', params=None)})}), 'T': DeclaredTypeInstance(type='Either', params={'U': DeclaredTypeInstance(type='Vec', params={'T': DeclaredTypeInstance(type='Integer', params=None)}), 'T': DeclaredTypeInstance(type='Integer', params=None)})}, args=['-8009119954895460388', '8351397859519109505'], kwargs=None)], '-8009119954895460388': ['-8009119954895460388', CallNode(function='Abstraction.create_variable', type_params={'U': DeclaredTypeInstance(type='Maybe', params={'T': DeclaredTypeInstance(type='Either', params={'U': DeclaredTypeInstance(type='Vec', params={'T': DeclaredTypeInstance(type='Integer', params=None)}), 'T': DeclaredTypeInstance(type='Integer', params=None)})}), 'T': DeclaredTypeInstance(type='Either', params={'U': DeclaredTypeInstance(type='Vec', params={'T': DeclaredTypeInstance(type='Integer', params=None)}), 'T': DeclaredTypeInstance(type='Integer', params=None)})}, args=['1599161666292833159'], kwargs=None)], '8351397859519109505': ['8351397859519109505', CallNode(function='Maybe.just', type_params={'T': DeclaredTypeInstance(type='Either', params={'U': DeclaredTypeInstance(type='Vec', params={'T': DeclaredTypeInstance(type='Integer', params=None)}), 'T': DeclaredTypeInstance(type='Integer', params=None)})}, args=['-8009119954895460388'], kwargs=None)], '1599161666292833159': ['1599161666292833159', PrimitiveNode(type='Variable', repr='Variable(4549501448)')], '-5190030925353645917': ['4165022598424862665', CallNode(function='NDArrayCompat.to_ndarray', type_params=None, args=['-7825820219442522469'], kwargs=None)], '-7825820219442522469': ['-8054137683011941171', CallNode(function='NDArrayCompat.from_ndarray', type_params=None, args=['3510727206626288453'], kwargs=None)], '3510727206626288453': ['-1055990109103758883', CallNode(function='Maybe.match', type_params={'T': DeclaredTypeInstance(type='Pair', params={'U': DeclaredTypeInstance(type='Either', params={'U': DeclaredTypeInstance(type='Vec', params={'T': DeclaredTypeInstance(type='Integer', params=None)}), 'T': DeclaredTypeInstance(type='Integer', params=None)}), 'T': DeclaredTypeInstance(type='NDArray', params=None)})}, args=['-8298483154950733741', '-1741944831158160669', '-5849131892695947717'], kwargs=None)], '-5849131892695947717': ['-5849131892695947717', CallNode(function='Abstraction.create', type_params=None, args=['7616326404151103511', '-3781123388935602301'], kwargs=None)], '-3781123388935602301': ['-3781123388935602301', CallNode(function='Maybe.just', type_params={'T': DeclaredTypeInstance(type='NDArray', params=None)}, args=['-6242641388488469540'], kwargs=None)], '-9032464671173933132': ['4165022598424862665', CallNode(function='NDArrayCompat.to_ndarray', type_params=None, args=['-623527401191838813'], kwargs=None)], '-623527401191838813': ['-8054137683011941171', CallNode(function='NDArrayCompat.from_ndarray', type_params=None, args=['2676937003383821533'], kwargs=None)], '2676937003383821533': ['-1055990109103758883', CallNode(function='Maybe.match', type_params={'T': DeclaredTypeInstance(type='Pair', params={'U': DeclaredTypeInstance(type='Either', params={'U': DeclaredTypeInstance(type='Vec', params={'T': DeclaredTypeInstance(type='Integer', params=None)}), 'T': DeclaredTypeInstance(type='Integer', params=None)}), 'T': DeclaredTypeInstance(type='NDArray', params=None)})}, args=['-1643751931071470440', '-1741944831158160669', '-5849131892695947717'], kwargs=None)], '-1643751931071470440': ['-7774097712138673687', CallNode(function='Maybe.__and__', type_params={'T': DeclaredTypeInstance(type='NDArray', params=None)}, args=['-6026802563305382491', '-6935731215494089261'], kwargs=None)], '-6935731215494089261': ['6606662420229354367', CallNode(function='Maybe.__or__', type_params={'T': DeclaredTypeInstance(type='Either', params={'U': DeclaredTypeInstance(type='Vec', params={'T': DeclaredTypeInstance(type='Integer', params=None)}), 'T': DeclaredTypeInstance(type='Integer', params=None)})}, args=['3146911794523596558', '-3590883686264525135'], kwargs=None)], '3146911794523596558': ['9185684620050578154', CallNode(function='Abstraction.__call__', type_params={'U': DeclaredTypeInstance(type='Maybe', params={'T': DeclaredTypeInstance(type='Either', params={'U': DeclaredTypeInstance(type='Vec', params={'T': DeclaredTypeInstance(type='Integer', params=None)}), 'T': DeclaredTypeInstance(type='Integer', params=None)})}), 'T': DeclaredTypeInstance(type='Integer', params=None)}, args=['5984891096985012143', '-7334224414564589854'], kwargs=None)], '5984891096985012143': ['-8436013719796374484', CallNode(function='Abstraction.create', type_params=None, args=['8578252472718281855', '-6693496697354555112'], kwargs=None)], '-6693496697354555112': ['-6693496697354555112', CallNode(function='Maybe.just', type_params={'T': DeclaredTypeInstance(type='Either', params={'U': DeclaredTypeInstance(type='Vec', params={'T': DeclaredTypeInstance(type='Integer', params=None)}), 'T': DeclaredTypeInstance(type='Integer', params=None)})}, args=['2819426627661147747'], kwargs=None)], '-8517131237815112965': ['4165022598424862665', CallNode(function='NDArrayCompat.to_ndarray', type_params=None, args=['-9016173781794098173'], kwargs=None)], '-9016173781794098173': ['-8054137683011941171', CallNode(function='NDArrayCompat.from_ndarray', type_params=None, args=['8450186211931925691'], kwargs=None)], '8450186211931925691': ['-1055990109103758883', CallNode(function='Maybe.match', type_params={'T': DeclaredTypeInstance(type='Pair', params={'U': DeclaredTypeInstance(type='Either', params={'U': DeclaredTypeInstance(type='Vec', params={'T': DeclaredTypeInstance(type='Integer', params=None)}), 'T': DeclaredTypeInstance(type='Integer', params=None)}), 'T': DeclaredTypeInstance(type='NDArray', params=None)})}, args=['5632438364959790300', '-1741944831158160669', '-5849131892695947717'], kwargs=None)], '5632438364959790300': ['-7774097712138673687', CallNode(function='Maybe.__and__', type_params={'T': DeclaredTypeInstance(type='NDArray', params=None)}, args=['-6026802563305382491', '5162661124608334874'], kwargs=None)], '5162661124608334874': ['6606662420229354367', CallNode(function='Maybe.__or__', type_params={'T': DeclaredTypeInstance(type='Either', params={'U': DeclaredTypeInstance(type='Vec', params={'T': DeclaredTypeInstance(type='Integer', params=None)}), 'T': DeclaredTypeInstance(type='Integer', params=None)})}, args=['-1016045937770588202', '-3590883686264525135'], kwargs=None)], '-1016045937770588202': ['9185684620050578154', CallNode(function='Maybe.just', type_params={'T': DeclaredTypeInstance(type='Either', params={'U': DeclaredTypeInstance(type='Vec', params={'T': DeclaredTypeInstance(type='Integer', params=None)}), 'T': DeclaredTypeInstance(type='Integer', params=None)})}, args=['2234741608541215826'], kwargs=None)], '2234741608541215826': ['2234741608541215826', CallNode(function='Either.left', type_params={'U': DeclaredTypeInstance(type='Vec', params={'T': DeclaredTypeInstance(type='Integer', params=None)}), 'T': DeclaredTypeInstance(type='Integer', params=None)}, args=['-7334224414564589854'], kwargs=None)], '3659108955502189240': ['4165022598424862665', CallNode(function='NDArrayCompat.to_ndarray', type_params=None, args=['-3787670070481337032'], kwargs=None)], '-3787670070481337032': ['-8054137683011941171', CallNode(function='NDArrayCompat.from_ndarray', type_params=None, args=['-7364785662191049572'], kwargs=None)], '-7364785662191049572': ['-1055990109103758883', CallNode(function='Maybe.match', type_params={'T': DeclaredTypeInstance(type='Pair', params={'U': DeclaredTypeInstance(type='Either', params={'U': DeclaredTypeInstance(type='Vec', params={'T': DeclaredTypeInstance(type='Integer', params=None)}), 'T': DeclaredTypeInstance(type='Integer', params=None)}), 'T': DeclaredTypeInstance(type='NDArray', params=None)})}, args=['-8738724501778214990', '-1741944831158160669', '-5849131892695947717'], kwargs=None)], '-8738724501778214990': ['-7774097712138673687', CallNode(function='Maybe.__and__', type_params={'T': DeclaredTypeInstance(type='NDArray', params=None)}, args=['-6026802563305382491', '-571292593498884750'], kwargs=None)], '-571292593498884750': ['6606662420229354367', CallNode(function='Maybe.just', type_params=None, args=['2234741608541215826'], kwargs=None)], '48187019571414214': ['4165022598424862665', CallNode(function='NDArrayCompat.to_ndarray', type_params=None, args=['8127935577886256998'], kwargs=None)], '8127935577886256998': ['-8054137683011941171', CallNode(function='NDArrayCompat.from_ndarray', type_params=None, args=['-2097076808746091769'], kwargs=None)], '-2097076808746091769': ['-1055990109103758883', CallNode(function='Maybe.match', type_params={'T': DeclaredTypeInstance(type='Pair', params={'U': DeclaredTypeInstance(type='Either', params={'U': DeclaredTypeInstance(type='Vec', params={'T': DeclaredTypeInstance(type='Integer', params=None)}), 'T': DeclaredTypeInstance(type='Integer', params=None)}), 'T': DeclaredTypeInstance(type='NDArray', params=None)})}, args=['1432287808875976594', '-1741944831158160669', '-5849131892695947717'], kwargs=None)], '1432287808875976594': ['-7774097712138673687', CallNode(function='Maybe.__and__', type_params={'T': DeclaredTypeInstance(type='NDArray', params=None)}, args=['-2543239021466432252', '-571292593498884750'], kwargs=None)], '-2543239021466432252': ['-2612058384443202226', CallNode(function='Converter.convert', type_params={'T': DeclaredTypeInstance(type='NDArray', params=None)}, args=['-3947284529329432452'], kwargs=None)], '-3947284529329432452': ['-8020448314167642308', CallNode(function='NDArrayCompat.__add__', type_params=None, args=['-2980477199811135322', '-2980477199811135322'], kwargs=None)], '-2980477199811135322': ['2204185982366297925', CallNode(function='NDArrayCompat.from_ndarray', type_params=None, args=['-2313527872926375608'], kwargs=None)], '-2313527872926375608': ['-8125902144106883229', CallNode(function='Abstraction.__call__', type_params={'U': DeclaredTypeInstance(type='Maybe', params={'T': DeclaredTypeInstance(type='NDArray', params=None)}), 'T': DeclaredTypeInstance(type='Integer', params=None)}, args=['5710602366917524060', '-6362610179852757995'], kwargs=None)], '5710602366917524060': ['576327488382086654', CallNode(function='Abstraction.create', type_params=None, args=['-9156363857593975122', '7180603756957825861'], kwargs=None)], '7180603756957825861': ['7180603756957825861', CallNode(function='Maybe.just', type_params={'T': DeclaredTypeInstance(type='NDArray', params=None)}, args=['4236997518345950211'], kwargs=None)], '-4681697684847155292': ['4165022598424862665', CallNode(function='NDArrayCompat.to_ndarray', type_params=None, args=['-5149631899159039979'], kwargs=None)], '-5149631899159039979': ['-8054137683011941171', CallNode(function='NDArrayCompat.from_ndarray', type_params=None, args=['7967578635331361165'], kwargs=None)], '7967578635331361165': ['-1055990109103758883', CallNode(function='Maybe.match', type_params={'T': DeclaredTypeInstance(type='Pair', params={'U': DeclaredTypeInstance(type='Either', params={'U': DeclaredTypeInstance(type='Vec', params={'T': DeclaredTypeInstance(type='Integer', params=None)}), 'T': DeclaredTypeInstance(type='Integer', params=None)}), 'T': DeclaredTypeInstance(type='NDArray', params=None)})}, args=['-557126145891318584', '-1741944831158160669', '-5849131892695947717'], kwargs=None)], '-557126145891318584': ['-7774097712138673687', CallNode(function='Maybe.__and__', type_params={'T': DeclaredTypeInstance(type='NDArray', params=None)}, args=['338140197606853017', '-571292593498884750'], kwargs=None)], '338140197606853017': ['-2612058384443202226', CallNode(function='Converter.convert', type_params={'T': DeclaredTypeInstance(type='NDArray', params=None)}, args=['-4699293650293600044'], kwargs=None)], '-4699293650293600044': ['-8020448314167642308', CallNode(function='NDArrayCompat.__add__', type_params=None, args=['-7076490350121616374', '-7076490350121616374'], kwargs=None)], '-7076490350121616374': ['2204185982366297925', CallNode(function='NDArrayCompat.from_ndarray', type_params=None, args=['-1163157815125262957'], kwargs=None)], '-1163157815125262957': ['-8125902144106883229', CallNode(function='Maybe.just', type_params={'T': DeclaredTypeInstance(type='NDArray', params=None)}, args=['-2728638420105509621'], kwargs=None)], '-2728638420105509621': ['-2728638420105509621', CallNode(function='arange_', type_params=None, args=['-6362610179852757995'], kwargs=None)], '-4655249603592277273': ['4165022598424862665', CallNode(function='NDArrayCompat.to_ndarray', type_params=None, args=['-1204856444816838500'], kwargs=None)], '-1204856444816838500': ['-8054137683011941171', CallNode(function='NDArrayCompat.from_ndarray', type_params=None, args=['-5980548734597163353'], kwargs=None)], '-5980548734597163353': ['-1055990109103758883', CallNode(function='Maybe.match', type_params={'T': DeclaredTypeInstance(type='Pair', params={'U': DeclaredTypeInstance(type='Either', params={'U': DeclaredTypeInstance(type='Vec', params={'T': DeclaredTypeInstance(type='Integer', params=None)}), 'T': DeclaredTypeInstance(type='Integer', params=None)}), 'T': DeclaredTypeInstance(type='NDArray', params=None)})}, args=['2610055142882305649', '-1741944831158160669', '-5849131892695947717'], kwargs=None)], '2610055142882305649': ['-7774097712138673687', CallNode(function='Maybe.__and__', type_params={'T': DeclaredTypeInstance(type='NDArray', params=None)}, args=['-5891830971523934250', '-571292593498884750'], kwargs=None)], '-5891830971523934250': ['-2612058384443202226', CallNode(function='Converter.convert', type_params={'T': DeclaredTypeInstance(type='NDArray', params=None)}, args=['-4608393608812827134'], kwargs=None)], '-4608393608812827134': ['-8020448314167642308', CallNode(function='NDArrayCompat.from_ndarray', type_params=None, args=['5050840167957568185'], kwargs=None)], '5050840167957568185': ['5050840167957568185', CallNode(function='Maybe.just', type_params=None, args=['7295427386607788938'], kwargs=None)], '7295427386607788938': ['7295427386607788938', CallNode(function='NDArray.__add__', type_params=None, args=['-2728638420105509621', '-2728638420105509621'], kwargs=None)], '6317892281008984646': ['4165022598424862665', CallNode(function='NDArrayCompat.to_ndarray', type_params=None, args=['-3356482032731387926'], kwargs=None)], '-3356482032731387926': ['-8054137683011941171', CallNode(function='NDArrayCompat.from_ndarray', type_params=None, args=['-3830912570336408588'], kwargs=None)], '-3830912570336408588': ['-1055990109103758883', CallNode(function='Maybe.match', type_params={'T': DeclaredTypeInstance(type='Pair', params={'U': DeclaredTypeInstance(type='Either', params={'U': DeclaredTypeInstance(type='Vec', params={'T': DeclaredTypeInstance(type='Integer', params=None)}), 'T': DeclaredTypeInstance(type='Integer', params=None)}), 'T': DeclaredTypeInstance(type='NDArray', params=None)})}, args=['-7781987752522514566', '-1741944831158160669', '-5849131892695947717'], kwargs=None)], '-7781987752522514566': ['-7774097712138673687', CallNode(function='Maybe.__and__', type_params={'T': DeclaredTypeInstance(type='NDArray', params=None)}, args=['5050840167957568185', '-571292593498884750'], kwargs=None)], '5580781905710314117': ['4165022598424862665', CallNode(function='NDArrayCompat.to_ndarray', type_params=None, args=['8969952725409257859'], kwargs=None)], '8969952725409257859': ['-8054137683011941171', CallNode(function='NDArrayCompat.from_ndarray', type_params=None, args=['8319209501349130299'], kwargs=None)], '8319209501349130299': ['-1055990109103758883', CallNode(function='Maybe.match', type_params={'T': DeclaredTypeInstance(type='Pair', params={'U': DeclaredTypeInstance(type='Either', params={'U': DeclaredTypeInstance(type='Vec', params={'T': DeclaredTypeInstance(type='Integer', params=None)}), 'T': DeclaredTypeInstance(type='Integer', params=None)}), 'T': DeclaredTypeInstance(type='NDArray', params=None)})}, args=['6427508265334465884', '-1741944831158160669', '-5849131892695947717'], kwargs=None)], '6427508265334465884': ['-7774097712138673687', CallNode(function='Maybe.just', type_params=None, args=['-3417637043715638955'], kwargs=None)], '-3417637043715638955': ['-3417637043715638955', CallNode(function='Pair.create', type_params=None, args=['7295427386607788938', '2234741608541215826'], kwargs=None)], '5059275132099476370': ['4165022598424862665', CallNode(function='NDArrayCompat.to_ndarray', type_params=None, args=['6273001340327855699'], kwargs=None)], '6273001340327855699': ['-8054137683011941171', CallNode(function='NDArrayCompat.from_ndarray', type_params=None, args=['-3740630418154875537'], kwargs=None)], '-3740630418154875537': ['-1055990109103758883', CallNode(function='Abstraction.__call__', type_params={'U': DeclaredTypeInstance(type='Maybe', params={'T': DeclaredTypeInstance(type='NDArray', params=None)}), 'T': DeclaredTypeInstance(type='Pair', params={'U': DeclaredTypeInstance(type='Either', params={'U': DeclaredTypeInstance(type='Vec', params={'T': DeclaredTypeInstance(type='Integer', params=None)}), 'T': DeclaredTypeInstance(type='Integer', params=None)}), 'T': DeclaredTypeInstance(type='NDArray', params=None)})}, args=['-5849131892695947717', '-3417637043715638955'], kwargs=None)], '8084026966032417544': ['4165022598424862665', CallNode(function='NDArrayCompat.to_ndarray', type_params=None, args=['-3198979504917696568'], kwargs=None)], '-3198979504917696568': ['-8054137683011941171', CallNode(function='NDArrayCompat.from_ndarray', type_params=None, args=['-5959028095944793269'], kwargs=None)], '-5959028095944793269': ['-1055990109103758883', CallNode(function='Maybe.just', type_params={'T': DeclaredTypeInstance(type='NDArray', params=None)}, args=['6336738595663581056'], kwargs=None)], '6336738595663581056': ['6336738595663581056', CallNode(function='NDArray.__getitem__', type_params=None, args=['-2166330811180776367', '-7588579201374007797'], kwargs=None)], '-2166330811180776367': ['-2166330811180776367', CallNode(function='Pair.left', type_params={'U': DeclaredTypeInstance(type='Either', params={'U': DeclaredTypeInstance(type='Vec', params={'T': DeclaredTypeInstance(type='Integer', params=None)}), 'T': DeclaredTypeInstance(type='Integer', params=None)}), 'T': DeclaredTypeInstance(type='NDArray', params=None)}, args=['-3417637043715638955'], kwargs=None)], '-7588579201374007797': ['-7588579201374007797', CallNode(function='Pair.right', type_params={'U': DeclaredTypeInstance(type='Either', params={'U': DeclaredTypeInstance(type='Vec', params={'T': DeclaredTypeInstance(type='Integer', params=None)}), 'T': DeclaredTypeInstance(type='Integer', params=None)}), 'T': DeclaredTypeInstance(type='NDArray', params=None)}, args=['-3417637043715638955'], kwargs=None)], '2283664882045373484': ['4165022598424862665', CallNode(function='NDArrayCompat.to_ndarray', type_params=None, args=['4201326982062544042'], kwargs=None)], '4201326982062544042': ['-8054137683011941171', CallNode(function='NDArrayCompat.from_ndarray', type_params=None, args=['-579534469142454861'], kwargs=None)], '-579534469142454861': ['-1055990109103758883', CallNode(function='Maybe.just', type_params={'T': DeclaredTypeInstance(type='NDArray', params=None)}, args=['-4902155376939906580'], kwargs=None)], '-4902155376939906580': ['6336738595663581056', CallNode(function='NDArray.__getitem__', type_params=None, args=['7295427386607788938', '-7588579201374007797'], kwargs=None)], '652240624794251119': ['4165022598424862665', CallNode(function='NDArrayCompat.to_ndarray', type_params=None, args=['-6950667504736825385'], kwargs=None)], '-6950667504736825385': ['-8054137683011941171', CallNode(function='NDArrayCompat.from_ndarray', type_params=None, args=['-8894809238350107363'], kwargs=None)], '-8894809238350107363': ['-1055990109103758883', CallNode(function='Maybe.just', type_params={'T': DeclaredTypeInstance(type='NDArray', params=None)}, args=['-6484536546174589122'], kwargs=None)], '-6484536546174589122': ['-6484536546174589122', CallNode(function='NDArray.__getitem__', type_params=None, args=['7295427386607788938', '2234741608541215826'], kwargs=None)], '5582787500205250909': ['4165022598424862665', CallNode(function='NDArray.to_ndarray', type_params=None, args=['-6484536546174589122'], kwargs=None)], '5730508223048694221': ['4165022598424862665', CallNode(function='ndarray_getitem', type_params=None, args=['88960120338462496', '-242142689691567201'], kwargs=None)], '88960120338462496': ['88960120338462496', CallNode(function='NDArray.to_ndarray', type_params=None, args=['7295427386607788938'], kwargs=None)], '-242142689691567201': ['-242142689691567201', CallNode(function='unbox_idxs', type_params=None, args=['2234741608541215826'], kwargs=None)], '7072695247568516718': ['4165022598424862665', CallNode(function='ndarray_getitem', type_params=None, args=['-6437443823834153471', '-242142689691567201'], kwargs=None)], '-6437443823834153471': ['88960120338462496', CallNode(function='ndarray_add', type_params=None, args=['8387922858404920787', '8387922858404920787'], kwargs=None)], '8387922858404920787': ['8387922858404920787', CallNode(function='NDArray.to_ndarray', type_params=None, args=['-2728638420105509621'], kwargs=None)], '-3478057614712610906': ['4165022598424862665', CallNode(function='ndarray_getitem', type_params=None, args=['-6437443823834153471', '7516757055623286900'], kwargs=None)], '7516757055623286900': ['-242142689691567201', CallNode(function='unbox_integer', type_params=None, args=['-7334224414564589854'], kwargs=None)], '-4518717273791479957': ['4165022598424862665', CallNode(function='ndarray_getitem', type_params=None, args=['-6437443823834153471', '852842466831624100'], kwargs=None)], '2434176688676008533': ['4165022598424862665', CallNode(function='ndarray_getitem', type_params=None, args=['-575799573802277263', '852842466831624100'], kwargs=None)], '-575799573802277263': ['88960120338462496', CallNode(function='ndarray_add', type_params=None, args=['7193990468420720555', '7193990468420720555'], kwargs=None)], '7193990468420720555': ['8387922858404920787', CallNode(function='arange', type_params=None, args=['-3593810371421164704'], kwargs=None)], '-3593810371421164704': ['-3593810371421164704', CallNode(function='unbox_integer', type_params=None, args=['-6362610179852757995'], kwargs=None)], '-7402593879957315393': ['4165022598424862665', CallNode(function='ndarray_getitem', type_params=None, args=['-5627968470848797187', '852842466831624100'], kwargs=None)], '-5627968470848797187': ['88960120338462496', CallNode(function='ndarray_add', type_params=None, args=['-8166652912911790717', '-8166652912911790717'], kwargs=None)], '-8166652912911790717': ['8387922858404920787', CallNode(function='arange', type_params=None, args=['852842466726619175'], kwargs=None)], '8753659172748810690': ['4165022598424862665', CallNode(function='ndarray_getitem', type_params=None, args=['8462966148717783947', '852842466831624100'], kwargs=None)], '8462966148717783947': ['88960120338462496', CallNode(function='ndarray_add', type_params=None, args=['6676562265208656325', '6676562265208656325'], kwargs=None)], '6676562265208656325': ['8387922858404920787', PrimitiveNode(type='ndarray', repr='array([ 0,  1,  2,  3,  4,  5,  6,  7,  8,  9, 10, 11, 12, 13, 14, 15, 16,\\n       17, 18, 19, 20, 21, 22, 23, 24, 25, 26, 27, 28, 29, 30, 31, 32, 33,\\n       34, 35, 36, 37, 38, 39, 40, 41, 42, 43, 44, 45, 46, 47, 48, 49, 50,\\n       51, 52, 53, 54, 55, 56, 57, 58, 59, 60, 61, 62, 63, 64, 65, 66, 67,\\n       68, 69, 70, 71, 72, 73, 74, 75, 76, 77, 78, 79, 80, 81, 82, 83, 84,\\n       85, 86, 87, 88, 89, 90, 91, 92, 93, 94, 95, 96, 97, 98, 99])')], '8495798021883795': ['4165022598424862665', CallNode(function='ndarray_getitem', type_params=None, args=['6676561579805787525', '852842466831624100'], kwargs=None)], '6676561579805787525': ['88960120338462496', PrimitiveNode(type='ndarray', repr='array([  0,   2,   4,   6,   8,  10,  12,  14,  16,  18,  20,  22,  24,\\n        26,  28,  30,  32,  34,  36,  38,  40,  42,  44,  46,  48,  50,\\n        52,  54,  56,  58,  60,  62,  64,  66,  68,  70,  72,  74,  76,\\n        78,  80,  82,  84,  86,  88,  90,  92,  94,  96,  98, 100, 102,\\n       104, 106, 108, 110, 112, 114, 116, 118, 120, 122, 124, 126, 128,\\n       130, 132, 134, 136, 138, 140, 142, 144, 146, 148, 150, 152, 154,\\n       156, 158, 160, 162, 164, 166, 168, 170, 172, 174, 176, 178, 180,\\n       182, 184, 186, 188, 190, 192, 194, 196, 198])')], '6676563145414063925': ['4165022598424862665', PrimitiveNode(type='ndarray', repr='array(10)')]}, states=States(initial='4165022598424862665', states=[State(node='8880641909229014926', rule='metadsl_core.numpy.NDArrayCompat.__getitem__', label=None), State(node='6891690128474555983', rule='metadsl_core.either.convert_to_either', label=None), State(node='-7075926890243176742', rule='metadsl_core.numpy.arange', label=None), State(node='6911206259321583495', rule='metadsl_core.integer.convert_integer', label=None), State(node='-829264615964567717', rule='metadsl_core.integer.convert_integer', label=None), State(node='7676590665895654396', rule='metadsl_core.abstraction.Abstraction.from_fn', label=None), State(node='8573804343708975551', rule='metadsl_core.abstraction.Abstraction.from_fn', label=None), State(node='-4197977456492689751', rule='metadsl_core.abstraction.Abstraction.from_fn', label=None), State(node='5420067201103152751', rule='metadsl_core.abstraction.Abstraction.from_fn', label=None), State(node='-266809558131030456', rule='metadsl_core.maybe.Maybe.map', label=None), State(node='-5796473528836597542', rule='metadsl_core.maybe.Maybe.map', label=None), State(node='6346996280005156099', rule='metadsl_core.maybe.maybe_match', label=None), State(node='6459715368499033432', rule='metadsl_core.maybe.Maybe.map', label=None), State(node='-6922184826676391054', rule='metadsl_core.maybe.Maybe.map', label=None), State(node='953149618496524630', rule='metadsl_core.maybe.maybe_match', label=None), State(node='6463438930795674921', rule='metadsl_core.abstraction.Abstraction.from_fn', label=None), State(node='-7139390227789993331', rule='metadsl_core.abstraction.Abstraction.from_fn', label=None), State(node='-5190030925353645917', rule='metadsl_core.abstraction.compose', label=None), State(node='-9032464671173933132', rule='metadsl_core.abstraction.compose', label=None), State(node='-8517131237815112965', rule='metadsl_core.abstraction.beta_reduce', label=None), State(node='3659108955502189240', rule='metadsl_core.maybe.maybe_or', label=None), State(node='48187019571414214', rule='metadsl_core.abstraction.compose', label=None), State(node='-4681697684847155292', rule='metadsl_core.abstraction.beta_reduce', label=None), State(node='-4655249603592277273', rule='metadsl_core.numpy.add_compat', label=None), State(node='6317892281008984646', rule='metadsl_core.numpy.convert_to_ndarray', label=None), State(node='5580781905710314117', rule='metadsl_core.maybe.maybe_and', label=None), State(node='5059275132099476370', rule='metadsl_core.maybe.maybe_match', label=None), State(node='8084026966032417544', rule='metadsl_core.abstraction.beta_reduce', label=None), State(node='2283664882045373484', rule='metadsl_core.pair.pair_left', label=None), State(node='652240624794251119', rule='metadsl_core.pair.pair_right', label=None), State(node='652240624794251119', rule='', label='convert'), State(node='5582787500205250909', rule='metadsl_core.numpy.box_unbox_ndarray_compat', label=None), State(node='5730508223048694221', rule='metadsl_core.numpy_engine.unbox_ndarray_getitem', label=None), State(node='7072695247568516718', rule='metadsl_core.numpy_engine.unbox_ndarray_add', label=None), State(node='-3478057614712610906', rule='metadsl_core.numpy_engine.unbox_idxs_rule', label=None), State(node='-4518717273791479957', rule='metadsl_core.numpy_engine.unbox_integer_rule', label=None), State(node='2434176688676008533', rule='metadsl_core.numpy_engine.unbox_arange', label=None), State(node='-7402593879957315393', rule='metadsl_core.numpy_engine.unbox_integer_rule', label=None), State(node='-7402593879957315393', rule='', label='unbox'), State(node='8753659172748810690', rule='metadsl_core.numpy_engine.arange', label=None), State(node='8495798021883795', rule='metadsl_core.numpy_engine.ndarray_add', label=None), State(node='6676563145414063925', rule='metadsl_core.numpy_engine.ndarray_getitem', label=None), State(node='6676563145414063925', rule='', label='execute')]))"
      ]
     },
     "metadata": {},
     "output_type": "display_data"
    },
    {
     "data": {
      "text/plain": [
       "array(10)"
      ]
     },
     "metadata": {},
     "output_type": "display_data"
    }
   ],
   "source": [
    "N = 100\n",
    "expr = (arange(N) + arange(N))[5].to_ndarray()\n",
    "expr\n",
    "expr._ipython_display_()"
   ]
  },
  {
   "cell_type": "markdown",
   "metadata": {},
   "source": [
    "Now, we can add an optimization replacement, so that we do the getitem before adding the two expressions:"
   ]
  },
  {
   "cell_type": "code",
   "execution_count": 4,
   "metadata": {},
   "outputs": [],
   "source": [
    "@register\n",
    "@rule\n",
    "def optimize_getitem_add(l: NDArray, r: NDArray, idx: IndxType) -> R[NDArray]:\n",
    "    return (\n",
    "        # expression to match against\n",
    "        (l + r)[idx],\n",
    "        # expression to replace it with\n",
    "        l[idx] + r[idx]\n",
    "    )"
   ]
  },
  {
   "cell_type": "markdown",
   "metadata": {},
   "source": [
    "Now, when we look at the execution steps, we see that it is doing each getitem before adding, which should be more efficient:"
   ]
  },
  {
   "cell_type": "code",
   "execution_count": 5,
   "metadata": {},
   "outputs": [
    {
     "data": {
      "application/json": {
       "nodes": {
        "-1010262108927125773": [
         "-1010262108927125773",
         {
          "args": [
           "-7334224414564589854"
          ],
          "function": "Maybe.just"
         }
        ],
        "-1016045937770588202": [
         "-7124340782382811070",
         {
          "args": [
           "2234741608541215826"
          ],
          "function": "Maybe.just",
          "type_params": {
           "T": {
            "params": {
             "T": {
              "type": "Integer"
             },
             "U": {
              "params": {
               "T": {
                "type": "Integer"
               }
              },
              "type": "Vec"
             }
            },
            "type": "Either"
           }
          }
         }
        ],
        "-1026313121908345213": [
         "-4814678537500170364",
         {
          "args": [
           "-1156468161871471630",
           "6856229555535770924"
          ],
          "function": "Maybe.__and__",
          "type_params": {
           "T": {
            "type": "NDArray"
           }
          }
         }
        ],
        "-1039774064523142733": [
         "4165022598424862665",
         {
          "args": [
           "5979462813476510758"
          ],
          "function": "NDArrayCompat.to_ndarray"
         }
        ],
        "-1116489153309032335": [
         "4165022598424862665",
         {
          "args": [
           "-547873482950551710",
           "-547873482950551710"
          ],
          "function": "ndarray_add"
         }
        ],
        "-11254779807056851": [
         "-8054137683011941171",
         {
          "args": [
           "3801898921474904983"
          ],
          "function": "NDArrayCompat.from_ndarray"
         }
        ],
        "-1156468161871471630": [
         "7947258440880147023",
         {
          "args": [
           "-3654042068687366610"
          ],
          "function": "Converter.convert",
          "type_params": {
           "T": {
            "type": "NDArray"
           }
          }
         }
        ],
        "-1163157815125262957": [
         "-5254370847906375128",
         {
          "args": [
           "-2728638420105509621"
          ],
          "function": "Maybe.just",
          "type_params": {
           "T": {
            "type": "NDArray"
           }
          }
         }
        ],
        "-1298893307199550344": [
         "4165022598424862665",
         {
          "args": [
           "-5669056253452353415"
          ],
          "function": "NDArrayCompat.to_ndarray"
         }
        ],
        "-1300383532418558388": [
         "2864275428688390516",
         {
          "args": [
           "7101875186934734484",
           "-1467930441750646094"
          ],
          "function": "Abstraction.__add__",
          "type_params": {
           "T": {
            "params": {
             "T": {
              "type": "Integer"
             },
             "U": {
              "params": {
               "T": {
                "type": "Integer"
               }
              },
              "type": "Vec"
             }
            },
            "type": "Either"
           },
           "U": {
            "params": {
             "T": {
              "params": {
               "T": {
                "type": "Integer"
               },
               "U": {
                "params": {
                 "T": {
                  "type": "Integer"
                 }
                },
                "type": "Vec"
               }
              },
              "type": "Either"
             }
            },
            "type": "Maybe"
           }
          }
         }
        ],
        "-1367818777895260447": [
         "-2256523982435669739",
         {
          "args": [
           "1244090721317169732",
           "-571292593498884750"
          ],
          "function": "Maybe.__and__",
          "type_params": {
           "T": {
            "type": "NDArray"
           }
          }
         }
        ],
        "-1405200707188384813": [
         "-1405200707188384813",
         {
          "args": [
           "-8849721174918414579"
          ],
          "function": "NDArray.to_ndarray"
         }
        ],
        "-1415516388102048813": [
         "-8054137683011941171",
         {
          "args": [
           "-672613890357932818"
          ],
          "function": "NDArrayCompat.from_ndarray"
         }
        ],
        "-1467930441750646094": [
         "-1467930441750646094",
         {
          "args": [
           "4436707967317074207",
           "3571471722856851369"
          ],
          "function": "Abstraction.create",
          "type_params": {
           "T": {
            "type": "Integer"
           },
           "U": {
            "params": {
             "T": {
              "type": "Integer"
             },
             "U": {
              "params": {
               "T": {
                "type": "Integer"
               }
              },
              "type": "Vec"
             }
            },
            "type": "Either"
           }
          }
         }
        ],
        "-1472911467723800719": [
         "7981845083225442043",
         {
          "args": [
           "-1016045937770588202",
           "-3868363342371013322"
          ],
          "function": "Maybe.__or__",
          "type_params": {
           "T": {
            "params": {
             "T": {
              "type": "Integer"
             },
             "U": {
              "params": {
               "T": {
                "type": "Integer"
               }
              },
              "type": "Vec"
             }
            },
            "type": "Either"
           }
          }
         }
        ],
        "-1550240104841062570": [
         "-1550240104841062570",
         {
          "args": [
           "-3068421415838553853",
           "7593629375782685187"
          ],
          "function": "Abstraction.create",
          "type_params": {
           "T": {
            "params": {
             "T": {
              "type": "NDArray"
             },
             "U": {
              "params": {
               "T": {
                "type": "Integer"
               },
               "U": {
                "params": {
                 "T": {
                  "type": "Integer"
                 }
                },
                "type": "Vec"
               }
              },
              "type": "Either"
             }
            },
            "type": "Pair"
           },
           "U": {
            "type": "NDArray"
           }
          }
         }
        ],
        "-1557203513455568992": [
         "-4814678537500170364",
         {
          "args": [
           "-1156468161871471630",
           "2784868908810072070"
          ],
          "function": "Maybe.__and__",
          "type_params": {
           "T": {
            "type": "NDArray"
           }
          }
         }
        ],
        "-1564021099621676942": [
         "4165022598424862665",
         {
          "args": [
           "-2371674733735256586"
          ],
          "function": "NDArrayCompat.to_ndarray"
         }
        ],
        "-1741944831158160669": [
         "-1741944831158160669",
         {
          "function": "Maybe.nothing",
          "type_params": {
           "T": {
            "type": "NDArray"
           }
          }
         }
        ],
        "-1743313584654778961": [
         "-1743313584654778961",
         {
          "repr": "Either.right",
          "type": "BoundInfer"
         }
        ],
        "-1852183872330473097": [
         "-9214882002482918105",
         {
          "args": [
           "604144056810708289",
           "-1741944831158160669",
           "-2254904298553319150"
          ],
          "function": "Maybe.match",
          "type_params": {
           "T": {
            "params": {
             "T": {
              "type": "NDArray"
             },
             "U": {
              "params": {
               "T": {
                "type": "Integer"
               },
               "U": {
                "params": {
                 "T": {
                  "type": "Integer"
                 }
                },
                "type": "Vec"
               }
              },
              "type": "Either"
             }
            },
            "type": "Pair"
           }
          }
         }
        ],
        "-1953676376133218332": [
         "4165022598424862665",
         {
          "args": [
           "-1415516388102048813"
          ],
          "function": "NDArrayCompat.to_ndarray"
         }
        ],
        "-2020680039428041117": [
         "-9214882002482918105",
         {
          "args": [
           "1055037431482305173",
           "-1741944831158160669",
           "-7419500629896554251"
          ],
          "function": "Maybe.match",
          "type_params": {
           "T": {
            "params": {
             "T": {
              "type": "NDArray"
             },
             "U": {
              "params": {
               "T": {
                "type": "Integer"
               },
               "U": {
                "params": {
                 "T": {
                  "type": "Integer"
                 }
                },
                "type": "Vec"
               }
              },
              "type": "Either"
             }
            },
            "type": "Pair"
           }
          }
         }
        ],
        "-2166330811180776367": [
         "-2166330811180776367",
         {
          "args": [
           "-3417637043715638955"
          ],
          "function": "Pair.left",
          "type_params": {
           "T": {
            "type": "NDArray"
           },
           "U": {
            "params": {
             "T": {
              "type": "Integer"
             },
             "U": {
              "params": {
               "T": {
                "type": "Integer"
               }
              },
              "type": "Vec"
             }
            },
            "type": "Either"
           }
          }
         }
        ],
        "-2194353901661938916": [
         "-7098754822566143812",
         {
          "args": [
           "-30235879659792941",
           "-30235879659792941"
          ],
          "function": "NDArrayCompat.__add__"
         }
        ],
        "-2254904298553319150": [
         "-2254904298553319150",
         {
          "args": [
           "-3068421415838553853",
           "6760213600488917919"
          ],
          "function": "Abstraction.create"
         }
        ],
        "-2256523982435669739": [
         "-2256523982435669739",
         {
          "args": [
           "-4906189995990238770",
           "7981845083225442043"
          ],
          "function": "Maybe.__and__",
          "type_params": {
           "T": {
            "type": "NDArray"
           }
          }
         }
        ],
        "-2266514298468117634": [
         "-2266514298468117634",
         {
          "repr": "Maybe.just",
          "type": "BoundInfer"
         }
        ],
        "-2304371491104426171": [
         "-8054137683011941171",
         {
          "args": [
           "-970106663915368608"
          ],
          "function": "NDArrayCompat.from_ndarray"
         }
        ],
        "-2328637521397002667": [
         "-9214882002482918105",
         {
          "args": [
           "7268800435487306097",
           "3418814719444300196"
          ],
          "function": "Maybe.map",
          "type_params": {
           "T": {
            "params": {
             "T": {
              "type": "NDArray"
             },
             "U": {
              "params": {
               "T": {
                "type": "Integer"
               },
               "U": {
                "params": {
                 "T": {
                  "type": "Integer"
                 }
                },
                "type": "Vec"
               }
              },
              "type": "Either"
             }
            },
            "type": "Pair"
           }
          }
         }
        ],
        "-2371674733735256586": [
         "-8054137683011941171",
         {
          "args": [
           "-5812146582632439367"
          ],
          "function": "NDArrayCompat.from_ndarray"
         }
        ],
        "-241267227046589772": [
         "4165022598424862665",
         {
          "args": [
           "5366071883150323361"
          ],
          "function": "NDArrayCompat.to_ndarray"
         }
        ],
        "-242142689691567201": [
         "-242142689691567201",
         {
          "args": [
           "2234741608541215826"
          ],
          "function": "unbox_idxs"
         }
        ],
        "-2565939494599753983": [
         "4165022598424862665",
         {
          "repr": "10",
          "type": "int64"
         }
        ],
        "-2616682736920326438": [
         "-2616682736920326438",
         {
          "args": [
           "6473606452442739172"
          ],
          "function": "arange_"
         }
        ],
        "-2636671876811910468": [
         "-5254370847906375128",
         {
          "args": [
           "4874789309870391584",
           "-6362610179852757995"
          ],
          "function": "Abstraction.__call__",
          "type_params": {
           "T": {
            "type": "Integer"
           },
           "U": {
            "params": {
             "T": {
              "type": "NDArray"
             }
            },
            "type": "Maybe"
           }
          }
         }
        ],
        "-2651554774626346251": [
         "-2651554774626346251",
         {
          "args": [
           "1599161620968593934"
          ],
          "function": "Abstraction.create_variable",
          "type_params": {
           "T": {
            "type": "NDArray"
           },
           "U": {
            "params": {
             "T": {
              "type": "NDArray"
             }
            },
            "type": "Maybe"
           }
          }
         }
        ],
        "-2728638420105509621": [
         "-2728638420105509621",
         {
          "args": [
           "-6362610179852757995"
          ],
          "function": "arange_"
         }
        ],
        "-2770036726107558302": [
         "-9214882002482918105",
         {
          "args": [
           "6427508265334465884",
           "-1741944831158160669",
           "-2254904298553319150"
          ],
          "function": "Maybe.match",
          "type_params": {
           "T": {
            "params": {
             "T": {
              "type": "NDArray"
             },
             "U": {
              "params": {
               "T": {
                "type": "Integer"
               },
               "U": {
                "params": {
                 "T": {
                  "type": "Integer"
                 }
                },
                "type": "Vec"
               }
              },
              "type": "Either"
             }
            },
            "type": "Pair"
           }
          }
         }
        ],
        "-2782682249672993803": [
         "-2782682249672993803",
         {
          "args": [
           "-3068421415838553853"
          ],
          "function": "Pair.right",
          "type_params": {
           "T": {
            "type": "NDArray"
           },
           "U": {
            "params": {
             "T": {
              "type": "Integer"
             },
             "U": {
              "params": {
               "T": {
                "type": "Integer"
               }
              },
              "type": "Vec"
             }
            },
            "type": "Either"
           }
          }
         }
        ],
        "-2819577080870095790": [
         "7981845083225442043",
         {
          "args": [
           "7819625667726201475",
           "666638544606779544"
          ],
          "function": "Maybe.__or__",
          "type_params": {
           "T": {
            "params": {
             "T": {
              "type": "Integer"
             },
             "U": {
              "params": {
               "T": {
                "type": "Integer"
               }
              },
              "type": "Vec"
             }
            },
            "type": "Either"
           }
          }
         }
        ],
        "-2950478782509142151": [
         "4165022598424862665",
         {
          "args": [
           "2235556238537552186"
          ],
          "function": "NDArrayCompat.to_ndarray"
         }
        ],
        "-2962926686881120987": [
         "2864275428688390516",
         {
          "args": [
           "4436707967317074207",
           "1398509882097183646"
          ],
          "function": "Abstraction.create"
         }
        ],
        "-30235879659792941": [
         "6309009682264249851",
         {
          "args": [
           "2181308972867413742"
          ],
          "function": "NDArrayCompat.from_ndarray"
         }
        ],
        "-3029427928634493427": [
         "-9214882002482918105",
         {
          "args": [
           "-8433167755193111826",
           "-1741944831158160669",
           "-7419500629896554251"
          ],
          "function": "Maybe.match",
          "type_params": {
           "T": {
            "params": {
             "T": {
              "type": "NDArray"
             },
             "U": {
              "params": {
               "T": {
                "type": "Integer"
               },
               "U": {
                "params": {
                 "T": {
                  "type": "Integer"
                 }
                },
                "type": "Vec"
               }
              },
              "type": "Either"
             }
            },
            "type": "Pair"
           }
          }
         }
        ],
        "-3052203273464861294": [
         "-3052203273464861294",
         {
          "function": "Maybe.nothing",
          "type_params": {
           "T": {
            "params": {
             "T": {
              "type": "Integer"
             },
             "U": {
              "params": {
               "T": {
                "type": "Integer"
               }
              },
              "type": "Vec"
             }
            },
            "type": "Either"
           }
          }
         }
        ],
        "-3068421415838553853": [
         "-3068421415838553853",
         {
          "args": [
           "1599161591337719634"
          ],
          "function": "Abstraction.create_variable",
          "type_params": {
           "T": {
            "params": {
             "T": {
              "type": "NDArray"
             },
             "U": {
              "params": {
               "T": {
                "type": "Integer"
               },
               "U": {
                "params": {
                 "T": {
                  "type": "Integer"
                 }
                },
                "type": "Vec"
               }
              },
              "type": "Either"
             }
            },
            "type": "Pair"
           },
           "U": {
            "type": "NDArray"
           }
          }
         }
        ],
        "-3186646370078843392": [
         "-9214882002482918105",
         {
          "args": [
           "-557126145891318584",
           "-1741944831158160669",
           "-2254904298553319150"
          ],
          "function": "Maybe.match",
          "type_params": {
           "T": {
            "params": {
             "T": {
              "type": "NDArray"
             },
             "U": {
              "params": {
               "T": {
                "type": "Integer"
               },
               "U": {
                "params": {
                 "T": {
                  "type": "Integer"
                 }
                },
                "type": "Vec"
               }
              },
              "type": "Either"
             }
            },
            "type": "Pair"
           }
          }
         }
        ],
        "-3198979504917696568": [
         "-8054137683011941171",
         {
          "args": [
           "-5959028095944793269"
          ],
          "function": "NDArrayCompat.from_ndarray"
         }
        ],
        "-3205579016505078363": [
         "-4906189995990238770",
         {
          "args": [
           "6273833907686124028"
          ],
          "function": "Converter.convert",
          "type_params": {
           "T": {
            "type": "NDArray"
           }
          }
         }
        ],
        "-3417637043715638955": [
         "-3417637043715638955",
         {
          "args": [
           "7295427386607788938",
           "2234741608541215826"
          ],
          "function": "Pair.create"
         }
        ],
        "-3553652926862722267": [
         "-3553652926862722267",
         {
          "args": [
           "-3689034126165086493",
           "786997342016145894"
          ],
          "function": "Abstraction.__add__",
          "type_params": {
           "T": {
            "type": "NDArray"
           },
           "U": {
            "params": {
             "T": {
              "type": "NDArray"
             }
            },
            "type": "Maybe"
           }
          }
         }
        ],
        "-3593810371421164704": [
         "-3593810371421164704",
         {
          "args": [
           "-6362610179852757995"
          ],
          "function": "unbox_integer"
         }
        ],
        "-3654042068687366610": [
         "-5558510579709572674",
         {
          "args": [
           "6583497480016573524",
           "6583497480016573524"
          ],
          "function": "NDArrayCompat.__add__"
         }
        ],
        "-367087397212878688": [
         "-8054137683011941171",
         {
          "args": [
           "-6740074589041225197"
          ],
          "function": "NDArrayCompat.from_ndarray"
         }
        ],
        "-3685428010484980666": [
         "-2256523982435669739",
         {
          "args": [
           "-3205579016505078363",
           "-4938600625655742771"
          ],
          "function": "Maybe.__and__",
          "type_params": {
           "T": {
            "type": "NDArray"
           }
          }
         }
        ],
        "-3689034126165086493": [
         "-3689034126165086493",
         {
          "args": [
           "-562755898029559237"
          ],
          "function": "Abstraction.from_fn"
         }
        ],
        "-3703022898073510393": [
         "-1405200707188384813",
         {
          "args": [
           "8387922858404920787",
           "-242142689691567201"
          ],
          "function": "ndarray_getitem"
         }
        ],
        "-3868363342371013322": [
         "666638544606779544",
         {
          "args": [
           "2903062968911337222",
           "-3052203273464861294",
           "-4946758099071123717"
          ],
          "function": "Maybe.match",
          "type_params": {
           "T": {
            "params": {
             "T": {
              "type": "Integer"
             }
            },
            "type": "Vec"
           }
          }
         }
        ],
        "-3959082397011265629": [
         "-1405200707188384813",
         {
          "args": [
           "6676561542861374325",
           "852842466831624100"
          ],
          "function": "ndarray_getitem"
         }
        ],
        "-3975180199655561458": [
         "-9214882002482918105",
         {
          "args": [
           "8199993726224451980",
           "3418814719444300196"
          ],
          "function": "Maybe.map",
          "type_params": {
           "T": {
            "params": {
             "T": {
              "type": "NDArray"
             },
             "U": {
              "params": {
               "T": {
                "type": "Integer"
               },
               "U": {
                "params": {
                 "T": {
                  "type": "Integer"
                 }
                },
                "type": "Vec"
               }
              },
              "type": "Either"
             }
            },
            "type": "Pair"
           }
          }
         }
        ],
        "-4101857827642879953": [
         "-4101857827642879953",
         {
          "args": [
           "-3068421415838553853"
          ],
          "function": "Pair.left",
          "type_params": {
           "T": {
            "type": "NDArray"
           },
           "U": {
            "params": {
             "T": {
              "type": "Integer"
             },
             "U": {
              "params": {
               "T": {
                "type": "Integer"
               }
              },
              "type": "Vec"
             }
            },
            "type": "Either"
           }
          }
         }
        ],
        "-4247832016187456177": [
         "-1405200707188384813",
         {
          "args": [
           "7193990468420720555",
           "-242142689691567201"
          ],
          "function": "ndarray_getitem"
         }
        ],
        "-4252058329235867685": [
         "4165022598424862665",
         {
          "args": [
           "-367087397212878688"
          ],
          "function": "NDArrayCompat.to_ndarray"
         }
        ],
        "-4342200577764080509": [
         "-8054137683011941171",
         {
          "args": [
           "850465293133506366"
          ],
          "function": "NDArrayCompat.from_ndarray"
         }
        ],
        "-4608393608812827134": [
         "-7098754822566143812",
         {
          "args": [
           "5050840167957568185"
          ],
          "function": "NDArrayCompat.from_ndarray"
         }
        ],
        "-4699293650293600044": [
         "-7098754822566143812",
         {
          "args": [
           "-7076490350121616374",
           "-7076490350121616374"
          ],
          "function": "NDArrayCompat.__add__"
         }
        ],
        "-4724715256758988081": [
         "5848963126652067044",
         {
          "args": [
           "-5463825541328231257",
           "-8550721238847586890"
          ],
          "function": "Maybe.map",
          "type_params": {
           "T": {
            "type": "Integer"
           }
          }
         }
        ],
        "-4736513701993601747": [
         "4165022598424862665",
         {
          "args": [
           "2966145761745473501"
          ],
          "function": "NDArrayCompat.to_ndarray"
         }
        ],
        "-4814678537500170364": [
         "-4814678537500170364",
         {
          "args": [
           "7947258440880147023",
           "-7413928963025066946"
          ],
          "function": "Maybe.__and__",
          "type_params": {
           "T": {
            "type": "NDArray"
           }
          }
         }
        ],
        "-4870123060833598460": [
         "-8054137683011941171",
         {
          "args": [
           "2405391047222319132"
          ],
          "function": "NDArrayCompat.from_ndarray"
         }
        ],
        "-4902155376939906580": [
         "6336738595663581056",
         {
          "args": [
           "7295427386607788938",
           "-7588579201374007797"
          ],
          "function": "NDArray.__getitem__"
         }
        ],
        "-4906189995990238770": [
         "-4906189995990238770",
         {
          "args": [
           "-7098754822566143812"
          ],
          "function": "Converter.convert",
          "type_params": {
           "T": {
            "type": "NDArray"
           }
          }
         }
        ],
        "-4938600625655742771": [
         "7981845083225442043",
         {
          "args": [
           "124756402025258394",
           "4069223967822016012"
          ],
          "function": "Maybe.__or__",
          "type_params": {
           "T": {
            "params": {
             "T": {
              "type": "Integer"
             },
             "U": {
              "params": {
               "T": {
                "type": "Integer"
               }
              },
              "type": "Vec"
             }
            },
            "type": "Either"
           }
          }
         }
        ],
        "-4946758099071123717": [
         "2150862437589425299",
         {
          "args": [
           "7101875186934734484",
           "4322861320834922954"
          ],
          "function": "Abstraction.__add__",
          "type_params": {
           "T": {
            "params": {
             "T": {
              "type": "Integer"
             },
             "U": {
              "params": {
               "T": {
                "type": "Integer"
               }
              },
              "type": "Vec"
             }
            },
            "type": "Either"
           },
           "U": {
            "params": {
             "T": {
              "params": {
               "T": {
                "type": "Integer"
               },
               "U": {
                "params": {
                 "T": {
                  "type": "Integer"
                 }
                },
                "type": "Vec"
               }
              },
              "type": "Either"
             }
            },
            "type": "Maybe"
           }
          }
         }
        ],
        "-498838118920514847": [
         "-9214882002482918105",
         {
          "args": [
           "-7781987752522514566",
           "-1741944831158160669",
           "-2254904298553319150"
          ],
          "function": "Maybe.match",
          "type_params": {
           "T": {
            "params": {
             "T": {
              "type": "NDArray"
             },
             "U": {
              "params": {
               "T": {
                "type": "Integer"
               },
               "U": {
                "params": {
                 "T": {
                  "type": "Integer"
                 }
                },
                "type": "Vec"
               }
              },
              "type": "Either"
             }
            },
            "type": "Pair"
           }
          }
         }
        ],
        "-5254370847906375128": [
         "-5254370847906375128",
         {
          "args": [
           "-5463825541328231257",
           "786997342016145894"
          ],
          "function": "Maybe.map",
          "type_params": {
           "T": {
            "type": "Integer"
           }
          }
         }
        ],
        "-5339197880906422725": [
         "-8054137683011941171",
         {
          "args": [
           "6442402512975311716"
          ],
          "function": "NDArrayCompat.from_ndarray"
         }
        ],
        "-5463825541328231257": [
         "-5463825541328231257",
         {
          "args": [
           "-6362610179852757995"
          ],
          "function": "Maybe.just"
         }
        ],
        "-547873482950551710": [
         "-1405200707188384813",
         {
          "args": [
           "7193990468420720555",
           "852842466831624100"
          ],
          "function": "ndarray_getitem"
         }
        ],
        "-5558510579709572674": [
         "-5558510579709572674",
         {
          "args": [
           "971722316536660130",
           "971722316536660130"
          ],
          "function": "NDArrayCompat.__add__"
         }
        ],
        "-557126145891318584": [
         "-2256523982435669739",
         {
          "args": [
           "338140197606853017",
           "-571292593498884750"
          ],
          "function": "Maybe.__and__",
          "type_params": {
           "T": {
            "type": "NDArray"
           }
          }
         }
        ],
        "-562755898029559237": [
         "-562755898029559237",
         {
          "repr": "Maybe.just",
          "type": "BoundInfer"
         }
        ],
        "-5669056253452353415": [
         "-8054137683011941171",
         {
          "args": [
           "2408542412004543979"
          ],
          "function": "NDArrayCompat.from_ndarray"
         }
        ],
        "-571292593498884750": [
         "7981845083225442043",
         {
          "args": [
           "2234741608541215826"
          ],
          "function": "Maybe.just"
         }
        ],
        "-5782871365754188927": [
         "7947258440880147023",
         {
          "args": [
           "-5952365224410209476"
          ],
          "function": "Converter.convert",
          "type_params": {
           "T": {
            "type": "NDArray"
           }
          }
         }
        ],
        "-579534469142454861": [
         "-9214882002482918105",
         {
          "args": [
           "-4902155376939906580"
          ],
          "function": "Maybe.just",
          "type_params": {
           "T": {
            "type": "NDArray"
           }
          }
         }
        ],
        "-5812146582632439367": [
         "-9214882002482918105",
         {
          "args": [
           "1205271375429879512"
          ],
          "function": "Maybe.just",
          "type_params": {
           "T": {
            "type": "NDArray"
           }
          }
         }
        ],
        "-5842101473834705074": [
         "-8054137683011941171",
         {
          "args": [
           "-3186646370078843392"
          ],
          "function": "NDArrayCompat.from_ndarray"
         }
        ],
        "-5891830971523934250": [
         "-4906189995990238770",
         {
          "args": [
           "-4608393608812827134"
          ],
          "function": "Converter.convert",
          "type_params": {
           "T": {
            "type": "NDArray"
           }
          }
         }
        ],
        "-5952365224410209476": [
         "-5558510579709572674",
         {
          "args": [
           "1347295785570687419",
           "1347295785570687419"
          ],
          "function": "NDArrayCompat.__add__"
         }
        ],
        "-5959028095944793269": [
         "-9214882002482918105",
         {
          "args": [
           "6336738595663581056"
          ],
          "function": "Maybe.just",
          "type_params": {
           "T": {
            "type": "NDArray"
           }
          }
         }
        ],
        "-6036359789098202694": [
         "-8054137683011941171",
         {
          "args": [
           "871004212713699555"
          ],
          "function": "NDArrayCompat.from_ndarray"
         }
        ],
        "-6145244821123564156": [
         "-2256523982435669739",
         {
          "args": [
           "1244090721317169732",
           "-1472911467723800719"
          ],
          "function": "Maybe.__and__",
          "type_params": {
           "T": {
            "type": "NDArray"
           }
          }
         }
        ],
        "-6183565852243245365": [
         "-7124340782382811070",
         {
          "args": [
           "-2962926686881120987",
           "-7334224414564589854"
          ],
          "function": "Abstraction.__call__",
          "type_params": {
           "T": {
            "type": "Integer"
           },
           "U": {
            "params": {
             "T": {
              "params": {
               "T": {
                "type": "Integer"
               },
               "U": {
                "params": {
                 "T": {
                  "type": "Integer"
                 }
                },
                "type": "Vec"
               }
              },
              "type": "Either"
             }
            },
            "type": "Maybe"
           }
          }
         }
        ],
        "-6197652143754114584": [
         "-8054137683011941171",
         {
          "args": [
           "3910236736335774696"
          ],
          "function": "NDArrayCompat.from_ndarray"
         }
        ],
        "-6231609528467553809": [
         "-4906189995990238770",
         {
          "args": [
           "-2194353901661938916"
          ],
          "function": "Converter.convert",
          "type_params": {
           "T": {
            "type": "NDArray"
           }
          }
         }
        ],
        "-6232607634837806632": [
         "-6232607634837806632",
         {
          "args": [
           "6542042015958554903"
          ],
          "function": "Either.right",
          "type_params": {
           "T": {
            "type": "Integer"
           },
           "U": {
            "params": {
             "T": {
              "type": "Integer"
             }
            },
            "type": "Vec"
           }
          }
         }
        ],
        "-6362610179852757995": [
         "-6362610179852757995",
         {
          "args": [
           "852842466726619175"
          ],
          "function": "Integer.from_int"
         }
        ],
        "-6367256814064021117": [
         "-9214882002482918105",
         {
          "args": [
           "-1026313121908345213",
           "-1550240104841062570"
          ],
          "function": "Maybe.map",
          "type_params": {
           "T": {
            "params": {
             "T": {
              "type": "NDArray"
             },
             "U": {
              "params": {
               "T": {
                "type": "Integer"
               },
               "U": {
                "params": {
                 "T": {
                  "type": "Integer"
                 }
                },
                "type": "Vec"
               }
              },
              "type": "Either"
             }
            },
            "type": "Pair"
           }
          }
         }
        ],
        "-6449000199390749469": [
         "5068959694142403101",
         {
          "args": [
           "-1010262108927125773",
           "3299436367977257648"
          ],
          "function": "Maybe.map",
          "type_params": {
           "T": {
            "type": "Integer"
           }
          }
         }
        ],
        "-6687655868354507286": [
         "-9214882002482918105",
         {
          "args": [
           "3007494864010919930",
           "3418814719444300196"
          ],
          "function": "Maybe.map",
          "type_params": {
           "T": {
            "params": {
             "T": {
              "type": "NDArray"
             },
             "U": {
              "params": {
               "T": {
                "type": "Integer"
               },
               "U": {
                "params": {
                 "T": {
                  "type": "Integer"
                 }
                },
                "type": "Vec"
               }
              },
              "type": "Either"
             }
            },
            "type": "Pair"
           }
          }
         }
        ],
        "-672613890357932818": [
         "-9214882002482918105",
         {
          "args": [
           "2610055142882305649",
           "-1741944831158160669",
           "-2254904298553319150"
          ],
          "function": "Maybe.match",
          "type_params": {
           "T": {
            "params": {
             "T": {
              "type": "NDArray"
             },
             "U": {
              "params": {
               "T": {
                "type": "Integer"
               },
               "U": {
                "params": {
                 "T": {
                  "type": "Integer"
                 }
                },
                "type": "Vec"
               }
              },
              "type": "Either"
             }
            },
            "type": "Pair"
           }
          }
         }
        ],
        "-6740074589041225197": [
         "-9214882002482918105",
         {
          "args": [
           "-3685428010484980666",
           "-1741944831158160669",
           "-7419500629896554251"
          ],
          "function": "Maybe.match",
          "type_params": {
           "T": {
            "params": {
             "T": {
              "type": "NDArray"
             },
             "U": {
              "params": {
               "T": {
                "type": "Integer"
               },
               "U": {
                "params": {
                 "T": {
                  "type": "Integer"
                 }
                },
                "type": "Vec"
               }
              },
              "type": "Either"
             }
            },
            "type": "Pair"
           }
          }
         }
        ],
        "-6980183798999553334": [
         "-9214882002482918105",
         {
          "args": [
           "-7944983298929643450",
           "-1741944831158160669",
           "4979138128552875321"
          ],
          "function": "Maybe.match",
          "type_params": {
           "T": {
            "params": {
             "T": {
              "type": "NDArray"
             },
             "U": {
              "params": {
               "T": {
                "type": "Integer"
               },
               "U": {
                "params": {
                 "T": {
                  "type": "Integer"
                 }
                },
                "type": "Vec"
               }
              },
              "type": "Either"
             }
            },
            "type": "Pair"
           }
          }
         }
        ],
        "-7004180416014216026": [
         "-7413928963025066946",
         {
          "args": [
           "5068959694142403101",
           "4687392789662792897"
          ],
          "function": "Maybe.__or__",
          "type_params": {
           "T": {
            "params": {
             "T": {
              "type": "Integer"
             },
             "U": {
              "params": {
               "T": {
                "type": "Integer"
               }
              },
              "type": "Vec"
             }
            },
            "type": "Either"
           }
          }
         }
        ],
        "-7012798537446400042": [
         "4165022598424862665",
         {
          "args": [
           "-5339197880906422725"
          ],
          "function": "NDArrayCompat.to_ndarray"
         }
        ],
        "-7076490350121616374": [
         "6309009682264249851",
         {
          "args": [
           "-1163157815125262957"
          ],
          "function": "NDArrayCompat.from_ndarray"
         }
        ],
        "-7098754822566143812": [
         "-7098754822566143812",
         {
          "args": [
           "6309009682264249851",
           "6309009682264249851"
          ],
          "function": "NDArrayCompat.__add__"
         }
        ],
        "-7124340782382811070": [
         "-7124340782382811070",
         {
          "args": [
           "-1010262108927125773",
           "-1467930441750646094"
          ],
          "function": "Maybe.map",
          "type_params": {
           "T": {
            "type": "Integer"
           }
          }
         }
        ],
        "-7192612323262748411": [
         "-9214882002482918105",
         {
          "args": [
           "-7944983298929643450",
           "-1741944831158160669",
           "-2254904298553319150"
          ],
          "function": "Maybe.match",
          "type_params": {
           "T": {
            "params": {
             "T": {
              "type": "NDArray"
             },
             "U": {
              "params": {
               "T": {
                "type": "Integer"
               },
               "U": {
                "params": {
                 "T": {
                  "type": "Integer"
                 }
                },
                "type": "Vec"
               }
              },
              "type": "Either"
             }
            },
            "type": "Pair"
           }
          }
         }
        ],
        "-7233160250329376040": [
         "-9214882002482918105",
         {
          "args": [
           "4154180677774013375",
           "-1741944831158160669",
           "-7419500629896554251"
          ],
          "function": "Maybe.match",
          "type_params": {
           "T": {
            "params": {
             "T": {
              "type": "NDArray"
             },
             "U": {
              "params": {
               "T": {
                "type": "Integer"
               },
               "U": {
                "params": {
                 "T": {
                  "type": "Integer"
                 }
                },
                "type": "Vec"
               }
              },
              "type": "Either"
             }
            },
            "type": "Pair"
           }
          }
         }
        ],
        "-7267539924673605809": [
         "-8054137683011941171",
         {
          "args": [
           "-7192612323262748411"
          ],
          "function": "NDArrayCompat.from_ndarray"
         }
        ],
        "-7334224414564589854": [
         "-7334224414564589854",
         {
          "args": [
           "852842466831624100"
          ],
          "function": "Integer.from_int"
         }
        ],
        "-7413928963025066946": [
         "-7413928963025066946",
         {
          "args": [
           "852842466831624100"
          ],
          "function": "Converter.convert",
          "type_params": {
           "T": {
            "params": {
             "T": {
              "type": "Integer"
             },
             "U": {
              "params": {
               "T": {
                "type": "Integer"
               }
              },
              "type": "Vec"
             }
            },
            "type": "Either"
           }
          }
         }
        ],
        "-7419500629896554251": [
         "-7419500629896554251",
         {
          "args": [
           "-3689034126165086493",
           "-1550240104841062570"
          ],
          "function": "Abstraction.__add__",
          "type_params": {
           "T": {
            "type": "NDArray"
           },
           "U": {
            "params": {
             "T": {
              "type": "NDArray"
             }
            },
            "type": "Maybe"
           }
          }
         }
        ],
        "-7507020889469263454": [
         "-7507020889469263454",
         {
          "args": [
           "-2266514298468117634"
          ],
          "function": "Abstraction.from_fn"
         }
        ],
        "-7564084846842887903": [
         "4165022598424862665",
         {
          "args": [
           "-3703022898073510393",
           "-3703022898073510393"
          ],
          "function": "ndarray_add"
         }
        ],
        "-7588579201374007797": [
         "-7588579201374007797",
         {
          "args": [
           "-3417637043715638955"
          ],
          "function": "Pair.right",
          "type_params": {
           "T": {
            "type": "NDArray"
           },
           "U": {
            "params": {
             "T": {
              "type": "Integer"
             },
             "U": {
              "params": {
               "T": {
                "type": "Integer"
               }
              },
              "type": "Vec"
             }
            },
            "type": "Either"
           }
          }
         }
        ],
        "-7624210414075117549": [
         "-7624210414075117549",
         {
          "repr": "Variable(4549890624)",
          "type": "Variable"
         }
        ],
        "-7624210437928555924": [
         "-7624210437928555924",
         {
          "repr": "Variable(4550472592)",
          "type": "Variable"
         }
        ],
        "-7772800199374425648": [
         "-8054137683011941171",
         {
          "args": [
           "-498838118920514847"
          ],
          "function": "NDArrayCompat.from_ndarray"
         }
        ],
        "-7781987752522514566": [
         "-2256523982435669739",
         {
          "args": [
           "5050840167957568185",
           "-571292593498884750"
          ],
          "function": "Maybe.__and__",
          "type_params": {
           "T": {
            "type": "NDArray"
           }
          }
         }
        ],
        "-7850876655565565755": [
         "-9214882002482918105",
         {
          "args": [
           "-2256523982435669739",
           "-1550240104841062570"
          ],
          "function": "Maybe.map",
          "type_params": {
           "T": {
            "params": {
             "T": {
              "type": "NDArray"
             },
             "U": {
              "params": {
               "T": {
                "type": "Integer"
               },
               "U": {
                "params": {
                 "T": {
                  "type": "Integer"
                 }
                },
                "type": "Vec"
               }
              },
              "type": "Either"
             }
            },
            "type": "Pair"
           }
          }
         }
        ],
        "-7944983298929643450": [
         "-2256523982435669739",
         {
          "args": [
           "1244090721317169732",
           "7146915402851765224"
          ],
          "function": "Maybe.__and__",
          "type_params": {
           "T": {
            "type": "NDArray"
           }
          }
         }
        ],
        "-8013479534701788047": [
         "-8054137683011941171",
         {
          "args": [
           "-2328637521397002667"
          ],
          "function": "NDArrayCompat.from_ndarray"
         }
        ],
        "-8054137683011941171": [
         "-8054137683011941171",
         {
          "args": [
           "-5558510579709572674",
           "852842466831624100"
          ],
          "function": "NDArrayCompat.__getitem__"
         }
        ],
        "-8063324651352519023": [
         "4165022598424862665",
         {
          "args": [
           "-4342200577764080509"
          ],
          "function": "NDArrayCompat.to_ndarray"
         }
        ],
        "-8134450949133358806": [
         "-8054137683011941171",
         {
          "args": [
           "4336669298831928370"
          ],
          "function": "NDArrayCompat.from_ndarray"
         }
        ],
        "-8166652912911790717": [
         "8387922858404920787",
         {
          "args": [
           "852842466726619175"
          ],
          "function": "arange"
         }
        ],
        "-8369638043984791308": [
         "-8369638043984791308",
         {
          "repr": "<function NDArrayCompat.__getitem__.<locals>.<lambda> at 0x10f675840>",
          "type": "function"
         }
        ],
        "-8433167755193111826": [
         "-2256523982435669739",
         {
          "args": [
           "-4906189995990238770",
           "-4938600625655742771"
          ],
          "function": "Maybe.__and__",
          "type_params": {
           "T": {
            "type": "NDArray"
           }
          }
         }
        ],
        "-8550721238847586890": [
         "-8550721238847586890",
         {
          "args": [
           "5765685988797773240"
          ],
          "function": "Abstraction.from_fn"
         }
        ],
        "-8551260107591658435": [
         "4165022598424862665",
         {
          "args": [
           "5479182216954816684"
          ],
          "function": "NDArrayCompat.to_ndarray"
         }
        ],
        "-8672196667771993085": [
         "4165022598424862665",
         {
          "args": [
           "-6036359789098202694"
          ],
          "function": "NDArrayCompat.to_ndarray"
         }
        ],
        "-8841748531208643889": [
         "-8841748531208643889",
         {
          "args": [
           "-1743313584654778961"
          ],
          "function": "Abstraction.from_fn"
         }
        ],
        "-8849721174918414579": [
         "-8849721174918414579",
         {
          "args": [
           "-2728638420105509621",
           "2234741608541215826"
          ],
          "function": "NDArray.__getitem__"
         }
        ],
        "-910310951109169576": [
         "4165022598424862665",
         {
          "args": [
           "8609176585799137044"
          ],
          "function": "NDArrayCompat.to_ndarray"
         }
        ],
        "-9137942076300492354": [
         "-7098754822566143812",
         {
          "args": [
           "8873528938243991147",
           "8873528938243991147"
          ],
          "function": "NDArrayCompat.__add__"
         }
        ],
        "-9214882002482918105": [
         "-9214882002482918105",
         {
          "args": [
           "-4814678537500170364",
           "3418814719444300196"
          ],
          "function": "Maybe.map",
          "type_params": {
           "T": {
            "params": {
             "T": {
              "type": "NDArray"
             },
             "U": {
              "params": {
               "T": {
                "type": "Integer"
               },
               "U": {
                "params": {
                 "T": {
                  "type": "Integer"
                 }
                },
                "type": "Vec"
               }
              },
              "type": "Either"
             }
            },
            "type": "Pair"
           }
          }
         }
        ],
        "-970106663915368608": [
         "-9214882002482918105",
         {
          "args": [
           "7991936205380157322"
          ],
          "function": "Maybe.just",
          "type_params": {
           "T": {
            "type": "NDArray"
           }
          }
         }
        ],
        "1055037431482305173": [
         "-2256523982435669739",
         {
          "args": [
           "-4906189995990238770",
           "1095522559647885182"
          ],
          "function": "Maybe.__and__",
          "type_params": {
           "T": {
            "type": "NDArray"
           }
          }
         }
        ],
        "1089132922689139569": [
         "4165022598424862665",
         {
          "args": [
           "-3959082397011265629",
           "-3959082397011265629"
          ],
          "function": "ndarray_add"
         }
        ],
        "1095522559647885182": [
         "7981845083225442043",
         {
          "args": [
           "124756402025258394",
           "666638544606779544"
          ],
          "function": "Maybe.__or__",
          "type_params": {
           "T": {
            "params": {
             "T": {
              "type": "Integer"
             },
             "U": {
              "params": {
               "T": {
                "type": "Integer"
               }
              },
              "type": "Vec"
             }
            },
            "type": "Either"
           }
          }
         }
        ],
        "1205271375429879512": [
         "6336738595663581056",
         {
          "args": [
           "1400731236996670747",
           "1400731236996670747"
          ],
          "function": "NDArray.__add__"
         }
        ],
        "1235344416368254646": [
         "-8054137683011941171",
         {
          "args": [
           "-1852183872330473097"
          ],
          "function": "NDArrayCompat.from_ndarray"
         }
        ],
        "1244090721317169732": [
         "-4906189995990238770",
         {
          "args": [
           "-9137942076300492354"
          ],
          "function": "Converter.convert",
          "type_params": {
           "T": {
            "type": "NDArray"
           }
          }
         }
        ],
        "124756402025258394": [
         "-7124340782382811070",
         {
          "args": [
           "2864275428688390516",
           "-7334224414564589854"
          ],
          "function": "Abstraction.__call__",
          "type_params": {
           "T": {
            "type": "Integer"
           },
           "U": {
            "params": {
             "T": {
              "params": {
               "T": {
                "type": "Integer"
               },
               "U": {
                "params": {
                 "T": {
                  "type": "Integer"
                 }
                },
                "type": "Vec"
               }
              },
              "type": "Either"
             }
            },
            "type": "Maybe"
           }
          }
         }
        ],
        "1275569033808896220": [
         "-2256523982435669739",
         {
          "args": [
           "-4906189995990238770",
           "-2819577080870095790"
          ],
          "function": "Maybe.__and__",
          "type_params": {
           "T": {
            "type": "NDArray"
           }
          }
         }
        ],
        "1347295785570687419": [
         "971722316536660130",
         {
          "args": [
           "5848963126652067044"
          ],
          "function": "NDArrayCompat.from_ndarray"
         }
        ],
        "1377817908500687106": [
         "4165022598424862665",
         {
          "args": [
           "-2304371491104426171"
          ],
          "function": "NDArrayCompat.to_ndarray"
         }
        ],
        "1398509882097183646": [
         "1398509882097183646",
         {
          "args": [
           "3571471722856851369"
          ],
          "function": "Maybe.just",
          "type_params": {
           "T": {
            "params": {
             "T": {
              "type": "Integer"
             },
             "U": {
              "params": {
               "T": {
                "type": "Integer"
               }
              },
              "type": "Vec"
             }
            },
            "type": "Either"
           }
          }
         }
        ],
        "1400731236996670747": [
         "1400731236996670747",
         {
          "args": [
           "-2728638420105509621",
           "-7588579201374007797"
          ],
          "function": "NDArray.__getitem__"
         }
        ],
        "1584446835359018919": [
         "-1405200707188384813",
         {
          "args": [
           "7193990468420720555",
           "7516757055623286900"
          ],
          "function": "ndarray_getitem"
         }
        ],
        "1599161586953493384": [
         "1599161586953493384",
         {
          "repr": "Variable(4550411992)",
          "type": "Variable"
         }
        ],
        "1599161591337719634": [
         "1599161591337719634",
         {
          "repr": "Variable(4550346232)",
          "type": "Variable"
         }
        ],
        "1599161620968593934": [
         "1599161620968593934",
         {
          "repr": "Variable(4549884728)",
          "type": "Variable"
         }
        ],
        "1599161621090919259": [
         "1599161621090919259",
         {
          "repr": "Variable(4549882824)",
          "type": "Variable"
         }
        ],
        "1782797733794455311": [
         "-8054137683011941171",
         {
          "args": [
           "-7850876655565565755"
          ],
          "function": "NDArrayCompat.from_ndarray"
         }
        ],
        "2150862437589425299": [
         "2150862437589425299",
         {
          "args": [
           "-7507020889469263454",
           "4322861320834922954"
          ],
          "function": "Abstraction.__add__",
          "type_params": {
           "T": {
            "params": {
             "T": {
              "type": "Integer"
             },
             "U": {
              "params": {
               "T": {
                "type": "Integer"
               }
              },
              "type": "Vec"
             }
            },
            "type": "Either"
           },
           "U": {
            "params": {
             "T": {
              "params": {
               "T": {
                "type": "Integer"
               },
               "U": {
                "params": {
                 "T": {
                  "type": "Integer"
                 }
                },
                "type": "Vec"
               }
              },
              "type": "Either"
             }
            },
            "type": "Maybe"
           }
          }
         }
        ],
        "2181308972867413742": [
         "-5254370847906375128",
         {
          "args": [
           "-3553652926862722267",
           "-6362610179852757995"
          ],
          "function": "Abstraction.__call__",
          "type_params": {
           "T": {
            "type": "Integer"
           },
           "U": {
            "params": {
             "T": {
              "type": "NDArray"
             }
            },
            "type": "Maybe"
           }
          }
         }
        ],
        "2234741608541215826": [
         "2234741608541215826",
         {
          "args": [
           "-7334224414564589854"
          ],
          "function": "Either.left",
          "type_params": {
           "T": {
            "type": "Integer"
           },
           "U": {
            "params": {
             "T": {
              "type": "Integer"
             }
            },
            "type": "Vec"
           }
          }
         }
        ],
        "2235556238537552186": [
         "-8054137683011941171",
         {
          "args": [
           "-2020680039428041117"
          ],
          "function": "NDArrayCompat.from_ndarray"
         }
        ],
        "2283664882045373484": [
         "4165022598424862665",
         {
          "args": [
           "4201326982062544042"
          ],
          "function": "NDArrayCompat.to_ndarray"
         }
        ],
        "2405391047222319132": [
         "-9214882002482918105",
         {
          "args": [
           "1275569033808896220",
           "-1741944831158160669",
           "-7419500629896554251"
          ],
          "function": "Maybe.match",
          "type_params": {
           "T": {
            "params": {
             "T": {
              "type": "NDArray"
             },
             "U": {
              "params": {
               "T": {
                "type": "Integer"
               },
               "U": {
                "params": {
                 "T": {
                  "type": "Integer"
                 }
                },
                "type": "Vec"
               }
              },
              "type": "Either"
             }
            },
            "type": "Pair"
           }
          }
         }
        ],
        "2408542412004543979": [
         "-9214882002482918105",
         {
          "args": [
           "4041996134992760988",
           "-1741944831158160669",
           "-2254904298553319150"
          ],
          "function": "Maybe.match",
          "type_params": {
           "T": {
            "params": {
             "T": {
              "type": "NDArray"
             },
             "U": {
              "params": {
               "T": {
                "type": "Integer"
               },
               "U": {
                "params": {
                 "T": {
                  "type": "Integer"
                 }
                },
                "type": "Vec"
               }
              },
              "type": "Either"
             }
            },
            "type": "Pair"
           }
          }
         }
        ],
        "2555543456416554185": [
         "-3553652926862722267",
         {
          "args": [
           "4963556996573540580",
           "786997342016145894"
          ],
          "function": "Abstraction.__add__",
          "type_params": {
           "T": {
            "type": "NDArray"
           },
           "U": {
            "params": {
             "T": {
              "type": "NDArray"
             }
            },
            "type": "Maybe"
           }
          }
         }
        ],
        "2610055142882305649": [
         "-2256523982435669739",
         {
          "args": [
           "-5891830971523934250",
           "-571292593498884750"
          ],
          "function": "Maybe.__and__",
          "type_params": {
           "T": {
            "type": "NDArray"
           }
          }
         }
        ],
        "2642414945364998332": [
         "-7098754822566143812",
         {
          "args": [
           "3668952428633282050",
           "3668952428633282050"
          ],
          "function": "NDArrayCompat.__add__"
         }
        ],
        "2784868908810072070": [
         "-7413928963025066946",
         {
          "args": [
           "-7124340782382811070",
           "4687392789662792897"
          ],
          "function": "Maybe.__or__",
          "type_params": {
           "T": {
            "params": {
             "T": {
              "type": "Integer"
             },
             "U": {
              "params": {
               "T": {
                "type": "Integer"
               }
              },
              "type": "Vec"
             }
            },
            "type": "Either"
           }
          }
         }
        ],
        "2864275428688390516": [
         "2864275428688390516",
         {
          "args": [
           "-7507020889469263454",
           "-1467930441750646094"
          ],
          "function": "Abstraction.__add__",
          "type_params": {
           "T": {
            "params": {
             "T": {
              "type": "Integer"
             },
             "U": {
              "params": {
               "T": {
                "type": "Integer"
               }
              },
              "type": "Vec"
             }
            },
            "type": "Either"
           },
           "U": {
            "params": {
             "T": {
              "params": {
               "T": {
                "type": "Integer"
               },
               "U": {
                "params": {
                 "T": {
                  "type": "Integer"
                 }
                },
                "type": "Vec"
               }
              },
              "type": "Either"
             }
            },
            "type": "Maybe"
           }
          }
         }
        ],
        "289510125773986789": [
         "-9214882002482918105",
         {
          "args": [
           "944166673721479462",
           "-1741944831158160669",
           "4979138128552875321"
          ],
          "function": "Maybe.match",
          "type_params": {
           "T": {
            "params": {
             "T": {
              "type": "NDArray"
             },
             "U": {
              "params": {
               "T": {
                "type": "Integer"
               },
               "U": {
                "params": {
                 "T": {
                  "type": "Integer"
                 }
                },
                "type": "Vec"
               }
              },
              "type": "Either"
             }
            },
            "type": "Pair"
           }
          }
         }
        ],
        "2903062968911337222": [
         "2903062968911337222",
         {
          "args": [
           "852842466831624100"
          ],
          "function": "Converter.convert",
          "type_params": {
           "T": {
            "params": {
             "T": {
              "type": "Integer"
             }
            },
            "type": "Vec"
           }
          }
         }
        ],
        "2966145761745473501": [
         "-8054137683011941171",
         {
          "args": [
           "-6687655868354507286"
          ],
          "function": "NDArrayCompat.from_ndarray"
         }
        ],
        "3005298118816773913": [
         "-8054137683011941171",
         {
          "args": [
           "-3029427928634493427"
          ],
          "function": "NDArrayCompat.from_ndarray"
         }
        ],
        "3007494864010919930": [
         "-4814678537500170364",
         {
          "args": [
           "-5782871365754188927",
           "6856229555535770924"
          ],
          "function": "Maybe.__and__",
          "type_params": {
           "T": {
            "type": "NDArray"
           }
          }
         }
        ],
        "3230390530602732762": [
         "4165022598424862665",
         {
          "args": [
           "-7772800199374425648"
          ],
          "function": "NDArrayCompat.to_ndarray"
         }
        ],
        "3299436367977257648": [
         "3299436367977257648",
         {
          "args": [
           "3303217568467687651"
          ],
          "function": "Abstraction.from_fn"
         }
        ],
        "3303217568467687651": [
         "3303217568467687651",
         {
          "repr": "Either.left",
          "type": "BoundInfer"
         }
        ],
        "3342109005677512084": [
         "-8054137683011941171",
         {
          "args": [
           "-3975180199655561458"
          ],
          "function": "NDArrayCompat.from_ndarray"
         }
        ],
        "338140197606853017": [
         "-4906189995990238770",
         {
          "args": [
           "-4699293650293600044"
          ],
          "function": "Converter.convert",
          "type_params": {
           "T": {
            "type": "NDArray"
           }
          }
         }
        ],
        "3418814719444300196": [
         "3418814719444300196",
         {
          "args": [
           "-8369638043984791308"
          ],
          "function": "Abstraction.from_fn",
          "type_params": {
           "T": {
            "params": {
             "T": {
              "type": "NDArray"
             },
             "U": {
              "params": {
               "T": {
                "type": "Integer"
               },
               "U": {
                "params": {
                 "T": {
                  "type": "Integer"
                 }
                },
                "type": "Vec"
               }
              },
              "type": "Either"
             }
            },
            "type": "Pair"
           },
           "U": {
            "type": "NDArray"
           }
          }
         }
        ],
        "3553661590211903312": [
         "-8054137683011941171",
         {
          "args": [
           "-2770036726107558302"
          ],
          "function": "NDArrayCompat.from_ndarray"
         }
        ],
        "3571471722856851369": [
         "3571471722856851369",
         {
          "args": [
           "4436707967317074207"
          ],
          "function": "Either.left",
          "type_params": {
           "T": {
            "type": "Integer"
           },
           "U": {
            "params": {
             "T": {
              "type": "Integer"
             }
            },
            "type": "Vec"
           }
          }
         }
        ],
        "3578542254868010315": [
         "4165022598424862665",
         {
          "args": [
           "1584446835359018919",
           "1584446835359018919"
          ],
          "function": "ndarray_add"
         }
        ],
        "3610271697978549640": [
         "3610271697978549640",
         {
          "args": [
           "1599161621090919259"
          ],
          "function": "Abstraction.create_variable",
          "type_params": {
           "T": {
            "params": {
             "T": {
              "type": "Integer"
             },
             "U": {
              "params": {
               "T": {
                "type": "Integer"
               }
              },
              "type": "Vec"
             }
            },
            "type": "Either"
           },
           "U": {
            "params": {
             "T": {
              "params": {
               "T": {
                "type": "Integer"
               },
               "U": {
                "params": {
                 "T": {
                  "type": "Integer"
                 }
                },
                "type": "Vec"
               }
              },
              "type": "Either"
             }
            },
            "type": "Maybe"
           }
          }
         }
        ],
        "3668952428633282050": [
         "6309009682264249851",
         {
          "args": [
           "-2636671876811910468"
          ],
          "function": "NDArrayCompat.from_ndarray"
         }
        ],
        "3801898921474904983": [
         "-9214882002482918105",
         {
          "args": [
           "-1367818777895260447",
           "-1741944831158160669",
           "-2254904298553319150"
          ],
          "function": "Maybe.match",
          "type_params": {
           "T": {
            "params": {
             "T": {
              "type": "NDArray"
             },
             "U": {
              "params": {
               "T": {
                "type": "Integer"
               },
               "U": {
                "params": {
                 "T": {
                  "type": "Integer"
                 }
                },
                "type": "Vec"
               }
              },
              "type": "Either"
             }
            },
            "type": "Pair"
           }
          }
         }
        ],
        "3895404525822615056": [
         "4165022598424862665",
         {
          "args": [
           "8077630380282570204"
          ],
          "function": "NDArrayCompat.to_ndarray"
         }
        ],
        "3910236736335774696": [
         "-9214882002482918105",
         {
          "args": [
           "4514900087869106451",
           "-1550240104841062570"
          ],
          "function": "Maybe.map",
          "type_params": {
           "T": {
            "params": {
             "T": {
              "type": "NDArray"
             },
             "U": {
              "params": {
               "T": {
                "type": "Integer"
               },
               "U": {
                "params": {
                 "T": {
                  "type": "Integer"
                 }
                },
                "type": "Vec"
               }
              },
              "type": "Either"
             }
            },
            "type": "Pair"
           }
          }
         }
        ],
        "4014423916305480480": [
         "4165022598424862665",
         {
          "args": [
           "7991936205380157322"
          ],
          "function": "NDArray.to_ndarray"
         }
        ],
        "4041996134992760988": [
         "-2256523982435669739",
         {
          "args": [
           "1244090721317169732",
           "7789561644180733878"
          ],
          "function": "Maybe.__and__",
          "type_params": {
           "T": {
            "type": "NDArray"
           }
          }
         }
        ],
        "4069223967822016012": [
         "666638544606779544",
         {
          "args": [
           "2903062968911337222",
           "-3052203273464861294",
           "2150862437589425299"
          ],
          "function": "Maybe.match",
          "type_params": {
           "T": {
            "params": {
             "T": {
              "type": "Integer"
             }
            },
            "type": "Vec"
           }
          }
         }
        ],
        "4154180677774013375": [
         "-2256523982435669739",
         {
          "args": [
           "-6231609528467553809",
           "-4938600625655742771"
          ],
          "function": "Maybe.__and__",
          "type_params": {
           "T": {
            "type": "NDArray"
           }
          }
         }
        ],
        "4165022598424862665": [
         "4165022598424862665",
         {
          "args": [
           "-8054137683011941171"
          ],
          "function": "NDArrayCompat.to_ndarray"
         }
        ],
        "4201326982062544042": [
         "-8054137683011941171",
         {
          "args": [
           "-579534469142454861"
          ],
          "function": "NDArrayCompat.from_ndarray"
         }
        ],
        "4314315400247268931": [
         "4165022598424862665",
         {
          "args": [
           "-1405200707188384813",
           "-1405200707188384813"
          ],
          "function": "ndarray_add"
         }
        ],
        "4322861320834922954": [
         "4322861320834922954",
         {
          "args": [
           "6542042015958554903",
           "-6232607634837806632"
          ],
          "function": "Abstraction.create",
          "type_params": {
           "T": {
            "params": {
             "T": {
              "type": "Integer"
             }
            },
            "type": "Vec"
           },
           "U": {
            "params": {
             "T": {
              "type": "Integer"
             },
             "U": {
              "params": {
               "T": {
                "type": "Integer"
               }
              },
              "type": "Vec"
             }
            },
            "type": "Either"
           }
          }
         }
        ],
        "4336669298831928370": [
         "-9214882002482918105",
         {
          "args": [
           "-1026313121908345213",
           "3418814719444300196"
          ],
          "function": "Maybe.map",
          "type_params": {
           "T": {
            "params": {
             "T": {
              "type": "NDArray"
             },
             "U": {
              "params": {
               "T": {
                "type": "Integer"
               },
               "U": {
                "params": {
                 "T": {
                  "type": "Integer"
                 }
                },
                "type": "Vec"
               }
              },
              "type": "Either"
             }
            },
            "type": "Pair"
           }
          }
         }
        ],
        "4436707967317074207": [
         "4436707967317074207",
         {
          "args": [
           "-7624210414075117549"
          ],
          "function": "Abstraction.create_variable",
          "type_params": {
           "T": {
            "type": "Integer"
           },
           "U": {
            "params": {
             "T": {
              "type": "Integer"
             },
             "U": {
              "params": {
               "T": {
                "type": "Integer"
               }
              },
              "type": "Vec"
             }
            },
            "type": "Either"
           }
          }
         }
        ],
        "4452910682496281740": [
         "-9214882002482918105",
         {
          "args": [
           "-2254904298553319150",
           "-3417637043715638955"
          ],
          "function": "Abstraction.__call__",
          "type_params": {
           "T": {
            "params": {
             "T": {
              "type": "NDArray"
             },
             "U": {
              "params": {
               "T": {
                "type": "Integer"
               },
               "U": {
                "params": {
                 "T": {
                  "type": "Integer"
                 }
                },
                "type": "Vec"
               }
              },
              "type": "Either"
             }
            },
            "type": "Pair"
           },
           "U": {
            "params": {
             "T": {
              "type": "NDArray"
             }
            },
            "type": "Maybe"
           }
          }
         }
        ],
        "4514900087869106451": [
         "-4814678537500170364",
         {
          "args": [
           "-1156468161871471630",
           "7981845083225442043"
          ],
          "function": "Maybe.__and__",
          "type_params": {
           "T": {
            "type": "NDArray"
           }
          }
         }
        ],
        "4687392789662792897": [
         "4687392789662792897",
         {
          "args": [
           "2903062968911337222",
           "-8841748531208643889"
          ],
          "function": "Maybe.map",
          "type_params": {
           "T": {
            "params": {
             "T": {
              "type": "Integer"
             }
            },
            "type": "Vec"
           }
          }
         }
        ],
        "4874789309870391584": [
         "-3553652926862722267",
         {
          "args": [
           "6473606452442739172",
           "7858559597780916220"
          ],
          "function": "Abstraction.create"
         }
        ],
        "4963556996573540580": [
         "-3689034126165086493",
         {
          "args": [
           "-2651554774626346251",
           "8775842784207928853"
          ],
          "function": "Abstraction.create",
          "type_params": {
           "T": {
            "type": "NDArray"
           },
           "U": {
            "params": {
             "T": {
              "type": "NDArray"
             }
            },
            "type": "Maybe"
           }
          }
         }
        ],
        "4969971528995099444": [
         "-5254370847906375128",
         {
          "args": [
           "2555543456416554185",
           "-6362610179852757995"
          ],
          "function": "Abstraction.__call__",
          "type_params": {
           "T": {
            "type": "Integer"
           },
           "U": {
            "params": {
             "T": {
              "type": "NDArray"
             }
            },
            "type": "Maybe"
           }
          }
         }
        ],
        "4979138128552875321": [
         "-7419500629896554251",
         {
          "args": [
           "4963556996573540580",
           "-1550240104841062570"
          ],
          "function": "Abstraction.__add__",
          "type_params": {
           "T": {
            "type": "NDArray"
           },
           "U": {
            "params": {
             "T": {
              "type": "NDArray"
             }
            },
            "type": "Maybe"
           }
          }
         }
        ],
        "5050840167957568185": [
         "5050840167957568185",
         {
          "args": [
           "7295427386607788938"
          ],
          "function": "Maybe.just"
         }
        ],
        "5068959694142403101": [
         "5068959694142403101",
         {
          "args": [
           "5743490207633551519",
           "3299436367977257648"
          ],
          "function": "Maybe.map",
          "type_params": {
           "T": {
            "type": "Integer"
           }
          }
         }
        ],
        "5129789569511304053": [
         "4165022598424862665",
         {
          "args": [
           "1235344416368254646"
          ],
          "function": "NDArrayCompat.to_ndarray"
         }
        ],
        "5290335498051873009": [
         "5290335498051873009",
         {
          "args": [
           "3610271697978549640"
          ],
          "function": "Maybe.just",
          "type_params": {
           "T": {
            "params": {
             "T": {
              "type": "Integer"
             },
             "U": {
              "params": {
               "T": {
                "type": "Integer"
               }
              },
              "type": "Vec"
             }
            },
            "type": "Either"
           }
          }
         }
        ],
        "5317598860892217451": [
         "4165022598424862665",
         {
          "args": [
           "6676562292211159925",
           "6676562292211159925"
          ],
          "function": "ndarray_add"
         }
        ],
        "5366071883150323361": [
         "-8054137683011941171",
         {
          "args": [
           "-9214882002482918105"
          ],
          "function": "NDArrayCompat.from_ndarray"
         }
        ],
        "5367850787852783940": [
         "4165022598424862665",
         {
          "args": [
           "8399144763942153968"
          ],
          "function": "NDArrayCompat.to_ndarray"
         }
        ],
        "5479182216954816684": [
         "-8054137683011941171",
         {
          "args": [
           "-7233160250329376040"
          ],
          "function": "NDArrayCompat.from_ndarray"
         }
        ],
        "5690179165623969280": [
         "4165022598424862665",
         {
          "args": [
           "1782797733794455311"
          ],
          "function": "NDArrayCompat.to_ndarray"
         }
        ],
        "5706060419324713096": [
         "5706060419324713096",
         {
          "args": [
           "852842466726619175"
          ],
          "function": "Converter.convert",
          "type_params": {
           "T": {
            "type": "Integer"
           }
          }
         }
        ],
        "5743490207633551519": [
         "5743490207633551519",
         {
          "args": [
           "852842466831624100"
          ],
          "function": "Converter.convert",
          "type_params": {
           "T": {
            "type": "Integer"
           }
          }
         }
        ],
        "5765685988797773240": [
         "5765685988797773240",
         {
          "repr": "arange_",
          "type": "Infer"
         }
        ],
        "5848963126652067044": [
         "5848963126652067044",
         {
          "args": [
           "5706060419324713096",
           "-8550721238847586890"
          ],
          "function": "Maybe.map",
          "type_params": {
           "T": {
            "type": "Integer"
           }
          }
         }
        ],
        "5972110389137425460": [
         "-1405200707188384813",
         {
          "args": [
           "-8166652912911790717",
           "852842466831624100"
          ],
          "function": "ndarray_getitem"
         }
        ],
        "5979462813476510758": [
         "-8054137683011941171",
         {
          "args": [
           "-6980183798999553334"
          ],
          "function": "NDArrayCompat.from_ndarray"
         }
        ],
        "604144056810708289": [
         "-2256523982435669739",
         {
          "args": [
           "6714537880391133730",
           "-571292593498884750"
          ],
          "function": "Maybe.__and__",
          "type_params": {
           "T": {
            "type": "NDArray"
           }
          }
         }
        ],
        "6273833907686124028": [
         "-7098754822566143812",
         {
          "args": [
           "7898050240573050074",
           "7898050240573050074"
          ],
          "function": "NDArrayCompat.__add__"
         }
        ],
        "6309009682264249851": [
         "6309009682264249851",
         {
          "args": [
           "-5254370847906375128"
          ],
          "function": "NDArrayCompat.from_ndarray"
         }
        ],
        "6336738595663581056": [
         "6336738595663581056",
         {
          "args": [
           "-2166330811180776367",
           "-7588579201374007797"
          ],
          "function": "NDArray.__getitem__"
         }
        ],
        "6427508265334465884": [
         "-2256523982435669739",
         {
          "args": [
           "-3417637043715638955"
          ],
          "function": "Maybe.just"
         }
        ],
        "6442402512975311716": [
         "-9214882002482918105",
         {
          "args": [
           "-1557203513455568992",
           "-1550240104841062570"
          ],
          "function": "Maybe.map",
          "type_params": {
           "T": {
            "params": {
             "T": {
              "type": "NDArray"
             },
             "U": {
              "params": {
               "T": {
                "type": "Integer"
               },
               "U": {
                "params": {
                 "T": {
                  "type": "Integer"
                 }
                },
                "type": "Vec"
               }
              },
              "type": "Either"
             }
            },
            "type": "Pair"
           }
          }
         }
        ],
        "6473606452442739172": [
         "6473606452442739172",
         {
          "args": [
           "1599161586953493384"
          ],
          "function": "Abstraction.create_variable",
          "type_params": {
           "T": {
            "type": "Integer"
           },
           "U": {
            "type": "NDArray"
           }
          }
         }
        ],
        "653571269495829655": [
         "4165022598424862665",
         {
          "args": [
           "-7267539924673605809"
          ],
          "function": "NDArrayCompat.to_ndarray"
         }
        ],
        "6542042015958554903": [
         "6542042015958554903",
         {
          "args": [
           "-7624210437928555924"
          ],
          "function": "Abstraction.create_variable",
          "type_params": {
           "T": {
            "params": {
             "T": {
              "type": "Integer"
             }
            },
            "type": "Vec"
           },
           "U": {
            "params": {
             "T": {
              "type": "Integer"
             },
             "U": {
              "params": {
               "T": {
                "type": "Integer"
               }
              },
              "type": "Vec"
             }
            },
            "type": "Either"
           }
          }
         }
        ],
        "6583497480016573524": [
         "971722316536660130",
         {
          "args": [
           "-4724715256758988081"
          ],
          "function": "NDArrayCompat.from_ndarray"
         }
        ],
        "6625563432105728785": [
         "4165022598424862665",
         {
          "args": [
           "-4870123060833598460"
          ],
          "function": "NDArrayCompat.to_ndarray"
         }
        ],
        "666638544606779544": [
         "666638544606779544",
         {
          "args": [
           "2903062968911337222",
           "4322861320834922954"
          ],
          "function": "Maybe.map",
          "type_params": {
           "T": {
            "params": {
             "T": {
              "type": "Integer"
             }
            },
            "type": "Vec"
           }
          }
         }
        ],
        "6676561542861374325": [
         "8387922858404920787",
         {
          "repr": "array([ 0,  1,  2,  3,  4,  5,  6,  7,  8,  9, 10, 11, 12, 13, 14, 15, 16,\n       17, 18, 19, 20, 21, 22, 23, 24, 25, 26, 27, 28, 29, 30, 31, 32, 33,\n       34, 35, 36, 37, 38, 39, 40, 41, 42, 43, 44, 45, 46, 47, 48, 49, 50,\n       51, 52, 53, 54, 55, 56, 57, 58, 59, 60, 61, 62, 63, 64, 65, 66, 67,\n       68, 69, 70, 71, 72, 73, 74, 75, 76, 77, 78, 79, 80, 81, 82, 83, 84,\n       85, 86, 87, 88, 89, 90, 91, 92, 93, 94, 95, 96, 97, 98, 99])",
          "type": "ndarray"
         }
        ],
        "6676562292211159925": [
         "-1405200707188384813",
         {
          "repr": "array(5)",
          "type": "ndarray"
         }
        ],
        "6693806603941273213": [
         "4165022598424862665",
         {
          "args": [
           "-8013479534701788047"
          ],
          "function": "NDArrayCompat.to_ndarray"
         }
        ],
        "6714537880391133730": [
         "-4906189995990238770",
         {
          "args": [
           "2642414945364998332"
          ],
          "function": "Converter.convert",
          "type_params": {
           "T": {
            "type": "NDArray"
           }
          }
         }
        ],
        "6760213600488917919": [
         "6760213600488917919",
         {
          "args": [
           "7593629375782685187"
          ],
          "function": "Maybe.just",
          "type_params": {
           "T": {
            "type": "NDArray"
           }
          }
         }
        ],
        "6856229555535770924": [
         "-7413928963025066946",
         {
          "args": [
           "-6449000199390749469",
           "4687392789662792897"
          ],
          "function": "Maybe.__or__",
          "type_params": {
           "T": {
            "params": {
             "T": {
              "type": "Integer"
             },
             "U": {
              "params": {
               "T": {
                "type": "Integer"
               }
              },
              "type": "Vec"
             }
            },
            "type": "Either"
           }
          }
         }
        ],
        "6861363800049015634": [
         "4165022598424862665",
         {
          "args": [
           "3342109005677512084"
          ],
          "function": "NDArrayCompat.to_ndarray"
         }
        ],
        "7032651028720082216": [
         "4165022598424862665",
         {
          "args": [
           "-8134450949133358806"
          ],
          "function": "NDArrayCompat.to_ndarray"
         }
        ],
        "7101875186934734484": [
         "-7507020889469263454",
         {
          "args": [
           "3610271697978549640",
           "5290335498051873009"
          ],
          "function": "Abstraction.create",
          "type_params": {
           "T": {
            "params": {
             "T": {
              "type": "Integer"
             },
             "U": {
              "params": {
               "T": {
                "type": "Integer"
               }
              },
              "type": "Vec"
             }
            },
            "type": "Either"
           },
           "U": {
            "params": {
             "T": {
              "params": {
               "T": {
                "type": "Integer"
               },
               "U": {
                "params": {
                 "T": {
                  "type": "Integer"
                 }
                },
                "type": "Vec"
               }
              },
              "type": "Either"
             }
            },
            "type": "Maybe"
           }
          }
         }
        ],
        "7146915402851765224": [
         "7981845083225442043",
         {
          "args": [
           "855529740456915427",
           "-3868363342371013322"
          ],
          "function": "Maybe.__or__",
          "type_params": {
           "T": {
            "params": {
             "T": {
              "type": "Integer"
             },
             "U": {
              "params": {
               "T": {
                "type": "Integer"
               }
              },
              "type": "Vec"
             }
            },
            "type": "Either"
           }
          }
         }
        ],
        "7193990468420720555": [
         "8387922858404920787",
         {
          "args": [
           "-3593810371421164704"
          ],
          "function": "arange"
         }
        ],
        "7237376763328786737": [
         "4165022598424862665",
         {
          "args": [
           "-4247832016187456177",
           "-4247832016187456177"
          ],
          "function": "ndarray_add"
         }
        ],
        "7268800435487306097": [
         "-4814678537500170364",
         {
          "args": [
           "-5782871365754188927",
           "-7004180416014216026"
          ],
          "function": "Maybe.__and__",
          "type_params": {
           "T": {
            "type": "NDArray"
           }
          }
         }
        ],
        "7295427386607788938": [
         "7295427386607788938",
         {
          "args": [
           "-2728638420105509621",
           "-2728638420105509621"
          ],
          "function": "NDArray.__add__"
         }
        ],
        "7372525104834295168": [
         "-5254370847906375128",
         {
          "args": [
           "-5463825541328231257",
           "-1741944831158160669",
           "-3553652926862722267"
          ],
          "function": "Maybe.match",
          "type_params": {
           "T": {
            "type": "Integer"
           }
          }
         }
        ],
        "7489614136666698405": [
         "4165022598424862665",
         {
          "args": [
           "-6197652143754114584"
          ],
          "function": "NDArrayCompat.to_ndarray"
         }
        ],
        "7516757055623286900": [
         "-242142689691567201",
         {
          "args": [
           "-7334224414564589854"
          ],
          "function": "unbox_integer"
         }
        ],
        "7593629375782685187": [
         "7593629375782685187",
         {
          "args": [
           "-4101857827642879953",
           "-2782682249672993803"
          ],
          "function": "NDArray.__getitem__"
         }
        ],
        "7707647898813964057": [
         "4165022598424862665",
         {
          "args": [
           "3005298118816773913"
          ],
          "function": "NDArrayCompat.to_ndarray"
         }
        ],
        "7779841965738362007": [
         "4165022598424862665",
         {
          "args": [
           "-5842101473834705074"
          ],
          "function": "NDArrayCompat.to_ndarray"
         }
        ],
        "7789561644180733878": [
         "7981845083225442043",
         {
          "args": [
           "-6183565852243245365",
           "-3868363342371013322"
          ],
          "function": "Maybe.__or__",
          "type_params": {
           "T": {
            "params": {
             "T": {
              "type": "Integer"
             },
             "U": {
              "params": {
               "T": {
                "type": "Integer"
               }
              },
              "type": "Vec"
             }
            },
            "type": "Either"
           }
          }
         }
        ],
        "7819625667726201475": [
         "-7124340782382811070",
         {
          "args": [
           "-1010262108927125773",
           "-3052203273464861294",
           "2864275428688390516"
          ],
          "function": "Maybe.match",
          "type_params": {
           "T": {
            "type": "Integer"
           }
          }
         }
        ],
        "7858559597780916220": [
         "7858559597780916220",
         {
          "args": [
           "-2616682736920326438"
          ],
          "function": "Maybe.just",
          "type_params": {
           "T": {
            "type": "NDArray"
           }
          }
         }
        ],
        "786997342016145894": [
         "786997342016145894",
         {
          "args": [
           "6473606452442739172",
           "-2616682736920326438"
          ],
          "function": "Abstraction.create",
          "type_params": {
           "T": {
            "type": "Integer"
           },
           "U": {
            "type": "NDArray"
           }
          }
         }
        ],
        "7898050240573050074": [
         "6309009682264249851",
         {
          "args": [
           "7372525104834295168"
          ],
          "function": "NDArrayCompat.from_ndarray"
         }
        ],
        "7947258440880147023": [
         "7947258440880147023",
         {
          "args": [
           "-5558510579709572674"
          ],
          "function": "Converter.convert",
          "type_params": {
           "T": {
            "type": "NDArray"
           }
          }
         }
        ],
        "7981845083225442043": [
         "7981845083225442043",
         {
          "args": [
           "-7124340782382811070",
           "666638544606779544"
          ],
          "function": "Maybe.__or__",
          "type_params": {
           "T": {
            "params": {
             "T": {
              "type": "Integer"
             },
             "U": {
              "params": {
               "T": {
                "type": "Integer"
               }
              },
              "type": "Vec"
             }
            },
            "type": "Either"
           }
          }
         }
        ],
        "7991936205380157322": [
         "7991936205380157322",
         {
          "args": [
           "-8849721174918414579",
           "-8849721174918414579"
          ],
          "function": "NDArray.__add__"
         }
        ],
        "8077630380282570204": [
         "-8054137683011941171",
         {
          "args": [
           "289510125773986789"
          ],
          "function": "NDArrayCompat.from_ndarray"
         }
        ],
        "8084026966032417544": [
         "4165022598424862665",
         {
          "args": [
           "-3198979504917696568"
          ],
          "function": "NDArrayCompat.to_ndarray"
         }
        ],
        "8137055530438580218": [
         "4165022598424862665",
         {
          "args": [
           "-11254779807056851"
          ],
          "function": "NDArrayCompat.to_ndarray"
         }
        ],
        "8199993726224451980": [
         "-4814678537500170364",
         {
          "args": [
           "7947258440880147023",
           "-7004180416014216026"
          ],
          "function": "Maybe.__and__",
          "type_params": {
           "T": {
            "type": "NDArray"
           }
          }
         }
        ],
        "8387922858404920787": [
         "8387922858404920787",
         {
          "args": [
           "-2728638420105509621"
          ],
          "function": "NDArray.to_ndarray"
         }
        ],
        "8399144763942153968": [
         "-8054137683011941171",
         {
          "args": [
           "-6367256814064021117"
          ],
          "function": "NDArrayCompat.from_ndarray"
         }
        ],
        "850465293133506366": [
         "-9214882002482918105",
         {
          "args": [
           "-6145244821123564156",
           "-1741944831158160669",
           "-2254904298553319150"
          ],
          "function": "Maybe.match",
          "type_params": {
           "T": {
            "params": {
             "T": {
              "type": "NDArray"
             },
             "U": {
              "params": {
               "T": {
                "type": "Integer"
               },
               "U": {
                "params": {
                 "T": {
                  "type": "Integer"
                 }
                },
                "type": "Vec"
               }
              },
              "type": "Either"
             }
            },
            "type": "Pair"
           }
          }
         }
        ],
        "852842466726619175": [
         "852842466726619175",
         {
          "repr": "100",
          "type": "int"
         }
        ],
        "852842466831624100": [
         "852842466831624100",
         {
          "repr": "5",
          "type": "int"
         }
        ],
        "855529740456915427": [
         "-7124340782382811070",
         {
          "args": [
           "-1300383532418558388",
           "-7334224414564589854"
          ],
          "function": "Abstraction.__call__",
          "type_params": {
           "T": {
            "type": "Integer"
           },
           "U": {
            "params": {
             "T": {
              "params": {
               "T": {
                "type": "Integer"
               },
               "U": {
                "params": {
                 "T": {
                  "type": "Integer"
                 }
                },
                "type": "Vec"
               }
              },
              "type": "Either"
             }
            },
            "type": "Maybe"
           }
          }
         }
        ],
        "8609176585799137044": [
         "-8054137683011941171",
         {
          "args": [
           "4452910682496281740"
          ],
          "function": "NDArrayCompat.from_ndarray"
         }
        ],
        "871004212713699555": [
         "-9214882002482918105",
         {
          "args": [
           "-2256523982435669739",
           "-1741944831158160669",
           "-7419500629896554251"
          ],
          "function": "Maybe.match",
          "type_params": {
           "T": {
            "params": {
             "T": {
              "type": "NDArray"
             },
             "U": {
              "params": {
               "T": {
                "type": "Integer"
               },
               "U": {
                "params": {
                 "T": {
                  "type": "Integer"
                 }
                },
                "type": "Vec"
               }
              },
              "type": "Either"
             }
            },
            "type": "Pair"
           }
          }
         }
        ],
        "8766305814287401438": [
         "4165022598424862665",
         {
          "args": [
           "3553661590211903312"
          ],
          "function": "NDArrayCompat.to_ndarray"
         }
        ],
        "8775842784207928853": [
         "8775842784207928853",
         {
          "args": [
           "-2651554774626346251"
          ],
          "function": "Maybe.just",
          "type_params": {
           "T": {
            "type": "NDArray"
           }
          }
         }
        ],
        "8873528938243991147": [
         "6309009682264249851",
         {
          "args": [
           "4969971528995099444"
          ],
          "function": "NDArrayCompat.from_ndarray"
         }
        ],
        "8958669125193441025": [
         "4165022598424862665",
         {
          "args": [
           "5972110389137425460",
           "5972110389137425460"
          ],
          "function": "ndarray_add"
         }
        ],
        "944166673721479462": [
         "-2256523982435669739",
         {
          "args": [
           "1244090721317169732",
           "-4938600625655742771"
          ],
          "function": "Maybe.__and__",
          "type_params": {
           "T": {
            "type": "NDArray"
           }
          }
         }
        ],
        "971722316536660130": [
         "971722316536660130",
         {
          "args": [
           "852842466726619175"
          ],
          "function": "arange"
         }
        ]
       },
       "states": {
        "initial": "4165022598424862665",
        "states": [
         {
          "node": "-241267227046589772",
          "rule": "metadsl_core.numpy.NDArrayCompat.__getitem__"
         },
         {
          "node": "6861363800049015634",
          "rule": "metadsl_core.either.convert_to_either"
         },
         {
          "node": "6693806603941273213",
          "rule": "metadsl_core.numpy.arange"
         },
         {
          "node": "-4736513701993601747",
          "rule": "metadsl_core.integer.convert_integer"
         },
         {
          "node": "7032651028720082216",
          "rule": "metadsl_core.integer.convert_integer"
         },
         {
          "node": "5367850787852783940",
          "rule": "metadsl_core.abstraction.Abstraction.from_fn"
         },
         {
          "node": "-7012798537446400042",
          "rule": "metadsl_core.abstraction.Abstraction.from_fn"
         },
         {
          "node": "7489614136666698405",
          "rule": "metadsl_core.abstraction.Abstraction.from_fn"
         },
         {
          "node": "5690179165623969280",
          "rule": "metadsl_core.abstraction.Abstraction.from_fn"
         },
         {
          "node": "-8672196667771993085",
          "rule": "metadsl_core.maybe.Maybe.map"
         },
         {
          "node": "6625563432105728785",
          "rule": "metadsl_core.maybe.Maybe.map"
         },
         {
          "node": "-2950478782509142151",
          "rule": "metadsl_core.maybe.maybe_match"
         },
         {
          "node": "7707647898813964057",
          "rule": "metadsl_core.maybe.Maybe.map"
         },
         {
          "node": "-4252058329235867685",
          "rule": "metadsl_core.maybe.Maybe.map"
         },
         {
          "node": "-8551260107591658435",
          "rule": "metadsl_core.maybe.maybe_match"
         },
         {
          "node": "3895404525822615056",
          "rule": "metadsl_core.abstraction.Abstraction.from_fn"
         },
         {
          "node": "-1039774064523142733",
          "rule": "metadsl_core.abstraction.Abstraction.from_fn"
         },
         {
          "node": "653571269495829655",
          "rule": "metadsl_core.abstraction.compose"
         },
         {
          "node": "-1298893307199550344",
          "rule": "metadsl_core.abstraction.compose"
         },
         {
          "node": "-8063324651352519023",
          "rule": "metadsl_core.abstraction.beta_reduce"
         },
         {
          "node": "8137055530438580218",
          "rule": "metadsl_core.maybe.maybe_or"
         },
         {
          "node": "5129789569511304053",
          "rule": "metadsl_core.abstraction.compose"
         },
         {
          "node": "7779841965738362007",
          "rule": "metadsl_core.abstraction.beta_reduce"
         },
         {
          "node": "-1953676376133218332",
          "rule": "metadsl_core.numpy.add_compat"
         },
         {
          "node": "3230390530602732762",
          "rule": "metadsl_core.numpy.convert_to_ndarray"
         },
         {
          "node": "8766305814287401438",
          "rule": "metadsl_core.maybe.maybe_and"
         },
         {
          "node": "-910310951109169576",
          "rule": "metadsl_core.maybe.maybe_match"
         },
         {
          "node": "8084026966032417544",
          "rule": "metadsl_core.abstraction.beta_reduce"
         },
         {
          "node": "2283664882045373484",
          "rule": "metadsl_core.pair.pair_left"
         },
         {
          "node": "-1564021099621676942",
          "rule": "__main__.optimize_getitem_add"
         },
         {
          "node": "1377817908500687106",
          "rule": "metadsl_core.pair.pair_right"
         },
         {
          "label": "convert",
          "node": "1377817908500687106",
          "rule": ""
         },
         {
          "node": "4014423916305480480",
          "rule": "metadsl_core.numpy.box_unbox_ndarray_compat"
         },
         {
          "node": "4314315400247268931",
          "rule": "metadsl_core.numpy_engine.unbox_ndarray_add"
         },
         {
          "node": "-7564084846842887903",
          "rule": "metadsl_core.numpy_engine.unbox_ndarray_getitem"
         },
         {
          "node": "7237376763328786737",
          "rule": "metadsl_core.numpy_engine.unbox_arange"
         },
         {
          "node": "3578542254868010315",
          "rule": "metadsl_core.numpy_engine.unbox_idxs_rule"
         },
         {
          "node": "-1116489153309032335",
          "rule": "metadsl_core.numpy_engine.unbox_integer_rule"
         },
         {
          "node": "8958669125193441025",
          "rule": "metadsl_core.numpy_engine.unbox_integer_rule"
         },
         {
          "label": "unbox",
          "node": "8958669125193441025",
          "rule": ""
         },
         {
          "node": "1089132922689139569",
          "rule": "metadsl_core.numpy_engine.arange"
         },
         {
          "node": "5317598860892217451",
          "rule": "metadsl_core.numpy_engine.ndarray_getitem"
         },
         {
          "node": "-2565939494599753983",
          "rule": "metadsl_core.numpy_engine.ndarray_add"
         },
         {
          "label": "execute",
          "node": "-2565939494599753983",
          "rule": ""
         }
        ]
       }
      },
      "application/x.typez.graph+json": {
       "initial": "digraph {\n\tnode [shape=plain]\n\tedge [arrowsize=0.5 penwidth=0.5]\n\t4165022598424862665 [label=\"NDArrayCompat.to_ndarray\" id=4165022598424862665]\n\t4165022598424862665 -> -8054137683011941171 [id=\"4165022598424862665.args[0]\"]\n\t-8054137683011941171 [label=\"NDArrayCompat.__getitem__\" id=-8054137683011941171]\n\t-8054137683011941171 -> -5558510579709572674 [id=\"-8054137683011941171.args[0]\"]\n\t-5558510579709572674 [label=\"NDArrayCompat.__add__\" id=-5558510579709572674]\n\t-5558510579709572674 -> 971722316536660130 [id=\"-5558510579709572674.args[0]\"]\n\t971722316536660130 [label=arange id=971722316536660130]\n\t971722316536660130 -> 852842466726619175 [id=\"971722316536660130.args[0]\"]\n\t852842466726619175 [label=100 id=852842466726619175]\n\t-5558510579709572674 -> 971722316536660130 [id=\"-5558510579709572674.args[1]\"]\n\t-8054137683011941171 -> 852842466831624100 [id=\"-8054137683011941171.args[1]\"]\n\t852842466831624100 [label=5 id=852842466831624100]\n}",
       "states": [
        {
         "graph": "digraph {\n\tnode [shape=plain]\n\tedge [arrowsize=0.5 penwidth=0.5]\n\t-241267227046589772 [label=\"NDArrayCompat.to_ndarray\" id=4165022598424862665]\n\t-241267227046589772 -> 5366071883150323361 [id=\"4165022598424862665.args[0]\"]\n\t5366071883150323361 [label=\"NDArrayCompat.from_ndarray\" id=-8054137683011941171]\n\t5366071883150323361 -> -9214882002482918105 [id=\"-8054137683011941171.args[0]\"]\n\t-9214882002482918105 [label=\"Maybe.map\" id=-9214882002482918105]\n\t-9214882002482918105 -> -4814678537500170364 [id=\"-9214882002482918105.args[0]\"]\n\t-4814678537500170364 [label=\"Maybe.__and__\" id=-4814678537500170364]\n\t-4814678537500170364 -> 7947258440880147023 [id=\"-4814678537500170364.args[0]\"]\n\t7947258440880147023 [label=\"Converter.convert\" id=7947258440880147023]\n\t7947258440880147023 -> -5558510579709572674 [id=\"7947258440880147023.args[0]\"]\n\t-5558510579709572674 [label=\"NDArrayCompat.__add__\" id=-5558510579709572674]\n\t-5558510579709572674 -> 971722316536660130 [id=\"-5558510579709572674.args[0]\"]\n\t971722316536660130 [label=arange id=971722316536660130]\n\t971722316536660130 -> 852842466726619175 [id=\"971722316536660130.args[0]\"]\n\t852842466726619175 [label=100 id=852842466726619175]\n\t-5558510579709572674 -> 971722316536660130 [id=\"-5558510579709572674.args[1]\"]\n\t-4814678537500170364 -> -7413928963025066946 [id=\"-4814678537500170364.args[1]\"]\n\t-7413928963025066946 [label=\"Converter.convert\" id=-7413928963025066946]\n\t-7413928963025066946 -> 852842466831624100 [id=\"-7413928963025066946.args[0]\"]\n\t852842466831624100 [label=5 id=852842466831624100]\n\t-9214882002482918105 -> 3418814719444300196 [id=\"-9214882002482918105.args[1]\"]\n\t3418814719444300196 [label=\"Abstraction.from_fn\" id=3418814719444300196]\n\t3418814719444300196 -> -8369638043984791308 [id=\"3418814719444300196.args[0]\"]\n\t-8369638043984791308 [label=\"function NDArrayCompat.__getitem__.locals.lambda at 0x10f675840\" id=-8369638043984791308]\n}",
         "label": null,
         "rule": "metadsl_core.numpy.NDArrayCompat.__getitem__"
        },
        {
         "graph": "digraph {\n\tnode [shape=plain]\n\tedge [arrowsize=0.5 penwidth=0.5]\n\t6861363800049015634 [label=\"NDArrayCompat.to_ndarray\" id=4165022598424862665]\n\t6861363800049015634 -> 3342109005677512084 [id=\"4165022598424862665.args[0]\"]\n\t3342109005677512084 [label=\"NDArrayCompat.from_ndarray\" id=-8054137683011941171]\n\t3342109005677512084 -> -3975180199655561458 [id=\"-8054137683011941171.args[0]\"]\n\t-3975180199655561458 [label=\"Maybe.map\" id=-9214882002482918105]\n\t-3975180199655561458 -> 8199993726224451980 [id=\"-9214882002482918105.args[0]\"]\n\t8199993726224451980 [label=\"Maybe.__and__\" id=-4814678537500170364]\n\t8199993726224451980 -> 7947258440880147023 [id=\"-4814678537500170364.args[0]\"]\n\t7947258440880147023 [label=\"Converter.convert\" id=7947258440880147023]\n\t7947258440880147023 -> -5558510579709572674 [id=\"7947258440880147023.args[0]\"]\n\t-5558510579709572674 [label=\"NDArrayCompat.__add__\" id=-5558510579709572674]\n\t-5558510579709572674 -> 971722316536660130 [id=\"-5558510579709572674.args[0]\"]\n\t971722316536660130 [label=arange id=971722316536660130]\n\t971722316536660130 -> 852842466726619175 [id=\"971722316536660130.args[0]\"]\n\t852842466726619175 [label=100 id=852842466726619175]\n\t-5558510579709572674 -> 971722316536660130 [id=\"-5558510579709572674.args[1]\"]\n\t8199993726224451980 -> -7004180416014216026 [id=\"-4814678537500170364.args[1]\"]\n\t-7004180416014216026 [label=\"Maybe.__or__\" id=-7413928963025066946]\n\t-7004180416014216026 -> 5068959694142403101 [id=\"-7413928963025066946.args[0]\"]\n\t5068959694142403101 [label=\"Maybe.map\" id=5068959694142403101]\n\t5068959694142403101 -> 5743490207633551519 [id=\"5068959694142403101.args[0]\"]\n\t5743490207633551519 [label=\"Converter.convert\" id=5743490207633551519]\n\t5743490207633551519 -> 852842466831624100 [id=\"5743490207633551519.args[0]\"]\n\t852842466831624100 [label=5 id=852842466831624100]\n\t5068959694142403101 -> 3299436367977257648 [id=\"5068959694142403101.args[1]\"]\n\t3299436367977257648 [label=\"Abstraction.from_fn\" id=3299436367977257648]\n\t3299436367977257648 -> 3303217568467687651 [id=\"3299436367977257648.args[0]\"]\n\t3303217568467687651 [label=\"Either.left\" id=3303217568467687651]\n\t-7004180416014216026 -> 4687392789662792897 [id=\"-7413928963025066946.args[1]\"]\n\t4687392789662792897 [label=\"Maybe.map\" id=4687392789662792897]\n\t4687392789662792897 -> 2903062968911337222 [id=\"4687392789662792897.args[0]\"]\n\t2903062968911337222 [label=\"Converter.convert\" id=2903062968911337222]\n\t2903062968911337222 -> 852842466831624100 [id=\"2903062968911337222.args[0]\"]\n\t4687392789662792897 -> -8841748531208643889 [id=\"4687392789662792897.args[1]\"]\n\t-8841748531208643889 [label=\"Abstraction.from_fn\" id=-8841748531208643889]\n\t-8841748531208643889 -> -1743313584654778961 [id=\"-8841748531208643889.args[0]\"]\n\t-1743313584654778961 [label=\"Either.right\" id=-1743313584654778961]\n\t-3975180199655561458 -> 3418814719444300196 [id=\"-9214882002482918105.args[1]\"]\n\t3418814719444300196 [label=\"Abstraction.from_fn\" id=3418814719444300196]\n\t3418814719444300196 -> -8369638043984791308 [id=\"3418814719444300196.args[0]\"]\n\t-8369638043984791308 [label=\"function NDArrayCompat.__getitem__.locals.lambda at 0x10f675840\" id=-8369638043984791308]\n}",
         "label": null,
         "rule": "metadsl_core.either.convert_to_either"
        },
        {
         "graph": "digraph {\n\tnode [shape=plain]\n\tedge [arrowsize=0.5 penwidth=0.5]\n\t6693806603941273213 [label=\"NDArrayCompat.to_ndarray\" id=4165022598424862665]\n\t6693806603941273213 -> -8013479534701788047 [id=\"4165022598424862665.args[0]\"]\n\t-8013479534701788047 [label=\"NDArrayCompat.from_ndarray\" id=-8054137683011941171]\n\t-8013479534701788047 -> -2328637521397002667 [id=\"-8054137683011941171.args[0]\"]\n\t-2328637521397002667 [label=\"Maybe.map\" id=-9214882002482918105]\n\t-2328637521397002667 -> 7268800435487306097 [id=\"-9214882002482918105.args[0]\"]\n\t7268800435487306097 [label=\"Maybe.__and__\" id=-4814678537500170364]\n\t7268800435487306097 -> -5782871365754188927 [id=\"-4814678537500170364.args[0]\"]\n\t-5782871365754188927 [label=\"Converter.convert\" id=7947258440880147023]\n\t-5782871365754188927 -> -5952365224410209476 [id=\"7947258440880147023.args[0]\"]\n\t-5952365224410209476 [label=\"NDArrayCompat.__add__\" id=-5558510579709572674]\n\t-5952365224410209476 -> 1347295785570687419 [id=\"-5558510579709572674.args[0]\"]\n\t1347295785570687419 [label=\"NDArrayCompat.from_ndarray\" id=971722316536660130]\n\t1347295785570687419 -> 5848963126652067044 [id=\"971722316536660130.args[0]\"]\n\t5848963126652067044 [label=\"Maybe.map\" id=5848963126652067044]\n\t5848963126652067044 -> 5706060419324713096 [id=\"5848963126652067044.args[0]\"]\n\t5706060419324713096 [label=\"Converter.convert\" id=5706060419324713096]\n\t5706060419324713096 -> 852842466726619175 [id=\"5706060419324713096.args[0]\"]\n\t852842466726619175 [label=100 id=852842466726619175]\n\t5848963126652067044 -> -8550721238847586890 [id=\"5848963126652067044.args[1]\"]\n\t-8550721238847586890 [label=\"Abstraction.from_fn\" id=-8550721238847586890]\n\t-8550721238847586890 -> 5765685988797773240 [id=\"-8550721238847586890.args[0]\"]\n\t5765685988797773240 [label=arange_ id=5765685988797773240]\n\t-5952365224410209476 -> 1347295785570687419 [id=\"-5558510579709572674.args[1]\"]\n\t7268800435487306097 -> -7004180416014216026 [id=\"-4814678537500170364.args[1]\"]\n\t-7004180416014216026 [label=\"Maybe.__or__\" id=-7413928963025066946]\n\t-7004180416014216026 -> 5068959694142403101 [id=\"-7413928963025066946.args[0]\"]\n\t5068959694142403101 [label=\"Maybe.map\" id=5068959694142403101]\n\t5068959694142403101 -> 5743490207633551519 [id=\"5068959694142403101.args[0]\"]\n\t5743490207633551519 [label=\"Converter.convert\" id=5743490207633551519]\n\t5743490207633551519 -> 852842466831624100 [id=\"5743490207633551519.args[0]\"]\n\t852842466831624100 [label=5 id=852842466831624100]\n\t5068959694142403101 -> 3299436367977257648 [id=\"5068959694142403101.args[1]\"]\n\t3299436367977257648 [label=\"Abstraction.from_fn\" id=3299436367977257648]\n\t3299436367977257648 -> 3303217568467687651 [id=\"3299436367977257648.args[0]\"]\n\t3303217568467687651 [label=\"Either.left\" id=3303217568467687651]\n\t-7004180416014216026 -> 4687392789662792897 [id=\"-7413928963025066946.args[1]\"]\n\t4687392789662792897 [label=\"Maybe.map\" id=4687392789662792897]\n\t4687392789662792897 -> 2903062968911337222 [id=\"4687392789662792897.args[0]\"]\n\t2903062968911337222 [label=\"Converter.convert\" id=2903062968911337222]\n\t2903062968911337222 -> 852842466831624100 [id=\"2903062968911337222.args[0]\"]\n\t4687392789662792897 -> -8841748531208643889 [id=\"4687392789662792897.args[1]\"]\n\t-8841748531208643889 [label=\"Abstraction.from_fn\" id=-8841748531208643889]\n\t-8841748531208643889 -> -1743313584654778961 [id=\"-8841748531208643889.args[0]\"]\n\t-1743313584654778961 [label=\"Either.right\" id=-1743313584654778961]\n\t-2328637521397002667 -> 3418814719444300196 [id=\"-9214882002482918105.args[1]\"]\n\t3418814719444300196 [label=\"Abstraction.from_fn\" id=3418814719444300196]\n\t3418814719444300196 -> -8369638043984791308 [id=\"3418814719444300196.args[0]\"]\n\t-8369638043984791308 [label=\"function NDArrayCompat.__getitem__.locals.lambda at 0x10f675840\" id=-8369638043984791308]\n}",
         "label": null,
         "rule": "metadsl_core.numpy.arange"
        },
        {
         "graph": "digraph {\n\tnode [shape=plain]\n\tedge [arrowsize=0.5 penwidth=0.5]\n\t-4736513701993601747 [label=\"NDArrayCompat.to_ndarray\" id=4165022598424862665]\n\t-4736513701993601747 -> 2966145761745473501 [id=\"4165022598424862665.args[0]\"]\n\t2966145761745473501 [label=\"NDArrayCompat.from_ndarray\" id=-8054137683011941171]\n\t2966145761745473501 -> -6687655868354507286 [id=\"-8054137683011941171.args[0]\"]\n\t-6687655868354507286 [label=\"Maybe.map\" id=-9214882002482918105]\n\t-6687655868354507286 -> 3007494864010919930 [id=\"-9214882002482918105.args[0]\"]\n\t3007494864010919930 [label=\"Maybe.__and__\" id=-4814678537500170364]\n\t3007494864010919930 -> -5782871365754188927 [id=\"-4814678537500170364.args[0]\"]\n\t-5782871365754188927 [label=\"Converter.convert\" id=7947258440880147023]\n\t-5782871365754188927 -> -5952365224410209476 [id=\"7947258440880147023.args[0]\"]\n\t-5952365224410209476 [label=\"NDArrayCompat.__add__\" id=-5558510579709572674]\n\t-5952365224410209476 -> 1347295785570687419 [id=\"-5558510579709572674.args[0]\"]\n\t1347295785570687419 [label=\"NDArrayCompat.from_ndarray\" id=971722316536660130]\n\t1347295785570687419 -> 5848963126652067044 [id=\"971722316536660130.args[0]\"]\n\t5848963126652067044 [label=\"Maybe.map\" id=5848963126652067044]\n\t5848963126652067044 -> 5706060419324713096 [id=\"5848963126652067044.args[0]\"]\n\t5706060419324713096 [label=\"Converter.convert\" id=5706060419324713096]\n\t5706060419324713096 -> 852842466726619175 [id=\"5706060419324713096.args[0]\"]\n\t852842466726619175 [label=100 id=852842466726619175]\n\t5848963126652067044 -> -8550721238847586890 [id=\"5848963126652067044.args[1]\"]\n\t-8550721238847586890 [label=\"Abstraction.from_fn\" id=-8550721238847586890]\n\t-8550721238847586890 -> 5765685988797773240 [id=\"-8550721238847586890.args[0]\"]\n\t5765685988797773240 [label=arange_ id=5765685988797773240]\n\t-5952365224410209476 -> 1347295785570687419 [id=\"-5558510579709572674.args[1]\"]\n\t3007494864010919930 -> 6856229555535770924 [id=\"-4814678537500170364.args[1]\"]\n\t6856229555535770924 [label=\"Maybe.__or__\" id=-7413928963025066946]\n\t6856229555535770924 -> -6449000199390749469 [id=\"-7413928963025066946.args[0]\"]\n\t-6449000199390749469 [label=\"Maybe.map\" id=5068959694142403101]\n\t-6449000199390749469 -> -1010262108927125773 [id=\"5068959694142403101.args[0]\"]\n\t-1010262108927125773 [label=\"Maybe.just\" id=-1010262108927125773]\n\t-1010262108927125773 -> -7334224414564589854 [id=\"-1010262108927125773.args[0]\"]\n\t-7334224414564589854 [label=\"Integer.from_int\" id=-7334224414564589854]\n\t-7334224414564589854 -> 852842466831624100 [id=\"-7334224414564589854.args[0]\"]\n\t852842466831624100 [label=5 id=852842466831624100]\n\t-6449000199390749469 -> 3299436367977257648 [id=\"5068959694142403101.args[1]\"]\n\t3299436367977257648 [label=\"Abstraction.from_fn\" id=3299436367977257648]\n\t3299436367977257648 -> 3303217568467687651 [id=\"3299436367977257648.args[0]\"]\n\t3303217568467687651 [label=\"Either.left\" id=3303217568467687651]\n\t6856229555535770924 -> 4687392789662792897 [id=\"-7413928963025066946.args[1]\"]\n\t4687392789662792897 [label=\"Maybe.map\" id=4687392789662792897]\n\t4687392789662792897 -> 2903062968911337222 [id=\"4687392789662792897.args[0]\"]\n\t2903062968911337222 [label=\"Converter.convert\" id=2903062968911337222]\n\t2903062968911337222 -> 852842466831624100 [id=\"2903062968911337222.args[0]\"]\n\t4687392789662792897 -> -8841748531208643889 [id=\"4687392789662792897.args[1]\"]\n\t-8841748531208643889 [label=\"Abstraction.from_fn\" id=-8841748531208643889]\n\t-8841748531208643889 -> -1743313584654778961 [id=\"-8841748531208643889.args[0]\"]\n\t-1743313584654778961 [label=\"Either.right\" id=-1743313584654778961]\n\t-6687655868354507286 -> 3418814719444300196 [id=\"-9214882002482918105.args[1]\"]\n\t3418814719444300196 [label=\"Abstraction.from_fn\" id=3418814719444300196]\n\t3418814719444300196 -> -8369638043984791308 [id=\"3418814719444300196.args[0]\"]\n\t-8369638043984791308 [label=\"function NDArrayCompat.__getitem__.locals.lambda at 0x10f675840\" id=-8369638043984791308]\n}",
         "label": null,
         "rule": "metadsl_core.integer.convert_integer"
        },
        {
         "graph": "digraph {\n\tnode [shape=plain]\n\tedge [arrowsize=0.5 penwidth=0.5]\n\t7032651028720082216 [label=\"NDArrayCompat.to_ndarray\" id=4165022598424862665]\n\t7032651028720082216 -> -8134450949133358806 [id=\"4165022598424862665.args[0]\"]\n\t-8134450949133358806 [label=\"NDArrayCompat.from_ndarray\" id=-8054137683011941171]\n\t-8134450949133358806 -> 4336669298831928370 [id=\"-8054137683011941171.args[0]\"]\n\t4336669298831928370 [label=\"Maybe.map\" id=-9214882002482918105]\n\t4336669298831928370 -> -1026313121908345213 [id=\"-9214882002482918105.args[0]\"]\n\t-1026313121908345213 [label=\"Maybe.__and__\" id=-4814678537500170364]\n\t-1026313121908345213 -> -1156468161871471630 [id=\"-4814678537500170364.args[0]\"]\n\t-1156468161871471630 [label=\"Converter.convert\" id=7947258440880147023]\n\t-1156468161871471630 -> -3654042068687366610 [id=\"7947258440880147023.args[0]\"]\n\t-3654042068687366610 [label=\"NDArrayCompat.__add__\" id=-5558510579709572674]\n\t-3654042068687366610 -> 6583497480016573524 [id=\"-5558510579709572674.args[0]\"]\n\t6583497480016573524 [label=\"NDArrayCompat.from_ndarray\" id=971722316536660130]\n\t6583497480016573524 -> -4724715256758988081 [id=\"971722316536660130.args[0]\"]\n\t-4724715256758988081 [label=\"Maybe.map\" id=5848963126652067044]\n\t-4724715256758988081 -> -5463825541328231257 [id=\"5848963126652067044.args[0]\"]\n\t-5463825541328231257 [label=\"Maybe.just\" id=-5463825541328231257]\n\t-5463825541328231257 -> -6362610179852757995 [id=\"-5463825541328231257.args[0]\"]\n\t-6362610179852757995 [label=\"Integer.from_int\" id=-6362610179852757995]\n\t-6362610179852757995 -> 852842466726619175 [id=\"-6362610179852757995.args[0]\"]\n\t852842466726619175 [label=100 id=852842466726619175]\n\t-4724715256758988081 -> -8550721238847586890 [id=\"5848963126652067044.args[1]\"]\n\t-8550721238847586890 [label=\"Abstraction.from_fn\" id=-8550721238847586890]\n\t-8550721238847586890 -> 5765685988797773240 [id=\"-8550721238847586890.args[0]\"]\n\t5765685988797773240 [label=arange_ id=5765685988797773240]\n\t-3654042068687366610 -> 6583497480016573524 [id=\"-5558510579709572674.args[1]\"]\n\t-1026313121908345213 -> 6856229555535770924 [id=\"-4814678537500170364.args[1]\"]\n\t6856229555535770924 [label=\"Maybe.__or__\" id=-7413928963025066946]\n\t6856229555535770924 -> -6449000199390749469 [id=\"-7413928963025066946.args[0]\"]\n\t-6449000199390749469 [label=\"Maybe.map\" id=5068959694142403101]\n\t-6449000199390749469 -> -1010262108927125773 [id=\"5068959694142403101.args[0]\"]\n\t-1010262108927125773 [label=\"Maybe.just\" id=-1010262108927125773]\n\t-1010262108927125773 -> -7334224414564589854 [id=\"-1010262108927125773.args[0]\"]\n\t-7334224414564589854 [label=\"Integer.from_int\" id=-7334224414564589854]\n\t-7334224414564589854 -> 852842466831624100 [id=\"-7334224414564589854.args[0]\"]\n\t852842466831624100 [label=5 id=852842466831624100]\n\t-6449000199390749469 -> 3299436367977257648 [id=\"5068959694142403101.args[1]\"]\n\t3299436367977257648 [label=\"Abstraction.from_fn\" id=3299436367977257648]\n\t3299436367977257648 -> 3303217568467687651 [id=\"3299436367977257648.args[0]\"]\n\t3303217568467687651 [label=\"Either.left\" id=3303217568467687651]\n\t6856229555535770924 -> 4687392789662792897 [id=\"-7413928963025066946.args[1]\"]\n\t4687392789662792897 [label=\"Maybe.map\" id=4687392789662792897]\n\t4687392789662792897 -> 2903062968911337222 [id=\"4687392789662792897.args[0]\"]\n\t2903062968911337222 [label=\"Converter.convert\" id=2903062968911337222]\n\t2903062968911337222 -> 852842466831624100 [id=\"2903062968911337222.args[0]\"]\n\t4687392789662792897 -> -8841748531208643889 [id=\"4687392789662792897.args[1]\"]\n\t-8841748531208643889 [label=\"Abstraction.from_fn\" id=-8841748531208643889]\n\t-8841748531208643889 -> -1743313584654778961 [id=\"-8841748531208643889.args[0]\"]\n\t-1743313584654778961 [label=\"Either.right\" id=-1743313584654778961]\n\t4336669298831928370 -> 3418814719444300196 [id=\"-9214882002482918105.args[1]\"]\n\t3418814719444300196 [label=\"Abstraction.from_fn\" id=3418814719444300196]\n\t3418814719444300196 -> -8369638043984791308 [id=\"3418814719444300196.args[0]\"]\n\t-8369638043984791308 [label=\"function NDArrayCompat.__getitem__.locals.lambda at 0x10f675840\" id=-8369638043984791308]\n}",
         "label": null,
         "rule": "metadsl_core.integer.convert_integer"
        },
        {
         "graph": "digraph {\n\tnode [shape=plain]\n\tedge [arrowsize=0.5 penwidth=0.5]\n\t5367850787852783940 [label=\"NDArrayCompat.to_ndarray\" id=4165022598424862665]\n\t5367850787852783940 -> 8399144763942153968 [id=\"4165022598424862665.args[0]\"]\n\t8399144763942153968 [label=\"NDArrayCompat.from_ndarray\" id=-8054137683011941171]\n\t8399144763942153968 -> -6367256814064021117 [id=\"-8054137683011941171.args[0]\"]\n\t-6367256814064021117 [label=\"Maybe.map\" id=-9214882002482918105]\n\t-6367256814064021117 -> -1026313121908345213 [id=\"-9214882002482918105.args[0]\"]\n\t-1026313121908345213 [label=\"Maybe.__and__\" id=-4814678537500170364]\n\t-1026313121908345213 -> -1156468161871471630 [id=\"-4814678537500170364.args[0]\"]\n\t-1156468161871471630 [label=\"Converter.convert\" id=7947258440880147023]\n\t-1156468161871471630 -> -3654042068687366610 [id=\"7947258440880147023.args[0]\"]\n\t-3654042068687366610 [label=\"NDArrayCompat.__add__\" id=-5558510579709572674]\n\t-3654042068687366610 -> 6583497480016573524 [id=\"-5558510579709572674.args[0]\"]\n\t6583497480016573524 [label=\"NDArrayCompat.from_ndarray\" id=971722316536660130]\n\t6583497480016573524 -> -4724715256758988081 [id=\"971722316536660130.args[0]\"]\n\t-4724715256758988081 [label=\"Maybe.map\" id=5848963126652067044]\n\t-4724715256758988081 -> -5463825541328231257 [id=\"5848963126652067044.args[0]\"]\n\t-5463825541328231257 [label=\"Maybe.just\" id=-5463825541328231257]\n\t-5463825541328231257 -> -6362610179852757995 [id=\"-5463825541328231257.args[0]\"]\n\t-6362610179852757995 [label=\"Integer.from_int\" id=-6362610179852757995]\n\t-6362610179852757995 -> 852842466726619175 [id=\"-6362610179852757995.args[0]\"]\n\t852842466726619175 [label=100 id=852842466726619175]\n\t-4724715256758988081 -> -8550721238847586890 [id=\"5848963126652067044.args[1]\"]\n\t-8550721238847586890 [label=\"Abstraction.from_fn\" id=-8550721238847586890]\n\t-8550721238847586890 -> 5765685988797773240 [id=\"-8550721238847586890.args[0]\"]\n\t5765685988797773240 [label=arange_ id=5765685988797773240]\n\t-3654042068687366610 -> 6583497480016573524 [id=\"-5558510579709572674.args[1]\"]\n\t-1026313121908345213 -> 6856229555535770924 [id=\"-4814678537500170364.args[1]\"]\n\t6856229555535770924 [label=\"Maybe.__or__\" id=-7413928963025066946]\n\t6856229555535770924 -> -6449000199390749469 [id=\"-7413928963025066946.args[0]\"]\n\t-6449000199390749469 [label=\"Maybe.map\" id=5068959694142403101]\n\t-6449000199390749469 -> -1010262108927125773 [id=\"5068959694142403101.args[0]\"]\n\t-1010262108927125773 [label=\"Maybe.just\" id=-1010262108927125773]\n\t-1010262108927125773 -> -7334224414564589854 [id=\"-1010262108927125773.args[0]\"]\n\t-7334224414564589854 [label=\"Integer.from_int\" id=-7334224414564589854]\n\t-7334224414564589854 -> 852842466831624100 [id=\"-7334224414564589854.args[0]\"]\n\t852842466831624100 [label=5 id=852842466831624100]\n\t-6449000199390749469 -> 3299436367977257648 [id=\"5068959694142403101.args[1]\"]\n\t3299436367977257648 [label=\"Abstraction.from_fn\" id=3299436367977257648]\n\t3299436367977257648 -> 3303217568467687651 [id=\"3299436367977257648.args[0]\"]\n\t3303217568467687651 [label=\"Either.left\" id=3303217568467687651]\n\t6856229555535770924 -> 4687392789662792897 [id=\"-7413928963025066946.args[1]\"]\n\t4687392789662792897 [label=\"Maybe.map\" id=4687392789662792897]\n\t4687392789662792897 -> 2903062968911337222 [id=\"4687392789662792897.args[0]\"]\n\t2903062968911337222 [label=\"Converter.convert\" id=2903062968911337222]\n\t2903062968911337222 -> 852842466831624100 [id=\"2903062968911337222.args[0]\"]\n\t4687392789662792897 -> -8841748531208643889 [id=\"4687392789662792897.args[1]\"]\n\t-8841748531208643889 [label=\"Abstraction.from_fn\" id=-8841748531208643889]\n\t-8841748531208643889 -> -1743313584654778961 [id=\"-8841748531208643889.args[0]\"]\n\t-1743313584654778961 [label=\"Either.right\" id=-1743313584654778961]\n\t-6367256814064021117 -> -1550240104841062570 [id=\"-9214882002482918105.args[1]\"]\n\t-1550240104841062570 [label=\"Abstraction.create\" id=-1550240104841062570]\n\t-1550240104841062570 -> -3068421415838553853 [id=\"-1550240104841062570.args[0]\"]\n\t-3068421415838553853 [label=\"Abstraction.create_variable\" id=-3068421415838553853]\n\t-3068421415838553853 -> 1599161591337719634 [id=\"-3068421415838553853.args[0]\"]\n\t1599161591337719634 [label=\"Variable(4550346232)\" id=1599161591337719634]\n\t-1550240104841062570 -> 7593629375782685187 [id=\"-1550240104841062570.args[1]\"]\n\t7593629375782685187 [label=\"NDArray.__getitem__\" id=7593629375782685187]\n\t7593629375782685187 -> -4101857827642879953 [id=\"7593629375782685187.args[0]\"]\n\t-4101857827642879953 [label=\"Pair.left\" id=-4101857827642879953]\n\t-4101857827642879953 -> -3068421415838553853 [id=\"-4101857827642879953.args[0]\"]\n\t7593629375782685187 -> -2782682249672993803 [id=\"7593629375782685187.args[1]\"]\n\t-2782682249672993803 [label=\"Pair.right\" id=-2782682249672993803]\n\t-2782682249672993803 -> -3068421415838553853 [id=\"-2782682249672993803.args[0]\"]\n}",
         "label": null,
         "rule": "metadsl_core.abstraction.Abstraction.from_fn"
        },
        {
         "graph": "digraph {\n\tnode [shape=plain]\n\tedge [arrowsize=0.5 penwidth=0.5]\n\t-7012798537446400042 [label=\"NDArrayCompat.to_ndarray\" id=4165022598424862665]\n\t-7012798537446400042 -> -5339197880906422725 [id=\"4165022598424862665.args[0]\"]\n\t-5339197880906422725 [label=\"NDArrayCompat.from_ndarray\" id=-8054137683011941171]\n\t-5339197880906422725 -> 6442402512975311716 [id=\"-8054137683011941171.args[0]\"]\n\t6442402512975311716 [label=\"Maybe.map\" id=-9214882002482918105]\n\t6442402512975311716 -> -1557203513455568992 [id=\"-9214882002482918105.args[0]\"]\n\t-1557203513455568992 [label=\"Maybe.__and__\" id=-4814678537500170364]\n\t-1557203513455568992 -> -1156468161871471630 [id=\"-4814678537500170364.args[0]\"]\n\t-1156468161871471630 [label=\"Converter.convert\" id=7947258440880147023]\n\t-1156468161871471630 -> -3654042068687366610 [id=\"7947258440880147023.args[0]\"]\n\t-3654042068687366610 [label=\"NDArrayCompat.__add__\" id=-5558510579709572674]\n\t-3654042068687366610 -> 6583497480016573524 [id=\"-5558510579709572674.args[0]\"]\n\t6583497480016573524 [label=\"NDArrayCompat.from_ndarray\" id=971722316536660130]\n\t6583497480016573524 -> -4724715256758988081 [id=\"971722316536660130.args[0]\"]\n\t-4724715256758988081 [label=\"Maybe.map\" id=5848963126652067044]\n\t-4724715256758988081 -> -5463825541328231257 [id=\"5848963126652067044.args[0]\"]\n\t-5463825541328231257 [label=\"Maybe.just\" id=-5463825541328231257]\n\t-5463825541328231257 -> -6362610179852757995 [id=\"-5463825541328231257.args[0]\"]\n\t-6362610179852757995 [label=\"Integer.from_int\" id=-6362610179852757995]\n\t-6362610179852757995 -> 852842466726619175 [id=\"-6362610179852757995.args[0]\"]\n\t852842466726619175 [label=100 id=852842466726619175]\n\t-4724715256758988081 -> -8550721238847586890 [id=\"5848963126652067044.args[1]\"]\n\t-8550721238847586890 [label=\"Abstraction.from_fn\" id=-8550721238847586890]\n\t-8550721238847586890 -> 5765685988797773240 [id=\"-8550721238847586890.args[0]\"]\n\t5765685988797773240 [label=arange_ id=5765685988797773240]\n\t-3654042068687366610 -> 6583497480016573524 [id=\"-5558510579709572674.args[1]\"]\n\t-1557203513455568992 -> 2784868908810072070 [id=\"-4814678537500170364.args[1]\"]\n\t2784868908810072070 [label=\"Maybe.__or__\" id=-7413928963025066946]\n\t2784868908810072070 -> -7124340782382811070 [id=\"-7413928963025066946.args[0]\"]\n\t-7124340782382811070 [label=\"Maybe.map\" id=-7124340782382811070]\n\t-7124340782382811070 -> -1010262108927125773 [id=\"-7124340782382811070.args[0]\"]\n\t-1010262108927125773 [label=\"Maybe.just\" id=-1010262108927125773]\n\t-1010262108927125773 -> -7334224414564589854 [id=\"-1010262108927125773.args[0]\"]\n\t-7334224414564589854 [label=\"Integer.from_int\" id=-7334224414564589854]\n\t-7334224414564589854 -> 852842466831624100 [id=\"-7334224414564589854.args[0]\"]\n\t852842466831624100 [label=5 id=852842466831624100]\n\t-7124340782382811070 -> -1467930441750646094 [id=\"-7124340782382811070.args[1]\"]\n\t-1467930441750646094 [label=\"Abstraction.create\" id=-1467930441750646094]\n\t-1467930441750646094 -> 4436707967317074207 [id=\"-1467930441750646094.args[0]\"]\n\t4436707967317074207 [label=\"Abstraction.create_variable\" id=4436707967317074207]\n\t4436707967317074207 -> -7624210414075117549 [id=\"4436707967317074207.args[0]\"]\n\t-7624210414075117549 [label=\"Variable(4549890624)\" id=-7624210414075117549]\n\t-1467930441750646094 -> 3571471722856851369 [id=\"-1467930441750646094.args[1]\"]\n\t3571471722856851369 [label=\"Either.left\" id=3571471722856851369]\n\t3571471722856851369 -> 4436707967317074207 [id=\"3571471722856851369.args[0]\"]\n\t2784868908810072070 -> 4687392789662792897 [id=\"-7413928963025066946.args[1]\"]\n\t4687392789662792897 [label=\"Maybe.map\" id=4687392789662792897]\n\t4687392789662792897 -> 2903062968911337222 [id=\"4687392789662792897.args[0]\"]\n\t2903062968911337222 [label=\"Converter.convert\" id=2903062968911337222]\n\t2903062968911337222 -> 852842466831624100 [id=\"2903062968911337222.args[0]\"]\n\t4687392789662792897 -> -8841748531208643889 [id=\"4687392789662792897.args[1]\"]\n\t-8841748531208643889 [label=\"Abstraction.from_fn\" id=-8841748531208643889]\n\t-8841748531208643889 -> -1743313584654778961 [id=\"-8841748531208643889.args[0]\"]\n\t-1743313584654778961 [label=\"Either.right\" id=-1743313584654778961]\n\t6442402512975311716 -> -1550240104841062570 [id=\"-9214882002482918105.args[1]\"]\n\t-1550240104841062570 [label=\"Abstraction.create\" id=-1550240104841062570]\n\t-1550240104841062570 -> -3068421415838553853 [id=\"-1550240104841062570.args[0]\"]\n\t-3068421415838553853 [label=\"Abstraction.create_variable\" id=-3068421415838553853]\n\t-3068421415838553853 -> 1599161591337719634 [id=\"-3068421415838553853.args[0]\"]\n\t1599161591337719634 [label=\"Variable(4550346232)\" id=1599161591337719634]\n\t-1550240104841062570 -> 7593629375782685187 [id=\"-1550240104841062570.args[1]\"]\n\t7593629375782685187 [label=\"NDArray.__getitem__\" id=7593629375782685187]\n\t7593629375782685187 -> -4101857827642879953 [id=\"7593629375782685187.args[0]\"]\n\t-4101857827642879953 [label=\"Pair.left\" id=-4101857827642879953]\n\t-4101857827642879953 -> -3068421415838553853 [id=\"-4101857827642879953.args[0]\"]\n\t7593629375782685187 -> -2782682249672993803 [id=\"7593629375782685187.args[1]\"]\n\t-2782682249672993803 [label=\"Pair.right\" id=-2782682249672993803]\n\t-2782682249672993803 -> -3068421415838553853 [id=\"-2782682249672993803.args[0]\"]\n}",
         "label": null,
         "rule": "metadsl_core.abstraction.Abstraction.from_fn"
        },
        {
         "graph": "digraph {\n\tnode [shape=plain]\n\tedge [arrowsize=0.5 penwidth=0.5]\n\t7489614136666698405 [label=\"NDArrayCompat.to_ndarray\" id=4165022598424862665]\n\t7489614136666698405 -> -6197652143754114584 [id=\"4165022598424862665.args[0]\"]\n\t-6197652143754114584 [label=\"NDArrayCompat.from_ndarray\" id=-8054137683011941171]\n\t-6197652143754114584 -> 3910236736335774696 [id=\"-8054137683011941171.args[0]\"]\n\t3910236736335774696 [label=\"Maybe.map\" id=-9214882002482918105]\n\t3910236736335774696 -> 4514900087869106451 [id=\"-9214882002482918105.args[0]\"]\n\t4514900087869106451 [label=\"Maybe.__and__\" id=-4814678537500170364]\n\t4514900087869106451 -> -1156468161871471630 [id=\"-4814678537500170364.args[0]\"]\n\t-1156468161871471630 [label=\"Converter.convert\" id=7947258440880147023]\n\t-1156468161871471630 -> -3654042068687366610 [id=\"7947258440880147023.args[0]\"]\n\t-3654042068687366610 [label=\"NDArrayCompat.__add__\" id=-5558510579709572674]\n\t-3654042068687366610 -> 6583497480016573524 [id=\"-5558510579709572674.args[0]\"]\n\t6583497480016573524 [label=\"NDArrayCompat.from_ndarray\" id=971722316536660130]\n\t6583497480016573524 -> -4724715256758988081 [id=\"971722316536660130.args[0]\"]\n\t-4724715256758988081 [label=\"Maybe.map\" id=5848963126652067044]\n\t-4724715256758988081 -> -5463825541328231257 [id=\"5848963126652067044.args[0]\"]\n\t-5463825541328231257 [label=\"Maybe.just\" id=-5463825541328231257]\n\t-5463825541328231257 -> -6362610179852757995 [id=\"-5463825541328231257.args[0]\"]\n\t-6362610179852757995 [label=\"Integer.from_int\" id=-6362610179852757995]\n\t-6362610179852757995 -> 852842466726619175 [id=\"-6362610179852757995.args[0]\"]\n\t852842466726619175 [label=100 id=852842466726619175]\n\t-4724715256758988081 -> -8550721238847586890 [id=\"5848963126652067044.args[1]\"]\n\t-8550721238847586890 [label=\"Abstraction.from_fn\" id=-8550721238847586890]\n\t-8550721238847586890 -> 5765685988797773240 [id=\"-8550721238847586890.args[0]\"]\n\t5765685988797773240 [label=arange_ id=5765685988797773240]\n\t-3654042068687366610 -> 6583497480016573524 [id=\"-5558510579709572674.args[1]\"]\n\t4514900087869106451 -> 7981845083225442043 [id=\"-4814678537500170364.args[1]\"]\n\t7981845083225442043 [label=\"Maybe.__or__\" id=7981845083225442043]\n\t7981845083225442043 -> -7124340782382811070 [id=\"7981845083225442043.args[0]\"]\n\t-7124340782382811070 [label=\"Maybe.map\" id=-7124340782382811070]\n\t-7124340782382811070 -> -1010262108927125773 [id=\"-7124340782382811070.args[0]\"]\n\t-1010262108927125773 [label=\"Maybe.just\" id=-1010262108927125773]\n\t-1010262108927125773 -> -7334224414564589854 [id=\"-1010262108927125773.args[0]\"]\n\t-7334224414564589854 [label=\"Integer.from_int\" id=-7334224414564589854]\n\t-7334224414564589854 -> 852842466831624100 [id=\"-7334224414564589854.args[0]\"]\n\t852842466831624100 [label=5 id=852842466831624100]\n\t-7124340782382811070 -> -1467930441750646094 [id=\"-7124340782382811070.args[1]\"]\n\t-1467930441750646094 [label=\"Abstraction.create\" id=-1467930441750646094]\n\t-1467930441750646094 -> 4436707967317074207 [id=\"-1467930441750646094.args[0]\"]\n\t4436707967317074207 [label=\"Abstraction.create_variable\" id=4436707967317074207]\n\t4436707967317074207 -> -7624210414075117549 [id=\"4436707967317074207.args[0]\"]\n\t-7624210414075117549 [label=\"Variable(4549890624)\" id=-7624210414075117549]\n\t-1467930441750646094 -> 3571471722856851369 [id=\"-1467930441750646094.args[1]\"]\n\t3571471722856851369 [label=\"Either.left\" id=3571471722856851369]\n\t3571471722856851369 -> 4436707967317074207 [id=\"3571471722856851369.args[0]\"]\n\t7981845083225442043 -> 666638544606779544 [id=\"7981845083225442043.args[1]\"]\n\t666638544606779544 [label=\"Maybe.map\" id=666638544606779544]\n\t666638544606779544 -> 2903062968911337222 [id=\"666638544606779544.args[0]\"]\n\t2903062968911337222 [label=\"Converter.convert\" id=2903062968911337222]\n\t2903062968911337222 -> 852842466831624100 [id=\"2903062968911337222.args[0]\"]\n\t666638544606779544 -> 4322861320834922954 [id=\"666638544606779544.args[1]\"]\n\t4322861320834922954 [label=\"Abstraction.create\" id=4322861320834922954]\n\t4322861320834922954 -> 6542042015958554903 [id=\"4322861320834922954.args[0]\"]\n\t6542042015958554903 [label=\"Abstraction.create_variable\" id=6542042015958554903]\n\t6542042015958554903 -> -7624210437928555924 [id=\"6542042015958554903.args[0]\"]\n\t-7624210437928555924 [label=\"Variable(4550472592)\" id=-7624210437928555924]\n\t4322861320834922954 -> -6232607634837806632 [id=\"4322861320834922954.args[1]\"]\n\t-6232607634837806632 [label=\"Either.right\" id=-6232607634837806632]\n\t-6232607634837806632 -> 6542042015958554903 [id=\"-6232607634837806632.args[0]\"]\n\t3910236736335774696 -> -1550240104841062570 [id=\"-9214882002482918105.args[1]\"]\n\t-1550240104841062570 [label=\"Abstraction.create\" id=-1550240104841062570]\n\t-1550240104841062570 -> -3068421415838553853 [id=\"-1550240104841062570.args[0]\"]\n\t-3068421415838553853 [label=\"Abstraction.create_variable\" id=-3068421415838553853]\n\t-3068421415838553853 -> 1599161591337719634 [id=\"-3068421415838553853.args[0]\"]\n\t1599161591337719634 [label=\"Variable(4550346232)\" id=1599161591337719634]\n\t-1550240104841062570 -> 7593629375782685187 [id=\"-1550240104841062570.args[1]\"]\n\t7593629375782685187 [label=\"NDArray.__getitem__\" id=7593629375782685187]\n\t7593629375782685187 -> -4101857827642879953 [id=\"7593629375782685187.args[0]\"]\n\t-4101857827642879953 [label=\"Pair.left\" id=-4101857827642879953]\n\t-4101857827642879953 -> -3068421415838553853 [id=\"-4101857827642879953.args[0]\"]\n\t7593629375782685187 -> -2782682249672993803 [id=\"7593629375782685187.args[1]\"]\n\t-2782682249672993803 [label=\"Pair.right\" id=-2782682249672993803]\n\t-2782682249672993803 -> -3068421415838553853 [id=\"-2782682249672993803.args[0]\"]\n}",
         "label": null,
         "rule": "metadsl_core.abstraction.Abstraction.from_fn"
        },
        {
         "graph": "digraph {\n\tnode [shape=plain]\n\tedge [arrowsize=0.5 penwidth=0.5]\n\t5690179165623969280 [label=\"NDArrayCompat.to_ndarray\" id=4165022598424862665]\n\t5690179165623969280 -> 1782797733794455311 [id=\"4165022598424862665.args[0]\"]\n\t1782797733794455311 [label=\"NDArrayCompat.from_ndarray\" id=-8054137683011941171]\n\t1782797733794455311 -> -7850876655565565755 [id=\"-8054137683011941171.args[0]\"]\n\t-7850876655565565755 [label=\"Maybe.map\" id=-9214882002482918105]\n\t-7850876655565565755 -> -2256523982435669739 [id=\"-9214882002482918105.args[0]\"]\n\t-2256523982435669739 [label=\"Maybe.__and__\" id=-2256523982435669739]\n\t-2256523982435669739 -> -4906189995990238770 [id=\"-2256523982435669739.args[0]\"]\n\t-4906189995990238770 [label=\"Converter.convert\" id=-4906189995990238770]\n\t-4906189995990238770 -> -7098754822566143812 [id=\"-4906189995990238770.args[0]\"]\n\t-7098754822566143812 [label=\"NDArrayCompat.__add__\" id=-7098754822566143812]\n\t-7098754822566143812 -> 6309009682264249851 [id=\"-7098754822566143812.args[0]\"]\n\t6309009682264249851 [label=\"NDArrayCompat.from_ndarray\" id=6309009682264249851]\n\t6309009682264249851 -> -5254370847906375128 [id=\"6309009682264249851.args[0]\"]\n\t-5254370847906375128 [label=\"Maybe.map\" id=-5254370847906375128]\n\t-5254370847906375128 -> -5463825541328231257 [id=\"-5254370847906375128.args[0]\"]\n\t-5463825541328231257 [label=\"Maybe.just\" id=-5463825541328231257]\n\t-5463825541328231257 -> -6362610179852757995 [id=\"-5463825541328231257.args[0]\"]\n\t-6362610179852757995 [label=\"Integer.from_int\" id=-6362610179852757995]\n\t-6362610179852757995 -> 852842466726619175 [id=\"-6362610179852757995.args[0]\"]\n\t852842466726619175 [label=100 id=852842466726619175]\n\t-5254370847906375128 -> 786997342016145894 [id=\"-5254370847906375128.args[1]\"]\n\t786997342016145894 [label=\"Abstraction.create\" id=786997342016145894]\n\t786997342016145894 -> 6473606452442739172 [id=\"786997342016145894.args[0]\"]\n\t6473606452442739172 [label=\"Abstraction.create_variable\" id=6473606452442739172]\n\t6473606452442739172 -> 1599161586953493384 [id=\"6473606452442739172.args[0]\"]\n\t1599161586953493384 [label=\"Variable(4550411992)\" id=1599161586953493384]\n\t786997342016145894 -> -2616682736920326438 [id=\"786997342016145894.args[1]\"]\n\t-2616682736920326438 [label=arange_ id=-2616682736920326438]\n\t-2616682736920326438 -> 6473606452442739172 [id=\"-2616682736920326438.args[0]\"]\n\t-7098754822566143812 -> 6309009682264249851 [id=\"-7098754822566143812.args[1]\"]\n\t-2256523982435669739 -> 7981845083225442043 [id=\"-2256523982435669739.args[1]\"]\n\t7981845083225442043 [label=\"Maybe.__or__\" id=7981845083225442043]\n\t7981845083225442043 -> -7124340782382811070 [id=\"7981845083225442043.args[0]\"]\n\t-7124340782382811070 [label=\"Maybe.map\" id=-7124340782382811070]\n\t-7124340782382811070 -> -1010262108927125773 [id=\"-7124340782382811070.args[0]\"]\n\t-1010262108927125773 [label=\"Maybe.just\" id=-1010262108927125773]\n\t-1010262108927125773 -> -7334224414564589854 [id=\"-1010262108927125773.args[0]\"]\n\t-7334224414564589854 [label=\"Integer.from_int\" id=-7334224414564589854]\n\t-7334224414564589854 -> 852842466831624100 [id=\"-7334224414564589854.args[0]\"]\n\t852842466831624100 [label=5 id=852842466831624100]\n\t-7124340782382811070 -> -1467930441750646094 [id=\"-7124340782382811070.args[1]\"]\n\t-1467930441750646094 [label=\"Abstraction.create\" id=-1467930441750646094]\n\t-1467930441750646094 -> 4436707967317074207 [id=\"-1467930441750646094.args[0]\"]\n\t4436707967317074207 [label=\"Abstraction.create_variable\" id=4436707967317074207]\n\t4436707967317074207 -> -7624210414075117549 [id=\"4436707967317074207.args[0]\"]\n\t-7624210414075117549 [label=\"Variable(4549890624)\" id=-7624210414075117549]\n\t-1467930441750646094 -> 3571471722856851369 [id=\"-1467930441750646094.args[1]\"]\n\t3571471722856851369 [label=\"Either.left\" id=3571471722856851369]\n\t3571471722856851369 -> 4436707967317074207 [id=\"3571471722856851369.args[0]\"]\n\t7981845083225442043 -> 666638544606779544 [id=\"7981845083225442043.args[1]\"]\n\t666638544606779544 [label=\"Maybe.map\" id=666638544606779544]\n\t666638544606779544 -> 2903062968911337222 [id=\"666638544606779544.args[0]\"]\n\t2903062968911337222 [label=\"Converter.convert\" id=2903062968911337222]\n\t2903062968911337222 -> 852842466831624100 [id=\"2903062968911337222.args[0]\"]\n\t666638544606779544 -> 4322861320834922954 [id=\"666638544606779544.args[1]\"]\n\t4322861320834922954 [label=\"Abstraction.create\" id=4322861320834922954]\n\t4322861320834922954 -> 6542042015958554903 [id=\"4322861320834922954.args[0]\"]\n\t6542042015958554903 [label=\"Abstraction.create_variable\" id=6542042015958554903]\n\t6542042015958554903 -> -7624210437928555924 [id=\"6542042015958554903.args[0]\"]\n\t-7624210437928555924 [label=\"Variable(4550472592)\" id=-7624210437928555924]\n\t4322861320834922954 -> -6232607634837806632 [id=\"4322861320834922954.args[1]\"]\n\t-6232607634837806632 [label=\"Either.right\" id=-6232607634837806632]\n\t-6232607634837806632 -> 6542042015958554903 [id=\"-6232607634837806632.args[0]\"]\n\t-7850876655565565755 -> -1550240104841062570 [id=\"-9214882002482918105.args[1]\"]\n\t-1550240104841062570 [label=\"Abstraction.create\" id=-1550240104841062570]\n\t-1550240104841062570 -> -3068421415838553853 [id=\"-1550240104841062570.args[0]\"]\n\t-3068421415838553853 [label=\"Abstraction.create_variable\" id=-3068421415838553853]\n\t-3068421415838553853 -> 1599161591337719634 [id=\"-3068421415838553853.args[0]\"]\n\t1599161591337719634 [label=\"Variable(4550346232)\" id=1599161591337719634]\n\t-1550240104841062570 -> 7593629375782685187 [id=\"-1550240104841062570.args[1]\"]\n\t7593629375782685187 [label=\"NDArray.__getitem__\" id=7593629375782685187]\n\t7593629375782685187 -> -4101857827642879953 [id=\"7593629375782685187.args[0]\"]\n\t-4101857827642879953 [label=\"Pair.left\" id=-4101857827642879953]\n\t-4101857827642879953 -> -3068421415838553853 [id=\"-4101857827642879953.args[0]\"]\n\t7593629375782685187 -> -2782682249672993803 [id=\"7593629375782685187.args[1]\"]\n\t-2782682249672993803 [label=\"Pair.right\" id=-2782682249672993803]\n\t-2782682249672993803 -> -3068421415838553853 [id=\"-2782682249672993803.args[0]\"]\n}",
         "label": null,
         "rule": "metadsl_core.abstraction.Abstraction.from_fn"
        },
        {
         "graph": "digraph {\n\tnode [shape=plain]\n\tedge [arrowsize=0.5 penwidth=0.5]\n\t-8672196667771993085 [label=\"NDArrayCompat.to_ndarray\" id=4165022598424862665]\n\t-8672196667771993085 -> -6036359789098202694 [id=\"4165022598424862665.args[0]\"]\n\t-6036359789098202694 [label=\"NDArrayCompat.from_ndarray\" id=-8054137683011941171]\n\t-6036359789098202694 -> 871004212713699555 [id=\"-8054137683011941171.args[0]\"]\n\t871004212713699555 [label=\"Maybe.match\" id=-9214882002482918105]\n\t871004212713699555 -> -2256523982435669739 [id=\"-9214882002482918105.args[0]\"]\n\t-2256523982435669739 [label=\"Maybe.__and__\" id=-2256523982435669739]\n\t-2256523982435669739 -> -4906189995990238770 [id=\"-2256523982435669739.args[0]\"]\n\t-4906189995990238770 [label=\"Converter.convert\" id=-4906189995990238770]\n\t-4906189995990238770 -> -7098754822566143812 [id=\"-4906189995990238770.args[0]\"]\n\t-7098754822566143812 [label=\"NDArrayCompat.__add__\" id=-7098754822566143812]\n\t-7098754822566143812 -> 6309009682264249851 [id=\"-7098754822566143812.args[0]\"]\n\t6309009682264249851 [label=\"NDArrayCompat.from_ndarray\" id=6309009682264249851]\n\t6309009682264249851 -> -5254370847906375128 [id=\"6309009682264249851.args[0]\"]\n\t-5254370847906375128 [label=\"Maybe.map\" id=-5254370847906375128]\n\t-5254370847906375128 -> -5463825541328231257 [id=\"-5254370847906375128.args[0]\"]\n\t-5463825541328231257 [label=\"Maybe.just\" id=-5463825541328231257]\n\t-5463825541328231257 -> -6362610179852757995 [id=\"-5463825541328231257.args[0]\"]\n\t-6362610179852757995 [label=\"Integer.from_int\" id=-6362610179852757995]\n\t-6362610179852757995 -> 852842466726619175 [id=\"-6362610179852757995.args[0]\"]\n\t852842466726619175 [label=100 id=852842466726619175]\n\t-5254370847906375128 -> 786997342016145894 [id=\"-5254370847906375128.args[1]\"]\n\t786997342016145894 [label=\"Abstraction.create\" id=786997342016145894]\n\t786997342016145894 -> 6473606452442739172 [id=\"786997342016145894.args[0]\"]\n\t6473606452442739172 [label=\"Abstraction.create_variable\" id=6473606452442739172]\n\t6473606452442739172 -> 1599161586953493384 [id=\"6473606452442739172.args[0]\"]\n\t1599161586953493384 [label=\"Variable(4550411992)\" id=1599161586953493384]\n\t786997342016145894 -> -2616682736920326438 [id=\"786997342016145894.args[1]\"]\n\t-2616682736920326438 [label=arange_ id=-2616682736920326438]\n\t-2616682736920326438 -> 6473606452442739172 [id=\"-2616682736920326438.args[0]\"]\n\t-7098754822566143812 -> 6309009682264249851 [id=\"-7098754822566143812.args[1]\"]\n\t-2256523982435669739 -> 7981845083225442043 [id=\"-2256523982435669739.args[1]\"]\n\t7981845083225442043 [label=\"Maybe.__or__\" id=7981845083225442043]\n\t7981845083225442043 -> -7124340782382811070 [id=\"7981845083225442043.args[0]\"]\n\t-7124340782382811070 [label=\"Maybe.map\" id=-7124340782382811070]\n\t-7124340782382811070 -> -1010262108927125773 [id=\"-7124340782382811070.args[0]\"]\n\t-1010262108927125773 [label=\"Maybe.just\" id=-1010262108927125773]\n\t-1010262108927125773 -> -7334224414564589854 [id=\"-1010262108927125773.args[0]\"]\n\t-7334224414564589854 [label=\"Integer.from_int\" id=-7334224414564589854]\n\t-7334224414564589854 -> 852842466831624100 [id=\"-7334224414564589854.args[0]\"]\n\t852842466831624100 [label=5 id=852842466831624100]\n\t-7124340782382811070 -> -1467930441750646094 [id=\"-7124340782382811070.args[1]\"]\n\t-1467930441750646094 [label=\"Abstraction.create\" id=-1467930441750646094]\n\t-1467930441750646094 -> 4436707967317074207 [id=\"-1467930441750646094.args[0]\"]\n\t4436707967317074207 [label=\"Abstraction.create_variable\" id=4436707967317074207]\n\t4436707967317074207 -> -7624210414075117549 [id=\"4436707967317074207.args[0]\"]\n\t-7624210414075117549 [label=\"Variable(4549890624)\" id=-7624210414075117549]\n\t-1467930441750646094 -> 3571471722856851369 [id=\"-1467930441750646094.args[1]\"]\n\t3571471722856851369 [label=\"Either.left\" id=3571471722856851369]\n\t3571471722856851369 -> 4436707967317074207 [id=\"3571471722856851369.args[0]\"]\n\t7981845083225442043 -> 666638544606779544 [id=\"7981845083225442043.args[1]\"]\n\t666638544606779544 [label=\"Maybe.map\" id=666638544606779544]\n\t666638544606779544 -> 2903062968911337222 [id=\"666638544606779544.args[0]\"]\n\t2903062968911337222 [label=\"Converter.convert\" id=2903062968911337222]\n\t2903062968911337222 -> 852842466831624100 [id=\"2903062968911337222.args[0]\"]\n\t666638544606779544 -> 4322861320834922954 [id=\"666638544606779544.args[1]\"]\n\t4322861320834922954 [label=\"Abstraction.create\" id=4322861320834922954]\n\t4322861320834922954 -> 6542042015958554903 [id=\"4322861320834922954.args[0]\"]\n\t6542042015958554903 [label=\"Abstraction.create_variable\" id=6542042015958554903]\n\t6542042015958554903 -> -7624210437928555924 [id=\"6542042015958554903.args[0]\"]\n\t-7624210437928555924 [label=\"Variable(4550472592)\" id=-7624210437928555924]\n\t4322861320834922954 -> -6232607634837806632 [id=\"4322861320834922954.args[1]\"]\n\t-6232607634837806632 [label=\"Either.right\" id=-6232607634837806632]\n\t-6232607634837806632 -> 6542042015958554903 [id=\"-6232607634837806632.args[0]\"]\n\t871004212713699555 -> -1741944831158160669 [id=\"-9214882002482918105.args[1]\"]\n\t-1741944831158160669 [label=\"Maybe.nothing\" id=-1741944831158160669]\n\t871004212713699555 -> -7419500629896554251 [id=\"-9214882002482918105.args[2]\"]\n\t-7419500629896554251 [label=\"Abstraction.__add__\" id=-7419500629896554251]\n\t-7419500629896554251 -> -3689034126165086493 [id=\"-7419500629896554251.args[0]\"]\n\t-3689034126165086493 [label=\"Abstraction.from_fn\" id=-3689034126165086493]\n\t-3689034126165086493 -> -562755898029559237 [id=\"-3689034126165086493.args[0]\"]\n\t-562755898029559237 [label=\"Maybe.just\" id=-562755898029559237]\n\t-7419500629896554251 -> -1550240104841062570 [id=\"-7419500629896554251.args[1]\"]\n\t-1550240104841062570 [label=\"Abstraction.create\" id=-1550240104841062570]\n\t-1550240104841062570 -> -3068421415838553853 [id=\"-1550240104841062570.args[0]\"]\n\t-3068421415838553853 [label=\"Abstraction.create_variable\" id=-3068421415838553853]\n\t-3068421415838553853 -> 1599161591337719634 [id=\"-3068421415838553853.args[0]\"]\n\t1599161591337719634 [label=\"Variable(4550346232)\" id=1599161591337719634]\n\t-1550240104841062570 -> 7593629375782685187 [id=\"-1550240104841062570.args[1]\"]\n\t7593629375782685187 [label=\"NDArray.__getitem__\" id=7593629375782685187]\n\t7593629375782685187 -> -4101857827642879953 [id=\"7593629375782685187.args[0]\"]\n\t-4101857827642879953 [label=\"Pair.left\" id=-4101857827642879953]\n\t-4101857827642879953 -> -3068421415838553853 [id=\"-4101857827642879953.args[0]\"]\n\t7593629375782685187 -> -2782682249672993803 [id=\"7593629375782685187.args[1]\"]\n\t-2782682249672993803 [label=\"Pair.right\" id=-2782682249672993803]\n\t-2782682249672993803 -> -3068421415838553853 [id=\"-2782682249672993803.args[0]\"]\n}",
         "label": null,
         "rule": "metadsl_core.maybe.Maybe.map"
        },
        {
         "graph": "digraph {\n\tnode [shape=plain]\n\tedge [arrowsize=0.5 penwidth=0.5]\n\t6625563432105728785 [label=\"NDArrayCompat.to_ndarray\" id=4165022598424862665]\n\t6625563432105728785 -> -4870123060833598460 [id=\"4165022598424862665.args[0]\"]\n\t-4870123060833598460 [label=\"NDArrayCompat.from_ndarray\" id=-8054137683011941171]\n\t-4870123060833598460 -> 2405391047222319132 [id=\"-8054137683011941171.args[0]\"]\n\t2405391047222319132 [label=\"Maybe.match\" id=-9214882002482918105]\n\t2405391047222319132 -> 1275569033808896220 [id=\"-9214882002482918105.args[0]\"]\n\t1275569033808896220 [label=\"Maybe.__and__\" id=-2256523982435669739]\n\t1275569033808896220 -> -4906189995990238770 [id=\"-2256523982435669739.args[0]\"]\n\t-4906189995990238770 [label=\"Converter.convert\" id=-4906189995990238770]\n\t-4906189995990238770 -> -7098754822566143812 [id=\"-4906189995990238770.args[0]\"]\n\t-7098754822566143812 [label=\"NDArrayCompat.__add__\" id=-7098754822566143812]\n\t-7098754822566143812 -> 6309009682264249851 [id=\"-7098754822566143812.args[0]\"]\n\t6309009682264249851 [label=\"NDArrayCompat.from_ndarray\" id=6309009682264249851]\n\t6309009682264249851 -> -5254370847906375128 [id=\"6309009682264249851.args[0]\"]\n\t-5254370847906375128 [label=\"Maybe.map\" id=-5254370847906375128]\n\t-5254370847906375128 -> -5463825541328231257 [id=\"-5254370847906375128.args[0]\"]\n\t-5463825541328231257 [label=\"Maybe.just\" id=-5463825541328231257]\n\t-5463825541328231257 -> -6362610179852757995 [id=\"-5463825541328231257.args[0]\"]\n\t-6362610179852757995 [label=\"Integer.from_int\" id=-6362610179852757995]\n\t-6362610179852757995 -> 852842466726619175 [id=\"-6362610179852757995.args[0]\"]\n\t852842466726619175 [label=100 id=852842466726619175]\n\t-5254370847906375128 -> 786997342016145894 [id=\"-5254370847906375128.args[1]\"]\n\t786997342016145894 [label=\"Abstraction.create\" id=786997342016145894]\n\t786997342016145894 -> 6473606452442739172 [id=\"786997342016145894.args[0]\"]\n\t6473606452442739172 [label=\"Abstraction.create_variable\" id=6473606452442739172]\n\t6473606452442739172 -> 1599161586953493384 [id=\"6473606452442739172.args[0]\"]\n\t1599161586953493384 [label=\"Variable(4550411992)\" id=1599161586953493384]\n\t786997342016145894 -> -2616682736920326438 [id=\"786997342016145894.args[1]\"]\n\t-2616682736920326438 [label=arange_ id=-2616682736920326438]\n\t-2616682736920326438 -> 6473606452442739172 [id=\"-2616682736920326438.args[0]\"]\n\t-7098754822566143812 -> 6309009682264249851 [id=\"-7098754822566143812.args[1]\"]\n\t1275569033808896220 -> -2819577080870095790 [id=\"-2256523982435669739.args[1]\"]\n\t-2819577080870095790 [label=\"Maybe.__or__\" id=7981845083225442043]\n\t-2819577080870095790 -> 7819625667726201475 [id=\"7981845083225442043.args[0]\"]\n\t7819625667726201475 [label=\"Maybe.match\" id=-7124340782382811070]\n\t7819625667726201475 -> -1010262108927125773 [id=\"-7124340782382811070.args[0]\"]\n\t-1010262108927125773 [label=\"Maybe.just\" id=-1010262108927125773]\n\t-1010262108927125773 -> -7334224414564589854 [id=\"-1010262108927125773.args[0]\"]\n\t-7334224414564589854 [label=\"Integer.from_int\" id=-7334224414564589854]\n\t-7334224414564589854 -> 852842466831624100 [id=\"-7334224414564589854.args[0]\"]\n\t852842466831624100 [label=5 id=852842466831624100]\n\t7819625667726201475 -> -3052203273464861294 [id=\"-7124340782382811070.args[1]\"]\n\t-3052203273464861294 [label=\"Maybe.nothing\" id=-3052203273464861294]\n\t7819625667726201475 -> 2864275428688390516 [id=\"-7124340782382811070.args[2]\"]\n\t2864275428688390516 [label=\"Abstraction.__add__\" id=2864275428688390516]\n\t2864275428688390516 -> -7507020889469263454 [id=\"2864275428688390516.args[0]\"]\n\t-7507020889469263454 [label=\"Abstraction.from_fn\" id=-7507020889469263454]\n\t-7507020889469263454 -> -2266514298468117634 [id=\"-7507020889469263454.args[0]\"]\n\t-2266514298468117634 [label=\"Maybe.just\" id=-2266514298468117634]\n\t2864275428688390516 -> -1467930441750646094 [id=\"2864275428688390516.args[1]\"]\n\t-1467930441750646094 [label=\"Abstraction.create\" id=-1467930441750646094]\n\t-1467930441750646094 -> 4436707967317074207 [id=\"-1467930441750646094.args[0]\"]\n\t4436707967317074207 [label=\"Abstraction.create_variable\" id=4436707967317074207]\n\t4436707967317074207 -> -7624210414075117549 [id=\"4436707967317074207.args[0]\"]\n\t-7624210414075117549 [label=\"Variable(4549890624)\" id=-7624210414075117549]\n\t-1467930441750646094 -> 3571471722856851369 [id=\"-1467930441750646094.args[1]\"]\n\t3571471722856851369 [label=\"Either.left\" id=3571471722856851369]\n\t3571471722856851369 -> 4436707967317074207 [id=\"3571471722856851369.args[0]\"]\n\t-2819577080870095790 -> 666638544606779544 [id=\"7981845083225442043.args[1]\"]\n\t666638544606779544 [label=\"Maybe.map\" id=666638544606779544]\n\t666638544606779544 -> 2903062968911337222 [id=\"666638544606779544.args[0]\"]\n\t2903062968911337222 [label=\"Converter.convert\" id=2903062968911337222]\n\t2903062968911337222 -> 852842466831624100 [id=\"2903062968911337222.args[0]\"]\n\t666638544606779544 -> 4322861320834922954 [id=\"666638544606779544.args[1]\"]\n\t4322861320834922954 [label=\"Abstraction.create\" id=4322861320834922954]\n\t4322861320834922954 -> 6542042015958554903 [id=\"4322861320834922954.args[0]\"]\n\t6542042015958554903 [label=\"Abstraction.create_variable\" id=6542042015958554903]\n\t6542042015958554903 -> -7624210437928555924 [id=\"6542042015958554903.args[0]\"]\n\t-7624210437928555924 [label=\"Variable(4550472592)\" id=-7624210437928555924]\n\t4322861320834922954 -> -6232607634837806632 [id=\"4322861320834922954.args[1]\"]\n\t-6232607634837806632 [label=\"Either.right\" id=-6232607634837806632]\n\t-6232607634837806632 -> 6542042015958554903 [id=\"-6232607634837806632.args[0]\"]\n\t2405391047222319132 -> -1741944831158160669 [id=\"-9214882002482918105.args[1]\"]\n\t-1741944831158160669 [label=\"Maybe.nothing\" id=-1741944831158160669]\n\t2405391047222319132 -> -7419500629896554251 [id=\"-9214882002482918105.args[2]\"]\n\t-7419500629896554251 [label=\"Abstraction.__add__\" id=-7419500629896554251]\n\t-7419500629896554251 -> -3689034126165086493 [id=\"-7419500629896554251.args[0]\"]\n\t-3689034126165086493 [label=\"Abstraction.from_fn\" id=-3689034126165086493]\n\t-3689034126165086493 -> -562755898029559237 [id=\"-3689034126165086493.args[0]\"]\n\t-562755898029559237 [label=\"Maybe.just\" id=-562755898029559237]\n\t-7419500629896554251 -> -1550240104841062570 [id=\"-7419500629896554251.args[1]\"]\n\t-1550240104841062570 [label=\"Abstraction.create\" id=-1550240104841062570]\n\t-1550240104841062570 -> -3068421415838553853 [id=\"-1550240104841062570.args[0]\"]\n\t-3068421415838553853 [label=\"Abstraction.create_variable\" id=-3068421415838553853]\n\t-3068421415838553853 -> 1599161591337719634 [id=\"-3068421415838553853.args[0]\"]\n\t1599161591337719634 [label=\"Variable(4550346232)\" id=1599161591337719634]\n\t-1550240104841062570 -> 7593629375782685187 [id=\"-1550240104841062570.args[1]\"]\n\t7593629375782685187 [label=\"NDArray.__getitem__\" id=7593629375782685187]\n\t7593629375782685187 -> -4101857827642879953 [id=\"7593629375782685187.args[0]\"]\n\t-4101857827642879953 [label=\"Pair.left\" id=-4101857827642879953]\n\t-4101857827642879953 -> -3068421415838553853 [id=\"-4101857827642879953.args[0]\"]\n\t7593629375782685187 -> -2782682249672993803 [id=\"7593629375782685187.args[1]\"]\n\t-2782682249672993803 [label=\"Pair.right\" id=-2782682249672993803]\n\t-2782682249672993803 -> -3068421415838553853 [id=\"-2782682249672993803.args[0]\"]\n}",
         "label": null,
         "rule": "metadsl_core.maybe.Maybe.map"
        },
        {
         "graph": "digraph {\n\tnode [shape=plain]\n\tedge [arrowsize=0.5 penwidth=0.5]\n\t-2950478782509142151 [label=\"NDArrayCompat.to_ndarray\" id=4165022598424862665]\n\t-2950478782509142151 -> 2235556238537552186 [id=\"4165022598424862665.args[0]\"]\n\t2235556238537552186 [label=\"NDArrayCompat.from_ndarray\" id=-8054137683011941171]\n\t2235556238537552186 -> -2020680039428041117 [id=\"-8054137683011941171.args[0]\"]\n\t-2020680039428041117 [label=\"Maybe.match\" id=-9214882002482918105]\n\t-2020680039428041117 -> 1055037431482305173 [id=\"-9214882002482918105.args[0]\"]\n\t1055037431482305173 [label=\"Maybe.__and__\" id=-2256523982435669739]\n\t1055037431482305173 -> -4906189995990238770 [id=\"-2256523982435669739.args[0]\"]\n\t-4906189995990238770 [label=\"Converter.convert\" id=-4906189995990238770]\n\t-4906189995990238770 -> -7098754822566143812 [id=\"-4906189995990238770.args[0]\"]\n\t-7098754822566143812 [label=\"NDArrayCompat.__add__\" id=-7098754822566143812]\n\t-7098754822566143812 -> 6309009682264249851 [id=\"-7098754822566143812.args[0]\"]\n\t6309009682264249851 [label=\"NDArrayCompat.from_ndarray\" id=6309009682264249851]\n\t6309009682264249851 -> -5254370847906375128 [id=\"6309009682264249851.args[0]\"]\n\t-5254370847906375128 [label=\"Maybe.map\" id=-5254370847906375128]\n\t-5254370847906375128 -> -5463825541328231257 [id=\"-5254370847906375128.args[0]\"]\n\t-5463825541328231257 [label=\"Maybe.just\" id=-5463825541328231257]\n\t-5463825541328231257 -> -6362610179852757995 [id=\"-5463825541328231257.args[0]\"]\n\t-6362610179852757995 [label=\"Integer.from_int\" id=-6362610179852757995]\n\t-6362610179852757995 -> 852842466726619175 [id=\"-6362610179852757995.args[0]\"]\n\t852842466726619175 [label=100 id=852842466726619175]\n\t-5254370847906375128 -> 786997342016145894 [id=\"-5254370847906375128.args[1]\"]\n\t786997342016145894 [label=\"Abstraction.create\" id=786997342016145894]\n\t786997342016145894 -> 6473606452442739172 [id=\"786997342016145894.args[0]\"]\n\t6473606452442739172 [label=\"Abstraction.create_variable\" id=6473606452442739172]\n\t6473606452442739172 -> 1599161586953493384 [id=\"6473606452442739172.args[0]\"]\n\t1599161586953493384 [label=\"Variable(4550411992)\" id=1599161586953493384]\n\t786997342016145894 -> -2616682736920326438 [id=\"786997342016145894.args[1]\"]\n\t-2616682736920326438 [label=arange_ id=-2616682736920326438]\n\t-2616682736920326438 -> 6473606452442739172 [id=\"-2616682736920326438.args[0]\"]\n\t-7098754822566143812 -> 6309009682264249851 [id=\"-7098754822566143812.args[1]\"]\n\t1055037431482305173 -> 1095522559647885182 [id=\"-2256523982435669739.args[1]\"]\n\t1095522559647885182 [label=\"Maybe.__or__\" id=7981845083225442043]\n\t1095522559647885182 -> 124756402025258394 [id=\"7981845083225442043.args[0]\"]\n\t124756402025258394 [label=\"Abstraction.__call__\" id=-7124340782382811070]\n\t124756402025258394 -> 2864275428688390516 [id=\"-7124340782382811070.args[0]\"]\n\t2864275428688390516 [label=\"Abstraction.__add__\" id=2864275428688390516]\n\t2864275428688390516 -> -7507020889469263454 [id=\"2864275428688390516.args[0]\"]\n\t-7507020889469263454 [label=\"Abstraction.from_fn\" id=-7507020889469263454]\n\t-7507020889469263454 -> -2266514298468117634 [id=\"-7507020889469263454.args[0]\"]\n\t-2266514298468117634 [label=\"Maybe.just\" id=-2266514298468117634]\n\t2864275428688390516 -> -1467930441750646094 [id=\"2864275428688390516.args[1]\"]\n\t-1467930441750646094 [label=\"Abstraction.create\" id=-1467930441750646094]\n\t-1467930441750646094 -> 4436707967317074207 [id=\"-1467930441750646094.args[0]\"]\n\t4436707967317074207 [label=\"Abstraction.create_variable\" id=4436707967317074207]\n\t4436707967317074207 -> -7624210414075117549 [id=\"4436707967317074207.args[0]\"]\n\t-7624210414075117549 [label=\"Variable(4549890624)\" id=-7624210414075117549]\n\t-1467930441750646094 -> 3571471722856851369 [id=\"-1467930441750646094.args[1]\"]\n\t3571471722856851369 [label=\"Either.left\" id=3571471722856851369]\n\t3571471722856851369 -> 4436707967317074207 [id=\"3571471722856851369.args[0]\"]\n\t124756402025258394 -> -7334224414564589854 [id=\"-7124340782382811070.args[1]\"]\n\t-7334224414564589854 [label=\"Integer.from_int\" id=-7334224414564589854]\n\t-7334224414564589854 -> 852842466831624100 [id=\"-7334224414564589854.args[0]\"]\n\t852842466831624100 [label=5 id=852842466831624100]\n\t1095522559647885182 -> 666638544606779544 [id=\"7981845083225442043.args[1]\"]\n\t666638544606779544 [label=\"Maybe.map\" id=666638544606779544]\n\t666638544606779544 -> 2903062968911337222 [id=\"666638544606779544.args[0]\"]\n\t2903062968911337222 [label=\"Converter.convert\" id=2903062968911337222]\n\t2903062968911337222 -> 852842466831624100 [id=\"2903062968911337222.args[0]\"]\n\t666638544606779544 -> 4322861320834922954 [id=\"666638544606779544.args[1]\"]\n\t4322861320834922954 [label=\"Abstraction.create\" id=4322861320834922954]\n\t4322861320834922954 -> 6542042015958554903 [id=\"4322861320834922954.args[0]\"]\n\t6542042015958554903 [label=\"Abstraction.create_variable\" id=6542042015958554903]\n\t6542042015958554903 -> -7624210437928555924 [id=\"6542042015958554903.args[0]\"]\n\t-7624210437928555924 [label=\"Variable(4550472592)\" id=-7624210437928555924]\n\t4322861320834922954 -> -6232607634837806632 [id=\"4322861320834922954.args[1]\"]\n\t-6232607634837806632 [label=\"Either.right\" id=-6232607634837806632]\n\t-6232607634837806632 -> 6542042015958554903 [id=\"-6232607634837806632.args[0]\"]\n\t-2020680039428041117 -> -1741944831158160669 [id=\"-9214882002482918105.args[1]\"]\n\t-1741944831158160669 [label=\"Maybe.nothing\" id=-1741944831158160669]\n\t-2020680039428041117 -> -7419500629896554251 [id=\"-9214882002482918105.args[2]\"]\n\t-7419500629896554251 [label=\"Abstraction.__add__\" id=-7419500629896554251]\n\t-7419500629896554251 -> -3689034126165086493 [id=\"-7419500629896554251.args[0]\"]\n\t-3689034126165086493 [label=\"Abstraction.from_fn\" id=-3689034126165086493]\n\t-3689034126165086493 -> -562755898029559237 [id=\"-3689034126165086493.args[0]\"]\n\t-562755898029559237 [label=\"Maybe.just\" id=-562755898029559237]\n\t-7419500629896554251 -> -1550240104841062570 [id=\"-7419500629896554251.args[1]\"]\n\t-1550240104841062570 [label=\"Abstraction.create\" id=-1550240104841062570]\n\t-1550240104841062570 -> -3068421415838553853 [id=\"-1550240104841062570.args[0]\"]\n\t-3068421415838553853 [label=\"Abstraction.create_variable\" id=-3068421415838553853]\n\t-3068421415838553853 -> 1599161591337719634 [id=\"-3068421415838553853.args[0]\"]\n\t1599161591337719634 [label=\"Variable(4550346232)\" id=1599161591337719634]\n\t-1550240104841062570 -> 7593629375782685187 [id=\"-1550240104841062570.args[1]\"]\n\t7593629375782685187 [label=\"NDArray.__getitem__\" id=7593629375782685187]\n\t7593629375782685187 -> -4101857827642879953 [id=\"7593629375782685187.args[0]\"]\n\t-4101857827642879953 [label=\"Pair.left\" id=-4101857827642879953]\n\t-4101857827642879953 -> -3068421415838553853 [id=\"-4101857827642879953.args[0]\"]\n\t7593629375782685187 -> -2782682249672993803 [id=\"7593629375782685187.args[1]\"]\n\t-2782682249672993803 [label=\"Pair.right\" id=-2782682249672993803]\n\t-2782682249672993803 -> -3068421415838553853 [id=\"-2782682249672993803.args[0]\"]\n}",
         "label": null,
         "rule": "metadsl_core.maybe.maybe_match"
        },
        {
         "graph": "digraph {\n\tnode [shape=plain]\n\tedge [arrowsize=0.5 penwidth=0.5]\n\t7707647898813964057 [label=\"NDArrayCompat.to_ndarray\" id=4165022598424862665]\n\t7707647898813964057 -> 3005298118816773913 [id=\"4165022598424862665.args[0]\"]\n\t3005298118816773913 [label=\"NDArrayCompat.from_ndarray\" id=-8054137683011941171]\n\t3005298118816773913 -> -3029427928634493427 [id=\"-8054137683011941171.args[0]\"]\n\t-3029427928634493427 [label=\"Maybe.match\" id=-9214882002482918105]\n\t-3029427928634493427 -> -8433167755193111826 [id=\"-9214882002482918105.args[0]\"]\n\t-8433167755193111826 [label=\"Maybe.__and__\" id=-2256523982435669739]\n\t-8433167755193111826 -> -4906189995990238770 [id=\"-2256523982435669739.args[0]\"]\n\t-4906189995990238770 [label=\"Converter.convert\" id=-4906189995990238770]\n\t-4906189995990238770 -> -7098754822566143812 [id=\"-4906189995990238770.args[0]\"]\n\t-7098754822566143812 [label=\"NDArrayCompat.__add__\" id=-7098754822566143812]\n\t-7098754822566143812 -> 6309009682264249851 [id=\"-7098754822566143812.args[0]\"]\n\t6309009682264249851 [label=\"NDArrayCompat.from_ndarray\" id=6309009682264249851]\n\t6309009682264249851 -> -5254370847906375128 [id=\"6309009682264249851.args[0]\"]\n\t-5254370847906375128 [label=\"Maybe.map\" id=-5254370847906375128]\n\t-5254370847906375128 -> -5463825541328231257 [id=\"-5254370847906375128.args[0]\"]\n\t-5463825541328231257 [label=\"Maybe.just\" id=-5463825541328231257]\n\t-5463825541328231257 -> -6362610179852757995 [id=\"-5463825541328231257.args[0]\"]\n\t-6362610179852757995 [label=\"Integer.from_int\" id=-6362610179852757995]\n\t-6362610179852757995 -> 852842466726619175 [id=\"-6362610179852757995.args[0]\"]\n\t852842466726619175 [label=100 id=852842466726619175]\n\t-5254370847906375128 -> 786997342016145894 [id=\"-5254370847906375128.args[1]\"]\n\t786997342016145894 [label=\"Abstraction.create\" id=786997342016145894]\n\t786997342016145894 -> 6473606452442739172 [id=\"786997342016145894.args[0]\"]\n\t6473606452442739172 [label=\"Abstraction.create_variable\" id=6473606452442739172]\n\t6473606452442739172 -> 1599161586953493384 [id=\"6473606452442739172.args[0]\"]\n\t1599161586953493384 [label=\"Variable(4550411992)\" id=1599161586953493384]\n\t786997342016145894 -> -2616682736920326438 [id=\"786997342016145894.args[1]\"]\n\t-2616682736920326438 [label=arange_ id=-2616682736920326438]\n\t-2616682736920326438 -> 6473606452442739172 [id=\"-2616682736920326438.args[0]\"]\n\t-7098754822566143812 -> 6309009682264249851 [id=\"-7098754822566143812.args[1]\"]\n\t-8433167755193111826 -> -4938600625655742771 [id=\"-2256523982435669739.args[1]\"]\n\t-4938600625655742771 [label=\"Maybe.__or__\" id=7981845083225442043]\n\t-4938600625655742771 -> 124756402025258394 [id=\"7981845083225442043.args[0]\"]\n\t124756402025258394 [label=\"Abstraction.__call__\" id=-7124340782382811070]\n\t124756402025258394 -> 2864275428688390516 [id=\"-7124340782382811070.args[0]\"]\n\t2864275428688390516 [label=\"Abstraction.__add__\" id=2864275428688390516]\n\t2864275428688390516 -> -7507020889469263454 [id=\"2864275428688390516.args[0]\"]\n\t-7507020889469263454 [label=\"Abstraction.from_fn\" id=-7507020889469263454]\n\t-7507020889469263454 -> -2266514298468117634 [id=\"-7507020889469263454.args[0]\"]\n\t-2266514298468117634 [label=\"Maybe.just\" id=-2266514298468117634]\n\t2864275428688390516 -> -1467930441750646094 [id=\"2864275428688390516.args[1]\"]\n\t-1467930441750646094 [label=\"Abstraction.create\" id=-1467930441750646094]\n\t-1467930441750646094 -> 4436707967317074207 [id=\"-1467930441750646094.args[0]\"]\n\t4436707967317074207 [label=\"Abstraction.create_variable\" id=4436707967317074207]\n\t4436707967317074207 -> -7624210414075117549 [id=\"4436707967317074207.args[0]\"]\n\t-7624210414075117549 [label=\"Variable(4549890624)\" id=-7624210414075117549]\n\t-1467930441750646094 -> 3571471722856851369 [id=\"-1467930441750646094.args[1]\"]\n\t3571471722856851369 [label=\"Either.left\" id=3571471722856851369]\n\t3571471722856851369 -> 4436707967317074207 [id=\"3571471722856851369.args[0]\"]\n\t124756402025258394 -> -7334224414564589854 [id=\"-7124340782382811070.args[1]\"]\n\t-7334224414564589854 [label=\"Integer.from_int\" id=-7334224414564589854]\n\t-7334224414564589854 -> 852842466831624100 [id=\"-7334224414564589854.args[0]\"]\n\t852842466831624100 [label=5 id=852842466831624100]\n\t-4938600625655742771 -> 4069223967822016012 [id=\"7981845083225442043.args[1]\"]\n\t4069223967822016012 [label=\"Maybe.match\" id=666638544606779544]\n\t4069223967822016012 -> 2903062968911337222 [id=\"666638544606779544.args[0]\"]\n\t2903062968911337222 [label=\"Converter.convert\" id=2903062968911337222]\n\t2903062968911337222 -> 852842466831624100 [id=\"2903062968911337222.args[0]\"]\n\t4069223967822016012 -> -3052203273464861294 [id=\"666638544606779544.args[1]\"]\n\t-3052203273464861294 [label=\"Maybe.nothing\" id=-3052203273464861294]\n\t4069223967822016012 -> 2150862437589425299 [id=\"666638544606779544.args[2]\"]\n\t2150862437589425299 [label=\"Abstraction.__add__\" id=2150862437589425299]\n\t2150862437589425299 -> -7507020889469263454 [id=\"2150862437589425299.args[0]\"]\n\t2150862437589425299 -> 4322861320834922954 [id=\"2150862437589425299.args[1]\"]\n\t4322861320834922954 [label=\"Abstraction.create\" id=4322861320834922954]\n\t4322861320834922954 -> 6542042015958554903 [id=\"4322861320834922954.args[0]\"]\n\t6542042015958554903 [label=\"Abstraction.create_variable\" id=6542042015958554903]\n\t6542042015958554903 -> -7624210437928555924 [id=\"6542042015958554903.args[0]\"]\n\t-7624210437928555924 [label=\"Variable(4550472592)\" id=-7624210437928555924]\n\t4322861320834922954 -> -6232607634837806632 [id=\"4322861320834922954.args[1]\"]\n\t-6232607634837806632 [label=\"Either.right\" id=-6232607634837806632]\n\t-6232607634837806632 -> 6542042015958554903 [id=\"-6232607634837806632.args[0]\"]\n\t-3029427928634493427 -> -1741944831158160669 [id=\"-9214882002482918105.args[1]\"]\n\t-1741944831158160669 [label=\"Maybe.nothing\" id=-1741944831158160669]\n\t-3029427928634493427 -> -7419500629896554251 [id=\"-9214882002482918105.args[2]\"]\n\t-7419500629896554251 [label=\"Abstraction.__add__\" id=-7419500629896554251]\n\t-7419500629896554251 -> -3689034126165086493 [id=\"-7419500629896554251.args[0]\"]\n\t-3689034126165086493 [label=\"Abstraction.from_fn\" id=-3689034126165086493]\n\t-3689034126165086493 -> -562755898029559237 [id=\"-3689034126165086493.args[0]\"]\n\t-562755898029559237 [label=\"Maybe.just\" id=-562755898029559237]\n\t-7419500629896554251 -> -1550240104841062570 [id=\"-7419500629896554251.args[1]\"]\n\t-1550240104841062570 [label=\"Abstraction.create\" id=-1550240104841062570]\n\t-1550240104841062570 -> -3068421415838553853 [id=\"-1550240104841062570.args[0]\"]\n\t-3068421415838553853 [label=\"Abstraction.create_variable\" id=-3068421415838553853]\n\t-3068421415838553853 -> 1599161591337719634 [id=\"-3068421415838553853.args[0]\"]\n\t1599161591337719634 [label=\"Variable(4550346232)\" id=1599161591337719634]\n\t-1550240104841062570 -> 7593629375782685187 [id=\"-1550240104841062570.args[1]\"]\n\t7593629375782685187 [label=\"NDArray.__getitem__\" id=7593629375782685187]\n\t7593629375782685187 -> -4101857827642879953 [id=\"7593629375782685187.args[0]\"]\n\t-4101857827642879953 [label=\"Pair.left\" id=-4101857827642879953]\n\t-4101857827642879953 -> -3068421415838553853 [id=\"-4101857827642879953.args[0]\"]\n\t7593629375782685187 -> -2782682249672993803 [id=\"7593629375782685187.args[1]\"]\n\t-2782682249672993803 [label=\"Pair.right\" id=-2782682249672993803]\n\t-2782682249672993803 -> -3068421415838553853 [id=\"-2782682249672993803.args[0]\"]\n}",
         "label": null,
         "rule": "metadsl_core.maybe.Maybe.map"
        },
        {
         "graph": "digraph {\n\tnode [shape=plain]\n\tedge [arrowsize=0.5 penwidth=0.5]\n\t-4252058329235867685 [label=\"NDArrayCompat.to_ndarray\" id=4165022598424862665]\n\t-4252058329235867685 -> -367087397212878688 [id=\"4165022598424862665.args[0]\"]\n\t-367087397212878688 [label=\"NDArrayCompat.from_ndarray\" id=-8054137683011941171]\n\t-367087397212878688 -> -6740074589041225197 [id=\"-8054137683011941171.args[0]\"]\n\t-6740074589041225197 [label=\"Maybe.match\" id=-9214882002482918105]\n\t-6740074589041225197 -> -3685428010484980666 [id=\"-9214882002482918105.args[0]\"]\n\t-3685428010484980666 [label=\"Maybe.__and__\" id=-2256523982435669739]\n\t-3685428010484980666 -> -3205579016505078363 [id=\"-2256523982435669739.args[0]\"]\n\t-3205579016505078363 [label=\"Converter.convert\" id=-4906189995990238770]\n\t-3205579016505078363 -> 6273833907686124028 [id=\"-4906189995990238770.args[0]\"]\n\t6273833907686124028 [label=\"NDArrayCompat.__add__\" id=-7098754822566143812]\n\t6273833907686124028 -> 7898050240573050074 [id=\"-7098754822566143812.args[0]\"]\n\t7898050240573050074 [label=\"NDArrayCompat.from_ndarray\" id=6309009682264249851]\n\t7898050240573050074 -> 7372525104834295168 [id=\"6309009682264249851.args[0]\"]\n\t7372525104834295168 [label=\"Maybe.match\" id=-5254370847906375128]\n\t7372525104834295168 -> -5463825541328231257 [id=\"-5254370847906375128.args[0]\"]\n\t-5463825541328231257 [label=\"Maybe.just\" id=-5463825541328231257]\n\t-5463825541328231257 -> -6362610179852757995 [id=\"-5463825541328231257.args[0]\"]\n\t-6362610179852757995 [label=\"Integer.from_int\" id=-6362610179852757995]\n\t-6362610179852757995 -> 852842466726619175 [id=\"-6362610179852757995.args[0]\"]\n\t852842466726619175 [label=100 id=852842466726619175]\n\t7372525104834295168 -> -1741944831158160669 [id=\"-5254370847906375128.args[1]\"]\n\t-1741944831158160669 [label=\"Maybe.nothing\" id=-1741944831158160669]\n\t7372525104834295168 -> -3553652926862722267 [id=\"-5254370847906375128.args[2]\"]\n\t-3553652926862722267 [label=\"Abstraction.__add__\" id=-3553652926862722267]\n\t-3553652926862722267 -> -3689034126165086493 [id=\"-3553652926862722267.args[0]\"]\n\t-3689034126165086493 [label=\"Abstraction.from_fn\" id=-3689034126165086493]\n\t-3689034126165086493 -> -562755898029559237 [id=\"-3689034126165086493.args[0]\"]\n\t-562755898029559237 [label=\"Maybe.just\" id=-562755898029559237]\n\t-3553652926862722267 -> 786997342016145894 [id=\"-3553652926862722267.args[1]\"]\n\t786997342016145894 [label=\"Abstraction.create\" id=786997342016145894]\n\t786997342016145894 -> 6473606452442739172 [id=\"786997342016145894.args[0]\"]\n\t6473606452442739172 [label=\"Abstraction.create_variable\" id=6473606452442739172]\n\t6473606452442739172 -> 1599161586953493384 [id=\"6473606452442739172.args[0]\"]\n\t1599161586953493384 [label=\"Variable(4550411992)\" id=1599161586953493384]\n\t786997342016145894 -> -2616682736920326438 [id=\"786997342016145894.args[1]\"]\n\t-2616682736920326438 [label=arange_ id=-2616682736920326438]\n\t-2616682736920326438 -> 6473606452442739172 [id=\"-2616682736920326438.args[0]\"]\n\t6273833907686124028 -> 7898050240573050074 [id=\"-7098754822566143812.args[1]\"]\n\t-3685428010484980666 -> -4938600625655742771 [id=\"-2256523982435669739.args[1]\"]\n\t-4938600625655742771 [label=\"Maybe.__or__\" id=7981845083225442043]\n\t-4938600625655742771 -> 124756402025258394 [id=\"7981845083225442043.args[0]\"]\n\t124756402025258394 [label=\"Abstraction.__call__\" id=-7124340782382811070]\n\t124756402025258394 -> 2864275428688390516 [id=\"-7124340782382811070.args[0]\"]\n\t2864275428688390516 [label=\"Abstraction.__add__\" id=2864275428688390516]\n\t2864275428688390516 -> -7507020889469263454 [id=\"2864275428688390516.args[0]\"]\n\t-7507020889469263454 [label=\"Abstraction.from_fn\" id=-7507020889469263454]\n\t-7507020889469263454 -> -2266514298468117634 [id=\"-7507020889469263454.args[0]\"]\n\t-2266514298468117634 [label=\"Maybe.just\" id=-2266514298468117634]\n\t2864275428688390516 -> -1467930441750646094 [id=\"2864275428688390516.args[1]\"]\n\t-1467930441750646094 [label=\"Abstraction.create\" id=-1467930441750646094]\n\t-1467930441750646094 -> 4436707967317074207 [id=\"-1467930441750646094.args[0]\"]\n\t4436707967317074207 [label=\"Abstraction.create_variable\" id=4436707967317074207]\n\t4436707967317074207 -> -7624210414075117549 [id=\"4436707967317074207.args[0]\"]\n\t-7624210414075117549 [label=\"Variable(4549890624)\" id=-7624210414075117549]\n\t-1467930441750646094 -> 3571471722856851369 [id=\"-1467930441750646094.args[1]\"]\n\t3571471722856851369 [label=\"Either.left\" id=3571471722856851369]\n\t3571471722856851369 -> 4436707967317074207 [id=\"3571471722856851369.args[0]\"]\n\t124756402025258394 -> -7334224414564589854 [id=\"-7124340782382811070.args[1]\"]\n\t-7334224414564589854 [label=\"Integer.from_int\" id=-7334224414564589854]\n\t-7334224414564589854 -> 852842466831624100 [id=\"-7334224414564589854.args[0]\"]\n\t852842466831624100 [label=5 id=852842466831624100]\n\t-4938600625655742771 -> 4069223967822016012 [id=\"7981845083225442043.args[1]\"]\n\t4069223967822016012 [label=\"Maybe.match\" id=666638544606779544]\n\t4069223967822016012 -> 2903062968911337222 [id=\"666638544606779544.args[0]\"]\n\t2903062968911337222 [label=\"Converter.convert\" id=2903062968911337222]\n\t2903062968911337222 -> 852842466831624100 [id=\"2903062968911337222.args[0]\"]\n\t4069223967822016012 -> -3052203273464861294 [id=\"666638544606779544.args[1]\"]\n\t-3052203273464861294 [label=\"Maybe.nothing\" id=-3052203273464861294]\n\t4069223967822016012 -> 2150862437589425299 [id=\"666638544606779544.args[2]\"]\n\t2150862437589425299 [label=\"Abstraction.__add__\" id=2150862437589425299]\n\t2150862437589425299 -> -7507020889469263454 [id=\"2150862437589425299.args[0]\"]\n\t2150862437589425299 -> 4322861320834922954 [id=\"2150862437589425299.args[1]\"]\n\t4322861320834922954 [label=\"Abstraction.create\" id=4322861320834922954]\n\t4322861320834922954 -> 6542042015958554903 [id=\"4322861320834922954.args[0]\"]\n\t6542042015958554903 [label=\"Abstraction.create_variable\" id=6542042015958554903]\n\t6542042015958554903 -> -7624210437928555924 [id=\"6542042015958554903.args[0]\"]\n\t-7624210437928555924 [label=\"Variable(4550472592)\" id=-7624210437928555924]\n\t4322861320834922954 -> -6232607634837806632 [id=\"4322861320834922954.args[1]\"]\n\t-6232607634837806632 [label=\"Either.right\" id=-6232607634837806632]\n\t-6232607634837806632 -> 6542042015958554903 [id=\"-6232607634837806632.args[0]\"]\n\t-6740074589041225197 -> -1741944831158160669 [id=\"-9214882002482918105.args[1]\"]\n\t-6740074589041225197 -> -7419500629896554251 [id=\"-9214882002482918105.args[2]\"]\n\t-7419500629896554251 [label=\"Abstraction.__add__\" id=-7419500629896554251]\n\t-7419500629896554251 -> -3689034126165086493 [id=\"-7419500629896554251.args[0]\"]\n\t-7419500629896554251 -> -1550240104841062570 [id=\"-7419500629896554251.args[1]\"]\n\t-1550240104841062570 [label=\"Abstraction.create\" id=-1550240104841062570]\n\t-1550240104841062570 -> -3068421415838553853 [id=\"-1550240104841062570.args[0]\"]\n\t-3068421415838553853 [label=\"Abstraction.create_variable\" id=-3068421415838553853]\n\t-3068421415838553853 -> 1599161591337719634 [id=\"-3068421415838553853.args[0]\"]\n\t1599161591337719634 [label=\"Variable(4550346232)\" id=1599161591337719634]\n\t-1550240104841062570 -> 7593629375782685187 [id=\"-1550240104841062570.args[1]\"]\n\t7593629375782685187 [label=\"NDArray.__getitem__\" id=7593629375782685187]\n\t7593629375782685187 -> -4101857827642879953 [id=\"7593629375782685187.args[0]\"]\n\t-4101857827642879953 [label=\"Pair.left\" id=-4101857827642879953]\n\t-4101857827642879953 -> -3068421415838553853 [id=\"-4101857827642879953.args[0]\"]\n\t7593629375782685187 -> -2782682249672993803 [id=\"7593629375782685187.args[1]\"]\n\t-2782682249672993803 [label=\"Pair.right\" id=-2782682249672993803]\n\t-2782682249672993803 -> -3068421415838553853 [id=\"-2782682249672993803.args[0]\"]\n}",
         "label": null,
         "rule": "metadsl_core.maybe.Maybe.map"
        },
        {
         "graph": "digraph {\n\tnode [shape=plain]\n\tedge [arrowsize=0.5 penwidth=0.5]\n\t-8551260107591658435 [label=\"NDArrayCompat.to_ndarray\" id=4165022598424862665]\n\t-8551260107591658435 -> 5479182216954816684 [id=\"4165022598424862665.args[0]\"]\n\t5479182216954816684 [label=\"NDArrayCompat.from_ndarray\" id=-8054137683011941171]\n\t5479182216954816684 -> -7233160250329376040 [id=\"-8054137683011941171.args[0]\"]\n\t-7233160250329376040 [label=\"Maybe.match\" id=-9214882002482918105]\n\t-7233160250329376040 -> 4154180677774013375 [id=\"-9214882002482918105.args[0]\"]\n\t4154180677774013375 [label=\"Maybe.__and__\" id=-2256523982435669739]\n\t4154180677774013375 -> -6231609528467553809 [id=\"-2256523982435669739.args[0]\"]\n\t-6231609528467553809 [label=\"Converter.convert\" id=-4906189995990238770]\n\t-6231609528467553809 -> -2194353901661938916 [id=\"-4906189995990238770.args[0]\"]\n\t-2194353901661938916 [label=\"NDArrayCompat.__add__\" id=-7098754822566143812]\n\t-2194353901661938916 -> -30235879659792941 [id=\"-7098754822566143812.args[0]\"]\n\t-30235879659792941 [label=\"NDArrayCompat.from_ndarray\" id=6309009682264249851]\n\t-30235879659792941 -> 2181308972867413742 [id=\"6309009682264249851.args[0]\"]\n\t2181308972867413742 [label=\"Abstraction.__call__\" id=-5254370847906375128]\n\t2181308972867413742 -> -3553652926862722267 [id=\"-5254370847906375128.args[0]\"]\n\t-3553652926862722267 [label=\"Abstraction.__add__\" id=-3553652926862722267]\n\t-3553652926862722267 -> -3689034126165086493 [id=\"-3553652926862722267.args[0]\"]\n\t-3689034126165086493 [label=\"Abstraction.from_fn\" id=-3689034126165086493]\n\t-3689034126165086493 -> -562755898029559237 [id=\"-3689034126165086493.args[0]\"]\n\t-562755898029559237 [label=\"Maybe.just\" id=-562755898029559237]\n\t-3553652926862722267 -> 786997342016145894 [id=\"-3553652926862722267.args[1]\"]\n\t786997342016145894 [label=\"Abstraction.create\" id=786997342016145894]\n\t786997342016145894 -> 6473606452442739172 [id=\"786997342016145894.args[0]\"]\n\t6473606452442739172 [label=\"Abstraction.create_variable\" id=6473606452442739172]\n\t6473606452442739172 -> 1599161586953493384 [id=\"6473606452442739172.args[0]\"]\n\t1599161586953493384 [label=\"Variable(4550411992)\" id=1599161586953493384]\n\t786997342016145894 -> -2616682736920326438 [id=\"786997342016145894.args[1]\"]\n\t-2616682736920326438 [label=arange_ id=-2616682736920326438]\n\t-2616682736920326438 -> 6473606452442739172 [id=\"-2616682736920326438.args[0]\"]\n\t2181308972867413742 -> -6362610179852757995 [id=\"-5254370847906375128.args[1]\"]\n\t-6362610179852757995 [label=\"Integer.from_int\" id=-6362610179852757995]\n\t-6362610179852757995 -> 852842466726619175 [id=\"-6362610179852757995.args[0]\"]\n\t852842466726619175 [label=100 id=852842466726619175]\n\t-2194353901661938916 -> -30235879659792941 [id=\"-7098754822566143812.args[1]\"]\n\t4154180677774013375 -> -4938600625655742771 [id=\"-2256523982435669739.args[1]\"]\n\t-4938600625655742771 [label=\"Maybe.__or__\" id=7981845083225442043]\n\t-4938600625655742771 -> 124756402025258394 [id=\"7981845083225442043.args[0]\"]\n\t124756402025258394 [label=\"Abstraction.__call__\" id=-7124340782382811070]\n\t124756402025258394 -> 2864275428688390516 [id=\"-7124340782382811070.args[0]\"]\n\t2864275428688390516 [label=\"Abstraction.__add__\" id=2864275428688390516]\n\t2864275428688390516 -> -7507020889469263454 [id=\"2864275428688390516.args[0]\"]\n\t-7507020889469263454 [label=\"Abstraction.from_fn\" id=-7507020889469263454]\n\t-7507020889469263454 -> -2266514298468117634 [id=\"-7507020889469263454.args[0]\"]\n\t-2266514298468117634 [label=\"Maybe.just\" id=-2266514298468117634]\n\t2864275428688390516 -> -1467930441750646094 [id=\"2864275428688390516.args[1]\"]\n\t-1467930441750646094 [label=\"Abstraction.create\" id=-1467930441750646094]\n\t-1467930441750646094 -> 4436707967317074207 [id=\"-1467930441750646094.args[0]\"]\n\t4436707967317074207 [label=\"Abstraction.create_variable\" id=4436707967317074207]\n\t4436707967317074207 -> -7624210414075117549 [id=\"4436707967317074207.args[0]\"]\n\t-7624210414075117549 [label=\"Variable(4549890624)\" id=-7624210414075117549]\n\t-1467930441750646094 -> 3571471722856851369 [id=\"-1467930441750646094.args[1]\"]\n\t3571471722856851369 [label=\"Either.left\" id=3571471722856851369]\n\t3571471722856851369 -> 4436707967317074207 [id=\"3571471722856851369.args[0]\"]\n\t124756402025258394 -> -7334224414564589854 [id=\"-7124340782382811070.args[1]\"]\n\t-7334224414564589854 [label=\"Integer.from_int\" id=-7334224414564589854]\n\t-7334224414564589854 -> 852842466831624100 [id=\"-7334224414564589854.args[0]\"]\n\t852842466831624100 [label=5 id=852842466831624100]\n\t-4938600625655742771 -> 4069223967822016012 [id=\"7981845083225442043.args[1]\"]\n\t4069223967822016012 [label=\"Maybe.match\" id=666638544606779544]\n\t4069223967822016012 -> 2903062968911337222 [id=\"666638544606779544.args[0]\"]\n\t2903062968911337222 [label=\"Converter.convert\" id=2903062968911337222]\n\t2903062968911337222 -> 852842466831624100 [id=\"2903062968911337222.args[0]\"]\n\t4069223967822016012 -> -3052203273464861294 [id=\"666638544606779544.args[1]\"]\n\t-3052203273464861294 [label=\"Maybe.nothing\" id=-3052203273464861294]\n\t4069223967822016012 -> 2150862437589425299 [id=\"666638544606779544.args[2]\"]\n\t2150862437589425299 [label=\"Abstraction.__add__\" id=2150862437589425299]\n\t2150862437589425299 -> -7507020889469263454 [id=\"2150862437589425299.args[0]\"]\n\t2150862437589425299 -> 4322861320834922954 [id=\"2150862437589425299.args[1]\"]\n\t4322861320834922954 [label=\"Abstraction.create\" id=4322861320834922954]\n\t4322861320834922954 -> 6542042015958554903 [id=\"4322861320834922954.args[0]\"]\n\t6542042015958554903 [label=\"Abstraction.create_variable\" id=6542042015958554903]\n\t6542042015958554903 -> -7624210437928555924 [id=\"6542042015958554903.args[0]\"]\n\t-7624210437928555924 [label=\"Variable(4550472592)\" id=-7624210437928555924]\n\t4322861320834922954 -> -6232607634837806632 [id=\"4322861320834922954.args[1]\"]\n\t-6232607634837806632 [label=\"Either.right\" id=-6232607634837806632]\n\t-6232607634837806632 -> 6542042015958554903 [id=\"-6232607634837806632.args[0]\"]\n\t-7233160250329376040 -> -1741944831158160669 [id=\"-9214882002482918105.args[1]\"]\n\t-1741944831158160669 [label=\"Maybe.nothing\" id=-1741944831158160669]\n\t-7233160250329376040 -> -7419500629896554251 [id=\"-9214882002482918105.args[2]\"]\n\t-7419500629896554251 [label=\"Abstraction.__add__\" id=-7419500629896554251]\n\t-7419500629896554251 -> -3689034126165086493 [id=\"-7419500629896554251.args[0]\"]\n\t-7419500629896554251 -> -1550240104841062570 [id=\"-7419500629896554251.args[1]\"]\n\t-1550240104841062570 [label=\"Abstraction.create\" id=-1550240104841062570]\n\t-1550240104841062570 -> -3068421415838553853 [id=\"-1550240104841062570.args[0]\"]\n\t-3068421415838553853 [label=\"Abstraction.create_variable\" id=-3068421415838553853]\n\t-3068421415838553853 -> 1599161591337719634 [id=\"-3068421415838553853.args[0]\"]\n\t1599161591337719634 [label=\"Variable(4550346232)\" id=1599161591337719634]\n\t-1550240104841062570 -> 7593629375782685187 [id=\"-1550240104841062570.args[1]\"]\n\t7593629375782685187 [label=\"NDArray.__getitem__\" id=7593629375782685187]\n\t7593629375782685187 -> -4101857827642879953 [id=\"7593629375782685187.args[0]\"]\n\t-4101857827642879953 [label=\"Pair.left\" id=-4101857827642879953]\n\t-4101857827642879953 -> -3068421415838553853 [id=\"-4101857827642879953.args[0]\"]\n\t7593629375782685187 -> -2782682249672993803 [id=\"7593629375782685187.args[1]\"]\n\t-2782682249672993803 [label=\"Pair.right\" id=-2782682249672993803]\n\t-2782682249672993803 -> -3068421415838553853 [id=\"-2782682249672993803.args[0]\"]\n}",
         "label": null,
         "rule": "metadsl_core.maybe.maybe_match"
        },
        {
         "graph": "digraph {\n\tnode [shape=plain]\n\tedge [arrowsize=0.5 penwidth=0.5]\n\t3895404525822615056 [label=\"NDArrayCompat.to_ndarray\" id=4165022598424862665]\n\t3895404525822615056 -> 8077630380282570204 [id=\"4165022598424862665.args[0]\"]\n\t8077630380282570204 [label=\"NDArrayCompat.from_ndarray\" id=-8054137683011941171]\n\t8077630380282570204 -> 289510125773986789 [id=\"-8054137683011941171.args[0]\"]\n\t289510125773986789 [label=\"Maybe.match\" id=-9214882002482918105]\n\t289510125773986789 -> 944166673721479462 [id=\"-9214882002482918105.args[0]\"]\n\t944166673721479462 [label=\"Maybe.__and__\" id=-2256523982435669739]\n\t944166673721479462 -> 1244090721317169732 [id=\"-2256523982435669739.args[0]\"]\n\t1244090721317169732 [label=\"Converter.convert\" id=-4906189995990238770]\n\t1244090721317169732 -> -9137942076300492354 [id=\"-4906189995990238770.args[0]\"]\n\t-9137942076300492354 [label=\"NDArrayCompat.__add__\" id=-7098754822566143812]\n\t-9137942076300492354 -> 8873528938243991147 [id=\"-7098754822566143812.args[0]\"]\n\t8873528938243991147 [label=\"NDArrayCompat.from_ndarray\" id=6309009682264249851]\n\t8873528938243991147 -> 4969971528995099444 [id=\"6309009682264249851.args[0]\"]\n\t4969971528995099444 [label=\"Abstraction.__call__\" id=-5254370847906375128]\n\t4969971528995099444 -> 2555543456416554185 [id=\"-5254370847906375128.args[0]\"]\n\t2555543456416554185 [label=\"Abstraction.__add__\" id=-3553652926862722267]\n\t2555543456416554185 -> 4963556996573540580 [id=\"-3553652926862722267.args[0]\"]\n\t4963556996573540580 [label=\"Abstraction.create\" id=-3689034126165086493]\n\t4963556996573540580 -> -2651554774626346251 [id=\"-3689034126165086493.args[0]\"]\n\t-2651554774626346251 [label=\"Abstraction.create_variable\" id=-2651554774626346251]\n\t-2651554774626346251 -> 1599161620968593934 [id=\"-2651554774626346251.args[0]\"]\n\t1599161620968593934 [label=\"Variable(4549884728)\" id=1599161620968593934]\n\t4963556996573540580 -> 8775842784207928853 [id=\"-3689034126165086493.args[1]\"]\n\t8775842784207928853 [label=\"Maybe.just\" id=8775842784207928853]\n\t8775842784207928853 -> -2651554774626346251 [id=\"8775842784207928853.args[0]\"]\n\t2555543456416554185 -> 786997342016145894 [id=\"-3553652926862722267.args[1]\"]\n\t786997342016145894 [label=\"Abstraction.create\" id=786997342016145894]\n\t786997342016145894 -> 6473606452442739172 [id=\"786997342016145894.args[0]\"]\n\t6473606452442739172 [label=\"Abstraction.create_variable\" id=6473606452442739172]\n\t6473606452442739172 -> 1599161586953493384 [id=\"6473606452442739172.args[0]\"]\n\t1599161586953493384 [label=\"Variable(4550411992)\" id=1599161586953493384]\n\t786997342016145894 -> -2616682736920326438 [id=\"786997342016145894.args[1]\"]\n\t-2616682736920326438 [label=arange_ id=-2616682736920326438]\n\t-2616682736920326438 -> 6473606452442739172 [id=\"-2616682736920326438.args[0]\"]\n\t4969971528995099444 -> -6362610179852757995 [id=\"-5254370847906375128.args[1]\"]\n\t-6362610179852757995 [label=\"Integer.from_int\" id=-6362610179852757995]\n\t-6362610179852757995 -> 852842466726619175 [id=\"-6362610179852757995.args[0]\"]\n\t852842466726619175 [label=100 id=852842466726619175]\n\t-9137942076300492354 -> 8873528938243991147 [id=\"-7098754822566143812.args[1]\"]\n\t944166673721479462 -> -4938600625655742771 [id=\"-2256523982435669739.args[1]\"]\n\t-4938600625655742771 [label=\"Maybe.__or__\" id=7981845083225442043]\n\t-4938600625655742771 -> 124756402025258394 [id=\"7981845083225442043.args[0]\"]\n\t124756402025258394 [label=\"Abstraction.__call__\" id=-7124340782382811070]\n\t124756402025258394 -> 2864275428688390516 [id=\"-7124340782382811070.args[0]\"]\n\t2864275428688390516 [label=\"Abstraction.__add__\" id=2864275428688390516]\n\t2864275428688390516 -> -7507020889469263454 [id=\"2864275428688390516.args[0]\"]\n\t-7507020889469263454 [label=\"Abstraction.from_fn\" id=-7507020889469263454]\n\t-7507020889469263454 -> -2266514298468117634 [id=\"-7507020889469263454.args[0]\"]\n\t-2266514298468117634 [label=\"Maybe.just\" id=-2266514298468117634]\n\t2864275428688390516 -> -1467930441750646094 [id=\"2864275428688390516.args[1]\"]\n\t-1467930441750646094 [label=\"Abstraction.create\" id=-1467930441750646094]\n\t-1467930441750646094 -> 4436707967317074207 [id=\"-1467930441750646094.args[0]\"]\n\t4436707967317074207 [label=\"Abstraction.create_variable\" id=4436707967317074207]\n\t4436707967317074207 -> -7624210414075117549 [id=\"4436707967317074207.args[0]\"]\n\t-7624210414075117549 [label=\"Variable(4549890624)\" id=-7624210414075117549]\n\t-1467930441750646094 -> 3571471722856851369 [id=\"-1467930441750646094.args[1]\"]\n\t3571471722856851369 [label=\"Either.left\" id=3571471722856851369]\n\t3571471722856851369 -> 4436707967317074207 [id=\"3571471722856851369.args[0]\"]\n\t124756402025258394 -> -7334224414564589854 [id=\"-7124340782382811070.args[1]\"]\n\t-7334224414564589854 [label=\"Integer.from_int\" id=-7334224414564589854]\n\t-7334224414564589854 -> 852842466831624100 [id=\"-7334224414564589854.args[0]\"]\n\t852842466831624100 [label=5 id=852842466831624100]\n\t-4938600625655742771 -> 4069223967822016012 [id=\"7981845083225442043.args[1]\"]\n\t4069223967822016012 [label=\"Maybe.match\" id=666638544606779544]\n\t4069223967822016012 -> 2903062968911337222 [id=\"666638544606779544.args[0]\"]\n\t2903062968911337222 [label=\"Converter.convert\" id=2903062968911337222]\n\t2903062968911337222 -> 852842466831624100 [id=\"2903062968911337222.args[0]\"]\n\t4069223967822016012 -> -3052203273464861294 [id=\"666638544606779544.args[1]\"]\n\t-3052203273464861294 [label=\"Maybe.nothing\" id=-3052203273464861294]\n\t4069223967822016012 -> 2150862437589425299 [id=\"666638544606779544.args[2]\"]\n\t2150862437589425299 [label=\"Abstraction.__add__\" id=2150862437589425299]\n\t2150862437589425299 -> -7507020889469263454 [id=\"2150862437589425299.args[0]\"]\n\t2150862437589425299 -> 4322861320834922954 [id=\"2150862437589425299.args[1]\"]\n\t4322861320834922954 [label=\"Abstraction.create\" id=4322861320834922954]\n\t4322861320834922954 -> 6542042015958554903 [id=\"4322861320834922954.args[0]\"]\n\t6542042015958554903 [label=\"Abstraction.create_variable\" id=6542042015958554903]\n\t6542042015958554903 -> -7624210437928555924 [id=\"6542042015958554903.args[0]\"]\n\t-7624210437928555924 [label=\"Variable(4550472592)\" id=-7624210437928555924]\n\t4322861320834922954 -> -6232607634837806632 [id=\"4322861320834922954.args[1]\"]\n\t-6232607634837806632 [label=\"Either.right\" id=-6232607634837806632]\n\t-6232607634837806632 -> 6542042015958554903 [id=\"-6232607634837806632.args[0]\"]\n\t289510125773986789 -> -1741944831158160669 [id=\"-9214882002482918105.args[1]\"]\n\t-1741944831158160669 [label=\"Maybe.nothing\" id=-1741944831158160669]\n\t289510125773986789 -> 4979138128552875321 [id=\"-9214882002482918105.args[2]\"]\n\t4979138128552875321 [label=\"Abstraction.__add__\" id=-7419500629896554251]\n\t4979138128552875321 -> 4963556996573540580 [id=\"-7419500629896554251.args[0]\"]\n\t4979138128552875321 -> -1550240104841062570 [id=\"-7419500629896554251.args[1]\"]\n\t-1550240104841062570 [label=\"Abstraction.create\" id=-1550240104841062570]\n\t-1550240104841062570 -> -3068421415838553853 [id=\"-1550240104841062570.args[0]\"]\n\t-3068421415838553853 [label=\"Abstraction.create_variable\" id=-3068421415838553853]\n\t-3068421415838553853 -> 1599161591337719634 [id=\"-3068421415838553853.args[0]\"]\n\t1599161591337719634 [label=\"Variable(4550346232)\" id=1599161591337719634]\n\t-1550240104841062570 -> 7593629375782685187 [id=\"-1550240104841062570.args[1]\"]\n\t7593629375782685187 [label=\"NDArray.__getitem__\" id=7593629375782685187]\n\t7593629375782685187 -> -4101857827642879953 [id=\"7593629375782685187.args[0]\"]\n\t-4101857827642879953 [label=\"Pair.left\" id=-4101857827642879953]\n\t-4101857827642879953 -> -3068421415838553853 [id=\"-4101857827642879953.args[0]\"]\n\t7593629375782685187 -> -2782682249672993803 [id=\"7593629375782685187.args[1]\"]\n\t-2782682249672993803 [label=\"Pair.right\" id=-2782682249672993803]\n\t-2782682249672993803 -> -3068421415838553853 [id=\"-2782682249672993803.args[0]\"]\n}",
         "label": null,
         "rule": "metadsl_core.abstraction.Abstraction.from_fn"
        },
        {
         "graph": "digraph {\n\tnode [shape=plain]\n\tedge [arrowsize=0.5 penwidth=0.5]\n\t-1039774064523142733 [label=\"NDArrayCompat.to_ndarray\" id=4165022598424862665]\n\t-1039774064523142733 -> 5979462813476510758 [id=\"4165022598424862665.args[0]\"]\n\t5979462813476510758 [label=\"NDArrayCompat.from_ndarray\" id=-8054137683011941171]\n\t5979462813476510758 -> -6980183798999553334 [id=\"-8054137683011941171.args[0]\"]\n\t-6980183798999553334 [label=\"Maybe.match\" id=-9214882002482918105]\n\t-6980183798999553334 -> -7944983298929643450 [id=\"-9214882002482918105.args[0]\"]\n\t-7944983298929643450 [label=\"Maybe.__and__\" id=-2256523982435669739]\n\t-7944983298929643450 -> 1244090721317169732 [id=\"-2256523982435669739.args[0]\"]\n\t1244090721317169732 [label=\"Converter.convert\" id=-4906189995990238770]\n\t1244090721317169732 -> -9137942076300492354 [id=\"-4906189995990238770.args[0]\"]\n\t-9137942076300492354 [label=\"NDArrayCompat.__add__\" id=-7098754822566143812]\n\t-9137942076300492354 -> 8873528938243991147 [id=\"-7098754822566143812.args[0]\"]\n\t8873528938243991147 [label=\"NDArrayCompat.from_ndarray\" id=6309009682264249851]\n\t8873528938243991147 -> 4969971528995099444 [id=\"6309009682264249851.args[0]\"]\n\t4969971528995099444 [label=\"Abstraction.__call__\" id=-5254370847906375128]\n\t4969971528995099444 -> 2555543456416554185 [id=\"-5254370847906375128.args[0]\"]\n\t2555543456416554185 [label=\"Abstraction.__add__\" id=-3553652926862722267]\n\t2555543456416554185 -> 4963556996573540580 [id=\"-3553652926862722267.args[0]\"]\n\t4963556996573540580 [label=\"Abstraction.create\" id=-3689034126165086493]\n\t4963556996573540580 -> -2651554774626346251 [id=\"-3689034126165086493.args[0]\"]\n\t-2651554774626346251 [label=\"Abstraction.create_variable\" id=-2651554774626346251]\n\t-2651554774626346251 -> 1599161620968593934 [id=\"-2651554774626346251.args[0]\"]\n\t1599161620968593934 [label=\"Variable(4549884728)\" id=1599161620968593934]\n\t4963556996573540580 -> 8775842784207928853 [id=\"-3689034126165086493.args[1]\"]\n\t8775842784207928853 [label=\"Maybe.just\" id=8775842784207928853]\n\t8775842784207928853 -> -2651554774626346251 [id=\"8775842784207928853.args[0]\"]\n\t2555543456416554185 -> 786997342016145894 [id=\"-3553652926862722267.args[1]\"]\n\t786997342016145894 [label=\"Abstraction.create\" id=786997342016145894]\n\t786997342016145894 -> 6473606452442739172 [id=\"786997342016145894.args[0]\"]\n\t6473606452442739172 [label=\"Abstraction.create_variable\" id=6473606452442739172]\n\t6473606452442739172 -> 1599161586953493384 [id=\"6473606452442739172.args[0]\"]\n\t1599161586953493384 [label=\"Variable(4550411992)\" id=1599161586953493384]\n\t786997342016145894 -> -2616682736920326438 [id=\"786997342016145894.args[1]\"]\n\t-2616682736920326438 [label=arange_ id=-2616682736920326438]\n\t-2616682736920326438 -> 6473606452442739172 [id=\"-2616682736920326438.args[0]\"]\n\t4969971528995099444 -> -6362610179852757995 [id=\"-5254370847906375128.args[1]\"]\n\t-6362610179852757995 [label=\"Integer.from_int\" id=-6362610179852757995]\n\t-6362610179852757995 -> 852842466726619175 [id=\"-6362610179852757995.args[0]\"]\n\t852842466726619175 [label=100 id=852842466726619175]\n\t-9137942076300492354 -> 8873528938243991147 [id=\"-7098754822566143812.args[1]\"]\n\t-7944983298929643450 -> 7146915402851765224 [id=\"-2256523982435669739.args[1]\"]\n\t7146915402851765224 [label=\"Maybe.__or__\" id=7981845083225442043]\n\t7146915402851765224 -> 855529740456915427 [id=\"7981845083225442043.args[0]\"]\n\t855529740456915427 [label=\"Abstraction.__call__\" id=-7124340782382811070]\n\t855529740456915427 -> -1300383532418558388 [id=\"-7124340782382811070.args[0]\"]\n\t-1300383532418558388 [label=\"Abstraction.__add__\" id=2864275428688390516]\n\t-1300383532418558388 -> 7101875186934734484 [id=\"2864275428688390516.args[0]\"]\n\t7101875186934734484 [label=\"Abstraction.create\" id=-7507020889469263454]\n\t7101875186934734484 -> 3610271697978549640 [id=\"-7507020889469263454.args[0]\"]\n\t3610271697978549640 [label=\"Abstraction.create_variable\" id=3610271697978549640]\n\t3610271697978549640 -> 1599161621090919259 [id=\"3610271697978549640.args[0]\"]\n\t1599161621090919259 [label=\"Variable(4549882824)\" id=1599161621090919259]\n\t7101875186934734484 -> 5290335498051873009 [id=\"-7507020889469263454.args[1]\"]\n\t5290335498051873009 [label=\"Maybe.just\" id=5290335498051873009]\n\t5290335498051873009 -> 3610271697978549640 [id=\"5290335498051873009.args[0]\"]\n\t-1300383532418558388 -> -1467930441750646094 [id=\"2864275428688390516.args[1]\"]\n\t-1467930441750646094 [label=\"Abstraction.create\" id=-1467930441750646094]\n\t-1467930441750646094 -> 4436707967317074207 [id=\"-1467930441750646094.args[0]\"]\n\t4436707967317074207 [label=\"Abstraction.create_variable\" id=4436707967317074207]\n\t4436707967317074207 -> -7624210414075117549 [id=\"4436707967317074207.args[0]\"]\n\t-7624210414075117549 [label=\"Variable(4549890624)\" id=-7624210414075117549]\n\t-1467930441750646094 -> 3571471722856851369 [id=\"-1467930441750646094.args[1]\"]\n\t3571471722856851369 [label=\"Either.left\" id=3571471722856851369]\n\t3571471722856851369 -> 4436707967317074207 [id=\"3571471722856851369.args[0]\"]\n\t855529740456915427 -> -7334224414564589854 [id=\"-7124340782382811070.args[1]\"]\n\t-7334224414564589854 [label=\"Integer.from_int\" id=-7334224414564589854]\n\t-7334224414564589854 -> 852842466831624100 [id=\"-7334224414564589854.args[0]\"]\n\t852842466831624100 [label=5 id=852842466831624100]\n\t7146915402851765224 -> -3868363342371013322 [id=\"7981845083225442043.args[1]\"]\n\t-3868363342371013322 [label=\"Maybe.match\" id=666638544606779544]\n\t-3868363342371013322 -> 2903062968911337222 [id=\"666638544606779544.args[0]\"]\n\t2903062968911337222 [label=\"Converter.convert\" id=2903062968911337222]\n\t2903062968911337222 -> 852842466831624100 [id=\"2903062968911337222.args[0]\"]\n\t-3868363342371013322 -> -3052203273464861294 [id=\"666638544606779544.args[1]\"]\n\t-3052203273464861294 [label=\"Maybe.nothing\" id=-3052203273464861294]\n\t-3868363342371013322 -> -4946758099071123717 [id=\"666638544606779544.args[2]\"]\n\t-4946758099071123717 [label=\"Abstraction.__add__\" id=2150862437589425299]\n\t-4946758099071123717 -> 7101875186934734484 [id=\"2150862437589425299.args[0]\"]\n\t-4946758099071123717 -> 4322861320834922954 [id=\"2150862437589425299.args[1]\"]\n\t4322861320834922954 [label=\"Abstraction.create\" id=4322861320834922954]\n\t4322861320834922954 -> 6542042015958554903 [id=\"4322861320834922954.args[0]\"]\n\t6542042015958554903 [label=\"Abstraction.create_variable\" id=6542042015958554903]\n\t6542042015958554903 -> -7624210437928555924 [id=\"6542042015958554903.args[0]\"]\n\t-7624210437928555924 [label=\"Variable(4550472592)\" id=-7624210437928555924]\n\t4322861320834922954 -> -6232607634837806632 [id=\"4322861320834922954.args[1]\"]\n\t-6232607634837806632 [label=\"Either.right\" id=-6232607634837806632]\n\t-6232607634837806632 -> 6542042015958554903 [id=\"-6232607634837806632.args[0]\"]\n\t-6980183798999553334 -> -1741944831158160669 [id=\"-9214882002482918105.args[1]\"]\n\t-1741944831158160669 [label=\"Maybe.nothing\" id=-1741944831158160669]\n\t-6980183798999553334 -> 4979138128552875321 [id=\"-9214882002482918105.args[2]\"]\n\t4979138128552875321 [label=\"Abstraction.__add__\" id=-7419500629896554251]\n\t4979138128552875321 -> 4963556996573540580 [id=\"-7419500629896554251.args[0]\"]\n\t4979138128552875321 -> -1550240104841062570 [id=\"-7419500629896554251.args[1]\"]\n\t-1550240104841062570 [label=\"Abstraction.create\" id=-1550240104841062570]\n\t-1550240104841062570 -> -3068421415838553853 [id=\"-1550240104841062570.args[0]\"]\n\t-3068421415838553853 [label=\"Abstraction.create_variable\" id=-3068421415838553853]\n\t-3068421415838553853 -> 1599161591337719634 [id=\"-3068421415838553853.args[0]\"]\n\t1599161591337719634 [label=\"Variable(4550346232)\" id=1599161591337719634]\n\t-1550240104841062570 -> 7593629375782685187 [id=\"-1550240104841062570.args[1]\"]\n\t7593629375782685187 [label=\"NDArray.__getitem__\" id=7593629375782685187]\n\t7593629375782685187 -> -4101857827642879953 [id=\"7593629375782685187.args[0]\"]\n\t-4101857827642879953 [label=\"Pair.left\" id=-4101857827642879953]\n\t-4101857827642879953 -> -3068421415838553853 [id=\"-4101857827642879953.args[0]\"]\n\t7593629375782685187 -> -2782682249672993803 [id=\"7593629375782685187.args[1]\"]\n\t-2782682249672993803 [label=\"Pair.right\" id=-2782682249672993803]\n\t-2782682249672993803 -> -3068421415838553853 [id=\"-2782682249672993803.args[0]\"]\n}",
         "label": null,
         "rule": "metadsl_core.abstraction.Abstraction.from_fn"
        },
        {
         "graph": "digraph {\n\tnode [shape=plain]\n\tedge [arrowsize=0.5 penwidth=0.5]\n\t653571269495829655 [label=\"NDArrayCompat.to_ndarray\" id=4165022598424862665]\n\t653571269495829655 -> -7267539924673605809 [id=\"4165022598424862665.args[0]\"]\n\t-7267539924673605809 [label=\"NDArrayCompat.from_ndarray\" id=-8054137683011941171]\n\t-7267539924673605809 -> -7192612323262748411 [id=\"-8054137683011941171.args[0]\"]\n\t-7192612323262748411 [label=\"Maybe.match\" id=-9214882002482918105]\n\t-7192612323262748411 -> -7944983298929643450 [id=\"-9214882002482918105.args[0]\"]\n\t-7944983298929643450 [label=\"Maybe.__and__\" id=-2256523982435669739]\n\t-7944983298929643450 -> 1244090721317169732 [id=\"-2256523982435669739.args[0]\"]\n\t1244090721317169732 [label=\"Converter.convert\" id=-4906189995990238770]\n\t1244090721317169732 -> -9137942076300492354 [id=\"-4906189995990238770.args[0]\"]\n\t-9137942076300492354 [label=\"NDArrayCompat.__add__\" id=-7098754822566143812]\n\t-9137942076300492354 -> 8873528938243991147 [id=\"-7098754822566143812.args[0]\"]\n\t8873528938243991147 [label=\"NDArrayCompat.from_ndarray\" id=6309009682264249851]\n\t8873528938243991147 -> 4969971528995099444 [id=\"6309009682264249851.args[0]\"]\n\t4969971528995099444 [label=\"Abstraction.__call__\" id=-5254370847906375128]\n\t4969971528995099444 -> 2555543456416554185 [id=\"-5254370847906375128.args[0]\"]\n\t2555543456416554185 [label=\"Abstraction.__add__\" id=-3553652926862722267]\n\t2555543456416554185 -> 4963556996573540580 [id=\"-3553652926862722267.args[0]\"]\n\t4963556996573540580 [label=\"Abstraction.create\" id=-3689034126165086493]\n\t4963556996573540580 -> -2651554774626346251 [id=\"-3689034126165086493.args[0]\"]\n\t-2651554774626346251 [label=\"Abstraction.create_variable\" id=-2651554774626346251]\n\t-2651554774626346251 -> 1599161620968593934 [id=\"-2651554774626346251.args[0]\"]\n\t1599161620968593934 [label=\"Variable(4549884728)\" id=1599161620968593934]\n\t4963556996573540580 -> 8775842784207928853 [id=\"-3689034126165086493.args[1]\"]\n\t8775842784207928853 [label=\"Maybe.just\" id=8775842784207928853]\n\t8775842784207928853 -> -2651554774626346251 [id=\"8775842784207928853.args[0]\"]\n\t2555543456416554185 -> 786997342016145894 [id=\"-3553652926862722267.args[1]\"]\n\t786997342016145894 [label=\"Abstraction.create\" id=786997342016145894]\n\t786997342016145894 -> 6473606452442739172 [id=\"786997342016145894.args[0]\"]\n\t6473606452442739172 [label=\"Abstraction.create_variable\" id=6473606452442739172]\n\t6473606452442739172 -> 1599161586953493384 [id=\"6473606452442739172.args[0]\"]\n\t1599161586953493384 [label=\"Variable(4550411992)\" id=1599161586953493384]\n\t786997342016145894 -> -2616682736920326438 [id=\"786997342016145894.args[1]\"]\n\t-2616682736920326438 [label=arange_ id=-2616682736920326438]\n\t-2616682736920326438 -> 6473606452442739172 [id=\"-2616682736920326438.args[0]\"]\n\t4969971528995099444 -> -6362610179852757995 [id=\"-5254370847906375128.args[1]\"]\n\t-6362610179852757995 [label=\"Integer.from_int\" id=-6362610179852757995]\n\t-6362610179852757995 -> 852842466726619175 [id=\"-6362610179852757995.args[0]\"]\n\t852842466726619175 [label=100 id=852842466726619175]\n\t-9137942076300492354 -> 8873528938243991147 [id=\"-7098754822566143812.args[1]\"]\n\t-7944983298929643450 -> 7146915402851765224 [id=\"-2256523982435669739.args[1]\"]\n\t7146915402851765224 [label=\"Maybe.__or__\" id=7981845083225442043]\n\t7146915402851765224 -> 855529740456915427 [id=\"7981845083225442043.args[0]\"]\n\t855529740456915427 [label=\"Abstraction.__call__\" id=-7124340782382811070]\n\t855529740456915427 -> -1300383532418558388 [id=\"-7124340782382811070.args[0]\"]\n\t-1300383532418558388 [label=\"Abstraction.__add__\" id=2864275428688390516]\n\t-1300383532418558388 -> 7101875186934734484 [id=\"2864275428688390516.args[0]\"]\n\t7101875186934734484 [label=\"Abstraction.create\" id=-7507020889469263454]\n\t7101875186934734484 -> 3610271697978549640 [id=\"-7507020889469263454.args[0]\"]\n\t3610271697978549640 [label=\"Abstraction.create_variable\" id=3610271697978549640]\n\t3610271697978549640 -> 1599161621090919259 [id=\"3610271697978549640.args[0]\"]\n\t1599161621090919259 [label=\"Variable(4549882824)\" id=1599161621090919259]\n\t7101875186934734484 -> 5290335498051873009 [id=\"-7507020889469263454.args[1]\"]\n\t5290335498051873009 [label=\"Maybe.just\" id=5290335498051873009]\n\t5290335498051873009 -> 3610271697978549640 [id=\"5290335498051873009.args[0]\"]\n\t-1300383532418558388 -> -1467930441750646094 [id=\"2864275428688390516.args[1]\"]\n\t-1467930441750646094 [label=\"Abstraction.create\" id=-1467930441750646094]\n\t-1467930441750646094 -> 4436707967317074207 [id=\"-1467930441750646094.args[0]\"]\n\t4436707967317074207 [label=\"Abstraction.create_variable\" id=4436707967317074207]\n\t4436707967317074207 -> -7624210414075117549 [id=\"4436707967317074207.args[0]\"]\n\t-7624210414075117549 [label=\"Variable(4549890624)\" id=-7624210414075117549]\n\t-1467930441750646094 -> 3571471722856851369 [id=\"-1467930441750646094.args[1]\"]\n\t3571471722856851369 [label=\"Either.left\" id=3571471722856851369]\n\t3571471722856851369 -> 4436707967317074207 [id=\"3571471722856851369.args[0]\"]\n\t855529740456915427 -> -7334224414564589854 [id=\"-7124340782382811070.args[1]\"]\n\t-7334224414564589854 [label=\"Integer.from_int\" id=-7334224414564589854]\n\t-7334224414564589854 -> 852842466831624100 [id=\"-7334224414564589854.args[0]\"]\n\t852842466831624100 [label=5 id=852842466831624100]\n\t7146915402851765224 -> -3868363342371013322 [id=\"7981845083225442043.args[1]\"]\n\t-3868363342371013322 [label=\"Maybe.match\" id=666638544606779544]\n\t-3868363342371013322 -> 2903062968911337222 [id=\"666638544606779544.args[0]\"]\n\t2903062968911337222 [label=\"Converter.convert\" id=2903062968911337222]\n\t2903062968911337222 -> 852842466831624100 [id=\"2903062968911337222.args[0]\"]\n\t-3868363342371013322 -> -3052203273464861294 [id=\"666638544606779544.args[1]\"]\n\t-3052203273464861294 [label=\"Maybe.nothing\" id=-3052203273464861294]\n\t-3868363342371013322 -> -4946758099071123717 [id=\"666638544606779544.args[2]\"]\n\t-4946758099071123717 [label=\"Abstraction.__add__\" id=2150862437589425299]\n\t-4946758099071123717 -> 7101875186934734484 [id=\"2150862437589425299.args[0]\"]\n\t-4946758099071123717 -> 4322861320834922954 [id=\"2150862437589425299.args[1]\"]\n\t4322861320834922954 [label=\"Abstraction.create\" id=4322861320834922954]\n\t4322861320834922954 -> 6542042015958554903 [id=\"4322861320834922954.args[0]\"]\n\t6542042015958554903 [label=\"Abstraction.create_variable\" id=6542042015958554903]\n\t6542042015958554903 -> -7624210437928555924 [id=\"6542042015958554903.args[0]\"]\n\t-7624210437928555924 [label=\"Variable(4550472592)\" id=-7624210437928555924]\n\t4322861320834922954 -> -6232607634837806632 [id=\"4322861320834922954.args[1]\"]\n\t-6232607634837806632 [label=\"Either.right\" id=-6232607634837806632]\n\t-6232607634837806632 -> 6542042015958554903 [id=\"-6232607634837806632.args[0]\"]\n\t-7192612323262748411 -> -1741944831158160669 [id=\"-9214882002482918105.args[1]\"]\n\t-1741944831158160669 [label=\"Maybe.nothing\" id=-1741944831158160669]\n\t-7192612323262748411 -> -2254904298553319150 [id=\"-9214882002482918105.args[2]\"]\n\t-2254904298553319150 [label=\"Abstraction.create\" id=-2254904298553319150]\n\t-2254904298553319150 -> -3068421415838553853 [id=\"-2254904298553319150.args[0]\"]\n\t-3068421415838553853 [label=\"Abstraction.create_variable\" id=-3068421415838553853]\n\t-3068421415838553853 -> 1599161591337719634 [id=\"-3068421415838553853.args[0]\"]\n\t1599161591337719634 [label=\"Variable(4550346232)\" id=1599161591337719634]\n\t-2254904298553319150 -> 6760213600488917919 [id=\"-2254904298553319150.args[1]\"]\n\t6760213600488917919 [label=\"Maybe.just\" id=6760213600488917919]\n\t6760213600488917919 -> 7593629375782685187 [id=\"6760213600488917919.args[0]\"]\n\t7593629375782685187 [label=\"NDArray.__getitem__\" id=7593629375782685187]\n\t7593629375782685187 -> -4101857827642879953 [id=\"7593629375782685187.args[0]\"]\n\t-4101857827642879953 [label=\"Pair.left\" id=-4101857827642879953]\n\t-4101857827642879953 -> -3068421415838553853 [id=\"-4101857827642879953.args[0]\"]\n\t7593629375782685187 -> -2782682249672993803 [id=\"7593629375782685187.args[1]\"]\n\t-2782682249672993803 [label=\"Pair.right\" id=-2782682249672993803]\n\t-2782682249672993803 -> -3068421415838553853 [id=\"-2782682249672993803.args[0]\"]\n}",
         "label": null,
         "rule": "metadsl_core.abstraction.compose"
        },
        {
         "graph": "digraph {\n\tnode [shape=plain]\n\tedge [arrowsize=0.5 penwidth=0.5]\n\t-1298893307199550344 [label=\"NDArrayCompat.to_ndarray\" id=4165022598424862665]\n\t-1298893307199550344 -> -5669056253452353415 [id=\"4165022598424862665.args[0]\"]\n\t-5669056253452353415 [label=\"NDArrayCompat.from_ndarray\" id=-8054137683011941171]\n\t-5669056253452353415 -> 2408542412004543979 [id=\"-8054137683011941171.args[0]\"]\n\t2408542412004543979 [label=\"Maybe.match\" id=-9214882002482918105]\n\t2408542412004543979 -> 4041996134992760988 [id=\"-9214882002482918105.args[0]\"]\n\t4041996134992760988 [label=\"Maybe.__and__\" id=-2256523982435669739]\n\t4041996134992760988 -> 1244090721317169732 [id=\"-2256523982435669739.args[0]\"]\n\t1244090721317169732 [label=\"Converter.convert\" id=-4906189995990238770]\n\t1244090721317169732 -> -9137942076300492354 [id=\"-4906189995990238770.args[0]\"]\n\t-9137942076300492354 [label=\"NDArrayCompat.__add__\" id=-7098754822566143812]\n\t-9137942076300492354 -> 8873528938243991147 [id=\"-7098754822566143812.args[0]\"]\n\t8873528938243991147 [label=\"NDArrayCompat.from_ndarray\" id=6309009682264249851]\n\t8873528938243991147 -> 4969971528995099444 [id=\"6309009682264249851.args[0]\"]\n\t4969971528995099444 [label=\"Abstraction.__call__\" id=-5254370847906375128]\n\t4969971528995099444 -> 2555543456416554185 [id=\"-5254370847906375128.args[0]\"]\n\t2555543456416554185 [label=\"Abstraction.__add__\" id=-3553652926862722267]\n\t2555543456416554185 -> 4963556996573540580 [id=\"-3553652926862722267.args[0]\"]\n\t4963556996573540580 [label=\"Abstraction.create\" id=-3689034126165086493]\n\t4963556996573540580 -> -2651554774626346251 [id=\"-3689034126165086493.args[0]\"]\n\t-2651554774626346251 [label=\"Abstraction.create_variable\" id=-2651554774626346251]\n\t-2651554774626346251 -> 1599161620968593934 [id=\"-2651554774626346251.args[0]\"]\n\t1599161620968593934 [label=\"Variable(4549884728)\" id=1599161620968593934]\n\t4963556996573540580 -> 8775842784207928853 [id=\"-3689034126165086493.args[1]\"]\n\t8775842784207928853 [label=\"Maybe.just\" id=8775842784207928853]\n\t8775842784207928853 -> -2651554774626346251 [id=\"8775842784207928853.args[0]\"]\n\t2555543456416554185 -> 786997342016145894 [id=\"-3553652926862722267.args[1]\"]\n\t786997342016145894 [label=\"Abstraction.create\" id=786997342016145894]\n\t786997342016145894 -> 6473606452442739172 [id=\"786997342016145894.args[0]\"]\n\t6473606452442739172 [label=\"Abstraction.create_variable\" id=6473606452442739172]\n\t6473606452442739172 -> 1599161586953493384 [id=\"6473606452442739172.args[0]\"]\n\t1599161586953493384 [label=\"Variable(4550411992)\" id=1599161586953493384]\n\t786997342016145894 -> -2616682736920326438 [id=\"786997342016145894.args[1]\"]\n\t-2616682736920326438 [label=arange_ id=-2616682736920326438]\n\t-2616682736920326438 -> 6473606452442739172 [id=\"-2616682736920326438.args[0]\"]\n\t4969971528995099444 -> -6362610179852757995 [id=\"-5254370847906375128.args[1]\"]\n\t-6362610179852757995 [label=\"Integer.from_int\" id=-6362610179852757995]\n\t-6362610179852757995 -> 852842466726619175 [id=\"-6362610179852757995.args[0]\"]\n\t852842466726619175 [label=100 id=852842466726619175]\n\t-9137942076300492354 -> 8873528938243991147 [id=\"-7098754822566143812.args[1]\"]\n\t4041996134992760988 -> 7789561644180733878 [id=\"-2256523982435669739.args[1]\"]\n\t7789561644180733878 [label=\"Maybe.__or__\" id=7981845083225442043]\n\t7789561644180733878 -> -6183565852243245365 [id=\"7981845083225442043.args[0]\"]\n\t-6183565852243245365 [label=\"Abstraction.__call__\" id=-7124340782382811070]\n\t-6183565852243245365 -> -2962926686881120987 [id=\"-7124340782382811070.args[0]\"]\n\t-2962926686881120987 [label=\"Abstraction.create\" id=2864275428688390516]\n\t-2962926686881120987 -> 4436707967317074207 [id=\"2864275428688390516.args[0]\"]\n\t4436707967317074207 [label=\"Abstraction.create_variable\" id=4436707967317074207]\n\t4436707967317074207 -> -7624210414075117549 [id=\"4436707967317074207.args[0]\"]\n\t-7624210414075117549 [label=\"Variable(4549890624)\" id=-7624210414075117549]\n\t-2962926686881120987 -> 1398509882097183646 [id=\"2864275428688390516.args[1]\"]\n\t1398509882097183646 [label=\"Maybe.just\" id=1398509882097183646]\n\t1398509882097183646 -> 3571471722856851369 [id=\"1398509882097183646.args[0]\"]\n\t3571471722856851369 [label=\"Either.left\" id=3571471722856851369]\n\t3571471722856851369 -> 4436707967317074207 [id=\"3571471722856851369.args[0]\"]\n\t-6183565852243245365 -> -7334224414564589854 [id=\"-7124340782382811070.args[1]\"]\n\t-7334224414564589854 [label=\"Integer.from_int\" id=-7334224414564589854]\n\t-7334224414564589854 -> 852842466831624100 [id=\"-7334224414564589854.args[0]\"]\n\t852842466831624100 [label=5 id=852842466831624100]\n\t7789561644180733878 -> -3868363342371013322 [id=\"7981845083225442043.args[1]\"]\n\t-3868363342371013322 [label=\"Maybe.match\" id=666638544606779544]\n\t-3868363342371013322 -> 2903062968911337222 [id=\"666638544606779544.args[0]\"]\n\t2903062968911337222 [label=\"Converter.convert\" id=2903062968911337222]\n\t2903062968911337222 -> 852842466831624100 [id=\"2903062968911337222.args[0]\"]\n\t-3868363342371013322 -> -3052203273464861294 [id=\"666638544606779544.args[1]\"]\n\t-3052203273464861294 [label=\"Maybe.nothing\" id=-3052203273464861294]\n\t-3868363342371013322 -> -4946758099071123717 [id=\"666638544606779544.args[2]\"]\n\t-4946758099071123717 [label=\"Abstraction.__add__\" id=2150862437589425299]\n\t-4946758099071123717 -> 7101875186934734484 [id=\"2150862437589425299.args[0]\"]\n\t7101875186934734484 [label=\"Abstraction.create\" id=-7507020889469263454]\n\t7101875186934734484 -> 3610271697978549640 [id=\"-7507020889469263454.args[0]\"]\n\t3610271697978549640 [label=\"Abstraction.create_variable\" id=3610271697978549640]\n\t3610271697978549640 -> 1599161621090919259 [id=\"3610271697978549640.args[0]\"]\n\t1599161621090919259 [label=\"Variable(4549882824)\" id=1599161621090919259]\n\t7101875186934734484 -> 5290335498051873009 [id=\"-7507020889469263454.args[1]\"]\n\t5290335498051873009 [label=\"Maybe.just\" id=5290335498051873009]\n\t5290335498051873009 -> 3610271697978549640 [id=\"5290335498051873009.args[0]\"]\n\t-4946758099071123717 -> 4322861320834922954 [id=\"2150862437589425299.args[1]\"]\n\t4322861320834922954 [label=\"Abstraction.create\" id=4322861320834922954]\n\t4322861320834922954 -> 6542042015958554903 [id=\"4322861320834922954.args[0]\"]\n\t6542042015958554903 [label=\"Abstraction.create_variable\" id=6542042015958554903]\n\t6542042015958554903 -> -7624210437928555924 [id=\"6542042015958554903.args[0]\"]\n\t-7624210437928555924 [label=\"Variable(4550472592)\" id=-7624210437928555924]\n\t4322861320834922954 -> -6232607634837806632 [id=\"4322861320834922954.args[1]\"]\n\t-6232607634837806632 [label=\"Either.right\" id=-6232607634837806632]\n\t-6232607634837806632 -> 6542042015958554903 [id=\"-6232607634837806632.args[0]\"]\n\t2408542412004543979 -> -1741944831158160669 [id=\"-9214882002482918105.args[1]\"]\n\t-1741944831158160669 [label=\"Maybe.nothing\" id=-1741944831158160669]\n\t2408542412004543979 -> -2254904298553319150 [id=\"-9214882002482918105.args[2]\"]\n\t-2254904298553319150 [label=\"Abstraction.create\" id=-2254904298553319150]\n\t-2254904298553319150 -> -3068421415838553853 [id=\"-2254904298553319150.args[0]\"]\n\t-3068421415838553853 [label=\"Abstraction.create_variable\" id=-3068421415838553853]\n\t-3068421415838553853 -> 1599161591337719634 [id=\"-3068421415838553853.args[0]\"]\n\t1599161591337719634 [label=\"Variable(4550346232)\" id=1599161591337719634]\n\t-2254904298553319150 -> 6760213600488917919 [id=\"-2254904298553319150.args[1]\"]\n\t6760213600488917919 [label=\"Maybe.just\" id=6760213600488917919]\n\t6760213600488917919 -> 7593629375782685187 [id=\"6760213600488917919.args[0]\"]\n\t7593629375782685187 [label=\"NDArray.__getitem__\" id=7593629375782685187]\n\t7593629375782685187 -> -4101857827642879953 [id=\"7593629375782685187.args[0]\"]\n\t-4101857827642879953 [label=\"Pair.left\" id=-4101857827642879953]\n\t-4101857827642879953 -> -3068421415838553853 [id=\"-4101857827642879953.args[0]\"]\n\t7593629375782685187 -> -2782682249672993803 [id=\"7593629375782685187.args[1]\"]\n\t-2782682249672993803 [label=\"Pair.right\" id=-2782682249672993803]\n\t-2782682249672993803 -> -3068421415838553853 [id=\"-2782682249672993803.args[0]\"]\n}",
         "label": null,
         "rule": "metadsl_core.abstraction.compose"
        },
        {
         "graph": "digraph {\n\tnode [shape=plain]\n\tedge [arrowsize=0.5 penwidth=0.5]\n\t-8063324651352519023 [label=\"NDArrayCompat.to_ndarray\" id=4165022598424862665]\n\t-8063324651352519023 -> -4342200577764080509 [id=\"4165022598424862665.args[0]\"]\n\t-4342200577764080509 [label=\"NDArrayCompat.from_ndarray\" id=-8054137683011941171]\n\t-4342200577764080509 -> 850465293133506366 [id=\"-8054137683011941171.args[0]\"]\n\t850465293133506366 [label=\"Maybe.match\" id=-9214882002482918105]\n\t850465293133506366 -> -6145244821123564156 [id=\"-9214882002482918105.args[0]\"]\n\t-6145244821123564156 [label=\"Maybe.__and__\" id=-2256523982435669739]\n\t-6145244821123564156 -> 1244090721317169732 [id=\"-2256523982435669739.args[0]\"]\n\t1244090721317169732 [label=\"Converter.convert\" id=-4906189995990238770]\n\t1244090721317169732 -> -9137942076300492354 [id=\"-4906189995990238770.args[0]\"]\n\t-9137942076300492354 [label=\"NDArrayCompat.__add__\" id=-7098754822566143812]\n\t-9137942076300492354 -> 8873528938243991147 [id=\"-7098754822566143812.args[0]\"]\n\t8873528938243991147 [label=\"NDArrayCompat.from_ndarray\" id=6309009682264249851]\n\t8873528938243991147 -> 4969971528995099444 [id=\"6309009682264249851.args[0]\"]\n\t4969971528995099444 [label=\"Abstraction.__call__\" id=-5254370847906375128]\n\t4969971528995099444 -> 2555543456416554185 [id=\"-5254370847906375128.args[0]\"]\n\t2555543456416554185 [label=\"Abstraction.__add__\" id=-3553652926862722267]\n\t2555543456416554185 -> 4963556996573540580 [id=\"-3553652926862722267.args[0]\"]\n\t4963556996573540580 [label=\"Abstraction.create\" id=-3689034126165086493]\n\t4963556996573540580 -> -2651554774626346251 [id=\"-3689034126165086493.args[0]\"]\n\t-2651554774626346251 [label=\"Abstraction.create_variable\" id=-2651554774626346251]\n\t-2651554774626346251 -> 1599161620968593934 [id=\"-2651554774626346251.args[0]\"]\n\t1599161620968593934 [label=\"Variable(4549884728)\" id=1599161620968593934]\n\t4963556996573540580 -> 8775842784207928853 [id=\"-3689034126165086493.args[1]\"]\n\t8775842784207928853 [label=\"Maybe.just\" id=8775842784207928853]\n\t8775842784207928853 -> -2651554774626346251 [id=\"8775842784207928853.args[0]\"]\n\t2555543456416554185 -> 786997342016145894 [id=\"-3553652926862722267.args[1]\"]\n\t786997342016145894 [label=\"Abstraction.create\" id=786997342016145894]\n\t786997342016145894 -> 6473606452442739172 [id=\"786997342016145894.args[0]\"]\n\t6473606452442739172 [label=\"Abstraction.create_variable\" id=6473606452442739172]\n\t6473606452442739172 -> 1599161586953493384 [id=\"6473606452442739172.args[0]\"]\n\t1599161586953493384 [label=\"Variable(4550411992)\" id=1599161586953493384]\n\t786997342016145894 -> -2616682736920326438 [id=\"786997342016145894.args[1]\"]\n\t-2616682736920326438 [label=arange_ id=-2616682736920326438]\n\t-2616682736920326438 -> 6473606452442739172 [id=\"-2616682736920326438.args[0]\"]\n\t4969971528995099444 -> -6362610179852757995 [id=\"-5254370847906375128.args[1]\"]\n\t-6362610179852757995 [label=\"Integer.from_int\" id=-6362610179852757995]\n\t-6362610179852757995 -> 852842466726619175 [id=\"-6362610179852757995.args[0]\"]\n\t852842466726619175 [label=100 id=852842466726619175]\n\t-9137942076300492354 -> 8873528938243991147 [id=\"-7098754822566143812.args[1]\"]\n\t-6145244821123564156 -> -1472911467723800719 [id=\"-2256523982435669739.args[1]\"]\n\t-1472911467723800719 [label=\"Maybe.__or__\" id=7981845083225442043]\n\t-1472911467723800719 -> -1016045937770588202 [id=\"7981845083225442043.args[0]\"]\n\t-1016045937770588202 [label=\"Maybe.just\" id=-7124340782382811070]\n\t-1016045937770588202 -> 2234741608541215826 [id=\"-7124340782382811070.args[0]\"]\n\t2234741608541215826 [label=\"Either.left\" id=2234741608541215826]\n\t2234741608541215826 -> -7334224414564589854 [id=\"2234741608541215826.args[0]\"]\n\t-7334224414564589854 [label=\"Integer.from_int\" id=-7334224414564589854]\n\t-7334224414564589854 -> 852842466831624100 [id=\"-7334224414564589854.args[0]\"]\n\t852842466831624100 [label=5 id=852842466831624100]\n\t-1472911467723800719 -> -3868363342371013322 [id=\"7981845083225442043.args[1]\"]\n\t-3868363342371013322 [label=\"Maybe.match\" id=666638544606779544]\n\t-3868363342371013322 -> 2903062968911337222 [id=\"666638544606779544.args[0]\"]\n\t2903062968911337222 [label=\"Converter.convert\" id=2903062968911337222]\n\t2903062968911337222 -> 852842466831624100 [id=\"2903062968911337222.args[0]\"]\n\t-3868363342371013322 -> -3052203273464861294 [id=\"666638544606779544.args[1]\"]\n\t-3052203273464861294 [label=\"Maybe.nothing\" id=-3052203273464861294]\n\t-3868363342371013322 -> -4946758099071123717 [id=\"666638544606779544.args[2]\"]\n\t-4946758099071123717 [label=\"Abstraction.__add__\" id=2150862437589425299]\n\t-4946758099071123717 -> 7101875186934734484 [id=\"2150862437589425299.args[0]\"]\n\t7101875186934734484 [label=\"Abstraction.create\" id=-7507020889469263454]\n\t7101875186934734484 -> 3610271697978549640 [id=\"-7507020889469263454.args[0]\"]\n\t3610271697978549640 [label=\"Abstraction.create_variable\" id=3610271697978549640]\n\t3610271697978549640 -> 1599161621090919259 [id=\"3610271697978549640.args[0]\"]\n\t1599161621090919259 [label=\"Variable(4549882824)\" id=1599161621090919259]\n\t7101875186934734484 -> 5290335498051873009 [id=\"-7507020889469263454.args[1]\"]\n\t5290335498051873009 [label=\"Maybe.just\" id=5290335498051873009]\n\t5290335498051873009 -> 3610271697978549640 [id=\"5290335498051873009.args[0]\"]\n\t-4946758099071123717 -> 4322861320834922954 [id=\"2150862437589425299.args[1]\"]\n\t4322861320834922954 [label=\"Abstraction.create\" id=4322861320834922954]\n\t4322861320834922954 -> 6542042015958554903 [id=\"4322861320834922954.args[0]\"]\n\t6542042015958554903 [label=\"Abstraction.create_variable\" id=6542042015958554903]\n\t6542042015958554903 -> -7624210437928555924 [id=\"6542042015958554903.args[0]\"]\n\t-7624210437928555924 [label=\"Variable(4550472592)\" id=-7624210437928555924]\n\t4322861320834922954 -> -6232607634837806632 [id=\"4322861320834922954.args[1]\"]\n\t-6232607634837806632 [label=\"Either.right\" id=-6232607634837806632]\n\t-6232607634837806632 -> 6542042015958554903 [id=\"-6232607634837806632.args[0]\"]\n\t850465293133506366 -> -1741944831158160669 [id=\"-9214882002482918105.args[1]\"]\n\t-1741944831158160669 [label=\"Maybe.nothing\" id=-1741944831158160669]\n\t850465293133506366 -> -2254904298553319150 [id=\"-9214882002482918105.args[2]\"]\n\t-2254904298553319150 [label=\"Abstraction.create\" id=-2254904298553319150]\n\t-2254904298553319150 -> -3068421415838553853 [id=\"-2254904298553319150.args[0]\"]\n\t-3068421415838553853 [label=\"Abstraction.create_variable\" id=-3068421415838553853]\n\t-3068421415838553853 -> 1599161591337719634 [id=\"-3068421415838553853.args[0]\"]\n\t1599161591337719634 [label=\"Variable(4550346232)\" id=1599161591337719634]\n\t-2254904298553319150 -> 6760213600488917919 [id=\"-2254904298553319150.args[1]\"]\n\t6760213600488917919 [label=\"Maybe.just\" id=6760213600488917919]\n\t6760213600488917919 -> 7593629375782685187 [id=\"6760213600488917919.args[0]\"]\n\t7593629375782685187 [label=\"NDArray.__getitem__\" id=7593629375782685187]\n\t7593629375782685187 -> -4101857827642879953 [id=\"7593629375782685187.args[0]\"]\n\t-4101857827642879953 [label=\"Pair.left\" id=-4101857827642879953]\n\t-4101857827642879953 -> -3068421415838553853 [id=\"-4101857827642879953.args[0]\"]\n\t7593629375782685187 -> -2782682249672993803 [id=\"7593629375782685187.args[1]\"]\n\t-2782682249672993803 [label=\"Pair.right\" id=-2782682249672993803]\n\t-2782682249672993803 -> -3068421415838553853 [id=\"-2782682249672993803.args[0]\"]\n}",
         "label": null,
         "rule": "metadsl_core.abstraction.beta_reduce"
        },
        {
         "graph": "digraph {\n\tnode [shape=plain]\n\tedge [arrowsize=0.5 penwidth=0.5]\n\t8137055530438580218 [label=\"NDArrayCompat.to_ndarray\" id=4165022598424862665]\n\t8137055530438580218 -> -11254779807056851 [id=\"4165022598424862665.args[0]\"]\n\t-11254779807056851 [label=\"NDArrayCompat.from_ndarray\" id=-8054137683011941171]\n\t-11254779807056851 -> 3801898921474904983 [id=\"-8054137683011941171.args[0]\"]\n\t3801898921474904983 [label=\"Maybe.match\" id=-9214882002482918105]\n\t3801898921474904983 -> -1367818777895260447 [id=\"-9214882002482918105.args[0]\"]\n\t-1367818777895260447 [label=\"Maybe.__and__\" id=-2256523982435669739]\n\t-1367818777895260447 -> 1244090721317169732 [id=\"-2256523982435669739.args[0]\"]\n\t1244090721317169732 [label=\"Converter.convert\" id=-4906189995990238770]\n\t1244090721317169732 -> -9137942076300492354 [id=\"-4906189995990238770.args[0]\"]\n\t-9137942076300492354 [label=\"NDArrayCompat.__add__\" id=-7098754822566143812]\n\t-9137942076300492354 -> 8873528938243991147 [id=\"-7098754822566143812.args[0]\"]\n\t8873528938243991147 [label=\"NDArrayCompat.from_ndarray\" id=6309009682264249851]\n\t8873528938243991147 -> 4969971528995099444 [id=\"6309009682264249851.args[0]\"]\n\t4969971528995099444 [label=\"Abstraction.__call__\" id=-5254370847906375128]\n\t4969971528995099444 -> 2555543456416554185 [id=\"-5254370847906375128.args[0]\"]\n\t2555543456416554185 [label=\"Abstraction.__add__\" id=-3553652926862722267]\n\t2555543456416554185 -> 4963556996573540580 [id=\"-3553652926862722267.args[0]\"]\n\t4963556996573540580 [label=\"Abstraction.create\" id=-3689034126165086493]\n\t4963556996573540580 -> -2651554774626346251 [id=\"-3689034126165086493.args[0]\"]\n\t-2651554774626346251 [label=\"Abstraction.create_variable\" id=-2651554774626346251]\n\t-2651554774626346251 -> 1599161620968593934 [id=\"-2651554774626346251.args[0]\"]\n\t1599161620968593934 [label=\"Variable(4549884728)\" id=1599161620968593934]\n\t4963556996573540580 -> 8775842784207928853 [id=\"-3689034126165086493.args[1]\"]\n\t8775842784207928853 [label=\"Maybe.just\" id=8775842784207928853]\n\t8775842784207928853 -> -2651554774626346251 [id=\"8775842784207928853.args[0]\"]\n\t2555543456416554185 -> 786997342016145894 [id=\"-3553652926862722267.args[1]\"]\n\t786997342016145894 [label=\"Abstraction.create\" id=786997342016145894]\n\t786997342016145894 -> 6473606452442739172 [id=\"786997342016145894.args[0]\"]\n\t6473606452442739172 [label=\"Abstraction.create_variable\" id=6473606452442739172]\n\t6473606452442739172 -> 1599161586953493384 [id=\"6473606452442739172.args[0]\"]\n\t1599161586953493384 [label=\"Variable(4550411992)\" id=1599161586953493384]\n\t786997342016145894 -> -2616682736920326438 [id=\"786997342016145894.args[1]\"]\n\t-2616682736920326438 [label=arange_ id=-2616682736920326438]\n\t-2616682736920326438 -> 6473606452442739172 [id=\"-2616682736920326438.args[0]\"]\n\t4969971528995099444 -> -6362610179852757995 [id=\"-5254370847906375128.args[1]\"]\n\t-6362610179852757995 [label=\"Integer.from_int\" id=-6362610179852757995]\n\t-6362610179852757995 -> 852842466726619175 [id=\"-6362610179852757995.args[0]\"]\n\t852842466726619175 [label=100 id=852842466726619175]\n\t-9137942076300492354 -> 8873528938243991147 [id=\"-7098754822566143812.args[1]\"]\n\t-1367818777895260447 -> -571292593498884750 [id=\"-2256523982435669739.args[1]\"]\n\t-571292593498884750 [label=\"Maybe.just\" id=7981845083225442043]\n\t-571292593498884750 -> 2234741608541215826 [id=\"7981845083225442043.args[0]\"]\n\t2234741608541215826 [label=\"Either.left\" id=2234741608541215826]\n\t2234741608541215826 -> -7334224414564589854 [id=\"2234741608541215826.args[0]\"]\n\t-7334224414564589854 [label=\"Integer.from_int\" id=-7334224414564589854]\n\t-7334224414564589854 -> 852842466831624100 [id=\"-7334224414564589854.args[0]\"]\n\t852842466831624100 [label=5 id=852842466831624100]\n\t3801898921474904983 -> -1741944831158160669 [id=\"-9214882002482918105.args[1]\"]\n\t-1741944831158160669 [label=\"Maybe.nothing\" id=-1741944831158160669]\n\t3801898921474904983 -> -2254904298553319150 [id=\"-9214882002482918105.args[2]\"]\n\t-2254904298553319150 [label=\"Abstraction.create\" id=-2254904298553319150]\n\t-2254904298553319150 -> -3068421415838553853 [id=\"-2254904298553319150.args[0]\"]\n\t-3068421415838553853 [label=\"Abstraction.create_variable\" id=-3068421415838553853]\n\t-3068421415838553853 -> 1599161591337719634 [id=\"-3068421415838553853.args[0]\"]\n\t1599161591337719634 [label=\"Variable(4550346232)\" id=1599161591337719634]\n\t-2254904298553319150 -> 6760213600488917919 [id=\"-2254904298553319150.args[1]\"]\n\t6760213600488917919 [label=\"Maybe.just\" id=6760213600488917919]\n\t6760213600488917919 -> 7593629375782685187 [id=\"6760213600488917919.args[0]\"]\n\t7593629375782685187 [label=\"NDArray.__getitem__\" id=7593629375782685187]\n\t7593629375782685187 -> -4101857827642879953 [id=\"7593629375782685187.args[0]\"]\n\t-4101857827642879953 [label=\"Pair.left\" id=-4101857827642879953]\n\t-4101857827642879953 -> -3068421415838553853 [id=\"-4101857827642879953.args[0]\"]\n\t7593629375782685187 -> -2782682249672993803 [id=\"7593629375782685187.args[1]\"]\n\t-2782682249672993803 [label=\"Pair.right\" id=-2782682249672993803]\n\t-2782682249672993803 -> -3068421415838553853 [id=\"-2782682249672993803.args[0]\"]\n}",
         "label": null,
         "rule": "metadsl_core.maybe.maybe_or"
        },
        {
         "graph": "digraph {\n\tnode [shape=plain]\n\tedge [arrowsize=0.5 penwidth=0.5]\n\t5129789569511304053 [label=\"NDArrayCompat.to_ndarray\" id=4165022598424862665]\n\t5129789569511304053 -> 1235344416368254646 [id=\"4165022598424862665.args[0]\"]\n\t1235344416368254646 [label=\"NDArrayCompat.from_ndarray\" id=-8054137683011941171]\n\t1235344416368254646 -> -1852183872330473097 [id=\"-8054137683011941171.args[0]\"]\n\t-1852183872330473097 [label=\"Maybe.match\" id=-9214882002482918105]\n\t-1852183872330473097 -> 604144056810708289 [id=\"-9214882002482918105.args[0]\"]\n\t604144056810708289 [label=\"Maybe.__and__\" id=-2256523982435669739]\n\t604144056810708289 -> 6714537880391133730 [id=\"-2256523982435669739.args[0]\"]\n\t6714537880391133730 [label=\"Converter.convert\" id=-4906189995990238770]\n\t6714537880391133730 -> 2642414945364998332 [id=\"-4906189995990238770.args[0]\"]\n\t2642414945364998332 [label=\"NDArrayCompat.__add__\" id=-7098754822566143812]\n\t2642414945364998332 -> 3668952428633282050 [id=\"-7098754822566143812.args[0]\"]\n\t3668952428633282050 [label=\"NDArrayCompat.from_ndarray\" id=6309009682264249851]\n\t3668952428633282050 -> -2636671876811910468 [id=\"6309009682264249851.args[0]\"]\n\t-2636671876811910468 [label=\"Abstraction.__call__\" id=-5254370847906375128]\n\t-2636671876811910468 -> 4874789309870391584 [id=\"-5254370847906375128.args[0]\"]\n\t4874789309870391584 [label=\"Abstraction.create\" id=-3553652926862722267]\n\t4874789309870391584 -> 6473606452442739172 [id=\"-3553652926862722267.args[0]\"]\n\t6473606452442739172 [label=\"Abstraction.create_variable\" id=6473606452442739172]\n\t6473606452442739172 -> 1599161586953493384 [id=\"6473606452442739172.args[0]\"]\n\t1599161586953493384 [label=\"Variable(4550411992)\" id=1599161586953493384]\n\t4874789309870391584 -> 7858559597780916220 [id=\"-3553652926862722267.args[1]\"]\n\t7858559597780916220 [label=\"Maybe.just\" id=7858559597780916220]\n\t7858559597780916220 -> -2616682736920326438 [id=\"7858559597780916220.args[0]\"]\n\t-2616682736920326438 [label=arange_ id=-2616682736920326438]\n\t-2616682736920326438 -> 6473606452442739172 [id=\"-2616682736920326438.args[0]\"]\n\t-2636671876811910468 -> -6362610179852757995 [id=\"-5254370847906375128.args[1]\"]\n\t-6362610179852757995 [label=\"Integer.from_int\" id=-6362610179852757995]\n\t-6362610179852757995 -> 852842466726619175 [id=\"-6362610179852757995.args[0]\"]\n\t852842466726619175 [label=100 id=852842466726619175]\n\t2642414945364998332 -> 3668952428633282050 [id=\"-7098754822566143812.args[1]\"]\n\t604144056810708289 -> -571292593498884750 [id=\"-2256523982435669739.args[1]\"]\n\t-571292593498884750 [label=\"Maybe.just\" id=7981845083225442043]\n\t-571292593498884750 -> 2234741608541215826 [id=\"7981845083225442043.args[0]\"]\n\t2234741608541215826 [label=\"Either.left\" id=2234741608541215826]\n\t2234741608541215826 -> -7334224414564589854 [id=\"2234741608541215826.args[0]\"]\n\t-7334224414564589854 [label=\"Integer.from_int\" id=-7334224414564589854]\n\t-7334224414564589854 -> 852842466831624100 [id=\"-7334224414564589854.args[0]\"]\n\t852842466831624100 [label=5 id=852842466831624100]\n\t-1852183872330473097 -> -1741944831158160669 [id=\"-9214882002482918105.args[1]\"]\n\t-1741944831158160669 [label=\"Maybe.nothing\" id=-1741944831158160669]\n\t-1852183872330473097 -> -2254904298553319150 [id=\"-9214882002482918105.args[2]\"]\n\t-2254904298553319150 [label=\"Abstraction.create\" id=-2254904298553319150]\n\t-2254904298553319150 -> -3068421415838553853 [id=\"-2254904298553319150.args[0]\"]\n\t-3068421415838553853 [label=\"Abstraction.create_variable\" id=-3068421415838553853]\n\t-3068421415838553853 -> 1599161591337719634 [id=\"-3068421415838553853.args[0]\"]\n\t1599161591337719634 [label=\"Variable(4550346232)\" id=1599161591337719634]\n\t-2254904298553319150 -> 6760213600488917919 [id=\"-2254904298553319150.args[1]\"]\n\t6760213600488917919 [label=\"Maybe.just\" id=6760213600488917919]\n\t6760213600488917919 -> 7593629375782685187 [id=\"6760213600488917919.args[0]\"]\n\t7593629375782685187 [label=\"NDArray.__getitem__\" id=7593629375782685187]\n\t7593629375782685187 -> -4101857827642879953 [id=\"7593629375782685187.args[0]\"]\n\t-4101857827642879953 [label=\"Pair.left\" id=-4101857827642879953]\n\t-4101857827642879953 -> -3068421415838553853 [id=\"-4101857827642879953.args[0]\"]\n\t7593629375782685187 -> -2782682249672993803 [id=\"7593629375782685187.args[1]\"]\n\t-2782682249672993803 [label=\"Pair.right\" id=-2782682249672993803]\n\t-2782682249672993803 -> -3068421415838553853 [id=\"-2782682249672993803.args[0]\"]\n}",
         "label": null,
         "rule": "metadsl_core.abstraction.compose"
        },
        {
         "graph": "digraph {\n\tnode [shape=plain]\n\tedge [arrowsize=0.5 penwidth=0.5]\n\t7779841965738362007 [label=\"NDArrayCompat.to_ndarray\" id=4165022598424862665]\n\t7779841965738362007 -> -5842101473834705074 [id=\"4165022598424862665.args[0]\"]\n\t-5842101473834705074 [label=\"NDArrayCompat.from_ndarray\" id=-8054137683011941171]\n\t-5842101473834705074 -> -3186646370078843392 [id=\"-8054137683011941171.args[0]\"]\n\t-3186646370078843392 [label=\"Maybe.match\" id=-9214882002482918105]\n\t-3186646370078843392 -> -557126145891318584 [id=\"-9214882002482918105.args[0]\"]\n\t-557126145891318584 [label=\"Maybe.__and__\" id=-2256523982435669739]\n\t-557126145891318584 -> 338140197606853017 [id=\"-2256523982435669739.args[0]\"]\n\t338140197606853017 [label=\"Converter.convert\" id=-4906189995990238770]\n\t338140197606853017 -> -4699293650293600044 [id=\"-4906189995990238770.args[0]\"]\n\t-4699293650293600044 [label=\"NDArrayCompat.__add__\" id=-7098754822566143812]\n\t-4699293650293600044 -> -7076490350121616374 [id=\"-7098754822566143812.args[0]\"]\n\t-7076490350121616374 [label=\"NDArrayCompat.from_ndarray\" id=6309009682264249851]\n\t-7076490350121616374 -> -1163157815125262957 [id=\"6309009682264249851.args[0]\"]\n\t-1163157815125262957 [label=\"Maybe.just\" id=-5254370847906375128]\n\t-1163157815125262957 -> -2728638420105509621 [id=\"-5254370847906375128.args[0]\"]\n\t-2728638420105509621 [label=arange_ id=-2728638420105509621]\n\t-2728638420105509621 -> -6362610179852757995 [id=\"-2728638420105509621.args[0]\"]\n\t-6362610179852757995 [label=\"Integer.from_int\" id=-6362610179852757995]\n\t-6362610179852757995 -> 852842466726619175 [id=\"-6362610179852757995.args[0]\"]\n\t852842466726619175 [label=100 id=852842466726619175]\n\t-4699293650293600044 -> -7076490350121616374 [id=\"-7098754822566143812.args[1]\"]\n\t-557126145891318584 -> -571292593498884750 [id=\"-2256523982435669739.args[1]\"]\n\t-571292593498884750 [label=\"Maybe.just\" id=7981845083225442043]\n\t-571292593498884750 -> 2234741608541215826 [id=\"7981845083225442043.args[0]\"]\n\t2234741608541215826 [label=\"Either.left\" id=2234741608541215826]\n\t2234741608541215826 -> -7334224414564589854 [id=\"2234741608541215826.args[0]\"]\n\t-7334224414564589854 [label=\"Integer.from_int\" id=-7334224414564589854]\n\t-7334224414564589854 -> 852842466831624100 [id=\"-7334224414564589854.args[0]\"]\n\t852842466831624100 [label=5 id=852842466831624100]\n\t-3186646370078843392 -> -1741944831158160669 [id=\"-9214882002482918105.args[1]\"]\n\t-1741944831158160669 [label=\"Maybe.nothing\" id=-1741944831158160669]\n\t-3186646370078843392 -> -2254904298553319150 [id=\"-9214882002482918105.args[2]\"]\n\t-2254904298553319150 [label=\"Abstraction.create\" id=-2254904298553319150]\n\t-2254904298553319150 -> -3068421415838553853 [id=\"-2254904298553319150.args[0]\"]\n\t-3068421415838553853 [label=\"Abstraction.create_variable\" id=-3068421415838553853]\n\t-3068421415838553853 -> 1599161591337719634 [id=\"-3068421415838553853.args[0]\"]\n\t1599161591337719634 [label=\"Variable(4550346232)\" id=1599161591337719634]\n\t-2254904298553319150 -> 6760213600488917919 [id=\"-2254904298553319150.args[1]\"]\n\t6760213600488917919 [label=\"Maybe.just\" id=6760213600488917919]\n\t6760213600488917919 -> 7593629375782685187 [id=\"6760213600488917919.args[0]\"]\n\t7593629375782685187 [label=\"NDArray.__getitem__\" id=7593629375782685187]\n\t7593629375782685187 -> -4101857827642879953 [id=\"7593629375782685187.args[0]\"]\n\t-4101857827642879953 [label=\"Pair.left\" id=-4101857827642879953]\n\t-4101857827642879953 -> -3068421415838553853 [id=\"-4101857827642879953.args[0]\"]\n\t7593629375782685187 -> -2782682249672993803 [id=\"7593629375782685187.args[1]\"]\n\t-2782682249672993803 [label=\"Pair.right\" id=-2782682249672993803]\n\t-2782682249672993803 -> -3068421415838553853 [id=\"-2782682249672993803.args[0]\"]\n}",
         "label": null,
         "rule": "metadsl_core.abstraction.beta_reduce"
        },
        {
         "graph": "digraph {\n\tnode [shape=plain]\n\tedge [arrowsize=0.5 penwidth=0.5]\n\t-1953676376133218332 [label=\"NDArrayCompat.to_ndarray\" id=4165022598424862665]\n\t-1953676376133218332 -> -1415516388102048813 [id=\"4165022598424862665.args[0]\"]\n\t-1415516388102048813 [label=\"NDArrayCompat.from_ndarray\" id=-8054137683011941171]\n\t-1415516388102048813 -> -672613890357932818 [id=\"-8054137683011941171.args[0]\"]\n\t-672613890357932818 [label=\"Maybe.match\" id=-9214882002482918105]\n\t-672613890357932818 -> 2610055142882305649 [id=\"-9214882002482918105.args[0]\"]\n\t2610055142882305649 [label=\"Maybe.__and__\" id=-2256523982435669739]\n\t2610055142882305649 -> -5891830971523934250 [id=\"-2256523982435669739.args[0]\"]\n\t-5891830971523934250 [label=\"Converter.convert\" id=-4906189995990238770]\n\t-5891830971523934250 -> -4608393608812827134 [id=\"-4906189995990238770.args[0]\"]\n\t-4608393608812827134 [label=\"NDArrayCompat.from_ndarray\" id=-7098754822566143812]\n\t-4608393608812827134 -> 5050840167957568185 [id=\"-7098754822566143812.args[0]\"]\n\t5050840167957568185 [label=\"Maybe.just\" id=5050840167957568185]\n\t5050840167957568185 -> 7295427386607788938 [id=\"5050840167957568185.args[0]\"]\n\t7295427386607788938 [label=\"NDArray.__add__\" id=7295427386607788938]\n\t7295427386607788938 -> -2728638420105509621 [id=\"7295427386607788938.args[0]\"]\n\t-2728638420105509621 [label=arange_ id=-2728638420105509621]\n\t-2728638420105509621 -> -6362610179852757995 [id=\"-2728638420105509621.args[0]\"]\n\t-6362610179852757995 [label=\"Integer.from_int\" id=-6362610179852757995]\n\t-6362610179852757995 -> 852842466726619175 [id=\"-6362610179852757995.args[0]\"]\n\t852842466726619175 [label=100 id=852842466726619175]\n\t7295427386607788938 -> -2728638420105509621 [id=\"7295427386607788938.args[1]\"]\n\t2610055142882305649 -> -571292593498884750 [id=\"-2256523982435669739.args[1]\"]\n\t-571292593498884750 [label=\"Maybe.just\" id=7981845083225442043]\n\t-571292593498884750 -> 2234741608541215826 [id=\"7981845083225442043.args[0]\"]\n\t2234741608541215826 [label=\"Either.left\" id=2234741608541215826]\n\t2234741608541215826 -> -7334224414564589854 [id=\"2234741608541215826.args[0]\"]\n\t-7334224414564589854 [label=\"Integer.from_int\" id=-7334224414564589854]\n\t-7334224414564589854 -> 852842466831624100 [id=\"-7334224414564589854.args[0]\"]\n\t852842466831624100 [label=5 id=852842466831624100]\n\t-672613890357932818 -> -1741944831158160669 [id=\"-9214882002482918105.args[1]\"]\n\t-1741944831158160669 [label=\"Maybe.nothing\" id=-1741944831158160669]\n\t-672613890357932818 -> -2254904298553319150 [id=\"-9214882002482918105.args[2]\"]\n\t-2254904298553319150 [label=\"Abstraction.create\" id=-2254904298553319150]\n\t-2254904298553319150 -> -3068421415838553853 [id=\"-2254904298553319150.args[0]\"]\n\t-3068421415838553853 [label=\"Abstraction.create_variable\" id=-3068421415838553853]\n\t-3068421415838553853 -> 1599161591337719634 [id=\"-3068421415838553853.args[0]\"]\n\t1599161591337719634 [label=\"Variable(4550346232)\" id=1599161591337719634]\n\t-2254904298553319150 -> 6760213600488917919 [id=\"-2254904298553319150.args[1]\"]\n\t6760213600488917919 [label=\"Maybe.just\" id=6760213600488917919]\n\t6760213600488917919 -> 7593629375782685187 [id=\"6760213600488917919.args[0]\"]\n\t7593629375782685187 [label=\"NDArray.__getitem__\" id=7593629375782685187]\n\t7593629375782685187 -> -4101857827642879953 [id=\"7593629375782685187.args[0]\"]\n\t-4101857827642879953 [label=\"Pair.left\" id=-4101857827642879953]\n\t-4101857827642879953 -> -3068421415838553853 [id=\"-4101857827642879953.args[0]\"]\n\t7593629375782685187 -> -2782682249672993803 [id=\"7593629375782685187.args[1]\"]\n\t-2782682249672993803 [label=\"Pair.right\" id=-2782682249672993803]\n\t-2782682249672993803 -> -3068421415838553853 [id=\"-2782682249672993803.args[0]\"]\n}",
         "label": null,
         "rule": "metadsl_core.numpy.add_compat"
        },
        {
         "graph": "digraph {\n\tnode [shape=plain]\n\tedge [arrowsize=0.5 penwidth=0.5]\n\t3230390530602732762 [label=\"NDArrayCompat.to_ndarray\" id=4165022598424862665]\n\t3230390530602732762 -> -7772800199374425648 [id=\"4165022598424862665.args[0]\"]\n\t-7772800199374425648 [label=\"NDArrayCompat.from_ndarray\" id=-8054137683011941171]\n\t-7772800199374425648 -> -498838118920514847 [id=\"-8054137683011941171.args[0]\"]\n\t-498838118920514847 [label=\"Maybe.match\" id=-9214882002482918105]\n\t-498838118920514847 -> -7781987752522514566 [id=\"-9214882002482918105.args[0]\"]\n\t-7781987752522514566 [label=\"Maybe.__and__\" id=-2256523982435669739]\n\t-7781987752522514566 -> 5050840167957568185 [id=\"-2256523982435669739.args[0]\"]\n\t5050840167957568185 [label=\"Maybe.just\" id=5050840167957568185]\n\t5050840167957568185 -> 7295427386607788938 [id=\"5050840167957568185.args[0]\"]\n\t7295427386607788938 [label=\"NDArray.__add__\" id=7295427386607788938]\n\t7295427386607788938 -> -2728638420105509621 [id=\"7295427386607788938.args[0]\"]\n\t-2728638420105509621 [label=arange_ id=-2728638420105509621]\n\t-2728638420105509621 -> -6362610179852757995 [id=\"-2728638420105509621.args[0]\"]\n\t-6362610179852757995 [label=\"Integer.from_int\" id=-6362610179852757995]\n\t-6362610179852757995 -> 852842466726619175 [id=\"-6362610179852757995.args[0]\"]\n\t852842466726619175 [label=100 id=852842466726619175]\n\t7295427386607788938 -> -2728638420105509621 [id=\"7295427386607788938.args[1]\"]\n\t-7781987752522514566 -> -571292593498884750 [id=\"-2256523982435669739.args[1]\"]\n\t-571292593498884750 [label=\"Maybe.just\" id=7981845083225442043]\n\t-571292593498884750 -> 2234741608541215826 [id=\"7981845083225442043.args[0]\"]\n\t2234741608541215826 [label=\"Either.left\" id=2234741608541215826]\n\t2234741608541215826 -> -7334224414564589854 [id=\"2234741608541215826.args[0]\"]\n\t-7334224414564589854 [label=\"Integer.from_int\" id=-7334224414564589854]\n\t-7334224414564589854 -> 852842466831624100 [id=\"-7334224414564589854.args[0]\"]\n\t852842466831624100 [label=5 id=852842466831624100]\n\t-498838118920514847 -> -1741944831158160669 [id=\"-9214882002482918105.args[1]\"]\n\t-1741944831158160669 [label=\"Maybe.nothing\" id=-1741944831158160669]\n\t-498838118920514847 -> -2254904298553319150 [id=\"-9214882002482918105.args[2]\"]\n\t-2254904298553319150 [label=\"Abstraction.create\" id=-2254904298553319150]\n\t-2254904298553319150 -> -3068421415838553853 [id=\"-2254904298553319150.args[0]\"]\n\t-3068421415838553853 [label=\"Abstraction.create_variable\" id=-3068421415838553853]\n\t-3068421415838553853 -> 1599161591337719634 [id=\"-3068421415838553853.args[0]\"]\n\t1599161591337719634 [label=\"Variable(4550346232)\" id=1599161591337719634]\n\t-2254904298553319150 -> 6760213600488917919 [id=\"-2254904298553319150.args[1]\"]\n\t6760213600488917919 [label=\"Maybe.just\" id=6760213600488917919]\n\t6760213600488917919 -> 7593629375782685187 [id=\"6760213600488917919.args[0]\"]\n\t7593629375782685187 [label=\"NDArray.__getitem__\" id=7593629375782685187]\n\t7593629375782685187 -> -4101857827642879953 [id=\"7593629375782685187.args[0]\"]\n\t-4101857827642879953 [label=\"Pair.left\" id=-4101857827642879953]\n\t-4101857827642879953 -> -3068421415838553853 [id=\"-4101857827642879953.args[0]\"]\n\t7593629375782685187 -> -2782682249672993803 [id=\"7593629375782685187.args[1]\"]\n\t-2782682249672993803 [label=\"Pair.right\" id=-2782682249672993803]\n\t-2782682249672993803 -> -3068421415838553853 [id=\"-2782682249672993803.args[0]\"]\n}",
         "label": null,
         "rule": "metadsl_core.numpy.convert_to_ndarray"
        },
        {
         "graph": "digraph {\n\tnode [shape=plain]\n\tedge [arrowsize=0.5 penwidth=0.5]\n\t8766305814287401438 [label=\"NDArrayCompat.to_ndarray\" id=4165022598424862665]\n\t8766305814287401438 -> 3553661590211903312 [id=\"4165022598424862665.args[0]\"]\n\t3553661590211903312 [label=\"NDArrayCompat.from_ndarray\" id=-8054137683011941171]\n\t3553661590211903312 -> -2770036726107558302 [id=\"-8054137683011941171.args[0]\"]\n\t-2770036726107558302 [label=\"Maybe.match\" id=-9214882002482918105]\n\t-2770036726107558302 -> 6427508265334465884 [id=\"-9214882002482918105.args[0]\"]\n\t6427508265334465884 [label=\"Maybe.just\" id=-2256523982435669739]\n\t6427508265334465884 -> -3417637043715638955 [id=\"-2256523982435669739.args[0]\"]\n\t-3417637043715638955 [label=\"Pair.create\" id=-3417637043715638955]\n\t-3417637043715638955 -> 7295427386607788938 [id=\"-3417637043715638955.args[0]\"]\n\t7295427386607788938 [label=\"NDArray.__add__\" id=7295427386607788938]\n\t7295427386607788938 -> -2728638420105509621 [id=\"7295427386607788938.args[0]\"]\n\t-2728638420105509621 [label=arange_ id=-2728638420105509621]\n\t-2728638420105509621 -> -6362610179852757995 [id=\"-2728638420105509621.args[0]\"]\n\t-6362610179852757995 [label=\"Integer.from_int\" id=-6362610179852757995]\n\t-6362610179852757995 -> 852842466726619175 [id=\"-6362610179852757995.args[0]\"]\n\t852842466726619175 [label=100 id=852842466726619175]\n\t7295427386607788938 -> -2728638420105509621 [id=\"7295427386607788938.args[1]\"]\n\t-3417637043715638955 -> 2234741608541215826 [id=\"-3417637043715638955.args[1]\"]\n\t2234741608541215826 [label=\"Either.left\" id=2234741608541215826]\n\t2234741608541215826 -> -7334224414564589854 [id=\"2234741608541215826.args[0]\"]\n\t-7334224414564589854 [label=\"Integer.from_int\" id=-7334224414564589854]\n\t-7334224414564589854 -> 852842466831624100 [id=\"-7334224414564589854.args[0]\"]\n\t852842466831624100 [label=5 id=852842466831624100]\n\t-2770036726107558302 -> -1741944831158160669 [id=\"-9214882002482918105.args[1]\"]\n\t-1741944831158160669 [label=\"Maybe.nothing\" id=-1741944831158160669]\n\t-2770036726107558302 -> -2254904298553319150 [id=\"-9214882002482918105.args[2]\"]\n\t-2254904298553319150 [label=\"Abstraction.create\" id=-2254904298553319150]\n\t-2254904298553319150 -> -3068421415838553853 [id=\"-2254904298553319150.args[0]\"]\n\t-3068421415838553853 [label=\"Abstraction.create_variable\" id=-3068421415838553853]\n\t-3068421415838553853 -> 1599161591337719634 [id=\"-3068421415838553853.args[0]\"]\n\t1599161591337719634 [label=\"Variable(4550346232)\" id=1599161591337719634]\n\t-2254904298553319150 -> 6760213600488917919 [id=\"-2254904298553319150.args[1]\"]\n\t6760213600488917919 [label=\"Maybe.just\" id=6760213600488917919]\n\t6760213600488917919 -> 7593629375782685187 [id=\"6760213600488917919.args[0]\"]\n\t7593629375782685187 [label=\"NDArray.__getitem__\" id=7593629375782685187]\n\t7593629375782685187 -> -4101857827642879953 [id=\"7593629375782685187.args[0]\"]\n\t-4101857827642879953 [label=\"Pair.left\" id=-4101857827642879953]\n\t-4101857827642879953 -> -3068421415838553853 [id=\"-4101857827642879953.args[0]\"]\n\t7593629375782685187 -> -2782682249672993803 [id=\"7593629375782685187.args[1]\"]\n\t-2782682249672993803 [label=\"Pair.right\" id=-2782682249672993803]\n\t-2782682249672993803 -> -3068421415838553853 [id=\"-2782682249672993803.args[0]\"]\n}",
         "label": null,
         "rule": "metadsl_core.maybe.maybe_and"
        },
        {
         "graph": "digraph {\n\tnode [shape=plain]\n\tedge [arrowsize=0.5 penwidth=0.5]\n\t-910310951109169576 [label=\"NDArrayCompat.to_ndarray\" id=4165022598424862665]\n\t-910310951109169576 -> 8609176585799137044 [id=\"4165022598424862665.args[0]\"]\n\t8609176585799137044 [label=\"NDArrayCompat.from_ndarray\" id=-8054137683011941171]\n\t8609176585799137044 -> 4452910682496281740 [id=\"-8054137683011941171.args[0]\"]\n\t4452910682496281740 [label=\"Abstraction.__call__\" id=-9214882002482918105]\n\t4452910682496281740 -> -2254904298553319150 [id=\"-9214882002482918105.args[0]\"]\n\t-2254904298553319150 [label=\"Abstraction.create\" id=-2254904298553319150]\n\t-2254904298553319150 -> -3068421415838553853 [id=\"-2254904298553319150.args[0]\"]\n\t-3068421415838553853 [label=\"Abstraction.create_variable\" id=-3068421415838553853]\n\t-3068421415838553853 -> 1599161591337719634 [id=\"-3068421415838553853.args[0]\"]\n\t1599161591337719634 [label=\"Variable(4550346232)\" id=1599161591337719634]\n\t-2254904298553319150 -> 6760213600488917919 [id=\"-2254904298553319150.args[1]\"]\n\t6760213600488917919 [label=\"Maybe.just\" id=6760213600488917919]\n\t6760213600488917919 -> 7593629375782685187 [id=\"6760213600488917919.args[0]\"]\n\t7593629375782685187 [label=\"NDArray.__getitem__\" id=7593629375782685187]\n\t7593629375782685187 -> -4101857827642879953 [id=\"7593629375782685187.args[0]\"]\n\t-4101857827642879953 [label=\"Pair.left\" id=-4101857827642879953]\n\t-4101857827642879953 -> -3068421415838553853 [id=\"-4101857827642879953.args[0]\"]\n\t7593629375782685187 -> -2782682249672993803 [id=\"7593629375782685187.args[1]\"]\n\t-2782682249672993803 [label=\"Pair.right\" id=-2782682249672993803]\n\t-2782682249672993803 -> -3068421415838553853 [id=\"-2782682249672993803.args[0]\"]\n\t4452910682496281740 -> -3417637043715638955 [id=\"-9214882002482918105.args[1]\"]\n\t-3417637043715638955 [label=\"Pair.create\" id=-3417637043715638955]\n\t-3417637043715638955 -> 7295427386607788938 [id=\"-3417637043715638955.args[0]\"]\n\t7295427386607788938 [label=\"NDArray.__add__\" id=7295427386607788938]\n\t7295427386607788938 -> -2728638420105509621 [id=\"7295427386607788938.args[0]\"]\n\t-2728638420105509621 [label=arange_ id=-2728638420105509621]\n\t-2728638420105509621 -> -6362610179852757995 [id=\"-2728638420105509621.args[0]\"]\n\t-6362610179852757995 [label=\"Integer.from_int\" id=-6362610179852757995]\n\t-6362610179852757995 -> 852842466726619175 [id=\"-6362610179852757995.args[0]\"]\n\t852842466726619175 [label=100 id=852842466726619175]\n\t7295427386607788938 -> -2728638420105509621 [id=\"7295427386607788938.args[1]\"]\n\t-3417637043715638955 -> 2234741608541215826 [id=\"-3417637043715638955.args[1]\"]\n\t2234741608541215826 [label=\"Either.left\" id=2234741608541215826]\n\t2234741608541215826 -> -7334224414564589854 [id=\"2234741608541215826.args[0]\"]\n\t-7334224414564589854 [label=\"Integer.from_int\" id=-7334224414564589854]\n\t-7334224414564589854 -> 852842466831624100 [id=\"-7334224414564589854.args[0]\"]\n\t852842466831624100 [label=5 id=852842466831624100]\n}",
         "label": null,
         "rule": "metadsl_core.maybe.maybe_match"
        },
        {
         "graph": "digraph {\n\tnode [shape=plain]\n\tedge [arrowsize=0.5 penwidth=0.5]\n\t8084026966032417544 [label=\"NDArrayCompat.to_ndarray\" id=4165022598424862665]\n\t8084026966032417544 -> -3198979504917696568 [id=\"4165022598424862665.args[0]\"]\n\t-3198979504917696568 [label=\"NDArrayCompat.from_ndarray\" id=-8054137683011941171]\n\t-3198979504917696568 -> -5959028095944793269 [id=\"-8054137683011941171.args[0]\"]\n\t-5959028095944793269 [label=\"Maybe.just\" id=-9214882002482918105]\n\t-5959028095944793269 -> 6336738595663581056 [id=\"-9214882002482918105.args[0]\"]\n\t6336738595663581056 [label=\"NDArray.__getitem__\" id=6336738595663581056]\n\t6336738595663581056 -> -2166330811180776367 [id=\"6336738595663581056.args[0]\"]\n\t-2166330811180776367 [label=\"Pair.left\" id=-2166330811180776367]\n\t-2166330811180776367 -> -3417637043715638955 [id=\"-2166330811180776367.args[0]\"]\n\t-3417637043715638955 [label=\"Pair.create\" id=-3417637043715638955]\n\t-3417637043715638955 -> 7295427386607788938 [id=\"-3417637043715638955.args[0]\"]\n\t7295427386607788938 [label=\"NDArray.__add__\" id=7295427386607788938]\n\t7295427386607788938 -> -2728638420105509621 [id=\"7295427386607788938.args[0]\"]\n\t-2728638420105509621 [label=arange_ id=-2728638420105509621]\n\t-2728638420105509621 -> -6362610179852757995 [id=\"-2728638420105509621.args[0]\"]\n\t-6362610179852757995 [label=\"Integer.from_int\" id=-6362610179852757995]\n\t-6362610179852757995 -> 852842466726619175 [id=\"-6362610179852757995.args[0]\"]\n\t852842466726619175 [label=100 id=852842466726619175]\n\t7295427386607788938 -> -2728638420105509621 [id=\"7295427386607788938.args[1]\"]\n\t-3417637043715638955 -> 2234741608541215826 [id=\"-3417637043715638955.args[1]\"]\n\t2234741608541215826 [label=\"Either.left\" id=2234741608541215826]\n\t2234741608541215826 -> -7334224414564589854 [id=\"2234741608541215826.args[0]\"]\n\t-7334224414564589854 [label=\"Integer.from_int\" id=-7334224414564589854]\n\t-7334224414564589854 -> 852842466831624100 [id=\"-7334224414564589854.args[0]\"]\n\t852842466831624100 [label=5 id=852842466831624100]\n\t6336738595663581056 -> -7588579201374007797 [id=\"6336738595663581056.args[1]\"]\n\t-7588579201374007797 [label=\"Pair.right\" id=-7588579201374007797]\n\t-7588579201374007797 -> -3417637043715638955 [id=\"-7588579201374007797.args[0]\"]\n}",
         "label": null,
         "rule": "metadsl_core.abstraction.beta_reduce"
        },
        {
         "graph": "digraph {\n\tnode [shape=plain]\n\tedge [arrowsize=0.5 penwidth=0.5]\n\t2283664882045373484 [label=\"NDArrayCompat.to_ndarray\" id=4165022598424862665]\n\t2283664882045373484 -> 4201326982062544042 [id=\"4165022598424862665.args[0]\"]\n\t4201326982062544042 [label=\"NDArrayCompat.from_ndarray\" id=-8054137683011941171]\n\t4201326982062544042 -> -579534469142454861 [id=\"-8054137683011941171.args[0]\"]\n\t-579534469142454861 [label=\"Maybe.just\" id=-9214882002482918105]\n\t-579534469142454861 -> -4902155376939906580 [id=\"-9214882002482918105.args[0]\"]\n\t-4902155376939906580 [label=\"NDArray.__getitem__\" id=6336738595663581056]\n\t-4902155376939906580 -> 7295427386607788938 [id=\"6336738595663581056.args[0]\"]\n\t7295427386607788938 [label=\"NDArray.__add__\" id=7295427386607788938]\n\t7295427386607788938 -> -2728638420105509621 [id=\"7295427386607788938.args[0]\"]\n\t-2728638420105509621 [label=arange_ id=-2728638420105509621]\n\t-2728638420105509621 -> -6362610179852757995 [id=\"-2728638420105509621.args[0]\"]\n\t-6362610179852757995 [label=\"Integer.from_int\" id=-6362610179852757995]\n\t-6362610179852757995 -> 852842466726619175 [id=\"-6362610179852757995.args[0]\"]\n\t852842466726619175 [label=100 id=852842466726619175]\n\t7295427386607788938 -> -2728638420105509621 [id=\"7295427386607788938.args[1]\"]\n\t-4902155376939906580 -> -7588579201374007797 [id=\"6336738595663581056.args[1]\"]\n\t-7588579201374007797 [label=\"Pair.right\" id=-7588579201374007797]\n\t-7588579201374007797 -> -3417637043715638955 [id=\"-7588579201374007797.args[0]\"]\n\t-3417637043715638955 [label=\"Pair.create\" id=-3417637043715638955]\n\t-3417637043715638955 -> 7295427386607788938 [id=\"-3417637043715638955.args[0]\"]\n\t-3417637043715638955 -> 2234741608541215826 [id=\"-3417637043715638955.args[1]\"]\n\t2234741608541215826 [label=\"Either.left\" id=2234741608541215826]\n\t2234741608541215826 -> -7334224414564589854 [id=\"2234741608541215826.args[0]\"]\n\t-7334224414564589854 [label=\"Integer.from_int\" id=-7334224414564589854]\n\t-7334224414564589854 -> 852842466831624100 [id=\"-7334224414564589854.args[0]\"]\n\t852842466831624100 [label=5 id=852842466831624100]\n}",
         "label": null,
         "rule": "metadsl_core.pair.pair_left"
        },
        {
         "graph": "digraph {\n\tnode [shape=plain]\n\tedge [arrowsize=0.5 penwidth=0.5]\n\t-1564021099621676942 [label=\"NDArrayCompat.to_ndarray\" id=4165022598424862665]\n\t-1564021099621676942 -> -2371674733735256586 [id=\"4165022598424862665.args[0]\"]\n\t-2371674733735256586 [label=\"NDArrayCompat.from_ndarray\" id=-8054137683011941171]\n\t-2371674733735256586 -> -5812146582632439367 [id=\"-8054137683011941171.args[0]\"]\n\t-5812146582632439367 [label=\"Maybe.just\" id=-9214882002482918105]\n\t-5812146582632439367 -> 1205271375429879512 [id=\"-9214882002482918105.args[0]\"]\n\t1205271375429879512 [label=\"NDArray.__add__\" id=6336738595663581056]\n\t1205271375429879512 -> 1400731236996670747 [id=\"6336738595663581056.args[0]\"]\n\t1400731236996670747 [label=\"NDArray.__getitem__\" id=1400731236996670747]\n\t1400731236996670747 -> -2728638420105509621 [id=\"1400731236996670747.args[0]\"]\n\t-2728638420105509621 [label=arange_ id=-2728638420105509621]\n\t-2728638420105509621 -> -6362610179852757995 [id=\"-2728638420105509621.args[0]\"]\n\t-6362610179852757995 [label=\"Integer.from_int\" id=-6362610179852757995]\n\t-6362610179852757995 -> 852842466726619175 [id=\"-6362610179852757995.args[0]\"]\n\t852842466726619175 [label=100 id=852842466726619175]\n\t1400731236996670747 -> -7588579201374007797 [id=\"1400731236996670747.args[1]\"]\n\t-7588579201374007797 [label=\"Pair.right\" id=-7588579201374007797]\n\t-7588579201374007797 -> -3417637043715638955 [id=\"-7588579201374007797.args[0]\"]\n\t-3417637043715638955 [label=\"Pair.create\" id=-3417637043715638955]\n\t-3417637043715638955 -> 7295427386607788938 [id=\"-3417637043715638955.args[0]\"]\n\t7295427386607788938 [label=\"NDArray.__add__\" id=7295427386607788938]\n\t7295427386607788938 -> -2728638420105509621 [id=\"7295427386607788938.args[0]\"]\n\t7295427386607788938 -> -2728638420105509621 [id=\"7295427386607788938.args[1]\"]\n\t-3417637043715638955 -> 2234741608541215826 [id=\"-3417637043715638955.args[1]\"]\n\t2234741608541215826 [label=\"Either.left\" id=2234741608541215826]\n\t2234741608541215826 -> -7334224414564589854 [id=\"2234741608541215826.args[0]\"]\n\t-7334224414564589854 [label=\"Integer.from_int\" id=-7334224414564589854]\n\t-7334224414564589854 -> 852842466831624100 [id=\"-7334224414564589854.args[0]\"]\n\t852842466831624100 [label=5 id=852842466831624100]\n\t1205271375429879512 -> 1400731236996670747 [id=\"6336738595663581056.args[1]\"]\n}",
         "label": null,
         "rule": "__main__.optimize_getitem_add"
        },
        {
         "graph": "digraph {\n\tnode [shape=plain]\n\tedge [arrowsize=0.5 penwidth=0.5]\n\t1377817908500687106 [label=\"NDArrayCompat.to_ndarray\" id=4165022598424862665]\n\t1377817908500687106 -> -2304371491104426171 [id=\"4165022598424862665.args[0]\"]\n\t-2304371491104426171 [label=\"NDArrayCompat.from_ndarray\" id=-8054137683011941171]\n\t-2304371491104426171 -> -970106663915368608 [id=\"-8054137683011941171.args[0]\"]\n\t-970106663915368608 [label=\"Maybe.just\" id=-9214882002482918105]\n\t-970106663915368608 -> 7991936205380157322 [id=\"-9214882002482918105.args[0]\"]\n\t7991936205380157322 [label=\"NDArray.__add__\" id=7991936205380157322]\n\t7991936205380157322 -> -8849721174918414579 [id=\"7991936205380157322.args[0]\"]\n\t-8849721174918414579 [label=\"NDArray.__getitem__\" id=-8849721174918414579]\n\t-8849721174918414579 -> -2728638420105509621 [id=\"-8849721174918414579.args[0]\"]\n\t-2728638420105509621 [label=arange_ id=-2728638420105509621]\n\t-2728638420105509621 -> -6362610179852757995 [id=\"-2728638420105509621.args[0]\"]\n\t-6362610179852757995 [label=\"Integer.from_int\" id=-6362610179852757995]\n\t-6362610179852757995 -> 852842466726619175 [id=\"-6362610179852757995.args[0]\"]\n\t852842466726619175 [label=100 id=852842466726619175]\n\t-8849721174918414579 -> 2234741608541215826 [id=\"-8849721174918414579.args[1]\"]\n\t2234741608541215826 [label=\"Either.left\" id=2234741608541215826]\n\t2234741608541215826 -> -7334224414564589854 [id=\"2234741608541215826.args[0]\"]\n\t-7334224414564589854 [label=\"Integer.from_int\" id=-7334224414564589854]\n\t-7334224414564589854 -> 852842466831624100 [id=\"-7334224414564589854.args[0]\"]\n\t852842466831624100 [label=5 id=852842466831624100]\n\t7991936205380157322 -> -8849721174918414579 [id=\"7991936205380157322.args[1]\"]\n}",
         "label": null,
         "rule": "metadsl_core.pair.pair_right"
        },
        {
         "graph": "digraph {\n\tnode [shape=plain]\n\tedge [arrowsize=0.5 penwidth=0.5]\n\t1377817908500687106 [label=\"NDArrayCompat.to_ndarray\" id=4165022598424862665]\n\t1377817908500687106 -> -2304371491104426171 [id=\"4165022598424862665.args[0]\"]\n\t-2304371491104426171 [label=\"NDArrayCompat.from_ndarray\" id=-8054137683011941171]\n\t-2304371491104426171 -> -970106663915368608 [id=\"-8054137683011941171.args[0]\"]\n\t-970106663915368608 [label=\"Maybe.just\" id=-9214882002482918105]\n\t-970106663915368608 -> 7991936205380157322 [id=\"-9214882002482918105.args[0]\"]\n\t7991936205380157322 [label=\"NDArray.__add__\" id=7991936205380157322]\n\t7991936205380157322 -> -8849721174918414579 [id=\"7991936205380157322.args[0]\"]\n\t-8849721174918414579 [label=\"NDArray.__getitem__\" id=-8849721174918414579]\n\t-8849721174918414579 -> -2728638420105509621 [id=\"-8849721174918414579.args[0]\"]\n\t-2728638420105509621 [label=arange_ id=-2728638420105509621]\n\t-2728638420105509621 -> -6362610179852757995 [id=\"-2728638420105509621.args[0]\"]\n\t-6362610179852757995 [label=\"Integer.from_int\" id=-6362610179852757995]\n\t-6362610179852757995 -> 852842466726619175 [id=\"-6362610179852757995.args[0]\"]\n\t852842466726619175 [label=100 id=852842466726619175]\n\t-8849721174918414579 -> 2234741608541215826 [id=\"-8849721174918414579.args[1]\"]\n\t2234741608541215826 [label=\"Either.left\" id=2234741608541215826]\n\t2234741608541215826 -> -7334224414564589854 [id=\"2234741608541215826.args[0]\"]\n\t-7334224414564589854 [label=\"Integer.from_int\" id=-7334224414564589854]\n\t-7334224414564589854 -> 852842466831624100 [id=\"-7334224414564589854.args[0]\"]\n\t852842466831624100 [label=5 id=852842466831624100]\n\t7991936205380157322 -> -8849721174918414579 [id=\"7991936205380157322.args[1]\"]\n}",
         "label": "convert",
         "rule": ""
        },
        {
         "graph": "digraph {\n\tnode [shape=plain]\n\tedge [arrowsize=0.5 penwidth=0.5]\n\t4014423916305480480 [label=\"NDArray.to_ndarray\" id=4165022598424862665]\n\t4014423916305480480 -> 7991936205380157322 [id=\"4165022598424862665.args[0]\"]\n\t7991936205380157322 [label=\"NDArray.__add__\" id=7991936205380157322]\n\t7991936205380157322 -> -8849721174918414579 [id=\"7991936205380157322.args[0]\"]\n\t-8849721174918414579 [label=\"NDArray.__getitem__\" id=-8849721174918414579]\n\t-8849721174918414579 -> -2728638420105509621 [id=\"-8849721174918414579.args[0]\"]\n\t-2728638420105509621 [label=arange_ id=-2728638420105509621]\n\t-2728638420105509621 -> -6362610179852757995 [id=\"-2728638420105509621.args[0]\"]\n\t-6362610179852757995 [label=\"Integer.from_int\" id=-6362610179852757995]\n\t-6362610179852757995 -> 852842466726619175 [id=\"-6362610179852757995.args[0]\"]\n\t852842466726619175 [label=100 id=852842466726619175]\n\t-8849721174918414579 -> 2234741608541215826 [id=\"-8849721174918414579.args[1]\"]\n\t2234741608541215826 [label=\"Either.left\" id=2234741608541215826]\n\t2234741608541215826 -> -7334224414564589854 [id=\"2234741608541215826.args[0]\"]\n\t-7334224414564589854 [label=\"Integer.from_int\" id=-7334224414564589854]\n\t-7334224414564589854 -> 852842466831624100 [id=\"-7334224414564589854.args[0]\"]\n\t852842466831624100 [label=5 id=852842466831624100]\n\t7991936205380157322 -> -8849721174918414579 [id=\"7991936205380157322.args[1]\"]\n}",
         "label": null,
         "rule": "metadsl_core.numpy.box_unbox_ndarray_compat"
        },
        {
         "graph": "digraph {\n\tnode [shape=plain]\n\tedge [arrowsize=0.5 penwidth=0.5]\n\t4314315400247268931 [label=ndarray_add id=4165022598424862665]\n\t4314315400247268931 -> -1405200707188384813 [id=\"4165022598424862665.args[0]\"]\n\t-1405200707188384813 [label=\"NDArray.to_ndarray\" id=-1405200707188384813]\n\t-1405200707188384813 -> -8849721174918414579 [id=\"-1405200707188384813.args[0]\"]\n\t-8849721174918414579 [label=\"NDArray.__getitem__\" id=-8849721174918414579]\n\t-8849721174918414579 -> -2728638420105509621 [id=\"-8849721174918414579.args[0]\"]\n\t-2728638420105509621 [label=arange_ id=-2728638420105509621]\n\t-2728638420105509621 -> -6362610179852757995 [id=\"-2728638420105509621.args[0]\"]\n\t-6362610179852757995 [label=\"Integer.from_int\" id=-6362610179852757995]\n\t-6362610179852757995 -> 852842466726619175 [id=\"-6362610179852757995.args[0]\"]\n\t852842466726619175 [label=100 id=852842466726619175]\n\t-8849721174918414579 -> 2234741608541215826 [id=\"-8849721174918414579.args[1]\"]\n\t2234741608541215826 [label=\"Either.left\" id=2234741608541215826]\n\t2234741608541215826 -> -7334224414564589854 [id=\"2234741608541215826.args[0]\"]\n\t-7334224414564589854 [label=\"Integer.from_int\" id=-7334224414564589854]\n\t-7334224414564589854 -> 852842466831624100 [id=\"-7334224414564589854.args[0]\"]\n\t852842466831624100 [label=5 id=852842466831624100]\n\t4314315400247268931 -> -1405200707188384813 [id=\"4165022598424862665.args[1]\"]\n}",
         "label": null,
         "rule": "metadsl_core.numpy_engine.unbox_ndarray_add"
        },
        {
         "graph": "digraph {\n\tnode [shape=plain]\n\tedge [arrowsize=0.5 penwidth=0.5]\n\t-7564084846842887903 [label=ndarray_add id=4165022598424862665]\n\t-7564084846842887903 -> -3703022898073510393 [id=\"4165022598424862665.args[0]\"]\n\t-3703022898073510393 [label=ndarray_getitem id=-1405200707188384813]\n\t-3703022898073510393 -> 8387922858404920787 [id=\"-1405200707188384813.args[0]\"]\n\t8387922858404920787 [label=\"NDArray.to_ndarray\" id=8387922858404920787]\n\t8387922858404920787 -> -2728638420105509621 [id=\"8387922858404920787.args[0]\"]\n\t-2728638420105509621 [label=arange_ id=-2728638420105509621]\n\t-2728638420105509621 -> -6362610179852757995 [id=\"-2728638420105509621.args[0]\"]\n\t-6362610179852757995 [label=\"Integer.from_int\" id=-6362610179852757995]\n\t-6362610179852757995 -> 852842466726619175 [id=\"-6362610179852757995.args[0]\"]\n\t852842466726619175 [label=100 id=852842466726619175]\n\t-3703022898073510393 -> -242142689691567201 [id=\"-1405200707188384813.args[1]\"]\n\t-242142689691567201 [label=unbox_idxs id=-242142689691567201]\n\t-242142689691567201 -> 2234741608541215826 [id=\"-242142689691567201.args[0]\"]\n\t2234741608541215826 [label=\"Either.left\" id=2234741608541215826]\n\t2234741608541215826 -> -7334224414564589854 [id=\"2234741608541215826.args[0]\"]\n\t-7334224414564589854 [label=\"Integer.from_int\" id=-7334224414564589854]\n\t-7334224414564589854 -> 852842466831624100 [id=\"-7334224414564589854.args[0]\"]\n\t852842466831624100 [label=5 id=852842466831624100]\n\t-7564084846842887903 -> -3703022898073510393 [id=\"4165022598424862665.args[1]\"]\n}",
         "label": null,
         "rule": "metadsl_core.numpy_engine.unbox_ndarray_getitem"
        },
        {
         "graph": "digraph {\n\tnode [shape=plain]\n\tedge [arrowsize=0.5 penwidth=0.5]\n\t7237376763328786737 [label=ndarray_add id=4165022598424862665]\n\t7237376763328786737 -> -4247832016187456177 [id=\"4165022598424862665.args[0]\"]\n\t-4247832016187456177 [label=ndarray_getitem id=-1405200707188384813]\n\t-4247832016187456177 -> 7193990468420720555 [id=\"-1405200707188384813.args[0]\"]\n\t7193990468420720555 [label=arange id=8387922858404920787]\n\t7193990468420720555 -> -3593810371421164704 [id=\"8387922858404920787.args[0]\"]\n\t-3593810371421164704 [label=unbox_integer id=-3593810371421164704]\n\t-3593810371421164704 -> -6362610179852757995 [id=\"-3593810371421164704.args[0]\"]\n\t-6362610179852757995 [label=\"Integer.from_int\" id=-6362610179852757995]\n\t-6362610179852757995 -> 852842466726619175 [id=\"-6362610179852757995.args[0]\"]\n\t852842466726619175 [label=100 id=852842466726619175]\n\t-4247832016187456177 -> -242142689691567201 [id=\"-1405200707188384813.args[1]\"]\n\t-242142689691567201 [label=unbox_idxs id=-242142689691567201]\n\t-242142689691567201 -> 2234741608541215826 [id=\"-242142689691567201.args[0]\"]\n\t2234741608541215826 [label=\"Either.left\" id=2234741608541215826]\n\t2234741608541215826 -> -7334224414564589854 [id=\"2234741608541215826.args[0]\"]\n\t-7334224414564589854 [label=\"Integer.from_int\" id=-7334224414564589854]\n\t-7334224414564589854 -> 852842466831624100 [id=\"-7334224414564589854.args[0]\"]\n\t852842466831624100 [label=5 id=852842466831624100]\n\t7237376763328786737 -> -4247832016187456177 [id=\"4165022598424862665.args[1]\"]\n}",
         "label": null,
         "rule": "metadsl_core.numpy_engine.unbox_arange"
        },
        {
         "graph": "digraph {\n\tnode [shape=plain]\n\tedge [arrowsize=0.5 penwidth=0.5]\n\t3578542254868010315 [label=ndarray_add id=4165022598424862665]\n\t3578542254868010315 -> 1584446835359018919 [id=\"4165022598424862665.args[0]\"]\n\t1584446835359018919 [label=ndarray_getitem id=-1405200707188384813]\n\t1584446835359018919 -> 7193990468420720555 [id=\"-1405200707188384813.args[0]\"]\n\t7193990468420720555 [label=arange id=8387922858404920787]\n\t7193990468420720555 -> -3593810371421164704 [id=\"8387922858404920787.args[0]\"]\n\t-3593810371421164704 [label=unbox_integer id=-3593810371421164704]\n\t-3593810371421164704 -> -6362610179852757995 [id=\"-3593810371421164704.args[0]\"]\n\t-6362610179852757995 [label=\"Integer.from_int\" id=-6362610179852757995]\n\t-6362610179852757995 -> 852842466726619175 [id=\"-6362610179852757995.args[0]\"]\n\t852842466726619175 [label=100 id=852842466726619175]\n\t1584446835359018919 -> 7516757055623286900 [id=\"-1405200707188384813.args[1]\"]\n\t7516757055623286900 [label=unbox_integer id=-242142689691567201]\n\t7516757055623286900 -> -7334224414564589854 [id=\"-242142689691567201.args[0]\"]\n\t-7334224414564589854 [label=\"Integer.from_int\" id=-7334224414564589854]\n\t-7334224414564589854 -> 852842466831624100 [id=\"-7334224414564589854.args[0]\"]\n\t852842466831624100 [label=5 id=852842466831624100]\n\t3578542254868010315 -> 1584446835359018919 [id=\"4165022598424862665.args[1]\"]\n}",
         "label": null,
         "rule": "metadsl_core.numpy_engine.unbox_idxs_rule"
        },
        {
         "graph": "digraph {\n\tnode [shape=plain]\n\tedge [arrowsize=0.5 penwidth=0.5]\n\t-1116489153309032335 [label=ndarray_add id=4165022598424862665]\n\t-1116489153309032335 -> -547873482950551710 [id=\"4165022598424862665.args[0]\"]\n\t-547873482950551710 [label=ndarray_getitem id=-1405200707188384813]\n\t-547873482950551710 -> 7193990468420720555 [id=\"-1405200707188384813.args[0]\"]\n\t7193990468420720555 [label=arange id=8387922858404920787]\n\t7193990468420720555 -> -3593810371421164704 [id=\"8387922858404920787.args[0]\"]\n\t-3593810371421164704 [label=unbox_integer id=-3593810371421164704]\n\t-3593810371421164704 -> -6362610179852757995 [id=\"-3593810371421164704.args[0]\"]\n\t-6362610179852757995 [label=\"Integer.from_int\" id=-6362610179852757995]\n\t-6362610179852757995 -> 852842466726619175 [id=\"-6362610179852757995.args[0]\"]\n\t852842466726619175 [label=100 id=852842466726619175]\n\t-547873482950551710 -> 852842466831624100 [id=\"-1405200707188384813.args[1]\"]\n\t852842466831624100 [label=5 id=852842466831624100]\n\t-1116489153309032335 -> -547873482950551710 [id=\"4165022598424862665.args[1]\"]\n}",
         "label": null,
         "rule": "metadsl_core.numpy_engine.unbox_integer_rule"
        },
        {
         "graph": "digraph {\n\tnode [shape=plain]\n\tedge [arrowsize=0.5 penwidth=0.5]\n\t8958669125193441025 [label=ndarray_add id=4165022598424862665]\n\t8958669125193441025 -> 5972110389137425460 [id=\"4165022598424862665.args[0]\"]\n\t5972110389137425460 [label=ndarray_getitem id=-1405200707188384813]\n\t5972110389137425460 -> -8166652912911790717 [id=\"-1405200707188384813.args[0]\"]\n\t-8166652912911790717 [label=arange id=8387922858404920787]\n\t-8166652912911790717 -> 852842466726619175 [id=\"8387922858404920787.args[0]\"]\n\t852842466726619175 [label=100 id=852842466726619175]\n\t5972110389137425460 -> 852842466831624100 [id=\"-1405200707188384813.args[1]\"]\n\t852842466831624100 [label=5 id=852842466831624100]\n\t8958669125193441025 -> 5972110389137425460 [id=\"4165022598424862665.args[1]\"]\n}",
         "label": null,
         "rule": "metadsl_core.numpy_engine.unbox_integer_rule"
        },
        {
         "graph": "digraph {\n\tnode [shape=plain]\n\tedge [arrowsize=0.5 penwidth=0.5]\n\t8958669125193441025 [label=ndarray_add id=4165022598424862665]\n\t8958669125193441025 -> 5972110389137425460 [id=\"4165022598424862665.args[0]\"]\n\t5972110389137425460 [label=ndarray_getitem id=-1405200707188384813]\n\t5972110389137425460 -> -8166652912911790717 [id=\"-1405200707188384813.args[0]\"]\n\t-8166652912911790717 [label=arange id=8387922858404920787]\n\t-8166652912911790717 -> 852842466726619175 [id=\"8387922858404920787.args[0]\"]\n\t852842466726619175 [label=100 id=852842466726619175]\n\t5972110389137425460 -> 852842466831624100 [id=\"-1405200707188384813.args[1]\"]\n\t852842466831624100 [label=5 id=852842466831624100]\n\t8958669125193441025 -> 5972110389137425460 [id=\"4165022598424862665.args[1]\"]\n}",
         "label": "unbox",
         "rule": ""
        },
        {
         "graph": "digraph {\n\tnode [shape=plain]\n\tedge [arrowsize=0.5 penwidth=0.5]\n\t1089132922689139569 [label=ndarray_add id=4165022598424862665]\n\t1089132922689139569 -> -3959082397011265629 [id=\"4165022598424862665.args[0]\"]\n\t-3959082397011265629 [label=ndarray_getitem id=-1405200707188384813]\n\t-3959082397011265629 -> 6676561542861374325 [id=\"-1405200707188384813.args[0]\"]\n\t6676561542861374325 [label=\"array([ 0,  1,  2,  3,  4,  5,  6,  7,  8,  9, 10, 11, 12, 13, 14, 15, 16,\n       17, 18, 19, 20, 21, 22, 23, 24, 25, 26, 27, 28, 29, 30, 31, 32, 33,\n       34, 35, 36, 37, 38, 39, 40, 41, 42, 43, 44, 45, 46, 47, 48, 49, 50,\n       51, 52, 53, 54, 55, 56, 57, 58, 59, 60, 61, 62, 63, 64, 65, 66, 67,\n       68, 69, 70, 71, 72, 73, 74, 75, 76, 77, 78, 79, 80, 81, 82, 83, 84,\n       85, 86, 87, 88, 89, 90, 91, 92, 93, 94, 95, 96, 97, 98, 99])\" id=8387922858404920787]\n\t-3959082397011265629 -> 852842466831624100 [id=\"-1405200707188384813.args[1]\"]\n\t852842466831624100 [label=5 id=852842466831624100]\n\t1089132922689139569 -> -3959082397011265629 [id=\"4165022598424862665.args[1]\"]\n}",
         "label": null,
         "rule": "metadsl_core.numpy_engine.arange"
        },
        {
         "graph": "digraph {\n\tnode [shape=plain]\n\tedge [arrowsize=0.5 penwidth=0.5]\n\t5317598860892217451 [label=ndarray_add id=4165022598424862665]\n\t5317598860892217451 -> 6676562292211159925 [id=\"4165022598424862665.args[0]\"]\n\t6676562292211159925 [label=\"array(5)\" id=-1405200707188384813]\n\t5317598860892217451 -> 6676562292211159925 [id=\"4165022598424862665.args[1]\"]\n}",
         "label": null,
         "rule": "metadsl_core.numpy_engine.ndarray_getitem"
        },
        {
         "graph": "digraph {\n\tnode [shape=plain]\n\tedge [arrowsize=0.5 penwidth=0.5]\n\t-2565939494599753983 [label=10 id=4165022598424862665]\n}",
         "label": null,
         "rule": "metadsl_core.numpy_engine.ndarray_add"
        },
        {
         "graph": "digraph {\n\tnode [shape=plain]\n\tedge [arrowsize=0.5 penwidth=0.5]\n\t-2565939494599753983 [label=10 id=4165022598424862665]\n}",
         "label": "execute",
         "rule": ""
        }
       ]
      },
      "text/plain": [
       "Typez(definitions=None, nodes={'4165022598424862665': ['4165022598424862665', CallNode(function='NDArrayCompat.to_ndarray', type_params=None, args=['-8054137683011941171'], kwargs=None)], '-8054137683011941171': ['-8054137683011941171', CallNode(function='NDArrayCompat.__getitem__', type_params=None, args=['-5558510579709572674', '852842466831624100'], kwargs=None)], '-5558510579709572674': ['-5558510579709572674', CallNode(function='NDArrayCompat.__add__', type_params=None, args=['971722316536660130', '971722316536660130'], kwargs=None)], '852842466831624100': ['852842466831624100', PrimitiveNode(type='int', repr='5')], '971722316536660130': ['971722316536660130', CallNode(function='arange', type_params=None, args=['852842466726619175'], kwargs=None)], '852842466726619175': ['852842466726619175', PrimitiveNode(type='int', repr='100')], '-241267227046589772': ['4165022598424862665', CallNode(function='NDArrayCompat.to_ndarray', type_params=None, args=['5366071883150323361'], kwargs=None)], '5366071883150323361': ['-8054137683011941171', CallNode(function='NDArrayCompat.from_ndarray', type_params=None, args=['-9214882002482918105'], kwargs=None)], '-9214882002482918105': ['-9214882002482918105', CallNode(function='Maybe.map', type_params={'T': DeclaredTypeInstance(type='Pair', params={'U': DeclaredTypeInstance(type='Either', params={'U': DeclaredTypeInstance(type='Vec', params={'T': DeclaredTypeInstance(type='Integer', params=None)}), 'T': DeclaredTypeInstance(type='Integer', params=None)}), 'T': DeclaredTypeInstance(type='NDArray', params=None)})}, args=['-4814678537500170364', '3418814719444300196'], kwargs=None)], '-4814678537500170364': ['-4814678537500170364', CallNode(function='Maybe.__and__', type_params={'T': DeclaredTypeInstance(type='NDArray', params=None)}, args=['7947258440880147023', '-7413928963025066946'], kwargs=None)], '3418814719444300196': ['3418814719444300196', CallNode(function='Abstraction.from_fn', type_params={'U': DeclaredTypeInstance(type='NDArray', params=None), 'T': DeclaredTypeInstance(type='Pair', params={'U': DeclaredTypeInstance(type='Either', params={'U': DeclaredTypeInstance(type='Vec', params={'T': DeclaredTypeInstance(type='Integer', params=None)}), 'T': DeclaredTypeInstance(type='Integer', params=None)}), 'T': DeclaredTypeInstance(type='NDArray', params=None)})}, args=['-8369638043984791308'], kwargs=None)], '7947258440880147023': ['7947258440880147023', CallNode(function='Converter.convert', type_params={'T': DeclaredTypeInstance(type='NDArray', params=None)}, args=['-5558510579709572674'], kwargs=None)], '-7413928963025066946': ['-7413928963025066946', CallNode(function='Converter.convert', type_params={'T': DeclaredTypeInstance(type='Either', params={'U': DeclaredTypeInstance(type='Vec', params={'T': DeclaredTypeInstance(type='Integer', params=None)}), 'T': DeclaredTypeInstance(type='Integer', params=None)})}, args=['852842466831624100'], kwargs=None)], '-8369638043984791308': ['-8369638043984791308', PrimitiveNode(type='function', repr='<function NDArrayCompat.__getitem__.<locals>.<lambda> at 0x10f675840>')], '6861363800049015634': ['4165022598424862665', CallNode(function='NDArrayCompat.to_ndarray', type_params=None, args=['3342109005677512084'], kwargs=None)], '3342109005677512084': ['-8054137683011941171', CallNode(function='NDArrayCompat.from_ndarray', type_params=None, args=['-3975180199655561458'], kwargs=None)], '-3975180199655561458': ['-9214882002482918105', CallNode(function='Maybe.map', type_params={'T': DeclaredTypeInstance(type='Pair', params={'U': DeclaredTypeInstance(type='Either', params={'U': DeclaredTypeInstance(type='Vec', params={'T': DeclaredTypeInstance(type='Integer', params=None)}), 'T': DeclaredTypeInstance(type='Integer', params=None)}), 'T': DeclaredTypeInstance(type='NDArray', params=None)})}, args=['8199993726224451980', '3418814719444300196'], kwargs=None)], '8199993726224451980': ['-4814678537500170364', CallNode(function='Maybe.__and__', type_params={'T': DeclaredTypeInstance(type='NDArray', params=None)}, args=['7947258440880147023', '-7004180416014216026'], kwargs=None)], '-7004180416014216026': ['-7413928963025066946', CallNode(function='Maybe.__or__', type_params={'T': DeclaredTypeInstance(type='Either', params={'U': DeclaredTypeInstance(type='Vec', params={'T': DeclaredTypeInstance(type='Integer', params=None)}), 'T': DeclaredTypeInstance(type='Integer', params=None)})}, args=['5068959694142403101', '4687392789662792897'], kwargs=None)], '5068959694142403101': ['5068959694142403101', CallNode(function='Maybe.map', type_params={'T': DeclaredTypeInstance(type='Integer', params=None)}, args=['5743490207633551519', '3299436367977257648'], kwargs=None)], '4687392789662792897': ['4687392789662792897', CallNode(function='Maybe.map', type_params={'T': DeclaredTypeInstance(type='Vec', params={'T': DeclaredTypeInstance(type='Integer', params=None)})}, args=['2903062968911337222', '-8841748531208643889'], kwargs=None)], '5743490207633551519': ['5743490207633551519', CallNode(function='Converter.convert', type_params={'T': DeclaredTypeInstance(type='Integer', params=None)}, args=['852842466831624100'], kwargs=None)], '3299436367977257648': ['3299436367977257648', CallNode(function='Abstraction.from_fn', type_params=None, args=['3303217568467687651'], kwargs=None)], '2903062968911337222': ['2903062968911337222', CallNode(function='Converter.convert', type_params={'T': DeclaredTypeInstance(type='Vec', params={'T': DeclaredTypeInstance(type='Integer', params=None)})}, args=['852842466831624100'], kwargs=None)], '-8841748531208643889': ['-8841748531208643889', CallNode(function='Abstraction.from_fn', type_params=None, args=['-1743313584654778961'], kwargs=None)], '3303217568467687651': ['3303217568467687651', PrimitiveNode(type='BoundInfer', repr='Either.left')], '-1743313584654778961': ['-1743313584654778961', PrimitiveNode(type='BoundInfer', repr='Either.right')], '6693806603941273213': ['4165022598424862665', CallNode(function='NDArrayCompat.to_ndarray', type_params=None, args=['-8013479534701788047'], kwargs=None)], '-8013479534701788047': ['-8054137683011941171', CallNode(function='NDArrayCompat.from_ndarray', type_params=None, args=['-2328637521397002667'], kwargs=None)], '-2328637521397002667': ['-9214882002482918105', CallNode(function='Maybe.map', type_params={'T': DeclaredTypeInstance(type='Pair', params={'U': DeclaredTypeInstance(type='Either', params={'U': DeclaredTypeInstance(type='Vec', params={'T': DeclaredTypeInstance(type='Integer', params=None)}), 'T': DeclaredTypeInstance(type='Integer', params=None)}), 'T': DeclaredTypeInstance(type='NDArray', params=None)})}, args=['7268800435487306097', '3418814719444300196'], kwargs=None)], '7268800435487306097': ['-4814678537500170364', CallNode(function='Maybe.__and__', type_params={'T': DeclaredTypeInstance(type='NDArray', params=None)}, args=['-5782871365754188927', '-7004180416014216026'], kwargs=None)], '-5782871365754188927': ['7947258440880147023', CallNode(function='Converter.convert', type_params={'T': DeclaredTypeInstance(type='NDArray', params=None)}, args=['-5952365224410209476'], kwargs=None)], '-5952365224410209476': ['-5558510579709572674', CallNode(function='NDArrayCompat.__add__', type_params=None, args=['1347295785570687419', '1347295785570687419'], kwargs=None)], '1347295785570687419': ['971722316536660130', CallNode(function='NDArrayCompat.from_ndarray', type_params=None, args=['5848963126652067044'], kwargs=None)], '5848963126652067044': ['5848963126652067044', CallNode(function='Maybe.map', type_params={'T': DeclaredTypeInstance(type='Integer', params=None)}, args=['5706060419324713096', '-8550721238847586890'], kwargs=None)], '5706060419324713096': ['5706060419324713096', CallNode(function='Converter.convert', type_params={'T': DeclaredTypeInstance(type='Integer', params=None)}, args=['852842466726619175'], kwargs=None)], '-8550721238847586890': ['-8550721238847586890', CallNode(function='Abstraction.from_fn', type_params=None, args=['5765685988797773240'], kwargs=None)], '5765685988797773240': ['5765685988797773240', PrimitiveNode(type='Infer', repr='arange_')], '-4736513701993601747': ['4165022598424862665', CallNode(function='NDArrayCompat.to_ndarray', type_params=None, args=['2966145761745473501'], kwargs=None)], '2966145761745473501': ['-8054137683011941171', CallNode(function='NDArrayCompat.from_ndarray', type_params=None, args=['-6687655868354507286'], kwargs=None)], '-6687655868354507286': ['-9214882002482918105', CallNode(function='Maybe.map', type_params={'T': DeclaredTypeInstance(type='Pair', params={'U': DeclaredTypeInstance(type='Either', params={'U': DeclaredTypeInstance(type='Vec', params={'T': DeclaredTypeInstance(type='Integer', params=None)}), 'T': DeclaredTypeInstance(type='Integer', params=None)}), 'T': DeclaredTypeInstance(type='NDArray', params=None)})}, args=['3007494864010919930', '3418814719444300196'], kwargs=None)], '3007494864010919930': ['-4814678537500170364', CallNode(function='Maybe.__and__', type_params={'T': DeclaredTypeInstance(type='NDArray', params=None)}, args=['-5782871365754188927', '6856229555535770924'], kwargs=None)], '6856229555535770924': ['-7413928963025066946', CallNode(function='Maybe.__or__', type_params={'T': DeclaredTypeInstance(type='Either', params={'U': DeclaredTypeInstance(type='Vec', params={'T': DeclaredTypeInstance(type='Integer', params=None)}), 'T': DeclaredTypeInstance(type='Integer', params=None)})}, args=['-6449000199390749469', '4687392789662792897'], kwargs=None)], '-6449000199390749469': ['5068959694142403101', CallNode(function='Maybe.map', type_params={'T': DeclaredTypeInstance(type='Integer', params=None)}, args=['-1010262108927125773', '3299436367977257648'], kwargs=None)], '-1010262108927125773': ['-1010262108927125773', CallNode(function='Maybe.just', type_params=None, args=['-7334224414564589854'], kwargs=None)], '-7334224414564589854': ['-7334224414564589854', CallNode(function='Integer.from_int', type_params=None, args=['852842466831624100'], kwargs=None)], '7032651028720082216': ['4165022598424862665', CallNode(function='NDArrayCompat.to_ndarray', type_params=None, args=['-8134450949133358806'], kwargs=None)], '-8134450949133358806': ['-8054137683011941171', CallNode(function='NDArrayCompat.from_ndarray', type_params=None, args=['4336669298831928370'], kwargs=None)], '4336669298831928370': ['-9214882002482918105', CallNode(function='Maybe.map', type_params={'T': DeclaredTypeInstance(type='Pair', params={'U': DeclaredTypeInstance(type='Either', params={'U': DeclaredTypeInstance(type='Vec', params={'T': DeclaredTypeInstance(type='Integer', params=None)}), 'T': DeclaredTypeInstance(type='Integer', params=None)}), 'T': DeclaredTypeInstance(type='NDArray', params=None)})}, args=['-1026313121908345213', '3418814719444300196'], kwargs=None)], '-1026313121908345213': ['-4814678537500170364', CallNode(function='Maybe.__and__', type_params={'T': DeclaredTypeInstance(type='NDArray', params=None)}, args=['-1156468161871471630', '6856229555535770924'], kwargs=None)], '-1156468161871471630': ['7947258440880147023', CallNode(function='Converter.convert', type_params={'T': DeclaredTypeInstance(type='NDArray', params=None)}, args=['-3654042068687366610'], kwargs=None)], '-3654042068687366610': ['-5558510579709572674', CallNode(function='NDArrayCompat.__add__', type_params=None, args=['6583497480016573524', '6583497480016573524'], kwargs=None)], '6583497480016573524': ['971722316536660130', CallNode(function='NDArrayCompat.from_ndarray', type_params=None, args=['-4724715256758988081'], kwargs=None)], '-4724715256758988081': ['5848963126652067044', CallNode(function='Maybe.map', type_params={'T': DeclaredTypeInstance(type='Integer', params=None)}, args=['-5463825541328231257', '-8550721238847586890'], kwargs=None)], '-5463825541328231257': ['-5463825541328231257', CallNode(function='Maybe.just', type_params=None, args=['-6362610179852757995'], kwargs=None)], '-6362610179852757995': ['-6362610179852757995', CallNode(function='Integer.from_int', type_params=None, args=['852842466726619175'], kwargs=None)], '5367850787852783940': ['4165022598424862665', CallNode(function='NDArrayCompat.to_ndarray', type_params=None, args=['8399144763942153968'], kwargs=None)], '8399144763942153968': ['-8054137683011941171', CallNode(function='NDArrayCompat.from_ndarray', type_params=None, args=['-6367256814064021117'], kwargs=None)], '-6367256814064021117': ['-9214882002482918105', CallNode(function='Maybe.map', type_params={'T': DeclaredTypeInstance(type='Pair', params={'U': DeclaredTypeInstance(type='Either', params={'U': DeclaredTypeInstance(type='Vec', params={'T': DeclaredTypeInstance(type='Integer', params=None)}), 'T': DeclaredTypeInstance(type='Integer', params=None)}), 'T': DeclaredTypeInstance(type='NDArray', params=None)})}, args=['-1026313121908345213', '-1550240104841062570'], kwargs=None)], '-1550240104841062570': ['-1550240104841062570', CallNode(function='Abstraction.create', type_params={'U': DeclaredTypeInstance(type='NDArray', params=None), 'T': DeclaredTypeInstance(type='Pair', params={'U': DeclaredTypeInstance(type='Either', params={'U': DeclaredTypeInstance(type='Vec', params={'T': DeclaredTypeInstance(type='Integer', params=None)}), 'T': DeclaredTypeInstance(type='Integer', params=None)}), 'T': DeclaredTypeInstance(type='NDArray', params=None)})}, args=['-3068421415838553853', '7593629375782685187'], kwargs=None)], '-3068421415838553853': ['-3068421415838553853', CallNode(function='Abstraction.create_variable', type_params={'U': DeclaredTypeInstance(type='NDArray', params=None), 'T': DeclaredTypeInstance(type='Pair', params={'U': DeclaredTypeInstance(type='Either', params={'U': DeclaredTypeInstance(type='Vec', params={'T': DeclaredTypeInstance(type='Integer', params=None)}), 'T': DeclaredTypeInstance(type='Integer', params=None)}), 'T': DeclaredTypeInstance(type='NDArray', params=None)})}, args=['1599161591337719634'], kwargs=None)], '7593629375782685187': ['7593629375782685187', CallNode(function='NDArray.__getitem__', type_params=None, args=['-4101857827642879953', '-2782682249672993803'], kwargs=None)], '1599161591337719634': ['1599161591337719634', PrimitiveNode(type='Variable', repr='Variable(4550346232)')], '-4101857827642879953': ['-4101857827642879953', CallNode(function='Pair.left', type_params={'U': DeclaredTypeInstance(type='Either', params={'U': DeclaredTypeInstance(type='Vec', params={'T': DeclaredTypeInstance(type='Integer', params=None)}), 'T': DeclaredTypeInstance(type='Integer', params=None)}), 'T': DeclaredTypeInstance(type='NDArray', params=None)}, args=['-3068421415838553853'], kwargs=None)], '-2782682249672993803': ['-2782682249672993803', CallNode(function='Pair.right', type_params={'U': DeclaredTypeInstance(type='Either', params={'U': DeclaredTypeInstance(type='Vec', params={'T': DeclaredTypeInstance(type='Integer', params=None)}), 'T': DeclaredTypeInstance(type='Integer', params=None)}), 'T': DeclaredTypeInstance(type='NDArray', params=None)}, args=['-3068421415838553853'], kwargs=None)], '-7012798537446400042': ['4165022598424862665', CallNode(function='NDArrayCompat.to_ndarray', type_params=None, args=['-5339197880906422725'], kwargs=None)], '-5339197880906422725': ['-8054137683011941171', CallNode(function='NDArrayCompat.from_ndarray', type_params=None, args=['6442402512975311716'], kwargs=None)], '6442402512975311716': ['-9214882002482918105', CallNode(function='Maybe.map', type_params={'T': DeclaredTypeInstance(type='Pair', params={'U': DeclaredTypeInstance(type='Either', params={'U': DeclaredTypeInstance(type='Vec', params={'T': DeclaredTypeInstance(type='Integer', params=None)}), 'T': DeclaredTypeInstance(type='Integer', params=None)}), 'T': DeclaredTypeInstance(type='NDArray', params=None)})}, args=['-1557203513455568992', '-1550240104841062570'], kwargs=None)], '-1557203513455568992': ['-4814678537500170364', CallNode(function='Maybe.__and__', type_params={'T': DeclaredTypeInstance(type='NDArray', params=None)}, args=['-1156468161871471630', '2784868908810072070'], kwargs=None)], '2784868908810072070': ['-7413928963025066946', CallNode(function='Maybe.__or__', type_params={'T': DeclaredTypeInstance(type='Either', params={'U': DeclaredTypeInstance(type='Vec', params={'T': DeclaredTypeInstance(type='Integer', params=None)}), 'T': DeclaredTypeInstance(type='Integer', params=None)})}, args=['-7124340782382811070', '4687392789662792897'], kwargs=None)], '-7124340782382811070': ['-7124340782382811070', CallNode(function='Maybe.map', type_params={'T': DeclaredTypeInstance(type='Integer', params=None)}, args=['-1010262108927125773', '-1467930441750646094'], kwargs=None)], '-1467930441750646094': ['-1467930441750646094', CallNode(function='Abstraction.create', type_params={'U': DeclaredTypeInstance(type='Either', params={'U': DeclaredTypeInstance(type='Vec', params={'T': DeclaredTypeInstance(type='Integer', params=None)}), 'T': DeclaredTypeInstance(type='Integer', params=None)}), 'T': DeclaredTypeInstance(type='Integer', params=None)}, args=['4436707967317074207', '3571471722856851369'], kwargs=None)], '4436707967317074207': ['4436707967317074207', CallNode(function='Abstraction.create_variable', type_params={'U': DeclaredTypeInstance(type='Either', params={'U': DeclaredTypeInstance(type='Vec', params={'T': DeclaredTypeInstance(type='Integer', params=None)}), 'T': DeclaredTypeInstance(type='Integer', params=None)}), 'T': DeclaredTypeInstance(type='Integer', params=None)}, args=['-7624210414075117549'], kwargs=None)], '3571471722856851369': ['3571471722856851369', CallNode(function='Either.left', type_params={'U': DeclaredTypeInstance(type='Vec', params={'T': DeclaredTypeInstance(type='Integer', params=None)}), 'T': DeclaredTypeInstance(type='Integer', params=None)}, args=['4436707967317074207'], kwargs=None)], '-7624210414075117549': ['-7624210414075117549', PrimitiveNode(type='Variable', repr='Variable(4549890624)')], '7489614136666698405': ['4165022598424862665', CallNode(function='NDArrayCompat.to_ndarray', type_params=None, args=['-6197652143754114584'], kwargs=None)], '-6197652143754114584': ['-8054137683011941171', CallNode(function='NDArrayCompat.from_ndarray', type_params=None, args=['3910236736335774696'], kwargs=None)], '3910236736335774696': ['-9214882002482918105', CallNode(function='Maybe.map', type_params={'T': DeclaredTypeInstance(type='Pair', params={'U': DeclaredTypeInstance(type='Either', params={'U': DeclaredTypeInstance(type='Vec', params={'T': DeclaredTypeInstance(type='Integer', params=None)}), 'T': DeclaredTypeInstance(type='Integer', params=None)}), 'T': DeclaredTypeInstance(type='NDArray', params=None)})}, args=['4514900087869106451', '-1550240104841062570'], kwargs=None)], '4514900087869106451': ['-4814678537500170364', CallNode(function='Maybe.__and__', type_params={'T': DeclaredTypeInstance(type='NDArray', params=None)}, args=['-1156468161871471630', '7981845083225442043'], kwargs=None)], '7981845083225442043': ['7981845083225442043', CallNode(function='Maybe.__or__', type_params={'T': DeclaredTypeInstance(type='Either', params={'U': DeclaredTypeInstance(type='Vec', params={'T': DeclaredTypeInstance(type='Integer', params=None)}), 'T': DeclaredTypeInstance(type='Integer', params=None)})}, args=['-7124340782382811070', '666638544606779544'], kwargs=None)], '666638544606779544': ['666638544606779544', CallNode(function='Maybe.map', type_params={'T': DeclaredTypeInstance(type='Vec', params={'T': DeclaredTypeInstance(type='Integer', params=None)})}, args=['2903062968911337222', '4322861320834922954'], kwargs=None)], '4322861320834922954': ['4322861320834922954', CallNode(function='Abstraction.create', type_params={'U': DeclaredTypeInstance(type='Either', params={'U': DeclaredTypeInstance(type='Vec', params={'T': DeclaredTypeInstance(type='Integer', params=None)}), 'T': DeclaredTypeInstance(type='Integer', params=None)}), 'T': DeclaredTypeInstance(type='Vec', params={'T': DeclaredTypeInstance(type='Integer', params=None)})}, args=['6542042015958554903', '-6232607634837806632'], kwargs=None)], '6542042015958554903': ['6542042015958554903', CallNode(function='Abstraction.create_variable', type_params={'U': DeclaredTypeInstance(type='Either', params={'U': DeclaredTypeInstance(type='Vec', params={'T': DeclaredTypeInstance(type='Integer', params=None)}), 'T': DeclaredTypeInstance(type='Integer', params=None)}), 'T': DeclaredTypeInstance(type='Vec', params={'T': DeclaredTypeInstance(type='Integer', params=None)})}, args=['-7624210437928555924'], kwargs=None)], '-6232607634837806632': ['-6232607634837806632', CallNode(function='Either.right', type_params={'U': DeclaredTypeInstance(type='Vec', params={'T': DeclaredTypeInstance(type='Integer', params=None)}), 'T': DeclaredTypeInstance(type='Integer', params=None)}, args=['6542042015958554903'], kwargs=None)], '-7624210437928555924': ['-7624210437928555924', PrimitiveNode(type='Variable', repr='Variable(4550472592)')], '5690179165623969280': ['4165022598424862665', CallNode(function='NDArrayCompat.to_ndarray', type_params=None, args=['1782797733794455311'], kwargs=None)], '1782797733794455311': ['-8054137683011941171', CallNode(function='NDArrayCompat.from_ndarray', type_params=None, args=['-7850876655565565755'], kwargs=None)], '-7850876655565565755': ['-9214882002482918105', CallNode(function='Maybe.map', type_params={'T': DeclaredTypeInstance(type='Pair', params={'U': DeclaredTypeInstance(type='Either', params={'U': DeclaredTypeInstance(type='Vec', params={'T': DeclaredTypeInstance(type='Integer', params=None)}), 'T': DeclaredTypeInstance(type='Integer', params=None)}), 'T': DeclaredTypeInstance(type='NDArray', params=None)})}, args=['-2256523982435669739', '-1550240104841062570'], kwargs=None)], '-2256523982435669739': ['-2256523982435669739', CallNode(function='Maybe.__and__', type_params={'T': DeclaredTypeInstance(type='NDArray', params=None)}, args=['-4906189995990238770', '7981845083225442043'], kwargs=None)], '-4906189995990238770': ['-4906189995990238770', CallNode(function='Converter.convert', type_params={'T': DeclaredTypeInstance(type='NDArray', params=None)}, args=['-7098754822566143812'], kwargs=None)], '-7098754822566143812': ['-7098754822566143812', CallNode(function='NDArrayCompat.__add__', type_params=None, args=['6309009682264249851', '6309009682264249851'], kwargs=None)], '6309009682264249851': ['6309009682264249851', CallNode(function='NDArrayCompat.from_ndarray', type_params=None, args=['-5254370847906375128'], kwargs=None)], '-5254370847906375128': ['-5254370847906375128', CallNode(function='Maybe.map', type_params={'T': DeclaredTypeInstance(type='Integer', params=None)}, args=['-5463825541328231257', '786997342016145894'], kwargs=None)], '786997342016145894': ['786997342016145894', CallNode(function='Abstraction.create', type_params={'U': DeclaredTypeInstance(type='NDArray', params=None), 'T': DeclaredTypeInstance(type='Integer', params=None)}, args=['6473606452442739172', '-2616682736920326438'], kwargs=None)], '6473606452442739172': ['6473606452442739172', CallNode(function='Abstraction.create_variable', type_params={'U': DeclaredTypeInstance(type='NDArray', params=None), 'T': DeclaredTypeInstance(type='Integer', params=None)}, args=['1599161586953493384'], kwargs=None)], '-2616682736920326438': ['-2616682736920326438', CallNode(function='arange_', type_params=None, args=['6473606452442739172'], kwargs=None)], '1599161586953493384': ['1599161586953493384', PrimitiveNode(type='Variable', repr='Variable(4550411992)')], '-8672196667771993085': ['4165022598424862665', CallNode(function='NDArrayCompat.to_ndarray', type_params=None, args=['-6036359789098202694'], kwargs=None)], '-6036359789098202694': ['-8054137683011941171', CallNode(function='NDArrayCompat.from_ndarray', type_params=None, args=['871004212713699555'], kwargs=None)], '871004212713699555': ['-9214882002482918105', CallNode(function='Maybe.match', type_params={'T': DeclaredTypeInstance(type='Pair', params={'U': DeclaredTypeInstance(type='Either', params={'U': DeclaredTypeInstance(type='Vec', params={'T': DeclaredTypeInstance(type='Integer', params=None)}), 'T': DeclaredTypeInstance(type='Integer', params=None)}), 'T': DeclaredTypeInstance(type='NDArray', params=None)})}, args=['-2256523982435669739', '-1741944831158160669', '-7419500629896554251'], kwargs=None)], '-1741944831158160669': ['-1741944831158160669', CallNode(function='Maybe.nothing', type_params={'T': DeclaredTypeInstance(type='NDArray', params=None)}, args=None, kwargs=None)], '-7419500629896554251': ['-7419500629896554251', CallNode(function='Abstraction.__add__', type_params={'U': DeclaredTypeInstance(type='Maybe', params={'T': DeclaredTypeInstance(type='NDArray', params=None)}), 'T': DeclaredTypeInstance(type='NDArray', params=None)}, args=['-3689034126165086493', '-1550240104841062570'], kwargs=None)], '-3689034126165086493': ['-3689034126165086493', CallNode(function='Abstraction.from_fn', type_params=None, args=['-562755898029559237'], kwargs=None)], '-562755898029559237': ['-562755898029559237', PrimitiveNode(type='BoundInfer', repr='Maybe.just')], '6625563432105728785': ['4165022598424862665', CallNode(function='NDArrayCompat.to_ndarray', type_params=None, args=['-4870123060833598460'], kwargs=None)], '-4870123060833598460': ['-8054137683011941171', CallNode(function='NDArrayCompat.from_ndarray', type_params=None, args=['2405391047222319132'], kwargs=None)], '2405391047222319132': ['-9214882002482918105', CallNode(function='Maybe.match', type_params={'T': DeclaredTypeInstance(type='Pair', params={'U': DeclaredTypeInstance(type='Either', params={'U': DeclaredTypeInstance(type='Vec', params={'T': DeclaredTypeInstance(type='Integer', params=None)}), 'T': DeclaredTypeInstance(type='Integer', params=None)}), 'T': DeclaredTypeInstance(type='NDArray', params=None)})}, args=['1275569033808896220', '-1741944831158160669', '-7419500629896554251'], kwargs=None)], '1275569033808896220': ['-2256523982435669739', CallNode(function='Maybe.__and__', type_params={'T': DeclaredTypeInstance(type='NDArray', params=None)}, args=['-4906189995990238770', '-2819577080870095790'], kwargs=None)], '-2819577080870095790': ['7981845083225442043', CallNode(function='Maybe.__or__', type_params={'T': DeclaredTypeInstance(type='Either', params={'U': DeclaredTypeInstance(type='Vec', params={'T': DeclaredTypeInstance(type='Integer', params=None)}), 'T': DeclaredTypeInstance(type='Integer', params=None)})}, args=['7819625667726201475', '666638544606779544'], kwargs=None)], '7819625667726201475': ['-7124340782382811070', CallNode(function='Maybe.match', type_params={'T': DeclaredTypeInstance(type='Integer', params=None)}, args=['-1010262108927125773', '-3052203273464861294', '2864275428688390516'], kwargs=None)], '-3052203273464861294': ['-3052203273464861294', CallNode(function='Maybe.nothing', type_params={'T': DeclaredTypeInstance(type='Either', params={'U': DeclaredTypeInstance(type='Vec', params={'T': DeclaredTypeInstance(type='Integer', params=None)}), 'T': DeclaredTypeInstance(type='Integer', params=None)})}, args=None, kwargs=None)], '2864275428688390516': ['2864275428688390516', CallNode(function='Abstraction.__add__', type_params={'U': DeclaredTypeInstance(type='Maybe', params={'T': DeclaredTypeInstance(type='Either', params={'U': DeclaredTypeInstance(type='Vec', params={'T': DeclaredTypeInstance(type='Integer', params=None)}), 'T': DeclaredTypeInstance(type='Integer', params=None)})}), 'T': DeclaredTypeInstance(type='Either', params={'U': DeclaredTypeInstance(type='Vec', params={'T': DeclaredTypeInstance(type='Integer', params=None)}), 'T': DeclaredTypeInstance(type='Integer', params=None)})}, args=['-7507020889469263454', '-1467930441750646094'], kwargs=None)], '-7507020889469263454': ['-7507020889469263454', CallNode(function='Abstraction.from_fn', type_params=None, args=['-2266514298468117634'], kwargs=None)], '-2266514298468117634': ['-2266514298468117634', PrimitiveNode(type='BoundInfer', repr='Maybe.just')], '-2950478782509142151': ['4165022598424862665', CallNode(function='NDArrayCompat.to_ndarray', type_params=None, args=['2235556238537552186'], kwargs=None)], '2235556238537552186': ['-8054137683011941171', CallNode(function='NDArrayCompat.from_ndarray', type_params=None, args=['-2020680039428041117'], kwargs=None)], '-2020680039428041117': ['-9214882002482918105', CallNode(function='Maybe.match', type_params={'T': DeclaredTypeInstance(type='Pair', params={'U': DeclaredTypeInstance(type='Either', params={'U': DeclaredTypeInstance(type='Vec', params={'T': DeclaredTypeInstance(type='Integer', params=None)}), 'T': DeclaredTypeInstance(type='Integer', params=None)}), 'T': DeclaredTypeInstance(type='NDArray', params=None)})}, args=['1055037431482305173', '-1741944831158160669', '-7419500629896554251'], kwargs=None)], '1055037431482305173': ['-2256523982435669739', CallNode(function='Maybe.__and__', type_params={'T': DeclaredTypeInstance(type='NDArray', params=None)}, args=['-4906189995990238770', '1095522559647885182'], kwargs=None)], '1095522559647885182': ['7981845083225442043', CallNode(function='Maybe.__or__', type_params={'T': DeclaredTypeInstance(type='Either', params={'U': DeclaredTypeInstance(type='Vec', params={'T': DeclaredTypeInstance(type='Integer', params=None)}), 'T': DeclaredTypeInstance(type='Integer', params=None)})}, args=['124756402025258394', '666638544606779544'], kwargs=None)], '124756402025258394': ['-7124340782382811070', CallNode(function='Abstraction.__call__', type_params={'U': DeclaredTypeInstance(type='Maybe', params={'T': DeclaredTypeInstance(type='Either', params={'U': DeclaredTypeInstance(type='Vec', params={'T': DeclaredTypeInstance(type='Integer', params=None)}), 'T': DeclaredTypeInstance(type='Integer', params=None)})}), 'T': DeclaredTypeInstance(type='Integer', params=None)}, args=['2864275428688390516', '-7334224414564589854'], kwargs=None)], '7707647898813964057': ['4165022598424862665', CallNode(function='NDArrayCompat.to_ndarray', type_params=None, args=['3005298118816773913'], kwargs=None)], '3005298118816773913': ['-8054137683011941171', CallNode(function='NDArrayCompat.from_ndarray', type_params=None, args=['-3029427928634493427'], kwargs=None)], '-3029427928634493427': ['-9214882002482918105', CallNode(function='Maybe.match', type_params={'T': DeclaredTypeInstance(type='Pair', params={'U': DeclaredTypeInstance(type='Either', params={'U': DeclaredTypeInstance(type='Vec', params={'T': DeclaredTypeInstance(type='Integer', params=None)}), 'T': DeclaredTypeInstance(type='Integer', params=None)}), 'T': DeclaredTypeInstance(type='NDArray', params=None)})}, args=['-8433167755193111826', '-1741944831158160669', '-7419500629896554251'], kwargs=None)], '-8433167755193111826': ['-2256523982435669739', CallNode(function='Maybe.__and__', type_params={'T': DeclaredTypeInstance(type='NDArray', params=None)}, args=['-4906189995990238770', '-4938600625655742771'], kwargs=None)], '-4938600625655742771': ['7981845083225442043', CallNode(function='Maybe.__or__', type_params={'T': DeclaredTypeInstance(type='Either', params={'U': DeclaredTypeInstance(type='Vec', params={'T': DeclaredTypeInstance(type='Integer', params=None)}), 'T': DeclaredTypeInstance(type='Integer', params=None)})}, args=['124756402025258394', '4069223967822016012'], kwargs=None)], '4069223967822016012': ['666638544606779544', CallNode(function='Maybe.match', type_params={'T': DeclaredTypeInstance(type='Vec', params={'T': DeclaredTypeInstance(type='Integer', params=None)})}, args=['2903062968911337222', '-3052203273464861294', '2150862437589425299'], kwargs=None)], '2150862437589425299': ['2150862437589425299', CallNode(function='Abstraction.__add__', type_params={'U': DeclaredTypeInstance(type='Maybe', params={'T': DeclaredTypeInstance(type='Either', params={'U': DeclaredTypeInstance(type='Vec', params={'T': DeclaredTypeInstance(type='Integer', params=None)}), 'T': DeclaredTypeInstance(type='Integer', params=None)})}), 'T': DeclaredTypeInstance(type='Either', params={'U': DeclaredTypeInstance(type='Vec', params={'T': DeclaredTypeInstance(type='Integer', params=None)}), 'T': DeclaredTypeInstance(type='Integer', params=None)})}, args=['-7507020889469263454', '4322861320834922954'], kwargs=None)], '-4252058329235867685': ['4165022598424862665', CallNode(function='NDArrayCompat.to_ndarray', type_params=None, args=['-367087397212878688'], kwargs=None)], '-367087397212878688': ['-8054137683011941171', CallNode(function='NDArrayCompat.from_ndarray', type_params=None, args=['-6740074589041225197'], kwargs=None)], '-6740074589041225197': ['-9214882002482918105', CallNode(function='Maybe.match', type_params={'T': DeclaredTypeInstance(type='Pair', params={'U': DeclaredTypeInstance(type='Either', params={'U': DeclaredTypeInstance(type='Vec', params={'T': DeclaredTypeInstance(type='Integer', params=None)}), 'T': DeclaredTypeInstance(type='Integer', params=None)}), 'T': DeclaredTypeInstance(type='NDArray', params=None)})}, args=['-3685428010484980666', '-1741944831158160669', '-7419500629896554251'], kwargs=None)], '-3685428010484980666': ['-2256523982435669739', CallNode(function='Maybe.__and__', type_params={'T': DeclaredTypeInstance(type='NDArray', params=None)}, args=['-3205579016505078363', '-4938600625655742771'], kwargs=None)], '-3205579016505078363': ['-4906189995990238770', CallNode(function='Converter.convert', type_params={'T': DeclaredTypeInstance(type='NDArray', params=None)}, args=['6273833907686124028'], kwargs=None)], '6273833907686124028': ['-7098754822566143812', CallNode(function='NDArrayCompat.__add__', type_params=None, args=['7898050240573050074', '7898050240573050074'], kwargs=None)], '7898050240573050074': ['6309009682264249851', CallNode(function='NDArrayCompat.from_ndarray', type_params=None, args=['7372525104834295168'], kwargs=None)], '7372525104834295168': ['-5254370847906375128', CallNode(function='Maybe.match', type_params={'T': DeclaredTypeInstance(type='Integer', params=None)}, args=['-5463825541328231257', '-1741944831158160669', '-3553652926862722267'], kwargs=None)], '-3553652926862722267': ['-3553652926862722267', CallNode(function='Abstraction.__add__', type_params={'U': DeclaredTypeInstance(type='Maybe', params={'T': DeclaredTypeInstance(type='NDArray', params=None)}), 'T': DeclaredTypeInstance(type='NDArray', params=None)}, args=['-3689034126165086493', '786997342016145894'], kwargs=None)], '-8551260107591658435': ['4165022598424862665', CallNode(function='NDArrayCompat.to_ndarray', type_params=None, args=['5479182216954816684'], kwargs=None)], '5479182216954816684': ['-8054137683011941171', CallNode(function='NDArrayCompat.from_ndarray', type_params=None, args=['-7233160250329376040'], kwargs=None)], '-7233160250329376040': ['-9214882002482918105', CallNode(function='Maybe.match', type_params={'T': DeclaredTypeInstance(type='Pair', params={'U': DeclaredTypeInstance(type='Either', params={'U': DeclaredTypeInstance(type='Vec', params={'T': DeclaredTypeInstance(type='Integer', params=None)}), 'T': DeclaredTypeInstance(type='Integer', params=None)}), 'T': DeclaredTypeInstance(type='NDArray', params=None)})}, args=['4154180677774013375', '-1741944831158160669', '-7419500629896554251'], kwargs=None)], '4154180677774013375': ['-2256523982435669739', CallNode(function='Maybe.__and__', type_params={'T': DeclaredTypeInstance(type='NDArray', params=None)}, args=['-6231609528467553809', '-4938600625655742771'], kwargs=None)], '-6231609528467553809': ['-4906189995990238770', CallNode(function='Converter.convert', type_params={'T': DeclaredTypeInstance(type='NDArray', params=None)}, args=['-2194353901661938916'], kwargs=None)], '-2194353901661938916': ['-7098754822566143812', CallNode(function='NDArrayCompat.__add__', type_params=None, args=['-30235879659792941', '-30235879659792941'], kwargs=None)], '-30235879659792941': ['6309009682264249851', CallNode(function='NDArrayCompat.from_ndarray', type_params=None, args=['2181308972867413742'], kwargs=None)], '2181308972867413742': ['-5254370847906375128', CallNode(function='Abstraction.__call__', type_params={'U': DeclaredTypeInstance(type='Maybe', params={'T': DeclaredTypeInstance(type='NDArray', params=None)}), 'T': DeclaredTypeInstance(type='Integer', params=None)}, args=['-3553652926862722267', '-6362610179852757995'], kwargs=None)], '3895404525822615056': ['4165022598424862665', CallNode(function='NDArrayCompat.to_ndarray', type_params=None, args=['8077630380282570204'], kwargs=None)], '8077630380282570204': ['-8054137683011941171', CallNode(function='NDArrayCompat.from_ndarray', type_params=None, args=['289510125773986789'], kwargs=None)], '289510125773986789': ['-9214882002482918105', CallNode(function='Maybe.match', type_params={'T': DeclaredTypeInstance(type='Pair', params={'U': DeclaredTypeInstance(type='Either', params={'U': DeclaredTypeInstance(type='Vec', params={'T': DeclaredTypeInstance(type='Integer', params=None)}), 'T': DeclaredTypeInstance(type='Integer', params=None)}), 'T': DeclaredTypeInstance(type='NDArray', params=None)})}, args=['944166673721479462', '-1741944831158160669', '4979138128552875321'], kwargs=None)], '944166673721479462': ['-2256523982435669739', CallNode(function='Maybe.__and__', type_params={'T': DeclaredTypeInstance(type='NDArray', params=None)}, args=['1244090721317169732', '-4938600625655742771'], kwargs=None)], '4979138128552875321': ['-7419500629896554251', CallNode(function='Abstraction.__add__', type_params={'U': DeclaredTypeInstance(type='Maybe', params={'T': DeclaredTypeInstance(type='NDArray', params=None)}), 'T': DeclaredTypeInstance(type='NDArray', params=None)}, args=['4963556996573540580', '-1550240104841062570'], kwargs=None)], '1244090721317169732': ['-4906189995990238770', CallNode(function='Converter.convert', type_params={'T': DeclaredTypeInstance(type='NDArray', params=None)}, args=['-9137942076300492354'], kwargs=None)], '4963556996573540580': ['-3689034126165086493', CallNode(function='Abstraction.create', type_params={'U': DeclaredTypeInstance(type='Maybe', params={'T': DeclaredTypeInstance(type='NDArray', params=None)}), 'T': DeclaredTypeInstance(type='NDArray', params=None)}, args=['-2651554774626346251', '8775842784207928853'], kwargs=None)], '-9137942076300492354': ['-7098754822566143812', CallNode(function='NDArrayCompat.__add__', type_params=None, args=['8873528938243991147', '8873528938243991147'], kwargs=None)], '-2651554774626346251': ['-2651554774626346251', CallNode(function='Abstraction.create_variable', type_params={'U': DeclaredTypeInstance(type='Maybe', params={'T': DeclaredTypeInstance(type='NDArray', params=None)}), 'T': DeclaredTypeInstance(type='NDArray', params=None)}, args=['1599161620968593934'], kwargs=None)], '8775842784207928853': ['8775842784207928853', CallNode(function='Maybe.just', type_params={'T': DeclaredTypeInstance(type='NDArray', params=None)}, args=['-2651554774626346251'], kwargs=None)], '8873528938243991147': ['6309009682264249851', CallNode(function='NDArrayCompat.from_ndarray', type_params=None, args=['4969971528995099444'], kwargs=None)], '1599161620968593934': ['1599161620968593934', PrimitiveNode(type='Variable', repr='Variable(4549884728)')], '4969971528995099444': ['-5254370847906375128', CallNode(function='Abstraction.__call__', type_params={'U': DeclaredTypeInstance(type='Maybe', params={'T': DeclaredTypeInstance(type='NDArray', params=None)}), 'T': DeclaredTypeInstance(type='Integer', params=None)}, args=['2555543456416554185', '-6362610179852757995'], kwargs=None)], '2555543456416554185': ['-3553652926862722267', CallNode(function='Abstraction.__add__', type_params={'U': DeclaredTypeInstance(type='Maybe', params={'T': DeclaredTypeInstance(type='NDArray', params=None)}), 'T': DeclaredTypeInstance(type='NDArray', params=None)}, args=['4963556996573540580', '786997342016145894'], kwargs=None)], '-1039774064523142733': ['4165022598424862665', CallNode(function='NDArrayCompat.to_ndarray', type_params=None, args=['5979462813476510758'], kwargs=None)], '5979462813476510758': ['-8054137683011941171', CallNode(function='NDArrayCompat.from_ndarray', type_params=None, args=['-6980183798999553334'], kwargs=None)], '-6980183798999553334': ['-9214882002482918105', CallNode(function='Maybe.match', type_params={'T': DeclaredTypeInstance(type='Pair', params={'U': DeclaredTypeInstance(type='Either', params={'U': DeclaredTypeInstance(type='Vec', params={'T': DeclaredTypeInstance(type='Integer', params=None)}), 'T': DeclaredTypeInstance(type='Integer', params=None)}), 'T': DeclaredTypeInstance(type='NDArray', params=None)})}, args=['-7944983298929643450', '-1741944831158160669', '4979138128552875321'], kwargs=None)], '-7944983298929643450': ['-2256523982435669739', CallNode(function='Maybe.__and__', type_params={'T': DeclaredTypeInstance(type='NDArray', params=None)}, args=['1244090721317169732', '7146915402851765224'], kwargs=None)], '7146915402851765224': ['7981845083225442043', CallNode(function='Maybe.__or__', type_params={'T': DeclaredTypeInstance(type='Either', params={'U': DeclaredTypeInstance(type='Vec', params={'T': DeclaredTypeInstance(type='Integer', params=None)}), 'T': DeclaredTypeInstance(type='Integer', params=None)})}, args=['855529740456915427', '-3868363342371013322'], kwargs=None)], '855529740456915427': ['-7124340782382811070', CallNode(function='Abstraction.__call__', type_params={'U': DeclaredTypeInstance(type='Maybe', params={'T': DeclaredTypeInstance(type='Either', params={'U': DeclaredTypeInstance(type='Vec', params={'T': DeclaredTypeInstance(type='Integer', params=None)}), 'T': DeclaredTypeInstance(type='Integer', params=None)})}), 'T': DeclaredTypeInstance(type='Integer', params=None)}, args=['-1300383532418558388', '-7334224414564589854'], kwargs=None)], '-3868363342371013322': ['666638544606779544', CallNode(function='Maybe.match', type_params={'T': DeclaredTypeInstance(type='Vec', params={'T': DeclaredTypeInstance(type='Integer', params=None)})}, args=['2903062968911337222', '-3052203273464861294', '-4946758099071123717'], kwargs=None)], '-1300383532418558388': ['2864275428688390516', CallNode(function='Abstraction.__add__', type_params={'U': DeclaredTypeInstance(type='Maybe', params={'T': DeclaredTypeInstance(type='Either', params={'U': DeclaredTypeInstance(type='Vec', params={'T': DeclaredTypeInstance(type='Integer', params=None)}), 'T': DeclaredTypeInstance(type='Integer', params=None)})}), 'T': DeclaredTypeInstance(type='Either', params={'U': DeclaredTypeInstance(type='Vec', params={'T': DeclaredTypeInstance(type='Integer', params=None)}), 'T': DeclaredTypeInstance(type='Integer', params=None)})}, args=['7101875186934734484', '-1467930441750646094'], kwargs=None)], '-4946758099071123717': ['2150862437589425299', CallNode(function='Abstraction.__add__', type_params={'U': DeclaredTypeInstance(type='Maybe', params={'T': DeclaredTypeInstance(type='Either', params={'U': DeclaredTypeInstance(type='Vec', params={'T': DeclaredTypeInstance(type='Integer', params=None)}), 'T': DeclaredTypeInstance(type='Integer', params=None)})}), 'T': DeclaredTypeInstance(type='Either', params={'U': DeclaredTypeInstance(type='Vec', params={'T': DeclaredTypeInstance(type='Integer', params=None)}), 'T': DeclaredTypeInstance(type='Integer', params=None)})}, args=['7101875186934734484', '4322861320834922954'], kwargs=None)], '7101875186934734484': ['-7507020889469263454', CallNode(function='Abstraction.create', type_params={'U': DeclaredTypeInstance(type='Maybe', params={'T': DeclaredTypeInstance(type='Either', params={'U': DeclaredTypeInstance(type='Vec', params={'T': DeclaredTypeInstance(type='Integer', params=None)}), 'T': DeclaredTypeInstance(type='Integer', params=None)})}), 'T': DeclaredTypeInstance(type='Either', params={'U': DeclaredTypeInstance(type='Vec', params={'T': DeclaredTypeInstance(type='Integer', params=None)}), 'T': DeclaredTypeInstance(type='Integer', params=None)})}, args=['3610271697978549640', '5290335498051873009'], kwargs=None)], '3610271697978549640': ['3610271697978549640', CallNode(function='Abstraction.create_variable', type_params={'U': DeclaredTypeInstance(type='Maybe', params={'T': DeclaredTypeInstance(type='Either', params={'U': DeclaredTypeInstance(type='Vec', params={'T': DeclaredTypeInstance(type='Integer', params=None)}), 'T': DeclaredTypeInstance(type='Integer', params=None)})}), 'T': DeclaredTypeInstance(type='Either', params={'U': DeclaredTypeInstance(type='Vec', params={'T': DeclaredTypeInstance(type='Integer', params=None)}), 'T': DeclaredTypeInstance(type='Integer', params=None)})}, args=['1599161621090919259'], kwargs=None)], '5290335498051873009': ['5290335498051873009', CallNode(function='Maybe.just', type_params={'T': DeclaredTypeInstance(type='Either', params={'U': DeclaredTypeInstance(type='Vec', params={'T': DeclaredTypeInstance(type='Integer', params=None)}), 'T': DeclaredTypeInstance(type='Integer', params=None)})}, args=['3610271697978549640'], kwargs=None)], '1599161621090919259': ['1599161621090919259', PrimitiveNode(type='Variable', repr='Variable(4549882824)')], '653571269495829655': ['4165022598424862665', CallNode(function='NDArrayCompat.to_ndarray', type_params=None, args=['-7267539924673605809'], kwargs=None)], '-7267539924673605809': ['-8054137683011941171', CallNode(function='NDArrayCompat.from_ndarray', type_params=None, args=['-7192612323262748411'], kwargs=None)], '-7192612323262748411': ['-9214882002482918105', CallNode(function='Maybe.match', type_params={'T': DeclaredTypeInstance(type='Pair', params={'U': DeclaredTypeInstance(type='Either', params={'U': DeclaredTypeInstance(type='Vec', params={'T': DeclaredTypeInstance(type='Integer', params=None)}), 'T': DeclaredTypeInstance(type='Integer', params=None)}), 'T': DeclaredTypeInstance(type='NDArray', params=None)})}, args=['-7944983298929643450', '-1741944831158160669', '-2254904298553319150'], kwargs=None)], '-2254904298553319150': ['-2254904298553319150', CallNode(function='Abstraction.create', type_params=None, args=['-3068421415838553853', '6760213600488917919'], kwargs=None)], '6760213600488917919': ['6760213600488917919', CallNode(function='Maybe.just', type_params={'T': DeclaredTypeInstance(type='NDArray', params=None)}, args=['7593629375782685187'], kwargs=None)], '-1298893307199550344': ['4165022598424862665', CallNode(function='NDArrayCompat.to_ndarray', type_params=None, args=['-5669056253452353415'], kwargs=None)], '-5669056253452353415': ['-8054137683011941171', CallNode(function='NDArrayCompat.from_ndarray', type_params=None, args=['2408542412004543979'], kwargs=None)], '2408542412004543979': ['-9214882002482918105', CallNode(function='Maybe.match', type_params={'T': DeclaredTypeInstance(type='Pair', params={'U': DeclaredTypeInstance(type='Either', params={'U': DeclaredTypeInstance(type='Vec', params={'T': DeclaredTypeInstance(type='Integer', params=None)}), 'T': DeclaredTypeInstance(type='Integer', params=None)}), 'T': DeclaredTypeInstance(type='NDArray', params=None)})}, args=['4041996134992760988', '-1741944831158160669', '-2254904298553319150'], kwargs=None)], '4041996134992760988': ['-2256523982435669739', CallNode(function='Maybe.__and__', type_params={'T': DeclaredTypeInstance(type='NDArray', params=None)}, args=['1244090721317169732', '7789561644180733878'], kwargs=None)], '7789561644180733878': ['7981845083225442043', CallNode(function='Maybe.__or__', type_params={'T': DeclaredTypeInstance(type='Either', params={'U': DeclaredTypeInstance(type='Vec', params={'T': DeclaredTypeInstance(type='Integer', params=None)}), 'T': DeclaredTypeInstance(type='Integer', params=None)})}, args=['-6183565852243245365', '-3868363342371013322'], kwargs=None)], '-6183565852243245365': ['-7124340782382811070', CallNode(function='Abstraction.__call__', type_params={'U': DeclaredTypeInstance(type='Maybe', params={'T': DeclaredTypeInstance(type='Either', params={'U': DeclaredTypeInstance(type='Vec', params={'T': DeclaredTypeInstance(type='Integer', params=None)}), 'T': DeclaredTypeInstance(type='Integer', params=None)})}), 'T': DeclaredTypeInstance(type='Integer', params=None)}, args=['-2962926686881120987', '-7334224414564589854'], kwargs=None)], '-2962926686881120987': ['2864275428688390516', CallNode(function='Abstraction.create', type_params=None, args=['4436707967317074207', '1398509882097183646'], kwargs=None)], '1398509882097183646': ['1398509882097183646', CallNode(function='Maybe.just', type_params={'T': DeclaredTypeInstance(type='Either', params={'U': DeclaredTypeInstance(type='Vec', params={'T': DeclaredTypeInstance(type='Integer', params=None)}), 'T': DeclaredTypeInstance(type='Integer', params=None)})}, args=['3571471722856851369'], kwargs=None)], '-8063324651352519023': ['4165022598424862665', CallNode(function='NDArrayCompat.to_ndarray', type_params=None, args=['-4342200577764080509'], kwargs=None)], '-4342200577764080509': ['-8054137683011941171', CallNode(function='NDArrayCompat.from_ndarray', type_params=None, args=['850465293133506366'], kwargs=None)], '850465293133506366': ['-9214882002482918105', CallNode(function='Maybe.match', type_params={'T': DeclaredTypeInstance(type='Pair', params={'U': DeclaredTypeInstance(type='Either', params={'U': DeclaredTypeInstance(type='Vec', params={'T': DeclaredTypeInstance(type='Integer', params=None)}), 'T': DeclaredTypeInstance(type='Integer', params=None)}), 'T': DeclaredTypeInstance(type='NDArray', params=None)})}, args=['-6145244821123564156', '-1741944831158160669', '-2254904298553319150'], kwargs=None)], '-6145244821123564156': ['-2256523982435669739', CallNode(function='Maybe.__and__', type_params={'T': DeclaredTypeInstance(type='NDArray', params=None)}, args=['1244090721317169732', '-1472911467723800719'], kwargs=None)], '-1472911467723800719': ['7981845083225442043', CallNode(function='Maybe.__or__', type_params={'T': DeclaredTypeInstance(type='Either', params={'U': DeclaredTypeInstance(type='Vec', params={'T': DeclaredTypeInstance(type='Integer', params=None)}), 'T': DeclaredTypeInstance(type='Integer', params=None)})}, args=['-1016045937770588202', '-3868363342371013322'], kwargs=None)], '-1016045937770588202': ['-7124340782382811070', CallNode(function='Maybe.just', type_params={'T': DeclaredTypeInstance(type='Either', params={'U': DeclaredTypeInstance(type='Vec', params={'T': DeclaredTypeInstance(type='Integer', params=None)}), 'T': DeclaredTypeInstance(type='Integer', params=None)})}, args=['2234741608541215826'], kwargs=None)], '2234741608541215826': ['2234741608541215826', CallNode(function='Either.left', type_params={'U': DeclaredTypeInstance(type='Vec', params={'T': DeclaredTypeInstance(type='Integer', params=None)}), 'T': DeclaredTypeInstance(type='Integer', params=None)}, args=['-7334224414564589854'], kwargs=None)], '8137055530438580218': ['4165022598424862665', CallNode(function='NDArrayCompat.to_ndarray', type_params=None, args=['-11254779807056851'], kwargs=None)], '-11254779807056851': ['-8054137683011941171', CallNode(function='NDArrayCompat.from_ndarray', type_params=None, args=['3801898921474904983'], kwargs=None)], '3801898921474904983': ['-9214882002482918105', CallNode(function='Maybe.match', type_params={'T': DeclaredTypeInstance(type='Pair', params={'U': DeclaredTypeInstance(type='Either', params={'U': DeclaredTypeInstance(type='Vec', params={'T': DeclaredTypeInstance(type='Integer', params=None)}), 'T': DeclaredTypeInstance(type='Integer', params=None)}), 'T': DeclaredTypeInstance(type='NDArray', params=None)})}, args=['-1367818777895260447', '-1741944831158160669', '-2254904298553319150'], kwargs=None)], '-1367818777895260447': ['-2256523982435669739', CallNode(function='Maybe.__and__', type_params={'T': DeclaredTypeInstance(type='NDArray', params=None)}, args=['1244090721317169732', '-571292593498884750'], kwargs=None)], '-571292593498884750': ['7981845083225442043', CallNode(function='Maybe.just', type_params=None, args=['2234741608541215826'], kwargs=None)], '5129789569511304053': ['4165022598424862665', CallNode(function='NDArrayCompat.to_ndarray', type_params=None, args=['1235344416368254646'], kwargs=None)], '1235344416368254646': ['-8054137683011941171', CallNode(function='NDArrayCompat.from_ndarray', type_params=None, args=['-1852183872330473097'], kwargs=None)], '-1852183872330473097': ['-9214882002482918105', CallNode(function='Maybe.match', type_params={'T': DeclaredTypeInstance(type='Pair', params={'U': DeclaredTypeInstance(type='Either', params={'U': DeclaredTypeInstance(type='Vec', params={'T': DeclaredTypeInstance(type='Integer', params=None)}), 'T': DeclaredTypeInstance(type='Integer', params=None)}), 'T': DeclaredTypeInstance(type='NDArray', params=None)})}, args=['604144056810708289', '-1741944831158160669', '-2254904298553319150'], kwargs=None)], '604144056810708289': ['-2256523982435669739', CallNode(function='Maybe.__and__', type_params={'T': DeclaredTypeInstance(type='NDArray', params=None)}, args=['6714537880391133730', '-571292593498884750'], kwargs=None)], '6714537880391133730': ['-4906189995990238770', CallNode(function='Converter.convert', type_params={'T': DeclaredTypeInstance(type='NDArray', params=None)}, args=['2642414945364998332'], kwargs=None)], '2642414945364998332': ['-7098754822566143812', CallNode(function='NDArrayCompat.__add__', type_params=None, args=['3668952428633282050', '3668952428633282050'], kwargs=None)], '3668952428633282050': ['6309009682264249851', CallNode(function='NDArrayCompat.from_ndarray', type_params=None, args=['-2636671876811910468'], kwargs=None)], '-2636671876811910468': ['-5254370847906375128', CallNode(function='Abstraction.__call__', type_params={'U': DeclaredTypeInstance(type='Maybe', params={'T': DeclaredTypeInstance(type='NDArray', params=None)}), 'T': DeclaredTypeInstance(type='Integer', params=None)}, args=['4874789309870391584', '-6362610179852757995'], kwargs=None)], '4874789309870391584': ['-3553652926862722267', CallNode(function='Abstraction.create', type_params=None, args=['6473606452442739172', '7858559597780916220'], kwargs=None)], '7858559597780916220': ['7858559597780916220', CallNode(function='Maybe.just', type_params={'T': DeclaredTypeInstance(type='NDArray', params=None)}, args=['-2616682736920326438'], kwargs=None)], '7779841965738362007': ['4165022598424862665', CallNode(function='NDArrayCompat.to_ndarray', type_params=None, args=['-5842101473834705074'], kwargs=None)], '-5842101473834705074': ['-8054137683011941171', CallNode(function='NDArrayCompat.from_ndarray', type_params=None, args=['-3186646370078843392'], kwargs=None)], '-3186646370078843392': ['-9214882002482918105', CallNode(function='Maybe.match', type_params={'T': DeclaredTypeInstance(type='Pair', params={'U': DeclaredTypeInstance(type='Either', params={'U': DeclaredTypeInstance(type='Vec', params={'T': DeclaredTypeInstance(type='Integer', params=None)}), 'T': DeclaredTypeInstance(type='Integer', params=None)}), 'T': DeclaredTypeInstance(type='NDArray', params=None)})}, args=['-557126145891318584', '-1741944831158160669', '-2254904298553319150'], kwargs=None)], '-557126145891318584': ['-2256523982435669739', CallNode(function='Maybe.__and__', type_params={'T': DeclaredTypeInstance(type='NDArray', params=None)}, args=['338140197606853017', '-571292593498884750'], kwargs=None)], '338140197606853017': ['-4906189995990238770', CallNode(function='Converter.convert', type_params={'T': DeclaredTypeInstance(type='NDArray', params=None)}, args=['-4699293650293600044'], kwargs=None)], '-4699293650293600044': ['-7098754822566143812', CallNode(function='NDArrayCompat.__add__', type_params=None, args=['-7076490350121616374', '-7076490350121616374'], kwargs=None)], '-7076490350121616374': ['6309009682264249851', CallNode(function='NDArrayCompat.from_ndarray', type_params=None, args=['-1163157815125262957'], kwargs=None)], '-1163157815125262957': ['-5254370847906375128', CallNode(function='Maybe.just', type_params={'T': DeclaredTypeInstance(type='NDArray', params=None)}, args=['-2728638420105509621'], kwargs=None)], '-2728638420105509621': ['-2728638420105509621', CallNode(function='arange_', type_params=None, args=['-6362610179852757995'], kwargs=None)], '-1953676376133218332': ['4165022598424862665', CallNode(function='NDArrayCompat.to_ndarray', type_params=None, args=['-1415516388102048813'], kwargs=None)], '-1415516388102048813': ['-8054137683011941171', CallNode(function='NDArrayCompat.from_ndarray', type_params=None, args=['-672613890357932818'], kwargs=None)], '-672613890357932818': ['-9214882002482918105', CallNode(function='Maybe.match', type_params={'T': DeclaredTypeInstance(type='Pair', params={'U': DeclaredTypeInstance(type='Either', params={'U': DeclaredTypeInstance(type='Vec', params={'T': DeclaredTypeInstance(type='Integer', params=None)}), 'T': DeclaredTypeInstance(type='Integer', params=None)}), 'T': DeclaredTypeInstance(type='NDArray', params=None)})}, args=['2610055142882305649', '-1741944831158160669', '-2254904298553319150'], kwargs=None)], '2610055142882305649': ['-2256523982435669739', CallNode(function='Maybe.__and__', type_params={'T': DeclaredTypeInstance(type='NDArray', params=None)}, args=['-5891830971523934250', '-571292593498884750'], kwargs=None)], '-5891830971523934250': ['-4906189995990238770', CallNode(function='Converter.convert', type_params={'T': DeclaredTypeInstance(type='NDArray', params=None)}, args=['-4608393608812827134'], kwargs=None)], '-4608393608812827134': ['-7098754822566143812', CallNode(function='NDArrayCompat.from_ndarray', type_params=None, args=['5050840167957568185'], kwargs=None)], '5050840167957568185': ['5050840167957568185', CallNode(function='Maybe.just', type_params=None, args=['7295427386607788938'], kwargs=None)], '7295427386607788938': ['7295427386607788938', CallNode(function='NDArray.__add__', type_params=None, args=['-2728638420105509621', '-2728638420105509621'], kwargs=None)], '3230390530602732762': ['4165022598424862665', CallNode(function='NDArrayCompat.to_ndarray', type_params=None, args=['-7772800199374425648'], kwargs=None)], '-7772800199374425648': ['-8054137683011941171', CallNode(function='NDArrayCompat.from_ndarray', type_params=None, args=['-498838118920514847'], kwargs=None)], '-498838118920514847': ['-9214882002482918105', CallNode(function='Maybe.match', type_params={'T': DeclaredTypeInstance(type='Pair', params={'U': DeclaredTypeInstance(type='Either', params={'U': DeclaredTypeInstance(type='Vec', params={'T': DeclaredTypeInstance(type='Integer', params=None)}), 'T': DeclaredTypeInstance(type='Integer', params=None)}), 'T': DeclaredTypeInstance(type='NDArray', params=None)})}, args=['-7781987752522514566', '-1741944831158160669', '-2254904298553319150'], kwargs=None)], '-7781987752522514566': ['-2256523982435669739', CallNode(function='Maybe.__and__', type_params={'T': DeclaredTypeInstance(type='NDArray', params=None)}, args=['5050840167957568185', '-571292593498884750'], kwargs=None)], '8766305814287401438': ['4165022598424862665', CallNode(function='NDArrayCompat.to_ndarray', type_params=None, args=['3553661590211903312'], kwargs=None)], '3553661590211903312': ['-8054137683011941171', CallNode(function='NDArrayCompat.from_ndarray', type_params=None, args=['-2770036726107558302'], kwargs=None)], '-2770036726107558302': ['-9214882002482918105', CallNode(function='Maybe.match', type_params={'T': DeclaredTypeInstance(type='Pair', params={'U': DeclaredTypeInstance(type='Either', params={'U': DeclaredTypeInstance(type='Vec', params={'T': DeclaredTypeInstance(type='Integer', params=None)}), 'T': DeclaredTypeInstance(type='Integer', params=None)}), 'T': DeclaredTypeInstance(type='NDArray', params=None)})}, args=['6427508265334465884', '-1741944831158160669', '-2254904298553319150'], kwargs=None)], '6427508265334465884': ['-2256523982435669739', CallNode(function='Maybe.just', type_params=None, args=['-3417637043715638955'], kwargs=None)], '-3417637043715638955': ['-3417637043715638955', CallNode(function='Pair.create', type_params=None, args=['7295427386607788938', '2234741608541215826'], kwargs=None)], '-910310951109169576': ['4165022598424862665', CallNode(function='NDArrayCompat.to_ndarray', type_params=None, args=['8609176585799137044'], kwargs=None)], '8609176585799137044': ['-8054137683011941171', CallNode(function='NDArrayCompat.from_ndarray', type_params=None, args=['4452910682496281740'], kwargs=None)], '4452910682496281740': ['-9214882002482918105', CallNode(function='Abstraction.__call__', type_params={'U': DeclaredTypeInstance(type='Maybe', params={'T': DeclaredTypeInstance(type='NDArray', params=None)}), 'T': DeclaredTypeInstance(type='Pair', params={'U': DeclaredTypeInstance(type='Either', params={'U': DeclaredTypeInstance(type='Vec', params={'T': DeclaredTypeInstance(type='Integer', params=None)}), 'T': DeclaredTypeInstance(type='Integer', params=None)}), 'T': DeclaredTypeInstance(type='NDArray', params=None)})}, args=['-2254904298553319150', '-3417637043715638955'], kwargs=None)], '8084026966032417544': ['4165022598424862665', CallNode(function='NDArrayCompat.to_ndarray', type_params=None, args=['-3198979504917696568'], kwargs=None)], '-3198979504917696568': ['-8054137683011941171', CallNode(function='NDArrayCompat.from_ndarray', type_params=None, args=['-5959028095944793269'], kwargs=None)], '-5959028095944793269': ['-9214882002482918105', CallNode(function='Maybe.just', type_params={'T': DeclaredTypeInstance(type='NDArray', params=None)}, args=['6336738595663581056'], kwargs=None)], '6336738595663581056': ['6336738595663581056', CallNode(function='NDArray.__getitem__', type_params=None, args=['-2166330811180776367', '-7588579201374007797'], kwargs=None)], '-2166330811180776367': ['-2166330811180776367', CallNode(function='Pair.left', type_params={'U': DeclaredTypeInstance(type='Either', params={'U': DeclaredTypeInstance(type='Vec', params={'T': DeclaredTypeInstance(type='Integer', params=None)}), 'T': DeclaredTypeInstance(type='Integer', params=None)}), 'T': DeclaredTypeInstance(type='NDArray', params=None)}, args=['-3417637043715638955'], kwargs=None)], '-7588579201374007797': ['-7588579201374007797', CallNode(function='Pair.right', type_params={'U': DeclaredTypeInstance(type='Either', params={'U': DeclaredTypeInstance(type='Vec', params={'T': DeclaredTypeInstance(type='Integer', params=None)}), 'T': DeclaredTypeInstance(type='Integer', params=None)}), 'T': DeclaredTypeInstance(type='NDArray', params=None)}, args=['-3417637043715638955'], kwargs=None)], '2283664882045373484': ['4165022598424862665', CallNode(function='NDArrayCompat.to_ndarray', type_params=None, args=['4201326982062544042'], kwargs=None)], '4201326982062544042': ['-8054137683011941171', CallNode(function='NDArrayCompat.from_ndarray', type_params=None, args=['-579534469142454861'], kwargs=None)], '-579534469142454861': ['-9214882002482918105', CallNode(function='Maybe.just', type_params={'T': DeclaredTypeInstance(type='NDArray', params=None)}, args=['-4902155376939906580'], kwargs=None)], '-4902155376939906580': ['6336738595663581056', CallNode(function='NDArray.__getitem__', type_params=None, args=['7295427386607788938', '-7588579201374007797'], kwargs=None)], '-1564021099621676942': ['4165022598424862665', CallNode(function='NDArrayCompat.to_ndarray', type_params=None, args=['-2371674733735256586'], kwargs=None)], '-2371674733735256586': ['-8054137683011941171', CallNode(function='NDArrayCompat.from_ndarray', type_params=None, args=['-5812146582632439367'], kwargs=None)], '-5812146582632439367': ['-9214882002482918105', CallNode(function='Maybe.just', type_params={'T': DeclaredTypeInstance(type='NDArray', params=None)}, args=['1205271375429879512'], kwargs=None)], '1205271375429879512': ['6336738595663581056', CallNode(function='NDArray.__add__', type_params=None, args=['1400731236996670747', '1400731236996670747'], kwargs=None)], '1400731236996670747': ['1400731236996670747', CallNode(function='NDArray.__getitem__', type_params=None, args=['-2728638420105509621', '-7588579201374007797'], kwargs=None)], '1377817908500687106': ['4165022598424862665', CallNode(function='NDArrayCompat.to_ndarray', type_params=None, args=['-2304371491104426171'], kwargs=None)], '-2304371491104426171': ['-8054137683011941171', CallNode(function='NDArrayCompat.from_ndarray', type_params=None, args=['-970106663915368608'], kwargs=None)], '-970106663915368608': ['-9214882002482918105', CallNode(function='Maybe.just', type_params={'T': DeclaredTypeInstance(type='NDArray', params=None)}, args=['7991936205380157322'], kwargs=None)], '7991936205380157322': ['7991936205380157322', CallNode(function='NDArray.__add__', type_params=None, args=['-8849721174918414579', '-8849721174918414579'], kwargs=None)], '-8849721174918414579': ['-8849721174918414579', CallNode(function='NDArray.__getitem__', type_params=None, args=['-2728638420105509621', '2234741608541215826'], kwargs=None)], '4014423916305480480': ['4165022598424862665', CallNode(function='NDArray.to_ndarray', type_params=None, args=['7991936205380157322'], kwargs=None)], '4314315400247268931': ['4165022598424862665', CallNode(function='ndarray_add', type_params=None, args=['-1405200707188384813', '-1405200707188384813'], kwargs=None)], '-1405200707188384813': ['-1405200707188384813', CallNode(function='NDArray.to_ndarray', type_params=None, args=['-8849721174918414579'], kwargs=None)], '-7564084846842887903': ['4165022598424862665', CallNode(function='ndarray_add', type_params=None, args=['-3703022898073510393', '-3703022898073510393'], kwargs=None)], '-3703022898073510393': ['-1405200707188384813', CallNode(function='ndarray_getitem', type_params=None, args=['8387922858404920787', '-242142689691567201'], kwargs=None)], '8387922858404920787': ['8387922858404920787', CallNode(function='NDArray.to_ndarray', type_params=None, args=['-2728638420105509621'], kwargs=None)], '-242142689691567201': ['-242142689691567201', CallNode(function='unbox_idxs', type_params=None, args=['2234741608541215826'], kwargs=None)], '7237376763328786737': ['4165022598424862665', CallNode(function='ndarray_add', type_params=None, args=['-4247832016187456177', '-4247832016187456177'], kwargs=None)], '-4247832016187456177': ['-1405200707188384813', CallNode(function='ndarray_getitem', type_params=None, args=['7193990468420720555', '-242142689691567201'], kwargs=None)], '7193990468420720555': ['8387922858404920787', CallNode(function='arange', type_params=None, args=['-3593810371421164704'], kwargs=None)], '-3593810371421164704': ['-3593810371421164704', CallNode(function='unbox_integer', type_params=None, args=['-6362610179852757995'], kwargs=None)], '3578542254868010315': ['4165022598424862665', CallNode(function='ndarray_add', type_params=None, args=['1584446835359018919', '1584446835359018919'], kwargs=None)], '1584446835359018919': ['-1405200707188384813', CallNode(function='ndarray_getitem', type_params=None, args=['7193990468420720555', '7516757055623286900'], kwargs=None)], '7516757055623286900': ['-242142689691567201', CallNode(function='unbox_integer', type_params=None, args=['-7334224414564589854'], kwargs=None)], '-1116489153309032335': ['4165022598424862665', CallNode(function='ndarray_add', type_params=None, args=['-547873482950551710', '-547873482950551710'], kwargs=None)], '-547873482950551710': ['-1405200707188384813', CallNode(function='ndarray_getitem', type_params=None, args=['7193990468420720555', '852842466831624100'], kwargs=None)], '8958669125193441025': ['4165022598424862665', CallNode(function='ndarray_add', type_params=None, args=['5972110389137425460', '5972110389137425460'], kwargs=None)], '5972110389137425460': ['-1405200707188384813', CallNode(function='ndarray_getitem', type_params=None, args=['-8166652912911790717', '852842466831624100'], kwargs=None)], '-8166652912911790717': ['8387922858404920787', CallNode(function='arange', type_params=None, args=['852842466726619175'], kwargs=None)], '1089132922689139569': ['4165022598424862665', CallNode(function='ndarray_add', type_params=None, args=['-3959082397011265629', '-3959082397011265629'], kwargs=None)], '-3959082397011265629': ['-1405200707188384813', CallNode(function='ndarray_getitem', type_params=None, args=['6676561542861374325', '852842466831624100'], kwargs=None)], '6676561542861374325': ['8387922858404920787', PrimitiveNode(type='ndarray', repr='array([ 0,  1,  2,  3,  4,  5,  6,  7,  8,  9, 10, 11, 12, 13, 14, 15, 16,\\n       17, 18, 19, 20, 21, 22, 23, 24, 25, 26, 27, 28, 29, 30, 31, 32, 33,\\n       34, 35, 36, 37, 38, 39, 40, 41, 42, 43, 44, 45, 46, 47, 48, 49, 50,\\n       51, 52, 53, 54, 55, 56, 57, 58, 59, 60, 61, 62, 63, 64, 65, 66, 67,\\n       68, 69, 70, 71, 72, 73, 74, 75, 76, 77, 78, 79, 80, 81, 82, 83, 84,\\n       85, 86, 87, 88, 89, 90, 91, 92, 93, 94, 95, 96, 97, 98, 99])')], '5317598860892217451': ['4165022598424862665', CallNode(function='ndarray_add', type_params=None, args=['6676562292211159925', '6676562292211159925'], kwargs=None)], '6676562292211159925': ['-1405200707188384813', PrimitiveNode(type='ndarray', repr='array(5)')], '-2565939494599753983': ['4165022598424862665', PrimitiveNode(type='int64', repr='10')]}, states=States(initial='4165022598424862665', states=[State(node='-241267227046589772', rule='metadsl_core.numpy.NDArrayCompat.__getitem__', label=None), State(node='6861363800049015634', rule='metadsl_core.either.convert_to_either', label=None), State(node='6693806603941273213', rule='metadsl_core.numpy.arange', label=None), State(node='-4736513701993601747', rule='metadsl_core.integer.convert_integer', label=None), State(node='7032651028720082216', rule='metadsl_core.integer.convert_integer', label=None), State(node='5367850787852783940', rule='metadsl_core.abstraction.Abstraction.from_fn', label=None), State(node='-7012798537446400042', rule='metadsl_core.abstraction.Abstraction.from_fn', label=None), State(node='7489614136666698405', rule='metadsl_core.abstraction.Abstraction.from_fn', label=None), State(node='5690179165623969280', rule='metadsl_core.abstraction.Abstraction.from_fn', label=None), State(node='-8672196667771993085', rule='metadsl_core.maybe.Maybe.map', label=None), State(node='6625563432105728785', rule='metadsl_core.maybe.Maybe.map', label=None), State(node='-2950478782509142151', rule='metadsl_core.maybe.maybe_match', label=None), State(node='7707647898813964057', rule='metadsl_core.maybe.Maybe.map', label=None), State(node='-4252058329235867685', rule='metadsl_core.maybe.Maybe.map', label=None), State(node='-8551260107591658435', rule='metadsl_core.maybe.maybe_match', label=None), State(node='3895404525822615056', rule='metadsl_core.abstraction.Abstraction.from_fn', label=None), State(node='-1039774064523142733', rule='metadsl_core.abstraction.Abstraction.from_fn', label=None), State(node='653571269495829655', rule='metadsl_core.abstraction.compose', label=None), State(node='-1298893307199550344', rule='metadsl_core.abstraction.compose', label=None), State(node='-8063324651352519023', rule='metadsl_core.abstraction.beta_reduce', label=None), State(node='8137055530438580218', rule='metadsl_core.maybe.maybe_or', label=None), State(node='5129789569511304053', rule='metadsl_core.abstraction.compose', label=None), State(node='7779841965738362007', rule='metadsl_core.abstraction.beta_reduce', label=None), State(node='-1953676376133218332', rule='metadsl_core.numpy.add_compat', label=None), State(node='3230390530602732762', rule='metadsl_core.numpy.convert_to_ndarray', label=None), State(node='8766305814287401438', rule='metadsl_core.maybe.maybe_and', label=None), State(node='-910310951109169576', rule='metadsl_core.maybe.maybe_match', label=None), State(node='8084026966032417544', rule='metadsl_core.abstraction.beta_reduce', label=None), State(node='2283664882045373484', rule='metadsl_core.pair.pair_left', label=None), State(node='-1564021099621676942', rule='__main__.optimize_getitem_add', label=None), State(node='1377817908500687106', rule='metadsl_core.pair.pair_right', label=None), State(node='1377817908500687106', rule='', label='convert'), State(node='4014423916305480480', rule='metadsl_core.numpy.box_unbox_ndarray_compat', label=None), State(node='4314315400247268931', rule='metadsl_core.numpy_engine.unbox_ndarray_add', label=None), State(node='-7564084846842887903', rule='metadsl_core.numpy_engine.unbox_ndarray_getitem', label=None), State(node='7237376763328786737', rule='metadsl_core.numpy_engine.unbox_arange', label=None), State(node='3578542254868010315', rule='metadsl_core.numpy_engine.unbox_idxs_rule', label=None), State(node='-1116489153309032335', rule='metadsl_core.numpy_engine.unbox_integer_rule', label=None), State(node='8958669125193441025', rule='metadsl_core.numpy_engine.unbox_integer_rule', label=None), State(node='8958669125193441025', rule='', label='unbox'), State(node='1089132922689139569', rule='metadsl_core.numpy_engine.arange', label=None), State(node='5317598860892217451', rule='metadsl_core.numpy_engine.ndarray_getitem', label=None), State(node='-2565939494599753983', rule='metadsl_core.numpy_engine.ndarray_add', label=None), State(node='-2565939494599753983', rule='', label='execute')]))"
      ]
     },
     "metadata": {},
     "output_type": "display_data"
    },
    {
     "data": {
      "text/plain": [
       "10"
      ]
     },
     "metadata": {},
     "output_type": "display_data"
    }
   ],
   "source": [
    "expr = (arange(N) + arange(N))[5].to_ndarray()\n",
    "expr"
   ]
  },
  {
   "cell_type": "markdown",
   "metadata": {},
   "source": [
    "This shows how we can break up the NumPy API into different layers, all of which are extensible:\n",
    "\n",
    "1. A compatibility layer that works like the existing NumPy API, except isn't limited to the Python types of the current API\n",
    "2. A type safe version of this API. The conversion between the compatability layer and this layer is extensible, so that third party authors can add new conversion between their own Python objects and the typed representation.\n",
    "3. A backend layer that translates either back to Python calls or source code, or to other targets like LLVM or Tensorflow.\n",
    "\n",
    "The key is that all these layers are composable, so you could have different frontends for any of them or add your own. This is all done through a typed replacement system that is compatible with static analysis using MyPy.\n",
    "\n",
    "`metadsl` is the glue that allows us to define this API in a way that enables greater greater collaboration. Since each layer has it's own well defined specification, different projects can extend and target these seperate layers, while minimizing the need to explicitly opt in to collaborate. The goal is to enable greater reuse, interoperability, and extensability within the Python scientific ecosystem."
   ]
  }
 ],
 "metadata": {
  "kernelspec": {
   "display_name": "Python 3",
   "language": "python",
   "name": "python3"
  },
  "language_info": {
   "codemirror_mode": {
    "name": "ipython",
    "version": 3
   },
   "file_extension": ".py",
   "mimetype": "text/x-python",
   "name": "python",
   "nbconvert_exporter": "python",
   "pygments_lexer": "ipython3",
   "version": "3.7.3"
  }
 },
 "nbformat": 4,
 "nbformat_minor": 4
}
