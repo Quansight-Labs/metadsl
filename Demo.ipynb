{
 "cells": [
  {
   "cell_type": "markdown",
   "metadata": {},
   "source": [
    "# `metadsl`\n",
    "\n",
    "...is a framework for creating domain specific languages in Python."
   ]
  },
  {
   "cell_type": "code",
   "execution_count": 1,
   "metadata": {},
   "outputs": [],
   "source": [
    "from __future__ import annotations\n",
    "\n",
    "from metadsl import *\n",
    "from metadsl_core import *\n",
    "from metadsl_visualize import *"
   ]
  },
  {
   "cell_type": "markdown",
   "metadata": {},
   "source": [
    "Here, we show a NumPy API compatible DSL that we have started writing. We can create a symbolic expression and then execute it. The widget shows the different stages of execution:"
   ]
  },
  {
   "cell_type": "code",
   "execution_count": 2,
   "metadata": {},
   "outputs": [
    {
     "data": {
      "application/json": {
       "nodes": {
        "-1009273168357572286": {
         "args": [
          "390378103727119285"
         ],
         "function": "metadsl_core.numpy.NDArrayCompat.from_ndarray"
        },
        "-1083094577582095066": {
         "args": [
          "9155254276511678516",
          "4765036408123793029"
         ],
         "function": "metadsl_core.numpy.NDArrayCompat.__add__"
        },
        "-1147415382588726262": {
         "args": [
          "-2306470418200692677",
          "429197055195322326"
         ],
         "function": "metadsl_core.maybe.Maybe.__and__",
         "type_params": {
          "T": {
           "type": "metadsl_core.numpy.NDArray"
          }
         }
        },
        "-1194123969099835682": {
         "args": [
          "8705651404375010812"
         ],
         "function": "metadsl_core.numpy.NDArrayCompat.to_ndarray"
        },
        "-1209413765003230508": {
         "args": [
          "7967336711306262315",
          "-1727098197078088733"
         ],
         "function": "metadsl_core.numpy_engine.ndarray_getitem"
        },
        "-1459393024097487154": {
         "args": [
          "-3776049005220402373",
          "-4064207154291991267"
         ],
         "function": "metadsl_core.abstraction.Abstraction.create",
         "type_params": {
          "T": {
           "type": "metadsl_core.integer.Integer"
          },
          "U": {
           "type": "metadsl_core.numpy.NDArray"
          }
         }
        },
        "-1577388983039126609": {
         "args": [
          "-7661950433982450966",
          "4130506920816483144"
         ],
         "function": "metadsl_core.maybe.Maybe.map",
         "type_params": {
          "T": {
           "type": "metadsl_core.integer.Integer"
          }
         }
        },
        "-1634153577544591591": {
         "function": "metadsl_core.maybe.Maybe.nothing",
         "type_params": {
          "T": {
           "type": "metadsl_core.numpy.NDArray"
          }
         }
        },
        "-1641994168720333632": {
         "args": [
          "3464002892713393029",
          "-1727098197078088733"
         ],
         "function": "metadsl_core.numpy_engine.ndarray_getitem"
        },
        "-1650449521913670327": {
         "args": [
          "4334974619117012171"
         ],
         "function": "metadsl_core.numpy_engine.unbox_integer"
        },
        "-1682084061976265732": {
         "args": [
          "2256881646464358263"
         ],
         "function": "metadsl_core.abstraction.Abstraction.create_variable",
         "type_params": {
          "T": {
           "params": {
            "T": {
             "type": "metadsl_core.numpy.NDArray"
            },
            "U": {
             "params": {
              "T": {
               "type": "metadsl_core.integer.Integer"
              },
              "U": {
               "params": {
                "T": {
                 "type": "metadsl_core.integer.Integer"
                }
               },
               "type": "metadsl_core.vec.Vec"
              }
             },
             "type": "metadsl_core.either.Either"
            }
           },
           "type": "metadsl_core.pair.Pair"
          },
          "U": {
           "type": "metadsl_core.numpy.NDArray"
          }
         }
        },
        "-1703772318083535964": {
         "args": [
          "-7738163237082567838",
          "625173368782505159"
         ],
         "function": "metadsl_core.abstraction.Abstraction.create",
         "type_params": {
          "T": {
           "type": "metadsl_core.integer.Integer"
          },
          "U": {
           "params": {
            "T": {
             "type": "metadsl_core.integer.Integer"
            },
            "U": {
             "params": {
              "T": {
               "type": "metadsl_core.integer.Integer"
              }
             },
             "type": "metadsl_core.vec.Vec"
            }
           },
           "type": "metadsl_core.either.Either"
          }
         }
        },
        "-1727098197078088733": {
         "args": [
          "-4935307720403575888"
         ],
         "function": "metadsl_core.numpy_engine.unbox_idxs"
        },
        "-1739529532081165970": {
         "args": [
          "7654507105801674437"
         ],
         "function": "metadsl_core.numpy.NDArrayCompat.to_ndarray"
        },
        "-1748392540487243140": {
         "args": [
          "3018242890888721158"
         ],
         "function": "metadsl_core.abstraction.Abstraction.from_fn"
        },
        "-1749453601745282915": {
         "args": [
          "971993382396993675",
          "-8279248212145704116"
         ],
         "function": "metadsl_core.maybe.Maybe.__and__",
         "type_params": {
          "T": {
           "type": "metadsl_core.numpy.NDArray"
          }
         }
        },
        "-1845100254673235209": {
         "args": [
          "1307406489829571386"
         ],
         "function": "metadsl_core.numpy.NDArrayCompat.from_ndarray"
        },
        "-1849760179593559198": {
         "args": [
          "-8576340763994790464"
         ],
         "function": "metadsl_core.numpy.NDArrayCompat.from_ndarray"
        },
        "-1852849618758691204": {
         "args": [
          "3154054583708263430",
          "-8279248212145704116"
         ],
         "function": "metadsl_core.maybe.Maybe.__and__",
         "type_params": {
          "T": {
           "type": "metadsl_core.numpy.NDArray"
          }
         }
        },
        "-1869258503858706285": {
         "args": [
          "-2785180909877886917"
         ],
         "function": "metadsl_core.numpy.NDArrayCompat.from_ndarray"
        },
        "-1881606863544324424": {
         "args": [
          "3018242514732934158"
         ],
         "function": "metadsl_core.abstraction.Abstraction.from_fn"
        },
        "-1980804916096807227": {
         "args": [
          "110263579142468521",
          "-1650449521913670327"
         ],
         "function": "metadsl_core.numpy_engine.ndarray_getitem"
        },
        "-1994746913075223905": {
         "args": [
          "5030199846527934115"
         ],
         "function": "metadsl_core.numpy.NDArrayCompat.from_ndarray"
        },
        "-2038961938848683980": {
         "args": [
          "6550727564280151447"
         ],
         "function": "metadsl_core.numpy.NDArrayCompat.to_ndarray"
        },
        "-2048565193936773123": {
         "args": [
          "-3739963023117336552"
         ],
         "function": "metadsl_core.numpy.NDArrayCompat.from_ndarray"
        },
        "-2065618427858497127": {
         "args": [
          "-7335669005619496596",
          "-7335669005619496596"
         ],
         "function": "metadsl_core.numpy_engine.ndarray_add"
        },
        "-211272459538998363": {
         "args": [
          "-7163410535310276356"
         ],
         "function": "metadsl_core.conversion.Converter.convert",
         "type_params": {
          "T": {
           "type": "metadsl_core.numpy.NDArray"
          }
         }
        },
        "-2140800586280598894": {
         "args": [
          "454418893679383339",
          "-8279248212145704116"
         ],
         "function": "metadsl_core.maybe.Maybe.__and__",
         "type_params": {
          "T": {
           "type": "metadsl_core.numpy.NDArray"
          }
         }
        },
        "-2301610275579202249": {
         "args": [
          "-795133060356394404",
          "-6348449952595699719"
         ],
         "function": "metadsl_core.abstraction.Abstraction.__call__",
         "type_params": {
          "T": {
           "type": "metadsl_core.integer.Integer"
          },
          "U": {
           "params": {
            "T": {
             "type": "metadsl_core.numpy.NDArray"
            }
           },
           "type": "metadsl_core.maybe.Maybe"
          }
         }
        },
        "-2304691382169679398": {
         "args": [
          "1489511133141246522"
         ],
         "function": "metadsl_core.numpy.arange_"
        },
        "-2306470418200692677": {
         "args": [
          "-7529480365230570664"
         ],
         "function": "metadsl_core.conversion.Converter.convert",
         "type_params": {
          "T": {
           "type": "metadsl_core.numpy.NDArray"
          }
         }
        },
        "-2371344914798446896": {
         "args": [
          "-5635488650836477557"
         ],
         "function": "metadsl_core.numpy.NDArrayCompat.from_ndarray"
        },
        "-24852428117429491": {
         "args": [
          "-6286215055759621830",
          "-8279248212145704116"
         ],
         "function": "metadsl_core.maybe.Maybe.__and__",
         "type_params": {
          "T": {
           "type": "metadsl_core.numpy.NDArray"
          }
         }
        },
        "-2512465747330345911": {
         "args": [
          "1489511133141246522",
          "-2304691382169679398"
         ],
         "function": "metadsl_core.abstraction.Abstraction.create",
         "type_params": {
          "T": {
           "type": "metadsl_core.integer.Integer"
          },
          "U": {
           "type": "metadsl_core.numpy.NDArray"
          }
         }
        },
        "-2551837803454835445": {
         "args": [
          "-4821571046100187953",
          "8959345856999598305"
         ],
         "function": "metadsl_core.abstraction.Abstraction.__add__",
         "type_params": {
          "T": {
           "type": "metadsl_core.numpy.NDArray"
          },
          "U": {
           "params": {
            "T": {
             "type": "metadsl_core.numpy.NDArray"
            }
           },
           "type": "metadsl_core.maybe.Maybe"
          }
         }
        },
        "-263109684034311345": {
         "args": [
          "-4625945638413627308",
          "-8279248212145704116"
         ],
         "function": "metadsl_core.maybe.Maybe.__and__",
         "type_params": {
          "T": {
           "type": "metadsl_core.numpy.NDArray"
          }
         }
        },
        "-2709691337316416549": {
         "args": [
          "-6838638049878124787"
         ],
         "function": "metadsl_core.numpy.NDArrayCompat.from_ndarray"
        },
        "-2785180909877886917": {
         "args": [
          "-7809517788854687844",
          "-1634153577544591591",
          "3939664682908968727"
         ],
         "function": "metadsl_core.maybe.Maybe.match"
        },
        "-288210992240700157": {
         "args": [
          "3666256152571248845"
         ],
         "function": "metadsl_core.maybe.Maybe.just",
         "type_params": {
          "T": {
           "type": "metadsl_core.numpy.NDArray"
          }
         }
        },
        "-2927105886577020080": {
         "args": [
          "5764860230719714798"
         ],
         "function": "metadsl_core.conversion.Converter.convert",
         "type_params": {
          "T": {
           "type": "metadsl_core.numpy.NDArray"
          }
         }
        },
        "-2978751380312359645": {
         "args": [
          "2174859143901622524"
         ],
         "function": "metadsl_core.conversion.Converter.convert",
         "type_params": {
          "T": {
           "type": "metadsl_core.numpy.NDArray"
          }
         }
        },
        "-3006478659514006919": {
         "args": [
          "-1147415382588726262",
          "-1634153577544591591",
          "2761148773475161562"
         ],
         "function": "metadsl_core.maybe.Maybe.match"
        },
        "-3068859707640967745": {
         "args": [
          "66424626733142333"
         ],
         "function": "metadsl_core.numpy.NDArrayCompat.from_ndarray"
        },
        "-3077622658776788865": {
         "args": [
          "-1994746913075223905"
         ],
         "function": "metadsl_core.numpy.NDArrayCompat.to_ndarray"
        },
        "-3098884371845917645": {
         "args": [
          "6409456962031733631",
          "-3507735203545765246"
         ],
         "function": "metadsl_core.maybe.Maybe.map",
         "type_params": {
          "T": {
           "params": {
            "T": {
             "type": "metadsl_core.numpy.NDArray"
            },
            "U": {
             "params": {
              "T": {
               "type": "metadsl_core.integer.Integer"
              },
              "U": {
               "params": {
                "T": {
                 "type": "metadsl_core.integer.Integer"
                }
               },
               "type": "metadsl_core.vec.Vec"
              }
             },
             "type": "metadsl_core.either.Either"
            }
           },
           "type": "metadsl_core.pair.Pair"
          }
         }
        },
        "-3147339004339624043": {
         "args": [
          "3452880505442753883"
         ],
         "function": "metadsl_core.numpy.NDArrayCompat.from_ndarray"
        },
        "-3154319303345681053": {
         "args": [
          "4765036408123793029",
          "4765036408123793029"
         ],
         "function": "metadsl_core.numpy.NDArrayCompat.__add__"
        },
        "-3207784447052424171": {
         "args": [
          "8249983766491610790",
          "-3595468322114962678"
         ],
         "function": "metadsl_core.abstraction.Abstraction.create",
         "type_params": {
          "T": {
           "type": "metadsl_core.numpy.NDArray"
          },
          "U": {
           "params": {
            "T": {
             "type": "metadsl_core.numpy.NDArray"
            }
           },
           "type": "metadsl_core.maybe.Maybe"
          }
         }
        },
        "-3243304169821703455": {
         "args": [
          "-795757429498870268",
          "-3705275237759055718"
         ],
         "function": "metadsl_core.numpy_engine.ndarray_getitem"
        },
        "-3253607827985268989": {
         "args": [
          "-4935307720403575888"
         ],
         "function": "metadsl_core.maybe.Maybe.just",
         "type_params": {
          "T": {
           "params": {
            "T": {
             "type": "metadsl_core.integer.Integer"
            },
            "U": {
             "params": {
              "T": {
               "type": "metadsl_core.integer.Integer"
              }
             },
             "type": "metadsl_core.vec.Vec"
            }
           },
           "type": "metadsl_core.either.Either"
          }
         }
        },
        "-3342032545110961032": {
         "args": [
          "-6057852220120145080",
          "4130506920816483144"
         ],
         "function": "metadsl_core.abstraction.Abstraction.__add__",
         "type_params": {
          "T": {
           "type": "metadsl_core.numpy.NDArray"
          },
          "U": {
           "params": {
            "T": {
             "type": "metadsl_core.numpy.NDArray"
            }
           },
           "type": "metadsl_core.maybe.Maybe"
          }
         }
        },
        "-3367812837952966218": {
         "args": [
          "-3253607827985268989",
          "1601438670553106301"
         ],
         "function": "metadsl_core.maybe.Maybe.__or__",
         "type_params": {
          "T": {
           "params": {
            "T": {
             "type": "metadsl_core.integer.Integer"
            },
            "U": {
             "params": {
              "T": {
               "type": "metadsl_core.integer.Integer"
              }
             },
             "type": "metadsl_core.vec.Vec"
            }
           },
           "type": "metadsl_core.either.Either"
          }
         }
        },
        "-3459187441090866357": {
         "args": [
          "-5604299033260613634"
         ],
         "function": "metadsl_core.numpy.NDArrayCompat.from_ndarray"
        },
        "-3459794927642839774": {
         "args": [
          "1661886770869584341",
          "-8599982649028558349"
         ],
         "function": "metadsl_core.maybe.Maybe.map",
         "type_params": {
          "T": {
           "type": "metadsl_core.integer.Integer"
          }
         }
        },
        "-3507735203545765246": {
         "args": [
          "-6885163181503348890"
         ],
         "function": "metadsl_core.abstraction.Abstraction.from_fn",
         "type_params": {
          "T": {
           "params": {
            "T": {
             "type": "metadsl_core.numpy.NDArray"
            },
            "U": {
             "params": {
              "T": {
               "type": "metadsl_core.integer.Integer"
              },
              "U": {
               "params": {
                "T": {
                 "type": "metadsl_core.integer.Integer"
                }
               },
               "type": "metadsl_core.vec.Vec"
              }
             },
             "type": "metadsl_core.either.Either"
            }
           },
           "type": "metadsl_core.pair.Pair"
          },
          "U": {
           "type": "metadsl_core.numpy.NDArray"
          }
         }
        },
        "-3595468322114962678": {
         "args": [
          "8249983766491610790"
         ],
         "function": "metadsl_core.maybe.Maybe.just",
         "type_params": {
          "T": {
           "type": "metadsl_core.numpy.NDArray"
          }
         }
        },
        "-3622885000550103346": {
         "args": [
          "4104837961654298349",
          "4104837962866726349"
         ],
         "function": "metadsl_core.numpy_engine.ndarray_add"
        },
        "-3705275237759055718": {
         "repr": "5",
         "type": "int"
        },
        "-3705275237864060643": {
         "repr": "100",
         "type": "int"
        },
        "-3727455046238765628": {
         "args": [
          "4956640976287279549"
         ],
         "function": "metadsl_core.maybe.Maybe.just",
         "type_params": {
          "T": {
           "type": "metadsl_core.numpy.NDArray"
          }
         }
        },
        "-3739963023117336552": {
         "args": [
          "-9168974794687253874",
          "-3507735203545765246"
         ],
         "function": "metadsl_core.maybe.Maybe.map",
         "type_params": {
          "T": {
           "params": {
            "T": {
             "type": "metadsl_core.numpy.NDArray"
            },
            "U": {
             "params": {
              "T": {
               "type": "metadsl_core.integer.Integer"
              },
              "U": {
               "params": {
                "T": {
                 "type": "metadsl_core.integer.Integer"
                }
               },
               "type": "metadsl_core.vec.Vec"
              }
             },
             "type": "metadsl_core.either.Either"
            }
           },
           "type": "metadsl_core.pair.Pair"
          }
         }
        },
        "-3740736735869696238": {
         "args": [
          "3018242513936195758"
         ],
         "function": "metadsl_core.abstraction.Abstraction.from_fn"
        },
        "-3776049005220402373": {
         "args": [
          "2256881666069968538"
         ],
         "function": "metadsl_core.abstraction.Abstraction.create_variable",
         "type_params": {
          "T": {
           "type": "metadsl_core.integer.Integer"
          },
          "U": {
           "type": "metadsl_core.numpy.NDArray"
          }
         }
        },
        "-3788189630158834534": {
         "args": [
          "-3740736735869696238",
          "-1881606863544324424"
         ],
         "function": "metadsl_core.abstraction.Abstraction.__add__",
         "type_params": {
          "T": {
           "params": {
            "T": {
             "type": "metadsl_core.integer.Integer"
            },
            "U": {
             "params": {
              "T": {
               "type": "metadsl_core.integer.Integer"
              }
             },
             "type": "metadsl_core.vec.Vec"
            }
           },
           "type": "metadsl_core.either.Either"
          },
          "U": {
           "params": {
            "T": {
             "params": {
              "T": {
               "type": "metadsl_core.integer.Integer"
              },
              "U": {
               "params": {
                "T": {
                 "type": "metadsl_core.integer.Integer"
                }
               },
               "type": "metadsl_core.vec.Vec"
              }
             },
             "type": "metadsl_core.either.Either"
            }
           },
           "type": "metadsl_core.maybe.Maybe"
          }
         }
        },
        "-383934940862023274": {
         "args": [
          "-5419148412288663401",
          "-1849760179593559198"
         ],
         "function": "metadsl_core.numpy.NDArrayCompat.__add__"
        },
        "-394715334725373795": {
         "args": [
          "339854020085832488"
         ],
         "function": "metadsl_core.numpy.NDArrayCompat.from_ndarray"
        },
        "-4064207154291991267": {
         "args": [
          "-3776049005220402373"
         ],
         "function": "metadsl_core.numpy.arange_"
        },
        "-4085882839489581592": {
         "args": [
          "-4821571046100187953",
          "-8653038408072797321"
         ],
         "function": "metadsl_core.abstraction.Abstraction.__add__",
         "type_params": {
          "T": {
           "type": "metadsl_core.numpy.NDArray"
          },
          "U": {
           "params": {
            "T": {
             "type": "metadsl_core.numpy.NDArray"
            }
           },
           "type": "metadsl_core.maybe.Maybe"
          }
         }
        },
        "-4230937013791417230": {
         "args": [
          "4309851369393855056"
         ],
         "function": "metadsl_core.numpy.NDArrayCompat.to_ndarray"
        },
        "-4265834936206840646": {
         "args": [
          "-3068859707640967745"
         ],
         "function": "metadsl_core.numpy.NDArrayCompat.to_ndarray"
        },
        "-4315186536235377471": {
         "args": [
          "8519257424446584621",
          "-7055281088629370118"
         ],
         "function": "metadsl_core.numpy.NDArrayCompat.__add__"
        },
        "-4323892626220002502": {
         "args": [
          "-6092871915624618906"
         ],
         "function": "metadsl_core.conversion.Converter.convert",
         "type_params": {
          "T": {
           "type": "metadsl_core.numpy.NDArray"
          }
         }
        },
        "-4509640865345816202": {
         "args": [
          "937385339147774800",
          "-1727098197078088733"
         ],
         "function": "metadsl_core.numpy_engine.ndarray_getitem"
        },
        "-4625945638413627308": {
         "args": [
          "-6536493617917594136"
         ],
         "function": "metadsl_core.conversion.Converter.convert",
         "type_params": {
          "T": {
           "type": "metadsl_core.numpy.NDArray"
          }
         }
        },
        "-4821571046100187953": {
         "args": [
          "3542888536951180369",
          "-5303176114818321546"
         ],
         "function": "metadsl_core.abstraction.Abstraction.create",
         "type_params": {
          "T": {
           "type": "metadsl_core.numpy.NDArray"
          },
          "U": {
           "params": {
            "T": {
             "type": "metadsl_core.numpy.NDArray"
            }
           },
           "type": "metadsl_core.maybe.Maybe"
          }
         }
        },
        "-483138365163564445": {
         "args": [
          "-7236368725980437570"
         ],
         "function": "metadsl_core.numpy.NDArrayCompat.to_ndarray"
        },
        "-4835518037135611421": {
         "args": [
          "3018242093249660358"
         ],
         "function": "metadsl_core.abstraction.Abstraction.from_fn"
        },
        "-4905362078359034911": {
         "args": [
          "-7056852421285137628"
         ],
         "function": "metadsl_core.numpy.NDArrayCompat.to_ndarray"
        },
        "-4912462970913600817": {
         "args": [
          "-4315186536235377471"
         ],
         "function": "metadsl_core.conversion.Converter.convert",
         "type_params": {
          "T": {
           "type": "metadsl_core.numpy.NDArray"
          }
         }
        },
        "-4935307720403575888": {
         "args": [
          "4334974619117012171"
         ],
         "function": "metadsl_core.either.Either.left",
         "type_params": {
          "T": {
           "type": "metadsl_core.integer.Integer"
          },
          "U": {
           "params": {
            "T": {
             "type": "metadsl_core.integer.Integer"
            }
           },
           "type": "metadsl_core.vec.Vec"
          }
         }
        },
        "-4945361811675870101": {
         "args": [
          "4836301537517960171",
          "4280049150639986338"
         ],
         "function": "metadsl_core.abstraction.Abstraction.create",
         "type_params": {
          "T": {
           "type": "metadsl_core.numpy.NDArray"
          },
          "U": {
           "params": {
            "T": {
             "type": "metadsl_core.numpy.NDArray"
            }
           },
           "type": "metadsl_core.maybe.Maybe"
          }
         }
        },
        "-5001681947630871869": {
         "args": [
          "1489511133141246522",
          "7943720464290122559"
         ],
         "function": "metadsl_core.abstraction.Abstraction.create"
        },
        "-5073413745936729993": {
         "args": [
          "6401238467075760220",
          "-1634153577544591591",
          "6487451330758204480"
         ],
         "function": "metadsl_core.maybe.Maybe.match",
         "type_params": {
          "T": {
           "type": "metadsl_core.integer.Integer"
          }
         }
        },
        "-5239234725843763163": {
         "args": [
          "-759093838837854533",
          "-4935307720403575888"
         ],
         "function": "metadsl_core.numpy.NDArray.__getitem__"
        },
        "-5262322094604335595": {
         "args": [
          "-8071604710242911232"
         ],
         "function": "metadsl_core.numpy.NDArrayCompat.to_ndarray"
        },
        "-5282443508822090016": {
         "args": [
          "3018242855234677758"
         ],
         "function": "metadsl_core.abstraction.Abstraction.from_fn"
        },
        "-5303176114818321546": {
         "args": [
          "3542888536951180369"
         ],
         "function": "metadsl_core.maybe.Maybe.just",
         "type_params": {
          "T": {
           "type": "metadsl_core.numpy.NDArray"
          }
         }
        },
        "-5321874812370855004": {
         "args": [
          "3443580654182396632",
          "8313730218379013134"
         ],
         "function": "metadsl_core.maybe.Maybe.map",
         "type_params": {
          "T": {
           "type": "metadsl_core.integer.Integer"
          }
         }
        },
        "-5399589579363002600": {
         "args": [
          "182954492501630686",
          "1601438670553106301"
         ],
         "function": "metadsl_core.maybe.Maybe.__or__",
         "type_params": {
          "T": {
           "params": {
            "T": {
             "type": "metadsl_core.integer.Integer"
            },
            "U": {
             "params": {
              "T": {
               "type": "metadsl_core.integer.Integer"
              }
             },
             "type": "metadsl_core.vec.Vec"
            }
           },
           "type": "metadsl_core.either.Either"
          }
         }
        },
        "-5419148412288663401": {
         "args": [
          "-7338046998780095632"
         ],
         "function": "metadsl_core.numpy.NDArrayCompat.from_ndarray"
        },
        "-5523046823137818627": {
         "args": [
          "-3622885000550103346",
          "-3705275237759055718"
         ],
         "function": "metadsl_core.numpy_engine.ndarray_getitem"
        },
        "-5570514027532609052": {
         "args": [
          "2290366467829829887"
         ],
         "function": "metadsl_core.numpy.NDArrayCompat.from_ndarray"
        },
        "-5573868449168990939": {
         "args": [
          "3154054583708263430",
          "2008693015714417679"
         ],
         "function": "metadsl_core.maybe.Maybe.__and__",
         "type_params": {
          "T": {
           "type": "metadsl_core.numpy.NDArray"
          }
         }
        },
        "-5601283796747524553": {
         "args": [
          "-1749453601745282915",
          "-1634153577544591591",
          "3939664682908968727"
         ],
         "function": "metadsl_core.maybe.Maybe.match"
        },
        "-5604299033260613634": {
         "args": [
          "3748997720588164969",
          "-3507735203545765246"
         ],
         "function": "metadsl_core.maybe.Maybe.map",
         "type_params": {
          "T": {
           "params": {
            "T": {
             "type": "metadsl_core.numpy.NDArray"
            },
            "U": {
             "params": {
              "T": {
               "type": "metadsl_core.integer.Integer"
              },
              "U": {
               "params": {
                "T": {
                 "type": "metadsl_core.integer.Integer"
                }
               },
               "type": "metadsl_core.vec.Vec"
              }
             },
             "type": "metadsl_core.either.Either"
            }
           },
           "type": "metadsl_core.pair.Pair"
          }
         }
        },
        "-5635488650836477557": {
         "args": [
          "8403746460847649124",
          "-1634153577544591591",
          "3939664682908968727"
         ],
         "function": "metadsl_core.maybe.Maybe.match"
        },
        "-57149077449234495": {
         "args": [
          "2177864481804325886",
          "-1634153577544591591",
          "2761148773475161562"
         ],
         "function": "metadsl_core.maybe.Maybe.match"
        },
        "-5761567968183968639": {
         "repr": "10",
         "type": "numpy.int64"
        },
        "-5811636341751937007": {
         "args": [
          "7810499439306393248"
         ],
         "function": "metadsl_core.numpy.NDArrayCompat.from_ndarray"
        },
        "-5969105519526623034": {
         "args": [
          "-5419148412288663401",
          "4765036408123793029"
         ],
         "function": "metadsl_core.numpy.NDArrayCompat.__add__"
        },
        "-6036066501690401618": {
         "args": [
          "8103869775350922206",
          "4765036408123793029"
         ],
         "function": "metadsl_core.numpy.NDArrayCompat.__add__"
        },
        "-6057852220120145080": {
         "args": [
          "3018242388908888358"
         ],
         "function": "metadsl_core.abstraction.Abstraction.from_fn"
        },
        "-6087412193697889510": {
         "args": [
          "110263579142468521",
          "-3705275237759055718"
         ],
         "function": "metadsl_core.numpy_engine.ndarray_getitem"
        },
        "-6092871915624618906": {
         "args": [
          "-5419148412288663401",
          "6160191058984105797"
         ],
         "function": "metadsl_core.numpy.NDArrayCompat.__add__"
        },
        "-6099267688461610945": {
         "args": [
          "6467376240504041523",
          "4130506920816483144"
         ],
         "function": "metadsl_core.abstraction.Abstraction.__add__",
         "type_params": {
          "T": {
           "type": "metadsl_core.numpy.NDArray"
          },
          "U": {
           "params": {
            "T": {
             "type": "metadsl_core.numpy.NDArray"
            }
           },
           "type": "metadsl_core.maybe.Maybe"
          }
         }
        },
        "-6157977845208825559": {
         "args": [
          "6454113284553735655"
         ],
         "function": "metadsl_core.numpy.NDArrayCompat.to_ndarray"
        },
        "-6229250604417303382": {
         "args": [
          "-3207784447052424171",
          "4130506920816483144"
         ],
         "function": "metadsl_core.abstraction.Abstraction.__add__",
         "type_params": {
          "T": {
           "type": "metadsl_core.numpy.NDArray"
          },
          "U": {
           "params": {
            "T": {
             "type": "metadsl_core.numpy.NDArray"
            }
           },
           "type": "metadsl_core.maybe.Maybe"
          }
         }
        },
        "-6286215055759621830": {
         "args": [
          "-3154319303345681053"
         ],
         "function": "metadsl_core.conversion.Converter.convert",
         "type_params": {
          "T": {
           "type": "metadsl_core.numpy.NDArray"
          }
         }
        },
        "-6337639346334006848": {
         "args": [
          "3018242913128114758"
         ],
         "function": "metadsl_core.abstraction.Abstraction.from_fn"
        },
        "-6348449952595699719": {
         "args": [
          "-3705275237864060643"
         ],
         "function": "metadsl_core.integer.Integer.from_int"
        },
        "-6438549173542216615": {
         "args": [
          "1003861700431803270",
          "-8827296078106729060"
         ],
         "function": "metadsl_core.abstraction.Abstraction.create",
         "type_params": {
          "T": {
           "params": {
            "T": {
             "type": "metadsl_core.integer.Integer"
            },
            "U": {
             "params": {
              "T": {
               "type": "metadsl_core.integer.Integer"
              }
             },
             "type": "metadsl_core.vec.Vec"
            }
           },
           "type": "metadsl_core.either.Either"
          },
          "U": {
           "params": {
            "T": {
             "params": {
              "T": {
               "type": "metadsl_core.integer.Integer"
              },
              "U": {
               "params": {
                "T": {
                 "type": "metadsl_core.integer.Integer"
                }
               },
               "type": "metadsl_core.vec.Vec"
              }
             },
             "type": "metadsl_core.either.Either"
            }
           },
           "type": "metadsl_core.maybe.Maybe"
          }
         }
        },
        "-6456102885800723638": {
         "args": [
          "6401238467075760220",
          "4130506920816483144"
         ],
         "function": "metadsl_core.maybe.Maybe.map",
         "type_params": {
          "T": {
           "type": "metadsl_core.integer.Integer"
          }
         }
        },
        "-6512417123307943773": {
         "args": [
          "-7738163237082567838",
          "7825973750903368564"
         ],
         "function": "metadsl_core.abstraction.Abstraction.create"
        },
        "-6536493617917594136": {
         "args": [
          "-5419148412288663401",
          "4877147695135932021"
         ],
         "function": "metadsl_core.numpy.NDArrayCompat.__add__"
        },
        "-6622106871885258631": {
         "args": [
          "-5811636341751937007"
         ],
         "function": "metadsl_core.numpy.NDArrayCompat.to_ndarray"
        },
        "-6838638049878124787": {
         "args": [
          "-5239234725843763163"
         ],
         "function": "metadsl_core.maybe.Maybe.just",
         "type_params": {
          "T": {
           "type": "metadsl_core.numpy.NDArray"
          }
         }
        },
        "-6866217854608818907": {
         "args": [
          "7709830722086267384"
         ],
         "function": "metadsl_core.numpy_engine.arange"
        },
        "-6885163181503348890": {
         "repr": "<function NDArrayCompat.__getitem__.<locals>.<lambda> at 0x10bf35b70>",
         "type": "function"
        },
        "-6966490379948381395": {
         "repr": "Variable(4545013464)",
         "type": "metadsl_core.abstraction.Variable"
        },
        "-6966490415959658045": {
         "repr": "Variable(4545529336)",
         "type": "metadsl_core.abstraction.Variable"
        },
        "-6966490431315275170": {
         "repr": "Variable(4545629320)",
         "type": "metadsl_core.abstraction.Variable"
        },
        "-6980230792434416293": {
         "args": [
          "-57149077449234495"
         ],
         "function": "metadsl_core.numpy.NDArrayCompat.from_ndarray"
        },
        "-7055281088629370118": {
         "args": [
          "-3705275237864060643"
         ],
         "function": "metadsl_core.numpy.arange"
        },
        "-7056852421285137628": {
         "args": [
          "-3006478659514006919"
         ],
         "function": "metadsl_core.numpy.NDArrayCompat.from_ndarray"
        },
        "-7070438637286422905": {
         "repr": "Infer(fn=<function arange_ at 0x10ea01158>)",
         "type": "metadsl.typing_tools.Infer"
        },
        "-7108878735657370619": {
         "args": [
          "3154054583708263430",
          "-5399589579363002600"
         ],
         "function": "metadsl_core.maybe.Maybe.__and__",
         "type_params": {
          "T": {
           "type": "metadsl_core.numpy.NDArray"
          }
         }
        },
        "-7163410535310276356": {
         "args": [
          "4324317467807923182",
          "4765036408123793029"
         ],
         "function": "metadsl_core.numpy.NDArrayCompat.__add__"
        },
        "-7183559494155448101": {
         "args": [
          "8177131342506622894"
         ],
         "function": "metadsl_core.numpy.NDArrayCompat.to_ndarray"
        },
        "-7206686008652223635": {
         "args": [
          "-5419148412288663401",
          "-3147339004339624043"
         ],
         "function": "metadsl_core.numpy.NDArrayCompat.__add__"
        },
        "-7218356126770974737": {
         "args": [
          "-6438549173542216615",
          "-1881606863544324424"
         ],
         "function": "metadsl_core.abstraction.Abstraction.__add__",
         "type_params": {
          "T": {
           "params": {
            "T": {
             "type": "metadsl_core.integer.Integer"
            },
            "U": {
             "params": {
              "T": {
               "type": "metadsl_core.integer.Integer"
              }
             },
             "type": "metadsl_core.vec.Vec"
            }
           },
           "type": "metadsl_core.either.Either"
          },
          "U": {
           "params": {
            "T": {
             "params": {
              "T": {
               "type": "metadsl_core.integer.Integer"
              },
              "U": {
               "params": {
                "T": {
                 "type": "metadsl_core.integer.Integer"
                }
               },
               "type": "metadsl_core.vec.Vec"
              }
             },
             "type": "metadsl_core.either.Either"
            }
           },
           "type": "metadsl_core.maybe.Maybe"
          }
         }
        },
        "-7236368725980437570": {
         "args": [
          "-7238494409264714499"
         ],
         "function": "metadsl_core.numpy.NDArrayCompat.from_ndarray"
        },
        "-7238494409264714499": {
         "args": [
          "7914890493891307367",
          "-1634153577544591591",
          "3939664682908968727"
         ],
         "function": "metadsl_core.maybe.Maybe.match"
        },
        "-7306491668974838288": {
         "args": [
          "-7108878735657370619",
          "-1634153577544591591",
          "3939664682908968727"
         ],
         "function": "metadsl_core.maybe.Maybe.match"
        },
        "-731737035857768788": {
         "args": [
          "-5282443508822090016",
          "4130506920816483144"
         ],
         "function": "metadsl_core.abstraction.Abstraction.__add__",
         "type_params": {
          "T": {
           "type": "metadsl_core.numpy.NDArray"
          },
          "U": {
           "params": {
            "T": {
             "type": "metadsl_core.numpy.NDArray"
            }
           },
           "type": "metadsl_core.maybe.Maybe"
          }
         }
        },
        "-7335669005619496596": {
         "args": [
          "676902453469965611"
         ],
         "function": "metadsl_core.numpy.NDArray.to_ndarray"
        },
        "-7338046998780095632": {
         "args": [
          "676902453469965611"
         ],
         "function": "metadsl_core.maybe.Maybe.just",
         "type_params": {
          "T": {
           "type": "metadsl_core.numpy.NDArray"
          }
         }
        },
        "-7477480118729485424": {
         "args": [
          "3297391882060139096",
          "-1634153577544591591",
          "3939664682908968727"
         ],
         "function": "metadsl_core.maybe.Maybe.match"
        },
        "-7529480365230570664": {
         "args": [
          "53011181607246694"
         ],
         "function": "metadsl_core.numpy.NDArrayCompat.from_ndarray"
        },
        "-7566853347785193803": {
         "args": [
          "1547510042442769606"
         ],
         "function": "metadsl_core.numpy.NDArrayCompat.from_ndarray"
        },
        "-759093838837854533": {
         "args": [
          "676902453469965611",
          "676902453469965611"
         ],
         "function": "metadsl_core.numpy.NDArray.__add__"
        },
        "-7618240575693270998": {
         "args": [
          "5343648074907559027",
          "-6348449952595699719"
         ],
         "function": "metadsl_core.abstraction.Abstraction.__call__",
         "type_params": {
          "T": {
           "type": "metadsl_core.integer.Integer"
          },
          "U": {
           "params": {
            "T": {
             "type": "metadsl_core.numpy.NDArray"
            }
           },
           "type": "metadsl_core.maybe.Maybe"
          }
         }
        },
        "-7661950433982450966": {
         "args": [
          "-3705275237864060643"
         ],
         "function": "metadsl_core.conversion.Converter.convert",
         "type_params": {
          "T": {
           "type": "metadsl_core.integer.Integer"
          }
         }
        },
        "-7738163237082567838": {
         "args": [
          "-6966490415959658045"
         ],
         "function": "metadsl_core.abstraction.Abstraction.create_variable",
         "type_params": {
          "T": {
           "type": "metadsl_core.integer.Integer"
          },
          "U": {
           "params": {
            "T": {
             "type": "metadsl_core.integer.Integer"
            },
            "U": {
             "params": {
              "T": {
               "type": "metadsl_core.integer.Integer"
              }
             },
             "type": "metadsl_core.vec.Vec"
            }
           },
           "type": "metadsl_core.either.Either"
          }
         }
        },
        "-7747615708813980176": {
         "args": [
          "-394715334725373795",
          "4765036408123793029"
         ],
         "function": "metadsl_core.numpy.NDArrayCompat.__add__"
        },
        "-7809517788854687844": {
         "args": [
          "-211272459538998363",
          "-8279248212145704116"
         ],
         "function": "metadsl_core.maybe.Maybe.__and__",
         "type_params": {
          "T": {
           "type": "metadsl_core.numpy.NDArray"
          }
         }
        },
        "-7831896604623154796": {
         "args": [
          "-3459187441090866357"
         ],
         "function": "metadsl_core.numpy.NDArrayCompat.to_ndarray"
        },
        "-7833044461111117892": {
         "args": [
          "6931023940528400184"
         ],
         "function": "metadsl_core.numpy.NDArrayCompat.from_ndarray"
        },
        "-7927669274848198725": {
         "args": [
          "-6229250604417303382",
          "-6348449952595699719"
         ],
         "function": "metadsl_core.abstraction.Abstraction.__call__",
         "type_params": {
          "T": {
           "type": "metadsl_core.integer.Integer"
          },
          "U": {
           "params": {
            "T": {
             "type": "metadsl_core.numpy.NDArray"
            }
           },
           "type": "metadsl_core.maybe.Maybe"
          }
         }
        },
        "-795133060356394404": {
         "args": [
          "-4945361811675870101",
          "4130506920816483144"
         ],
         "function": "metadsl_core.abstraction.Abstraction.__add__",
         "type_params": {
          "T": {
           "type": "metadsl_core.numpy.NDArray"
          },
          "U": {
           "params": {
            "T": {
             "type": "metadsl_core.numpy.NDArray"
            }
           },
           "type": "metadsl_core.maybe.Maybe"
          }
         }
        },
        "-795757429498870268": {
         "args": [
          "4104837961654298349",
          "6263790735347685846"
         ],
         "function": "metadsl_core.numpy_engine.ndarray_add"
        },
        "-7984040154612536138": {
         "args": [
          "4594020610033156603",
          "-1634153577544591591",
          "2761148773475161562"
         ],
         "function": "metadsl_core.maybe.Maybe.match"
        },
        "-7995219774257288332": {
         "args": [
          "7330624165092216033"
         ],
         "function": "metadsl_core.numpy.NDArrayCompat.to_ndarray"
        },
        "-8006232622035031103": {
         "args": [
          "-4945361811675870101",
          "-1459393024097487154"
         ],
         "function": "metadsl_core.abstraction.Abstraction.__add__",
         "type_params": {
          "T": {
           "type": "metadsl_core.numpy.NDArray"
          },
          "U": {
           "params": {
            "T": {
             "type": "metadsl_core.numpy.NDArray"
            }
           },
           "type": "metadsl_core.maybe.Maybe"
          }
         }
        },
        "-805974828597571675": {
         "args": [
          "1713027170642233184",
          "-1727098197078088733"
         ],
         "function": "metadsl_core.numpy_engine.ndarray_getitem"
        },
        "-8068025587362868486": {
         "args": [
          "-6512417123307943773",
          "4334974619117012171"
         ],
         "function": "metadsl_core.abstraction.Abstraction.__call__",
         "type_params": {
          "T": {
           "type": "metadsl_core.integer.Integer"
          },
          "U": {
           "params": {
            "T": {
             "params": {
              "T": {
               "type": "metadsl_core.integer.Integer"
              },
              "U": {
               "params": {
                "T": {
                 "type": "metadsl_core.integer.Integer"
                }
               },
               "type": "metadsl_core.vec.Vec"
              }
             },
             "type": "metadsl_core.either.Either"
            }
           },
           "type": "metadsl_core.maybe.Maybe"
          }
         }
        },
        "-8069826498132308269": {
         "args": [
          "-4064207154291991267"
         ],
         "function": "metadsl_core.maybe.Maybe.just",
         "type_params": {
          "T": {
           "type": "metadsl_core.numpy.NDArray"
          }
         }
        },
        "-8071604710242911232": {
         "args": [
          "-7984040154612536138"
         ],
         "function": "metadsl_core.numpy.NDArrayCompat.from_ndarray"
        },
        "-8208727243401881275": {
         "args": [
          "6612416752168751060",
          "-8279248212145704116"
         ],
         "function": "metadsl_core.maybe.Maybe.__and__",
         "type_params": {
          "T": {
           "type": "metadsl_core.numpy.NDArray"
          }
         }
        },
        "-824942965300223143": {
         "args": [
          "-24852428117429491",
          "-1634153577544591591",
          "3939664682908968727"
         ],
         "function": "metadsl_core.maybe.Maybe.match"
        },
        "-8279248212145704116": {
         "args": [
          "-3459794927642839774",
          "1601438670553106301"
         ],
         "function": "metadsl_core.maybe.Maybe.__or__",
         "type_params": {
          "T": {
           "params": {
            "T": {
             "type": "metadsl_core.integer.Integer"
            },
            "U": {
             "params": {
              "T": {
               "type": "metadsl_core.integer.Integer"
              }
             },
             "type": "metadsl_core.vec.Vec"
            }
           },
           "type": "metadsl_core.either.Either"
          }
         }
        },
        "-8281681333636686969": {
         "args": [
          "-4912462970913600817",
          "8011615922277789946"
         ],
         "function": "metadsl_core.maybe.Maybe.__and__",
         "type_params": {
          "T": {
           "type": "metadsl_core.numpy.NDArray"
          }
         }
        },
        "-83975987365888270": {
         "args": [
          "5045056337060435608"
         ],
         "function": "metadsl_core.numpy.NDArrayCompat.to_ndarray"
        },
        "-8488369925205322838": {
         "args": [
          "-3098884371845917645"
         ],
         "function": "metadsl_core.numpy.NDArrayCompat.from_ndarray"
        },
        "-8576340763994790464": {
         "args": [
          "413842287564348553",
          "-6348449952595699719"
         ],
         "function": "metadsl_core.abstraction.Abstraction.__call__",
         "type_params": {
          "T": {
           "type": "metadsl_core.integer.Integer"
          },
          "U": {
           "params": {
            "T": {
             "type": "metadsl_core.numpy.NDArray"
            }
           },
           "type": "metadsl_core.maybe.Maybe"
          }
         }
        },
        "-8599982649028558349": {
         "args": [
          "3018242077089727158"
         ],
         "function": "metadsl_core.abstraction.Abstraction.from_fn"
        },
        "-8653038408072797321": {
         "args": [
          "-1682084061976265732",
          "7047408921337346536"
         ],
         "function": "metadsl_core.abstraction.Abstraction.create",
         "type_params": {
          "T": {
           "params": {
            "T": {
             "type": "metadsl_core.numpy.NDArray"
            },
            "U": {
             "params": {
              "T": {
               "type": "metadsl_core.integer.Integer"
              },
              "U": {
               "params": {
                "T": {
                 "type": "metadsl_core.integer.Integer"
                }
               },
               "type": "metadsl_core.vec.Vec"
              }
             },
             "type": "metadsl_core.either.Either"
            }
           },
           "type": "metadsl_core.pair.Pair"
          },
          "U": {
           "type": "metadsl_core.numpy.NDArray"
          }
         }
        },
        "-8827296078106729060": {
         "args": [
          "1003861700431803270"
         ],
         "function": "metadsl_core.maybe.Maybe.just",
         "type_params": {
          "T": {
           "params": {
            "T": {
             "type": "metadsl_core.integer.Integer"
            },
            "U": {
             "params": {
              "T": {
               "type": "metadsl_core.integer.Integer"
              }
             },
             "type": "metadsl_core.vec.Vec"
            }
           },
           "type": "metadsl_core.either.Either"
          }
         }
        },
        "-8896022180523466101": {
         "args": [
          "6716517354224206211"
         ],
         "function": "metadsl_core.numpy.NDArrayCompat.from_ndarray"
        },
        "-9096350248485233949": {
         "args": [
          "-6980230792434416293"
         ],
         "function": "metadsl_core.numpy.NDArrayCompat.to_ndarray"
        },
        "-9168974794687253874": {
         "args": [
          "-6286215055759621830",
          "8011615922277789946"
         ],
         "function": "metadsl_core.maybe.Maybe.__and__",
         "type_params": {
          "T": {
           "type": "metadsl_core.numpy.NDArray"
          }
         }
        },
        "-924991507664114789": {
         "args": [
          "8009941912173970220",
          "-1634153577544591591",
          "3939664682908968727"
         ],
         "function": "metadsl_core.maybe.Maybe.match"
        },
        "-993268038132965659": {
         "args": [
          "4765036408123793029",
          "-7055281088629370118"
         ],
         "function": "metadsl_core.numpy.NDArrayCompat.__add__"
        },
        "1003861700431803270": {
         "args": [
          "-6966490431315275170"
         ],
         "function": "metadsl_core.abstraction.Abstraction.create_variable",
         "type_params": {
          "T": {
           "params": {
            "T": {
             "type": "metadsl_core.integer.Integer"
            },
            "U": {
             "params": {
              "T": {
               "type": "metadsl_core.integer.Integer"
              }
             },
             "type": "metadsl_core.vec.Vec"
            }
           },
           "type": "metadsl_core.either.Either"
          },
          "U": {
           "params": {
            "T": {
             "params": {
              "T": {
               "type": "metadsl_core.integer.Integer"
              },
              "U": {
               "params": {
                "T": {
                 "type": "metadsl_core.integer.Integer"
                }
               },
               "type": "metadsl_core.vec.Vec"
              }
             },
             "type": "metadsl_core.either.Either"
            }
           },
           "type": "metadsl_core.maybe.Maybe"
          }
         }
        },
        "1049507988717975635": {
         "args": [
          "3701521918327552087",
          "-1634153577544591591",
          "3939664682908968727"
         ],
         "function": "metadsl_core.maybe.Maybe.match"
        },
        "110263579142468521": {
         "args": [
          "6263790735347685846",
          "6263790735347685846"
         ],
         "function": "metadsl_core.numpy_engine.ndarray_add"
        },
        "1110748371494516795": {
         "args": [
          "5231317810645234517",
          "-3507735203545765246"
         ],
         "function": "metadsl_core.maybe.Maybe.map",
         "type_params": {
          "T": {
           "params": {
            "T": {
             "type": "metadsl_core.numpy.NDArray"
            },
            "U": {
             "params": {
              "T": {
               "type": "metadsl_core.integer.Integer"
              },
              "U": {
               "params": {
                "T": {
                 "type": "metadsl_core.integer.Integer"
                }
               },
               "type": "metadsl_core.vec.Vec"
              }
             },
             "type": "metadsl_core.either.Either"
            }
           },
           "type": "metadsl_core.pair.Pair"
          }
         }
        },
        "1189111225270799387": {
         "args": [
          "-5570514027532609052"
         ],
         "function": "metadsl_core.numpy.NDArrayCompat.to_ndarray"
        },
        "1307406489829571386": {
         "args": [
          "-263109684034311345",
          "-1634153577544591591",
          "3939664682908968727"
         ],
         "function": "metadsl_core.maybe.Maybe.match"
        },
        "1317455389875269501": {
         "args": [
          "1661886770869584341",
          "8313730218379013134"
         ],
         "function": "metadsl_core.maybe.Maybe.map",
         "type_params": {
          "T": {
           "type": "metadsl_core.integer.Integer"
          }
         }
        },
        "132793758213287069": {
         "args": [
          "-383934940862023274"
         ],
         "function": "metadsl_core.conversion.Converter.convert",
         "type_params": {
          "T": {
           "type": "metadsl_core.numpy.NDArray"
          }
         }
        },
        "134344438444887549": {
         "args": [
          "110263579142468521",
          "-1727098197078088733"
         ],
         "function": "metadsl_core.numpy_engine.ndarray_getitem"
        },
        "1348954272782968583": {
         "args": [
          "5587518118418537197"
         ],
         "function": "metadsl_core.numpy.NDArrayCompat.from_ndarray"
        },
        "1489511133141246522": {
         "args": [
          "2256881620913520688"
         ],
         "function": "metadsl_core.abstraction.Abstraction.create_variable",
         "type_params": {
          "T": {
           "type": "metadsl_core.integer.Integer"
          },
          "U": {
           "type": "metadsl_core.numpy.NDArray"
          }
         }
        },
        "1537032622556772978": {
         "args": [
          "4893635387986418138"
         ],
         "function": "metadsl_core.numpy.NDArrayCompat.to_ndarray"
        },
        "1547510042442769606": {
         "args": [
          "4365430454413737058",
          "-1634153577544591591",
          "3939664682908968727"
         ],
         "function": "metadsl_core.maybe.Maybe.match"
        },
        "1601438670553106301": {
         "args": [
          "6263375678545427999",
          "526428893679100076"
         ],
         "function": "metadsl_core.maybe.Maybe.map",
         "type_params": {
          "T": {
           "params": {
            "T": {
             "type": "metadsl_core.integer.Integer"
            }
           },
           "type": "metadsl_core.vec.Vec"
          }
         }
        },
        "1630990807433894786": {
         "args": [
          "-288210992240700157"
         ],
         "function": "metadsl_core.numpy.NDArrayCompat.from_ndarray"
        },
        "1661886770869584341": {
         "args": [
          "4334974619117012171"
         ],
         "function": "metadsl_core.maybe.Maybe.just"
        },
        "1713027170642233184": {
         "args": [
          "6263790735347685846",
          "-6866217854608818907"
         ],
         "function": "metadsl_core.numpy_engine.ndarray_add"
        },
        "1750584978643145296": {
         "args": [
          "1317455389875269501",
          "7264538449376390032"
         ],
         "function": "metadsl_core.maybe.Maybe.__or__",
         "type_params": {
          "T": {
           "params": {
            "T": {
             "type": "metadsl_core.integer.Integer"
            },
            "U": {
             "params": {
              "T": {
               "type": "metadsl_core.integer.Integer"
              }
             },
             "type": "metadsl_core.vec.Vec"
            }
           },
           "type": "metadsl_core.either.Either"
          }
         }
        },
        "1758874941227862512": {
         "args": [
          "6489103018356725261"
         ],
         "function": "metadsl_core.pair.Pair.right",
         "type_params": {
          "T": {
           "type": "metadsl_core.numpy.NDArray"
          },
          "U": {
           "params": {
            "T": {
             "type": "metadsl_core.integer.Integer"
            },
            "U": {
             "params": {
              "T": {
               "type": "metadsl_core.integer.Integer"
              }
             },
             "type": "metadsl_core.vec.Vec"
            }
           },
           "type": "metadsl_core.either.Either"
          }
         }
        },
        "182954492501630686": {
         "args": [
          "4557781680098074782",
          "4334974619117012171"
         ],
         "function": "metadsl_core.abstraction.Abstraction.__call__",
         "type_params": {
          "T": {
           "type": "metadsl_core.integer.Integer"
          },
          "U": {
           "params": {
            "T": {
             "params": {
              "T": {
               "type": "metadsl_core.integer.Integer"
              },
              "U": {
               "params": {
                "T": {
                 "type": "metadsl_core.integer.Integer"
                }
               },
               "type": "metadsl_core.vec.Vec"
              }
             },
             "type": "metadsl_core.either.Either"
            }
           },
           "type": "metadsl_core.maybe.Maybe"
          }
         }
        },
        "1908416206163114694": {
         "args": [
          "253947969307225104"
         ],
         "function": "metadsl_core.numpy.NDArrayCompat.from_ndarray"
        },
        "1944380695342457780": {
         "args": [
          "-1682084061976265732"
         ],
         "function": "metadsl_core.pair.Pair.right",
         "type_params": {
          "T": {
           "type": "metadsl_core.numpy.NDArray"
          },
          "U": {
           "params": {
            "T": {
             "type": "metadsl_core.integer.Integer"
            },
            "U": {
             "params": {
              "T": {
               "type": "metadsl_core.integer.Integer"
              }
             },
             "type": "metadsl_core.vec.Vec"
            }
           },
           "type": "metadsl_core.either.Either"
          }
         }
        },
        "2002047547033271164": {
         "args": [
          "-7566853347785193803"
         ],
         "function": "metadsl_core.numpy.NDArrayCompat.to_ndarray"
        },
        "2008693015714417679": {
         "args": [
          "8442055930907353369",
          "1601438670553106301"
         ],
         "function": "metadsl_core.maybe.Maybe.__or__",
         "type_params": {
          "T": {
           "params": {
            "T": {
             "type": "metadsl_core.integer.Integer"
            },
            "U": {
             "params": {
              "T": {
               "type": "metadsl_core.integer.Integer"
              }
             },
             "type": "metadsl_core.vec.Vec"
            }
           },
           "type": "metadsl_core.either.Either"
          }
         }
        },
        "2139383204678789915": {
         "function": "metadsl_core.maybe.Maybe.nothing",
         "type_params": {
          "T": {
           "params": {
            "T": {
             "type": "metadsl_core.integer.Integer"
            },
            "U": {
             "params": {
              "T": {
               "type": "metadsl_core.integer.Integer"
              }
             },
             "type": "metadsl_core.vec.Vec"
            }
           },
           "type": "metadsl_core.either.Either"
          }
         }
        },
        "2174859143901622524": {
         "args": [
          "6592985534669160016",
          "4765036408123793029"
         ],
         "function": "metadsl_core.numpy.NDArrayCompat.__add__"
        },
        "2177864481804325886": {
         "args": [
          "3154054583708263430",
          "429197055195322326"
         ],
         "function": "metadsl_core.maybe.Maybe.__and__",
         "type_params": {
          "T": {
           "type": "metadsl_core.numpy.NDArray"
          }
         }
        },
        "2194707996489643723": {
         "args": [
          "3154054583708263430",
          "9138630884565612149"
         ],
         "function": "metadsl_core.maybe.Maybe.__and__",
         "type_params": {
          "T": {
           "type": "metadsl_core.numpy.NDArray"
          }
         }
        },
        "2201775905097761748": {
         "args": [
          "4104837872921889149",
          "-3705275237759055718"
         ],
         "function": "metadsl_core.numpy_engine.ndarray_getitem"
        },
        "2234634916712647790": {
         "args": [
          "-1009273168357572286"
         ],
         "function": "metadsl_core.numpy.NDArrayCompat.to_ndarray"
        },
        "2256881620913520688": {
         "repr": "Variable(4545529056)",
         "type": "metadsl_core.abstraction.Variable"
        },
        "2256881639898844138": {
         "repr": "Variable(4545252544)",
         "type": "metadsl_core.abstraction.Variable"
        },
        "2256881645872217088": {
         "repr": "Variable(4545178592)",
         "type": "metadsl_core.abstraction.Variable"
        },
        "2256881646464358263": {
         "repr": "Variable(4545153456)",
         "type": "metadsl_core.abstraction.Variable"
        },
        "2256881666069968538": {
         "repr": "Variable(4544861632)",
         "type": "metadsl_core.abstraction.Variable"
        },
        "2290366467829829887": {
         "args": [
          "94344989907645566",
          "-1634153577544591591",
          "3939664682908968727"
         ],
         "function": "metadsl_core.maybe.Maybe.match"
        },
        "2293270272962369549": {
         "args": [
          "-7833044461111117892"
         ],
         "function": "metadsl_core.numpy.NDArrayCompat.to_ndarray"
        },
        "2338214461368435643": {
         "repr": "<function NDArrayCompat.__getitem__.<locals>.<lambda> at 0x10ee30d08>",
         "type": "function"
        },
        "235940811985889809": {
         "args": [
          "-1682084061976265732"
         ],
         "function": "metadsl_core.pair.Pair.left",
         "type_params": {
          "T": {
           "type": "metadsl_core.numpy.NDArray"
          },
          "U": {
           "params": {
            "T": {
             "type": "metadsl_core.integer.Integer"
            },
            "U": {
             "params": {
              "T": {
               "type": "metadsl_core.integer.Integer"
              }
             },
             "type": "metadsl_core.vec.Vec"
            }
           },
           "type": "metadsl_core.either.Either"
          }
         }
        },
        "2445323908143964650": {
         "args": [
          "2194707996489643723",
          "-1634153577544591591",
          "3939664682908968727"
         ],
         "function": "metadsl_core.maybe.Maybe.match"
        },
        "2528354174947220587": {
         "args": [
          "3018243808281027558"
         ],
         "function": "metadsl_core.abstraction.Abstraction.from_fn"
        },
        "2535515210733193989": {
         "args": [
          "-993268038132965659"
         ],
         "function": "metadsl_core.conversion.Converter.convert",
         "type_params": {
          "T": {
           "type": "metadsl_core.numpy.NDArray"
          }
         }
        },
        "253694624211199247": {
         "args": [
          "6423888092713896623"
         ],
         "function": "metadsl_core.numpy.NDArrayCompat.from_ndarray"
        },
        "253947969307225104": {
         "args": [
          "-8208727243401881275",
          "-1634153577544591591",
          "3939664682908968727"
         ],
         "function": "metadsl_core.maybe.Maybe.match"
        },
        "2609110179263592441": {
         "args": [
          "1348954272782968583"
         ],
         "function": "metadsl_core.numpy.NDArrayCompat.to_ndarray"
        },
        "266412911899798500": {
         "args": [
          "-5419148412288663401",
          "5770661515837650204"
         ],
         "function": "metadsl_core.numpy.NDArrayCompat.__add__"
        },
        "2761148773475161562": {
         "args": [
          "-1682084061976265732",
          "5912341640787431499"
         ],
         "function": "metadsl_core.abstraction.Abstraction.create"
        },
        "2895527461790539826": {
         "args": [
          "-3727455046238765628"
         ],
         "function": "metadsl_core.numpy.NDArrayCompat.from_ndarray"
        },
        "2902666336292618750": {
         "args": [
          "3391549790777468134",
          "-1634153577544591591",
          "3939664682908968727"
         ],
         "function": "metadsl_core.maybe.Maybe.match"
        },
        "2934984718511839240": {
         "args": [
          "-6099267688461610945",
          "-6348449952595699719"
         ],
         "function": "metadsl_core.abstraction.Abstraction.__call__",
         "type_params": {
          "T": {
           "type": "metadsl_core.integer.Integer"
          },
          "U": {
           "params": {
            "T": {
             "type": "metadsl_core.numpy.NDArray"
            }
           },
           "type": "metadsl_core.maybe.Maybe"
          }
         }
        },
        "3018242077089727158": {
         "repr": "BoundInfer(fn=<function Either.left at 0x10bfd2378>, owner=metadsl_core.either.Either[metadsl_core.integer.Integer, metadsl_core.vec.Vec[metadsl_core.integer.Integer]], is_classmethod=True)",
         "type": "metadsl.typing_tools.BoundInfer"
        },
        "3018242090937386958": {
         "repr": "BoundInfer(fn=<function Maybe.just at 0x10bfd20d0>, owner=metadsl_core.maybe.Maybe[metadsl_core.numpy.NDArray], is_classmethod=True)",
         "type": "metadsl.typing_tools.BoundInfer"
        },
        "3018242093249660358": {
         "repr": "BoundInfer(fn=<function Maybe.just at 0x10bfd20d0>, owner=metadsl_core.maybe.Maybe[metadsl_core.numpy.NDArray], is_classmethod=True)",
         "type": "metadsl.typing_tools.BoundInfer"
        },
        "3018242093829893758": {
         "repr": "BoundInfer(fn=<function Either.right at 0x10bfd27b8>, owner=metadsl_core.either.Either[metadsl_core.integer.Integer, metadsl_core.vec.Vec[metadsl_core.integer.Integer]], is_classmethod=True)",
         "type": "metadsl.typing_tools.BoundInfer"
        },
        "3018242388908888358": {
         "repr": "BoundInfer(fn=<function Maybe.just at 0x10bfd20d0>, owner=metadsl_core.maybe.Maybe[metadsl_core.numpy.NDArray], is_classmethod=True)",
         "type": "metadsl.typing_tools.BoundInfer"
        },
        "3018242513936195758": {
         "repr": "BoundInfer(fn=<function Maybe.just at 0x10bfd20d0>, owner=metadsl_core.maybe.Maybe[metadsl_core.either.Either[metadsl_core.integer.Integer, metadsl_core.vec.Vec[metadsl_core.integer.Integer]]], is_classmethod=True)",
         "type": "metadsl.typing_tools.BoundInfer"
        },
        "3018242514732934158": {
         "repr": "BoundInfer(fn=<function Either.left at 0x10bfd2378>, owner=metadsl_core.either.Either[metadsl_core.integer.Integer, metadsl_core.vec.Vec[metadsl_core.integer.Integer]], is_classmethod=True)",
         "type": "metadsl.typing_tools.BoundInfer"
        },
        "3018242855234677758": {
         "repr": "BoundInfer(fn=<function Maybe.just at 0x10bfd20d0>, owner=metadsl_core.maybe.Maybe[metadsl_core.numpy.NDArray], is_classmethod=True)",
         "type": "metadsl.typing_tools.BoundInfer"
        },
        "3018242884575435358": {
         "repr": "BoundInfer(fn=<function Either.left at 0x10bfd2378>, owner=metadsl_core.either.Either[metadsl_core.integer.Integer, metadsl_core.vec.Vec[metadsl_core.integer.Integer]], is_classmethod=True)",
         "type": "metadsl.typing_tools.BoundInfer"
        },
        "3018242890888721158": {
         "repr": "BoundInfer(fn=<function Maybe.just at 0x10bfd20d0>, owner=metadsl_core.maybe.Maybe[metadsl_core.numpy.NDArray], is_classmethod=True)",
         "type": "metadsl.typing_tools.BoundInfer"
        },
        "3018242913128114758": {
         "repr": "BoundInfer(fn=<function Either.right at 0x10bfd27b8>, owner=metadsl_core.either.Either[metadsl_core.integer.Integer, metadsl_core.vec.Vec[metadsl_core.integer.Integer]], is_classmethod=True)",
         "type": "metadsl.typing_tools.BoundInfer"
        },
        "3018243806609608958": {
         "repr": "BoundInfer(fn=<function Either.left at 0x10bfd2378>, owner=metadsl_core.either.Either[metadsl_core.integer.Integer, metadsl_core.vec.Vec[metadsl_core.integer.Integer]], is_classmethod=True)",
         "type": "metadsl.typing_tools.BoundInfer"
        },
        "3018243808281027558": {
         "repr": "BoundInfer(fn=<function Maybe.just at 0x10bfd20d0>, owner=metadsl_core.maybe.Maybe[metadsl_core.either.Either[metadsl_core.integer.Integer, metadsl_core.vec.Vec[metadsl_core.integer.Integer]]], is_classmethod=True)",
         "type": "metadsl.typing_tools.BoundInfer"
        },
        "3154054583708263430": {
         "args": [
          "7281850675127942797"
         ],
         "function": "metadsl_core.conversion.Converter.convert",
         "type_params": {
          "T": {
           "type": "metadsl_core.numpy.NDArray"
          }
         }
        },
        "3185944533757697213": {
         "args": [
          "6489103018356725261"
         ],
         "function": "metadsl_core.pair.Pair.left",
         "type_params": {
          "T": {
           "type": "metadsl_core.numpy.NDArray"
          },
          "U": {
           "params": {
            "T": {
             "type": "metadsl_core.integer.Integer"
            },
            "U": {
             "params": {
              "T": {
               "type": "metadsl_core.integer.Integer"
              }
             },
             "type": "metadsl_core.vec.Vec"
            }
           },
           "type": "metadsl_core.either.Either"
          }
         }
        },
        "3224580203905643294": {
         "args": [
          "2445323908143964650"
         ],
         "function": "metadsl_core.numpy.NDArrayCompat.from_ndarray"
        },
        "3249995690797286045": {
         "args": [
          "-1869258503858706285"
         ],
         "function": "metadsl_core.numpy.NDArrayCompat.to_ndarray"
        },
        "3297391882060139096": {
         "args": [
          "4971045331411428895",
          "-8279248212145704116"
         ],
         "function": "metadsl_core.maybe.Maybe.__and__",
         "type_params": {
          "T": {
           "type": "metadsl_core.numpy.NDArray"
          }
         }
        },
        "3391549790777468134": {
         "args": [
          "-2978751380312359645",
          "-8279248212145704116"
         ],
         "function": "metadsl_core.maybe.Maybe.__and__",
         "type_params": {
          "T": {
           "type": "metadsl_core.numpy.NDArray"
          }
         }
        },
        "339854020085832488": {
         "args": [
          "-8006232622035031103",
          "-6348449952595699719"
         ],
         "function": "metadsl_core.abstraction.Abstraction.__call__",
         "type_params": {
          "T": {
           "type": "metadsl_core.integer.Integer"
          },
          "U": {
           "params": {
            "T": {
             "type": "metadsl_core.numpy.NDArray"
            }
           },
           "type": "metadsl_core.maybe.Maybe"
          }
         }
        },
        "3443580654182396632": {
         "args": [
          "-3705275237759055718"
         ],
         "function": "metadsl_core.conversion.Converter.convert",
         "type_params": {
          "T": {
           "type": "metadsl_core.integer.Integer"
          }
         }
        },
        "3452880505442753883": {
         "args": [
          "6401238467075760220",
          "-1634153577544591591",
          "-3342032545110961032"
         ],
         "function": "metadsl_core.maybe.Maybe.match",
         "type_params": {
          "T": {
           "type": "metadsl_core.integer.Integer"
          }
         }
        },
        "3457719431142169112": {
         "args": [
          "8651256058592678812",
          "-1634153577544591591",
          "3939664682908968727"
         ],
         "function": "metadsl_core.maybe.Maybe.match"
        },
        "3464002892713393029": {
         "args": [
          "-759093838837854533"
         ],
         "function": "metadsl_core.numpy.NDArray.to_ndarray"
        },
        "3542888536951180369": {
         "args": [
          "-6966490379948381395"
         ],
         "function": "metadsl_core.abstraction.Abstraction.create_variable",
         "type_params": {
          "T": {
           "type": "metadsl_core.numpy.NDArray"
          },
          "U": {
           "params": {
            "T": {
             "type": "metadsl_core.numpy.NDArray"
            }
           },
           "type": "metadsl_core.maybe.Maybe"
          }
         }
        },
        "3641173290756005268": {
         "args": [
          "-731737035857768788",
          "-6348449952595699719"
         ],
         "function": "metadsl_core.abstraction.Abstraction.__call__",
         "type_params": {
          "T": {
           "type": "metadsl_core.integer.Integer"
          },
          "U": {
           "params": {
            "T": {
             "type": "metadsl_core.numpy.NDArray"
            }
           },
           "type": "metadsl_core.maybe.Maybe"
          }
         }
        },
        "3654034989066856012": {
         "args": [
          "-7306491668974838288"
         ],
         "function": "metadsl_core.numpy.NDArrayCompat.from_ndarray"
        },
        "3666256152571248845": {
         "args": [
          "-759093838837854533",
          "1758874941227862512"
         ],
         "function": "metadsl_core.numpy.NDArray.__getitem__"
        },
        "3701521918327552087": {
         "args": [
          "7433198376928197925",
          "-8279248212145704116"
         ],
         "function": "metadsl_core.maybe.Maybe.__and__",
         "type_params": {
          "T": {
           "type": "metadsl_core.numpy.NDArray"
          }
         }
        },
        "3738397696021468515": {
         "args": [
          "253694624211199247"
         ],
         "function": "metadsl_core.numpy.NDArrayCompat.to_ndarray"
        },
        "3748997720588164969": {
         "args": [
          "2535515210733193989",
          "8011615922277789946"
         ],
         "function": "metadsl_core.maybe.Maybe.__and__",
         "type_params": {
          "T": {
           "type": "metadsl_core.numpy.NDArray"
          }
         }
        },
        "390378103727119285": {
         "args": [
          "7261419658042864355",
          "-3507735203545765246"
         ],
         "function": "metadsl_core.maybe.Maybe.map",
         "type_params": {
          "T": {
           "params": {
            "T": {
             "type": "metadsl_core.numpy.NDArray"
            },
            "U": {
             "params": {
              "T": {
               "type": "metadsl_core.integer.Integer"
              },
              "U": {
               "params": {
                "T": {
                 "type": "metadsl_core.integer.Integer"
                }
               },
               "type": "metadsl_core.vec.Vec"
              }
             },
             "type": "metadsl_core.either.Either"
            }
           },
           "type": "metadsl_core.pair.Pair"
          }
         }
        },
        "3919631083830166914": {
         "args": [
          "4979549945188571768",
          "1601438670553106301"
         ],
         "function": "metadsl_core.maybe.Maybe.__or__",
         "type_params": {
          "T": {
           "params": {
            "T": {
             "type": "metadsl_core.integer.Integer"
            },
            "U": {
             "params": {
              "T": {
               "type": "metadsl_core.integer.Integer"
              }
             },
             "type": "metadsl_core.vec.Vec"
            }
           },
           "type": "metadsl_core.either.Either"
          }
         }
        },
        "3939664682908968727": {
         "args": [
          "-4835518037135611421",
          "8959345856999598305"
         ],
         "function": "metadsl_core.abstraction.Abstraction.__add__",
         "type_params": {
          "T": {
           "type": "metadsl_core.numpy.NDArray"
          },
          "U": {
           "params": {
            "T": {
             "type": "metadsl_core.numpy.NDArray"
            }
           },
           "type": "metadsl_core.maybe.Maybe"
          }
         }
        },
        "4050511387654880594": {
         "args": [
          "8058674147980137187"
         ],
         "function": "metadsl_core.numpy.NDArrayCompat.to_ndarray"
        },
        "4104837872921889149": {
         "repr": "array([  0,   2,   4,   6,   8,  10,  12,  14,  16,  18,  20,  22,  24,\n        26,  28,  30,  32,  34,  36,  38,  40,  42,  44,  46,  48,  50,\n        52,  54,  56,  58,  60,  62,  64,  66,  68,  70,  72,  74,  76,\n        78,  80,  82,  84,  86,  88,  90,  92,  94,  96,  98, 100, 102,\n       104, 106, 108, 110, 112, 114, 116, 118, 120, 122, 124, 126, 128,\n       130, 132, 134, 136, 138, 140, 142, 144, 146, 148, 150, 152, 154,\n       156, 158, 160, 162, 164, 166, 168, 170, 172, 174, 176, 178, 180,\n       182, 184, 186, 188, 190, 192, 194, 196, 198])",
         "type": "numpy.ndarray"
        },
        "4104837961654298349": {
         "repr": "array([ 0,  1,  2,  3,  4,  5,  6,  7,  8,  9, 10, 11, 12, 13, 14, 15, 16,\n       17, 18, 19, 20, 21, 22, 23, 24, 25, 26, 27, 28, 29, 30, 31, 32, 33,\n       34, 35, 36, 37, 38, 39, 40, 41, 42, 43, 44, 45, 46, 47, 48, 49, 50,\n       51, 52, 53, 54, 55, 56, 57, 58, 59, 60, 61, 62, 63, 64, 65, 66, 67,\n       68, 69, 70, 71, 72, 73, 74, 75, 76, 77, 78, 79, 80, 81, 82, 83, 84,\n       85, 86, 87, 88, 89, 90, 91, 92, 93, 94, 95, 96, 97, 98, 99])",
         "type": "numpy.ndarray"
        },
        "4104837962866726349": {
         "repr": "array([ 0,  1,  2,  3,  4,  5,  6,  7,  8,  9, 10, 11, 12, 13, 14, 15, 16,\n       17, 18, 19, 20, 21, 22, 23, 24, 25, 26, 27, 28, 29, 30, 31, 32, 33,\n       34, 35, 36, 37, 38, 39, 40, 41, 42, 43, 44, 45, 46, 47, 48, 49, 50,\n       51, 52, 53, 54, 55, 56, 57, 58, 59, 60, 61, 62, 63, 64, 65, 66, 67,\n       68, 69, 70, 71, 72, 73, 74, 75, 76, 77, 78, 79, 80, 81, 82, 83, 84,\n       85, 86, 87, 88, 89, 90, 91, 92, 93, 94, 95, 96, 97, 98, 99])",
         "type": "numpy.ndarray"
        },
        "4130506920816483144": {
         "args": [
          "-7070438637286422905"
         ],
         "function": "metadsl_core.abstraction.Abstraction.from_fn"
        },
        "413842287564348553": {
         "args": [
          "-3207784447052424171",
          "-2512465747330345911"
         ],
         "function": "metadsl_core.abstraction.Abstraction.__add__",
         "type_params": {
          "T": {
           "type": "metadsl_core.numpy.NDArray"
          },
          "U": {
           "params": {
            "T": {
             "type": "metadsl_core.numpy.NDArray"
            }
           },
           "type": "metadsl_core.maybe.Maybe"
          }
         }
        },
        "4148639224189782906": {
         "args": [
          "4657119654278063508"
         ],
         "function": "metadsl_core.numpy.NDArrayCompat.from_ndarray"
        },
        "4219810650526180898": {
         "args": [
          "-2709691337316416549"
         ],
         "function": "metadsl_core.numpy.NDArrayCompat.to_ndarray"
        },
        "4280049150639986338": {
         "args": [
          "4836301537517960171"
         ],
         "function": "metadsl_core.maybe.Maybe.just",
         "type_params": {
          "T": {
           "type": "metadsl_core.numpy.NDArray"
          }
         }
        },
        "429197055195322326": {
         "args": [
          "-4935307720403575888"
         ],
         "function": "metadsl_core.maybe.Maybe.just"
        },
        "4309851369393855056": {
         "args": [
          "-924991507664114789"
         ],
         "function": "metadsl_core.numpy.NDArrayCompat.from_ndarray"
        },
        "4323664151503061232": {
         "args": [
          "6226270116717653174"
         ],
         "function": "metadsl_core.numpy.NDArrayCompat.to_ndarray"
        },
        "4324317467807923182": {
         "args": [
          "-7618240575693270998"
         ],
         "function": "metadsl_core.numpy.NDArrayCompat.from_ndarray"
        },
        "4334974619117012171": {
         "args": [
          "-3705275237759055718"
         ],
         "function": "metadsl_core.integer.Integer.from_int"
        },
        "4365430454413737058": {
         "args": [
          "132793758213287069",
          "-8279248212145704116"
         ],
         "function": "metadsl_core.maybe.Maybe.__and__",
         "type_params": {
          "T": {
           "type": "metadsl_core.numpy.NDArray"
          }
         }
        },
        "4485487928932546707": {
         "args": [
          "-5001681947630871869",
          "-6348449952595699719"
         ],
         "function": "metadsl_core.abstraction.Abstraction.__call__",
         "type_params": {
          "T": {
           "type": "metadsl_core.integer.Integer"
          },
          "U": {
           "params": {
            "T": {
             "type": "metadsl_core.numpy.NDArray"
            }
           },
           "type": "metadsl_core.maybe.Maybe"
          }
         }
        },
        "454418893679383339": {
         "args": [
          "-1083094577582095066"
         ],
         "function": "metadsl_core.conversion.Converter.convert",
         "type_params": {
          "T": {
           "type": "metadsl_core.numpy.NDArray"
          }
         }
        },
        "4557781680098074782": {
         "args": [
          "-6438549173542216615",
          "-1703772318083535964"
         ],
         "function": "metadsl_core.abstraction.Abstraction.__add__",
         "type_params": {
          "T": {
           "params": {
            "T": {
             "type": "metadsl_core.integer.Integer"
            },
            "U": {
             "params": {
              "T": {
               "type": "metadsl_core.integer.Integer"
              }
             },
             "type": "metadsl_core.vec.Vec"
            }
           },
           "type": "metadsl_core.either.Either"
          },
          "U": {
           "params": {
            "T": {
             "params": {
              "T": {
               "type": "metadsl_core.integer.Integer"
              },
              "U": {
               "params": {
                "T": {
                 "type": "metadsl_core.integer.Integer"
                }
               },
               "type": "metadsl_core.vec.Vec"
              }
             },
             "type": "metadsl_core.either.Either"
            }
           },
           "type": "metadsl_core.maybe.Maybe"
          }
         }
        },
        "4594020610033156603": {
         "args": [
          "6489103018356725261"
         ],
         "function": "metadsl_core.maybe.Maybe.just"
        },
        "4657119654278063508": {
         "args": [
          "2177864481804325886",
          "-1634153577544591591",
          "3939664682908968727"
         ],
         "function": "metadsl_core.maybe.Maybe.match"
        },
        "4678850780078233403": {
         "args": [
          "6427778498691214608"
         ],
         "function": "metadsl_core.conversion.Converter.convert",
         "type_params": {
          "T": {
           "type": "metadsl_core.numpy.NDArray"
          }
         }
        },
        "4765036408123793029": {
         "args": [
          "-6456102885800723638"
         ],
         "function": "metadsl_core.numpy.NDArrayCompat.from_ndarray"
        },
        "4836301537517960171": {
         "args": [
          "2256881639898844138"
         ],
         "function": "metadsl_core.abstraction.Abstraction.create_variable",
         "type_params": {
          "T": {
           "type": "metadsl_core.numpy.NDArray"
          },
          "U": {
           "params": {
            "T": {
             "type": "metadsl_core.numpy.NDArray"
            }
           },
           "type": "metadsl_core.maybe.Maybe"
          }
         }
        },
        "4877147695135932021": {
         "args": [
          "4485487928932546707"
         ],
         "function": "metadsl_core.numpy.NDArrayCompat.from_ndarray"
        },
        "4893635387986418138": {
         "args": [
          "8418115160699495541"
         ],
         "function": "metadsl_core.numpy.NDArrayCompat.from_ndarray"
        },
        "4921836867861837311": {
         "args": [
          "-1845100254673235209"
         ],
         "function": "metadsl_core.numpy.NDArrayCompat.to_ndarray"
        },
        "4956640976287279549": {
         "args": [
          "3185944533757697213",
          "1758874941227862512"
         ],
         "function": "metadsl_core.numpy.NDArray.__getitem__"
        },
        "4971045331411428895": {
         "args": [
          "-7206686008652223635"
         ],
         "function": "metadsl_core.conversion.Converter.convert",
         "type_params": {
          "T": {
           "type": "metadsl_core.numpy.NDArray"
          }
         }
        },
        "4979549945188571768": {
         "args": [
          "1661886770869584341",
          "2139383204678789915",
          "6897452903364292986"
         ],
         "function": "metadsl_core.maybe.Maybe.match",
         "type_params": {
          "T": {
           "type": "metadsl_core.integer.Integer"
          }
         }
        },
        "5030199846527934115": {
         "args": [
          "2177864481804325886",
          "-1634153577544591591",
          "-2551837803454835445"
         ],
         "function": "metadsl_core.maybe.Maybe.match"
        },
        "5045056337060435608": {
         "args": [
          "-5601283796747524553"
         ],
         "function": "metadsl_core.numpy.NDArrayCompat.from_ndarray"
        },
        "5231317810645234517": {
         "args": [
          "-2927105886577020080",
          "8011615922277789946"
         ],
         "function": "metadsl_core.maybe.Maybe.__and__",
         "type_params": {
          "T": {
           "type": "metadsl_core.numpy.NDArray"
          }
         }
        },
        "526428893679100076": {
         "args": [
          "3018242093829893758"
         ],
         "function": "metadsl_core.abstraction.Abstraction.from_fn"
        },
        "53011181607246694": {
         "args": [
          "-759093838837854533"
         ],
         "function": "metadsl_core.maybe.Maybe.just"
        },
        "5343648074907559027": {
         "args": [
          "-3776049005220402373",
          "-8069826498132308269"
         ],
         "function": "metadsl_core.abstraction.Abstraction.create"
        },
        "5499010981226069800": {
         "args": [
          "-3788189630158834534",
          "4334974619117012171"
         ],
         "function": "metadsl_core.abstraction.Abstraction.__call__",
         "type_params": {
          "T": {
           "type": "metadsl_core.integer.Integer"
          },
          "U": {
           "params": {
            "T": {
             "params": {
              "T": {
               "type": "metadsl_core.integer.Integer"
              },
              "U": {
               "params": {
                "T": {
                 "type": "metadsl_core.integer.Integer"
                }
               },
               "type": "metadsl_core.vec.Vec"
              }
             },
             "type": "metadsl_core.either.Either"
            }
           },
           "type": "metadsl_core.maybe.Maybe"
          }
         }
        },
        "5587518118418537197": {
         "args": [
          "2177864481804325886",
          "-1634153577544591591",
          "-4085882839489581592"
         ],
         "function": "metadsl_core.maybe.Maybe.match"
        },
        "5598944308330143781": {
         "args": [
          "53011181607246694",
          "429197055195322326"
         ],
         "function": "metadsl_core.maybe.Maybe.__and__",
         "type_params": {
          "T": {
           "type": "metadsl_core.numpy.NDArray"
          }
         }
        },
        "5764860230719714798": {
         "args": [
          "-7055281088629370118",
          "-7055281088629370118"
         ],
         "function": "metadsl_core.numpy.NDArrayCompat.__add__"
        },
        "5770661515837650204": {
         "args": [
          "-7927669274848198725"
         ],
         "function": "metadsl_core.numpy.NDArrayCompat.from_ndarray"
        },
        "5912341640787431499": {
         "args": [
          "7047408921337346536"
         ],
         "function": "metadsl_core.maybe.Maybe.just",
         "type_params": {
          "T": {
           "type": "metadsl_core.numpy.NDArray"
          }
         }
        },
        "5985250294110641113": {
         "args": [
          "-5239234725843763163"
         ],
         "function": "metadsl_core.numpy.NDArray.to_ndarray"
        },
        "6126166981246398513": {
         "args": [
          "-8488369925205322838"
         ],
         "function": "metadsl_core.numpy.NDArrayCompat.to_ndarray"
        },
        "6160191058984105797": {
         "args": [
          "3641173290756005268"
         ],
         "function": "metadsl_core.numpy.NDArrayCompat.from_ndarray"
        },
        "6166778259965441686": {
         "args": [
          "-2048565193936773123"
         ],
         "function": "metadsl_core.numpy.NDArrayCompat.to_ndarray"
        },
        "6188741693156294736": {
         "args": [
          "2895527461790539826"
         ],
         "function": "metadsl_core.numpy.NDArrayCompat.to_ndarray"
        },
        "6226270116717653174": {
         "args": [
          "2902666336292618750"
         ],
         "function": "metadsl_core.numpy.NDArrayCompat.from_ndarray"
        },
        "625173368782505159": {
         "args": [
          "-7738163237082567838"
         ],
         "function": "metadsl_core.either.Either.left",
         "type_params": {
          "T": {
           "type": "metadsl_core.integer.Integer"
          },
          "U": {
           "params": {
            "T": {
             "type": "metadsl_core.integer.Integer"
            }
           },
           "type": "metadsl_core.vec.Vec"
          }
         }
        },
        "6263375678545427999": {
         "args": [
          "-3705275237759055718"
         ],
         "function": "metadsl_core.conversion.Converter.convert",
         "type_params": {
          "T": {
           "params": {
            "T": {
             "type": "metadsl_core.integer.Integer"
            }
           },
           "type": "metadsl_core.vec.Vec"
          }
         }
        },
        "6263790735347685846": {
         "args": [
          "-3705275237864060643"
         ],
         "function": "metadsl_core.numpy_engine.arange"
        },
        "6278399143217720666": {
         "args": [
          "3654034989066856012"
         ],
         "function": "metadsl_core.numpy.NDArrayCompat.to_ndarray"
        },
        "6401238467075760220": {
         "args": [
          "-6348449952595699719"
         ],
         "function": "metadsl_core.maybe.Maybe.just"
        },
        "6409456962031733631": {
         "args": [
          "-6286215055759621830",
          "1750584978643145296"
         ],
         "function": "metadsl_core.maybe.Maybe.__and__",
         "type_params": {
          "T": {
           "type": "metadsl_core.numpy.NDArray"
          }
         }
        },
        "6423888092713896623": {
         "args": [
          "8032600939169997756",
          "-3507735203545765246"
         ],
         "function": "metadsl_core.maybe.Maybe.map",
         "type_params": {
          "T": {
           "params": {
            "T": {
             "type": "metadsl_core.numpy.NDArray"
            },
            "U": {
             "params": {
              "T": {
               "type": "metadsl_core.integer.Integer"
              },
              "U": {
               "params": {
                "T": {
                 "type": "metadsl_core.integer.Integer"
                }
               },
               "type": "metadsl_core.vec.Vec"
              }
             },
             "type": "metadsl_core.either.Either"
            }
           },
           "type": "metadsl_core.pair.Pair"
          }
         }
        },
        "6427778498691214608": {
         "args": [
          "4765036408123793029",
          "8519257424446584621"
         ],
         "function": "metadsl_core.numpy.NDArrayCompat.__add__"
        },
        "6454113284553735655": {
         "args": [
          "1110748371494516795"
         ],
         "function": "metadsl_core.numpy.NDArrayCompat.from_ndarray"
        },
        "6467376240504041523": {
         "args": [
          "3018242090937386958"
         ],
         "function": "metadsl_core.abstraction.Abstraction.from_fn"
        },
        "6487451330758204480": {
         "args": [
          "-1748392540487243140",
          "4130506920816483144"
         ],
         "function": "metadsl_core.abstraction.Abstraction.__add__",
         "type_params": {
          "T": {
           "type": "metadsl_core.numpy.NDArray"
          },
          "U": {
           "params": {
            "T": {
             "type": "metadsl_core.numpy.NDArray"
            }
           },
           "type": "metadsl_core.maybe.Maybe"
          }
         }
        },
        "6489103018356725261": {
         "args": [
          "-759093838837854533",
          "-4935307720403575888"
         ],
         "function": "metadsl_core.pair.Pair.create"
        },
        "648982351612815617": {
         "args": [
          "1908416206163114694"
         ],
         "function": "metadsl_core.numpy.NDArrayCompat.to_ndarray"
        },
        "6550727564280151447": {
         "args": [
          "5764860230719714798",
          "-3705275237759055718"
         ],
         "function": "metadsl_core.numpy.NDArrayCompat.__getitem__"
        },
        "6592985534669160016": {
         "args": [
          "2934984718511839240"
         ],
         "function": "metadsl_core.numpy.NDArrayCompat.from_ndarray"
        },
        "6612416752168751060": {
         "args": [
          "266412911899798500"
         ],
         "function": "metadsl_core.conversion.Converter.convert",
         "type_params": {
          "T": {
           "type": "metadsl_core.numpy.NDArray"
          }
         }
        },
        "66424626733142333": {
         "args": [
          "-8281681333636686969",
          "-3507735203545765246"
         ],
         "function": "metadsl_core.maybe.Maybe.map",
         "type_params": {
          "T": {
           "params": {
            "T": {
             "type": "metadsl_core.numpy.NDArray"
            },
            "U": {
             "params": {
              "T": {
               "type": "metadsl_core.integer.Integer"
              },
              "U": {
               "params": {
                "T": {
                 "type": "metadsl_core.integer.Integer"
                }
               },
               "type": "metadsl_core.vec.Vec"
              }
             },
             "type": "metadsl_core.either.Either"
            }
           },
           "type": "metadsl_core.pair.Pair"
          }
         }
        },
        "6716517354224206211": {
         "args": [
          "-1852849618758691204",
          "-1634153577544591591",
          "3939664682908968727"
         ],
         "function": "metadsl_core.maybe.Maybe.match"
        },
        "6735286619205741784": {
         "args": [
          "4148639224189782906"
         ],
         "function": "metadsl_core.numpy.NDArrayCompat.to_ndarray"
        },
        "676902453469965611": {
         "args": [
          "-6348449952595699719"
         ],
         "function": "metadsl_core.numpy.arange_"
        },
        "6897452903364292986": {
         "args": [
          "2528354174947220587",
          "7118332679423400992"
         ],
         "function": "metadsl_core.abstraction.Abstraction.__add__",
         "type_params": {
          "T": {
           "params": {
            "T": {
             "type": "metadsl_core.integer.Integer"
            },
            "U": {
             "params": {
              "T": {
               "type": "metadsl_core.integer.Integer"
              }
             },
             "type": "metadsl_core.vec.Vec"
            }
           },
           "type": "metadsl_core.either.Either"
          },
          "U": {
           "params": {
            "T": {
             "params": {
              "T": {
               "type": "metadsl_core.integer.Integer"
              },
              "U": {
               "params": {
                "T": {
                 "type": "metadsl_core.integer.Integer"
                }
               },
               "type": "metadsl_core.vec.Vec"
              }
             },
             "type": "metadsl_core.either.Either"
            }
           },
           "type": "metadsl_core.maybe.Maybe"
          }
         }
        },
        "6931023940528400184": {
         "args": [
          "2761148773475161562",
          "6489103018356725261"
         ],
         "function": "metadsl_core.abstraction.Abstraction.__call__",
         "type_params": {
          "T": {
           "params": {
            "T": {
             "type": "metadsl_core.numpy.NDArray"
            },
            "U": {
             "params": {
              "T": {
               "type": "metadsl_core.integer.Integer"
              },
              "U": {
               "params": {
                "T": {
                 "type": "metadsl_core.integer.Integer"
                }
               },
               "type": "metadsl_core.vec.Vec"
              }
             },
             "type": "metadsl_core.either.Either"
            }
           },
           "type": "metadsl_core.pair.Pair"
          },
          "U": {
           "params": {
            "T": {
             "type": "metadsl_core.numpy.NDArray"
            }
           },
           "type": "metadsl_core.maybe.Maybe"
          }
         }
        },
        "7022335250217740843": {
         "args": [
          "-2371344914798446896"
         ],
         "function": "metadsl_core.numpy.NDArrayCompat.to_ndarray"
        },
        "7047408921337346536": {
         "args": [
          "235940811985889809",
          "1944380695342457780"
         ],
         "function": "metadsl_core.numpy.NDArray.__getitem__"
        },
        "7102146947631963592": {
         "args": [
          "-5321874812370855004",
          "7264538449376390032"
         ],
         "function": "metadsl_core.maybe.Maybe.__or__",
         "type_params": {
          "T": {
           "params": {
            "T": {
             "type": "metadsl_core.integer.Integer"
            },
            "U": {
             "params": {
              "T": {
               "type": "metadsl_core.integer.Integer"
              }
             },
             "type": "metadsl_core.vec.Vec"
            }
           },
           "type": "metadsl_core.either.Either"
          }
         }
        },
        "7118332679423400992": {
         "args": [
          "3018243806609608958"
         ],
         "function": "metadsl_core.abstraction.Abstraction.from_fn"
        },
        "7261419658042864355": {
         "args": [
          "-6286215055759621830",
          "7102146947631963592"
         ],
         "function": "metadsl_core.maybe.Maybe.__and__",
         "type_params": {
          "T": {
           "type": "metadsl_core.numpy.NDArray"
          }
         }
        },
        "7264538449376390032": {
         "args": [
          "6263375678545427999",
          "-6337639346334006848"
         ],
         "function": "metadsl_core.maybe.Maybe.map",
         "type_params": {
          "T": {
           "params": {
            "T": {
             "type": "metadsl_core.integer.Integer"
            }
           },
           "type": "metadsl_core.vec.Vec"
          }
         }
        },
        "7281850675127942797": {
         "args": [
          "-5419148412288663401",
          "-5419148412288663401"
         ],
         "function": "metadsl_core.numpy.NDArrayCompat.__add__"
        },
        "7311794547803579994": {
         "args": [
          "-5573868449168990939",
          "-1634153577544591591",
          "3939664682908968727"
         ],
         "function": "metadsl_core.maybe.Maybe.match"
        },
        "7330624165092216033": {
         "args": [
          "-7477480118729485424"
         ],
         "function": "metadsl_core.numpy.NDArrayCompat.from_ndarray"
        },
        "7433198376928197925": {
         "args": [
          "-5969105519526623034"
         ],
         "function": "metadsl_core.conversion.Converter.convert",
         "type_params": {
          "T": {
           "type": "metadsl_core.numpy.NDArray"
          }
         }
        },
        "7515043867223428119": {
         "args": [
          "-8896022180523466101"
         ],
         "function": "metadsl_core.numpy.NDArrayCompat.to_ndarray"
        },
        "7654507105801674437": {
         "args": [
          "3457719431142169112"
         ],
         "function": "metadsl_core.numpy.NDArrayCompat.from_ndarray"
        },
        "7709830722086267384": {
         "args": [
          "-6348449952595699719"
         ],
         "function": "metadsl_core.numpy_engine.unbox_integer"
        },
        "7774360287808655507": {
         "args": [
          "1630990807433894786"
         ],
         "function": "metadsl_core.numpy.NDArrayCompat.to_ndarray"
        },
        "7810499439306393248": {
         "args": [
          "5598944308330143781",
          "-1634153577544591591",
          "2761148773475161562"
         ],
         "function": "metadsl_core.maybe.Maybe.match"
        },
        "7825973750903368564": {
         "args": [
          "625173368782505159"
         ],
         "function": "metadsl_core.maybe.Maybe.just",
         "type_params": {
          "T": {
           "params": {
            "T": {
             "type": "metadsl_core.integer.Integer"
            },
            "U": {
             "params": {
              "T": {
               "type": "metadsl_core.integer.Integer"
              }
             },
             "type": "metadsl_core.vec.Vec"
            }
           },
           "type": "metadsl_core.either.Either"
          }
         }
        },
        "7914890493891307367": {
         "args": [
          "3154054583708263430",
          "-3367812837952966218"
         ],
         "function": "metadsl_core.maybe.Maybe.__and__",
         "type_params": {
          "T": {
           "type": "metadsl_core.numpy.NDArray"
          }
         }
        },
        "7943720464290122559": {
         "args": [
          "-2304691382169679398"
         ],
         "function": "metadsl_core.maybe.Maybe.just",
         "type_params": {
          "T": {
           "type": "metadsl_core.numpy.NDArray"
          }
         }
        },
        "7967336711306262315": {
         "args": [
          "6263790735347685846",
          "-7335669005619496596"
         ],
         "function": "metadsl_core.numpy_engine.ndarray_add"
        },
        "8009941912173970220": {
         "args": [
          "3154054583708263430",
          "3919631083830166914"
         ],
         "function": "metadsl_core.maybe.Maybe.__and__",
         "type_params": {
          "T": {
           "type": "metadsl_core.numpy.NDArray"
          }
         }
        },
        "8011615922277789946": {
         "args": [
          "-3705275237759055718"
         ],
         "function": "metadsl_core.conversion.Converter.convert",
         "type_params": {
          "T": {
           "params": {
            "T": {
             "type": "metadsl_core.integer.Integer"
            },
            "U": {
             "params": {
              "T": {
               "type": "metadsl_core.integer.Integer"
              }
             },
             "type": "metadsl_core.vec.Vec"
            }
           },
           "type": "metadsl_core.either.Either"
          }
         }
        },
        "8032600939169997756": {
         "args": [
          "4678850780078233403",
          "8011615922277789946"
         ],
         "function": "metadsl_core.maybe.Maybe.__and__",
         "type_params": {
          "T": {
           "type": "metadsl_core.numpy.NDArray"
          }
         }
        },
        "8058674147980137187": {
         "args": [
          "1049507988717975635"
         ],
         "function": "metadsl_core.numpy.NDArrayCompat.from_ndarray"
        },
        "8103869775350922206": {
         "args": [
          "-5073413745936729993"
         ],
         "function": "metadsl_core.numpy.NDArrayCompat.from_ndarray"
        },
        "8177131342506622894": {
         "args": [
          "7311794547803579994"
         ],
         "function": "metadsl_core.numpy.NDArrayCompat.from_ndarray"
        },
        "8249983766491610790": {
         "args": [
          "2256881645872217088"
         ],
         "function": "metadsl_core.abstraction.Abstraction.create_variable",
         "type_params": {
          "T": {
           "type": "metadsl_core.numpy.NDArray"
          },
          "U": {
           "params": {
            "T": {
             "type": "metadsl_core.numpy.NDArray"
            }
           },
           "type": "metadsl_core.maybe.Maybe"
          }
         }
        },
        "8313730218379013134": {
         "args": [
          "3018242884575435358"
         ],
         "function": "metadsl_core.abstraction.Abstraction.from_fn"
        },
        "8403746460847649124": {
         "args": [
          "925543412887538287",
          "-8279248212145704116"
         ],
         "function": "metadsl_core.maybe.Maybe.__and__",
         "type_params": {
          "T": {
           "type": "metadsl_core.numpy.NDArray"
          }
         }
        },
        "8418115160699495541": {
         "args": [
          "-2140800586280598894",
          "-1634153577544591591",
          "3939664682908968727"
         ],
         "function": "metadsl_core.maybe.Maybe.match"
        },
        "8442055930907353369": {
         "args": [
          "-7218356126770974737",
          "4334974619117012171"
         ],
         "function": "metadsl_core.abstraction.Abstraction.__call__",
         "type_params": {
          "T": {
           "type": "metadsl_core.integer.Integer"
          },
          "U": {
           "params": {
            "T": {
             "params": {
              "T": {
               "type": "metadsl_core.integer.Integer"
              },
              "U": {
               "params": {
                "T": {
                 "type": "metadsl_core.integer.Integer"
                }
               },
               "type": "metadsl_core.vec.Vec"
              }
             },
             "type": "metadsl_core.either.Either"
            }
           },
           "type": "metadsl_core.maybe.Maybe"
          }
         }
        },
        "8519257424446584621": {
         "args": [
          "-1577388983039126609"
         ],
         "function": "metadsl_core.numpy.NDArrayCompat.from_ndarray"
        },
        "8651256058592678812": {
         "args": [
          "3154054583708263430",
          "8731456864522646440"
         ],
         "function": "metadsl_core.maybe.Maybe.__and__",
         "type_params": {
          "T": {
           "type": "metadsl_core.numpy.NDArray"
          }
         }
        },
        "8705651404375010812": {
         "args": [
          "-824942965300223143"
         ],
         "function": "metadsl_core.numpy.NDArrayCompat.from_ndarray"
        },
        "8731456864522646440": {
         "args": [
          "-8068025587362868486",
          "1601438670553106301"
         ],
         "function": "metadsl_core.maybe.Maybe.__or__",
         "type_params": {
          "T": {
           "params": {
            "T": {
             "type": "metadsl_core.integer.Integer"
            },
            "U": {
             "params": {
              "T": {
               "type": "metadsl_core.integer.Integer"
              }
             },
             "type": "metadsl_core.vec.Vec"
            }
           },
           "type": "metadsl_core.either.Either"
          }
         }
        },
        "8959345856999598305": {
         "args": [
          "2338214461368435643"
         ],
         "function": "metadsl_core.abstraction.Abstraction.from_fn",
         "type_params": {
          "T": {
           "params": {
            "T": {
             "type": "metadsl_core.numpy.NDArray"
            },
            "U": {
             "params": {
              "T": {
               "type": "metadsl_core.integer.Integer"
              },
              "U": {
               "params": {
                "T": {
                 "type": "metadsl_core.integer.Integer"
                }
               },
               "type": "metadsl_core.vec.Vec"
              }
             },
             "type": "metadsl_core.either.Either"
            }
           },
           "type": "metadsl_core.pair.Pair"
          },
          "U": {
           "type": "metadsl_core.numpy.NDArray"
          }
         }
        },
        "9138630884565612149": {
         "args": [
          "5499010981226069800",
          "1601438670553106301"
         ],
         "function": "metadsl_core.maybe.Maybe.__or__",
         "type_params": {
          "T": {
           "params": {
            "T": {
             "type": "metadsl_core.integer.Integer"
            },
            "U": {
             "params": {
              "T": {
               "type": "metadsl_core.integer.Integer"
              }
             },
             "type": "metadsl_core.vec.Vec"
            }
           },
           "type": "metadsl_core.either.Either"
          }
         }
        },
        "9155254276511678516": {
         "args": [
          "-2301610275579202249"
         ],
         "function": "metadsl_core.numpy.NDArrayCompat.from_ndarray"
        },
        "9188689799785678468": {
         "args": [
          "-2065618427858497127",
          "-1727098197078088733"
         ],
         "function": "metadsl_core.numpy_engine.ndarray_getitem"
        },
        "9213635013083931879": {
         "args": [
          "3224580203905643294"
         ],
         "function": "metadsl_core.numpy.NDArrayCompat.to_ndarray"
        },
        "925543412887538287": {
         "args": [
          "-7747615708813980176"
         ],
         "function": "metadsl_core.conversion.Converter.convert",
         "type_params": {
          "T": {
           "type": "metadsl_core.numpy.NDArray"
          }
         }
        },
        "937385339147774800": {
         "args": [
          "-6866217854608818907",
          "-7335669005619496596"
         ],
         "function": "metadsl_core.numpy_engine.ndarray_add"
        },
        "94344989907645566": {
         "args": [
          "-4323892626220002502",
          "-8279248212145704116"
         ],
         "function": "metadsl_core.maybe.Maybe.__and__",
         "type_params": {
          "T": {
           "type": "metadsl_core.numpy.NDArray"
          }
         }
        },
        "971993382396993675": {
         "args": [
          "-6036066501690401618"
         ],
         "function": "metadsl_core.conversion.Converter.convert",
         "type_params": {
          "T": {
           "type": "metadsl_core.numpy.NDArray"
          }
         }
        }
       },
       "states": {
        "initial": "-2038961938848683980",
        "states": [
         {
          "node": "-6157977845208825559",
          "rule": "metadsl_core.numpy.NDArrayCompat.__getitem__"
         },
         {
          "node": "-4265834936206840646",
          "rule": "metadsl_core.numpy.arange"
         },
         {
          "node": "-7831896604623154796",
          "rule": "metadsl_core.integer.convert_integer"
         },
         {
          "node": "3738397696021468515",
          "rule": "metadsl_core.numpy.arange"
         },
         {
          "node": "6166778259965441686",
          "rule": "metadsl_core.integer.convert_integer"
         },
         {
          "node": "2234634916712647790",
          "rule": "metadsl_core.either.convert_to_either"
         },
         {
          "node": "6126166981246398513",
          "rule": "metadsl_core.integer.convert_integer"
         },
         {
          "node": "-1194123969099835682",
          "rule": "metadsl_core.maybe.Maybe.map"
         },
         {
          "node": "-83975987365888270",
          "rule": "metadsl_core.maybe.Maybe.map"
         },
         {
          "node": "4323664151503061232",
          "rule": "metadsl_core.maybe.maybe_match"
         },
         {
          "node": "1537032622556772978",
          "rule": "metadsl_core.abstraction.Abstraction.from_fn"
         },
         {
          "node": "7022335250217740843",
          "rule": "metadsl_core.abstraction.Abstraction.from_fn"
         },
         {
          "node": "3249995690797286045",
          "rule": "metadsl_core.abstraction.compose"
         },
         {
          "node": "4050511387654880594",
          "rule": "metadsl_core.abstraction.beta_reduce"
         },
         {
          "node": "-7995219774257288332",
          "rule": "metadsl_core.maybe.Maybe.map"
         },
         {
          "node": "1189111225270799387",
          "rule": "metadsl_core.maybe.maybe_match"
         },
         {
          "node": "648982351612815617",
          "rule": "metadsl_core.abstraction.Abstraction.from_fn"
         },
         {
          "node": "2002047547033271164",
          "rule": "metadsl_core.abstraction.Abstraction.from_fn"
         },
         {
          "node": "4921836867861837311",
          "rule": "metadsl_core.abstraction.compose"
         },
         {
          "node": "7515043867223428119",
          "rule": "metadsl_core.abstraction.beta_reduce"
         },
         {
          "node": "-4230937013791417230",
          "rule": "metadsl_core.maybe.Maybe.map"
         },
         {
          "node": "9213635013083931879",
          "rule": "metadsl_core.maybe.maybe_match"
         },
         {
          "node": "-7183559494155448101",
          "rule": "metadsl_core.abstraction.Abstraction.from_fn"
         },
         {
          "node": "6278399143217720666",
          "rule": "metadsl_core.abstraction.Abstraction.from_fn"
         },
         {
          "node": "-1739529532081165970",
          "rule": "metadsl_core.abstraction.compose"
         },
         {
          "node": "-483138365163564445",
          "rule": "metadsl_core.abstraction.beta_reduce"
         },
         {
          "node": "6735286619205741784",
          "rule": "metadsl_core.maybe.maybe_or"
         },
         {
          "node": "-3077622658776788865",
          "rule": "metadsl_core.abstraction.Abstraction.from_fn"
         },
         {
          "node": "2609110179263592441",
          "rule": "metadsl_core.abstraction.Abstraction.from_fn"
         },
         {
          "node": "-9096350248485233949",
          "rule": "metadsl_core.abstraction.compose"
         },
         {
          "node": "-4905362078359034911",
          "rule": "metadsl_core.numpy.add_compat"
         },
         {
          "node": "-6622106871885258631",
          "rule": "metadsl_core.numpy.convert_to_ndarray"
         },
         {
          "node": "-5262322094604335595",
          "rule": "metadsl_core.maybe.maybe_and"
         },
         {
          "node": "2293270272962369549",
          "rule": "metadsl_core.maybe.maybe_match"
         },
         {
          "node": "6188741693156294736",
          "rule": "metadsl_core.abstraction.beta_reduce"
         },
         {
          "node": "7774360287808655507",
          "rule": "metadsl_core.pair.pair_left"
         },
         {
          "label": "convert",
          "node": "4219810650526180898",
          "rule": "metadsl_core.pair.pair_right"
         },
         {
          "node": "5985250294110641113",
          "rule": "metadsl_core.numpy.box_unbox_ndarray_compat"
         },
         {
          "node": "-1641994168720333632",
          "rule": "metadsl_core.numpy_engine.unbox_ndarray_getitem"
         },
         {
          "node": "9188689799785678468",
          "rule": "metadsl_core.numpy_engine.unbox_ndarray_add"
         },
         {
          "node": "-4509640865345816202",
          "rule": "metadsl_core.numpy_engine.unbox_arange"
         },
         {
          "node": "-1209413765003230508",
          "rule": "metadsl_core.numpy_engine.unbox_integer_rule"
         },
         {
          "node": "-805974828597571675",
          "rule": "metadsl_core.numpy_engine.unbox_arange"
         },
         {
          "node": "134344438444887549",
          "rule": "metadsl_core.numpy_engine.unbox_integer_rule"
         },
         {
          "node": "-1980804916096807227",
          "rule": "metadsl_core.numpy_engine.unbox_idxs_rule"
         },
         {
          "label": "unbox",
          "node": "-6087412193697889510",
          "rule": "metadsl_core.numpy_engine.unbox_integer_rule"
         },
         {
          "node": "-3243304169821703455",
          "rule": "metadsl_core.numpy_engine.arange"
         },
         {
          "node": "-5523046823137818627",
          "rule": "metadsl_core.numpy_engine.arange"
         },
         {
          "node": "2201775905097761748",
          "rule": "metadsl_core.numpy_engine.ndarray_add"
         },
         {
          "label": "execute",
          "node": "-5761567968183968639",
          "rule": "metadsl_core.numpy_engine.ndarray_getitem"
         }
        ]
       }
      },
      "application/x.typez.graph+json": {
       "initial": "digraph {\n\t-2038961938848683980 [label=\"metadsl_core.numpy.NDArrayCompat.to_ndarray\"]\n\t-2038961938848683980 -> 6550727564280151447\n\t6550727564280151447 [label=\"metadsl_core.numpy.NDArrayCompat.__getitem__\"]\n\t6550727564280151447 -> 5764860230719714798\n\t5764860230719714798 [label=\"metadsl_core.numpy.NDArrayCompat.__add__\"]\n\t5764860230719714798 -> -7055281088629370118\n\t-7055281088629370118 [label=\"metadsl_core.numpy.arange\"]\n\t-7055281088629370118 -> -3705275237864060643\n\t-3705275237864060643 [label=100]\n\t5764860230719714798 -> -7055281088629370118\n\t6550727564280151447 -> -3705275237759055718\n\t-3705275237759055718 [label=5]\n}",
       "states": [
        {
         "graph": "digraph {\n\t-6157977845208825559 [label=\"metadsl_core.numpy.NDArrayCompat.to_ndarray\"]\n\t-6157977845208825559 -> 6454113284553735655\n\t6454113284553735655 [label=\"metadsl_core.numpy.NDArrayCompat.from_ndarray\"]\n\t6454113284553735655 -> 1110748371494516795\n\t1110748371494516795 [label=\"metadsl_core.maybe.Maybe.map\"]\n\t1110748371494516795 -> 5231317810645234517\n\t5231317810645234517 [label=\"metadsl_core.maybe.Maybe.__and__\"]\n\t5231317810645234517 -> -2927105886577020080\n\t-2927105886577020080 [label=\"metadsl_core.conversion.Converter.convert\"]\n\t-2927105886577020080 -> 5764860230719714798\n\t5764860230719714798 [label=\"metadsl_core.numpy.NDArrayCompat.__add__\"]\n\t5764860230719714798 -> -7055281088629370118\n\t-7055281088629370118 [label=\"metadsl_core.numpy.arange\"]\n\t-7055281088629370118 -> -3705275237864060643\n\t-3705275237864060643 [label=100]\n\t5764860230719714798 -> -7055281088629370118\n\t5231317810645234517 -> 8011615922277789946\n\t8011615922277789946 [label=\"metadsl_core.conversion.Converter.convert\"]\n\t8011615922277789946 -> -3705275237759055718\n\t-3705275237759055718 [label=5]\n\t1110748371494516795 -> -3507735203545765246\n\t-3507735203545765246 [label=\"metadsl_core.abstraction.Abstraction.from_fn\"]\n\t-3507735203545765246 -> -6885163181503348890\n\t-6885163181503348890 [label=\"function NDArrayCompat.__getitem__.locals.lambda at 0x10bf35b70\"]\n}",
         "label": null,
         "rule": "metadsl_core.numpy.NDArrayCompat.__getitem__"
        },
        {
         "graph": "digraph {\n\t-4265834936206840646 [label=\"metadsl_core.numpy.NDArrayCompat.to_ndarray\"]\n\t-4265834936206840646 -> -3068859707640967745\n\t-3068859707640967745 [label=\"metadsl_core.numpy.NDArrayCompat.from_ndarray\"]\n\t-3068859707640967745 -> 66424626733142333\n\t66424626733142333 [label=\"metadsl_core.maybe.Maybe.map\"]\n\t66424626733142333 -> -8281681333636686969\n\t-8281681333636686969 [label=\"metadsl_core.maybe.Maybe.__and__\"]\n\t-8281681333636686969 -> -4912462970913600817\n\t-4912462970913600817 [label=\"metadsl_core.conversion.Converter.convert\"]\n\t-4912462970913600817 -> -4315186536235377471\n\t-4315186536235377471 [label=\"metadsl_core.numpy.NDArrayCompat.__add__\"]\n\t-4315186536235377471 -> 8519257424446584621\n\t8519257424446584621 [label=\"metadsl_core.numpy.NDArrayCompat.from_ndarray\"]\n\t8519257424446584621 -> -1577388983039126609\n\t-1577388983039126609 [label=\"metadsl_core.maybe.Maybe.map\"]\n\t-1577388983039126609 -> -7661950433982450966\n\t-7661950433982450966 [label=\"metadsl_core.conversion.Converter.convert\"]\n\t-7661950433982450966 -> -3705275237864060643\n\t-3705275237864060643 [label=100]\n\t-1577388983039126609 -> 4130506920816483144\n\t4130506920816483144 [label=\"metadsl_core.abstraction.Abstraction.from_fn\"]\n\t4130506920816483144 -> -7070438637286422905\n\t-7070438637286422905 [label=\"Infer(fn=function arange_ at 0x10ea01158)\"]\n\t-4315186536235377471 -> -7055281088629370118\n\t-7055281088629370118 [label=\"metadsl_core.numpy.arange\"]\n\t-7055281088629370118 -> -3705275237864060643\n\t-8281681333636686969 -> 8011615922277789946\n\t8011615922277789946 [label=\"metadsl_core.conversion.Converter.convert\"]\n\t8011615922277789946 -> -3705275237759055718\n\t-3705275237759055718 [label=5]\n\t66424626733142333 -> -3507735203545765246\n\t-3507735203545765246 [label=\"metadsl_core.abstraction.Abstraction.from_fn\"]\n\t-3507735203545765246 -> -6885163181503348890\n\t-6885163181503348890 [label=\"function NDArrayCompat.__getitem__.locals.lambda at 0x10bf35b70\"]\n}",
         "label": null,
         "rule": "metadsl_core.numpy.arange"
        },
        {
         "graph": "digraph {\n\t-7831896604623154796 [label=\"metadsl_core.numpy.NDArrayCompat.to_ndarray\"]\n\t-7831896604623154796 -> -3459187441090866357\n\t-3459187441090866357 [label=\"metadsl_core.numpy.NDArrayCompat.from_ndarray\"]\n\t-3459187441090866357 -> -5604299033260613634\n\t-5604299033260613634 [label=\"metadsl_core.maybe.Maybe.map\"]\n\t-5604299033260613634 -> 3748997720588164969\n\t3748997720588164969 [label=\"metadsl_core.maybe.Maybe.__and__\"]\n\t3748997720588164969 -> 2535515210733193989\n\t2535515210733193989 [label=\"metadsl_core.conversion.Converter.convert\"]\n\t2535515210733193989 -> -993268038132965659\n\t-993268038132965659 [label=\"metadsl_core.numpy.NDArrayCompat.__add__\"]\n\t-993268038132965659 -> 4765036408123793029\n\t4765036408123793029 [label=\"metadsl_core.numpy.NDArrayCompat.from_ndarray\"]\n\t4765036408123793029 -> -6456102885800723638\n\t-6456102885800723638 [label=\"metadsl_core.maybe.Maybe.map\"]\n\t-6456102885800723638 -> 6401238467075760220\n\t6401238467075760220 [label=\"metadsl_core.maybe.Maybe.just\"]\n\t6401238467075760220 -> -6348449952595699719\n\t-6348449952595699719 [label=\"metadsl_core.integer.Integer.from_int\"]\n\t-6348449952595699719 -> -3705275237864060643\n\t-3705275237864060643 [label=100]\n\t-6456102885800723638 -> 4130506920816483144\n\t4130506920816483144 [label=\"metadsl_core.abstraction.Abstraction.from_fn\"]\n\t4130506920816483144 -> -7070438637286422905\n\t-7070438637286422905 [label=\"Infer(fn=function arange_ at 0x10ea01158)\"]\n\t-993268038132965659 -> -7055281088629370118\n\t-7055281088629370118 [label=\"metadsl_core.numpy.arange\"]\n\t-7055281088629370118 -> -3705275237864060643\n\t3748997720588164969 -> 8011615922277789946\n\t8011615922277789946 [label=\"metadsl_core.conversion.Converter.convert\"]\n\t8011615922277789946 -> -3705275237759055718\n\t-3705275237759055718 [label=5]\n\t-5604299033260613634 -> -3507735203545765246\n\t-3507735203545765246 [label=\"metadsl_core.abstraction.Abstraction.from_fn\"]\n\t-3507735203545765246 -> -6885163181503348890\n\t-6885163181503348890 [label=\"function NDArrayCompat.__getitem__.locals.lambda at 0x10bf35b70\"]\n}",
         "label": null,
         "rule": "metadsl_core.integer.convert_integer"
        },
        {
         "graph": "digraph {\n\t3738397696021468515 [label=\"metadsl_core.numpy.NDArrayCompat.to_ndarray\"]\n\t3738397696021468515 -> 253694624211199247\n\t253694624211199247 [label=\"metadsl_core.numpy.NDArrayCompat.from_ndarray\"]\n\t253694624211199247 -> 6423888092713896623\n\t6423888092713896623 [label=\"metadsl_core.maybe.Maybe.map\"]\n\t6423888092713896623 -> 8032600939169997756\n\t8032600939169997756 [label=\"metadsl_core.maybe.Maybe.__and__\"]\n\t8032600939169997756 -> 4678850780078233403\n\t4678850780078233403 [label=\"metadsl_core.conversion.Converter.convert\"]\n\t4678850780078233403 -> 6427778498691214608\n\t6427778498691214608 [label=\"metadsl_core.numpy.NDArrayCompat.__add__\"]\n\t6427778498691214608 -> 4765036408123793029\n\t4765036408123793029 [label=\"metadsl_core.numpy.NDArrayCompat.from_ndarray\"]\n\t4765036408123793029 -> -6456102885800723638\n\t-6456102885800723638 [label=\"metadsl_core.maybe.Maybe.map\"]\n\t-6456102885800723638 -> 6401238467075760220\n\t6401238467075760220 [label=\"metadsl_core.maybe.Maybe.just\"]\n\t6401238467075760220 -> -6348449952595699719\n\t-6348449952595699719 [label=\"metadsl_core.integer.Integer.from_int\"]\n\t-6348449952595699719 -> -3705275237864060643\n\t-3705275237864060643 [label=100]\n\t-6456102885800723638 -> 4130506920816483144\n\t4130506920816483144 [label=\"metadsl_core.abstraction.Abstraction.from_fn\"]\n\t4130506920816483144 -> -7070438637286422905\n\t-7070438637286422905 [label=\"Infer(fn=function arange_ at 0x10ea01158)\"]\n\t6427778498691214608 -> 8519257424446584621\n\t8519257424446584621 [label=\"metadsl_core.numpy.NDArrayCompat.from_ndarray\"]\n\t8519257424446584621 -> -1577388983039126609\n\t-1577388983039126609 [label=\"metadsl_core.maybe.Maybe.map\"]\n\t-1577388983039126609 -> -7661950433982450966\n\t-7661950433982450966 [label=\"metadsl_core.conversion.Converter.convert\"]\n\t-7661950433982450966 -> -3705275237864060643\n\t-1577388983039126609 -> 4130506920816483144\n\t8032600939169997756 -> 8011615922277789946\n\t8011615922277789946 [label=\"metadsl_core.conversion.Converter.convert\"]\n\t8011615922277789946 -> -3705275237759055718\n\t-3705275237759055718 [label=5]\n\t6423888092713896623 -> -3507735203545765246\n\t-3507735203545765246 [label=\"metadsl_core.abstraction.Abstraction.from_fn\"]\n\t-3507735203545765246 -> -6885163181503348890\n\t-6885163181503348890 [label=\"function NDArrayCompat.__getitem__.locals.lambda at 0x10bf35b70\"]\n}",
         "label": null,
         "rule": "metadsl_core.numpy.arange"
        },
        {
         "graph": "digraph {\n\t6166778259965441686 [label=\"metadsl_core.numpy.NDArrayCompat.to_ndarray\"]\n\t6166778259965441686 -> -2048565193936773123\n\t-2048565193936773123 [label=\"metadsl_core.numpy.NDArrayCompat.from_ndarray\"]\n\t-2048565193936773123 -> -3739963023117336552\n\t-3739963023117336552 [label=\"metadsl_core.maybe.Maybe.map\"]\n\t-3739963023117336552 -> -9168974794687253874\n\t-9168974794687253874 [label=\"metadsl_core.maybe.Maybe.__and__\"]\n\t-9168974794687253874 -> -6286215055759621830\n\t-6286215055759621830 [label=\"metadsl_core.conversion.Converter.convert\"]\n\t-6286215055759621830 -> -3154319303345681053\n\t-3154319303345681053 [label=\"metadsl_core.numpy.NDArrayCompat.__add__\"]\n\t-3154319303345681053 -> 4765036408123793029\n\t4765036408123793029 [label=\"metadsl_core.numpy.NDArrayCompat.from_ndarray\"]\n\t4765036408123793029 -> -6456102885800723638\n\t-6456102885800723638 [label=\"metadsl_core.maybe.Maybe.map\"]\n\t-6456102885800723638 -> 6401238467075760220\n\t6401238467075760220 [label=\"metadsl_core.maybe.Maybe.just\"]\n\t6401238467075760220 -> -6348449952595699719\n\t-6348449952595699719 [label=\"metadsl_core.integer.Integer.from_int\"]\n\t-6348449952595699719 -> -3705275237864060643\n\t-3705275237864060643 [label=100]\n\t-6456102885800723638 -> 4130506920816483144\n\t4130506920816483144 [label=\"metadsl_core.abstraction.Abstraction.from_fn\"]\n\t4130506920816483144 -> -7070438637286422905\n\t-7070438637286422905 [label=\"Infer(fn=function arange_ at 0x10ea01158)\"]\n\t-3154319303345681053 -> 4765036408123793029\n\t-9168974794687253874 -> 8011615922277789946\n\t8011615922277789946 [label=\"metadsl_core.conversion.Converter.convert\"]\n\t8011615922277789946 -> -3705275237759055718\n\t-3705275237759055718 [label=5]\n\t-3739963023117336552 -> -3507735203545765246\n\t-3507735203545765246 [label=\"metadsl_core.abstraction.Abstraction.from_fn\"]\n\t-3507735203545765246 -> -6885163181503348890\n\t-6885163181503348890 [label=\"function NDArrayCompat.__getitem__.locals.lambda at 0x10bf35b70\"]\n}",
         "label": null,
         "rule": "metadsl_core.integer.convert_integer"
        },
        {
         "graph": "digraph {\n\t2234634916712647790 [label=\"metadsl_core.numpy.NDArrayCompat.to_ndarray\"]\n\t2234634916712647790 -> -1009273168357572286\n\t-1009273168357572286 [label=\"metadsl_core.numpy.NDArrayCompat.from_ndarray\"]\n\t-1009273168357572286 -> 390378103727119285\n\t390378103727119285 [label=\"metadsl_core.maybe.Maybe.map\"]\n\t390378103727119285 -> 7261419658042864355\n\t7261419658042864355 [label=\"metadsl_core.maybe.Maybe.__and__\"]\n\t7261419658042864355 -> -6286215055759621830\n\t-6286215055759621830 [label=\"metadsl_core.conversion.Converter.convert\"]\n\t-6286215055759621830 -> -3154319303345681053\n\t-3154319303345681053 [label=\"metadsl_core.numpy.NDArrayCompat.__add__\"]\n\t-3154319303345681053 -> 4765036408123793029\n\t4765036408123793029 [label=\"metadsl_core.numpy.NDArrayCompat.from_ndarray\"]\n\t4765036408123793029 -> -6456102885800723638\n\t-6456102885800723638 [label=\"metadsl_core.maybe.Maybe.map\"]\n\t-6456102885800723638 -> 6401238467075760220\n\t6401238467075760220 [label=\"metadsl_core.maybe.Maybe.just\"]\n\t6401238467075760220 -> -6348449952595699719\n\t-6348449952595699719 [label=\"metadsl_core.integer.Integer.from_int\"]\n\t-6348449952595699719 -> -3705275237864060643\n\t-3705275237864060643 [label=100]\n\t-6456102885800723638 -> 4130506920816483144\n\t4130506920816483144 [label=\"metadsl_core.abstraction.Abstraction.from_fn\"]\n\t4130506920816483144 -> -7070438637286422905\n\t-7070438637286422905 [label=\"Infer(fn=function arange_ at 0x10ea01158)\"]\n\t-3154319303345681053 -> 4765036408123793029\n\t7261419658042864355 -> 7102146947631963592\n\t7102146947631963592 [label=\"metadsl_core.maybe.Maybe.__or__\"]\n\t7102146947631963592 -> -5321874812370855004\n\t-5321874812370855004 [label=\"metadsl_core.maybe.Maybe.map\"]\n\t-5321874812370855004 -> 3443580654182396632\n\t3443580654182396632 [label=\"metadsl_core.conversion.Converter.convert\"]\n\t3443580654182396632 -> -3705275237759055718\n\t-3705275237759055718 [label=5]\n\t-5321874812370855004 -> 8313730218379013134\n\t8313730218379013134 [label=\"metadsl_core.abstraction.Abstraction.from_fn\"]\n\t8313730218379013134 -> 3018242884575435358\n\t3018242884575435358 [label=\"BoundInfer(fn=function Either.left at 0x10bfd2378, owner=metadsl_core.either.Either[metadsl_core.integer.Integer, metadsl_core.vec.Vec[metadsl_core.integer.Integer]], is_classmethod=True)\"]\n\t7102146947631963592 -> 7264538449376390032\n\t7264538449376390032 [label=\"metadsl_core.maybe.Maybe.map\"]\n\t7264538449376390032 -> 6263375678545427999\n\t6263375678545427999 [label=\"metadsl_core.conversion.Converter.convert\"]\n\t6263375678545427999 -> -3705275237759055718\n\t7264538449376390032 -> -6337639346334006848\n\t-6337639346334006848 [label=\"metadsl_core.abstraction.Abstraction.from_fn\"]\n\t-6337639346334006848 -> 3018242913128114758\n\t3018242913128114758 [label=\"BoundInfer(fn=function Either.right at 0x10bfd27b8, owner=metadsl_core.either.Either[metadsl_core.integer.Integer, metadsl_core.vec.Vec[metadsl_core.integer.Integer]], is_classmethod=True)\"]\n\t390378103727119285 -> -3507735203545765246\n\t-3507735203545765246 [label=\"metadsl_core.abstraction.Abstraction.from_fn\"]\n\t-3507735203545765246 -> -6885163181503348890\n\t-6885163181503348890 [label=\"function NDArrayCompat.__getitem__.locals.lambda at 0x10bf35b70\"]\n}",
         "label": null,
         "rule": "metadsl_core.either.convert_to_either"
        },
        {
         "graph": "digraph {\n\t6126166981246398513 [label=\"metadsl_core.numpy.NDArrayCompat.to_ndarray\"]\n\t6126166981246398513 -> -8488369925205322838\n\t-8488369925205322838 [label=\"metadsl_core.numpy.NDArrayCompat.from_ndarray\"]\n\t-8488369925205322838 -> -3098884371845917645\n\t-3098884371845917645 [label=\"metadsl_core.maybe.Maybe.map\"]\n\t-3098884371845917645 -> 6409456962031733631\n\t6409456962031733631 [label=\"metadsl_core.maybe.Maybe.__and__\"]\n\t6409456962031733631 -> -6286215055759621830\n\t-6286215055759621830 [label=\"metadsl_core.conversion.Converter.convert\"]\n\t-6286215055759621830 -> -3154319303345681053\n\t-3154319303345681053 [label=\"metadsl_core.numpy.NDArrayCompat.__add__\"]\n\t-3154319303345681053 -> 4765036408123793029\n\t4765036408123793029 [label=\"metadsl_core.numpy.NDArrayCompat.from_ndarray\"]\n\t4765036408123793029 -> -6456102885800723638\n\t-6456102885800723638 [label=\"metadsl_core.maybe.Maybe.map\"]\n\t-6456102885800723638 -> 6401238467075760220\n\t6401238467075760220 [label=\"metadsl_core.maybe.Maybe.just\"]\n\t6401238467075760220 -> -6348449952595699719\n\t-6348449952595699719 [label=\"metadsl_core.integer.Integer.from_int\"]\n\t-6348449952595699719 -> -3705275237864060643\n\t-3705275237864060643 [label=100]\n\t-6456102885800723638 -> 4130506920816483144\n\t4130506920816483144 [label=\"metadsl_core.abstraction.Abstraction.from_fn\"]\n\t4130506920816483144 -> -7070438637286422905\n\t-7070438637286422905 [label=\"Infer(fn=function arange_ at 0x10ea01158)\"]\n\t-3154319303345681053 -> 4765036408123793029\n\t6409456962031733631 -> 1750584978643145296\n\t1750584978643145296 [label=\"metadsl_core.maybe.Maybe.__or__\"]\n\t1750584978643145296 -> 1317455389875269501\n\t1317455389875269501 [label=\"metadsl_core.maybe.Maybe.map\"]\n\t1317455389875269501 -> 1661886770869584341\n\t1661886770869584341 [label=\"metadsl_core.maybe.Maybe.just\"]\n\t1661886770869584341 -> 4334974619117012171\n\t4334974619117012171 [label=\"metadsl_core.integer.Integer.from_int\"]\n\t4334974619117012171 -> -3705275237759055718\n\t-3705275237759055718 [label=5]\n\t1317455389875269501 -> 8313730218379013134\n\t8313730218379013134 [label=\"metadsl_core.abstraction.Abstraction.from_fn\"]\n\t8313730218379013134 -> 3018242884575435358\n\t3018242884575435358 [label=\"BoundInfer(fn=function Either.left at 0x10bfd2378, owner=metadsl_core.either.Either[metadsl_core.integer.Integer, metadsl_core.vec.Vec[metadsl_core.integer.Integer]], is_classmethod=True)\"]\n\t1750584978643145296 -> 7264538449376390032\n\t7264538449376390032 [label=\"metadsl_core.maybe.Maybe.map\"]\n\t7264538449376390032 -> 6263375678545427999\n\t6263375678545427999 [label=\"metadsl_core.conversion.Converter.convert\"]\n\t6263375678545427999 -> -3705275237759055718\n\t7264538449376390032 -> -6337639346334006848\n\t-6337639346334006848 [label=\"metadsl_core.abstraction.Abstraction.from_fn\"]\n\t-6337639346334006848 -> 3018242913128114758\n\t3018242913128114758 [label=\"BoundInfer(fn=function Either.right at 0x10bfd27b8, owner=metadsl_core.either.Either[metadsl_core.integer.Integer, metadsl_core.vec.Vec[metadsl_core.integer.Integer]], is_classmethod=True)\"]\n\t-3098884371845917645 -> -3507735203545765246\n\t-3507735203545765246 [label=\"metadsl_core.abstraction.Abstraction.from_fn\"]\n\t-3507735203545765246 -> -6885163181503348890\n\t-6885163181503348890 [label=\"function NDArrayCompat.__getitem__.locals.lambda at 0x10bf35b70\"]\n}",
         "label": null,
         "rule": "metadsl_core.integer.convert_integer"
        },
        {
         "graph": "digraph {\n\t-1194123969099835682 [label=\"metadsl_core.numpy.NDArrayCompat.to_ndarray\"]\n\t-1194123969099835682 -> 8705651404375010812\n\t8705651404375010812 [label=\"metadsl_core.numpy.NDArrayCompat.from_ndarray\"]\n\t8705651404375010812 -> -824942965300223143\n\t-824942965300223143 [label=\"metadsl_core.maybe.Maybe.match\"]\n\t-824942965300223143 -> -24852428117429491\n\t-24852428117429491 [label=\"metadsl_core.maybe.Maybe.__and__\"]\n\t-24852428117429491 -> -6286215055759621830\n\t-6286215055759621830 [label=\"metadsl_core.conversion.Converter.convert\"]\n\t-6286215055759621830 -> -3154319303345681053\n\t-3154319303345681053 [label=\"metadsl_core.numpy.NDArrayCompat.__add__\"]\n\t-3154319303345681053 -> 4765036408123793029\n\t4765036408123793029 [label=\"metadsl_core.numpy.NDArrayCompat.from_ndarray\"]\n\t4765036408123793029 -> -6456102885800723638\n\t-6456102885800723638 [label=\"metadsl_core.maybe.Maybe.map\"]\n\t-6456102885800723638 -> 6401238467075760220\n\t6401238467075760220 [label=\"metadsl_core.maybe.Maybe.just\"]\n\t6401238467075760220 -> -6348449952595699719\n\t-6348449952595699719 [label=\"metadsl_core.integer.Integer.from_int\"]\n\t-6348449952595699719 -> -3705275237864060643\n\t-3705275237864060643 [label=100]\n\t-6456102885800723638 -> 4130506920816483144\n\t4130506920816483144 [label=\"metadsl_core.abstraction.Abstraction.from_fn\"]\n\t4130506920816483144 -> -7070438637286422905\n\t-7070438637286422905 [label=\"Infer(fn=function arange_ at 0x10ea01158)\"]\n\t-3154319303345681053 -> 4765036408123793029\n\t-24852428117429491 -> -8279248212145704116\n\t-8279248212145704116 [label=\"metadsl_core.maybe.Maybe.__or__\"]\n\t-8279248212145704116 -> -3459794927642839774\n\t-3459794927642839774 [label=\"metadsl_core.maybe.Maybe.map\"]\n\t-3459794927642839774 -> 1661886770869584341\n\t1661886770869584341 [label=\"metadsl_core.maybe.Maybe.just\"]\n\t1661886770869584341 -> 4334974619117012171\n\t4334974619117012171 [label=\"metadsl_core.integer.Integer.from_int\"]\n\t4334974619117012171 -> -3705275237759055718\n\t-3705275237759055718 [label=5]\n\t-3459794927642839774 -> -8599982649028558349\n\t-8599982649028558349 [label=\"metadsl_core.abstraction.Abstraction.from_fn\"]\n\t-8599982649028558349 -> 3018242077089727158\n\t3018242077089727158 [label=\"BoundInfer(fn=function Either.left at 0x10bfd2378, owner=metadsl_core.either.Either[metadsl_core.integer.Integer, metadsl_core.vec.Vec[metadsl_core.integer.Integer]], is_classmethod=True)\"]\n\t-8279248212145704116 -> 1601438670553106301\n\t1601438670553106301 [label=\"metadsl_core.maybe.Maybe.map\"]\n\t1601438670553106301 -> 6263375678545427999\n\t6263375678545427999 [label=\"metadsl_core.conversion.Converter.convert\"]\n\t6263375678545427999 -> -3705275237759055718\n\t1601438670553106301 -> 526428893679100076\n\t526428893679100076 [label=\"metadsl_core.abstraction.Abstraction.from_fn\"]\n\t526428893679100076 -> 3018242093829893758\n\t3018242093829893758 [label=\"BoundInfer(fn=function Either.right at 0x10bfd27b8, owner=metadsl_core.either.Either[metadsl_core.integer.Integer, metadsl_core.vec.Vec[metadsl_core.integer.Integer]], is_classmethod=True)\"]\n\t-824942965300223143 -> -1634153577544591591\n\t-1634153577544591591 [label=\"metadsl_core.maybe.Maybe.nothing\"]\n\t-824942965300223143 -> 3939664682908968727\n\t3939664682908968727 [label=\"metadsl_core.abstraction.Abstraction.__add__\"]\n\t3939664682908968727 -> -4835518037135611421\n\t-4835518037135611421 [label=\"metadsl_core.abstraction.Abstraction.from_fn\"]\n\t-4835518037135611421 -> 3018242093249660358\n\t3018242093249660358 [label=\"BoundInfer(fn=function Maybe.just at 0x10bfd20d0, owner=metadsl_core.maybe.Maybe[metadsl_core.numpy.NDArray], is_classmethod=True)\"]\n\t3939664682908968727 -> 8959345856999598305\n\t8959345856999598305 [label=\"metadsl_core.abstraction.Abstraction.from_fn\"]\n\t8959345856999598305 -> 2338214461368435643\n\t2338214461368435643 [label=\"function NDArrayCompat.__getitem__.locals.lambda at 0x10ee30d08\"]\n}",
         "label": null,
         "rule": "metadsl_core.maybe.Maybe.map"
        },
        {
         "graph": "digraph {\n\t-83975987365888270 [label=\"metadsl_core.numpy.NDArrayCompat.to_ndarray\"]\n\t-83975987365888270 -> 5045056337060435608\n\t5045056337060435608 [label=\"metadsl_core.numpy.NDArrayCompat.from_ndarray\"]\n\t5045056337060435608 -> -5601283796747524553\n\t-5601283796747524553 [label=\"metadsl_core.maybe.Maybe.match\"]\n\t-5601283796747524553 -> -1749453601745282915\n\t-1749453601745282915 [label=\"metadsl_core.maybe.Maybe.__and__\"]\n\t-1749453601745282915 -> 971993382396993675\n\t971993382396993675 [label=\"metadsl_core.conversion.Converter.convert\"]\n\t971993382396993675 -> -6036066501690401618\n\t-6036066501690401618 [label=\"metadsl_core.numpy.NDArrayCompat.__add__\"]\n\t-6036066501690401618 -> 8103869775350922206\n\t8103869775350922206 [label=\"metadsl_core.numpy.NDArrayCompat.from_ndarray\"]\n\t8103869775350922206 -> -5073413745936729993\n\t-5073413745936729993 [label=\"metadsl_core.maybe.Maybe.match\"]\n\t-5073413745936729993 -> 6401238467075760220\n\t6401238467075760220 [label=\"metadsl_core.maybe.Maybe.just\"]\n\t6401238467075760220 -> -6348449952595699719\n\t-6348449952595699719 [label=\"metadsl_core.integer.Integer.from_int\"]\n\t-6348449952595699719 -> -3705275237864060643\n\t-3705275237864060643 [label=100]\n\t-5073413745936729993 -> -1634153577544591591\n\t-1634153577544591591 [label=\"metadsl_core.maybe.Maybe.nothing\"]\n\t-5073413745936729993 -> 6487451330758204480\n\t6487451330758204480 [label=\"metadsl_core.abstraction.Abstraction.__add__\"]\n\t6487451330758204480 -> -1748392540487243140\n\t-1748392540487243140 [label=\"metadsl_core.abstraction.Abstraction.from_fn\"]\n\t-1748392540487243140 -> 3018242890888721158\n\t3018242890888721158 [label=\"BoundInfer(fn=function Maybe.just at 0x10bfd20d0, owner=metadsl_core.maybe.Maybe[metadsl_core.numpy.NDArray], is_classmethod=True)\"]\n\t6487451330758204480 -> 4130506920816483144\n\t4130506920816483144 [label=\"metadsl_core.abstraction.Abstraction.from_fn\"]\n\t4130506920816483144 -> -7070438637286422905\n\t-7070438637286422905 [label=\"Infer(fn=function arange_ at 0x10ea01158)\"]\n\t-6036066501690401618 -> 4765036408123793029\n\t4765036408123793029 [label=\"metadsl_core.numpy.NDArrayCompat.from_ndarray\"]\n\t4765036408123793029 -> -6456102885800723638\n\t-6456102885800723638 [label=\"metadsl_core.maybe.Maybe.map\"]\n\t-6456102885800723638 -> 6401238467075760220\n\t-6456102885800723638 -> 4130506920816483144\n\t-1749453601745282915 -> -8279248212145704116\n\t-8279248212145704116 [label=\"metadsl_core.maybe.Maybe.__or__\"]\n\t-8279248212145704116 -> -3459794927642839774\n\t-3459794927642839774 [label=\"metadsl_core.maybe.Maybe.map\"]\n\t-3459794927642839774 -> 1661886770869584341\n\t1661886770869584341 [label=\"metadsl_core.maybe.Maybe.just\"]\n\t1661886770869584341 -> 4334974619117012171\n\t4334974619117012171 [label=\"metadsl_core.integer.Integer.from_int\"]\n\t4334974619117012171 -> -3705275237759055718\n\t-3705275237759055718 [label=5]\n\t-3459794927642839774 -> -8599982649028558349\n\t-8599982649028558349 [label=\"metadsl_core.abstraction.Abstraction.from_fn\"]\n\t-8599982649028558349 -> 3018242077089727158\n\t3018242077089727158 [label=\"BoundInfer(fn=function Either.left at 0x10bfd2378, owner=metadsl_core.either.Either[metadsl_core.integer.Integer, metadsl_core.vec.Vec[metadsl_core.integer.Integer]], is_classmethod=True)\"]\n\t-8279248212145704116 -> 1601438670553106301\n\t1601438670553106301 [label=\"metadsl_core.maybe.Maybe.map\"]\n\t1601438670553106301 -> 6263375678545427999\n\t6263375678545427999 [label=\"metadsl_core.conversion.Converter.convert\"]\n\t6263375678545427999 -> -3705275237759055718\n\t1601438670553106301 -> 526428893679100076\n\t526428893679100076 [label=\"metadsl_core.abstraction.Abstraction.from_fn\"]\n\t526428893679100076 -> 3018242093829893758\n\t3018242093829893758 [label=\"BoundInfer(fn=function Either.right at 0x10bfd27b8, owner=metadsl_core.either.Either[metadsl_core.integer.Integer, metadsl_core.vec.Vec[metadsl_core.integer.Integer]], is_classmethod=True)\"]\n\t-5601283796747524553 -> -1634153577544591591\n\t-5601283796747524553 -> 3939664682908968727\n\t3939664682908968727 [label=\"metadsl_core.abstraction.Abstraction.__add__\"]\n\t3939664682908968727 -> -4835518037135611421\n\t-4835518037135611421 [label=\"metadsl_core.abstraction.Abstraction.from_fn\"]\n\t-4835518037135611421 -> 3018242093249660358\n\t3018242093249660358 [label=\"BoundInfer(fn=function Maybe.just at 0x10bfd20d0, owner=metadsl_core.maybe.Maybe[metadsl_core.numpy.NDArray], is_classmethod=True)\"]\n\t3939664682908968727 -> 8959345856999598305\n\t8959345856999598305 [label=\"metadsl_core.abstraction.Abstraction.from_fn\"]\n\t8959345856999598305 -> 2338214461368435643\n\t2338214461368435643 [label=\"function NDArrayCompat.__getitem__.locals.lambda at 0x10ee30d08\"]\n}",
         "label": null,
         "rule": "metadsl_core.maybe.Maybe.map"
        },
        {
         "graph": "digraph {\n\t4323664151503061232 [label=\"metadsl_core.numpy.NDArrayCompat.to_ndarray\"]\n\t4323664151503061232 -> 6226270116717653174\n\t6226270116717653174 [label=\"metadsl_core.numpy.NDArrayCompat.from_ndarray\"]\n\t6226270116717653174 -> 2902666336292618750\n\t2902666336292618750 [label=\"metadsl_core.maybe.Maybe.match\"]\n\t2902666336292618750 -> 3391549790777468134\n\t3391549790777468134 [label=\"metadsl_core.maybe.Maybe.__and__\"]\n\t3391549790777468134 -> -2978751380312359645\n\t-2978751380312359645 [label=\"metadsl_core.conversion.Converter.convert\"]\n\t-2978751380312359645 -> 2174859143901622524\n\t2174859143901622524 [label=\"metadsl_core.numpy.NDArrayCompat.__add__\"]\n\t2174859143901622524 -> 6592985534669160016\n\t6592985534669160016 [label=\"metadsl_core.numpy.NDArrayCompat.from_ndarray\"]\n\t6592985534669160016 -> 2934984718511839240\n\t2934984718511839240 [label=\"metadsl_core.abstraction.Abstraction.__call__\"]\n\t2934984718511839240 -> -6099267688461610945\n\t-6099267688461610945 [label=\"metadsl_core.abstraction.Abstraction.__add__\"]\n\t-6099267688461610945 -> 6467376240504041523\n\t6467376240504041523 [label=\"metadsl_core.abstraction.Abstraction.from_fn\"]\n\t6467376240504041523 -> 3018242090937386958\n\t3018242090937386958 [label=\"BoundInfer(fn=function Maybe.just at 0x10bfd20d0, owner=metadsl_core.maybe.Maybe[metadsl_core.numpy.NDArray], is_classmethod=True)\"]\n\t-6099267688461610945 -> 4130506920816483144\n\t4130506920816483144 [label=\"metadsl_core.abstraction.Abstraction.from_fn\"]\n\t4130506920816483144 -> -7070438637286422905\n\t-7070438637286422905 [label=\"Infer(fn=function arange_ at 0x10ea01158)\"]\n\t2934984718511839240 -> -6348449952595699719\n\t-6348449952595699719 [label=\"metadsl_core.integer.Integer.from_int\"]\n\t-6348449952595699719 -> -3705275237864060643\n\t-3705275237864060643 [label=100]\n\t2174859143901622524 -> 4765036408123793029\n\t4765036408123793029 [label=\"metadsl_core.numpy.NDArrayCompat.from_ndarray\"]\n\t4765036408123793029 -> -6456102885800723638\n\t-6456102885800723638 [label=\"metadsl_core.maybe.Maybe.map\"]\n\t-6456102885800723638 -> 6401238467075760220\n\t6401238467075760220 [label=\"metadsl_core.maybe.Maybe.just\"]\n\t6401238467075760220 -> -6348449952595699719\n\t-6456102885800723638 -> 4130506920816483144\n\t3391549790777468134 -> -8279248212145704116\n\t-8279248212145704116 [label=\"metadsl_core.maybe.Maybe.__or__\"]\n\t-8279248212145704116 -> -3459794927642839774\n\t-3459794927642839774 [label=\"metadsl_core.maybe.Maybe.map\"]\n\t-3459794927642839774 -> 1661886770869584341\n\t1661886770869584341 [label=\"metadsl_core.maybe.Maybe.just\"]\n\t1661886770869584341 -> 4334974619117012171\n\t4334974619117012171 [label=\"metadsl_core.integer.Integer.from_int\"]\n\t4334974619117012171 -> -3705275237759055718\n\t-3705275237759055718 [label=5]\n\t-3459794927642839774 -> -8599982649028558349\n\t-8599982649028558349 [label=\"metadsl_core.abstraction.Abstraction.from_fn\"]\n\t-8599982649028558349 -> 3018242077089727158\n\t3018242077089727158 [label=\"BoundInfer(fn=function Either.left at 0x10bfd2378, owner=metadsl_core.either.Either[metadsl_core.integer.Integer, metadsl_core.vec.Vec[metadsl_core.integer.Integer]], is_classmethod=True)\"]\n\t-8279248212145704116 -> 1601438670553106301\n\t1601438670553106301 [label=\"metadsl_core.maybe.Maybe.map\"]\n\t1601438670553106301 -> 6263375678545427999\n\t6263375678545427999 [label=\"metadsl_core.conversion.Converter.convert\"]\n\t6263375678545427999 -> -3705275237759055718\n\t1601438670553106301 -> 526428893679100076\n\t526428893679100076 [label=\"metadsl_core.abstraction.Abstraction.from_fn\"]\n\t526428893679100076 -> 3018242093829893758\n\t3018242093829893758 [label=\"BoundInfer(fn=function Either.right at 0x10bfd27b8, owner=metadsl_core.either.Either[metadsl_core.integer.Integer, metadsl_core.vec.Vec[metadsl_core.integer.Integer]], is_classmethod=True)\"]\n\t2902666336292618750 -> -1634153577544591591\n\t-1634153577544591591 [label=\"metadsl_core.maybe.Maybe.nothing\"]\n\t2902666336292618750 -> 3939664682908968727\n\t3939664682908968727 [label=\"metadsl_core.abstraction.Abstraction.__add__\"]\n\t3939664682908968727 -> -4835518037135611421\n\t-4835518037135611421 [label=\"metadsl_core.abstraction.Abstraction.from_fn\"]\n\t-4835518037135611421 -> 3018242093249660358\n\t3018242093249660358 [label=\"BoundInfer(fn=function Maybe.just at 0x10bfd20d0, owner=metadsl_core.maybe.Maybe[metadsl_core.numpy.NDArray], is_classmethod=True)\"]\n\t3939664682908968727 -> 8959345856999598305\n\t8959345856999598305 [label=\"metadsl_core.abstraction.Abstraction.from_fn\"]\n\t8959345856999598305 -> 2338214461368435643\n\t2338214461368435643 [label=\"function NDArrayCompat.__getitem__.locals.lambda at 0x10ee30d08\"]\n}",
         "label": null,
         "rule": "metadsl_core.maybe.maybe_match"
        },
        {
         "graph": "digraph {\n\t1537032622556772978 [label=\"metadsl_core.numpy.NDArrayCompat.to_ndarray\"]\n\t1537032622556772978 -> 4893635387986418138\n\t4893635387986418138 [label=\"metadsl_core.numpy.NDArrayCompat.from_ndarray\"]\n\t4893635387986418138 -> 8418115160699495541\n\t8418115160699495541 [label=\"metadsl_core.maybe.Maybe.match\"]\n\t8418115160699495541 -> -2140800586280598894\n\t-2140800586280598894 [label=\"metadsl_core.maybe.Maybe.__and__\"]\n\t-2140800586280598894 -> 454418893679383339\n\t454418893679383339 [label=\"metadsl_core.conversion.Converter.convert\"]\n\t454418893679383339 -> -1083094577582095066\n\t-1083094577582095066 [label=\"metadsl_core.numpy.NDArrayCompat.__add__\"]\n\t-1083094577582095066 -> 9155254276511678516\n\t9155254276511678516 [label=\"metadsl_core.numpy.NDArrayCompat.from_ndarray\"]\n\t9155254276511678516 -> -2301610275579202249\n\t-2301610275579202249 [label=\"metadsl_core.abstraction.Abstraction.__call__\"]\n\t-2301610275579202249 -> -795133060356394404\n\t-795133060356394404 [label=\"metadsl_core.abstraction.Abstraction.__add__\"]\n\t-795133060356394404 -> -4945361811675870101\n\t-4945361811675870101 [label=\"metadsl_core.abstraction.Abstraction.create\"]\n\t-4945361811675870101 -> 4836301537517960171\n\t4836301537517960171 [label=\"metadsl_core.abstraction.Abstraction.create_variable\"]\n\t4836301537517960171 -> 2256881639898844138\n\t2256881639898844138 [label=\"Variable(4545252544)\"]\n\t-4945361811675870101 -> 4280049150639986338\n\t4280049150639986338 [label=\"metadsl_core.maybe.Maybe.just\"]\n\t4280049150639986338 -> 4836301537517960171\n\t-795133060356394404 -> 4130506920816483144\n\t4130506920816483144 [label=\"metadsl_core.abstraction.Abstraction.from_fn\"]\n\t4130506920816483144 -> -7070438637286422905\n\t-7070438637286422905 [label=\"Infer(fn=function arange_ at 0x10ea01158)\"]\n\t-2301610275579202249 -> -6348449952595699719\n\t-6348449952595699719 [label=\"metadsl_core.integer.Integer.from_int\"]\n\t-6348449952595699719 -> -3705275237864060643\n\t-3705275237864060643 [label=100]\n\t-1083094577582095066 -> 4765036408123793029\n\t4765036408123793029 [label=\"metadsl_core.numpy.NDArrayCompat.from_ndarray\"]\n\t4765036408123793029 -> -6456102885800723638\n\t-6456102885800723638 [label=\"metadsl_core.maybe.Maybe.map\"]\n\t-6456102885800723638 -> 6401238467075760220\n\t6401238467075760220 [label=\"metadsl_core.maybe.Maybe.just\"]\n\t6401238467075760220 -> -6348449952595699719\n\t-6456102885800723638 -> 4130506920816483144\n\t-2140800586280598894 -> -8279248212145704116\n\t-8279248212145704116 [label=\"metadsl_core.maybe.Maybe.__or__\"]\n\t-8279248212145704116 -> -3459794927642839774\n\t-3459794927642839774 [label=\"metadsl_core.maybe.Maybe.map\"]\n\t-3459794927642839774 -> 1661886770869584341\n\t1661886770869584341 [label=\"metadsl_core.maybe.Maybe.just\"]\n\t1661886770869584341 -> 4334974619117012171\n\t4334974619117012171 [label=\"metadsl_core.integer.Integer.from_int\"]\n\t4334974619117012171 -> -3705275237759055718\n\t-3705275237759055718 [label=5]\n\t-3459794927642839774 -> -8599982649028558349\n\t-8599982649028558349 [label=\"metadsl_core.abstraction.Abstraction.from_fn\"]\n\t-8599982649028558349 -> 3018242077089727158\n\t3018242077089727158 [label=\"BoundInfer(fn=function Either.left at 0x10bfd2378, owner=metadsl_core.either.Either[metadsl_core.integer.Integer, metadsl_core.vec.Vec[metadsl_core.integer.Integer]], is_classmethod=True)\"]\n\t-8279248212145704116 -> 1601438670553106301\n\t1601438670553106301 [label=\"metadsl_core.maybe.Maybe.map\"]\n\t1601438670553106301 -> 6263375678545427999\n\t6263375678545427999 [label=\"metadsl_core.conversion.Converter.convert\"]\n\t6263375678545427999 -> -3705275237759055718\n\t1601438670553106301 -> 526428893679100076\n\t526428893679100076 [label=\"metadsl_core.abstraction.Abstraction.from_fn\"]\n\t526428893679100076 -> 3018242093829893758\n\t3018242093829893758 [label=\"BoundInfer(fn=function Either.right at 0x10bfd27b8, owner=metadsl_core.either.Either[metadsl_core.integer.Integer, metadsl_core.vec.Vec[metadsl_core.integer.Integer]], is_classmethod=True)\"]\n\t8418115160699495541 -> -1634153577544591591\n\t-1634153577544591591 [label=\"metadsl_core.maybe.Maybe.nothing\"]\n\t8418115160699495541 -> 3939664682908968727\n\t3939664682908968727 [label=\"metadsl_core.abstraction.Abstraction.__add__\"]\n\t3939664682908968727 -> -4835518037135611421\n\t-4835518037135611421 [label=\"metadsl_core.abstraction.Abstraction.from_fn\"]\n\t-4835518037135611421 -> 3018242093249660358\n\t3018242093249660358 [label=\"BoundInfer(fn=function Maybe.just at 0x10bfd20d0, owner=metadsl_core.maybe.Maybe[metadsl_core.numpy.NDArray], is_classmethod=True)\"]\n\t3939664682908968727 -> 8959345856999598305\n\t8959345856999598305 [label=\"metadsl_core.abstraction.Abstraction.from_fn\"]\n\t8959345856999598305 -> 2338214461368435643\n\t2338214461368435643 [label=\"function NDArrayCompat.__getitem__.locals.lambda at 0x10ee30d08\"]\n}",
         "label": null,
         "rule": "metadsl_core.abstraction.Abstraction.from_fn"
        },
        {
         "graph": "digraph {\n\t7022335250217740843 [label=\"metadsl_core.numpy.NDArrayCompat.to_ndarray\"]\n\t7022335250217740843 -> -2371344914798446896\n\t-2371344914798446896 [label=\"metadsl_core.numpy.NDArrayCompat.from_ndarray\"]\n\t-2371344914798446896 -> -5635488650836477557\n\t-5635488650836477557 [label=\"metadsl_core.maybe.Maybe.match\"]\n\t-5635488650836477557 -> 8403746460847649124\n\t8403746460847649124 [label=\"metadsl_core.maybe.Maybe.__and__\"]\n\t8403746460847649124 -> 925543412887538287\n\t925543412887538287 [label=\"metadsl_core.conversion.Converter.convert\"]\n\t925543412887538287 -> -7747615708813980176\n\t-7747615708813980176 [label=\"metadsl_core.numpy.NDArrayCompat.__add__\"]\n\t-7747615708813980176 -> -394715334725373795\n\t-394715334725373795 [label=\"metadsl_core.numpy.NDArrayCompat.from_ndarray\"]\n\t-394715334725373795 -> 339854020085832488\n\t339854020085832488 [label=\"metadsl_core.abstraction.Abstraction.__call__\"]\n\t339854020085832488 -> -8006232622035031103\n\t-8006232622035031103 [label=\"metadsl_core.abstraction.Abstraction.__add__\"]\n\t-8006232622035031103 -> -4945361811675870101\n\t-4945361811675870101 [label=\"metadsl_core.abstraction.Abstraction.create\"]\n\t-4945361811675870101 -> 4836301537517960171\n\t4836301537517960171 [label=\"metadsl_core.abstraction.Abstraction.create_variable\"]\n\t4836301537517960171 -> 2256881639898844138\n\t2256881639898844138 [label=\"Variable(4545252544)\"]\n\t-4945361811675870101 -> 4280049150639986338\n\t4280049150639986338 [label=\"metadsl_core.maybe.Maybe.just\"]\n\t4280049150639986338 -> 4836301537517960171\n\t-8006232622035031103 -> -1459393024097487154\n\t-1459393024097487154 [label=\"metadsl_core.abstraction.Abstraction.create\"]\n\t-1459393024097487154 -> -3776049005220402373\n\t-3776049005220402373 [label=\"metadsl_core.abstraction.Abstraction.create_variable\"]\n\t-3776049005220402373 -> 2256881666069968538\n\t2256881666069968538 [label=\"Variable(4544861632)\"]\n\t-1459393024097487154 -> -4064207154291991267\n\t-4064207154291991267 [label=\"metadsl_core.numpy.arange_\"]\n\t-4064207154291991267 -> -3776049005220402373\n\t339854020085832488 -> -6348449952595699719\n\t-6348449952595699719 [label=\"metadsl_core.integer.Integer.from_int\"]\n\t-6348449952595699719 -> -3705275237864060643\n\t-3705275237864060643 [label=100]\n\t-7747615708813980176 -> 4765036408123793029\n\t4765036408123793029 [label=\"metadsl_core.numpy.NDArrayCompat.from_ndarray\"]\n\t4765036408123793029 -> -6456102885800723638\n\t-6456102885800723638 [label=\"metadsl_core.maybe.Maybe.map\"]\n\t-6456102885800723638 -> 6401238467075760220\n\t6401238467075760220 [label=\"metadsl_core.maybe.Maybe.just\"]\n\t6401238467075760220 -> -6348449952595699719\n\t-6456102885800723638 -> 4130506920816483144\n\t4130506920816483144 [label=\"metadsl_core.abstraction.Abstraction.from_fn\"]\n\t4130506920816483144 -> -7070438637286422905\n\t-7070438637286422905 [label=\"Infer(fn=function arange_ at 0x10ea01158)\"]\n\t8403746460847649124 -> -8279248212145704116\n\t-8279248212145704116 [label=\"metadsl_core.maybe.Maybe.__or__\"]\n\t-8279248212145704116 -> -3459794927642839774\n\t-3459794927642839774 [label=\"metadsl_core.maybe.Maybe.map\"]\n\t-3459794927642839774 -> 1661886770869584341\n\t1661886770869584341 [label=\"metadsl_core.maybe.Maybe.just\"]\n\t1661886770869584341 -> 4334974619117012171\n\t4334974619117012171 [label=\"metadsl_core.integer.Integer.from_int\"]\n\t4334974619117012171 -> -3705275237759055718\n\t-3705275237759055718 [label=5]\n\t-3459794927642839774 -> -8599982649028558349\n\t-8599982649028558349 [label=\"metadsl_core.abstraction.Abstraction.from_fn\"]\n\t-8599982649028558349 -> 3018242077089727158\n\t3018242077089727158 [label=\"BoundInfer(fn=function Either.left at 0x10bfd2378, owner=metadsl_core.either.Either[metadsl_core.integer.Integer, metadsl_core.vec.Vec[metadsl_core.integer.Integer]], is_classmethod=True)\"]\n\t-8279248212145704116 -> 1601438670553106301\n\t1601438670553106301 [label=\"metadsl_core.maybe.Maybe.map\"]\n\t1601438670553106301 -> 6263375678545427999\n\t6263375678545427999 [label=\"metadsl_core.conversion.Converter.convert\"]\n\t6263375678545427999 -> -3705275237759055718\n\t1601438670553106301 -> 526428893679100076\n\t526428893679100076 [label=\"metadsl_core.abstraction.Abstraction.from_fn\"]\n\t526428893679100076 -> 3018242093829893758\n\t3018242093829893758 [label=\"BoundInfer(fn=function Either.right at 0x10bfd27b8, owner=metadsl_core.either.Either[metadsl_core.integer.Integer, metadsl_core.vec.Vec[metadsl_core.integer.Integer]], is_classmethod=True)\"]\n\t-5635488650836477557 -> -1634153577544591591\n\t-1634153577544591591 [label=\"metadsl_core.maybe.Maybe.nothing\"]\n\t-5635488650836477557 -> 3939664682908968727\n\t3939664682908968727 [label=\"metadsl_core.abstraction.Abstraction.__add__\"]\n\t3939664682908968727 -> -4835518037135611421\n\t-4835518037135611421 [label=\"metadsl_core.abstraction.Abstraction.from_fn\"]\n\t-4835518037135611421 -> 3018242093249660358\n\t3018242093249660358 [label=\"BoundInfer(fn=function Maybe.just at 0x10bfd20d0, owner=metadsl_core.maybe.Maybe[metadsl_core.numpy.NDArray], is_classmethod=True)\"]\n\t3939664682908968727 -> 8959345856999598305\n\t8959345856999598305 [label=\"metadsl_core.abstraction.Abstraction.from_fn\"]\n\t8959345856999598305 -> 2338214461368435643\n\t2338214461368435643 [label=\"function NDArrayCompat.__getitem__.locals.lambda at 0x10ee30d08\"]\n}",
         "label": null,
         "rule": "metadsl_core.abstraction.Abstraction.from_fn"
        },
        {
         "graph": "digraph {\n\t3249995690797286045 [label=\"metadsl_core.numpy.NDArrayCompat.to_ndarray\"]\n\t3249995690797286045 -> -1869258503858706285\n\t-1869258503858706285 [label=\"metadsl_core.numpy.NDArrayCompat.from_ndarray\"]\n\t-1869258503858706285 -> -2785180909877886917\n\t-2785180909877886917 [label=\"metadsl_core.maybe.Maybe.match\"]\n\t-2785180909877886917 -> -7809517788854687844\n\t-7809517788854687844 [label=\"metadsl_core.maybe.Maybe.__and__\"]\n\t-7809517788854687844 -> -211272459538998363\n\t-211272459538998363 [label=\"metadsl_core.conversion.Converter.convert\"]\n\t-211272459538998363 -> -7163410535310276356\n\t-7163410535310276356 [label=\"metadsl_core.numpy.NDArrayCompat.__add__\"]\n\t-7163410535310276356 -> 4324317467807923182\n\t4324317467807923182 [label=\"metadsl_core.numpy.NDArrayCompat.from_ndarray\"]\n\t4324317467807923182 -> -7618240575693270998\n\t-7618240575693270998 [label=\"metadsl_core.abstraction.Abstraction.__call__\"]\n\t-7618240575693270998 -> 5343648074907559027\n\t5343648074907559027 [label=\"metadsl_core.abstraction.Abstraction.create\"]\n\t5343648074907559027 -> -3776049005220402373\n\t-3776049005220402373 [label=\"metadsl_core.abstraction.Abstraction.create_variable\"]\n\t-3776049005220402373 -> 2256881666069968538\n\t2256881666069968538 [label=\"Variable(4544861632)\"]\n\t5343648074907559027 -> -8069826498132308269\n\t-8069826498132308269 [label=\"metadsl_core.maybe.Maybe.just\"]\n\t-8069826498132308269 -> -4064207154291991267\n\t-4064207154291991267 [label=\"metadsl_core.numpy.arange_\"]\n\t-4064207154291991267 -> -3776049005220402373\n\t-7618240575693270998 -> -6348449952595699719\n\t-6348449952595699719 [label=\"metadsl_core.integer.Integer.from_int\"]\n\t-6348449952595699719 -> -3705275237864060643\n\t-3705275237864060643 [label=100]\n\t-7163410535310276356 -> 4765036408123793029\n\t4765036408123793029 [label=\"metadsl_core.numpy.NDArrayCompat.from_ndarray\"]\n\t4765036408123793029 -> -6456102885800723638\n\t-6456102885800723638 [label=\"metadsl_core.maybe.Maybe.map\"]\n\t-6456102885800723638 -> 6401238467075760220\n\t6401238467075760220 [label=\"metadsl_core.maybe.Maybe.just\"]\n\t6401238467075760220 -> -6348449952595699719\n\t-6456102885800723638 -> 4130506920816483144\n\t4130506920816483144 [label=\"metadsl_core.abstraction.Abstraction.from_fn\"]\n\t4130506920816483144 -> -7070438637286422905\n\t-7070438637286422905 [label=\"Infer(fn=function arange_ at 0x10ea01158)\"]\n\t-7809517788854687844 -> -8279248212145704116\n\t-8279248212145704116 [label=\"metadsl_core.maybe.Maybe.__or__\"]\n\t-8279248212145704116 -> -3459794927642839774\n\t-3459794927642839774 [label=\"metadsl_core.maybe.Maybe.map\"]\n\t-3459794927642839774 -> 1661886770869584341\n\t1661886770869584341 [label=\"metadsl_core.maybe.Maybe.just\"]\n\t1661886770869584341 -> 4334974619117012171\n\t4334974619117012171 [label=\"metadsl_core.integer.Integer.from_int\"]\n\t4334974619117012171 -> -3705275237759055718\n\t-3705275237759055718 [label=5]\n\t-3459794927642839774 -> -8599982649028558349\n\t-8599982649028558349 [label=\"metadsl_core.abstraction.Abstraction.from_fn\"]\n\t-8599982649028558349 -> 3018242077089727158\n\t3018242077089727158 [label=\"BoundInfer(fn=function Either.left at 0x10bfd2378, owner=metadsl_core.either.Either[metadsl_core.integer.Integer, metadsl_core.vec.Vec[metadsl_core.integer.Integer]], is_classmethod=True)\"]\n\t-8279248212145704116 -> 1601438670553106301\n\t1601438670553106301 [label=\"metadsl_core.maybe.Maybe.map\"]\n\t1601438670553106301 -> 6263375678545427999\n\t6263375678545427999 [label=\"metadsl_core.conversion.Converter.convert\"]\n\t6263375678545427999 -> -3705275237759055718\n\t1601438670553106301 -> 526428893679100076\n\t526428893679100076 [label=\"metadsl_core.abstraction.Abstraction.from_fn\"]\n\t526428893679100076 -> 3018242093829893758\n\t3018242093829893758 [label=\"BoundInfer(fn=function Either.right at 0x10bfd27b8, owner=metadsl_core.either.Either[metadsl_core.integer.Integer, metadsl_core.vec.Vec[metadsl_core.integer.Integer]], is_classmethod=True)\"]\n\t-2785180909877886917 -> -1634153577544591591\n\t-1634153577544591591 [label=\"metadsl_core.maybe.Maybe.nothing\"]\n\t-2785180909877886917 -> 3939664682908968727\n\t3939664682908968727 [label=\"metadsl_core.abstraction.Abstraction.__add__\"]\n\t3939664682908968727 -> -4835518037135611421\n\t-4835518037135611421 [label=\"metadsl_core.abstraction.Abstraction.from_fn\"]\n\t-4835518037135611421 -> 3018242093249660358\n\t3018242093249660358 [label=\"BoundInfer(fn=function Maybe.just at 0x10bfd20d0, owner=metadsl_core.maybe.Maybe[metadsl_core.numpy.NDArray], is_classmethod=True)\"]\n\t3939664682908968727 -> 8959345856999598305\n\t8959345856999598305 [label=\"metadsl_core.abstraction.Abstraction.from_fn\"]\n\t8959345856999598305 -> 2338214461368435643\n\t2338214461368435643 [label=\"function NDArrayCompat.__getitem__.locals.lambda at 0x10ee30d08\"]\n}",
         "label": null,
         "rule": "metadsl_core.abstraction.compose"
        },
        {
         "graph": "digraph {\n\t4050511387654880594 [label=\"metadsl_core.numpy.NDArrayCompat.to_ndarray\"]\n\t4050511387654880594 -> 8058674147980137187\n\t8058674147980137187 [label=\"metadsl_core.numpy.NDArrayCompat.from_ndarray\"]\n\t8058674147980137187 -> 1049507988717975635\n\t1049507988717975635 [label=\"metadsl_core.maybe.Maybe.match\"]\n\t1049507988717975635 -> 3701521918327552087\n\t3701521918327552087 [label=\"metadsl_core.maybe.Maybe.__and__\"]\n\t3701521918327552087 -> 7433198376928197925\n\t7433198376928197925 [label=\"metadsl_core.conversion.Converter.convert\"]\n\t7433198376928197925 -> -5969105519526623034\n\t-5969105519526623034 [label=\"metadsl_core.numpy.NDArrayCompat.__add__\"]\n\t-5969105519526623034 -> -5419148412288663401\n\t-5419148412288663401 [label=\"metadsl_core.numpy.NDArrayCompat.from_ndarray\"]\n\t-5419148412288663401 -> -7338046998780095632\n\t-7338046998780095632 [label=\"metadsl_core.maybe.Maybe.just\"]\n\t-7338046998780095632 -> 676902453469965611\n\t676902453469965611 [label=\"metadsl_core.numpy.arange_\"]\n\t676902453469965611 -> -6348449952595699719\n\t-6348449952595699719 [label=\"metadsl_core.integer.Integer.from_int\"]\n\t-6348449952595699719 -> -3705275237864060643\n\t-3705275237864060643 [label=100]\n\t-5969105519526623034 -> 4765036408123793029\n\t4765036408123793029 [label=\"metadsl_core.numpy.NDArrayCompat.from_ndarray\"]\n\t4765036408123793029 -> -6456102885800723638\n\t-6456102885800723638 [label=\"metadsl_core.maybe.Maybe.map\"]\n\t-6456102885800723638 -> 6401238467075760220\n\t6401238467075760220 [label=\"metadsl_core.maybe.Maybe.just\"]\n\t6401238467075760220 -> -6348449952595699719\n\t-6456102885800723638 -> 4130506920816483144\n\t4130506920816483144 [label=\"metadsl_core.abstraction.Abstraction.from_fn\"]\n\t4130506920816483144 -> -7070438637286422905\n\t-7070438637286422905 [label=\"Infer(fn=function arange_ at 0x10ea01158)\"]\n\t3701521918327552087 -> -8279248212145704116\n\t-8279248212145704116 [label=\"metadsl_core.maybe.Maybe.__or__\"]\n\t-8279248212145704116 -> -3459794927642839774\n\t-3459794927642839774 [label=\"metadsl_core.maybe.Maybe.map\"]\n\t-3459794927642839774 -> 1661886770869584341\n\t1661886770869584341 [label=\"metadsl_core.maybe.Maybe.just\"]\n\t1661886770869584341 -> 4334974619117012171\n\t4334974619117012171 [label=\"metadsl_core.integer.Integer.from_int\"]\n\t4334974619117012171 -> -3705275237759055718\n\t-3705275237759055718 [label=5]\n\t-3459794927642839774 -> -8599982649028558349\n\t-8599982649028558349 [label=\"metadsl_core.abstraction.Abstraction.from_fn\"]\n\t-8599982649028558349 -> 3018242077089727158\n\t3018242077089727158 [label=\"BoundInfer(fn=function Either.left at 0x10bfd2378, owner=metadsl_core.either.Either[metadsl_core.integer.Integer, metadsl_core.vec.Vec[metadsl_core.integer.Integer]], is_classmethod=True)\"]\n\t-8279248212145704116 -> 1601438670553106301\n\t1601438670553106301 [label=\"metadsl_core.maybe.Maybe.map\"]\n\t1601438670553106301 -> 6263375678545427999\n\t6263375678545427999 [label=\"metadsl_core.conversion.Converter.convert\"]\n\t6263375678545427999 -> -3705275237759055718\n\t1601438670553106301 -> 526428893679100076\n\t526428893679100076 [label=\"metadsl_core.abstraction.Abstraction.from_fn\"]\n\t526428893679100076 -> 3018242093829893758\n\t3018242093829893758 [label=\"BoundInfer(fn=function Either.right at 0x10bfd27b8, owner=metadsl_core.either.Either[metadsl_core.integer.Integer, metadsl_core.vec.Vec[metadsl_core.integer.Integer]], is_classmethod=True)\"]\n\t1049507988717975635 -> -1634153577544591591\n\t-1634153577544591591 [label=\"metadsl_core.maybe.Maybe.nothing\"]\n\t1049507988717975635 -> 3939664682908968727\n\t3939664682908968727 [label=\"metadsl_core.abstraction.Abstraction.__add__\"]\n\t3939664682908968727 -> -4835518037135611421\n\t-4835518037135611421 [label=\"metadsl_core.abstraction.Abstraction.from_fn\"]\n\t-4835518037135611421 -> 3018242093249660358\n\t3018242093249660358 [label=\"BoundInfer(fn=function Maybe.just at 0x10bfd20d0, owner=metadsl_core.maybe.Maybe[metadsl_core.numpy.NDArray], is_classmethod=True)\"]\n\t3939664682908968727 -> 8959345856999598305\n\t8959345856999598305 [label=\"metadsl_core.abstraction.Abstraction.from_fn\"]\n\t8959345856999598305 -> 2338214461368435643\n\t2338214461368435643 [label=\"function NDArrayCompat.__getitem__.locals.lambda at 0x10ee30d08\"]\n}",
         "label": null,
         "rule": "metadsl_core.abstraction.beta_reduce"
        },
        {
         "graph": "digraph {\n\t-7995219774257288332 [label=\"metadsl_core.numpy.NDArrayCompat.to_ndarray\"]\n\t-7995219774257288332 -> 7330624165092216033\n\t7330624165092216033 [label=\"metadsl_core.numpy.NDArrayCompat.from_ndarray\"]\n\t7330624165092216033 -> -7477480118729485424\n\t-7477480118729485424 [label=\"metadsl_core.maybe.Maybe.match\"]\n\t-7477480118729485424 -> 3297391882060139096\n\t3297391882060139096 [label=\"metadsl_core.maybe.Maybe.__and__\"]\n\t3297391882060139096 -> 4971045331411428895\n\t4971045331411428895 [label=\"metadsl_core.conversion.Converter.convert\"]\n\t4971045331411428895 -> -7206686008652223635\n\t-7206686008652223635 [label=\"metadsl_core.numpy.NDArrayCompat.__add__\"]\n\t-7206686008652223635 -> -5419148412288663401\n\t-5419148412288663401 [label=\"metadsl_core.numpy.NDArrayCompat.from_ndarray\"]\n\t-5419148412288663401 -> -7338046998780095632\n\t-7338046998780095632 [label=\"metadsl_core.maybe.Maybe.just\"]\n\t-7338046998780095632 -> 676902453469965611\n\t676902453469965611 [label=\"metadsl_core.numpy.arange_\"]\n\t676902453469965611 -> -6348449952595699719\n\t-6348449952595699719 [label=\"metadsl_core.integer.Integer.from_int\"]\n\t-6348449952595699719 -> -3705275237864060643\n\t-3705275237864060643 [label=100]\n\t-7206686008652223635 -> -3147339004339624043\n\t-3147339004339624043 [label=\"metadsl_core.numpy.NDArrayCompat.from_ndarray\"]\n\t-3147339004339624043 -> 3452880505442753883\n\t3452880505442753883 [label=\"metadsl_core.maybe.Maybe.match\"]\n\t3452880505442753883 -> 6401238467075760220\n\t6401238467075760220 [label=\"metadsl_core.maybe.Maybe.just\"]\n\t6401238467075760220 -> -6348449952595699719\n\t3452880505442753883 -> -1634153577544591591\n\t-1634153577544591591 [label=\"metadsl_core.maybe.Maybe.nothing\"]\n\t3452880505442753883 -> -3342032545110961032\n\t-3342032545110961032 [label=\"metadsl_core.abstraction.Abstraction.__add__\"]\n\t-3342032545110961032 -> -6057852220120145080\n\t-6057852220120145080 [label=\"metadsl_core.abstraction.Abstraction.from_fn\"]\n\t-6057852220120145080 -> 3018242388908888358\n\t3018242388908888358 [label=\"BoundInfer(fn=function Maybe.just at 0x10bfd20d0, owner=metadsl_core.maybe.Maybe[metadsl_core.numpy.NDArray], is_classmethod=True)\"]\n\t-3342032545110961032 -> 4130506920816483144\n\t4130506920816483144 [label=\"metadsl_core.abstraction.Abstraction.from_fn\"]\n\t4130506920816483144 -> -7070438637286422905\n\t-7070438637286422905 [label=\"Infer(fn=function arange_ at 0x10ea01158)\"]\n\t3297391882060139096 -> -8279248212145704116\n\t-8279248212145704116 [label=\"metadsl_core.maybe.Maybe.__or__\"]\n\t-8279248212145704116 -> -3459794927642839774\n\t-3459794927642839774 [label=\"metadsl_core.maybe.Maybe.map\"]\n\t-3459794927642839774 -> 1661886770869584341\n\t1661886770869584341 [label=\"metadsl_core.maybe.Maybe.just\"]\n\t1661886770869584341 -> 4334974619117012171\n\t4334974619117012171 [label=\"metadsl_core.integer.Integer.from_int\"]\n\t4334974619117012171 -> -3705275237759055718\n\t-3705275237759055718 [label=5]\n\t-3459794927642839774 -> -8599982649028558349\n\t-8599982649028558349 [label=\"metadsl_core.abstraction.Abstraction.from_fn\"]\n\t-8599982649028558349 -> 3018242077089727158\n\t3018242077089727158 [label=\"BoundInfer(fn=function Either.left at 0x10bfd2378, owner=metadsl_core.either.Either[metadsl_core.integer.Integer, metadsl_core.vec.Vec[metadsl_core.integer.Integer]], is_classmethod=True)\"]\n\t-8279248212145704116 -> 1601438670553106301\n\t1601438670553106301 [label=\"metadsl_core.maybe.Maybe.map\"]\n\t1601438670553106301 -> 6263375678545427999\n\t6263375678545427999 [label=\"metadsl_core.conversion.Converter.convert\"]\n\t6263375678545427999 -> -3705275237759055718\n\t1601438670553106301 -> 526428893679100076\n\t526428893679100076 [label=\"metadsl_core.abstraction.Abstraction.from_fn\"]\n\t526428893679100076 -> 3018242093829893758\n\t3018242093829893758 [label=\"BoundInfer(fn=function Either.right at 0x10bfd27b8, owner=metadsl_core.either.Either[metadsl_core.integer.Integer, metadsl_core.vec.Vec[metadsl_core.integer.Integer]], is_classmethod=True)\"]\n\t-7477480118729485424 -> -1634153577544591591\n\t-7477480118729485424 -> 3939664682908968727\n\t3939664682908968727 [label=\"metadsl_core.abstraction.Abstraction.__add__\"]\n\t3939664682908968727 -> -4835518037135611421\n\t-4835518037135611421 [label=\"metadsl_core.abstraction.Abstraction.from_fn\"]\n\t-4835518037135611421 -> 3018242093249660358\n\t3018242093249660358 [label=\"BoundInfer(fn=function Maybe.just at 0x10bfd20d0, owner=metadsl_core.maybe.Maybe[metadsl_core.numpy.NDArray], is_classmethod=True)\"]\n\t3939664682908968727 -> 8959345856999598305\n\t8959345856999598305 [label=\"metadsl_core.abstraction.Abstraction.from_fn\"]\n\t8959345856999598305 -> 2338214461368435643\n\t2338214461368435643 [label=\"function NDArrayCompat.__getitem__.locals.lambda at 0x10ee30d08\"]\n}",
         "label": null,
         "rule": "metadsl_core.maybe.Maybe.map"
        },
        {
         "graph": "digraph {\n\t1189111225270799387 [label=\"metadsl_core.numpy.NDArrayCompat.to_ndarray\"]\n\t1189111225270799387 -> -5570514027532609052\n\t-5570514027532609052 [label=\"metadsl_core.numpy.NDArrayCompat.from_ndarray\"]\n\t-5570514027532609052 -> 2290366467829829887\n\t2290366467829829887 [label=\"metadsl_core.maybe.Maybe.match\"]\n\t2290366467829829887 -> 94344989907645566\n\t94344989907645566 [label=\"metadsl_core.maybe.Maybe.__and__\"]\n\t94344989907645566 -> -4323892626220002502\n\t-4323892626220002502 [label=\"metadsl_core.conversion.Converter.convert\"]\n\t-4323892626220002502 -> -6092871915624618906\n\t-6092871915624618906 [label=\"metadsl_core.numpy.NDArrayCompat.__add__\"]\n\t-6092871915624618906 -> -5419148412288663401\n\t-5419148412288663401 [label=\"metadsl_core.numpy.NDArrayCompat.from_ndarray\"]\n\t-5419148412288663401 -> -7338046998780095632\n\t-7338046998780095632 [label=\"metadsl_core.maybe.Maybe.just\"]\n\t-7338046998780095632 -> 676902453469965611\n\t676902453469965611 [label=\"metadsl_core.numpy.arange_\"]\n\t676902453469965611 -> -6348449952595699719\n\t-6348449952595699719 [label=\"metadsl_core.integer.Integer.from_int\"]\n\t-6348449952595699719 -> -3705275237864060643\n\t-3705275237864060643 [label=100]\n\t-6092871915624618906 -> 6160191058984105797\n\t6160191058984105797 [label=\"metadsl_core.numpy.NDArrayCompat.from_ndarray\"]\n\t6160191058984105797 -> 3641173290756005268\n\t3641173290756005268 [label=\"metadsl_core.abstraction.Abstraction.__call__\"]\n\t3641173290756005268 -> -731737035857768788\n\t-731737035857768788 [label=\"metadsl_core.abstraction.Abstraction.__add__\"]\n\t-731737035857768788 -> -5282443508822090016\n\t-5282443508822090016 [label=\"metadsl_core.abstraction.Abstraction.from_fn\"]\n\t-5282443508822090016 -> 3018242855234677758\n\t3018242855234677758 [label=\"BoundInfer(fn=function Maybe.just at 0x10bfd20d0, owner=metadsl_core.maybe.Maybe[metadsl_core.numpy.NDArray], is_classmethod=True)\"]\n\t-731737035857768788 -> 4130506920816483144\n\t4130506920816483144 [label=\"metadsl_core.abstraction.Abstraction.from_fn\"]\n\t4130506920816483144 -> -7070438637286422905\n\t-7070438637286422905 [label=\"Infer(fn=function arange_ at 0x10ea01158)\"]\n\t3641173290756005268 -> -6348449952595699719\n\t94344989907645566 -> -8279248212145704116\n\t-8279248212145704116 [label=\"metadsl_core.maybe.Maybe.__or__\"]\n\t-8279248212145704116 -> -3459794927642839774\n\t-3459794927642839774 [label=\"metadsl_core.maybe.Maybe.map\"]\n\t-3459794927642839774 -> 1661886770869584341\n\t1661886770869584341 [label=\"metadsl_core.maybe.Maybe.just\"]\n\t1661886770869584341 -> 4334974619117012171\n\t4334974619117012171 [label=\"metadsl_core.integer.Integer.from_int\"]\n\t4334974619117012171 -> -3705275237759055718\n\t-3705275237759055718 [label=5]\n\t-3459794927642839774 -> -8599982649028558349\n\t-8599982649028558349 [label=\"metadsl_core.abstraction.Abstraction.from_fn\"]\n\t-8599982649028558349 -> 3018242077089727158\n\t3018242077089727158 [label=\"BoundInfer(fn=function Either.left at 0x10bfd2378, owner=metadsl_core.either.Either[metadsl_core.integer.Integer, metadsl_core.vec.Vec[metadsl_core.integer.Integer]], is_classmethod=True)\"]\n\t-8279248212145704116 -> 1601438670553106301\n\t1601438670553106301 [label=\"metadsl_core.maybe.Maybe.map\"]\n\t1601438670553106301 -> 6263375678545427999\n\t6263375678545427999 [label=\"metadsl_core.conversion.Converter.convert\"]\n\t6263375678545427999 -> -3705275237759055718\n\t1601438670553106301 -> 526428893679100076\n\t526428893679100076 [label=\"metadsl_core.abstraction.Abstraction.from_fn\"]\n\t526428893679100076 -> 3018242093829893758\n\t3018242093829893758 [label=\"BoundInfer(fn=function Either.right at 0x10bfd27b8, owner=metadsl_core.either.Either[metadsl_core.integer.Integer, metadsl_core.vec.Vec[metadsl_core.integer.Integer]], is_classmethod=True)\"]\n\t2290366467829829887 -> -1634153577544591591\n\t-1634153577544591591 [label=\"metadsl_core.maybe.Maybe.nothing\"]\n\t2290366467829829887 -> 3939664682908968727\n\t3939664682908968727 [label=\"metadsl_core.abstraction.Abstraction.__add__\"]\n\t3939664682908968727 -> -4835518037135611421\n\t-4835518037135611421 [label=\"metadsl_core.abstraction.Abstraction.from_fn\"]\n\t-4835518037135611421 -> 3018242093249660358\n\t3018242093249660358 [label=\"BoundInfer(fn=function Maybe.just at 0x10bfd20d0, owner=metadsl_core.maybe.Maybe[metadsl_core.numpy.NDArray], is_classmethod=True)\"]\n\t3939664682908968727 -> 8959345856999598305\n\t8959345856999598305 [label=\"metadsl_core.abstraction.Abstraction.from_fn\"]\n\t8959345856999598305 -> 2338214461368435643\n\t2338214461368435643 [label=\"function NDArrayCompat.__getitem__.locals.lambda at 0x10ee30d08\"]\n}",
         "label": null,
         "rule": "metadsl_core.maybe.maybe_match"
        },
        {
         "graph": "digraph {\n\t648982351612815617 [label=\"metadsl_core.numpy.NDArrayCompat.to_ndarray\"]\n\t648982351612815617 -> 1908416206163114694\n\t1908416206163114694 [label=\"metadsl_core.numpy.NDArrayCompat.from_ndarray\"]\n\t1908416206163114694 -> 253947969307225104\n\t253947969307225104 [label=\"metadsl_core.maybe.Maybe.match\"]\n\t253947969307225104 -> -8208727243401881275\n\t-8208727243401881275 [label=\"metadsl_core.maybe.Maybe.__and__\"]\n\t-8208727243401881275 -> 6612416752168751060\n\t6612416752168751060 [label=\"metadsl_core.conversion.Converter.convert\"]\n\t6612416752168751060 -> 266412911899798500\n\t266412911899798500 [label=\"metadsl_core.numpy.NDArrayCompat.__add__\"]\n\t266412911899798500 -> -5419148412288663401\n\t-5419148412288663401 [label=\"metadsl_core.numpy.NDArrayCompat.from_ndarray\"]\n\t-5419148412288663401 -> -7338046998780095632\n\t-7338046998780095632 [label=\"metadsl_core.maybe.Maybe.just\"]\n\t-7338046998780095632 -> 676902453469965611\n\t676902453469965611 [label=\"metadsl_core.numpy.arange_\"]\n\t676902453469965611 -> -6348449952595699719\n\t-6348449952595699719 [label=\"metadsl_core.integer.Integer.from_int\"]\n\t-6348449952595699719 -> -3705275237864060643\n\t-3705275237864060643 [label=100]\n\t266412911899798500 -> 5770661515837650204\n\t5770661515837650204 [label=\"metadsl_core.numpy.NDArrayCompat.from_ndarray\"]\n\t5770661515837650204 -> -7927669274848198725\n\t-7927669274848198725 [label=\"metadsl_core.abstraction.Abstraction.__call__\"]\n\t-7927669274848198725 -> -6229250604417303382\n\t-6229250604417303382 [label=\"metadsl_core.abstraction.Abstraction.__add__\"]\n\t-6229250604417303382 -> -3207784447052424171\n\t-3207784447052424171 [label=\"metadsl_core.abstraction.Abstraction.create\"]\n\t-3207784447052424171 -> 8249983766491610790\n\t8249983766491610790 [label=\"metadsl_core.abstraction.Abstraction.create_variable\"]\n\t8249983766491610790 -> 2256881645872217088\n\t2256881645872217088 [label=\"Variable(4545178592)\"]\n\t-3207784447052424171 -> -3595468322114962678\n\t-3595468322114962678 [label=\"metadsl_core.maybe.Maybe.just\"]\n\t-3595468322114962678 -> 8249983766491610790\n\t-6229250604417303382 -> 4130506920816483144\n\t4130506920816483144 [label=\"metadsl_core.abstraction.Abstraction.from_fn\"]\n\t4130506920816483144 -> -7070438637286422905\n\t-7070438637286422905 [label=\"Infer(fn=function arange_ at 0x10ea01158)\"]\n\t-7927669274848198725 -> -6348449952595699719\n\t-8208727243401881275 -> -8279248212145704116\n\t-8279248212145704116 [label=\"metadsl_core.maybe.Maybe.__or__\"]\n\t-8279248212145704116 -> -3459794927642839774\n\t-3459794927642839774 [label=\"metadsl_core.maybe.Maybe.map\"]\n\t-3459794927642839774 -> 1661886770869584341\n\t1661886770869584341 [label=\"metadsl_core.maybe.Maybe.just\"]\n\t1661886770869584341 -> 4334974619117012171\n\t4334974619117012171 [label=\"metadsl_core.integer.Integer.from_int\"]\n\t4334974619117012171 -> -3705275237759055718\n\t-3705275237759055718 [label=5]\n\t-3459794927642839774 -> -8599982649028558349\n\t-8599982649028558349 [label=\"metadsl_core.abstraction.Abstraction.from_fn\"]\n\t-8599982649028558349 -> 3018242077089727158\n\t3018242077089727158 [label=\"BoundInfer(fn=function Either.left at 0x10bfd2378, owner=metadsl_core.either.Either[metadsl_core.integer.Integer, metadsl_core.vec.Vec[metadsl_core.integer.Integer]], is_classmethod=True)\"]\n\t-8279248212145704116 -> 1601438670553106301\n\t1601438670553106301 [label=\"metadsl_core.maybe.Maybe.map\"]\n\t1601438670553106301 -> 6263375678545427999\n\t6263375678545427999 [label=\"metadsl_core.conversion.Converter.convert\"]\n\t6263375678545427999 -> -3705275237759055718\n\t1601438670553106301 -> 526428893679100076\n\t526428893679100076 [label=\"metadsl_core.abstraction.Abstraction.from_fn\"]\n\t526428893679100076 -> 3018242093829893758\n\t3018242093829893758 [label=\"BoundInfer(fn=function Either.right at 0x10bfd27b8, owner=metadsl_core.either.Either[metadsl_core.integer.Integer, metadsl_core.vec.Vec[metadsl_core.integer.Integer]], is_classmethod=True)\"]\n\t253947969307225104 -> -1634153577544591591\n\t-1634153577544591591 [label=\"metadsl_core.maybe.Maybe.nothing\"]\n\t253947969307225104 -> 3939664682908968727\n\t3939664682908968727 [label=\"metadsl_core.abstraction.Abstraction.__add__\"]\n\t3939664682908968727 -> -4835518037135611421\n\t-4835518037135611421 [label=\"metadsl_core.abstraction.Abstraction.from_fn\"]\n\t-4835518037135611421 -> 3018242093249660358\n\t3018242093249660358 [label=\"BoundInfer(fn=function Maybe.just at 0x10bfd20d0, owner=metadsl_core.maybe.Maybe[metadsl_core.numpy.NDArray], is_classmethod=True)\"]\n\t3939664682908968727 -> 8959345856999598305\n\t8959345856999598305 [label=\"metadsl_core.abstraction.Abstraction.from_fn\"]\n\t8959345856999598305 -> 2338214461368435643\n\t2338214461368435643 [label=\"function NDArrayCompat.__getitem__.locals.lambda at 0x10ee30d08\"]\n}",
         "label": null,
         "rule": "metadsl_core.abstraction.Abstraction.from_fn"
        },
        {
         "graph": "digraph {\n\t2002047547033271164 [label=\"metadsl_core.numpy.NDArrayCompat.to_ndarray\"]\n\t2002047547033271164 -> -7566853347785193803\n\t-7566853347785193803 [label=\"metadsl_core.numpy.NDArrayCompat.from_ndarray\"]\n\t-7566853347785193803 -> 1547510042442769606\n\t1547510042442769606 [label=\"metadsl_core.maybe.Maybe.match\"]\n\t1547510042442769606 -> 4365430454413737058\n\t4365430454413737058 [label=\"metadsl_core.maybe.Maybe.__and__\"]\n\t4365430454413737058 -> 132793758213287069\n\t132793758213287069 [label=\"metadsl_core.conversion.Converter.convert\"]\n\t132793758213287069 -> -383934940862023274\n\t-383934940862023274 [label=\"metadsl_core.numpy.NDArrayCompat.__add__\"]\n\t-383934940862023274 -> -5419148412288663401\n\t-5419148412288663401 [label=\"metadsl_core.numpy.NDArrayCompat.from_ndarray\"]\n\t-5419148412288663401 -> -7338046998780095632\n\t-7338046998780095632 [label=\"metadsl_core.maybe.Maybe.just\"]\n\t-7338046998780095632 -> 676902453469965611\n\t676902453469965611 [label=\"metadsl_core.numpy.arange_\"]\n\t676902453469965611 -> -6348449952595699719\n\t-6348449952595699719 [label=\"metadsl_core.integer.Integer.from_int\"]\n\t-6348449952595699719 -> -3705275237864060643\n\t-3705275237864060643 [label=100]\n\t-383934940862023274 -> -1849760179593559198\n\t-1849760179593559198 [label=\"metadsl_core.numpy.NDArrayCompat.from_ndarray\"]\n\t-1849760179593559198 -> -8576340763994790464\n\t-8576340763994790464 [label=\"metadsl_core.abstraction.Abstraction.__call__\"]\n\t-8576340763994790464 -> 413842287564348553\n\t413842287564348553 [label=\"metadsl_core.abstraction.Abstraction.__add__\"]\n\t413842287564348553 -> -3207784447052424171\n\t-3207784447052424171 [label=\"metadsl_core.abstraction.Abstraction.create\"]\n\t-3207784447052424171 -> 8249983766491610790\n\t8249983766491610790 [label=\"metadsl_core.abstraction.Abstraction.create_variable\"]\n\t8249983766491610790 -> 2256881645872217088\n\t2256881645872217088 [label=\"Variable(4545178592)\"]\n\t-3207784447052424171 -> -3595468322114962678\n\t-3595468322114962678 [label=\"metadsl_core.maybe.Maybe.just\"]\n\t-3595468322114962678 -> 8249983766491610790\n\t413842287564348553 -> -2512465747330345911\n\t-2512465747330345911 [label=\"metadsl_core.abstraction.Abstraction.create\"]\n\t-2512465747330345911 -> 1489511133141246522\n\t1489511133141246522 [label=\"metadsl_core.abstraction.Abstraction.create_variable\"]\n\t1489511133141246522 -> 2256881620913520688\n\t2256881620913520688 [label=\"Variable(4545529056)\"]\n\t-2512465747330345911 -> -2304691382169679398\n\t-2304691382169679398 [label=\"metadsl_core.numpy.arange_\"]\n\t-2304691382169679398 -> 1489511133141246522\n\t-8576340763994790464 -> -6348449952595699719\n\t4365430454413737058 -> -8279248212145704116\n\t-8279248212145704116 [label=\"metadsl_core.maybe.Maybe.__or__\"]\n\t-8279248212145704116 -> -3459794927642839774\n\t-3459794927642839774 [label=\"metadsl_core.maybe.Maybe.map\"]\n\t-3459794927642839774 -> 1661886770869584341\n\t1661886770869584341 [label=\"metadsl_core.maybe.Maybe.just\"]\n\t1661886770869584341 -> 4334974619117012171\n\t4334974619117012171 [label=\"metadsl_core.integer.Integer.from_int\"]\n\t4334974619117012171 -> -3705275237759055718\n\t-3705275237759055718 [label=5]\n\t-3459794927642839774 -> -8599982649028558349\n\t-8599982649028558349 [label=\"metadsl_core.abstraction.Abstraction.from_fn\"]\n\t-8599982649028558349 -> 3018242077089727158\n\t3018242077089727158 [label=\"BoundInfer(fn=function Either.left at 0x10bfd2378, owner=metadsl_core.either.Either[metadsl_core.integer.Integer, metadsl_core.vec.Vec[metadsl_core.integer.Integer]], is_classmethod=True)\"]\n\t-8279248212145704116 -> 1601438670553106301\n\t1601438670553106301 [label=\"metadsl_core.maybe.Maybe.map\"]\n\t1601438670553106301 -> 6263375678545427999\n\t6263375678545427999 [label=\"metadsl_core.conversion.Converter.convert\"]\n\t6263375678545427999 -> -3705275237759055718\n\t1601438670553106301 -> 526428893679100076\n\t526428893679100076 [label=\"metadsl_core.abstraction.Abstraction.from_fn\"]\n\t526428893679100076 -> 3018242093829893758\n\t3018242093829893758 [label=\"BoundInfer(fn=function Either.right at 0x10bfd27b8, owner=metadsl_core.either.Either[metadsl_core.integer.Integer, metadsl_core.vec.Vec[metadsl_core.integer.Integer]], is_classmethod=True)\"]\n\t1547510042442769606 -> -1634153577544591591\n\t-1634153577544591591 [label=\"metadsl_core.maybe.Maybe.nothing\"]\n\t1547510042442769606 -> 3939664682908968727\n\t3939664682908968727 [label=\"metadsl_core.abstraction.Abstraction.__add__\"]\n\t3939664682908968727 -> -4835518037135611421\n\t-4835518037135611421 [label=\"metadsl_core.abstraction.Abstraction.from_fn\"]\n\t-4835518037135611421 -> 3018242093249660358\n\t3018242093249660358 [label=\"BoundInfer(fn=function Maybe.just at 0x10bfd20d0, owner=metadsl_core.maybe.Maybe[metadsl_core.numpy.NDArray], is_classmethod=True)\"]\n\t3939664682908968727 -> 8959345856999598305\n\t8959345856999598305 [label=\"metadsl_core.abstraction.Abstraction.from_fn\"]\n\t8959345856999598305 -> 2338214461368435643\n\t2338214461368435643 [label=\"function NDArrayCompat.__getitem__.locals.lambda at 0x10ee30d08\"]\n}",
         "label": null,
         "rule": "metadsl_core.abstraction.Abstraction.from_fn"
        },
        {
         "graph": "digraph {\n\t4921836867861837311 [label=\"metadsl_core.numpy.NDArrayCompat.to_ndarray\"]\n\t4921836867861837311 -> -1845100254673235209\n\t-1845100254673235209 [label=\"metadsl_core.numpy.NDArrayCompat.from_ndarray\"]\n\t-1845100254673235209 -> 1307406489829571386\n\t1307406489829571386 [label=\"metadsl_core.maybe.Maybe.match\"]\n\t1307406489829571386 -> -263109684034311345\n\t-263109684034311345 [label=\"metadsl_core.maybe.Maybe.__and__\"]\n\t-263109684034311345 -> -4625945638413627308\n\t-4625945638413627308 [label=\"metadsl_core.conversion.Converter.convert\"]\n\t-4625945638413627308 -> -6536493617917594136\n\t-6536493617917594136 [label=\"metadsl_core.numpy.NDArrayCompat.__add__\"]\n\t-6536493617917594136 -> -5419148412288663401\n\t-5419148412288663401 [label=\"metadsl_core.numpy.NDArrayCompat.from_ndarray\"]\n\t-5419148412288663401 -> -7338046998780095632\n\t-7338046998780095632 [label=\"metadsl_core.maybe.Maybe.just\"]\n\t-7338046998780095632 -> 676902453469965611\n\t676902453469965611 [label=\"metadsl_core.numpy.arange_\"]\n\t676902453469965611 -> -6348449952595699719\n\t-6348449952595699719 [label=\"metadsl_core.integer.Integer.from_int\"]\n\t-6348449952595699719 -> -3705275237864060643\n\t-3705275237864060643 [label=100]\n\t-6536493617917594136 -> 4877147695135932021\n\t4877147695135932021 [label=\"metadsl_core.numpy.NDArrayCompat.from_ndarray\"]\n\t4877147695135932021 -> 4485487928932546707\n\t4485487928932546707 [label=\"metadsl_core.abstraction.Abstraction.__call__\"]\n\t4485487928932546707 -> -5001681947630871869\n\t-5001681947630871869 [label=\"metadsl_core.abstraction.Abstraction.create\"]\n\t-5001681947630871869 -> 1489511133141246522\n\t1489511133141246522 [label=\"metadsl_core.abstraction.Abstraction.create_variable\"]\n\t1489511133141246522 -> 2256881620913520688\n\t2256881620913520688 [label=\"Variable(4545529056)\"]\n\t-5001681947630871869 -> 7943720464290122559\n\t7943720464290122559 [label=\"metadsl_core.maybe.Maybe.just\"]\n\t7943720464290122559 -> -2304691382169679398\n\t-2304691382169679398 [label=\"metadsl_core.numpy.arange_\"]\n\t-2304691382169679398 -> 1489511133141246522\n\t4485487928932546707 -> -6348449952595699719\n\t-263109684034311345 -> -8279248212145704116\n\t-8279248212145704116 [label=\"metadsl_core.maybe.Maybe.__or__\"]\n\t-8279248212145704116 -> -3459794927642839774\n\t-3459794927642839774 [label=\"metadsl_core.maybe.Maybe.map\"]\n\t-3459794927642839774 -> 1661886770869584341\n\t1661886770869584341 [label=\"metadsl_core.maybe.Maybe.just\"]\n\t1661886770869584341 -> 4334974619117012171\n\t4334974619117012171 [label=\"metadsl_core.integer.Integer.from_int\"]\n\t4334974619117012171 -> -3705275237759055718\n\t-3705275237759055718 [label=5]\n\t-3459794927642839774 -> -8599982649028558349\n\t-8599982649028558349 [label=\"metadsl_core.abstraction.Abstraction.from_fn\"]\n\t-8599982649028558349 -> 3018242077089727158\n\t3018242077089727158 [label=\"BoundInfer(fn=function Either.left at 0x10bfd2378, owner=metadsl_core.either.Either[metadsl_core.integer.Integer, metadsl_core.vec.Vec[metadsl_core.integer.Integer]], is_classmethod=True)\"]\n\t-8279248212145704116 -> 1601438670553106301\n\t1601438670553106301 [label=\"metadsl_core.maybe.Maybe.map\"]\n\t1601438670553106301 -> 6263375678545427999\n\t6263375678545427999 [label=\"metadsl_core.conversion.Converter.convert\"]\n\t6263375678545427999 -> -3705275237759055718\n\t1601438670553106301 -> 526428893679100076\n\t526428893679100076 [label=\"metadsl_core.abstraction.Abstraction.from_fn\"]\n\t526428893679100076 -> 3018242093829893758\n\t3018242093829893758 [label=\"BoundInfer(fn=function Either.right at 0x10bfd27b8, owner=metadsl_core.either.Either[metadsl_core.integer.Integer, metadsl_core.vec.Vec[metadsl_core.integer.Integer]], is_classmethod=True)\"]\n\t1307406489829571386 -> -1634153577544591591\n\t-1634153577544591591 [label=\"metadsl_core.maybe.Maybe.nothing\"]\n\t1307406489829571386 -> 3939664682908968727\n\t3939664682908968727 [label=\"metadsl_core.abstraction.Abstraction.__add__\"]\n\t3939664682908968727 -> -4835518037135611421\n\t-4835518037135611421 [label=\"metadsl_core.abstraction.Abstraction.from_fn\"]\n\t-4835518037135611421 -> 3018242093249660358\n\t3018242093249660358 [label=\"BoundInfer(fn=function Maybe.just at 0x10bfd20d0, owner=metadsl_core.maybe.Maybe[metadsl_core.numpy.NDArray], is_classmethod=True)\"]\n\t3939664682908968727 -> 8959345856999598305\n\t8959345856999598305 [label=\"metadsl_core.abstraction.Abstraction.from_fn\"]\n\t8959345856999598305 -> 2338214461368435643\n\t2338214461368435643 [label=\"function NDArrayCompat.__getitem__.locals.lambda at 0x10ee30d08\"]\n}",
         "label": null,
         "rule": "metadsl_core.abstraction.compose"
        },
        {
         "graph": "digraph {\n\t7515043867223428119 [label=\"metadsl_core.numpy.NDArrayCompat.to_ndarray\"]\n\t7515043867223428119 -> -8896022180523466101\n\t-8896022180523466101 [label=\"metadsl_core.numpy.NDArrayCompat.from_ndarray\"]\n\t-8896022180523466101 -> 6716517354224206211\n\t6716517354224206211 [label=\"metadsl_core.maybe.Maybe.match\"]\n\t6716517354224206211 -> -1852849618758691204\n\t-1852849618758691204 [label=\"metadsl_core.maybe.Maybe.__and__\"]\n\t-1852849618758691204 -> 3154054583708263430\n\t3154054583708263430 [label=\"metadsl_core.conversion.Converter.convert\"]\n\t3154054583708263430 -> 7281850675127942797\n\t7281850675127942797 [label=\"metadsl_core.numpy.NDArrayCompat.__add__\"]\n\t7281850675127942797 -> -5419148412288663401\n\t-5419148412288663401 [label=\"metadsl_core.numpy.NDArrayCompat.from_ndarray\"]\n\t-5419148412288663401 -> -7338046998780095632\n\t-7338046998780095632 [label=\"metadsl_core.maybe.Maybe.just\"]\n\t-7338046998780095632 -> 676902453469965611\n\t676902453469965611 [label=\"metadsl_core.numpy.arange_\"]\n\t676902453469965611 -> -6348449952595699719\n\t-6348449952595699719 [label=\"metadsl_core.integer.Integer.from_int\"]\n\t-6348449952595699719 -> -3705275237864060643\n\t-3705275237864060643 [label=100]\n\t7281850675127942797 -> -5419148412288663401\n\t-1852849618758691204 -> -8279248212145704116\n\t-8279248212145704116 [label=\"metadsl_core.maybe.Maybe.__or__\"]\n\t-8279248212145704116 -> -3459794927642839774\n\t-3459794927642839774 [label=\"metadsl_core.maybe.Maybe.map\"]\n\t-3459794927642839774 -> 1661886770869584341\n\t1661886770869584341 [label=\"metadsl_core.maybe.Maybe.just\"]\n\t1661886770869584341 -> 4334974619117012171\n\t4334974619117012171 [label=\"metadsl_core.integer.Integer.from_int\"]\n\t4334974619117012171 -> -3705275237759055718\n\t-3705275237759055718 [label=5]\n\t-3459794927642839774 -> -8599982649028558349\n\t-8599982649028558349 [label=\"metadsl_core.abstraction.Abstraction.from_fn\"]\n\t-8599982649028558349 -> 3018242077089727158\n\t3018242077089727158 [label=\"BoundInfer(fn=function Either.left at 0x10bfd2378, owner=metadsl_core.either.Either[metadsl_core.integer.Integer, metadsl_core.vec.Vec[metadsl_core.integer.Integer]], is_classmethod=True)\"]\n\t-8279248212145704116 -> 1601438670553106301\n\t1601438670553106301 [label=\"metadsl_core.maybe.Maybe.map\"]\n\t1601438670553106301 -> 6263375678545427999\n\t6263375678545427999 [label=\"metadsl_core.conversion.Converter.convert\"]\n\t6263375678545427999 -> -3705275237759055718\n\t1601438670553106301 -> 526428893679100076\n\t526428893679100076 [label=\"metadsl_core.abstraction.Abstraction.from_fn\"]\n\t526428893679100076 -> 3018242093829893758\n\t3018242093829893758 [label=\"BoundInfer(fn=function Either.right at 0x10bfd27b8, owner=metadsl_core.either.Either[metadsl_core.integer.Integer, metadsl_core.vec.Vec[metadsl_core.integer.Integer]], is_classmethod=True)\"]\n\t6716517354224206211 -> -1634153577544591591\n\t-1634153577544591591 [label=\"metadsl_core.maybe.Maybe.nothing\"]\n\t6716517354224206211 -> 3939664682908968727\n\t3939664682908968727 [label=\"metadsl_core.abstraction.Abstraction.__add__\"]\n\t3939664682908968727 -> -4835518037135611421\n\t-4835518037135611421 [label=\"metadsl_core.abstraction.Abstraction.from_fn\"]\n\t-4835518037135611421 -> 3018242093249660358\n\t3018242093249660358 [label=\"BoundInfer(fn=function Maybe.just at 0x10bfd20d0, owner=metadsl_core.maybe.Maybe[metadsl_core.numpy.NDArray], is_classmethod=True)\"]\n\t3939664682908968727 -> 8959345856999598305\n\t8959345856999598305 [label=\"metadsl_core.abstraction.Abstraction.from_fn\"]\n\t8959345856999598305 -> 2338214461368435643\n\t2338214461368435643 [label=\"function NDArrayCompat.__getitem__.locals.lambda at 0x10ee30d08\"]\n}",
         "label": null,
         "rule": "metadsl_core.abstraction.beta_reduce"
        },
        {
         "graph": "digraph {\n\t-4230937013791417230 [label=\"metadsl_core.numpy.NDArrayCompat.to_ndarray\"]\n\t-4230937013791417230 -> 4309851369393855056\n\t4309851369393855056 [label=\"metadsl_core.numpy.NDArrayCompat.from_ndarray\"]\n\t4309851369393855056 -> -924991507664114789\n\t-924991507664114789 [label=\"metadsl_core.maybe.Maybe.match\"]\n\t-924991507664114789 -> 8009941912173970220\n\t8009941912173970220 [label=\"metadsl_core.maybe.Maybe.__and__\"]\n\t8009941912173970220 -> 3154054583708263430\n\t3154054583708263430 [label=\"metadsl_core.conversion.Converter.convert\"]\n\t3154054583708263430 -> 7281850675127942797\n\t7281850675127942797 [label=\"metadsl_core.numpy.NDArrayCompat.__add__\"]\n\t7281850675127942797 -> -5419148412288663401\n\t-5419148412288663401 [label=\"metadsl_core.numpy.NDArrayCompat.from_ndarray\"]\n\t-5419148412288663401 -> -7338046998780095632\n\t-7338046998780095632 [label=\"metadsl_core.maybe.Maybe.just\"]\n\t-7338046998780095632 -> 676902453469965611\n\t676902453469965611 [label=\"metadsl_core.numpy.arange_\"]\n\t676902453469965611 -> -6348449952595699719\n\t-6348449952595699719 [label=\"metadsl_core.integer.Integer.from_int\"]\n\t-6348449952595699719 -> -3705275237864060643\n\t-3705275237864060643 [label=100]\n\t7281850675127942797 -> -5419148412288663401\n\t8009941912173970220 -> 3919631083830166914\n\t3919631083830166914 [label=\"metadsl_core.maybe.Maybe.__or__\"]\n\t3919631083830166914 -> 4979549945188571768\n\t4979549945188571768 [label=\"metadsl_core.maybe.Maybe.match\"]\n\t4979549945188571768 -> 1661886770869584341\n\t1661886770869584341 [label=\"metadsl_core.maybe.Maybe.just\"]\n\t1661886770869584341 -> 4334974619117012171\n\t4334974619117012171 [label=\"metadsl_core.integer.Integer.from_int\"]\n\t4334974619117012171 -> -3705275237759055718\n\t-3705275237759055718 [label=5]\n\t4979549945188571768 -> 2139383204678789915\n\t2139383204678789915 [label=\"metadsl_core.maybe.Maybe.nothing\"]\n\t4979549945188571768 -> 6897452903364292986\n\t6897452903364292986 [label=\"metadsl_core.abstraction.Abstraction.__add__\"]\n\t6897452903364292986 -> 2528354174947220587\n\t2528354174947220587 [label=\"metadsl_core.abstraction.Abstraction.from_fn\"]\n\t2528354174947220587 -> 3018243808281027558\n\t3018243808281027558 [label=\"BoundInfer(fn=function Maybe.just at 0x10bfd20d0, owner=metadsl_core.maybe.Maybe[metadsl_core.either.Either[metadsl_core.integer.Integer, metadsl_core.vec.Vec[metadsl_core.integer.Integer]]], is_classmethod=True)\"]\n\t6897452903364292986 -> 7118332679423400992\n\t7118332679423400992 [label=\"metadsl_core.abstraction.Abstraction.from_fn\"]\n\t7118332679423400992 -> 3018243806609608958\n\t3018243806609608958 [label=\"BoundInfer(fn=function Either.left at 0x10bfd2378, owner=metadsl_core.either.Either[metadsl_core.integer.Integer, metadsl_core.vec.Vec[metadsl_core.integer.Integer]], is_classmethod=True)\"]\n\t3919631083830166914 -> 1601438670553106301\n\t1601438670553106301 [label=\"metadsl_core.maybe.Maybe.map\"]\n\t1601438670553106301 -> 6263375678545427999\n\t6263375678545427999 [label=\"metadsl_core.conversion.Converter.convert\"]\n\t6263375678545427999 -> -3705275237759055718\n\t1601438670553106301 -> 526428893679100076\n\t526428893679100076 [label=\"metadsl_core.abstraction.Abstraction.from_fn\"]\n\t526428893679100076 -> 3018242093829893758\n\t3018242093829893758 [label=\"BoundInfer(fn=function Either.right at 0x10bfd27b8, owner=metadsl_core.either.Either[metadsl_core.integer.Integer, metadsl_core.vec.Vec[metadsl_core.integer.Integer]], is_classmethod=True)\"]\n\t-924991507664114789 -> -1634153577544591591\n\t-1634153577544591591 [label=\"metadsl_core.maybe.Maybe.nothing\"]\n\t-924991507664114789 -> 3939664682908968727\n\t3939664682908968727 [label=\"metadsl_core.abstraction.Abstraction.__add__\"]\n\t3939664682908968727 -> -4835518037135611421\n\t-4835518037135611421 [label=\"metadsl_core.abstraction.Abstraction.from_fn\"]\n\t-4835518037135611421 -> 3018242093249660358\n\t3018242093249660358 [label=\"BoundInfer(fn=function Maybe.just at 0x10bfd20d0, owner=metadsl_core.maybe.Maybe[metadsl_core.numpy.NDArray], is_classmethod=True)\"]\n\t3939664682908968727 -> 8959345856999598305\n\t8959345856999598305 [label=\"metadsl_core.abstraction.Abstraction.from_fn\"]\n\t8959345856999598305 -> 2338214461368435643\n\t2338214461368435643 [label=\"function NDArrayCompat.__getitem__.locals.lambda at 0x10ee30d08\"]\n}",
         "label": null,
         "rule": "metadsl_core.maybe.Maybe.map"
        },
        {
         "graph": "digraph {\n\t9213635013083931879 [label=\"metadsl_core.numpy.NDArrayCompat.to_ndarray\"]\n\t9213635013083931879 -> 3224580203905643294\n\t3224580203905643294 [label=\"metadsl_core.numpy.NDArrayCompat.from_ndarray\"]\n\t3224580203905643294 -> 2445323908143964650\n\t2445323908143964650 [label=\"metadsl_core.maybe.Maybe.match\"]\n\t2445323908143964650 -> 2194707996489643723\n\t2194707996489643723 [label=\"metadsl_core.maybe.Maybe.__and__\"]\n\t2194707996489643723 -> 3154054583708263430\n\t3154054583708263430 [label=\"metadsl_core.conversion.Converter.convert\"]\n\t3154054583708263430 -> 7281850675127942797\n\t7281850675127942797 [label=\"metadsl_core.numpy.NDArrayCompat.__add__\"]\n\t7281850675127942797 -> -5419148412288663401\n\t-5419148412288663401 [label=\"metadsl_core.numpy.NDArrayCompat.from_ndarray\"]\n\t-5419148412288663401 -> -7338046998780095632\n\t-7338046998780095632 [label=\"metadsl_core.maybe.Maybe.just\"]\n\t-7338046998780095632 -> 676902453469965611\n\t676902453469965611 [label=\"metadsl_core.numpy.arange_\"]\n\t676902453469965611 -> -6348449952595699719\n\t-6348449952595699719 [label=\"metadsl_core.integer.Integer.from_int\"]\n\t-6348449952595699719 -> -3705275237864060643\n\t-3705275237864060643 [label=100]\n\t7281850675127942797 -> -5419148412288663401\n\t2194707996489643723 -> 9138630884565612149\n\t9138630884565612149 [label=\"metadsl_core.maybe.Maybe.__or__\"]\n\t9138630884565612149 -> 5499010981226069800\n\t5499010981226069800 [label=\"metadsl_core.abstraction.Abstraction.__call__\"]\n\t5499010981226069800 -> -3788189630158834534\n\t-3788189630158834534 [label=\"metadsl_core.abstraction.Abstraction.__add__\"]\n\t-3788189630158834534 -> -3740736735869696238\n\t-3740736735869696238 [label=\"metadsl_core.abstraction.Abstraction.from_fn\"]\n\t-3740736735869696238 -> 3018242513936195758\n\t3018242513936195758 [label=\"BoundInfer(fn=function Maybe.just at 0x10bfd20d0, owner=metadsl_core.maybe.Maybe[metadsl_core.either.Either[metadsl_core.integer.Integer, metadsl_core.vec.Vec[metadsl_core.integer.Integer]]], is_classmethod=True)\"]\n\t-3788189630158834534 -> -1881606863544324424\n\t-1881606863544324424 [label=\"metadsl_core.abstraction.Abstraction.from_fn\"]\n\t-1881606863544324424 -> 3018242514732934158\n\t3018242514732934158 [label=\"BoundInfer(fn=function Either.left at 0x10bfd2378, owner=metadsl_core.either.Either[metadsl_core.integer.Integer, metadsl_core.vec.Vec[metadsl_core.integer.Integer]], is_classmethod=True)\"]\n\t5499010981226069800 -> 4334974619117012171\n\t4334974619117012171 [label=\"metadsl_core.integer.Integer.from_int\"]\n\t4334974619117012171 -> -3705275237759055718\n\t-3705275237759055718 [label=5]\n\t9138630884565612149 -> 1601438670553106301\n\t1601438670553106301 [label=\"metadsl_core.maybe.Maybe.map\"]\n\t1601438670553106301 -> 6263375678545427999\n\t6263375678545427999 [label=\"metadsl_core.conversion.Converter.convert\"]\n\t6263375678545427999 -> -3705275237759055718\n\t1601438670553106301 -> 526428893679100076\n\t526428893679100076 [label=\"metadsl_core.abstraction.Abstraction.from_fn\"]\n\t526428893679100076 -> 3018242093829893758\n\t3018242093829893758 [label=\"BoundInfer(fn=function Either.right at 0x10bfd27b8, owner=metadsl_core.either.Either[metadsl_core.integer.Integer, metadsl_core.vec.Vec[metadsl_core.integer.Integer]], is_classmethod=True)\"]\n\t2445323908143964650 -> -1634153577544591591\n\t-1634153577544591591 [label=\"metadsl_core.maybe.Maybe.nothing\"]\n\t2445323908143964650 -> 3939664682908968727\n\t3939664682908968727 [label=\"metadsl_core.abstraction.Abstraction.__add__\"]\n\t3939664682908968727 -> -4835518037135611421\n\t-4835518037135611421 [label=\"metadsl_core.abstraction.Abstraction.from_fn\"]\n\t-4835518037135611421 -> 3018242093249660358\n\t3018242093249660358 [label=\"BoundInfer(fn=function Maybe.just at 0x10bfd20d0, owner=metadsl_core.maybe.Maybe[metadsl_core.numpy.NDArray], is_classmethod=True)\"]\n\t3939664682908968727 -> 8959345856999598305\n\t8959345856999598305 [label=\"metadsl_core.abstraction.Abstraction.from_fn\"]\n\t8959345856999598305 -> 2338214461368435643\n\t2338214461368435643 [label=\"function NDArrayCompat.__getitem__.locals.lambda at 0x10ee30d08\"]\n}",
         "label": null,
         "rule": "metadsl_core.maybe.maybe_match"
        },
        {
         "graph": "digraph {\n\t-7183559494155448101 [label=\"metadsl_core.numpy.NDArrayCompat.to_ndarray\"]\n\t-7183559494155448101 -> 8177131342506622894\n\t8177131342506622894 [label=\"metadsl_core.numpy.NDArrayCompat.from_ndarray\"]\n\t8177131342506622894 -> 7311794547803579994\n\t7311794547803579994 [label=\"metadsl_core.maybe.Maybe.match\"]\n\t7311794547803579994 -> -5573868449168990939\n\t-5573868449168990939 [label=\"metadsl_core.maybe.Maybe.__and__\"]\n\t-5573868449168990939 -> 3154054583708263430\n\t3154054583708263430 [label=\"metadsl_core.conversion.Converter.convert\"]\n\t3154054583708263430 -> 7281850675127942797\n\t7281850675127942797 [label=\"metadsl_core.numpy.NDArrayCompat.__add__\"]\n\t7281850675127942797 -> -5419148412288663401\n\t-5419148412288663401 [label=\"metadsl_core.numpy.NDArrayCompat.from_ndarray\"]\n\t-5419148412288663401 -> -7338046998780095632\n\t-7338046998780095632 [label=\"metadsl_core.maybe.Maybe.just\"]\n\t-7338046998780095632 -> 676902453469965611\n\t676902453469965611 [label=\"metadsl_core.numpy.arange_\"]\n\t676902453469965611 -> -6348449952595699719\n\t-6348449952595699719 [label=\"metadsl_core.integer.Integer.from_int\"]\n\t-6348449952595699719 -> -3705275237864060643\n\t-3705275237864060643 [label=100]\n\t7281850675127942797 -> -5419148412288663401\n\t-5573868449168990939 -> 2008693015714417679\n\t2008693015714417679 [label=\"metadsl_core.maybe.Maybe.__or__\"]\n\t2008693015714417679 -> 8442055930907353369\n\t8442055930907353369 [label=\"metadsl_core.abstraction.Abstraction.__call__\"]\n\t8442055930907353369 -> -7218356126770974737\n\t-7218356126770974737 [label=\"metadsl_core.abstraction.Abstraction.__add__\"]\n\t-7218356126770974737 -> -6438549173542216615\n\t-6438549173542216615 [label=\"metadsl_core.abstraction.Abstraction.create\"]\n\t-6438549173542216615 -> 1003861700431803270\n\t1003861700431803270 [label=\"metadsl_core.abstraction.Abstraction.create_variable\"]\n\t1003861700431803270 -> -6966490431315275170\n\t-6966490431315275170 [label=\"Variable(4545629320)\"]\n\t-6438549173542216615 -> -8827296078106729060\n\t-8827296078106729060 [label=\"metadsl_core.maybe.Maybe.just\"]\n\t-8827296078106729060 -> 1003861700431803270\n\t-7218356126770974737 -> -1881606863544324424\n\t-1881606863544324424 [label=\"metadsl_core.abstraction.Abstraction.from_fn\"]\n\t-1881606863544324424 -> 3018242514732934158\n\t3018242514732934158 [label=\"BoundInfer(fn=function Either.left at 0x10bfd2378, owner=metadsl_core.either.Either[metadsl_core.integer.Integer, metadsl_core.vec.Vec[metadsl_core.integer.Integer]], is_classmethod=True)\"]\n\t8442055930907353369 -> 4334974619117012171\n\t4334974619117012171 [label=\"metadsl_core.integer.Integer.from_int\"]\n\t4334974619117012171 -> -3705275237759055718\n\t-3705275237759055718 [label=5]\n\t2008693015714417679 -> 1601438670553106301\n\t1601438670553106301 [label=\"metadsl_core.maybe.Maybe.map\"]\n\t1601438670553106301 -> 6263375678545427999\n\t6263375678545427999 [label=\"metadsl_core.conversion.Converter.convert\"]\n\t6263375678545427999 -> -3705275237759055718\n\t1601438670553106301 -> 526428893679100076\n\t526428893679100076 [label=\"metadsl_core.abstraction.Abstraction.from_fn\"]\n\t526428893679100076 -> 3018242093829893758\n\t3018242093829893758 [label=\"BoundInfer(fn=function Either.right at 0x10bfd27b8, owner=metadsl_core.either.Either[metadsl_core.integer.Integer, metadsl_core.vec.Vec[metadsl_core.integer.Integer]], is_classmethod=True)\"]\n\t7311794547803579994 -> -1634153577544591591\n\t-1634153577544591591 [label=\"metadsl_core.maybe.Maybe.nothing\"]\n\t7311794547803579994 -> 3939664682908968727\n\t3939664682908968727 [label=\"metadsl_core.abstraction.Abstraction.__add__\"]\n\t3939664682908968727 -> -4835518037135611421\n\t-4835518037135611421 [label=\"metadsl_core.abstraction.Abstraction.from_fn\"]\n\t-4835518037135611421 -> 3018242093249660358\n\t3018242093249660358 [label=\"BoundInfer(fn=function Maybe.just at 0x10bfd20d0, owner=metadsl_core.maybe.Maybe[metadsl_core.numpy.NDArray], is_classmethod=True)\"]\n\t3939664682908968727 -> 8959345856999598305\n\t8959345856999598305 [label=\"metadsl_core.abstraction.Abstraction.from_fn\"]\n\t8959345856999598305 -> 2338214461368435643\n\t2338214461368435643 [label=\"function NDArrayCompat.__getitem__.locals.lambda at 0x10ee30d08\"]\n}",
         "label": null,
         "rule": "metadsl_core.abstraction.Abstraction.from_fn"
        },
        {
         "graph": "digraph {\n\t6278399143217720666 [label=\"metadsl_core.numpy.NDArrayCompat.to_ndarray\"]\n\t6278399143217720666 -> 3654034989066856012\n\t3654034989066856012 [label=\"metadsl_core.numpy.NDArrayCompat.from_ndarray\"]\n\t3654034989066856012 -> -7306491668974838288\n\t-7306491668974838288 [label=\"metadsl_core.maybe.Maybe.match\"]\n\t-7306491668974838288 -> -7108878735657370619\n\t-7108878735657370619 [label=\"metadsl_core.maybe.Maybe.__and__\"]\n\t-7108878735657370619 -> 3154054583708263430\n\t3154054583708263430 [label=\"metadsl_core.conversion.Converter.convert\"]\n\t3154054583708263430 -> 7281850675127942797\n\t7281850675127942797 [label=\"metadsl_core.numpy.NDArrayCompat.__add__\"]\n\t7281850675127942797 -> -5419148412288663401\n\t-5419148412288663401 [label=\"metadsl_core.numpy.NDArrayCompat.from_ndarray\"]\n\t-5419148412288663401 -> -7338046998780095632\n\t-7338046998780095632 [label=\"metadsl_core.maybe.Maybe.just\"]\n\t-7338046998780095632 -> 676902453469965611\n\t676902453469965611 [label=\"metadsl_core.numpy.arange_\"]\n\t676902453469965611 -> -6348449952595699719\n\t-6348449952595699719 [label=\"metadsl_core.integer.Integer.from_int\"]\n\t-6348449952595699719 -> -3705275237864060643\n\t-3705275237864060643 [label=100]\n\t7281850675127942797 -> -5419148412288663401\n\t-7108878735657370619 -> -5399589579363002600\n\t-5399589579363002600 [label=\"metadsl_core.maybe.Maybe.__or__\"]\n\t-5399589579363002600 -> 182954492501630686\n\t182954492501630686 [label=\"metadsl_core.abstraction.Abstraction.__call__\"]\n\t182954492501630686 -> 4557781680098074782\n\t4557781680098074782 [label=\"metadsl_core.abstraction.Abstraction.__add__\"]\n\t4557781680098074782 -> -6438549173542216615\n\t-6438549173542216615 [label=\"metadsl_core.abstraction.Abstraction.create\"]\n\t-6438549173542216615 -> 1003861700431803270\n\t1003861700431803270 [label=\"metadsl_core.abstraction.Abstraction.create_variable\"]\n\t1003861700431803270 -> -6966490431315275170\n\t-6966490431315275170 [label=\"Variable(4545629320)\"]\n\t-6438549173542216615 -> -8827296078106729060\n\t-8827296078106729060 [label=\"metadsl_core.maybe.Maybe.just\"]\n\t-8827296078106729060 -> 1003861700431803270\n\t4557781680098074782 -> -1703772318083535964\n\t-1703772318083535964 [label=\"metadsl_core.abstraction.Abstraction.create\"]\n\t-1703772318083535964 -> -7738163237082567838\n\t-7738163237082567838 [label=\"metadsl_core.abstraction.Abstraction.create_variable\"]\n\t-7738163237082567838 -> -6966490415959658045\n\t-6966490415959658045 [label=\"Variable(4545529336)\"]\n\t-1703772318083535964 -> 625173368782505159\n\t625173368782505159 [label=\"metadsl_core.either.Either.left\"]\n\t625173368782505159 -> -7738163237082567838\n\t182954492501630686 -> 4334974619117012171\n\t4334974619117012171 [label=\"metadsl_core.integer.Integer.from_int\"]\n\t4334974619117012171 -> -3705275237759055718\n\t-3705275237759055718 [label=5]\n\t-5399589579363002600 -> 1601438670553106301\n\t1601438670553106301 [label=\"metadsl_core.maybe.Maybe.map\"]\n\t1601438670553106301 -> 6263375678545427999\n\t6263375678545427999 [label=\"metadsl_core.conversion.Converter.convert\"]\n\t6263375678545427999 -> -3705275237759055718\n\t1601438670553106301 -> 526428893679100076\n\t526428893679100076 [label=\"metadsl_core.abstraction.Abstraction.from_fn\"]\n\t526428893679100076 -> 3018242093829893758\n\t3018242093829893758 [label=\"BoundInfer(fn=function Either.right at 0x10bfd27b8, owner=metadsl_core.either.Either[metadsl_core.integer.Integer, metadsl_core.vec.Vec[metadsl_core.integer.Integer]], is_classmethod=True)\"]\n\t-7306491668974838288 -> -1634153577544591591\n\t-1634153577544591591 [label=\"metadsl_core.maybe.Maybe.nothing\"]\n\t-7306491668974838288 -> 3939664682908968727\n\t3939664682908968727 [label=\"metadsl_core.abstraction.Abstraction.__add__\"]\n\t3939664682908968727 -> -4835518037135611421\n\t-4835518037135611421 [label=\"metadsl_core.abstraction.Abstraction.from_fn\"]\n\t-4835518037135611421 -> 3018242093249660358\n\t3018242093249660358 [label=\"BoundInfer(fn=function Maybe.just at 0x10bfd20d0, owner=metadsl_core.maybe.Maybe[metadsl_core.numpy.NDArray], is_classmethod=True)\"]\n\t3939664682908968727 -> 8959345856999598305\n\t8959345856999598305 [label=\"metadsl_core.abstraction.Abstraction.from_fn\"]\n\t8959345856999598305 -> 2338214461368435643\n\t2338214461368435643 [label=\"function NDArrayCompat.__getitem__.locals.lambda at 0x10ee30d08\"]\n}",
         "label": null,
         "rule": "metadsl_core.abstraction.Abstraction.from_fn"
        },
        {
         "graph": "digraph {\n\t-1739529532081165970 [label=\"metadsl_core.numpy.NDArrayCompat.to_ndarray\"]\n\t-1739529532081165970 -> 7654507105801674437\n\t7654507105801674437 [label=\"metadsl_core.numpy.NDArrayCompat.from_ndarray\"]\n\t7654507105801674437 -> 3457719431142169112\n\t3457719431142169112 [label=\"metadsl_core.maybe.Maybe.match\"]\n\t3457719431142169112 -> 8651256058592678812\n\t8651256058592678812 [label=\"metadsl_core.maybe.Maybe.__and__\"]\n\t8651256058592678812 -> 3154054583708263430\n\t3154054583708263430 [label=\"metadsl_core.conversion.Converter.convert\"]\n\t3154054583708263430 -> 7281850675127942797\n\t7281850675127942797 [label=\"metadsl_core.numpy.NDArrayCompat.__add__\"]\n\t7281850675127942797 -> -5419148412288663401\n\t-5419148412288663401 [label=\"metadsl_core.numpy.NDArrayCompat.from_ndarray\"]\n\t-5419148412288663401 -> -7338046998780095632\n\t-7338046998780095632 [label=\"metadsl_core.maybe.Maybe.just\"]\n\t-7338046998780095632 -> 676902453469965611\n\t676902453469965611 [label=\"metadsl_core.numpy.arange_\"]\n\t676902453469965611 -> -6348449952595699719\n\t-6348449952595699719 [label=\"metadsl_core.integer.Integer.from_int\"]\n\t-6348449952595699719 -> -3705275237864060643\n\t-3705275237864060643 [label=100]\n\t7281850675127942797 -> -5419148412288663401\n\t8651256058592678812 -> 8731456864522646440\n\t8731456864522646440 [label=\"metadsl_core.maybe.Maybe.__or__\"]\n\t8731456864522646440 -> -8068025587362868486\n\t-8068025587362868486 [label=\"metadsl_core.abstraction.Abstraction.__call__\"]\n\t-8068025587362868486 -> -6512417123307943773\n\t-6512417123307943773 [label=\"metadsl_core.abstraction.Abstraction.create\"]\n\t-6512417123307943773 -> -7738163237082567838\n\t-7738163237082567838 [label=\"metadsl_core.abstraction.Abstraction.create_variable\"]\n\t-7738163237082567838 -> -6966490415959658045\n\t-6966490415959658045 [label=\"Variable(4545529336)\"]\n\t-6512417123307943773 -> 7825973750903368564\n\t7825973750903368564 [label=\"metadsl_core.maybe.Maybe.just\"]\n\t7825973750903368564 -> 625173368782505159\n\t625173368782505159 [label=\"metadsl_core.either.Either.left\"]\n\t625173368782505159 -> -7738163237082567838\n\t-8068025587362868486 -> 4334974619117012171\n\t4334974619117012171 [label=\"metadsl_core.integer.Integer.from_int\"]\n\t4334974619117012171 -> -3705275237759055718\n\t-3705275237759055718 [label=5]\n\t8731456864522646440 -> 1601438670553106301\n\t1601438670553106301 [label=\"metadsl_core.maybe.Maybe.map\"]\n\t1601438670553106301 -> 6263375678545427999\n\t6263375678545427999 [label=\"metadsl_core.conversion.Converter.convert\"]\n\t6263375678545427999 -> -3705275237759055718\n\t1601438670553106301 -> 526428893679100076\n\t526428893679100076 [label=\"metadsl_core.abstraction.Abstraction.from_fn\"]\n\t526428893679100076 -> 3018242093829893758\n\t3018242093829893758 [label=\"BoundInfer(fn=function Either.right at 0x10bfd27b8, owner=metadsl_core.either.Either[metadsl_core.integer.Integer, metadsl_core.vec.Vec[metadsl_core.integer.Integer]], is_classmethod=True)\"]\n\t3457719431142169112 -> -1634153577544591591\n\t-1634153577544591591 [label=\"metadsl_core.maybe.Maybe.nothing\"]\n\t3457719431142169112 -> 3939664682908968727\n\t3939664682908968727 [label=\"metadsl_core.abstraction.Abstraction.__add__\"]\n\t3939664682908968727 -> -4835518037135611421\n\t-4835518037135611421 [label=\"metadsl_core.abstraction.Abstraction.from_fn\"]\n\t-4835518037135611421 -> 3018242093249660358\n\t3018242093249660358 [label=\"BoundInfer(fn=function Maybe.just at 0x10bfd20d0, owner=metadsl_core.maybe.Maybe[metadsl_core.numpy.NDArray], is_classmethod=True)\"]\n\t3939664682908968727 -> 8959345856999598305\n\t8959345856999598305 [label=\"metadsl_core.abstraction.Abstraction.from_fn\"]\n\t8959345856999598305 -> 2338214461368435643\n\t2338214461368435643 [label=\"function NDArrayCompat.__getitem__.locals.lambda at 0x10ee30d08\"]\n}",
         "label": null,
         "rule": "metadsl_core.abstraction.compose"
        },
        {
         "graph": "digraph {\n\t-483138365163564445 [label=\"metadsl_core.numpy.NDArrayCompat.to_ndarray\"]\n\t-483138365163564445 -> -7236368725980437570\n\t-7236368725980437570 [label=\"metadsl_core.numpy.NDArrayCompat.from_ndarray\"]\n\t-7236368725980437570 -> -7238494409264714499\n\t-7238494409264714499 [label=\"metadsl_core.maybe.Maybe.match\"]\n\t-7238494409264714499 -> 7914890493891307367\n\t7914890493891307367 [label=\"metadsl_core.maybe.Maybe.__and__\"]\n\t7914890493891307367 -> 3154054583708263430\n\t3154054583708263430 [label=\"metadsl_core.conversion.Converter.convert\"]\n\t3154054583708263430 -> 7281850675127942797\n\t7281850675127942797 [label=\"metadsl_core.numpy.NDArrayCompat.__add__\"]\n\t7281850675127942797 -> -5419148412288663401\n\t-5419148412288663401 [label=\"metadsl_core.numpy.NDArrayCompat.from_ndarray\"]\n\t-5419148412288663401 -> -7338046998780095632\n\t-7338046998780095632 [label=\"metadsl_core.maybe.Maybe.just\"]\n\t-7338046998780095632 -> 676902453469965611\n\t676902453469965611 [label=\"metadsl_core.numpy.arange_\"]\n\t676902453469965611 -> -6348449952595699719\n\t-6348449952595699719 [label=\"metadsl_core.integer.Integer.from_int\"]\n\t-6348449952595699719 -> -3705275237864060643\n\t-3705275237864060643 [label=100]\n\t7281850675127942797 -> -5419148412288663401\n\t7914890493891307367 -> -3367812837952966218\n\t-3367812837952966218 [label=\"metadsl_core.maybe.Maybe.__or__\"]\n\t-3367812837952966218 -> -3253607827985268989\n\t-3253607827985268989 [label=\"metadsl_core.maybe.Maybe.just\"]\n\t-3253607827985268989 -> -4935307720403575888\n\t-4935307720403575888 [label=\"metadsl_core.either.Either.left\"]\n\t-4935307720403575888 -> 4334974619117012171\n\t4334974619117012171 [label=\"metadsl_core.integer.Integer.from_int\"]\n\t4334974619117012171 -> -3705275237759055718\n\t-3705275237759055718 [label=5]\n\t-3367812837952966218 -> 1601438670553106301\n\t1601438670553106301 [label=\"metadsl_core.maybe.Maybe.map\"]\n\t1601438670553106301 -> 6263375678545427999\n\t6263375678545427999 [label=\"metadsl_core.conversion.Converter.convert\"]\n\t6263375678545427999 -> -3705275237759055718\n\t1601438670553106301 -> 526428893679100076\n\t526428893679100076 [label=\"metadsl_core.abstraction.Abstraction.from_fn\"]\n\t526428893679100076 -> 3018242093829893758\n\t3018242093829893758 [label=\"BoundInfer(fn=function Either.right at 0x10bfd27b8, owner=metadsl_core.either.Either[metadsl_core.integer.Integer, metadsl_core.vec.Vec[metadsl_core.integer.Integer]], is_classmethod=True)\"]\n\t-7238494409264714499 -> -1634153577544591591\n\t-1634153577544591591 [label=\"metadsl_core.maybe.Maybe.nothing\"]\n\t-7238494409264714499 -> 3939664682908968727\n\t3939664682908968727 [label=\"metadsl_core.abstraction.Abstraction.__add__\"]\n\t3939664682908968727 -> -4835518037135611421\n\t-4835518037135611421 [label=\"metadsl_core.abstraction.Abstraction.from_fn\"]\n\t-4835518037135611421 -> 3018242093249660358\n\t3018242093249660358 [label=\"BoundInfer(fn=function Maybe.just at 0x10bfd20d0, owner=metadsl_core.maybe.Maybe[metadsl_core.numpy.NDArray], is_classmethod=True)\"]\n\t3939664682908968727 -> 8959345856999598305\n\t8959345856999598305 [label=\"metadsl_core.abstraction.Abstraction.from_fn\"]\n\t8959345856999598305 -> 2338214461368435643\n\t2338214461368435643 [label=\"function NDArrayCompat.__getitem__.locals.lambda at 0x10ee30d08\"]\n}",
         "label": null,
         "rule": "metadsl_core.abstraction.beta_reduce"
        },
        {
         "graph": "digraph {\n\t6735286619205741784 [label=\"metadsl_core.numpy.NDArrayCompat.to_ndarray\"]\n\t6735286619205741784 -> 4148639224189782906\n\t4148639224189782906 [label=\"metadsl_core.numpy.NDArrayCompat.from_ndarray\"]\n\t4148639224189782906 -> 4657119654278063508\n\t4657119654278063508 [label=\"metadsl_core.maybe.Maybe.match\"]\n\t4657119654278063508 -> 2177864481804325886\n\t2177864481804325886 [label=\"metadsl_core.maybe.Maybe.__and__\"]\n\t2177864481804325886 -> 3154054583708263430\n\t3154054583708263430 [label=\"metadsl_core.conversion.Converter.convert\"]\n\t3154054583708263430 -> 7281850675127942797\n\t7281850675127942797 [label=\"metadsl_core.numpy.NDArrayCompat.__add__\"]\n\t7281850675127942797 -> -5419148412288663401\n\t-5419148412288663401 [label=\"metadsl_core.numpy.NDArrayCompat.from_ndarray\"]\n\t-5419148412288663401 -> -7338046998780095632\n\t-7338046998780095632 [label=\"metadsl_core.maybe.Maybe.just\"]\n\t-7338046998780095632 -> 676902453469965611\n\t676902453469965611 [label=\"metadsl_core.numpy.arange_\"]\n\t676902453469965611 -> -6348449952595699719\n\t-6348449952595699719 [label=\"metadsl_core.integer.Integer.from_int\"]\n\t-6348449952595699719 -> -3705275237864060643\n\t-3705275237864060643 [label=100]\n\t7281850675127942797 -> -5419148412288663401\n\t2177864481804325886 -> 429197055195322326\n\t429197055195322326 [label=\"metadsl_core.maybe.Maybe.just\"]\n\t429197055195322326 -> -4935307720403575888\n\t-4935307720403575888 [label=\"metadsl_core.either.Either.left\"]\n\t-4935307720403575888 -> 4334974619117012171\n\t4334974619117012171 [label=\"metadsl_core.integer.Integer.from_int\"]\n\t4334974619117012171 -> -3705275237759055718\n\t-3705275237759055718 [label=5]\n\t4657119654278063508 -> -1634153577544591591\n\t-1634153577544591591 [label=\"metadsl_core.maybe.Maybe.nothing\"]\n\t4657119654278063508 -> 3939664682908968727\n\t3939664682908968727 [label=\"metadsl_core.abstraction.Abstraction.__add__\"]\n\t3939664682908968727 -> -4835518037135611421\n\t-4835518037135611421 [label=\"metadsl_core.abstraction.Abstraction.from_fn\"]\n\t-4835518037135611421 -> 3018242093249660358\n\t3018242093249660358 [label=\"BoundInfer(fn=function Maybe.just at 0x10bfd20d0, owner=metadsl_core.maybe.Maybe[metadsl_core.numpy.NDArray], is_classmethod=True)\"]\n\t3939664682908968727 -> 8959345856999598305\n\t8959345856999598305 [label=\"metadsl_core.abstraction.Abstraction.from_fn\"]\n\t8959345856999598305 -> 2338214461368435643\n\t2338214461368435643 [label=\"function NDArrayCompat.__getitem__.locals.lambda at 0x10ee30d08\"]\n}",
         "label": null,
         "rule": "metadsl_core.maybe.maybe_or"
        },
        {
         "graph": "digraph {\n\t-3077622658776788865 [label=\"metadsl_core.numpy.NDArrayCompat.to_ndarray\"]\n\t-3077622658776788865 -> -1994746913075223905\n\t-1994746913075223905 [label=\"metadsl_core.numpy.NDArrayCompat.from_ndarray\"]\n\t-1994746913075223905 -> 5030199846527934115\n\t5030199846527934115 [label=\"metadsl_core.maybe.Maybe.match\"]\n\t5030199846527934115 -> 2177864481804325886\n\t2177864481804325886 [label=\"metadsl_core.maybe.Maybe.__and__\"]\n\t2177864481804325886 -> 3154054583708263430\n\t3154054583708263430 [label=\"metadsl_core.conversion.Converter.convert\"]\n\t3154054583708263430 -> 7281850675127942797\n\t7281850675127942797 [label=\"metadsl_core.numpy.NDArrayCompat.__add__\"]\n\t7281850675127942797 -> -5419148412288663401\n\t-5419148412288663401 [label=\"metadsl_core.numpy.NDArrayCompat.from_ndarray\"]\n\t-5419148412288663401 -> -7338046998780095632\n\t-7338046998780095632 [label=\"metadsl_core.maybe.Maybe.just\"]\n\t-7338046998780095632 -> 676902453469965611\n\t676902453469965611 [label=\"metadsl_core.numpy.arange_\"]\n\t676902453469965611 -> -6348449952595699719\n\t-6348449952595699719 [label=\"metadsl_core.integer.Integer.from_int\"]\n\t-6348449952595699719 -> -3705275237864060643\n\t-3705275237864060643 [label=100]\n\t7281850675127942797 -> -5419148412288663401\n\t2177864481804325886 -> 429197055195322326\n\t429197055195322326 [label=\"metadsl_core.maybe.Maybe.just\"]\n\t429197055195322326 -> -4935307720403575888\n\t-4935307720403575888 [label=\"metadsl_core.either.Either.left\"]\n\t-4935307720403575888 -> 4334974619117012171\n\t4334974619117012171 [label=\"metadsl_core.integer.Integer.from_int\"]\n\t4334974619117012171 -> -3705275237759055718\n\t-3705275237759055718 [label=5]\n\t5030199846527934115 -> -1634153577544591591\n\t-1634153577544591591 [label=\"metadsl_core.maybe.Maybe.nothing\"]\n\t5030199846527934115 -> -2551837803454835445\n\t-2551837803454835445 [label=\"metadsl_core.abstraction.Abstraction.__add__\"]\n\t-2551837803454835445 -> -4821571046100187953\n\t-4821571046100187953 [label=\"metadsl_core.abstraction.Abstraction.create\"]\n\t-4821571046100187953 -> 3542888536951180369\n\t3542888536951180369 [label=\"metadsl_core.abstraction.Abstraction.create_variable\"]\n\t3542888536951180369 -> -6966490379948381395\n\t-6966490379948381395 [label=\"Variable(4545013464)\"]\n\t-4821571046100187953 -> -5303176114818321546\n\t-5303176114818321546 [label=\"metadsl_core.maybe.Maybe.just\"]\n\t-5303176114818321546 -> 3542888536951180369\n\t-2551837803454835445 -> 8959345856999598305\n\t8959345856999598305 [label=\"metadsl_core.abstraction.Abstraction.from_fn\"]\n\t8959345856999598305 -> 2338214461368435643\n\t2338214461368435643 [label=\"function NDArrayCompat.__getitem__.locals.lambda at 0x10ee30d08\"]\n}",
         "label": null,
         "rule": "metadsl_core.abstraction.Abstraction.from_fn"
        },
        {
         "graph": "digraph {\n\t2609110179263592441 [label=\"metadsl_core.numpy.NDArrayCompat.to_ndarray\"]\n\t2609110179263592441 -> 1348954272782968583\n\t1348954272782968583 [label=\"metadsl_core.numpy.NDArrayCompat.from_ndarray\"]\n\t1348954272782968583 -> 5587518118418537197\n\t5587518118418537197 [label=\"metadsl_core.maybe.Maybe.match\"]\n\t5587518118418537197 -> 2177864481804325886\n\t2177864481804325886 [label=\"metadsl_core.maybe.Maybe.__and__\"]\n\t2177864481804325886 -> 3154054583708263430\n\t3154054583708263430 [label=\"metadsl_core.conversion.Converter.convert\"]\n\t3154054583708263430 -> 7281850675127942797\n\t7281850675127942797 [label=\"metadsl_core.numpy.NDArrayCompat.__add__\"]\n\t7281850675127942797 -> -5419148412288663401\n\t-5419148412288663401 [label=\"metadsl_core.numpy.NDArrayCompat.from_ndarray\"]\n\t-5419148412288663401 -> -7338046998780095632\n\t-7338046998780095632 [label=\"metadsl_core.maybe.Maybe.just\"]\n\t-7338046998780095632 -> 676902453469965611\n\t676902453469965611 [label=\"metadsl_core.numpy.arange_\"]\n\t676902453469965611 -> -6348449952595699719\n\t-6348449952595699719 [label=\"metadsl_core.integer.Integer.from_int\"]\n\t-6348449952595699719 -> -3705275237864060643\n\t-3705275237864060643 [label=100]\n\t7281850675127942797 -> -5419148412288663401\n\t2177864481804325886 -> 429197055195322326\n\t429197055195322326 [label=\"metadsl_core.maybe.Maybe.just\"]\n\t429197055195322326 -> -4935307720403575888\n\t-4935307720403575888 [label=\"metadsl_core.either.Either.left\"]\n\t-4935307720403575888 -> 4334974619117012171\n\t4334974619117012171 [label=\"metadsl_core.integer.Integer.from_int\"]\n\t4334974619117012171 -> -3705275237759055718\n\t-3705275237759055718 [label=5]\n\t5587518118418537197 -> -1634153577544591591\n\t-1634153577544591591 [label=\"metadsl_core.maybe.Maybe.nothing\"]\n\t5587518118418537197 -> -4085882839489581592\n\t-4085882839489581592 [label=\"metadsl_core.abstraction.Abstraction.__add__\"]\n\t-4085882839489581592 -> -4821571046100187953\n\t-4821571046100187953 [label=\"metadsl_core.abstraction.Abstraction.create\"]\n\t-4821571046100187953 -> 3542888536951180369\n\t3542888536951180369 [label=\"metadsl_core.abstraction.Abstraction.create_variable\"]\n\t3542888536951180369 -> -6966490379948381395\n\t-6966490379948381395 [label=\"Variable(4545013464)\"]\n\t-4821571046100187953 -> -5303176114818321546\n\t-5303176114818321546 [label=\"metadsl_core.maybe.Maybe.just\"]\n\t-5303176114818321546 -> 3542888536951180369\n\t-4085882839489581592 -> -8653038408072797321\n\t-8653038408072797321 [label=\"metadsl_core.abstraction.Abstraction.create\"]\n\t-8653038408072797321 -> -1682084061976265732\n\t-1682084061976265732 [label=\"metadsl_core.abstraction.Abstraction.create_variable\"]\n\t-1682084061976265732 -> 2256881646464358263\n\t2256881646464358263 [label=\"Variable(4545153456)\"]\n\t-8653038408072797321 -> 7047408921337346536\n\t7047408921337346536 [label=\"metadsl_core.numpy.NDArray.__getitem__\"]\n\t7047408921337346536 -> 235940811985889809\n\t235940811985889809 [label=\"metadsl_core.pair.Pair.left\"]\n\t235940811985889809 -> -1682084061976265732\n\t7047408921337346536 -> 1944380695342457780\n\t1944380695342457780 [label=\"metadsl_core.pair.Pair.right\"]\n\t1944380695342457780 -> -1682084061976265732\n}",
         "label": null,
         "rule": "metadsl_core.abstraction.Abstraction.from_fn"
        },
        {
         "graph": "digraph {\n\t-9096350248485233949 [label=\"metadsl_core.numpy.NDArrayCompat.to_ndarray\"]\n\t-9096350248485233949 -> -6980230792434416293\n\t-6980230792434416293 [label=\"metadsl_core.numpy.NDArrayCompat.from_ndarray\"]\n\t-6980230792434416293 -> -57149077449234495\n\t-57149077449234495 [label=\"metadsl_core.maybe.Maybe.match\"]\n\t-57149077449234495 -> 2177864481804325886\n\t2177864481804325886 [label=\"metadsl_core.maybe.Maybe.__and__\"]\n\t2177864481804325886 -> 3154054583708263430\n\t3154054583708263430 [label=\"metadsl_core.conversion.Converter.convert\"]\n\t3154054583708263430 -> 7281850675127942797\n\t7281850675127942797 [label=\"metadsl_core.numpy.NDArrayCompat.__add__\"]\n\t7281850675127942797 -> -5419148412288663401\n\t-5419148412288663401 [label=\"metadsl_core.numpy.NDArrayCompat.from_ndarray\"]\n\t-5419148412288663401 -> -7338046998780095632\n\t-7338046998780095632 [label=\"metadsl_core.maybe.Maybe.just\"]\n\t-7338046998780095632 -> 676902453469965611\n\t676902453469965611 [label=\"metadsl_core.numpy.arange_\"]\n\t676902453469965611 -> -6348449952595699719\n\t-6348449952595699719 [label=\"metadsl_core.integer.Integer.from_int\"]\n\t-6348449952595699719 -> -3705275237864060643\n\t-3705275237864060643 [label=100]\n\t7281850675127942797 -> -5419148412288663401\n\t2177864481804325886 -> 429197055195322326\n\t429197055195322326 [label=\"metadsl_core.maybe.Maybe.just\"]\n\t429197055195322326 -> -4935307720403575888\n\t-4935307720403575888 [label=\"metadsl_core.either.Either.left\"]\n\t-4935307720403575888 -> 4334974619117012171\n\t4334974619117012171 [label=\"metadsl_core.integer.Integer.from_int\"]\n\t4334974619117012171 -> -3705275237759055718\n\t-3705275237759055718 [label=5]\n\t-57149077449234495 -> -1634153577544591591\n\t-1634153577544591591 [label=\"metadsl_core.maybe.Maybe.nothing\"]\n\t-57149077449234495 -> 2761148773475161562\n\t2761148773475161562 [label=\"metadsl_core.abstraction.Abstraction.create\"]\n\t2761148773475161562 -> -1682084061976265732\n\t-1682084061976265732 [label=\"metadsl_core.abstraction.Abstraction.create_variable\"]\n\t-1682084061976265732 -> 2256881646464358263\n\t2256881646464358263 [label=\"Variable(4545153456)\"]\n\t2761148773475161562 -> 5912341640787431499\n\t5912341640787431499 [label=\"metadsl_core.maybe.Maybe.just\"]\n\t5912341640787431499 -> 7047408921337346536\n\t7047408921337346536 [label=\"metadsl_core.numpy.NDArray.__getitem__\"]\n\t7047408921337346536 -> 235940811985889809\n\t235940811985889809 [label=\"metadsl_core.pair.Pair.left\"]\n\t235940811985889809 -> -1682084061976265732\n\t7047408921337346536 -> 1944380695342457780\n\t1944380695342457780 [label=\"metadsl_core.pair.Pair.right\"]\n\t1944380695342457780 -> -1682084061976265732\n}",
         "label": null,
         "rule": "metadsl_core.abstraction.compose"
        },
        {
         "graph": "digraph {\n\t-4905362078359034911 [label=\"metadsl_core.numpy.NDArrayCompat.to_ndarray\"]\n\t-4905362078359034911 -> -7056852421285137628\n\t-7056852421285137628 [label=\"metadsl_core.numpy.NDArrayCompat.from_ndarray\"]\n\t-7056852421285137628 -> -3006478659514006919\n\t-3006478659514006919 [label=\"metadsl_core.maybe.Maybe.match\"]\n\t-3006478659514006919 -> -1147415382588726262\n\t-1147415382588726262 [label=\"metadsl_core.maybe.Maybe.__and__\"]\n\t-1147415382588726262 -> -2306470418200692677\n\t-2306470418200692677 [label=\"metadsl_core.conversion.Converter.convert\"]\n\t-2306470418200692677 -> -7529480365230570664\n\t-7529480365230570664 [label=\"metadsl_core.numpy.NDArrayCompat.from_ndarray\"]\n\t-7529480365230570664 -> 53011181607246694\n\t53011181607246694 [label=\"metadsl_core.maybe.Maybe.just\"]\n\t53011181607246694 -> -759093838837854533\n\t-759093838837854533 [label=\"metadsl_core.numpy.NDArray.__add__\"]\n\t-759093838837854533 -> 676902453469965611\n\t676902453469965611 [label=\"metadsl_core.numpy.arange_\"]\n\t676902453469965611 -> -6348449952595699719\n\t-6348449952595699719 [label=\"metadsl_core.integer.Integer.from_int\"]\n\t-6348449952595699719 -> -3705275237864060643\n\t-3705275237864060643 [label=100]\n\t-759093838837854533 -> 676902453469965611\n\t-1147415382588726262 -> 429197055195322326\n\t429197055195322326 [label=\"metadsl_core.maybe.Maybe.just\"]\n\t429197055195322326 -> -4935307720403575888\n\t-4935307720403575888 [label=\"metadsl_core.either.Either.left\"]\n\t-4935307720403575888 -> 4334974619117012171\n\t4334974619117012171 [label=\"metadsl_core.integer.Integer.from_int\"]\n\t4334974619117012171 -> -3705275237759055718\n\t-3705275237759055718 [label=5]\n\t-3006478659514006919 -> -1634153577544591591\n\t-1634153577544591591 [label=\"metadsl_core.maybe.Maybe.nothing\"]\n\t-3006478659514006919 -> 2761148773475161562\n\t2761148773475161562 [label=\"metadsl_core.abstraction.Abstraction.create\"]\n\t2761148773475161562 -> -1682084061976265732\n\t-1682084061976265732 [label=\"metadsl_core.abstraction.Abstraction.create_variable\"]\n\t-1682084061976265732 -> 2256881646464358263\n\t2256881646464358263 [label=\"Variable(4545153456)\"]\n\t2761148773475161562 -> 5912341640787431499\n\t5912341640787431499 [label=\"metadsl_core.maybe.Maybe.just\"]\n\t5912341640787431499 -> 7047408921337346536\n\t7047408921337346536 [label=\"metadsl_core.numpy.NDArray.__getitem__\"]\n\t7047408921337346536 -> 235940811985889809\n\t235940811985889809 [label=\"metadsl_core.pair.Pair.left\"]\n\t235940811985889809 -> -1682084061976265732\n\t7047408921337346536 -> 1944380695342457780\n\t1944380695342457780 [label=\"metadsl_core.pair.Pair.right\"]\n\t1944380695342457780 -> -1682084061976265732\n}",
         "label": null,
         "rule": "metadsl_core.numpy.add_compat"
        },
        {
         "graph": "digraph {\n\t-6622106871885258631 [label=\"metadsl_core.numpy.NDArrayCompat.to_ndarray\"]\n\t-6622106871885258631 -> -5811636341751937007\n\t-5811636341751937007 [label=\"metadsl_core.numpy.NDArrayCompat.from_ndarray\"]\n\t-5811636341751937007 -> 7810499439306393248\n\t7810499439306393248 [label=\"metadsl_core.maybe.Maybe.match\"]\n\t7810499439306393248 -> 5598944308330143781\n\t5598944308330143781 [label=\"metadsl_core.maybe.Maybe.__and__\"]\n\t5598944308330143781 -> 53011181607246694\n\t53011181607246694 [label=\"metadsl_core.maybe.Maybe.just\"]\n\t53011181607246694 -> -759093838837854533\n\t-759093838837854533 [label=\"metadsl_core.numpy.NDArray.__add__\"]\n\t-759093838837854533 -> 676902453469965611\n\t676902453469965611 [label=\"metadsl_core.numpy.arange_\"]\n\t676902453469965611 -> -6348449952595699719\n\t-6348449952595699719 [label=\"metadsl_core.integer.Integer.from_int\"]\n\t-6348449952595699719 -> -3705275237864060643\n\t-3705275237864060643 [label=100]\n\t-759093838837854533 -> 676902453469965611\n\t5598944308330143781 -> 429197055195322326\n\t429197055195322326 [label=\"metadsl_core.maybe.Maybe.just\"]\n\t429197055195322326 -> -4935307720403575888\n\t-4935307720403575888 [label=\"metadsl_core.either.Either.left\"]\n\t-4935307720403575888 -> 4334974619117012171\n\t4334974619117012171 [label=\"metadsl_core.integer.Integer.from_int\"]\n\t4334974619117012171 -> -3705275237759055718\n\t-3705275237759055718 [label=5]\n\t7810499439306393248 -> -1634153577544591591\n\t-1634153577544591591 [label=\"metadsl_core.maybe.Maybe.nothing\"]\n\t7810499439306393248 -> 2761148773475161562\n\t2761148773475161562 [label=\"metadsl_core.abstraction.Abstraction.create\"]\n\t2761148773475161562 -> -1682084061976265732\n\t-1682084061976265732 [label=\"metadsl_core.abstraction.Abstraction.create_variable\"]\n\t-1682084061976265732 -> 2256881646464358263\n\t2256881646464358263 [label=\"Variable(4545153456)\"]\n\t2761148773475161562 -> 5912341640787431499\n\t5912341640787431499 [label=\"metadsl_core.maybe.Maybe.just\"]\n\t5912341640787431499 -> 7047408921337346536\n\t7047408921337346536 [label=\"metadsl_core.numpy.NDArray.__getitem__\"]\n\t7047408921337346536 -> 235940811985889809\n\t235940811985889809 [label=\"metadsl_core.pair.Pair.left\"]\n\t235940811985889809 -> -1682084061976265732\n\t7047408921337346536 -> 1944380695342457780\n\t1944380695342457780 [label=\"metadsl_core.pair.Pair.right\"]\n\t1944380695342457780 -> -1682084061976265732\n}",
         "label": null,
         "rule": "metadsl_core.numpy.convert_to_ndarray"
        },
        {
         "graph": "digraph {\n\t-5262322094604335595 [label=\"metadsl_core.numpy.NDArrayCompat.to_ndarray\"]\n\t-5262322094604335595 -> -8071604710242911232\n\t-8071604710242911232 [label=\"metadsl_core.numpy.NDArrayCompat.from_ndarray\"]\n\t-8071604710242911232 -> -7984040154612536138\n\t-7984040154612536138 [label=\"metadsl_core.maybe.Maybe.match\"]\n\t-7984040154612536138 -> 4594020610033156603\n\t4594020610033156603 [label=\"metadsl_core.maybe.Maybe.just\"]\n\t4594020610033156603 -> 6489103018356725261\n\t6489103018356725261 [label=\"metadsl_core.pair.Pair.create\"]\n\t6489103018356725261 -> -759093838837854533\n\t-759093838837854533 [label=\"metadsl_core.numpy.NDArray.__add__\"]\n\t-759093838837854533 -> 676902453469965611\n\t676902453469965611 [label=\"metadsl_core.numpy.arange_\"]\n\t676902453469965611 -> -6348449952595699719\n\t-6348449952595699719 [label=\"metadsl_core.integer.Integer.from_int\"]\n\t-6348449952595699719 -> -3705275237864060643\n\t-3705275237864060643 [label=100]\n\t-759093838837854533 -> 676902453469965611\n\t6489103018356725261 -> -4935307720403575888\n\t-4935307720403575888 [label=\"metadsl_core.either.Either.left\"]\n\t-4935307720403575888 -> 4334974619117012171\n\t4334974619117012171 [label=\"metadsl_core.integer.Integer.from_int\"]\n\t4334974619117012171 -> -3705275237759055718\n\t-3705275237759055718 [label=5]\n\t-7984040154612536138 -> -1634153577544591591\n\t-1634153577544591591 [label=\"metadsl_core.maybe.Maybe.nothing\"]\n\t-7984040154612536138 -> 2761148773475161562\n\t2761148773475161562 [label=\"metadsl_core.abstraction.Abstraction.create\"]\n\t2761148773475161562 -> -1682084061976265732\n\t-1682084061976265732 [label=\"metadsl_core.abstraction.Abstraction.create_variable\"]\n\t-1682084061976265732 -> 2256881646464358263\n\t2256881646464358263 [label=\"Variable(4545153456)\"]\n\t2761148773475161562 -> 5912341640787431499\n\t5912341640787431499 [label=\"metadsl_core.maybe.Maybe.just\"]\n\t5912341640787431499 -> 7047408921337346536\n\t7047408921337346536 [label=\"metadsl_core.numpy.NDArray.__getitem__\"]\n\t7047408921337346536 -> 235940811985889809\n\t235940811985889809 [label=\"metadsl_core.pair.Pair.left\"]\n\t235940811985889809 -> -1682084061976265732\n\t7047408921337346536 -> 1944380695342457780\n\t1944380695342457780 [label=\"metadsl_core.pair.Pair.right\"]\n\t1944380695342457780 -> -1682084061976265732\n}",
         "label": null,
         "rule": "metadsl_core.maybe.maybe_and"
        },
        {
         "graph": "digraph {\n\t2293270272962369549 [label=\"metadsl_core.numpy.NDArrayCompat.to_ndarray\"]\n\t2293270272962369549 -> -7833044461111117892\n\t-7833044461111117892 [label=\"metadsl_core.numpy.NDArrayCompat.from_ndarray\"]\n\t-7833044461111117892 -> 6931023940528400184\n\t6931023940528400184 [label=\"metadsl_core.abstraction.Abstraction.__call__\"]\n\t6931023940528400184 -> 2761148773475161562\n\t2761148773475161562 [label=\"metadsl_core.abstraction.Abstraction.create\"]\n\t2761148773475161562 -> -1682084061976265732\n\t-1682084061976265732 [label=\"metadsl_core.abstraction.Abstraction.create_variable\"]\n\t-1682084061976265732 -> 2256881646464358263\n\t2256881646464358263 [label=\"Variable(4545153456)\"]\n\t2761148773475161562 -> 5912341640787431499\n\t5912341640787431499 [label=\"metadsl_core.maybe.Maybe.just\"]\n\t5912341640787431499 -> 7047408921337346536\n\t7047408921337346536 [label=\"metadsl_core.numpy.NDArray.__getitem__\"]\n\t7047408921337346536 -> 235940811985889809\n\t235940811985889809 [label=\"metadsl_core.pair.Pair.left\"]\n\t235940811985889809 -> -1682084061976265732\n\t7047408921337346536 -> 1944380695342457780\n\t1944380695342457780 [label=\"metadsl_core.pair.Pair.right\"]\n\t1944380695342457780 -> -1682084061976265732\n\t6931023940528400184 -> 6489103018356725261\n\t6489103018356725261 [label=\"metadsl_core.pair.Pair.create\"]\n\t6489103018356725261 -> -759093838837854533\n\t-759093838837854533 [label=\"metadsl_core.numpy.NDArray.__add__\"]\n\t-759093838837854533 -> 676902453469965611\n\t676902453469965611 [label=\"metadsl_core.numpy.arange_\"]\n\t676902453469965611 -> -6348449952595699719\n\t-6348449952595699719 [label=\"metadsl_core.integer.Integer.from_int\"]\n\t-6348449952595699719 -> -3705275237864060643\n\t-3705275237864060643 [label=100]\n\t-759093838837854533 -> 676902453469965611\n\t6489103018356725261 -> -4935307720403575888\n\t-4935307720403575888 [label=\"metadsl_core.either.Either.left\"]\n\t-4935307720403575888 -> 4334974619117012171\n\t4334974619117012171 [label=\"metadsl_core.integer.Integer.from_int\"]\n\t4334974619117012171 -> -3705275237759055718\n\t-3705275237759055718 [label=5]\n}",
         "label": null,
         "rule": "metadsl_core.maybe.maybe_match"
        },
        {
         "graph": "digraph {\n\t6188741693156294736 [label=\"metadsl_core.numpy.NDArrayCompat.to_ndarray\"]\n\t6188741693156294736 -> 2895527461790539826\n\t2895527461790539826 [label=\"metadsl_core.numpy.NDArrayCompat.from_ndarray\"]\n\t2895527461790539826 -> -3727455046238765628\n\t-3727455046238765628 [label=\"metadsl_core.maybe.Maybe.just\"]\n\t-3727455046238765628 -> 4956640976287279549\n\t4956640976287279549 [label=\"metadsl_core.numpy.NDArray.__getitem__\"]\n\t4956640976287279549 -> 3185944533757697213\n\t3185944533757697213 [label=\"metadsl_core.pair.Pair.left\"]\n\t3185944533757697213 -> 6489103018356725261\n\t6489103018356725261 [label=\"metadsl_core.pair.Pair.create\"]\n\t6489103018356725261 -> -759093838837854533\n\t-759093838837854533 [label=\"metadsl_core.numpy.NDArray.__add__\"]\n\t-759093838837854533 -> 676902453469965611\n\t676902453469965611 [label=\"metadsl_core.numpy.arange_\"]\n\t676902453469965611 -> -6348449952595699719\n\t-6348449952595699719 [label=\"metadsl_core.integer.Integer.from_int\"]\n\t-6348449952595699719 -> -3705275237864060643\n\t-3705275237864060643 [label=100]\n\t-759093838837854533 -> 676902453469965611\n\t6489103018356725261 -> -4935307720403575888\n\t-4935307720403575888 [label=\"metadsl_core.either.Either.left\"]\n\t-4935307720403575888 -> 4334974619117012171\n\t4334974619117012171 [label=\"metadsl_core.integer.Integer.from_int\"]\n\t4334974619117012171 -> -3705275237759055718\n\t-3705275237759055718 [label=5]\n\t4956640976287279549 -> 1758874941227862512\n\t1758874941227862512 [label=\"metadsl_core.pair.Pair.right\"]\n\t1758874941227862512 -> 6489103018356725261\n}",
         "label": null,
         "rule": "metadsl_core.abstraction.beta_reduce"
        },
        {
         "graph": "digraph {\n\t7774360287808655507 [label=\"metadsl_core.numpy.NDArrayCompat.to_ndarray\"]\n\t7774360287808655507 -> 1630990807433894786\n\t1630990807433894786 [label=\"metadsl_core.numpy.NDArrayCompat.from_ndarray\"]\n\t1630990807433894786 -> -288210992240700157\n\t-288210992240700157 [label=\"metadsl_core.maybe.Maybe.just\"]\n\t-288210992240700157 -> 3666256152571248845\n\t3666256152571248845 [label=\"metadsl_core.numpy.NDArray.__getitem__\"]\n\t3666256152571248845 -> -759093838837854533\n\t-759093838837854533 [label=\"metadsl_core.numpy.NDArray.__add__\"]\n\t-759093838837854533 -> 676902453469965611\n\t676902453469965611 [label=\"metadsl_core.numpy.arange_\"]\n\t676902453469965611 -> -6348449952595699719\n\t-6348449952595699719 [label=\"metadsl_core.integer.Integer.from_int\"]\n\t-6348449952595699719 -> -3705275237864060643\n\t-3705275237864060643 [label=100]\n\t-759093838837854533 -> 676902453469965611\n\t3666256152571248845 -> 1758874941227862512\n\t1758874941227862512 [label=\"metadsl_core.pair.Pair.right\"]\n\t1758874941227862512 -> 6489103018356725261\n\t6489103018356725261 [label=\"metadsl_core.pair.Pair.create\"]\n\t6489103018356725261 -> -759093838837854533\n\t6489103018356725261 -> -4935307720403575888\n\t-4935307720403575888 [label=\"metadsl_core.either.Either.left\"]\n\t-4935307720403575888 -> 4334974619117012171\n\t4334974619117012171 [label=\"metadsl_core.integer.Integer.from_int\"]\n\t4334974619117012171 -> -3705275237759055718\n\t-3705275237759055718 [label=5]\n}",
         "label": null,
         "rule": "metadsl_core.pair.pair_left"
        },
        {
         "graph": "digraph {\n\t4219810650526180898 [label=\"metadsl_core.numpy.NDArrayCompat.to_ndarray\"]\n\t4219810650526180898 -> -2709691337316416549\n\t-2709691337316416549 [label=\"metadsl_core.numpy.NDArrayCompat.from_ndarray\"]\n\t-2709691337316416549 -> -6838638049878124787\n\t-6838638049878124787 [label=\"metadsl_core.maybe.Maybe.just\"]\n\t-6838638049878124787 -> -5239234725843763163\n\t-5239234725843763163 [label=\"metadsl_core.numpy.NDArray.__getitem__\"]\n\t-5239234725843763163 -> -759093838837854533\n\t-759093838837854533 [label=\"metadsl_core.numpy.NDArray.__add__\"]\n\t-759093838837854533 -> 676902453469965611\n\t676902453469965611 [label=\"metadsl_core.numpy.arange_\"]\n\t676902453469965611 -> -6348449952595699719\n\t-6348449952595699719 [label=\"metadsl_core.integer.Integer.from_int\"]\n\t-6348449952595699719 -> -3705275237864060643\n\t-3705275237864060643 [label=100]\n\t-759093838837854533 -> 676902453469965611\n\t-5239234725843763163 -> -4935307720403575888\n\t-4935307720403575888 [label=\"metadsl_core.either.Either.left\"]\n\t-4935307720403575888 -> 4334974619117012171\n\t4334974619117012171 [label=\"metadsl_core.integer.Integer.from_int\"]\n\t4334974619117012171 -> -3705275237759055718\n\t-3705275237759055718 [label=5]\n}",
         "label": "convert",
         "rule": "metadsl_core.pair.pair_right"
        },
        {
         "graph": "digraph {\n\t5985250294110641113 [label=\"metadsl_core.numpy.NDArray.to_ndarray\"]\n\t5985250294110641113 -> -5239234725843763163\n\t-5239234725843763163 [label=\"metadsl_core.numpy.NDArray.__getitem__\"]\n\t-5239234725843763163 -> -759093838837854533\n\t-759093838837854533 [label=\"metadsl_core.numpy.NDArray.__add__\"]\n\t-759093838837854533 -> 676902453469965611\n\t676902453469965611 [label=\"metadsl_core.numpy.arange_\"]\n\t676902453469965611 -> -6348449952595699719\n\t-6348449952595699719 [label=\"metadsl_core.integer.Integer.from_int\"]\n\t-6348449952595699719 -> -3705275237864060643\n\t-3705275237864060643 [label=100]\n\t-759093838837854533 -> 676902453469965611\n\t-5239234725843763163 -> -4935307720403575888\n\t-4935307720403575888 [label=\"metadsl_core.either.Either.left\"]\n\t-4935307720403575888 -> 4334974619117012171\n\t4334974619117012171 [label=\"metadsl_core.integer.Integer.from_int\"]\n\t4334974619117012171 -> -3705275237759055718\n\t-3705275237759055718 [label=5]\n}",
         "label": null,
         "rule": "metadsl_core.numpy.box_unbox_ndarray_compat"
        },
        {
         "graph": "digraph {\n\t-1641994168720333632 [label=\"metadsl_core.numpy_engine.ndarray_getitem\"]\n\t-1641994168720333632 -> 3464002892713393029\n\t3464002892713393029 [label=\"metadsl_core.numpy.NDArray.to_ndarray\"]\n\t3464002892713393029 -> -759093838837854533\n\t-759093838837854533 [label=\"metadsl_core.numpy.NDArray.__add__\"]\n\t-759093838837854533 -> 676902453469965611\n\t676902453469965611 [label=\"metadsl_core.numpy.arange_\"]\n\t676902453469965611 -> -6348449952595699719\n\t-6348449952595699719 [label=\"metadsl_core.integer.Integer.from_int\"]\n\t-6348449952595699719 -> -3705275237864060643\n\t-3705275237864060643 [label=100]\n\t-759093838837854533 -> 676902453469965611\n\t-1641994168720333632 -> -1727098197078088733\n\t-1727098197078088733 [label=\"metadsl_core.numpy_engine.unbox_idxs\"]\n\t-1727098197078088733 -> -4935307720403575888\n\t-4935307720403575888 [label=\"metadsl_core.either.Either.left\"]\n\t-4935307720403575888 -> 4334974619117012171\n\t4334974619117012171 [label=\"metadsl_core.integer.Integer.from_int\"]\n\t4334974619117012171 -> -3705275237759055718\n\t-3705275237759055718 [label=5]\n}",
         "label": null,
         "rule": "metadsl_core.numpy_engine.unbox_ndarray_getitem"
        },
        {
         "graph": "digraph {\n\t9188689799785678468 [label=\"metadsl_core.numpy_engine.ndarray_getitem\"]\n\t9188689799785678468 -> -2065618427858497127\n\t-2065618427858497127 [label=\"metadsl_core.numpy_engine.ndarray_add\"]\n\t-2065618427858497127 -> -7335669005619496596\n\t-7335669005619496596 [label=\"metadsl_core.numpy.NDArray.to_ndarray\"]\n\t-7335669005619496596 -> 676902453469965611\n\t676902453469965611 [label=\"metadsl_core.numpy.arange_\"]\n\t676902453469965611 -> -6348449952595699719\n\t-6348449952595699719 [label=\"metadsl_core.integer.Integer.from_int\"]\n\t-6348449952595699719 -> -3705275237864060643\n\t-3705275237864060643 [label=100]\n\t-2065618427858497127 -> -7335669005619496596\n\t9188689799785678468 -> -1727098197078088733\n\t-1727098197078088733 [label=\"metadsl_core.numpy_engine.unbox_idxs\"]\n\t-1727098197078088733 -> -4935307720403575888\n\t-4935307720403575888 [label=\"metadsl_core.either.Either.left\"]\n\t-4935307720403575888 -> 4334974619117012171\n\t4334974619117012171 [label=\"metadsl_core.integer.Integer.from_int\"]\n\t4334974619117012171 -> -3705275237759055718\n\t-3705275237759055718 [label=5]\n}",
         "label": null,
         "rule": "metadsl_core.numpy_engine.unbox_ndarray_add"
        },
        {
         "graph": "digraph {\n\t-4509640865345816202 [label=\"metadsl_core.numpy_engine.ndarray_getitem\"]\n\t-4509640865345816202 -> 937385339147774800\n\t937385339147774800 [label=\"metadsl_core.numpy_engine.ndarray_add\"]\n\t937385339147774800 -> -6866217854608818907\n\t-6866217854608818907 [label=\"metadsl_core.numpy_engine.arange\"]\n\t-6866217854608818907 -> 7709830722086267384\n\t7709830722086267384 [label=\"metadsl_core.numpy_engine.unbox_integer\"]\n\t7709830722086267384 -> -6348449952595699719\n\t-6348449952595699719 [label=\"metadsl_core.integer.Integer.from_int\"]\n\t-6348449952595699719 -> -3705275237864060643\n\t-3705275237864060643 [label=100]\n\t937385339147774800 -> -7335669005619496596\n\t-7335669005619496596 [label=\"metadsl_core.numpy.NDArray.to_ndarray\"]\n\t-7335669005619496596 -> 676902453469965611\n\t676902453469965611 [label=\"metadsl_core.numpy.arange_\"]\n\t676902453469965611 -> -6348449952595699719\n\t-4509640865345816202 -> -1727098197078088733\n\t-1727098197078088733 [label=\"metadsl_core.numpy_engine.unbox_idxs\"]\n\t-1727098197078088733 -> -4935307720403575888\n\t-4935307720403575888 [label=\"metadsl_core.either.Either.left\"]\n\t-4935307720403575888 -> 4334974619117012171\n\t4334974619117012171 [label=\"metadsl_core.integer.Integer.from_int\"]\n\t4334974619117012171 -> -3705275237759055718\n\t-3705275237759055718 [label=5]\n}",
         "label": null,
         "rule": "metadsl_core.numpy_engine.unbox_arange"
        },
        {
         "graph": "digraph {\n\t-1209413765003230508 [label=\"metadsl_core.numpy_engine.ndarray_getitem\"]\n\t-1209413765003230508 -> 7967336711306262315\n\t7967336711306262315 [label=\"metadsl_core.numpy_engine.ndarray_add\"]\n\t7967336711306262315 -> 6263790735347685846\n\t6263790735347685846 [label=\"metadsl_core.numpy_engine.arange\"]\n\t6263790735347685846 -> -3705275237864060643\n\t-3705275237864060643 [label=100]\n\t7967336711306262315 -> -7335669005619496596\n\t-7335669005619496596 [label=\"metadsl_core.numpy.NDArray.to_ndarray\"]\n\t-7335669005619496596 -> 676902453469965611\n\t676902453469965611 [label=\"metadsl_core.numpy.arange_\"]\n\t676902453469965611 -> -6348449952595699719\n\t-6348449952595699719 [label=\"metadsl_core.integer.Integer.from_int\"]\n\t-6348449952595699719 -> -3705275237864060643\n\t-1209413765003230508 -> -1727098197078088733\n\t-1727098197078088733 [label=\"metadsl_core.numpy_engine.unbox_idxs\"]\n\t-1727098197078088733 -> -4935307720403575888\n\t-4935307720403575888 [label=\"metadsl_core.either.Either.left\"]\n\t-4935307720403575888 -> 4334974619117012171\n\t4334974619117012171 [label=\"metadsl_core.integer.Integer.from_int\"]\n\t4334974619117012171 -> -3705275237759055718\n\t-3705275237759055718 [label=5]\n}",
         "label": null,
         "rule": "metadsl_core.numpy_engine.unbox_integer_rule"
        },
        {
         "graph": "digraph {\n\t-805974828597571675 [label=\"metadsl_core.numpy_engine.ndarray_getitem\"]\n\t-805974828597571675 -> 1713027170642233184\n\t1713027170642233184 [label=\"metadsl_core.numpy_engine.ndarray_add\"]\n\t1713027170642233184 -> 6263790735347685846\n\t6263790735347685846 [label=\"metadsl_core.numpy_engine.arange\"]\n\t6263790735347685846 -> -3705275237864060643\n\t-3705275237864060643 [label=100]\n\t1713027170642233184 -> -6866217854608818907\n\t-6866217854608818907 [label=\"metadsl_core.numpy_engine.arange\"]\n\t-6866217854608818907 -> 7709830722086267384\n\t7709830722086267384 [label=\"metadsl_core.numpy_engine.unbox_integer\"]\n\t7709830722086267384 -> -6348449952595699719\n\t-6348449952595699719 [label=\"metadsl_core.integer.Integer.from_int\"]\n\t-6348449952595699719 -> -3705275237864060643\n\t-805974828597571675 -> -1727098197078088733\n\t-1727098197078088733 [label=\"metadsl_core.numpy_engine.unbox_idxs\"]\n\t-1727098197078088733 -> -4935307720403575888\n\t-4935307720403575888 [label=\"metadsl_core.either.Either.left\"]\n\t-4935307720403575888 -> 4334974619117012171\n\t4334974619117012171 [label=\"metadsl_core.integer.Integer.from_int\"]\n\t4334974619117012171 -> -3705275237759055718\n\t-3705275237759055718 [label=5]\n}",
         "label": null,
         "rule": "metadsl_core.numpy_engine.unbox_arange"
        },
        {
         "graph": "digraph {\n\t134344438444887549 [label=\"metadsl_core.numpy_engine.ndarray_getitem\"]\n\t134344438444887549 -> 110263579142468521\n\t110263579142468521 [label=\"metadsl_core.numpy_engine.ndarray_add\"]\n\t110263579142468521 -> 6263790735347685846\n\t6263790735347685846 [label=\"metadsl_core.numpy_engine.arange\"]\n\t6263790735347685846 -> -3705275237864060643\n\t-3705275237864060643 [label=100]\n\t110263579142468521 -> 6263790735347685846\n\t134344438444887549 -> -1727098197078088733\n\t-1727098197078088733 [label=\"metadsl_core.numpy_engine.unbox_idxs\"]\n\t-1727098197078088733 -> -4935307720403575888\n\t-4935307720403575888 [label=\"metadsl_core.either.Either.left\"]\n\t-4935307720403575888 -> 4334974619117012171\n\t4334974619117012171 [label=\"metadsl_core.integer.Integer.from_int\"]\n\t4334974619117012171 -> -3705275237759055718\n\t-3705275237759055718 [label=5]\n}",
         "label": null,
         "rule": "metadsl_core.numpy_engine.unbox_integer_rule"
        },
        {
         "graph": "digraph {\n\t-1980804916096807227 [label=\"metadsl_core.numpy_engine.ndarray_getitem\"]\n\t-1980804916096807227 -> 110263579142468521\n\t110263579142468521 [label=\"metadsl_core.numpy_engine.ndarray_add\"]\n\t110263579142468521 -> 6263790735347685846\n\t6263790735347685846 [label=\"metadsl_core.numpy_engine.arange\"]\n\t6263790735347685846 -> -3705275237864060643\n\t-3705275237864060643 [label=100]\n\t110263579142468521 -> 6263790735347685846\n\t-1980804916096807227 -> -1650449521913670327\n\t-1650449521913670327 [label=\"metadsl_core.numpy_engine.unbox_integer\"]\n\t-1650449521913670327 -> 4334974619117012171\n\t4334974619117012171 [label=\"metadsl_core.integer.Integer.from_int\"]\n\t4334974619117012171 -> -3705275237759055718\n\t-3705275237759055718 [label=5]\n}",
         "label": null,
         "rule": "metadsl_core.numpy_engine.unbox_idxs_rule"
        },
        {
         "graph": "digraph {\n\t-6087412193697889510 [label=\"metadsl_core.numpy_engine.ndarray_getitem\"]\n\t-6087412193697889510 -> 110263579142468521\n\t110263579142468521 [label=\"metadsl_core.numpy_engine.ndarray_add\"]\n\t110263579142468521 -> 6263790735347685846\n\t6263790735347685846 [label=\"metadsl_core.numpy_engine.arange\"]\n\t6263790735347685846 -> -3705275237864060643\n\t-3705275237864060643 [label=100]\n\t110263579142468521 -> 6263790735347685846\n\t-6087412193697889510 -> -3705275237759055718\n\t-3705275237759055718 [label=5]\n}",
         "label": "unbox",
         "rule": "metadsl_core.numpy_engine.unbox_integer_rule"
        },
        {
         "graph": "digraph {\n\t-3243304169821703455 [label=\"metadsl_core.numpy_engine.ndarray_getitem\"]\n\t-3243304169821703455 -> -795757429498870268\n\t-795757429498870268 [label=\"metadsl_core.numpy_engine.ndarray_add\"]\n\t-795757429498870268 -> 4104837961654298349\n\t4104837961654298349 [label=\"array([ 0,  1,  2,  3,  4,  5,  6,  7,  8,  9, 10, 11, 12, 13, 14, 15, 16,\n       17, 18, 19, 20, 21, 22, 23, 24, 25, 26, 27, 28, 29, 30, 31, 32, 33,\n       34, 35, 36, 37, 38, 39, 40, 41, 42, 43, 44, 45, 46, 47, 48, 49, 50,\n       51, 52, 53, 54, 55, 56, 57, 58, 59, 60, 61, 62, 63, 64, 65, 66, 67,\n       68, 69, 70, 71, 72, 73, 74, 75, 76, 77, 78, 79, 80, 81, 82, 83, 84,\n       85, 86, 87, 88, 89, 90, 91, 92, 93, 94, 95, 96, 97, 98, 99])\"]\n\t-795757429498870268 -> 6263790735347685846\n\t6263790735347685846 [label=\"metadsl_core.numpy_engine.arange\"]\n\t6263790735347685846 -> -3705275237864060643\n\t-3705275237864060643 [label=100]\n\t-3243304169821703455 -> -3705275237759055718\n\t-3705275237759055718 [label=5]\n}",
         "label": null,
         "rule": "metadsl_core.numpy_engine.arange"
        },
        {
         "graph": "digraph {\n\t-5523046823137818627 [label=\"metadsl_core.numpy_engine.ndarray_getitem\"]\n\t-5523046823137818627 -> -3622885000550103346\n\t-3622885000550103346 [label=\"metadsl_core.numpy_engine.ndarray_add\"]\n\t-3622885000550103346 -> 4104837961654298349\n\t4104837961654298349 [label=\"array([ 0,  1,  2,  3,  4,  5,  6,  7,  8,  9, 10, 11, 12, 13, 14, 15, 16,\n       17, 18, 19, 20, 21, 22, 23, 24, 25, 26, 27, 28, 29, 30, 31, 32, 33,\n       34, 35, 36, 37, 38, 39, 40, 41, 42, 43, 44, 45, 46, 47, 48, 49, 50,\n       51, 52, 53, 54, 55, 56, 57, 58, 59, 60, 61, 62, 63, 64, 65, 66, 67,\n       68, 69, 70, 71, 72, 73, 74, 75, 76, 77, 78, 79, 80, 81, 82, 83, 84,\n       85, 86, 87, 88, 89, 90, 91, 92, 93, 94, 95, 96, 97, 98, 99])\"]\n\t-3622885000550103346 -> 4104837962866726349\n\t4104837962866726349 [label=\"array([ 0,  1,  2,  3,  4,  5,  6,  7,  8,  9, 10, 11, 12, 13, 14, 15, 16,\n       17, 18, 19, 20, 21, 22, 23, 24, 25, 26, 27, 28, 29, 30, 31, 32, 33,\n       34, 35, 36, 37, 38, 39, 40, 41, 42, 43, 44, 45, 46, 47, 48, 49, 50,\n       51, 52, 53, 54, 55, 56, 57, 58, 59, 60, 61, 62, 63, 64, 65, 66, 67,\n       68, 69, 70, 71, 72, 73, 74, 75, 76, 77, 78, 79, 80, 81, 82, 83, 84,\n       85, 86, 87, 88, 89, 90, 91, 92, 93, 94, 95, 96, 97, 98, 99])\"]\n\t-5523046823137818627 -> -3705275237759055718\n\t-3705275237759055718 [label=5]\n}",
         "label": null,
         "rule": "metadsl_core.numpy_engine.arange"
        },
        {
         "graph": "digraph {\n\t2201775905097761748 [label=\"metadsl_core.numpy_engine.ndarray_getitem\"]\n\t2201775905097761748 -> 4104837872921889149\n\t4104837872921889149 [label=\"array([  0,   2,   4,   6,   8,  10,  12,  14,  16,  18,  20,  22,  24,\n        26,  28,  30,  32,  34,  36,  38,  40,  42,  44,  46,  48,  50,\n        52,  54,  56,  58,  60,  62,  64,  66,  68,  70,  72,  74,  76,\n        78,  80,  82,  84,  86,  88,  90,  92,  94,  96,  98, 100, 102,\n       104, 106, 108, 110, 112, 114, 116, 118, 120, 122, 124, 126, 128,\n       130, 132, 134, 136, 138, 140, 142, 144, 146, 148, 150, 152, 154,\n       156, 158, 160, 162, 164, 166, 168, 170, 172, 174, 176, 178, 180,\n       182, 184, 186, 188, 190, 192, 194, 196, 198])\"]\n\t2201775905097761748 -> -3705275237759055718\n\t-3705275237759055718 [label=5]\n}",
         "label": null,
         "rule": "metadsl_core.numpy_engine.ndarray_add"
        },
        {
         "graph": "digraph {\n\t-5761567968183968639 [label=10]\n}",
         "label": "execute",
         "rule": "metadsl_core.numpy_engine.ndarray_getitem"
        }
       ]
      },
      "text/plain": [
       "Typez(definitions=None, nodes={'-3705275237864060643': PrimitiveNode(type='int', repr='100'), '-7055281088629370118': CallNode(function='metadsl_core.numpy.arange', type_params=None, args=['-3705275237864060643'], kwargs=None), '5764860230719714798': CallNode(function='metadsl_core.numpy.NDArrayCompat.__add__', type_params=None, args=['-7055281088629370118', '-7055281088629370118'], kwargs=None), '-3705275237759055718': PrimitiveNode(type='int', repr='5'), '6550727564280151447': CallNode(function='metadsl_core.numpy.NDArrayCompat.__getitem__', type_params=None, args=['5764860230719714798', '-3705275237759055718'], kwargs=None), '-2038961938848683980': CallNode(function='metadsl_core.numpy.NDArrayCompat.to_ndarray', type_params=None, args=['6550727564280151447'], kwargs=None), '-2927105886577020080': CallNode(function='metadsl_core.conversion.Converter.convert', type_params={'T': DeclaredTypeInstance(type='metadsl_core.numpy.NDArray', params=None)}, args=['5764860230719714798'], kwargs=None), '8011615922277789946': CallNode(function='metadsl_core.conversion.Converter.convert', type_params={'T': DeclaredTypeInstance(type='metadsl_core.either.Either', params={'U': DeclaredTypeInstance(type='metadsl_core.vec.Vec', params={'T': DeclaredTypeInstance(type='metadsl_core.integer.Integer', params=None)}), 'T': DeclaredTypeInstance(type='metadsl_core.integer.Integer', params=None)})}, args=['-3705275237759055718'], kwargs=None), '5231317810645234517': CallNode(function='metadsl_core.maybe.Maybe.__and__', type_params={'T': DeclaredTypeInstance(type='metadsl_core.numpy.NDArray', params=None)}, args=['-2927105886577020080', '8011615922277789946'], kwargs=None), '-6885163181503348890': PrimitiveNode(type='function', repr='<function NDArrayCompat.__getitem__.<locals>.<lambda> at 0x10bf35b70>'), '-3507735203545765246': CallNode(function='metadsl_core.abstraction.Abstraction.from_fn', type_params={'U': DeclaredTypeInstance(type='metadsl_core.numpy.NDArray', params=None), 'T': DeclaredTypeInstance(type='metadsl_core.pair.Pair', params={'U': DeclaredTypeInstance(type='metadsl_core.either.Either', params={'U': DeclaredTypeInstance(type='metadsl_core.vec.Vec', params={'T': DeclaredTypeInstance(type='metadsl_core.integer.Integer', params=None)}), 'T': DeclaredTypeInstance(type='metadsl_core.integer.Integer', params=None)}), 'T': DeclaredTypeInstance(type='metadsl_core.numpy.NDArray', params=None)})}, args=['-6885163181503348890'], kwargs=None), '1110748371494516795': CallNode(function='metadsl_core.maybe.Maybe.map', type_params={'T': DeclaredTypeInstance(type='metadsl_core.pair.Pair', params={'U': DeclaredTypeInstance(type='metadsl_core.either.Either', params={'U': DeclaredTypeInstance(type='metadsl_core.vec.Vec', params={'T': DeclaredTypeInstance(type='metadsl_core.integer.Integer', params=None)}), 'T': DeclaredTypeInstance(type='metadsl_core.integer.Integer', params=None)}), 'T': DeclaredTypeInstance(type='metadsl_core.numpy.NDArray', params=None)})}, args=['5231317810645234517', '-3507735203545765246'], kwargs=None), '6454113284553735655': CallNode(function='metadsl_core.numpy.NDArrayCompat.from_ndarray', type_params=None, args=['1110748371494516795'], kwargs=None), '-6157977845208825559': CallNode(function='metadsl_core.numpy.NDArrayCompat.to_ndarray', type_params=None, args=['6454113284553735655'], kwargs=None), '-7661950433982450966': CallNode(function='metadsl_core.conversion.Converter.convert', type_params={'T': DeclaredTypeInstance(type='metadsl_core.integer.Integer', params=None)}, args=['-3705275237864060643'], kwargs=None), '-7070438637286422905': PrimitiveNode(type='metadsl.typing_tools.Infer', repr='Infer(fn=<function arange_ at 0x10ea01158>)'), '4130506920816483144': CallNode(function='metadsl_core.abstraction.Abstraction.from_fn', type_params=None, args=['-7070438637286422905'], kwargs=None), '-1577388983039126609': CallNode(function='metadsl_core.maybe.Maybe.map', type_params={'T': DeclaredTypeInstance(type='metadsl_core.integer.Integer', params=None)}, args=['-7661950433982450966', '4130506920816483144'], kwargs=None), '8519257424446584621': CallNode(function='metadsl_core.numpy.NDArrayCompat.from_ndarray', type_params=None, args=['-1577388983039126609'], kwargs=None), '-4315186536235377471': CallNode(function='metadsl_core.numpy.NDArrayCompat.__add__', type_params=None, args=['8519257424446584621', '-7055281088629370118'], kwargs=None), '-4912462970913600817': CallNode(function='metadsl_core.conversion.Converter.convert', type_params={'T': DeclaredTypeInstance(type='metadsl_core.numpy.NDArray', params=None)}, args=['-4315186536235377471'], kwargs=None), '-8281681333636686969': CallNode(function='metadsl_core.maybe.Maybe.__and__', type_params={'T': DeclaredTypeInstance(type='metadsl_core.numpy.NDArray', params=None)}, args=['-4912462970913600817', '8011615922277789946'], kwargs=None), '66424626733142333': CallNode(function='metadsl_core.maybe.Maybe.map', type_params={'T': DeclaredTypeInstance(type='metadsl_core.pair.Pair', params={'U': DeclaredTypeInstance(type='metadsl_core.either.Either', params={'U': DeclaredTypeInstance(type='metadsl_core.vec.Vec', params={'T': DeclaredTypeInstance(type='metadsl_core.integer.Integer', params=None)}), 'T': DeclaredTypeInstance(type='metadsl_core.integer.Integer', params=None)}), 'T': DeclaredTypeInstance(type='metadsl_core.numpy.NDArray', params=None)})}, args=['-8281681333636686969', '-3507735203545765246'], kwargs=None), '-3068859707640967745': CallNode(function='metadsl_core.numpy.NDArrayCompat.from_ndarray', type_params=None, args=['66424626733142333'], kwargs=None), '-4265834936206840646': CallNode(function='metadsl_core.numpy.NDArrayCompat.to_ndarray', type_params=None, args=['-3068859707640967745'], kwargs=None), '-6348449952595699719': CallNode(function='metadsl_core.integer.Integer.from_int', type_params=None, args=['-3705275237864060643'], kwargs=None), '6401238467075760220': CallNode(function='metadsl_core.maybe.Maybe.just', type_params=None, args=['-6348449952595699719'], kwargs=None), '-6456102885800723638': CallNode(function='metadsl_core.maybe.Maybe.map', type_params={'T': DeclaredTypeInstance(type='metadsl_core.integer.Integer', params=None)}, args=['6401238467075760220', '4130506920816483144'], kwargs=None), '4765036408123793029': CallNode(function='metadsl_core.numpy.NDArrayCompat.from_ndarray', type_params=None, args=['-6456102885800723638'], kwargs=None), '-993268038132965659': CallNode(function='metadsl_core.numpy.NDArrayCompat.__add__', type_params=None, args=['4765036408123793029', '-7055281088629370118'], kwargs=None), '2535515210733193989': CallNode(function='metadsl_core.conversion.Converter.convert', type_params={'T': DeclaredTypeInstance(type='metadsl_core.numpy.NDArray', params=None)}, args=['-993268038132965659'], kwargs=None), '3748997720588164969': CallNode(function='metadsl_core.maybe.Maybe.__and__', type_params={'T': DeclaredTypeInstance(type='metadsl_core.numpy.NDArray', params=None)}, args=['2535515210733193989', '8011615922277789946'], kwargs=None), '-5604299033260613634': CallNode(function='metadsl_core.maybe.Maybe.map', type_params={'T': DeclaredTypeInstance(type='metadsl_core.pair.Pair', params={'U': DeclaredTypeInstance(type='metadsl_core.either.Either', params={'U': DeclaredTypeInstance(type='metadsl_core.vec.Vec', params={'T': DeclaredTypeInstance(type='metadsl_core.integer.Integer', params=None)}), 'T': DeclaredTypeInstance(type='metadsl_core.integer.Integer', params=None)}), 'T': DeclaredTypeInstance(type='metadsl_core.numpy.NDArray', params=None)})}, args=['3748997720588164969', '-3507735203545765246'], kwargs=None), '-3459187441090866357': CallNode(function='metadsl_core.numpy.NDArrayCompat.from_ndarray', type_params=None, args=['-5604299033260613634'], kwargs=None), '-7831896604623154796': CallNode(function='metadsl_core.numpy.NDArrayCompat.to_ndarray', type_params=None, args=['-3459187441090866357'], kwargs=None), '6427778498691214608': CallNode(function='metadsl_core.numpy.NDArrayCompat.__add__', type_params=None, args=['4765036408123793029', '8519257424446584621'], kwargs=None), '4678850780078233403': CallNode(function='metadsl_core.conversion.Converter.convert', type_params={'T': DeclaredTypeInstance(type='metadsl_core.numpy.NDArray', params=None)}, args=['6427778498691214608'], kwargs=None), '8032600939169997756': CallNode(function='metadsl_core.maybe.Maybe.__and__', type_params={'T': DeclaredTypeInstance(type='metadsl_core.numpy.NDArray', params=None)}, args=['4678850780078233403', '8011615922277789946'], kwargs=None), '6423888092713896623': CallNode(function='metadsl_core.maybe.Maybe.map', type_params={'T': DeclaredTypeInstance(type='metadsl_core.pair.Pair', params={'U': DeclaredTypeInstance(type='metadsl_core.either.Either', params={'U': DeclaredTypeInstance(type='metadsl_core.vec.Vec', params={'T': DeclaredTypeInstance(type='metadsl_core.integer.Integer', params=None)}), 'T': DeclaredTypeInstance(type='metadsl_core.integer.Integer', params=None)}), 'T': DeclaredTypeInstance(type='metadsl_core.numpy.NDArray', params=None)})}, args=['8032600939169997756', '-3507735203545765246'], kwargs=None), '253694624211199247': CallNode(function='metadsl_core.numpy.NDArrayCompat.from_ndarray', type_params=None, args=['6423888092713896623'], kwargs=None), '3738397696021468515': CallNode(function='metadsl_core.numpy.NDArrayCompat.to_ndarray', type_params=None, args=['253694624211199247'], kwargs=None), '-3154319303345681053': CallNode(function='metadsl_core.numpy.NDArrayCompat.__add__', type_params=None, args=['4765036408123793029', '4765036408123793029'], kwargs=None), '-6286215055759621830': CallNode(function='metadsl_core.conversion.Converter.convert', type_params={'T': DeclaredTypeInstance(type='metadsl_core.numpy.NDArray', params=None)}, args=['-3154319303345681053'], kwargs=None), '-9168974794687253874': CallNode(function='metadsl_core.maybe.Maybe.__and__', type_params={'T': DeclaredTypeInstance(type='metadsl_core.numpy.NDArray', params=None)}, args=['-6286215055759621830', '8011615922277789946'], kwargs=None), '-3739963023117336552': CallNode(function='metadsl_core.maybe.Maybe.map', type_params={'T': DeclaredTypeInstance(type='metadsl_core.pair.Pair', params={'U': DeclaredTypeInstance(type='metadsl_core.either.Either', params={'U': DeclaredTypeInstance(type='metadsl_core.vec.Vec', params={'T': DeclaredTypeInstance(type='metadsl_core.integer.Integer', params=None)}), 'T': DeclaredTypeInstance(type='metadsl_core.integer.Integer', params=None)}), 'T': DeclaredTypeInstance(type='metadsl_core.numpy.NDArray', params=None)})}, args=['-9168974794687253874', '-3507735203545765246'], kwargs=None), '-2048565193936773123': CallNode(function='metadsl_core.numpy.NDArrayCompat.from_ndarray', type_params=None, args=['-3739963023117336552'], kwargs=None), '6166778259965441686': CallNode(function='metadsl_core.numpy.NDArrayCompat.to_ndarray', type_params=None, args=['-2048565193936773123'], kwargs=None), '3443580654182396632': CallNode(function='metadsl_core.conversion.Converter.convert', type_params={'T': DeclaredTypeInstance(type='metadsl_core.integer.Integer', params=None)}, args=['-3705275237759055718'], kwargs=None), '3018242884575435358': PrimitiveNode(type='metadsl.typing_tools.BoundInfer', repr='BoundInfer(fn=<function Either.left at 0x10bfd2378>, owner=metadsl_core.either.Either[metadsl_core.integer.Integer, metadsl_core.vec.Vec[metadsl_core.integer.Integer]], is_classmethod=True)'), '8313730218379013134': CallNode(function='metadsl_core.abstraction.Abstraction.from_fn', type_params=None, args=['3018242884575435358'], kwargs=None), '-5321874812370855004': CallNode(function='metadsl_core.maybe.Maybe.map', type_params={'T': DeclaredTypeInstance(type='metadsl_core.integer.Integer', params=None)}, args=['3443580654182396632', '8313730218379013134'], kwargs=None), '6263375678545427999': CallNode(function='metadsl_core.conversion.Converter.convert', type_params={'T': DeclaredTypeInstance(type='metadsl_core.vec.Vec', params={'T': DeclaredTypeInstance(type='metadsl_core.integer.Integer', params=None)})}, args=['-3705275237759055718'], kwargs=None), '3018242913128114758': PrimitiveNode(type='metadsl.typing_tools.BoundInfer', repr='BoundInfer(fn=<function Either.right at 0x10bfd27b8>, owner=metadsl_core.either.Either[metadsl_core.integer.Integer, metadsl_core.vec.Vec[metadsl_core.integer.Integer]], is_classmethod=True)'), '-6337639346334006848': CallNode(function='metadsl_core.abstraction.Abstraction.from_fn', type_params=None, args=['3018242913128114758'], kwargs=None), '7264538449376390032': CallNode(function='metadsl_core.maybe.Maybe.map', type_params={'T': DeclaredTypeInstance(type='metadsl_core.vec.Vec', params={'T': DeclaredTypeInstance(type='metadsl_core.integer.Integer', params=None)})}, args=['6263375678545427999', '-6337639346334006848'], kwargs=None), '7102146947631963592': CallNode(function='metadsl_core.maybe.Maybe.__or__', type_params={'T': DeclaredTypeInstance(type='metadsl_core.either.Either', params={'U': DeclaredTypeInstance(type='metadsl_core.vec.Vec', params={'T': DeclaredTypeInstance(type='metadsl_core.integer.Integer', params=None)}), 'T': DeclaredTypeInstance(type='metadsl_core.integer.Integer', params=None)})}, args=['-5321874812370855004', '7264538449376390032'], kwargs=None), '7261419658042864355': CallNode(function='metadsl_core.maybe.Maybe.__and__', type_params={'T': DeclaredTypeInstance(type='metadsl_core.numpy.NDArray', params=None)}, args=['-6286215055759621830', '7102146947631963592'], kwargs=None), '390378103727119285': CallNode(function='metadsl_core.maybe.Maybe.map', type_params={'T': DeclaredTypeInstance(type='metadsl_core.pair.Pair', params={'U': DeclaredTypeInstance(type='metadsl_core.either.Either', params={'U': DeclaredTypeInstance(type='metadsl_core.vec.Vec', params={'T': DeclaredTypeInstance(type='metadsl_core.integer.Integer', params=None)}), 'T': DeclaredTypeInstance(type='metadsl_core.integer.Integer', params=None)}), 'T': DeclaredTypeInstance(type='metadsl_core.numpy.NDArray', params=None)})}, args=['7261419658042864355', '-3507735203545765246'], kwargs=None), '-1009273168357572286': CallNode(function='metadsl_core.numpy.NDArrayCompat.from_ndarray', type_params=None, args=['390378103727119285'], kwargs=None), '2234634916712647790': CallNode(function='metadsl_core.numpy.NDArrayCompat.to_ndarray', type_params=None, args=['-1009273168357572286'], kwargs=None), '4334974619117012171': CallNode(function='metadsl_core.integer.Integer.from_int', type_params=None, args=['-3705275237759055718'], kwargs=None), '1661886770869584341': CallNode(function='metadsl_core.maybe.Maybe.just', type_params=None, args=['4334974619117012171'], kwargs=None), '1317455389875269501': CallNode(function='metadsl_core.maybe.Maybe.map', type_params={'T': DeclaredTypeInstance(type='metadsl_core.integer.Integer', params=None)}, args=['1661886770869584341', '8313730218379013134'], kwargs=None), '1750584978643145296': CallNode(function='metadsl_core.maybe.Maybe.__or__', type_params={'T': DeclaredTypeInstance(type='metadsl_core.either.Either', params={'U': DeclaredTypeInstance(type='metadsl_core.vec.Vec', params={'T': DeclaredTypeInstance(type='metadsl_core.integer.Integer', params=None)}), 'T': DeclaredTypeInstance(type='metadsl_core.integer.Integer', params=None)})}, args=['1317455389875269501', '7264538449376390032'], kwargs=None), '6409456962031733631': CallNode(function='metadsl_core.maybe.Maybe.__and__', type_params={'T': DeclaredTypeInstance(type='metadsl_core.numpy.NDArray', params=None)}, args=['-6286215055759621830', '1750584978643145296'], kwargs=None), '-3098884371845917645': CallNode(function='metadsl_core.maybe.Maybe.map', type_params={'T': DeclaredTypeInstance(type='metadsl_core.pair.Pair', params={'U': DeclaredTypeInstance(type='metadsl_core.either.Either', params={'U': DeclaredTypeInstance(type='metadsl_core.vec.Vec', params={'T': DeclaredTypeInstance(type='metadsl_core.integer.Integer', params=None)}), 'T': DeclaredTypeInstance(type='metadsl_core.integer.Integer', params=None)}), 'T': DeclaredTypeInstance(type='metadsl_core.numpy.NDArray', params=None)})}, args=['6409456962031733631', '-3507735203545765246'], kwargs=None), '-8488369925205322838': CallNode(function='metadsl_core.numpy.NDArrayCompat.from_ndarray', type_params=None, args=['-3098884371845917645'], kwargs=None), '6126166981246398513': CallNode(function='metadsl_core.numpy.NDArrayCompat.to_ndarray', type_params=None, args=['-8488369925205322838'], kwargs=None), '3018242077089727158': PrimitiveNode(type='metadsl.typing_tools.BoundInfer', repr='BoundInfer(fn=<function Either.left at 0x10bfd2378>, owner=metadsl_core.either.Either[metadsl_core.integer.Integer, metadsl_core.vec.Vec[metadsl_core.integer.Integer]], is_classmethod=True)'), '-8599982649028558349': CallNode(function='metadsl_core.abstraction.Abstraction.from_fn', type_params=None, args=['3018242077089727158'], kwargs=None), '-3459794927642839774': CallNode(function='metadsl_core.maybe.Maybe.map', type_params={'T': DeclaredTypeInstance(type='metadsl_core.integer.Integer', params=None)}, args=['1661886770869584341', '-8599982649028558349'], kwargs=None), '3018242093829893758': PrimitiveNode(type='metadsl.typing_tools.BoundInfer', repr='BoundInfer(fn=<function Either.right at 0x10bfd27b8>, owner=metadsl_core.either.Either[metadsl_core.integer.Integer, metadsl_core.vec.Vec[metadsl_core.integer.Integer]], is_classmethod=True)'), '526428893679100076': CallNode(function='metadsl_core.abstraction.Abstraction.from_fn', type_params=None, args=['3018242093829893758'], kwargs=None), '1601438670553106301': CallNode(function='metadsl_core.maybe.Maybe.map', type_params={'T': DeclaredTypeInstance(type='metadsl_core.vec.Vec', params={'T': DeclaredTypeInstance(type='metadsl_core.integer.Integer', params=None)})}, args=['6263375678545427999', '526428893679100076'], kwargs=None), '-8279248212145704116': CallNode(function='metadsl_core.maybe.Maybe.__or__', type_params={'T': DeclaredTypeInstance(type='metadsl_core.either.Either', params={'U': DeclaredTypeInstance(type='metadsl_core.vec.Vec', params={'T': DeclaredTypeInstance(type='metadsl_core.integer.Integer', params=None)}), 'T': DeclaredTypeInstance(type='metadsl_core.integer.Integer', params=None)})}, args=['-3459794927642839774', '1601438670553106301'], kwargs=None), '-24852428117429491': CallNode(function='metadsl_core.maybe.Maybe.__and__', type_params={'T': DeclaredTypeInstance(type='metadsl_core.numpy.NDArray', params=None)}, args=['-6286215055759621830', '-8279248212145704116'], kwargs=None), '-1634153577544591591': CallNode(function='metadsl_core.maybe.Maybe.nothing', type_params={'T': DeclaredTypeInstance(type='metadsl_core.numpy.NDArray', params=None)}, args=None, kwargs=None), '3018242093249660358': PrimitiveNode(type='metadsl.typing_tools.BoundInfer', repr='BoundInfer(fn=<function Maybe.just at 0x10bfd20d0>, owner=metadsl_core.maybe.Maybe[metadsl_core.numpy.NDArray], is_classmethod=True)'), '-4835518037135611421': CallNode(function='metadsl_core.abstraction.Abstraction.from_fn', type_params=None, args=['3018242093249660358'], kwargs=None), '2338214461368435643': PrimitiveNode(type='function', repr='<function NDArrayCompat.__getitem__.<locals>.<lambda> at 0x10ee30d08>'), '8959345856999598305': CallNode(function='metadsl_core.abstraction.Abstraction.from_fn', type_params={'U': DeclaredTypeInstance(type='metadsl_core.numpy.NDArray', params=None), 'T': DeclaredTypeInstance(type='metadsl_core.pair.Pair', params={'U': DeclaredTypeInstance(type='metadsl_core.either.Either', params={'U': DeclaredTypeInstance(type='metadsl_core.vec.Vec', params={'T': DeclaredTypeInstance(type='metadsl_core.integer.Integer', params=None)}), 'T': DeclaredTypeInstance(type='metadsl_core.integer.Integer', params=None)}), 'T': DeclaredTypeInstance(type='metadsl_core.numpy.NDArray', params=None)})}, args=['2338214461368435643'], kwargs=None), '3939664682908968727': CallNode(function='metadsl_core.abstraction.Abstraction.__add__', type_params={'U': DeclaredTypeInstance(type='metadsl_core.maybe.Maybe', params={'T': DeclaredTypeInstance(type='metadsl_core.numpy.NDArray', params=None)}), 'T': DeclaredTypeInstance(type='metadsl_core.numpy.NDArray', params=None)}, args=['-4835518037135611421', '8959345856999598305'], kwargs=None), '-824942965300223143': CallNode(function='metadsl_core.maybe.Maybe.match', type_params=None, args=['-24852428117429491', '-1634153577544591591', '3939664682908968727'], kwargs=None), '8705651404375010812': CallNode(function='metadsl_core.numpy.NDArrayCompat.from_ndarray', type_params=None, args=['-824942965300223143'], kwargs=None), '-1194123969099835682': CallNode(function='metadsl_core.numpy.NDArrayCompat.to_ndarray', type_params=None, args=['8705651404375010812'], kwargs=None), '3018242890888721158': PrimitiveNode(type='metadsl.typing_tools.BoundInfer', repr='BoundInfer(fn=<function Maybe.just at 0x10bfd20d0>, owner=metadsl_core.maybe.Maybe[metadsl_core.numpy.NDArray], is_classmethod=True)'), '-1748392540487243140': CallNode(function='metadsl_core.abstraction.Abstraction.from_fn', type_params=None, args=['3018242890888721158'], kwargs=None), '6487451330758204480': CallNode(function='metadsl_core.abstraction.Abstraction.__add__', type_params={'U': DeclaredTypeInstance(type='metadsl_core.maybe.Maybe', params={'T': DeclaredTypeInstance(type='metadsl_core.numpy.NDArray', params=None)}), 'T': DeclaredTypeInstance(type='metadsl_core.numpy.NDArray', params=None)}, args=['-1748392540487243140', '4130506920816483144'], kwargs=None), '-5073413745936729993': CallNode(function='metadsl_core.maybe.Maybe.match', type_params={'T': DeclaredTypeInstance(type='metadsl_core.integer.Integer', params=None)}, args=['6401238467075760220', '-1634153577544591591', '6487451330758204480'], kwargs=None), '8103869775350922206': CallNode(function='metadsl_core.numpy.NDArrayCompat.from_ndarray', type_params=None, args=['-5073413745936729993'], kwargs=None), '-6036066501690401618': CallNode(function='metadsl_core.numpy.NDArrayCompat.__add__', type_params=None, args=['8103869775350922206', '4765036408123793029'], kwargs=None), '971993382396993675': CallNode(function='metadsl_core.conversion.Converter.convert', type_params={'T': DeclaredTypeInstance(type='metadsl_core.numpy.NDArray', params=None)}, args=['-6036066501690401618'], kwargs=None), '-1749453601745282915': CallNode(function='metadsl_core.maybe.Maybe.__and__', type_params={'T': DeclaredTypeInstance(type='metadsl_core.numpy.NDArray', params=None)}, args=['971993382396993675', '-8279248212145704116'], kwargs=None), '-5601283796747524553': CallNode(function='metadsl_core.maybe.Maybe.match', type_params=None, args=['-1749453601745282915', '-1634153577544591591', '3939664682908968727'], kwargs=None), '5045056337060435608': CallNode(function='metadsl_core.numpy.NDArrayCompat.from_ndarray', type_params=None, args=['-5601283796747524553'], kwargs=None), '-83975987365888270': CallNode(function='metadsl_core.numpy.NDArrayCompat.to_ndarray', type_params=None, args=['5045056337060435608'], kwargs=None), '3018242090937386958': PrimitiveNode(type='metadsl.typing_tools.BoundInfer', repr='BoundInfer(fn=<function Maybe.just at 0x10bfd20d0>, owner=metadsl_core.maybe.Maybe[metadsl_core.numpy.NDArray], is_classmethod=True)'), '6467376240504041523': CallNode(function='metadsl_core.abstraction.Abstraction.from_fn', type_params=None, args=['3018242090937386958'], kwargs=None), '-6099267688461610945': CallNode(function='metadsl_core.abstraction.Abstraction.__add__', type_params={'U': DeclaredTypeInstance(type='metadsl_core.maybe.Maybe', params={'T': DeclaredTypeInstance(type='metadsl_core.numpy.NDArray', params=None)}), 'T': DeclaredTypeInstance(type='metadsl_core.numpy.NDArray', params=None)}, args=['6467376240504041523', '4130506920816483144'], kwargs=None), '2934984718511839240': CallNode(function='metadsl_core.abstraction.Abstraction.__call__', type_params={'U': DeclaredTypeInstance(type='metadsl_core.maybe.Maybe', params={'T': DeclaredTypeInstance(type='metadsl_core.numpy.NDArray', params=None)}), 'T': DeclaredTypeInstance(type='metadsl_core.integer.Integer', params=None)}, args=['-6099267688461610945', '-6348449952595699719'], kwargs=None), '6592985534669160016': CallNode(function='metadsl_core.numpy.NDArrayCompat.from_ndarray', type_params=None, args=['2934984718511839240'], kwargs=None), '2174859143901622524': CallNode(function='metadsl_core.numpy.NDArrayCompat.__add__', type_params=None, args=['6592985534669160016', '4765036408123793029'], kwargs=None), '-2978751380312359645': CallNode(function='metadsl_core.conversion.Converter.convert', type_params={'T': DeclaredTypeInstance(type='metadsl_core.numpy.NDArray', params=None)}, args=['2174859143901622524'], kwargs=None), '3391549790777468134': CallNode(function='metadsl_core.maybe.Maybe.__and__', type_params={'T': DeclaredTypeInstance(type='metadsl_core.numpy.NDArray', params=None)}, args=['-2978751380312359645', '-8279248212145704116'], kwargs=None), '2902666336292618750': CallNode(function='metadsl_core.maybe.Maybe.match', type_params=None, args=['3391549790777468134', '-1634153577544591591', '3939664682908968727'], kwargs=None), '6226270116717653174': CallNode(function='metadsl_core.numpy.NDArrayCompat.from_ndarray', type_params=None, args=['2902666336292618750'], kwargs=None), '4323664151503061232': CallNode(function='metadsl_core.numpy.NDArrayCompat.to_ndarray', type_params=None, args=['6226270116717653174'], kwargs=None), '2256881639898844138': PrimitiveNode(type='metadsl_core.abstraction.Variable', repr='Variable(4545252544)'), '4836301537517960171': CallNode(function='metadsl_core.abstraction.Abstraction.create_variable', type_params={'U': DeclaredTypeInstance(type='metadsl_core.maybe.Maybe', params={'T': DeclaredTypeInstance(type='metadsl_core.numpy.NDArray', params=None)}), 'T': DeclaredTypeInstance(type='metadsl_core.numpy.NDArray', params=None)}, args=['2256881639898844138'], kwargs=None), '4280049150639986338': CallNode(function='metadsl_core.maybe.Maybe.just', type_params={'T': DeclaredTypeInstance(type='metadsl_core.numpy.NDArray', params=None)}, args=['4836301537517960171'], kwargs=None), '-4945361811675870101': CallNode(function='metadsl_core.abstraction.Abstraction.create', type_params={'U': DeclaredTypeInstance(type='metadsl_core.maybe.Maybe', params={'T': DeclaredTypeInstance(type='metadsl_core.numpy.NDArray', params=None)}), 'T': DeclaredTypeInstance(type='metadsl_core.numpy.NDArray', params=None)}, args=['4836301537517960171', '4280049150639986338'], kwargs=None), '-795133060356394404': CallNode(function='metadsl_core.abstraction.Abstraction.__add__', type_params={'U': DeclaredTypeInstance(type='metadsl_core.maybe.Maybe', params={'T': DeclaredTypeInstance(type='metadsl_core.numpy.NDArray', params=None)}), 'T': DeclaredTypeInstance(type='metadsl_core.numpy.NDArray', params=None)}, args=['-4945361811675870101', '4130506920816483144'], kwargs=None), '-2301610275579202249': CallNode(function='metadsl_core.abstraction.Abstraction.__call__', type_params={'U': DeclaredTypeInstance(type='metadsl_core.maybe.Maybe', params={'T': DeclaredTypeInstance(type='metadsl_core.numpy.NDArray', params=None)}), 'T': DeclaredTypeInstance(type='metadsl_core.integer.Integer', params=None)}, args=['-795133060356394404', '-6348449952595699719'], kwargs=None), '9155254276511678516': CallNode(function='metadsl_core.numpy.NDArrayCompat.from_ndarray', type_params=None, args=['-2301610275579202249'], kwargs=None), '-1083094577582095066': CallNode(function='metadsl_core.numpy.NDArrayCompat.__add__', type_params=None, args=['9155254276511678516', '4765036408123793029'], kwargs=None), '454418893679383339': CallNode(function='metadsl_core.conversion.Converter.convert', type_params={'T': DeclaredTypeInstance(type='metadsl_core.numpy.NDArray', params=None)}, args=['-1083094577582095066'], kwargs=None), '-2140800586280598894': CallNode(function='metadsl_core.maybe.Maybe.__and__', type_params={'T': DeclaredTypeInstance(type='metadsl_core.numpy.NDArray', params=None)}, args=['454418893679383339', '-8279248212145704116'], kwargs=None), '8418115160699495541': CallNode(function='metadsl_core.maybe.Maybe.match', type_params=None, args=['-2140800586280598894', '-1634153577544591591', '3939664682908968727'], kwargs=None), '4893635387986418138': CallNode(function='metadsl_core.numpy.NDArrayCompat.from_ndarray', type_params=None, args=['8418115160699495541'], kwargs=None), '1537032622556772978': CallNode(function='metadsl_core.numpy.NDArrayCompat.to_ndarray', type_params=None, args=['4893635387986418138'], kwargs=None), '2256881666069968538': PrimitiveNode(type='metadsl_core.abstraction.Variable', repr='Variable(4544861632)'), '-3776049005220402373': CallNode(function='metadsl_core.abstraction.Abstraction.create_variable', type_params={'U': DeclaredTypeInstance(type='metadsl_core.numpy.NDArray', params=None), 'T': DeclaredTypeInstance(type='metadsl_core.integer.Integer', params=None)}, args=['2256881666069968538'], kwargs=None), '-4064207154291991267': CallNode(function='metadsl_core.numpy.arange_', type_params=None, args=['-3776049005220402373'], kwargs=None), '-1459393024097487154': CallNode(function='metadsl_core.abstraction.Abstraction.create', type_params={'U': DeclaredTypeInstance(type='metadsl_core.numpy.NDArray', params=None), 'T': DeclaredTypeInstance(type='metadsl_core.integer.Integer', params=None)}, args=['-3776049005220402373', '-4064207154291991267'], kwargs=None), '-8006232622035031103': CallNode(function='metadsl_core.abstraction.Abstraction.__add__', type_params={'U': DeclaredTypeInstance(type='metadsl_core.maybe.Maybe', params={'T': DeclaredTypeInstance(type='metadsl_core.numpy.NDArray', params=None)}), 'T': DeclaredTypeInstance(type='metadsl_core.numpy.NDArray', params=None)}, args=['-4945361811675870101', '-1459393024097487154'], kwargs=None), '339854020085832488': CallNode(function='metadsl_core.abstraction.Abstraction.__call__', type_params={'U': DeclaredTypeInstance(type='metadsl_core.maybe.Maybe', params={'T': DeclaredTypeInstance(type='metadsl_core.numpy.NDArray', params=None)}), 'T': DeclaredTypeInstance(type='metadsl_core.integer.Integer', params=None)}, args=['-8006232622035031103', '-6348449952595699719'], kwargs=None), '-394715334725373795': CallNode(function='metadsl_core.numpy.NDArrayCompat.from_ndarray', type_params=None, args=['339854020085832488'], kwargs=None), '-7747615708813980176': CallNode(function='metadsl_core.numpy.NDArrayCompat.__add__', type_params=None, args=['-394715334725373795', '4765036408123793029'], kwargs=None), '925543412887538287': CallNode(function='metadsl_core.conversion.Converter.convert', type_params={'T': DeclaredTypeInstance(type='metadsl_core.numpy.NDArray', params=None)}, args=['-7747615708813980176'], kwargs=None), '8403746460847649124': CallNode(function='metadsl_core.maybe.Maybe.__and__', type_params={'T': DeclaredTypeInstance(type='metadsl_core.numpy.NDArray', params=None)}, args=['925543412887538287', '-8279248212145704116'], kwargs=None), '-5635488650836477557': CallNode(function='metadsl_core.maybe.Maybe.match', type_params=None, args=['8403746460847649124', '-1634153577544591591', '3939664682908968727'], kwargs=None), '-2371344914798446896': CallNode(function='metadsl_core.numpy.NDArrayCompat.from_ndarray', type_params=None, args=['-5635488650836477557'], kwargs=None), '7022335250217740843': CallNode(function='metadsl_core.numpy.NDArrayCompat.to_ndarray', type_params=None, args=['-2371344914798446896'], kwargs=None), '-8069826498132308269': CallNode(function='metadsl_core.maybe.Maybe.just', type_params={'T': DeclaredTypeInstance(type='metadsl_core.numpy.NDArray', params=None)}, args=['-4064207154291991267'], kwargs=None), '5343648074907559027': CallNode(function='metadsl_core.abstraction.Abstraction.create', type_params=None, args=['-3776049005220402373', '-8069826498132308269'], kwargs=None), '-7618240575693270998': CallNode(function='metadsl_core.abstraction.Abstraction.__call__', type_params={'U': DeclaredTypeInstance(type='metadsl_core.maybe.Maybe', params={'T': DeclaredTypeInstance(type='metadsl_core.numpy.NDArray', params=None)}), 'T': DeclaredTypeInstance(type='metadsl_core.integer.Integer', params=None)}, args=['5343648074907559027', '-6348449952595699719'], kwargs=None), '4324317467807923182': CallNode(function='metadsl_core.numpy.NDArrayCompat.from_ndarray', type_params=None, args=['-7618240575693270998'], kwargs=None), '-7163410535310276356': CallNode(function='metadsl_core.numpy.NDArrayCompat.__add__', type_params=None, args=['4324317467807923182', '4765036408123793029'], kwargs=None), '-211272459538998363': CallNode(function='metadsl_core.conversion.Converter.convert', type_params={'T': DeclaredTypeInstance(type='metadsl_core.numpy.NDArray', params=None)}, args=['-7163410535310276356'], kwargs=None), '-7809517788854687844': CallNode(function='metadsl_core.maybe.Maybe.__and__', type_params={'T': DeclaredTypeInstance(type='metadsl_core.numpy.NDArray', params=None)}, args=['-211272459538998363', '-8279248212145704116'], kwargs=None), '-2785180909877886917': CallNode(function='metadsl_core.maybe.Maybe.match', type_params=None, args=['-7809517788854687844', '-1634153577544591591', '3939664682908968727'], kwargs=None), '-1869258503858706285': CallNode(function='metadsl_core.numpy.NDArrayCompat.from_ndarray', type_params=None, args=['-2785180909877886917'], kwargs=None), '3249995690797286045': CallNode(function='metadsl_core.numpy.NDArrayCompat.to_ndarray', type_params=None, args=['-1869258503858706285'], kwargs=None), '676902453469965611': CallNode(function='metadsl_core.numpy.arange_', type_params=None, args=['-6348449952595699719'], kwargs=None), '-7338046998780095632': CallNode(function='metadsl_core.maybe.Maybe.just', type_params={'T': DeclaredTypeInstance(type='metadsl_core.numpy.NDArray', params=None)}, args=['676902453469965611'], kwargs=None), '-5419148412288663401': CallNode(function='metadsl_core.numpy.NDArrayCompat.from_ndarray', type_params=None, args=['-7338046998780095632'], kwargs=None), '-5969105519526623034': CallNode(function='metadsl_core.numpy.NDArrayCompat.__add__', type_params=None, args=['-5419148412288663401', '4765036408123793029'], kwargs=None), '7433198376928197925': CallNode(function='metadsl_core.conversion.Converter.convert', type_params={'T': DeclaredTypeInstance(type='metadsl_core.numpy.NDArray', params=None)}, args=['-5969105519526623034'], kwargs=None), '3701521918327552087': CallNode(function='metadsl_core.maybe.Maybe.__and__', type_params={'T': DeclaredTypeInstance(type='metadsl_core.numpy.NDArray', params=None)}, args=['7433198376928197925', '-8279248212145704116'], kwargs=None), '1049507988717975635': CallNode(function='metadsl_core.maybe.Maybe.match', type_params=None, args=['3701521918327552087', '-1634153577544591591', '3939664682908968727'], kwargs=None), '8058674147980137187': CallNode(function='metadsl_core.numpy.NDArrayCompat.from_ndarray', type_params=None, args=['1049507988717975635'], kwargs=None), '4050511387654880594': CallNode(function='metadsl_core.numpy.NDArrayCompat.to_ndarray', type_params=None, args=['8058674147980137187'], kwargs=None), '3018242388908888358': PrimitiveNode(type='metadsl.typing_tools.BoundInfer', repr='BoundInfer(fn=<function Maybe.just at 0x10bfd20d0>, owner=metadsl_core.maybe.Maybe[metadsl_core.numpy.NDArray], is_classmethod=True)'), '-6057852220120145080': CallNode(function='metadsl_core.abstraction.Abstraction.from_fn', type_params=None, args=['3018242388908888358'], kwargs=None), '-3342032545110961032': CallNode(function='metadsl_core.abstraction.Abstraction.__add__', type_params={'U': DeclaredTypeInstance(type='metadsl_core.maybe.Maybe', params={'T': DeclaredTypeInstance(type='metadsl_core.numpy.NDArray', params=None)}), 'T': DeclaredTypeInstance(type='metadsl_core.numpy.NDArray', params=None)}, args=['-6057852220120145080', '4130506920816483144'], kwargs=None), '3452880505442753883': CallNode(function='metadsl_core.maybe.Maybe.match', type_params={'T': DeclaredTypeInstance(type='metadsl_core.integer.Integer', params=None)}, args=['6401238467075760220', '-1634153577544591591', '-3342032545110961032'], kwargs=None), '-3147339004339624043': CallNode(function='metadsl_core.numpy.NDArrayCompat.from_ndarray', type_params=None, args=['3452880505442753883'], kwargs=None), '-7206686008652223635': CallNode(function='metadsl_core.numpy.NDArrayCompat.__add__', type_params=None, args=['-5419148412288663401', '-3147339004339624043'], kwargs=None), '4971045331411428895': CallNode(function='metadsl_core.conversion.Converter.convert', type_params={'T': DeclaredTypeInstance(type='metadsl_core.numpy.NDArray', params=None)}, args=['-7206686008652223635'], kwargs=None), '3297391882060139096': CallNode(function='metadsl_core.maybe.Maybe.__and__', type_params={'T': DeclaredTypeInstance(type='metadsl_core.numpy.NDArray', params=None)}, args=['4971045331411428895', '-8279248212145704116'], kwargs=None), '-7477480118729485424': CallNode(function='metadsl_core.maybe.Maybe.match', type_params=None, args=['3297391882060139096', '-1634153577544591591', '3939664682908968727'], kwargs=None), '7330624165092216033': CallNode(function='metadsl_core.numpy.NDArrayCompat.from_ndarray', type_params=None, args=['-7477480118729485424'], kwargs=None), '-7995219774257288332': CallNode(function='metadsl_core.numpy.NDArrayCompat.to_ndarray', type_params=None, args=['7330624165092216033'], kwargs=None), '3018242855234677758': PrimitiveNode(type='metadsl.typing_tools.BoundInfer', repr='BoundInfer(fn=<function Maybe.just at 0x10bfd20d0>, owner=metadsl_core.maybe.Maybe[metadsl_core.numpy.NDArray], is_classmethod=True)'), '-5282443508822090016': CallNode(function='metadsl_core.abstraction.Abstraction.from_fn', type_params=None, args=['3018242855234677758'], kwargs=None), '-731737035857768788': CallNode(function='metadsl_core.abstraction.Abstraction.__add__', type_params={'U': DeclaredTypeInstance(type='metadsl_core.maybe.Maybe', params={'T': DeclaredTypeInstance(type='metadsl_core.numpy.NDArray', params=None)}), 'T': DeclaredTypeInstance(type='metadsl_core.numpy.NDArray', params=None)}, args=['-5282443508822090016', '4130506920816483144'], kwargs=None), '3641173290756005268': CallNode(function='metadsl_core.abstraction.Abstraction.__call__', type_params={'U': DeclaredTypeInstance(type='metadsl_core.maybe.Maybe', params={'T': DeclaredTypeInstance(type='metadsl_core.numpy.NDArray', params=None)}), 'T': DeclaredTypeInstance(type='metadsl_core.integer.Integer', params=None)}, args=['-731737035857768788', '-6348449952595699719'], kwargs=None), '6160191058984105797': CallNode(function='metadsl_core.numpy.NDArrayCompat.from_ndarray', type_params=None, args=['3641173290756005268'], kwargs=None), '-6092871915624618906': CallNode(function='metadsl_core.numpy.NDArrayCompat.__add__', type_params=None, args=['-5419148412288663401', '6160191058984105797'], kwargs=None), '-4323892626220002502': CallNode(function='metadsl_core.conversion.Converter.convert', type_params={'T': DeclaredTypeInstance(type='metadsl_core.numpy.NDArray', params=None)}, args=['-6092871915624618906'], kwargs=None), '94344989907645566': CallNode(function='metadsl_core.maybe.Maybe.__and__', type_params={'T': DeclaredTypeInstance(type='metadsl_core.numpy.NDArray', params=None)}, args=['-4323892626220002502', '-8279248212145704116'], kwargs=None), '2290366467829829887': CallNode(function='metadsl_core.maybe.Maybe.match', type_params=None, args=['94344989907645566', '-1634153577544591591', '3939664682908968727'], kwargs=None), '-5570514027532609052': CallNode(function='metadsl_core.numpy.NDArrayCompat.from_ndarray', type_params=None, args=['2290366467829829887'], kwargs=None), '1189111225270799387': CallNode(function='metadsl_core.numpy.NDArrayCompat.to_ndarray', type_params=None, args=['-5570514027532609052'], kwargs=None), '2256881645872217088': PrimitiveNode(type='metadsl_core.abstraction.Variable', repr='Variable(4545178592)'), '8249983766491610790': CallNode(function='metadsl_core.abstraction.Abstraction.create_variable', type_params={'U': DeclaredTypeInstance(type='metadsl_core.maybe.Maybe', params={'T': DeclaredTypeInstance(type='metadsl_core.numpy.NDArray', params=None)}), 'T': DeclaredTypeInstance(type='metadsl_core.numpy.NDArray', params=None)}, args=['2256881645872217088'], kwargs=None), '-3595468322114962678': CallNode(function='metadsl_core.maybe.Maybe.just', type_params={'T': DeclaredTypeInstance(type='metadsl_core.numpy.NDArray', params=None)}, args=['8249983766491610790'], kwargs=None), '-3207784447052424171': CallNode(function='metadsl_core.abstraction.Abstraction.create', type_params={'U': DeclaredTypeInstance(type='metadsl_core.maybe.Maybe', params={'T': DeclaredTypeInstance(type='metadsl_core.numpy.NDArray', params=None)}), 'T': DeclaredTypeInstance(type='metadsl_core.numpy.NDArray', params=None)}, args=['8249983766491610790', '-3595468322114962678'], kwargs=None), '-6229250604417303382': CallNode(function='metadsl_core.abstraction.Abstraction.__add__', type_params={'U': DeclaredTypeInstance(type='metadsl_core.maybe.Maybe', params={'T': DeclaredTypeInstance(type='metadsl_core.numpy.NDArray', params=None)}), 'T': DeclaredTypeInstance(type='metadsl_core.numpy.NDArray', params=None)}, args=['-3207784447052424171', '4130506920816483144'], kwargs=None), '-7927669274848198725': CallNode(function='metadsl_core.abstraction.Abstraction.__call__', type_params={'U': DeclaredTypeInstance(type='metadsl_core.maybe.Maybe', params={'T': DeclaredTypeInstance(type='metadsl_core.numpy.NDArray', params=None)}), 'T': DeclaredTypeInstance(type='metadsl_core.integer.Integer', params=None)}, args=['-6229250604417303382', '-6348449952595699719'], kwargs=None), '5770661515837650204': CallNode(function='metadsl_core.numpy.NDArrayCompat.from_ndarray', type_params=None, args=['-7927669274848198725'], kwargs=None), '266412911899798500': CallNode(function='metadsl_core.numpy.NDArrayCompat.__add__', type_params=None, args=['-5419148412288663401', '5770661515837650204'], kwargs=None), '6612416752168751060': CallNode(function='metadsl_core.conversion.Converter.convert', type_params={'T': DeclaredTypeInstance(type='metadsl_core.numpy.NDArray', params=None)}, args=['266412911899798500'], kwargs=None), '-8208727243401881275': CallNode(function='metadsl_core.maybe.Maybe.__and__', type_params={'T': DeclaredTypeInstance(type='metadsl_core.numpy.NDArray', params=None)}, args=['6612416752168751060', '-8279248212145704116'], kwargs=None), '253947969307225104': CallNode(function='metadsl_core.maybe.Maybe.match', type_params=None, args=['-8208727243401881275', '-1634153577544591591', '3939664682908968727'], kwargs=None), '1908416206163114694': CallNode(function='metadsl_core.numpy.NDArrayCompat.from_ndarray', type_params=None, args=['253947969307225104'], kwargs=None), '648982351612815617': CallNode(function='metadsl_core.numpy.NDArrayCompat.to_ndarray', type_params=None, args=['1908416206163114694'], kwargs=None), '2256881620913520688': PrimitiveNode(type='metadsl_core.abstraction.Variable', repr='Variable(4545529056)'), '1489511133141246522': CallNode(function='metadsl_core.abstraction.Abstraction.create_variable', type_params={'U': DeclaredTypeInstance(type='metadsl_core.numpy.NDArray', params=None), 'T': DeclaredTypeInstance(type='metadsl_core.integer.Integer', params=None)}, args=['2256881620913520688'], kwargs=None), '-2304691382169679398': CallNode(function='metadsl_core.numpy.arange_', type_params=None, args=['1489511133141246522'], kwargs=None), '-2512465747330345911': CallNode(function='metadsl_core.abstraction.Abstraction.create', type_params={'U': DeclaredTypeInstance(type='metadsl_core.numpy.NDArray', params=None), 'T': DeclaredTypeInstance(type='metadsl_core.integer.Integer', params=None)}, args=['1489511133141246522', '-2304691382169679398'], kwargs=None), '413842287564348553': CallNode(function='metadsl_core.abstraction.Abstraction.__add__', type_params={'U': DeclaredTypeInstance(type='metadsl_core.maybe.Maybe', params={'T': DeclaredTypeInstance(type='metadsl_core.numpy.NDArray', params=None)}), 'T': DeclaredTypeInstance(type='metadsl_core.numpy.NDArray', params=None)}, args=['-3207784447052424171', '-2512465747330345911'], kwargs=None), '-8576340763994790464': CallNode(function='metadsl_core.abstraction.Abstraction.__call__', type_params={'U': DeclaredTypeInstance(type='metadsl_core.maybe.Maybe', params={'T': DeclaredTypeInstance(type='metadsl_core.numpy.NDArray', params=None)}), 'T': DeclaredTypeInstance(type='metadsl_core.integer.Integer', params=None)}, args=['413842287564348553', '-6348449952595699719'], kwargs=None), '-1849760179593559198': CallNode(function='metadsl_core.numpy.NDArrayCompat.from_ndarray', type_params=None, args=['-8576340763994790464'], kwargs=None), '-383934940862023274': CallNode(function='metadsl_core.numpy.NDArrayCompat.__add__', type_params=None, args=['-5419148412288663401', '-1849760179593559198'], kwargs=None), '132793758213287069': CallNode(function='metadsl_core.conversion.Converter.convert', type_params={'T': DeclaredTypeInstance(type='metadsl_core.numpy.NDArray', params=None)}, args=['-383934940862023274'], kwargs=None), '4365430454413737058': CallNode(function='metadsl_core.maybe.Maybe.__and__', type_params={'T': DeclaredTypeInstance(type='metadsl_core.numpy.NDArray', params=None)}, args=['132793758213287069', '-8279248212145704116'], kwargs=None), '1547510042442769606': CallNode(function='metadsl_core.maybe.Maybe.match', type_params=None, args=['4365430454413737058', '-1634153577544591591', '3939664682908968727'], kwargs=None), '-7566853347785193803': CallNode(function='metadsl_core.numpy.NDArrayCompat.from_ndarray', type_params=None, args=['1547510042442769606'], kwargs=None), '2002047547033271164': CallNode(function='metadsl_core.numpy.NDArrayCompat.to_ndarray', type_params=None, args=['-7566853347785193803'], kwargs=None), '7943720464290122559': CallNode(function='metadsl_core.maybe.Maybe.just', type_params={'T': DeclaredTypeInstance(type='metadsl_core.numpy.NDArray', params=None)}, args=['-2304691382169679398'], kwargs=None), '-5001681947630871869': CallNode(function='metadsl_core.abstraction.Abstraction.create', type_params=None, args=['1489511133141246522', '7943720464290122559'], kwargs=None), '4485487928932546707': CallNode(function='metadsl_core.abstraction.Abstraction.__call__', type_params={'U': DeclaredTypeInstance(type='metadsl_core.maybe.Maybe', params={'T': DeclaredTypeInstance(type='metadsl_core.numpy.NDArray', params=None)}), 'T': DeclaredTypeInstance(type='metadsl_core.integer.Integer', params=None)}, args=['-5001681947630871869', '-6348449952595699719'], kwargs=None), '4877147695135932021': CallNode(function='metadsl_core.numpy.NDArrayCompat.from_ndarray', type_params=None, args=['4485487928932546707'], kwargs=None), '-6536493617917594136': CallNode(function='metadsl_core.numpy.NDArrayCompat.__add__', type_params=None, args=['-5419148412288663401', '4877147695135932021'], kwargs=None), '-4625945638413627308': CallNode(function='metadsl_core.conversion.Converter.convert', type_params={'T': DeclaredTypeInstance(type='metadsl_core.numpy.NDArray', params=None)}, args=['-6536493617917594136'], kwargs=None), '-263109684034311345': CallNode(function='metadsl_core.maybe.Maybe.__and__', type_params={'T': DeclaredTypeInstance(type='metadsl_core.numpy.NDArray', params=None)}, args=['-4625945638413627308', '-8279248212145704116'], kwargs=None), '1307406489829571386': CallNode(function='metadsl_core.maybe.Maybe.match', type_params=None, args=['-263109684034311345', '-1634153577544591591', '3939664682908968727'], kwargs=None), '-1845100254673235209': CallNode(function='metadsl_core.numpy.NDArrayCompat.from_ndarray', type_params=None, args=['1307406489829571386'], kwargs=None), '4921836867861837311': CallNode(function='metadsl_core.numpy.NDArrayCompat.to_ndarray', type_params=None, args=['-1845100254673235209'], kwargs=None), '7281850675127942797': CallNode(function='metadsl_core.numpy.NDArrayCompat.__add__', type_params=None, args=['-5419148412288663401', '-5419148412288663401'], kwargs=None), '3154054583708263430': CallNode(function='metadsl_core.conversion.Converter.convert', type_params={'T': DeclaredTypeInstance(type='metadsl_core.numpy.NDArray', params=None)}, args=['7281850675127942797'], kwargs=None), '-1852849618758691204': CallNode(function='metadsl_core.maybe.Maybe.__and__', type_params={'T': DeclaredTypeInstance(type='metadsl_core.numpy.NDArray', params=None)}, args=['3154054583708263430', '-8279248212145704116'], kwargs=None), '6716517354224206211': CallNode(function='metadsl_core.maybe.Maybe.match', type_params=None, args=['-1852849618758691204', '-1634153577544591591', '3939664682908968727'], kwargs=None), '-8896022180523466101': CallNode(function='metadsl_core.numpy.NDArrayCompat.from_ndarray', type_params=None, args=['6716517354224206211'], kwargs=None), '7515043867223428119': CallNode(function='metadsl_core.numpy.NDArrayCompat.to_ndarray', type_params=None, args=['-8896022180523466101'], kwargs=None), '2139383204678789915': CallNode(function='metadsl_core.maybe.Maybe.nothing', type_params={'T': DeclaredTypeInstance(type='metadsl_core.either.Either', params={'U': DeclaredTypeInstance(type='metadsl_core.vec.Vec', params={'T': DeclaredTypeInstance(type='metadsl_core.integer.Integer', params=None)}), 'T': DeclaredTypeInstance(type='metadsl_core.integer.Integer', params=None)})}, args=None, kwargs=None), '3018243808281027558': PrimitiveNode(type='metadsl.typing_tools.BoundInfer', repr='BoundInfer(fn=<function Maybe.just at 0x10bfd20d0>, owner=metadsl_core.maybe.Maybe[metadsl_core.either.Either[metadsl_core.integer.Integer, metadsl_core.vec.Vec[metadsl_core.integer.Integer]]], is_classmethod=True)'), '2528354174947220587': CallNode(function='metadsl_core.abstraction.Abstraction.from_fn', type_params=None, args=['3018243808281027558'], kwargs=None), '3018243806609608958': PrimitiveNode(type='metadsl.typing_tools.BoundInfer', repr='BoundInfer(fn=<function Either.left at 0x10bfd2378>, owner=metadsl_core.either.Either[metadsl_core.integer.Integer, metadsl_core.vec.Vec[metadsl_core.integer.Integer]], is_classmethod=True)'), '7118332679423400992': CallNode(function='metadsl_core.abstraction.Abstraction.from_fn', type_params=None, args=['3018243806609608958'], kwargs=None), '6897452903364292986': CallNode(function='metadsl_core.abstraction.Abstraction.__add__', type_params={'U': DeclaredTypeInstance(type='metadsl_core.maybe.Maybe', params={'T': DeclaredTypeInstance(type='metadsl_core.either.Either', params={'U': DeclaredTypeInstance(type='metadsl_core.vec.Vec', params={'T': DeclaredTypeInstance(type='metadsl_core.integer.Integer', params=None)}), 'T': DeclaredTypeInstance(type='metadsl_core.integer.Integer', params=None)})}), 'T': DeclaredTypeInstance(type='metadsl_core.either.Either', params={'U': DeclaredTypeInstance(type='metadsl_core.vec.Vec', params={'T': DeclaredTypeInstance(type='metadsl_core.integer.Integer', params=None)}), 'T': DeclaredTypeInstance(type='metadsl_core.integer.Integer', params=None)})}, args=['2528354174947220587', '7118332679423400992'], kwargs=None), '4979549945188571768': CallNode(function='metadsl_core.maybe.Maybe.match', type_params={'T': DeclaredTypeInstance(type='metadsl_core.integer.Integer', params=None)}, args=['1661886770869584341', '2139383204678789915', '6897452903364292986'], kwargs=None), '3919631083830166914': CallNode(function='metadsl_core.maybe.Maybe.__or__', type_params={'T': DeclaredTypeInstance(type='metadsl_core.either.Either', params={'U': DeclaredTypeInstance(type='metadsl_core.vec.Vec', params={'T': DeclaredTypeInstance(type='metadsl_core.integer.Integer', params=None)}), 'T': DeclaredTypeInstance(type='metadsl_core.integer.Integer', params=None)})}, args=['4979549945188571768', '1601438670553106301'], kwargs=None), '8009941912173970220': CallNode(function='metadsl_core.maybe.Maybe.__and__', type_params={'T': DeclaredTypeInstance(type='metadsl_core.numpy.NDArray', params=None)}, args=['3154054583708263430', '3919631083830166914'], kwargs=None), '-924991507664114789': CallNode(function='metadsl_core.maybe.Maybe.match', type_params=None, args=['8009941912173970220', '-1634153577544591591', '3939664682908968727'], kwargs=None), '4309851369393855056': CallNode(function='metadsl_core.numpy.NDArrayCompat.from_ndarray', type_params=None, args=['-924991507664114789'], kwargs=None), '-4230937013791417230': CallNode(function='metadsl_core.numpy.NDArrayCompat.to_ndarray', type_params=None, args=['4309851369393855056'], kwargs=None), '3018242513936195758': PrimitiveNode(type='metadsl.typing_tools.BoundInfer', repr='BoundInfer(fn=<function Maybe.just at 0x10bfd20d0>, owner=metadsl_core.maybe.Maybe[metadsl_core.either.Either[metadsl_core.integer.Integer, metadsl_core.vec.Vec[metadsl_core.integer.Integer]]], is_classmethod=True)'), '-3740736735869696238': CallNode(function='metadsl_core.abstraction.Abstraction.from_fn', type_params=None, args=['3018242513936195758'], kwargs=None), '3018242514732934158': PrimitiveNode(type='metadsl.typing_tools.BoundInfer', repr='BoundInfer(fn=<function Either.left at 0x10bfd2378>, owner=metadsl_core.either.Either[metadsl_core.integer.Integer, metadsl_core.vec.Vec[metadsl_core.integer.Integer]], is_classmethod=True)'), '-1881606863544324424': CallNode(function='metadsl_core.abstraction.Abstraction.from_fn', type_params=None, args=['3018242514732934158'], kwargs=None), '-3788189630158834534': CallNode(function='metadsl_core.abstraction.Abstraction.__add__', type_params={'U': DeclaredTypeInstance(type='metadsl_core.maybe.Maybe', params={'T': DeclaredTypeInstance(type='metadsl_core.either.Either', params={'U': DeclaredTypeInstance(type='metadsl_core.vec.Vec', params={'T': DeclaredTypeInstance(type='metadsl_core.integer.Integer', params=None)}), 'T': DeclaredTypeInstance(type='metadsl_core.integer.Integer', params=None)})}), 'T': DeclaredTypeInstance(type='metadsl_core.either.Either', params={'U': DeclaredTypeInstance(type='metadsl_core.vec.Vec', params={'T': DeclaredTypeInstance(type='metadsl_core.integer.Integer', params=None)}), 'T': DeclaredTypeInstance(type='metadsl_core.integer.Integer', params=None)})}, args=['-3740736735869696238', '-1881606863544324424'], kwargs=None), '5499010981226069800': CallNode(function='metadsl_core.abstraction.Abstraction.__call__', type_params={'U': DeclaredTypeInstance(type='metadsl_core.maybe.Maybe', params={'T': DeclaredTypeInstance(type='metadsl_core.either.Either', params={'U': DeclaredTypeInstance(type='metadsl_core.vec.Vec', params={'T': DeclaredTypeInstance(type='metadsl_core.integer.Integer', params=None)}), 'T': DeclaredTypeInstance(type='metadsl_core.integer.Integer', params=None)})}), 'T': DeclaredTypeInstance(type='metadsl_core.integer.Integer', params=None)}, args=['-3788189630158834534', '4334974619117012171'], kwargs=None), '9138630884565612149': CallNode(function='metadsl_core.maybe.Maybe.__or__', type_params={'T': DeclaredTypeInstance(type='metadsl_core.either.Either', params={'U': DeclaredTypeInstance(type='metadsl_core.vec.Vec', params={'T': DeclaredTypeInstance(type='metadsl_core.integer.Integer', params=None)}), 'T': DeclaredTypeInstance(type='metadsl_core.integer.Integer', params=None)})}, args=['5499010981226069800', '1601438670553106301'], kwargs=None), '2194707996489643723': CallNode(function='metadsl_core.maybe.Maybe.__and__', type_params={'T': DeclaredTypeInstance(type='metadsl_core.numpy.NDArray', params=None)}, args=['3154054583708263430', '9138630884565612149'], kwargs=None), '2445323908143964650': CallNode(function='metadsl_core.maybe.Maybe.match', type_params=None, args=['2194707996489643723', '-1634153577544591591', '3939664682908968727'], kwargs=None), '3224580203905643294': CallNode(function='metadsl_core.numpy.NDArrayCompat.from_ndarray', type_params=None, args=['2445323908143964650'], kwargs=None), '9213635013083931879': CallNode(function='metadsl_core.numpy.NDArrayCompat.to_ndarray', type_params=None, args=['3224580203905643294'], kwargs=None), '-6966490431315275170': PrimitiveNode(type='metadsl_core.abstraction.Variable', repr='Variable(4545629320)'), '1003861700431803270': CallNode(function='metadsl_core.abstraction.Abstraction.create_variable', type_params={'U': DeclaredTypeInstance(type='metadsl_core.maybe.Maybe', params={'T': DeclaredTypeInstance(type='metadsl_core.either.Either', params={'U': DeclaredTypeInstance(type='metadsl_core.vec.Vec', params={'T': DeclaredTypeInstance(type='metadsl_core.integer.Integer', params=None)}), 'T': DeclaredTypeInstance(type='metadsl_core.integer.Integer', params=None)})}), 'T': DeclaredTypeInstance(type='metadsl_core.either.Either', params={'U': DeclaredTypeInstance(type='metadsl_core.vec.Vec', params={'T': DeclaredTypeInstance(type='metadsl_core.integer.Integer', params=None)}), 'T': DeclaredTypeInstance(type='metadsl_core.integer.Integer', params=None)})}, args=['-6966490431315275170'], kwargs=None), '-8827296078106729060': CallNode(function='metadsl_core.maybe.Maybe.just', type_params={'T': DeclaredTypeInstance(type='metadsl_core.either.Either', params={'U': DeclaredTypeInstance(type='metadsl_core.vec.Vec', params={'T': DeclaredTypeInstance(type='metadsl_core.integer.Integer', params=None)}), 'T': DeclaredTypeInstance(type='metadsl_core.integer.Integer', params=None)})}, args=['1003861700431803270'], kwargs=None), '-6438549173542216615': CallNode(function='metadsl_core.abstraction.Abstraction.create', type_params={'U': DeclaredTypeInstance(type='metadsl_core.maybe.Maybe', params={'T': DeclaredTypeInstance(type='metadsl_core.either.Either', params={'U': DeclaredTypeInstance(type='metadsl_core.vec.Vec', params={'T': DeclaredTypeInstance(type='metadsl_core.integer.Integer', params=None)}), 'T': DeclaredTypeInstance(type='metadsl_core.integer.Integer', params=None)})}), 'T': DeclaredTypeInstance(type='metadsl_core.either.Either', params={'U': DeclaredTypeInstance(type='metadsl_core.vec.Vec', params={'T': DeclaredTypeInstance(type='metadsl_core.integer.Integer', params=None)}), 'T': DeclaredTypeInstance(type='metadsl_core.integer.Integer', params=None)})}, args=['1003861700431803270', '-8827296078106729060'], kwargs=None), '-7218356126770974737': CallNode(function='metadsl_core.abstraction.Abstraction.__add__', type_params={'U': DeclaredTypeInstance(type='metadsl_core.maybe.Maybe', params={'T': DeclaredTypeInstance(type='metadsl_core.either.Either', params={'U': DeclaredTypeInstance(type='metadsl_core.vec.Vec', params={'T': DeclaredTypeInstance(type='metadsl_core.integer.Integer', params=None)}), 'T': DeclaredTypeInstance(type='metadsl_core.integer.Integer', params=None)})}), 'T': DeclaredTypeInstance(type='metadsl_core.either.Either', params={'U': DeclaredTypeInstance(type='metadsl_core.vec.Vec', params={'T': DeclaredTypeInstance(type='metadsl_core.integer.Integer', params=None)}), 'T': DeclaredTypeInstance(type='metadsl_core.integer.Integer', params=None)})}, args=['-6438549173542216615', '-1881606863544324424'], kwargs=None), '8442055930907353369': CallNode(function='metadsl_core.abstraction.Abstraction.__call__', type_params={'U': DeclaredTypeInstance(type='metadsl_core.maybe.Maybe', params={'T': DeclaredTypeInstance(type='metadsl_core.either.Either', params={'U': DeclaredTypeInstance(type='metadsl_core.vec.Vec', params={'T': DeclaredTypeInstance(type='metadsl_core.integer.Integer', params=None)}), 'T': DeclaredTypeInstance(type='metadsl_core.integer.Integer', params=None)})}), 'T': DeclaredTypeInstance(type='metadsl_core.integer.Integer', params=None)}, args=['-7218356126770974737', '4334974619117012171'], kwargs=None), '2008693015714417679': CallNode(function='metadsl_core.maybe.Maybe.__or__', type_params={'T': DeclaredTypeInstance(type='metadsl_core.either.Either', params={'U': DeclaredTypeInstance(type='metadsl_core.vec.Vec', params={'T': DeclaredTypeInstance(type='metadsl_core.integer.Integer', params=None)}), 'T': DeclaredTypeInstance(type='metadsl_core.integer.Integer', params=None)})}, args=['8442055930907353369', '1601438670553106301'], kwargs=None), '-5573868449168990939': CallNode(function='metadsl_core.maybe.Maybe.__and__', type_params={'T': DeclaredTypeInstance(type='metadsl_core.numpy.NDArray', params=None)}, args=['3154054583708263430', '2008693015714417679'], kwargs=None), '7311794547803579994': CallNode(function='metadsl_core.maybe.Maybe.match', type_params=None, args=['-5573868449168990939', '-1634153577544591591', '3939664682908968727'], kwargs=None), '8177131342506622894': CallNode(function='metadsl_core.numpy.NDArrayCompat.from_ndarray', type_params=None, args=['7311794547803579994'], kwargs=None), '-7183559494155448101': CallNode(function='metadsl_core.numpy.NDArrayCompat.to_ndarray', type_params=None, args=['8177131342506622894'], kwargs=None), '-6966490415959658045': PrimitiveNode(type='metadsl_core.abstraction.Variable', repr='Variable(4545529336)'), '-7738163237082567838': CallNode(function='metadsl_core.abstraction.Abstraction.create_variable', type_params={'U': DeclaredTypeInstance(type='metadsl_core.either.Either', params={'U': DeclaredTypeInstance(type='metadsl_core.vec.Vec', params={'T': DeclaredTypeInstance(type='metadsl_core.integer.Integer', params=None)}), 'T': DeclaredTypeInstance(type='metadsl_core.integer.Integer', params=None)}), 'T': DeclaredTypeInstance(type='metadsl_core.integer.Integer', params=None)}, args=['-6966490415959658045'], kwargs=None), '625173368782505159': CallNode(function='metadsl_core.either.Either.left', type_params={'U': DeclaredTypeInstance(type='metadsl_core.vec.Vec', params={'T': DeclaredTypeInstance(type='metadsl_core.integer.Integer', params=None)}), 'T': DeclaredTypeInstance(type='metadsl_core.integer.Integer', params=None)}, args=['-7738163237082567838'], kwargs=None), '-1703772318083535964': CallNode(function='metadsl_core.abstraction.Abstraction.create', type_params={'U': DeclaredTypeInstance(type='metadsl_core.either.Either', params={'U': DeclaredTypeInstance(type='metadsl_core.vec.Vec', params={'T': DeclaredTypeInstance(type='metadsl_core.integer.Integer', params=None)}), 'T': DeclaredTypeInstance(type='metadsl_core.integer.Integer', params=None)}), 'T': DeclaredTypeInstance(type='metadsl_core.integer.Integer', params=None)}, args=['-7738163237082567838', '625173368782505159'], kwargs=None), '4557781680098074782': CallNode(function='metadsl_core.abstraction.Abstraction.__add__', type_params={'U': DeclaredTypeInstance(type='metadsl_core.maybe.Maybe', params={'T': DeclaredTypeInstance(type='metadsl_core.either.Either', params={'U': DeclaredTypeInstance(type='metadsl_core.vec.Vec', params={'T': DeclaredTypeInstance(type='metadsl_core.integer.Integer', params=None)}), 'T': DeclaredTypeInstance(type='metadsl_core.integer.Integer', params=None)})}), 'T': DeclaredTypeInstance(type='metadsl_core.either.Either', params={'U': DeclaredTypeInstance(type='metadsl_core.vec.Vec', params={'T': DeclaredTypeInstance(type='metadsl_core.integer.Integer', params=None)}), 'T': DeclaredTypeInstance(type='metadsl_core.integer.Integer', params=None)})}, args=['-6438549173542216615', '-1703772318083535964'], kwargs=None), '182954492501630686': CallNode(function='metadsl_core.abstraction.Abstraction.__call__', type_params={'U': DeclaredTypeInstance(type='metadsl_core.maybe.Maybe', params={'T': DeclaredTypeInstance(type='metadsl_core.either.Either', params={'U': DeclaredTypeInstance(type='metadsl_core.vec.Vec', params={'T': DeclaredTypeInstance(type='metadsl_core.integer.Integer', params=None)}), 'T': DeclaredTypeInstance(type='metadsl_core.integer.Integer', params=None)})}), 'T': DeclaredTypeInstance(type='metadsl_core.integer.Integer', params=None)}, args=['4557781680098074782', '4334974619117012171'], kwargs=None), '-5399589579363002600': CallNode(function='metadsl_core.maybe.Maybe.__or__', type_params={'T': DeclaredTypeInstance(type='metadsl_core.either.Either', params={'U': DeclaredTypeInstance(type='metadsl_core.vec.Vec', params={'T': DeclaredTypeInstance(type='metadsl_core.integer.Integer', params=None)}), 'T': DeclaredTypeInstance(type='metadsl_core.integer.Integer', params=None)})}, args=['182954492501630686', '1601438670553106301'], kwargs=None), '-7108878735657370619': CallNode(function='metadsl_core.maybe.Maybe.__and__', type_params={'T': DeclaredTypeInstance(type='metadsl_core.numpy.NDArray', params=None)}, args=['3154054583708263430', '-5399589579363002600'], kwargs=None), '-7306491668974838288': CallNode(function='metadsl_core.maybe.Maybe.match', type_params=None, args=['-7108878735657370619', '-1634153577544591591', '3939664682908968727'], kwargs=None), '3654034989066856012': CallNode(function='metadsl_core.numpy.NDArrayCompat.from_ndarray', type_params=None, args=['-7306491668974838288'], kwargs=None), '6278399143217720666': CallNode(function='metadsl_core.numpy.NDArrayCompat.to_ndarray', type_params=None, args=['3654034989066856012'], kwargs=None), '7825973750903368564': CallNode(function='metadsl_core.maybe.Maybe.just', type_params={'T': DeclaredTypeInstance(type='metadsl_core.either.Either', params={'U': DeclaredTypeInstance(type='metadsl_core.vec.Vec', params={'T': DeclaredTypeInstance(type='metadsl_core.integer.Integer', params=None)}), 'T': DeclaredTypeInstance(type='metadsl_core.integer.Integer', params=None)})}, args=['625173368782505159'], kwargs=None), '-6512417123307943773': CallNode(function='metadsl_core.abstraction.Abstraction.create', type_params=None, args=['-7738163237082567838', '7825973750903368564'], kwargs=None), '-8068025587362868486': CallNode(function='metadsl_core.abstraction.Abstraction.__call__', type_params={'U': DeclaredTypeInstance(type='metadsl_core.maybe.Maybe', params={'T': DeclaredTypeInstance(type='metadsl_core.either.Either', params={'U': DeclaredTypeInstance(type='metadsl_core.vec.Vec', params={'T': DeclaredTypeInstance(type='metadsl_core.integer.Integer', params=None)}), 'T': DeclaredTypeInstance(type='metadsl_core.integer.Integer', params=None)})}), 'T': DeclaredTypeInstance(type='metadsl_core.integer.Integer', params=None)}, args=['-6512417123307943773', '4334974619117012171'], kwargs=None), '8731456864522646440': CallNode(function='metadsl_core.maybe.Maybe.__or__', type_params={'T': DeclaredTypeInstance(type='metadsl_core.either.Either', params={'U': DeclaredTypeInstance(type='metadsl_core.vec.Vec', params={'T': DeclaredTypeInstance(type='metadsl_core.integer.Integer', params=None)}), 'T': DeclaredTypeInstance(type='metadsl_core.integer.Integer', params=None)})}, args=['-8068025587362868486', '1601438670553106301'], kwargs=None), '8651256058592678812': CallNode(function='metadsl_core.maybe.Maybe.__and__', type_params={'T': DeclaredTypeInstance(type='metadsl_core.numpy.NDArray', params=None)}, args=['3154054583708263430', '8731456864522646440'], kwargs=None), '3457719431142169112': CallNode(function='metadsl_core.maybe.Maybe.match', type_params=None, args=['8651256058592678812', '-1634153577544591591', '3939664682908968727'], kwargs=None), '7654507105801674437': CallNode(function='metadsl_core.numpy.NDArrayCompat.from_ndarray', type_params=None, args=['3457719431142169112'], kwargs=None), '-1739529532081165970': CallNode(function='metadsl_core.numpy.NDArrayCompat.to_ndarray', type_params=None, args=['7654507105801674437'], kwargs=None), '-4935307720403575888': CallNode(function='metadsl_core.either.Either.left', type_params={'U': DeclaredTypeInstance(type='metadsl_core.vec.Vec', params={'T': DeclaredTypeInstance(type='metadsl_core.integer.Integer', params=None)}), 'T': DeclaredTypeInstance(type='metadsl_core.integer.Integer', params=None)}, args=['4334974619117012171'], kwargs=None), '-3253607827985268989': CallNode(function='metadsl_core.maybe.Maybe.just', type_params={'T': DeclaredTypeInstance(type='metadsl_core.either.Either', params={'U': DeclaredTypeInstance(type='metadsl_core.vec.Vec', params={'T': DeclaredTypeInstance(type='metadsl_core.integer.Integer', params=None)}), 'T': DeclaredTypeInstance(type='metadsl_core.integer.Integer', params=None)})}, args=['-4935307720403575888'], kwargs=None), '-3367812837952966218': CallNode(function='metadsl_core.maybe.Maybe.__or__', type_params={'T': DeclaredTypeInstance(type='metadsl_core.either.Either', params={'U': DeclaredTypeInstance(type='metadsl_core.vec.Vec', params={'T': DeclaredTypeInstance(type='metadsl_core.integer.Integer', params=None)}), 'T': DeclaredTypeInstance(type='metadsl_core.integer.Integer', params=None)})}, args=['-3253607827985268989', '1601438670553106301'], kwargs=None), '7914890493891307367': CallNode(function='metadsl_core.maybe.Maybe.__and__', type_params={'T': DeclaredTypeInstance(type='metadsl_core.numpy.NDArray', params=None)}, args=['3154054583708263430', '-3367812837952966218'], kwargs=None), '-7238494409264714499': CallNode(function='metadsl_core.maybe.Maybe.match', type_params=None, args=['7914890493891307367', '-1634153577544591591', '3939664682908968727'], kwargs=None), '-7236368725980437570': CallNode(function='metadsl_core.numpy.NDArrayCompat.from_ndarray', type_params=None, args=['-7238494409264714499'], kwargs=None), '-483138365163564445': CallNode(function='metadsl_core.numpy.NDArrayCompat.to_ndarray', type_params=None, args=['-7236368725980437570'], kwargs=None), '429197055195322326': CallNode(function='metadsl_core.maybe.Maybe.just', type_params=None, args=['-4935307720403575888'], kwargs=None), '2177864481804325886': CallNode(function='metadsl_core.maybe.Maybe.__and__', type_params={'T': DeclaredTypeInstance(type='metadsl_core.numpy.NDArray', params=None)}, args=['3154054583708263430', '429197055195322326'], kwargs=None), '4657119654278063508': CallNode(function='metadsl_core.maybe.Maybe.match', type_params=None, args=['2177864481804325886', '-1634153577544591591', '3939664682908968727'], kwargs=None), '4148639224189782906': CallNode(function='metadsl_core.numpy.NDArrayCompat.from_ndarray', type_params=None, args=['4657119654278063508'], kwargs=None), '6735286619205741784': CallNode(function='metadsl_core.numpy.NDArrayCompat.to_ndarray', type_params=None, args=['4148639224189782906'], kwargs=None), '-6966490379948381395': PrimitiveNode(type='metadsl_core.abstraction.Variable', repr='Variable(4545013464)'), '3542888536951180369': CallNode(function='metadsl_core.abstraction.Abstraction.create_variable', type_params={'U': DeclaredTypeInstance(type='metadsl_core.maybe.Maybe', params={'T': DeclaredTypeInstance(type='metadsl_core.numpy.NDArray', params=None)}), 'T': DeclaredTypeInstance(type='metadsl_core.numpy.NDArray', params=None)}, args=['-6966490379948381395'], kwargs=None), '-5303176114818321546': CallNode(function='metadsl_core.maybe.Maybe.just', type_params={'T': DeclaredTypeInstance(type='metadsl_core.numpy.NDArray', params=None)}, args=['3542888536951180369'], kwargs=None), '-4821571046100187953': CallNode(function='metadsl_core.abstraction.Abstraction.create', type_params={'U': DeclaredTypeInstance(type='metadsl_core.maybe.Maybe', params={'T': DeclaredTypeInstance(type='metadsl_core.numpy.NDArray', params=None)}), 'T': DeclaredTypeInstance(type='metadsl_core.numpy.NDArray', params=None)}, args=['3542888536951180369', '-5303176114818321546'], kwargs=None), '-2551837803454835445': CallNode(function='metadsl_core.abstraction.Abstraction.__add__', type_params={'U': DeclaredTypeInstance(type='metadsl_core.maybe.Maybe', params={'T': DeclaredTypeInstance(type='metadsl_core.numpy.NDArray', params=None)}), 'T': DeclaredTypeInstance(type='metadsl_core.numpy.NDArray', params=None)}, args=['-4821571046100187953', '8959345856999598305'], kwargs=None), '5030199846527934115': CallNode(function='metadsl_core.maybe.Maybe.match', type_params=None, args=['2177864481804325886', '-1634153577544591591', '-2551837803454835445'], kwargs=None), '-1994746913075223905': CallNode(function='metadsl_core.numpy.NDArrayCompat.from_ndarray', type_params=None, args=['5030199846527934115'], kwargs=None), '-3077622658776788865': CallNode(function='metadsl_core.numpy.NDArrayCompat.to_ndarray', type_params=None, args=['-1994746913075223905'], kwargs=None), '2256881646464358263': PrimitiveNode(type='metadsl_core.abstraction.Variable', repr='Variable(4545153456)'), '-1682084061976265732': CallNode(function='metadsl_core.abstraction.Abstraction.create_variable', type_params={'U': DeclaredTypeInstance(type='metadsl_core.numpy.NDArray', params=None), 'T': DeclaredTypeInstance(type='metadsl_core.pair.Pair', params={'U': DeclaredTypeInstance(type='metadsl_core.either.Either', params={'U': DeclaredTypeInstance(type='metadsl_core.vec.Vec', params={'T': DeclaredTypeInstance(type='metadsl_core.integer.Integer', params=None)}), 'T': DeclaredTypeInstance(type='metadsl_core.integer.Integer', params=None)}), 'T': DeclaredTypeInstance(type='metadsl_core.numpy.NDArray', params=None)})}, args=['2256881646464358263'], kwargs=None), '235940811985889809': CallNode(function='metadsl_core.pair.Pair.left', type_params={'U': DeclaredTypeInstance(type='metadsl_core.either.Either', params={'U': DeclaredTypeInstance(type='metadsl_core.vec.Vec', params={'T': DeclaredTypeInstance(type='metadsl_core.integer.Integer', params=None)}), 'T': DeclaredTypeInstance(type='metadsl_core.integer.Integer', params=None)}), 'T': DeclaredTypeInstance(type='metadsl_core.numpy.NDArray', params=None)}, args=['-1682084061976265732'], kwargs=None), '1944380695342457780': CallNode(function='metadsl_core.pair.Pair.right', type_params={'U': DeclaredTypeInstance(type='metadsl_core.either.Either', params={'U': DeclaredTypeInstance(type='metadsl_core.vec.Vec', params={'T': DeclaredTypeInstance(type='metadsl_core.integer.Integer', params=None)}), 'T': DeclaredTypeInstance(type='metadsl_core.integer.Integer', params=None)}), 'T': DeclaredTypeInstance(type='metadsl_core.numpy.NDArray', params=None)}, args=['-1682084061976265732'], kwargs=None), '7047408921337346536': CallNode(function='metadsl_core.numpy.NDArray.__getitem__', type_params=None, args=['235940811985889809', '1944380695342457780'], kwargs=None), '-8653038408072797321': CallNode(function='metadsl_core.abstraction.Abstraction.create', type_params={'U': DeclaredTypeInstance(type='metadsl_core.numpy.NDArray', params=None), 'T': DeclaredTypeInstance(type='metadsl_core.pair.Pair', params={'U': DeclaredTypeInstance(type='metadsl_core.either.Either', params={'U': DeclaredTypeInstance(type='metadsl_core.vec.Vec', params={'T': DeclaredTypeInstance(type='metadsl_core.integer.Integer', params=None)}), 'T': DeclaredTypeInstance(type='metadsl_core.integer.Integer', params=None)}), 'T': DeclaredTypeInstance(type='metadsl_core.numpy.NDArray', params=None)})}, args=['-1682084061976265732', '7047408921337346536'], kwargs=None), '-4085882839489581592': CallNode(function='metadsl_core.abstraction.Abstraction.__add__', type_params={'U': DeclaredTypeInstance(type='metadsl_core.maybe.Maybe', params={'T': DeclaredTypeInstance(type='metadsl_core.numpy.NDArray', params=None)}), 'T': DeclaredTypeInstance(type='metadsl_core.numpy.NDArray', params=None)}, args=['-4821571046100187953', '-8653038408072797321'], kwargs=None), '5587518118418537197': CallNode(function='metadsl_core.maybe.Maybe.match', type_params=None, args=['2177864481804325886', '-1634153577544591591', '-4085882839489581592'], kwargs=None), '1348954272782968583': CallNode(function='metadsl_core.numpy.NDArrayCompat.from_ndarray', type_params=None, args=['5587518118418537197'], kwargs=None), '2609110179263592441': CallNode(function='metadsl_core.numpy.NDArrayCompat.to_ndarray', type_params=None, args=['1348954272782968583'], kwargs=None), '5912341640787431499': CallNode(function='metadsl_core.maybe.Maybe.just', type_params={'T': DeclaredTypeInstance(type='metadsl_core.numpy.NDArray', params=None)}, args=['7047408921337346536'], kwargs=None), '2761148773475161562': CallNode(function='metadsl_core.abstraction.Abstraction.create', type_params=None, args=['-1682084061976265732', '5912341640787431499'], kwargs=None), '-57149077449234495': CallNode(function='metadsl_core.maybe.Maybe.match', type_params=None, args=['2177864481804325886', '-1634153577544591591', '2761148773475161562'], kwargs=None), '-6980230792434416293': CallNode(function='metadsl_core.numpy.NDArrayCompat.from_ndarray', type_params=None, args=['-57149077449234495'], kwargs=None), '-9096350248485233949': CallNode(function='metadsl_core.numpy.NDArrayCompat.to_ndarray', type_params=None, args=['-6980230792434416293'], kwargs=None), '-759093838837854533': CallNode(function='metadsl_core.numpy.NDArray.__add__', type_params=None, args=['676902453469965611', '676902453469965611'], kwargs=None), '53011181607246694': CallNode(function='metadsl_core.maybe.Maybe.just', type_params=None, args=['-759093838837854533'], kwargs=None), '-7529480365230570664': CallNode(function='metadsl_core.numpy.NDArrayCompat.from_ndarray', type_params=None, args=['53011181607246694'], kwargs=None), '-2306470418200692677': CallNode(function='metadsl_core.conversion.Converter.convert', type_params={'T': DeclaredTypeInstance(type='metadsl_core.numpy.NDArray', params=None)}, args=['-7529480365230570664'], kwargs=None), '-1147415382588726262': CallNode(function='metadsl_core.maybe.Maybe.__and__', type_params={'T': DeclaredTypeInstance(type='metadsl_core.numpy.NDArray', params=None)}, args=['-2306470418200692677', '429197055195322326'], kwargs=None), '-3006478659514006919': CallNode(function='metadsl_core.maybe.Maybe.match', type_params=None, args=['-1147415382588726262', '-1634153577544591591', '2761148773475161562'], kwargs=None), '-7056852421285137628': CallNode(function='metadsl_core.numpy.NDArrayCompat.from_ndarray', type_params=None, args=['-3006478659514006919'], kwargs=None), '-4905362078359034911': CallNode(function='metadsl_core.numpy.NDArrayCompat.to_ndarray', type_params=None, args=['-7056852421285137628'], kwargs=None), '5598944308330143781': CallNode(function='metadsl_core.maybe.Maybe.__and__', type_params={'T': DeclaredTypeInstance(type='metadsl_core.numpy.NDArray', params=None)}, args=['53011181607246694', '429197055195322326'], kwargs=None), '7810499439306393248': CallNode(function='metadsl_core.maybe.Maybe.match', type_params=None, args=['5598944308330143781', '-1634153577544591591', '2761148773475161562'], kwargs=None), '-5811636341751937007': CallNode(function='metadsl_core.numpy.NDArrayCompat.from_ndarray', type_params=None, args=['7810499439306393248'], kwargs=None), '-6622106871885258631': CallNode(function='metadsl_core.numpy.NDArrayCompat.to_ndarray', type_params=None, args=['-5811636341751937007'], kwargs=None), '6489103018356725261': CallNode(function='metadsl_core.pair.Pair.create', type_params=None, args=['-759093838837854533', '-4935307720403575888'], kwargs=None), '4594020610033156603': CallNode(function='metadsl_core.maybe.Maybe.just', type_params=None, args=['6489103018356725261'], kwargs=None), '-7984040154612536138': CallNode(function='metadsl_core.maybe.Maybe.match', type_params=None, args=['4594020610033156603', '-1634153577544591591', '2761148773475161562'], kwargs=None), '-8071604710242911232': CallNode(function='metadsl_core.numpy.NDArrayCompat.from_ndarray', type_params=None, args=['-7984040154612536138'], kwargs=None), '-5262322094604335595': CallNode(function='metadsl_core.numpy.NDArrayCompat.to_ndarray', type_params=None, args=['-8071604710242911232'], kwargs=None), '6931023940528400184': CallNode(function='metadsl_core.abstraction.Abstraction.__call__', type_params={'U': DeclaredTypeInstance(type='metadsl_core.maybe.Maybe', params={'T': DeclaredTypeInstance(type='metadsl_core.numpy.NDArray', params=None)}), 'T': DeclaredTypeInstance(type='metadsl_core.pair.Pair', params={'U': DeclaredTypeInstance(type='metadsl_core.either.Either', params={'U': DeclaredTypeInstance(type='metadsl_core.vec.Vec', params={'T': DeclaredTypeInstance(type='metadsl_core.integer.Integer', params=None)}), 'T': DeclaredTypeInstance(type='metadsl_core.integer.Integer', params=None)}), 'T': DeclaredTypeInstance(type='metadsl_core.numpy.NDArray', params=None)})}, args=['2761148773475161562', '6489103018356725261'], kwargs=None), '-7833044461111117892': CallNode(function='metadsl_core.numpy.NDArrayCompat.from_ndarray', type_params=None, args=['6931023940528400184'], kwargs=None), '2293270272962369549': CallNode(function='metadsl_core.numpy.NDArrayCompat.to_ndarray', type_params=None, args=['-7833044461111117892'], kwargs=None), '3185944533757697213': CallNode(function='metadsl_core.pair.Pair.left', type_params={'U': DeclaredTypeInstance(type='metadsl_core.either.Either', params={'U': DeclaredTypeInstance(type='metadsl_core.vec.Vec', params={'T': DeclaredTypeInstance(type='metadsl_core.integer.Integer', params=None)}), 'T': DeclaredTypeInstance(type='metadsl_core.integer.Integer', params=None)}), 'T': DeclaredTypeInstance(type='metadsl_core.numpy.NDArray', params=None)}, args=['6489103018356725261'], kwargs=None), '1758874941227862512': CallNode(function='metadsl_core.pair.Pair.right', type_params={'U': DeclaredTypeInstance(type='metadsl_core.either.Either', params={'U': DeclaredTypeInstance(type='metadsl_core.vec.Vec', params={'T': DeclaredTypeInstance(type='metadsl_core.integer.Integer', params=None)}), 'T': DeclaredTypeInstance(type='metadsl_core.integer.Integer', params=None)}), 'T': DeclaredTypeInstance(type='metadsl_core.numpy.NDArray', params=None)}, args=['6489103018356725261'], kwargs=None), '4956640976287279549': CallNode(function='metadsl_core.numpy.NDArray.__getitem__', type_params=None, args=['3185944533757697213', '1758874941227862512'], kwargs=None), '-3727455046238765628': CallNode(function='metadsl_core.maybe.Maybe.just', type_params={'T': DeclaredTypeInstance(type='metadsl_core.numpy.NDArray', params=None)}, args=['4956640976287279549'], kwargs=None), '2895527461790539826': CallNode(function='metadsl_core.numpy.NDArrayCompat.from_ndarray', type_params=None, args=['-3727455046238765628'], kwargs=None), '6188741693156294736': CallNode(function='metadsl_core.numpy.NDArrayCompat.to_ndarray', type_params=None, args=['2895527461790539826'], kwargs=None), '3666256152571248845': CallNode(function='metadsl_core.numpy.NDArray.__getitem__', type_params=None, args=['-759093838837854533', '1758874941227862512'], kwargs=None), '-288210992240700157': CallNode(function='metadsl_core.maybe.Maybe.just', type_params={'T': DeclaredTypeInstance(type='metadsl_core.numpy.NDArray', params=None)}, args=['3666256152571248845'], kwargs=None), '1630990807433894786': CallNode(function='metadsl_core.numpy.NDArrayCompat.from_ndarray', type_params=None, args=['-288210992240700157'], kwargs=None), '7774360287808655507': CallNode(function='metadsl_core.numpy.NDArrayCompat.to_ndarray', type_params=None, args=['1630990807433894786'], kwargs=None), '-5239234725843763163': CallNode(function='metadsl_core.numpy.NDArray.__getitem__', type_params=None, args=['-759093838837854533', '-4935307720403575888'], kwargs=None), '-6838638049878124787': CallNode(function='metadsl_core.maybe.Maybe.just', type_params={'T': DeclaredTypeInstance(type='metadsl_core.numpy.NDArray', params=None)}, args=['-5239234725843763163'], kwargs=None), '-2709691337316416549': CallNode(function='metadsl_core.numpy.NDArrayCompat.from_ndarray', type_params=None, args=['-6838638049878124787'], kwargs=None), '4219810650526180898': CallNode(function='metadsl_core.numpy.NDArrayCompat.to_ndarray', type_params=None, args=['-2709691337316416549'], kwargs=None), '5985250294110641113': CallNode(function='metadsl_core.numpy.NDArray.to_ndarray', type_params=None, args=['-5239234725843763163'], kwargs=None), '3464002892713393029': CallNode(function='metadsl_core.numpy.NDArray.to_ndarray', type_params=None, args=['-759093838837854533'], kwargs=None), '-1727098197078088733': CallNode(function='metadsl_core.numpy_engine.unbox_idxs', type_params=None, args=['-4935307720403575888'], kwargs=None), '-1641994168720333632': CallNode(function='metadsl_core.numpy_engine.ndarray_getitem', type_params=None, args=['3464002892713393029', '-1727098197078088733'], kwargs=None), '-7335669005619496596': CallNode(function='metadsl_core.numpy.NDArray.to_ndarray', type_params=None, args=['676902453469965611'], kwargs=None), '-2065618427858497127': CallNode(function='metadsl_core.numpy_engine.ndarray_add', type_params=None, args=['-7335669005619496596', '-7335669005619496596'], kwargs=None), '9188689799785678468': CallNode(function='metadsl_core.numpy_engine.ndarray_getitem', type_params=None, args=['-2065618427858497127', '-1727098197078088733'], kwargs=None), '7709830722086267384': CallNode(function='metadsl_core.numpy_engine.unbox_integer', type_params=None, args=['-6348449952595699719'], kwargs=None), '-6866217854608818907': CallNode(function='metadsl_core.numpy_engine.arange', type_params=None, args=['7709830722086267384'], kwargs=None), '937385339147774800': CallNode(function='metadsl_core.numpy_engine.ndarray_add', type_params=None, args=['-6866217854608818907', '-7335669005619496596'], kwargs=None), '-4509640865345816202': CallNode(function='metadsl_core.numpy_engine.ndarray_getitem', type_params=None, args=['937385339147774800', '-1727098197078088733'], kwargs=None), '6263790735347685846': CallNode(function='metadsl_core.numpy_engine.arange', type_params=None, args=['-3705275237864060643'], kwargs=None), '7967336711306262315': CallNode(function='metadsl_core.numpy_engine.ndarray_add', type_params=None, args=['6263790735347685846', '-7335669005619496596'], kwargs=None), '-1209413765003230508': CallNode(function='metadsl_core.numpy_engine.ndarray_getitem', type_params=None, args=['7967336711306262315', '-1727098197078088733'], kwargs=None), '1713027170642233184': CallNode(function='metadsl_core.numpy_engine.ndarray_add', type_params=None, args=['6263790735347685846', '-6866217854608818907'], kwargs=None), '-805974828597571675': CallNode(function='metadsl_core.numpy_engine.ndarray_getitem', type_params=None, args=['1713027170642233184', '-1727098197078088733'], kwargs=None), '110263579142468521': CallNode(function='metadsl_core.numpy_engine.ndarray_add', type_params=None, args=['6263790735347685846', '6263790735347685846'], kwargs=None), '134344438444887549': CallNode(function='metadsl_core.numpy_engine.ndarray_getitem', type_params=None, args=['110263579142468521', '-1727098197078088733'], kwargs=None), '-1650449521913670327': CallNode(function='metadsl_core.numpy_engine.unbox_integer', type_params=None, args=['4334974619117012171'], kwargs=None), '-1980804916096807227': CallNode(function='metadsl_core.numpy_engine.ndarray_getitem', type_params=None, args=['110263579142468521', '-1650449521913670327'], kwargs=None), '-6087412193697889510': CallNode(function='metadsl_core.numpy_engine.ndarray_getitem', type_params=None, args=['110263579142468521', '-3705275237759055718'], kwargs=None), '4104837961654298349': PrimitiveNode(type='numpy.ndarray', repr='array([ 0,  1,  2,  3,  4,  5,  6,  7,  8,  9, 10, 11, 12, 13, 14, 15, 16,\\n       17, 18, 19, 20, 21, 22, 23, 24, 25, 26, 27, 28, 29, 30, 31, 32, 33,\\n       34, 35, 36, 37, 38, 39, 40, 41, 42, 43, 44, 45, 46, 47, 48, 49, 50,\\n       51, 52, 53, 54, 55, 56, 57, 58, 59, 60, 61, 62, 63, 64, 65, 66, 67,\\n       68, 69, 70, 71, 72, 73, 74, 75, 76, 77, 78, 79, 80, 81, 82, 83, 84,\\n       85, 86, 87, 88, 89, 90, 91, 92, 93, 94, 95, 96, 97, 98, 99])'), '-795757429498870268': CallNode(function='metadsl_core.numpy_engine.ndarray_add', type_params=None, args=['4104837961654298349', '6263790735347685846'], kwargs=None), '-3243304169821703455': CallNode(function='metadsl_core.numpy_engine.ndarray_getitem', type_params=None, args=['-795757429498870268', '-3705275237759055718'], kwargs=None), '4104837962866726349': PrimitiveNode(type='numpy.ndarray', repr='array([ 0,  1,  2,  3,  4,  5,  6,  7,  8,  9, 10, 11, 12, 13, 14, 15, 16,\\n       17, 18, 19, 20, 21, 22, 23, 24, 25, 26, 27, 28, 29, 30, 31, 32, 33,\\n       34, 35, 36, 37, 38, 39, 40, 41, 42, 43, 44, 45, 46, 47, 48, 49, 50,\\n       51, 52, 53, 54, 55, 56, 57, 58, 59, 60, 61, 62, 63, 64, 65, 66, 67,\\n       68, 69, 70, 71, 72, 73, 74, 75, 76, 77, 78, 79, 80, 81, 82, 83, 84,\\n       85, 86, 87, 88, 89, 90, 91, 92, 93, 94, 95, 96, 97, 98, 99])'), '-3622885000550103346': CallNode(function='metadsl_core.numpy_engine.ndarray_add', type_params=None, args=['4104837961654298349', '4104837962866726349'], kwargs=None), '-5523046823137818627': CallNode(function='metadsl_core.numpy_engine.ndarray_getitem', type_params=None, args=['-3622885000550103346', '-3705275237759055718'], kwargs=None), '4104837872921889149': PrimitiveNode(type='numpy.ndarray', repr='array([  0,   2,   4,   6,   8,  10,  12,  14,  16,  18,  20,  22,  24,\\n        26,  28,  30,  32,  34,  36,  38,  40,  42,  44,  46,  48,  50,\\n        52,  54,  56,  58,  60,  62,  64,  66,  68,  70,  72,  74,  76,\\n        78,  80,  82,  84,  86,  88,  90,  92,  94,  96,  98, 100, 102,\\n       104, 106, 108, 110, 112, 114, 116, 118, 120, 122, 124, 126, 128,\\n       130, 132, 134, 136, 138, 140, 142, 144, 146, 148, 150, 152, 154,\\n       156, 158, 160, 162, 164, 166, 168, 170, 172, 174, 176, 178, 180,\\n       182, 184, 186, 188, 190, 192, 194, 196, 198])'), '2201775905097761748': CallNode(function='metadsl_core.numpy_engine.ndarray_getitem', type_params=None, args=['4104837872921889149', '-3705275237759055718'], kwargs=None), '-5761567968183968639': PrimitiveNode(type='numpy.int64', repr='10')}, states=States(initial='-2038961938848683980', states=[State(node='-6157977845208825559', rule='metadsl_core.numpy.NDArrayCompat.__getitem__', label=None), State(node='-4265834936206840646', rule='metadsl_core.numpy.arange', label=None), State(node='-7831896604623154796', rule='metadsl_core.integer.convert_integer', label=None), State(node='3738397696021468515', rule='metadsl_core.numpy.arange', label=None), State(node='6166778259965441686', rule='metadsl_core.integer.convert_integer', label=None), State(node='2234634916712647790', rule='metadsl_core.either.convert_to_either', label=None), State(node='6126166981246398513', rule='metadsl_core.integer.convert_integer', label=None), State(node='-1194123969099835682', rule='metadsl_core.maybe.Maybe.map', label=None), State(node='-83975987365888270', rule='metadsl_core.maybe.Maybe.map', label=None), State(node='4323664151503061232', rule='metadsl_core.maybe.maybe_match', label=None), State(node='1537032622556772978', rule='metadsl_core.abstraction.Abstraction.from_fn', label=None), State(node='7022335250217740843', rule='metadsl_core.abstraction.Abstraction.from_fn', label=None), State(node='3249995690797286045', rule='metadsl_core.abstraction.compose', label=None), State(node='4050511387654880594', rule='metadsl_core.abstraction.beta_reduce', label=None), State(node='-7995219774257288332', rule='metadsl_core.maybe.Maybe.map', label=None), State(node='1189111225270799387', rule='metadsl_core.maybe.maybe_match', label=None), State(node='648982351612815617', rule='metadsl_core.abstraction.Abstraction.from_fn', label=None), State(node='2002047547033271164', rule='metadsl_core.abstraction.Abstraction.from_fn', label=None), State(node='4921836867861837311', rule='metadsl_core.abstraction.compose', label=None), State(node='7515043867223428119', rule='metadsl_core.abstraction.beta_reduce', label=None), State(node='-4230937013791417230', rule='metadsl_core.maybe.Maybe.map', label=None), State(node='9213635013083931879', rule='metadsl_core.maybe.maybe_match', label=None), State(node='-7183559494155448101', rule='metadsl_core.abstraction.Abstraction.from_fn', label=None), State(node='6278399143217720666', rule='metadsl_core.abstraction.Abstraction.from_fn', label=None), State(node='-1739529532081165970', rule='metadsl_core.abstraction.compose', label=None), State(node='-483138365163564445', rule='metadsl_core.abstraction.beta_reduce', label=None), State(node='6735286619205741784', rule='metadsl_core.maybe.maybe_or', label=None), State(node='-3077622658776788865', rule='metadsl_core.abstraction.Abstraction.from_fn', label=None), State(node='2609110179263592441', rule='metadsl_core.abstraction.Abstraction.from_fn', label=None), State(node='-9096350248485233949', rule='metadsl_core.abstraction.compose', label=None), State(node='-4905362078359034911', rule='metadsl_core.numpy.add_compat', label=None), State(node='-6622106871885258631', rule='metadsl_core.numpy.convert_to_ndarray', label=None), State(node='-5262322094604335595', rule='metadsl_core.maybe.maybe_and', label=None), State(node='2293270272962369549', rule='metadsl_core.maybe.maybe_match', label=None), State(node='6188741693156294736', rule='metadsl_core.abstraction.beta_reduce', label=None), State(node='7774360287808655507', rule='metadsl_core.pair.pair_left', label=None), State(node='4219810650526180898', rule='metadsl_core.pair.pair_right', label='convert'), State(node='5985250294110641113', rule='metadsl_core.numpy.box_unbox_ndarray_compat', label=None), State(node='-1641994168720333632', rule='metadsl_core.numpy_engine.unbox_ndarray_getitem', label=None), State(node='9188689799785678468', rule='metadsl_core.numpy_engine.unbox_ndarray_add', label=None), State(node='-4509640865345816202', rule='metadsl_core.numpy_engine.unbox_arange', label=None), State(node='-1209413765003230508', rule='metadsl_core.numpy_engine.unbox_integer_rule', label=None), State(node='-805974828597571675', rule='metadsl_core.numpy_engine.unbox_arange', label=None), State(node='134344438444887549', rule='metadsl_core.numpy_engine.unbox_integer_rule', label=None), State(node='-1980804916096807227', rule='metadsl_core.numpy_engine.unbox_idxs_rule', label=None), State(node='-6087412193697889510', rule='metadsl_core.numpy_engine.unbox_integer_rule', label='unbox'), State(node='-3243304169821703455', rule='metadsl_core.numpy_engine.arange', label=None), State(node='-5523046823137818627', rule='metadsl_core.numpy_engine.arange', label=None), State(node='2201775905097761748', rule='metadsl_core.numpy_engine.ndarray_add', label=None), State(node='-5761567968183968639', rule='metadsl_core.numpy_engine.ndarray_getitem', label='execute')]))"
      ]
     },
     "metadata": {},
     "output_type": "display_data"
    },
    {
     "data": {
      "text/plain": [
       "10"
      ]
     },
     "metadata": {},
     "output_type": "display_data"
    }
   ],
   "source": [
    "N = 100\n",
    "expr = (arange(N) + arange(N))[5].to_ndarray()\n",
    "expr"
   ]
  },
  {
   "cell_type": "markdown",
   "metadata": {},
   "source": [
    "Now, we can add an optimization replacement, so that we do the getitem before adding the two expressions:"
   ]
  },
  {
   "cell_type": "code",
   "execution_count": 3,
   "metadata": {},
   "outputs": [],
   "source": [
    "@register\n",
    "@rule\n",
    "def optimize_getitem_add(l: NDArray, r: NDArray, idx: IndxType) -> R[NDArray]:\n",
    "    return (\n",
    "        # expression to match against\n",
    "        (l + r)[idx],\n",
    "        # expression to replace it with\n",
    "        l[idx] + r[idx]\n",
    "    )"
   ]
  },
  {
   "cell_type": "markdown",
   "metadata": {},
   "source": [
    "Now, when we look at the execution steps, we see that it is doing each getitem before adding, which should be more efficient:"
   ]
  },
  {
   "cell_type": "code",
   "execution_count": 4,
   "metadata": {},
   "outputs": [
    {
     "data": {
      "application/json": {
       "nodes": {
        "-1018497695054409568": {
         "args": [
          "-8279202339660549391"
         ],
         "function": "metadsl_core.numpy.NDArrayCompat.from_ndarray"
        },
        "-1131989104053935942": {
         "args": [
          "-802659033140068866"
         ],
         "function": "metadsl_core.numpy.NDArrayCompat.from_ndarray"
        },
        "-1147415382588726262": {
         "args": [
          "-2306470418200692677",
          "429197055195322326"
         ],
         "function": "metadsl_core.maybe.Maybe.__and__",
         "type_params": {
          "T": {
           "type": "metadsl_core.numpy.NDArray"
          }
         }
        },
        "-1227080768804673062": {
         "args": [
          "3018244143084359558"
         ],
         "function": "metadsl_core.abstraction.Abstraction.from_fn"
        },
        "-1243740766112781561": {
         "args": [
          "2456872175265680946",
          "-1634153577544591591",
          "5059787407900174674"
         ],
         "function": "metadsl_core.maybe.Maybe.match"
        },
        "-1304423807553207709": {
         "args": [
          "1601330547832823811"
         ],
         "function": "metadsl_core.numpy.NDArrayCompat.from_ndarray"
        },
        "-1341993166809735751": {
         "args": [
          "3018242187195509958"
         ],
         "function": "metadsl_core.abstraction.Abstraction.from_fn"
        },
        "-1398540776220654208": {
         "args": [
          "3489415722857188671"
         ],
         "function": "metadsl_core.numpy.NDArrayCompat.to_ndarray"
        },
        "-1555479550847644982": {
         "args": [
          "2375440658717845861"
         ],
         "function": "metadsl_core.numpy.NDArrayCompat.to_ndarray"
        },
        "-1568878265279277577": {
         "args": [
          "3154054583708263430",
          "9175401784758480455"
         ],
         "function": "metadsl_core.maybe.Maybe.__and__",
         "type_params": {
          "T": {
           "type": "metadsl_core.numpy.NDArray"
          }
         }
        },
        "-1577388983039126609": {
         "args": [
          "-7661950433982450966",
          "4130506920816483144"
         ],
         "function": "metadsl_core.maybe.Maybe.map",
         "type_params": {
          "T": {
           "type": "metadsl_core.integer.Integer"
          }
         }
        },
        "-1634153577544591591": {
         "function": "metadsl_core.maybe.Maybe.nothing",
         "type_params": {
          "T": {
           "type": "metadsl_core.numpy.NDArray"
          }
         }
        },
        "-1650449521913670327": {
         "args": [
          "4334974619117012171"
         ],
         "function": "metadsl_core.numpy_engine.unbox_integer"
        },
        "-1672437128533319396": {
         "args": [
          "3807138092479696957"
         ],
         "function": "metadsl_core.numpy.NDArrayCompat.from_ndarray"
        },
        "-1727098197078088733": {
         "args": [
          "-4935307720403575888"
         ],
         "function": "metadsl_core.numpy_engine.unbox_idxs"
        },
        "-1898001187271983690": {
         "args": [
          "4610797461740834446"
         ],
         "function": "metadsl_core.numpy.NDArrayCompat.from_ndarray"
        },
        "-1936774049977532320": {
         "args": [
          "1661886770869584341",
          "-4614541160952175371"
         ],
         "function": "metadsl_core.maybe.Maybe.map",
         "type_params": {
          "T": {
           "type": "metadsl_core.integer.Integer"
          }
         }
        },
        "-197609548493167117": {
         "args": [
          "1302226755770087476",
          "-1634153577544591591",
          "5059787407900174674"
         ],
         "function": "metadsl_core.maybe.Maybe.match"
        },
        "-2033355726687749432": {
         "args": [
          "-6255176149826764698"
         ],
         "function": "metadsl_core.numpy.NDArrayCompat.to_ndarray"
        },
        "-2038961938848683980": {
         "args": [
          "6550727564280151447"
         ],
         "function": "metadsl_core.numpy.NDArrayCompat.to_ndarray"
        },
        "-207272089647568479": {
         "args": [
          "-5972371733442025240"
         ],
         "function": "metadsl_core.conversion.Converter.convert",
         "type_params": {
          "T": {
           "type": "metadsl_core.numpy.NDArray"
          }
         }
        },
        "-213012314763072436": {
         "args": [
          "-37477014601027486",
          "5569719149546867854"
         ],
         "function": "metadsl_core.numpy_engine.ndarray_add"
        },
        "-2281607992388475311": {
         "args": [
          "3018244073776778958"
         ],
         "function": "metadsl_core.abstraction.Abstraction.from_fn"
        },
        "-2306470418200692677": {
         "args": [
          "-7529480365230570664"
         ],
         "function": "metadsl_core.conversion.Converter.convert",
         "type_params": {
          "T": {
           "type": "metadsl_core.numpy.NDArray"
          }
         }
        },
        "-249562993268966980": {
         "args": [
          "8032600939169997756",
          "-4849403349205996894"
         ],
         "function": "metadsl_core.maybe.Maybe.map",
         "type_params": {
          "T": {
           "params": {
            "T": {
             "type": "metadsl_core.numpy.NDArray"
            },
            "U": {
             "params": {
              "T": {
               "type": "metadsl_core.integer.Integer"
              },
              "U": {
               "params": {
                "T": {
                 "type": "metadsl_core.integer.Integer"
                }
               },
               "type": "metadsl_core.vec.Vec"
              }
             },
             "type": "metadsl_core.either.Either"
            }
           },
           "type": "metadsl_core.pair.Pair"
          }
         }
        },
        "-2548033601478626103": {
         "args": [
          "-3707117251068683522",
          "4725064804493183873"
         ],
         "function": "metadsl_core.abstraction.Abstraction.create",
         "type_params": {
          "T": {
           "params": {
            "T": {
             "type": "metadsl_core.numpy.NDArray"
            },
            "U": {
             "params": {
              "T": {
               "type": "metadsl_core.integer.Integer"
              },
              "U": {
               "params": {
                "T": {
                 "type": "metadsl_core.integer.Integer"
                }
               },
               "type": "metadsl_core.vec.Vec"
              }
             },
             "type": "metadsl_core.either.Either"
            }
           },
           "type": "metadsl_core.pair.Pair"
          },
          "U": {
           "type": "metadsl_core.numpy.NDArray"
          }
         }
        },
        "-2707705597213486049": {
         "args": [
          "2572767079039197331"
         ],
         "function": "metadsl_core.numpy.NDArrayCompat.to_ndarray"
        },
        "-2716962487081307868": {
         "args": [
          "-6010828351580980414"
         ],
         "function": "metadsl_core.numpy.NDArrayCompat.from_ndarray"
        },
        "-282689165681493878": {
         "args": [
          "7933754380155337296"
         ],
         "function": "metadsl_core.numpy.NDArrayCompat.from_ndarray"
        },
        "-2846312234486127131": {
         "args": [
          "1963410389974075957"
         ],
         "function": "metadsl_core.numpy.NDArrayCompat.from_ndarray"
        },
        "-288210992240700157": {
         "args": [
          "3666256152571248845"
         ],
         "function": "metadsl_core.maybe.Maybe.just",
         "type_params": {
          "T": {
           "type": "metadsl_core.numpy.NDArray"
          }
         }
        },
        "-2927105886577020080": {
         "args": [
          "5764860230719714798"
         ],
         "function": "metadsl_core.conversion.Converter.convert",
         "type_params": {
          "T": {
           "type": "metadsl_core.numpy.NDArray"
          }
         }
        },
        "-2935163272846595315": {
         "args": [
          "-3707117251068683522"
         ],
         "function": "metadsl_core.pair.Pair.right",
         "type_params": {
          "T": {
           "type": "metadsl_core.numpy.NDArray"
          },
          "U": {
           "params": {
            "T": {
             "type": "metadsl_core.integer.Integer"
            },
            "U": {
             "params": {
              "T": {
               "type": "metadsl_core.integer.Integer"
              }
             },
             "type": "metadsl_core.vec.Vec"
            }
           },
           "type": "metadsl_core.either.Either"
          }
         }
        },
        "-3031825056521805508": {
         "args": [
          "676902453469965611",
          "-4935307720403575888"
         ],
         "function": "metadsl_core.numpy.NDArray.__getitem__"
        },
        "-3046332138756787847": {
         "args": [
          "2256881620583350563"
         ],
         "function": "metadsl_core.abstraction.Abstraction.create_variable",
         "type_params": {
          "T": {
           "type": "metadsl_core.integer.Integer"
          },
          "U": {
           "type": "metadsl_core.numpy.NDArray"
          }
         }
        },
        "-3065567844852217470": {
         "args": [
          "544185684138039748",
          "-6684767051708427860"
         ],
         "function": "metadsl_core.maybe.Maybe.__or__",
         "type_params": {
          "T": {
           "params": {
            "T": {
             "type": "metadsl_core.integer.Integer"
            },
            "U": {
             "params": {
              "T": {
               "type": "metadsl_core.integer.Integer"
              }
             },
             "type": "metadsl_core.vec.Vec"
            }
           },
           "type": "metadsl_core.either.Either"
          }
         }
        },
        "-3108844074970824418": {
         "args": [
          "-5419148412288663401",
          "-4659819999199575490"
         ],
         "function": "metadsl_core.numpy.NDArrayCompat.__add__"
        },
        "-3109166844965827647": {
         "args": [
          "-3538679045761175333",
          "4765036408123793029"
         ],
         "function": "metadsl_core.numpy.NDArrayCompat.__add__"
        },
        "-3111937144441253824": {
         "args": [
          "4616044433530469158",
          "-3065567844852217470"
         ],
         "function": "metadsl_core.maybe.Maybe.__and__",
         "type_params": {
          "T": {
           "type": "metadsl_core.numpy.NDArray"
          }
         }
        },
        "-3136334787935716581": {
         "args": [
          "2492155666357408028",
          "-4849403349205996894"
         ],
         "function": "metadsl_core.maybe.Maybe.map",
         "type_params": {
          "T": {
           "params": {
            "T": {
             "type": "metadsl_core.numpy.NDArray"
            },
            "U": {
             "params": {
              "T": {
               "type": "metadsl_core.integer.Integer"
              },
              "U": {
               "params": {
                "T": {
                 "type": "metadsl_core.integer.Integer"
                }
               },
               "type": "metadsl_core.vec.Vec"
              }
             },
             "type": "metadsl_core.either.Either"
            }
           },
           "type": "metadsl_core.pair.Pair"
          }
         }
        },
        "-3154319303345681053": {
         "args": [
          "4765036408123793029",
          "4765036408123793029"
         ],
         "function": "metadsl_core.numpy.NDArrayCompat.__add__"
        },
        "-3206514862664980891": {
         "args": [
          "1661886770869584341",
          "2139383204678789915",
          "-3326639294774934467"
         ],
         "function": "metadsl_core.maybe.Maybe.match",
         "type_params": {
          "T": {
           "type": "metadsl_core.integer.Integer"
          }
         }
        },
        "-3253607827985268989": {
         "args": [
          "-4935307720403575888"
         ],
         "function": "metadsl_core.maybe.Maybe.just",
         "type_params": {
          "T": {
           "params": {
            "T": {
             "type": "metadsl_core.integer.Integer"
            },
            "U": {
             "params": {
              "T": {
               "type": "metadsl_core.integer.Integer"
              }
             },
             "type": "metadsl_core.vec.Vec"
            }
           },
           "type": "metadsl_core.either.Either"
          }
         }
        },
        "-3273178091022536511": {
         "args": [
          "-2846312234486127131",
          "4765036408123793029"
         ],
         "function": "metadsl_core.numpy.NDArrayCompat.__add__"
        },
        "-3326639294774934467": {
         "args": [
          "7195992161376387783",
          "-3548087848332001768"
         ],
         "function": "metadsl_core.abstraction.Abstraction.__add__",
         "type_params": {
          "T": {
           "params": {
            "T": {
             "type": "metadsl_core.integer.Integer"
            },
            "U": {
             "params": {
              "T": {
               "type": "metadsl_core.integer.Integer"
              }
             },
             "type": "metadsl_core.vec.Vec"
            }
           },
           "type": "metadsl_core.either.Either"
          },
          "U": {
           "params": {
            "T": {
             "params": {
              "T": {
               "type": "metadsl_core.integer.Integer"
              },
              "U": {
               "params": {
                "T": {
                 "type": "metadsl_core.integer.Integer"
                }
               },
               "type": "metadsl_core.vec.Vec"
              }
             },
             "type": "metadsl_core.either.Either"
            }
           },
           "type": "metadsl_core.maybe.Maybe"
          }
         }
        },
        "-3417824533833702856": {
         "args": [
          "-8421054305673162151"
         ],
         "function": "metadsl_core.maybe.Maybe.just",
         "type_params": {
          "T": {
           "params": {
            "T": {
             "type": "metadsl_core.integer.Integer"
            },
            "U": {
             "params": {
              "T": {
               "type": "metadsl_core.integer.Integer"
              }
             },
             "type": "metadsl_core.vec.Vec"
            }
           },
           "type": "metadsl_core.either.Either"
          }
         }
        },
        "-3538679045761175333": {
         "args": [
          "7757303258093800345"
         ],
         "function": "metadsl_core.numpy.NDArrayCompat.from_ndarray"
        },
        "-3548087848332001768": {
         "args": [
          "3018242885580018558"
         ],
         "function": "metadsl_core.abstraction.Abstraction.from_fn"
        },
        "-3697584573641454336": {
         "args": [
          "8416461325375425526"
         ],
         "function": "metadsl_core.numpy.NDArrayCompat.from_ndarray"
        },
        "-3705275237759055718": {
         "repr": "5",
         "type": "int"
        },
        "-3705275237864060643": {
         "repr": "100",
         "type": "int"
        },
        "-3707117251068683522": {
         "args": [
          "-6966490390836417845"
         ],
         "function": "metadsl_core.abstraction.Abstraction.create_variable",
         "type_params": {
          "T": {
           "params": {
            "T": {
             "type": "metadsl_core.numpy.NDArray"
            },
            "U": {
             "params": {
              "T": {
               "type": "metadsl_core.integer.Integer"
              },
              "U": {
               "params": {
                "T": {
                 "type": "metadsl_core.integer.Integer"
                }
               },
               "type": "metadsl_core.vec.Vec"
              }
             },
             "type": "metadsl_core.either.Either"
            }
           },
           "type": "metadsl_core.pair.Pair"
          },
          "U": {
           "type": "metadsl_core.numpy.NDArray"
          }
         }
        },
        "-3727455046238765628": {
         "args": [
          "4956640976287279549"
         ],
         "function": "metadsl_core.maybe.Maybe.just",
         "type_params": {
          "T": {
           "type": "metadsl_core.numpy.NDArray"
          }
         }
        },
        "-3730167305670284876": {
         "args": [
          "6401238467075760220",
          "-1634153577544591591",
          "-7020439922634947106"
         ],
         "function": "metadsl_core.maybe.Maybe.match",
         "type_params": {
          "T": {
           "type": "metadsl_core.integer.Integer"
          }
         }
        },
        "-37477014601027486": {
         "args": [
          "4104838472554137149",
          "-3705275237759055718"
         ],
         "function": "metadsl_core.numpy_engine.ndarray_getitem"
        },
        "-3748947342060218529": {
         "args": [
          "8620010706362481861"
         ],
         "function": "metadsl_core.numpy.NDArrayCompat.from_ndarray"
        },
        "-3838008980622638884": {
         "args": [
          "-1304423807553207709"
         ],
         "function": "metadsl_core.numpy.NDArrayCompat.to_ndarray"
        },
        "-3890336536913981409": {
         "args": [
          "-9032815261277398513",
          "-1634153577544591591",
          "5059787407900174674"
         ],
         "function": "metadsl_core.maybe.Maybe.match"
        },
        "-3915034430366087560": {
         "args": [
          "5380498449980754640"
         ],
         "function": "metadsl_core.numpy.NDArrayCompat.to_ndarray"
        },
        "-4012140611117047975": {
         "args": [
          "-4995430298290094039"
         ],
         "function": "metadsl_core.numpy.NDArrayCompat.to_ndarray"
        },
        "-407846913662410158": {
         "args": [
          "-6834064345285038396",
          "-1634153577544591591",
          "5059787407900174674"
         ],
         "function": "metadsl_core.maybe.Maybe.match"
        },
        "-4168009961457623335": {
         "args": [
          "857657999680265138"
         ],
         "function": "metadsl_core.conversion.Converter.convert",
         "type_params": {
          "T": {
           "type": "metadsl_core.numpy.NDArray"
          }
         }
        },
        "-4237101555765822251": {
         "args": [
          "1075640763963007206"
         ],
         "function": "metadsl_core.numpy.NDArrayCompat.from_ndarray"
        },
        "-4315186536235377471": {
         "args": [
          "8519257424446584621",
          "-7055281088629370118"
         ],
         "function": "metadsl_core.numpy.NDArrayCompat.__add__"
        },
        "-4614541160952175371": {
         "args": [
          "3018243843441439558"
         ],
         "function": "metadsl_core.abstraction.Abstraction.from_fn"
        },
        "-4659819999199575490": {
         "args": [
          "-8336386247068415680"
         ],
         "function": "metadsl_core.numpy.NDArrayCompat.from_ndarray"
        },
        "-4782736161287716565": {
         "args": [
          "171932112139186463"
         ],
         "function": "metadsl_core.numpy.NDArrayCompat.from_ndarray"
        },
        "-4849403349205996894": {
         "args": [
          "2338208855431533768"
         ],
         "function": "metadsl_core.abstraction.Abstraction.from_fn",
         "type_params": {
          "T": {
           "params": {
            "T": {
             "type": "metadsl_core.numpy.NDArray"
            },
            "U": {
             "params": {
              "T": {
               "type": "metadsl_core.integer.Integer"
              },
              "U": {
               "params": {
                "T": {
                 "type": "metadsl_core.integer.Integer"
                }
               },
               "type": "metadsl_core.vec.Vec"
              }
             },
             "type": "metadsl_core.either.Either"
            }
           },
           "type": "metadsl_core.pair.Pair"
          },
          "U": {
           "type": "metadsl_core.numpy.NDArray"
          }
         }
        },
        "-4849498344857960329": {
         "args": [
          "2299930531717607367",
          "-3065567844852217470"
         ],
         "function": "metadsl_core.maybe.Maybe.__and__",
         "type_params": {
          "T": {
           "type": "metadsl_core.numpy.NDArray"
          }
         }
        },
        "-4873687371147004636": {
         "args": [
          "-6744212165042005096",
          "4334974619117012171"
         ],
         "function": "metadsl_core.abstraction.Abstraction.__call__",
         "type_params": {
          "T": {
           "type": "metadsl_core.integer.Integer"
          },
          "U": {
           "params": {
            "T": {
             "params": {
              "T": {
               "type": "metadsl_core.integer.Integer"
              },
              "U": {
               "params": {
                "T": {
                 "type": "metadsl_core.integer.Integer"
                }
               },
               "type": "metadsl_core.vec.Vec"
              }
             },
             "type": "metadsl_core.either.Either"
            }
           },
           "type": "metadsl_core.maybe.Maybe"
          }
         }
        },
        "-4912462970913600817": {
         "args": [
          "-4315186536235377471"
         ],
         "function": "metadsl_core.conversion.Converter.convert",
         "type_params": {
          "T": {
           "type": "metadsl_core.numpy.NDArray"
          }
         }
        },
        "-4935307720403575888": {
         "args": [
          "4334974619117012171"
         ],
         "function": "metadsl_core.either.Either.left",
         "type_params": {
          "T": {
           "type": "metadsl_core.integer.Integer"
          },
          "U": {
           "params": {
            "T": {
             "type": "metadsl_core.integer.Integer"
            }
           },
           "type": "metadsl_core.vec.Vec"
          }
         }
        },
        "-4947834462112418237": {
         "args": [
          "5598944308330143781",
          "-1634153577544591591",
          "160773531963881560"
         ],
         "function": "metadsl_core.maybe.Maybe.match"
        },
        "-4951686850070427313": {
         "args": [
          "6071018577691520924"
         ],
         "function": "metadsl_core.numpy.NDArrayCompat.to_ndarray"
        },
        "-495907056665805038": {
         "args": [
          "-5623904604890762495",
          "-7195979077659172442"
         ],
         "function": "metadsl_core.abstraction.Abstraction.create",
         "type_params": {
          "T": {
           "type": "metadsl_core.numpy.NDArray"
          },
          "U": {
           "params": {
            "T": {
             "type": "metadsl_core.numpy.NDArray"
            }
           },
           "type": "metadsl_core.maybe.Maybe"
          }
         }
        },
        "-4959923765879579907": {
         "args": [
          "1395627821193402340",
          "5335735441848638637"
         ],
         "function": "metadsl_core.abstraction.Abstraction.create",
         "type_params": {
          "T": {
           "type": "metadsl_core.integer.Integer"
          },
          "U": {
           "type": "metadsl_core.numpy.NDArray"
          }
         }
        },
        "-4995430298290094039": {
         "args": [
          "-1243740766112781561"
         ],
         "function": "metadsl_core.numpy.NDArrayCompat.from_ndarray"
        },
        "-4996069196105384783": {
         "args": [
          "-249562993268966980"
         ],
         "function": "metadsl_core.numpy.NDArrayCompat.from_ndarray"
        },
        "-5035895853445849184": {
         "args": [
          "-4947834462112418237"
         ],
         "function": "metadsl_core.numpy.NDArrayCompat.from_ndarray"
        },
        "-5070363678012895811": {
         "args": [
          "-3206514862664980891",
          "-6684767051708427860"
         ],
         "function": "metadsl_core.maybe.Maybe.__or__",
         "type_params": {
          "T": {
           "params": {
            "T": {
             "type": "metadsl_core.integer.Integer"
            },
            "U": {
             "params": {
              "T": {
               "type": "metadsl_core.integer.Integer"
              }
             },
             "type": "metadsl_core.vec.Vec"
            }
           },
           "type": "metadsl_core.either.Either"
          }
         }
        },
        "-5150816977940350229": {
         "args": [
          "1532750769497835632"
         ],
         "function": "metadsl_core.maybe.Maybe.just",
         "type_params": {
          "T": {
           "type": "metadsl_core.numpy.NDArray"
          }
         }
        },
        "-5189436288501258551": {
         "args": [
          "-5419148412288663401",
          "8236989180637702588"
         ],
         "function": "metadsl_core.numpy.NDArrayCompat.__add__"
        },
        "-5198982805348015754": {
         "args": [
          "1532750769497835632",
          "-5150816977940350229"
         ],
         "function": "metadsl_core.abstraction.Abstraction.create",
         "type_params": {
          "T": {
           "type": "metadsl_core.numpy.NDArray"
          },
          "U": {
           "params": {
            "T": {
             "type": "metadsl_core.numpy.NDArray"
            }
           },
           "type": "metadsl_core.maybe.Maybe"
          }
         }
        },
        "-5225419820032251757": {
         "args": [
          "-7460946659902866605"
         ],
         "function": "metadsl_core.numpy.NDArrayCompat.from_ndarray"
        },
        "-5284571468418393171": {
         "args": [
          "3515478774217737120"
         ],
         "function": "metadsl_core.numpy.NDArrayCompat.from_ndarray"
        },
        "-5395807737455947576": {
         "args": [
          "5335735441848638637"
         ],
         "function": "metadsl_core.maybe.Maybe.just",
         "type_params": {
          "T": {
           "type": "metadsl_core.numpy.NDArray"
          }
         }
        },
        "-5419148412288663401": {
         "args": [
          "-7338046998780095632"
         ],
         "function": "metadsl_core.numpy.NDArrayCompat.from_ndarray"
        },
        "-5447911853974291506": {
         "args": [
          "4853235401099256308",
          "-6684767051708427860"
         ],
         "function": "metadsl_core.maybe.Maybe.__or__",
         "type_params": {
          "T": {
           "params": {
            "T": {
             "type": "metadsl_core.integer.Integer"
            },
            "U": {
             "params": {
              "T": {
               "type": "metadsl_core.integer.Integer"
              }
             },
             "type": "metadsl_core.vec.Vec"
            }
           },
           "type": "metadsl_core.either.Either"
          }
         }
        },
        "-5511822959534642185": {
         "args": [
          "3885361900790661174"
         ],
         "function": "metadsl_core.numpy.NDArrayCompat.from_ndarray"
        },
        "-5551946829472053429": {
         "args": [
          "-7571355554137817118",
          "-1634153577544591591",
          "5059787407900174674"
         ],
         "function": "metadsl_core.maybe.Maybe.match"
        },
        "-5577291169494991773": {
         "args": [
          "4104838400414671149",
          "-3705275237759055718"
         ],
         "function": "metadsl_core.numpy_engine.ndarray_getitem"
        },
        "-5587534132128047160": {
         "args": [
          "-5761567968198041464",
          "-5577291169494991773"
         ],
         "function": "metadsl_core.numpy_engine.ndarray_add"
        },
        "-5605213071855239412": {
         "args": [
          "-1018497695054409568"
         ],
         "function": "metadsl_core.numpy.NDArrayCompat.to_ndarray"
        },
        "-5623904604890762495": {
         "args": [
          "-6966490436816667220"
         ],
         "function": "metadsl_core.abstraction.Abstraction.create_variable",
         "type_params": {
          "T": {
           "type": "metadsl_core.numpy.NDArray"
          },
          "U": {
           "params": {
            "T": {
             "type": "metadsl_core.numpy.NDArray"
            }
           },
           "type": "metadsl_core.maybe.Maybe"
          }
         }
        },
        "-5701606378643831792": {
         "args": [
          "-5761567968198041464",
          "5569719149546867854"
         ],
         "function": "metadsl_core.numpy_engine.ndarray_add"
        },
        "-5708725732502696721": {
         "args": [
          "-495907056665805038",
          "-2548033601478626103"
         ],
         "function": "metadsl_core.abstraction.Abstraction.__add__",
         "type_params": {
          "T": {
           "type": "metadsl_core.numpy.NDArray"
          },
          "U": {
           "params": {
            "T": {
             "type": "metadsl_core.numpy.NDArray"
            }
           },
           "type": "metadsl_core.maybe.Maybe"
          }
         }
        },
        "-5761567968183968639": {
         "repr": "10",
         "type": "numpy.int64"
        },
        "-5761567968198041464": {
         "repr": "5",
         "type": "numpy.int64"
        },
        "-5809698578867428686": {
         "args": [
          "-5551946829472053429"
         ],
         "function": "metadsl_core.numpy.NDArrayCompat.from_ndarray"
        },
        "-5826087815983334907": {
         "args": [
          "-3136334787935716581"
         ],
         "function": "metadsl_core.numpy.NDArrayCompat.from_ndarray"
        },
        "-5969105519526623034": {
         "args": [
          "-5419148412288663401",
          "4765036408123793029"
         ],
         "function": "metadsl_core.numpy.NDArrayCompat.__add__"
        },
        "-5972371733442025240": {
         "args": [
          "-5419148412288663401",
          "-891268657709131721"
         ],
         "function": "metadsl_core.numpy.NDArrayCompat.__add__"
        },
        "-6010828351580980414": {
         "args": [
          "-7572482372116643313"
         ],
         "function": "metadsl_core.maybe.Maybe.just",
         "type_params": {
          "T": {
           "type": "metadsl_core.numpy.NDArray"
          }
         }
        },
        "-6023893206440842224": {
         "args": [
          "-5826087815983334907"
         ],
         "function": "metadsl_core.numpy.NDArrayCompat.to_ndarray"
        },
        "-6083112540082706529": {
         "args": [
          "8008538582573657278",
          "-1634153577544591591",
          "5059787407900174674"
         ],
         "function": "metadsl_core.maybe.Maybe.match"
        },
        "-6108590015193548769": {
         "args": [
          "-3108844074970824418"
         ],
         "function": "metadsl_core.conversion.Converter.convert",
         "type_params": {
          "T": {
           "type": "metadsl_core.numpy.NDArray"
          }
         }
        },
        "-6155160979429421904": {
         "args": [
          "-6966490371399681470"
         ],
         "function": "metadsl_core.abstraction.Abstraction.create_variable",
         "type_params": {
          "T": {
           "params": {
            "T": {
             "type": "metadsl_core.integer.Integer"
            },
            "U": {
             "params": {
              "T": {
               "type": "metadsl_core.integer.Integer"
              }
             },
             "type": "metadsl_core.vec.Vec"
            }
           },
           "type": "metadsl_core.either.Either"
          },
          "U": {
           "params": {
            "T": {
             "params": {
              "T": {
               "type": "metadsl_core.integer.Integer"
              },
              "U": {
               "params": {
                "T": {
                 "type": "metadsl_core.integer.Integer"
                }
               },
               "type": "metadsl_core.vec.Vec"
              }
             },
             "type": "metadsl_core.either.Either"
            }
           },
           "type": "metadsl_core.maybe.Maybe"
          }
         }
        },
        "-6178668019312292785": {
         "args": [
          "1395627821193402340",
          "-5395807737455947576"
         ],
         "function": "metadsl_core.abstraction.Abstraction.create"
        },
        "-6179915841810894785": {
         "args": [
          "-1936774049977532320",
          "7868914353039265219"
         ],
         "function": "metadsl_core.maybe.Maybe.__or__",
         "type_params": {
          "T": {
           "params": {
            "T": {
             "type": "metadsl_core.integer.Integer"
            },
            "U": {
             "params": {
              "T": {
               "type": "metadsl_core.integer.Integer"
              }
             },
             "type": "metadsl_core.vec.Vec"
            }
           },
           "type": "metadsl_core.either.Either"
          }
         }
        },
        "-6255176149826764698": {
         "args": [
          "-6947481878838129486"
         ],
         "function": "metadsl_core.numpy.NDArrayCompat.from_ndarray"
        },
        "-6286215055759621830": {
         "args": [
          "-3154319303345681053"
         ],
         "function": "metadsl_core.conversion.Converter.convert",
         "type_params": {
          "T": {
           "type": "metadsl_core.numpy.NDArray"
          }
         }
        },
        "-6326498202064995692": {
         "args": [
          "676902453469965611",
          "1758874941227862512"
         ],
         "function": "metadsl_core.numpy.NDArray.__getitem__"
        },
        "-6348449952595699719": {
         "args": [
          "-3705275237864060643"
         ],
         "function": "metadsl_core.integer.Integer.from_int"
        },
        "-6377803081903497239": {
         "args": [
          "7449417502452493433",
          "4792802093755057986"
         ],
         "function": "metadsl_core.abstraction.Abstraction.__add__",
         "type_params": {
          "T": {
           "type": "metadsl_core.numpy.NDArray"
          },
          "U": {
           "params": {
            "T": {
             "type": "metadsl_core.numpy.NDArray"
            }
           },
           "type": "metadsl_core.maybe.Maybe"
          }
         }
        },
        "-6456102885800723638": {
         "args": [
          "6401238467075760220",
          "4130506920816483144"
         ],
         "function": "metadsl_core.maybe.Maybe.map",
         "type_params": {
          "T": {
           "type": "metadsl_core.integer.Integer"
          }
         }
        },
        "-652332988991805907": {
         "args": [
          "-8786992871474521052",
          "-6348449952595699719"
         ],
         "function": "metadsl_core.abstraction.Abstraction.__call__",
         "type_params": {
          "T": {
           "type": "metadsl_core.integer.Integer"
          },
          "U": {
           "params": {
            "T": {
             "type": "metadsl_core.numpy.NDArray"
            }
           },
           "type": "metadsl_core.maybe.Maybe"
          }
         }
        },
        "-6684767051708427860": {
         "args": [
          "6263375678545427999",
          "6857408431730447076"
         ],
         "function": "metadsl_core.maybe.Maybe.map",
         "type_params": {
          "T": {
           "params": {
            "T": {
             "type": "metadsl_core.integer.Integer"
            }
           },
           "type": "metadsl_core.vec.Vec"
          }
         }
        },
        "-6744212165042005096": {
         "args": [
          "-7987791131052571401",
          "1456565464579814476"
         ],
         "function": "metadsl_core.abstraction.Abstraction.__add__",
         "type_params": {
          "T": {
           "params": {
            "T": {
             "type": "metadsl_core.integer.Integer"
            },
            "U": {
             "params": {
              "T": {
               "type": "metadsl_core.integer.Integer"
              }
             },
             "type": "metadsl_core.vec.Vec"
            }
           },
           "type": "metadsl_core.either.Either"
          },
          "U": {
           "params": {
            "T": {
             "params": {
              "T": {
               "type": "metadsl_core.integer.Integer"
              },
              "U": {
               "params": {
                "T": {
                 "type": "metadsl_core.integer.Integer"
                }
               },
               "type": "metadsl_core.vec.Vec"
              }
             },
             "type": "metadsl_core.either.Either"
            }
           },
           "type": "metadsl_core.maybe.Maybe"
          }
         }
        },
        "-6754449211692554842": {
         "args": [
          "2093857063603561716",
          "-6348449952595699719"
         ],
         "function": "metadsl_core.abstraction.Abstraction.__call__",
         "type_params": {
          "T": {
           "type": "metadsl_core.integer.Integer"
          },
          "U": {
           "params": {
            "T": {
             "type": "metadsl_core.numpy.NDArray"
            }
           },
           "type": "metadsl_core.maybe.Maybe"
          }
         }
        },
        "-6834064345285038396": {
         "args": [
          "7433198376928197925",
          "-3065567844852217470"
         ],
         "function": "metadsl_core.maybe.Maybe.__and__",
         "type_params": {
          "T": {
           "type": "metadsl_core.numpy.NDArray"
          }
         }
        },
        "-6866217854608818907": {
         "args": [
          "7709830722086267384"
         ],
         "function": "metadsl_core.numpy_engine.arange"
        },
        "-6885157575476597440": {
         "repr": "<function NDArrayCompat.__getitem__.<locals>.<lambda> at 0x10ee30d90>",
         "type": "function"
        },
        "-692315528089853894": {
         "args": [
          "-8669079487312369700"
         ],
         "function": "metadsl_core.numpy.NDArrayCompat.to_ndarray"
        },
        "-6947481878838129486": {
         "args": [
          "-767665604563634603",
          "-1634153577544591591",
          "5059787407900174674"
         ],
         "function": "metadsl_core.maybe.Maybe.match"
        },
        "-6966490371399681470": {
         "repr": "Variable(4544884808)",
         "type": "metadsl_core.abstraction.Variable"
        },
        "-6966490390836417845": {
         "repr": "Variable(4545155704)",
         "type": "metadsl_core.abstraction.Variable"
        },
        "-6966490423956270220": {
         "repr": "Variable(4545649576)",
         "type": "metadsl_core.abstraction.Variable"
        },
        "-6966490436816667220": {
         "repr": "Variable(4545720616)",
         "type": "metadsl_core.abstraction.Variable"
        },
        "-7020439922634947106": {
         "args": [
          "-2281607992388475311",
          "4130506920816483144"
         ],
         "function": "metadsl_core.abstraction.Abstraction.__add__",
         "type_params": {
          "T": {
           "type": "metadsl_core.numpy.NDArray"
          },
          "U": {
           "params": {
            "T": {
             "type": "metadsl_core.numpy.NDArray"
            }
           },
           "type": "metadsl_core.maybe.Maybe"
          }
         }
        },
        "-7055281088629370118": {
         "args": [
          "-3705275237864060643"
         ],
         "function": "metadsl_core.numpy.arange"
        },
        "-7070438637286422905": {
         "repr": "Infer(fn=<function arange_ at 0x10ea01158>)",
         "type": "metadsl.typing_tools.Infer"
        },
        "-7077114834233384839": {
         "args": [
          "4862198080085928491"
         ],
         "function": "metadsl_core.numpy.NDArrayCompat.from_ndarray"
        },
        "-7195979077659172442": {
         "args": [
          "-5623904604890762495"
         ],
         "function": "metadsl_core.maybe.Maybe.just",
         "type_params": {
          "T": {
           "type": "metadsl_core.numpy.NDArray"
          }
         }
        },
        "-7238536541855472683": {
         "args": [
          "-847498372399649344",
          "-847498372399649344"
         ],
         "function": "metadsl_core.numpy_engine.ndarray_add"
        },
        "-7271444060286549195": {
         "args": [
          "-495907056665805038",
          "8265815467192652237"
         ],
         "function": "metadsl_core.abstraction.Abstraction.__add__",
         "type_params": {
          "T": {
           "type": "metadsl_core.numpy.NDArray"
          },
          "U": {
           "params": {
            "T": {
             "type": "metadsl_core.numpy.NDArray"
            }
           },
           "type": "metadsl_core.maybe.Maybe"
          }
         }
        },
        "-7335669005619496596": {
         "args": [
          "676902453469965611"
         ],
         "function": "metadsl_core.numpy.NDArray.to_ndarray"
        },
        "-7338046998780095632": {
         "args": [
          "676902453469965611"
         ],
         "function": "metadsl_core.maybe.Maybe.just",
         "type_params": {
          "T": {
           "type": "metadsl_core.numpy.NDArray"
          }
         }
        },
        "-7378122151801498151": {
         "args": [
          "-7335669005619496596",
          "-1727098197078088733"
         ],
         "function": "metadsl_core.numpy_engine.ndarray_getitem"
        },
        "-7460946659902866605": {
         "args": [
          "8862735974553068826"
         ],
         "function": "metadsl_core.maybe.Maybe.just",
         "type_params": {
          "T": {
           "type": "metadsl_core.numpy.NDArray"
          }
         }
        },
        "-7511579697616063836": {
         "args": [
          "5569719149546867854",
          "5569719149546867854"
         ],
         "function": "metadsl_core.numpy_engine.ndarray_add"
        },
        "-7529480365230570664": {
         "args": [
          "53011181607246694"
         ],
         "function": "metadsl_core.numpy.NDArrayCompat.from_ndarray"
        },
        "-7564184822257848758": {
         "args": [
          "3036702535422257921"
         ],
         "function": "metadsl_core.numpy.NDArrayCompat.to_ndarray"
        },
        "-7571355554137817118": {
         "args": [
          "3154054583708263430",
          "4032781639228932992"
         ],
         "function": "metadsl_core.maybe.Maybe.__and__",
         "type_params": {
          "T": {
           "type": "metadsl_core.numpy.NDArray"
          }
         }
        },
        "-7572482372116643313": {
         "args": [
          "-3031825056521805508",
          "-3031825056521805508"
         ],
         "function": "metadsl_core.numpy.NDArray.__add__"
        },
        "-759093838837854533": {
         "args": [
          "676902453469965611",
          "676902453469965611"
         ],
         "function": "metadsl_core.numpy.NDArray.__add__"
        },
        "-7661950433982450966": {
         "args": [
          "-3705275237864060643"
         ],
         "function": "metadsl_core.conversion.Converter.convert",
         "type_params": {
          "T": {
           "type": "metadsl_core.integer.Integer"
          }
         }
        },
        "-767665604563634603": {
         "args": [
          "-207272089647568479",
          "-3065567844852217470"
         ],
         "function": "metadsl_core.maybe.Maybe.__and__",
         "type_params": {
          "T": {
           "type": "metadsl_core.numpy.NDArray"
          }
         }
        },
        "-7681213978858394122": {
         "args": [
          "-9209364258505767416",
          "-3065567844852217470"
         ],
         "function": "metadsl_core.maybe.Maybe.__and__",
         "type_params": {
          "T": {
           "type": "metadsl_core.numpy.NDArray"
          }
         }
        },
        "-7734512656539393181": {
         "args": [
          "-5225419820032251757"
         ],
         "function": "metadsl_core.numpy.NDArrayCompat.to_ndarray"
        },
        "-77518836552605056": {
         "args": [
          "-8594890947622696342",
          "4334974619117012171"
         ],
         "function": "metadsl_core.abstraction.Abstraction.__call__",
         "type_params": {
          "T": {
           "type": "metadsl_core.integer.Integer"
          },
          "U": {
           "params": {
            "T": {
             "params": {
              "T": {
               "type": "metadsl_core.integer.Integer"
              },
              "U": {
               "params": {
                "T": {
                 "type": "metadsl_core.integer.Integer"
                }
               },
               "type": "metadsl_core.vec.Vec"
              }
             },
             "type": "metadsl_core.either.Either"
            }
           },
           "type": "metadsl_core.maybe.Maybe"
          }
         }
        },
        "-7785118343808748278": {
         "args": [
          "7089816306816462651",
          "-1634153577544591591",
          "5059787407900174674"
         ],
         "function": "metadsl_core.maybe.Maybe.match"
        },
        "-7813548441607125509": {
         "args": [
          "2177864481804325886",
          "-1634153577544591591",
          "-5708725732502696721"
         ],
         "function": "metadsl_core.maybe.Maybe.match"
        },
        "-7818610196859866130": {
         "args": [
          "-7901835197166842283",
          "4334974619117012171"
         ],
         "function": "metadsl_core.abstraction.Abstraction.__call__",
         "type_params": {
          "T": {
           "type": "metadsl_core.integer.Integer"
          },
          "U": {
           "params": {
            "T": {
             "params": {
              "T": {
               "type": "metadsl_core.integer.Integer"
              },
              "U": {
               "params": {
                "T": {
                 "type": "metadsl_core.integer.Integer"
                }
               },
               "type": "metadsl_core.vec.Vec"
              }
             },
             "type": "metadsl_core.either.Either"
            }
           },
           "type": "metadsl_core.maybe.Maybe"
          }
         }
        },
        "-7830072810825796942": {
         "args": [
          "-8243529546085861488",
          "-8421054305673162151"
         ],
         "function": "metadsl_core.abstraction.Abstraction.create",
         "type_params": {
          "T": {
           "type": "metadsl_core.integer.Integer"
          },
          "U": {
           "params": {
            "T": {
             "type": "metadsl_core.integer.Integer"
            },
            "U": {
             "params": {
              "T": {
               "type": "metadsl_core.integer.Integer"
              }
             },
             "type": "metadsl_core.vec.Vec"
            }
           },
           "type": "metadsl_core.either.Either"
          }
         }
        },
        "-7901835197166842283": {
         "args": [
          "7919399156107912809",
          "-7830072810825796942"
         ],
         "function": "metadsl_core.abstraction.Abstraction.__add__",
         "type_params": {
          "T": {
           "params": {
            "T": {
             "type": "metadsl_core.integer.Integer"
            },
            "U": {
             "params": {
              "T": {
               "type": "metadsl_core.integer.Integer"
              }
             },
             "type": "metadsl_core.vec.Vec"
            }
           },
           "type": "metadsl_core.either.Either"
          },
          "U": {
           "params": {
            "T": {
             "params": {
              "T": {
               "type": "metadsl_core.integer.Integer"
              },
              "U": {
               "params": {
                "T": {
                 "type": "metadsl_core.integer.Integer"
                }
               },
               "type": "metadsl_core.vec.Vec"
              }
             },
             "type": "metadsl_core.either.Either"
            }
           },
           "type": "metadsl_core.maybe.Maybe"
          }
         }
        },
        "-7987791131052571401": {
         "args": [
          "3018242862517905958"
         ],
         "function": "metadsl_core.abstraction.Abstraction.from_fn"
        },
        "-802659033140068866": {
         "args": [
          "-1147415382588726262",
          "-1634153577544591591",
          "160773531963881560"
         ],
         "function": "metadsl_core.maybe.Maybe.match"
        },
        "-8143264301163155500": {
         "args": [
          "-4849498344857960329",
          "-1634153577544591591",
          "5059787407900174674"
         ],
         "function": "metadsl_core.maybe.Maybe.match"
        },
        "-8147870302302509425": {
         "args": [
          "7449417502452493433",
          "4130506920816483144"
         ],
         "function": "metadsl_core.abstraction.Abstraction.__add__",
         "type_params": {
          "T": {
           "type": "metadsl_core.numpy.NDArray"
          },
          "U": {
           "params": {
            "T": {
             "type": "metadsl_core.numpy.NDArray"
            }
           },
           "type": "metadsl_core.maybe.Maybe"
          }
         }
        },
        "-8243529546085861488": {
         "args": [
          "2256881620127607538"
         ],
         "function": "metadsl_core.abstraction.Abstraction.create_variable",
         "type_params": {
          "T": {
           "type": "metadsl_core.integer.Integer"
          },
          "U": {
           "params": {
            "T": {
             "type": "metadsl_core.integer.Integer"
            },
            "U": {
             "params": {
              "T": {
               "type": "metadsl_core.integer.Integer"
              }
             },
             "type": "metadsl_core.vec.Vec"
            }
           },
           "type": "metadsl_core.either.Either"
          }
         }
        },
        "-8279202339660549391": {
         "args": [
          "6325241474297918039"
         ],
         "function": "metadsl_core.maybe.Maybe.just",
         "type_params": {
          "T": {
           "type": "metadsl_core.numpy.NDArray"
          }
         }
        },
        "-8281681333636686969": {
         "args": [
          "-4912462970913600817",
          "8011615922277789946"
         ],
         "function": "metadsl_core.maybe.Maybe.__and__",
         "type_params": {
          "T": {
           "type": "metadsl_core.numpy.NDArray"
          }
         }
        },
        "-8329122455373226007": {
         "args": [
          "8884426332258714801",
          "-3065567844852217470"
         ],
         "function": "metadsl_core.maybe.Maybe.__and__",
         "type_params": {
          "T": {
           "type": "metadsl_core.numpy.NDArray"
          }
         }
        },
        "-8336386247068415680": {
         "args": [
          "9113721034414090785",
          "-6348449952595699719"
         ],
         "function": "metadsl_core.abstraction.Abstraction.__call__",
         "type_params": {
          "T": {
           "type": "metadsl_core.integer.Integer"
          },
          "U": {
           "params": {
            "T": {
             "type": "metadsl_core.numpy.NDArray"
            }
           },
           "type": "metadsl_core.maybe.Maybe"
          }
         }
        },
        "-8369929211869489657": {
         "args": [
          "7651895873987456113"
         ],
         "function": "metadsl_core.numpy.NDArrayCompat.to_ndarray"
        },
        "-8394424762690264190": {
         "args": [
          "5569719149546867854",
          "6227968977123678793"
         ],
         "function": "metadsl_core.numpy_engine.ndarray_add"
        },
        "-8421054305673162151": {
         "args": [
          "-8243529546085861488"
         ],
         "function": "metadsl_core.either.Either.left",
         "type_params": {
          "T": {
           "type": "metadsl_core.integer.Integer"
          },
          "U": {
           "params": {
            "T": {
             "type": "metadsl_core.integer.Integer"
            }
           },
           "type": "metadsl_core.vec.Vec"
          }
         }
        },
        "-847498372399649344": {
         "args": [
          "-3031825056521805508"
         ],
         "function": "metadsl_core.numpy.NDArray.to_ndarray"
        },
        "-8520934084855244899": {
         "args": [
          "-4873687371147004636",
          "-6684767051708427860"
         ],
         "function": "metadsl_core.maybe.Maybe.__or__",
         "type_params": {
          "T": {
           "params": {
            "T": {
             "type": "metadsl_core.integer.Integer"
            },
            "U": {
             "params": {
              "T": {
               "type": "metadsl_core.integer.Integer"
              }
             },
             "type": "metadsl_core.vec.Vec"
            }
           },
           "type": "metadsl_core.either.Either"
          }
         }
        },
        "-8594890947622696342": {
         "args": [
          "-8243529546085861488",
          "-3417824533833702856"
         ],
         "function": "metadsl_core.abstraction.Abstraction.create"
        },
        "-8669079487312369700": {
         "args": [
          "8114190734912744647"
         ],
         "function": "metadsl_core.numpy.NDArrayCompat.from_ndarray"
        },
        "-8786992871474521052": {
         "args": [
          "-5198982805348015754",
          "-4959923765879579907"
         ],
         "function": "metadsl_core.abstraction.Abstraction.__add__",
         "type_params": {
          "T": {
           "type": "metadsl_core.numpy.NDArray"
          },
          "U": {
           "params": {
            "T": {
             "type": "metadsl_core.numpy.NDArray"
            }
           },
           "type": "metadsl_core.maybe.Maybe"
          }
         }
        },
        "-891268657709131721": {
         "args": [
          "-652332988991805907"
         ],
         "function": "metadsl_core.numpy.NDArrayCompat.from_ndarray"
        },
        "-9032815261277398513": {
         "args": [
          "5198292150105483290",
          "-3065567844852217470"
         ],
         "function": "metadsl_core.maybe.Maybe.__and__",
         "type_params": {
          "T": {
           "type": "metadsl_core.numpy.NDArray"
          }
         }
        },
        "-9132827512678161343": {
         "args": [
          "4594020610033156603",
          "-1634153577544591591",
          "160773531963881560"
         ],
         "function": "metadsl_core.maybe.Maybe.match"
        },
        "-9168974794687253874": {
         "args": [
          "-6286215055759621830",
          "8011615922277789946"
         ],
         "function": "metadsl_core.maybe.Maybe.__and__",
         "type_params": {
          "T": {
           "type": "metadsl_core.numpy.NDArray"
          }
         }
        },
        "-9190197779247618442": {
         "args": [
          "3018242090391794358"
         ],
         "function": "metadsl_core.abstraction.Abstraction.from_fn"
        },
        "-9209364258505767416": {
         "args": [
          "8418099048549819643"
         ],
         "function": "metadsl_core.conversion.Converter.convert",
         "type_params": {
          "T": {
           "type": "metadsl_core.numpy.NDArray"
          }
         }
        },
        "-993268038132965659": {
         "args": [
          "4765036408123793029",
          "-7055281088629370118"
         ],
         "function": "metadsl_core.numpy.NDArrayCompat.__add__"
        },
        "1075640763963007206": {
         "args": [
          "-7681213978858394122",
          "-1634153577544591591",
          "5059787407900174674"
         ],
         "function": "metadsl_core.maybe.Maybe.match"
        },
        "1247254780946579243": {
         "args": [
          "-3730167305670284876"
         ],
         "function": "metadsl_core.numpy.NDArrayCompat.from_ndarray"
        },
        "1302226755770087476": {
         "args": [
          "3154054583708263430",
          "-5070363678012895811"
         ],
         "function": "metadsl_core.maybe.Maybe.__and__",
         "type_params": {
          "T": {
           "type": "metadsl_core.numpy.NDArray"
          }
         }
        },
        "1303019370980816768": {
         "args": [
          "2739036484444012644"
         ],
         "function": "metadsl_core.numpy.NDArrayCompat.to_ndarray"
        },
        "1378683754418626821": {
         "args": [
          "3445892881539143961"
         ],
         "function": "metadsl_core.numpy.NDArrayCompat.to_ndarray"
        },
        "1395627821193402340": {
         "args": [
          "2256881592447443288"
         ],
         "function": "metadsl_core.abstraction.Abstraction.create_variable",
         "type_params": {
          "T": {
           "type": "metadsl_core.integer.Integer"
          },
          "U": {
           "type": "metadsl_core.numpy.NDArray"
          }
         }
        },
        "1456565464579814476": {
         "args": [
          "3018242860396156958"
         ],
         "function": "metadsl_core.abstraction.Abstraction.from_fn"
        },
        "1532750769497835632": {
         "args": [
          "2256881664008840938"
         ],
         "function": "metadsl_core.abstraction.Abstraction.create_variable",
         "type_params": {
          "T": {
           "type": "metadsl_core.numpy.NDArray"
          },
          "U": {
           "params": {
            "T": {
             "type": "metadsl_core.numpy.NDArray"
            }
           },
           "type": "metadsl_core.maybe.Maybe"
          }
         }
        },
        "1583204918447313433": {
         "args": [
          "3748997720588164969",
          "-4849403349205996894"
         ],
         "function": "metadsl_core.maybe.Maybe.map",
         "type_params": {
          "T": {
           "params": {
            "T": {
             "type": "metadsl_core.numpy.NDArray"
            },
            "U": {
             "params": {
              "T": {
               "type": "metadsl_core.integer.Integer"
              },
              "U": {
               "params": {
                "T": {
                 "type": "metadsl_core.integer.Integer"
                }
               },
               "type": "metadsl_core.vec.Vec"
              }
             },
             "type": "metadsl_core.either.Either"
            }
           },
           "type": "metadsl_core.pair.Pair"
          }
         }
        },
        "1601330547832823811": {
         "args": [
          "-9168974794687253874",
          "-4849403349205996894"
         ],
         "function": "metadsl_core.maybe.Maybe.map",
         "type_params": {
          "T": {
           "params": {
            "T": {
             "type": "metadsl_core.numpy.NDArray"
            },
            "U": {
             "params": {
              "T": {
               "type": "metadsl_core.integer.Integer"
              },
              "U": {
               "params": {
                "T": {
                 "type": "metadsl_core.integer.Integer"
                }
               },
               "type": "metadsl_core.vec.Vec"
              }
             },
             "type": "metadsl_core.either.Either"
            }
           },
           "type": "metadsl_core.pair.Pair"
          }
         }
        },
        "160773531963881560": {
         "args": [
          "-3707117251068683522",
          "8629855294481106536"
         ],
         "function": "metadsl_core.abstraction.Abstraction.create"
        },
        "1630990807433894786": {
         "args": [
          "-288210992240700157"
         ],
         "function": "metadsl_core.numpy.NDArrayCompat.from_ndarray"
        },
        "1661886770869584341": {
         "args": [
          "4334974619117012171"
         ],
         "function": "metadsl_core.maybe.Maybe.just"
        },
        "171932112139186463": {
         "args": [
          "7715942918607173825",
          "-1634153577544591591",
          "5059787407900174674"
         ],
         "function": "metadsl_core.maybe.Maybe.match"
        },
        "1737974526700541274": {
         "args": [
          "6401238467075760220",
          "-1634153577544591591",
          "9159629178130348007"
         ],
         "function": "metadsl_core.maybe.Maybe.match",
         "type_params": {
          "T": {
           "type": "metadsl_core.integer.Integer"
          }
         }
        },
        "1758874941227862512": {
         "args": [
          "6489103018356725261"
         ],
         "function": "metadsl_core.pair.Pair.right",
         "type_params": {
          "T": {
           "type": "metadsl_core.numpy.NDArray"
          },
          "U": {
           "params": {
            "T": {
             "type": "metadsl_core.integer.Integer"
            },
            "U": {
             "params": {
              "T": {
               "type": "metadsl_core.integer.Integer"
              }
             },
             "type": "metadsl_core.vec.Vec"
            }
           },
           "type": "metadsl_core.either.Either"
          }
         }
        },
        "1904015705664729409": {
         "args": [
          "1926397118015448077"
         ],
         "function": "metadsl_core.conversion.Converter.convert",
         "type_params": {
          "T": {
           "type": "metadsl_core.numpy.NDArray"
          }
         }
        },
        "1926397118015448077": {
         "args": [
          "-3697584573641454336",
          "4765036408123793029"
         ],
         "function": "metadsl_core.numpy.NDArrayCompat.__add__"
        },
        "1963410389974075957": {
         "args": [
          "3452482095462392902",
          "-6348449952595699719"
         ],
         "function": "metadsl_core.abstraction.Abstraction.__call__",
         "type_params": {
          "T": {
           "type": "metadsl_core.integer.Integer"
          },
          "U": {
           "params": {
            "T": {
             "type": "metadsl_core.numpy.NDArray"
            }
           },
           "type": "metadsl_core.maybe.Maybe"
          }
         }
        },
        "1987728201386139715": {
         "args": [
          "5569719149546867854",
          "6227749445817335041"
         ],
         "function": "metadsl_core.numpy_engine.ndarray_add"
        },
        "2093857063603561716": {
         "args": [
          "-1227080768804673062",
          "4130506920816483144"
         ],
         "function": "metadsl_core.abstraction.Abstraction.__add__",
         "type_params": {
          "T": {
           "type": "metadsl_core.numpy.NDArray"
          },
          "U": {
           "params": {
            "T": {
             "type": "metadsl_core.numpy.NDArray"
            }
           },
           "type": "metadsl_core.maybe.Maybe"
          }
         }
        },
        "2139383204678789915": {
         "function": "metadsl_core.maybe.Maybe.nothing",
         "type_params": {
          "T": {
           "params": {
            "T": {
             "type": "metadsl_core.integer.Integer"
            },
            "U": {
             "params": {
              "T": {
               "type": "metadsl_core.integer.Integer"
              }
             },
             "type": "metadsl_core.vec.Vec"
            }
           },
           "type": "metadsl_core.either.Either"
          }
         }
        },
        "2177864481804325886": {
         "args": [
          "3154054583708263430",
          "429197055195322326"
         ],
         "function": "metadsl_core.maybe.Maybe.__and__",
         "type_params": {
          "T": {
           "type": "metadsl_core.numpy.NDArray"
          }
         }
        },
        "2235985623503686545": {
         "args": [
          "5569719149546867854",
          "-7378122151801498151"
         ],
         "function": "metadsl_core.numpy_engine.ndarray_add"
        },
        "2238835771622311935": {
         "args": [
          "6227968977123678793",
          "-847498372399649344"
         ],
         "function": "metadsl_core.numpy_engine.ndarray_add"
        },
        "2256881592447443288": {
         "repr": "Variable(4545970016)",
         "type": "metadsl_core.abstraction.Variable"
        },
        "2256881620127607538": {
         "repr": "Variable(4545558848)",
         "type": "metadsl_core.abstraction.Variable"
        },
        "2256881620583350563": {
         "repr": "Variable(4545533936)",
         "type": "metadsl_core.abstraction.Variable"
        },
        "2256881664008840938": {
         "repr": "Variable(4544896192)",
         "type": "metadsl_core.abstraction.Variable"
        },
        "2299930531717607367": {
         "args": [
          "-3273178091022536511"
         ],
         "function": "metadsl_core.conversion.Converter.convert",
         "type_params": {
          "T": {
           "type": "metadsl_core.numpy.NDArray"
          }
         }
        },
        "2338208855431533768": {
         "repr": "<function NDArrayCompat.__getitem__.<locals>.<lambda> at 0x10bf35e18>",
         "type": "function"
        },
        "2367042760946320780": {
         "args": [
          "-1131989104053935942"
         ],
         "function": "metadsl_core.numpy.NDArrayCompat.to_ndarray"
        },
        "2375440658717845861": {
         "args": [
          "9221578626117848433"
         ],
         "function": "metadsl_core.numpy.NDArrayCompat.from_ndarray"
        },
        "2456872175265680946": {
         "args": [
          "-6286215055759621830",
          "-3065567844852217470"
         ],
         "function": "metadsl_core.maybe.Maybe.__and__",
         "type_params": {
          "T": {
           "type": "metadsl_core.numpy.NDArray"
          }
         }
        },
        "2492155666357408028": {
         "args": [
          "-6286215055759621830",
          "-6179915841810894785"
         ],
         "function": "metadsl_core.maybe.Maybe.__and__",
         "type_params": {
          "T": {
           "type": "metadsl_core.numpy.NDArray"
          }
         }
        },
        "2527024770884907802": {
         "args": [
          "-6866217854608818907",
          "-1727098197078088733"
         ],
         "function": "metadsl_core.numpy_engine.ndarray_getitem"
        },
        "2535515210733193989": {
         "args": [
          "-993268038132965659"
         ],
         "function": "metadsl_core.conversion.Converter.convert",
         "type_params": {
          "T": {
           "type": "metadsl_core.numpy.NDArray"
          }
         }
        },
        "2553325862552671182": {
         "args": [
          "-7572482372116643313"
         ],
         "function": "metadsl_core.numpy.NDArray.to_ndarray"
        },
        "2572767079039197331": {
         "args": [
          "-197609548493167117"
         ],
         "function": "metadsl_core.numpy.NDArrayCompat.from_ndarray"
        },
        "2633483951461553102": {
         "args": [
          "-4996069196105384783"
         ],
         "function": "metadsl_core.numpy.NDArrayCompat.to_ndarray"
        },
        "2659949171365915247": {
         "args": [
          "-5761567968198041464",
          "-5761567968198041464"
         ],
         "function": "metadsl_core.numpy_engine.ndarray_add"
        },
        "2684600335931657705": {
         "args": [
          "3443580654182396632",
          "-4614541160952175371"
         ],
         "function": "metadsl_core.maybe.Maybe.map",
         "type_params": {
          "T": {
           "type": "metadsl_core.integer.Integer"
          }
         }
        },
        "2739036484444012644": {
         "args": [
          "6620122342903770576"
         ],
         "function": "metadsl_core.numpy.NDArrayCompat.from_ndarray"
        },
        "2757039568795406795": {
         "args": [
          "3293461735648171298",
          "-1634153577544591591",
          "5059787407900174674"
         ],
         "function": "metadsl_core.maybe.Maybe.match"
        },
        "2855352892526363245": {
         "args": [
          "3399221978966597687"
         ],
         "function": "metadsl_core.numpy.NDArrayCompat.to_ndarray"
        },
        "2895527461790539826": {
         "args": [
          "-3727455046238765628"
         ],
         "function": "metadsl_core.numpy.NDArrayCompat.from_ndarray"
        },
        "2992674189416269404": {
         "args": [
          "2684600335931657705",
          "7868914353039265219"
         ],
         "function": "metadsl_core.maybe.Maybe.__or__",
         "type_params": {
          "T": {
           "params": {
            "T": {
             "type": "metadsl_core.integer.Integer"
            },
            "U": {
             "params": {
              "T": {
               "type": "metadsl_core.integer.Integer"
              }
             },
             "type": "metadsl_core.vec.Vec"
            }
           },
           "type": "metadsl_core.either.Either"
          }
         }
        },
        "3018242039980770158": {
         "repr": "BoundInfer(fn=<function Either.right at 0x10bfd27b8>, owner=metadsl_core.either.Either[metadsl_core.integer.Integer, metadsl_core.vec.Vec[metadsl_core.integer.Integer]], is_classmethod=True)",
         "type": "metadsl.typing_tools.BoundInfer"
        },
        "3018242090391794358": {
         "repr": "BoundInfer(fn=<function Either.right at 0x10bfd27b8>, owner=metadsl_core.either.Either[metadsl_core.integer.Integer, metadsl_core.vec.Vec[metadsl_core.integer.Integer]], is_classmethod=True)",
         "type": "metadsl.typing_tools.BoundInfer"
        },
        "3018242187195509958": {
         "repr": "BoundInfer(fn=<function Maybe.just at 0x10bfd20d0>, owner=metadsl_core.maybe.Maybe[metadsl_core.numpy.NDArray], is_classmethod=True)",
         "type": "metadsl.typing_tools.BoundInfer"
        },
        "3018242429421303958": {
         "repr": "BoundInfer(fn=<function Maybe.just at 0x10bfd20d0>, owner=metadsl_core.maybe.Maybe[metadsl_core.numpy.NDArray], is_classmethod=True)",
         "type": "metadsl.typing_tools.BoundInfer"
        },
        "3018242860396156958": {
         "repr": "BoundInfer(fn=<function Either.left at 0x10bfd2378>, owner=metadsl_core.either.Either[metadsl_core.integer.Integer, metadsl_core.vec.Vec[metadsl_core.integer.Integer]], is_classmethod=True)",
         "type": "metadsl.typing_tools.BoundInfer"
        },
        "3018242862517905958": {
         "repr": "BoundInfer(fn=<function Maybe.just at 0x10bfd20d0>, owner=metadsl_core.maybe.Maybe[metadsl_core.either.Either[metadsl_core.integer.Integer, metadsl_core.vec.Vec[metadsl_core.integer.Integer]]], is_classmethod=True)",
         "type": "metadsl.typing_tools.BoundInfer"
        },
        "3018242884203046758": {
         "repr": "BoundInfer(fn=<function Maybe.just at 0x10bfd20d0>, owner=metadsl_core.maybe.Maybe[metadsl_core.either.Either[metadsl_core.integer.Integer, metadsl_core.vec.Vec[metadsl_core.integer.Integer]]], is_classmethod=True)",
         "type": "metadsl.typing_tools.BoundInfer"
        },
        "3018242885580018558": {
         "repr": "BoundInfer(fn=<function Either.left at 0x10bfd2378>, owner=metadsl_core.either.Either[metadsl_core.integer.Integer, metadsl_core.vec.Vec[metadsl_core.integer.Integer]], is_classmethod=True)",
         "type": "metadsl.typing_tools.BoundInfer"
        },
        "3018242927304862158": {
         "repr": "BoundInfer(fn=<function Either.left at 0x10bfd2378>, owner=metadsl_core.either.Either[metadsl_core.integer.Integer, metadsl_core.vec.Vec[metadsl_core.integer.Integer]], is_classmethod=True)",
         "type": "metadsl.typing_tools.BoundInfer"
        },
        "3018243047023466958": {
         "repr": "BoundInfer(fn=<function Maybe.just at 0x10bfd20d0>, owner=metadsl_core.maybe.Maybe[metadsl_core.numpy.NDArray], is_classmethod=True)",
         "type": "metadsl.typing_tools.BoundInfer"
        },
        "3018243843441439558": {
         "repr": "BoundInfer(fn=<function Either.left at 0x10bfd2378>, owner=metadsl_core.either.Either[metadsl_core.integer.Integer, metadsl_core.vec.Vec[metadsl_core.integer.Integer]], is_classmethod=True)",
         "type": "metadsl.typing_tools.BoundInfer"
        },
        "3018244073776778958": {
         "repr": "BoundInfer(fn=<function Maybe.just at 0x10bfd20d0>, owner=metadsl_core.maybe.Maybe[metadsl_core.numpy.NDArray], is_classmethod=True)",
         "type": "metadsl.typing_tools.BoundInfer"
        },
        "3018244143084359558": {
         "repr": "BoundInfer(fn=<function Maybe.just at 0x10bfd20d0>, owner=metadsl_core.maybe.Maybe[metadsl_core.numpy.NDArray], is_classmethod=True)",
         "type": "metadsl.typing_tools.BoundInfer"
        },
        "3036702535422257921": {
         "args": [
          "-7785118343808748278"
         ],
         "function": "metadsl_core.numpy.NDArrayCompat.from_ndarray"
        },
        "3065694566795947839": {
         "args": [
          "3154054583708263430",
          "6128052437150677934"
         ],
         "function": "metadsl_core.maybe.Maybe.__and__",
         "type_params": {
          "T": {
           "type": "metadsl_core.numpy.NDArray"
          }
         }
        },
        "3143315249364599150": {
         "args": [
          "6227749445817335041",
          "-847498372399649344"
         ],
         "function": "metadsl_core.numpy_engine.ndarray_add"
        },
        "3154054583708263430": {
         "args": [
          "7281850675127942797"
         ],
         "function": "metadsl_core.conversion.Converter.convert",
         "type_params": {
          "T": {
           "type": "metadsl_core.numpy.NDArray"
          }
         }
        },
        "3185944533757697213": {
         "args": [
          "6489103018356725261"
         ],
         "function": "metadsl_core.pair.Pair.left",
         "type_params": {
          "T": {
           "type": "metadsl_core.numpy.NDArray"
          },
          "U": {
           "params": {
            "T": {
             "type": "metadsl_core.integer.Integer"
            },
            "U": {
             "params": {
              "T": {
               "type": "metadsl_core.integer.Integer"
              }
             },
             "type": "metadsl_core.vec.Vec"
            }
           },
           "type": "metadsl_core.either.Either"
          }
         }
        },
        "3257099024299117165": {
         "args": [
          "7138107702412271162"
         ],
         "function": "metadsl_core.conversion.Converter.convert",
         "type_params": {
          "T": {
           "type": "metadsl_core.numpy.NDArray"
          }
         }
        },
        "3293461735648171298": {
         "args": [
          "3154054583708263430",
          "-5447911853974291506"
         ],
         "function": "metadsl_core.maybe.Maybe.__and__",
         "type_params": {
          "T": {
           "type": "metadsl_core.numpy.NDArray"
          }
         }
        },
        "3320514870386891208": {
         "args": [
          "-3748947342060218529"
         ],
         "function": "metadsl_core.numpy.NDArrayCompat.to_ndarray"
        },
        "3399221978966597687": {
         "args": [
          "2757039568795406795"
         ],
         "function": "metadsl_core.numpy.NDArrayCompat.from_ndarray"
        },
        "3443580654182396632": {
         "args": [
          "-3705275237759055718"
         ],
         "function": "metadsl_core.conversion.Converter.convert",
         "type_params": {
          "T": {
           "type": "metadsl_core.integer.Integer"
          }
         }
        },
        "3445892881539143961": {
         "args": [
          "-7813548441607125509"
         ],
         "function": "metadsl_core.numpy.NDArrayCompat.from_ndarray"
        },
        "3452482095462392902": {
         "args": [
          "-1341993166809735751",
          "4130506920816483144"
         ],
         "function": "metadsl_core.abstraction.Abstraction.__add__",
         "type_params": {
          "T": {
           "type": "metadsl_core.numpy.NDArray"
          },
          "U": {
           "params": {
            "T": {
             "type": "metadsl_core.numpy.NDArray"
            }
           },
           "type": "metadsl_core.maybe.Maybe"
          }
         }
        },
        "347114057044847048": {
         "args": [
          "565465857092453741"
         ],
         "function": "metadsl_core.numpy.NDArrayCompat.to_ndarray"
        },
        "3489415722857188671": {
         "args": [
          "8011461330799488099"
         ],
         "function": "metadsl_core.numpy.NDArrayCompat.from_ndarray"
        },
        "3515478774217737120": {
         "args": [
          "-1568878265279277577",
          "-1634153577544591591",
          "5059787407900174674"
         ],
         "function": "metadsl_core.maybe.Maybe.match"
        },
        "3666256152571248845": {
         "args": [
          "-759093838837854533",
          "1758874941227862512"
         ],
         "function": "metadsl_core.numpy.NDArray.__getitem__"
        },
        "3677192826396133856": {
         "args": [
          "-3707117251068683522"
         ],
         "function": "metadsl_core.pair.Pair.left",
         "type_params": {
          "T": {
           "type": "metadsl_core.numpy.NDArray"
          },
          "U": {
           "params": {
            "T": {
             "type": "metadsl_core.integer.Integer"
            },
            "U": {
             "params": {
              "T": {
               "type": "metadsl_core.integer.Integer"
              }
             },
             "type": "metadsl_core.vec.Vec"
            }
           },
           "type": "metadsl_core.either.Either"
          }
         }
        },
        "3748997720588164969": {
         "args": [
          "2535515210733193989",
          "8011615922277789946"
         ],
         "function": "metadsl_core.maybe.Maybe.__and__",
         "type_params": {
          "T": {
           "type": "metadsl_core.numpy.NDArray"
          }
         }
        },
        "3782781951538296725": {
         "args": [
          "394985736623645995"
         ],
         "function": "metadsl_core.numpy.NDArrayCompat.to_ndarray"
        },
        "3807138092479696957": {
         "args": [
          "3065694566795947839",
          "-1634153577544591591",
          "5059787407900174674"
         ],
         "function": "metadsl_core.maybe.Maybe.match"
        },
        "3810727714308209481": {
         "args": [
          "-6286215055759621830",
          "2992674189416269404"
         ],
         "function": "metadsl_core.maybe.Maybe.__and__",
         "type_params": {
          "T": {
           "type": "metadsl_core.numpy.NDArray"
          }
         }
        },
        "3859633042024871833": {
         "args": [
          "8907023515929157079"
         ],
         "function": "metadsl_core.numpy.NDArrayCompat.from_ndarray"
        },
        "3885361900790661174": {
         "args": [
          "2177864481804325886",
          "-1634153577544591591",
          "160773531963881560"
         ],
         "function": "metadsl_core.maybe.Maybe.match"
        },
        "3910610822912448689": {
         "args": [
          "-5419148412288663401",
          "1247254780946579243"
         ],
         "function": "metadsl_core.numpy.NDArrayCompat.__add__"
        },
        "3935502094684674418": {
         "args": [
          "-7077114834233384839"
         ],
         "function": "metadsl_core.numpy.NDArrayCompat.to_ndarray"
        },
        "394985736623645995": {
         "args": [
          "-3890336536913981409"
         ],
         "function": "metadsl_core.numpy.NDArrayCompat.from_ndarray"
        },
        "4032781639228932992": {
         "args": [
          "-7818610196859866130",
          "-6684767051708427860"
         ],
         "function": "metadsl_core.maybe.Maybe.__or__",
         "type_params": {
          "T": {
           "params": {
            "T": {
             "type": "metadsl_core.integer.Integer"
            },
            "U": {
             "params": {
              "T": {
               "type": "metadsl_core.integer.Integer"
              }
             },
             "type": "metadsl_core.vec.Vec"
            }
           },
           "type": "metadsl_core.either.Either"
          }
         }
        },
        "4104838400414671149": {
         "repr": "array([ 0,  1,  2,  3,  4,  5,  6,  7,  8,  9, 10, 11, 12, 13, 14, 15, 16,\n       17, 18, 19, 20, 21, 22, 23, 24, 25, 26, 27, 28, 29, 30, 31, 32, 33,\n       34, 35, 36, 37, 38, 39, 40, 41, 42, 43, 44, 45, 46, 47, 48, 49, 50,\n       51, 52, 53, 54, 55, 56, 57, 58, 59, 60, 61, 62, 63, 64, 65, 66, 67,\n       68, 69, 70, 71, 72, 73, 74, 75, 76, 77, 78, 79, 80, 81, 82, 83, 84,\n       85, 86, 87, 88, 89, 90, 91, 92, 93, 94, 95, 96, 97, 98, 99])",
         "type": "numpy.ndarray"
        },
        "4104838472554137149": {
         "repr": "array([ 0,  1,  2,  3,  4,  5,  6,  7,  8,  9, 10, 11, 12, 13, 14, 15, 16,\n       17, 18, 19, 20, 21, 22, 23, 24, 25, 26, 27, 28, 29, 30, 31, 32, 33,\n       34, 35, 36, 37, 38, 39, 40, 41, 42, 43, 44, 45, 46, 47, 48, 49, 50,\n       51, 52, 53, 54, 55, 56, 57, 58, 59, 60, 61, 62, 63, 64, 65, 66, 67,\n       68, 69, 70, 71, 72, 73, 74, 75, 76, 77, 78, 79, 80, 81, 82, 83, 84,\n       85, 86, 87, 88, 89, 90, 91, 92, 93, 94, 95, 96, 97, 98, 99])",
         "type": "numpy.ndarray"
        },
        "4130506920816483144": {
         "args": [
          "-7070438637286422905"
         ],
         "function": "metadsl_core.abstraction.Abstraction.from_fn"
        },
        "4216762219698912407": {
         "args": [
          "-5511822959534642185"
         ],
         "function": "metadsl_core.numpy.NDArrayCompat.to_ndarray"
        },
        "4272362841984695531": {
         "args": [
          "3018243047023466958"
         ],
         "function": "metadsl_core.abstraction.Abstraction.from_fn"
        },
        "429197055195322326": {
         "args": [
          "-4935307720403575888"
         ],
         "function": "metadsl_core.maybe.Maybe.just"
        },
        "4302414561591220110": {
         "args": [
          "3859633042024871833"
         ],
         "function": "metadsl_core.numpy.NDArrayCompat.to_ndarray"
        },
        "4332074470064424039": {
         "args": [
          "-1672437128533319396"
         ],
         "function": "metadsl_core.numpy.NDArrayCompat.to_ndarray"
        },
        "4334974619117012171": {
         "args": [
          "-3705275237759055718"
         ],
         "function": "metadsl_core.integer.Integer.from_int"
        },
        "4353231192952827782": {
         "args": [
          "5569719149546867854",
          "-847498372399649344"
         ],
         "function": "metadsl_core.numpy_engine.ndarray_add"
        },
        "4494140152710335761": {
         "args": [
          "-4237101555765822251"
         ],
         "function": "metadsl_core.numpy.NDArrayCompat.to_ndarray"
        },
        "4594020610033156603": {
         "args": [
          "6489103018356725261"
         ],
         "function": "metadsl_core.maybe.Maybe.just"
        },
        "4610797461740834446": {
         "args": [
          "8288467036774474767",
          "-1634153577544591591",
          "5059787407900174674"
         ],
         "function": "metadsl_core.maybe.Maybe.match"
        },
        "4616044433530469158": {
         "args": [
          "3910610822912448689"
         ],
         "function": "metadsl_core.conversion.Converter.convert",
         "type_params": {
          "T": {
           "type": "metadsl_core.numpy.NDArray"
          }
         }
        },
        "4678850780078233403": {
         "args": [
          "6427778498691214608"
         ],
         "function": "metadsl_core.conversion.Converter.convert",
         "type_params": {
          "T": {
           "type": "metadsl_core.numpy.NDArray"
          }
         }
        },
        "4725064804493183873": {
         "args": [
          "3677192826396133856",
          "-2935163272846595315"
         ],
         "function": "metadsl_core.numpy.NDArray.__getitem__"
        },
        "4765036408123793029": {
         "args": [
          "-6456102885800723638"
         ],
         "function": "metadsl_core.numpy.NDArrayCompat.from_ndarray"
        },
        "4766594682817356272": {
         "args": [
          "-5284571468418393171"
         ],
         "function": "metadsl_core.numpy.NDArrayCompat.to_ndarray"
        },
        "4777715286084451550": {
         "args": [
          "5498191276875769260"
         ],
         "function": "metadsl_core.numpy.NDArrayCompat.to_ndarray"
        },
        "4792802093755057986": {
         "args": [
          "-3046332138756787847",
          "7835717056820988225"
         ],
         "function": "metadsl_core.abstraction.Abstraction.create",
         "type_params": {
          "T": {
           "type": "metadsl_core.integer.Integer"
          },
          "U": {
           "type": "metadsl_core.numpy.NDArray"
          }
         }
        },
        "4853235401099256308": {
         "args": [
          "5804987440302656017",
          "4334974619117012171"
         ],
         "function": "metadsl_core.abstraction.Abstraction.__call__",
         "type_params": {
          "T": {
           "type": "metadsl_core.integer.Integer"
          },
          "U": {
           "params": {
            "T": {
             "params": {
              "T": {
               "type": "metadsl_core.integer.Integer"
              },
              "U": {
               "params": {
                "T": {
                 "type": "metadsl_core.integer.Integer"
                }
               },
               "type": "metadsl_core.vec.Vec"
              }
             },
             "type": "metadsl_core.either.Either"
            }
           },
           "type": "metadsl_core.maybe.Maybe"
          }
         }
        },
        "4862198080085928491": {
         "args": [
          "160773531963881560",
          "6489103018356725261"
         ],
         "function": "metadsl_core.abstraction.Abstraction.__call__",
         "type_params": {
          "T": {
           "params": {
            "T": {
             "type": "metadsl_core.numpy.NDArray"
            },
            "U": {
             "params": {
              "T": {
               "type": "metadsl_core.integer.Integer"
              },
              "U": {
               "params": {
                "T": {
                 "type": "metadsl_core.integer.Integer"
                }
               },
               "type": "metadsl_core.vec.Vec"
              }
             },
             "type": "metadsl_core.either.Either"
            }
           },
           "type": "metadsl_core.pair.Pair"
          },
          "U": {
           "params": {
            "T": {
             "type": "metadsl_core.numpy.NDArray"
            }
           },
           "type": "metadsl_core.maybe.Maybe"
          }
         }
        },
        "4912198614687891016": {
         "args": [
          "-7378122151801498151",
          "-847498372399649344"
         ],
         "function": "metadsl_core.numpy_engine.ndarray_add"
        },
        "4956640976287279549": {
         "args": [
          "3185944533757697213",
          "1758874941227862512"
         ],
         "function": "metadsl_core.numpy.NDArray.__getitem__"
        },
        "5059787407900174674": {
         "args": [
          "4272362841984695531",
          "8265815467192652237"
         ],
         "function": "metadsl_core.abstraction.Abstraction.__add__",
         "type_params": {
          "T": {
           "type": "metadsl_core.numpy.NDArray"
          },
          "U": {
           "params": {
            "T": {
             "type": "metadsl_core.numpy.NDArray"
            }
           },
           "type": "metadsl_core.maybe.Maybe"
          }
         }
        },
        "5083150386011111200": {
         "args": [
          "-3111937144441253824",
          "-1634153577544591591",
          "5059787407900174674"
         ],
         "function": "metadsl_core.maybe.Maybe.match"
        },
        "5198292150105483290": {
         "args": [
          "-5189436288501258551"
         ],
         "function": "metadsl_core.conversion.Converter.convert",
         "type_params": {
          "T": {
           "type": "metadsl_core.numpy.NDArray"
          }
         }
        },
        "5231317810645234517": {
         "args": [
          "-2927105886577020080",
          "8011615922277789946"
         ],
         "function": "metadsl_core.maybe.Maybe.__and__",
         "type_params": {
          "T": {
           "type": "metadsl_core.numpy.NDArray"
          }
         }
        },
        "5289327458797627874": {
         "args": [
          "3154054583708263430",
          "-8520934084855244899"
         ],
         "function": "metadsl_core.maybe.Maybe.__and__",
         "type_params": {
          "T": {
           "type": "metadsl_core.numpy.NDArray"
          }
         }
        },
        "53011181607246694": {
         "args": [
          "-759093838837854533"
         ],
         "function": "metadsl_core.maybe.Maybe.just"
        },
        "5335735441848638637": {
         "args": [
          "1395627821193402340"
         ],
         "function": "metadsl_core.numpy.arange_"
        },
        "5380498449980754640": {
         "args": [
          "5083150386011111200"
         ],
         "function": "metadsl_core.numpy.NDArrayCompat.from_ndarray"
        },
        "5416547300024036577": {
         "args": [
          "6149618951892318412"
         ],
         "function": "metadsl_core.maybe.Maybe.just",
         "type_params": {
          "T": {
           "type": "metadsl_core.numpy.NDArray"
          }
         }
        },
        "544185684138039748": {
         "args": [
          "1661886770869584341",
          "6454593537056730818"
         ],
         "function": "metadsl_core.maybe.Maybe.map",
         "type_params": {
          "T": {
           "type": "metadsl_core.integer.Integer"
          }
         }
        },
        "5498191276875769260": {
         "args": [
          "626907516928159674"
         ],
         "function": "metadsl_core.numpy.NDArrayCompat.from_ndarray"
        },
        "5569719149546867854": {
         "args": [
          "6263790735347685846",
          "-3705275237759055718"
         ],
         "function": "metadsl_core.numpy_engine.ndarray_getitem"
        },
        "5598944308330143781": {
         "args": [
          "53011181607246694",
          "429197055195322326"
         ],
         "function": "metadsl_core.maybe.Maybe.__and__",
         "type_params": {
          "T": {
           "type": "metadsl_core.numpy.NDArray"
          }
         }
        },
        "565465857092453741": {
         "args": [
          "1583204918447313433"
         ],
         "function": "metadsl_core.numpy.NDArrayCompat.from_ndarray"
        },
        "5701152051151677401": {
         "args": [
          "920416316869947893"
         ],
         "function": "metadsl_core.numpy.NDArrayCompat.from_ndarray"
        },
        "5737369450625328403": {
         "args": [
          "-8143264301163155500"
         ],
         "function": "metadsl_core.numpy.NDArrayCompat.from_ndarray"
        },
        "5764860230719714798": {
         "args": [
          "-7055281088629370118",
          "-7055281088629370118"
         ],
         "function": "metadsl_core.numpy.NDArrayCompat.__add__"
        },
        "5804987440302656017": {
         "args": [
          "7919399156107912809",
          "1456565464579814476"
         ],
         "function": "metadsl_core.abstraction.Abstraction.__add__",
         "type_params": {
          "T": {
           "params": {
            "T": {
             "type": "metadsl_core.integer.Integer"
            },
            "U": {
             "params": {
              "T": {
               "type": "metadsl_core.integer.Integer"
              }
             },
             "type": "metadsl_core.vec.Vec"
            }
           },
           "type": "metadsl_core.either.Either"
          },
          "U": {
           "params": {
            "T": {
             "params": {
              "T": {
               "type": "metadsl_core.integer.Integer"
              },
              "U": {
               "params": {
                "T": {
                 "type": "metadsl_core.integer.Integer"
                }
               },
               "type": "metadsl_core.vec.Vec"
              }
             },
             "type": "metadsl_core.either.Either"
            }
           },
           "type": "metadsl_core.maybe.Maybe"
          }
         }
        },
        "6041997727076074195": {
         "args": [
          "2527024770884907802",
          "-847498372399649344"
         ],
         "function": "metadsl_core.numpy_engine.ndarray_add"
        },
        "6071018577691520924": {
         "args": [
          "-9132827512678161343"
         ],
         "function": "metadsl_core.numpy.NDArrayCompat.from_ndarray"
        },
        "6114565741681856371": {
         "args": [
          "3018242429421303958"
         ],
         "function": "metadsl_core.abstraction.Abstraction.from_fn"
        },
        "6128052437150677934": {
         "args": [
          "-77518836552605056",
          "-6684767051708427860"
         ],
         "function": "metadsl_core.maybe.Maybe.__or__",
         "type_params": {
          "T": {
           "params": {
            "T": {
             "type": "metadsl_core.integer.Integer"
            },
            "U": {
             "params": {
              "T": {
               "type": "metadsl_core.integer.Integer"
              }
             },
             "type": "metadsl_core.vec.Vec"
            }
           },
           "type": "metadsl_core.either.Either"
          }
         }
        },
        "6149618951892318412": {
         "args": [
          "-6966490423956270220"
         ],
         "function": "metadsl_core.abstraction.Abstraction.create_variable",
         "type_params": {
          "T": {
           "type": "metadsl_core.numpy.NDArray"
          },
          "U": {
           "params": {
            "T": {
             "type": "metadsl_core.numpy.NDArray"
            }
           },
           "type": "metadsl_core.maybe.Maybe"
          }
         }
        },
        "6188741693156294736": {
         "args": [
          "2895527461790539826"
         ],
         "function": "metadsl_core.numpy.NDArrayCompat.to_ndarray"
        },
        "6203099559014167055": {
         "args": [
          "3154054583708263430",
          "-3065567844852217470"
         ],
         "function": "metadsl_core.maybe.Maybe.__and__",
         "type_params": {
          "T": {
           "type": "metadsl_core.numpy.NDArray"
          }
         }
        },
        "6204848427203990235": {
         "args": [
          "7889483376692085684"
         ],
         "function": "metadsl_core.numpy.NDArrayCompat.from_ndarray"
        },
        "6225072880029029427": {
         "args": [
          "7835717056820988225"
         ],
         "function": "metadsl_core.maybe.Maybe.just",
         "type_params": {
          "T": {
           "type": "metadsl_core.numpy.NDArray"
          }
         }
        },
        "6227749445817335041": {
         "args": [
          "6263790735347685846",
          "-1650449521913670327"
         ],
         "function": "metadsl_core.numpy_engine.ndarray_getitem"
        },
        "6227968977123678793": {
         "args": [
          "6263790735347685846",
          "-1727098197078088733"
         ],
         "function": "metadsl_core.numpy_engine.ndarray_getitem"
        },
        "6263375678545427999": {
         "args": [
          "-3705275237759055718"
         ],
         "function": "metadsl_core.conversion.Converter.convert",
         "type_params": {
          "T": {
           "params": {
            "T": {
             "type": "metadsl_core.integer.Integer"
            }
           },
           "type": "metadsl_core.vec.Vec"
          }
         }
        },
        "6263790735347685846": {
         "args": [
          "-3705275237864060643"
         ],
         "function": "metadsl_core.numpy_engine.arange"
        },
        "626907516928159674": {
         "args": [
          "-8281681333636686969",
          "-4849403349205996894"
         ],
         "function": "metadsl_core.maybe.Maybe.map",
         "type_params": {
          "T": {
           "params": {
            "T": {
             "type": "metadsl_core.numpy.NDArray"
            },
            "U": {
             "params": {
              "T": {
               "type": "metadsl_core.integer.Integer"
              },
              "U": {
               "params": {
                "T": {
                 "type": "metadsl_core.integer.Integer"
                }
               },
               "type": "metadsl_core.vec.Vec"
              }
             },
             "type": "metadsl_core.either.Either"
            }
           },
           "type": "metadsl_core.pair.Pair"
          }
         }
        },
        "6278497653678953638": {
         "args": [
          "-2716962487081307868"
         ],
         "function": "metadsl_core.numpy.NDArrayCompat.to_ndarray"
        },
        "6325241474297918039": {
         "args": [
          "-6326498202064995692",
          "-6326498202064995692"
         ],
         "function": "metadsl_core.numpy.NDArray.__add__"
        },
        "6401238467075760220": {
         "args": [
          "-6348449952595699719"
         ],
         "function": "metadsl_core.maybe.Maybe.just"
        },
        "6427778498691214608": {
         "args": [
          "4765036408123793029",
          "8519257424446584621"
         ],
         "function": "metadsl_core.numpy.NDArrayCompat.__add__"
        },
        "6454593537056730818": {
         "args": [
          "3018242927304862158"
         ],
         "function": "metadsl_core.abstraction.Abstraction.from_fn"
        },
        "64697981528287998": {
         "args": [
          "5569719149546867854",
          "2527024770884907802"
         ],
         "function": "metadsl_core.numpy_engine.ndarray_add"
        },
        "6489103018356725261": {
         "args": [
          "-759093838837854533",
          "-4935307720403575888"
         ],
         "function": "metadsl_core.pair.Pair.create"
        },
        "6550727564280151447": {
         "args": [
          "5764860230719714798",
          "-3705275237759055718"
         ],
         "function": "metadsl_core.numpy.NDArrayCompat.__getitem__"
        },
        "6620122342903770576": {
         "args": [
          "5231317810645234517",
          "-4849403349205996894"
         ],
         "function": "metadsl_core.maybe.Maybe.map",
         "type_params": {
          "T": {
           "params": {
            "T": {
             "type": "metadsl_core.numpy.NDArray"
            },
            "U": {
             "params": {
              "T": {
               "type": "metadsl_core.integer.Integer"
              },
              "U": {
               "params": {
                "T": {
                 "type": "metadsl_core.integer.Integer"
                }
               },
               "type": "metadsl_core.vec.Vec"
              }
             },
             "type": "metadsl_core.either.Either"
            }
           },
           "type": "metadsl_core.pair.Pair"
          }
         }
        },
        "6638798745214373616": {
         "args": [
          "-5809698578867428686"
         ],
         "function": "metadsl_core.numpy.NDArrayCompat.to_ndarray"
        },
        "676902453469965611": {
         "args": [
          "-6348449952595699719"
         ],
         "function": "metadsl_core.numpy.arange_"
        },
        "6857408431730447076": {
         "args": [
          "3018242039980770158"
         ],
         "function": "metadsl_core.abstraction.Abstraction.from_fn"
        },
        "6933985692273522389": {
         "args": [
          "7554469586199218570"
         ],
         "function": "metadsl_core.numpy.NDArrayCompat.to_ndarray"
        },
        "6972135441594515294": {
         "args": [
          "1737974526700541274"
         ],
         "function": "metadsl_core.numpy.NDArrayCompat.from_ndarray"
        },
        "7089816306816462651": {
         "args": [
          "-6108590015193548769",
          "-3065567844852217470"
         ],
         "function": "metadsl_core.maybe.Maybe.__and__",
         "type_params": {
          "T": {
           "type": "metadsl_core.numpy.NDArray"
          }
         }
        },
        "7138107702412271162": {
         "args": [
          "-5419148412288663401",
          "6204848427203990235"
         ],
         "function": "metadsl_core.numpy.NDArrayCompat.__add__"
        },
        "7195992161376387783": {
         "args": [
          "3018242884203046758"
         ],
         "function": "metadsl_core.abstraction.Abstraction.from_fn"
        },
        "7271560234293115856": {
         "args": [
          "5737369450625328403"
         ],
         "function": "metadsl_core.numpy.NDArrayCompat.to_ndarray"
        },
        "7281850675127942797": {
         "args": [
          "-5419148412288663401",
          "-5419148412288663401"
         ],
         "function": "metadsl_core.numpy.NDArrayCompat.__add__"
        },
        "7422646627666690300": {
         "args": [
          "-4782736161287716565"
         ],
         "function": "metadsl_core.numpy.NDArrayCompat.to_ndarray"
        },
        "7433198376928197925": {
         "args": [
          "-5969105519526623034"
         ],
         "function": "metadsl_core.conversion.Converter.convert",
         "type_params": {
          "T": {
           "type": "metadsl_core.numpy.NDArray"
          }
         }
        },
        "7449417502452493433": {
         "args": [
          "6149618951892318412",
          "5416547300024036577"
         ],
         "function": "metadsl_core.abstraction.Abstraction.create",
         "type_params": {
          "T": {
           "type": "metadsl_core.numpy.NDArray"
          },
          "U": {
           "params": {
            "T": {
             "type": "metadsl_core.numpy.NDArray"
            }
           },
           "type": "metadsl_core.maybe.Maybe"
          }
         }
        },
        "7554469586199218570": {
         "args": [
          "-407846913662410158"
         ],
         "function": "metadsl_core.numpy.NDArrayCompat.from_ndarray"
        },
        "7651895873987456113": {
         "args": [
          "-6083112540082706529"
         ],
         "function": "metadsl_core.numpy.NDArrayCompat.from_ndarray"
        },
        "7709830722086267384": {
         "args": [
          "-6348449952595699719"
         ],
         "function": "metadsl_core.numpy_engine.unbox_integer"
        },
        "7715942918607173825": {
         "args": [
          "3257099024299117165",
          "-3065567844852217470"
         ],
         "function": "metadsl_core.maybe.Maybe.__and__",
         "type_params": {
          "T": {
           "type": "metadsl_core.numpy.NDArray"
          }
         }
        },
        "7757303258093800345": {
         "args": [
          "-8147870302302509425",
          "-6348449952595699719"
         ],
         "function": "metadsl_core.abstraction.Abstraction.__call__",
         "type_params": {
          "T": {
           "type": "metadsl_core.integer.Integer"
          },
          "U": {
           "params": {
            "T": {
             "type": "metadsl_core.numpy.NDArray"
            }
           },
           "type": "metadsl_core.maybe.Maybe"
          }
         }
        },
        "7774360287808655507": {
         "args": [
          "1630990807433894786"
         ],
         "function": "metadsl_core.numpy.NDArrayCompat.to_ndarray"
        },
        "7835717056820988225": {
         "args": [
          "-3046332138756787847"
         ],
         "function": "metadsl_core.numpy.arange_"
        },
        "7839245653668139588": {
         "args": [
          "-5035895853445849184"
         ],
         "function": "metadsl_core.numpy.NDArrayCompat.to_ndarray"
        },
        "7868914353039265219": {
         "args": [
          "6263375678545427999",
          "-9190197779247618442"
         ],
         "function": "metadsl_core.maybe.Maybe.map",
         "type_params": {
          "T": {
           "params": {
            "T": {
             "type": "metadsl_core.integer.Integer"
            }
           },
           "type": "metadsl_core.vec.Vec"
          }
         }
        },
        "7889483376692085684": {
         "args": [
          "-6178668019312292785",
          "-6348449952595699719"
         ],
         "function": "metadsl_core.abstraction.Abstraction.__call__",
         "type_params": {
          "T": {
           "type": "metadsl_core.integer.Integer"
          },
          "U": {
           "params": {
            "T": {
             "type": "metadsl_core.numpy.NDArray"
            }
           },
           "type": "metadsl_core.maybe.Maybe"
          }
         }
        },
        "7919399156107912809": {
         "args": [
          "-6155160979429421904",
          "7949023678236811004"
         ],
         "function": "metadsl_core.abstraction.Abstraction.create",
         "type_params": {
          "T": {
           "params": {
            "T": {
             "type": "metadsl_core.integer.Integer"
            },
            "U": {
             "params": {
              "T": {
               "type": "metadsl_core.integer.Integer"
              }
             },
             "type": "metadsl_core.vec.Vec"
            }
           },
           "type": "metadsl_core.either.Either"
          },
          "U": {
           "params": {
            "T": {
             "params": {
              "T": {
               "type": "metadsl_core.integer.Integer"
              },
              "U": {
               "params": {
                "T": {
                 "type": "metadsl_core.integer.Integer"
                }
               },
               "type": "metadsl_core.vec.Vec"
              }
             },
             "type": "metadsl_core.either.Either"
            }
           },
           "type": "metadsl_core.maybe.Maybe"
          }
         }
        },
        "7933754380155337296": {
         "args": [
          "-6377803081903497239",
          "-6348449952595699719"
         ],
         "function": "metadsl_core.abstraction.Abstraction.__call__",
         "type_params": {
          "T": {
           "type": "metadsl_core.integer.Integer"
          },
          "U": {
           "params": {
            "T": {
             "type": "metadsl_core.numpy.NDArray"
            }
           },
           "type": "metadsl_core.maybe.Maybe"
          }
         }
        },
        "7949023678236811004": {
         "args": [
          "-6155160979429421904"
         ],
         "function": "metadsl_core.maybe.Maybe.just",
         "type_params": {
          "T": {
           "params": {
            "T": {
             "type": "metadsl_core.integer.Integer"
            },
            "U": {
             "params": {
              "T": {
               "type": "metadsl_core.integer.Integer"
              }
             },
             "type": "metadsl_core.vec.Vec"
            }
           },
           "type": "metadsl_core.either.Either"
          }
         }
        },
        "8008538582573657278": {
         "args": [
          "-4168009961457623335",
          "-3065567844852217470"
         ],
         "function": "metadsl_core.maybe.Maybe.__and__",
         "type_params": {
          "T": {
           "type": "metadsl_core.numpy.NDArray"
          }
         }
        },
        "8011461330799488099": {
         "args": [
          "6203099559014167055",
          "-1634153577544591591",
          "5059787407900174674"
         ],
         "function": "metadsl_core.maybe.Maybe.match"
        },
        "8011615922277789946": {
         "args": [
          "-3705275237759055718"
         ],
         "function": "metadsl_core.conversion.Converter.convert",
         "type_params": {
          "T": {
           "params": {
            "T": {
             "type": "metadsl_core.integer.Integer"
            },
            "U": {
             "params": {
              "T": {
               "type": "metadsl_core.integer.Integer"
              }
             },
             "type": "metadsl_core.vec.Vec"
            }
           },
           "type": "metadsl_core.either.Either"
          }
         }
        },
        "8032600939169997756": {
         "args": [
          "4678850780078233403",
          "8011615922277789946"
         ],
         "function": "metadsl_core.maybe.Maybe.__and__",
         "type_params": {
          "T": {
           "type": "metadsl_core.numpy.NDArray"
          }
         }
        },
        "8114190734912744647": {
         "args": [
          "3810727714308209481",
          "-4849403349205996894"
         ],
         "function": "metadsl_core.maybe.Maybe.map",
         "type_params": {
          "T": {
           "params": {
            "T": {
             "type": "metadsl_core.numpy.NDArray"
            },
            "U": {
             "params": {
              "T": {
               "type": "metadsl_core.integer.Integer"
              },
              "U": {
               "params": {
                "T": {
                 "type": "metadsl_core.integer.Integer"
                }
               },
               "type": "metadsl_core.vec.Vec"
              }
             },
             "type": "metadsl_core.either.Either"
            }
           },
           "type": "metadsl_core.pair.Pair"
          }
         }
        },
        "8236989180637702588": {
         "args": [
          "-6754449211692554842"
         ],
         "function": "metadsl_core.numpy.NDArrayCompat.from_ndarray"
        },
        "8265815467192652237": {
         "args": [
          "-6885157575476597440"
         ],
         "function": "metadsl_core.abstraction.Abstraction.from_fn",
         "type_params": {
          "T": {
           "params": {
            "T": {
             "type": "metadsl_core.numpy.NDArray"
            },
            "U": {
             "params": {
              "T": {
               "type": "metadsl_core.integer.Integer"
              },
              "U": {
               "params": {
                "T": {
                 "type": "metadsl_core.integer.Integer"
                }
               },
               "type": "metadsl_core.vec.Vec"
              }
             },
             "type": "metadsl_core.either.Either"
            }
           },
           "type": "metadsl_core.pair.Pair"
          },
          "U": {
           "type": "metadsl_core.numpy.NDArray"
          }
         }
        },
        "8288467036774474767": {
         "args": [
          "1904015705664729409",
          "-3065567844852217470"
         ],
         "function": "metadsl_core.maybe.Maybe.__and__",
         "type_params": {
          "T": {
           "type": "metadsl_core.numpy.NDArray"
          }
         }
        },
        "8416461325375425526": {
         "args": [
          "9055488280007138875",
          "-6348449952595699719"
         ],
         "function": "metadsl_core.abstraction.Abstraction.__call__",
         "type_params": {
          "T": {
           "type": "metadsl_core.integer.Integer"
          },
          "U": {
           "params": {
            "T": {
             "type": "metadsl_core.numpy.NDArray"
            }
           },
           "type": "metadsl_core.maybe.Maybe"
          }
         }
        },
        "8418099048549819643": {
         "args": [
          "-282689165681493878",
          "4765036408123793029"
         ],
         "function": "metadsl_core.numpy.NDArrayCompat.__add__"
        },
        "8519257424446584621": {
         "args": [
          "-1577388983039126609"
         ],
         "function": "metadsl_core.numpy.NDArrayCompat.from_ndarray"
        },
        "857657999680265138": {
         "args": [
          "6972135441594515294",
          "4765036408123793029"
         ],
         "function": "metadsl_core.numpy.NDArrayCompat.__add__"
        },
        "8620010706362481861": {
         "args": [
          "5289327458797627874",
          "-1634153577544591591",
          "5059787407900174674"
         ],
         "function": "metadsl_core.maybe.Maybe.match"
        },
        "8629855294481106536": {
         "args": [
          "4725064804493183873"
         ],
         "function": "metadsl_core.maybe.Maybe.just",
         "type_params": {
          "T": {
           "type": "metadsl_core.numpy.NDArray"
          }
         }
        },
        "8634361753103059848": {
         "args": [
          "-1898001187271983690"
         ],
         "function": "metadsl_core.numpy.NDArrayCompat.to_ndarray"
        },
        "8838764709824247435": {
         "args": [
          "5701152051151677401"
         ],
         "function": "metadsl_core.numpy.NDArrayCompat.to_ndarray"
        },
        "8862735974553068826": {
         "args": [
          "-3031825056521805508",
          "-6326498202064995692"
         ],
         "function": "metadsl_core.numpy.NDArray.__add__"
        },
        "8884426332258714801": {
         "args": [
          "-3109166844965827647"
         ],
         "function": "metadsl_core.conversion.Converter.convert",
         "type_params": {
          "T": {
           "type": "metadsl_core.numpy.NDArray"
          }
         }
        },
        "8907023515929157079": {
         "args": [
          "2177864481804325886",
          "-1634153577544591591",
          "-7271444060286549195"
         ],
         "function": "metadsl_core.maybe.Maybe.match"
        },
        "9055488280007138875": {
         "args": [
          "-3046332138756787847",
          "6225072880029029427"
         ],
         "function": "metadsl_core.abstraction.Abstraction.create"
        },
        "9113721034414090785": {
         "args": [
          "-5198982805348015754",
          "4130506920816483144"
         ],
         "function": "metadsl_core.abstraction.Abstraction.__add__",
         "type_params": {
          "T": {
           "type": "metadsl_core.numpy.NDArray"
          },
          "U": {
           "params": {
            "T": {
             "type": "metadsl_core.numpy.NDArray"
            }
           },
           "type": "metadsl_core.maybe.Maybe"
          }
         }
        },
        "9159629178130348007": {
         "args": [
          "6114565741681856371",
          "4130506920816483144"
         ],
         "function": "metadsl_core.abstraction.Abstraction.__add__",
         "type_params": {
          "T": {
           "type": "metadsl_core.numpy.NDArray"
          },
          "U": {
           "params": {
            "T": {
             "type": "metadsl_core.numpy.NDArray"
            }
           },
           "type": "metadsl_core.maybe.Maybe"
          }
         }
        },
        "9175401784758480455": {
         "args": [
          "-3253607827985268989",
          "-6684767051708427860"
         ],
         "function": "metadsl_core.maybe.Maybe.__or__",
         "type_params": {
          "T": {
           "params": {
            "T": {
             "type": "metadsl_core.integer.Integer"
            },
            "U": {
             "params": {
              "T": {
               "type": "metadsl_core.integer.Integer"
              }
             },
             "type": "metadsl_core.vec.Vec"
            }
           },
           "type": "metadsl_core.either.Either"
          }
         }
        },
        "920416316869947893": {
         "args": [
          "2177864481804325886",
          "-1634153577544591591",
          "5059787407900174674"
         ],
         "function": "metadsl_core.maybe.Maybe.match"
        },
        "9221578626117848433": {
         "args": [
          "-8329122455373226007",
          "-1634153577544591591",
          "5059787407900174674"
         ],
         "function": "metadsl_core.maybe.Maybe.match"
        }
       },
       "states": {
        "initial": "-2038961938848683980",
        "states": [
         {
          "node": "1303019370980816768",
          "rule": "metadsl_core.numpy.NDArrayCompat.__getitem__"
         },
         {
          "node": "4777715286084451550",
          "rule": "metadsl_core.numpy.arange"
         },
         {
          "node": "347114057044847048",
          "rule": "metadsl_core.integer.convert_integer"
         },
         {
          "node": "2633483951461553102",
          "rule": "metadsl_core.numpy.arange"
         },
         {
          "node": "-3838008980622638884",
          "rule": "metadsl_core.integer.convert_integer"
         },
         {
          "node": "-692315528089853894",
          "rule": "metadsl_core.either.convert_to_either"
         },
         {
          "node": "-6023893206440842224",
          "rule": "metadsl_core.integer.convert_integer"
         },
         {
          "node": "-4012140611117047975",
          "rule": "metadsl_core.maybe.Maybe.map"
         },
         {
          "node": "-8369929211869489657",
          "rule": "metadsl_core.maybe.Maybe.map"
         },
         {
          "node": "7271560234293115856",
          "rule": "metadsl_core.maybe.maybe_match"
         },
         {
          "node": "-1555479550847644982",
          "rule": "metadsl_core.abstraction.Abstraction.from_fn"
         },
         {
          "node": "4494140152710335761",
          "rule": "metadsl_core.abstraction.Abstraction.from_fn"
         },
         {
          "node": "8634361753103059848",
          "rule": "metadsl_core.abstraction.compose"
         },
         {
          "node": "6933985692273522389",
          "rule": "metadsl_core.abstraction.beta_reduce"
         },
         {
          "node": "-3915034430366087560",
          "rule": "metadsl_core.maybe.Maybe.map"
         },
         {
          "node": "3782781951538296725",
          "rule": "metadsl_core.maybe.maybe_match"
         },
         {
          "node": "-7564184822257848758",
          "rule": "metadsl_core.abstraction.Abstraction.from_fn"
         },
         {
          "node": "-2033355726687749432",
          "rule": "metadsl_core.abstraction.Abstraction.from_fn"
         },
         {
          "node": "7422646627666690300",
          "rule": "metadsl_core.abstraction.compose"
         },
         {
          "node": "-1398540776220654208",
          "rule": "metadsl_core.abstraction.beta_reduce"
         },
         {
          "node": "-2707705597213486049",
          "rule": "metadsl_core.maybe.Maybe.map"
         },
         {
          "node": "3320514870386891208",
          "rule": "metadsl_core.maybe.maybe_match"
         },
         {
          "node": "2855352892526363245",
          "rule": "metadsl_core.abstraction.Abstraction.from_fn"
         },
         {
          "node": "6638798745214373616",
          "rule": "metadsl_core.abstraction.Abstraction.from_fn"
         },
         {
          "node": "4332074470064424039",
          "rule": "metadsl_core.abstraction.compose"
         },
         {
          "node": "4766594682817356272",
          "rule": "metadsl_core.abstraction.beta_reduce"
         },
         {
          "node": "8838764709824247435",
          "rule": "metadsl_core.maybe.maybe_or"
         },
         {
          "node": "4302414561591220110",
          "rule": "metadsl_core.abstraction.Abstraction.from_fn"
         },
         {
          "node": "1378683754418626821",
          "rule": "metadsl_core.abstraction.Abstraction.from_fn"
         },
         {
          "node": "4216762219698912407",
          "rule": "metadsl_core.abstraction.compose"
         },
         {
          "node": "2367042760946320780",
          "rule": "metadsl_core.numpy.add_compat"
         },
         {
          "node": "7839245653668139588",
          "rule": "metadsl_core.numpy.convert_to_ndarray"
         },
         {
          "node": "-4951686850070427313",
          "rule": "metadsl_core.maybe.maybe_and"
         },
         {
          "node": "3935502094684674418",
          "rule": "metadsl_core.maybe.maybe_match"
         },
         {
          "node": "6188741693156294736",
          "rule": "metadsl_core.abstraction.beta_reduce"
         },
         {
          "node": "7774360287808655507",
          "rule": "metadsl_core.pair.pair_left"
         },
         {
          "node": "-5605213071855239412",
          "rule": "__main__.optimize_getitem_add"
         },
         {
          "node": "-7734512656539393181",
          "rule": "metadsl_core.pair.pair_right"
         },
         {
          "label": "convert",
          "node": "6278497653678953638",
          "rule": "metadsl_core.pair.pair_right"
         },
         {
          "node": "2553325862552671182",
          "rule": "metadsl_core.numpy.box_unbox_ndarray_compat"
         },
         {
          "node": "-7238536541855472683",
          "rule": "metadsl_core.numpy_engine.unbox_ndarray_add"
         },
         {
          "node": "4912198614687891016",
          "rule": "metadsl_core.numpy_engine.unbox_ndarray_getitem"
         },
         {
          "node": "6041997727076074195",
          "rule": "metadsl_core.numpy_engine.unbox_arange"
         },
         {
          "node": "2238835771622311935",
          "rule": "metadsl_core.numpy_engine.unbox_integer_rule"
         },
         {
          "node": "3143315249364599150",
          "rule": "metadsl_core.numpy_engine.unbox_idxs_rule"
         },
         {
          "node": "4353231192952827782",
          "rule": "metadsl_core.numpy_engine.unbox_integer_rule"
         },
         {
          "node": "2235985623503686545",
          "rule": "metadsl_core.numpy_engine.unbox_ndarray_getitem"
         },
         {
          "node": "64697981528287998",
          "rule": "metadsl_core.numpy_engine.unbox_arange"
         },
         {
          "node": "-8394424762690264190",
          "rule": "metadsl_core.numpy_engine.unbox_integer_rule"
         },
         {
          "node": "1987728201386139715",
          "rule": "metadsl_core.numpy_engine.unbox_idxs_rule"
         },
         {
          "label": "unbox",
          "node": "-7511579697616063836",
          "rule": "metadsl_core.numpy_engine.unbox_integer_rule"
         },
         {
          "node": "-213012314763072436",
          "rule": "metadsl_core.numpy_engine.arange"
         },
         {
          "node": "-5701606378643831792",
          "rule": "metadsl_core.numpy_engine.ndarray_getitem"
         },
         {
          "node": "-5587534132128047160",
          "rule": "metadsl_core.numpy_engine.arange"
         },
         {
          "node": "2659949171365915247",
          "rule": "metadsl_core.numpy_engine.ndarray_getitem"
         },
         {
          "label": "execute",
          "node": "-5761567968183968639",
          "rule": "metadsl_core.numpy_engine.ndarray_add"
         }
        ]
       }
      },
      "application/x.typez.graph+json": {
       "initial": "digraph {\n\t-2038961938848683980 [label=\"metadsl_core.numpy.NDArrayCompat.to_ndarray\"]\n\t-2038961938848683980 -> 6550727564280151447\n\t6550727564280151447 [label=\"metadsl_core.numpy.NDArrayCompat.__getitem__\"]\n\t6550727564280151447 -> 5764860230719714798\n\t5764860230719714798 [label=\"metadsl_core.numpy.NDArrayCompat.__add__\"]\n\t5764860230719714798 -> -7055281088629370118\n\t-7055281088629370118 [label=\"metadsl_core.numpy.arange\"]\n\t-7055281088629370118 -> -3705275237864060643\n\t-3705275237864060643 [label=100]\n\t5764860230719714798 -> -7055281088629370118\n\t6550727564280151447 -> -3705275237759055718\n\t-3705275237759055718 [label=5]\n}",
       "states": [
        {
         "graph": "digraph {\n\t1303019370980816768 [label=\"metadsl_core.numpy.NDArrayCompat.to_ndarray\"]\n\t1303019370980816768 -> 2739036484444012644\n\t2739036484444012644 [label=\"metadsl_core.numpy.NDArrayCompat.from_ndarray\"]\n\t2739036484444012644 -> 6620122342903770576\n\t6620122342903770576 [label=\"metadsl_core.maybe.Maybe.map\"]\n\t6620122342903770576 -> 5231317810645234517\n\t5231317810645234517 [label=\"metadsl_core.maybe.Maybe.__and__\"]\n\t5231317810645234517 -> -2927105886577020080\n\t-2927105886577020080 [label=\"metadsl_core.conversion.Converter.convert\"]\n\t-2927105886577020080 -> 5764860230719714798\n\t5764860230719714798 [label=\"metadsl_core.numpy.NDArrayCompat.__add__\"]\n\t5764860230719714798 -> -7055281088629370118\n\t-7055281088629370118 [label=\"metadsl_core.numpy.arange\"]\n\t-7055281088629370118 -> -3705275237864060643\n\t-3705275237864060643 [label=100]\n\t5764860230719714798 -> -7055281088629370118\n\t5231317810645234517 -> 8011615922277789946\n\t8011615922277789946 [label=\"metadsl_core.conversion.Converter.convert\"]\n\t8011615922277789946 -> -3705275237759055718\n\t-3705275237759055718 [label=5]\n\t6620122342903770576 -> -4849403349205996894\n\t-4849403349205996894 [label=\"metadsl_core.abstraction.Abstraction.from_fn\"]\n\t-4849403349205996894 -> 2338208855431533768\n\t2338208855431533768 [label=\"function NDArrayCompat.__getitem__.locals.lambda at 0x10bf35e18\"]\n}",
         "label": null,
         "rule": "metadsl_core.numpy.NDArrayCompat.__getitem__"
        },
        {
         "graph": "digraph {\n\t4777715286084451550 [label=\"metadsl_core.numpy.NDArrayCompat.to_ndarray\"]\n\t4777715286084451550 -> 5498191276875769260\n\t5498191276875769260 [label=\"metadsl_core.numpy.NDArrayCompat.from_ndarray\"]\n\t5498191276875769260 -> 626907516928159674\n\t626907516928159674 [label=\"metadsl_core.maybe.Maybe.map\"]\n\t626907516928159674 -> -8281681333636686969\n\t-8281681333636686969 [label=\"metadsl_core.maybe.Maybe.__and__\"]\n\t-8281681333636686969 -> -4912462970913600817\n\t-4912462970913600817 [label=\"metadsl_core.conversion.Converter.convert\"]\n\t-4912462970913600817 -> -4315186536235377471\n\t-4315186536235377471 [label=\"metadsl_core.numpy.NDArrayCompat.__add__\"]\n\t-4315186536235377471 -> 8519257424446584621\n\t8519257424446584621 [label=\"metadsl_core.numpy.NDArrayCompat.from_ndarray\"]\n\t8519257424446584621 -> -1577388983039126609\n\t-1577388983039126609 [label=\"metadsl_core.maybe.Maybe.map\"]\n\t-1577388983039126609 -> -7661950433982450966\n\t-7661950433982450966 [label=\"metadsl_core.conversion.Converter.convert\"]\n\t-7661950433982450966 -> -3705275237864060643\n\t-3705275237864060643 [label=100]\n\t-1577388983039126609 -> 4130506920816483144\n\t4130506920816483144 [label=\"metadsl_core.abstraction.Abstraction.from_fn\"]\n\t4130506920816483144 -> -7070438637286422905\n\t-7070438637286422905 [label=\"Infer(fn=function arange_ at 0x10ea01158)\"]\n\t-4315186536235377471 -> -7055281088629370118\n\t-7055281088629370118 [label=\"metadsl_core.numpy.arange\"]\n\t-7055281088629370118 -> -3705275237864060643\n\t-8281681333636686969 -> 8011615922277789946\n\t8011615922277789946 [label=\"metadsl_core.conversion.Converter.convert\"]\n\t8011615922277789946 -> -3705275237759055718\n\t-3705275237759055718 [label=5]\n\t626907516928159674 -> -4849403349205996894\n\t-4849403349205996894 [label=\"metadsl_core.abstraction.Abstraction.from_fn\"]\n\t-4849403349205996894 -> 2338208855431533768\n\t2338208855431533768 [label=\"function NDArrayCompat.__getitem__.locals.lambda at 0x10bf35e18\"]\n}",
         "label": null,
         "rule": "metadsl_core.numpy.arange"
        },
        {
         "graph": "digraph {\n\t347114057044847048 [label=\"metadsl_core.numpy.NDArrayCompat.to_ndarray\"]\n\t347114057044847048 -> 565465857092453741\n\t565465857092453741 [label=\"metadsl_core.numpy.NDArrayCompat.from_ndarray\"]\n\t565465857092453741 -> 1583204918447313433\n\t1583204918447313433 [label=\"metadsl_core.maybe.Maybe.map\"]\n\t1583204918447313433 -> 3748997720588164969\n\t3748997720588164969 [label=\"metadsl_core.maybe.Maybe.__and__\"]\n\t3748997720588164969 -> 2535515210733193989\n\t2535515210733193989 [label=\"metadsl_core.conversion.Converter.convert\"]\n\t2535515210733193989 -> -993268038132965659\n\t-993268038132965659 [label=\"metadsl_core.numpy.NDArrayCompat.__add__\"]\n\t-993268038132965659 -> 4765036408123793029\n\t4765036408123793029 [label=\"metadsl_core.numpy.NDArrayCompat.from_ndarray\"]\n\t4765036408123793029 -> -6456102885800723638\n\t-6456102885800723638 [label=\"metadsl_core.maybe.Maybe.map\"]\n\t-6456102885800723638 -> 6401238467075760220\n\t6401238467075760220 [label=\"metadsl_core.maybe.Maybe.just\"]\n\t6401238467075760220 -> -6348449952595699719\n\t-6348449952595699719 [label=\"metadsl_core.integer.Integer.from_int\"]\n\t-6348449952595699719 -> -3705275237864060643\n\t-3705275237864060643 [label=100]\n\t-6456102885800723638 -> 4130506920816483144\n\t4130506920816483144 [label=\"metadsl_core.abstraction.Abstraction.from_fn\"]\n\t4130506920816483144 -> -7070438637286422905\n\t-7070438637286422905 [label=\"Infer(fn=function arange_ at 0x10ea01158)\"]\n\t-993268038132965659 -> -7055281088629370118\n\t-7055281088629370118 [label=\"metadsl_core.numpy.arange\"]\n\t-7055281088629370118 -> -3705275237864060643\n\t3748997720588164969 -> 8011615922277789946\n\t8011615922277789946 [label=\"metadsl_core.conversion.Converter.convert\"]\n\t8011615922277789946 -> -3705275237759055718\n\t-3705275237759055718 [label=5]\n\t1583204918447313433 -> -4849403349205996894\n\t-4849403349205996894 [label=\"metadsl_core.abstraction.Abstraction.from_fn\"]\n\t-4849403349205996894 -> 2338208855431533768\n\t2338208855431533768 [label=\"function NDArrayCompat.__getitem__.locals.lambda at 0x10bf35e18\"]\n}",
         "label": null,
         "rule": "metadsl_core.integer.convert_integer"
        },
        {
         "graph": "digraph {\n\t2633483951461553102 [label=\"metadsl_core.numpy.NDArrayCompat.to_ndarray\"]\n\t2633483951461553102 -> -4996069196105384783\n\t-4996069196105384783 [label=\"metadsl_core.numpy.NDArrayCompat.from_ndarray\"]\n\t-4996069196105384783 -> -249562993268966980\n\t-249562993268966980 [label=\"metadsl_core.maybe.Maybe.map\"]\n\t-249562993268966980 -> 8032600939169997756\n\t8032600939169997756 [label=\"metadsl_core.maybe.Maybe.__and__\"]\n\t8032600939169997756 -> 4678850780078233403\n\t4678850780078233403 [label=\"metadsl_core.conversion.Converter.convert\"]\n\t4678850780078233403 -> 6427778498691214608\n\t6427778498691214608 [label=\"metadsl_core.numpy.NDArrayCompat.__add__\"]\n\t6427778498691214608 -> 4765036408123793029\n\t4765036408123793029 [label=\"metadsl_core.numpy.NDArrayCompat.from_ndarray\"]\n\t4765036408123793029 -> -6456102885800723638\n\t-6456102885800723638 [label=\"metadsl_core.maybe.Maybe.map\"]\n\t-6456102885800723638 -> 6401238467075760220\n\t6401238467075760220 [label=\"metadsl_core.maybe.Maybe.just\"]\n\t6401238467075760220 -> -6348449952595699719\n\t-6348449952595699719 [label=\"metadsl_core.integer.Integer.from_int\"]\n\t-6348449952595699719 -> -3705275237864060643\n\t-3705275237864060643 [label=100]\n\t-6456102885800723638 -> 4130506920816483144\n\t4130506920816483144 [label=\"metadsl_core.abstraction.Abstraction.from_fn\"]\n\t4130506920816483144 -> -7070438637286422905\n\t-7070438637286422905 [label=\"Infer(fn=function arange_ at 0x10ea01158)\"]\n\t6427778498691214608 -> 8519257424446584621\n\t8519257424446584621 [label=\"metadsl_core.numpy.NDArrayCompat.from_ndarray\"]\n\t8519257424446584621 -> -1577388983039126609\n\t-1577388983039126609 [label=\"metadsl_core.maybe.Maybe.map\"]\n\t-1577388983039126609 -> -7661950433982450966\n\t-7661950433982450966 [label=\"metadsl_core.conversion.Converter.convert\"]\n\t-7661950433982450966 -> -3705275237864060643\n\t-1577388983039126609 -> 4130506920816483144\n\t8032600939169997756 -> 8011615922277789946\n\t8011615922277789946 [label=\"metadsl_core.conversion.Converter.convert\"]\n\t8011615922277789946 -> -3705275237759055718\n\t-3705275237759055718 [label=5]\n\t-249562993268966980 -> -4849403349205996894\n\t-4849403349205996894 [label=\"metadsl_core.abstraction.Abstraction.from_fn\"]\n\t-4849403349205996894 -> 2338208855431533768\n\t2338208855431533768 [label=\"function NDArrayCompat.__getitem__.locals.lambda at 0x10bf35e18\"]\n}",
         "label": null,
         "rule": "metadsl_core.numpy.arange"
        },
        {
         "graph": "digraph {\n\t-3838008980622638884 [label=\"metadsl_core.numpy.NDArrayCompat.to_ndarray\"]\n\t-3838008980622638884 -> -1304423807553207709\n\t-1304423807553207709 [label=\"metadsl_core.numpy.NDArrayCompat.from_ndarray\"]\n\t-1304423807553207709 -> 1601330547832823811\n\t1601330547832823811 [label=\"metadsl_core.maybe.Maybe.map\"]\n\t1601330547832823811 -> -9168974794687253874\n\t-9168974794687253874 [label=\"metadsl_core.maybe.Maybe.__and__\"]\n\t-9168974794687253874 -> -6286215055759621830\n\t-6286215055759621830 [label=\"metadsl_core.conversion.Converter.convert\"]\n\t-6286215055759621830 -> -3154319303345681053\n\t-3154319303345681053 [label=\"metadsl_core.numpy.NDArrayCompat.__add__\"]\n\t-3154319303345681053 -> 4765036408123793029\n\t4765036408123793029 [label=\"metadsl_core.numpy.NDArrayCompat.from_ndarray\"]\n\t4765036408123793029 -> -6456102885800723638\n\t-6456102885800723638 [label=\"metadsl_core.maybe.Maybe.map\"]\n\t-6456102885800723638 -> 6401238467075760220\n\t6401238467075760220 [label=\"metadsl_core.maybe.Maybe.just\"]\n\t6401238467075760220 -> -6348449952595699719\n\t-6348449952595699719 [label=\"metadsl_core.integer.Integer.from_int\"]\n\t-6348449952595699719 -> -3705275237864060643\n\t-3705275237864060643 [label=100]\n\t-6456102885800723638 -> 4130506920816483144\n\t4130506920816483144 [label=\"metadsl_core.abstraction.Abstraction.from_fn\"]\n\t4130506920816483144 -> -7070438637286422905\n\t-7070438637286422905 [label=\"Infer(fn=function arange_ at 0x10ea01158)\"]\n\t-3154319303345681053 -> 4765036408123793029\n\t-9168974794687253874 -> 8011615922277789946\n\t8011615922277789946 [label=\"metadsl_core.conversion.Converter.convert\"]\n\t8011615922277789946 -> -3705275237759055718\n\t-3705275237759055718 [label=5]\n\t1601330547832823811 -> -4849403349205996894\n\t-4849403349205996894 [label=\"metadsl_core.abstraction.Abstraction.from_fn\"]\n\t-4849403349205996894 -> 2338208855431533768\n\t2338208855431533768 [label=\"function NDArrayCompat.__getitem__.locals.lambda at 0x10bf35e18\"]\n}",
         "label": null,
         "rule": "metadsl_core.integer.convert_integer"
        },
        {
         "graph": "digraph {\n\t-692315528089853894 [label=\"metadsl_core.numpy.NDArrayCompat.to_ndarray\"]\n\t-692315528089853894 -> -8669079487312369700\n\t-8669079487312369700 [label=\"metadsl_core.numpy.NDArrayCompat.from_ndarray\"]\n\t-8669079487312369700 -> 8114190734912744647\n\t8114190734912744647 [label=\"metadsl_core.maybe.Maybe.map\"]\n\t8114190734912744647 -> 3810727714308209481\n\t3810727714308209481 [label=\"metadsl_core.maybe.Maybe.__and__\"]\n\t3810727714308209481 -> -6286215055759621830\n\t-6286215055759621830 [label=\"metadsl_core.conversion.Converter.convert\"]\n\t-6286215055759621830 -> -3154319303345681053\n\t-3154319303345681053 [label=\"metadsl_core.numpy.NDArrayCompat.__add__\"]\n\t-3154319303345681053 -> 4765036408123793029\n\t4765036408123793029 [label=\"metadsl_core.numpy.NDArrayCompat.from_ndarray\"]\n\t4765036408123793029 -> -6456102885800723638\n\t-6456102885800723638 [label=\"metadsl_core.maybe.Maybe.map\"]\n\t-6456102885800723638 -> 6401238467075760220\n\t6401238467075760220 [label=\"metadsl_core.maybe.Maybe.just\"]\n\t6401238467075760220 -> -6348449952595699719\n\t-6348449952595699719 [label=\"metadsl_core.integer.Integer.from_int\"]\n\t-6348449952595699719 -> -3705275237864060643\n\t-3705275237864060643 [label=100]\n\t-6456102885800723638 -> 4130506920816483144\n\t4130506920816483144 [label=\"metadsl_core.abstraction.Abstraction.from_fn\"]\n\t4130506920816483144 -> -7070438637286422905\n\t-7070438637286422905 [label=\"Infer(fn=function arange_ at 0x10ea01158)\"]\n\t-3154319303345681053 -> 4765036408123793029\n\t3810727714308209481 -> 2992674189416269404\n\t2992674189416269404 [label=\"metadsl_core.maybe.Maybe.__or__\"]\n\t2992674189416269404 -> 2684600335931657705\n\t2684600335931657705 [label=\"metadsl_core.maybe.Maybe.map\"]\n\t2684600335931657705 -> 3443580654182396632\n\t3443580654182396632 [label=\"metadsl_core.conversion.Converter.convert\"]\n\t3443580654182396632 -> -3705275237759055718\n\t-3705275237759055718 [label=5]\n\t2684600335931657705 -> -4614541160952175371\n\t-4614541160952175371 [label=\"metadsl_core.abstraction.Abstraction.from_fn\"]\n\t-4614541160952175371 -> 3018243843441439558\n\t3018243843441439558 [label=\"BoundInfer(fn=function Either.left at 0x10bfd2378, owner=metadsl_core.either.Either[metadsl_core.integer.Integer, metadsl_core.vec.Vec[metadsl_core.integer.Integer]], is_classmethod=True)\"]\n\t2992674189416269404 -> 7868914353039265219\n\t7868914353039265219 [label=\"metadsl_core.maybe.Maybe.map\"]\n\t7868914353039265219 -> 6263375678545427999\n\t6263375678545427999 [label=\"metadsl_core.conversion.Converter.convert\"]\n\t6263375678545427999 -> -3705275237759055718\n\t7868914353039265219 -> -9190197779247618442\n\t-9190197779247618442 [label=\"metadsl_core.abstraction.Abstraction.from_fn\"]\n\t-9190197779247618442 -> 3018242090391794358\n\t3018242090391794358 [label=\"BoundInfer(fn=function Either.right at 0x10bfd27b8, owner=metadsl_core.either.Either[metadsl_core.integer.Integer, metadsl_core.vec.Vec[metadsl_core.integer.Integer]], is_classmethod=True)\"]\n\t8114190734912744647 -> -4849403349205996894\n\t-4849403349205996894 [label=\"metadsl_core.abstraction.Abstraction.from_fn\"]\n\t-4849403349205996894 -> 2338208855431533768\n\t2338208855431533768 [label=\"function NDArrayCompat.__getitem__.locals.lambda at 0x10bf35e18\"]\n}",
         "label": null,
         "rule": "metadsl_core.either.convert_to_either"
        },
        {
         "graph": "digraph {\n\t-6023893206440842224 [label=\"metadsl_core.numpy.NDArrayCompat.to_ndarray\"]\n\t-6023893206440842224 -> -5826087815983334907\n\t-5826087815983334907 [label=\"metadsl_core.numpy.NDArrayCompat.from_ndarray\"]\n\t-5826087815983334907 -> -3136334787935716581\n\t-3136334787935716581 [label=\"metadsl_core.maybe.Maybe.map\"]\n\t-3136334787935716581 -> 2492155666357408028\n\t2492155666357408028 [label=\"metadsl_core.maybe.Maybe.__and__\"]\n\t2492155666357408028 -> -6286215055759621830\n\t-6286215055759621830 [label=\"metadsl_core.conversion.Converter.convert\"]\n\t-6286215055759621830 -> -3154319303345681053\n\t-3154319303345681053 [label=\"metadsl_core.numpy.NDArrayCompat.__add__\"]\n\t-3154319303345681053 -> 4765036408123793029\n\t4765036408123793029 [label=\"metadsl_core.numpy.NDArrayCompat.from_ndarray\"]\n\t4765036408123793029 -> -6456102885800723638\n\t-6456102885800723638 [label=\"metadsl_core.maybe.Maybe.map\"]\n\t-6456102885800723638 -> 6401238467075760220\n\t6401238467075760220 [label=\"metadsl_core.maybe.Maybe.just\"]\n\t6401238467075760220 -> -6348449952595699719\n\t-6348449952595699719 [label=\"metadsl_core.integer.Integer.from_int\"]\n\t-6348449952595699719 -> -3705275237864060643\n\t-3705275237864060643 [label=100]\n\t-6456102885800723638 -> 4130506920816483144\n\t4130506920816483144 [label=\"metadsl_core.abstraction.Abstraction.from_fn\"]\n\t4130506920816483144 -> -7070438637286422905\n\t-7070438637286422905 [label=\"Infer(fn=function arange_ at 0x10ea01158)\"]\n\t-3154319303345681053 -> 4765036408123793029\n\t2492155666357408028 -> -6179915841810894785\n\t-6179915841810894785 [label=\"metadsl_core.maybe.Maybe.__or__\"]\n\t-6179915841810894785 -> -1936774049977532320\n\t-1936774049977532320 [label=\"metadsl_core.maybe.Maybe.map\"]\n\t-1936774049977532320 -> 1661886770869584341\n\t1661886770869584341 [label=\"metadsl_core.maybe.Maybe.just\"]\n\t1661886770869584341 -> 4334974619117012171\n\t4334974619117012171 [label=\"metadsl_core.integer.Integer.from_int\"]\n\t4334974619117012171 -> -3705275237759055718\n\t-3705275237759055718 [label=5]\n\t-1936774049977532320 -> -4614541160952175371\n\t-4614541160952175371 [label=\"metadsl_core.abstraction.Abstraction.from_fn\"]\n\t-4614541160952175371 -> 3018243843441439558\n\t3018243843441439558 [label=\"BoundInfer(fn=function Either.left at 0x10bfd2378, owner=metadsl_core.either.Either[metadsl_core.integer.Integer, metadsl_core.vec.Vec[metadsl_core.integer.Integer]], is_classmethod=True)\"]\n\t-6179915841810894785 -> 7868914353039265219\n\t7868914353039265219 [label=\"metadsl_core.maybe.Maybe.map\"]\n\t7868914353039265219 -> 6263375678545427999\n\t6263375678545427999 [label=\"metadsl_core.conversion.Converter.convert\"]\n\t6263375678545427999 -> -3705275237759055718\n\t7868914353039265219 -> -9190197779247618442\n\t-9190197779247618442 [label=\"metadsl_core.abstraction.Abstraction.from_fn\"]\n\t-9190197779247618442 -> 3018242090391794358\n\t3018242090391794358 [label=\"BoundInfer(fn=function Either.right at 0x10bfd27b8, owner=metadsl_core.either.Either[metadsl_core.integer.Integer, metadsl_core.vec.Vec[metadsl_core.integer.Integer]], is_classmethod=True)\"]\n\t-3136334787935716581 -> -4849403349205996894\n\t-4849403349205996894 [label=\"metadsl_core.abstraction.Abstraction.from_fn\"]\n\t-4849403349205996894 -> 2338208855431533768\n\t2338208855431533768 [label=\"function NDArrayCompat.__getitem__.locals.lambda at 0x10bf35e18\"]\n}",
         "label": null,
         "rule": "metadsl_core.integer.convert_integer"
        },
        {
         "graph": "digraph {\n\t-4012140611117047975 [label=\"metadsl_core.numpy.NDArrayCompat.to_ndarray\"]\n\t-4012140611117047975 -> -4995430298290094039\n\t-4995430298290094039 [label=\"metadsl_core.numpy.NDArrayCompat.from_ndarray\"]\n\t-4995430298290094039 -> -1243740766112781561\n\t-1243740766112781561 [label=\"metadsl_core.maybe.Maybe.match\"]\n\t-1243740766112781561 -> 2456872175265680946\n\t2456872175265680946 [label=\"metadsl_core.maybe.Maybe.__and__\"]\n\t2456872175265680946 -> -6286215055759621830\n\t-6286215055759621830 [label=\"metadsl_core.conversion.Converter.convert\"]\n\t-6286215055759621830 -> -3154319303345681053\n\t-3154319303345681053 [label=\"metadsl_core.numpy.NDArrayCompat.__add__\"]\n\t-3154319303345681053 -> 4765036408123793029\n\t4765036408123793029 [label=\"metadsl_core.numpy.NDArrayCompat.from_ndarray\"]\n\t4765036408123793029 -> -6456102885800723638\n\t-6456102885800723638 [label=\"metadsl_core.maybe.Maybe.map\"]\n\t-6456102885800723638 -> 6401238467075760220\n\t6401238467075760220 [label=\"metadsl_core.maybe.Maybe.just\"]\n\t6401238467075760220 -> -6348449952595699719\n\t-6348449952595699719 [label=\"metadsl_core.integer.Integer.from_int\"]\n\t-6348449952595699719 -> -3705275237864060643\n\t-3705275237864060643 [label=100]\n\t-6456102885800723638 -> 4130506920816483144\n\t4130506920816483144 [label=\"metadsl_core.abstraction.Abstraction.from_fn\"]\n\t4130506920816483144 -> -7070438637286422905\n\t-7070438637286422905 [label=\"Infer(fn=function arange_ at 0x10ea01158)\"]\n\t-3154319303345681053 -> 4765036408123793029\n\t2456872175265680946 -> -3065567844852217470\n\t-3065567844852217470 [label=\"metadsl_core.maybe.Maybe.__or__\"]\n\t-3065567844852217470 -> 544185684138039748\n\t544185684138039748 [label=\"metadsl_core.maybe.Maybe.map\"]\n\t544185684138039748 -> 1661886770869584341\n\t1661886770869584341 [label=\"metadsl_core.maybe.Maybe.just\"]\n\t1661886770869584341 -> 4334974619117012171\n\t4334974619117012171 [label=\"metadsl_core.integer.Integer.from_int\"]\n\t4334974619117012171 -> -3705275237759055718\n\t-3705275237759055718 [label=5]\n\t544185684138039748 -> 6454593537056730818\n\t6454593537056730818 [label=\"metadsl_core.abstraction.Abstraction.from_fn\"]\n\t6454593537056730818 -> 3018242927304862158\n\t3018242927304862158 [label=\"BoundInfer(fn=function Either.left at 0x10bfd2378, owner=metadsl_core.either.Either[metadsl_core.integer.Integer, metadsl_core.vec.Vec[metadsl_core.integer.Integer]], is_classmethod=True)\"]\n\t-3065567844852217470 -> -6684767051708427860\n\t-6684767051708427860 [label=\"metadsl_core.maybe.Maybe.map\"]\n\t-6684767051708427860 -> 6263375678545427999\n\t6263375678545427999 [label=\"metadsl_core.conversion.Converter.convert\"]\n\t6263375678545427999 -> -3705275237759055718\n\t-6684767051708427860 -> 6857408431730447076\n\t6857408431730447076 [label=\"metadsl_core.abstraction.Abstraction.from_fn\"]\n\t6857408431730447076 -> 3018242039980770158\n\t3018242039980770158 [label=\"BoundInfer(fn=function Either.right at 0x10bfd27b8, owner=metadsl_core.either.Either[metadsl_core.integer.Integer, metadsl_core.vec.Vec[metadsl_core.integer.Integer]], is_classmethod=True)\"]\n\t-1243740766112781561 -> -1634153577544591591\n\t-1634153577544591591 [label=\"metadsl_core.maybe.Maybe.nothing\"]\n\t-1243740766112781561 -> 5059787407900174674\n\t5059787407900174674 [label=\"metadsl_core.abstraction.Abstraction.__add__\"]\n\t5059787407900174674 -> 4272362841984695531\n\t4272362841984695531 [label=\"metadsl_core.abstraction.Abstraction.from_fn\"]\n\t4272362841984695531 -> 3018243047023466958\n\t3018243047023466958 [label=\"BoundInfer(fn=function Maybe.just at 0x10bfd20d0, owner=metadsl_core.maybe.Maybe[metadsl_core.numpy.NDArray], is_classmethod=True)\"]\n\t5059787407900174674 -> 8265815467192652237\n\t8265815467192652237 [label=\"metadsl_core.abstraction.Abstraction.from_fn\"]\n\t8265815467192652237 -> -6885157575476597440\n\t-6885157575476597440 [label=\"function NDArrayCompat.__getitem__.locals.lambda at 0x10ee30d90\"]\n}",
         "label": null,
         "rule": "metadsl_core.maybe.Maybe.map"
        },
        {
         "graph": "digraph {\n\t-8369929211869489657 [label=\"metadsl_core.numpy.NDArrayCompat.to_ndarray\"]\n\t-8369929211869489657 -> 7651895873987456113\n\t7651895873987456113 [label=\"metadsl_core.numpy.NDArrayCompat.from_ndarray\"]\n\t7651895873987456113 -> -6083112540082706529\n\t-6083112540082706529 [label=\"metadsl_core.maybe.Maybe.match\"]\n\t-6083112540082706529 -> 8008538582573657278\n\t8008538582573657278 [label=\"metadsl_core.maybe.Maybe.__and__\"]\n\t8008538582573657278 -> -4168009961457623335\n\t-4168009961457623335 [label=\"metadsl_core.conversion.Converter.convert\"]\n\t-4168009961457623335 -> 857657999680265138\n\t857657999680265138 [label=\"metadsl_core.numpy.NDArrayCompat.__add__\"]\n\t857657999680265138 -> 6972135441594515294\n\t6972135441594515294 [label=\"metadsl_core.numpy.NDArrayCompat.from_ndarray\"]\n\t6972135441594515294 -> 1737974526700541274\n\t1737974526700541274 [label=\"metadsl_core.maybe.Maybe.match\"]\n\t1737974526700541274 -> 6401238467075760220\n\t6401238467075760220 [label=\"metadsl_core.maybe.Maybe.just\"]\n\t6401238467075760220 -> -6348449952595699719\n\t-6348449952595699719 [label=\"metadsl_core.integer.Integer.from_int\"]\n\t-6348449952595699719 -> -3705275237864060643\n\t-3705275237864060643 [label=100]\n\t1737974526700541274 -> -1634153577544591591\n\t-1634153577544591591 [label=\"metadsl_core.maybe.Maybe.nothing\"]\n\t1737974526700541274 -> 9159629178130348007\n\t9159629178130348007 [label=\"metadsl_core.abstraction.Abstraction.__add__\"]\n\t9159629178130348007 -> 6114565741681856371\n\t6114565741681856371 [label=\"metadsl_core.abstraction.Abstraction.from_fn\"]\n\t6114565741681856371 -> 3018242429421303958\n\t3018242429421303958 [label=\"BoundInfer(fn=function Maybe.just at 0x10bfd20d0, owner=metadsl_core.maybe.Maybe[metadsl_core.numpy.NDArray], is_classmethod=True)\"]\n\t9159629178130348007 -> 4130506920816483144\n\t4130506920816483144 [label=\"metadsl_core.abstraction.Abstraction.from_fn\"]\n\t4130506920816483144 -> -7070438637286422905\n\t-7070438637286422905 [label=\"Infer(fn=function arange_ at 0x10ea01158)\"]\n\t857657999680265138 -> 4765036408123793029\n\t4765036408123793029 [label=\"metadsl_core.numpy.NDArrayCompat.from_ndarray\"]\n\t4765036408123793029 -> -6456102885800723638\n\t-6456102885800723638 [label=\"metadsl_core.maybe.Maybe.map\"]\n\t-6456102885800723638 -> 6401238467075760220\n\t-6456102885800723638 -> 4130506920816483144\n\t8008538582573657278 -> -3065567844852217470\n\t-3065567844852217470 [label=\"metadsl_core.maybe.Maybe.__or__\"]\n\t-3065567844852217470 -> 544185684138039748\n\t544185684138039748 [label=\"metadsl_core.maybe.Maybe.map\"]\n\t544185684138039748 -> 1661886770869584341\n\t1661886770869584341 [label=\"metadsl_core.maybe.Maybe.just\"]\n\t1661886770869584341 -> 4334974619117012171\n\t4334974619117012171 [label=\"metadsl_core.integer.Integer.from_int\"]\n\t4334974619117012171 -> -3705275237759055718\n\t-3705275237759055718 [label=5]\n\t544185684138039748 -> 6454593537056730818\n\t6454593537056730818 [label=\"metadsl_core.abstraction.Abstraction.from_fn\"]\n\t6454593537056730818 -> 3018242927304862158\n\t3018242927304862158 [label=\"BoundInfer(fn=function Either.left at 0x10bfd2378, owner=metadsl_core.either.Either[metadsl_core.integer.Integer, metadsl_core.vec.Vec[metadsl_core.integer.Integer]], is_classmethod=True)\"]\n\t-3065567844852217470 -> -6684767051708427860\n\t-6684767051708427860 [label=\"metadsl_core.maybe.Maybe.map\"]\n\t-6684767051708427860 -> 6263375678545427999\n\t6263375678545427999 [label=\"metadsl_core.conversion.Converter.convert\"]\n\t6263375678545427999 -> -3705275237759055718\n\t-6684767051708427860 -> 6857408431730447076\n\t6857408431730447076 [label=\"metadsl_core.abstraction.Abstraction.from_fn\"]\n\t6857408431730447076 -> 3018242039980770158\n\t3018242039980770158 [label=\"BoundInfer(fn=function Either.right at 0x10bfd27b8, owner=metadsl_core.either.Either[metadsl_core.integer.Integer, metadsl_core.vec.Vec[metadsl_core.integer.Integer]], is_classmethod=True)\"]\n\t-6083112540082706529 -> -1634153577544591591\n\t-6083112540082706529 -> 5059787407900174674\n\t5059787407900174674 [label=\"metadsl_core.abstraction.Abstraction.__add__\"]\n\t5059787407900174674 -> 4272362841984695531\n\t4272362841984695531 [label=\"metadsl_core.abstraction.Abstraction.from_fn\"]\n\t4272362841984695531 -> 3018243047023466958\n\t3018243047023466958 [label=\"BoundInfer(fn=function Maybe.just at 0x10bfd20d0, owner=metadsl_core.maybe.Maybe[metadsl_core.numpy.NDArray], is_classmethod=True)\"]\n\t5059787407900174674 -> 8265815467192652237\n\t8265815467192652237 [label=\"metadsl_core.abstraction.Abstraction.from_fn\"]\n\t8265815467192652237 -> -6885157575476597440\n\t-6885157575476597440 [label=\"function NDArrayCompat.__getitem__.locals.lambda at 0x10ee30d90\"]\n}",
         "label": null,
         "rule": "metadsl_core.maybe.Maybe.map"
        },
        {
         "graph": "digraph {\n\t7271560234293115856 [label=\"metadsl_core.numpy.NDArrayCompat.to_ndarray\"]\n\t7271560234293115856 -> 5737369450625328403\n\t5737369450625328403 [label=\"metadsl_core.numpy.NDArrayCompat.from_ndarray\"]\n\t5737369450625328403 -> -8143264301163155500\n\t-8143264301163155500 [label=\"metadsl_core.maybe.Maybe.match\"]\n\t-8143264301163155500 -> -4849498344857960329\n\t-4849498344857960329 [label=\"metadsl_core.maybe.Maybe.__and__\"]\n\t-4849498344857960329 -> 2299930531717607367\n\t2299930531717607367 [label=\"metadsl_core.conversion.Converter.convert\"]\n\t2299930531717607367 -> -3273178091022536511\n\t-3273178091022536511 [label=\"metadsl_core.numpy.NDArrayCompat.__add__\"]\n\t-3273178091022536511 -> -2846312234486127131\n\t-2846312234486127131 [label=\"metadsl_core.numpy.NDArrayCompat.from_ndarray\"]\n\t-2846312234486127131 -> 1963410389974075957\n\t1963410389974075957 [label=\"metadsl_core.abstraction.Abstraction.__call__\"]\n\t1963410389974075957 -> 3452482095462392902\n\t3452482095462392902 [label=\"metadsl_core.abstraction.Abstraction.__add__\"]\n\t3452482095462392902 -> -1341993166809735751\n\t-1341993166809735751 [label=\"metadsl_core.abstraction.Abstraction.from_fn\"]\n\t-1341993166809735751 -> 3018242187195509958\n\t3018242187195509958 [label=\"BoundInfer(fn=function Maybe.just at 0x10bfd20d0, owner=metadsl_core.maybe.Maybe[metadsl_core.numpy.NDArray], is_classmethod=True)\"]\n\t3452482095462392902 -> 4130506920816483144\n\t4130506920816483144 [label=\"metadsl_core.abstraction.Abstraction.from_fn\"]\n\t4130506920816483144 -> -7070438637286422905\n\t-7070438637286422905 [label=\"Infer(fn=function arange_ at 0x10ea01158)\"]\n\t1963410389974075957 -> -6348449952595699719\n\t-6348449952595699719 [label=\"metadsl_core.integer.Integer.from_int\"]\n\t-6348449952595699719 -> -3705275237864060643\n\t-3705275237864060643 [label=100]\n\t-3273178091022536511 -> 4765036408123793029\n\t4765036408123793029 [label=\"metadsl_core.numpy.NDArrayCompat.from_ndarray\"]\n\t4765036408123793029 -> -6456102885800723638\n\t-6456102885800723638 [label=\"metadsl_core.maybe.Maybe.map\"]\n\t-6456102885800723638 -> 6401238467075760220\n\t6401238467075760220 [label=\"metadsl_core.maybe.Maybe.just\"]\n\t6401238467075760220 -> -6348449952595699719\n\t-6456102885800723638 -> 4130506920816483144\n\t-4849498344857960329 -> -3065567844852217470\n\t-3065567844852217470 [label=\"metadsl_core.maybe.Maybe.__or__\"]\n\t-3065567844852217470 -> 544185684138039748\n\t544185684138039748 [label=\"metadsl_core.maybe.Maybe.map\"]\n\t544185684138039748 -> 1661886770869584341\n\t1661886770869584341 [label=\"metadsl_core.maybe.Maybe.just\"]\n\t1661886770869584341 -> 4334974619117012171\n\t4334974619117012171 [label=\"metadsl_core.integer.Integer.from_int\"]\n\t4334974619117012171 -> -3705275237759055718\n\t-3705275237759055718 [label=5]\n\t544185684138039748 -> 6454593537056730818\n\t6454593537056730818 [label=\"metadsl_core.abstraction.Abstraction.from_fn\"]\n\t6454593537056730818 -> 3018242927304862158\n\t3018242927304862158 [label=\"BoundInfer(fn=function Either.left at 0x10bfd2378, owner=metadsl_core.either.Either[metadsl_core.integer.Integer, metadsl_core.vec.Vec[metadsl_core.integer.Integer]], is_classmethod=True)\"]\n\t-3065567844852217470 -> -6684767051708427860\n\t-6684767051708427860 [label=\"metadsl_core.maybe.Maybe.map\"]\n\t-6684767051708427860 -> 6263375678545427999\n\t6263375678545427999 [label=\"metadsl_core.conversion.Converter.convert\"]\n\t6263375678545427999 -> -3705275237759055718\n\t-6684767051708427860 -> 6857408431730447076\n\t6857408431730447076 [label=\"metadsl_core.abstraction.Abstraction.from_fn\"]\n\t6857408431730447076 -> 3018242039980770158\n\t3018242039980770158 [label=\"BoundInfer(fn=function Either.right at 0x10bfd27b8, owner=metadsl_core.either.Either[metadsl_core.integer.Integer, metadsl_core.vec.Vec[metadsl_core.integer.Integer]], is_classmethod=True)\"]\n\t-8143264301163155500 -> -1634153577544591591\n\t-1634153577544591591 [label=\"metadsl_core.maybe.Maybe.nothing\"]\n\t-8143264301163155500 -> 5059787407900174674\n\t5059787407900174674 [label=\"metadsl_core.abstraction.Abstraction.__add__\"]\n\t5059787407900174674 -> 4272362841984695531\n\t4272362841984695531 [label=\"metadsl_core.abstraction.Abstraction.from_fn\"]\n\t4272362841984695531 -> 3018243047023466958\n\t3018243047023466958 [label=\"BoundInfer(fn=function Maybe.just at 0x10bfd20d0, owner=metadsl_core.maybe.Maybe[metadsl_core.numpy.NDArray], is_classmethod=True)\"]\n\t5059787407900174674 -> 8265815467192652237\n\t8265815467192652237 [label=\"metadsl_core.abstraction.Abstraction.from_fn\"]\n\t8265815467192652237 -> -6885157575476597440\n\t-6885157575476597440 [label=\"function NDArrayCompat.__getitem__.locals.lambda at 0x10ee30d90\"]\n}",
         "label": null,
         "rule": "metadsl_core.maybe.maybe_match"
        },
        {
         "graph": "digraph {\n\t-1555479550847644982 [label=\"metadsl_core.numpy.NDArrayCompat.to_ndarray\"]\n\t-1555479550847644982 -> 2375440658717845861\n\t2375440658717845861 [label=\"metadsl_core.numpy.NDArrayCompat.from_ndarray\"]\n\t2375440658717845861 -> 9221578626117848433\n\t9221578626117848433 [label=\"metadsl_core.maybe.Maybe.match\"]\n\t9221578626117848433 -> -8329122455373226007\n\t-8329122455373226007 [label=\"metadsl_core.maybe.Maybe.__and__\"]\n\t-8329122455373226007 -> 8884426332258714801\n\t8884426332258714801 [label=\"metadsl_core.conversion.Converter.convert\"]\n\t8884426332258714801 -> -3109166844965827647\n\t-3109166844965827647 [label=\"metadsl_core.numpy.NDArrayCompat.__add__\"]\n\t-3109166844965827647 -> -3538679045761175333\n\t-3538679045761175333 [label=\"metadsl_core.numpy.NDArrayCompat.from_ndarray\"]\n\t-3538679045761175333 -> 7757303258093800345\n\t7757303258093800345 [label=\"metadsl_core.abstraction.Abstraction.__call__\"]\n\t7757303258093800345 -> -8147870302302509425\n\t-8147870302302509425 [label=\"metadsl_core.abstraction.Abstraction.__add__\"]\n\t-8147870302302509425 -> 7449417502452493433\n\t7449417502452493433 [label=\"metadsl_core.abstraction.Abstraction.create\"]\n\t7449417502452493433 -> 6149618951892318412\n\t6149618951892318412 [label=\"metadsl_core.abstraction.Abstraction.create_variable\"]\n\t6149618951892318412 -> -6966490423956270220\n\t-6966490423956270220 [label=\"Variable(4545649576)\"]\n\t7449417502452493433 -> 5416547300024036577\n\t5416547300024036577 [label=\"metadsl_core.maybe.Maybe.just\"]\n\t5416547300024036577 -> 6149618951892318412\n\t-8147870302302509425 -> 4130506920816483144\n\t4130506920816483144 [label=\"metadsl_core.abstraction.Abstraction.from_fn\"]\n\t4130506920816483144 -> -7070438637286422905\n\t-7070438637286422905 [label=\"Infer(fn=function arange_ at 0x10ea01158)\"]\n\t7757303258093800345 -> -6348449952595699719\n\t-6348449952595699719 [label=\"metadsl_core.integer.Integer.from_int\"]\n\t-6348449952595699719 -> -3705275237864060643\n\t-3705275237864060643 [label=100]\n\t-3109166844965827647 -> 4765036408123793029\n\t4765036408123793029 [label=\"metadsl_core.numpy.NDArrayCompat.from_ndarray\"]\n\t4765036408123793029 -> -6456102885800723638\n\t-6456102885800723638 [label=\"metadsl_core.maybe.Maybe.map\"]\n\t-6456102885800723638 -> 6401238467075760220\n\t6401238467075760220 [label=\"metadsl_core.maybe.Maybe.just\"]\n\t6401238467075760220 -> -6348449952595699719\n\t-6456102885800723638 -> 4130506920816483144\n\t-8329122455373226007 -> -3065567844852217470\n\t-3065567844852217470 [label=\"metadsl_core.maybe.Maybe.__or__\"]\n\t-3065567844852217470 -> 544185684138039748\n\t544185684138039748 [label=\"metadsl_core.maybe.Maybe.map\"]\n\t544185684138039748 -> 1661886770869584341\n\t1661886770869584341 [label=\"metadsl_core.maybe.Maybe.just\"]\n\t1661886770869584341 -> 4334974619117012171\n\t4334974619117012171 [label=\"metadsl_core.integer.Integer.from_int\"]\n\t4334974619117012171 -> -3705275237759055718\n\t-3705275237759055718 [label=5]\n\t544185684138039748 -> 6454593537056730818\n\t6454593537056730818 [label=\"metadsl_core.abstraction.Abstraction.from_fn\"]\n\t6454593537056730818 -> 3018242927304862158\n\t3018242927304862158 [label=\"BoundInfer(fn=function Either.left at 0x10bfd2378, owner=metadsl_core.either.Either[metadsl_core.integer.Integer, metadsl_core.vec.Vec[metadsl_core.integer.Integer]], is_classmethod=True)\"]\n\t-3065567844852217470 -> -6684767051708427860\n\t-6684767051708427860 [label=\"metadsl_core.maybe.Maybe.map\"]\n\t-6684767051708427860 -> 6263375678545427999\n\t6263375678545427999 [label=\"metadsl_core.conversion.Converter.convert\"]\n\t6263375678545427999 -> -3705275237759055718\n\t-6684767051708427860 -> 6857408431730447076\n\t6857408431730447076 [label=\"metadsl_core.abstraction.Abstraction.from_fn\"]\n\t6857408431730447076 -> 3018242039980770158\n\t3018242039980770158 [label=\"BoundInfer(fn=function Either.right at 0x10bfd27b8, owner=metadsl_core.either.Either[metadsl_core.integer.Integer, metadsl_core.vec.Vec[metadsl_core.integer.Integer]], is_classmethod=True)\"]\n\t9221578626117848433 -> -1634153577544591591\n\t-1634153577544591591 [label=\"metadsl_core.maybe.Maybe.nothing\"]\n\t9221578626117848433 -> 5059787407900174674\n\t5059787407900174674 [label=\"metadsl_core.abstraction.Abstraction.__add__\"]\n\t5059787407900174674 -> 4272362841984695531\n\t4272362841984695531 [label=\"metadsl_core.abstraction.Abstraction.from_fn\"]\n\t4272362841984695531 -> 3018243047023466958\n\t3018243047023466958 [label=\"BoundInfer(fn=function Maybe.just at 0x10bfd20d0, owner=metadsl_core.maybe.Maybe[metadsl_core.numpy.NDArray], is_classmethod=True)\"]\n\t5059787407900174674 -> 8265815467192652237\n\t8265815467192652237 [label=\"metadsl_core.abstraction.Abstraction.from_fn\"]\n\t8265815467192652237 -> -6885157575476597440\n\t-6885157575476597440 [label=\"function NDArrayCompat.__getitem__.locals.lambda at 0x10ee30d90\"]\n}",
         "label": null,
         "rule": "metadsl_core.abstraction.Abstraction.from_fn"
        },
        {
         "graph": "digraph {\n\t4494140152710335761 [label=\"metadsl_core.numpy.NDArrayCompat.to_ndarray\"]\n\t4494140152710335761 -> -4237101555765822251\n\t-4237101555765822251 [label=\"metadsl_core.numpy.NDArrayCompat.from_ndarray\"]\n\t-4237101555765822251 -> 1075640763963007206\n\t1075640763963007206 [label=\"metadsl_core.maybe.Maybe.match\"]\n\t1075640763963007206 -> -7681213978858394122\n\t-7681213978858394122 [label=\"metadsl_core.maybe.Maybe.__and__\"]\n\t-7681213978858394122 -> -9209364258505767416\n\t-9209364258505767416 [label=\"metadsl_core.conversion.Converter.convert\"]\n\t-9209364258505767416 -> 8418099048549819643\n\t8418099048549819643 [label=\"metadsl_core.numpy.NDArrayCompat.__add__\"]\n\t8418099048549819643 -> -282689165681493878\n\t-282689165681493878 [label=\"metadsl_core.numpy.NDArrayCompat.from_ndarray\"]\n\t-282689165681493878 -> 7933754380155337296\n\t7933754380155337296 [label=\"metadsl_core.abstraction.Abstraction.__call__\"]\n\t7933754380155337296 -> -6377803081903497239\n\t-6377803081903497239 [label=\"metadsl_core.abstraction.Abstraction.__add__\"]\n\t-6377803081903497239 -> 7449417502452493433\n\t7449417502452493433 [label=\"metadsl_core.abstraction.Abstraction.create\"]\n\t7449417502452493433 -> 6149618951892318412\n\t6149618951892318412 [label=\"metadsl_core.abstraction.Abstraction.create_variable\"]\n\t6149618951892318412 -> -6966490423956270220\n\t-6966490423956270220 [label=\"Variable(4545649576)\"]\n\t7449417502452493433 -> 5416547300024036577\n\t5416547300024036577 [label=\"metadsl_core.maybe.Maybe.just\"]\n\t5416547300024036577 -> 6149618951892318412\n\t-6377803081903497239 -> 4792802093755057986\n\t4792802093755057986 [label=\"metadsl_core.abstraction.Abstraction.create\"]\n\t4792802093755057986 -> -3046332138756787847\n\t-3046332138756787847 [label=\"metadsl_core.abstraction.Abstraction.create_variable\"]\n\t-3046332138756787847 -> 2256881620583350563\n\t2256881620583350563 [label=\"Variable(4545533936)\"]\n\t4792802093755057986 -> 7835717056820988225\n\t7835717056820988225 [label=\"metadsl_core.numpy.arange_\"]\n\t7835717056820988225 -> -3046332138756787847\n\t7933754380155337296 -> -6348449952595699719\n\t-6348449952595699719 [label=\"metadsl_core.integer.Integer.from_int\"]\n\t-6348449952595699719 -> -3705275237864060643\n\t-3705275237864060643 [label=100]\n\t8418099048549819643 -> 4765036408123793029\n\t4765036408123793029 [label=\"metadsl_core.numpy.NDArrayCompat.from_ndarray\"]\n\t4765036408123793029 -> -6456102885800723638\n\t-6456102885800723638 [label=\"metadsl_core.maybe.Maybe.map\"]\n\t-6456102885800723638 -> 6401238467075760220\n\t6401238467075760220 [label=\"metadsl_core.maybe.Maybe.just\"]\n\t6401238467075760220 -> -6348449952595699719\n\t-6456102885800723638 -> 4130506920816483144\n\t4130506920816483144 [label=\"metadsl_core.abstraction.Abstraction.from_fn\"]\n\t4130506920816483144 -> -7070438637286422905\n\t-7070438637286422905 [label=\"Infer(fn=function arange_ at 0x10ea01158)\"]\n\t-7681213978858394122 -> -3065567844852217470\n\t-3065567844852217470 [label=\"metadsl_core.maybe.Maybe.__or__\"]\n\t-3065567844852217470 -> 544185684138039748\n\t544185684138039748 [label=\"metadsl_core.maybe.Maybe.map\"]\n\t544185684138039748 -> 1661886770869584341\n\t1661886770869584341 [label=\"metadsl_core.maybe.Maybe.just\"]\n\t1661886770869584341 -> 4334974619117012171\n\t4334974619117012171 [label=\"metadsl_core.integer.Integer.from_int\"]\n\t4334974619117012171 -> -3705275237759055718\n\t-3705275237759055718 [label=5]\n\t544185684138039748 -> 6454593537056730818\n\t6454593537056730818 [label=\"metadsl_core.abstraction.Abstraction.from_fn\"]\n\t6454593537056730818 -> 3018242927304862158\n\t3018242927304862158 [label=\"BoundInfer(fn=function Either.left at 0x10bfd2378, owner=metadsl_core.either.Either[metadsl_core.integer.Integer, metadsl_core.vec.Vec[metadsl_core.integer.Integer]], is_classmethod=True)\"]\n\t-3065567844852217470 -> -6684767051708427860\n\t-6684767051708427860 [label=\"metadsl_core.maybe.Maybe.map\"]\n\t-6684767051708427860 -> 6263375678545427999\n\t6263375678545427999 [label=\"metadsl_core.conversion.Converter.convert\"]\n\t6263375678545427999 -> -3705275237759055718\n\t-6684767051708427860 -> 6857408431730447076\n\t6857408431730447076 [label=\"metadsl_core.abstraction.Abstraction.from_fn\"]\n\t6857408431730447076 -> 3018242039980770158\n\t3018242039980770158 [label=\"BoundInfer(fn=function Either.right at 0x10bfd27b8, owner=metadsl_core.either.Either[metadsl_core.integer.Integer, metadsl_core.vec.Vec[metadsl_core.integer.Integer]], is_classmethod=True)\"]\n\t1075640763963007206 -> -1634153577544591591\n\t-1634153577544591591 [label=\"metadsl_core.maybe.Maybe.nothing\"]\n\t1075640763963007206 -> 5059787407900174674\n\t5059787407900174674 [label=\"metadsl_core.abstraction.Abstraction.__add__\"]\n\t5059787407900174674 -> 4272362841984695531\n\t4272362841984695531 [label=\"metadsl_core.abstraction.Abstraction.from_fn\"]\n\t4272362841984695531 -> 3018243047023466958\n\t3018243047023466958 [label=\"BoundInfer(fn=function Maybe.just at 0x10bfd20d0, owner=metadsl_core.maybe.Maybe[metadsl_core.numpy.NDArray], is_classmethod=True)\"]\n\t5059787407900174674 -> 8265815467192652237\n\t8265815467192652237 [label=\"metadsl_core.abstraction.Abstraction.from_fn\"]\n\t8265815467192652237 -> -6885157575476597440\n\t-6885157575476597440 [label=\"function NDArrayCompat.__getitem__.locals.lambda at 0x10ee30d90\"]\n}",
         "label": null,
         "rule": "metadsl_core.abstraction.Abstraction.from_fn"
        },
        {
         "graph": "digraph {\n\t8634361753103059848 [label=\"metadsl_core.numpy.NDArrayCompat.to_ndarray\"]\n\t8634361753103059848 -> -1898001187271983690\n\t-1898001187271983690 [label=\"metadsl_core.numpy.NDArrayCompat.from_ndarray\"]\n\t-1898001187271983690 -> 4610797461740834446\n\t4610797461740834446 [label=\"metadsl_core.maybe.Maybe.match\"]\n\t4610797461740834446 -> 8288467036774474767\n\t8288467036774474767 [label=\"metadsl_core.maybe.Maybe.__and__\"]\n\t8288467036774474767 -> 1904015705664729409\n\t1904015705664729409 [label=\"metadsl_core.conversion.Converter.convert\"]\n\t1904015705664729409 -> 1926397118015448077\n\t1926397118015448077 [label=\"metadsl_core.numpy.NDArrayCompat.__add__\"]\n\t1926397118015448077 -> -3697584573641454336\n\t-3697584573641454336 [label=\"metadsl_core.numpy.NDArrayCompat.from_ndarray\"]\n\t-3697584573641454336 -> 8416461325375425526\n\t8416461325375425526 [label=\"metadsl_core.abstraction.Abstraction.__call__\"]\n\t8416461325375425526 -> 9055488280007138875\n\t9055488280007138875 [label=\"metadsl_core.abstraction.Abstraction.create\"]\n\t9055488280007138875 -> -3046332138756787847\n\t-3046332138756787847 [label=\"metadsl_core.abstraction.Abstraction.create_variable\"]\n\t-3046332138756787847 -> 2256881620583350563\n\t2256881620583350563 [label=\"Variable(4545533936)\"]\n\t9055488280007138875 -> 6225072880029029427\n\t6225072880029029427 [label=\"metadsl_core.maybe.Maybe.just\"]\n\t6225072880029029427 -> 7835717056820988225\n\t7835717056820988225 [label=\"metadsl_core.numpy.arange_\"]\n\t7835717056820988225 -> -3046332138756787847\n\t8416461325375425526 -> -6348449952595699719\n\t-6348449952595699719 [label=\"metadsl_core.integer.Integer.from_int\"]\n\t-6348449952595699719 -> -3705275237864060643\n\t-3705275237864060643 [label=100]\n\t1926397118015448077 -> 4765036408123793029\n\t4765036408123793029 [label=\"metadsl_core.numpy.NDArrayCompat.from_ndarray\"]\n\t4765036408123793029 -> -6456102885800723638\n\t-6456102885800723638 [label=\"metadsl_core.maybe.Maybe.map\"]\n\t-6456102885800723638 -> 6401238467075760220\n\t6401238467075760220 [label=\"metadsl_core.maybe.Maybe.just\"]\n\t6401238467075760220 -> -6348449952595699719\n\t-6456102885800723638 -> 4130506920816483144\n\t4130506920816483144 [label=\"metadsl_core.abstraction.Abstraction.from_fn\"]\n\t4130506920816483144 -> -7070438637286422905\n\t-7070438637286422905 [label=\"Infer(fn=function arange_ at 0x10ea01158)\"]\n\t8288467036774474767 -> -3065567844852217470\n\t-3065567844852217470 [label=\"metadsl_core.maybe.Maybe.__or__\"]\n\t-3065567844852217470 -> 544185684138039748\n\t544185684138039748 [label=\"metadsl_core.maybe.Maybe.map\"]\n\t544185684138039748 -> 1661886770869584341\n\t1661886770869584341 [label=\"metadsl_core.maybe.Maybe.just\"]\n\t1661886770869584341 -> 4334974619117012171\n\t4334974619117012171 [label=\"metadsl_core.integer.Integer.from_int\"]\n\t4334974619117012171 -> -3705275237759055718\n\t-3705275237759055718 [label=5]\n\t544185684138039748 -> 6454593537056730818\n\t6454593537056730818 [label=\"metadsl_core.abstraction.Abstraction.from_fn\"]\n\t6454593537056730818 -> 3018242927304862158\n\t3018242927304862158 [label=\"BoundInfer(fn=function Either.left at 0x10bfd2378, owner=metadsl_core.either.Either[metadsl_core.integer.Integer, metadsl_core.vec.Vec[metadsl_core.integer.Integer]], is_classmethod=True)\"]\n\t-3065567844852217470 -> -6684767051708427860\n\t-6684767051708427860 [label=\"metadsl_core.maybe.Maybe.map\"]\n\t-6684767051708427860 -> 6263375678545427999\n\t6263375678545427999 [label=\"metadsl_core.conversion.Converter.convert\"]\n\t6263375678545427999 -> -3705275237759055718\n\t-6684767051708427860 -> 6857408431730447076\n\t6857408431730447076 [label=\"metadsl_core.abstraction.Abstraction.from_fn\"]\n\t6857408431730447076 -> 3018242039980770158\n\t3018242039980770158 [label=\"BoundInfer(fn=function Either.right at 0x10bfd27b8, owner=metadsl_core.either.Either[metadsl_core.integer.Integer, metadsl_core.vec.Vec[metadsl_core.integer.Integer]], is_classmethod=True)\"]\n\t4610797461740834446 -> -1634153577544591591\n\t-1634153577544591591 [label=\"metadsl_core.maybe.Maybe.nothing\"]\n\t4610797461740834446 -> 5059787407900174674\n\t5059787407900174674 [label=\"metadsl_core.abstraction.Abstraction.__add__\"]\n\t5059787407900174674 -> 4272362841984695531\n\t4272362841984695531 [label=\"metadsl_core.abstraction.Abstraction.from_fn\"]\n\t4272362841984695531 -> 3018243047023466958\n\t3018243047023466958 [label=\"BoundInfer(fn=function Maybe.just at 0x10bfd20d0, owner=metadsl_core.maybe.Maybe[metadsl_core.numpy.NDArray], is_classmethod=True)\"]\n\t5059787407900174674 -> 8265815467192652237\n\t8265815467192652237 [label=\"metadsl_core.abstraction.Abstraction.from_fn\"]\n\t8265815467192652237 -> -6885157575476597440\n\t-6885157575476597440 [label=\"function NDArrayCompat.__getitem__.locals.lambda at 0x10ee30d90\"]\n}",
         "label": null,
         "rule": "metadsl_core.abstraction.compose"
        },
        {
         "graph": "digraph {\n\t6933985692273522389 [label=\"metadsl_core.numpy.NDArrayCompat.to_ndarray\"]\n\t6933985692273522389 -> 7554469586199218570\n\t7554469586199218570 [label=\"metadsl_core.numpy.NDArrayCompat.from_ndarray\"]\n\t7554469586199218570 -> -407846913662410158\n\t-407846913662410158 [label=\"metadsl_core.maybe.Maybe.match\"]\n\t-407846913662410158 -> -6834064345285038396\n\t-6834064345285038396 [label=\"metadsl_core.maybe.Maybe.__and__\"]\n\t-6834064345285038396 -> 7433198376928197925\n\t7433198376928197925 [label=\"metadsl_core.conversion.Converter.convert\"]\n\t7433198376928197925 -> -5969105519526623034\n\t-5969105519526623034 [label=\"metadsl_core.numpy.NDArrayCompat.__add__\"]\n\t-5969105519526623034 -> -5419148412288663401\n\t-5419148412288663401 [label=\"metadsl_core.numpy.NDArrayCompat.from_ndarray\"]\n\t-5419148412288663401 -> -7338046998780095632\n\t-7338046998780095632 [label=\"metadsl_core.maybe.Maybe.just\"]\n\t-7338046998780095632 -> 676902453469965611\n\t676902453469965611 [label=\"metadsl_core.numpy.arange_\"]\n\t676902453469965611 -> -6348449952595699719\n\t-6348449952595699719 [label=\"metadsl_core.integer.Integer.from_int\"]\n\t-6348449952595699719 -> -3705275237864060643\n\t-3705275237864060643 [label=100]\n\t-5969105519526623034 -> 4765036408123793029\n\t4765036408123793029 [label=\"metadsl_core.numpy.NDArrayCompat.from_ndarray\"]\n\t4765036408123793029 -> -6456102885800723638\n\t-6456102885800723638 [label=\"metadsl_core.maybe.Maybe.map\"]\n\t-6456102885800723638 -> 6401238467075760220\n\t6401238467075760220 [label=\"metadsl_core.maybe.Maybe.just\"]\n\t6401238467075760220 -> -6348449952595699719\n\t-6456102885800723638 -> 4130506920816483144\n\t4130506920816483144 [label=\"metadsl_core.abstraction.Abstraction.from_fn\"]\n\t4130506920816483144 -> -7070438637286422905\n\t-7070438637286422905 [label=\"Infer(fn=function arange_ at 0x10ea01158)\"]\n\t-6834064345285038396 -> -3065567844852217470\n\t-3065567844852217470 [label=\"metadsl_core.maybe.Maybe.__or__\"]\n\t-3065567844852217470 -> 544185684138039748\n\t544185684138039748 [label=\"metadsl_core.maybe.Maybe.map\"]\n\t544185684138039748 -> 1661886770869584341\n\t1661886770869584341 [label=\"metadsl_core.maybe.Maybe.just\"]\n\t1661886770869584341 -> 4334974619117012171\n\t4334974619117012171 [label=\"metadsl_core.integer.Integer.from_int\"]\n\t4334974619117012171 -> -3705275237759055718\n\t-3705275237759055718 [label=5]\n\t544185684138039748 -> 6454593537056730818\n\t6454593537056730818 [label=\"metadsl_core.abstraction.Abstraction.from_fn\"]\n\t6454593537056730818 -> 3018242927304862158\n\t3018242927304862158 [label=\"BoundInfer(fn=function Either.left at 0x10bfd2378, owner=metadsl_core.either.Either[metadsl_core.integer.Integer, metadsl_core.vec.Vec[metadsl_core.integer.Integer]], is_classmethod=True)\"]\n\t-3065567844852217470 -> -6684767051708427860\n\t-6684767051708427860 [label=\"metadsl_core.maybe.Maybe.map\"]\n\t-6684767051708427860 -> 6263375678545427999\n\t6263375678545427999 [label=\"metadsl_core.conversion.Converter.convert\"]\n\t6263375678545427999 -> -3705275237759055718\n\t-6684767051708427860 -> 6857408431730447076\n\t6857408431730447076 [label=\"metadsl_core.abstraction.Abstraction.from_fn\"]\n\t6857408431730447076 -> 3018242039980770158\n\t3018242039980770158 [label=\"BoundInfer(fn=function Either.right at 0x10bfd27b8, owner=metadsl_core.either.Either[metadsl_core.integer.Integer, metadsl_core.vec.Vec[metadsl_core.integer.Integer]], is_classmethod=True)\"]\n\t-407846913662410158 -> -1634153577544591591\n\t-1634153577544591591 [label=\"metadsl_core.maybe.Maybe.nothing\"]\n\t-407846913662410158 -> 5059787407900174674\n\t5059787407900174674 [label=\"metadsl_core.abstraction.Abstraction.__add__\"]\n\t5059787407900174674 -> 4272362841984695531\n\t4272362841984695531 [label=\"metadsl_core.abstraction.Abstraction.from_fn\"]\n\t4272362841984695531 -> 3018243047023466958\n\t3018243047023466958 [label=\"BoundInfer(fn=function Maybe.just at 0x10bfd20d0, owner=metadsl_core.maybe.Maybe[metadsl_core.numpy.NDArray], is_classmethod=True)\"]\n\t5059787407900174674 -> 8265815467192652237\n\t8265815467192652237 [label=\"metadsl_core.abstraction.Abstraction.from_fn\"]\n\t8265815467192652237 -> -6885157575476597440\n\t-6885157575476597440 [label=\"function NDArrayCompat.__getitem__.locals.lambda at 0x10ee30d90\"]\n}",
         "label": null,
         "rule": "metadsl_core.abstraction.beta_reduce"
        },
        {
         "graph": "digraph {\n\t-3915034430366087560 [label=\"metadsl_core.numpy.NDArrayCompat.to_ndarray\"]\n\t-3915034430366087560 -> 5380498449980754640\n\t5380498449980754640 [label=\"metadsl_core.numpy.NDArrayCompat.from_ndarray\"]\n\t5380498449980754640 -> 5083150386011111200\n\t5083150386011111200 [label=\"metadsl_core.maybe.Maybe.match\"]\n\t5083150386011111200 -> -3111937144441253824\n\t-3111937144441253824 [label=\"metadsl_core.maybe.Maybe.__and__\"]\n\t-3111937144441253824 -> 4616044433530469158\n\t4616044433530469158 [label=\"metadsl_core.conversion.Converter.convert\"]\n\t4616044433530469158 -> 3910610822912448689\n\t3910610822912448689 [label=\"metadsl_core.numpy.NDArrayCompat.__add__\"]\n\t3910610822912448689 -> -5419148412288663401\n\t-5419148412288663401 [label=\"metadsl_core.numpy.NDArrayCompat.from_ndarray\"]\n\t-5419148412288663401 -> -7338046998780095632\n\t-7338046998780095632 [label=\"metadsl_core.maybe.Maybe.just\"]\n\t-7338046998780095632 -> 676902453469965611\n\t676902453469965611 [label=\"metadsl_core.numpy.arange_\"]\n\t676902453469965611 -> -6348449952595699719\n\t-6348449952595699719 [label=\"metadsl_core.integer.Integer.from_int\"]\n\t-6348449952595699719 -> -3705275237864060643\n\t-3705275237864060643 [label=100]\n\t3910610822912448689 -> 1247254780946579243\n\t1247254780946579243 [label=\"metadsl_core.numpy.NDArrayCompat.from_ndarray\"]\n\t1247254780946579243 -> -3730167305670284876\n\t-3730167305670284876 [label=\"metadsl_core.maybe.Maybe.match\"]\n\t-3730167305670284876 -> 6401238467075760220\n\t6401238467075760220 [label=\"metadsl_core.maybe.Maybe.just\"]\n\t6401238467075760220 -> -6348449952595699719\n\t-3730167305670284876 -> -1634153577544591591\n\t-1634153577544591591 [label=\"metadsl_core.maybe.Maybe.nothing\"]\n\t-3730167305670284876 -> -7020439922634947106\n\t-7020439922634947106 [label=\"metadsl_core.abstraction.Abstraction.__add__\"]\n\t-7020439922634947106 -> -2281607992388475311\n\t-2281607992388475311 [label=\"metadsl_core.abstraction.Abstraction.from_fn\"]\n\t-2281607992388475311 -> 3018244073776778958\n\t3018244073776778958 [label=\"BoundInfer(fn=function Maybe.just at 0x10bfd20d0, owner=metadsl_core.maybe.Maybe[metadsl_core.numpy.NDArray], is_classmethod=True)\"]\n\t-7020439922634947106 -> 4130506920816483144\n\t4130506920816483144 [label=\"metadsl_core.abstraction.Abstraction.from_fn\"]\n\t4130506920816483144 -> -7070438637286422905\n\t-7070438637286422905 [label=\"Infer(fn=function arange_ at 0x10ea01158)\"]\n\t-3111937144441253824 -> -3065567844852217470\n\t-3065567844852217470 [label=\"metadsl_core.maybe.Maybe.__or__\"]\n\t-3065567844852217470 -> 544185684138039748\n\t544185684138039748 [label=\"metadsl_core.maybe.Maybe.map\"]\n\t544185684138039748 -> 1661886770869584341\n\t1661886770869584341 [label=\"metadsl_core.maybe.Maybe.just\"]\n\t1661886770869584341 -> 4334974619117012171\n\t4334974619117012171 [label=\"metadsl_core.integer.Integer.from_int\"]\n\t4334974619117012171 -> -3705275237759055718\n\t-3705275237759055718 [label=5]\n\t544185684138039748 -> 6454593537056730818\n\t6454593537056730818 [label=\"metadsl_core.abstraction.Abstraction.from_fn\"]\n\t6454593537056730818 -> 3018242927304862158\n\t3018242927304862158 [label=\"BoundInfer(fn=function Either.left at 0x10bfd2378, owner=metadsl_core.either.Either[metadsl_core.integer.Integer, metadsl_core.vec.Vec[metadsl_core.integer.Integer]], is_classmethod=True)\"]\n\t-3065567844852217470 -> -6684767051708427860\n\t-6684767051708427860 [label=\"metadsl_core.maybe.Maybe.map\"]\n\t-6684767051708427860 -> 6263375678545427999\n\t6263375678545427999 [label=\"metadsl_core.conversion.Converter.convert\"]\n\t6263375678545427999 -> -3705275237759055718\n\t-6684767051708427860 -> 6857408431730447076\n\t6857408431730447076 [label=\"metadsl_core.abstraction.Abstraction.from_fn\"]\n\t6857408431730447076 -> 3018242039980770158\n\t3018242039980770158 [label=\"BoundInfer(fn=function Either.right at 0x10bfd27b8, owner=metadsl_core.either.Either[metadsl_core.integer.Integer, metadsl_core.vec.Vec[metadsl_core.integer.Integer]], is_classmethod=True)\"]\n\t5083150386011111200 -> -1634153577544591591\n\t5083150386011111200 -> 5059787407900174674\n\t5059787407900174674 [label=\"metadsl_core.abstraction.Abstraction.__add__\"]\n\t5059787407900174674 -> 4272362841984695531\n\t4272362841984695531 [label=\"metadsl_core.abstraction.Abstraction.from_fn\"]\n\t4272362841984695531 -> 3018243047023466958\n\t3018243047023466958 [label=\"BoundInfer(fn=function Maybe.just at 0x10bfd20d0, owner=metadsl_core.maybe.Maybe[metadsl_core.numpy.NDArray], is_classmethod=True)\"]\n\t5059787407900174674 -> 8265815467192652237\n\t8265815467192652237 [label=\"metadsl_core.abstraction.Abstraction.from_fn\"]\n\t8265815467192652237 -> -6885157575476597440\n\t-6885157575476597440 [label=\"function NDArrayCompat.__getitem__.locals.lambda at 0x10ee30d90\"]\n}",
         "label": null,
         "rule": "metadsl_core.maybe.Maybe.map"
        },
        {
         "graph": "digraph {\n\t3782781951538296725 [label=\"metadsl_core.numpy.NDArrayCompat.to_ndarray\"]\n\t3782781951538296725 -> 394985736623645995\n\t394985736623645995 [label=\"metadsl_core.numpy.NDArrayCompat.from_ndarray\"]\n\t394985736623645995 -> -3890336536913981409\n\t-3890336536913981409 [label=\"metadsl_core.maybe.Maybe.match\"]\n\t-3890336536913981409 -> -9032815261277398513\n\t-9032815261277398513 [label=\"metadsl_core.maybe.Maybe.__and__\"]\n\t-9032815261277398513 -> 5198292150105483290\n\t5198292150105483290 [label=\"metadsl_core.conversion.Converter.convert\"]\n\t5198292150105483290 -> -5189436288501258551\n\t-5189436288501258551 [label=\"metadsl_core.numpy.NDArrayCompat.__add__\"]\n\t-5189436288501258551 -> -5419148412288663401\n\t-5419148412288663401 [label=\"metadsl_core.numpy.NDArrayCompat.from_ndarray\"]\n\t-5419148412288663401 -> -7338046998780095632\n\t-7338046998780095632 [label=\"metadsl_core.maybe.Maybe.just\"]\n\t-7338046998780095632 -> 676902453469965611\n\t676902453469965611 [label=\"metadsl_core.numpy.arange_\"]\n\t676902453469965611 -> -6348449952595699719\n\t-6348449952595699719 [label=\"metadsl_core.integer.Integer.from_int\"]\n\t-6348449952595699719 -> -3705275237864060643\n\t-3705275237864060643 [label=100]\n\t-5189436288501258551 -> 8236989180637702588\n\t8236989180637702588 [label=\"metadsl_core.numpy.NDArrayCompat.from_ndarray\"]\n\t8236989180637702588 -> -6754449211692554842\n\t-6754449211692554842 [label=\"metadsl_core.abstraction.Abstraction.__call__\"]\n\t-6754449211692554842 -> 2093857063603561716\n\t2093857063603561716 [label=\"metadsl_core.abstraction.Abstraction.__add__\"]\n\t2093857063603561716 -> -1227080768804673062\n\t-1227080768804673062 [label=\"metadsl_core.abstraction.Abstraction.from_fn\"]\n\t-1227080768804673062 -> 3018244143084359558\n\t3018244143084359558 [label=\"BoundInfer(fn=function Maybe.just at 0x10bfd20d0, owner=metadsl_core.maybe.Maybe[metadsl_core.numpy.NDArray], is_classmethod=True)\"]\n\t2093857063603561716 -> 4130506920816483144\n\t4130506920816483144 [label=\"metadsl_core.abstraction.Abstraction.from_fn\"]\n\t4130506920816483144 -> -7070438637286422905\n\t-7070438637286422905 [label=\"Infer(fn=function arange_ at 0x10ea01158)\"]\n\t-6754449211692554842 -> -6348449952595699719\n\t-9032815261277398513 -> -3065567844852217470\n\t-3065567844852217470 [label=\"metadsl_core.maybe.Maybe.__or__\"]\n\t-3065567844852217470 -> 544185684138039748\n\t544185684138039748 [label=\"metadsl_core.maybe.Maybe.map\"]\n\t544185684138039748 -> 1661886770869584341\n\t1661886770869584341 [label=\"metadsl_core.maybe.Maybe.just\"]\n\t1661886770869584341 -> 4334974619117012171\n\t4334974619117012171 [label=\"metadsl_core.integer.Integer.from_int\"]\n\t4334974619117012171 -> -3705275237759055718\n\t-3705275237759055718 [label=5]\n\t544185684138039748 -> 6454593537056730818\n\t6454593537056730818 [label=\"metadsl_core.abstraction.Abstraction.from_fn\"]\n\t6454593537056730818 -> 3018242927304862158\n\t3018242927304862158 [label=\"BoundInfer(fn=function Either.left at 0x10bfd2378, owner=metadsl_core.either.Either[metadsl_core.integer.Integer, metadsl_core.vec.Vec[metadsl_core.integer.Integer]], is_classmethod=True)\"]\n\t-3065567844852217470 -> -6684767051708427860\n\t-6684767051708427860 [label=\"metadsl_core.maybe.Maybe.map\"]\n\t-6684767051708427860 -> 6263375678545427999\n\t6263375678545427999 [label=\"metadsl_core.conversion.Converter.convert\"]\n\t6263375678545427999 -> -3705275237759055718\n\t-6684767051708427860 -> 6857408431730447076\n\t6857408431730447076 [label=\"metadsl_core.abstraction.Abstraction.from_fn\"]\n\t6857408431730447076 -> 3018242039980770158\n\t3018242039980770158 [label=\"BoundInfer(fn=function Either.right at 0x10bfd27b8, owner=metadsl_core.either.Either[metadsl_core.integer.Integer, metadsl_core.vec.Vec[metadsl_core.integer.Integer]], is_classmethod=True)\"]\n\t-3890336536913981409 -> -1634153577544591591\n\t-1634153577544591591 [label=\"metadsl_core.maybe.Maybe.nothing\"]\n\t-3890336536913981409 -> 5059787407900174674\n\t5059787407900174674 [label=\"metadsl_core.abstraction.Abstraction.__add__\"]\n\t5059787407900174674 -> 4272362841984695531\n\t4272362841984695531 [label=\"metadsl_core.abstraction.Abstraction.from_fn\"]\n\t4272362841984695531 -> 3018243047023466958\n\t3018243047023466958 [label=\"BoundInfer(fn=function Maybe.just at 0x10bfd20d0, owner=metadsl_core.maybe.Maybe[metadsl_core.numpy.NDArray], is_classmethod=True)\"]\n\t5059787407900174674 -> 8265815467192652237\n\t8265815467192652237 [label=\"metadsl_core.abstraction.Abstraction.from_fn\"]\n\t8265815467192652237 -> -6885157575476597440\n\t-6885157575476597440 [label=\"function NDArrayCompat.__getitem__.locals.lambda at 0x10ee30d90\"]\n}",
         "label": null,
         "rule": "metadsl_core.maybe.maybe_match"
        },
        {
         "graph": "digraph {\n\t-7564184822257848758 [label=\"metadsl_core.numpy.NDArrayCompat.to_ndarray\"]\n\t-7564184822257848758 -> 3036702535422257921\n\t3036702535422257921 [label=\"metadsl_core.numpy.NDArrayCompat.from_ndarray\"]\n\t3036702535422257921 -> -7785118343808748278\n\t-7785118343808748278 [label=\"metadsl_core.maybe.Maybe.match\"]\n\t-7785118343808748278 -> 7089816306816462651\n\t7089816306816462651 [label=\"metadsl_core.maybe.Maybe.__and__\"]\n\t7089816306816462651 -> -6108590015193548769\n\t-6108590015193548769 [label=\"metadsl_core.conversion.Converter.convert\"]\n\t-6108590015193548769 -> -3108844074970824418\n\t-3108844074970824418 [label=\"metadsl_core.numpy.NDArrayCompat.__add__\"]\n\t-3108844074970824418 -> -5419148412288663401\n\t-5419148412288663401 [label=\"metadsl_core.numpy.NDArrayCompat.from_ndarray\"]\n\t-5419148412288663401 -> -7338046998780095632\n\t-7338046998780095632 [label=\"metadsl_core.maybe.Maybe.just\"]\n\t-7338046998780095632 -> 676902453469965611\n\t676902453469965611 [label=\"metadsl_core.numpy.arange_\"]\n\t676902453469965611 -> -6348449952595699719\n\t-6348449952595699719 [label=\"metadsl_core.integer.Integer.from_int\"]\n\t-6348449952595699719 -> -3705275237864060643\n\t-3705275237864060643 [label=100]\n\t-3108844074970824418 -> -4659819999199575490\n\t-4659819999199575490 [label=\"metadsl_core.numpy.NDArrayCompat.from_ndarray\"]\n\t-4659819999199575490 -> -8336386247068415680\n\t-8336386247068415680 [label=\"metadsl_core.abstraction.Abstraction.__call__\"]\n\t-8336386247068415680 -> 9113721034414090785\n\t9113721034414090785 [label=\"metadsl_core.abstraction.Abstraction.__add__\"]\n\t9113721034414090785 -> -5198982805348015754\n\t-5198982805348015754 [label=\"metadsl_core.abstraction.Abstraction.create\"]\n\t-5198982805348015754 -> 1532750769497835632\n\t1532750769497835632 [label=\"metadsl_core.abstraction.Abstraction.create_variable\"]\n\t1532750769497835632 -> 2256881664008840938\n\t2256881664008840938 [label=\"Variable(4544896192)\"]\n\t-5198982805348015754 -> -5150816977940350229\n\t-5150816977940350229 [label=\"metadsl_core.maybe.Maybe.just\"]\n\t-5150816977940350229 -> 1532750769497835632\n\t9113721034414090785 -> 4130506920816483144\n\t4130506920816483144 [label=\"metadsl_core.abstraction.Abstraction.from_fn\"]\n\t4130506920816483144 -> -7070438637286422905\n\t-7070438637286422905 [label=\"Infer(fn=function arange_ at 0x10ea01158)\"]\n\t-8336386247068415680 -> -6348449952595699719\n\t7089816306816462651 -> -3065567844852217470\n\t-3065567844852217470 [label=\"metadsl_core.maybe.Maybe.__or__\"]\n\t-3065567844852217470 -> 544185684138039748\n\t544185684138039748 [label=\"metadsl_core.maybe.Maybe.map\"]\n\t544185684138039748 -> 1661886770869584341\n\t1661886770869584341 [label=\"metadsl_core.maybe.Maybe.just\"]\n\t1661886770869584341 -> 4334974619117012171\n\t4334974619117012171 [label=\"metadsl_core.integer.Integer.from_int\"]\n\t4334974619117012171 -> -3705275237759055718\n\t-3705275237759055718 [label=5]\n\t544185684138039748 -> 6454593537056730818\n\t6454593537056730818 [label=\"metadsl_core.abstraction.Abstraction.from_fn\"]\n\t6454593537056730818 -> 3018242927304862158\n\t3018242927304862158 [label=\"BoundInfer(fn=function Either.left at 0x10bfd2378, owner=metadsl_core.either.Either[metadsl_core.integer.Integer, metadsl_core.vec.Vec[metadsl_core.integer.Integer]], is_classmethod=True)\"]\n\t-3065567844852217470 -> -6684767051708427860\n\t-6684767051708427860 [label=\"metadsl_core.maybe.Maybe.map\"]\n\t-6684767051708427860 -> 6263375678545427999\n\t6263375678545427999 [label=\"metadsl_core.conversion.Converter.convert\"]\n\t6263375678545427999 -> -3705275237759055718\n\t-6684767051708427860 -> 6857408431730447076\n\t6857408431730447076 [label=\"metadsl_core.abstraction.Abstraction.from_fn\"]\n\t6857408431730447076 -> 3018242039980770158\n\t3018242039980770158 [label=\"BoundInfer(fn=function Either.right at 0x10bfd27b8, owner=metadsl_core.either.Either[metadsl_core.integer.Integer, metadsl_core.vec.Vec[metadsl_core.integer.Integer]], is_classmethod=True)\"]\n\t-7785118343808748278 -> -1634153577544591591\n\t-1634153577544591591 [label=\"metadsl_core.maybe.Maybe.nothing\"]\n\t-7785118343808748278 -> 5059787407900174674\n\t5059787407900174674 [label=\"metadsl_core.abstraction.Abstraction.__add__\"]\n\t5059787407900174674 -> 4272362841984695531\n\t4272362841984695531 [label=\"metadsl_core.abstraction.Abstraction.from_fn\"]\n\t4272362841984695531 -> 3018243047023466958\n\t3018243047023466958 [label=\"BoundInfer(fn=function Maybe.just at 0x10bfd20d0, owner=metadsl_core.maybe.Maybe[metadsl_core.numpy.NDArray], is_classmethod=True)\"]\n\t5059787407900174674 -> 8265815467192652237\n\t8265815467192652237 [label=\"metadsl_core.abstraction.Abstraction.from_fn\"]\n\t8265815467192652237 -> -6885157575476597440\n\t-6885157575476597440 [label=\"function NDArrayCompat.__getitem__.locals.lambda at 0x10ee30d90\"]\n}",
         "label": null,
         "rule": "metadsl_core.abstraction.Abstraction.from_fn"
        },
        {
         "graph": "digraph {\n\t-2033355726687749432 [label=\"metadsl_core.numpy.NDArrayCompat.to_ndarray\"]\n\t-2033355726687749432 -> -6255176149826764698\n\t-6255176149826764698 [label=\"metadsl_core.numpy.NDArrayCompat.from_ndarray\"]\n\t-6255176149826764698 -> -6947481878838129486\n\t-6947481878838129486 [label=\"metadsl_core.maybe.Maybe.match\"]\n\t-6947481878838129486 -> -767665604563634603\n\t-767665604563634603 [label=\"metadsl_core.maybe.Maybe.__and__\"]\n\t-767665604563634603 -> -207272089647568479\n\t-207272089647568479 [label=\"metadsl_core.conversion.Converter.convert\"]\n\t-207272089647568479 -> -5972371733442025240\n\t-5972371733442025240 [label=\"metadsl_core.numpy.NDArrayCompat.__add__\"]\n\t-5972371733442025240 -> -5419148412288663401\n\t-5419148412288663401 [label=\"metadsl_core.numpy.NDArrayCompat.from_ndarray\"]\n\t-5419148412288663401 -> -7338046998780095632\n\t-7338046998780095632 [label=\"metadsl_core.maybe.Maybe.just\"]\n\t-7338046998780095632 -> 676902453469965611\n\t676902453469965611 [label=\"metadsl_core.numpy.arange_\"]\n\t676902453469965611 -> -6348449952595699719\n\t-6348449952595699719 [label=\"metadsl_core.integer.Integer.from_int\"]\n\t-6348449952595699719 -> -3705275237864060643\n\t-3705275237864060643 [label=100]\n\t-5972371733442025240 -> -891268657709131721\n\t-891268657709131721 [label=\"metadsl_core.numpy.NDArrayCompat.from_ndarray\"]\n\t-891268657709131721 -> -652332988991805907\n\t-652332988991805907 [label=\"metadsl_core.abstraction.Abstraction.__call__\"]\n\t-652332988991805907 -> -8786992871474521052\n\t-8786992871474521052 [label=\"metadsl_core.abstraction.Abstraction.__add__\"]\n\t-8786992871474521052 -> -5198982805348015754\n\t-5198982805348015754 [label=\"metadsl_core.abstraction.Abstraction.create\"]\n\t-5198982805348015754 -> 1532750769497835632\n\t1532750769497835632 [label=\"metadsl_core.abstraction.Abstraction.create_variable\"]\n\t1532750769497835632 -> 2256881664008840938\n\t2256881664008840938 [label=\"Variable(4544896192)\"]\n\t-5198982805348015754 -> -5150816977940350229\n\t-5150816977940350229 [label=\"metadsl_core.maybe.Maybe.just\"]\n\t-5150816977940350229 -> 1532750769497835632\n\t-8786992871474521052 -> -4959923765879579907\n\t-4959923765879579907 [label=\"metadsl_core.abstraction.Abstraction.create\"]\n\t-4959923765879579907 -> 1395627821193402340\n\t1395627821193402340 [label=\"metadsl_core.abstraction.Abstraction.create_variable\"]\n\t1395627821193402340 -> 2256881592447443288\n\t2256881592447443288 [label=\"Variable(4545970016)\"]\n\t-4959923765879579907 -> 5335735441848638637\n\t5335735441848638637 [label=\"metadsl_core.numpy.arange_\"]\n\t5335735441848638637 -> 1395627821193402340\n\t-652332988991805907 -> -6348449952595699719\n\t-767665604563634603 -> -3065567844852217470\n\t-3065567844852217470 [label=\"metadsl_core.maybe.Maybe.__or__\"]\n\t-3065567844852217470 -> 544185684138039748\n\t544185684138039748 [label=\"metadsl_core.maybe.Maybe.map\"]\n\t544185684138039748 -> 1661886770869584341\n\t1661886770869584341 [label=\"metadsl_core.maybe.Maybe.just\"]\n\t1661886770869584341 -> 4334974619117012171\n\t4334974619117012171 [label=\"metadsl_core.integer.Integer.from_int\"]\n\t4334974619117012171 -> -3705275237759055718\n\t-3705275237759055718 [label=5]\n\t544185684138039748 -> 6454593537056730818\n\t6454593537056730818 [label=\"metadsl_core.abstraction.Abstraction.from_fn\"]\n\t6454593537056730818 -> 3018242927304862158\n\t3018242927304862158 [label=\"BoundInfer(fn=function Either.left at 0x10bfd2378, owner=metadsl_core.either.Either[metadsl_core.integer.Integer, metadsl_core.vec.Vec[metadsl_core.integer.Integer]], is_classmethod=True)\"]\n\t-3065567844852217470 -> -6684767051708427860\n\t-6684767051708427860 [label=\"metadsl_core.maybe.Maybe.map\"]\n\t-6684767051708427860 -> 6263375678545427999\n\t6263375678545427999 [label=\"metadsl_core.conversion.Converter.convert\"]\n\t6263375678545427999 -> -3705275237759055718\n\t-6684767051708427860 -> 6857408431730447076\n\t6857408431730447076 [label=\"metadsl_core.abstraction.Abstraction.from_fn\"]\n\t6857408431730447076 -> 3018242039980770158\n\t3018242039980770158 [label=\"BoundInfer(fn=function Either.right at 0x10bfd27b8, owner=metadsl_core.either.Either[metadsl_core.integer.Integer, metadsl_core.vec.Vec[metadsl_core.integer.Integer]], is_classmethod=True)\"]\n\t-6947481878838129486 -> -1634153577544591591\n\t-1634153577544591591 [label=\"metadsl_core.maybe.Maybe.nothing\"]\n\t-6947481878838129486 -> 5059787407900174674\n\t5059787407900174674 [label=\"metadsl_core.abstraction.Abstraction.__add__\"]\n\t5059787407900174674 -> 4272362841984695531\n\t4272362841984695531 [label=\"metadsl_core.abstraction.Abstraction.from_fn\"]\n\t4272362841984695531 -> 3018243047023466958\n\t3018243047023466958 [label=\"BoundInfer(fn=function Maybe.just at 0x10bfd20d0, owner=metadsl_core.maybe.Maybe[metadsl_core.numpy.NDArray], is_classmethod=True)\"]\n\t5059787407900174674 -> 8265815467192652237\n\t8265815467192652237 [label=\"metadsl_core.abstraction.Abstraction.from_fn\"]\n\t8265815467192652237 -> -6885157575476597440\n\t-6885157575476597440 [label=\"function NDArrayCompat.__getitem__.locals.lambda at 0x10ee30d90\"]\n}",
         "label": null,
         "rule": "metadsl_core.abstraction.Abstraction.from_fn"
        },
        {
         "graph": "digraph {\n\t7422646627666690300 [label=\"metadsl_core.numpy.NDArrayCompat.to_ndarray\"]\n\t7422646627666690300 -> -4782736161287716565\n\t-4782736161287716565 [label=\"metadsl_core.numpy.NDArrayCompat.from_ndarray\"]\n\t-4782736161287716565 -> 171932112139186463\n\t171932112139186463 [label=\"metadsl_core.maybe.Maybe.match\"]\n\t171932112139186463 -> 7715942918607173825\n\t7715942918607173825 [label=\"metadsl_core.maybe.Maybe.__and__\"]\n\t7715942918607173825 -> 3257099024299117165\n\t3257099024299117165 [label=\"metadsl_core.conversion.Converter.convert\"]\n\t3257099024299117165 -> 7138107702412271162\n\t7138107702412271162 [label=\"metadsl_core.numpy.NDArrayCompat.__add__\"]\n\t7138107702412271162 -> -5419148412288663401\n\t-5419148412288663401 [label=\"metadsl_core.numpy.NDArrayCompat.from_ndarray\"]\n\t-5419148412288663401 -> -7338046998780095632\n\t-7338046998780095632 [label=\"metadsl_core.maybe.Maybe.just\"]\n\t-7338046998780095632 -> 676902453469965611\n\t676902453469965611 [label=\"metadsl_core.numpy.arange_\"]\n\t676902453469965611 -> -6348449952595699719\n\t-6348449952595699719 [label=\"metadsl_core.integer.Integer.from_int\"]\n\t-6348449952595699719 -> -3705275237864060643\n\t-3705275237864060643 [label=100]\n\t7138107702412271162 -> 6204848427203990235\n\t6204848427203990235 [label=\"metadsl_core.numpy.NDArrayCompat.from_ndarray\"]\n\t6204848427203990235 -> 7889483376692085684\n\t7889483376692085684 [label=\"metadsl_core.abstraction.Abstraction.__call__\"]\n\t7889483376692085684 -> -6178668019312292785\n\t-6178668019312292785 [label=\"metadsl_core.abstraction.Abstraction.create\"]\n\t-6178668019312292785 -> 1395627821193402340\n\t1395627821193402340 [label=\"metadsl_core.abstraction.Abstraction.create_variable\"]\n\t1395627821193402340 -> 2256881592447443288\n\t2256881592447443288 [label=\"Variable(4545970016)\"]\n\t-6178668019312292785 -> -5395807737455947576\n\t-5395807737455947576 [label=\"metadsl_core.maybe.Maybe.just\"]\n\t-5395807737455947576 -> 5335735441848638637\n\t5335735441848638637 [label=\"metadsl_core.numpy.arange_\"]\n\t5335735441848638637 -> 1395627821193402340\n\t7889483376692085684 -> -6348449952595699719\n\t7715942918607173825 -> -3065567844852217470\n\t-3065567844852217470 [label=\"metadsl_core.maybe.Maybe.__or__\"]\n\t-3065567844852217470 -> 544185684138039748\n\t544185684138039748 [label=\"metadsl_core.maybe.Maybe.map\"]\n\t544185684138039748 -> 1661886770869584341\n\t1661886770869584341 [label=\"metadsl_core.maybe.Maybe.just\"]\n\t1661886770869584341 -> 4334974619117012171\n\t4334974619117012171 [label=\"metadsl_core.integer.Integer.from_int\"]\n\t4334974619117012171 -> -3705275237759055718\n\t-3705275237759055718 [label=5]\n\t544185684138039748 -> 6454593537056730818\n\t6454593537056730818 [label=\"metadsl_core.abstraction.Abstraction.from_fn\"]\n\t6454593537056730818 -> 3018242927304862158\n\t3018242927304862158 [label=\"BoundInfer(fn=function Either.left at 0x10bfd2378, owner=metadsl_core.either.Either[metadsl_core.integer.Integer, metadsl_core.vec.Vec[metadsl_core.integer.Integer]], is_classmethod=True)\"]\n\t-3065567844852217470 -> -6684767051708427860\n\t-6684767051708427860 [label=\"metadsl_core.maybe.Maybe.map\"]\n\t-6684767051708427860 -> 6263375678545427999\n\t6263375678545427999 [label=\"metadsl_core.conversion.Converter.convert\"]\n\t6263375678545427999 -> -3705275237759055718\n\t-6684767051708427860 -> 6857408431730447076\n\t6857408431730447076 [label=\"metadsl_core.abstraction.Abstraction.from_fn\"]\n\t6857408431730447076 -> 3018242039980770158\n\t3018242039980770158 [label=\"BoundInfer(fn=function Either.right at 0x10bfd27b8, owner=metadsl_core.either.Either[metadsl_core.integer.Integer, metadsl_core.vec.Vec[metadsl_core.integer.Integer]], is_classmethod=True)\"]\n\t171932112139186463 -> -1634153577544591591\n\t-1634153577544591591 [label=\"metadsl_core.maybe.Maybe.nothing\"]\n\t171932112139186463 -> 5059787407900174674\n\t5059787407900174674 [label=\"metadsl_core.abstraction.Abstraction.__add__\"]\n\t5059787407900174674 -> 4272362841984695531\n\t4272362841984695531 [label=\"metadsl_core.abstraction.Abstraction.from_fn\"]\n\t4272362841984695531 -> 3018243047023466958\n\t3018243047023466958 [label=\"BoundInfer(fn=function Maybe.just at 0x10bfd20d0, owner=metadsl_core.maybe.Maybe[metadsl_core.numpy.NDArray], is_classmethod=True)\"]\n\t5059787407900174674 -> 8265815467192652237\n\t8265815467192652237 [label=\"metadsl_core.abstraction.Abstraction.from_fn\"]\n\t8265815467192652237 -> -6885157575476597440\n\t-6885157575476597440 [label=\"function NDArrayCompat.__getitem__.locals.lambda at 0x10ee30d90\"]\n}",
         "label": null,
         "rule": "metadsl_core.abstraction.compose"
        },
        {
         "graph": "digraph {\n\t-1398540776220654208 [label=\"metadsl_core.numpy.NDArrayCompat.to_ndarray\"]\n\t-1398540776220654208 -> 3489415722857188671\n\t3489415722857188671 [label=\"metadsl_core.numpy.NDArrayCompat.from_ndarray\"]\n\t3489415722857188671 -> 8011461330799488099\n\t8011461330799488099 [label=\"metadsl_core.maybe.Maybe.match\"]\n\t8011461330799488099 -> 6203099559014167055\n\t6203099559014167055 [label=\"metadsl_core.maybe.Maybe.__and__\"]\n\t6203099559014167055 -> 3154054583708263430\n\t3154054583708263430 [label=\"metadsl_core.conversion.Converter.convert\"]\n\t3154054583708263430 -> 7281850675127942797\n\t7281850675127942797 [label=\"metadsl_core.numpy.NDArrayCompat.__add__\"]\n\t7281850675127942797 -> -5419148412288663401\n\t-5419148412288663401 [label=\"metadsl_core.numpy.NDArrayCompat.from_ndarray\"]\n\t-5419148412288663401 -> -7338046998780095632\n\t-7338046998780095632 [label=\"metadsl_core.maybe.Maybe.just\"]\n\t-7338046998780095632 -> 676902453469965611\n\t676902453469965611 [label=\"metadsl_core.numpy.arange_\"]\n\t676902453469965611 -> -6348449952595699719\n\t-6348449952595699719 [label=\"metadsl_core.integer.Integer.from_int\"]\n\t-6348449952595699719 -> -3705275237864060643\n\t-3705275237864060643 [label=100]\n\t7281850675127942797 -> -5419148412288663401\n\t6203099559014167055 -> -3065567844852217470\n\t-3065567844852217470 [label=\"metadsl_core.maybe.Maybe.__or__\"]\n\t-3065567844852217470 -> 544185684138039748\n\t544185684138039748 [label=\"metadsl_core.maybe.Maybe.map\"]\n\t544185684138039748 -> 1661886770869584341\n\t1661886770869584341 [label=\"metadsl_core.maybe.Maybe.just\"]\n\t1661886770869584341 -> 4334974619117012171\n\t4334974619117012171 [label=\"metadsl_core.integer.Integer.from_int\"]\n\t4334974619117012171 -> -3705275237759055718\n\t-3705275237759055718 [label=5]\n\t544185684138039748 -> 6454593537056730818\n\t6454593537056730818 [label=\"metadsl_core.abstraction.Abstraction.from_fn\"]\n\t6454593537056730818 -> 3018242927304862158\n\t3018242927304862158 [label=\"BoundInfer(fn=function Either.left at 0x10bfd2378, owner=metadsl_core.either.Either[metadsl_core.integer.Integer, metadsl_core.vec.Vec[metadsl_core.integer.Integer]], is_classmethod=True)\"]\n\t-3065567844852217470 -> -6684767051708427860\n\t-6684767051708427860 [label=\"metadsl_core.maybe.Maybe.map\"]\n\t-6684767051708427860 -> 6263375678545427999\n\t6263375678545427999 [label=\"metadsl_core.conversion.Converter.convert\"]\n\t6263375678545427999 -> -3705275237759055718\n\t-6684767051708427860 -> 6857408431730447076\n\t6857408431730447076 [label=\"metadsl_core.abstraction.Abstraction.from_fn\"]\n\t6857408431730447076 -> 3018242039980770158\n\t3018242039980770158 [label=\"BoundInfer(fn=function Either.right at 0x10bfd27b8, owner=metadsl_core.either.Either[metadsl_core.integer.Integer, metadsl_core.vec.Vec[metadsl_core.integer.Integer]], is_classmethod=True)\"]\n\t8011461330799488099 -> -1634153577544591591\n\t-1634153577544591591 [label=\"metadsl_core.maybe.Maybe.nothing\"]\n\t8011461330799488099 -> 5059787407900174674\n\t5059787407900174674 [label=\"metadsl_core.abstraction.Abstraction.__add__\"]\n\t5059787407900174674 -> 4272362841984695531\n\t4272362841984695531 [label=\"metadsl_core.abstraction.Abstraction.from_fn\"]\n\t4272362841984695531 -> 3018243047023466958\n\t3018243047023466958 [label=\"BoundInfer(fn=function Maybe.just at 0x10bfd20d0, owner=metadsl_core.maybe.Maybe[metadsl_core.numpy.NDArray], is_classmethod=True)\"]\n\t5059787407900174674 -> 8265815467192652237\n\t8265815467192652237 [label=\"metadsl_core.abstraction.Abstraction.from_fn\"]\n\t8265815467192652237 -> -6885157575476597440\n\t-6885157575476597440 [label=\"function NDArrayCompat.__getitem__.locals.lambda at 0x10ee30d90\"]\n}",
         "label": null,
         "rule": "metadsl_core.abstraction.beta_reduce"
        },
        {
         "graph": "digraph {\n\t-2707705597213486049 [label=\"metadsl_core.numpy.NDArrayCompat.to_ndarray\"]\n\t-2707705597213486049 -> 2572767079039197331\n\t2572767079039197331 [label=\"metadsl_core.numpy.NDArrayCompat.from_ndarray\"]\n\t2572767079039197331 -> -197609548493167117\n\t-197609548493167117 [label=\"metadsl_core.maybe.Maybe.match\"]\n\t-197609548493167117 -> 1302226755770087476\n\t1302226755770087476 [label=\"metadsl_core.maybe.Maybe.__and__\"]\n\t1302226755770087476 -> 3154054583708263430\n\t3154054583708263430 [label=\"metadsl_core.conversion.Converter.convert\"]\n\t3154054583708263430 -> 7281850675127942797\n\t7281850675127942797 [label=\"metadsl_core.numpy.NDArrayCompat.__add__\"]\n\t7281850675127942797 -> -5419148412288663401\n\t-5419148412288663401 [label=\"metadsl_core.numpy.NDArrayCompat.from_ndarray\"]\n\t-5419148412288663401 -> -7338046998780095632\n\t-7338046998780095632 [label=\"metadsl_core.maybe.Maybe.just\"]\n\t-7338046998780095632 -> 676902453469965611\n\t676902453469965611 [label=\"metadsl_core.numpy.arange_\"]\n\t676902453469965611 -> -6348449952595699719\n\t-6348449952595699719 [label=\"metadsl_core.integer.Integer.from_int\"]\n\t-6348449952595699719 -> -3705275237864060643\n\t-3705275237864060643 [label=100]\n\t7281850675127942797 -> -5419148412288663401\n\t1302226755770087476 -> -5070363678012895811\n\t-5070363678012895811 [label=\"metadsl_core.maybe.Maybe.__or__\"]\n\t-5070363678012895811 -> -3206514862664980891\n\t-3206514862664980891 [label=\"metadsl_core.maybe.Maybe.match\"]\n\t-3206514862664980891 -> 1661886770869584341\n\t1661886770869584341 [label=\"metadsl_core.maybe.Maybe.just\"]\n\t1661886770869584341 -> 4334974619117012171\n\t4334974619117012171 [label=\"metadsl_core.integer.Integer.from_int\"]\n\t4334974619117012171 -> -3705275237759055718\n\t-3705275237759055718 [label=5]\n\t-3206514862664980891 -> 2139383204678789915\n\t2139383204678789915 [label=\"metadsl_core.maybe.Maybe.nothing\"]\n\t-3206514862664980891 -> -3326639294774934467\n\t-3326639294774934467 [label=\"metadsl_core.abstraction.Abstraction.__add__\"]\n\t-3326639294774934467 -> 7195992161376387783\n\t7195992161376387783 [label=\"metadsl_core.abstraction.Abstraction.from_fn\"]\n\t7195992161376387783 -> 3018242884203046758\n\t3018242884203046758 [label=\"BoundInfer(fn=function Maybe.just at 0x10bfd20d0, owner=metadsl_core.maybe.Maybe[metadsl_core.either.Either[metadsl_core.integer.Integer, metadsl_core.vec.Vec[metadsl_core.integer.Integer]]], is_classmethod=True)\"]\n\t-3326639294774934467 -> -3548087848332001768\n\t-3548087848332001768 [label=\"metadsl_core.abstraction.Abstraction.from_fn\"]\n\t-3548087848332001768 -> 3018242885580018558\n\t3018242885580018558 [label=\"BoundInfer(fn=function Either.left at 0x10bfd2378, owner=metadsl_core.either.Either[metadsl_core.integer.Integer, metadsl_core.vec.Vec[metadsl_core.integer.Integer]], is_classmethod=True)\"]\n\t-5070363678012895811 -> -6684767051708427860\n\t-6684767051708427860 [label=\"metadsl_core.maybe.Maybe.map\"]\n\t-6684767051708427860 -> 6263375678545427999\n\t6263375678545427999 [label=\"metadsl_core.conversion.Converter.convert\"]\n\t6263375678545427999 -> -3705275237759055718\n\t-6684767051708427860 -> 6857408431730447076\n\t6857408431730447076 [label=\"metadsl_core.abstraction.Abstraction.from_fn\"]\n\t6857408431730447076 -> 3018242039980770158\n\t3018242039980770158 [label=\"BoundInfer(fn=function Either.right at 0x10bfd27b8, owner=metadsl_core.either.Either[metadsl_core.integer.Integer, metadsl_core.vec.Vec[metadsl_core.integer.Integer]], is_classmethod=True)\"]\n\t-197609548493167117 -> -1634153577544591591\n\t-1634153577544591591 [label=\"metadsl_core.maybe.Maybe.nothing\"]\n\t-197609548493167117 -> 5059787407900174674\n\t5059787407900174674 [label=\"metadsl_core.abstraction.Abstraction.__add__\"]\n\t5059787407900174674 -> 4272362841984695531\n\t4272362841984695531 [label=\"metadsl_core.abstraction.Abstraction.from_fn\"]\n\t4272362841984695531 -> 3018243047023466958\n\t3018243047023466958 [label=\"BoundInfer(fn=function Maybe.just at 0x10bfd20d0, owner=metadsl_core.maybe.Maybe[metadsl_core.numpy.NDArray], is_classmethod=True)\"]\n\t5059787407900174674 -> 8265815467192652237\n\t8265815467192652237 [label=\"metadsl_core.abstraction.Abstraction.from_fn\"]\n\t8265815467192652237 -> -6885157575476597440\n\t-6885157575476597440 [label=\"function NDArrayCompat.__getitem__.locals.lambda at 0x10ee30d90\"]\n}",
         "label": null,
         "rule": "metadsl_core.maybe.Maybe.map"
        },
        {
         "graph": "digraph {\n\t3320514870386891208 [label=\"metadsl_core.numpy.NDArrayCompat.to_ndarray\"]\n\t3320514870386891208 -> -3748947342060218529\n\t-3748947342060218529 [label=\"metadsl_core.numpy.NDArrayCompat.from_ndarray\"]\n\t-3748947342060218529 -> 8620010706362481861\n\t8620010706362481861 [label=\"metadsl_core.maybe.Maybe.match\"]\n\t8620010706362481861 -> 5289327458797627874\n\t5289327458797627874 [label=\"metadsl_core.maybe.Maybe.__and__\"]\n\t5289327458797627874 -> 3154054583708263430\n\t3154054583708263430 [label=\"metadsl_core.conversion.Converter.convert\"]\n\t3154054583708263430 -> 7281850675127942797\n\t7281850675127942797 [label=\"metadsl_core.numpy.NDArrayCompat.__add__\"]\n\t7281850675127942797 -> -5419148412288663401\n\t-5419148412288663401 [label=\"metadsl_core.numpy.NDArrayCompat.from_ndarray\"]\n\t-5419148412288663401 -> -7338046998780095632\n\t-7338046998780095632 [label=\"metadsl_core.maybe.Maybe.just\"]\n\t-7338046998780095632 -> 676902453469965611\n\t676902453469965611 [label=\"metadsl_core.numpy.arange_\"]\n\t676902453469965611 -> -6348449952595699719\n\t-6348449952595699719 [label=\"metadsl_core.integer.Integer.from_int\"]\n\t-6348449952595699719 -> -3705275237864060643\n\t-3705275237864060643 [label=100]\n\t7281850675127942797 -> -5419148412288663401\n\t5289327458797627874 -> -8520934084855244899\n\t-8520934084855244899 [label=\"metadsl_core.maybe.Maybe.__or__\"]\n\t-8520934084855244899 -> -4873687371147004636\n\t-4873687371147004636 [label=\"metadsl_core.abstraction.Abstraction.__call__\"]\n\t-4873687371147004636 -> -6744212165042005096\n\t-6744212165042005096 [label=\"metadsl_core.abstraction.Abstraction.__add__\"]\n\t-6744212165042005096 -> -7987791131052571401\n\t-7987791131052571401 [label=\"metadsl_core.abstraction.Abstraction.from_fn\"]\n\t-7987791131052571401 -> 3018242862517905958\n\t3018242862517905958 [label=\"BoundInfer(fn=function Maybe.just at 0x10bfd20d0, owner=metadsl_core.maybe.Maybe[metadsl_core.either.Either[metadsl_core.integer.Integer, metadsl_core.vec.Vec[metadsl_core.integer.Integer]]], is_classmethod=True)\"]\n\t-6744212165042005096 -> 1456565464579814476\n\t1456565464579814476 [label=\"metadsl_core.abstraction.Abstraction.from_fn\"]\n\t1456565464579814476 -> 3018242860396156958\n\t3018242860396156958 [label=\"BoundInfer(fn=function Either.left at 0x10bfd2378, owner=metadsl_core.either.Either[metadsl_core.integer.Integer, metadsl_core.vec.Vec[metadsl_core.integer.Integer]], is_classmethod=True)\"]\n\t-4873687371147004636 -> 4334974619117012171\n\t4334974619117012171 [label=\"metadsl_core.integer.Integer.from_int\"]\n\t4334974619117012171 -> -3705275237759055718\n\t-3705275237759055718 [label=5]\n\t-8520934084855244899 -> -6684767051708427860\n\t-6684767051708427860 [label=\"metadsl_core.maybe.Maybe.map\"]\n\t-6684767051708427860 -> 6263375678545427999\n\t6263375678545427999 [label=\"metadsl_core.conversion.Converter.convert\"]\n\t6263375678545427999 -> -3705275237759055718\n\t-6684767051708427860 -> 6857408431730447076\n\t6857408431730447076 [label=\"metadsl_core.abstraction.Abstraction.from_fn\"]\n\t6857408431730447076 -> 3018242039980770158\n\t3018242039980770158 [label=\"BoundInfer(fn=function Either.right at 0x10bfd27b8, owner=metadsl_core.either.Either[metadsl_core.integer.Integer, metadsl_core.vec.Vec[metadsl_core.integer.Integer]], is_classmethod=True)\"]\n\t8620010706362481861 -> -1634153577544591591\n\t-1634153577544591591 [label=\"metadsl_core.maybe.Maybe.nothing\"]\n\t8620010706362481861 -> 5059787407900174674\n\t5059787407900174674 [label=\"metadsl_core.abstraction.Abstraction.__add__\"]\n\t5059787407900174674 -> 4272362841984695531\n\t4272362841984695531 [label=\"metadsl_core.abstraction.Abstraction.from_fn\"]\n\t4272362841984695531 -> 3018243047023466958\n\t3018243047023466958 [label=\"BoundInfer(fn=function Maybe.just at 0x10bfd20d0, owner=metadsl_core.maybe.Maybe[metadsl_core.numpy.NDArray], is_classmethod=True)\"]\n\t5059787407900174674 -> 8265815467192652237\n\t8265815467192652237 [label=\"metadsl_core.abstraction.Abstraction.from_fn\"]\n\t8265815467192652237 -> -6885157575476597440\n\t-6885157575476597440 [label=\"function NDArrayCompat.__getitem__.locals.lambda at 0x10ee30d90\"]\n}",
         "label": null,
         "rule": "metadsl_core.maybe.maybe_match"
        },
        {
         "graph": "digraph {\n\t2855352892526363245 [label=\"metadsl_core.numpy.NDArrayCompat.to_ndarray\"]\n\t2855352892526363245 -> 3399221978966597687\n\t3399221978966597687 [label=\"metadsl_core.numpy.NDArrayCompat.from_ndarray\"]\n\t3399221978966597687 -> 2757039568795406795\n\t2757039568795406795 [label=\"metadsl_core.maybe.Maybe.match\"]\n\t2757039568795406795 -> 3293461735648171298\n\t3293461735648171298 [label=\"metadsl_core.maybe.Maybe.__and__\"]\n\t3293461735648171298 -> 3154054583708263430\n\t3154054583708263430 [label=\"metadsl_core.conversion.Converter.convert\"]\n\t3154054583708263430 -> 7281850675127942797\n\t7281850675127942797 [label=\"metadsl_core.numpy.NDArrayCompat.__add__\"]\n\t7281850675127942797 -> -5419148412288663401\n\t-5419148412288663401 [label=\"metadsl_core.numpy.NDArrayCompat.from_ndarray\"]\n\t-5419148412288663401 -> -7338046998780095632\n\t-7338046998780095632 [label=\"metadsl_core.maybe.Maybe.just\"]\n\t-7338046998780095632 -> 676902453469965611\n\t676902453469965611 [label=\"metadsl_core.numpy.arange_\"]\n\t676902453469965611 -> -6348449952595699719\n\t-6348449952595699719 [label=\"metadsl_core.integer.Integer.from_int\"]\n\t-6348449952595699719 -> -3705275237864060643\n\t-3705275237864060643 [label=100]\n\t7281850675127942797 -> -5419148412288663401\n\t3293461735648171298 -> -5447911853974291506\n\t-5447911853974291506 [label=\"metadsl_core.maybe.Maybe.__or__\"]\n\t-5447911853974291506 -> 4853235401099256308\n\t4853235401099256308 [label=\"metadsl_core.abstraction.Abstraction.__call__\"]\n\t4853235401099256308 -> 5804987440302656017\n\t5804987440302656017 [label=\"metadsl_core.abstraction.Abstraction.__add__\"]\n\t5804987440302656017 -> 7919399156107912809\n\t7919399156107912809 [label=\"metadsl_core.abstraction.Abstraction.create\"]\n\t7919399156107912809 -> -6155160979429421904\n\t-6155160979429421904 [label=\"metadsl_core.abstraction.Abstraction.create_variable\"]\n\t-6155160979429421904 -> -6966490371399681470\n\t-6966490371399681470 [label=\"Variable(4544884808)\"]\n\t7919399156107912809 -> 7949023678236811004\n\t7949023678236811004 [label=\"metadsl_core.maybe.Maybe.just\"]\n\t7949023678236811004 -> -6155160979429421904\n\t5804987440302656017 -> 1456565464579814476\n\t1456565464579814476 [label=\"metadsl_core.abstraction.Abstraction.from_fn\"]\n\t1456565464579814476 -> 3018242860396156958\n\t3018242860396156958 [label=\"BoundInfer(fn=function Either.left at 0x10bfd2378, owner=metadsl_core.either.Either[metadsl_core.integer.Integer, metadsl_core.vec.Vec[metadsl_core.integer.Integer]], is_classmethod=True)\"]\n\t4853235401099256308 -> 4334974619117012171\n\t4334974619117012171 [label=\"metadsl_core.integer.Integer.from_int\"]\n\t4334974619117012171 -> -3705275237759055718\n\t-3705275237759055718 [label=5]\n\t-5447911853974291506 -> -6684767051708427860\n\t-6684767051708427860 [label=\"metadsl_core.maybe.Maybe.map\"]\n\t-6684767051708427860 -> 6263375678545427999\n\t6263375678545427999 [label=\"metadsl_core.conversion.Converter.convert\"]\n\t6263375678545427999 -> -3705275237759055718\n\t-6684767051708427860 -> 6857408431730447076\n\t6857408431730447076 [label=\"metadsl_core.abstraction.Abstraction.from_fn\"]\n\t6857408431730447076 -> 3018242039980770158\n\t3018242039980770158 [label=\"BoundInfer(fn=function Either.right at 0x10bfd27b8, owner=metadsl_core.either.Either[metadsl_core.integer.Integer, metadsl_core.vec.Vec[metadsl_core.integer.Integer]], is_classmethod=True)\"]\n\t2757039568795406795 -> -1634153577544591591\n\t-1634153577544591591 [label=\"metadsl_core.maybe.Maybe.nothing\"]\n\t2757039568795406795 -> 5059787407900174674\n\t5059787407900174674 [label=\"metadsl_core.abstraction.Abstraction.__add__\"]\n\t5059787407900174674 -> 4272362841984695531\n\t4272362841984695531 [label=\"metadsl_core.abstraction.Abstraction.from_fn\"]\n\t4272362841984695531 -> 3018243047023466958\n\t3018243047023466958 [label=\"BoundInfer(fn=function Maybe.just at 0x10bfd20d0, owner=metadsl_core.maybe.Maybe[metadsl_core.numpy.NDArray], is_classmethod=True)\"]\n\t5059787407900174674 -> 8265815467192652237\n\t8265815467192652237 [label=\"metadsl_core.abstraction.Abstraction.from_fn\"]\n\t8265815467192652237 -> -6885157575476597440\n\t-6885157575476597440 [label=\"function NDArrayCompat.__getitem__.locals.lambda at 0x10ee30d90\"]\n}",
         "label": null,
         "rule": "metadsl_core.abstraction.Abstraction.from_fn"
        },
        {
         "graph": "digraph {\n\t6638798745214373616 [label=\"metadsl_core.numpy.NDArrayCompat.to_ndarray\"]\n\t6638798745214373616 -> -5809698578867428686\n\t-5809698578867428686 [label=\"metadsl_core.numpy.NDArrayCompat.from_ndarray\"]\n\t-5809698578867428686 -> -5551946829472053429\n\t-5551946829472053429 [label=\"metadsl_core.maybe.Maybe.match\"]\n\t-5551946829472053429 -> -7571355554137817118\n\t-7571355554137817118 [label=\"metadsl_core.maybe.Maybe.__and__\"]\n\t-7571355554137817118 -> 3154054583708263430\n\t3154054583708263430 [label=\"metadsl_core.conversion.Converter.convert\"]\n\t3154054583708263430 -> 7281850675127942797\n\t7281850675127942797 [label=\"metadsl_core.numpy.NDArrayCompat.__add__\"]\n\t7281850675127942797 -> -5419148412288663401\n\t-5419148412288663401 [label=\"metadsl_core.numpy.NDArrayCompat.from_ndarray\"]\n\t-5419148412288663401 -> -7338046998780095632\n\t-7338046998780095632 [label=\"metadsl_core.maybe.Maybe.just\"]\n\t-7338046998780095632 -> 676902453469965611\n\t676902453469965611 [label=\"metadsl_core.numpy.arange_\"]\n\t676902453469965611 -> -6348449952595699719\n\t-6348449952595699719 [label=\"metadsl_core.integer.Integer.from_int\"]\n\t-6348449952595699719 -> -3705275237864060643\n\t-3705275237864060643 [label=100]\n\t7281850675127942797 -> -5419148412288663401\n\t-7571355554137817118 -> 4032781639228932992\n\t4032781639228932992 [label=\"metadsl_core.maybe.Maybe.__or__\"]\n\t4032781639228932992 -> -7818610196859866130\n\t-7818610196859866130 [label=\"metadsl_core.abstraction.Abstraction.__call__\"]\n\t-7818610196859866130 -> -7901835197166842283\n\t-7901835197166842283 [label=\"metadsl_core.abstraction.Abstraction.__add__\"]\n\t-7901835197166842283 -> 7919399156107912809\n\t7919399156107912809 [label=\"metadsl_core.abstraction.Abstraction.create\"]\n\t7919399156107912809 -> -6155160979429421904\n\t-6155160979429421904 [label=\"metadsl_core.abstraction.Abstraction.create_variable\"]\n\t-6155160979429421904 -> -6966490371399681470\n\t-6966490371399681470 [label=\"Variable(4544884808)\"]\n\t7919399156107912809 -> 7949023678236811004\n\t7949023678236811004 [label=\"metadsl_core.maybe.Maybe.just\"]\n\t7949023678236811004 -> -6155160979429421904\n\t-7901835197166842283 -> -7830072810825796942\n\t-7830072810825796942 [label=\"metadsl_core.abstraction.Abstraction.create\"]\n\t-7830072810825796942 -> -8243529546085861488\n\t-8243529546085861488 [label=\"metadsl_core.abstraction.Abstraction.create_variable\"]\n\t-8243529546085861488 -> 2256881620127607538\n\t2256881620127607538 [label=\"Variable(4545558848)\"]\n\t-7830072810825796942 -> -8421054305673162151\n\t-8421054305673162151 [label=\"metadsl_core.either.Either.left\"]\n\t-8421054305673162151 -> -8243529546085861488\n\t-7818610196859866130 -> 4334974619117012171\n\t4334974619117012171 [label=\"metadsl_core.integer.Integer.from_int\"]\n\t4334974619117012171 -> -3705275237759055718\n\t-3705275237759055718 [label=5]\n\t4032781639228932992 -> -6684767051708427860\n\t-6684767051708427860 [label=\"metadsl_core.maybe.Maybe.map\"]\n\t-6684767051708427860 -> 6263375678545427999\n\t6263375678545427999 [label=\"metadsl_core.conversion.Converter.convert\"]\n\t6263375678545427999 -> -3705275237759055718\n\t-6684767051708427860 -> 6857408431730447076\n\t6857408431730447076 [label=\"metadsl_core.abstraction.Abstraction.from_fn\"]\n\t6857408431730447076 -> 3018242039980770158\n\t3018242039980770158 [label=\"BoundInfer(fn=function Either.right at 0x10bfd27b8, owner=metadsl_core.either.Either[metadsl_core.integer.Integer, metadsl_core.vec.Vec[metadsl_core.integer.Integer]], is_classmethod=True)\"]\n\t-5551946829472053429 -> -1634153577544591591\n\t-1634153577544591591 [label=\"metadsl_core.maybe.Maybe.nothing\"]\n\t-5551946829472053429 -> 5059787407900174674\n\t5059787407900174674 [label=\"metadsl_core.abstraction.Abstraction.__add__\"]\n\t5059787407900174674 -> 4272362841984695531\n\t4272362841984695531 [label=\"metadsl_core.abstraction.Abstraction.from_fn\"]\n\t4272362841984695531 -> 3018243047023466958\n\t3018243047023466958 [label=\"BoundInfer(fn=function Maybe.just at 0x10bfd20d0, owner=metadsl_core.maybe.Maybe[metadsl_core.numpy.NDArray], is_classmethod=True)\"]\n\t5059787407900174674 -> 8265815467192652237\n\t8265815467192652237 [label=\"metadsl_core.abstraction.Abstraction.from_fn\"]\n\t8265815467192652237 -> -6885157575476597440\n\t-6885157575476597440 [label=\"function NDArrayCompat.__getitem__.locals.lambda at 0x10ee30d90\"]\n}",
         "label": null,
         "rule": "metadsl_core.abstraction.Abstraction.from_fn"
        },
        {
         "graph": "digraph {\n\t4332074470064424039 [label=\"metadsl_core.numpy.NDArrayCompat.to_ndarray\"]\n\t4332074470064424039 -> -1672437128533319396\n\t-1672437128533319396 [label=\"metadsl_core.numpy.NDArrayCompat.from_ndarray\"]\n\t-1672437128533319396 -> 3807138092479696957\n\t3807138092479696957 [label=\"metadsl_core.maybe.Maybe.match\"]\n\t3807138092479696957 -> 3065694566795947839\n\t3065694566795947839 [label=\"metadsl_core.maybe.Maybe.__and__\"]\n\t3065694566795947839 -> 3154054583708263430\n\t3154054583708263430 [label=\"metadsl_core.conversion.Converter.convert\"]\n\t3154054583708263430 -> 7281850675127942797\n\t7281850675127942797 [label=\"metadsl_core.numpy.NDArrayCompat.__add__\"]\n\t7281850675127942797 -> -5419148412288663401\n\t-5419148412288663401 [label=\"metadsl_core.numpy.NDArrayCompat.from_ndarray\"]\n\t-5419148412288663401 -> -7338046998780095632\n\t-7338046998780095632 [label=\"metadsl_core.maybe.Maybe.just\"]\n\t-7338046998780095632 -> 676902453469965611\n\t676902453469965611 [label=\"metadsl_core.numpy.arange_\"]\n\t676902453469965611 -> -6348449952595699719\n\t-6348449952595699719 [label=\"metadsl_core.integer.Integer.from_int\"]\n\t-6348449952595699719 -> -3705275237864060643\n\t-3705275237864060643 [label=100]\n\t7281850675127942797 -> -5419148412288663401\n\t3065694566795947839 -> 6128052437150677934\n\t6128052437150677934 [label=\"metadsl_core.maybe.Maybe.__or__\"]\n\t6128052437150677934 -> -77518836552605056\n\t-77518836552605056 [label=\"metadsl_core.abstraction.Abstraction.__call__\"]\n\t-77518836552605056 -> -8594890947622696342\n\t-8594890947622696342 [label=\"metadsl_core.abstraction.Abstraction.create\"]\n\t-8594890947622696342 -> -8243529546085861488\n\t-8243529546085861488 [label=\"metadsl_core.abstraction.Abstraction.create_variable\"]\n\t-8243529546085861488 -> 2256881620127607538\n\t2256881620127607538 [label=\"Variable(4545558848)\"]\n\t-8594890947622696342 -> -3417824533833702856\n\t-3417824533833702856 [label=\"metadsl_core.maybe.Maybe.just\"]\n\t-3417824533833702856 -> -8421054305673162151\n\t-8421054305673162151 [label=\"metadsl_core.either.Either.left\"]\n\t-8421054305673162151 -> -8243529546085861488\n\t-77518836552605056 -> 4334974619117012171\n\t4334974619117012171 [label=\"metadsl_core.integer.Integer.from_int\"]\n\t4334974619117012171 -> -3705275237759055718\n\t-3705275237759055718 [label=5]\n\t6128052437150677934 -> -6684767051708427860\n\t-6684767051708427860 [label=\"metadsl_core.maybe.Maybe.map\"]\n\t-6684767051708427860 -> 6263375678545427999\n\t6263375678545427999 [label=\"metadsl_core.conversion.Converter.convert\"]\n\t6263375678545427999 -> -3705275237759055718\n\t-6684767051708427860 -> 6857408431730447076\n\t6857408431730447076 [label=\"metadsl_core.abstraction.Abstraction.from_fn\"]\n\t6857408431730447076 -> 3018242039980770158\n\t3018242039980770158 [label=\"BoundInfer(fn=function Either.right at 0x10bfd27b8, owner=metadsl_core.either.Either[metadsl_core.integer.Integer, metadsl_core.vec.Vec[metadsl_core.integer.Integer]], is_classmethod=True)\"]\n\t3807138092479696957 -> -1634153577544591591\n\t-1634153577544591591 [label=\"metadsl_core.maybe.Maybe.nothing\"]\n\t3807138092479696957 -> 5059787407900174674\n\t5059787407900174674 [label=\"metadsl_core.abstraction.Abstraction.__add__\"]\n\t5059787407900174674 -> 4272362841984695531\n\t4272362841984695531 [label=\"metadsl_core.abstraction.Abstraction.from_fn\"]\n\t4272362841984695531 -> 3018243047023466958\n\t3018243047023466958 [label=\"BoundInfer(fn=function Maybe.just at 0x10bfd20d0, owner=metadsl_core.maybe.Maybe[metadsl_core.numpy.NDArray], is_classmethod=True)\"]\n\t5059787407900174674 -> 8265815467192652237\n\t8265815467192652237 [label=\"metadsl_core.abstraction.Abstraction.from_fn\"]\n\t8265815467192652237 -> -6885157575476597440\n\t-6885157575476597440 [label=\"function NDArrayCompat.__getitem__.locals.lambda at 0x10ee30d90\"]\n}",
         "label": null,
         "rule": "metadsl_core.abstraction.compose"
        },
        {
         "graph": "digraph {\n\t4766594682817356272 [label=\"metadsl_core.numpy.NDArrayCompat.to_ndarray\"]\n\t4766594682817356272 -> -5284571468418393171\n\t-5284571468418393171 [label=\"metadsl_core.numpy.NDArrayCompat.from_ndarray\"]\n\t-5284571468418393171 -> 3515478774217737120\n\t3515478774217737120 [label=\"metadsl_core.maybe.Maybe.match\"]\n\t3515478774217737120 -> -1568878265279277577\n\t-1568878265279277577 [label=\"metadsl_core.maybe.Maybe.__and__\"]\n\t-1568878265279277577 -> 3154054583708263430\n\t3154054583708263430 [label=\"metadsl_core.conversion.Converter.convert\"]\n\t3154054583708263430 -> 7281850675127942797\n\t7281850675127942797 [label=\"metadsl_core.numpy.NDArrayCompat.__add__\"]\n\t7281850675127942797 -> -5419148412288663401\n\t-5419148412288663401 [label=\"metadsl_core.numpy.NDArrayCompat.from_ndarray\"]\n\t-5419148412288663401 -> -7338046998780095632\n\t-7338046998780095632 [label=\"metadsl_core.maybe.Maybe.just\"]\n\t-7338046998780095632 -> 676902453469965611\n\t676902453469965611 [label=\"metadsl_core.numpy.arange_\"]\n\t676902453469965611 -> -6348449952595699719\n\t-6348449952595699719 [label=\"metadsl_core.integer.Integer.from_int\"]\n\t-6348449952595699719 -> -3705275237864060643\n\t-3705275237864060643 [label=100]\n\t7281850675127942797 -> -5419148412288663401\n\t-1568878265279277577 -> 9175401784758480455\n\t9175401784758480455 [label=\"metadsl_core.maybe.Maybe.__or__\"]\n\t9175401784758480455 -> -3253607827985268989\n\t-3253607827985268989 [label=\"metadsl_core.maybe.Maybe.just\"]\n\t-3253607827985268989 -> -4935307720403575888\n\t-4935307720403575888 [label=\"metadsl_core.either.Either.left\"]\n\t-4935307720403575888 -> 4334974619117012171\n\t4334974619117012171 [label=\"metadsl_core.integer.Integer.from_int\"]\n\t4334974619117012171 -> -3705275237759055718\n\t-3705275237759055718 [label=5]\n\t9175401784758480455 -> -6684767051708427860\n\t-6684767051708427860 [label=\"metadsl_core.maybe.Maybe.map\"]\n\t-6684767051708427860 -> 6263375678545427999\n\t6263375678545427999 [label=\"metadsl_core.conversion.Converter.convert\"]\n\t6263375678545427999 -> -3705275237759055718\n\t-6684767051708427860 -> 6857408431730447076\n\t6857408431730447076 [label=\"metadsl_core.abstraction.Abstraction.from_fn\"]\n\t6857408431730447076 -> 3018242039980770158\n\t3018242039980770158 [label=\"BoundInfer(fn=function Either.right at 0x10bfd27b8, owner=metadsl_core.either.Either[metadsl_core.integer.Integer, metadsl_core.vec.Vec[metadsl_core.integer.Integer]], is_classmethod=True)\"]\n\t3515478774217737120 -> -1634153577544591591\n\t-1634153577544591591 [label=\"metadsl_core.maybe.Maybe.nothing\"]\n\t3515478774217737120 -> 5059787407900174674\n\t5059787407900174674 [label=\"metadsl_core.abstraction.Abstraction.__add__\"]\n\t5059787407900174674 -> 4272362841984695531\n\t4272362841984695531 [label=\"metadsl_core.abstraction.Abstraction.from_fn\"]\n\t4272362841984695531 -> 3018243047023466958\n\t3018243047023466958 [label=\"BoundInfer(fn=function Maybe.just at 0x10bfd20d0, owner=metadsl_core.maybe.Maybe[metadsl_core.numpy.NDArray], is_classmethod=True)\"]\n\t5059787407900174674 -> 8265815467192652237\n\t8265815467192652237 [label=\"metadsl_core.abstraction.Abstraction.from_fn\"]\n\t8265815467192652237 -> -6885157575476597440\n\t-6885157575476597440 [label=\"function NDArrayCompat.__getitem__.locals.lambda at 0x10ee30d90\"]\n}",
         "label": null,
         "rule": "metadsl_core.abstraction.beta_reduce"
        },
        {
         "graph": "digraph {\n\t8838764709824247435 [label=\"metadsl_core.numpy.NDArrayCompat.to_ndarray\"]\n\t8838764709824247435 -> 5701152051151677401\n\t5701152051151677401 [label=\"metadsl_core.numpy.NDArrayCompat.from_ndarray\"]\n\t5701152051151677401 -> 920416316869947893\n\t920416316869947893 [label=\"metadsl_core.maybe.Maybe.match\"]\n\t920416316869947893 -> 2177864481804325886\n\t2177864481804325886 [label=\"metadsl_core.maybe.Maybe.__and__\"]\n\t2177864481804325886 -> 3154054583708263430\n\t3154054583708263430 [label=\"metadsl_core.conversion.Converter.convert\"]\n\t3154054583708263430 -> 7281850675127942797\n\t7281850675127942797 [label=\"metadsl_core.numpy.NDArrayCompat.__add__\"]\n\t7281850675127942797 -> -5419148412288663401\n\t-5419148412288663401 [label=\"metadsl_core.numpy.NDArrayCompat.from_ndarray\"]\n\t-5419148412288663401 -> -7338046998780095632\n\t-7338046998780095632 [label=\"metadsl_core.maybe.Maybe.just\"]\n\t-7338046998780095632 -> 676902453469965611\n\t676902453469965611 [label=\"metadsl_core.numpy.arange_\"]\n\t676902453469965611 -> -6348449952595699719\n\t-6348449952595699719 [label=\"metadsl_core.integer.Integer.from_int\"]\n\t-6348449952595699719 -> -3705275237864060643\n\t-3705275237864060643 [label=100]\n\t7281850675127942797 -> -5419148412288663401\n\t2177864481804325886 -> 429197055195322326\n\t429197055195322326 [label=\"metadsl_core.maybe.Maybe.just\"]\n\t429197055195322326 -> -4935307720403575888\n\t-4935307720403575888 [label=\"metadsl_core.either.Either.left\"]\n\t-4935307720403575888 -> 4334974619117012171\n\t4334974619117012171 [label=\"metadsl_core.integer.Integer.from_int\"]\n\t4334974619117012171 -> -3705275237759055718\n\t-3705275237759055718 [label=5]\n\t920416316869947893 -> -1634153577544591591\n\t-1634153577544591591 [label=\"metadsl_core.maybe.Maybe.nothing\"]\n\t920416316869947893 -> 5059787407900174674\n\t5059787407900174674 [label=\"metadsl_core.abstraction.Abstraction.__add__\"]\n\t5059787407900174674 -> 4272362841984695531\n\t4272362841984695531 [label=\"metadsl_core.abstraction.Abstraction.from_fn\"]\n\t4272362841984695531 -> 3018243047023466958\n\t3018243047023466958 [label=\"BoundInfer(fn=function Maybe.just at 0x10bfd20d0, owner=metadsl_core.maybe.Maybe[metadsl_core.numpy.NDArray], is_classmethod=True)\"]\n\t5059787407900174674 -> 8265815467192652237\n\t8265815467192652237 [label=\"metadsl_core.abstraction.Abstraction.from_fn\"]\n\t8265815467192652237 -> -6885157575476597440\n\t-6885157575476597440 [label=\"function NDArrayCompat.__getitem__.locals.lambda at 0x10ee30d90\"]\n}",
         "label": null,
         "rule": "metadsl_core.maybe.maybe_or"
        },
        {
         "graph": "digraph {\n\t4302414561591220110 [label=\"metadsl_core.numpy.NDArrayCompat.to_ndarray\"]\n\t4302414561591220110 -> 3859633042024871833\n\t3859633042024871833 [label=\"metadsl_core.numpy.NDArrayCompat.from_ndarray\"]\n\t3859633042024871833 -> 8907023515929157079\n\t8907023515929157079 [label=\"metadsl_core.maybe.Maybe.match\"]\n\t8907023515929157079 -> 2177864481804325886\n\t2177864481804325886 [label=\"metadsl_core.maybe.Maybe.__and__\"]\n\t2177864481804325886 -> 3154054583708263430\n\t3154054583708263430 [label=\"metadsl_core.conversion.Converter.convert\"]\n\t3154054583708263430 -> 7281850675127942797\n\t7281850675127942797 [label=\"metadsl_core.numpy.NDArrayCompat.__add__\"]\n\t7281850675127942797 -> -5419148412288663401\n\t-5419148412288663401 [label=\"metadsl_core.numpy.NDArrayCompat.from_ndarray\"]\n\t-5419148412288663401 -> -7338046998780095632\n\t-7338046998780095632 [label=\"metadsl_core.maybe.Maybe.just\"]\n\t-7338046998780095632 -> 676902453469965611\n\t676902453469965611 [label=\"metadsl_core.numpy.arange_\"]\n\t676902453469965611 -> -6348449952595699719\n\t-6348449952595699719 [label=\"metadsl_core.integer.Integer.from_int\"]\n\t-6348449952595699719 -> -3705275237864060643\n\t-3705275237864060643 [label=100]\n\t7281850675127942797 -> -5419148412288663401\n\t2177864481804325886 -> 429197055195322326\n\t429197055195322326 [label=\"metadsl_core.maybe.Maybe.just\"]\n\t429197055195322326 -> -4935307720403575888\n\t-4935307720403575888 [label=\"metadsl_core.either.Either.left\"]\n\t-4935307720403575888 -> 4334974619117012171\n\t4334974619117012171 [label=\"metadsl_core.integer.Integer.from_int\"]\n\t4334974619117012171 -> -3705275237759055718\n\t-3705275237759055718 [label=5]\n\t8907023515929157079 -> -1634153577544591591\n\t-1634153577544591591 [label=\"metadsl_core.maybe.Maybe.nothing\"]\n\t8907023515929157079 -> -7271444060286549195\n\t-7271444060286549195 [label=\"metadsl_core.abstraction.Abstraction.__add__\"]\n\t-7271444060286549195 -> -495907056665805038\n\t-495907056665805038 [label=\"metadsl_core.abstraction.Abstraction.create\"]\n\t-495907056665805038 -> -5623904604890762495\n\t-5623904604890762495 [label=\"metadsl_core.abstraction.Abstraction.create_variable\"]\n\t-5623904604890762495 -> -6966490436816667220\n\t-6966490436816667220 [label=\"Variable(4545720616)\"]\n\t-495907056665805038 -> -7195979077659172442\n\t-7195979077659172442 [label=\"metadsl_core.maybe.Maybe.just\"]\n\t-7195979077659172442 -> -5623904604890762495\n\t-7271444060286549195 -> 8265815467192652237\n\t8265815467192652237 [label=\"metadsl_core.abstraction.Abstraction.from_fn\"]\n\t8265815467192652237 -> -6885157575476597440\n\t-6885157575476597440 [label=\"function NDArrayCompat.__getitem__.locals.lambda at 0x10ee30d90\"]\n}",
         "label": null,
         "rule": "metadsl_core.abstraction.Abstraction.from_fn"
        },
        {
         "graph": "digraph {\n\t1378683754418626821 [label=\"metadsl_core.numpy.NDArrayCompat.to_ndarray\"]\n\t1378683754418626821 -> 3445892881539143961\n\t3445892881539143961 [label=\"metadsl_core.numpy.NDArrayCompat.from_ndarray\"]\n\t3445892881539143961 -> -7813548441607125509\n\t-7813548441607125509 [label=\"metadsl_core.maybe.Maybe.match\"]\n\t-7813548441607125509 -> 2177864481804325886\n\t2177864481804325886 [label=\"metadsl_core.maybe.Maybe.__and__\"]\n\t2177864481804325886 -> 3154054583708263430\n\t3154054583708263430 [label=\"metadsl_core.conversion.Converter.convert\"]\n\t3154054583708263430 -> 7281850675127942797\n\t7281850675127942797 [label=\"metadsl_core.numpy.NDArrayCompat.__add__\"]\n\t7281850675127942797 -> -5419148412288663401\n\t-5419148412288663401 [label=\"metadsl_core.numpy.NDArrayCompat.from_ndarray\"]\n\t-5419148412288663401 -> -7338046998780095632\n\t-7338046998780095632 [label=\"metadsl_core.maybe.Maybe.just\"]\n\t-7338046998780095632 -> 676902453469965611\n\t676902453469965611 [label=\"metadsl_core.numpy.arange_\"]\n\t676902453469965611 -> -6348449952595699719\n\t-6348449952595699719 [label=\"metadsl_core.integer.Integer.from_int\"]\n\t-6348449952595699719 -> -3705275237864060643\n\t-3705275237864060643 [label=100]\n\t7281850675127942797 -> -5419148412288663401\n\t2177864481804325886 -> 429197055195322326\n\t429197055195322326 [label=\"metadsl_core.maybe.Maybe.just\"]\n\t429197055195322326 -> -4935307720403575888\n\t-4935307720403575888 [label=\"metadsl_core.either.Either.left\"]\n\t-4935307720403575888 -> 4334974619117012171\n\t4334974619117012171 [label=\"metadsl_core.integer.Integer.from_int\"]\n\t4334974619117012171 -> -3705275237759055718\n\t-3705275237759055718 [label=5]\n\t-7813548441607125509 -> -1634153577544591591\n\t-1634153577544591591 [label=\"metadsl_core.maybe.Maybe.nothing\"]\n\t-7813548441607125509 -> -5708725732502696721\n\t-5708725732502696721 [label=\"metadsl_core.abstraction.Abstraction.__add__\"]\n\t-5708725732502696721 -> -495907056665805038\n\t-495907056665805038 [label=\"metadsl_core.abstraction.Abstraction.create\"]\n\t-495907056665805038 -> -5623904604890762495\n\t-5623904604890762495 [label=\"metadsl_core.abstraction.Abstraction.create_variable\"]\n\t-5623904604890762495 -> -6966490436816667220\n\t-6966490436816667220 [label=\"Variable(4545720616)\"]\n\t-495907056665805038 -> -7195979077659172442\n\t-7195979077659172442 [label=\"metadsl_core.maybe.Maybe.just\"]\n\t-7195979077659172442 -> -5623904604890762495\n\t-5708725732502696721 -> -2548033601478626103\n\t-2548033601478626103 [label=\"metadsl_core.abstraction.Abstraction.create\"]\n\t-2548033601478626103 -> -3707117251068683522\n\t-3707117251068683522 [label=\"metadsl_core.abstraction.Abstraction.create_variable\"]\n\t-3707117251068683522 -> -6966490390836417845\n\t-6966490390836417845 [label=\"Variable(4545155704)\"]\n\t-2548033601478626103 -> 4725064804493183873\n\t4725064804493183873 [label=\"metadsl_core.numpy.NDArray.__getitem__\"]\n\t4725064804493183873 -> 3677192826396133856\n\t3677192826396133856 [label=\"metadsl_core.pair.Pair.left\"]\n\t3677192826396133856 -> -3707117251068683522\n\t4725064804493183873 -> -2935163272846595315\n\t-2935163272846595315 [label=\"metadsl_core.pair.Pair.right\"]\n\t-2935163272846595315 -> -3707117251068683522\n}",
         "label": null,
         "rule": "metadsl_core.abstraction.Abstraction.from_fn"
        },
        {
         "graph": "digraph {\n\t4216762219698912407 [label=\"metadsl_core.numpy.NDArrayCompat.to_ndarray\"]\n\t4216762219698912407 -> -5511822959534642185\n\t-5511822959534642185 [label=\"metadsl_core.numpy.NDArrayCompat.from_ndarray\"]\n\t-5511822959534642185 -> 3885361900790661174\n\t3885361900790661174 [label=\"metadsl_core.maybe.Maybe.match\"]\n\t3885361900790661174 -> 2177864481804325886\n\t2177864481804325886 [label=\"metadsl_core.maybe.Maybe.__and__\"]\n\t2177864481804325886 -> 3154054583708263430\n\t3154054583708263430 [label=\"metadsl_core.conversion.Converter.convert\"]\n\t3154054583708263430 -> 7281850675127942797\n\t7281850675127942797 [label=\"metadsl_core.numpy.NDArrayCompat.__add__\"]\n\t7281850675127942797 -> -5419148412288663401\n\t-5419148412288663401 [label=\"metadsl_core.numpy.NDArrayCompat.from_ndarray\"]\n\t-5419148412288663401 -> -7338046998780095632\n\t-7338046998780095632 [label=\"metadsl_core.maybe.Maybe.just\"]\n\t-7338046998780095632 -> 676902453469965611\n\t676902453469965611 [label=\"metadsl_core.numpy.arange_\"]\n\t676902453469965611 -> -6348449952595699719\n\t-6348449952595699719 [label=\"metadsl_core.integer.Integer.from_int\"]\n\t-6348449952595699719 -> -3705275237864060643\n\t-3705275237864060643 [label=100]\n\t7281850675127942797 -> -5419148412288663401\n\t2177864481804325886 -> 429197055195322326\n\t429197055195322326 [label=\"metadsl_core.maybe.Maybe.just\"]\n\t429197055195322326 -> -4935307720403575888\n\t-4935307720403575888 [label=\"metadsl_core.either.Either.left\"]\n\t-4935307720403575888 -> 4334974619117012171\n\t4334974619117012171 [label=\"metadsl_core.integer.Integer.from_int\"]\n\t4334974619117012171 -> -3705275237759055718\n\t-3705275237759055718 [label=5]\n\t3885361900790661174 -> -1634153577544591591\n\t-1634153577544591591 [label=\"metadsl_core.maybe.Maybe.nothing\"]\n\t3885361900790661174 -> 160773531963881560\n\t160773531963881560 [label=\"metadsl_core.abstraction.Abstraction.create\"]\n\t160773531963881560 -> -3707117251068683522\n\t-3707117251068683522 [label=\"metadsl_core.abstraction.Abstraction.create_variable\"]\n\t-3707117251068683522 -> -6966490390836417845\n\t-6966490390836417845 [label=\"Variable(4545155704)\"]\n\t160773531963881560 -> 8629855294481106536\n\t8629855294481106536 [label=\"metadsl_core.maybe.Maybe.just\"]\n\t8629855294481106536 -> 4725064804493183873\n\t4725064804493183873 [label=\"metadsl_core.numpy.NDArray.__getitem__\"]\n\t4725064804493183873 -> 3677192826396133856\n\t3677192826396133856 [label=\"metadsl_core.pair.Pair.left\"]\n\t3677192826396133856 -> -3707117251068683522\n\t4725064804493183873 -> -2935163272846595315\n\t-2935163272846595315 [label=\"metadsl_core.pair.Pair.right\"]\n\t-2935163272846595315 -> -3707117251068683522\n}",
         "label": null,
         "rule": "metadsl_core.abstraction.compose"
        },
        {
         "graph": "digraph {\n\t2367042760946320780 [label=\"metadsl_core.numpy.NDArrayCompat.to_ndarray\"]\n\t2367042760946320780 -> -1131989104053935942\n\t-1131989104053935942 [label=\"metadsl_core.numpy.NDArrayCompat.from_ndarray\"]\n\t-1131989104053935942 -> -802659033140068866\n\t-802659033140068866 [label=\"metadsl_core.maybe.Maybe.match\"]\n\t-802659033140068866 -> -1147415382588726262\n\t-1147415382588726262 [label=\"metadsl_core.maybe.Maybe.__and__\"]\n\t-1147415382588726262 -> -2306470418200692677\n\t-2306470418200692677 [label=\"metadsl_core.conversion.Converter.convert\"]\n\t-2306470418200692677 -> -7529480365230570664\n\t-7529480365230570664 [label=\"metadsl_core.numpy.NDArrayCompat.from_ndarray\"]\n\t-7529480365230570664 -> 53011181607246694\n\t53011181607246694 [label=\"metadsl_core.maybe.Maybe.just\"]\n\t53011181607246694 -> -759093838837854533\n\t-759093838837854533 [label=\"metadsl_core.numpy.NDArray.__add__\"]\n\t-759093838837854533 -> 676902453469965611\n\t676902453469965611 [label=\"metadsl_core.numpy.arange_\"]\n\t676902453469965611 -> -6348449952595699719\n\t-6348449952595699719 [label=\"metadsl_core.integer.Integer.from_int\"]\n\t-6348449952595699719 -> -3705275237864060643\n\t-3705275237864060643 [label=100]\n\t-759093838837854533 -> 676902453469965611\n\t-1147415382588726262 -> 429197055195322326\n\t429197055195322326 [label=\"metadsl_core.maybe.Maybe.just\"]\n\t429197055195322326 -> -4935307720403575888\n\t-4935307720403575888 [label=\"metadsl_core.either.Either.left\"]\n\t-4935307720403575888 -> 4334974619117012171\n\t4334974619117012171 [label=\"metadsl_core.integer.Integer.from_int\"]\n\t4334974619117012171 -> -3705275237759055718\n\t-3705275237759055718 [label=5]\n\t-802659033140068866 -> -1634153577544591591\n\t-1634153577544591591 [label=\"metadsl_core.maybe.Maybe.nothing\"]\n\t-802659033140068866 -> 160773531963881560\n\t160773531963881560 [label=\"metadsl_core.abstraction.Abstraction.create\"]\n\t160773531963881560 -> -3707117251068683522\n\t-3707117251068683522 [label=\"metadsl_core.abstraction.Abstraction.create_variable\"]\n\t-3707117251068683522 -> -6966490390836417845\n\t-6966490390836417845 [label=\"Variable(4545155704)\"]\n\t160773531963881560 -> 8629855294481106536\n\t8629855294481106536 [label=\"metadsl_core.maybe.Maybe.just\"]\n\t8629855294481106536 -> 4725064804493183873\n\t4725064804493183873 [label=\"metadsl_core.numpy.NDArray.__getitem__\"]\n\t4725064804493183873 -> 3677192826396133856\n\t3677192826396133856 [label=\"metadsl_core.pair.Pair.left\"]\n\t3677192826396133856 -> -3707117251068683522\n\t4725064804493183873 -> -2935163272846595315\n\t-2935163272846595315 [label=\"metadsl_core.pair.Pair.right\"]\n\t-2935163272846595315 -> -3707117251068683522\n}",
         "label": null,
         "rule": "metadsl_core.numpy.add_compat"
        },
        {
         "graph": "digraph {\n\t7839245653668139588 [label=\"metadsl_core.numpy.NDArrayCompat.to_ndarray\"]\n\t7839245653668139588 -> -5035895853445849184\n\t-5035895853445849184 [label=\"metadsl_core.numpy.NDArrayCompat.from_ndarray\"]\n\t-5035895853445849184 -> -4947834462112418237\n\t-4947834462112418237 [label=\"metadsl_core.maybe.Maybe.match\"]\n\t-4947834462112418237 -> 5598944308330143781\n\t5598944308330143781 [label=\"metadsl_core.maybe.Maybe.__and__\"]\n\t5598944308330143781 -> 53011181607246694\n\t53011181607246694 [label=\"metadsl_core.maybe.Maybe.just\"]\n\t53011181607246694 -> -759093838837854533\n\t-759093838837854533 [label=\"metadsl_core.numpy.NDArray.__add__\"]\n\t-759093838837854533 -> 676902453469965611\n\t676902453469965611 [label=\"metadsl_core.numpy.arange_\"]\n\t676902453469965611 -> -6348449952595699719\n\t-6348449952595699719 [label=\"metadsl_core.integer.Integer.from_int\"]\n\t-6348449952595699719 -> -3705275237864060643\n\t-3705275237864060643 [label=100]\n\t-759093838837854533 -> 676902453469965611\n\t5598944308330143781 -> 429197055195322326\n\t429197055195322326 [label=\"metadsl_core.maybe.Maybe.just\"]\n\t429197055195322326 -> -4935307720403575888\n\t-4935307720403575888 [label=\"metadsl_core.either.Either.left\"]\n\t-4935307720403575888 -> 4334974619117012171\n\t4334974619117012171 [label=\"metadsl_core.integer.Integer.from_int\"]\n\t4334974619117012171 -> -3705275237759055718\n\t-3705275237759055718 [label=5]\n\t-4947834462112418237 -> -1634153577544591591\n\t-1634153577544591591 [label=\"metadsl_core.maybe.Maybe.nothing\"]\n\t-4947834462112418237 -> 160773531963881560\n\t160773531963881560 [label=\"metadsl_core.abstraction.Abstraction.create\"]\n\t160773531963881560 -> -3707117251068683522\n\t-3707117251068683522 [label=\"metadsl_core.abstraction.Abstraction.create_variable\"]\n\t-3707117251068683522 -> -6966490390836417845\n\t-6966490390836417845 [label=\"Variable(4545155704)\"]\n\t160773531963881560 -> 8629855294481106536\n\t8629855294481106536 [label=\"metadsl_core.maybe.Maybe.just\"]\n\t8629855294481106536 -> 4725064804493183873\n\t4725064804493183873 [label=\"metadsl_core.numpy.NDArray.__getitem__\"]\n\t4725064804493183873 -> 3677192826396133856\n\t3677192826396133856 [label=\"metadsl_core.pair.Pair.left\"]\n\t3677192826396133856 -> -3707117251068683522\n\t4725064804493183873 -> -2935163272846595315\n\t-2935163272846595315 [label=\"metadsl_core.pair.Pair.right\"]\n\t-2935163272846595315 -> -3707117251068683522\n}",
         "label": null,
         "rule": "metadsl_core.numpy.convert_to_ndarray"
        },
        {
         "graph": "digraph {\n\t-4951686850070427313 [label=\"metadsl_core.numpy.NDArrayCompat.to_ndarray\"]\n\t-4951686850070427313 -> 6071018577691520924\n\t6071018577691520924 [label=\"metadsl_core.numpy.NDArrayCompat.from_ndarray\"]\n\t6071018577691520924 -> -9132827512678161343\n\t-9132827512678161343 [label=\"metadsl_core.maybe.Maybe.match\"]\n\t-9132827512678161343 -> 4594020610033156603\n\t4594020610033156603 [label=\"metadsl_core.maybe.Maybe.just\"]\n\t4594020610033156603 -> 6489103018356725261\n\t6489103018356725261 [label=\"metadsl_core.pair.Pair.create\"]\n\t6489103018356725261 -> -759093838837854533\n\t-759093838837854533 [label=\"metadsl_core.numpy.NDArray.__add__\"]\n\t-759093838837854533 -> 676902453469965611\n\t676902453469965611 [label=\"metadsl_core.numpy.arange_\"]\n\t676902453469965611 -> -6348449952595699719\n\t-6348449952595699719 [label=\"metadsl_core.integer.Integer.from_int\"]\n\t-6348449952595699719 -> -3705275237864060643\n\t-3705275237864060643 [label=100]\n\t-759093838837854533 -> 676902453469965611\n\t6489103018356725261 -> -4935307720403575888\n\t-4935307720403575888 [label=\"metadsl_core.either.Either.left\"]\n\t-4935307720403575888 -> 4334974619117012171\n\t4334974619117012171 [label=\"metadsl_core.integer.Integer.from_int\"]\n\t4334974619117012171 -> -3705275237759055718\n\t-3705275237759055718 [label=5]\n\t-9132827512678161343 -> -1634153577544591591\n\t-1634153577544591591 [label=\"metadsl_core.maybe.Maybe.nothing\"]\n\t-9132827512678161343 -> 160773531963881560\n\t160773531963881560 [label=\"metadsl_core.abstraction.Abstraction.create\"]\n\t160773531963881560 -> -3707117251068683522\n\t-3707117251068683522 [label=\"metadsl_core.abstraction.Abstraction.create_variable\"]\n\t-3707117251068683522 -> -6966490390836417845\n\t-6966490390836417845 [label=\"Variable(4545155704)\"]\n\t160773531963881560 -> 8629855294481106536\n\t8629855294481106536 [label=\"metadsl_core.maybe.Maybe.just\"]\n\t8629855294481106536 -> 4725064804493183873\n\t4725064804493183873 [label=\"metadsl_core.numpy.NDArray.__getitem__\"]\n\t4725064804493183873 -> 3677192826396133856\n\t3677192826396133856 [label=\"metadsl_core.pair.Pair.left\"]\n\t3677192826396133856 -> -3707117251068683522\n\t4725064804493183873 -> -2935163272846595315\n\t-2935163272846595315 [label=\"metadsl_core.pair.Pair.right\"]\n\t-2935163272846595315 -> -3707117251068683522\n}",
         "label": null,
         "rule": "metadsl_core.maybe.maybe_and"
        },
        {
         "graph": "digraph {\n\t3935502094684674418 [label=\"metadsl_core.numpy.NDArrayCompat.to_ndarray\"]\n\t3935502094684674418 -> -7077114834233384839\n\t-7077114834233384839 [label=\"metadsl_core.numpy.NDArrayCompat.from_ndarray\"]\n\t-7077114834233384839 -> 4862198080085928491\n\t4862198080085928491 [label=\"metadsl_core.abstraction.Abstraction.__call__\"]\n\t4862198080085928491 -> 160773531963881560\n\t160773531963881560 [label=\"metadsl_core.abstraction.Abstraction.create\"]\n\t160773531963881560 -> -3707117251068683522\n\t-3707117251068683522 [label=\"metadsl_core.abstraction.Abstraction.create_variable\"]\n\t-3707117251068683522 -> -6966490390836417845\n\t-6966490390836417845 [label=\"Variable(4545155704)\"]\n\t160773531963881560 -> 8629855294481106536\n\t8629855294481106536 [label=\"metadsl_core.maybe.Maybe.just\"]\n\t8629855294481106536 -> 4725064804493183873\n\t4725064804493183873 [label=\"metadsl_core.numpy.NDArray.__getitem__\"]\n\t4725064804493183873 -> 3677192826396133856\n\t3677192826396133856 [label=\"metadsl_core.pair.Pair.left\"]\n\t3677192826396133856 -> -3707117251068683522\n\t4725064804493183873 -> -2935163272846595315\n\t-2935163272846595315 [label=\"metadsl_core.pair.Pair.right\"]\n\t-2935163272846595315 -> -3707117251068683522\n\t4862198080085928491 -> 6489103018356725261\n\t6489103018356725261 [label=\"metadsl_core.pair.Pair.create\"]\n\t6489103018356725261 -> -759093838837854533\n\t-759093838837854533 [label=\"metadsl_core.numpy.NDArray.__add__\"]\n\t-759093838837854533 -> 676902453469965611\n\t676902453469965611 [label=\"metadsl_core.numpy.arange_\"]\n\t676902453469965611 -> -6348449952595699719\n\t-6348449952595699719 [label=\"metadsl_core.integer.Integer.from_int\"]\n\t-6348449952595699719 -> -3705275237864060643\n\t-3705275237864060643 [label=100]\n\t-759093838837854533 -> 676902453469965611\n\t6489103018356725261 -> -4935307720403575888\n\t-4935307720403575888 [label=\"metadsl_core.either.Either.left\"]\n\t-4935307720403575888 -> 4334974619117012171\n\t4334974619117012171 [label=\"metadsl_core.integer.Integer.from_int\"]\n\t4334974619117012171 -> -3705275237759055718\n\t-3705275237759055718 [label=5]\n}",
         "label": null,
         "rule": "metadsl_core.maybe.maybe_match"
        },
        {
         "graph": "digraph {\n\t6188741693156294736 [label=\"metadsl_core.numpy.NDArrayCompat.to_ndarray\"]\n\t6188741693156294736 -> 2895527461790539826\n\t2895527461790539826 [label=\"metadsl_core.numpy.NDArrayCompat.from_ndarray\"]\n\t2895527461790539826 -> -3727455046238765628\n\t-3727455046238765628 [label=\"metadsl_core.maybe.Maybe.just\"]\n\t-3727455046238765628 -> 4956640976287279549\n\t4956640976287279549 [label=\"metadsl_core.numpy.NDArray.__getitem__\"]\n\t4956640976287279549 -> 3185944533757697213\n\t3185944533757697213 [label=\"metadsl_core.pair.Pair.left\"]\n\t3185944533757697213 -> 6489103018356725261\n\t6489103018356725261 [label=\"metadsl_core.pair.Pair.create\"]\n\t6489103018356725261 -> -759093838837854533\n\t-759093838837854533 [label=\"metadsl_core.numpy.NDArray.__add__\"]\n\t-759093838837854533 -> 676902453469965611\n\t676902453469965611 [label=\"metadsl_core.numpy.arange_\"]\n\t676902453469965611 -> -6348449952595699719\n\t-6348449952595699719 [label=\"metadsl_core.integer.Integer.from_int\"]\n\t-6348449952595699719 -> -3705275237864060643\n\t-3705275237864060643 [label=100]\n\t-759093838837854533 -> 676902453469965611\n\t6489103018356725261 -> -4935307720403575888\n\t-4935307720403575888 [label=\"metadsl_core.either.Either.left\"]\n\t-4935307720403575888 -> 4334974619117012171\n\t4334974619117012171 [label=\"metadsl_core.integer.Integer.from_int\"]\n\t4334974619117012171 -> -3705275237759055718\n\t-3705275237759055718 [label=5]\n\t4956640976287279549 -> 1758874941227862512\n\t1758874941227862512 [label=\"metadsl_core.pair.Pair.right\"]\n\t1758874941227862512 -> 6489103018356725261\n}",
         "label": null,
         "rule": "metadsl_core.abstraction.beta_reduce"
        },
        {
         "graph": "digraph {\n\t7774360287808655507 [label=\"metadsl_core.numpy.NDArrayCompat.to_ndarray\"]\n\t7774360287808655507 -> 1630990807433894786\n\t1630990807433894786 [label=\"metadsl_core.numpy.NDArrayCompat.from_ndarray\"]\n\t1630990807433894786 -> -288210992240700157\n\t-288210992240700157 [label=\"metadsl_core.maybe.Maybe.just\"]\n\t-288210992240700157 -> 3666256152571248845\n\t3666256152571248845 [label=\"metadsl_core.numpy.NDArray.__getitem__\"]\n\t3666256152571248845 -> -759093838837854533\n\t-759093838837854533 [label=\"metadsl_core.numpy.NDArray.__add__\"]\n\t-759093838837854533 -> 676902453469965611\n\t676902453469965611 [label=\"metadsl_core.numpy.arange_\"]\n\t676902453469965611 -> -6348449952595699719\n\t-6348449952595699719 [label=\"metadsl_core.integer.Integer.from_int\"]\n\t-6348449952595699719 -> -3705275237864060643\n\t-3705275237864060643 [label=100]\n\t-759093838837854533 -> 676902453469965611\n\t3666256152571248845 -> 1758874941227862512\n\t1758874941227862512 [label=\"metadsl_core.pair.Pair.right\"]\n\t1758874941227862512 -> 6489103018356725261\n\t6489103018356725261 [label=\"metadsl_core.pair.Pair.create\"]\n\t6489103018356725261 -> -759093838837854533\n\t6489103018356725261 -> -4935307720403575888\n\t-4935307720403575888 [label=\"metadsl_core.either.Either.left\"]\n\t-4935307720403575888 -> 4334974619117012171\n\t4334974619117012171 [label=\"metadsl_core.integer.Integer.from_int\"]\n\t4334974619117012171 -> -3705275237759055718\n\t-3705275237759055718 [label=5]\n}",
         "label": null,
         "rule": "metadsl_core.pair.pair_left"
        },
        {
         "graph": "digraph {\n\t-5605213071855239412 [label=\"metadsl_core.numpy.NDArrayCompat.to_ndarray\"]\n\t-5605213071855239412 -> -1018497695054409568\n\t-1018497695054409568 [label=\"metadsl_core.numpy.NDArrayCompat.from_ndarray\"]\n\t-1018497695054409568 -> -8279202339660549391\n\t-8279202339660549391 [label=\"metadsl_core.maybe.Maybe.just\"]\n\t-8279202339660549391 -> 6325241474297918039\n\t6325241474297918039 [label=\"metadsl_core.numpy.NDArray.__add__\"]\n\t6325241474297918039 -> -6326498202064995692\n\t-6326498202064995692 [label=\"metadsl_core.numpy.NDArray.__getitem__\"]\n\t-6326498202064995692 -> 676902453469965611\n\t676902453469965611 [label=\"metadsl_core.numpy.arange_\"]\n\t676902453469965611 -> -6348449952595699719\n\t-6348449952595699719 [label=\"metadsl_core.integer.Integer.from_int\"]\n\t-6348449952595699719 -> -3705275237864060643\n\t-3705275237864060643 [label=100]\n\t-6326498202064995692 -> 1758874941227862512\n\t1758874941227862512 [label=\"metadsl_core.pair.Pair.right\"]\n\t1758874941227862512 -> 6489103018356725261\n\t6489103018356725261 [label=\"metadsl_core.pair.Pair.create\"]\n\t6489103018356725261 -> -759093838837854533\n\t-759093838837854533 [label=\"metadsl_core.numpy.NDArray.__add__\"]\n\t-759093838837854533 -> 676902453469965611\n\t-759093838837854533 -> 676902453469965611\n\t6489103018356725261 -> -4935307720403575888\n\t-4935307720403575888 [label=\"metadsl_core.either.Either.left\"]\n\t-4935307720403575888 -> 4334974619117012171\n\t4334974619117012171 [label=\"metadsl_core.integer.Integer.from_int\"]\n\t4334974619117012171 -> -3705275237759055718\n\t-3705275237759055718 [label=5]\n\t6325241474297918039 -> -6326498202064995692\n}",
         "label": null,
         "rule": "__main__.optimize_getitem_add"
        },
        {
         "graph": "digraph {\n\t-7734512656539393181 [label=\"metadsl_core.numpy.NDArrayCompat.to_ndarray\"]\n\t-7734512656539393181 -> -5225419820032251757\n\t-5225419820032251757 [label=\"metadsl_core.numpy.NDArrayCompat.from_ndarray\"]\n\t-5225419820032251757 -> -7460946659902866605\n\t-7460946659902866605 [label=\"metadsl_core.maybe.Maybe.just\"]\n\t-7460946659902866605 -> 8862735974553068826\n\t8862735974553068826 [label=\"metadsl_core.numpy.NDArray.__add__\"]\n\t8862735974553068826 -> -3031825056521805508\n\t-3031825056521805508 [label=\"metadsl_core.numpy.NDArray.__getitem__\"]\n\t-3031825056521805508 -> 676902453469965611\n\t676902453469965611 [label=\"metadsl_core.numpy.arange_\"]\n\t676902453469965611 -> -6348449952595699719\n\t-6348449952595699719 [label=\"metadsl_core.integer.Integer.from_int\"]\n\t-6348449952595699719 -> -3705275237864060643\n\t-3705275237864060643 [label=100]\n\t-3031825056521805508 -> -4935307720403575888\n\t-4935307720403575888 [label=\"metadsl_core.either.Either.left\"]\n\t-4935307720403575888 -> 4334974619117012171\n\t4334974619117012171 [label=\"metadsl_core.integer.Integer.from_int\"]\n\t4334974619117012171 -> -3705275237759055718\n\t-3705275237759055718 [label=5]\n\t8862735974553068826 -> -6326498202064995692\n\t-6326498202064995692 [label=\"metadsl_core.numpy.NDArray.__getitem__\"]\n\t-6326498202064995692 -> 676902453469965611\n\t-6326498202064995692 -> 1758874941227862512\n\t1758874941227862512 [label=\"metadsl_core.pair.Pair.right\"]\n\t1758874941227862512 -> 6489103018356725261\n\t6489103018356725261 [label=\"metadsl_core.pair.Pair.create\"]\n\t6489103018356725261 -> -759093838837854533\n\t-759093838837854533 [label=\"metadsl_core.numpy.NDArray.__add__\"]\n\t-759093838837854533 -> 676902453469965611\n\t-759093838837854533 -> 676902453469965611\n\t6489103018356725261 -> -4935307720403575888\n}",
         "label": null,
         "rule": "metadsl_core.pair.pair_right"
        },
        {
         "graph": "digraph {\n\t6278497653678953638 [label=\"metadsl_core.numpy.NDArrayCompat.to_ndarray\"]\n\t6278497653678953638 -> -2716962487081307868\n\t-2716962487081307868 [label=\"metadsl_core.numpy.NDArrayCompat.from_ndarray\"]\n\t-2716962487081307868 -> -6010828351580980414\n\t-6010828351580980414 [label=\"metadsl_core.maybe.Maybe.just\"]\n\t-6010828351580980414 -> -7572482372116643313\n\t-7572482372116643313 [label=\"metadsl_core.numpy.NDArray.__add__\"]\n\t-7572482372116643313 -> -3031825056521805508\n\t-3031825056521805508 [label=\"metadsl_core.numpy.NDArray.__getitem__\"]\n\t-3031825056521805508 -> 676902453469965611\n\t676902453469965611 [label=\"metadsl_core.numpy.arange_\"]\n\t676902453469965611 -> -6348449952595699719\n\t-6348449952595699719 [label=\"metadsl_core.integer.Integer.from_int\"]\n\t-6348449952595699719 -> -3705275237864060643\n\t-3705275237864060643 [label=100]\n\t-3031825056521805508 -> -4935307720403575888\n\t-4935307720403575888 [label=\"metadsl_core.either.Either.left\"]\n\t-4935307720403575888 -> 4334974619117012171\n\t4334974619117012171 [label=\"metadsl_core.integer.Integer.from_int\"]\n\t4334974619117012171 -> -3705275237759055718\n\t-3705275237759055718 [label=5]\n\t-7572482372116643313 -> -3031825056521805508\n}",
         "label": "convert",
         "rule": "metadsl_core.pair.pair_right"
        },
        {
         "graph": "digraph {\n\t2553325862552671182 [label=\"metadsl_core.numpy.NDArray.to_ndarray\"]\n\t2553325862552671182 -> -7572482372116643313\n\t-7572482372116643313 [label=\"metadsl_core.numpy.NDArray.__add__\"]\n\t-7572482372116643313 -> -3031825056521805508\n\t-3031825056521805508 [label=\"metadsl_core.numpy.NDArray.__getitem__\"]\n\t-3031825056521805508 -> 676902453469965611\n\t676902453469965611 [label=\"metadsl_core.numpy.arange_\"]\n\t676902453469965611 -> -6348449952595699719\n\t-6348449952595699719 [label=\"metadsl_core.integer.Integer.from_int\"]\n\t-6348449952595699719 -> -3705275237864060643\n\t-3705275237864060643 [label=100]\n\t-3031825056521805508 -> -4935307720403575888\n\t-4935307720403575888 [label=\"metadsl_core.either.Either.left\"]\n\t-4935307720403575888 -> 4334974619117012171\n\t4334974619117012171 [label=\"metadsl_core.integer.Integer.from_int\"]\n\t4334974619117012171 -> -3705275237759055718\n\t-3705275237759055718 [label=5]\n\t-7572482372116643313 -> -3031825056521805508\n}",
         "label": null,
         "rule": "metadsl_core.numpy.box_unbox_ndarray_compat"
        },
        {
         "graph": "digraph {\n\t-7238536541855472683 [label=\"metadsl_core.numpy_engine.ndarray_add\"]\n\t-7238536541855472683 -> -847498372399649344\n\t-847498372399649344 [label=\"metadsl_core.numpy.NDArray.to_ndarray\"]\n\t-847498372399649344 -> -3031825056521805508\n\t-3031825056521805508 [label=\"metadsl_core.numpy.NDArray.__getitem__\"]\n\t-3031825056521805508 -> 676902453469965611\n\t676902453469965611 [label=\"metadsl_core.numpy.arange_\"]\n\t676902453469965611 -> -6348449952595699719\n\t-6348449952595699719 [label=\"metadsl_core.integer.Integer.from_int\"]\n\t-6348449952595699719 -> -3705275237864060643\n\t-3705275237864060643 [label=100]\n\t-3031825056521805508 -> -4935307720403575888\n\t-4935307720403575888 [label=\"metadsl_core.either.Either.left\"]\n\t-4935307720403575888 -> 4334974619117012171\n\t4334974619117012171 [label=\"metadsl_core.integer.Integer.from_int\"]\n\t4334974619117012171 -> -3705275237759055718\n\t-3705275237759055718 [label=5]\n\t-7238536541855472683 -> -847498372399649344\n}",
         "label": null,
         "rule": "metadsl_core.numpy_engine.unbox_ndarray_add"
        },
        {
         "graph": "digraph {\n\t4912198614687891016 [label=\"metadsl_core.numpy_engine.ndarray_add\"]\n\t4912198614687891016 -> -7378122151801498151\n\t-7378122151801498151 [label=\"metadsl_core.numpy_engine.ndarray_getitem\"]\n\t-7378122151801498151 -> -7335669005619496596\n\t-7335669005619496596 [label=\"metadsl_core.numpy.NDArray.to_ndarray\"]\n\t-7335669005619496596 -> 676902453469965611\n\t676902453469965611 [label=\"metadsl_core.numpy.arange_\"]\n\t676902453469965611 -> -6348449952595699719\n\t-6348449952595699719 [label=\"metadsl_core.integer.Integer.from_int\"]\n\t-6348449952595699719 -> -3705275237864060643\n\t-3705275237864060643 [label=100]\n\t-7378122151801498151 -> -1727098197078088733\n\t-1727098197078088733 [label=\"metadsl_core.numpy_engine.unbox_idxs\"]\n\t-1727098197078088733 -> -4935307720403575888\n\t-4935307720403575888 [label=\"metadsl_core.either.Either.left\"]\n\t-4935307720403575888 -> 4334974619117012171\n\t4334974619117012171 [label=\"metadsl_core.integer.Integer.from_int\"]\n\t4334974619117012171 -> -3705275237759055718\n\t-3705275237759055718 [label=5]\n\t4912198614687891016 -> -847498372399649344\n\t-847498372399649344 [label=\"metadsl_core.numpy.NDArray.to_ndarray\"]\n\t-847498372399649344 -> -3031825056521805508\n\t-3031825056521805508 [label=\"metadsl_core.numpy.NDArray.__getitem__\"]\n\t-3031825056521805508 -> 676902453469965611\n\t-3031825056521805508 -> -4935307720403575888\n}",
         "label": null,
         "rule": "metadsl_core.numpy_engine.unbox_ndarray_getitem"
        },
        {
         "graph": "digraph {\n\t6041997727076074195 [label=\"metadsl_core.numpy_engine.ndarray_add\"]\n\t6041997727076074195 -> 2527024770884907802\n\t2527024770884907802 [label=\"metadsl_core.numpy_engine.ndarray_getitem\"]\n\t2527024770884907802 -> -6866217854608818907\n\t-6866217854608818907 [label=\"metadsl_core.numpy_engine.arange\"]\n\t-6866217854608818907 -> 7709830722086267384\n\t7709830722086267384 [label=\"metadsl_core.numpy_engine.unbox_integer\"]\n\t7709830722086267384 -> -6348449952595699719\n\t-6348449952595699719 [label=\"metadsl_core.integer.Integer.from_int\"]\n\t-6348449952595699719 -> -3705275237864060643\n\t-3705275237864060643 [label=100]\n\t2527024770884907802 -> -1727098197078088733\n\t-1727098197078088733 [label=\"metadsl_core.numpy_engine.unbox_idxs\"]\n\t-1727098197078088733 -> -4935307720403575888\n\t-4935307720403575888 [label=\"metadsl_core.either.Either.left\"]\n\t-4935307720403575888 -> 4334974619117012171\n\t4334974619117012171 [label=\"metadsl_core.integer.Integer.from_int\"]\n\t4334974619117012171 -> -3705275237759055718\n\t-3705275237759055718 [label=5]\n\t6041997727076074195 -> -847498372399649344\n\t-847498372399649344 [label=\"metadsl_core.numpy.NDArray.to_ndarray\"]\n\t-847498372399649344 -> -3031825056521805508\n\t-3031825056521805508 [label=\"metadsl_core.numpy.NDArray.__getitem__\"]\n\t-3031825056521805508 -> 676902453469965611\n\t676902453469965611 [label=\"metadsl_core.numpy.arange_\"]\n\t676902453469965611 -> -6348449952595699719\n\t-3031825056521805508 -> -4935307720403575888\n}",
         "label": null,
         "rule": "metadsl_core.numpy_engine.unbox_arange"
        },
        {
         "graph": "digraph {\n\t2238835771622311935 [label=\"metadsl_core.numpy_engine.ndarray_add\"]\n\t2238835771622311935 -> 6227968977123678793\n\t6227968977123678793 [label=\"metadsl_core.numpy_engine.ndarray_getitem\"]\n\t6227968977123678793 -> 6263790735347685846\n\t6263790735347685846 [label=\"metadsl_core.numpy_engine.arange\"]\n\t6263790735347685846 -> -3705275237864060643\n\t-3705275237864060643 [label=100]\n\t6227968977123678793 -> -1727098197078088733\n\t-1727098197078088733 [label=\"metadsl_core.numpy_engine.unbox_idxs\"]\n\t-1727098197078088733 -> -4935307720403575888\n\t-4935307720403575888 [label=\"metadsl_core.either.Either.left\"]\n\t-4935307720403575888 -> 4334974619117012171\n\t4334974619117012171 [label=\"metadsl_core.integer.Integer.from_int\"]\n\t4334974619117012171 -> -3705275237759055718\n\t-3705275237759055718 [label=5]\n\t2238835771622311935 -> -847498372399649344\n\t-847498372399649344 [label=\"metadsl_core.numpy.NDArray.to_ndarray\"]\n\t-847498372399649344 -> -3031825056521805508\n\t-3031825056521805508 [label=\"metadsl_core.numpy.NDArray.__getitem__\"]\n\t-3031825056521805508 -> 676902453469965611\n\t676902453469965611 [label=\"metadsl_core.numpy.arange_\"]\n\t676902453469965611 -> -6348449952595699719\n\t-6348449952595699719 [label=\"metadsl_core.integer.Integer.from_int\"]\n\t-6348449952595699719 -> -3705275237864060643\n\t-3031825056521805508 -> -4935307720403575888\n}",
         "label": null,
         "rule": "metadsl_core.numpy_engine.unbox_integer_rule"
        },
        {
         "graph": "digraph {\n\t3143315249364599150 [label=\"metadsl_core.numpy_engine.ndarray_add\"]\n\t3143315249364599150 -> 6227749445817335041\n\t6227749445817335041 [label=\"metadsl_core.numpy_engine.ndarray_getitem\"]\n\t6227749445817335041 -> 6263790735347685846\n\t6263790735347685846 [label=\"metadsl_core.numpy_engine.arange\"]\n\t6263790735347685846 -> -3705275237864060643\n\t-3705275237864060643 [label=100]\n\t6227749445817335041 -> -1650449521913670327\n\t-1650449521913670327 [label=\"metadsl_core.numpy_engine.unbox_integer\"]\n\t-1650449521913670327 -> 4334974619117012171\n\t4334974619117012171 [label=\"metadsl_core.integer.Integer.from_int\"]\n\t4334974619117012171 -> -3705275237759055718\n\t-3705275237759055718 [label=5]\n\t3143315249364599150 -> -847498372399649344\n\t-847498372399649344 [label=\"metadsl_core.numpy.NDArray.to_ndarray\"]\n\t-847498372399649344 -> -3031825056521805508\n\t-3031825056521805508 [label=\"metadsl_core.numpy.NDArray.__getitem__\"]\n\t-3031825056521805508 -> 676902453469965611\n\t676902453469965611 [label=\"metadsl_core.numpy.arange_\"]\n\t676902453469965611 -> -6348449952595699719\n\t-6348449952595699719 [label=\"metadsl_core.integer.Integer.from_int\"]\n\t-6348449952595699719 -> -3705275237864060643\n\t-3031825056521805508 -> -4935307720403575888\n\t-4935307720403575888 [label=\"metadsl_core.either.Either.left\"]\n\t-4935307720403575888 -> 4334974619117012171\n}",
         "label": null,
         "rule": "metadsl_core.numpy_engine.unbox_idxs_rule"
        },
        {
         "graph": "digraph {\n\t4353231192952827782 [label=\"metadsl_core.numpy_engine.ndarray_add\"]\n\t4353231192952827782 -> 5569719149546867854\n\t5569719149546867854 [label=\"metadsl_core.numpy_engine.ndarray_getitem\"]\n\t5569719149546867854 -> 6263790735347685846\n\t6263790735347685846 [label=\"metadsl_core.numpy_engine.arange\"]\n\t6263790735347685846 -> -3705275237864060643\n\t-3705275237864060643 [label=100]\n\t5569719149546867854 -> -3705275237759055718\n\t-3705275237759055718 [label=5]\n\t4353231192952827782 -> -847498372399649344\n\t-847498372399649344 [label=\"metadsl_core.numpy.NDArray.to_ndarray\"]\n\t-847498372399649344 -> -3031825056521805508\n\t-3031825056521805508 [label=\"metadsl_core.numpy.NDArray.__getitem__\"]\n\t-3031825056521805508 -> 676902453469965611\n\t676902453469965611 [label=\"metadsl_core.numpy.arange_\"]\n\t676902453469965611 -> -6348449952595699719\n\t-6348449952595699719 [label=\"metadsl_core.integer.Integer.from_int\"]\n\t-6348449952595699719 -> -3705275237864060643\n\t-3031825056521805508 -> -4935307720403575888\n\t-4935307720403575888 [label=\"metadsl_core.either.Either.left\"]\n\t-4935307720403575888 -> 4334974619117012171\n\t4334974619117012171 [label=\"metadsl_core.integer.Integer.from_int\"]\n\t4334974619117012171 -> -3705275237759055718\n}",
         "label": null,
         "rule": "metadsl_core.numpy_engine.unbox_integer_rule"
        },
        {
         "graph": "digraph {\n\t2235985623503686545 [label=\"metadsl_core.numpy_engine.ndarray_add\"]\n\t2235985623503686545 -> 5569719149546867854\n\t5569719149546867854 [label=\"metadsl_core.numpy_engine.ndarray_getitem\"]\n\t5569719149546867854 -> 6263790735347685846\n\t6263790735347685846 [label=\"metadsl_core.numpy_engine.arange\"]\n\t6263790735347685846 -> -3705275237864060643\n\t-3705275237864060643 [label=100]\n\t5569719149546867854 -> -3705275237759055718\n\t-3705275237759055718 [label=5]\n\t2235985623503686545 -> -7378122151801498151\n\t-7378122151801498151 [label=\"metadsl_core.numpy_engine.ndarray_getitem\"]\n\t-7378122151801498151 -> -7335669005619496596\n\t-7335669005619496596 [label=\"metadsl_core.numpy.NDArray.to_ndarray\"]\n\t-7335669005619496596 -> 676902453469965611\n\t676902453469965611 [label=\"metadsl_core.numpy.arange_\"]\n\t676902453469965611 -> -6348449952595699719\n\t-6348449952595699719 [label=\"metadsl_core.integer.Integer.from_int\"]\n\t-6348449952595699719 -> -3705275237864060643\n\t-7378122151801498151 -> -1727098197078088733\n\t-1727098197078088733 [label=\"metadsl_core.numpy_engine.unbox_idxs\"]\n\t-1727098197078088733 -> -4935307720403575888\n\t-4935307720403575888 [label=\"metadsl_core.either.Either.left\"]\n\t-4935307720403575888 -> 4334974619117012171\n\t4334974619117012171 [label=\"metadsl_core.integer.Integer.from_int\"]\n\t4334974619117012171 -> -3705275237759055718\n}",
         "label": null,
         "rule": "metadsl_core.numpy_engine.unbox_ndarray_getitem"
        },
        {
         "graph": "digraph {\n\t64697981528287998 [label=\"metadsl_core.numpy_engine.ndarray_add\"]\n\t64697981528287998 -> 5569719149546867854\n\t5569719149546867854 [label=\"metadsl_core.numpy_engine.ndarray_getitem\"]\n\t5569719149546867854 -> 6263790735347685846\n\t6263790735347685846 [label=\"metadsl_core.numpy_engine.arange\"]\n\t6263790735347685846 -> -3705275237864060643\n\t-3705275237864060643 [label=100]\n\t5569719149546867854 -> -3705275237759055718\n\t-3705275237759055718 [label=5]\n\t64697981528287998 -> 2527024770884907802\n\t2527024770884907802 [label=\"metadsl_core.numpy_engine.ndarray_getitem\"]\n\t2527024770884907802 -> -6866217854608818907\n\t-6866217854608818907 [label=\"metadsl_core.numpy_engine.arange\"]\n\t-6866217854608818907 -> 7709830722086267384\n\t7709830722086267384 [label=\"metadsl_core.numpy_engine.unbox_integer\"]\n\t7709830722086267384 -> -6348449952595699719\n\t-6348449952595699719 [label=\"metadsl_core.integer.Integer.from_int\"]\n\t-6348449952595699719 -> -3705275237864060643\n\t2527024770884907802 -> -1727098197078088733\n\t-1727098197078088733 [label=\"metadsl_core.numpy_engine.unbox_idxs\"]\n\t-1727098197078088733 -> -4935307720403575888\n\t-4935307720403575888 [label=\"metadsl_core.either.Either.left\"]\n\t-4935307720403575888 -> 4334974619117012171\n\t4334974619117012171 [label=\"metadsl_core.integer.Integer.from_int\"]\n\t4334974619117012171 -> -3705275237759055718\n}",
         "label": null,
         "rule": "metadsl_core.numpy_engine.unbox_arange"
        },
        {
         "graph": "digraph {\n\t-8394424762690264190 [label=\"metadsl_core.numpy_engine.ndarray_add\"]\n\t-8394424762690264190 -> 5569719149546867854\n\t5569719149546867854 [label=\"metadsl_core.numpy_engine.ndarray_getitem\"]\n\t5569719149546867854 -> 6263790735347685846\n\t6263790735347685846 [label=\"metadsl_core.numpy_engine.arange\"]\n\t6263790735347685846 -> -3705275237864060643\n\t-3705275237864060643 [label=100]\n\t5569719149546867854 -> -3705275237759055718\n\t-3705275237759055718 [label=5]\n\t-8394424762690264190 -> 6227968977123678793\n\t6227968977123678793 [label=\"metadsl_core.numpy_engine.ndarray_getitem\"]\n\t6227968977123678793 -> 6263790735347685846\n\t6227968977123678793 -> -1727098197078088733\n\t-1727098197078088733 [label=\"metadsl_core.numpy_engine.unbox_idxs\"]\n\t-1727098197078088733 -> -4935307720403575888\n\t-4935307720403575888 [label=\"metadsl_core.either.Either.left\"]\n\t-4935307720403575888 -> 4334974619117012171\n\t4334974619117012171 [label=\"metadsl_core.integer.Integer.from_int\"]\n\t4334974619117012171 -> -3705275237759055718\n}",
         "label": null,
         "rule": "metadsl_core.numpy_engine.unbox_integer_rule"
        },
        {
         "graph": "digraph {\n\t1987728201386139715 [label=\"metadsl_core.numpy_engine.ndarray_add\"]\n\t1987728201386139715 -> 5569719149546867854\n\t5569719149546867854 [label=\"metadsl_core.numpy_engine.ndarray_getitem\"]\n\t5569719149546867854 -> 6263790735347685846\n\t6263790735347685846 [label=\"metadsl_core.numpy_engine.arange\"]\n\t6263790735347685846 -> -3705275237864060643\n\t-3705275237864060643 [label=100]\n\t5569719149546867854 -> -3705275237759055718\n\t-3705275237759055718 [label=5]\n\t1987728201386139715 -> 6227749445817335041\n\t6227749445817335041 [label=\"metadsl_core.numpy_engine.ndarray_getitem\"]\n\t6227749445817335041 -> 6263790735347685846\n\t6227749445817335041 -> -1650449521913670327\n\t-1650449521913670327 [label=\"metadsl_core.numpy_engine.unbox_integer\"]\n\t-1650449521913670327 -> 4334974619117012171\n\t4334974619117012171 [label=\"metadsl_core.integer.Integer.from_int\"]\n\t4334974619117012171 -> -3705275237759055718\n}",
         "label": null,
         "rule": "metadsl_core.numpy_engine.unbox_idxs_rule"
        },
        {
         "graph": "digraph {\n\t-7511579697616063836 [label=\"metadsl_core.numpy_engine.ndarray_add\"]\n\t-7511579697616063836 -> 5569719149546867854\n\t5569719149546867854 [label=\"metadsl_core.numpy_engine.ndarray_getitem\"]\n\t5569719149546867854 -> 6263790735347685846\n\t6263790735347685846 [label=\"metadsl_core.numpy_engine.arange\"]\n\t6263790735347685846 -> -3705275237864060643\n\t-3705275237864060643 [label=100]\n\t5569719149546867854 -> -3705275237759055718\n\t-3705275237759055718 [label=5]\n\t-7511579697616063836 -> 5569719149546867854\n}",
         "label": "unbox",
         "rule": "metadsl_core.numpy_engine.unbox_integer_rule"
        },
        {
         "graph": "digraph {\n\t-213012314763072436 [label=\"metadsl_core.numpy_engine.ndarray_add\"]\n\t-213012314763072436 -> -37477014601027486\n\t-37477014601027486 [label=\"metadsl_core.numpy_engine.ndarray_getitem\"]\n\t-37477014601027486 -> 4104838472554137149\n\t4104838472554137149 [label=\"array([ 0,  1,  2,  3,  4,  5,  6,  7,  8,  9, 10, 11, 12, 13, 14, 15, 16,\n       17, 18, 19, 20, 21, 22, 23, 24, 25, 26, 27, 28, 29, 30, 31, 32, 33,\n       34, 35, 36, 37, 38, 39, 40, 41, 42, 43, 44, 45, 46, 47, 48, 49, 50,\n       51, 52, 53, 54, 55, 56, 57, 58, 59, 60, 61, 62, 63, 64, 65, 66, 67,\n       68, 69, 70, 71, 72, 73, 74, 75, 76, 77, 78, 79, 80, 81, 82, 83, 84,\n       85, 86, 87, 88, 89, 90, 91, 92, 93, 94, 95, 96, 97, 98, 99])\"]\n\t-37477014601027486 -> -3705275237759055718\n\t-3705275237759055718 [label=5]\n\t-213012314763072436 -> 5569719149546867854\n\t5569719149546867854 [label=\"metadsl_core.numpy_engine.ndarray_getitem\"]\n\t5569719149546867854 -> 6263790735347685846\n\t6263790735347685846 [label=\"metadsl_core.numpy_engine.arange\"]\n\t6263790735347685846 -> -3705275237864060643\n\t-3705275237864060643 [label=100]\n\t5569719149546867854 -> -3705275237759055718\n}",
         "label": null,
         "rule": "metadsl_core.numpy_engine.arange"
        },
        {
         "graph": "digraph {\n\t-5701606378643831792 [label=\"metadsl_core.numpy_engine.ndarray_add\"]\n\t-5701606378643831792 -> -5761567968198041464\n\t-5761567968198041464 [label=5]\n\t-5701606378643831792 -> 5569719149546867854\n\t5569719149546867854 [label=\"metadsl_core.numpy_engine.ndarray_getitem\"]\n\t5569719149546867854 -> 6263790735347685846\n\t6263790735347685846 [label=\"metadsl_core.numpy_engine.arange\"]\n\t6263790735347685846 -> -3705275237864060643\n\t-3705275237864060643 [label=100]\n\t5569719149546867854 -> -3705275237759055718\n\t-3705275237759055718 [label=5]\n}",
         "label": null,
         "rule": "metadsl_core.numpy_engine.ndarray_getitem"
        },
        {
         "graph": "digraph {\n\t-5587534132128047160 [label=\"metadsl_core.numpy_engine.ndarray_add\"]\n\t-5587534132128047160 -> -5761567968198041464\n\t-5761567968198041464 [label=5]\n\t-5587534132128047160 -> -5577291169494991773\n\t-5577291169494991773 [label=\"metadsl_core.numpy_engine.ndarray_getitem\"]\n\t-5577291169494991773 -> 4104838400414671149\n\t4104838400414671149 [label=\"array([ 0,  1,  2,  3,  4,  5,  6,  7,  8,  9, 10, 11, 12, 13, 14, 15, 16,\n       17, 18, 19, 20, 21, 22, 23, 24, 25, 26, 27, 28, 29, 30, 31, 32, 33,\n       34, 35, 36, 37, 38, 39, 40, 41, 42, 43, 44, 45, 46, 47, 48, 49, 50,\n       51, 52, 53, 54, 55, 56, 57, 58, 59, 60, 61, 62, 63, 64, 65, 66, 67,\n       68, 69, 70, 71, 72, 73, 74, 75, 76, 77, 78, 79, 80, 81, 82, 83, 84,\n       85, 86, 87, 88, 89, 90, 91, 92, 93, 94, 95, 96, 97, 98, 99])\"]\n\t-5577291169494991773 -> -3705275237759055718\n\t-3705275237759055718 [label=5]\n}",
         "label": null,
         "rule": "metadsl_core.numpy_engine.arange"
        },
        {
         "graph": "digraph {\n\t2659949171365915247 [label=\"metadsl_core.numpy_engine.ndarray_add\"]\n\t2659949171365915247 -> -5761567968198041464\n\t-5761567968198041464 [label=5]\n\t2659949171365915247 -> -5761567968198041464\n}",
         "label": null,
         "rule": "metadsl_core.numpy_engine.ndarray_getitem"
        },
        {
         "graph": "digraph {\n\t-5761567968183968639 [label=10]\n}",
         "label": "execute",
         "rule": "metadsl_core.numpy_engine.ndarray_add"
        }
       ]
      },
      "text/plain": [
       "Typez(definitions=None, nodes={'-3705275237864060643': PrimitiveNode(type='int', repr='100'), '-7055281088629370118': CallNode(function='metadsl_core.numpy.arange', type_params=None, args=['-3705275237864060643'], kwargs=None), '5764860230719714798': CallNode(function='metadsl_core.numpy.NDArrayCompat.__add__', type_params=None, args=['-7055281088629370118', '-7055281088629370118'], kwargs=None), '-3705275237759055718': PrimitiveNode(type='int', repr='5'), '6550727564280151447': CallNode(function='metadsl_core.numpy.NDArrayCompat.__getitem__', type_params=None, args=['5764860230719714798', '-3705275237759055718'], kwargs=None), '-2038961938848683980': CallNode(function='metadsl_core.numpy.NDArrayCompat.to_ndarray', type_params=None, args=['6550727564280151447'], kwargs=None), '-2927105886577020080': CallNode(function='metadsl_core.conversion.Converter.convert', type_params={'T': DeclaredTypeInstance(type='metadsl_core.numpy.NDArray', params=None)}, args=['5764860230719714798'], kwargs=None), '8011615922277789946': CallNode(function='metadsl_core.conversion.Converter.convert', type_params={'T': DeclaredTypeInstance(type='metadsl_core.either.Either', params={'U': DeclaredTypeInstance(type='metadsl_core.vec.Vec', params={'T': DeclaredTypeInstance(type='metadsl_core.integer.Integer', params=None)}), 'T': DeclaredTypeInstance(type='metadsl_core.integer.Integer', params=None)})}, args=['-3705275237759055718'], kwargs=None), '5231317810645234517': CallNode(function='metadsl_core.maybe.Maybe.__and__', type_params={'T': DeclaredTypeInstance(type='metadsl_core.numpy.NDArray', params=None)}, args=['-2927105886577020080', '8011615922277789946'], kwargs=None), '2338208855431533768': PrimitiveNode(type='function', repr='<function NDArrayCompat.__getitem__.<locals>.<lambda> at 0x10bf35e18>'), '-4849403349205996894': CallNode(function='metadsl_core.abstraction.Abstraction.from_fn', type_params={'U': DeclaredTypeInstance(type='metadsl_core.numpy.NDArray', params=None), 'T': DeclaredTypeInstance(type='metadsl_core.pair.Pair', params={'U': DeclaredTypeInstance(type='metadsl_core.either.Either', params={'U': DeclaredTypeInstance(type='metadsl_core.vec.Vec', params={'T': DeclaredTypeInstance(type='metadsl_core.integer.Integer', params=None)}), 'T': DeclaredTypeInstance(type='metadsl_core.integer.Integer', params=None)}), 'T': DeclaredTypeInstance(type='metadsl_core.numpy.NDArray', params=None)})}, args=['2338208855431533768'], kwargs=None), '6620122342903770576': CallNode(function='metadsl_core.maybe.Maybe.map', type_params={'T': DeclaredTypeInstance(type='metadsl_core.pair.Pair', params={'U': DeclaredTypeInstance(type='metadsl_core.either.Either', params={'U': DeclaredTypeInstance(type='metadsl_core.vec.Vec', params={'T': DeclaredTypeInstance(type='metadsl_core.integer.Integer', params=None)}), 'T': DeclaredTypeInstance(type='metadsl_core.integer.Integer', params=None)}), 'T': DeclaredTypeInstance(type='metadsl_core.numpy.NDArray', params=None)})}, args=['5231317810645234517', '-4849403349205996894'], kwargs=None), '2739036484444012644': CallNode(function='metadsl_core.numpy.NDArrayCompat.from_ndarray', type_params=None, args=['6620122342903770576'], kwargs=None), '1303019370980816768': CallNode(function='metadsl_core.numpy.NDArrayCompat.to_ndarray', type_params=None, args=['2739036484444012644'], kwargs=None), '-7661950433982450966': CallNode(function='metadsl_core.conversion.Converter.convert', type_params={'T': DeclaredTypeInstance(type='metadsl_core.integer.Integer', params=None)}, args=['-3705275237864060643'], kwargs=None), '-7070438637286422905': PrimitiveNode(type='metadsl.typing_tools.Infer', repr='Infer(fn=<function arange_ at 0x10ea01158>)'), '4130506920816483144': CallNode(function='metadsl_core.abstraction.Abstraction.from_fn', type_params=None, args=['-7070438637286422905'], kwargs=None), '-1577388983039126609': CallNode(function='metadsl_core.maybe.Maybe.map', type_params={'T': DeclaredTypeInstance(type='metadsl_core.integer.Integer', params=None)}, args=['-7661950433982450966', '4130506920816483144'], kwargs=None), '8519257424446584621': CallNode(function='metadsl_core.numpy.NDArrayCompat.from_ndarray', type_params=None, args=['-1577388983039126609'], kwargs=None), '-4315186536235377471': CallNode(function='metadsl_core.numpy.NDArrayCompat.__add__', type_params=None, args=['8519257424446584621', '-7055281088629370118'], kwargs=None), '-4912462970913600817': CallNode(function='metadsl_core.conversion.Converter.convert', type_params={'T': DeclaredTypeInstance(type='metadsl_core.numpy.NDArray', params=None)}, args=['-4315186536235377471'], kwargs=None), '-8281681333636686969': CallNode(function='metadsl_core.maybe.Maybe.__and__', type_params={'T': DeclaredTypeInstance(type='metadsl_core.numpy.NDArray', params=None)}, args=['-4912462970913600817', '8011615922277789946'], kwargs=None), '626907516928159674': CallNode(function='metadsl_core.maybe.Maybe.map', type_params={'T': DeclaredTypeInstance(type='metadsl_core.pair.Pair', params={'U': DeclaredTypeInstance(type='metadsl_core.either.Either', params={'U': DeclaredTypeInstance(type='metadsl_core.vec.Vec', params={'T': DeclaredTypeInstance(type='metadsl_core.integer.Integer', params=None)}), 'T': DeclaredTypeInstance(type='metadsl_core.integer.Integer', params=None)}), 'T': DeclaredTypeInstance(type='metadsl_core.numpy.NDArray', params=None)})}, args=['-8281681333636686969', '-4849403349205996894'], kwargs=None), '5498191276875769260': CallNode(function='metadsl_core.numpy.NDArrayCompat.from_ndarray', type_params=None, args=['626907516928159674'], kwargs=None), '4777715286084451550': CallNode(function='metadsl_core.numpy.NDArrayCompat.to_ndarray', type_params=None, args=['5498191276875769260'], kwargs=None), '-6348449952595699719': CallNode(function='metadsl_core.integer.Integer.from_int', type_params=None, args=['-3705275237864060643'], kwargs=None), '6401238467075760220': CallNode(function='metadsl_core.maybe.Maybe.just', type_params=None, args=['-6348449952595699719'], kwargs=None), '-6456102885800723638': CallNode(function='metadsl_core.maybe.Maybe.map', type_params={'T': DeclaredTypeInstance(type='metadsl_core.integer.Integer', params=None)}, args=['6401238467075760220', '4130506920816483144'], kwargs=None), '4765036408123793029': CallNode(function='metadsl_core.numpy.NDArrayCompat.from_ndarray', type_params=None, args=['-6456102885800723638'], kwargs=None), '-993268038132965659': CallNode(function='metadsl_core.numpy.NDArrayCompat.__add__', type_params=None, args=['4765036408123793029', '-7055281088629370118'], kwargs=None), '2535515210733193989': CallNode(function='metadsl_core.conversion.Converter.convert', type_params={'T': DeclaredTypeInstance(type='metadsl_core.numpy.NDArray', params=None)}, args=['-993268038132965659'], kwargs=None), '3748997720588164969': CallNode(function='metadsl_core.maybe.Maybe.__and__', type_params={'T': DeclaredTypeInstance(type='metadsl_core.numpy.NDArray', params=None)}, args=['2535515210733193989', '8011615922277789946'], kwargs=None), '1583204918447313433': CallNode(function='metadsl_core.maybe.Maybe.map', type_params={'T': DeclaredTypeInstance(type='metadsl_core.pair.Pair', params={'U': DeclaredTypeInstance(type='metadsl_core.either.Either', params={'U': DeclaredTypeInstance(type='metadsl_core.vec.Vec', params={'T': DeclaredTypeInstance(type='metadsl_core.integer.Integer', params=None)}), 'T': DeclaredTypeInstance(type='metadsl_core.integer.Integer', params=None)}), 'T': DeclaredTypeInstance(type='metadsl_core.numpy.NDArray', params=None)})}, args=['3748997720588164969', '-4849403349205996894'], kwargs=None), '565465857092453741': CallNode(function='metadsl_core.numpy.NDArrayCompat.from_ndarray', type_params=None, args=['1583204918447313433'], kwargs=None), '347114057044847048': CallNode(function='metadsl_core.numpy.NDArrayCompat.to_ndarray', type_params=None, args=['565465857092453741'], kwargs=None), '6427778498691214608': CallNode(function='metadsl_core.numpy.NDArrayCompat.__add__', type_params=None, args=['4765036408123793029', '8519257424446584621'], kwargs=None), '4678850780078233403': CallNode(function='metadsl_core.conversion.Converter.convert', type_params={'T': DeclaredTypeInstance(type='metadsl_core.numpy.NDArray', params=None)}, args=['6427778498691214608'], kwargs=None), '8032600939169997756': CallNode(function='metadsl_core.maybe.Maybe.__and__', type_params={'T': DeclaredTypeInstance(type='metadsl_core.numpy.NDArray', params=None)}, args=['4678850780078233403', '8011615922277789946'], kwargs=None), '-249562993268966980': CallNode(function='metadsl_core.maybe.Maybe.map', type_params={'T': DeclaredTypeInstance(type='metadsl_core.pair.Pair', params={'U': DeclaredTypeInstance(type='metadsl_core.either.Either', params={'U': DeclaredTypeInstance(type='metadsl_core.vec.Vec', params={'T': DeclaredTypeInstance(type='metadsl_core.integer.Integer', params=None)}), 'T': DeclaredTypeInstance(type='metadsl_core.integer.Integer', params=None)}), 'T': DeclaredTypeInstance(type='metadsl_core.numpy.NDArray', params=None)})}, args=['8032600939169997756', '-4849403349205996894'], kwargs=None), '-4996069196105384783': CallNode(function='metadsl_core.numpy.NDArrayCompat.from_ndarray', type_params=None, args=['-249562993268966980'], kwargs=None), '2633483951461553102': CallNode(function='metadsl_core.numpy.NDArrayCompat.to_ndarray', type_params=None, args=['-4996069196105384783'], kwargs=None), '-3154319303345681053': CallNode(function='metadsl_core.numpy.NDArrayCompat.__add__', type_params=None, args=['4765036408123793029', '4765036408123793029'], kwargs=None), '-6286215055759621830': CallNode(function='metadsl_core.conversion.Converter.convert', type_params={'T': DeclaredTypeInstance(type='metadsl_core.numpy.NDArray', params=None)}, args=['-3154319303345681053'], kwargs=None), '-9168974794687253874': CallNode(function='metadsl_core.maybe.Maybe.__and__', type_params={'T': DeclaredTypeInstance(type='metadsl_core.numpy.NDArray', params=None)}, args=['-6286215055759621830', '8011615922277789946'], kwargs=None), '1601330547832823811': CallNode(function='metadsl_core.maybe.Maybe.map', type_params={'T': DeclaredTypeInstance(type='metadsl_core.pair.Pair', params={'U': DeclaredTypeInstance(type='metadsl_core.either.Either', params={'U': DeclaredTypeInstance(type='metadsl_core.vec.Vec', params={'T': DeclaredTypeInstance(type='metadsl_core.integer.Integer', params=None)}), 'T': DeclaredTypeInstance(type='metadsl_core.integer.Integer', params=None)}), 'T': DeclaredTypeInstance(type='metadsl_core.numpy.NDArray', params=None)})}, args=['-9168974794687253874', '-4849403349205996894'], kwargs=None), '-1304423807553207709': CallNode(function='metadsl_core.numpy.NDArrayCompat.from_ndarray', type_params=None, args=['1601330547832823811'], kwargs=None), '-3838008980622638884': CallNode(function='metadsl_core.numpy.NDArrayCompat.to_ndarray', type_params=None, args=['-1304423807553207709'], kwargs=None), '3443580654182396632': CallNode(function='metadsl_core.conversion.Converter.convert', type_params={'T': DeclaredTypeInstance(type='metadsl_core.integer.Integer', params=None)}, args=['-3705275237759055718'], kwargs=None), '3018243843441439558': PrimitiveNode(type='metadsl.typing_tools.BoundInfer', repr='BoundInfer(fn=<function Either.left at 0x10bfd2378>, owner=metadsl_core.either.Either[metadsl_core.integer.Integer, metadsl_core.vec.Vec[metadsl_core.integer.Integer]], is_classmethod=True)'), '-4614541160952175371': CallNode(function='metadsl_core.abstraction.Abstraction.from_fn', type_params=None, args=['3018243843441439558'], kwargs=None), '2684600335931657705': CallNode(function='metadsl_core.maybe.Maybe.map', type_params={'T': DeclaredTypeInstance(type='metadsl_core.integer.Integer', params=None)}, args=['3443580654182396632', '-4614541160952175371'], kwargs=None), '6263375678545427999': CallNode(function='metadsl_core.conversion.Converter.convert', type_params={'T': DeclaredTypeInstance(type='metadsl_core.vec.Vec', params={'T': DeclaredTypeInstance(type='metadsl_core.integer.Integer', params=None)})}, args=['-3705275237759055718'], kwargs=None), '3018242090391794358': PrimitiveNode(type='metadsl.typing_tools.BoundInfer', repr='BoundInfer(fn=<function Either.right at 0x10bfd27b8>, owner=metadsl_core.either.Either[metadsl_core.integer.Integer, metadsl_core.vec.Vec[metadsl_core.integer.Integer]], is_classmethod=True)'), '-9190197779247618442': CallNode(function='metadsl_core.abstraction.Abstraction.from_fn', type_params=None, args=['3018242090391794358'], kwargs=None), '7868914353039265219': CallNode(function='metadsl_core.maybe.Maybe.map', type_params={'T': DeclaredTypeInstance(type='metadsl_core.vec.Vec', params={'T': DeclaredTypeInstance(type='metadsl_core.integer.Integer', params=None)})}, args=['6263375678545427999', '-9190197779247618442'], kwargs=None), '2992674189416269404': CallNode(function='metadsl_core.maybe.Maybe.__or__', type_params={'T': DeclaredTypeInstance(type='metadsl_core.either.Either', params={'U': DeclaredTypeInstance(type='metadsl_core.vec.Vec', params={'T': DeclaredTypeInstance(type='metadsl_core.integer.Integer', params=None)}), 'T': DeclaredTypeInstance(type='metadsl_core.integer.Integer', params=None)})}, args=['2684600335931657705', '7868914353039265219'], kwargs=None), '3810727714308209481': CallNode(function='metadsl_core.maybe.Maybe.__and__', type_params={'T': DeclaredTypeInstance(type='metadsl_core.numpy.NDArray', params=None)}, args=['-6286215055759621830', '2992674189416269404'], kwargs=None), '8114190734912744647': CallNode(function='metadsl_core.maybe.Maybe.map', type_params={'T': DeclaredTypeInstance(type='metadsl_core.pair.Pair', params={'U': DeclaredTypeInstance(type='metadsl_core.either.Either', params={'U': DeclaredTypeInstance(type='metadsl_core.vec.Vec', params={'T': DeclaredTypeInstance(type='metadsl_core.integer.Integer', params=None)}), 'T': DeclaredTypeInstance(type='metadsl_core.integer.Integer', params=None)}), 'T': DeclaredTypeInstance(type='metadsl_core.numpy.NDArray', params=None)})}, args=['3810727714308209481', '-4849403349205996894'], kwargs=None), '-8669079487312369700': CallNode(function='metadsl_core.numpy.NDArrayCompat.from_ndarray', type_params=None, args=['8114190734912744647'], kwargs=None), '-692315528089853894': CallNode(function='metadsl_core.numpy.NDArrayCompat.to_ndarray', type_params=None, args=['-8669079487312369700'], kwargs=None), '4334974619117012171': CallNode(function='metadsl_core.integer.Integer.from_int', type_params=None, args=['-3705275237759055718'], kwargs=None), '1661886770869584341': CallNode(function='metadsl_core.maybe.Maybe.just', type_params=None, args=['4334974619117012171'], kwargs=None), '-1936774049977532320': CallNode(function='metadsl_core.maybe.Maybe.map', type_params={'T': DeclaredTypeInstance(type='metadsl_core.integer.Integer', params=None)}, args=['1661886770869584341', '-4614541160952175371'], kwargs=None), '-6179915841810894785': CallNode(function='metadsl_core.maybe.Maybe.__or__', type_params={'T': DeclaredTypeInstance(type='metadsl_core.either.Either', params={'U': DeclaredTypeInstance(type='metadsl_core.vec.Vec', params={'T': DeclaredTypeInstance(type='metadsl_core.integer.Integer', params=None)}), 'T': DeclaredTypeInstance(type='metadsl_core.integer.Integer', params=None)})}, args=['-1936774049977532320', '7868914353039265219'], kwargs=None), '2492155666357408028': CallNode(function='metadsl_core.maybe.Maybe.__and__', type_params={'T': DeclaredTypeInstance(type='metadsl_core.numpy.NDArray', params=None)}, args=['-6286215055759621830', '-6179915841810894785'], kwargs=None), '-3136334787935716581': CallNode(function='metadsl_core.maybe.Maybe.map', type_params={'T': DeclaredTypeInstance(type='metadsl_core.pair.Pair', params={'U': DeclaredTypeInstance(type='metadsl_core.either.Either', params={'U': DeclaredTypeInstance(type='metadsl_core.vec.Vec', params={'T': DeclaredTypeInstance(type='metadsl_core.integer.Integer', params=None)}), 'T': DeclaredTypeInstance(type='metadsl_core.integer.Integer', params=None)}), 'T': DeclaredTypeInstance(type='metadsl_core.numpy.NDArray', params=None)})}, args=['2492155666357408028', '-4849403349205996894'], kwargs=None), '-5826087815983334907': CallNode(function='metadsl_core.numpy.NDArrayCompat.from_ndarray', type_params=None, args=['-3136334787935716581'], kwargs=None), '-6023893206440842224': CallNode(function='metadsl_core.numpy.NDArrayCompat.to_ndarray', type_params=None, args=['-5826087815983334907'], kwargs=None), '3018242927304862158': PrimitiveNode(type='metadsl.typing_tools.BoundInfer', repr='BoundInfer(fn=<function Either.left at 0x10bfd2378>, owner=metadsl_core.either.Either[metadsl_core.integer.Integer, metadsl_core.vec.Vec[metadsl_core.integer.Integer]], is_classmethod=True)'), '6454593537056730818': CallNode(function='metadsl_core.abstraction.Abstraction.from_fn', type_params=None, args=['3018242927304862158'], kwargs=None), '544185684138039748': CallNode(function='metadsl_core.maybe.Maybe.map', type_params={'T': DeclaredTypeInstance(type='metadsl_core.integer.Integer', params=None)}, args=['1661886770869584341', '6454593537056730818'], kwargs=None), '3018242039980770158': PrimitiveNode(type='metadsl.typing_tools.BoundInfer', repr='BoundInfer(fn=<function Either.right at 0x10bfd27b8>, owner=metadsl_core.either.Either[metadsl_core.integer.Integer, metadsl_core.vec.Vec[metadsl_core.integer.Integer]], is_classmethod=True)'), '6857408431730447076': CallNode(function='metadsl_core.abstraction.Abstraction.from_fn', type_params=None, args=['3018242039980770158'], kwargs=None), '-6684767051708427860': CallNode(function='metadsl_core.maybe.Maybe.map', type_params={'T': DeclaredTypeInstance(type='metadsl_core.vec.Vec', params={'T': DeclaredTypeInstance(type='metadsl_core.integer.Integer', params=None)})}, args=['6263375678545427999', '6857408431730447076'], kwargs=None), '-3065567844852217470': CallNode(function='metadsl_core.maybe.Maybe.__or__', type_params={'T': DeclaredTypeInstance(type='metadsl_core.either.Either', params={'U': DeclaredTypeInstance(type='metadsl_core.vec.Vec', params={'T': DeclaredTypeInstance(type='metadsl_core.integer.Integer', params=None)}), 'T': DeclaredTypeInstance(type='metadsl_core.integer.Integer', params=None)})}, args=['544185684138039748', '-6684767051708427860'], kwargs=None), '2456872175265680946': CallNode(function='metadsl_core.maybe.Maybe.__and__', type_params={'T': DeclaredTypeInstance(type='metadsl_core.numpy.NDArray', params=None)}, args=['-6286215055759621830', '-3065567844852217470'], kwargs=None), '-1634153577544591591': CallNode(function='metadsl_core.maybe.Maybe.nothing', type_params={'T': DeclaredTypeInstance(type='metadsl_core.numpy.NDArray', params=None)}, args=None, kwargs=None), '3018243047023466958': PrimitiveNode(type='metadsl.typing_tools.BoundInfer', repr='BoundInfer(fn=<function Maybe.just at 0x10bfd20d0>, owner=metadsl_core.maybe.Maybe[metadsl_core.numpy.NDArray], is_classmethod=True)'), '4272362841984695531': CallNode(function='metadsl_core.abstraction.Abstraction.from_fn', type_params=None, args=['3018243047023466958'], kwargs=None), '-6885157575476597440': PrimitiveNode(type='function', repr='<function NDArrayCompat.__getitem__.<locals>.<lambda> at 0x10ee30d90>'), '8265815467192652237': CallNode(function='metadsl_core.abstraction.Abstraction.from_fn', type_params={'U': DeclaredTypeInstance(type='metadsl_core.numpy.NDArray', params=None), 'T': DeclaredTypeInstance(type='metadsl_core.pair.Pair', params={'U': DeclaredTypeInstance(type='metadsl_core.either.Either', params={'U': DeclaredTypeInstance(type='metadsl_core.vec.Vec', params={'T': DeclaredTypeInstance(type='metadsl_core.integer.Integer', params=None)}), 'T': DeclaredTypeInstance(type='metadsl_core.integer.Integer', params=None)}), 'T': DeclaredTypeInstance(type='metadsl_core.numpy.NDArray', params=None)})}, args=['-6885157575476597440'], kwargs=None), '5059787407900174674': CallNode(function='metadsl_core.abstraction.Abstraction.__add__', type_params={'U': DeclaredTypeInstance(type='metadsl_core.maybe.Maybe', params={'T': DeclaredTypeInstance(type='metadsl_core.numpy.NDArray', params=None)}), 'T': DeclaredTypeInstance(type='metadsl_core.numpy.NDArray', params=None)}, args=['4272362841984695531', '8265815467192652237'], kwargs=None), '-1243740766112781561': CallNode(function='metadsl_core.maybe.Maybe.match', type_params=None, args=['2456872175265680946', '-1634153577544591591', '5059787407900174674'], kwargs=None), '-4995430298290094039': CallNode(function='metadsl_core.numpy.NDArrayCompat.from_ndarray', type_params=None, args=['-1243740766112781561'], kwargs=None), '-4012140611117047975': CallNode(function='metadsl_core.numpy.NDArrayCompat.to_ndarray', type_params=None, args=['-4995430298290094039'], kwargs=None), '3018242429421303958': PrimitiveNode(type='metadsl.typing_tools.BoundInfer', repr='BoundInfer(fn=<function Maybe.just at 0x10bfd20d0>, owner=metadsl_core.maybe.Maybe[metadsl_core.numpy.NDArray], is_classmethod=True)'), '6114565741681856371': CallNode(function='metadsl_core.abstraction.Abstraction.from_fn', type_params=None, args=['3018242429421303958'], kwargs=None), '9159629178130348007': CallNode(function='metadsl_core.abstraction.Abstraction.__add__', type_params={'U': DeclaredTypeInstance(type='metadsl_core.maybe.Maybe', params={'T': DeclaredTypeInstance(type='metadsl_core.numpy.NDArray', params=None)}), 'T': DeclaredTypeInstance(type='metadsl_core.numpy.NDArray', params=None)}, args=['6114565741681856371', '4130506920816483144'], kwargs=None), '1737974526700541274': CallNode(function='metadsl_core.maybe.Maybe.match', type_params={'T': DeclaredTypeInstance(type='metadsl_core.integer.Integer', params=None)}, args=['6401238467075760220', '-1634153577544591591', '9159629178130348007'], kwargs=None), '6972135441594515294': CallNode(function='metadsl_core.numpy.NDArrayCompat.from_ndarray', type_params=None, args=['1737974526700541274'], kwargs=None), '857657999680265138': CallNode(function='metadsl_core.numpy.NDArrayCompat.__add__', type_params=None, args=['6972135441594515294', '4765036408123793029'], kwargs=None), '-4168009961457623335': CallNode(function='metadsl_core.conversion.Converter.convert', type_params={'T': DeclaredTypeInstance(type='metadsl_core.numpy.NDArray', params=None)}, args=['857657999680265138'], kwargs=None), '8008538582573657278': CallNode(function='metadsl_core.maybe.Maybe.__and__', type_params={'T': DeclaredTypeInstance(type='metadsl_core.numpy.NDArray', params=None)}, args=['-4168009961457623335', '-3065567844852217470'], kwargs=None), '-6083112540082706529': CallNode(function='metadsl_core.maybe.Maybe.match', type_params=None, args=['8008538582573657278', '-1634153577544591591', '5059787407900174674'], kwargs=None), '7651895873987456113': CallNode(function='metadsl_core.numpy.NDArrayCompat.from_ndarray', type_params=None, args=['-6083112540082706529'], kwargs=None), '-8369929211869489657': CallNode(function='metadsl_core.numpy.NDArrayCompat.to_ndarray', type_params=None, args=['7651895873987456113'], kwargs=None), '3018242187195509958': PrimitiveNode(type='metadsl.typing_tools.BoundInfer', repr='BoundInfer(fn=<function Maybe.just at 0x10bfd20d0>, owner=metadsl_core.maybe.Maybe[metadsl_core.numpy.NDArray], is_classmethod=True)'), '-1341993166809735751': CallNode(function='metadsl_core.abstraction.Abstraction.from_fn', type_params=None, args=['3018242187195509958'], kwargs=None), '3452482095462392902': CallNode(function='metadsl_core.abstraction.Abstraction.__add__', type_params={'U': DeclaredTypeInstance(type='metadsl_core.maybe.Maybe', params={'T': DeclaredTypeInstance(type='metadsl_core.numpy.NDArray', params=None)}), 'T': DeclaredTypeInstance(type='metadsl_core.numpy.NDArray', params=None)}, args=['-1341993166809735751', '4130506920816483144'], kwargs=None), '1963410389974075957': CallNode(function='metadsl_core.abstraction.Abstraction.__call__', type_params={'U': DeclaredTypeInstance(type='metadsl_core.maybe.Maybe', params={'T': DeclaredTypeInstance(type='metadsl_core.numpy.NDArray', params=None)}), 'T': DeclaredTypeInstance(type='metadsl_core.integer.Integer', params=None)}, args=['3452482095462392902', '-6348449952595699719'], kwargs=None), '-2846312234486127131': CallNode(function='metadsl_core.numpy.NDArrayCompat.from_ndarray', type_params=None, args=['1963410389974075957'], kwargs=None), '-3273178091022536511': CallNode(function='metadsl_core.numpy.NDArrayCompat.__add__', type_params=None, args=['-2846312234486127131', '4765036408123793029'], kwargs=None), '2299930531717607367': CallNode(function='metadsl_core.conversion.Converter.convert', type_params={'T': DeclaredTypeInstance(type='metadsl_core.numpy.NDArray', params=None)}, args=['-3273178091022536511'], kwargs=None), '-4849498344857960329': CallNode(function='metadsl_core.maybe.Maybe.__and__', type_params={'T': DeclaredTypeInstance(type='metadsl_core.numpy.NDArray', params=None)}, args=['2299930531717607367', '-3065567844852217470'], kwargs=None), '-8143264301163155500': CallNode(function='metadsl_core.maybe.Maybe.match', type_params=None, args=['-4849498344857960329', '-1634153577544591591', '5059787407900174674'], kwargs=None), '5737369450625328403': CallNode(function='metadsl_core.numpy.NDArrayCompat.from_ndarray', type_params=None, args=['-8143264301163155500'], kwargs=None), '7271560234293115856': CallNode(function='metadsl_core.numpy.NDArrayCompat.to_ndarray', type_params=None, args=['5737369450625328403'], kwargs=None), '-6966490423956270220': PrimitiveNode(type='metadsl_core.abstraction.Variable', repr='Variable(4545649576)'), '6149618951892318412': CallNode(function='metadsl_core.abstraction.Abstraction.create_variable', type_params={'U': DeclaredTypeInstance(type='metadsl_core.maybe.Maybe', params={'T': DeclaredTypeInstance(type='metadsl_core.numpy.NDArray', params=None)}), 'T': DeclaredTypeInstance(type='metadsl_core.numpy.NDArray', params=None)}, args=['-6966490423956270220'], kwargs=None), '5416547300024036577': CallNode(function='metadsl_core.maybe.Maybe.just', type_params={'T': DeclaredTypeInstance(type='metadsl_core.numpy.NDArray', params=None)}, args=['6149618951892318412'], kwargs=None), '7449417502452493433': CallNode(function='metadsl_core.abstraction.Abstraction.create', type_params={'U': DeclaredTypeInstance(type='metadsl_core.maybe.Maybe', params={'T': DeclaredTypeInstance(type='metadsl_core.numpy.NDArray', params=None)}), 'T': DeclaredTypeInstance(type='metadsl_core.numpy.NDArray', params=None)}, args=['6149618951892318412', '5416547300024036577'], kwargs=None), '-8147870302302509425': CallNode(function='metadsl_core.abstraction.Abstraction.__add__', type_params={'U': DeclaredTypeInstance(type='metadsl_core.maybe.Maybe', params={'T': DeclaredTypeInstance(type='metadsl_core.numpy.NDArray', params=None)}), 'T': DeclaredTypeInstance(type='metadsl_core.numpy.NDArray', params=None)}, args=['7449417502452493433', '4130506920816483144'], kwargs=None), '7757303258093800345': CallNode(function='metadsl_core.abstraction.Abstraction.__call__', type_params={'U': DeclaredTypeInstance(type='metadsl_core.maybe.Maybe', params={'T': DeclaredTypeInstance(type='metadsl_core.numpy.NDArray', params=None)}), 'T': DeclaredTypeInstance(type='metadsl_core.integer.Integer', params=None)}, args=['-8147870302302509425', '-6348449952595699719'], kwargs=None), '-3538679045761175333': CallNode(function='metadsl_core.numpy.NDArrayCompat.from_ndarray', type_params=None, args=['7757303258093800345'], kwargs=None), '-3109166844965827647': CallNode(function='metadsl_core.numpy.NDArrayCompat.__add__', type_params=None, args=['-3538679045761175333', '4765036408123793029'], kwargs=None), '8884426332258714801': CallNode(function='metadsl_core.conversion.Converter.convert', type_params={'T': DeclaredTypeInstance(type='metadsl_core.numpy.NDArray', params=None)}, args=['-3109166844965827647'], kwargs=None), '-8329122455373226007': CallNode(function='metadsl_core.maybe.Maybe.__and__', type_params={'T': DeclaredTypeInstance(type='metadsl_core.numpy.NDArray', params=None)}, args=['8884426332258714801', '-3065567844852217470'], kwargs=None), '9221578626117848433': CallNode(function='metadsl_core.maybe.Maybe.match', type_params=None, args=['-8329122455373226007', '-1634153577544591591', '5059787407900174674'], kwargs=None), '2375440658717845861': CallNode(function='metadsl_core.numpy.NDArrayCompat.from_ndarray', type_params=None, args=['9221578626117848433'], kwargs=None), '-1555479550847644982': CallNode(function='metadsl_core.numpy.NDArrayCompat.to_ndarray', type_params=None, args=['2375440658717845861'], kwargs=None), '2256881620583350563': PrimitiveNode(type='metadsl_core.abstraction.Variable', repr='Variable(4545533936)'), '-3046332138756787847': CallNode(function='metadsl_core.abstraction.Abstraction.create_variable', type_params={'U': DeclaredTypeInstance(type='metadsl_core.numpy.NDArray', params=None), 'T': DeclaredTypeInstance(type='metadsl_core.integer.Integer', params=None)}, args=['2256881620583350563'], kwargs=None), '7835717056820988225': CallNode(function='metadsl_core.numpy.arange_', type_params=None, args=['-3046332138756787847'], kwargs=None), '4792802093755057986': CallNode(function='metadsl_core.abstraction.Abstraction.create', type_params={'U': DeclaredTypeInstance(type='metadsl_core.numpy.NDArray', params=None), 'T': DeclaredTypeInstance(type='metadsl_core.integer.Integer', params=None)}, args=['-3046332138756787847', '7835717056820988225'], kwargs=None), '-6377803081903497239': CallNode(function='metadsl_core.abstraction.Abstraction.__add__', type_params={'U': DeclaredTypeInstance(type='metadsl_core.maybe.Maybe', params={'T': DeclaredTypeInstance(type='metadsl_core.numpy.NDArray', params=None)}), 'T': DeclaredTypeInstance(type='metadsl_core.numpy.NDArray', params=None)}, args=['7449417502452493433', '4792802093755057986'], kwargs=None), '7933754380155337296': CallNode(function='metadsl_core.abstraction.Abstraction.__call__', type_params={'U': DeclaredTypeInstance(type='metadsl_core.maybe.Maybe', params={'T': DeclaredTypeInstance(type='metadsl_core.numpy.NDArray', params=None)}), 'T': DeclaredTypeInstance(type='metadsl_core.integer.Integer', params=None)}, args=['-6377803081903497239', '-6348449952595699719'], kwargs=None), '-282689165681493878': CallNode(function='metadsl_core.numpy.NDArrayCompat.from_ndarray', type_params=None, args=['7933754380155337296'], kwargs=None), '8418099048549819643': CallNode(function='metadsl_core.numpy.NDArrayCompat.__add__', type_params=None, args=['-282689165681493878', '4765036408123793029'], kwargs=None), '-9209364258505767416': CallNode(function='metadsl_core.conversion.Converter.convert', type_params={'T': DeclaredTypeInstance(type='metadsl_core.numpy.NDArray', params=None)}, args=['8418099048549819643'], kwargs=None), '-7681213978858394122': CallNode(function='metadsl_core.maybe.Maybe.__and__', type_params={'T': DeclaredTypeInstance(type='metadsl_core.numpy.NDArray', params=None)}, args=['-9209364258505767416', '-3065567844852217470'], kwargs=None), '1075640763963007206': CallNode(function='metadsl_core.maybe.Maybe.match', type_params=None, args=['-7681213978858394122', '-1634153577544591591', '5059787407900174674'], kwargs=None), '-4237101555765822251': CallNode(function='metadsl_core.numpy.NDArrayCompat.from_ndarray', type_params=None, args=['1075640763963007206'], kwargs=None), '4494140152710335761': CallNode(function='metadsl_core.numpy.NDArrayCompat.to_ndarray', type_params=None, args=['-4237101555765822251'], kwargs=None), '6225072880029029427': CallNode(function='metadsl_core.maybe.Maybe.just', type_params={'T': DeclaredTypeInstance(type='metadsl_core.numpy.NDArray', params=None)}, args=['7835717056820988225'], kwargs=None), '9055488280007138875': CallNode(function='metadsl_core.abstraction.Abstraction.create', type_params=None, args=['-3046332138756787847', '6225072880029029427'], kwargs=None), '8416461325375425526': CallNode(function='metadsl_core.abstraction.Abstraction.__call__', type_params={'U': DeclaredTypeInstance(type='metadsl_core.maybe.Maybe', params={'T': DeclaredTypeInstance(type='metadsl_core.numpy.NDArray', params=None)}), 'T': DeclaredTypeInstance(type='metadsl_core.integer.Integer', params=None)}, args=['9055488280007138875', '-6348449952595699719'], kwargs=None), '-3697584573641454336': CallNode(function='metadsl_core.numpy.NDArrayCompat.from_ndarray', type_params=None, args=['8416461325375425526'], kwargs=None), '1926397118015448077': CallNode(function='metadsl_core.numpy.NDArrayCompat.__add__', type_params=None, args=['-3697584573641454336', '4765036408123793029'], kwargs=None), '1904015705664729409': CallNode(function='metadsl_core.conversion.Converter.convert', type_params={'T': DeclaredTypeInstance(type='metadsl_core.numpy.NDArray', params=None)}, args=['1926397118015448077'], kwargs=None), '8288467036774474767': CallNode(function='metadsl_core.maybe.Maybe.__and__', type_params={'T': DeclaredTypeInstance(type='metadsl_core.numpy.NDArray', params=None)}, args=['1904015705664729409', '-3065567844852217470'], kwargs=None), '4610797461740834446': CallNode(function='metadsl_core.maybe.Maybe.match', type_params=None, args=['8288467036774474767', '-1634153577544591591', '5059787407900174674'], kwargs=None), '-1898001187271983690': CallNode(function='metadsl_core.numpy.NDArrayCompat.from_ndarray', type_params=None, args=['4610797461740834446'], kwargs=None), '8634361753103059848': CallNode(function='metadsl_core.numpy.NDArrayCompat.to_ndarray', type_params=None, args=['-1898001187271983690'], kwargs=None), '676902453469965611': CallNode(function='metadsl_core.numpy.arange_', type_params=None, args=['-6348449952595699719'], kwargs=None), '-7338046998780095632': CallNode(function='metadsl_core.maybe.Maybe.just', type_params={'T': DeclaredTypeInstance(type='metadsl_core.numpy.NDArray', params=None)}, args=['676902453469965611'], kwargs=None), '-5419148412288663401': CallNode(function='metadsl_core.numpy.NDArrayCompat.from_ndarray', type_params=None, args=['-7338046998780095632'], kwargs=None), '-5969105519526623034': CallNode(function='metadsl_core.numpy.NDArrayCompat.__add__', type_params=None, args=['-5419148412288663401', '4765036408123793029'], kwargs=None), '7433198376928197925': CallNode(function='metadsl_core.conversion.Converter.convert', type_params={'T': DeclaredTypeInstance(type='metadsl_core.numpy.NDArray', params=None)}, args=['-5969105519526623034'], kwargs=None), '-6834064345285038396': CallNode(function='metadsl_core.maybe.Maybe.__and__', type_params={'T': DeclaredTypeInstance(type='metadsl_core.numpy.NDArray', params=None)}, args=['7433198376928197925', '-3065567844852217470'], kwargs=None), '-407846913662410158': CallNode(function='metadsl_core.maybe.Maybe.match', type_params=None, args=['-6834064345285038396', '-1634153577544591591', '5059787407900174674'], kwargs=None), '7554469586199218570': CallNode(function='metadsl_core.numpy.NDArrayCompat.from_ndarray', type_params=None, args=['-407846913662410158'], kwargs=None), '6933985692273522389': CallNode(function='metadsl_core.numpy.NDArrayCompat.to_ndarray', type_params=None, args=['7554469586199218570'], kwargs=None), '3018244073776778958': PrimitiveNode(type='metadsl.typing_tools.BoundInfer', repr='BoundInfer(fn=<function Maybe.just at 0x10bfd20d0>, owner=metadsl_core.maybe.Maybe[metadsl_core.numpy.NDArray], is_classmethod=True)'), '-2281607992388475311': CallNode(function='metadsl_core.abstraction.Abstraction.from_fn', type_params=None, args=['3018244073776778958'], kwargs=None), '-7020439922634947106': CallNode(function='metadsl_core.abstraction.Abstraction.__add__', type_params={'U': DeclaredTypeInstance(type='metadsl_core.maybe.Maybe', params={'T': DeclaredTypeInstance(type='metadsl_core.numpy.NDArray', params=None)}), 'T': DeclaredTypeInstance(type='metadsl_core.numpy.NDArray', params=None)}, args=['-2281607992388475311', '4130506920816483144'], kwargs=None), '-3730167305670284876': CallNode(function='metadsl_core.maybe.Maybe.match', type_params={'T': DeclaredTypeInstance(type='metadsl_core.integer.Integer', params=None)}, args=['6401238467075760220', '-1634153577544591591', '-7020439922634947106'], kwargs=None), '1247254780946579243': CallNode(function='metadsl_core.numpy.NDArrayCompat.from_ndarray', type_params=None, args=['-3730167305670284876'], kwargs=None), '3910610822912448689': CallNode(function='metadsl_core.numpy.NDArrayCompat.__add__', type_params=None, args=['-5419148412288663401', '1247254780946579243'], kwargs=None), '4616044433530469158': CallNode(function='metadsl_core.conversion.Converter.convert', type_params={'T': DeclaredTypeInstance(type='metadsl_core.numpy.NDArray', params=None)}, args=['3910610822912448689'], kwargs=None), '-3111937144441253824': CallNode(function='metadsl_core.maybe.Maybe.__and__', type_params={'T': DeclaredTypeInstance(type='metadsl_core.numpy.NDArray', params=None)}, args=['4616044433530469158', '-3065567844852217470'], kwargs=None), '5083150386011111200': CallNode(function='metadsl_core.maybe.Maybe.match', type_params=None, args=['-3111937144441253824', '-1634153577544591591', '5059787407900174674'], kwargs=None), '5380498449980754640': CallNode(function='metadsl_core.numpy.NDArrayCompat.from_ndarray', type_params=None, args=['5083150386011111200'], kwargs=None), '-3915034430366087560': CallNode(function='metadsl_core.numpy.NDArrayCompat.to_ndarray', type_params=None, args=['5380498449980754640'], kwargs=None), '3018244143084359558': PrimitiveNode(type='metadsl.typing_tools.BoundInfer', repr='BoundInfer(fn=<function Maybe.just at 0x10bfd20d0>, owner=metadsl_core.maybe.Maybe[metadsl_core.numpy.NDArray], is_classmethod=True)'), '-1227080768804673062': CallNode(function='metadsl_core.abstraction.Abstraction.from_fn', type_params=None, args=['3018244143084359558'], kwargs=None), '2093857063603561716': CallNode(function='metadsl_core.abstraction.Abstraction.__add__', type_params={'U': DeclaredTypeInstance(type='metadsl_core.maybe.Maybe', params={'T': DeclaredTypeInstance(type='metadsl_core.numpy.NDArray', params=None)}), 'T': DeclaredTypeInstance(type='metadsl_core.numpy.NDArray', params=None)}, args=['-1227080768804673062', '4130506920816483144'], kwargs=None), '-6754449211692554842': CallNode(function='metadsl_core.abstraction.Abstraction.__call__', type_params={'U': DeclaredTypeInstance(type='metadsl_core.maybe.Maybe', params={'T': DeclaredTypeInstance(type='metadsl_core.numpy.NDArray', params=None)}), 'T': DeclaredTypeInstance(type='metadsl_core.integer.Integer', params=None)}, args=['2093857063603561716', '-6348449952595699719'], kwargs=None), '8236989180637702588': CallNode(function='metadsl_core.numpy.NDArrayCompat.from_ndarray', type_params=None, args=['-6754449211692554842'], kwargs=None), '-5189436288501258551': CallNode(function='metadsl_core.numpy.NDArrayCompat.__add__', type_params=None, args=['-5419148412288663401', '8236989180637702588'], kwargs=None), '5198292150105483290': CallNode(function='metadsl_core.conversion.Converter.convert', type_params={'T': DeclaredTypeInstance(type='metadsl_core.numpy.NDArray', params=None)}, args=['-5189436288501258551'], kwargs=None), '-9032815261277398513': CallNode(function='metadsl_core.maybe.Maybe.__and__', type_params={'T': DeclaredTypeInstance(type='metadsl_core.numpy.NDArray', params=None)}, args=['5198292150105483290', '-3065567844852217470'], kwargs=None), '-3890336536913981409': CallNode(function='metadsl_core.maybe.Maybe.match', type_params=None, args=['-9032815261277398513', '-1634153577544591591', '5059787407900174674'], kwargs=None), '394985736623645995': CallNode(function='metadsl_core.numpy.NDArrayCompat.from_ndarray', type_params=None, args=['-3890336536913981409'], kwargs=None), '3782781951538296725': CallNode(function='metadsl_core.numpy.NDArrayCompat.to_ndarray', type_params=None, args=['394985736623645995'], kwargs=None), '2256881664008840938': PrimitiveNode(type='metadsl_core.abstraction.Variable', repr='Variable(4544896192)'), '1532750769497835632': CallNode(function='metadsl_core.abstraction.Abstraction.create_variable', type_params={'U': DeclaredTypeInstance(type='metadsl_core.maybe.Maybe', params={'T': DeclaredTypeInstance(type='metadsl_core.numpy.NDArray', params=None)}), 'T': DeclaredTypeInstance(type='metadsl_core.numpy.NDArray', params=None)}, args=['2256881664008840938'], kwargs=None), '-5150816977940350229': CallNode(function='metadsl_core.maybe.Maybe.just', type_params={'T': DeclaredTypeInstance(type='metadsl_core.numpy.NDArray', params=None)}, args=['1532750769497835632'], kwargs=None), '-5198982805348015754': CallNode(function='metadsl_core.abstraction.Abstraction.create', type_params={'U': DeclaredTypeInstance(type='metadsl_core.maybe.Maybe', params={'T': DeclaredTypeInstance(type='metadsl_core.numpy.NDArray', params=None)}), 'T': DeclaredTypeInstance(type='metadsl_core.numpy.NDArray', params=None)}, args=['1532750769497835632', '-5150816977940350229'], kwargs=None), '9113721034414090785': CallNode(function='metadsl_core.abstraction.Abstraction.__add__', type_params={'U': DeclaredTypeInstance(type='metadsl_core.maybe.Maybe', params={'T': DeclaredTypeInstance(type='metadsl_core.numpy.NDArray', params=None)}), 'T': DeclaredTypeInstance(type='metadsl_core.numpy.NDArray', params=None)}, args=['-5198982805348015754', '4130506920816483144'], kwargs=None), '-8336386247068415680': CallNode(function='metadsl_core.abstraction.Abstraction.__call__', type_params={'U': DeclaredTypeInstance(type='metadsl_core.maybe.Maybe', params={'T': DeclaredTypeInstance(type='metadsl_core.numpy.NDArray', params=None)}), 'T': DeclaredTypeInstance(type='metadsl_core.integer.Integer', params=None)}, args=['9113721034414090785', '-6348449952595699719'], kwargs=None), '-4659819999199575490': CallNode(function='metadsl_core.numpy.NDArrayCompat.from_ndarray', type_params=None, args=['-8336386247068415680'], kwargs=None), '-3108844074970824418': CallNode(function='metadsl_core.numpy.NDArrayCompat.__add__', type_params=None, args=['-5419148412288663401', '-4659819999199575490'], kwargs=None), '-6108590015193548769': CallNode(function='metadsl_core.conversion.Converter.convert', type_params={'T': DeclaredTypeInstance(type='metadsl_core.numpy.NDArray', params=None)}, args=['-3108844074970824418'], kwargs=None), '7089816306816462651': CallNode(function='metadsl_core.maybe.Maybe.__and__', type_params={'T': DeclaredTypeInstance(type='metadsl_core.numpy.NDArray', params=None)}, args=['-6108590015193548769', '-3065567844852217470'], kwargs=None), '-7785118343808748278': CallNode(function='metadsl_core.maybe.Maybe.match', type_params=None, args=['7089816306816462651', '-1634153577544591591', '5059787407900174674'], kwargs=None), '3036702535422257921': CallNode(function='metadsl_core.numpy.NDArrayCompat.from_ndarray', type_params=None, args=['-7785118343808748278'], kwargs=None), '-7564184822257848758': CallNode(function='metadsl_core.numpy.NDArrayCompat.to_ndarray', type_params=None, args=['3036702535422257921'], kwargs=None), '2256881592447443288': PrimitiveNode(type='metadsl_core.abstraction.Variable', repr='Variable(4545970016)'), '1395627821193402340': CallNode(function='metadsl_core.abstraction.Abstraction.create_variable', type_params={'U': DeclaredTypeInstance(type='metadsl_core.numpy.NDArray', params=None), 'T': DeclaredTypeInstance(type='metadsl_core.integer.Integer', params=None)}, args=['2256881592447443288'], kwargs=None), '5335735441848638637': CallNode(function='metadsl_core.numpy.arange_', type_params=None, args=['1395627821193402340'], kwargs=None), '-4959923765879579907': CallNode(function='metadsl_core.abstraction.Abstraction.create', type_params={'U': DeclaredTypeInstance(type='metadsl_core.numpy.NDArray', params=None), 'T': DeclaredTypeInstance(type='metadsl_core.integer.Integer', params=None)}, args=['1395627821193402340', '5335735441848638637'], kwargs=None), '-8786992871474521052': CallNode(function='metadsl_core.abstraction.Abstraction.__add__', type_params={'U': DeclaredTypeInstance(type='metadsl_core.maybe.Maybe', params={'T': DeclaredTypeInstance(type='metadsl_core.numpy.NDArray', params=None)}), 'T': DeclaredTypeInstance(type='metadsl_core.numpy.NDArray', params=None)}, args=['-5198982805348015754', '-4959923765879579907'], kwargs=None), '-652332988991805907': CallNode(function='metadsl_core.abstraction.Abstraction.__call__', type_params={'U': DeclaredTypeInstance(type='metadsl_core.maybe.Maybe', params={'T': DeclaredTypeInstance(type='metadsl_core.numpy.NDArray', params=None)}), 'T': DeclaredTypeInstance(type='metadsl_core.integer.Integer', params=None)}, args=['-8786992871474521052', '-6348449952595699719'], kwargs=None), '-891268657709131721': CallNode(function='metadsl_core.numpy.NDArrayCompat.from_ndarray', type_params=None, args=['-652332988991805907'], kwargs=None), '-5972371733442025240': CallNode(function='metadsl_core.numpy.NDArrayCompat.__add__', type_params=None, args=['-5419148412288663401', '-891268657709131721'], kwargs=None), '-207272089647568479': CallNode(function='metadsl_core.conversion.Converter.convert', type_params={'T': DeclaredTypeInstance(type='metadsl_core.numpy.NDArray', params=None)}, args=['-5972371733442025240'], kwargs=None), '-767665604563634603': CallNode(function='metadsl_core.maybe.Maybe.__and__', type_params={'T': DeclaredTypeInstance(type='metadsl_core.numpy.NDArray', params=None)}, args=['-207272089647568479', '-3065567844852217470'], kwargs=None), '-6947481878838129486': CallNode(function='metadsl_core.maybe.Maybe.match', type_params=None, args=['-767665604563634603', '-1634153577544591591', '5059787407900174674'], kwargs=None), '-6255176149826764698': CallNode(function='metadsl_core.numpy.NDArrayCompat.from_ndarray', type_params=None, args=['-6947481878838129486'], kwargs=None), '-2033355726687749432': CallNode(function='metadsl_core.numpy.NDArrayCompat.to_ndarray', type_params=None, args=['-6255176149826764698'], kwargs=None), '-5395807737455947576': CallNode(function='metadsl_core.maybe.Maybe.just', type_params={'T': DeclaredTypeInstance(type='metadsl_core.numpy.NDArray', params=None)}, args=['5335735441848638637'], kwargs=None), '-6178668019312292785': CallNode(function='metadsl_core.abstraction.Abstraction.create', type_params=None, args=['1395627821193402340', '-5395807737455947576'], kwargs=None), '7889483376692085684': CallNode(function='metadsl_core.abstraction.Abstraction.__call__', type_params={'U': DeclaredTypeInstance(type='metadsl_core.maybe.Maybe', params={'T': DeclaredTypeInstance(type='metadsl_core.numpy.NDArray', params=None)}), 'T': DeclaredTypeInstance(type='metadsl_core.integer.Integer', params=None)}, args=['-6178668019312292785', '-6348449952595699719'], kwargs=None), '6204848427203990235': CallNode(function='metadsl_core.numpy.NDArrayCompat.from_ndarray', type_params=None, args=['7889483376692085684'], kwargs=None), '7138107702412271162': CallNode(function='metadsl_core.numpy.NDArrayCompat.__add__', type_params=None, args=['-5419148412288663401', '6204848427203990235'], kwargs=None), '3257099024299117165': CallNode(function='metadsl_core.conversion.Converter.convert', type_params={'T': DeclaredTypeInstance(type='metadsl_core.numpy.NDArray', params=None)}, args=['7138107702412271162'], kwargs=None), '7715942918607173825': CallNode(function='metadsl_core.maybe.Maybe.__and__', type_params={'T': DeclaredTypeInstance(type='metadsl_core.numpy.NDArray', params=None)}, args=['3257099024299117165', '-3065567844852217470'], kwargs=None), '171932112139186463': CallNode(function='metadsl_core.maybe.Maybe.match', type_params=None, args=['7715942918607173825', '-1634153577544591591', '5059787407900174674'], kwargs=None), '-4782736161287716565': CallNode(function='metadsl_core.numpy.NDArrayCompat.from_ndarray', type_params=None, args=['171932112139186463'], kwargs=None), '7422646627666690300': CallNode(function='metadsl_core.numpy.NDArrayCompat.to_ndarray', type_params=None, args=['-4782736161287716565'], kwargs=None), '7281850675127942797': CallNode(function='metadsl_core.numpy.NDArrayCompat.__add__', type_params=None, args=['-5419148412288663401', '-5419148412288663401'], kwargs=None), '3154054583708263430': CallNode(function='metadsl_core.conversion.Converter.convert', type_params={'T': DeclaredTypeInstance(type='metadsl_core.numpy.NDArray', params=None)}, args=['7281850675127942797'], kwargs=None), '6203099559014167055': CallNode(function='metadsl_core.maybe.Maybe.__and__', type_params={'T': DeclaredTypeInstance(type='metadsl_core.numpy.NDArray', params=None)}, args=['3154054583708263430', '-3065567844852217470'], kwargs=None), '8011461330799488099': CallNode(function='metadsl_core.maybe.Maybe.match', type_params=None, args=['6203099559014167055', '-1634153577544591591', '5059787407900174674'], kwargs=None), '3489415722857188671': CallNode(function='metadsl_core.numpy.NDArrayCompat.from_ndarray', type_params=None, args=['8011461330799488099'], kwargs=None), '-1398540776220654208': CallNode(function='metadsl_core.numpy.NDArrayCompat.to_ndarray', type_params=None, args=['3489415722857188671'], kwargs=None), '2139383204678789915': CallNode(function='metadsl_core.maybe.Maybe.nothing', type_params={'T': DeclaredTypeInstance(type='metadsl_core.either.Either', params={'U': DeclaredTypeInstance(type='metadsl_core.vec.Vec', params={'T': DeclaredTypeInstance(type='metadsl_core.integer.Integer', params=None)}), 'T': DeclaredTypeInstance(type='metadsl_core.integer.Integer', params=None)})}, args=None, kwargs=None), '3018242884203046758': PrimitiveNode(type='metadsl.typing_tools.BoundInfer', repr='BoundInfer(fn=<function Maybe.just at 0x10bfd20d0>, owner=metadsl_core.maybe.Maybe[metadsl_core.either.Either[metadsl_core.integer.Integer, metadsl_core.vec.Vec[metadsl_core.integer.Integer]]], is_classmethod=True)'), '7195992161376387783': CallNode(function='metadsl_core.abstraction.Abstraction.from_fn', type_params=None, args=['3018242884203046758'], kwargs=None), '3018242885580018558': PrimitiveNode(type='metadsl.typing_tools.BoundInfer', repr='BoundInfer(fn=<function Either.left at 0x10bfd2378>, owner=metadsl_core.either.Either[metadsl_core.integer.Integer, metadsl_core.vec.Vec[metadsl_core.integer.Integer]], is_classmethod=True)'), '-3548087848332001768': CallNode(function='metadsl_core.abstraction.Abstraction.from_fn', type_params=None, args=['3018242885580018558'], kwargs=None), '-3326639294774934467': CallNode(function='metadsl_core.abstraction.Abstraction.__add__', type_params={'U': DeclaredTypeInstance(type='metadsl_core.maybe.Maybe', params={'T': DeclaredTypeInstance(type='metadsl_core.either.Either', params={'U': DeclaredTypeInstance(type='metadsl_core.vec.Vec', params={'T': DeclaredTypeInstance(type='metadsl_core.integer.Integer', params=None)}), 'T': DeclaredTypeInstance(type='metadsl_core.integer.Integer', params=None)})}), 'T': DeclaredTypeInstance(type='metadsl_core.either.Either', params={'U': DeclaredTypeInstance(type='metadsl_core.vec.Vec', params={'T': DeclaredTypeInstance(type='metadsl_core.integer.Integer', params=None)}), 'T': DeclaredTypeInstance(type='metadsl_core.integer.Integer', params=None)})}, args=['7195992161376387783', '-3548087848332001768'], kwargs=None), '-3206514862664980891': CallNode(function='metadsl_core.maybe.Maybe.match', type_params={'T': DeclaredTypeInstance(type='metadsl_core.integer.Integer', params=None)}, args=['1661886770869584341', '2139383204678789915', '-3326639294774934467'], kwargs=None), '-5070363678012895811': CallNode(function='metadsl_core.maybe.Maybe.__or__', type_params={'T': DeclaredTypeInstance(type='metadsl_core.either.Either', params={'U': DeclaredTypeInstance(type='metadsl_core.vec.Vec', params={'T': DeclaredTypeInstance(type='metadsl_core.integer.Integer', params=None)}), 'T': DeclaredTypeInstance(type='metadsl_core.integer.Integer', params=None)})}, args=['-3206514862664980891', '-6684767051708427860'], kwargs=None), '1302226755770087476': CallNode(function='metadsl_core.maybe.Maybe.__and__', type_params={'T': DeclaredTypeInstance(type='metadsl_core.numpy.NDArray', params=None)}, args=['3154054583708263430', '-5070363678012895811'], kwargs=None), '-197609548493167117': CallNode(function='metadsl_core.maybe.Maybe.match', type_params=None, args=['1302226755770087476', '-1634153577544591591', '5059787407900174674'], kwargs=None), '2572767079039197331': CallNode(function='metadsl_core.numpy.NDArrayCompat.from_ndarray', type_params=None, args=['-197609548493167117'], kwargs=None), '-2707705597213486049': CallNode(function='metadsl_core.numpy.NDArrayCompat.to_ndarray', type_params=None, args=['2572767079039197331'], kwargs=None), '3018242862517905958': PrimitiveNode(type='metadsl.typing_tools.BoundInfer', repr='BoundInfer(fn=<function Maybe.just at 0x10bfd20d0>, owner=metadsl_core.maybe.Maybe[metadsl_core.either.Either[metadsl_core.integer.Integer, metadsl_core.vec.Vec[metadsl_core.integer.Integer]]], is_classmethod=True)'), '-7987791131052571401': CallNode(function='metadsl_core.abstraction.Abstraction.from_fn', type_params=None, args=['3018242862517905958'], kwargs=None), '3018242860396156958': PrimitiveNode(type='metadsl.typing_tools.BoundInfer', repr='BoundInfer(fn=<function Either.left at 0x10bfd2378>, owner=metadsl_core.either.Either[metadsl_core.integer.Integer, metadsl_core.vec.Vec[metadsl_core.integer.Integer]], is_classmethod=True)'), '1456565464579814476': CallNode(function='metadsl_core.abstraction.Abstraction.from_fn', type_params=None, args=['3018242860396156958'], kwargs=None), '-6744212165042005096': CallNode(function='metadsl_core.abstraction.Abstraction.__add__', type_params={'U': DeclaredTypeInstance(type='metadsl_core.maybe.Maybe', params={'T': DeclaredTypeInstance(type='metadsl_core.either.Either', params={'U': DeclaredTypeInstance(type='metadsl_core.vec.Vec', params={'T': DeclaredTypeInstance(type='metadsl_core.integer.Integer', params=None)}), 'T': DeclaredTypeInstance(type='metadsl_core.integer.Integer', params=None)})}), 'T': DeclaredTypeInstance(type='metadsl_core.either.Either', params={'U': DeclaredTypeInstance(type='metadsl_core.vec.Vec', params={'T': DeclaredTypeInstance(type='metadsl_core.integer.Integer', params=None)}), 'T': DeclaredTypeInstance(type='metadsl_core.integer.Integer', params=None)})}, args=['-7987791131052571401', '1456565464579814476'], kwargs=None), '-4873687371147004636': CallNode(function='metadsl_core.abstraction.Abstraction.__call__', type_params={'U': DeclaredTypeInstance(type='metadsl_core.maybe.Maybe', params={'T': DeclaredTypeInstance(type='metadsl_core.either.Either', params={'U': DeclaredTypeInstance(type='metadsl_core.vec.Vec', params={'T': DeclaredTypeInstance(type='metadsl_core.integer.Integer', params=None)}), 'T': DeclaredTypeInstance(type='metadsl_core.integer.Integer', params=None)})}), 'T': DeclaredTypeInstance(type='metadsl_core.integer.Integer', params=None)}, args=['-6744212165042005096', '4334974619117012171'], kwargs=None), '-8520934084855244899': CallNode(function='metadsl_core.maybe.Maybe.__or__', type_params={'T': DeclaredTypeInstance(type='metadsl_core.either.Either', params={'U': DeclaredTypeInstance(type='metadsl_core.vec.Vec', params={'T': DeclaredTypeInstance(type='metadsl_core.integer.Integer', params=None)}), 'T': DeclaredTypeInstance(type='metadsl_core.integer.Integer', params=None)})}, args=['-4873687371147004636', '-6684767051708427860'], kwargs=None), '5289327458797627874': CallNode(function='metadsl_core.maybe.Maybe.__and__', type_params={'T': DeclaredTypeInstance(type='metadsl_core.numpy.NDArray', params=None)}, args=['3154054583708263430', '-8520934084855244899'], kwargs=None), '8620010706362481861': CallNode(function='metadsl_core.maybe.Maybe.match', type_params=None, args=['5289327458797627874', '-1634153577544591591', '5059787407900174674'], kwargs=None), '-3748947342060218529': CallNode(function='metadsl_core.numpy.NDArrayCompat.from_ndarray', type_params=None, args=['8620010706362481861'], kwargs=None), '3320514870386891208': CallNode(function='metadsl_core.numpy.NDArrayCompat.to_ndarray', type_params=None, args=['-3748947342060218529'], kwargs=None), '-6966490371399681470': PrimitiveNode(type='metadsl_core.abstraction.Variable', repr='Variable(4544884808)'), '-6155160979429421904': CallNode(function='metadsl_core.abstraction.Abstraction.create_variable', type_params={'U': DeclaredTypeInstance(type='metadsl_core.maybe.Maybe', params={'T': DeclaredTypeInstance(type='metadsl_core.either.Either', params={'U': DeclaredTypeInstance(type='metadsl_core.vec.Vec', params={'T': DeclaredTypeInstance(type='metadsl_core.integer.Integer', params=None)}), 'T': DeclaredTypeInstance(type='metadsl_core.integer.Integer', params=None)})}), 'T': DeclaredTypeInstance(type='metadsl_core.either.Either', params={'U': DeclaredTypeInstance(type='metadsl_core.vec.Vec', params={'T': DeclaredTypeInstance(type='metadsl_core.integer.Integer', params=None)}), 'T': DeclaredTypeInstance(type='metadsl_core.integer.Integer', params=None)})}, args=['-6966490371399681470'], kwargs=None), '7949023678236811004': CallNode(function='metadsl_core.maybe.Maybe.just', type_params={'T': DeclaredTypeInstance(type='metadsl_core.either.Either', params={'U': DeclaredTypeInstance(type='metadsl_core.vec.Vec', params={'T': DeclaredTypeInstance(type='metadsl_core.integer.Integer', params=None)}), 'T': DeclaredTypeInstance(type='metadsl_core.integer.Integer', params=None)})}, args=['-6155160979429421904'], kwargs=None), '7919399156107912809': CallNode(function='metadsl_core.abstraction.Abstraction.create', type_params={'U': DeclaredTypeInstance(type='metadsl_core.maybe.Maybe', params={'T': DeclaredTypeInstance(type='metadsl_core.either.Either', params={'U': DeclaredTypeInstance(type='metadsl_core.vec.Vec', params={'T': DeclaredTypeInstance(type='metadsl_core.integer.Integer', params=None)}), 'T': DeclaredTypeInstance(type='metadsl_core.integer.Integer', params=None)})}), 'T': DeclaredTypeInstance(type='metadsl_core.either.Either', params={'U': DeclaredTypeInstance(type='metadsl_core.vec.Vec', params={'T': DeclaredTypeInstance(type='metadsl_core.integer.Integer', params=None)}), 'T': DeclaredTypeInstance(type='metadsl_core.integer.Integer', params=None)})}, args=['-6155160979429421904', '7949023678236811004'], kwargs=None), '5804987440302656017': CallNode(function='metadsl_core.abstraction.Abstraction.__add__', type_params={'U': DeclaredTypeInstance(type='metadsl_core.maybe.Maybe', params={'T': DeclaredTypeInstance(type='metadsl_core.either.Either', params={'U': DeclaredTypeInstance(type='metadsl_core.vec.Vec', params={'T': DeclaredTypeInstance(type='metadsl_core.integer.Integer', params=None)}), 'T': DeclaredTypeInstance(type='metadsl_core.integer.Integer', params=None)})}), 'T': DeclaredTypeInstance(type='metadsl_core.either.Either', params={'U': DeclaredTypeInstance(type='metadsl_core.vec.Vec', params={'T': DeclaredTypeInstance(type='metadsl_core.integer.Integer', params=None)}), 'T': DeclaredTypeInstance(type='metadsl_core.integer.Integer', params=None)})}, args=['7919399156107912809', '1456565464579814476'], kwargs=None), '4853235401099256308': CallNode(function='metadsl_core.abstraction.Abstraction.__call__', type_params={'U': DeclaredTypeInstance(type='metadsl_core.maybe.Maybe', params={'T': DeclaredTypeInstance(type='metadsl_core.either.Either', params={'U': DeclaredTypeInstance(type='metadsl_core.vec.Vec', params={'T': DeclaredTypeInstance(type='metadsl_core.integer.Integer', params=None)}), 'T': DeclaredTypeInstance(type='metadsl_core.integer.Integer', params=None)})}), 'T': DeclaredTypeInstance(type='metadsl_core.integer.Integer', params=None)}, args=['5804987440302656017', '4334974619117012171'], kwargs=None), '-5447911853974291506': CallNode(function='metadsl_core.maybe.Maybe.__or__', type_params={'T': DeclaredTypeInstance(type='metadsl_core.either.Either', params={'U': DeclaredTypeInstance(type='metadsl_core.vec.Vec', params={'T': DeclaredTypeInstance(type='metadsl_core.integer.Integer', params=None)}), 'T': DeclaredTypeInstance(type='metadsl_core.integer.Integer', params=None)})}, args=['4853235401099256308', '-6684767051708427860'], kwargs=None), '3293461735648171298': CallNode(function='metadsl_core.maybe.Maybe.__and__', type_params={'T': DeclaredTypeInstance(type='metadsl_core.numpy.NDArray', params=None)}, args=['3154054583708263430', '-5447911853974291506'], kwargs=None), '2757039568795406795': CallNode(function='metadsl_core.maybe.Maybe.match', type_params=None, args=['3293461735648171298', '-1634153577544591591', '5059787407900174674'], kwargs=None), '3399221978966597687': CallNode(function='metadsl_core.numpy.NDArrayCompat.from_ndarray', type_params=None, args=['2757039568795406795'], kwargs=None), '2855352892526363245': CallNode(function='metadsl_core.numpy.NDArrayCompat.to_ndarray', type_params=None, args=['3399221978966597687'], kwargs=None), '2256881620127607538': PrimitiveNode(type='metadsl_core.abstraction.Variable', repr='Variable(4545558848)'), '-8243529546085861488': CallNode(function='metadsl_core.abstraction.Abstraction.create_variable', type_params={'U': DeclaredTypeInstance(type='metadsl_core.either.Either', params={'U': DeclaredTypeInstance(type='metadsl_core.vec.Vec', params={'T': DeclaredTypeInstance(type='metadsl_core.integer.Integer', params=None)}), 'T': DeclaredTypeInstance(type='metadsl_core.integer.Integer', params=None)}), 'T': DeclaredTypeInstance(type='metadsl_core.integer.Integer', params=None)}, args=['2256881620127607538'], kwargs=None), '-8421054305673162151': CallNode(function='metadsl_core.either.Either.left', type_params={'U': DeclaredTypeInstance(type='metadsl_core.vec.Vec', params={'T': DeclaredTypeInstance(type='metadsl_core.integer.Integer', params=None)}), 'T': DeclaredTypeInstance(type='metadsl_core.integer.Integer', params=None)}, args=['-8243529546085861488'], kwargs=None), '-7830072810825796942': CallNode(function='metadsl_core.abstraction.Abstraction.create', type_params={'U': DeclaredTypeInstance(type='metadsl_core.either.Either', params={'U': DeclaredTypeInstance(type='metadsl_core.vec.Vec', params={'T': DeclaredTypeInstance(type='metadsl_core.integer.Integer', params=None)}), 'T': DeclaredTypeInstance(type='metadsl_core.integer.Integer', params=None)}), 'T': DeclaredTypeInstance(type='metadsl_core.integer.Integer', params=None)}, args=['-8243529546085861488', '-8421054305673162151'], kwargs=None), '-7901835197166842283': CallNode(function='metadsl_core.abstraction.Abstraction.__add__', type_params={'U': DeclaredTypeInstance(type='metadsl_core.maybe.Maybe', params={'T': DeclaredTypeInstance(type='metadsl_core.either.Either', params={'U': DeclaredTypeInstance(type='metadsl_core.vec.Vec', params={'T': DeclaredTypeInstance(type='metadsl_core.integer.Integer', params=None)}), 'T': DeclaredTypeInstance(type='metadsl_core.integer.Integer', params=None)})}), 'T': DeclaredTypeInstance(type='metadsl_core.either.Either', params={'U': DeclaredTypeInstance(type='metadsl_core.vec.Vec', params={'T': DeclaredTypeInstance(type='metadsl_core.integer.Integer', params=None)}), 'T': DeclaredTypeInstance(type='metadsl_core.integer.Integer', params=None)})}, args=['7919399156107912809', '-7830072810825796942'], kwargs=None), '-7818610196859866130': CallNode(function='metadsl_core.abstraction.Abstraction.__call__', type_params={'U': DeclaredTypeInstance(type='metadsl_core.maybe.Maybe', params={'T': DeclaredTypeInstance(type='metadsl_core.either.Either', params={'U': DeclaredTypeInstance(type='metadsl_core.vec.Vec', params={'T': DeclaredTypeInstance(type='metadsl_core.integer.Integer', params=None)}), 'T': DeclaredTypeInstance(type='metadsl_core.integer.Integer', params=None)})}), 'T': DeclaredTypeInstance(type='metadsl_core.integer.Integer', params=None)}, args=['-7901835197166842283', '4334974619117012171'], kwargs=None), '4032781639228932992': CallNode(function='metadsl_core.maybe.Maybe.__or__', type_params={'T': DeclaredTypeInstance(type='metadsl_core.either.Either', params={'U': DeclaredTypeInstance(type='metadsl_core.vec.Vec', params={'T': DeclaredTypeInstance(type='metadsl_core.integer.Integer', params=None)}), 'T': DeclaredTypeInstance(type='metadsl_core.integer.Integer', params=None)})}, args=['-7818610196859866130', '-6684767051708427860'], kwargs=None), '-7571355554137817118': CallNode(function='metadsl_core.maybe.Maybe.__and__', type_params={'T': DeclaredTypeInstance(type='metadsl_core.numpy.NDArray', params=None)}, args=['3154054583708263430', '4032781639228932992'], kwargs=None), '-5551946829472053429': CallNode(function='metadsl_core.maybe.Maybe.match', type_params=None, args=['-7571355554137817118', '-1634153577544591591', '5059787407900174674'], kwargs=None), '-5809698578867428686': CallNode(function='metadsl_core.numpy.NDArrayCompat.from_ndarray', type_params=None, args=['-5551946829472053429'], kwargs=None), '6638798745214373616': CallNode(function='metadsl_core.numpy.NDArrayCompat.to_ndarray', type_params=None, args=['-5809698578867428686'], kwargs=None), '-3417824533833702856': CallNode(function='metadsl_core.maybe.Maybe.just', type_params={'T': DeclaredTypeInstance(type='metadsl_core.either.Either', params={'U': DeclaredTypeInstance(type='metadsl_core.vec.Vec', params={'T': DeclaredTypeInstance(type='metadsl_core.integer.Integer', params=None)}), 'T': DeclaredTypeInstance(type='metadsl_core.integer.Integer', params=None)})}, args=['-8421054305673162151'], kwargs=None), '-8594890947622696342': CallNode(function='metadsl_core.abstraction.Abstraction.create', type_params=None, args=['-8243529546085861488', '-3417824533833702856'], kwargs=None), '-77518836552605056': CallNode(function='metadsl_core.abstraction.Abstraction.__call__', type_params={'U': DeclaredTypeInstance(type='metadsl_core.maybe.Maybe', params={'T': DeclaredTypeInstance(type='metadsl_core.either.Either', params={'U': DeclaredTypeInstance(type='metadsl_core.vec.Vec', params={'T': DeclaredTypeInstance(type='metadsl_core.integer.Integer', params=None)}), 'T': DeclaredTypeInstance(type='metadsl_core.integer.Integer', params=None)})}), 'T': DeclaredTypeInstance(type='metadsl_core.integer.Integer', params=None)}, args=['-8594890947622696342', '4334974619117012171'], kwargs=None), '6128052437150677934': CallNode(function='metadsl_core.maybe.Maybe.__or__', type_params={'T': DeclaredTypeInstance(type='metadsl_core.either.Either', params={'U': DeclaredTypeInstance(type='metadsl_core.vec.Vec', params={'T': DeclaredTypeInstance(type='metadsl_core.integer.Integer', params=None)}), 'T': DeclaredTypeInstance(type='metadsl_core.integer.Integer', params=None)})}, args=['-77518836552605056', '-6684767051708427860'], kwargs=None), '3065694566795947839': CallNode(function='metadsl_core.maybe.Maybe.__and__', type_params={'T': DeclaredTypeInstance(type='metadsl_core.numpy.NDArray', params=None)}, args=['3154054583708263430', '6128052437150677934'], kwargs=None), '3807138092479696957': CallNode(function='metadsl_core.maybe.Maybe.match', type_params=None, args=['3065694566795947839', '-1634153577544591591', '5059787407900174674'], kwargs=None), '-1672437128533319396': CallNode(function='metadsl_core.numpy.NDArrayCompat.from_ndarray', type_params=None, args=['3807138092479696957'], kwargs=None), '4332074470064424039': CallNode(function='metadsl_core.numpy.NDArrayCompat.to_ndarray', type_params=None, args=['-1672437128533319396'], kwargs=None), '-4935307720403575888': CallNode(function='metadsl_core.either.Either.left', type_params={'U': DeclaredTypeInstance(type='metadsl_core.vec.Vec', params={'T': DeclaredTypeInstance(type='metadsl_core.integer.Integer', params=None)}), 'T': DeclaredTypeInstance(type='metadsl_core.integer.Integer', params=None)}, args=['4334974619117012171'], kwargs=None), '-3253607827985268989': CallNode(function='metadsl_core.maybe.Maybe.just', type_params={'T': DeclaredTypeInstance(type='metadsl_core.either.Either', params={'U': DeclaredTypeInstance(type='metadsl_core.vec.Vec', params={'T': DeclaredTypeInstance(type='metadsl_core.integer.Integer', params=None)}), 'T': DeclaredTypeInstance(type='metadsl_core.integer.Integer', params=None)})}, args=['-4935307720403575888'], kwargs=None), '9175401784758480455': CallNode(function='metadsl_core.maybe.Maybe.__or__', type_params={'T': DeclaredTypeInstance(type='metadsl_core.either.Either', params={'U': DeclaredTypeInstance(type='metadsl_core.vec.Vec', params={'T': DeclaredTypeInstance(type='metadsl_core.integer.Integer', params=None)}), 'T': DeclaredTypeInstance(type='metadsl_core.integer.Integer', params=None)})}, args=['-3253607827985268989', '-6684767051708427860'], kwargs=None), '-1568878265279277577': CallNode(function='metadsl_core.maybe.Maybe.__and__', type_params={'T': DeclaredTypeInstance(type='metadsl_core.numpy.NDArray', params=None)}, args=['3154054583708263430', '9175401784758480455'], kwargs=None), '3515478774217737120': CallNode(function='metadsl_core.maybe.Maybe.match', type_params=None, args=['-1568878265279277577', '-1634153577544591591', '5059787407900174674'], kwargs=None), '-5284571468418393171': CallNode(function='metadsl_core.numpy.NDArrayCompat.from_ndarray', type_params=None, args=['3515478774217737120'], kwargs=None), '4766594682817356272': CallNode(function='metadsl_core.numpy.NDArrayCompat.to_ndarray', type_params=None, args=['-5284571468418393171'], kwargs=None), '429197055195322326': CallNode(function='metadsl_core.maybe.Maybe.just', type_params=None, args=['-4935307720403575888'], kwargs=None), '2177864481804325886': CallNode(function='metadsl_core.maybe.Maybe.__and__', type_params={'T': DeclaredTypeInstance(type='metadsl_core.numpy.NDArray', params=None)}, args=['3154054583708263430', '429197055195322326'], kwargs=None), '920416316869947893': CallNode(function='metadsl_core.maybe.Maybe.match', type_params=None, args=['2177864481804325886', '-1634153577544591591', '5059787407900174674'], kwargs=None), '5701152051151677401': CallNode(function='metadsl_core.numpy.NDArrayCompat.from_ndarray', type_params=None, args=['920416316869947893'], kwargs=None), '8838764709824247435': CallNode(function='metadsl_core.numpy.NDArrayCompat.to_ndarray', type_params=None, args=['5701152051151677401'], kwargs=None), '-6966490436816667220': PrimitiveNode(type='metadsl_core.abstraction.Variable', repr='Variable(4545720616)'), '-5623904604890762495': CallNode(function='metadsl_core.abstraction.Abstraction.create_variable', type_params={'U': DeclaredTypeInstance(type='metadsl_core.maybe.Maybe', params={'T': DeclaredTypeInstance(type='metadsl_core.numpy.NDArray', params=None)}), 'T': DeclaredTypeInstance(type='metadsl_core.numpy.NDArray', params=None)}, args=['-6966490436816667220'], kwargs=None), '-7195979077659172442': CallNode(function='metadsl_core.maybe.Maybe.just', type_params={'T': DeclaredTypeInstance(type='metadsl_core.numpy.NDArray', params=None)}, args=['-5623904604890762495'], kwargs=None), '-495907056665805038': CallNode(function='metadsl_core.abstraction.Abstraction.create', type_params={'U': DeclaredTypeInstance(type='metadsl_core.maybe.Maybe', params={'T': DeclaredTypeInstance(type='metadsl_core.numpy.NDArray', params=None)}), 'T': DeclaredTypeInstance(type='metadsl_core.numpy.NDArray', params=None)}, args=['-5623904604890762495', '-7195979077659172442'], kwargs=None), '-7271444060286549195': CallNode(function='metadsl_core.abstraction.Abstraction.__add__', type_params={'U': DeclaredTypeInstance(type='metadsl_core.maybe.Maybe', params={'T': DeclaredTypeInstance(type='metadsl_core.numpy.NDArray', params=None)}), 'T': DeclaredTypeInstance(type='metadsl_core.numpy.NDArray', params=None)}, args=['-495907056665805038', '8265815467192652237'], kwargs=None), '8907023515929157079': CallNode(function='metadsl_core.maybe.Maybe.match', type_params=None, args=['2177864481804325886', '-1634153577544591591', '-7271444060286549195'], kwargs=None), '3859633042024871833': CallNode(function='metadsl_core.numpy.NDArrayCompat.from_ndarray', type_params=None, args=['8907023515929157079'], kwargs=None), '4302414561591220110': CallNode(function='metadsl_core.numpy.NDArrayCompat.to_ndarray', type_params=None, args=['3859633042024871833'], kwargs=None), '-6966490390836417845': PrimitiveNode(type='metadsl_core.abstraction.Variable', repr='Variable(4545155704)'), '-3707117251068683522': CallNode(function='metadsl_core.abstraction.Abstraction.create_variable', type_params={'U': DeclaredTypeInstance(type='metadsl_core.numpy.NDArray', params=None), 'T': DeclaredTypeInstance(type='metadsl_core.pair.Pair', params={'U': DeclaredTypeInstance(type='metadsl_core.either.Either', params={'U': DeclaredTypeInstance(type='metadsl_core.vec.Vec', params={'T': DeclaredTypeInstance(type='metadsl_core.integer.Integer', params=None)}), 'T': DeclaredTypeInstance(type='metadsl_core.integer.Integer', params=None)}), 'T': DeclaredTypeInstance(type='metadsl_core.numpy.NDArray', params=None)})}, args=['-6966490390836417845'], kwargs=None), '3677192826396133856': CallNode(function='metadsl_core.pair.Pair.left', type_params={'U': DeclaredTypeInstance(type='metadsl_core.either.Either', params={'U': DeclaredTypeInstance(type='metadsl_core.vec.Vec', params={'T': DeclaredTypeInstance(type='metadsl_core.integer.Integer', params=None)}), 'T': DeclaredTypeInstance(type='metadsl_core.integer.Integer', params=None)}), 'T': DeclaredTypeInstance(type='metadsl_core.numpy.NDArray', params=None)}, args=['-3707117251068683522'], kwargs=None), '-2935163272846595315': CallNode(function='metadsl_core.pair.Pair.right', type_params={'U': DeclaredTypeInstance(type='metadsl_core.either.Either', params={'U': DeclaredTypeInstance(type='metadsl_core.vec.Vec', params={'T': DeclaredTypeInstance(type='metadsl_core.integer.Integer', params=None)}), 'T': DeclaredTypeInstance(type='metadsl_core.integer.Integer', params=None)}), 'T': DeclaredTypeInstance(type='metadsl_core.numpy.NDArray', params=None)}, args=['-3707117251068683522'], kwargs=None), '4725064804493183873': CallNode(function='metadsl_core.numpy.NDArray.__getitem__', type_params=None, args=['3677192826396133856', '-2935163272846595315'], kwargs=None), '-2548033601478626103': CallNode(function='metadsl_core.abstraction.Abstraction.create', type_params={'U': DeclaredTypeInstance(type='metadsl_core.numpy.NDArray', params=None), 'T': DeclaredTypeInstance(type='metadsl_core.pair.Pair', params={'U': DeclaredTypeInstance(type='metadsl_core.either.Either', params={'U': DeclaredTypeInstance(type='metadsl_core.vec.Vec', params={'T': DeclaredTypeInstance(type='metadsl_core.integer.Integer', params=None)}), 'T': DeclaredTypeInstance(type='metadsl_core.integer.Integer', params=None)}), 'T': DeclaredTypeInstance(type='metadsl_core.numpy.NDArray', params=None)})}, args=['-3707117251068683522', '4725064804493183873'], kwargs=None), '-5708725732502696721': CallNode(function='metadsl_core.abstraction.Abstraction.__add__', type_params={'U': DeclaredTypeInstance(type='metadsl_core.maybe.Maybe', params={'T': DeclaredTypeInstance(type='metadsl_core.numpy.NDArray', params=None)}), 'T': DeclaredTypeInstance(type='metadsl_core.numpy.NDArray', params=None)}, args=['-495907056665805038', '-2548033601478626103'], kwargs=None), '-7813548441607125509': CallNode(function='metadsl_core.maybe.Maybe.match', type_params=None, args=['2177864481804325886', '-1634153577544591591', '-5708725732502696721'], kwargs=None), '3445892881539143961': CallNode(function='metadsl_core.numpy.NDArrayCompat.from_ndarray', type_params=None, args=['-7813548441607125509'], kwargs=None), '1378683754418626821': CallNode(function='metadsl_core.numpy.NDArrayCompat.to_ndarray', type_params=None, args=['3445892881539143961'], kwargs=None), '8629855294481106536': CallNode(function='metadsl_core.maybe.Maybe.just', type_params={'T': DeclaredTypeInstance(type='metadsl_core.numpy.NDArray', params=None)}, args=['4725064804493183873'], kwargs=None), '160773531963881560': CallNode(function='metadsl_core.abstraction.Abstraction.create', type_params=None, args=['-3707117251068683522', '8629855294481106536'], kwargs=None), '3885361900790661174': CallNode(function='metadsl_core.maybe.Maybe.match', type_params=None, args=['2177864481804325886', '-1634153577544591591', '160773531963881560'], kwargs=None), '-5511822959534642185': CallNode(function='metadsl_core.numpy.NDArrayCompat.from_ndarray', type_params=None, args=['3885361900790661174'], kwargs=None), '4216762219698912407': CallNode(function='metadsl_core.numpy.NDArrayCompat.to_ndarray', type_params=None, args=['-5511822959534642185'], kwargs=None), '-759093838837854533': CallNode(function='metadsl_core.numpy.NDArray.__add__', type_params=None, args=['676902453469965611', '676902453469965611'], kwargs=None), '53011181607246694': CallNode(function='metadsl_core.maybe.Maybe.just', type_params=None, args=['-759093838837854533'], kwargs=None), '-7529480365230570664': CallNode(function='metadsl_core.numpy.NDArrayCompat.from_ndarray', type_params=None, args=['53011181607246694'], kwargs=None), '-2306470418200692677': CallNode(function='metadsl_core.conversion.Converter.convert', type_params={'T': DeclaredTypeInstance(type='metadsl_core.numpy.NDArray', params=None)}, args=['-7529480365230570664'], kwargs=None), '-1147415382588726262': CallNode(function='metadsl_core.maybe.Maybe.__and__', type_params={'T': DeclaredTypeInstance(type='metadsl_core.numpy.NDArray', params=None)}, args=['-2306470418200692677', '429197055195322326'], kwargs=None), '-802659033140068866': CallNode(function='metadsl_core.maybe.Maybe.match', type_params=None, args=['-1147415382588726262', '-1634153577544591591', '160773531963881560'], kwargs=None), '-1131989104053935942': CallNode(function='metadsl_core.numpy.NDArrayCompat.from_ndarray', type_params=None, args=['-802659033140068866'], kwargs=None), '2367042760946320780': CallNode(function='metadsl_core.numpy.NDArrayCompat.to_ndarray', type_params=None, args=['-1131989104053935942'], kwargs=None), '5598944308330143781': CallNode(function='metadsl_core.maybe.Maybe.__and__', type_params={'T': DeclaredTypeInstance(type='metadsl_core.numpy.NDArray', params=None)}, args=['53011181607246694', '429197055195322326'], kwargs=None), '-4947834462112418237': CallNode(function='metadsl_core.maybe.Maybe.match', type_params=None, args=['5598944308330143781', '-1634153577544591591', '160773531963881560'], kwargs=None), '-5035895853445849184': CallNode(function='metadsl_core.numpy.NDArrayCompat.from_ndarray', type_params=None, args=['-4947834462112418237'], kwargs=None), '7839245653668139588': CallNode(function='metadsl_core.numpy.NDArrayCompat.to_ndarray', type_params=None, args=['-5035895853445849184'], kwargs=None), '6489103018356725261': CallNode(function='metadsl_core.pair.Pair.create', type_params=None, args=['-759093838837854533', '-4935307720403575888'], kwargs=None), '4594020610033156603': CallNode(function='metadsl_core.maybe.Maybe.just', type_params=None, args=['6489103018356725261'], kwargs=None), '-9132827512678161343': CallNode(function='metadsl_core.maybe.Maybe.match', type_params=None, args=['4594020610033156603', '-1634153577544591591', '160773531963881560'], kwargs=None), '6071018577691520924': CallNode(function='metadsl_core.numpy.NDArrayCompat.from_ndarray', type_params=None, args=['-9132827512678161343'], kwargs=None), '-4951686850070427313': CallNode(function='metadsl_core.numpy.NDArrayCompat.to_ndarray', type_params=None, args=['6071018577691520924'], kwargs=None), '4862198080085928491': CallNode(function='metadsl_core.abstraction.Abstraction.__call__', type_params={'U': DeclaredTypeInstance(type='metadsl_core.maybe.Maybe', params={'T': DeclaredTypeInstance(type='metadsl_core.numpy.NDArray', params=None)}), 'T': DeclaredTypeInstance(type='metadsl_core.pair.Pair', params={'U': DeclaredTypeInstance(type='metadsl_core.either.Either', params={'U': DeclaredTypeInstance(type='metadsl_core.vec.Vec', params={'T': DeclaredTypeInstance(type='metadsl_core.integer.Integer', params=None)}), 'T': DeclaredTypeInstance(type='metadsl_core.integer.Integer', params=None)}), 'T': DeclaredTypeInstance(type='metadsl_core.numpy.NDArray', params=None)})}, args=['160773531963881560', '6489103018356725261'], kwargs=None), '-7077114834233384839': CallNode(function='metadsl_core.numpy.NDArrayCompat.from_ndarray', type_params=None, args=['4862198080085928491'], kwargs=None), '3935502094684674418': CallNode(function='metadsl_core.numpy.NDArrayCompat.to_ndarray', type_params=None, args=['-7077114834233384839'], kwargs=None), '3185944533757697213': CallNode(function='metadsl_core.pair.Pair.left', type_params={'U': DeclaredTypeInstance(type='metadsl_core.either.Either', params={'U': DeclaredTypeInstance(type='metadsl_core.vec.Vec', params={'T': DeclaredTypeInstance(type='metadsl_core.integer.Integer', params=None)}), 'T': DeclaredTypeInstance(type='metadsl_core.integer.Integer', params=None)}), 'T': DeclaredTypeInstance(type='metadsl_core.numpy.NDArray', params=None)}, args=['6489103018356725261'], kwargs=None), '1758874941227862512': CallNode(function='metadsl_core.pair.Pair.right', type_params={'U': DeclaredTypeInstance(type='metadsl_core.either.Either', params={'U': DeclaredTypeInstance(type='metadsl_core.vec.Vec', params={'T': DeclaredTypeInstance(type='metadsl_core.integer.Integer', params=None)}), 'T': DeclaredTypeInstance(type='metadsl_core.integer.Integer', params=None)}), 'T': DeclaredTypeInstance(type='metadsl_core.numpy.NDArray', params=None)}, args=['6489103018356725261'], kwargs=None), '4956640976287279549': CallNode(function='metadsl_core.numpy.NDArray.__getitem__', type_params=None, args=['3185944533757697213', '1758874941227862512'], kwargs=None), '-3727455046238765628': CallNode(function='metadsl_core.maybe.Maybe.just', type_params={'T': DeclaredTypeInstance(type='metadsl_core.numpy.NDArray', params=None)}, args=['4956640976287279549'], kwargs=None), '2895527461790539826': CallNode(function='metadsl_core.numpy.NDArrayCompat.from_ndarray', type_params=None, args=['-3727455046238765628'], kwargs=None), '6188741693156294736': CallNode(function='metadsl_core.numpy.NDArrayCompat.to_ndarray', type_params=None, args=['2895527461790539826'], kwargs=None), '3666256152571248845': CallNode(function='metadsl_core.numpy.NDArray.__getitem__', type_params=None, args=['-759093838837854533', '1758874941227862512'], kwargs=None), '-288210992240700157': CallNode(function='metadsl_core.maybe.Maybe.just', type_params={'T': DeclaredTypeInstance(type='metadsl_core.numpy.NDArray', params=None)}, args=['3666256152571248845'], kwargs=None), '1630990807433894786': CallNode(function='metadsl_core.numpy.NDArrayCompat.from_ndarray', type_params=None, args=['-288210992240700157'], kwargs=None), '7774360287808655507': CallNode(function='metadsl_core.numpy.NDArrayCompat.to_ndarray', type_params=None, args=['1630990807433894786'], kwargs=None), '-6326498202064995692': CallNode(function='metadsl_core.numpy.NDArray.__getitem__', type_params=None, args=['676902453469965611', '1758874941227862512'], kwargs=None), '6325241474297918039': CallNode(function='metadsl_core.numpy.NDArray.__add__', type_params=None, args=['-6326498202064995692', '-6326498202064995692'], kwargs=None), '-8279202339660549391': CallNode(function='metadsl_core.maybe.Maybe.just', type_params={'T': DeclaredTypeInstance(type='metadsl_core.numpy.NDArray', params=None)}, args=['6325241474297918039'], kwargs=None), '-1018497695054409568': CallNode(function='metadsl_core.numpy.NDArrayCompat.from_ndarray', type_params=None, args=['-8279202339660549391'], kwargs=None), '-5605213071855239412': CallNode(function='metadsl_core.numpy.NDArrayCompat.to_ndarray', type_params=None, args=['-1018497695054409568'], kwargs=None), '-3031825056521805508': CallNode(function='metadsl_core.numpy.NDArray.__getitem__', type_params=None, args=['676902453469965611', '-4935307720403575888'], kwargs=None), '8862735974553068826': CallNode(function='metadsl_core.numpy.NDArray.__add__', type_params=None, args=['-3031825056521805508', '-6326498202064995692'], kwargs=None), '-7460946659902866605': CallNode(function='metadsl_core.maybe.Maybe.just', type_params={'T': DeclaredTypeInstance(type='metadsl_core.numpy.NDArray', params=None)}, args=['8862735974553068826'], kwargs=None), '-5225419820032251757': CallNode(function='metadsl_core.numpy.NDArrayCompat.from_ndarray', type_params=None, args=['-7460946659902866605'], kwargs=None), '-7734512656539393181': CallNode(function='metadsl_core.numpy.NDArrayCompat.to_ndarray', type_params=None, args=['-5225419820032251757'], kwargs=None), '-7572482372116643313': CallNode(function='metadsl_core.numpy.NDArray.__add__', type_params=None, args=['-3031825056521805508', '-3031825056521805508'], kwargs=None), '-6010828351580980414': CallNode(function='metadsl_core.maybe.Maybe.just', type_params={'T': DeclaredTypeInstance(type='metadsl_core.numpy.NDArray', params=None)}, args=['-7572482372116643313'], kwargs=None), '-2716962487081307868': CallNode(function='metadsl_core.numpy.NDArrayCompat.from_ndarray', type_params=None, args=['-6010828351580980414'], kwargs=None), '6278497653678953638': CallNode(function='metadsl_core.numpy.NDArrayCompat.to_ndarray', type_params=None, args=['-2716962487081307868'], kwargs=None), '2553325862552671182': CallNode(function='metadsl_core.numpy.NDArray.to_ndarray', type_params=None, args=['-7572482372116643313'], kwargs=None), '-847498372399649344': CallNode(function='metadsl_core.numpy.NDArray.to_ndarray', type_params=None, args=['-3031825056521805508'], kwargs=None), '-7238536541855472683': CallNode(function='metadsl_core.numpy_engine.ndarray_add', type_params=None, args=['-847498372399649344', '-847498372399649344'], kwargs=None), '-7335669005619496596': CallNode(function='metadsl_core.numpy.NDArray.to_ndarray', type_params=None, args=['676902453469965611'], kwargs=None), '-1727098197078088733': CallNode(function='metadsl_core.numpy_engine.unbox_idxs', type_params=None, args=['-4935307720403575888'], kwargs=None), '-7378122151801498151': CallNode(function='metadsl_core.numpy_engine.ndarray_getitem', type_params=None, args=['-7335669005619496596', '-1727098197078088733'], kwargs=None), '4912198614687891016': CallNode(function='metadsl_core.numpy_engine.ndarray_add', type_params=None, args=['-7378122151801498151', '-847498372399649344'], kwargs=None), '7709830722086267384': CallNode(function='metadsl_core.numpy_engine.unbox_integer', type_params=None, args=['-6348449952595699719'], kwargs=None), '-6866217854608818907': CallNode(function='metadsl_core.numpy_engine.arange', type_params=None, args=['7709830722086267384'], kwargs=None), '2527024770884907802': CallNode(function='metadsl_core.numpy_engine.ndarray_getitem', type_params=None, args=['-6866217854608818907', '-1727098197078088733'], kwargs=None), '6041997727076074195': CallNode(function='metadsl_core.numpy_engine.ndarray_add', type_params=None, args=['2527024770884907802', '-847498372399649344'], kwargs=None), '6263790735347685846': CallNode(function='metadsl_core.numpy_engine.arange', type_params=None, args=['-3705275237864060643'], kwargs=None), '6227968977123678793': CallNode(function='metadsl_core.numpy_engine.ndarray_getitem', type_params=None, args=['6263790735347685846', '-1727098197078088733'], kwargs=None), '2238835771622311935': CallNode(function='metadsl_core.numpy_engine.ndarray_add', type_params=None, args=['6227968977123678793', '-847498372399649344'], kwargs=None), '-1650449521913670327': CallNode(function='metadsl_core.numpy_engine.unbox_integer', type_params=None, args=['4334974619117012171'], kwargs=None), '6227749445817335041': CallNode(function='metadsl_core.numpy_engine.ndarray_getitem', type_params=None, args=['6263790735347685846', '-1650449521913670327'], kwargs=None), '3143315249364599150': CallNode(function='metadsl_core.numpy_engine.ndarray_add', type_params=None, args=['6227749445817335041', '-847498372399649344'], kwargs=None), '5569719149546867854': CallNode(function='metadsl_core.numpy_engine.ndarray_getitem', type_params=None, args=['6263790735347685846', '-3705275237759055718'], kwargs=None), '4353231192952827782': CallNode(function='metadsl_core.numpy_engine.ndarray_add', type_params=None, args=['5569719149546867854', '-847498372399649344'], kwargs=None), '2235985623503686545': CallNode(function='metadsl_core.numpy_engine.ndarray_add', type_params=None, args=['5569719149546867854', '-7378122151801498151'], kwargs=None), '64697981528287998': CallNode(function='metadsl_core.numpy_engine.ndarray_add', type_params=None, args=['5569719149546867854', '2527024770884907802'], kwargs=None), '-8394424762690264190': CallNode(function='metadsl_core.numpy_engine.ndarray_add', type_params=None, args=['5569719149546867854', '6227968977123678793'], kwargs=None), '1987728201386139715': CallNode(function='metadsl_core.numpy_engine.ndarray_add', type_params=None, args=['5569719149546867854', '6227749445817335041'], kwargs=None), '-7511579697616063836': CallNode(function='metadsl_core.numpy_engine.ndarray_add', type_params=None, args=['5569719149546867854', '5569719149546867854'], kwargs=None), '4104838472554137149': PrimitiveNode(type='numpy.ndarray', repr='array([ 0,  1,  2,  3,  4,  5,  6,  7,  8,  9, 10, 11, 12, 13, 14, 15, 16,\\n       17, 18, 19, 20, 21, 22, 23, 24, 25, 26, 27, 28, 29, 30, 31, 32, 33,\\n       34, 35, 36, 37, 38, 39, 40, 41, 42, 43, 44, 45, 46, 47, 48, 49, 50,\\n       51, 52, 53, 54, 55, 56, 57, 58, 59, 60, 61, 62, 63, 64, 65, 66, 67,\\n       68, 69, 70, 71, 72, 73, 74, 75, 76, 77, 78, 79, 80, 81, 82, 83, 84,\\n       85, 86, 87, 88, 89, 90, 91, 92, 93, 94, 95, 96, 97, 98, 99])'), '-37477014601027486': CallNode(function='metadsl_core.numpy_engine.ndarray_getitem', type_params=None, args=['4104838472554137149', '-3705275237759055718'], kwargs=None), '-213012314763072436': CallNode(function='metadsl_core.numpy_engine.ndarray_add', type_params=None, args=['-37477014601027486', '5569719149546867854'], kwargs=None), '-5761567968198041464': PrimitiveNode(type='numpy.int64', repr='5'), '-5701606378643831792': CallNode(function='metadsl_core.numpy_engine.ndarray_add', type_params=None, args=['-5761567968198041464', '5569719149546867854'], kwargs=None), '4104838400414671149': PrimitiveNode(type='numpy.ndarray', repr='array([ 0,  1,  2,  3,  4,  5,  6,  7,  8,  9, 10, 11, 12, 13, 14, 15, 16,\\n       17, 18, 19, 20, 21, 22, 23, 24, 25, 26, 27, 28, 29, 30, 31, 32, 33,\\n       34, 35, 36, 37, 38, 39, 40, 41, 42, 43, 44, 45, 46, 47, 48, 49, 50,\\n       51, 52, 53, 54, 55, 56, 57, 58, 59, 60, 61, 62, 63, 64, 65, 66, 67,\\n       68, 69, 70, 71, 72, 73, 74, 75, 76, 77, 78, 79, 80, 81, 82, 83, 84,\\n       85, 86, 87, 88, 89, 90, 91, 92, 93, 94, 95, 96, 97, 98, 99])'), '-5577291169494991773': CallNode(function='metadsl_core.numpy_engine.ndarray_getitem', type_params=None, args=['4104838400414671149', '-3705275237759055718'], kwargs=None), '-5587534132128047160': CallNode(function='metadsl_core.numpy_engine.ndarray_add', type_params=None, args=['-5761567968198041464', '-5577291169494991773'], kwargs=None), '2659949171365915247': CallNode(function='metadsl_core.numpy_engine.ndarray_add', type_params=None, args=['-5761567968198041464', '-5761567968198041464'], kwargs=None), '-5761567968183968639': PrimitiveNode(type='numpy.int64', repr='10')}, states=States(initial='-2038961938848683980', states=[State(node='1303019370980816768', rule='metadsl_core.numpy.NDArrayCompat.__getitem__', label=None), State(node='4777715286084451550', rule='metadsl_core.numpy.arange', label=None), State(node='347114057044847048', rule='metadsl_core.integer.convert_integer', label=None), State(node='2633483951461553102', rule='metadsl_core.numpy.arange', label=None), State(node='-3838008980622638884', rule='metadsl_core.integer.convert_integer', label=None), State(node='-692315528089853894', rule='metadsl_core.either.convert_to_either', label=None), State(node='-6023893206440842224', rule='metadsl_core.integer.convert_integer', label=None), State(node='-4012140611117047975', rule='metadsl_core.maybe.Maybe.map', label=None), State(node='-8369929211869489657', rule='metadsl_core.maybe.Maybe.map', label=None), State(node='7271560234293115856', rule='metadsl_core.maybe.maybe_match', label=None), State(node='-1555479550847644982', rule='metadsl_core.abstraction.Abstraction.from_fn', label=None), State(node='4494140152710335761', rule='metadsl_core.abstraction.Abstraction.from_fn', label=None), State(node='8634361753103059848', rule='metadsl_core.abstraction.compose', label=None), State(node='6933985692273522389', rule='metadsl_core.abstraction.beta_reduce', label=None), State(node='-3915034430366087560', rule='metadsl_core.maybe.Maybe.map', label=None), State(node='3782781951538296725', rule='metadsl_core.maybe.maybe_match', label=None), State(node='-7564184822257848758', rule='metadsl_core.abstraction.Abstraction.from_fn', label=None), State(node='-2033355726687749432', rule='metadsl_core.abstraction.Abstraction.from_fn', label=None), State(node='7422646627666690300', rule='metadsl_core.abstraction.compose', label=None), State(node='-1398540776220654208', rule='metadsl_core.abstraction.beta_reduce', label=None), State(node='-2707705597213486049', rule='metadsl_core.maybe.Maybe.map', label=None), State(node='3320514870386891208', rule='metadsl_core.maybe.maybe_match', label=None), State(node='2855352892526363245', rule='metadsl_core.abstraction.Abstraction.from_fn', label=None), State(node='6638798745214373616', rule='metadsl_core.abstraction.Abstraction.from_fn', label=None), State(node='4332074470064424039', rule='metadsl_core.abstraction.compose', label=None), State(node='4766594682817356272', rule='metadsl_core.abstraction.beta_reduce', label=None), State(node='8838764709824247435', rule='metadsl_core.maybe.maybe_or', label=None), State(node='4302414561591220110', rule='metadsl_core.abstraction.Abstraction.from_fn', label=None), State(node='1378683754418626821', rule='metadsl_core.abstraction.Abstraction.from_fn', label=None), State(node='4216762219698912407', rule='metadsl_core.abstraction.compose', label=None), State(node='2367042760946320780', rule='metadsl_core.numpy.add_compat', label=None), State(node='7839245653668139588', rule='metadsl_core.numpy.convert_to_ndarray', label=None), State(node='-4951686850070427313', rule='metadsl_core.maybe.maybe_and', label=None), State(node='3935502094684674418', rule='metadsl_core.maybe.maybe_match', label=None), State(node='6188741693156294736', rule='metadsl_core.abstraction.beta_reduce', label=None), State(node='7774360287808655507', rule='metadsl_core.pair.pair_left', label=None), State(node='-5605213071855239412', rule='__main__.optimize_getitem_add', label=None), State(node='-7734512656539393181', rule='metadsl_core.pair.pair_right', label=None), State(node='6278497653678953638', rule='metadsl_core.pair.pair_right', label='convert'), State(node='2553325862552671182', rule='metadsl_core.numpy.box_unbox_ndarray_compat', label=None), State(node='-7238536541855472683', rule='metadsl_core.numpy_engine.unbox_ndarray_add', label=None), State(node='4912198614687891016', rule='metadsl_core.numpy_engine.unbox_ndarray_getitem', label=None), State(node='6041997727076074195', rule='metadsl_core.numpy_engine.unbox_arange', label=None), State(node='2238835771622311935', rule='metadsl_core.numpy_engine.unbox_integer_rule', label=None), State(node='3143315249364599150', rule='metadsl_core.numpy_engine.unbox_idxs_rule', label=None), State(node='4353231192952827782', rule='metadsl_core.numpy_engine.unbox_integer_rule', label=None), State(node='2235985623503686545', rule='metadsl_core.numpy_engine.unbox_ndarray_getitem', label=None), State(node='64697981528287998', rule='metadsl_core.numpy_engine.unbox_arange', label=None), State(node='-8394424762690264190', rule='metadsl_core.numpy_engine.unbox_integer_rule', label=None), State(node='1987728201386139715', rule='metadsl_core.numpy_engine.unbox_idxs_rule', label=None), State(node='-7511579697616063836', rule='metadsl_core.numpy_engine.unbox_integer_rule', label='unbox'), State(node='-213012314763072436', rule='metadsl_core.numpy_engine.arange', label=None), State(node='-5701606378643831792', rule='metadsl_core.numpy_engine.ndarray_getitem', label=None), State(node='-5587534132128047160', rule='metadsl_core.numpy_engine.arange', label=None), State(node='2659949171365915247', rule='metadsl_core.numpy_engine.ndarray_getitem', label=None), State(node='-5761567968183968639', rule='metadsl_core.numpy_engine.ndarray_add', label='execute')]))"
      ]
     },
     "metadata": {},
     "output_type": "display_data"
    },
    {
     "data": {
      "text/plain": [
       "10"
      ]
     },
     "metadata": {},
     "output_type": "display_data"
    }
   ],
   "source": [
    "expr = (arange(N) + arange(N))[5].to_ndarray()\n",
    "expr"
   ]
  },
  {
   "cell_type": "markdown",
   "metadata": {},
   "source": [
    "This shows how we can break up the NumPy API into different layers, all of which are extensible:\n",
    "\n",
    "1. A compatibility layer that works like the existing NumPy API, except isn't limited to the Python types of the current API\n",
    "2. A type safe version of this API. The conversion between the compatability layer and this layer is extensible, so that third party authors can add new conversion between their own Python objects and the typed representation.\n",
    "3. A backend layer that translates either back to Python calls or source code, or to other targets like LLVM or Tensorflow.\n",
    "\n",
    "The key is that all these layers are composable, so you could have different frontends for any of them or add your own. This is all done through a typed replacement system that is compatible with static analysis using MyPy.\n",
    "\n",
    "`metadsl` is the glue that allows us to define this API in a way that enables greater greater collaboration. Since each layer has it's own well defined specification, different projects can extend and target these seperate layers, while minimizing the need to explicitly opt in to collaborate. The goal is to enable greater reuse, interoperability, and extensability within the Python scientific ecosystem."
   ]
  }
 ],
 "metadata": {
  "kernelspec": {
   "display_name": "Python 3",
   "language": "python",
   "name": "python3"
  },
  "language_info": {
   "codemirror_mode": {
    "name": "ipython",
    "version": 3
   },
   "file_extension": ".py",
   "mimetype": "text/x-python",
   "name": "python",
   "nbconvert_exporter": "python",
   "pygments_lexer": "ipython3",
   "version": "3.7.3"
  }
 },
 "nbformat": 4,
 "nbformat_minor": 4
}
