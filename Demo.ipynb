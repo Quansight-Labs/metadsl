{
 "cells": [
  {
   "cell_type": "markdown",
   "metadata": {},
   "source": [
    "# `metadsl`\n",
    "\n",
    "...is a framework for creating domain specific languages in Python."
   ]
  },
  {
   "cell_type": "code",
   "execution_count": 1,
   "metadata": {},
   "outputs": [],
   "source": [
    "from metadsl import *\n",
    "from metadsl_core import *\n",
    "from metadsl_visualize import *"
   ]
  },
  {
   "cell_type": "markdown",
   "metadata": {},
   "source": [
    "Here, we show a NumPy API compatible DSL that we have started writing. We can create a symbolic expression and then execute it. The widget shows the different stages of execution:"
   ]
  },
  {
   "cell_type": "code",
   "execution_count": 2,
   "metadata": {},
   "outputs": [
    {
     "data": {
      "application/json": {
       "nodes": {
        "-1005459391132720625": [
         "-1005459391132720625",
         {
          "args": [
           "-4619107828061912794"
          ],
          "function": "NDArray.to_ndarray"
         }
        ],
        "-1011633400249230129": [
         "183283635133801492",
         {
          "args": [
           "-6045266018355487893"
          ],
          "function": "NDArrayCompat.from_ndarray"
         }
        ],
        "-1095585159230285059": [
         "-1095585159230285059",
         {
          "args": [
           "5018280261059491459"
          ],
          "function": "Abstraction.from_fn"
         }
        ],
        "-1115633916511162292": [
         "-7843556576460117514",
         {
          "args": [
           "6611234870850315639",
           "-3390378467644071701"
          ],
          "function": "Maybe.__or__",
          "type_params": {
           "T": {
            "params": {
             "T": {
              "type": "Integer"
             },
             "U": {
              "params": {
               "T": {
                "type": "Integer"
               }
              },
              "type": "Vec"
             }
            },
            "type": "Either"
           }
          }
         }
        ],
        "-1170866238113857522": [
         "7443961620176968740",
         {
          "args": [
           "1714036227987191754",
           "-255592637557283532"
          ],
          "function": "Maybe.__and__",
          "type_params": {
           "T": {
            "type": "NDArray"
           }
          }
         }
        ],
        "-154108299725342969": [
         "-3654672770811511753",
         {
          "args": [
           "8642611512904930460",
           "5084951758681981122"
          ],
          "function": "Maybe.map",
          "type_params": {
           "T": {
            "params": {
             "T": {
              "type": "NDArray"
             },
             "U": {
              "params": {
               "T": {
                "type": "Integer"
               },
               "U": {
                "params": {
                 "T": {
                  "type": "Integer"
                 }
                },
                "type": "Vec"
               }
              },
              "type": "Either"
             }
            },
            "type": "Pair"
           }
          }
         }
        ],
        "-1545244911588267049": [
         "-1545244911588267049",
         {
          "args": [
           "4813215200325843030"
          ],
          "function": "Abstraction.create_variable",
          "type_params": {
           "T": {
            "type": "Integer"
           },
           "U": {
            "params": {
             "T": {
              "type": "Integer"
             },
             "U": {
              "params": {
               "T": {
                "type": "Integer"
               }
              },
              "type": "Vec"
             }
            },
            "type": "Either"
           }
          }
         }
        ],
        "-1699773377263255131": [
         "-1699773377263255131",
         {
          "args": [
           "579615478629357154"
          ],
          "function": "Maybe.just"
         }
        ],
        "-1732661160011429166": [
         "-6500393008186537515",
         {
          "args": [
           "5769543236148692639",
           "4389627826087453676"
          ],
          "function": "Abstraction.create",
          "type_params": {
           "T": {
            "params": {
             "T": {
              "type": "Integer"
             },
             "U": {
              "params": {
               "T": {
                "type": "Integer"
               }
              },
              "type": "Vec"
             }
            },
            "type": "Either"
           },
           "U": {
            "params": {
             "T": {
              "params": {
               "T": {
                "type": "Integer"
               },
               "U": {
                "params": {
                 "T": {
                  "type": "Integer"
                 }
                },
                "type": "Vec"
               }
              },
              "type": "Either"
             }
            },
            "type": "Maybe"
           }
          }
         }
        ],
        "-1792845949521748470": [
         "-1792845949521748470",
         {
          "repr": "arange_",
          "type": "Infer"
         }
        ],
        "-2031615137486694345": [
         "-2031615137486694345",
         {
          "args": [
           "-6945356083866800944",
           "1985814629941637880"
          ],
          "function": "NDArray.__getitem__"
         }
        ],
        "-2038121208858023980": [
         "1935586180163463095",
         {
          "args": [
           "-3654919446309870082"
          ],
          "function": "NDArrayCompat.to_ndarray"
         }
        ],
        "-212784525855687111": [
         "-212784525855687111",
         {
          "args": [
           "1275633262893457532"
          ],
          "function": "Maybe.just",
          "type_params": {
           "T": {
            "type": "NDArray"
           }
          }
         }
        ],
        "-2141729615201721814": [
         "-7843556576460117514",
         {
          "args": [
           "6869511155424569206",
           "5345158766180672125"
          ],
          "function": "Maybe.__or__",
          "type_params": {
           "T": {
            "params": {
             "T": {
              "type": "Integer"
             },
             "U": {
              "params": {
               "T": {
                "type": "Integer"
               }
              },
              "type": "Vec"
             }
            },
            "type": "Either"
           }
          }
         }
        ],
        "-2450394698919677778": [
         "-7106233571294015986",
         {
          "args": [
           "-5722367332102644567",
           "-5722367332102644567"
          ],
          "function": "NDArrayCompat.__add__"
         }
        ],
        "-2484432628204838036": [
         "3410846223516364705",
         {
          "args": [
           "5838084232007047975"
          ],
          "function": "arange"
         }
        ],
        "-251764288365888734": [
         "1512960952093783306",
         {
          "args": [
           "-5700005666712022590"
          ],
          "function": "NDArrayCompat.from_ndarray"
         }
        ],
        "-255592637557283532": [
         "-7843556576460117514",
         {
          "args": [
           "-7067585356806477310"
          ],
          "function": "Maybe.just"
         }
        ],
        "-2600167263746280635": [
         "-3654672770811511753",
         {
          "args": [
           "-8562840633844268781"
          ],
          "function": "Maybe.just",
          "type_params": {
           "T": {
            "type": "NDArray"
           }
          }
         }
        ],
        "-2693218290189020775": [
         "-2693218290189020775",
         {
          "args": [
           "6527418092972046318"
          ],
          "function": "Maybe.just",
          "type_params": {
           "T": {
            "params": {
             "T": {
              "type": "Integer"
             },
             "U": {
              "params": {
               "T": {
                "type": "Integer"
               }
              },
              "type": "Vec"
             }
            },
            "type": "Either"
           }
          }
         }
        ],
        "-2706252334691809364": [
         "1935586180163463095",
         {
          "args": [
           "7765880682925208098"
          ],
          "function": "NDArrayCompat.to_ndarray"
         }
        ],
        "-2730920362030976645": [
         "-7585266382721542195",
         {
          "args": [
           "-5333004143361228569"
          ],
          "function": "NDArrayCompat.from_ndarray"
         }
        ],
        "-2822577839386693752": [
         "-5477221866921420825",
         {
          "args": [
           "-1011633400249230129"
          ],
          "function": "Converter.convert",
          "type_params": {
           "T": {
            "type": "NDArray"
           }
          }
         }
        ],
        "-2846104450224803501": [
         "-3654672770811511753",
         {
          "args": [
           "2502081968055689566",
           "7210653655396512933"
          ],
          "function": "Maybe.map",
          "type_params": {
           "T": {
            "params": {
             "T": {
              "type": "NDArray"
             },
             "U": {
              "params": {
               "T": {
                "type": "Integer"
               },
               "U": {
                "params": {
                 "T": {
                  "type": "Integer"
                 }
                },
                "type": "Vec"
               }
              },
              "type": "Either"
             }
            },
            "type": "Pair"
           }
          }
         }
        ],
        "-2862497316178213032": [
         "-7585266382721542195",
         {
          "args": [
           "-2846104450224803501"
          ],
          "function": "NDArrayCompat.from_ndarray"
         }
        ],
        "-2892412849072983247": [
         "-7585266382721542195",
         {
          "args": [
           "-154108299725342969"
          ],
          "function": "NDArrayCompat.from_ndarray"
         }
        ],
        "-2903661489942354244": [
         "-3654672770811511753",
         {
          "args": [
           "9219245304176348434"
          ],
          "function": "Maybe.just",
          "type_params": {
           "T": {
            "type": "NDArray"
           }
          }
         }
        ],
        "-2986294243986845795": [
         "-7585266382721542195",
         {
          "args": [
           "-309788355308117949"
          ],
          "function": "NDArrayCompat.from_ndarray"
         }
        ],
        "-3000247746444544398": [
         "-5690444910203169095",
         {
          "args": [
           "-7067585356806477310"
          ],
          "function": "Maybe.just",
          "type_params": {
           "T": {
            "params": {
             "T": {
              "type": "Integer"
             },
             "U": {
              "params": {
               "T": {
                "type": "Integer"
               }
              },
              "type": "Vec"
             }
            },
            "type": "Either"
           }
          }
         }
        ],
        "-309788355308117949": [
         "-3654672770811511753",
         {
          "args": [
           "6238575479103760735",
           "-4664464520583065041",
           "-7272182369909386791"
          ],
          "function": "Maybe.match",
          "type_params": {
           "T": {
            "params": {
             "T": {
              "type": "NDArray"
             },
             "U": {
              "params": {
               "T": {
                "type": "Integer"
               },
               "U": {
                "params": {
                 "T": {
                  "type": "Integer"
                 }
                },
                "type": "Vec"
               }
              },
              "type": "Either"
             }
            },
            "type": "Pair"
           }
          }
         }
        ],
        "-3357586526836581614": [
         "-1005459391132720625",
         {
          "args": [
           "3410846223516364705",
           "3410846223516364705"
          ],
          "function": "ndarray_add"
         }
        ],
        "-3384401606129232383": [
         "-3384401606129232383",
         {
          "repr": "<function NDArrayCompat.__getitem__.<locals>.<lambda> at 0x10d573b70>",
          "type": "function"
         }
        ],
        "-3390378467644071701": [
         "1250312507332772438",
         {
          "args": [
           "2944773798775947601",
           "2703072876348085923",
           "7792348576416097263"
          ],
          "function": "Maybe.match",
          "type_params": {
           "T": {
            "params": {
             "T": {
              "type": "Integer"
             }
            },
            "type": "Vec"
           }
          }
         }
        ],
        "-3533949730051211226": [
         "-3654672770811511753",
         {
          "args": [
           "6228889529990603524",
           "5084951758681981122"
          ],
          "function": "Maybe.map",
          "type_params": {
           "T": {
            "params": {
             "T": {
              "type": "NDArray"
             },
             "U": {
              "params": {
               "T": {
                "type": "Integer"
               },
               "U": {
                "params": {
                 "T": {
                  "type": "Integer"
                 }
                },
                "type": "Vec"
               }
              },
              "type": "Either"
             }
            },
            "type": "Pair"
           }
          }
         }
        ],
        "-3584131521211666729": [
         "-3654672770811511753",
         {
          "args": [
           "-7907112496419367778",
           "7210653655396512933"
          ],
          "function": "Maybe.map",
          "type_params": {
           "T": {
            "params": {
             "T": {
              "type": "NDArray"
             },
             "U": {
              "params": {
               "T": {
                "type": "Integer"
               },
               "U": {
                "params": {
                 "T": {
                  "type": "Integer"
                 }
                },
                "type": "Vec"
               }
              },
              "type": "Either"
             }
            },
            "type": "Pair"
           }
          }
         }
        ],
        "-3654672770811511753": [
         "-3654672770811511753",
         {
          "args": [
           "1240870953218063631",
           "5084951758681981122"
          ],
          "function": "Maybe.map",
          "type_params": {
           "T": {
            "params": {
             "T": {
              "type": "NDArray"
             },
             "U": {
              "params": {
               "T": {
                "type": "Integer"
               },
               "U": {
                "params": {
                 "T": {
                  "type": "Integer"
                 }
                },
                "type": "Vec"
               }
              },
              "type": "Either"
             }
            },
            "type": "Pair"
           }
          }
         }
        ],
        "-3654919446309870082": [
         "-7585266382721542195",
         {
          "args": [
           "1768696950775263068"
          ],
          "function": "NDArrayCompat.from_ndarray"
         }
        ],
        "-383058471427345641": [
         "-7246546953092699839",
         {
          "args": [
           "-6815086034509967428",
           "3751055923777384973"
          ],
          "function": "Maybe.__or__",
          "type_params": {
           "T": {
            "params": {
             "T": {
              "type": "Integer"
             },
             "U": {
              "params": {
               "T": {
                "type": "Integer"
               }
              },
              "type": "Vec"
             }
            },
            "type": "Either"
           }
          }
         }
        ],
        "-3884415917423819528": [
         "7443961620176968740",
         {
          "args": [
           "3246722563793329763",
           "-255592637557283532"
          ],
          "function": "Maybe.__and__",
          "type_params": {
           "T": {
            "type": "NDArray"
           }
          }
         }
        ],
        "-3959006833905751656": [
         "-3959006833905751656",
         {
          "args": [
           "5838084232007047975"
          ],
          "function": "arange"
         }
        ],
        "-399055802812541133": [
         "-7246546953092699839",
         {
          "args": [
           "-7300482696862424175",
           "1250312507332772438"
          ],
          "function": "Maybe.__or__",
          "type_params": {
           "T": {
            "params": {
             "T": {
              "type": "Integer"
             },
             "U": {
              "params": {
               "T": {
                "type": "Integer"
               }
              },
              "type": "Vec"
             }
            },
            "type": "Either"
           }
          }
         }
        ],
        "-4095910170432122847": [
         "7443961620176968740",
         {
          "args": [
           "-5477221866921420825",
           "-1115633916511162292"
          ],
          "function": "Maybe.__and__",
          "type_params": {
           "T": {
            "type": "NDArray"
           }
          }
         }
        ],
        "-4142944368808539398": [
         "1935586180163463095",
         {
          "args": [
           "50083999247817587"
          ],
          "function": "NDArrayCompat.to_ndarray"
         }
        ],
        "-4225154918214793363": [
         "-3654672770811511753",
         {
          "args": [
           "2632161455465107062",
           "-4664464520583065041",
           "8475390729817755043"
          ],
          "function": "Maybe.match",
          "type_params": {
           "T": {
            "params": {
             "T": {
              "type": "NDArray"
             },
             "U": {
              "params": {
               "T": {
                "type": "Integer"
               },
               "U": {
                "params": {
                 "T": {
                  "type": "Integer"
                 }
                },
                "type": "Vec"
               }
              },
              "type": "Either"
             }
            },
            "type": "Pair"
           }
          }
         }
        ],
        "-4277628325632849953": [
         "-3654672770811511753",
         {
          "args": [
           "-7040477687325076394",
           "7210653655396512933"
          ],
          "function": "Maybe.map",
          "type_params": {
           "T": {
            "params": {
             "T": {
              "type": "NDArray"
             },
             "U": {
              "params": {
               "T": {
                "type": "Integer"
               },
               "U": {
                "params": {
                 "T": {
                  "type": "Integer"
                 }
                },
                "type": "Vec"
               }
              },
              "type": "Either"
             }
            },
            "type": "Pair"
           }
          }
         }
        ],
        "-4287281295076353511": [
         "1935586180163463095",
         {
          "args": [
           "3649991889024598203"
          ],
          "function": "NDArrayCompat.to_ndarray"
         }
        ],
        "-4410156826259018103": [
         "-4410156826259018103",
         {
          "repr": "Variable(4700555864)",
          "type": "Variable"
         }
        ],
        "-4410156828438140928": [
         "-4410156828438140928",
         {
          "repr": "Variable(4700587176)",
          "type": "Variable"
         }
        ],
        "-4410156836406607453": [
         "-4410156836406607453",
         {
          "repr": "Variable(4700410040)",
          "type": "Variable"
         }
        ],
        "-4526987054053700703": [
         "7443961620176968740",
         {
          "args": [
           "1714036227987191754",
           "4201819479016430412"
          ],
          "function": "Maybe.__and__",
          "type_params": {
           "T": {
            "type": "NDArray"
           }
          }
         }
        ],
        "-4619107828061912794": [
         "-4619107828061912794",
         {
          "args": [
           "1492449749867095234",
           "1492449749867095234"
          ],
          "function": "NDArray.__add__"
         }
        ],
        "-4664464520583065041": [
         "-4664464520583065041",
         {
          "function": "Maybe.nothing",
          "type_params": {
           "T": {
            "type": "NDArray"
           }
          }
         }
        ],
        "-4724417094432334173": [
         "-4724417094432334173",
         {
          "args": [
           "219451634672783243"
          ],
          "function": "Abstraction.from_fn"
         }
        ],
        "-4901889869368323256": [
         "-7585266382721542195",
         {
          "args": [
           "-8593433398620042011"
          ],
          "function": "NDArrayCompat.from_ndarray"
         }
        ],
        "-5117706931675647553": [
         "-5117706931675647553",
         {
          "repr": "Maybe.just",
          "type": "BoundInfer"
         }
        ],
        "-522260431455670959": [
         "1935586180163463095",
         {
          "args": [
           "4528865061593271395"
          ],
          "function": "NDArrayCompat.to_ndarray"
         }
        ],
        "-5239319086784910624": [
         "-3654672770811511753",
         {
          "args": [
           "1220523710815122284",
           "-4664464520583065041",
           "8475390729817755043"
          ],
          "function": "Maybe.match",
          "type_params": {
           "T": {
            "params": {
             "T": {
              "type": "NDArray"
             },
             "U": {
              "params": {
               "T": {
                "type": "Integer"
               },
               "U": {
                "params": {
                 "T": {
                  "type": "Integer"
                 }
                },
                "type": "Vec"
               }
              },
              "type": "Either"
             }
            },
            "type": "Pair"
           }
          }
         }
        ],
        "-5288385667088515929": [
         "-3654672770811511753",
         {
          "args": [
           "-7705503228706736504",
           "-4664464520583065041",
           "8475390729817755043"
          ],
          "function": "Maybe.match",
          "type_params": {
           "T": {
            "params": {
             "T": {
              "type": "NDArray"
             },
             "U": {
              "params": {
               "T": {
                "type": "Integer"
               },
               "U": {
                "params": {
                 "T": {
                  "type": "Integer"
                 }
                },
                "type": "Vec"
               }
              },
              "type": "Either"
             }
            },
            "type": "Pair"
           }
          }
         }
        ],
        "-5296929383186549744": [
         "-1005459391132720625",
         {
          "args": [
           "-2484432628204838036",
           "-2484432628204838036"
          ],
          "function": "ndarray_add"
         }
        ],
        "-5333004143361228569": [
         "-3654672770811511753",
         {
          "args": [
           "812146376475600282"
          ],
          "function": "Maybe.just",
          "type_params": {
           "T": {
            "type": "NDArray"
           }
          }
         }
        ],
        "-5477221866921420825": [
         "-5477221866921420825",
         {
          "args": [
           "183283635133801492"
          ],
          "function": "Converter.convert",
          "type_params": {
           "T": {
            "type": "NDArray"
           }
          }
         }
        ],
        "-554557341685015507": [
         "1935586180163463095",
         {
          "args": [
           "8066852995898518341"
          ],
          "function": "NDArrayCompat.to_ndarray"
         }
        ],
        "-5690444910203169095": [
         "-5690444910203169095",
         {
          "args": [
           "6789123831358882944",
           "5254740828734901287"
          ],
          "function": "Maybe.map",
          "type_params": {
           "T": {
            "type": "Integer"
           }
          }
         }
        ],
        "-5698281203918103133": [
         "-5698281203918103133",
         {
          "args": [
           "9194089122223088133",
           "-8340805333693998320"
          ],
          "function": "Abstraction.create",
          "type_params": {
           "T": {
            "type": "Integer"
           },
           "U": {
            "type": "NDArray"
           }
          }
         }
        ],
        "-5700005666712022590": [
         "6219386688534449398",
         {
          "args": [
           "2103808445426907327",
           "579615478629357154"
          ],
          "function": "Abstraction.__call__",
          "type_params": {
           "T": {
            "type": "Integer"
           },
           "U": {
            "params": {
             "T": {
              "type": "NDArray"
             }
            },
            "type": "Maybe"
           }
          }
         }
        ],
        "-5708270348187956537": [
         "6219386688534449398",
         {
          "args": [
           "-1699773377263255131",
           "-4664464520583065041",
           "1282662085958520030"
          ],
          "function": "Maybe.match",
          "type_params": {
           "T": {
            "type": "Integer"
           }
          }
         }
        ],
        "-5722367332102644567": [
         "-3959006833905751656",
         {
          "args": [
           "1102455697285063343"
          ],
          "function": "NDArrayCompat.from_ndarray"
         }
        ],
        "-5730976342729695613": [
         "1935586180163463095",
         {
          "args": [
           "8128290227894987152",
           "5838084232112052900"
          ],
          "function": "ndarray_getitem"
         }
        ],
        "-5815398103880726676": [
         "1935586180163463095",
         {
          "args": [
           "4669825845995946390",
           "5838084232112052900"
          ],
          "function": "ndarray_getitem"
         }
        ],
        "-5922975291147053079": [
         "-7843556576460117514",
         {
          "args": [
           "4933073225671314959",
           "1082193680570980265"
          ],
          "function": "Maybe.__or__",
          "type_params": {
           "T": {
            "params": {
             "T": {
              "type": "Integer"
             },
             "U": {
              "params": {
               "T": {
                "type": "Integer"
               }
              },
              "type": "Vec"
             }
            },
            "type": "Either"
           }
          }
         }
        ],
        "-5971861533727488186": [
         "183283635133801492",
         {
          "args": [
           "-7454449488011523618",
           "-7454449488011523618"
          ],
          "function": "NDArrayCompat.__add__"
         }
        ],
        "-5998932024889342076": [
         "-5998932024889342076",
         {
          "args": [
           "-8340805333693998320"
          ],
          "function": "Maybe.just",
          "type_params": {
           "T": {
            "type": "NDArray"
           }
          }
         }
        ],
        "-6045266018355487893": [
         "-5477221866921420825",
         {
          "args": [
           "-4619107828061912794"
          ],
          "function": "Maybe.just"
         }
        ],
        "-6046152058755040221": [
         "1935586180163463095",
         {
          "args": [
           "6065453143059536812"
          ],
          "function": "NDArrayCompat.to_ndarray"
         }
        ],
        "-6101509707006216853": [
         "-7585266382721542195",
         {
          "args": [
           "8691229672040384370"
          ],
          "function": "NDArrayCompat.from_ndarray"
         }
        ],
        "-615882590086075200": [
         "1935586180163463095",
         {
          "args": [
           "3335157028932074336"
          ],
          "function": "NDArrayCompat.to_ndarray"
         }
        ],
        "-6202411770470984700": [
         "-7585266382721542195",
         {
          "args": [
           "-4277628325632849953"
          ],
          "function": "NDArrayCompat.from_ndarray"
         }
        ],
        "-6213901631684034091": [
         "1935586180163463095",
         {
          "repr": "array(10)",
          "type": "ndarray"
         }
        ],
        "-6213901685966167691": [
         "-1005459391132720625",
         {
          "repr": "array([  0,   2,   4,   6,   8,  10,  12,  14,  16,  18,  20,  22,  24,\n        26,  28,  30,  32,  34,  36,  38,  40,  42,  44,  46,  48,  50,\n        52,  54,  56,  58,  60,  62,  64,  66,  68,  70,  72,  74,  76,\n        78,  80,  82,  84,  86,  88,  90,  92,  94,  96,  98, 100, 102,\n       104, 106, 108, 110, 112, 114, 116, 118, 120, 122, 124, 126, 128,\n       130, 132, 134, 136, 138, 140, 142, 144, 146, 148, 150, 152, 154,\n       156, 158, 160, 162, 164, 166, 168, 170, 172, 174, 176, 178, 180,\n       182, 184, 186, 188, 190, 192, 194, 196, 198])",
          "type": "ndarray"
         }
        ],
        "-6346803416583130588": [
         "183283635133801492",
         {
          "args": [
           "7418876943315760347",
           "7418876943315760347"
          ],
          "function": "NDArrayCompat.__add__"
         }
        ],
        "-6415487103606775028": [
         "1935586180163463095",
         {
          "args": [
           "44395248776030981"
          ],
          "function": "NDArrayCompat.to_ndarray"
         }
        ],
        "-6500393008186537515": [
         "-6500393008186537515",
         {
          "args": [
           "-5117706931675647553"
          ],
          "function": "Abstraction.from_fn"
         }
        ],
        "-6529800568714258019": [
         "-6529800568714258019",
         {
          "args": [
           "5299933280258969538"
          ],
          "function": "Maybe.just",
          "type_params": {
           "T": {
            "params": {
             "T": {
              "type": "Integer"
             },
             "U": {
              "params": {
               "T": {
                "type": "Integer"
               }
              },
              "type": "Vec"
             }
            },
            "type": "Either"
           }
          }
         }
        ],
        "-6548120258914317946": [
         "1935586180163463095",
         {
          "args": [
           "-2862497316178213032"
          ],
          "function": "NDArrayCompat.to_ndarray"
         }
        ],
        "-6662807094635375005": [
         "1935586180163463095",
         {
          "args": [
           "-6213901685966167691",
           "5838084232112052900"
          ],
          "function": "ndarray_getitem"
         }
        ],
        "-6758997939504679046": [
         "-6758997939504679046",
         {
          "args": [
           "5838084232007047975"
          ],
          "function": "Converter.convert",
          "type_params": {
           "T": {
            "type": "Integer"
           }
          }
         }
        ],
        "-6761449467495096585": [
         "-5477221866921420825",
         {
          "args": [
           "-5971861533727488186"
          ],
          "function": "Converter.convert",
          "type_params": {
           "T": {
            "type": "NDArray"
           }
          }
         }
        ],
        "-6812286573423641010": [
         "1935586180163463095",
         {
          "args": [
           "6077633707209991085"
          ],
          "function": "NDArrayCompat.to_ndarray"
         }
        ],
        "-6815086034509967428": [
         "-6815086034509967428",
         {
          "args": [
           "6056108927389162809",
           "-4724417094432334173"
          ],
          "function": "Maybe.map",
          "type_params": {
           "T": {
            "type": "Integer"
           }
          }
         }
        ],
        "-6945356083866800944": [
         "-6945356083866800944",
         {
          "args": [
           "8000944135531895841"
          ],
          "function": "Pair.left",
          "type_params": {
           "T": {
            "type": "NDArray"
           },
           "U": {
            "params": {
             "T": {
              "type": "Integer"
             },
             "U": {
              "params": {
               "T": {
                "type": "Integer"
               }
              },
              "type": "Vec"
             }
            },
            "type": "Either"
           }
          }
         }
        ],
        "-6982537285276620806": [
         "1935586180163463095",
         {
          "args": [
           "-8582480166607514506"
          ],
          "function": "NDArrayCompat.to_ndarray"
         }
        ],
        "-7040477687325076394": [
         "1240870953218063631",
         {
          "args": [
           "2723701481682903090",
           "-956653014655375141"
          ],
          "function": "Maybe.__and__",
          "type_params": {
           "T": {
            "type": "NDArray"
           }
          }
         }
        ],
        "-7067585356806477310": [
         "-7067585356806477310",
         {
          "args": [
           "5109073286877630545"
          ],
          "function": "Either.left",
          "type_params": {
           "T": {
            "type": "Integer"
           },
           "U": {
            "params": {
             "T": {
              "type": "Integer"
             }
            },
            "type": "Vec"
           }
          }
         }
        ],
        "-7106233571294015986": [
         "-7106233571294015986",
         {
          "args": [
           "-3959006833905751656",
           "-3959006833905751656"
          ],
          "function": "NDArrayCompat.__add__"
         }
        ],
        "-7109627650996221658": [
         "-7585266382721542195",
         {
          "args": [
           "4783284794499366098"
          ],
          "function": "NDArrayCompat.from_ndarray"
         }
        ],
        "-7125658743320791948": [
         "-7125658743320791948",
         {
          "args": [
           "-7106233571294015986"
          ],
          "function": "Converter.convert",
          "type_params": {
           "T": {
            "type": "NDArray"
           }
          }
         }
        ],
        "-7246546953092699839": [
         "-7246546953092699839",
         {
          "args": [
           "5838084232112052900"
          ],
          "function": "Converter.convert",
          "type_params": {
           "T": {
            "params": {
             "T": {
              "type": "Integer"
             },
             "U": {
              "params": {
               "T": {
                "type": "Integer"
               }
              },
              "type": "Vec"
             }
            },
            "type": "Either"
           }
          }
         }
        ],
        "-7272182369909386791": [
         "-7272182369909386791",
         {
          "args": [
           "-1095585159230285059",
           "7210653655396512933"
          ],
          "function": "Abstraction.__add__",
          "type_params": {
           "T": {
            "type": "NDArray"
           },
           "U": {
            "params": {
             "T": {
              "type": "NDArray"
             }
            },
            "type": "Maybe"
           }
          }
         }
        ],
        "-7300482696862424175": [
         "-6815086034509967428",
         {
          "args": [
           "6789123831358882944",
           "-4724417094432334173"
          ],
          "function": "Maybe.map",
          "type_params": {
           "T": {
            "type": "Integer"
           }
          }
         }
        ],
        "-7454449488011523618": [
         "1512960952093783306",
         {
          "args": [
           "-8956525556301996865"
          ],
          "function": "NDArrayCompat.from_ndarray"
         }
        ],
        "-7585266382721542195": [
         "-7585266382721542195",
         {
          "args": [
           "-7106233571294015986",
           "5838084232112052900"
          ],
          "function": "NDArrayCompat.__getitem__"
         }
        ],
        "-7640308243335310651": [
         "7443961620176968740",
         {
          "args": [
           "-6045266018355487893",
           "-255592637557283532"
          ],
          "function": "Maybe.__and__",
          "type_params": {
           "T": {
            "type": "NDArray"
           }
          }
         }
        ],
        "-7705503228706736504": [
         "7443961620176968740",
         {
          "args": [
           "2413545698962773875",
           "-255592637557283532"
          ],
          "function": "Maybe.__and__",
          "type_params": {
           "T": {
            "type": "NDArray"
           }
          }
         }
        ],
        "-7708299086038277258": [
         "-7585266382721542195",
         {
          "args": [
           "510301045073135172"
          ],
          "function": "NDArrayCompat.from_ndarray"
         }
        ],
        "-774798583507628072": [
         "1935586180163463095",
         {
          "args": [
           "-6101509707006216853"
          ],
          "function": "NDArrayCompat.to_ndarray"
         }
        ],
        "-7812553897122155129": [
         "7443961620176968740",
         {
          "args": [
           "-6761449467495096585",
           "-2141729615201721814"
          ],
          "function": "Maybe.__and__",
          "type_params": {
           "T": {
            "type": "NDArray"
           }
          }
         }
        ],
        "-7843556576460117514": [
         "-7843556576460117514",
         {
          "args": [
           "-5690444910203169095",
           "1250312507332772438"
          ],
          "function": "Maybe.__or__",
          "type_params": {
           "T": {
            "params": {
             "T": {
              "type": "Integer"
             },
             "U": {
              "params": {
               "T": {
                "type": "Integer"
               }
              },
              "type": "Vec"
             }
            },
            "type": "Either"
           }
          }
         }
        ],
        "-7882535387783133773": [
         "-7585266382721542195",
         {
          "args": [
           "2279188004980715661"
          ],
          "function": "NDArrayCompat.from_ndarray"
         }
        ],
        "-7907112496419367778": [
         "1240870953218063631",
         {
          "args": [
           "2723701481682903090",
           "-7843556576460117514"
          ],
          "function": "Maybe.__and__",
          "type_params": {
           "T": {
            "type": "NDArray"
           }
          }
         }
        ],
        "-8092933834361013212": [
         "1935586180163463095",
         {
          "args": [
           "-1005459391132720625",
           "8569104213158216184"
          ],
          "function": "ndarray_getitem"
         }
        ],
        "-8159938588654798608": [
         "-8159938588654798608",
         {
          "args": [
           "2861613970724538675"
          ],
          "function": "Abstraction.from_fn"
         }
        ],
        "-8294341480371381898": [
         "-8294341480371381898",
         {
          "args": [
           "-6758997939504679046",
           "1087529264717247478"
          ],
          "function": "Maybe.map",
          "type_params": {
           "T": {
            "type": "Integer"
           }
          }
         }
        ],
        "-8340805333693998320": [
         "-8340805333693998320",
         {
          "args": [
           "9194089122223088133"
          ],
          "function": "arange_"
         }
        ],
        "-845766801800596083": [
         "-7125658743320791948",
         {
          "args": [
           "800043649288483110"
          ],
          "function": "Converter.convert",
          "type_params": {
           "T": {
            "type": "NDArray"
           }
          }
         }
        ],
        "-8495777224032315590": [
         "1512960952093783306",
         {
          "args": [
           "435781563503214024"
          ],
          "function": "NDArrayCompat.from_ndarray"
         }
        ],
        "-8562840633844268781": [
         "-8562840633844268781",
         {
          "args": [
           "-4619107828061912794",
           "-7067585356806477310"
          ],
          "function": "NDArray.__getitem__"
         }
        ],
        "-8582480166607514506": [
         "-7585266382721542195",
         {
          "args": [
           "-2600167263746280635"
          ],
          "function": "NDArrayCompat.from_ndarray"
         }
        ],
        "-8593433398620042011": [
         "-3654672770811511753",
         {
          "args": [
           "2441734120428312478",
           "-4664464520583065041",
           "-7272182369909386791"
          ],
          "function": "Maybe.match",
          "type_params": {
           "T": {
            "params": {
             "T": {
              "type": "NDArray"
             },
             "U": {
              "params": {
               "T": {
                "type": "Integer"
               },
               "U": {
                "params": {
                 "T": {
                  "type": "Integer"
                 }
                },
                "type": "Vec"
               }
              },
              "type": "Either"
             }
            },
            "type": "Pair"
           }
          }
         }
        ],
        "-8709039676988586081": [
         "6219386688534449398",
         {
          "args": [
           "1492449749867095234"
          ],
          "function": "Maybe.just",
          "type_params": {
           "T": {
            "type": "NDArray"
           }
          }
         }
        ],
        "-8797198014995531485": [
         "-3654672770811511753",
         {
          "args": [
           "8598249988727306392",
           "5084951758681981122"
          ],
          "function": "Maybe.map",
          "type_params": {
           "T": {
            "params": {
             "T": {
              "type": "NDArray"
             },
             "U": {
              "params": {
               "T": {
                "type": "Integer"
               },
               "U": {
                "params": {
                 "T": {
                  "type": "Integer"
                 }
                },
                "type": "Vec"
               }
              },
              "type": "Either"
             }
            },
            "type": "Pair"
           }
          }
         }
        ],
        "-8956525556301996865": [
         "6219386688534449398",
         {
          "args": [
           "1282662085958520030",
           "579615478629357154"
          ],
          "function": "Abstraction.__call__",
          "type_params": {
           "T": {
            "type": "Integer"
           },
           "U": {
            "params": {
             "T": {
              "type": "NDArray"
             }
            },
            "type": "Maybe"
           }
          }
         }
        ],
        "-9088298557536571878": [
         "1935586180163463095",
         {
          "args": [
           "6197798774908396561"
          ],
          "function": "NDArrayCompat.to_ndarray"
         }
        ],
        "-928583236105201472": [
         "-3654672770811511753",
         {
          "args": [
           "3872101413456062539",
           "-4664464520583065041",
           "8475390729817755043"
          ],
          "function": "Maybe.match",
          "type_params": {
           "T": {
            "params": {
             "T": {
              "type": "NDArray"
             },
             "U": {
              "params": {
               "T": {
                "type": "Integer"
               },
               "U": {
                "params": {
                 "T": {
                  "type": "Integer"
                 }
                },
                "type": "Vec"
               }
              },
              "type": "Either"
             }
            },
            "type": "Pair"
           }
          }
         }
        ],
        "-956653014655375141": [
         "-7246546953092699839",
         {
          "args": [
           "-7300482696862424175",
           "3751055923777384973"
          ],
          "function": "Maybe.__or__",
          "type_params": {
           "T": {
            "params": {
             "T": {
              "type": "Integer"
             },
             "U": {
              "params": {
               "T": {
                "type": "Integer"
               }
              },
              "type": "Vec"
             }
            },
            "type": "Either"
           }
          }
         }
        ],
        "1082193680570980265": [
         "1250312507332772438",
         {
          "args": [
           "2944773798775947601",
           "2703072876348085923",
           "1765229937423645188"
          ],
          "function": "Maybe.match",
          "type_params": {
           "T": {
            "params": {
             "T": {
              "type": "Integer"
             }
            },
            "type": "Vec"
           }
          }
         }
        ],
        "1087529264717247478": [
         "1087529264717247478",
         {
          "args": [
           "-1792845949521748470"
          ],
          "function": "Abstraction.from_fn"
         }
        ],
        "1102455697285063343": [
         "-8294341480371381898",
         {
          "args": [
           "-1699773377263255131",
           "1087529264717247478"
          ],
          "function": "Maybe.map",
          "type_params": {
           "T": {
            "type": "Integer"
           }
          }
         }
        ],
        "1220523710815122284": [
         "7443961620176968740",
         {
          "args": [
           "1714036227987191754",
           "-2141729615201721814"
          ],
          "function": "Maybe.__and__",
          "type_params": {
           "T": {
            "type": "NDArray"
           }
          }
         }
        ],
        "1240870953218063631": [
         "1240870953218063631",
         {
          "args": [
           "-7125658743320791948",
           "-7246546953092699839"
          ],
          "function": "Maybe.__and__",
          "type_params": {
           "T": {
            "type": "NDArray"
           }
          }
         }
        ],
        "1250312507332772438": [
         "1250312507332772438",
         {
          "args": [
           "2944773798775947601",
           "2333271571750003503"
          ],
          "function": "Maybe.map",
          "type_params": {
           "T": {
            "params": {
             "T": {
              "type": "Integer"
             }
            },
            "type": "Vec"
           }
          }
         }
        ],
        "1275633262893457532": [
         "1275633262893457532",
         {
          "args": [
           "-4410156828438140928"
          ],
          "function": "Abstraction.create_variable",
          "type_params": {
           "T": {
            "type": "NDArray"
           },
           "U": {
            "params": {
             "T": {
              "type": "NDArray"
             }
            },
            "type": "Maybe"
           }
          }
         }
        ],
        "1282662085958520030": [
         "1282662085958520030",
         {
          "args": [
           "-1095585159230285059",
           "-5698281203918103133"
          ],
          "function": "Abstraction.__add__",
          "type_params": {
           "T": {
            "type": "NDArray"
           },
           "U": {
            "params": {
             "T": {
              "type": "NDArray"
             }
            },
            "type": "Maybe"
           }
          }
         }
        ],
        "1395466120539641181": [
         "1395466120539641181",
         {
          "args": [
           "643017614923179061"
          ],
          "function": "Pair.left",
          "type_params": {
           "T": {
            "type": "NDArray"
           },
           "U": {
            "params": {
             "T": {
              "type": "Integer"
             },
             "U": {
              "params": {
               "T": {
                "type": "Integer"
               }
              },
              "type": "Vec"
             }
            },
            "type": "Either"
           }
          }
         }
        ],
        "1401308054352905831": [
         "-3654672770811511753",
         {
          "args": [
           "6323230222169240643",
           "-4664464520583065041",
           "8475390729817755043"
          ],
          "function": "Maybe.match",
          "type_params": {
           "T": {
            "params": {
             "T": {
              "type": "NDArray"
             },
             "U": {
              "params": {
               "T": {
                "type": "Integer"
               },
               "U": {
                "params": {
                 "T": {
                  "type": "Integer"
                 }
                },
                "type": "Vec"
               }
              },
              "type": "Either"
             }
            },
            "type": "Pair"
           }
          }
         }
        ],
        "1492449749867095234": [
         "1492449749867095234",
         {
          "args": [
           "579615478629357154"
          ],
          "function": "arange_"
         }
        ],
        "1512960952093783306": [
         "1512960952093783306",
         {
          "args": [
           "6219386688534449398"
          ],
          "function": "NDArrayCompat.from_ndarray"
         }
        ],
        "1516049571206598651": [
         "1935586180163463095",
         {
          "args": [
           "-8562840633844268781"
          ],
          "function": "NDArray.to_ndarray"
         }
        ],
        "1656506606529607116": [
         "-3654672770811511753",
         {
          "args": [
           "5252046903394539286",
           "-4664464520583065041",
           "8475390729817755043"
          ],
          "function": "Maybe.match",
          "type_params": {
           "T": {
            "params": {
             "T": {
              "type": "NDArray"
             },
             "U": {
              "params": {
               "T": {
                "type": "Integer"
               },
               "U": {
                "params": {
                 "T": {
                  "type": "Integer"
                 }
                },
                "type": "Vec"
               }
              },
              "type": "Either"
             }
            },
            "type": "Pair"
           }
          }
         }
        ],
        "1714036227987191754": [
         "-5477221866921420825",
         {
          "args": [
           "4514098878626001444"
          ],
          "function": "Converter.convert",
          "type_params": {
           "T": {
            "type": "NDArray"
           }
          }
         }
        ],
        "1765229937423645188": [
         "7792348576416097263",
         {
          "args": [
           "2897359456192805594",
           "-6529800568714258019"
          ],
          "function": "Abstraction.create"
         }
        ],
        "1768696950775263068": [
         "-3654672770811511753",
         {
          "args": [
           "6165369833445084534",
           "-4664464520583065041",
           "-7272182369909386791"
          ],
          "function": "Maybe.match",
          "type_params": {
           "T": {
            "params": {
             "T": {
              "type": "NDArray"
             },
             "U": {
              "params": {
               "T": {
                "type": "Integer"
               },
               "U": {
                "params": {
                 "T": {
                  "type": "Integer"
                 }
                },
                "type": "Vec"
               }
              },
              "type": "Either"
             }
            },
            "type": "Pair"
           }
          }
         }
        ],
        "183283635133801492": [
         "183283635133801492",
         {
          "args": [
           "1512960952093783306",
           "1512960952093783306"
          ],
          "function": "NDArrayCompat.__add__"
         }
        ],
        "1910669533948444199": [
         "1935586180163463095",
         {
          "args": [
           "-2730920362030976645"
          ],
          "function": "NDArrayCompat.to_ndarray"
         }
        ],
        "1935586180163463095": [
         "1935586180163463095",
         {
          "args": [
           "-7585266382721542195"
          ],
          "function": "NDArrayCompat.to_ndarray"
         }
        ],
        "1985814629941637880": [
         "1985814629941637880",
         {
          "args": [
           "8000944135531895841"
          ],
          "function": "Pair.right",
          "type_params": {
           "T": {
            "type": "NDArray"
           },
           "U": {
            "params": {
             "T": {
              "type": "Integer"
             },
             "U": {
              "params": {
               "T": {
                "type": "Integer"
               }
              },
              "type": "Vec"
             }
            },
            "type": "Either"
           }
          }
         }
        ],
        "2103808445426907327": [
         "1282662085958520030",
         {
          "args": [
           "2988532155951106567",
           "-5698281203918103133"
          ],
          "function": "Abstraction.__add__",
          "type_params": {
           "T": {
            "type": "NDArray"
           },
           "U": {
            "params": {
             "T": {
              "type": "NDArray"
             }
            },
            "type": "Maybe"
           }
          }
         }
        ],
        "219451634672783243": [
         "219451634672783243",
         {
          "repr": "Either.left",
          "type": "BoundInfer"
         }
        ],
        "2279188004980715661": [
         "-3654672770811511753",
         {
          "args": [
           "7443961620176968740",
           "-4664464520583065041",
           "-7272182369909386791"
          ],
          "function": "Maybe.match",
          "type_params": {
           "T": {
            "params": {
             "T": {
              "type": "NDArray"
             },
             "U": {
              "params": {
               "T": {
                "type": "Integer"
               },
               "U": {
                "params": {
                 "T": {
                  "type": "Integer"
                 }
                },
                "type": "Vec"
               }
              },
              "type": "Either"
             }
            },
            "type": "Pair"
           }
          }
         }
        ],
        "2305810900538143275": [
         "1935586180163463095",
         {
          "args": [
           "-4901889869368323256"
          ],
          "function": "NDArrayCompat.to_ndarray"
         }
        ],
        "2333271571750003503": [
         "2333271571750003503",
         {
          "args": [
           "2897359456192805594",
           "5299933280258969538"
          ],
          "function": "Abstraction.create",
          "type_params": {
           "T": {
            "params": {
             "T": {
              "type": "Integer"
             }
            },
            "type": "Vec"
           },
           "U": {
            "params": {
             "T": {
              "type": "Integer"
             },
             "U": {
              "params": {
               "T": {
                "type": "Integer"
               }
              },
              "type": "Vec"
             }
            },
            "type": "Either"
           }
          }
         }
        ],
        "2413545698962773875": [
         "-5477221866921420825",
         {
          "args": [
           "5669118298743038606"
          ],
          "function": "Converter.convert",
          "type_params": {
           "T": {
            "type": "NDArray"
           }
          }
         }
        ],
        "2441734120428312478": [
         "7443961620176968740",
         {
          "args": [
           "-5477221866921420825",
           "8747943994578852162"
          ],
          "function": "Maybe.__and__",
          "type_params": {
           "T": {
            "type": "NDArray"
           }
          }
         }
        ],
        "2502081968055689566": [
         "1240870953218063631",
         {
          "args": [
           "2723701481682903090",
           "-399055802812541133"
          ],
          "function": "Maybe.__and__",
          "type_params": {
           "T": {
            "type": "NDArray"
           }
          }
         }
        ],
        "2530259429743458212": [
         "1282662085958520030",
         {
          "args": [
           "9194089122223088133",
           "-5998932024889342076"
          ],
          "function": "Abstraction.create"
         }
        ],
        "2632161455465107062": [
         "7443961620176968740",
         {
          "args": [
           "1714036227987191754",
           "8755490275676031113"
          ],
          "function": "Maybe.__and__",
          "type_params": {
           "T": {
            "type": "NDArray"
           }
          }
         }
        ],
        "2699990931408063806": [
         "1512960952093783306",
         {
          "args": [
           "-8709039676988586081"
          ],
          "function": "NDArrayCompat.from_ndarray"
         }
        ],
        "2703072876348085923": [
         "2703072876348085923",
         {
          "function": "Maybe.nothing",
          "type_params": {
           "T": {
            "params": {
             "T": {
              "type": "Integer"
             },
             "U": {
              "params": {
               "T": {
                "type": "Integer"
               }
              },
              "type": "Vec"
             }
            },
            "type": "Either"
           }
          }
         }
        ],
        "2723701481682903090": [
         "-7125658743320791948",
         {
          "args": [
           "-2450394698919677778"
          ],
          "function": "Converter.convert",
          "type_params": {
           "T": {
            "type": "NDArray"
           }
          }
         }
        ],
        "2861613970724538675": [
         "2861613970724538675",
         {
          "repr": "Either.right",
          "type": "BoundInfer"
         }
        ],
        "2897359456192805594": [
         "2897359456192805594",
         {
          "args": [
           "4813215207103532055"
          ],
          "function": "Abstraction.create_variable",
          "type_params": {
           "T": {
            "params": {
             "T": {
              "type": "Integer"
             }
            },
            "type": "Vec"
           },
           "U": {
            "params": {
             "T": {
              "type": "Integer"
             },
             "U": {
              "params": {
               "T": {
                "type": "Integer"
               }
              },
              "type": "Vec"
             }
            },
            "type": "Either"
           }
          }
         }
        ],
        "2944773798775947601": [
         "2944773798775947601",
         {
          "args": [
           "5838084232112052900"
          ],
          "function": "Converter.convert",
          "type_params": {
           "T": {
            "params": {
             "T": {
              "type": "Integer"
             }
            },
            "type": "Vec"
           }
          }
         }
        ],
        "2988532155951106567": [
         "-1095585159230285059",
         {
          "args": [
           "1275633262893457532",
           "-212784525855687111"
          ],
          "function": "Abstraction.create",
          "type_params": {
           "T": {
            "type": "NDArray"
           },
           "U": {
            "params": {
             "T": {
              "type": "NDArray"
             }
            },
            "type": "Maybe"
           }
          }
         }
        ],
        "2988611848425537937": [
         "7443961620176968740",
         {
          "args": [
           "-6761449467495096585",
           "-1115633916511162292"
          ],
          "function": "Maybe.__and__",
          "type_params": {
           "T": {
            "type": "NDArray"
           }
          }
         }
        ],
        "3074461408192598962": [
         "-3654672770811511753",
         {
          "args": [
           "2988611848425537937",
           "-4664464520583065041",
           "-7272182369909386791"
          ],
          "function": "Maybe.match",
          "type_params": {
           "T": {
            "params": {
             "T": {
              "type": "NDArray"
             },
             "U": {
              "params": {
               "T": {
                "type": "Integer"
               },
               "U": {
                "params": {
                 "T": {
                  "type": "Integer"
                 }
                },
                "type": "Vec"
               }
              },
              "type": "Either"
             }
            },
            "type": "Pair"
           }
          }
         }
        ],
        "3246722563793329763": [
         "-5477221866921420825",
         {
          "args": [
           "5624114912053899358"
          ],
          "function": "Converter.convert",
          "type_params": {
           "T": {
            "type": "NDArray"
           }
          }
         }
        ],
        "3300141497389361796": [
         "1935586180163463095",
         {
          "args": [
           "4407928162364883436"
          ],
          "function": "NDArrayCompat.to_ndarray"
         }
        ],
        "3335157028932074336": [
         "-7585266382721542195",
         {
          "args": [
           "6526530955114339048"
          ],
          "function": "NDArrayCompat.from_ndarray"
         }
        ],
        "3410846223516364705": [
         "3410846223516364705",
         {
          "args": [
           "1492449749867095234"
          ],
          "function": "NDArray.to_ndarray"
         }
        ],
        "3450467154562028908": [
         "3450467154562028908",
         {
          "args": [
           "-6500393008186537515",
           "5254740828734901287"
          ],
          "function": "Abstraction.__add__",
          "type_params": {
           "T": {
            "params": {
             "T": {
              "type": "Integer"
             },
             "U": {
              "params": {
               "T": {
                "type": "Integer"
               }
              },
              "type": "Vec"
             }
            },
            "type": "Either"
           },
           "U": {
            "params": {
             "T": {
              "params": {
               "T": {
                "type": "Integer"
               },
               "U": {
                "params": {
                 "T": {
                  "type": "Integer"
                 }
                },
                "type": "Vec"
               }
              },
              "type": "Either"
             }
            },
            "type": "Maybe"
           }
          }
         }
        ],
        "3516816812917669638": [
         "3516816812917669638",
         {
          "args": [
           "-2031615137486694345"
          ],
          "function": "Maybe.just",
          "type_params": {
           "T": {
            "type": "NDArray"
           }
          }
         }
        ],
        "3649991889024598203": [
         "-7585266382721542195",
         {
          "args": [
           "-3533949730051211226"
          ],
          "function": "NDArrayCompat.from_ndarray"
         }
        ],
        "372699550060722797": [
         "-3959006833905751656",
         {
          "args": [
           "-8294341480371381898"
          ],
          "function": "NDArrayCompat.from_ndarray"
         }
        ],
        "3751055923777384973": [
         "3751055923777384973",
         {
          "args": [
           "2944773798775947601",
           "-8159938588654798608"
          ],
          "function": "Maybe.map",
          "type_params": {
           "T": {
            "params": {
             "T": {
              "type": "Integer"
             }
            },
            "type": "Vec"
           }
          }
         }
        ],
        "3872101413456062539": [
         "7443961620176968740",
         {
          "args": [
           "-2822577839386693752",
           "-255592637557283532"
          ],
          "function": "Maybe.__and__",
          "type_params": {
           "T": {
            "type": "NDArray"
           }
          }
         }
        ],
        "3902679420699052814": [
         "-7585266382721542195",
         {
          "args": [
           "1656506606529607116"
          ],
          "function": "NDArrayCompat.from_ndarray"
         }
        ],
        "3981801318835326913": [
         "1935586180163463095",
         {
          "args": [
           "-3357586526836581614",
           "5838084232112052900"
          ],
          "function": "ndarray_getitem"
         }
        ],
        "4004756895860236997": [
         "1935586180163463095",
         {
          "args": [
           "-2892412849072983247"
          ],
          "function": "NDArrayCompat.to_ndarray"
         }
        ],
        "4061799927420083391": [
         "1935586180163463095",
         {
          "args": [
           "-1005459391132720625",
           "5838084232112052900"
          ],
          "function": "ndarray_getitem"
         }
        ],
        "4161632319428859438": [
         "-7585266382721542195",
         {
          "args": [
           "-4225154918214793363"
          ],
          "function": "NDArrayCompat.from_ndarray"
         }
        ],
        "4201819479016430412": [
         "-7843556576460117514",
         {
          "args": [
           "6869511155424569206",
           "1082193680570980265"
          ],
          "function": "Maybe.__or__",
          "type_params": {
           "T": {
            "params": {
             "T": {
              "type": "Integer"
             },
             "U": {
              "params": {
               "T": {
                "type": "Integer"
               }
              },
              "type": "Vec"
             }
            },
            "type": "Either"
           }
          }
         }
        ],
        "433862292497723445": [
         "3450467154562028908",
         {
          "args": [
           "-1545244911588267049",
           "-2693218290189020775"
          ],
          "function": "Abstraction.create"
         }
        ],
        "435781563503214024": [
         "6219386688534449398",
         {
          "args": [
           "2530259429743458212",
           "579615478629357154"
          ],
          "function": "Abstraction.__call__",
          "type_params": {
           "T": {
            "type": "Integer"
           },
           "U": {
            "params": {
             "T": {
              "type": "NDArray"
             }
            },
            "type": "Maybe"
           }
          }
         }
        ],
        "4389627826087453676": [
         "4389627826087453676",
         {
          "args": [
           "5769543236148692639"
          ],
          "function": "Maybe.just",
          "type_params": {
           "T": {
            "params": {
             "T": {
              "type": "Integer"
             },
             "U": {
              "params": {
               "T": {
                "type": "Integer"
               }
              },
              "type": "Vec"
             }
            },
            "type": "Either"
           }
          }
         }
        ],
        "4407928162364883436": [
         "-7585266382721542195",
         {
          "args": [
           "-3584131521211666729"
          ],
          "function": "NDArrayCompat.from_ndarray"
         }
        ],
        "44395248776030981": [
         "-7585266382721542195",
         {
          "args": [
           "-2903661489942354244"
          ],
          "function": "NDArrayCompat.from_ndarray"
         }
        ],
        "4508445537048850066": [
         "-7585266382721542195",
         {
          "args": [
           "5886063245101475086"
          ],
          "function": "NDArrayCompat.from_ndarray"
         }
        ],
        "4514098878626001444": [
         "183283635133801492",
         {
          "args": [
           "-251764288365888734",
           "-251764288365888734"
          ],
          "function": "NDArrayCompat.__add__"
         }
        ],
        "4528865061593271395": [
         "-7585266382721542195",
         {
          "args": [
           "5692441141577495003"
          ],
          "function": "NDArrayCompat.from_ndarray"
         }
        ],
        "4669825845995946390": [
         "-1005459391132720625",
         {
          "args": [
           "5435969851716377834",
           "5435969851716377834"
          ],
          "function": "ndarray_add"
         }
        ],
        "4783284794499366098": [
         "-3654672770811511753",
         {
          "args": [
           "-7640308243335310651",
           "-4664464520583065041",
           "8475390729817755043"
          ],
          "function": "Maybe.match",
          "type_params": {
           "T": {
            "params": {
             "T": {
              "type": "NDArray"
             },
             "U": {
              "params": {
               "T": {
                "type": "Integer"
               },
               "U": {
                "params": {
                 "T": {
                  "type": "Integer"
                 }
                },
                "type": "Vec"
               }
              },
              "type": "Either"
             }
            },
            "type": "Pair"
           }
          }
         }
        ],
        "4813215188545805980": [
         "4813215188545805980",
         {
          "repr": "Variable(4700356960)",
          "type": "Variable"
         }
        ],
        "4813215200325843030": [
         "4813215200325843030",
         {
          "repr": "Variable(4700412224)",
          "type": "Variable"
         }
        ],
        "4813215207103532055": [
         "4813215207103532055",
         {
          "repr": "Variable(4700573936)",
          "type": "Variable"
         }
        ],
        "4819093797583090627": [
         "1935586180163463095",
         {
          "args": [
           "5085159681318255820"
          ],
          "function": "NDArrayCompat.to_ndarray"
         }
        ],
        "4925757743569357558": [
         "1935586180163463095",
         {
          "args": [
           "8039876164647614212"
          ],
          "function": "NDArrayCompat.to_ndarray"
         }
        ],
        "4933073225671314959": [
         "-5690444910203169095",
         {
          "args": [
           "433862292497723445",
           "5109073286877630545"
          ],
          "function": "Abstraction.__call__",
          "type_params": {
           "T": {
            "type": "Integer"
           },
           "U": {
            "params": {
             "T": {
              "params": {
               "T": {
                "type": "Integer"
               },
               "U": {
                "params": {
                 "T": {
                  "type": "Integer"
                 }
                },
                "type": "Vec"
               }
              },
              "type": "Either"
             }
            },
            "type": "Maybe"
           }
          }
         }
        ],
        "50083999247817587": [
         "-7585266382721542195",
         {
          "args": [
           "5909619464366552395"
          ],
          "function": "NDArrayCompat.from_ndarray"
         }
        ],
        "5018280261059491459": [
         "5018280261059491459",
         {
          "repr": "Maybe.just",
          "type": "BoundInfer"
         }
        ],
        "5084951758681981122": [
         "5084951758681981122",
         {
          "args": [
           "-3384401606129232383"
          ],
          "function": "Abstraction.from_fn",
          "type_params": {
           "T": {
            "params": {
             "T": {
              "type": "NDArray"
             },
             "U": {
              "params": {
               "T": {
                "type": "Integer"
               },
               "U": {
                "params": {
                 "T": {
                  "type": "Integer"
                 }
                },
                "type": "Vec"
               }
              },
              "type": "Either"
             }
            },
            "type": "Pair"
           },
           "U": {
            "type": "NDArray"
           }
          }
         }
        ],
        "5085159681318255820": [
         "-7585266382721542195",
         {
          "args": [
           "-3654672770811511753"
          ],
          "function": "NDArrayCompat.from_ndarray"
         }
        ],
        "510301045073135172": [
         "-3654672770811511753",
         {
          "args": [
           "-4095910170432122847",
           "-4664464520583065041",
           "-7272182369909386791"
          ],
          "function": "Maybe.match",
          "type_params": {
           "T": {
            "params": {
             "T": {
              "type": "NDArray"
             },
             "U": {
              "params": {
               "T": {
                "type": "Integer"
               },
               "U": {
                "params": {
                 "T": {
                  "type": "Integer"
                 }
                },
                "type": "Vec"
               }
              },
              "type": "Either"
             }
            },
            "type": "Pair"
           }
          }
         }
        ],
        "5109073286877630545": [
         "5109073286877630545",
         {
          "args": [
           "5838084232112052900"
          ],
          "function": "Integer.from_int"
         }
        ],
        "5250281446577272986": [
         "1935586180163463095",
         {
          "args": [
           "4508445537048850066"
          ],
          "function": "NDArrayCompat.to_ndarray"
         }
        ],
        "5252046903394539286": [
         "7443961620176968740",
         {
          "args": [
           "643017614923179061"
          ],
          "function": "Maybe.just"
         }
        ],
        "5254740828734901287": [
         "5254740828734901287",
         {
          "args": [
           "-1545244911588267049",
           "6527418092972046318"
          ],
          "function": "Abstraction.create",
          "type_params": {
           "T": {
            "type": "Integer"
           },
           "U": {
            "params": {
             "T": {
              "type": "Integer"
             },
             "U": {
              "params": {
               "T": {
                "type": "Integer"
               }
              },
              "type": "Vec"
             }
            },
            "type": "Either"
           }
          }
         }
        ],
        "5261101807845450126": [
         "7792348576416097263",
         {
          "args": [
           "-1732661160011429166",
           "2333271571750003503"
          ],
          "function": "Abstraction.__add__",
          "type_params": {
           "T": {
            "params": {
             "T": {
              "type": "Integer"
             },
             "U": {
              "params": {
               "T": {
                "type": "Integer"
               }
              },
              "type": "Vec"
             }
            },
            "type": "Either"
           },
           "U": {
            "params": {
             "T": {
              "params": {
               "T": {
                "type": "Integer"
               },
               "U": {
                "params": {
                 "T": {
                  "type": "Integer"
                 }
                },
                "type": "Vec"
               }
              },
              "type": "Either"
             }
            },
            "type": "Maybe"
           }
          }
         }
        ],
        "5299933280258969538": [
         "5299933280258969538",
         {
          "args": [
           "2897359456192805594"
          ],
          "function": "Either.right",
          "type_params": {
           "T": {
            "type": "Integer"
           },
           "U": {
            "params": {
             "T": {
              "type": "Integer"
             }
            },
            "type": "Vec"
           }
          }
         }
        ],
        "5345158766180672125": [
         "1250312507332772438",
         {
          "args": [
           "2944773798775947601",
           "2703072876348085923",
           "5261101807845450126"
          ],
          "function": "Maybe.match",
          "type_params": {
           "T": {
            "params": {
             "T": {
              "type": "Integer"
             }
            },
            "type": "Vec"
           }
          }
         }
        ],
        "5385778919572997268": [
         "-3654672770811511753",
         {
          "args": [
           "-4526987054053700703",
           "-4664464520583065041",
           "8475390729817755043"
          ],
          "function": "Maybe.match",
          "type_params": {
           "T": {
            "params": {
             "T": {
              "type": "NDArray"
             },
             "U": {
              "params": {
               "T": {
                "type": "Integer"
               },
               "U": {
                "params": {
                 "T": {
                  "type": "Integer"
                 }
                },
                "type": "Vec"
               }
              },
              "type": "Either"
             }
            },
            "type": "Pair"
           }
          }
         }
        ],
        "5435969851716377834": [
         "3410846223516364705",
         {
          "args": [
           "6003697446393151645"
          ],
          "function": "arange"
         }
        ],
        "5458996318223799810": [
         "1935586180163463095",
         {
          "args": [
           "-5296929383186549744",
           "5838084232112052900"
          ],
          "function": "ndarray_getitem"
         }
        ],
        "547822688949709837": [
         "-7843556576460117514",
         {
          "args": [
           "6438777703441787242",
           "-3390378467644071701"
          ],
          "function": "Maybe.__or__",
          "type_params": {
           "T": {
            "params": {
             "T": {
              "type": "Integer"
             },
             "U": {
              "params": {
               "T": {
                "type": "Integer"
               }
              },
              "type": "Vec"
             }
            },
            "type": "Either"
           }
          }
         }
        ],
        "5611649141598954234": [
         "1935586180163463095",
         {
          "args": [
           "-7708299086038277258"
          ],
          "function": "NDArrayCompat.to_ndarray"
         }
        ],
        "5624114912053899358": [
         "183283635133801492",
         {
          "args": [
           "2699990931408063806",
           "2699990931408063806"
          ],
          "function": "NDArrayCompat.__add__"
         }
        ],
        "5669118298743038606": [
         "183283635133801492",
         {
          "args": [
           "-8495777224032315590",
           "-8495777224032315590"
          ],
          "function": "NDArrayCompat.__add__"
         }
        ],
        "5692441141577495003": [
         "-3654672770811511753",
         {
          "args": [
           "-7040477687325076394",
           "5084951758681981122"
          ],
          "function": "Maybe.map",
          "type_params": {
           "T": {
            "params": {
             "T": {
              "type": "NDArray"
             },
             "U": {
              "params": {
               "T": {
                "type": "Integer"
               },
               "U": {
                "params": {
                 "T": {
                  "type": "Integer"
                 }
                },
                "type": "Vec"
               }
              },
              "type": "Either"
             }
            },
            "type": "Pair"
           }
          }
         }
        ],
        "5769543236148692639": [
         "5769543236148692639",
         {
          "args": [
           "-4410156826259018103"
          ],
          "function": "Abstraction.create_variable",
          "type_params": {
           "T": {
            "params": {
             "T": {
              "type": "Integer"
             },
             "U": {
              "params": {
               "T": {
                "type": "Integer"
               }
              },
              "type": "Vec"
             }
            },
            "type": "Either"
           },
           "U": {
            "params": {
             "T": {
              "params": {
               "T": {
                "type": "Integer"
               },
               "U": {
                "params": {
                 "T": {
                  "type": "Integer"
                 }
                },
                "type": "Vec"
               }
              },
              "type": "Either"
             }
            },
            "type": "Maybe"
           }
          }
         }
        ],
        "5782438499429486153": [
         "-5477221866921420825",
         {
          "args": [
           "-6346803416583130588"
          ],
          "function": "Converter.convert",
          "type_params": {
           "T": {
            "type": "NDArray"
           }
          }
         }
        ],
        "579615478629357154": [
         "579615478629357154",
         {
          "args": [
           "5838084232007047975"
          ],
          "function": "Integer.from_int"
         }
        ],
        "5838084232007047975": [
         "6003697446393151645",
         {
          "repr": "100",
          "type": "int"
         }
        ],
        "5838084232112052900": [
         "7756835102063988763",
         {
          "repr": "5",
          "type": "int"
         }
        ],
        "5886063245101475086": [
         "-3654672770811511753",
         {
          "args": [
           "-1170866238113857522",
           "-4664464520583065041",
           "8475390729817755043"
          ],
          "function": "Maybe.match",
          "type_params": {
           "T": {
            "params": {
             "T": {
              "type": "NDArray"
             },
             "U": {
              "params": {
               "T": {
                "type": "Integer"
               },
               "U": {
                "params": {
                 "T": {
                  "type": "Integer"
                 }
                },
                "type": "Vec"
               }
              },
              "type": "Either"
             }
            },
            "type": "Pair"
           }
          }
         }
        ],
        "5909619464366552395": [
         "-3654672770811511753",
         {
          "args": [
           "7443961620176968740",
           "7210653655396512933"
          ],
          "function": "Maybe.map",
          "type_params": {
           "T": {
            "params": {
             "T": {
              "type": "NDArray"
             },
             "U": {
              "params": {
               "T": {
                "type": "Integer"
               },
               "U": {
                "params": {
                 "T": {
                  "type": "Integer"
                 }
                },
                "type": "Vec"
               }
              },
              "type": "Either"
             }
            },
            "type": "Pair"
           }
          }
         }
        ],
        "6003697446393151645": [
         "6003697446393151645",
         {
          "args": [
           "579615478629357154"
          ],
          "function": "unbox_integer"
         }
        ],
        "6056108927389162809": [
         "6056108927389162809",
         {
          "args": [
           "5838084232112052900"
          ],
          "function": "Converter.convert",
          "type_params": {
           "T": {
            "type": "Integer"
           }
          }
         }
        ],
        "6065453143059536812": [
         "-7585266382721542195",
         {
          "args": [
           "5385778919572997268"
          ],
          "function": "NDArrayCompat.from_ndarray"
         }
        ],
        "6077633707209991085": [
         "-7585266382721542195",
         {
          "args": [
           "3074461408192598962"
          ],
          "function": "NDArrayCompat.from_ndarray"
         }
        ],
        "6165369833445084534": [
         "7443961620176968740",
         {
          "args": [
           "-5477221866921420825",
           "547822688949709837"
          ],
          "function": "Maybe.__and__",
          "type_params": {
           "T": {
            "type": "NDArray"
           }
          }
         }
        ],
        "6197798774908396561": [
         "-7585266382721542195",
         {
          "args": [
           "1401308054352905831"
          ],
          "function": "NDArrayCompat.from_ndarray"
         }
        ],
        "6219386688534449398": [
         "6219386688534449398",
         {
          "args": [
           "-1699773377263255131",
           "-5698281203918103133"
          ],
          "function": "Maybe.map",
          "type_params": {
           "T": {
            "type": "Integer"
           }
          }
         }
        ],
        "6228889529990603524": [
         "1240870953218063631",
         {
          "args": [
           "-845766801800596083",
           "-956653014655375141"
          ],
          "function": "Maybe.__and__",
          "type_params": {
           "T": {
            "type": "NDArray"
           }
          }
         }
        ],
        "6238575479103760735": [
         "7443961620176968740",
         {
          "args": [
           "5782438499429486153",
           "-1115633916511162292"
          ],
          "function": "Maybe.__and__",
          "type_params": {
           "T": {
            "type": "NDArray"
           }
          }
         }
        ],
        "6294476040688010565": [
         "1935586180163463095",
         {
          "args": [
           "-7882535387783133773"
          ],
          "function": "NDArrayCompat.to_ndarray"
         }
        ],
        "6301162349869030677": [
         "6301162349869030677",
         {
          "args": [
           "643017614923179061"
          ],
          "function": "Pair.right",
          "type_params": {
           "T": {
            "type": "NDArray"
           },
           "U": {
            "params": {
             "T": {
              "type": "Integer"
             },
             "U": {
              "params": {
               "T": {
                "type": "Integer"
               }
              },
              "type": "Vec"
             }
            },
            "type": "Either"
           }
          }
         }
        ],
        "6323230222169240643": [
         "7443961620176968740",
         {
          "args": [
           "1714036227987191754",
           "-5922975291147053079"
          ],
          "function": "Maybe.__and__",
          "type_params": {
           "T": {
            "type": "NDArray"
           }
          }
         }
        ],
        "6337951227245232575": [
         "1935586180163463095",
         {
          "args": [
           "65082468629817090"
          ],
          "function": "NDArrayCompat.to_ndarray"
         }
        ],
        "643017614923179061": [
         "643017614923179061",
         {
          "args": [
           "-4619107828061912794",
           "-7067585356806477310"
          ],
          "function": "Pair.create"
         }
        ],
        "6438777703441787242": [
         "-5690444910203169095",
         {
          "args": [
           "6789123831358882944",
           "2703072876348085923",
           "3450467154562028908"
          ],
          "function": "Maybe.match",
          "type_params": {
           "T": {
            "type": "Integer"
           }
          }
         }
        ],
        "6487425234600445546": [
         "1935586180163463095",
         {
          "args": [
           "-7109627650996221658"
          ],
          "function": "NDArrayCompat.to_ndarray"
         }
        ],
        "65082468629817090": [
         "-7585266382721542195",
         {
          "args": [
           "-8797198014995531485"
          ],
          "function": "NDArrayCompat.from_ndarray"
         }
        ],
        "6526530955114339048": [
         "-3654672770811511753",
         {
          "args": [
           "-7812553897122155129",
           "-4664464520583065041",
           "-7272182369909386791"
          ],
          "function": "Maybe.match",
          "type_params": {
           "T": {
            "params": {
             "T": {
              "type": "NDArray"
             },
             "U": {
              "params": {
               "T": {
                "type": "Integer"
               },
               "U": {
                "params": {
                 "T": {
                  "type": "Integer"
                 }
                },
                "type": "Vec"
               }
              },
              "type": "Either"
             }
            },
            "type": "Pair"
           }
          }
         }
        ],
        "6527418092972046318": [
         "6527418092972046318",
         {
          "args": [
           "-1545244911588267049"
          ],
          "function": "Either.left",
          "type_params": {
           "T": {
            "type": "Integer"
           },
           "U": {
            "params": {
             "T": {
              "type": "Integer"
             }
            },
            "type": "Vec"
           }
          }
         }
        ],
        "6611234870850315639": [
         "-5690444910203169095",
         {
          "args": [
           "3450467154562028908",
           "5109073286877630545"
          ],
          "function": "Abstraction.__call__",
          "type_params": {
           "T": {
            "type": "Integer"
           },
           "U": {
            "params": {
             "T": {
              "params": {
               "T": {
                "type": "Integer"
               },
               "U": {
                "params": {
                 "T": {
                  "type": "Integer"
                 }
                },
                "type": "Vec"
               }
              },
              "type": "Either"
             }
            },
            "type": "Maybe"
           }
          }
         }
        ],
        "6611900685694498188": [
         "-7272182369909386791",
         {
          "args": [
           "2988532155951106567",
           "7210653655396512933"
          ],
          "function": "Abstraction.__add__",
          "type_params": {
           "T": {
            "type": "NDArray"
           },
           "U": {
            "params": {
             "T": {
              "type": "NDArray"
             }
            },
            "type": "Maybe"
           }
          }
         }
        ],
        "6640078072669326382": [
         "1935586180163463095",
         {
          "args": [
           "3902679420699052814"
          ],
          "function": "NDArrayCompat.to_ndarray"
         }
        ],
        "6662354778056765243": [
         "-7585266382721542195",
         {
          "args": [
           "-5288385667088515929"
          ],
          "function": "NDArrayCompat.from_ndarray"
         }
        ],
        "6789123831358882944": [
         "6789123831358882944",
         {
          "args": [
           "5109073286877630545"
          ],
          "function": "Maybe.just"
         }
        ],
        "6869511155424569206": [
         "-5690444910203169095",
         {
          "args": [
           "7548938828277646041",
           "5109073286877630545"
          ],
          "function": "Abstraction.__call__",
          "type_params": {
           "T": {
            "type": "Integer"
           },
           "U": {
            "params": {
             "T": {
              "params": {
               "T": {
                "type": "Integer"
               },
               "U": {
                "params": {
                 "T": {
                  "type": "Integer"
                 }
                },
                "type": "Vec"
               }
              },
              "type": "Either"
             }
            },
            "type": "Maybe"
           }
          }
         }
        ],
        "7200362942053490364": [
         "1935586180163463095",
         {
          "args": [
           "9032225937030500594"
          ],
          "function": "NDArrayCompat.to_ndarray"
         }
        ],
        "7210653655396512933": [
         "7210653655396512933",
         {
          "args": [
           "8000944135531895841",
           "-2031615137486694345"
          ],
          "function": "Abstraction.create",
          "type_params": {
           "T": {
            "params": {
             "T": {
              "type": "NDArray"
             },
             "U": {
              "params": {
               "T": {
                "type": "Integer"
               },
               "U": {
                "params": {
                 "T": {
                  "type": "Integer"
                 }
                },
                "type": "Vec"
               }
              },
              "type": "Either"
             }
            },
            "type": "Pair"
           },
           "U": {
            "type": "NDArray"
           }
          }
         }
        ],
        "7316226698377770488": [
         "-3654672770811511753",
         {
          "args": [
           "1220523710815122284",
           "-4664464520583065041",
           "6611900685694498188"
          ],
          "function": "Maybe.match",
          "type_params": {
           "T": {
            "params": {
             "T": {
              "type": "NDArray"
             },
             "U": {
              "params": {
               "T": {
                "type": "Integer"
               },
               "U": {
                "params": {
                 "T": {
                  "type": "Integer"
                 }
                },
                "type": "Vec"
               }
              },
              "type": "Either"
             }
            },
            "type": "Pair"
           }
          }
         }
        ],
        "7320115034193138157": [
         "-3654672770811511753",
         {
          "args": [
           "-3884415917423819528",
           "-4664464520583065041",
           "8475390729817755043"
          ],
          "function": "Maybe.match",
          "type_params": {
           "T": {
            "params": {
             "T": {
              "type": "NDArray"
             },
             "U": {
              "params": {
               "T": {
                "type": "Integer"
               },
               "U": {
                "params": {
                 "T": {
                  "type": "Integer"
                 }
                },
                "type": "Vec"
               }
              },
              "type": "Either"
             }
            },
            "type": "Pair"
           }
          }
         }
        ],
        "7360229284616055502": [
         "1935586180163463095",
         {
          "args": [
           "4161632319428859438"
          ],
          "function": "NDArrayCompat.to_ndarray"
         }
        ],
        "7383670754334335679": [
         "1935586180163463095",
         {
          "args": [
           "-6202411770470984700"
          ],
          "function": "NDArrayCompat.to_ndarray"
         }
        ],
        "7418876943315760347": [
         "1512960952093783306",
         {
          "args": [
           "-5708270348187956537"
          ],
          "function": "NDArrayCompat.from_ndarray"
         }
        ],
        "7443961620176968740": [
         "7443961620176968740",
         {
          "args": [
           "-5477221866921420825",
           "-7843556576460117514"
          ],
          "function": "Maybe.__and__",
          "type_params": {
           "T": {
            "type": "NDArray"
           }
          }
         }
        ],
        "7548938828277646041": [
         "3450467154562028908",
         {
          "args": [
           "-1732661160011429166",
           "5254740828734901287"
          ],
          "function": "Abstraction.__add__",
          "type_params": {
           "T": {
            "params": {
             "T": {
              "type": "Integer"
             },
             "U": {
              "params": {
               "T": {
                "type": "Integer"
               }
              },
              "type": "Vec"
             }
            },
            "type": "Either"
           },
           "U": {
            "params": {
             "T": {
              "params": {
               "T": {
                "type": "Integer"
               },
               "U": {
                "params": {
                 "T": {
                  "type": "Integer"
                 }
                },
                "type": "Vec"
               }
              },
              "type": "Either"
             }
            },
            "type": "Maybe"
           }
          }
         }
        ],
        "7756835102063988763": [
         "7756835102063988763",
         {
          "args": [
           "-7067585356806477310"
          ],
          "function": "unbox_idxs"
         }
        ],
        "7765880682925208098": [
         "-7585266382721542195",
         {
          "args": [
           "-928583236105201472"
          ],
          "function": "NDArrayCompat.from_ndarray"
         }
        ],
        "7792348576416097263": [
         "7792348576416097263",
         {
          "args": [
           "-6500393008186537515",
           "2333271571750003503"
          ],
          "function": "Abstraction.__add__",
          "type_params": {
           "T": {
            "params": {
             "T": {
              "type": "Integer"
             },
             "U": {
              "params": {
               "T": {
                "type": "Integer"
               }
              },
              "type": "Vec"
             }
            },
            "type": "Either"
           },
           "U": {
            "params": {
             "T": {
              "params": {
               "T": {
                "type": "Integer"
               },
               "U": {
                "params": {
                 "T": {
                  "type": "Integer"
                 }
                },
                "type": "Vec"
               }
              },
              "type": "Either"
             }
            },
            "type": "Maybe"
           }
          }
         }
        ],
        "800043649288483110": [
         "-7106233571294015986",
         {
          "args": [
           "372699550060722797",
           "372699550060722797"
          ],
          "function": "NDArrayCompat.__add__"
         }
        ],
        "8000944135531895841": [
         "8000944135531895841",
         {
          "args": [
           "-4410156836406607453"
          ],
          "function": "Abstraction.create_variable",
          "type_params": {
           "T": {
            "params": {
             "T": {
              "type": "NDArray"
             },
             "U": {
              "params": {
               "T": {
                "type": "Integer"
               },
               "U": {
                "params": {
                 "T": {
                  "type": "Integer"
                 }
                },
                "type": "Vec"
               }
              },
              "type": "Either"
             }
            },
            "type": "Pair"
           },
           "U": {
            "type": "NDArray"
           }
          }
         }
        ],
        "8039876164647614212": [
         "-7585266382721542195",
         {
          "args": [
           "-5239319086784910624"
          ],
          "function": "NDArrayCompat.from_ndarray"
         }
        ],
        "8066852995898518341": [
         "-7585266382721542195",
         {
          "args": [
           "7316226698377770488"
          ],
          "function": "NDArrayCompat.from_ndarray"
         }
        ],
        "812146376475600282": [
         "9219245304176348434",
         {
          "args": [
           "1395466120539641181",
           "-7067585356806477310"
          ],
          "function": "NDArray.__getitem__"
         }
        ],
        "8128290227894987152": [
         "-1005459391132720625",
         {
          "args": [
           "-6213901631684034091",
           "-6213901631684034091"
          ],
          "function": "ndarray_add"
         }
        ],
        "8445193625642774036": [
         "1935586180163463095",
         {
          "args": [
           "6662354778056765243"
          ],
          "function": "NDArrayCompat.to_ndarray"
         }
        ],
        "8475390729817755043": [
         "8475390729817755043",
         {
          "args": [
           "8000944135531895841",
           "3516816812917669638"
          ],
          "function": "Abstraction.create"
         }
        ],
        "8569104213158216184": [
         "7756835102063988763",
         {
          "args": [
           "5109073286877630545"
          ],
          "function": "unbox_integer"
         }
        ],
        "8598249988727306392": [
         "1240870953218063631",
         {
          "args": [
           "-7125658743320791948",
           "-956653014655375141"
          ],
          "function": "Maybe.__and__",
          "type_params": {
           "T": {
            "type": "NDArray"
           }
          }
         }
        ],
        "8642611512904930460": [
         "1240870953218063631",
         {
          "args": [
           "-7125658743320791948",
           "-383058471427345641"
          ],
          "function": "Maybe.__and__",
          "type_params": {
           "T": {
            "type": "NDArray"
           }
          }
         }
        ],
        "8691229672040384370": [
         "-3654672770811511753",
         {
          "args": [
           "8475390729817755043",
           "643017614923179061"
          ],
          "function": "Abstraction.__call__",
          "type_params": {
           "T": {
            "params": {
             "T": {
              "type": "NDArray"
             },
             "U": {
              "params": {
               "T": {
                "type": "Integer"
               },
               "U": {
                "params": {
                 "T": {
                  "type": "Integer"
                 }
                },
                "type": "Vec"
               }
              },
              "type": "Either"
             }
            },
            "type": "Pair"
           },
           "U": {
            "params": {
             "T": {
              "type": "NDArray"
             }
            },
            "type": "Maybe"
           }
          }
         }
        ],
        "8747943994578852162": [
         "-7843556576460117514",
         {
          "args": [
           "-5690444910203169095",
           "-3390378467644071701"
          ],
          "function": "Maybe.__or__",
          "type_params": {
           "T": {
            "params": {
             "T": {
              "type": "Integer"
             },
             "U": {
              "params": {
               "T": {
                "type": "Integer"
               }
              },
              "type": "Vec"
             }
            },
            "type": "Either"
           }
          }
         }
        ],
        "8755490275676031113": [
         "-7843556576460117514",
         {
          "args": [
           "-3000247746444544398",
           "1082193680570980265"
          ],
          "function": "Maybe.__or__",
          "type_params": {
           "T": {
            "params": {
             "T": {
              "type": "Integer"
             },
             "U": {
              "params": {
               "T": {
                "type": "Integer"
               }
              },
              "type": "Vec"
             }
            },
            "type": "Either"
           }
          }
         }
        ],
        "8850204639408954233": [
         "1935586180163463095",
         {
          "args": [
           "-2986294243986845795"
          ],
          "function": "NDArrayCompat.to_ndarray"
         }
        ],
        "9032225937030500594": [
         "-7585266382721542195",
         {
          "args": [
           "7320115034193138157"
          ],
          "function": "NDArrayCompat.from_ndarray"
         }
        ],
        "9034656157077478327": [
         "1935586180163463095",
         {
          "args": [
           "-1005459391132720625",
           "7756835102063988763"
          ],
          "function": "ndarray_getitem"
         }
        ],
        "9194089122223088133": [
         "9194089122223088133",
         {
          "args": [
           "4813215188545805980"
          ],
          "function": "Abstraction.create_variable",
          "type_params": {
           "T": {
            "type": "Integer"
           },
           "U": {
            "type": "NDArray"
           }
          }
         }
        ],
        "9219245304176348434": [
         "9219245304176348434",
         {
          "args": [
           "1395466120539641181",
           "6301162349869030677"
          ],
          "function": "NDArray.__getitem__"
         }
        ]
       },
       "states": {
        "initial": "1935586180163463095",
        "states": [
         {
          "node": "4819093797583090627",
          "rule": "metadsl_core.numpy.NDArrayCompat.__getitem__"
         },
         {
          "node": "4004756895860236997",
          "rule": "metadsl_core.either.convert_to_either"
         },
         {
          "node": "6337951227245232575",
          "rule": "metadsl_core.integer.convert_integer"
         },
         {
          "node": "-4287281295076353511",
          "rule": "metadsl_core.numpy.arange"
         },
         {
          "node": "-522260431455670959",
          "rule": "metadsl_core.integer.convert_integer"
         },
         {
          "node": "7383670754334335679",
          "rule": "metadsl_core.abstraction.Abstraction.from_fn"
         },
         {
          "node": "-6548120258914317946",
          "rule": "metadsl_core.abstraction.Abstraction.from_fn"
         },
         {
          "node": "3300141497389361796",
          "rule": "metadsl_core.abstraction.Abstraction.from_fn"
         },
         {
          "node": "-4142944368808539398",
          "rule": "metadsl_core.abstraction.Abstraction.from_fn"
         },
         {
          "node": "6294476040688010565",
          "rule": "metadsl_core.maybe.Maybe.map"
         },
         {
          "node": "2305810900538143275",
          "rule": "metadsl_core.maybe.Maybe.map"
         },
         {
          "node": "-2038121208858023980",
          "rule": "metadsl_core.maybe.Maybe.map"
         },
         {
          "node": "5611649141598954234",
          "rule": "metadsl_core.maybe.maybe_match"
         },
         {
          "node": "8850204639408954233",
          "rule": "metadsl_core.maybe.Maybe.map"
         },
         {
          "node": "-6812286573423641010",
          "rule": "metadsl_core.maybe.maybe_match"
         },
         {
          "node": "-615882590086075200",
          "rule": "metadsl_core.abstraction.Abstraction.from_fn"
         },
         {
          "node": "-554557341685015507",
          "rule": "metadsl_core.abstraction.Abstraction.from_fn"
         },
         {
          "node": "4925757743569357558",
          "rule": "metadsl_core.abstraction.compose"
         },
         {
          "node": "-6046152058755040221",
          "rule": "metadsl_core.abstraction.compose"
         },
         {
          "node": "-9088298557536571878",
          "rule": "metadsl_core.abstraction.compose"
         },
         {
          "node": "7360229284616055502",
          "rule": "metadsl_core.abstraction.beta_reduce"
         },
         {
          "node": "5250281446577272986",
          "rule": "metadsl_core.maybe.maybe_or"
         },
         {
          "node": "8445193625642774036",
          "rule": "metadsl_core.abstraction.compose"
         },
         {
          "node": "7200362942053490364",
          "rule": "metadsl_core.abstraction.beta_reduce"
         },
         {
          "node": "-2706252334691809364",
          "rule": "metadsl_core.numpy.add_compat"
         },
         {
          "node": "6487425234600445546",
          "rule": "metadsl_core.numpy.convert_to_ndarray"
         },
         {
          "node": "6640078072669326382",
          "rule": "metadsl_core.maybe.maybe_and"
         },
         {
          "node": "-774798583507628072",
          "rule": "metadsl_core.maybe.maybe_match"
         },
         {
          "node": "-6415487103606775028",
          "rule": "metadsl_core.abstraction.beta_reduce"
         },
         {
          "node": "1910669533948444199",
          "rule": "metadsl_core.pair.pair_right"
         },
         {
          "node": "-6982537285276620806",
          "rule": "metadsl_core.pair.pair_left"
         },
         {
          "label": "convert",
          "node": "-6982537285276620806",
          "rule": ""
         },
         {
          "node": "1516049571206598651",
          "rule": "metadsl_core.numpy.box_unbox_ndarray_compat"
         },
         {
          "node": "9034656157077478327",
          "rule": "metadsl_core.numpy_engine.unbox_ndarray_getitem"
         },
         {
          "node": "-8092933834361013212",
          "rule": "metadsl_core.numpy_engine.unbox_idxs_rule"
         },
         {
          "node": "4061799927420083391",
          "rule": "metadsl_core.numpy_engine.unbox_integer_rule"
         },
         {
          "node": "3981801318835326913",
          "rule": "metadsl_core.numpy_engine.unbox_ndarray_add"
         },
         {
          "node": "-5815398103880726676",
          "rule": "metadsl_core.numpy_engine.unbox_arange"
         },
         {
          "node": "5458996318223799810",
          "rule": "metadsl_core.numpy_engine.unbox_integer_rule"
         },
         {
          "label": "unbox",
          "node": "5458996318223799810",
          "rule": ""
         },
         {
          "node": "-5730976342729695613",
          "rule": "metadsl_core.numpy_engine.arange"
         },
         {
          "node": "-6662807094635375005",
          "rule": "metadsl_core.numpy_engine.ndarray_add"
         },
         {
          "node": "-6213901631684034091",
          "rule": "metadsl_core.numpy_engine.ndarray_getitem"
         },
         {
          "label": "execute",
          "node": "-6213901631684034091",
          "rule": ""
         }
        ]
       }
      },
      "application/x.typez.graph+json": {
       "initial": "digraph {\n\tnode [shape=plain]\n\tedge [arrowsize=0.5 penwidth=0.5]\n\t1935586180163463095 [label=\"NDArrayCompat.to_ndarray\" id=1935586180163463095]\n\t1935586180163463095 -> -7585266382721542195 [id=\"1935586180163463095.args[0]\"]\n\t-7585266382721542195 [label=\"NDArrayCompat.__getitem__\" id=-7585266382721542195]\n\t-7585266382721542195 -> -7106233571294015986 [id=\"-7585266382721542195.args[0]\"]\n\t-7106233571294015986 [label=\"NDArrayCompat.__add__\" id=-7106233571294015986]\n\t-7106233571294015986 -> -3959006833905751656 [id=\"-7106233571294015986.args[0]\"]\n\t-3959006833905751656 [label=arange id=-3959006833905751656]\n\t-3959006833905751656 -> 5838084232007047975 [id=\"-3959006833905751656.args[0]\"]\n\t5838084232007047975 [label=100 id=6003697446393151645]\n\t-7106233571294015986 -> -3959006833905751656 [id=\"-7106233571294015986.args[1]\"]\n\t-7585266382721542195 -> 5838084232112052900 [id=\"-7585266382721542195.args[1]\"]\n\t5838084232112052900 [label=5 id=7756835102063988763]\n}",
       "states": [
        {
         "graph": "digraph {\n\tnode [shape=plain]\n\tedge [arrowsize=0.5 penwidth=0.5]\n\t4819093797583090627 [label=\"NDArrayCompat.to_ndarray\" id=1935586180163463095]\n\t4819093797583090627 -> 5085159681318255820 [id=\"1935586180163463095.args[0]\"]\n\t5085159681318255820 [label=\"NDArrayCompat.from_ndarray\" id=-7585266382721542195]\n\t5085159681318255820 -> -3654672770811511753 [id=\"-7585266382721542195.args[0]\"]\n\t-3654672770811511753 [label=\"Maybe.map\" id=-3654672770811511753]\n\t-3654672770811511753 -> 1240870953218063631 [id=\"-3654672770811511753.args[0]\"]\n\t1240870953218063631 [label=\"Maybe.__and__\" id=1240870953218063631]\n\t1240870953218063631 -> -7125658743320791948 [id=\"1240870953218063631.args[0]\"]\n\t-7125658743320791948 [label=\"Converter.convert\" id=-7125658743320791948]\n\t-7125658743320791948 -> -7106233571294015986 [id=\"-7125658743320791948.args[0]\"]\n\t-7106233571294015986 [label=\"NDArrayCompat.__add__\" id=-7106233571294015986]\n\t-7106233571294015986 -> -3959006833905751656 [id=\"-7106233571294015986.args[0]\"]\n\t-3959006833905751656 [label=arange id=-3959006833905751656]\n\t-3959006833905751656 -> 5838084232007047975 [id=\"-3959006833905751656.args[0]\"]\n\t5838084232007047975 [label=100 id=6003697446393151645]\n\t-7106233571294015986 -> -3959006833905751656 [id=\"-7106233571294015986.args[1]\"]\n\t1240870953218063631 -> -7246546953092699839 [id=\"1240870953218063631.args[1]\"]\n\t-7246546953092699839 [label=\"Converter.convert\" id=-7246546953092699839]\n\t-7246546953092699839 -> 5838084232112052900 [id=\"-7246546953092699839.args[0]\"]\n\t5838084232112052900 [label=5 id=7756835102063988763]\n\t-3654672770811511753 -> 5084951758681981122 [id=\"-3654672770811511753.args[1]\"]\n\t5084951758681981122 [label=\"Abstraction.from_fn\" id=5084951758681981122]\n\t5084951758681981122 -> -3384401606129232383 [id=\"5084951758681981122.args[0]\"]\n\t-3384401606129232383 [label=\"function NDArrayCompat.__getitem__.locals.lambda at 0x10d573b70\" id=-3384401606129232383]\n}",
         "label": null,
         "rule": "metadsl_core.numpy.NDArrayCompat.__getitem__"
        },
        {
         "graph": "digraph {\n\tnode [shape=plain]\n\tedge [arrowsize=0.5 penwidth=0.5]\n\t4004756895860236997 [label=\"NDArrayCompat.to_ndarray\" id=1935586180163463095]\n\t4004756895860236997 -> -2892412849072983247 [id=\"1935586180163463095.args[0]\"]\n\t-2892412849072983247 [label=\"NDArrayCompat.from_ndarray\" id=-7585266382721542195]\n\t-2892412849072983247 -> -154108299725342969 [id=\"-7585266382721542195.args[0]\"]\n\t-154108299725342969 [label=\"Maybe.map\" id=-3654672770811511753]\n\t-154108299725342969 -> 8642611512904930460 [id=\"-3654672770811511753.args[0]\"]\n\t8642611512904930460 [label=\"Maybe.__and__\" id=1240870953218063631]\n\t8642611512904930460 -> -7125658743320791948 [id=\"1240870953218063631.args[0]\"]\n\t-7125658743320791948 [label=\"Converter.convert\" id=-7125658743320791948]\n\t-7125658743320791948 -> -7106233571294015986 [id=\"-7125658743320791948.args[0]\"]\n\t-7106233571294015986 [label=\"NDArrayCompat.__add__\" id=-7106233571294015986]\n\t-7106233571294015986 -> -3959006833905751656 [id=\"-7106233571294015986.args[0]\"]\n\t-3959006833905751656 [label=arange id=-3959006833905751656]\n\t-3959006833905751656 -> 5838084232007047975 [id=\"-3959006833905751656.args[0]\"]\n\t5838084232007047975 [label=100 id=6003697446393151645]\n\t-7106233571294015986 -> -3959006833905751656 [id=\"-7106233571294015986.args[1]\"]\n\t8642611512904930460 -> -383058471427345641 [id=\"1240870953218063631.args[1]\"]\n\t-383058471427345641 [label=\"Maybe.__or__\" id=-7246546953092699839]\n\t-383058471427345641 -> -6815086034509967428 [id=\"-7246546953092699839.args[0]\"]\n\t-6815086034509967428 [label=\"Maybe.map\" id=-6815086034509967428]\n\t-6815086034509967428 -> 6056108927389162809 [id=\"-6815086034509967428.args[0]\"]\n\t6056108927389162809 [label=\"Converter.convert\" id=6056108927389162809]\n\t6056108927389162809 -> 5838084232112052900 [id=\"6056108927389162809.args[0]\"]\n\t5838084232112052900 [label=5 id=7756835102063988763]\n\t-6815086034509967428 -> -4724417094432334173 [id=\"-6815086034509967428.args[1]\"]\n\t-4724417094432334173 [label=\"Abstraction.from_fn\" id=-4724417094432334173]\n\t-4724417094432334173 -> 219451634672783243 [id=\"-4724417094432334173.args[0]\"]\n\t219451634672783243 [label=\"Either.left\" id=219451634672783243]\n\t-383058471427345641 -> 3751055923777384973 [id=\"-7246546953092699839.args[1]\"]\n\t3751055923777384973 [label=\"Maybe.map\" id=3751055923777384973]\n\t3751055923777384973 -> 2944773798775947601 [id=\"3751055923777384973.args[0]\"]\n\t2944773798775947601 [label=\"Converter.convert\" id=2944773798775947601]\n\t2944773798775947601 -> 5838084232112052900 [id=\"2944773798775947601.args[0]\"]\n\t3751055923777384973 -> -8159938588654798608 [id=\"3751055923777384973.args[1]\"]\n\t-8159938588654798608 [label=\"Abstraction.from_fn\" id=-8159938588654798608]\n\t-8159938588654798608 -> 2861613970724538675 [id=\"-8159938588654798608.args[0]\"]\n\t2861613970724538675 [label=\"Either.right\" id=2861613970724538675]\n\t-154108299725342969 -> 5084951758681981122 [id=\"-3654672770811511753.args[1]\"]\n\t5084951758681981122 [label=\"Abstraction.from_fn\" id=5084951758681981122]\n\t5084951758681981122 -> -3384401606129232383 [id=\"5084951758681981122.args[0]\"]\n\t-3384401606129232383 [label=\"function NDArrayCompat.__getitem__.locals.lambda at 0x10d573b70\" id=-3384401606129232383]\n}",
         "label": null,
         "rule": "metadsl_core.either.convert_to_either"
        },
        {
         "graph": "digraph {\n\tnode [shape=plain]\n\tedge [arrowsize=0.5 penwidth=0.5]\n\t6337951227245232575 [label=\"NDArrayCompat.to_ndarray\" id=1935586180163463095]\n\t6337951227245232575 -> 65082468629817090 [id=\"1935586180163463095.args[0]\"]\n\t65082468629817090 [label=\"NDArrayCompat.from_ndarray\" id=-7585266382721542195]\n\t65082468629817090 -> -8797198014995531485 [id=\"-7585266382721542195.args[0]\"]\n\t-8797198014995531485 [label=\"Maybe.map\" id=-3654672770811511753]\n\t-8797198014995531485 -> 8598249988727306392 [id=\"-3654672770811511753.args[0]\"]\n\t8598249988727306392 [label=\"Maybe.__and__\" id=1240870953218063631]\n\t8598249988727306392 -> -7125658743320791948 [id=\"1240870953218063631.args[0]\"]\n\t-7125658743320791948 [label=\"Converter.convert\" id=-7125658743320791948]\n\t-7125658743320791948 -> -7106233571294015986 [id=\"-7125658743320791948.args[0]\"]\n\t-7106233571294015986 [label=\"NDArrayCompat.__add__\" id=-7106233571294015986]\n\t-7106233571294015986 -> -3959006833905751656 [id=\"-7106233571294015986.args[0]\"]\n\t-3959006833905751656 [label=arange id=-3959006833905751656]\n\t-3959006833905751656 -> 5838084232007047975 [id=\"-3959006833905751656.args[0]\"]\n\t5838084232007047975 [label=100 id=6003697446393151645]\n\t-7106233571294015986 -> -3959006833905751656 [id=\"-7106233571294015986.args[1]\"]\n\t8598249988727306392 -> -956653014655375141 [id=\"1240870953218063631.args[1]\"]\n\t-956653014655375141 [label=\"Maybe.__or__\" id=-7246546953092699839]\n\t-956653014655375141 -> -7300482696862424175 [id=\"-7246546953092699839.args[0]\"]\n\t-7300482696862424175 [label=\"Maybe.map\" id=-6815086034509967428]\n\t-7300482696862424175 -> 6789123831358882944 [id=\"-6815086034509967428.args[0]\"]\n\t6789123831358882944 [label=\"Maybe.just\" id=6789123831358882944]\n\t6789123831358882944 -> 5109073286877630545 [id=\"6789123831358882944.args[0]\"]\n\t5109073286877630545 [label=\"Integer.from_int\" id=5109073286877630545]\n\t5109073286877630545 -> 5838084232112052900 [id=\"5109073286877630545.args[0]\"]\n\t5838084232112052900 [label=5 id=7756835102063988763]\n\t-7300482696862424175 -> -4724417094432334173 [id=\"-6815086034509967428.args[1]\"]\n\t-4724417094432334173 [label=\"Abstraction.from_fn\" id=-4724417094432334173]\n\t-4724417094432334173 -> 219451634672783243 [id=\"-4724417094432334173.args[0]\"]\n\t219451634672783243 [label=\"Either.left\" id=219451634672783243]\n\t-956653014655375141 -> 3751055923777384973 [id=\"-7246546953092699839.args[1]\"]\n\t3751055923777384973 [label=\"Maybe.map\" id=3751055923777384973]\n\t3751055923777384973 -> 2944773798775947601 [id=\"3751055923777384973.args[0]\"]\n\t2944773798775947601 [label=\"Converter.convert\" id=2944773798775947601]\n\t2944773798775947601 -> 5838084232112052900 [id=\"2944773798775947601.args[0]\"]\n\t3751055923777384973 -> -8159938588654798608 [id=\"3751055923777384973.args[1]\"]\n\t-8159938588654798608 [label=\"Abstraction.from_fn\" id=-8159938588654798608]\n\t-8159938588654798608 -> 2861613970724538675 [id=\"-8159938588654798608.args[0]\"]\n\t2861613970724538675 [label=\"Either.right\" id=2861613970724538675]\n\t-8797198014995531485 -> 5084951758681981122 [id=\"-3654672770811511753.args[1]\"]\n\t5084951758681981122 [label=\"Abstraction.from_fn\" id=5084951758681981122]\n\t5084951758681981122 -> -3384401606129232383 [id=\"5084951758681981122.args[0]\"]\n\t-3384401606129232383 [label=\"function NDArrayCompat.__getitem__.locals.lambda at 0x10d573b70\" id=-3384401606129232383]\n}",
         "label": null,
         "rule": "metadsl_core.integer.convert_integer"
        },
        {
         "graph": "digraph {\n\tnode [shape=plain]\n\tedge [arrowsize=0.5 penwidth=0.5]\n\t-4287281295076353511 [label=\"NDArrayCompat.to_ndarray\" id=1935586180163463095]\n\t-4287281295076353511 -> 3649991889024598203 [id=\"1935586180163463095.args[0]\"]\n\t3649991889024598203 [label=\"NDArrayCompat.from_ndarray\" id=-7585266382721542195]\n\t3649991889024598203 -> -3533949730051211226 [id=\"-7585266382721542195.args[0]\"]\n\t-3533949730051211226 [label=\"Maybe.map\" id=-3654672770811511753]\n\t-3533949730051211226 -> 6228889529990603524 [id=\"-3654672770811511753.args[0]\"]\n\t6228889529990603524 [label=\"Maybe.__and__\" id=1240870953218063631]\n\t6228889529990603524 -> -845766801800596083 [id=\"1240870953218063631.args[0]\"]\n\t-845766801800596083 [label=\"Converter.convert\" id=-7125658743320791948]\n\t-845766801800596083 -> 800043649288483110 [id=\"-7125658743320791948.args[0]\"]\n\t800043649288483110 [label=\"NDArrayCompat.__add__\" id=-7106233571294015986]\n\t800043649288483110 -> 372699550060722797 [id=\"-7106233571294015986.args[0]\"]\n\t372699550060722797 [label=\"NDArrayCompat.from_ndarray\" id=-3959006833905751656]\n\t372699550060722797 -> -8294341480371381898 [id=\"-3959006833905751656.args[0]\"]\n\t-8294341480371381898 [label=\"Maybe.map\" id=-8294341480371381898]\n\t-8294341480371381898 -> -6758997939504679046 [id=\"-8294341480371381898.args[0]\"]\n\t-6758997939504679046 [label=\"Converter.convert\" id=-6758997939504679046]\n\t-6758997939504679046 -> 5838084232007047975 [id=\"-6758997939504679046.args[0]\"]\n\t5838084232007047975 [label=100 id=6003697446393151645]\n\t-8294341480371381898 -> 1087529264717247478 [id=\"-8294341480371381898.args[1]\"]\n\t1087529264717247478 [label=\"Abstraction.from_fn\" id=1087529264717247478]\n\t1087529264717247478 -> -1792845949521748470 [id=\"1087529264717247478.args[0]\"]\n\t-1792845949521748470 [label=arange_ id=-1792845949521748470]\n\t800043649288483110 -> 372699550060722797 [id=\"-7106233571294015986.args[1]\"]\n\t6228889529990603524 -> -956653014655375141 [id=\"1240870953218063631.args[1]\"]\n\t-956653014655375141 [label=\"Maybe.__or__\" id=-7246546953092699839]\n\t-956653014655375141 -> -7300482696862424175 [id=\"-7246546953092699839.args[0]\"]\n\t-7300482696862424175 [label=\"Maybe.map\" id=-6815086034509967428]\n\t-7300482696862424175 -> 6789123831358882944 [id=\"-6815086034509967428.args[0]\"]\n\t6789123831358882944 [label=\"Maybe.just\" id=6789123831358882944]\n\t6789123831358882944 -> 5109073286877630545 [id=\"6789123831358882944.args[0]\"]\n\t5109073286877630545 [label=\"Integer.from_int\" id=5109073286877630545]\n\t5109073286877630545 -> 5838084232112052900 [id=\"5109073286877630545.args[0]\"]\n\t5838084232112052900 [label=5 id=7756835102063988763]\n\t-7300482696862424175 -> -4724417094432334173 [id=\"-6815086034509967428.args[1]\"]\n\t-4724417094432334173 [label=\"Abstraction.from_fn\" id=-4724417094432334173]\n\t-4724417094432334173 -> 219451634672783243 [id=\"-4724417094432334173.args[0]\"]\n\t219451634672783243 [label=\"Either.left\" id=219451634672783243]\n\t-956653014655375141 -> 3751055923777384973 [id=\"-7246546953092699839.args[1]\"]\n\t3751055923777384973 [label=\"Maybe.map\" id=3751055923777384973]\n\t3751055923777384973 -> 2944773798775947601 [id=\"3751055923777384973.args[0]\"]\n\t2944773798775947601 [label=\"Converter.convert\" id=2944773798775947601]\n\t2944773798775947601 -> 5838084232112052900 [id=\"2944773798775947601.args[0]\"]\n\t3751055923777384973 -> -8159938588654798608 [id=\"3751055923777384973.args[1]\"]\n\t-8159938588654798608 [label=\"Abstraction.from_fn\" id=-8159938588654798608]\n\t-8159938588654798608 -> 2861613970724538675 [id=\"-8159938588654798608.args[0]\"]\n\t2861613970724538675 [label=\"Either.right\" id=2861613970724538675]\n\t-3533949730051211226 -> 5084951758681981122 [id=\"-3654672770811511753.args[1]\"]\n\t5084951758681981122 [label=\"Abstraction.from_fn\" id=5084951758681981122]\n\t5084951758681981122 -> -3384401606129232383 [id=\"5084951758681981122.args[0]\"]\n\t-3384401606129232383 [label=\"function NDArrayCompat.__getitem__.locals.lambda at 0x10d573b70\" id=-3384401606129232383]\n}",
         "label": null,
         "rule": "metadsl_core.numpy.arange"
        },
        {
         "graph": "digraph {\n\tnode [shape=plain]\n\tedge [arrowsize=0.5 penwidth=0.5]\n\t-522260431455670959 [label=\"NDArrayCompat.to_ndarray\" id=1935586180163463095]\n\t-522260431455670959 -> 4528865061593271395 [id=\"1935586180163463095.args[0]\"]\n\t4528865061593271395 [label=\"NDArrayCompat.from_ndarray\" id=-7585266382721542195]\n\t4528865061593271395 -> 5692441141577495003 [id=\"-7585266382721542195.args[0]\"]\n\t5692441141577495003 [label=\"Maybe.map\" id=-3654672770811511753]\n\t5692441141577495003 -> -7040477687325076394 [id=\"-3654672770811511753.args[0]\"]\n\t-7040477687325076394 [label=\"Maybe.__and__\" id=1240870953218063631]\n\t-7040477687325076394 -> 2723701481682903090 [id=\"1240870953218063631.args[0]\"]\n\t2723701481682903090 [label=\"Converter.convert\" id=-7125658743320791948]\n\t2723701481682903090 -> -2450394698919677778 [id=\"-7125658743320791948.args[0]\"]\n\t-2450394698919677778 [label=\"NDArrayCompat.__add__\" id=-7106233571294015986]\n\t-2450394698919677778 -> -5722367332102644567 [id=\"-7106233571294015986.args[0]\"]\n\t-5722367332102644567 [label=\"NDArrayCompat.from_ndarray\" id=-3959006833905751656]\n\t-5722367332102644567 -> 1102455697285063343 [id=\"-3959006833905751656.args[0]\"]\n\t1102455697285063343 [label=\"Maybe.map\" id=-8294341480371381898]\n\t1102455697285063343 -> -1699773377263255131 [id=\"-8294341480371381898.args[0]\"]\n\t-1699773377263255131 [label=\"Maybe.just\" id=-1699773377263255131]\n\t-1699773377263255131 -> 579615478629357154 [id=\"-1699773377263255131.args[0]\"]\n\t579615478629357154 [label=\"Integer.from_int\" id=579615478629357154]\n\t579615478629357154 -> 5838084232007047975 [id=\"579615478629357154.args[0]\"]\n\t5838084232007047975 [label=100 id=6003697446393151645]\n\t1102455697285063343 -> 1087529264717247478 [id=\"-8294341480371381898.args[1]\"]\n\t1087529264717247478 [label=\"Abstraction.from_fn\" id=1087529264717247478]\n\t1087529264717247478 -> -1792845949521748470 [id=\"1087529264717247478.args[0]\"]\n\t-1792845949521748470 [label=arange_ id=-1792845949521748470]\n\t-2450394698919677778 -> -5722367332102644567 [id=\"-7106233571294015986.args[1]\"]\n\t-7040477687325076394 -> -956653014655375141 [id=\"1240870953218063631.args[1]\"]\n\t-956653014655375141 [label=\"Maybe.__or__\" id=-7246546953092699839]\n\t-956653014655375141 -> -7300482696862424175 [id=\"-7246546953092699839.args[0]\"]\n\t-7300482696862424175 [label=\"Maybe.map\" id=-6815086034509967428]\n\t-7300482696862424175 -> 6789123831358882944 [id=\"-6815086034509967428.args[0]\"]\n\t6789123831358882944 [label=\"Maybe.just\" id=6789123831358882944]\n\t6789123831358882944 -> 5109073286877630545 [id=\"6789123831358882944.args[0]\"]\n\t5109073286877630545 [label=\"Integer.from_int\" id=5109073286877630545]\n\t5109073286877630545 -> 5838084232112052900 [id=\"5109073286877630545.args[0]\"]\n\t5838084232112052900 [label=5 id=7756835102063988763]\n\t-7300482696862424175 -> -4724417094432334173 [id=\"-6815086034509967428.args[1]\"]\n\t-4724417094432334173 [label=\"Abstraction.from_fn\" id=-4724417094432334173]\n\t-4724417094432334173 -> 219451634672783243 [id=\"-4724417094432334173.args[0]\"]\n\t219451634672783243 [label=\"Either.left\" id=219451634672783243]\n\t-956653014655375141 -> 3751055923777384973 [id=\"-7246546953092699839.args[1]\"]\n\t3751055923777384973 [label=\"Maybe.map\" id=3751055923777384973]\n\t3751055923777384973 -> 2944773798775947601 [id=\"3751055923777384973.args[0]\"]\n\t2944773798775947601 [label=\"Converter.convert\" id=2944773798775947601]\n\t2944773798775947601 -> 5838084232112052900 [id=\"2944773798775947601.args[0]\"]\n\t3751055923777384973 -> -8159938588654798608 [id=\"3751055923777384973.args[1]\"]\n\t-8159938588654798608 [label=\"Abstraction.from_fn\" id=-8159938588654798608]\n\t-8159938588654798608 -> 2861613970724538675 [id=\"-8159938588654798608.args[0]\"]\n\t2861613970724538675 [label=\"Either.right\" id=2861613970724538675]\n\t5692441141577495003 -> 5084951758681981122 [id=\"-3654672770811511753.args[1]\"]\n\t5084951758681981122 [label=\"Abstraction.from_fn\" id=5084951758681981122]\n\t5084951758681981122 -> -3384401606129232383 [id=\"5084951758681981122.args[0]\"]\n\t-3384401606129232383 [label=\"function NDArrayCompat.__getitem__.locals.lambda at 0x10d573b70\" id=-3384401606129232383]\n}",
         "label": null,
         "rule": "metadsl_core.integer.convert_integer"
        },
        {
         "graph": "digraph {\n\tnode [shape=plain]\n\tedge [arrowsize=0.5 penwidth=0.5]\n\t7383670754334335679 [label=\"NDArrayCompat.to_ndarray\" id=1935586180163463095]\n\t7383670754334335679 -> -6202411770470984700 [id=\"1935586180163463095.args[0]\"]\n\t-6202411770470984700 [label=\"NDArrayCompat.from_ndarray\" id=-7585266382721542195]\n\t-6202411770470984700 -> -4277628325632849953 [id=\"-7585266382721542195.args[0]\"]\n\t-4277628325632849953 [label=\"Maybe.map\" id=-3654672770811511753]\n\t-4277628325632849953 -> -7040477687325076394 [id=\"-3654672770811511753.args[0]\"]\n\t-7040477687325076394 [label=\"Maybe.__and__\" id=1240870953218063631]\n\t-7040477687325076394 -> 2723701481682903090 [id=\"1240870953218063631.args[0]\"]\n\t2723701481682903090 [label=\"Converter.convert\" id=-7125658743320791948]\n\t2723701481682903090 -> -2450394698919677778 [id=\"-7125658743320791948.args[0]\"]\n\t-2450394698919677778 [label=\"NDArrayCompat.__add__\" id=-7106233571294015986]\n\t-2450394698919677778 -> -5722367332102644567 [id=\"-7106233571294015986.args[0]\"]\n\t-5722367332102644567 [label=\"NDArrayCompat.from_ndarray\" id=-3959006833905751656]\n\t-5722367332102644567 -> 1102455697285063343 [id=\"-3959006833905751656.args[0]\"]\n\t1102455697285063343 [label=\"Maybe.map\" id=-8294341480371381898]\n\t1102455697285063343 -> -1699773377263255131 [id=\"-8294341480371381898.args[0]\"]\n\t-1699773377263255131 [label=\"Maybe.just\" id=-1699773377263255131]\n\t-1699773377263255131 -> 579615478629357154 [id=\"-1699773377263255131.args[0]\"]\n\t579615478629357154 [label=\"Integer.from_int\" id=579615478629357154]\n\t579615478629357154 -> 5838084232007047975 [id=\"579615478629357154.args[0]\"]\n\t5838084232007047975 [label=100 id=6003697446393151645]\n\t1102455697285063343 -> 1087529264717247478 [id=\"-8294341480371381898.args[1]\"]\n\t1087529264717247478 [label=\"Abstraction.from_fn\" id=1087529264717247478]\n\t1087529264717247478 -> -1792845949521748470 [id=\"1087529264717247478.args[0]\"]\n\t-1792845949521748470 [label=arange_ id=-1792845949521748470]\n\t-2450394698919677778 -> -5722367332102644567 [id=\"-7106233571294015986.args[1]\"]\n\t-7040477687325076394 -> -956653014655375141 [id=\"1240870953218063631.args[1]\"]\n\t-956653014655375141 [label=\"Maybe.__or__\" id=-7246546953092699839]\n\t-956653014655375141 -> -7300482696862424175 [id=\"-7246546953092699839.args[0]\"]\n\t-7300482696862424175 [label=\"Maybe.map\" id=-6815086034509967428]\n\t-7300482696862424175 -> 6789123831358882944 [id=\"-6815086034509967428.args[0]\"]\n\t6789123831358882944 [label=\"Maybe.just\" id=6789123831358882944]\n\t6789123831358882944 -> 5109073286877630545 [id=\"6789123831358882944.args[0]\"]\n\t5109073286877630545 [label=\"Integer.from_int\" id=5109073286877630545]\n\t5109073286877630545 -> 5838084232112052900 [id=\"5109073286877630545.args[0]\"]\n\t5838084232112052900 [label=5 id=7756835102063988763]\n\t-7300482696862424175 -> -4724417094432334173 [id=\"-6815086034509967428.args[1]\"]\n\t-4724417094432334173 [label=\"Abstraction.from_fn\" id=-4724417094432334173]\n\t-4724417094432334173 -> 219451634672783243 [id=\"-4724417094432334173.args[0]\"]\n\t219451634672783243 [label=\"Either.left\" id=219451634672783243]\n\t-956653014655375141 -> 3751055923777384973 [id=\"-7246546953092699839.args[1]\"]\n\t3751055923777384973 [label=\"Maybe.map\" id=3751055923777384973]\n\t3751055923777384973 -> 2944773798775947601 [id=\"3751055923777384973.args[0]\"]\n\t2944773798775947601 [label=\"Converter.convert\" id=2944773798775947601]\n\t2944773798775947601 -> 5838084232112052900 [id=\"2944773798775947601.args[0]\"]\n\t3751055923777384973 -> -8159938588654798608 [id=\"3751055923777384973.args[1]\"]\n\t-8159938588654798608 [label=\"Abstraction.from_fn\" id=-8159938588654798608]\n\t-8159938588654798608 -> 2861613970724538675 [id=\"-8159938588654798608.args[0]\"]\n\t2861613970724538675 [label=\"Either.right\" id=2861613970724538675]\n\t-4277628325632849953 -> 7210653655396512933 [id=\"-3654672770811511753.args[1]\"]\n\t7210653655396512933 [label=\"Abstraction.create\" id=7210653655396512933]\n\t7210653655396512933 -> 8000944135531895841 [id=\"7210653655396512933.args[0]\"]\n\t8000944135531895841 [label=\"Abstraction.create_variable\" id=8000944135531895841]\n\t8000944135531895841 -> -4410156836406607453 [id=\"8000944135531895841.args[0]\"]\n\t-4410156836406607453 [label=\"Variable(4700410040)\" id=-4410156836406607453]\n\t7210653655396512933 -> -2031615137486694345 [id=\"7210653655396512933.args[1]\"]\n\t-2031615137486694345 [label=\"NDArray.__getitem__\" id=-2031615137486694345]\n\t-2031615137486694345 -> -6945356083866800944 [id=\"-2031615137486694345.args[0]\"]\n\t-6945356083866800944 [label=\"Pair.left\" id=-6945356083866800944]\n\t-6945356083866800944 -> 8000944135531895841 [id=\"-6945356083866800944.args[0]\"]\n\t-2031615137486694345 -> 1985814629941637880 [id=\"-2031615137486694345.args[1]\"]\n\t1985814629941637880 [label=\"Pair.right\" id=1985814629941637880]\n\t1985814629941637880 -> 8000944135531895841 [id=\"1985814629941637880.args[0]\"]\n}",
         "label": null,
         "rule": "metadsl_core.abstraction.Abstraction.from_fn"
        },
        {
         "graph": "digraph {\n\tnode [shape=plain]\n\tedge [arrowsize=0.5 penwidth=0.5]\n\t-6548120258914317946 [label=\"NDArrayCompat.to_ndarray\" id=1935586180163463095]\n\t-6548120258914317946 -> -2862497316178213032 [id=\"1935586180163463095.args[0]\"]\n\t-2862497316178213032 [label=\"NDArrayCompat.from_ndarray\" id=-7585266382721542195]\n\t-2862497316178213032 -> -2846104450224803501 [id=\"-7585266382721542195.args[0]\"]\n\t-2846104450224803501 [label=\"Maybe.map\" id=-3654672770811511753]\n\t-2846104450224803501 -> 2502081968055689566 [id=\"-3654672770811511753.args[0]\"]\n\t2502081968055689566 [label=\"Maybe.__and__\" id=1240870953218063631]\n\t2502081968055689566 -> 2723701481682903090 [id=\"1240870953218063631.args[0]\"]\n\t2723701481682903090 [label=\"Converter.convert\" id=-7125658743320791948]\n\t2723701481682903090 -> -2450394698919677778 [id=\"-7125658743320791948.args[0]\"]\n\t-2450394698919677778 [label=\"NDArrayCompat.__add__\" id=-7106233571294015986]\n\t-2450394698919677778 -> -5722367332102644567 [id=\"-7106233571294015986.args[0]\"]\n\t-5722367332102644567 [label=\"NDArrayCompat.from_ndarray\" id=-3959006833905751656]\n\t-5722367332102644567 -> 1102455697285063343 [id=\"-3959006833905751656.args[0]\"]\n\t1102455697285063343 [label=\"Maybe.map\" id=-8294341480371381898]\n\t1102455697285063343 -> -1699773377263255131 [id=\"-8294341480371381898.args[0]\"]\n\t-1699773377263255131 [label=\"Maybe.just\" id=-1699773377263255131]\n\t-1699773377263255131 -> 579615478629357154 [id=\"-1699773377263255131.args[0]\"]\n\t579615478629357154 [label=\"Integer.from_int\" id=579615478629357154]\n\t579615478629357154 -> 5838084232007047975 [id=\"579615478629357154.args[0]\"]\n\t5838084232007047975 [label=100 id=6003697446393151645]\n\t1102455697285063343 -> 1087529264717247478 [id=\"-8294341480371381898.args[1]\"]\n\t1087529264717247478 [label=\"Abstraction.from_fn\" id=1087529264717247478]\n\t1087529264717247478 -> -1792845949521748470 [id=\"1087529264717247478.args[0]\"]\n\t-1792845949521748470 [label=arange_ id=-1792845949521748470]\n\t-2450394698919677778 -> -5722367332102644567 [id=\"-7106233571294015986.args[1]\"]\n\t2502081968055689566 -> -399055802812541133 [id=\"1240870953218063631.args[1]\"]\n\t-399055802812541133 [label=\"Maybe.__or__\" id=-7246546953092699839]\n\t-399055802812541133 -> -7300482696862424175 [id=\"-7246546953092699839.args[0]\"]\n\t-7300482696862424175 [label=\"Maybe.map\" id=-6815086034509967428]\n\t-7300482696862424175 -> 6789123831358882944 [id=\"-6815086034509967428.args[0]\"]\n\t6789123831358882944 [label=\"Maybe.just\" id=6789123831358882944]\n\t6789123831358882944 -> 5109073286877630545 [id=\"6789123831358882944.args[0]\"]\n\t5109073286877630545 [label=\"Integer.from_int\" id=5109073286877630545]\n\t5109073286877630545 -> 5838084232112052900 [id=\"5109073286877630545.args[0]\"]\n\t5838084232112052900 [label=5 id=7756835102063988763]\n\t-7300482696862424175 -> -4724417094432334173 [id=\"-6815086034509967428.args[1]\"]\n\t-4724417094432334173 [label=\"Abstraction.from_fn\" id=-4724417094432334173]\n\t-4724417094432334173 -> 219451634672783243 [id=\"-4724417094432334173.args[0]\"]\n\t219451634672783243 [label=\"Either.left\" id=219451634672783243]\n\t-399055802812541133 -> 1250312507332772438 [id=\"-7246546953092699839.args[1]\"]\n\t1250312507332772438 [label=\"Maybe.map\" id=1250312507332772438]\n\t1250312507332772438 -> 2944773798775947601 [id=\"1250312507332772438.args[0]\"]\n\t2944773798775947601 [label=\"Converter.convert\" id=2944773798775947601]\n\t2944773798775947601 -> 5838084232112052900 [id=\"2944773798775947601.args[0]\"]\n\t1250312507332772438 -> 2333271571750003503 [id=\"1250312507332772438.args[1]\"]\n\t2333271571750003503 [label=\"Abstraction.create\" id=2333271571750003503]\n\t2333271571750003503 -> 2897359456192805594 [id=\"2333271571750003503.args[0]\"]\n\t2897359456192805594 [label=\"Abstraction.create_variable\" id=2897359456192805594]\n\t2897359456192805594 -> 4813215207103532055 [id=\"2897359456192805594.args[0]\"]\n\t4813215207103532055 [label=\"Variable(4700573936)\" id=4813215207103532055]\n\t2333271571750003503 -> 5299933280258969538 [id=\"2333271571750003503.args[1]\"]\n\t5299933280258969538 [label=\"Either.right\" id=5299933280258969538]\n\t5299933280258969538 -> 2897359456192805594 [id=\"5299933280258969538.args[0]\"]\n\t-2846104450224803501 -> 7210653655396512933 [id=\"-3654672770811511753.args[1]\"]\n\t7210653655396512933 [label=\"Abstraction.create\" id=7210653655396512933]\n\t7210653655396512933 -> 8000944135531895841 [id=\"7210653655396512933.args[0]\"]\n\t8000944135531895841 [label=\"Abstraction.create_variable\" id=8000944135531895841]\n\t8000944135531895841 -> -4410156836406607453 [id=\"8000944135531895841.args[0]\"]\n\t-4410156836406607453 [label=\"Variable(4700410040)\" id=-4410156836406607453]\n\t7210653655396512933 -> -2031615137486694345 [id=\"7210653655396512933.args[1]\"]\n\t-2031615137486694345 [label=\"NDArray.__getitem__\" id=-2031615137486694345]\n\t-2031615137486694345 -> -6945356083866800944 [id=\"-2031615137486694345.args[0]\"]\n\t-6945356083866800944 [label=\"Pair.left\" id=-6945356083866800944]\n\t-6945356083866800944 -> 8000944135531895841 [id=\"-6945356083866800944.args[0]\"]\n\t-2031615137486694345 -> 1985814629941637880 [id=\"-2031615137486694345.args[1]\"]\n\t1985814629941637880 [label=\"Pair.right\" id=1985814629941637880]\n\t1985814629941637880 -> 8000944135531895841 [id=\"1985814629941637880.args[0]\"]\n}",
         "label": null,
         "rule": "metadsl_core.abstraction.Abstraction.from_fn"
        },
        {
         "graph": "digraph {\n\tnode [shape=plain]\n\tedge [arrowsize=0.5 penwidth=0.5]\n\t3300141497389361796 [label=\"NDArrayCompat.to_ndarray\" id=1935586180163463095]\n\t3300141497389361796 -> 4407928162364883436 [id=\"1935586180163463095.args[0]\"]\n\t4407928162364883436 [label=\"NDArrayCompat.from_ndarray\" id=-7585266382721542195]\n\t4407928162364883436 -> -3584131521211666729 [id=\"-7585266382721542195.args[0]\"]\n\t-3584131521211666729 [label=\"Maybe.map\" id=-3654672770811511753]\n\t-3584131521211666729 -> -7907112496419367778 [id=\"-3654672770811511753.args[0]\"]\n\t-7907112496419367778 [label=\"Maybe.__and__\" id=1240870953218063631]\n\t-7907112496419367778 -> 2723701481682903090 [id=\"1240870953218063631.args[0]\"]\n\t2723701481682903090 [label=\"Converter.convert\" id=-7125658743320791948]\n\t2723701481682903090 -> -2450394698919677778 [id=\"-7125658743320791948.args[0]\"]\n\t-2450394698919677778 [label=\"NDArrayCompat.__add__\" id=-7106233571294015986]\n\t-2450394698919677778 -> -5722367332102644567 [id=\"-7106233571294015986.args[0]\"]\n\t-5722367332102644567 [label=\"NDArrayCompat.from_ndarray\" id=-3959006833905751656]\n\t-5722367332102644567 -> 1102455697285063343 [id=\"-3959006833905751656.args[0]\"]\n\t1102455697285063343 [label=\"Maybe.map\" id=-8294341480371381898]\n\t1102455697285063343 -> -1699773377263255131 [id=\"-8294341480371381898.args[0]\"]\n\t-1699773377263255131 [label=\"Maybe.just\" id=-1699773377263255131]\n\t-1699773377263255131 -> 579615478629357154 [id=\"-1699773377263255131.args[0]\"]\n\t579615478629357154 [label=\"Integer.from_int\" id=579615478629357154]\n\t579615478629357154 -> 5838084232007047975 [id=\"579615478629357154.args[0]\"]\n\t5838084232007047975 [label=100 id=6003697446393151645]\n\t1102455697285063343 -> 1087529264717247478 [id=\"-8294341480371381898.args[1]\"]\n\t1087529264717247478 [label=\"Abstraction.from_fn\" id=1087529264717247478]\n\t1087529264717247478 -> -1792845949521748470 [id=\"1087529264717247478.args[0]\"]\n\t-1792845949521748470 [label=arange_ id=-1792845949521748470]\n\t-2450394698919677778 -> -5722367332102644567 [id=\"-7106233571294015986.args[1]\"]\n\t-7907112496419367778 -> -7843556576460117514 [id=\"1240870953218063631.args[1]\"]\n\t-7843556576460117514 [label=\"Maybe.__or__\" id=-7843556576460117514]\n\t-7843556576460117514 -> -5690444910203169095 [id=\"-7843556576460117514.args[0]\"]\n\t-5690444910203169095 [label=\"Maybe.map\" id=-5690444910203169095]\n\t-5690444910203169095 -> 6789123831358882944 [id=\"-5690444910203169095.args[0]\"]\n\t6789123831358882944 [label=\"Maybe.just\" id=6789123831358882944]\n\t6789123831358882944 -> 5109073286877630545 [id=\"6789123831358882944.args[0]\"]\n\t5109073286877630545 [label=\"Integer.from_int\" id=5109073286877630545]\n\t5109073286877630545 -> 5838084232112052900 [id=\"5109073286877630545.args[0]\"]\n\t5838084232112052900 [label=5 id=7756835102063988763]\n\t-5690444910203169095 -> 5254740828734901287 [id=\"-5690444910203169095.args[1]\"]\n\t5254740828734901287 [label=\"Abstraction.create\" id=5254740828734901287]\n\t5254740828734901287 -> -1545244911588267049 [id=\"5254740828734901287.args[0]\"]\n\t-1545244911588267049 [label=\"Abstraction.create_variable\" id=-1545244911588267049]\n\t-1545244911588267049 -> 4813215200325843030 [id=\"-1545244911588267049.args[0]\"]\n\t4813215200325843030 [label=\"Variable(4700412224)\" id=4813215200325843030]\n\t5254740828734901287 -> 6527418092972046318 [id=\"5254740828734901287.args[1]\"]\n\t6527418092972046318 [label=\"Either.left\" id=6527418092972046318]\n\t6527418092972046318 -> -1545244911588267049 [id=\"6527418092972046318.args[0]\"]\n\t-7843556576460117514 -> 1250312507332772438 [id=\"-7843556576460117514.args[1]\"]\n\t1250312507332772438 [label=\"Maybe.map\" id=1250312507332772438]\n\t1250312507332772438 -> 2944773798775947601 [id=\"1250312507332772438.args[0]\"]\n\t2944773798775947601 [label=\"Converter.convert\" id=2944773798775947601]\n\t2944773798775947601 -> 5838084232112052900 [id=\"2944773798775947601.args[0]\"]\n\t1250312507332772438 -> 2333271571750003503 [id=\"1250312507332772438.args[1]\"]\n\t2333271571750003503 [label=\"Abstraction.create\" id=2333271571750003503]\n\t2333271571750003503 -> 2897359456192805594 [id=\"2333271571750003503.args[0]\"]\n\t2897359456192805594 [label=\"Abstraction.create_variable\" id=2897359456192805594]\n\t2897359456192805594 -> 4813215207103532055 [id=\"2897359456192805594.args[0]\"]\n\t4813215207103532055 [label=\"Variable(4700573936)\" id=4813215207103532055]\n\t2333271571750003503 -> 5299933280258969538 [id=\"2333271571750003503.args[1]\"]\n\t5299933280258969538 [label=\"Either.right\" id=5299933280258969538]\n\t5299933280258969538 -> 2897359456192805594 [id=\"5299933280258969538.args[0]\"]\n\t-3584131521211666729 -> 7210653655396512933 [id=\"-3654672770811511753.args[1]\"]\n\t7210653655396512933 [label=\"Abstraction.create\" id=7210653655396512933]\n\t7210653655396512933 -> 8000944135531895841 [id=\"7210653655396512933.args[0]\"]\n\t8000944135531895841 [label=\"Abstraction.create_variable\" id=8000944135531895841]\n\t8000944135531895841 -> -4410156836406607453 [id=\"8000944135531895841.args[0]\"]\n\t-4410156836406607453 [label=\"Variable(4700410040)\" id=-4410156836406607453]\n\t7210653655396512933 -> -2031615137486694345 [id=\"7210653655396512933.args[1]\"]\n\t-2031615137486694345 [label=\"NDArray.__getitem__\" id=-2031615137486694345]\n\t-2031615137486694345 -> -6945356083866800944 [id=\"-2031615137486694345.args[0]\"]\n\t-6945356083866800944 [label=\"Pair.left\" id=-6945356083866800944]\n\t-6945356083866800944 -> 8000944135531895841 [id=\"-6945356083866800944.args[0]\"]\n\t-2031615137486694345 -> 1985814629941637880 [id=\"-2031615137486694345.args[1]\"]\n\t1985814629941637880 [label=\"Pair.right\" id=1985814629941637880]\n\t1985814629941637880 -> 8000944135531895841 [id=\"1985814629941637880.args[0]\"]\n}",
         "label": null,
         "rule": "metadsl_core.abstraction.Abstraction.from_fn"
        },
        {
         "graph": "digraph {\n\tnode [shape=plain]\n\tedge [arrowsize=0.5 penwidth=0.5]\n\t-4142944368808539398 [label=\"NDArrayCompat.to_ndarray\" id=1935586180163463095]\n\t-4142944368808539398 -> 50083999247817587 [id=\"1935586180163463095.args[0]\"]\n\t50083999247817587 [label=\"NDArrayCompat.from_ndarray\" id=-7585266382721542195]\n\t50083999247817587 -> 5909619464366552395 [id=\"-7585266382721542195.args[0]\"]\n\t5909619464366552395 [label=\"Maybe.map\" id=-3654672770811511753]\n\t5909619464366552395 -> 7443961620176968740 [id=\"-3654672770811511753.args[0]\"]\n\t7443961620176968740 [label=\"Maybe.__and__\" id=7443961620176968740]\n\t7443961620176968740 -> -5477221866921420825 [id=\"7443961620176968740.args[0]\"]\n\t-5477221866921420825 [label=\"Converter.convert\" id=-5477221866921420825]\n\t-5477221866921420825 -> 183283635133801492 [id=\"-5477221866921420825.args[0]\"]\n\t183283635133801492 [label=\"NDArrayCompat.__add__\" id=183283635133801492]\n\t183283635133801492 -> 1512960952093783306 [id=\"183283635133801492.args[0]\"]\n\t1512960952093783306 [label=\"NDArrayCompat.from_ndarray\" id=1512960952093783306]\n\t1512960952093783306 -> 6219386688534449398 [id=\"1512960952093783306.args[0]\"]\n\t6219386688534449398 [label=\"Maybe.map\" id=6219386688534449398]\n\t6219386688534449398 -> -1699773377263255131 [id=\"6219386688534449398.args[0]\"]\n\t-1699773377263255131 [label=\"Maybe.just\" id=-1699773377263255131]\n\t-1699773377263255131 -> 579615478629357154 [id=\"-1699773377263255131.args[0]\"]\n\t579615478629357154 [label=\"Integer.from_int\" id=579615478629357154]\n\t579615478629357154 -> 5838084232007047975 [id=\"579615478629357154.args[0]\"]\n\t5838084232007047975 [label=100 id=6003697446393151645]\n\t6219386688534449398 -> -5698281203918103133 [id=\"6219386688534449398.args[1]\"]\n\t-5698281203918103133 [label=\"Abstraction.create\" id=-5698281203918103133]\n\t-5698281203918103133 -> 9194089122223088133 [id=\"-5698281203918103133.args[0]\"]\n\t9194089122223088133 [label=\"Abstraction.create_variable\" id=9194089122223088133]\n\t9194089122223088133 -> 4813215188545805980 [id=\"9194089122223088133.args[0]\"]\n\t4813215188545805980 [label=\"Variable(4700356960)\" id=4813215188545805980]\n\t-5698281203918103133 -> -8340805333693998320 [id=\"-5698281203918103133.args[1]\"]\n\t-8340805333693998320 [label=arange_ id=-8340805333693998320]\n\t-8340805333693998320 -> 9194089122223088133 [id=\"-8340805333693998320.args[0]\"]\n\t183283635133801492 -> 1512960952093783306 [id=\"183283635133801492.args[1]\"]\n\t7443961620176968740 -> -7843556576460117514 [id=\"7443961620176968740.args[1]\"]\n\t-7843556576460117514 [label=\"Maybe.__or__\" id=-7843556576460117514]\n\t-7843556576460117514 -> -5690444910203169095 [id=\"-7843556576460117514.args[0]\"]\n\t-5690444910203169095 [label=\"Maybe.map\" id=-5690444910203169095]\n\t-5690444910203169095 -> 6789123831358882944 [id=\"-5690444910203169095.args[0]\"]\n\t6789123831358882944 [label=\"Maybe.just\" id=6789123831358882944]\n\t6789123831358882944 -> 5109073286877630545 [id=\"6789123831358882944.args[0]\"]\n\t5109073286877630545 [label=\"Integer.from_int\" id=5109073286877630545]\n\t5109073286877630545 -> 5838084232112052900 [id=\"5109073286877630545.args[0]\"]\n\t5838084232112052900 [label=5 id=7756835102063988763]\n\t-5690444910203169095 -> 5254740828734901287 [id=\"-5690444910203169095.args[1]\"]\n\t5254740828734901287 [label=\"Abstraction.create\" id=5254740828734901287]\n\t5254740828734901287 -> -1545244911588267049 [id=\"5254740828734901287.args[0]\"]\n\t-1545244911588267049 [label=\"Abstraction.create_variable\" id=-1545244911588267049]\n\t-1545244911588267049 -> 4813215200325843030 [id=\"-1545244911588267049.args[0]\"]\n\t4813215200325843030 [label=\"Variable(4700412224)\" id=4813215200325843030]\n\t5254740828734901287 -> 6527418092972046318 [id=\"5254740828734901287.args[1]\"]\n\t6527418092972046318 [label=\"Either.left\" id=6527418092972046318]\n\t6527418092972046318 -> -1545244911588267049 [id=\"6527418092972046318.args[0]\"]\n\t-7843556576460117514 -> 1250312507332772438 [id=\"-7843556576460117514.args[1]\"]\n\t1250312507332772438 [label=\"Maybe.map\" id=1250312507332772438]\n\t1250312507332772438 -> 2944773798775947601 [id=\"1250312507332772438.args[0]\"]\n\t2944773798775947601 [label=\"Converter.convert\" id=2944773798775947601]\n\t2944773798775947601 -> 5838084232112052900 [id=\"2944773798775947601.args[0]\"]\n\t1250312507332772438 -> 2333271571750003503 [id=\"1250312507332772438.args[1]\"]\n\t2333271571750003503 [label=\"Abstraction.create\" id=2333271571750003503]\n\t2333271571750003503 -> 2897359456192805594 [id=\"2333271571750003503.args[0]\"]\n\t2897359456192805594 [label=\"Abstraction.create_variable\" id=2897359456192805594]\n\t2897359456192805594 -> 4813215207103532055 [id=\"2897359456192805594.args[0]\"]\n\t4813215207103532055 [label=\"Variable(4700573936)\" id=4813215207103532055]\n\t2333271571750003503 -> 5299933280258969538 [id=\"2333271571750003503.args[1]\"]\n\t5299933280258969538 [label=\"Either.right\" id=5299933280258969538]\n\t5299933280258969538 -> 2897359456192805594 [id=\"5299933280258969538.args[0]\"]\n\t5909619464366552395 -> 7210653655396512933 [id=\"-3654672770811511753.args[1]\"]\n\t7210653655396512933 [label=\"Abstraction.create\" id=7210653655396512933]\n\t7210653655396512933 -> 8000944135531895841 [id=\"7210653655396512933.args[0]\"]\n\t8000944135531895841 [label=\"Abstraction.create_variable\" id=8000944135531895841]\n\t8000944135531895841 -> -4410156836406607453 [id=\"8000944135531895841.args[0]\"]\n\t-4410156836406607453 [label=\"Variable(4700410040)\" id=-4410156836406607453]\n\t7210653655396512933 -> -2031615137486694345 [id=\"7210653655396512933.args[1]\"]\n\t-2031615137486694345 [label=\"NDArray.__getitem__\" id=-2031615137486694345]\n\t-2031615137486694345 -> -6945356083866800944 [id=\"-2031615137486694345.args[0]\"]\n\t-6945356083866800944 [label=\"Pair.left\" id=-6945356083866800944]\n\t-6945356083866800944 -> 8000944135531895841 [id=\"-6945356083866800944.args[0]\"]\n\t-2031615137486694345 -> 1985814629941637880 [id=\"-2031615137486694345.args[1]\"]\n\t1985814629941637880 [label=\"Pair.right\" id=1985814629941637880]\n\t1985814629941637880 -> 8000944135531895841 [id=\"1985814629941637880.args[0]\"]\n}",
         "label": null,
         "rule": "metadsl_core.abstraction.Abstraction.from_fn"
        },
        {
         "graph": "digraph {\n\tnode [shape=plain]\n\tedge [arrowsize=0.5 penwidth=0.5]\n\t6294476040688010565 [label=\"NDArrayCompat.to_ndarray\" id=1935586180163463095]\n\t6294476040688010565 -> -7882535387783133773 [id=\"1935586180163463095.args[0]\"]\n\t-7882535387783133773 [label=\"NDArrayCompat.from_ndarray\" id=-7585266382721542195]\n\t-7882535387783133773 -> 2279188004980715661 [id=\"-7585266382721542195.args[0]\"]\n\t2279188004980715661 [label=\"Maybe.match\" id=-3654672770811511753]\n\t2279188004980715661 -> 7443961620176968740 [id=\"-3654672770811511753.args[0]\"]\n\t7443961620176968740 [label=\"Maybe.__and__\" id=7443961620176968740]\n\t7443961620176968740 -> -5477221866921420825 [id=\"7443961620176968740.args[0]\"]\n\t-5477221866921420825 [label=\"Converter.convert\" id=-5477221866921420825]\n\t-5477221866921420825 -> 183283635133801492 [id=\"-5477221866921420825.args[0]\"]\n\t183283635133801492 [label=\"NDArrayCompat.__add__\" id=183283635133801492]\n\t183283635133801492 -> 1512960952093783306 [id=\"183283635133801492.args[0]\"]\n\t1512960952093783306 [label=\"NDArrayCompat.from_ndarray\" id=1512960952093783306]\n\t1512960952093783306 -> 6219386688534449398 [id=\"1512960952093783306.args[0]\"]\n\t6219386688534449398 [label=\"Maybe.map\" id=6219386688534449398]\n\t6219386688534449398 -> -1699773377263255131 [id=\"6219386688534449398.args[0]\"]\n\t-1699773377263255131 [label=\"Maybe.just\" id=-1699773377263255131]\n\t-1699773377263255131 -> 579615478629357154 [id=\"-1699773377263255131.args[0]\"]\n\t579615478629357154 [label=\"Integer.from_int\" id=579615478629357154]\n\t579615478629357154 -> 5838084232007047975 [id=\"579615478629357154.args[0]\"]\n\t5838084232007047975 [label=100 id=6003697446393151645]\n\t6219386688534449398 -> -5698281203918103133 [id=\"6219386688534449398.args[1]\"]\n\t-5698281203918103133 [label=\"Abstraction.create\" id=-5698281203918103133]\n\t-5698281203918103133 -> 9194089122223088133 [id=\"-5698281203918103133.args[0]\"]\n\t9194089122223088133 [label=\"Abstraction.create_variable\" id=9194089122223088133]\n\t9194089122223088133 -> 4813215188545805980 [id=\"9194089122223088133.args[0]\"]\n\t4813215188545805980 [label=\"Variable(4700356960)\" id=4813215188545805980]\n\t-5698281203918103133 -> -8340805333693998320 [id=\"-5698281203918103133.args[1]\"]\n\t-8340805333693998320 [label=arange_ id=-8340805333693998320]\n\t-8340805333693998320 -> 9194089122223088133 [id=\"-8340805333693998320.args[0]\"]\n\t183283635133801492 -> 1512960952093783306 [id=\"183283635133801492.args[1]\"]\n\t7443961620176968740 -> -7843556576460117514 [id=\"7443961620176968740.args[1]\"]\n\t-7843556576460117514 [label=\"Maybe.__or__\" id=-7843556576460117514]\n\t-7843556576460117514 -> -5690444910203169095 [id=\"-7843556576460117514.args[0]\"]\n\t-5690444910203169095 [label=\"Maybe.map\" id=-5690444910203169095]\n\t-5690444910203169095 -> 6789123831358882944 [id=\"-5690444910203169095.args[0]\"]\n\t6789123831358882944 [label=\"Maybe.just\" id=6789123831358882944]\n\t6789123831358882944 -> 5109073286877630545 [id=\"6789123831358882944.args[0]\"]\n\t5109073286877630545 [label=\"Integer.from_int\" id=5109073286877630545]\n\t5109073286877630545 -> 5838084232112052900 [id=\"5109073286877630545.args[0]\"]\n\t5838084232112052900 [label=5 id=7756835102063988763]\n\t-5690444910203169095 -> 5254740828734901287 [id=\"-5690444910203169095.args[1]\"]\n\t5254740828734901287 [label=\"Abstraction.create\" id=5254740828734901287]\n\t5254740828734901287 -> -1545244911588267049 [id=\"5254740828734901287.args[0]\"]\n\t-1545244911588267049 [label=\"Abstraction.create_variable\" id=-1545244911588267049]\n\t-1545244911588267049 -> 4813215200325843030 [id=\"-1545244911588267049.args[0]\"]\n\t4813215200325843030 [label=\"Variable(4700412224)\" id=4813215200325843030]\n\t5254740828734901287 -> 6527418092972046318 [id=\"5254740828734901287.args[1]\"]\n\t6527418092972046318 [label=\"Either.left\" id=6527418092972046318]\n\t6527418092972046318 -> -1545244911588267049 [id=\"6527418092972046318.args[0]\"]\n\t-7843556576460117514 -> 1250312507332772438 [id=\"-7843556576460117514.args[1]\"]\n\t1250312507332772438 [label=\"Maybe.map\" id=1250312507332772438]\n\t1250312507332772438 -> 2944773798775947601 [id=\"1250312507332772438.args[0]\"]\n\t2944773798775947601 [label=\"Converter.convert\" id=2944773798775947601]\n\t2944773798775947601 -> 5838084232112052900 [id=\"2944773798775947601.args[0]\"]\n\t1250312507332772438 -> 2333271571750003503 [id=\"1250312507332772438.args[1]\"]\n\t2333271571750003503 [label=\"Abstraction.create\" id=2333271571750003503]\n\t2333271571750003503 -> 2897359456192805594 [id=\"2333271571750003503.args[0]\"]\n\t2897359456192805594 [label=\"Abstraction.create_variable\" id=2897359456192805594]\n\t2897359456192805594 -> 4813215207103532055 [id=\"2897359456192805594.args[0]\"]\n\t4813215207103532055 [label=\"Variable(4700573936)\" id=4813215207103532055]\n\t2333271571750003503 -> 5299933280258969538 [id=\"2333271571750003503.args[1]\"]\n\t5299933280258969538 [label=\"Either.right\" id=5299933280258969538]\n\t5299933280258969538 -> 2897359456192805594 [id=\"5299933280258969538.args[0]\"]\n\t2279188004980715661 -> -4664464520583065041 [id=\"-3654672770811511753.args[1]\"]\n\t-4664464520583065041 [label=\"Maybe.nothing\" id=-4664464520583065041]\n\t2279188004980715661 -> -7272182369909386791 [id=\"-3654672770811511753.args[2]\"]\n\t-7272182369909386791 [label=\"Abstraction.__add__\" id=-7272182369909386791]\n\t-7272182369909386791 -> -1095585159230285059 [id=\"-7272182369909386791.args[0]\"]\n\t-1095585159230285059 [label=\"Abstraction.from_fn\" id=-1095585159230285059]\n\t-1095585159230285059 -> 5018280261059491459 [id=\"-1095585159230285059.args[0]\"]\n\t5018280261059491459 [label=\"Maybe.just\" id=5018280261059491459]\n\t-7272182369909386791 -> 7210653655396512933 [id=\"-7272182369909386791.args[1]\"]\n\t7210653655396512933 [label=\"Abstraction.create\" id=7210653655396512933]\n\t7210653655396512933 -> 8000944135531895841 [id=\"7210653655396512933.args[0]\"]\n\t8000944135531895841 [label=\"Abstraction.create_variable\" id=8000944135531895841]\n\t8000944135531895841 -> -4410156836406607453 [id=\"8000944135531895841.args[0]\"]\n\t-4410156836406607453 [label=\"Variable(4700410040)\" id=-4410156836406607453]\n\t7210653655396512933 -> -2031615137486694345 [id=\"7210653655396512933.args[1]\"]\n\t-2031615137486694345 [label=\"NDArray.__getitem__\" id=-2031615137486694345]\n\t-2031615137486694345 -> -6945356083866800944 [id=\"-2031615137486694345.args[0]\"]\n\t-6945356083866800944 [label=\"Pair.left\" id=-6945356083866800944]\n\t-6945356083866800944 -> 8000944135531895841 [id=\"-6945356083866800944.args[0]\"]\n\t-2031615137486694345 -> 1985814629941637880 [id=\"-2031615137486694345.args[1]\"]\n\t1985814629941637880 [label=\"Pair.right\" id=1985814629941637880]\n\t1985814629941637880 -> 8000944135531895841 [id=\"1985814629941637880.args[0]\"]\n}",
         "label": null,
         "rule": "metadsl_core.maybe.Maybe.map"
        },
        {
         "graph": "digraph {\n\tnode [shape=plain]\n\tedge [arrowsize=0.5 penwidth=0.5]\n\t2305810900538143275 [label=\"NDArrayCompat.to_ndarray\" id=1935586180163463095]\n\t2305810900538143275 -> -4901889869368323256 [id=\"1935586180163463095.args[0]\"]\n\t-4901889869368323256 [label=\"NDArrayCompat.from_ndarray\" id=-7585266382721542195]\n\t-4901889869368323256 -> -8593433398620042011 [id=\"-7585266382721542195.args[0]\"]\n\t-8593433398620042011 [label=\"Maybe.match\" id=-3654672770811511753]\n\t-8593433398620042011 -> 2441734120428312478 [id=\"-3654672770811511753.args[0]\"]\n\t2441734120428312478 [label=\"Maybe.__and__\" id=7443961620176968740]\n\t2441734120428312478 -> -5477221866921420825 [id=\"7443961620176968740.args[0]\"]\n\t-5477221866921420825 [label=\"Converter.convert\" id=-5477221866921420825]\n\t-5477221866921420825 -> 183283635133801492 [id=\"-5477221866921420825.args[0]\"]\n\t183283635133801492 [label=\"NDArrayCompat.__add__\" id=183283635133801492]\n\t183283635133801492 -> 1512960952093783306 [id=\"183283635133801492.args[0]\"]\n\t1512960952093783306 [label=\"NDArrayCompat.from_ndarray\" id=1512960952093783306]\n\t1512960952093783306 -> 6219386688534449398 [id=\"1512960952093783306.args[0]\"]\n\t6219386688534449398 [label=\"Maybe.map\" id=6219386688534449398]\n\t6219386688534449398 -> -1699773377263255131 [id=\"6219386688534449398.args[0]\"]\n\t-1699773377263255131 [label=\"Maybe.just\" id=-1699773377263255131]\n\t-1699773377263255131 -> 579615478629357154 [id=\"-1699773377263255131.args[0]\"]\n\t579615478629357154 [label=\"Integer.from_int\" id=579615478629357154]\n\t579615478629357154 -> 5838084232007047975 [id=\"579615478629357154.args[0]\"]\n\t5838084232007047975 [label=100 id=6003697446393151645]\n\t6219386688534449398 -> -5698281203918103133 [id=\"6219386688534449398.args[1]\"]\n\t-5698281203918103133 [label=\"Abstraction.create\" id=-5698281203918103133]\n\t-5698281203918103133 -> 9194089122223088133 [id=\"-5698281203918103133.args[0]\"]\n\t9194089122223088133 [label=\"Abstraction.create_variable\" id=9194089122223088133]\n\t9194089122223088133 -> 4813215188545805980 [id=\"9194089122223088133.args[0]\"]\n\t4813215188545805980 [label=\"Variable(4700356960)\" id=4813215188545805980]\n\t-5698281203918103133 -> -8340805333693998320 [id=\"-5698281203918103133.args[1]\"]\n\t-8340805333693998320 [label=arange_ id=-8340805333693998320]\n\t-8340805333693998320 -> 9194089122223088133 [id=\"-8340805333693998320.args[0]\"]\n\t183283635133801492 -> 1512960952093783306 [id=\"183283635133801492.args[1]\"]\n\t2441734120428312478 -> 8747943994578852162 [id=\"7443961620176968740.args[1]\"]\n\t8747943994578852162 [label=\"Maybe.__or__\" id=-7843556576460117514]\n\t8747943994578852162 -> -5690444910203169095 [id=\"-7843556576460117514.args[0]\"]\n\t-5690444910203169095 [label=\"Maybe.map\" id=-5690444910203169095]\n\t-5690444910203169095 -> 6789123831358882944 [id=\"-5690444910203169095.args[0]\"]\n\t6789123831358882944 [label=\"Maybe.just\" id=6789123831358882944]\n\t6789123831358882944 -> 5109073286877630545 [id=\"6789123831358882944.args[0]\"]\n\t5109073286877630545 [label=\"Integer.from_int\" id=5109073286877630545]\n\t5109073286877630545 -> 5838084232112052900 [id=\"5109073286877630545.args[0]\"]\n\t5838084232112052900 [label=5 id=7756835102063988763]\n\t-5690444910203169095 -> 5254740828734901287 [id=\"-5690444910203169095.args[1]\"]\n\t5254740828734901287 [label=\"Abstraction.create\" id=5254740828734901287]\n\t5254740828734901287 -> -1545244911588267049 [id=\"5254740828734901287.args[0]\"]\n\t-1545244911588267049 [label=\"Abstraction.create_variable\" id=-1545244911588267049]\n\t-1545244911588267049 -> 4813215200325843030 [id=\"-1545244911588267049.args[0]\"]\n\t4813215200325843030 [label=\"Variable(4700412224)\" id=4813215200325843030]\n\t5254740828734901287 -> 6527418092972046318 [id=\"5254740828734901287.args[1]\"]\n\t6527418092972046318 [label=\"Either.left\" id=6527418092972046318]\n\t6527418092972046318 -> -1545244911588267049 [id=\"6527418092972046318.args[0]\"]\n\t8747943994578852162 -> -3390378467644071701 [id=\"-7843556576460117514.args[1]\"]\n\t-3390378467644071701 [label=\"Maybe.match\" id=1250312507332772438]\n\t-3390378467644071701 -> 2944773798775947601 [id=\"1250312507332772438.args[0]\"]\n\t2944773798775947601 [label=\"Converter.convert\" id=2944773798775947601]\n\t2944773798775947601 -> 5838084232112052900 [id=\"2944773798775947601.args[0]\"]\n\t-3390378467644071701 -> 2703072876348085923 [id=\"1250312507332772438.args[1]\"]\n\t2703072876348085923 [label=\"Maybe.nothing\" id=2703072876348085923]\n\t-3390378467644071701 -> 7792348576416097263 [id=\"1250312507332772438.args[2]\"]\n\t7792348576416097263 [label=\"Abstraction.__add__\" id=7792348576416097263]\n\t7792348576416097263 -> -6500393008186537515 [id=\"7792348576416097263.args[0]\"]\n\t-6500393008186537515 [label=\"Abstraction.from_fn\" id=-6500393008186537515]\n\t-6500393008186537515 -> -5117706931675647553 [id=\"-6500393008186537515.args[0]\"]\n\t-5117706931675647553 [label=\"Maybe.just\" id=-5117706931675647553]\n\t7792348576416097263 -> 2333271571750003503 [id=\"7792348576416097263.args[1]\"]\n\t2333271571750003503 [label=\"Abstraction.create\" id=2333271571750003503]\n\t2333271571750003503 -> 2897359456192805594 [id=\"2333271571750003503.args[0]\"]\n\t2897359456192805594 [label=\"Abstraction.create_variable\" id=2897359456192805594]\n\t2897359456192805594 -> 4813215207103532055 [id=\"2897359456192805594.args[0]\"]\n\t4813215207103532055 [label=\"Variable(4700573936)\" id=4813215207103532055]\n\t2333271571750003503 -> 5299933280258969538 [id=\"2333271571750003503.args[1]\"]\n\t5299933280258969538 [label=\"Either.right\" id=5299933280258969538]\n\t5299933280258969538 -> 2897359456192805594 [id=\"5299933280258969538.args[0]\"]\n\t-8593433398620042011 -> -4664464520583065041 [id=\"-3654672770811511753.args[1]\"]\n\t-4664464520583065041 [label=\"Maybe.nothing\" id=-4664464520583065041]\n\t-8593433398620042011 -> -7272182369909386791 [id=\"-3654672770811511753.args[2]\"]\n\t-7272182369909386791 [label=\"Abstraction.__add__\" id=-7272182369909386791]\n\t-7272182369909386791 -> -1095585159230285059 [id=\"-7272182369909386791.args[0]\"]\n\t-1095585159230285059 [label=\"Abstraction.from_fn\" id=-1095585159230285059]\n\t-1095585159230285059 -> 5018280261059491459 [id=\"-1095585159230285059.args[0]\"]\n\t5018280261059491459 [label=\"Maybe.just\" id=5018280261059491459]\n\t-7272182369909386791 -> 7210653655396512933 [id=\"-7272182369909386791.args[1]\"]\n\t7210653655396512933 [label=\"Abstraction.create\" id=7210653655396512933]\n\t7210653655396512933 -> 8000944135531895841 [id=\"7210653655396512933.args[0]\"]\n\t8000944135531895841 [label=\"Abstraction.create_variable\" id=8000944135531895841]\n\t8000944135531895841 -> -4410156836406607453 [id=\"8000944135531895841.args[0]\"]\n\t-4410156836406607453 [label=\"Variable(4700410040)\" id=-4410156836406607453]\n\t7210653655396512933 -> -2031615137486694345 [id=\"7210653655396512933.args[1]\"]\n\t-2031615137486694345 [label=\"NDArray.__getitem__\" id=-2031615137486694345]\n\t-2031615137486694345 -> -6945356083866800944 [id=\"-2031615137486694345.args[0]\"]\n\t-6945356083866800944 [label=\"Pair.left\" id=-6945356083866800944]\n\t-6945356083866800944 -> 8000944135531895841 [id=\"-6945356083866800944.args[0]\"]\n\t-2031615137486694345 -> 1985814629941637880 [id=\"-2031615137486694345.args[1]\"]\n\t1985814629941637880 [label=\"Pair.right\" id=1985814629941637880]\n\t1985814629941637880 -> 8000944135531895841 [id=\"1985814629941637880.args[0]\"]\n}",
         "label": null,
         "rule": "metadsl_core.maybe.Maybe.map"
        },
        {
         "graph": "digraph {\n\tnode [shape=plain]\n\tedge [arrowsize=0.5 penwidth=0.5]\n\t-2038121208858023980 [label=\"NDArrayCompat.to_ndarray\" id=1935586180163463095]\n\t-2038121208858023980 -> -3654919446309870082 [id=\"1935586180163463095.args[0]\"]\n\t-3654919446309870082 [label=\"NDArrayCompat.from_ndarray\" id=-7585266382721542195]\n\t-3654919446309870082 -> 1768696950775263068 [id=\"-7585266382721542195.args[0]\"]\n\t1768696950775263068 [label=\"Maybe.match\" id=-3654672770811511753]\n\t1768696950775263068 -> 6165369833445084534 [id=\"-3654672770811511753.args[0]\"]\n\t6165369833445084534 [label=\"Maybe.__and__\" id=7443961620176968740]\n\t6165369833445084534 -> -5477221866921420825 [id=\"7443961620176968740.args[0]\"]\n\t-5477221866921420825 [label=\"Converter.convert\" id=-5477221866921420825]\n\t-5477221866921420825 -> 183283635133801492 [id=\"-5477221866921420825.args[0]\"]\n\t183283635133801492 [label=\"NDArrayCompat.__add__\" id=183283635133801492]\n\t183283635133801492 -> 1512960952093783306 [id=\"183283635133801492.args[0]\"]\n\t1512960952093783306 [label=\"NDArrayCompat.from_ndarray\" id=1512960952093783306]\n\t1512960952093783306 -> 6219386688534449398 [id=\"1512960952093783306.args[0]\"]\n\t6219386688534449398 [label=\"Maybe.map\" id=6219386688534449398]\n\t6219386688534449398 -> -1699773377263255131 [id=\"6219386688534449398.args[0]\"]\n\t-1699773377263255131 [label=\"Maybe.just\" id=-1699773377263255131]\n\t-1699773377263255131 -> 579615478629357154 [id=\"-1699773377263255131.args[0]\"]\n\t579615478629357154 [label=\"Integer.from_int\" id=579615478629357154]\n\t579615478629357154 -> 5838084232007047975 [id=\"579615478629357154.args[0]\"]\n\t5838084232007047975 [label=100 id=6003697446393151645]\n\t6219386688534449398 -> -5698281203918103133 [id=\"6219386688534449398.args[1]\"]\n\t-5698281203918103133 [label=\"Abstraction.create\" id=-5698281203918103133]\n\t-5698281203918103133 -> 9194089122223088133 [id=\"-5698281203918103133.args[0]\"]\n\t9194089122223088133 [label=\"Abstraction.create_variable\" id=9194089122223088133]\n\t9194089122223088133 -> 4813215188545805980 [id=\"9194089122223088133.args[0]\"]\n\t4813215188545805980 [label=\"Variable(4700356960)\" id=4813215188545805980]\n\t-5698281203918103133 -> -8340805333693998320 [id=\"-5698281203918103133.args[1]\"]\n\t-8340805333693998320 [label=arange_ id=-8340805333693998320]\n\t-8340805333693998320 -> 9194089122223088133 [id=\"-8340805333693998320.args[0]\"]\n\t183283635133801492 -> 1512960952093783306 [id=\"183283635133801492.args[1]\"]\n\t6165369833445084534 -> 547822688949709837 [id=\"7443961620176968740.args[1]\"]\n\t547822688949709837 [label=\"Maybe.__or__\" id=-7843556576460117514]\n\t547822688949709837 -> 6438777703441787242 [id=\"-7843556576460117514.args[0]\"]\n\t6438777703441787242 [label=\"Maybe.match\" id=-5690444910203169095]\n\t6438777703441787242 -> 6789123831358882944 [id=\"-5690444910203169095.args[0]\"]\n\t6789123831358882944 [label=\"Maybe.just\" id=6789123831358882944]\n\t6789123831358882944 -> 5109073286877630545 [id=\"6789123831358882944.args[0]\"]\n\t5109073286877630545 [label=\"Integer.from_int\" id=5109073286877630545]\n\t5109073286877630545 -> 5838084232112052900 [id=\"5109073286877630545.args[0]\"]\n\t5838084232112052900 [label=5 id=7756835102063988763]\n\t6438777703441787242 -> 2703072876348085923 [id=\"-5690444910203169095.args[1]\"]\n\t2703072876348085923 [label=\"Maybe.nothing\" id=2703072876348085923]\n\t6438777703441787242 -> 3450467154562028908 [id=\"-5690444910203169095.args[2]\"]\n\t3450467154562028908 [label=\"Abstraction.__add__\" id=3450467154562028908]\n\t3450467154562028908 -> -6500393008186537515 [id=\"3450467154562028908.args[0]\"]\n\t-6500393008186537515 [label=\"Abstraction.from_fn\" id=-6500393008186537515]\n\t-6500393008186537515 -> -5117706931675647553 [id=\"-6500393008186537515.args[0]\"]\n\t-5117706931675647553 [label=\"Maybe.just\" id=-5117706931675647553]\n\t3450467154562028908 -> 5254740828734901287 [id=\"3450467154562028908.args[1]\"]\n\t5254740828734901287 [label=\"Abstraction.create\" id=5254740828734901287]\n\t5254740828734901287 -> -1545244911588267049 [id=\"5254740828734901287.args[0]\"]\n\t-1545244911588267049 [label=\"Abstraction.create_variable\" id=-1545244911588267049]\n\t-1545244911588267049 -> 4813215200325843030 [id=\"-1545244911588267049.args[0]\"]\n\t4813215200325843030 [label=\"Variable(4700412224)\" id=4813215200325843030]\n\t5254740828734901287 -> 6527418092972046318 [id=\"5254740828734901287.args[1]\"]\n\t6527418092972046318 [label=\"Either.left\" id=6527418092972046318]\n\t6527418092972046318 -> -1545244911588267049 [id=\"6527418092972046318.args[0]\"]\n\t547822688949709837 -> -3390378467644071701 [id=\"-7843556576460117514.args[1]\"]\n\t-3390378467644071701 [label=\"Maybe.match\" id=1250312507332772438]\n\t-3390378467644071701 -> 2944773798775947601 [id=\"1250312507332772438.args[0]\"]\n\t2944773798775947601 [label=\"Converter.convert\" id=2944773798775947601]\n\t2944773798775947601 -> 5838084232112052900 [id=\"2944773798775947601.args[0]\"]\n\t-3390378467644071701 -> 2703072876348085923 [id=\"1250312507332772438.args[1]\"]\n\t-3390378467644071701 -> 7792348576416097263 [id=\"1250312507332772438.args[2]\"]\n\t7792348576416097263 [label=\"Abstraction.__add__\" id=7792348576416097263]\n\t7792348576416097263 -> -6500393008186537515 [id=\"7792348576416097263.args[0]\"]\n\t7792348576416097263 -> 2333271571750003503 [id=\"7792348576416097263.args[1]\"]\n\t2333271571750003503 [label=\"Abstraction.create\" id=2333271571750003503]\n\t2333271571750003503 -> 2897359456192805594 [id=\"2333271571750003503.args[0]\"]\n\t2897359456192805594 [label=\"Abstraction.create_variable\" id=2897359456192805594]\n\t2897359456192805594 -> 4813215207103532055 [id=\"2897359456192805594.args[0]\"]\n\t4813215207103532055 [label=\"Variable(4700573936)\" id=4813215207103532055]\n\t2333271571750003503 -> 5299933280258969538 [id=\"2333271571750003503.args[1]\"]\n\t5299933280258969538 [label=\"Either.right\" id=5299933280258969538]\n\t5299933280258969538 -> 2897359456192805594 [id=\"5299933280258969538.args[0]\"]\n\t1768696950775263068 -> -4664464520583065041 [id=\"-3654672770811511753.args[1]\"]\n\t-4664464520583065041 [label=\"Maybe.nothing\" id=-4664464520583065041]\n\t1768696950775263068 -> -7272182369909386791 [id=\"-3654672770811511753.args[2]\"]\n\t-7272182369909386791 [label=\"Abstraction.__add__\" id=-7272182369909386791]\n\t-7272182369909386791 -> -1095585159230285059 [id=\"-7272182369909386791.args[0]\"]\n\t-1095585159230285059 [label=\"Abstraction.from_fn\" id=-1095585159230285059]\n\t-1095585159230285059 -> 5018280261059491459 [id=\"-1095585159230285059.args[0]\"]\n\t5018280261059491459 [label=\"Maybe.just\" id=5018280261059491459]\n\t-7272182369909386791 -> 7210653655396512933 [id=\"-7272182369909386791.args[1]\"]\n\t7210653655396512933 [label=\"Abstraction.create\" id=7210653655396512933]\n\t7210653655396512933 -> 8000944135531895841 [id=\"7210653655396512933.args[0]\"]\n\t8000944135531895841 [label=\"Abstraction.create_variable\" id=8000944135531895841]\n\t8000944135531895841 -> -4410156836406607453 [id=\"8000944135531895841.args[0]\"]\n\t-4410156836406607453 [label=\"Variable(4700410040)\" id=-4410156836406607453]\n\t7210653655396512933 -> -2031615137486694345 [id=\"7210653655396512933.args[1]\"]\n\t-2031615137486694345 [label=\"NDArray.__getitem__\" id=-2031615137486694345]\n\t-2031615137486694345 -> -6945356083866800944 [id=\"-2031615137486694345.args[0]\"]\n\t-6945356083866800944 [label=\"Pair.left\" id=-6945356083866800944]\n\t-6945356083866800944 -> 8000944135531895841 [id=\"-6945356083866800944.args[0]\"]\n\t-2031615137486694345 -> 1985814629941637880 [id=\"-2031615137486694345.args[1]\"]\n\t1985814629941637880 [label=\"Pair.right\" id=1985814629941637880]\n\t1985814629941637880 -> 8000944135531895841 [id=\"1985814629941637880.args[0]\"]\n}",
         "label": null,
         "rule": "metadsl_core.maybe.Maybe.map"
        },
        {
         "graph": "digraph {\n\tnode [shape=plain]\n\tedge [arrowsize=0.5 penwidth=0.5]\n\t5611649141598954234 [label=\"NDArrayCompat.to_ndarray\" id=1935586180163463095]\n\t5611649141598954234 -> -7708299086038277258 [id=\"1935586180163463095.args[0]\"]\n\t-7708299086038277258 [label=\"NDArrayCompat.from_ndarray\" id=-7585266382721542195]\n\t-7708299086038277258 -> 510301045073135172 [id=\"-7585266382721542195.args[0]\"]\n\t510301045073135172 [label=\"Maybe.match\" id=-3654672770811511753]\n\t510301045073135172 -> -4095910170432122847 [id=\"-3654672770811511753.args[0]\"]\n\t-4095910170432122847 [label=\"Maybe.__and__\" id=7443961620176968740]\n\t-4095910170432122847 -> -5477221866921420825 [id=\"7443961620176968740.args[0]\"]\n\t-5477221866921420825 [label=\"Converter.convert\" id=-5477221866921420825]\n\t-5477221866921420825 -> 183283635133801492 [id=\"-5477221866921420825.args[0]\"]\n\t183283635133801492 [label=\"NDArrayCompat.__add__\" id=183283635133801492]\n\t183283635133801492 -> 1512960952093783306 [id=\"183283635133801492.args[0]\"]\n\t1512960952093783306 [label=\"NDArrayCompat.from_ndarray\" id=1512960952093783306]\n\t1512960952093783306 -> 6219386688534449398 [id=\"1512960952093783306.args[0]\"]\n\t6219386688534449398 [label=\"Maybe.map\" id=6219386688534449398]\n\t6219386688534449398 -> -1699773377263255131 [id=\"6219386688534449398.args[0]\"]\n\t-1699773377263255131 [label=\"Maybe.just\" id=-1699773377263255131]\n\t-1699773377263255131 -> 579615478629357154 [id=\"-1699773377263255131.args[0]\"]\n\t579615478629357154 [label=\"Integer.from_int\" id=579615478629357154]\n\t579615478629357154 -> 5838084232007047975 [id=\"579615478629357154.args[0]\"]\n\t5838084232007047975 [label=100 id=6003697446393151645]\n\t6219386688534449398 -> -5698281203918103133 [id=\"6219386688534449398.args[1]\"]\n\t-5698281203918103133 [label=\"Abstraction.create\" id=-5698281203918103133]\n\t-5698281203918103133 -> 9194089122223088133 [id=\"-5698281203918103133.args[0]\"]\n\t9194089122223088133 [label=\"Abstraction.create_variable\" id=9194089122223088133]\n\t9194089122223088133 -> 4813215188545805980 [id=\"9194089122223088133.args[0]\"]\n\t4813215188545805980 [label=\"Variable(4700356960)\" id=4813215188545805980]\n\t-5698281203918103133 -> -8340805333693998320 [id=\"-5698281203918103133.args[1]\"]\n\t-8340805333693998320 [label=arange_ id=-8340805333693998320]\n\t-8340805333693998320 -> 9194089122223088133 [id=\"-8340805333693998320.args[0]\"]\n\t183283635133801492 -> 1512960952093783306 [id=\"183283635133801492.args[1]\"]\n\t-4095910170432122847 -> -1115633916511162292 [id=\"7443961620176968740.args[1]\"]\n\t-1115633916511162292 [label=\"Maybe.__or__\" id=-7843556576460117514]\n\t-1115633916511162292 -> 6611234870850315639 [id=\"-7843556576460117514.args[0]\"]\n\t6611234870850315639 [label=\"Abstraction.__call__\" id=-5690444910203169095]\n\t6611234870850315639 -> 3450467154562028908 [id=\"-5690444910203169095.args[0]\"]\n\t3450467154562028908 [label=\"Abstraction.__add__\" id=3450467154562028908]\n\t3450467154562028908 -> -6500393008186537515 [id=\"3450467154562028908.args[0]\"]\n\t-6500393008186537515 [label=\"Abstraction.from_fn\" id=-6500393008186537515]\n\t-6500393008186537515 -> -5117706931675647553 [id=\"-6500393008186537515.args[0]\"]\n\t-5117706931675647553 [label=\"Maybe.just\" id=-5117706931675647553]\n\t3450467154562028908 -> 5254740828734901287 [id=\"3450467154562028908.args[1]\"]\n\t5254740828734901287 [label=\"Abstraction.create\" id=5254740828734901287]\n\t5254740828734901287 -> -1545244911588267049 [id=\"5254740828734901287.args[0]\"]\n\t-1545244911588267049 [label=\"Abstraction.create_variable\" id=-1545244911588267049]\n\t-1545244911588267049 -> 4813215200325843030 [id=\"-1545244911588267049.args[0]\"]\n\t4813215200325843030 [label=\"Variable(4700412224)\" id=4813215200325843030]\n\t5254740828734901287 -> 6527418092972046318 [id=\"5254740828734901287.args[1]\"]\n\t6527418092972046318 [label=\"Either.left\" id=6527418092972046318]\n\t6527418092972046318 -> -1545244911588267049 [id=\"6527418092972046318.args[0]\"]\n\t6611234870850315639 -> 5109073286877630545 [id=\"-5690444910203169095.args[1]\"]\n\t5109073286877630545 [label=\"Integer.from_int\" id=5109073286877630545]\n\t5109073286877630545 -> 5838084232112052900 [id=\"5109073286877630545.args[0]\"]\n\t5838084232112052900 [label=5 id=7756835102063988763]\n\t-1115633916511162292 -> -3390378467644071701 [id=\"-7843556576460117514.args[1]\"]\n\t-3390378467644071701 [label=\"Maybe.match\" id=1250312507332772438]\n\t-3390378467644071701 -> 2944773798775947601 [id=\"1250312507332772438.args[0]\"]\n\t2944773798775947601 [label=\"Converter.convert\" id=2944773798775947601]\n\t2944773798775947601 -> 5838084232112052900 [id=\"2944773798775947601.args[0]\"]\n\t-3390378467644071701 -> 2703072876348085923 [id=\"1250312507332772438.args[1]\"]\n\t2703072876348085923 [label=\"Maybe.nothing\" id=2703072876348085923]\n\t-3390378467644071701 -> 7792348576416097263 [id=\"1250312507332772438.args[2]\"]\n\t7792348576416097263 [label=\"Abstraction.__add__\" id=7792348576416097263]\n\t7792348576416097263 -> -6500393008186537515 [id=\"7792348576416097263.args[0]\"]\n\t7792348576416097263 -> 2333271571750003503 [id=\"7792348576416097263.args[1]\"]\n\t2333271571750003503 [label=\"Abstraction.create\" id=2333271571750003503]\n\t2333271571750003503 -> 2897359456192805594 [id=\"2333271571750003503.args[0]\"]\n\t2897359456192805594 [label=\"Abstraction.create_variable\" id=2897359456192805594]\n\t2897359456192805594 -> 4813215207103532055 [id=\"2897359456192805594.args[0]\"]\n\t4813215207103532055 [label=\"Variable(4700573936)\" id=4813215207103532055]\n\t2333271571750003503 -> 5299933280258969538 [id=\"2333271571750003503.args[1]\"]\n\t5299933280258969538 [label=\"Either.right\" id=5299933280258969538]\n\t5299933280258969538 -> 2897359456192805594 [id=\"5299933280258969538.args[0]\"]\n\t510301045073135172 -> -4664464520583065041 [id=\"-3654672770811511753.args[1]\"]\n\t-4664464520583065041 [label=\"Maybe.nothing\" id=-4664464520583065041]\n\t510301045073135172 -> -7272182369909386791 [id=\"-3654672770811511753.args[2]\"]\n\t-7272182369909386791 [label=\"Abstraction.__add__\" id=-7272182369909386791]\n\t-7272182369909386791 -> -1095585159230285059 [id=\"-7272182369909386791.args[0]\"]\n\t-1095585159230285059 [label=\"Abstraction.from_fn\" id=-1095585159230285059]\n\t-1095585159230285059 -> 5018280261059491459 [id=\"-1095585159230285059.args[0]\"]\n\t5018280261059491459 [label=\"Maybe.just\" id=5018280261059491459]\n\t-7272182369909386791 -> 7210653655396512933 [id=\"-7272182369909386791.args[1]\"]\n\t7210653655396512933 [label=\"Abstraction.create\" id=7210653655396512933]\n\t7210653655396512933 -> 8000944135531895841 [id=\"7210653655396512933.args[0]\"]\n\t8000944135531895841 [label=\"Abstraction.create_variable\" id=8000944135531895841]\n\t8000944135531895841 -> -4410156836406607453 [id=\"8000944135531895841.args[0]\"]\n\t-4410156836406607453 [label=\"Variable(4700410040)\" id=-4410156836406607453]\n\t7210653655396512933 -> -2031615137486694345 [id=\"7210653655396512933.args[1]\"]\n\t-2031615137486694345 [label=\"NDArray.__getitem__\" id=-2031615137486694345]\n\t-2031615137486694345 -> -6945356083866800944 [id=\"-2031615137486694345.args[0]\"]\n\t-6945356083866800944 [label=\"Pair.left\" id=-6945356083866800944]\n\t-6945356083866800944 -> 8000944135531895841 [id=\"-6945356083866800944.args[0]\"]\n\t-2031615137486694345 -> 1985814629941637880 [id=\"-2031615137486694345.args[1]\"]\n\t1985814629941637880 [label=\"Pair.right\" id=1985814629941637880]\n\t1985814629941637880 -> 8000944135531895841 [id=\"1985814629941637880.args[0]\"]\n}",
         "label": null,
         "rule": "metadsl_core.maybe.maybe_match"
        },
        {
         "graph": "digraph {\n\tnode [shape=plain]\n\tedge [arrowsize=0.5 penwidth=0.5]\n\t8850204639408954233 [label=\"NDArrayCompat.to_ndarray\" id=1935586180163463095]\n\t8850204639408954233 -> -2986294243986845795 [id=\"1935586180163463095.args[0]\"]\n\t-2986294243986845795 [label=\"NDArrayCompat.from_ndarray\" id=-7585266382721542195]\n\t-2986294243986845795 -> -309788355308117949 [id=\"-7585266382721542195.args[0]\"]\n\t-309788355308117949 [label=\"Maybe.match\" id=-3654672770811511753]\n\t-309788355308117949 -> 6238575479103760735 [id=\"-3654672770811511753.args[0]\"]\n\t6238575479103760735 [label=\"Maybe.__and__\" id=7443961620176968740]\n\t6238575479103760735 -> 5782438499429486153 [id=\"7443961620176968740.args[0]\"]\n\t5782438499429486153 [label=\"Converter.convert\" id=-5477221866921420825]\n\t5782438499429486153 -> -6346803416583130588 [id=\"-5477221866921420825.args[0]\"]\n\t-6346803416583130588 [label=\"NDArrayCompat.__add__\" id=183283635133801492]\n\t-6346803416583130588 -> 7418876943315760347 [id=\"183283635133801492.args[0]\"]\n\t7418876943315760347 [label=\"NDArrayCompat.from_ndarray\" id=1512960952093783306]\n\t7418876943315760347 -> -5708270348187956537 [id=\"1512960952093783306.args[0]\"]\n\t-5708270348187956537 [label=\"Maybe.match\" id=6219386688534449398]\n\t-5708270348187956537 -> -1699773377263255131 [id=\"6219386688534449398.args[0]\"]\n\t-1699773377263255131 [label=\"Maybe.just\" id=-1699773377263255131]\n\t-1699773377263255131 -> 579615478629357154 [id=\"-1699773377263255131.args[0]\"]\n\t579615478629357154 [label=\"Integer.from_int\" id=579615478629357154]\n\t579615478629357154 -> 5838084232007047975 [id=\"579615478629357154.args[0]\"]\n\t5838084232007047975 [label=100 id=6003697446393151645]\n\t-5708270348187956537 -> -4664464520583065041 [id=\"6219386688534449398.args[1]\"]\n\t-4664464520583065041 [label=\"Maybe.nothing\" id=-4664464520583065041]\n\t-5708270348187956537 -> 1282662085958520030 [id=\"6219386688534449398.args[2]\"]\n\t1282662085958520030 [label=\"Abstraction.__add__\" id=1282662085958520030]\n\t1282662085958520030 -> -1095585159230285059 [id=\"1282662085958520030.args[0]\"]\n\t-1095585159230285059 [label=\"Abstraction.from_fn\" id=-1095585159230285059]\n\t-1095585159230285059 -> 5018280261059491459 [id=\"-1095585159230285059.args[0]\"]\n\t5018280261059491459 [label=\"Maybe.just\" id=5018280261059491459]\n\t1282662085958520030 -> -5698281203918103133 [id=\"1282662085958520030.args[1]\"]\n\t-5698281203918103133 [label=\"Abstraction.create\" id=-5698281203918103133]\n\t-5698281203918103133 -> 9194089122223088133 [id=\"-5698281203918103133.args[0]\"]\n\t9194089122223088133 [label=\"Abstraction.create_variable\" id=9194089122223088133]\n\t9194089122223088133 -> 4813215188545805980 [id=\"9194089122223088133.args[0]\"]\n\t4813215188545805980 [label=\"Variable(4700356960)\" id=4813215188545805980]\n\t-5698281203918103133 -> -8340805333693998320 [id=\"-5698281203918103133.args[1]\"]\n\t-8340805333693998320 [label=arange_ id=-8340805333693998320]\n\t-8340805333693998320 -> 9194089122223088133 [id=\"-8340805333693998320.args[0]\"]\n\t-6346803416583130588 -> 7418876943315760347 [id=\"183283635133801492.args[1]\"]\n\t6238575479103760735 -> -1115633916511162292 [id=\"7443961620176968740.args[1]\"]\n\t-1115633916511162292 [label=\"Maybe.__or__\" id=-7843556576460117514]\n\t-1115633916511162292 -> 6611234870850315639 [id=\"-7843556576460117514.args[0]\"]\n\t6611234870850315639 [label=\"Abstraction.__call__\" id=-5690444910203169095]\n\t6611234870850315639 -> 3450467154562028908 [id=\"-5690444910203169095.args[0]\"]\n\t3450467154562028908 [label=\"Abstraction.__add__\" id=3450467154562028908]\n\t3450467154562028908 -> -6500393008186537515 [id=\"3450467154562028908.args[0]\"]\n\t-6500393008186537515 [label=\"Abstraction.from_fn\" id=-6500393008186537515]\n\t-6500393008186537515 -> -5117706931675647553 [id=\"-6500393008186537515.args[0]\"]\n\t-5117706931675647553 [label=\"Maybe.just\" id=-5117706931675647553]\n\t3450467154562028908 -> 5254740828734901287 [id=\"3450467154562028908.args[1]\"]\n\t5254740828734901287 [label=\"Abstraction.create\" id=5254740828734901287]\n\t5254740828734901287 -> -1545244911588267049 [id=\"5254740828734901287.args[0]\"]\n\t-1545244911588267049 [label=\"Abstraction.create_variable\" id=-1545244911588267049]\n\t-1545244911588267049 -> 4813215200325843030 [id=\"-1545244911588267049.args[0]\"]\n\t4813215200325843030 [label=\"Variable(4700412224)\" id=4813215200325843030]\n\t5254740828734901287 -> 6527418092972046318 [id=\"5254740828734901287.args[1]\"]\n\t6527418092972046318 [label=\"Either.left\" id=6527418092972046318]\n\t6527418092972046318 -> -1545244911588267049 [id=\"6527418092972046318.args[0]\"]\n\t6611234870850315639 -> 5109073286877630545 [id=\"-5690444910203169095.args[1]\"]\n\t5109073286877630545 [label=\"Integer.from_int\" id=5109073286877630545]\n\t5109073286877630545 -> 5838084232112052900 [id=\"5109073286877630545.args[0]\"]\n\t5838084232112052900 [label=5 id=7756835102063988763]\n\t-1115633916511162292 -> -3390378467644071701 [id=\"-7843556576460117514.args[1]\"]\n\t-3390378467644071701 [label=\"Maybe.match\" id=1250312507332772438]\n\t-3390378467644071701 -> 2944773798775947601 [id=\"1250312507332772438.args[0]\"]\n\t2944773798775947601 [label=\"Converter.convert\" id=2944773798775947601]\n\t2944773798775947601 -> 5838084232112052900 [id=\"2944773798775947601.args[0]\"]\n\t-3390378467644071701 -> 2703072876348085923 [id=\"1250312507332772438.args[1]\"]\n\t2703072876348085923 [label=\"Maybe.nothing\" id=2703072876348085923]\n\t-3390378467644071701 -> 7792348576416097263 [id=\"1250312507332772438.args[2]\"]\n\t7792348576416097263 [label=\"Abstraction.__add__\" id=7792348576416097263]\n\t7792348576416097263 -> -6500393008186537515 [id=\"7792348576416097263.args[0]\"]\n\t7792348576416097263 -> 2333271571750003503 [id=\"7792348576416097263.args[1]\"]\n\t2333271571750003503 [label=\"Abstraction.create\" id=2333271571750003503]\n\t2333271571750003503 -> 2897359456192805594 [id=\"2333271571750003503.args[0]\"]\n\t2897359456192805594 [label=\"Abstraction.create_variable\" id=2897359456192805594]\n\t2897359456192805594 -> 4813215207103532055 [id=\"2897359456192805594.args[0]\"]\n\t4813215207103532055 [label=\"Variable(4700573936)\" id=4813215207103532055]\n\t2333271571750003503 -> 5299933280258969538 [id=\"2333271571750003503.args[1]\"]\n\t5299933280258969538 [label=\"Either.right\" id=5299933280258969538]\n\t5299933280258969538 -> 2897359456192805594 [id=\"5299933280258969538.args[0]\"]\n\t-309788355308117949 -> -4664464520583065041 [id=\"-3654672770811511753.args[1]\"]\n\t-309788355308117949 -> -7272182369909386791 [id=\"-3654672770811511753.args[2]\"]\n\t-7272182369909386791 [label=\"Abstraction.__add__\" id=-7272182369909386791]\n\t-7272182369909386791 -> -1095585159230285059 [id=\"-7272182369909386791.args[0]\"]\n\t-7272182369909386791 -> 7210653655396512933 [id=\"-7272182369909386791.args[1]\"]\n\t7210653655396512933 [label=\"Abstraction.create\" id=7210653655396512933]\n\t7210653655396512933 -> 8000944135531895841 [id=\"7210653655396512933.args[0]\"]\n\t8000944135531895841 [label=\"Abstraction.create_variable\" id=8000944135531895841]\n\t8000944135531895841 -> -4410156836406607453 [id=\"8000944135531895841.args[0]\"]\n\t-4410156836406607453 [label=\"Variable(4700410040)\" id=-4410156836406607453]\n\t7210653655396512933 -> -2031615137486694345 [id=\"7210653655396512933.args[1]\"]\n\t-2031615137486694345 [label=\"NDArray.__getitem__\" id=-2031615137486694345]\n\t-2031615137486694345 -> -6945356083866800944 [id=\"-2031615137486694345.args[0]\"]\n\t-6945356083866800944 [label=\"Pair.left\" id=-6945356083866800944]\n\t-6945356083866800944 -> 8000944135531895841 [id=\"-6945356083866800944.args[0]\"]\n\t-2031615137486694345 -> 1985814629941637880 [id=\"-2031615137486694345.args[1]\"]\n\t1985814629941637880 [label=\"Pair.right\" id=1985814629941637880]\n\t1985814629941637880 -> 8000944135531895841 [id=\"1985814629941637880.args[0]\"]\n}",
         "label": null,
         "rule": "metadsl_core.maybe.Maybe.map"
        },
        {
         "graph": "digraph {\n\tnode [shape=plain]\n\tedge [arrowsize=0.5 penwidth=0.5]\n\t-6812286573423641010 [label=\"NDArrayCompat.to_ndarray\" id=1935586180163463095]\n\t-6812286573423641010 -> 6077633707209991085 [id=\"1935586180163463095.args[0]\"]\n\t6077633707209991085 [label=\"NDArrayCompat.from_ndarray\" id=-7585266382721542195]\n\t6077633707209991085 -> 3074461408192598962 [id=\"-7585266382721542195.args[0]\"]\n\t3074461408192598962 [label=\"Maybe.match\" id=-3654672770811511753]\n\t3074461408192598962 -> 2988611848425537937 [id=\"-3654672770811511753.args[0]\"]\n\t2988611848425537937 [label=\"Maybe.__and__\" id=7443961620176968740]\n\t2988611848425537937 -> -6761449467495096585 [id=\"7443961620176968740.args[0]\"]\n\t-6761449467495096585 [label=\"Converter.convert\" id=-5477221866921420825]\n\t-6761449467495096585 -> -5971861533727488186 [id=\"-5477221866921420825.args[0]\"]\n\t-5971861533727488186 [label=\"NDArrayCompat.__add__\" id=183283635133801492]\n\t-5971861533727488186 -> -7454449488011523618 [id=\"183283635133801492.args[0]\"]\n\t-7454449488011523618 [label=\"NDArrayCompat.from_ndarray\" id=1512960952093783306]\n\t-7454449488011523618 -> -8956525556301996865 [id=\"1512960952093783306.args[0]\"]\n\t-8956525556301996865 [label=\"Abstraction.__call__\" id=6219386688534449398]\n\t-8956525556301996865 -> 1282662085958520030 [id=\"6219386688534449398.args[0]\"]\n\t1282662085958520030 [label=\"Abstraction.__add__\" id=1282662085958520030]\n\t1282662085958520030 -> -1095585159230285059 [id=\"1282662085958520030.args[0]\"]\n\t-1095585159230285059 [label=\"Abstraction.from_fn\" id=-1095585159230285059]\n\t-1095585159230285059 -> 5018280261059491459 [id=\"-1095585159230285059.args[0]\"]\n\t5018280261059491459 [label=\"Maybe.just\" id=5018280261059491459]\n\t1282662085958520030 -> -5698281203918103133 [id=\"1282662085958520030.args[1]\"]\n\t-5698281203918103133 [label=\"Abstraction.create\" id=-5698281203918103133]\n\t-5698281203918103133 -> 9194089122223088133 [id=\"-5698281203918103133.args[0]\"]\n\t9194089122223088133 [label=\"Abstraction.create_variable\" id=9194089122223088133]\n\t9194089122223088133 -> 4813215188545805980 [id=\"9194089122223088133.args[0]\"]\n\t4813215188545805980 [label=\"Variable(4700356960)\" id=4813215188545805980]\n\t-5698281203918103133 -> -8340805333693998320 [id=\"-5698281203918103133.args[1]\"]\n\t-8340805333693998320 [label=arange_ id=-8340805333693998320]\n\t-8340805333693998320 -> 9194089122223088133 [id=\"-8340805333693998320.args[0]\"]\n\t-8956525556301996865 -> 579615478629357154 [id=\"6219386688534449398.args[1]\"]\n\t579615478629357154 [label=\"Integer.from_int\" id=579615478629357154]\n\t579615478629357154 -> 5838084232007047975 [id=\"579615478629357154.args[0]\"]\n\t5838084232007047975 [label=100 id=6003697446393151645]\n\t-5971861533727488186 -> -7454449488011523618 [id=\"183283635133801492.args[1]\"]\n\t2988611848425537937 -> -1115633916511162292 [id=\"7443961620176968740.args[1]\"]\n\t-1115633916511162292 [label=\"Maybe.__or__\" id=-7843556576460117514]\n\t-1115633916511162292 -> 6611234870850315639 [id=\"-7843556576460117514.args[0]\"]\n\t6611234870850315639 [label=\"Abstraction.__call__\" id=-5690444910203169095]\n\t6611234870850315639 -> 3450467154562028908 [id=\"-5690444910203169095.args[0]\"]\n\t3450467154562028908 [label=\"Abstraction.__add__\" id=3450467154562028908]\n\t3450467154562028908 -> -6500393008186537515 [id=\"3450467154562028908.args[0]\"]\n\t-6500393008186537515 [label=\"Abstraction.from_fn\" id=-6500393008186537515]\n\t-6500393008186537515 -> -5117706931675647553 [id=\"-6500393008186537515.args[0]\"]\n\t-5117706931675647553 [label=\"Maybe.just\" id=-5117706931675647553]\n\t3450467154562028908 -> 5254740828734901287 [id=\"3450467154562028908.args[1]\"]\n\t5254740828734901287 [label=\"Abstraction.create\" id=5254740828734901287]\n\t5254740828734901287 -> -1545244911588267049 [id=\"5254740828734901287.args[0]\"]\n\t-1545244911588267049 [label=\"Abstraction.create_variable\" id=-1545244911588267049]\n\t-1545244911588267049 -> 4813215200325843030 [id=\"-1545244911588267049.args[0]\"]\n\t4813215200325843030 [label=\"Variable(4700412224)\" id=4813215200325843030]\n\t5254740828734901287 -> 6527418092972046318 [id=\"5254740828734901287.args[1]\"]\n\t6527418092972046318 [label=\"Either.left\" id=6527418092972046318]\n\t6527418092972046318 -> -1545244911588267049 [id=\"6527418092972046318.args[0]\"]\n\t6611234870850315639 -> 5109073286877630545 [id=\"-5690444910203169095.args[1]\"]\n\t5109073286877630545 [label=\"Integer.from_int\" id=5109073286877630545]\n\t5109073286877630545 -> 5838084232112052900 [id=\"5109073286877630545.args[0]\"]\n\t5838084232112052900 [label=5 id=7756835102063988763]\n\t-1115633916511162292 -> -3390378467644071701 [id=\"-7843556576460117514.args[1]\"]\n\t-3390378467644071701 [label=\"Maybe.match\" id=1250312507332772438]\n\t-3390378467644071701 -> 2944773798775947601 [id=\"1250312507332772438.args[0]\"]\n\t2944773798775947601 [label=\"Converter.convert\" id=2944773798775947601]\n\t2944773798775947601 -> 5838084232112052900 [id=\"2944773798775947601.args[0]\"]\n\t-3390378467644071701 -> 2703072876348085923 [id=\"1250312507332772438.args[1]\"]\n\t2703072876348085923 [label=\"Maybe.nothing\" id=2703072876348085923]\n\t-3390378467644071701 -> 7792348576416097263 [id=\"1250312507332772438.args[2]\"]\n\t7792348576416097263 [label=\"Abstraction.__add__\" id=7792348576416097263]\n\t7792348576416097263 -> -6500393008186537515 [id=\"7792348576416097263.args[0]\"]\n\t7792348576416097263 -> 2333271571750003503 [id=\"7792348576416097263.args[1]\"]\n\t2333271571750003503 [label=\"Abstraction.create\" id=2333271571750003503]\n\t2333271571750003503 -> 2897359456192805594 [id=\"2333271571750003503.args[0]\"]\n\t2897359456192805594 [label=\"Abstraction.create_variable\" id=2897359456192805594]\n\t2897359456192805594 -> 4813215207103532055 [id=\"2897359456192805594.args[0]\"]\n\t4813215207103532055 [label=\"Variable(4700573936)\" id=4813215207103532055]\n\t2333271571750003503 -> 5299933280258969538 [id=\"2333271571750003503.args[1]\"]\n\t5299933280258969538 [label=\"Either.right\" id=5299933280258969538]\n\t5299933280258969538 -> 2897359456192805594 [id=\"5299933280258969538.args[0]\"]\n\t3074461408192598962 -> -4664464520583065041 [id=\"-3654672770811511753.args[1]\"]\n\t-4664464520583065041 [label=\"Maybe.nothing\" id=-4664464520583065041]\n\t3074461408192598962 -> -7272182369909386791 [id=\"-3654672770811511753.args[2]\"]\n\t-7272182369909386791 [label=\"Abstraction.__add__\" id=-7272182369909386791]\n\t-7272182369909386791 -> -1095585159230285059 [id=\"-7272182369909386791.args[0]\"]\n\t-7272182369909386791 -> 7210653655396512933 [id=\"-7272182369909386791.args[1]\"]\n\t7210653655396512933 [label=\"Abstraction.create\" id=7210653655396512933]\n\t7210653655396512933 -> 8000944135531895841 [id=\"7210653655396512933.args[0]\"]\n\t8000944135531895841 [label=\"Abstraction.create_variable\" id=8000944135531895841]\n\t8000944135531895841 -> -4410156836406607453 [id=\"8000944135531895841.args[0]\"]\n\t-4410156836406607453 [label=\"Variable(4700410040)\" id=-4410156836406607453]\n\t7210653655396512933 -> -2031615137486694345 [id=\"7210653655396512933.args[1]\"]\n\t-2031615137486694345 [label=\"NDArray.__getitem__\" id=-2031615137486694345]\n\t-2031615137486694345 -> -6945356083866800944 [id=\"-2031615137486694345.args[0]\"]\n\t-6945356083866800944 [label=\"Pair.left\" id=-6945356083866800944]\n\t-6945356083866800944 -> 8000944135531895841 [id=\"-6945356083866800944.args[0]\"]\n\t-2031615137486694345 -> 1985814629941637880 [id=\"-2031615137486694345.args[1]\"]\n\t1985814629941637880 [label=\"Pair.right\" id=1985814629941637880]\n\t1985814629941637880 -> 8000944135531895841 [id=\"1985814629941637880.args[0]\"]\n}",
         "label": null,
         "rule": "metadsl_core.maybe.maybe_match"
        },
        {
         "graph": "digraph {\n\tnode [shape=plain]\n\tedge [arrowsize=0.5 penwidth=0.5]\n\t-615882590086075200 [label=\"NDArrayCompat.to_ndarray\" id=1935586180163463095]\n\t-615882590086075200 -> 3335157028932074336 [id=\"1935586180163463095.args[0]\"]\n\t3335157028932074336 [label=\"NDArrayCompat.from_ndarray\" id=-7585266382721542195]\n\t3335157028932074336 -> 6526530955114339048 [id=\"-7585266382721542195.args[0]\"]\n\t6526530955114339048 [label=\"Maybe.match\" id=-3654672770811511753]\n\t6526530955114339048 -> -7812553897122155129 [id=\"-3654672770811511753.args[0]\"]\n\t-7812553897122155129 [label=\"Maybe.__and__\" id=7443961620176968740]\n\t-7812553897122155129 -> -6761449467495096585 [id=\"7443961620176968740.args[0]\"]\n\t-6761449467495096585 [label=\"Converter.convert\" id=-5477221866921420825]\n\t-6761449467495096585 -> -5971861533727488186 [id=\"-5477221866921420825.args[0]\"]\n\t-5971861533727488186 [label=\"NDArrayCompat.__add__\" id=183283635133801492]\n\t-5971861533727488186 -> -7454449488011523618 [id=\"183283635133801492.args[0]\"]\n\t-7454449488011523618 [label=\"NDArrayCompat.from_ndarray\" id=1512960952093783306]\n\t-7454449488011523618 -> -8956525556301996865 [id=\"1512960952093783306.args[0]\"]\n\t-8956525556301996865 [label=\"Abstraction.__call__\" id=6219386688534449398]\n\t-8956525556301996865 -> 1282662085958520030 [id=\"6219386688534449398.args[0]\"]\n\t1282662085958520030 [label=\"Abstraction.__add__\" id=1282662085958520030]\n\t1282662085958520030 -> -1095585159230285059 [id=\"1282662085958520030.args[0]\"]\n\t-1095585159230285059 [label=\"Abstraction.from_fn\" id=-1095585159230285059]\n\t-1095585159230285059 -> 5018280261059491459 [id=\"-1095585159230285059.args[0]\"]\n\t5018280261059491459 [label=\"Maybe.just\" id=5018280261059491459]\n\t1282662085958520030 -> -5698281203918103133 [id=\"1282662085958520030.args[1]\"]\n\t-5698281203918103133 [label=\"Abstraction.create\" id=-5698281203918103133]\n\t-5698281203918103133 -> 9194089122223088133 [id=\"-5698281203918103133.args[0]\"]\n\t9194089122223088133 [label=\"Abstraction.create_variable\" id=9194089122223088133]\n\t9194089122223088133 -> 4813215188545805980 [id=\"9194089122223088133.args[0]\"]\n\t4813215188545805980 [label=\"Variable(4700356960)\" id=4813215188545805980]\n\t-5698281203918103133 -> -8340805333693998320 [id=\"-5698281203918103133.args[1]\"]\n\t-8340805333693998320 [label=arange_ id=-8340805333693998320]\n\t-8340805333693998320 -> 9194089122223088133 [id=\"-8340805333693998320.args[0]\"]\n\t-8956525556301996865 -> 579615478629357154 [id=\"6219386688534449398.args[1]\"]\n\t579615478629357154 [label=\"Integer.from_int\" id=579615478629357154]\n\t579615478629357154 -> 5838084232007047975 [id=\"579615478629357154.args[0]\"]\n\t5838084232007047975 [label=100 id=6003697446393151645]\n\t-5971861533727488186 -> -7454449488011523618 [id=\"183283635133801492.args[1]\"]\n\t-7812553897122155129 -> -2141729615201721814 [id=\"7443961620176968740.args[1]\"]\n\t-2141729615201721814 [label=\"Maybe.__or__\" id=-7843556576460117514]\n\t-2141729615201721814 -> 6869511155424569206 [id=\"-7843556576460117514.args[0]\"]\n\t6869511155424569206 [label=\"Abstraction.__call__\" id=-5690444910203169095]\n\t6869511155424569206 -> 7548938828277646041 [id=\"-5690444910203169095.args[0]\"]\n\t7548938828277646041 [label=\"Abstraction.__add__\" id=3450467154562028908]\n\t7548938828277646041 -> -1732661160011429166 [id=\"3450467154562028908.args[0]\"]\n\t-1732661160011429166 [label=\"Abstraction.create\" id=-6500393008186537515]\n\t-1732661160011429166 -> 5769543236148692639 [id=\"-6500393008186537515.args[0]\"]\n\t5769543236148692639 [label=\"Abstraction.create_variable\" id=5769543236148692639]\n\t5769543236148692639 -> -4410156826259018103 [id=\"5769543236148692639.args[0]\"]\n\t-4410156826259018103 [label=\"Variable(4700555864)\" id=-4410156826259018103]\n\t-1732661160011429166 -> 4389627826087453676 [id=\"-6500393008186537515.args[1]\"]\n\t4389627826087453676 [label=\"Maybe.just\" id=4389627826087453676]\n\t4389627826087453676 -> 5769543236148692639 [id=\"4389627826087453676.args[0]\"]\n\t7548938828277646041 -> 5254740828734901287 [id=\"3450467154562028908.args[1]\"]\n\t5254740828734901287 [label=\"Abstraction.create\" id=5254740828734901287]\n\t5254740828734901287 -> -1545244911588267049 [id=\"5254740828734901287.args[0]\"]\n\t-1545244911588267049 [label=\"Abstraction.create_variable\" id=-1545244911588267049]\n\t-1545244911588267049 -> 4813215200325843030 [id=\"-1545244911588267049.args[0]\"]\n\t4813215200325843030 [label=\"Variable(4700412224)\" id=4813215200325843030]\n\t5254740828734901287 -> 6527418092972046318 [id=\"5254740828734901287.args[1]\"]\n\t6527418092972046318 [label=\"Either.left\" id=6527418092972046318]\n\t6527418092972046318 -> -1545244911588267049 [id=\"6527418092972046318.args[0]\"]\n\t6869511155424569206 -> 5109073286877630545 [id=\"-5690444910203169095.args[1]\"]\n\t5109073286877630545 [label=\"Integer.from_int\" id=5109073286877630545]\n\t5109073286877630545 -> 5838084232112052900 [id=\"5109073286877630545.args[0]\"]\n\t5838084232112052900 [label=5 id=7756835102063988763]\n\t-2141729615201721814 -> 5345158766180672125 [id=\"-7843556576460117514.args[1]\"]\n\t5345158766180672125 [label=\"Maybe.match\" id=1250312507332772438]\n\t5345158766180672125 -> 2944773798775947601 [id=\"1250312507332772438.args[0]\"]\n\t2944773798775947601 [label=\"Converter.convert\" id=2944773798775947601]\n\t2944773798775947601 -> 5838084232112052900 [id=\"2944773798775947601.args[0]\"]\n\t5345158766180672125 -> 2703072876348085923 [id=\"1250312507332772438.args[1]\"]\n\t2703072876348085923 [label=\"Maybe.nothing\" id=2703072876348085923]\n\t5345158766180672125 -> 5261101807845450126 [id=\"1250312507332772438.args[2]\"]\n\t5261101807845450126 [label=\"Abstraction.__add__\" id=7792348576416097263]\n\t5261101807845450126 -> -1732661160011429166 [id=\"7792348576416097263.args[0]\"]\n\t5261101807845450126 -> 2333271571750003503 [id=\"7792348576416097263.args[1]\"]\n\t2333271571750003503 [label=\"Abstraction.create\" id=2333271571750003503]\n\t2333271571750003503 -> 2897359456192805594 [id=\"2333271571750003503.args[0]\"]\n\t2897359456192805594 [label=\"Abstraction.create_variable\" id=2897359456192805594]\n\t2897359456192805594 -> 4813215207103532055 [id=\"2897359456192805594.args[0]\"]\n\t4813215207103532055 [label=\"Variable(4700573936)\" id=4813215207103532055]\n\t2333271571750003503 -> 5299933280258969538 [id=\"2333271571750003503.args[1]\"]\n\t5299933280258969538 [label=\"Either.right\" id=5299933280258969538]\n\t5299933280258969538 -> 2897359456192805594 [id=\"5299933280258969538.args[0]\"]\n\t6526530955114339048 -> -4664464520583065041 [id=\"-3654672770811511753.args[1]\"]\n\t-4664464520583065041 [label=\"Maybe.nothing\" id=-4664464520583065041]\n\t6526530955114339048 -> -7272182369909386791 [id=\"-3654672770811511753.args[2]\"]\n\t-7272182369909386791 [label=\"Abstraction.__add__\" id=-7272182369909386791]\n\t-7272182369909386791 -> -1095585159230285059 [id=\"-7272182369909386791.args[0]\"]\n\t-7272182369909386791 -> 7210653655396512933 [id=\"-7272182369909386791.args[1]\"]\n\t7210653655396512933 [label=\"Abstraction.create\" id=7210653655396512933]\n\t7210653655396512933 -> 8000944135531895841 [id=\"7210653655396512933.args[0]\"]\n\t8000944135531895841 [label=\"Abstraction.create_variable\" id=8000944135531895841]\n\t8000944135531895841 -> -4410156836406607453 [id=\"8000944135531895841.args[0]\"]\n\t-4410156836406607453 [label=\"Variable(4700410040)\" id=-4410156836406607453]\n\t7210653655396512933 -> -2031615137486694345 [id=\"7210653655396512933.args[1]\"]\n\t-2031615137486694345 [label=\"NDArray.__getitem__\" id=-2031615137486694345]\n\t-2031615137486694345 -> -6945356083866800944 [id=\"-2031615137486694345.args[0]\"]\n\t-6945356083866800944 [label=\"Pair.left\" id=-6945356083866800944]\n\t-6945356083866800944 -> 8000944135531895841 [id=\"-6945356083866800944.args[0]\"]\n\t-2031615137486694345 -> 1985814629941637880 [id=\"-2031615137486694345.args[1]\"]\n\t1985814629941637880 [label=\"Pair.right\" id=1985814629941637880]\n\t1985814629941637880 -> 8000944135531895841 [id=\"1985814629941637880.args[0]\"]\n}",
         "label": null,
         "rule": "metadsl_core.abstraction.Abstraction.from_fn"
        },
        {
         "graph": "digraph {\n\tnode [shape=plain]\n\tedge [arrowsize=0.5 penwidth=0.5]\n\t-554557341685015507 [label=\"NDArrayCompat.to_ndarray\" id=1935586180163463095]\n\t-554557341685015507 -> 8066852995898518341 [id=\"1935586180163463095.args[0]\"]\n\t8066852995898518341 [label=\"NDArrayCompat.from_ndarray\" id=-7585266382721542195]\n\t8066852995898518341 -> 7316226698377770488 [id=\"-7585266382721542195.args[0]\"]\n\t7316226698377770488 [label=\"Maybe.match\" id=-3654672770811511753]\n\t7316226698377770488 -> 1220523710815122284 [id=\"-3654672770811511753.args[0]\"]\n\t1220523710815122284 [label=\"Maybe.__and__\" id=7443961620176968740]\n\t1220523710815122284 -> 1714036227987191754 [id=\"7443961620176968740.args[0]\"]\n\t1714036227987191754 [label=\"Converter.convert\" id=-5477221866921420825]\n\t1714036227987191754 -> 4514098878626001444 [id=\"-5477221866921420825.args[0]\"]\n\t4514098878626001444 [label=\"NDArrayCompat.__add__\" id=183283635133801492]\n\t4514098878626001444 -> -251764288365888734 [id=\"183283635133801492.args[0]\"]\n\t-251764288365888734 [label=\"NDArrayCompat.from_ndarray\" id=1512960952093783306]\n\t-251764288365888734 -> -5700005666712022590 [id=\"1512960952093783306.args[0]\"]\n\t-5700005666712022590 [label=\"Abstraction.__call__\" id=6219386688534449398]\n\t-5700005666712022590 -> 2103808445426907327 [id=\"6219386688534449398.args[0]\"]\n\t2103808445426907327 [label=\"Abstraction.__add__\" id=1282662085958520030]\n\t2103808445426907327 -> 2988532155951106567 [id=\"1282662085958520030.args[0]\"]\n\t2988532155951106567 [label=\"Abstraction.create\" id=-1095585159230285059]\n\t2988532155951106567 -> 1275633262893457532 [id=\"-1095585159230285059.args[0]\"]\n\t1275633262893457532 [label=\"Abstraction.create_variable\" id=1275633262893457532]\n\t1275633262893457532 -> -4410156828438140928 [id=\"1275633262893457532.args[0]\"]\n\t-4410156828438140928 [label=\"Variable(4700587176)\" id=-4410156828438140928]\n\t2988532155951106567 -> -212784525855687111 [id=\"-1095585159230285059.args[1]\"]\n\t-212784525855687111 [label=\"Maybe.just\" id=-212784525855687111]\n\t-212784525855687111 -> 1275633262893457532 [id=\"-212784525855687111.args[0]\"]\n\t2103808445426907327 -> -5698281203918103133 [id=\"1282662085958520030.args[1]\"]\n\t-5698281203918103133 [label=\"Abstraction.create\" id=-5698281203918103133]\n\t-5698281203918103133 -> 9194089122223088133 [id=\"-5698281203918103133.args[0]\"]\n\t9194089122223088133 [label=\"Abstraction.create_variable\" id=9194089122223088133]\n\t9194089122223088133 -> 4813215188545805980 [id=\"9194089122223088133.args[0]\"]\n\t4813215188545805980 [label=\"Variable(4700356960)\" id=4813215188545805980]\n\t-5698281203918103133 -> -8340805333693998320 [id=\"-5698281203918103133.args[1]\"]\n\t-8340805333693998320 [label=arange_ id=-8340805333693998320]\n\t-8340805333693998320 -> 9194089122223088133 [id=\"-8340805333693998320.args[0]\"]\n\t-5700005666712022590 -> 579615478629357154 [id=\"6219386688534449398.args[1]\"]\n\t579615478629357154 [label=\"Integer.from_int\" id=579615478629357154]\n\t579615478629357154 -> 5838084232007047975 [id=\"579615478629357154.args[0]\"]\n\t5838084232007047975 [label=100 id=6003697446393151645]\n\t4514098878626001444 -> -251764288365888734 [id=\"183283635133801492.args[1]\"]\n\t1220523710815122284 -> -2141729615201721814 [id=\"7443961620176968740.args[1]\"]\n\t-2141729615201721814 [label=\"Maybe.__or__\" id=-7843556576460117514]\n\t-2141729615201721814 -> 6869511155424569206 [id=\"-7843556576460117514.args[0]\"]\n\t6869511155424569206 [label=\"Abstraction.__call__\" id=-5690444910203169095]\n\t6869511155424569206 -> 7548938828277646041 [id=\"-5690444910203169095.args[0]\"]\n\t7548938828277646041 [label=\"Abstraction.__add__\" id=3450467154562028908]\n\t7548938828277646041 -> -1732661160011429166 [id=\"3450467154562028908.args[0]\"]\n\t-1732661160011429166 [label=\"Abstraction.create\" id=-6500393008186537515]\n\t-1732661160011429166 -> 5769543236148692639 [id=\"-6500393008186537515.args[0]\"]\n\t5769543236148692639 [label=\"Abstraction.create_variable\" id=5769543236148692639]\n\t5769543236148692639 -> -4410156826259018103 [id=\"5769543236148692639.args[0]\"]\n\t-4410156826259018103 [label=\"Variable(4700555864)\" id=-4410156826259018103]\n\t-1732661160011429166 -> 4389627826087453676 [id=\"-6500393008186537515.args[1]\"]\n\t4389627826087453676 [label=\"Maybe.just\" id=4389627826087453676]\n\t4389627826087453676 -> 5769543236148692639 [id=\"4389627826087453676.args[0]\"]\n\t7548938828277646041 -> 5254740828734901287 [id=\"3450467154562028908.args[1]\"]\n\t5254740828734901287 [label=\"Abstraction.create\" id=5254740828734901287]\n\t5254740828734901287 -> -1545244911588267049 [id=\"5254740828734901287.args[0]\"]\n\t-1545244911588267049 [label=\"Abstraction.create_variable\" id=-1545244911588267049]\n\t-1545244911588267049 -> 4813215200325843030 [id=\"-1545244911588267049.args[0]\"]\n\t4813215200325843030 [label=\"Variable(4700412224)\" id=4813215200325843030]\n\t5254740828734901287 -> 6527418092972046318 [id=\"5254740828734901287.args[1]\"]\n\t6527418092972046318 [label=\"Either.left\" id=6527418092972046318]\n\t6527418092972046318 -> -1545244911588267049 [id=\"6527418092972046318.args[0]\"]\n\t6869511155424569206 -> 5109073286877630545 [id=\"-5690444910203169095.args[1]\"]\n\t5109073286877630545 [label=\"Integer.from_int\" id=5109073286877630545]\n\t5109073286877630545 -> 5838084232112052900 [id=\"5109073286877630545.args[0]\"]\n\t5838084232112052900 [label=5 id=7756835102063988763]\n\t-2141729615201721814 -> 5345158766180672125 [id=\"-7843556576460117514.args[1]\"]\n\t5345158766180672125 [label=\"Maybe.match\" id=1250312507332772438]\n\t5345158766180672125 -> 2944773798775947601 [id=\"1250312507332772438.args[0]\"]\n\t2944773798775947601 [label=\"Converter.convert\" id=2944773798775947601]\n\t2944773798775947601 -> 5838084232112052900 [id=\"2944773798775947601.args[0]\"]\n\t5345158766180672125 -> 2703072876348085923 [id=\"1250312507332772438.args[1]\"]\n\t2703072876348085923 [label=\"Maybe.nothing\" id=2703072876348085923]\n\t5345158766180672125 -> 5261101807845450126 [id=\"1250312507332772438.args[2]\"]\n\t5261101807845450126 [label=\"Abstraction.__add__\" id=7792348576416097263]\n\t5261101807845450126 -> -1732661160011429166 [id=\"7792348576416097263.args[0]\"]\n\t5261101807845450126 -> 2333271571750003503 [id=\"7792348576416097263.args[1]\"]\n\t2333271571750003503 [label=\"Abstraction.create\" id=2333271571750003503]\n\t2333271571750003503 -> 2897359456192805594 [id=\"2333271571750003503.args[0]\"]\n\t2897359456192805594 [label=\"Abstraction.create_variable\" id=2897359456192805594]\n\t2897359456192805594 -> 4813215207103532055 [id=\"2897359456192805594.args[0]\"]\n\t4813215207103532055 [label=\"Variable(4700573936)\" id=4813215207103532055]\n\t2333271571750003503 -> 5299933280258969538 [id=\"2333271571750003503.args[1]\"]\n\t5299933280258969538 [label=\"Either.right\" id=5299933280258969538]\n\t5299933280258969538 -> 2897359456192805594 [id=\"5299933280258969538.args[0]\"]\n\t7316226698377770488 -> -4664464520583065041 [id=\"-3654672770811511753.args[1]\"]\n\t-4664464520583065041 [label=\"Maybe.nothing\" id=-4664464520583065041]\n\t7316226698377770488 -> 6611900685694498188 [id=\"-3654672770811511753.args[2]\"]\n\t6611900685694498188 [label=\"Abstraction.__add__\" id=-7272182369909386791]\n\t6611900685694498188 -> 2988532155951106567 [id=\"-7272182369909386791.args[0]\"]\n\t6611900685694498188 -> 7210653655396512933 [id=\"-7272182369909386791.args[1]\"]\n\t7210653655396512933 [label=\"Abstraction.create\" id=7210653655396512933]\n\t7210653655396512933 -> 8000944135531895841 [id=\"7210653655396512933.args[0]\"]\n\t8000944135531895841 [label=\"Abstraction.create_variable\" id=8000944135531895841]\n\t8000944135531895841 -> -4410156836406607453 [id=\"8000944135531895841.args[0]\"]\n\t-4410156836406607453 [label=\"Variable(4700410040)\" id=-4410156836406607453]\n\t7210653655396512933 -> -2031615137486694345 [id=\"7210653655396512933.args[1]\"]\n\t-2031615137486694345 [label=\"NDArray.__getitem__\" id=-2031615137486694345]\n\t-2031615137486694345 -> -6945356083866800944 [id=\"-2031615137486694345.args[0]\"]\n\t-6945356083866800944 [label=\"Pair.left\" id=-6945356083866800944]\n\t-6945356083866800944 -> 8000944135531895841 [id=\"-6945356083866800944.args[0]\"]\n\t-2031615137486694345 -> 1985814629941637880 [id=\"-2031615137486694345.args[1]\"]\n\t1985814629941637880 [label=\"Pair.right\" id=1985814629941637880]\n\t1985814629941637880 -> 8000944135531895841 [id=\"1985814629941637880.args[0]\"]\n}",
         "label": null,
         "rule": "metadsl_core.abstraction.Abstraction.from_fn"
        },
        {
         "graph": "digraph {\n\tnode [shape=plain]\n\tedge [arrowsize=0.5 penwidth=0.5]\n\t4925757743569357558 [label=\"NDArrayCompat.to_ndarray\" id=1935586180163463095]\n\t4925757743569357558 -> 8039876164647614212 [id=\"1935586180163463095.args[0]\"]\n\t8039876164647614212 [label=\"NDArrayCompat.from_ndarray\" id=-7585266382721542195]\n\t8039876164647614212 -> -5239319086784910624 [id=\"-7585266382721542195.args[0]\"]\n\t-5239319086784910624 [label=\"Maybe.match\" id=-3654672770811511753]\n\t-5239319086784910624 -> 1220523710815122284 [id=\"-3654672770811511753.args[0]\"]\n\t1220523710815122284 [label=\"Maybe.__and__\" id=7443961620176968740]\n\t1220523710815122284 -> 1714036227987191754 [id=\"7443961620176968740.args[0]\"]\n\t1714036227987191754 [label=\"Converter.convert\" id=-5477221866921420825]\n\t1714036227987191754 -> 4514098878626001444 [id=\"-5477221866921420825.args[0]\"]\n\t4514098878626001444 [label=\"NDArrayCompat.__add__\" id=183283635133801492]\n\t4514098878626001444 -> -251764288365888734 [id=\"183283635133801492.args[0]\"]\n\t-251764288365888734 [label=\"NDArrayCompat.from_ndarray\" id=1512960952093783306]\n\t-251764288365888734 -> -5700005666712022590 [id=\"1512960952093783306.args[0]\"]\n\t-5700005666712022590 [label=\"Abstraction.__call__\" id=6219386688534449398]\n\t-5700005666712022590 -> 2103808445426907327 [id=\"6219386688534449398.args[0]\"]\n\t2103808445426907327 [label=\"Abstraction.__add__\" id=1282662085958520030]\n\t2103808445426907327 -> 2988532155951106567 [id=\"1282662085958520030.args[0]\"]\n\t2988532155951106567 [label=\"Abstraction.create\" id=-1095585159230285059]\n\t2988532155951106567 -> 1275633262893457532 [id=\"-1095585159230285059.args[0]\"]\n\t1275633262893457532 [label=\"Abstraction.create_variable\" id=1275633262893457532]\n\t1275633262893457532 -> -4410156828438140928 [id=\"1275633262893457532.args[0]\"]\n\t-4410156828438140928 [label=\"Variable(4700587176)\" id=-4410156828438140928]\n\t2988532155951106567 -> -212784525855687111 [id=\"-1095585159230285059.args[1]\"]\n\t-212784525855687111 [label=\"Maybe.just\" id=-212784525855687111]\n\t-212784525855687111 -> 1275633262893457532 [id=\"-212784525855687111.args[0]\"]\n\t2103808445426907327 -> -5698281203918103133 [id=\"1282662085958520030.args[1]\"]\n\t-5698281203918103133 [label=\"Abstraction.create\" id=-5698281203918103133]\n\t-5698281203918103133 -> 9194089122223088133 [id=\"-5698281203918103133.args[0]\"]\n\t9194089122223088133 [label=\"Abstraction.create_variable\" id=9194089122223088133]\n\t9194089122223088133 -> 4813215188545805980 [id=\"9194089122223088133.args[0]\"]\n\t4813215188545805980 [label=\"Variable(4700356960)\" id=4813215188545805980]\n\t-5698281203918103133 -> -8340805333693998320 [id=\"-5698281203918103133.args[1]\"]\n\t-8340805333693998320 [label=arange_ id=-8340805333693998320]\n\t-8340805333693998320 -> 9194089122223088133 [id=\"-8340805333693998320.args[0]\"]\n\t-5700005666712022590 -> 579615478629357154 [id=\"6219386688534449398.args[1]\"]\n\t579615478629357154 [label=\"Integer.from_int\" id=579615478629357154]\n\t579615478629357154 -> 5838084232007047975 [id=\"579615478629357154.args[0]\"]\n\t5838084232007047975 [label=100 id=6003697446393151645]\n\t4514098878626001444 -> -251764288365888734 [id=\"183283635133801492.args[1]\"]\n\t1220523710815122284 -> -2141729615201721814 [id=\"7443961620176968740.args[1]\"]\n\t-2141729615201721814 [label=\"Maybe.__or__\" id=-7843556576460117514]\n\t-2141729615201721814 -> 6869511155424569206 [id=\"-7843556576460117514.args[0]\"]\n\t6869511155424569206 [label=\"Abstraction.__call__\" id=-5690444910203169095]\n\t6869511155424569206 -> 7548938828277646041 [id=\"-5690444910203169095.args[0]\"]\n\t7548938828277646041 [label=\"Abstraction.__add__\" id=3450467154562028908]\n\t7548938828277646041 -> -1732661160011429166 [id=\"3450467154562028908.args[0]\"]\n\t-1732661160011429166 [label=\"Abstraction.create\" id=-6500393008186537515]\n\t-1732661160011429166 -> 5769543236148692639 [id=\"-6500393008186537515.args[0]\"]\n\t5769543236148692639 [label=\"Abstraction.create_variable\" id=5769543236148692639]\n\t5769543236148692639 -> -4410156826259018103 [id=\"5769543236148692639.args[0]\"]\n\t-4410156826259018103 [label=\"Variable(4700555864)\" id=-4410156826259018103]\n\t-1732661160011429166 -> 4389627826087453676 [id=\"-6500393008186537515.args[1]\"]\n\t4389627826087453676 [label=\"Maybe.just\" id=4389627826087453676]\n\t4389627826087453676 -> 5769543236148692639 [id=\"4389627826087453676.args[0]\"]\n\t7548938828277646041 -> 5254740828734901287 [id=\"3450467154562028908.args[1]\"]\n\t5254740828734901287 [label=\"Abstraction.create\" id=5254740828734901287]\n\t5254740828734901287 -> -1545244911588267049 [id=\"5254740828734901287.args[0]\"]\n\t-1545244911588267049 [label=\"Abstraction.create_variable\" id=-1545244911588267049]\n\t-1545244911588267049 -> 4813215200325843030 [id=\"-1545244911588267049.args[0]\"]\n\t4813215200325843030 [label=\"Variable(4700412224)\" id=4813215200325843030]\n\t5254740828734901287 -> 6527418092972046318 [id=\"5254740828734901287.args[1]\"]\n\t6527418092972046318 [label=\"Either.left\" id=6527418092972046318]\n\t6527418092972046318 -> -1545244911588267049 [id=\"6527418092972046318.args[0]\"]\n\t6869511155424569206 -> 5109073286877630545 [id=\"-5690444910203169095.args[1]\"]\n\t5109073286877630545 [label=\"Integer.from_int\" id=5109073286877630545]\n\t5109073286877630545 -> 5838084232112052900 [id=\"5109073286877630545.args[0]\"]\n\t5838084232112052900 [label=5 id=7756835102063988763]\n\t-2141729615201721814 -> 5345158766180672125 [id=\"-7843556576460117514.args[1]\"]\n\t5345158766180672125 [label=\"Maybe.match\" id=1250312507332772438]\n\t5345158766180672125 -> 2944773798775947601 [id=\"1250312507332772438.args[0]\"]\n\t2944773798775947601 [label=\"Converter.convert\" id=2944773798775947601]\n\t2944773798775947601 -> 5838084232112052900 [id=\"2944773798775947601.args[0]\"]\n\t5345158766180672125 -> 2703072876348085923 [id=\"1250312507332772438.args[1]\"]\n\t2703072876348085923 [label=\"Maybe.nothing\" id=2703072876348085923]\n\t5345158766180672125 -> 5261101807845450126 [id=\"1250312507332772438.args[2]\"]\n\t5261101807845450126 [label=\"Abstraction.__add__\" id=7792348576416097263]\n\t5261101807845450126 -> -1732661160011429166 [id=\"7792348576416097263.args[0]\"]\n\t5261101807845450126 -> 2333271571750003503 [id=\"7792348576416097263.args[1]\"]\n\t2333271571750003503 [label=\"Abstraction.create\" id=2333271571750003503]\n\t2333271571750003503 -> 2897359456192805594 [id=\"2333271571750003503.args[0]\"]\n\t2897359456192805594 [label=\"Abstraction.create_variable\" id=2897359456192805594]\n\t2897359456192805594 -> 4813215207103532055 [id=\"2897359456192805594.args[0]\"]\n\t4813215207103532055 [label=\"Variable(4700573936)\" id=4813215207103532055]\n\t2333271571750003503 -> 5299933280258969538 [id=\"2333271571750003503.args[1]\"]\n\t5299933280258969538 [label=\"Either.right\" id=5299933280258969538]\n\t5299933280258969538 -> 2897359456192805594 [id=\"5299933280258969538.args[0]\"]\n\t-5239319086784910624 -> -4664464520583065041 [id=\"-3654672770811511753.args[1]\"]\n\t-4664464520583065041 [label=\"Maybe.nothing\" id=-4664464520583065041]\n\t-5239319086784910624 -> 8475390729817755043 [id=\"-3654672770811511753.args[2]\"]\n\t8475390729817755043 [label=\"Abstraction.create\" id=8475390729817755043]\n\t8475390729817755043 -> 8000944135531895841 [id=\"8475390729817755043.args[0]\"]\n\t8000944135531895841 [label=\"Abstraction.create_variable\" id=8000944135531895841]\n\t8000944135531895841 -> -4410156836406607453 [id=\"8000944135531895841.args[0]\"]\n\t-4410156836406607453 [label=\"Variable(4700410040)\" id=-4410156836406607453]\n\t8475390729817755043 -> 3516816812917669638 [id=\"8475390729817755043.args[1]\"]\n\t3516816812917669638 [label=\"Maybe.just\" id=3516816812917669638]\n\t3516816812917669638 -> -2031615137486694345 [id=\"3516816812917669638.args[0]\"]\n\t-2031615137486694345 [label=\"NDArray.__getitem__\" id=-2031615137486694345]\n\t-2031615137486694345 -> -6945356083866800944 [id=\"-2031615137486694345.args[0]\"]\n\t-6945356083866800944 [label=\"Pair.left\" id=-6945356083866800944]\n\t-6945356083866800944 -> 8000944135531895841 [id=\"-6945356083866800944.args[0]\"]\n\t-2031615137486694345 -> 1985814629941637880 [id=\"-2031615137486694345.args[1]\"]\n\t1985814629941637880 [label=\"Pair.right\" id=1985814629941637880]\n\t1985814629941637880 -> 8000944135531895841 [id=\"1985814629941637880.args[0]\"]\n}",
         "label": null,
         "rule": "metadsl_core.abstraction.compose"
        },
        {
         "graph": "digraph {\n\tnode [shape=plain]\n\tedge [arrowsize=0.5 penwidth=0.5]\n\t-6046152058755040221 [label=\"NDArrayCompat.to_ndarray\" id=1935586180163463095]\n\t-6046152058755040221 -> 6065453143059536812 [id=\"1935586180163463095.args[0]\"]\n\t6065453143059536812 [label=\"NDArrayCompat.from_ndarray\" id=-7585266382721542195]\n\t6065453143059536812 -> 5385778919572997268 [id=\"-7585266382721542195.args[0]\"]\n\t5385778919572997268 [label=\"Maybe.match\" id=-3654672770811511753]\n\t5385778919572997268 -> -4526987054053700703 [id=\"-3654672770811511753.args[0]\"]\n\t-4526987054053700703 [label=\"Maybe.__and__\" id=7443961620176968740]\n\t-4526987054053700703 -> 1714036227987191754 [id=\"7443961620176968740.args[0]\"]\n\t1714036227987191754 [label=\"Converter.convert\" id=-5477221866921420825]\n\t1714036227987191754 -> 4514098878626001444 [id=\"-5477221866921420825.args[0]\"]\n\t4514098878626001444 [label=\"NDArrayCompat.__add__\" id=183283635133801492]\n\t4514098878626001444 -> -251764288365888734 [id=\"183283635133801492.args[0]\"]\n\t-251764288365888734 [label=\"NDArrayCompat.from_ndarray\" id=1512960952093783306]\n\t-251764288365888734 -> -5700005666712022590 [id=\"1512960952093783306.args[0]\"]\n\t-5700005666712022590 [label=\"Abstraction.__call__\" id=6219386688534449398]\n\t-5700005666712022590 -> 2103808445426907327 [id=\"6219386688534449398.args[0]\"]\n\t2103808445426907327 [label=\"Abstraction.__add__\" id=1282662085958520030]\n\t2103808445426907327 -> 2988532155951106567 [id=\"1282662085958520030.args[0]\"]\n\t2988532155951106567 [label=\"Abstraction.create\" id=-1095585159230285059]\n\t2988532155951106567 -> 1275633262893457532 [id=\"-1095585159230285059.args[0]\"]\n\t1275633262893457532 [label=\"Abstraction.create_variable\" id=1275633262893457532]\n\t1275633262893457532 -> -4410156828438140928 [id=\"1275633262893457532.args[0]\"]\n\t-4410156828438140928 [label=\"Variable(4700587176)\" id=-4410156828438140928]\n\t2988532155951106567 -> -212784525855687111 [id=\"-1095585159230285059.args[1]\"]\n\t-212784525855687111 [label=\"Maybe.just\" id=-212784525855687111]\n\t-212784525855687111 -> 1275633262893457532 [id=\"-212784525855687111.args[0]\"]\n\t2103808445426907327 -> -5698281203918103133 [id=\"1282662085958520030.args[1]\"]\n\t-5698281203918103133 [label=\"Abstraction.create\" id=-5698281203918103133]\n\t-5698281203918103133 -> 9194089122223088133 [id=\"-5698281203918103133.args[0]\"]\n\t9194089122223088133 [label=\"Abstraction.create_variable\" id=9194089122223088133]\n\t9194089122223088133 -> 4813215188545805980 [id=\"9194089122223088133.args[0]\"]\n\t4813215188545805980 [label=\"Variable(4700356960)\" id=4813215188545805980]\n\t-5698281203918103133 -> -8340805333693998320 [id=\"-5698281203918103133.args[1]\"]\n\t-8340805333693998320 [label=arange_ id=-8340805333693998320]\n\t-8340805333693998320 -> 9194089122223088133 [id=\"-8340805333693998320.args[0]\"]\n\t-5700005666712022590 -> 579615478629357154 [id=\"6219386688534449398.args[1]\"]\n\t579615478629357154 [label=\"Integer.from_int\" id=579615478629357154]\n\t579615478629357154 -> 5838084232007047975 [id=\"579615478629357154.args[0]\"]\n\t5838084232007047975 [label=100 id=6003697446393151645]\n\t4514098878626001444 -> -251764288365888734 [id=\"183283635133801492.args[1]\"]\n\t-4526987054053700703 -> 4201819479016430412 [id=\"7443961620176968740.args[1]\"]\n\t4201819479016430412 [label=\"Maybe.__or__\" id=-7843556576460117514]\n\t4201819479016430412 -> 6869511155424569206 [id=\"-7843556576460117514.args[0]\"]\n\t6869511155424569206 [label=\"Abstraction.__call__\" id=-5690444910203169095]\n\t6869511155424569206 -> 7548938828277646041 [id=\"-5690444910203169095.args[0]\"]\n\t7548938828277646041 [label=\"Abstraction.__add__\" id=3450467154562028908]\n\t7548938828277646041 -> -1732661160011429166 [id=\"3450467154562028908.args[0]\"]\n\t-1732661160011429166 [label=\"Abstraction.create\" id=-6500393008186537515]\n\t-1732661160011429166 -> 5769543236148692639 [id=\"-6500393008186537515.args[0]\"]\n\t5769543236148692639 [label=\"Abstraction.create_variable\" id=5769543236148692639]\n\t5769543236148692639 -> -4410156826259018103 [id=\"5769543236148692639.args[0]\"]\n\t-4410156826259018103 [label=\"Variable(4700555864)\" id=-4410156826259018103]\n\t-1732661160011429166 -> 4389627826087453676 [id=\"-6500393008186537515.args[1]\"]\n\t4389627826087453676 [label=\"Maybe.just\" id=4389627826087453676]\n\t4389627826087453676 -> 5769543236148692639 [id=\"4389627826087453676.args[0]\"]\n\t7548938828277646041 -> 5254740828734901287 [id=\"3450467154562028908.args[1]\"]\n\t5254740828734901287 [label=\"Abstraction.create\" id=5254740828734901287]\n\t5254740828734901287 -> -1545244911588267049 [id=\"5254740828734901287.args[0]\"]\n\t-1545244911588267049 [label=\"Abstraction.create_variable\" id=-1545244911588267049]\n\t-1545244911588267049 -> 4813215200325843030 [id=\"-1545244911588267049.args[0]\"]\n\t4813215200325843030 [label=\"Variable(4700412224)\" id=4813215200325843030]\n\t5254740828734901287 -> 6527418092972046318 [id=\"5254740828734901287.args[1]\"]\n\t6527418092972046318 [label=\"Either.left\" id=6527418092972046318]\n\t6527418092972046318 -> -1545244911588267049 [id=\"6527418092972046318.args[0]\"]\n\t6869511155424569206 -> 5109073286877630545 [id=\"-5690444910203169095.args[1]\"]\n\t5109073286877630545 [label=\"Integer.from_int\" id=5109073286877630545]\n\t5109073286877630545 -> 5838084232112052900 [id=\"5109073286877630545.args[0]\"]\n\t5838084232112052900 [label=5 id=7756835102063988763]\n\t4201819479016430412 -> 1082193680570980265 [id=\"-7843556576460117514.args[1]\"]\n\t1082193680570980265 [label=\"Maybe.match\" id=1250312507332772438]\n\t1082193680570980265 -> 2944773798775947601 [id=\"1250312507332772438.args[0]\"]\n\t2944773798775947601 [label=\"Converter.convert\" id=2944773798775947601]\n\t2944773798775947601 -> 5838084232112052900 [id=\"2944773798775947601.args[0]\"]\n\t1082193680570980265 -> 2703072876348085923 [id=\"1250312507332772438.args[1]\"]\n\t2703072876348085923 [label=\"Maybe.nothing\" id=2703072876348085923]\n\t1082193680570980265 -> 1765229937423645188 [id=\"1250312507332772438.args[2]\"]\n\t1765229937423645188 [label=\"Abstraction.create\" id=7792348576416097263]\n\t1765229937423645188 -> 2897359456192805594 [id=\"7792348576416097263.args[0]\"]\n\t2897359456192805594 [label=\"Abstraction.create_variable\" id=2897359456192805594]\n\t2897359456192805594 -> 4813215207103532055 [id=\"2897359456192805594.args[0]\"]\n\t4813215207103532055 [label=\"Variable(4700573936)\" id=4813215207103532055]\n\t1765229937423645188 -> -6529800568714258019 [id=\"7792348576416097263.args[1]\"]\n\t-6529800568714258019 [label=\"Maybe.just\" id=-6529800568714258019]\n\t-6529800568714258019 -> 5299933280258969538 [id=\"-6529800568714258019.args[0]\"]\n\t5299933280258969538 [label=\"Either.right\" id=5299933280258969538]\n\t5299933280258969538 -> 2897359456192805594 [id=\"5299933280258969538.args[0]\"]\n\t5385778919572997268 -> -4664464520583065041 [id=\"-3654672770811511753.args[1]\"]\n\t-4664464520583065041 [label=\"Maybe.nothing\" id=-4664464520583065041]\n\t5385778919572997268 -> 8475390729817755043 [id=\"-3654672770811511753.args[2]\"]\n\t8475390729817755043 [label=\"Abstraction.create\" id=8475390729817755043]\n\t8475390729817755043 -> 8000944135531895841 [id=\"8475390729817755043.args[0]\"]\n\t8000944135531895841 [label=\"Abstraction.create_variable\" id=8000944135531895841]\n\t8000944135531895841 -> -4410156836406607453 [id=\"8000944135531895841.args[0]\"]\n\t-4410156836406607453 [label=\"Variable(4700410040)\" id=-4410156836406607453]\n\t8475390729817755043 -> 3516816812917669638 [id=\"8475390729817755043.args[1]\"]\n\t3516816812917669638 [label=\"Maybe.just\" id=3516816812917669638]\n\t3516816812917669638 -> -2031615137486694345 [id=\"3516816812917669638.args[0]\"]\n\t-2031615137486694345 [label=\"NDArray.__getitem__\" id=-2031615137486694345]\n\t-2031615137486694345 -> -6945356083866800944 [id=\"-2031615137486694345.args[0]\"]\n\t-6945356083866800944 [label=\"Pair.left\" id=-6945356083866800944]\n\t-6945356083866800944 -> 8000944135531895841 [id=\"-6945356083866800944.args[0]\"]\n\t-2031615137486694345 -> 1985814629941637880 [id=\"-2031615137486694345.args[1]\"]\n\t1985814629941637880 [label=\"Pair.right\" id=1985814629941637880]\n\t1985814629941637880 -> 8000944135531895841 [id=\"1985814629941637880.args[0]\"]\n}",
         "label": null,
         "rule": "metadsl_core.abstraction.compose"
        },
        {
         "graph": "digraph {\n\tnode [shape=plain]\n\tedge [arrowsize=0.5 penwidth=0.5]\n\t-9088298557536571878 [label=\"NDArrayCompat.to_ndarray\" id=1935586180163463095]\n\t-9088298557536571878 -> 6197798774908396561 [id=\"1935586180163463095.args[0]\"]\n\t6197798774908396561 [label=\"NDArrayCompat.from_ndarray\" id=-7585266382721542195]\n\t6197798774908396561 -> 1401308054352905831 [id=\"-7585266382721542195.args[0]\"]\n\t1401308054352905831 [label=\"Maybe.match\" id=-3654672770811511753]\n\t1401308054352905831 -> 6323230222169240643 [id=\"-3654672770811511753.args[0]\"]\n\t6323230222169240643 [label=\"Maybe.__and__\" id=7443961620176968740]\n\t6323230222169240643 -> 1714036227987191754 [id=\"7443961620176968740.args[0]\"]\n\t1714036227987191754 [label=\"Converter.convert\" id=-5477221866921420825]\n\t1714036227987191754 -> 4514098878626001444 [id=\"-5477221866921420825.args[0]\"]\n\t4514098878626001444 [label=\"NDArrayCompat.__add__\" id=183283635133801492]\n\t4514098878626001444 -> -251764288365888734 [id=\"183283635133801492.args[0]\"]\n\t-251764288365888734 [label=\"NDArrayCompat.from_ndarray\" id=1512960952093783306]\n\t-251764288365888734 -> -5700005666712022590 [id=\"1512960952093783306.args[0]\"]\n\t-5700005666712022590 [label=\"Abstraction.__call__\" id=6219386688534449398]\n\t-5700005666712022590 -> 2103808445426907327 [id=\"6219386688534449398.args[0]\"]\n\t2103808445426907327 [label=\"Abstraction.__add__\" id=1282662085958520030]\n\t2103808445426907327 -> 2988532155951106567 [id=\"1282662085958520030.args[0]\"]\n\t2988532155951106567 [label=\"Abstraction.create\" id=-1095585159230285059]\n\t2988532155951106567 -> 1275633262893457532 [id=\"-1095585159230285059.args[0]\"]\n\t1275633262893457532 [label=\"Abstraction.create_variable\" id=1275633262893457532]\n\t1275633262893457532 -> -4410156828438140928 [id=\"1275633262893457532.args[0]\"]\n\t-4410156828438140928 [label=\"Variable(4700587176)\" id=-4410156828438140928]\n\t2988532155951106567 -> -212784525855687111 [id=\"-1095585159230285059.args[1]\"]\n\t-212784525855687111 [label=\"Maybe.just\" id=-212784525855687111]\n\t-212784525855687111 -> 1275633262893457532 [id=\"-212784525855687111.args[0]\"]\n\t2103808445426907327 -> -5698281203918103133 [id=\"1282662085958520030.args[1]\"]\n\t-5698281203918103133 [label=\"Abstraction.create\" id=-5698281203918103133]\n\t-5698281203918103133 -> 9194089122223088133 [id=\"-5698281203918103133.args[0]\"]\n\t9194089122223088133 [label=\"Abstraction.create_variable\" id=9194089122223088133]\n\t9194089122223088133 -> 4813215188545805980 [id=\"9194089122223088133.args[0]\"]\n\t4813215188545805980 [label=\"Variable(4700356960)\" id=4813215188545805980]\n\t-5698281203918103133 -> -8340805333693998320 [id=\"-5698281203918103133.args[1]\"]\n\t-8340805333693998320 [label=arange_ id=-8340805333693998320]\n\t-8340805333693998320 -> 9194089122223088133 [id=\"-8340805333693998320.args[0]\"]\n\t-5700005666712022590 -> 579615478629357154 [id=\"6219386688534449398.args[1]\"]\n\t579615478629357154 [label=\"Integer.from_int\" id=579615478629357154]\n\t579615478629357154 -> 5838084232007047975 [id=\"579615478629357154.args[0]\"]\n\t5838084232007047975 [label=100 id=6003697446393151645]\n\t4514098878626001444 -> -251764288365888734 [id=\"183283635133801492.args[1]\"]\n\t6323230222169240643 -> -5922975291147053079 [id=\"7443961620176968740.args[1]\"]\n\t-5922975291147053079 [label=\"Maybe.__or__\" id=-7843556576460117514]\n\t-5922975291147053079 -> 4933073225671314959 [id=\"-7843556576460117514.args[0]\"]\n\t4933073225671314959 [label=\"Abstraction.__call__\" id=-5690444910203169095]\n\t4933073225671314959 -> 433862292497723445 [id=\"-5690444910203169095.args[0]\"]\n\t433862292497723445 [label=\"Abstraction.create\" id=3450467154562028908]\n\t433862292497723445 -> -1545244911588267049 [id=\"3450467154562028908.args[0]\"]\n\t-1545244911588267049 [label=\"Abstraction.create_variable\" id=-1545244911588267049]\n\t-1545244911588267049 -> 4813215200325843030 [id=\"-1545244911588267049.args[0]\"]\n\t4813215200325843030 [label=\"Variable(4700412224)\" id=4813215200325843030]\n\t433862292497723445 -> -2693218290189020775 [id=\"3450467154562028908.args[1]\"]\n\t-2693218290189020775 [label=\"Maybe.just\" id=-2693218290189020775]\n\t-2693218290189020775 -> 6527418092972046318 [id=\"-2693218290189020775.args[0]\"]\n\t6527418092972046318 [label=\"Either.left\" id=6527418092972046318]\n\t6527418092972046318 -> -1545244911588267049 [id=\"6527418092972046318.args[0]\"]\n\t4933073225671314959 -> 5109073286877630545 [id=\"-5690444910203169095.args[1]\"]\n\t5109073286877630545 [label=\"Integer.from_int\" id=5109073286877630545]\n\t5109073286877630545 -> 5838084232112052900 [id=\"5109073286877630545.args[0]\"]\n\t5838084232112052900 [label=5 id=7756835102063988763]\n\t-5922975291147053079 -> 1082193680570980265 [id=\"-7843556576460117514.args[1]\"]\n\t1082193680570980265 [label=\"Maybe.match\" id=1250312507332772438]\n\t1082193680570980265 -> 2944773798775947601 [id=\"1250312507332772438.args[0]\"]\n\t2944773798775947601 [label=\"Converter.convert\" id=2944773798775947601]\n\t2944773798775947601 -> 5838084232112052900 [id=\"2944773798775947601.args[0]\"]\n\t1082193680570980265 -> 2703072876348085923 [id=\"1250312507332772438.args[1]\"]\n\t2703072876348085923 [label=\"Maybe.nothing\" id=2703072876348085923]\n\t1082193680570980265 -> 1765229937423645188 [id=\"1250312507332772438.args[2]\"]\n\t1765229937423645188 [label=\"Abstraction.create\" id=7792348576416097263]\n\t1765229937423645188 -> 2897359456192805594 [id=\"7792348576416097263.args[0]\"]\n\t2897359456192805594 [label=\"Abstraction.create_variable\" id=2897359456192805594]\n\t2897359456192805594 -> 4813215207103532055 [id=\"2897359456192805594.args[0]\"]\n\t4813215207103532055 [label=\"Variable(4700573936)\" id=4813215207103532055]\n\t1765229937423645188 -> -6529800568714258019 [id=\"7792348576416097263.args[1]\"]\n\t-6529800568714258019 [label=\"Maybe.just\" id=-6529800568714258019]\n\t-6529800568714258019 -> 5299933280258969538 [id=\"-6529800568714258019.args[0]\"]\n\t5299933280258969538 [label=\"Either.right\" id=5299933280258969538]\n\t5299933280258969538 -> 2897359456192805594 [id=\"5299933280258969538.args[0]\"]\n\t1401308054352905831 -> -4664464520583065041 [id=\"-3654672770811511753.args[1]\"]\n\t-4664464520583065041 [label=\"Maybe.nothing\" id=-4664464520583065041]\n\t1401308054352905831 -> 8475390729817755043 [id=\"-3654672770811511753.args[2]\"]\n\t8475390729817755043 [label=\"Abstraction.create\" id=8475390729817755043]\n\t8475390729817755043 -> 8000944135531895841 [id=\"8475390729817755043.args[0]\"]\n\t8000944135531895841 [label=\"Abstraction.create_variable\" id=8000944135531895841]\n\t8000944135531895841 -> -4410156836406607453 [id=\"8000944135531895841.args[0]\"]\n\t-4410156836406607453 [label=\"Variable(4700410040)\" id=-4410156836406607453]\n\t8475390729817755043 -> 3516816812917669638 [id=\"8475390729817755043.args[1]\"]\n\t3516816812917669638 [label=\"Maybe.just\" id=3516816812917669638]\n\t3516816812917669638 -> -2031615137486694345 [id=\"3516816812917669638.args[0]\"]\n\t-2031615137486694345 [label=\"NDArray.__getitem__\" id=-2031615137486694345]\n\t-2031615137486694345 -> -6945356083866800944 [id=\"-2031615137486694345.args[0]\"]\n\t-6945356083866800944 [label=\"Pair.left\" id=-6945356083866800944]\n\t-6945356083866800944 -> 8000944135531895841 [id=\"-6945356083866800944.args[0]\"]\n\t-2031615137486694345 -> 1985814629941637880 [id=\"-2031615137486694345.args[1]\"]\n\t1985814629941637880 [label=\"Pair.right\" id=1985814629941637880]\n\t1985814629941637880 -> 8000944135531895841 [id=\"1985814629941637880.args[0]\"]\n}",
         "label": null,
         "rule": "metadsl_core.abstraction.compose"
        },
        {
         "graph": "digraph {\n\tnode [shape=plain]\n\tedge [arrowsize=0.5 penwidth=0.5]\n\t7360229284616055502 [label=\"NDArrayCompat.to_ndarray\" id=1935586180163463095]\n\t7360229284616055502 -> 4161632319428859438 [id=\"1935586180163463095.args[0]\"]\n\t4161632319428859438 [label=\"NDArrayCompat.from_ndarray\" id=-7585266382721542195]\n\t4161632319428859438 -> -4225154918214793363 [id=\"-7585266382721542195.args[0]\"]\n\t-4225154918214793363 [label=\"Maybe.match\" id=-3654672770811511753]\n\t-4225154918214793363 -> 2632161455465107062 [id=\"-3654672770811511753.args[0]\"]\n\t2632161455465107062 [label=\"Maybe.__and__\" id=7443961620176968740]\n\t2632161455465107062 -> 1714036227987191754 [id=\"7443961620176968740.args[0]\"]\n\t1714036227987191754 [label=\"Converter.convert\" id=-5477221866921420825]\n\t1714036227987191754 -> 4514098878626001444 [id=\"-5477221866921420825.args[0]\"]\n\t4514098878626001444 [label=\"NDArrayCompat.__add__\" id=183283635133801492]\n\t4514098878626001444 -> -251764288365888734 [id=\"183283635133801492.args[0]\"]\n\t-251764288365888734 [label=\"NDArrayCompat.from_ndarray\" id=1512960952093783306]\n\t-251764288365888734 -> -5700005666712022590 [id=\"1512960952093783306.args[0]\"]\n\t-5700005666712022590 [label=\"Abstraction.__call__\" id=6219386688534449398]\n\t-5700005666712022590 -> 2103808445426907327 [id=\"6219386688534449398.args[0]\"]\n\t2103808445426907327 [label=\"Abstraction.__add__\" id=1282662085958520030]\n\t2103808445426907327 -> 2988532155951106567 [id=\"1282662085958520030.args[0]\"]\n\t2988532155951106567 [label=\"Abstraction.create\" id=-1095585159230285059]\n\t2988532155951106567 -> 1275633262893457532 [id=\"-1095585159230285059.args[0]\"]\n\t1275633262893457532 [label=\"Abstraction.create_variable\" id=1275633262893457532]\n\t1275633262893457532 -> -4410156828438140928 [id=\"1275633262893457532.args[0]\"]\n\t-4410156828438140928 [label=\"Variable(4700587176)\" id=-4410156828438140928]\n\t2988532155951106567 -> -212784525855687111 [id=\"-1095585159230285059.args[1]\"]\n\t-212784525855687111 [label=\"Maybe.just\" id=-212784525855687111]\n\t-212784525855687111 -> 1275633262893457532 [id=\"-212784525855687111.args[0]\"]\n\t2103808445426907327 -> -5698281203918103133 [id=\"1282662085958520030.args[1]\"]\n\t-5698281203918103133 [label=\"Abstraction.create\" id=-5698281203918103133]\n\t-5698281203918103133 -> 9194089122223088133 [id=\"-5698281203918103133.args[0]\"]\n\t9194089122223088133 [label=\"Abstraction.create_variable\" id=9194089122223088133]\n\t9194089122223088133 -> 4813215188545805980 [id=\"9194089122223088133.args[0]\"]\n\t4813215188545805980 [label=\"Variable(4700356960)\" id=4813215188545805980]\n\t-5698281203918103133 -> -8340805333693998320 [id=\"-5698281203918103133.args[1]\"]\n\t-8340805333693998320 [label=arange_ id=-8340805333693998320]\n\t-8340805333693998320 -> 9194089122223088133 [id=\"-8340805333693998320.args[0]\"]\n\t-5700005666712022590 -> 579615478629357154 [id=\"6219386688534449398.args[1]\"]\n\t579615478629357154 [label=\"Integer.from_int\" id=579615478629357154]\n\t579615478629357154 -> 5838084232007047975 [id=\"579615478629357154.args[0]\"]\n\t5838084232007047975 [label=100 id=6003697446393151645]\n\t4514098878626001444 -> -251764288365888734 [id=\"183283635133801492.args[1]\"]\n\t2632161455465107062 -> 8755490275676031113 [id=\"7443961620176968740.args[1]\"]\n\t8755490275676031113 [label=\"Maybe.__or__\" id=-7843556576460117514]\n\t8755490275676031113 -> -3000247746444544398 [id=\"-7843556576460117514.args[0]\"]\n\t-3000247746444544398 [label=\"Maybe.just\" id=-5690444910203169095]\n\t-3000247746444544398 -> -7067585356806477310 [id=\"-5690444910203169095.args[0]\"]\n\t-7067585356806477310 [label=\"Either.left\" id=-7067585356806477310]\n\t-7067585356806477310 -> 5109073286877630545 [id=\"-7067585356806477310.args[0]\"]\n\t5109073286877630545 [label=\"Integer.from_int\" id=5109073286877630545]\n\t5109073286877630545 -> 5838084232112052900 [id=\"5109073286877630545.args[0]\"]\n\t5838084232112052900 [label=5 id=7756835102063988763]\n\t8755490275676031113 -> 1082193680570980265 [id=\"-7843556576460117514.args[1]\"]\n\t1082193680570980265 [label=\"Maybe.match\" id=1250312507332772438]\n\t1082193680570980265 -> 2944773798775947601 [id=\"1250312507332772438.args[0]\"]\n\t2944773798775947601 [label=\"Converter.convert\" id=2944773798775947601]\n\t2944773798775947601 -> 5838084232112052900 [id=\"2944773798775947601.args[0]\"]\n\t1082193680570980265 -> 2703072876348085923 [id=\"1250312507332772438.args[1]\"]\n\t2703072876348085923 [label=\"Maybe.nothing\" id=2703072876348085923]\n\t1082193680570980265 -> 1765229937423645188 [id=\"1250312507332772438.args[2]\"]\n\t1765229937423645188 [label=\"Abstraction.create\" id=7792348576416097263]\n\t1765229937423645188 -> 2897359456192805594 [id=\"7792348576416097263.args[0]\"]\n\t2897359456192805594 [label=\"Abstraction.create_variable\" id=2897359456192805594]\n\t2897359456192805594 -> 4813215207103532055 [id=\"2897359456192805594.args[0]\"]\n\t4813215207103532055 [label=\"Variable(4700573936)\" id=4813215207103532055]\n\t1765229937423645188 -> -6529800568714258019 [id=\"7792348576416097263.args[1]\"]\n\t-6529800568714258019 [label=\"Maybe.just\" id=-6529800568714258019]\n\t-6529800568714258019 -> 5299933280258969538 [id=\"-6529800568714258019.args[0]\"]\n\t5299933280258969538 [label=\"Either.right\" id=5299933280258969538]\n\t5299933280258969538 -> 2897359456192805594 [id=\"5299933280258969538.args[0]\"]\n\t-4225154918214793363 -> -4664464520583065041 [id=\"-3654672770811511753.args[1]\"]\n\t-4664464520583065041 [label=\"Maybe.nothing\" id=-4664464520583065041]\n\t-4225154918214793363 -> 8475390729817755043 [id=\"-3654672770811511753.args[2]\"]\n\t8475390729817755043 [label=\"Abstraction.create\" id=8475390729817755043]\n\t8475390729817755043 -> 8000944135531895841 [id=\"8475390729817755043.args[0]\"]\n\t8000944135531895841 [label=\"Abstraction.create_variable\" id=8000944135531895841]\n\t8000944135531895841 -> -4410156836406607453 [id=\"8000944135531895841.args[0]\"]\n\t-4410156836406607453 [label=\"Variable(4700410040)\" id=-4410156836406607453]\n\t8475390729817755043 -> 3516816812917669638 [id=\"8475390729817755043.args[1]\"]\n\t3516816812917669638 [label=\"Maybe.just\" id=3516816812917669638]\n\t3516816812917669638 -> -2031615137486694345 [id=\"3516816812917669638.args[0]\"]\n\t-2031615137486694345 [label=\"NDArray.__getitem__\" id=-2031615137486694345]\n\t-2031615137486694345 -> -6945356083866800944 [id=\"-2031615137486694345.args[0]\"]\n\t-6945356083866800944 [label=\"Pair.left\" id=-6945356083866800944]\n\t-6945356083866800944 -> 8000944135531895841 [id=\"-6945356083866800944.args[0]\"]\n\t-2031615137486694345 -> 1985814629941637880 [id=\"-2031615137486694345.args[1]\"]\n\t1985814629941637880 [label=\"Pair.right\" id=1985814629941637880]\n\t1985814629941637880 -> 8000944135531895841 [id=\"1985814629941637880.args[0]\"]\n}",
         "label": null,
         "rule": "metadsl_core.abstraction.beta_reduce"
        },
        {
         "graph": "digraph {\n\tnode [shape=plain]\n\tedge [arrowsize=0.5 penwidth=0.5]\n\t5250281446577272986 [label=\"NDArrayCompat.to_ndarray\" id=1935586180163463095]\n\t5250281446577272986 -> 4508445537048850066 [id=\"1935586180163463095.args[0]\"]\n\t4508445537048850066 [label=\"NDArrayCompat.from_ndarray\" id=-7585266382721542195]\n\t4508445537048850066 -> 5886063245101475086 [id=\"-7585266382721542195.args[0]\"]\n\t5886063245101475086 [label=\"Maybe.match\" id=-3654672770811511753]\n\t5886063245101475086 -> -1170866238113857522 [id=\"-3654672770811511753.args[0]\"]\n\t-1170866238113857522 [label=\"Maybe.__and__\" id=7443961620176968740]\n\t-1170866238113857522 -> 1714036227987191754 [id=\"7443961620176968740.args[0]\"]\n\t1714036227987191754 [label=\"Converter.convert\" id=-5477221866921420825]\n\t1714036227987191754 -> 4514098878626001444 [id=\"-5477221866921420825.args[0]\"]\n\t4514098878626001444 [label=\"NDArrayCompat.__add__\" id=183283635133801492]\n\t4514098878626001444 -> -251764288365888734 [id=\"183283635133801492.args[0]\"]\n\t-251764288365888734 [label=\"NDArrayCompat.from_ndarray\" id=1512960952093783306]\n\t-251764288365888734 -> -5700005666712022590 [id=\"1512960952093783306.args[0]\"]\n\t-5700005666712022590 [label=\"Abstraction.__call__\" id=6219386688534449398]\n\t-5700005666712022590 -> 2103808445426907327 [id=\"6219386688534449398.args[0]\"]\n\t2103808445426907327 [label=\"Abstraction.__add__\" id=1282662085958520030]\n\t2103808445426907327 -> 2988532155951106567 [id=\"1282662085958520030.args[0]\"]\n\t2988532155951106567 [label=\"Abstraction.create\" id=-1095585159230285059]\n\t2988532155951106567 -> 1275633262893457532 [id=\"-1095585159230285059.args[0]\"]\n\t1275633262893457532 [label=\"Abstraction.create_variable\" id=1275633262893457532]\n\t1275633262893457532 -> -4410156828438140928 [id=\"1275633262893457532.args[0]\"]\n\t-4410156828438140928 [label=\"Variable(4700587176)\" id=-4410156828438140928]\n\t2988532155951106567 -> -212784525855687111 [id=\"-1095585159230285059.args[1]\"]\n\t-212784525855687111 [label=\"Maybe.just\" id=-212784525855687111]\n\t-212784525855687111 -> 1275633262893457532 [id=\"-212784525855687111.args[0]\"]\n\t2103808445426907327 -> -5698281203918103133 [id=\"1282662085958520030.args[1]\"]\n\t-5698281203918103133 [label=\"Abstraction.create\" id=-5698281203918103133]\n\t-5698281203918103133 -> 9194089122223088133 [id=\"-5698281203918103133.args[0]\"]\n\t9194089122223088133 [label=\"Abstraction.create_variable\" id=9194089122223088133]\n\t9194089122223088133 -> 4813215188545805980 [id=\"9194089122223088133.args[0]\"]\n\t4813215188545805980 [label=\"Variable(4700356960)\" id=4813215188545805980]\n\t-5698281203918103133 -> -8340805333693998320 [id=\"-5698281203918103133.args[1]\"]\n\t-8340805333693998320 [label=arange_ id=-8340805333693998320]\n\t-8340805333693998320 -> 9194089122223088133 [id=\"-8340805333693998320.args[0]\"]\n\t-5700005666712022590 -> 579615478629357154 [id=\"6219386688534449398.args[1]\"]\n\t579615478629357154 [label=\"Integer.from_int\" id=579615478629357154]\n\t579615478629357154 -> 5838084232007047975 [id=\"579615478629357154.args[0]\"]\n\t5838084232007047975 [label=100 id=6003697446393151645]\n\t4514098878626001444 -> -251764288365888734 [id=\"183283635133801492.args[1]\"]\n\t-1170866238113857522 -> -255592637557283532 [id=\"7443961620176968740.args[1]\"]\n\t-255592637557283532 [label=\"Maybe.just\" id=-7843556576460117514]\n\t-255592637557283532 -> -7067585356806477310 [id=\"-7843556576460117514.args[0]\"]\n\t-7067585356806477310 [label=\"Either.left\" id=-7067585356806477310]\n\t-7067585356806477310 -> 5109073286877630545 [id=\"-7067585356806477310.args[0]\"]\n\t5109073286877630545 [label=\"Integer.from_int\" id=5109073286877630545]\n\t5109073286877630545 -> 5838084232112052900 [id=\"5109073286877630545.args[0]\"]\n\t5838084232112052900 [label=5 id=7756835102063988763]\n\t5886063245101475086 -> -4664464520583065041 [id=\"-3654672770811511753.args[1]\"]\n\t-4664464520583065041 [label=\"Maybe.nothing\" id=-4664464520583065041]\n\t5886063245101475086 -> 8475390729817755043 [id=\"-3654672770811511753.args[2]\"]\n\t8475390729817755043 [label=\"Abstraction.create\" id=8475390729817755043]\n\t8475390729817755043 -> 8000944135531895841 [id=\"8475390729817755043.args[0]\"]\n\t8000944135531895841 [label=\"Abstraction.create_variable\" id=8000944135531895841]\n\t8000944135531895841 -> -4410156836406607453 [id=\"8000944135531895841.args[0]\"]\n\t-4410156836406607453 [label=\"Variable(4700410040)\" id=-4410156836406607453]\n\t8475390729817755043 -> 3516816812917669638 [id=\"8475390729817755043.args[1]\"]\n\t3516816812917669638 [label=\"Maybe.just\" id=3516816812917669638]\n\t3516816812917669638 -> -2031615137486694345 [id=\"3516816812917669638.args[0]\"]\n\t-2031615137486694345 [label=\"NDArray.__getitem__\" id=-2031615137486694345]\n\t-2031615137486694345 -> -6945356083866800944 [id=\"-2031615137486694345.args[0]\"]\n\t-6945356083866800944 [label=\"Pair.left\" id=-6945356083866800944]\n\t-6945356083866800944 -> 8000944135531895841 [id=\"-6945356083866800944.args[0]\"]\n\t-2031615137486694345 -> 1985814629941637880 [id=\"-2031615137486694345.args[1]\"]\n\t1985814629941637880 [label=\"Pair.right\" id=1985814629941637880]\n\t1985814629941637880 -> 8000944135531895841 [id=\"1985814629941637880.args[0]\"]\n}",
         "label": null,
         "rule": "metadsl_core.maybe.maybe_or"
        },
        {
         "graph": "digraph {\n\tnode [shape=plain]\n\tedge [arrowsize=0.5 penwidth=0.5]\n\t8445193625642774036 [label=\"NDArrayCompat.to_ndarray\" id=1935586180163463095]\n\t8445193625642774036 -> 6662354778056765243 [id=\"1935586180163463095.args[0]\"]\n\t6662354778056765243 [label=\"NDArrayCompat.from_ndarray\" id=-7585266382721542195]\n\t6662354778056765243 -> -5288385667088515929 [id=\"-7585266382721542195.args[0]\"]\n\t-5288385667088515929 [label=\"Maybe.match\" id=-3654672770811511753]\n\t-5288385667088515929 -> -7705503228706736504 [id=\"-3654672770811511753.args[0]\"]\n\t-7705503228706736504 [label=\"Maybe.__and__\" id=7443961620176968740]\n\t-7705503228706736504 -> 2413545698962773875 [id=\"7443961620176968740.args[0]\"]\n\t2413545698962773875 [label=\"Converter.convert\" id=-5477221866921420825]\n\t2413545698962773875 -> 5669118298743038606 [id=\"-5477221866921420825.args[0]\"]\n\t5669118298743038606 [label=\"NDArrayCompat.__add__\" id=183283635133801492]\n\t5669118298743038606 -> -8495777224032315590 [id=\"183283635133801492.args[0]\"]\n\t-8495777224032315590 [label=\"NDArrayCompat.from_ndarray\" id=1512960952093783306]\n\t-8495777224032315590 -> 435781563503214024 [id=\"1512960952093783306.args[0]\"]\n\t435781563503214024 [label=\"Abstraction.__call__\" id=6219386688534449398]\n\t435781563503214024 -> 2530259429743458212 [id=\"6219386688534449398.args[0]\"]\n\t2530259429743458212 [label=\"Abstraction.create\" id=1282662085958520030]\n\t2530259429743458212 -> 9194089122223088133 [id=\"1282662085958520030.args[0]\"]\n\t9194089122223088133 [label=\"Abstraction.create_variable\" id=9194089122223088133]\n\t9194089122223088133 -> 4813215188545805980 [id=\"9194089122223088133.args[0]\"]\n\t4813215188545805980 [label=\"Variable(4700356960)\" id=4813215188545805980]\n\t2530259429743458212 -> -5998932024889342076 [id=\"1282662085958520030.args[1]\"]\n\t-5998932024889342076 [label=\"Maybe.just\" id=-5998932024889342076]\n\t-5998932024889342076 -> -8340805333693998320 [id=\"-5998932024889342076.args[0]\"]\n\t-8340805333693998320 [label=arange_ id=-8340805333693998320]\n\t-8340805333693998320 -> 9194089122223088133 [id=\"-8340805333693998320.args[0]\"]\n\t435781563503214024 -> 579615478629357154 [id=\"6219386688534449398.args[1]\"]\n\t579615478629357154 [label=\"Integer.from_int\" id=579615478629357154]\n\t579615478629357154 -> 5838084232007047975 [id=\"579615478629357154.args[0]\"]\n\t5838084232007047975 [label=100 id=6003697446393151645]\n\t5669118298743038606 -> -8495777224032315590 [id=\"183283635133801492.args[1]\"]\n\t-7705503228706736504 -> -255592637557283532 [id=\"7443961620176968740.args[1]\"]\n\t-255592637557283532 [label=\"Maybe.just\" id=-7843556576460117514]\n\t-255592637557283532 -> -7067585356806477310 [id=\"-7843556576460117514.args[0]\"]\n\t-7067585356806477310 [label=\"Either.left\" id=-7067585356806477310]\n\t-7067585356806477310 -> 5109073286877630545 [id=\"-7067585356806477310.args[0]\"]\n\t5109073286877630545 [label=\"Integer.from_int\" id=5109073286877630545]\n\t5109073286877630545 -> 5838084232112052900 [id=\"5109073286877630545.args[0]\"]\n\t5838084232112052900 [label=5 id=7756835102063988763]\n\t-5288385667088515929 -> -4664464520583065041 [id=\"-3654672770811511753.args[1]\"]\n\t-4664464520583065041 [label=\"Maybe.nothing\" id=-4664464520583065041]\n\t-5288385667088515929 -> 8475390729817755043 [id=\"-3654672770811511753.args[2]\"]\n\t8475390729817755043 [label=\"Abstraction.create\" id=8475390729817755043]\n\t8475390729817755043 -> 8000944135531895841 [id=\"8475390729817755043.args[0]\"]\n\t8000944135531895841 [label=\"Abstraction.create_variable\" id=8000944135531895841]\n\t8000944135531895841 -> -4410156836406607453 [id=\"8000944135531895841.args[0]\"]\n\t-4410156836406607453 [label=\"Variable(4700410040)\" id=-4410156836406607453]\n\t8475390729817755043 -> 3516816812917669638 [id=\"8475390729817755043.args[1]\"]\n\t3516816812917669638 [label=\"Maybe.just\" id=3516816812917669638]\n\t3516816812917669638 -> -2031615137486694345 [id=\"3516816812917669638.args[0]\"]\n\t-2031615137486694345 [label=\"NDArray.__getitem__\" id=-2031615137486694345]\n\t-2031615137486694345 -> -6945356083866800944 [id=\"-2031615137486694345.args[0]\"]\n\t-6945356083866800944 [label=\"Pair.left\" id=-6945356083866800944]\n\t-6945356083866800944 -> 8000944135531895841 [id=\"-6945356083866800944.args[0]\"]\n\t-2031615137486694345 -> 1985814629941637880 [id=\"-2031615137486694345.args[1]\"]\n\t1985814629941637880 [label=\"Pair.right\" id=1985814629941637880]\n\t1985814629941637880 -> 8000944135531895841 [id=\"1985814629941637880.args[0]\"]\n}",
         "label": null,
         "rule": "metadsl_core.abstraction.compose"
        },
        {
         "graph": "digraph {\n\tnode [shape=plain]\n\tedge [arrowsize=0.5 penwidth=0.5]\n\t7200362942053490364 [label=\"NDArrayCompat.to_ndarray\" id=1935586180163463095]\n\t7200362942053490364 -> 9032225937030500594 [id=\"1935586180163463095.args[0]\"]\n\t9032225937030500594 [label=\"NDArrayCompat.from_ndarray\" id=-7585266382721542195]\n\t9032225937030500594 -> 7320115034193138157 [id=\"-7585266382721542195.args[0]\"]\n\t7320115034193138157 [label=\"Maybe.match\" id=-3654672770811511753]\n\t7320115034193138157 -> -3884415917423819528 [id=\"-3654672770811511753.args[0]\"]\n\t-3884415917423819528 [label=\"Maybe.__and__\" id=7443961620176968740]\n\t-3884415917423819528 -> 3246722563793329763 [id=\"7443961620176968740.args[0]\"]\n\t3246722563793329763 [label=\"Converter.convert\" id=-5477221866921420825]\n\t3246722563793329763 -> 5624114912053899358 [id=\"-5477221866921420825.args[0]\"]\n\t5624114912053899358 [label=\"NDArrayCompat.__add__\" id=183283635133801492]\n\t5624114912053899358 -> 2699990931408063806 [id=\"183283635133801492.args[0]\"]\n\t2699990931408063806 [label=\"NDArrayCompat.from_ndarray\" id=1512960952093783306]\n\t2699990931408063806 -> -8709039676988586081 [id=\"1512960952093783306.args[0]\"]\n\t-8709039676988586081 [label=\"Maybe.just\" id=6219386688534449398]\n\t-8709039676988586081 -> 1492449749867095234 [id=\"6219386688534449398.args[0]\"]\n\t1492449749867095234 [label=arange_ id=1492449749867095234]\n\t1492449749867095234 -> 579615478629357154 [id=\"1492449749867095234.args[0]\"]\n\t579615478629357154 [label=\"Integer.from_int\" id=579615478629357154]\n\t579615478629357154 -> 5838084232007047975 [id=\"579615478629357154.args[0]\"]\n\t5838084232007047975 [label=100 id=6003697446393151645]\n\t5624114912053899358 -> 2699990931408063806 [id=\"183283635133801492.args[1]\"]\n\t-3884415917423819528 -> -255592637557283532 [id=\"7443961620176968740.args[1]\"]\n\t-255592637557283532 [label=\"Maybe.just\" id=-7843556576460117514]\n\t-255592637557283532 -> -7067585356806477310 [id=\"-7843556576460117514.args[0]\"]\n\t-7067585356806477310 [label=\"Either.left\" id=-7067585356806477310]\n\t-7067585356806477310 -> 5109073286877630545 [id=\"-7067585356806477310.args[0]\"]\n\t5109073286877630545 [label=\"Integer.from_int\" id=5109073286877630545]\n\t5109073286877630545 -> 5838084232112052900 [id=\"5109073286877630545.args[0]\"]\n\t5838084232112052900 [label=5 id=7756835102063988763]\n\t7320115034193138157 -> -4664464520583065041 [id=\"-3654672770811511753.args[1]\"]\n\t-4664464520583065041 [label=\"Maybe.nothing\" id=-4664464520583065041]\n\t7320115034193138157 -> 8475390729817755043 [id=\"-3654672770811511753.args[2]\"]\n\t8475390729817755043 [label=\"Abstraction.create\" id=8475390729817755043]\n\t8475390729817755043 -> 8000944135531895841 [id=\"8475390729817755043.args[0]\"]\n\t8000944135531895841 [label=\"Abstraction.create_variable\" id=8000944135531895841]\n\t8000944135531895841 -> -4410156836406607453 [id=\"8000944135531895841.args[0]\"]\n\t-4410156836406607453 [label=\"Variable(4700410040)\" id=-4410156836406607453]\n\t8475390729817755043 -> 3516816812917669638 [id=\"8475390729817755043.args[1]\"]\n\t3516816812917669638 [label=\"Maybe.just\" id=3516816812917669638]\n\t3516816812917669638 -> -2031615137486694345 [id=\"3516816812917669638.args[0]\"]\n\t-2031615137486694345 [label=\"NDArray.__getitem__\" id=-2031615137486694345]\n\t-2031615137486694345 -> -6945356083866800944 [id=\"-2031615137486694345.args[0]\"]\n\t-6945356083866800944 [label=\"Pair.left\" id=-6945356083866800944]\n\t-6945356083866800944 -> 8000944135531895841 [id=\"-6945356083866800944.args[0]\"]\n\t-2031615137486694345 -> 1985814629941637880 [id=\"-2031615137486694345.args[1]\"]\n\t1985814629941637880 [label=\"Pair.right\" id=1985814629941637880]\n\t1985814629941637880 -> 8000944135531895841 [id=\"1985814629941637880.args[0]\"]\n}",
         "label": null,
         "rule": "metadsl_core.abstraction.beta_reduce"
        },
        {
         "graph": "digraph {\n\tnode [shape=plain]\n\tedge [arrowsize=0.5 penwidth=0.5]\n\t-2706252334691809364 [label=\"NDArrayCompat.to_ndarray\" id=1935586180163463095]\n\t-2706252334691809364 -> 7765880682925208098 [id=\"1935586180163463095.args[0]\"]\n\t7765880682925208098 [label=\"NDArrayCompat.from_ndarray\" id=-7585266382721542195]\n\t7765880682925208098 -> -928583236105201472 [id=\"-7585266382721542195.args[0]\"]\n\t-928583236105201472 [label=\"Maybe.match\" id=-3654672770811511753]\n\t-928583236105201472 -> 3872101413456062539 [id=\"-3654672770811511753.args[0]\"]\n\t3872101413456062539 [label=\"Maybe.__and__\" id=7443961620176968740]\n\t3872101413456062539 -> -2822577839386693752 [id=\"7443961620176968740.args[0]\"]\n\t-2822577839386693752 [label=\"Converter.convert\" id=-5477221866921420825]\n\t-2822577839386693752 -> -1011633400249230129 [id=\"-5477221866921420825.args[0]\"]\n\t-1011633400249230129 [label=\"NDArrayCompat.from_ndarray\" id=183283635133801492]\n\t-1011633400249230129 -> -6045266018355487893 [id=\"183283635133801492.args[0]\"]\n\t-6045266018355487893 [label=\"Maybe.just\" id=-5477221866921420825]\n\t-6045266018355487893 -> -4619107828061912794 [id=\"-5477221866921420825.args[0]\"]\n\t-4619107828061912794 [label=\"NDArray.__add__\" id=-4619107828061912794]\n\t-4619107828061912794 -> 1492449749867095234 [id=\"-4619107828061912794.args[0]\"]\n\t1492449749867095234 [label=arange_ id=1492449749867095234]\n\t1492449749867095234 -> 579615478629357154 [id=\"1492449749867095234.args[0]\"]\n\t579615478629357154 [label=\"Integer.from_int\" id=579615478629357154]\n\t579615478629357154 -> 5838084232007047975 [id=\"579615478629357154.args[0]\"]\n\t5838084232007047975 [label=100 id=6003697446393151645]\n\t-4619107828061912794 -> 1492449749867095234 [id=\"-4619107828061912794.args[1]\"]\n\t3872101413456062539 -> -255592637557283532 [id=\"7443961620176968740.args[1]\"]\n\t-255592637557283532 [label=\"Maybe.just\" id=-7843556576460117514]\n\t-255592637557283532 -> -7067585356806477310 [id=\"-7843556576460117514.args[0]\"]\n\t-7067585356806477310 [label=\"Either.left\" id=-7067585356806477310]\n\t-7067585356806477310 -> 5109073286877630545 [id=\"-7067585356806477310.args[0]\"]\n\t5109073286877630545 [label=\"Integer.from_int\" id=5109073286877630545]\n\t5109073286877630545 -> 5838084232112052900 [id=\"5109073286877630545.args[0]\"]\n\t5838084232112052900 [label=5 id=7756835102063988763]\n\t-928583236105201472 -> -4664464520583065041 [id=\"-3654672770811511753.args[1]\"]\n\t-4664464520583065041 [label=\"Maybe.nothing\" id=-4664464520583065041]\n\t-928583236105201472 -> 8475390729817755043 [id=\"-3654672770811511753.args[2]\"]\n\t8475390729817755043 [label=\"Abstraction.create\" id=8475390729817755043]\n\t8475390729817755043 -> 8000944135531895841 [id=\"8475390729817755043.args[0]\"]\n\t8000944135531895841 [label=\"Abstraction.create_variable\" id=8000944135531895841]\n\t8000944135531895841 -> -4410156836406607453 [id=\"8000944135531895841.args[0]\"]\n\t-4410156836406607453 [label=\"Variable(4700410040)\" id=-4410156836406607453]\n\t8475390729817755043 -> 3516816812917669638 [id=\"8475390729817755043.args[1]\"]\n\t3516816812917669638 [label=\"Maybe.just\" id=3516816812917669638]\n\t3516816812917669638 -> -2031615137486694345 [id=\"3516816812917669638.args[0]\"]\n\t-2031615137486694345 [label=\"NDArray.__getitem__\" id=-2031615137486694345]\n\t-2031615137486694345 -> -6945356083866800944 [id=\"-2031615137486694345.args[0]\"]\n\t-6945356083866800944 [label=\"Pair.left\" id=-6945356083866800944]\n\t-6945356083866800944 -> 8000944135531895841 [id=\"-6945356083866800944.args[0]\"]\n\t-2031615137486694345 -> 1985814629941637880 [id=\"-2031615137486694345.args[1]\"]\n\t1985814629941637880 [label=\"Pair.right\" id=1985814629941637880]\n\t1985814629941637880 -> 8000944135531895841 [id=\"1985814629941637880.args[0]\"]\n}",
         "label": null,
         "rule": "metadsl_core.numpy.add_compat"
        },
        {
         "graph": "digraph {\n\tnode [shape=plain]\n\tedge [arrowsize=0.5 penwidth=0.5]\n\t6487425234600445546 [label=\"NDArrayCompat.to_ndarray\" id=1935586180163463095]\n\t6487425234600445546 -> -7109627650996221658 [id=\"1935586180163463095.args[0]\"]\n\t-7109627650996221658 [label=\"NDArrayCompat.from_ndarray\" id=-7585266382721542195]\n\t-7109627650996221658 -> 4783284794499366098 [id=\"-7585266382721542195.args[0]\"]\n\t4783284794499366098 [label=\"Maybe.match\" id=-3654672770811511753]\n\t4783284794499366098 -> -7640308243335310651 [id=\"-3654672770811511753.args[0]\"]\n\t-7640308243335310651 [label=\"Maybe.__and__\" id=7443961620176968740]\n\t-7640308243335310651 -> -6045266018355487893 [id=\"7443961620176968740.args[0]\"]\n\t-6045266018355487893 [label=\"Maybe.just\" id=-5477221866921420825]\n\t-6045266018355487893 -> -4619107828061912794 [id=\"-5477221866921420825.args[0]\"]\n\t-4619107828061912794 [label=\"NDArray.__add__\" id=-4619107828061912794]\n\t-4619107828061912794 -> 1492449749867095234 [id=\"-4619107828061912794.args[0]\"]\n\t1492449749867095234 [label=arange_ id=1492449749867095234]\n\t1492449749867095234 -> 579615478629357154 [id=\"1492449749867095234.args[0]\"]\n\t579615478629357154 [label=\"Integer.from_int\" id=579615478629357154]\n\t579615478629357154 -> 5838084232007047975 [id=\"579615478629357154.args[0]\"]\n\t5838084232007047975 [label=100 id=6003697446393151645]\n\t-4619107828061912794 -> 1492449749867095234 [id=\"-4619107828061912794.args[1]\"]\n\t-7640308243335310651 -> -255592637557283532 [id=\"7443961620176968740.args[1]\"]\n\t-255592637557283532 [label=\"Maybe.just\" id=-7843556576460117514]\n\t-255592637557283532 -> -7067585356806477310 [id=\"-7843556576460117514.args[0]\"]\n\t-7067585356806477310 [label=\"Either.left\" id=-7067585356806477310]\n\t-7067585356806477310 -> 5109073286877630545 [id=\"-7067585356806477310.args[0]\"]\n\t5109073286877630545 [label=\"Integer.from_int\" id=5109073286877630545]\n\t5109073286877630545 -> 5838084232112052900 [id=\"5109073286877630545.args[0]\"]\n\t5838084232112052900 [label=5 id=7756835102063988763]\n\t4783284794499366098 -> -4664464520583065041 [id=\"-3654672770811511753.args[1]\"]\n\t-4664464520583065041 [label=\"Maybe.nothing\" id=-4664464520583065041]\n\t4783284794499366098 -> 8475390729817755043 [id=\"-3654672770811511753.args[2]\"]\n\t8475390729817755043 [label=\"Abstraction.create\" id=8475390729817755043]\n\t8475390729817755043 -> 8000944135531895841 [id=\"8475390729817755043.args[0]\"]\n\t8000944135531895841 [label=\"Abstraction.create_variable\" id=8000944135531895841]\n\t8000944135531895841 -> -4410156836406607453 [id=\"8000944135531895841.args[0]\"]\n\t-4410156836406607453 [label=\"Variable(4700410040)\" id=-4410156836406607453]\n\t8475390729817755043 -> 3516816812917669638 [id=\"8475390729817755043.args[1]\"]\n\t3516816812917669638 [label=\"Maybe.just\" id=3516816812917669638]\n\t3516816812917669638 -> -2031615137486694345 [id=\"3516816812917669638.args[0]\"]\n\t-2031615137486694345 [label=\"NDArray.__getitem__\" id=-2031615137486694345]\n\t-2031615137486694345 -> -6945356083866800944 [id=\"-2031615137486694345.args[0]\"]\n\t-6945356083866800944 [label=\"Pair.left\" id=-6945356083866800944]\n\t-6945356083866800944 -> 8000944135531895841 [id=\"-6945356083866800944.args[0]\"]\n\t-2031615137486694345 -> 1985814629941637880 [id=\"-2031615137486694345.args[1]\"]\n\t1985814629941637880 [label=\"Pair.right\" id=1985814629941637880]\n\t1985814629941637880 -> 8000944135531895841 [id=\"1985814629941637880.args[0]\"]\n}",
         "label": null,
         "rule": "metadsl_core.numpy.convert_to_ndarray"
        },
        {
         "graph": "digraph {\n\tnode [shape=plain]\n\tedge [arrowsize=0.5 penwidth=0.5]\n\t6640078072669326382 [label=\"NDArrayCompat.to_ndarray\" id=1935586180163463095]\n\t6640078072669326382 -> 3902679420699052814 [id=\"1935586180163463095.args[0]\"]\n\t3902679420699052814 [label=\"NDArrayCompat.from_ndarray\" id=-7585266382721542195]\n\t3902679420699052814 -> 1656506606529607116 [id=\"-7585266382721542195.args[0]\"]\n\t1656506606529607116 [label=\"Maybe.match\" id=-3654672770811511753]\n\t1656506606529607116 -> 5252046903394539286 [id=\"-3654672770811511753.args[0]\"]\n\t5252046903394539286 [label=\"Maybe.just\" id=7443961620176968740]\n\t5252046903394539286 -> 643017614923179061 [id=\"7443961620176968740.args[0]\"]\n\t643017614923179061 [label=\"Pair.create\" id=643017614923179061]\n\t643017614923179061 -> -4619107828061912794 [id=\"643017614923179061.args[0]\"]\n\t-4619107828061912794 [label=\"NDArray.__add__\" id=-4619107828061912794]\n\t-4619107828061912794 -> 1492449749867095234 [id=\"-4619107828061912794.args[0]\"]\n\t1492449749867095234 [label=arange_ id=1492449749867095234]\n\t1492449749867095234 -> 579615478629357154 [id=\"1492449749867095234.args[0]\"]\n\t579615478629357154 [label=\"Integer.from_int\" id=579615478629357154]\n\t579615478629357154 -> 5838084232007047975 [id=\"579615478629357154.args[0]\"]\n\t5838084232007047975 [label=100 id=6003697446393151645]\n\t-4619107828061912794 -> 1492449749867095234 [id=\"-4619107828061912794.args[1]\"]\n\t643017614923179061 -> -7067585356806477310 [id=\"643017614923179061.args[1]\"]\n\t-7067585356806477310 [label=\"Either.left\" id=-7067585356806477310]\n\t-7067585356806477310 -> 5109073286877630545 [id=\"-7067585356806477310.args[0]\"]\n\t5109073286877630545 [label=\"Integer.from_int\" id=5109073286877630545]\n\t5109073286877630545 -> 5838084232112052900 [id=\"5109073286877630545.args[0]\"]\n\t5838084232112052900 [label=5 id=7756835102063988763]\n\t1656506606529607116 -> -4664464520583065041 [id=\"-3654672770811511753.args[1]\"]\n\t-4664464520583065041 [label=\"Maybe.nothing\" id=-4664464520583065041]\n\t1656506606529607116 -> 8475390729817755043 [id=\"-3654672770811511753.args[2]\"]\n\t8475390729817755043 [label=\"Abstraction.create\" id=8475390729817755043]\n\t8475390729817755043 -> 8000944135531895841 [id=\"8475390729817755043.args[0]\"]\n\t8000944135531895841 [label=\"Abstraction.create_variable\" id=8000944135531895841]\n\t8000944135531895841 -> -4410156836406607453 [id=\"8000944135531895841.args[0]\"]\n\t-4410156836406607453 [label=\"Variable(4700410040)\" id=-4410156836406607453]\n\t8475390729817755043 -> 3516816812917669638 [id=\"8475390729817755043.args[1]\"]\n\t3516816812917669638 [label=\"Maybe.just\" id=3516816812917669638]\n\t3516816812917669638 -> -2031615137486694345 [id=\"3516816812917669638.args[0]\"]\n\t-2031615137486694345 [label=\"NDArray.__getitem__\" id=-2031615137486694345]\n\t-2031615137486694345 -> -6945356083866800944 [id=\"-2031615137486694345.args[0]\"]\n\t-6945356083866800944 [label=\"Pair.left\" id=-6945356083866800944]\n\t-6945356083866800944 -> 8000944135531895841 [id=\"-6945356083866800944.args[0]\"]\n\t-2031615137486694345 -> 1985814629941637880 [id=\"-2031615137486694345.args[1]\"]\n\t1985814629941637880 [label=\"Pair.right\" id=1985814629941637880]\n\t1985814629941637880 -> 8000944135531895841 [id=\"1985814629941637880.args[0]\"]\n}",
         "label": null,
         "rule": "metadsl_core.maybe.maybe_and"
        },
        {
         "graph": "digraph {\n\tnode [shape=plain]\n\tedge [arrowsize=0.5 penwidth=0.5]\n\t-774798583507628072 [label=\"NDArrayCompat.to_ndarray\" id=1935586180163463095]\n\t-774798583507628072 -> -6101509707006216853 [id=\"1935586180163463095.args[0]\"]\n\t-6101509707006216853 [label=\"NDArrayCompat.from_ndarray\" id=-7585266382721542195]\n\t-6101509707006216853 -> 8691229672040384370 [id=\"-7585266382721542195.args[0]\"]\n\t8691229672040384370 [label=\"Abstraction.__call__\" id=-3654672770811511753]\n\t8691229672040384370 -> 8475390729817755043 [id=\"-3654672770811511753.args[0]\"]\n\t8475390729817755043 [label=\"Abstraction.create\" id=8475390729817755043]\n\t8475390729817755043 -> 8000944135531895841 [id=\"8475390729817755043.args[0]\"]\n\t8000944135531895841 [label=\"Abstraction.create_variable\" id=8000944135531895841]\n\t8000944135531895841 -> -4410156836406607453 [id=\"8000944135531895841.args[0]\"]\n\t-4410156836406607453 [label=\"Variable(4700410040)\" id=-4410156836406607453]\n\t8475390729817755043 -> 3516816812917669638 [id=\"8475390729817755043.args[1]\"]\n\t3516816812917669638 [label=\"Maybe.just\" id=3516816812917669638]\n\t3516816812917669638 -> -2031615137486694345 [id=\"3516816812917669638.args[0]\"]\n\t-2031615137486694345 [label=\"NDArray.__getitem__\" id=-2031615137486694345]\n\t-2031615137486694345 -> -6945356083866800944 [id=\"-2031615137486694345.args[0]\"]\n\t-6945356083866800944 [label=\"Pair.left\" id=-6945356083866800944]\n\t-6945356083866800944 -> 8000944135531895841 [id=\"-6945356083866800944.args[0]\"]\n\t-2031615137486694345 -> 1985814629941637880 [id=\"-2031615137486694345.args[1]\"]\n\t1985814629941637880 [label=\"Pair.right\" id=1985814629941637880]\n\t1985814629941637880 -> 8000944135531895841 [id=\"1985814629941637880.args[0]\"]\n\t8691229672040384370 -> 643017614923179061 [id=\"-3654672770811511753.args[1]\"]\n\t643017614923179061 [label=\"Pair.create\" id=643017614923179061]\n\t643017614923179061 -> -4619107828061912794 [id=\"643017614923179061.args[0]\"]\n\t-4619107828061912794 [label=\"NDArray.__add__\" id=-4619107828061912794]\n\t-4619107828061912794 -> 1492449749867095234 [id=\"-4619107828061912794.args[0]\"]\n\t1492449749867095234 [label=arange_ id=1492449749867095234]\n\t1492449749867095234 -> 579615478629357154 [id=\"1492449749867095234.args[0]\"]\n\t579615478629357154 [label=\"Integer.from_int\" id=579615478629357154]\n\t579615478629357154 -> 5838084232007047975 [id=\"579615478629357154.args[0]\"]\n\t5838084232007047975 [label=100 id=6003697446393151645]\n\t-4619107828061912794 -> 1492449749867095234 [id=\"-4619107828061912794.args[1]\"]\n\t643017614923179061 -> -7067585356806477310 [id=\"643017614923179061.args[1]\"]\n\t-7067585356806477310 [label=\"Either.left\" id=-7067585356806477310]\n\t-7067585356806477310 -> 5109073286877630545 [id=\"-7067585356806477310.args[0]\"]\n\t5109073286877630545 [label=\"Integer.from_int\" id=5109073286877630545]\n\t5109073286877630545 -> 5838084232112052900 [id=\"5109073286877630545.args[0]\"]\n\t5838084232112052900 [label=5 id=7756835102063988763]\n}",
         "label": null,
         "rule": "metadsl_core.maybe.maybe_match"
        },
        {
         "graph": "digraph {\n\tnode [shape=plain]\n\tedge [arrowsize=0.5 penwidth=0.5]\n\t-6415487103606775028 [label=\"NDArrayCompat.to_ndarray\" id=1935586180163463095]\n\t-6415487103606775028 -> 44395248776030981 [id=\"1935586180163463095.args[0]\"]\n\t44395248776030981 [label=\"NDArrayCompat.from_ndarray\" id=-7585266382721542195]\n\t44395248776030981 -> -2903661489942354244 [id=\"-7585266382721542195.args[0]\"]\n\t-2903661489942354244 [label=\"Maybe.just\" id=-3654672770811511753]\n\t-2903661489942354244 -> 9219245304176348434 [id=\"-3654672770811511753.args[0]\"]\n\t9219245304176348434 [label=\"NDArray.__getitem__\" id=9219245304176348434]\n\t9219245304176348434 -> 1395466120539641181 [id=\"9219245304176348434.args[0]\"]\n\t1395466120539641181 [label=\"Pair.left\" id=1395466120539641181]\n\t1395466120539641181 -> 643017614923179061 [id=\"1395466120539641181.args[0]\"]\n\t643017614923179061 [label=\"Pair.create\" id=643017614923179061]\n\t643017614923179061 -> -4619107828061912794 [id=\"643017614923179061.args[0]\"]\n\t-4619107828061912794 [label=\"NDArray.__add__\" id=-4619107828061912794]\n\t-4619107828061912794 -> 1492449749867095234 [id=\"-4619107828061912794.args[0]\"]\n\t1492449749867095234 [label=arange_ id=1492449749867095234]\n\t1492449749867095234 -> 579615478629357154 [id=\"1492449749867095234.args[0]\"]\n\t579615478629357154 [label=\"Integer.from_int\" id=579615478629357154]\n\t579615478629357154 -> 5838084232007047975 [id=\"579615478629357154.args[0]\"]\n\t5838084232007047975 [label=100 id=6003697446393151645]\n\t-4619107828061912794 -> 1492449749867095234 [id=\"-4619107828061912794.args[1]\"]\n\t643017614923179061 -> -7067585356806477310 [id=\"643017614923179061.args[1]\"]\n\t-7067585356806477310 [label=\"Either.left\" id=-7067585356806477310]\n\t-7067585356806477310 -> 5109073286877630545 [id=\"-7067585356806477310.args[0]\"]\n\t5109073286877630545 [label=\"Integer.from_int\" id=5109073286877630545]\n\t5109073286877630545 -> 5838084232112052900 [id=\"5109073286877630545.args[0]\"]\n\t5838084232112052900 [label=5 id=7756835102063988763]\n\t9219245304176348434 -> 6301162349869030677 [id=\"9219245304176348434.args[1]\"]\n\t6301162349869030677 [label=\"Pair.right\" id=6301162349869030677]\n\t6301162349869030677 -> 643017614923179061 [id=\"6301162349869030677.args[0]\"]\n}",
         "label": null,
         "rule": "metadsl_core.abstraction.beta_reduce"
        },
        {
         "graph": "digraph {\n\tnode [shape=plain]\n\tedge [arrowsize=0.5 penwidth=0.5]\n\t1910669533948444199 [label=\"NDArrayCompat.to_ndarray\" id=1935586180163463095]\n\t1910669533948444199 -> -2730920362030976645 [id=\"1935586180163463095.args[0]\"]\n\t-2730920362030976645 [label=\"NDArrayCompat.from_ndarray\" id=-7585266382721542195]\n\t-2730920362030976645 -> -5333004143361228569 [id=\"-7585266382721542195.args[0]\"]\n\t-5333004143361228569 [label=\"Maybe.just\" id=-3654672770811511753]\n\t-5333004143361228569 -> 812146376475600282 [id=\"-3654672770811511753.args[0]\"]\n\t812146376475600282 [label=\"NDArray.__getitem__\" id=9219245304176348434]\n\t812146376475600282 -> 1395466120539641181 [id=\"9219245304176348434.args[0]\"]\n\t1395466120539641181 [label=\"Pair.left\" id=1395466120539641181]\n\t1395466120539641181 -> 643017614923179061 [id=\"1395466120539641181.args[0]\"]\n\t643017614923179061 [label=\"Pair.create\" id=643017614923179061]\n\t643017614923179061 -> -4619107828061912794 [id=\"643017614923179061.args[0]\"]\n\t-4619107828061912794 [label=\"NDArray.__add__\" id=-4619107828061912794]\n\t-4619107828061912794 -> 1492449749867095234 [id=\"-4619107828061912794.args[0]\"]\n\t1492449749867095234 [label=arange_ id=1492449749867095234]\n\t1492449749867095234 -> 579615478629357154 [id=\"1492449749867095234.args[0]\"]\n\t579615478629357154 [label=\"Integer.from_int\" id=579615478629357154]\n\t579615478629357154 -> 5838084232007047975 [id=\"579615478629357154.args[0]\"]\n\t5838084232007047975 [label=100 id=6003697446393151645]\n\t-4619107828061912794 -> 1492449749867095234 [id=\"-4619107828061912794.args[1]\"]\n\t643017614923179061 -> -7067585356806477310 [id=\"643017614923179061.args[1]\"]\n\t-7067585356806477310 [label=\"Either.left\" id=-7067585356806477310]\n\t-7067585356806477310 -> 5109073286877630545 [id=\"-7067585356806477310.args[0]\"]\n\t5109073286877630545 [label=\"Integer.from_int\" id=5109073286877630545]\n\t5109073286877630545 -> 5838084232112052900 [id=\"5109073286877630545.args[0]\"]\n\t5838084232112052900 [label=5 id=7756835102063988763]\n\t812146376475600282 -> -7067585356806477310 [id=\"9219245304176348434.args[1]\"]\n}",
         "label": null,
         "rule": "metadsl_core.pair.pair_right"
        },
        {
         "graph": "digraph {\n\tnode [shape=plain]\n\tedge [arrowsize=0.5 penwidth=0.5]\n\t-6982537285276620806 [label=\"NDArrayCompat.to_ndarray\" id=1935586180163463095]\n\t-6982537285276620806 -> -8582480166607514506 [id=\"1935586180163463095.args[0]\"]\n\t-8582480166607514506 [label=\"NDArrayCompat.from_ndarray\" id=-7585266382721542195]\n\t-8582480166607514506 -> -2600167263746280635 [id=\"-7585266382721542195.args[0]\"]\n\t-2600167263746280635 [label=\"Maybe.just\" id=-3654672770811511753]\n\t-2600167263746280635 -> -8562840633844268781 [id=\"-3654672770811511753.args[0]\"]\n\t-8562840633844268781 [label=\"NDArray.__getitem__\" id=-8562840633844268781]\n\t-8562840633844268781 -> -4619107828061912794 [id=\"-8562840633844268781.args[0]\"]\n\t-4619107828061912794 [label=\"NDArray.__add__\" id=-4619107828061912794]\n\t-4619107828061912794 -> 1492449749867095234 [id=\"-4619107828061912794.args[0]\"]\n\t1492449749867095234 [label=arange_ id=1492449749867095234]\n\t1492449749867095234 -> 579615478629357154 [id=\"1492449749867095234.args[0]\"]\n\t579615478629357154 [label=\"Integer.from_int\" id=579615478629357154]\n\t579615478629357154 -> 5838084232007047975 [id=\"579615478629357154.args[0]\"]\n\t5838084232007047975 [label=100 id=6003697446393151645]\n\t-4619107828061912794 -> 1492449749867095234 [id=\"-4619107828061912794.args[1]\"]\n\t-8562840633844268781 -> -7067585356806477310 [id=\"-8562840633844268781.args[1]\"]\n\t-7067585356806477310 [label=\"Either.left\" id=-7067585356806477310]\n\t-7067585356806477310 -> 5109073286877630545 [id=\"-7067585356806477310.args[0]\"]\n\t5109073286877630545 [label=\"Integer.from_int\" id=5109073286877630545]\n\t5109073286877630545 -> 5838084232112052900 [id=\"5109073286877630545.args[0]\"]\n\t5838084232112052900 [label=5 id=7756835102063988763]\n}",
         "label": null,
         "rule": "metadsl_core.pair.pair_left"
        },
        {
         "graph": "digraph {\n\tnode [shape=plain]\n\tedge [arrowsize=0.5 penwidth=0.5]\n\t-6982537285276620806 [label=\"NDArrayCompat.to_ndarray\" id=1935586180163463095]\n\t-6982537285276620806 -> -8582480166607514506 [id=\"1935586180163463095.args[0]\"]\n\t-8582480166607514506 [label=\"NDArrayCompat.from_ndarray\" id=-7585266382721542195]\n\t-8582480166607514506 -> -2600167263746280635 [id=\"-7585266382721542195.args[0]\"]\n\t-2600167263746280635 [label=\"Maybe.just\" id=-3654672770811511753]\n\t-2600167263746280635 -> -8562840633844268781 [id=\"-3654672770811511753.args[0]\"]\n\t-8562840633844268781 [label=\"NDArray.__getitem__\" id=-8562840633844268781]\n\t-8562840633844268781 -> -4619107828061912794 [id=\"-8562840633844268781.args[0]\"]\n\t-4619107828061912794 [label=\"NDArray.__add__\" id=-4619107828061912794]\n\t-4619107828061912794 -> 1492449749867095234 [id=\"-4619107828061912794.args[0]\"]\n\t1492449749867095234 [label=arange_ id=1492449749867095234]\n\t1492449749867095234 -> 579615478629357154 [id=\"1492449749867095234.args[0]\"]\n\t579615478629357154 [label=\"Integer.from_int\" id=579615478629357154]\n\t579615478629357154 -> 5838084232007047975 [id=\"579615478629357154.args[0]\"]\n\t5838084232007047975 [label=100 id=6003697446393151645]\n\t-4619107828061912794 -> 1492449749867095234 [id=\"-4619107828061912794.args[1]\"]\n\t-8562840633844268781 -> -7067585356806477310 [id=\"-8562840633844268781.args[1]\"]\n\t-7067585356806477310 [label=\"Either.left\" id=-7067585356806477310]\n\t-7067585356806477310 -> 5109073286877630545 [id=\"-7067585356806477310.args[0]\"]\n\t5109073286877630545 [label=\"Integer.from_int\" id=5109073286877630545]\n\t5109073286877630545 -> 5838084232112052900 [id=\"5109073286877630545.args[0]\"]\n\t5838084232112052900 [label=5 id=7756835102063988763]\n}",
         "label": "convert",
         "rule": ""
        },
        {
         "graph": "digraph {\n\tnode [shape=plain]\n\tedge [arrowsize=0.5 penwidth=0.5]\n\t1516049571206598651 [label=\"NDArray.to_ndarray\" id=1935586180163463095]\n\t1516049571206598651 -> -8562840633844268781 [id=\"1935586180163463095.args[0]\"]\n\t-8562840633844268781 [label=\"NDArray.__getitem__\" id=-8562840633844268781]\n\t-8562840633844268781 -> -4619107828061912794 [id=\"-8562840633844268781.args[0]\"]\n\t-4619107828061912794 [label=\"NDArray.__add__\" id=-4619107828061912794]\n\t-4619107828061912794 -> 1492449749867095234 [id=\"-4619107828061912794.args[0]\"]\n\t1492449749867095234 [label=arange_ id=1492449749867095234]\n\t1492449749867095234 -> 579615478629357154 [id=\"1492449749867095234.args[0]\"]\n\t579615478629357154 [label=\"Integer.from_int\" id=579615478629357154]\n\t579615478629357154 -> 5838084232007047975 [id=\"579615478629357154.args[0]\"]\n\t5838084232007047975 [label=100 id=6003697446393151645]\n\t-4619107828061912794 -> 1492449749867095234 [id=\"-4619107828061912794.args[1]\"]\n\t-8562840633844268781 -> -7067585356806477310 [id=\"-8562840633844268781.args[1]\"]\n\t-7067585356806477310 [label=\"Either.left\" id=-7067585356806477310]\n\t-7067585356806477310 -> 5109073286877630545 [id=\"-7067585356806477310.args[0]\"]\n\t5109073286877630545 [label=\"Integer.from_int\" id=5109073286877630545]\n\t5109073286877630545 -> 5838084232112052900 [id=\"5109073286877630545.args[0]\"]\n\t5838084232112052900 [label=5 id=7756835102063988763]\n}",
         "label": null,
         "rule": "metadsl_core.numpy.box_unbox_ndarray_compat"
        },
        {
         "graph": "digraph {\n\tnode [shape=plain]\n\tedge [arrowsize=0.5 penwidth=0.5]\n\t9034656157077478327 [label=ndarray_getitem id=1935586180163463095]\n\t9034656157077478327 -> -1005459391132720625 [id=\"1935586180163463095.args[0]\"]\n\t-1005459391132720625 [label=\"NDArray.to_ndarray\" id=-1005459391132720625]\n\t-1005459391132720625 -> -4619107828061912794 [id=\"-1005459391132720625.args[0]\"]\n\t-4619107828061912794 [label=\"NDArray.__add__\" id=-4619107828061912794]\n\t-4619107828061912794 -> 1492449749867095234 [id=\"-4619107828061912794.args[0]\"]\n\t1492449749867095234 [label=arange_ id=1492449749867095234]\n\t1492449749867095234 -> 579615478629357154 [id=\"1492449749867095234.args[0]\"]\n\t579615478629357154 [label=\"Integer.from_int\" id=579615478629357154]\n\t579615478629357154 -> 5838084232007047975 [id=\"579615478629357154.args[0]\"]\n\t5838084232007047975 [label=100 id=6003697446393151645]\n\t-4619107828061912794 -> 1492449749867095234 [id=\"-4619107828061912794.args[1]\"]\n\t9034656157077478327 -> 7756835102063988763 [id=\"1935586180163463095.args[1]\"]\n\t7756835102063988763 [label=unbox_idxs id=7756835102063988763]\n\t7756835102063988763 -> -7067585356806477310 [id=\"7756835102063988763.args[0]\"]\n\t-7067585356806477310 [label=\"Either.left\" id=-7067585356806477310]\n\t-7067585356806477310 -> 5109073286877630545 [id=\"-7067585356806477310.args[0]\"]\n\t5109073286877630545 [label=\"Integer.from_int\" id=5109073286877630545]\n\t5109073286877630545 -> 5838084232112052900 [id=\"5109073286877630545.args[0]\"]\n\t5838084232112052900 [label=5 id=7756835102063988763]\n}",
         "label": null,
         "rule": "metadsl_core.numpy_engine.unbox_ndarray_getitem"
        },
        {
         "graph": "digraph {\n\tnode [shape=plain]\n\tedge [arrowsize=0.5 penwidth=0.5]\n\t-8092933834361013212 [label=ndarray_getitem id=1935586180163463095]\n\t-8092933834361013212 -> -1005459391132720625 [id=\"1935586180163463095.args[0]\"]\n\t-1005459391132720625 [label=\"NDArray.to_ndarray\" id=-1005459391132720625]\n\t-1005459391132720625 -> -4619107828061912794 [id=\"-1005459391132720625.args[0]\"]\n\t-4619107828061912794 [label=\"NDArray.__add__\" id=-4619107828061912794]\n\t-4619107828061912794 -> 1492449749867095234 [id=\"-4619107828061912794.args[0]\"]\n\t1492449749867095234 [label=arange_ id=1492449749867095234]\n\t1492449749867095234 -> 579615478629357154 [id=\"1492449749867095234.args[0]\"]\n\t579615478629357154 [label=\"Integer.from_int\" id=579615478629357154]\n\t579615478629357154 -> 5838084232007047975 [id=\"579615478629357154.args[0]\"]\n\t5838084232007047975 [label=100 id=6003697446393151645]\n\t-4619107828061912794 -> 1492449749867095234 [id=\"-4619107828061912794.args[1]\"]\n\t-8092933834361013212 -> 8569104213158216184 [id=\"1935586180163463095.args[1]\"]\n\t8569104213158216184 [label=unbox_integer id=7756835102063988763]\n\t8569104213158216184 -> 5109073286877630545 [id=\"7756835102063988763.args[0]\"]\n\t5109073286877630545 [label=\"Integer.from_int\" id=5109073286877630545]\n\t5109073286877630545 -> 5838084232112052900 [id=\"5109073286877630545.args[0]\"]\n\t5838084232112052900 [label=5 id=7756835102063988763]\n}",
         "label": null,
         "rule": "metadsl_core.numpy_engine.unbox_idxs_rule"
        },
        {
         "graph": "digraph {\n\tnode [shape=plain]\n\tedge [arrowsize=0.5 penwidth=0.5]\n\t4061799927420083391 [label=ndarray_getitem id=1935586180163463095]\n\t4061799927420083391 -> -1005459391132720625 [id=\"1935586180163463095.args[0]\"]\n\t-1005459391132720625 [label=\"NDArray.to_ndarray\" id=-1005459391132720625]\n\t-1005459391132720625 -> -4619107828061912794 [id=\"-1005459391132720625.args[0]\"]\n\t-4619107828061912794 [label=\"NDArray.__add__\" id=-4619107828061912794]\n\t-4619107828061912794 -> 1492449749867095234 [id=\"-4619107828061912794.args[0]\"]\n\t1492449749867095234 [label=arange_ id=1492449749867095234]\n\t1492449749867095234 -> 579615478629357154 [id=\"1492449749867095234.args[0]\"]\n\t579615478629357154 [label=\"Integer.from_int\" id=579615478629357154]\n\t579615478629357154 -> 5838084232007047975 [id=\"579615478629357154.args[0]\"]\n\t5838084232007047975 [label=100 id=6003697446393151645]\n\t-4619107828061912794 -> 1492449749867095234 [id=\"-4619107828061912794.args[1]\"]\n\t4061799927420083391 -> 5838084232112052900 [id=\"1935586180163463095.args[1]\"]\n\t5838084232112052900 [label=5 id=7756835102063988763]\n}",
         "label": null,
         "rule": "metadsl_core.numpy_engine.unbox_integer_rule"
        },
        {
         "graph": "digraph {\n\tnode [shape=plain]\n\tedge [arrowsize=0.5 penwidth=0.5]\n\t3981801318835326913 [label=ndarray_getitem id=1935586180163463095]\n\t3981801318835326913 -> -3357586526836581614 [id=\"1935586180163463095.args[0]\"]\n\t-3357586526836581614 [label=ndarray_add id=-1005459391132720625]\n\t-3357586526836581614 -> 3410846223516364705 [id=\"-1005459391132720625.args[0]\"]\n\t3410846223516364705 [label=\"NDArray.to_ndarray\" id=3410846223516364705]\n\t3410846223516364705 -> 1492449749867095234 [id=\"3410846223516364705.args[0]\"]\n\t1492449749867095234 [label=arange_ id=1492449749867095234]\n\t1492449749867095234 -> 579615478629357154 [id=\"1492449749867095234.args[0]\"]\n\t579615478629357154 [label=\"Integer.from_int\" id=579615478629357154]\n\t579615478629357154 -> 5838084232007047975 [id=\"579615478629357154.args[0]\"]\n\t5838084232007047975 [label=100 id=6003697446393151645]\n\t-3357586526836581614 -> 3410846223516364705 [id=\"-1005459391132720625.args[1]\"]\n\t3981801318835326913 -> 5838084232112052900 [id=\"1935586180163463095.args[1]\"]\n\t5838084232112052900 [label=5 id=7756835102063988763]\n}",
         "label": null,
         "rule": "metadsl_core.numpy_engine.unbox_ndarray_add"
        },
        {
         "graph": "digraph {\n\tnode [shape=plain]\n\tedge [arrowsize=0.5 penwidth=0.5]\n\t-5815398103880726676 [label=ndarray_getitem id=1935586180163463095]\n\t-5815398103880726676 -> 4669825845995946390 [id=\"1935586180163463095.args[0]\"]\n\t4669825845995946390 [label=ndarray_add id=-1005459391132720625]\n\t4669825845995946390 -> 5435969851716377834 [id=\"-1005459391132720625.args[0]\"]\n\t5435969851716377834 [label=arange id=3410846223516364705]\n\t5435969851716377834 -> 6003697446393151645 [id=\"3410846223516364705.args[0]\"]\n\t6003697446393151645 [label=unbox_integer id=6003697446393151645]\n\t6003697446393151645 -> 579615478629357154 [id=\"6003697446393151645.args[0]\"]\n\t579615478629357154 [label=\"Integer.from_int\" id=579615478629357154]\n\t579615478629357154 -> 5838084232007047975 [id=\"579615478629357154.args[0]\"]\n\t5838084232007047975 [label=100 id=6003697446393151645]\n\t4669825845995946390 -> 5435969851716377834 [id=\"-1005459391132720625.args[1]\"]\n\t-5815398103880726676 -> 5838084232112052900 [id=\"1935586180163463095.args[1]\"]\n\t5838084232112052900 [label=5 id=7756835102063988763]\n}",
         "label": null,
         "rule": "metadsl_core.numpy_engine.unbox_arange"
        },
        {
         "graph": "digraph {\n\tnode [shape=plain]\n\tedge [arrowsize=0.5 penwidth=0.5]\n\t5458996318223799810 [label=ndarray_getitem id=1935586180163463095]\n\t5458996318223799810 -> -5296929383186549744 [id=\"1935586180163463095.args[0]\"]\n\t-5296929383186549744 [label=ndarray_add id=-1005459391132720625]\n\t-5296929383186549744 -> -2484432628204838036 [id=\"-1005459391132720625.args[0]\"]\n\t-2484432628204838036 [label=arange id=3410846223516364705]\n\t-2484432628204838036 -> 5838084232007047975 [id=\"3410846223516364705.args[0]\"]\n\t5838084232007047975 [label=100 id=6003697446393151645]\n\t-5296929383186549744 -> -2484432628204838036 [id=\"-1005459391132720625.args[1]\"]\n\t5458996318223799810 -> 5838084232112052900 [id=\"1935586180163463095.args[1]\"]\n\t5838084232112052900 [label=5 id=7756835102063988763]\n}",
         "label": null,
         "rule": "metadsl_core.numpy_engine.unbox_integer_rule"
        },
        {
         "graph": "digraph {\n\tnode [shape=plain]\n\tedge [arrowsize=0.5 penwidth=0.5]\n\t5458996318223799810 [label=ndarray_getitem id=1935586180163463095]\n\t5458996318223799810 -> -5296929383186549744 [id=\"1935586180163463095.args[0]\"]\n\t-5296929383186549744 [label=ndarray_add id=-1005459391132720625]\n\t-5296929383186549744 -> -2484432628204838036 [id=\"-1005459391132720625.args[0]\"]\n\t-2484432628204838036 [label=arange id=3410846223516364705]\n\t-2484432628204838036 -> 5838084232007047975 [id=\"3410846223516364705.args[0]\"]\n\t5838084232007047975 [label=100 id=6003697446393151645]\n\t-5296929383186549744 -> -2484432628204838036 [id=\"-1005459391132720625.args[1]\"]\n\t5458996318223799810 -> 5838084232112052900 [id=\"1935586180163463095.args[1]\"]\n\t5838084232112052900 [label=5 id=7756835102063988763]\n}",
         "label": "unbox",
         "rule": ""
        },
        {
         "graph": "digraph {\n\tnode [shape=plain]\n\tedge [arrowsize=0.5 penwidth=0.5]\n\t-5730976342729695613 [label=ndarray_getitem id=1935586180163463095]\n\t-5730976342729695613 -> 8128290227894987152 [id=\"1935586180163463095.args[0]\"]\n\t8128290227894987152 [label=ndarray_add id=-1005459391132720625]\n\t8128290227894987152 -> -6213901631684034091 [id=\"-1005459391132720625.args[0]\"]\n\t-6213901631684034091 [label=\"array(10)\" id=1935586180163463095]\n\t8128290227894987152 -> -6213901631684034091 [id=\"-1005459391132720625.args[1]\"]\n\t-5730976342729695613 -> 5838084232112052900 [id=\"1935586180163463095.args[1]\"]\n\t5838084232112052900 [label=5 id=7756835102063988763]\n}",
         "label": null,
         "rule": "metadsl_core.numpy_engine.arange"
        },
        {
         "graph": "digraph {\n\tnode [shape=plain]\n\tedge [arrowsize=0.5 penwidth=0.5]\n\t-6662807094635375005 [label=ndarray_getitem id=1935586180163463095]\n\t-6662807094635375005 -> -6213901685966167691 [id=\"1935586180163463095.args[0]\"]\n\t-6213901685966167691 [label=\"array([  0,   2,   4,   6,   8,  10,  12,  14,  16,  18,  20,  22,  24,\n        26,  28,  30,  32,  34,  36,  38,  40,  42,  44,  46,  48,  50,\n        52,  54,  56,  58,  60,  62,  64,  66,  68,  70,  72,  74,  76,\n        78,  80,  82,  84,  86,  88,  90,  92,  94,  96,  98, 100, 102,\n       104, 106, 108, 110, 112, 114, 116, 118, 120, 122, 124, 126, 128,\n       130, 132, 134, 136, 138, 140, 142, 144, 146, 148, 150, 152, 154,\n       156, 158, 160, 162, 164, 166, 168, 170, 172, 174, 176, 178, 180,\n       182, 184, 186, 188, 190, 192, 194, 196, 198])\" id=-1005459391132720625]\n\t-6662807094635375005 -> 5838084232112052900 [id=\"1935586180163463095.args[1]\"]\n\t5838084232112052900 [label=5 id=7756835102063988763]\n}",
         "label": null,
         "rule": "metadsl_core.numpy_engine.ndarray_add"
        },
        {
         "graph": "digraph {\n\tnode [shape=plain]\n\tedge [arrowsize=0.5 penwidth=0.5]\n\t-6213901631684034091 [label=\"array(10)\" id=1935586180163463095]\n}",
         "label": null,
         "rule": "metadsl_core.numpy_engine.ndarray_getitem"
        },
        {
         "graph": "digraph {\n\tnode [shape=plain]\n\tedge [arrowsize=0.5 penwidth=0.5]\n\t-6213901631684034091 [label=\"array(10)\" id=1935586180163463095]\n}",
         "label": "execute",
         "rule": ""
        }
       ]
      },
      "text/plain": [
       "Typez(definitions=None, nodes={'5838084232007047975': ['6003697446393151645', PrimitiveNode(type='int', repr='100')], '-3959006833905751656': ['-3959006833905751656', CallNode(function='arange', type_params=None, args=['5838084232007047975'], kwargs=None)], '-7106233571294015986': ['-7106233571294015986', CallNode(function='NDArrayCompat.__add__', type_params=None, args=['-3959006833905751656', '-3959006833905751656'], kwargs=None)], '5838084232112052900': ['7756835102063988763', PrimitiveNode(type='int', repr='5')], '-7585266382721542195': ['-7585266382721542195', CallNode(function='NDArrayCompat.__getitem__', type_params=None, args=['-7106233571294015986', '5838084232112052900'], kwargs=None)], '1935586180163463095': ['1935586180163463095', CallNode(function='NDArrayCompat.to_ndarray', type_params=None, args=['-7585266382721542195'], kwargs=None)], '-7125658743320791948': ['-7125658743320791948', CallNode(function='Converter.convert', type_params={'T': DeclaredTypeInstance(type='NDArray', params=None)}, args=['-7106233571294015986'], kwargs=None)], '-7246546953092699839': ['-7246546953092699839', CallNode(function='Converter.convert', type_params={'T': DeclaredTypeInstance(type='Either', params={'U': DeclaredTypeInstance(type='Vec', params={'T': DeclaredTypeInstance(type='Integer', params=None)}), 'T': DeclaredTypeInstance(type='Integer', params=None)})}, args=['5838084232112052900'], kwargs=None)], '1240870953218063631': ['1240870953218063631', CallNode(function='Maybe.__and__', type_params={'T': DeclaredTypeInstance(type='NDArray', params=None)}, args=['-7125658743320791948', '-7246546953092699839'], kwargs=None)], '-3384401606129232383': ['-3384401606129232383', PrimitiveNode(type='function', repr='<function NDArrayCompat.__getitem__.<locals>.<lambda> at 0x10d573b70>')], '5084951758681981122': ['5084951758681981122', CallNode(function='Abstraction.from_fn', type_params={'U': DeclaredTypeInstance(type='NDArray', params=None), 'T': DeclaredTypeInstance(type='Pair', params={'U': DeclaredTypeInstance(type='Either', params={'U': DeclaredTypeInstance(type='Vec', params={'T': DeclaredTypeInstance(type='Integer', params=None)}), 'T': DeclaredTypeInstance(type='Integer', params=None)}), 'T': DeclaredTypeInstance(type='NDArray', params=None)})}, args=['-3384401606129232383'], kwargs=None)], '-3654672770811511753': ['-3654672770811511753', CallNode(function='Maybe.map', type_params={'T': DeclaredTypeInstance(type='Pair', params={'U': DeclaredTypeInstance(type='Either', params={'U': DeclaredTypeInstance(type='Vec', params={'T': DeclaredTypeInstance(type='Integer', params=None)}), 'T': DeclaredTypeInstance(type='Integer', params=None)}), 'T': DeclaredTypeInstance(type='NDArray', params=None)})}, args=['1240870953218063631', '5084951758681981122'], kwargs=None)], '5085159681318255820': ['-7585266382721542195', CallNode(function='NDArrayCompat.from_ndarray', type_params=None, args=['-3654672770811511753'], kwargs=None)], '4819093797583090627': ['1935586180163463095', CallNode(function='NDArrayCompat.to_ndarray', type_params=None, args=['5085159681318255820'], kwargs=None)], '6056108927389162809': ['6056108927389162809', CallNode(function='Converter.convert', type_params={'T': DeclaredTypeInstance(type='Integer', params=None)}, args=['5838084232112052900'], kwargs=None)], '219451634672783243': ['219451634672783243', PrimitiveNode(type='BoundInfer', repr='Either.left')], '-4724417094432334173': ['-4724417094432334173', CallNode(function='Abstraction.from_fn', type_params=None, args=['219451634672783243'], kwargs=None)], '-6815086034509967428': ['-6815086034509967428', CallNode(function='Maybe.map', type_params={'T': DeclaredTypeInstance(type='Integer', params=None)}, args=['6056108927389162809', '-4724417094432334173'], kwargs=None)], '2944773798775947601': ['2944773798775947601', CallNode(function='Converter.convert', type_params={'T': DeclaredTypeInstance(type='Vec', params={'T': DeclaredTypeInstance(type='Integer', params=None)})}, args=['5838084232112052900'], kwargs=None)], '2861613970724538675': ['2861613970724538675', PrimitiveNode(type='BoundInfer', repr='Either.right')], '-8159938588654798608': ['-8159938588654798608', CallNode(function='Abstraction.from_fn', type_params=None, args=['2861613970724538675'], kwargs=None)], '3751055923777384973': ['3751055923777384973', CallNode(function='Maybe.map', type_params={'T': DeclaredTypeInstance(type='Vec', params={'T': DeclaredTypeInstance(type='Integer', params=None)})}, args=['2944773798775947601', '-8159938588654798608'], kwargs=None)], '-383058471427345641': ['-7246546953092699839', CallNode(function='Maybe.__or__', type_params={'T': DeclaredTypeInstance(type='Either', params={'U': DeclaredTypeInstance(type='Vec', params={'T': DeclaredTypeInstance(type='Integer', params=None)}), 'T': DeclaredTypeInstance(type='Integer', params=None)})}, args=['-6815086034509967428', '3751055923777384973'], kwargs=None)], '8642611512904930460': ['1240870953218063631', CallNode(function='Maybe.__and__', type_params={'T': DeclaredTypeInstance(type='NDArray', params=None)}, args=['-7125658743320791948', '-383058471427345641'], kwargs=None)], '-154108299725342969': ['-3654672770811511753', CallNode(function='Maybe.map', type_params={'T': DeclaredTypeInstance(type='Pair', params={'U': DeclaredTypeInstance(type='Either', params={'U': DeclaredTypeInstance(type='Vec', params={'T': DeclaredTypeInstance(type='Integer', params=None)}), 'T': DeclaredTypeInstance(type='Integer', params=None)}), 'T': DeclaredTypeInstance(type='NDArray', params=None)})}, args=['8642611512904930460', '5084951758681981122'], kwargs=None)], '-2892412849072983247': ['-7585266382721542195', CallNode(function='NDArrayCompat.from_ndarray', type_params=None, args=['-154108299725342969'], kwargs=None)], '4004756895860236997': ['1935586180163463095', CallNode(function='NDArrayCompat.to_ndarray', type_params=None, args=['-2892412849072983247'], kwargs=None)], '5109073286877630545': ['5109073286877630545', CallNode(function='Integer.from_int', type_params=None, args=['5838084232112052900'], kwargs=None)], '6789123831358882944': ['6789123831358882944', CallNode(function='Maybe.just', type_params=None, args=['5109073286877630545'], kwargs=None)], '-7300482696862424175': ['-6815086034509967428', CallNode(function='Maybe.map', type_params={'T': DeclaredTypeInstance(type='Integer', params=None)}, args=['6789123831358882944', '-4724417094432334173'], kwargs=None)], '-956653014655375141': ['-7246546953092699839', CallNode(function='Maybe.__or__', type_params={'T': DeclaredTypeInstance(type='Either', params={'U': DeclaredTypeInstance(type='Vec', params={'T': DeclaredTypeInstance(type='Integer', params=None)}), 'T': DeclaredTypeInstance(type='Integer', params=None)})}, args=['-7300482696862424175', '3751055923777384973'], kwargs=None)], '8598249988727306392': ['1240870953218063631', CallNode(function='Maybe.__and__', type_params={'T': DeclaredTypeInstance(type='NDArray', params=None)}, args=['-7125658743320791948', '-956653014655375141'], kwargs=None)], '-8797198014995531485': ['-3654672770811511753', CallNode(function='Maybe.map', type_params={'T': DeclaredTypeInstance(type='Pair', params={'U': DeclaredTypeInstance(type='Either', params={'U': DeclaredTypeInstance(type='Vec', params={'T': DeclaredTypeInstance(type='Integer', params=None)}), 'T': DeclaredTypeInstance(type='Integer', params=None)}), 'T': DeclaredTypeInstance(type='NDArray', params=None)})}, args=['8598249988727306392', '5084951758681981122'], kwargs=None)], '65082468629817090': ['-7585266382721542195', CallNode(function='NDArrayCompat.from_ndarray', type_params=None, args=['-8797198014995531485'], kwargs=None)], '6337951227245232575': ['1935586180163463095', CallNode(function='NDArrayCompat.to_ndarray', type_params=None, args=['65082468629817090'], kwargs=None)], '-6758997939504679046': ['-6758997939504679046', CallNode(function='Converter.convert', type_params={'T': DeclaredTypeInstance(type='Integer', params=None)}, args=['5838084232007047975'], kwargs=None)], '-1792845949521748470': ['-1792845949521748470', PrimitiveNode(type='Infer', repr='arange_')], '1087529264717247478': ['1087529264717247478', CallNode(function='Abstraction.from_fn', type_params=None, args=['-1792845949521748470'], kwargs=None)], '-8294341480371381898': ['-8294341480371381898', CallNode(function='Maybe.map', type_params={'T': DeclaredTypeInstance(type='Integer', params=None)}, args=['-6758997939504679046', '1087529264717247478'], kwargs=None)], '372699550060722797': ['-3959006833905751656', CallNode(function='NDArrayCompat.from_ndarray', type_params=None, args=['-8294341480371381898'], kwargs=None)], '800043649288483110': ['-7106233571294015986', CallNode(function='NDArrayCompat.__add__', type_params=None, args=['372699550060722797', '372699550060722797'], kwargs=None)], '-845766801800596083': ['-7125658743320791948', CallNode(function='Converter.convert', type_params={'T': DeclaredTypeInstance(type='NDArray', params=None)}, args=['800043649288483110'], kwargs=None)], '6228889529990603524': ['1240870953218063631', CallNode(function='Maybe.__and__', type_params={'T': DeclaredTypeInstance(type='NDArray', params=None)}, args=['-845766801800596083', '-956653014655375141'], kwargs=None)], '-3533949730051211226': ['-3654672770811511753', CallNode(function='Maybe.map', type_params={'T': DeclaredTypeInstance(type='Pair', params={'U': DeclaredTypeInstance(type='Either', params={'U': DeclaredTypeInstance(type='Vec', params={'T': DeclaredTypeInstance(type='Integer', params=None)}), 'T': DeclaredTypeInstance(type='Integer', params=None)}), 'T': DeclaredTypeInstance(type='NDArray', params=None)})}, args=['6228889529990603524', '5084951758681981122'], kwargs=None)], '3649991889024598203': ['-7585266382721542195', CallNode(function='NDArrayCompat.from_ndarray', type_params=None, args=['-3533949730051211226'], kwargs=None)], '-4287281295076353511': ['1935586180163463095', CallNode(function='NDArrayCompat.to_ndarray', type_params=None, args=['3649991889024598203'], kwargs=None)], '579615478629357154': ['579615478629357154', CallNode(function='Integer.from_int', type_params=None, args=['5838084232007047975'], kwargs=None)], '-1699773377263255131': ['-1699773377263255131', CallNode(function='Maybe.just', type_params=None, args=['579615478629357154'], kwargs=None)], '1102455697285063343': ['-8294341480371381898', CallNode(function='Maybe.map', type_params={'T': DeclaredTypeInstance(type='Integer', params=None)}, args=['-1699773377263255131', '1087529264717247478'], kwargs=None)], '-5722367332102644567': ['-3959006833905751656', CallNode(function='NDArrayCompat.from_ndarray', type_params=None, args=['1102455697285063343'], kwargs=None)], '-2450394698919677778': ['-7106233571294015986', CallNode(function='NDArrayCompat.__add__', type_params=None, args=['-5722367332102644567', '-5722367332102644567'], kwargs=None)], '2723701481682903090': ['-7125658743320791948', CallNode(function='Converter.convert', type_params={'T': DeclaredTypeInstance(type='NDArray', params=None)}, args=['-2450394698919677778'], kwargs=None)], '-7040477687325076394': ['1240870953218063631', CallNode(function='Maybe.__and__', type_params={'T': DeclaredTypeInstance(type='NDArray', params=None)}, args=['2723701481682903090', '-956653014655375141'], kwargs=None)], '5692441141577495003': ['-3654672770811511753', CallNode(function='Maybe.map', type_params={'T': DeclaredTypeInstance(type='Pair', params={'U': DeclaredTypeInstance(type='Either', params={'U': DeclaredTypeInstance(type='Vec', params={'T': DeclaredTypeInstance(type='Integer', params=None)}), 'T': DeclaredTypeInstance(type='Integer', params=None)}), 'T': DeclaredTypeInstance(type='NDArray', params=None)})}, args=['-7040477687325076394', '5084951758681981122'], kwargs=None)], '4528865061593271395': ['-7585266382721542195', CallNode(function='NDArrayCompat.from_ndarray', type_params=None, args=['5692441141577495003'], kwargs=None)], '-522260431455670959': ['1935586180163463095', CallNode(function='NDArrayCompat.to_ndarray', type_params=None, args=['4528865061593271395'], kwargs=None)], '-4410156836406607453': ['-4410156836406607453', PrimitiveNode(type='Variable', repr='Variable(4700410040)')], '8000944135531895841': ['8000944135531895841', CallNode(function='Abstraction.create_variable', type_params={'U': DeclaredTypeInstance(type='NDArray', params=None), 'T': DeclaredTypeInstance(type='Pair', params={'U': DeclaredTypeInstance(type='Either', params={'U': DeclaredTypeInstance(type='Vec', params={'T': DeclaredTypeInstance(type='Integer', params=None)}), 'T': DeclaredTypeInstance(type='Integer', params=None)}), 'T': DeclaredTypeInstance(type='NDArray', params=None)})}, args=['-4410156836406607453'], kwargs=None)], '-6945356083866800944': ['-6945356083866800944', CallNode(function='Pair.left', type_params={'U': DeclaredTypeInstance(type='Either', params={'U': DeclaredTypeInstance(type='Vec', params={'T': DeclaredTypeInstance(type='Integer', params=None)}), 'T': DeclaredTypeInstance(type='Integer', params=None)}), 'T': DeclaredTypeInstance(type='NDArray', params=None)}, args=['8000944135531895841'], kwargs=None)], '1985814629941637880': ['1985814629941637880', CallNode(function='Pair.right', type_params={'U': DeclaredTypeInstance(type='Either', params={'U': DeclaredTypeInstance(type='Vec', params={'T': DeclaredTypeInstance(type='Integer', params=None)}), 'T': DeclaredTypeInstance(type='Integer', params=None)}), 'T': DeclaredTypeInstance(type='NDArray', params=None)}, args=['8000944135531895841'], kwargs=None)], '-2031615137486694345': ['-2031615137486694345', CallNode(function='NDArray.__getitem__', type_params=None, args=['-6945356083866800944', '1985814629941637880'], kwargs=None)], '7210653655396512933': ['7210653655396512933', CallNode(function='Abstraction.create', type_params={'U': DeclaredTypeInstance(type='NDArray', params=None), 'T': DeclaredTypeInstance(type='Pair', params={'U': DeclaredTypeInstance(type='Either', params={'U': DeclaredTypeInstance(type='Vec', params={'T': DeclaredTypeInstance(type='Integer', params=None)}), 'T': DeclaredTypeInstance(type='Integer', params=None)}), 'T': DeclaredTypeInstance(type='NDArray', params=None)})}, args=['8000944135531895841', '-2031615137486694345'], kwargs=None)], '-4277628325632849953': ['-3654672770811511753', CallNode(function='Maybe.map', type_params={'T': DeclaredTypeInstance(type='Pair', params={'U': DeclaredTypeInstance(type='Either', params={'U': DeclaredTypeInstance(type='Vec', params={'T': DeclaredTypeInstance(type='Integer', params=None)}), 'T': DeclaredTypeInstance(type='Integer', params=None)}), 'T': DeclaredTypeInstance(type='NDArray', params=None)})}, args=['-7040477687325076394', '7210653655396512933'], kwargs=None)], '-6202411770470984700': ['-7585266382721542195', CallNode(function='NDArrayCompat.from_ndarray', type_params=None, args=['-4277628325632849953'], kwargs=None)], '7383670754334335679': ['1935586180163463095', CallNode(function='NDArrayCompat.to_ndarray', type_params=None, args=['-6202411770470984700'], kwargs=None)], '4813215207103532055': ['4813215207103532055', PrimitiveNode(type='Variable', repr='Variable(4700573936)')], '2897359456192805594': ['2897359456192805594', CallNode(function='Abstraction.create_variable', type_params={'U': DeclaredTypeInstance(type='Either', params={'U': DeclaredTypeInstance(type='Vec', params={'T': DeclaredTypeInstance(type='Integer', params=None)}), 'T': DeclaredTypeInstance(type='Integer', params=None)}), 'T': DeclaredTypeInstance(type='Vec', params={'T': DeclaredTypeInstance(type='Integer', params=None)})}, args=['4813215207103532055'], kwargs=None)], '5299933280258969538': ['5299933280258969538', CallNode(function='Either.right', type_params={'U': DeclaredTypeInstance(type='Vec', params={'T': DeclaredTypeInstance(type='Integer', params=None)}), 'T': DeclaredTypeInstance(type='Integer', params=None)}, args=['2897359456192805594'], kwargs=None)], '2333271571750003503': ['2333271571750003503', CallNode(function='Abstraction.create', type_params={'U': DeclaredTypeInstance(type='Either', params={'U': DeclaredTypeInstance(type='Vec', params={'T': DeclaredTypeInstance(type='Integer', params=None)}), 'T': DeclaredTypeInstance(type='Integer', params=None)}), 'T': DeclaredTypeInstance(type='Vec', params={'T': DeclaredTypeInstance(type='Integer', params=None)})}, args=['2897359456192805594', '5299933280258969538'], kwargs=None)], '1250312507332772438': ['1250312507332772438', CallNode(function='Maybe.map', type_params={'T': DeclaredTypeInstance(type='Vec', params={'T': DeclaredTypeInstance(type='Integer', params=None)})}, args=['2944773798775947601', '2333271571750003503'], kwargs=None)], '-399055802812541133': ['-7246546953092699839', CallNode(function='Maybe.__or__', type_params={'T': DeclaredTypeInstance(type='Either', params={'U': DeclaredTypeInstance(type='Vec', params={'T': DeclaredTypeInstance(type='Integer', params=None)}), 'T': DeclaredTypeInstance(type='Integer', params=None)})}, args=['-7300482696862424175', '1250312507332772438'], kwargs=None)], '2502081968055689566': ['1240870953218063631', CallNode(function='Maybe.__and__', type_params={'T': DeclaredTypeInstance(type='NDArray', params=None)}, args=['2723701481682903090', '-399055802812541133'], kwargs=None)], '-2846104450224803501': ['-3654672770811511753', CallNode(function='Maybe.map', type_params={'T': DeclaredTypeInstance(type='Pair', params={'U': DeclaredTypeInstance(type='Either', params={'U': DeclaredTypeInstance(type='Vec', params={'T': DeclaredTypeInstance(type='Integer', params=None)}), 'T': DeclaredTypeInstance(type='Integer', params=None)}), 'T': DeclaredTypeInstance(type='NDArray', params=None)})}, args=['2502081968055689566', '7210653655396512933'], kwargs=None)], '-2862497316178213032': ['-7585266382721542195', CallNode(function='NDArrayCompat.from_ndarray', type_params=None, args=['-2846104450224803501'], kwargs=None)], '-6548120258914317946': ['1935586180163463095', CallNode(function='NDArrayCompat.to_ndarray', type_params=None, args=['-2862497316178213032'], kwargs=None)], '4813215200325843030': ['4813215200325843030', PrimitiveNode(type='Variable', repr='Variable(4700412224)')], '-1545244911588267049': ['-1545244911588267049', CallNode(function='Abstraction.create_variable', type_params={'U': DeclaredTypeInstance(type='Either', params={'U': DeclaredTypeInstance(type='Vec', params={'T': DeclaredTypeInstance(type='Integer', params=None)}), 'T': DeclaredTypeInstance(type='Integer', params=None)}), 'T': DeclaredTypeInstance(type='Integer', params=None)}, args=['4813215200325843030'], kwargs=None)], '6527418092972046318': ['6527418092972046318', CallNode(function='Either.left', type_params={'U': DeclaredTypeInstance(type='Vec', params={'T': DeclaredTypeInstance(type='Integer', params=None)}), 'T': DeclaredTypeInstance(type='Integer', params=None)}, args=['-1545244911588267049'], kwargs=None)], '5254740828734901287': ['5254740828734901287', CallNode(function='Abstraction.create', type_params={'U': DeclaredTypeInstance(type='Either', params={'U': DeclaredTypeInstance(type='Vec', params={'T': DeclaredTypeInstance(type='Integer', params=None)}), 'T': DeclaredTypeInstance(type='Integer', params=None)}), 'T': DeclaredTypeInstance(type='Integer', params=None)}, args=['-1545244911588267049', '6527418092972046318'], kwargs=None)], '-5690444910203169095': ['-5690444910203169095', CallNode(function='Maybe.map', type_params={'T': DeclaredTypeInstance(type='Integer', params=None)}, args=['6789123831358882944', '5254740828734901287'], kwargs=None)], '-7843556576460117514': ['-7843556576460117514', CallNode(function='Maybe.__or__', type_params={'T': DeclaredTypeInstance(type='Either', params={'U': DeclaredTypeInstance(type='Vec', params={'T': DeclaredTypeInstance(type='Integer', params=None)}), 'T': DeclaredTypeInstance(type='Integer', params=None)})}, args=['-5690444910203169095', '1250312507332772438'], kwargs=None)], '-7907112496419367778': ['1240870953218063631', CallNode(function='Maybe.__and__', type_params={'T': DeclaredTypeInstance(type='NDArray', params=None)}, args=['2723701481682903090', '-7843556576460117514'], kwargs=None)], '-3584131521211666729': ['-3654672770811511753', CallNode(function='Maybe.map', type_params={'T': DeclaredTypeInstance(type='Pair', params={'U': DeclaredTypeInstance(type='Either', params={'U': DeclaredTypeInstance(type='Vec', params={'T': DeclaredTypeInstance(type='Integer', params=None)}), 'T': DeclaredTypeInstance(type='Integer', params=None)}), 'T': DeclaredTypeInstance(type='NDArray', params=None)})}, args=['-7907112496419367778', '7210653655396512933'], kwargs=None)], '4407928162364883436': ['-7585266382721542195', CallNode(function='NDArrayCompat.from_ndarray', type_params=None, args=['-3584131521211666729'], kwargs=None)], '3300141497389361796': ['1935586180163463095', CallNode(function='NDArrayCompat.to_ndarray', type_params=None, args=['4407928162364883436'], kwargs=None)], '4813215188545805980': ['4813215188545805980', PrimitiveNode(type='Variable', repr='Variable(4700356960)')], '9194089122223088133': ['9194089122223088133', CallNode(function='Abstraction.create_variable', type_params={'U': DeclaredTypeInstance(type='NDArray', params=None), 'T': DeclaredTypeInstance(type='Integer', params=None)}, args=['4813215188545805980'], kwargs=None)], '-8340805333693998320': ['-8340805333693998320', CallNode(function='arange_', type_params=None, args=['9194089122223088133'], kwargs=None)], '-5698281203918103133': ['-5698281203918103133', CallNode(function='Abstraction.create', type_params={'U': DeclaredTypeInstance(type='NDArray', params=None), 'T': DeclaredTypeInstance(type='Integer', params=None)}, args=['9194089122223088133', '-8340805333693998320'], kwargs=None)], '6219386688534449398': ['6219386688534449398', CallNode(function='Maybe.map', type_params={'T': DeclaredTypeInstance(type='Integer', params=None)}, args=['-1699773377263255131', '-5698281203918103133'], kwargs=None)], '1512960952093783306': ['1512960952093783306', CallNode(function='NDArrayCompat.from_ndarray', type_params=None, args=['6219386688534449398'], kwargs=None)], '183283635133801492': ['183283635133801492', CallNode(function='NDArrayCompat.__add__', type_params=None, args=['1512960952093783306', '1512960952093783306'], kwargs=None)], '-5477221866921420825': ['-5477221866921420825', CallNode(function='Converter.convert', type_params={'T': DeclaredTypeInstance(type='NDArray', params=None)}, args=['183283635133801492'], kwargs=None)], '7443961620176968740': ['7443961620176968740', CallNode(function='Maybe.__and__', type_params={'T': DeclaredTypeInstance(type='NDArray', params=None)}, args=['-5477221866921420825', '-7843556576460117514'], kwargs=None)], '5909619464366552395': ['-3654672770811511753', CallNode(function='Maybe.map', type_params={'T': DeclaredTypeInstance(type='Pair', params={'U': DeclaredTypeInstance(type='Either', params={'U': DeclaredTypeInstance(type='Vec', params={'T': DeclaredTypeInstance(type='Integer', params=None)}), 'T': DeclaredTypeInstance(type='Integer', params=None)}), 'T': DeclaredTypeInstance(type='NDArray', params=None)})}, args=['7443961620176968740', '7210653655396512933'], kwargs=None)], '50083999247817587': ['-7585266382721542195', CallNode(function='NDArrayCompat.from_ndarray', type_params=None, args=['5909619464366552395'], kwargs=None)], '-4142944368808539398': ['1935586180163463095', CallNode(function='NDArrayCompat.to_ndarray', type_params=None, args=['50083999247817587'], kwargs=None)], '-4664464520583065041': ['-4664464520583065041', CallNode(function='Maybe.nothing', type_params={'T': DeclaredTypeInstance(type='NDArray', params=None)}, args=None, kwargs=None)], '5018280261059491459': ['5018280261059491459', PrimitiveNode(type='BoundInfer', repr='Maybe.just')], '-1095585159230285059': ['-1095585159230285059', CallNode(function='Abstraction.from_fn', type_params=None, args=['5018280261059491459'], kwargs=None)], '-7272182369909386791': ['-7272182369909386791', CallNode(function='Abstraction.__add__', type_params={'U': DeclaredTypeInstance(type='Maybe', params={'T': DeclaredTypeInstance(type='NDArray', params=None)}), 'T': DeclaredTypeInstance(type='NDArray', params=None)}, args=['-1095585159230285059', '7210653655396512933'], kwargs=None)], '2279188004980715661': ['-3654672770811511753', CallNode(function='Maybe.match', type_params={'T': DeclaredTypeInstance(type='Pair', params={'U': DeclaredTypeInstance(type='Either', params={'U': DeclaredTypeInstance(type='Vec', params={'T': DeclaredTypeInstance(type='Integer', params=None)}), 'T': DeclaredTypeInstance(type='Integer', params=None)}), 'T': DeclaredTypeInstance(type='NDArray', params=None)})}, args=['7443961620176968740', '-4664464520583065041', '-7272182369909386791'], kwargs=None)], '-7882535387783133773': ['-7585266382721542195', CallNode(function='NDArrayCompat.from_ndarray', type_params=None, args=['2279188004980715661'], kwargs=None)], '6294476040688010565': ['1935586180163463095', CallNode(function='NDArrayCompat.to_ndarray', type_params=None, args=['-7882535387783133773'], kwargs=None)], '2703072876348085923': ['2703072876348085923', CallNode(function='Maybe.nothing', type_params={'T': DeclaredTypeInstance(type='Either', params={'U': DeclaredTypeInstance(type='Vec', params={'T': DeclaredTypeInstance(type='Integer', params=None)}), 'T': DeclaredTypeInstance(type='Integer', params=None)})}, args=None, kwargs=None)], '-5117706931675647553': ['-5117706931675647553', PrimitiveNode(type='BoundInfer', repr='Maybe.just')], '-6500393008186537515': ['-6500393008186537515', CallNode(function='Abstraction.from_fn', type_params=None, args=['-5117706931675647553'], kwargs=None)], '7792348576416097263': ['7792348576416097263', CallNode(function='Abstraction.__add__', type_params={'U': DeclaredTypeInstance(type='Maybe', params={'T': DeclaredTypeInstance(type='Either', params={'U': DeclaredTypeInstance(type='Vec', params={'T': DeclaredTypeInstance(type='Integer', params=None)}), 'T': DeclaredTypeInstance(type='Integer', params=None)})}), 'T': DeclaredTypeInstance(type='Either', params={'U': DeclaredTypeInstance(type='Vec', params={'T': DeclaredTypeInstance(type='Integer', params=None)}), 'T': DeclaredTypeInstance(type='Integer', params=None)})}, args=['-6500393008186537515', '2333271571750003503'], kwargs=None)], '-3390378467644071701': ['1250312507332772438', CallNode(function='Maybe.match', type_params={'T': DeclaredTypeInstance(type='Vec', params={'T': DeclaredTypeInstance(type='Integer', params=None)})}, args=['2944773798775947601', '2703072876348085923', '7792348576416097263'], kwargs=None)], '8747943994578852162': ['-7843556576460117514', CallNode(function='Maybe.__or__', type_params={'T': DeclaredTypeInstance(type='Either', params={'U': DeclaredTypeInstance(type='Vec', params={'T': DeclaredTypeInstance(type='Integer', params=None)}), 'T': DeclaredTypeInstance(type='Integer', params=None)})}, args=['-5690444910203169095', '-3390378467644071701'], kwargs=None)], '2441734120428312478': ['7443961620176968740', CallNode(function='Maybe.__and__', type_params={'T': DeclaredTypeInstance(type='NDArray', params=None)}, args=['-5477221866921420825', '8747943994578852162'], kwargs=None)], '-8593433398620042011': ['-3654672770811511753', CallNode(function='Maybe.match', type_params={'T': DeclaredTypeInstance(type='Pair', params={'U': DeclaredTypeInstance(type='Either', params={'U': DeclaredTypeInstance(type='Vec', params={'T': DeclaredTypeInstance(type='Integer', params=None)}), 'T': DeclaredTypeInstance(type='Integer', params=None)}), 'T': DeclaredTypeInstance(type='NDArray', params=None)})}, args=['2441734120428312478', '-4664464520583065041', '-7272182369909386791'], kwargs=None)], '-4901889869368323256': ['-7585266382721542195', CallNode(function='NDArrayCompat.from_ndarray', type_params=None, args=['-8593433398620042011'], kwargs=None)], '2305810900538143275': ['1935586180163463095', CallNode(function='NDArrayCompat.to_ndarray', type_params=None, args=['-4901889869368323256'], kwargs=None)], '3450467154562028908': ['3450467154562028908', CallNode(function='Abstraction.__add__', type_params={'U': DeclaredTypeInstance(type='Maybe', params={'T': DeclaredTypeInstance(type='Either', params={'U': DeclaredTypeInstance(type='Vec', params={'T': DeclaredTypeInstance(type='Integer', params=None)}), 'T': DeclaredTypeInstance(type='Integer', params=None)})}), 'T': DeclaredTypeInstance(type='Either', params={'U': DeclaredTypeInstance(type='Vec', params={'T': DeclaredTypeInstance(type='Integer', params=None)}), 'T': DeclaredTypeInstance(type='Integer', params=None)})}, args=['-6500393008186537515', '5254740828734901287'], kwargs=None)], '6438777703441787242': ['-5690444910203169095', CallNode(function='Maybe.match', type_params={'T': DeclaredTypeInstance(type='Integer', params=None)}, args=['6789123831358882944', '2703072876348085923', '3450467154562028908'], kwargs=None)], '547822688949709837': ['-7843556576460117514', CallNode(function='Maybe.__or__', type_params={'T': DeclaredTypeInstance(type='Either', params={'U': DeclaredTypeInstance(type='Vec', params={'T': DeclaredTypeInstance(type='Integer', params=None)}), 'T': DeclaredTypeInstance(type='Integer', params=None)})}, args=['6438777703441787242', '-3390378467644071701'], kwargs=None)], '6165369833445084534': ['7443961620176968740', CallNode(function='Maybe.__and__', type_params={'T': DeclaredTypeInstance(type='NDArray', params=None)}, args=['-5477221866921420825', '547822688949709837'], kwargs=None)], '1768696950775263068': ['-3654672770811511753', CallNode(function='Maybe.match', type_params={'T': DeclaredTypeInstance(type='Pair', params={'U': DeclaredTypeInstance(type='Either', params={'U': DeclaredTypeInstance(type='Vec', params={'T': DeclaredTypeInstance(type='Integer', params=None)}), 'T': DeclaredTypeInstance(type='Integer', params=None)}), 'T': DeclaredTypeInstance(type='NDArray', params=None)})}, args=['6165369833445084534', '-4664464520583065041', '-7272182369909386791'], kwargs=None)], '-3654919446309870082': ['-7585266382721542195', CallNode(function='NDArrayCompat.from_ndarray', type_params=None, args=['1768696950775263068'], kwargs=None)], '-2038121208858023980': ['1935586180163463095', CallNode(function='NDArrayCompat.to_ndarray', type_params=None, args=['-3654919446309870082'], kwargs=None)], '6611234870850315639': ['-5690444910203169095', CallNode(function='Abstraction.__call__', type_params={'U': DeclaredTypeInstance(type='Maybe', params={'T': DeclaredTypeInstance(type='Either', params={'U': DeclaredTypeInstance(type='Vec', params={'T': DeclaredTypeInstance(type='Integer', params=None)}), 'T': DeclaredTypeInstance(type='Integer', params=None)})}), 'T': DeclaredTypeInstance(type='Integer', params=None)}, args=['3450467154562028908', '5109073286877630545'], kwargs=None)], '-1115633916511162292': ['-7843556576460117514', CallNode(function='Maybe.__or__', type_params={'T': DeclaredTypeInstance(type='Either', params={'U': DeclaredTypeInstance(type='Vec', params={'T': DeclaredTypeInstance(type='Integer', params=None)}), 'T': DeclaredTypeInstance(type='Integer', params=None)})}, args=['6611234870850315639', '-3390378467644071701'], kwargs=None)], '-4095910170432122847': ['7443961620176968740', CallNode(function='Maybe.__and__', type_params={'T': DeclaredTypeInstance(type='NDArray', params=None)}, args=['-5477221866921420825', '-1115633916511162292'], kwargs=None)], '510301045073135172': ['-3654672770811511753', CallNode(function='Maybe.match', type_params={'T': DeclaredTypeInstance(type='Pair', params={'U': DeclaredTypeInstance(type='Either', params={'U': DeclaredTypeInstance(type='Vec', params={'T': DeclaredTypeInstance(type='Integer', params=None)}), 'T': DeclaredTypeInstance(type='Integer', params=None)}), 'T': DeclaredTypeInstance(type='NDArray', params=None)})}, args=['-4095910170432122847', '-4664464520583065041', '-7272182369909386791'], kwargs=None)], '-7708299086038277258': ['-7585266382721542195', CallNode(function='NDArrayCompat.from_ndarray', type_params=None, args=['510301045073135172'], kwargs=None)], '5611649141598954234': ['1935586180163463095', CallNode(function='NDArrayCompat.to_ndarray', type_params=None, args=['-7708299086038277258'], kwargs=None)], '1282662085958520030': ['1282662085958520030', CallNode(function='Abstraction.__add__', type_params={'U': DeclaredTypeInstance(type='Maybe', params={'T': DeclaredTypeInstance(type='NDArray', params=None)}), 'T': DeclaredTypeInstance(type='NDArray', params=None)}, args=['-1095585159230285059', '-5698281203918103133'], kwargs=None)], '-5708270348187956537': ['6219386688534449398', CallNode(function='Maybe.match', type_params={'T': DeclaredTypeInstance(type='Integer', params=None)}, args=['-1699773377263255131', '-4664464520583065041', '1282662085958520030'], kwargs=None)], '7418876943315760347': ['1512960952093783306', CallNode(function='NDArrayCompat.from_ndarray', type_params=None, args=['-5708270348187956537'], kwargs=None)], '-6346803416583130588': ['183283635133801492', CallNode(function='NDArrayCompat.__add__', type_params=None, args=['7418876943315760347', '7418876943315760347'], kwargs=None)], '5782438499429486153': ['-5477221866921420825', CallNode(function='Converter.convert', type_params={'T': DeclaredTypeInstance(type='NDArray', params=None)}, args=['-6346803416583130588'], kwargs=None)], '6238575479103760735': ['7443961620176968740', CallNode(function='Maybe.__and__', type_params={'T': DeclaredTypeInstance(type='NDArray', params=None)}, args=['5782438499429486153', '-1115633916511162292'], kwargs=None)], '-309788355308117949': ['-3654672770811511753', CallNode(function='Maybe.match', type_params={'T': DeclaredTypeInstance(type='Pair', params={'U': DeclaredTypeInstance(type='Either', params={'U': DeclaredTypeInstance(type='Vec', params={'T': DeclaredTypeInstance(type='Integer', params=None)}), 'T': DeclaredTypeInstance(type='Integer', params=None)}), 'T': DeclaredTypeInstance(type='NDArray', params=None)})}, args=['6238575479103760735', '-4664464520583065041', '-7272182369909386791'], kwargs=None)], '-2986294243986845795': ['-7585266382721542195', CallNode(function='NDArrayCompat.from_ndarray', type_params=None, args=['-309788355308117949'], kwargs=None)], '8850204639408954233': ['1935586180163463095', CallNode(function='NDArrayCompat.to_ndarray', type_params=None, args=['-2986294243986845795'], kwargs=None)], '-8956525556301996865': ['6219386688534449398', CallNode(function='Abstraction.__call__', type_params={'U': DeclaredTypeInstance(type='Maybe', params={'T': DeclaredTypeInstance(type='NDArray', params=None)}), 'T': DeclaredTypeInstance(type='Integer', params=None)}, args=['1282662085958520030', '579615478629357154'], kwargs=None)], '-7454449488011523618': ['1512960952093783306', CallNode(function='NDArrayCompat.from_ndarray', type_params=None, args=['-8956525556301996865'], kwargs=None)], '-5971861533727488186': ['183283635133801492', CallNode(function='NDArrayCompat.__add__', type_params=None, args=['-7454449488011523618', '-7454449488011523618'], kwargs=None)], '-6761449467495096585': ['-5477221866921420825', CallNode(function='Converter.convert', type_params={'T': DeclaredTypeInstance(type='NDArray', params=None)}, args=['-5971861533727488186'], kwargs=None)], '2988611848425537937': ['7443961620176968740', CallNode(function='Maybe.__and__', type_params={'T': DeclaredTypeInstance(type='NDArray', params=None)}, args=['-6761449467495096585', '-1115633916511162292'], kwargs=None)], '3074461408192598962': ['-3654672770811511753', CallNode(function='Maybe.match', type_params={'T': DeclaredTypeInstance(type='Pair', params={'U': DeclaredTypeInstance(type='Either', params={'U': DeclaredTypeInstance(type='Vec', params={'T': DeclaredTypeInstance(type='Integer', params=None)}), 'T': DeclaredTypeInstance(type='Integer', params=None)}), 'T': DeclaredTypeInstance(type='NDArray', params=None)})}, args=['2988611848425537937', '-4664464520583065041', '-7272182369909386791'], kwargs=None)], '6077633707209991085': ['-7585266382721542195', CallNode(function='NDArrayCompat.from_ndarray', type_params=None, args=['3074461408192598962'], kwargs=None)], '-6812286573423641010': ['1935586180163463095', CallNode(function='NDArrayCompat.to_ndarray', type_params=None, args=['6077633707209991085'], kwargs=None)], '-4410156826259018103': ['-4410156826259018103', PrimitiveNode(type='Variable', repr='Variable(4700555864)')], '5769543236148692639': ['5769543236148692639', CallNode(function='Abstraction.create_variable', type_params={'U': DeclaredTypeInstance(type='Maybe', params={'T': DeclaredTypeInstance(type='Either', params={'U': DeclaredTypeInstance(type='Vec', params={'T': DeclaredTypeInstance(type='Integer', params=None)}), 'T': DeclaredTypeInstance(type='Integer', params=None)})}), 'T': DeclaredTypeInstance(type='Either', params={'U': DeclaredTypeInstance(type='Vec', params={'T': DeclaredTypeInstance(type='Integer', params=None)}), 'T': DeclaredTypeInstance(type='Integer', params=None)})}, args=['-4410156826259018103'], kwargs=None)], '4389627826087453676': ['4389627826087453676', CallNode(function='Maybe.just', type_params={'T': DeclaredTypeInstance(type='Either', params={'U': DeclaredTypeInstance(type='Vec', params={'T': DeclaredTypeInstance(type='Integer', params=None)}), 'T': DeclaredTypeInstance(type='Integer', params=None)})}, args=['5769543236148692639'], kwargs=None)], '-1732661160011429166': ['-6500393008186537515', CallNode(function='Abstraction.create', type_params={'U': DeclaredTypeInstance(type='Maybe', params={'T': DeclaredTypeInstance(type='Either', params={'U': DeclaredTypeInstance(type='Vec', params={'T': DeclaredTypeInstance(type='Integer', params=None)}), 'T': DeclaredTypeInstance(type='Integer', params=None)})}), 'T': DeclaredTypeInstance(type='Either', params={'U': DeclaredTypeInstance(type='Vec', params={'T': DeclaredTypeInstance(type='Integer', params=None)}), 'T': DeclaredTypeInstance(type='Integer', params=None)})}, args=['5769543236148692639', '4389627826087453676'], kwargs=None)], '7548938828277646041': ['3450467154562028908', CallNode(function='Abstraction.__add__', type_params={'U': DeclaredTypeInstance(type='Maybe', params={'T': DeclaredTypeInstance(type='Either', params={'U': DeclaredTypeInstance(type='Vec', params={'T': DeclaredTypeInstance(type='Integer', params=None)}), 'T': DeclaredTypeInstance(type='Integer', params=None)})}), 'T': DeclaredTypeInstance(type='Either', params={'U': DeclaredTypeInstance(type='Vec', params={'T': DeclaredTypeInstance(type='Integer', params=None)}), 'T': DeclaredTypeInstance(type='Integer', params=None)})}, args=['-1732661160011429166', '5254740828734901287'], kwargs=None)], '6869511155424569206': ['-5690444910203169095', CallNode(function='Abstraction.__call__', type_params={'U': DeclaredTypeInstance(type='Maybe', params={'T': DeclaredTypeInstance(type='Either', params={'U': DeclaredTypeInstance(type='Vec', params={'T': DeclaredTypeInstance(type='Integer', params=None)}), 'T': DeclaredTypeInstance(type='Integer', params=None)})}), 'T': DeclaredTypeInstance(type='Integer', params=None)}, args=['7548938828277646041', '5109073286877630545'], kwargs=None)], '5261101807845450126': ['7792348576416097263', CallNode(function='Abstraction.__add__', type_params={'U': DeclaredTypeInstance(type='Maybe', params={'T': DeclaredTypeInstance(type='Either', params={'U': DeclaredTypeInstance(type='Vec', params={'T': DeclaredTypeInstance(type='Integer', params=None)}), 'T': DeclaredTypeInstance(type='Integer', params=None)})}), 'T': DeclaredTypeInstance(type='Either', params={'U': DeclaredTypeInstance(type='Vec', params={'T': DeclaredTypeInstance(type='Integer', params=None)}), 'T': DeclaredTypeInstance(type='Integer', params=None)})}, args=['-1732661160011429166', '2333271571750003503'], kwargs=None)], '5345158766180672125': ['1250312507332772438', CallNode(function='Maybe.match', type_params={'T': DeclaredTypeInstance(type='Vec', params={'T': DeclaredTypeInstance(type='Integer', params=None)})}, args=['2944773798775947601', '2703072876348085923', '5261101807845450126'], kwargs=None)], '-2141729615201721814': ['-7843556576460117514', CallNode(function='Maybe.__or__', type_params={'T': DeclaredTypeInstance(type='Either', params={'U': DeclaredTypeInstance(type='Vec', params={'T': DeclaredTypeInstance(type='Integer', params=None)}), 'T': DeclaredTypeInstance(type='Integer', params=None)})}, args=['6869511155424569206', '5345158766180672125'], kwargs=None)], '-7812553897122155129': ['7443961620176968740', CallNode(function='Maybe.__and__', type_params={'T': DeclaredTypeInstance(type='NDArray', params=None)}, args=['-6761449467495096585', '-2141729615201721814'], kwargs=None)], '6526530955114339048': ['-3654672770811511753', CallNode(function='Maybe.match', type_params={'T': DeclaredTypeInstance(type='Pair', params={'U': DeclaredTypeInstance(type='Either', params={'U': DeclaredTypeInstance(type='Vec', params={'T': DeclaredTypeInstance(type='Integer', params=None)}), 'T': DeclaredTypeInstance(type='Integer', params=None)}), 'T': DeclaredTypeInstance(type='NDArray', params=None)})}, args=['-7812553897122155129', '-4664464520583065041', '-7272182369909386791'], kwargs=None)], '3335157028932074336': ['-7585266382721542195', CallNode(function='NDArrayCompat.from_ndarray', type_params=None, args=['6526530955114339048'], kwargs=None)], '-615882590086075200': ['1935586180163463095', CallNode(function='NDArrayCompat.to_ndarray', type_params=None, args=['3335157028932074336'], kwargs=None)], '-4410156828438140928': ['-4410156828438140928', PrimitiveNode(type='Variable', repr='Variable(4700587176)')], '1275633262893457532': ['1275633262893457532', CallNode(function='Abstraction.create_variable', type_params={'U': DeclaredTypeInstance(type='Maybe', params={'T': DeclaredTypeInstance(type='NDArray', params=None)}), 'T': DeclaredTypeInstance(type='NDArray', params=None)}, args=['-4410156828438140928'], kwargs=None)], '-212784525855687111': ['-212784525855687111', CallNode(function='Maybe.just', type_params={'T': DeclaredTypeInstance(type='NDArray', params=None)}, args=['1275633262893457532'], kwargs=None)], '2988532155951106567': ['-1095585159230285059', CallNode(function='Abstraction.create', type_params={'U': DeclaredTypeInstance(type='Maybe', params={'T': DeclaredTypeInstance(type='NDArray', params=None)}), 'T': DeclaredTypeInstance(type='NDArray', params=None)}, args=['1275633262893457532', '-212784525855687111'], kwargs=None)], '2103808445426907327': ['1282662085958520030', CallNode(function='Abstraction.__add__', type_params={'U': DeclaredTypeInstance(type='Maybe', params={'T': DeclaredTypeInstance(type='NDArray', params=None)}), 'T': DeclaredTypeInstance(type='NDArray', params=None)}, args=['2988532155951106567', '-5698281203918103133'], kwargs=None)], '-5700005666712022590': ['6219386688534449398', CallNode(function='Abstraction.__call__', type_params={'U': DeclaredTypeInstance(type='Maybe', params={'T': DeclaredTypeInstance(type='NDArray', params=None)}), 'T': DeclaredTypeInstance(type='Integer', params=None)}, args=['2103808445426907327', '579615478629357154'], kwargs=None)], '-251764288365888734': ['1512960952093783306', CallNode(function='NDArrayCompat.from_ndarray', type_params=None, args=['-5700005666712022590'], kwargs=None)], '4514098878626001444': ['183283635133801492', CallNode(function='NDArrayCompat.__add__', type_params=None, args=['-251764288365888734', '-251764288365888734'], kwargs=None)], '1714036227987191754': ['-5477221866921420825', CallNode(function='Converter.convert', type_params={'T': DeclaredTypeInstance(type='NDArray', params=None)}, args=['4514098878626001444'], kwargs=None)], '1220523710815122284': ['7443961620176968740', CallNode(function='Maybe.__and__', type_params={'T': DeclaredTypeInstance(type='NDArray', params=None)}, args=['1714036227987191754', '-2141729615201721814'], kwargs=None)], '6611900685694498188': ['-7272182369909386791', CallNode(function='Abstraction.__add__', type_params={'U': DeclaredTypeInstance(type='Maybe', params={'T': DeclaredTypeInstance(type='NDArray', params=None)}), 'T': DeclaredTypeInstance(type='NDArray', params=None)}, args=['2988532155951106567', '7210653655396512933'], kwargs=None)], '7316226698377770488': ['-3654672770811511753', CallNode(function='Maybe.match', type_params={'T': DeclaredTypeInstance(type='Pair', params={'U': DeclaredTypeInstance(type='Either', params={'U': DeclaredTypeInstance(type='Vec', params={'T': DeclaredTypeInstance(type='Integer', params=None)}), 'T': DeclaredTypeInstance(type='Integer', params=None)}), 'T': DeclaredTypeInstance(type='NDArray', params=None)})}, args=['1220523710815122284', '-4664464520583065041', '6611900685694498188'], kwargs=None)], '8066852995898518341': ['-7585266382721542195', CallNode(function='NDArrayCompat.from_ndarray', type_params=None, args=['7316226698377770488'], kwargs=None)], '-554557341685015507': ['1935586180163463095', CallNode(function='NDArrayCompat.to_ndarray', type_params=None, args=['8066852995898518341'], kwargs=None)], '3516816812917669638': ['3516816812917669638', CallNode(function='Maybe.just', type_params={'T': DeclaredTypeInstance(type='NDArray', params=None)}, args=['-2031615137486694345'], kwargs=None)], '8475390729817755043': ['8475390729817755043', CallNode(function='Abstraction.create', type_params=None, args=['8000944135531895841', '3516816812917669638'], kwargs=None)], '-5239319086784910624': ['-3654672770811511753', CallNode(function='Maybe.match', type_params={'T': DeclaredTypeInstance(type='Pair', params={'U': DeclaredTypeInstance(type='Either', params={'U': DeclaredTypeInstance(type='Vec', params={'T': DeclaredTypeInstance(type='Integer', params=None)}), 'T': DeclaredTypeInstance(type='Integer', params=None)}), 'T': DeclaredTypeInstance(type='NDArray', params=None)})}, args=['1220523710815122284', '-4664464520583065041', '8475390729817755043'], kwargs=None)], '8039876164647614212': ['-7585266382721542195', CallNode(function='NDArrayCompat.from_ndarray', type_params=None, args=['-5239319086784910624'], kwargs=None)], '4925757743569357558': ['1935586180163463095', CallNode(function='NDArrayCompat.to_ndarray', type_params=None, args=['8039876164647614212'], kwargs=None)], '-6529800568714258019': ['-6529800568714258019', CallNode(function='Maybe.just', type_params={'T': DeclaredTypeInstance(type='Either', params={'U': DeclaredTypeInstance(type='Vec', params={'T': DeclaredTypeInstance(type='Integer', params=None)}), 'T': DeclaredTypeInstance(type='Integer', params=None)})}, args=['5299933280258969538'], kwargs=None)], '1765229937423645188': ['7792348576416097263', CallNode(function='Abstraction.create', type_params=None, args=['2897359456192805594', '-6529800568714258019'], kwargs=None)], '1082193680570980265': ['1250312507332772438', CallNode(function='Maybe.match', type_params={'T': DeclaredTypeInstance(type='Vec', params={'T': DeclaredTypeInstance(type='Integer', params=None)})}, args=['2944773798775947601', '2703072876348085923', '1765229937423645188'], kwargs=None)], '4201819479016430412': ['-7843556576460117514', CallNode(function='Maybe.__or__', type_params={'T': DeclaredTypeInstance(type='Either', params={'U': DeclaredTypeInstance(type='Vec', params={'T': DeclaredTypeInstance(type='Integer', params=None)}), 'T': DeclaredTypeInstance(type='Integer', params=None)})}, args=['6869511155424569206', '1082193680570980265'], kwargs=None)], '-4526987054053700703': ['7443961620176968740', CallNode(function='Maybe.__and__', type_params={'T': DeclaredTypeInstance(type='NDArray', params=None)}, args=['1714036227987191754', '4201819479016430412'], kwargs=None)], '5385778919572997268': ['-3654672770811511753', CallNode(function='Maybe.match', type_params={'T': DeclaredTypeInstance(type='Pair', params={'U': DeclaredTypeInstance(type='Either', params={'U': DeclaredTypeInstance(type='Vec', params={'T': DeclaredTypeInstance(type='Integer', params=None)}), 'T': DeclaredTypeInstance(type='Integer', params=None)}), 'T': DeclaredTypeInstance(type='NDArray', params=None)})}, args=['-4526987054053700703', '-4664464520583065041', '8475390729817755043'], kwargs=None)], '6065453143059536812': ['-7585266382721542195', CallNode(function='NDArrayCompat.from_ndarray', type_params=None, args=['5385778919572997268'], kwargs=None)], '-6046152058755040221': ['1935586180163463095', CallNode(function='NDArrayCompat.to_ndarray', type_params=None, args=['6065453143059536812'], kwargs=None)], '-2693218290189020775': ['-2693218290189020775', CallNode(function='Maybe.just', type_params={'T': DeclaredTypeInstance(type='Either', params={'U': DeclaredTypeInstance(type='Vec', params={'T': DeclaredTypeInstance(type='Integer', params=None)}), 'T': DeclaredTypeInstance(type='Integer', params=None)})}, args=['6527418092972046318'], kwargs=None)], '433862292497723445': ['3450467154562028908', CallNode(function='Abstraction.create', type_params=None, args=['-1545244911588267049', '-2693218290189020775'], kwargs=None)], '4933073225671314959': ['-5690444910203169095', CallNode(function='Abstraction.__call__', type_params={'U': DeclaredTypeInstance(type='Maybe', params={'T': DeclaredTypeInstance(type='Either', params={'U': DeclaredTypeInstance(type='Vec', params={'T': DeclaredTypeInstance(type='Integer', params=None)}), 'T': DeclaredTypeInstance(type='Integer', params=None)})}), 'T': DeclaredTypeInstance(type='Integer', params=None)}, args=['433862292497723445', '5109073286877630545'], kwargs=None)], '-5922975291147053079': ['-7843556576460117514', CallNode(function='Maybe.__or__', type_params={'T': DeclaredTypeInstance(type='Either', params={'U': DeclaredTypeInstance(type='Vec', params={'T': DeclaredTypeInstance(type='Integer', params=None)}), 'T': DeclaredTypeInstance(type='Integer', params=None)})}, args=['4933073225671314959', '1082193680570980265'], kwargs=None)], '6323230222169240643': ['7443961620176968740', CallNode(function='Maybe.__and__', type_params={'T': DeclaredTypeInstance(type='NDArray', params=None)}, args=['1714036227987191754', '-5922975291147053079'], kwargs=None)], '1401308054352905831': ['-3654672770811511753', CallNode(function='Maybe.match', type_params={'T': DeclaredTypeInstance(type='Pair', params={'U': DeclaredTypeInstance(type='Either', params={'U': DeclaredTypeInstance(type='Vec', params={'T': DeclaredTypeInstance(type='Integer', params=None)}), 'T': DeclaredTypeInstance(type='Integer', params=None)}), 'T': DeclaredTypeInstance(type='NDArray', params=None)})}, args=['6323230222169240643', '-4664464520583065041', '8475390729817755043'], kwargs=None)], '6197798774908396561': ['-7585266382721542195', CallNode(function='NDArrayCompat.from_ndarray', type_params=None, args=['1401308054352905831'], kwargs=None)], '-9088298557536571878': ['1935586180163463095', CallNode(function='NDArrayCompat.to_ndarray', type_params=None, args=['6197798774908396561'], kwargs=None)], '-7067585356806477310': ['-7067585356806477310', CallNode(function='Either.left', type_params={'U': DeclaredTypeInstance(type='Vec', params={'T': DeclaredTypeInstance(type='Integer', params=None)}), 'T': DeclaredTypeInstance(type='Integer', params=None)}, args=['5109073286877630545'], kwargs=None)], '-3000247746444544398': ['-5690444910203169095', CallNode(function='Maybe.just', type_params={'T': DeclaredTypeInstance(type='Either', params={'U': DeclaredTypeInstance(type='Vec', params={'T': DeclaredTypeInstance(type='Integer', params=None)}), 'T': DeclaredTypeInstance(type='Integer', params=None)})}, args=['-7067585356806477310'], kwargs=None)], '8755490275676031113': ['-7843556576460117514', CallNode(function='Maybe.__or__', type_params={'T': DeclaredTypeInstance(type='Either', params={'U': DeclaredTypeInstance(type='Vec', params={'T': DeclaredTypeInstance(type='Integer', params=None)}), 'T': DeclaredTypeInstance(type='Integer', params=None)})}, args=['-3000247746444544398', '1082193680570980265'], kwargs=None)], '2632161455465107062': ['7443961620176968740', CallNode(function='Maybe.__and__', type_params={'T': DeclaredTypeInstance(type='NDArray', params=None)}, args=['1714036227987191754', '8755490275676031113'], kwargs=None)], '-4225154918214793363': ['-3654672770811511753', CallNode(function='Maybe.match', type_params={'T': DeclaredTypeInstance(type='Pair', params={'U': DeclaredTypeInstance(type='Either', params={'U': DeclaredTypeInstance(type='Vec', params={'T': DeclaredTypeInstance(type='Integer', params=None)}), 'T': DeclaredTypeInstance(type='Integer', params=None)}), 'T': DeclaredTypeInstance(type='NDArray', params=None)})}, args=['2632161455465107062', '-4664464520583065041', '8475390729817755043'], kwargs=None)], '4161632319428859438': ['-7585266382721542195', CallNode(function='NDArrayCompat.from_ndarray', type_params=None, args=['-4225154918214793363'], kwargs=None)], '7360229284616055502': ['1935586180163463095', CallNode(function='NDArrayCompat.to_ndarray', type_params=None, args=['4161632319428859438'], kwargs=None)], '-255592637557283532': ['-7843556576460117514', CallNode(function='Maybe.just', type_params=None, args=['-7067585356806477310'], kwargs=None)], '-1170866238113857522': ['7443961620176968740', CallNode(function='Maybe.__and__', type_params={'T': DeclaredTypeInstance(type='NDArray', params=None)}, args=['1714036227987191754', '-255592637557283532'], kwargs=None)], '5886063245101475086': ['-3654672770811511753', CallNode(function='Maybe.match', type_params={'T': DeclaredTypeInstance(type='Pair', params={'U': DeclaredTypeInstance(type='Either', params={'U': DeclaredTypeInstance(type='Vec', params={'T': DeclaredTypeInstance(type='Integer', params=None)}), 'T': DeclaredTypeInstance(type='Integer', params=None)}), 'T': DeclaredTypeInstance(type='NDArray', params=None)})}, args=['-1170866238113857522', '-4664464520583065041', '8475390729817755043'], kwargs=None)], '4508445537048850066': ['-7585266382721542195', CallNode(function='NDArrayCompat.from_ndarray', type_params=None, args=['5886063245101475086'], kwargs=None)], '5250281446577272986': ['1935586180163463095', CallNode(function='NDArrayCompat.to_ndarray', type_params=None, args=['4508445537048850066'], kwargs=None)], '-5998932024889342076': ['-5998932024889342076', CallNode(function='Maybe.just', type_params={'T': DeclaredTypeInstance(type='NDArray', params=None)}, args=['-8340805333693998320'], kwargs=None)], '2530259429743458212': ['1282662085958520030', CallNode(function='Abstraction.create', type_params=None, args=['9194089122223088133', '-5998932024889342076'], kwargs=None)], '435781563503214024': ['6219386688534449398', CallNode(function='Abstraction.__call__', type_params={'U': DeclaredTypeInstance(type='Maybe', params={'T': DeclaredTypeInstance(type='NDArray', params=None)}), 'T': DeclaredTypeInstance(type='Integer', params=None)}, args=['2530259429743458212', '579615478629357154'], kwargs=None)], '-8495777224032315590': ['1512960952093783306', CallNode(function='NDArrayCompat.from_ndarray', type_params=None, args=['435781563503214024'], kwargs=None)], '5669118298743038606': ['183283635133801492', CallNode(function='NDArrayCompat.__add__', type_params=None, args=['-8495777224032315590', '-8495777224032315590'], kwargs=None)], '2413545698962773875': ['-5477221866921420825', CallNode(function='Converter.convert', type_params={'T': DeclaredTypeInstance(type='NDArray', params=None)}, args=['5669118298743038606'], kwargs=None)], '-7705503228706736504': ['7443961620176968740', CallNode(function='Maybe.__and__', type_params={'T': DeclaredTypeInstance(type='NDArray', params=None)}, args=['2413545698962773875', '-255592637557283532'], kwargs=None)], '-5288385667088515929': ['-3654672770811511753', CallNode(function='Maybe.match', type_params={'T': DeclaredTypeInstance(type='Pair', params={'U': DeclaredTypeInstance(type='Either', params={'U': DeclaredTypeInstance(type='Vec', params={'T': DeclaredTypeInstance(type='Integer', params=None)}), 'T': DeclaredTypeInstance(type='Integer', params=None)}), 'T': DeclaredTypeInstance(type='NDArray', params=None)})}, args=['-7705503228706736504', '-4664464520583065041', '8475390729817755043'], kwargs=None)], '6662354778056765243': ['-7585266382721542195', CallNode(function='NDArrayCompat.from_ndarray', type_params=None, args=['-5288385667088515929'], kwargs=None)], '8445193625642774036': ['1935586180163463095', CallNode(function='NDArrayCompat.to_ndarray', type_params=None, args=['6662354778056765243'], kwargs=None)], '1492449749867095234': ['1492449749867095234', CallNode(function='arange_', type_params=None, args=['579615478629357154'], kwargs=None)], '-8709039676988586081': ['6219386688534449398', CallNode(function='Maybe.just', type_params={'T': DeclaredTypeInstance(type='NDArray', params=None)}, args=['1492449749867095234'], kwargs=None)], '2699990931408063806': ['1512960952093783306', CallNode(function='NDArrayCompat.from_ndarray', type_params=None, args=['-8709039676988586081'], kwargs=None)], '5624114912053899358': ['183283635133801492', CallNode(function='NDArrayCompat.__add__', type_params=None, args=['2699990931408063806', '2699990931408063806'], kwargs=None)], '3246722563793329763': ['-5477221866921420825', CallNode(function='Converter.convert', type_params={'T': DeclaredTypeInstance(type='NDArray', params=None)}, args=['5624114912053899358'], kwargs=None)], '-3884415917423819528': ['7443961620176968740', CallNode(function='Maybe.__and__', type_params={'T': DeclaredTypeInstance(type='NDArray', params=None)}, args=['3246722563793329763', '-255592637557283532'], kwargs=None)], '7320115034193138157': ['-3654672770811511753', CallNode(function='Maybe.match', type_params={'T': DeclaredTypeInstance(type='Pair', params={'U': DeclaredTypeInstance(type='Either', params={'U': DeclaredTypeInstance(type='Vec', params={'T': DeclaredTypeInstance(type='Integer', params=None)}), 'T': DeclaredTypeInstance(type='Integer', params=None)}), 'T': DeclaredTypeInstance(type='NDArray', params=None)})}, args=['-3884415917423819528', '-4664464520583065041', '8475390729817755043'], kwargs=None)], '9032225937030500594': ['-7585266382721542195', CallNode(function='NDArrayCompat.from_ndarray', type_params=None, args=['7320115034193138157'], kwargs=None)], '7200362942053490364': ['1935586180163463095', CallNode(function='NDArrayCompat.to_ndarray', type_params=None, args=['9032225937030500594'], kwargs=None)], '-4619107828061912794': ['-4619107828061912794', CallNode(function='NDArray.__add__', type_params=None, args=['1492449749867095234', '1492449749867095234'], kwargs=None)], '-6045266018355487893': ['-5477221866921420825', CallNode(function='Maybe.just', type_params=None, args=['-4619107828061912794'], kwargs=None)], '-1011633400249230129': ['183283635133801492', CallNode(function='NDArrayCompat.from_ndarray', type_params=None, args=['-6045266018355487893'], kwargs=None)], '-2822577839386693752': ['-5477221866921420825', CallNode(function='Converter.convert', type_params={'T': DeclaredTypeInstance(type='NDArray', params=None)}, args=['-1011633400249230129'], kwargs=None)], '3872101413456062539': ['7443961620176968740', CallNode(function='Maybe.__and__', type_params={'T': DeclaredTypeInstance(type='NDArray', params=None)}, args=['-2822577839386693752', '-255592637557283532'], kwargs=None)], '-928583236105201472': ['-3654672770811511753', CallNode(function='Maybe.match', type_params={'T': DeclaredTypeInstance(type='Pair', params={'U': DeclaredTypeInstance(type='Either', params={'U': DeclaredTypeInstance(type='Vec', params={'T': DeclaredTypeInstance(type='Integer', params=None)}), 'T': DeclaredTypeInstance(type='Integer', params=None)}), 'T': DeclaredTypeInstance(type='NDArray', params=None)})}, args=['3872101413456062539', '-4664464520583065041', '8475390729817755043'], kwargs=None)], '7765880682925208098': ['-7585266382721542195', CallNode(function='NDArrayCompat.from_ndarray', type_params=None, args=['-928583236105201472'], kwargs=None)], '-2706252334691809364': ['1935586180163463095', CallNode(function='NDArrayCompat.to_ndarray', type_params=None, args=['7765880682925208098'], kwargs=None)], '-7640308243335310651': ['7443961620176968740', CallNode(function='Maybe.__and__', type_params={'T': DeclaredTypeInstance(type='NDArray', params=None)}, args=['-6045266018355487893', '-255592637557283532'], kwargs=None)], '4783284794499366098': ['-3654672770811511753', CallNode(function='Maybe.match', type_params={'T': DeclaredTypeInstance(type='Pair', params={'U': DeclaredTypeInstance(type='Either', params={'U': DeclaredTypeInstance(type='Vec', params={'T': DeclaredTypeInstance(type='Integer', params=None)}), 'T': DeclaredTypeInstance(type='Integer', params=None)}), 'T': DeclaredTypeInstance(type='NDArray', params=None)})}, args=['-7640308243335310651', '-4664464520583065041', '8475390729817755043'], kwargs=None)], '-7109627650996221658': ['-7585266382721542195', CallNode(function='NDArrayCompat.from_ndarray', type_params=None, args=['4783284794499366098'], kwargs=None)], '6487425234600445546': ['1935586180163463095', CallNode(function='NDArrayCompat.to_ndarray', type_params=None, args=['-7109627650996221658'], kwargs=None)], '643017614923179061': ['643017614923179061', CallNode(function='Pair.create', type_params=None, args=['-4619107828061912794', '-7067585356806477310'], kwargs=None)], '5252046903394539286': ['7443961620176968740', CallNode(function='Maybe.just', type_params=None, args=['643017614923179061'], kwargs=None)], '1656506606529607116': ['-3654672770811511753', CallNode(function='Maybe.match', type_params={'T': DeclaredTypeInstance(type='Pair', params={'U': DeclaredTypeInstance(type='Either', params={'U': DeclaredTypeInstance(type='Vec', params={'T': DeclaredTypeInstance(type='Integer', params=None)}), 'T': DeclaredTypeInstance(type='Integer', params=None)}), 'T': DeclaredTypeInstance(type='NDArray', params=None)})}, args=['5252046903394539286', '-4664464520583065041', '8475390729817755043'], kwargs=None)], '3902679420699052814': ['-7585266382721542195', CallNode(function='NDArrayCompat.from_ndarray', type_params=None, args=['1656506606529607116'], kwargs=None)], '6640078072669326382': ['1935586180163463095', CallNode(function='NDArrayCompat.to_ndarray', type_params=None, args=['3902679420699052814'], kwargs=None)], '8691229672040384370': ['-3654672770811511753', CallNode(function='Abstraction.__call__', type_params={'U': DeclaredTypeInstance(type='Maybe', params={'T': DeclaredTypeInstance(type='NDArray', params=None)}), 'T': DeclaredTypeInstance(type='Pair', params={'U': DeclaredTypeInstance(type='Either', params={'U': DeclaredTypeInstance(type='Vec', params={'T': DeclaredTypeInstance(type='Integer', params=None)}), 'T': DeclaredTypeInstance(type='Integer', params=None)}), 'T': DeclaredTypeInstance(type='NDArray', params=None)})}, args=['8475390729817755043', '643017614923179061'], kwargs=None)], '-6101509707006216853': ['-7585266382721542195', CallNode(function='NDArrayCompat.from_ndarray', type_params=None, args=['8691229672040384370'], kwargs=None)], '-774798583507628072': ['1935586180163463095', CallNode(function='NDArrayCompat.to_ndarray', type_params=None, args=['-6101509707006216853'], kwargs=None)], '1395466120539641181': ['1395466120539641181', CallNode(function='Pair.left', type_params={'U': DeclaredTypeInstance(type='Either', params={'U': DeclaredTypeInstance(type='Vec', params={'T': DeclaredTypeInstance(type='Integer', params=None)}), 'T': DeclaredTypeInstance(type='Integer', params=None)}), 'T': DeclaredTypeInstance(type='NDArray', params=None)}, args=['643017614923179061'], kwargs=None)], '6301162349869030677': ['6301162349869030677', CallNode(function='Pair.right', type_params={'U': DeclaredTypeInstance(type='Either', params={'U': DeclaredTypeInstance(type='Vec', params={'T': DeclaredTypeInstance(type='Integer', params=None)}), 'T': DeclaredTypeInstance(type='Integer', params=None)}), 'T': DeclaredTypeInstance(type='NDArray', params=None)}, args=['643017614923179061'], kwargs=None)], '9219245304176348434': ['9219245304176348434', CallNode(function='NDArray.__getitem__', type_params=None, args=['1395466120539641181', '6301162349869030677'], kwargs=None)], '-2903661489942354244': ['-3654672770811511753', CallNode(function='Maybe.just', type_params={'T': DeclaredTypeInstance(type='NDArray', params=None)}, args=['9219245304176348434'], kwargs=None)], '44395248776030981': ['-7585266382721542195', CallNode(function='NDArrayCompat.from_ndarray', type_params=None, args=['-2903661489942354244'], kwargs=None)], '-6415487103606775028': ['1935586180163463095', CallNode(function='NDArrayCompat.to_ndarray', type_params=None, args=['44395248776030981'], kwargs=None)], '812146376475600282': ['9219245304176348434', CallNode(function='NDArray.__getitem__', type_params=None, args=['1395466120539641181', '-7067585356806477310'], kwargs=None)], '-5333004143361228569': ['-3654672770811511753', CallNode(function='Maybe.just', type_params={'T': DeclaredTypeInstance(type='NDArray', params=None)}, args=['812146376475600282'], kwargs=None)], '-2730920362030976645': ['-7585266382721542195', CallNode(function='NDArrayCompat.from_ndarray', type_params=None, args=['-5333004143361228569'], kwargs=None)], '1910669533948444199': ['1935586180163463095', CallNode(function='NDArrayCompat.to_ndarray', type_params=None, args=['-2730920362030976645'], kwargs=None)], '-8562840633844268781': ['-8562840633844268781', CallNode(function='NDArray.__getitem__', type_params=None, args=['-4619107828061912794', '-7067585356806477310'], kwargs=None)], '-2600167263746280635': ['-3654672770811511753', CallNode(function='Maybe.just', type_params={'T': DeclaredTypeInstance(type='NDArray', params=None)}, args=['-8562840633844268781'], kwargs=None)], '-8582480166607514506': ['-7585266382721542195', CallNode(function='NDArrayCompat.from_ndarray', type_params=None, args=['-2600167263746280635'], kwargs=None)], '-6982537285276620806': ['1935586180163463095', CallNode(function='NDArrayCompat.to_ndarray', type_params=None, args=['-8582480166607514506'], kwargs=None)], '1516049571206598651': ['1935586180163463095', CallNode(function='NDArray.to_ndarray', type_params=None, args=['-8562840633844268781'], kwargs=None)], '-1005459391132720625': ['-1005459391132720625', CallNode(function='NDArray.to_ndarray', type_params=None, args=['-4619107828061912794'], kwargs=None)], '7756835102063988763': ['7756835102063988763', CallNode(function='unbox_idxs', type_params=None, args=['-7067585356806477310'], kwargs=None)], '9034656157077478327': ['1935586180163463095', CallNode(function='ndarray_getitem', type_params=None, args=['-1005459391132720625', '7756835102063988763'], kwargs=None)], '8569104213158216184': ['7756835102063988763', CallNode(function='unbox_integer', type_params=None, args=['5109073286877630545'], kwargs=None)], '-8092933834361013212': ['1935586180163463095', CallNode(function='ndarray_getitem', type_params=None, args=['-1005459391132720625', '8569104213158216184'], kwargs=None)], '4061799927420083391': ['1935586180163463095', CallNode(function='ndarray_getitem', type_params=None, args=['-1005459391132720625', '5838084232112052900'], kwargs=None)], '3410846223516364705': ['3410846223516364705', CallNode(function='NDArray.to_ndarray', type_params=None, args=['1492449749867095234'], kwargs=None)], '-3357586526836581614': ['-1005459391132720625', CallNode(function='ndarray_add', type_params=None, args=['3410846223516364705', '3410846223516364705'], kwargs=None)], '3981801318835326913': ['1935586180163463095', CallNode(function='ndarray_getitem', type_params=None, args=['-3357586526836581614', '5838084232112052900'], kwargs=None)], '6003697446393151645': ['6003697446393151645', CallNode(function='unbox_integer', type_params=None, args=['579615478629357154'], kwargs=None)], '5435969851716377834': ['3410846223516364705', CallNode(function='arange', type_params=None, args=['6003697446393151645'], kwargs=None)], '4669825845995946390': ['-1005459391132720625', CallNode(function='ndarray_add', type_params=None, args=['5435969851716377834', '5435969851716377834'], kwargs=None)], '-5815398103880726676': ['1935586180163463095', CallNode(function='ndarray_getitem', type_params=None, args=['4669825845995946390', '5838084232112052900'], kwargs=None)], '-2484432628204838036': ['3410846223516364705', CallNode(function='arange', type_params=None, args=['5838084232007047975'], kwargs=None)], '-5296929383186549744': ['-1005459391132720625', CallNode(function='ndarray_add', type_params=None, args=['-2484432628204838036', '-2484432628204838036'], kwargs=None)], '5458996318223799810': ['1935586180163463095', CallNode(function='ndarray_getitem', type_params=None, args=['-5296929383186549744', '5838084232112052900'], kwargs=None)], '-6213901631684034091': ['1935586180163463095', PrimitiveNode(type='ndarray', repr='array(10)')], '8128290227894987152': ['-1005459391132720625', CallNode(function='ndarray_add', type_params=None, args=['-6213901631684034091', '-6213901631684034091'], kwargs=None)], '-5730976342729695613': ['1935586180163463095', CallNode(function='ndarray_getitem', type_params=None, args=['8128290227894987152', '5838084232112052900'], kwargs=None)], '-6213901685966167691': ['-1005459391132720625', PrimitiveNode(type='ndarray', repr='array([  0,   2,   4,   6,   8,  10,  12,  14,  16,  18,  20,  22,  24,\\n        26,  28,  30,  32,  34,  36,  38,  40,  42,  44,  46,  48,  50,\\n        52,  54,  56,  58,  60,  62,  64,  66,  68,  70,  72,  74,  76,\\n        78,  80,  82,  84,  86,  88,  90,  92,  94,  96,  98, 100, 102,\\n       104, 106, 108, 110, 112, 114, 116, 118, 120, 122, 124, 126, 128,\\n       130, 132, 134, 136, 138, 140, 142, 144, 146, 148, 150, 152, 154,\\n       156, 158, 160, 162, 164, 166, 168, 170, 172, 174, 176, 178, 180,\\n       182, 184, 186, 188, 190, 192, 194, 196, 198])')], '-6662807094635375005': ['1935586180163463095', CallNode(function='ndarray_getitem', type_params=None, args=['-6213901685966167691', '5838084232112052900'], kwargs=None)]}, states=States(initial='1935586180163463095', states=[State(node='4819093797583090627', rule='metadsl_core.numpy.NDArrayCompat.__getitem__', label=None), State(node='4004756895860236997', rule='metadsl_core.either.convert_to_either', label=None), State(node='6337951227245232575', rule='metadsl_core.integer.convert_integer', label=None), State(node='-4287281295076353511', rule='metadsl_core.numpy.arange', label=None), State(node='-522260431455670959', rule='metadsl_core.integer.convert_integer', label=None), State(node='7383670754334335679', rule='metadsl_core.abstraction.Abstraction.from_fn', label=None), State(node='-6548120258914317946', rule='metadsl_core.abstraction.Abstraction.from_fn', label=None), State(node='3300141497389361796', rule='metadsl_core.abstraction.Abstraction.from_fn', label=None), State(node='-4142944368808539398', rule='metadsl_core.abstraction.Abstraction.from_fn', label=None), State(node='6294476040688010565', rule='metadsl_core.maybe.Maybe.map', label=None), State(node='2305810900538143275', rule='metadsl_core.maybe.Maybe.map', label=None), State(node='-2038121208858023980', rule='metadsl_core.maybe.Maybe.map', label=None), State(node='5611649141598954234', rule='metadsl_core.maybe.maybe_match', label=None), State(node='8850204639408954233', rule='metadsl_core.maybe.Maybe.map', label=None), State(node='-6812286573423641010', rule='metadsl_core.maybe.maybe_match', label=None), State(node='-615882590086075200', rule='metadsl_core.abstraction.Abstraction.from_fn', label=None), State(node='-554557341685015507', rule='metadsl_core.abstraction.Abstraction.from_fn', label=None), State(node='4925757743569357558', rule='metadsl_core.abstraction.compose', label=None), State(node='-6046152058755040221', rule='metadsl_core.abstraction.compose', label=None), State(node='-9088298557536571878', rule='metadsl_core.abstraction.compose', label=None), State(node='7360229284616055502', rule='metadsl_core.abstraction.beta_reduce', label=None), State(node='5250281446577272986', rule='metadsl_core.maybe.maybe_or', label=None), State(node='8445193625642774036', rule='metadsl_core.abstraction.compose', label=None), State(node='7200362942053490364', rule='metadsl_core.abstraction.beta_reduce', label=None), State(node='-2706252334691809364', rule='metadsl_core.numpy.add_compat', label=None), State(node='6487425234600445546', rule='metadsl_core.numpy.convert_to_ndarray', label=None), State(node='6640078072669326382', rule='metadsl_core.maybe.maybe_and', label=None), State(node='-774798583507628072', rule='metadsl_core.maybe.maybe_match', label=None), State(node='-6415487103606775028', rule='metadsl_core.abstraction.beta_reduce', label=None), State(node='1910669533948444199', rule='metadsl_core.pair.pair_right', label=None), State(node='-6982537285276620806', rule='metadsl_core.pair.pair_left', label=None), State(node='-6982537285276620806', rule='', label='convert'), State(node='1516049571206598651', rule='metadsl_core.numpy.box_unbox_ndarray_compat', label=None), State(node='9034656157077478327', rule='metadsl_core.numpy_engine.unbox_ndarray_getitem', label=None), State(node='-8092933834361013212', rule='metadsl_core.numpy_engine.unbox_idxs_rule', label=None), State(node='4061799927420083391', rule='metadsl_core.numpy_engine.unbox_integer_rule', label=None), State(node='3981801318835326913', rule='metadsl_core.numpy_engine.unbox_ndarray_add', label=None), State(node='-5815398103880726676', rule='metadsl_core.numpy_engine.unbox_arange', label=None), State(node='5458996318223799810', rule='metadsl_core.numpy_engine.unbox_integer_rule', label=None), State(node='5458996318223799810', rule='', label='unbox'), State(node='-5730976342729695613', rule='metadsl_core.numpy_engine.arange', label=None), State(node='-6662807094635375005', rule='metadsl_core.numpy_engine.ndarray_add', label=None), State(node='-6213901631684034091', rule='metadsl_core.numpy_engine.ndarray_getitem', label=None), State(node='-6213901631684034091', rule='', label='execute')]))"
      ]
     },
     "metadata": {},
     "output_type": "display_data"
    },
    {
     "data": {
      "text/plain": [
       "array(10)"
      ]
     },
     "metadata": {},
     "output_type": "display_data"
    }
   ],
   "source": [
    "N = 100\n",
    "expr = (arange(N) + arange(N))[5].to_ndarray()\n",
    "expr"
   ]
  },
  {
   "cell_type": "markdown",
   "metadata": {},
   "source": [
    "Now, we can add an optimization replacement, so that we do the getitem before adding the two expressions:"
   ]
  },
  {
   "cell_type": "code",
   "execution_count": 3,
   "metadata": {},
   "outputs": [],
   "source": [
    "@register_optimize\n",
    "@rule\n",
    "def optimize_getitem_add(l: NDArray, r: NDArray, idx: IndxType) -> R[NDArray]:\n",
    "    return (\n",
    "        # expression to match against\n",
    "        (l + r)[idx],\n",
    "        # expression to replace it with\n",
    "        l[idx] + r[idx]\n",
    "    )"
   ]
  },
  {
   "cell_type": "markdown",
   "metadata": {},
   "source": [
    "Now, when we look at the execution steps, we see that it is doing each getitem before adding, which should be more efficient:"
   ]
  },
  {
   "cell_type": "code",
   "execution_count": 6,
   "metadata": {},
   "outputs": [
    {
     "data": {
      "application/json": {
       "nodes": {
        "-1011633400249230129": [
         "2479618931988953124",
         {
          "args": [
           "-6045266018355487893"
          ],
          "function": "NDArrayCompat.from_ndarray"
         }
        ],
        "-1042568174412886162": [
         "-1042568174412886162",
         {
          "args": [
           "468231498779743578"
          ],
          "function": "Pair.right",
          "type_params": {
           "T": {
            "type": "NDArray"
           },
           "U": {
            "params": {
             "T": {
              "type": "Integer"
             },
             "U": {
              "params": {
               "T": {
                "type": "Integer"
               }
              },
              "type": "Vec"
             }
            },
            "type": "Either"
           }
          }
         }
        ],
        "-1050884032506130782": [
         "-1050884032506130782",
         {
          "args": [
           "-710006793518321344"
          ],
          "function": "NDArrayCompat.from_ndarray"
         }
        ],
        "-1095585159230285059": [
         "-1095585159230285059",
         {
          "args": [
           "5018280261059491459"
          ],
          "function": "Abstraction.from_fn"
         }
        ],
        "-1098347727076804089": [
         "-7585266382721542195",
         {
          "args": [
           "-3691001302245523438"
          ],
          "function": "NDArrayCompat.from_ndarray"
         }
        ],
        "-1346791124493721435": [
         "-1346791124493721435",
         {
          "args": [
           "9039111995028656601"
          ],
          "function": "Maybe.just",
          "type_params": {
           "T": {
            "params": {
             "T": {
              "type": "Integer"
             },
             "U": {
              "params": {
               "T": {
                "type": "Integer"
               }
              },
              "type": "Vec"
             }
            },
            "type": "Either"
           }
          }
         }
        ],
        "-1359963527519149664": [
         "1935586180163463095",
         {
          "args": [
           "8139586425235452796"
          ],
          "function": "NDArray.to_ndarray"
         }
        ],
        "-1529447170174692193": [
         "1935586180163463095",
         {
          "args": [
           "-697434818483336094"
          ],
          "function": "NDArrayCompat.to_ndarray"
         }
        ],
        "-1565107483550253999": [
         "1935586180163463095",
         {
          "args": [
           "6164495585392271202"
          ],
          "function": "NDArrayCompat.to_ndarray"
         }
        ],
        "-1649160540207050919": [
         "-2324897974934532418",
         {
          "args": [
           "3410846223516364705",
           "8569104213158216184"
          ],
          "function": "ndarray_getitem"
         }
        ],
        "-1699773377263255131": [
         "-1699773377263255131",
         {
          "args": [
           "579615478629357154"
          ],
          "function": "Maybe.just"
         }
        ],
        "-1792845949521748470": [
         "-1792845949521748470",
         {
          "repr": "arange_",
          "type": "Infer"
         }
        ],
        "-1805408432180974061": [
         "-710006793518321344",
         {
          "args": [
           "6801381674161147896",
           "579615478629357154"
          ],
          "function": "Abstraction.__call__",
          "type_params": {
           "T": {
            "type": "Integer"
           },
           "U": {
            "params": {
             "T": {
              "type": "NDArray"
             }
            },
            "type": "Maybe"
           }
          }
         }
        ],
        "-1842874830169421666": [
         "-1842874830169421666",
         {
          "args": [
           "6506087961180873209"
          ],
          "function": "Maybe.just",
          "type_params": {
           "T": {
            "params": {
             "T": {
              "type": "Integer"
             },
             "U": {
              "params": {
               "T": {
                "type": "Integer"
               }
              },
              "type": "Vec"
             }
            },
            "type": "Either"
           }
          }
         }
        ],
        "-2272436261253121429": [
         "7902643172531125544",
         {
          "args": [
           "-7040477687325076394",
           "518509411827867796"
          ],
          "function": "Maybe.map",
          "type_params": {
           "T": {
            "params": {
             "T": {
              "type": "NDArray"
             },
             "U": {
              "params": {
               "T": {
                "type": "Integer"
               },
               "U": {
                "params": {
                 "T": {
                  "type": "Integer"
                 }
                },
                "type": "Vec"
               }
              },
              "type": "Either"
             }
            },
            "type": "Pair"
           }
          }
         }
        ],
        "-2324897974934532418": [
         "-2324897974934532418",
         {
          "args": [
           "-631114738667227295"
          ],
          "function": "NDArray.to_ndarray"
         }
        ],
        "-2337687962700966694": [
         "7902643172531125544",
         {
          "args": [
           "3770459566127010284",
           "-4664464520583065041",
           "1487874569637105037"
          ],
          "function": "Maybe.match",
          "type_params": {
           "T": {
            "params": {
             "T": {
              "type": "NDArray"
             },
             "U": {
              "params": {
               "T": {
                "type": "Integer"
               },
               "U": {
                "params": {
                 "T": {
                  "type": "Integer"
                 }
                },
                "type": "Vec"
               }
              },
              "type": "Either"
             }
            },
            "type": "Pair"
           }
          }
         }
        ],
        "-2401043131019115219": [
         "-7585266382721542195",
         {
          "args": [
           "5545252579807753009"
          ],
          "function": "NDArrayCompat.from_ndarray"
         }
        ],
        "-2450394698919677778": [
         "-7106233571294015986",
         {
          "args": [
           "-5722367332102644567",
           "-5722367332102644567"
          ],
          "function": "NDArrayCompat.__add__"
         }
        ],
        "-2450665583848721859": [
         "-601798127143681366",
         {
          "args": [
           "-7386807996660818420",
           "9098294439964856754"
          ],
          "function": "Maybe.__or__",
          "type_params": {
           "T": {
            "params": {
             "T": {
              "type": "Integer"
             },
             "U": {
              "params": {
               "T": {
                "type": "Integer"
               }
              },
              "type": "Vec"
             }
            },
            "type": "Either"
           }
          }
         }
        ],
        "-2484432628204838036": [
         "3410846223516364705",
         {
          "args": [
           "5838084232007047975"
          ],
          "function": "arange"
         }
        ],
        "-2526782594461052991": [
         "1935586180163463095",
         {
          "args": [
           "9199464404600372497"
          ],
          "function": "NDArrayCompat.to_ndarray"
         }
        ],
        "-2529567200019961330": [
         "7902643172531125544",
         {
          "args": [
           "-3884415917423819528",
           "-4664464520583065041",
           "3824186961073615606"
          ],
          "function": "Maybe.match",
          "type_params": {
           "T": {
            "params": {
             "T": {
              "type": "NDArray"
             },
             "U": {
              "params": {
               "T": {
                "type": "Integer"
               },
               "U": {
                "params": {
                 "T": {
                  "type": "Integer"
                 }
                },
                "type": "Vec"
               }
              },
              "type": "Either"
             }
            },
            "type": "Pair"
           }
          }
         }
        ],
        "-2543642831653205362": [
         "1935586180163463095",
         {
          "args": [
           "-971104946198044689"
          ],
          "function": "NDArrayCompat.to_ndarray"
         }
        ],
        "-255592637557283532": [
         "-601798127143681366",
         {
          "args": [
           "-7067585356806477310"
          ],
          "function": "Maybe.just"
         }
        ],
        "-2600167263746280635": [
         "7902643172531125544",
         {
          "args": [
           "-8562840633844268781"
          ],
          "function": "Maybe.just",
          "type_params": {
           "T": {
            "type": "NDArray"
           }
          }
         }
        ],
        "-2631096410235245811": [
         "-2631096410235245811",
         {
          "args": [
           "4755030733478054666",
           "6506087961180873209"
          ],
          "function": "Abstraction.create",
          "type_params": {
           "T": {
            "params": {
             "T": {
              "type": "Integer"
             }
            },
            "type": "Vec"
           },
           "U": {
            "params": {
             "T": {
              "type": "Integer"
             },
             "U": {
              "params": {
               "T": {
                "type": "Integer"
               }
              },
              "type": "Vec"
             }
            },
            "type": "Either"
           }
          }
         }
        ],
        "-263414093149551726": [
         "-601798127143681366",
         {
          "args": [
           "-3000247746444544398",
           "3931380370487318699"
          ],
          "function": "Maybe.__or__",
          "type_params": {
           "T": {
            "params": {
             "T": {
              "type": "Integer"
             },
             "U": {
              "params": {
               "T": {
                "type": "Integer"
               }
              },
              "type": "Vec"
             }
            },
            "type": "Either"
           }
          }
         }
        ],
        "-2634790773197510995": [
         "7902643172531125544",
         {
          "args": [
           "6228889529990603524",
           "-4713478874883071829"
          ],
          "function": "Maybe.map",
          "type_params": {
           "T": {
            "params": {
             "T": {
              "type": "NDArray"
             },
             "U": {
              "params": {
               "T": {
                "type": "Integer"
               },
               "U": {
                "params": {
                 "T": {
                  "type": "Integer"
                 }
                },
                "type": "Vec"
               }
              },
              "type": "Either"
             }
            },
            "type": "Pair"
           }
          }
         }
        ],
        "-2710983233644286474": [
         "1935586180163463095",
         {
          "args": [
           "-1098347727076804089"
          ],
          "function": "NDArrayCompat.to_ndarray"
         }
        ],
        "-2730920362030976645": [
         "-7585266382721542195",
         {
          "args": [
           "-5333004143361228569"
          ],
          "function": "NDArrayCompat.from_ndarray"
         }
        ],
        "-2776478246306858363": [
         "-7585266382721542195",
         {
          "args": [
           "-8153415770133474242"
          ],
          "function": "NDArrayCompat.from_ndarray"
         }
        ],
        "-2822577839386693752": [
         "-693852287426370102",
         {
          "args": [
           "-1011633400249230129"
          ],
          "function": "Converter.convert",
          "type_params": {
           "T": {
            "type": "NDArray"
           }
          }
         }
        ],
        "-2848137525854052411": [
         "7902643172531125544",
         {
          "args": [
           "8888322373751518602",
           "518509411827867796"
          ],
          "function": "Maybe.map",
          "type_params": {
           "T": {
            "params": {
             "T": {
              "type": "NDArray"
             },
             "U": {
              "params": {
               "T": {
                "type": "Integer"
               },
               "U": {
                "params": {
                 "T": {
                  "type": "Integer"
                 }
                },
                "type": "Vec"
               }
              },
              "type": "Either"
             }
            },
            "type": "Pair"
           }
          }
         }
        ],
        "-2874358435711377228": [
         "7902643172531125544",
         {
          "args": [
           "-7040477687325076394",
           "-4713478874883071829"
          ],
          "function": "Maybe.map",
          "type_params": {
           "T": {
            "params": {
             "T": {
              "type": "NDArray"
             },
             "U": {
              "params": {
               "T": {
                "type": "Integer"
               },
               "U": {
                "params": {
                 "T": {
                  "type": "Integer"
                 }
                },
                "type": "Vec"
               }
              },
              "type": "Either"
             }
            },
            "type": "Pair"
           }
          }
         }
        ],
        "-2896401226179532675": [
         "1935586180163463095",
         {
          "args": [
           "9068465748629872981"
          ],
          "function": "NDArrayCompat.to_ndarray"
         }
        ],
        "-2903661489942354244": [
         "7902643172531125544",
         {
          "args": [
           "9219245304176348434"
          ],
          "function": "Maybe.just",
          "type_params": {
           "T": {
            "type": "NDArray"
           }
          }
         }
        ],
        "-2962513676475920575": [
         "-2962513676475920575",
         {
          "args": [
           "197579945959390516"
          ],
          "function": "Maybe.just",
          "type_params": {
           "T": {
            "type": "NDArray"
           }
          }
         }
        ],
        "-3000247746444544398": [
         "-8515717911257762846",
         {
          "args": [
           "-7067585356806477310"
          ],
          "function": "Maybe.just",
          "type_params": {
           "T": {
            "params": {
             "T": {
              "type": "Integer"
             },
             "U": {
              "params": {
               "T": {
                "type": "Integer"
               }
              },
              "type": "Vec"
             }
            },
            "type": "Either"
           }
          }
         }
        ],
        "-3092944533282477261": [
         "-7585266382721542195",
         {
          "args": [
           "-2529567200019961330"
          ],
          "function": "NDArrayCompat.from_ndarray"
         }
        ],
        "-3362466327091909016": [
         "-3362466327091909016",
         {
          "args": [
           "3308170723651583708"
          ],
          "function": "Maybe.just",
          "type_params": {
           "T": {
            "params": {
             "T": {
              "type": "Integer"
             },
             "U": {
              "params": {
               "T": {
                "type": "Integer"
               }
              },
              "type": "Vec"
             }
            },
            "type": "Either"
           }
          }
         }
        ],
        "-3384401634576906858": [
         "-3384401634576906858",
         {
          "repr": "<function NDArrayCompat.__getitem__.<locals>.<lambda> at 0x10d5941e0>",
          "type": "function"
         }
        ],
        "-3437291932490233068": [
         "-7585266382721542195",
         {
          "args": [
           "4700439864827198540"
          ],
          "function": "NDArrayCompat.from_ndarray"
         }
        ],
        "-3621155432722573253": [
         "-3621155432722573253",
         {
          "args": [
           "5200602674581088372"
          ],
          "function": "Maybe.just",
          "type_params": {
           "T": {
            "type": "NDArray"
           }
          }
         }
        ],
        "-3677782086974309606": [
         "-693852287426370102",
         {
          "args": [
           "-7437227986272372712"
          ],
          "function": "Converter.convert",
          "type_params": {
           "T": {
            "type": "NDArray"
           }
          }
         }
        ],
        "-3691001302245523438": [
         "7902643172531125544",
         {
          "args": [
           "-4601696110913952714",
           "-4664464520583065041",
           "1487874569637105037"
          ],
          "function": "Maybe.match",
          "type_params": {
           "T": {
            "params": {
             "T": {
              "type": "NDArray"
             },
             "U": {
              "params": {
               "T": {
                "type": "Integer"
               },
               "U": {
                "params": {
                 "T": {
                  "type": "Integer"
                 }
                },
                "type": "Vec"
               }
              },
              "type": "Either"
             }
            },
            "type": "Pair"
           }
          }
         }
        ],
        "-383058471427345641": [
         "-7246546953092699839",
         {
          "args": [
           "-6815086034509967428",
           "3751055923777384973"
          ],
          "function": "Maybe.__or__",
          "type_params": {
           "T": {
            "params": {
             "T": {
              "type": "Integer"
             },
             "U": {
              "params": {
               "T": {
                "type": "Integer"
               }
              },
              "type": "Vec"
             }
            },
            "type": "Either"
           }
          }
         }
        ],
        "-3884415917423819528": [
         "3770459566127010284",
         {
          "args": [
           "3246722563793329763",
           "-255592637557283532"
          ],
          "function": "Maybe.__and__",
          "type_params": {
           "T": {
            "type": "NDArray"
           }
          }
         }
        ],
        "-3959006833905751656": [
         "-3959006833905751656",
         {
          "args": [
           "5838084232007047975"
          ],
          "function": "arange"
         }
        ],
        "-3984573630311167809": [
         "-7585266382721542195",
         {
          "args": [
           "-5599722485704847557"
          ],
          "function": "NDArrayCompat.from_ndarray"
         }
        ],
        "-4132662367347143088": [
         "-7585266382721542195",
         {
          "args": [
           "868080771660981626"
          ],
          "function": "NDArrayCompat.from_ndarray"
         }
        ],
        "-4140766848798972602": [
         "-693852287426370102",
         {
          "args": [
           "-7816749236083338732"
          ],
          "function": "Converter.convert",
          "type_params": {
           "T": {
            "type": "NDArray"
           }
          }
         }
        ],
        "-4174312232391793700": [
         "1935586180163463095",
         {
          "args": [
           "314865019023719573"
          ],
          "function": "NDArrayCompat.to_ndarray"
         }
        ],
        "-4347219664028182251": [
         "-7585266382721542195",
         {
          "args": [
           "7902643172531125544"
          ],
          "function": "NDArrayCompat.from_ndarray"
         }
        ],
        "-4410156857131548578": [
         "-4410156857131548578",
         {
          "repr": "Variable(4700226504)",
          "type": "Variable"
         }
        ],
        "-4410156857239801078": [
         "-4410156857239801078",
         {
          "repr": "Variable(4700226952)",
          "type": "Variable"
         }
        ],
        "-4410156933881488553": [
         "-4410156933881488553",
         {
          "repr": "Variable(4701064440)",
          "type": "Variable"
         }
        ],
        "-4410156953898458328": [
         "-4410156953898458328",
         {
          "repr": "Variable(4700836136)",
          "type": "Variable"
         }
        ],
        "-4601696110913952714": [
         "3770459566127010284",
         {
          "args": [
           "-4140766848798972602",
           "2218751614882757805"
          ],
          "function": "Maybe.__and__",
          "type_params": {
           "T": {
            "type": "NDArray"
           }
          }
         }
        ],
        "-4619107828061912794": [
         "1395466120539641181",
         {
          "args": [
           "1492449749867095234",
           "1492449749867095234"
          ],
          "function": "NDArray.__add__"
         }
        ],
        "-4625004114204702497": [
         "-4625004114204702497",
         {
          "args": [
           "4813215193752751230"
          ],
          "function": "Abstraction.create_variable",
          "type_params": {
           "T": {
            "type": "Integer"
           },
           "U": {
            "params": {
             "T": {
              "type": "Integer"
             },
             "U": {
              "params": {
               "T": {
                "type": "Integer"
               }
              },
              "type": "Vec"
             }
            },
            "type": "Either"
           }
          }
         }
        ],
        "-4664464520583065041": [
         "-4664464520583065041",
         {
          "function": "Maybe.nothing",
          "type_params": {
           "T": {
            "type": "NDArray"
           }
          }
         }
        ],
        "-4677967699452908559": [
         "1935586180163463095",
         {
          "args": [
           "-2776478246306858363"
          ],
          "function": "NDArrayCompat.to_ndarray"
         }
        ],
        "-4713478874883071829": [
         "-4713478874883071829",
         {
          "args": [
           "-3384401634576906858"
          ],
          "function": "Abstraction.from_fn",
          "type_params": {
           "T": {
            "params": {
             "T": {
              "type": "NDArray"
             },
             "U": {
              "params": {
               "T": {
                "type": "Integer"
               },
               "U": {
                "params": {
                 "T": {
                  "type": "Integer"
                 }
                },
                "type": "Vec"
               }
              },
              "type": "Either"
             }
            },
            "type": "Pair"
           },
           "U": {
            "type": "NDArray"
           }
          }
         }
        ],
        "-4724417094432334173": [
         "-4724417094432334173",
         {
          "args": [
           "219451634672783243"
          ],
          "function": "Abstraction.from_fn"
         }
        ],
        "-4747599550161408370": [
         "-4747599550161408370",
         {
          "args": [
           "-4625004114204702497",
           "3308170723651583708"
          ],
          "function": "Abstraction.create",
          "type_params": {
           "T": {
            "type": "Integer"
           },
           "U": {
            "params": {
             "T": {
              "type": "Integer"
             },
             "U": {
              "params": {
               "T": {
                "type": "Integer"
               }
              },
              "type": "Vec"
             }
            },
            "type": "Either"
           }
          }
         }
        ],
        "-4863314574823831270": [
         "1935586180163463095",
         {
          "args": [
           "-3437291932490233068"
          ],
          "function": "NDArrayCompat.to_ndarray"
         }
        ],
        "-4932447940979014284": [
         "3770459566127010284",
         {
          "args": [
           "-4140766848798972602",
           "8890246705513709024"
          ],
          "function": "Maybe.__and__",
          "type_params": {
           "T": {
            "type": "NDArray"
           }
          }
         }
        ],
        "-5094789078709316628": [
         "1935586180163463095",
         {
          "args": [
           "7137757682422778466"
          ],
          "function": "NDArrayCompat.to_ndarray"
         }
        ],
        "-5098662226766386384": [
         "1935586180163463095",
         {
          "args": [
           "-2324897974934532418",
           "-2324897974934532418"
          ],
          "function": "ndarray_add"
         }
        ],
        "-5117706931675647553": [
         "-5117706931675647553",
         {
          "repr": "Maybe.just",
          "type": "BoundInfer"
         }
        ],
        "-5182989550629263489": [
         "-601798127143681366",
         {
          "args": [
           "-8515717911257762846",
           "9098294439964856754"
          ],
          "function": "Maybe.__or__",
          "type_params": {
           "T": {
            "params": {
             "T": {
              "type": "Integer"
             },
             "U": {
              "params": {
               "T": {
                "type": "Integer"
               }
              },
              "type": "Vec"
             }
            },
            "type": "Either"
           }
          }
         }
        ],
        "-5333004143361228569": [
         "7902643172531125544",
         {
          "args": [
           "812146376475600282"
          ],
          "function": "Maybe.just",
          "type_params": {
           "T": {
            "type": "NDArray"
           }
          }
         }
        ],
        "-5377751653156838285": [
         "1935586180163463095",
         {
          "args": [
           "-3984573630311167809"
          ],
          "function": "NDArrayCompat.to_ndarray"
         }
        ],
        "-5523419275082759935": [
         "7902643172531125544",
         {
          "args": [
           "2006669620355233138",
           "-4664464520583065041",
           "3824186961073615606"
          ],
          "function": "Maybe.match",
          "type_params": {
           "T": {
            "params": {
             "T": {
              "type": "NDArray"
             },
             "U": {
              "params": {
               "T": {
                "type": "Integer"
               },
               "U": {
                "params": {
                 "T": {
                  "type": "Integer"
                 }
                },
                "type": "Vec"
               }
              },
              "type": "Either"
             }
            },
            "type": "Pair"
           }
          }
         }
        ],
        "-5570393124951192012": [
         "4616069827488363355",
         {
          "args": [
           "4755030733478054666",
           "-1842874830169421666"
          ],
          "function": "Abstraction.create"
         }
        ],
        "-5599722485704847557": [
         "7902643172531125544",
         {
          "args": [
           "5252046903394539286",
           "-4664464520583065041",
           "3824186961073615606"
          ],
          "function": "Maybe.match",
          "type_params": {
           "T": {
            "params": {
             "T": {
              "type": "NDArray"
             },
             "U": {
              "params": {
               "T": {
                "type": "Integer"
               },
               "U": {
                "params": {
                 "T": {
                  "type": "Integer"
                 }
                },
                "type": "Vec"
               }
              },
              "type": "Either"
             }
            },
            "type": "Pair"
           }
          }
         }
        ],
        "-5693778997302270785": [
         "3770459566127010284",
         {
          "args": [
           "-693852287426370102",
           "8890246705513709024"
          ],
          "function": "Maybe.__and__",
          "type_params": {
           "T": {
            "type": "NDArray"
           }
          }
         }
        ],
        "-5722367332102644567": [
         "-3959006833905751656",
         {
          "args": [
           "1102455697285063343"
          ],
          "function": "NDArrayCompat.from_ndarray"
         }
        ],
        "-5950686593939289520": [
         "-7585266382721542195",
         {
          "args": [
           "6346819825003362680"
          ],
          "function": "NDArrayCompat.from_ndarray"
         }
        ],
        "-601798127143681366": [
         "-601798127143681366",
         {
          "args": [
           "-8515717911257762846",
           "1291442120334238282"
          ],
          "function": "Maybe.__or__",
          "type_params": {
           "T": {
            "params": {
             "T": {
              "type": "Integer"
             },
             "U": {
              "params": {
               "T": {
                "type": "Integer"
               }
              },
              "type": "Vec"
             }
            },
            "type": "Either"
           }
          }
         }
        ],
        "-6045266018355487893": [
         "-693852287426370102",
         {
          "args": [
           "-4619107828061912794"
          ],
          "function": "Maybe.just"
         }
        ],
        "-6061511077476038142": [
         "7902643172531125544",
         {
          "args": [
           "225889043373435813",
           "-4664464520583065041",
           "1487874569637105037"
          ],
          "function": "Maybe.match",
          "type_params": {
           "T": {
            "params": {
             "T": {
              "type": "NDArray"
             },
             "U": {
              "params": {
               "T": {
                "type": "Integer"
               },
               "U": {
                "params": {
                 "T": {
                  "type": "Integer"
                 }
                },
                "type": "Vec"
               }
              },
              "type": "Either"
             }
            },
            "type": "Pair"
           }
          }
         }
        ],
        "-6213901634593861291": [
         "3410846223516364705",
         {
          "repr": "array([ 0,  1,  2,  3,  4,  5,  6,  7,  8,  9, 10, 11, 12, 13, 14, 15, 16,\n       17, 18, 19, 20, 21, 22, 23, 24, 25, 26, 27, 28, 29, 30, 31, 32, 33,\n       34, 35, 36, 37, 38, 39, 40, 41, 42, 43, 44, 45, 46, 47, 48, 49, 50,\n       51, 52, 53, 54, 55, 56, 57, 58, 59, 60, 61, 62, 63, 64, 65, 66, 67,\n       68, 69, 70, 71, 72, 73, 74, 75, 76, 77, 78, 79, 80, 81, 82, 83, 84,\n       85, 86, 87, 88, 89, 90, 91, 92, 93, 94, 95, 96, 97, 98, 99])",
          "type": "ndarray"
         }
        ],
        "-6213901846959285691": [
         "-2324897974934532418",
         {
          "repr": "array(5)",
          "type": "ndarray"
         }
        ],
        "-6258701584004857227": [
         "3770459566127010284",
         {
          "args": [
           "-3677782086974309606",
           "-255592637557283532"
          ],
          "function": "Maybe.__and__",
          "type_params": {
           "T": {
            "type": "NDArray"
           }
          }
         }
        ],
        "-631114738667227295": [
         "-631114738667227295",
         {
          "args": [
           "1492449749867095234",
           "-7067585356806477310"
          ],
          "function": "NDArray.__getitem__"
         }
        ],
        "-6414794420438946634": [
         "-6414794420438946634",
         {
          "args": [
           "468231498779743578"
          ],
          "function": "Pair.left",
          "type_params": {
           "T": {
            "type": "NDArray"
           },
           "U": {
            "params": {
             "T": {
              "type": "Integer"
             },
             "U": {
              "params": {
               "T": {
                "type": "Integer"
               }
              },
              "type": "Vec"
             }
            },
            "type": "Either"
           }
          }
         }
        ],
        "-6415487103606775028": [
         "1935586180163463095",
         {
          "args": [
           "44395248776030981"
          ],
          "function": "NDArrayCompat.to_ndarray"
         }
        ],
        "-6500393008186537515": [
         "-6500393008186537515",
         {
          "args": [
           "-5117706931675647553"
          ],
          "function": "Abstraction.from_fn"
         }
        ],
        "-6649595900598481839": [
         "3770459566127010284",
         {
          "args": [
           "-693852287426370102",
           "-5182989550629263489"
          ],
          "function": "Maybe.__and__",
          "type_params": {
           "T": {
            "type": "NDArray"
           }
          }
         }
        ],
        "-6758997939504679046": [
         "-6758997939504679046",
         {
          "args": [
           "5838084232007047975"
          ],
          "function": "Converter.convert",
          "type_params": {
           "T": {
            "type": "Integer"
           }
          }
         }
        ],
        "-6815086034509967428": [
         "-6815086034509967428",
         {
          "args": [
           "6056108927389162809",
           "-4724417094432334173"
          ],
          "function": "Maybe.map",
          "type_params": {
           "T": {
            "type": "Integer"
           }
          }
         }
        ],
        "-6865320423700650642": [
         "-7585266382721542195",
         {
          "args": [
           "-2634790773197510995"
          ],
          "function": "NDArrayCompat.from_ndarray"
         }
        ],
        "-6889920048495528298": [
         "-693852287426370102",
         {
          "args": [
           "3468649735422449664"
          ],
          "function": "Converter.convert",
          "type_params": {
           "T": {
            "type": "NDArray"
           }
          }
         }
        ],
        "-693852287426370102": [
         "-693852287426370102",
         {
          "args": [
           "2479618931988953124"
          ],
          "function": "Converter.convert",
          "type_params": {
           "T": {
            "type": "NDArray"
           }
          }
         }
        ],
        "-697434818483336094": [
         "-7585266382721542195",
         {
          "args": [
           "6249862171060341502"
          ],
          "function": "NDArrayCompat.from_ndarray"
         }
        ],
        "-6982537285276620806": [
         "1935586180163463095",
         {
          "args": [
           "-8582480166607514506"
          ],
          "function": "NDArrayCompat.to_ndarray"
         }
        ],
        "-6988357606592122895": [
         "1240870953218063631",
         {
          "args": [
           "2723701481682903090",
           "-601798127143681366"
          ],
          "function": "Maybe.__and__",
          "type_params": {
           "T": {
            "type": "NDArray"
           }
          }
         }
        ],
        "-6990033121179623761": [
         "1935586180163463095",
         {
          "args": [
           "-3092944533282477261"
          ],
          "function": "NDArrayCompat.to_ndarray"
         }
        ],
        "-7040477687325076394": [
         "1240870953218063631",
         {
          "args": [
           "2723701481682903090",
           "-956653014655375141"
          ],
          "function": "Maybe.__and__",
          "type_params": {
           "T": {
            "type": "NDArray"
           }
          }
         }
        ],
        "-7067585356806477310": [
         "-7067585356806477310",
         {
          "args": [
           "5109073286877630545"
          ],
          "function": "Either.left",
          "type_params": {
           "T": {
            "type": "Integer"
           },
           "U": {
            "params": {
             "T": {
              "type": "Integer"
             }
            },
            "type": "Vec"
           }
          }
         }
        ],
        "-7083881267291258019": [
         "-710006793518321344",
         {
          "args": [
           "2191938714586462820",
           "579615478629357154"
          ],
          "function": "Abstraction.__call__",
          "type_params": {
           "T": {
            "type": "Integer"
           },
           "U": {
            "params": {
             "T": {
              "type": "NDArray"
             }
            },
            "type": "Maybe"
           }
          }
         }
        ],
        "-710006793518321344": [
         "-710006793518321344",
         {
          "args": [
           "-1699773377263255131",
           "3422393941435572874"
          ],
          "function": "Maybe.map",
          "type_params": {
           "T": {
            "type": "Integer"
           }
          }
         }
        ],
        "-7106233571294015986": [
         "-7106233571294015986",
         {
          "args": [
           "-3959006833905751656",
           "-3959006833905751656"
          ],
          "function": "NDArrayCompat.__add__"
         }
        ],
        "-7125658743320791948": [
         "-7125658743320791948",
         {
          "args": [
           "-7106233571294015986"
          ],
          "function": "Converter.convert",
          "type_params": {
           "T": {
            "type": "NDArray"
           }
          }
         }
        ],
        "-7166720341481262269": [
         "1935586180163463095",
         {
          "args": [
           "-5950686593939289520"
          ],
          "function": "NDArrayCompat.to_ndarray"
         }
        ],
        "-7240541359464005235": [
         "-1050884032506130782",
         {
          "args": [
           "-1805408432180974061"
          ],
          "function": "NDArrayCompat.from_ndarray"
         }
        ],
        "-7246546953092699839": [
         "-7246546953092699839",
         {
          "args": [
           "5838084232112052900"
          ],
          "function": "Converter.convert",
          "type_params": {
           "T": {
            "params": {
             "T": {
              "type": "Integer"
             },
             "U": {
              "params": {
               "T": {
                "type": "Integer"
               }
              },
              "type": "Vec"
             }
            },
            "type": "Either"
           }
          }
         }
        ],
        "-7300482696862424175": [
         "-6815086034509967428",
         {
          "args": [
           "6789123831358882944",
           "-4724417094432334173"
          ],
          "function": "Maybe.map",
          "type_params": {
           "T": {
            "type": "Integer"
           }
          }
         }
        ],
        "-7319541876481429273": [
         "-7585266382721542195",
         {
          "args": [
           "4348056629779286384"
          ],
          "function": "NDArrayCompat.from_ndarray"
         }
        ],
        "-7341282861926611629": [
         "-601798127143681366",
         {
          "args": [
           "7138771968961129037",
           "3931380370487318699"
          ],
          "function": "Maybe.__or__",
          "type_params": {
           "T": {
            "params": {
             "T": {
              "type": "Integer"
             },
             "U": {
              "params": {
               "T": {
                "type": "Integer"
               }
              },
              "type": "Vec"
             }
            },
            "type": "Either"
           }
          }
         }
        ],
        "-7386547758123990700": [
         "7902643172531125544",
         {
          "args": [
           "3174465242235764390",
           "-4664464520583065041",
           "1487874569637105037"
          ],
          "function": "Maybe.match",
          "type_params": {
           "T": {
            "params": {
             "T": {
              "type": "NDArray"
             },
             "U": {
              "params": {
               "T": {
                "type": "Integer"
               },
               "U": {
                "params": {
                 "T": {
                  "type": "Integer"
                 }
                },
                "type": "Vec"
               }
              },
              "type": "Either"
             }
            },
            "type": "Pair"
           }
          }
         }
        ],
        "-7386807996660818420": [
         "-8515717911257762846",
         {
          "args": [
           "6789123831358882944",
           "2703072876348085923",
           "1771017972727046875"
          ],
          "function": "Maybe.match",
          "type_params": {
           "T": {
            "type": "Integer"
           }
          }
         }
        ],
        "-7437227986272372712": [
         "2479618931988953124",
         {
          "args": [
           "983257553804758448",
           "983257553804758448"
          ],
          "function": "NDArrayCompat.__add__"
         }
        ],
        "-7484022018064687097": [
         "-8515717911257762846",
         {
          "args": [
           "6749951301008775451",
           "5109073286877630545"
          ],
          "function": "Abstraction.__call__",
          "type_params": {
           "T": {
            "type": "Integer"
           },
           "U": {
            "params": {
             "T": {
              "params": {
               "T": {
                "type": "Integer"
               },
               "U": {
                "params": {
                 "T": {
                  "type": "Integer"
                 }
                },
                "type": "Vec"
               }
              },
              "type": "Either"
             }
            },
            "type": "Maybe"
           }
          }
         }
        ],
        "-7585266382721542195": [
         "-7585266382721542195",
         {
          "args": [
           "-7106233571294015986",
           "5838084232112052900"
          ],
          "function": "NDArrayCompat.__getitem__"
         }
        ],
        "-7640308243335310651": [
         "3770459566127010284",
         {
          "args": [
           "-6045266018355487893",
           "-255592637557283532"
          ],
          "function": "Maybe.__and__",
          "type_params": {
           "T": {
            "type": "NDArray"
           }
          }
         }
        ],
        "-7661338159994440658": [
         "2479618931988953124",
         {
          "args": [
           "3198608941824209254",
           "3198608941824209254"
          ],
          "function": "NDArrayCompat.__add__"
         }
        ],
        "-7755731675456949430": [
         "3770459566127010284",
         {
          "args": [
           "28407508120041940",
           "-263414093149551726"
          ],
          "function": "Maybe.__and__",
          "type_params": {
           "T": {
            "type": "NDArray"
           }
          }
         }
        ],
        "-7816749236083338732": [
         "2479618931988953124",
         {
          "args": [
           "-7240541359464005235",
           "-7240541359464005235"
          ],
          "function": "NDArrayCompat.__add__"
         }
        ],
        "-8008667647859116852": [
         "7902643172531125544",
         {
          "args": [
           "5659392155686545387",
           "-4664464520583065041",
           "4664135465920369113"
          ],
          "function": "Maybe.match",
          "type_params": {
           "T": {
            "params": {
             "T": {
              "type": "NDArray"
             },
             "U": {
              "params": {
               "T": {
                "type": "Integer"
               },
               "U": {
                "params": {
                 "T": {
                  "type": "Integer"
                 }
                },
                "type": "Vec"
               }
              },
              "type": "Either"
             }
            },
            "type": "Pair"
           }
          }
         }
        ],
        "-8153415770133474242": [
         "7902643172531125544",
         {
          "args": [
           "8139586425235452796"
          ],
          "function": "Maybe.just",
          "type_params": {
           "T": {
            "type": "NDArray"
           }
          }
         }
        ],
        "-8159938588654798608": [
         "-8159938588654798608",
         {
          "args": [
           "2861613970724538675"
          ],
          "function": "Abstraction.from_fn"
         }
        ],
        "-8263808282725900554": [
         "-7585266382721542195",
         {
          "args": [
           "-2848137525854052411"
          ],
          "function": "NDArrayCompat.from_ndarray"
         }
        ],
        "-8294341480371381898": [
         "-8294341480371381898",
         {
          "args": [
           "-6758997939504679046",
           "1087529264717247478"
          ],
          "function": "Maybe.map",
          "type_params": {
           "T": {
            "type": "Integer"
           }
          }
         }
        ],
        "-845766801800596083": [
         "-7125658743320791948",
         {
          "args": [
           "800043649288483110"
          ],
          "function": "Converter.convert",
          "type_params": {
           "T": {
            "type": "NDArray"
           }
          }
         }
        ],
        "-8515717911257762846": [
         "-8515717911257762846",
         {
          "args": [
           "6789123831358882944",
           "-4747599550161408370"
          ],
          "function": "Maybe.map",
          "type_params": {
           "T": {
            "type": "Integer"
           }
          }
         }
        ],
        "-8534948527576490255": [
         "1935586180163463095",
         {
          "args": [
           "1304979771412253060"
          ],
          "function": "NDArrayCompat.to_ndarray"
         }
        ],
        "-8562840633844268781": [
         "9219245304176348434",
         {
          "args": [
           "-4619107828061912794",
           "-7067585356806477310"
          ],
          "function": "NDArray.__getitem__"
         }
        ],
        "-8582480166607514506": [
         "-7585266382721542195",
         {
          "args": [
           "-2600167263746280635"
          ],
          "function": "NDArrayCompat.from_ndarray"
         }
        ],
        "-8584052827336163697": [
         "7902643172531125544",
         {
          "args": [
           "3824186961073615606",
           "643017614923179061"
          ],
          "function": "Abstraction.__call__",
          "type_params": {
           "T": {
            "params": {
             "T": {
              "type": "NDArray"
             },
             "U": {
              "params": {
               "T": {
                "type": "Integer"
               },
               "U": {
                "params": {
                 "T": {
                  "type": "Integer"
                 }
                },
                "type": "Vec"
               }
              },
              "type": "Either"
             }
            },
            "type": "Pair"
           },
           "U": {
            "params": {
             "T": {
              "type": "NDArray"
             }
            },
            "type": "Maybe"
           }
          }
         }
        ],
        "-8636050747429858706": [
         "1935586180163463095",
         {
          "args": [
           "-4132662367347143088"
          ],
          "function": "NDArrayCompat.to_ndarray"
         }
        ],
        "-8644853813721706856": [
         "1935586180163463095",
         {
          "args": [
           "3253987155015877392",
           "3253987155015877392"
          ],
          "function": "ndarray_add"
         }
        ],
        "-8709039676988586081": [
         "-710006793518321344",
         {
          "args": [
           "1492449749867095234"
          ],
          "function": "Maybe.just",
          "type_params": {
           "T": {
            "type": "NDArray"
           }
          }
         }
        ],
        "-8746822573835151313": [
         "1935586180163463095",
         {
          "args": [
           "7648192999837778095"
          ],
          "function": "NDArrayCompat.to_ndarray"
         }
        ],
        "-8770014808466506423": [
         "1935586180163463095",
         {
          "args": [
           "-2401043131019115219"
          ],
          "function": "NDArrayCompat.to_ndarray"
         }
        ],
        "-9187846953603438100": [
         "-1095585159230285059",
         {
          "args": [
           "197579945959390516",
           "-2962513676475920575"
          ],
          "function": "Abstraction.create",
          "type_params": {
           "T": {
            "type": "NDArray"
           },
           "U": {
            "params": {
             "T": {
              "type": "NDArray"
             }
            },
            "type": "Maybe"
           }
          }
         }
        ],
        "-956653014655375141": [
         "-7246546953092699839",
         {
          "args": [
           "-7300482696862424175",
           "3751055923777384973"
          ],
          "function": "Maybe.__or__",
          "type_params": {
           "T": {
            "params": {
             "T": {
              "type": "Integer"
             },
             "U": {
              "params": {
               "T": {
                "type": "Integer"
               }
              },
              "type": "Vec"
             }
            },
            "type": "Either"
           }
          }
         }
        ],
        "-971104946198044689": [
         "-7585266382721542195",
         {
          "args": [
           "6383802083390335751"
          ],
          "function": "NDArrayCompat.from_ndarray"
         }
        ],
        "1087529264717247478": [
         "1087529264717247478",
         {
          "args": [
           "-1792845949521748470"
          ],
          "function": "Abstraction.from_fn"
         }
        ],
        "1102455697285063343": [
         "-8294341480371381898",
         {
          "args": [
           "-1699773377263255131",
           "1087529264717247478"
          ],
          "function": "Maybe.map",
          "type_params": {
           "T": {
            "type": "Integer"
           }
          }
         }
        ],
        "1240870953218063631": [
         "1240870953218063631",
         {
          "args": [
           "-7125658743320791948",
           "-7246546953092699839"
          ],
          "function": "Maybe.__and__",
          "type_params": {
           "T": {
            "type": "NDArray"
           }
          }
         }
        ],
        "1291442120334238282": [
         "1291442120334238282",
         {
          "args": [
           "2944773798775947601",
           "-2631096410235245811"
          ],
          "function": "Maybe.map",
          "type_params": {
           "T": {
            "params": {
             "T": {
              "type": "Integer"
             }
            },
            "type": "Vec"
           }
          }
         }
        ],
        "1304979771412253060": [
         "-7585266382721542195",
         {
          "args": [
           "845913313291518814"
          ],
          "function": "NDArrayCompat.from_ndarray"
         }
        ],
        "1395466120539641181": [
         "1395466120539641181",
         {
          "args": [
           "643017614923179061"
          ],
          "function": "Pair.left",
          "type_params": {
           "T": {
            "type": "NDArray"
           },
           "U": {
            "params": {
             "T": {
              "type": "Integer"
             },
             "U": {
              "params": {
               "T": {
                "type": "Integer"
               }
              },
              "type": "Vec"
             }
            },
            "type": "Either"
           }
          }
         }
        ],
        "1487874569637105037": [
         "1487874569637105037",
         {
          "args": [
           "-1095585159230285059",
           "518509411827867796"
          ],
          "function": "Abstraction.__add__",
          "type_params": {
           "T": {
            "type": "NDArray"
           },
           "U": {
            "params": {
             "T": {
              "type": "NDArray"
             }
            },
            "type": "Maybe"
           }
          }
         }
        ],
        "1492449749867095234": [
         "1492449749867095234",
         {
          "args": [
           "579615478629357154"
          ],
          "function": "arange_"
         }
        ],
        "1619459771250843198": [
         "1935586180163463095",
         {
          "args": [
           "347029145892829407"
          ],
          "function": "NDArrayCompat.to_ndarray"
         }
        ],
        "1771017972727046875": [
         "1771017972727046875",
         {
          "args": [
           "-6500393008186537515",
           "-4747599550161408370"
          ],
          "function": "Abstraction.__add__",
          "type_params": {
           "T": {
            "params": {
             "T": {
              "type": "Integer"
             },
             "U": {
              "params": {
               "T": {
                "type": "Integer"
               }
              },
              "type": "Vec"
             }
            },
            "type": "Either"
           },
           "U": {
            "params": {
             "T": {
              "params": {
               "T": {
                "type": "Integer"
               },
               "U": {
                "params": {
                 "T": {
                  "type": "Integer"
                 }
                },
                "type": "Vec"
               }
              },
              "type": "Either"
             }
            },
            "type": "Maybe"
           }
          }
         }
        ],
        "1910669533948444199": [
         "1935586180163463095",
         {
          "args": [
           "-2730920362030976645"
          ],
          "function": "NDArrayCompat.to_ndarray"
         }
        ],
        "1935586180163463095": [
         "1935586180163463095",
         {
          "args": [
           "-7585266382721542195"
          ],
          "function": "NDArrayCompat.to_ndarray"
         }
        ],
        "197579945959390516": [
         "197579945959390516",
         {
          "args": [
           "-4410156953898458328"
          ],
          "function": "Abstraction.create_variable",
          "type_params": {
           "T": {
            "type": "NDArray"
           },
           "U": {
            "params": {
             "T": {
              "type": "NDArray"
             }
            },
            "type": "Maybe"
           }
          }
         }
        ],
        "2006669620355233138": [
         "3770459566127010284",
         {
          "args": [
           "28407508120041940",
           "7762550062654040263"
          ],
          "function": "Maybe.__and__",
          "type_params": {
           "T": {
            "type": "NDArray"
           }
          }
         }
        ],
        "2191938714586462820": [
         "6801381674161147896",
         {
          "args": [
           "3481659688989734831",
           "7221518456433276231"
          ],
          "function": "Abstraction.create"
         }
        ],
        "219451634672783243": [
         "219451634672783243",
         {
          "repr": "Either.left",
          "type": "BoundInfer"
         }
        ],
        "2218751614882757805": [
         "-601798127143681366",
         {
          "args": [
           "-7484022018064687097",
           "6945425244518419199"
          ],
          "function": "Maybe.__or__",
          "type_params": {
           "T": {
            "params": {
             "T": {
              "type": "Integer"
             },
             "U": {
              "params": {
               "T": {
                "type": "Integer"
               }
              },
              "type": "Vec"
             }
            },
            "type": "Either"
           }
          }
         }
        ],
        "225889043373435813": [
         "3770459566127010284",
         {
          "args": [
           "-6889920048495528298",
           "8890246705513709024"
          ],
          "function": "Maybe.__and__",
          "type_params": {
           "T": {
            "type": "NDArray"
           }
          }
         }
        ],
        "2445145776796725530": [
         "1771017972727046875",
         {
          "args": [
           "-4625004114204702497",
           "-3362466327091909016"
          ],
          "function": "Abstraction.create"
         }
        ],
        "2479269851814596": [
         "-1050884032506130782",
         {
          "args": [
           "8337972810394593691"
          ],
          "function": "NDArrayCompat.from_ndarray"
         }
        ],
        "2479618931988953124": [
         "2479618931988953124",
         {
          "args": [
           "-1050884032506130782",
           "-1050884032506130782"
          ],
          "function": "NDArrayCompat.__add__"
         }
        ],
        "2699990931408063806": [
         "-1050884032506130782",
         {
          "args": [
           "-8709039676988586081"
          ],
          "function": "NDArrayCompat.from_ndarray"
         }
        ],
        "2703072876348085923": [
         "2703072876348085923",
         {
          "function": "Maybe.nothing",
          "type_params": {
           "T": {
            "params": {
             "T": {
              "type": "Integer"
             },
             "U": {
              "params": {
               "T": {
                "type": "Integer"
               }
              },
              "type": "Vec"
             }
            },
            "type": "Either"
           }
          }
         }
        ],
        "2723701481682903090": [
         "-7125658743320791948",
         {
          "args": [
           "-2450394698919677778"
          ],
          "function": "Converter.convert",
          "type_params": {
           "T": {
            "type": "NDArray"
           }
          }
         }
        ],
        "2760550538656796282": [
         "1935586180163463095",
         {
          "args": [
           "-8263808282725900554"
          ],
          "function": "NDArrayCompat.to_ndarray"
         }
        ],
        "28407508120041940": [
         "-693852287426370102",
         {
          "args": [
           "-7661338159994440658"
          ],
          "function": "Converter.convert",
          "type_params": {
           "T": {
            "type": "NDArray"
           }
          }
         }
        ],
        "2853526785382423624": [
         "1935586180163463095",
         {
          "args": [
           "494967562214894105"
          ],
          "function": "NDArrayCompat.to_ndarray"
         }
        ],
        "2859344359834789841": [
         "1935586180163463095",
         {
          "args": [
           "-7319541876481429273"
          ],
          "function": "NDArrayCompat.to_ndarray"
         }
        ],
        "2861613970724538675": [
         "2861613970724538675",
         {
          "repr": "Either.right",
          "type": "BoundInfer"
         }
        ],
        "2944773798775947601": [
         "2944773798775947601",
         {
          "args": [
           "5838084232112052900"
          ],
          "function": "Converter.convert",
          "type_params": {
           "T": {
            "params": {
             "T": {
              "type": "Integer"
             }
            },
            "type": "Vec"
           }
          }
         }
        ],
        "3056694902852834817": [
         "1935586180163463095",
         {
          "repr": "10",
          "type": "int64"
         }
        ],
        "314865019023719573": [
         "-7585266382721542195",
         {
          "args": [
           "4421296665337759402"
          ],
          "function": "NDArrayCompat.from_ndarray"
         }
        ],
        "3174465242235764390": [
         "3770459566127010284",
         {
          "args": [
           "-693852287426370102",
           "-2450665583848721859"
          ],
          "function": "Maybe.__and__",
          "type_params": {
           "T": {
            "type": "NDArray"
           }
          }
         }
        ],
        "3198608941824209254": [
         "-1050884032506130782",
         {
          "args": [
           "4670090330723769874"
          ],
          "function": "NDArrayCompat.from_ndarray"
         }
        ],
        "3246722563793329763": [
         "-693852287426370102",
         {
          "args": [
           "5624114912053899358"
          ],
          "function": "Converter.convert",
          "type_params": {
           "T": {
            "type": "NDArray"
           }
          }
         }
        ],
        "3253987155015877392": [
         "-2324897974934532418",
         {
          "args": [
           "5435969851716377834",
           "5838084232112052900"
          ],
          "function": "ndarray_getitem"
         }
        ],
        "3308170723651583708": [
         "3308170723651583708",
         {
          "args": [
           "-4625004114204702497"
          ],
          "function": "Either.left",
          "type_params": {
           "T": {
            "type": "Integer"
           },
           "U": {
            "params": {
             "T": {
              "type": "Integer"
             }
            },
            "type": "Vec"
           }
          }
         }
        ],
        "3316945241568607694": [
         "-7585266382721542195",
         {
          "args": [
           "-8584052827336163697"
          ],
          "function": "NDArrayCompat.from_ndarray"
         }
        ],
        "3336205771935707391": [
         "7902643172531125544",
         {
          "args": [
           "3872101413456062539",
           "-4664464520583065041",
           "3824186961073615606"
          ],
          "function": "Maybe.match",
          "type_params": {
           "T": {
            "params": {
             "T": {
              "type": "NDArray"
             },
             "U": {
              "params": {
               "T": {
                "type": "Integer"
               },
               "U": {
                "params": {
                 "T": {
                  "type": "Integer"
                 }
                },
                "type": "Vec"
               }
              },
              "type": "Either"
             }
            },
            "type": "Pair"
           }
          }
         }
        ],
        "3410846223516364705": [
         "3410846223516364705",
         {
          "args": [
           "1492449749867095234"
          ],
          "function": "NDArray.to_ndarray"
         }
        ],
        "3422393941435572874": [
         "3422393941435572874",
         {
          "args": [
           "3481659688989734831",
           "5862299951965675192"
          ],
          "function": "Abstraction.create",
          "type_params": {
           "T": {
            "type": "Integer"
           },
           "U": {
            "type": "NDArray"
           }
          }
         }
        ],
        "3453706505360842280": [
         "3770459566127010284",
         {
          "args": [
           "28407508120041940",
           "-255592637557283532"
          ],
          "function": "Maybe.__and__",
          "type_params": {
           "T": {
            "type": "NDArray"
           }
          }
         }
        ],
        "3468649735422449664": [
         "2479618931988953124",
         {
          "args": [
           "2479269851814596",
           "2479269851814596"
          ],
          "function": "NDArrayCompat.__add__"
         }
        ],
        "347029145892829407": [
         "-7585266382721542195",
         {
          "args": [
           "-2337687962700966694"
          ],
          "function": "NDArrayCompat.from_ndarray"
         }
        ],
        "3481659688989734831": [
         "3481659688989734831",
         {
          "args": [
           "4813215188361776730"
          ],
          "function": "Abstraction.create_variable",
          "type_params": {
           "T": {
            "type": "Integer"
           },
           "U": {
            "type": "NDArray"
           }
          }
         }
        ],
        "372699550060722797": [
         "-3959006833905751656",
         {
          "args": [
           "-8294341480371381898"
          ],
          "function": "NDArrayCompat.from_ndarray"
         }
        ],
        "3751055923777384973": [
         "3751055923777384973",
         {
          "args": [
           "2944773798775947601",
           "-8159938588654798608"
          ],
          "function": "Maybe.map",
          "type_params": {
           "T": {
            "params": {
             "T": {
              "type": "Integer"
             }
            },
            "type": "Vec"
           }
          }
         }
        ],
        "3770459566127010284": [
         "3770459566127010284",
         {
          "args": [
           "-693852287426370102",
           "-601798127143681366"
          ],
          "function": "Maybe.__and__",
          "type_params": {
           "T": {
            "type": "NDArray"
           }
          }
         }
        ],
        "3824186961073615606": [
         "3824186961073615606",
         {
          "args": [
           "468231498779743578",
           "-3621155432722573253"
          ],
          "function": "Abstraction.create"
         }
        ],
        "3837720780772065142": [
         "-2324897974934532418",
         {
          "args": [
           "3410846223516364705",
           "5838084232112052900"
          ],
          "function": "ndarray_getitem"
         }
        ],
        "3872101413456062539": [
         "3770459566127010284",
         {
          "args": [
           "-2822577839386693752",
           "-255592637557283532"
          ],
          "function": "Maybe.__and__",
          "type_params": {
           "T": {
            "type": "NDArray"
           }
          }
         }
        ],
        "3931380370487318699": [
         "1291442120334238282",
         {
          "args": [
           "2944773798775947601",
           "2703072876348085923",
           "-5570393124951192012"
          ],
          "function": "Maybe.match",
          "type_params": {
           "T": {
            "params": {
             "T": {
              "type": "Integer"
             }
            },
            "type": "Vec"
           }
          }
         }
        ],
        "414577109831858349": [
         "-7585266382721542195",
         {
          "args": [
           "-2874358435711377228"
          ],
          "function": "NDArrayCompat.from_ndarray"
         }
        ],
        "4348056629779286384": [
         "7902643172531125544",
         {
          "args": [
           "5659392155686545387",
           "-4664464520583065041",
           "3824186961073615606"
          ],
          "function": "Maybe.match",
          "type_params": {
           "T": {
            "params": {
             "T": {
              "type": "NDArray"
             },
             "U": {
              "params": {
               "T": {
                "type": "Integer"
               },
               "U": {
                "params": {
                 "T": {
                  "type": "Integer"
                 }
                },
                "type": "Vec"
               }
              },
              "type": "Either"
             }
            },
            "type": "Pair"
           }
          }
         }
        ],
        "4381966629815095168": [
         "-7585266382721542195",
         {
          "args": [
           "9170023377660142727"
          ],
          "function": "NDArrayCompat.from_ndarray"
         }
        ],
        "4421296665337759402": [
         "7902643172531125544",
         {
          "args": [
           "-5693778997302270785",
           "-4664464520583065041",
           "1487874569637105037"
          ],
          "function": "Maybe.match",
          "type_params": {
           "T": {
            "params": {
             "T": {
              "type": "NDArray"
             },
             "U": {
              "params": {
               "T": {
                "type": "Integer"
               },
               "U": {
                "params": {
                 "T": {
                  "type": "Integer"
                 }
                },
                "type": "Vec"
               }
              },
              "type": "Either"
             }
            },
            "type": "Pair"
           }
          }
         }
        ],
        "44395248776030981": [
         "-7585266382721542195",
         {
          "args": [
           "-2903661489942354244"
          ],
          "function": "NDArrayCompat.from_ndarray"
         }
        ],
        "46049717499487223": [
         "-7246546953092699839",
         {
          "args": [
           "-7300482696862424175",
           "1291442120334238282"
          ],
          "function": "Maybe.__or__",
          "type_params": {
           "T": {
            "params": {
             "T": {
              "type": "Integer"
             },
             "U": {
              "params": {
               "T": {
                "type": "Integer"
               }
              },
              "type": "Vec"
             }
            },
            "type": "Either"
           }
          }
         }
        ],
        "4616069827488363355": [
         "4616069827488363355",
         {
          "args": [
           "-6500393008186537515",
           "-2631096410235245811"
          ],
          "function": "Abstraction.__add__",
          "type_params": {
           "T": {
            "params": {
             "T": {
              "type": "Integer"
             },
             "U": {
              "params": {
               "T": {
                "type": "Integer"
               }
              },
              "type": "Vec"
             }
            },
            "type": "Either"
           },
           "U": {
            "params": {
             "T": {
              "params": {
               "T": {
                "type": "Integer"
               },
               "U": {
                "params": {
                 "T": {
                  "type": "Integer"
                 }
                },
                "type": "Vec"
               }
              },
              "type": "Either"
             }
            },
            "type": "Maybe"
           }
          }
         }
        ],
        "4664135465920369113": [
         "1487874569637105037",
         {
          "args": [
           "-9187846953603438100",
           "518509411827867796"
          ],
          "function": "Abstraction.__add__",
          "type_params": {
           "T": {
            "type": "NDArray"
           },
           "U": {
            "params": {
             "T": {
              "type": "NDArray"
             }
            },
            "type": "Maybe"
           }
          }
         }
        ],
        "4670090330723769874": [
         "-710006793518321344",
         {
          "args": [
           "7205870173436599564",
           "579615478629357154"
          ],
          "function": "Abstraction.__call__",
          "type_params": {
           "T": {
            "type": "Integer"
           },
           "U": {
            "params": {
             "T": {
              "type": "NDArray"
             }
            },
            "type": "Maybe"
           }
          }
         }
        ],
        "468231498779743578": [
         "468231498779743578",
         {
          "args": [
           "-4410156857131548578"
          ],
          "function": "Abstraction.create_variable",
          "type_params": {
           "T": {
            "params": {
             "T": {
              "type": "NDArray"
             },
             "U": {
              "params": {
               "T": {
                "type": "Integer"
               },
               "U": {
                "params": {
                 "T": {
                  "type": "Integer"
                 }
                },
                "type": "Vec"
               }
              },
              "type": "Either"
             }
            },
            "type": "Pair"
           },
           "U": {
            "type": "NDArray"
           }
          }
         }
        ],
        "4700439864827198540": [
         "7902643172531125544",
         {
          "args": [
           "-6649595900598481839",
           "-4664464520583065041",
           "1487874569637105037"
          ],
          "function": "Maybe.match",
          "type_params": {
           "T": {
            "params": {
             "T": {
              "type": "NDArray"
             },
             "U": {
              "params": {
               "T": {
                "type": "Integer"
               },
               "U": {
                "params": {
                 "T": {
                  "type": "Integer"
                 }
                },
                "type": "Vec"
               }
              },
              "type": "Either"
             }
            },
            "type": "Pair"
           }
          }
         }
        ],
        "4755030733478054666": [
         "4755030733478054666",
         {
          "args": [
           "-4410156857239801078"
          ],
          "function": "Abstraction.create_variable",
          "type_params": {
           "T": {
            "params": {
             "T": {
              "type": "Integer"
             }
            },
            "type": "Vec"
           },
           "U": {
            "params": {
             "T": {
              "type": "Integer"
             },
             "U": {
              "params": {
               "T": {
                "type": "Integer"
               }
              },
              "type": "Vec"
             }
            },
            "type": "Either"
           }
          }
         }
        ],
        "4760851721818910565": [
         "7902643172531125544",
         {
          "args": [
           "3770459566127010284",
           "518509411827867796"
          ],
          "function": "Maybe.map",
          "type_params": {
           "T": {
            "params": {
             "T": {
              "type": "NDArray"
             },
             "U": {
              "params": {
               "T": {
                "type": "Integer"
               },
               "U": {
                "params": {
                 "T": {
                  "type": "Integer"
                 }
                },
                "type": "Vec"
               }
              },
              "type": "Either"
             }
            },
            "type": "Pair"
           }
          }
         }
        ],
        "4813215188361776730": [
         "4813215188361776730",
         {
          "repr": "Variable(4700360320)",
          "type": "Variable"
         }
        ],
        "4813215193752751230": [
         "4813215193752751230",
         {
          "repr": "Variable(4700247488)",
          "type": "Variable"
         }
        ],
        "4868045427060116568": [
         "1935586180163463095",
         {
          "args": [
           "8920328074254634750",
           "8920328074254634750"
          ],
          "function": "ndarray_add"
         }
        ],
        "488566106128567278": [
         "1935586180163463095",
         {
          "args": [
           "3316945241568607694"
          ],
          "function": "NDArrayCompat.to_ndarray"
         }
        ],
        "494967562214894105": [
         "-7585266382721542195",
         {
          "args": [
           "-5523419275082759935"
          ],
          "function": "NDArrayCompat.from_ndarray"
         }
        ],
        "5018280261059491459": [
         "5018280261059491459",
         {
          "repr": "Maybe.just",
          "type": "BoundInfer"
         }
        ],
        "5071896665634334787": [
         "-2324897974934532418",
         {
          "args": [
           "-6213901634593861291",
           "5838084232112052900"
          ],
          "function": "ndarray_getitem"
         }
        ],
        "5109073286877630545": [
         "5109073286877630545",
         {
          "args": [
           "5838084232112052900"
          ],
          "function": "Integer.from_int"
         }
        ],
        "5179407927210079169": [
         "1935586180163463095",
         {
          "args": [
           "-4347219664028182251"
          ],
          "function": "NDArrayCompat.to_ndarray"
         }
        ],
        "518509411827867796": [
         "518509411827867796",
         {
          "args": [
           "468231498779743578",
           "5200602674581088372"
          ],
          "function": "Abstraction.create",
          "type_params": {
           "T": {
            "params": {
             "T": {
              "type": "NDArray"
             },
             "U": {
              "params": {
               "T": {
                "type": "Integer"
               },
               "U": {
                "params": {
                 "T": {
                  "type": "Integer"
                 }
                },
                "type": "Vec"
               }
              },
              "type": "Either"
             }
            },
            "type": "Pair"
           },
           "U": {
            "type": "NDArray"
           }
          }
         }
        ],
        "5200602674581088372": [
         "5200602674581088372",
         {
          "args": [
           "-6414794420438946634",
           "-1042568174412886162"
          ],
          "function": "NDArray.__getitem__"
         }
        ],
        "5252046903394539286": [
         "3770459566127010284",
         {
          "args": [
           "643017614923179061"
          ],
          "function": "Maybe.just"
         }
        ],
        "5435969851716377834": [
         "3410846223516364705",
         {
          "args": [
           "6003697446393151645"
          ],
          "function": "arange"
         }
        ],
        "5545252579807753009": [
         "7902643172531125544",
         {
          "args": [
           "-7640308243335310651",
           "-4664464520583065041",
           "3824186961073615606"
          ],
          "function": "Maybe.match",
          "type_params": {
           "T": {
            "params": {
             "T": {
              "type": "NDArray"
             },
             "U": {
              "params": {
               "T": {
                "type": "Integer"
               },
               "U": {
                "params": {
                 "T": {
                  "type": "Integer"
                 }
                },
                "type": "Vec"
               }
              },
              "type": "Either"
             }
            },
            "type": "Pair"
           }
          }
         }
        ],
        "5624114912053899358": [
         "2479618931988953124",
         {
          "args": [
           "2699990931408063806",
           "2699990931408063806"
          ],
          "function": "NDArrayCompat.__add__"
         }
        ],
        "5654487937442623020": [
         "7902643172531125544",
         {
          "args": [
           "3453706505360842280",
           "-4664464520583065041",
           "3824186961073615606"
          ],
          "function": "Maybe.match",
          "type_params": {
           "T": {
            "params": {
             "T": {
              "type": "NDArray"
             },
             "U": {
              "params": {
               "T": {
                "type": "Integer"
               },
               "U": {
                "params": {
                 "T": {
                  "type": "Integer"
                 }
                },
                "type": "Vec"
               }
              },
              "type": "Either"
             }
            },
            "type": "Pair"
           }
          }
         }
        ],
        "5659392155686545387": [
         "3770459566127010284",
         {
          "args": [
           "28407508120041940",
           "2218751614882757805"
          ],
          "function": "Maybe.__and__",
          "type_params": {
           "T": {
            "type": "NDArray"
           }
          }
         }
        ],
        "579615478629357154": [
         "579615478629357154",
         {
          "args": [
           "5838084232007047975"
          ],
          "function": "Integer.from_int"
         }
        ],
        "5838084232007047975": [
         "6003697446393151645",
         {
          "repr": "100",
          "type": "int"
         }
        ],
        "5838084232112052900": [
         "7756835102063988763",
         {
          "repr": "5",
          "type": "int"
         }
        ],
        "5862299951965675192": [
         "5862299951965675192",
         {
          "args": [
           "3481659688989734831"
          ],
          "function": "arange_"
         }
        ],
        "5875209040284893536": [
         "1935586180163463095",
         {
          "args": [
           "4381966629815095168"
          ],
          "function": "NDArrayCompat.to_ndarray"
         }
        ],
        "5962832767606310651": [
         "-2324897974934532418",
         {
          "args": [
           "-2484432628204838036",
           "5838084232112052900"
          ],
          "function": "ndarray_getitem"
         }
        ],
        "6003697446393151645": [
         "6003697446393151645",
         {
          "args": [
           "579615478629357154"
          ],
          "function": "unbox_integer"
         }
        ],
        "6056108927389162809": [
         "6056108927389162809",
         {
          "args": [
           "5838084232112052900"
          ],
          "function": "Converter.convert",
          "type_params": {
           "T": {
            "type": "Integer"
           }
          }
         }
        ],
        "6164495585392271202": [
         "-7585266382721542195",
         {
          "args": [
           "-6061511077476038142"
          ],
          "function": "NDArrayCompat.from_ndarray"
         }
        ],
        "6194885569319287846": [
         "1935586180163463095",
         {
          "args": [
           "8671077214046973556"
          ],
          "function": "NDArrayCompat.to_ndarray"
         }
        ],
        "6228889529990603524": [
         "1240870953218063631",
         {
          "args": [
           "-845766801800596083",
           "-956653014655375141"
          ],
          "function": "Maybe.__and__",
          "type_params": {
           "T": {
            "type": "NDArray"
           }
          }
         }
        ],
        "6249862171060341502": [
         "7902643172531125544",
         {
          "args": [
           "-7755731675456949430",
           "-4664464520583065041",
           "3824186961073615606"
          ],
          "function": "Maybe.match",
          "type_params": {
           "T": {
            "params": {
             "T": {
              "type": "NDArray"
             },
             "U": {
              "params": {
               "T": {
                "type": "Integer"
               },
               "U": {
                "params": {
                 "T": {
                  "type": "Integer"
                 }
                },
                "type": "Vec"
               }
              },
              "type": "Either"
             }
            },
            "type": "Pair"
           }
          }
         }
        ],
        "6301162349869030677": [
         "6301162349869030677",
         {
          "args": [
           "643017614923179061"
          ],
          "function": "Pair.right",
          "type_params": {
           "T": {
            "type": "NDArray"
           },
           "U": {
            "params": {
             "T": {
              "type": "Integer"
             },
             "U": {
              "params": {
               "T": {
                "type": "Integer"
               }
              },
              "type": "Vec"
             }
            },
            "type": "Either"
           }
          }
         }
        ],
        "6346819825003362680": [
         "7902643172531125544",
         {
          "args": [
           "8642611512904930460",
           "-4713478874883071829"
          ],
          "function": "Maybe.map",
          "type_params": {
           "T": {
            "params": {
             "T": {
              "type": "NDArray"
             },
             "U": {
              "params": {
               "T": {
                "type": "Integer"
               },
               "U": {
                "params": {
                 "T": {
                  "type": "Integer"
                 }
                },
                "type": "Vec"
               }
              },
              "type": "Either"
             }
            },
            "type": "Pair"
           }
          }
         }
        ],
        "6383802083390335751": [
         "7902643172531125544",
         {
          "args": [
           "865707262714063924",
           "-4664464520583065041",
           "3824186961073615606"
          ],
          "function": "Maybe.match",
          "type_params": {
           "T": {
            "params": {
             "T": {
              "type": "NDArray"
             },
             "U": {
              "params": {
               "T": {
                "type": "Integer"
               },
               "U": {
                "params": {
                 "T": {
                  "type": "Integer"
                 }
                },
                "type": "Vec"
               }
              },
              "type": "Either"
             }
            },
            "type": "Pair"
           }
          }
         }
        ],
        "643017614923179061": [
         "643017614923179061",
         {
          "args": [
           "-4619107828061912794",
           "-7067585356806477310"
          ],
          "function": "Pair.create"
         }
        ],
        "6506087961180873209": [
         "6506087961180873209",
         {
          "args": [
           "4755030733478054666"
          ],
          "function": "Either.right",
          "type_params": {
           "T": {
            "type": "Integer"
           },
           "U": {
            "params": {
             "T": {
              "type": "Integer"
             }
            },
            "type": "Vec"
           }
          }
         }
        ],
        "6551729999057842089": [
         "-7585266382721542195",
         {
          "args": [
           "8931170676128119212"
          ],
          "function": "NDArrayCompat.from_ndarray"
         }
        ],
        "6749951301008775451": [
         "1771017972727046875",
         {
          "args": [
           "856785412918421907",
           "-4747599550161408370"
          ],
          "function": "Abstraction.__add__",
          "type_params": {
           "T": {
            "params": {
             "T": {
              "type": "Integer"
             },
             "U": {
              "params": {
               "T": {
                "type": "Integer"
               }
              },
              "type": "Vec"
             }
            },
            "type": "Either"
           },
           "U": {
            "params": {
             "T": {
              "params": {
               "T": {
                "type": "Integer"
               },
               "U": {
                "params": {
                 "T": {
                  "type": "Integer"
                 }
                },
                "type": "Vec"
               }
              },
              "type": "Either"
             }
            },
            "type": "Maybe"
           }
          }
         }
        ],
        "6789123831358882944": [
         "6789123831358882944",
         {
          "args": [
           "5109073286877630545"
          ],
          "function": "Maybe.just"
         }
        ],
        "6801381674161147896": [
         "6801381674161147896",
         {
          "args": [
           "-1095585159230285059",
           "3422393941435572874"
          ],
          "function": "Abstraction.__add__",
          "type_params": {
           "T": {
            "type": "NDArray"
           },
           "U": {
            "params": {
             "T": {
              "type": "NDArray"
             }
            },
            "type": "Maybe"
           }
          }
         }
        ],
        "6945425244518419199": [
         "1291442120334238282",
         {
          "args": [
           "2944773798775947601",
           "2703072876348085923",
           "8498399876414447003"
          ],
          "function": "Maybe.match",
          "type_params": {
           "T": {
            "params": {
             "T": {
              "type": "Integer"
             }
            },
            "type": "Vec"
           }
          }
         }
        ],
        "7137757682422778466": [
         "-7585266382721542195",
         {
          "args": [
           "3336205771935707391"
          ],
          "function": "NDArrayCompat.from_ndarray"
         }
        ],
        "7138771968961129037": [
         "-8515717911257762846",
         {
          "args": [
           "2445145776796725530",
           "5109073286877630545"
          ],
          "function": "Abstraction.__call__",
          "type_params": {
           "T": {
            "type": "Integer"
           },
           "U": {
            "params": {
             "T": {
              "params": {
               "T": {
                "type": "Integer"
               },
               "U": {
                "params": {
                 "T": {
                  "type": "Integer"
                 }
                },
                "type": "Vec"
               }
              },
              "type": "Either"
             }
            },
            "type": "Maybe"
           }
          }
         }
        ],
        "715990821971166000": [
         "1935586180163463095",
         {
          "args": [
           "-6213901846959285691",
           "-6213901846959285691"
          ],
          "function": "ndarray_add"
         }
        ],
        "7205870173436599564": [
         "6801381674161147896",
         {
          "args": [
           "-9187846953603438100",
           "3422393941435572874"
          ],
          "function": "Abstraction.__add__",
          "type_params": {
           "T": {
            "type": "NDArray"
           },
           "U": {
            "params": {
             "T": {
              "type": "NDArray"
             }
            },
            "type": "Maybe"
           }
          }
         }
        ],
        "7221518456433276231": [
         "7221518456433276231",
         {
          "args": [
           "5862299951965675192"
          ],
          "function": "Maybe.just",
          "type_params": {
           "T": {
            "type": "NDArray"
           }
          }
         }
        ],
        "7648192999837778095": [
         "-7585266382721542195",
         {
          "args": [
           "-8008667647859116852"
          ],
          "function": "NDArrayCompat.from_ndarray"
         }
        ],
        "7756835102063988763": [
         "7756835102063988763",
         {
          "args": [
           "-7067585356806477310"
          ],
          "function": "unbox_idxs"
         }
        ],
        "7762550062654040263": [
         "-601798127143681366",
         {
          "args": [
           "-7484022018064687097",
           "3931380370487318699"
          ],
          "function": "Maybe.__or__",
          "type_params": {
           "T": {
            "params": {
             "T": {
              "type": "Integer"
             },
             "U": {
              "params": {
               "T": {
                "type": "Integer"
               }
              },
              "type": "Vec"
             }
            },
            "type": "Either"
           }
          }
         }
        ],
        "7902643172531125544": [
         "7902643172531125544",
         {
          "args": [
           "1240870953218063631",
           "-4713478874883071829"
          ],
          "function": "Maybe.map",
          "type_params": {
           "T": {
            "params": {
             "T": {
              "type": "NDArray"
             },
             "U": {
              "params": {
               "T": {
                "type": "Integer"
               },
               "U": {
                "params": {
                 "T": {
                  "type": "Integer"
                 }
                },
                "type": "Vec"
               }
              },
              "type": "Either"
             }
            },
            "type": "Pair"
           }
          }
         }
        ],
        "800043649288483110": [
         "-7106233571294015986",
         {
          "args": [
           "372699550060722797",
           "372699550060722797"
          ],
          "function": "NDArrayCompat.__add__"
         }
        ],
        "812146376475600282": [
         "9219245304176348434",
         {
          "args": [
           "1395466120539641181",
           "-7067585356806477310"
          ],
          "function": "NDArray.__getitem__"
         }
        ],
        "8139586425235452796": [
         "8139586425235452796",
         {
          "args": [
           "-631114738667227295",
           "-631114738667227295"
          ],
          "function": "NDArray.__add__"
         }
        ],
        "8180244667050589252": [
         "1935586180163463095",
         {
          "args": [
           "414577109831858349"
          ],
          "function": "NDArrayCompat.to_ndarray"
         }
        ],
        "8337972810394593691": [
         "-710006793518321344",
         {
          "args": [
           "-1699773377263255131",
           "-4664464520583065041",
           "6801381674161147896"
          ],
          "function": "Maybe.match",
          "type_params": {
           "T": {
            "type": "Integer"
           }
          }
         }
        ],
        "845913313291518814": [
         "7902643172531125544",
         {
          "args": [
           "-6988357606592122895",
           "518509411827867796"
          ],
          "function": "Maybe.map",
          "type_params": {
           "T": {
            "params": {
             "T": {
              "type": "NDArray"
             },
             "U": {
              "params": {
               "T": {
                "type": "Integer"
               },
               "U": {
                "params": {
                 "T": {
                  "type": "Integer"
                 }
                },
                "type": "Vec"
               }
              },
              "type": "Either"
             }
            },
            "type": "Pair"
           }
          }
         }
        ],
        "848120509406073737": [
         "1935586180163463095",
         {
          "args": [
           "-6865320423700650642"
          ],
          "function": "NDArrayCompat.to_ndarray"
         }
        ],
        "8498399876414447003": [
         "4616069827488363355",
         {
          "args": [
           "856785412918421907",
           "-2631096410235245811"
          ],
          "function": "Abstraction.__add__",
          "type_params": {
           "T": {
            "params": {
             "T": {
              "type": "Integer"
             },
             "U": {
              "params": {
               "T": {
                "type": "Integer"
               }
              },
              "type": "Vec"
             }
            },
            "type": "Either"
           },
           "U": {
            "params": {
             "T": {
              "params": {
               "T": {
                "type": "Integer"
               },
               "U": {
                "params": {
                 "T": {
                  "type": "Integer"
                 }
                },
                "type": "Vec"
               }
              },
              "type": "Either"
             }
            },
            "type": "Maybe"
           }
          }
         }
        ],
        "856785412918421907": [
         "-6500393008186537515",
         {
          "args": [
           "9039111995028656601",
           "-1346791124493721435"
          ],
          "function": "Abstraction.create",
          "type_params": {
           "T": {
            "params": {
             "T": {
              "type": "Integer"
             },
             "U": {
              "params": {
               "T": {
                "type": "Integer"
               }
              },
              "type": "Vec"
             }
            },
            "type": "Either"
           },
           "U": {
            "params": {
             "T": {
              "params": {
               "T": {
                "type": "Integer"
               },
               "U": {
                "params": {
                 "T": {
                  "type": "Integer"
                 }
                },
                "type": "Vec"
               }
              },
              "type": "Either"
             }
            },
            "type": "Maybe"
           }
          }
         }
        ],
        "8569104213158216184": [
         "7756835102063988763",
         {
          "args": [
           "5109073286877630545"
          ],
          "function": "unbox_integer"
         }
        ],
        "8588853776317314472": [
         "1935586180163463095",
         {
          "args": [
           "3837720780772065142",
           "3837720780772065142"
          ],
          "function": "ndarray_add"
         }
        ],
        "8598249988727306392": [
         "1240870953218063631",
         {
          "args": [
           "-7125658743320791948",
           "-956653014655375141"
          ],
          "function": "Maybe.__and__",
          "type_params": {
           "T": {
            "type": "NDArray"
           }
          }
         }
        ],
        "8642611512904930460": [
         "1240870953218063631",
         {
          "args": [
           "-7125658743320791948",
           "-383058471427345641"
          ],
          "function": "Maybe.__and__",
          "type_params": {
           "T": {
            "type": "NDArray"
           }
          }
         }
        ],
        "865707262714063924": [
         "3770459566127010284",
         {
          "args": [
           "28407508120041940",
           "-7341282861926611629"
          ],
          "function": "Maybe.__and__",
          "type_params": {
           "T": {
            "type": "NDArray"
           }
          }
         }
        ],
        "8671077214046973556": [
         "-7585266382721542195",
         {
          "args": [
           "5654487937442623020"
          ],
          "function": "NDArrayCompat.from_ndarray"
         }
        ],
        "868080771660981626": [
         "7902643172531125544",
         {
          "args": [
           "-6258701584004857227",
           "-4664464520583065041",
           "3824186961073615606"
          ],
          "function": "Maybe.match",
          "type_params": {
           "T": {
            "params": {
             "T": {
              "type": "NDArray"
             },
             "U": {
              "params": {
               "T": {
                "type": "Integer"
               },
               "U": {
                "params": {
                 "T": {
                  "type": "Integer"
                 }
                },
                "type": "Vec"
               }
              },
              "type": "Either"
             }
            },
            "type": "Pair"
           }
          }
         }
        ],
        "8709362863052782407": [
         "-7585266382721542195",
         {
          "args": [
           "-7386547758123990700"
          ],
          "function": "NDArrayCompat.from_ndarray"
         }
        ],
        "8717298061299669538": [
         "1935586180163463095",
         {
          "args": [
           "6551729999057842089"
          ],
          "function": "NDArrayCompat.to_ndarray"
         }
        ],
        "8888322373751518602": [
         "1240870953218063631",
         {
          "args": [
           "2723701481682903090",
           "46049717499487223"
          ],
          "function": "Maybe.__and__",
          "type_params": {
           "T": {
            "type": "NDArray"
           }
          }
         }
        ],
        "8890246705513709024": [
         "-601798127143681366",
         {
          "args": [
           "8938796580966517133",
           "9098294439964856754"
          ],
          "function": "Maybe.__or__",
          "type_params": {
           "T": {
            "params": {
             "T": {
              "type": "Integer"
             },
             "U": {
              "params": {
               "T": {
                "type": "Integer"
               }
              },
              "type": "Vec"
             }
            },
            "type": "Either"
           }
          }
         }
        ],
        "8920328074254634750": [
         "-2324897974934532418",
         {
          "args": [
           "3410846223516364705",
           "7756835102063988763"
          ],
          "function": "ndarray_getitem"
         }
        ],
        "8931170676128119212": [
         "7902643172531125544",
         {
          "args": [
           "8598249988727306392",
           "-4713478874883071829"
          ],
          "function": "Maybe.map",
          "type_params": {
           "T": {
            "params": {
             "T": {
              "type": "NDArray"
             },
             "U": {
              "params": {
               "T": {
                "type": "Integer"
               },
               "U": {
                "params": {
                 "T": {
                  "type": "Integer"
                 }
                },
                "type": "Vec"
               }
              },
              "type": "Either"
             }
            },
            "type": "Pair"
           }
          }
         }
        ],
        "8931569416374346288": [
         "1935586180163463095",
         {
          "args": [
           "5962832767606310651",
           "5962832767606310651"
          ],
          "function": "ndarray_add"
         }
        ],
        "8938796580966517133": [
         "-8515717911257762846",
         {
          "args": [
           "1771017972727046875",
           "5109073286877630545"
          ],
          "function": "Abstraction.__call__",
          "type_params": {
           "T": {
            "type": "Integer"
           },
           "U": {
            "params": {
             "T": {
              "params": {
               "T": {
                "type": "Integer"
               },
               "U": {
                "params": {
                 "T": {
                  "type": "Integer"
                 }
                },
                "type": "Vec"
               }
              },
              "type": "Either"
             }
            },
            "type": "Maybe"
           }
          }
         }
        ],
        "8957850406086502320": [
         "1935586180163463095",
         {
          "args": [
           "5071896665634334787",
           "5071896665634334787"
          ],
          "function": "ndarray_add"
         }
        ],
        "9039111995028656601": [
         "9039111995028656601",
         {
          "args": [
           "-4410156933881488553"
          ],
          "function": "Abstraction.create_variable",
          "type_params": {
           "T": {
            "params": {
             "T": {
              "type": "Integer"
             },
             "U": {
              "params": {
               "T": {
                "type": "Integer"
               }
              },
              "type": "Vec"
             }
            },
            "type": "Either"
           },
           "U": {
            "params": {
             "T": {
              "params": {
               "T": {
                "type": "Integer"
               },
               "U": {
                "params": {
                 "T": {
                  "type": "Integer"
                 }
                },
                "type": "Vec"
               }
              },
              "type": "Either"
             }
            },
            "type": "Maybe"
           }
          }
         }
        ],
        "9068465748629872981": [
         "-7585266382721542195",
         {
          "args": [
           "-2272436261253121429"
          ],
          "function": "NDArrayCompat.from_ndarray"
         }
        ],
        "9098294439964856754": [
         "1291442120334238282",
         {
          "args": [
           "2944773798775947601",
           "2703072876348085923",
           "4616069827488363355"
          ],
          "function": "Maybe.match",
          "type_params": {
           "T": {
            "params": {
             "T": {
              "type": "Integer"
             }
            },
            "type": "Vec"
           }
          }
         }
        ],
        "9165598983254956855": [
         "1935586180163463095",
         {
          "args": [
           "8709362863052782407"
          ],
          "function": "NDArrayCompat.to_ndarray"
         }
        ],
        "9170023377660142727": [
         "7902643172531125544",
         {
          "args": [
           "-4932447940979014284",
           "-4664464520583065041",
           "1487874569637105037"
          ],
          "function": "Maybe.match",
          "type_params": {
           "T": {
            "params": {
             "T": {
              "type": "NDArray"
             },
             "U": {
              "params": {
               "T": {
                "type": "Integer"
               },
               "U": {
                "params": {
                 "T": {
                  "type": "Integer"
                 }
                },
                "type": "Vec"
               }
              },
              "type": "Either"
             }
            },
            "type": "Pair"
           }
          }
         }
        ],
        "9199464404600372497": [
         "-7585266382721542195",
         {
          "args": [
           "4760851721818910565"
          ],
          "function": "NDArrayCompat.from_ndarray"
         }
        ],
        "9219245304176348434": [
         "9219245304176348434",
         {
          "args": [
           "1395466120539641181",
           "6301162349869030677"
          ],
          "function": "NDArray.__getitem__"
         }
        ],
        "963159873203479688": [
         "1935586180163463095",
         {
          "args": [
           "-1649160540207050919",
           "-1649160540207050919"
          ],
          "function": "ndarray_add"
         }
        ],
        "983257553804758448": [
         "-1050884032506130782",
         {
          "args": [
           "-7083881267291258019"
          ],
          "function": "NDArrayCompat.from_ndarray"
         }
        ]
       },
       "states": {
        "initial": "1935586180163463095",
        "states": [
         {
          "node": "5179407927210079169",
          "rule": "metadsl_core.numpy.NDArrayCompat.__getitem__"
         },
         {
          "node": "-7166720341481262269",
          "rule": "metadsl_core.either.convert_to_either"
         },
         {
          "node": "8717298061299669538",
          "rule": "metadsl_core.integer.convert_integer"
         },
         {
          "node": "848120509406073737",
          "rule": "metadsl_core.numpy.arange"
         },
         {
          "node": "8180244667050589252",
          "rule": "metadsl_core.integer.convert_integer"
         },
         {
          "node": "-2896401226179532675",
          "rule": "metadsl_core.abstraction.Abstraction.from_fn"
         },
         {
          "node": "2760550538656796282",
          "rule": "metadsl_core.abstraction.Abstraction.from_fn"
         },
         {
          "node": "-8534948527576490255",
          "rule": "metadsl_core.abstraction.Abstraction.from_fn"
         },
         {
          "node": "-2526782594461052991",
          "rule": "metadsl_core.abstraction.Abstraction.from_fn"
         },
         {
          "node": "1619459771250843198",
          "rule": "metadsl_core.maybe.Maybe.map"
         },
         {
          "node": "-4863314574823831270",
          "rule": "metadsl_core.maybe.Maybe.map"
         },
         {
          "node": "9165598983254956855",
          "rule": "metadsl_core.maybe.Maybe.map"
         },
         {
          "node": "-4174312232391793700",
          "rule": "metadsl_core.maybe.maybe_match"
         },
         {
          "node": "-1565107483550253999",
          "rule": "metadsl_core.maybe.Maybe.map"
         },
         {
          "node": "5875209040284893536",
          "rule": "metadsl_core.maybe.maybe_match"
         },
         {
          "node": "-2710983233644286474",
          "rule": "metadsl_core.abstraction.Abstraction.from_fn"
         },
         {
          "node": "-8746822573835151313",
          "rule": "metadsl_core.abstraction.Abstraction.from_fn"
         },
         {
          "node": "2859344359834789841",
          "rule": "metadsl_core.abstraction.compose"
         },
         {
          "node": "2853526785382423624",
          "rule": "metadsl_core.abstraction.compose"
         },
         {
          "node": "-2543642831653205362",
          "rule": "metadsl_core.abstraction.compose"
         },
         {
          "node": "-1529447170174692193",
          "rule": "metadsl_core.abstraction.beta_reduce"
         },
         {
          "node": "6194885569319287846",
          "rule": "metadsl_core.maybe.maybe_or"
         },
         {
          "node": "-8636050747429858706",
          "rule": "metadsl_core.abstraction.compose"
         },
         {
          "node": "-6990033121179623761",
          "rule": "metadsl_core.abstraction.beta_reduce"
         },
         {
          "node": "-5094789078709316628",
          "rule": "metadsl_core.numpy.add_compat"
         },
         {
          "node": "-8770014808466506423",
          "rule": "metadsl_core.numpy.convert_to_ndarray"
         },
         {
          "node": "-5377751653156838285",
          "rule": "metadsl_core.maybe.maybe_and"
         },
         {
          "node": "488566106128567278",
          "rule": "metadsl_core.maybe.maybe_match"
         },
         {
          "node": "-6415487103606775028",
          "rule": "metadsl_core.abstraction.beta_reduce"
         },
         {
          "node": "1910669533948444199",
          "rule": "metadsl_core.pair.pair_right"
         },
         {
          "node": "-6982537285276620806",
          "rule": "metadsl_core.pair.pair_left"
         },
         {
          "label": "convert",
          "node": "-6982537285276620806",
          "rule": ""
         },
         {
          "node": "-4677967699452908559",
          "rule": "__main__.optimize_getitem_add"
         },
         {
          "label": "optimize",
          "node": "-4677967699452908559",
          "rule": ""
         },
         {
          "node": "-1359963527519149664",
          "rule": "metadsl_core.numpy.box_unbox_ndarray_compat"
         },
         {
          "node": "-5098662226766386384",
          "rule": "metadsl_core.numpy_engine.unbox_ndarray_add"
         },
         {
          "node": "4868045427060116568",
          "rule": "metadsl_core.numpy_engine.unbox_ndarray_getitem"
         },
         {
          "node": "963159873203479688",
          "rule": "metadsl_core.numpy_engine.unbox_idxs_rule"
         },
         {
          "node": "8588853776317314472",
          "rule": "metadsl_core.numpy_engine.unbox_integer_rule"
         },
         {
          "node": "-8644853813721706856",
          "rule": "metadsl_core.numpy_engine.unbox_arange"
         },
         {
          "node": "8931569416374346288",
          "rule": "metadsl_core.numpy_engine.unbox_integer_rule"
         },
         {
          "label": "unbox",
          "node": "8931569416374346288",
          "rule": ""
         },
         {
          "node": "8957850406086502320",
          "rule": "metadsl_core.numpy_engine.arange"
         },
         {
          "node": "715990821971166000",
          "rule": "metadsl_core.numpy_engine.ndarray_getitem"
         },
         {
          "node": "3056694902852834817",
          "rule": "metadsl_core.numpy_engine.ndarray_add"
         },
         {
          "label": "execute",
          "node": "3056694902852834817",
          "rule": ""
         }
        ]
       }
      },
      "application/x.typez.graph+json": {
       "initial": "digraph {\n\tnode [shape=plain]\n\tedge [arrowsize=0.5 penwidth=0.5]\n\t1935586180163463095 [label=\"NDArrayCompat.to_ndarray\" id=1935586180163463095]\n\t1935586180163463095 -> -7585266382721542195 [id=\"1935586180163463095.args[0]\"]\n\t-7585266382721542195 [label=\"NDArrayCompat.__getitem__\" id=-7585266382721542195]\n\t-7585266382721542195 -> -7106233571294015986 [id=\"-7585266382721542195.args[0]\"]\n\t-7106233571294015986 [label=\"NDArrayCompat.__add__\" id=-7106233571294015986]\n\t-7106233571294015986 -> -3959006833905751656 [id=\"-7106233571294015986.args[0]\"]\n\t-3959006833905751656 [label=arange id=-3959006833905751656]\n\t-3959006833905751656 -> 5838084232007047975 [id=\"-3959006833905751656.args[0]\"]\n\t5838084232007047975 [label=100 id=6003697446393151645]\n\t-7106233571294015986 -> -3959006833905751656 [id=\"-7106233571294015986.args[1]\"]\n\t-7585266382721542195 -> 5838084232112052900 [id=\"-7585266382721542195.args[1]\"]\n\t5838084232112052900 [label=5 id=7756835102063988763]\n}",
       "states": [
        {
         "graph": "digraph {\n\tnode [shape=plain]\n\tedge [arrowsize=0.5 penwidth=0.5]\n\t5179407927210079169 [label=\"NDArrayCompat.to_ndarray\" id=1935586180163463095]\n\t5179407927210079169 -> -4347219664028182251 [id=\"1935586180163463095.args[0]\"]\n\t-4347219664028182251 [label=\"NDArrayCompat.from_ndarray\" id=-7585266382721542195]\n\t-4347219664028182251 -> 7902643172531125544 [id=\"-7585266382721542195.args[0]\"]\n\t7902643172531125544 [label=\"Maybe.map\" id=7902643172531125544]\n\t7902643172531125544 -> 1240870953218063631 [id=\"7902643172531125544.args[0]\"]\n\t1240870953218063631 [label=\"Maybe.__and__\" id=1240870953218063631]\n\t1240870953218063631 -> -7125658743320791948 [id=\"1240870953218063631.args[0]\"]\n\t-7125658743320791948 [label=\"Converter.convert\" id=-7125658743320791948]\n\t-7125658743320791948 -> -7106233571294015986 [id=\"-7125658743320791948.args[0]\"]\n\t-7106233571294015986 [label=\"NDArrayCompat.__add__\" id=-7106233571294015986]\n\t-7106233571294015986 -> -3959006833905751656 [id=\"-7106233571294015986.args[0]\"]\n\t-3959006833905751656 [label=arange id=-3959006833905751656]\n\t-3959006833905751656 -> 5838084232007047975 [id=\"-3959006833905751656.args[0]\"]\n\t5838084232007047975 [label=100 id=6003697446393151645]\n\t-7106233571294015986 -> -3959006833905751656 [id=\"-7106233571294015986.args[1]\"]\n\t1240870953218063631 -> -7246546953092699839 [id=\"1240870953218063631.args[1]\"]\n\t-7246546953092699839 [label=\"Converter.convert\" id=-7246546953092699839]\n\t-7246546953092699839 -> 5838084232112052900 [id=\"-7246546953092699839.args[0]\"]\n\t5838084232112052900 [label=5 id=7756835102063988763]\n\t7902643172531125544 -> -4713478874883071829 [id=\"7902643172531125544.args[1]\"]\n\t-4713478874883071829 [label=\"Abstraction.from_fn\" id=-4713478874883071829]\n\t-4713478874883071829 -> -3384401634576906858 [id=\"-4713478874883071829.args[0]\"]\n\t-3384401634576906858 [label=\"function NDArrayCompat.__getitem__.locals.lambda at 0x10d5941e0\" id=-3384401634576906858]\n}",
         "label": null,
         "rule": "metadsl_core.numpy.NDArrayCompat.__getitem__"
        },
        {
         "graph": "digraph {\n\tnode [shape=plain]\n\tedge [arrowsize=0.5 penwidth=0.5]\n\t-7166720341481262269 [label=\"NDArrayCompat.to_ndarray\" id=1935586180163463095]\n\t-7166720341481262269 -> -5950686593939289520 [id=\"1935586180163463095.args[0]\"]\n\t-5950686593939289520 [label=\"NDArrayCompat.from_ndarray\" id=-7585266382721542195]\n\t-5950686593939289520 -> 6346819825003362680 [id=\"-7585266382721542195.args[0]\"]\n\t6346819825003362680 [label=\"Maybe.map\" id=7902643172531125544]\n\t6346819825003362680 -> 8642611512904930460 [id=\"7902643172531125544.args[0]\"]\n\t8642611512904930460 [label=\"Maybe.__and__\" id=1240870953218063631]\n\t8642611512904930460 -> -7125658743320791948 [id=\"1240870953218063631.args[0]\"]\n\t-7125658743320791948 [label=\"Converter.convert\" id=-7125658743320791948]\n\t-7125658743320791948 -> -7106233571294015986 [id=\"-7125658743320791948.args[0]\"]\n\t-7106233571294015986 [label=\"NDArrayCompat.__add__\" id=-7106233571294015986]\n\t-7106233571294015986 -> -3959006833905751656 [id=\"-7106233571294015986.args[0]\"]\n\t-3959006833905751656 [label=arange id=-3959006833905751656]\n\t-3959006833905751656 -> 5838084232007047975 [id=\"-3959006833905751656.args[0]\"]\n\t5838084232007047975 [label=100 id=6003697446393151645]\n\t-7106233571294015986 -> -3959006833905751656 [id=\"-7106233571294015986.args[1]\"]\n\t8642611512904930460 -> -383058471427345641 [id=\"1240870953218063631.args[1]\"]\n\t-383058471427345641 [label=\"Maybe.__or__\" id=-7246546953092699839]\n\t-383058471427345641 -> -6815086034509967428 [id=\"-7246546953092699839.args[0]\"]\n\t-6815086034509967428 [label=\"Maybe.map\" id=-6815086034509967428]\n\t-6815086034509967428 -> 6056108927389162809 [id=\"-6815086034509967428.args[0]\"]\n\t6056108927389162809 [label=\"Converter.convert\" id=6056108927389162809]\n\t6056108927389162809 -> 5838084232112052900 [id=\"6056108927389162809.args[0]\"]\n\t5838084232112052900 [label=5 id=7756835102063988763]\n\t-6815086034509967428 -> -4724417094432334173 [id=\"-6815086034509967428.args[1]\"]\n\t-4724417094432334173 [label=\"Abstraction.from_fn\" id=-4724417094432334173]\n\t-4724417094432334173 -> 219451634672783243 [id=\"-4724417094432334173.args[0]\"]\n\t219451634672783243 [label=\"Either.left\" id=219451634672783243]\n\t-383058471427345641 -> 3751055923777384973 [id=\"-7246546953092699839.args[1]\"]\n\t3751055923777384973 [label=\"Maybe.map\" id=3751055923777384973]\n\t3751055923777384973 -> 2944773798775947601 [id=\"3751055923777384973.args[0]\"]\n\t2944773798775947601 [label=\"Converter.convert\" id=2944773798775947601]\n\t2944773798775947601 -> 5838084232112052900 [id=\"2944773798775947601.args[0]\"]\n\t3751055923777384973 -> -8159938588654798608 [id=\"3751055923777384973.args[1]\"]\n\t-8159938588654798608 [label=\"Abstraction.from_fn\" id=-8159938588654798608]\n\t-8159938588654798608 -> 2861613970724538675 [id=\"-8159938588654798608.args[0]\"]\n\t2861613970724538675 [label=\"Either.right\" id=2861613970724538675]\n\t6346819825003362680 -> -4713478874883071829 [id=\"7902643172531125544.args[1]\"]\n\t-4713478874883071829 [label=\"Abstraction.from_fn\" id=-4713478874883071829]\n\t-4713478874883071829 -> -3384401634576906858 [id=\"-4713478874883071829.args[0]\"]\n\t-3384401634576906858 [label=\"function NDArrayCompat.__getitem__.locals.lambda at 0x10d5941e0\" id=-3384401634576906858]\n}",
         "label": null,
         "rule": "metadsl_core.either.convert_to_either"
        },
        {
         "graph": "digraph {\n\tnode [shape=plain]\n\tedge [arrowsize=0.5 penwidth=0.5]\n\t8717298061299669538 [label=\"NDArrayCompat.to_ndarray\" id=1935586180163463095]\n\t8717298061299669538 -> 6551729999057842089 [id=\"1935586180163463095.args[0]\"]\n\t6551729999057842089 [label=\"NDArrayCompat.from_ndarray\" id=-7585266382721542195]\n\t6551729999057842089 -> 8931170676128119212 [id=\"-7585266382721542195.args[0]\"]\n\t8931170676128119212 [label=\"Maybe.map\" id=7902643172531125544]\n\t8931170676128119212 -> 8598249988727306392 [id=\"7902643172531125544.args[0]\"]\n\t8598249988727306392 [label=\"Maybe.__and__\" id=1240870953218063631]\n\t8598249988727306392 -> -7125658743320791948 [id=\"1240870953218063631.args[0]\"]\n\t-7125658743320791948 [label=\"Converter.convert\" id=-7125658743320791948]\n\t-7125658743320791948 -> -7106233571294015986 [id=\"-7125658743320791948.args[0]\"]\n\t-7106233571294015986 [label=\"NDArrayCompat.__add__\" id=-7106233571294015986]\n\t-7106233571294015986 -> -3959006833905751656 [id=\"-7106233571294015986.args[0]\"]\n\t-3959006833905751656 [label=arange id=-3959006833905751656]\n\t-3959006833905751656 -> 5838084232007047975 [id=\"-3959006833905751656.args[0]\"]\n\t5838084232007047975 [label=100 id=6003697446393151645]\n\t-7106233571294015986 -> -3959006833905751656 [id=\"-7106233571294015986.args[1]\"]\n\t8598249988727306392 -> -956653014655375141 [id=\"1240870953218063631.args[1]\"]\n\t-956653014655375141 [label=\"Maybe.__or__\" id=-7246546953092699839]\n\t-956653014655375141 -> -7300482696862424175 [id=\"-7246546953092699839.args[0]\"]\n\t-7300482696862424175 [label=\"Maybe.map\" id=-6815086034509967428]\n\t-7300482696862424175 -> 6789123831358882944 [id=\"-6815086034509967428.args[0]\"]\n\t6789123831358882944 [label=\"Maybe.just\" id=6789123831358882944]\n\t6789123831358882944 -> 5109073286877630545 [id=\"6789123831358882944.args[0]\"]\n\t5109073286877630545 [label=\"Integer.from_int\" id=5109073286877630545]\n\t5109073286877630545 -> 5838084232112052900 [id=\"5109073286877630545.args[0]\"]\n\t5838084232112052900 [label=5 id=7756835102063988763]\n\t-7300482696862424175 -> -4724417094432334173 [id=\"-6815086034509967428.args[1]\"]\n\t-4724417094432334173 [label=\"Abstraction.from_fn\" id=-4724417094432334173]\n\t-4724417094432334173 -> 219451634672783243 [id=\"-4724417094432334173.args[0]\"]\n\t219451634672783243 [label=\"Either.left\" id=219451634672783243]\n\t-956653014655375141 -> 3751055923777384973 [id=\"-7246546953092699839.args[1]\"]\n\t3751055923777384973 [label=\"Maybe.map\" id=3751055923777384973]\n\t3751055923777384973 -> 2944773798775947601 [id=\"3751055923777384973.args[0]\"]\n\t2944773798775947601 [label=\"Converter.convert\" id=2944773798775947601]\n\t2944773798775947601 -> 5838084232112052900 [id=\"2944773798775947601.args[0]\"]\n\t3751055923777384973 -> -8159938588654798608 [id=\"3751055923777384973.args[1]\"]\n\t-8159938588654798608 [label=\"Abstraction.from_fn\" id=-8159938588654798608]\n\t-8159938588654798608 -> 2861613970724538675 [id=\"-8159938588654798608.args[0]\"]\n\t2861613970724538675 [label=\"Either.right\" id=2861613970724538675]\n\t8931170676128119212 -> -4713478874883071829 [id=\"7902643172531125544.args[1]\"]\n\t-4713478874883071829 [label=\"Abstraction.from_fn\" id=-4713478874883071829]\n\t-4713478874883071829 -> -3384401634576906858 [id=\"-4713478874883071829.args[0]\"]\n\t-3384401634576906858 [label=\"function NDArrayCompat.__getitem__.locals.lambda at 0x10d5941e0\" id=-3384401634576906858]\n}",
         "label": null,
         "rule": "metadsl_core.integer.convert_integer"
        },
        {
         "graph": "digraph {\n\tnode [shape=plain]\n\tedge [arrowsize=0.5 penwidth=0.5]\n\t848120509406073737 [label=\"NDArrayCompat.to_ndarray\" id=1935586180163463095]\n\t848120509406073737 -> -6865320423700650642 [id=\"1935586180163463095.args[0]\"]\n\t-6865320423700650642 [label=\"NDArrayCompat.from_ndarray\" id=-7585266382721542195]\n\t-6865320423700650642 -> -2634790773197510995 [id=\"-7585266382721542195.args[0]\"]\n\t-2634790773197510995 [label=\"Maybe.map\" id=7902643172531125544]\n\t-2634790773197510995 -> 6228889529990603524 [id=\"7902643172531125544.args[0]\"]\n\t6228889529990603524 [label=\"Maybe.__and__\" id=1240870953218063631]\n\t6228889529990603524 -> -845766801800596083 [id=\"1240870953218063631.args[0]\"]\n\t-845766801800596083 [label=\"Converter.convert\" id=-7125658743320791948]\n\t-845766801800596083 -> 800043649288483110 [id=\"-7125658743320791948.args[0]\"]\n\t800043649288483110 [label=\"NDArrayCompat.__add__\" id=-7106233571294015986]\n\t800043649288483110 -> 372699550060722797 [id=\"-7106233571294015986.args[0]\"]\n\t372699550060722797 [label=\"NDArrayCompat.from_ndarray\" id=-3959006833905751656]\n\t372699550060722797 -> -8294341480371381898 [id=\"-3959006833905751656.args[0]\"]\n\t-8294341480371381898 [label=\"Maybe.map\" id=-8294341480371381898]\n\t-8294341480371381898 -> -6758997939504679046 [id=\"-8294341480371381898.args[0]\"]\n\t-6758997939504679046 [label=\"Converter.convert\" id=-6758997939504679046]\n\t-6758997939504679046 -> 5838084232007047975 [id=\"-6758997939504679046.args[0]\"]\n\t5838084232007047975 [label=100 id=6003697446393151645]\n\t-8294341480371381898 -> 1087529264717247478 [id=\"-8294341480371381898.args[1]\"]\n\t1087529264717247478 [label=\"Abstraction.from_fn\" id=1087529264717247478]\n\t1087529264717247478 -> -1792845949521748470 [id=\"1087529264717247478.args[0]\"]\n\t-1792845949521748470 [label=arange_ id=-1792845949521748470]\n\t800043649288483110 -> 372699550060722797 [id=\"-7106233571294015986.args[1]\"]\n\t6228889529990603524 -> -956653014655375141 [id=\"1240870953218063631.args[1]\"]\n\t-956653014655375141 [label=\"Maybe.__or__\" id=-7246546953092699839]\n\t-956653014655375141 -> -7300482696862424175 [id=\"-7246546953092699839.args[0]\"]\n\t-7300482696862424175 [label=\"Maybe.map\" id=-6815086034509967428]\n\t-7300482696862424175 -> 6789123831358882944 [id=\"-6815086034509967428.args[0]\"]\n\t6789123831358882944 [label=\"Maybe.just\" id=6789123831358882944]\n\t6789123831358882944 -> 5109073286877630545 [id=\"6789123831358882944.args[0]\"]\n\t5109073286877630545 [label=\"Integer.from_int\" id=5109073286877630545]\n\t5109073286877630545 -> 5838084232112052900 [id=\"5109073286877630545.args[0]\"]\n\t5838084232112052900 [label=5 id=7756835102063988763]\n\t-7300482696862424175 -> -4724417094432334173 [id=\"-6815086034509967428.args[1]\"]\n\t-4724417094432334173 [label=\"Abstraction.from_fn\" id=-4724417094432334173]\n\t-4724417094432334173 -> 219451634672783243 [id=\"-4724417094432334173.args[0]\"]\n\t219451634672783243 [label=\"Either.left\" id=219451634672783243]\n\t-956653014655375141 -> 3751055923777384973 [id=\"-7246546953092699839.args[1]\"]\n\t3751055923777384973 [label=\"Maybe.map\" id=3751055923777384973]\n\t3751055923777384973 -> 2944773798775947601 [id=\"3751055923777384973.args[0]\"]\n\t2944773798775947601 [label=\"Converter.convert\" id=2944773798775947601]\n\t2944773798775947601 -> 5838084232112052900 [id=\"2944773798775947601.args[0]\"]\n\t3751055923777384973 -> -8159938588654798608 [id=\"3751055923777384973.args[1]\"]\n\t-8159938588654798608 [label=\"Abstraction.from_fn\" id=-8159938588654798608]\n\t-8159938588654798608 -> 2861613970724538675 [id=\"-8159938588654798608.args[0]\"]\n\t2861613970724538675 [label=\"Either.right\" id=2861613970724538675]\n\t-2634790773197510995 -> -4713478874883071829 [id=\"7902643172531125544.args[1]\"]\n\t-4713478874883071829 [label=\"Abstraction.from_fn\" id=-4713478874883071829]\n\t-4713478874883071829 -> -3384401634576906858 [id=\"-4713478874883071829.args[0]\"]\n\t-3384401634576906858 [label=\"function NDArrayCompat.__getitem__.locals.lambda at 0x10d5941e0\" id=-3384401634576906858]\n}",
         "label": null,
         "rule": "metadsl_core.numpy.arange"
        },
        {
         "graph": "digraph {\n\tnode [shape=plain]\n\tedge [arrowsize=0.5 penwidth=0.5]\n\t8180244667050589252 [label=\"NDArrayCompat.to_ndarray\" id=1935586180163463095]\n\t8180244667050589252 -> 414577109831858349 [id=\"1935586180163463095.args[0]\"]\n\t414577109831858349 [label=\"NDArrayCompat.from_ndarray\" id=-7585266382721542195]\n\t414577109831858349 -> -2874358435711377228 [id=\"-7585266382721542195.args[0]\"]\n\t-2874358435711377228 [label=\"Maybe.map\" id=7902643172531125544]\n\t-2874358435711377228 -> -7040477687325076394 [id=\"7902643172531125544.args[0]\"]\n\t-7040477687325076394 [label=\"Maybe.__and__\" id=1240870953218063631]\n\t-7040477687325076394 -> 2723701481682903090 [id=\"1240870953218063631.args[0]\"]\n\t2723701481682903090 [label=\"Converter.convert\" id=-7125658743320791948]\n\t2723701481682903090 -> -2450394698919677778 [id=\"-7125658743320791948.args[0]\"]\n\t-2450394698919677778 [label=\"NDArrayCompat.__add__\" id=-7106233571294015986]\n\t-2450394698919677778 -> -5722367332102644567 [id=\"-7106233571294015986.args[0]\"]\n\t-5722367332102644567 [label=\"NDArrayCompat.from_ndarray\" id=-3959006833905751656]\n\t-5722367332102644567 -> 1102455697285063343 [id=\"-3959006833905751656.args[0]\"]\n\t1102455697285063343 [label=\"Maybe.map\" id=-8294341480371381898]\n\t1102455697285063343 -> -1699773377263255131 [id=\"-8294341480371381898.args[0]\"]\n\t-1699773377263255131 [label=\"Maybe.just\" id=-1699773377263255131]\n\t-1699773377263255131 -> 579615478629357154 [id=\"-1699773377263255131.args[0]\"]\n\t579615478629357154 [label=\"Integer.from_int\" id=579615478629357154]\n\t579615478629357154 -> 5838084232007047975 [id=\"579615478629357154.args[0]\"]\n\t5838084232007047975 [label=100 id=6003697446393151645]\n\t1102455697285063343 -> 1087529264717247478 [id=\"-8294341480371381898.args[1]\"]\n\t1087529264717247478 [label=\"Abstraction.from_fn\" id=1087529264717247478]\n\t1087529264717247478 -> -1792845949521748470 [id=\"1087529264717247478.args[0]\"]\n\t-1792845949521748470 [label=arange_ id=-1792845949521748470]\n\t-2450394698919677778 -> -5722367332102644567 [id=\"-7106233571294015986.args[1]\"]\n\t-7040477687325076394 -> -956653014655375141 [id=\"1240870953218063631.args[1]\"]\n\t-956653014655375141 [label=\"Maybe.__or__\" id=-7246546953092699839]\n\t-956653014655375141 -> -7300482696862424175 [id=\"-7246546953092699839.args[0]\"]\n\t-7300482696862424175 [label=\"Maybe.map\" id=-6815086034509967428]\n\t-7300482696862424175 -> 6789123831358882944 [id=\"-6815086034509967428.args[0]\"]\n\t6789123831358882944 [label=\"Maybe.just\" id=6789123831358882944]\n\t6789123831358882944 -> 5109073286877630545 [id=\"6789123831358882944.args[0]\"]\n\t5109073286877630545 [label=\"Integer.from_int\" id=5109073286877630545]\n\t5109073286877630545 -> 5838084232112052900 [id=\"5109073286877630545.args[0]\"]\n\t5838084232112052900 [label=5 id=7756835102063988763]\n\t-7300482696862424175 -> -4724417094432334173 [id=\"-6815086034509967428.args[1]\"]\n\t-4724417094432334173 [label=\"Abstraction.from_fn\" id=-4724417094432334173]\n\t-4724417094432334173 -> 219451634672783243 [id=\"-4724417094432334173.args[0]\"]\n\t219451634672783243 [label=\"Either.left\" id=219451634672783243]\n\t-956653014655375141 -> 3751055923777384973 [id=\"-7246546953092699839.args[1]\"]\n\t3751055923777384973 [label=\"Maybe.map\" id=3751055923777384973]\n\t3751055923777384973 -> 2944773798775947601 [id=\"3751055923777384973.args[0]\"]\n\t2944773798775947601 [label=\"Converter.convert\" id=2944773798775947601]\n\t2944773798775947601 -> 5838084232112052900 [id=\"2944773798775947601.args[0]\"]\n\t3751055923777384973 -> -8159938588654798608 [id=\"3751055923777384973.args[1]\"]\n\t-8159938588654798608 [label=\"Abstraction.from_fn\" id=-8159938588654798608]\n\t-8159938588654798608 -> 2861613970724538675 [id=\"-8159938588654798608.args[0]\"]\n\t2861613970724538675 [label=\"Either.right\" id=2861613970724538675]\n\t-2874358435711377228 -> -4713478874883071829 [id=\"7902643172531125544.args[1]\"]\n\t-4713478874883071829 [label=\"Abstraction.from_fn\" id=-4713478874883071829]\n\t-4713478874883071829 -> -3384401634576906858 [id=\"-4713478874883071829.args[0]\"]\n\t-3384401634576906858 [label=\"function NDArrayCompat.__getitem__.locals.lambda at 0x10d5941e0\" id=-3384401634576906858]\n}",
         "label": null,
         "rule": "metadsl_core.integer.convert_integer"
        },
        {
         "graph": "digraph {\n\tnode [shape=plain]\n\tedge [arrowsize=0.5 penwidth=0.5]\n\t-2896401226179532675 [label=\"NDArrayCompat.to_ndarray\" id=1935586180163463095]\n\t-2896401226179532675 -> 9068465748629872981 [id=\"1935586180163463095.args[0]\"]\n\t9068465748629872981 [label=\"NDArrayCompat.from_ndarray\" id=-7585266382721542195]\n\t9068465748629872981 -> -2272436261253121429 [id=\"-7585266382721542195.args[0]\"]\n\t-2272436261253121429 [label=\"Maybe.map\" id=7902643172531125544]\n\t-2272436261253121429 -> -7040477687325076394 [id=\"7902643172531125544.args[0]\"]\n\t-7040477687325076394 [label=\"Maybe.__and__\" id=1240870953218063631]\n\t-7040477687325076394 -> 2723701481682903090 [id=\"1240870953218063631.args[0]\"]\n\t2723701481682903090 [label=\"Converter.convert\" id=-7125658743320791948]\n\t2723701481682903090 -> -2450394698919677778 [id=\"-7125658743320791948.args[0]\"]\n\t-2450394698919677778 [label=\"NDArrayCompat.__add__\" id=-7106233571294015986]\n\t-2450394698919677778 -> -5722367332102644567 [id=\"-7106233571294015986.args[0]\"]\n\t-5722367332102644567 [label=\"NDArrayCompat.from_ndarray\" id=-3959006833905751656]\n\t-5722367332102644567 -> 1102455697285063343 [id=\"-3959006833905751656.args[0]\"]\n\t1102455697285063343 [label=\"Maybe.map\" id=-8294341480371381898]\n\t1102455697285063343 -> -1699773377263255131 [id=\"-8294341480371381898.args[0]\"]\n\t-1699773377263255131 [label=\"Maybe.just\" id=-1699773377263255131]\n\t-1699773377263255131 -> 579615478629357154 [id=\"-1699773377263255131.args[0]\"]\n\t579615478629357154 [label=\"Integer.from_int\" id=579615478629357154]\n\t579615478629357154 -> 5838084232007047975 [id=\"579615478629357154.args[0]\"]\n\t5838084232007047975 [label=100 id=6003697446393151645]\n\t1102455697285063343 -> 1087529264717247478 [id=\"-8294341480371381898.args[1]\"]\n\t1087529264717247478 [label=\"Abstraction.from_fn\" id=1087529264717247478]\n\t1087529264717247478 -> -1792845949521748470 [id=\"1087529264717247478.args[0]\"]\n\t-1792845949521748470 [label=arange_ id=-1792845949521748470]\n\t-2450394698919677778 -> -5722367332102644567 [id=\"-7106233571294015986.args[1]\"]\n\t-7040477687325076394 -> -956653014655375141 [id=\"1240870953218063631.args[1]\"]\n\t-956653014655375141 [label=\"Maybe.__or__\" id=-7246546953092699839]\n\t-956653014655375141 -> -7300482696862424175 [id=\"-7246546953092699839.args[0]\"]\n\t-7300482696862424175 [label=\"Maybe.map\" id=-6815086034509967428]\n\t-7300482696862424175 -> 6789123831358882944 [id=\"-6815086034509967428.args[0]\"]\n\t6789123831358882944 [label=\"Maybe.just\" id=6789123831358882944]\n\t6789123831358882944 -> 5109073286877630545 [id=\"6789123831358882944.args[0]\"]\n\t5109073286877630545 [label=\"Integer.from_int\" id=5109073286877630545]\n\t5109073286877630545 -> 5838084232112052900 [id=\"5109073286877630545.args[0]\"]\n\t5838084232112052900 [label=5 id=7756835102063988763]\n\t-7300482696862424175 -> -4724417094432334173 [id=\"-6815086034509967428.args[1]\"]\n\t-4724417094432334173 [label=\"Abstraction.from_fn\" id=-4724417094432334173]\n\t-4724417094432334173 -> 219451634672783243 [id=\"-4724417094432334173.args[0]\"]\n\t219451634672783243 [label=\"Either.left\" id=219451634672783243]\n\t-956653014655375141 -> 3751055923777384973 [id=\"-7246546953092699839.args[1]\"]\n\t3751055923777384973 [label=\"Maybe.map\" id=3751055923777384973]\n\t3751055923777384973 -> 2944773798775947601 [id=\"3751055923777384973.args[0]\"]\n\t2944773798775947601 [label=\"Converter.convert\" id=2944773798775947601]\n\t2944773798775947601 -> 5838084232112052900 [id=\"2944773798775947601.args[0]\"]\n\t3751055923777384973 -> -8159938588654798608 [id=\"3751055923777384973.args[1]\"]\n\t-8159938588654798608 [label=\"Abstraction.from_fn\" id=-8159938588654798608]\n\t-8159938588654798608 -> 2861613970724538675 [id=\"-8159938588654798608.args[0]\"]\n\t2861613970724538675 [label=\"Either.right\" id=2861613970724538675]\n\t-2272436261253121429 -> 518509411827867796 [id=\"7902643172531125544.args[1]\"]\n\t518509411827867796 [label=\"Abstraction.create\" id=518509411827867796]\n\t518509411827867796 -> 468231498779743578 [id=\"518509411827867796.args[0]\"]\n\t468231498779743578 [label=\"Abstraction.create_variable\" id=468231498779743578]\n\t468231498779743578 -> -4410156857131548578 [id=\"468231498779743578.args[0]\"]\n\t-4410156857131548578 [label=\"Variable(4700226504)\" id=-4410156857131548578]\n\t518509411827867796 -> 5200602674581088372 [id=\"518509411827867796.args[1]\"]\n\t5200602674581088372 [label=\"NDArray.__getitem__\" id=5200602674581088372]\n\t5200602674581088372 -> -6414794420438946634 [id=\"5200602674581088372.args[0]\"]\n\t-6414794420438946634 [label=\"Pair.left\" id=-6414794420438946634]\n\t-6414794420438946634 -> 468231498779743578 [id=\"-6414794420438946634.args[0]\"]\n\t5200602674581088372 -> -1042568174412886162 [id=\"5200602674581088372.args[1]\"]\n\t-1042568174412886162 [label=\"Pair.right\" id=-1042568174412886162]\n\t-1042568174412886162 -> 468231498779743578 [id=\"-1042568174412886162.args[0]\"]\n}",
         "label": null,
         "rule": "metadsl_core.abstraction.Abstraction.from_fn"
        },
        {
         "graph": "digraph {\n\tnode [shape=plain]\n\tedge [arrowsize=0.5 penwidth=0.5]\n\t2760550538656796282 [label=\"NDArrayCompat.to_ndarray\" id=1935586180163463095]\n\t2760550538656796282 -> -8263808282725900554 [id=\"1935586180163463095.args[0]\"]\n\t-8263808282725900554 [label=\"NDArrayCompat.from_ndarray\" id=-7585266382721542195]\n\t-8263808282725900554 -> -2848137525854052411 [id=\"-7585266382721542195.args[0]\"]\n\t-2848137525854052411 [label=\"Maybe.map\" id=7902643172531125544]\n\t-2848137525854052411 -> 8888322373751518602 [id=\"7902643172531125544.args[0]\"]\n\t8888322373751518602 [label=\"Maybe.__and__\" id=1240870953218063631]\n\t8888322373751518602 -> 2723701481682903090 [id=\"1240870953218063631.args[0]\"]\n\t2723701481682903090 [label=\"Converter.convert\" id=-7125658743320791948]\n\t2723701481682903090 -> -2450394698919677778 [id=\"-7125658743320791948.args[0]\"]\n\t-2450394698919677778 [label=\"NDArrayCompat.__add__\" id=-7106233571294015986]\n\t-2450394698919677778 -> -5722367332102644567 [id=\"-7106233571294015986.args[0]\"]\n\t-5722367332102644567 [label=\"NDArrayCompat.from_ndarray\" id=-3959006833905751656]\n\t-5722367332102644567 -> 1102455697285063343 [id=\"-3959006833905751656.args[0]\"]\n\t1102455697285063343 [label=\"Maybe.map\" id=-8294341480371381898]\n\t1102455697285063343 -> -1699773377263255131 [id=\"-8294341480371381898.args[0]\"]\n\t-1699773377263255131 [label=\"Maybe.just\" id=-1699773377263255131]\n\t-1699773377263255131 -> 579615478629357154 [id=\"-1699773377263255131.args[0]\"]\n\t579615478629357154 [label=\"Integer.from_int\" id=579615478629357154]\n\t579615478629357154 -> 5838084232007047975 [id=\"579615478629357154.args[0]\"]\n\t5838084232007047975 [label=100 id=6003697446393151645]\n\t1102455697285063343 -> 1087529264717247478 [id=\"-8294341480371381898.args[1]\"]\n\t1087529264717247478 [label=\"Abstraction.from_fn\" id=1087529264717247478]\n\t1087529264717247478 -> -1792845949521748470 [id=\"1087529264717247478.args[0]\"]\n\t-1792845949521748470 [label=arange_ id=-1792845949521748470]\n\t-2450394698919677778 -> -5722367332102644567 [id=\"-7106233571294015986.args[1]\"]\n\t8888322373751518602 -> 46049717499487223 [id=\"1240870953218063631.args[1]\"]\n\t46049717499487223 [label=\"Maybe.__or__\" id=-7246546953092699839]\n\t46049717499487223 -> -7300482696862424175 [id=\"-7246546953092699839.args[0]\"]\n\t-7300482696862424175 [label=\"Maybe.map\" id=-6815086034509967428]\n\t-7300482696862424175 -> 6789123831358882944 [id=\"-6815086034509967428.args[0]\"]\n\t6789123831358882944 [label=\"Maybe.just\" id=6789123831358882944]\n\t6789123831358882944 -> 5109073286877630545 [id=\"6789123831358882944.args[0]\"]\n\t5109073286877630545 [label=\"Integer.from_int\" id=5109073286877630545]\n\t5109073286877630545 -> 5838084232112052900 [id=\"5109073286877630545.args[0]\"]\n\t5838084232112052900 [label=5 id=7756835102063988763]\n\t-7300482696862424175 -> -4724417094432334173 [id=\"-6815086034509967428.args[1]\"]\n\t-4724417094432334173 [label=\"Abstraction.from_fn\" id=-4724417094432334173]\n\t-4724417094432334173 -> 219451634672783243 [id=\"-4724417094432334173.args[0]\"]\n\t219451634672783243 [label=\"Either.left\" id=219451634672783243]\n\t46049717499487223 -> 1291442120334238282 [id=\"-7246546953092699839.args[1]\"]\n\t1291442120334238282 [label=\"Maybe.map\" id=1291442120334238282]\n\t1291442120334238282 -> 2944773798775947601 [id=\"1291442120334238282.args[0]\"]\n\t2944773798775947601 [label=\"Converter.convert\" id=2944773798775947601]\n\t2944773798775947601 -> 5838084232112052900 [id=\"2944773798775947601.args[0]\"]\n\t1291442120334238282 -> -2631096410235245811 [id=\"1291442120334238282.args[1]\"]\n\t-2631096410235245811 [label=\"Abstraction.create\" id=-2631096410235245811]\n\t-2631096410235245811 -> 4755030733478054666 [id=\"-2631096410235245811.args[0]\"]\n\t4755030733478054666 [label=\"Abstraction.create_variable\" id=4755030733478054666]\n\t4755030733478054666 -> -4410156857239801078 [id=\"4755030733478054666.args[0]\"]\n\t-4410156857239801078 [label=\"Variable(4700226952)\" id=-4410156857239801078]\n\t-2631096410235245811 -> 6506087961180873209 [id=\"-2631096410235245811.args[1]\"]\n\t6506087961180873209 [label=\"Either.right\" id=6506087961180873209]\n\t6506087961180873209 -> 4755030733478054666 [id=\"6506087961180873209.args[0]\"]\n\t-2848137525854052411 -> 518509411827867796 [id=\"7902643172531125544.args[1]\"]\n\t518509411827867796 [label=\"Abstraction.create\" id=518509411827867796]\n\t518509411827867796 -> 468231498779743578 [id=\"518509411827867796.args[0]\"]\n\t468231498779743578 [label=\"Abstraction.create_variable\" id=468231498779743578]\n\t468231498779743578 -> -4410156857131548578 [id=\"468231498779743578.args[0]\"]\n\t-4410156857131548578 [label=\"Variable(4700226504)\" id=-4410156857131548578]\n\t518509411827867796 -> 5200602674581088372 [id=\"518509411827867796.args[1]\"]\n\t5200602674581088372 [label=\"NDArray.__getitem__\" id=5200602674581088372]\n\t5200602674581088372 -> -6414794420438946634 [id=\"5200602674581088372.args[0]\"]\n\t-6414794420438946634 [label=\"Pair.left\" id=-6414794420438946634]\n\t-6414794420438946634 -> 468231498779743578 [id=\"-6414794420438946634.args[0]\"]\n\t5200602674581088372 -> -1042568174412886162 [id=\"5200602674581088372.args[1]\"]\n\t-1042568174412886162 [label=\"Pair.right\" id=-1042568174412886162]\n\t-1042568174412886162 -> 468231498779743578 [id=\"-1042568174412886162.args[0]\"]\n}",
         "label": null,
         "rule": "metadsl_core.abstraction.Abstraction.from_fn"
        },
        {
         "graph": "digraph {\n\tnode [shape=plain]\n\tedge [arrowsize=0.5 penwidth=0.5]\n\t-8534948527576490255 [label=\"NDArrayCompat.to_ndarray\" id=1935586180163463095]\n\t-8534948527576490255 -> 1304979771412253060 [id=\"1935586180163463095.args[0]\"]\n\t1304979771412253060 [label=\"NDArrayCompat.from_ndarray\" id=-7585266382721542195]\n\t1304979771412253060 -> 845913313291518814 [id=\"-7585266382721542195.args[0]\"]\n\t845913313291518814 [label=\"Maybe.map\" id=7902643172531125544]\n\t845913313291518814 -> -6988357606592122895 [id=\"7902643172531125544.args[0]\"]\n\t-6988357606592122895 [label=\"Maybe.__and__\" id=1240870953218063631]\n\t-6988357606592122895 -> 2723701481682903090 [id=\"1240870953218063631.args[0]\"]\n\t2723701481682903090 [label=\"Converter.convert\" id=-7125658743320791948]\n\t2723701481682903090 -> -2450394698919677778 [id=\"-7125658743320791948.args[0]\"]\n\t-2450394698919677778 [label=\"NDArrayCompat.__add__\" id=-7106233571294015986]\n\t-2450394698919677778 -> -5722367332102644567 [id=\"-7106233571294015986.args[0]\"]\n\t-5722367332102644567 [label=\"NDArrayCompat.from_ndarray\" id=-3959006833905751656]\n\t-5722367332102644567 -> 1102455697285063343 [id=\"-3959006833905751656.args[0]\"]\n\t1102455697285063343 [label=\"Maybe.map\" id=-8294341480371381898]\n\t1102455697285063343 -> -1699773377263255131 [id=\"-8294341480371381898.args[0]\"]\n\t-1699773377263255131 [label=\"Maybe.just\" id=-1699773377263255131]\n\t-1699773377263255131 -> 579615478629357154 [id=\"-1699773377263255131.args[0]\"]\n\t579615478629357154 [label=\"Integer.from_int\" id=579615478629357154]\n\t579615478629357154 -> 5838084232007047975 [id=\"579615478629357154.args[0]\"]\n\t5838084232007047975 [label=100 id=6003697446393151645]\n\t1102455697285063343 -> 1087529264717247478 [id=\"-8294341480371381898.args[1]\"]\n\t1087529264717247478 [label=\"Abstraction.from_fn\" id=1087529264717247478]\n\t1087529264717247478 -> -1792845949521748470 [id=\"1087529264717247478.args[0]\"]\n\t-1792845949521748470 [label=arange_ id=-1792845949521748470]\n\t-2450394698919677778 -> -5722367332102644567 [id=\"-7106233571294015986.args[1]\"]\n\t-6988357606592122895 -> -601798127143681366 [id=\"1240870953218063631.args[1]\"]\n\t-601798127143681366 [label=\"Maybe.__or__\" id=-601798127143681366]\n\t-601798127143681366 -> -8515717911257762846 [id=\"-601798127143681366.args[0]\"]\n\t-8515717911257762846 [label=\"Maybe.map\" id=-8515717911257762846]\n\t-8515717911257762846 -> 6789123831358882944 [id=\"-8515717911257762846.args[0]\"]\n\t6789123831358882944 [label=\"Maybe.just\" id=6789123831358882944]\n\t6789123831358882944 -> 5109073286877630545 [id=\"6789123831358882944.args[0]\"]\n\t5109073286877630545 [label=\"Integer.from_int\" id=5109073286877630545]\n\t5109073286877630545 -> 5838084232112052900 [id=\"5109073286877630545.args[0]\"]\n\t5838084232112052900 [label=5 id=7756835102063988763]\n\t-8515717911257762846 -> -4747599550161408370 [id=\"-8515717911257762846.args[1]\"]\n\t-4747599550161408370 [label=\"Abstraction.create\" id=-4747599550161408370]\n\t-4747599550161408370 -> -4625004114204702497 [id=\"-4747599550161408370.args[0]\"]\n\t-4625004114204702497 [label=\"Abstraction.create_variable\" id=-4625004114204702497]\n\t-4625004114204702497 -> 4813215193752751230 [id=\"-4625004114204702497.args[0]\"]\n\t4813215193752751230 [label=\"Variable(4700247488)\" id=4813215193752751230]\n\t-4747599550161408370 -> 3308170723651583708 [id=\"-4747599550161408370.args[1]\"]\n\t3308170723651583708 [label=\"Either.left\" id=3308170723651583708]\n\t3308170723651583708 -> -4625004114204702497 [id=\"3308170723651583708.args[0]\"]\n\t-601798127143681366 -> 1291442120334238282 [id=\"-601798127143681366.args[1]\"]\n\t1291442120334238282 [label=\"Maybe.map\" id=1291442120334238282]\n\t1291442120334238282 -> 2944773798775947601 [id=\"1291442120334238282.args[0]\"]\n\t2944773798775947601 [label=\"Converter.convert\" id=2944773798775947601]\n\t2944773798775947601 -> 5838084232112052900 [id=\"2944773798775947601.args[0]\"]\n\t1291442120334238282 -> -2631096410235245811 [id=\"1291442120334238282.args[1]\"]\n\t-2631096410235245811 [label=\"Abstraction.create\" id=-2631096410235245811]\n\t-2631096410235245811 -> 4755030733478054666 [id=\"-2631096410235245811.args[0]\"]\n\t4755030733478054666 [label=\"Abstraction.create_variable\" id=4755030733478054666]\n\t4755030733478054666 -> -4410156857239801078 [id=\"4755030733478054666.args[0]\"]\n\t-4410156857239801078 [label=\"Variable(4700226952)\" id=-4410156857239801078]\n\t-2631096410235245811 -> 6506087961180873209 [id=\"-2631096410235245811.args[1]\"]\n\t6506087961180873209 [label=\"Either.right\" id=6506087961180873209]\n\t6506087961180873209 -> 4755030733478054666 [id=\"6506087961180873209.args[0]\"]\n\t845913313291518814 -> 518509411827867796 [id=\"7902643172531125544.args[1]\"]\n\t518509411827867796 [label=\"Abstraction.create\" id=518509411827867796]\n\t518509411827867796 -> 468231498779743578 [id=\"518509411827867796.args[0]\"]\n\t468231498779743578 [label=\"Abstraction.create_variable\" id=468231498779743578]\n\t468231498779743578 -> -4410156857131548578 [id=\"468231498779743578.args[0]\"]\n\t-4410156857131548578 [label=\"Variable(4700226504)\" id=-4410156857131548578]\n\t518509411827867796 -> 5200602674581088372 [id=\"518509411827867796.args[1]\"]\n\t5200602674581088372 [label=\"NDArray.__getitem__\" id=5200602674581088372]\n\t5200602674581088372 -> -6414794420438946634 [id=\"5200602674581088372.args[0]\"]\n\t-6414794420438946634 [label=\"Pair.left\" id=-6414794420438946634]\n\t-6414794420438946634 -> 468231498779743578 [id=\"-6414794420438946634.args[0]\"]\n\t5200602674581088372 -> -1042568174412886162 [id=\"5200602674581088372.args[1]\"]\n\t-1042568174412886162 [label=\"Pair.right\" id=-1042568174412886162]\n\t-1042568174412886162 -> 468231498779743578 [id=\"-1042568174412886162.args[0]\"]\n}",
         "label": null,
         "rule": "metadsl_core.abstraction.Abstraction.from_fn"
        },
        {
         "graph": "digraph {\n\tnode [shape=plain]\n\tedge [arrowsize=0.5 penwidth=0.5]\n\t-2526782594461052991 [label=\"NDArrayCompat.to_ndarray\" id=1935586180163463095]\n\t-2526782594461052991 -> 9199464404600372497 [id=\"1935586180163463095.args[0]\"]\n\t9199464404600372497 [label=\"NDArrayCompat.from_ndarray\" id=-7585266382721542195]\n\t9199464404600372497 -> 4760851721818910565 [id=\"-7585266382721542195.args[0]\"]\n\t4760851721818910565 [label=\"Maybe.map\" id=7902643172531125544]\n\t4760851721818910565 -> 3770459566127010284 [id=\"7902643172531125544.args[0]\"]\n\t3770459566127010284 [label=\"Maybe.__and__\" id=3770459566127010284]\n\t3770459566127010284 -> -693852287426370102 [id=\"3770459566127010284.args[0]\"]\n\t-693852287426370102 [label=\"Converter.convert\" id=-693852287426370102]\n\t-693852287426370102 -> 2479618931988953124 [id=\"-693852287426370102.args[0]\"]\n\t2479618931988953124 [label=\"NDArrayCompat.__add__\" id=2479618931988953124]\n\t2479618931988953124 -> -1050884032506130782 [id=\"2479618931988953124.args[0]\"]\n\t-1050884032506130782 [label=\"NDArrayCompat.from_ndarray\" id=-1050884032506130782]\n\t-1050884032506130782 -> -710006793518321344 [id=\"-1050884032506130782.args[0]\"]\n\t-710006793518321344 [label=\"Maybe.map\" id=-710006793518321344]\n\t-710006793518321344 -> -1699773377263255131 [id=\"-710006793518321344.args[0]\"]\n\t-1699773377263255131 [label=\"Maybe.just\" id=-1699773377263255131]\n\t-1699773377263255131 -> 579615478629357154 [id=\"-1699773377263255131.args[0]\"]\n\t579615478629357154 [label=\"Integer.from_int\" id=579615478629357154]\n\t579615478629357154 -> 5838084232007047975 [id=\"579615478629357154.args[0]\"]\n\t5838084232007047975 [label=100 id=6003697446393151645]\n\t-710006793518321344 -> 3422393941435572874 [id=\"-710006793518321344.args[1]\"]\n\t3422393941435572874 [label=\"Abstraction.create\" id=3422393941435572874]\n\t3422393941435572874 -> 3481659688989734831 [id=\"3422393941435572874.args[0]\"]\n\t3481659688989734831 [label=\"Abstraction.create_variable\" id=3481659688989734831]\n\t3481659688989734831 -> 4813215188361776730 [id=\"3481659688989734831.args[0]\"]\n\t4813215188361776730 [label=\"Variable(4700360320)\" id=4813215188361776730]\n\t3422393941435572874 -> 5862299951965675192 [id=\"3422393941435572874.args[1]\"]\n\t5862299951965675192 [label=arange_ id=5862299951965675192]\n\t5862299951965675192 -> 3481659688989734831 [id=\"5862299951965675192.args[0]\"]\n\t2479618931988953124 -> -1050884032506130782 [id=\"2479618931988953124.args[1]\"]\n\t3770459566127010284 -> -601798127143681366 [id=\"3770459566127010284.args[1]\"]\n\t-601798127143681366 [label=\"Maybe.__or__\" id=-601798127143681366]\n\t-601798127143681366 -> -8515717911257762846 [id=\"-601798127143681366.args[0]\"]\n\t-8515717911257762846 [label=\"Maybe.map\" id=-8515717911257762846]\n\t-8515717911257762846 -> 6789123831358882944 [id=\"-8515717911257762846.args[0]\"]\n\t6789123831358882944 [label=\"Maybe.just\" id=6789123831358882944]\n\t6789123831358882944 -> 5109073286877630545 [id=\"6789123831358882944.args[0]\"]\n\t5109073286877630545 [label=\"Integer.from_int\" id=5109073286877630545]\n\t5109073286877630545 -> 5838084232112052900 [id=\"5109073286877630545.args[0]\"]\n\t5838084232112052900 [label=5 id=7756835102063988763]\n\t-8515717911257762846 -> -4747599550161408370 [id=\"-8515717911257762846.args[1]\"]\n\t-4747599550161408370 [label=\"Abstraction.create\" id=-4747599550161408370]\n\t-4747599550161408370 -> -4625004114204702497 [id=\"-4747599550161408370.args[0]\"]\n\t-4625004114204702497 [label=\"Abstraction.create_variable\" id=-4625004114204702497]\n\t-4625004114204702497 -> 4813215193752751230 [id=\"-4625004114204702497.args[0]\"]\n\t4813215193752751230 [label=\"Variable(4700247488)\" id=4813215193752751230]\n\t-4747599550161408370 -> 3308170723651583708 [id=\"-4747599550161408370.args[1]\"]\n\t3308170723651583708 [label=\"Either.left\" id=3308170723651583708]\n\t3308170723651583708 -> -4625004114204702497 [id=\"3308170723651583708.args[0]\"]\n\t-601798127143681366 -> 1291442120334238282 [id=\"-601798127143681366.args[1]\"]\n\t1291442120334238282 [label=\"Maybe.map\" id=1291442120334238282]\n\t1291442120334238282 -> 2944773798775947601 [id=\"1291442120334238282.args[0]\"]\n\t2944773798775947601 [label=\"Converter.convert\" id=2944773798775947601]\n\t2944773798775947601 -> 5838084232112052900 [id=\"2944773798775947601.args[0]\"]\n\t1291442120334238282 -> -2631096410235245811 [id=\"1291442120334238282.args[1]\"]\n\t-2631096410235245811 [label=\"Abstraction.create\" id=-2631096410235245811]\n\t-2631096410235245811 -> 4755030733478054666 [id=\"-2631096410235245811.args[0]\"]\n\t4755030733478054666 [label=\"Abstraction.create_variable\" id=4755030733478054666]\n\t4755030733478054666 -> -4410156857239801078 [id=\"4755030733478054666.args[0]\"]\n\t-4410156857239801078 [label=\"Variable(4700226952)\" id=-4410156857239801078]\n\t-2631096410235245811 -> 6506087961180873209 [id=\"-2631096410235245811.args[1]\"]\n\t6506087961180873209 [label=\"Either.right\" id=6506087961180873209]\n\t6506087961180873209 -> 4755030733478054666 [id=\"6506087961180873209.args[0]\"]\n\t4760851721818910565 -> 518509411827867796 [id=\"7902643172531125544.args[1]\"]\n\t518509411827867796 [label=\"Abstraction.create\" id=518509411827867796]\n\t518509411827867796 -> 468231498779743578 [id=\"518509411827867796.args[0]\"]\n\t468231498779743578 [label=\"Abstraction.create_variable\" id=468231498779743578]\n\t468231498779743578 -> -4410156857131548578 [id=\"468231498779743578.args[0]\"]\n\t-4410156857131548578 [label=\"Variable(4700226504)\" id=-4410156857131548578]\n\t518509411827867796 -> 5200602674581088372 [id=\"518509411827867796.args[1]\"]\n\t5200602674581088372 [label=\"NDArray.__getitem__\" id=5200602674581088372]\n\t5200602674581088372 -> -6414794420438946634 [id=\"5200602674581088372.args[0]\"]\n\t-6414794420438946634 [label=\"Pair.left\" id=-6414794420438946634]\n\t-6414794420438946634 -> 468231498779743578 [id=\"-6414794420438946634.args[0]\"]\n\t5200602674581088372 -> -1042568174412886162 [id=\"5200602674581088372.args[1]\"]\n\t-1042568174412886162 [label=\"Pair.right\" id=-1042568174412886162]\n\t-1042568174412886162 -> 468231498779743578 [id=\"-1042568174412886162.args[0]\"]\n}",
         "label": null,
         "rule": "metadsl_core.abstraction.Abstraction.from_fn"
        },
        {
         "graph": "digraph {\n\tnode [shape=plain]\n\tedge [arrowsize=0.5 penwidth=0.5]\n\t1619459771250843198 [label=\"NDArrayCompat.to_ndarray\" id=1935586180163463095]\n\t1619459771250843198 -> 347029145892829407 [id=\"1935586180163463095.args[0]\"]\n\t347029145892829407 [label=\"NDArrayCompat.from_ndarray\" id=-7585266382721542195]\n\t347029145892829407 -> -2337687962700966694 [id=\"-7585266382721542195.args[0]\"]\n\t-2337687962700966694 [label=\"Maybe.match\" id=7902643172531125544]\n\t-2337687962700966694 -> 3770459566127010284 [id=\"7902643172531125544.args[0]\"]\n\t3770459566127010284 [label=\"Maybe.__and__\" id=3770459566127010284]\n\t3770459566127010284 -> -693852287426370102 [id=\"3770459566127010284.args[0]\"]\n\t-693852287426370102 [label=\"Converter.convert\" id=-693852287426370102]\n\t-693852287426370102 -> 2479618931988953124 [id=\"-693852287426370102.args[0]\"]\n\t2479618931988953124 [label=\"NDArrayCompat.__add__\" id=2479618931988953124]\n\t2479618931988953124 -> -1050884032506130782 [id=\"2479618931988953124.args[0]\"]\n\t-1050884032506130782 [label=\"NDArrayCompat.from_ndarray\" id=-1050884032506130782]\n\t-1050884032506130782 -> -710006793518321344 [id=\"-1050884032506130782.args[0]\"]\n\t-710006793518321344 [label=\"Maybe.map\" id=-710006793518321344]\n\t-710006793518321344 -> -1699773377263255131 [id=\"-710006793518321344.args[0]\"]\n\t-1699773377263255131 [label=\"Maybe.just\" id=-1699773377263255131]\n\t-1699773377263255131 -> 579615478629357154 [id=\"-1699773377263255131.args[0]\"]\n\t579615478629357154 [label=\"Integer.from_int\" id=579615478629357154]\n\t579615478629357154 -> 5838084232007047975 [id=\"579615478629357154.args[0]\"]\n\t5838084232007047975 [label=100 id=6003697446393151645]\n\t-710006793518321344 -> 3422393941435572874 [id=\"-710006793518321344.args[1]\"]\n\t3422393941435572874 [label=\"Abstraction.create\" id=3422393941435572874]\n\t3422393941435572874 -> 3481659688989734831 [id=\"3422393941435572874.args[0]\"]\n\t3481659688989734831 [label=\"Abstraction.create_variable\" id=3481659688989734831]\n\t3481659688989734831 -> 4813215188361776730 [id=\"3481659688989734831.args[0]\"]\n\t4813215188361776730 [label=\"Variable(4700360320)\" id=4813215188361776730]\n\t3422393941435572874 -> 5862299951965675192 [id=\"3422393941435572874.args[1]\"]\n\t5862299951965675192 [label=arange_ id=5862299951965675192]\n\t5862299951965675192 -> 3481659688989734831 [id=\"5862299951965675192.args[0]\"]\n\t2479618931988953124 -> -1050884032506130782 [id=\"2479618931988953124.args[1]\"]\n\t3770459566127010284 -> -601798127143681366 [id=\"3770459566127010284.args[1]\"]\n\t-601798127143681366 [label=\"Maybe.__or__\" id=-601798127143681366]\n\t-601798127143681366 -> -8515717911257762846 [id=\"-601798127143681366.args[0]\"]\n\t-8515717911257762846 [label=\"Maybe.map\" id=-8515717911257762846]\n\t-8515717911257762846 -> 6789123831358882944 [id=\"-8515717911257762846.args[0]\"]\n\t6789123831358882944 [label=\"Maybe.just\" id=6789123831358882944]\n\t6789123831358882944 -> 5109073286877630545 [id=\"6789123831358882944.args[0]\"]\n\t5109073286877630545 [label=\"Integer.from_int\" id=5109073286877630545]\n\t5109073286877630545 -> 5838084232112052900 [id=\"5109073286877630545.args[0]\"]\n\t5838084232112052900 [label=5 id=7756835102063988763]\n\t-8515717911257762846 -> -4747599550161408370 [id=\"-8515717911257762846.args[1]\"]\n\t-4747599550161408370 [label=\"Abstraction.create\" id=-4747599550161408370]\n\t-4747599550161408370 -> -4625004114204702497 [id=\"-4747599550161408370.args[0]\"]\n\t-4625004114204702497 [label=\"Abstraction.create_variable\" id=-4625004114204702497]\n\t-4625004114204702497 -> 4813215193752751230 [id=\"-4625004114204702497.args[0]\"]\n\t4813215193752751230 [label=\"Variable(4700247488)\" id=4813215193752751230]\n\t-4747599550161408370 -> 3308170723651583708 [id=\"-4747599550161408370.args[1]\"]\n\t3308170723651583708 [label=\"Either.left\" id=3308170723651583708]\n\t3308170723651583708 -> -4625004114204702497 [id=\"3308170723651583708.args[0]\"]\n\t-601798127143681366 -> 1291442120334238282 [id=\"-601798127143681366.args[1]\"]\n\t1291442120334238282 [label=\"Maybe.map\" id=1291442120334238282]\n\t1291442120334238282 -> 2944773798775947601 [id=\"1291442120334238282.args[0]\"]\n\t2944773798775947601 [label=\"Converter.convert\" id=2944773798775947601]\n\t2944773798775947601 -> 5838084232112052900 [id=\"2944773798775947601.args[0]\"]\n\t1291442120334238282 -> -2631096410235245811 [id=\"1291442120334238282.args[1]\"]\n\t-2631096410235245811 [label=\"Abstraction.create\" id=-2631096410235245811]\n\t-2631096410235245811 -> 4755030733478054666 [id=\"-2631096410235245811.args[0]\"]\n\t4755030733478054666 [label=\"Abstraction.create_variable\" id=4755030733478054666]\n\t4755030733478054666 -> -4410156857239801078 [id=\"4755030733478054666.args[0]\"]\n\t-4410156857239801078 [label=\"Variable(4700226952)\" id=-4410156857239801078]\n\t-2631096410235245811 -> 6506087961180873209 [id=\"-2631096410235245811.args[1]\"]\n\t6506087961180873209 [label=\"Either.right\" id=6506087961180873209]\n\t6506087961180873209 -> 4755030733478054666 [id=\"6506087961180873209.args[0]\"]\n\t-2337687962700966694 -> -4664464520583065041 [id=\"7902643172531125544.args[1]\"]\n\t-4664464520583065041 [label=\"Maybe.nothing\" id=-4664464520583065041]\n\t-2337687962700966694 -> 1487874569637105037 [id=\"7902643172531125544.args[2]\"]\n\t1487874569637105037 [label=\"Abstraction.__add__\" id=1487874569637105037]\n\t1487874569637105037 -> -1095585159230285059 [id=\"1487874569637105037.args[0]\"]\n\t-1095585159230285059 [label=\"Abstraction.from_fn\" id=-1095585159230285059]\n\t-1095585159230285059 -> 5018280261059491459 [id=\"-1095585159230285059.args[0]\"]\n\t5018280261059491459 [label=\"Maybe.just\" id=5018280261059491459]\n\t1487874569637105037 -> 518509411827867796 [id=\"1487874569637105037.args[1]\"]\n\t518509411827867796 [label=\"Abstraction.create\" id=518509411827867796]\n\t518509411827867796 -> 468231498779743578 [id=\"518509411827867796.args[0]\"]\n\t468231498779743578 [label=\"Abstraction.create_variable\" id=468231498779743578]\n\t468231498779743578 -> -4410156857131548578 [id=\"468231498779743578.args[0]\"]\n\t-4410156857131548578 [label=\"Variable(4700226504)\" id=-4410156857131548578]\n\t518509411827867796 -> 5200602674581088372 [id=\"518509411827867796.args[1]\"]\n\t5200602674581088372 [label=\"NDArray.__getitem__\" id=5200602674581088372]\n\t5200602674581088372 -> -6414794420438946634 [id=\"5200602674581088372.args[0]\"]\n\t-6414794420438946634 [label=\"Pair.left\" id=-6414794420438946634]\n\t-6414794420438946634 -> 468231498779743578 [id=\"-6414794420438946634.args[0]\"]\n\t5200602674581088372 -> -1042568174412886162 [id=\"5200602674581088372.args[1]\"]\n\t-1042568174412886162 [label=\"Pair.right\" id=-1042568174412886162]\n\t-1042568174412886162 -> 468231498779743578 [id=\"-1042568174412886162.args[0]\"]\n}",
         "label": null,
         "rule": "metadsl_core.maybe.Maybe.map"
        },
        {
         "graph": "digraph {\n\tnode [shape=plain]\n\tedge [arrowsize=0.5 penwidth=0.5]\n\t-4863314574823831270 [label=\"NDArrayCompat.to_ndarray\" id=1935586180163463095]\n\t-4863314574823831270 -> -3437291932490233068 [id=\"1935586180163463095.args[0]\"]\n\t-3437291932490233068 [label=\"NDArrayCompat.from_ndarray\" id=-7585266382721542195]\n\t-3437291932490233068 -> 4700439864827198540 [id=\"-7585266382721542195.args[0]\"]\n\t4700439864827198540 [label=\"Maybe.match\" id=7902643172531125544]\n\t4700439864827198540 -> -6649595900598481839 [id=\"7902643172531125544.args[0]\"]\n\t-6649595900598481839 [label=\"Maybe.__and__\" id=3770459566127010284]\n\t-6649595900598481839 -> -693852287426370102 [id=\"3770459566127010284.args[0]\"]\n\t-693852287426370102 [label=\"Converter.convert\" id=-693852287426370102]\n\t-693852287426370102 -> 2479618931988953124 [id=\"-693852287426370102.args[0]\"]\n\t2479618931988953124 [label=\"NDArrayCompat.__add__\" id=2479618931988953124]\n\t2479618931988953124 -> -1050884032506130782 [id=\"2479618931988953124.args[0]\"]\n\t-1050884032506130782 [label=\"NDArrayCompat.from_ndarray\" id=-1050884032506130782]\n\t-1050884032506130782 -> -710006793518321344 [id=\"-1050884032506130782.args[0]\"]\n\t-710006793518321344 [label=\"Maybe.map\" id=-710006793518321344]\n\t-710006793518321344 -> -1699773377263255131 [id=\"-710006793518321344.args[0]\"]\n\t-1699773377263255131 [label=\"Maybe.just\" id=-1699773377263255131]\n\t-1699773377263255131 -> 579615478629357154 [id=\"-1699773377263255131.args[0]\"]\n\t579615478629357154 [label=\"Integer.from_int\" id=579615478629357154]\n\t579615478629357154 -> 5838084232007047975 [id=\"579615478629357154.args[0]\"]\n\t5838084232007047975 [label=100 id=6003697446393151645]\n\t-710006793518321344 -> 3422393941435572874 [id=\"-710006793518321344.args[1]\"]\n\t3422393941435572874 [label=\"Abstraction.create\" id=3422393941435572874]\n\t3422393941435572874 -> 3481659688989734831 [id=\"3422393941435572874.args[0]\"]\n\t3481659688989734831 [label=\"Abstraction.create_variable\" id=3481659688989734831]\n\t3481659688989734831 -> 4813215188361776730 [id=\"3481659688989734831.args[0]\"]\n\t4813215188361776730 [label=\"Variable(4700360320)\" id=4813215188361776730]\n\t3422393941435572874 -> 5862299951965675192 [id=\"3422393941435572874.args[1]\"]\n\t5862299951965675192 [label=arange_ id=5862299951965675192]\n\t5862299951965675192 -> 3481659688989734831 [id=\"5862299951965675192.args[0]\"]\n\t2479618931988953124 -> -1050884032506130782 [id=\"2479618931988953124.args[1]\"]\n\t-6649595900598481839 -> -5182989550629263489 [id=\"3770459566127010284.args[1]\"]\n\t-5182989550629263489 [label=\"Maybe.__or__\" id=-601798127143681366]\n\t-5182989550629263489 -> -8515717911257762846 [id=\"-601798127143681366.args[0]\"]\n\t-8515717911257762846 [label=\"Maybe.map\" id=-8515717911257762846]\n\t-8515717911257762846 -> 6789123831358882944 [id=\"-8515717911257762846.args[0]\"]\n\t6789123831358882944 [label=\"Maybe.just\" id=6789123831358882944]\n\t6789123831358882944 -> 5109073286877630545 [id=\"6789123831358882944.args[0]\"]\n\t5109073286877630545 [label=\"Integer.from_int\" id=5109073286877630545]\n\t5109073286877630545 -> 5838084232112052900 [id=\"5109073286877630545.args[0]\"]\n\t5838084232112052900 [label=5 id=7756835102063988763]\n\t-8515717911257762846 -> -4747599550161408370 [id=\"-8515717911257762846.args[1]\"]\n\t-4747599550161408370 [label=\"Abstraction.create\" id=-4747599550161408370]\n\t-4747599550161408370 -> -4625004114204702497 [id=\"-4747599550161408370.args[0]\"]\n\t-4625004114204702497 [label=\"Abstraction.create_variable\" id=-4625004114204702497]\n\t-4625004114204702497 -> 4813215193752751230 [id=\"-4625004114204702497.args[0]\"]\n\t4813215193752751230 [label=\"Variable(4700247488)\" id=4813215193752751230]\n\t-4747599550161408370 -> 3308170723651583708 [id=\"-4747599550161408370.args[1]\"]\n\t3308170723651583708 [label=\"Either.left\" id=3308170723651583708]\n\t3308170723651583708 -> -4625004114204702497 [id=\"3308170723651583708.args[0]\"]\n\t-5182989550629263489 -> 9098294439964856754 [id=\"-601798127143681366.args[1]\"]\n\t9098294439964856754 [label=\"Maybe.match\" id=1291442120334238282]\n\t9098294439964856754 -> 2944773798775947601 [id=\"1291442120334238282.args[0]\"]\n\t2944773798775947601 [label=\"Converter.convert\" id=2944773798775947601]\n\t2944773798775947601 -> 5838084232112052900 [id=\"2944773798775947601.args[0]\"]\n\t9098294439964856754 -> 2703072876348085923 [id=\"1291442120334238282.args[1]\"]\n\t2703072876348085923 [label=\"Maybe.nothing\" id=2703072876348085923]\n\t9098294439964856754 -> 4616069827488363355 [id=\"1291442120334238282.args[2]\"]\n\t4616069827488363355 [label=\"Abstraction.__add__\" id=4616069827488363355]\n\t4616069827488363355 -> -6500393008186537515 [id=\"4616069827488363355.args[0]\"]\n\t-6500393008186537515 [label=\"Abstraction.from_fn\" id=-6500393008186537515]\n\t-6500393008186537515 -> -5117706931675647553 [id=\"-6500393008186537515.args[0]\"]\n\t-5117706931675647553 [label=\"Maybe.just\" id=-5117706931675647553]\n\t4616069827488363355 -> -2631096410235245811 [id=\"4616069827488363355.args[1]\"]\n\t-2631096410235245811 [label=\"Abstraction.create\" id=-2631096410235245811]\n\t-2631096410235245811 -> 4755030733478054666 [id=\"-2631096410235245811.args[0]\"]\n\t4755030733478054666 [label=\"Abstraction.create_variable\" id=4755030733478054666]\n\t4755030733478054666 -> -4410156857239801078 [id=\"4755030733478054666.args[0]\"]\n\t-4410156857239801078 [label=\"Variable(4700226952)\" id=-4410156857239801078]\n\t-2631096410235245811 -> 6506087961180873209 [id=\"-2631096410235245811.args[1]\"]\n\t6506087961180873209 [label=\"Either.right\" id=6506087961180873209]\n\t6506087961180873209 -> 4755030733478054666 [id=\"6506087961180873209.args[0]\"]\n\t4700439864827198540 -> -4664464520583065041 [id=\"7902643172531125544.args[1]\"]\n\t-4664464520583065041 [label=\"Maybe.nothing\" id=-4664464520583065041]\n\t4700439864827198540 -> 1487874569637105037 [id=\"7902643172531125544.args[2]\"]\n\t1487874569637105037 [label=\"Abstraction.__add__\" id=1487874569637105037]\n\t1487874569637105037 -> -1095585159230285059 [id=\"1487874569637105037.args[0]\"]\n\t-1095585159230285059 [label=\"Abstraction.from_fn\" id=-1095585159230285059]\n\t-1095585159230285059 -> 5018280261059491459 [id=\"-1095585159230285059.args[0]\"]\n\t5018280261059491459 [label=\"Maybe.just\" id=5018280261059491459]\n\t1487874569637105037 -> 518509411827867796 [id=\"1487874569637105037.args[1]\"]\n\t518509411827867796 [label=\"Abstraction.create\" id=518509411827867796]\n\t518509411827867796 -> 468231498779743578 [id=\"518509411827867796.args[0]\"]\n\t468231498779743578 [label=\"Abstraction.create_variable\" id=468231498779743578]\n\t468231498779743578 -> -4410156857131548578 [id=\"468231498779743578.args[0]\"]\n\t-4410156857131548578 [label=\"Variable(4700226504)\" id=-4410156857131548578]\n\t518509411827867796 -> 5200602674581088372 [id=\"518509411827867796.args[1]\"]\n\t5200602674581088372 [label=\"NDArray.__getitem__\" id=5200602674581088372]\n\t5200602674581088372 -> -6414794420438946634 [id=\"5200602674581088372.args[0]\"]\n\t-6414794420438946634 [label=\"Pair.left\" id=-6414794420438946634]\n\t-6414794420438946634 -> 468231498779743578 [id=\"-6414794420438946634.args[0]\"]\n\t5200602674581088372 -> -1042568174412886162 [id=\"5200602674581088372.args[1]\"]\n\t-1042568174412886162 [label=\"Pair.right\" id=-1042568174412886162]\n\t-1042568174412886162 -> 468231498779743578 [id=\"-1042568174412886162.args[0]\"]\n}",
         "label": null,
         "rule": "metadsl_core.maybe.Maybe.map"
        },
        {
         "graph": "digraph {\n\tnode [shape=plain]\n\tedge [arrowsize=0.5 penwidth=0.5]\n\t9165598983254956855 [label=\"NDArrayCompat.to_ndarray\" id=1935586180163463095]\n\t9165598983254956855 -> 8709362863052782407 [id=\"1935586180163463095.args[0]\"]\n\t8709362863052782407 [label=\"NDArrayCompat.from_ndarray\" id=-7585266382721542195]\n\t8709362863052782407 -> -7386547758123990700 [id=\"-7585266382721542195.args[0]\"]\n\t-7386547758123990700 [label=\"Maybe.match\" id=7902643172531125544]\n\t-7386547758123990700 -> 3174465242235764390 [id=\"7902643172531125544.args[0]\"]\n\t3174465242235764390 [label=\"Maybe.__and__\" id=3770459566127010284]\n\t3174465242235764390 -> -693852287426370102 [id=\"3770459566127010284.args[0]\"]\n\t-693852287426370102 [label=\"Converter.convert\" id=-693852287426370102]\n\t-693852287426370102 -> 2479618931988953124 [id=\"-693852287426370102.args[0]\"]\n\t2479618931988953124 [label=\"NDArrayCompat.__add__\" id=2479618931988953124]\n\t2479618931988953124 -> -1050884032506130782 [id=\"2479618931988953124.args[0]\"]\n\t-1050884032506130782 [label=\"NDArrayCompat.from_ndarray\" id=-1050884032506130782]\n\t-1050884032506130782 -> -710006793518321344 [id=\"-1050884032506130782.args[0]\"]\n\t-710006793518321344 [label=\"Maybe.map\" id=-710006793518321344]\n\t-710006793518321344 -> -1699773377263255131 [id=\"-710006793518321344.args[0]\"]\n\t-1699773377263255131 [label=\"Maybe.just\" id=-1699773377263255131]\n\t-1699773377263255131 -> 579615478629357154 [id=\"-1699773377263255131.args[0]\"]\n\t579615478629357154 [label=\"Integer.from_int\" id=579615478629357154]\n\t579615478629357154 -> 5838084232007047975 [id=\"579615478629357154.args[0]\"]\n\t5838084232007047975 [label=100 id=6003697446393151645]\n\t-710006793518321344 -> 3422393941435572874 [id=\"-710006793518321344.args[1]\"]\n\t3422393941435572874 [label=\"Abstraction.create\" id=3422393941435572874]\n\t3422393941435572874 -> 3481659688989734831 [id=\"3422393941435572874.args[0]\"]\n\t3481659688989734831 [label=\"Abstraction.create_variable\" id=3481659688989734831]\n\t3481659688989734831 -> 4813215188361776730 [id=\"3481659688989734831.args[0]\"]\n\t4813215188361776730 [label=\"Variable(4700360320)\" id=4813215188361776730]\n\t3422393941435572874 -> 5862299951965675192 [id=\"3422393941435572874.args[1]\"]\n\t5862299951965675192 [label=arange_ id=5862299951965675192]\n\t5862299951965675192 -> 3481659688989734831 [id=\"5862299951965675192.args[0]\"]\n\t2479618931988953124 -> -1050884032506130782 [id=\"2479618931988953124.args[1]\"]\n\t3174465242235764390 -> -2450665583848721859 [id=\"3770459566127010284.args[1]\"]\n\t-2450665583848721859 [label=\"Maybe.__or__\" id=-601798127143681366]\n\t-2450665583848721859 -> -7386807996660818420 [id=\"-601798127143681366.args[0]\"]\n\t-7386807996660818420 [label=\"Maybe.match\" id=-8515717911257762846]\n\t-7386807996660818420 -> 6789123831358882944 [id=\"-8515717911257762846.args[0]\"]\n\t6789123831358882944 [label=\"Maybe.just\" id=6789123831358882944]\n\t6789123831358882944 -> 5109073286877630545 [id=\"6789123831358882944.args[0]\"]\n\t5109073286877630545 [label=\"Integer.from_int\" id=5109073286877630545]\n\t5109073286877630545 -> 5838084232112052900 [id=\"5109073286877630545.args[0]\"]\n\t5838084232112052900 [label=5 id=7756835102063988763]\n\t-7386807996660818420 -> 2703072876348085923 [id=\"-8515717911257762846.args[1]\"]\n\t2703072876348085923 [label=\"Maybe.nothing\" id=2703072876348085923]\n\t-7386807996660818420 -> 1771017972727046875 [id=\"-8515717911257762846.args[2]\"]\n\t1771017972727046875 [label=\"Abstraction.__add__\" id=1771017972727046875]\n\t1771017972727046875 -> -6500393008186537515 [id=\"1771017972727046875.args[0]\"]\n\t-6500393008186537515 [label=\"Abstraction.from_fn\" id=-6500393008186537515]\n\t-6500393008186537515 -> -5117706931675647553 [id=\"-6500393008186537515.args[0]\"]\n\t-5117706931675647553 [label=\"Maybe.just\" id=-5117706931675647553]\n\t1771017972727046875 -> -4747599550161408370 [id=\"1771017972727046875.args[1]\"]\n\t-4747599550161408370 [label=\"Abstraction.create\" id=-4747599550161408370]\n\t-4747599550161408370 -> -4625004114204702497 [id=\"-4747599550161408370.args[0]\"]\n\t-4625004114204702497 [label=\"Abstraction.create_variable\" id=-4625004114204702497]\n\t-4625004114204702497 -> 4813215193752751230 [id=\"-4625004114204702497.args[0]\"]\n\t4813215193752751230 [label=\"Variable(4700247488)\" id=4813215193752751230]\n\t-4747599550161408370 -> 3308170723651583708 [id=\"-4747599550161408370.args[1]\"]\n\t3308170723651583708 [label=\"Either.left\" id=3308170723651583708]\n\t3308170723651583708 -> -4625004114204702497 [id=\"3308170723651583708.args[0]\"]\n\t-2450665583848721859 -> 9098294439964856754 [id=\"-601798127143681366.args[1]\"]\n\t9098294439964856754 [label=\"Maybe.match\" id=1291442120334238282]\n\t9098294439964856754 -> 2944773798775947601 [id=\"1291442120334238282.args[0]\"]\n\t2944773798775947601 [label=\"Converter.convert\" id=2944773798775947601]\n\t2944773798775947601 -> 5838084232112052900 [id=\"2944773798775947601.args[0]\"]\n\t9098294439964856754 -> 2703072876348085923 [id=\"1291442120334238282.args[1]\"]\n\t9098294439964856754 -> 4616069827488363355 [id=\"1291442120334238282.args[2]\"]\n\t4616069827488363355 [label=\"Abstraction.__add__\" id=4616069827488363355]\n\t4616069827488363355 -> -6500393008186537515 [id=\"4616069827488363355.args[0]\"]\n\t4616069827488363355 -> -2631096410235245811 [id=\"4616069827488363355.args[1]\"]\n\t-2631096410235245811 [label=\"Abstraction.create\" id=-2631096410235245811]\n\t-2631096410235245811 -> 4755030733478054666 [id=\"-2631096410235245811.args[0]\"]\n\t4755030733478054666 [label=\"Abstraction.create_variable\" id=4755030733478054666]\n\t4755030733478054666 -> -4410156857239801078 [id=\"4755030733478054666.args[0]\"]\n\t-4410156857239801078 [label=\"Variable(4700226952)\" id=-4410156857239801078]\n\t-2631096410235245811 -> 6506087961180873209 [id=\"-2631096410235245811.args[1]\"]\n\t6506087961180873209 [label=\"Either.right\" id=6506087961180873209]\n\t6506087961180873209 -> 4755030733478054666 [id=\"6506087961180873209.args[0]\"]\n\t-7386547758123990700 -> -4664464520583065041 [id=\"7902643172531125544.args[1]\"]\n\t-4664464520583065041 [label=\"Maybe.nothing\" id=-4664464520583065041]\n\t-7386547758123990700 -> 1487874569637105037 [id=\"7902643172531125544.args[2]\"]\n\t1487874569637105037 [label=\"Abstraction.__add__\" id=1487874569637105037]\n\t1487874569637105037 -> -1095585159230285059 [id=\"1487874569637105037.args[0]\"]\n\t-1095585159230285059 [label=\"Abstraction.from_fn\" id=-1095585159230285059]\n\t-1095585159230285059 -> 5018280261059491459 [id=\"-1095585159230285059.args[0]\"]\n\t5018280261059491459 [label=\"Maybe.just\" id=5018280261059491459]\n\t1487874569637105037 -> 518509411827867796 [id=\"1487874569637105037.args[1]\"]\n\t518509411827867796 [label=\"Abstraction.create\" id=518509411827867796]\n\t518509411827867796 -> 468231498779743578 [id=\"518509411827867796.args[0]\"]\n\t468231498779743578 [label=\"Abstraction.create_variable\" id=468231498779743578]\n\t468231498779743578 -> -4410156857131548578 [id=\"468231498779743578.args[0]\"]\n\t-4410156857131548578 [label=\"Variable(4700226504)\" id=-4410156857131548578]\n\t518509411827867796 -> 5200602674581088372 [id=\"518509411827867796.args[1]\"]\n\t5200602674581088372 [label=\"NDArray.__getitem__\" id=5200602674581088372]\n\t5200602674581088372 -> -6414794420438946634 [id=\"5200602674581088372.args[0]\"]\n\t-6414794420438946634 [label=\"Pair.left\" id=-6414794420438946634]\n\t-6414794420438946634 -> 468231498779743578 [id=\"-6414794420438946634.args[0]\"]\n\t5200602674581088372 -> -1042568174412886162 [id=\"5200602674581088372.args[1]\"]\n\t-1042568174412886162 [label=\"Pair.right\" id=-1042568174412886162]\n\t-1042568174412886162 -> 468231498779743578 [id=\"-1042568174412886162.args[0]\"]\n}",
         "label": null,
         "rule": "metadsl_core.maybe.Maybe.map"
        },
        {
         "graph": "digraph {\n\tnode [shape=plain]\n\tedge [arrowsize=0.5 penwidth=0.5]\n\t-4174312232391793700 [label=\"NDArrayCompat.to_ndarray\" id=1935586180163463095]\n\t-4174312232391793700 -> 314865019023719573 [id=\"1935586180163463095.args[0]\"]\n\t314865019023719573 [label=\"NDArrayCompat.from_ndarray\" id=-7585266382721542195]\n\t314865019023719573 -> 4421296665337759402 [id=\"-7585266382721542195.args[0]\"]\n\t4421296665337759402 [label=\"Maybe.match\" id=7902643172531125544]\n\t4421296665337759402 -> -5693778997302270785 [id=\"7902643172531125544.args[0]\"]\n\t-5693778997302270785 [label=\"Maybe.__and__\" id=3770459566127010284]\n\t-5693778997302270785 -> -693852287426370102 [id=\"3770459566127010284.args[0]\"]\n\t-693852287426370102 [label=\"Converter.convert\" id=-693852287426370102]\n\t-693852287426370102 -> 2479618931988953124 [id=\"-693852287426370102.args[0]\"]\n\t2479618931988953124 [label=\"NDArrayCompat.__add__\" id=2479618931988953124]\n\t2479618931988953124 -> -1050884032506130782 [id=\"2479618931988953124.args[0]\"]\n\t-1050884032506130782 [label=\"NDArrayCompat.from_ndarray\" id=-1050884032506130782]\n\t-1050884032506130782 -> -710006793518321344 [id=\"-1050884032506130782.args[0]\"]\n\t-710006793518321344 [label=\"Maybe.map\" id=-710006793518321344]\n\t-710006793518321344 -> -1699773377263255131 [id=\"-710006793518321344.args[0]\"]\n\t-1699773377263255131 [label=\"Maybe.just\" id=-1699773377263255131]\n\t-1699773377263255131 -> 579615478629357154 [id=\"-1699773377263255131.args[0]\"]\n\t579615478629357154 [label=\"Integer.from_int\" id=579615478629357154]\n\t579615478629357154 -> 5838084232007047975 [id=\"579615478629357154.args[0]\"]\n\t5838084232007047975 [label=100 id=6003697446393151645]\n\t-710006793518321344 -> 3422393941435572874 [id=\"-710006793518321344.args[1]\"]\n\t3422393941435572874 [label=\"Abstraction.create\" id=3422393941435572874]\n\t3422393941435572874 -> 3481659688989734831 [id=\"3422393941435572874.args[0]\"]\n\t3481659688989734831 [label=\"Abstraction.create_variable\" id=3481659688989734831]\n\t3481659688989734831 -> 4813215188361776730 [id=\"3481659688989734831.args[0]\"]\n\t4813215188361776730 [label=\"Variable(4700360320)\" id=4813215188361776730]\n\t3422393941435572874 -> 5862299951965675192 [id=\"3422393941435572874.args[1]\"]\n\t5862299951965675192 [label=arange_ id=5862299951965675192]\n\t5862299951965675192 -> 3481659688989734831 [id=\"5862299951965675192.args[0]\"]\n\t2479618931988953124 -> -1050884032506130782 [id=\"2479618931988953124.args[1]\"]\n\t-5693778997302270785 -> 8890246705513709024 [id=\"3770459566127010284.args[1]\"]\n\t8890246705513709024 [label=\"Maybe.__or__\" id=-601798127143681366]\n\t8890246705513709024 -> 8938796580966517133 [id=\"-601798127143681366.args[0]\"]\n\t8938796580966517133 [label=\"Abstraction.__call__\" id=-8515717911257762846]\n\t8938796580966517133 -> 1771017972727046875 [id=\"-8515717911257762846.args[0]\"]\n\t1771017972727046875 [label=\"Abstraction.__add__\" id=1771017972727046875]\n\t1771017972727046875 -> -6500393008186537515 [id=\"1771017972727046875.args[0]\"]\n\t-6500393008186537515 [label=\"Abstraction.from_fn\" id=-6500393008186537515]\n\t-6500393008186537515 -> -5117706931675647553 [id=\"-6500393008186537515.args[0]\"]\n\t-5117706931675647553 [label=\"Maybe.just\" id=-5117706931675647553]\n\t1771017972727046875 -> -4747599550161408370 [id=\"1771017972727046875.args[1]\"]\n\t-4747599550161408370 [label=\"Abstraction.create\" id=-4747599550161408370]\n\t-4747599550161408370 -> -4625004114204702497 [id=\"-4747599550161408370.args[0]\"]\n\t-4625004114204702497 [label=\"Abstraction.create_variable\" id=-4625004114204702497]\n\t-4625004114204702497 -> 4813215193752751230 [id=\"-4625004114204702497.args[0]\"]\n\t4813215193752751230 [label=\"Variable(4700247488)\" id=4813215193752751230]\n\t-4747599550161408370 -> 3308170723651583708 [id=\"-4747599550161408370.args[1]\"]\n\t3308170723651583708 [label=\"Either.left\" id=3308170723651583708]\n\t3308170723651583708 -> -4625004114204702497 [id=\"3308170723651583708.args[0]\"]\n\t8938796580966517133 -> 5109073286877630545 [id=\"-8515717911257762846.args[1]\"]\n\t5109073286877630545 [label=\"Integer.from_int\" id=5109073286877630545]\n\t5109073286877630545 -> 5838084232112052900 [id=\"5109073286877630545.args[0]\"]\n\t5838084232112052900 [label=5 id=7756835102063988763]\n\t8890246705513709024 -> 9098294439964856754 [id=\"-601798127143681366.args[1]\"]\n\t9098294439964856754 [label=\"Maybe.match\" id=1291442120334238282]\n\t9098294439964856754 -> 2944773798775947601 [id=\"1291442120334238282.args[0]\"]\n\t2944773798775947601 [label=\"Converter.convert\" id=2944773798775947601]\n\t2944773798775947601 -> 5838084232112052900 [id=\"2944773798775947601.args[0]\"]\n\t9098294439964856754 -> 2703072876348085923 [id=\"1291442120334238282.args[1]\"]\n\t2703072876348085923 [label=\"Maybe.nothing\" id=2703072876348085923]\n\t9098294439964856754 -> 4616069827488363355 [id=\"1291442120334238282.args[2]\"]\n\t4616069827488363355 [label=\"Abstraction.__add__\" id=4616069827488363355]\n\t4616069827488363355 -> -6500393008186537515 [id=\"4616069827488363355.args[0]\"]\n\t4616069827488363355 -> -2631096410235245811 [id=\"4616069827488363355.args[1]\"]\n\t-2631096410235245811 [label=\"Abstraction.create\" id=-2631096410235245811]\n\t-2631096410235245811 -> 4755030733478054666 [id=\"-2631096410235245811.args[0]\"]\n\t4755030733478054666 [label=\"Abstraction.create_variable\" id=4755030733478054666]\n\t4755030733478054666 -> -4410156857239801078 [id=\"4755030733478054666.args[0]\"]\n\t-4410156857239801078 [label=\"Variable(4700226952)\" id=-4410156857239801078]\n\t-2631096410235245811 -> 6506087961180873209 [id=\"-2631096410235245811.args[1]\"]\n\t6506087961180873209 [label=\"Either.right\" id=6506087961180873209]\n\t6506087961180873209 -> 4755030733478054666 [id=\"6506087961180873209.args[0]\"]\n\t4421296665337759402 -> -4664464520583065041 [id=\"7902643172531125544.args[1]\"]\n\t-4664464520583065041 [label=\"Maybe.nothing\" id=-4664464520583065041]\n\t4421296665337759402 -> 1487874569637105037 [id=\"7902643172531125544.args[2]\"]\n\t1487874569637105037 [label=\"Abstraction.__add__\" id=1487874569637105037]\n\t1487874569637105037 -> -1095585159230285059 [id=\"1487874569637105037.args[0]\"]\n\t-1095585159230285059 [label=\"Abstraction.from_fn\" id=-1095585159230285059]\n\t-1095585159230285059 -> 5018280261059491459 [id=\"-1095585159230285059.args[0]\"]\n\t5018280261059491459 [label=\"Maybe.just\" id=5018280261059491459]\n\t1487874569637105037 -> 518509411827867796 [id=\"1487874569637105037.args[1]\"]\n\t518509411827867796 [label=\"Abstraction.create\" id=518509411827867796]\n\t518509411827867796 -> 468231498779743578 [id=\"518509411827867796.args[0]\"]\n\t468231498779743578 [label=\"Abstraction.create_variable\" id=468231498779743578]\n\t468231498779743578 -> -4410156857131548578 [id=\"468231498779743578.args[0]\"]\n\t-4410156857131548578 [label=\"Variable(4700226504)\" id=-4410156857131548578]\n\t518509411827867796 -> 5200602674581088372 [id=\"518509411827867796.args[1]\"]\n\t5200602674581088372 [label=\"NDArray.__getitem__\" id=5200602674581088372]\n\t5200602674581088372 -> -6414794420438946634 [id=\"5200602674581088372.args[0]\"]\n\t-6414794420438946634 [label=\"Pair.left\" id=-6414794420438946634]\n\t-6414794420438946634 -> 468231498779743578 [id=\"-6414794420438946634.args[0]\"]\n\t5200602674581088372 -> -1042568174412886162 [id=\"5200602674581088372.args[1]\"]\n\t-1042568174412886162 [label=\"Pair.right\" id=-1042568174412886162]\n\t-1042568174412886162 -> 468231498779743578 [id=\"-1042568174412886162.args[0]\"]\n}",
         "label": null,
         "rule": "metadsl_core.maybe.maybe_match"
        },
        {
         "graph": "digraph {\n\tnode [shape=plain]\n\tedge [arrowsize=0.5 penwidth=0.5]\n\t-1565107483550253999 [label=\"NDArrayCompat.to_ndarray\" id=1935586180163463095]\n\t-1565107483550253999 -> 6164495585392271202 [id=\"1935586180163463095.args[0]\"]\n\t6164495585392271202 [label=\"NDArrayCompat.from_ndarray\" id=-7585266382721542195]\n\t6164495585392271202 -> -6061511077476038142 [id=\"-7585266382721542195.args[0]\"]\n\t-6061511077476038142 [label=\"Maybe.match\" id=7902643172531125544]\n\t-6061511077476038142 -> 225889043373435813 [id=\"7902643172531125544.args[0]\"]\n\t225889043373435813 [label=\"Maybe.__and__\" id=3770459566127010284]\n\t225889043373435813 -> -6889920048495528298 [id=\"3770459566127010284.args[0]\"]\n\t-6889920048495528298 [label=\"Converter.convert\" id=-693852287426370102]\n\t-6889920048495528298 -> 3468649735422449664 [id=\"-693852287426370102.args[0]\"]\n\t3468649735422449664 [label=\"NDArrayCompat.__add__\" id=2479618931988953124]\n\t3468649735422449664 -> 2479269851814596 [id=\"2479618931988953124.args[0]\"]\n\t2479269851814596 [label=\"NDArrayCompat.from_ndarray\" id=-1050884032506130782]\n\t2479269851814596 -> 8337972810394593691 [id=\"-1050884032506130782.args[0]\"]\n\t8337972810394593691 [label=\"Maybe.match\" id=-710006793518321344]\n\t8337972810394593691 -> -1699773377263255131 [id=\"-710006793518321344.args[0]\"]\n\t-1699773377263255131 [label=\"Maybe.just\" id=-1699773377263255131]\n\t-1699773377263255131 -> 579615478629357154 [id=\"-1699773377263255131.args[0]\"]\n\t579615478629357154 [label=\"Integer.from_int\" id=579615478629357154]\n\t579615478629357154 -> 5838084232007047975 [id=\"579615478629357154.args[0]\"]\n\t5838084232007047975 [label=100 id=6003697446393151645]\n\t8337972810394593691 -> -4664464520583065041 [id=\"-710006793518321344.args[1]\"]\n\t-4664464520583065041 [label=\"Maybe.nothing\" id=-4664464520583065041]\n\t8337972810394593691 -> 6801381674161147896 [id=\"-710006793518321344.args[2]\"]\n\t6801381674161147896 [label=\"Abstraction.__add__\" id=6801381674161147896]\n\t6801381674161147896 -> -1095585159230285059 [id=\"6801381674161147896.args[0]\"]\n\t-1095585159230285059 [label=\"Abstraction.from_fn\" id=-1095585159230285059]\n\t-1095585159230285059 -> 5018280261059491459 [id=\"-1095585159230285059.args[0]\"]\n\t5018280261059491459 [label=\"Maybe.just\" id=5018280261059491459]\n\t6801381674161147896 -> 3422393941435572874 [id=\"6801381674161147896.args[1]\"]\n\t3422393941435572874 [label=\"Abstraction.create\" id=3422393941435572874]\n\t3422393941435572874 -> 3481659688989734831 [id=\"3422393941435572874.args[0]\"]\n\t3481659688989734831 [label=\"Abstraction.create_variable\" id=3481659688989734831]\n\t3481659688989734831 -> 4813215188361776730 [id=\"3481659688989734831.args[0]\"]\n\t4813215188361776730 [label=\"Variable(4700360320)\" id=4813215188361776730]\n\t3422393941435572874 -> 5862299951965675192 [id=\"3422393941435572874.args[1]\"]\n\t5862299951965675192 [label=arange_ id=5862299951965675192]\n\t5862299951965675192 -> 3481659688989734831 [id=\"5862299951965675192.args[0]\"]\n\t3468649735422449664 -> 2479269851814596 [id=\"2479618931988953124.args[1]\"]\n\t225889043373435813 -> 8890246705513709024 [id=\"3770459566127010284.args[1]\"]\n\t8890246705513709024 [label=\"Maybe.__or__\" id=-601798127143681366]\n\t8890246705513709024 -> 8938796580966517133 [id=\"-601798127143681366.args[0]\"]\n\t8938796580966517133 [label=\"Abstraction.__call__\" id=-8515717911257762846]\n\t8938796580966517133 -> 1771017972727046875 [id=\"-8515717911257762846.args[0]\"]\n\t1771017972727046875 [label=\"Abstraction.__add__\" id=1771017972727046875]\n\t1771017972727046875 -> -6500393008186537515 [id=\"1771017972727046875.args[0]\"]\n\t-6500393008186537515 [label=\"Abstraction.from_fn\" id=-6500393008186537515]\n\t-6500393008186537515 -> -5117706931675647553 [id=\"-6500393008186537515.args[0]\"]\n\t-5117706931675647553 [label=\"Maybe.just\" id=-5117706931675647553]\n\t1771017972727046875 -> -4747599550161408370 [id=\"1771017972727046875.args[1]\"]\n\t-4747599550161408370 [label=\"Abstraction.create\" id=-4747599550161408370]\n\t-4747599550161408370 -> -4625004114204702497 [id=\"-4747599550161408370.args[0]\"]\n\t-4625004114204702497 [label=\"Abstraction.create_variable\" id=-4625004114204702497]\n\t-4625004114204702497 -> 4813215193752751230 [id=\"-4625004114204702497.args[0]\"]\n\t4813215193752751230 [label=\"Variable(4700247488)\" id=4813215193752751230]\n\t-4747599550161408370 -> 3308170723651583708 [id=\"-4747599550161408370.args[1]\"]\n\t3308170723651583708 [label=\"Either.left\" id=3308170723651583708]\n\t3308170723651583708 -> -4625004114204702497 [id=\"3308170723651583708.args[0]\"]\n\t8938796580966517133 -> 5109073286877630545 [id=\"-8515717911257762846.args[1]\"]\n\t5109073286877630545 [label=\"Integer.from_int\" id=5109073286877630545]\n\t5109073286877630545 -> 5838084232112052900 [id=\"5109073286877630545.args[0]\"]\n\t5838084232112052900 [label=5 id=7756835102063988763]\n\t8890246705513709024 -> 9098294439964856754 [id=\"-601798127143681366.args[1]\"]\n\t9098294439964856754 [label=\"Maybe.match\" id=1291442120334238282]\n\t9098294439964856754 -> 2944773798775947601 [id=\"1291442120334238282.args[0]\"]\n\t2944773798775947601 [label=\"Converter.convert\" id=2944773798775947601]\n\t2944773798775947601 -> 5838084232112052900 [id=\"2944773798775947601.args[0]\"]\n\t9098294439964856754 -> 2703072876348085923 [id=\"1291442120334238282.args[1]\"]\n\t2703072876348085923 [label=\"Maybe.nothing\" id=2703072876348085923]\n\t9098294439964856754 -> 4616069827488363355 [id=\"1291442120334238282.args[2]\"]\n\t4616069827488363355 [label=\"Abstraction.__add__\" id=4616069827488363355]\n\t4616069827488363355 -> -6500393008186537515 [id=\"4616069827488363355.args[0]\"]\n\t4616069827488363355 -> -2631096410235245811 [id=\"4616069827488363355.args[1]\"]\n\t-2631096410235245811 [label=\"Abstraction.create\" id=-2631096410235245811]\n\t-2631096410235245811 -> 4755030733478054666 [id=\"-2631096410235245811.args[0]\"]\n\t4755030733478054666 [label=\"Abstraction.create_variable\" id=4755030733478054666]\n\t4755030733478054666 -> -4410156857239801078 [id=\"4755030733478054666.args[0]\"]\n\t-4410156857239801078 [label=\"Variable(4700226952)\" id=-4410156857239801078]\n\t-2631096410235245811 -> 6506087961180873209 [id=\"-2631096410235245811.args[1]\"]\n\t6506087961180873209 [label=\"Either.right\" id=6506087961180873209]\n\t6506087961180873209 -> 4755030733478054666 [id=\"6506087961180873209.args[0]\"]\n\t-6061511077476038142 -> -4664464520583065041 [id=\"7902643172531125544.args[1]\"]\n\t-6061511077476038142 -> 1487874569637105037 [id=\"7902643172531125544.args[2]\"]\n\t1487874569637105037 [label=\"Abstraction.__add__\" id=1487874569637105037]\n\t1487874569637105037 -> -1095585159230285059 [id=\"1487874569637105037.args[0]\"]\n\t1487874569637105037 -> 518509411827867796 [id=\"1487874569637105037.args[1]\"]\n\t518509411827867796 [label=\"Abstraction.create\" id=518509411827867796]\n\t518509411827867796 -> 468231498779743578 [id=\"518509411827867796.args[0]\"]\n\t468231498779743578 [label=\"Abstraction.create_variable\" id=468231498779743578]\n\t468231498779743578 -> -4410156857131548578 [id=\"468231498779743578.args[0]\"]\n\t-4410156857131548578 [label=\"Variable(4700226504)\" id=-4410156857131548578]\n\t518509411827867796 -> 5200602674581088372 [id=\"518509411827867796.args[1]\"]\n\t5200602674581088372 [label=\"NDArray.__getitem__\" id=5200602674581088372]\n\t5200602674581088372 -> -6414794420438946634 [id=\"5200602674581088372.args[0]\"]\n\t-6414794420438946634 [label=\"Pair.left\" id=-6414794420438946634]\n\t-6414794420438946634 -> 468231498779743578 [id=\"-6414794420438946634.args[0]\"]\n\t5200602674581088372 -> -1042568174412886162 [id=\"5200602674581088372.args[1]\"]\n\t-1042568174412886162 [label=\"Pair.right\" id=-1042568174412886162]\n\t-1042568174412886162 -> 468231498779743578 [id=\"-1042568174412886162.args[0]\"]\n}",
         "label": null,
         "rule": "metadsl_core.maybe.Maybe.map"
        },
        {
         "graph": "digraph {\n\tnode [shape=plain]\n\tedge [arrowsize=0.5 penwidth=0.5]\n\t5875209040284893536 [label=\"NDArrayCompat.to_ndarray\" id=1935586180163463095]\n\t5875209040284893536 -> 4381966629815095168 [id=\"1935586180163463095.args[0]\"]\n\t4381966629815095168 [label=\"NDArrayCompat.from_ndarray\" id=-7585266382721542195]\n\t4381966629815095168 -> 9170023377660142727 [id=\"-7585266382721542195.args[0]\"]\n\t9170023377660142727 [label=\"Maybe.match\" id=7902643172531125544]\n\t9170023377660142727 -> -4932447940979014284 [id=\"7902643172531125544.args[0]\"]\n\t-4932447940979014284 [label=\"Maybe.__and__\" id=3770459566127010284]\n\t-4932447940979014284 -> -4140766848798972602 [id=\"3770459566127010284.args[0]\"]\n\t-4140766848798972602 [label=\"Converter.convert\" id=-693852287426370102]\n\t-4140766848798972602 -> -7816749236083338732 [id=\"-693852287426370102.args[0]\"]\n\t-7816749236083338732 [label=\"NDArrayCompat.__add__\" id=2479618931988953124]\n\t-7816749236083338732 -> -7240541359464005235 [id=\"2479618931988953124.args[0]\"]\n\t-7240541359464005235 [label=\"NDArrayCompat.from_ndarray\" id=-1050884032506130782]\n\t-7240541359464005235 -> -1805408432180974061 [id=\"-1050884032506130782.args[0]\"]\n\t-1805408432180974061 [label=\"Abstraction.__call__\" id=-710006793518321344]\n\t-1805408432180974061 -> 6801381674161147896 [id=\"-710006793518321344.args[0]\"]\n\t6801381674161147896 [label=\"Abstraction.__add__\" id=6801381674161147896]\n\t6801381674161147896 -> -1095585159230285059 [id=\"6801381674161147896.args[0]\"]\n\t-1095585159230285059 [label=\"Abstraction.from_fn\" id=-1095585159230285059]\n\t-1095585159230285059 -> 5018280261059491459 [id=\"-1095585159230285059.args[0]\"]\n\t5018280261059491459 [label=\"Maybe.just\" id=5018280261059491459]\n\t6801381674161147896 -> 3422393941435572874 [id=\"6801381674161147896.args[1]\"]\n\t3422393941435572874 [label=\"Abstraction.create\" id=3422393941435572874]\n\t3422393941435572874 -> 3481659688989734831 [id=\"3422393941435572874.args[0]\"]\n\t3481659688989734831 [label=\"Abstraction.create_variable\" id=3481659688989734831]\n\t3481659688989734831 -> 4813215188361776730 [id=\"3481659688989734831.args[0]\"]\n\t4813215188361776730 [label=\"Variable(4700360320)\" id=4813215188361776730]\n\t3422393941435572874 -> 5862299951965675192 [id=\"3422393941435572874.args[1]\"]\n\t5862299951965675192 [label=arange_ id=5862299951965675192]\n\t5862299951965675192 -> 3481659688989734831 [id=\"5862299951965675192.args[0]\"]\n\t-1805408432180974061 -> 579615478629357154 [id=\"-710006793518321344.args[1]\"]\n\t579615478629357154 [label=\"Integer.from_int\" id=579615478629357154]\n\t579615478629357154 -> 5838084232007047975 [id=\"579615478629357154.args[0]\"]\n\t5838084232007047975 [label=100 id=6003697446393151645]\n\t-7816749236083338732 -> -7240541359464005235 [id=\"2479618931988953124.args[1]\"]\n\t-4932447940979014284 -> 8890246705513709024 [id=\"3770459566127010284.args[1]\"]\n\t8890246705513709024 [label=\"Maybe.__or__\" id=-601798127143681366]\n\t8890246705513709024 -> 8938796580966517133 [id=\"-601798127143681366.args[0]\"]\n\t8938796580966517133 [label=\"Abstraction.__call__\" id=-8515717911257762846]\n\t8938796580966517133 -> 1771017972727046875 [id=\"-8515717911257762846.args[0]\"]\n\t1771017972727046875 [label=\"Abstraction.__add__\" id=1771017972727046875]\n\t1771017972727046875 -> -6500393008186537515 [id=\"1771017972727046875.args[0]\"]\n\t-6500393008186537515 [label=\"Abstraction.from_fn\" id=-6500393008186537515]\n\t-6500393008186537515 -> -5117706931675647553 [id=\"-6500393008186537515.args[0]\"]\n\t-5117706931675647553 [label=\"Maybe.just\" id=-5117706931675647553]\n\t1771017972727046875 -> -4747599550161408370 [id=\"1771017972727046875.args[1]\"]\n\t-4747599550161408370 [label=\"Abstraction.create\" id=-4747599550161408370]\n\t-4747599550161408370 -> -4625004114204702497 [id=\"-4747599550161408370.args[0]\"]\n\t-4625004114204702497 [label=\"Abstraction.create_variable\" id=-4625004114204702497]\n\t-4625004114204702497 -> 4813215193752751230 [id=\"-4625004114204702497.args[0]\"]\n\t4813215193752751230 [label=\"Variable(4700247488)\" id=4813215193752751230]\n\t-4747599550161408370 -> 3308170723651583708 [id=\"-4747599550161408370.args[1]\"]\n\t3308170723651583708 [label=\"Either.left\" id=3308170723651583708]\n\t3308170723651583708 -> -4625004114204702497 [id=\"3308170723651583708.args[0]\"]\n\t8938796580966517133 -> 5109073286877630545 [id=\"-8515717911257762846.args[1]\"]\n\t5109073286877630545 [label=\"Integer.from_int\" id=5109073286877630545]\n\t5109073286877630545 -> 5838084232112052900 [id=\"5109073286877630545.args[0]\"]\n\t5838084232112052900 [label=5 id=7756835102063988763]\n\t8890246705513709024 -> 9098294439964856754 [id=\"-601798127143681366.args[1]\"]\n\t9098294439964856754 [label=\"Maybe.match\" id=1291442120334238282]\n\t9098294439964856754 -> 2944773798775947601 [id=\"1291442120334238282.args[0]\"]\n\t2944773798775947601 [label=\"Converter.convert\" id=2944773798775947601]\n\t2944773798775947601 -> 5838084232112052900 [id=\"2944773798775947601.args[0]\"]\n\t9098294439964856754 -> 2703072876348085923 [id=\"1291442120334238282.args[1]\"]\n\t2703072876348085923 [label=\"Maybe.nothing\" id=2703072876348085923]\n\t9098294439964856754 -> 4616069827488363355 [id=\"1291442120334238282.args[2]\"]\n\t4616069827488363355 [label=\"Abstraction.__add__\" id=4616069827488363355]\n\t4616069827488363355 -> -6500393008186537515 [id=\"4616069827488363355.args[0]\"]\n\t4616069827488363355 -> -2631096410235245811 [id=\"4616069827488363355.args[1]\"]\n\t-2631096410235245811 [label=\"Abstraction.create\" id=-2631096410235245811]\n\t-2631096410235245811 -> 4755030733478054666 [id=\"-2631096410235245811.args[0]\"]\n\t4755030733478054666 [label=\"Abstraction.create_variable\" id=4755030733478054666]\n\t4755030733478054666 -> -4410156857239801078 [id=\"4755030733478054666.args[0]\"]\n\t-4410156857239801078 [label=\"Variable(4700226952)\" id=-4410156857239801078]\n\t-2631096410235245811 -> 6506087961180873209 [id=\"-2631096410235245811.args[1]\"]\n\t6506087961180873209 [label=\"Either.right\" id=6506087961180873209]\n\t6506087961180873209 -> 4755030733478054666 [id=\"6506087961180873209.args[0]\"]\n\t9170023377660142727 -> -4664464520583065041 [id=\"7902643172531125544.args[1]\"]\n\t-4664464520583065041 [label=\"Maybe.nothing\" id=-4664464520583065041]\n\t9170023377660142727 -> 1487874569637105037 [id=\"7902643172531125544.args[2]\"]\n\t1487874569637105037 [label=\"Abstraction.__add__\" id=1487874569637105037]\n\t1487874569637105037 -> -1095585159230285059 [id=\"1487874569637105037.args[0]\"]\n\t1487874569637105037 -> 518509411827867796 [id=\"1487874569637105037.args[1]\"]\n\t518509411827867796 [label=\"Abstraction.create\" id=518509411827867796]\n\t518509411827867796 -> 468231498779743578 [id=\"518509411827867796.args[0]\"]\n\t468231498779743578 [label=\"Abstraction.create_variable\" id=468231498779743578]\n\t468231498779743578 -> -4410156857131548578 [id=\"468231498779743578.args[0]\"]\n\t-4410156857131548578 [label=\"Variable(4700226504)\" id=-4410156857131548578]\n\t518509411827867796 -> 5200602674581088372 [id=\"518509411827867796.args[1]\"]\n\t5200602674581088372 [label=\"NDArray.__getitem__\" id=5200602674581088372]\n\t5200602674581088372 -> -6414794420438946634 [id=\"5200602674581088372.args[0]\"]\n\t-6414794420438946634 [label=\"Pair.left\" id=-6414794420438946634]\n\t-6414794420438946634 -> 468231498779743578 [id=\"-6414794420438946634.args[0]\"]\n\t5200602674581088372 -> -1042568174412886162 [id=\"5200602674581088372.args[1]\"]\n\t-1042568174412886162 [label=\"Pair.right\" id=-1042568174412886162]\n\t-1042568174412886162 -> 468231498779743578 [id=\"-1042568174412886162.args[0]\"]\n}",
         "label": null,
         "rule": "metadsl_core.maybe.maybe_match"
        },
        {
         "graph": "digraph {\n\tnode [shape=plain]\n\tedge [arrowsize=0.5 penwidth=0.5]\n\t-2710983233644286474 [label=\"NDArrayCompat.to_ndarray\" id=1935586180163463095]\n\t-2710983233644286474 -> -1098347727076804089 [id=\"1935586180163463095.args[0]\"]\n\t-1098347727076804089 [label=\"NDArrayCompat.from_ndarray\" id=-7585266382721542195]\n\t-1098347727076804089 -> -3691001302245523438 [id=\"-7585266382721542195.args[0]\"]\n\t-3691001302245523438 [label=\"Maybe.match\" id=7902643172531125544]\n\t-3691001302245523438 -> -4601696110913952714 [id=\"7902643172531125544.args[0]\"]\n\t-4601696110913952714 [label=\"Maybe.__and__\" id=3770459566127010284]\n\t-4601696110913952714 -> -4140766848798972602 [id=\"3770459566127010284.args[0]\"]\n\t-4140766848798972602 [label=\"Converter.convert\" id=-693852287426370102]\n\t-4140766848798972602 -> -7816749236083338732 [id=\"-693852287426370102.args[0]\"]\n\t-7816749236083338732 [label=\"NDArrayCompat.__add__\" id=2479618931988953124]\n\t-7816749236083338732 -> -7240541359464005235 [id=\"2479618931988953124.args[0]\"]\n\t-7240541359464005235 [label=\"NDArrayCompat.from_ndarray\" id=-1050884032506130782]\n\t-7240541359464005235 -> -1805408432180974061 [id=\"-1050884032506130782.args[0]\"]\n\t-1805408432180974061 [label=\"Abstraction.__call__\" id=-710006793518321344]\n\t-1805408432180974061 -> 6801381674161147896 [id=\"-710006793518321344.args[0]\"]\n\t6801381674161147896 [label=\"Abstraction.__add__\" id=6801381674161147896]\n\t6801381674161147896 -> -1095585159230285059 [id=\"6801381674161147896.args[0]\"]\n\t-1095585159230285059 [label=\"Abstraction.from_fn\" id=-1095585159230285059]\n\t-1095585159230285059 -> 5018280261059491459 [id=\"-1095585159230285059.args[0]\"]\n\t5018280261059491459 [label=\"Maybe.just\" id=5018280261059491459]\n\t6801381674161147896 -> 3422393941435572874 [id=\"6801381674161147896.args[1]\"]\n\t3422393941435572874 [label=\"Abstraction.create\" id=3422393941435572874]\n\t3422393941435572874 -> 3481659688989734831 [id=\"3422393941435572874.args[0]\"]\n\t3481659688989734831 [label=\"Abstraction.create_variable\" id=3481659688989734831]\n\t3481659688989734831 -> 4813215188361776730 [id=\"3481659688989734831.args[0]\"]\n\t4813215188361776730 [label=\"Variable(4700360320)\" id=4813215188361776730]\n\t3422393941435572874 -> 5862299951965675192 [id=\"3422393941435572874.args[1]\"]\n\t5862299951965675192 [label=arange_ id=5862299951965675192]\n\t5862299951965675192 -> 3481659688989734831 [id=\"5862299951965675192.args[0]\"]\n\t-1805408432180974061 -> 579615478629357154 [id=\"-710006793518321344.args[1]\"]\n\t579615478629357154 [label=\"Integer.from_int\" id=579615478629357154]\n\t579615478629357154 -> 5838084232007047975 [id=\"579615478629357154.args[0]\"]\n\t5838084232007047975 [label=100 id=6003697446393151645]\n\t-7816749236083338732 -> -7240541359464005235 [id=\"2479618931988953124.args[1]\"]\n\t-4601696110913952714 -> 2218751614882757805 [id=\"3770459566127010284.args[1]\"]\n\t2218751614882757805 [label=\"Maybe.__or__\" id=-601798127143681366]\n\t2218751614882757805 -> -7484022018064687097 [id=\"-601798127143681366.args[0]\"]\n\t-7484022018064687097 [label=\"Abstraction.__call__\" id=-8515717911257762846]\n\t-7484022018064687097 -> 6749951301008775451 [id=\"-8515717911257762846.args[0]\"]\n\t6749951301008775451 [label=\"Abstraction.__add__\" id=1771017972727046875]\n\t6749951301008775451 -> 856785412918421907 [id=\"1771017972727046875.args[0]\"]\n\t856785412918421907 [label=\"Abstraction.create\" id=-6500393008186537515]\n\t856785412918421907 -> 9039111995028656601 [id=\"-6500393008186537515.args[0]\"]\n\t9039111995028656601 [label=\"Abstraction.create_variable\" id=9039111995028656601]\n\t9039111995028656601 -> -4410156933881488553 [id=\"9039111995028656601.args[0]\"]\n\t-4410156933881488553 [label=\"Variable(4701064440)\" id=-4410156933881488553]\n\t856785412918421907 -> -1346791124493721435 [id=\"-6500393008186537515.args[1]\"]\n\t-1346791124493721435 [label=\"Maybe.just\" id=-1346791124493721435]\n\t-1346791124493721435 -> 9039111995028656601 [id=\"-1346791124493721435.args[0]\"]\n\t6749951301008775451 -> -4747599550161408370 [id=\"1771017972727046875.args[1]\"]\n\t-4747599550161408370 [label=\"Abstraction.create\" id=-4747599550161408370]\n\t-4747599550161408370 -> -4625004114204702497 [id=\"-4747599550161408370.args[0]\"]\n\t-4625004114204702497 [label=\"Abstraction.create_variable\" id=-4625004114204702497]\n\t-4625004114204702497 -> 4813215193752751230 [id=\"-4625004114204702497.args[0]\"]\n\t4813215193752751230 [label=\"Variable(4700247488)\" id=4813215193752751230]\n\t-4747599550161408370 -> 3308170723651583708 [id=\"-4747599550161408370.args[1]\"]\n\t3308170723651583708 [label=\"Either.left\" id=3308170723651583708]\n\t3308170723651583708 -> -4625004114204702497 [id=\"3308170723651583708.args[0]\"]\n\t-7484022018064687097 -> 5109073286877630545 [id=\"-8515717911257762846.args[1]\"]\n\t5109073286877630545 [label=\"Integer.from_int\" id=5109073286877630545]\n\t5109073286877630545 -> 5838084232112052900 [id=\"5109073286877630545.args[0]\"]\n\t5838084232112052900 [label=5 id=7756835102063988763]\n\t2218751614882757805 -> 6945425244518419199 [id=\"-601798127143681366.args[1]\"]\n\t6945425244518419199 [label=\"Maybe.match\" id=1291442120334238282]\n\t6945425244518419199 -> 2944773798775947601 [id=\"1291442120334238282.args[0]\"]\n\t2944773798775947601 [label=\"Converter.convert\" id=2944773798775947601]\n\t2944773798775947601 -> 5838084232112052900 [id=\"2944773798775947601.args[0]\"]\n\t6945425244518419199 -> 2703072876348085923 [id=\"1291442120334238282.args[1]\"]\n\t2703072876348085923 [label=\"Maybe.nothing\" id=2703072876348085923]\n\t6945425244518419199 -> 8498399876414447003 [id=\"1291442120334238282.args[2]\"]\n\t8498399876414447003 [label=\"Abstraction.__add__\" id=4616069827488363355]\n\t8498399876414447003 -> 856785412918421907 [id=\"4616069827488363355.args[0]\"]\n\t8498399876414447003 -> -2631096410235245811 [id=\"4616069827488363355.args[1]\"]\n\t-2631096410235245811 [label=\"Abstraction.create\" id=-2631096410235245811]\n\t-2631096410235245811 -> 4755030733478054666 [id=\"-2631096410235245811.args[0]\"]\n\t4755030733478054666 [label=\"Abstraction.create_variable\" id=4755030733478054666]\n\t4755030733478054666 -> -4410156857239801078 [id=\"4755030733478054666.args[0]\"]\n\t-4410156857239801078 [label=\"Variable(4700226952)\" id=-4410156857239801078]\n\t-2631096410235245811 -> 6506087961180873209 [id=\"-2631096410235245811.args[1]\"]\n\t6506087961180873209 [label=\"Either.right\" id=6506087961180873209]\n\t6506087961180873209 -> 4755030733478054666 [id=\"6506087961180873209.args[0]\"]\n\t-3691001302245523438 -> -4664464520583065041 [id=\"7902643172531125544.args[1]\"]\n\t-4664464520583065041 [label=\"Maybe.nothing\" id=-4664464520583065041]\n\t-3691001302245523438 -> 1487874569637105037 [id=\"7902643172531125544.args[2]\"]\n\t1487874569637105037 [label=\"Abstraction.__add__\" id=1487874569637105037]\n\t1487874569637105037 -> -1095585159230285059 [id=\"1487874569637105037.args[0]\"]\n\t1487874569637105037 -> 518509411827867796 [id=\"1487874569637105037.args[1]\"]\n\t518509411827867796 [label=\"Abstraction.create\" id=518509411827867796]\n\t518509411827867796 -> 468231498779743578 [id=\"518509411827867796.args[0]\"]\n\t468231498779743578 [label=\"Abstraction.create_variable\" id=468231498779743578]\n\t468231498779743578 -> -4410156857131548578 [id=\"468231498779743578.args[0]\"]\n\t-4410156857131548578 [label=\"Variable(4700226504)\" id=-4410156857131548578]\n\t518509411827867796 -> 5200602674581088372 [id=\"518509411827867796.args[1]\"]\n\t5200602674581088372 [label=\"NDArray.__getitem__\" id=5200602674581088372]\n\t5200602674581088372 -> -6414794420438946634 [id=\"5200602674581088372.args[0]\"]\n\t-6414794420438946634 [label=\"Pair.left\" id=-6414794420438946634]\n\t-6414794420438946634 -> 468231498779743578 [id=\"-6414794420438946634.args[0]\"]\n\t5200602674581088372 -> -1042568174412886162 [id=\"5200602674581088372.args[1]\"]\n\t-1042568174412886162 [label=\"Pair.right\" id=-1042568174412886162]\n\t-1042568174412886162 -> 468231498779743578 [id=\"-1042568174412886162.args[0]\"]\n}",
         "label": null,
         "rule": "metadsl_core.abstraction.Abstraction.from_fn"
        },
        {
         "graph": "digraph {\n\tnode [shape=plain]\n\tedge [arrowsize=0.5 penwidth=0.5]\n\t-8746822573835151313 [label=\"NDArrayCompat.to_ndarray\" id=1935586180163463095]\n\t-8746822573835151313 -> 7648192999837778095 [id=\"1935586180163463095.args[0]\"]\n\t7648192999837778095 [label=\"NDArrayCompat.from_ndarray\" id=-7585266382721542195]\n\t7648192999837778095 -> -8008667647859116852 [id=\"-7585266382721542195.args[0]\"]\n\t-8008667647859116852 [label=\"Maybe.match\" id=7902643172531125544]\n\t-8008667647859116852 -> 5659392155686545387 [id=\"7902643172531125544.args[0]\"]\n\t5659392155686545387 [label=\"Maybe.__and__\" id=3770459566127010284]\n\t5659392155686545387 -> 28407508120041940 [id=\"3770459566127010284.args[0]\"]\n\t28407508120041940 [label=\"Converter.convert\" id=-693852287426370102]\n\t28407508120041940 -> -7661338159994440658 [id=\"-693852287426370102.args[0]\"]\n\t-7661338159994440658 [label=\"NDArrayCompat.__add__\" id=2479618931988953124]\n\t-7661338159994440658 -> 3198608941824209254 [id=\"2479618931988953124.args[0]\"]\n\t3198608941824209254 [label=\"NDArrayCompat.from_ndarray\" id=-1050884032506130782]\n\t3198608941824209254 -> 4670090330723769874 [id=\"-1050884032506130782.args[0]\"]\n\t4670090330723769874 [label=\"Abstraction.__call__\" id=-710006793518321344]\n\t4670090330723769874 -> 7205870173436599564 [id=\"-710006793518321344.args[0]\"]\n\t7205870173436599564 [label=\"Abstraction.__add__\" id=6801381674161147896]\n\t7205870173436599564 -> -9187846953603438100 [id=\"6801381674161147896.args[0]\"]\n\t-9187846953603438100 [label=\"Abstraction.create\" id=-1095585159230285059]\n\t-9187846953603438100 -> 197579945959390516 [id=\"-1095585159230285059.args[0]\"]\n\t197579945959390516 [label=\"Abstraction.create_variable\" id=197579945959390516]\n\t197579945959390516 -> -4410156953898458328 [id=\"197579945959390516.args[0]\"]\n\t-4410156953898458328 [label=\"Variable(4700836136)\" id=-4410156953898458328]\n\t-9187846953603438100 -> -2962513676475920575 [id=\"-1095585159230285059.args[1]\"]\n\t-2962513676475920575 [label=\"Maybe.just\" id=-2962513676475920575]\n\t-2962513676475920575 -> 197579945959390516 [id=\"-2962513676475920575.args[0]\"]\n\t7205870173436599564 -> 3422393941435572874 [id=\"6801381674161147896.args[1]\"]\n\t3422393941435572874 [label=\"Abstraction.create\" id=3422393941435572874]\n\t3422393941435572874 -> 3481659688989734831 [id=\"3422393941435572874.args[0]\"]\n\t3481659688989734831 [label=\"Abstraction.create_variable\" id=3481659688989734831]\n\t3481659688989734831 -> 4813215188361776730 [id=\"3481659688989734831.args[0]\"]\n\t4813215188361776730 [label=\"Variable(4700360320)\" id=4813215188361776730]\n\t3422393941435572874 -> 5862299951965675192 [id=\"3422393941435572874.args[1]\"]\n\t5862299951965675192 [label=arange_ id=5862299951965675192]\n\t5862299951965675192 -> 3481659688989734831 [id=\"5862299951965675192.args[0]\"]\n\t4670090330723769874 -> 579615478629357154 [id=\"-710006793518321344.args[1]\"]\n\t579615478629357154 [label=\"Integer.from_int\" id=579615478629357154]\n\t579615478629357154 -> 5838084232007047975 [id=\"579615478629357154.args[0]\"]\n\t5838084232007047975 [label=100 id=6003697446393151645]\n\t-7661338159994440658 -> 3198608941824209254 [id=\"2479618931988953124.args[1]\"]\n\t5659392155686545387 -> 2218751614882757805 [id=\"3770459566127010284.args[1]\"]\n\t2218751614882757805 [label=\"Maybe.__or__\" id=-601798127143681366]\n\t2218751614882757805 -> -7484022018064687097 [id=\"-601798127143681366.args[0]\"]\n\t-7484022018064687097 [label=\"Abstraction.__call__\" id=-8515717911257762846]\n\t-7484022018064687097 -> 6749951301008775451 [id=\"-8515717911257762846.args[0]\"]\n\t6749951301008775451 [label=\"Abstraction.__add__\" id=1771017972727046875]\n\t6749951301008775451 -> 856785412918421907 [id=\"1771017972727046875.args[0]\"]\n\t856785412918421907 [label=\"Abstraction.create\" id=-6500393008186537515]\n\t856785412918421907 -> 9039111995028656601 [id=\"-6500393008186537515.args[0]\"]\n\t9039111995028656601 [label=\"Abstraction.create_variable\" id=9039111995028656601]\n\t9039111995028656601 -> -4410156933881488553 [id=\"9039111995028656601.args[0]\"]\n\t-4410156933881488553 [label=\"Variable(4701064440)\" id=-4410156933881488553]\n\t856785412918421907 -> -1346791124493721435 [id=\"-6500393008186537515.args[1]\"]\n\t-1346791124493721435 [label=\"Maybe.just\" id=-1346791124493721435]\n\t-1346791124493721435 -> 9039111995028656601 [id=\"-1346791124493721435.args[0]\"]\n\t6749951301008775451 -> -4747599550161408370 [id=\"1771017972727046875.args[1]\"]\n\t-4747599550161408370 [label=\"Abstraction.create\" id=-4747599550161408370]\n\t-4747599550161408370 -> -4625004114204702497 [id=\"-4747599550161408370.args[0]\"]\n\t-4625004114204702497 [label=\"Abstraction.create_variable\" id=-4625004114204702497]\n\t-4625004114204702497 -> 4813215193752751230 [id=\"-4625004114204702497.args[0]\"]\n\t4813215193752751230 [label=\"Variable(4700247488)\" id=4813215193752751230]\n\t-4747599550161408370 -> 3308170723651583708 [id=\"-4747599550161408370.args[1]\"]\n\t3308170723651583708 [label=\"Either.left\" id=3308170723651583708]\n\t3308170723651583708 -> -4625004114204702497 [id=\"3308170723651583708.args[0]\"]\n\t-7484022018064687097 -> 5109073286877630545 [id=\"-8515717911257762846.args[1]\"]\n\t5109073286877630545 [label=\"Integer.from_int\" id=5109073286877630545]\n\t5109073286877630545 -> 5838084232112052900 [id=\"5109073286877630545.args[0]\"]\n\t5838084232112052900 [label=5 id=7756835102063988763]\n\t2218751614882757805 -> 6945425244518419199 [id=\"-601798127143681366.args[1]\"]\n\t6945425244518419199 [label=\"Maybe.match\" id=1291442120334238282]\n\t6945425244518419199 -> 2944773798775947601 [id=\"1291442120334238282.args[0]\"]\n\t2944773798775947601 [label=\"Converter.convert\" id=2944773798775947601]\n\t2944773798775947601 -> 5838084232112052900 [id=\"2944773798775947601.args[0]\"]\n\t6945425244518419199 -> 2703072876348085923 [id=\"1291442120334238282.args[1]\"]\n\t2703072876348085923 [label=\"Maybe.nothing\" id=2703072876348085923]\n\t6945425244518419199 -> 8498399876414447003 [id=\"1291442120334238282.args[2]\"]\n\t8498399876414447003 [label=\"Abstraction.__add__\" id=4616069827488363355]\n\t8498399876414447003 -> 856785412918421907 [id=\"4616069827488363355.args[0]\"]\n\t8498399876414447003 -> -2631096410235245811 [id=\"4616069827488363355.args[1]\"]\n\t-2631096410235245811 [label=\"Abstraction.create\" id=-2631096410235245811]\n\t-2631096410235245811 -> 4755030733478054666 [id=\"-2631096410235245811.args[0]\"]\n\t4755030733478054666 [label=\"Abstraction.create_variable\" id=4755030733478054666]\n\t4755030733478054666 -> -4410156857239801078 [id=\"4755030733478054666.args[0]\"]\n\t-4410156857239801078 [label=\"Variable(4700226952)\" id=-4410156857239801078]\n\t-2631096410235245811 -> 6506087961180873209 [id=\"-2631096410235245811.args[1]\"]\n\t6506087961180873209 [label=\"Either.right\" id=6506087961180873209]\n\t6506087961180873209 -> 4755030733478054666 [id=\"6506087961180873209.args[0]\"]\n\t-8008667647859116852 -> -4664464520583065041 [id=\"7902643172531125544.args[1]\"]\n\t-4664464520583065041 [label=\"Maybe.nothing\" id=-4664464520583065041]\n\t-8008667647859116852 -> 4664135465920369113 [id=\"7902643172531125544.args[2]\"]\n\t4664135465920369113 [label=\"Abstraction.__add__\" id=1487874569637105037]\n\t4664135465920369113 -> -9187846953603438100 [id=\"1487874569637105037.args[0]\"]\n\t4664135465920369113 -> 518509411827867796 [id=\"1487874569637105037.args[1]\"]\n\t518509411827867796 [label=\"Abstraction.create\" id=518509411827867796]\n\t518509411827867796 -> 468231498779743578 [id=\"518509411827867796.args[0]\"]\n\t468231498779743578 [label=\"Abstraction.create_variable\" id=468231498779743578]\n\t468231498779743578 -> -4410156857131548578 [id=\"468231498779743578.args[0]\"]\n\t-4410156857131548578 [label=\"Variable(4700226504)\" id=-4410156857131548578]\n\t518509411827867796 -> 5200602674581088372 [id=\"518509411827867796.args[1]\"]\n\t5200602674581088372 [label=\"NDArray.__getitem__\" id=5200602674581088372]\n\t5200602674581088372 -> -6414794420438946634 [id=\"5200602674581088372.args[0]\"]\n\t-6414794420438946634 [label=\"Pair.left\" id=-6414794420438946634]\n\t-6414794420438946634 -> 468231498779743578 [id=\"-6414794420438946634.args[0]\"]\n\t5200602674581088372 -> -1042568174412886162 [id=\"5200602674581088372.args[1]\"]\n\t-1042568174412886162 [label=\"Pair.right\" id=-1042568174412886162]\n\t-1042568174412886162 -> 468231498779743578 [id=\"-1042568174412886162.args[0]\"]\n}",
         "label": null,
         "rule": "metadsl_core.abstraction.Abstraction.from_fn"
        },
        {
         "graph": "digraph {\n\tnode [shape=plain]\n\tedge [arrowsize=0.5 penwidth=0.5]\n\t2859344359834789841 [label=\"NDArrayCompat.to_ndarray\" id=1935586180163463095]\n\t2859344359834789841 -> -7319541876481429273 [id=\"1935586180163463095.args[0]\"]\n\t-7319541876481429273 [label=\"NDArrayCompat.from_ndarray\" id=-7585266382721542195]\n\t-7319541876481429273 -> 4348056629779286384 [id=\"-7585266382721542195.args[0]\"]\n\t4348056629779286384 [label=\"Maybe.match\" id=7902643172531125544]\n\t4348056629779286384 -> 5659392155686545387 [id=\"7902643172531125544.args[0]\"]\n\t5659392155686545387 [label=\"Maybe.__and__\" id=3770459566127010284]\n\t5659392155686545387 -> 28407508120041940 [id=\"3770459566127010284.args[0]\"]\n\t28407508120041940 [label=\"Converter.convert\" id=-693852287426370102]\n\t28407508120041940 -> -7661338159994440658 [id=\"-693852287426370102.args[0]\"]\n\t-7661338159994440658 [label=\"NDArrayCompat.__add__\" id=2479618931988953124]\n\t-7661338159994440658 -> 3198608941824209254 [id=\"2479618931988953124.args[0]\"]\n\t3198608941824209254 [label=\"NDArrayCompat.from_ndarray\" id=-1050884032506130782]\n\t3198608941824209254 -> 4670090330723769874 [id=\"-1050884032506130782.args[0]\"]\n\t4670090330723769874 [label=\"Abstraction.__call__\" id=-710006793518321344]\n\t4670090330723769874 -> 7205870173436599564 [id=\"-710006793518321344.args[0]\"]\n\t7205870173436599564 [label=\"Abstraction.__add__\" id=6801381674161147896]\n\t7205870173436599564 -> -9187846953603438100 [id=\"6801381674161147896.args[0]\"]\n\t-9187846953603438100 [label=\"Abstraction.create\" id=-1095585159230285059]\n\t-9187846953603438100 -> 197579945959390516 [id=\"-1095585159230285059.args[0]\"]\n\t197579945959390516 [label=\"Abstraction.create_variable\" id=197579945959390516]\n\t197579945959390516 -> -4410156953898458328 [id=\"197579945959390516.args[0]\"]\n\t-4410156953898458328 [label=\"Variable(4700836136)\" id=-4410156953898458328]\n\t-9187846953603438100 -> -2962513676475920575 [id=\"-1095585159230285059.args[1]\"]\n\t-2962513676475920575 [label=\"Maybe.just\" id=-2962513676475920575]\n\t-2962513676475920575 -> 197579945959390516 [id=\"-2962513676475920575.args[0]\"]\n\t7205870173436599564 -> 3422393941435572874 [id=\"6801381674161147896.args[1]\"]\n\t3422393941435572874 [label=\"Abstraction.create\" id=3422393941435572874]\n\t3422393941435572874 -> 3481659688989734831 [id=\"3422393941435572874.args[0]\"]\n\t3481659688989734831 [label=\"Abstraction.create_variable\" id=3481659688989734831]\n\t3481659688989734831 -> 4813215188361776730 [id=\"3481659688989734831.args[0]\"]\n\t4813215188361776730 [label=\"Variable(4700360320)\" id=4813215188361776730]\n\t3422393941435572874 -> 5862299951965675192 [id=\"3422393941435572874.args[1]\"]\n\t5862299951965675192 [label=arange_ id=5862299951965675192]\n\t5862299951965675192 -> 3481659688989734831 [id=\"5862299951965675192.args[0]\"]\n\t4670090330723769874 -> 579615478629357154 [id=\"-710006793518321344.args[1]\"]\n\t579615478629357154 [label=\"Integer.from_int\" id=579615478629357154]\n\t579615478629357154 -> 5838084232007047975 [id=\"579615478629357154.args[0]\"]\n\t5838084232007047975 [label=100 id=6003697446393151645]\n\t-7661338159994440658 -> 3198608941824209254 [id=\"2479618931988953124.args[1]\"]\n\t5659392155686545387 -> 2218751614882757805 [id=\"3770459566127010284.args[1]\"]\n\t2218751614882757805 [label=\"Maybe.__or__\" id=-601798127143681366]\n\t2218751614882757805 -> -7484022018064687097 [id=\"-601798127143681366.args[0]\"]\n\t-7484022018064687097 [label=\"Abstraction.__call__\" id=-8515717911257762846]\n\t-7484022018064687097 -> 6749951301008775451 [id=\"-8515717911257762846.args[0]\"]\n\t6749951301008775451 [label=\"Abstraction.__add__\" id=1771017972727046875]\n\t6749951301008775451 -> 856785412918421907 [id=\"1771017972727046875.args[0]\"]\n\t856785412918421907 [label=\"Abstraction.create\" id=-6500393008186537515]\n\t856785412918421907 -> 9039111995028656601 [id=\"-6500393008186537515.args[0]\"]\n\t9039111995028656601 [label=\"Abstraction.create_variable\" id=9039111995028656601]\n\t9039111995028656601 -> -4410156933881488553 [id=\"9039111995028656601.args[0]\"]\n\t-4410156933881488553 [label=\"Variable(4701064440)\" id=-4410156933881488553]\n\t856785412918421907 -> -1346791124493721435 [id=\"-6500393008186537515.args[1]\"]\n\t-1346791124493721435 [label=\"Maybe.just\" id=-1346791124493721435]\n\t-1346791124493721435 -> 9039111995028656601 [id=\"-1346791124493721435.args[0]\"]\n\t6749951301008775451 -> -4747599550161408370 [id=\"1771017972727046875.args[1]\"]\n\t-4747599550161408370 [label=\"Abstraction.create\" id=-4747599550161408370]\n\t-4747599550161408370 -> -4625004114204702497 [id=\"-4747599550161408370.args[0]\"]\n\t-4625004114204702497 [label=\"Abstraction.create_variable\" id=-4625004114204702497]\n\t-4625004114204702497 -> 4813215193752751230 [id=\"-4625004114204702497.args[0]\"]\n\t4813215193752751230 [label=\"Variable(4700247488)\" id=4813215193752751230]\n\t-4747599550161408370 -> 3308170723651583708 [id=\"-4747599550161408370.args[1]\"]\n\t3308170723651583708 [label=\"Either.left\" id=3308170723651583708]\n\t3308170723651583708 -> -4625004114204702497 [id=\"3308170723651583708.args[0]\"]\n\t-7484022018064687097 -> 5109073286877630545 [id=\"-8515717911257762846.args[1]\"]\n\t5109073286877630545 [label=\"Integer.from_int\" id=5109073286877630545]\n\t5109073286877630545 -> 5838084232112052900 [id=\"5109073286877630545.args[0]\"]\n\t5838084232112052900 [label=5 id=7756835102063988763]\n\t2218751614882757805 -> 6945425244518419199 [id=\"-601798127143681366.args[1]\"]\n\t6945425244518419199 [label=\"Maybe.match\" id=1291442120334238282]\n\t6945425244518419199 -> 2944773798775947601 [id=\"1291442120334238282.args[0]\"]\n\t2944773798775947601 [label=\"Converter.convert\" id=2944773798775947601]\n\t2944773798775947601 -> 5838084232112052900 [id=\"2944773798775947601.args[0]\"]\n\t6945425244518419199 -> 2703072876348085923 [id=\"1291442120334238282.args[1]\"]\n\t2703072876348085923 [label=\"Maybe.nothing\" id=2703072876348085923]\n\t6945425244518419199 -> 8498399876414447003 [id=\"1291442120334238282.args[2]\"]\n\t8498399876414447003 [label=\"Abstraction.__add__\" id=4616069827488363355]\n\t8498399876414447003 -> 856785412918421907 [id=\"4616069827488363355.args[0]\"]\n\t8498399876414447003 -> -2631096410235245811 [id=\"4616069827488363355.args[1]\"]\n\t-2631096410235245811 [label=\"Abstraction.create\" id=-2631096410235245811]\n\t-2631096410235245811 -> 4755030733478054666 [id=\"-2631096410235245811.args[0]\"]\n\t4755030733478054666 [label=\"Abstraction.create_variable\" id=4755030733478054666]\n\t4755030733478054666 -> -4410156857239801078 [id=\"4755030733478054666.args[0]\"]\n\t-4410156857239801078 [label=\"Variable(4700226952)\" id=-4410156857239801078]\n\t-2631096410235245811 -> 6506087961180873209 [id=\"-2631096410235245811.args[1]\"]\n\t6506087961180873209 [label=\"Either.right\" id=6506087961180873209]\n\t6506087961180873209 -> 4755030733478054666 [id=\"6506087961180873209.args[0]\"]\n\t4348056629779286384 -> -4664464520583065041 [id=\"7902643172531125544.args[1]\"]\n\t-4664464520583065041 [label=\"Maybe.nothing\" id=-4664464520583065041]\n\t4348056629779286384 -> 3824186961073615606 [id=\"7902643172531125544.args[2]\"]\n\t3824186961073615606 [label=\"Abstraction.create\" id=3824186961073615606]\n\t3824186961073615606 -> 468231498779743578 [id=\"3824186961073615606.args[0]\"]\n\t468231498779743578 [label=\"Abstraction.create_variable\" id=468231498779743578]\n\t468231498779743578 -> -4410156857131548578 [id=\"468231498779743578.args[0]\"]\n\t-4410156857131548578 [label=\"Variable(4700226504)\" id=-4410156857131548578]\n\t3824186961073615606 -> -3621155432722573253 [id=\"3824186961073615606.args[1]\"]\n\t-3621155432722573253 [label=\"Maybe.just\" id=-3621155432722573253]\n\t-3621155432722573253 -> 5200602674581088372 [id=\"-3621155432722573253.args[0]\"]\n\t5200602674581088372 [label=\"NDArray.__getitem__\" id=5200602674581088372]\n\t5200602674581088372 -> -6414794420438946634 [id=\"5200602674581088372.args[0]\"]\n\t-6414794420438946634 [label=\"Pair.left\" id=-6414794420438946634]\n\t-6414794420438946634 -> 468231498779743578 [id=\"-6414794420438946634.args[0]\"]\n\t5200602674581088372 -> -1042568174412886162 [id=\"5200602674581088372.args[1]\"]\n\t-1042568174412886162 [label=\"Pair.right\" id=-1042568174412886162]\n\t-1042568174412886162 -> 468231498779743578 [id=\"-1042568174412886162.args[0]\"]\n}",
         "label": null,
         "rule": "metadsl_core.abstraction.compose"
        },
        {
         "graph": "digraph {\n\tnode [shape=plain]\n\tedge [arrowsize=0.5 penwidth=0.5]\n\t2853526785382423624 [label=\"NDArrayCompat.to_ndarray\" id=1935586180163463095]\n\t2853526785382423624 -> 494967562214894105 [id=\"1935586180163463095.args[0]\"]\n\t494967562214894105 [label=\"NDArrayCompat.from_ndarray\" id=-7585266382721542195]\n\t494967562214894105 -> -5523419275082759935 [id=\"-7585266382721542195.args[0]\"]\n\t-5523419275082759935 [label=\"Maybe.match\" id=7902643172531125544]\n\t-5523419275082759935 -> 2006669620355233138 [id=\"7902643172531125544.args[0]\"]\n\t2006669620355233138 [label=\"Maybe.__and__\" id=3770459566127010284]\n\t2006669620355233138 -> 28407508120041940 [id=\"3770459566127010284.args[0]\"]\n\t28407508120041940 [label=\"Converter.convert\" id=-693852287426370102]\n\t28407508120041940 -> -7661338159994440658 [id=\"-693852287426370102.args[0]\"]\n\t-7661338159994440658 [label=\"NDArrayCompat.__add__\" id=2479618931988953124]\n\t-7661338159994440658 -> 3198608941824209254 [id=\"2479618931988953124.args[0]\"]\n\t3198608941824209254 [label=\"NDArrayCompat.from_ndarray\" id=-1050884032506130782]\n\t3198608941824209254 -> 4670090330723769874 [id=\"-1050884032506130782.args[0]\"]\n\t4670090330723769874 [label=\"Abstraction.__call__\" id=-710006793518321344]\n\t4670090330723769874 -> 7205870173436599564 [id=\"-710006793518321344.args[0]\"]\n\t7205870173436599564 [label=\"Abstraction.__add__\" id=6801381674161147896]\n\t7205870173436599564 -> -9187846953603438100 [id=\"6801381674161147896.args[0]\"]\n\t-9187846953603438100 [label=\"Abstraction.create\" id=-1095585159230285059]\n\t-9187846953603438100 -> 197579945959390516 [id=\"-1095585159230285059.args[0]\"]\n\t197579945959390516 [label=\"Abstraction.create_variable\" id=197579945959390516]\n\t197579945959390516 -> -4410156953898458328 [id=\"197579945959390516.args[0]\"]\n\t-4410156953898458328 [label=\"Variable(4700836136)\" id=-4410156953898458328]\n\t-9187846953603438100 -> -2962513676475920575 [id=\"-1095585159230285059.args[1]\"]\n\t-2962513676475920575 [label=\"Maybe.just\" id=-2962513676475920575]\n\t-2962513676475920575 -> 197579945959390516 [id=\"-2962513676475920575.args[0]\"]\n\t7205870173436599564 -> 3422393941435572874 [id=\"6801381674161147896.args[1]\"]\n\t3422393941435572874 [label=\"Abstraction.create\" id=3422393941435572874]\n\t3422393941435572874 -> 3481659688989734831 [id=\"3422393941435572874.args[0]\"]\n\t3481659688989734831 [label=\"Abstraction.create_variable\" id=3481659688989734831]\n\t3481659688989734831 -> 4813215188361776730 [id=\"3481659688989734831.args[0]\"]\n\t4813215188361776730 [label=\"Variable(4700360320)\" id=4813215188361776730]\n\t3422393941435572874 -> 5862299951965675192 [id=\"3422393941435572874.args[1]\"]\n\t5862299951965675192 [label=arange_ id=5862299951965675192]\n\t5862299951965675192 -> 3481659688989734831 [id=\"5862299951965675192.args[0]\"]\n\t4670090330723769874 -> 579615478629357154 [id=\"-710006793518321344.args[1]\"]\n\t579615478629357154 [label=\"Integer.from_int\" id=579615478629357154]\n\t579615478629357154 -> 5838084232007047975 [id=\"579615478629357154.args[0]\"]\n\t5838084232007047975 [label=100 id=6003697446393151645]\n\t-7661338159994440658 -> 3198608941824209254 [id=\"2479618931988953124.args[1]\"]\n\t2006669620355233138 -> 7762550062654040263 [id=\"3770459566127010284.args[1]\"]\n\t7762550062654040263 [label=\"Maybe.__or__\" id=-601798127143681366]\n\t7762550062654040263 -> -7484022018064687097 [id=\"-601798127143681366.args[0]\"]\n\t-7484022018064687097 [label=\"Abstraction.__call__\" id=-8515717911257762846]\n\t-7484022018064687097 -> 6749951301008775451 [id=\"-8515717911257762846.args[0]\"]\n\t6749951301008775451 [label=\"Abstraction.__add__\" id=1771017972727046875]\n\t6749951301008775451 -> 856785412918421907 [id=\"1771017972727046875.args[0]\"]\n\t856785412918421907 [label=\"Abstraction.create\" id=-6500393008186537515]\n\t856785412918421907 -> 9039111995028656601 [id=\"-6500393008186537515.args[0]\"]\n\t9039111995028656601 [label=\"Abstraction.create_variable\" id=9039111995028656601]\n\t9039111995028656601 -> -4410156933881488553 [id=\"9039111995028656601.args[0]\"]\n\t-4410156933881488553 [label=\"Variable(4701064440)\" id=-4410156933881488553]\n\t856785412918421907 -> -1346791124493721435 [id=\"-6500393008186537515.args[1]\"]\n\t-1346791124493721435 [label=\"Maybe.just\" id=-1346791124493721435]\n\t-1346791124493721435 -> 9039111995028656601 [id=\"-1346791124493721435.args[0]\"]\n\t6749951301008775451 -> -4747599550161408370 [id=\"1771017972727046875.args[1]\"]\n\t-4747599550161408370 [label=\"Abstraction.create\" id=-4747599550161408370]\n\t-4747599550161408370 -> -4625004114204702497 [id=\"-4747599550161408370.args[0]\"]\n\t-4625004114204702497 [label=\"Abstraction.create_variable\" id=-4625004114204702497]\n\t-4625004114204702497 -> 4813215193752751230 [id=\"-4625004114204702497.args[0]\"]\n\t4813215193752751230 [label=\"Variable(4700247488)\" id=4813215193752751230]\n\t-4747599550161408370 -> 3308170723651583708 [id=\"-4747599550161408370.args[1]\"]\n\t3308170723651583708 [label=\"Either.left\" id=3308170723651583708]\n\t3308170723651583708 -> -4625004114204702497 [id=\"3308170723651583708.args[0]\"]\n\t-7484022018064687097 -> 5109073286877630545 [id=\"-8515717911257762846.args[1]\"]\n\t5109073286877630545 [label=\"Integer.from_int\" id=5109073286877630545]\n\t5109073286877630545 -> 5838084232112052900 [id=\"5109073286877630545.args[0]\"]\n\t5838084232112052900 [label=5 id=7756835102063988763]\n\t7762550062654040263 -> 3931380370487318699 [id=\"-601798127143681366.args[1]\"]\n\t3931380370487318699 [label=\"Maybe.match\" id=1291442120334238282]\n\t3931380370487318699 -> 2944773798775947601 [id=\"1291442120334238282.args[0]\"]\n\t2944773798775947601 [label=\"Converter.convert\" id=2944773798775947601]\n\t2944773798775947601 -> 5838084232112052900 [id=\"2944773798775947601.args[0]\"]\n\t3931380370487318699 -> 2703072876348085923 [id=\"1291442120334238282.args[1]\"]\n\t2703072876348085923 [label=\"Maybe.nothing\" id=2703072876348085923]\n\t3931380370487318699 -> -5570393124951192012 [id=\"1291442120334238282.args[2]\"]\n\t-5570393124951192012 [label=\"Abstraction.create\" id=4616069827488363355]\n\t-5570393124951192012 -> 4755030733478054666 [id=\"4616069827488363355.args[0]\"]\n\t4755030733478054666 [label=\"Abstraction.create_variable\" id=4755030733478054666]\n\t4755030733478054666 -> -4410156857239801078 [id=\"4755030733478054666.args[0]\"]\n\t-4410156857239801078 [label=\"Variable(4700226952)\" id=-4410156857239801078]\n\t-5570393124951192012 -> -1842874830169421666 [id=\"4616069827488363355.args[1]\"]\n\t-1842874830169421666 [label=\"Maybe.just\" id=-1842874830169421666]\n\t-1842874830169421666 -> 6506087961180873209 [id=\"-1842874830169421666.args[0]\"]\n\t6506087961180873209 [label=\"Either.right\" id=6506087961180873209]\n\t6506087961180873209 -> 4755030733478054666 [id=\"6506087961180873209.args[0]\"]\n\t-5523419275082759935 -> -4664464520583065041 [id=\"7902643172531125544.args[1]\"]\n\t-4664464520583065041 [label=\"Maybe.nothing\" id=-4664464520583065041]\n\t-5523419275082759935 -> 3824186961073615606 [id=\"7902643172531125544.args[2]\"]\n\t3824186961073615606 [label=\"Abstraction.create\" id=3824186961073615606]\n\t3824186961073615606 -> 468231498779743578 [id=\"3824186961073615606.args[0]\"]\n\t468231498779743578 [label=\"Abstraction.create_variable\" id=468231498779743578]\n\t468231498779743578 -> -4410156857131548578 [id=\"468231498779743578.args[0]\"]\n\t-4410156857131548578 [label=\"Variable(4700226504)\" id=-4410156857131548578]\n\t3824186961073615606 -> -3621155432722573253 [id=\"3824186961073615606.args[1]\"]\n\t-3621155432722573253 [label=\"Maybe.just\" id=-3621155432722573253]\n\t-3621155432722573253 -> 5200602674581088372 [id=\"-3621155432722573253.args[0]\"]\n\t5200602674581088372 [label=\"NDArray.__getitem__\" id=5200602674581088372]\n\t5200602674581088372 -> -6414794420438946634 [id=\"5200602674581088372.args[0]\"]\n\t-6414794420438946634 [label=\"Pair.left\" id=-6414794420438946634]\n\t-6414794420438946634 -> 468231498779743578 [id=\"-6414794420438946634.args[0]\"]\n\t5200602674581088372 -> -1042568174412886162 [id=\"5200602674581088372.args[1]\"]\n\t-1042568174412886162 [label=\"Pair.right\" id=-1042568174412886162]\n\t-1042568174412886162 -> 468231498779743578 [id=\"-1042568174412886162.args[0]\"]\n}",
         "label": null,
         "rule": "metadsl_core.abstraction.compose"
        },
        {
         "graph": "digraph {\n\tnode [shape=plain]\n\tedge [arrowsize=0.5 penwidth=0.5]\n\t-2543642831653205362 [label=\"NDArrayCompat.to_ndarray\" id=1935586180163463095]\n\t-2543642831653205362 -> -971104946198044689 [id=\"1935586180163463095.args[0]\"]\n\t-971104946198044689 [label=\"NDArrayCompat.from_ndarray\" id=-7585266382721542195]\n\t-971104946198044689 -> 6383802083390335751 [id=\"-7585266382721542195.args[0]\"]\n\t6383802083390335751 [label=\"Maybe.match\" id=7902643172531125544]\n\t6383802083390335751 -> 865707262714063924 [id=\"7902643172531125544.args[0]\"]\n\t865707262714063924 [label=\"Maybe.__and__\" id=3770459566127010284]\n\t865707262714063924 -> 28407508120041940 [id=\"3770459566127010284.args[0]\"]\n\t28407508120041940 [label=\"Converter.convert\" id=-693852287426370102]\n\t28407508120041940 -> -7661338159994440658 [id=\"-693852287426370102.args[0]\"]\n\t-7661338159994440658 [label=\"NDArrayCompat.__add__\" id=2479618931988953124]\n\t-7661338159994440658 -> 3198608941824209254 [id=\"2479618931988953124.args[0]\"]\n\t3198608941824209254 [label=\"NDArrayCompat.from_ndarray\" id=-1050884032506130782]\n\t3198608941824209254 -> 4670090330723769874 [id=\"-1050884032506130782.args[0]\"]\n\t4670090330723769874 [label=\"Abstraction.__call__\" id=-710006793518321344]\n\t4670090330723769874 -> 7205870173436599564 [id=\"-710006793518321344.args[0]\"]\n\t7205870173436599564 [label=\"Abstraction.__add__\" id=6801381674161147896]\n\t7205870173436599564 -> -9187846953603438100 [id=\"6801381674161147896.args[0]\"]\n\t-9187846953603438100 [label=\"Abstraction.create\" id=-1095585159230285059]\n\t-9187846953603438100 -> 197579945959390516 [id=\"-1095585159230285059.args[0]\"]\n\t197579945959390516 [label=\"Abstraction.create_variable\" id=197579945959390516]\n\t197579945959390516 -> -4410156953898458328 [id=\"197579945959390516.args[0]\"]\n\t-4410156953898458328 [label=\"Variable(4700836136)\" id=-4410156953898458328]\n\t-9187846953603438100 -> -2962513676475920575 [id=\"-1095585159230285059.args[1]\"]\n\t-2962513676475920575 [label=\"Maybe.just\" id=-2962513676475920575]\n\t-2962513676475920575 -> 197579945959390516 [id=\"-2962513676475920575.args[0]\"]\n\t7205870173436599564 -> 3422393941435572874 [id=\"6801381674161147896.args[1]\"]\n\t3422393941435572874 [label=\"Abstraction.create\" id=3422393941435572874]\n\t3422393941435572874 -> 3481659688989734831 [id=\"3422393941435572874.args[0]\"]\n\t3481659688989734831 [label=\"Abstraction.create_variable\" id=3481659688989734831]\n\t3481659688989734831 -> 4813215188361776730 [id=\"3481659688989734831.args[0]\"]\n\t4813215188361776730 [label=\"Variable(4700360320)\" id=4813215188361776730]\n\t3422393941435572874 -> 5862299951965675192 [id=\"3422393941435572874.args[1]\"]\n\t5862299951965675192 [label=arange_ id=5862299951965675192]\n\t5862299951965675192 -> 3481659688989734831 [id=\"5862299951965675192.args[0]\"]\n\t4670090330723769874 -> 579615478629357154 [id=\"-710006793518321344.args[1]\"]\n\t579615478629357154 [label=\"Integer.from_int\" id=579615478629357154]\n\t579615478629357154 -> 5838084232007047975 [id=\"579615478629357154.args[0]\"]\n\t5838084232007047975 [label=100 id=6003697446393151645]\n\t-7661338159994440658 -> 3198608941824209254 [id=\"2479618931988953124.args[1]\"]\n\t865707262714063924 -> -7341282861926611629 [id=\"3770459566127010284.args[1]\"]\n\t-7341282861926611629 [label=\"Maybe.__or__\" id=-601798127143681366]\n\t-7341282861926611629 -> 7138771968961129037 [id=\"-601798127143681366.args[0]\"]\n\t7138771968961129037 [label=\"Abstraction.__call__\" id=-8515717911257762846]\n\t7138771968961129037 -> 2445145776796725530 [id=\"-8515717911257762846.args[0]\"]\n\t2445145776796725530 [label=\"Abstraction.create\" id=1771017972727046875]\n\t2445145776796725530 -> -4625004114204702497 [id=\"1771017972727046875.args[0]\"]\n\t-4625004114204702497 [label=\"Abstraction.create_variable\" id=-4625004114204702497]\n\t-4625004114204702497 -> 4813215193752751230 [id=\"-4625004114204702497.args[0]\"]\n\t4813215193752751230 [label=\"Variable(4700247488)\" id=4813215193752751230]\n\t2445145776796725530 -> -3362466327091909016 [id=\"1771017972727046875.args[1]\"]\n\t-3362466327091909016 [label=\"Maybe.just\" id=-3362466327091909016]\n\t-3362466327091909016 -> 3308170723651583708 [id=\"-3362466327091909016.args[0]\"]\n\t3308170723651583708 [label=\"Either.left\" id=3308170723651583708]\n\t3308170723651583708 -> -4625004114204702497 [id=\"3308170723651583708.args[0]\"]\n\t7138771968961129037 -> 5109073286877630545 [id=\"-8515717911257762846.args[1]\"]\n\t5109073286877630545 [label=\"Integer.from_int\" id=5109073286877630545]\n\t5109073286877630545 -> 5838084232112052900 [id=\"5109073286877630545.args[0]\"]\n\t5838084232112052900 [label=5 id=7756835102063988763]\n\t-7341282861926611629 -> 3931380370487318699 [id=\"-601798127143681366.args[1]\"]\n\t3931380370487318699 [label=\"Maybe.match\" id=1291442120334238282]\n\t3931380370487318699 -> 2944773798775947601 [id=\"1291442120334238282.args[0]\"]\n\t2944773798775947601 [label=\"Converter.convert\" id=2944773798775947601]\n\t2944773798775947601 -> 5838084232112052900 [id=\"2944773798775947601.args[0]\"]\n\t3931380370487318699 -> 2703072876348085923 [id=\"1291442120334238282.args[1]\"]\n\t2703072876348085923 [label=\"Maybe.nothing\" id=2703072876348085923]\n\t3931380370487318699 -> -5570393124951192012 [id=\"1291442120334238282.args[2]\"]\n\t-5570393124951192012 [label=\"Abstraction.create\" id=4616069827488363355]\n\t-5570393124951192012 -> 4755030733478054666 [id=\"4616069827488363355.args[0]\"]\n\t4755030733478054666 [label=\"Abstraction.create_variable\" id=4755030733478054666]\n\t4755030733478054666 -> -4410156857239801078 [id=\"4755030733478054666.args[0]\"]\n\t-4410156857239801078 [label=\"Variable(4700226952)\" id=-4410156857239801078]\n\t-5570393124951192012 -> -1842874830169421666 [id=\"4616069827488363355.args[1]\"]\n\t-1842874830169421666 [label=\"Maybe.just\" id=-1842874830169421666]\n\t-1842874830169421666 -> 6506087961180873209 [id=\"-1842874830169421666.args[0]\"]\n\t6506087961180873209 [label=\"Either.right\" id=6506087961180873209]\n\t6506087961180873209 -> 4755030733478054666 [id=\"6506087961180873209.args[0]\"]\n\t6383802083390335751 -> -4664464520583065041 [id=\"7902643172531125544.args[1]\"]\n\t-4664464520583065041 [label=\"Maybe.nothing\" id=-4664464520583065041]\n\t6383802083390335751 -> 3824186961073615606 [id=\"7902643172531125544.args[2]\"]\n\t3824186961073615606 [label=\"Abstraction.create\" id=3824186961073615606]\n\t3824186961073615606 -> 468231498779743578 [id=\"3824186961073615606.args[0]\"]\n\t468231498779743578 [label=\"Abstraction.create_variable\" id=468231498779743578]\n\t468231498779743578 -> -4410156857131548578 [id=\"468231498779743578.args[0]\"]\n\t-4410156857131548578 [label=\"Variable(4700226504)\" id=-4410156857131548578]\n\t3824186961073615606 -> -3621155432722573253 [id=\"3824186961073615606.args[1]\"]\n\t-3621155432722573253 [label=\"Maybe.just\" id=-3621155432722573253]\n\t-3621155432722573253 -> 5200602674581088372 [id=\"-3621155432722573253.args[0]\"]\n\t5200602674581088372 [label=\"NDArray.__getitem__\" id=5200602674581088372]\n\t5200602674581088372 -> -6414794420438946634 [id=\"5200602674581088372.args[0]\"]\n\t-6414794420438946634 [label=\"Pair.left\" id=-6414794420438946634]\n\t-6414794420438946634 -> 468231498779743578 [id=\"-6414794420438946634.args[0]\"]\n\t5200602674581088372 -> -1042568174412886162 [id=\"5200602674581088372.args[1]\"]\n\t-1042568174412886162 [label=\"Pair.right\" id=-1042568174412886162]\n\t-1042568174412886162 -> 468231498779743578 [id=\"-1042568174412886162.args[0]\"]\n}",
         "label": null,
         "rule": "metadsl_core.abstraction.compose"
        },
        {
         "graph": "digraph {\n\tnode [shape=plain]\n\tedge [arrowsize=0.5 penwidth=0.5]\n\t-1529447170174692193 [label=\"NDArrayCompat.to_ndarray\" id=1935586180163463095]\n\t-1529447170174692193 -> -697434818483336094 [id=\"1935586180163463095.args[0]\"]\n\t-697434818483336094 [label=\"NDArrayCompat.from_ndarray\" id=-7585266382721542195]\n\t-697434818483336094 -> 6249862171060341502 [id=\"-7585266382721542195.args[0]\"]\n\t6249862171060341502 [label=\"Maybe.match\" id=7902643172531125544]\n\t6249862171060341502 -> -7755731675456949430 [id=\"7902643172531125544.args[0]\"]\n\t-7755731675456949430 [label=\"Maybe.__and__\" id=3770459566127010284]\n\t-7755731675456949430 -> 28407508120041940 [id=\"3770459566127010284.args[0]\"]\n\t28407508120041940 [label=\"Converter.convert\" id=-693852287426370102]\n\t28407508120041940 -> -7661338159994440658 [id=\"-693852287426370102.args[0]\"]\n\t-7661338159994440658 [label=\"NDArrayCompat.__add__\" id=2479618931988953124]\n\t-7661338159994440658 -> 3198608941824209254 [id=\"2479618931988953124.args[0]\"]\n\t3198608941824209254 [label=\"NDArrayCompat.from_ndarray\" id=-1050884032506130782]\n\t3198608941824209254 -> 4670090330723769874 [id=\"-1050884032506130782.args[0]\"]\n\t4670090330723769874 [label=\"Abstraction.__call__\" id=-710006793518321344]\n\t4670090330723769874 -> 7205870173436599564 [id=\"-710006793518321344.args[0]\"]\n\t7205870173436599564 [label=\"Abstraction.__add__\" id=6801381674161147896]\n\t7205870173436599564 -> -9187846953603438100 [id=\"6801381674161147896.args[0]\"]\n\t-9187846953603438100 [label=\"Abstraction.create\" id=-1095585159230285059]\n\t-9187846953603438100 -> 197579945959390516 [id=\"-1095585159230285059.args[0]\"]\n\t197579945959390516 [label=\"Abstraction.create_variable\" id=197579945959390516]\n\t197579945959390516 -> -4410156953898458328 [id=\"197579945959390516.args[0]\"]\n\t-4410156953898458328 [label=\"Variable(4700836136)\" id=-4410156953898458328]\n\t-9187846953603438100 -> -2962513676475920575 [id=\"-1095585159230285059.args[1]\"]\n\t-2962513676475920575 [label=\"Maybe.just\" id=-2962513676475920575]\n\t-2962513676475920575 -> 197579945959390516 [id=\"-2962513676475920575.args[0]\"]\n\t7205870173436599564 -> 3422393941435572874 [id=\"6801381674161147896.args[1]\"]\n\t3422393941435572874 [label=\"Abstraction.create\" id=3422393941435572874]\n\t3422393941435572874 -> 3481659688989734831 [id=\"3422393941435572874.args[0]\"]\n\t3481659688989734831 [label=\"Abstraction.create_variable\" id=3481659688989734831]\n\t3481659688989734831 -> 4813215188361776730 [id=\"3481659688989734831.args[0]\"]\n\t4813215188361776730 [label=\"Variable(4700360320)\" id=4813215188361776730]\n\t3422393941435572874 -> 5862299951965675192 [id=\"3422393941435572874.args[1]\"]\n\t5862299951965675192 [label=arange_ id=5862299951965675192]\n\t5862299951965675192 -> 3481659688989734831 [id=\"5862299951965675192.args[0]\"]\n\t4670090330723769874 -> 579615478629357154 [id=\"-710006793518321344.args[1]\"]\n\t579615478629357154 [label=\"Integer.from_int\" id=579615478629357154]\n\t579615478629357154 -> 5838084232007047975 [id=\"579615478629357154.args[0]\"]\n\t5838084232007047975 [label=100 id=6003697446393151645]\n\t-7661338159994440658 -> 3198608941824209254 [id=\"2479618931988953124.args[1]\"]\n\t-7755731675456949430 -> -263414093149551726 [id=\"3770459566127010284.args[1]\"]\n\t-263414093149551726 [label=\"Maybe.__or__\" id=-601798127143681366]\n\t-263414093149551726 -> -3000247746444544398 [id=\"-601798127143681366.args[0]\"]\n\t-3000247746444544398 [label=\"Maybe.just\" id=-8515717911257762846]\n\t-3000247746444544398 -> -7067585356806477310 [id=\"-8515717911257762846.args[0]\"]\n\t-7067585356806477310 [label=\"Either.left\" id=-7067585356806477310]\n\t-7067585356806477310 -> 5109073286877630545 [id=\"-7067585356806477310.args[0]\"]\n\t5109073286877630545 [label=\"Integer.from_int\" id=5109073286877630545]\n\t5109073286877630545 -> 5838084232112052900 [id=\"5109073286877630545.args[0]\"]\n\t5838084232112052900 [label=5 id=7756835102063988763]\n\t-263414093149551726 -> 3931380370487318699 [id=\"-601798127143681366.args[1]\"]\n\t3931380370487318699 [label=\"Maybe.match\" id=1291442120334238282]\n\t3931380370487318699 -> 2944773798775947601 [id=\"1291442120334238282.args[0]\"]\n\t2944773798775947601 [label=\"Converter.convert\" id=2944773798775947601]\n\t2944773798775947601 -> 5838084232112052900 [id=\"2944773798775947601.args[0]\"]\n\t3931380370487318699 -> 2703072876348085923 [id=\"1291442120334238282.args[1]\"]\n\t2703072876348085923 [label=\"Maybe.nothing\" id=2703072876348085923]\n\t3931380370487318699 -> -5570393124951192012 [id=\"1291442120334238282.args[2]\"]\n\t-5570393124951192012 [label=\"Abstraction.create\" id=4616069827488363355]\n\t-5570393124951192012 -> 4755030733478054666 [id=\"4616069827488363355.args[0]\"]\n\t4755030733478054666 [label=\"Abstraction.create_variable\" id=4755030733478054666]\n\t4755030733478054666 -> -4410156857239801078 [id=\"4755030733478054666.args[0]\"]\n\t-4410156857239801078 [label=\"Variable(4700226952)\" id=-4410156857239801078]\n\t-5570393124951192012 -> -1842874830169421666 [id=\"4616069827488363355.args[1]\"]\n\t-1842874830169421666 [label=\"Maybe.just\" id=-1842874830169421666]\n\t-1842874830169421666 -> 6506087961180873209 [id=\"-1842874830169421666.args[0]\"]\n\t6506087961180873209 [label=\"Either.right\" id=6506087961180873209]\n\t6506087961180873209 -> 4755030733478054666 [id=\"6506087961180873209.args[0]\"]\n\t6249862171060341502 -> -4664464520583065041 [id=\"7902643172531125544.args[1]\"]\n\t-4664464520583065041 [label=\"Maybe.nothing\" id=-4664464520583065041]\n\t6249862171060341502 -> 3824186961073615606 [id=\"7902643172531125544.args[2]\"]\n\t3824186961073615606 [label=\"Abstraction.create\" id=3824186961073615606]\n\t3824186961073615606 -> 468231498779743578 [id=\"3824186961073615606.args[0]\"]\n\t468231498779743578 [label=\"Abstraction.create_variable\" id=468231498779743578]\n\t468231498779743578 -> -4410156857131548578 [id=\"468231498779743578.args[0]\"]\n\t-4410156857131548578 [label=\"Variable(4700226504)\" id=-4410156857131548578]\n\t3824186961073615606 -> -3621155432722573253 [id=\"3824186961073615606.args[1]\"]\n\t-3621155432722573253 [label=\"Maybe.just\" id=-3621155432722573253]\n\t-3621155432722573253 -> 5200602674581088372 [id=\"-3621155432722573253.args[0]\"]\n\t5200602674581088372 [label=\"NDArray.__getitem__\" id=5200602674581088372]\n\t5200602674581088372 -> -6414794420438946634 [id=\"5200602674581088372.args[0]\"]\n\t-6414794420438946634 [label=\"Pair.left\" id=-6414794420438946634]\n\t-6414794420438946634 -> 468231498779743578 [id=\"-6414794420438946634.args[0]\"]\n\t5200602674581088372 -> -1042568174412886162 [id=\"5200602674581088372.args[1]\"]\n\t-1042568174412886162 [label=\"Pair.right\" id=-1042568174412886162]\n\t-1042568174412886162 -> 468231498779743578 [id=\"-1042568174412886162.args[0]\"]\n}",
         "label": null,
         "rule": "metadsl_core.abstraction.beta_reduce"
        },
        {
         "graph": "digraph {\n\tnode [shape=plain]\n\tedge [arrowsize=0.5 penwidth=0.5]\n\t6194885569319287846 [label=\"NDArrayCompat.to_ndarray\" id=1935586180163463095]\n\t6194885569319287846 -> 8671077214046973556 [id=\"1935586180163463095.args[0]\"]\n\t8671077214046973556 [label=\"NDArrayCompat.from_ndarray\" id=-7585266382721542195]\n\t8671077214046973556 -> 5654487937442623020 [id=\"-7585266382721542195.args[0]\"]\n\t5654487937442623020 [label=\"Maybe.match\" id=7902643172531125544]\n\t5654487937442623020 -> 3453706505360842280 [id=\"7902643172531125544.args[0]\"]\n\t3453706505360842280 [label=\"Maybe.__and__\" id=3770459566127010284]\n\t3453706505360842280 -> 28407508120041940 [id=\"3770459566127010284.args[0]\"]\n\t28407508120041940 [label=\"Converter.convert\" id=-693852287426370102]\n\t28407508120041940 -> -7661338159994440658 [id=\"-693852287426370102.args[0]\"]\n\t-7661338159994440658 [label=\"NDArrayCompat.__add__\" id=2479618931988953124]\n\t-7661338159994440658 -> 3198608941824209254 [id=\"2479618931988953124.args[0]\"]\n\t3198608941824209254 [label=\"NDArrayCompat.from_ndarray\" id=-1050884032506130782]\n\t3198608941824209254 -> 4670090330723769874 [id=\"-1050884032506130782.args[0]\"]\n\t4670090330723769874 [label=\"Abstraction.__call__\" id=-710006793518321344]\n\t4670090330723769874 -> 7205870173436599564 [id=\"-710006793518321344.args[0]\"]\n\t7205870173436599564 [label=\"Abstraction.__add__\" id=6801381674161147896]\n\t7205870173436599564 -> -9187846953603438100 [id=\"6801381674161147896.args[0]\"]\n\t-9187846953603438100 [label=\"Abstraction.create\" id=-1095585159230285059]\n\t-9187846953603438100 -> 197579945959390516 [id=\"-1095585159230285059.args[0]\"]\n\t197579945959390516 [label=\"Abstraction.create_variable\" id=197579945959390516]\n\t197579945959390516 -> -4410156953898458328 [id=\"197579945959390516.args[0]\"]\n\t-4410156953898458328 [label=\"Variable(4700836136)\" id=-4410156953898458328]\n\t-9187846953603438100 -> -2962513676475920575 [id=\"-1095585159230285059.args[1]\"]\n\t-2962513676475920575 [label=\"Maybe.just\" id=-2962513676475920575]\n\t-2962513676475920575 -> 197579945959390516 [id=\"-2962513676475920575.args[0]\"]\n\t7205870173436599564 -> 3422393941435572874 [id=\"6801381674161147896.args[1]\"]\n\t3422393941435572874 [label=\"Abstraction.create\" id=3422393941435572874]\n\t3422393941435572874 -> 3481659688989734831 [id=\"3422393941435572874.args[0]\"]\n\t3481659688989734831 [label=\"Abstraction.create_variable\" id=3481659688989734831]\n\t3481659688989734831 -> 4813215188361776730 [id=\"3481659688989734831.args[0]\"]\n\t4813215188361776730 [label=\"Variable(4700360320)\" id=4813215188361776730]\n\t3422393941435572874 -> 5862299951965675192 [id=\"3422393941435572874.args[1]\"]\n\t5862299951965675192 [label=arange_ id=5862299951965675192]\n\t5862299951965675192 -> 3481659688989734831 [id=\"5862299951965675192.args[0]\"]\n\t4670090330723769874 -> 579615478629357154 [id=\"-710006793518321344.args[1]\"]\n\t579615478629357154 [label=\"Integer.from_int\" id=579615478629357154]\n\t579615478629357154 -> 5838084232007047975 [id=\"579615478629357154.args[0]\"]\n\t5838084232007047975 [label=100 id=6003697446393151645]\n\t-7661338159994440658 -> 3198608941824209254 [id=\"2479618931988953124.args[1]\"]\n\t3453706505360842280 -> -255592637557283532 [id=\"3770459566127010284.args[1]\"]\n\t-255592637557283532 [label=\"Maybe.just\" id=-601798127143681366]\n\t-255592637557283532 -> -7067585356806477310 [id=\"-601798127143681366.args[0]\"]\n\t-7067585356806477310 [label=\"Either.left\" id=-7067585356806477310]\n\t-7067585356806477310 -> 5109073286877630545 [id=\"-7067585356806477310.args[0]\"]\n\t5109073286877630545 [label=\"Integer.from_int\" id=5109073286877630545]\n\t5109073286877630545 -> 5838084232112052900 [id=\"5109073286877630545.args[0]\"]\n\t5838084232112052900 [label=5 id=7756835102063988763]\n\t5654487937442623020 -> -4664464520583065041 [id=\"7902643172531125544.args[1]\"]\n\t-4664464520583065041 [label=\"Maybe.nothing\" id=-4664464520583065041]\n\t5654487937442623020 -> 3824186961073615606 [id=\"7902643172531125544.args[2]\"]\n\t3824186961073615606 [label=\"Abstraction.create\" id=3824186961073615606]\n\t3824186961073615606 -> 468231498779743578 [id=\"3824186961073615606.args[0]\"]\n\t468231498779743578 [label=\"Abstraction.create_variable\" id=468231498779743578]\n\t468231498779743578 -> -4410156857131548578 [id=\"468231498779743578.args[0]\"]\n\t-4410156857131548578 [label=\"Variable(4700226504)\" id=-4410156857131548578]\n\t3824186961073615606 -> -3621155432722573253 [id=\"3824186961073615606.args[1]\"]\n\t-3621155432722573253 [label=\"Maybe.just\" id=-3621155432722573253]\n\t-3621155432722573253 -> 5200602674581088372 [id=\"-3621155432722573253.args[0]\"]\n\t5200602674581088372 [label=\"NDArray.__getitem__\" id=5200602674581088372]\n\t5200602674581088372 -> -6414794420438946634 [id=\"5200602674581088372.args[0]\"]\n\t-6414794420438946634 [label=\"Pair.left\" id=-6414794420438946634]\n\t-6414794420438946634 -> 468231498779743578 [id=\"-6414794420438946634.args[0]\"]\n\t5200602674581088372 -> -1042568174412886162 [id=\"5200602674581088372.args[1]\"]\n\t-1042568174412886162 [label=\"Pair.right\" id=-1042568174412886162]\n\t-1042568174412886162 -> 468231498779743578 [id=\"-1042568174412886162.args[0]\"]\n}",
         "label": null,
         "rule": "metadsl_core.maybe.maybe_or"
        },
        {
         "graph": "digraph {\n\tnode [shape=plain]\n\tedge [arrowsize=0.5 penwidth=0.5]\n\t-8636050747429858706 [label=\"NDArrayCompat.to_ndarray\" id=1935586180163463095]\n\t-8636050747429858706 -> -4132662367347143088 [id=\"1935586180163463095.args[0]\"]\n\t-4132662367347143088 [label=\"NDArrayCompat.from_ndarray\" id=-7585266382721542195]\n\t-4132662367347143088 -> 868080771660981626 [id=\"-7585266382721542195.args[0]\"]\n\t868080771660981626 [label=\"Maybe.match\" id=7902643172531125544]\n\t868080771660981626 -> -6258701584004857227 [id=\"7902643172531125544.args[0]\"]\n\t-6258701584004857227 [label=\"Maybe.__and__\" id=3770459566127010284]\n\t-6258701584004857227 -> -3677782086974309606 [id=\"3770459566127010284.args[0]\"]\n\t-3677782086974309606 [label=\"Converter.convert\" id=-693852287426370102]\n\t-3677782086974309606 -> -7437227986272372712 [id=\"-693852287426370102.args[0]\"]\n\t-7437227986272372712 [label=\"NDArrayCompat.__add__\" id=2479618931988953124]\n\t-7437227986272372712 -> 983257553804758448 [id=\"2479618931988953124.args[0]\"]\n\t983257553804758448 [label=\"NDArrayCompat.from_ndarray\" id=-1050884032506130782]\n\t983257553804758448 -> -7083881267291258019 [id=\"-1050884032506130782.args[0]\"]\n\t-7083881267291258019 [label=\"Abstraction.__call__\" id=-710006793518321344]\n\t-7083881267291258019 -> 2191938714586462820 [id=\"-710006793518321344.args[0]\"]\n\t2191938714586462820 [label=\"Abstraction.create\" id=6801381674161147896]\n\t2191938714586462820 -> 3481659688989734831 [id=\"6801381674161147896.args[0]\"]\n\t3481659688989734831 [label=\"Abstraction.create_variable\" id=3481659688989734831]\n\t3481659688989734831 -> 4813215188361776730 [id=\"3481659688989734831.args[0]\"]\n\t4813215188361776730 [label=\"Variable(4700360320)\" id=4813215188361776730]\n\t2191938714586462820 -> 7221518456433276231 [id=\"6801381674161147896.args[1]\"]\n\t7221518456433276231 [label=\"Maybe.just\" id=7221518456433276231]\n\t7221518456433276231 -> 5862299951965675192 [id=\"7221518456433276231.args[0]\"]\n\t5862299951965675192 [label=arange_ id=5862299951965675192]\n\t5862299951965675192 -> 3481659688989734831 [id=\"5862299951965675192.args[0]\"]\n\t-7083881267291258019 -> 579615478629357154 [id=\"-710006793518321344.args[1]\"]\n\t579615478629357154 [label=\"Integer.from_int\" id=579615478629357154]\n\t579615478629357154 -> 5838084232007047975 [id=\"579615478629357154.args[0]\"]\n\t5838084232007047975 [label=100 id=6003697446393151645]\n\t-7437227986272372712 -> 983257553804758448 [id=\"2479618931988953124.args[1]\"]\n\t-6258701584004857227 -> -255592637557283532 [id=\"3770459566127010284.args[1]\"]\n\t-255592637557283532 [label=\"Maybe.just\" id=-601798127143681366]\n\t-255592637557283532 -> -7067585356806477310 [id=\"-601798127143681366.args[0]\"]\n\t-7067585356806477310 [label=\"Either.left\" id=-7067585356806477310]\n\t-7067585356806477310 -> 5109073286877630545 [id=\"-7067585356806477310.args[0]\"]\n\t5109073286877630545 [label=\"Integer.from_int\" id=5109073286877630545]\n\t5109073286877630545 -> 5838084232112052900 [id=\"5109073286877630545.args[0]\"]\n\t5838084232112052900 [label=5 id=7756835102063988763]\n\t868080771660981626 -> -4664464520583065041 [id=\"7902643172531125544.args[1]\"]\n\t-4664464520583065041 [label=\"Maybe.nothing\" id=-4664464520583065041]\n\t868080771660981626 -> 3824186961073615606 [id=\"7902643172531125544.args[2]\"]\n\t3824186961073615606 [label=\"Abstraction.create\" id=3824186961073615606]\n\t3824186961073615606 -> 468231498779743578 [id=\"3824186961073615606.args[0]\"]\n\t468231498779743578 [label=\"Abstraction.create_variable\" id=468231498779743578]\n\t468231498779743578 -> -4410156857131548578 [id=\"468231498779743578.args[0]\"]\n\t-4410156857131548578 [label=\"Variable(4700226504)\" id=-4410156857131548578]\n\t3824186961073615606 -> -3621155432722573253 [id=\"3824186961073615606.args[1]\"]\n\t-3621155432722573253 [label=\"Maybe.just\" id=-3621155432722573253]\n\t-3621155432722573253 -> 5200602674581088372 [id=\"-3621155432722573253.args[0]\"]\n\t5200602674581088372 [label=\"NDArray.__getitem__\" id=5200602674581088372]\n\t5200602674581088372 -> -6414794420438946634 [id=\"5200602674581088372.args[0]\"]\n\t-6414794420438946634 [label=\"Pair.left\" id=-6414794420438946634]\n\t-6414794420438946634 -> 468231498779743578 [id=\"-6414794420438946634.args[0]\"]\n\t5200602674581088372 -> -1042568174412886162 [id=\"5200602674581088372.args[1]\"]\n\t-1042568174412886162 [label=\"Pair.right\" id=-1042568174412886162]\n\t-1042568174412886162 -> 468231498779743578 [id=\"-1042568174412886162.args[0]\"]\n}",
         "label": null,
         "rule": "metadsl_core.abstraction.compose"
        },
        {
         "graph": "digraph {\n\tnode [shape=plain]\n\tedge [arrowsize=0.5 penwidth=0.5]\n\t-6990033121179623761 [label=\"NDArrayCompat.to_ndarray\" id=1935586180163463095]\n\t-6990033121179623761 -> -3092944533282477261 [id=\"1935586180163463095.args[0]\"]\n\t-3092944533282477261 [label=\"NDArrayCompat.from_ndarray\" id=-7585266382721542195]\n\t-3092944533282477261 -> -2529567200019961330 [id=\"-7585266382721542195.args[0]\"]\n\t-2529567200019961330 [label=\"Maybe.match\" id=7902643172531125544]\n\t-2529567200019961330 -> -3884415917423819528 [id=\"7902643172531125544.args[0]\"]\n\t-3884415917423819528 [label=\"Maybe.__and__\" id=3770459566127010284]\n\t-3884415917423819528 -> 3246722563793329763 [id=\"3770459566127010284.args[0]\"]\n\t3246722563793329763 [label=\"Converter.convert\" id=-693852287426370102]\n\t3246722563793329763 -> 5624114912053899358 [id=\"-693852287426370102.args[0]\"]\n\t5624114912053899358 [label=\"NDArrayCompat.__add__\" id=2479618931988953124]\n\t5624114912053899358 -> 2699990931408063806 [id=\"2479618931988953124.args[0]\"]\n\t2699990931408063806 [label=\"NDArrayCompat.from_ndarray\" id=-1050884032506130782]\n\t2699990931408063806 -> -8709039676988586081 [id=\"-1050884032506130782.args[0]\"]\n\t-8709039676988586081 [label=\"Maybe.just\" id=-710006793518321344]\n\t-8709039676988586081 -> 1492449749867095234 [id=\"-710006793518321344.args[0]\"]\n\t1492449749867095234 [label=arange_ id=1492449749867095234]\n\t1492449749867095234 -> 579615478629357154 [id=\"1492449749867095234.args[0]\"]\n\t579615478629357154 [label=\"Integer.from_int\" id=579615478629357154]\n\t579615478629357154 -> 5838084232007047975 [id=\"579615478629357154.args[0]\"]\n\t5838084232007047975 [label=100 id=6003697446393151645]\n\t5624114912053899358 -> 2699990931408063806 [id=\"2479618931988953124.args[1]\"]\n\t-3884415917423819528 -> -255592637557283532 [id=\"3770459566127010284.args[1]\"]\n\t-255592637557283532 [label=\"Maybe.just\" id=-601798127143681366]\n\t-255592637557283532 -> -7067585356806477310 [id=\"-601798127143681366.args[0]\"]\n\t-7067585356806477310 [label=\"Either.left\" id=-7067585356806477310]\n\t-7067585356806477310 -> 5109073286877630545 [id=\"-7067585356806477310.args[0]\"]\n\t5109073286877630545 [label=\"Integer.from_int\" id=5109073286877630545]\n\t5109073286877630545 -> 5838084232112052900 [id=\"5109073286877630545.args[0]\"]\n\t5838084232112052900 [label=5 id=7756835102063988763]\n\t-2529567200019961330 -> -4664464520583065041 [id=\"7902643172531125544.args[1]\"]\n\t-4664464520583065041 [label=\"Maybe.nothing\" id=-4664464520583065041]\n\t-2529567200019961330 -> 3824186961073615606 [id=\"7902643172531125544.args[2]\"]\n\t3824186961073615606 [label=\"Abstraction.create\" id=3824186961073615606]\n\t3824186961073615606 -> 468231498779743578 [id=\"3824186961073615606.args[0]\"]\n\t468231498779743578 [label=\"Abstraction.create_variable\" id=468231498779743578]\n\t468231498779743578 -> -4410156857131548578 [id=\"468231498779743578.args[0]\"]\n\t-4410156857131548578 [label=\"Variable(4700226504)\" id=-4410156857131548578]\n\t3824186961073615606 -> -3621155432722573253 [id=\"3824186961073615606.args[1]\"]\n\t-3621155432722573253 [label=\"Maybe.just\" id=-3621155432722573253]\n\t-3621155432722573253 -> 5200602674581088372 [id=\"-3621155432722573253.args[0]\"]\n\t5200602674581088372 [label=\"NDArray.__getitem__\" id=5200602674581088372]\n\t5200602674581088372 -> -6414794420438946634 [id=\"5200602674581088372.args[0]\"]\n\t-6414794420438946634 [label=\"Pair.left\" id=-6414794420438946634]\n\t-6414794420438946634 -> 468231498779743578 [id=\"-6414794420438946634.args[0]\"]\n\t5200602674581088372 -> -1042568174412886162 [id=\"5200602674581088372.args[1]\"]\n\t-1042568174412886162 [label=\"Pair.right\" id=-1042568174412886162]\n\t-1042568174412886162 -> 468231498779743578 [id=\"-1042568174412886162.args[0]\"]\n}",
         "label": null,
         "rule": "metadsl_core.abstraction.beta_reduce"
        },
        {
         "graph": "digraph {\n\tnode [shape=plain]\n\tedge [arrowsize=0.5 penwidth=0.5]\n\t-5094789078709316628 [label=\"NDArrayCompat.to_ndarray\" id=1935586180163463095]\n\t-5094789078709316628 -> 7137757682422778466 [id=\"1935586180163463095.args[0]\"]\n\t7137757682422778466 [label=\"NDArrayCompat.from_ndarray\" id=-7585266382721542195]\n\t7137757682422778466 -> 3336205771935707391 [id=\"-7585266382721542195.args[0]\"]\n\t3336205771935707391 [label=\"Maybe.match\" id=7902643172531125544]\n\t3336205771935707391 -> 3872101413456062539 [id=\"7902643172531125544.args[0]\"]\n\t3872101413456062539 [label=\"Maybe.__and__\" id=3770459566127010284]\n\t3872101413456062539 -> -2822577839386693752 [id=\"3770459566127010284.args[0]\"]\n\t-2822577839386693752 [label=\"Converter.convert\" id=-693852287426370102]\n\t-2822577839386693752 -> -1011633400249230129 [id=\"-693852287426370102.args[0]\"]\n\t-1011633400249230129 [label=\"NDArrayCompat.from_ndarray\" id=2479618931988953124]\n\t-1011633400249230129 -> -6045266018355487893 [id=\"2479618931988953124.args[0]\"]\n\t-6045266018355487893 [label=\"Maybe.just\" id=-693852287426370102]\n\t-6045266018355487893 -> -4619107828061912794 [id=\"-693852287426370102.args[0]\"]\n\t-4619107828061912794 [label=\"NDArray.__add__\" id=1395466120539641181]\n\t-4619107828061912794 -> 1492449749867095234 [id=\"1395466120539641181.args[0]\"]\n\t1492449749867095234 [label=arange_ id=1492449749867095234]\n\t1492449749867095234 -> 579615478629357154 [id=\"1492449749867095234.args[0]\"]\n\t579615478629357154 [label=\"Integer.from_int\" id=579615478629357154]\n\t579615478629357154 -> 5838084232007047975 [id=\"579615478629357154.args[0]\"]\n\t5838084232007047975 [label=100 id=6003697446393151645]\n\t-4619107828061912794 -> 1492449749867095234 [id=\"1395466120539641181.args[1]\"]\n\t3872101413456062539 -> -255592637557283532 [id=\"3770459566127010284.args[1]\"]\n\t-255592637557283532 [label=\"Maybe.just\" id=-601798127143681366]\n\t-255592637557283532 -> -7067585356806477310 [id=\"-601798127143681366.args[0]\"]\n\t-7067585356806477310 [label=\"Either.left\" id=-7067585356806477310]\n\t-7067585356806477310 -> 5109073286877630545 [id=\"-7067585356806477310.args[0]\"]\n\t5109073286877630545 [label=\"Integer.from_int\" id=5109073286877630545]\n\t5109073286877630545 -> 5838084232112052900 [id=\"5109073286877630545.args[0]\"]\n\t5838084232112052900 [label=5 id=7756835102063988763]\n\t3336205771935707391 -> -4664464520583065041 [id=\"7902643172531125544.args[1]\"]\n\t-4664464520583065041 [label=\"Maybe.nothing\" id=-4664464520583065041]\n\t3336205771935707391 -> 3824186961073615606 [id=\"7902643172531125544.args[2]\"]\n\t3824186961073615606 [label=\"Abstraction.create\" id=3824186961073615606]\n\t3824186961073615606 -> 468231498779743578 [id=\"3824186961073615606.args[0]\"]\n\t468231498779743578 [label=\"Abstraction.create_variable\" id=468231498779743578]\n\t468231498779743578 -> -4410156857131548578 [id=\"468231498779743578.args[0]\"]\n\t-4410156857131548578 [label=\"Variable(4700226504)\" id=-4410156857131548578]\n\t3824186961073615606 -> -3621155432722573253 [id=\"3824186961073615606.args[1]\"]\n\t-3621155432722573253 [label=\"Maybe.just\" id=-3621155432722573253]\n\t-3621155432722573253 -> 5200602674581088372 [id=\"-3621155432722573253.args[0]\"]\n\t5200602674581088372 [label=\"NDArray.__getitem__\" id=5200602674581088372]\n\t5200602674581088372 -> -6414794420438946634 [id=\"5200602674581088372.args[0]\"]\n\t-6414794420438946634 [label=\"Pair.left\" id=-6414794420438946634]\n\t-6414794420438946634 -> 468231498779743578 [id=\"-6414794420438946634.args[0]\"]\n\t5200602674581088372 -> -1042568174412886162 [id=\"5200602674581088372.args[1]\"]\n\t-1042568174412886162 [label=\"Pair.right\" id=-1042568174412886162]\n\t-1042568174412886162 -> 468231498779743578 [id=\"-1042568174412886162.args[0]\"]\n}",
         "label": null,
         "rule": "metadsl_core.numpy.add_compat"
        },
        {
         "graph": "digraph {\n\tnode [shape=plain]\n\tedge [arrowsize=0.5 penwidth=0.5]\n\t-8770014808466506423 [label=\"NDArrayCompat.to_ndarray\" id=1935586180163463095]\n\t-8770014808466506423 -> -2401043131019115219 [id=\"1935586180163463095.args[0]\"]\n\t-2401043131019115219 [label=\"NDArrayCompat.from_ndarray\" id=-7585266382721542195]\n\t-2401043131019115219 -> 5545252579807753009 [id=\"-7585266382721542195.args[0]\"]\n\t5545252579807753009 [label=\"Maybe.match\" id=7902643172531125544]\n\t5545252579807753009 -> -7640308243335310651 [id=\"7902643172531125544.args[0]\"]\n\t-7640308243335310651 [label=\"Maybe.__and__\" id=3770459566127010284]\n\t-7640308243335310651 -> -6045266018355487893 [id=\"3770459566127010284.args[0]\"]\n\t-6045266018355487893 [label=\"Maybe.just\" id=-693852287426370102]\n\t-6045266018355487893 -> -4619107828061912794 [id=\"-693852287426370102.args[0]\"]\n\t-4619107828061912794 [label=\"NDArray.__add__\" id=1395466120539641181]\n\t-4619107828061912794 -> 1492449749867095234 [id=\"1395466120539641181.args[0]\"]\n\t1492449749867095234 [label=arange_ id=1492449749867095234]\n\t1492449749867095234 -> 579615478629357154 [id=\"1492449749867095234.args[0]\"]\n\t579615478629357154 [label=\"Integer.from_int\" id=579615478629357154]\n\t579615478629357154 -> 5838084232007047975 [id=\"579615478629357154.args[0]\"]\n\t5838084232007047975 [label=100 id=6003697446393151645]\n\t-4619107828061912794 -> 1492449749867095234 [id=\"1395466120539641181.args[1]\"]\n\t-7640308243335310651 -> -255592637557283532 [id=\"3770459566127010284.args[1]\"]\n\t-255592637557283532 [label=\"Maybe.just\" id=-601798127143681366]\n\t-255592637557283532 -> -7067585356806477310 [id=\"-601798127143681366.args[0]\"]\n\t-7067585356806477310 [label=\"Either.left\" id=-7067585356806477310]\n\t-7067585356806477310 -> 5109073286877630545 [id=\"-7067585356806477310.args[0]\"]\n\t5109073286877630545 [label=\"Integer.from_int\" id=5109073286877630545]\n\t5109073286877630545 -> 5838084232112052900 [id=\"5109073286877630545.args[0]\"]\n\t5838084232112052900 [label=5 id=7756835102063988763]\n\t5545252579807753009 -> -4664464520583065041 [id=\"7902643172531125544.args[1]\"]\n\t-4664464520583065041 [label=\"Maybe.nothing\" id=-4664464520583065041]\n\t5545252579807753009 -> 3824186961073615606 [id=\"7902643172531125544.args[2]\"]\n\t3824186961073615606 [label=\"Abstraction.create\" id=3824186961073615606]\n\t3824186961073615606 -> 468231498779743578 [id=\"3824186961073615606.args[0]\"]\n\t468231498779743578 [label=\"Abstraction.create_variable\" id=468231498779743578]\n\t468231498779743578 -> -4410156857131548578 [id=\"468231498779743578.args[0]\"]\n\t-4410156857131548578 [label=\"Variable(4700226504)\" id=-4410156857131548578]\n\t3824186961073615606 -> -3621155432722573253 [id=\"3824186961073615606.args[1]\"]\n\t-3621155432722573253 [label=\"Maybe.just\" id=-3621155432722573253]\n\t-3621155432722573253 -> 5200602674581088372 [id=\"-3621155432722573253.args[0]\"]\n\t5200602674581088372 [label=\"NDArray.__getitem__\" id=5200602674581088372]\n\t5200602674581088372 -> -6414794420438946634 [id=\"5200602674581088372.args[0]\"]\n\t-6414794420438946634 [label=\"Pair.left\" id=-6414794420438946634]\n\t-6414794420438946634 -> 468231498779743578 [id=\"-6414794420438946634.args[0]\"]\n\t5200602674581088372 -> -1042568174412886162 [id=\"5200602674581088372.args[1]\"]\n\t-1042568174412886162 [label=\"Pair.right\" id=-1042568174412886162]\n\t-1042568174412886162 -> 468231498779743578 [id=\"-1042568174412886162.args[0]\"]\n}",
         "label": null,
         "rule": "metadsl_core.numpy.convert_to_ndarray"
        },
        {
         "graph": "digraph {\n\tnode [shape=plain]\n\tedge [arrowsize=0.5 penwidth=0.5]\n\t-5377751653156838285 [label=\"NDArrayCompat.to_ndarray\" id=1935586180163463095]\n\t-5377751653156838285 -> -3984573630311167809 [id=\"1935586180163463095.args[0]\"]\n\t-3984573630311167809 [label=\"NDArrayCompat.from_ndarray\" id=-7585266382721542195]\n\t-3984573630311167809 -> -5599722485704847557 [id=\"-7585266382721542195.args[0]\"]\n\t-5599722485704847557 [label=\"Maybe.match\" id=7902643172531125544]\n\t-5599722485704847557 -> 5252046903394539286 [id=\"7902643172531125544.args[0]\"]\n\t5252046903394539286 [label=\"Maybe.just\" id=3770459566127010284]\n\t5252046903394539286 -> 643017614923179061 [id=\"3770459566127010284.args[0]\"]\n\t643017614923179061 [label=\"Pair.create\" id=643017614923179061]\n\t643017614923179061 -> -4619107828061912794 [id=\"643017614923179061.args[0]\"]\n\t-4619107828061912794 [label=\"NDArray.__add__\" id=1395466120539641181]\n\t-4619107828061912794 -> 1492449749867095234 [id=\"1395466120539641181.args[0]\"]\n\t1492449749867095234 [label=arange_ id=1492449749867095234]\n\t1492449749867095234 -> 579615478629357154 [id=\"1492449749867095234.args[0]\"]\n\t579615478629357154 [label=\"Integer.from_int\" id=579615478629357154]\n\t579615478629357154 -> 5838084232007047975 [id=\"579615478629357154.args[0]\"]\n\t5838084232007047975 [label=100 id=6003697446393151645]\n\t-4619107828061912794 -> 1492449749867095234 [id=\"1395466120539641181.args[1]\"]\n\t643017614923179061 -> -7067585356806477310 [id=\"643017614923179061.args[1]\"]\n\t-7067585356806477310 [label=\"Either.left\" id=-7067585356806477310]\n\t-7067585356806477310 -> 5109073286877630545 [id=\"-7067585356806477310.args[0]\"]\n\t5109073286877630545 [label=\"Integer.from_int\" id=5109073286877630545]\n\t5109073286877630545 -> 5838084232112052900 [id=\"5109073286877630545.args[0]\"]\n\t5838084232112052900 [label=5 id=7756835102063988763]\n\t-5599722485704847557 -> -4664464520583065041 [id=\"7902643172531125544.args[1]\"]\n\t-4664464520583065041 [label=\"Maybe.nothing\" id=-4664464520583065041]\n\t-5599722485704847557 -> 3824186961073615606 [id=\"7902643172531125544.args[2]\"]\n\t3824186961073615606 [label=\"Abstraction.create\" id=3824186961073615606]\n\t3824186961073615606 -> 468231498779743578 [id=\"3824186961073615606.args[0]\"]\n\t468231498779743578 [label=\"Abstraction.create_variable\" id=468231498779743578]\n\t468231498779743578 -> -4410156857131548578 [id=\"468231498779743578.args[0]\"]\n\t-4410156857131548578 [label=\"Variable(4700226504)\" id=-4410156857131548578]\n\t3824186961073615606 -> -3621155432722573253 [id=\"3824186961073615606.args[1]\"]\n\t-3621155432722573253 [label=\"Maybe.just\" id=-3621155432722573253]\n\t-3621155432722573253 -> 5200602674581088372 [id=\"-3621155432722573253.args[0]\"]\n\t5200602674581088372 [label=\"NDArray.__getitem__\" id=5200602674581088372]\n\t5200602674581088372 -> -6414794420438946634 [id=\"5200602674581088372.args[0]\"]\n\t-6414794420438946634 [label=\"Pair.left\" id=-6414794420438946634]\n\t-6414794420438946634 -> 468231498779743578 [id=\"-6414794420438946634.args[0]\"]\n\t5200602674581088372 -> -1042568174412886162 [id=\"5200602674581088372.args[1]\"]\n\t-1042568174412886162 [label=\"Pair.right\" id=-1042568174412886162]\n\t-1042568174412886162 -> 468231498779743578 [id=\"-1042568174412886162.args[0]\"]\n}",
         "label": null,
         "rule": "metadsl_core.maybe.maybe_and"
        },
        {
         "graph": "digraph {\n\tnode [shape=plain]\n\tedge [arrowsize=0.5 penwidth=0.5]\n\t488566106128567278 [label=\"NDArrayCompat.to_ndarray\" id=1935586180163463095]\n\t488566106128567278 -> 3316945241568607694 [id=\"1935586180163463095.args[0]\"]\n\t3316945241568607694 [label=\"NDArrayCompat.from_ndarray\" id=-7585266382721542195]\n\t3316945241568607694 -> -8584052827336163697 [id=\"-7585266382721542195.args[0]\"]\n\t-8584052827336163697 [label=\"Abstraction.__call__\" id=7902643172531125544]\n\t-8584052827336163697 -> 3824186961073615606 [id=\"7902643172531125544.args[0]\"]\n\t3824186961073615606 [label=\"Abstraction.create\" id=3824186961073615606]\n\t3824186961073615606 -> 468231498779743578 [id=\"3824186961073615606.args[0]\"]\n\t468231498779743578 [label=\"Abstraction.create_variable\" id=468231498779743578]\n\t468231498779743578 -> -4410156857131548578 [id=\"468231498779743578.args[0]\"]\n\t-4410156857131548578 [label=\"Variable(4700226504)\" id=-4410156857131548578]\n\t3824186961073615606 -> -3621155432722573253 [id=\"3824186961073615606.args[1]\"]\n\t-3621155432722573253 [label=\"Maybe.just\" id=-3621155432722573253]\n\t-3621155432722573253 -> 5200602674581088372 [id=\"-3621155432722573253.args[0]\"]\n\t5200602674581088372 [label=\"NDArray.__getitem__\" id=5200602674581088372]\n\t5200602674581088372 -> -6414794420438946634 [id=\"5200602674581088372.args[0]\"]\n\t-6414794420438946634 [label=\"Pair.left\" id=-6414794420438946634]\n\t-6414794420438946634 -> 468231498779743578 [id=\"-6414794420438946634.args[0]\"]\n\t5200602674581088372 -> -1042568174412886162 [id=\"5200602674581088372.args[1]\"]\n\t-1042568174412886162 [label=\"Pair.right\" id=-1042568174412886162]\n\t-1042568174412886162 -> 468231498779743578 [id=\"-1042568174412886162.args[0]\"]\n\t-8584052827336163697 -> 643017614923179061 [id=\"7902643172531125544.args[1]\"]\n\t643017614923179061 [label=\"Pair.create\" id=643017614923179061]\n\t643017614923179061 -> -4619107828061912794 [id=\"643017614923179061.args[0]\"]\n\t-4619107828061912794 [label=\"NDArray.__add__\" id=1395466120539641181]\n\t-4619107828061912794 -> 1492449749867095234 [id=\"1395466120539641181.args[0]\"]\n\t1492449749867095234 [label=arange_ id=1492449749867095234]\n\t1492449749867095234 -> 579615478629357154 [id=\"1492449749867095234.args[0]\"]\n\t579615478629357154 [label=\"Integer.from_int\" id=579615478629357154]\n\t579615478629357154 -> 5838084232007047975 [id=\"579615478629357154.args[0]\"]\n\t5838084232007047975 [label=100 id=6003697446393151645]\n\t-4619107828061912794 -> 1492449749867095234 [id=\"1395466120539641181.args[1]\"]\n\t643017614923179061 -> -7067585356806477310 [id=\"643017614923179061.args[1]\"]\n\t-7067585356806477310 [label=\"Either.left\" id=-7067585356806477310]\n\t-7067585356806477310 -> 5109073286877630545 [id=\"-7067585356806477310.args[0]\"]\n\t5109073286877630545 [label=\"Integer.from_int\" id=5109073286877630545]\n\t5109073286877630545 -> 5838084232112052900 [id=\"5109073286877630545.args[0]\"]\n\t5838084232112052900 [label=5 id=7756835102063988763]\n}",
         "label": null,
         "rule": "metadsl_core.maybe.maybe_match"
        },
        {
         "graph": "digraph {\n\tnode [shape=plain]\n\tedge [arrowsize=0.5 penwidth=0.5]\n\t-6415487103606775028 [label=\"NDArrayCompat.to_ndarray\" id=1935586180163463095]\n\t-6415487103606775028 -> 44395248776030981 [id=\"1935586180163463095.args[0]\"]\n\t44395248776030981 [label=\"NDArrayCompat.from_ndarray\" id=-7585266382721542195]\n\t44395248776030981 -> -2903661489942354244 [id=\"-7585266382721542195.args[0]\"]\n\t-2903661489942354244 [label=\"Maybe.just\" id=7902643172531125544]\n\t-2903661489942354244 -> 9219245304176348434 [id=\"7902643172531125544.args[0]\"]\n\t9219245304176348434 [label=\"NDArray.__getitem__\" id=9219245304176348434]\n\t9219245304176348434 -> 1395466120539641181 [id=\"9219245304176348434.args[0]\"]\n\t1395466120539641181 [label=\"Pair.left\" id=1395466120539641181]\n\t1395466120539641181 -> 643017614923179061 [id=\"1395466120539641181.args[0]\"]\n\t643017614923179061 [label=\"Pair.create\" id=643017614923179061]\n\t643017614923179061 -> -4619107828061912794 [id=\"643017614923179061.args[0]\"]\n\t-4619107828061912794 [label=\"NDArray.__add__\" id=1395466120539641181]\n\t-4619107828061912794 -> 1492449749867095234 [id=\"1395466120539641181.args[0]\"]\n\t1492449749867095234 [label=arange_ id=1492449749867095234]\n\t1492449749867095234 -> 579615478629357154 [id=\"1492449749867095234.args[0]\"]\n\t579615478629357154 [label=\"Integer.from_int\" id=579615478629357154]\n\t579615478629357154 -> 5838084232007047975 [id=\"579615478629357154.args[0]\"]\n\t5838084232007047975 [label=100 id=6003697446393151645]\n\t-4619107828061912794 -> 1492449749867095234 [id=\"1395466120539641181.args[1]\"]\n\t643017614923179061 -> -7067585356806477310 [id=\"643017614923179061.args[1]\"]\n\t-7067585356806477310 [label=\"Either.left\" id=-7067585356806477310]\n\t-7067585356806477310 -> 5109073286877630545 [id=\"-7067585356806477310.args[0]\"]\n\t5109073286877630545 [label=\"Integer.from_int\" id=5109073286877630545]\n\t5109073286877630545 -> 5838084232112052900 [id=\"5109073286877630545.args[0]\"]\n\t5838084232112052900 [label=5 id=7756835102063988763]\n\t9219245304176348434 -> 6301162349869030677 [id=\"9219245304176348434.args[1]\"]\n\t6301162349869030677 [label=\"Pair.right\" id=6301162349869030677]\n\t6301162349869030677 -> 643017614923179061 [id=\"6301162349869030677.args[0]\"]\n}",
         "label": null,
         "rule": "metadsl_core.abstraction.beta_reduce"
        },
        {
         "graph": "digraph {\n\tnode [shape=plain]\n\tedge [arrowsize=0.5 penwidth=0.5]\n\t1910669533948444199 [label=\"NDArrayCompat.to_ndarray\" id=1935586180163463095]\n\t1910669533948444199 -> -2730920362030976645 [id=\"1935586180163463095.args[0]\"]\n\t-2730920362030976645 [label=\"NDArrayCompat.from_ndarray\" id=-7585266382721542195]\n\t-2730920362030976645 -> -5333004143361228569 [id=\"-7585266382721542195.args[0]\"]\n\t-5333004143361228569 [label=\"Maybe.just\" id=7902643172531125544]\n\t-5333004143361228569 -> 812146376475600282 [id=\"7902643172531125544.args[0]\"]\n\t812146376475600282 [label=\"NDArray.__getitem__\" id=9219245304176348434]\n\t812146376475600282 -> 1395466120539641181 [id=\"9219245304176348434.args[0]\"]\n\t1395466120539641181 [label=\"Pair.left\" id=1395466120539641181]\n\t1395466120539641181 -> 643017614923179061 [id=\"1395466120539641181.args[0]\"]\n\t643017614923179061 [label=\"Pair.create\" id=643017614923179061]\n\t643017614923179061 -> -4619107828061912794 [id=\"643017614923179061.args[0]\"]\n\t-4619107828061912794 [label=\"NDArray.__add__\" id=1395466120539641181]\n\t-4619107828061912794 -> 1492449749867095234 [id=\"1395466120539641181.args[0]\"]\n\t1492449749867095234 [label=arange_ id=1492449749867095234]\n\t1492449749867095234 -> 579615478629357154 [id=\"1492449749867095234.args[0]\"]\n\t579615478629357154 [label=\"Integer.from_int\" id=579615478629357154]\n\t579615478629357154 -> 5838084232007047975 [id=\"579615478629357154.args[0]\"]\n\t5838084232007047975 [label=100 id=6003697446393151645]\n\t-4619107828061912794 -> 1492449749867095234 [id=\"1395466120539641181.args[1]\"]\n\t643017614923179061 -> -7067585356806477310 [id=\"643017614923179061.args[1]\"]\n\t-7067585356806477310 [label=\"Either.left\" id=-7067585356806477310]\n\t-7067585356806477310 -> 5109073286877630545 [id=\"-7067585356806477310.args[0]\"]\n\t5109073286877630545 [label=\"Integer.from_int\" id=5109073286877630545]\n\t5109073286877630545 -> 5838084232112052900 [id=\"5109073286877630545.args[0]\"]\n\t5838084232112052900 [label=5 id=7756835102063988763]\n\t812146376475600282 -> -7067585356806477310 [id=\"9219245304176348434.args[1]\"]\n}",
         "label": null,
         "rule": "metadsl_core.pair.pair_right"
        },
        {
         "graph": "digraph {\n\tnode [shape=plain]\n\tedge [arrowsize=0.5 penwidth=0.5]\n\t-6982537285276620806 [label=\"NDArrayCompat.to_ndarray\" id=1935586180163463095]\n\t-6982537285276620806 -> -8582480166607514506 [id=\"1935586180163463095.args[0]\"]\n\t-8582480166607514506 [label=\"NDArrayCompat.from_ndarray\" id=-7585266382721542195]\n\t-8582480166607514506 -> -2600167263746280635 [id=\"-7585266382721542195.args[0]\"]\n\t-2600167263746280635 [label=\"Maybe.just\" id=7902643172531125544]\n\t-2600167263746280635 -> -8562840633844268781 [id=\"7902643172531125544.args[0]\"]\n\t-8562840633844268781 [label=\"NDArray.__getitem__\" id=9219245304176348434]\n\t-8562840633844268781 -> -4619107828061912794 [id=\"9219245304176348434.args[0]\"]\n\t-4619107828061912794 [label=\"NDArray.__add__\" id=1395466120539641181]\n\t-4619107828061912794 -> 1492449749867095234 [id=\"1395466120539641181.args[0]\"]\n\t1492449749867095234 [label=arange_ id=1492449749867095234]\n\t1492449749867095234 -> 579615478629357154 [id=\"1492449749867095234.args[0]\"]\n\t579615478629357154 [label=\"Integer.from_int\" id=579615478629357154]\n\t579615478629357154 -> 5838084232007047975 [id=\"579615478629357154.args[0]\"]\n\t5838084232007047975 [label=100 id=6003697446393151645]\n\t-4619107828061912794 -> 1492449749867095234 [id=\"1395466120539641181.args[1]\"]\n\t-8562840633844268781 -> -7067585356806477310 [id=\"9219245304176348434.args[1]\"]\n\t-7067585356806477310 [label=\"Either.left\" id=-7067585356806477310]\n\t-7067585356806477310 -> 5109073286877630545 [id=\"-7067585356806477310.args[0]\"]\n\t5109073286877630545 [label=\"Integer.from_int\" id=5109073286877630545]\n\t5109073286877630545 -> 5838084232112052900 [id=\"5109073286877630545.args[0]\"]\n\t5838084232112052900 [label=5 id=7756835102063988763]\n}",
         "label": null,
         "rule": "metadsl_core.pair.pair_left"
        },
        {
         "graph": "digraph {\n\tnode [shape=plain]\n\tedge [arrowsize=0.5 penwidth=0.5]\n\t-6982537285276620806 [label=\"NDArrayCompat.to_ndarray\" id=1935586180163463095]\n\t-6982537285276620806 -> -8582480166607514506 [id=\"1935586180163463095.args[0]\"]\n\t-8582480166607514506 [label=\"NDArrayCompat.from_ndarray\" id=-7585266382721542195]\n\t-8582480166607514506 -> -2600167263746280635 [id=\"-7585266382721542195.args[0]\"]\n\t-2600167263746280635 [label=\"Maybe.just\" id=7902643172531125544]\n\t-2600167263746280635 -> -8562840633844268781 [id=\"7902643172531125544.args[0]\"]\n\t-8562840633844268781 [label=\"NDArray.__getitem__\" id=9219245304176348434]\n\t-8562840633844268781 -> -4619107828061912794 [id=\"9219245304176348434.args[0]\"]\n\t-4619107828061912794 [label=\"NDArray.__add__\" id=1395466120539641181]\n\t-4619107828061912794 -> 1492449749867095234 [id=\"1395466120539641181.args[0]\"]\n\t1492449749867095234 [label=arange_ id=1492449749867095234]\n\t1492449749867095234 -> 579615478629357154 [id=\"1492449749867095234.args[0]\"]\n\t579615478629357154 [label=\"Integer.from_int\" id=579615478629357154]\n\t579615478629357154 -> 5838084232007047975 [id=\"579615478629357154.args[0]\"]\n\t5838084232007047975 [label=100 id=6003697446393151645]\n\t-4619107828061912794 -> 1492449749867095234 [id=\"1395466120539641181.args[1]\"]\n\t-8562840633844268781 -> -7067585356806477310 [id=\"9219245304176348434.args[1]\"]\n\t-7067585356806477310 [label=\"Either.left\" id=-7067585356806477310]\n\t-7067585356806477310 -> 5109073286877630545 [id=\"-7067585356806477310.args[0]\"]\n\t5109073286877630545 [label=\"Integer.from_int\" id=5109073286877630545]\n\t5109073286877630545 -> 5838084232112052900 [id=\"5109073286877630545.args[0]\"]\n\t5838084232112052900 [label=5 id=7756835102063988763]\n}",
         "label": "convert",
         "rule": ""
        },
        {
         "graph": "digraph {\n\tnode [shape=plain]\n\tedge [arrowsize=0.5 penwidth=0.5]\n\t-4677967699452908559 [label=\"NDArrayCompat.to_ndarray\" id=1935586180163463095]\n\t-4677967699452908559 -> -2776478246306858363 [id=\"1935586180163463095.args[0]\"]\n\t-2776478246306858363 [label=\"NDArrayCompat.from_ndarray\" id=-7585266382721542195]\n\t-2776478246306858363 -> -8153415770133474242 [id=\"-7585266382721542195.args[0]\"]\n\t-8153415770133474242 [label=\"Maybe.just\" id=7902643172531125544]\n\t-8153415770133474242 -> 8139586425235452796 [id=\"7902643172531125544.args[0]\"]\n\t8139586425235452796 [label=\"NDArray.__add__\" id=8139586425235452796]\n\t8139586425235452796 -> -631114738667227295 [id=\"8139586425235452796.args[0]\"]\n\t-631114738667227295 [label=\"NDArray.__getitem__\" id=-631114738667227295]\n\t-631114738667227295 -> 1492449749867095234 [id=\"-631114738667227295.args[0]\"]\n\t1492449749867095234 [label=arange_ id=1492449749867095234]\n\t1492449749867095234 -> 579615478629357154 [id=\"1492449749867095234.args[0]\"]\n\t579615478629357154 [label=\"Integer.from_int\" id=579615478629357154]\n\t579615478629357154 -> 5838084232007047975 [id=\"579615478629357154.args[0]\"]\n\t5838084232007047975 [label=100 id=6003697446393151645]\n\t-631114738667227295 -> -7067585356806477310 [id=\"-631114738667227295.args[1]\"]\n\t-7067585356806477310 [label=\"Either.left\" id=-7067585356806477310]\n\t-7067585356806477310 -> 5109073286877630545 [id=\"-7067585356806477310.args[0]\"]\n\t5109073286877630545 [label=\"Integer.from_int\" id=5109073286877630545]\n\t5109073286877630545 -> 5838084232112052900 [id=\"5109073286877630545.args[0]\"]\n\t5838084232112052900 [label=5 id=7756835102063988763]\n\t8139586425235452796 -> -631114738667227295 [id=\"8139586425235452796.args[1]\"]\n}",
         "label": null,
         "rule": "__main__.optimize_getitem_add"
        },
        {
         "graph": "digraph {\n\tnode [shape=plain]\n\tedge [arrowsize=0.5 penwidth=0.5]\n\t-4677967699452908559 [label=\"NDArrayCompat.to_ndarray\" id=1935586180163463095]\n\t-4677967699452908559 -> -2776478246306858363 [id=\"1935586180163463095.args[0]\"]\n\t-2776478246306858363 [label=\"NDArrayCompat.from_ndarray\" id=-7585266382721542195]\n\t-2776478246306858363 -> -8153415770133474242 [id=\"-7585266382721542195.args[0]\"]\n\t-8153415770133474242 [label=\"Maybe.just\" id=7902643172531125544]\n\t-8153415770133474242 -> 8139586425235452796 [id=\"7902643172531125544.args[0]\"]\n\t8139586425235452796 [label=\"NDArray.__add__\" id=8139586425235452796]\n\t8139586425235452796 -> -631114738667227295 [id=\"8139586425235452796.args[0]\"]\n\t-631114738667227295 [label=\"NDArray.__getitem__\" id=-631114738667227295]\n\t-631114738667227295 -> 1492449749867095234 [id=\"-631114738667227295.args[0]\"]\n\t1492449749867095234 [label=arange_ id=1492449749867095234]\n\t1492449749867095234 -> 579615478629357154 [id=\"1492449749867095234.args[0]\"]\n\t579615478629357154 [label=\"Integer.from_int\" id=579615478629357154]\n\t579615478629357154 -> 5838084232007047975 [id=\"579615478629357154.args[0]\"]\n\t5838084232007047975 [label=100 id=6003697446393151645]\n\t-631114738667227295 -> -7067585356806477310 [id=\"-631114738667227295.args[1]\"]\n\t-7067585356806477310 [label=\"Either.left\" id=-7067585356806477310]\n\t-7067585356806477310 -> 5109073286877630545 [id=\"-7067585356806477310.args[0]\"]\n\t5109073286877630545 [label=\"Integer.from_int\" id=5109073286877630545]\n\t5109073286877630545 -> 5838084232112052900 [id=\"5109073286877630545.args[0]\"]\n\t5838084232112052900 [label=5 id=7756835102063988763]\n\t8139586425235452796 -> -631114738667227295 [id=\"8139586425235452796.args[1]\"]\n}",
         "label": "optimize",
         "rule": ""
        },
        {
         "graph": "digraph {\n\tnode [shape=plain]\n\tedge [arrowsize=0.5 penwidth=0.5]\n\t-1359963527519149664 [label=\"NDArray.to_ndarray\" id=1935586180163463095]\n\t-1359963527519149664 -> 8139586425235452796 [id=\"1935586180163463095.args[0]\"]\n\t8139586425235452796 [label=\"NDArray.__add__\" id=8139586425235452796]\n\t8139586425235452796 -> -631114738667227295 [id=\"8139586425235452796.args[0]\"]\n\t-631114738667227295 [label=\"NDArray.__getitem__\" id=-631114738667227295]\n\t-631114738667227295 -> 1492449749867095234 [id=\"-631114738667227295.args[0]\"]\n\t1492449749867095234 [label=arange_ id=1492449749867095234]\n\t1492449749867095234 -> 579615478629357154 [id=\"1492449749867095234.args[0]\"]\n\t579615478629357154 [label=\"Integer.from_int\" id=579615478629357154]\n\t579615478629357154 -> 5838084232007047975 [id=\"579615478629357154.args[0]\"]\n\t5838084232007047975 [label=100 id=6003697446393151645]\n\t-631114738667227295 -> -7067585356806477310 [id=\"-631114738667227295.args[1]\"]\n\t-7067585356806477310 [label=\"Either.left\" id=-7067585356806477310]\n\t-7067585356806477310 -> 5109073286877630545 [id=\"-7067585356806477310.args[0]\"]\n\t5109073286877630545 [label=\"Integer.from_int\" id=5109073286877630545]\n\t5109073286877630545 -> 5838084232112052900 [id=\"5109073286877630545.args[0]\"]\n\t5838084232112052900 [label=5 id=7756835102063988763]\n\t8139586425235452796 -> -631114738667227295 [id=\"8139586425235452796.args[1]\"]\n}",
         "label": null,
         "rule": "metadsl_core.numpy.box_unbox_ndarray_compat"
        },
        {
         "graph": "digraph {\n\tnode [shape=plain]\n\tedge [arrowsize=0.5 penwidth=0.5]\n\t-5098662226766386384 [label=ndarray_add id=1935586180163463095]\n\t-5098662226766386384 -> -2324897974934532418 [id=\"1935586180163463095.args[0]\"]\n\t-2324897974934532418 [label=\"NDArray.to_ndarray\" id=-2324897974934532418]\n\t-2324897974934532418 -> -631114738667227295 [id=\"-2324897974934532418.args[0]\"]\n\t-631114738667227295 [label=\"NDArray.__getitem__\" id=-631114738667227295]\n\t-631114738667227295 -> 1492449749867095234 [id=\"-631114738667227295.args[0]\"]\n\t1492449749867095234 [label=arange_ id=1492449749867095234]\n\t1492449749867095234 -> 579615478629357154 [id=\"1492449749867095234.args[0]\"]\n\t579615478629357154 [label=\"Integer.from_int\" id=579615478629357154]\n\t579615478629357154 -> 5838084232007047975 [id=\"579615478629357154.args[0]\"]\n\t5838084232007047975 [label=100 id=6003697446393151645]\n\t-631114738667227295 -> -7067585356806477310 [id=\"-631114738667227295.args[1]\"]\n\t-7067585356806477310 [label=\"Either.left\" id=-7067585356806477310]\n\t-7067585356806477310 -> 5109073286877630545 [id=\"-7067585356806477310.args[0]\"]\n\t5109073286877630545 [label=\"Integer.from_int\" id=5109073286877630545]\n\t5109073286877630545 -> 5838084232112052900 [id=\"5109073286877630545.args[0]\"]\n\t5838084232112052900 [label=5 id=7756835102063988763]\n\t-5098662226766386384 -> -2324897974934532418 [id=\"1935586180163463095.args[1]\"]\n}",
         "label": null,
         "rule": "metadsl_core.numpy_engine.unbox_ndarray_add"
        },
        {
         "graph": "digraph {\n\tnode [shape=plain]\n\tedge [arrowsize=0.5 penwidth=0.5]\n\t4868045427060116568 [label=ndarray_add id=1935586180163463095]\n\t4868045427060116568 -> 8920328074254634750 [id=\"1935586180163463095.args[0]\"]\n\t8920328074254634750 [label=ndarray_getitem id=-2324897974934532418]\n\t8920328074254634750 -> 3410846223516364705 [id=\"-2324897974934532418.args[0]\"]\n\t3410846223516364705 [label=\"NDArray.to_ndarray\" id=3410846223516364705]\n\t3410846223516364705 -> 1492449749867095234 [id=\"3410846223516364705.args[0]\"]\n\t1492449749867095234 [label=arange_ id=1492449749867095234]\n\t1492449749867095234 -> 579615478629357154 [id=\"1492449749867095234.args[0]\"]\n\t579615478629357154 [label=\"Integer.from_int\" id=579615478629357154]\n\t579615478629357154 -> 5838084232007047975 [id=\"579615478629357154.args[0]\"]\n\t5838084232007047975 [label=100 id=6003697446393151645]\n\t8920328074254634750 -> 7756835102063988763 [id=\"-2324897974934532418.args[1]\"]\n\t7756835102063988763 [label=unbox_idxs id=7756835102063988763]\n\t7756835102063988763 -> -7067585356806477310 [id=\"7756835102063988763.args[0]\"]\n\t-7067585356806477310 [label=\"Either.left\" id=-7067585356806477310]\n\t-7067585356806477310 -> 5109073286877630545 [id=\"-7067585356806477310.args[0]\"]\n\t5109073286877630545 [label=\"Integer.from_int\" id=5109073286877630545]\n\t5109073286877630545 -> 5838084232112052900 [id=\"5109073286877630545.args[0]\"]\n\t5838084232112052900 [label=5 id=7756835102063988763]\n\t4868045427060116568 -> 8920328074254634750 [id=\"1935586180163463095.args[1]\"]\n}",
         "label": null,
         "rule": "metadsl_core.numpy_engine.unbox_ndarray_getitem"
        },
        {
         "graph": "digraph {\n\tnode [shape=plain]\n\tedge [arrowsize=0.5 penwidth=0.5]\n\t963159873203479688 [label=ndarray_add id=1935586180163463095]\n\t963159873203479688 -> -1649160540207050919 [id=\"1935586180163463095.args[0]\"]\n\t-1649160540207050919 [label=ndarray_getitem id=-2324897974934532418]\n\t-1649160540207050919 -> 3410846223516364705 [id=\"-2324897974934532418.args[0]\"]\n\t3410846223516364705 [label=\"NDArray.to_ndarray\" id=3410846223516364705]\n\t3410846223516364705 -> 1492449749867095234 [id=\"3410846223516364705.args[0]\"]\n\t1492449749867095234 [label=arange_ id=1492449749867095234]\n\t1492449749867095234 -> 579615478629357154 [id=\"1492449749867095234.args[0]\"]\n\t579615478629357154 [label=\"Integer.from_int\" id=579615478629357154]\n\t579615478629357154 -> 5838084232007047975 [id=\"579615478629357154.args[0]\"]\n\t5838084232007047975 [label=100 id=6003697446393151645]\n\t-1649160540207050919 -> 8569104213158216184 [id=\"-2324897974934532418.args[1]\"]\n\t8569104213158216184 [label=unbox_integer id=7756835102063988763]\n\t8569104213158216184 -> 5109073286877630545 [id=\"7756835102063988763.args[0]\"]\n\t5109073286877630545 [label=\"Integer.from_int\" id=5109073286877630545]\n\t5109073286877630545 -> 5838084232112052900 [id=\"5109073286877630545.args[0]\"]\n\t5838084232112052900 [label=5 id=7756835102063988763]\n\t963159873203479688 -> -1649160540207050919 [id=\"1935586180163463095.args[1]\"]\n}",
         "label": null,
         "rule": "metadsl_core.numpy_engine.unbox_idxs_rule"
        },
        {
         "graph": "digraph {\n\tnode [shape=plain]\n\tedge [arrowsize=0.5 penwidth=0.5]\n\t8588853776317314472 [label=ndarray_add id=1935586180163463095]\n\t8588853776317314472 -> 3837720780772065142 [id=\"1935586180163463095.args[0]\"]\n\t3837720780772065142 [label=ndarray_getitem id=-2324897974934532418]\n\t3837720780772065142 -> 3410846223516364705 [id=\"-2324897974934532418.args[0]\"]\n\t3410846223516364705 [label=\"NDArray.to_ndarray\" id=3410846223516364705]\n\t3410846223516364705 -> 1492449749867095234 [id=\"3410846223516364705.args[0]\"]\n\t1492449749867095234 [label=arange_ id=1492449749867095234]\n\t1492449749867095234 -> 579615478629357154 [id=\"1492449749867095234.args[0]\"]\n\t579615478629357154 [label=\"Integer.from_int\" id=579615478629357154]\n\t579615478629357154 -> 5838084232007047975 [id=\"579615478629357154.args[0]\"]\n\t5838084232007047975 [label=100 id=6003697446393151645]\n\t3837720780772065142 -> 5838084232112052900 [id=\"-2324897974934532418.args[1]\"]\n\t5838084232112052900 [label=5 id=7756835102063988763]\n\t8588853776317314472 -> 3837720780772065142 [id=\"1935586180163463095.args[1]\"]\n}",
         "label": null,
         "rule": "metadsl_core.numpy_engine.unbox_integer_rule"
        },
        {
         "graph": "digraph {\n\tnode [shape=plain]\n\tedge [arrowsize=0.5 penwidth=0.5]\n\t-8644853813721706856 [label=ndarray_add id=1935586180163463095]\n\t-8644853813721706856 -> 3253987155015877392 [id=\"1935586180163463095.args[0]\"]\n\t3253987155015877392 [label=ndarray_getitem id=-2324897974934532418]\n\t3253987155015877392 -> 5435969851716377834 [id=\"-2324897974934532418.args[0]\"]\n\t5435969851716377834 [label=arange id=3410846223516364705]\n\t5435969851716377834 -> 6003697446393151645 [id=\"3410846223516364705.args[0]\"]\n\t6003697446393151645 [label=unbox_integer id=6003697446393151645]\n\t6003697446393151645 -> 579615478629357154 [id=\"6003697446393151645.args[0]\"]\n\t579615478629357154 [label=\"Integer.from_int\" id=579615478629357154]\n\t579615478629357154 -> 5838084232007047975 [id=\"579615478629357154.args[0]\"]\n\t5838084232007047975 [label=100 id=6003697446393151645]\n\t3253987155015877392 -> 5838084232112052900 [id=\"-2324897974934532418.args[1]\"]\n\t5838084232112052900 [label=5 id=7756835102063988763]\n\t-8644853813721706856 -> 3253987155015877392 [id=\"1935586180163463095.args[1]\"]\n}",
         "label": null,
         "rule": "metadsl_core.numpy_engine.unbox_arange"
        },
        {
         "graph": "digraph {\n\tnode [shape=plain]\n\tedge [arrowsize=0.5 penwidth=0.5]\n\t8931569416374346288 [label=ndarray_add id=1935586180163463095]\n\t8931569416374346288 -> 5962832767606310651 [id=\"1935586180163463095.args[0]\"]\n\t5962832767606310651 [label=ndarray_getitem id=-2324897974934532418]\n\t5962832767606310651 -> -2484432628204838036 [id=\"-2324897974934532418.args[0]\"]\n\t-2484432628204838036 [label=arange id=3410846223516364705]\n\t-2484432628204838036 -> 5838084232007047975 [id=\"3410846223516364705.args[0]\"]\n\t5838084232007047975 [label=100 id=6003697446393151645]\n\t5962832767606310651 -> 5838084232112052900 [id=\"-2324897974934532418.args[1]\"]\n\t5838084232112052900 [label=5 id=7756835102063988763]\n\t8931569416374346288 -> 5962832767606310651 [id=\"1935586180163463095.args[1]\"]\n}",
         "label": null,
         "rule": "metadsl_core.numpy_engine.unbox_integer_rule"
        },
        {
         "graph": "digraph {\n\tnode [shape=plain]\n\tedge [arrowsize=0.5 penwidth=0.5]\n\t8931569416374346288 [label=ndarray_add id=1935586180163463095]\n\t8931569416374346288 -> 5962832767606310651 [id=\"1935586180163463095.args[0]\"]\n\t5962832767606310651 [label=ndarray_getitem id=-2324897974934532418]\n\t5962832767606310651 -> -2484432628204838036 [id=\"-2324897974934532418.args[0]\"]\n\t-2484432628204838036 [label=arange id=3410846223516364705]\n\t-2484432628204838036 -> 5838084232007047975 [id=\"3410846223516364705.args[0]\"]\n\t5838084232007047975 [label=100 id=6003697446393151645]\n\t5962832767606310651 -> 5838084232112052900 [id=\"-2324897974934532418.args[1]\"]\n\t5838084232112052900 [label=5 id=7756835102063988763]\n\t8931569416374346288 -> 5962832767606310651 [id=\"1935586180163463095.args[1]\"]\n}",
         "label": "unbox",
         "rule": ""
        },
        {
         "graph": "digraph {\n\tnode [shape=plain]\n\tedge [arrowsize=0.5 penwidth=0.5]\n\t8957850406086502320 [label=ndarray_add id=1935586180163463095]\n\t8957850406086502320 -> 5071896665634334787 [id=\"1935586180163463095.args[0]\"]\n\t5071896665634334787 [label=ndarray_getitem id=-2324897974934532418]\n\t5071896665634334787 -> -6213901634593861291 [id=\"-2324897974934532418.args[0]\"]\n\t-6213901634593861291 [label=\"array([ 0,  1,  2,  3,  4,  5,  6,  7,  8,  9, 10, 11, 12, 13, 14, 15, 16,\n       17, 18, 19, 20, 21, 22, 23, 24, 25, 26, 27, 28, 29, 30, 31, 32, 33,\n       34, 35, 36, 37, 38, 39, 40, 41, 42, 43, 44, 45, 46, 47, 48, 49, 50,\n       51, 52, 53, 54, 55, 56, 57, 58, 59, 60, 61, 62, 63, 64, 65, 66, 67,\n       68, 69, 70, 71, 72, 73, 74, 75, 76, 77, 78, 79, 80, 81, 82, 83, 84,\n       85, 86, 87, 88, 89, 90, 91, 92, 93, 94, 95, 96, 97, 98, 99])\" id=3410846223516364705]\n\t5071896665634334787 -> 5838084232112052900 [id=\"-2324897974934532418.args[1]\"]\n\t5838084232112052900 [label=5 id=7756835102063988763]\n\t8957850406086502320 -> 5071896665634334787 [id=\"1935586180163463095.args[1]\"]\n}",
         "label": null,
         "rule": "metadsl_core.numpy_engine.arange"
        },
        {
         "graph": "digraph {\n\tnode [shape=plain]\n\tedge [arrowsize=0.5 penwidth=0.5]\n\t715990821971166000 [label=ndarray_add id=1935586180163463095]\n\t715990821971166000 -> -6213901846959285691 [id=\"1935586180163463095.args[0]\"]\n\t-6213901846959285691 [label=\"array(5)\" id=-2324897974934532418]\n\t715990821971166000 -> -6213901846959285691 [id=\"1935586180163463095.args[1]\"]\n}",
         "label": null,
         "rule": "metadsl_core.numpy_engine.ndarray_getitem"
        },
        {
         "graph": "digraph {\n\tnode [shape=plain]\n\tedge [arrowsize=0.5 penwidth=0.5]\n\t3056694902852834817 [label=10 id=1935586180163463095]\n}",
         "label": null,
         "rule": "metadsl_core.numpy_engine.ndarray_add"
        },
        {
         "graph": "digraph {\n\tnode [shape=plain]\n\tedge [arrowsize=0.5 penwidth=0.5]\n\t3056694902852834817 [label=10 id=1935586180163463095]\n}",
         "label": "execute",
         "rule": ""
        }
       ]
      },
      "text/plain": [
       "Typez(definitions=None, nodes={'5838084232007047975': ['6003697446393151645', PrimitiveNode(type='int', repr='100')], '-3959006833905751656': ['-3959006833905751656', CallNode(function='arange', type_params=None, args=['5838084232007047975'], kwargs=None)], '-7106233571294015986': ['-7106233571294015986', CallNode(function='NDArrayCompat.__add__', type_params=None, args=['-3959006833905751656', '-3959006833905751656'], kwargs=None)], '5838084232112052900': ['7756835102063988763', PrimitiveNode(type='int', repr='5')], '-7585266382721542195': ['-7585266382721542195', CallNode(function='NDArrayCompat.__getitem__', type_params=None, args=['-7106233571294015986', '5838084232112052900'], kwargs=None)], '1935586180163463095': ['1935586180163463095', CallNode(function='NDArrayCompat.to_ndarray', type_params=None, args=['-7585266382721542195'], kwargs=None)], '-7125658743320791948': ['-7125658743320791948', CallNode(function='Converter.convert', type_params={'T': DeclaredTypeInstance(type='NDArray', params=None)}, args=['-7106233571294015986'], kwargs=None)], '-7246546953092699839': ['-7246546953092699839', CallNode(function='Converter.convert', type_params={'T': DeclaredTypeInstance(type='Either', params={'U': DeclaredTypeInstance(type='Vec', params={'T': DeclaredTypeInstance(type='Integer', params=None)}), 'T': DeclaredTypeInstance(type='Integer', params=None)})}, args=['5838084232112052900'], kwargs=None)], '1240870953218063631': ['1240870953218063631', CallNode(function='Maybe.__and__', type_params={'T': DeclaredTypeInstance(type='NDArray', params=None)}, args=['-7125658743320791948', '-7246546953092699839'], kwargs=None)], '-3384401634576906858': ['-3384401634576906858', PrimitiveNode(type='function', repr='<function NDArrayCompat.__getitem__.<locals>.<lambda> at 0x10d5941e0>')], '-4713478874883071829': ['-4713478874883071829', CallNode(function='Abstraction.from_fn', type_params={'U': DeclaredTypeInstance(type='NDArray', params=None), 'T': DeclaredTypeInstance(type='Pair', params={'U': DeclaredTypeInstance(type='Either', params={'U': DeclaredTypeInstance(type='Vec', params={'T': DeclaredTypeInstance(type='Integer', params=None)}), 'T': DeclaredTypeInstance(type='Integer', params=None)}), 'T': DeclaredTypeInstance(type='NDArray', params=None)})}, args=['-3384401634576906858'], kwargs=None)], '7902643172531125544': ['7902643172531125544', CallNode(function='Maybe.map', type_params={'T': DeclaredTypeInstance(type='Pair', params={'U': DeclaredTypeInstance(type='Either', params={'U': DeclaredTypeInstance(type='Vec', params={'T': DeclaredTypeInstance(type='Integer', params=None)}), 'T': DeclaredTypeInstance(type='Integer', params=None)}), 'T': DeclaredTypeInstance(type='NDArray', params=None)})}, args=['1240870953218063631', '-4713478874883071829'], kwargs=None)], '-4347219664028182251': ['-7585266382721542195', CallNode(function='NDArrayCompat.from_ndarray', type_params=None, args=['7902643172531125544'], kwargs=None)], '5179407927210079169': ['1935586180163463095', CallNode(function='NDArrayCompat.to_ndarray', type_params=None, args=['-4347219664028182251'], kwargs=None)], '6056108927389162809': ['6056108927389162809', CallNode(function='Converter.convert', type_params={'T': DeclaredTypeInstance(type='Integer', params=None)}, args=['5838084232112052900'], kwargs=None)], '219451634672783243': ['219451634672783243', PrimitiveNode(type='BoundInfer', repr='Either.left')], '-4724417094432334173': ['-4724417094432334173', CallNode(function='Abstraction.from_fn', type_params=None, args=['219451634672783243'], kwargs=None)], '-6815086034509967428': ['-6815086034509967428', CallNode(function='Maybe.map', type_params={'T': DeclaredTypeInstance(type='Integer', params=None)}, args=['6056108927389162809', '-4724417094432334173'], kwargs=None)], '2944773798775947601': ['2944773798775947601', CallNode(function='Converter.convert', type_params={'T': DeclaredTypeInstance(type='Vec', params={'T': DeclaredTypeInstance(type='Integer', params=None)})}, args=['5838084232112052900'], kwargs=None)], '2861613970724538675': ['2861613970724538675', PrimitiveNode(type='BoundInfer', repr='Either.right')], '-8159938588654798608': ['-8159938588654798608', CallNode(function='Abstraction.from_fn', type_params=None, args=['2861613970724538675'], kwargs=None)], '3751055923777384973': ['3751055923777384973', CallNode(function='Maybe.map', type_params={'T': DeclaredTypeInstance(type='Vec', params={'T': DeclaredTypeInstance(type='Integer', params=None)})}, args=['2944773798775947601', '-8159938588654798608'], kwargs=None)], '-383058471427345641': ['-7246546953092699839', CallNode(function='Maybe.__or__', type_params={'T': DeclaredTypeInstance(type='Either', params={'U': DeclaredTypeInstance(type='Vec', params={'T': DeclaredTypeInstance(type='Integer', params=None)}), 'T': DeclaredTypeInstance(type='Integer', params=None)})}, args=['-6815086034509967428', '3751055923777384973'], kwargs=None)], '8642611512904930460': ['1240870953218063631', CallNode(function='Maybe.__and__', type_params={'T': DeclaredTypeInstance(type='NDArray', params=None)}, args=['-7125658743320791948', '-383058471427345641'], kwargs=None)], '6346819825003362680': ['7902643172531125544', CallNode(function='Maybe.map', type_params={'T': DeclaredTypeInstance(type='Pair', params={'U': DeclaredTypeInstance(type='Either', params={'U': DeclaredTypeInstance(type='Vec', params={'T': DeclaredTypeInstance(type='Integer', params=None)}), 'T': DeclaredTypeInstance(type='Integer', params=None)}), 'T': DeclaredTypeInstance(type='NDArray', params=None)})}, args=['8642611512904930460', '-4713478874883071829'], kwargs=None)], '-5950686593939289520': ['-7585266382721542195', CallNode(function='NDArrayCompat.from_ndarray', type_params=None, args=['6346819825003362680'], kwargs=None)], '-7166720341481262269': ['1935586180163463095', CallNode(function='NDArrayCompat.to_ndarray', type_params=None, args=['-5950686593939289520'], kwargs=None)], '5109073286877630545': ['5109073286877630545', CallNode(function='Integer.from_int', type_params=None, args=['5838084232112052900'], kwargs=None)], '6789123831358882944': ['6789123831358882944', CallNode(function='Maybe.just', type_params=None, args=['5109073286877630545'], kwargs=None)], '-7300482696862424175': ['-6815086034509967428', CallNode(function='Maybe.map', type_params={'T': DeclaredTypeInstance(type='Integer', params=None)}, args=['6789123831358882944', '-4724417094432334173'], kwargs=None)], '-956653014655375141': ['-7246546953092699839', CallNode(function='Maybe.__or__', type_params={'T': DeclaredTypeInstance(type='Either', params={'U': DeclaredTypeInstance(type='Vec', params={'T': DeclaredTypeInstance(type='Integer', params=None)}), 'T': DeclaredTypeInstance(type='Integer', params=None)})}, args=['-7300482696862424175', '3751055923777384973'], kwargs=None)], '8598249988727306392': ['1240870953218063631', CallNode(function='Maybe.__and__', type_params={'T': DeclaredTypeInstance(type='NDArray', params=None)}, args=['-7125658743320791948', '-956653014655375141'], kwargs=None)], '8931170676128119212': ['7902643172531125544', CallNode(function='Maybe.map', type_params={'T': DeclaredTypeInstance(type='Pair', params={'U': DeclaredTypeInstance(type='Either', params={'U': DeclaredTypeInstance(type='Vec', params={'T': DeclaredTypeInstance(type='Integer', params=None)}), 'T': DeclaredTypeInstance(type='Integer', params=None)}), 'T': DeclaredTypeInstance(type='NDArray', params=None)})}, args=['8598249988727306392', '-4713478874883071829'], kwargs=None)], '6551729999057842089': ['-7585266382721542195', CallNode(function='NDArrayCompat.from_ndarray', type_params=None, args=['8931170676128119212'], kwargs=None)], '8717298061299669538': ['1935586180163463095', CallNode(function='NDArrayCompat.to_ndarray', type_params=None, args=['6551729999057842089'], kwargs=None)], '-6758997939504679046': ['-6758997939504679046', CallNode(function='Converter.convert', type_params={'T': DeclaredTypeInstance(type='Integer', params=None)}, args=['5838084232007047975'], kwargs=None)], '-1792845949521748470': ['-1792845949521748470', PrimitiveNode(type='Infer', repr='arange_')], '1087529264717247478': ['1087529264717247478', CallNode(function='Abstraction.from_fn', type_params=None, args=['-1792845949521748470'], kwargs=None)], '-8294341480371381898': ['-8294341480371381898', CallNode(function='Maybe.map', type_params={'T': DeclaredTypeInstance(type='Integer', params=None)}, args=['-6758997939504679046', '1087529264717247478'], kwargs=None)], '372699550060722797': ['-3959006833905751656', CallNode(function='NDArrayCompat.from_ndarray', type_params=None, args=['-8294341480371381898'], kwargs=None)], '800043649288483110': ['-7106233571294015986', CallNode(function='NDArrayCompat.__add__', type_params=None, args=['372699550060722797', '372699550060722797'], kwargs=None)], '-845766801800596083': ['-7125658743320791948', CallNode(function='Converter.convert', type_params={'T': DeclaredTypeInstance(type='NDArray', params=None)}, args=['800043649288483110'], kwargs=None)], '6228889529990603524': ['1240870953218063631', CallNode(function='Maybe.__and__', type_params={'T': DeclaredTypeInstance(type='NDArray', params=None)}, args=['-845766801800596083', '-956653014655375141'], kwargs=None)], '-2634790773197510995': ['7902643172531125544', CallNode(function='Maybe.map', type_params={'T': DeclaredTypeInstance(type='Pair', params={'U': DeclaredTypeInstance(type='Either', params={'U': DeclaredTypeInstance(type='Vec', params={'T': DeclaredTypeInstance(type='Integer', params=None)}), 'T': DeclaredTypeInstance(type='Integer', params=None)}), 'T': DeclaredTypeInstance(type='NDArray', params=None)})}, args=['6228889529990603524', '-4713478874883071829'], kwargs=None)], '-6865320423700650642': ['-7585266382721542195', CallNode(function='NDArrayCompat.from_ndarray', type_params=None, args=['-2634790773197510995'], kwargs=None)], '848120509406073737': ['1935586180163463095', CallNode(function='NDArrayCompat.to_ndarray', type_params=None, args=['-6865320423700650642'], kwargs=None)], '579615478629357154': ['579615478629357154', CallNode(function='Integer.from_int', type_params=None, args=['5838084232007047975'], kwargs=None)], '-1699773377263255131': ['-1699773377263255131', CallNode(function='Maybe.just', type_params=None, args=['579615478629357154'], kwargs=None)], '1102455697285063343': ['-8294341480371381898', CallNode(function='Maybe.map', type_params={'T': DeclaredTypeInstance(type='Integer', params=None)}, args=['-1699773377263255131', '1087529264717247478'], kwargs=None)], '-5722367332102644567': ['-3959006833905751656', CallNode(function='NDArrayCompat.from_ndarray', type_params=None, args=['1102455697285063343'], kwargs=None)], '-2450394698919677778': ['-7106233571294015986', CallNode(function='NDArrayCompat.__add__', type_params=None, args=['-5722367332102644567', '-5722367332102644567'], kwargs=None)], '2723701481682903090': ['-7125658743320791948', CallNode(function='Converter.convert', type_params={'T': DeclaredTypeInstance(type='NDArray', params=None)}, args=['-2450394698919677778'], kwargs=None)], '-7040477687325076394': ['1240870953218063631', CallNode(function='Maybe.__and__', type_params={'T': DeclaredTypeInstance(type='NDArray', params=None)}, args=['2723701481682903090', '-956653014655375141'], kwargs=None)], '-2874358435711377228': ['7902643172531125544', CallNode(function='Maybe.map', type_params={'T': DeclaredTypeInstance(type='Pair', params={'U': DeclaredTypeInstance(type='Either', params={'U': DeclaredTypeInstance(type='Vec', params={'T': DeclaredTypeInstance(type='Integer', params=None)}), 'T': DeclaredTypeInstance(type='Integer', params=None)}), 'T': DeclaredTypeInstance(type='NDArray', params=None)})}, args=['-7040477687325076394', '-4713478874883071829'], kwargs=None)], '414577109831858349': ['-7585266382721542195', CallNode(function='NDArrayCompat.from_ndarray', type_params=None, args=['-2874358435711377228'], kwargs=None)], '8180244667050589252': ['1935586180163463095', CallNode(function='NDArrayCompat.to_ndarray', type_params=None, args=['414577109831858349'], kwargs=None)], '-4410156857131548578': ['-4410156857131548578', PrimitiveNode(type='Variable', repr='Variable(4700226504)')], '468231498779743578': ['468231498779743578', CallNode(function='Abstraction.create_variable', type_params={'U': DeclaredTypeInstance(type='NDArray', params=None), 'T': DeclaredTypeInstance(type='Pair', params={'U': DeclaredTypeInstance(type='Either', params={'U': DeclaredTypeInstance(type='Vec', params={'T': DeclaredTypeInstance(type='Integer', params=None)}), 'T': DeclaredTypeInstance(type='Integer', params=None)}), 'T': DeclaredTypeInstance(type='NDArray', params=None)})}, args=['-4410156857131548578'], kwargs=None)], '-6414794420438946634': ['-6414794420438946634', CallNode(function='Pair.left', type_params={'U': DeclaredTypeInstance(type='Either', params={'U': DeclaredTypeInstance(type='Vec', params={'T': DeclaredTypeInstance(type='Integer', params=None)}), 'T': DeclaredTypeInstance(type='Integer', params=None)}), 'T': DeclaredTypeInstance(type='NDArray', params=None)}, args=['468231498779743578'], kwargs=None)], '-1042568174412886162': ['-1042568174412886162', CallNode(function='Pair.right', type_params={'U': DeclaredTypeInstance(type='Either', params={'U': DeclaredTypeInstance(type='Vec', params={'T': DeclaredTypeInstance(type='Integer', params=None)}), 'T': DeclaredTypeInstance(type='Integer', params=None)}), 'T': DeclaredTypeInstance(type='NDArray', params=None)}, args=['468231498779743578'], kwargs=None)], '5200602674581088372': ['5200602674581088372', CallNode(function='NDArray.__getitem__', type_params=None, args=['-6414794420438946634', '-1042568174412886162'], kwargs=None)], '518509411827867796': ['518509411827867796', CallNode(function='Abstraction.create', type_params={'U': DeclaredTypeInstance(type='NDArray', params=None), 'T': DeclaredTypeInstance(type='Pair', params={'U': DeclaredTypeInstance(type='Either', params={'U': DeclaredTypeInstance(type='Vec', params={'T': DeclaredTypeInstance(type='Integer', params=None)}), 'T': DeclaredTypeInstance(type='Integer', params=None)}), 'T': DeclaredTypeInstance(type='NDArray', params=None)})}, args=['468231498779743578', '5200602674581088372'], kwargs=None)], '-2272436261253121429': ['7902643172531125544', CallNode(function='Maybe.map', type_params={'T': DeclaredTypeInstance(type='Pair', params={'U': DeclaredTypeInstance(type='Either', params={'U': DeclaredTypeInstance(type='Vec', params={'T': DeclaredTypeInstance(type='Integer', params=None)}), 'T': DeclaredTypeInstance(type='Integer', params=None)}), 'T': DeclaredTypeInstance(type='NDArray', params=None)})}, args=['-7040477687325076394', '518509411827867796'], kwargs=None)], '9068465748629872981': ['-7585266382721542195', CallNode(function='NDArrayCompat.from_ndarray', type_params=None, args=['-2272436261253121429'], kwargs=None)], '-2896401226179532675': ['1935586180163463095', CallNode(function='NDArrayCompat.to_ndarray', type_params=None, args=['9068465748629872981'], kwargs=None)], '-4410156857239801078': ['-4410156857239801078', PrimitiveNode(type='Variable', repr='Variable(4700226952)')], '4755030733478054666': ['4755030733478054666', CallNode(function='Abstraction.create_variable', type_params={'U': DeclaredTypeInstance(type='Either', params={'U': DeclaredTypeInstance(type='Vec', params={'T': DeclaredTypeInstance(type='Integer', params=None)}), 'T': DeclaredTypeInstance(type='Integer', params=None)}), 'T': DeclaredTypeInstance(type='Vec', params={'T': DeclaredTypeInstance(type='Integer', params=None)})}, args=['-4410156857239801078'], kwargs=None)], '6506087961180873209': ['6506087961180873209', CallNode(function='Either.right', type_params={'U': DeclaredTypeInstance(type='Vec', params={'T': DeclaredTypeInstance(type='Integer', params=None)}), 'T': DeclaredTypeInstance(type='Integer', params=None)}, args=['4755030733478054666'], kwargs=None)], '-2631096410235245811': ['-2631096410235245811', CallNode(function='Abstraction.create', type_params={'U': DeclaredTypeInstance(type='Either', params={'U': DeclaredTypeInstance(type='Vec', params={'T': DeclaredTypeInstance(type='Integer', params=None)}), 'T': DeclaredTypeInstance(type='Integer', params=None)}), 'T': DeclaredTypeInstance(type='Vec', params={'T': DeclaredTypeInstance(type='Integer', params=None)})}, args=['4755030733478054666', '6506087961180873209'], kwargs=None)], '1291442120334238282': ['1291442120334238282', CallNode(function='Maybe.map', type_params={'T': DeclaredTypeInstance(type='Vec', params={'T': DeclaredTypeInstance(type='Integer', params=None)})}, args=['2944773798775947601', '-2631096410235245811'], kwargs=None)], '46049717499487223': ['-7246546953092699839', CallNode(function='Maybe.__or__', type_params={'T': DeclaredTypeInstance(type='Either', params={'U': DeclaredTypeInstance(type='Vec', params={'T': DeclaredTypeInstance(type='Integer', params=None)}), 'T': DeclaredTypeInstance(type='Integer', params=None)})}, args=['-7300482696862424175', '1291442120334238282'], kwargs=None)], '8888322373751518602': ['1240870953218063631', CallNode(function='Maybe.__and__', type_params={'T': DeclaredTypeInstance(type='NDArray', params=None)}, args=['2723701481682903090', '46049717499487223'], kwargs=None)], '-2848137525854052411': ['7902643172531125544', CallNode(function='Maybe.map', type_params={'T': DeclaredTypeInstance(type='Pair', params={'U': DeclaredTypeInstance(type='Either', params={'U': DeclaredTypeInstance(type='Vec', params={'T': DeclaredTypeInstance(type='Integer', params=None)}), 'T': DeclaredTypeInstance(type='Integer', params=None)}), 'T': DeclaredTypeInstance(type='NDArray', params=None)})}, args=['8888322373751518602', '518509411827867796'], kwargs=None)], '-8263808282725900554': ['-7585266382721542195', CallNode(function='NDArrayCompat.from_ndarray', type_params=None, args=['-2848137525854052411'], kwargs=None)], '2760550538656796282': ['1935586180163463095', CallNode(function='NDArrayCompat.to_ndarray', type_params=None, args=['-8263808282725900554'], kwargs=None)], '4813215193752751230': ['4813215193752751230', PrimitiveNode(type='Variable', repr='Variable(4700247488)')], '-4625004114204702497': ['-4625004114204702497', CallNode(function='Abstraction.create_variable', type_params={'U': DeclaredTypeInstance(type='Either', params={'U': DeclaredTypeInstance(type='Vec', params={'T': DeclaredTypeInstance(type='Integer', params=None)}), 'T': DeclaredTypeInstance(type='Integer', params=None)}), 'T': DeclaredTypeInstance(type='Integer', params=None)}, args=['4813215193752751230'], kwargs=None)], '3308170723651583708': ['3308170723651583708', CallNode(function='Either.left', type_params={'U': DeclaredTypeInstance(type='Vec', params={'T': DeclaredTypeInstance(type='Integer', params=None)}), 'T': DeclaredTypeInstance(type='Integer', params=None)}, args=['-4625004114204702497'], kwargs=None)], '-4747599550161408370': ['-4747599550161408370', CallNode(function='Abstraction.create', type_params={'U': DeclaredTypeInstance(type='Either', params={'U': DeclaredTypeInstance(type='Vec', params={'T': DeclaredTypeInstance(type='Integer', params=None)}), 'T': DeclaredTypeInstance(type='Integer', params=None)}), 'T': DeclaredTypeInstance(type='Integer', params=None)}, args=['-4625004114204702497', '3308170723651583708'], kwargs=None)], '-8515717911257762846': ['-8515717911257762846', CallNode(function='Maybe.map', type_params={'T': DeclaredTypeInstance(type='Integer', params=None)}, args=['6789123831358882944', '-4747599550161408370'], kwargs=None)], '-601798127143681366': ['-601798127143681366', CallNode(function='Maybe.__or__', type_params={'T': DeclaredTypeInstance(type='Either', params={'U': DeclaredTypeInstance(type='Vec', params={'T': DeclaredTypeInstance(type='Integer', params=None)}), 'T': DeclaredTypeInstance(type='Integer', params=None)})}, args=['-8515717911257762846', '1291442120334238282'], kwargs=None)], '-6988357606592122895': ['1240870953218063631', CallNode(function='Maybe.__and__', type_params={'T': DeclaredTypeInstance(type='NDArray', params=None)}, args=['2723701481682903090', '-601798127143681366'], kwargs=None)], '845913313291518814': ['7902643172531125544', CallNode(function='Maybe.map', type_params={'T': DeclaredTypeInstance(type='Pair', params={'U': DeclaredTypeInstance(type='Either', params={'U': DeclaredTypeInstance(type='Vec', params={'T': DeclaredTypeInstance(type='Integer', params=None)}), 'T': DeclaredTypeInstance(type='Integer', params=None)}), 'T': DeclaredTypeInstance(type='NDArray', params=None)})}, args=['-6988357606592122895', '518509411827867796'], kwargs=None)], '1304979771412253060': ['-7585266382721542195', CallNode(function='NDArrayCompat.from_ndarray', type_params=None, args=['845913313291518814'], kwargs=None)], '-8534948527576490255': ['1935586180163463095', CallNode(function='NDArrayCompat.to_ndarray', type_params=None, args=['1304979771412253060'], kwargs=None)], '4813215188361776730': ['4813215188361776730', PrimitiveNode(type='Variable', repr='Variable(4700360320)')], '3481659688989734831': ['3481659688989734831', CallNode(function='Abstraction.create_variable', type_params={'U': DeclaredTypeInstance(type='NDArray', params=None), 'T': DeclaredTypeInstance(type='Integer', params=None)}, args=['4813215188361776730'], kwargs=None)], '5862299951965675192': ['5862299951965675192', CallNode(function='arange_', type_params=None, args=['3481659688989734831'], kwargs=None)], '3422393941435572874': ['3422393941435572874', CallNode(function='Abstraction.create', type_params={'U': DeclaredTypeInstance(type='NDArray', params=None), 'T': DeclaredTypeInstance(type='Integer', params=None)}, args=['3481659688989734831', '5862299951965675192'], kwargs=None)], '-710006793518321344': ['-710006793518321344', CallNode(function='Maybe.map', type_params={'T': DeclaredTypeInstance(type='Integer', params=None)}, args=['-1699773377263255131', '3422393941435572874'], kwargs=None)], '-1050884032506130782': ['-1050884032506130782', CallNode(function='NDArrayCompat.from_ndarray', type_params=None, args=['-710006793518321344'], kwargs=None)], '2479618931988953124': ['2479618931988953124', CallNode(function='NDArrayCompat.__add__', type_params=None, args=['-1050884032506130782', '-1050884032506130782'], kwargs=None)], '-693852287426370102': ['-693852287426370102', CallNode(function='Converter.convert', type_params={'T': DeclaredTypeInstance(type='NDArray', params=None)}, args=['2479618931988953124'], kwargs=None)], '3770459566127010284': ['3770459566127010284', CallNode(function='Maybe.__and__', type_params={'T': DeclaredTypeInstance(type='NDArray', params=None)}, args=['-693852287426370102', '-601798127143681366'], kwargs=None)], '4760851721818910565': ['7902643172531125544', CallNode(function='Maybe.map', type_params={'T': DeclaredTypeInstance(type='Pair', params={'U': DeclaredTypeInstance(type='Either', params={'U': DeclaredTypeInstance(type='Vec', params={'T': DeclaredTypeInstance(type='Integer', params=None)}), 'T': DeclaredTypeInstance(type='Integer', params=None)}), 'T': DeclaredTypeInstance(type='NDArray', params=None)})}, args=['3770459566127010284', '518509411827867796'], kwargs=None)], '9199464404600372497': ['-7585266382721542195', CallNode(function='NDArrayCompat.from_ndarray', type_params=None, args=['4760851721818910565'], kwargs=None)], '-2526782594461052991': ['1935586180163463095', CallNode(function='NDArrayCompat.to_ndarray', type_params=None, args=['9199464404600372497'], kwargs=None)], '-4664464520583065041': ['-4664464520583065041', CallNode(function='Maybe.nothing', type_params={'T': DeclaredTypeInstance(type='NDArray', params=None)}, args=None, kwargs=None)], '5018280261059491459': ['5018280261059491459', PrimitiveNode(type='BoundInfer', repr='Maybe.just')], '-1095585159230285059': ['-1095585159230285059', CallNode(function='Abstraction.from_fn', type_params=None, args=['5018280261059491459'], kwargs=None)], '1487874569637105037': ['1487874569637105037', CallNode(function='Abstraction.__add__', type_params={'U': DeclaredTypeInstance(type='Maybe', params={'T': DeclaredTypeInstance(type='NDArray', params=None)}), 'T': DeclaredTypeInstance(type='NDArray', params=None)}, args=['-1095585159230285059', '518509411827867796'], kwargs=None)], '-2337687962700966694': ['7902643172531125544', CallNode(function='Maybe.match', type_params={'T': DeclaredTypeInstance(type='Pair', params={'U': DeclaredTypeInstance(type='Either', params={'U': DeclaredTypeInstance(type='Vec', params={'T': DeclaredTypeInstance(type='Integer', params=None)}), 'T': DeclaredTypeInstance(type='Integer', params=None)}), 'T': DeclaredTypeInstance(type='NDArray', params=None)})}, args=['3770459566127010284', '-4664464520583065041', '1487874569637105037'], kwargs=None)], '347029145892829407': ['-7585266382721542195', CallNode(function='NDArrayCompat.from_ndarray', type_params=None, args=['-2337687962700966694'], kwargs=None)], '1619459771250843198': ['1935586180163463095', CallNode(function='NDArrayCompat.to_ndarray', type_params=None, args=['347029145892829407'], kwargs=None)], '2703072876348085923': ['2703072876348085923', CallNode(function='Maybe.nothing', type_params={'T': DeclaredTypeInstance(type='Either', params={'U': DeclaredTypeInstance(type='Vec', params={'T': DeclaredTypeInstance(type='Integer', params=None)}), 'T': DeclaredTypeInstance(type='Integer', params=None)})}, args=None, kwargs=None)], '-5117706931675647553': ['-5117706931675647553', PrimitiveNode(type='BoundInfer', repr='Maybe.just')], '-6500393008186537515': ['-6500393008186537515', CallNode(function='Abstraction.from_fn', type_params=None, args=['-5117706931675647553'], kwargs=None)], '4616069827488363355': ['4616069827488363355', CallNode(function='Abstraction.__add__', type_params={'U': DeclaredTypeInstance(type='Maybe', params={'T': DeclaredTypeInstance(type='Either', params={'U': DeclaredTypeInstance(type='Vec', params={'T': DeclaredTypeInstance(type='Integer', params=None)}), 'T': DeclaredTypeInstance(type='Integer', params=None)})}), 'T': DeclaredTypeInstance(type='Either', params={'U': DeclaredTypeInstance(type='Vec', params={'T': DeclaredTypeInstance(type='Integer', params=None)}), 'T': DeclaredTypeInstance(type='Integer', params=None)})}, args=['-6500393008186537515', '-2631096410235245811'], kwargs=None)], '9098294439964856754': ['1291442120334238282', CallNode(function='Maybe.match', type_params={'T': DeclaredTypeInstance(type='Vec', params={'T': DeclaredTypeInstance(type='Integer', params=None)})}, args=['2944773798775947601', '2703072876348085923', '4616069827488363355'], kwargs=None)], '-5182989550629263489': ['-601798127143681366', CallNode(function='Maybe.__or__', type_params={'T': DeclaredTypeInstance(type='Either', params={'U': DeclaredTypeInstance(type='Vec', params={'T': DeclaredTypeInstance(type='Integer', params=None)}), 'T': DeclaredTypeInstance(type='Integer', params=None)})}, args=['-8515717911257762846', '9098294439964856754'], kwargs=None)], '-6649595900598481839': ['3770459566127010284', CallNode(function='Maybe.__and__', type_params={'T': DeclaredTypeInstance(type='NDArray', params=None)}, args=['-693852287426370102', '-5182989550629263489'], kwargs=None)], '4700439864827198540': ['7902643172531125544', CallNode(function='Maybe.match', type_params={'T': DeclaredTypeInstance(type='Pair', params={'U': DeclaredTypeInstance(type='Either', params={'U': DeclaredTypeInstance(type='Vec', params={'T': DeclaredTypeInstance(type='Integer', params=None)}), 'T': DeclaredTypeInstance(type='Integer', params=None)}), 'T': DeclaredTypeInstance(type='NDArray', params=None)})}, args=['-6649595900598481839', '-4664464520583065041', '1487874569637105037'], kwargs=None)], '-3437291932490233068': ['-7585266382721542195', CallNode(function='NDArrayCompat.from_ndarray', type_params=None, args=['4700439864827198540'], kwargs=None)], '-4863314574823831270': ['1935586180163463095', CallNode(function='NDArrayCompat.to_ndarray', type_params=None, args=['-3437291932490233068'], kwargs=None)], '1771017972727046875': ['1771017972727046875', CallNode(function='Abstraction.__add__', type_params={'U': DeclaredTypeInstance(type='Maybe', params={'T': DeclaredTypeInstance(type='Either', params={'U': DeclaredTypeInstance(type='Vec', params={'T': DeclaredTypeInstance(type='Integer', params=None)}), 'T': DeclaredTypeInstance(type='Integer', params=None)})}), 'T': DeclaredTypeInstance(type='Either', params={'U': DeclaredTypeInstance(type='Vec', params={'T': DeclaredTypeInstance(type='Integer', params=None)}), 'T': DeclaredTypeInstance(type='Integer', params=None)})}, args=['-6500393008186537515', '-4747599550161408370'], kwargs=None)], '-7386807996660818420': ['-8515717911257762846', CallNode(function='Maybe.match', type_params={'T': DeclaredTypeInstance(type='Integer', params=None)}, args=['6789123831358882944', '2703072876348085923', '1771017972727046875'], kwargs=None)], '-2450665583848721859': ['-601798127143681366', CallNode(function='Maybe.__or__', type_params={'T': DeclaredTypeInstance(type='Either', params={'U': DeclaredTypeInstance(type='Vec', params={'T': DeclaredTypeInstance(type='Integer', params=None)}), 'T': DeclaredTypeInstance(type='Integer', params=None)})}, args=['-7386807996660818420', '9098294439964856754'], kwargs=None)], '3174465242235764390': ['3770459566127010284', CallNode(function='Maybe.__and__', type_params={'T': DeclaredTypeInstance(type='NDArray', params=None)}, args=['-693852287426370102', '-2450665583848721859'], kwargs=None)], '-7386547758123990700': ['7902643172531125544', CallNode(function='Maybe.match', type_params={'T': DeclaredTypeInstance(type='Pair', params={'U': DeclaredTypeInstance(type='Either', params={'U': DeclaredTypeInstance(type='Vec', params={'T': DeclaredTypeInstance(type='Integer', params=None)}), 'T': DeclaredTypeInstance(type='Integer', params=None)}), 'T': DeclaredTypeInstance(type='NDArray', params=None)})}, args=['3174465242235764390', '-4664464520583065041', '1487874569637105037'], kwargs=None)], '8709362863052782407': ['-7585266382721542195', CallNode(function='NDArrayCompat.from_ndarray', type_params=None, args=['-7386547758123990700'], kwargs=None)], '9165598983254956855': ['1935586180163463095', CallNode(function='NDArrayCompat.to_ndarray', type_params=None, args=['8709362863052782407'], kwargs=None)], '8938796580966517133': ['-8515717911257762846', CallNode(function='Abstraction.__call__', type_params={'U': DeclaredTypeInstance(type='Maybe', params={'T': DeclaredTypeInstance(type='Either', params={'U': DeclaredTypeInstance(type='Vec', params={'T': DeclaredTypeInstance(type='Integer', params=None)}), 'T': DeclaredTypeInstance(type='Integer', params=None)})}), 'T': DeclaredTypeInstance(type='Integer', params=None)}, args=['1771017972727046875', '5109073286877630545'], kwargs=None)], '8890246705513709024': ['-601798127143681366', CallNode(function='Maybe.__or__', type_params={'T': DeclaredTypeInstance(type='Either', params={'U': DeclaredTypeInstance(type='Vec', params={'T': DeclaredTypeInstance(type='Integer', params=None)}), 'T': DeclaredTypeInstance(type='Integer', params=None)})}, args=['8938796580966517133', '9098294439964856754'], kwargs=None)], '-5693778997302270785': ['3770459566127010284', CallNode(function='Maybe.__and__', type_params={'T': DeclaredTypeInstance(type='NDArray', params=None)}, args=['-693852287426370102', '8890246705513709024'], kwargs=None)], '4421296665337759402': ['7902643172531125544', CallNode(function='Maybe.match', type_params={'T': DeclaredTypeInstance(type='Pair', params={'U': DeclaredTypeInstance(type='Either', params={'U': DeclaredTypeInstance(type='Vec', params={'T': DeclaredTypeInstance(type='Integer', params=None)}), 'T': DeclaredTypeInstance(type='Integer', params=None)}), 'T': DeclaredTypeInstance(type='NDArray', params=None)})}, args=['-5693778997302270785', '-4664464520583065041', '1487874569637105037'], kwargs=None)], '314865019023719573': ['-7585266382721542195', CallNode(function='NDArrayCompat.from_ndarray', type_params=None, args=['4421296665337759402'], kwargs=None)], '-4174312232391793700': ['1935586180163463095', CallNode(function='NDArrayCompat.to_ndarray', type_params=None, args=['314865019023719573'], kwargs=None)], '6801381674161147896': ['6801381674161147896', CallNode(function='Abstraction.__add__', type_params={'U': DeclaredTypeInstance(type='Maybe', params={'T': DeclaredTypeInstance(type='NDArray', params=None)}), 'T': DeclaredTypeInstance(type='NDArray', params=None)}, args=['-1095585159230285059', '3422393941435572874'], kwargs=None)], '8337972810394593691': ['-710006793518321344', CallNode(function='Maybe.match', type_params={'T': DeclaredTypeInstance(type='Integer', params=None)}, args=['-1699773377263255131', '-4664464520583065041', '6801381674161147896'], kwargs=None)], '2479269851814596': ['-1050884032506130782', CallNode(function='NDArrayCompat.from_ndarray', type_params=None, args=['8337972810394593691'], kwargs=None)], '3468649735422449664': ['2479618931988953124', CallNode(function='NDArrayCompat.__add__', type_params=None, args=['2479269851814596', '2479269851814596'], kwargs=None)], '-6889920048495528298': ['-693852287426370102', CallNode(function='Converter.convert', type_params={'T': DeclaredTypeInstance(type='NDArray', params=None)}, args=['3468649735422449664'], kwargs=None)], '225889043373435813': ['3770459566127010284', CallNode(function='Maybe.__and__', type_params={'T': DeclaredTypeInstance(type='NDArray', params=None)}, args=['-6889920048495528298', '8890246705513709024'], kwargs=None)], '-6061511077476038142': ['7902643172531125544', CallNode(function='Maybe.match', type_params={'T': DeclaredTypeInstance(type='Pair', params={'U': DeclaredTypeInstance(type='Either', params={'U': DeclaredTypeInstance(type='Vec', params={'T': DeclaredTypeInstance(type='Integer', params=None)}), 'T': DeclaredTypeInstance(type='Integer', params=None)}), 'T': DeclaredTypeInstance(type='NDArray', params=None)})}, args=['225889043373435813', '-4664464520583065041', '1487874569637105037'], kwargs=None)], '6164495585392271202': ['-7585266382721542195', CallNode(function='NDArrayCompat.from_ndarray', type_params=None, args=['-6061511077476038142'], kwargs=None)], '-1565107483550253999': ['1935586180163463095', CallNode(function='NDArrayCompat.to_ndarray', type_params=None, args=['6164495585392271202'], kwargs=None)], '-1805408432180974061': ['-710006793518321344', CallNode(function='Abstraction.__call__', type_params={'U': DeclaredTypeInstance(type='Maybe', params={'T': DeclaredTypeInstance(type='NDArray', params=None)}), 'T': DeclaredTypeInstance(type='Integer', params=None)}, args=['6801381674161147896', '579615478629357154'], kwargs=None)], '-7240541359464005235': ['-1050884032506130782', CallNode(function='NDArrayCompat.from_ndarray', type_params=None, args=['-1805408432180974061'], kwargs=None)], '-7816749236083338732': ['2479618931988953124', CallNode(function='NDArrayCompat.__add__', type_params=None, args=['-7240541359464005235', '-7240541359464005235'], kwargs=None)], '-4140766848798972602': ['-693852287426370102', CallNode(function='Converter.convert', type_params={'T': DeclaredTypeInstance(type='NDArray', params=None)}, args=['-7816749236083338732'], kwargs=None)], '-4932447940979014284': ['3770459566127010284', CallNode(function='Maybe.__and__', type_params={'T': DeclaredTypeInstance(type='NDArray', params=None)}, args=['-4140766848798972602', '8890246705513709024'], kwargs=None)], '9170023377660142727': ['7902643172531125544', CallNode(function='Maybe.match', type_params={'T': DeclaredTypeInstance(type='Pair', params={'U': DeclaredTypeInstance(type='Either', params={'U': DeclaredTypeInstance(type='Vec', params={'T': DeclaredTypeInstance(type='Integer', params=None)}), 'T': DeclaredTypeInstance(type='Integer', params=None)}), 'T': DeclaredTypeInstance(type='NDArray', params=None)})}, args=['-4932447940979014284', '-4664464520583065041', '1487874569637105037'], kwargs=None)], '4381966629815095168': ['-7585266382721542195', CallNode(function='NDArrayCompat.from_ndarray', type_params=None, args=['9170023377660142727'], kwargs=None)], '5875209040284893536': ['1935586180163463095', CallNode(function='NDArrayCompat.to_ndarray', type_params=None, args=['4381966629815095168'], kwargs=None)], '-4410156933881488553': ['-4410156933881488553', PrimitiveNode(type='Variable', repr='Variable(4701064440)')], '9039111995028656601': ['9039111995028656601', CallNode(function='Abstraction.create_variable', type_params={'U': DeclaredTypeInstance(type='Maybe', params={'T': DeclaredTypeInstance(type='Either', params={'U': DeclaredTypeInstance(type='Vec', params={'T': DeclaredTypeInstance(type='Integer', params=None)}), 'T': DeclaredTypeInstance(type='Integer', params=None)})}), 'T': DeclaredTypeInstance(type='Either', params={'U': DeclaredTypeInstance(type='Vec', params={'T': DeclaredTypeInstance(type='Integer', params=None)}), 'T': DeclaredTypeInstance(type='Integer', params=None)})}, args=['-4410156933881488553'], kwargs=None)], '-1346791124493721435': ['-1346791124493721435', CallNode(function='Maybe.just', type_params={'T': DeclaredTypeInstance(type='Either', params={'U': DeclaredTypeInstance(type='Vec', params={'T': DeclaredTypeInstance(type='Integer', params=None)}), 'T': DeclaredTypeInstance(type='Integer', params=None)})}, args=['9039111995028656601'], kwargs=None)], '856785412918421907': ['-6500393008186537515', CallNode(function='Abstraction.create', type_params={'U': DeclaredTypeInstance(type='Maybe', params={'T': DeclaredTypeInstance(type='Either', params={'U': DeclaredTypeInstance(type='Vec', params={'T': DeclaredTypeInstance(type='Integer', params=None)}), 'T': DeclaredTypeInstance(type='Integer', params=None)})}), 'T': DeclaredTypeInstance(type='Either', params={'U': DeclaredTypeInstance(type='Vec', params={'T': DeclaredTypeInstance(type='Integer', params=None)}), 'T': DeclaredTypeInstance(type='Integer', params=None)})}, args=['9039111995028656601', '-1346791124493721435'], kwargs=None)], '6749951301008775451': ['1771017972727046875', CallNode(function='Abstraction.__add__', type_params={'U': DeclaredTypeInstance(type='Maybe', params={'T': DeclaredTypeInstance(type='Either', params={'U': DeclaredTypeInstance(type='Vec', params={'T': DeclaredTypeInstance(type='Integer', params=None)}), 'T': DeclaredTypeInstance(type='Integer', params=None)})}), 'T': DeclaredTypeInstance(type='Either', params={'U': DeclaredTypeInstance(type='Vec', params={'T': DeclaredTypeInstance(type='Integer', params=None)}), 'T': DeclaredTypeInstance(type='Integer', params=None)})}, args=['856785412918421907', '-4747599550161408370'], kwargs=None)], '-7484022018064687097': ['-8515717911257762846', CallNode(function='Abstraction.__call__', type_params={'U': DeclaredTypeInstance(type='Maybe', params={'T': DeclaredTypeInstance(type='Either', params={'U': DeclaredTypeInstance(type='Vec', params={'T': DeclaredTypeInstance(type='Integer', params=None)}), 'T': DeclaredTypeInstance(type='Integer', params=None)})}), 'T': DeclaredTypeInstance(type='Integer', params=None)}, args=['6749951301008775451', '5109073286877630545'], kwargs=None)], '8498399876414447003': ['4616069827488363355', CallNode(function='Abstraction.__add__', type_params={'U': DeclaredTypeInstance(type='Maybe', params={'T': DeclaredTypeInstance(type='Either', params={'U': DeclaredTypeInstance(type='Vec', params={'T': DeclaredTypeInstance(type='Integer', params=None)}), 'T': DeclaredTypeInstance(type='Integer', params=None)})}), 'T': DeclaredTypeInstance(type='Either', params={'U': DeclaredTypeInstance(type='Vec', params={'T': DeclaredTypeInstance(type='Integer', params=None)}), 'T': DeclaredTypeInstance(type='Integer', params=None)})}, args=['856785412918421907', '-2631096410235245811'], kwargs=None)], '6945425244518419199': ['1291442120334238282', CallNode(function='Maybe.match', type_params={'T': DeclaredTypeInstance(type='Vec', params={'T': DeclaredTypeInstance(type='Integer', params=None)})}, args=['2944773798775947601', '2703072876348085923', '8498399876414447003'], kwargs=None)], '2218751614882757805': ['-601798127143681366', CallNode(function='Maybe.__or__', type_params={'T': DeclaredTypeInstance(type='Either', params={'U': DeclaredTypeInstance(type='Vec', params={'T': DeclaredTypeInstance(type='Integer', params=None)}), 'T': DeclaredTypeInstance(type='Integer', params=None)})}, args=['-7484022018064687097', '6945425244518419199'], kwargs=None)], '-4601696110913952714': ['3770459566127010284', CallNode(function='Maybe.__and__', type_params={'T': DeclaredTypeInstance(type='NDArray', params=None)}, args=['-4140766848798972602', '2218751614882757805'], kwargs=None)], '-3691001302245523438': ['7902643172531125544', CallNode(function='Maybe.match', type_params={'T': DeclaredTypeInstance(type='Pair', params={'U': DeclaredTypeInstance(type='Either', params={'U': DeclaredTypeInstance(type='Vec', params={'T': DeclaredTypeInstance(type='Integer', params=None)}), 'T': DeclaredTypeInstance(type='Integer', params=None)}), 'T': DeclaredTypeInstance(type='NDArray', params=None)})}, args=['-4601696110913952714', '-4664464520583065041', '1487874569637105037'], kwargs=None)], '-1098347727076804089': ['-7585266382721542195', CallNode(function='NDArrayCompat.from_ndarray', type_params=None, args=['-3691001302245523438'], kwargs=None)], '-2710983233644286474': ['1935586180163463095', CallNode(function='NDArrayCompat.to_ndarray', type_params=None, args=['-1098347727076804089'], kwargs=None)], '-4410156953898458328': ['-4410156953898458328', PrimitiveNode(type='Variable', repr='Variable(4700836136)')], '197579945959390516': ['197579945959390516', CallNode(function='Abstraction.create_variable', type_params={'U': DeclaredTypeInstance(type='Maybe', params={'T': DeclaredTypeInstance(type='NDArray', params=None)}), 'T': DeclaredTypeInstance(type='NDArray', params=None)}, args=['-4410156953898458328'], kwargs=None)], '-2962513676475920575': ['-2962513676475920575', CallNode(function='Maybe.just', type_params={'T': DeclaredTypeInstance(type='NDArray', params=None)}, args=['197579945959390516'], kwargs=None)], '-9187846953603438100': ['-1095585159230285059', CallNode(function='Abstraction.create', type_params={'U': DeclaredTypeInstance(type='Maybe', params={'T': DeclaredTypeInstance(type='NDArray', params=None)}), 'T': DeclaredTypeInstance(type='NDArray', params=None)}, args=['197579945959390516', '-2962513676475920575'], kwargs=None)], '7205870173436599564': ['6801381674161147896', CallNode(function='Abstraction.__add__', type_params={'U': DeclaredTypeInstance(type='Maybe', params={'T': DeclaredTypeInstance(type='NDArray', params=None)}), 'T': DeclaredTypeInstance(type='NDArray', params=None)}, args=['-9187846953603438100', '3422393941435572874'], kwargs=None)], '4670090330723769874': ['-710006793518321344', CallNode(function='Abstraction.__call__', type_params={'U': DeclaredTypeInstance(type='Maybe', params={'T': DeclaredTypeInstance(type='NDArray', params=None)}), 'T': DeclaredTypeInstance(type='Integer', params=None)}, args=['7205870173436599564', '579615478629357154'], kwargs=None)], '3198608941824209254': ['-1050884032506130782', CallNode(function='NDArrayCompat.from_ndarray', type_params=None, args=['4670090330723769874'], kwargs=None)], '-7661338159994440658': ['2479618931988953124', CallNode(function='NDArrayCompat.__add__', type_params=None, args=['3198608941824209254', '3198608941824209254'], kwargs=None)], '28407508120041940': ['-693852287426370102', CallNode(function='Converter.convert', type_params={'T': DeclaredTypeInstance(type='NDArray', params=None)}, args=['-7661338159994440658'], kwargs=None)], '5659392155686545387': ['3770459566127010284', CallNode(function='Maybe.__and__', type_params={'T': DeclaredTypeInstance(type='NDArray', params=None)}, args=['28407508120041940', '2218751614882757805'], kwargs=None)], '4664135465920369113': ['1487874569637105037', CallNode(function='Abstraction.__add__', type_params={'U': DeclaredTypeInstance(type='Maybe', params={'T': DeclaredTypeInstance(type='NDArray', params=None)}), 'T': DeclaredTypeInstance(type='NDArray', params=None)}, args=['-9187846953603438100', '518509411827867796'], kwargs=None)], '-8008667647859116852': ['7902643172531125544', CallNode(function='Maybe.match', type_params={'T': DeclaredTypeInstance(type='Pair', params={'U': DeclaredTypeInstance(type='Either', params={'U': DeclaredTypeInstance(type='Vec', params={'T': DeclaredTypeInstance(type='Integer', params=None)}), 'T': DeclaredTypeInstance(type='Integer', params=None)}), 'T': DeclaredTypeInstance(type='NDArray', params=None)})}, args=['5659392155686545387', '-4664464520583065041', '4664135465920369113'], kwargs=None)], '7648192999837778095': ['-7585266382721542195', CallNode(function='NDArrayCompat.from_ndarray', type_params=None, args=['-8008667647859116852'], kwargs=None)], '-8746822573835151313': ['1935586180163463095', CallNode(function='NDArrayCompat.to_ndarray', type_params=None, args=['7648192999837778095'], kwargs=None)], '-3621155432722573253': ['-3621155432722573253', CallNode(function='Maybe.just', type_params={'T': DeclaredTypeInstance(type='NDArray', params=None)}, args=['5200602674581088372'], kwargs=None)], '3824186961073615606': ['3824186961073615606', CallNode(function='Abstraction.create', type_params=None, args=['468231498779743578', '-3621155432722573253'], kwargs=None)], '4348056629779286384': ['7902643172531125544', CallNode(function='Maybe.match', type_params={'T': DeclaredTypeInstance(type='Pair', params={'U': DeclaredTypeInstance(type='Either', params={'U': DeclaredTypeInstance(type='Vec', params={'T': DeclaredTypeInstance(type='Integer', params=None)}), 'T': DeclaredTypeInstance(type='Integer', params=None)}), 'T': DeclaredTypeInstance(type='NDArray', params=None)})}, args=['5659392155686545387', '-4664464520583065041', '3824186961073615606'], kwargs=None)], '-7319541876481429273': ['-7585266382721542195', CallNode(function='NDArrayCompat.from_ndarray', type_params=None, args=['4348056629779286384'], kwargs=None)], '2859344359834789841': ['1935586180163463095', CallNode(function='NDArrayCompat.to_ndarray', type_params=None, args=['-7319541876481429273'], kwargs=None)], '-1842874830169421666': ['-1842874830169421666', CallNode(function='Maybe.just', type_params={'T': DeclaredTypeInstance(type='Either', params={'U': DeclaredTypeInstance(type='Vec', params={'T': DeclaredTypeInstance(type='Integer', params=None)}), 'T': DeclaredTypeInstance(type='Integer', params=None)})}, args=['6506087961180873209'], kwargs=None)], '-5570393124951192012': ['4616069827488363355', CallNode(function='Abstraction.create', type_params=None, args=['4755030733478054666', '-1842874830169421666'], kwargs=None)], '3931380370487318699': ['1291442120334238282', CallNode(function='Maybe.match', type_params={'T': DeclaredTypeInstance(type='Vec', params={'T': DeclaredTypeInstance(type='Integer', params=None)})}, args=['2944773798775947601', '2703072876348085923', '-5570393124951192012'], kwargs=None)], '7762550062654040263': ['-601798127143681366', CallNode(function='Maybe.__or__', type_params={'T': DeclaredTypeInstance(type='Either', params={'U': DeclaredTypeInstance(type='Vec', params={'T': DeclaredTypeInstance(type='Integer', params=None)}), 'T': DeclaredTypeInstance(type='Integer', params=None)})}, args=['-7484022018064687097', '3931380370487318699'], kwargs=None)], '2006669620355233138': ['3770459566127010284', CallNode(function='Maybe.__and__', type_params={'T': DeclaredTypeInstance(type='NDArray', params=None)}, args=['28407508120041940', '7762550062654040263'], kwargs=None)], '-5523419275082759935': ['7902643172531125544', CallNode(function='Maybe.match', type_params={'T': DeclaredTypeInstance(type='Pair', params={'U': DeclaredTypeInstance(type='Either', params={'U': DeclaredTypeInstance(type='Vec', params={'T': DeclaredTypeInstance(type='Integer', params=None)}), 'T': DeclaredTypeInstance(type='Integer', params=None)}), 'T': DeclaredTypeInstance(type='NDArray', params=None)})}, args=['2006669620355233138', '-4664464520583065041', '3824186961073615606'], kwargs=None)], '494967562214894105': ['-7585266382721542195', CallNode(function='NDArrayCompat.from_ndarray', type_params=None, args=['-5523419275082759935'], kwargs=None)], '2853526785382423624': ['1935586180163463095', CallNode(function='NDArrayCompat.to_ndarray', type_params=None, args=['494967562214894105'], kwargs=None)], '-3362466327091909016': ['-3362466327091909016', CallNode(function='Maybe.just', type_params={'T': DeclaredTypeInstance(type='Either', params={'U': DeclaredTypeInstance(type='Vec', params={'T': DeclaredTypeInstance(type='Integer', params=None)}), 'T': DeclaredTypeInstance(type='Integer', params=None)})}, args=['3308170723651583708'], kwargs=None)], '2445145776796725530': ['1771017972727046875', CallNode(function='Abstraction.create', type_params=None, args=['-4625004114204702497', '-3362466327091909016'], kwargs=None)], '7138771968961129037': ['-8515717911257762846', CallNode(function='Abstraction.__call__', type_params={'U': DeclaredTypeInstance(type='Maybe', params={'T': DeclaredTypeInstance(type='Either', params={'U': DeclaredTypeInstance(type='Vec', params={'T': DeclaredTypeInstance(type='Integer', params=None)}), 'T': DeclaredTypeInstance(type='Integer', params=None)})}), 'T': DeclaredTypeInstance(type='Integer', params=None)}, args=['2445145776796725530', '5109073286877630545'], kwargs=None)], '-7341282861926611629': ['-601798127143681366', CallNode(function='Maybe.__or__', type_params={'T': DeclaredTypeInstance(type='Either', params={'U': DeclaredTypeInstance(type='Vec', params={'T': DeclaredTypeInstance(type='Integer', params=None)}), 'T': DeclaredTypeInstance(type='Integer', params=None)})}, args=['7138771968961129037', '3931380370487318699'], kwargs=None)], '865707262714063924': ['3770459566127010284', CallNode(function='Maybe.__and__', type_params={'T': DeclaredTypeInstance(type='NDArray', params=None)}, args=['28407508120041940', '-7341282861926611629'], kwargs=None)], '6383802083390335751': ['7902643172531125544', CallNode(function='Maybe.match', type_params={'T': DeclaredTypeInstance(type='Pair', params={'U': DeclaredTypeInstance(type='Either', params={'U': DeclaredTypeInstance(type='Vec', params={'T': DeclaredTypeInstance(type='Integer', params=None)}), 'T': DeclaredTypeInstance(type='Integer', params=None)}), 'T': DeclaredTypeInstance(type='NDArray', params=None)})}, args=['865707262714063924', '-4664464520583065041', '3824186961073615606'], kwargs=None)], '-971104946198044689': ['-7585266382721542195', CallNode(function='NDArrayCompat.from_ndarray', type_params=None, args=['6383802083390335751'], kwargs=None)], '-2543642831653205362': ['1935586180163463095', CallNode(function='NDArrayCompat.to_ndarray', type_params=None, args=['-971104946198044689'], kwargs=None)], '-7067585356806477310': ['-7067585356806477310', CallNode(function='Either.left', type_params={'U': DeclaredTypeInstance(type='Vec', params={'T': DeclaredTypeInstance(type='Integer', params=None)}), 'T': DeclaredTypeInstance(type='Integer', params=None)}, args=['5109073286877630545'], kwargs=None)], '-3000247746444544398': ['-8515717911257762846', CallNode(function='Maybe.just', type_params={'T': DeclaredTypeInstance(type='Either', params={'U': DeclaredTypeInstance(type='Vec', params={'T': DeclaredTypeInstance(type='Integer', params=None)}), 'T': DeclaredTypeInstance(type='Integer', params=None)})}, args=['-7067585356806477310'], kwargs=None)], '-263414093149551726': ['-601798127143681366', CallNode(function='Maybe.__or__', type_params={'T': DeclaredTypeInstance(type='Either', params={'U': DeclaredTypeInstance(type='Vec', params={'T': DeclaredTypeInstance(type='Integer', params=None)}), 'T': DeclaredTypeInstance(type='Integer', params=None)})}, args=['-3000247746444544398', '3931380370487318699'], kwargs=None)], '-7755731675456949430': ['3770459566127010284', CallNode(function='Maybe.__and__', type_params={'T': DeclaredTypeInstance(type='NDArray', params=None)}, args=['28407508120041940', '-263414093149551726'], kwargs=None)], '6249862171060341502': ['7902643172531125544', CallNode(function='Maybe.match', type_params={'T': DeclaredTypeInstance(type='Pair', params={'U': DeclaredTypeInstance(type='Either', params={'U': DeclaredTypeInstance(type='Vec', params={'T': DeclaredTypeInstance(type='Integer', params=None)}), 'T': DeclaredTypeInstance(type='Integer', params=None)}), 'T': DeclaredTypeInstance(type='NDArray', params=None)})}, args=['-7755731675456949430', '-4664464520583065041', '3824186961073615606'], kwargs=None)], '-697434818483336094': ['-7585266382721542195', CallNode(function='NDArrayCompat.from_ndarray', type_params=None, args=['6249862171060341502'], kwargs=None)], '-1529447170174692193': ['1935586180163463095', CallNode(function='NDArrayCompat.to_ndarray', type_params=None, args=['-697434818483336094'], kwargs=None)], '-255592637557283532': ['-601798127143681366', CallNode(function='Maybe.just', type_params=None, args=['-7067585356806477310'], kwargs=None)], '3453706505360842280': ['3770459566127010284', CallNode(function='Maybe.__and__', type_params={'T': DeclaredTypeInstance(type='NDArray', params=None)}, args=['28407508120041940', '-255592637557283532'], kwargs=None)], '5654487937442623020': ['7902643172531125544', CallNode(function='Maybe.match', type_params={'T': DeclaredTypeInstance(type='Pair', params={'U': DeclaredTypeInstance(type='Either', params={'U': DeclaredTypeInstance(type='Vec', params={'T': DeclaredTypeInstance(type='Integer', params=None)}), 'T': DeclaredTypeInstance(type='Integer', params=None)}), 'T': DeclaredTypeInstance(type='NDArray', params=None)})}, args=['3453706505360842280', '-4664464520583065041', '3824186961073615606'], kwargs=None)], '8671077214046973556': ['-7585266382721542195', CallNode(function='NDArrayCompat.from_ndarray', type_params=None, args=['5654487937442623020'], kwargs=None)], '6194885569319287846': ['1935586180163463095', CallNode(function='NDArrayCompat.to_ndarray', type_params=None, args=['8671077214046973556'], kwargs=None)], '7221518456433276231': ['7221518456433276231', CallNode(function='Maybe.just', type_params={'T': DeclaredTypeInstance(type='NDArray', params=None)}, args=['5862299951965675192'], kwargs=None)], '2191938714586462820': ['6801381674161147896', CallNode(function='Abstraction.create', type_params=None, args=['3481659688989734831', '7221518456433276231'], kwargs=None)], '-7083881267291258019': ['-710006793518321344', CallNode(function='Abstraction.__call__', type_params={'U': DeclaredTypeInstance(type='Maybe', params={'T': DeclaredTypeInstance(type='NDArray', params=None)}), 'T': DeclaredTypeInstance(type='Integer', params=None)}, args=['2191938714586462820', '579615478629357154'], kwargs=None)], '983257553804758448': ['-1050884032506130782', CallNode(function='NDArrayCompat.from_ndarray', type_params=None, args=['-7083881267291258019'], kwargs=None)], '-7437227986272372712': ['2479618931988953124', CallNode(function='NDArrayCompat.__add__', type_params=None, args=['983257553804758448', '983257553804758448'], kwargs=None)], '-3677782086974309606': ['-693852287426370102', CallNode(function='Converter.convert', type_params={'T': DeclaredTypeInstance(type='NDArray', params=None)}, args=['-7437227986272372712'], kwargs=None)], '-6258701584004857227': ['3770459566127010284', CallNode(function='Maybe.__and__', type_params={'T': DeclaredTypeInstance(type='NDArray', params=None)}, args=['-3677782086974309606', '-255592637557283532'], kwargs=None)], '868080771660981626': ['7902643172531125544', CallNode(function='Maybe.match', type_params={'T': DeclaredTypeInstance(type='Pair', params={'U': DeclaredTypeInstance(type='Either', params={'U': DeclaredTypeInstance(type='Vec', params={'T': DeclaredTypeInstance(type='Integer', params=None)}), 'T': DeclaredTypeInstance(type='Integer', params=None)}), 'T': DeclaredTypeInstance(type='NDArray', params=None)})}, args=['-6258701584004857227', '-4664464520583065041', '3824186961073615606'], kwargs=None)], '-4132662367347143088': ['-7585266382721542195', CallNode(function='NDArrayCompat.from_ndarray', type_params=None, args=['868080771660981626'], kwargs=None)], '-8636050747429858706': ['1935586180163463095', CallNode(function='NDArrayCompat.to_ndarray', type_params=None, args=['-4132662367347143088'], kwargs=None)], '1492449749867095234': ['1492449749867095234', CallNode(function='arange_', type_params=None, args=['579615478629357154'], kwargs=None)], '-8709039676988586081': ['-710006793518321344', CallNode(function='Maybe.just', type_params={'T': DeclaredTypeInstance(type='NDArray', params=None)}, args=['1492449749867095234'], kwargs=None)], '2699990931408063806': ['-1050884032506130782', CallNode(function='NDArrayCompat.from_ndarray', type_params=None, args=['-8709039676988586081'], kwargs=None)], '5624114912053899358': ['2479618931988953124', CallNode(function='NDArrayCompat.__add__', type_params=None, args=['2699990931408063806', '2699990931408063806'], kwargs=None)], '3246722563793329763': ['-693852287426370102', CallNode(function='Converter.convert', type_params={'T': DeclaredTypeInstance(type='NDArray', params=None)}, args=['5624114912053899358'], kwargs=None)], '-3884415917423819528': ['3770459566127010284', CallNode(function='Maybe.__and__', type_params={'T': DeclaredTypeInstance(type='NDArray', params=None)}, args=['3246722563793329763', '-255592637557283532'], kwargs=None)], '-2529567200019961330': ['7902643172531125544', CallNode(function='Maybe.match', type_params={'T': DeclaredTypeInstance(type='Pair', params={'U': DeclaredTypeInstance(type='Either', params={'U': DeclaredTypeInstance(type='Vec', params={'T': DeclaredTypeInstance(type='Integer', params=None)}), 'T': DeclaredTypeInstance(type='Integer', params=None)}), 'T': DeclaredTypeInstance(type='NDArray', params=None)})}, args=['-3884415917423819528', '-4664464520583065041', '3824186961073615606'], kwargs=None)], '-3092944533282477261': ['-7585266382721542195', CallNode(function='NDArrayCompat.from_ndarray', type_params=None, args=['-2529567200019961330'], kwargs=None)], '-6990033121179623761': ['1935586180163463095', CallNode(function='NDArrayCompat.to_ndarray', type_params=None, args=['-3092944533282477261'], kwargs=None)], '-4619107828061912794': ['1395466120539641181', CallNode(function='NDArray.__add__', type_params=None, args=['1492449749867095234', '1492449749867095234'], kwargs=None)], '-6045266018355487893': ['-693852287426370102', CallNode(function='Maybe.just', type_params=None, args=['-4619107828061912794'], kwargs=None)], '-1011633400249230129': ['2479618931988953124', CallNode(function='NDArrayCompat.from_ndarray', type_params=None, args=['-6045266018355487893'], kwargs=None)], '-2822577839386693752': ['-693852287426370102', CallNode(function='Converter.convert', type_params={'T': DeclaredTypeInstance(type='NDArray', params=None)}, args=['-1011633400249230129'], kwargs=None)], '3872101413456062539': ['3770459566127010284', CallNode(function='Maybe.__and__', type_params={'T': DeclaredTypeInstance(type='NDArray', params=None)}, args=['-2822577839386693752', '-255592637557283532'], kwargs=None)], '3336205771935707391': ['7902643172531125544', CallNode(function='Maybe.match', type_params={'T': DeclaredTypeInstance(type='Pair', params={'U': DeclaredTypeInstance(type='Either', params={'U': DeclaredTypeInstance(type='Vec', params={'T': DeclaredTypeInstance(type='Integer', params=None)}), 'T': DeclaredTypeInstance(type='Integer', params=None)}), 'T': DeclaredTypeInstance(type='NDArray', params=None)})}, args=['3872101413456062539', '-4664464520583065041', '3824186961073615606'], kwargs=None)], '7137757682422778466': ['-7585266382721542195', CallNode(function='NDArrayCompat.from_ndarray', type_params=None, args=['3336205771935707391'], kwargs=None)], '-5094789078709316628': ['1935586180163463095', CallNode(function='NDArrayCompat.to_ndarray', type_params=None, args=['7137757682422778466'], kwargs=None)], '-7640308243335310651': ['3770459566127010284', CallNode(function='Maybe.__and__', type_params={'T': DeclaredTypeInstance(type='NDArray', params=None)}, args=['-6045266018355487893', '-255592637557283532'], kwargs=None)], '5545252579807753009': ['7902643172531125544', CallNode(function='Maybe.match', type_params={'T': DeclaredTypeInstance(type='Pair', params={'U': DeclaredTypeInstance(type='Either', params={'U': DeclaredTypeInstance(type='Vec', params={'T': DeclaredTypeInstance(type='Integer', params=None)}), 'T': DeclaredTypeInstance(type='Integer', params=None)}), 'T': DeclaredTypeInstance(type='NDArray', params=None)})}, args=['-7640308243335310651', '-4664464520583065041', '3824186961073615606'], kwargs=None)], '-2401043131019115219': ['-7585266382721542195', CallNode(function='NDArrayCompat.from_ndarray', type_params=None, args=['5545252579807753009'], kwargs=None)], '-8770014808466506423': ['1935586180163463095', CallNode(function='NDArrayCompat.to_ndarray', type_params=None, args=['-2401043131019115219'], kwargs=None)], '643017614923179061': ['643017614923179061', CallNode(function='Pair.create', type_params=None, args=['-4619107828061912794', '-7067585356806477310'], kwargs=None)], '5252046903394539286': ['3770459566127010284', CallNode(function='Maybe.just', type_params=None, args=['643017614923179061'], kwargs=None)], '-5599722485704847557': ['7902643172531125544', CallNode(function='Maybe.match', type_params={'T': DeclaredTypeInstance(type='Pair', params={'U': DeclaredTypeInstance(type='Either', params={'U': DeclaredTypeInstance(type='Vec', params={'T': DeclaredTypeInstance(type='Integer', params=None)}), 'T': DeclaredTypeInstance(type='Integer', params=None)}), 'T': DeclaredTypeInstance(type='NDArray', params=None)})}, args=['5252046903394539286', '-4664464520583065041', '3824186961073615606'], kwargs=None)], '-3984573630311167809': ['-7585266382721542195', CallNode(function='NDArrayCompat.from_ndarray', type_params=None, args=['-5599722485704847557'], kwargs=None)], '-5377751653156838285': ['1935586180163463095', CallNode(function='NDArrayCompat.to_ndarray', type_params=None, args=['-3984573630311167809'], kwargs=None)], '-8584052827336163697': ['7902643172531125544', CallNode(function='Abstraction.__call__', type_params={'U': DeclaredTypeInstance(type='Maybe', params={'T': DeclaredTypeInstance(type='NDArray', params=None)}), 'T': DeclaredTypeInstance(type='Pair', params={'U': DeclaredTypeInstance(type='Either', params={'U': DeclaredTypeInstance(type='Vec', params={'T': DeclaredTypeInstance(type='Integer', params=None)}), 'T': DeclaredTypeInstance(type='Integer', params=None)}), 'T': DeclaredTypeInstance(type='NDArray', params=None)})}, args=['3824186961073615606', '643017614923179061'], kwargs=None)], '3316945241568607694': ['-7585266382721542195', CallNode(function='NDArrayCompat.from_ndarray', type_params=None, args=['-8584052827336163697'], kwargs=None)], '488566106128567278': ['1935586180163463095', CallNode(function='NDArrayCompat.to_ndarray', type_params=None, args=['3316945241568607694'], kwargs=None)], '1395466120539641181': ['1395466120539641181', CallNode(function='Pair.left', type_params={'U': DeclaredTypeInstance(type='Either', params={'U': DeclaredTypeInstance(type='Vec', params={'T': DeclaredTypeInstance(type='Integer', params=None)}), 'T': DeclaredTypeInstance(type='Integer', params=None)}), 'T': DeclaredTypeInstance(type='NDArray', params=None)}, args=['643017614923179061'], kwargs=None)], '6301162349869030677': ['6301162349869030677', CallNode(function='Pair.right', type_params={'U': DeclaredTypeInstance(type='Either', params={'U': DeclaredTypeInstance(type='Vec', params={'T': DeclaredTypeInstance(type='Integer', params=None)}), 'T': DeclaredTypeInstance(type='Integer', params=None)}), 'T': DeclaredTypeInstance(type='NDArray', params=None)}, args=['643017614923179061'], kwargs=None)], '9219245304176348434': ['9219245304176348434', CallNode(function='NDArray.__getitem__', type_params=None, args=['1395466120539641181', '6301162349869030677'], kwargs=None)], '-2903661489942354244': ['7902643172531125544', CallNode(function='Maybe.just', type_params={'T': DeclaredTypeInstance(type='NDArray', params=None)}, args=['9219245304176348434'], kwargs=None)], '44395248776030981': ['-7585266382721542195', CallNode(function='NDArrayCompat.from_ndarray', type_params=None, args=['-2903661489942354244'], kwargs=None)], '-6415487103606775028': ['1935586180163463095', CallNode(function='NDArrayCompat.to_ndarray', type_params=None, args=['44395248776030981'], kwargs=None)], '812146376475600282': ['9219245304176348434', CallNode(function='NDArray.__getitem__', type_params=None, args=['1395466120539641181', '-7067585356806477310'], kwargs=None)], '-5333004143361228569': ['7902643172531125544', CallNode(function='Maybe.just', type_params={'T': DeclaredTypeInstance(type='NDArray', params=None)}, args=['812146376475600282'], kwargs=None)], '-2730920362030976645': ['-7585266382721542195', CallNode(function='NDArrayCompat.from_ndarray', type_params=None, args=['-5333004143361228569'], kwargs=None)], '1910669533948444199': ['1935586180163463095', CallNode(function='NDArrayCompat.to_ndarray', type_params=None, args=['-2730920362030976645'], kwargs=None)], '-8562840633844268781': ['9219245304176348434', CallNode(function='NDArray.__getitem__', type_params=None, args=['-4619107828061912794', '-7067585356806477310'], kwargs=None)], '-2600167263746280635': ['7902643172531125544', CallNode(function='Maybe.just', type_params={'T': DeclaredTypeInstance(type='NDArray', params=None)}, args=['-8562840633844268781'], kwargs=None)], '-8582480166607514506': ['-7585266382721542195', CallNode(function='NDArrayCompat.from_ndarray', type_params=None, args=['-2600167263746280635'], kwargs=None)], '-6982537285276620806': ['1935586180163463095', CallNode(function='NDArrayCompat.to_ndarray', type_params=None, args=['-8582480166607514506'], kwargs=None)], '-631114738667227295': ['-631114738667227295', CallNode(function='NDArray.__getitem__', type_params=None, args=['1492449749867095234', '-7067585356806477310'], kwargs=None)], '8139586425235452796': ['8139586425235452796', CallNode(function='NDArray.__add__', type_params=None, args=['-631114738667227295', '-631114738667227295'], kwargs=None)], '-8153415770133474242': ['7902643172531125544', CallNode(function='Maybe.just', type_params={'T': DeclaredTypeInstance(type='NDArray', params=None)}, args=['8139586425235452796'], kwargs=None)], '-2776478246306858363': ['-7585266382721542195', CallNode(function='NDArrayCompat.from_ndarray', type_params=None, args=['-8153415770133474242'], kwargs=None)], '-4677967699452908559': ['1935586180163463095', CallNode(function='NDArrayCompat.to_ndarray', type_params=None, args=['-2776478246306858363'], kwargs=None)], '-1359963527519149664': ['1935586180163463095', CallNode(function='NDArray.to_ndarray', type_params=None, args=['8139586425235452796'], kwargs=None)], '-2324897974934532418': ['-2324897974934532418', CallNode(function='NDArray.to_ndarray', type_params=None, args=['-631114738667227295'], kwargs=None)], '-5098662226766386384': ['1935586180163463095', CallNode(function='ndarray_add', type_params=None, args=['-2324897974934532418', '-2324897974934532418'], kwargs=None)], '3410846223516364705': ['3410846223516364705', CallNode(function='NDArray.to_ndarray', type_params=None, args=['1492449749867095234'], kwargs=None)], '7756835102063988763': ['7756835102063988763', CallNode(function='unbox_idxs', type_params=None, args=['-7067585356806477310'], kwargs=None)], '8920328074254634750': ['-2324897974934532418', CallNode(function='ndarray_getitem', type_params=None, args=['3410846223516364705', '7756835102063988763'], kwargs=None)], '4868045427060116568': ['1935586180163463095', CallNode(function='ndarray_add', type_params=None, args=['8920328074254634750', '8920328074254634750'], kwargs=None)], '8569104213158216184': ['7756835102063988763', CallNode(function='unbox_integer', type_params=None, args=['5109073286877630545'], kwargs=None)], '-1649160540207050919': ['-2324897974934532418', CallNode(function='ndarray_getitem', type_params=None, args=['3410846223516364705', '8569104213158216184'], kwargs=None)], '963159873203479688': ['1935586180163463095', CallNode(function='ndarray_add', type_params=None, args=['-1649160540207050919', '-1649160540207050919'], kwargs=None)], '3837720780772065142': ['-2324897974934532418', CallNode(function='ndarray_getitem', type_params=None, args=['3410846223516364705', '5838084232112052900'], kwargs=None)], '8588853776317314472': ['1935586180163463095', CallNode(function='ndarray_add', type_params=None, args=['3837720780772065142', '3837720780772065142'], kwargs=None)], '6003697446393151645': ['6003697446393151645', CallNode(function='unbox_integer', type_params=None, args=['579615478629357154'], kwargs=None)], '5435969851716377834': ['3410846223516364705', CallNode(function='arange', type_params=None, args=['6003697446393151645'], kwargs=None)], '3253987155015877392': ['-2324897974934532418', CallNode(function='ndarray_getitem', type_params=None, args=['5435969851716377834', '5838084232112052900'], kwargs=None)], '-8644853813721706856': ['1935586180163463095', CallNode(function='ndarray_add', type_params=None, args=['3253987155015877392', '3253987155015877392'], kwargs=None)], '-2484432628204838036': ['3410846223516364705', CallNode(function='arange', type_params=None, args=['5838084232007047975'], kwargs=None)], '5962832767606310651': ['-2324897974934532418', CallNode(function='ndarray_getitem', type_params=None, args=['-2484432628204838036', '5838084232112052900'], kwargs=None)], '8931569416374346288': ['1935586180163463095', CallNode(function='ndarray_add', type_params=None, args=['5962832767606310651', '5962832767606310651'], kwargs=None)], '-6213901634593861291': ['3410846223516364705', PrimitiveNode(type='ndarray', repr='array([ 0,  1,  2,  3,  4,  5,  6,  7,  8,  9, 10, 11, 12, 13, 14, 15, 16,\\n       17, 18, 19, 20, 21, 22, 23, 24, 25, 26, 27, 28, 29, 30, 31, 32, 33,\\n       34, 35, 36, 37, 38, 39, 40, 41, 42, 43, 44, 45, 46, 47, 48, 49, 50,\\n       51, 52, 53, 54, 55, 56, 57, 58, 59, 60, 61, 62, 63, 64, 65, 66, 67,\\n       68, 69, 70, 71, 72, 73, 74, 75, 76, 77, 78, 79, 80, 81, 82, 83, 84,\\n       85, 86, 87, 88, 89, 90, 91, 92, 93, 94, 95, 96, 97, 98, 99])')], '5071896665634334787': ['-2324897974934532418', CallNode(function='ndarray_getitem', type_params=None, args=['-6213901634593861291', '5838084232112052900'], kwargs=None)], '8957850406086502320': ['1935586180163463095', CallNode(function='ndarray_add', type_params=None, args=['5071896665634334787', '5071896665634334787'], kwargs=None)], '-6213901846959285691': ['-2324897974934532418', PrimitiveNode(type='ndarray', repr='array(5)')], '715990821971166000': ['1935586180163463095', CallNode(function='ndarray_add', type_params=None, args=['-6213901846959285691', '-6213901846959285691'], kwargs=None)], '3056694902852834817': ['1935586180163463095', PrimitiveNode(type='int64', repr='10')]}, states=States(initial='1935586180163463095', states=[State(node='5179407927210079169', rule='metadsl_core.numpy.NDArrayCompat.__getitem__', label=None), State(node='-7166720341481262269', rule='metadsl_core.either.convert_to_either', label=None), State(node='8717298061299669538', rule='metadsl_core.integer.convert_integer', label=None), State(node='848120509406073737', rule='metadsl_core.numpy.arange', label=None), State(node='8180244667050589252', rule='metadsl_core.integer.convert_integer', label=None), State(node='-2896401226179532675', rule='metadsl_core.abstraction.Abstraction.from_fn', label=None), State(node='2760550538656796282', rule='metadsl_core.abstraction.Abstraction.from_fn', label=None), State(node='-8534948527576490255', rule='metadsl_core.abstraction.Abstraction.from_fn', label=None), State(node='-2526782594461052991', rule='metadsl_core.abstraction.Abstraction.from_fn', label=None), State(node='1619459771250843198', rule='metadsl_core.maybe.Maybe.map', label=None), State(node='-4863314574823831270', rule='metadsl_core.maybe.Maybe.map', label=None), State(node='9165598983254956855', rule='metadsl_core.maybe.Maybe.map', label=None), State(node='-4174312232391793700', rule='metadsl_core.maybe.maybe_match', label=None), State(node='-1565107483550253999', rule='metadsl_core.maybe.Maybe.map', label=None), State(node='5875209040284893536', rule='metadsl_core.maybe.maybe_match', label=None), State(node='-2710983233644286474', rule='metadsl_core.abstraction.Abstraction.from_fn', label=None), State(node='-8746822573835151313', rule='metadsl_core.abstraction.Abstraction.from_fn', label=None), State(node='2859344359834789841', rule='metadsl_core.abstraction.compose', label=None), State(node='2853526785382423624', rule='metadsl_core.abstraction.compose', label=None), State(node='-2543642831653205362', rule='metadsl_core.abstraction.compose', label=None), State(node='-1529447170174692193', rule='metadsl_core.abstraction.beta_reduce', label=None), State(node='6194885569319287846', rule='metadsl_core.maybe.maybe_or', label=None), State(node='-8636050747429858706', rule='metadsl_core.abstraction.compose', label=None), State(node='-6990033121179623761', rule='metadsl_core.abstraction.beta_reduce', label=None), State(node='-5094789078709316628', rule='metadsl_core.numpy.add_compat', label=None), State(node='-8770014808466506423', rule='metadsl_core.numpy.convert_to_ndarray', label=None), State(node='-5377751653156838285', rule='metadsl_core.maybe.maybe_and', label=None), State(node='488566106128567278', rule='metadsl_core.maybe.maybe_match', label=None), State(node='-6415487103606775028', rule='metadsl_core.abstraction.beta_reduce', label=None), State(node='1910669533948444199', rule='metadsl_core.pair.pair_right', label=None), State(node='-6982537285276620806', rule='metadsl_core.pair.pair_left', label=None), State(node='-6982537285276620806', rule='', label='convert'), State(node='-4677967699452908559', rule='__main__.optimize_getitem_add', label=None), State(node='-4677967699452908559', rule='', label='optimize'), State(node='-1359963527519149664', rule='metadsl_core.numpy.box_unbox_ndarray_compat', label=None), State(node='-5098662226766386384', rule='metadsl_core.numpy_engine.unbox_ndarray_add', label=None), State(node='4868045427060116568', rule='metadsl_core.numpy_engine.unbox_ndarray_getitem', label=None), State(node='963159873203479688', rule='metadsl_core.numpy_engine.unbox_idxs_rule', label=None), State(node='8588853776317314472', rule='metadsl_core.numpy_engine.unbox_integer_rule', label=None), State(node='-8644853813721706856', rule='metadsl_core.numpy_engine.unbox_arange', label=None), State(node='8931569416374346288', rule='metadsl_core.numpy_engine.unbox_integer_rule', label=None), State(node='8931569416374346288', rule='', label='unbox'), State(node='8957850406086502320', rule='metadsl_core.numpy_engine.arange', label=None), State(node='715990821971166000', rule='metadsl_core.numpy_engine.ndarray_getitem', label=None), State(node='3056694902852834817', rule='metadsl_core.numpy_engine.ndarray_add', label=None), State(node='3056694902852834817', rule='', label='execute')]))"
      ]
     },
     "metadata": {},
     "output_type": "display_data"
    },
    {
     "data": {
      "text/plain": [
       "10"
      ]
     },
     "metadata": {},
     "output_type": "display_data"
    }
   ],
   "source": [
    "expr"
   ]
  },
  {
   "cell_type": "markdown",
   "metadata": {},
   "source": [
    "This shows how we can break up the NumPy API into different layers, all of which are extensible:\n",
    "\n",
    "1. A compatibility layer that works like the existing NumPy API, except isn't limited to the Python types of the current API\n",
    "2. A type safe version of this API. The conversion between the compatability layer and this layer is extensible, so that third party authors can add new conversion between their own Python objects and the typed representation.\n",
    "3. A backend layer that translates either back to Python calls or source code, or to other targets like LLVM or Tensorflow.\n",
    "\n",
    "The key is that all these layers are composable, so you could have different frontends for any of them or add your own. This is all done through a typed replacement system that is compatible with static analysis using MyPy.\n",
    "\n",
    "`metadsl` is the glue that allows us to define this API in a way that enables greater greater collaboration. Since each layer has it's own well defined specification, different projects can extend and target these seperate layers, while minimizing the need to explicitly opt in to collaborate. The goal is to enable greater reuse, interoperability, and extensability within the Python scientific ecosystem."
   ]
  }
 ],
 "metadata": {
  "kernelspec": {
   "display_name": "Python 3",
   "language": "python",
   "name": "python3"
  },
  "language_info": {
   "codemirror_mode": {
    "name": "ipython",
    "version": 3
   },
   "file_extension": ".py",
   "mimetype": "text/x-python",
   "name": "python",
   "nbconvert_exporter": "python",
   "pygments_lexer": "ipython3",
   "version": "3.7.3"
  }
 },
 "nbformat": 4,
 "nbformat_minor": 4
}
