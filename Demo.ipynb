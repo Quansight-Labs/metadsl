{
 "cells": [
  {
   "cell_type": "markdown",
   "metadata": {},
   "source": [
    "# `metadsl`\n",
    "\n",
    "...is a framework for creating domain specific languages in Python."
   ]
  },
  {
   "cell_type": "code",
   "execution_count": null,
   "metadata": {},
   "outputs": [],
   "source": [
    "from __future__ import annotations\n",
    "\n",
    "from metadsl import *\n",
    "from metadsl_core import *\n",
    "from metadsl_visualize import *\n",
    "\n",
    "set_rule(all_rules)"
   ]
  },
  {
   "cell_type": "markdown",
   "metadata": {},
   "source": [
    "Here, we show a NumPy API compatible DSL that we have started writing. We can create a symbolic expression and then execute it. The widget shows the different stages of execution:"
   ]
  },
  {
   "cell_type": "code",
   "execution_count": 2,
   "metadata": {},
   "outputs": [
    {
     "data": {
      "text/plain": [
       "'int'"
      ]
     },
     "execution_count": 2,
     "metadata": {},
     "output_type": "execute_result"
    }
   ],
   "source": [
    "int.__qualname__"
   ]
  },
  {
   "cell_type": "code",
   "execution_count": 3,
   "metadata": {},
   "outputs": [
    {
     "data": {
      "application/json": {
       "nodes": {
        "-1067913395472170990": {
         "args": [
          "7655919487149005518"
         ],
         "function": "metadsl_core.numpy.NDArrayCompat.from_ndarray"
        },
        "-1094516537492958954": {
         "args": [
          "4676651571074731459"
         ],
         "function": "metadsl_core.numpy.NDArrayCompat.to_ndarray"
        },
        "-112819658371690377": {
         "args": [
          "7162749638175375854"
         ],
         "function": "metadsl_core.numpy.NDArrayCompat.to_ndarray"
        },
        "-1137683865661979021": {
         "args": [
          "7797316072527765022",
          "8068863999341934174",
          "4851812645542628349"
         ],
         "function": "metadsl_core.maybe.Maybe.match"
        },
        "-1194107537739900246": {
         "args": [
          "-8904427392122946666",
          "7139963045110523021"
         ],
         "function": "metadsl_core.abstraction.Abstraction.create",
         "type_params": {
          "T": {
           "type": "metadsl_core.numpy.NDArray"
          },
          "U": {
           "params": {
            "T": {
             "type": "metadsl_core.numpy.NDArray"
            }
           },
           "type": "metadsl_core.maybe.Maybe"
          }
         }
        },
        "-1282100583479989896": {
         "args": [
          "6656253538077465464"
         ],
         "function": "metadsl_core.numpy.NDArrayCompat.to_ndarray"
        },
        "-1337239335869406530": {
         "args": [
          "-6008714097682319068"
         ],
         "function": "metadsl_core.maybe.Maybe.just",
         "type_params": {
          "T": {
           "params": {
            "T": {
             "type": "metadsl_core.integer.Integer"
            },
            "U": {
             "params": {
              "T": {
               "type": "metadsl_core.integer.Integer"
              }
             },
             "type": "metadsl_core.vec.Vec"
            }
           },
           "type": "metadsl_core.either.Either"
          }
         }
        },
        "-1488143653730295426": {
         "args": [
          "8011578591567469682"
         ],
         "function": "metadsl_core.numpy.NDArrayCompat.to_ndarray"
        },
        "-1501680988242457463": {
         "args": [
          "2384170894126756314",
          "4303660612184882997"
         ],
         "function": "metadsl_core.numpy.NDArrayCompat.__add__"
        },
        "-1597572784870236758": {
         "args": [
          "262720035100645087"
         ],
         "function": "metadsl_core.abstraction.Abstraction.from_fn",
         "type_params": {
          "T": {
           "params": {
            "T": {
             "type": "metadsl_core.numpy.NDArray"
            },
            "U": {
             "params": {
              "T": {
               "type": "metadsl_core.integer.Integer"
              },
              "U": {
               "params": {
                "T": {
                 "type": "metadsl_core.integer.Integer"
                }
               },
               "type": "metadsl_core.vec.Vec"
              }
             },
             "type": "metadsl_core.either.Either"
            }
           },
           "type": "metadsl_core.pair.Pair"
          },
          "U": {
           "type": "metadsl_core.numpy.NDArray"
          }
         }
        },
        "-1829747029505276846": {
         "args": [
          "-7072015656725536411"
         ],
         "function": "metadsl_core.numpy.NDArrayCompat.from_ndarray"
        },
        "-1865665164701305046": {
         "args": [
          "6781755440912753152"
         ],
         "function": "metadsl_core.numpy.NDArrayCompat.to_ndarray"
        },
        "-1868880396084484131": {
         "args": [
          "-7987333923993951682",
          "4303660612184882997"
         ],
         "function": "metadsl_core.numpy.NDArrayCompat.__add__"
        },
        "-1963970534035934393": {
         "args": [
          "5276179573125255989"
         ],
         "function": "metadsl_core.numpy.NDArrayCompat.to_ndarray"
        },
        "-1975351561145408752": {
         "args": [
          "-1194107537739900246",
          "3412487465505697437"
         ],
         "function": "metadsl_core.abstraction.Abstraction.__add__",
         "type_params": {
          "T": {
           "type": "metadsl_core.numpy.NDArray"
          },
          "U": {
           "params": {
            "T": {
             "type": "metadsl_core.numpy.NDArray"
            }
           },
           "type": "metadsl_core.maybe.Maybe"
          }
         }
        },
        "-2010962969679169342": {
         "args": [
          "3725924941061137586"
         ],
         "function": "metadsl_core.numpy.NDArrayCompat.from_ndarray"
        },
        "-216673006642294697": {
         "args": [
          "-81300809231386227",
          "3311669872602078531"
         ],
         "function": "metadsl_core.abstraction.Abstraction.create",
         "type_params": {
          "T": {
           "type": "metadsl_core.numpy.NDArray"
          },
          "U": {
           "params": {
            "T": {
             "type": "metadsl_core.numpy.NDArray"
            }
           },
           "type": "metadsl_core.maybe.Maybe"
          }
         }
        },
        "-2293520926042171655": {
         "args": [
          "-5103881456692840313",
          "2595876046779093839"
         ],
         "function": "metadsl_core.numpy_engine.ndarray_getitem"
        },
        "-2401732686863051681": {
         "args": [
          "817091891189644235"
         ],
         "function": "metadsl_core.maybe.Maybe.just",
         "type_params": {
          "T": {
           "params": {
            "T": {
             "type": "metadsl_core.integer.Integer"
            },
            "U": {
             "params": {
              "T": {
               "type": "metadsl_core.integer.Integer"
              }
             },
             "type": "metadsl_core.vec.Vec"
            }
           },
           "type": "metadsl_core.either.Either"
          }
         }
        },
        "-2405415694894462771": {
         "args": [
          "-7050939469329363993"
         ],
         "function": "metadsl_core.numpy.NDArrayCompat.to_ndarray"
        },
        "-240981680985143449": {
         "args": [
          "-3572761542161006031"
         ],
         "function": "metadsl_core.numpy.NDArrayCompat.to_ndarray"
        },
        "-2436455881183708393": {
         "args": [
          "2734182803792467636",
          "-5586188481033579152"
         ],
         "function": "metadsl_core.abstraction.Abstraction.__call__",
         "type_params": {
          "T": {
           "type": "metadsl_core.integer.Integer"
          },
          "U": {
           "params": {
            "T": {
             "type": "metadsl_core.numpy.NDArray"
            }
           },
           "type": "metadsl_core.maybe.Maybe"
          }
         }
        },
        "-2464225006306172744": {
         "args": [
          "8827937447916458827"
         ],
         "function": "metadsl_core.abstraction.Abstraction.create_variable",
         "type_params": {
          "T": {
           "type": "metadsl_core.integer.Integer"
          },
          "U": {
           "type": "metadsl_core.numpy.NDArray"
          }
         }
        },
        "-2610089124704566275": {
         "args": [
          "-1067913395472170990"
         ],
         "function": "metadsl_core.numpy.NDArrayCompat.to_ndarray"
        },
        "-262277831547238305": {
         "args": [
          "3389886460835642095"
         ],
         "function": "metadsl_core.conversion.Converter.convert",
         "type_params": {
          "T": {
           "type": "metadsl_core.numpy.NDArray"
          }
         }
        },
        "-2634513499031893160": {
         "args": [
          "3131308364088559969"
         ],
         "function": "metadsl_core.numpy.NDArrayCompat.from_ndarray"
        },
        "-2670779258779313667": {
         "args": [
          "-6002442574073877530"
         ],
         "function": "metadsl_core.numpy.NDArrayCompat.to_ndarray"
        },
        "-2680453223507947069": {
         "args": [
          "-7432882207666982055",
          "5022835162792355128"
         ],
         "function": "metadsl_core.abstraction.Abstraction.create",
         "type_params": {
          "T": {
           "type": "metadsl_core.integer.Integer"
          },
          "U": {
           "type": "metadsl_core.numpy.NDArray"
          }
         }
        },
        "-2718090716729297616": {
         "args": [
          "6616158181666278405",
          "-667452899427283428"
         ],
         "function": "metadsl_core.maybe.Maybe.map",
         "type_params": {
          "T": {
           "type": "metadsl_core.integer.Integer"
          }
         }
        },
        "-280432089349873217": {
         "args": [
          "-5586188481033579152"
         ],
         "function": "metadsl_core.numpy_engine.unbox_integer"
        },
        "-2855193641958112959": {
         "args": [
          "2284822294336161471",
          "6333628148795243599"
         ],
         "function": "metadsl_core.maybe.Maybe.map",
         "type_params": {
          "T": {
           "params": {
            "T": {
             "type": "metadsl_core.numpy.NDArray"
            },
            "U": {
             "params": {
              "T": {
               "type": "metadsl_core.integer.Integer"
              },
              "U": {
               "params": {
                "T": {
                 "type": "metadsl_core.integer.Integer"
                }
               },
               "type": "metadsl_core.vec.Vec"
              }
             },
             "type": "metadsl_core.either.Either"
            }
           },
           "type": "metadsl_core.pair.Pair"
          }
         }
        },
        "-2888994268370501137": {
         "args": [
          "-3925204051049862663",
          "4283552082355274468"
         ],
         "function": "metadsl_core.numpy_engine.ndarray_getitem"
        },
        "-2983356349930071758": {
         "args": [
          "1983567163581081442",
          "-7953821244861570482"
         ],
         "function": "metadsl_core.abstraction.Abstraction.__call__",
         "type_params": {
          "T": {
           "type": "metadsl_core.integer.Integer"
          },
          "U": {
           "params": {
            "T": {
             "params": {
              "T": {
               "type": "metadsl_core.integer.Integer"
              },
              "U": {
               "params": {
                "T": {
                 "type": "metadsl_core.integer.Integer"
                }
               },
               "type": "metadsl_core.vec.Vec"
              }
             },
             "type": "metadsl_core.either.Either"
            }
           },
           "type": "metadsl_core.maybe.Maybe"
          }
         }
        },
        "-3096225535317929039": {
         "args": [
          "-3597756152225037259"
         ],
         "function": "metadsl_core.maybe.Maybe.just",
         "type_params": {
          "T": {
           "type": "metadsl_core.numpy.NDArray"
          }
         }
        },
        "-3140681626949281965": {
         "repr": "Infer(fn=<function arange_ at 0x112de3ea0>, wrapper=<function wrapper at 0x1086f0048>)",
         "type": "metadsl.typing_tools.Infer"
        },
        "-3167045803850370341": {
         "args": [
          "507408070446805110",
          "6262230075306626004"
         ],
         "function": "metadsl_core.maybe.Maybe.__and__",
         "type_params": {
          "T": {
           "type": "metadsl_core.numpy.NDArray"
          }
         }
        },
        "-3239951305813847411": {
         "args": [
          "3565169242079127092",
          "6262230075306626004"
         ],
         "function": "metadsl_core.maybe.Maybe.__and__",
         "type_params": {
          "T": {
           "type": "metadsl_core.numpy.NDArray"
          }
         }
        },
        "-3282530857129661456": {
         "args": [
          "93077902880721731",
          "8068863999341934174",
          "8295271963561658079"
         ],
         "function": "metadsl_core.maybe.Maybe.match"
        },
        "-3286095517800359267": {
         "args": [
          "5377449658723039781",
          "4283552082355274468"
         ],
         "function": "metadsl_core.numpy_engine.ndarray_getitem"
        },
        "-341748044515153586": {
         "args": [
          "5022835162792355128"
         ],
         "function": "metadsl_core.maybe.Maybe.just",
         "type_params": {
          "T": {
           "type": "metadsl_core.numpy.NDArray"
          }
         }
        },
        "-3572761542161006031": {
         "args": [
          "-7544492941599470646",
          "2595876046779093839"
         ],
         "function": "metadsl_core.numpy.NDArrayCompat.__getitem__"
        },
        "-3575457940294400825": {
         "args": [
          "6723801050969027838",
          "-5656882995129175993"
         ],
         "function": "metadsl_core.numpy_engine.ndarray_add"
        },
        "-3597756152225037259": {
         "args": [
          "-2464225006306172744"
         ],
         "function": "metadsl_core.numpy.arange_"
        },
        "-3664358699684467470": {
         "args": [
          "-980643689994337257",
          "2595876046779093839"
         ],
         "function": "metadsl_core.numpy_engine.ndarray_getitem"
        },
        "-372701548317454573": {
         "args": [
          "3608513570174760438"
         ],
         "function": "metadsl_core.numpy.NDArrayCompat.from_ndarray"
        },
        "-374414884460050480": {
         "args": [
          "8492091305993508869",
          "-5586188481033579152"
         ],
         "function": "metadsl_core.abstraction.Abstraction.__call__",
         "type_params": {
          "T": {
           "type": "metadsl_core.integer.Integer"
          },
          "U": {
           "params": {
            "T": {
             "type": "metadsl_core.numpy.NDArray"
            }
           },
           "type": "metadsl_core.maybe.Maybe"
          }
         }
        },
        "-3771903115774272336": {
         "args": [
          "1464127185348198922",
          "4738032333611635480"
         ],
         "function": "metadsl_core.maybe.Maybe.__and__",
         "type_params": {
          "T": {
           "type": "metadsl_core.numpy.NDArray"
          }
         }
        },
        "-3788815265400998550": {
         "args": [
          "-1194107537739900246",
          "5379458579305837977"
         ],
         "function": "metadsl_core.abstraction.Abstraction.__add__",
         "type_params": {
          "T": {
           "type": "metadsl_core.numpy.NDArray"
          },
          "U": {
           "params": {
            "T": {
             "type": "metadsl_core.numpy.NDArray"
            }
           },
           "type": "metadsl_core.maybe.Maybe"
          }
         }
        },
        "-3925204051049862663": {
         "args": [
          "-5656882995129175993",
          "-5656882995129175993"
         ],
         "function": "metadsl_core.numpy_engine.ndarray_add"
        },
        "-395434546208890181": {
         "repr": "Variable(4616738632)",
         "type": "metadsl_core.abstraction.Variable"
        },
        "-395434558652515056": {
         "repr": "Variable(4616808152)",
         "type": "metadsl_core.abstraction.Variable"
        },
        "-395504964967825737": {
         "args": [
          "-216673006642294697",
          "3412487465505697437"
         ],
         "function": "metadsl_core.abstraction.Abstraction.__add__",
         "type_params": {
          "T": {
           "type": "metadsl_core.numpy.NDArray"
          },
          "U": {
           "params": {
            "T": {
             "type": "metadsl_core.numpy.NDArray"
            }
           },
           "type": "metadsl_core.maybe.Maybe"
          }
         }
        },
        "-3995558415943200832": {
         "args": [
          "817091891189644235",
          "-2401732686863051681"
         ],
         "function": "metadsl_core.abstraction.Abstraction.create",
         "type_params": {
          "T": {
           "params": {
            "T": {
             "type": "metadsl_core.integer.Integer"
            },
            "U": {
             "params": {
              "T": {
               "type": "metadsl_core.integer.Integer"
              }
             },
             "type": "metadsl_core.vec.Vec"
            }
           },
           "type": "metadsl_core.either.Either"
          },
          "U": {
           "params": {
            "T": {
             "params": {
              "T": {
               "type": "metadsl_core.integer.Integer"
              },
              "U": {
               "params": {
                "T": {
                 "type": "metadsl_core.integer.Integer"
                }
               },
               "type": "metadsl_core.vec.Vec"
              }
             },
             "type": "metadsl_core.either.Either"
            }
           },
           "type": "metadsl_core.maybe.Maybe"
          }
         }
        },
        "-4016052333070930884": {
         "args": [
          "7718544684111561044"
         ],
         "function": "metadsl_core.abstraction.Abstraction.from_fn"
        },
        "-4080094971635413018": {
         "args": [
          "8164894599670932671"
         ],
         "function": "metadsl_core.numpy.NDArrayCompat.to_ndarray"
        },
        "-4197592582251657334": {
         "args": [
          "7938400747573386744",
          "-667452899427283428"
         ],
         "function": "metadsl_core.maybe.Maybe.map",
         "type_params": {
          "T": {
           "type": "metadsl_core.integer.Integer"
          }
         }
        },
        "-4256360741029815939": {
         "args": [
          "8827937357323189152"
         ],
         "function": "metadsl_core.abstraction.Abstraction.create_variable",
         "type_params": {
          "T": {
           "type": "metadsl_core.numpy.NDArray"
          },
          "U": {
           "params": {
            "T": {
             "type": "metadsl_core.numpy.NDArray"
            }
           },
           "type": "metadsl_core.maybe.Maybe"
          }
         }
        },
        "-4313048907047300040": {
         "args": [
          "7718544478994724044"
         ],
         "function": "metadsl_core.abstraction.Abstraction.from_fn"
        },
        "-4323807048865148830": {
         "args": [
          "-4256360741029815939"
         ],
         "function": "metadsl_core.maybe.Maybe.just",
         "type_params": {
          "T": {
           "type": "metadsl_core.numpy.NDArray"
          }
         }
        },
        "-4338395285592754243": {
         "args": [
          "-7987333923993951682",
          "5009494716842376693"
         ],
         "function": "metadsl_core.numpy.NDArrayCompat.__add__"
        },
        "-4388090538260585294": {
         "args": [
          "-689564755399340722",
          "6723801050969027838"
         ],
         "function": "metadsl_core.numpy_engine.ndarray_add"
        },
        "-4402048225203393404": {
         "args": [
          "-73256352866512446",
          "6333628148795243599"
         ],
         "function": "metadsl_core.maybe.Maybe.map",
         "type_params": {
          "T": {
           "params": {
            "T": {
             "type": "metadsl_core.numpy.NDArray"
            },
            "U": {
             "params": {
              "T": {
               "type": "metadsl_core.integer.Integer"
              },
              "U": {
               "params": {
                "T": {
                 "type": "metadsl_core.integer.Integer"
                }
               },
               "type": "metadsl_core.vec.Vec"
              }
             },
             "type": "metadsl_core.either.Either"
            }
           },
           "type": "metadsl_core.pair.Pair"
          }
         }
        },
        "-4511725549279881554": {
         "args": [
          "8111844120604382313",
          "2848557529472726822"
         ],
         "function": "metadsl_core.abstraction.Abstraction.create",
         "type_params": {
          "T": {
           "params": {
            "T": {
             "type": "metadsl_core.numpy.NDArray"
            },
            "U": {
             "params": {
              "T": {
               "type": "metadsl_core.integer.Integer"
              },
              "U": {
               "params": {
                "T": {
                 "type": "metadsl_core.integer.Integer"
                }
               },
               "type": "metadsl_core.vec.Vec"
              }
             },
             "type": "metadsl_core.either.Either"
            }
           },
           "type": "metadsl_core.pair.Pair"
          },
          "U": {
           "type": "metadsl_core.numpy.NDArray"
          }
         }
        },
        "-4867771595905754451": {
         "args": [
          "8111844120604382313"
         ],
         "function": "metadsl_core.pair.Pair.left",
         "type_params": {
          "T": {
           "type": "metadsl_core.numpy.NDArray"
          },
          "U": {
           "params": {
            "T": {
             "type": "metadsl_core.integer.Integer"
            },
            "U": {
             "params": {
              "T": {
               "type": "metadsl_core.integer.Integer"
              }
             },
             "type": "metadsl_core.vec.Vec"
            }
           },
           "type": "metadsl_core.either.Either"
          }
         }
        },
        "-4877433595674003706": {
         "args": [
          "-4402048225203393404"
         ],
         "function": "metadsl_core.numpy.NDArrayCompat.from_ndarray"
        },
        "-4904642461195828720": {
         "args": [
          "8295271963561658079",
          "3402516988771715417"
         ],
         "function": "metadsl_core.abstraction.Abstraction.__call__",
         "type_params": {
          "T": {
           "params": {
            "T": {
             "type": "metadsl_core.numpy.NDArray"
            },
            "U": {
             "params": {
              "T": {
               "type": "metadsl_core.integer.Integer"
              },
              "U": {
               "params": {
                "T": {
                 "type": "metadsl_core.integer.Integer"
                }
               },
               "type": "metadsl_core.vec.Vec"
              }
             },
             "type": "metadsl_core.either.Either"
            }
           },
           "type": "metadsl_core.pair.Pair"
          },
          "U": {
           "params": {
            "T": {
             "type": "metadsl_core.numpy.NDArray"
            }
           },
           "type": "metadsl_core.maybe.Maybe"
          }
         }
        },
        "-4942022877432667789": {
         "args": [
          "-6982882594162867957"
         ],
         "function": "metadsl_core.numpy.NDArrayCompat.from_ndarray"
        },
        "-4945836632896028877": {
         "args": [
          "2595876046676253964"
         ],
         "function": "metadsl_core.conversion.Converter.convert",
         "type_params": {
          "T": {
           "type": "metadsl_core.integer.Integer"
          }
         }
        },
        "-4984424746054151222": {
         "args": [
          "-7987333923993951682",
          "-372701548317454573"
         ],
         "function": "metadsl_core.numpy.NDArrayCompat.__add__"
        },
        "-5054580159859065346": {
         "args": [
          "-5946521275128433559"
         ],
         "function": "metadsl_core.numpy.NDArrayCompat.to_ndarray"
        },
        "-5103881456692840313": {
         "args": [
          "-980644585233852057",
          "-980643582451973657"
         ],
         "function": "metadsl_core.numpy_engine.ndarray_add"
        },
        "-5233189797606936297": {
         "args": [
          "4303660612184882997",
          "-6735945389551241280"
         ],
         "function": "metadsl_core.numpy.NDArrayCompat.__add__"
        },
        "-5253500509939984381": {
         "args": [
          "6568504879436375721"
         ],
         "function": "metadsl_core.numpy.NDArrayCompat.from_ndarray"
        },
        "-5257512920344479378": {
         "args": [
          "-3995558415943200832",
          "3086641452664409549"
         ],
         "function": "metadsl_core.abstraction.Abstraction.__add__",
         "type_params": {
          "T": {
           "params": {
            "T": {
             "type": "metadsl_core.integer.Integer"
            },
            "U": {
             "params": {
              "T": {
               "type": "metadsl_core.integer.Integer"
              }
             },
             "type": "metadsl_core.vec.Vec"
            }
           },
           "type": "metadsl_core.either.Either"
          },
          "U": {
           "params": {
            "T": {
             "params": {
              "T": {
               "type": "metadsl_core.integer.Integer"
              },
              "U": {
               "params": {
                "T": {
                 "type": "metadsl_core.integer.Integer"
                }
               },
               "type": "metadsl_core.vec.Vec"
              }
             },
             "type": "metadsl_core.either.Either"
            }
           },
           "type": "metadsl_core.maybe.Maybe"
          }
         }
        },
        "-5385435595446898637": {
         "args": [
          "1583349128177546448"
         ],
         "function": "metadsl_core.numpy.NDArrayCompat.to_ndarray"
        },
        "-5433782250850752446": {
         "args": [
          "-6988018775204427542"
         ],
         "function": "metadsl_core.numpy.NDArrayCompat.to_ndarray"
        },
        "-5493193343144368474": {
         "args": [
          "1172934897183459409"
         ],
         "function": "metadsl_core.maybe.Maybe.just",
         "type_params": {
          "T": {
           "type": "metadsl_core.numpy.NDArray"
          }
         }
        },
        "-5499333534701168835": {
         "args": [
          "93077902880721731",
          "8068863999341934174",
          "8244666174701220110"
         ],
         "function": "metadsl_core.maybe.Maybe.match"
        },
        "-5535233377345873753": {
         "args": [
          "2083144247293990492",
          "8068863999341934174",
          "4851812645542628349"
         ],
         "function": "metadsl_core.maybe.Maybe.match"
        },
        "-553843878920709567": {
         "args": [
          "93077902880721731",
          "8068863999341934174",
          "901481986845566370"
         ],
         "function": "metadsl_core.maybe.Maybe.match"
        },
        "-5566432600042351302": {
         "args": [
          "1842142317021604620"
         ],
         "function": "metadsl_core.numpy.NDArrayCompat.from_ndarray"
        },
        "-5586188481033579152": {
         "args": [
          "2595876046676253964"
         ],
         "function": "metadsl_core.integer.Integer.from_int"
        },
        "-5614236957826665951": {
         "args": [
          "-7987333923993951682",
          "3050724552937546308"
         ],
         "function": "metadsl_core.numpy.NDArrayCompat.__add__"
        },
        "-5656882995129175993": {
         "args": [
          "4031171227708894026"
         ],
         "function": "metadsl_core.numpy.NDArray.to_ndarray"
        },
        "-583008621503558193": {
         "args": [
          "4303660612184882997",
          "4303660612184882997"
         ],
         "function": "metadsl_core.numpy.NDArrayCompat.__add__"
        },
        "-5946521275128433559": {
         "args": [
          "8301738674565811743"
         ],
         "function": "metadsl_core.numpy.NDArrayCompat.from_ndarray"
        },
        "-5961023274277349184": {
         "args": [
          "1959799798943340857",
          "8068863999341934174",
          "4851812645542628349"
         ],
         "function": "metadsl_core.maybe.Maybe.match"
        },
        "-6002442574073877530": {
         "args": [
          "8340495363217960709"
         ],
         "function": "metadsl_core.numpy.NDArrayCompat.from_ndarray"
        },
        "-6008714097682319068": {
         "args": [
          "-8623680730997462398"
         ],
         "function": "metadsl_core.either.Either.left",
         "type_params": {
          "T": {
           "type": "metadsl_core.integer.Integer"
          },
          "U": {
           "params": {
            "T": {
             "type": "metadsl_core.integer.Integer"
            }
           },
           "type": "metadsl_core.vec.Vec"
          }
         }
        },
        "-6014676496187584150": {
         "args": [
          "6752512891828708668"
         ],
         "function": "metadsl_core.numpy.NDArrayCompat.to_ndarray"
        },
        "-6090550354976932520": {
         "args": [
          "-9008116578396108007"
         ],
         "function": "metadsl_core.numpy.NDArrayCompat.to_ndarray"
        },
        "-6094519697879344439": {
         "args": [
          "-8623680730997462398",
          "-1337239335869406530"
         ],
         "function": "metadsl_core.abstraction.Abstraction.create"
        },
        "-6192515545617256120": {
         "args": [
          "4567514388362023782"
         ],
         "function": "metadsl_core.numpy.NDArrayCompat.to_ndarray"
        },
        "-6225595167208389050": {
         "args": [
          "3402516988771715417"
         ],
         "function": "metadsl_core.pair.Pair.left",
         "type_params": {
          "T": {
           "type": "metadsl_core.numpy.NDArray"
          },
          "U": {
           "params": {
            "T": {
             "type": "metadsl_core.integer.Integer"
            },
            "U": {
             "params": {
              "T": {
               "type": "metadsl_core.integer.Integer"
              }
             },
             "type": "metadsl_core.vec.Vec"
            }
           },
           "type": "metadsl_core.either.Either"
          }
         }
        },
        "-6234235783729571615": {
         "function": "metadsl_core.maybe.Maybe.nothing",
         "type_params": {
          "T": {
           "params": {
            "T": {
             "type": "metadsl_core.integer.Integer"
            },
            "U": {
             "params": {
              "T": {
               "type": "metadsl_core.integer.Integer"
              }
             },
             "type": "metadsl_core.vec.Vec"
            }
           },
           "type": "metadsl_core.either.Either"
          }
         }
        },
        "-6350145245750207762": {
         "args": [
          "-8816696818962559237"
         ],
         "function": "metadsl_core.numpy.NDArrayCompat.to_ndarray"
        },
        "-6390974249925896307": {
         "args": [
          "-689564755399340722",
          "-5656882995129175993"
         ],
         "function": "metadsl_core.numpy_engine.ndarray_add"
        },
        "-6477224147894206534": {
         "args": [
          "4973764804654446820",
          "6262230075306626004"
         ],
         "function": "metadsl_core.maybe.Maybe.__and__",
         "type_params": {
          "T": {
           "type": "metadsl_core.numpy.NDArray"
          }
         }
        },
        "-6505021593989585473": {
         "args": [
          "-7987333923993951682",
          "3446125376364578546"
         ],
         "function": "metadsl_core.numpy.NDArrayCompat.__add__"
        },
        "-6582613651964292360": {
         "args": [
          "7816345134345850681",
          "8068863999341934174",
          "8295271963561658079"
         ],
         "function": "metadsl_core.maybe.Maybe.match"
        },
        "-6651683600874158921": {
         "args": [
          "7718545399851110444"
         ],
         "function": "metadsl_core.abstraction.Abstraction.from_fn"
        },
        "-667452899427283428": {
         "args": [
          "7718544559318079044"
         ],
         "function": "metadsl_core.abstraction.Abstraction.from_fn"
        },
        "-6706651006835878346": {
         "args": [
          "6851851274930758122",
          "-7953821244861570482"
         ],
         "function": "metadsl_core.abstraction.Abstraction.__call__",
         "type_params": {
          "T": {
           "type": "metadsl_core.integer.Integer"
          },
          "U": {
           "params": {
            "T": {
             "params": {
              "T": {
               "type": "metadsl_core.integer.Integer"
              },
              "U": {
               "params": {
                "T": {
                 "type": "metadsl_core.integer.Integer"
                }
               },
               "type": "metadsl_core.vec.Vec"
              }
             },
             "type": "metadsl_core.either.Either"
            }
           },
           "type": "metadsl_core.maybe.Maybe"
          }
         }
        },
        "-6709660433063659591": {
         "args": [
          "-4945836632896028877",
          "3412487465505697437"
         ],
         "function": "metadsl_core.maybe.Maybe.map",
         "type_params": {
          "T": {
           "type": "metadsl_core.integer.Integer"
          }
         }
        },
        "-6718344517984905343": {
         "args": [
          "7938400747573386744",
          "-6234235783729571615",
          "-8948798062595720142"
         ],
         "function": "metadsl_core.maybe.Maybe.match",
         "type_params": {
          "T": {
           "type": "metadsl_core.integer.Integer"
          }
         }
        },
        "-6735945389551241280": {
         "args": [
          "-6709660433063659591"
         ],
         "function": "metadsl_core.numpy.NDArrayCompat.from_ndarray"
        },
        "-6750300562864183495": {
         "args": [
          "7718544450563287444"
         ],
         "function": "metadsl_core.abstraction.Abstraction.from_fn"
        },
        "-6791715883267613288": {
         "args": [
          "6495279950387089035",
          "8068863999341934174",
          "3571419810305900492"
         ],
         "function": "metadsl_core.maybe.Maybe.match",
         "type_params": {
          "T": {
           "type": "metadsl_core.integer.Integer"
          }
         }
        },
        "-689564755399340722": {
         "args": [
          "2595876046676253964"
         ],
         "function": "metadsl_core.numpy_engine.arange"
        },
        "-6924877072174935538": {
         "args": [
          "6495279950387089035",
          "3412487465505697437"
         ],
         "function": "metadsl_core.maybe.Maybe.map",
         "type_params": {
          "T": {
           "type": "metadsl_core.integer.Integer"
          }
         }
        },
        "-6982882594162867957": {
         "args": [
          "-9061770270654419099",
          "8068863999341934174",
          "4851812645542628349"
         ],
         "function": "metadsl_core.maybe.Maybe.match"
        },
        "-6988018775204427542": {
         "args": [
          "8685847048185757448"
         ],
         "function": "metadsl_core.numpy.NDArrayCompat.from_ndarray"
        },
        "-7050939469329363993": {
         "args": [
          "-4904642461195828720"
         ],
         "function": "metadsl_core.numpy.NDArrayCompat.from_ndarray"
        },
        "-7072015656725536411": {
         "args": [
          "7166430247666708930",
          "8068863999341934174",
          "4851812645542628349"
         ],
         "function": "metadsl_core.maybe.Maybe.match"
        },
        "-7204923034408497540": {
         "args": [
          "-6706651006835878346",
          "6819396428458609847"
         ],
         "function": "metadsl_core.maybe.Maybe.__or__",
         "type_params": {
          "T": {
           "params": {
            "T": {
             "type": "metadsl_core.integer.Integer"
            },
            "U": {
             "params": {
              "T": {
               "type": "metadsl_core.integer.Integer"
              }
             },
             "type": "metadsl_core.vec.Vec"
            }
           },
           "type": "metadsl_core.either.Either"
          }
         }
        },
        "-725587403563614775": {
         "args": [
          "-8623680730997462398",
          "-6008714097682319068"
         ],
         "function": "metadsl_core.abstraction.Abstraction.create",
         "type_params": {
          "T": {
           "type": "metadsl_core.integer.Integer"
          },
          "U": {
           "params": {
            "T": {
             "type": "metadsl_core.integer.Integer"
            },
            "U": {
             "params": {
              "T": {
               "type": "metadsl_core.integer.Integer"
              }
             },
             "type": "metadsl_core.vec.Vec"
            }
           },
           "type": "metadsl_core.either.Either"
          }
         }
        },
        "-73256352866512446": {
         "args": [
          "-8722398409810658002",
          "5864997477180888506"
         ],
         "function": "metadsl_core.maybe.Maybe.__and__",
         "type_params": {
          "T": {
           "type": "metadsl_core.numpy.NDArray"
          }
         }
        },
        "-7351982692734333951": {
         "args": [
          "7718545440519409644"
         ],
         "function": "metadsl_core.abstraction.Abstraction.from_fn"
        },
        "-7432882207666982055": {
         "args": [
          "8827937473058101952"
         ],
         "function": "metadsl_core.abstraction.Abstraction.create_variable",
         "type_params": {
          "T": {
           "type": "metadsl_core.integer.Integer"
          },
          "U": {
           "type": "metadsl_core.numpy.NDArray"
          }
         }
        },
        "-7437747885892096218": {
         "args": [
          "3956745441488275590"
         ],
         "function": "metadsl_core.numpy.NDArrayCompat.to_ndarray"
        },
        "-7444770353763920208": {
         "args": [
          "7938400747573386744",
          "5165753514611803108"
         ],
         "function": "metadsl_core.maybe.Maybe.map",
         "type_params": {
          "T": {
           "type": "metadsl_core.integer.Integer"
          }
         }
        },
        "-744482825347110841": {
         "args": [
          "9165539148569013387",
          "6262230075306626004"
         ],
         "function": "metadsl_core.maybe.Maybe.__and__",
         "type_params": {
          "T": {
           "type": "metadsl_core.numpy.NDArray"
          }
         }
        },
        "-7513322305293836620": {
         "args": [
          "-7953821244861570482"
         ],
         "function": "metadsl_core.numpy_engine.unbox_integer"
        },
        "-7544492941599470646": {
         "args": [
          "5101462774986181269",
          "5101462774986181269"
         ],
         "function": "metadsl_core.numpy.NDArrayCompat.__add__"
        },
        "-7666680655537306597": {
         "args": [
          "-4877433595674003706"
         ],
         "function": "metadsl_core.numpy.NDArrayCompat.to_ndarray"
        },
        "-773729102592704277": {
         "args": [
          "3347703392682223616",
          "2595876046779093839"
         ],
         "function": "metadsl_core.numpy_engine.ndarray_getitem"
        },
        "-7742281327993875741": {
         "args": [
          "-830270546763232795",
          "5864997477180888506"
         ],
         "function": "metadsl_core.maybe.Maybe.__and__",
         "type_params": {
          "T": {
           "type": "metadsl_core.numpy.NDArray"
          }
         }
        },
        "-7796891201160907340": {
         "args": [
          "7136829651087545254"
         ],
         "function": "metadsl_core.maybe.Maybe.just",
         "type_params": {
          "T": {
           "params": {
            "T": {
             "type": "metadsl_core.integer.Integer"
            },
            "U": {
             "params": {
              "T": {
               "type": "metadsl_core.integer.Integer"
              }
             },
             "type": "metadsl_core.vec.Vec"
            }
           },
           "type": "metadsl_core.either.Either"
          }
         }
        },
        "-7953821244861570482": {
         "args": [
          "2595876046779093839"
         ],
         "function": "metadsl_core.integer.Integer.from_int"
        },
        "-7987333923993951682": {
         "args": [
          "2902582609885275473"
         ],
         "function": "metadsl_core.numpy.NDArrayCompat.from_ndarray"
        },
        "-8050021772480522638": {
         "args": [
          "4410325718403442971",
          "8068863999341934174",
          "4851812645542628349"
         ],
         "function": "metadsl_core.maybe.Maybe.match"
        },
        "-806729751812158825": {
         "args": [
          "-4388090538260585294",
          "4283552082355274468"
         ],
         "function": "metadsl_core.numpy_engine.ndarray_getitem"
        },
        "-8068734050153148223": {
         "args": [
          "1174546965924099158",
          "2640493438116576134"
         ],
         "function": "metadsl_core.maybe.Maybe.__and__",
         "type_params": {
          "T": {
           "type": "metadsl_core.numpy.NDArray"
          }
         }
        },
        "-81300809231386227": {
         "args": [
          "8827937476981172552"
         ],
         "function": "metadsl_core.abstraction.Abstraction.create_variable",
         "type_params": {
          "T": {
           "type": "metadsl_core.numpy.NDArray"
          },
          "U": {
           "params": {
            "T": {
             "type": "metadsl_core.numpy.NDArray"
            }
           },
           "type": "metadsl_core.maybe.Maybe"
          }
         }
        },
        "-830270546763232795": {
         "args": [
          "-583008621503558193"
         ],
         "function": "metadsl_core.conversion.Converter.convert",
         "type_params": {
          "T": {
           "type": "metadsl_core.numpy.NDArray"
          }
         }
        },
        "-8308382512643611959": {
         "args": [
          "-1868880396084484131"
         ],
         "function": "metadsl_core.conversion.Converter.convert",
         "type_params": {
          "T": {
           "type": "metadsl_core.numpy.NDArray"
          }
         }
        },
        "-8403900231011743819": {
         "args": [
          "4303660612184882997",
          "5101462774986181269"
         ],
         "function": "metadsl_core.numpy.NDArrayCompat.__add__"
        },
        "-8416373700599612947": {
         "args": [
          "7718544479661559444"
         ],
         "function": "metadsl_core.abstraction.Abstraction.from_fn"
        },
        "-8513433130472601229": {
         "args": [
          "5870866124081898364"
         ],
         "function": "metadsl_core.numpy.NDArrayCompat.to_ndarray"
        },
        "-8515968988704032132": {
         "args": [
          "6005180802017489710"
         ],
         "function": "metadsl_core.numpy.NDArrayCompat.from_ndarray"
        },
        "-8623680730997462398": {
         "args": [
          "8827937489698676252"
         ],
         "function": "metadsl_core.abstraction.Abstraction.create_variable",
         "type_params": {
          "T": {
           "type": "metadsl_core.integer.Integer"
          },
          "U": {
           "params": {
            "T": {
             "type": "metadsl_core.integer.Integer"
            },
            "U": {
             "params": {
              "T": {
               "type": "metadsl_core.integer.Integer"
              }
             },
             "type": "metadsl_core.vec.Vec"
            }
           },
           "type": "metadsl_core.either.Either"
          }
         }
        },
        "-8656981226506006474": {
         "args": [
          "3990886821209499981"
         ],
         "function": "metadsl_core.numpy.NDArrayCompat.to_ndarray"
        },
        "-8709422566095643852": {
         "args": [
          "-6094519697879344439",
          "-7953821244861570482"
         ],
         "function": "metadsl_core.abstraction.Abstraction.__call__",
         "type_params": {
          "T": {
           "type": "metadsl_core.integer.Integer"
          },
          "U": {
           "params": {
            "T": {
             "params": {
              "T": {
               "type": "metadsl_core.integer.Integer"
              },
              "U": {
               "params": {
                "T": {
                 "type": "metadsl_core.integer.Integer"
                }
               },
               "type": "metadsl_core.vec.Vec"
              }
             },
             "type": "metadsl_core.either.Either"
            }
           },
           "type": "metadsl_core.maybe.Maybe"
          }
         }
        },
        "-8722398409810658002": {
         "args": [
          "2021871122721860754"
         ],
         "function": "metadsl_core.conversion.Converter.convert",
         "type_params": {
          "T": {
           "type": "metadsl_core.numpy.NDArray"
          }
         }
        },
        "-8770816239807767860": {
         "args": [
          "-5535233377345873753"
         ],
         "function": "metadsl_core.numpy.NDArrayCompat.from_ndarray"
        },
        "-8788648300197971614": {
         "args": [
          "6923585858624798540",
          "6333628148795243599"
         ],
         "function": "metadsl_core.maybe.Maybe.map",
         "type_params": {
          "T": {
           "params": {
            "T": {
             "type": "metadsl_core.numpy.NDArray"
            },
            "U": {
             "params": {
              "T": {
               "type": "metadsl_core.integer.Integer"
              },
              "U": {
               "params": {
                "T": {
                 "type": "metadsl_core.integer.Integer"
                }
               },
               "type": "metadsl_core.vec.Vec"
              }
             },
             "type": "metadsl_core.either.Either"
            }
           },
           "type": "metadsl_core.pair.Pair"
          }
         }
        },
        "-8815731044860586066": {
         "args": [
          "-6651683600874158921",
          "3412487465505697437"
         ],
         "function": "metadsl_core.abstraction.Abstraction.__add__",
         "type_params": {
          "T": {
           "type": "metadsl_core.numpy.NDArray"
          },
          "U": {
           "params": {
            "T": {
             "type": "metadsl_core.numpy.NDArray"
            }
           },
           "type": "metadsl_core.maybe.Maybe"
          }
         }
        },
        "-8816696818962559237": {
         "args": [
          "-8788648300197971614"
         ],
         "function": "metadsl_core.numpy.NDArrayCompat.from_ndarray"
        },
        "-8829012800782605950": {
         "repr": "10",
         "type": "numpy.int64"
        },
        "-8855337245786759151": {
         "args": [
          "-8815731044860586066",
          "-5586188481033579152"
         ],
         "function": "metadsl_core.abstraction.Abstraction.__call__",
         "type_params": {
          "T": {
           "type": "metadsl_core.integer.Integer"
          },
          "U": {
           "params": {
            "T": {
             "type": "metadsl_core.numpy.NDArray"
            }
           },
           "type": "metadsl_core.maybe.Maybe"
          }
         }
        },
        "-8882938723879009084": {
         "args": [
          "7544669447117996744",
          "2595876046779093839"
         ],
         "function": "metadsl_core.numpy_engine.ndarray_getitem"
        },
        "-8904427392122946666": {
         "args": [
          "8827937457402625402"
         ],
         "function": "metadsl_core.abstraction.Abstraction.create_variable",
         "type_params": {
          "T": {
           "type": "metadsl_core.numpy.NDArray"
          },
          "U": {
           "params": {
            "T": {
             "type": "metadsl_core.numpy.NDArray"
            }
           },
           "type": "metadsl_core.maybe.Maybe"
          }
         }
        },
        "-8931000967759548215": {
         "args": [
          "-8709422566095643852",
          "6819396428458609847"
         ],
         "function": "metadsl_core.maybe.Maybe.__or__",
         "type_params": {
          "T": {
           "params": {
            "T": {
             "type": "metadsl_core.integer.Integer"
            },
            "U": {
             "params": {
              "T": {
               "type": "metadsl_core.integer.Integer"
              }
             },
             "type": "metadsl_core.vec.Vec"
            }
           },
           "type": "metadsl_core.either.Either"
          }
         }
        },
        "-8931293057262695690": {
         "args": [
          "-5253500509939984381"
         ],
         "function": "metadsl_core.numpy.NDArrayCompat.to_ndarray"
        },
        "-8948798062595720142": {
         "args": [
          "185002487467653827",
          "8689280473655304380"
         ],
         "function": "metadsl_core.abstraction.Abstraction.__add__",
         "type_params": {
          "T": {
           "params": {
            "T": {
             "type": "metadsl_core.integer.Integer"
            },
            "U": {
             "params": {
              "T": {
               "type": "metadsl_core.integer.Integer"
              }
             },
             "type": "metadsl_core.vec.Vec"
            }
           },
           "type": "metadsl_core.either.Either"
          },
          "U": {
           "params": {
            "T": {
             "params": {
              "T": {
               "type": "metadsl_core.integer.Integer"
              },
              "U": {
               "params": {
                "T": {
                 "type": "metadsl_core.integer.Integer"
                }
               },
               "type": "metadsl_core.vec.Vec"
              }
             },
             "type": "metadsl_core.either.Either"
            }
           },
           "type": "metadsl_core.maybe.Maybe"
          }
         }
        },
        "-8953213727665176071": {
         "args": [
          "1174546965924099158",
          "8690626380751571268"
         ],
         "function": "metadsl_core.maybe.Maybe.__and__",
         "type_params": {
          "T": {
           "type": "metadsl_core.numpy.NDArray"
          }
         }
        },
        "-8960652001761708396": {
         "repr": "<function NDArrayCompat.__getitem__.<locals>.<lambda> at 0x113211a60>",
         "type": "function"
        },
        "-8994844925074471947": {
         "args": [
          "-3282530857129661456"
         ],
         "function": "metadsl_core.numpy.NDArrayCompat.from_ndarray"
        },
        "-9001500102380522238": {
         "args": [
          "-5566432600042351302"
         ],
         "function": "metadsl_core.numpy.NDArrayCompat.to_ndarray"
        },
        "-9008116578396108007": {
         "args": [
          "-8050021772480522638"
         ],
         "function": "metadsl_core.numpy.NDArrayCompat.from_ndarray"
        },
        "-9061770270654419099": {
         "args": [
          "1174546965924099158",
          "-8931000967759548215"
         ],
         "function": "metadsl_core.maybe.Maybe.__and__",
         "type_params": {
          "T": {
           "type": "metadsl_core.numpy.NDArray"
          }
         }
        },
        "-9109307926229908413": {
         "args": [
          "-7544492941599470646"
         ],
         "function": "metadsl_core.conversion.Converter.convert",
         "type_params": {
          "T": {
           "type": "metadsl_core.numpy.NDArray"
          }
         }
        },
        "-9158315441228739509": {
         "args": [
          "-5257512920344479378",
          "-7953821244861570482"
         ],
         "function": "metadsl_core.abstraction.Abstraction.__call__",
         "type_params": {
          "T": {
           "type": "metadsl_core.integer.Integer"
          },
          "U": {
           "params": {
            "T": {
             "params": {
              "T": {
               "type": "metadsl_core.integer.Integer"
              },
              "U": {
               "params": {
                "T": {
                 "type": "metadsl_core.integer.Integer"
                }
               },
               "type": "metadsl_core.vec.Vec"
              }
             },
             "type": "metadsl_core.either.Either"
            }
           },
           "type": "metadsl_core.maybe.Maybe"
          }
         }
        },
        "-9186066363797220266": {
         "args": [
          "2848557529472726822"
         ],
         "function": "metadsl_core.maybe.Maybe.just",
         "type_params": {
          "T": {
           "type": "metadsl_core.numpy.NDArray"
          }
         }
        },
        "-922652500683932804": {
         "args": [
          "-1137683865661979021"
         ],
         "function": "metadsl_core.numpy.NDArrayCompat.from_ndarray"
        },
        "-980643582451973657": {
         "repr": "array([ 0,  1,  2,  3,  4,  5,  6,  7,  8,  9, 10, 11, 12, 13, 14, 15, 16,\n       17, 18, 19, 20, 21, 22, 23, 24, 25, 26, 27, 28, 29, 30, 31, 32, 33,\n       34, 35, 36, 37, 38, 39, 40, 41, 42, 43, 44, 45, 46, 47, 48, 49, 50,\n       51, 52, 53, 54, 55, 56, 57, 58, 59, 60, 61, 62, 63, 64, 65, 66, 67,\n       68, 69, 70, 71, 72, 73, 74, 75, 76, 77, 78, 79, 80, 81, 82, 83, 84,\n       85, 86, 87, 88, 89, 90, 91, 92, 93, 94, 95, 96, 97, 98, 99])",
         "type": "numpy.ndarray"
        },
        "-980643689994337257": {
         "repr": "array([  0,   2,   4,   6,   8,  10,  12,  14,  16,  18,  20,  22,  24,\n        26,  28,  30,  32,  34,  36,  38,  40,  42,  44,  46,  48,  50,\n        52,  54,  56,  58,  60,  62,  64,  66,  68,  70,  72,  74,  76,\n        78,  80,  82,  84,  86,  88,  90,  92,  94,  96,  98, 100, 102,\n       104, 106, 108, 110, 112, 114, 116, 118, 120, 122, 124, 126, 128,\n       130, 132, 134, 136, 138, 140, 142, 144, 146, 148, 150, 152, 154,\n       156, 158, 160, 162, 164, 166, 168, 170, 172, 174, 176, 178, 180,\n       182, 184, 186, 188, 190, 192, 194, 196, 198])",
         "type": "numpy.ndarray"
        },
        "-980644585233852057": {
         "repr": "array([ 0,  1,  2,  3,  4,  5,  6,  7,  8,  9, 10, 11, 12, 13, 14, 15, 16,\n       17, 18, 19, 20, 21, 22, 23, 24, 25, 26, 27, 28, 29, 30, 31, 32, 33,\n       34, 35, 36, 37, 38, 39, 40, 41, 42, 43, 44, 45, 46, 47, 48, 49, 50,\n       51, 52, 53, 54, 55, 56, 57, 58, 59, 60, 61, 62, 63, 64, 65, 66, 67,\n       68, 69, 70, 71, 72, 73, 74, 75, 76, 77, 78, 79, 80, 81, 82, 83, 84,\n       85, 86, 87, 88, 89, 90, 91, 92, 93, 94, 95, 96, 97, 98, 99])",
         "type": "numpy.ndarray"
        },
        "-982300107011601132": {
         "args": [
          "726283307851896416"
         ],
         "function": "metadsl_core.numpy.NDArrayCompat.from_ndarray"
        },
        "1093904100431203960": {
         "args": [
          "5887915695034075168"
         ],
         "function": "metadsl_core.numpy.NDArrayCompat.from_ndarray"
        },
        "1172934897183459409": {
         "args": [
          "-6225595167208389050",
          "1254845661443839558"
         ],
         "function": "metadsl_core.numpy.NDArray.__getitem__"
        },
        "1174546965924099158": {
         "args": [
          "8578393878881786466"
         ],
         "function": "metadsl_core.conversion.Converter.convert",
         "type_params": {
          "T": {
           "type": "metadsl_core.numpy.NDArray"
          }
         }
        },
        "1201733355199063192": {
         "args": [
          "-5961023274277349184"
         ],
         "function": "metadsl_core.numpy.NDArrayCompat.from_ndarray"
        },
        "1204135681029849166": {
         "args": [
          "-1501680988242457463"
         ],
         "function": "metadsl_core.conversion.Converter.convert",
         "type_params": {
          "T": {
           "type": "metadsl_core.numpy.NDArray"
          }
         }
        },
        "1254845661443839558": {
         "args": [
          "3402516988771715417"
         ],
         "function": "metadsl_core.pair.Pair.right",
         "type_params": {
          "T": {
           "type": "metadsl_core.numpy.NDArray"
          },
          "U": {
           "params": {
            "T": {
             "type": "metadsl_core.integer.Integer"
            },
            "U": {
             "params": {
              "T": {
               "type": "metadsl_core.integer.Integer"
              }
             },
             "type": "metadsl_core.vec.Vec"
            }
           },
           "type": "metadsl_core.either.Either"
          }
         }
        },
        "1341922260571161078": {
         "args": [
          "-8770816239807767860"
         ],
         "function": "metadsl_core.numpy.NDArrayCompat.to_ndarray"
        },
        "1380354513315837677": {
         "args": [
          "2562358796687173891"
         ],
         "function": "metadsl_core.numpy.NDArrayCompat.from_ndarray"
        },
        "1432660032811966047": {
         "args": [
          "4715182012045175810",
          "3371257443427732619"
         ],
         "function": "metadsl_core.maybe.Maybe.map",
         "type_params": {
          "T": {
           "params": {
            "T": {
             "type": "metadsl_core.integer.Integer"
            }
           },
           "type": "metadsl_core.vec.Vec"
          }
         }
        },
        "1464127185348198922": {
         "args": [
          "1093904100431203960"
         ],
         "function": "metadsl_core.conversion.Converter.convert",
         "type_params": {
          "T": {
           "type": "metadsl_core.numpy.NDArray"
          }
         }
        },
        "1476445265420347091": {
         "args": [
          "4991517236611489370"
         ],
         "function": "metadsl_core.numpy.NDArrayCompat.to_ndarray"
        },
        "148717252754593178": {
         "args": [
          "-4197592582251657334",
          "1432660032811966047"
         ],
         "function": "metadsl_core.maybe.Maybe.__or__",
         "type_params": {
          "T": {
           "params": {
            "T": {
             "type": "metadsl_core.integer.Integer"
            },
            "U": {
             "params": {
              "T": {
               "type": "metadsl_core.integer.Integer"
              }
             },
             "type": "metadsl_core.vec.Vec"
            }
           },
           "type": "metadsl_core.either.Either"
          }
         }
        },
        "1583349128177546448": {
         "args": [
          "7674333131639738595"
         ],
         "function": "metadsl_core.numpy.NDArrayCompat.from_ndarray"
        },
        "1617082246862974080": {
         "args": [
          "-8515968988704032132",
          "4303660612184882997"
         ],
         "function": "metadsl_core.numpy.NDArrayCompat.__add__"
        },
        "1662955684881240771": {
         "args": [
          "-1975351561145408752",
          "-5586188481033579152"
         ],
         "function": "metadsl_core.abstraction.Abstraction.__call__",
         "type_params": {
          "T": {
           "type": "metadsl_core.integer.Integer"
          },
          "U": {
           "params": {
            "T": {
             "type": "metadsl_core.numpy.NDArray"
            }
           },
           "type": "metadsl_core.maybe.Maybe"
          }
         }
        },
        "1793059706288865294": {
         "args": [
          "-5614236957826665951"
         ],
         "function": "metadsl_core.conversion.Converter.convert",
         "type_params": {
          "T": {
           "type": "metadsl_core.numpy.NDArray"
          }
         }
        },
        "1842142317021604620": {
         "args": [
          "-3239951305813847411",
          "8068863999341934174",
          "4851812645542628349"
         ],
         "function": "metadsl_core.maybe.Maybe.match"
        },
        "185002487467653827": {
         "args": [
          "7718545255459595844"
         ],
         "function": "metadsl_core.abstraction.Abstraction.from_fn"
        },
        "1850090247990838258": {
         "args": [
          "-3788815265400998550",
          "-5586188481033579152"
         ],
         "function": "metadsl_core.abstraction.Abstraction.__call__",
         "type_params": {
          "T": {
           "type": "metadsl_core.integer.Integer"
          },
          "U": {
           "params": {
            "T": {
             "type": "metadsl_core.numpy.NDArray"
            }
           },
           "type": "metadsl_core.maybe.Maybe"
          }
         }
        },
        "1911765978041787205": {
         "args": [
          "4031171227708894026",
          "4031171227708894026"
         ],
         "function": "metadsl_core.numpy.NDArray.__add__"
        },
        "1959799798943340857": {
         "args": [
          "1174546965924099158",
          "2225033130983794832"
         ],
         "function": "metadsl_core.maybe.Maybe.__and__",
         "type_params": {
          "T": {
           "type": "metadsl_core.numpy.NDArray"
          }
         }
        },
        "1983567163581081442": {
         "args": [
          "-3995558415943200832",
          "-725587403563614775"
         ],
         "function": "metadsl_core.abstraction.Abstraction.__add__",
         "type_params": {
          "T": {
           "params": {
            "T": {
             "type": "metadsl_core.integer.Integer"
            },
            "U": {
             "params": {
              "T": {
               "type": "metadsl_core.integer.Integer"
              }
             },
             "type": "metadsl_core.vec.Vec"
            }
           },
           "type": "metadsl_core.either.Either"
          },
          "U": {
           "params": {
            "T": {
             "params": {
              "T": {
               "type": "metadsl_core.integer.Integer"
              },
              "U": {
               "params": {
                "T": {
                 "type": "metadsl_core.integer.Integer"
                }
               },
               "type": "metadsl_core.vec.Vec"
              }
             },
             "type": "metadsl_core.either.Either"
            }
           },
           "type": "metadsl_core.maybe.Maybe"
          }
         }
        },
        "2021871122721860754": {
         "args": [
          "-6735945389551241280",
          "5101462774986181269"
         ],
         "function": "metadsl_core.numpy.NDArrayCompat.__add__"
        },
        "2083144247293990492": {
         "args": [
          "-262277831547238305",
          "6262230075306626004"
         ],
         "function": "metadsl_core.maybe.Maybe.__and__",
         "type_params": {
          "T": {
           "type": "metadsl_core.numpy.NDArray"
          }
         }
        },
        "2149446839810008273": {
         "args": [
          "7544669447117996744",
          "-7513322305293836620"
         ],
         "function": "metadsl_core.numpy_engine.ndarray_getitem"
        },
        "2225033130983794832": {
         "args": [
          "-9158315441228739509",
          "6819396428458609847"
         ],
         "function": "metadsl_core.maybe.Maybe.__or__",
         "type_params": {
          "T": {
           "params": {
            "T": {
             "type": "metadsl_core.integer.Integer"
            },
            "U": {
             "params": {
              "T": {
               "type": "metadsl_core.integer.Integer"
              }
             },
             "type": "metadsl_core.vec.Vec"
            }
           },
           "type": "metadsl_core.either.Either"
          }
         }
        },
        "2257455786216474889": {
         "args": [
          "1174546965924099158",
          "-7204923034408497540"
         ],
         "function": "metadsl_core.maybe.Maybe.__and__",
         "type_params": {
          "T": {
           "type": "metadsl_core.numpy.NDArray"
          }
         }
        },
        "2284822294336161471": {
         "args": [
          "-830270546763232795",
          "8227755100418735093"
         ],
         "function": "metadsl_core.maybe.Maybe.__and__",
         "type_params": {
          "T": {
           "type": "metadsl_core.numpy.NDArray"
          }
         }
        },
        "2313568276240209238": {
         "args": [
          "6361731378930986966"
         ],
         "function": "metadsl_core.numpy.NDArrayCompat.to_ndarray"
        },
        "2345177519773394833": {
         "args": [
          "1793059706288865294",
          "6262230075306626004"
         ],
         "function": "metadsl_core.maybe.Maybe.__and__",
         "type_params": {
          "T": {
           "type": "metadsl_core.numpy.NDArray"
          }
         }
        },
        "2384170894126756314": {
         "args": [
          "-6791715883267613288"
         ],
         "function": "metadsl_core.numpy.NDArrayCompat.from_ndarray"
        },
        "2389220954881158909": {
         "args": [
          "-7351982692734333951",
          "3412487465505697437"
         ],
         "function": "metadsl_core.abstraction.Abstraction.__add__",
         "type_params": {
          "T": {
           "type": "metadsl_core.numpy.NDArray"
          },
          "U": {
           "params": {
            "T": {
             "type": "metadsl_core.numpy.NDArray"
            }
           },
           "type": "metadsl_core.maybe.Maybe"
          }
         }
        },
        "2406895093310181881": {
         "args": [
          "-3771903115774272336",
          "8068863999341934174",
          "8295271963561658079"
         ],
         "function": "metadsl_core.maybe.Maybe.match"
        },
        "2428748855899720923": {
         "args": [
          "-8994844925074471947"
         ],
         "function": "metadsl_core.numpy.NDArrayCompat.to_ndarray"
        },
        "2562358796687173891": {
         "args": [
          "-8068734050153148223",
          "8068863999341934174",
          "4851812645542628349"
         ],
         "function": "metadsl_core.maybe.Maybe.match"
        },
        "2562988125597263693": {
         "args": [
          "7544669447117996744",
          "4283552082355274468"
         ],
         "function": "metadsl_core.numpy_engine.ndarray_getitem"
        },
        "2572077363279902161": {
         "args": [
          "6818441909137783089",
          "6333628148795243599"
         ],
         "function": "metadsl_core.maybe.Maybe.map",
         "type_params": {
          "T": {
           "params": {
            "T": {
             "type": "metadsl_core.numpy.NDArray"
            },
            "U": {
             "params": {
              "T": {
               "type": "metadsl_core.integer.Integer"
              },
              "U": {
               "params": {
                "T": {
                 "type": "metadsl_core.integer.Integer"
                }
               },
               "type": "metadsl_core.vec.Vec"
              }
             },
             "type": "metadsl_core.either.Either"
            }
           },
           "type": "metadsl_core.pair.Pair"
          }
         }
        },
        "2595876046676253964": {
         "repr": "100",
         "type": "int"
        },
        "2595876046779093839": {
         "repr": "5",
         "type": "int"
        },
        "2607525875253021857": {
         "args": [
          "3990154623432877492",
          "6262230075306626004"
         ],
         "function": "metadsl_core.maybe.Maybe.__and__",
         "type_params": {
          "T": {
           "type": "metadsl_core.numpy.NDArray"
          }
         }
        },
        "2611410537276393185": {
         "args": [
          "-4256360741029815939",
          "-4323807048865148830"
         ],
         "function": "metadsl_core.abstraction.Abstraction.create",
         "type_params": {
          "T": {
           "type": "metadsl_core.numpy.NDArray"
          },
          "U": {
           "params": {
            "T": {
             "type": "metadsl_core.numpy.NDArray"
            }
           },
           "type": "metadsl_core.maybe.Maybe"
          }
         }
        },
        "262720035100645087": {
         "repr": "<function NDArrayCompat.__getitem__.<locals>.<lambda> at 0x113211bf8>",
         "type": "function"
        },
        "2640493438116576134": {
         "args": [
          "-2983356349930071758",
          "6819396428458609847"
         ],
         "function": "metadsl_core.maybe.Maybe.__or__",
         "type_params": {
          "T": {
           "params": {
            "T": {
             "type": "metadsl_core.integer.Integer"
            },
            "U": {
             "params": {
              "T": {
               "type": "metadsl_core.integer.Integer"
              }
             },
             "type": "metadsl_core.vec.Vec"
            }
           },
           "type": "metadsl_core.either.Either"
          }
         }
        },
        "2662533159588813476": {
         "args": [
          "1850090247990838258"
         ],
         "function": "metadsl_core.numpy.NDArrayCompat.from_ndarray"
        },
        "2734182803792467636": {
         "args": [
          "-7432882207666982055",
          "-341748044515153586"
         ],
         "function": "metadsl_core.abstraction.Abstraction.create"
        },
        "2768644538170186802": {
         "args": [
          "771926839075201741"
         ],
         "function": "metadsl_core.numpy.NDArrayCompat.from_ndarray"
        },
        "2821726378433648053": {
         "args": [
          "6612942243105692743"
         ],
         "function": "metadsl_core.numpy.NDArrayCompat.to_ndarray"
        },
        "2848557529472726822": {
         "args": [
          "-4867771595905754451",
          "5888172811087465133"
         ],
         "function": "metadsl_core.numpy.NDArray.__getitem__"
        },
        "2857975390779484260": {
         "args": [
          "7718545254775440044"
         ],
         "function": "metadsl_core.abstraction.Abstraction.from_fn"
        },
        "2902582609885275473": {
         "args": [
          "4031171227708894026"
         ],
         "function": "metadsl_core.maybe.Maybe.just",
         "type_params": {
          "T": {
           "type": "metadsl_core.numpy.NDArray"
          }
         }
        },
        "3050724552937546308": {
         "args": [
          "5703246168828917575"
         ],
         "function": "metadsl_core.numpy.NDArrayCompat.from_ndarray"
        },
        "3086641452664409549": {
         "args": [
          "7718545252965458244"
         ],
         "function": "metadsl_core.abstraction.Abstraction.from_fn"
        },
        "3131308364088559969": {
         "args": [
          "2607525875253021857",
          "8068863999341934174",
          "4851812645542628349"
         ],
         "function": "metadsl_core.maybe.Maybe.match"
        },
        "3311669872602078531": {
         "args": [
          "-81300809231386227"
         ],
         "function": "metadsl_core.maybe.Maybe.just",
         "type_params": {
          "T": {
           "type": "metadsl_core.numpy.NDArray"
          }
         }
        },
        "3347703392682223616": {
         "args": [
          "-980644585233852057",
          "-689564755399340722"
         ],
         "function": "metadsl_core.numpy_engine.ndarray_add"
        },
        "3371257443427732619": {
         "args": [
          "7718544560002234844"
         ],
         "function": "metadsl_core.abstraction.Abstraction.from_fn"
        },
        "3389886460835642095": {
         "args": [
          "7953279922132865621",
          "4303660612184882997"
         ],
         "function": "metadsl_core.numpy.NDArrayCompat.__add__"
        },
        "3402516988771715417": {
         "args": [
          "1911765978041787205",
          "7136829651087545254"
         ],
         "function": "metadsl_core.pair.Pair.create"
        },
        "3412487465505697437": {
         "args": [
          "-3140681626949281965"
         ],
         "function": "metadsl_core.abstraction.Abstraction.from_fn"
        },
        "3442050428913963947": {
         "args": [
          "2257455786216474889",
          "8068863999341934174",
          "4851812645542628349"
         ],
         "function": "metadsl_core.maybe.Maybe.match"
        },
        "3446125376364578546": {
         "args": [
          "-8855337245786759151"
         ],
         "function": "metadsl_core.numpy.NDArrayCompat.from_ndarray"
        },
        "354437065248169853": {
         "args": [
          "1201733355199063192"
         ],
         "function": "metadsl_core.numpy.NDArrayCompat.to_ndarray"
        },
        "3565169242079127092": {
         "args": [
          "3819766022058341218"
         ],
         "function": "metadsl_core.conversion.Converter.convert",
         "type_params": {
          "T": {
           "type": "metadsl_core.numpy.NDArray"
          }
         }
        },
        "3571419810305900492": {
         "args": [
          "-4016052333070930884",
          "3412487465505697437"
         ],
         "function": "metadsl_core.abstraction.Abstraction.__add__",
         "type_params": {
          "T": {
           "type": "metadsl_core.numpy.NDArray"
          },
          "U": {
           "params": {
            "T": {
             "type": "metadsl_core.numpy.NDArray"
            }
           },
           "type": "metadsl_core.maybe.Maybe"
          }
         }
        },
        "360316587663678693": {
         "args": [
          "-922652500683932804"
         ],
         "function": "metadsl_core.numpy.NDArrayCompat.to_ndarray"
        },
        "3608513570174760438": {
         "args": [
          "6495279950387089035",
          "8068863999341934174",
          "2389220954881158909"
         ],
         "function": "metadsl_core.maybe.Maybe.match",
         "type_params": {
          "T": {
           "type": "metadsl_core.integer.Integer"
          }
         }
        },
        "3687638797289073511": {
         "args": [
          "9103225968573226652",
          "6333628148795243599"
         ],
         "function": "metadsl_core.maybe.Maybe.map",
         "type_params": {
          "T": {
           "params": {
            "T": {
             "type": "metadsl_core.numpy.NDArray"
            },
            "U": {
             "params": {
              "T": {
               "type": "metadsl_core.integer.Integer"
              },
              "U": {
               "params": {
                "T": {
                 "type": "metadsl_core.integer.Integer"
                }
               },
               "type": "metadsl_core.vec.Vec"
              }
             },
             "type": "metadsl_core.either.Either"
            }
           },
           "type": "metadsl_core.pair.Pair"
          }
         }
        },
        "3701615852306461985": {
         "args": [
          "-4942022877432667789"
         ],
         "function": "metadsl_core.numpy.NDArrayCompat.to_ndarray"
        },
        "3725924941061137586": {
         "args": [
          "4361607748476438419",
          "-5586188481033579152"
         ],
         "function": "metadsl_core.abstraction.Abstraction.__call__",
         "type_params": {
          "T": {
           "type": "metadsl_core.integer.Integer"
          },
          "U": {
           "params": {
            "T": {
             "type": "metadsl_core.numpy.NDArray"
            }
           },
           "type": "metadsl_core.maybe.Maybe"
          }
         }
        },
        "3733947782242423642": {
         "args": [
          "1174546965924099158",
          "8731768997243898494"
         ],
         "function": "metadsl_core.maybe.Maybe.__and__",
         "type_params": {
          "T": {
           "type": "metadsl_core.numpy.NDArray"
          }
         }
        },
        "3756043513253198906": {
         "args": [
          "4581549996842743725",
          "6262230075306626004"
         ],
         "function": "metadsl_core.maybe.Maybe.__and__",
         "type_params": {
          "T": {
           "type": "metadsl_core.numpy.NDArray"
          }
         }
        },
        "3819766022058341218": {
         "args": [
          "-7987333923993951682",
          "490989825388384472"
         ],
         "function": "metadsl_core.numpy.NDArrayCompat.__add__"
        },
        "3826861213111672500": {
         "args": [
          "-6477224147894206534",
          "8068863999341934174",
          "4851812645542628349"
         ],
         "function": "metadsl_core.maybe.Maybe.match"
        },
        "3925481904851591466": {
         "args": [
          "8501719204197641524",
          "6333628148795243599"
         ],
         "function": "metadsl_core.maybe.Maybe.map",
         "type_params": {
          "T": {
           "params": {
            "T": {
             "type": "metadsl_core.numpy.NDArray"
            },
            "U": {
             "params": {
              "T": {
               "type": "metadsl_core.integer.Integer"
              },
              "U": {
               "params": {
                "T": {
                 "type": "metadsl_core.integer.Integer"
                }
               },
               "type": "metadsl_core.vec.Vec"
              }
             },
             "type": "metadsl_core.either.Either"
            }
           },
           "type": "metadsl_core.pair.Pair"
          }
         }
        },
        "3956745441488275590": {
         "args": [
          "2406895093310181881"
         ],
         "function": "metadsl_core.numpy.NDArrayCompat.from_ndarray"
        },
        "3990154623432877492": {
         "args": [
          "-6505021593989585473"
         ],
         "function": "metadsl_core.conversion.Converter.convert",
         "type_params": {
          "T": {
           "type": "metadsl_core.numpy.NDArray"
          }
         }
        },
        "3990886821209499981": {
         "args": [
          "4647060243837226212"
         ],
         "function": "metadsl_core.numpy.NDArrayCompat.from_ndarray"
        },
        "4031171227708894026": {
         "args": [
          "-5586188481033579152"
         ],
         "function": "metadsl_core.numpy.arange_"
        },
        "4136192042349000987": {
         "args": [
          "3402516988771715417"
         ],
         "function": "metadsl_core.maybe.Maybe.just"
        },
        "4283552082355274468": {
         "args": [
          "7136829651087545254"
         ],
         "function": "metadsl_core.numpy_engine.unbox_idxs"
        },
        "4303660612184882997": {
         "args": [
          "-6924877072174935538"
         ],
         "function": "metadsl_core.numpy.NDArrayCompat.from_ndarray"
        },
        "4361607748476438419": {
         "args": [
          "-2464225006306172744",
          "-3096225535317929039"
         ],
         "function": "metadsl_core.abstraction.Abstraction.create"
        },
        "4410325718403442971": {
         "args": [
          "-830270546763232795",
          "6262230075306626004"
         ],
         "function": "metadsl_core.maybe.Maybe.__and__",
         "type_params": {
          "T": {
           "type": "metadsl_core.numpy.NDArray"
          }
         }
        },
        "4552644332109981839": {
         "args": [
          "-8403900231011743819"
         ],
         "function": "metadsl_core.conversion.Converter.convert",
         "type_params": {
          "T": {
           "type": "metadsl_core.numpy.NDArray"
          }
         }
        },
        "4567514388362023782": {
         "args": [
          "9102685729437275761"
         ],
         "function": "metadsl_core.numpy.NDArrayCompat.from_ndarray"
        },
        "4581549996842743725": {
         "args": [
          "7431964679459477367"
         ],
         "function": "metadsl_core.conversion.Converter.convert",
         "type_params": {
          "T": {
           "type": "metadsl_core.numpy.NDArray"
          }
         }
        },
        "4647060243837226212": {
         "args": [
          "-8953213727665176071",
          "8068863999341934174",
          "4851812645542628349"
         ],
         "function": "metadsl_core.maybe.Maybe.match"
        },
        "4676651571074731459": {
         "args": [
          "3925481904851591466"
         ],
         "function": "metadsl_core.numpy.NDArrayCompat.from_ndarray"
        },
        "4715182012045175810": {
         "args": [
          "2595876046779093839"
         ],
         "function": "metadsl_core.conversion.Converter.convert",
         "type_params": {
          "T": {
           "params": {
            "T": {
             "type": "metadsl_core.integer.Integer"
            }
           },
           "type": "metadsl_core.vec.Vec"
          }
         }
        },
        "4738032333611635480": {
         "args": [
          "7136829651087545254"
         ],
         "function": "metadsl_core.maybe.Maybe.just"
        },
        "4851812645542628349": {
         "args": [
          "-8416373700599612947",
          "-1597572784870236758"
         ],
         "function": "metadsl_core.abstraction.Abstraction.__add__",
         "type_params": {
          "T": {
           "type": "metadsl_core.numpy.NDArray"
          },
          "U": {
           "params": {
            "T": {
             "type": "metadsl_core.numpy.NDArray"
            }
           },
           "type": "metadsl_core.maybe.Maybe"
          }
         }
        },
        "490989825388384472": {
         "args": [
          "-2436455881183708393"
         ],
         "function": "metadsl_core.numpy.NDArrayCompat.from_ndarray"
        },
        "4956379186460531365": {
         "args": [
          "-2634513499031893160"
         ],
         "function": "metadsl_core.numpy.NDArrayCompat.to_ndarray"
        },
        "4973764804654446820": {
         "args": [
          "1617082246862974080"
         ],
         "function": "metadsl_core.conversion.Converter.convert",
         "type_params": {
          "T": {
           "type": "metadsl_core.numpy.NDArray"
          }
         }
        },
        "4991517236611489370": {
         "args": [
          "-5499333534701168835"
         ],
         "function": "metadsl_core.numpy.NDArrayCompat.from_ndarray"
        },
        "5009494716842376693": {
         "args": [
          "-374414884460050480"
         ],
         "function": "metadsl_core.numpy.NDArrayCompat.from_ndarray"
        },
        "5022835162792355128": {
         "args": [
          "-7432882207666982055"
         ],
         "function": "metadsl_core.numpy.arange_"
        },
        "507408070446805110": {
         "args": [
          "7627230755124255958"
         ],
         "function": "metadsl_core.conversion.Converter.convert",
         "type_params": {
          "T": {
           "type": "metadsl_core.numpy.NDArray"
          }
         }
        },
        "5101462774986181269": {
         "args": [
          "2595876046676253964"
         ],
         "function": "metadsl_core.numpy.arange"
        },
        "5165753514611803108": {
         "args": [
          "7718544613288445444"
         ],
         "function": "metadsl_core.abstraction.Abstraction.from_fn"
        },
        "5276179573125255989": {
         "args": [
          "6145561044372091523"
         ],
         "function": "metadsl_core.numpy.NDArrayCompat.from_ndarray"
        },
        "5377449658723039781": {
         "args": [
          "1911765978041787205"
         ],
         "function": "metadsl_core.numpy.NDArray.to_ndarray"
        },
        "5379458579305837977": {
         "args": [
          "-2464225006306172744",
          "-3597756152225037259"
         ],
         "function": "metadsl_core.abstraction.Abstraction.create",
         "type_params": {
          "T": {
           "type": "metadsl_core.integer.Integer"
          },
          "U": {
           "type": "metadsl_core.numpy.NDArray"
          }
         }
        },
        "5648585608652857566": {
         "args": [
          "-5233189797606936297"
         ],
         "function": "metadsl_core.conversion.Converter.convert",
         "type_params": {
          "T": {
           "type": "metadsl_core.numpy.NDArray"
          }
         }
        },
        "5703246168828917575": {
         "args": [
          "-395504964967825737",
          "-5586188481033579152"
         ],
         "function": "metadsl_core.abstraction.Abstraction.__call__",
         "type_params": {
          "T": {
           "type": "metadsl_core.integer.Integer"
          },
          "U": {
           "params": {
            "T": {
             "type": "metadsl_core.numpy.NDArray"
            }
           },
           "type": "metadsl_core.maybe.Maybe"
          }
         }
        },
        "5864997477180888506": {
         "args": [
          "2595876046779093839"
         ],
         "function": "metadsl_core.conversion.Converter.convert",
         "type_params": {
          "T": {
           "params": {
            "T": {
             "type": "metadsl_core.integer.Integer"
            },
            "U": {
             "params": {
              "T": {
               "type": "metadsl_core.integer.Integer"
              }
             },
             "type": "metadsl_core.vec.Vec"
            }
           },
           "type": "metadsl_core.either.Either"
          }
         }
        },
        "5870866124081898364": {
         "args": [
          "-2855193641958112959"
         ],
         "function": "metadsl_core.numpy.NDArrayCompat.from_ndarray"
        },
        "5887915695034075168": {
         "args": [
          "1911765978041787205"
         ],
         "function": "metadsl_core.maybe.Maybe.just"
        },
        "5888172811087465133": {
         "args": [
          "8111844120604382313"
         ],
         "function": "metadsl_core.pair.Pair.right",
         "type_params": {
          "T": {
           "type": "metadsl_core.numpy.NDArray"
          },
          "U": {
           "params": {
            "T": {
             "type": "metadsl_core.integer.Integer"
            },
            "U": {
             "params": {
              "T": {
               "type": "metadsl_core.integer.Integer"
              }
             },
             "type": "metadsl_core.vec.Vec"
            }
           },
           "type": "metadsl_core.either.Either"
          }
         }
        },
        "5960017596721788093": {
         "args": [
          "2768644538170186802"
         ],
         "function": "metadsl_core.numpy.NDArrayCompat.to_ndarray"
        },
        "6005180802017489710": {
         "args": [
          "6015512325675260613",
          "-5586188481033579152"
         ],
         "function": "metadsl_core.abstraction.Abstraction.__call__",
         "type_params": {
          "T": {
           "type": "metadsl_core.integer.Integer"
          },
          "U": {
           "params": {
            "T": {
             "type": "metadsl_core.numpy.NDArray"
            }
           },
           "type": "metadsl_core.maybe.Maybe"
          }
         }
        },
        "6015512325675260613": {
         "args": [
          "-6750300562864183495",
          "3412487465505697437"
         ],
         "function": "metadsl_core.abstraction.Abstraction.__add__",
         "type_params": {
          "T": {
           "type": "metadsl_core.numpy.NDArray"
          },
          "U": {
           "params": {
            "T": {
             "type": "metadsl_core.numpy.NDArray"
            }
           },
           "type": "metadsl_core.maybe.Maybe"
          }
         }
        },
        "6033016950681372978": {
         "args": [
          "-6390974249925896307",
          "4283552082355274468"
         ],
         "function": "metadsl_core.numpy_engine.ndarray_getitem"
        },
        "6145561044372091523": {
         "args": [
          "2345177519773394833",
          "8068863999341934174",
          "4851812645542628349"
         ],
         "function": "metadsl_core.maybe.Maybe.match"
        },
        "6262230075306626004": {
         "args": [
          "-7444770353763920208",
          "6819396428458609847"
         ],
         "function": "metadsl_core.maybe.Maybe.__or__",
         "type_params": {
          "T": {
           "params": {
            "T": {
             "type": "metadsl_core.integer.Integer"
            },
            "U": {
             "params": {
              "T": {
               "type": "metadsl_core.integer.Integer"
              }
             },
             "type": "metadsl_core.vec.Vec"
            }
           },
           "type": "metadsl_core.either.Either"
          }
         }
        },
        "6333628148795243599": {
         "args": [
          "-8960652001761708396"
         ],
         "function": "metadsl_core.abstraction.Abstraction.from_fn",
         "type_params": {
          "T": {
           "params": {
            "T": {
             "type": "metadsl_core.numpy.NDArray"
            },
            "U": {
             "params": {
              "T": {
               "type": "metadsl_core.integer.Integer"
              },
              "U": {
               "params": {
                "T": {
                 "type": "metadsl_core.integer.Integer"
                }
               },
               "type": "metadsl_core.vec.Vec"
              }
             },
             "type": "metadsl_core.either.Either"
            }
           },
           "type": "metadsl_core.pair.Pair"
          },
          "U": {
           "type": "metadsl_core.numpy.NDArray"
          }
         }
        },
        "6359130647632549453": {
         "args": [
          "742549260268039899"
         ],
         "function": "metadsl_core.numpy.NDArrayCompat.from_ndarray"
        },
        "6361731378930986966": {
         "args": [
          "2572077363279902161"
         ],
         "function": "metadsl_core.numpy.NDArrayCompat.from_ndarray"
        },
        "6495279950387089035": {
         "args": [
          "-5586188481033579152"
         ],
         "function": "metadsl_core.maybe.Maybe.just"
        },
        "6568504879436375721": {
         "args": [
          "3733947782242423642",
          "8068863999341934174",
          "4851812645542628349"
         ],
         "function": "metadsl_core.maybe.Maybe.match"
        },
        "6612942243105692743": {
         "args": [
          "3442050428913963947"
         ],
         "function": "metadsl_core.numpy.NDArrayCompat.from_ndarray"
        },
        "6616158181666278405": {
         "args": [
          "2595876046779093839"
         ],
         "function": "metadsl_core.conversion.Converter.convert",
         "type_params": {
          "T": {
           "type": "metadsl_core.integer.Integer"
          }
         }
        },
        "6656253538077465464": {
         "args": [
          "-6582613651964292360"
         ],
         "function": "metadsl_core.numpy.NDArrayCompat.from_ndarray"
        },
        "6684147172614818261": {
         "args": [
          "-4338395285592754243"
         ],
         "function": "metadsl_core.conversion.Converter.convert",
         "type_params": {
          "T": {
           "type": "metadsl_core.numpy.NDArray"
          }
         }
        },
        "6723801050969027838": {
         "args": [
          "-280432089349873217"
         ],
         "function": "metadsl_core.numpy_engine.arange"
        },
        "6752512891828708668": {
         "args": [
          "3687638797289073511"
         ],
         "function": "metadsl_core.numpy.NDArrayCompat.from_ndarray"
        },
        "6781755440912753152": {
         "args": [
          "6965494699524650180"
         ],
         "function": "metadsl_core.numpy.NDArrayCompat.from_ndarray"
        },
        "6818441909137783089": {
         "args": [
          "-830270546763232795",
          "148717252754593178"
         ],
         "function": "metadsl_core.maybe.Maybe.__and__",
         "type_params": {
          "T": {
           "type": "metadsl_core.numpy.NDArray"
          }
         }
        },
        "6819396428458609847": {
         "args": [
          "4715182012045175810",
          "-4313048907047300040"
         ],
         "function": "metadsl_core.maybe.Maybe.map",
         "type_params": {
          "T": {
           "params": {
            "T": {
             "type": "metadsl_core.integer.Integer"
            }
           },
           "type": "metadsl_core.vec.Vec"
          }
         }
        },
        "6851851274930758122": {
         "args": [
          "2857975390779484260",
          "3086641452664409549"
         ],
         "function": "metadsl_core.abstraction.Abstraction.__add__",
         "type_params": {
          "T": {
           "params": {
            "T": {
             "type": "metadsl_core.integer.Integer"
            },
            "U": {
             "params": {
              "T": {
               "type": "metadsl_core.integer.Integer"
              }
             },
             "type": "metadsl_core.vec.Vec"
            }
           },
           "type": "metadsl_core.either.Either"
          },
          "U": {
           "params": {
            "T": {
             "params": {
              "T": {
               "type": "metadsl_core.integer.Integer"
              },
              "U": {
               "params": {
                "T": {
                 "type": "metadsl_core.integer.Integer"
                }
               },
               "type": "metadsl_core.vec.Vec"
              }
             },
             "type": "metadsl_core.either.Either"
            }
           },
           "type": "metadsl_core.maybe.Maybe"
          }
         }
        },
        "6923585858624798540": {
         "args": [
          "5648585608652857566",
          "5864997477180888506"
         ],
         "function": "metadsl_core.maybe.Maybe.__and__",
         "type_params": {
          "T": {
           "type": "metadsl_core.numpy.NDArray"
          }
         }
        },
        "6965494699524650180": {
         "args": [
          "-744482825347110841",
          "8068863999341934174",
          "4851812645542628349"
         ],
         "function": "metadsl_core.maybe.Maybe.match"
        },
        "7022807870054565964": {
         "args": [
          "1911765978041787205",
          "7136829651087545254"
         ],
         "function": "metadsl_core.numpy.NDArray.__getitem__"
        },
        "7136829651087545254": {
         "args": [
          "-7953821244861570482"
         ],
         "function": "metadsl_core.either.Either.left",
         "type_params": {
          "T": {
           "type": "metadsl_core.integer.Integer"
          },
          "U": {
           "params": {
            "T": {
             "type": "metadsl_core.integer.Integer"
            }
           },
           "type": "metadsl_core.vec.Vec"
          }
         }
        },
        "7139963045110523021": {
         "args": [
          "-8904427392122946666"
         ],
         "function": "metadsl_core.maybe.Maybe.just",
         "type_params": {
          "T": {
           "type": "metadsl_core.numpy.NDArray"
          }
         }
        },
        "7159074959588852555": {
         "args": [
          "6359130647632549453"
         ],
         "function": "metadsl_core.numpy.NDArrayCompat.to_ndarray"
        },
        "7162749638175375854": {
         "args": [
          "3826861213111672500"
         ],
         "function": "metadsl_core.numpy.NDArrayCompat.from_ndarray"
        },
        "7166430247666708930": {
         "args": [
          "1204135681029849166",
          "6262230075306626004"
         ],
         "function": "metadsl_core.maybe.Maybe.__and__",
         "type_params": {
          "T": {
           "type": "metadsl_core.numpy.NDArray"
          }
         }
        },
        "726283307851896416": {
         "args": [
          "9150641681639688532",
          "8068863999341934174",
          "4851812645542628349"
         ],
         "function": "metadsl_core.maybe.Maybe.match"
        },
        "7393886181157362337": {
         "args": [
          "-8308382512643611959",
          "6262230075306626004"
         ],
         "function": "metadsl_core.maybe.Maybe.__and__",
         "type_params": {
          "T": {
           "type": "metadsl_core.numpy.NDArray"
          }
         }
        },
        "742549260268039899": {
         "args": [
          "7022807870054565964"
         ],
         "function": "metadsl_core.maybe.Maybe.just",
         "type_params": {
          "T": {
           "type": "metadsl_core.numpy.NDArray"
          }
         }
        },
        "7431964679459477367": {
         "args": [
          "2662533159588813476",
          "4303660612184882997"
         ],
         "function": "metadsl_core.numpy.NDArrayCompat.__add__"
        },
        "7544669447117996744": {
         "args": [
          "-689564755399340722",
          "-689564755399340722"
         ],
         "function": "metadsl_core.numpy_engine.ndarray_add"
        },
        "7627230755124255958": {
         "args": [
          "-2010962969679169342",
          "4303660612184882997"
         ],
         "function": "metadsl_core.numpy.NDArrayCompat.__add__"
        },
        "7655919487149005518": {
         "args": [
          "93077902880721731",
          "8068863999341934174",
          "4851812645542628349"
         ],
         "function": "metadsl_core.maybe.Maybe.match"
        },
        "7674333131639738595": {
         "args": [
          "3756043513253198906",
          "8068863999341934174",
          "4851812645542628349"
         ],
         "function": "metadsl_core.maybe.Maybe.match"
        },
        "7683781759619673935": {
         "args": [
          "1380354513315837677"
         ],
         "function": "metadsl_core.numpy.NDArrayCompat.to_ndarray"
        },
        "7718544450563287444": {
         "repr": "BoundInfer(fn=<function Maybe.just at 0x108714d08>, wrapper=<function wrapper at 0x1086f0048>, owner=metadsl_core.maybe.Maybe[metadsl_core.numpy.NDArray], is_classmethod=True)",
         "type": "metadsl.typing_tools.BoundInfer"
        },
        "7718544478994724044": {
         "repr": "BoundInfer(fn=<function Either.right at 0x108733598>, wrapper=<function wrapper at 0x1086f0048>, owner=metadsl_core.either.Either[metadsl_core.integer.Integer, metadsl_core.vec.Vec[metadsl_core.integer.Integer]], is_classmethod=True)",
         "type": "metadsl.typing_tools.BoundInfer"
        },
        "7718544479661559444": {
         "repr": "BoundInfer(fn=<function Maybe.just at 0x108714d08>, wrapper=<function wrapper at 0x1086f0048>, owner=metadsl_core.maybe.Maybe[metadsl_core.numpy.NDArray], is_classmethod=True)",
         "type": "metadsl.typing_tools.BoundInfer"
        },
        "7718544559318079044": {
         "repr": "BoundInfer(fn=<function Either.left at 0x108733158>, wrapper=<function wrapper at 0x1086f0048>, owner=metadsl_core.either.Either[metadsl_core.integer.Integer, metadsl_core.vec.Vec[metadsl_core.integer.Integer]], is_classmethod=True)",
         "type": "metadsl.typing_tools.BoundInfer"
        },
        "7718544560002234844": {
         "repr": "BoundInfer(fn=<function Either.right at 0x108733598>, wrapper=<function wrapper at 0x1086f0048>, owner=metadsl_core.either.Either[metadsl_core.integer.Integer, metadsl_core.vec.Vec[metadsl_core.integer.Integer]], is_classmethod=True)",
         "type": "metadsl.typing_tools.BoundInfer"
        },
        "7718544613288445444": {
         "repr": "BoundInfer(fn=<function Either.left at 0x108733158>, wrapper=<function wrapper at 0x1086f0048>, owner=metadsl_core.either.Either[metadsl_core.integer.Integer, metadsl_core.vec.Vec[metadsl_core.integer.Integer]], is_classmethod=True)",
         "type": "metadsl.typing_tools.BoundInfer"
        },
        "7718544684111561044": {
         "repr": "BoundInfer(fn=<function Maybe.just at 0x108714d08>, wrapper=<function wrapper at 0x1086f0048>, owner=metadsl_core.maybe.Maybe[metadsl_core.numpy.NDArray], is_classmethod=True)",
         "type": "metadsl.typing_tools.BoundInfer"
        },
        "7718545252965458244": {
         "repr": "BoundInfer(fn=<function Either.left at 0x108733158>, wrapper=<function wrapper at 0x1086f0048>, owner=metadsl_core.either.Either[metadsl_core.integer.Integer, metadsl_core.vec.Vec[metadsl_core.integer.Integer]], is_classmethod=True)",
         "type": "metadsl.typing_tools.BoundInfer"
        },
        "7718545254775440044": {
         "repr": "BoundInfer(fn=<function Maybe.just at 0x108714d08>, wrapper=<function wrapper at 0x1086f0048>, owner=metadsl_core.maybe.Maybe[metadsl_core.either.Either[metadsl_core.integer.Integer, metadsl_core.vec.Vec[metadsl_core.integer.Integer]]], is_classmethod=True)",
         "type": "metadsl.typing_tools.BoundInfer"
        },
        "7718545255459595844": {
         "repr": "BoundInfer(fn=<function Maybe.just at 0x108714d08>, wrapper=<function wrapper at 0x1086f0048>, owner=metadsl_core.maybe.Maybe[metadsl_core.either.Either[metadsl_core.integer.Integer, metadsl_core.vec.Vec[metadsl_core.integer.Integer]]], is_classmethod=True)",
         "type": "metadsl.typing_tools.BoundInfer"
        },
        "7718545257018431844": {
         "repr": "BoundInfer(fn=<function Either.left at 0x108733158>, wrapper=<function wrapper at 0x1086f0048>, owner=metadsl_core.either.Either[metadsl_core.integer.Integer, metadsl_core.vec.Vec[metadsl_core.integer.Integer]], is_classmethod=True)",
         "type": "metadsl.typing_tools.BoundInfer"
        },
        "7718545399851110444": {
         "repr": "BoundInfer(fn=<function Maybe.just at 0x108714d08>, wrapper=<function wrapper at 0x1086f0048>, owner=metadsl_core.maybe.Maybe[metadsl_core.numpy.NDArray], is_classmethod=True)",
         "type": "metadsl.typing_tools.BoundInfer"
        },
        "7718545440519409644": {
         "repr": "BoundInfer(fn=<function Maybe.just at 0x108714d08>, wrapper=<function wrapper at 0x1086f0048>, owner=metadsl_core.maybe.Maybe[metadsl_core.numpy.NDArray], is_classmethod=True)",
         "type": "metadsl.typing_tools.BoundInfer"
        },
        "771926839075201741": {
         "args": [
          "-3167045803850370341",
          "8068863999341934174",
          "4851812645542628349"
         ],
         "function": "metadsl_core.maybe.Maybe.match"
        },
        "7797316072527765022": {
         "args": [
          "6684147172614818261",
          "6262230075306626004"
         ],
         "function": "metadsl_core.maybe.Maybe.__and__",
         "type_params": {
          "T": {
           "type": "metadsl_core.numpy.NDArray"
          }
         }
        },
        "7816345134345850681": {
         "args": [
          "5887915695034075168",
          "4738032333611635480"
         ],
         "function": "metadsl_core.maybe.Maybe.__and__",
         "type_params": {
          "T": {
           "type": "metadsl_core.numpy.NDArray"
          }
         }
        },
        "7938400747573386744": {
         "args": [
          "-7953821244861570482"
         ],
         "function": "metadsl_core.maybe.Maybe.just"
        },
        "7953279922132865621": {
         "args": [
          "1662955684881240771"
         ],
         "function": "metadsl_core.numpy.NDArrayCompat.from_ndarray"
        },
        "7998186607444985827": {
         "args": [
          "1911765978041787205",
          "1254845661443839558"
         ],
         "function": "metadsl_core.numpy.NDArray.__getitem__"
        },
        "8011578591567469682": {
         "args": [
          "-553843878920709567"
         ],
         "function": "metadsl_core.numpy.NDArrayCompat.from_ndarray"
        },
        "8068863999341934174": {
         "function": "metadsl_core.maybe.Maybe.nothing",
         "type_params": {
          "T": {
           "type": "metadsl_core.numpy.NDArray"
          }
         }
        },
        "8111844120604382313": {
         "args": [
          "-395434558652515056"
         ],
         "function": "metadsl_core.abstraction.Abstraction.create_variable",
         "type_params": {
          "T": {
           "params": {
            "T": {
             "type": "metadsl_core.numpy.NDArray"
            },
            "U": {
             "params": {
              "T": {
               "type": "metadsl_core.integer.Integer"
              },
              "U": {
               "params": {
                "T": {
                 "type": "metadsl_core.integer.Integer"
                }
               },
               "type": "metadsl_core.vec.Vec"
              }
             },
             "type": "metadsl_core.either.Either"
            }
           },
           "type": "metadsl_core.pair.Pair"
          },
          "U": {
           "type": "metadsl_core.numpy.NDArray"
          }
         }
        },
        "8164894599670932671": {
         "args": [
          "-5493193343144368474"
         ],
         "function": "metadsl_core.numpy.NDArrayCompat.from_ndarray"
        },
        "817091891189644235": {
         "args": [
          "-395434546208890181"
         ],
         "function": "metadsl_core.abstraction.Abstraction.create_variable",
         "type_params": {
          "T": {
           "params": {
            "T": {
             "type": "metadsl_core.integer.Integer"
            },
            "U": {
             "params": {
              "T": {
               "type": "metadsl_core.integer.Integer"
              }
             },
             "type": "metadsl_core.vec.Vec"
            }
           },
           "type": "metadsl_core.either.Either"
          },
          "U": {
           "params": {
            "T": {
             "params": {
              "T": {
               "type": "metadsl_core.integer.Integer"
              },
              "U": {
               "params": {
                "T": {
                 "type": "metadsl_core.integer.Integer"
                }
               },
               "type": "metadsl_core.vec.Vec"
              }
             },
             "type": "metadsl_core.either.Either"
            }
           },
           "type": "metadsl_core.maybe.Maybe"
          }
         }
        },
        "8227755100418735093": {
         "args": [
          "-2718090716729297616",
          "1432660032811966047"
         ],
         "function": "metadsl_core.maybe.Maybe.__or__",
         "type_params": {
          "T": {
           "params": {
            "T": {
             "type": "metadsl_core.integer.Integer"
            },
            "U": {
             "params": {
              "T": {
               "type": "metadsl_core.integer.Integer"
              }
             },
             "type": "metadsl_core.vec.Vec"
            }
           },
           "type": "metadsl_core.either.Either"
          }
         }
        },
        "8244666174701220110": {
         "args": [
          "2611410537276393185",
          "-1597572784870236758"
         ],
         "function": "metadsl_core.abstraction.Abstraction.__add__",
         "type_params": {
          "T": {
           "type": "metadsl_core.numpy.NDArray"
          },
          "U": {
           "params": {
            "T": {
             "type": "metadsl_core.numpy.NDArray"
            }
           },
           "type": "metadsl_core.maybe.Maybe"
          }
         }
        },
        "8295271963561658079": {
         "args": [
          "8111844120604382313",
          "-9186066363797220266"
         ],
         "function": "metadsl_core.abstraction.Abstraction.create"
        },
        "8301738674565811743": {
         "args": [
          "-7742281327993875741",
          "6333628148795243599"
         ],
         "function": "metadsl_core.maybe.Maybe.map",
         "type_params": {
          "T": {
           "params": {
            "T": {
             "type": "metadsl_core.numpy.NDArray"
            },
            "U": {
             "params": {
              "T": {
               "type": "metadsl_core.integer.Integer"
              },
              "U": {
               "params": {
                "T": {
                 "type": "metadsl_core.integer.Integer"
                }
               },
               "type": "metadsl_core.vec.Vec"
              }
             },
             "type": "metadsl_core.either.Either"
            }
           },
           "type": "metadsl_core.pair.Pair"
          }
         }
        },
        "8340495363217960709": {
         "args": [
          "7393886181157362337",
          "8068863999341934174",
          "4851812645542628349"
         ],
         "function": "metadsl_core.maybe.Maybe.match"
        },
        "8492091305993508869": {
         "args": [
          "-216673006642294697",
          "-2680453223507947069"
         ],
         "function": "metadsl_core.abstraction.Abstraction.__add__",
         "type_params": {
          "T": {
           "type": "metadsl_core.numpy.NDArray"
          },
          "U": {
           "params": {
            "T": {
             "type": "metadsl_core.numpy.NDArray"
            }
           },
           "type": "metadsl_core.maybe.Maybe"
          }
         }
        },
        "8501719204197641524": {
         "args": [
          "-9109307926229908413",
          "5864997477180888506"
         ],
         "function": "metadsl_core.maybe.Maybe.__and__",
         "type_params": {
          "T": {
           "type": "metadsl_core.numpy.NDArray"
          }
         }
        },
        "8578393878881786466": {
         "args": [
          "-7987333923993951682",
          "-7987333923993951682"
         ],
         "function": "metadsl_core.numpy.NDArrayCompat.__add__"
        },
        "8586822193707067965": {
         "args": [
          "7022807870054565964"
         ],
         "function": "metadsl_core.numpy.NDArray.to_ndarray"
        },
        "8605955205155030986": {
         "args": [
          "-3575457940294400825",
          "4283552082355274468"
         ],
         "function": "metadsl_core.numpy_engine.ndarray_getitem"
        },
        "8685847048185757448": {
         "args": [
          "7998186607444985827"
         ],
         "function": "metadsl_core.maybe.Maybe.just",
         "type_params": {
          "T": {
           "type": "metadsl_core.numpy.NDArray"
          }
         }
        },
        "8689280473655304380": {
         "args": [
          "7718545257018431844"
         ],
         "function": "metadsl_core.abstraction.Abstraction.from_fn"
        },
        "8690626380751571268": {
         "args": [
          "-7796891201160907340",
          "6819396428458609847"
         ],
         "function": "metadsl_core.maybe.Maybe.__or__",
         "type_params": {
          "T": {
           "params": {
            "T": {
             "type": "metadsl_core.integer.Integer"
            },
            "U": {
             "params": {
              "T": {
               "type": "metadsl_core.integer.Integer"
              }
             },
             "type": "metadsl_core.vec.Vec"
            }
           },
           "type": "metadsl_core.either.Either"
          }
         }
        },
        "8702230173243775619": {
         "args": [
          "-1829747029505276846"
         ],
         "function": "metadsl_core.numpy.NDArrayCompat.to_ndarray"
        },
        "8731768997243898494": {
         "args": [
          "-6718344517984905343",
          "6819396428458609847"
         ],
         "function": "metadsl_core.maybe.Maybe.__or__",
         "type_params": {
          "T": {
           "params": {
            "T": {
             "type": "metadsl_core.integer.Integer"
            },
            "U": {
             "params": {
              "T": {
               "type": "metadsl_core.integer.Integer"
              }
             },
             "type": "metadsl_core.vec.Vec"
            }
           },
           "type": "metadsl_core.either.Either"
          }
         }
        },
        "8827937357323189152": {
         "repr": "Variable(4617019856)",
         "type": "metadsl_core.abstraction.Variable"
        },
        "8827937447916458827": {
         "repr": "Variable(4616335936)",
         "type": "metadsl_core.abstraction.Variable"
        },
        "8827937457402625402": {
         "repr": "Variable(4616181744)",
         "type": "metadsl_core.abstraction.Variable"
        },
        "8827937473058101952": {
         "repr": "Variable(4616474576)",
         "type": "metadsl_core.abstraction.Variable"
        },
        "8827937476981172552": {
         "repr": "Variable(4616432720)",
         "type": "metadsl_core.abstraction.Variable"
        },
        "8827937489698676252": {
         "repr": "Variable(4616621584)",
         "type": "metadsl_core.abstraction.Variable"
        },
        "894366622340269604": {
         "args": [
          "-982300107011601132"
         ],
         "function": "metadsl_core.numpy.NDArrayCompat.to_ndarray"
        },
        "901481986845566370": {
         "args": [
          "2611410537276393185",
          "-4511725549279881554"
         ],
         "function": "metadsl_core.abstraction.Abstraction.__add__",
         "type_params": {
          "T": {
           "type": "metadsl_core.numpy.NDArray"
          },
          "U": {
           "params": {
            "T": {
             "type": "metadsl_core.numpy.NDArray"
            }
           },
           "type": "metadsl_core.maybe.Maybe"
          }
         }
        },
        "9102685729437275761": {
         "args": [
          "4136192042349000987",
          "8068863999341934174",
          "8295271963561658079"
         ],
         "function": "metadsl_core.maybe.Maybe.match"
        },
        "9103225968573226652": {
         "args": [
          "4552644332109981839",
          "5864997477180888506"
         ],
         "function": "metadsl_core.maybe.Maybe.__and__",
         "type_params": {
          "T": {
           "type": "metadsl_core.numpy.NDArray"
          }
         }
        },
        "9150641681639688532": {
         "args": [
          "1174546965924099158",
          "6262230075306626004"
         ],
         "function": "metadsl_core.maybe.Maybe.__and__",
         "type_params": {
          "T": {
           "type": "metadsl_core.numpy.NDArray"
          }
         }
        },
        "9165539148569013387": {
         "args": [
          "-4984424746054151222"
         ],
         "function": "metadsl_core.conversion.Converter.convert",
         "type_params": {
          "T": {
           "type": "metadsl_core.numpy.NDArray"
          }
         }
        },
        "93077902880721731": {
         "args": [
          "1174546965924099158",
          "4738032333611635480"
         ],
         "function": "metadsl_core.maybe.Maybe.__and__",
         "type_params": {
          "T": {
           "type": "metadsl_core.numpy.NDArray"
          }
         }
        }
       },
       "states": {
        "initial": "-240981680985143449",
        "states": [
         {
          "node": "-1094516537492958954",
          "rule": "metadsl_core.numpy.NDArrayCompat.__getitem__"
         },
         {
          "node": "-7666680655537306597",
          "rule": "metadsl_core.numpy.arange"
         },
         {
          "node": "-6014676496187584150",
          "rule": "metadsl_core.integer.convert_integer"
         },
         {
          "node": "-6350145245750207762",
          "rule": "metadsl_core.numpy.arange"
         },
         {
          "node": "-5054580159859065346",
          "rule": "metadsl_core.integer.convert_integer"
         },
         {
          "node": "-8513433130472601229",
          "rule": "metadsl_core.either.convert_to_either"
         },
         {
          "node": "2313568276240209238",
          "rule": "metadsl_core.integer.convert_integer"
         },
         {
          "node": "-6090550354976932520",
          "rule": "metadsl_core.maybe.Maybe.map"
         },
         {
          "node": "8702230173243775619",
          "rule": "metadsl_core.maybe.Maybe.map"
         },
         {
          "node": "-112819658371690377",
          "rule": "metadsl_core.maybe.maybe_match"
         },
         {
          "node": "1341922260571161078",
          "rule": "metadsl_core.abstraction.Abstraction.from_fn"
         },
         {
          "node": "-5385435595446898637",
          "rule": "metadsl_core.abstraction.Abstraction.from_fn"
         },
         {
          "node": "5960017596721788093",
          "rule": "metadsl_core.abstraction.compose"
         },
         {
          "node": "-2670779258779313667",
          "rule": "metadsl_core.abstraction.beta_reduce"
         },
         {
          "node": "-1865665164701305046",
          "rule": "metadsl_core.maybe.Maybe.map"
         },
         {
          "node": "4956379186460531365",
          "rule": "metadsl_core.maybe.maybe_match"
         },
         {
          "node": "-1963970534035934393",
          "rule": "metadsl_core.abstraction.Abstraction.from_fn"
         },
         {
          "node": "360316587663678693",
          "rule": "metadsl_core.abstraction.Abstraction.from_fn"
         },
         {
          "node": "-9001500102380522238",
          "rule": "metadsl_core.abstraction.compose"
         },
         {
          "node": "894366622340269604",
          "rule": "metadsl_core.abstraction.beta_reduce"
         },
         {
          "node": "-8931293057262695690",
          "rule": "metadsl_core.maybe.Maybe.map"
         },
         {
          "node": "2821726378433648053",
          "rule": "metadsl_core.maybe.maybe_match"
         },
         {
          "node": "354437065248169853",
          "rule": "metadsl_core.abstraction.Abstraction.from_fn"
         },
         {
          "node": "7683781759619673935",
          "rule": "metadsl_core.abstraction.Abstraction.from_fn"
         },
         {
          "node": "3701615852306461985",
          "rule": "metadsl_core.abstraction.compose"
         },
         {
          "node": "-8656981226506006474",
          "rule": "metadsl_core.abstraction.beta_reduce"
         },
         {
          "node": "-2610089124704566275",
          "rule": "metadsl_core.maybe.maybe_or"
         },
         {
          "node": "1476445265420347091",
          "rule": "metadsl_core.abstraction.Abstraction.from_fn"
         },
         {
          "node": "-1488143653730295426",
          "rule": "metadsl_core.abstraction.Abstraction.from_fn"
         },
         {
          "node": "2428748855899720923",
          "rule": "metadsl_core.abstraction.compose"
         },
         {
          "node": "-7437747885892096218",
          "rule": "metadsl_core.numpy.add_compat"
         },
         {
          "node": "-1282100583479989896",
          "rule": "metadsl_core.numpy.convert_to_ndarray"
         },
         {
          "node": "-6192515545617256120",
          "rule": "metadsl_core.maybe.maybe_and"
         },
         {
          "node": "-2405415694894462771",
          "rule": "metadsl_core.maybe.maybe_match"
         },
         {
          "node": "-4080094971635413018",
          "rule": "metadsl_core.abstraction.beta_reduce"
         },
         {
          "node": "-5433782250850752446",
          "rule": "metadsl_core.pair.pair_left"
         },
         {
          "label": "convert",
          "node": "7159074959588852555",
          "rule": "metadsl_core.pair.pair_right"
         },
         {
          "node": "8586822193707067965",
          "rule": "metadsl_core.numpy.box_unbox_ndarray_compat"
         },
         {
          "node": "-3286095517800359267",
          "rule": "metadsl_core.numpy_engine.unbox_ndarray_getitem"
         },
         {
          "node": "-2888994268370501137",
          "rule": "metadsl_core.numpy_engine.unbox_ndarray_add"
         },
         {
          "node": "8605955205155030986",
          "rule": "metadsl_core.numpy_engine.unbox_arange"
         },
         {
          "node": "6033016950681372978",
          "rule": "metadsl_core.numpy_engine.unbox_integer_rule"
         },
         {
          "node": "-806729751812158825",
          "rule": "metadsl_core.numpy_engine.unbox_arange"
         },
         {
          "node": "2562988125597263693",
          "rule": "metadsl_core.numpy_engine.unbox_integer_rule"
         },
         {
          "node": "2149446839810008273",
          "rule": "metadsl_core.numpy_engine.unbox_idxs_rule"
         },
         {
          "label": "unbox",
          "node": "-8882938723879009084",
          "rule": "metadsl_core.numpy_engine.unbox_integer_rule"
         },
         {
          "node": "-773729102592704277",
          "rule": "metadsl_core.numpy_engine.arange"
         },
         {
          "node": "-2293520926042171655",
          "rule": "metadsl_core.numpy_engine.arange"
         },
         {
          "node": "-3664358699684467470",
          "rule": "metadsl_core.numpy_engine.ndarray_add"
         },
         {
          "label": "execute",
          "node": "-8829012800782605950",
          "rule": "metadsl_core.numpy_engine.ndarray_getitem"
         }
        ]
       }
      },
      "text/plain": [
       "Typez(definitions=None, nodes={'2595876046676253964': PrimitiveNode(type='int', repr='100'), '5101462774986181269': CallNode(function='metadsl_core.numpy.arange', type_params=None, args=['2595876046676253964'], kwargs=None), '-7544492941599470646': CallNode(function='metadsl_core.numpy.NDArrayCompat.__add__', type_params=None, args=['5101462774986181269', '5101462774986181269'], kwargs=None), '2595876046779093839': PrimitiveNode(type='int', repr='5'), '-3572761542161006031': CallNode(function='metadsl_core.numpy.NDArrayCompat.__getitem__', type_params=None, args=['-7544492941599470646', '2595876046779093839'], kwargs=None), '-240981680985143449': CallNode(function='metadsl_core.numpy.NDArrayCompat.to_ndarray', type_params=None, args=['-3572761542161006031'], kwargs=None), '-9109307926229908413': CallNode(function='metadsl_core.conversion.Converter.convert', type_params={'T': DeclaredTypeInstance(type='metadsl_core.numpy.NDArray', params=None)}, args=['-7544492941599470646'], kwargs=None), '5864997477180888506': CallNode(function='metadsl_core.conversion.Converter.convert', type_params={'T': DeclaredTypeInstance(type='metadsl_core.either.Either', params={'U': DeclaredTypeInstance(type='metadsl_core.vec.Vec', params={'T': DeclaredTypeInstance(type='metadsl_core.integer.Integer', params=None)}), 'T': DeclaredTypeInstance(type='metadsl_core.integer.Integer', params=None)})}, args=['2595876046779093839'], kwargs=None), '8501719204197641524': CallNode(function='metadsl_core.maybe.Maybe.__and__', type_params={'T': DeclaredTypeInstance(type='metadsl_core.numpy.NDArray', params=None)}, args=['-9109307926229908413', '5864997477180888506'], kwargs=None), '-8960652001761708396': PrimitiveNode(type='function', repr='<function NDArrayCompat.__getitem__.<locals>.<lambda> at 0x113211a60>'), '6333628148795243599': CallNode(function='metadsl_core.abstraction.Abstraction.from_fn', type_params={'U': DeclaredTypeInstance(type='metadsl_core.numpy.NDArray', params=None), 'T': DeclaredTypeInstance(type='metadsl_core.pair.Pair', params={'U': DeclaredTypeInstance(type='metadsl_core.either.Either', params={'U': DeclaredTypeInstance(type='metadsl_core.vec.Vec', params={'T': DeclaredTypeInstance(type='metadsl_core.integer.Integer', params=None)}), 'T': DeclaredTypeInstance(type='metadsl_core.integer.Integer', params=None)}), 'T': DeclaredTypeInstance(type='metadsl_core.numpy.NDArray', params=None)})}, args=['-8960652001761708396'], kwargs=None), '3925481904851591466': CallNode(function='metadsl_core.maybe.Maybe.map', type_params={'T': DeclaredTypeInstance(type='metadsl_core.pair.Pair', params={'U': DeclaredTypeInstance(type='metadsl_core.either.Either', params={'U': DeclaredTypeInstance(type='metadsl_core.vec.Vec', params={'T': DeclaredTypeInstance(type='metadsl_core.integer.Integer', params=None)}), 'T': DeclaredTypeInstance(type='metadsl_core.integer.Integer', params=None)}), 'T': DeclaredTypeInstance(type='metadsl_core.numpy.NDArray', params=None)})}, args=['8501719204197641524', '6333628148795243599'], kwargs=None), '4676651571074731459': CallNode(function='metadsl_core.numpy.NDArrayCompat.from_ndarray', type_params=None, args=['3925481904851591466'], kwargs=None), '-1094516537492958954': CallNode(function='metadsl_core.numpy.NDArrayCompat.to_ndarray', type_params=None, args=['4676651571074731459'], kwargs=None), '-4945836632896028877': CallNode(function='metadsl_core.conversion.Converter.convert', type_params={'T': DeclaredTypeInstance(type='metadsl_core.integer.Integer', params=None)}, args=['2595876046676253964'], kwargs=None), '-3140681626949281965': PrimitiveNode(type='metadsl.typing_tools.Infer', repr='Infer(fn=<function arange_ at 0x112de3ea0>, wrapper=<function wrapper at 0x1086f0048>)'), '3412487465505697437': CallNode(function='metadsl_core.abstraction.Abstraction.from_fn', type_params=None, args=['-3140681626949281965'], kwargs=None), '-6709660433063659591': CallNode(function='metadsl_core.maybe.Maybe.map', type_params={'T': DeclaredTypeInstance(type='metadsl_core.integer.Integer', params=None)}, args=['-4945836632896028877', '3412487465505697437'], kwargs=None), '-6735945389551241280': CallNode(function='metadsl_core.numpy.NDArrayCompat.from_ndarray', type_params=None, args=['-6709660433063659591'], kwargs=None), '2021871122721860754': CallNode(function='metadsl_core.numpy.NDArrayCompat.__add__', type_params=None, args=['-6735945389551241280', '5101462774986181269'], kwargs=None), '-8722398409810658002': CallNode(function='metadsl_core.conversion.Converter.convert', type_params={'T': DeclaredTypeInstance(type='metadsl_core.numpy.NDArray', params=None)}, args=['2021871122721860754'], kwargs=None), '-73256352866512446': CallNode(function='metadsl_core.maybe.Maybe.__and__', type_params={'T': DeclaredTypeInstance(type='metadsl_core.numpy.NDArray', params=None)}, args=['-8722398409810658002', '5864997477180888506'], kwargs=None), '-4402048225203393404': CallNode(function='metadsl_core.maybe.Maybe.map', type_params={'T': DeclaredTypeInstance(type='metadsl_core.pair.Pair', params={'U': DeclaredTypeInstance(type='metadsl_core.either.Either', params={'U': DeclaredTypeInstance(type='metadsl_core.vec.Vec', params={'T': DeclaredTypeInstance(type='metadsl_core.integer.Integer', params=None)}), 'T': DeclaredTypeInstance(type='metadsl_core.integer.Integer', params=None)}), 'T': DeclaredTypeInstance(type='metadsl_core.numpy.NDArray', params=None)})}, args=['-73256352866512446', '6333628148795243599'], kwargs=None), '-4877433595674003706': CallNode(function='metadsl_core.numpy.NDArrayCompat.from_ndarray', type_params=None, args=['-4402048225203393404'], kwargs=None), '-7666680655537306597': CallNode(function='metadsl_core.numpy.NDArrayCompat.to_ndarray', type_params=None, args=['-4877433595674003706'], kwargs=None), '-5586188481033579152': CallNode(function='metadsl_core.integer.Integer.from_int', type_params=None, args=['2595876046676253964'], kwargs=None), '6495279950387089035': CallNode(function='metadsl_core.maybe.Maybe.just', type_params=None, args=['-5586188481033579152'], kwargs=None), '-6924877072174935538': CallNode(function='metadsl_core.maybe.Maybe.map', type_params={'T': DeclaredTypeInstance(type='metadsl_core.integer.Integer', params=None)}, args=['6495279950387089035', '3412487465505697437'], kwargs=None), '4303660612184882997': CallNode(function='metadsl_core.numpy.NDArrayCompat.from_ndarray', type_params=None, args=['-6924877072174935538'], kwargs=None), '-8403900231011743819': CallNode(function='metadsl_core.numpy.NDArrayCompat.__add__', type_params=None, args=['4303660612184882997', '5101462774986181269'], kwargs=None), '4552644332109981839': CallNode(function='metadsl_core.conversion.Converter.convert', type_params={'T': DeclaredTypeInstance(type='metadsl_core.numpy.NDArray', params=None)}, args=['-8403900231011743819'], kwargs=None), '9103225968573226652': CallNode(function='metadsl_core.maybe.Maybe.__and__', type_params={'T': DeclaredTypeInstance(type='metadsl_core.numpy.NDArray', params=None)}, args=['4552644332109981839', '5864997477180888506'], kwargs=None), '3687638797289073511': CallNode(function='metadsl_core.maybe.Maybe.map', type_params={'T': DeclaredTypeInstance(type='metadsl_core.pair.Pair', params={'U': DeclaredTypeInstance(type='metadsl_core.either.Either', params={'U': DeclaredTypeInstance(type='metadsl_core.vec.Vec', params={'T': DeclaredTypeInstance(type='metadsl_core.integer.Integer', params=None)}), 'T': DeclaredTypeInstance(type='metadsl_core.integer.Integer', params=None)}), 'T': DeclaredTypeInstance(type='metadsl_core.numpy.NDArray', params=None)})}, args=['9103225968573226652', '6333628148795243599'], kwargs=None), '6752512891828708668': CallNode(function='metadsl_core.numpy.NDArrayCompat.from_ndarray', type_params=None, args=['3687638797289073511'], kwargs=None), '-6014676496187584150': CallNode(function='metadsl_core.numpy.NDArrayCompat.to_ndarray', type_params=None, args=['6752512891828708668'], kwargs=None), '-5233189797606936297': CallNode(function='metadsl_core.numpy.NDArrayCompat.__add__', type_params=None, args=['4303660612184882997', '-6735945389551241280'], kwargs=None), '5648585608652857566': CallNode(function='metadsl_core.conversion.Converter.convert', type_params={'T': DeclaredTypeInstance(type='metadsl_core.numpy.NDArray', params=None)}, args=['-5233189797606936297'], kwargs=None), '6923585858624798540': CallNode(function='metadsl_core.maybe.Maybe.__and__', type_params={'T': DeclaredTypeInstance(type='metadsl_core.numpy.NDArray', params=None)}, args=['5648585608652857566', '5864997477180888506'], kwargs=None), '-8788648300197971614': CallNode(function='metadsl_core.maybe.Maybe.map', type_params={'T': DeclaredTypeInstance(type='metadsl_core.pair.Pair', params={'U': DeclaredTypeInstance(type='metadsl_core.either.Either', params={'U': DeclaredTypeInstance(type='metadsl_core.vec.Vec', params={'T': DeclaredTypeInstance(type='metadsl_core.integer.Integer', params=None)}), 'T': DeclaredTypeInstance(type='metadsl_core.integer.Integer', params=None)}), 'T': DeclaredTypeInstance(type='metadsl_core.numpy.NDArray', params=None)})}, args=['6923585858624798540', '6333628148795243599'], kwargs=None), '-8816696818962559237': CallNode(function='metadsl_core.numpy.NDArrayCompat.from_ndarray', type_params=None, args=['-8788648300197971614'], kwargs=None), '-6350145245750207762': CallNode(function='metadsl_core.numpy.NDArrayCompat.to_ndarray', type_params=None, args=['-8816696818962559237'], kwargs=None), '-583008621503558193': CallNode(function='metadsl_core.numpy.NDArrayCompat.__add__', type_params=None, args=['4303660612184882997', '4303660612184882997'], kwargs=None), '-830270546763232795': CallNode(function='metadsl_core.conversion.Converter.convert', type_params={'T': DeclaredTypeInstance(type='metadsl_core.numpy.NDArray', params=None)}, args=['-583008621503558193'], kwargs=None), '-7742281327993875741': CallNode(function='metadsl_core.maybe.Maybe.__and__', type_params={'T': DeclaredTypeInstance(type='metadsl_core.numpy.NDArray', params=None)}, args=['-830270546763232795', '5864997477180888506'], kwargs=None), '8301738674565811743': CallNode(function='metadsl_core.maybe.Maybe.map', type_params={'T': DeclaredTypeInstance(type='metadsl_core.pair.Pair', params={'U': DeclaredTypeInstance(type='metadsl_core.either.Either', params={'U': DeclaredTypeInstance(type='metadsl_core.vec.Vec', params={'T': DeclaredTypeInstance(type='metadsl_core.integer.Integer', params=None)}), 'T': DeclaredTypeInstance(type='metadsl_core.integer.Integer', params=None)}), 'T': DeclaredTypeInstance(type='metadsl_core.numpy.NDArray', params=None)})}, args=['-7742281327993875741', '6333628148795243599'], kwargs=None), '-5946521275128433559': CallNode(function='metadsl_core.numpy.NDArrayCompat.from_ndarray', type_params=None, args=['8301738674565811743'], kwargs=None), '-5054580159859065346': CallNode(function='metadsl_core.numpy.NDArrayCompat.to_ndarray', type_params=None, args=['-5946521275128433559'], kwargs=None), '6616158181666278405': CallNode(function='metadsl_core.conversion.Converter.convert', type_params={'T': DeclaredTypeInstance(type='metadsl_core.integer.Integer', params=None)}, args=['2595876046779093839'], kwargs=None), '7718544559318079044': PrimitiveNode(type='metadsl.typing_tools.BoundInfer', repr='BoundInfer(fn=<function Either.left at 0x108733158>, wrapper=<function wrapper at 0x1086f0048>, owner=metadsl_core.either.Either[metadsl_core.integer.Integer, metadsl_core.vec.Vec[metadsl_core.integer.Integer]], is_classmethod=True)'), '-667452899427283428': CallNode(function='metadsl_core.abstraction.Abstraction.from_fn', type_params=None, args=['7718544559318079044'], kwargs=None), '-2718090716729297616': CallNode(function='metadsl_core.maybe.Maybe.map', type_params={'T': DeclaredTypeInstance(type='metadsl_core.integer.Integer', params=None)}, args=['6616158181666278405', '-667452899427283428'], kwargs=None), '4715182012045175810': CallNode(function='metadsl_core.conversion.Converter.convert', type_params={'T': DeclaredTypeInstance(type='metadsl_core.vec.Vec', params={'T': DeclaredTypeInstance(type='metadsl_core.integer.Integer', params=None)})}, args=['2595876046779093839'], kwargs=None), '7718544560002234844': PrimitiveNode(type='metadsl.typing_tools.BoundInfer', repr='BoundInfer(fn=<function Either.right at 0x108733598>, wrapper=<function wrapper at 0x1086f0048>, owner=metadsl_core.either.Either[metadsl_core.integer.Integer, metadsl_core.vec.Vec[metadsl_core.integer.Integer]], is_classmethod=True)'), '3371257443427732619': CallNode(function='metadsl_core.abstraction.Abstraction.from_fn', type_params=None, args=['7718544560002234844'], kwargs=None), '1432660032811966047': CallNode(function='metadsl_core.maybe.Maybe.map', type_params={'T': DeclaredTypeInstance(type='metadsl_core.vec.Vec', params={'T': DeclaredTypeInstance(type='metadsl_core.integer.Integer', params=None)})}, args=['4715182012045175810', '3371257443427732619'], kwargs=None), '8227755100418735093': CallNode(function='metadsl_core.maybe.Maybe.__or__', type_params={'T': DeclaredTypeInstance(type='metadsl_core.either.Either', params={'U': DeclaredTypeInstance(type='metadsl_core.vec.Vec', params={'T': DeclaredTypeInstance(type='metadsl_core.integer.Integer', params=None)}), 'T': DeclaredTypeInstance(type='metadsl_core.integer.Integer', params=None)})}, args=['-2718090716729297616', '1432660032811966047'], kwargs=None), '2284822294336161471': CallNode(function='metadsl_core.maybe.Maybe.__and__', type_params={'T': DeclaredTypeInstance(type='metadsl_core.numpy.NDArray', params=None)}, args=['-830270546763232795', '8227755100418735093'], kwargs=None), '-2855193641958112959': CallNode(function='metadsl_core.maybe.Maybe.map', type_params={'T': DeclaredTypeInstance(type='metadsl_core.pair.Pair', params={'U': DeclaredTypeInstance(type='metadsl_core.either.Either', params={'U': DeclaredTypeInstance(type='metadsl_core.vec.Vec', params={'T': DeclaredTypeInstance(type='metadsl_core.integer.Integer', params=None)}), 'T': DeclaredTypeInstance(type='metadsl_core.integer.Integer', params=None)}), 'T': DeclaredTypeInstance(type='metadsl_core.numpy.NDArray', params=None)})}, args=['2284822294336161471', '6333628148795243599'], kwargs=None), '5870866124081898364': CallNode(function='metadsl_core.numpy.NDArrayCompat.from_ndarray', type_params=None, args=['-2855193641958112959'], kwargs=None), '-8513433130472601229': CallNode(function='metadsl_core.numpy.NDArrayCompat.to_ndarray', type_params=None, args=['5870866124081898364'], kwargs=None), '-7953821244861570482': CallNode(function='metadsl_core.integer.Integer.from_int', type_params=None, args=['2595876046779093839'], kwargs=None), '7938400747573386744': CallNode(function='metadsl_core.maybe.Maybe.just', type_params=None, args=['-7953821244861570482'], kwargs=None), '-4197592582251657334': CallNode(function='metadsl_core.maybe.Maybe.map', type_params={'T': DeclaredTypeInstance(type='metadsl_core.integer.Integer', params=None)}, args=['7938400747573386744', '-667452899427283428'], kwargs=None), '148717252754593178': CallNode(function='metadsl_core.maybe.Maybe.__or__', type_params={'T': DeclaredTypeInstance(type='metadsl_core.either.Either', params={'U': DeclaredTypeInstance(type='metadsl_core.vec.Vec', params={'T': DeclaredTypeInstance(type='metadsl_core.integer.Integer', params=None)}), 'T': DeclaredTypeInstance(type='metadsl_core.integer.Integer', params=None)})}, args=['-4197592582251657334', '1432660032811966047'], kwargs=None), '6818441909137783089': CallNode(function='metadsl_core.maybe.Maybe.__and__', type_params={'T': DeclaredTypeInstance(type='metadsl_core.numpy.NDArray', params=None)}, args=['-830270546763232795', '148717252754593178'], kwargs=None), '2572077363279902161': CallNode(function='metadsl_core.maybe.Maybe.map', type_params={'T': DeclaredTypeInstance(type='metadsl_core.pair.Pair', params={'U': DeclaredTypeInstance(type='metadsl_core.either.Either', params={'U': DeclaredTypeInstance(type='metadsl_core.vec.Vec', params={'T': DeclaredTypeInstance(type='metadsl_core.integer.Integer', params=None)}), 'T': DeclaredTypeInstance(type='metadsl_core.integer.Integer', params=None)}), 'T': DeclaredTypeInstance(type='metadsl_core.numpy.NDArray', params=None)})}, args=['6818441909137783089', '6333628148795243599'], kwargs=None), '6361731378930986966': CallNode(function='metadsl_core.numpy.NDArrayCompat.from_ndarray', type_params=None, args=['2572077363279902161'], kwargs=None), '2313568276240209238': CallNode(function='metadsl_core.numpy.NDArrayCompat.to_ndarray', type_params=None, args=['6361731378930986966'], kwargs=None), '7718544613288445444': PrimitiveNode(type='metadsl.typing_tools.BoundInfer', repr='BoundInfer(fn=<function Either.left at 0x108733158>, wrapper=<function wrapper at 0x1086f0048>, owner=metadsl_core.either.Either[metadsl_core.integer.Integer, metadsl_core.vec.Vec[metadsl_core.integer.Integer]], is_classmethod=True)'), '5165753514611803108': CallNode(function='metadsl_core.abstraction.Abstraction.from_fn', type_params=None, args=['7718544613288445444'], kwargs=None), '-7444770353763920208': CallNode(function='metadsl_core.maybe.Maybe.map', type_params={'T': DeclaredTypeInstance(type='metadsl_core.integer.Integer', params=None)}, args=['7938400747573386744', '5165753514611803108'], kwargs=None), '7718544478994724044': PrimitiveNode(type='metadsl.typing_tools.BoundInfer', repr='BoundInfer(fn=<function Either.right at 0x108733598>, wrapper=<function wrapper at 0x1086f0048>, owner=metadsl_core.either.Either[metadsl_core.integer.Integer, metadsl_core.vec.Vec[metadsl_core.integer.Integer]], is_classmethod=True)'), '-4313048907047300040': CallNode(function='metadsl_core.abstraction.Abstraction.from_fn', type_params=None, args=['7718544478994724044'], kwargs=None), '6819396428458609847': CallNode(function='metadsl_core.maybe.Maybe.map', type_params={'T': DeclaredTypeInstance(type='metadsl_core.vec.Vec', params={'T': DeclaredTypeInstance(type='metadsl_core.integer.Integer', params=None)})}, args=['4715182012045175810', '-4313048907047300040'], kwargs=None), '6262230075306626004': CallNode(function='metadsl_core.maybe.Maybe.__or__', type_params={'T': DeclaredTypeInstance(type='metadsl_core.either.Either', params={'U': DeclaredTypeInstance(type='metadsl_core.vec.Vec', params={'T': DeclaredTypeInstance(type='metadsl_core.integer.Integer', params=None)}), 'T': DeclaredTypeInstance(type='metadsl_core.integer.Integer', params=None)})}, args=['-7444770353763920208', '6819396428458609847'], kwargs=None), '4410325718403442971': CallNode(function='metadsl_core.maybe.Maybe.__and__', type_params={'T': DeclaredTypeInstance(type='metadsl_core.numpy.NDArray', params=None)}, args=['-830270546763232795', '6262230075306626004'], kwargs=None), '8068863999341934174': CallNode(function='metadsl_core.maybe.Maybe.nothing', type_params={'T': DeclaredTypeInstance(type='metadsl_core.numpy.NDArray', params=None)}, args=None, kwargs=None), '7718544479661559444': PrimitiveNode(type='metadsl.typing_tools.BoundInfer', repr='BoundInfer(fn=<function Maybe.just at 0x108714d08>, wrapper=<function wrapper at 0x1086f0048>, owner=metadsl_core.maybe.Maybe[metadsl_core.numpy.NDArray], is_classmethod=True)'), '-8416373700599612947': CallNode(function='metadsl_core.abstraction.Abstraction.from_fn', type_params=None, args=['7718544479661559444'], kwargs=None), '262720035100645087': PrimitiveNode(type='function', repr='<function NDArrayCompat.__getitem__.<locals>.<lambda> at 0x113211bf8>'), '-1597572784870236758': CallNode(function='metadsl_core.abstraction.Abstraction.from_fn', type_params={'U': DeclaredTypeInstance(type='metadsl_core.numpy.NDArray', params=None), 'T': DeclaredTypeInstance(type='metadsl_core.pair.Pair', params={'U': DeclaredTypeInstance(type='metadsl_core.either.Either', params={'U': DeclaredTypeInstance(type='metadsl_core.vec.Vec', params={'T': DeclaredTypeInstance(type='metadsl_core.integer.Integer', params=None)}), 'T': DeclaredTypeInstance(type='metadsl_core.integer.Integer', params=None)}), 'T': DeclaredTypeInstance(type='metadsl_core.numpy.NDArray', params=None)})}, args=['262720035100645087'], kwargs=None), '4851812645542628349': CallNode(function='metadsl_core.abstraction.Abstraction.__add__', type_params={'U': DeclaredTypeInstance(type='metadsl_core.maybe.Maybe', params={'T': DeclaredTypeInstance(type='metadsl_core.numpy.NDArray', params=None)}), 'T': DeclaredTypeInstance(type='metadsl_core.numpy.NDArray', params=None)}, args=['-8416373700599612947', '-1597572784870236758'], kwargs=None), '-8050021772480522638': CallNode(function='metadsl_core.maybe.Maybe.match', type_params=None, args=['4410325718403442971', '8068863999341934174', '4851812645542628349'], kwargs=None), '-9008116578396108007': CallNode(function='metadsl_core.numpy.NDArrayCompat.from_ndarray', type_params=None, args=['-8050021772480522638'], kwargs=None), '-6090550354976932520': CallNode(function='metadsl_core.numpy.NDArrayCompat.to_ndarray', type_params=None, args=['-9008116578396108007'], kwargs=None), '7718544684111561044': PrimitiveNode(type='metadsl.typing_tools.BoundInfer', repr='BoundInfer(fn=<function Maybe.just at 0x108714d08>, wrapper=<function wrapper at 0x1086f0048>, owner=metadsl_core.maybe.Maybe[metadsl_core.numpy.NDArray], is_classmethod=True)'), '-4016052333070930884': CallNode(function='metadsl_core.abstraction.Abstraction.from_fn', type_params=None, args=['7718544684111561044'], kwargs=None), '3571419810305900492': CallNode(function='metadsl_core.abstraction.Abstraction.__add__', type_params={'U': DeclaredTypeInstance(type='metadsl_core.maybe.Maybe', params={'T': DeclaredTypeInstance(type='metadsl_core.numpy.NDArray', params=None)}), 'T': DeclaredTypeInstance(type='metadsl_core.numpy.NDArray', params=None)}, args=['-4016052333070930884', '3412487465505697437'], kwargs=None), '-6791715883267613288': CallNode(function='metadsl_core.maybe.Maybe.match', type_params={'T': DeclaredTypeInstance(type='metadsl_core.integer.Integer', params=None)}, args=['6495279950387089035', '8068863999341934174', '3571419810305900492'], kwargs=None), '2384170894126756314': CallNode(function='metadsl_core.numpy.NDArrayCompat.from_ndarray', type_params=None, args=['-6791715883267613288'], kwargs=None), '-1501680988242457463': CallNode(function='metadsl_core.numpy.NDArrayCompat.__add__', type_params=None, args=['2384170894126756314', '4303660612184882997'], kwargs=None), '1204135681029849166': CallNode(function='metadsl_core.conversion.Converter.convert', type_params={'T': DeclaredTypeInstance(type='metadsl_core.numpy.NDArray', params=None)}, args=['-1501680988242457463'], kwargs=None), '7166430247666708930': CallNode(function='metadsl_core.maybe.Maybe.__and__', type_params={'T': DeclaredTypeInstance(type='metadsl_core.numpy.NDArray', params=None)}, args=['1204135681029849166', '6262230075306626004'], kwargs=None), '-7072015656725536411': CallNode(function='metadsl_core.maybe.Maybe.match', type_params=None, args=['7166430247666708930', '8068863999341934174', '4851812645542628349'], kwargs=None), '-1829747029505276846': CallNode(function='metadsl_core.numpy.NDArrayCompat.from_ndarray', type_params=None, args=['-7072015656725536411'], kwargs=None), '8702230173243775619': CallNode(function='metadsl_core.numpy.NDArrayCompat.to_ndarray', type_params=None, args=['-1829747029505276846'], kwargs=None), '7718544450563287444': PrimitiveNode(type='metadsl.typing_tools.BoundInfer', repr='BoundInfer(fn=<function Maybe.just at 0x108714d08>, wrapper=<function wrapper at 0x1086f0048>, owner=metadsl_core.maybe.Maybe[metadsl_core.numpy.NDArray], is_classmethod=True)'), '-6750300562864183495': CallNode(function='metadsl_core.abstraction.Abstraction.from_fn', type_params=None, args=['7718544450563287444'], kwargs=None), '6015512325675260613': CallNode(function='metadsl_core.abstraction.Abstraction.__add__', type_params={'U': DeclaredTypeInstance(type='metadsl_core.maybe.Maybe', params={'T': DeclaredTypeInstance(type='metadsl_core.numpy.NDArray', params=None)}), 'T': DeclaredTypeInstance(type='metadsl_core.numpy.NDArray', params=None)}, args=['-6750300562864183495', '3412487465505697437'], kwargs=None), '6005180802017489710': CallNode(function='metadsl_core.abstraction.Abstraction.__call__', type_params={'U': DeclaredTypeInstance(type='metadsl_core.maybe.Maybe', params={'T': DeclaredTypeInstance(type='metadsl_core.numpy.NDArray', params=None)}), 'T': DeclaredTypeInstance(type='metadsl_core.integer.Integer', params=None)}, args=['6015512325675260613', '-5586188481033579152'], kwargs=None), '-8515968988704032132': CallNode(function='metadsl_core.numpy.NDArrayCompat.from_ndarray', type_params=None, args=['6005180802017489710'], kwargs=None), '1617082246862974080': CallNode(function='metadsl_core.numpy.NDArrayCompat.__add__', type_params=None, args=['-8515968988704032132', '4303660612184882997'], kwargs=None), '4973764804654446820': CallNode(function='metadsl_core.conversion.Converter.convert', type_params={'T': DeclaredTypeInstance(type='metadsl_core.numpy.NDArray', params=None)}, args=['1617082246862974080'], kwargs=None), '-6477224147894206534': CallNode(function='metadsl_core.maybe.Maybe.__and__', type_params={'T': DeclaredTypeInstance(type='metadsl_core.numpy.NDArray', params=None)}, args=['4973764804654446820', '6262230075306626004'], kwargs=None), '3826861213111672500': CallNode(function='metadsl_core.maybe.Maybe.match', type_params=None, args=['-6477224147894206534', '8068863999341934174', '4851812645542628349'], kwargs=None), '7162749638175375854': CallNode(function='metadsl_core.numpy.NDArrayCompat.from_ndarray', type_params=None, args=['3826861213111672500'], kwargs=None), '-112819658371690377': CallNode(function='metadsl_core.numpy.NDArrayCompat.to_ndarray', type_params=None, args=['7162749638175375854'], kwargs=None), '8827937457402625402': PrimitiveNode(type='metadsl_core.abstraction.Variable', repr='Variable(4616181744)'), '-8904427392122946666': CallNode(function='metadsl_core.abstraction.Abstraction.create_variable', type_params={'U': DeclaredTypeInstance(type='metadsl_core.maybe.Maybe', params={'T': DeclaredTypeInstance(type='metadsl_core.numpy.NDArray', params=None)}), 'T': DeclaredTypeInstance(type='metadsl_core.numpy.NDArray', params=None)}, args=['8827937457402625402'], kwargs=None), '7139963045110523021': CallNode(function='metadsl_core.maybe.Maybe.just', type_params={'T': DeclaredTypeInstance(type='metadsl_core.numpy.NDArray', params=None)}, args=['-8904427392122946666'], kwargs=None), '-1194107537739900246': CallNode(function='metadsl_core.abstraction.Abstraction.create', type_params={'U': DeclaredTypeInstance(type='metadsl_core.maybe.Maybe', params={'T': DeclaredTypeInstance(type='metadsl_core.numpy.NDArray', params=None)}), 'T': DeclaredTypeInstance(type='metadsl_core.numpy.NDArray', params=None)}, args=['-8904427392122946666', '7139963045110523021'], kwargs=None), '-1975351561145408752': CallNode(function='metadsl_core.abstraction.Abstraction.__add__', type_params={'U': DeclaredTypeInstance(type='metadsl_core.maybe.Maybe', params={'T': DeclaredTypeInstance(type='metadsl_core.numpy.NDArray', params=None)}), 'T': DeclaredTypeInstance(type='metadsl_core.numpy.NDArray', params=None)}, args=['-1194107537739900246', '3412487465505697437'], kwargs=None), '1662955684881240771': CallNode(function='metadsl_core.abstraction.Abstraction.__call__', type_params={'U': DeclaredTypeInstance(type='metadsl_core.maybe.Maybe', params={'T': DeclaredTypeInstance(type='metadsl_core.numpy.NDArray', params=None)}), 'T': DeclaredTypeInstance(type='metadsl_core.integer.Integer', params=None)}, args=['-1975351561145408752', '-5586188481033579152'], kwargs=None), '7953279922132865621': CallNode(function='metadsl_core.numpy.NDArrayCompat.from_ndarray', type_params=None, args=['1662955684881240771'], kwargs=None), '3389886460835642095': CallNode(function='metadsl_core.numpy.NDArrayCompat.__add__', type_params=None, args=['7953279922132865621', '4303660612184882997'], kwargs=None), '-262277831547238305': CallNode(function='metadsl_core.conversion.Converter.convert', type_params={'T': DeclaredTypeInstance(type='metadsl_core.numpy.NDArray', params=None)}, args=['3389886460835642095'], kwargs=None), '2083144247293990492': CallNode(function='metadsl_core.maybe.Maybe.__and__', type_params={'T': DeclaredTypeInstance(type='metadsl_core.numpy.NDArray', params=None)}, args=['-262277831547238305', '6262230075306626004'], kwargs=None), '-5535233377345873753': CallNode(function='metadsl_core.maybe.Maybe.match', type_params=None, args=['2083144247293990492', '8068863999341934174', '4851812645542628349'], kwargs=None), '-8770816239807767860': CallNode(function='metadsl_core.numpy.NDArrayCompat.from_ndarray', type_params=None, args=['-5535233377345873753'], kwargs=None), '1341922260571161078': CallNode(function='metadsl_core.numpy.NDArrayCompat.to_ndarray', type_params=None, args=['-8770816239807767860'], kwargs=None), '8827937447916458827': PrimitiveNode(type='metadsl_core.abstraction.Variable', repr='Variable(4616335936)'), '-2464225006306172744': CallNode(function='metadsl_core.abstraction.Abstraction.create_variable', type_params={'U': DeclaredTypeInstance(type='metadsl_core.numpy.NDArray', params=None), 'T': DeclaredTypeInstance(type='metadsl_core.integer.Integer', params=None)}, args=['8827937447916458827'], kwargs=None), '-3597756152225037259': CallNode(function='metadsl_core.numpy.arange_', type_params=None, args=['-2464225006306172744'], kwargs=None), '5379458579305837977': CallNode(function='metadsl_core.abstraction.Abstraction.create', type_params={'U': DeclaredTypeInstance(type='metadsl_core.numpy.NDArray', params=None), 'T': DeclaredTypeInstance(type='metadsl_core.integer.Integer', params=None)}, args=['-2464225006306172744', '-3597756152225037259'], kwargs=None), '-3788815265400998550': CallNode(function='metadsl_core.abstraction.Abstraction.__add__', type_params={'U': DeclaredTypeInstance(type='metadsl_core.maybe.Maybe', params={'T': DeclaredTypeInstance(type='metadsl_core.numpy.NDArray', params=None)}), 'T': DeclaredTypeInstance(type='metadsl_core.numpy.NDArray', params=None)}, args=['-1194107537739900246', '5379458579305837977'], kwargs=None), '1850090247990838258': CallNode(function='metadsl_core.abstraction.Abstraction.__call__', type_params={'U': DeclaredTypeInstance(type='metadsl_core.maybe.Maybe', params={'T': DeclaredTypeInstance(type='metadsl_core.numpy.NDArray', params=None)}), 'T': DeclaredTypeInstance(type='metadsl_core.integer.Integer', params=None)}, args=['-3788815265400998550', '-5586188481033579152'], kwargs=None), '2662533159588813476': CallNode(function='metadsl_core.numpy.NDArrayCompat.from_ndarray', type_params=None, args=['1850090247990838258'], kwargs=None), '7431964679459477367': CallNode(function='metadsl_core.numpy.NDArrayCompat.__add__', type_params=None, args=['2662533159588813476', '4303660612184882997'], kwargs=None), '4581549996842743725': CallNode(function='metadsl_core.conversion.Converter.convert', type_params={'T': DeclaredTypeInstance(type='metadsl_core.numpy.NDArray', params=None)}, args=['7431964679459477367'], kwargs=None), '3756043513253198906': CallNode(function='metadsl_core.maybe.Maybe.__and__', type_params={'T': DeclaredTypeInstance(type='metadsl_core.numpy.NDArray', params=None)}, args=['4581549996842743725', '6262230075306626004'], kwargs=None), '7674333131639738595': CallNode(function='metadsl_core.maybe.Maybe.match', type_params=None, args=['3756043513253198906', '8068863999341934174', '4851812645542628349'], kwargs=None), '1583349128177546448': CallNode(function='metadsl_core.numpy.NDArrayCompat.from_ndarray', type_params=None, args=['7674333131639738595'], kwargs=None), '-5385435595446898637': CallNode(function='metadsl_core.numpy.NDArrayCompat.to_ndarray', type_params=None, args=['1583349128177546448'], kwargs=None), '-3096225535317929039': CallNode(function='metadsl_core.maybe.Maybe.just', type_params={'T': DeclaredTypeInstance(type='metadsl_core.numpy.NDArray', params=None)}, args=['-3597756152225037259'], kwargs=None), '4361607748476438419': CallNode(function='metadsl_core.abstraction.Abstraction.create', type_params=None, args=['-2464225006306172744', '-3096225535317929039'], kwargs=None), '3725924941061137586': CallNode(function='metadsl_core.abstraction.Abstraction.__call__', type_params={'U': DeclaredTypeInstance(type='metadsl_core.maybe.Maybe', params={'T': DeclaredTypeInstance(type='metadsl_core.numpy.NDArray', params=None)}), 'T': DeclaredTypeInstance(type='metadsl_core.integer.Integer', params=None)}, args=['4361607748476438419', '-5586188481033579152'], kwargs=None), '-2010962969679169342': CallNode(function='metadsl_core.numpy.NDArrayCompat.from_ndarray', type_params=None, args=['3725924941061137586'], kwargs=None), '7627230755124255958': CallNode(function='metadsl_core.numpy.NDArrayCompat.__add__', type_params=None, args=['-2010962969679169342', '4303660612184882997'], kwargs=None), '507408070446805110': CallNode(function='metadsl_core.conversion.Converter.convert', type_params={'T': DeclaredTypeInstance(type='metadsl_core.numpy.NDArray', params=None)}, args=['7627230755124255958'], kwargs=None), '-3167045803850370341': CallNode(function='metadsl_core.maybe.Maybe.__and__', type_params={'T': DeclaredTypeInstance(type='metadsl_core.numpy.NDArray', params=None)}, args=['507408070446805110', '6262230075306626004'], kwargs=None), '771926839075201741': CallNode(function='metadsl_core.maybe.Maybe.match', type_params=None, args=['-3167045803850370341', '8068863999341934174', '4851812645542628349'], kwargs=None), '2768644538170186802': CallNode(function='metadsl_core.numpy.NDArrayCompat.from_ndarray', type_params=None, args=['771926839075201741'], kwargs=None), '5960017596721788093': CallNode(function='metadsl_core.numpy.NDArrayCompat.to_ndarray', type_params=None, args=['2768644538170186802'], kwargs=None), '4031171227708894026': CallNode(function='metadsl_core.numpy.arange_', type_params=None, args=['-5586188481033579152'], kwargs=None), '2902582609885275473': CallNode(function='metadsl_core.maybe.Maybe.just', type_params={'T': DeclaredTypeInstance(type='metadsl_core.numpy.NDArray', params=None)}, args=['4031171227708894026'], kwargs=None), '-7987333923993951682': CallNode(function='metadsl_core.numpy.NDArrayCompat.from_ndarray', type_params=None, args=['2902582609885275473'], kwargs=None), '-1868880396084484131': CallNode(function='metadsl_core.numpy.NDArrayCompat.__add__', type_params=None, args=['-7987333923993951682', '4303660612184882997'], kwargs=None), '-8308382512643611959': CallNode(function='metadsl_core.conversion.Converter.convert', type_params={'T': DeclaredTypeInstance(type='metadsl_core.numpy.NDArray', params=None)}, args=['-1868880396084484131'], kwargs=None), '7393886181157362337': CallNode(function='metadsl_core.maybe.Maybe.__and__', type_params={'T': DeclaredTypeInstance(type='metadsl_core.numpy.NDArray', params=None)}, args=['-8308382512643611959', '6262230075306626004'], kwargs=None), '8340495363217960709': CallNode(function='metadsl_core.maybe.Maybe.match', type_params=None, args=['7393886181157362337', '8068863999341934174', '4851812645542628349'], kwargs=None), '-6002442574073877530': CallNode(function='metadsl_core.numpy.NDArrayCompat.from_ndarray', type_params=None, args=['8340495363217960709'], kwargs=None), '-2670779258779313667': CallNode(function='metadsl_core.numpy.NDArrayCompat.to_ndarray', type_params=None, args=['-6002442574073877530'], kwargs=None), '7718545440519409644': PrimitiveNode(type='metadsl.typing_tools.BoundInfer', repr='BoundInfer(fn=<function Maybe.just at 0x108714d08>, wrapper=<function wrapper at 0x1086f0048>, owner=metadsl_core.maybe.Maybe[metadsl_core.numpy.NDArray], is_classmethod=True)'), '-7351982692734333951': CallNode(function='metadsl_core.abstraction.Abstraction.from_fn', type_params=None, args=['7718545440519409644'], kwargs=None), '2389220954881158909': CallNode(function='metadsl_core.abstraction.Abstraction.__add__', type_params={'U': DeclaredTypeInstance(type='metadsl_core.maybe.Maybe', params={'T': DeclaredTypeInstance(type='metadsl_core.numpy.NDArray', params=None)}), 'T': DeclaredTypeInstance(type='metadsl_core.numpy.NDArray', params=None)}, args=['-7351982692734333951', '3412487465505697437'], kwargs=None), '3608513570174760438': CallNode(function='metadsl_core.maybe.Maybe.match', type_params={'T': DeclaredTypeInstance(type='metadsl_core.integer.Integer', params=None)}, args=['6495279950387089035', '8068863999341934174', '2389220954881158909'], kwargs=None), '-372701548317454573': CallNode(function='metadsl_core.numpy.NDArrayCompat.from_ndarray', type_params=None, args=['3608513570174760438'], kwargs=None), '-4984424746054151222': CallNode(function='metadsl_core.numpy.NDArrayCompat.__add__', type_params=None, args=['-7987333923993951682', '-372701548317454573'], kwargs=None), '9165539148569013387': CallNode(function='metadsl_core.conversion.Converter.convert', type_params={'T': DeclaredTypeInstance(type='metadsl_core.numpy.NDArray', params=None)}, args=['-4984424746054151222'], kwargs=None), '-744482825347110841': CallNode(function='metadsl_core.maybe.Maybe.__and__', type_params={'T': DeclaredTypeInstance(type='metadsl_core.numpy.NDArray', params=None)}, args=['9165539148569013387', '6262230075306626004'], kwargs=None), '6965494699524650180': CallNode(function='metadsl_core.maybe.Maybe.match', type_params=None, args=['-744482825347110841', '8068863999341934174', '4851812645542628349'], kwargs=None), '6781755440912753152': CallNode(function='metadsl_core.numpy.NDArrayCompat.from_ndarray', type_params=None, args=['6965494699524650180'], kwargs=None), '-1865665164701305046': CallNode(function='metadsl_core.numpy.NDArrayCompat.to_ndarray', type_params=None, args=['6781755440912753152'], kwargs=None), '7718545399851110444': PrimitiveNode(type='metadsl.typing_tools.BoundInfer', repr='BoundInfer(fn=<function Maybe.just at 0x108714d08>, wrapper=<function wrapper at 0x1086f0048>, owner=metadsl_core.maybe.Maybe[metadsl_core.numpy.NDArray], is_classmethod=True)'), '-6651683600874158921': CallNode(function='metadsl_core.abstraction.Abstraction.from_fn', type_params=None, args=['7718545399851110444'], kwargs=None), '-8815731044860586066': CallNode(function='metadsl_core.abstraction.Abstraction.__add__', type_params={'U': DeclaredTypeInstance(type='metadsl_core.maybe.Maybe', params={'T': DeclaredTypeInstance(type='metadsl_core.numpy.NDArray', params=None)}), 'T': DeclaredTypeInstance(type='metadsl_core.numpy.NDArray', params=None)}, args=['-6651683600874158921', '3412487465505697437'], kwargs=None), '-8855337245786759151': CallNode(function='metadsl_core.abstraction.Abstraction.__call__', type_params={'U': DeclaredTypeInstance(type='metadsl_core.maybe.Maybe', params={'T': DeclaredTypeInstance(type='metadsl_core.numpy.NDArray', params=None)}), 'T': DeclaredTypeInstance(type='metadsl_core.integer.Integer', params=None)}, args=['-8815731044860586066', '-5586188481033579152'], kwargs=None), '3446125376364578546': CallNode(function='metadsl_core.numpy.NDArrayCompat.from_ndarray', type_params=None, args=['-8855337245786759151'], kwargs=None), '-6505021593989585473': CallNode(function='metadsl_core.numpy.NDArrayCompat.__add__', type_params=None, args=['-7987333923993951682', '3446125376364578546'], kwargs=None), '3990154623432877492': CallNode(function='metadsl_core.conversion.Converter.convert', type_params={'T': DeclaredTypeInstance(type='metadsl_core.numpy.NDArray', params=None)}, args=['-6505021593989585473'], kwargs=None), '2607525875253021857': CallNode(function='metadsl_core.maybe.Maybe.__and__', type_params={'T': DeclaredTypeInstance(type='metadsl_core.numpy.NDArray', params=None)}, args=['3990154623432877492', '6262230075306626004'], kwargs=None), '3131308364088559969': CallNode(function='metadsl_core.maybe.Maybe.match', type_params=None, args=['2607525875253021857', '8068863999341934174', '4851812645542628349'], kwargs=None), '-2634513499031893160': CallNode(function='metadsl_core.numpy.NDArrayCompat.from_ndarray', type_params=None, args=['3131308364088559969'], kwargs=None), '4956379186460531365': CallNode(function='metadsl_core.numpy.NDArrayCompat.to_ndarray', type_params=None, args=['-2634513499031893160'], kwargs=None), '8827937476981172552': PrimitiveNode(type='metadsl_core.abstraction.Variable', repr='Variable(4616432720)'), '-81300809231386227': CallNode(function='metadsl_core.abstraction.Abstraction.create_variable', type_params={'U': DeclaredTypeInstance(type='metadsl_core.maybe.Maybe', params={'T': DeclaredTypeInstance(type='metadsl_core.numpy.NDArray', params=None)}), 'T': DeclaredTypeInstance(type='metadsl_core.numpy.NDArray', params=None)}, args=['8827937476981172552'], kwargs=None), '3311669872602078531': CallNode(function='metadsl_core.maybe.Maybe.just', type_params={'T': DeclaredTypeInstance(type='metadsl_core.numpy.NDArray', params=None)}, args=['-81300809231386227'], kwargs=None), '-216673006642294697': CallNode(function='metadsl_core.abstraction.Abstraction.create', type_params={'U': DeclaredTypeInstance(type='metadsl_core.maybe.Maybe', params={'T': DeclaredTypeInstance(type='metadsl_core.numpy.NDArray', params=None)}), 'T': DeclaredTypeInstance(type='metadsl_core.numpy.NDArray', params=None)}, args=['-81300809231386227', '3311669872602078531'], kwargs=None), '-395504964967825737': CallNode(function='metadsl_core.abstraction.Abstraction.__add__', type_params={'U': DeclaredTypeInstance(type='metadsl_core.maybe.Maybe', params={'T': DeclaredTypeInstance(type='metadsl_core.numpy.NDArray', params=None)}), 'T': DeclaredTypeInstance(type='metadsl_core.numpy.NDArray', params=None)}, args=['-216673006642294697', '3412487465505697437'], kwargs=None), '5703246168828917575': CallNode(function='metadsl_core.abstraction.Abstraction.__call__', type_params={'U': DeclaredTypeInstance(type='metadsl_core.maybe.Maybe', params={'T': DeclaredTypeInstance(type='metadsl_core.numpy.NDArray', params=None)}), 'T': DeclaredTypeInstance(type='metadsl_core.integer.Integer', params=None)}, args=['-395504964967825737', '-5586188481033579152'], kwargs=None), '3050724552937546308': CallNode(function='metadsl_core.numpy.NDArrayCompat.from_ndarray', type_params=None, args=['5703246168828917575'], kwargs=None), '-5614236957826665951': CallNode(function='metadsl_core.numpy.NDArrayCompat.__add__', type_params=None, args=['-7987333923993951682', '3050724552937546308'], kwargs=None), '1793059706288865294': CallNode(function='metadsl_core.conversion.Converter.convert', type_params={'T': DeclaredTypeInstance(type='metadsl_core.numpy.NDArray', params=None)}, args=['-5614236957826665951'], kwargs=None), '2345177519773394833': CallNode(function='metadsl_core.maybe.Maybe.__and__', type_params={'T': DeclaredTypeInstance(type='metadsl_core.numpy.NDArray', params=None)}, args=['1793059706288865294', '6262230075306626004'], kwargs=None), '6145561044372091523': CallNode(function='metadsl_core.maybe.Maybe.match', type_params=None, args=['2345177519773394833', '8068863999341934174', '4851812645542628349'], kwargs=None), '5276179573125255989': CallNode(function='metadsl_core.numpy.NDArrayCompat.from_ndarray', type_params=None, args=['6145561044372091523'], kwargs=None), '-1963970534035934393': CallNode(function='metadsl_core.numpy.NDArrayCompat.to_ndarray', type_params=None, args=['5276179573125255989'], kwargs=None), '8827937473058101952': PrimitiveNode(type='metadsl_core.abstraction.Variable', repr='Variable(4616474576)'), '-7432882207666982055': CallNode(function='metadsl_core.abstraction.Abstraction.create_variable', type_params={'U': DeclaredTypeInstance(type='metadsl_core.numpy.NDArray', params=None), 'T': DeclaredTypeInstance(type='metadsl_core.integer.Integer', params=None)}, args=['8827937473058101952'], kwargs=None), '5022835162792355128': CallNode(function='metadsl_core.numpy.arange_', type_params=None, args=['-7432882207666982055'], kwargs=None), '-2680453223507947069': CallNode(function='metadsl_core.abstraction.Abstraction.create', type_params={'U': DeclaredTypeInstance(type='metadsl_core.numpy.NDArray', params=None), 'T': DeclaredTypeInstance(type='metadsl_core.integer.Integer', params=None)}, args=['-7432882207666982055', '5022835162792355128'], kwargs=None), '8492091305993508869': CallNode(function='metadsl_core.abstraction.Abstraction.__add__', type_params={'U': DeclaredTypeInstance(type='metadsl_core.maybe.Maybe', params={'T': DeclaredTypeInstance(type='metadsl_core.numpy.NDArray', params=None)}), 'T': DeclaredTypeInstance(type='metadsl_core.numpy.NDArray', params=None)}, args=['-216673006642294697', '-2680453223507947069'], kwargs=None), '-374414884460050480': CallNode(function='metadsl_core.abstraction.Abstraction.__call__', type_params={'U': DeclaredTypeInstance(type='metadsl_core.maybe.Maybe', params={'T': DeclaredTypeInstance(type='metadsl_core.numpy.NDArray', params=None)}), 'T': DeclaredTypeInstance(type='metadsl_core.integer.Integer', params=None)}, args=['8492091305993508869', '-5586188481033579152'], kwargs=None), '5009494716842376693': CallNode(function='metadsl_core.numpy.NDArrayCompat.from_ndarray', type_params=None, args=['-374414884460050480'], kwargs=None), '-4338395285592754243': CallNode(function='metadsl_core.numpy.NDArrayCompat.__add__', type_params=None, args=['-7987333923993951682', '5009494716842376693'], kwargs=None), '6684147172614818261': CallNode(function='metadsl_core.conversion.Converter.convert', type_params={'T': DeclaredTypeInstance(type='metadsl_core.numpy.NDArray', params=None)}, args=['-4338395285592754243'], kwargs=None), '7797316072527765022': CallNode(function='metadsl_core.maybe.Maybe.__and__', type_params={'T': DeclaredTypeInstance(type='metadsl_core.numpy.NDArray', params=None)}, args=['6684147172614818261', '6262230075306626004'], kwargs=None), '-1137683865661979021': CallNode(function='metadsl_core.maybe.Maybe.match', type_params=None, args=['7797316072527765022', '8068863999341934174', '4851812645542628349'], kwargs=None), '-922652500683932804': CallNode(function='metadsl_core.numpy.NDArrayCompat.from_ndarray', type_params=None, args=['-1137683865661979021'], kwargs=None), '360316587663678693': CallNode(function='metadsl_core.numpy.NDArrayCompat.to_ndarray', type_params=None, args=['-922652500683932804'], kwargs=None), '-341748044515153586': CallNode(function='metadsl_core.maybe.Maybe.just', type_params={'T': DeclaredTypeInstance(type='metadsl_core.numpy.NDArray', params=None)}, args=['5022835162792355128'], kwargs=None), '2734182803792467636': CallNode(function='metadsl_core.abstraction.Abstraction.create', type_params=None, args=['-7432882207666982055', '-341748044515153586'], kwargs=None), '-2436455881183708393': CallNode(function='metadsl_core.abstraction.Abstraction.__call__', type_params={'U': DeclaredTypeInstance(type='metadsl_core.maybe.Maybe', params={'T': DeclaredTypeInstance(type='metadsl_core.numpy.NDArray', params=None)}), 'T': DeclaredTypeInstance(type='metadsl_core.integer.Integer', params=None)}, args=['2734182803792467636', '-5586188481033579152'], kwargs=None), '490989825388384472': CallNode(function='metadsl_core.numpy.NDArrayCompat.from_ndarray', type_params=None, args=['-2436455881183708393'], kwargs=None), '3819766022058341218': CallNode(function='metadsl_core.numpy.NDArrayCompat.__add__', type_params=None, args=['-7987333923993951682', '490989825388384472'], kwargs=None), '3565169242079127092': CallNode(function='metadsl_core.conversion.Converter.convert', type_params={'T': DeclaredTypeInstance(type='metadsl_core.numpy.NDArray', params=None)}, args=['3819766022058341218'], kwargs=None), '-3239951305813847411': CallNode(function='metadsl_core.maybe.Maybe.__and__', type_params={'T': DeclaredTypeInstance(type='metadsl_core.numpy.NDArray', params=None)}, args=['3565169242079127092', '6262230075306626004'], kwargs=None), '1842142317021604620': CallNode(function='metadsl_core.maybe.Maybe.match', type_params=None, args=['-3239951305813847411', '8068863999341934174', '4851812645542628349'], kwargs=None), '-5566432600042351302': CallNode(function='metadsl_core.numpy.NDArrayCompat.from_ndarray', type_params=None, args=['1842142317021604620'], kwargs=None), '-9001500102380522238': CallNode(function='metadsl_core.numpy.NDArrayCompat.to_ndarray', type_params=None, args=['-5566432600042351302'], kwargs=None), '8578393878881786466': CallNode(function='metadsl_core.numpy.NDArrayCompat.__add__', type_params=None, args=['-7987333923993951682', '-7987333923993951682'], kwargs=None), '1174546965924099158': CallNode(function='metadsl_core.conversion.Converter.convert', type_params={'T': DeclaredTypeInstance(type='metadsl_core.numpy.NDArray', params=None)}, args=['8578393878881786466'], kwargs=None), '9150641681639688532': CallNode(function='metadsl_core.maybe.Maybe.__and__', type_params={'T': DeclaredTypeInstance(type='metadsl_core.numpy.NDArray', params=None)}, args=['1174546965924099158', '6262230075306626004'], kwargs=None), '726283307851896416': CallNode(function='metadsl_core.maybe.Maybe.match', type_params=None, args=['9150641681639688532', '8068863999341934174', '4851812645542628349'], kwargs=None), '-982300107011601132': CallNode(function='metadsl_core.numpy.NDArrayCompat.from_ndarray', type_params=None, args=['726283307851896416'], kwargs=None), '894366622340269604': CallNode(function='metadsl_core.numpy.NDArrayCompat.to_ndarray', type_params=None, args=['-982300107011601132'], kwargs=None), '-6234235783729571615': CallNode(function='metadsl_core.maybe.Maybe.nothing', type_params={'T': DeclaredTypeInstance(type='metadsl_core.either.Either', params={'U': DeclaredTypeInstance(type='metadsl_core.vec.Vec', params={'T': DeclaredTypeInstance(type='metadsl_core.integer.Integer', params=None)}), 'T': DeclaredTypeInstance(type='metadsl_core.integer.Integer', params=None)})}, args=None, kwargs=None), '7718545255459595844': PrimitiveNode(type='metadsl.typing_tools.BoundInfer', repr='BoundInfer(fn=<function Maybe.just at 0x108714d08>, wrapper=<function wrapper at 0x1086f0048>, owner=metadsl_core.maybe.Maybe[metadsl_core.either.Either[metadsl_core.integer.Integer, metadsl_core.vec.Vec[metadsl_core.integer.Integer]]], is_classmethod=True)'), '185002487467653827': CallNode(function='metadsl_core.abstraction.Abstraction.from_fn', type_params=None, args=['7718545255459595844'], kwargs=None), '7718545257018431844': PrimitiveNode(type='metadsl.typing_tools.BoundInfer', repr='BoundInfer(fn=<function Either.left at 0x108733158>, wrapper=<function wrapper at 0x1086f0048>, owner=metadsl_core.either.Either[metadsl_core.integer.Integer, metadsl_core.vec.Vec[metadsl_core.integer.Integer]], is_classmethod=True)'), '8689280473655304380': CallNode(function='metadsl_core.abstraction.Abstraction.from_fn', type_params=None, args=['7718545257018431844'], kwargs=None), '-8948798062595720142': CallNode(function='metadsl_core.abstraction.Abstraction.__add__', type_params={'U': DeclaredTypeInstance(type='metadsl_core.maybe.Maybe', params={'T': DeclaredTypeInstance(type='metadsl_core.either.Either', params={'U': DeclaredTypeInstance(type='metadsl_core.vec.Vec', params={'T': DeclaredTypeInstance(type='metadsl_core.integer.Integer', params=None)}), 'T': DeclaredTypeInstance(type='metadsl_core.integer.Integer', params=None)})}), 'T': DeclaredTypeInstance(type='metadsl_core.either.Either', params={'U': DeclaredTypeInstance(type='metadsl_core.vec.Vec', params={'T': DeclaredTypeInstance(type='metadsl_core.integer.Integer', params=None)}), 'T': DeclaredTypeInstance(type='metadsl_core.integer.Integer', params=None)})}, args=['185002487467653827', '8689280473655304380'], kwargs=None), '-6718344517984905343': CallNode(function='metadsl_core.maybe.Maybe.match', type_params={'T': DeclaredTypeInstance(type='metadsl_core.integer.Integer', params=None)}, args=['7938400747573386744', '-6234235783729571615', '-8948798062595720142'], kwargs=None), '8731768997243898494': CallNode(function='metadsl_core.maybe.Maybe.__or__', type_params={'T': DeclaredTypeInstance(type='metadsl_core.either.Either', params={'U': DeclaredTypeInstance(type='metadsl_core.vec.Vec', params={'T': DeclaredTypeInstance(type='metadsl_core.integer.Integer', params=None)}), 'T': DeclaredTypeInstance(type='metadsl_core.integer.Integer', params=None)})}, args=['-6718344517984905343', '6819396428458609847'], kwargs=None), '3733947782242423642': CallNode(function='metadsl_core.maybe.Maybe.__and__', type_params={'T': DeclaredTypeInstance(type='metadsl_core.numpy.NDArray', params=None)}, args=['1174546965924099158', '8731768997243898494'], kwargs=None), '6568504879436375721': CallNode(function='metadsl_core.maybe.Maybe.match', type_params=None, args=['3733947782242423642', '8068863999341934174', '4851812645542628349'], kwargs=None), '-5253500509939984381': CallNode(function='metadsl_core.numpy.NDArrayCompat.from_ndarray', type_params=None, args=['6568504879436375721'], kwargs=None), '-8931293057262695690': CallNode(function='metadsl_core.numpy.NDArrayCompat.to_ndarray', type_params=None, args=['-5253500509939984381'], kwargs=None), '7718545254775440044': PrimitiveNode(type='metadsl.typing_tools.BoundInfer', repr='BoundInfer(fn=<function Maybe.just at 0x108714d08>, wrapper=<function wrapper at 0x1086f0048>, owner=metadsl_core.maybe.Maybe[metadsl_core.either.Either[metadsl_core.integer.Integer, metadsl_core.vec.Vec[metadsl_core.integer.Integer]]], is_classmethod=True)'), '2857975390779484260': CallNode(function='metadsl_core.abstraction.Abstraction.from_fn', type_params=None, args=['7718545254775440044'], kwargs=None), '7718545252965458244': PrimitiveNode(type='metadsl.typing_tools.BoundInfer', repr='BoundInfer(fn=<function Either.left at 0x108733158>, wrapper=<function wrapper at 0x1086f0048>, owner=metadsl_core.either.Either[metadsl_core.integer.Integer, metadsl_core.vec.Vec[metadsl_core.integer.Integer]], is_classmethod=True)'), '3086641452664409549': CallNode(function='metadsl_core.abstraction.Abstraction.from_fn', type_params=None, args=['7718545252965458244'], kwargs=None), '6851851274930758122': CallNode(function='metadsl_core.abstraction.Abstraction.__add__', type_params={'U': DeclaredTypeInstance(type='metadsl_core.maybe.Maybe', params={'T': DeclaredTypeInstance(type='metadsl_core.either.Either', params={'U': DeclaredTypeInstance(type='metadsl_core.vec.Vec', params={'T': DeclaredTypeInstance(type='metadsl_core.integer.Integer', params=None)}), 'T': DeclaredTypeInstance(type='metadsl_core.integer.Integer', params=None)})}), 'T': DeclaredTypeInstance(type='metadsl_core.either.Either', params={'U': DeclaredTypeInstance(type='metadsl_core.vec.Vec', params={'T': DeclaredTypeInstance(type='metadsl_core.integer.Integer', params=None)}), 'T': DeclaredTypeInstance(type='metadsl_core.integer.Integer', params=None)})}, args=['2857975390779484260', '3086641452664409549'], kwargs=None), '-6706651006835878346': CallNode(function='metadsl_core.abstraction.Abstraction.__call__', type_params={'U': DeclaredTypeInstance(type='metadsl_core.maybe.Maybe', params={'T': DeclaredTypeInstance(type='metadsl_core.either.Either', params={'U': DeclaredTypeInstance(type='metadsl_core.vec.Vec', params={'T': DeclaredTypeInstance(type='metadsl_core.integer.Integer', params=None)}), 'T': DeclaredTypeInstance(type='metadsl_core.integer.Integer', params=None)})}), 'T': DeclaredTypeInstance(type='metadsl_core.integer.Integer', params=None)}, args=['6851851274930758122', '-7953821244861570482'], kwargs=None), '-7204923034408497540': CallNode(function='metadsl_core.maybe.Maybe.__or__', type_params={'T': DeclaredTypeInstance(type='metadsl_core.either.Either', params={'U': DeclaredTypeInstance(type='metadsl_core.vec.Vec', params={'T': DeclaredTypeInstance(type='metadsl_core.integer.Integer', params=None)}), 'T': DeclaredTypeInstance(type='metadsl_core.integer.Integer', params=None)})}, args=['-6706651006835878346', '6819396428458609847'], kwargs=None), '2257455786216474889': CallNode(function='metadsl_core.maybe.Maybe.__and__', type_params={'T': DeclaredTypeInstance(type='metadsl_core.numpy.NDArray', params=None)}, args=['1174546965924099158', '-7204923034408497540'], kwargs=None), '3442050428913963947': CallNode(function='metadsl_core.maybe.Maybe.match', type_params=None, args=['2257455786216474889', '8068863999341934174', '4851812645542628349'], kwargs=None), '6612942243105692743': CallNode(function='metadsl_core.numpy.NDArrayCompat.from_ndarray', type_params=None, args=['3442050428913963947'], kwargs=None), '2821726378433648053': CallNode(function='metadsl_core.numpy.NDArrayCompat.to_ndarray', type_params=None, args=['6612942243105692743'], kwargs=None), '-395434546208890181': PrimitiveNode(type='metadsl_core.abstraction.Variable', repr='Variable(4616738632)'), '817091891189644235': CallNode(function='metadsl_core.abstraction.Abstraction.create_variable', type_params={'U': DeclaredTypeInstance(type='metadsl_core.maybe.Maybe', params={'T': DeclaredTypeInstance(type='metadsl_core.either.Either', params={'U': DeclaredTypeInstance(type='metadsl_core.vec.Vec', params={'T': DeclaredTypeInstance(type='metadsl_core.integer.Integer', params=None)}), 'T': DeclaredTypeInstance(type='metadsl_core.integer.Integer', params=None)})}), 'T': DeclaredTypeInstance(type='metadsl_core.either.Either', params={'U': DeclaredTypeInstance(type='metadsl_core.vec.Vec', params={'T': DeclaredTypeInstance(type='metadsl_core.integer.Integer', params=None)}), 'T': DeclaredTypeInstance(type='metadsl_core.integer.Integer', params=None)})}, args=['-395434546208890181'], kwargs=None), '-2401732686863051681': CallNode(function='metadsl_core.maybe.Maybe.just', type_params={'T': DeclaredTypeInstance(type='metadsl_core.either.Either', params={'U': DeclaredTypeInstance(type='metadsl_core.vec.Vec', params={'T': DeclaredTypeInstance(type='metadsl_core.integer.Integer', params=None)}), 'T': DeclaredTypeInstance(type='metadsl_core.integer.Integer', params=None)})}, args=['817091891189644235'], kwargs=None), '-3995558415943200832': CallNode(function='metadsl_core.abstraction.Abstraction.create', type_params={'U': DeclaredTypeInstance(type='metadsl_core.maybe.Maybe', params={'T': DeclaredTypeInstance(type='metadsl_core.either.Either', params={'U': DeclaredTypeInstance(type='metadsl_core.vec.Vec', params={'T': DeclaredTypeInstance(type='metadsl_core.integer.Integer', params=None)}), 'T': DeclaredTypeInstance(type='metadsl_core.integer.Integer', params=None)})}), 'T': DeclaredTypeInstance(type='metadsl_core.either.Either', params={'U': DeclaredTypeInstance(type='metadsl_core.vec.Vec', params={'T': DeclaredTypeInstance(type='metadsl_core.integer.Integer', params=None)}), 'T': DeclaredTypeInstance(type='metadsl_core.integer.Integer', params=None)})}, args=['817091891189644235', '-2401732686863051681'], kwargs=None), '-5257512920344479378': CallNode(function='metadsl_core.abstraction.Abstraction.__add__', type_params={'U': DeclaredTypeInstance(type='metadsl_core.maybe.Maybe', params={'T': DeclaredTypeInstance(type='metadsl_core.either.Either', params={'U': DeclaredTypeInstance(type='metadsl_core.vec.Vec', params={'T': DeclaredTypeInstance(type='metadsl_core.integer.Integer', params=None)}), 'T': DeclaredTypeInstance(type='metadsl_core.integer.Integer', params=None)})}), 'T': DeclaredTypeInstance(type='metadsl_core.either.Either', params={'U': DeclaredTypeInstance(type='metadsl_core.vec.Vec', params={'T': DeclaredTypeInstance(type='metadsl_core.integer.Integer', params=None)}), 'T': DeclaredTypeInstance(type='metadsl_core.integer.Integer', params=None)})}, args=['-3995558415943200832', '3086641452664409549'], kwargs=None), '-9158315441228739509': CallNode(function='metadsl_core.abstraction.Abstraction.__call__', type_params={'U': DeclaredTypeInstance(type='metadsl_core.maybe.Maybe', params={'T': DeclaredTypeInstance(type='metadsl_core.either.Either', params={'U': DeclaredTypeInstance(type='metadsl_core.vec.Vec', params={'T': DeclaredTypeInstance(type='metadsl_core.integer.Integer', params=None)}), 'T': DeclaredTypeInstance(type='metadsl_core.integer.Integer', params=None)})}), 'T': DeclaredTypeInstance(type='metadsl_core.integer.Integer', params=None)}, args=['-5257512920344479378', '-7953821244861570482'], kwargs=None), '2225033130983794832': CallNode(function='metadsl_core.maybe.Maybe.__or__', type_params={'T': DeclaredTypeInstance(type='metadsl_core.either.Either', params={'U': DeclaredTypeInstance(type='metadsl_core.vec.Vec', params={'T': DeclaredTypeInstance(type='metadsl_core.integer.Integer', params=None)}), 'T': DeclaredTypeInstance(type='metadsl_core.integer.Integer', params=None)})}, args=['-9158315441228739509', '6819396428458609847'], kwargs=None), '1959799798943340857': CallNode(function='metadsl_core.maybe.Maybe.__and__', type_params={'T': DeclaredTypeInstance(type='metadsl_core.numpy.NDArray', params=None)}, args=['1174546965924099158', '2225033130983794832'], kwargs=None), '-5961023274277349184': CallNode(function='metadsl_core.maybe.Maybe.match', type_params=None, args=['1959799798943340857', '8068863999341934174', '4851812645542628349'], kwargs=None), '1201733355199063192': CallNode(function='metadsl_core.numpy.NDArrayCompat.from_ndarray', type_params=None, args=['-5961023274277349184'], kwargs=None), '354437065248169853': CallNode(function='metadsl_core.numpy.NDArrayCompat.to_ndarray', type_params=None, args=['1201733355199063192'], kwargs=None), '8827937489698676252': PrimitiveNode(type='metadsl_core.abstraction.Variable', repr='Variable(4616621584)'), '-8623680730997462398': CallNode(function='metadsl_core.abstraction.Abstraction.create_variable', type_params={'U': DeclaredTypeInstance(type='metadsl_core.either.Either', params={'U': DeclaredTypeInstance(type='metadsl_core.vec.Vec', params={'T': DeclaredTypeInstance(type='metadsl_core.integer.Integer', params=None)}), 'T': DeclaredTypeInstance(type='metadsl_core.integer.Integer', params=None)}), 'T': DeclaredTypeInstance(type='metadsl_core.integer.Integer', params=None)}, args=['8827937489698676252'], kwargs=None), '-6008714097682319068': CallNode(function='metadsl_core.either.Either.left', type_params={'U': DeclaredTypeInstance(type='metadsl_core.vec.Vec', params={'T': DeclaredTypeInstance(type='metadsl_core.integer.Integer', params=None)}), 'T': DeclaredTypeInstance(type='metadsl_core.integer.Integer', params=None)}, args=['-8623680730997462398'], kwargs=None), '-725587403563614775': CallNode(function='metadsl_core.abstraction.Abstraction.create', type_params={'U': DeclaredTypeInstance(type='metadsl_core.either.Either', params={'U': DeclaredTypeInstance(type='metadsl_core.vec.Vec', params={'T': DeclaredTypeInstance(type='metadsl_core.integer.Integer', params=None)}), 'T': DeclaredTypeInstance(type='metadsl_core.integer.Integer', params=None)}), 'T': DeclaredTypeInstance(type='metadsl_core.integer.Integer', params=None)}, args=['-8623680730997462398', '-6008714097682319068'], kwargs=None), '1983567163581081442': CallNode(function='metadsl_core.abstraction.Abstraction.__add__', type_params={'U': DeclaredTypeInstance(type='metadsl_core.maybe.Maybe', params={'T': DeclaredTypeInstance(type='metadsl_core.either.Either', params={'U': DeclaredTypeInstance(type='metadsl_core.vec.Vec', params={'T': DeclaredTypeInstance(type='metadsl_core.integer.Integer', params=None)}), 'T': DeclaredTypeInstance(type='metadsl_core.integer.Integer', params=None)})}), 'T': DeclaredTypeInstance(type='metadsl_core.either.Either', params={'U': DeclaredTypeInstance(type='metadsl_core.vec.Vec', params={'T': DeclaredTypeInstance(type='metadsl_core.integer.Integer', params=None)}), 'T': DeclaredTypeInstance(type='metadsl_core.integer.Integer', params=None)})}, args=['-3995558415943200832', '-725587403563614775'], kwargs=None), '-2983356349930071758': CallNode(function='metadsl_core.abstraction.Abstraction.__call__', type_params={'U': DeclaredTypeInstance(type='metadsl_core.maybe.Maybe', params={'T': DeclaredTypeInstance(type='metadsl_core.either.Either', params={'U': DeclaredTypeInstance(type='metadsl_core.vec.Vec', params={'T': DeclaredTypeInstance(type='metadsl_core.integer.Integer', params=None)}), 'T': DeclaredTypeInstance(type='metadsl_core.integer.Integer', params=None)})}), 'T': DeclaredTypeInstance(type='metadsl_core.integer.Integer', params=None)}, args=['1983567163581081442', '-7953821244861570482'], kwargs=None), '2640493438116576134': CallNode(function='metadsl_core.maybe.Maybe.__or__', type_params={'T': DeclaredTypeInstance(type='metadsl_core.either.Either', params={'U': DeclaredTypeInstance(type='metadsl_core.vec.Vec', params={'T': DeclaredTypeInstance(type='metadsl_core.integer.Integer', params=None)}), 'T': DeclaredTypeInstance(type='metadsl_core.integer.Integer', params=None)})}, args=['-2983356349930071758', '6819396428458609847'], kwargs=None), '-8068734050153148223': CallNode(function='metadsl_core.maybe.Maybe.__and__', type_params={'T': DeclaredTypeInstance(type='metadsl_core.numpy.NDArray', params=None)}, args=['1174546965924099158', '2640493438116576134'], kwargs=None), '2562358796687173891': CallNode(function='metadsl_core.maybe.Maybe.match', type_params=None, args=['-8068734050153148223', '8068863999341934174', '4851812645542628349'], kwargs=None), '1380354513315837677': CallNode(function='metadsl_core.numpy.NDArrayCompat.from_ndarray', type_params=None, args=['2562358796687173891'], kwargs=None), '7683781759619673935': CallNode(function='metadsl_core.numpy.NDArrayCompat.to_ndarray', type_params=None, args=['1380354513315837677'], kwargs=None), '-1337239335869406530': CallNode(function='metadsl_core.maybe.Maybe.just', type_params={'T': DeclaredTypeInstance(type='metadsl_core.either.Either', params={'U': DeclaredTypeInstance(type='metadsl_core.vec.Vec', params={'T': DeclaredTypeInstance(type='metadsl_core.integer.Integer', params=None)}), 'T': DeclaredTypeInstance(type='metadsl_core.integer.Integer', params=None)})}, args=['-6008714097682319068'], kwargs=None), '-6094519697879344439': CallNode(function='metadsl_core.abstraction.Abstraction.create', type_params=None, args=['-8623680730997462398', '-1337239335869406530'], kwargs=None), '-8709422566095643852': CallNode(function='metadsl_core.abstraction.Abstraction.__call__', type_params={'U': DeclaredTypeInstance(type='metadsl_core.maybe.Maybe', params={'T': DeclaredTypeInstance(type='metadsl_core.either.Either', params={'U': DeclaredTypeInstance(type='metadsl_core.vec.Vec', params={'T': DeclaredTypeInstance(type='metadsl_core.integer.Integer', params=None)}), 'T': DeclaredTypeInstance(type='metadsl_core.integer.Integer', params=None)})}), 'T': DeclaredTypeInstance(type='metadsl_core.integer.Integer', params=None)}, args=['-6094519697879344439', '-7953821244861570482'], kwargs=None), '-8931000967759548215': CallNode(function='metadsl_core.maybe.Maybe.__or__', type_params={'T': DeclaredTypeInstance(type='metadsl_core.either.Either', params={'U': DeclaredTypeInstance(type='metadsl_core.vec.Vec', params={'T': DeclaredTypeInstance(type='metadsl_core.integer.Integer', params=None)}), 'T': DeclaredTypeInstance(type='metadsl_core.integer.Integer', params=None)})}, args=['-8709422566095643852', '6819396428458609847'], kwargs=None), '-9061770270654419099': CallNode(function='metadsl_core.maybe.Maybe.__and__', type_params={'T': DeclaredTypeInstance(type='metadsl_core.numpy.NDArray', params=None)}, args=['1174546965924099158', '-8931000967759548215'], kwargs=None), '-6982882594162867957': CallNode(function='metadsl_core.maybe.Maybe.match', type_params=None, args=['-9061770270654419099', '8068863999341934174', '4851812645542628349'], kwargs=None), '-4942022877432667789': CallNode(function='metadsl_core.numpy.NDArrayCompat.from_ndarray', type_params=None, args=['-6982882594162867957'], kwargs=None), '3701615852306461985': CallNode(function='metadsl_core.numpy.NDArrayCompat.to_ndarray', type_params=None, args=['-4942022877432667789'], kwargs=None), '7136829651087545254': CallNode(function='metadsl_core.either.Either.left', type_params={'U': DeclaredTypeInstance(type='metadsl_core.vec.Vec', params={'T': DeclaredTypeInstance(type='metadsl_core.integer.Integer', params=None)}), 'T': DeclaredTypeInstance(type='metadsl_core.integer.Integer', params=None)}, args=['-7953821244861570482'], kwargs=None), '-7796891201160907340': CallNode(function='metadsl_core.maybe.Maybe.just', type_params={'T': DeclaredTypeInstance(type='metadsl_core.either.Either', params={'U': DeclaredTypeInstance(type='metadsl_core.vec.Vec', params={'T': DeclaredTypeInstance(type='metadsl_core.integer.Integer', params=None)}), 'T': DeclaredTypeInstance(type='metadsl_core.integer.Integer', params=None)})}, args=['7136829651087545254'], kwargs=None), '8690626380751571268': CallNode(function='metadsl_core.maybe.Maybe.__or__', type_params={'T': DeclaredTypeInstance(type='metadsl_core.either.Either', params={'U': DeclaredTypeInstance(type='metadsl_core.vec.Vec', params={'T': DeclaredTypeInstance(type='metadsl_core.integer.Integer', params=None)}), 'T': DeclaredTypeInstance(type='metadsl_core.integer.Integer', params=None)})}, args=['-7796891201160907340', '6819396428458609847'], kwargs=None), '-8953213727665176071': CallNode(function='metadsl_core.maybe.Maybe.__and__', type_params={'T': DeclaredTypeInstance(type='metadsl_core.numpy.NDArray', params=None)}, args=['1174546965924099158', '8690626380751571268'], kwargs=None), '4647060243837226212': CallNode(function='metadsl_core.maybe.Maybe.match', type_params=None, args=['-8953213727665176071', '8068863999341934174', '4851812645542628349'], kwargs=None), '3990886821209499981': CallNode(function='metadsl_core.numpy.NDArrayCompat.from_ndarray', type_params=None, args=['4647060243837226212'], kwargs=None), '-8656981226506006474': CallNode(function='metadsl_core.numpy.NDArrayCompat.to_ndarray', type_params=None, args=['3990886821209499981'], kwargs=None), '4738032333611635480': CallNode(function='metadsl_core.maybe.Maybe.just', type_params=None, args=['7136829651087545254'], kwargs=None), '93077902880721731': CallNode(function='metadsl_core.maybe.Maybe.__and__', type_params={'T': DeclaredTypeInstance(type='metadsl_core.numpy.NDArray', params=None)}, args=['1174546965924099158', '4738032333611635480'], kwargs=None), '7655919487149005518': CallNode(function='metadsl_core.maybe.Maybe.match', type_params=None, args=['93077902880721731', '8068863999341934174', '4851812645542628349'], kwargs=None), '-1067913395472170990': CallNode(function='metadsl_core.numpy.NDArrayCompat.from_ndarray', type_params=None, args=['7655919487149005518'], kwargs=None), '-2610089124704566275': CallNode(function='metadsl_core.numpy.NDArrayCompat.to_ndarray', type_params=None, args=['-1067913395472170990'], kwargs=None), '8827937357323189152': PrimitiveNode(type='metadsl_core.abstraction.Variable', repr='Variable(4617019856)'), '-4256360741029815939': CallNode(function='metadsl_core.abstraction.Abstraction.create_variable', type_params={'U': DeclaredTypeInstance(type='metadsl_core.maybe.Maybe', params={'T': DeclaredTypeInstance(type='metadsl_core.numpy.NDArray', params=None)}), 'T': DeclaredTypeInstance(type='metadsl_core.numpy.NDArray', params=None)}, args=['8827937357323189152'], kwargs=None), '-4323807048865148830': CallNode(function='metadsl_core.maybe.Maybe.just', type_params={'T': DeclaredTypeInstance(type='metadsl_core.numpy.NDArray', params=None)}, args=['-4256360741029815939'], kwargs=None), '2611410537276393185': CallNode(function='metadsl_core.abstraction.Abstraction.create', type_params={'U': DeclaredTypeInstance(type='metadsl_core.maybe.Maybe', params={'T': DeclaredTypeInstance(type='metadsl_core.numpy.NDArray', params=None)}), 'T': DeclaredTypeInstance(type='metadsl_core.numpy.NDArray', params=None)}, args=['-4256360741029815939', '-4323807048865148830'], kwargs=None), '8244666174701220110': CallNode(function='metadsl_core.abstraction.Abstraction.__add__', type_params={'U': DeclaredTypeInstance(type='metadsl_core.maybe.Maybe', params={'T': DeclaredTypeInstance(type='metadsl_core.numpy.NDArray', params=None)}), 'T': DeclaredTypeInstance(type='metadsl_core.numpy.NDArray', params=None)}, args=['2611410537276393185', '-1597572784870236758'], kwargs=None), '-5499333534701168835': CallNode(function='metadsl_core.maybe.Maybe.match', type_params=None, args=['93077902880721731', '8068863999341934174', '8244666174701220110'], kwargs=None), '4991517236611489370': CallNode(function='metadsl_core.numpy.NDArrayCompat.from_ndarray', type_params=None, args=['-5499333534701168835'], kwargs=None), '1476445265420347091': CallNode(function='metadsl_core.numpy.NDArrayCompat.to_ndarray', type_params=None, args=['4991517236611489370'], kwargs=None), '-395434558652515056': PrimitiveNode(type='metadsl_core.abstraction.Variable', repr='Variable(4616808152)'), '8111844120604382313': CallNode(function='metadsl_core.abstraction.Abstraction.create_variable', type_params={'U': DeclaredTypeInstance(type='metadsl_core.numpy.NDArray', params=None), 'T': DeclaredTypeInstance(type='metadsl_core.pair.Pair', params={'U': DeclaredTypeInstance(type='metadsl_core.either.Either', params={'U': DeclaredTypeInstance(type='metadsl_core.vec.Vec', params={'T': DeclaredTypeInstance(type='metadsl_core.integer.Integer', params=None)}), 'T': DeclaredTypeInstance(type='metadsl_core.integer.Integer', params=None)}), 'T': DeclaredTypeInstance(type='metadsl_core.numpy.NDArray', params=None)})}, args=['-395434558652515056'], kwargs=None), '-4867771595905754451': CallNode(function='metadsl_core.pair.Pair.left', type_params={'U': DeclaredTypeInstance(type='metadsl_core.either.Either', params={'U': DeclaredTypeInstance(type='metadsl_core.vec.Vec', params={'T': DeclaredTypeInstance(type='metadsl_core.integer.Integer', params=None)}), 'T': DeclaredTypeInstance(type='metadsl_core.integer.Integer', params=None)}), 'T': DeclaredTypeInstance(type='metadsl_core.numpy.NDArray', params=None)}, args=['8111844120604382313'], kwargs=None), '5888172811087465133': CallNode(function='metadsl_core.pair.Pair.right', type_params={'U': DeclaredTypeInstance(type='metadsl_core.either.Either', params={'U': DeclaredTypeInstance(type='metadsl_core.vec.Vec', params={'T': DeclaredTypeInstance(type='metadsl_core.integer.Integer', params=None)}), 'T': DeclaredTypeInstance(type='metadsl_core.integer.Integer', params=None)}), 'T': DeclaredTypeInstance(type='metadsl_core.numpy.NDArray', params=None)}, args=['8111844120604382313'], kwargs=None), '2848557529472726822': CallNode(function='metadsl_core.numpy.NDArray.__getitem__', type_params=None, args=['-4867771595905754451', '5888172811087465133'], kwargs=None), '-4511725549279881554': CallNode(function='metadsl_core.abstraction.Abstraction.create', type_params={'U': DeclaredTypeInstance(type='metadsl_core.numpy.NDArray', params=None), 'T': DeclaredTypeInstance(type='metadsl_core.pair.Pair', params={'U': DeclaredTypeInstance(type='metadsl_core.either.Either', params={'U': DeclaredTypeInstance(type='metadsl_core.vec.Vec', params={'T': DeclaredTypeInstance(type='metadsl_core.integer.Integer', params=None)}), 'T': DeclaredTypeInstance(type='metadsl_core.integer.Integer', params=None)}), 'T': DeclaredTypeInstance(type='metadsl_core.numpy.NDArray', params=None)})}, args=['8111844120604382313', '2848557529472726822'], kwargs=None), '901481986845566370': CallNode(function='metadsl_core.abstraction.Abstraction.__add__', type_params={'U': DeclaredTypeInstance(type='metadsl_core.maybe.Maybe', params={'T': DeclaredTypeInstance(type='metadsl_core.numpy.NDArray', params=None)}), 'T': DeclaredTypeInstance(type='metadsl_core.numpy.NDArray', params=None)}, args=['2611410537276393185', '-4511725549279881554'], kwargs=None), '-553843878920709567': CallNode(function='metadsl_core.maybe.Maybe.match', type_params=None, args=['93077902880721731', '8068863999341934174', '901481986845566370'], kwargs=None), '8011578591567469682': CallNode(function='metadsl_core.numpy.NDArrayCompat.from_ndarray', type_params=None, args=['-553843878920709567'], kwargs=None), '-1488143653730295426': CallNode(function='metadsl_core.numpy.NDArrayCompat.to_ndarray', type_params=None, args=['8011578591567469682'], kwargs=None), '-9186066363797220266': CallNode(function='metadsl_core.maybe.Maybe.just', type_params={'T': DeclaredTypeInstance(type='metadsl_core.numpy.NDArray', params=None)}, args=['2848557529472726822'], kwargs=None), '8295271963561658079': CallNode(function='metadsl_core.abstraction.Abstraction.create', type_params=None, args=['8111844120604382313', '-9186066363797220266'], kwargs=None), '-3282530857129661456': CallNode(function='metadsl_core.maybe.Maybe.match', type_params=None, args=['93077902880721731', '8068863999341934174', '8295271963561658079'], kwargs=None), '-8994844925074471947': CallNode(function='metadsl_core.numpy.NDArrayCompat.from_ndarray', type_params=None, args=['-3282530857129661456'], kwargs=None), '2428748855899720923': CallNode(function='metadsl_core.numpy.NDArrayCompat.to_ndarray', type_params=None, args=['-8994844925074471947'], kwargs=None), '1911765978041787205': CallNode(function='metadsl_core.numpy.NDArray.__add__', type_params=None, args=['4031171227708894026', '4031171227708894026'], kwargs=None), '5887915695034075168': CallNode(function='metadsl_core.maybe.Maybe.just', type_params=None, args=['1911765978041787205'], kwargs=None), '1093904100431203960': CallNode(function='metadsl_core.numpy.NDArrayCompat.from_ndarray', type_params=None, args=['5887915695034075168'], kwargs=None), '1464127185348198922': CallNode(function='metadsl_core.conversion.Converter.convert', type_params={'T': DeclaredTypeInstance(type='metadsl_core.numpy.NDArray', params=None)}, args=['1093904100431203960'], kwargs=None), '-3771903115774272336': CallNode(function='metadsl_core.maybe.Maybe.__and__', type_params={'T': DeclaredTypeInstance(type='metadsl_core.numpy.NDArray', params=None)}, args=['1464127185348198922', '4738032333611635480'], kwargs=None), '2406895093310181881': CallNode(function='metadsl_core.maybe.Maybe.match', type_params=None, args=['-3771903115774272336', '8068863999341934174', '8295271963561658079'], kwargs=None), '3956745441488275590': CallNode(function='metadsl_core.numpy.NDArrayCompat.from_ndarray', type_params=None, args=['2406895093310181881'], kwargs=None), '-7437747885892096218': CallNode(function='metadsl_core.numpy.NDArrayCompat.to_ndarray', type_params=None, args=['3956745441488275590'], kwargs=None), '7816345134345850681': CallNode(function='metadsl_core.maybe.Maybe.__and__', type_params={'T': DeclaredTypeInstance(type='metadsl_core.numpy.NDArray', params=None)}, args=['5887915695034075168', '4738032333611635480'], kwargs=None), '-6582613651964292360': CallNode(function='metadsl_core.maybe.Maybe.match', type_params=None, args=['7816345134345850681', '8068863999341934174', '8295271963561658079'], kwargs=None), '6656253538077465464': CallNode(function='metadsl_core.numpy.NDArrayCompat.from_ndarray', type_params=None, args=['-6582613651964292360'], kwargs=None), '-1282100583479989896': CallNode(function='metadsl_core.numpy.NDArrayCompat.to_ndarray', type_params=None, args=['6656253538077465464'], kwargs=None), '3402516988771715417': CallNode(function='metadsl_core.pair.Pair.create', type_params=None, args=['1911765978041787205', '7136829651087545254'], kwargs=None), '4136192042349000987': CallNode(function='metadsl_core.maybe.Maybe.just', type_params=None, args=['3402516988771715417'], kwargs=None), '9102685729437275761': CallNode(function='metadsl_core.maybe.Maybe.match', type_params=None, args=['4136192042349000987', '8068863999341934174', '8295271963561658079'], kwargs=None), '4567514388362023782': CallNode(function='metadsl_core.numpy.NDArrayCompat.from_ndarray', type_params=None, args=['9102685729437275761'], kwargs=None), '-6192515545617256120': CallNode(function='metadsl_core.numpy.NDArrayCompat.to_ndarray', type_params=None, args=['4567514388362023782'], kwargs=None), '-4904642461195828720': CallNode(function='metadsl_core.abstraction.Abstraction.__call__', type_params={'U': DeclaredTypeInstance(type='metadsl_core.maybe.Maybe', params={'T': DeclaredTypeInstance(type='metadsl_core.numpy.NDArray', params=None)}), 'T': DeclaredTypeInstance(type='metadsl_core.pair.Pair', params={'U': DeclaredTypeInstance(type='metadsl_core.either.Either', params={'U': DeclaredTypeInstance(type='metadsl_core.vec.Vec', params={'T': DeclaredTypeInstance(type='metadsl_core.integer.Integer', params=None)}), 'T': DeclaredTypeInstance(type='metadsl_core.integer.Integer', params=None)}), 'T': DeclaredTypeInstance(type='metadsl_core.numpy.NDArray', params=None)})}, args=['8295271963561658079', '3402516988771715417'], kwargs=None), '-7050939469329363993': CallNode(function='metadsl_core.numpy.NDArrayCompat.from_ndarray', type_params=None, args=['-4904642461195828720'], kwargs=None), '-2405415694894462771': CallNode(function='metadsl_core.numpy.NDArrayCompat.to_ndarray', type_params=None, args=['-7050939469329363993'], kwargs=None), '-6225595167208389050': CallNode(function='metadsl_core.pair.Pair.left', type_params={'U': DeclaredTypeInstance(type='metadsl_core.either.Either', params={'U': DeclaredTypeInstance(type='metadsl_core.vec.Vec', params={'T': DeclaredTypeInstance(type='metadsl_core.integer.Integer', params=None)}), 'T': DeclaredTypeInstance(type='metadsl_core.integer.Integer', params=None)}), 'T': DeclaredTypeInstance(type='metadsl_core.numpy.NDArray', params=None)}, args=['3402516988771715417'], kwargs=None), '1254845661443839558': CallNode(function='metadsl_core.pair.Pair.right', type_params={'U': DeclaredTypeInstance(type='metadsl_core.either.Either', params={'U': DeclaredTypeInstance(type='metadsl_core.vec.Vec', params={'T': DeclaredTypeInstance(type='metadsl_core.integer.Integer', params=None)}), 'T': DeclaredTypeInstance(type='metadsl_core.integer.Integer', params=None)}), 'T': DeclaredTypeInstance(type='metadsl_core.numpy.NDArray', params=None)}, args=['3402516988771715417'], kwargs=None), '1172934897183459409': CallNode(function='metadsl_core.numpy.NDArray.__getitem__', type_params=None, args=['-6225595167208389050', '1254845661443839558'], kwargs=None), '-5493193343144368474': CallNode(function='metadsl_core.maybe.Maybe.just', type_params={'T': DeclaredTypeInstance(type='metadsl_core.numpy.NDArray', params=None)}, args=['1172934897183459409'], kwargs=None), '8164894599670932671': CallNode(function='metadsl_core.numpy.NDArrayCompat.from_ndarray', type_params=None, args=['-5493193343144368474'], kwargs=None), '-4080094971635413018': CallNode(function='metadsl_core.numpy.NDArrayCompat.to_ndarray', type_params=None, args=['8164894599670932671'], kwargs=None), '7998186607444985827': CallNode(function='metadsl_core.numpy.NDArray.__getitem__', type_params=None, args=['1911765978041787205', '1254845661443839558'], kwargs=None), '8685847048185757448': CallNode(function='metadsl_core.maybe.Maybe.just', type_params={'T': DeclaredTypeInstance(type='metadsl_core.numpy.NDArray', params=None)}, args=['7998186607444985827'], kwargs=None), '-6988018775204427542': CallNode(function='metadsl_core.numpy.NDArrayCompat.from_ndarray', type_params=None, args=['8685847048185757448'], kwargs=None), '-5433782250850752446': CallNode(function='metadsl_core.numpy.NDArrayCompat.to_ndarray', type_params=None, args=['-6988018775204427542'], kwargs=None), '7022807870054565964': CallNode(function='metadsl_core.numpy.NDArray.__getitem__', type_params=None, args=['1911765978041787205', '7136829651087545254'], kwargs=None), '742549260268039899': CallNode(function='metadsl_core.maybe.Maybe.just', type_params={'T': DeclaredTypeInstance(type='metadsl_core.numpy.NDArray', params=None)}, args=['7022807870054565964'], kwargs=None), '6359130647632549453': CallNode(function='metadsl_core.numpy.NDArrayCompat.from_ndarray', type_params=None, args=['742549260268039899'], kwargs=None), '7159074959588852555': CallNode(function='metadsl_core.numpy.NDArrayCompat.to_ndarray', type_params=None, args=['6359130647632549453'], kwargs=None), '8586822193707067965': CallNode(function='metadsl_core.numpy.NDArray.to_ndarray', type_params=None, args=['7022807870054565964'], kwargs=None), '5377449658723039781': CallNode(function='metadsl_core.numpy.NDArray.to_ndarray', type_params=None, args=['1911765978041787205'], kwargs=None), '4283552082355274468': CallNode(function='metadsl_core.numpy_engine.unbox_idxs', type_params=None, args=['7136829651087545254'], kwargs=None), '-3286095517800359267': CallNode(function='metadsl_core.numpy_engine.ndarray_getitem', type_params=None, args=['5377449658723039781', '4283552082355274468'], kwargs=None), '-5656882995129175993': CallNode(function='metadsl_core.numpy.NDArray.to_ndarray', type_params=None, args=['4031171227708894026'], kwargs=None), '-3925204051049862663': CallNode(function='metadsl_core.numpy_engine.ndarray_add', type_params=None, args=['-5656882995129175993', '-5656882995129175993'], kwargs=None), '-2888994268370501137': CallNode(function='metadsl_core.numpy_engine.ndarray_getitem', type_params=None, args=['-3925204051049862663', '4283552082355274468'], kwargs=None), '-280432089349873217': CallNode(function='metadsl_core.numpy_engine.unbox_integer', type_params=None, args=['-5586188481033579152'], kwargs=None), '6723801050969027838': CallNode(function='metadsl_core.numpy_engine.arange', type_params=None, args=['-280432089349873217'], kwargs=None), '-3575457940294400825': CallNode(function='metadsl_core.numpy_engine.ndarray_add', type_params=None, args=['6723801050969027838', '-5656882995129175993'], kwargs=None), '8605955205155030986': CallNode(function='metadsl_core.numpy_engine.ndarray_getitem', type_params=None, args=['-3575457940294400825', '4283552082355274468'], kwargs=None), '-689564755399340722': CallNode(function='metadsl_core.numpy_engine.arange', type_params=None, args=['2595876046676253964'], kwargs=None), '-6390974249925896307': CallNode(function='metadsl_core.numpy_engine.ndarray_add', type_params=None, args=['-689564755399340722', '-5656882995129175993'], kwargs=None), '6033016950681372978': CallNode(function='metadsl_core.numpy_engine.ndarray_getitem', type_params=None, args=['-6390974249925896307', '4283552082355274468'], kwargs=None), '-4388090538260585294': CallNode(function='metadsl_core.numpy_engine.ndarray_add', type_params=None, args=['-689564755399340722', '6723801050969027838'], kwargs=None), '-806729751812158825': CallNode(function='metadsl_core.numpy_engine.ndarray_getitem', type_params=None, args=['-4388090538260585294', '4283552082355274468'], kwargs=None), '7544669447117996744': CallNode(function='metadsl_core.numpy_engine.ndarray_add', type_params=None, args=['-689564755399340722', '-689564755399340722'], kwargs=None), '2562988125597263693': CallNode(function='metadsl_core.numpy_engine.ndarray_getitem', type_params=None, args=['7544669447117996744', '4283552082355274468'], kwargs=None), '-7513322305293836620': CallNode(function='metadsl_core.numpy_engine.unbox_integer', type_params=None, args=['-7953821244861570482'], kwargs=None), '2149446839810008273': CallNode(function='metadsl_core.numpy_engine.ndarray_getitem', type_params=None, args=['7544669447117996744', '-7513322305293836620'], kwargs=None), '-8882938723879009084': CallNode(function='metadsl_core.numpy_engine.ndarray_getitem', type_params=None, args=['7544669447117996744', '2595876046779093839'], kwargs=None), '-980644585233852057': PrimitiveNode(type='numpy.ndarray', repr='array([ 0,  1,  2,  3,  4,  5,  6,  7,  8,  9, 10, 11, 12, 13, 14, 15, 16,\\n       17, 18, 19, 20, 21, 22, 23, 24, 25, 26, 27, 28, 29, 30, 31, 32, 33,\\n       34, 35, 36, 37, 38, 39, 40, 41, 42, 43, 44, 45, 46, 47, 48, 49, 50,\\n       51, 52, 53, 54, 55, 56, 57, 58, 59, 60, 61, 62, 63, 64, 65, 66, 67,\\n       68, 69, 70, 71, 72, 73, 74, 75, 76, 77, 78, 79, 80, 81, 82, 83, 84,\\n       85, 86, 87, 88, 89, 90, 91, 92, 93, 94, 95, 96, 97, 98, 99])'), '3347703392682223616': CallNode(function='metadsl_core.numpy_engine.ndarray_add', type_params=None, args=['-980644585233852057', '-689564755399340722'], kwargs=None), '-773729102592704277': CallNode(function='metadsl_core.numpy_engine.ndarray_getitem', type_params=None, args=['3347703392682223616', '2595876046779093839'], kwargs=None), '-980643582451973657': PrimitiveNode(type='numpy.ndarray', repr='array([ 0,  1,  2,  3,  4,  5,  6,  7,  8,  9, 10, 11, 12, 13, 14, 15, 16,\\n       17, 18, 19, 20, 21, 22, 23, 24, 25, 26, 27, 28, 29, 30, 31, 32, 33,\\n       34, 35, 36, 37, 38, 39, 40, 41, 42, 43, 44, 45, 46, 47, 48, 49, 50,\\n       51, 52, 53, 54, 55, 56, 57, 58, 59, 60, 61, 62, 63, 64, 65, 66, 67,\\n       68, 69, 70, 71, 72, 73, 74, 75, 76, 77, 78, 79, 80, 81, 82, 83, 84,\\n       85, 86, 87, 88, 89, 90, 91, 92, 93, 94, 95, 96, 97, 98, 99])'), '-5103881456692840313': CallNode(function='metadsl_core.numpy_engine.ndarray_add', type_params=None, args=['-980644585233852057', '-980643582451973657'], kwargs=None), '-2293520926042171655': CallNode(function='metadsl_core.numpy_engine.ndarray_getitem', type_params=None, args=['-5103881456692840313', '2595876046779093839'], kwargs=None), '-980643689994337257': PrimitiveNode(type='numpy.ndarray', repr='array([  0,   2,   4,   6,   8,  10,  12,  14,  16,  18,  20,  22,  24,\\n        26,  28,  30,  32,  34,  36,  38,  40,  42,  44,  46,  48,  50,\\n        52,  54,  56,  58,  60,  62,  64,  66,  68,  70,  72,  74,  76,\\n        78,  80,  82,  84,  86,  88,  90,  92,  94,  96,  98, 100, 102,\\n       104, 106, 108, 110, 112, 114, 116, 118, 120, 122, 124, 126, 128,\\n       130, 132, 134, 136, 138, 140, 142, 144, 146, 148, 150, 152, 154,\\n       156, 158, 160, 162, 164, 166, 168, 170, 172, 174, 176, 178, 180,\\n       182, 184, 186, 188, 190, 192, 194, 196, 198])'), '-3664358699684467470': CallNode(function='metadsl_core.numpy_engine.ndarray_getitem', type_params=None, args=['-980643689994337257', '2595876046779093839'], kwargs=None), '-8829012800782605950': PrimitiveNode(type='numpy.int64', repr='10')}, states=States(initial='-240981680985143449', states=[State(node='-1094516537492958954', rule='metadsl_core.numpy.NDArrayCompat.__getitem__', label=None), State(node='-7666680655537306597', rule='metadsl_core.numpy.arange', label=None), State(node='-6014676496187584150', rule='metadsl_core.integer.convert_integer', label=None), State(node='-6350145245750207762', rule='metadsl_core.numpy.arange', label=None), State(node='-5054580159859065346', rule='metadsl_core.integer.convert_integer', label=None), State(node='-8513433130472601229', rule='metadsl_core.either.convert_to_either', label=None), State(node='2313568276240209238', rule='metadsl_core.integer.convert_integer', label=None), State(node='-6090550354976932520', rule='metadsl_core.maybe.Maybe.map', label=None), State(node='8702230173243775619', rule='metadsl_core.maybe.Maybe.map', label=None), State(node='-112819658371690377', rule='metadsl_core.maybe.maybe_match', label=None), State(node='1341922260571161078', rule='metadsl_core.abstraction.Abstraction.from_fn', label=None), State(node='-5385435595446898637', rule='metadsl_core.abstraction.Abstraction.from_fn', label=None), State(node='5960017596721788093', rule='metadsl_core.abstraction.compose', label=None), State(node='-2670779258779313667', rule='metadsl_core.abstraction.beta_reduce', label=None), State(node='-1865665164701305046', rule='metadsl_core.maybe.Maybe.map', label=None), State(node='4956379186460531365', rule='metadsl_core.maybe.maybe_match', label=None), State(node='-1963970534035934393', rule='metadsl_core.abstraction.Abstraction.from_fn', label=None), State(node='360316587663678693', rule='metadsl_core.abstraction.Abstraction.from_fn', label=None), State(node='-9001500102380522238', rule='metadsl_core.abstraction.compose', label=None), State(node='894366622340269604', rule='metadsl_core.abstraction.beta_reduce', label=None), State(node='-8931293057262695690', rule='metadsl_core.maybe.Maybe.map', label=None), State(node='2821726378433648053', rule='metadsl_core.maybe.maybe_match', label=None), State(node='354437065248169853', rule='metadsl_core.abstraction.Abstraction.from_fn', label=None), State(node='7683781759619673935', rule='metadsl_core.abstraction.Abstraction.from_fn', label=None), State(node='3701615852306461985', rule='metadsl_core.abstraction.compose', label=None), State(node='-8656981226506006474', rule='metadsl_core.abstraction.beta_reduce', label=None), State(node='-2610089124704566275', rule='metadsl_core.maybe.maybe_or', label=None), State(node='1476445265420347091', rule='metadsl_core.abstraction.Abstraction.from_fn', label=None), State(node='-1488143653730295426', rule='metadsl_core.abstraction.Abstraction.from_fn', label=None), State(node='2428748855899720923', rule='metadsl_core.abstraction.compose', label=None), State(node='-7437747885892096218', rule='metadsl_core.numpy.add_compat', label=None), State(node='-1282100583479989896', rule='metadsl_core.numpy.convert_to_ndarray', label=None), State(node='-6192515545617256120', rule='metadsl_core.maybe.maybe_and', label=None), State(node='-2405415694894462771', rule='metadsl_core.maybe.maybe_match', label=None), State(node='-4080094971635413018', rule='metadsl_core.abstraction.beta_reduce', label=None), State(node='-5433782250850752446', rule='metadsl_core.pair.pair_left', label=None), State(node='7159074959588852555', rule='metadsl_core.pair.pair_right', label='convert'), State(node='8586822193707067965', rule='metadsl_core.numpy.box_unbox_ndarray_compat', label=None), State(node='-3286095517800359267', rule='metadsl_core.numpy_engine.unbox_ndarray_getitem', label=None), State(node='-2888994268370501137', rule='metadsl_core.numpy_engine.unbox_ndarray_add', label=None), State(node='8605955205155030986', rule='metadsl_core.numpy_engine.unbox_arange', label=None), State(node='6033016950681372978', rule='metadsl_core.numpy_engine.unbox_integer_rule', label=None), State(node='-806729751812158825', rule='metadsl_core.numpy_engine.unbox_arange', label=None), State(node='2562988125597263693', rule='metadsl_core.numpy_engine.unbox_integer_rule', label=None), State(node='2149446839810008273', rule='metadsl_core.numpy_engine.unbox_idxs_rule', label=None), State(node='-8882938723879009084', rule='metadsl_core.numpy_engine.unbox_integer_rule', label='unbox'), State(node='-773729102592704277', rule='metadsl_core.numpy_engine.arange', label=None), State(node='-2293520926042171655', rule='metadsl_core.numpy_engine.arange', label=None), State(node='-3664358699684467470', rule='metadsl_core.numpy_engine.ndarray_add', label=None), State(node='-8829012800782605950', rule='metadsl_core.numpy_engine.ndarray_getitem', label='execute')]))"
      ]
     },
     "metadata": {},
     "output_type": "display_data"
    },
    {
     "data": {
      "text/plain": [
       "10"
      ]
     },
     "metadata": {},
     "output_type": "display_data"
    }
   ],
   "source": [
    "N = 100\n",
    "expr = (arange(N) + arange(N))[5].to_ndarray()\n",
    "expr._ipython_display_()"
   ]
  },
  {
   "cell_type": "markdown",
   "metadata": {},
   "source": [
    "Now, we can add an optimization replacement, so that we do the getitem before adding the two expressions:"
   ]
  },
  {
   "cell_type": "code",
   "execution_count": null,
   "metadata": {},
   "outputs": [],
   "source": [
    "@register\n",
    "@rule\n",
    "def optimize_getitem_add(l: NDArray, r: NDArray, idx: IndxType) -> R[NDArray]:\n",
    "    return (\n",
    "        # expression to match against\n",
    "        (l + r)[idx],\n",
    "        # expression to replace it with\n",
    "        l[idx] + r[idx]\n",
    "    )"
   ]
  },
  {
   "cell_type": "markdown",
   "metadata": {},
   "source": [
    "Now, when we look at the execution steps, we see that it is doing each getitem before adding, which should be more efficient:"
   ]
  },
  {
   "cell_type": "code",
   "execution_count": null,
   "metadata": {},
   "outputs": [],
   "source": [
    "expr = (arange(N) + arange(N))[5].to_ndarray()\n",
    "expr"
   ]
  },
  {
   "cell_type": "markdown",
   "metadata": {},
   "source": [
    "This shows how we can break up the NumPy API into different layers, all of which are extensible:\n",
    "\n",
    "1. A compatibility layer that works like the existing NumPy API, except isn't limited to the Python types of the current API\n",
    "2. A type safe version of this API. The conversion between the compatability layer and this layer is extensible, so that third party authors can add new conversion between their own Python objects and the typed representation.\n",
    "3. A backend layer that translates either back to Python calls or source code, or to other targets like LLVM or Tensorflow.\n",
    "\n",
    "The key is that all these layers are composable, so you could have different frontends for any of them or add your own. This is all done through a typed replacement system that is compatible with static analysis using MyPy.\n",
    "\n",
    "`metadsl` is the glue that allows us to define this API in a way that enables greater greater collaboration. Since each layer has it's own well defined specification, different projects can extend and target these seperate layers, while minimizing the need to explicitly opt in to collaborate. The goal is to enable greater reuse, interoperability, and extensability within the Python scientific ecosystem."
   ]
  }
 ],
 "metadata": {
  "kernelspec": {
   "display_name": "Python 3",
   "language": "python",
   "name": "python3"
  },
  "language_info": {
   "codemirror_mode": {
    "name": "ipython",
    "version": 3
   },
   "file_extension": ".py",
   "mimetype": "text/x-python",
   "name": "python",
   "nbconvert_exporter": "python",
   "pygments_lexer": "ipython3",
   "version": "3.7.3"
  }
 },
 "nbformat": 4,
 "nbformat_minor": 2
}
