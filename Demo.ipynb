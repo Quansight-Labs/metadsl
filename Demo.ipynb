{
 "cells": [
  {
   "cell_type": "markdown",
   "metadata": {},
   "source": [
    "# `metadsl`\n",
    "\n",
    "...is a framework for creating domain specific languages in Python."
   ]
  },
  {
   "cell_type": "code",
   "execution_count": 1,
   "metadata": {},
   "outputs": [],
   "source": [
    "from metadsl import *\n",
    "from metadsl_core import *\n",
    "from metadsl_visualize import *"
   ]
  },
  {
   "cell_type": "markdown",
   "metadata": {},
   "source": [
    "Here, we show a NumPy API compatible DSL that we have started writing. We can create a symbolic expression and then execute it. The widget shows the different stages of execution:"
   ]
  },
  {
   "cell_type": "code",
   "execution_count": 2,
   "metadata": {},
   "outputs": [
    {
     "data": {
      "application/json": {
       "nodes": {
        "-1106245085015694132": [
         "8017410877576515236",
         {
          "args": [
           "4408648251278560909",
           "-4179875107795948895"
          ],
          "function": "Maybe.__and__",
          "type_params": {
           "T": {
            "type": "NDArray"
           }
          }
         }
        ],
        "-113230044411850379": [
         "-5924177586350510988",
         {
          "args": [
           "-2445374449678023291",
           "-2445374449678023291"
          ],
          "function": "ndarray_add"
         }
        ],
        "-1150088198166487101": [
         "-1341672716970475800",
         {
          "args": [
           "5798070462257896138"
          ],
          "function": "NDArrayCompat.to_ndarray"
         }
        ],
        "-1273642328414840872": [
         "6939635006650947043",
         {
          "args": [
           "-2079565683212384912",
           "-871166542655442750"
          ],
          "function": "Maybe.map",
          "type_params": {
           "T": {
            "params": {
             "T": {
              "type": "NDArray"
             },
             "U": {
              "params": {
               "T": {
                "type": "Integer"
               },
               "U": {
                "params": {
                 "T": {
                  "type": "Integer"
                 }
                },
                "type": "Vec"
               }
              },
              "type": "Either"
             }
            },
            "type": "Pair"
           }
          }
         }
        ],
        "-1294418605310832295": [
         "6119802382549264123",
         {
          "args": [
           "-5297356175593613083",
           "205164300450344970"
          ],
          "function": "Maybe.__or__",
          "type_params": {
           "T": {
            "params": {
             "T": {
              "type": "Integer"
             },
             "U": {
              "params": {
               "T": {
                "type": "Integer"
               }
              },
              "type": "Vec"
             }
            },
            "type": "Either"
           }
          }
         }
        ],
        "-130684388737434378": [
         "-130684388737434378",
         {
          "args": [
           "7005412116804673500",
           "-8215238012704140842"
          ],
          "function": "NDArray.__getitem__"
         }
        ],
        "-1313138448651871637": [
         "-1313138448651871637",
         {
          "args": [
           "-7737040241287546841"
          ],
          "function": "Integer.from_int"
         }
        ],
        "-1315959686832490410": [
         "6939635006650947043",
         {
          "args": [
           "6692383433071077384",
           "9032834383112645395",
           "1513986338388351247"
          ],
          "function": "Maybe.match",
          "type_params": {
           "T": {
            "params": {
             "T": {
              "type": "NDArray"
             },
             "U": {
              "params": {
               "T": {
                "type": "Integer"
               },
               "U": {
                "params": {
                 "T": {
                  "type": "Integer"
                 }
                },
                "type": "Vec"
               }
              },
              "type": "Either"
             }
            },
            "type": "Pair"
           }
          }
         }
        ],
        "-1341672716970475800": [
         "-1341672716970475800",
         {
          "args": [
           "-4772016795270189587"
          ],
          "function": "NDArrayCompat.to_ndarray"
         }
        ],
        "-1372317109959694973": [
         "-1372317109959694973",
         {
          "args": [
           "2507768681348984026"
          ],
          "function": "Maybe.just"
         }
        ],
        "-1426540454524810074": [
         "6939635006650947043",
         {
          "args": [
           "8408942364530103639",
           "9032834383112645395",
           "1513986338388351247"
          ],
          "function": "Maybe.match",
          "type_params": {
           "T": {
            "params": {
             "T": {
              "type": "NDArray"
             },
             "U": {
              "params": {
               "T": {
                "type": "Integer"
               },
               "U": {
                "params": {
                 "T": {
                  "type": "Integer"
                 }
                },
                "type": "Vec"
               }
              },
              "type": "Either"
             }
            },
            "type": "Pair"
           }
          }
         }
        ],
        "-1475646575536360333": [
         "-1475646575536360333",
         {
          "args": [
           "-4167769655553708545",
           "-91834066106135924"
          ],
          "function": "Abstraction.create"
         }
        ],
        "-149164474730248205": [
         "6939635006650947043",
         {
          "args": [
           "5312736265270673507",
           "9032834383112645395",
           "-1475646575536360333"
          ],
          "function": "Maybe.match",
          "type_params": {
           "T": {
            "params": {
             "T": {
              "type": "NDArray"
             },
             "U": {
              "params": {
               "T": {
                "type": "Integer"
               },
               "U": {
                "params": {
                 "T": {
                  "type": "Integer"
                 }
                },
                "type": "Vec"
               }
              },
              "type": "Either"
             }
            },
            "type": "Pair"
           }
          }
         }
        ],
        "-1541113139994219591": [
         "6939635006650947043",
         {
          "args": [
           "6583588539036799453",
           "9032834383112645395",
           "1064563450086600191"
          ],
          "function": "Maybe.match",
          "type_params": {
           "T": {
            "params": {
             "T": {
              "type": "NDArray"
             },
             "U": {
              "params": {
               "T": {
                "type": "Integer"
               },
               "U": {
                "params": {
                 "T": {
                  "type": "Integer"
                 }
                },
                "type": "Vec"
               }
              },
              "type": "Either"
             }
            },
            "type": "Pair"
           }
          }
         }
        ],
        "-1556507037921831081": [
         "-5882035132617130320",
         {
          "args": [
           "9133257758617415926",
           "-6111134292761862292"
          ],
          "function": "NDArrayCompat.__add__"
         }
        ],
        "-1559019789466886495": [
         "-5924177586350510988",
         {
          "args": [
           "-5426302648562200192",
           "-5426302648562200192"
          ],
          "function": "ndarray_add"
         }
        ],
        "-156776053854657493": [
         "-156776053854657493",
         {
          "args": [
           "2436712640837770830"
          ],
          "function": "Maybe.just",
          "type_params": {
           "T": {
            "params": {
             "T": {
              "type": "Integer"
             },
             "U": {
              "params": {
               "T": {
                "type": "Integer"
               }
              },
              "type": "Vec"
             }
            },
            "type": "Either"
           }
          }
         }
        ],
        "-1612977471603230740": [
         "-1612977471603230740",
         {
          "args": [
           "-4167769655553708545"
          ],
          "function": "Pair.left",
          "type_params": {
           "T": {
            "type": "NDArray"
           },
           "U": {
            "params": {
             "T": {
              "type": "Integer"
             },
             "U": {
              "params": {
               "T": {
                "type": "Integer"
               }
              },
              "type": "Vec"
             }
            },
            "type": "Either"
           }
          }
         }
        ],
        "-1706374237541123582": [
         "-4772016795270189587",
         {
          "args": [
           "3324258206112810864"
          ],
          "function": "NDArrayCompat.from_ndarray"
         }
        ],
        "-1749051929928717773": [
         "-1749051929928717773",
         {
          "args": [
           "-5882035132617130320"
          ],
          "function": "Converter.convert",
          "type_params": {
           "T": {
            "type": "NDArray"
           }
          }
         }
        ],
        "-1772126965539794600": [
         "-4772016795270189587",
         {
          "args": [
           "-6652966630813919611"
          ],
          "function": "NDArrayCompat.from_ndarray"
         }
        ],
        "-1828603300170214036": [
         "7129645178974278596",
         {
          "args": [
           "4767376851968140894",
           "4767376851968140894"
          ],
          "function": "NDArrayCompat.__add__"
         }
        ],
        "-1856686504879412950": [
         "-1749051929928717773",
         {
          "args": [
           "1169847192571894291"
          ],
          "function": "Converter.convert",
          "type_params": {
           "T": {
            "type": "NDArray"
           }
          }
         }
        ],
        "-1866940111291859890": [
         "-1866940111291859890",
         {
          "args": [
           "-7462374446910505064"
          ],
          "function": "NDArrayCompat.from_ndarray"
         }
        ],
        "-1894269937027086384": [
         "-1894269937027086384",
         {
          "args": [
           "-4855096197904090350"
          ],
          "function": "Abstraction.from_fn"
         }
        ],
        "-189545260843302981": [
         "-4179875107795948895",
         {
          "args": [
           "-8215238012704140842"
          ],
          "function": "Maybe.just"
         }
        ],
        "-1924374774179630987": [
         "-1924374774179630987",
         {
          "args": [
           "-5480872129034902157"
          ],
          "function": "Maybe.just",
          "type_params": {
           "T": {
            "params": {
             "T": {
              "type": "Integer"
             },
             "U": {
              "params": {
               "T": {
                "type": "Integer"
               }
              },
              "type": "Vec"
             }
            },
            "type": "Either"
           }
          }
         }
        ],
        "-1936177253702646637": [
         "-1341672716970475800",
         {
          "args": [
           "-5924177586350510988",
           "7733020047603416001"
          ],
          "function": "ndarray_getitem"
         }
        ],
        "-1951196616839732642": [
         "-1749051929928717773",
         {
          "args": [
           "7592179541745765004"
          ],
          "function": "Converter.convert",
          "type_params": {
           "T": {
            "type": "NDArray"
           }
          }
         }
        ],
        "-1977950438652841629": [
         "-1341672716970475800",
         {
          "args": [
           "-1559019789466886495",
           "-7737040241182541916"
          ],
          "function": "ndarray_getitem"
         }
        ],
        "-2079565683212384912": [
         "8017410877576515236",
         {
          "args": [
           "-2410300585153220666",
           "-1294418605310832295"
          ],
          "function": "Maybe.__and__",
          "type_params": {
           "T": {
            "type": "NDArray"
           }
          }
         }
        ],
        "-2100882838647274091": [
         "-6233320591470718265",
         {
          "args": [
           "-4838891889665744714",
           "2768963656221963327"
          ],
          "function": "Abstraction.create"
         }
        ],
        "-2111545206662722391": [
         "-4772016795270189587",
         {
          "args": [
           "-1426540454524810074"
          ],
          "function": "NDArrayCompat.from_ndarray"
         }
        ],
        "-2278760497717732240": [
         "-4772016795270189587",
         {
          "args": [
           "-6083264147707509651"
          ],
          "function": "NDArrayCompat.from_ndarray"
         }
        ],
        "-2344483244357926298": [
         "-2344483244357926298",
         {
          "args": [
           "-8524737889970717860"
          ],
          "function": "Maybe.just",
          "type_params": {
           "T": {
            "type": "NDArray"
           }
          }
         }
        ],
        "-2410300585153220666": [
         "-2410300585153220666",
         {
          "args": [
           "7129645178974278596"
          ],
          "function": "Converter.convert",
          "type_params": {
           "T": {
            "type": "NDArray"
           }
          }
         }
        ],
        "-2443851899239552952": [
         "-1341672716970475800",
         {
          "args": [
           "-5924177586350510988",
           "-7737040241182541916"
          ],
          "function": "ndarray_getitem"
         }
        ],
        "-2445372945765011691": [
         "-5924177586350510988",
         {
          "repr": "array([  0,   2,   4,   6,   8,  10,  12,  14,  16,  18,  20,  22,  24,\n        26,  28,  30,  32,  34,  36,  38,  40,  42,  44,  46,  48,  50,\n        52,  54,  56,  58,  60,  62,  64,  66,  68,  70,  72,  74,  76,\n        78,  80,  82,  84,  86,  88,  90,  92,  94,  96,  98, 100, 102,\n       104, 106, 108, 110, 112, 114, 116, 118, 120, 122, 124, 126, 128,\n       130, 132, 134, 136, 138, 140, 142, 144, 146, 148, 150, 152, 154,\n       156, 158, 160, 162, 164, 166, 168, 170, 172, 174, 176, 178, 180,\n       182, 184, 186, 188, 190, 192, 194, 196, 198])",
          "type": "ndarray"
         }
        ],
        "-2445374449678023291": [
         "-4554451458422625093",
         {
          "repr": "array([ 0,  1,  2,  3,  4,  5,  6,  7,  8,  9, 10, 11, 12, 13, 14, 15, 16,\n       17, 18, 19, 20, 21, 22, 23, 24, 25, 26, 27, 28, 29, 30, 31, 32, 33,\n       34, 35, 36, 37, 38, 39, 40, 41, 42, 43, 44, 45, 46, 47, 48, 49, 50,\n       51, 52, 53, 54, 55, 56, 57, 58, 59, 60, 61, 62, 63, 64, 65, 66, 67,\n       68, 69, 70, 71, 72, 73, 74, 75, 76, 77, 78, 79, 80, 81, 82, 83, 84,\n       85, 86, 87, 88, 89, 90, 91, 92, 93, 94, 95, 96, 97, 98, 99])",
          "type": "ndarray"
         }
        ],
        "-2445374578715003291": [
         "-1341672716970475800",
         {
          "repr": "array(10)",
          "type": "ndarray"
         }
        ],
        "-2556112163304457": [
         "-2745558395708079455",
         {
          "args": [
           "5958914858003784629"
          ],
          "function": "Maybe.just"
         }
        ],
        "-2639700773170616961": [
         "-1341672716970475800",
         {
          "args": [
           "-113230044411850379",
           "-7737040241182541916"
          ],
          "function": "ndarray_getitem"
         }
        ],
        "-2676261573324356569": [
         "-6233320591470718265",
         {
          "args": [
           "6161012702387631447",
           "-3632599159356222693"
          ],
          "function": "Abstraction.__add__",
          "type_params": {
           "T": {
            "params": {
             "T": {
              "type": "Integer"
             },
             "U": {
              "params": {
               "T": {
                "type": "Integer"
               }
              },
              "type": "Vec"
             }
            },
            "type": "Either"
           },
           "U": {
            "params": {
             "T": {
              "params": {
               "T": {
                "type": "Integer"
               },
               "U": {
                "params": {
                 "T": {
                  "type": "Integer"
                 }
                },
                "type": "Vec"
               }
              },
              "type": "Either"
             }
            },
            "type": "Maybe"
           }
          }
         }
        ],
        "-2718709984261421422": [
         "6119802382549264123",
         {
          "args": [
           "6054610842773739130",
           "205164300450344970"
          ],
          "function": "Maybe.__or__",
          "type_params": {
           "T": {
            "params": {
             "T": {
              "type": "Integer"
             },
             "U": {
              "params": {
               "T": {
                "type": "Integer"
               }
              },
              "type": "Vec"
             }
            },
            "type": "Either"
           }
          }
         }
        ],
        "-2745558395708079455": [
         "-2745558395708079455",
         {
          "args": [
           "-1749051929928717773",
           "-4179875107795948895"
          ],
          "function": "Maybe.__and__",
          "type_params": {
           "T": {
            "type": "NDArray"
           }
          }
         }
        ],
        "-2757863483019960227": [
         "-2757863483019960227",
         {
          "args": [
           "-1894269937027086384",
           "-4643297354090513087"
          ],
          "function": "Abstraction.__add__",
          "type_params": {
           "T": {
            "type": "NDArray"
           },
           "U": {
            "params": {
             "T": {
              "type": "NDArray"
             }
            },
            "type": "Maybe"
           }
          }
         }
        ],
        "-2825182354181474218": [
         "-1341672716970475800",
         {
          "args": [
           "-6431450014531788569"
          ],
          "function": "NDArrayCompat.to_ndarray"
         }
        ],
        "-2827158518281892059": [
         "6939635006650947043",
         {
          "args": [
           "-1106245085015694132",
           "8044185514099529250"
          ],
          "function": "Maybe.map",
          "type_params": {
           "T": {
            "params": {
             "T": {
              "type": "NDArray"
             },
             "U": {
              "params": {
               "T": {
                "type": "Integer"
               },
               "U": {
                "params": {
                 "T": {
                  "type": "Integer"
                 }
                },
                "type": "Vec"
               }
              },
              "type": "Either"
             }
            },
            "type": "Pair"
           }
          }
         }
        ],
        "-2838797792369224052": [
         "-2838797792369224052",
         {
          "args": [
           "-3343294864562084740",
           "-5480872129034902157"
          ],
          "function": "Abstraction.create",
          "type_params": {
           "T": {
            "params": {
             "T": {
              "type": "Integer"
             }
            },
            "type": "Vec"
           },
           "U": {
            "params": {
             "T": {
              "type": "Integer"
             },
             "U": {
              "params": {
               "T": {
                "type": "Integer"
               }
              },
              "type": "Vec"
             }
            },
            "type": "Either"
           }
          }
         }
        ],
        "-2879884706675895873": [
         "5626037285224763133",
         {
          "args": [
           "-8215238012704140842"
          ],
          "function": "Maybe.just",
          "type_params": {
           "T": {
            "params": {
             "T": {
              "type": "Integer"
             },
             "U": {
              "params": {
               "T": {
                "type": "Integer"
               }
              },
              "type": "Vec"
             }
            },
            "type": "Either"
           }
          }
         }
        ],
        "-2894682877572236733": [
         "-1749051929928717773",
         {
          "args": [
           "-6133007377419551008"
          ],
          "function": "Converter.convert",
          "type_params": {
           "T": {
            "type": "NDArray"
           }
          }
         }
        ],
        "-2918344087609665020": [
         "6939635006650947043",
         {
          "args": [
           "7159771746246499725",
           "9032834383112645395",
           "1513986338388351247"
          ],
          "function": "Maybe.match",
          "type_params": {
           "T": {
            "params": {
             "T": {
              "type": "NDArray"
             },
             "U": {
              "params": {
               "T": {
                "type": "Integer"
               },
               "U": {
                "params": {
                 "T": {
                  "type": "Integer"
                 }
                },
                "type": "Vec"
               }
              },
              "type": "Either"
             }
            },
            "type": "Pair"
           }
          }
         }
        ],
        "-3024880416446209613": [
         "-1341672716970475800",
         {
          "args": [
           "-833506588770071300"
          ],
          "function": "NDArrayCompat.to_ndarray"
         }
        ],
        "-3104718932427049796": [
         "8017410877576515236",
         {
          "args": [
           "1132426380630645017",
           "-2718709984261421422"
          ],
          "function": "Maybe.__and__",
          "type_params": {
           "T": {
            "type": "NDArray"
           }
          }
         }
        ],
        "-31330893029341675": [
         "-4179875107795948895",
         {
          "args": [
           "-2879884706675895873",
           "-4184050986479448354"
          ],
          "function": "Maybe.__or__",
          "type_params": {
           "T": {
            "params": {
             "T": {
              "type": "Integer"
             },
             "U": {
              "params": {
               "T": {
                "type": "Integer"
               }
              },
              "type": "Vec"
             }
            },
            "type": "Either"
           }
          }
         }
        ],
        "-3190917013023287780": [
         "-1341672716970475800",
         {
          "args": [
           "760278491628587479"
          ],
          "function": "NDArrayCompat.to_ndarray"
         }
        ],
        "-321562744041360046": [
         "6939635006650947043",
         {
          "args": [
           "-7004563630179665879",
           "9032834383112645395",
           "1064563450086600191"
          ],
          "function": "Maybe.match",
          "type_params": {
           "T": {
            "params": {
             "T": {
              "type": "NDArray"
             },
             "U": {
              "params": {
               "T": {
                "type": "Integer"
               },
               "U": {
                "params": {
                 "T": {
                  "type": "Integer"
                 }
                },
                "type": "Vec"
               }
              },
              "type": "Either"
             }
            },
            "type": "Pair"
           }
          }
         }
        ],
        "-3273994636484566759": [
         "-4772016795270189587",
         {
          "args": [
           "-1315959686832490410"
          ],
          "function": "NDArrayCompat.from_ndarray"
         }
        ],
        "-3277789661791732314": [
         "-1341672716970475800",
         {
          "args": [
           "5377129414771497715"
          ],
          "function": "NDArrayCompat.to_ndarray"
         }
        ],
        "-3343294864562084740": [
         "-3343294864562084740",
         {
          "args": [
           "4954432134779905524"
          ],
          "function": "Abstraction.create_variable",
          "type_params": {
           "T": {
            "params": {
             "T": {
              "type": "Integer"
             }
            },
            "type": "Vec"
           },
           "U": {
            "params": {
             "T": {
              "type": "Integer"
             },
             "U": {
              "params": {
               "T": {
                "type": "Integer"
               }
              },
              "type": "Vec"
             }
            },
            "type": "Either"
           }
          }
         }
        ],
        "-3356027047693951489": [
         "8017410877576515236",
         {
          "args": [
           "4408648251278560909",
           "-4219785196091962386"
          ],
          "function": "Maybe.__and__",
          "type_params": {
           "T": {
            "type": "NDArray"
           }
          }
         }
        ],
        "-3397692373671775358": [
         "-5882035132617130320",
         {
          "args": [
           "85294802253499659",
           "85294802253499659"
          ],
          "function": "NDArrayCompat.__add__"
         }
        ],
        "-3508081724970013213": [
         "-3508081724970013213",
         {
          "args": [
           "5534931599655894334"
          ],
          "function": "arange_"
         }
        ],
        "-3617702396224439611": [
         "-1341672716970475800",
         {
          "args": [
           "982187547023505739",
           "-7737040241182541916"
          ],
          "function": "ndarray_getitem"
         }
        ],
        "-3632599159356222693": [
         "-3632599159356222693",
         {
          "args": [
           "-4838891889665744714",
           "-5428197908604838827"
          ],
          "function": "Abstraction.create",
          "type_params": {
           "T": {
            "type": "Integer"
           },
           "U": {
            "params": {
             "T": {
              "type": "Integer"
             },
             "U": {
              "params": {
               "T": {
                "type": "Integer"
               }
              },
              "type": "Vec"
             }
            },
            "type": "Either"
           }
          }
         }
        ],
        "-3649073181195851312": [
         "6939635006650947043",
         {
          "args": [
           "4126831484520287483",
           "9032834383112645395",
           "1513986338388351247"
          ],
          "function": "Maybe.match",
          "type_params": {
           "T": {
            "params": {
             "T": {
              "type": "NDArray"
             },
             "U": {
              "params": {
               "T": {
                "type": "Integer"
               },
               "U": {
                "params": {
                 "T": {
                  "type": "Integer"
                 }
                },
                "type": "Vec"
               }
              },
              "type": "Either"
             }
            },
            "type": "Pair"
           }
          }
         }
        ],
        "-3694455690306176878": [
         "-1341672716970475800",
         {
          "args": [
           "-2111545206662722391"
          ],
          "function": "NDArrayCompat.to_ndarray"
         }
        ],
        "-3791942308469970679": [
         "-3791942308469970679",
         {
          "args": [
           "5958914858003784629"
          ],
          "function": "Pair.left",
          "type_params": {
           "T": {
            "type": "NDArray"
           },
           "U": {
            "params": {
             "T": {
              "type": "Integer"
             },
             "U": {
              "params": {
               "T": {
                "type": "Integer"
               }
              },
              "type": "Vec"
             }
            },
            "type": "Either"
           }
          }
         }
        ],
        "-3794084279707917178": [
         "-3794084279707917178",
         {
          "args": [
           "-8215238012704140842"
          ],
          "function": "unbox_idxs"
         }
        ],
        "-3840159583336959838": [
         "-4772016795270189587",
         {
          "args": [
           "2341006719661882768"
          ],
          "function": "NDArrayCompat.from_ndarray"
         }
        ],
        "-3907054814130951697": [
         "-1341672716970475800",
         {
          "args": [
           "-2278760497717732240"
          ],
          "function": "NDArrayCompat.to_ndarray"
         }
        ],
        "-3933652525115683988": [
         "-3933652525115683988",
         {
          "args": [
           "2013462788875869881",
           "-2838797792369224052"
          ],
          "function": "Abstraction.__add__",
          "type_params": {
           "T": {
            "params": {
             "T": {
              "type": "Integer"
             },
             "U": {
              "params": {
               "T": {
                "type": "Integer"
               }
              },
              "type": "Vec"
             }
            },
            "type": "Either"
           },
           "U": {
            "params": {
             "T": {
              "params": {
               "T": {
                "type": "Integer"
               },
               "U": {
                "params": {
                 "T": {
                  "type": "Integer"
                 }
                },
                "type": "Vec"
               }
              },
              "type": "Either"
             }
            },
            "type": "Maybe"
           }
          }
         }
        ],
        "-3991141096639023881": [
         "5626037285224763133",
         {
          "args": [
           "-1372317109959694973",
           "542625740483342888",
           "-6233320591470718265"
          ],
          "function": "Maybe.match",
          "type_params": {
           "T": {
            "type": "Integer"
           }
          }
         }
        ],
        "-4118936360968403820": [
         "6939635006650947043",
         {
          "args": [
           "-4849121165648023211"
          ],
          "function": "Maybe.just",
          "type_params": {
           "T": {
            "type": "NDArray"
           }
          }
         }
        ],
        "-4161268223004706061": [
         "-1749051929928717773",
         {
          "args": [
           "-5697007707504983312"
          ],
          "function": "Converter.convert",
          "type_params": {
           "T": {
            "type": "NDArray"
           }
          }
         }
        ],
        "-4167769655553708545": [
         "-4167769655553708545",
         {
          "args": [
           "-4268939921069936459"
          ],
          "function": "Abstraction.create_variable",
          "type_params": {
           "T": {
            "params": {
             "T": {
              "type": "NDArray"
             },
             "U": {
              "params": {
               "T": {
                "type": "Integer"
               },
               "U": {
                "params": {
                 "T": {
                  "type": "Integer"
                 }
                },
                "type": "Vec"
               }
              },
              "type": "Either"
             }
            },
            "type": "Pair"
           },
           "U": {
            "type": "NDArray"
           }
          }
         }
        ],
        "-4179875107795948895": [
         "-4179875107795948895",
         {
          "args": [
           "5626037285224763133",
           "-686259872675126378"
          ],
          "function": "Maybe.__or__",
          "type_params": {
           "T": {
            "params": {
             "T": {
              "type": "Integer"
             },
             "U": {
              "params": {
               "T": {
                "type": "Integer"
               }
              },
              "type": "Vec"
             }
            },
            "type": "Either"
           }
          }
         }
        ],
        "-4184050986479448354": [
         "-686259872675126378",
         {
          "args": [
           "-7726250483385592724",
           "542625740483342888",
           "-8746636000305035507"
          ],
          "function": "Maybe.match",
          "type_params": {
           "T": {
            "params": {
             "T": {
              "type": "Integer"
             }
            },
            "type": "Vec"
           }
          }
         }
        ],
        "-4219785196091962386": [
         "6119802382549264123",
         {
          "args": [
           "6054610842773739130",
           "-686259872675126378"
          ],
          "function": "Maybe.__or__",
          "type_params": {
           "T": {
            "params": {
             "T": {
              "type": "Integer"
             },
             "U": {
              "params": {
               "T": {
                "type": "Integer"
               }
              },
              "type": "Vec"
             }
            },
            "type": "Either"
           }
          }
         }
        ],
        "-4268939921069936459": [
         "-4268939921069936459",
         {
          "repr": "Variable(4763018240)",
          "type": "Variable"
         }
        ],
        "-4308935643043434189": [
         "-4308935643043434189",
         {
          "args": [
           "-7737040241287546841"
          ],
          "function": "Converter.convert",
          "type_params": {
           "T": {
            "type": "Integer"
           }
          }
         }
        ],
        "-4321933172678497012": [
         "-5882035132617130320",
         {
          "args": [
           "1189092641968672543"
          ],
          "function": "NDArrayCompat.from_ndarray"
         }
        ],
        "-4481768432007567430": [
         "6939635006650947043",
         {
          "args": [
           "-7615697552685954483",
           "9032834383112645395",
           "-1475646575536360333"
          ],
          "function": "Maybe.match",
          "type_params": {
           "T": {
            "params": {
             "T": {
              "type": "NDArray"
             },
             "U": {
              "params": {
               "T": {
                "type": "Integer"
               },
               "U": {
                "params": {
                 "T": {
                  "type": "Integer"
                 }
                },
                "type": "Vec"
               }
              },
              "type": "Either"
             }
            },
            "type": "Pair"
           }
          }
         }
        ],
        "-4554451458422625093": [
         "-4554451458422625093",
         {
          "args": [
           "832424711665835764"
          ],
          "function": "NDArray.to_ndarray"
         }
        ],
        "-4581163656322613336": [
         "-2745558395708079455",
         {
          "args": [
           "3066644644135941110",
           "-189545260843302981"
          ],
          "function": "Maybe.__and__",
          "type_params": {
           "T": {
            "type": "NDArray"
           }
          }
         }
        ],
        "-4622957158978552332": [
         "-2745558395708079455",
         {
          "args": [
           "6359800707896431793",
           "-189545260843302981"
          ],
          "function": "Maybe.__and__",
          "type_params": {
           "T": {
            "type": "NDArray"
           }
          }
         }
        ],
        "-4643297354090513087": [
         "-4643297354090513087",
         {
          "args": [
           "5534931599655894334",
           "-3508081724970013213"
          ],
          "function": "Abstraction.create",
          "type_params": {
           "T": {
            "type": "Integer"
           },
           "U": {
            "type": "NDArray"
           }
          }
         }
        ],
        "-4688074193271864291": [
         "6939635006650947043",
         {
          "args": [
           "-4581163656322613336",
           "9032834383112645395",
           "-1475646575536360333"
          ],
          "function": "Maybe.match",
          "type_params": {
           "T": {
            "params": {
             "T": {
              "type": "NDArray"
             },
             "U": {
              "params": {
               "T": {
                "type": "Integer"
               },
               "U": {
                "params": {
                 "T": {
                  "type": "Integer"
                 }
                },
                "type": "Vec"
               }
              },
              "type": "Either"
             }
            },
            "type": "Pair"
           }
          }
         }
        ],
        "-4716166471986464590": [
         "-4716166471986464590",
         {
          "args": [
           "-7737040241182541916"
          ],
          "function": "Converter.convert",
          "type_params": {
           "T": {
            "type": "Integer"
           }
          }
         }
        ],
        "-4770996305368769695": [
         "6939635006650947043",
         {
          "args": [
           "-5669141933493320923",
           "9032834383112645395",
           "-1475646575536360333"
          ],
          "function": "Maybe.match",
          "type_params": {
           "T": {
            "params": {
             "T": {
              "type": "NDArray"
             },
             "U": {
              "params": {
               "T": {
                "type": "Integer"
               },
               "U": {
                "params": {
                 "T": {
                  "type": "Integer"
                 }
                },
                "type": "Vec"
               }
              },
              "type": "Either"
             }
            },
            "type": "Pair"
           }
          }
         }
        ],
        "-4772016795270189587": [
         "-4772016795270189587",
         {
          "args": [
           "7129645178974278596",
           "-7737040241182541916"
          ],
          "function": "NDArrayCompat.__getitem__"
         }
        ],
        "-4838891889665744714": [
         "-4838891889665744714",
         {
          "args": [
           "4954432145743718724"
          ],
          "function": "Abstraction.create_variable",
          "type_params": {
           "T": {
            "type": "Integer"
           },
           "U": {
            "params": {
             "T": {
              "type": "Integer"
             },
             "U": {
              "params": {
               "T": {
                "type": "Integer"
               }
              },
              "type": "Vec"
             }
            },
            "type": "Either"
           }
          }
         }
        ],
        "-4849121165648023211": [
         "-7358658533967007486",
         {
          "args": [
           "-3791942308469970679",
           "-8215238012704140842"
          ],
          "function": "NDArray.__getitem__"
         }
        ],
        "-4855096197904090350": [
         "-4855096197904090350",
         {
          "repr": "Maybe.just",
          "type": "BoundInfer"
         }
        ],
        "-4896702136590049048": [
         "-4896702136590049048",
         {
          "repr": "Either.left",
          "type": "BoundInfer"
         }
        ],
        "-5163977376757507089": [
         "-4772016795270189587",
         {
          "args": [
           "-1273642328414840872"
          ],
          "function": "NDArrayCompat.from_ndarray"
         }
        ],
        "-5245592682600195630": [
         "5626037285224763133",
         {
          "args": [
           "-2100882838647274091",
           "2507768681348984026"
          ],
          "function": "Abstraction.__call__",
          "type_params": {
           "T": {
            "type": "Integer"
           },
           "U": {
            "params": {
             "T": {
              "params": {
               "T": {
                "type": "Integer"
               },
               "U": {
                "params": {
                 "T": {
                  "type": "Integer"
                 }
                },
                "type": "Vec"
               }
              },
              "type": "Either"
             }
            },
            "type": "Maybe"
           }
          }
         }
        ],
        "-5261768831398728211": [
         "6939635006650947043",
         {
          "args": [
           "8500012095767421056",
           "9032834383112645395",
           "1513986338388351247"
          ],
          "function": "Maybe.match",
          "type_params": {
           "T": {
            "params": {
             "T": {
              "type": "NDArray"
             },
             "U": {
              "params": {
               "T": {
                "type": "Integer"
               },
               "U": {
                "params": {
                 "T": {
                  "type": "Integer"
                 }
                },
                "type": "Vec"
               }
              },
              "type": "Either"
             }
            },
            "type": "Pair"
           }
          }
         }
        ],
        "-5297356175593613083": [
         "-5297356175593613083",
         {
          "args": [
           "-4716166471986464590",
           "-6964590781432730370"
          ],
          "function": "Maybe.map",
          "type_params": {
           "T": {
            "type": "Integer"
           }
          }
         }
        ],
        "-5345493222470733700": [
         "-4772016795270189587",
         {
          "args": [
           "-3649073181195851312"
          ],
          "function": "NDArrayCompat.from_ndarray"
         }
        ],
        "-5414010870836819202": [
         "-1341672716970475800",
         {
          "args": [
           "-5163977376757507089"
          ],
          "function": "NDArrayCompat.to_ndarray"
         }
        ],
        "-5426302648562200192": [
         "-4554451458422625093",
         {
          "args": [
           "-7737040241287546841"
          ],
          "function": "arange"
         }
        ],
        "-5428197908604838827": [
         "-5428197908604838827",
         {
          "args": [
           "-4838891889665744714"
          ],
          "function": "Either.left",
          "type_params": {
           "T": {
            "type": "Integer"
           },
           "U": {
            "params": {
             "T": {
              "type": "Integer"
             }
            },
            "type": "Vec"
           }
          }
         }
        ],
        "-5480872129034902157": [
         "-5480872129034902157",
         {
          "args": [
           "-3343294864562084740"
          ],
          "function": "Either.right",
          "type_params": {
           "T": {
            "type": "Integer"
           },
           "U": {
            "params": {
             "T": {
              "type": "Integer"
             }
            },
            "type": "Vec"
           }
          }
         }
        ],
        "-5552714216057777141": [
         "-2757863483019960227",
         {
          "args": [
           "5534931599655894334",
           "-8557706869624120959"
          ],
          "function": "Abstraction.create"
         }
        ],
        "-5669141933493320923": [
         "-2745558395708079455",
         {
          "args": [
           "-1856686504879412950",
           "-189545260843302981"
          ],
          "function": "Maybe.__and__",
          "type_params": {
           "T": {
            "type": "NDArray"
           }
          }
         }
        ],
        "-5685572929299947036": [
         "-5685572929299947036",
         {
          "repr": "arange_",
          "type": "Infer"
         }
        ],
        "-5697007707504983312": [
         "-5882035132617130320",
         {
          "args": [
           "9133257758617415926",
           "-7013849389704253342"
          ],
          "function": "NDArrayCompat.__add__"
         }
        ],
        "-57591596287814518": [
         "-4772016795270189587",
         {
          "args": [
           "3351888507285081000"
          ],
          "function": "NDArrayCompat.from_ndarray"
         }
        ],
        "-5770802273742654456": [
         "-4772016795270189587",
         {
          "args": [
           "-149164474730248205"
          ],
          "function": "NDArrayCompat.from_ndarray"
         }
        ],
        "-5882035132617130320": [
         "-5882035132617130320",
         {
          "args": [
           "-8766707318650306503",
           "-8766707318650306503"
          ],
          "function": "NDArrayCompat.__add__"
         }
        ],
        "-5924177586350510988": [
         "-5924177586350510988",
         {
          "args": [
           "7005412116804673500"
          ],
          "function": "NDArray.to_ndarray"
         }
        ],
        "-5936625044764418544": [
         "-1749051929928717773",
         {
          "args": [
           "-3397692373671775358"
          ],
          "function": "Converter.convert",
          "type_params": {
           "T": {
            "type": "NDArray"
           }
          }
         }
        ],
        "-5945887149520679823": [
         "-5945887149520679823",
         {
          "args": [
           "-1313138448651871637"
          ],
          "function": "unbox_integer"
         }
        ],
        "-5997114801345373511": [
         "6939635006650947043",
         {
          "args": [
           "1593659104146491759",
           "9032834383112645395",
           "1513986338388351247"
          ],
          "function": "Maybe.match",
          "type_params": {
           "T": {
            "params": {
             "T": {
              "type": "NDArray"
             },
             "U": {
              "params": {
               "T": {
                "type": "Integer"
               },
               "U": {
                "params": {
                 "T": {
                  "type": "Integer"
                 }
                },
                "type": "Vec"
               }
              },
              "type": "Either"
             }
            },
            "type": "Pair"
           }
          }
         }
        ],
        "-6048131664248139973": [
         "-6048131664248139973",
         {
          "args": [
           "-8524737889970717860",
           "-2344483244357926298"
          ],
          "function": "Abstraction.create",
          "type_params": {
           "T": {
            "type": "NDArray"
           },
           "U": {
            "params": {
             "T": {
              "type": "NDArray"
             }
            },
            "type": "Maybe"
           }
          }
         }
        ],
        "-605144421018846031": [
         "-5924177586350510988",
         {
          "args": [
           "-4554451458422625093",
           "-4554451458422625093"
          ],
          "function": "ndarray_add"
         }
        ],
        "-6059403141323843149": [
         "-6059403141323843149",
         {
          "args": [
           "-1313138448651871637"
          ],
          "function": "Maybe.just"
         }
        ],
        "-6083264147707509651": [
         "6939635006650947043",
         {
          "args": [
           "-1475646575536360333",
           "5958914858003784629"
          ],
          "function": "Abstraction.__call__",
          "type_params": {
           "T": {
            "params": {
             "T": {
              "type": "NDArray"
             },
             "U": {
              "params": {
               "T": {
                "type": "Integer"
               },
               "U": {
                "params": {
                 "T": {
                  "type": "Integer"
                 }
                },
                "type": "Vec"
               }
              },
              "type": "Either"
             }
            },
            "type": "Pair"
           },
           "U": {
            "params": {
             "T": {
              "type": "NDArray"
             }
            },
            "type": "Maybe"
           }
          }
         }
        ],
        "-6111134292761862292": [
         "-8766707318650306503",
         {
          "args": [
           "1646416269224374271"
          ],
          "function": "NDArrayCompat.from_ndarray"
         }
        ],
        "-6133007377419551008": [
         "-5882035132617130320",
         {
          "args": [
           "-1866940111291859890",
           "-1866940111291859890"
          ],
          "function": "NDArrayCompat.__add__"
         }
        ],
        "-6173825308431995239": [
         "-5882035132617130320",
         {
          "args": [
           "85294802253499659",
           "-1866940111291859890"
          ],
          "function": "NDArrayCompat.__add__"
         }
        ],
        "-6175040583256772104": [
         "-6175040583256772104",
         {
          "args": [
           "-6059403141323843149",
           "-4643297354090513087"
          ],
          "function": "Maybe.map",
          "type_params": {
           "T": {
            "type": "Integer"
           }
          }
         }
        ],
        "-6233320591470718265": [
         "-6233320591470718265",
         {
          "args": [
           "2013462788875869881",
           "-3632599159356222693"
          ],
          "function": "Abstraction.__add__",
          "type_params": {
           "T": {
            "params": {
             "T": {
              "type": "Integer"
             },
             "U": {
              "params": {
               "T": {
                "type": "Integer"
               }
              },
              "type": "Vec"
             }
            },
            "type": "Either"
           },
           "U": {
            "params": {
             "T": {
              "params": {
               "T": {
                "type": "Integer"
               },
               "U": {
                "params": {
                 "T": {
                  "type": "Integer"
                 }
                },
                "type": "Vec"
               }
              },
              "type": "Either"
             }
            },
            "type": "Maybe"
           }
          }
         }
        ],
        "-6295496828373215480": [
         "-1341672716970475800",
         {
          "args": [
           "61788817184424843"
          ],
          "function": "NDArrayCompat.to_ndarray"
         }
        ],
        "-6366347408110540668": [
         "-6366347408110540668",
         {
          "args": [
           "-4167769655553708545"
          ],
          "function": "Pair.right",
          "type_params": {
           "T": {
            "type": "NDArray"
           },
           "U": {
            "params": {
             "T": {
              "type": "Integer"
             },
             "U": {
              "params": {
               "T": {
                "type": "Integer"
               }
              },
              "type": "Vec"
             }
            },
            "type": "Either"
           }
          }
         }
        ],
        "-6431450014531788569": [
         "-4772016795270189587",
         {
          "args": [
           "1757153991661204000"
          ],
          "function": "NDArrayCompat.from_ndarray"
         }
        ],
        "-6584392053997967718": [
         "7129645178974278596",
         {
          "args": [
           "-8012671916351216724",
           "-8012671916351216724"
          ],
          "function": "NDArrayCompat.__add__"
         }
        ],
        "-662424398955294436": [
         "-1341672716970475800",
         {
          "args": [
           "8444130643071199444"
          ],
          "function": "NDArrayCompat.to_ndarray"
         }
        ],
        "-6652966630813919611": [
         "6939635006650947043",
         {
          "args": [
           "-130684388737434378"
          ],
          "function": "Maybe.just",
          "type_params": {
           "T": {
            "type": "NDArray"
           }
          }
         }
        ],
        "-6827753017227246919": [
         "-6175040583256772104",
         {
          "args": [
           "-5552714216057777141",
           "-1313138448651871637"
          ],
          "function": "Abstraction.__call__",
          "type_params": {
           "T": {
            "type": "Integer"
           },
           "U": {
            "params": {
             "T": {
              "type": "NDArray"
             }
            },
            "type": "Maybe"
           }
          }
         }
        ],
        "-686259872675126378": [
         "-686259872675126378",
         {
          "args": [
           "-7726250483385592724",
           "-2838797792369224052"
          ],
          "function": "Maybe.map",
          "type_params": {
           "T": {
            "params": {
             "T": {
              "type": "Integer"
             }
            },
            "type": "Vec"
           }
          }
         }
        ],
        "-6892723423229494128": [
         "-1341672716970475800",
         {
          "args": [
           "7882815027939522544"
          ],
          "function": "NDArrayCompat.to_ndarray"
         }
        ],
        "-6964590781432730370": [
         "-6964590781432730370",
         {
          "args": [
           "-4896702136590049048"
          ],
          "function": "Abstraction.from_fn"
         }
        ],
        "-7000641557897437974": [
         "-1341672716970475800",
         {
          "args": [
           "-3840159583336959838"
          ],
          "function": "NDArrayCompat.to_ndarray"
         }
        ],
        "-7004563630179665879": [
         "-2745558395708079455",
         {
          "args": [
           "-4161268223004706061",
           "-7706353315301755638"
          ],
          "function": "Maybe.__and__",
          "type_params": {
           "T": {
            "type": "NDArray"
           }
          }
         }
        ],
        "-7013849389704253342": [
         "85294802253499659",
         {
          "args": [
           "1236464281425515729"
          ],
          "function": "NDArrayCompat.from_ndarray"
         }
        ],
        "-7116132093003899109": [
         "-686259872675126378",
         {
          "args": [
           "-7726250483385592724",
           "542625740483342888",
           "-7282077855886877236"
          ],
          "function": "Maybe.match",
          "type_params": {
           "T": {
            "params": {
             "T": {
              "type": "Integer"
             }
            },
            "type": "Vec"
           }
          }
         }
        ],
        "-7130198749653235479": [
         "-2745558395708079455",
         {
          "args": [
           "-4161268223004706061",
           "887510114276199111"
          ],
          "function": "Maybe.__and__",
          "type_params": {
           "T": {
            "type": "NDArray"
           }
          }
         }
        ],
        "-7282077855886877236": [
         "-3933652525115683988",
         {
          "args": [
           "6161012702387631447",
           "-2838797792369224052"
          ],
          "function": "Abstraction.__add__",
          "type_params": {
           "T": {
            "params": {
             "T": {
              "type": "Integer"
             },
             "U": {
              "params": {
               "T": {
                "type": "Integer"
               }
              },
              "type": "Vec"
             }
            },
            "type": "Either"
           },
           "U": {
            "params": {
             "T": {
              "params": {
               "T": {
                "type": "Integer"
               },
               "U": {
                "params": {
                 "T": {
                  "type": "Integer"
                 }
                },
                "type": "Vec"
               }
              },
              "type": "Either"
             }
            },
            "type": "Maybe"
           }
          }
         }
        ],
        "-7305766661394700437": [
         "6939635006650947043",
         {
          "args": [
           "-3356027047693951489",
           "8044185514099529250"
          ],
          "function": "Maybe.map",
          "type_params": {
           "T": {
            "params": {
             "T": {
              "type": "NDArray"
             },
             "U": {
              "params": {
               "T": {
                "type": "Integer"
               },
               "U": {
                "params": {
                 "T": {
                  "type": "Integer"
                 }
                },
                "type": "Vec"
               }
              },
              "type": "Either"
             }
            },
            "type": "Pair"
           }
          }
         }
        ],
        "-7358658533967007486": [
         "-7358658533967007486",
         {
          "args": [
           "-3791942308469970679",
           "3286866018787861345"
          ],
          "function": "NDArray.__getitem__"
         }
        ],
        "-740474970012110432": [
         "-1749051929928717773",
         {
          "args": [
           "4512585717378328880"
          ],
          "function": "Converter.convert",
          "type_params": {
           "T": {
            "type": "NDArray"
           }
          }
         }
        ],
        "-7462374446910505064": [
         "-7462374446910505064",
         {
          "args": [
           "-6059403141323843149",
           "9032834383112645395",
           "-2757863483019960227"
          ],
          "function": "Maybe.match",
          "type_params": {
           "T": {
            "type": "Integer"
           }
          }
         }
        ],
        "-7542731139977118066": [
         "-2745558395708079455",
         {
          "args": [
           "-1749051929928717773",
           "9150030912105211354"
          ],
          "function": "Maybe.__and__",
          "type_params": {
           "T": {
            "type": "NDArray"
           }
          }
         }
        ],
        "-7615697552685954483": [
         "-2745558395708079455",
         {
          "args": [
           "-4161268223004706061",
           "-189545260843302981"
          ],
          "function": "Maybe.__and__",
          "type_params": {
           "T": {
            "type": "NDArray"
           }
          }
         }
        ],
        "-7706353315301755638": [
         "-4179875107795948895",
         {
          "args": [
           "-8086475550023667075",
           "-7116132093003899109"
          ],
          "function": "Maybe.__or__",
          "type_params": {
           "T": {
            "params": {
             "T": {
              "type": "Integer"
             },
             "U": {
              "params": {
               "T": {
                "type": "Integer"
               }
              },
              "type": "Vec"
             }
            },
            "type": "Either"
           }
          }
         }
        ],
        "-7726250483385592724": [
         "-7726250483385592724",
         {
          "args": [
           "-7737040241182541916"
          ],
          "function": "Converter.convert",
          "type_params": {
           "T": {
            "params": {
             "T": {
              "type": "Integer"
             }
            },
            "type": "Vec"
           }
          }
         }
        ],
        "-7737040241182541916": [
         "-3794084279707917178",
         {
          "repr": "5",
          "type": "int"
         }
        ],
        "-7737040241287546841": [
         "-5945887149520679823",
         {
          "repr": "100",
          "type": "int"
         }
        ],
        "-7810628170542737225": [
         "-1341672716970475800",
         {
          "args": [
           "-3273994636484566759"
          ],
          "function": "NDArrayCompat.to_ndarray"
         }
        ],
        "-8012671916351216724": [
         "1450785392786500356",
         {
          "args": [
           "37540587745940159"
          ],
          "function": "NDArrayCompat.from_ndarray"
         }
        ],
        "-8086475550023667075": [
         "5626037285224763133",
         {
          "args": [
           "-2676261573324356569",
           "2507768681348984026"
          ],
          "function": "Abstraction.__call__",
          "type_params": {
           "T": {
            "type": "Integer"
           },
           "U": {
            "params": {
             "T": {
              "params": {
               "T": {
                "type": "Integer"
               },
               "U": {
                "params": {
                 "T": {
                  "type": "Integer"
                 }
                },
                "type": "Vec"
               }
              },
              "type": "Either"
             }
            },
            "type": "Maybe"
           }
          }
         }
        ],
        "-8215238012704140842": [
         "-8215238012704140842",
         {
          "args": [
           "2507768681348984026"
          ],
          "function": "Either.left",
          "type_params": {
           "T": {
            "type": "Integer"
           },
           "U": {
            "params": {
             "T": {
              "type": "Integer"
             }
            },
            "type": "Vec"
           }
          }
         }
        ],
        "-822018105368020607": [
         "-1341672716970475800",
         {
          "args": [
           "-130684388737434378"
          ],
          "function": "NDArray.to_ndarray"
         }
        ],
        "-8285762096060248770": [
         "-8285762096060248770",
         {
          "args": [
           "-1612977471603230740",
           "-6366347408110540668"
          ],
          "function": "NDArray.__getitem__"
         }
        ],
        "-832693358443336927": [
         "-4772016795270189587",
         {
          "args": [
           "2142231791155168270"
          ],
          "function": "NDArrayCompat.from_ndarray"
         }
        ],
        "-833506588770071300": [
         "-4772016795270189587",
         {
          "args": [
           "4032433164182900302"
          ],
          "function": "NDArrayCompat.from_ndarray"
         }
        ],
        "-8524737889970717860": [
         "-8524737889970717860",
         {
          "args": [
           "4954432112593555649"
          ],
          "function": "Abstraction.create_variable",
          "type_params": {
           "T": {
            "type": "NDArray"
           },
           "U": {
            "params": {
             "T": {
              "type": "NDArray"
             }
            },
            "type": "Maybe"
           }
          }
         }
        ],
        "-8557706869624120959": [
         "-8557706869624120959",
         {
          "args": [
           "-3508081724970013213"
          ],
          "function": "Maybe.just",
          "type_params": {
           "T": {
            "type": "NDArray"
           }
          }
         }
        ],
        "-8575755116559007356": [
         "-8575755116559007356",
         {
          "args": [
           "-6048131664248139973",
           "-4643297354090513087"
          ],
          "function": "Abstraction.__add__",
          "type_params": {
           "T": {
            "type": "NDArray"
           },
           "U": {
            "params": {
             "T": {
              "type": "NDArray"
             }
            },
            "type": "Maybe"
           }
          }
         }
        ],
        "-8669550500244779836": [
         "-1341672716970475800",
         {
          "args": [
           "5638101176698137821"
          ],
          "function": "NDArrayCompat.to_ndarray"
         }
        ],
        "-8700729886857831056": [
         "-6175040583256772104",
         {
          "args": [
           "7300742739247956141",
           "-1313138448651871637"
          ],
          "function": "Abstraction.__call__",
          "type_params": {
           "T": {
            "type": "Integer"
           },
           "U": {
            "params": {
             "T": {
              "type": "NDArray"
             }
            },
            "type": "Maybe"
           }
          }
         }
        ],
        "-871166542655442750": [
         "-871166542655442750",
         {
          "args": [
           "1487200333614558642"
          ],
          "function": "Abstraction.from_fn",
          "type_params": {
           "T": {
            "params": {
             "T": {
              "type": "NDArray"
             },
             "U": {
              "params": {
               "T": {
                "type": "Integer"
               },
               "U": {
                "params": {
                 "T": {
                  "type": "Integer"
                 }
                },
                "type": "Vec"
               }
              },
              "type": "Either"
             }
            },
            "type": "Pair"
           },
           "U": {
            "type": "NDArray"
           }
          }
         }
        ],
        "-8746636000305035507": [
         "-3933652525115683988",
         {
          "args": [
           "-3343294864562084740",
           "-1924374774179630987"
          ],
          "function": "Abstraction.create"
         }
        ],
        "-8766707318650306503": [
         "-8766707318650306503",
         {
          "args": [
           "-6175040583256772104"
          ],
          "function": "NDArrayCompat.from_ndarray"
         }
        ],
        "-8896708649560101528": [
         "-8896708649560101528",
         {
          "args": [
           "-4308935643043434189",
           "577873550496070922"
          ],
          "function": "Maybe.map",
          "type_params": {
           "T": {
            "type": "Integer"
           }
          }
         }
        ],
        "-91834066106135924": [
         "-91834066106135924",
         {
          "args": [
           "-8285762096060248770"
          ],
          "function": "Maybe.just",
          "type_params": {
           "T": {
            "type": "NDArray"
           }
          }
         }
        ],
        "-944428355994881963": [
         "-944428355994881963",
         {
          "repr": "Maybe.just",
          "type": "BoundInfer"
         }
        ],
        "1054558087939951220": [
         "-4772016795270189587",
         {
          "args": [
           "-5997114801345373511"
          ],
          "function": "NDArrayCompat.from_ndarray"
         }
        ],
        "1064563450086600191": [
         "1513986338388351247",
         {
          "args": [
           "399900191559359392",
           "8044185514099529250"
          ],
          "function": "Abstraction.__add__",
          "type_params": {
           "T": {
            "type": "NDArray"
           },
           "U": {
            "params": {
             "T": {
              "type": "NDArray"
             }
            },
            "type": "Maybe"
           }
          }
         }
        ],
        "1129541538386884364": [
         "1129541538386884364",
         {
          "args": [
           "-2757863483019960227",
           "-1313138448651871637"
          ],
          "function": "Abstraction.__call__",
          "type_params": {
           "T": {
            "type": "Integer"
           },
           "U": {
            "params": {
             "T": {
              "type": "NDArray"
             }
            },
            "type": "Maybe"
           }
          }
         }
        ],
        "1132426380630645017": [
         "-2410300585153220666",
         {
          "args": [
           "-1828603300170214036"
          ],
          "function": "Converter.convert",
          "type_params": {
           "T": {
            "type": "NDArray"
           }
          }
         }
        ],
        "1169847192571894291": [
         "-5882035132617130320",
         {
          "args": [
           "9133257758617415926",
           "5328415434377642612"
          ],
          "function": "NDArrayCompat.__add__"
         }
        ],
        "1189092641968672543": [
         "-1749051929928717773",
         {
          "args": [
           "7005412116804673500"
          ],
          "function": "Maybe.just"
         }
        ],
        "1236464281425515729": [
         "1129541538386884364",
         {
          "args": [
           "-8575755116559007356",
           "-1313138448651871637"
          ],
          "function": "Abstraction.__call__",
          "type_params": {
           "T": {
            "type": "Integer"
           },
           "U": {
            "params": {
             "T": {
              "type": "NDArray"
             }
            },
            "type": "Maybe"
           }
          }
         }
        ],
        "1432768087770409268": [
         "-5882035132617130320",
         {
          "args": [
           "5328415434377642612",
           "-6111134292761862292"
          ],
          "function": "NDArrayCompat.__add__"
         }
        ],
        "1444425998562204304": [
         "-4772016795270189587",
         {
          "args": [
           "8944486586679779976"
          ],
          "function": "NDArrayCompat.from_ndarray"
         }
        ],
        "1450785392786500356": [
         "1450785392786500356",
         {
          "args": [
           "-7737040241287546841"
          ],
          "function": "arange"
         }
        ],
        "1487200333614558642": [
         "1487200333614558642",
         {
          "repr": "<function NDArrayCompat.__getitem__.<locals>.<lambda> at 0x11be0dea0>",
          "type": "function"
         }
        ],
        "1513986338388351247": [
         "1513986338388351247",
         {
          "args": [
           "-1894269937027086384",
           "8044185514099529250"
          ],
          "function": "Abstraction.__add__",
          "type_params": {
           "T": {
            "type": "NDArray"
           },
           "U": {
            "params": {
             "T": {
              "type": "NDArray"
             }
            },
            "type": "Maybe"
           }
          }
         }
        ],
        "1593659104146491759": [
         "-2745558395708079455",
         {
          "args": [
           "-5936625044764418544",
           "9150030912105211354"
          ],
          "function": "Maybe.__and__",
          "type_params": {
           "T": {
            "type": "NDArray"
           }
          }
         }
        ],
        "1609525582419339293": [
         "-4772016795270189587",
         {
          "args": [
           "7115793578483162895"
          ],
          "function": "NDArrayCompat.from_ndarray"
         }
        ],
        "1614487485264017680": [
         "-2745558395708079455",
         {
          "args": [
           "1189092641968672543",
           "-189545260843302981"
          ],
          "function": "Maybe.__and__",
          "type_params": {
           "T": {
            "type": "NDArray"
           }
          }
         }
        ],
        "1646416269224374271": [
         "-6175040583256772104",
         {
          "args": [
           "832424711665835764"
          ],
          "function": "Maybe.just",
          "type_params": {
           "T": {
            "type": "NDArray"
           }
          }
         }
        ],
        "1757153991661204000": [
         "6939635006650947043",
         {
          "args": [
           "-7358658533967007486"
          ],
          "function": "Maybe.just",
          "type_params": {
           "T": {
            "type": "NDArray"
           }
          }
         }
        ],
        "1800425219063787799": [
         "1800425219063787799",
         {
          "args": [
           "8509920805002676409"
          ],
          "function": "Maybe.just",
          "type_params": {
           "T": {
            "type": "NDArray"
           }
          }
         }
        ],
        "1843766240175379126": [
         "-1749051929928717773",
         {
          "args": [
           "-6173825308431995239"
          ],
          "function": "Converter.convert",
          "type_params": {
           "T": {
            "type": "NDArray"
           }
          }
         }
        ],
        "1908381767751359253": [
         "-1341672716970475800",
         {
          "args": [
           "8066782273380513599"
          ],
          "function": "NDArrayCompat.to_ndarray"
         }
        ],
        "2008626470938325986": [
         "5626037285224763133",
         {
          "args": [
           "-6233320591470718265",
           "2507768681348984026"
          ],
          "function": "Abstraction.__call__",
          "type_params": {
           "T": {
            "type": "Integer"
           },
           "U": {
            "params": {
             "T": {
              "params": {
               "T": {
                "type": "Integer"
               },
               "U": {
                "params": {
                 "T": {
                  "type": "Integer"
                 }
                },
                "type": "Vec"
               }
              },
              "type": "Either"
             }
            },
            "type": "Maybe"
           }
          }
         }
        ],
        "2013462788875869881": [
         "2013462788875869881",
         {
          "args": [
           "-944428355994881963"
          ],
          "function": "Abstraction.from_fn"
         }
        ],
        "2024501887796611605": [
         "6939635006650947043",
         {
          "args": [
           "-7542731139977118066",
           "9032834383112645395",
           "1513986338388351247"
          ],
          "function": "Maybe.match",
          "type_params": {
           "T": {
            "params": {
             "T": {
              "type": "NDArray"
             },
             "U": {
              "params": {
               "T": {
                "type": "Integer"
               },
               "U": {
                "params": {
                 "T": {
                  "type": "Integer"
                 }
                },
                "type": "Vec"
               }
              },
              "type": "Either"
             }
            },
            "type": "Pair"
           }
          }
         }
        ],
        "205164300450344970": [
         "205164300450344970",
         {
          "args": [
           "-7726250483385592724",
           "5566425489881085421"
          ],
          "function": "Maybe.map",
          "type_params": {
           "T": {
            "params": {
             "T": {
              "type": "Integer"
             }
            },
            "type": "Vec"
           }
          }
         }
        ],
        "2142231791155168270": [
         "6939635006650947043",
         {
          "args": [
           "-7004563630179665879",
           "9032834383112645395",
           "-1475646575536360333"
          ],
          "function": "Maybe.match",
          "type_params": {
           "T": {
            "params": {
             "T": {
              "type": "NDArray"
             },
             "U": {
              "params": {
               "T": {
                "type": "Integer"
               },
               "U": {
                "params": {
                 "T": {
                  "type": "Integer"
                 }
                },
                "type": "Vec"
               }
              },
              "type": "Either"
             }
            },
            "type": "Pair"
           }
          }
         }
        ],
        "2255424246898842649": [
         "-4179875107795948895",
         {
          "args": [
           "-8086475550023667075",
           "-4184050986479448354"
          ],
          "function": "Maybe.__or__",
          "type_params": {
           "T": {
            "params": {
             "T": {
              "type": "Integer"
             },
             "U": {
              "params": {
               "T": {
                "type": "Integer"
               }
              },
              "type": "Vec"
             }
            },
            "type": "Either"
           }
          }
         }
        ],
        "2257210080031379373": [
         "-1341672716970475800",
         {
          "args": [
           "-5345493222470733700"
          ],
          "function": "NDArrayCompat.to_ndarray"
         }
        ],
        "2262404540719265412": [
         "-2745558395708079455",
         {
          "args": [
           "7317972844573114242",
           "9150030912105211354"
          ],
          "function": "Maybe.__and__",
          "type_params": {
           "T": {
            "type": "NDArray"
           }
          }
         }
        ],
        "2276041996103891735": [
         "-4179875107795948895",
         {
          "args": [
           "5626037285224763133",
           "7354692970200033373"
          ],
          "function": "Maybe.__or__",
          "type_params": {
           "T": {
            "params": {
             "T": {
              "type": "Integer"
             },
             "U": {
              "params": {
               "T": {
                "type": "Integer"
               }
              },
              "type": "Vec"
             }
            },
            "type": "Either"
           }
          }
         }
        ],
        "2324675140344447997": [
         "-1341672716970475800",
         {
          "args": [
           "-57591596287814518"
          ],
          "function": "NDArrayCompat.to_ndarray"
         }
        ],
        "2341006719661882768": [
         "6939635006650947043",
         {
          "args": [
           "2987543410002963815",
           "9032834383112645395",
           "-1475646575536360333"
          ],
          "function": "Maybe.match",
          "type_params": {
           "T": {
            "params": {
             "T": {
              "type": "NDArray"
             },
             "U": {
              "params": {
               "T": {
                "type": "Integer"
               },
               "U": {
                "params": {
                 "T": {
                  "type": "Integer"
                 }
                },
                "type": "Vec"
               }
              },
              "type": "Either"
             }
            },
            "type": "Pair"
           }
          }
         }
        ],
        "2401417412023419004": [
         "-1341672716970475800",
         {
          "args": [
           "6336036661715543733"
          ],
          "function": "NDArrayCompat.to_ndarray"
         }
        ],
        "2409960499730573834": [
         "-4772016795270189587",
         {
          "args": [
           "339927863618753833"
          ],
          "function": "NDArrayCompat.from_ndarray"
         }
        ],
        "2436712640837770830": [
         "2436712640837770830",
         {
          "args": [
           "4954432163994007699"
          ],
          "function": "Abstraction.create_variable",
          "type_params": {
           "T": {
            "params": {
             "T": {
              "type": "Integer"
             },
             "U": {
              "params": {
               "T": {
                "type": "Integer"
               }
              },
              "type": "Vec"
             }
            },
            "type": "Either"
           },
           "U": {
            "params": {
             "T": {
              "params": {
               "T": {
                "type": "Integer"
               },
               "U": {
                "params": {
                 "T": {
                  "type": "Integer"
                 }
                },
                "type": "Vec"
               }
              },
              "type": "Either"
             }
            },
            "type": "Maybe"
           }
          }
         }
        ],
        "2472475571885942040": [
         "-1341672716970475800",
         {
          "args": [
           "3137100142249553498"
          ],
          "function": "NDArrayCompat.to_ndarray"
         }
        ],
        "2507768681348984026": [
         "2507768681348984026",
         {
          "args": [
           "-7737040241182541916"
          ],
          "function": "Integer.from_int"
         }
        ],
        "2531297297853163102": [
         "-4179875107795948895",
         {
          "args": [
           "-3991141096639023881",
           "7354692970200033373"
          ],
          "function": "Maybe.__or__",
          "type_params": {
           "T": {
            "params": {
             "T": {
              "type": "Integer"
             },
             "U": {
              "params": {
               "T": {
                "type": "Integer"
               }
              },
              "type": "Vec"
             }
            },
            "type": "Either"
           }
          }
         }
        ],
        "2578046477166392018": [
         "6939635006650947043",
         {
          "args": [
           "-4622957158978552332",
           "9032834383112645395",
           "-1475646575536360333"
          ],
          "function": "Maybe.match",
          "type_params": {
           "T": {
            "params": {
             "T": {
              "type": "NDArray"
             },
             "U": {
              "params": {
               "T": {
                "type": "Integer"
               },
               "U": {
                "params": {
                 "T": {
                  "type": "Integer"
                 }
                },
                "type": "Vec"
               }
              },
              "type": "Either"
             }
            },
            "type": "Pair"
           }
          }
         }
        ],
        "2693232617876807898": [
         "-1341672716970475800",
         {
          "args": [
           "6954440744293451982"
          ],
          "function": "NDArrayCompat.to_ndarray"
         }
        ],
        "2768963656221963327": [
         "2768963656221963327",
         {
          "args": [
           "-5428197908604838827"
          ],
          "function": "Maybe.just",
          "type_params": {
           "T": {
            "params": {
             "T": {
              "type": "Integer"
             },
             "U": {
              "params": {
               "T": {
                "type": "Integer"
               }
              },
              "type": "Vec"
             }
            },
            "type": "Either"
           }
          }
         }
        ],
        "279804334003939930": [
         "-4772016795270189587",
         {
          "args": [
           "-4481768432007567430"
          ],
          "function": "NDArrayCompat.from_ndarray"
         }
        ],
        "2937955236600109562": [
         "-1341672716970475800",
         {
          "args": [
           "5887267766619437167"
          ],
          "function": "NDArrayCompat.to_ndarray"
         }
        ],
        "2987543410002963815": [
         "-2745558395708079455",
         {
          "args": [
           "-4161268223004706061",
           "2255424246898842649"
          ],
          "function": "Maybe.__and__",
          "type_params": {
           "T": {
            "type": "NDArray"
           }
          }
         }
        ],
        "3066644644135941110": [
         "-1749051929928717773",
         {
          "args": [
           "-1556507037921831081"
          ],
          "function": "Converter.convert",
          "type_params": {
           "T": {
            "type": "NDArray"
           }
          }
         }
        ],
        "3137100142249553498": [
         "-4772016795270189587",
         {
          "args": [
           "-1541113139994219591"
          ],
          "function": "NDArrayCompat.from_ndarray"
         }
        ],
        "3286866018787861345": [
         "3286866018787861345",
         {
          "args": [
           "5958914858003784629"
          ],
          "function": "Pair.right",
          "type_params": {
           "T": {
            "type": "NDArray"
           },
           "U": {
            "params": {
             "T": {
              "type": "Integer"
             },
             "U": {
              "params": {
               "T": {
                "type": "Integer"
               }
              },
              "type": "Vec"
             }
            },
            "type": "Either"
           }
          }
         }
        ],
        "3324258206112810864": [
         "6939635006650947043",
         {
          "args": [
           "386925839975183864",
           "-871166542655442750"
          ],
          "function": "Maybe.map",
          "type_params": {
           "T": {
            "params": {
             "T": {
              "type": "NDArray"
             },
             "U": {
              "params": {
               "T": {
                "type": "Integer"
               },
               "U": {
                "params": {
                 "T": {
                  "type": "Integer"
                 }
                },
                "type": "Vec"
               }
              },
              "type": "Either"
             }
            },
            "type": "Pair"
           }
          }
         }
        ],
        "3351888507285081000": [
         "6939635006650947043",
         {
          "args": [
           "4963759302425763067",
           "8044185514099529250"
          ],
          "function": "Maybe.map",
          "type_params": {
           "T": {
            "params": {
             "T": {
              "type": "NDArray"
             },
             "U": {
              "params": {
               "T": {
                "type": "Integer"
               },
               "U": {
                "params": {
                 "T": {
                  "type": "Integer"
                 }
                },
                "type": "Vec"
               }
              },
              "type": "Either"
             }
            },
            "type": "Pair"
           }
          }
         }
        ],
        "339927863618753833": [
         "6939635006650947043",
         {
          "args": [
           "-2745558395708079455",
           "8044185514099529250"
          ],
          "function": "Maybe.map",
          "type_params": {
           "T": {
            "params": {
             "T": {
              "type": "NDArray"
             },
             "U": {
              "params": {
               "T": {
                "type": "Integer"
               },
               "U": {
                "params": {
                 "T": {
                  "type": "Integer"
                 }
                },
                "type": "Vec"
               }
              },
              "type": "Either"
             }
            },
            "type": "Pair"
           }
          }
         }
        ],
        "3451160987612206579": [
         "-1341672716970475800",
         {
          "args": [
           "-605144421018846031",
           "-7737040241182541916"
          ],
          "function": "ndarray_getitem"
         }
        ],
        "3457235991837999757": [
         "-1341672716970475800",
         {
          "args": [
           "5268565405192250584"
          ],
          "function": "NDArrayCompat.to_ndarray"
         }
        ],
        "3504610103229471849": [
         "-4772016795270189587",
         {
          "args": [
           "6939635006650947043"
          ],
          "function": "NDArrayCompat.from_ndarray"
         }
        ],
        "3546302652998471528": [
         "6939635006650947043",
         {
          "args": [
           "3930569333833847279",
           "9032834383112645395",
           "-1475646575536360333"
          ],
          "function": "Maybe.match",
          "type_params": {
           "T": {
            "params": {
             "T": {
              "type": "NDArray"
             },
             "U": {
              "params": {
               "T": {
                "type": "Integer"
               },
               "U": {
                "params": {
                 "T": {
                  "type": "Integer"
                 }
                },
                "type": "Vec"
               }
              },
              "type": "Either"
             }
            },
            "type": "Pair"
           }
          }
         }
        ],
        "37540587745940159": [
         "-8896708649560101528",
         {
          "args": [
           "-6059403141323843149",
           "577873550496070922"
          ],
          "function": "Maybe.map",
          "type_params": {
           "T": {
            "type": "Integer"
           }
          }
         }
        ],
        "386925839975183864": [
         "8017410877576515236",
         {
          "args": [
           "-2410300585153220666",
           "-2718709984261421422"
          ],
          "function": "Maybe.__and__",
          "type_params": {
           "T": {
            "type": "NDArray"
           }
          }
         }
        ],
        "3930569333833847279": [
         "-2745558395708079455",
         {
          "args": [
           "5646358865148850642",
           "-189545260843302981"
          ],
          "function": "Maybe.__and__",
          "type_params": {
           "T": {
            "type": "NDArray"
           }
          }
         }
        ],
        "399900191559359392": [
         "-1894269937027086384",
         {
          "args": [
           "8509920805002676409",
           "1800425219063787799"
          ],
          "function": "Abstraction.create",
          "type_params": {
           "T": {
            "type": "NDArray"
           },
           "U": {
            "params": {
             "T": {
              "type": "NDArray"
             }
            },
            "type": "Maybe"
           }
          }
         }
        ],
        "4032433164182900302": [
         "6939635006650947043",
         {
          "args": [
           "-7130198749653235479",
           "9032834383112645395",
           "-1475646575536360333"
          ],
          "function": "Maybe.match",
          "type_params": {
           "T": {
            "params": {
             "T": {
              "type": "NDArray"
             },
             "U": {
              "params": {
               "T": {
                "type": "Integer"
               },
               "U": {
                "params": {
                 "T": {
                  "type": "Integer"
                 }
                },
                "type": "Vec"
               }
              },
              "type": "Either"
             }
            },
            "type": "Pair"
           }
          }
         }
        ],
        "4126831484520287483": [
         "-2745558395708079455",
         {
          "args": [
           "-2894682877572236733",
           "9150030912105211354"
          ],
          "function": "Maybe.__and__",
          "type_params": {
           "T": {
            "type": "NDArray"
           }
          }
         }
        ],
        "4200151974066499054": [
         "-1341672716970475800",
         {
          "args": [
           "1609525582419339293"
          ],
          "function": "NDArrayCompat.to_ndarray"
         }
        ],
        "4400521622520585941": [
         "-1341672716970475800",
         {
          "args": [
           "-1706374237541123582"
          ],
          "function": "NDArrayCompat.to_ndarray"
         }
        ],
        "4401045127674937437": [
         "-1341672716970475800",
         {
          "args": [
           "3504610103229471849"
          ],
          "function": "NDArrayCompat.to_ndarray"
         }
        ],
        "4408648251278560909": [
         "-2410300585153220666",
         {
          "args": [
           "-6584392053997967718"
          ],
          "function": "Converter.convert",
          "type_params": {
           "T": {
            "type": "NDArray"
           }
          }
         }
        ],
        "4444370463340491573": [
         "-1341672716970475800",
         {
          "args": [
           "4717196566943026656"
          ],
          "function": "NDArrayCompat.to_ndarray"
         }
        ],
        "4512585717378328880": [
         "-5882035132617130320",
         {
          "args": [
           "-6111134292761862292",
           "-6111134292761862292"
          ],
          "function": "NDArrayCompat.__add__"
         }
        ],
        "4717196566943026656": [
         "-4772016795270189587",
         {
          "args": [
           "-4688074193271864291"
          ],
          "function": "NDArrayCompat.from_ndarray"
         }
        ],
        "4767376851968140894": [
         "1450785392786500356",
         {
          "args": [
           "-8896708649560101528"
          ],
          "function": "NDArrayCompat.from_ndarray"
         }
        ],
        "4878043911049156648": [
         "-1341672716970475800",
         {
          "args": [
           "9151508734577916712"
          ],
          "function": "NDArrayCompat.to_ndarray"
         }
        ],
        "4954432112593555649": [
         "4954432112593555649",
         {
          "repr": "Variable(4762969032)",
          "type": "Variable"
         }
        ],
        "4954432122860222749": [
         "4954432122860222749",
         {
          "repr": "Variable(4763110536)",
          "type": "Variable"
         }
        ],
        "4954432134779905524": [
         "4954432134779905524",
         {
          "repr": "Variable(4763172088)",
          "type": "Variable"
         }
        ],
        "4954432145743718724": [
         "4954432145743718724",
         {
          "repr": "Variable(4763330040)",
          "type": "Variable"
         }
        ],
        "4954432153931937824": [
         "4954432153931937824",
         {
          "repr": "Variable(4763438776)",
          "type": "Variable"
         }
        ],
        "4954432163994007699": [
         "4954432163994007699",
         {
          "repr": "Variable(4763585448)",
          "type": "Variable"
         }
        ],
        "4963759302425763067": [
         "8017410877576515236",
         {
          "args": [
           "4408648251278560909",
           "-2718709984261421422"
          ],
          "function": "Maybe.__and__",
          "type_params": {
           "T": {
            "type": "NDArray"
           }
          }
         }
        ],
        "5209810089249904264": [
         "-1341672716970475800",
         {
          "args": [
           "2409960499730573834"
          ],
          "function": "NDArrayCompat.to_ndarray"
         }
        ],
        "5268565405192250584": [
         "-4772016795270189587",
         {
          "args": [
           "-2918344087609665020"
          ],
          "function": "NDArrayCompat.from_ndarray"
         }
        ],
        "5293063704123737227": [
         "-1341672716970475800",
         {
          "args": [
           "1054558087939951220"
          ],
          "function": "NDArrayCompat.to_ndarray"
         }
        ],
        "5312736265270673507": [
         "-2745558395708079455",
         {
          "args": [
           "-4161268223004706061",
           "-31330893029341675"
          ],
          "function": "Maybe.__and__",
          "type_params": {
           "T": {
            "type": "NDArray"
           }
          }
         }
        ],
        "5328415434377642612": [
         "-8766707318650306503",
         {
          "args": [
           "-6827753017227246919"
          ],
          "function": "NDArrayCompat.from_ndarray"
         }
        ],
        "5377129414771497715": [
         "-4772016795270189587",
         {
          "args": [
           "-2827158518281892059"
          ],
          "function": "NDArrayCompat.from_ndarray"
         }
        ],
        "542625740483342888": [
         "542625740483342888",
         {
          "function": "Maybe.nothing",
          "type_params": {
           "T": {
            "params": {
             "T": {
              "type": "Integer"
             },
             "U": {
              "params": {
               "T": {
                "type": "Integer"
               }
              },
              "type": "Vec"
             }
            },
            "type": "Either"
           }
          }
         }
        ],
        "5534931599655894334": [
         "5534931599655894334",
         {
          "args": [
           "4954432122860222749"
          ],
          "function": "Abstraction.create_variable",
          "type_params": {
           "T": {
            "type": "Integer"
           },
           "U": {
            "type": "NDArray"
           }
          }
         }
        ],
        "5566425489881085421": [
         "5566425489881085421",
         {
          "args": [
           "997777855050798697"
          ],
          "function": "Abstraction.from_fn"
         }
        ],
        "5572985368883877492": [
         "-1341672716970475800",
         {
          "args": [
           "7140113890193738188"
          ],
          "function": "NDArrayCompat.to_ndarray"
         }
        ],
        "5626037285224763133": [
         "5626037285224763133",
         {
          "args": [
           "-1372317109959694973",
           "-3632599159356222693"
          ],
          "function": "Maybe.map",
          "type_params": {
           "T": {
            "type": "Integer"
           }
          }
         }
        ],
        "5638101176698137821": [
         "-4772016795270189587",
         {
          "args": [
           "-321562744041360046"
          ],
          "function": "NDArrayCompat.from_ndarray"
         }
        ],
        "5646358865148850642": [
         "-1749051929928717773",
         {
          "args": [
           "-4321933172678497012"
          ],
          "function": "Converter.convert",
          "type_params": {
           "T": {
            "type": "NDArray"
           }
          }
         }
        ],
        "566977397139040001": [
         "-1341672716970475800",
         {
          "args": [
           "-5770802273742654456"
          ],
          "function": "NDArrayCompat.to_ndarray"
         }
        ],
        "5681221764959219688": [
         "-4772016795270189587",
         {
          "args": [
           "2578046477166392018"
          ],
          "function": "NDArrayCompat.from_ndarray"
         }
        ],
        "577873550496070922": [
         "577873550496070922",
         {
          "args": [
           "-5685572929299947036"
          ],
          "function": "Abstraction.from_fn"
         }
        ],
        "5798070462257896138": [
         "-4772016795270189587",
         {
          "args": [
           "3546302652998471528"
          ],
          "function": "NDArrayCompat.from_ndarray"
         }
        ],
        "5887267766619437167": [
         "-4772016795270189587",
         {
          "args": [
           "6531298543507265622"
          ],
          "function": "NDArrayCompat.from_ndarray"
         }
        ],
        "5958914858003784629": [
         "5958914858003784629",
         {
          "args": [
           "7005412116804673500",
           "-8215238012704140842"
          ],
          "function": "Pair.create"
         }
        ],
        "6054610842773739130": [
         "-5297356175593613083",
         {
          "args": [
           "-1372317109959694973",
           "-6964590781432730370"
          ],
          "function": "Maybe.map",
          "type_params": {
           "T": {
            "type": "Integer"
           }
          }
         }
        ],
        "6119802382549264123": [
         "6119802382549264123",
         {
          "args": [
           "-7737040241182541916"
          ],
          "function": "Converter.convert",
          "type_params": {
           "T": {
            "params": {
             "T": {
              "type": "Integer"
             },
             "U": {
              "params": {
               "T": {
                "type": "Integer"
               }
              },
              "type": "Vec"
             }
            },
            "type": "Either"
           }
          }
         }
        ],
        "6123761378249448669": [
         "-1341672716970475800",
         {
          "args": [
           "5681221764959219688"
          ],
          "function": "NDArrayCompat.to_ndarray"
         }
        ],
        "6161012702387631447": [
         "2013462788875869881",
         {
          "args": [
           "2436712640837770830",
           "-156776053854657493"
          ],
          "function": "Abstraction.create",
          "type_params": {
           "T": {
            "params": {
             "T": {
              "type": "Integer"
             },
             "U": {
              "params": {
               "T": {
                "type": "Integer"
               }
              },
              "type": "Vec"
             }
            },
            "type": "Either"
           },
           "U": {
            "params": {
             "T": {
              "params": {
               "T": {
                "type": "Integer"
               },
               "U": {
                "params": {
                 "T": {
                  "type": "Integer"
                 }
                },
                "type": "Vec"
               }
              },
              "type": "Either"
             }
            },
            "type": "Maybe"
           }
          }
         }
        ],
        "61788817184424843": [
         "-4772016795270189587",
         {
          "args": [
           "8577593290393460617"
          ],
          "function": "NDArrayCompat.from_ndarray"
         }
        ],
        "6223931599528243960": [
         "6939635006650947043",
         {
          "args": [
           "2262404540719265412",
           "9032834383112645395",
           "1513986338388351247"
          ],
          "function": "Maybe.match",
          "type_params": {
           "T": {
            "params": {
             "T": {
              "type": "NDArray"
             },
             "U": {
              "params": {
               "T": {
                "type": "Integer"
               },
               "U": {
                "params": {
                 "T": {
                  "type": "Integer"
                 }
                },
                "type": "Vec"
               }
              },
              "type": "Either"
             }
            },
            "type": "Pair"
           }
          }
         }
        ],
        "6336036661715543733": [
         "-4772016795270189587",
         {
          "args": [
           "6223931599528243960"
          ],
          "function": "NDArrayCompat.from_ndarray"
         }
        ],
        "6359800707896431793": [
         "-1749051929928717773",
         {
          "args": [
           "1432768087770409268"
          ],
          "function": "Converter.convert",
          "type_params": {
           "T": {
            "type": "NDArray"
           }
          }
         }
        ],
        "6531298543507265622": [
         "6939635006650947043",
         {
          "args": [
           "7346142444234164539",
           "9032834383112645395",
           "-1475646575536360333"
          ],
          "function": "Maybe.match",
          "type_params": {
           "T": {
            "params": {
             "T": {
              "type": "NDArray"
             },
             "U": {
              "params": {
               "T": {
                "type": "Integer"
               },
               "U": {
                "params": {
                 "T": {
                  "type": "Integer"
                 }
                },
                "type": "Vec"
               }
              },
              "type": "Either"
             }
            },
            "type": "Pair"
           }
          }
         }
        ],
        "6583588539036799453": [
         "-2745558395708079455",
         {
          "args": [
           "-1951196616839732642",
           "-7706353315301755638"
          ],
          "function": "Maybe.__and__",
          "type_params": {
           "T": {
            "type": "NDArray"
           }
          }
         }
        ],
        "6639613543171332087": [
         "-1341672716970475800",
         {
          "args": [
           "-1772126965539794600"
          ],
          "function": "NDArrayCompat.to_ndarray"
         }
        ],
        "6692383433071077384": [
         "-2745558395708079455",
         {
          "args": [
           "-1749051929928717773",
           "2276041996103891735"
          ],
          "function": "Maybe.__and__",
          "type_params": {
           "T": {
            "type": "NDArray"
           }
          }
         }
        ],
        "6728931720816540191": [
         "-4554451458422625093",
         {
          "args": [
           "-5945887149520679823"
          ],
          "function": "arange"
         }
        ],
        "6939635006650947043": [
         "6939635006650947043",
         {
          "args": [
           "8017410877576515236",
           "-871166542655442750"
          ],
          "function": "Maybe.map",
          "type_params": {
           "T": {
            "params": {
             "T": {
              "type": "NDArray"
             },
             "U": {
              "params": {
               "T": {
                "type": "Integer"
               },
               "U": {
                "params": {
                 "T": {
                  "type": "Integer"
                 }
                },
                "type": "Vec"
               }
              },
              "type": "Either"
             }
            },
            "type": "Pair"
           }
          }
         }
        ],
        "6954440744293451982": [
         "-4772016795270189587",
         {
          "args": [
           "2024501887796611605"
          ],
          "function": "NDArrayCompat.from_ndarray"
         }
        ],
        "7005412116804673500": [
         "7005412116804673500",
         {
          "args": [
           "832424711665835764",
           "832424711665835764"
          ],
          "function": "NDArray.__add__"
         }
        ],
        "7115793578483162895": [
         "6939635006650947043",
         {
          "args": [
           "-3104718932427049796",
           "-871166542655442750"
          ],
          "function": "Maybe.map",
          "type_params": {
           "T": {
            "params": {
             "T": {
              "type": "NDArray"
             },
             "U": {
              "params": {
               "T": {
                "type": "Integer"
               },
               "U": {
                "params": {
                 "T": {
                  "type": "Integer"
                 }
                },
                "type": "Vec"
               }
              },
              "type": "Either"
             }
            },
            "type": "Pair"
           }
          }
         }
        ],
        "7129645178974278596": [
         "7129645178974278596",
         {
          "args": [
           "1450785392786500356",
           "1450785392786500356"
          ],
          "function": "NDArrayCompat.__add__"
         }
        ],
        "7140113890193738188": [
         "-4772016795270189587",
         {
          "args": [
           "-4770996305368769695"
          ],
          "function": "NDArrayCompat.from_ndarray"
         }
        ],
        "7159771746246499725": [
         "-2745558395708079455",
         {
          "args": [
           "-5936625044764418544",
           "-7706353315301755638"
          ],
          "function": "Maybe.__and__",
          "type_params": {
           "T": {
            "type": "NDArray"
           }
          }
         }
        ],
        "7300742739247956141": [
         "-2757863483019960227",
         {
          "args": [
           "399900191559359392",
           "-4643297354090513087"
          ],
          "function": "Abstraction.__add__",
          "type_params": {
           "T": {
            "type": "NDArray"
           },
           "U": {
            "params": {
             "T": {
              "type": "NDArray"
             }
            },
            "type": "Maybe"
           }
          }
         }
        ],
        "7317972844573114242": [
         "-1749051929928717773",
         {
          "args": [
           "8539979879690342424"
          ],
          "function": "Converter.convert",
          "type_params": {
           "T": {
            "type": "NDArray"
           }
          }
         }
        ],
        "7346142444234164539": [
         "-2745558395708079455",
         {
          "args": [
           "-740474970012110432",
           "-189545260843302981"
          ],
          "function": "Maybe.__and__",
          "type_params": {
           "T": {
            "type": "NDArray"
           }
          }
         }
        ],
        "7354692970200033373": [
         "-686259872675126378",
         {
          "args": [
           "-7726250483385592724",
           "542625740483342888",
           "-3933652525115683988"
          ],
          "function": "Maybe.match",
          "type_params": {
           "T": {
            "params": {
             "T": {
              "type": "Integer"
             }
            },
            "type": "Vec"
           }
          }
         }
        ],
        "7356568875628748618": [
         "-1341672716970475800",
         {
          "args": [
           "-2445372945765011691",
           "-7737040241182541916"
          ],
          "function": "ndarray_getitem"
         }
        ],
        "7356682076725162957": [
         "6939635006650947043",
         {
          "args": [
           "-2556112163304457",
           "9032834383112645395",
           "-1475646575536360333"
          ],
          "function": "Maybe.match",
          "type_params": {
           "T": {
            "params": {
             "T": {
              "type": "NDArray"
             },
             "U": {
              "params": {
               "T": {
                "type": "Integer"
               },
               "U": {
                "params": {
                 "T": {
                  "type": "Integer"
                 }
                },
                "type": "Vec"
               }
              },
              "type": "Either"
             }
            },
            "type": "Pair"
           }
          }
         }
        ],
        "7592179541745765004": [
         "-5882035132617130320",
         {
          "args": [
           "9133257758617415926",
           "85294802253499659"
          ],
          "function": "NDArrayCompat.__add__"
         }
        ],
        "760278491628587479": [
         "-4772016795270189587",
         {
          "args": [
           "7356682076725162957"
          ],
          "function": "NDArrayCompat.from_ndarray"
         }
        ],
        "7733020047603416001": [
         "-3794084279707917178",
         {
          "args": [
           "2507768681348984026"
          ],
          "function": "unbox_integer"
         }
        ],
        "7882815027939522544": [
         "-4772016795270189587",
         {
          "args": [
           "-5261768831398728211"
          ],
          "function": "NDArrayCompat.from_ndarray"
         }
        ],
        "7974229076958302095": [
         "-1341672716970475800",
         {
          "args": [
           "1444425998562204304"
          ],
          "function": "NDArrayCompat.to_ndarray"
         }
        ],
        "8017410877576515236": [
         "8017410877576515236",
         {
          "args": [
           "-2410300585153220666",
           "6119802382549264123"
          ],
          "function": "Maybe.__and__",
          "type_params": {
           "T": {
            "type": "NDArray"
           }
          }
         }
        ],
        "8044185514099529250": [
         "8044185514099529250",
         {
          "args": [
           "-4167769655553708545",
           "-8285762096060248770"
          ],
          "function": "Abstraction.create",
          "type_params": {
           "T": {
            "params": {
             "T": {
              "type": "NDArray"
             },
             "U": {
              "params": {
               "T": {
                "type": "Integer"
               },
               "U": {
                "params": {
                 "T": {
                  "type": "Integer"
                 }
                },
                "type": "Vec"
               }
              },
              "type": "Either"
             }
            },
            "type": "Pair"
           },
           "U": {
            "type": "NDArray"
           }
          }
         }
        ],
        "8066782273380513599": [
         "-4772016795270189587",
         {
          "args": [
           "-7305766661394700437"
          ],
          "function": "NDArrayCompat.from_ndarray"
         }
        ],
        "8167130955151987028": [
         "-1341672716970475800",
         {
          "args": [
           "-5924177586350510988",
           "-3794084279707917178"
          ],
          "function": "ndarray_getitem"
         }
        ],
        "8187099859529184916": [
         "6939635006650947043",
         {
          "args": [
           "-2745558395708079455",
           "9032834383112645395",
           "1513986338388351247"
          ],
          "function": "Maybe.match",
          "type_params": {
           "T": {
            "params": {
             "T": {
              "type": "NDArray"
             },
             "U": {
              "params": {
               "T": {
                "type": "Integer"
               },
               "U": {
                "params": {
                 "T": {
                  "type": "Integer"
                 }
                },
                "type": "Vec"
               }
              },
              "type": "Either"
             }
            },
            "type": "Pair"
           }
          }
         }
        ],
        "832424711665835764": [
         "832424711665835764",
         {
          "args": [
           "-1313138448651871637"
          ],
          "function": "arange_"
         }
        ],
        "8408942364530103639": [
         "-2745558395708079455",
         {
          "args": [
           "1843766240175379126",
           "9150030912105211354"
          ],
          "function": "Maybe.__and__",
          "type_params": {
           "T": {
            "type": "NDArray"
           }
          }
         }
        ],
        "8444130643071199444": [
         "-4772016795270189587",
         {
          "args": [
           "8187099859529184916"
          ],
          "function": "NDArrayCompat.from_ndarray"
         }
        ],
        "8500012095767421056": [
         "-2745558395708079455",
         {
          "args": [
           "-1749051929928717773",
           "2531297297853163102"
          ],
          "function": "Maybe.__and__",
          "type_params": {
           "T": {
            "type": "NDArray"
           }
          }
         }
        ],
        "8509920805002676409": [
         "8509920805002676409",
         {
          "args": [
           "4954432153931937824"
          ],
          "function": "Abstraction.create_variable",
          "type_params": {
           "T": {
            "type": "NDArray"
           },
           "U": {
            "params": {
             "T": {
              "type": "NDArray"
             }
            },
            "type": "Maybe"
           }
          }
         }
        ],
        "85294802253499659": [
         "85294802253499659",
         {
          "args": [
           "1129541538386884364"
          ],
          "function": "NDArrayCompat.from_ndarray"
         }
        ],
        "8539979879690342424": [
         "-5882035132617130320",
         {
          "args": [
           "-1866940111291859890",
           "-8766707318650306503"
          ],
          "function": "NDArrayCompat.__add__"
         }
        ],
        "8577593290393460617": [
         "6939635006650947043",
         {
          "args": [
           "4963759302425763067",
           "-871166542655442750"
          ],
          "function": "Maybe.map",
          "type_params": {
           "T": {
            "params": {
             "T": {
              "type": "NDArray"
             },
             "U": {
              "params": {
               "T": {
                "type": "Integer"
               },
               "U": {
                "params": {
                 "T": {
                  "type": "Integer"
                 }
                },
                "type": "Vec"
               }
              },
              "type": "Either"
             }
            },
            "type": "Pair"
           }
          }
         }
        ],
        "8861366420831212813": [
         "-1341672716970475800",
         {
          "args": [
           "279804334003939930"
          ],
          "function": "NDArrayCompat.to_ndarray"
         }
        ],
        "887510114276199111": [
         "-4179875107795948895",
         {
          "args": [
           "-5245592682600195630",
           "-4184050986479448354"
          ],
          "function": "Maybe.__or__",
          "type_params": {
           "T": {
            "params": {
             "T": {
              "type": "Integer"
             },
             "U": {
              "params": {
               "T": {
                "type": "Integer"
               }
              },
              "type": "Vec"
             }
            },
            "type": "Either"
           }
          }
         }
        ],
        "8940231038518898282": [
         "-1341672716970475800",
         {
          "args": [
           "-832693358443336927"
          ],
          "function": "NDArrayCompat.to_ndarray"
         }
        ],
        "8944486586679779976": [
         "6939635006650947043",
         {
          "args": [
           "1614487485264017680",
           "9032834383112645395",
           "-1475646575536360333"
          ],
          "function": "Maybe.match",
          "type_params": {
           "T": {
            "params": {
             "T": {
              "type": "NDArray"
             },
             "U": {
              "params": {
               "T": {
                "type": "Integer"
               },
               "U": {
                "params": {
                 "T": {
                  "type": "Integer"
                 }
                },
                "type": "Vec"
               }
              },
              "type": "Either"
             }
            },
            "type": "Pair"
           }
          }
         }
        ],
        "9032834383112645395": [
         "9032834383112645395",
         {
          "function": "Maybe.nothing",
          "type_params": {
           "T": {
            "type": "NDArray"
           }
          }
         }
        ],
        "9133257758617415926": [
         "-8766707318650306503",
         {
          "args": [
           "-8700729886857831056"
          ],
          "function": "NDArrayCompat.from_ndarray"
         }
        ],
        "9150030912105211354": [
         "-4179875107795948895",
         {
          "args": [
           "2008626470938325986",
           "7354692970200033373"
          ],
          "function": "Maybe.__or__",
          "type_params": {
           "T": {
            "params": {
             "T": {
              "type": "Integer"
             },
             "U": {
              "params": {
               "T": {
                "type": "Integer"
               }
              },
              "type": "Vec"
             }
            },
            "type": "Either"
           }
          }
         }
        ],
        "9151508734577916712": [
         "-4772016795270189587",
         {
          "args": [
           "-4118936360968403820"
          ],
          "function": "NDArrayCompat.from_ndarray"
         }
        ],
        "982187547023505739": [
         "-5924177586350510988",
         {
          "args": [
           "6728931720816540191",
           "6728931720816540191"
          ],
          "function": "ndarray_add"
         }
        ],
        "997777855050798697": [
         "997777855050798697",
         {
          "repr": "Either.right",
          "type": "BoundInfer"
         }
        ]
       },
       "states": {
        "initial": "-1341672716970475800",
        "states": [
         {
          "node": "4401045127674937437",
          "rule": "metadsl_core.numpy.NDArrayCompat.__getitem__"
         },
         {
          "node": "-5414010870836819202",
          "rule": "metadsl_core.either.convert_to_either"
         },
         {
          "node": "4400521622520585941",
          "rule": "metadsl_core.integer.convert_integer"
         },
         {
          "node": "4200151974066499054",
          "rule": "metadsl_core.numpy.arange"
         },
         {
          "node": "-6295496828373215480",
          "rule": "metadsl_core.integer.convert_integer"
         },
         {
          "node": "2324675140344447997",
          "rule": "metadsl_core.abstraction.Abstraction.from_fn"
         },
         {
          "node": "1908381767751359253",
          "rule": "metadsl_core.abstraction.Abstraction.from_fn"
         },
         {
          "node": "-3277789661791732314",
          "rule": "metadsl_core.abstraction.Abstraction.from_fn"
         },
         {
          "node": "5209810089249904264",
          "rule": "metadsl_core.abstraction.Abstraction.from_fn"
         },
         {
          "node": "-662424398955294436",
          "rule": "metadsl_core.maybe.Maybe.map"
         },
         {
          "node": "-7810628170542737225",
          "rule": "metadsl_core.maybe.Maybe.map"
         },
         {
          "node": "-6892723423229494128",
          "rule": "metadsl_core.maybe.Maybe.map"
         },
         {
          "node": "2693232617876807898",
          "rule": "metadsl_core.maybe.maybe_match"
         },
         {
          "node": "2401417412023419004",
          "rule": "metadsl_core.maybe.Maybe.map"
         },
         {
          "node": "2257210080031379373",
          "rule": "metadsl_core.maybe.Maybe.map"
         },
         {
          "node": "-3694455690306176878",
          "rule": "metadsl_core.maybe.maybe_match"
         },
         {
          "node": "5293063704123737227",
          "rule": "metadsl_core.maybe.maybe_match"
         },
         {
          "node": "3457235991837999757",
          "rule": "metadsl_core.abstraction.Abstraction.from_fn"
         },
         {
          "node": "2472475571885942040",
          "rule": "metadsl_core.abstraction.Abstraction.from_fn"
         },
         {
          "node": "-8669550500244779836",
          "rule": "metadsl_core.abstraction.Abstraction.from_fn"
         },
         {
          "node": "8940231038518898282",
          "rule": "metadsl_core.abstraction.compose"
         },
         {
          "node": "-7000641557897437974",
          "rule": "metadsl_core.abstraction.compose"
         },
         {
          "node": "-3024880416446209613",
          "rule": "metadsl_core.abstraction.compose"
         },
         {
          "node": "566977397139040001",
          "rule": "metadsl_core.abstraction.beta_reduce"
         },
         {
          "node": "8861366420831212813",
          "rule": "metadsl_core.maybe.maybe_or"
         },
         {
          "node": "5572985368883877492",
          "rule": "metadsl_core.abstraction.compose"
         },
         {
          "node": "4444370463340491573",
          "rule": "metadsl_core.abstraction.beta_reduce"
         },
         {
          "node": "6123761378249448669",
          "rule": "metadsl_core.abstraction.compose"
         },
         {
          "node": "2937955236600109562",
          "rule": "metadsl_core.abstraction.beta_reduce"
         },
         {
          "node": "-1150088198166487101",
          "rule": "metadsl_core.numpy.add_compat"
         },
         {
          "node": "7974229076958302095",
          "rule": "metadsl_core.numpy.convert_to_ndarray"
         },
         {
          "node": "-3190917013023287780",
          "rule": "metadsl_core.maybe.maybe_and"
         },
         {
          "node": "-3907054814130951697",
          "rule": "metadsl_core.maybe.maybe_match"
         },
         {
          "node": "-2825182354181474218",
          "rule": "metadsl_core.abstraction.beta_reduce"
         },
         {
          "node": "4878043911049156648",
          "rule": "metadsl_core.pair.pair_right"
         },
         {
          "node": "6639613543171332087",
          "rule": "metadsl_core.pair.pair_left"
         },
         {
          "label": "convert",
          "node": "6639613543171332087",
          "rule": ""
         },
         {
          "node": "-822018105368020607",
          "rule": "metadsl_core.numpy.box_unbox_ndarray_compat"
         },
         {
          "node": "8167130955151987028",
          "rule": "metadsl_core.numpy_engine.unbox_ndarray_getitem"
         },
         {
          "node": "-1936177253702646637",
          "rule": "metadsl_core.numpy_engine.unbox_idxs_rule"
         },
         {
          "node": "-2443851899239552952",
          "rule": "metadsl_core.numpy_engine.unbox_integer_rule"
         },
         {
          "node": "3451160987612206579",
          "rule": "metadsl_core.numpy_engine.unbox_ndarray_add"
         },
         {
          "node": "-3617702396224439611",
          "rule": "metadsl_core.numpy_engine.unbox_arange"
         },
         {
          "node": "-1977950438652841629",
          "rule": "metadsl_core.numpy_engine.unbox_integer_rule"
         },
         {
          "label": "unbox",
          "node": "-1977950438652841629",
          "rule": ""
         },
         {
          "node": "-2639700773170616961",
          "rule": "metadsl_core.numpy_engine.arange"
         },
         {
          "node": "7356568875628748618",
          "rule": "metadsl_core.numpy_engine.ndarray_add"
         },
         {
          "node": "-2445374578715003291",
          "rule": "metadsl_core.numpy_engine.ndarray_getitem"
         },
         {
          "label": "execute",
          "node": "-2445374578715003291",
          "rule": ""
         }
        ]
       }
      },
      "application/x.typez.graph+json": {
       "initial": "digraph {\n\tnode [shape=plain]\n\tedge [arrowsize=0.5 penwidth=0.5]\n\t-1341672716970475800 [label=\"NDArrayCompat.to_ndarray\" id=-1341672716970475800]\n\t-1341672716970475800 -> -4772016795270189587 [id=\"-1341672716970475800.args[0]\"]\n\t-4772016795270189587 [label=\"NDArrayCompat.__getitem__\" id=-4772016795270189587]\n\t-4772016795270189587 -> 7129645178974278596 [id=\"-4772016795270189587.args[0]\"]\n\t7129645178974278596 [label=\"NDArrayCompat.__add__\" id=7129645178974278596]\n\t7129645178974278596 -> 1450785392786500356 [id=\"7129645178974278596.args[0]\"]\n\t1450785392786500356 [label=arange id=1450785392786500356]\n\t1450785392786500356 -> -7737040241287546841 [id=\"1450785392786500356.args[0]\"]\n\t-7737040241287546841 [label=100 id=-5945887149520679823]\n\t7129645178974278596 -> 1450785392786500356 [id=\"7129645178974278596.args[1]\"]\n\t-4772016795270189587 -> -7737040241182541916 [id=\"-4772016795270189587.args[1]\"]\n\t-7737040241182541916 [label=5 id=-3794084279707917178]\n}",
       "states": [
        {
         "graph": "digraph {\n\tnode [shape=plain]\n\tedge [arrowsize=0.5 penwidth=0.5]\n\t4401045127674937437 [label=\"NDArrayCompat.to_ndarray\" id=-1341672716970475800]\n\t4401045127674937437 -> 3504610103229471849 [id=\"-1341672716970475800.args[0]\"]\n\t3504610103229471849 [label=\"NDArrayCompat.from_ndarray\" id=-4772016795270189587]\n\t3504610103229471849 -> 6939635006650947043 [id=\"-4772016795270189587.args[0]\"]\n\t6939635006650947043 [label=\"Maybe.map\" id=6939635006650947043]\n\t6939635006650947043 -> 8017410877576515236 [id=\"6939635006650947043.args[0]\"]\n\t8017410877576515236 [label=\"Maybe.__and__\" id=8017410877576515236]\n\t8017410877576515236 -> -2410300585153220666 [id=\"8017410877576515236.args[0]\"]\n\t-2410300585153220666 [label=\"Converter.convert\" id=-2410300585153220666]\n\t-2410300585153220666 -> 7129645178974278596 [id=\"-2410300585153220666.args[0]\"]\n\t7129645178974278596 [label=\"NDArrayCompat.__add__\" id=7129645178974278596]\n\t7129645178974278596 -> 1450785392786500356 [id=\"7129645178974278596.args[0]\"]\n\t1450785392786500356 [label=arange id=1450785392786500356]\n\t1450785392786500356 -> -7737040241287546841 [id=\"1450785392786500356.args[0]\"]\n\t-7737040241287546841 [label=100 id=-5945887149520679823]\n\t7129645178974278596 -> 1450785392786500356 [id=\"7129645178974278596.args[1]\"]\n\t8017410877576515236 -> 6119802382549264123 [id=\"8017410877576515236.args[1]\"]\n\t6119802382549264123 [label=\"Converter.convert\" id=6119802382549264123]\n\t6119802382549264123 -> -7737040241182541916 [id=\"6119802382549264123.args[0]\"]\n\t-7737040241182541916 [label=5 id=-3794084279707917178]\n\t6939635006650947043 -> -871166542655442750 [id=\"6939635006650947043.args[1]\"]\n\t-871166542655442750 [label=\"Abstraction.from_fn\" id=-871166542655442750]\n\t-871166542655442750 -> 1487200333614558642 [id=\"-871166542655442750.args[0]\"]\n\t1487200333614558642 [label=\"function NDArrayCompat.__getitem__.locals.lambda at 0x11be0dea0\" id=1487200333614558642]\n}",
         "label": null,
         "rule": "metadsl_core.numpy.NDArrayCompat.__getitem__"
        },
        {
         "graph": "digraph {\n\tnode [shape=plain]\n\tedge [arrowsize=0.5 penwidth=0.5]\n\t-5414010870836819202 [label=\"NDArrayCompat.to_ndarray\" id=-1341672716970475800]\n\t-5414010870836819202 -> -5163977376757507089 [id=\"-1341672716970475800.args[0]\"]\n\t-5163977376757507089 [label=\"NDArrayCompat.from_ndarray\" id=-4772016795270189587]\n\t-5163977376757507089 -> -1273642328414840872 [id=\"-4772016795270189587.args[0]\"]\n\t-1273642328414840872 [label=\"Maybe.map\" id=6939635006650947043]\n\t-1273642328414840872 -> -2079565683212384912 [id=\"6939635006650947043.args[0]\"]\n\t-2079565683212384912 [label=\"Maybe.__and__\" id=8017410877576515236]\n\t-2079565683212384912 -> -2410300585153220666 [id=\"8017410877576515236.args[0]\"]\n\t-2410300585153220666 [label=\"Converter.convert\" id=-2410300585153220666]\n\t-2410300585153220666 -> 7129645178974278596 [id=\"-2410300585153220666.args[0]\"]\n\t7129645178974278596 [label=\"NDArrayCompat.__add__\" id=7129645178974278596]\n\t7129645178974278596 -> 1450785392786500356 [id=\"7129645178974278596.args[0]\"]\n\t1450785392786500356 [label=arange id=1450785392786500356]\n\t1450785392786500356 -> -7737040241287546841 [id=\"1450785392786500356.args[0]\"]\n\t-7737040241287546841 [label=100 id=-5945887149520679823]\n\t7129645178974278596 -> 1450785392786500356 [id=\"7129645178974278596.args[1]\"]\n\t-2079565683212384912 -> -1294418605310832295 [id=\"8017410877576515236.args[1]\"]\n\t-1294418605310832295 [label=\"Maybe.__or__\" id=6119802382549264123]\n\t-1294418605310832295 -> -5297356175593613083 [id=\"6119802382549264123.args[0]\"]\n\t-5297356175593613083 [label=\"Maybe.map\" id=-5297356175593613083]\n\t-5297356175593613083 -> -4716166471986464590 [id=\"-5297356175593613083.args[0]\"]\n\t-4716166471986464590 [label=\"Converter.convert\" id=-4716166471986464590]\n\t-4716166471986464590 -> -7737040241182541916 [id=\"-4716166471986464590.args[0]\"]\n\t-7737040241182541916 [label=5 id=-3794084279707917178]\n\t-5297356175593613083 -> -6964590781432730370 [id=\"-5297356175593613083.args[1]\"]\n\t-6964590781432730370 [label=\"Abstraction.from_fn\" id=-6964590781432730370]\n\t-6964590781432730370 -> -4896702136590049048 [id=\"-6964590781432730370.args[0]\"]\n\t-4896702136590049048 [label=\"Either.left\" id=-4896702136590049048]\n\t-1294418605310832295 -> 205164300450344970 [id=\"6119802382549264123.args[1]\"]\n\t205164300450344970 [label=\"Maybe.map\" id=205164300450344970]\n\t205164300450344970 -> -7726250483385592724 [id=\"205164300450344970.args[0]\"]\n\t-7726250483385592724 [label=\"Converter.convert\" id=-7726250483385592724]\n\t-7726250483385592724 -> -7737040241182541916 [id=\"-7726250483385592724.args[0]\"]\n\t205164300450344970 -> 5566425489881085421 [id=\"205164300450344970.args[1]\"]\n\t5566425489881085421 [label=\"Abstraction.from_fn\" id=5566425489881085421]\n\t5566425489881085421 -> 997777855050798697 [id=\"5566425489881085421.args[0]\"]\n\t997777855050798697 [label=\"Either.right\" id=997777855050798697]\n\t-1273642328414840872 -> -871166542655442750 [id=\"6939635006650947043.args[1]\"]\n\t-871166542655442750 [label=\"Abstraction.from_fn\" id=-871166542655442750]\n\t-871166542655442750 -> 1487200333614558642 [id=\"-871166542655442750.args[0]\"]\n\t1487200333614558642 [label=\"function NDArrayCompat.__getitem__.locals.lambda at 0x11be0dea0\" id=1487200333614558642]\n}",
         "label": null,
         "rule": "metadsl_core.either.convert_to_either"
        },
        {
         "graph": "digraph {\n\tnode [shape=plain]\n\tedge [arrowsize=0.5 penwidth=0.5]\n\t4400521622520585941 [label=\"NDArrayCompat.to_ndarray\" id=-1341672716970475800]\n\t4400521622520585941 -> -1706374237541123582 [id=\"-1341672716970475800.args[0]\"]\n\t-1706374237541123582 [label=\"NDArrayCompat.from_ndarray\" id=-4772016795270189587]\n\t-1706374237541123582 -> 3324258206112810864 [id=\"-4772016795270189587.args[0]\"]\n\t3324258206112810864 [label=\"Maybe.map\" id=6939635006650947043]\n\t3324258206112810864 -> 386925839975183864 [id=\"6939635006650947043.args[0]\"]\n\t386925839975183864 [label=\"Maybe.__and__\" id=8017410877576515236]\n\t386925839975183864 -> -2410300585153220666 [id=\"8017410877576515236.args[0]\"]\n\t-2410300585153220666 [label=\"Converter.convert\" id=-2410300585153220666]\n\t-2410300585153220666 -> 7129645178974278596 [id=\"-2410300585153220666.args[0]\"]\n\t7129645178974278596 [label=\"NDArrayCompat.__add__\" id=7129645178974278596]\n\t7129645178974278596 -> 1450785392786500356 [id=\"7129645178974278596.args[0]\"]\n\t1450785392786500356 [label=arange id=1450785392786500356]\n\t1450785392786500356 -> -7737040241287546841 [id=\"1450785392786500356.args[0]\"]\n\t-7737040241287546841 [label=100 id=-5945887149520679823]\n\t7129645178974278596 -> 1450785392786500356 [id=\"7129645178974278596.args[1]\"]\n\t386925839975183864 -> -2718709984261421422 [id=\"8017410877576515236.args[1]\"]\n\t-2718709984261421422 [label=\"Maybe.__or__\" id=6119802382549264123]\n\t-2718709984261421422 -> 6054610842773739130 [id=\"6119802382549264123.args[0]\"]\n\t6054610842773739130 [label=\"Maybe.map\" id=-5297356175593613083]\n\t6054610842773739130 -> -1372317109959694973 [id=\"-5297356175593613083.args[0]\"]\n\t-1372317109959694973 [label=\"Maybe.just\" id=-1372317109959694973]\n\t-1372317109959694973 -> 2507768681348984026 [id=\"-1372317109959694973.args[0]\"]\n\t2507768681348984026 [label=\"Integer.from_int\" id=2507768681348984026]\n\t2507768681348984026 -> -7737040241182541916 [id=\"2507768681348984026.args[0]\"]\n\t-7737040241182541916 [label=5 id=-3794084279707917178]\n\t6054610842773739130 -> -6964590781432730370 [id=\"-5297356175593613083.args[1]\"]\n\t-6964590781432730370 [label=\"Abstraction.from_fn\" id=-6964590781432730370]\n\t-6964590781432730370 -> -4896702136590049048 [id=\"-6964590781432730370.args[0]\"]\n\t-4896702136590049048 [label=\"Either.left\" id=-4896702136590049048]\n\t-2718709984261421422 -> 205164300450344970 [id=\"6119802382549264123.args[1]\"]\n\t205164300450344970 [label=\"Maybe.map\" id=205164300450344970]\n\t205164300450344970 -> -7726250483385592724 [id=\"205164300450344970.args[0]\"]\n\t-7726250483385592724 [label=\"Converter.convert\" id=-7726250483385592724]\n\t-7726250483385592724 -> -7737040241182541916 [id=\"-7726250483385592724.args[0]\"]\n\t205164300450344970 -> 5566425489881085421 [id=\"205164300450344970.args[1]\"]\n\t5566425489881085421 [label=\"Abstraction.from_fn\" id=5566425489881085421]\n\t5566425489881085421 -> 997777855050798697 [id=\"5566425489881085421.args[0]\"]\n\t997777855050798697 [label=\"Either.right\" id=997777855050798697]\n\t3324258206112810864 -> -871166542655442750 [id=\"6939635006650947043.args[1]\"]\n\t-871166542655442750 [label=\"Abstraction.from_fn\" id=-871166542655442750]\n\t-871166542655442750 -> 1487200333614558642 [id=\"-871166542655442750.args[0]\"]\n\t1487200333614558642 [label=\"function NDArrayCompat.__getitem__.locals.lambda at 0x11be0dea0\" id=1487200333614558642]\n}",
         "label": null,
         "rule": "metadsl_core.integer.convert_integer"
        },
        {
         "graph": "digraph {\n\tnode [shape=plain]\n\tedge [arrowsize=0.5 penwidth=0.5]\n\t4200151974066499054 [label=\"NDArrayCompat.to_ndarray\" id=-1341672716970475800]\n\t4200151974066499054 -> 1609525582419339293 [id=\"-1341672716970475800.args[0]\"]\n\t1609525582419339293 [label=\"NDArrayCompat.from_ndarray\" id=-4772016795270189587]\n\t1609525582419339293 -> 7115793578483162895 [id=\"-4772016795270189587.args[0]\"]\n\t7115793578483162895 [label=\"Maybe.map\" id=6939635006650947043]\n\t7115793578483162895 -> -3104718932427049796 [id=\"6939635006650947043.args[0]\"]\n\t-3104718932427049796 [label=\"Maybe.__and__\" id=8017410877576515236]\n\t-3104718932427049796 -> 1132426380630645017 [id=\"8017410877576515236.args[0]\"]\n\t1132426380630645017 [label=\"Converter.convert\" id=-2410300585153220666]\n\t1132426380630645017 -> -1828603300170214036 [id=\"-2410300585153220666.args[0]\"]\n\t-1828603300170214036 [label=\"NDArrayCompat.__add__\" id=7129645178974278596]\n\t-1828603300170214036 -> 4767376851968140894 [id=\"7129645178974278596.args[0]\"]\n\t4767376851968140894 [label=\"NDArrayCompat.from_ndarray\" id=1450785392786500356]\n\t4767376851968140894 -> -8896708649560101528 [id=\"1450785392786500356.args[0]\"]\n\t-8896708649560101528 [label=\"Maybe.map\" id=-8896708649560101528]\n\t-8896708649560101528 -> -4308935643043434189 [id=\"-8896708649560101528.args[0]\"]\n\t-4308935643043434189 [label=\"Converter.convert\" id=-4308935643043434189]\n\t-4308935643043434189 -> -7737040241287546841 [id=\"-4308935643043434189.args[0]\"]\n\t-7737040241287546841 [label=100 id=-5945887149520679823]\n\t-8896708649560101528 -> 577873550496070922 [id=\"-8896708649560101528.args[1]\"]\n\t577873550496070922 [label=\"Abstraction.from_fn\" id=577873550496070922]\n\t577873550496070922 -> -5685572929299947036 [id=\"577873550496070922.args[0]\"]\n\t-5685572929299947036 [label=arange_ id=-5685572929299947036]\n\t-1828603300170214036 -> 4767376851968140894 [id=\"7129645178974278596.args[1]\"]\n\t-3104718932427049796 -> -2718709984261421422 [id=\"8017410877576515236.args[1]\"]\n\t-2718709984261421422 [label=\"Maybe.__or__\" id=6119802382549264123]\n\t-2718709984261421422 -> 6054610842773739130 [id=\"6119802382549264123.args[0]\"]\n\t6054610842773739130 [label=\"Maybe.map\" id=-5297356175593613083]\n\t6054610842773739130 -> -1372317109959694973 [id=\"-5297356175593613083.args[0]\"]\n\t-1372317109959694973 [label=\"Maybe.just\" id=-1372317109959694973]\n\t-1372317109959694973 -> 2507768681348984026 [id=\"-1372317109959694973.args[0]\"]\n\t2507768681348984026 [label=\"Integer.from_int\" id=2507768681348984026]\n\t2507768681348984026 -> -7737040241182541916 [id=\"2507768681348984026.args[0]\"]\n\t-7737040241182541916 [label=5 id=-3794084279707917178]\n\t6054610842773739130 -> -6964590781432730370 [id=\"-5297356175593613083.args[1]\"]\n\t-6964590781432730370 [label=\"Abstraction.from_fn\" id=-6964590781432730370]\n\t-6964590781432730370 -> -4896702136590049048 [id=\"-6964590781432730370.args[0]\"]\n\t-4896702136590049048 [label=\"Either.left\" id=-4896702136590049048]\n\t-2718709984261421422 -> 205164300450344970 [id=\"6119802382549264123.args[1]\"]\n\t205164300450344970 [label=\"Maybe.map\" id=205164300450344970]\n\t205164300450344970 -> -7726250483385592724 [id=\"205164300450344970.args[0]\"]\n\t-7726250483385592724 [label=\"Converter.convert\" id=-7726250483385592724]\n\t-7726250483385592724 -> -7737040241182541916 [id=\"-7726250483385592724.args[0]\"]\n\t205164300450344970 -> 5566425489881085421 [id=\"205164300450344970.args[1]\"]\n\t5566425489881085421 [label=\"Abstraction.from_fn\" id=5566425489881085421]\n\t5566425489881085421 -> 997777855050798697 [id=\"5566425489881085421.args[0]\"]\n\t997777855050798697 [label=\"Either.right\" id=997777855050798697]\n\t7115793578483162895 -> -871166542655442750 [id=\"6939635006650947043.args[1]\"]\n\t-871166542655442750 [label=\"Abstraction.from_fn\" id=-871166542655442750]\n\t-871166542655442750 -> 1487200333614558642 [id=\"-871166542655442750.args[0]\"]\n\t1487200333614558642 [label=\"function NDArrayCompat.__getitem__.locals.lambda at 0x11be0dea0\" id=1487200333614558642]\n}",
         "label": null,
         "rule": "metadsl_core.numpy.arange"
        },
        {
         "graph": "digraph {\n\tnode [shape=plain]\n\tedge [arrowsize=0.5 penwidth=0.5]\n\t-6295496828373215480 [label=\"NDArrayCompat.to_ndarray\" id=-1341672716970475800]\n\t-6295496828373215480 -> 61788817184424843 [id=\"-1341672716970475800.args[0]\"]\n\t61788817184424843 [label=\"NDArrayCompat.from_ndarray\" id=-4772016795270189587]\n\t61788817184424843 -> 8577593290393460617 [id=\"-4772016795270189587.args[0]\"]\n\t8577593290393460617 [label=\"Maybe.map\" id=6939635006650947043]\n\t8577593290393460617 -> 4963759302425763067 [id=\"6939635006650947043.args[0]\"]\n\t4963759302425763067 [label=\"Maybe.__and__\" id=8017410877576515236]\n\t4963759302425763067 -> 4408648251278560909 [id=\"8017410877576515236.args[0]\"]\n\t4408648251278560909 [label=\"Converter.convert\" id=-2410300585153220666]\n\t4408648251278560909 -> -6584392053997967718 [id=\"-2410300585153220666.args[0]\"]\n\t-6584392053997967718 [label=\"NDArrayCompat.__add__\" id=7129645178974278596]\n\t-6584392053997967718 -> -8012671916351216724 [id=\"7129645178974278596.args[0]\"]\n\t-8012671916351216724 [label=\"NDArrayCompat.from_ndarray\" id=1450785392786500356]\n\t-8012671916351216724 -> 37540587745940159 [id=\"1450785392786500356.args[0]\"]\n\t37540587745940159 [label=\"Maybe.map\" id=-8896708649560101528]\n\t37540587745940159 -> -6059403141323843149 [id=\"-8896708649560101528.args[0]\"]\n\t-6059403141323843149 [label=\"Maybe.just\" id=-6059403141323843149]\n\t-6059403141323843149 -> -1313138448651871637 [id=\"-6059403141323843149.args[0]\"]\n\t-1313138448651871637 [label=\"Integer.from_int\" id=-1313138448651871637]\n\t-1313138448651871637 -> -7737040241287546841 [id=\"-1313138448651871637.args[0]\"]\n\t-7737040241287546841 [label=100 id=-5945887149520679823]\n\t37540587745940159 -> 577873550496070922 [id=\"-8896708649560101528.args[1]\"]\n\t577873550496070922 [label=\"Abstraction.from_fn\" id=577873550496070922]\n\t577873550496070922 -> -5685572929299947036 [id=\"577873550496070922.args[0]\"]\n\t-5685572929299947036 [label=arange_ id=-5685572929299947036]\n\t-6584392053997967718 -> -8012671916351216724 [id=\"7129645178974278596.args[1]\"]\n\t4963759302425763067 -> -2718709984261421422 [id=\"8017410877576515236.args[1]\"]\n\t-2718709984261421422 [label=\"Maybe.__or__\" id=6119802382549264123]\n\t-2718709984261421422 -> 6054610842773739130 [id=\"6119802382549264123.args[0]\"]\n\t6054610842773739130 [label=\"Maybe.map\" id=-5297356175593613083]\n\t6054610842773739130 -> -1372317109959694973 [id=\"-5297356175593613083.args[0]\"]\n\t-1372317109959694973 [label=\"Maybe.just\" id=-1372317109959694973]\n\t-1372317109959694973 -> 2507768681348984026 [id=\"-1372317109959694973.args[0]\"]\n\t2507768681348984026 [label=\"Integer.from_int\" id=2507768681348984026]\n\t2507768681348984026 -> -7737040241182541916 [id=\"2507768681348984026.args[0]\"]\n\t-7737040241182541916 [label=5 id=-3794084279707917178]\n\t6054610842773739130 -> -6964590781432730370 [id=\"-5297356175593613083.args[1]\"]\n\t-6964590781432730370 [label=\"Abstraction.from_fn\" id=-6964590781432730370]\n\t-6964590781432730370 -> -4896702136590049048 [id=\"-6964590781432730370.args[0]\"]\n\t-4896702136590049048 [label=\"Either.left\" id=-4896702136590049048]\n\t-2718709984261421422 -> 205164300450344970 [id=\"6119802382549264123.args[1]\"]\n\t205164300450344970 [label=\"Maybe.map\" id=205164300450344970]\n\t205164300450344970 -> -7726250483385592724 [id=\"205164300450344970.args[0]\"]\n\t-7726250483385592724 [label=\"Converter.convert\" id=-7726250483385592724]\n\t-7726250483385592724 -> -7737040241182541916 [id=\"-7726250483385592724.args[0]\"]\n\t205164300450344970 -> 5566425489881085421 [id=\"205164300450344970.args[1]\"]\n\t5566425489881085421 [label=\"Abstraction.from_fn\" id=5566425489881085421]\n\t5566425489881085421 -> 997777855050798697 [id=\"5566425489881085421.args[0]\"]\n\t997777855050798697 [label=\"Either.right\" id=997777855050798697]\n\t8577593290393460617 -> -871166542655442750 [id=\"6939635006650947043.args[1]\"]\n\t-871166542655442750 [label=\"Abstraction.from_fn\" id=-871166542655442750]\n\t-871166542655442750 -> 1487200333614558642 [id=\"-871166542655442750.args[0]\"]\n\t1487200333614558642 [label=\"function NDArrayCompat.__getitem__.locals.lambda at 0x11be0dea0\" id=1487200333614558642]\n}",
         "label": null,
         "rule": "metadsl_core.integer.convert_integer"
        },
        {
         "graph": "digraph {\n\tnode [shape=plain]\n\tedge [arrowsize=0.5 penwidth=0.5]\n\t2324675140344447997 [label=\"NDArrayCompat.to_ndarray\" id=-1341672716970475800]\n\t2324675140344447997 -> -57591596287814518 [id=\"-1341672716970475800.args[0]\"]\n\t-57591596287814518 [label=\"NDArrayCompat.from_ndarray\" id=-4772016795270189587]\n\t-57591596287814518 -> 3351888507285081000 [id=\"-4772016795270189587.args[0]\"]\n\t3351888507285081000 [label=\"Maybe.map\" id=6939635006650947043]\n\t3351888507285081000 -> 4963759302425763067 [id=\"6939635006650947043.args[0]\"]\n\t4963759302425763067 [label=\"Maybe.__and__\" id=8017410877576515236]\n\t4963759302425763067 -> 4408648251278560909 [id=\"8017410877576515236.args[0]\"]\n\t4408648251278560909 [label=\"Converter.convert\" id=-2410300585153220666]\n\t4408648251278560909 -> -6584392053997967718 [id=\"-2410300585153220666.args[0]\"]\n\t-6584392053997967718 [label=\"NDArrayCompat.__add__\" id=7129645178974278596]\n\t-6584392053997967718 -> -8012671916351216724 [id=\"7129645178974278596.args[0]\"]\n\t-8012671916351216724 [label=\"NDArrayCompat.from_ndarray\" id=1450785392786500356]\n\t-8012671916351216724 -> 37540587745940159 [id=\"1450785392786500356.args[0]\"]\n\t37540587745940159 [label=\"Maybe.map\" id=-8896708649560101528]\n\t37540587745940159 -> -6059403141323843149 [id=\"-8896708649560101528.args[0]\"]\n\t-6059403141323843149 [label=\"Maybe.just\" id=-6059403141323843149]\n\t-6059403141323843149 -> -1313138448651871637 [id=\"-6059403141323843149.args[0]\"]\n\t-1313138448651871637 [label=\"Integer.from_int\" id=-1313138448651871637]\n\t-1313138448651871637 -> -7737040241287546841 [id=\"-1313138448651871637.args[0]\"]\n\t-7737040241287546841 [label=100 id=-5945887149520679823]\n\t37540587745940159 -> 577873550496070922 [id=\"-8896708649560101528.args[1]\"]\n\t577873550496070922 [label=\"Abstraction.from_fn\" id=577873550496070922]\n\t577873550496070922 -> -5685572929299947036 [id=\"577873550496070922.args[0]\"]\n\t-5685572929299947036 [label=arange_ id=-5685572929299947036]\n\t-6584392053997967718 -> -8012671916351216724 [id=\"7129645178974278596.args[1]\"]\n\t4963759302425763067 -> -2718709984261421422 [id=\"8017410877576515236.args[1]\"]\n\t-2718709984261421422 [label=\"Maybe.__or__\" id=6119802382549264123]\n\t-2718709984261421422 -> 6054610842773739130 [id=\"6119802382549264123.args[0]\"]\n\t6054610842773739130 [label=\"Maybe.map\" id=-5297356175593613083]\n\t6054610842773739130 -> -1372317109959694973 [id=\"-5297356175593613083.args[0]\"]\n\t-1372317109959694973 [label=\"Maybe.just\" id=-1372317109959694973]\n\t-1372317109959694973 -> 2507768681348984026 [id=\"-1372317109959694973.args[0]\"]\n\t2507768681348984026 [label=\"Integer.from_int\" id=2507768681348984026]\n\t2507768681348984026 -> -7737040241182541916 [id=\"2507768681348984026.args[0]\"]\n\t-7737040241182541916 [label=5 id=-3794084279707917178]\n\t6054610842773739130 -> -6964590781432730370 [id=\"-5297356175593613083.args[1]\"]\n\t-6964590781432730370 [label=\"Abstraction.from_fn\" id=-6964590781432730370]\n\t-6964590781432730370 -> -4896702136590049048 [id=\"-6964590781432730370.args[0]\"]\n\t-4896702136590049048 [label=\"Either.left\" id=-4896702136590049048]\n\t-2718709984261421422 -> 205164300450344970 [id=\"6119802382549264123.args[1]\"]\n\t205164300450344970 [label=\"Maybe.map\" id=205164300450344970]\n\t205164300450344970 -> -7726250483385592724 [id=\"205164300450344970.args[0]\"]\n\t-7726250483385592724 [label=\"Converter.convert\" id=-7726250483385592724]\n\t-7726250483385592724 -> -7737040241182541916 [id=\"-7726250483385592724.args[0]\"]\n\t205164300450344970 -> 5566425489881085421 [id=\"205164300450344970.args[1]\"]\n\t5566425489881085421 [label=\"Abstraction.from_fn\" id=5566425489881085421]\n\t5566425489881085421 -> 997777855050798697 [id=\"5566425489881085421.args[0]\"]\n\t997777855050798697 [label=\"Either.right\" id=997777855050798697]\n\t3351888507285081000 -> 8044185514099529250 [id=\"6939635006650947043.args[1]\"]\n\t8044185514099529250 [label=\"Abstraction.create\" id=8044185514099529250]\n\t8044185514099529250 -> -4167769655553708545 [id=\"8044185514099529250.args[0]\"]\n\t-4167769655553708545 [label=\"Abstraction.create_variable\" id=-4167769655553708545]\n\t-4167769655553708545 -> -4268939921069936459 [id=\"-4167769655553708545.args[0]\"]\n\t-4268939921069936459 [label=\"Variable(4763018240)\" id=-4268939921069936459]\n\t8044185514099529250 -> -8285762096060248770 [id=\"8044185514099529250.args[1]\"]\n\t-8285762096060248770 [label=\"NDArray.__getitem__\" id=-8285762096060248770]\n\t-8285762096060248770 -> -1612977471603230740 [id=\"-8285762096060248770.args[0]\"]\n\t-1612977471603230740 [label=\"Pair.left\" id=-1612977471603230740]\n\t-1612977471603230740 -> -4167769655553708545 [id=\"-1612977471603230740.args[0]\"]\n\t-8285762096060248770 -> -6366347408110540668 [id=\"-8285762096060248770.args[1]\"]\n\t-6366347408110540668 [label=\"Pair.right\" id=-6366347408110540668]\n\t-6366347408110540668 -> -4167769655553708545 [id=\"-6366347408110540668.args[0]\"]\n}",
         "label": null,
         "rule": "metadsl_core.abstraction.Abstraction.from_fn"
        },
        {
         "graph": "digraph {\n\tnode [shape=plain]\n\tedge [arrowsize=0.5 penwidth=0.5]\n\t1908381767751359253 [label=\"NDArrayCompat.to_ndarray\" id=-1341672716970475800]\n\t1908381767751359253 -> 8066782273380513599 [id=\"-1341672716970475800.args[0]\"]\n\t8066782273380513599 [label=\"NDArrayCompat.from_ndarray\" id=-4772016795270189587]\n\t8066782273380513599 -> -7305766661394700437 [id=\"-4772016795270189587.args[0]\"]\n\t-7305766661394700437 [label=\"Maybe.map\" id=6939635006650947043]\n\t-7305766661394700437 -> -3356027047693951489 [id=\"6939635006650947043.args[0]\"]\n\t-3356027047693951489 [label=\"Maybe.__and__\" id=8017410877576515236]\n\t-3356027047693951489 -> 4408648251278560909 [id=\"8017410877576515236.args[0]\"]\n\t4408648251278560909 [label=\"Converter.convert\" id=-2410300585153220666]\n\t4408648251278560909 -> -6584392053997967718 [id=\"-2410300585153220666.args[0]\"]\n\t-6584392053997967718 [label=\"NDArrayCompat.__add__\" id=7129645178974278596]\n\t-6584392053997967718 -> -8012671916351216724 [id=\"7129645178974278596.args[0]\"]\n\t-8012671916351216724 [label=\"NDArrayCompat.from_ndarray\" id=1450785392786500356]\n\t-8012671916351216724 -> 37540587745940159 [id=\"1450785392786500356.args[0]\"]\n\t37540587745940159 [label=\"Maybe.map\" id=-8896708649560101528]\n\t37540587745940159 -> -6059403141323843149 [id=\"-8896708649560101528.args[0]\"]\n\t-6059403141323843149 [label=\"Maybe.just\" id=-6059403141323843149]\n\t-6059403141323843149 -> -1313138448651871637 [id=\"-6059403141323843149.args[0]\"]\n\t-1313138448651871637 [label=\"Integer.from_int\" id=-1313138448651871637]\n\t-1313138448651871637 -> -7737040241287546841 [id=\"-1313138448651871637.args[0]\"]\n\t-7737040241287546841 [label=100 id=-5945887149520679823]\n\t37540587745940159 -> 577873550496070922 [id=\"-8896708649560101528.args[1]\"]\n\t577873550496070922 [label=\"Abstraction.from_fn\" id=577873550496070922]\n\t577873550496070922 -> -5685572929299947036 [id=\"577873550496070922.args[0]\"]\n\t-5685572929299947036 [label=arange_ id=-5685572929299947036]\n\t-6584392053997967718 -> -8012671916351216724 [id=\"7129645178974278596.args[1]\"]\n\t-3356027047693951489 -> -4219785196091962386 [id=\"8017410877576515236.args[1]\"]\n\t-4219785196091962386 [label=\"Maybe.__or__\" id=6119802382549264123]\n\t-4219785196091962386 -> 6054610842773739130 [id=\"6119802382549264123.args[0]\"]\n\t6054610842773739130 [label=\"Maybe.map\" id=-5297356175593613083]\n\t6054610842773739130 -> -1372317109959694973 [id=\"-5297356175593613083.args[0]\"]\n\t-1372317109959694973 [label=\"Maybe.just\" id=-1372317109959694973]\n\t-1372317109959694973 -> 2507768681348984026 [id=\"-1372317109959694973.args[0]\"]\n\t2507768681348984026 [label=\"Integer.from_int\" id=2507768681348984026]\n\t2507768681348984026 -> -7737040241182541916 [id=\"2507768681348984026.args[0]\"]\n\t-7737040241182541916 [label=5 id=-3794084279707917178]\n\t6054610842773739130 -> -6964590781432730370 [id=\"-5297356175593613083.args[1]\"]\n\t-6964590781432730370 [label=\"Abstraction.from_fn\" id=-6964590781432730370]\n\t-6964590781432730370 -> -4896702136590049048 [id=\"-6964590781432730370.args[0]\"]\n\t-4896702136590049048 [label=\"Either.left\" id=-4896702136590049048]\n\t-4219785196091962386 -> -686259872675126378 [id=\"6119802382549264123.args[1]\"]\n\t-686259872675126378 [label=\"Maybe.map\" id=-686259872675126378]\n\t-686259872675126378 -> -7726250483385592724 [id=\"-686259872675126378.args[0]\"]\n\t-7726250483385592724 [label=\"Converter.convert\" id=-7726250483385592724]\n\t-7726250483385592724 -> -7737040241182541916 [id=\"-7726250483385592724.args[0]\"]\n\t-686259872675126378 -> -2838797792369224052 [id=\"-686259872675126378.args[1]\"]\n\t-2838797792369224052 [label=\"Abstraction.create\" id=-2838797792369224052]\n\t-2838797792369224052 -> -3343294864562084740 [id=\"-2838797792369224052.args[0]\"]\n\t-3343294864562084740 [label=\"Abstraction.create_variable\" id=-3343294864562084740]\n\t-3343294864562084740 -> 4954432134779905524 [id=\"-3343294864562084740.args[0]\"]\n\t4954432134779905524 [label=\"Variable(4763172088)\" id=4954432134779905524]\n\t-2838797792369224052 -> -5480872129034902157 [id=\"-2838797792369224052.args[1]\"]\n\t-5480872129034902157 [label=\"Either.right\" id=-5480872129034902157]\n\t-5480872129034902157 -> -3343294864562084740 [id=\"-5480872129034902157.args[0]\"]\n\t-7305766661394700437 -> 8044185514099529250 [id=\"6939635006650947043.args[1]\"]\n\t8044185514099529250 [label=\"Abstraction.create\" id=8044185514099529250]\n\t8044185514099529250 -> -4167769655553708545 [id=\"8044185514099529250.args[0]\"]\n\t-4167769655553708545 [label=\"Abstraction.create_variable\" id=-4167769655553708545]\n\t-4167769655553708545 -> -4268939921069936459 [id=\"-4167769655553708545.args[0]\"]\n\t-4268939921069936459 [label=\"Variable(4763018240)\" id=-4268939921069936459]\n\t8044185514099529250 -> -8285762096060248770 [id=\"8044185514099529250.args[1]\"]\n\t-8285762096060248770 [label=\"NDArray.__getitem__\" id=-8285762096060248770]\n\t-8285762096060248770 -> -1612977471603230740 [id=\"-8285762096060248770.args[0]\"]\n\t-1612977471603230740 [label=\"Pair.left\" id=-1612977471603230740]\n\t-1612977471603230740 -> -4167769655553708545 [id=\"-1612977471603230740.args[0]\"]\n\t-8285762096060248770 -> -6366347408110540668 [id=\"-8285762096060248770.args[1]\"]\n\t-6366347408110540668 [label=\"Pair.right\" id=-6366347408110540668]\n\t-6366347408110540668 -> -4167769655553708545 [id=\"-6366347408110540668.args[0]\"]\n}",
         "label": null,
         "rule": "metadsl_core.abstraction.Abstraction.from_fn"
        },
        {
         "graph": "digraph {\n\tnode [shape=plain]\n\tedge [arrowsize=0.5 penwidth=0.5]\n\t-3277789661791732314 [label=\"NDArrayCompat.to_ndarray\" id=-1341672716970475800]\n\t-3277789661791732314 -> 5377129414771497715 [id=\"-1341672716970475800.args[0]\"]\n\t5377129414771497715 [label=\"NDArrayCompat.from_ndarray\" id=-4772016795270189587]\n\t5377129414771497715 -> -2827158518281892059 [id=\"-4772016795270189587.args[0]\"]\n\t-2827158518281892059 [label=\"Maybe.map\" id=6939635006650947043]\n\t-2827158518281892059 -> -1106245085015694132 [id=\"6939635006650947043.args[0]\"]\n\t-1106245085015694132 [label=\"Maybe.__and__\" id=8017410877576515236]\n\t-1106245085015694132 -> 4408648251278560909 [id=\"8017410877576515236.args[0]\"]\n\t4408648251278560909 [label=\"Converter.convert\" id=-2410300585153220666]\n\t4408648251278560909 -> -6584392053997967718 [id=\"-2410300585153220666.args[0]\"]\n\t-6584392053997967718 [label=\"NDArrayCompat.__add__\" id=7129645178974278596]\n\t-6584392053997967718 -> -8012671916351216724 [id=\"7129645178974278596.args[0]\"]\n\t-8012671916351216724 [label=\"NDArrayCompat.from_ndarray\" id=1450785392786500356]\n\t-8012671916351216724 -> 37540587745940159 [id=\"1450785392786500356.args[0]\"]\n\t37540587745940159 [label=\"Maybe.map\" id=-8896708649560101528]\n\t37540587745940159 -> -6059403141323843149 [id=\"-8896708649560101528.args[0]\"]\n\t-6059403141323843149 [label=\"Maybe.just\" id=-6059403141323843149]\n\t-6059403141323843149 -> -1313138448651871637 [id=\"-6059403141323843149.args[0]\"]\n\t-1313138448651871637 [label=\"Integer.from_int\" id=-1313138448651871637]\n\t-1313138448651871637 -> -7737040241287546841 [id=\"-1313138448651871637.args[0]\"]\n\t-7737040241287546841 [label=100 id=-5945887149520679823]\n\t37540587745940159 -> 577873550496070922 [id=\"-8896708649560101528.args[1]\"]\n\t577873550496070922 [label=\"Abstraction.from_fn\" id=577873550496070922]\n\t577873550496070922 -> -5685572929299947036 [id=\"577873550496070922.args[0]\"]\n\t-5685572929299947036 [label=arange_ id=-5685572929299947036]\n\t-6584392053997967718 -> -8012671916351216724 [id=\"7129645178974278596.args[1]\"]\n\t-1106245085015694132 -> -4179875107795948895 [id=\"8017410877576515236.args[1]\"]\n\t-4179875107795948895 [label=\"Maybe.__or__\" id=-4179875107795948895]\n\t-4179875107795948895 -> 5626037285224763133 [id=\"-4179875107795948895.args[0]\"]\n\t5626037285224763133 [label=\"Maybe.map\" id=5626037285224763133]\n\t5626037285224763133 -> -1372317109959694973 [id=\"5626037285224763133.args[0]\"]\n\t-1372317109959694973 [label=\"Maybe.just\" id=-1372317109959694973]\n\t-1372317109959694973 -> 2507768681348984026 [id=\"-1372317109959694973.args[0]\"]\n\t2507768681348984026 [label=\"Integer.from_int\" id=2507768681348984026]\n\t2507768681348984026 -> -7737040241182541916 [id=\"2507768681348984026.args[0]\"]\n\t-7737040241182541916 [label=5 id=-3794084279707917178]\n\t5626037285224763133 -> -3632599159356222693 [id=\"5626037285224763133.args[1]\"]\n\t-3632599159356222693 [label=\"Abstraction.create\" id=-3632599159356222693]\n\t-3632599159356222693 -> -4838891889665744714 [id=\"-3632599159356222693.args[0]\"]\n\t-4838891889665744714 [label=\"Abstraction.create_variable\" id=-4838891889665744714]\n\t-4838891889665744714 -> 4954432145743718724 [id=\"-4838891889665744714.args[0]\"]\n\t4954432145743718724 [label=\"Variable(4763330040)\" id=4954432145743718724]\n\t-3632599159356222693 -> -5428197908604838827 [id=\"-3632599159356222693.args[1]\"]\n\t-5428197908604838827 [label=\"Either.left\" id=-5428197908604838827]\n\t-5428197908604838827 -> -4838891889665744714 [id=\"-5428197908604838827.args[0]\"]\n\t-4179875107795948895 -> -686259872675126378 [id=\"-4179875107795948895.args[1]\"]\n\t-686259872675126378 [label=\"Maybe.map\" id=-686259872675126378]\n\t-686259872675126378 -> -7726250483385592724 [id=\"-686259872675126378.args[0]\"]\n\t-7726250483385592724 [label=\"Converter.convert\" id=-7726250483385592724]\n\t-7726250483385592724 -> -7737040241182541916 [id=\"-7726250483385592724.args[0]\"]\n\t-686259872675126378 -> -2838797792369224052 [id=\"-686259872675126378.args[1]\"]\n\t-2838797792369224052 [label=\"Abstraction.create\" id=-2838797792369224052]\n\t-2838797792369224052 -> -3343294864562084740 [id=\"-2838797792369224052.args[0]\"]\n\t-3343294864562084740 [label=\"Abstraction.create_variable\" id=-3343294864562084740]\n\t-3343294864562084740 -> 4954432134779905524 [id=\"-3343294864562084740.args[0]\"]\n\t4954432134779905524 [label=\"Variable(4763172088)\" id=4954432134779905524]\n\t-2838797792369224052 -> -5480872129034902157 [id=\"-2838797792369224052.args[1]\"]\n\t-5480872129034902157 [label=\"Either.right\" id=-5480872129034902157]\n\t-5480872129034902157 -> -3343294864562084740 [id=\"-5480872129034902157.args[0]\"]\n\t-2827158518281892059 -> 8044185514099529250 [id=\"6939635006650947043.args[1]\"]\n\t8044185514099529250 [label=\"Abstraction.create\" id=8044185514099529250]\n\t8044185514099529250 -> -4167769655553708545 [id=\"8044185514099529250.args[0]\"]\n\t-4167769655553708545 [label=\"Abstraction.create_variable\" id=-4167769655553708545]\n\t-4167769655553708545 -> -4268939921069936459 [id=\"-4167769655553708545.args[0]\"]\n\t-4268939921069936459 [label=\"Variable(4763018240)\" id=-4268939921069936459]\n\t8044185514099529250 -> -8285762096060248770 [id=\"8044185514099529250.args[1]\"]\n\t-8285762096060248770 [label=\"NDArray.__getitem__\" id=-8285762096060248770]\n\t-8285762096060248770 -> -1612977471603230740 [id=\"-8285762096060248770.args[0]\"]\n\t-1612977471603230740 [label=\"Pair.left\" id=-1612977471603230740]\n\t-1612977471603230740 -> -4167769655553708545 [id=\"-1612977471603230740.args[0]\"]\n\t-8285762096060248770 -> -6366347408110540668 [id=\"-8285762096060248770.args[1]\"]\n\t-6366347408110540668 [label=\"Pair.right\" id=-6366347408110540668]\n\t-6366347408110540668 -> -4167769655553708545 [id=\"-6366347408110540668.args[0]\"]\n}",
         "label": null,
         "rule": "metadsl_core.abstraction.Abstraction.from_fn"
        },
        {
         "graph": "digraph {\n\tnode [shape=plain]\n\tedge [arrowsize=0.5 penwidth=0.5]\n\t5209810089249904264 [label=\"NDArrayCompat.to_ndarray\" id=-1341672716970475800]\n\t5209810089249904264 -> 2409960499730573834 [id=\"-1341672716970475800.args[0]\"]\n\t2409960499730573834 [label=\"NDArrayCompat.from_ndarray\" id=-4772016795270189587]\n\t2409960499730573834 -> 339927863618753833 [id=\"-4772016795270189587.args[0]\"]\n\t339927863618753833 [label=\"Maybe.map\" id=6939635006650947043]\n\t339927863618753833 -> -2745558395708079455 [id=\"6939635006650947043.args[0]\"]\n\t-2745558395708079455 [label=\"Maybe.__and__\" id=-2745558395708079455]\n\t-2745558395708079455 -> -1749051929928717773 [id=\"-2745558395708079455.args[0]\"]\n\t-1749051929928717773 [label=\"Converter.convert\" id=-1749051929928717773]\n\t-1749051929928717773 -> -5882035132617130320 [id=\"-1749051929928717773.args[0]\"]\n\t-5882035132617130320 [label=\"NDArrayCompat.__add__\" id=-5882035132617130320]\n\t-5882035132617130320 -> -8766707318650306503 [id=\"-5882035132617130320.args[0]\"]\n\t-8766707318650306503 [label=\"NDArrayCompat.from_ndarray\" id=-8766707318650306503]\n\t-8766707318650306503 -> -6175040583256772104 [id=\"-8766707318650306503.args[0]\"]\n\t-6175040583256772104 [label=\"Maybe.map\" id=-6175040583256772104]\n\t-6175040583256772104 -> -6059403141323843149 [id=\"-6175040583256772104.args[0]\"]\n\t-6059403141323843149 [label=\"Maybe.just\" id=-6059403141323843149]\n\t-6059403141323843149 -> -1313138448651871637 [id=\"-6059403141323843149.args[0]\"]\n\t-1313138448651871637 [label=\"Integer.from_int\" id=-1313138448651871637]\n\t-1313138448651871637 -> -7737040241287546841 [id=\"-1313138448651871637.args[0]\"]\n\t-7737040241287546841 [label=100 id=-5945887149520679823]\n\t-6175040583256772104 -> -4643297354090513087 [id=\"-6175040583256772104.args[1]\"]\n\t-4643297354090513087 [label=\"Abstraction.create\" id=-4643297354090513087]\n\t-4643297354090513087 -> 5534931599655894334 [id=\"-4643297354090513087.args[0]\"]\n\t5534931599655894334 [label=\"Abstraction.create_variable\" id=5534931599655894334]\n\t5534931599655894334 -> 4954432122860222749 [id=\"5534931599655894334.args[0]\"]\n\t4954432122860222749 [label=\"Variable(4763110536)\" id=4954432122860222749]\n\t-4643297354090513087 -> -3508081724970013213 [id=\"-4643297354090513087.args[1]\"]\n\t-3508081724970013213 [label=arange_ id=-3508081724970013213]\n\t-3508081724970013213 -> 5534931599655894334 [id=\"-3508081724970013213.args[0]\"]\n\t-5882035132617130320 -> -8766707318650306503 [id=\"-5882035132617130320.args[1]\"]\n\t-2745558395708079455 -> -4179875107795948895 [id=\"-2745558395708079455.args[1]\"]\n\t-4179875107795948895 [label=\"Maybe.__or__\" id=-4179875107795948895]\n\t-4179875107795948895 -> 5626037285224763133 [id=\"-4179875107795948895.args[0]\"]\n\t5626037285224763133 [label=\"Maybe.map\" id=5626037285224763133]\n\t5626037285224763133 -> -1372317109959694973 [id=\"5626037285224763133.args[0]\"]\n\t-1372317109959694973 [label=\"Maybe.just\" id=-1372317109959694973]\n\t-1372317109959694973 -> 2507768681348984026 [id=\"-1372317109959694973.args[0]\"]\n\t2507768681348984026 [label=\"Integer.from_int\" id=2507768681348984026]\n\t2507768681348984026 -> -7737040241182541916 [id=\"2507768681348984026.args[0]\"]\n\t-7737040241182541916 [label=5 id=-3794084279707917178]\n\t5626037285224763133 -> -3632599159356222693 [id=\"5626037285224763133.args[1]\"]\n\t-3632599159356222693 [label=\"Abstraction.create\" id=-3632599159356222693]\n\t-3632599159356222693 -> -4838891889665744714 [id=\"-3632599159356222693.args[0]\"]\n\t-4838891889665744714 [label=\"Abstraction.create_variable\" id=-4838891889665744714]\n\t-4838891889665744714 -> 4954432145743718724 [id=\"-4838891889665744714.args[0]\"]\n\t4954432145743718724 [label=\"Variable(4763330040)\" id=4954432145743718724]\n\t-3632599159356222693 -> -5428197908604838827 [id=\"-3632599159356222693.args[1]\"]\n\t-5428197908604838827 [label=\"Either.left\" id=-5428197908604838827]\n\t-5428197908604838827 -> -4838891889665744714 [id=\"-5428197908604838827.args[0]\"]\n\t-4179875107795948895 -> -686259872675126378 [id=\"-4179875107795948895.args[1]\"]\n\t-686259872675126378 [label=\"Maybe.map\" id=-686259872675126378]\n\t-686259872675126378 -> -7726250483385592724 [id=\"-686259872675126378.args[0]\"]\n\t-7726250483385592724 [label=\"Converter.convert\" id=-7726250483385592724]\n\t-7726250483385592724 -> -7737040241182541916 [id=\"-7726250483385592724.args[0]\"]\n\t-686259872675126378 -> -2838797792369224052 [id=\"-686259872675126378.args[1]\"]\n\t-2838797792369224052 [label=\"Abstraction.create\" id=-2838797792369224052]\n\t-2838797792369224052 -> -3343294864562084740 [id=\"-2838797792369224052.args[0]\"]\n\t-3343294864562084740 [label=\"Abstraction.create_variable\" id=-3343294864562084740]\n\t-3343294864562084740 -> 4954432134779905524 [id=\"-3343294864562084740.args[0]\"]\n\t4954432134779905524 [label=\"Variable(4763172088)\" id=4954432134779905524]\n\t-2838797792369224052 -> -5480872129034902157 [id=\"-2838797792369224052.args[1]\"]\n\t-5480872129034902157 [label=\"Either.right\" id=-5480872129034902157]\n\t-5480872129034902157 -> -3343294864562084740 [id=\"-5480872129034902157.args[0]\"]\n\t339927863618753833 -> 8044185514099529250 [id=\"6939635006650947043.args[1]\"]\n\t8044185514099529250 [label=\"Abstraction.create\" id=8044185514099529250]\n\t8044185514099529250 -> -4167769655553708545 [id=\"8044185514099529250.args[0]\"]\n\t-4167769655553708545 [label=\"Abstraction.create_variable\" id=-4167769655553708545]\n\t-4167769655553708545 -> -4268939921069936459 [id=\"-4167769655553708545.args[0]\"]\n\t-4268939921069936459 [label=\"Variable(4763018240)\" id=-4268939921069936459]\n\t8044185514099529250 -> -8285762096060248770 [id=\"8044185514099529250.args[1]\"]\n\t-8285762096060248770 [label=\"NDArray.__getitem__\" id=-8285762096060248770]\n\t-8285762096060248770 -> -1612977471603230740 [id=\"-8285762096060248770.args[0]\"]\n\t-1612977471603230740 [label=\"Pair.left\" id=-1612977471603230740]\n\t-1612977471603230740 -> -4167769655553708545 [id=\"-1612977471603230740.args[0]\"]\n\t-8285762096060248770 -> -6366347408110540668 [id=\"-8285762096060248770.args[1]\"]\n\t-6366347408110540668 [label=\"Pair.right\" id=-6366347408110540668]\n\t-6366347408110540668 -> -4167769655553708545 [id=\"-6366347408110540668.args[0]\"]\n}",
         "label": null,
         "rule": "metadsl_core.abstraction.Abstraction.from_fn"
        },
        {
         "graph": "digraph {\n\tnode [shape=plain]\n\tedge [arrowsize=0.5 penwidth=0.5]\n\t-662424398955294436 [label=\"NDArrayCompat.to_ndarray\" id=-1341672716970475800]\n\t-662424398955294436 -> 8444130643071199444 [id=\"-1341672716970475800.args[0]\"]\n\t8444130643071199444 [label=\"NDArrayCompat.from_ndarray\" id=-4772016795270189587]\n\t8444130643071199444 -> 8187099859529184916 [id=\"-4772016795270189587.args[0]\"]\n\t8187099859529184916 [label=\"Maybe.match\" id=6939635006650947043]\n\t8187099859529184916 -> -2745558395708079455 [id=\"6939635006650947043.args[0]\"]\n\t-2745558395708079455 [label=\"Maybe.__and__\" id=-2745558395708079455]\n\t-2745558395708079455 -> -1749051929928717773 [id=\"-2745558395708079455.args[0]\"]\n\t-1749051929928717773 [label=\"Converter.convert\" id=-1749051929928717773]\n\t-1749051929928717773 -> -5882035132617130320 [id=\"-1749051929928717773.args[0]\"]\n\t-5882035132617130320 [label=\"NDArrayCompat.__add__\" id=-5882035132617130320]\n\t-5882035132617130320 -> -8766707318650306503 [id=\"-5882035132617130320.args[0]\"]\n\t-8766707318650306503 [label=\"NDArrayCompat.from_ndarray\" id=-8766707318650306503]\n\t-8766707318650306503 -> -6175040583256772104 [id=\"-8766707318650306503.args[0]\"]\n\t-6175040583256772104 [label=\"Maybe.map\" id=-6175040583256772104]\n\t-6175040583256772104 -> -6059403141323843149 [id=\"-6175040583256772104.args[0]\"]\n\t-6059403141323843149 [label=\"Maybe.just\" id=-6059403141323843149]\n\t-6059403141323843149 -> -1313138448651871637 [id=\"-6059403141323843149.args[0]\"]\n\t-1313138448651871637 [label=\"Integer.from_int\" id=-1313138448651871637]\n\t-1313138448651871637 -> -7737040241287546841 [id=\"-1313138448651871637.args[0]\"]\n\t-7737040241287546841 [label=100 id=-5945887149520679823]\n\t-6175040583256772104 -> -4643297354090513087 [id=\"-6175040583256772104.args[1]\"]\n\t-4643297354090513087 [label=\"Abstraction.create\" id=-4643297354090513087]\n\t-4643297354090513087 -> 5534931599655894334 [id=\"-4643297354090513087.args[0]\"]\n\t5534931599655894334 [label=\"Abstraction.create_variable\" id=5534931599655894334]\n\t5534931599655894334 -> 4954432122860222749 [id=\"5534931599655894334.args[0]\"]\n\t4954432122860222749 [label=\"Variable(4763110536)\" id=4954432122860222749]\n\t-4643297354090513087 -> -3508081724970013213 [id=\"-4643297354090513087.args[1]\"]\n\t-3508081724970013213 [label=arange_ id=-3508081724970013213]\n\t-3508081724970013213 -> 5534931599655894334 [id=\"-3508081724970013213.args[0]\"]\n\t-5882035132617130320 -> -8766707318650306503 [id=\"-5882035132617130320.args[1]\"]\n\t-2745558395708079455 -> -4179875107795948895 [id=\"-2745558395708079455.args[1]\"]\n\t-4179875107795948895 [label=\"Maybe.__or__\" id=-4179875107795948895]\n\t-4179875107795948895 -> 5626037285224763133 [id=\"-4179875107795948895.args[0]\"]\n\t5626037285224763133 [label=\"Maybe.map\" id=5626037285224763133]\n\t5626037285224763133 -> -1372317109959694973 [id=\"5626037285224763133.args[0]\"]\n\t-1372317109959694973 [label=\"Maybe.just\" id=-1372317109959694973]\n\t-1372317109959694973 -> 2507768681348984026 [id=\"-1372317109959694973.args[0]\"]\n\t2507768681348984026 [label=\"Integer.from_int\" id=2507768681348984026]\n\t2507768681348984026 -> -7737040241182541916 [id=\"2507768681348984026.args[0]\"]\n\t-7737040241182541916 [label=5 id=-3794084279707917178]\n\t5626037285224763133 -> -3632599159356222693 [id=\"5626037285224763133.args[1]\"]\n\t-3632599159356222693 [label=\"Abstraction.create\" id=-3632599159356222693]\n\t-3632599159356222693 -> -4838891889665744714 [id=\"-3632599159356222693.args[0]\"]\n\t-4838891889665744714 [label=\"Abstraction.create_variable\" id=-4838891889665744714]\n\t-4838891889665744714 -> 4954432145743718724 [id=\"-4838891889665744714.args[0]\"]\n\t4954432145743718724 [label=\"Variable(4763330040)\" id=4954432145743718724]\n\t-3632599159356222693 -> -5428197908604838827 [id=\"-3632599159356222693.args[1]\"]\n\t-5428197908604838827 [label=\"Either.left\" id=-5428197908604838827]\n\t-5428197908604838827 -> -4838891889665744714 [id=\"-5428197908604838827.args[0]\"]\n\t-4179875107795948895 -> -686259872675126378 [id=\"-4179875107795948895.args[1]\"]\n\t-686259872675126378 [label=\"Maybe.map\" id=-686259872675126378]\n\t-686259872675126378 -> -7726250483385592724 [id=\"-686259872675126378.args[0]\"]\n\t-7726250483385592724 [label=\"Converter.convert\" id=-7726250483385592724]\n\t-7726250483385592724 -> -7737040241182541916 [id=\"-7726250483385592724.args[0]\"]\n\t-686259872675126378 -> -2838797792369224052 [id=\"-686259872675126378.args[1]\"]\n\t-2838797792369224052 [label=\"Abstraction.create\" id=-2838797792369224052]\n\t-2838797792369224052 -> -3343294864562084740 [id=\"-2838797792369224052.args[0]\"]\n\t-3343294864562084740 [label=\"Abstraction.create_variable\" id=-3343294864562084740]\n\t-3343294864562084740 -> 4954432134779905524 [id=\"-3343294864562084740.args[0]\"]\n\t4954432134779905524 [label=\"Variable(4763172088)\" id=4954432134779905524]\n\t-2838797792369224052 -> -5480872129034902157 [id=\"-2838797792369224052.args[1]\"]\n\t-5480872129034902157 [label=\"Either.right\" id=-5480872129034902157]\n\t-5480872129034902157 -> -3343294864562084740 [id=\"-5480872129034902157.args[0]\"]\n\t8187099859529184916 -> 9032834383112645395 [id=\"6939635006650947043.args[1]\"]\n\t9032834383112645395 [label=\"Maybe.nothing\" id=9032834383112645395]\n\t8187099859529184916 -> 1513986338388351247 [id=\"6939635006650947043.args[2]\"]\n\t1513986338388351247 [label=\"Abstraction.__add__\" id=1513986338388351247]\n\t1513986338388351247 -> -1894269937027086384 [id=\"1513986338388351247.args[0]\"]\n\t-1894269937027086384 [label=\"Abstraction.from_fn\" id=-1894269937027086384]\n\t-1894269937027086384 -> -4855096197904090350 [id=\"-1894269937027086384.args[0]\"]\n\t-4855096197904090350 [label=\"Maybe.just\" id=-4855096197904090350]\n\t1513986338388351247 -> 8044185514099529250 [id=\"1513986338388351247.args[1]\"]\n\t8044185514099529250 [label=\"Abstraction.create\" id=8044185514099529250]\n\t8044185514099529250 -> -4167769655553708545 [id=\"8044185514099529250.args[0]\"]\n\t-4167769655553708545 [label=\"Abstraction.create_variable\" id=-4167769655553708545]\n\t-4167769655553708545 -> -4268939921069936459 [id=\"-4167769655553708545.args[0]\"]\n\t-4268939921069936459 [label=\"Variable(4763018240)\" id=-4268939921069936459]\n\t8044185514099529250 -> -8285762096060248770 [id=\"8044185514099529250.args[1]\"]\n\t-8285762096060248770 [label=\"NDArray.__getitem__\" id=-8285762096060248770]\n\t-8285762096060248770 -> -1612977471603230740 [id=\"-8285762096060248770.args[0]\"]\n\t-1612977471603230740 [label=\"Pair.left\" id=-1612977471603230740]\n\t-1612977471603230740 -> -4167769655553708545 [id=\"-1612977471603230740.args[0]\"]\n\t-8285762096060248770 -> -6366347408110540668 [id=\"-8285762096060248770.args[1]\"]\n\t-6366347408110540668 [label=\"Pair.right\" id=-6366347408110540668]\n\t-6366347408110540668 -> -4167769655553708545 [id=\"-6366347408110540668.args[0]\"]\n}",
         "label": null,
         "rule": "metadsl_core.maybe.Maybe.map"
        },
        {
         "graph": "digraph {\n\tnode [shape=plain]\n\tedge [arrowsize=0.5 penwidth=0.5]\n\t-7810628170542737225 [label=\"NDArrayCompat.to_ndarray\" id=-1341672716970475800]\n\t-7810628170542737225 -> -3273994636484566759 [id=\"-1341672716970475800.args[0]\"]\n\t-3273994636484566759 [label=\"NDArrayCompat.from_ndarray\" id=-4772016795270189587]\n\t-3273994636484566759 -> -1315959686832490410 [id=\"-4772016795270189587.args[0]\"]\n\t-1315959686832490410 [label=\"Maybe.match\" id=6939635006650947043]\n\t-1315959686832490410 -> 6692383433071077384 [id=\"6939635006650947043.args[0]\"]\n\t6692383433071077384 [label=\"Maybe.__and__\" id=-2745558395708079455]\n\t6692383433071077384 -> -1749051929928717773 [id=\"-2745558395708079455.args[0]\"]\n\t-1749051929928717773 [label=\"Converter.convert\" id=-1749051929928717773]\n\t-1749051929928717773 -> -5882035132617130320 [id=\"-1749051929928717773.args[0]\"]\n\t-5882035132617130320 [label=\"NDArrayCompat.__add__\" id=-5882035132617130320]\n\t-5882035132617130320 -> -8766707318650306503 [id=\"-5882035132617130320.args[0]\"]\n\t-8766707318650306503 [label=\"NDArrayCompat.from_ndarray\" id=-8766707318650306503]\n\t-8766707318650306503 -> -6175040583256772104 [id=\"-8766707318650306503.args[0]\"]\n\t-6175040583256772104 [label=\"Maybe.map\" id=-6175040583256772104]\n\t-6175040583256772104 -> -6059403141323843149 [id=\"-6175040583256772104.args[0]\"]\n\t-6059403141323843149 [label=\"Maybe.just\" id=-6059403141323843149]\n\t-6059403141323843149 -> -1313138448651871637 [id=\"-6059403141323843149.args[0]\"]\n\t-1313138448651871637 [label=\"Integer.from_int\" id=-1313138448651871637]\n\t-1313138448651871637 -> -7737040241287546841 [id=\"-1313138448651871637.args[0]\"]\n\t-7737040241287546841 [label=100 id=-5945887149520679823]\n\t-6175040583256772104 -> -4643297354090513087 [id=\"-6175040583256772104.args[1]\"]\n\t-4643297354090513087 [label=\"Abstraction.create\" id=-4643297354090513087]\n\t-4643297354090513087 -> 5534931599655894334 [id=\"-4643297354090513087.args[0]\"]\n\t5534931599655894334 [label=\"Abstraction.create_variable\" id=5534931599655894334]\n\t5534931599655894334 -> 4954432122860222749 [id=\"5534931599655894334.args[0]\"]\n\t4954432122860222749 [label=\"Variable(4763110536)\" id=4954432122860222749]\n\t-4643297354090513087 -> -3508081724970013213 [id=\"-4643297354090513087.args[1]\"]\n\t-3508081724970013213 [label=arange_ id=-3508081724970013213]\n\t-3508081724970013213 -> 5534931599655894334 [id=\"-3508081724970013213.args[0]\"]\n\t-5882035132617130320 -> -8766707318650306503 [id=\"-5882035132617130320.args[1]\"]\n\t6692383433071077384 -> 2276041996103891735 [id=\"-2745558395708079455.args[1]\"]\n\t2276041996103891735 [label=\"Maybe.__or__\" id=-4179875107795948895]\n\t2276041996103891735 -> 5626037285224763133 [id=\"-4179875107795948895.args[0]\"]\n\t5626037285224763133 [label=\"Maybe.map\" id=5626037285224763133]\n\t5626037285224763133 -> -1372317109959694973 [id=\"5626037285224763133.args[0]\"]\n\t-1372317109959694973 [label=\"Maybe.just\" id=-1372317109959694973]\n\t-1372317109959694973 -> 2507768681348984026 [id=\"-1372317109959694973.args[0]\"]\n\t2507768681348984026 [label=\"Integer.from_int\" id=2507768681348984026]\n\t2507768681348984026 -> -7737040241182541916 [id=\"2507768681348984026.args[0]\"]\n\t-7737040241182541916 [label=5 id=-3794084279707917178]\n\t5626037285224763133 -> -3632599159356222693 [id=\"5626037285224763133.args[1]\"]\n\t-3632599159356222693 [label=\"Abstraction.create\" id=-3632599159356222693]\n\t-3632599159356222693 -> -4838891889665744714 [id=\"-3632599159356222693.args[0]\"]\n\t-4838891889665744714 [label=\"Abstraction.create_variable\" id=-4838891889665744714]\n\t-4838891889665744714 -> 4954432145743718724 [id=\"-4838891889665744714.args[0]\"]\n\t4954432145743718724 [label=\"Variable(4763330040)\" id=4954432145743718724]\n\t-3632599159356222693 -> -5428197908604838827 [id=\"-3632599159356222693.args[1]\"]\n\t-5428197908604838827 [label=\"Either.left\" id=-5428197908604838827]\n\t-5428197908604838827 -> -4838891889665744714 [id=\"-5428197908604838827.args[0]\"]\n\t2276041996103891735 -> 7354692970200033373 [id=\"-4179875107795948895.args[1]\"]\n\t7354692970200033373 [label=\"Maybe.match\" id=-686259872675126378]\n\t7354692970200033373 -> -7726250483385592724 [id=\"-686259872675126378.args[0]\"]\n\t-7726250483385592724 [label=\"Converter.convert\" id=-7726250483385592724]\n\t-7726250483385592724 -> -7737040241182541916 [id=\"-7726250483385592724.args[0]\"]\n\t7354692970200033373 -> 542625740483342888 [id=\"-686259872675126378.args[1]\"]\n\t542625740483342888 [label=\"Maybe.nothing\" id=542625740483342888]\n\t7354692970200033373 -> -3933652525115683988 [id=\"-686259872675126378.args[2]\"]\n\t-3933652525115683988 [label=\"Abstraction.__add__\" id=-3933652525115683988]\n\t-3933652525115683988 -> 2013462788875869881 [id=\"-3933652525115683988.args[0]\"]\n\t2013462788875869881 [label=\"Abstraction.from_fn\" id=2013462788875869881]\n\t2013462788875869881 -> -944428355994881963 [id=\"2013462788875869881.args[0]\"]\n\t-944428355994881963 [label=\"Maybe.just\" id=-944428355994881963]\n\t-3933652525115683988 -> -2838797792369224052 [id=\"-3933652525115683988.args[1]\"]\n\t-2838797792369224052 [label=\"Abstraction.create\" id=-2838797792369224052]\n\t-2838797792369224052 -> -3343294864562084740 [id=\"-2838797792369224052.args[0]\"]\n\t-3343294864562084740 [label=\"Abstraction.create_variable\" id=-3343294864562084740]\n\t-3343294864562084740 -> 4954432134779905524 [id=\"-3343294864562084740.args[0]\"]\n\t4954432134779905524 [label=\"Variable(4763172088)\" id=4954432134779905524]\n\t-2838797792369224052 -> -5480872129034902157 [id=\"-2838797792369224052.args[1]\"]\n\t-5480872129034902157 [label=\"Either.right\" id=-5480872129034902157]\n\t-5480872129034902157 -> -3343294864562084740 [id=\"-5480872129034902157.args[0]\"]\n\t-1315959686832490410 -> 9032834383112645395 [id=\"6939635006650947043.args[1]\"]\n\t9032834383112645395 [label=\"Maybe.nothing\" id=9032834383112645395]\n\t-1315959686832490410 -> 1513986338388351247 [id=\"6939635006650947043.args[2]\"]\n\t1513986338388351247 [label=\"Abstraction.__add__\" id=1513986338388351247]\n\t1513986338388351247 -> -1894269937027086384 [id=\"1513986338388351247.args[0]\"]\n\t-1894269937027086384 [label=\"Abstraction.from_fn\" id=-1894269937027086384]\n\t-1894269937027086384 -> -4855096197904090350 [id=\"-1894269937027086384.args[0]\"]\n\t-4855096197904090350 [label=\"Maybe.just\" id=-4855096197904090350]\n\t1513986338388351247 -> 8044185514099529250 [id=\"1513986338388351247.args[1]\"]\n\t8044185514099529250 [label=\"Abstraction.create\" id=8044185514099529250]\n\t8044185514099529250 -> -4167769655553708545 [id=\"8044185514099529250.args[0]\"]\n\t-4167769655553708545 [label=\"Abstraction.create_variable\" id=-4167769655553708545]\n\t-4167769655553708545 -> -4268939921069936459 [id=\"-4167769655553708545.args[0]\"]\n\t-4268939921069936459 [label=\"Variable(4763018240)\" id=-4268939921069936459]\n\t8044185514099529250 -> -8285762096060248770 [id=\"8044185514099529250.args[1]\"]\n\t-8285762096060248770 [label=\"NDArray.__getitem__\" id=-8285762096060248770]\n\t-8285762096060248770 -> -1612977471603230740 [id=\"-8285762096060248770.args[0]\"]\n\t-1612977471603230740 [label=\"Pair.left\" id=-1612977471603230740]\n\t-1612977471603230740 -> -4167769655553708545 [id=\"-1612977471603230740.args[0]\"]\n\t-8285762096060248770 -> -6366347408110540668 [id=\"-8285762096060248770.args[1]\"]\n\t-6366347408110540668 [label=\"Pair.right\" id=-6366347408110540668]\n\t-6366347408110540668 -> -4167769655553708545 [id=\"-6366347408110540668.args[0]\"]\n}",
         "label": null,
         "rule": "metadsl_core.maybe.Maybe.map"
        },
        {
         "graph": "digraph {\n\tnode [shape=plain]\n\tedge [arrowsize=0.5 penwidth=0.5]\n\t-6892723423229494128 [label=\"NDArrayCompat.to_ndarray\" id=-1341672716970475800]\n\t-6892723423229494128 -> 7882815027939522544 [id=\"-1341672716970475800.args[0]\"]\n\t7882815027939522544 [label=\"NDArrayCompat.from_ndarray\" id=-4772016795270189587]\n\t7882815027939522544 -> -5261768831398728211 [id=\"-4772016795270189587.args[0]\"]\n\t-5261768831398728211 [label=\"Maybe.match\" id=6939635006650947043]\n\t-5261768831398728211 -> 8500012095767421056 [id=\"6939635006650947043.args[0]\"]\n\t8500012095767421056 [label=\"Maybe.__and__\" id=-2745558395708079455]\n\t8500012095767421056 -> -1749051929928717773 [id=\"-2745558395708079455.args[0]\"]\n\t-1749051929928717773 [label=\"Converter.convert\" id=-1749051929928717773]\n\t-1749051929928717773 -> -5882035132617130320 [id=\"-1749051929928717773.args[0]\"]\n\t-5882035132617130320 [label=\"NDArrayCompat.__add__\" id=-5882035132617130320]\n\t-5882035132617130320 -> -8766707318650306503 [id=\"-5882035132617130320.args[0]\"]\n\t-8766707318650306503 [label=\"NDArrayCompat.from_ndarray\" id=-8766707318650306503]\n\t-8766707318650306503 -> -6175040583256772104 [id=\"-8766707318650306503.args[0]\"]\n\t-6175040583256772104 [label=\"Maybe.map\" id=-6175040583256772104]\n\t-6175040583256772104 -> -6059403141323843149 [id=\"-6175040583256772104.args[0]\"]\n\t-6059403141323843149 [label=\"Maybe.just\" id=-6059403141323843149]\n\t-6059403141323843149 -> -1313138448651871637 [id=\"-6059403141323843149.args[0]\"]\n\t-1313138448651871637 [label=\"Integer.from_int\" id=-1313138448651871637]\n\t-1313138448651871637 -> -7737040241287546841 [id=\"-1313138448651871637.args[0]\"]\n\t-7737040241287546841 [label=100 id=-5945887149520679823]\n\t-6175040583256772104 -> -4643297354090513087 [id=\"-6175040583256772104.args[1]\"]\n\t-4643297354090513087 [label=\"Abstraction.create\" id=-4643297354090513087]\n\t-4643297354090513087 -> 5534931599655894334 [id=\"-4643297354090513087.args[0]\"]\n\t5534931599655894334 [label=\"Abstraction.create_variable\" id=5534931599655894334]\n\t5534931599655894334 -> 4954432122860222749 [id=\"5534931599655894334.args[0]\"]\n\t4954432122860222749 [label=\"Variable(4763110536)\" id=4954432122860222749]\n\t-4643297354090513087 -> -3508081724970013213 [id=\"-4643297354090513087.args[1]\"]\n\t-3508081724970013213 [label=arange_ id=-3508081724970013213]\n\t-3508081724970013213 -> 5534931599655894334 [id=\"-3508081724970013213.args[0]\"]\n\t-5882035132617130320 -> -8766707318650306503 [id=\"-5882035132617130320.args[1]\"]\n\t8500012095767421056 -> 2531297297853163102 [id=\"-2745558395708079455.args[1]\"]\n\t2531297297853163102 [label=\"Maybe.__or__\" id=-4179875107795948895]\n\t2531297297853163102 -> -3991141096639023881 [id=\"-4179875107795948895.args[0]\"]\n\t-3991141096639023881 [label=\"Maybe.match\" id=5626037285224763133]\n\t-3991141096639023881 -> -1372317109959694973 [id=\"5626037285224763133.args[0]\"]\n\t-1372317109959694973 [label=\"Maybe.just\" id=-1372317109959694973]\n\t-1372317109959694973 -> 2507768681348984026 [id=\"-1372317109959694973.args[0]\"]\n\t2507768681348984026 [label=\"Integer.from_int\" id=2507768681348984026]\n\t2507768681348984026 -> -7737040241182541916 [id=\"2507768681348984026.args[0]\"]\n\t-7737040241182541916 [label=5 id=-3794084279707917178]\n\t-3991141096639023881 -> 542625740483342888 [id=\"5626037285224763133.args[1]\"]\n\t542625740483342888 [label=\"Maybe.nothing\" id=542625740483342888]\n\t-3991141096639023881 -> -6233320591470718265 [id=\"5626037285224763133.args[2]\"]\n\t-6233320591470718265 [label=\"Abstraction.__add__\" id=-6233320591470718265]\n\t-6233320591470718265 -> 2013462788875869881 [id=\"-6233320591470718265.args[0]\"]\n\t2013462788875869881 [label=\"Abstraction.from_fn\" id=2013462788875869881]\n\t2013462788875869881 -> -944428355994881963 [id=\"2013462788875869881.args[0]\"]\n\t-944428355994881963 [label=\"Maybe.just\" id=-944428355994881963]\n\t-6233320591470718265 -> -3632599159356222693 [id=\"-6233320591470718265.args[1]\"]\n\t-3632599159356222693 [label=\"Abstraction.create\" id=-3632599159356222693]\n\t-3632599159356222693 -> -4838891889665744714 [id=\"-3632599159356222693.args[0]\"]\n\t-4838891889665744714 [label=\"Abstraction.create_variable\" id=-4838891889665744714]\n\t-4838891889665744714 -> 4954432145743718724 [id=\"-4838891889665744714.args[0]\"]\n\t4954432145743718724 [label=\"Variable(4763330040)\" id=4954432145743718724]\n\t-3632599159356222693 -> -5428197908604838827 [id=\"-3632599159356222693.args[1]\"]\n\t-5428197908604838827 [label=\"Either.left\" id=-5428197908604838827]\n\t-5428197908604838827 -> -4838891889665744714 [id=\"-5428197908604838827.args[0]\"]\n\t2531297297853163102 -> 7354692970200033373 [id=\"-4179875107795948895.args[1]\"]\n\t7354692970200033373 [label=\"Maybe.match\" id=-686259872675126378]\n\t7354692970200033373 -> -7726250483385592724 [id=\"-686259872675126378.args[0]\"]\n\t-7726250483385592724 [label=\"Converter.convert\" id=-7726250483385592724]\n\t-7726250483385592724 -> -7737040241182541916 [id=\"-7726250483385592724.args[0]\"]\n\t7354692970200033373 -> 542625740483342888 [id=\"-686259872675126378.args[1]\"]\n\t7354692970200033373 -> -3933652525115683988 [id=\"-686259872675126378.args[2]\"]\n\t-3933652525115683988 [label=\"Abstraction.__add__\" id=-3933652525115683988]\n\t-3933652525115683988 -> 2013462788875869881 [id=\"-3933652525115683988.args[0]\"]\n\t-3933652525115683988 -> -2838797792369224052 [id=\"-3933652525115683988.args[1]\"]\n\t-2838797792369224052 [label=\"Abstraction.create\" id=-2838797792369224052]\n\t-2838797792369224052 -> -3343294864562084740 [id=\"-2838797792369224052.args[0]\"]\n\t-3343294864562084740 [label=\"Abstraction.create_variable\" id=-3343294864562084740]\n\t-3343294864562084740 -> 4954432134779905524 [id=\"-3343294864562084740.args[0]\"]\n\t4954432134779905524 [label=\"Variable(4763172088)\" id=4954432134779905524]\n\t-2838797792369224052 -> -5480872129034902157 [id=\"-2838797792369224052.args[1]\"]\n\t-5480872129034902157 [label=\"Either.right\" id=-5480872129034902157]\n\t-5480872129034902157 -> -3343294864562084740 [id=\"-5480872129034902157.args[0]\"]\n\t-5261768831398728211 -> 9032834383112645395 [id=\"6939635006650947043.args[1]\"]\n\t9032834383112645395 [label=\"Maybe.nothing\" id=9032834383112645395]\n\t-5261768831398728211 -> 1513986338388351247 [id=\"6939635006650947043.args[2]\"]\n\t1513986338388351247 [label=\"Abstraction.__add__\" id=1513986338388351247]\n\t1513986338388351247 -> -1894269937027086384 [id=\"1513986338388351247.args[0]\"]\n\t-1894269937027086384 [label=\"Abstraction.from_fn\" id=-1894269937027086384]\n\t-1894269937027086384 -> -4855096197904090350 [id=\"-1894269937027086384.args[0]\"]\n\t-4855096197904090350 [label=\"Maybe.just\" id=-4855096197904090350]\n\t1513986338388351247 -> 8044185514099529250 [id=\"1513986338388351247.args[1]\"]\n\t8044185514099529250 [label=\"Abstraction.create\" id=8044185514099529250]\n\t8044185514099529250 -> -4167769655553708545 [id=\"8044185514099529250.args[0]\"]\n\t-4167769655553708545 [label=\"Abstraction.create_variable\" id=-4167769655553708545]\n\t-4167769655553708545 -> -4268939921069936459 [id=\"-4167769655553708545.args[0]\"]\n\t-4268939921069936459 [label=\"Variable(4763018240)\" id=-4268939921069936459]\n\t8044185514099529250 -> -8285762096060248770 [id=\"8044185514099529250.args[1]\"]\n\t-8285762096060248770 [label=\"NDArray.__getitem__\" id=-8285762096060248770]\n\t-8285762096060248770 -> -1612977471603230740 [id=\"-8285762096060248770.args[0]\"]\n\t-1612977471603230740 [label=\"Pair.left\" id=-1612977471603230740]\n\t-1612977471603230740 -> -4167769655553708545 [id=\"-1612977471603230740.args[0]\"]\n\t-8285762096060248770 -> -6366347408110540668 [id=\"-8285762096060248770.args[1]\"]\n\t-6366347408110540668 [label=\"Pair.right\" id=-6366347408110540668]\n\t-6366347408110540668 -> -4167769655553708545 [id=\"-6366347408110540668.args[0]\"]\n}",
         "label": null,
         "rule": "metadsl_core.maybe.Maybe.map"
        },
        {
         "graph": "digraph {\n\tnode [shape=plain]\n\tedge [arrowsize=0.5 penwidth=0.5]\n\t2693232617876807898 [label=\"NDArrayCompat.to_ndarray\" id=-1341672716970475800]\n\t2693232617876807898 -> 6954440744293451982 [id=\"-1341672716970475800.args[0]\"]\n\t6954440744293451982 [label=\"NDArrayCompat.from_ndarray\" id=-4772016795270189587]\n\t6954440744293451982 -> 2024501887796611605 [id=\"-4772016795270189587.args[0]\"]\n\t2024501887796611605 [label=\"Maybe.match\" id=6939635006650947043]\n\t2024501887796611605 -> -7542731139977118066 [id=\"6939635006650947043.args[0]\"]\n\t-7542731139977118066 [label=\"Maybe.__and__\" id=-2745558395708079455]\n\t-7542731139977118066 -> -1749051929928717773 [id=\"-2745558395708079455.args[0]\"]\n\t-1749051929928717773 [label=\"Converter.convert\" id=-1749051929928717773]\n\t-1749051929928717773 -> -5882035132617130320 [id=\"-1749051929928717773.args[0]\"]\n\t-5882035132617130320 [label=\"NDArrayCompat.__add__\" id=-5882035132617130320]\n\t-5882035132617130320 -> -8766707318650306503 [id=\"-5882035132617130320.args[0]\"]\n\t-8766707318650306503 [label=\"NDArrayCompat.from_ndarray\" id=-8766707318650306503]\n\t-8766707318650306503 -> -6175040583256772104 [id=\"-8766707318650306503.args[0]\"]\n\t-6175040583256772104 [label=\"Maybe.map\" id=-6175040583256772104]\n\t-6175040583256772104 -> -6059403141323843149 [id=\"-6175040583256772104.args[0]\"]\n\t-6059403141323843149 [label=\"Maybe.just\" id=-6059403141323843149]\n\t-6059403141323843149 -> -1313138448651871637 [id=\"-6059403141323843149.args[0]\"]\n\t-1313138448651871637 [label=\"Integer.from_int\" id=-1313138448651871637]\n\t-1313138448651871637 -> -7737040241287546841 [id=\"-1313138448651871637.args[0]\"]\n\t-7737040241287546841 [label=100 id=-5945887149520679823]\n\t-6175040583256772104 -> -4643297354090513087 [id=\"-6175040583256772104.args[1]\"]\n\t-4643297354090513087 [label=\"Abstraction.create\" id=-4643297354090513087]\n\t-4643297354090513087 -> 5534931599655894334 [id=\"-4643297354090513087.args[0]\"]\n\t5534931599655894334 [label=\"Abstraction.create_variable\" id=5534931599655894334]\n\t5534931599655894334 -> 4954432122860222749 [id=\"5534931599655894334.args[0]\"]\n\t4954432122860222749 [label=\"Variable(4763110536)\" id=4954432122860222749]\n\t-4643297354090513087 -> -3508081724970013213 [id=\"-4643297354090513087.args[1]\"]\n\t-3508081724970013213 [label=arange_ id=-3508081724970013213]\n\t-3508081724970013213 -> 5534931599655894334 [id=\"-3508081724970013213.args[0]\"]\n\t-5882035132617130320 -> -8766707318650306503 [id=\"-5882035132617130320.args[1]\"]\n\t-7542731139977118066 -> 9150030912105211354 [id=\"-2745558395708079455.args[1]\"]\n\t9150030912105211354 [label=\"Maybe.__or__\" id=-4179875107795948895]\n\t9150030912105211354 -> 2008626470938325986 [id=\"-4179875107795948895.args[0]\"]\n\t2008626470938325986 [label=\"Abstraction.__call__\" id=5626037285224763133]\n\t2008626470938325986 -> -6233320591470718265 [id=\"5626037285224763133.args[0]\"]\n\t-6233320591470718265 [label=\"Abstraction.__add__\" id=-6233320591470718265]\n\t-6233320591470718265 -> 2013462788875869881 [id=\"-6233320591470718265.args[0]\"]\n\t2013462788875869881 [label=\"Abstraction.from_fn\" id=2013462788875869881]\n\t2013462788875869881 -> -944428355994881963 [id=\"2013462788875869881.args[0]\"]\n\t-944428355994881963 [label=\"Maybe.just\" id=-944428355994881963]\n\t-6233320591470718265 -> -3632599159356222693 [id=\"-6233320591470718265.args[1]\"]\n\t-3632599159356222693 [label=\"Abstraction.create\" id=-3632599159356222693]\n\t-3632599159356222693 -> -4838891889665744714 [id=\"-3632599159356222693.args[0]\"]\n\t-4838891889665744714 [label=\"Abstraction.create_variable\" id=-4838891889665744714]\n\t-4838891889665744714 -> 4954432145743718724 [id=\"-4838891889665744714.args[0]\"]\n\t4954432145743718724 [label=\"Variable(4763330040)\" id=4954432145743718724]\n\t-3632599159356222693 -> -5428197908604838827 [id=\"-3632599159356222693.args[1]\"]\n\t-5428197908604838827 [label=\"Either.left\" id=-5428197908604838827]\n\t-5428197908604838827 -> -4838891889665744714 [id=\"-5428197908604838827.args[0]\"]\n\t2008626470938325986 -> 2507768681348984026 [id=\"5626037285224763133.args[1]\"]\n\t2507768681348984026 [label=\"Integer.from_int\" id=2507768681348984026]\n\t2507768681348984026 -> -7737040241182541916 [id=\"2507768681348984026.args[0]\"]\n\t-7737040241182541916 [label=5 id=-3794084279707917178]\n\t9150030912105211354 -> 7354692970200033373 [id=\"-4179875107795948895.args[1]\"]\n\t7354692970200033373 [label=\"Maybe.match\" id=-686259872675126378]\n\t7354692970200033373 -> -7726250483385592724 [id=\"-686259872675126378.args[0]\"]\n\t-7726250483385592724 [label=\"Converter.convert\" id=-7726250483385592724]\n\t-7726250483385592724 -> -7737040241182541916 [id=\"-7726250483385592724.args[0]\"]\n\t7354692970200033373 -> 542625740483342888 [id=\"-686259872675126378.args[1]\"]\n\t542625740483342888 [label=\"Maybe.nothing\" id=542625740483342888]\n\t7354692970200033373 -> -3933652525115683988 [id=\"-686259872675126378.args[2]\"]\n\t-3933652525115683988 [label=\"Abstraction.__add__\" id=-3933652525115683988]\n\t-3933652525115683988 -> 2013462788875869881 [id=\"-3933652525115683988.args[0]\"]\n\t-3933652525115683988 -> -2838797792369224052 [id=\"-3933652525115683988.args[1]\"]\n\t-2838797792369224052 [label=\"Abstraction.create\" id=-2838797792369224052]\n\t-2838797792369224052 -> -3343294864562084740 [id=\"-2838797792369224052.args[0]\"]\n\t-3343294864562084740 [label=\"Abstraction.create_variable\" id=-3343294864562084740]\n\t-3343294864562084740 -> 4954432134779905524 [id=\"-3343294864562084740.args[0]\"]\n\t4954432134779905524 [label=\"Variable(4763172088)\" id=4954432134779905524]\n\t-2838797792369224052 -> -5480872129034902157 [id=\"-2838797792369224052.args[1]\"]\n\t-5480872129034902157 [label=\"Either.right\" id=-5480872129034902157]\n\t-5480872129034902157 -> -3343294864562084740 [id=\"-5480872129034902157.args[0]\"]\n\t2024501887796611605 -> 9032834383112645395 [id=\"6939635006650947043.args[1]\"]\n\t9032834383112645395 [label=\"Maybe.nothing\" id=9032834383112645395]\n\t2024501887796611605 -> 1513986338388351247 [id=\"6939635006650947043.args[2]\"]\n\t1513986338388351247 [label=\"Abstraction.__add__\" id=1513986338388351247]\n\t1513986338388351247 -> -1894269937027086384 [id=\"1513986338388351247.args[0]\"]\n\t-1894269937027086384 [label=\"Abstraction.from_fn\" id=-1894269937027086384]\n\t-1894269937027086384 -> -4855096197904090350 [id=\"-1894269937027086384.args[0]\"]\n\t-4855096197904090350 [label=\"Maybe.just\" id=-4855096197904090350]\n\t1513986338388351247 -> 8044185514099529250 [id=\"1513986338388351247.args[1]\"]\n\t8044185514099529250 [label=\"Abstraction.create\" id=8044185514099529250]\n\t8044185514099529250 -> -4167769655553708545 [id=\"8044185514099529250.args[0]\"]\n\t-4167769655553708545 [label=\"Abstraction.create_variable\" id=-4167769655553708545]\n\t-4167769655553708545 -> -4268939921069936459 [id=\"-4167769655553708545.args[0]\"]\n\t-4268939921069936459 [label=\"Variable(4763018240)\" id=-4268939921069936459]\n\t8044185514099529250 -> -8285762096060248770 [id=\"8044185514099529250.args[1]\"]\n\t-8285762096060248770 [label=\"NDArray.__getitem__\" id=-8285762096060248770]\n\t-8285762096060248770 -> -1612977471603230740 [id=\"-8285762096060248770.args[0]\"]\n\t-1612977471603230740 [label=\"Pair.left\" id=-1612977471603230740]\n\t-1612977471603230740 -> -4167769655553708545 [id=\"-1612977471603230740.args[0]\"]\n\t-8285762096060248770 -> -6366347408110540668 [id=\"-8285762096060248770.args[1]\"]\n\t-6366347408110540668 [label=\"Pair.right\" id=-6366347408110540668]\n\t-6366347408110540668 -> -4167769655553708545 [id=\"-6366347408110540668.args[0]\"]\n}",
         "label": null,
         "rule": "metadsl_core.maybe.maybe_match"
        },
        {
         "graph": "digraph {\n\tnode [shape=plain]\n\tedge [arrowsize=0.5 penwidth=0.5]\n\t2401417412023419004 [label=\"NDArrayCompat.to_ndarray\" id=-1341672716970475800]\n\t2401417412023419004 -> 6336036661715543733 [id=\"-1341672716970475800.args[0]\"]\n\t6336036661715543733 [label=\"NDArrayCompat.from_ndarray\" id=-4772016795270189587]\n\t6336036661715543733 -> 6223931599528243960 [id=\"-4772016795270189587.args[0]\"]\n\t6223931599528243960 [label=\"Maybe.match\" id=6939635006650947043]\n\t6223931599528243960 -> 2262404540719265412 [id=\"6939635006650947043.args[0]\"]\n\t2262404540719265412 [label=\"Maybe.__and__\" id=-2745558395708079455]\n\t2262404540719265412 -> 7317972844573114242 [id=\"-2745558395708079455.args[0]\"]\n\t7317972844573114242 [label=\"Converter.convert\" id=-1749051929928717773]\n\t7317972844573114242 -> 8539979879690342424 [id=\"-1749051929928717773.args[0]\"]\n\t8539979879690342424 [label=\"NDArrayCompat.__add__\" id=-5882035132617130320]\n\t8539979879690342424 -> -1866940111291859890 [id=\"-5882035132617130320.args[0]\"]\n\t-1866940111291859890 [label=\"NDArrayCompat.from_ndarray\" id=-1866940111291859890]\n\t-1866940111291859890 -> -7462374446910505064 [id=\"-1866940111291859890.args[0]\"]\n\t-7462374446910505064 [label=\"Maybe.match\" id=-7462374446910505064]\n\t-7462374446910505064 -> -6059403141323843149 [id=\"-7462374446910505064.args[0]\"]\n\t-6059403141323843149 [label=\"Maybe.just\" id=-6059403141323843149]\n\t-6059403141323843149 -> -1313138448651871637 [id=\"-6059403141323843149.args[0]\"]\n\t-1313138448651871637 [label=\"Integer.from_int\" id=-1313138448651871637]\n\t-1313138448651871637 -> -7737040241287546841 [id=\"-1313138448651871637.args[0]\"]\n\t-7737040241287546841 [label=100 id=-5945887149520679823]\n\t-7462374446910505064 -> 9032834383112645395 [id=\"-7462374446910505064.args[1]\"]\n\t9032834383112645395 [label=\"Maybe.nothing\" id=9032834383112645395]\n\t-7462374446910505064 -> -2757863483019960227 [id=\"-7462374446910505064.args[2]\"]\n\t-2757863483019960227 [label=\"Abstraction.__add__\" id=-2757863483019960227]\n\t-2757863483019960227 -> -1894269937027086384 [id=\"-2757863483019960227.args[0]\"]\n\t-1894269937027086384 [label=\"Abstraction.from_fn\" id=-1894269937027086384]\n\t-1894269937027086384 -> -4855096197904090350 [id=\"-1894269937027086384.args[0]\"]\n\t-4855096197904090350 [label=\"Maybe.just\" id=-4855096197904090350]\n\t-2757863483019960227 -> -4643297354090513087 [id=\"-2757863483019960227.args[1]\"]\n\t-4643297354090513087 [label=\"Abstraction.create\" id=-4643297354090513087]\n\t-4643297354090513087 -> 5534931599655894334 [id=\"-4643297354090513087.args[0]\"]\n\t5534931599655894334 [label=\"Abstraction.create_variable\" id=5534931599655894334]\n\t5534931599655894334 -> 4954432122860222749 [id=\"5534931599655894334.args[0]\"]\n\t4954432122860222749 [label=\"Variable(4763110536)\" id=4954432122860222749]\n\t-4643297354090513087 -> -3508081724970013213 [id=\"-4643297354090513087.args[1]\"]\n\t-3508081724970013213 [label=arange_ id=-3508081724970013213]\n\t-3508081724970013213 -> 5534931599655894334 [id=\"-3508081724970013213.args[0]\"]\n\t8539979879690342424 -> -8766707318650306503 [id=\"-5882035132617130320.args[1]\"]\n\t-8766707318650306503 [label=\"NDArrayCompat.from_ndarray\" id=-8766707318650306503]\n\t-8766707318650306503 -> -6175040583256772104 [id=\"-8766707318650306503.args[0]\"]\n\t-6175040583256772104 [label=\"Maybe.map\" id=-6175040583256772104]\n\t-6175040583256772104 -> -6059403141323843149 [id=\"-6175040583256772104.args[0]\"]\n\t-6175040583256772104 -> -4643297354090513087 [id=\"-6175040583256772104.args[1]\"]\n\t2262404540719265412 -> 9150030912105211354 [id=\"-2745558395708079455.args[1]\"]\n\t9150030912105211354 [label=\"Maybe.__or__\" id=-4179875107795948895]\n\t9150030912105211354 -> 2008626470938325986 [id=\"-4179875107795948895.args[0]\"]\n\t2008626470938325986 [label=\"Abstraction.__call__\" id=5626037285224763133]\n\t2008626470938325986 -> -6233320591470718265 [id=\"5626037285224763133.args[0]\"]\n\t-6233320591470718265 [label=\"Abstraction.__add__\" id=-6233320591470718265]\n\t-6233320591470718265 -> 2013462788875869881 [id=\"-6233320591470718265.args[0]\"]\n\t2013462788875869881 [label=\"Abstraction.from_fn\" id=2013462788875869881]\n\t2013462788875869881 -> -944428355994881963 [id=\"2013462788875869881.args[0]\"]\n\t-944428355994881963 [label=\"Maybe.just\" id=-944428355994881963]\n\t-6233320591470718265 -> -3632599159356222693 [id=\"-6233320591470718265.args[1]\"]\n\t-3632599159356222693 [label=\"Abstraction.create\" id=-3632599159356222693]\n\t-3632599159356222693 -> -4838891889665744714 [id=\"-3632599159356222693.args[0]\"]\n\t-4838891889665744714 [label=\"Abstraction.create_variable\" id=-4838891889665744714]\n\t-4838891889665744714 -> 4954432145743718724 [id=\"-4838891889665744714.args[0]\"]\n\t4954432145743718724 [label=\"Variable(4763330040)\" id=4954432145743718724]\n\t-3632599159356222693 -> -5428197908604838827 [id=\"-3632599159356222693.args[1]\"]\n\t-5428197908604838827 [label=\"Either.left\" id=-5428197908604838827]\n\t-5428197908604838827 -> -4838891889665744714 [id=\"-5428197908604838827.args[0]\"]\n\t2008626470938325986 -> 2507768681348984026 [id=\"5626037285224763133.args[1]\"]\n\t2507768681348984026 [label=\"Integer.from_int\" id=2507768681348984026]\n\t2507768681348984026 -> -7737040241182541916 [id=\"2507768681348984026.args[0]\"]\n\t-7737040241182541916 [label=5 id=-3794084279707917178]\n\t9150030912105211354 -> 7354692970200033373 [id=\"-4179875107795948895.args[1]\"]\n\t7354692970200033373 [label=\"Maybe.match\" id=-686259872675126378]\n\t7354692970200033373 -> -7726250483385592724 [id=\"-686259872675126378.args[0]\"]\n\t-7726250483385592724 [label=\"Converter.convert\" id=-7726250483385592724]\n\t-7726250483385592724 -> -7737040241182541916 [id=\"-7726250483385592724.args[0]\"]\n\t7354692970200033373 -> 542625740483342888 [id=\"-686259872675126378.args[1]\"]\n\t542625740483342888 [label=\"Maybe.nothing\" id=542625740483342888]\n\t7354692970200033373 -> -3933652525115683988 [id=\"-686259872675126378.args[2]\"]\n\t-3933652525115683988 [label=\"Abstraction.__add__\" id=-3933652525115683988]\n\t-3933652525115683988 -> 2013462788875869881 [id=\"-3933652525115683988.args[0]\"]\n\t-3933652525115683988 -> -2838797792369224052 [id=\"-3933652525115683988.args[1]\"]\n\t-2838797792369224052 [label=\"Abstraction.create\" id=-2838797792369224052]\n\t-2838797792369224052 -> -3343294864562084740 [id=\"-2838797792369224052.args[0]\"]\n\t-3343294864562084740 [label=\"Abstraction.create_variable\" id=-3343294864562084740]\n\t-3343294864562084740 -> 4954432134779905524 [id=\"-3343294864562084740.args[0]\"]\n\t4954432134779905524 [label=\"Variable(4763172088)\" id=4954432134779905524]\n\t-2838797792369224052 -> -5480872129034902157 [id=\"-2838797792369224052.args[1]\"]\n\t-5480872129034902157 [label=\"Either.right\" id=-5480872129034902157]\n\t-5480872129034902157 -> -3343294864562084740 [id=\"-5480872129034902157.args[0]\"]\n\t6223931599528243960 -> 9032834383112645395 [id=\"6939635006650947043.args[1]\"]\n\t6223931599528243960 -> 1513986338388351247 [id=\"6939635006650947043.args[2]\"]\n\t1513986338388351247 [label=\"Abstraction.__add__\" id=1513986338388351247]\n\t1513986338388351247 -> -1894269937027086384 [id=\"1513986338388351247.args[0]\"]\n\t1513986338388351247 -> 8044185514099529250 [id=\"1513986338388351247.args[1]\"]\n\t8044185514099529250 [label=\"Abstraction.create\" id=8044185514099529250]\n\t8044185514099529250 -> -4167769655553708545 [id=\"8044185514099529250.args[0]\"]\n\t-4167769655553708545 [label=\"Abstraction.create_variable\" id=-4167769655553708545]\n\t-4167769655553708545 -> -4268939921069936459 [id=\"-4167769655553708545.args[0]\"]\n\t-4268939921069936459 [label=\"Variable(4763018240)\" id=-4268939921069936459]\n\t8044185514099529250 -> -8285762096060248770 [id=\"8044185514099529250.args[1]\"]\n\t-8285762096060248770 [label=\"NDArray.__getitem__\" id=-8285762096060248770]\n\t-8285762096060248770 -> -1612977471603230740 [id=\"-8285762096060248770.args[0]\"]\n\t-1612977471603230740 [label=\"Pair.left\" id=-1612977471603230740]\n\t-1612977471603230740 -> -4167769655553708545 [id=\"-1612977471603230740.args[0]\"]\n\t-8285762096060248770 -> -6366347408110540668 [id=\"-8285762096060248770.args[1]\"]\n\t-6366347408110540668 [label=\"Pair.right\" id=-6366347408110540668]\n\t-6366347408110540668 -> -4167769655553708545 [id=\"-6366347408110540668.args[0]\"]\n}",
         "label": null,
         "rule": "metadsl_core.maybe.Maybe.map"
        },
        {
         "graph": "digraph {\n\tnode [shape=plain]\n\tedge [arrowsize=0.5 penwidth=0.5]\n\t2257210080031379373 [label=\"NDArrayCompat.to_ndarray\" id=-1341672716970475800]\n\t2257210080031379373 -> -5345493222470733700 [id=\"-1341672716970475800.args[0]\"]\n\t-5345493222470733700 [label=\"NDArrayCompat.from_ndarray\" id=-4772016795270189587]\n\t-5345493222470733700 -> -3649073181195851312 [id=\"-4772016795270189587.args[0]\"]\n\t-3649073181195851312 [label=\"Maybe.match\" id=6939635006650947043]\n\t-3649073181195851312 -> 4126831484520287483 [id=\"6939635006650947043.args[0]\"]\n\t4126831484520287483 [label=\"Maybe.__and__\" id=-2745558395708079455]\n\t4126831484520287483 -> -2894682877572236733 [id=\"-2745558395708079455.args[0]\"]\n\t-2894682877572236733 [label=\"Converter.convert\" id=-1749051929928717773]\n\t-2894682877572236733 -> -6133007377419551008 [id=\"-1749051929928717773.args[0]\"]\n\t-6133007377419551008 [label=\"NDArrayCompat.__add__\" id=-5882035132617130320]\n\t-6133007377419551008 -> -1866940111291859890 [id=\"-5882035132617130320.args[0]\"]\n\t-1866940111291859890 [label=\"NDArrayCompat.from_ndarray\" id=-1866940111291859890]\n\t-1866940111291859890 -> -7462374446910505064 [id=\"-1866940111291859890.args[0]\"]\n\t-7462374446910505064 [label=\"Maybe.match\" id=-7462374446910505064]\n\t-7462374446910505064 -> -6059403141323843149 [id=\"-7462374446910505064.args[0]\"]\n\t-6059403141323843149 [label=\"Maybe.just\" id=-6059403141323843149]\n\t-6059403141323843149 -> -1313138448651871637 [id=\"-6059403141323843149.args[0]\"]\n\t-1313138448651871637 [label=\"Integer.from_int\" id=-1313138448651871637]\n\t-1313138448651871637 -> -7737040241287546841 [id=\"-1313138448651871637.args[0]\"]\n\t-7737040241287546841 [label=100 id=-5945887149520679823]\n\t-7462374446910505064 -> 9032834383112645395 [id=\"-7462374446910505064.args[1]\"]\n\t9032834383112645395 [label=\"Maybe.nothing\" id=9032834383112645395]\n\t-7462374446910505064 -> -2757863483019960227 [id=\"-7462374446910505064.args[2]\"]\n\t-2757863483019960227 [label=\"Abstraction.__add__\" id=-2757863483019960227]\n\t-2757863483019960227 -> -1894269937027086384 [id=\"-2757863483019960227.args[0]\"]\n\t-1894269937027086384 [label=\"Abstraction.from_fn\" id=-1894269937027086384]\n\t-1894269937027086384 -> -4855096197904090350 [id=\"-1894269937027086384.args[0]\"]\n\t-4855096197904090350 [label=\"Maybe.just\" id=-4855096197904090350]\n\t-2757863483019960227 -> -4643297354090513087 [id=\"-2757863483019960227.args[1]\"]\n\t-4643297354090513087 [label=\"Abstraction.create\" id=-4643297354090513087]\n\t-4643297354090513087 -> 5534931599655894334 [id=\"-4643297354090513087.args[0]\"]\n\t5534931599655894334 [label=\"Abstraction.create_variable\" id=5534931599655894334]\n\t5534931599655894334 -> 4954432122860222749 [id=\"5534931599655894334.args[0]\"]\n\t4954432122860222749 [label=\"Variable(4763110536)\" id=4954432122860222749]\n\t-4643297354090513087 -> -3508081724970013213 [id=\"-4643297354090513087.args[1]\"]\n\t-3508081724970013213 [label=arange_ id=-3508081724970013213]\n\t-3508081724970013213 -> 5534931599655894334 [id=\"-3508081724970013213.args[0]\"]\n\t-6133007377419551008 -> -1866940111291859890 [id=\"-5882035132617130320.args[1]\"]\n\t4126831484520287483 -> 9150030912105211354 [id=\"-2745558395708079455.args[1]\"]\n\t9150030912105211354 [label=\"Maybe.__or__\" id=-4179875107795948895]\n\t9150030912105211354 -> 2008626470938325986 [id=\"-4179875107795948895.args[0]\"]\n\t2008626470938325986 [label=\"Abstraction.__call__\" id=5626037285224763133]\n\t2008626470938325986 -> -6233320591470718265 [id=\"5626037285224763133.args[0]\"]\n\t-6233320591470718265 [label=\"Abstraction.__add__\" id=-6233320591470718265]\n\t-6233320591470718265 -> 2013462788875869881 [id=\"-6233320591470718265.args[0]\"]\n\t2013462788875869881 [label=\"Abstraction.from_fn\" id=2013462788875869881]\n\t2013462788875869881 -> -944428355994881963 [id=\"2013462788875869881.args[0]\"]\n\t-944428355994881963 [label=\"Maybe.just\" id=-944428355994881963]\n\t-6233320591470718265 -> -3632599159356222693 [id=\"-6233320591470718265.args[1]\"]\n\t-3632599159356222693 [label=\"Abstraction.create\" id=-3632599159356222693]\n\t-3632599159356222693 -> -4838891889665744714 [id=\"-3632599159356222693.args[0]\"]\n\t-4838891889665744714 [label=\"Abstraction.create_variable\" id=-4838891889665744714]\n\t-4838891889665744714 -> 4954432145743718724 [id=\"-4838891889665744714.args[0]\"]\n\t4954432145743718724 [label=\"Variable(4763330040)\" id=4954432145743718724]\n\t-3632599159356222693 -> -5428197908604838827 [id=\"-3632599159356222693.args[1]\"]\n\t-5428197908604838827 [label=\"Either.left\" id=-5428197908604838827]\n\t-5428197908604838827 -> -4838891889665744714 [id=\"-5428197908604838827.args[0]\"]\n\t2008626470938325986 -> 2507768681348984026 [id=\"5626037285224763133.args[1]\"]\n\t2507768681348984026 [label=\"Integer.from_int\" id=2507768681348984026]\n\t2507768681348984026 -> -7737040241182541916 [id=\"2507768681348984026.args[0]\"]\n\t-7737040241182541916 [label=5 id=-3794084279707917178]\n\t9150030912105211354 -> 7354692970200033373 [id=\"-4179875107795948895.args[1]\"]\n\t7354692970200033373 [label=\"Maybe.match\" id=-686259872675126378]\n\t7354692970200033373 -> -7726250483385592724 [id=\"-686259872675126378.args[0]\"]\n\t-7726250483385592724 [label=\"Converter.convert\" id=-7726250483385592724]\n\t-7726250483385592724 -> -7737040241182541916 [id=\"-7726250483385592724.args[0]\"]\n\t7354692970200033373 -> 542625740483342888 [id=\"-686259872675126378.args[1]\"]\n\t542625740483342888 [label=\"Maybe.nothing\" id=542625740483342888]\n\t7354692970200033373 -> -3933652525115683988 [id=\"-686259872675126378.args[2]\"]\n\t-3933652525115683988 [label=\"Abstraction.__add__\" id=-3933652525115683988]\n\t-3933652525115683988 -> 2013462788875869881 [id=\"-3933652525115683988.args[0]\"]\n\t-3933652525115683988 -> -2838797792369224052 [id=\"-3933652525115683988.args[1]\"]\n\t-2838797792369224052 [label=\"Abstraction.create\" id=-2838797792369224052]\n\t-2838797792369224052 -> -3343294864562084740 [id=\"-2838797792369224052.args[0]\"]\n\t-3343294864562084740 [label=\"Abstraction.create_variable\" id=-3343294864562084740]\n\t-3343294864562084740 -> 4954432134779905524 [id=\"-3343294864562084740.args[0]\"]\n\t4954432134779905524 [label=\"Variable(4763172088)\" id=4954432134779905524]\n\t-2838797792369224052 -> -5480872129034902157 [id=\"-2838797792369224052.args[1]\"]\n\t-5480872129034902157 [label=\"Either.right\" id=-5480872129034902157]\n\t-5480872129034902157 -> -3343294864562084740 [id=\"-5480872129034902157.args[0]\"]\n\t-3649073181195851312 -> 9032834383112645395 [id=\"6939635006650947043.args[1]\"]\n\t-3649073181195851312 -> 1513986338388351247 [id=\"6939635006650947043.args[2]\"]\n\t1513986338388351247 [label=\"Abstraction.__add__\" id=1513986338388351247]\n\t1513986338388351247 -> -1894269937027086384 [id=\"1513986338388351247.args[0]\"]\n\t1513986338388351247 -> 8044185514099529250 [id=\"1513986338388351247.args[1]\"]\n\t8044185514099529250 [label=\"Abstraction.create\" id=8044185514099529250]\n\t8044185514099529250 -> -4167769655553708545 [id=\"8044185514099529250.args[0]\"]\n\t-4167769655553708545 [label=\"Abstraction.create_variable\" id=-4167769655553708545]\n\t-4167769655553708545 -> -4268939921069936459 [id=\"-4167769655553708545.args[0]\"]\n\t-4268939921069936459 [label=\"Variable(4763018240)\" id=-4268939921069936459]\n\t8044185514099529250 -> -8285762096060248770 [id=\"8044185514099529250.args[1]\"]\n\t-8285762096060248770 [label=\"NDArray.__getitem__\" id=-8285762096060248770]\n\t-8285762096060248770 -> -1612977471603230740 [id=\"-8285762096060248770.args[0]\"]\n\t-1612977471603230740 [label=\"Pair.left\" id=-1612977471603230740]\n\t-1612977471603230740 -> -4167769655553708545 [id=\"-1612977471603230740.args[0]\"]\n\t-8285762096060248770 -> -6366347408110540668 [id=\"-8285762096060248770.args[1]\"]\n\t-6366347408110540668 [label=\"Pair.right\" id=-6366347408110540668]\n\t-6366347408110540668 -> -4167769655553708545 [id=\"-6366347408110540668.args[0]\"]\n}",
         "label": null,
         "rule": "metadsl_core.maybe.Maybe.map"
        },
        {
         "graph": "digraph {\n\tnode [shape=plain]\n\tedge [arrowsize=0.5 penwidth=0.5]\n\t-3694455690306176878 [label=\"NDArrayCompat.to_ndarray\" id=-1341672716970475800]\n\t-3694455690306176878 -> -2111545206662722391 [id=\"-1341672716970475800.args[0]\"]\n\t-2111545206662722391 [label=\"NDArrayCompat.from_ndarray\" id=-4772016795270189587]\n\t-2111545206662722391 -> -1426540454524810074 [id=\"-4772016795270189587.args[0]\"]\n\t-1426540454524810074 [label=\"Maybe.match\" id=6939635006650947043]\n\t-1426540454524810074 -> 8408942364530103639 [id=\"6939635006650947043.args[0]\"]\n\t8408942364530103639 [label=\"Maybe.__and__\" id=-2745558395708079455]\n\t8408942364530103639 -> 1843766240175379126 [id=\"-2745558395708079455.args[0]\"]\n\t1843766240175379126 [label=\"Converter.convert\" id=-1749051929928717773]\n\t1843766240175379126 -> -6173825308431995239 [id=\"-1749051929928717773.args[0]\"]\n\t-6173825308431995239 [label=\"NDArrayCompat.__add__\" id=-5882035132617130320]\n\t-6173825308431995239 -> 85294802253499659 [id=\"-5882035132617130320.args[0]\"]\n\t85294802253499659 [label=\"NDArrayCompat.from_ndarray\" id=85294802253499659]\n\t85294802253499659 -> 1129541538386884364 [id=\"85294802253499659.args[0]\"]\n\t1129541538386884364 [label=\"Abstraction.__call__\" id=1129541538386884364]\n\t1129541538386884364 -> -2757863483019960227 [id=\"1129541538386884364.args[0]\"]\n\t-2757863483019960227 [label=\"Abstraction.__add__\" id=-2757863483019960227]\n\t-2757863483019960227 -> -1894269937027086384 [id=\"-2757863483019960227.args[0]\"]\n\t-1894269937027086384 [label=\"Abstraction.from_fn\" id=-1894269937027086384]\n\t-1894269937027086384 -> -4855096197904090350 [id=\"-1894269937027086384.args[0]\"]\n\t-4855096197904090350 [label=\"Maybe.just\" id=-4855096197904090350]\n\t-2757863483019960227 -> -4643297354090513087 [id=\"-2757863483019960227.args[1]\"]\n\t-4643297354090513087 [label=\"Abstraction.create\" id=-4643297354090513087]\n\t-4643297354090513087 -> 5534931599655894334 [id=\"-4643297354090513087.args[0]\"]\n\t5534931599655894334 [label=\"Abstraction.create_variable\" id=5534931599655894334]\n\t5534931599655894334 -> 4954432122860222749 [id=\"5534931599655894334.args[0]\"]\n\t4954432122860222749 [label=\"Variable(4763110536)\" id=4954432122860222749]\n\t-4643297354090513087 -> -3508081724970013213 [id=\"-4643297354090513087.args[1]\"]\n\t-3508081724970013213 [label=arange_ id=-3508081724970013213]\n\t-3508081724970013213 -> 5534931599655894334 [id=\"-3508081724970013213.args[0]\"]\n\t1129541538386884364 -> -1313138448651871637 [id=\"1129541538386884364.args[1]\"]\n\t-1313138448651871637 [label=\"Integer.from_int\" id=-1313138448651871637]\n\t-1313138448651871637 -> -7737040241287546841 [id=\"-1313138448651871637.args[0]\"]\n\t-7737040241287546841 [label=100 id=-5945887149520679823]\n\t-6173825308431995239 -> -1866940111291859890 [id=\"-5882035132617130320.args[1]\"]\n\t-1866940111291859890 [label=\"NDArrayCompat.from_ndarray\" id=-1866940111291859890]\n\t-1866940111291859890 -> -7462374446910505064 [id=\"-1866940111291859890.args[0]\"]\n\t-7462374446910505064 [label=\"Maybe.match\" id=-7462374446910505064]\n\t-7462374446910505064 -> -6059403141323843149 [id=\"-7462374446910505064.args[0]\"]\n\t-6059403141323843149 [label=\"Maybe.just\" id=-6059403141323843149]\n\t-6059403141323843149 -> -1313138448651871637 [id=\"-6059403141323843149.args[0]\"]\n\t-7462374446910505064 -> 9032834383112645395 [id=\"-7462374446910505064.args[1]\"]\n\t9032834383112645395 [label=\"Maybe.nothing\" id=9032834383112645395]\n\t-7462374446910505064 -> -2757863483019960227 [id=\"-7462374446910505064.args[2]\"]\n\t8408942364530103639 -> 9150030912105211354 [id=\"-2745558395708079455.args[1]\"]\n\t9150030912105211354 [label=\"Maybe.__or__\" id=-4179875107795948895]\n\t9150030912105211354 -> 2008626470938325986 [id=\"-4179875107795948895.args[0]\"]\n\t2008626470938325986 [label=\"Abstraction.__call__\" id=5626037285224763133]\n\t2008626470938325986 -> -6233320591470718265 [id=\"5626037285224763133.args[0]\"]\n\t-6233320591470718265 [label=\"Abstraction.__add__\" id=-6233320591470718265]\n\t-6233320591470718265 -> 2013462788875869881 [id=\"-6233320591470718265.args[0]\"]\n\t2013462788875869881 [label=\"Abstraction.from_fn\" id=2013462788875869881]\n\t2013462788875869881 -> -944428355994881963 [id=\"2013462788875869881.args[0]\"]\n\t-944428355994881963 [label=\"Maybe.just\" id=-944428355994881963]\n\t-6233320591470718265 -> -3632599159356222693 [id=\"-6233320591470718265.args[1]\"]\n\t-3632599159356222693 [label=\"Abstraction.create\" id=-3632599159356222693]\n\t-3632599159356222693 -> -4838891889665744714 [id=\"-3632599159356222693.args[0]\"]\n\t-4838891889665744714 [label=\"Abstraction.create_variable\" id=-4838891889665744714]\n\t-4838891889665744714 -> 4954432145743718724 [id=\"-4838891889665744714.args[0]\"]\n\t4954432145743718724 [label=\"Variable(4763330040)\" id=4954432145743718724]\n\t-3632599159356222693 -> -5428197908604838827 [id=\"-3632599159356222693.args[1]\"]\n\t-5428197908604838827 [label=\"Either.left\" id=-5428197908604838827]\n\t-5428197908604838827 -> -4838891889665744714 [id=\"-5428197908604838827.args[0]\"]\n\t2008626470938325986 -> 2507768681348984026 [id=\"5626037285224763133.args[1]\"]\n\t2507768681348984026 [label=\"Integer.from_int\" id=2507768681348984026]\n\t2507768681348984026 -> -7737040241182541916 [id=\"2507768681348984026.args[0]\"]\n\t-7737040241182541916 [label=5 id=-3794084279707917178]\n\t9150030912105211354 -> 7354692970200033373 [id=\"-4179875107795948895.args[1]\"]\n\t7354692970200033373 [label=\"Maybe.match\" id=-686259872675126378]\n\t7354692970200033373 -> -7726250483385592724 [id=\"-686259872675126378.args[0]\"]\n\t-7726250483385592724 [label=\"Converter.convert\" id=-7726250483385592724]\n\t-7726250483385592724 -> -7737040241182541916 [id=\"-7726250483385592724.args[0]\"]\n\t7354692970200033373 -> 542625740483342888 [id=\"-686259872675126378.args[1]\"]\n\t542625740483342888 [label=\"Maybe.nothing\" id=542625740483342888]\n\t7354692970200033373 -> -3933652525115683988 [id=\"-686259872675126378.args[2]\"]\n\t-3933652525115683988 [label=\"Abstraction.__add__\" id=-3933652525115683988]\n\t-3933652525115683988 -> 2013462788875869881 [id=\"-3933652525115683988.args[0]\"]\n\t-3933652525115683988 -> -2838797792369224052 [id=\"-3933652525115683988.args[1]\"]\n\t-2838797792369224052 [label=\"Abstraction.create\" id=-2838797792369224052]\n\t-2838797792369224052 -> -3343294864562084740 [id=\"-2838797792369224052.args[0]\"]\n\t-3343294864562084740 [label=\"Abstraction.create_variable\" id=-3343294864562084740]\n\t-3343294864562084740 -> 4954432134779905524 [id=\"-3343294864562084740.args[0]\"]\n\t4954432134779905524 [label=\"Variable(4763172088)\" id=4954432134779905524]\n\t-2838797792369224052 -> -5480872129034902157 [id=\"-2838797792369224052.args[1]\"]\n\t-5480872129034902157 [label=\"Either.right\" id=-5480872129034902157]\n\t-5480872129034902157 -> -3343294864562084740 [id=\"-5480872129034902157.args[0]\"]\n\t-1426540454524810074 -> 9032834383112645395 [id=\"6939635006650947043.args[1]\"]\n\t-1426540454524810074 -> 1513986338388351247 [id=\"6939635006650947043.args[2]\"]\n\t1513986338388351247 [label=\"Abstraction.__add__\" id=1513986338388351247]\n\t1513986338388351247 -> -1894269937027086384 [id=\"1513986338388351247.args[0]\"]\n\t1513986338388351247 -> 8044185514099529250 [id=\"1513986338388351247.args[1]\"]\n\t8044185514099529250 [label=\"Abstraction.create\" id=8044185514099529250]\n\t8044185514099529250 -> -4167769655553708545 [id=\"8044185514099529250.args[0]\"]\n\t-4167769655553708545 [label=\"Abstraction.create_variable\" id=-4167769655553708545]\n\t-4167769655553708545 -> -4268939921069936459 [id=\"-4167769655553708545.args[0]\"]\n\t-4268939921069936459 [label=\"Variable(4763018240)\" id=-4268939921069936459]\n\t8044185514099529250 -> -8285762096060248770 [id=\"8044185514099529250.args[1]\"]\n\t-8285762096060248770 [label=\"NDArray.__getitem__\" id=-8285762096060248770]\n\t-8285762096060248770 -> -1612977471603230740 [id=\"-8285762096060248770.args[0]\"]\n\t-1612977471603230740 [label=\"Pair.left\" id=-1612977471603230740]\n\t-1612977471603230740 -> -4167769655553708545 [id=\"-1612977471603230740.args[0]\"]\n\t-8285762096060248770 -> -6366347408110540668 [id=\"-8285762096060248770.args[1]\"]\n\t-6366347408110540668 [label=\"Pair.right\" id=-6366347408110540668]\n\t-6366347408110540668 -> -4167769655553708545 [id=\"-6366347408110540668.args[0]\"]\n}",
         "label": null,
         "rule": "metadsl_core.maybe.maybe_match"
        },
        {
         "graph": "digraph {\n\tnode [shape=plain]\n\tedge [arrowsize=0.5 penwidth=0.5]\n\t5293063704123737227 [label=\"NDArrayCompat.to_ndarray\" id=-1341672716970475800]\n\t5293063704123737227 -> 1054558087939951220 [id=\"-1341672716970475800.args[0]\"]\n\t1054558087939951220 [label=\"NDArrayCompat.from_ndarray\" id=-4772016795270189587]\n\t1054558087939951220 -> -5997114801345373511 [id=\"-4772016795270189587.args[0]\"]\n\t-5997114801345373511 [label=\"Maybe.match\" id=6939635006650947043]\n\t-5997114801345373511 -> 1593659104146491759 [id=\"6939635006650947043.args[0]\"]\n\t1593659104146491759 [label=\"Maybe.__and__\" id=-2745558395708079455]\n\t1593659104146491759 -> -5936625044764418544 [id=\"-2745558395708079455.args[0]\"]\n\t-5936625044764418544 [label=\"Converter.convert\" id=-1749051929928717773]\n\t-5936625044764418544 -> -3397692373671775358 [id=\"-1749051929928717773.args[0]\"]\n\t-3397692373671775358 [label=\"NDArrayCompat.__add__\" id=-5882035132617130320]\n\t-3397692373671775358 -> 85294802253499659 [id=\"-5882035132617130320.args[0]\"]\n\t85294802253499659 [label=\"NDArrayCompat.from_ndarray\" id=85294802253499659]\n\t85294802253499659 -> 1129541538386884364 [id=\"85294802253499659.args[0]\"]\n\t1129541538386884364 [label=\"Abstraction.__call__\" id=1129541538386884364]\n\t1129541538386884364 -> -2757863483019960227 [id=\"1129541538386884364.args[0]\"]\n\t-2757863483019960227 [label=\"Abstraction.__add__\" id=-2757863483019960227]\n\t-2757863483019960227 -> -1894269937027086384 [id=\"-2757863483019960227.args[0]\"]\n\t-1894269937027086384 [label=\"Abstraction.from_fn\" id=-1894269937027086384]\n\t-1894269937027086384 -> -4855096197904090350 [id=\"-1894269937027086384.args[0]\"]\n\t-4855096197904090350 [label=\"Maybe.just\" id=-4855096197904090350]\n\t-2757863483019960227 -> -4643297354090513087 [id=\"-2757863483019960227.args[1]\"]\n\t-4643297354090513087 [label=\"Abstraction.create\" id=-4643297354090513087]\n\t-4643297354090513087 -> 5534931599655894334 [id=\"-4643297354090513087.args[0]\"]\n\t5534931599655894334 [label=\"Abstraction.create_variable\" id=5534931599655894334]\n\t5534931599655894334 -> 4954432122860222749 [id=\"5534931599655894334.args[0]\"]\n\t4954432122860222749 [label=\"Variable(4763110536)\" id=4954432122860222749]\n\t-4643297354090513087 -> -3508081724970013213 [id=\"-4643297354090513087.args[1]\"]\n\t-3508081724970013213 [label=arange_ id=-3508081724970013213]\n\t-3508081724970013213 -> 5534931599655894334 [id=\"-3508081724970013213.args[0]\"]\n\t1129541538386884364 -> -1313138448651871637 [id=\"1129541538386884364.args[1]\"]\n\t-1313138448651871637 [label=\"Integer.from_int\" id=-1313138448651871637]\n\t-1313138448651871637 -> -7737040241287546841 [id=\"-1313138448651871637.args[0]\"]\n\t-7737040241287546841 [label=100 id=-5945887149520679823]\n\t-3397692373671775358 -> 85294802253499659 [id=\"-5882035132617130320.args[1]\"]\n\t1593659104146491759 -> 9150030912105211354 [id=\"-2745558395708079455.args[1]\"]\n\t9150030912105211354 [label=\"Maybe.__or__\" id=-4179875107795948895]\n\t9150030912105211354 -> 2008626470938325986 [id=\"-4179875107795948895.args[0]\"]\n\t2008626470938325986 [label=\"Abstraction.__call__\" id=5626037285224763133]\n\t2008626470938325986 -> -6233320591470718265 [id=\"5626037285224763133.args[0]\"]\n\t-6233320591470718265 [label=\"Abstraction.__add__\" id=-6233320591470718265]\n\t-6233320591470718265 -> 2013462788875869881 [id=\"-6233320591470718265.args[0]\"]\n\t2013462788875869881 [label=\"Abstraction.from_fn\" id=2013462788875869881]\n\t2013462788875869881 -> -944428355994881963 [id=\"2013462788875869881.args[0]\"]\n\t-944428355994881963 [label=\"Maybe.just\" id=-944428355994881963]\n\t-6233320591470718265 -> -3632599159356222693 [id=\"-6233320591470718265.args[1]\"]\n\t-3632599159356222693 [label=\"Abstraction.create\" id=-3632599159356222693]\n\t-3632599159356222693 -> -4838891889665744714 [id=\"-3632599159356222693.args[0]\"]\n\t-4838891889665744714 [label=\"Abstraction.create_variable\" id=-4838891889665744714]\n\t-4838891889665744714 -> 4954432145743718724 [id=\"-4838891889665744714.args[0]\"]\n\t4954432145743718724 [label=\"Variable(4763330040)\" id=4954432145743718724]\n\t-3632599159356222693 -> -5428197908604838827 [id=\"-3632599159356222693.args[1]\"]\n\t-5428197908604838827 [label=\"Either.left\" id=-5428197908604838827]\n\t-5428197908604838827 -> -4838891889665744714 [id=\"-5428197908604838827.args[0]\"]\n\t2008626470938325986 -> 2507768681348984026 [id=\"5626037285224763133.args[1]\"]\n\t2507768681348984026 [label=\"Integer.from_int\" id=2507768681348984026]\n\t2507768681348984026 -> -7737040241182541916 [id=\"2507768681348984026.args[0]\"]\n\t-7737040241182541916 [label=5 id=-3794084279707917178]\n\t9150030912105211354 -> 7354692970200033373 [id=\"-4179875107795948895.args[1]\"]\n\t7354692970200033373 [label=\"Maybe.match\" id=-686259872675126378]\n\t7354692970200033373 -> -7726250483385592724 [id=\"-686259872675126378.args[0]\"]\n\t-7726250483385592724 [label=\"Converter.convert\" id=-7726250483385592724]\n\t-7726250483385592724 -> -7737040241182541916 [id=\"-7726250483385592724.args[0]\"]\n\t7354692970200033373 -> 542625740483342888 [id=\"-686259872675126378.args[1]\"]\n\t542625740483342888 [label=\"Maybe.nothing\" id=542625740483342888]\n\t7354692970200033373 -> -3933652525115683988 [id=\"-686259872675126378.args[2]\"]\n\t-3933652525115683988 [label=\"Abstraction.__add__\" id=-3933652525115683988]\n\t-3933652525115683988 -> 2013462788875869881 [id=\"-3933652525115683988.args[0]\"]\n\t-3933652525115683988 -> -2838797792369224052 [id=\"-3933652525115683988.args[1]\"]\n\t-2838797792369224052 [label=\"Abstraction.create\" id=-2838797792369224052]\n\t-2838797792369224052 -> -3343294864562084740 [id=\"-2838797792369224052.args[0]\"]\n\t-3343294864562084740 [label=\"Abstraction.create_variable\" id=-3343294864562084740]\n\t-3343294864562084740 -> 4954432134779905524 [id=\"-3343294864562084740.args[0]\"]\n\t4954432134779905524 [label=\"Variable(4763172088)\" id=4954432134779905524]\n\t-2838797792369224052 -> -5480872129034902157 [id=\"-2838797792369224052.args[1]\"]\n\t-5480872129034902157 [label=\"Either.right\" id=-5480872129034902157]\n\t-5480872129034902157 -> -3343294864562084740 [id=\"-5480872129034902157.args[0]\"]\n\t-5997114801345373511 -> 9032834383112645395 [id=\"6939635006650947043.args[1]\"]\n\t9032834383112645395 [label=\"Maybe.nothing\" id=9032834383112645395]\n\t-5997114801345373511 -> 1513986338388351247 [id=\"6939635006650947043.args[2]\"]\n\t1513986338388351247 [label=\"Abstraction.__add__\" id=1513986338388351247]\n\t1513986338388351247 -> -1894269937027086384 [id=\"1513986338388351247.args[0]\"]\n\t1513986338388351247 -> 8044185514099529250 [id=\"1513986338388351247.args[1]\"]\n\t8044185514099529250 [label=\"Abstraction.create\" id=8044185514099529250]\n\t8044185514099529250 -> -4167769655553708545 [id=\"8044185514099529250.args[0]\"]\n\t-4167769655553708545 [label=\"Abstraction.create_variable\" id=-4167769655553708545]\n\t-4167769655553708545 -> -4268939921069936459 [id=\"-4167769655553708545.args[0]\"]\n\t-4268939921069936459 [label=\"Variable(4763018240)\" id=-4268939921069936459]\n\t8044185514099529250 -> -8285762096060248770 [id=\"8044185514099529250.args[1]\"]\n\t-8285762096060248770 [label=\"NDArray.__getitem__\" id=-8285762096060248770]\n\t-8285762096060248770 -> -1612977471603230740 [id=\"-8285762096060248770.args[0]\"]\n\t-1612977471603230740 [label=\"Pair.left\" id=-1612977471603230740]\n\t-1612977471603230740 -> -4167769655553708545 [id=\"-1612977471603230740.args[0]\"]\n\t-8285762096060248770 -> -6366347408110540668 [id=\"-8285762096060248770.args[1]\"]\n\t-6366347408110540668 [label=\"Pair.right\" id=-6366347408110540668]\n\t-6366347408110540668 -> -4167769655553708545 [id=\"-6366347408110540668.args[0]\"]\n}",
         "label": null,
         "rule": "metadsl_core.maybe.maybe_match"
        },
        {
         "graph": "digraph {\n\tnode [shape=plain]\n\tedge [arrowsize=0.5 penwidth=0.5]\n\t3457235991837999757 [label=\"NDArrayCompat.to_ndarray\" id=-1341672716970475800]\n\t3457235991837999757 -> 5268565405192250584 [id=\"-1341672716970475800.args[0]\"]\n\t5268565405192250584 [label=\"NDArrayCompat.from_ndarray\" id=-4772016795270189587]\n\t5268565405192250584 -> -2918344087609665020 [id=\"-4772016795270189587.args[0]\"]\n\t-2918344087609665020 [label=\"Maybe.match\" id=6939635006650947043]\n\t-2918344087609665020 -> 7159771746246499725 [id=\"6939635006650947043.args[0]\"]\n\t7159771746246499725 [label=\"Maybe.__and__\" id=-2745558395708079455]\n\t7159771746246499725 -> -5936625044764418544 [id=\"-2745558395708079455.args[0]\"]\n\t-5936625044764418544 [label=\"Converter.convert\" id=-1749051929928717773]\n\t-5936625044764418544 -> -3397692373671775358 [id=\"-1749051929928717773.args[0]\"]\n\t-3397692373671775358 [label=\"NDArrayCompat.__add__\" id=-5882035132617130320]\n\t-3397692373671775358 -> 85294802253499659 [id=\"-5882035132617130320.args[0]\"]\n\t85294802253499659 [label=\"NDArrayCompat.from_ndarray\" id=85294802253499659]\n\t85294802253499659 -> 1129541538386884364 [id=\"85294802253499659.args[0]\"]\n\t1129541538386884364 [label=\"Abstraction.__call__\" id=1129541538386884364]\n\t1129541538386884364 -> -2757863483019960227 [id=\"1129541538386884364.args[0]\"]\n\t-2757863483019960227 [label=\"Abstraction.__add__\" id=-2757863483019960227]\n\t-2757863483019960227 -> -1894269937027086384 [id=\"-2757863483019960227.args[0]\"]\n\t-1894269937027086384 [label=\"Abstraction.from_fn\" id=-1894269937027086384]\n\t-1894269937027086384 -> -4855096197904090350 [id=\"-1894269937027086384.args[0]\"]\n\t-4855096197904090350 [label=\"Maybe.just\" id=-4855096197904090350]\n\t-2757863483019960227 -> -4643297354090513087 [id=\"-2757863483019960227.args[1]\"]\n\t-4643297354090513087 [label=\"Abstraction.create\" id=-4643297354090513087]\n\t-4643297354090513087 -> 5534931599655894334 [id=\"-4643297354090513087.args[0]\"]\n\t5534931599655894334 [label=\"Abstraction.create_variable\" id=5534931599655894334]\n\t5534931599655894334 -> 4954432122860222749 [id=\"5534931599655894334.args[0]\"]\n\t4954432122860222749 [label=\"Variable(4763110536)\" id=4954432122860222749]\n\t-4643297354090513087 -> -3508081724970013213 [id=\"-4643297354090513087.args[1]\"]\n\t-3508081724970013213 [label=arange_ id=-3508081724970013213]\n\t-3508081724970013213 -> 5534931599655894334 [id=\"-3508081724970013213.args[0]\"]\n\t1129541538386884364 -> -1313138448651871637 [id=\"1129541538386884364.args[1]\"]\n\t-1313138448651871637 [label=\"Integer.from_int\" id=-1313138448651871637]\n\t-1313138448651871637 -> -7737040241287546841 [id=\"-1313138448651871637.args[0]\"]\n\t-7737040241287546841 [label=100 id=-5945887149520679823]\n\t-3397692373671775358 -> 85294802253499659 [id=\"-5882035132617130320.args[1]\"]\n\t7159771746246499725 -> -7706353315301755638 [id=\"-2745558395708079455.args[1]\"]\n\t-7706353315301755638 [label=\"Maybe.__or__\" id=-4179875107795948895]\n\t-7706353315301755638 -> -8086475550023667075 [id=\"-4179875107795948895.args[0]\"]\n\t-8086475550023667075 [label=\"Abstraction.__call__\" id=5626037285224763133]\n\t-8086475550023667075 -> -2676261573324356569 [id=\"5626037285224763133.args[0]\"]\n\t-2676261573324356569 [label=\"Abstraction.__add__\" id=-6233320591470718265]\n\t-2676261573324356569 -> 6161012702387631447 [id=\"-6233320591470718265.args[0]\"]\n\t6161012702387631447 [label=\"Abstraction.create\" id=2013462788875869881]\n\t6161012702387631447 -> 2436712640837770830 [id=\"2013462788875869881.args[0]\"]\n\t2436712640837770830 [label=\"Abstraction.create_variable\" id=2436712640837770830]\n\t2436712640837770830 -> 4954432163994007699 [id=\"2436712640837770830.args[0]\"]\n\t4954432163994007699 [label=\"Variable(4763585448)\" id=4954432163994007699]\n\t6161012702387631447 -> -156776053854657493 [id=\"2013462788875869881.args[1]\"]\n\t-156776053854657493 [label=\"Maybe.just\" id=-156776053854657493]\n\t-156776053854657493 -> 2436712640837770830 [id=\"-156776053854657493.args[0]\"]\n\t-2676261573324356569 -> -3632599159356222693 [id=\"-6233320591470718265.args[1]\"]\n\t-3632599159356222693 [label=\"Abstraction.create\" id=-3632599159356222693]\n\t-3632599159356222693 -> -4838891889665744714 [id=\"-3632599159356222693.args[0]\"]\n\t-4838891889665744714 [label=\"Abstraction.create_variable\" id=-4838891889665744714]\n\t-4838891889665744714 -> 4954432145743718724 [id=\"-4838891889665744714.args[0]\"]\n\t4954432145743718724 [label=\"Variable(4763330040)\" id=4954432145743718724]\n\t-3632599159356222693 -> -5428197908604838827 [id=\"-3632599159356222693.args[1]\"]\n\t-5428197908604838827 [label=\"Either.left\" id=-5428197908604838827]\n\t-5428197908604838827 -> -4838891889665744714 [id=\"-5428197908604838827.args[0]\"]\n\t-8086475550023667075 -> 2507768681348984026 [id=\"5626037285224763133.args[1]\"]\n\t2507768681348984026 [label=\"Integer.from_int\" id=2507768681348984026]\n\t2507768681348984026 -> -7737040241182541916 [id=\"2507768681348984026.args[0]\"]\n\t-7737040241182541916 [label=5 id=-3794084279707917178]\n\t-7706353315301755638 -> -7116132093003899109 [id=\"-4179875107795948895.args[1]\"]\n\t-7116132093003899109 [label=\"Maybe.match\" id=-686259872675126378]\n\t-7116132093003899109 -> -7726250483385592724 [id=\"-686259872675126378.args[0]\"]\n\t-7726250483385592724 [label=\"Converter.convert\" id=-7726250483385592724]\n\t-7726250483385592724 -> -7737040241182541916 [id=\"-7726250483385592724.args[0]\"]\n\t-7116132093003899109 -> 542625740483342888 [id=\"-686259872675126378.args[1]\"]\n\t542625740483342888 [label=\"Maybe.nothing\" id=542625740483342888]\n\t-7116132093003899109 -> -7282077855886877236 [id=\"-686259872675126378.args[2]\"]\n\t-7282077855886877236 [label=\"Abstraction.__add__\" id=-3933652525115683988]\n\t-7282077855886877236 -> 6161012702387631447 [id=\"-3933652525115683988.args[0]\"]\n\t-7282077855886877236 -> -2838797792369224052 [id=\"-3933652525115683988.args[1]\"]\n\t-2838797792369224052 [label=\"Abstraction.create\" id=-2838797792369224052]\n\t-2838797792369224052 -> -3343294864562084740 [id=\"-2838797792369224052.args[0]\"]\n\t-3343294864562084740 [label=\"Abstraction.create_variable\" id=-3343294864562084740]\n\t-3343294864562084740 -> 4954432134779905524 [id=\"-3343294864562084740.args[0]\"]\n\t4954432134779905524 [label=\"Variable(4763172088)\" id=4954432134779905524]\n\t-2838797792369224052 -> -5480872129034902157 [id=\"-2838797792369224052.args[1]\"]\n\t-5480872129034902157 [label=\"Either.right\" id=-5480872129034902157]\n\t-5480872129034902157 -> -3343294864562084740 [id=\"-5480872129034902157.args[0]\"]\n\t-2918344087609665020 -> 9032834383112645395 [id=\"6939635006650947043.args[1]\"]\n\t9032834383112645395 [label=\"Maybe.nothing\" id=9032834383112645395]\n\t-2918344087609665020 -> 1513986338388351247 [id=\"6939635006650947043.args[2]\"]\n\t1513986338388351247 [label=\"Abstraction.__add__\" id=1513986338388351247]\n\t1513986338388351247 -> -1894269937027086384 [id=\"1513986338388351247.args[0]\"]\n\t1513986338388351247 -> 8044185514099529250 [id=\"1513986338388351247.args[1]\"]\n\t8044185514099529250 [label=\"Abstraction.create\" id=8044185514099529250]\n\t8044185514099529250 -> -4167769655553708545 [id=\"8044185514099529250.args[0]\"]\n\t-4167769655553708545 [label=\"Abstraction.create_variable\" id=-4167769655553708545]\n\t-4167769655553708545 -> -4268939921069936459 [id=\"-4167769655553708545.args[0]\"]\n\t-4268939921069936459 [label=\"Variable(4763018240)\" id=-4268939921069936459]\n\t8044185514099529250 -> -8285762096060248770 [id=\"8044185514099529250.args[1]\"]\n\t-8285762096060248770 [label=\"NDArray.__getitem__\" id=-8285762096060248770]\n\t-8285762096060248770 -> -1612977471603230740 [id=\"-8285762096060248770.args[0]\"]\n\t-1612977471603230740 [label=\"Pair.left\" id=-1612977471603230740]\n\t-1612977471603230740 -> -4167769655553708545 [id=\"-1612977471603230740.args[0]\"]\n\t-8285762096060248770 -> -6366347408110540668 [id=\"-8285762096060248770.args[1]\"]\n\t-6366347408110540668 [label=\"Pair.right\" id=-6366347408110540668]\n\t-6366347408110540668 -> -4167769655553708545 [id=\"-6366347408110540668.args[0]\"]\n}",
         "label": null,
         "rule": "metadsl_core.abstraction.Abstraction.from_fn"
        },
        {
         "graph": "digraph {\n\tnode [shape=plain]\n\tedge [arrowsize=0.5 penwidth=0.5]\n\t2472475571885942040 [label=\"NDArrayCompat.to_ndarray\" id=-1341672716970475800]\n\t2472475571885942040 -> 3137100142249553498 [id=\"-1341672716970475800.args[0]\"]\n\t3137100142249553498 [label=\"NDArrayCompat.from_ndarray\" id=-4772016795270189587]\n\t3137100142249553498 -> -1541113139994219591 [id=\"-4772016795270189587.args[0]\"]\n\t-1541113139994219591 [label=\"Maybe.match\" id=6939635006650947043]\n\t-1541113139994219591 -> 6583588539036799453 [id=\"6939635006650947043.args[0]\"]\n\t6583588539036799453 [label=\"Maybe.__and__\" id=-2745558395708079455]\n\t6583588539036799453 -> -1951196616839732642 [id=\"-2745558395708079455.args[0]\"]\n\t-1951196616839732642 [label=\"Converter.convert\" id=-1749051929928717773]\n\t-1951196616839732642 -> 7592179541745765004 [id=\"-1749051929928717773.args[0]\"]\n\t7592179541745765004 [label=\"NDArrayCompat.__add__\" id=-5882035132617130320]\n\t7592179541745765004 -> 9133257758617415926 [id=\"-5882035132617130320.args[0]\"]\n\t9133257758617415926 [label=\"NDArrayCompat.from_ndarray\" id=-8766707318650306503]\n\t9133257758617415926 -> -8700729886857831056 [id=\"-8766707318650306503.args[0]\"]\n\t-8700729886857831056 [label=\"Abstraction.__call__\" id=-6175040583256772104]\n\t-8700729886857831056 -> 7300742739247956141 [id=\"-6175040583256772104.args[0]\"]\n\t7300742739247956141 [label=\"Abstraction.__add__\" id=-2757863483019960227]\n\t7300742739247956141 -> 399900191559359392 [id=\"-2757863483019960227.args[0]\"]\n\t399900191559359392 [label=\"Abstraction.create\" id=-1894269937027086384]\n\t399900191559359392 -> 8509920805002676409 [id=\"-1894269937027086384.args[0]\"]\n\t8509920805002676409 [label=\"Abstraction.create_variable\" id=8509920805002676409]\n\t8509920805002676409 -> 4954432153931937824 [id=\"8509920805002676409.args[0]\"]\n\t4954432153931937824 [label=\"Variable(4763438776)\" id=4954432153931937824]\n\t399900191559359392 -> 1800425219063787799 [id=\"-1894269937027086384.args[1]\"]\n\t1800425219063787799 [label=\"Maybe.just\" id=1800425219063787799]\n\t1800425219063787799 -> 8509920805002676409 [id=\"1800425219063787799.args[0]\"]\n\t7300742739247956141 -> -4643297354090513087 [id=\"-2757863483019960227.args[1]\"]\n\t-4643297354090513087 [label=\"Abstraction.create\" id=-4643297354090513087]\n\t-4643297354090513087 -> 5534931599655894334 [id=\"-4643297354090513087.args[0]\"]\n\t5534931599655894334 [label=\"Abstraction.create_variable\" id=5534931599655894334]\n\t5534931599655894334 -> 4954432122860222749 [id=\"5534931599655894334.args[0]\"]\n\t4954432122860222749 [label=\"Variable(4763110536)\" id=4954432122860222749]\n\t-4643297354090513087 -> -3508081724970013213 [id=\"-4643297354090513087.args[1]\"]\n\t-3508081724970013213 [label=arange_ id=-3508081724970013213]\n\t-3508081724970013213 -> 5534931599655894334 [id=\"-3508081724970013213.args[0]\"]\n\t-8700729886857831056 -> -1313138448651871637 [id=\"-6175040583256772104.args[1]\"]\n\t-1313138448651871637 [label=\"Integer.from_int\" id=-1313138448651871637]\n\t-1313138448651871637 -> -7737040241287546841 [id=\"-1313138448651871637.args[0]\"]\n\t-7737040241287546841 [label=100 id=-5945887149520679823]\n\t7592179541745765004 -> 85294802253499659 [id=\"-5882035132617130320.args[1]\"]\n\t85294802253499659 [label=\"NDArrayCompat.from_ndarray\" id=85294802253499659]\n\t85294802253499659 -> 1129541538386884364 [id=\"85294802253499659.args[0]\"]\n\t1129541538386884364 [label=\"Abstraction.__call__\" id=1129541538386884364]\n\t1129541538386884364 -> -2757863483019960227 [id=\"1129541538386884364.args[0]\"]\n\t-2757863483019960227 [label=\"Abstraction.__add__\" id=-2757863483019960227]\n\t-2757863483019960227 -> -1894269937027086384 [id=\"-2757863483019960227.args[0]\"]\n\t-1894269937027086384 [label=\"Abstraction.from_fn\" id=-1894269937027086384]\n\t-1894269937027086384 -> -4855096197904090350 [id=\"-1894269937027086384.args[0]\"]\n\t-4855096197904090350 [label=\"Maybe.just\" id=-4855096197904090350]\n\t-2757863483019960227 -> -4643297354090513087 [id=\"-2757863483019960227.args[1]\"]\n\t1129541538386884364 -> -1313138448651871637 [id=\"1129541538386884364.args[1]\"]\n\t6583588539036799453 -> -7706353315301755638 [id=\"-2745558395708079455.args[1]\"]\n\t-7706353315301755638 [label=\"Maybe.__or__\" id=-4179875107795948895]\n\t-7706353315301755638 -> -8086475550023667075 [id=\"-4179875107795948895.args[0]\"]\n\t-8086475550023667075 [label=\"Abstraction.__call__\" id=5626037285224763133]\n\t-8086475550023667075 -> -2676261573324356569 [id=\"5626037285224763133.args[0]\"]\n\t-2676261573324356569 [label=\"Abstraction.__add__\" id=-6233320591470718265]\n\t-2676261573324356569 -> 6161012702387631447 [id=\"-6233320591470718265.args[0]\"]\n\t6161012702387631447 [label=\"Abstraction.create\" id=2013462788875869881]\n\t6161012702387631447 -> 2436712640837770830 [id=\"2013462788875869881.args[0]\"]\n\t2436712640837770830 [label=\"Abstraction.create_variable\" id=2436712640837770830]\n\t2436712640837770830 -> 4954432163994007699 [id=\"2436712640837770830.args[0]\"]\n\t4954432163994007699 [label=\"Variable(4763585448)\" id=4954432163994007699]\n\t6161012702387631447 -> -156776053854657493 [id=\"2013462788875869881.args[1]\"]\n\t-156776053854657493 [label=\"Maybe.just\" id=-156776053854657493]\n\t-156776053854657493 -> 2436712640837770830 [id=\"-156776053854657493.args[0]\"]\n\t-2676261573324356569 -> -3632599159356222693 [id=\"-6233320591470718265.args[1]\"]\n\t-3632599159356222693 [label=\"Abstraction.create\" id=-3632599159356222693]\n\t-3632599159356222693 -> -4838891889665744714 [id=\"-3632599159356222693.args[0]\"]\n\t-4838891889665744714 [label=\"Abstraction.create_variable\" id=-4838891889665744714]\n\t-4838891889665744714 -> 4954432145743718724 [id=\"-4838891889665744714.args[0]\"]\n\t4954432145743718724 [label=\"Variable(4763330040)\" id=4954432145743718724]\n\t-3632599159356222693 -> -5428197908604838827 [id=\"-3632599159356222693.args[1]\"]\n\t-5428197908604838827 [label=\"Either.left\" id=-5428197908604838827]\n\t-5428197908604838827 -> -4838891889665744714 [id=\"-5428197908604838827.args[0]\"]\n\t-8086475550023667075 -> 2507768681348984026 [id=\"5626037285224763133.args[1]\"]\n\t2507768681348984026 [label=\"Integer.from_int\" id=2507768681348984026]\n\t2507768681348984026 -> -7737040241182541916 [id=\"2507768681348984026.args[0]\"]\n\t-7737040241182541916 [label=5 id=-3794084279707917178]\n\t-7706353315301755638 -> -7116132093003899109 [id=\"-4179875107795948895.args[1]\"]\n\t-7116132093003899109 [label=\"Maybe.match\" id=-686259872675126378]\n\t-7116132093003899109 -> -7726250483385592724 [id=\"-686259872675126378.args[0]\"]\n\t-7726250483385592724 [label=\"Converter.convert\" id=-7726250483385592724]\n\t-7726250483385592724 -> -7737040241182541916 [id=\"-7726250483385592724.args[0]\"]\n\t-7116132093003899109 -> 542625740483342888 [id=\"-686259872675126378.args[1]\"]\n\t542625740483342888 [label=\"Maybe.nothing\" id=542625740483342888]\n\t-7116132093003899109 -> -7282077855886877236 [id=\"-686259872675126378.args[2]\"]\n\t-7282077855886877236 [label=\"Abstraction.__add__\" id=-3933652525115683988]\n\t-7282077855886877236 -> 6161012702387631447 [id=\"-3933652525115683988.args[0]\"]\n\t-7282077855886877236 -> -2838797792369224052 [id=\"-3933652525115683988.args[1]\"]\n\t-2838797792369224052 [label=\"Abstraction.create\" id=-2838797792369224052]\n\t-2838797792369224052 -> -3343294864562084740 [id=\"-2838797792369224052.args[0]\"]\n\t-3343294864562084740 [label=\"Abstraction.create_variable\" id=-3343294864562084740]\n\t-3343294864562084740 -> 4954432134779905524 [id=\"-3343294864562084740.args[0]\"]\n\t4954432134779905524 [label=\"Variable(4763172088)\" id=4954432134779905524]\n\t-2838797792369224052 -> -5480872129034902157 [id=\"-2838797792369224052.args[1]\"]\n\t-5480872129034902157 [label=\"Either.right\" id=-5480872129034902157]\n\t-5480872129034902157 -> -3343294864562084740 [id=\"-5480872129034902157.args[0]\"]\n\t-1541113139994219591 -> 9032834383112645395 [id=\"6939635006650947043.args[1]\"]\n\t9032834383112645395 [label=\"Maybe.nothing\" id=9032834383112645395]\n\t-1541113139994219591 -> 1064563450086600191 [id=\"6939635006650947043.args[2]\"]\n\t1064563450086600191 [label=\"Abstraction.__add__\" id=1513986338388351247]\n\t1064563450086600191 -> 399900191559359392 [id=\"1513986338388351247.args[0]\"]\n\t1064563450086600191 -> 8044185514099529250 [id=\"1513986338388351247.args[1]\"]\n\t8044185514099529250 [label=\"Abstraction.create\" id=8044185514099529250]\n\t8044185514099529250 -> -4167769655553708545 [id=\"8044185514099529250.args[0]\"]\n\t-4167769655553708545 [label=\"Abstraction.create_variable\" id=-4167769655553708545]\n\t-4167769655553708545 -> -4268939921069936459 [id=\"-4167769655553708545.args[0]\"]\n\t-4268939921069936459 [label=\"Variable(4763018240)\" id=-4268939921069936459]\n\t8044185514099529250 -> -8285762096060248770 [id=\"8044185514099529250.args[1]\"]\n\t-8285762096060248770 [label=\"NDArray.__getitem__\" id=-8285762096060248770]\n\t-8285762096060248770 -> -1612977471603230740 [id=\"-8285762096060248770.args[0]\"]\n\t-1612977471603230740 [label=\"Pair.left\" id=-1612977471603230740]\n\t-1612977471603230740 -> -4167769655553708545 [id=\"-1612977471603230740.args[0]\"]\n\t-8285762096060248770 -> -6366347408110540668 [id=\"-8285762096060248770.args[1]\"]\n\t-6366347408110540668 [label=\"Pair.right\" id=-6366347408110540668]\n\t-6366347408110540668 -> -4167769655553708545 [id=\"-6366347408110540668.args[0]\"]\n}",
         "label": null,
         "rule": "metadsl_core.abstraction.Abstraction.from_fn"
        },
        {
         "graph": "digraph {\n\tnode [shape=plain]\n\tedge [arrowsize=0.5 penwidth=0.5]\n\t-8669550500244779836 [label=\"NDArrayCompat.to_ndarray\" id=-1341672716970475800]\n\t-8669550500244779836 -> 5638101176698137821 [id=\"-1341672716970475800.args[0]\"]\n\t5638101176698137821 [label=\"NDArrayCompat.from_ndarray\" id=-4772016795270189587]\n\t5638101176698137821 -> -321562744041360046 [id=\"-4772016795270189587.args[0]\"]\n\t-321562744041360046 [label=\"Maybe.match\" id=6939635006650947043]\n\t-321562744041360046 -> -7004563630179665879 [id=\"6939635006650947043.args[0]\"]\n\t-7004563630179665879 [label=\"Maybe.__and__\" id=-2745558395708079455]\n\t-7004563630179665879 -> -4161268223004706061 [id=\"-2745558395708079455.args[0]\"]\n\t-4161268223004706061 [label=\"Converter.convert\" id=-1749051929928717773]\n\t-4161268223004706061 -> -5697007707504983312 [id=\"-1749051929928717773.args[0]\"]\n\t-5697007707504983312 [label=\"NDArrayCompat.__add__\" id=-5882035132617130320]\n\t-5697007707504983312 -> 9133257758617415926 [id=\"-5882035132617130320.args[0]\"]\n\t9133257758617415926 [label=\"NDArrayCompat.from_ndarray\" id=-8766707318650306503]\n\t9133257758617415926 -> -8700729886857831056 [id=\"-8766707318650306503.args[0]\"]\n\t-8700729886857831056 [label=\"Abstraction.__call__\" id=-6175040583256772104]\n\t-8700729886857831056 -> 7300742739247956141 [id=\"-6175040583256772104.args[0]\"]\n\t7300742739247956141 [label=\"Abstraction.__add__\" id=-2757863483019960227]\n\t7300742739247956141 -> 399900191559359392 [id=\"-2757863483019960227.args[0]\"]\n\t399900191559359392 [label=\"Abstraction.create\" id=-1894269937027086384]\n\t399900191559359392 -> 8509920805002676409 [id=\"-1894269937027086384.args[0]\"]\n\t8509920805002676409 [label=\"Abstraction.create_variable\" id=8509920805002676409]\n\t8509920805002676409 -> 4954432153931937824 [id=\"8509920805002676409.args[0]\"]\n\t4954432153931937824 [label=\"Variable(4763438776)\" id=4954432153931937824]\n\t399900191559359392 -> 1800425219063787799 [id=\"-1894269937027086384.args[1]\"]\n\t1800425219063787799 [label=\"Maybe.just\" id=1800425219063787799]\n\t1800425219063787799 -> 8509920805002676409 [id=\"1800425219063787799.args[0]\"]\n\t7300742739247956141 -> -4643297354090513087 [id=\"-2757863483019960227.args[1]\"]\n\t-4643297354090513087 [label=\"Abstraction.create\" id=-4643297354090513087]\n\t-4643297354090513087 -> 5534931599655894334 [id=\"-4643297354090513087.args[0]\"]\n\t5534931599655894334 [label=\"Abstraction.create_variable\" id=5534931599655894334]\n\t5534931599655894334 -> 4954432122860222749 [id=\"5534931599655894334.args[0]\"]\n\t4954432122860222749 [label=\"Variable(4763110536)\" id=4954432122860222749]\n\t-4643297354090513087 -> -3508081724970013213 [id=\"-4643297354090513087.args[1]\"]\n\t-3508081724970013213 [label=arange_ id=-3508081724970013213]\n\t-3508081724970013213 -> 5534931599655894334 [id=\"-3508081724970013213.args[0]\"]\n\t-8700729886857831056 -> -1313138448651871637 [id=\"-6175040583256772104.args[1]\"]\n\t-1313138448651871637 [label=\"Integer.from_int\" id=-1313138448651871637]\n\t-1313138448651871637 -> -7737040241287546841 [id=\"-1313138448651871637.args[0]\"]\n\t-7737040241287546841 [label=100 id=-5945887149520679823]\n\t-5697007707504983312 -> -7013849389704253342 [id=\"-5882035132617130320.args[1]\"]\n\t-7013849389704253342 [label=\"NDArrayCompat.from_ndarray\" id=85294802253499659]\n\t-7013849389704253342 -> 1236464281425515729 [id=\"85294802253499659.args[0]\"]\n\t1236464281425515729 [label=\"Abstraction.__call__\" id=1129541538386884364]\n\t1236464281425515729 -> -8575755116559007356 [id=\"1129541538386884364.args[0]\"]\n\t-8575755116559007356 [label=\"Abstraction.__add__\" id=-8575755116559007356]\n\t-8575755116559007356 -> -6048131664248139973 [id=\"-8575755116559007356.args[0]\"]\n\t-6048131664248139973 [label=\"Abstraction.create\" id=-6048131664248139973]\n\t-6048131664248139973 -> -8524737889970717860 [id=\"-6048131664248139973.args[0]\"]\n\t-8524737889970717860 [label=\"Abstraction.create_variable\" id=-8524737889970717860]\n\t-8524737889970717860 -> 4954432112593555649 [id=\"-8524737889970717860.args[0]\"]\n\t4954432112593555649 [label=\"Variable(4762969032)\" id=4954432112593555649]\n\t-6048131664248139973 -> -2344483244357926298 [id=\"-6048131664248139973.args[1]\"]\n\t-2344483244357926298 [label=\"Maybe.just\" id=-2344483244357926298]\n\t-2344483244357926298 -> -8524737889970717860 [id=\"-2344483244357926298.args[0]\"]\n\t-8575755116559007356 -> -4643297354090513087 [id=\"-8575755116559007356.args[1]\"]\n\t1236464281425515729 -> -1313138448651871637 [id=\"1129541538386884364.args[1]\"]\n\t-7004563630179665879 -> -7706353315301755638 [id=\"-2745558395708079455.args[1]\"]\n\t-7706353315301755638 [label=\"Maybe.__or__\" id=-4179875107795948895]\n\t-7706353315301755638 -> -8086475550023667075 [id=\"-4179875107795948895.args[0]\"]\n\t-8086475550023667075 [label=\"Abstraction.__call__\" id=5626037285224763133]\n\t-8086475550023667075 -> -2676261573324356569 [id=\"5626037285224763133.args[0]\"]\n\t-2676261573324356569 [label=\"Abstraction.__add__\" id=-6233320591470718265]\n\t-2676261573324356569 -> 6161012702387631447 [id=\"-6233320591470718265.args[0]\"]\n\t6161012702387631447 [label=\"Abstraction.create\" id=2013462788875869881]\n\t6161012702387631447 -> 2436712640837770830 [id=\"2013462788875869881.args[0]\"]\n\t2436712640837770830 [label=\"Abstraction.create_variable\" id=2436712640837770830]\n\t2436712640837770830 -> 4954432163994007699 [id=\"2436712640837770830.args[0]\"]\n\t4954432163994007699 [label=\"Variable(4763585448)\" id=4954432163994007699]\n\t6161012702387631447 -> -156776053854657493 [id=\"2013462788875869881.args[1]\"]\n\t-156776053854657493 [label=\"Maybe.just\" id=-156776053854657493]\n\t-156776053854657493 -> 2436712640837770830 [id=\"-156776053854657493.args[0]\"]\n\t-2676261573324356569 -> -3632599159356222693 [id=\"-6233320591470718265.args[1]\"]\n\t-3632599159356222693 [label=\"Abstraction.create\" id=-3632599159356222693]\n\t-3632599159356222693 -> -4838891889665744714 [id=\"-3632599159356222693.args[0]\"]\n\t-4838891889665744714 [label=\"Abstraction.create_variable\" id=-4838891889665744714]\n\t-4838891889665744714 -> 4954432145743718724 [id=\"-4838891889665744714.args[0]\"]\n\t4954432145743718724 [label=\"Variable(4763330040)\" id=4954432145743718724]\n\t-3632599159356222693 -> -5428197908604838827 [id=\"-3632599159356222693.args[1]\"]\n\t-5428197908604838827 [label=\"Either.left\" id=-5428197908604838827]\n\t-5428197908604838827 -> -4838891889665744714 [id=\"-5428197908604838827.args[0]\"]\n\t-8086475550023667075 -> 2507768681348984026 [id=\"5626037285224763133.args[1]\"]\n\t2507768681348984026 [label=\"Integer.from_int\" id=2507768681348984026]\n\t2507768681348984026 -> -7737040241182541916 [id=\"2507768681348984026.args[0]\"]\n\t-7737040241182541916 [label=5 id=-3794084279707917178]\n\t-7706353315301755638 -> -7116132093003899109 [id=\"-4179875107795948895.args[1]\"]\n\t-7116132093003899109 [label=\"Maybe.match\" id=-686259872675126378]\n\t-7116132093003899109 -> -7726250483385592724 [id=\"-686259872675126378.args[0]\"]\n\t-7726250483385592724 [label=\"Converter.convert\" id=-7726250483385592724]\n\t-7726250483385592724 -> -7737040241182541916 [id=\"-7726250483385592724.args[0]\"]\n\t-7116132093003899109 -> 542625740483342888 [id=\"-686259872675126378.args[1]\"]\n\t542625740483342888 [label=\"Maybe.nothing\" id=542625740483342888]\n\t-7116132093003899109 -> -7282077855886877236 [id=\"-686259872675126378.args[2]\"]\n\t-7282077855886877236 [label=\"Abstraction.__add__\" id=-3933652525115683988]\n\t-7282077855886877236 -> 6161012702387631447 [id=\"-3933652525115683988.args[0]\"]\n\t-7282077855886877236 -> -2838797792369224052 [id=\"-3933652525115683988.args[1]\"]\n\t-2838797792369224052 [label=\"Abstraction.create\" id=-2838797792369224052]\n\t-2838797792369224052 -> -3343294864562084740 [id=\"-2838797792369224052.args[0]\"]\n\t-3343294864562084740 [label=\"Abstraction.create_variable\" id=-3343294864562084740]\n\t-3343294864562084740 -> 4954432134779905524 [id=\"-3343294864562084740.args[0]\"]\n\t4954432134779905524 [label=\"Variable(4763172088)\" id=4954432134779905524]\n\t-2838797792369224052 -> -5480872129034902157 [id=\"-2838797792369224052.args[1]\"]\n\t-5480872129034902157 [label=\"Either.right\" id=-5480872129034902157]\n\t-5480872129034902157 -> -3343294864562084740 [id=\"-5480872129034902157.args[0]\"]\n\t-321562744041360046 -> 9032834383112645395 [id=\"6939635006650947043.args[1]\"]\n\t9032834383112645395 [label=\"Maybe.nothing\" id=9032834383112645395]\n\t-321562744041360046 -> 1064563450086600191 [id=\"6939635006650947043.args[2]\"]\n\t1064563450086600191 [label=\"Abstraction.__add__\" id=1513986338388351247]\n\t1064563450086600191 -> 399900191559359392 [id=\"1513986338388351247.args[0]\"]\n\t1064563450086600191 -> 8044185514099529250 [id=\"1513986338388351247.args[1]\"]\n\t8044185514099529250 [label=\"Abstraction.create\" id=8044185514099529250]\n\t8044185514099529250 -> -4167769655553708545 [id=\"8044185514099529250.args[0]\"]\n\t-4167769655553708545 [label=\"Abstraction.create_variable\" id=-4167769655553708545]\n\t-4167769655553708545 -> -4268939921069936459 [id=\"-4167769655553708545.args[0]\"]\n\t-4268939921069936459 [label=\"Variable(4763018240)\" id=-4268939921069936459]\n\t8044185514099529250 -> -8285762096060248770 [id=\"8044185514099529250.args[1]\"]\n\t-8285762096060248770 [label=\"NDArray.__getitem__\" id=-8285762096060248770]\n\t-8285762096060248770 -> -1612977471603230740 [id=\"-8285762096060248770.args[0]\"]\n\t-1612977471603230740 [label=\"Pair.left\" id=-1612977471603230740]\n\t-1612977471603230740 -> -4167769655553708545 [id=\"-1612977471603230740.args[0]\"]\n\t-8285762096060248770 -> -6366347408110540668 [id=\"-8285762096060248770.args[1]\"]\n\t-6366347408110540668 [label=\"Pair.right\" id=-6366347408110540668]\n\t-6366347408110540668 -> -4167769655553708545 [id=\"-6366347408110540668.args[0]\"]\n}",
         "label": null,
         "rule": "metadsl_core.abstraction.Abstraction.from_fn"
        },
        {
         "graph": "digraph {\n\tnode [shape=plain]\n\tedge [arrowsize=0.5 penwidth=0.5]\n\t8940231038518898282 [label=\"NDArrayCompat.to_ndarray\" id=-1341672716970475800]\n\t8940231038518898282 -> -832693358443336927 [id=\"-1341672716970475800.args[0]\"]\n\t-832693358443336927 [label=\"NDArrayCompat.from_ndarray\" id=-4772016795270189587]\n\t-832693358443336927 -> 2142231791155168270 [id=\"-4772016795270189587.args[0]\"]\n\t2142231791155168270 [label=\"Maybe.match\" id=6939635006650947043]\n\t2142231791155168270 -> -7004563630179665879 [id=\"6939635006650947043.args[0]\"]\n\t-7004563630179665879 [label=\"Maybe.__and__\" id=-2745558395708079455]\n\t-7004563630179665879 -> -4161268223004706061 [id=\"-2745558395708079455.args[0]\"]\n\t-4161268223004706061 [label=\"Converter.convert\" id=-1749051929928717773]\n\t-4161268223004706061 -> -5697007707504983312 [id=\"-1749051929928717773.args[0]\"]\n\t-5697007707504983312 [label=\"NDArrayCompat.__add__\" id=-5882035132617130320]\n\t-5697007707504983312 -> 9133257758617415926 [id=\"-5882035132617130320.args[0]\"]\n\t9133257758617415926 [label=\"NDArrayCompat.from_ndarray\" id=-8766707318650306503]\n\t9133257758617415926 -> -8700729886857831056 [id=\"-8766707318650306503.args[0]\"]\n\t-8700729886857831056 [label=\"Abstraction.__call__\" id=-6175040583256772104]\n\t-8700729886857831056 -> 7300742739247956141 [id=\"-6175040583256772104.args[0]\"]\n\t7300742739247956141 [label=\"Abstraction.__add__\" id=-2757863483019960227]\n\t7300742739247956141 -> 399900191559359392 [id=\"-2757863483019960227.args[0]\"]\n\t399900191559359392 [label=\"Abstraction.create\" id=-1894269937027086384]\n\t399900191559359392 -> 8509920805002676409 [id=\"-1894269937027086384.args[0]\"]\n\t8509920805002676409 [label=\"Abstraction.create_variable\" id=8509920805002676409]\n\t8509920805002676409 -> 4954432153931937824 [id=\"8509920805002676409.args[0]\"]\n\t4954432153931937824 [label=\"Variable(4763438776)\" id=4954432153931937824]\n\t399900191559359392 -> 1800425219063787799 [id=\"-1894269937027086384.args[1]\"]\n\t1800425219063787799 [label=\"Maybe.just\" id=1800425219063787799]\n\t1800425219063787799 -> 8509920805002676409 [id=\"1800425219063787799.args[0]\"]\n\t7300742739247956141 -> -4643297354090513087 [id=\"-2757863483019960227.args[1]\"]\n\t-4643297354090513087 [label=\"Abstraction.create\" id=-4643297354090513087]\n\t-4643297354090513087 -> 5534931599655894334 [id=\"-4643297354090513087.args[0]\"]\n\t5534931599655894334 [label=\"Abstraction.create_variable\" id=5534931599655894334]\n\t5534931599655894334 -> 4954432122860222749 [id=\"5534931599655894334.args[0]\"]\n\t4954432122860222749 [label=\"Variable(4763110536)\" id=4954432122860222749]\n\t-4643297354090513087 -> -3508081724970013213 [id=\"-4643297354090513087.args[1]\"]\n\t-3508081724970013213 [label=arange_ id=-3508081724970013213]\n\t-3508081724970013213 -> 5534931599655894334 [id=\"-3508081724970013213.args[0]\"]\n\t-8700729886857831056 -> -1313138448651871637 [id=\"-6175040583256772104.args[1]\"]\n\t-1313138448651871637 [label=\"Integer.from_int\" id=-1313138448651871637]\n\t-1313138448651871637 -> -7737040241287546841 [id=\"-1313138448651871637.args[0]\"]\n\t-7737040241287546841 [label=100 id=-5945887149520679823]\n\t-5697007707504983312 -> -7013849389704253342 [id=\"-5882035132617130320.args[1]\"]\n\t-7013849389704253342 [label=\"NDArrayCompat.from_ndarray\" id=85294802253499659]\n\t-7013849389704253342 -> 1236464281425515729 [id=\"85294802253499659.args[0]\"]\n\t1236464281425515729 [label=\"Abstraction.__call__\" id=1129541538386884364]\n\t1236464281425515729 -> -8575755116559007356 [id=\"1129541538386884364.args[0]\"]\n\t-8575755116559007356 [label=\"Abstraction.__add__\" id=-8575755116559007356]\n\t-8575755116559007356 -> -6048131664248139973 [id=\"-8575755116559007356.args[0]\"]\n\t-6048131664248139973 [label=\"Abstraction.create\" id=-6048131664248139973]\n\t-6048131664248139973 -> -8524737889970717860 [id=\"-6048131664248139973.args[0]\"]\n\t-8524737889970717860 [label=\"Abstraction.create_variable\" id=-8524737889970717860]\n\t-8524737889970717860 -> 4954432112593555649 [id=\"-8524737889970717860.args[0]\"]\n\t4954432112593555649 [label=\"Variable(4762969032)\" id=4954432112593555649]\n\t-6048131664248139973 -> -2344483244357926298 [id=\"-6048131664248139973.args[1]\"]\n\t-2344483244357926298 [label=\"Maybe.just\" id=-2344483244357926298]\n\t-2344483244357926298 -> -8524737889970717860 [id=\"-2344483244357926298.args[0]\"]\n\t-8575755116559007356 -> -4643297354090513087 [id=\"-8575755116559007356.args[1]\"]\n\t1236464281425515729 -> -1313138448651871637 [id=\"1129541538386884364.args[1]\"]\n\t-7004563630179665879 -> -7706353315301755638 [id=\"-2745558395708079455.args[1]\"]\n\t-7706353315301755638 [label=\"Maybe.__or__\" id=-4179875107795948895]\n\t-7706353315301755638 -> -8086475550023667075 [id=\"-4179875107795948895.args[0]\"]\n\t-8086475550023667075 [label=\"Abstraction.__call__\" id=5626037285224763133]\n\t-8086475550023667075 -> -2676261573324356569 [id=\"5626037285224763133.args[0]\"]\n\t-2676261573324356569 [label=\"Abstraction.__add__\" id=-6233320591470718265]\n\t-2676261573324356569 -> 6161012702387631447 [id=\"-6233320591470718265.args[0]\"]\n\t6161012702387631447 [label=\"Abstraction.create\" id=2013462788875869881]\n\t6161012702387631447 -> 2436712640837770830 [id=\"2013462788875869881.args[0]\"]\n\t2436712640837770830 [label=\"Abstraction.create_variable\" id=2436712640837770830]\n\t2436712640837770830 -> 4954432163994007699 [id=\"2436712640837770830.args[0]\"]\n\t4954432163994007699 [label=\"Variable(4763585448)\" id=4954432163994007699]\n\t6161012702387631447 -> -156776053854657493 [id=\"2013462788875869881.args[1]\"]\n\t-156776053854657493 [label=\"Maybe.just\" id=-156776053854657493]\n\t-156776053854657493 -> 2436712640837770830 [id=\"-156776053854657493.args[0]\"]\n\t-2676261573324356569 -> -3632599159356222693 [id=\"-6233320591470718265.args[1]\"]\n\t-3632599159356222693 [label=\"Abstraction.create\" id=-3632599159356222693]\n\t-3632599159356222693 -> -4838891889665744714 [id=\"-3632599159356222693.args[0]\"]\n\t-4838891889665744714 [label=\"Abstraction.create_variable\" id=-4838891889665744714]\n\t-4838891889665744714 -> 4954432145743718724 [id=\"-4838891889665744714.args[0]\"]\n\t4954432145743718724 [label=\"Variable(4763330040)\" id=4954432145743718724]\n\t-3632599159356222693 -> -5428197908604838827 [id=\"-3632599159356222693.args[1]\"]\n\t-5428197908604838827 [label=\"Either.left\" id=-5428197908604838827]\n\t-5428197908604838827 -> -4838891889665744714 [id=\"-5428197908604838827.args[0]\"]\n\t-8086475550023667075 -> 2507768681348984026 [id=\"5626037285224763133.args[1]\"]\n\t2507768681348984026 [label=\"Integer.from_int\" id=2507768681348984026]\n\t2507768681348984026 -> -7737040241182541916 [id=\"2507768681348984026.args[0]\"]\n\t-7737040241182541916 [label=5 id=-3794084279707917178]\n\t-7706353315301755638 -> -7116132093003899109 [id=\"-4179875107795948895.args[1]\"]\n\t-7116132093003899109 [label=\"Maybe.match\" id=-686259872675126378]\n\t-7116132093003899109 -> -7726250483385592724 [id=\"-686259872675126378.args[0]\"]\n\t-7726250483385592724 [label=\"Converter.convert\" id=-7726250483385592724]\n\t-7726250483385592724 -> -7737040241182541916 [id=\"-7726250483385592724.args[0]\"]\n\t-7116132093003899109 -> 542625740483342888 [id=\"-686259872675126378.args[1]\"]\n\t542625740483342888 [label=\"Maybe.nothing\" id=542625740483342888]\n\t-7116132093003899109 -> -7282077855886877236 [id=\"-686259872675126378.args[2]\"]\n\t-7282077855886877236 [label=\"Abstraction.__add__\" id=-3933652525115683988]\n\t-7282077855886877236 -> 6161012702387631447 [id=\"-3933652525115683988.args[0]\"]\n\t-7282077855886877236 -> -2838797792369224052 [id=\"-3933652525115683988.args[1]\"]\n\t-2838797792369224052 [label=\"Abstraction.create\" id=-2838797792369224052]\n\t-2838797792369224052 -> -3343294864562084740 [id=\"-2838797792369224052.args[0]\"]\n\t-3343294864562084740 [label=\"Abstraction.create_variable\" id=-3343294864562084740]\n\t-3343294864562084740 -> 4954432134779905524 [id=\"-3343294864562084740.args[0]\"]\n\t4954432134779905524 [label=\"Variable(4763172088)\" id=4954432134779905524]\n\t-2838797792369224052 -> -5480872129034902157 [id=\"-2838797792369224052.args[1]\"]\n\t-5480872129034902157 [label=\"Either.right\" id=-5480872129034902157]\n\t-5480872129034902157 -> -3343294864562084740 [id=\"-5480872129034902157.args[0]\"]\n\t2142231791155168270 -> 9032834383112645395 [id=\"6939635006650947043.args[1]\"]\n\t9032834383112645395 [label=\"Maybe.nothing\" id=9032834383112645395]\n\t2142231791155168270 -> -1475646575536360333 [id=\"6939635006650947043.args[2]\"]\n\t-1475646575536360333 [label=\"Abstraction.create\" id=-1475646575536360333]\n\t-1475646575536360333 -> -4167769655553708545 [id=\"-1475646575536360333.args[0]\"]\n\t-4167769655553708545 [label=\"Abstraction.create_variable\" id=-4167769655553708545]\n\t-4167769655553708545 -> -4268939921069936459 [id=\"-4167769655553708545.args[0]\"]\n\t-4268939921069936459 [label=\"Variable(4763018240)\" id=-4268939921069936459]\n\t-1475646575536360333 -> -91834066106135924 [id=\"-1475646575536360333.args[1]\"]\n\t-91834066106135924 [label=\"Maybe.just\" id=-91834066106135924]\n\t-91834066106135924 -> -8285762096060248770 [id=\"-91834066106135924.args[0]\"]\n\t-8285762096060248770 [label=\"NDArray.__getitem__\" id=-8285762096060248770]\n\t-8285762096060248770 -> -1612977471603230740 [id=\"-8285762096060248770.args[0]\"]\n\t-1612977471603230740 [label=\"Pair.left\" id=-1612977471603230740]\n\t-1612977471603230740 -> -4167769655553708545 [id=\"-1612977471603230740.args[0]\"]\n\t-8285762096060248770 -> -6366347408110540668 [id=\"-8285762096060248770.args[1]\"]\n\t-6366347408110540668 [label=\"Pair.right\" id=-6366347408110540668]\n\t-6366347408110540668 -> -4167769655553708545 [id=\"-6366347408110540668.args[0]\"]\n}",
         "label": null,
         "rule": "metadsl_core.abstraction.compose"
        },
        {
         "graph": "digraph {\n\tnode [shape=plain]\n\tedge [arrowsize=0.5 penwidth=0.5]\n\t-7000641557897437974 [label=\"NDArrayCompat.to_ndarray\" id=-1341672716970475800]\n\t-7000641557897437974 -> -3840159583336959838 [id=\"-1341672716970475800.args[0]\"]\n\t-3840159583336959838 [label=\"NDArrayCompat.from_ndarray\" id=-4772016795270189587]\n\t-3840159583336959838 -> 2341006719661882768 [id=\"-4772016795270189587.args[0]\"]\n\t2341006719661882768 [label=\"Maybe.match\" id=6939635006650947043]\n\t2341006719661882768 -> 2987543410002963815 [id=\"6939635006650947043.args[0]\"]\n\t2987543410002963815 [label=\"Maybe.__and__\" id=-2745558395708079455]\n\t2987543410002963815 -> -4161268223004706061 [id=\"-2745558395708079455.args[0]\"]\n\t-4161268223004706061 [label=\"Converter.convert\" id=-1749051929928717773]\n\t-4161268223004706061 -> -5697007707504983312 [id=\"-1749051929928717773.args[0]\"]\n\t-5697007707504983312 [label=\"NDArrayCompat.__add__\" id=-5882035132617130320]\n\t-5697007707504983312 -> 9133257758617415926 [id=\"-5882035132617130320.args[0]\"]\n\t9133257758617415926 [label=\"NDArrayCompat.from_ndarray\" id=-8766707318650306503]\n\t9133257758617415926 -> -8700729886857831056 [id=\"-8766707318650306503.args[0]\"]\n\t-8700729886857831056 [label=\"Abstraction.__call__\" id=-6175040583256772104]\n\t-8700729886857831056 -> 7300742739247956141 [id=\"-6175040583256772104.args[0]\"]\n\t7300742739247956141 [label=\"Abstraction.__add__\" id=-2757863483019960227]\n\t7300742739247956141 -> 399900191559359392 [id=\"-2757863483019960227.args[0]\"]\n\t399900191559359392 [label=\"Abstraction.create\" id=-1894269937027086384]\n\t399900191559359392 -> 8509920805002676409 [id=\"-1894269937027086384.args[0]\"]\n\t8509920805002676409 [label=\"Abstraction.create_variable\" id=8509920805002676409]\n\t8509920805002676409 -> 4954432153931937824 [id=\"8509920805002676409.args[0]\"]\n\t4954432153931937824 [label=\"Variable(4763438776)\" id=4954432153931937824]\n\t399900191559359392 -> 1800425219063787799 [id=\"-1894269937027086384.args[1]\"]\n\t1800425219063787799 [label=\"Maybe.just\" id=1800425219063787799]\n\t1800425219063787799 -> 8509920805002676409 [id=\"1800425219063787799.args[0]\"]\n\t7300742739247956141 -> -4643297354090513087 [id=\"-2757863483019960227.args[1]\"]\n\t-4643297354090513087 [label=\"Abstraction.create\" id=-4643297354090513087]\n\t-4643297354090513087 -> 5534931599655894334 [id=\"-4643297354090513087.args[0]\"]\n\t5534931599655894334 [label=\"Abstraction.create_variable\" id=5534931599655894334]\n\t5534931599655894334 -> 4954432122860222749 [id=\"5534931599655894334.args[0]\"]\n\t4954432122860222749 [label=\"Variable(4763110536)\" id=4954432122860222749]\n\t-4643297354090513087 -> -3508081724970013213 [id=\"-4643297354090513087.args[1]\"]\n\t-3508081724970013213 [label=arange_ id=-3508081724970013213]\n\t-3508081724970013213 -> 5534931599655894334 [id=\"-3508081724970013213.args[0]\"]\n\t-8700729886857831056 -> -1313138448651871637 [id=\"-6175040583256772104.args[1]\"]\n\t-1313138448651871637 [label=\"Integer.from_int\" id=-1313138448651871637]\n\t-1313138448651871637 -> -7737040241287546841 [id=\"-1313138448651871637.args[0]\"]\n\t-7737040241287546841 [label=100 id=-5945887149520679823]\n\t-5697007707504983312 -> -7013849389704253342 [id=\"-5882035132617130320.args[1]\"]\n\t-7013849389704253342 [label=\"NDArrayCompat.from_ndarray\" id=85294802253499659]\n\t-7013849389704253342 -> 1236464281425515729 [id=\"85294802253499659.args[0]\"]\n\t1236464281425515729 [label=\"Abstraction.__call__\" id=1129541538386884364]\n\t1236464281425515729 -> -8575755116559007356 [id=\"1129541538386884364.args[0]\"]\n\t-8575755116559007356 [label=\"Abstraction.__add__\" id=-8575755116559007356]\n\t-8575755116559007356 -> -6048131664248139973 [id=\"-8575755116559007356.args[0]\"]\n\t-6048131664248139973 [label=\"Abstraction.create\" id=-6048131664248139973]\n\t-6048131664248139973 -> -8524737889970717860 [id=\"-6048131664248139973.args[0]\"]\n\t-8524737889970717860 [label=\"Abstraction.create_variable\" id=-8524737889970717860]\n\t-8524737889970717860 -> 4954432112593555649 [id=\"-8524737889970717860.args[0]\"]\n\t4954432112593555649 [label=\"Variable(4762969032)\" id=4954432112593555649]\n\t-6048131664248139973 -> -2344483244357926298 [id=\"-6048131664248139973.args[1]\"]\n\t-2344483244357926298 [label=\"Maybe.just\" id=-2344483244357926298]\n\t-2344483244357926298 -> -8524737889970717860 [id=\"-2344483244357926298.args[0]\"]\n\t-8575755116559007356 -> -4643297354090513087 [id=\"-8575755116559007356.args[1]\"]\n\t1236464281425515729 -> -1313138448651871637 [id=\"1129541538386884364.args[1]\"]\n\t2987543410002963815 -> 2255424246898842649 [id=\"-2745558395708079455.args[1]\"]\n\t2255424246898842649 [label=\"Maybe.__or__\" id=-4179875107795948895]\n\t2255424246898842649 -> -8086475550023667075 [id=\"-4179875107795948895.args[0]\"]\n\t-8086475550023667075 [label=\"Abstraction.__call__\" id=5626037285224763133]\n\t-8086475550023667075 -> -2676261573324356569 [id=\"5626037285224763133.args[0]\"]\n\t-2676261573324356569 [label=\"Abstraction.__add__\" id=-6233320591470718265]\n\t-2676261573324356569 -> 6161012702387631447 [id=\"-6233320591470718265.args[0]\"]\n\t6161012702387631447 [label=\"Abstraction.create\" id=2013462788875869881]\n\t6161012702387631447 -> 2436712640837770830 [id=\"2013462788875869881.args[0]\"]\n\t2436712640837770830 [label=\"Abstraction.create_variable\" id=2436712640837770830]\n\t2436712640837770830 -> 4954432163994007699 [id=\"2436712640837770830.args[0]\"]\n\t4954432163994007699 [label=\"Variable(4763585448)\" id=4954432163994007699]\n\t6161012702387631447 -> -156776053854657493 [id=\"2013462788875869881.args[1]\"]\n\t-156776053854657493 [label=\"Maybe.just\" id=-156776053854657493]\n\t-156776053854657493 -> 2436712640837770830 [id=\"-156776053854657493.args[0]\"]\n\t-2676261573324356569 -> -3632599159356222693 [id=\"-6233320591470718265.args[1]\"]\n\t-3632599159356222693 [label=\"Abstraction.create\" id=-3632599159356222693]\n\t-3632599159356222693 -> -4838891889665744714 [id=\"-3632599159356222693.args[0]\"]\n\t-4838891889665744714 [label=\"Abstraction.create_variable\" id=-4838891889665744714]\n\t-4838891889665744714 -> 4954432145743718724 [id=\"-4838891889665744714.args[0]\"]\n\t4954432145743718724 [label=\"Variable(4763330040)\" id=4954432145743718724]\n\t-3632599159356222693 -> -5428197908604838827 [id=\"-3632599159356222693.args[1]\"]\n\t-5428197908604838827 [label=\"Either.left\" id=-5428197908604838827]\n\t-5428197908604838827 -> -4838891889665744714 [id=\"-5428197908604838827.args[0]\"]\n\t-8086475550023667075 -> 2507768681348984026 [id=\"5626037285224763133.args[1]\"]\n\t2507768681348984026 [label=\"Integer.from_int\" id=2507768681348984026]\n\t2507768681348984026 -> -7737040241182541916 [id=\"2507768681348984026.args[0]\"]\n\t-7737040241182541916 [label=5 id=-3794084279707917178]\n\t2255424246898842649 -> -4184050986479448354 [id=\"-4179875107795948895.args[1]\"]\n\t-4184050986479448354 [label=\"Maybe.match\" id=-686259872675126378]\n\t-4184050986479448354 -> -7726250483385592724 [id=\"-686259872675126378.args[0]\"]\n\t-7726250483385592724 [label=\"Converter.convert\" id=-7726250483385592724]\n\t-7726250483385592724 -> -7737040241182541916 [id=\"-7726250483385592724.args[0]\"]\n\t-4184050986479448354 -> 542625740483342888 [id=\"-686259872675126378.args[1]\"]\n\t542625740483342888 [label=\"Maybe.nothing\" id=542625740483342888]\n\t-4184050986479448354 -> -8746636000305035507 [id=\"-686259872675126378.args[2]\"]\n\t-8746636000305035507 [label=\"Abstraction.create\" id=-3933652525115683988]\n\t-8746636000305035507 -> -3343294864562084740 [id=\"-3933652525115683988.args[0]\"]\n\t-3343294864562084740 [label=\"Abstraction.create_variable\" id=-3343294864562084740]\n\t-3343294864562084740 -> 4954432134779905524 [id=\"-3343294864562084740.args[0]\"]\n\t4954432134779905524 [label=\"Variable(4763172088)\" id=4954432134779905524]\n\t-8746636000305035507 -> -1924374774179630987 [id=\"-3933652525115683988.args[1]\"]\n\t-1924374774179630987 [label=\"Maybe.just\" id=-1924374774179630987]\n\t-1924374774179630987 -> -5480872129034902157 [id=\"-1924374774179630987.args[0]\"]\n\t-5480872129034902157 [label=\"Either.right\" id=-5480872129034902157]\n\t-5480872129034902157 -> -3343294864562084740 [id=\"-5480872129034902157.args[0]\"]\n\t2341006719661882768 -> 9032834383112645395 [id=\"6939635006650947043.args[1]\"]\n\t9032834383112645395 [label=\"Maybe.nothing\" id=9032834383112645395]\n\t2341006719661882768 -> -1475646575536360333 [id=\"6939635006650947043.args[2]\"]\n\t-1475646575536360333 [label=\"Abstraction.create\" id=-1475646575536360333]\n\t-1475646575536360333 -> -4167769655553708545 [id=\"-1475646575536360333.args[0]\"]\n\t-4167769655553708545 [label=\"Abstraction.create_variable\" id=-4167769655553708545]\n\t-4167769655553708545 -> -4268939921069936459 [id=\"-4167769655553708545.args[0]\"]\n\t-4268939921069936459 [label=\"Variable(4763018240)\" id=-4268939921069936459]\n\t-1475646575536360333 -> -91834066106135924 [id=\"-1475646575536360333.args[1]\"]\n\t-91834066106135924 [label=\"Maybe.just\" id=-91834066106135924]\n\t-91834066106135924 -> -8285762096060248770 [id=\"-91834066106135924.args[0]\"]\n\t-8285762096060248770 [label=\"NDArray.__getitem__\" id=-8285762096060248770]\n\t-8285762096060248770 -> -1612977471603230740 [id=\"-8285762096060248770.args[0]\"]\n\t-1612977471603230740 [label=\"Pair.left\" id=-1612977471603230740]\n\t-1612977471603230740 -> -4167769655553708545 [id=\"-1612977471603230740.args[0]\"]\n\t-8285762096060248770 -> -6366347408110540668 [id=\"-8285762096060248770.args[1]\"]\n\t-6366347408110540668 [label=\"Pair.right\" id=-6366347408110540668]\n\t-6366347408110540668 -> -4167769655553708545 [id=\"-6366347408110540668.args[0]\"]\n}",
         "label": null,
         "rule": "metadsl_core.abstraction.compose"
        },
        {
         "graph": "digraph {\n\tnode [shape=plain]\n\tedge [arrowsize=0.5 penwidth=0.5]\n\t-3024880416446209613 [label=\"NDArrayCompat.to_ndarray\" id=-1341672716970475800]\n\t-3024880416446209613 -> -833506588770071300 [id=\"-1341672716970475800.args[0]\"]\n\t-833506588770071300 [label=\"NDArrayCompat.from_ndarray\" id=-4772016795270189587]\n\t-833506588770071300 -> 4032433164182900302 [id=\"-4772016795270189587.args[0]\"]\n\t4032433164182900302 [label=\"Maybe.match\" id=6939635006650947043]\n\t4032433164182900302 -> -7130198749653235479 [id=\"6939635006650947043.args[0]\"]\n\t-7130198749653235479 [label=\"Maybe.__and__\" id=-2745558395708079455]\n\t-7130198749653235479 -> -4161268223004706061 [id=\"-2745558395708079455.args[0]\"]\n\t-4161268223004706061 [label=\"Converter.convert\" id=-1749051929928717773]\n\t-4161268223004706061 -> -5697007707504983312 [id=\"-1749051929928717773.args[0]\"]\n\t-5697007707504983312 [label=\"NDArrayCompat.__add__\" id=-5882035132617130320]\n\t-5697007707504983312 -> 9133257758617415926 [id=\"-5882035132617130320.args[0]\"]\n\t9133257758617415926 [label=\"NDArrayCompat.from_ndarray\" id=-8766707318650306503]\n\t9133257758617415926 -> -8700729886857831056 [id=\"-8766707318650306503.args[0]\"]\n\t-8700729886857831056 [label=\"Abstraction.__call__\" id=-6175040583256772104]\n\t-8700729886857831056 -> 7300742739247956141 [id=\"-6175040583256772104.args[0]\"]\n\t7300742739247956141 [label=\"Abstraction.__add__\" id=-2757863483019960227]\n\t7300742739247956141 -> 399900191559359392 [id=\"-2757863483019960227.args[0]\"]\n\t399900191559359392 [label=\"Abstraction.create\" id=-1894269937027086384]\n\t399900191559359392 -> 8509920805002676409 [id=\"-1894269937027086384.args[0]\"]\n\t8509920805002676409 [label=\"Abstraction.create_variable\" id=8509920805002676409]\n\t8509920805002676409 -> 4954432153931937824 [id=\"8509920805002676409.args[0]\"]\n\t4954432153931937824 [label=\"Variable(4763438776)\" id=4954432153931937824]\n\t399900191559359392 -> 1800425219063787799 [id=\"-1894269937027086384.args[1]\"]\n\t1800425219063787799 [label=\"Maybe.just\" id=1800425219063787799]\n\t1800425219063787799 -> 8509920805002676409 [id=\"1800425219063787799.args[0]\"]\n\t7300742739247956141 -> -4643297354090513087 [id=\"-2757863483019960227.args[1]\"]\n\t-4643297354090513087 [label=\"Abstraction.create\" id=-4643297354090513087]\n\t-4643297354090513087 -> 5534931599655894334 [id=\"-4643297354090513087.args[0]\"]\n\t5534931599655894334 [label=\"Abstraction.create_variable\" id=5534931599655894334]\n\t5534931599655894334 -> 4954432122860222749 [id=\"5534931599655894334.args[0]\"]\n\t4954432122860222749 [label=\"Variable(4763110536)\" id=4954432122860222749]\n\t-4643297354090513087 -> -3508081724970013213 [id=\"-4643297354090513087.args[1]\"]\n\t-3508081724970013213 [label=arange_ id=-3508081724970013213]\n\t-3508081724970013213 -> 5534931599655894334 [id=\"-3508081724970013213.args[0]\"]\n\t-8700729886857831056 -> -1313138448651871637 [id=\"-6175040583256772104.args[1]\"]\n\t-1313138448651871637 [label=\"Integer.from_int\" id=-1313138448651871637]\n\t-1313138448651871637 -> -7737040241287546841 [id=\"-1313138448651871637.args[0]\"]\n\t-7737040241287546841 [label=100 id=-5945887149520679823]\n\t-5697007707504983312 -> -7013849389704253342 [id=\"-5882035132617130320.args[1]\"]\n\t-7013849389704253342 [label=\"NDArrayCompat.from_ndarray\" id=85294802253499659]\n\t-7013849389704253342 -> 1236464281425515729 [id=\"85294802253499659.args[0]\"]\n\t1236464281425515729 [label=\"Abstraction.__call__\" id=1129541538386884364]\n\t1236464281425515729 -> -8575755116559007356 [id=\"1129541538386884364.args[0]\"]\n\t-8575755116559007356 [label=\"Abstraction.__add__\" id=-8575755116559007356]\n\t-8575755116559007356 -> -6048131664248139973 [id=\"-8575755116559007356.args[0]\"]\n\t-6048131664248139973 [label=\"Abstraction.create\" id=-6048131664248139973]\n\t-6048131664248139973 -> -8524737889970717860 [id=\"-6048131664248139973.args[0]\"]\n\t-8524737889970717860 [label=\"Abstraction.create_variable\" id=-8524737889970717860]\n\t-8524737889970717860 -> 4954432112593555649 [id=\"-8524737889970717860.args[0]\"]\n\t4954432112593555649 [label=\"Variable(4762969032)\" id=4954432112593555649]\n\t-6048131664248139973 -> -2344483244357926298 [id=\"-6048131664248139973.args[1]\"]\n\t-2344483244357926298 [label=\"Maybe.just\" id=-2344483244357926298]\n\t-2344483244357926298 -> -8524737889970717860 [id=\"-2344483244357926298.args[0]\"]\n\t-8575755116559007356 -> -4643297354090513087 [id=\"-8575755116559007356.args[1]\"]\n\t1236464281425515729 -> -1313138448651871637 [id=\"1129541538386884364.args[1]\"]\n\t-7130198749653235479 -> 887510114276199111 [id=\"-2745558395708079455.args[1]\"]\n\t887510114276199111 [label=\"Maybe.__or__\" id=-4179875107795948895]\n\t887510114276199111 -> -5245592682600195630 [id=\"-4179875107795948895.args[0]\"]\n\t-5245592682600195630 [label=\"Abstraction.__call__\" id=5626037285224763133]\n\t-5245592682600195630 -> -2100882838647274091 [id=\"5626037285224763133.args[0]\"]\n\t-2100882838647274091 [label=\"Abstraction.create\" id=-6233320591470718265]\n\t-2100882838647274091 -> -4838891889665744714 [id=\"-6233320591470718265.args[0]\"]\n\t-4838891889665744714 [label=\"Abstraction.create_variable\" id=-4838891889665744714]\n\t-4838891889665744714 -> 4954432145743718724 [id=\"-4838891889665744714.args[0]\"]\n\t4954432145743718724 [label=\"Variable(4763330040)\" id=4954432145743718724]\n\t-2100882838647274091 -> 2768963656221963327 [id=\"-6233320591470718265.args[1]\"]\n\t2768963656221963327 [label=\"Maybe.just\" id=2768963656221963327]\n\t2768963656221963327 -> -5428197908604838827 [id=\"2768963656221963327.args[0]\"]\n\t-5428197908604838827 [label=\"Either.left\" id=-5428197908604838827]\n\t-5428197908604838827 -> -4838891889665744714 [id=\"-5428197908604838827.args[0]\"]\n\t-5245592682600195630 -> 2507768681348984026 [id=\"5626037285224763133.args[1]\"]\n\t2507768681348984026 [label=\"Integer.from_int\" id=2507768681348984026]\n\t2507768681348984026 -> -7737040241182541916 [id=\"2507768681348984026.args[0]\"]\n\t-7737040241182541916 [label=5 id=-3794084279707917178]\n\t887510114276199111 -> -4184050986479448354 [id=\"-4179875107795948895.args[1]\"]\n\t-4184050986479448354 [label=\"Maybe.match\" id=-686259872675126378]\n\t-4184050986479448354 -> -7726250483385592724 [id=\"-686259872675126378.args[0]\"]\n\t-7726250483385592724 [label=\"Converter.convert\" id=-7726250483385592724]\n\t-7726250483385592724 -> -7737040241182541916 [id=\"-7726250483385592724.args[0]\"]\n\t-4184050986479448354 -> 542625740483342888 [id=\"-686259872675126378.args[1]\"]\n\t542625740483342888 [label=\"Maybe.nothing\" id=542625740483342888]\n\t-4184050986479448354 -> -8746636000305035507 [id=\"-686259872675126378.args[2]\"]\n\t-8746636000305035507 [label=\"Abstraction.create\" id=-3933652525115683988]\n\t-8746636000305035507 -> -3343294864562084740 [id=\"-3933652525115683988.args[0]\"]\n\t-3343294864562084740 [label=\"Abstraction.create_variable\" id=-3343294864562084740]\n\t-3343294864562084740 -> 4954432134779905524 [id=\"-3343294864562084740.args[0]\"]\n\t4954432134779905524 [label=\"Variable(4763172088)\" id=4954432134779905524]\n\t-8746636000305035507 -> -1924374774179630987 [id=\"-3933652525115683988.args[1]\"]\n\t-1924374774179630987 [label=\"Maybe.just\" id=-1924374774179630987]\n\t-1924374774179630987 -> -5480872129034902157 [id=\"-1924374774179630987.args[0]\"]\n\t-5480872129034902157 [label=\"Either.right\" id=-5480872129034902157]\n\t-5480872129034902157 -> -3343294864562084740 [id=\"-5480872129034902157.args[0]\"]\n\t4032433164182900302 -> 9032834383112645395 [id=\"6939635006650947043.args[1]\"]\n\t9032834383112645395 [label=\"Maybe.nothing\" id=9032834383112645395]\n\t4032433164182900302 -> -1475646575536360333 [id=\"6939635006650947043.args[2]\"]\n\t-1475646575536360333 [label=\"Abstraction.create\" id=-1475646575536360333]\n\t-1475646575536360333 -> -4167769655553708545 [id=\"-1475646575536360333.args[0]\"]\n\t-4167769655553708545 [label=\"Abstraction.create_variable\" id=-4167769655553708545]\n\t-4167769655553708545 -> -4268939921069936459 [id=\"-4167769655553708545.args[0]\"]\n\t-4268939921069936459 [label=\"Variable(4763018240)\" id=-4268939921069936459]\n\t-1475646575536360333 -> -91834066106135924 [id=\"-1475646575536360333.args[1]\"]\n\t-91834066106135924 [label=\"Maybe.just\" id=-91834066106135924]\n\t-91834066106135924 -> -8285762096060248770 [id=\"-91834066106135924.args[0]\"]\n\t-8285762096060248770 [label=\"NDArray.__getitem__\" id=-8285762096060248770]\n\t-8285762096060248770 -> -1612977471603230740 [id=\"-8285762096060248770.args[0]\"]\n\t-1612977471603230740 [label=\"Pair.left\" id=-1612977471603230740]\n\t-1612977471603230740 -> -4167769655553708545 [id=\"-1612977471603230740.args[0]\"]\n\t-8285762096060248770 -> -6366347408110540668 [id=\"-8285762096060248770.args[1]\"]\n\t-6366347408110540668 [label=\"Pair.right\" id=-6366347408110540668]\n\t-6366347408110540668 -> -4167769655553708545 [id=\"-6366347408110540668.args[0]\"]\n}",
         "label": null,
         "rule": "metadsl_core.abstraction.compose"
        },
        {
         "graph": "digraph {\n\tnode [shape=plain]\n\tedge [arrowsize=0.5 penwidth=0.5]\n\t566977397139040001 [label=\"NDArrayCompat.to_ndarray\" id=-1341672716970475800]\n\t566977397139040001 -> -5770802273742654456 [id=\"-1341672716970475800.args[0]\"]\n\t-5770802273742654456 [label=\"NDArrayCompat.from_ndarray\" id=-4772016795270189587]\n\t-5770802273742654456 -> -149164474730248205 [id=\"-4772016795270189587.args[0]\"]\n\t-149164474730248205 [label=\"Maybe.match\" id=6939635006650947043]\n\t-149164474730248205 -> 5312736265270673507 [id=\"6939635006650947043.args[0]\"]\n\t5312736265270673507 [label=\"Maybe.__and__\" id=-2745558395708079455]\n\t5312736265270673507 -> -4161268223004706061 [id=\"-2745558395708079455.args[0]\"]\n\t-4161268223004706061 [label=\"Converter.convert\" id=-1749051929928717773]\n\t-4161268223004706061 -> -5697007707504983312 [id=\"-1749051929928717773.args[0]\"]\n\t-5697007707504983312 [label=\"NDArrayCompat.__add__\" id=-5882035132617130320]\n\t-5697007707504983312 -> 9133257758617415926 [id=\"-5882035132617130320.args[0]\"]\n\t9133257758617415926 [label=\"NDArrayCompat.from_ndarray\" id=-8766707318650306503]\n\t9133257758617415926 -> -8700729886857831056 [id=\"-8766707318650306503.args[0]\"]\n\t-8700729886857831056 [label=\"Abstraction.__call__\" id=-6175040583256772104]\n\t-8700729886857831056 -> 7300742739247956141 [id=\"-6175040583256772104.args[0]\"]\n\t7300742739247956141 [label=\"Abstraction.__add__\" id=-2757863483019960227]\n\t7300742739247956141 -> 399900191559359392 [id=\"-2757863483019960227.args[0]\"]\n\t399900191559359392 [label=\"Abstraction.create\" id=-1894269937027086384]\n\t399900191559359392 -> 8509920805002676409 [id=\"-1894269937027086384.args[0]\"]\n\t8509920805002676409 [label=\"Abstraction.create_variable\" id=8509920805002676409]\n\t8509920805002676409 -> 4954432153931937824 [id=\"8509920805002676409.args[0]\"]\n\t4954432153931937824 [label=\"Variable(4763438776)\" id=4954432153931937824]\n\t399900191559359392 -> 1800425219063787799 [id=\"-1894269937027086384.args[1]\"]\n\t1800425219063787799 [label=\"Maybe.just\" id=1800425219063787799]\n\t1800425219063787799 -> 8509920805002676409 [id=\"1800425219063787799.args[0]\"]\n\t7300742739247956141 -> -4643297354090513087 [id=\"-2757863483019960227.args[1]\"]\n\t-4643297354090513087 [label=\"Abstraction.create\" id=-4643297354090513087]\n\t-4643297354090513087 -> 5534931599655894334 [id=\"-4643297354090513087.args[0]\"]\n\t5534931599655894334 [label=\"Abstraction.create_variable\" id=5534931599655894334]\n\t5534931599655894334 -> 4954432122860222749 [id=\"5534931599655894334.args[0]\"]\n\t4954432122860222749 [label=\"Variable(4763110536)\" id=4954432122860222749]\n\t-4643297354090513087 -> -3508081724970013213 [id=\"-4643297354090513087.args[1]\"]\n\t-3508081724970013213 [label=arange_ id=-3508081724970013213]\n\t-3508081724970013213 -> 5534931599655894334 [id=\"-3508081724970013213.args[0]\"]\n\t-8700729886857831056 -> -1313138448651871637 [id=\"-6175040583256772104.args[1]\"]\n\t-1313138448651871637 [label=\"Integer.from_int\" id=-1313138448651871637]\n\t-1313138448651871637 -> -7737040241287546841 [id=\"-1313138448651871637.args[0]\"]\n\t-7737040241287546841 [label=100 id=-5945887149520679823]\n\t-5697007707504983312 -> -7013849389704253342 [id=\"-5882035132617130320.args[1]\"]\n\t-7013849389704253342 [label=\"NDArrayCompat.from_ndarray\" id=85294802253499659]\n\t-7013849389704253342 -> 1236464281425515729 [id=\"85294802253499659.args[0]\"]\n\t1236464281425515729 [label=\"Abstraction.__call__\" id=1129541538386884364]\n\t1236464281425515729 -> -8575755116559007356 [id=\"1129541538386884364.args[0]\"]\n\t-8575755116559007356 [label=\"Abstraction.__add__\" id=-8575755116559007356]\n\t-8575755116559007356 -> -6048131664248139973 [id=\"-8575755116559007356.args[0]\"]\n\t-6048131664248139973 [label=\"Abstraction.create\" id=-6048131664248139973]\n\t-6048131664248139973 -> -8524737889970717860 [id=\"-6048131664248139973.args[0]\"]\n\t-8524737889970717860 [label=\"Abstraction.create_variable\" id=-8524737889970717860]\n\t-8524737889970717860 -> 4954432112593555649 [id=\"-8524737889970717860.args[0]\"]\n\t4954432112593555649 [label=\"Variable(4762969032)\" id=4954432112593555649]\n\t-6048131664248139973 -> -2344483244357926298 [id=\"-6048131664248139973.args[1]\"]\n\t-2344483244357926298 [label=\"Maybe.just\" id=-2344483244357926298]\n\t-2344483244357926298 -> -8524737889970717860 [id=\"-2344483244357926298.args[0]\"]\n\t-8575755116559007356 -> -4643297354090513087 [id=\"-8575755116559007356.args[1]\"]\n\t1236464281425515729 -> -1313138448651871637 [id=\"1129541538386884364.args[1]\"]\n\t5312736265270673507 -> -31330893029341675 [id=\"-2745558395708079455.args[1]\"]\n\t-31330893029341675 [label=\"Maybe.__or__\" id=-4179875107795948895]\n\t-31330893029341675 -> -2879884706675895873 [id=\"-4179875107795948895.args[0]\"]\n\t-2879884706675895873 [label=\"Maybe.just\" id=5626037285224763133]\n\t-2879884706675895873 -> -8215238012704140842 [id=\"5626037285224763133.args[0]\"]\n\t-8215238012704140842 [label=\"Either.left\" id=-8215238012704140842]\n\t-8215238012704140842 -> 2507768681348984026 [id=\"-8215238012704140842.args[0]\"]\n\t2507768681348984026 [label=\"Integer.from_int\" id=2507768681348984026]\n\t2507768681348984026 -> -7737040241182541916 [id=\"2507768681348984026.args[0]\"]\n\t-7737040241182541916 [label=5 id=-3794084279707917178]\n\t-31330893029341675 -> -4184050986479448354 [id=\"-4179875107795948895.args[1]\"]\n\t-4184050986479448354 [label=\"Maybe.match\" id=-686259872675126378]\n\t-4184050986479448354 -> -7726250483385592724 [id=\"-686259872675126378.args[0]\"]\n\t-7726250483385592724 [label=\"Converter.convert\" id=-7726250483385592724]\n\t-7726250483385592724 -> -7737040241182541916 [id=\"-7726250483385592724.args[0]\"]\n\t-4184050986479448354 -> 542625740483342888 [id=\"-686259872675126378.args[1]\"]\n\t542625740483342888 [label=\"Maybe.nothing\" id=542625740483342888]\n\t-4184050986479448354 -> -8746636000305035507 [id=\"-686259872675126378.args[2]\"]\n\t-8746636000305035507 [label=\"Abstraction.create\" id=-3933652525115683988]\n\t-8746636000305035507 -> -3343294864562084740 [id=\"-3933652525115683988.args[0]\"]\n\t-3343294864562084740 [label=\"Abstraction.create_variable\" id=-3343294864562084740]\n\t-3343294864562084740 -> 4954432134779905524 [id=\"-3343294864562084740.args[0]\"]\n\t4954432134779905524 [label=\"Variable(4763172088)\" id=4954432134779905524]\n\t-8746636000305035507 -> -1924374774179630987 [id=\"-3933652525115683988.args[1]\"]\n\t-1924374774179630987 [label=\"Maybe.just\" id=-1924374774179630987]\n\t-1924374774179630987 -> -5480872129034902157 [id=\"-1924374774179630987.args[0]\"]\n\t-5480872129034902157 [label=\"Either.right\" id=-5480872129034902157]\n\t-5480872129034902157 -> -3343294864562084740 [id=\"-5480872129034902157.args[0]\"]\n\t-149164474730248205 -> 9032834383112645395 [id=\"6939635006650947043.args[1]\"]\n\t9032834383112645395 [label=\"Maybe.nothing\" id=9032834383112645395]\n\t-149164474730248205 -> -1475646575536360333 [id=\"6939635006650947043.args[2]\"]\n\t-1475646575536360333 [label=\"Abstraction.create\" id=-1475646575536360333]\n\t-1475646575536360333 -> -4167769655553708545 [id=\"-1475646575536360333.args[0]\"]\n\t-4167769655553708545 [label=\"Abstraction.create_variable\" id=-4167769655553708545]\n\t-4167769655553708545 -> -4268939921069936459 [id=\"-4167769655553708545.args[0]\"]\n\t-4268939921069936459 [label=\"Variable(4763018240)\" id=-4268939921069936459]\n\t-1475646575536360333 -> -91834066106135924 [id=\"-1475646575536360333.args[1]\"]\n\t-91834066106135924 [label=\"Maybe.just\" id=-91834066106135924]\n\t-91834066106135924 -> -8285762096060248770 [id=\"-91834066106135924.args[0]\"]\n\t-8285762096060248770 [label=\"NDArray.__getitem__\" id=-8285762096060248770]\n\t-8285762096060248770 -> -1612977471603230740 [id=\"-8285762096060248770.args[0]\"]\n\t-1612977471603230740 [label=\"Pair.left\" id=-1612977471603230740]\n\t-1612977471603230740 -> -4167769655553708545 [id=\"-1612977471603230740.args[0]\"]\n\t-8285762096060248770 -> -6366347408110540668 [id=\"-8285762096060248770.args[1]\"]\n\t-6366347408110540668 [label=\"Pair.right\" id=-6366347408110540668]\n\t-6366347408110540668 -> -4167769655553708545 [id=\"-6366347408110540668.args[0]\"]\n}",
         "label": null,
         "rule": "metadsl_core.abstraction.beta_reduce"
        },
        {
         "graph": "digraph {\n\tnode [shape=plain]\n\tedge [arrowsize=0.5 penwidth=0.5]\n\t8861366420831212813 [label=\"NDArrayCompat.to_ndarray\" id=-1341672716970475800]\n\t8861366420831212813 -> 279804334003939930 [id=\"-1341672716970475800.args[0]\"]\n\t279804334003939930 [label=\"NDArrayCompat.from_ndarray\" id=-4772016795270189587]\n\t279804334003939930 -> -4481768432007567430 [id=\"-4772016795270189587.args[0]\"]\n\t-4481768432007567430 [label=\"Maybe.match\" id=6939635006650947043]\n\t-4481768432007567430 -> -7615697552685954483 [id=\"6939635006650947043.args[0]\"]\n\t-7615697552685954483 [label=\"Maybe.__and__\" id=-2745558395708079455]\n\t-7615697552685954483 -> -4161268223004706061 [id=\"-2745558395708079455.args[0]\"]\n\t-4161268223004706061 [label=\"Converter.convert\" id=-1749051929928717773]\n\t-4161268223004706061 -> -5697007707504983312 [id=\"-1749051929928717773.args[0]\"]\n\t-5697007707504983312 [label=\"NDArrayCompat.__add__\" id=-5882035132617130320]\n\t-5697007707504983312 -> 9133257758617415926 [id=\"-5882035132617130320.args[0]\"]\n\t9133257758617415926 [label=\"NDArrayCompat.from_ndarray\" id=-8766707318650306503]\n\t9133257758617415926 -> -8700729886857831056 [id=\"-8766707318650306503.args[0]\"]\n\t-8700729886857831056 [label=\"Abstraction.__call__\" id=-6175040583256772104]\n\t-8700729886857831056 -> 7300742739247956141 [id=\"-6175040583256772104.args[0]\"]\n\t7300742739247956141 [label=\"Abstraction.__add__\" id=-2757863483019960227]\n\t7300742739247956141 -> 399900191559359392 [id=\"-2757863483019960227.args[0]\"]\n\t399900191559359392 [label=\"Abstraction.create\" id=-1894269937027086384]\n\t399900191559359392 -> 8509920805002676409 [id=\"-1894269937027086384.args[0]\"]\n\t8509920805002676409 [label=\"Abstraction.create_variable\" id=8509920805002676409]\n\t8509920805002676409 -> 4954432153931937824 [id=\"8509920805002676409.args[0]\"]\n\t4954432153931937824 [label=\"Variable(4763438776)\" id=4954432153931937824]\n\t399900191559359392 -> 1800425219063787799 [id=\"-1894269937027086384.args[1]\"]\n\t1800425219063787799 [label=\"Maybe.just\" id=1800425219063787799]\n\t1800425219063787799 -> 8509920805002676409 [id=\"1800425219063787799.args[0]\"]\n\t7300742739247956141 -> -4643297354090513087 [id=\"-2757863483019960227.args[1]\"]\n\t-4643297354090513087 [label=\"Abstraction.create\" id=-4643297354090513087]\n\t-4643297354090513087 -> 5534931599655894334 [id=\"-4643297354090513087.args[0]\"]\n\t5534931599655894334 [label=\"Abstraction.create_variable\" id=5534931599655894334]\n\t5534931599655894334 -> 4954432122860222749 [id=\"5534931599655894334.args[0]\"]\n\t4954432122860222749 [label=\"Variable(4763110536)\" id=4954432122860222749]\n\t-4643297354090513087 -> -3508081724970013213 [id=\"-4643297354090513087.args[1]\"]\n\t-3508081724970013213 [label=arange_ id=-3508081724970013213]\n\t-3508081724970013213 -> 5534931599655894334 [id=\"-3508081724970013213.args[0]\"]\n\t-8700729886857831056 -> -1313138448651871637 [id=\"-6175040583256772104.args[1]\"]\n\t-1313138448651871637 [label=\"Integer.from_int\" id=-1313138448651871637]\n\t-1313138448651871637 -> -7737040241287546841 [id=\"-1313138448651871637.args[0]\"]\n\t-7737040241287546841 [label=100 id=-5945887149520679823]\n\t-5697007707504983312 -> -7013849389704253342 [id=\"-5882035132617130320.args[1]\"]\n\t-7013849389704253342 [label=\"NDArrayCompat.from_ndarray\" id=85294802253499659]\n\t-7013849389704253342 -> 1236464281425515729 [id=\"85294802253499659.args[0]\"]\n\t1236464281425515729 [label=\"Abstraction.__call__\" id=1129541538386884364]\n\t1236464281425515729 -> -8575755116559007356 [id=\"1129541538386884364.args[0]\"]\n\t-8575755116559007356 [label=\"Abstraction.__add__\" id=-8575755116559007356]\n\t-8575755116559007356 -> -6048131664248139973 [id=\"-8575755116559007356.args[0]\"]\n\t-6048131664248139973 [label=\"Abstraction.create\" id=-6048131664248139973]\n\t-6048131664248139973 -> -8524737889970717860 [id=\"-6048131664248139973.args[0]\"]\n\t-8524737889970717860 [label=\"Abstraction.create_variable\" id=-8524737889970717860]\n\t-8524737889970717860 -> 4954432112593555649 [id=\"-8524737889970717860.args[0]\"]\n\t4954432112593555649 [label=\"Variable(4762969032)\" id=4954432112593555649]\n\t-6048131664248139973 -> -2344483244357926298 [id=\"-6048131664248139973.args[1]\"]\n\t-2344483244357926298 [label=\"Maybe.just\" id=-2344483244357926298]\n\t-2344483244357926298 -> -8524737889970717860 [id=\"-2344483244357926298.args[0]\"]\n\t-8575755116559007356 -> -4643297354090513087 [id=\"-8575755116559007356.args[1]\"]\n\t1236464281425515729 -> -1313138448651871637 [id=\"1129541538386884364.args[1]\"]\n\t-7615697552685954483 -> -189545260843302981 [id=\"-2745558395708079455.args[1]\"]\n\t-189545260843302981 [label=\"Maybe.just\" id=-4179875107795948895]\n\t-189545260843302981 -> -8215238012704140842 [id=\"-4179875107795948895.args[0]\"]\n\t-8215238012704140842 [label=\"Either.left\" id=-8215238012704140842]\n\t-8215238012704140842 -> 2507768681348984026 [id=\"-8215238012704140842.args[0]\"]\n\t2507768681348984026 [label=\"Integer.from_int\" id=2507768681348984026]\n\t2507768681348984026 -> -7737040241182541916 [id=\"2507768681348984026.args[0]\"]\n\t-7737040241182541916 [label=5 id=-3794084279707917178]\n\t-4481768432007567430 -> 9032834383112645395 [id=\"6939635006650947043.args[1]\"]\n\t9032834383112645395 [label=\"Maybe.nothing\" id=9032834383112645395]\n\t-4481768432007567430 -> -1475646575536360333 [id=\"6939635006650947043.args[2]\"]\n\t-1475646575536360333 [label=\"Abstraction.create\" id=-1475646575536360333]\n\t-1475646575536360333 -> -4167769655553708545 [id=\"-1475646575536360333.args[0]\"]\n\t-4167769655553708545 [label=\"Abstraction.create_variable\" id=-4167769655553708545]\n\t-4167769655553708545 -> -4268939921069936459 [id=\"-4167769655553708545.args[0]\"]\n\t-4268939921069936459 [label=\"Variable(4763018240)\" id=-4268939921069936459]\n\t-1475646575536360333 -> -91834066106135924 [id=\"-1475646575536360333.args[1]\"]\n\t-91834066106135924 [label=\"Maybe.just\" id=-91834066106135924]\n\t-91834066106135924 -> -8285762096060248770 [id=\"-91834066106135924.args[0]\"]\n\t-8285762096060248770 [label=\"NDArray.__getitem__\" id=-8285762096060248770]\n\t-8285762096060248770 -> -1612977471603230740 [id=\"-8285762096060248770.args[0]\"]\n\t-1612977471603230740 [label=\"Pair.left\" id=-1612977471603230740]\n\t-1612977471603230740 -> -4167769655553708545 [id=\"-1612977471603230740.args[0]\"]\n\t-8285762096060248770 -> -6366347408110540668 [id=\"-8285762096060248770.args[1]\"]\n\t-6366347408110540668 [label=\"Pair.right\" id=-6366347408110540668]\n\t-6366347408110540668 -> -4167769655553708545 [id=\"-6366347408110540668.args[0]\"]\n}",
         "label": null,
         "rule": "metadsl_core.maybe.maybe_or"
        },
        {
         "graph": "digraph {\n\tnode [shape=plain]\n\tedge [arrowsize=0.5 penwidth=0.5]\n\t5572985368883877492 [label=\"NDArrayCompat.to_ndarray\" id=-1341672716970475800]\n\t5572985368883877492 -> 7140113890193738188 [id=\"-1341672716970475800.args[0]\"]\n\t7140113890193738188 [label=\"NDArrayCompat.from_ndarray\" id=-4772016795270189587]\n\t7140113890193738188 -> -4770996305368769695 [id=\"-4772016795270189587.args[0]\"]\n\t-4770996305368769695 [label=\"Maybe.match\" id=6939635006650947043]\n\t-4770996305368769695 -> -5669141933493320923 [id=\"6939635006650947043.args[0]\"]\n\t-5669141933493320923 [label=\"Maybe.__and__\" id=-2745558395708079455]\n\t-5669141933493320923 -> -1856686504879412950 [id=\"-2745558395708079455.args[0]\"]\n\t-1856686504879412950 [label=\"Converter.convert\" id=-1749051929928717773]\n\t-1856686504879412950 -> 1169847192571894291 [id=\"-1749051929928717773.args[0]\"]\n\t1169847192571894291 [label=\"NDArrayCompat.__add__\" id=-5882035132617130320]\n\t1169847192571894291 -> 9133257758617415926 [id=\"-5882035132617130320.args[0]\"]\n\t9133257758617415926 [label=\"NDArrayCompat.from_ndarray\" id=-8766707318650306503]\n\t9133257758617415926 -> -8700729886857831056 [id=\"-8766707318650306503.args[0]\"]\n\t-8700729886857831056 [label=\"Abstraction.__call__\" id=-6175040583256772104]\n\t-8700729886857831056 -> 7300742739247956141 [id=\"-6175040583256772104.args[0]\"]\n\t7300742739247956141 [label=\"Abstraction.__add__\" id=-2757863483019960227]\n\t7300742739247956141 -> 399900191559359392 [id=\"-2757863483019960227.args[0]\"]\n\t399900191559359392 [label=\"Abstraction.create\" id=-1894269937027086384]\n\t399900191559359392 -> 8509920805002676409 [id=\"-1894269937027086384.args[0]\"]\n\t8509920805002676409 [label=\"Abstraction.create_variable\" id=8509920805002676409]\n\t8509920805002676409 -> 4954432153931937824 [id=\"8509920805002676409.args[0]\"]\n\t4954432153931937824 [label=\"Variable(4763438776)\" id=4954432153931937824]\n\t399900191559359392 -> 1800425219063787799 [id=\"-1894269937027086384.args[1]\"]\n\t1800425219063787799 [label=\"Maybe.just\" id=1800425219063787799]\n\t1800425219063787799 -> 8509920805002676409 [id=\"1800425219063787799.args[0]\"]\n\t7300742739247956141 -> -4643297354090513087 [id=\"-2757863483019960227.args[1]\"]\n\t-4643297354090513087 [label=\"Abstraction.create\" id=-4643297354090513087]\n\t-4643297354090513087 -> 5534931599655894334 [id=\"-4643297354090513087.args[0]\"]\n\t5534931599655894334 [label=\"Abstraction.create_variable\" id=5534931599655894334]\n\t5534931599655894334 -> 4954432122860222749 [id=\"5534931599655894334.args[0]\"]\n\t4954432122860222749 [label=\"Variable(4763110536)\" id=4954432122860222749]\n\t-4643297354090513087 -> -3508081724970013213 [id=\"-4643297354090513087.args[1]\"]\n\t-3508081724970013213 [label=arange_ id=-3508081724970013213]\n\t-3508081724970013213 -> 5534931599655894334 [id=\"-3508081724970013213.args[0]\"]\n\t-8700729886857831056 -> -1313138448651871637 [id=\"-6175040583256772104.args[1]\"]\n\t-1313138448651871637 [label=\"Integer.from_int\" id=-1313138448651871637]\n\t-1313138448651871637 -> -7737040241287546841 [id=\"-1313138448651871637.args[0]\"]\n\t-7737040241287546841 [label=100 id=-5945887149520679823]\n\t1169847192571894291 -> 5328415434377642612 [id=\"-5882035132617130320.args[1]\"]\n\t5328415434377642612 [label=\"NDArrayCompat.from_ndarray\" id=-8766707318650306503]\n\t5328415434377642612 -> -6827753017227246919 [id=\"-8766707318650306503.args[0]\"]\n\t-6827753017227246919 [label=\"Abstraction.__call__\" id=-6175040583256772104]\n\t-6827753017227246919 -> -5552714216057777141 [id=\"-6175040583256772104.args[0]\"]\n\t-5552714216057777141 [label=\"Abstraction.create\" id=-2757863483019960227]\n\t-5552714216057777141 -> 5534931599655894334 [id=\"-2757863483019960227.args[0]\"]\n\t-5552714216057777141 -> -8557706869624120959 [id=\"-2757863483019960227.args[1]\"]\n\t-8557706869624120959 [label=\"Maybe.just\" id=-8557706869624120959]\n\t-8557706869624120959 -> -3508081724970013213 [id=\"-8557706869624120959.args[0]\"]\n\t-6827753017227246919 -> -1313138448651871637 [id=\"-6175040583256772104.args[1]\"]\n\t-5669141933493320923 -> -189545260843302981 [id=\"-2745558395708079455.args[1]\"]\n\t-189545260843302981 [label=\"Maybe.just\" id=-4179875107795948895]\n\t-189545260843302981 -> -8215238012704140842 [id=\"-4179875107795948895.args[0]\"]\n\t-8215238012704140842 [label=\"Either.left\" id=-8215238012704140842]\n\t-8215238012704140842 -> 2507768681348984026 [id=\"-8215238012704140842.args[0]\"]\n\t2507768681348984026 [label=\"Integer.from_int\" id=2507768681348984026]\n\t2507768681348984026 -> -7737040241182541916 [id=\"2507768681348984026.args[0]\"]\n\t-7737040241182541916 [label=5 id=-3794084279707917178]\n\t-4770996305368769695 -> 9032834383112645395 [id=\"6939635006650947043.args[1]\"]\n\t9032834383112645395 [label=\"Maybe.nothing\" id=9032834383112645395]\n\t-4770996305368769695 -> -1475646575536360333 [id=\"6939635006650947043.args[2]\"]\n\t-1475646575536360333 [label=\"Abstraction.create\" id=-1475646575536360333]\n\t-1475646575536360333 -> -4167769655553708545 [id=\"-1475646575536360333.args[0]\"]\n\t-4167769655553708545 [label=\"Abstraction.create_variable\" id=-4167769655553708545]\n\t-4167769655553708545 -> -4268939921069936459 [id=\"-4167769655553708545.args[0]\"]\n\t-4268939921069936459 [label=\"Variable(4763018240)\" id=-4268939921069936459]\n\t-1475646575536360333 -> -91834066106135924 [id=\"-1475646575536360333.args[1]\"]\n\t-91834066106135924 [label=\"Maybe.just\" id=-91834066106135924]\n\t-91834066106135924 -> -8285762096060248770 [id=\"-91834066106135924.args[0]\"]\n\t-8285762096060248770 [label=\"NDArray.__getitem__\" id=-8285762096060248770]\n\t-8285762096060248770 -> -1612977471603230740 [id=\"-8285762096060248770.args[0]\"]\n\t-1612977471603230740 [label=\"Pair.left\" id=-1612977471603230740]\n\t-1612977471603230740 -> -4167769655553708545 [id=\"-1612977471603230740.args[0]\"]\n\t-8285762096060248770 -> -6366347408110540668 [id=\"-8285762096060248770.args[1]\"]\n\t-6366347408110540668 [label=\"Pair.right\" id=-6366347408110540668]\n\t-6366347408110540668 -> -4167769655553708545 [id=\"-6366347408110540668.args[0]\"]\n}",
         "label": null,
         "rule": "metadsl_core.abstraction.compose"
        },
        {
         "graph": "digraph {\n\tnode [shape=plain]\n\tedge [arrowsize=0.5 penwidth=0.5]\n\t4444370463340491573 [label=\"NDArrayCompat.to_ndarray\" id=-1341672716970475800]\n\t4444370463340491573 -> 4717196566943026656 [id=\"-1341672716970475800.args[0]\"]\n\t4717196566943026656 [label=\"NDArrayCompat.from_ndarray\" id=-4772016795270189587]\n\t4717196566943026656 -> -4688074193271864291 [id=\"-4772016795270189587.args[0]\"]\n\t-4688074193271864291 [label=\"Maybe.match\" id=6939635006650947043]\n\t-4688074193271864291 -> -4581163656322613336 [id=\"6939635006650947043.args[0]\"]\n\t-4581163656322613336 [label=\"Maybe.__and__\" id=-2745558395708079455]\n\t-4581163656322613336 -> 3066644644135941110 [id=\"-2745558395708079455.args[0]\"]\n\t3066644644135941110 [label=\"Converter.convert\" id=-1749051929928717773]\n\t3066644644135941110 -> -1556507037921831081 [id=\"-1749051929928717773.args[0]\"]\n\t-1556507037921831081 [label=\"NDArrayCompat.__add__\" id=-5882035132617130320]\n\t-1556507037921831081 -> 9133257758617415926 [id=\"-5882035132617130320.args[0]\"]\n\t9133257758617415926 [label=\"NDArrayCompat.from_ndarray\" id=-8766707318650306503]\n\t9133257758617415926 -> -8700729886857831056 [id=\"-8766707318650306503.args[0]\"]\n\t-8700729886857831056 [label=\"Abstraction.__call__\" id=-6175040583256772104]\n\t-8700729886857831056 -> 7300742739247956141 [id=\"-6175040583256772104.args[0]\"]\n\t7300742739247956141 [label=\"Abstraction.__add__\" id=-2757863483019960227]\n\t7300742739247956141 -> 399900191559359392 [id=\"-2757863483019960227.args[0]\"]\n\t399900191559359392 [label=\"Abstraction.create\" id=-1894269937027086384]\n\t399900191559359392 -> 8509920805002676409 [id=\"-1894269937027086384.args[0]\"]\n\t8509920805002676409 [label=\"Abstraction.create_variable\" id=8509920805002676409]\n\t8509920805002676409 -> 4954432153931937824 [id=\"8509920805002676409.args[0]\"]\n\t4954432153931937824 [label=\"Variable(4763438776)\" id=4954432153931937824]\n\t399900191559359392 -> 1800425219063787799 [id=\"-1894269937027086384.args[1]\"]\n\t1800425219063787799 [label=\"Maybe.just\" id=1800425219063787799]\n\t1800425219063787799 -> 8509920805002676409 [id=\"1800425219063787799.args[0]\"]\n\t7300742739247956141 -> -4643297354090513087 [id=\"-2757863483019960227.args[1]\"]\n\t-4643297354090513087 [label=\"Abstraction.create\" id=-4643297354090513087]\n\t-4643297354090513087 -> 5534931599655894334 [id=\"-4643297354090513087.args[0]\"]\n\t5534931599655894334 [label=\"Abstraction.create_variable\" id=5534931599655894334]\n\t5534931599655894334 -> 4954432122860222749 [id=\"5534931599655894334.args[0]\"]\n\t4954432122860222749 [label=\"Variable(4763110536)\" id=4954432122860222749]\n\t-4643297354090513087 -> -3508081724970013213 [id=\"-4643297354090513087.args[1]\"]\n\t-3508081724970013213 [label=arange_ id=-3508081724970013213]\n\t-3508081724970013213 -> 5534931599655894334 [id=\"-3508081724970013213.args[0]\"]\n\t-8700729886857831056 -> -1313138448651871637 [id=\"-6175040583256772104.args[1]\"]\n\t-1313138448651871637 [label=\"Integer.from_int\" id=-1313138448651871637]\n\t-1313138448651871637 -> -7737040241287546841 [id=\"-1313138448651871637.args[0]\"]\n\t-7737040241287546841 [label=100 id=-5945887149520679823]\n\t-1556507037921831081 -> -6111134292761862292 [id=\"-5882035132617130320.args[1]\"]\n\t-6111134292761862292 [label=\"NDArrayCompat.from_ndarray\" id=-8766707318650306503]\n\t-6111134292761862292 -> 1646416269224374271 [id=\"-8766707318650306503.args[0]\"]\n\t1646416269224374271 [label=\"Maybe.just\" id=-6175040583256772104]\n\t1646416269224374271 -> 832424711665835764 [id=\"-6175040583256772104.args[0]\"]\n\t832424711665835764 [label=arange_ id=832424711665835764]\n\t832424711665835764 -> -1313138448651871637 [id=\"832424711665835764.args[0]\"]\n\t-4581163656322613336 -> -189545260843302981 [id=\"-2745558395708079455.args[1]\"]\n\t-189545260843302981 [label=\"Maybe.just\" id=-4179875107795948895]\n\t-189545260843302981 -> -8215238012704140842 [id=\"-4179875107795948895.args[0]\"]\n\t-8215238012704140842 [label=\"Either.left\" id=-8215238012704140842]\n\t-8215238012704140842 -> 2507768681348984026 [id=\"-8215238012704140842.args[0]\"]\n\t2507768681348984026 [label=\"Integer.from_int\" id=2507768681348984026]\n\t2507768681348984026 -> -7737040241182541916 [id=\"2507768681348984026.args[0]\"]\n\t-7737040241182541916 [label=5 id=-3794084279707917178]\n\t-4688074193271864291 -> 9032834383112645395 [id=\"6939635006650947043.args[1]\"]\n\t9032834383112645395 [label=\"Maybe.nothing\" id=9032834383112645395]\n\t-4688074193271864291 -> -1475646575536360333 [id=\"6939635006650947043.args[2]\"]\n\t-1475646575536360333 [label=\"Abstraction.create\" id=-1475646575536360333]\n\t-1475646575536360333 -> -4167769655553708545 [id=\"-1475646575536360333.args[0]\"]\n\t-4167769655553708545 [label=\"Abstraction.create_variable\" id=-4167769655553708545]\n\t-4167769655553708545 -> -4268939921069936459 [id=\"-4167769655553708545.args[0]\"]\n\t-4268939921069936459 [label=\"Variable(4763018240)\" id=-4268939921069936459]\n\t-1475646575536360333 -> -91834066106135924 [id=\"-1475646575536360333.args[1]\"]\n\t-91834066106135924 [label=\"Maybe.just\" id=-91834066106135924]\n\t-91834066106135924 -> -8285762096060248770 [id=\"-91834066106135924.args[0]\"]\n\t-8285762096060248770 [label=\"NDArray.__getitem__\" id=-8285762096060248770]\n\t-8285762096060248770 -> -1612977471603230740 [id=\"-8285762096060248770.args[0]\"]\n\t-1612977471603230740 [label=\"Pair.left\" id=-1612977471603230740]\n\t-1612977471603230740 -> -4167769655553708545 [id=\"-1612977471603230740.args[0]\"]\n\t-8285762096060248770 -> -6366347408110540668 [id=\"-8285762096060248770.args[1]\"]\n\t-6366347408110540668 [label=\"Pair.right\" id=-6366347408110540668]\n\t-6366347408110540668 -> -4167769655553708545 [id=\"-6366347408110540668.args[0]\"]\n}",
         "label": null,
         "rule": "metadsl_core.abstraction.beta_reduce"
        },
        {
         "graph": "digraph {\n\tnode [shape=plain]\n\tedge [arrowsize=0.5 penwidth=0.5]\n\t6123761378249448669 [label=\"NDArrayCompat.to_ndarray\" id=-1341672716970475800]\n\t6123761378249448669 -> 5681221764959219688 [id=\"-1341672716970475800.args[0]\"]\n\t5681221764959219688 [label=\"NDArrayCompat.from_ndarray\" id=-4772016795270189587]\n\t5681221764959219688 -> 2578046477166392018 [id=\"-4772016795270189587.args[0]\"]\n\t2578046477166392018 [label=\"Maybe.match\" id=6939635006650947043]\n\t2578046477166392018 -> -4622957158978552332 [id=\"6939635006650947043.args[0]\"]\n\t-4622957158978552332 [label=\"Maybe.__and__\" id=-2745558395708079455]\n\t-4622957158978552332 -> 6359800707896431793 [id=\"-2745558395708079455.args[0]\"]\n\t6359800707896431793 [label=\"Converter.convert\" id=-1749051929928717773]\n\t6359800707896431793 -> 1432768087770409268 [id=\"-1749051929928717773.args[0]\"]\n\t1432768087770409268 [label=\"NDArrayCompat.__add__\" id=-5882035132617130320]\n\t1432768087770409268 -> 5328415434377642612 [id=\"-5882035132617130320.args[0]\"]\n\t5328415434377642612 [label=\"NDArrayCompat.from_ndarray\" id=-8766707318650306503]\n\t5328415434377642612 -> -6827753017227246919 [id=\"-8766707318650306503.args[0]\"]\n\t-6827753017227246919 [label=\"Abstraction.__call__\" id=-6175040583256772104]\n\t-6827753017227246919 -> -5552714216057777141 [id=\"-6175040583256772104.args[0]\"]\n\t-5552714216057777141 [label=\"Abstraction.create\" id=-2757863483019960227]\n\t-5552714216057777141 -> 5534931599655894334 [id=\"-2757863483019960227.args[0]\"]\n\t5534931599655894334 [label=\"Abstraction.create_variable\" id=5534931599655894334]\n\t5534931599655894334 -> 4954432122860222749 [id=\"5534931599655894334.args[0]\"]\n\t4954432122860222749 [label=\"Variable(4763110536)\" id=4954432122860222749]\n\t-5552714216057777141 -> -8557706869624120959 [id=\"-2757863483019960227.args[1]\"]\n\t-8557706869624120959 [label=\"Maybe.just\" id=-8557706869624120959]\n\t-8557706869624120959 -> -3508081724970013213 [id=\"-8557706869624120959.args[0]\"]\n\t-3508081724970013213 [label=arange_ id=-3508081724970013213]\n\t-3508081724970013213 -> 5534931599655894334 [id=\"-3508081724970013213.args[0]\"]\n\t-6827753017227246919 -> -1313138448651871637 [id=\"-6175040583256772104.args[1]\"]\n\t-1313138448651871637 [label=\"Integer.from_int\" id=-1313138448651871637]\n\t-1313138448651871637 -> -7737040241287546841 [id=\"-1313138448651871637.args[0]\"]\n\t-7737040241287546841 [label=100 id=-5945887149520679823]\n\t1432768087770409268 -> -6111134292761862292 [id=\"-5882035132617130320.args[1]\"]\n\t-6111134292761862292 [label=\"NDArrayCompat.from_ndarray\" id=-8766707318650306503]\n\t-6111134292761862292 -> 1646416269224374271 [id=\"-8766707318650306503.args[0]\"]\n\t1646416269224374271 [label=\"Maybe.just\" id=-6175040583256772104]\n\t1646416269224374271 -> 832424711665835764 [id=\"-6175040583256772104.args[0]\"]\n\t832424711665835764 [label=arange_ id=832424711665835764]\n\t832424711665835764 -> -1313138448651871637 [id=\"832424711665835764.args[0]\"]\n\t-4622957158978552332 -> -189545260843302981 [id=\"-2745558395708079455.args[1]\"]\n\t-189545260843302981 [label=\"Maybe.just\" id=-4179875107795948895]\n\t-189545260843302981 -> -8215238012704140842 [id=\"-4179875107795948895.args[0]\"]\n\t-8215238012704140842 [label=\"Either.left\" id=-8215238012704140842]\n\t-8215238012704140842 -> 2507768681348984026 [id=\"-8215238012704140842.args[0]\"]\n\t2507768681348984026 [label=\"Integer.from_int\" id=2507768681348984026]\n\t2507768681348984026 -> -7737040241182541916 [id=\"2507768681348984026.args[0]\"]\n\t-7737040241182541916 [label=5 id=-3794084279707917178]\n\t2578046477166392018 -> 9032834383112645395 [id=\"6939635006650947043.args[1]\"]\n\t9032834383112645395 [label=\"Maybe.nothing\" id=9032834383112645395]\n\t2578046477166392018 -> -1475646575536360333 [id=\"6939635006650947043.args[2]\"]\n\t-1475646575536360333 [label=\"Abstraction.create\" id=-1475646575536360333]\n\t-1475646575536360333 -> -4167769655553708545 [id=\"-1475646575536360333.args[0]\"]\n\t-4167769655553708545 [label=\"Abstraction.create_variable\" id=-4167769655553708545]\n\t-4167769655553708545 -> -4268939921069936459 [id=\"-4167769655553708545.args[0]\"]\n\t-4268939921069936459 [label=\"Variable(4763018240)\" id=-4268939921069936459]\n\t-1475646575536360333 -> -91834066106135924 [id=\"-1475646575536360333.args[1]\"]\n\t-91834066106135924 [label=\"Maybe.just\" id=-91834066106135924]\n\t-91834066106135924 -> -8285762096060248770 [id=\"-91834066106135924.args[0]\"]\n\t-8285762096060248770 [label=\"NDArray.__getitem__\" id=-8285762096060248770]\n\t-8285762096060248770 -> -1612977471603230740 [id=\"-8285762096060248770.args[0]\"]\n\t-1612977471603230740 [label=\"Pair.left\" id=-1612977471603230740]\n\t-1612977471603230740 -> -4167769655553708545 [id=\"-1612977471603230740.args[0]\"]\n\t-8285762096060248770 -> -6366347408110540668 [id=\"-8285762096060248770.args[1]\"]\n\t-6366347408110540668 [label=\"Pair.right\" id=-6366347408110540668]\n\t-6366347408110540668 -> -4167769655553708545 [id=\"-6366347408110540668.args[0]\"]\n}",
         "label": null,
         "rule": "metadsl_core.abstraction.compose"
        },
        {
         "graph": "digraph {\n\tnode [shape=plain]\n\tedge [arrowsize=0.5 penwidth=0.5]\n\t2937955236600109562 [label=\"NDArrayCompat.to_ndarray\" id=-1341672716970475800]\n\t2937955236600109562 -> 5887267766619437167 [id=\"-1341672716970475800.args[0]\"]\n\t5887267766619437167 [label=\"NDArrayCompat.from_ndarray\" id=-4772016795270189587]\n\t5887267766619437167 -> 6531298543507265622 [id=\"-4772016795270189587.args[0]\"]\n\t6531298543507265622 [label=\"Maybe.match\" id=6939635006650947043]\n\t6531298543507265622 -> 7346142444234164539 [id=\"6939635006650947043.args[0]\"]\n\t7346142444234164539 [label=\"Maybe.__and__\" id=-2745558395708079455]\n\t7346142444234164539 -> -740474970012110432 [id=\"-2745558395708079455.args[0]\"]\n\t-740474970012110432 [label=\"Converter.convert\" id=-1749051929928717773]\n\t-740474970012110432 -> 4512585717378328880 [id=\"-1749051929928717773.args[0]\"]\n\t4512585717378328880 [label=\"NDArrayCompat.__add__\" id=-5882035132617130320]\n\t4512585717378328880 -> -6111134292761862292 [id=\"-5882035132617130320.args[0]\"]\n\t-6111134292761862292 [label=\"NDArrayCompat.from_ndarray\" id=-8766707318650306503]\n\t-6111134292761862292 -> 1646416269224374271 [id=\"-8766707318650306503.args[0]\"]\n\t1646416269224374271 [label=\"Maybe.just\" id=-6175040583256772104]\n\t1646416269224374271 -> 832424711665835764 [id=\"-6175040583256772104.args[0]\"]\n\t832424711665835764 [label=arange_ id=832424711665835764]\n\t832424711665835764 -> -1313138448651871637 [id=\"832424711665835764.args[0]\"]\n\t-1313138448651871637 [label=\"Integer.from_int\" id=-1313138448651871637]\n\t-1313138448651871637 -> -7737040241287546841 [id=\"-1313138448651871637.args[0]\"]\n\t-7737040241287546841 [label=100 id=-5945887149520679823]\n\t4512585717378328880 -> -6111134292761862292 [id=\"-5882035132617130320.args[1]\"]\n\t7346142444234164539 -> -189545260843302981 [id=\"-2745558395708079455.args[1]\"]\n\t-189545260843302981 [label=\"Maybe.just\" id=-4179875107795948895]\n\t-189545260843302981 -> -8215238012704140842 [id=\"-4179875107795948895.args[0]\"]\n\t-8215238012704140842 [label=\"Either.left\" id=-8215238012704140842]\n\t-8215238012704140842 -> 2507768681348984026 [id=\"-8215238012704140842.args[0]\"]\n\t2507768681348984026 [label=\"Integer.from_int\" id=2507768681348984026]\n\t2507768681348984026 -> -7737040241182541916 [id=\"2507768681348984026.args[0]\"]\n\t-7737040241182541916 [label=5 id=-3794084279707917178]\n\t6531298543507265622 -> 9032834383112645395 [id=\"6939635006650947043.args[1]\"]\n\t9032834383112645395 [label=\"Maybe.nothing\" id=9032834383112645395]\n\t6531298543507265622 -> -1475646575536360333 [id=\"6939635006650947043.args[2]\"]\n\t-1475646575536360333 [label=\"Abstraction.create\" id=-1475646575536360333]\n\t-1475646575536360333 -> -4167769655553708545 [id=\"-1475646575536360333.args[0]\"]\n\t-4167769655553708545 [label=\"Abstraction.create_variable\" id=-4167769655553708545]\n\t-4167769655553708545 -> -4268939921069936459 [id=\"-4167769655553708545.args[0]\"]\n\t-4268939921069936459 [label=\"Variable(4763018240)\" id=-4268939921069936459]\n\t-1475646575536360333 -> -91834066106135924 [id=\"-1475646575536360333.args[1]\"]\n\t-91834066106135924 [label=\"Maybe.just\" id=-91834066106135924]\n\t-91834066106135924 -> -8285762096060248770 [id=\"-91834066106135924.args[0]\"]\n\t-8285762096060248770 [label=\"NDArray.__getitem__\" id=-8285762096060248770]\n\t-8285762096060248770 -> -1612977471603230740 [id=\"-8285762096060248770.args[0]\"]\n\t-1612977471603230740 [label=\"Pair.left\" id=-1612977471603230740]\n\t-1612977471603230740 -> -4167769655553708545 [id=\"-1612977471603230740.args[0]\"]\n\t-8285762096060248770 -> -6366347408110540668 [id=\"-8285762096060248770.args[1]\"]\n\t-6366347408110540668 [label=\"Pair.right\" id=-6366347408110540668]\n\t-6366347408110540668 -> -4167769655553708545 [id=\"-6366347408110540668.args[0]\"]\n}",
         "label": null,
         "rule": "metadsl_core.abstraction.beta_reduce"
        },
        {
         "graph": "digraph {\n\tnode [shape=plain]\n\tedge [arrowsize=0.5 penwidth=0.5]\n\t-1150088198166487101 [label=\"NDArrayCompat.to_ndarray\" id=-1341672716970475800]\n\t-1150088198166487101 -> 5798070462257896138 [id=\"-1341672716970475800.args[0]\"]\n\t5798070462257896138 [label=\"NDArrayCompat.from_ndarray\" id=-4772016795270189587]\n\t5798070462257896138 -> 3546302652998471528 [id=\"-4772016795270189587.args[0]\"]\n\t3546302652998471528 [label=\"Maybe.match\" id=6939635006650947043]\n\t3546302652998471528 -> 3930569333833847279 [id=\"6939635006650947043.args[0]\"]\n\t3930569333833847279 [label=\"Maybe.__and__\" id=-2745558395708079455]\n\t3930569333833847279 -> 5646358865148850642 [id=\"-2745558395708079455.args[0]\"]\n\t5646358865148850642 [label=\"Converter.convert\" id=-1749051929928717773]\n\t5646358865148850642 -> -4321933172678497012 [id=\"-1749051929928717773.args[0]\"]\n\t-4321933172678497012 [label=\"NDArrayCompat.from_ndarray\" id=-5882035132617130320]\n\t-4321933172678497012 -> 1189092641968672543 [id=\"-5882035132617130320.args[0]\"]\n\t1189092641968672543 [label=\"Maybe.just\" id=-1749051929928717773]\n\t1189092641968672543 -> 7005412116804673500 [id=\"-1749051929928717773.args[0]\"]\n\t7005412116804673500 [label=\"NDArray.__add__\" id=7005412116804673500]\n\t7005412116804673500 -> 832424711665835764 [id=\"7005412116804673500.args[0]\"]\n\t832424711665835764 [label=arange_ id=832424711665835764]\n\t832424711665835764 -> -1313138448651871637 [id=\"832424711665835764.args[0]\"]\n\t-1313138448651871637 [label=\"Integer.from_int\" id=-1313138448651871637]\n\t-1313138448651871637 -> -7737040241287546841 [id=\"-1313138448651871637.args[0]\"]\n\t-7737040241287546841 [label=100 id=-5945887149520679823]\n\t7005412116804673500 -> 832424711665835764 [id=\"7005412116804673500.args[1]\"]\n\t3930569333833847279 -> -189545260843302981 [id=\"-2745558395708079455.args[1]\"]\n\t-189545260843302981 [label=\"Maybe.just\" id=-4179875107795948895]\n\t-189545260843302981 -> -8215238012704140842 [id=\"-4179875107795948895.args[0]\"]\n\t-8215238012704140842 [label=\"Either.left\" id=-8215238012704140842]\n\t-8215238012704140842 -> 2507768681348984026 [id=\"-8215238012704140842.args[0]\"]\n\t2507768681348984026 [label=\"Integer.from_int\" id=2507768681348984026]\n\t2507768681348984026 -> -7737040241182541916 [id=\"2507768681348984026.args[0]\"]\n\t-7737040241182541916 [label=5 id=-3794084279707917178]\n\t3546302652998471528 -> 9032834383112645395 [id=\"6939635006650947043.args[1]\"]\n\t9032834383112645395 [label=\"Maybe.nothing\" id=9032834383112645395]\n\t3546302652998471528 -> -1475646575536360333 [id=\"6939635006650947043.args[2]\"]\n\t-1475646575536360333 [label=\"Abstraction.create\" id=-1475646575536360333]\n\t-1475646575536360333 -> -4167769655553708545 [id=\"-1475646575536360333.args[0]\"]\n\t-4167769655553708545 [label=\"Abstraction.create_variable\" id=-4167769655553708545]\n\t-4167769655553708545 -> -4268939921069936459 [id=\"-4167769655553708545.args[0]\"]\n\t-4268939921069936459 [label=\"Variable(4763018240)\" id=-4268939921069936459]\n\t-1475646575536360333 -> -91834066106135924 [id=\"-1475646575536360333.args[1]\"]\n\t-91834066106135924 [label=\"Maybe.just\" id=-91834066106135924]\n\t-91834066106135924 -> -8285762096060248770 [id=\"-91834066106135924.args[0]\"]\n\t-8285762096060248770 [label=\"NDArray.__getitem__\" id=-8285762096060248770]\n\t-8285762096060248770 -> -1612977471603230740 [id=\"-8285762096060248770.args[0]\"]\n\t-1612977471603230740 [label=\"Pair.left\" id=-1612977471603230740]\n\t-1612977471603230740 -> -4167769655553708545 [id=\"-1612977471603230740.args[0]\"]\n\t-8285762096060248770 -> -6366347408110540668 [id=\"-8285762096060248770.args[1]\"]\n\t-6366347408110540668 [label=\"Pair.right\" id=-6366347408110540668]\n\t-6366347408110540668 -> -4167769655553708545 [id=\"-6366347408110540668.args[0]\"]\n}",
         "label": null,
         "rule": "metadsl_core.numpy.add_compat"
        },
        {
         "graph": "digraph {\n\tnode [shape=plain]\n\tedge [arrowsize=0.5 penwidth=0.5]\n\t7974229076958302095 [label=\"NDArrayCompat.to_ndarray\" id=-1341672716970475800]\n\t7974229076958302095 -> 1444425998562204304 [id=\"-1341672716970475800.args[0]\"]\n\t1444425998562204304 [label=\"NDArrayCompat.from_ndarray\" id=-4772016795270189587]\n\t1444425998562204304 -> 8944486586679779976 [id=\"-4772016795270189587.args[0]\"]\n\t8944486586679779976 [label=\"Maybe.match\" id=6939635006650947043]\n\t8944486586679779976 -> 1614487485264017680 [id=\"6939635006650947043.args[0]\"]\n\t1614487485264017680 [label=\"Maybe.__and__\" id=-2745558395708079455]\n\t1614487485264017680 -> 1189092641968672543 [id=\"-2745558395708079455.args[0]\"]\n\t1189092641968672543 [label=\"Maybe.just\" id=-1749051929928717773]\n\t1189092641968672543 -> 7005412116804673500 [id=\"-1749051929928717773.args[0]\"]\n\t7005412116804673500 [label=\"NDArray.__add__\" id=7005412116804673500]\n\t7005412116804673500 -> 832424711665835764 [id=\"7005412116804673500.args[0]\"]\n\t832424711665835764 [label=arange_ id=832424711665835764]\n\t832424711665835764 -> -1313138448651871637 [id=\"832424711665835764.args[0]\"]\n\t-1313138448651871637 [label=\"Integer.from_int\" id=-1313138448651871637]\n\t-1313138448651871637 -> -7737040241287546841 [id=\"-1313138448651871637.args[0]\"]\n\t-7737040241287546841 [label=100 id=-5945887149520679823]\n\t7005412116804673500 -> 832424711665835764 [id=\"7005412116804673500.args[1]\"]\n\t1614487485264017680 -> -189545260843302981 [id=\"-2745558395708079455.args[1]\"]\n\t-189545260843302981 [label=\"Maybe.just\" id=-4179875107795948895]\n\t-189545260843302981 -> -8215238012704140842 [id=\"-4179875107795948895.args[0]\"]\n\t-8215238012704140842 [label=\"Either.left\" id=-8215238012704140842]\n\t-8215238012704140842 -> 2507768681348984026 [id=\"-8215238012704140842.args[0]\"]\n\t2507768681348984026 [label=\"Integer.from_int\" id=2507768681348984026]\n\t2507768681348984026 -> -7737040241182541916 [id=\"2507768681348984026.args[0]\"]\n\t-7737040241182541916 [label=5 id=-3794084279707917178]\n\t8944486586679779976 -> 9032834383112645395 [id=\"6939635006650947043.args[1]\"]\n\t9032834383112645395 [label=\"Maybe.nothing\" id=9032834383112645395]\n\t8944486586679779976 -> -1475646575536360333 [id=\"6939635006650947043.args[2]\"]\n\t-1475646575536360333 [label=\"Abstraction.create\" id=-1475646575536360333]\n\t-1475646575536360333 -> -4167769655553708545 [id=\"-1475646575536360333.args[0]\"]\n\t-4167769655553708545 [label=\"Abstraction.create_variable\" id=-4167769655553708545]\n\t-4167769655553708545 -> -4268939921069936459 [id=\"-4167769655553708545.args[0]\"]\n\t-4268939921069936459 [label=\"Variable(4763018240)\" id=-4268939921069936459]\n\t-1475646575536360333 -> -91834066106135924 [id=\"-1475646575536360333.args[1]\"]\n\t-91834066106135924 [label=\"Maybe.just\" id=-91834066106135924]\n\t-91834066106135924 -> -8285762096060248770 [id=\"-91834066106135924.args[0]\"]\n\t-8285762096060248770 [label=\"NDArray.__getitem__\" id=-8285762096060248770]\n\t-8285762096060248770 -> -1612977471603230740 [id=\"-8285762096060248770.args[0]\"]\n\t-1612977471603230740 [label=\"Pair.left\" id=-1612977471603230740]\n\t-1612977471603230740 -> -4167769655553708545 [id=\"-1612977471603230740.args[0]\"]\n\t-8285762096060248770 -> -6366347408110540668 [id=\"-8285762096060248770.args[1]\"]\n\t-6366347408110540668 [label=\"Pair.right\" id=-6366347408110540668]\n\t-6366347408110540668 -> -4167769655553708545 [id=\"-6366347408110540668.args[0]\"]\n}",
         "label": null,
         "rule": "metadsl_core.numpy.convert_to_ndarray"
        },
        {
         "graph": "digraph {\n\tnode [shape=plain]\n\tedge [arrowsize=0.5 penwidth=0.5]\n\t-3190917013023287780 [label=\"NDArrayCompat.to_ndarray\" id=-1341672716970475800]\n\t-3190917013023287780 -> 760278491628587479 [id=\"-1341672716970475800.args[0]\"]\n\t760278491628587479 [label=\"NDArrayCompat.from_ndarray\" id=-4772016795270189587]\n\t760278491628587479 -> 7356682076725162957 [id=\"-4772016795270189587.args[0]\"]\n\t7356682076725162957 [label=\"Maybe.match\" id=6939635006650947043]\n\t7356682076725162957 -> -2556112163304457 [id=\"6939635006650947043.args[0]\"]\n\t-2556112163304457 [label=\"Maybe.just\" id=-2745558395708079455]\n\t-2556112163304457 -> 5958914858003784629 [id=\"-2745558395708079455.args[0]\"]\n\t5958914858003784629 [label=\"Pair.create\" id=5958914858003784629]\n\t5958914858003784629 -> 7005412116804673500 [id=\"5958914858003784629.args[0]\"]\n\t7005412116804673500 [label=\"NDArray.__add__\" id=7005412116804673500]\n\t7005412116804673500 -> 832424711665835764 [id=\"7005412116804673500.args[0]\"]\n\t832424711665835764 [label=arange_ id=832424711665835764]\n\t832424711665835764 -> -1313138448651871637 [id=\"832424711665835764.args[0]\"]\n\t-1313138448651871637 [label=\"Integer.from_int\" id=-1313138448651871637]\n\t-1313138448651871637 -> -7737040241287546841 [id=\"-1313138448651871637.args[0]\"]\n\t-7737040241287546841 [label=100 id=-5945887149520679823]\n\t7005412116804673500 -> 832424711665835764 [id=\"7005412116804673500.args[1]\"]\n\t5958914858003784629 -> -8215238012704140842 [id=\"5958914858003784629.args[1]\"]\n\t-8215238012704140842 [label=\"Either.left\" id=-8215238012704140842]\n\t-8215238012704140842 -> 2507768681348984026 [id=\"-8215238012704140842.args[0]\"]\n\t2507768681348984026 [label=\"Integer.from_int\" id=2507768681348984026]\n\t2507768681348984026 -> -7737040241182541916 [id=\"2507768681348984026.args[0]\"]\n\t-7737040241182541916 [label=5 id=-3794084279707917178]\n\t7356682076725162957 -> 9032834383112645395 [id=\"6939635006650947043.args[1]\"]\n\t9032834383112645395 [label=\"Maybe.nothing\" id=9032834383112645395]\n\t7356682076725162957 -> -1475646575536360333 [id=\"6939635006650947043.args[2]\"]\n\t-1475646575536360333 [label=\"Abstraction.create\" id=-1475646575536360333]\n\t-1475646575536360333 -> -4167769655553708545 [id=\"-1475646575536360333.args[0]\"]\n\t-4167769655553708545 [label=\"Abstraction.create_variable\" id=-4167769655553708545]\n\t-4167769655553708545 -> -4268939921069936459 [id=\"-4167769655553708545.args[0]\"]\n\t-4268939921069936459 [label=\"Variable(4763018240)\" id=-4268939921069936459]\n\t-1475646575536360333 -> -91834066106135924 [id=\"-1475646575536360333.args[1]\"]\n\t-91834066106135924 [label=\"Maybe.just\" id=-91834066106135924]\n\t-91834066106135924 -> -8285762096060248770 [id=\"-91834066106135924.args[0]\"]\n\t-8285762096060248770 [label=\"NDArray.__getitem__\" id=-8285762096060248770]\n\t-8285762096060248770 -> -1612977471603230740 [id=\"-8285762096060248770.args[0]\"]\n\t-1612977471603230740 [label=\"Pair.left\" id=-1612977471603230740]\n\t-1612977471603230740 -> -4167769655553708545 [id=\"-1612977471603230740.args[0]\"]\n\t-8285762096060248770 -> -6366347408110540668 [id=\"-8285762096060248770.args[1]\"]\n\t-6366347408110540668 [label=\"Pair.right\" id=-6366347408110540668]\n\t-6366347408110540668 -> -4167769655553708545 [id=\"-6366347408110540668.args[0]\"]\n}",
         "label": null,
         "rule": "metadsl_core.maybe.maybe_and"
        },
        {
         "graph": "digraph {\n\tnode [shape=plain]\n\tedge [arrowsize=0.5 penwidth=0.5]\n\t-3907054814130951697 [label=\"NDArrayCompat.to_ndarray\" id=-1341672716970475800]\n\t-3907054814130951697 -> -2278760497717732240 [id=\"-1341672716970475800.args[0]\"]\n\t-2278760497717732240 [label=\"NDArrayCompat.from_ndarray\" id=-4772016795270189587]\n\t-2278760497717732240 -> -6083264147707509651 [id=\"-4772016795270189587.args[0]\"]\n\t-6083264147707509651 [label=\"Abstraction.__call__\" id=6939635006650947043]\n\t-6083264147707509651 -> -1475646575536360333 [id=\"6939635006650947043.args[0]\"]\n\t-1475646575536360333 [label=\"Abstraction.create\" id=-1475646575536360333]\n\t-1475646575536360333 -> -4167769655553708545 [id=\"-1475646575536360333.args[0]\"]\n\t-4167769655553708545 [label=\"Abstraction.create_variable\" id=-4167769655553708545]\n\t-4167769655553708545 -> -4268939921069936459 [id=\"-4167769655553708545.args[0]\"]\n\t-4268939921069936459 [label=\"Variable(4763018240)\" id=-4268939921069936459]\n\t-1475646575536360333 -> -91834066106135924 [id=\"-1475646575536360333.args[1]\"]\n\t-91834066106135924 [label=\"Maybe.just\" id=-91834066106135924]\n\t-91834066106135924 -> -8285762096060248770 [id=\"-91834066106135924.args[0]\"]\n\t-8285762096060248770 [label=\"NDArray.__getitem__\" id=-8285762096060248770]\n\t-8285762096060248770 -> -1612977471603230740 [id=\"-8285762096060248770.args[0]\"]\n\t-1612977471603230740 [label=\"Pair.left\" id=-1612977471603230740]\n\t-1612977471603230740 -> -4167769655553708545 [id=\"-1612977471603230740.args[0]\"]\n\t-8285762096060248770 -> -6366347408110540668 [id=\"-8285762096060248770.args[1]\"]\n\t-6366347408110540668 [label=\"Pair.right\" id=-6366347408110540668]\n\t-6366347408110540668 -> -4167769655553708545 [id=\"-6366347408110540668.args[0]\"]\n\t-6083264147707509651 -> 5958914858003784629 [id=\"6939635006650947043.args[1]\"]\n\t5958914858003784629 [label=\"Pair.create\" id=5958914858003784629]\n\t5958914858003784629 -> 7005412116804673500 [id=\"5958914858003784629.args[0]\"]\n\t7005412116804673500 [label=\"NDArray.__add__\" id=7005412116804673500]\n\t7005412116804673500 -> 832424711665835764 [id=\"7005412116804673500.args[0]\"]\n\t832424711665835764 [label=arange_ id=832424711665835764]\n\t832424711665835764 -> -1313138448651871637 [id=\"832424711665835764.args[0]\"]\n\t-1313138448651871637 [label=\"Integer.from_int\" id=-1313138448651871637]\n\t-1313138448651871637 -> -7737040241287546841 [id=\"-1313138448651871637.args[0]\"]\n\t-7737040241287546841 [label=100 id=-5945887149520679823]\n\t7005412116804673500 -> 832424711665835764 [id=\"7005412116804673500.args[1]\"]\n\t5958914858003784629 -> -8215238012704140842 [id=\"5958914858003784629.args[1]\"]\n\t-8215238012704140842 [label=\"Either.left\" id=-8215238012704140842]\n\t-8215238012704140842 -> 2507768681348984026 [id=\"-8215238012704140842.args[0]\"]\n\t2507768681348984026 [label=\"Integer.from_int\" id=2507768681348984026]\n\t2507768681348984026 -> -7737040241182541916 [id=\"2507768681348984026.args[0]\"]\n\t-7737040241182541916 [label=5 id=-3794084279707917178]\n}",
         "label": null,
         "rule": "metadsl_core.maybe.maybe_match"
        },
        {
         "graph": "digraph {\n\tnode [shape=plain]\n\tedge [arrowsize=0.5 penwidth=0.5]\n\t-2825182354181474218 [label=\"NDArrayCompat.to_ndarray\" id=-1341672716970475800]\n\t-2825182354181474218 -> -6431450014531788569 [id=\"-1341672716970475800.args[0]\"]\n\t-6431450014531788569 [label=\"NDArrayCompat.from_ndarray\" id=-4772016795270189587]\n\t-6431450014531788569 -> 1757153991661204000 [id=\"-4772016795270189587.args[0]\"]\n\t1757153991661204000 [label=\"Maybe.just\" id=6939635006650947043]\n\t1757153991661204000 -> -7358658533967007486 [id=\"6939635006650947043.args[0]\"]\n\t-7358658533967007486 [label=\"NDArray.__getitem__\" id=-7358658533967007486]\n\t-7358658533967007486 -> -3791942308469970679 [id=\"-7358658533967007486.args[0]\"]\n\t-3791942308469970679 [label=\"Pair.left\" id=-3791942308469970679]\n\t-3791942308469970679 -> 5958914858003784629 [id=\"-3791942308469970679.args[0]\"]\n\t5958914858003784629 [label=\"Pair.create\" id=5958914858003784629]\n\t5958914858003784629 -> 7005412116804673500 [id=\"5958914858003784629.args[0]\"]\n\t7005412116804673500 [label=\"NDArray.__add__\" id=7005412116804673500]\n\t7005412116804673500 -> 832424711665835764 [id=\"7005412116804673500.args[0]\"]\n\t832424711665835764 [label=arange_ id=832424711665835764]\n\t832424711665835764 -> -1313138448651871637 [id=\"832424711665835764.args[0]\"]\n\t-1313138448651871637 [label=\"Integer.from_int\" id=-1313138448651871637]\n\t-1313138448651871637 -> -7737040241287546841 [id=\"-1313138448651871637.args[0]\"]\n\t-7737040241287546841 [label=100 id=-5945887149520679823]\n\t7005412116804673500 -> 832424711665835764 [id=\"7005412116804673500.args[1]\"]\n\t5958914858003784629 -> -8215238012704140842 [id=\"5958914858003784629.args[1]\"]\n\t-8215238012704140842 [label=\"Either.left\" id=-8215238012704140842]\n\t-8215238012704140842 -> 2507768681348984026 [id=\"-8215238012704140842.args[0]\"]\n\t2507768681348984026 [label=\"Integer.from_int\" id=2507768681348984026]\n\t2507768681348984026 -> -7737040241182541916 [id=\"2507768681348984026.args[0]\"]\n\t-7737040241182541916 [label=5 id=-3794084279707917178]\n\t-7358658533967007486 -> 3286866018787861345 [id=\"-7358658533967007486.args[1]\"]\n\t3286866018787861345 [label=\"Pair.right\" id=3286866018787861345]\n\t3286866018787861345 -> 5958914858003784629 [id=\"3286866018787861345.args[0]\"]\n}",
         "label": null,
         "rule": "metadsl_core.abstraction.beta_reduce"
        },
        {
         "graph": "digraph {\n\tnode [shape=plain]\n\tedge [arrowsize=0.5 penwidth=0.5]\n\t4878043911049156648 [label=\"NDArrayCompat.to_ndarray\" id=-1341672716970475800]\n\t4878043911049156648 -> 9151508734577916712 [id=\"-1341672716970475800.args[0]\"]\n\t9151508734577916712 [label=\"NDArrayCompat.from_ndarray\" id=-4772016795270189587]\n\t9151508734577916712 -> -4118936360968403820 [id=\"-4772016795270189587.args[0]\"]\n\t-4118936360968403820 [label=\"Maybe.just\" id=6939635006650947043]\n\t-4118936360968403820 -> -4849121165648023211 [id=\"6939635006650947043.args[0]\"]\n\t-4849121165648023211 [label=\"NDArray.__getitem__\" id=-7358658533967007486]\n\t-4849121165648023211 -> -3791942308469970679 [id=\"-7358658533967007486.args[0]\"]\n\t-3791942308469970679 [label=\"Pair.left\" id=-3791942308469970679]\n\t-3791942308469970679 -> 5958914858003784629 [id=\"-3791942308469970679.args[0]\"]\n\t5958914858003784629 [label=\"Pair.create\" id=5958914858003784629]\n\t5958914858003784629 -> 7005412116804673500 [id=\"5958914858003784629.args[0]\"]\n\t7005412116804673500 [label=\"NDArray.__add__\" id=7005412116804673500]\n\t7005412116804673500 -> 832424711665835764 [id=\"7005412116804673500.args[0]\"]\n\t832424711665835764 [label=arange_ id=832424711665835764]\n\t832424711665835764 -> -1313138448651871637 [id=\"832424711665835764.args[0]\"]\n\t-1313138448651871637 [label=\"Integer.from_int\" id=-1313138448651871637]\n\t-1313138448651871637 -> -7737040241287546841 [id=\"-1313138448651871637.args[0]\"]\n\t-7737040241287546841 [label=100 id=-5945887149520679823]\n\t7005412116804673500 -> 832424711665835764 [id=\"7005412116804673500.args[1]\"]\n\t5958914858003784629 -> -8215238012704140842 [id=\"5958914858003784629.args[1]\"]\n\t-8215238012704140842 [label=\"Either.left\" id=-8215238012704140842]\n\t-8215238012704140842 -> 2507768681348984026 [id=\"-8215238012704140842.args[0]\"]\n\t2507768681348984026 [label=\"Integer.from_int\" id=2507768681348984026]\n\t2507768681348984026 -> -7737040241182541916 [id=\"2507768681348984026.args[0]\"]\n\t-7737040241182541916 [label=5 id=-3794084279707917178]\n\t-4849121165648023211 -> -8215238012704140842 [id=\"-7358658533967007486.args[1]\"]\n}",
         "label": null,
         "rule": "metadsl_core.pair.pair_right"
        },
        {
         "graph": "digraph {\n\tnode [shape=plain]\n\tedge [arrowsize=0.5 penwidth=0.5]\n\t6639613543171332087 [label=\"NDArrayCompat.to_ndarray\" id=-1341672716970475800]\n\t6639613543171332087 -> -1772126965539794600 [id=\"-1341672716970475800.args[0]\"]\n\t-1772126965539794600 [label=\"NDArrayCompat.from_ndarray\" id=-4772016795270189587]\n\t-1772126965539794600 -> -6652966630813919611 [id=\"-4772016795270189587.args[0]\"]\n\t-6652966630813919611 [label=\"Maybe.just\" id=6939635006650947043]\n\t-6652966630813919611 -> -130684388737434378 [id=\"6939635006650947043.args[0]\"]\n\t-130684388737434378 [label=\"NDArray.__getitem__\" id=-130684388737434378]\n\t-130684388737434378 -> 7005412116804673500 [id=\"-130684388737434378.args[0]\"]\n\t7005412116804673500 [label=\"NDArray.__add__\" id=7005412116804673500]\n\t7005412116804673500 -> 832424711665835764 [id=\"7005412116804673500.args[0]\"]\n\t832424711665835764 [label=arange_ id=832424711665835764]\n\t832424711665835764 -> -1313138448651871637 [id=\"832424711665835764.args[0]\"]\n\t-1313138448651871637 [label=\"Integer.from_int\" id=-1313138448651871637]\n\t-1313138448651871637 -> -7737040241287546841 [id=\"-1313138448651871637.args[0]\"]\n\t-7737040241287546841 [label=100 id=-5945887149520679823]\n\t7005412116804673500 -> 832424711665835764 [id=\"7005412116804673500.args[1]\"]\n\t-130684388737434378 -> -8215238012704140842 [id=\"-130684388737434378.args[1]\"]\n\t-8215238012704140842 [label=\"Either.left\" id=-8215238012704140842]\n\t-8215238012704140842 -> 2507768681348984026 [id=\"-8215238012704140842.args[0]\"]\n\t2507768681348984026 [label=\"Integer.from_int\" id=2507768681348984026]\n\t2507768681348984026 -> -7737040241182541916 [id=\"2507768681348984026.args[0]\"]\n\t-7737040241182541916 [label=5 id=-3794084279707917178]\n}",
         "label": null,
         "rule": "metadsl_core.pair.pair_left"
        },
        {
         "graph": "digraph {\n\tnode [shape=plain]\n\tedge [arrowsize=0.5 penwidth=0.5]\n\t6639613543171332087 [label=\"NDArrayCompat.to_ndarray\" id=-1341672716970475800]\n\t6639613543171332087 -> -1772126965539794600 [id=\"-1341672716970475800.args[0]\"]\n\t-1772126965539794600 [label=\"NDArrayCompat.from_ndarray\" id=-4772016795270189587]\n\t-1772126965539794600 -> -6652966630813919611 [id=\"-4772016795270189587.args[0]\"]\n\t-6652966630813919611 [label=\"Maybe.just\" id=6939635006650947043]\n\t-6652966630813919611 -> -130684388737434378 [id=\"6939635006650947043.args[0]\"]\n\t-130684388737434378 [label=\"NDArray.__getitem__\" id=-130684388737434378]\n\t-130684388737434378 -> 7005412116804673500 [id=\"-130684388737434378.args[0]\"]\n\t7005412116804673500 [label=\"NDArray.__add__\" id=7005412116804673500]\n\t7005412116804673500 -> 832424711665835764 [id=\"7005412116804673500.args[0]\"]\n\t832424711665835764 [label=arange_ id=832424711665835764]\n\t832424711665835764 -> -1313138448651871637 [id=\"832424711665835764.args[0]\"]\n\t-1313138448651871637 [label=\"Integer.from_int\" id=-1313138448651871637]\n\t-1313138448651871637 -> -7737040241287546841 [id=\"-1313138448651871637.args[0]\"]\n\t-7737040241287546841 [label=100 id=-5945887149520679823]\n\t7005412116804673500 -> 832424711665835764 [id=\"7005412116804673500.args[1]\"]\n\t-130684388737434378 -> -8215238012704140842 [id=\"-130684388737434378.args[1]\"]\n\t-8215238012704140842 [label=\"Either.left\" id=-8215238012704140842]\n\t-8215238012704140842 -> 2507768681348984026 [id=\"-8215238012704140842.args[0]\"]\n\t2507768681348984026 [label=\"Integer.from_int\" id=2507768681348984026]\n\t2507768681348984026 -> -7737040241182541916 [id=\"2507768681348984026.args[0]\"]\n\t-7737040241182541916 [label=5 id=-3794084279707917178]\n}",
         "label": "convert",
         "rule": ""
        },
        {
         "graph": "digraph {\n\tnode [shape=plain]\n\tedge [arrowsize=0.5 penwidth=0.5]\n\t-822018105368020607 [label=\"NDArray.to_ndarray\" id=-1341672716970475800]\n\t-822018105368020607 -> -130684388737434378 [id=\"-1341672716970475800.args[0]\"]\n\t-130684388737434378 [label=\"NDArray.__getitem__\" id=-130684388737434378]\n\t-130684388737434378 -> 7005412116804673500 [id=\"-130684388737434378.args[0]\"]\n\t7005412116804673500 [label=\"NDArray.__add__\" id=7005412116804673500]\n\t7005412116804673500 -> 832424711665835764 [id=\"7005412116804673500.args[0]\"]\n\t832424711665835764 [label=arange_ id=832424711665835764]\n\t832424711665835764 -> -1313138448651871637 [id=\"832424711665835764.args[0]\"]\n\t-1313138448651871637 [label=\"Integer.from_int\" id=-1313138448651871637]\n\t-1313138448651871637 -> -7737040241287546841 [id=\"-1313138448651871637.args[0]\"]\n\t-7737040241287546841 [label=100 id=-5945887149520679823]\n\t7005412116804673500 -> 832424711665835764 [id=\"7005412116804673500.args[1]\"]\n\t-130684388737434378 -> -8215238012704140842 [id=\"-130684388737434378.args[1]\"]\n\t-8215238012704140842 [label=\"Either.left\" id=-8215238012704140842]\n\t-8215238012704140842 -> 2507768681348984026 [id=\"-8215238012704140842.args[0]\"]\n\t2507768681348984026 [label=\"Integer.from_int\" id=2507768681348984026]\n\t2507768681348984026 -> -7737040241182541916 [id=\"2507768681348984026.args[0]\"]\n\t-7737040241182541916 [label=5 id=-3794084279707917178]\n}",
         "label": null,
         "rule": "metadsl_core.numpy.box_unbox_ndarray_compat"
        },
        {
         "graph": "digraph {\n\tnode [shape=plain]\n\tedge [arrowsize=0.5 penwidth=0.5]\n\t8167130955151987028 [label=ndarray_getitem id=-1341672716970475800]\n\t8167130955151987028 -> -5924177586350510988 [id=\"-1341672716970475800.args[0]\"]\n\t-5924177586350510988 [label=\"NDArray.to_ndarray\" id=-5924177586350510988]\n\t-5924177586350510988 -> 7005412116804673500 [id=\"-5924177586350510988.args[0]\"]\n\t7005412116804673500 [label=\"NDArray.__add__\" id=7005412116804673500]\n\t7005412116804673500 -> 832424711665835764 [id=\"7005412116804673500.args[0]\"]\n\t832424711665835764 [label=arange_ id=832424711665835764]\n\t832424711665835764 -> -1313138448651871637 [id=\"832424711665835764.args[0]\"]\n\t-1313138448651871637 [label=\"Integer.from_int\" id=-1313138448651871637]\n\t-1313138448651871637 -> -7737040241287546841 [id=\"-1313138448651871637.args[0]\"]\n\t-7737040241287546841 [label=100 id=-5945887149520679823]\n\t7005412116804673500 -> 832424711665835764 [id=\"7005412116804673500.args[1]\"]\n\t8167130955151987028 -> -3794084279707917178 [id=\"-1341672716970475800.args[1]\"]\n\t-3794084279707917178 [label=unbox_idxs id=-3794084279707917178]\n\t-3794084279707917178 -> -8215238012704140842 [id=\"-3794084279707917178.args[0]\"]\n\t-8215238012704140842 [label=\"Either.left\" id=-8215238012704140842]\n\t-8215238012704140842 -> 2507768681348984026 [id=\"-8215238012704140842.args[0]\"]\n\t2507768681348984026 [label=\"Integer.from_int\" id=2507768681348984026]\n\t2507768681348984026 -> -7737040241182541916 [id=\"2507768681348984026.args[0]\"]\n\t-7737040241182541916 [label=5 id=-3794084279707917178]\n}",
         "label": null,
         "rule": "metadsl_core.numpy_engine.unbox_ndarray_getitem"
        },
        {
         "graph": "digraph {\n\tnode [shape=plain]\n\tedge [arrowsize=0.5 penwidth=0.5]\n\t-1936177253702646637 [label=ndarray_getitem id=-1341672716970475800]\n\t-1936177253702646637 -> -5924177586350510988 [id=\"-1341672716970475800.args[0]\"]\n\t-5924177586350510988 [label=\"NDArray.to_ndarray\" id=-5924177586350510988]\n\t-5924177586350510988 -> 7005412116804673500 [id=\"-5924177586350510988.args[0]\"]\n\t7005412116804673500 [label=\"NDArray.__add__\" id=7005412116804673500]\n\t7005412116804673500 -> 832424711665835764 [id=\"7005412116804673500.args[0]\"]\n\t832424711665835764 [label=arange_ id=832424711665835764]\n\t832424711665835764 -> -1313138448651871637 [id=\"832424711665835764.args[0]\"]\n\t-1313138448651871637 [label=\"Integer.from_int\" id=-1313138448651871637]\n\t-1313138448651871637 -> -7737040241287546841 [id=\"-1313138448651871637.args[0]\"]\n\t-7737040241287546841 [label=100 id=-5945887149520679823]\n\t7005412116804673500 -> 832424711665835764 [id=\"7005412116804673500.args[1]\"]\n\t-1936177253702646637 -> 7733020047603416001 [id=\"-1341672716970475800.args[1]\"]\n\t7733020047603416001 [label=unbox_integer id=-3794084279707917178]\n\t7733020047603416001 -> 2507768681348984026 [id=\"-3794084279707917178.args[0]\"]\n\t2507768681348984026 [label=\"Integer.from_int\" id=2507768681348984026]\n\t2507768681348984026 -> -7737040241182541916 [id=\"2507768681348984026.args[0]\"]\n\t-7737040241182541916 [label=5 id=-3794084279707917178]\n}",
         "label": null,
         "rule": "metadsl_core.numpy_engine.unbox_idxs_rule"
        },
        {
         "graph": "digraph {\n\tnode [shape=plain]\n\tedge [arrowsize=0.5 penwidth=0.5]\n\t-2443851899239552952 [label=ndarray_getitem id=-1341672716970475800]\n\t-2443851899239552952 -> -5924177586350510988 [id=\"-1341672716970475800.args[0]\"]\n\t-5924177586350510988 [label=\"NDArray.to_ndarray\" id=-5924177586350510988]\n\t-5924177586350510988 -> 7005412116804673500 [id=\"-5924177586350510988.args[0]\"]\n\t7005412116804673500 [label=\"NDArray.__add__\" id=7005412116804673500]\n\t7005412116804673500 -> 832424711665835764 [id=\"7005412116804673500.args[0]\"]\n\t832424711665835764 [label=arange_ id=832424711665835764]\n\t832424711665835764 -> -1313138448651871637 [id=\"832424711665835764.args[0]\"]\n\t-1313138448651871637 [label=\"Integer.from_int\" id=-1313138448651871637]\n\t-1313138448651871637 -> -7737040241287546841 [id=\"-1313138448651871637.args[0]\"]\n\t-7737040241287546841 [label=100 id=-5945887149520679823]\n\t7005412116804673500 -> 832424711665835764 [id=\"7005412116804673500.args[1]\"]\n\t-2443851899239552952 -> -7737040241182541916 [id=\"-1341672716970475800.args[1]\"]\n\t-7737040241182541916 [label=5 id=-3794084279707917178]\n}",
         "label": null,
         "rule": "metadsl_core.numpy_engine.unbox_integer_rule"
        },
        {
         "graph": "digraph {\n\tnode [shape=plain]\n\tedge [arrowsize=0.5 penwidth=0.5]\n\t3451160987612206579 [label=ndarray_getitem id=-1341672716970475800]\n\t3451160987612206579 -> -605144421018846031 [id=\"-1341672716970475800.args[0]\"]\n\t-605144421018846031 [label=ndarray_add id=-5924177586350510988]\n\t-605144421018846031 -> -4554451458422625093 [id=\"-5924177586350510988.args[0]\"]\n\t-4554451458422625093 [label=\"NDArray.to_ndarray\" id=-4554451458422625093]\n\t-4554451458422625093 -> 832424711665835764 [id=\"-4554451458422625093.args[0]\"]\n\t832424711665835764 [label=arange_ id=832424711665835764]\n\t832424711665835764 -> -1313138448651871637 [id=\"832424711665835764.args[0]\"]\n\t-1313138448651871637 [label=\"Integer.from_int\" id=-1313138448651871637]\n\t-1313138448651871637 -> -7737040241287546841 [id=\"-1313138448651871637.args[0]\"]\n\t-7737040241287546841 [label=100 id=-5945887149520679823]\n\t-605144421018846031 -> -4554451458422625093 [id=\"-5924177586350510988.args[1]\"]\n\t3451160987612206579 -> -7737040241182541916 [id=\"-1341672716970475800.args[1]\"]\n\t-7737040241182541916 [label=5 id=-3794084279707917178]\n}",
         "label": null,
         "rule": "metadsl_core.numpy_engine.unbox_ndarray_add"
        },
        {
         "graph": "digraph {\n\tnode [shape=plain]\n\tedge [arrowsize=0.5 penwidth=0.5]\n\t-3617702396224439611 [label=ndarray_getitem id=-1341672716970475800]\n\t-3617702396224439611 -> 982187547023505739 [id=\"-1341672716970475800.args[0]\"]\n\t982187547023505739 [label=ndarray_add id=-5924177586350510988]\n\t982187547023505739 -> 6728931720816540191 [id=\"-5924177586350510988.args[0]\"]\n\t6728931720816540191 [label=arange id=-4554451458422625093]\n\t6728931720816540191 -> -5945887149520679823 [id=\"-4554451458422625093.args[0]\"]\n\t-5945887149520679823 [label=unbox_integer id=-5945887149520679823]\n\t-5945887149520679823 -> -1313138448651871637 [id=\"-5945887149520679823.args[0]\"]\n\t-1313138448651871637 [label=\"Integer.from_int\" id=-1313138448651871637]\n\t-1313138448651871637 -> -7737040241287546841 [id=\"-1313138448651871637.args[0]\"]\n\t-7737040241287546841 [label=100 id=-5945887149520679823]\n\t982187547023505739 -> 6728931720816540191 [id=\"-5924177586350510988.args[1]\"]\n\t-3617702396224439611 -> -7737040241182541916 [id=\"-1341672716970475800.args[1]\"]\n\t-7737040241182541916 [label=5 id=-3794084279707917178]\n}",
         "label": null,
         "rule": "metadsl_core.numpy_engine.unbox_arange"
        },
        {
         "graph": "digraph {\n\tnode [shape=plain]\n\tedge [arrowsize=0.5 penwidth=0.5]\n\t-1977950438652841629 [label=ndarray_getitem id=-1341672716970475800]\n\t-1977950438652841629 -> -1559019789466886495 [id=\"-1341672716970475800.args[0]\"]\n\t-1559019789466886495 [label=ndarray_add id=-5924177586350510988]\n\t-1559019789466886495 -> -5426302648562200192 [id=\"-5924177586350510988.args[0]\"]\n\t-5426302648562200192 [label=arange id=-4554451458422625093]\n\t-5426302648562200192 -> -7737040241287546841 [id=\"-4554451458422625093.args[0]\"]\n\t-7737040241287546841 [label=100 id=-5945887149520679823]\n\t-1559019789466886495 -> -5426302648562200192 [id=\"-5924177586350510988.args[1]\"]\n\t-1977950438652841629 -> -7737040241182541916 [id=\"-1341672716970475800.args[1]\"]\n\t-7737040241182541916 [label=5 id=-3794084279707917178]\n}",
         "label": null,
         "rule": "metadsl_core.numpy_engine.unbox_integer_rule"
        },
        {
         "graph": "digraph {\n\tnode [shape=plain]\n\tedge [arrowsize=0.5 penwidth=0.5]\n\t-1977950438652841629 [label=ndarray_getitem id=-1341672716970475800]\n\t-1977950438652841629 -> -1559019789466886495 [id=\"-1341672716970475800.args[0]\"]\n\t-1559019789466886495 [label=ndarray_add id=-5924177586350510988]\n\t-1559019789466886495 -> -5426302648562200192 [id=\"-5924177586350510988.args[0]\"]\n\t-5426302648562200192 [label=arange id=-4554451458422625093]\n\t-5426302648562200192 -> -7737040241287546841 [id=\"-4554451458422625093.args[0]\"]\n\t-7737040241287546841 [label=100 id=-5945887149520679823]\n\t-1559019789466886495 -> -5426302648562200192 [id=\"-5924177586350510988.args[1]\"]\n\t-1977950438652841629 -> -7737040241182541916 [id=\"-1341672716970475800.args[1]\"]\n\t-7737040241182541916 [label=5 id=-3794084279707917178]\n}",
         "label": "unbox",
         "rule": ""
        },
        {
         "graph": "digraph {\n\tnode [shape=plain]\n\tedge [arrowsize=0.5 penwidth=0.5]\n\t-2639700773170616961 [label=ndarray_getitem id=-1341672716970475800]\n\t-2639700773170616961 -> -113230044411850379 [id=\"-1341672716970475800.args[0]\"]\n\t-113230044411850379 [label=ndarray_add id=-5924177586350510988]\n\t-113230044411850379 -> -2445374449678023291 [id=\"-5924177586350510988.args[0]\"]\n\t-2445374449678023291 [label=\"array([ 0,  1,  2,  3,  4,  5,  6,  7,  8,  9, 10, 11, 12, 13, 14, 15, 16,\n       17, 18, 19, 20, 21, 22, 23, 24, 25, 26, 27, 28, 29, 30, 31, 32, 33,\n       34, 35, 36, 37, 38, 39, 40, 41, 42, 43, 44, 45, 46, 47, 48, 49, 50,\n       51, 52, 53, 54, 55, 56, 57, 58, 59, 60, 61, 62, 63, 64, 65, 66, 67,\n       68, 69, 70, 71, 72, 73, 74, 75, 76, 77, 78, 79, 80, 81, 82, 83, 84,\n       85, 86, 87, 88, 89, 90, 91, 92, 93, 94, 95, 96, 97, 98, 99])\" id=-4554451458422625093]\n\t-113230044411850379 -> -2445374449678023291 [id=\"-5924177586350510988.args[1]\"]\n\t-2639700773170616961 -> -7737040241182541916 [id=\"-1341672716970475800.args[1]\"]\n\t-7737040241182541916 [label=5 id=-3794084279707917178]\n}",
         "label": null,
         "rule": "metadsl_core.numpy_engine.arange"
        },
        {
         "graph": "digraph {\n\tnode [shape=plain]\n\tedge [arrowsize=0.5 penwidth=0.5]\n\t7356568875628748618 [label=ndarray_getitem id=-1341672716970475800]\n\t7356568875628748618 -> -2445372945765011691 [id=\"-1341672716970475800.args[0]\"]\n\t-2445372945765011691 [label=\"array([  0,   2,   4,   6,   8,  10,  12,  14,  16,  18,  20,  22,  24,\n        26,  28,  30,  32,  34,  36,  38,  40,  42,  44,  46,  48,  50,\n        52,  54,  56,  58,  60,  62,  64,  66,  68,  70,  72,  74,  76,\n        78,  80,  82,  84,  86,  88,  90,  92,  94,  96,  98, 100, 102,\n       104, 106, 108, 110, 112, 114, 116, 118, 120, 122, 124, 126, 128,\n       130, 132, 134, 136, 138, 140, 142, 144, 146, 148, 150, 152, 154,\n       156, 158, 160, 162, 164, 166, 168, 170, 172, 174, 176, 178, 180,\n       182, 184, 186, 188, 190, 192, 194, 196, 198])\" id=-5924177586350510988]\n\t7356568875628748618 -> -7737040241182541916 [id=\"-1341672716970475800.args[1]\"]\n\t-7737040241182541916 [label=5 id=-3794084279707917178]\n}",
         "label": null,
         "rule": "metadsl_core.numpy_engine.ndarray_add"
        },
        {
         "graph": "digraph {\n\tnode [shape=plain]\n\tedge [arrowsize=0.5 penwidth=0.5]\n\t-2445374578715003291 [label=\"array(10)\" id=-1341672716970475800]\n}",
         "label": null,
         "rule": "metadsl_core.numpy_engine.ndarray_getitem"
        },
        {
         "graph": "digraph {\n\tnode [shape=plain]\n\tedge [arrowsize=0.5 penwidth=0.5]\n\t-2445374578715003291 [label=\"array(10)\" id=-1341672716970475800]\n}",
         "label": "execute",
         "rule": ""
        }
       ]
      },
      "text/plain": [
       "Typez(definitions=None, nodes={'-7737040241287546841': ['-5945887149520679823', PrimitiveNode(type='int', repr='100')], '1450785392786500356': ['1450785392786500356', CallNode(function='arange', type_params=None, args=['-7737040241287546841'], kwargs=None)], '7129645178974278596': ['7129645178974278596', CallNode(function='NDArrayCompat.__add__', type_params=None, args=['1450785392786500356', '1450785392786500356'], kwargs=None)], '-7737040241182541916': ['-3794084279707917178', PrimitiveNode(type='int', repr='5')], '-4772016795270189587': ['-4772016795270189587', CallNode(function='NDArrayCompat.__getitem__', type_params=None, args=['7129645178974278596', '-7737040241182541916'], kwargs=None)], '-1341672716970475800': ['-1341672716970475800', CallNode(function='NDArrayCompat.to_ndarray', type_params=None, args=['-4772016795270189587'], kwargs=None)], '-2410300585153220666': ['-2410300585153220666', CallNode(function='Converter.convert', type_params={'T': DeclaredTypeInstance(type='NDArray', params=None)}, args=['7129645178974278596'], kwargs=None)], '6119802382549264123': ['6119802382549264123', CallNode(function='Converter.convert', type_params={'T': DeclaredTypeInstance(type='Either', params={'U': DeclaredTypeInstance(type='Vec', params={'T': DeclaredTypeInstance(type='Integer', params=None)}), 'T': DeclaredTypeInstance(type='Integer', params=None)})}, args=['-7737040241182541916'], kwargs=None)], '8017410877576515236': ['8017410877576515236', CallNode(function='Maybe.__and__', type_params={'T': DeclaredTypeInstance(type='NDArray', params=None)}, args=['-2410300585153220666', '6119802382549264123'], kwargs=None)], '1487200333614558642': ['1487200333614558642', PrimitiveNode(type='function', repr='<function NDArrayCompat.__getitem__.<locals>.<lambda> at 0x11be0dea0>')], '-871166542655442750': ['-871166542655442750', CallNode(function='Abstraction.from_fn', type_params={'U': DeclaredTypeInstance(type='NDArray', params=None), 'T': DeclaredTypeInstance(type='Pair', params={'U': DeclaredTypeInstance(type='Either', params={'U': DeclaredTypeInstance(type='Vec', params={'T': DeclaredTypeInstance(type='Integer', params=None)}), 'T': DeclaredTypeInstance(type='Integer', params=None)}), 'T': DeclaredTypeInstance(type='NDArray', params=None)})}, args=['1487200333614558642'], kwargs=None)], '6939635006650947043': ['6939635006650947043', CallNode(function='Maybe.map', type_params={'T': DeclaredTypeInstance(type='Pair', params={'U': DeclaredTypeInstance(type='Either', params={'U': DeclaredTypeInstance(type='Vec', params={'T': DeclaredTypeInstance(type='Integer', params=None)}), 'T': DeclaredTypeInstance(type='Integer', params=None)}), 'T': DeclaredTypeInstance(type='NDArray', params=None)})}, args=['8017410877576515236', '-871166542655442750'], kwargs=None)], '3504610103229471849': ['-4772016795270189587', CallNode(function='NDArrayCompat.from_ndarray', type_params=None, args=['6939635006650947043'], kwargs=None)], '4401045127674937437': ['-1341672716970475800', CallNode(function='NDArrayCompat.to_ndarray', type_params=None, args=['3504610103229471849'], kwargs=None)], '-4716166471986464590': ['-4716166471986464590', CallNode(function='Converter.convert', type_params={'T': DeclaredTypeInstance(type='Integer', params=None)}, args=['-7737040241182541916'], kwargs=None)], '-4896702136590049048': ['-4896702136590049048', PrimitiveNode(type='BoundInfer', repr='Either.left')], '-6964590781432730370': ['-6964590781432730370', CallNode(function='Abstraction.from_fn', type_params=None, args=['-4896702136590049048'], kwargs=None)], '-5297356175593613083': ['-5297356175593613083', CallNode(function='Maybe.map', type_params={'T': DeclaredTypeInstance(type='Integer', params=None)}, args=['-4716166471986464590', '-6964590781432730370'], kwargs=None)], '-7726250483385592724': ['-7726250483385592724', CallNode(function='Converter.convert', type_params={'T': DeclaredTypeInstance(type='Vec', params={'T': DeclaredTypeInstance(type='Integer', params=None)})}, args=['-7737040241182541916'], kwargs=None)], '997777855050798697': ['997777855050798697', PrimitiveNode(type='BoundInfer', repr='Either.right')], '5566425489881085421': ['5566425489881085421', CallNode(function='Abstraction.from_fn', type_params=None, args=['997777855050798697'], kwargs=None)], '205164300450344970': ['205164300450344970', CallNode(function='Maybe.map', type_params={'T': DeclaredTypeInstance(type='Vec', params={'T': DeclaredTypeInstance(type='Integer', params=None)})}, args=['-7726250483385592724', '5566425489881085421'], kwargs=None)], '-1294418605310832295': ['6119802382549264123', CallNode(function='Maybe.__or__', type_params={'T': DeclaredTypeInstance(type='Either', params={'U': DeclaredTypeInstance(type='Vec', params={'T': DeclaredTypeInstance(type='Integer', params=None)}), 'T': DeclaredTypeInstance(type='Integer', params=None)})}, args=['-5297356175593613083', '205164300450344970'], kwargs=None)], '-2079565683212384912': ['8017410877576515236', CallNode(function='Maybe.__and__', type_params={'T': DeclaredTypeInstance(type='NDArray', params=None)}, args=['-2410300585153220666', '-1294418605310832295'], kwargs=None)], '-1273642328414840872': ['6939635006650947043', CallNode(function='Maybe.map', type_params={'T': DeclaredTypeInstance(type='Pair', params={'U': DeclaredTypeInstance(type='Either', params={'U': DeclaredTypeInstance(type='Vec', params={'T': DeclaredTypeInstance(type='Integer', params=None)}), 'T': DeclaredTypeInstance(type='Integer', params=None)}), 'T': DeclaredTypeInstance(type='NDArray', params=None)})}, args=['-2079565683212384912', '-871166542655442750'], kwargs=None)], '-5163977376757507089': ['-4772016795270189587', CallNode(function='NDArrayCompat.from_ndarray', type_params=None, args=['-1273642328414840872'], kwargs=None)], '-5414010870836819202': ['-1341672716970475800', CallNode(function='NDArrayCompat.to_ndarray', type_params=None, args=['-5163977376757507089'], kwargs=None)], '2507768681348984026': ['2507768681348984026', CallNode(function='Integer.from_int', type_params=None, args=['-7737040241182541916'], kwargs=None)], '-1372317109959694973': ['-1372317109959694973', CallNode(function='Maybe.just', type_params=None, args=['2507768681348984026'], kwargs=None)], '6054610842773739130': ['-5297356175593613083', CallNode(function='Maybe.map', type_params={'T': DeclaredTypeInstance(type='Integer', params=None)}, args=['-1372317109959694973', '-6964590781432730370'], kwargs=None)], '-2718709984261421422': ['6119802382549264123', CallNode(function='Maybe.__or__', type_params={'T': DeclaredTypeInstance(type='Either', params={'U': DeclaredTypeInstance(type='Vec', params={'T': DeclaredTypeInstance(type='Integer', params=None)}), 'T': DeclaredTypeInstance(type='Integer', params=None)})}, args=['6054610842773739130', '205164300450344970'], kwargs=None)], '386925839975183864': ['8017410877576515236', CallNode(function='Maybe.__and__', type_params={'T': DeclaredTypeInstance(type='NDArray', params=None)}, args=['-2410300585153220666', '-2718709984261421422'], kwargs=None)], '3324258206112810864': ['6939635006650947043', CallNode(function='Maybe.map', type_params={'T': DeclaredTypeInstance(type='Pair', params={'U': DeclaredTypeInstance(type='Either', params={'U': DeclaredTypeInstance(type='Vec', params={'T': DeclaredTypeInstance(type='Integer', params=None)}), 'T': DeclaredTypeInstance(type='Integer', params=None)}), 'T': DeclaredTypeInstance(type='NDArray', params=None)})}, args=['386925839975183864', '-871166542655442750'], kwargs=None)], '-1706374237541123582': ['-4772016795270189587', CallNode(function='NDArrayCompat.from_ndarray', type_params=None, args=['3324258206112810864'], kwargs=None)], '4400521622520585941': ['-1341672716970475800', CallNode(function='NDArrayCompat.to_ndarray', type_params=None, args=['-1706374237541123582'], kwargs=None)], '-4308935643043434189': ['-4308935643043434189', CallNode(function='Converter.convert', type_params={'T': DeclaredTypeInstance(type='Integer', params=None)}, args=['-7737040241287546841'], kwargs=None)], '-5685572929299947036': ['-5685572929299947036', PrimitiveNode(type='Infer', repr='arange_')], '577873550496070922': ['577873550496070922', CallNode(function='Abstraction.from_fn', type_params=None, args=['-5685572929299947036'], kwargs=None)], '-8896708649560101528': ['-8896708649560101528', CallNode(function='Maybe.map', type_params={'T': DeclaredTypeInstance(type='Integer', params=None)}, args=['-4308935643043434189', '577873550496070922'], kwargs=None)], '4767376851968140894': ['1450785392786500356', CallNode(function='NDArrayCompat.from_ndarray', type_params=None, args=['-8896708649560101528'], kwargs=None)], '-1828603300170214036': ['7129645178974278596', CallNode(function='NDArrayCompat.__add__', type_params=None, args=['4767376851968140894', '4767376851968140894'], kwargs=None)], '1132426380630645017': ['-2410300585153220666', CallNode(function='Converter.convert', type_params={'T': DeclaredTypeInstance(type='NDArray', params=None)}, args=['-1828603300170214036'], kwargs=None)], '-3104718932427049796': ['8017410877576515236', CallNode(function='Maybe.__and__', type_params={'T': DeclaredTypeInstance(type='NDArray', params=None)}, args=['1132426380630645017', '-2718709984261421422'], kwargs=None)], '7115793578483162895': ['6939635006650947043', CallNode(function='Maybe.map', type_params={'T': DeclaredTypeInstance(type='Pair', params={'U': DeclaredTypeInstance(type='Either', params={'U': DeclaredTypeInstance(type='Vec', params={'T': DeclaredTypeInstance(type='Integer', params=None)}), 'T': DeclaredTypeInstance(type='Integer', params=None)}), 'T': DeclaredTypeInstance(type='NDArray', params=None)})}, args=['-3104718932427049796', '-871166542655442750'], kwargs=None)], '1609525582419339293': ['-4772016795270189587', CallNode(function='NDArrayCompat.from_ndarray', type_params=None, args=['7115793578483162895'], kwargs=None)], '4200151974066499054': ['-1341672716970475800', CallNode(function='NDArrayCompat.to_ndarray', type_params=None, args=['1609525582419339293'], kwargs=None)], '-1313138448651871637': ['-1313138448651871637', CallNode(function='Integer.from_int', type_params=None, args=['-7737040241287546841'], kwargs=None)], '-6059403141323843149': ['-6059403141323843149', CallNode(function='Maybe.just', type_params=None, args=['-1313138448651871637'], kwargs=None)], '37540587745940159': ['-8896708649560101528', CallNode(function='Maybe.map', type_params={'T': DeclaredTypeInstance(type='Integer', params=None)}, args=['-6059403141323843149', '577873550496070922'], kwargs=None)], '-8012671916351216724': ['1450785392786500356', CallNode(function='NDArrayCompat.from_ndarray', type_params=None, args=['37540587745940159'], kwargs=None)], '-6584392053997967718': ['7129645178974278596', CallNode(function='NDArrayCompat.__add__', type_params=None, args=['-8012671916351216724', '-8012671916351216724'], kwargs=None)], '4408648251278560909': ['-2410300585153220666', CallNode(function='Converter.convert', type_params={'T': DeclaredTypeInstance(type='NDArray', params=None)}, args=['-6584392053997967718'], kwargs=None)], '4963759302425763067': ['8017410877576515236', CallNode(function='Maybe.__and__', type_params={'T': DeclaredTypeInstance(type='NDArray', params=None)}, args=['4408648251278560909', '-2718709984261421422'], kwargs=None)], '8577593290393460617': ['6939635006650947043', CallNode(function='Maybe.map', type_params={'T': DeclaredTypeInstance(type='Pair', params={'U': DeclaredTypeInstance(type='Either', params={'U': DeclaredTypeInstance(type='Vec', params={'T': DeclaredTypeInstance(type='Integer', params=None)}), 'T': DeclaredTypeInstance(type='Integer', params=None)}), 'T': DeclaredTypeInstance(type='NDArray', params=None)})}, args=['4963759302425763067', '-871166542655442750'], kwargs=None)], '61788817184424843': ['-4772016795270189587', CallNode(function='NDArrayCompat.from_ndarray', type_params=None, args=['8577593290393460617'], kwargs=None)], '-6295496828373215480': ['-1341672716970475800', CallNode(function='NDArrayCompat.to_ndarray', type_params=None, args=['61788817184424843'], kwargs=None)], '-4268939921069936459': ['-4268939921069936459', PrimitiveNode(type='Variable', repr='Variable(4763018240)')], '-4167769655553708545': ['-4167769655553708545', CallNode(function='Abstraction.create_variable', type_params={'U': DeclaredTypeInstance(type='NDArray', params=None), 'T': DeclaredTypeInstance(type='Pair', params={'U': DeclaredTypeInstance(type='Either', params={'U': DeclaredTypeInstance(type='Vec', params={'T': DeclaredTypeInstance(type='Integer', params=None)}), 'T': DeclaredTypeInstance(type='Integer', params=None)}), 'T': DeclaredTypeInstance(type='NDArray', params=None)})}, args=['-4268939921069936459'], kwargs=None)], '-1612977471603230740': ['-1612977471603230740', CallNode(function='Pair.left', type_params={'U': DeclaredTypeInstance(type='Either', params={'U': DeclaredTypeInstance(type='Vec', params={'T': DeclaredTypeInstance(type='Integer', params=None)}), 'T': DeclaredTypeInstance(type='Integer', params=None)}), 'T': DeclaredTypeInstance(type='NDArray', params=None)}, args=['-4167769655553708545'], kwargs=None)], '-6366347408110540668': ['-6366347408110540668', CallNode(function='Pair.right', type_params={'U': DeclaredTypeInstance(type='Either', params={'U': DeclaredTypeInstance(type='Vec', params={'T': DeclaredTypeInstance(type='Integer', params=None)}), 'T': DeclaredTypeInstance(type='Integer', params=None)}), 'T': DeclaredTypeInstance(type='NDArray', params=None)}, args=['-4167769655553708545'], kwargs=None)], '-8285762096060248770': ['-8285762096060248770', CallNode(function='NDArray.__getitem__', type_params=None, args=['-1612977471603230740', '-6366347408110540668'], kwargs=None)], '8044185514099529250': ['8044185514099529250', CallNode(function='Abstraction.create', type_params={'U': DeclaredTypeInstance(type='NDArray', params=None), 'T': DeclaredTypeInstance(type='Pair', params={'U': DeclaredTypeInstance(type='Either', params={'U': DeclaredTypeInstance(type='Vec', params={'T': DeclaredTypeInstance(type='Integer', params=None)}), 'T': DeclaredTypeInstance(type='Integer', params=None)}), 'T': DeclaredTypeInstance(type='NDArray', params=None)})}, args=['-4167769655553708545', '-8285762096060248770'], kwargs=None)], '3351888507285081000': ['6939635006650947043', CallNode(function='Maybe.map', type_params={'T': DeclaredTypeInstance(type='Pair', params={'U': DeclaredTypeInstance(type='Either', params={'U': DeclaredTypeInstance(type='Vec', params={'T': DeclaredTypeInstance(type='Integer', params=None)}), 'T': DeclaredTypeInstance(type='Integer', params=None)}), 'T': DeclaredTypeInstance(type='NDArray', params=None)})}, args=['4963759302425763067', '8044185514099529250'], kwargs=None)], '-57591596287814518': ['-4772016795270189587', CallNode(function='NDArrayCompat.from_ndarray', type_params=None, args=['3351888507285081000'], kwargs=None)], '2324675140344447997': ['-1341672716970475800', CallNode(function='NDArrayCompat.to_ndarray', type_params=None, args=['-57591596287814518'], kwargs=None)], '4954432134779905524': ['4954432134779905524', PrimitiveNode(type='Variable', repr='Variable(4763172088)')], '-3343294864562084740': ['-3343294864562084740', CallNode(function='Abstraction.create_variable', type_params={'U': DeclaredTypeInstance(type='Either', params={'U': DeclaredTypeInstance(type='Vec', params={'T': DeclaredTypeInstance(type='Integer', params=None)}), 'T': DeclaredTypeInstance(type='Integer', params=None)}), 'T': DeclaredTypeInstance(type='Vec', params={'T': DeclaredTypeInstance(type='Integer', params=None)})}, args=['4954432134779905524'], kwargs=None)], '-5480872129034902157': ['-5480872129034902157', CallNode(function='Either.right', type_params={'U': DeclaredTypeInstance(type='Vec', params={'T': DeclaredTypeInstance(type='Integer', params=None)}), 'T': DeclaredTypeInstance(type='Integer', params=None)}, args=['-3343294864562084740'], kwargs=None)], '-2838797792369224052': ['-2838797792369224052', CallNode(function='Abstraction.create', type_params={'U': DeclaredTypeInstance(type='Either', params={'U': DeclaredTypeInstance(type='Vec', params={'T': DeclaredTypeInstance(type='Integer', params=None)}), 'T': DeclaredTypeInstance(type='Integer', params=None)}), 'T': DeclaredTypeInstance(type='Vec', params={'T': DeclaredTypeInstance(type='Integer', params=None)})}, args=['-3343294864562084740', '-5480872129034902157'], kwargs=None)], '-686259872675126378': ['-686259872675126378', CallNode(function='Maybe.map', type_params={'T': DeclaredTypeInstance(type='Vec', params={'T': DeclaredTypeInstance(type='Integer', params=None)})}, args=['-7726250483385592724', '-2838797792369224052'], kwargs=None)], '-4219785196091962386': ['6119802382549264123', CallNode(function='Maybe.__or__', type_params={'T': DeclaredTypeInstance(type='Either', params={'U': DeclaredTypeInstance(type='Vec', params={'T': DeclaredTypeInstance(type='Integer', params=None)}), 'T': DeclaredTypeInstance(type='Integer', params=None)})}, args=['6054610842773739130', '-686259872675126378'], kwargs=None)], '-3356027047693951489': ['8017410877576515236', CallNode(function='Maybe.__and__', type_params={'T': DeclaredTypeInstance(type='NDArray', params=None)}, args=['4408648251278560909', '-4219785196091962386'], kwargs=None)], '-7305766661394700437': ['6939635006650947043', CallNode(function='Maybe.map', type_params={'T': DeclaredTypeInstance(type='Pair', params={'U': DeclaredTypeInstance(type='Either', params={'U': DeclaredTypeInstance(type='Vec', params={'T': DeclaredTypeInstance(type='Integer', params=None)}), 'T': DeclaredTypeInstance(type='Integer', params=None)}), 'T': DeclaredTypeInstance(type='NDArray', params=None)})}, args=['-3356027047693951489', '8044185514099529250'], kwargs=None)], '8066782273380513599': ['-4772016795270189587', CallNode(function='NDArrayCompat.from_ndarray', type_params=None, args=['-7305766661394700437'], kwargs=None)], '1908381767751359253': ['-1341672716970475800', CallNode(function='NDArrayCompat.to_ndarray', type_params=None, args=['8066782273380513599'], kwargs=None)], '4954432145743718724': ['4954432145743718724', PrimitiveNode(type='Variable', repr='Variable(4763330040)')], '-4838891889665744714': ['-4838891889665744714', CallNode(function='Abstraction.create_variable', type_params={'U': DeclaredTypeInstance(type='Either', params={'U': DeclaredTypeInstance(type='Vec', params={'T': DeclaredTypeInstance(type='Integer', params=None)}), 'T': DeclaredTypeInstance(type='Integer', params=None)}), 'T': DeclaredTypeInstance(type='Integer', params=None)}, args=['4954432145743718724'], kwargs=None)], '-5428197908604838827': ['-5428197908604838827', CallNode(function='Either.left', type_params={'U': DeclaredTypeInstance(type='Vec', params={'T': DeclaredTypeInstance(type='Integer', params=None)}), 'T': DeclaredTypeInstance(type='Integer', params=None)}, args=['-4838891889665744714'], kwargs=None)], '-3632599159356222693': ['-3632599159356222693', CallNode(function='Abstraction.create', type_params={'U': DeclaredTypeInstance(type='Either', params={'U': DeclaredTypeInstance(type='Vec', params={'T': DeclaredTypeInstance(type='Integer', params=None)}), 'T': DeclaredTypeInstance(type='Integer', params=None)}), 'T': DeclaredTypeInstance(type='Integer', params=None)}, args=['-4838891889665744714', '-5428197908604838827'], kwargs=None)], '5626037285224763133': ['5626037285224763133', CallNode(function='Maybe.map', type_params={'T': DeclaredTypeInstance(type='Integer', params=None)}, args=['-1372317109959694973', '-3632599159356222693'], kwargs=None)], '-4179875107795948895': ['-4179875107795948895', CallNode(function='Maybe.__or__', type_params={'T': DeclaredTypeInstance(type='Either', params={'U': DeclaredTypeInstance(type='Vec', params={'T': DeclaredTypeInstance(type='Integer', params=None)}), 'T': DeclaredTypeInstance(type='Integer', params=None)})}, args=['5626037285224763133', '-686259872675126378'], kwargs=None)], '-1106245085015694132': ['8017410877576515236', CallNode(function='Maybe.__and__', type_params={'T': DeclaredTypeInstance(type='NDArray', params=None)}, args=['4408648251278560909', '-4179875107795948895'], kwargs=None)], '-2827158518281892059': ['6939635006650947043', CallNode(function='Maybe.map', type_params={'T': DeclaredTypeInstance(type='Pair', params={'U': DeclaredTypeInstance(type='Either', params={'U': DeclaredTypeInstance(type='Vec', params={'T': DeclaredTypeInstance(type='Integer', params=None)}), 'T': DeclaredTypeInstance(type='Integer', params=None)}), 'T': DeclaredTypeInstance(type='NDArray', params=None)})}, args=['-1106245085015694132', '8044185514099529250'], kwargs=None)], '5377129414771497715': ['-4772016795270189587', CallNode(function='NDArrayCompat.from_ndarray', type_params=None, args=['-2827158518281892059'], kwargs=None)], '-3277789661791732314': ['-1341672716970475800', CallNode(function='NDArrayCompat.to_ndarray', type_params=None, args=['5377129414771497715'], kwargs=None)], '4954432122860222749': ['4954432122860222749', PrimitiveNode(type='Variable', repr='Variable(4763110536)')], '5534931599655894334': ['5534931599655894334', CallNode(function='Abstraction.create_variable', type_params={'U': DeclaredTypeInstance(type='NDArray', params=None), 'T': DeclaredTypeInstance(type='Integer', params=None)}, args=['4954432122860222749'], kwargs=None)], '-3508081724970013213': ['-3508081724970013213', CallNode(function='arange_', type_params=None, args=['5534931599655894334'], kwargs=None)], '-4643297354090513087': ['-4643297354090513087', CallNode(function='Abstraction.create', type_params={'U': DeclaredTypeInstance(type='NDArray', params=None), 'T': DeclaredTypeInstance(type='Integer', params=None)}, args=['5534931599655894334', '-3508081724970013213'], kwargs=None)], '-6175040583256772104': ['-6175040583256772104', CallNode(function='Maybe.map', type_params={'T': DeclaredTypeInstance(type='Integer', params=None)}, args=['-6059403141323843149', '-4643297354090513087'], kwargs=None)], '-8766707318650306503': ['-8766707318650306503', CallNode(function='NDArrayCompat.from_ndarray', type_params=None, args=['-6175040583256772104'], kwargs=None)], '-5882035132617130320': ['-5882035132617130320', CallNode(function='NDArrayCompat.__add__', type_params=None, args=['-8766707318650306503', '-8766707318650306503'], kwargs=None)], '-1749051929928717773': ['-1749051929928717773', CallNode(function='Converter.convert', type_params={'T': DeclaredTypeInstance(type='NDArray', params=None)}, args=['-5882035132617130320'], kwargs=None)], '-2745558395708079455': ['-2745558395708079455', CallNode(function='Maybe.__and__', type_params={'T': DeclaredTypeInstance(type='NDArray', params=None)}, args=['-1749051929928717773', '-4179875107795948895'], kwargs=None)], '339927863618753833': ['6939635006650947043', CallNode(function='Maybe.map', type_params={'T': DeclaredTypeInstance(type='Pair', params={'U': DeclaredTypeInstance(type='Either', params={'U': DeclaredTypeInstance(type='Vec', params={'T': DeclaredTypeInstance(type='Integer', params=None)}), 'T': DeclaredTypeInstance(type='Integer', params=None)}), 'T': DeclaredTypeInstance(type='NDArray', params=None)})}, args=['-2745558395708079455', '8044185514099529250'], kwargs=None)], '2409960499730573834': ['-4772016795270189587', CallNode(function='NDArrayCompat.from_ndarray', type_params=None, args=['339927863618753833'], kwargs=None)], '5209810089249904264': ['-1341672716970475800', CallNode(function='NDArrayCompat.to_ndarray', type_params=None, args=['2409960499730573834'], kwargs=None)], '9032834383112645395': ['9032834383112645395', CallNode(function='Maybe.nothing', type_params={'T': DeclaredTypeInstance(type='NDArray', params=None)}, args=None, kwargs=None)], '-4855096197904090350': ['-4855096197904090350', PrimitiveNode(type='BoundInfer', repr='Maybe.just')], '-1894269937027086384': ['-1894269937027086384', CallNode(function='Abstraction.from_fn', type_params=None, args=['-4855096197904090350'], kwargs=None)], '1513986338388351247': ['1513986338388351247', CallNode(function='Abstraction.__add__', type_params={'U': DeclaredTypeInstance(type='Maybe', params={'T': DeclaredTypeInstance(type='NDArray', params=None)}), 'T': DeclaredTypeInstance(type='NDArray', params=None)}, args=['-1894269937027086384', '8044185514099529250'], kwargs=None)], '8187099859529184916': ['6939635006650947043', CallNode(function='Maybe.match', type_params={'T': DeclaredTypeInstance(type='Pair', params={'U': DeclaredTypeInstance(type='Either', params={'U': DeclaredTypeInstance(type='Vec', params={'T': DeclaredTypeInstance(type='Integer', params=None)}), 'T': DeclaredTypeInstance(type='Integer', params=None)}), 'T': DeclaredTypeInstance(type='NDArray', params=None)})}, args=['-2745558395708079455', '9032834383112645395', '1513986338388351247'], kwargs=None)], '8444130643071199444': ['-4772016795270189587', CallNode(function='NDArrayCompat.from_ndarray', type_params=None, args=['8187099859529184916'], kwargs=None)], '-662424398955294436': ['-1341672716970475800', CallNode(function='NDArrayCompat.to_ndarray', type_params=None, args=['8444130643071199444'], kwargs=None)], '542625740483342888': ['542625740483342888', CallNode(function='Maybe.nothing', type_params={'T': DeclaredTypeInstance(type='Either', params={'U': DeclaredTypeInstance(type='Vec', params={'T': DeclaredTypeInstance(type='Integer', params=None)}), 'T': DeclaredTypeInstance(type='Integer', params=None)})}, args=None, kwargs=None)], '-944428355994881963': ['-944428355994881963', PrimitiveNode(type='BoundInfer', repr='Maybe.just')], '2013462788875869881': ['2013462788875869881', CallNode(function='Abstraction.from_fn', type_params=None, args=['-944428355994881963'], kwargs=None)], '-3933652525115683988': ['-3933652525115683988', CallNode(function='Abstraction.__add__', type_params={'U': DeclaredTypeInstance(type='Maybe', params={'T': DeclaredTypeInstance(type='Either', params={'U': DeclaredTypeInstance(type='Vec', params={'T': DeclaredTypeInstance(type='Integer', params=None)}), 'T': DeclaredTypeInstance(type='Integer', params=None)})}), 'T': DeclaredTypeInstance(type='Either', params={'U': DeclaredTypeInstance(type='Vec', params={'T': DeclaredTypeInstance(type='Integer', params=None)}), 'T': DeclaredTypeInstance(type='Integer', params=None)})}, args=['2013462788875869881', '-2838797792369224052'], kwargs=None)], '7354692970200033373': ['-686259872675126378', CallNode(function='Maybe.match', type_params={'T': DeclaredTypeInstance(type='Vec', params={'T': DeclaredTypeInstance(type='Integer', params=None)})}, args=['-7726250483385592724', '542625740483342888', '-3933652525115683988'], kwargs=None)], '2276041996103891735': ['-4179875107795948895', CallNode(function='Maybe.__or__', type_params={'T': DeclaredTypeInstance(type='Either', params={'U': DeclaredTypeInstance(type='Vec', params={'T': DeclaredTypeInstance(type='Integer', params=None)}), 'T': DeclaredTypeInstance(type='Integer', params=None)})}, args=['5626037285224763133', '7354692970200033373'], kwargs=None)], '6692383433071077384': ['-2745558395708079455', CallNode(function='Maybe.__and__', type_params={'T': DeclaredTypeInstance(type='NDArray', params=None)}, args=['-1749051929928717773', '2276041996103891735'], kwargs=None)], '-1315959686832490410': ['6939635006650947043', CallNode(function='Maybe.match', type_params={'T': DeclaredTypeInstance(type='Pair', params={'U': DeclaredTypeInstance(type='Either', params={'U': DeclaredTypeInstance(type='Vec', params={'T': DeclaredTypeInstance(type='Integer', params=None)}), 'T': DeclaredTypeInstance(type='Integer', params=None)}), 'T': DeclaredTypeInstance(type='NDArray', params=None)})}, args=['6692383433071077384', '9032834383112645395', '1513986338388351247'], kwargs=None)], '-3273994636484566759': ['-4772016795270189587', CallNode(function='NDArrayCompat.from_ndarray', type_params=None, args=['-1315959686832490410'], kwargs=None)], '-7810628170542737225': ['-1341672716970475800', CallNode(function='NDArrayCompat.to_ndarray', type_params=None, args=['-3273994636484566759'], kwargs=None)], '-6233320591470718265': ['-6233320591470718265', CallNode(function='Abstraction.__add__', type_params={'U': DeclaredTypeInstance(type='Maybe', params={'T': DeclaredTypeInstance(type='Either', params={'U': DeclaredTypeInstance(type='Vec', params={'T': DeclaredTypeInstance(type='Integer', params=None)}), 'T': DeclaredTypeInstance(type='Integer', params=None)})}), 'T': DeclaredTypeInstance(type='Either', params={'U': DeclaredTypeInstance(type='Vec', params={'T': DeclaredTypeInstance(type='Integer', params=None)}), 'T': DeclaredTypeInstance(type='Integer', params=None)})}, args=['2013462788875869881', '-3632599159356222693'], kwargs=None)], '-3991141096639023881': ['5626037285224763133', CallNode(function='Maybe.match', type_params={'T': DeclaredTypeInstance(type='Integer', params=None)}, args=['-1372317109959694973', '542625740483342888', '-6233320591470718265'], kwargs=None)], '2531297297853163102': ['-4179875107795948895', CallNode(function='Maybe.__or__', type_params={'T': DeclaredTypeInstance(type='Either', params={'U': DeclaredTypeInstance(type='Vec', params={'T': DeclaredTypeInstance(type='Integer', params=None)}), 'T': DeclaredTypeInstance(type='Integer', params=None)})}, args=['-3991141096639023881', '7354692970200033373'], kwargs=None)], '8500012095767421056': ['-2745558395708079455', CallNode(function='Maybe.__and__', type_params={'T': DeclaredTypeInstance(type='NDArray', params=None)}, args=['-1749051929928717773', '2531297297853163102'], kwargs=None)], '-5261768831398728211': ['6939635006650947043', CallNode(function='Maybe.match', type_params={'T': DeclaredTypeInstance(type='Pair', params={'U': DeclaredTypeInstance(type='Either', params={'U': DeclaredTypeInstance(type='Vec', params={'T': DeclaredTypeInstance(type='Integer', params=None)}), 'T': DeclaredTypeInstance(type='Integer', params=None)}), 'T': DeclaredTypeInstance(type='NDArray', params=None)})}, args=['8500012095767421056', '9032834383112645395', '1513986338388351247'], kwargs=None)], '7882815027939522544': ['-4772016795270189587', CallNode(function='NDArrayCompat.from_ndarray', type_params=None, args=['-5261768831398728211'], kwargs=None)], '-6892723423229494128': ['-1341672716970475800', CallNode(function='NDArrayCompat.to_ndarray', type_params=None, args=['7882815027939522544'], kwargs=None)], '2008626470938325986': ['5626037285224763133', CallNode(function='Abstraction.__call__', type_params={'U': DeclaredTypeInstance(type='Maybe', params={'T': DeclaredTypeInstance(type='Either', params={'U': DeclaredTypeInstance(type='Vec', params={'T': DeclaredTypeInstance(type='Integer', params=None)}), 'T': DeclaredTypeInstance(type='Integer', params=None)})}), 'T': DeclaredTypeInstance(type='Integer', params=None)}, args=['-6233320591470718265', '2507768681348984026'], kwargs=None)], '9150030912105211354': ['-4179875107795948895', CallNode(function='Maybe.__or__', type_params={'T': DeclaredTypeInstance(type='Either', params={'U': DeclaredTypeInstance(type='Vec', params={'T': DeclaredTypeInstance(type='Integer', params=None)}), 'T': DeclaredTypeInstance(type='Integer', params=None)})}, args=['2008626470938325986', '7354692970200033373'], kwargs=None)], '-7542731139977118066': ['-2745558395708079455', CallNode(function='Maybe.__and__', type_params={'T': DeclaredTypeInstance(type='NDArray', params=None)}, args=['-1749051929928717773', '9150030912105211354'], kwargs=None)], '2024501887796611605': ['6939635006650947043', CallNode(function='Maybe.match', type_params={'T': DeclaredTypeInstance(type='Pair', params={'U': DeclaredTypeInstance(type='Either', params={'U': DeclaredTypeInstance(type='Vec', params={'T': DeclaredTypeInstance(type='Integer', params=None)}), 'T': DeclaredTypeInstance(type='Integer', params=None)}), 'T': DeclaredTypeInstance(type='NDArray', params=None)})}, args=['-7542731139977118066', '9032834383112645395', '1513986338388351247'], kwargs=None)], '6954440744293451982': ['-4772016795270189587', CallNode(function='NDArrayCompat.from_ndarray', type_params=None, args=['2024501887796611605'], kwargs=None)], '2693232617876807898': ['-1341672716970475800', CallNode(function='NDArrayCompat.to_ndarray', type_params=None, args=['6954440744293451982'], kwargs=None)], '-2757863483019960227': ['-2757863483019960227', CallNode(function='Abstraction.__add__', type_params={'U': DeclaredTypeInstance(type='Maybe', params={'T': DeclaredTypeInstance(type='NDArray', params=None)}), 'T': DeclaredTypeInstance(type='NDArray', params=None)}, args=['-1894269937027086384', '-4643297354090513087'], kwargs=None)], '-7462374446910505064': ['-7462374446910505064', CallNode(function='Maybe.match', type_params={'T': DeclaredTypeInstance(type='Integer', params=None)}, args=['-6059403141323843149', '9032834383112645395', '-2757863483019960227'], kwargs=None)], '-1866940111291859890': ['-1866940111291859890', CallNode(function='NDArrayCompat.from_ndarray', type_params=None, args=['-7462374446910505064'], kwargs=None)], '8539979879690342424': ['-5882035132617130320', CallNode(function='NDArrayCompat.__add__', type_params=None, args=['-1866940111291859890', '-8766707318650306503'], kwargs=None)], '7317972844573114242': ['-1749051929928717773', CallNode(function='Converter.convert', type_params={'T': DeclaredTypeInstance(type='NDArray', params=None)}, args=['8539979879690342424'], kwargs=None)], '2262404540719265412': ['-2745558395708079455', CallNode(function='Maybe.__and__', type_params={'T': DeclaredTypeInstance(type='NDArray', params=None)}, args=['7317972844573114242', '9150030912105211354'], kwargs=None)], '6223931599528243960': ['6939635006650947043', CallNode(function='Maybe.match', type_params={'T': DeclaredTypeInstance(type='Pair', params={'U': DeclaredTypeInstance(type='Either', params={'U': DeclaredTypeInstance(type='Vec', params={'T': DeclaredTypeInstance(type='Integer', params=None)}), 'T': DeclaredTypeInstance(type='Integer', params=None)}), 'T': DeclaredTypeInstance(type='NDArray', params=None)})}, args=['2262404540719265412', '9032834383112645395', '1513986338388351247'], kwargs=None)], '6336036661715543733': ['-4772016795270189587', CallNode(function='NDArrayCompat.from_ndarray', type_params=None, args=['6223931599528243960'], kwargs=None)], '2401417412023419004': ['-1341672716970475800', CallNode(function='NDArrayCompat.to_ndarray', type_params=None, args=['6336036661715543733'], kwargs=None)], '-6133007377419551008': ['-5882035132617130320', CallNode(function='NDArrayCompat.__add__', type_params=None, args=['-1866940111291859890', '-1866940111291859890'], kwargs=None)], '-2894682877572236733': ['-1749051929928717773', CallNode(function='Converter.convert', type_params={'T': DeclaredTypeInstance(type='NDArray', params=None)}, args=['-6133007377419551008'], kwargs=None)], '4126831484520287483': ['-2745558395708079455', CallNode(function='Maybe.__and__', type_params={'T': DeclaredTypeInstance(type='NDArray', params=None)}, args=['-2894682877572236733', '9150030912105211354'], kwargs=None)], '-3649073181195851312': ['6939635006650947043', CallNode(function='Maybe.match', type_params={'T': DeclaredTypeInstance(type='Pair', params={'U': DeclaredTypeInstance(type='Either', params={'U': DeclaredTypeInstance(type='Vec', params={'T': DeclaredTypeInstance(type='Integer', params=None)}), 'T': DeclaredTypeInstance(type='Integer', params=None)}), 'T': DeclaredTypeInstance(type='NDArray', params=None)})}, args=['4126831484520287483', '9032834383112645395', '1513986338388351247'], kwargs=None)], '-5345493222470733700': ['-4772016795270189587', CallNode(function='NDArrayCompat.from_ndarray', type_params=None, args=['-3649073181195851312'], kwargs=None)], '2257210080031379373': ['-1341672716970475800', CallNode(function='NDArrayCompat.to_ndarray', type_params=None, args=['-5345493222470733700'], kwargs=None)], '1129541538386884364': ['1129541538386884364', CallNode(function='Abstraction.__call__', type_params={'U': DeclaredTypeInstance(type='Maybe', params={'T': DeclaredTypeInstance(type='NDArray', params=None)}), 'T': DeclaredTypeInstance(type='Integer', params=None)}, args=['-2757863483019960227', '-1313138448651871637'], kwargs=None)], '85294802253499659': ['85294802253499659', CallNode(function='NDArrayCompat.from_ndarray', type_params=None, args=['1129541538386884364'], kwargs=None)], '-6173825308431995239': ['-5882035132617130320', CallNode(function='NDArrayCompat.__add__', type_params=None, args=['85294802253499659', '-1866940111291859890'], kwargs=None)], '1843766240175379126': ['-1749051929928717773', CallNode(function='Converter.convert', type_params={'T': DeclaredTypeInstance(type='NDArray', params=None)}, args=['-6173825308431995239'], kwargs=None)], '8408942364530103639': ['-2745558395708079455', CallNode(function='Maybe.__and__', type_params={'T': DeclaredTypeInstance(type='NDArray', params=None)}, args=['1843766240175379126', '9150030912105211354'], kwargs=None)], '-1426540454524810074': ['6939635006650947043', CallNode(function='Maybe.match', type_params={'T': DeclaredTypeInstance(type='Pair', params={'U': DeclaredTypeInstance(type='Either', params={'U': DeclaredTypeInstance(type='Vec', params={'T': DeclaredTypeInstance(type='Integer', params=None)}), 'T': DeclaredTypeInstance(type='Integer', params=None)}), 'T': DeclaredTypeInstance(type='NDArray', params=None)})}, args=['8408942364530103639', '9032834383112645395', '1513986338388351247'], kwargs=None)], '-2111545206662722391': ['-4772016795270189587', CallNode(function='NDArrayCompat.from_ndarray', type_params=None, args=['-1426540454524810074'], kwargs=None)], '-3694455690306176878': ['-1341672716970475800', CallNode(function='NDArrayCompat.to_ndarray', type_params=None, args=['-2111545206662722391'], kwargs=None)], '-3397692373671775358': ['-5882035132617130320', CallNode(function='NDArrayCompat.__add__', type_params=None, args=['85294802253499659', '85294802253499659'], kwargs=None)], '-5936625044764418544': ['-1749051929928717773', CallNode(function='Converter.convert', type_params={'T': DeclaredTypeInstance(type='NDArray', params=None)}, args=['-3397692373671775358'], kwargs=None)], '1593659104146491759': ['-2745558395708079455', CallNode(function='Maybe.__and__', type_params={'T': DeclaredTypeInstance(type='NDArray', params=None)}, args=['-5936625044764418544', '9150030912105211354'], kwargs=None)], '-5997114801345373511': ['6939635006650947043', CallNode(function='Maybe.match', type_params={'T': DeclaredTypeInstance(type='Pair', params={'U': DeclaredTypeInstance(type='Either', params={'U': DeclaredTypeInstance(type='Vec', params={'T': DeclaredTypeInstance(type='Integer', params=None)}), 'T': DeclaredTypeInstance(type='Integer', params=None)}), 'T': DeclaredTypeInstance(type='NDArray', params=None)})}, args=['1593659104146491759', '9032834383112645395', '1513986338388351247'], kwargs=None)], '1054558087939951220': ['-4772016795270189587', CallNode(function='NDArrayCompat.from_ndarray', type_params=None, args=['-5997114801345373511'], kwargs=None)], '5293063704123737227': ['-1341672716970475800', CallNode(function='NDArrayCompat.to_ndarray', type_params=None, args=['1054558087939951220'], kwargs=None)], '4954432163994007699': ['4954432163994007699', PrimitiveNode(type='Variable', repr='Variable(4763585448)')], '2436712640837770830': ['2436712640837770830', CallNode(function='Abstraction.create_variable', type_params={'U': DeclaredTypeInstance(type='Maybe', params={'T': DeclaredTypeInstance(type='Either', params={'U': DeclaredTypeInstance(type='Vec', params={'T': DeclaredTypeInstance(type='Integer', params=None)}), 'T': DeclaredTypeInstance(type='Integer', params=None)})}), 'T': DeclaredTypeInstance(type='Either', params={'U': DeclaredTypeInstance(type='Vec', params={'T': DeclaredTypeInstance(type='Integer', params=None)}), 'T': DeclaredTypeInstance(type='Integer', params=None)})}, args=['4954432163994007699'], kwargs=None)], '-156776053854657493': ['-156776053854657493', CallNode(function='Maybe.just', type_params={'T': DeclaredTypeInstance(type='Either', params={'U': DeclaredTypeInstance(type='Vec', params={'T': DeclaredTypeInstance(type='Integer', params=None)}), 'T': DeclaredTypeInstance(type='Integer', params=None)})}, args=['2436712640837770830'], kwargs=None)], '6161012702387631447': ['2013462788875869881', CallNode(function='Abstraction.create', type_params={'U': DeclaredTypeInstance(type='Maybe', params={'T': DeclaredTypeInstance(type='Either', params={'U': DeclaredTypeInstance(type='Vec', params={'T': DeclaredTypeInstance(type='Integer', params=None)}), 'T': DeclaredTypeInstance(type='Integer', params=None)})}), 'T': DeclaredTypeInstance(type='Either', params={'U': DeclaredTypeInstance(type='Vec', params={'T': DeclaredTypeInstance(type='Integer', params=None)}), 'T': DeclaredTypeInstance(type='Integer', params=None)})}, args=['2436712640837770830', '-156776053854657493'], kwargs=None)], '-2676261573324356569': ['-6233320591470718265', CallNode(function='Abstraction.__add__', type_params={'U': DeclaredTypeInstance(type='Maybe', params={'T': DeclaredTypeInstance(type='Either', params={'U': DeclaredTypeInstance(type='Vec', params={'T': DeclaredTypeInstance(type='Integer', params=None)}), 'T': DeclaredTypeInstance(type='Integer', params=None)})}), 'T': DeclaredTypeInstance(type='Either', params={'U': DeclaredTypeInstance(type='Vec', params={'T': DeclaredTypeInstance(type='Integer', params=None)}), 'T': DeclaredTypeInstance(type='Integer', params=None)})}, args=['6161012702387631447', '-3632599159356222693'], kwargs=None)], '-8086475550023667075': ['5626037285224763133', CallNode(function='Abstraction.__call__', type_params={'U': DeclaredTypeInstance(type='Maybe', params={'T': DeclaredTypeInstance(type='Either', params={'U': DeclaredTypeInstance(type='Vec', params={'T': DeclaredTypeInstance(type='Integer', params=None)}), 'T': DeclaredTypeInstance(type='Integer', params=None)})}), 'T': DeclaredTypeInstance(type='Integer', params=None)}, args=['-2676261573324356569', '2507768681348984026'], kwargs=None)], '-7282077855886877236': ['-3933652525115683988', CallNode(function='Abstraction.__add__', type_params={'U': DeclaredTypeInstance(type='Maybe', params={'T': DeclaredTypeInstance(type='Either', params={'U': DeclaredTypeInstance(type='Vec', params={'T': DeclaredTypeInstance(type='Integer', params=None)}), 'T': DeclaredTypeInstance(type='Integer', params=None)})}), 'T': DeclaredTypeInstance(type='Either', params={'U': DeclaredTypeInstance(type='Vec', params={'T': DeclaredTypeInstance(type='Integer', params=None)}), 'T': DeclaredTypeInstance(type='Integer', params=None)})}, args=['6161012702387631447', '-2838797792369224052'], kwargs=None)], '-7116132093003899109': ['-686259872675126378', CallNode(function='Maybe.match', type_params={'T': DeclaredTypeInstance(type='Vec', params={'T': DeclaredTypeInstance(type='Integer', params=None)})}, args=['-7726250483385592724', '542625740483342888', '-7282077855886877236'], kwargs=None)], '-7706353315301755638': ['-4179875107795948895', CallNode(function='Maybe.__or__', type_params={'T': DeclaredTypeInstance(type='Either', params={'U': DeclaredTypeInstance(type='Vec', params={'T': DeclaredTypeInstance(type='Integer', params=None)}), 'T': DeclaredTypeInstance(type='Integer', params=None)})}, args=['-8086475550023667075', '-7116132093003899109'], kwargs=None)], '7159771746246499725': ['-2745558395708079455', CallNode(function='Maybe.__and__', type_params={'T': DeclaredTypeInstance(type='NDArray', params=None)}, args=['-5936625044764418544', '-7706353315301755638'], kwargs=None)], '-2918344087609665020': ['6939635006650947043', CallNode(function='Maybe.match', type_params={'T': DeclaredTypeInstance(type='Pair', params={'U': DeclaredTypeInstance(type='Either', params={'U': DeclaredTypeInstance(type='Vec', params={'T': DeclaredTypeInstance(type='Integer', params=None)}), 'T': DeclaredTypeInstance(type='Integer', params=None)}), 'T': DeclaredTypeInstance(type='NDArray', params=None)})}, args=['7159771746246499725', '9032834383112645395', '1513986338388351247'], kwargs=None)], '5268565405192250584': ['-4772016795270189587', CallNode(function='NDArrayCompat.from_ndarray', type_params=None, args=['-2918344087609665020'], kwargs=None)], '3457235991837999757': ['-1341672716970475800', CallNode(function='NDArrayCompat.to_ndarray', type_params=None, args=['5268565405192250584'], kwargs=None)], '4954432153931937824': ['4954432153931937824', PrimitiveNode(type='Variable', repr='Variable(4763438776)')], '8509920805002676409': ['8509920805002676409', CallNode(function='Abstraction.create_variable', type_params={'U': DeclaredTypeInstance(type='Maybe', params={'T': DeclaredTypeInstance(type='NDArray', params=None)}), 'T': DeclaredTypeInstance(type='NDArray', params=None)}, args=['4954432153931937824'], kwargs=None)], '1800425219063787799': ['1800425219063787799', CallNode(function='Maybe.just', type_params={'T': DeclaredTypeInstance(type='NDArray', params=None)}, args=['8509920805002676409'], kwargs=None)], '399900191559359392': ['-1894269937027086384', CallNode(function='Abstraction.create', type_params={'U': DeclaredTypeInstance(type='Maybe', params={'T': DeclaredTypeInstance(type='NDArray', params=None)}), 'T': DeclaredTypeInstance(type='NDArray', params=None)}, args=['8509920805002676409', '1800425219063787799'], kwargs=None)], '7300742739247956141': ['-2757863483019960227', CallNode(function='Abstraction.__add__', type_params={'U': DeclaredTypeInstance(type='Maybe', params={'T': DeclaredTypeInstance(type='NDArray', params=None)}), 'T': DeclaredTypeInstance(type='NDArray', params=None)}, args=['399900191559359392', '-4643297354090513087'], kwargs=None)], '-8700729886857831056': ['-6175040583256772104', CallNode(function='Abstraction.__call__', type_params={'U': DeclaredTypeInstance(type='Maybe', params={'T': DeclaredTypeInstance(type='NDArray', params=None)}), 'T': DeclaredTypeInstance(type='Integer', params=None)}, args=['7300742739247956141', '-1313138448651871637'], kwargs=None)], '9133257758617415926': ['-8766707318650306503', CallNode(function='NDArrayCompat.from_ndarray', type_params=None, args=['-8700729886857831056'], kwargs=None)], '7592179541745765004': ['-5882035132617130320', CallNode(function='NDArrayCompat.__add__', type_params=None, args=['9133257758617415926', '85294802253499659'], kwargs=None)], '-1951196616839732642': ['-1749051929928717773', CallNode(function='Converter.convert', type_params={'T': DeclaredTypeInstance(type='NDArray', params=None)}, args=['7592179541745765004'], kwargs=None)], '6583588539036799453': ['-2745558395708079455', CallNode(function='Maybe.__and__', type_params={'T': DeclaredTypeInstance(type='NDArray', params=None)}, args=['-1951196616839732642', '-7706353315301755638'], kwargs=None)], '1064563450086600191': ['1513986338388351247', CallNode(function='Abstraction.__add__', type_params={'U': DeclaredTypeInstance(type='Maybe', params={'T': DeclaredTypeInstance(type='NDArray', params=None)}), 'T': DeclaredTypeInstance(type='NDArray', params=None)}, args=['399900191559359392', '8044185514099529250'], kwargs=None)], '-1541113139994219591': ['6939635006650947043', CallNode(function='Maybe.match', type_params={'T': DeclaredTypeInstance(type='Pair', params={'U': DeclaredTypeInstance(type='Either', params={'U': DeclaredTypeInstance(type='Vec', params={'T': DeclaredTypeInstance(type='Integer', params=None)}), 'T': DeclaredTypeInstance(type='Integer', params=None)}), 'T': DeclaredTypeInstance(type='NDArray', params=None)})}, args=['6583588539036799453', '9032834383112645395', '1064563450086600191'], kwargs=None)], '3137100142249553498': ['-4772016795270189587', CallNode(function='NDArrayCompat.from_ndarray', type_params=None, args=['-1541113139994219591'], kwargs=None)], '2472475571885942040': ['-1341672716970475800', CallNode(function='NDArrayCompat.to_ndarray', type_params=None, args=['3137100142249553498'], kwargs=None)], '4954432112593555649': ['4954432112593555649', PrimitiveNode(type='Variable', repr='Variable(4762969032)')], '-8524737889970717860': ['-8524737889970717860', CallNode(function='Abstraction.create_variable', type_params={'U': DeclaredTypeInstance(type='Maybe', params={'T': DeclaredTypeInstance(type='NDArray', params=None)}), 'T': DeclaredTypeInstance(type='NDArray', params=None)}, args=['4954432112593555649'], kwargs=None)], '-2344483244357926298': ['-2344483244357926298', CallNode(function='Maybe.just', type_params={'T': DeclaredTypeInstance(type='NDArray', params=None)}, args=['-8524737889970717860'], kwargs=None)], '-6048131664248139973': ['-6048131664248139973', CallNode(function='Abstraction.create', type_params={'U': DeclaredTypeInstance(type='Maybe', params={'T': DeclaredTypeInstance(type='NDArray', params=None)}), 'T': DeclaredTypeInstance(type='NDArray', params=None)}, args=['-8524737889970717860', '-2344483244357926298'], kwargs=None)], '-8575755116559007356': ['-8575755116559007356', CallNode(function='Abstraction.__add__', type_params={'U': DeclaredTypeInstance(type='Maybe', params={'T': DeclaredTypeInstance(type='NDArray', params=None)}), 'T': DeclaredTypeInstance(type='NDArray', params=None)}, args=['-6048131664248139973', '-4643297354090513087'], kwargs=None)], '1236464281425515729': ['1129541538386884364', CallNode(function='Abstraction.__call__', type_params={'U': DeclaredTypeInstance(type='Maybe', params={'T': DeclaredTypeInstance(type='NDArray', params=None)}), 'T': DeclaredTypeInstance(type='Integer', params=None)}, args=['-8575755116559007356', '-1313138448651871637'], kwargs=None)], '-7013849389704253342': ['85294802253499659', CallNode(function='NDArrayCompat.from_ndarray', type_params=None, args=['1236464281425515729'], kwargs=None)], '-5697007707504983312': ['-5882035132617130320', CallNode(function='NDArrayCompat.__add__', type_params=None, args=['9133257758617415926', '-7013849389704253342'], kwargs=None)], '-4161268223004706061': ['-1749051929928717773', CallNode(function='Converter.convert', type_params={'T': DeclaredTypeInstance(type='NDArray', params=None)}, args=['-5697007707504983312'], kwargs=None)], '-7004563630179665879': ['-2745558395708079455', CallNode(function='Maybe.__and__', type_params={'T': DeclaredTypeInstance(type='NDArray', params=None)}, args=['-4161268223004706061', '-7706353315301755638'], kwargs=None)], '-321562744041360046': ['6939635006650947043', CallNode(function='Maybe.match', type_params={'T': DeclaredTypeInstance(type='Pair', params={'U': DeclaredTypeInstance(type='Either', params={'U': DeclaredTypeInstance(type='Vec', params={'T': DeclaredTypeInstance(type='Integer', params=None)}), 'T': DeclaredTypeInstance(type='Integer', params=None)}), 'T': DeclaredTypeInstance(type='NDArray', params=None)})}, args=['-7004563630179665879', '9032834383112645395', '1064563450086600191'], kwargs=None)], '5638101176698137821': ['-4772016795270189587', CallNode(function='NDArrayCompat.from_ndarray', type_params=None, args=['-321562744041360046'], kwargs=None)], '-8669550500244779836': ['-1341672716970475800', CallNode(function='NDArrayCompat.to_ndarray', type_params=None, args=['5638101176698137821'], kwargs=None)], '-91834066106135924': ['-91834066106135924', CallNode(function='Maybe.just', type_params={'T': DeclaredTypeInstance(type='NDArray', params=None)}, args=['-8285762096060248770'], kwargs=None)], '-1475646575536360333': ['-1475646575536360333', CallNode(function='Abstraction.create', type_params=None, args=['-4167769655553708545', '-91834066106135924'], kwargs=None)], '2142231791155168270': ['6939635006650947043', CallNode(function='Maybe.match', type_params={'T': DeclaredTypeInstance(type='Pair', params={'U': DeclaredTypeInstance(type='Either', params={'U': DeclaredTypeInstance(type='Vec', params={'T': DeclaredTypeInstance(type='Integer', params=None)}), 'T': DeclaredTypeInstance(type='Integer', params=None)}), 'T': DeclaredTypeInstance(type='NDArray', params=None)})}, args=['-7004563630179665879', '9032834383112645395', '-1475646575536360333'], kwargs=None)], '-832693358443336927': ['-4772016795270189587', CallNode(function='NDArrayCompat.from_ndarray', type_params=None, args=['2142231791155168270'], kwargs=None)], '8940231038518898282': ['-1341672716970475800', CallNode(function='NDArrayCompat.to_ndarray', type_params=None, args=['-832693358443336927'], kwargs=None)], '-1924374774179630987': ['-1924374774179630987', CallNode(function='Maybe.just', type_params={'T': DeclaredTypeInstance(type='Either', params={'U': DeclaredTypeInstance(type='Vec', params={'T': DeclaredTypeInstance(type='Integer', params=None)}), 'T': DeclaredTypeInstance(type='Integer', params=None)})}, args=['-5480872129034902157'], kwargs=None)], '-8746636000305035507': ['-3933652525115683988', CallNode(function='Abstraction.create', type_params=None, args=['-3343294864562084740', '-1924374774179630987'], kwargs=None)], '-4184050986479448354': ['-686259872675126378', CallNode(function='Maybe.match', type_params={'T': DeclaredTypeInstance(type='Vec', params={'T': DeclaredTypeInstance(type='Integer', params=None)})}, args=['-7726250483385592724', '542625740483342888', '-8746636000305035507'], kwargs=None)], '2255424246898842649': ['-4179875107795948895', CallNode(function='Maybe.__or__', type_params={'T': DeclaredTypeInstance(type='Either', params={'U': DeclaredTypeInstance(type='Vec', params={'T': DeclaredTypeInstance(type='Integer', params=None)}), 'T': DeclaredTypeInstance(type='Integer', params=None)})}, args=['-8086475550023667075', '-4184050986479448354'], kwargs=None)], '2987543410002963815': ['-2745558395708079455', CallNode(function='Maybe.__and__', type_params={'T': DeclaredTypeInstance(type='NDArray', params=None)}, args=['-4161268223004706061', '2255424246898842649'], kwargs=None)], '2341006719661882768': ['6939635006650947043', CallNode(function='Maybe.match', type_params={'T': DeclaredTypeInstance(type='Pair', params={'U': DeclaredTypeInstance(type='Either', params={'U': DeclaredTypeInstance(type='Vec', params={'T': DeclaredTypeInstance(type='Integer', params=None)}), 'T': DeclaredTypeInstance(type='Integer', params=None)}), 'T': DeclaredTypeInstance(type='NDArray', params=None)})}, args=['2987543410002963815', '9032834383112645395', '-1475646575536360333'], kwargs=None)], '-3840159583336959838': ['-4772016795270189587', CallNode(function='NDArrayCompat.from_ndarray', type_params=None, args=['2341006719661882768'], kwargs=None)], '-7000641557897437974': ['-1341672716970475800', CallNode(function='NDArrayCompat.to_ndarray', type_params=None, args=['-3840159583336959838'], kwargs=None)], '2768963656221963327': ['2768963656221963327', CallNode(function='Maybe.just', type_params={'T': DeclaredTypeInstance(type='Either', params={'U': DeclaredTypeInstance(type='Vec', params={'T': DeclaredTypeInstance(type='Integer', params=None)}), 'T': DeclaredTypeInstance(type='Integer', params=None)})}, args=['-5428197908604838827'], kwargs=None)], '-2100882838647274091': ['-6233320591470718265', CallNode(function='Abstraction.create', type_params=None, args=['-4838891889665744714', '2768963656221963327'], kwargs=None)], '-5245592682600195630': ['5626037285224763133', CallNode(function='Abstraction.__call__', type_params={'U': DeclaredTypeInstance(type='Maybe', params={'T': DeclaredTypeInstance(type='Either', params={'U': DeclaredTypeInstance(type='Vec', params={'T': DeclaredTypeInstance(type='Integer', params=None)}), 'T': DeclaredTypeInstance(type='Integer', params=None)})}), 'T': DeclaredTypeInstance(type='Integer', params=None)}, args=['-2100882838647274091', '2507768681348984026'], kwargs=None)], '887510114276199111': ['-4179875107795948895', CallNode(function='Maybe.__or__', type_params={'T': DeclaredTypeInstance(type='Either', params={'U': DeclaredTypeInstance(type='Vec', params={'T': DeclaredTypeInstance(type='Integer', params=None)}), 'T': DeclaredTypeInstance(type='Integer', params=None)})}, args=['-5245592682600195630', '-4184050986479448354'], kwargs=None)], '-7130198749653235479': ['-2745558395708079455', CallNode(function='Maybe.__and__', type_params={'T': DeclaredTypeInstance(type='NDArray', params=None)}, args=['-4161268223004706061', '887510114276199111'], kwargs=None)], '4032433164182900302': ['6939635006650947043', CallNode(function='Maybe.match', type_params={'T': DeclaredTypeInstance(type='Pair', params={'U': DeclaredTypeInstance(type='Either', params={'U': DeclaredTypeInstance(type='Vec', params={'T': DeclaredTypeInstance(type='Integer', params=None)}), 'T': DeclaredTypeInstance(type='Integer', params=None)}), 'T': DeclaredTypeInstance(type='NDArray', params=None)})}, args=['-7130198749653235479', '9032834383112645395', '-1475646575536360333'], kwargs=None)], '-833506588770071300': ['-4772016795270189587', CallNode(function='NDArrayCompat.from_ndarray', type_params=None, args=['4032433164182900302'], kwargs=None)], '-3024880416446209613': ['-1341672716970475800', CallNode(function='NDArrayCompat.to_ndarray', type_params=None, args=['-833506588770071300'], kwargs=None)], '-8215238012704140842': ['-8215238012704140842', CallNode(function='Either.left', type_params={'U': DeclaredTypeInstance(type='Vec', params={'T': DeclaredTypeInstance(type='Integer', params=None)}), 'T': DeclaredTypeInstance(type='Integer', params=None)}, args=['2507768681348984026'], kwargs=None)], '-2879884706675895873': ['5626037285224763133', CallNode(function='Maybe.just', type_params={'T': DeclaredTypeInstance(type='Either', params={'U': DeclaredTypeInstance(type='Vec', params={'T': DeclaredTypeInstance(type='Integer', params=None)}), 'T': DeclaredTypeInstance(type='Integer', params=None)})}, args=['-8215238012704140842'], kwargs=None)], '-31330893029341675': ['-4179875107795948895', CallNode(function='Maybe.__or__', type_params={'T': DeclaredTypeInstance(type='Either', params={'U': DeclaredTypeInstance(type='Vec', params={'T': DeclaredTypeInstance(type='Integer', params=None)}), 'T': DeclaredTypeInstance(type='Integer', params=None)})}, args=['-2879884706675895873', '-4184050986479448354'], kwargs=None)], '5312736265270673507': ['-2745558395708079455', CallNode(function='Maybe.__and__', type_params={'T': DeclaredTypeInstance(type='NDArray', params=None)}, args=['-4161268223004706061', '-31330893029341675'], kwargs=None)], '-149164474730248205': ['6939635006650947043', CallNode(function='Maybe.match', type_params={'T': DeclaredTypeInstance(type='Pair', params={'U': DeclaredTypeInstance(type='Either', params={'U': DeclaredTypeInstance(type='Vec', params={'T': DeclaredTypeInstance(type='Integer', params=None)}), 'T': DeclaredTypeInstance(type='Integer', params=None)}), 'T': DeclaredTypeInstance(type='NDArray', params=None)})}, args=['5312736265270673507', '9032834383112645395', '-1475646575536360333'], kwargs=None)], '-5770802273742654456': ['-4772016795270189587', CallNode(function='NDArrayCompat.from_ndarray', type_params=None, args=['-149164474730248205'], kwargs=None)], '566977397139040001': ['-1341672716970475800', CallNode(function='NDArrayCompat.to_ndarray', type_params=None, args=['-5770802273742654456'], kwargs=None)], '-189545260843302981': ['-4179875107795948895', CallNode(function='Maybe.just', type_params=None, args=['-8215238012704140842'], kwargs=None)], '-7615697552685954483': ['-2745558395708079455', CallNode(function='Maybe.__and__', type_params={'T': DeclaredTypeInstance(type='NDArray', params=None)}, args=['-4161268223004706061', '-189545260843302981'], kwargs=None)], '-4481768432007567430': ['6939635006650947043', CallNode(function='Maybe.match', type_params={'T': DeclaredTypeInstance(type='Pair', params={'U': DeclaredTypeInstance(type='Either', params={'U': DeclaredTypeInstance(type='Vec', params={'T': DeclaredTypeInstance(type='Integer', params=None)}), 'T': DeclaredTypeInstance(type='Integer', params=None)}), 'T': DeclaredTypeInstance(type='NDArray', params=None)})}, args=['-7615697552685954483', '9032834383112645395', '-1475646575536360333'], kwargs=None)], '279804334003939930': ['-4772016795270189587', CallNode(function='NDArrayCompat.from_ndarray', type_params=None, args=['-4481768432007567430'], kwargs=None)], '8861366420831212813': ['-1341672716970475800', CallNode(function='NDArrayCompat.to_ndarray', type_params=None, args=['279804334003939930'], kwargs=None)], '-8557706869624120959': ['-8557706869624120959', CallNode(function='Maybe.just', type_params={'T': DeclaredTypeInstance(type='NDArray', params=None)}, args=['-3508081724970013213'], kwargs=None)], '-5552714216057777141': ['-2757863483019960227', CallNode(function='Abstraction.create', type_params=None, args=['5534931599655894334', '-8557706869624120959'], kwargs=None)], '-6827753017227246919': ['-6175040583256772104', CallNode(function='Abstraction.__call__', type_params={'U': DeclaredTypeInstance(type='Maybe', params={'T': DeclaredTypeInstance(type='NDArray', params=None)}), 'T': DeclaredTypeInstance(type='Integer', params=None)}, args=['-5552714216057777141', '-1313138448651871637'], kwargs=None)], '5328415434377642612': ['-8766707318650306503', CallNode(function='NDArrayCompat.from_ndarray', type_params=None, args=['-6827753017227246919'], kwargs=None)], '1169847192571894291': ['-5882035132617130320', CallNode(function='NDArrayCompat.__add__', type_params=None, args=['9133257758617415926', '5328415434377642612'], kwargs=None)], '-1856686504879412950': ['-1749051929928717773', CallNode(function='Converter.convert', type_params={'T': DeclaredTypeInstance(type='NDArray', params=None)}, args=['1169847192571894291'], kwargs=None)], '-5669141933493320923': ['-2745558395708079455', CallNode(function='Maybe.__and__', type_params={'T': DeclaredTypeInstance(type='NDArray', params=None)}, args=['-1856686504879412950', '-189545260843302981'], kwargs=None)], '-4770996305368769695': ['6939635006650947043', CallNode(function='Maybe.match', type_params={'T': DeclaredTypeInstance(type='Pair', params={'U': DeclaredTypeInstance(type='Either', params={'U': DeclaredTypeInstance(type='Vec', params={'T': DeclaredTypeInstance(type='Integer', params=None)}), 'T': DeclaredTypeInstance(type='Integer', params=None)}), 'T': DeclaredTypeInstance(type='NDArray', params=None)})}, args=['-5669141933493320923', '9032834383112645395', '-1475646575536360333'], kwargs=None)], '7140113890193738188': ['-4772016795270189587', CallNode(function='NDArrayCompat.from_ndarray', type_params=None, args=['-4770996305368769695'], kwargs=None)], '5572985368883877492': ['-1341672716970475800', CallNode(function='NDArrayCompat.to_ndarray', type_params=None, args=['7140113890193738188'], kwargs=None)], '832424711665835764': ['832424711665835764', CallNode(function='arange_', type_params=None, args=['-1313138448651871637'], kwargs=None)], '1646416269224374271': ['-6175040583256772104', CallNode(function='Maybe.just', type_params={'T': DeclaredTypeInstance(type='NDArray', params=None)}, args=['832424711665835764'], kwargs=None)], '-6111134292761862292': ['-8766707318650306503', CallNode(function='NDArrayCompat.from_ndarray', type_params=None, args=['1646416269224374271'], kwargs=None)], '-1556507037921831081': ['-5882035132617130320', CallNode(function='NDArrayCompat.__add__', type_params=None, args=['9133257758617415926', '-6111134292761862292'], kwargs=None)], '3066644644135941110': ['-1749051929928717773', CallNode(function='Converter.convert', type_params={'T': DeclaredTypeInstance(type='NDArray', params=None)}, args=['-1556507037921831081'], kwargs=None)], '-4581163656322613336': ['-2745558395708079455', CallNode(function='Maybe.__and__', type_params={'T': DeclaredTypeInstance(type='NDArray', params=None)}, args=['3066644644135941110', '-189545260843302981'], kwargs=None)], '-4688074193271864291': ['6939635006650947043', CallNode(function='Maybe.match', type_params={'T': DeclaredTypeInstance(type='Pair', params={'U': DeclaredTypeInstance(type='Either', params={'U': DeclaredTypeInstance(type='Vec', params={'T': DeclaredTypeInstance(type='Integer', params=None)}), 'T': DeclaredTypeInstance(type='Integer', params=None)}), 'T': DeclaredTypeInstance(type='NDArray', params=None)})}, args=['-4581163656322613336', '9032834383112645395', '-1475646575536360333'], kwargs=None)], '4717196566943026656': ['-4772016795270189587', CallNode(function='NDArrayCompat.from_ndarray', type_params=None, args=['-4688074193271864291'], kwargs=None)], '4444370463340491573': ['-1341672716970475800', CallNode(function='NDArrayCompat.to_ndarray', type_params=None, args=['4717196566943026656'], kwargs=None)], '1432768087770409268': ['-5882035132617130320', CallNode(function='NDArrayCompat.__add__', type_params=None, args=['5328415434377642612', '-6111134292761862292'], kwargs=None)], '6359800707896431793': ['-1749051929928717773', CallNode(function='Converter.convert', type_params={'T': DeclaredTypeInstance(type='NDArray', params=None)}, args=['1432768087770409268'], kwargs=None)], '-4622957158978552332': ['-2745558395708079455', CallNode(function='Maybe.__and__', type_params={'T': DeclaredTypeInstance(type='NDArray', params=None)}, args=['6359800707896431793', '-189545260843302981'], kwargs=None)], '2578046477166392018': ['6939635006650947043', CallNode(function='Maybe.match', type_params={'T': DeclaredTypeInstance(type='Pair', params={'U': DeclaredTypeInstance(type='Either', params={'U': DeclaredTypeInstance(type='Vec', params={'T': DeclaredTypeInstance(type='Integer', params=None)}), 'T': DeclaredTypeInstance(type='Integer', params=None)}), 'T': DeclaredTypeInstance(type='NDArray', params=None)})}, args=['-4622957158978552332', '9032834383112645395', '-1475646575536360333'], kwargs=None)], '5681221764959219688': ['-4772016795270189587', CallNode(function='NDArrayCompat.from_ndarray', type_params=None, args=['2578046477166392018'], kwargs=None)], '6123761378249448669': ['-1341672716970475800', CallNode(function='NDArrayCompat.to_ndarray', type_params=None, args=['5681221764959219688'], kwargs=None)], '4512585717378328880': ['-5882035132617130320', CallNode(function='NDArrayCompat.__add__', type_params=None, args=['-6111134292761862292', '-6111134292761862292'], kwargs=None)], '-740474970012110432': ['-1749051929928717773', CallNode(function='Converter.convert', type_params={'T': DeclaredTypeInstance(type='NDArray', params=None)}, args=['4512585717378328880'], kwargs=None)], '7346142444234164539': ['-2745558395708079455', CallNode(function='Maybe.__and__', type_params={'T': DeclaredTypeInstance(type='NDArray', params=None)}, args=['-740474970012110432', '-189545260843302981'], kwargs=None)], '6531298543507265622': ['6939635006650947043', CallNode(function='Maybe.match', type_params={'T': DeclaredTypeInstance(type='Pair', params={'U': DeclaredTypeInstance(type='Either', params={'U': DeclaredTypeInstance(type='Vec', params={'T': DeclaredTypeInstance(type='Integer', params=None)}), 'T': DeclaredTypeInstance(type='Integer', params=None)}), 'T': DeclaredTypeInstance(type='NDArray', params=None)})}, args=['7346142444234164539', '9032834383112645395', '-1475646575536360333'], kwargs=None)], '5887267766619437167': ['-4772016795270189587', CallNode(function='NDArrayCompat.from_ndarray', type_params=None, args=['6531298543507265622'], kwargs=None)], '2937955236600109562': ['-1341672716970475800', CallNode(function='NDArrayCompat.to_ndarray', type_params=None, args=['5887267766619437167'], kwargs=None)], '7005412116804673500': ['7005412116804673500', CallNode(function='NDArray.__add__', type_params=None, args=['832424711665835764', '832424711665835764'], kwargs=None)], '1189092641968672543': ['-1749051929928717773', CallNode(function='Maybe.just', type_params=None, args=['7005412116804673500'], kwargs=None)], '-4321933172678497012': ['-5882035132617130320', CallNode(function='NDArrayCompat.from_ndarray', type_params=None, args=['1189092641968672543'], kwargs=None)], '5646358865148850642': ['-1749051929928717773', CallNode(function='Converter.convert', type_params={'T': DeclaredTypeInstance(type='NDArray', params=None)}, args=['-4321933172678497012'], kwargs=None)], '3930569333833847279': ['-2745558395708079455', CallNode(function='Maybe.__and__', type_params={'T': DeclaredTypeInstance(type='NDArray', params=None)}, args=['5646358865148850642', '-189545260843302981'], kwargs=None)], '3546302652998471528': ['6939635006650947043', CallNode(function='Maybe.match', type_params={'T': DeclaredTypeInstance(type='Pair', params={'U': DeclaredTypeInstance(type='Either', params={'U': DeclaredTypeInstance(type='Vec', params={'T': DeclaredTypeInstance(type='Integer', params=None)}), 'T': DeclaredTypeInstance(type='Integer', params=None)}), 'T': DeclaredTypeInstance(type='NDArray', params=None)})}, args=['3930569333833847279', '9032834383112645395', '-1475646575536360333'], kwargs=None)], '5798070462257896138': ['-4772016795270189587', CallNode(function='NDArrayCompat.from_ndarray', type_params=None, args=['3546302652998471528'], kwargs=None)], '-1150088198166487101': ['-1341672716970475800', CallNode(function='NDArrayCompat.to_ndarray', type_params=None, args=['5798070462257896138'], kwargs=None)], '1614487485264017680': ['-2745558395708079455', CallNode(function='Maybe.__and__', type_params={'T': DeclaredTypeInstance(type='NDArray', params=None)}, args=['1189092641968672543', '-189545260843302981'], kwargs=None)], '8944486586679779976': ['6939635006650947043', CallNode(function='Maybe.match', type_params={'T': DeclaredTypeInstance(type='Pair', params={'U': DeclaredTypeInstance(type='Either', params={'U': DeclaredTypeInstance(type='Vec', params={'T': DeclaredTypeInstance(type='Integer', params=None)}), 'T': DeclaredTypeInstance(type='Integer', params=None)}), 'T': DeclaredTypeInstance(type='NDArray', params=None)})}, args=['1614487485264017680', '9032834383112645395', '-1475646575536360333'], kwargs=None)], '1444425998562204304': ['-4772016795270189587', CallNode(function='NDArrayCompat.from_ndarray', type_params=None, args=['8944486586679779976'], kwargs=None)], '7974229076958302095': ['-1341672716970475800', CallNode(function='NDArrayCompat.to_ndarray', type_params=None, args=['1444425998562204304'], kwargs=None)], '5958914858003784629': ['5958914858003784629', CallNode(function='Pair.create', type_params=None, args=['7005412116804673500', '-8215238012704140842'], kwargs=None)], '-2556112163304457': ['-2745558395708079455', CallNode(function='Maybe.just', type_params=None, args=['5958914858003784629'], kwargs=None)], '7356682076725162957': ['6939635006650947043', CallNode(function='Maybe.match', type_params={'T': DeclaredTypeInstance(type='Pair', params={'U': DeclaredTypeInstance(type='Either', params={'U': DeclaredTypeInstance(type='Vec', params={'T': DeclaredTypeInstance(type='Integer', params=None)}), 'T': DeclaredTypeInstance(type='Integer', params=None)}), 'T': DeclaredTypeInstance(type='NDArray', params=None)})}, args=['-2556112163304457', '9032834383112645395', '-1475646575536360333'], kwargs=None)], '760278491628587479': ['-4772016795270189587', CallNode(function='NDArrayCompat.from_ndarray', type_params=None, args=['7356682076725162957'], kwargs=None)], '-3190917013023287780': ['-1341672716970475800', CallNode(function='NDArrayCompat.to_ndarray', type_params=None, args=['760278491628587479'], kwargs=None)], '-6083264147707509651': ['6939635006650947043', CallNode(function='Abstraction.__call__', type_params={'U': DeclaredTypeInstance(type='Maybe', params={'T': DeclaredTypeInstance(type='NDArray', params=None)}), 'T': DeclaredTypeInstance(type='Pair', params={'U': DeclaredTypeInstance(type='Either', params={'U': DeclaredTypeInstance(type='Vec', params={'T': DeclaredTypeInstance(type='Integer', params=None)}), 'T': DeclaredTypeInstance(type='Integer', params=None)}), 'T': DeclaredTypeInstance(type='NDArray', params=None)})}, args=['-1475646575536360333', '5958914858003784629'], kwargs=None)], '-2278760497717732240': ['-4772016795270189587', CallNode(function='NDArrayCompat.from_ndarray', type_params=None, args=['-6083264147707509651'], kwargs=None)], '-3907054814130951697': ['-1341672716970475800', CallNode(function='NDArrayCompat.to_ndarray', type_params=None, args=['-2278760497717732240'], kwargs=None)], '-3791942308469970679': ['-3791942308469970679', CallNode(function='Pair.left', type_params={'U': DeclaredTypeInstance(type='Either', params={'U': DeclaredTypeInstance(type='Vec', params={'T': DeclaredTypeInstance(type='Integer', params=None)}), 'T': DeclaredTypeInstance(type='Integer', params=None)}), 'T': DeclaredTypeInstance(type='NDArray', params=None)}, args=['5958914858003784629'], kwargs=None)], '3286866018787861345': ['3286866018787861345', CallNode(function='Pair.right', type_params={'U': DeclaredTypeInstance(type='Either', params={'U': DeclaredTypeInstance(type='Vec', params={'T': DeclaredTypeInstance(type='Integer', params=None)}), 'T': DeclaredTypeInstance(type='Integer', params=None)}), 'T': DeclaredTypeInstance(type='NDArray', params=None)}, args=['5958914858003784629'], kwargs=None)], '-7358658533967007486': ['-7358658533967007486', CallNode(function='NDArray.__getitem__', type_params=None, args=['-3791942308469970679', '3286866018787861345'], kwargs=None)], '1757153991661204000': ['6939635006650947043', CallNode(function='Maybe.just', type_params={'T': DeclaredTypeInstance(type='NDArray', params=None)}, args=['-7358658533967007486'], kwargs=None)], '-6431450014531788569': ['-4772016795270189587', CallNode(function='NDArrayCompat.from_ndarray', type_params=None, args=['1757153991661204000'], kwargs=None)], '-2825182354181474218': ['-1341672716970475800', CallNode(function='NDArrayCompat.to_ndarray', type_params=None, args=['-6431450014531788569'], kwargs=None)], '-4849121165648023211': ['-7358658533967007486', CallNode(function='NDArray.__getitem__', type_params=None, args=['-3791942308469970679', '-8215238012704140842'], kwargs=None)], '-4118936360968403820': ['6939635006650947043', CallNode(function='Maybe.just', type_params={'T': DeclaredTypeInstance(type='NDArray', params=None)}, args=['-4849121165648023211'], kwargs=None)], '9151508734577916712': ['-4772016795270189587', CallNode(function='NDArrayCompat.from_ndarray', type_params=None, args=['-4118936360968403820'], kwargs=None)], '4878043911049156648': ['-1341672716970475800', CallNode(function='NDArrayCompat.to_ndarray', type_params=None, args=['9151508734577916712'], kwargs=None)], '-130684388737434378': ['-130684388737434378', CallNode(function='NDArray.__getitem__', type_params=None, args=['7005412116804673500', '-8215238012704140842'], kwargs=None)], '-6652966630813919611': ['6939635006650947043', CallNode(function='Maybe.just', type_params={'T': DeclaredTypeInstance(type='NDArray', params=None)}, args=['-130684388737434378'], kwargs=None)], '-1772126965539794600': ['-4772016795270189587', CallNode(function='NDArrayCompat.from_ndarray', type_params=None, args=['-6652966630813919611'], kwargs=None)], '6639613543171332087': ['-1341672716970475800', CallNode(function='NDArrayCompat.to_ndarray', type_params=None, args=['-1772126965539794600'], kwargs=None)], '-822018105368020607': ['-1341672716970475800', CallNode(function='NDArray.to_ndarray', type_params=None, args=['-130684388737434378'], kwargs=None)], '-5924177586350510988': ['-5924177586350510988', CallNode(function='NDArray.to_ndarray', type_params=None, args=['7005412116804673500'], kwargs=None)], '-3794084279707917178': ['-3794084279707917178', CallNode(function='unbox_idxs', type_params=None, args=['-8215238012704140842'], kwargs=None)], '8167130955151987028': ['-1341672716970475800', CallNode(function='ndarray_getitem', type_params=None, args=['-5924177586350510988', '-3794084279707917178'], kwargs=None)], '7733020047603416001': ['-3794084279707917178', CallNode(function='unbox_integer', type_params=None, args=['2507768681348984026'], kwargs=None)], '-1936177253702646637': ['-1341672716970475800', CallNode(function='ndarray_getitem', type_params=None, args=['-5924177586350510988', '7733020047603416001'], kwargs=None)], '-2443851899239552952': ['-1341672716970475800', CallNode(function='ndarray_getitem', type_params=None, args=['-5924177586350510988', '-7737040241182541916'], kwargs=None)], '-4554451458422625093': ['-4554451458422625093', CallNode(function='NDArray.to_ndarray', type_params=None, args=['832424711665835764'], kwargs=None)], '-605144421018846031': ['-5924177586350510988', CallNode(function='ndarray_add', type_params=None, args=['-4554451458422625093', '-4554451458422625093'], kwargs=None)], '3451160987612206579': ['-1341672716970475800', CallNode(function='ndarray_getitem', type_params=None, args=['-605144421018846031', '-7737040241182541916'], kwargs=None)], '-5945887149520679823': ['-5945887149520679823', CallNode(function='unbox_integer', type_params=None, args=['-1313138448651871637'], kwargs=None)], '6728931720816540191': ['-4554451458422625093', CallNode(function='arange', type_params=None, args=['-5945887149520679823'], kwargs=None)], '982187547023505739': ['-5924177586350510988', CallNode(function='ndarray_add', type_params=None, args=['6728931720816540191', '6728931720816540191'], kwargs=None)], '-3617702396224439611': ['-1341672716970475800', CallNode(function='ndarray_getitem', type_params=None, args=['982187547023505739', '-7737040241182541916'], kwargs=None)], '-5426302648562200192': ['-4554451458422625093', CallNode(function='arange', type_params=None, args=['-7737040241287546841'], kwargs=None)], '-1559019789466886495': ['-5924177586350510988', CallNode(function='ndarray_add', type_params=None, args=['-5426302648562200192', '-5426302648562200192'], kwargs=None)], '-1977950438652841629': ['-1341672716970475800', CallNode(function='ndarray_getitem', type_params=None, args=['-1559019789466886495', '-7737040241182541916'], kwargs=None)], '-2445374449678023291': ['-4554451458422625093', PrimitiveNode(type='ndarray', repr='array([ 0,  1,  2,  3,  4,  5,  6,  7,  8,  9, 10, 11, 12, 13, 14, 15, 16,\\n       17, 18, 19, 20, 21, 22, 23, 24, 25, 26, 27, 28, 29, 30, 31, 32, 33,\\n       34, 35, 36, 37, 38, 39, 40, 41, 42, 43, 44, 45, 46, 47, 48, 49, 50,\\n       51, 52, 53, 54, 55, 56, 57, 58, 59, 60, 61, 62, 63, 64, 65, 66, 67,\\n       68, 69, 70, 71, 72, 73, 74, 75, 76, 77, 78, 79, 80, 81, 82, 83, 84,\\n       85, 86, 87, 88, 89, 90, 91, 92, 93, 94, 95, 96, 97, 98, 99])')], '-113230044411850379': ['-5924177586350510988', CallNode(function='ndarray_add', type_params=None, args=['-2445374449678023291', '-2445374449678023291'], kwargs=None)], '-2639700773170616961': ['-1341672716970475800', CallNode(function='ndarray_getitem', type_params=None, args=['-113230044411850379', '-7737040241182541916'], kwargs=None)], '-2445372945765011691': ['-5924177586350510988', PrimitiveNode(type='ndarray', repr='array([  0,   2,   4,   6,   8,  10,  12,  14,  16,  18,  20,  22,  24,\\n        26,  28,  30,  32,  34,  36,  38,  40,  42,  44,  46,  48,  50,\\n        52,  54,  56,  58,  60,  62,  64,  66,  68,  70,  72,  74,  76,\\n        78,  80,  82,  84,  86,  88,  90,  92,  94,  96,  98, 100, 102,\\n       104, 106, 108, 110, 112, 114, 116, 118, 120, 122, 124, 126, 128,\\n       130, 132, 134, 136, 138, 140, 142, 144, 146, 148, 150, 152, 154,\\n       156, 158, 160, 162, 164, 166, 168, 170, 172, 174, 176, 178, 180,\\n       182, 184, 186, 188, 190, 192, 194, 196, 198])')], '7356568875628748618': ['-1341672716970475800', CallNode(function='ndarray_getitem', type_params=None, args=['-2445372945765011691', '-7737040241182541916'], kwargs=None)], '-2445374578715003291': ['-1341672716970475800', PrimitiveNode(type='ndarray', repr='array(10)')]}, states=States(initial='-1341672716970475800', states=[State(node='4401045127674937437', rule='metadsl_core.numpy.NDArrayCompat.__getitem__', label=None), State(node='-5414010870836819202', rule='metadsl_core.either.convert_to_either', label=None), State(node='4400521622520585941', rule='metadsl_core.integer.convert_integer', label=None), State(node='4200151974066499054', rule='metadsl_core.numpy.arange', label=None), State(node='-6295496828373215480', rule='metadsl_core.integer.convert_integer', label=None), State(node='2324675140344447997', rule='metadsl_core.abstraction.Abstraction.from_fn', label=None), State(node='1908381767751359253', rule='metadsl_core.abstraction.Abstraction.from_fn', label=None), State(node='-3277789661791732314', rule='metadsl_core.abstraction.Abstraction.from_fn', label=None), State(node='5209810089249904264', rule='metadsl_core.abstraction.Abstraction.from_fn', label=None), State(node='-662424398955294436', rule='metadsl_core.maybe.Maybe.map', label=None), State(node='-7810628170542737225', rule='metadsl_core.maybe.Maybe.map', label=None), State(node='-6892723423229494128', rule='metadsl_core.maybe.Maybe.map', label=None), State(node='2693232617876807898', rule='metadsl_core.maybe.maybe_match', label=None), State(node='2401417412023419004', rule='metadsl_core.maybe.Maybe.map', label=None), State(node='2257210080031379373', rule='metadsl_core.maybe.Maybe.map', label=None), State(node='-3694455690306176878', rule='metadsl_core.maybe.maybe_match', label=None), State(node='5293063704123737227', rule='metadsl_core.maybe.maybe_match', label=None), State(node='3457235991837999757', rule='metadsl_core.abstraction.Abstraction.from_fn', label=None), State(node='2472475571885942040', rule='metadsl_core.abstraction.Abstraction.from_fn', label=None), State(node='-8669550500244779836', rule='metadsl_core.abstraction.Abstraction.from_fn', label=None), State(node='8940231038518898282', rule='metadsl_core.abstraction.compose', label=None), State(node='-7000641557897437974', rule='metadsl_core.abstraction.compose', label=None), State(node='-3024880416446209613', rule='metadsl_core.abstraction.compose', label=None), State(node='566977397139040001', rule='metadsl_core.abstraction.beta_reduce', label=None), State(node='8861366420831212813', rule='metadsl_core.maybe.maybe_or', label=None), State(node='5572985368883877492', rule='metadsl_core.abstraction.compose', label=None), State(node='4444370463340491573', rule='metadsl_core.abstraction.beta_reduce', label=None), State(node='6123761378249448669', rule='metadsl_core.abstraction.compose', label=None), State(node='2937955236600109562', rule='metadsl_core.abstraction.beta_reduce', label=None), State(node='-1150088198166487101', rule='metadsl_core.numpy.add_compat', label=None), State(node='7974229076958302095', rule='metadsl_core.numpy.convert_to_ndarray', label=None), State(node='-3190917013023287780', rule='metadsl_core.maybe.maybe_and', label=None), State(node='-3907054814130951697', rule='metadsl_core.maybe.maybe_match', label=None), State(node='-2825182354181474218', rule='metadsl_core.abstraction.beta_reduce', label=None), State(node='4878043911049156648', rule='metadsl_core.pair.pair_right', label=None), State(node='6639613543171332087', rule='metadsl_core.pair.pair_left', label=None), State(node='6639613543171332087', rule='', label='convert'), State(node='-822018105368020607', rule='metadsl_core.numpy.box_unbox_ndarray_compat', label=None), State(node='8167130955151987028', rule='metadsl_core.numpy_engine.unbox_ndarray_getitem', label=None), State(node='-1936177253702646637', rule='metadsl_core.numpy_engine.unbox_idxs_rule', label=None), State(node='-2443851899239552952', rule='metadsl_core.numpy_engine.unbox_integer_rule', label=None), State(node='3451160987612206579', rule='metadsl_core.numpy_engine.unbox_ndarray_add', label=None), State(node='-3617702396224439611', rule='metadsl_core.numpy_engine.unbox_arange', label=None), State(node='-1977950438652841629', rule='metadsl_core.numpy_engine.unbox_integer_rule', label=None), State(node='-1977950438652841629', rule='', label='unbox'), State(node='-2639700773170616961', rule='metadsl_core.numpy_engine.arange', label=None), State(node='7356568875628748618', rule='metadsl_core.numpy_engine.ndarray_add', label=None), State(node='-2445374578715003291', rule='metadsl_core.numpy_engine.ndarray_getitem', label=None), State(node='-2445374578715003291', rule='', label='execute')]))"
      ]
     },
     "metadata": {},
     "output_type": "display_data"
    },
    {
     "data": {
      "text/plain": [
       "array(10)"
      ]
     },
     "metadata": {},
     "output_type": "display_data"
    }
   ],
   "source": [
    "N = 100\n",
    "expr = (arange(N) + arange(N))[5].to_ndarray()\n",
    "expr"
   ]
  },
  {
   "cell_type": "markdown",
   "metadata": {},
   "source": [
    "Now, we can add an optimization replacement, so that we do the getitem before adding the two expressions:"
   ]
  },
  {
   "cell_type": "code",
   "execution_count": 3,
   "metadata": {},
   "outputs": [],
   "source": [
    "@register_optimize\n",
    "@rule\n",
    "def optimize_getitem_add(l: NDArray, r: NDArray, idx: IndxType) -> R[NDArray]:\n",
    "    return (\n",
    "        # expression to match against\n",
    "        (l + r)[idx],\n",
    "        # expression to replace it with\n",
    "        l[idx] + r[idx]\n",
    "    )"
   ]
  },
  {
   "cell_type": "markdown",
   "metadata": {},
   "source": [
    "Now, when we look at the execution steps, we see that it is doing each getitem before adding, which should be more efficient:"
   ]
  },
  {
   "cell_type": "code",
   "execution_count": 4,
   "metadata": {},
   "outputs": [
    {
     "data": {
      "application/json": {
       "nodes": {
        "-1008952941889716478": [
         "-3702009093770552402",
         {
          "args": [
           "5854273997014633704",
           "-4678793630453082750"
          ],
          "function": "Maybe.__or__",
          "type_params": {
           "T": {
            "params": {
             "T": {
              "type": "Integer"
             },
             "U": {
              "params": {
               "T": {
                "type": "Integer"
               }
              },
              "type": "Vec"
             }
            },
            "type": "Either"
           }
          }
         }
        ],
        "-1075160585155683893": [
         "-1341672716970475800",
         {
          "args": [
           "-7831809386955750473"
          ],
          "function": "NDArrayCompat.to_ndarray"
         }
        ],
        "-1176136162159317166": [
         "-1176136162159317166",
         {
          "args": [
           "-2020586981356496369",
           "-3702009093770552402"
          ],
          "function": "Maybe.__and__",
          "type_params": {
           "T": {
            "type": "NDArray"
           }
          }
         }
        ],
        "-1246086197087025627": [
         "-3602988945447969937",
         {
          "args": [
           "4963759302425763067",
           "3967412119596498165"
          ],
          "function": "Maybe.map",
          "type_params": {
           "T": {
            "params": {
             "T": {
              "type": "NDArray"
             },
             "U": {
              "params": {
               "T": {
                "type": "Integer"
               },
               "U": {
                "params": {
                 "T": {
                  "type": "Integer"
                 }
                },
                "type": "Vec"
               }
              },
              "type": "Either"
             }
            },
            "type": "Pair"
           }
          }
         }
        ],
        "-1252495552457240223": [
         "-1176136162159317166",
         {
          "args": [
           "-6203650838009083156",
           "4351124380524720886"
          ],
          "function": "Maybe.__and__",
          "type_params": {
           "T": {
            "type": "NDArray"
           }
          }
         }
        ],
        "-1291728310689516092": [
         "-3602988945447969937",
         {
          "args": [
           "-4324498121408073500"
          ],
          "function": "Maybe.just",
          "type_params": {
           "T": {
            "type": "NDArray"
           }
          }
         }
        ],
        "-1294418605310832295": [
         "6119802382549264123",
         {
          "args": [
           "-5297356175593613083",
           "205164300450344970"
          ],
          "function": "Maybe.__or__",
          "type_params": {
           "T": {
            "params": {
             "T": {
              "type": "Integer"
             },
             "U": {
              "params": {
               "T": {
                "type": "Integer"
               }
              },
              "type": "Vec"
             }
            },
            "type": "Either"
           }
          }
         }
        ],
        "-130684388737434378": [
         "-7358658533967007486",
         {
          "args": [
           "7005412116804673500",
           "-8215238012704140842"
          ],
          "function": "NDArray.__getitem__"
         }
        ],
        "-1313138448651871637": [
         "-1313138448651871637",
         {
          "args": [
           "-7737040241287546841"
          ],
          "function": "Integer.from_int"
         }
        ],
        "-1341672716970475800": [
         "-1341672716970475800",
         {
          "args": [
           "-4772016795270189587"
          ],
          "function": "NDArrayCompat.to_ndarray"
         }
        ],
        "-1355390672785264383": [
         "6119802382549264123",
         {
          "args": [
           "6054610842773739130",
           "-8693574137465041742"
          ],
          "function": "Maybe.__or__",
          "type_params": {
           "T": {
            "params": {
             "T": {
              "type": "Integer"
             },
             "U": {
              "params": {
               "T": {
                "type": "Integer"
               }
              },
              "type": "Vec"
             }
            },
            "type": "Either"
           }
          }
         }
        ],
        "-1372317109959694973": [
         "-1372317109959694973",
         {
          "args": [
           "2507768681348984026"
          ],
          "function": "Maybe.just"
         }
        ],
        "-1664369273837116889": [
         "-4772016795270189587",
         {
          "args": [
           "5130999143968338142"
          ],
          "function": "NDArrayCompat.from_ndarray"
         }
        ],
        "-1669249308957284923": [
         "-1669249308957284923",
         {
          "args": [
           "5872572339045335076",
           "-9003153576216423860"
          ],
          "function": "NDArray.__getitem__"
         }
        ],
        "-1698211826538905357": [
         "-4772016795270189587",
         {
          "args": [
           "-2460974168755011291"
          ],
          "function": "NDArrayCompat.from_ndarray"
         }
        ],
        "-1772126965539794600": [
         "-4772016795270189587",
         {
          "args": [
           "-6652966630813919611"
          ],
          "function": "NDArrayCompat.from_ndarray"
         }
        ],
        "-1828603300170214036": [
         "7129645178974278596",
         {
          "args": [
           "4767376851968140894",
           "4767376851968140894"
          ],
          "function": "NDArrayCompat.__add__"
         }
        ],
        "-1894269937027086384": [
         "-1894269937027086384",
         {
          "args": [
           "-4855096197904090350"
          ],
          "function": "Abstraction.from_fn"
         }
        ],
        "-189545260843302981": [
         "-3702009093770552402",
         {
          "args": [
           "-8215238012704140842"
          ],
          "function": "Maybe.just"
         }
        ],
        "-2020586981356496369": [
         "-2020586981356496369",
         {
          "args": [
           "6785135613727947616"
          ],
          "function": "Converter.convert",
          "type_params": {
           "T": {
            "type": "NDArray"
           }
          }
         }
        ],
        "-2079565683212384912": [
         "8017410877576515236",
         {
          "args": [
           "-2410300585153220666",
           "-1294418605310832295"
          ],
          "function": "Maybe.__and__",
          "type_params": {
           "T": {
            "type": "NDArray"
           }
          }
         }
        ],
        "-2180327752598035810": [
         "-1341672716970475800",
         {
          "args": [
           "-5111982997682360305"
          ],
          "function": "NDArrayCompat.to_ndarray"
         }
        ],
        "-2379822715312111207": [
         "-2379822715312111207",
         {
          "args": [
           "7281639658939935167",
           "-8574334911283847007"
          ],
          "function": "Abstraction.create",
          "type_params": {
           "T": {
            "type": "NDArray"
           },
           "U": {
            "params": {
             "T": {
              "type": "NDArray"
             }
            },
            "type": "Maybe"
           }
          }
         }
        ],
        "-2410300585153220666": [
         "-2410300585153220666",
         {
          "args": [
           "7129645178974278596"
          ],
          "function": "Converter.convert",
          "type_params": {
           "T": {
            "type": "NDArray"
           }
          }
         }
        ],
        "-2445373787778937291": [
         "61498299686903143",
         {
          "repr": "array(5)",
          "type": "ndarray"
         }
        ],
        "-2445374677926254491": [
         "-4554451458422625093",
         {
          "repr": "array([ 0,  1,  2,  3,  4,  5,  6,  7,  8,  9, 10, 11, 12, 13, 14, 15, 16,\n       17, 18, 19, 20, 21, 22, 23, 24, 25, 26, 27, 28, 29, 30, 31, 32, 33,\n       34, 35, 36, 37, 38, 39, 40, 41, 42, 43, 44, 45, 46, 47, 48, 49, 50,\n       51, 52, 53, 54, 55, 56, 57, 58, 59, 60, 61, 62, 63, 64, 65, 66, 67,\n       68, 69, 70, 71, 72, 73, 74, 75, 76, 77, 78, 79, 80, 81, 82, 83, 84,\n       85, 86, 87, 88, 89, 90, 91, 92, 93, 94, 95, 96, 97, 98, 99])",
          "type": "ndarray"
         }
        ],
        "-2460974168755011291": [
         "-3602988945447969937",
         {
          "args": [
           "5034270711710687634",
           "9032834383112645395",
           "1046799996242804096"
          ],
          "function": "Maybe.match",
          "type_params": {
           "T": {
            "params": {
             "T": {
              "type": "NDArray"
             },
             "U": {
              "params": {
               "T": {
                "type": "Integer"
               },
               "U": {
                "params": {
                 "T": {
                  "type": "Integer"
                 }
                },
                "type": "Vec"
               }
              },
              "type": "Either"
             }
            },
            "type": "Pair"
           }
          }
         }
        ],
        "-2556112163304457": [
         "-1176136162159317166",
         {
          "args": [
           "5958914858003784629"
          ],
          "function": "Maybe.just"
         }
        ],
        "-2566616952428506439": [
         "-3602988945447969937",
         {
          "args": [
           "-6393243522916429279",
           "9032834383112645395",
           "-4499936965109676736"
          ],
          "function": "Maybe.match",
          "type_params": {
           "T": {
            "params": {
             "T": {
              "type": "NDArray"
             },
             "U": {
              "params": {
               "T": {
                "type": "Integer"
               },
               "U": {
                "params": {
                 "T": {
                  "type": "Integer"
                 }
                },
                "type": "Vec"
               }
              },
              "type": "Either"
             }
            },
            "type": "Pair"
           }
          }
         }
        ],
        "-2607264151601447062": [
         "-8693574137465041742",
         {
          "args": [
           "-7726250483385592724",
           "542625740483342888",
           "2085146165325110638"
          ],
          "function": "Maybe.match",
          "type_params": {
           "T": {
            "params": {
             "T": {
              "type": "Integer"
             }
            },
            "type": "Vec"
           }
          }
         }
        ],
        "-2666192187224006763": [
         "-1341672716970475800",
         {
          "args": [
           "-2445373787778937291",
           "-2445373787778937291"
          ],
          "function": "ndarray_add"
         }
        ],
        "-2718709984261421422": [
         "6119802382549264123",
         {
          "args": [
           "6054610842773739130",
           "205164300450344970"
          ],
          "function": "Maybe.__or__",
          "type_params": {
           "T": {
            "params": {
             "T": {
              "type": "Integer"
             },
             "U": {
              "params": {
               "T": {
                "type": "Integer"
               }
              },
              "type": "Vec"
             }
            },
            "type": "Either"
           }
          }
         }
        ],
        "-2730709662832543356": [
         "-1176136162159317166",
         {
          "args": [
           "385105171314180610",
           "198719414552122372"
          ],
          "function": "Maybe.__and__",
          "type_params": {
           "T": {
            "type": "NDArray"
           }
          }
         }
        ],
        "-2825182354181474218": [
         "-1341672716970475800",
         {
          "args": [
           "-6431450014531788569"
          ],
          "function": "NDArrayCompat.to_ndarray"
         }
        ],
        "-2879884706675895873": [
         "-5711639544431828191",
         {
          "args": [
           "-8215238012704140842"
          ],
          "function": "Maybe.just",
          "type_params": {
           "T": {
            "params": {
             "T": {
              "type": "Integer"
             },
             "U": {
              "params": {
               "T": {
                "type": "Integer"
               }
              },
              "type": "Vec"
             }
            },
            "type": "Either"
           }
          }
         }
        ],
        "-305335187543291677": [
         "-1341672716970475800",
         {
          "args": [
           "8117533198369204841"
          ],
          "function": "NDArrayCompat.to_ndarray"
         }
        ],
        "-3104718932427049796": [
         "8017410877576515236",
         {
          "args": [
           "1132426380630645017",
           "-2718709984261421422"
          ],
          "function": "Maybe.__and__",
          "type_params": {
           "T": {
            "type": "NDArray"
           }
          }
         }
        ],
        "-3126248252036041104": [
         "-3126248252036041104",
         {
          "args": [
           "4954432025238118249"
          ],
          "function": "Abstraction.create_variable",
          "type_params": {
           "T": {
            "params": {
             "T": {
              "type": "Integer"
             },
             "U": {
              "params": {
               "T": {
                "type": "Integer"
               }
              },
              "type": "Vec"
             }
            },
            "type": "Either"
           },
           "U": {
            "params": {
             "T": {
              "params": {
               "T": {
                "type": "Integer"
               },
               "U": {
                "params": {
                 "T": {
                  "type": "Integer"
                 }
                },
                "type": "Vec"
               }
              },
              "type": "Either"
             }
            },
            "type": "Maybe"
           }
          }
         }
        ],
        "-31621047551986260": [
         "-1341672716970475800",
         {
          "args": [
           "-1664369273837116889"
          ],
          "function": "NDArrayCompat.to_ndarray"
         }
        ],
        "-3392481267222404138": [
         "-1341672716970475800",
         {
          "args": [
           "-8553321738658996376"
          ],
          "function": "NDArrayCompat.to_ndarray"
         }
        ],
        "-3520520859224783734": [
         "-4772016795270189587",
         {
          "args": [
           "-6382185992886453333"
          ],
          "function": "NDArrayCompat.from_ndarray"
         }
        ],
        "-3524978464740929255": [
         "-3524978464740929255",
         {
          "args": [
           "832424711665835764",
           "-8215238012704140842"
          ],
          "function": "NDArray.__getitem__"
         }
        ],
        "-3602988945447969937": [
         "-3602988945447969937",
         {
          "args": [
           "8017410877576515236",
           "3967412119596498165"
          ],
          "function": "Maybe.map",
          "type_params": {
           "T": {
            "params": {
             "T": {
              "type": "NDArray"
             },
             "U": {
              "params": {
               "T": {
                "type": "Integer"
               },
               "U": {
                "params": {
                 "T": {
                  "type": "Integer"
                 }
                },
                "type": "Vec"
               }
              },
              "type": "Either"
             }
            },
            "type": "Pair"
           }
          }
         }
        ],
        "-3636815010278867181": [
         "-1176136162159317166",
         {
          "args": [
           "-6441190819633492294",
           "-189545260843302981"
          ],
          "function": "Maybe.__and__",
          "type_params": {
           "T": {
            "type": "NDArray"
           }
          }
         }
        ],
        "-3644965817071629006": [
         "-3644965817071629006",
         {
          "args": [
           "-1669249308957284923"
          ],
          "function": "Maybe.just",
          "type_params": {
           "T": {
            "type": "NDArray"
           }
          }
         }
        ],
        "-3702009093770552402": [
         "-3702009093770552402",
         {
          "args": [
           "-5711639544431828191",
           "-8693574137465041742"
          ],
          "function": "Maybe.__or__",
          "type_params": {
           "T": {
            "params": {
             "T": {
              "type": "Integer"
             },
             "U": {
              "params": {
               "T": {
                "type": "Integer"
               }
              },
              "type": "Vec"
             }
            },
            "type": "Either"
           }
          }
         }
        ],
        "-3791942308469970679": [
         "-3791942308469970679",
         {
          "args": [
           "5958914858003784629"
          ],
          "function": "Pair.left",
          "type_params": {
           "T": {
            "type": "NDArray"
           },
           "U": {
            "params": {
             "T": {
              "type": "Integer"
             },
             "U": {
              "params": {
               "T": {
                "type": "Integer"
               }
              },
              "type": "Vec"
             }
            },
            "type": "Either"
           }
          }
         }
        ],
        "-3794084279707917178": [
         "-3794084279707917178",
         {
          "args": [
           "-8215238012704140842"
          ],
          "function": "unbox_idxs"
         }
        ],
        "-3875335050971398825": [
         "-3875335050971398825",
         {
          "args": [
           "-4268939887078651459"
          ],
          "function": "Abstraction.create_variable",
          "type_params": {
           "T": {
            "params": {
             "T": {
              "type": "NDArray"
             },
             "U": {
              "params": {
               "T": {
                "type": "Integer"
               },
               "U": {
                "params": {
                 "T": {
                  "type": "Integer"
                 }
                },
                "type": "Vec"
               }
              },
              "type": "Either"
             }
            },
            "type": "Pair"
           },
           "U": {
            "type": "NDArray"
           }
          }
         }
        ],
        "-3976014159338974906": [
         "-3976014159338974906",
         {
          "args": [
           "2339027244142301325"
          ],
          "function": "Maybe.just",
          "type_params": {
           "T": {
            "params": {
             "T": {
              "type": "Integer"
             },
             "U": {
              "params": {
               "T": {
                "type": "Integer"
               }
              },
              "type": "Vec"
             }
            },
            "type": "Either"
           }
          }
         }
        ],
        "-407574838471314743": [
         "-4772016795270189587",
         {
          "args": [
           "-9085725868781594295"
          ],
          "function": "NDArrayCompat.from_ndarray"
         }
        ],
        "-4109104279317326397": [
         "-3602988945447969937",
         {
          "args": [
           "-1252495552457240223",
           "9032834383112645395",
           "-4499936965109676736"
          ],
          "function": "Maybe.match",
          "type_params": {
           "T": {
            "params": {
             "T": {
              "type": "NDArray"
             },
             "U": {
              "params": {
               "T": {
                "type": "Integer"
               },
               "U": {
                "params": {
                 "T": {
                  "type": "Integer"
                 }
                },
                "type": "Vec"
               }
              },
              "type": "Either"
             }
            },
            "type": "Pair"
           }
          }
         }
        ],
        "-4118936360968403820": [
         "-3602988945447969937",
         {
          "args": [
           "-4849121165648023211"
          ],
          "function": "Maybe.just",
          "type_params": {
           "T": {
            "type": "NDArray"
           }
          }
         }
        ],
        "-4268939874013657234": [
         "-4268939874013657234",
         {
          "repr": "Variable(4763568336)",
          "type": "Variable"
         }
        ],
        "-4268939887078651459": [
         "-4268939887078651459",
         {
          "repr": "Variable(4763508352)",
          "type": "Variable"
         }
        ],
        "-4268939902715725084": [
         "-4268939902715725084",
         {
          "repr": "Variable(4763273200)",
          "type": "Variable"
         }
        ],
        "-4281465664748425999": [
         "-4772016795270189587",
         {
          "args": [
           "-472985709481612258"
          ],
          "function": "NDArrayCompat.from_ndarray"
         }
        ],
        "-4308935643043434189": [
         "-4308935643043434189",
         {
          "args": [
           "-7737040241287546841"
          ],
          "function": "Converter.convert",
          "type_params": {
           "T": {
            "type": "Integer"
           }
          }
         }
        ],
        "-4321933172678497012": [
         "6785135613727947616",
         {
          "args": [
           "1189092641968672543"
          ],
          "function": "NDArrayCompat.from_ndarray"
         }
        ],
        "-4324498121408073500": [
         "-4324498121408073500",
         {
          "args": [
           "-3524978464740929255",
           "-3524978464740929255"
          ],
          "function": "NDArray.__add__"
         }
        ],
        "-4340011705866237588": [
         "-3602988945447969937",
         {
          "args": [
           "-1176136162159317166",
           "9032834383112645395",
           "7808960626005506202"
          ],
          "function": "Maybe.match",
          "type_params": {
           "T": {
            "params": {
             "T": {
              "type": "NDArray"
             },
             "U": {
              "params": {
               "T": {
                "type": "Integer"
               },
               "U": {
                "params": {
                 "T": {
                  "type": "Integer"
                 }
                },
                "type": "Vec"
               }
              },
              "type": "Either"
             }
            },
            "type": "Pair"
           }
          }
         }
        ],
        "-4370075408063533460": [
         "6785135613727947616",
         {
          "args": [
           "5417034725160828583",
           "-6461914045271554147"
          ],
          "function": "NDArrayCompat.__add__"
         }
        ],
        "-4499936965109676736": [
         "-4499936965109676736",
         {
          "args": [
           "-3875335050971398825",
           "-3644965817071629006"
          ],
          "function": "Abstraction.create"
         }
        ],
        "-4551908584128113951": [
         "6785135613727947616",
         {
          "args": [
           "2402650112385120430",
           "-6111134292761862292"
          ],
          "function": "NDArrayCompat.__add__"
         }
        ],
        "-4554451458422625093": [
         "-4554451458422625093",
         {
          "args": [
           "832424711665835764"
          ],
          "function": "NDArray.to_ndarray"
         }
        ],
        "-4678793630453082750": [
         "-8693574137465041742",
         {
          "args": [
           "-7726250483385592724",
           "542625740483342888",
           "-4979443563467282184"
          ],
          "function": "Maybe.match",
          "type_params": {
           "T": {
            "params": {
             "T": {
              "type": "Integer"
             }
            },
            "type": "Vec"
           }
          }
         }
        ],
        "-4716166471986464590": [
         "-4716166471986464590",
         {
          "args": [
           "-7737040241182541916"
          ],
          "function": "Converter.convert",
          "type_params": {
           "T": {
            "type": "Integer"
           }
          }
         }
        ],
        "-472985709481612258": [
         "-3602988945447969937",
         {
          "args": [
           "-9094135327947837467",
           "9032834383112645395",
           "-4499936965109676736"
          ],
          "function": "Maybe.match",
          "type_params": {
           "T": {
            "params": {
             "T": {
              "type": "NDArray"
             },
             "U": {
              "params": {
               "T": {
                "type": "Integer"
               },
               "U": {
                "params": {
                 "T": {
                  "type": "Integer"
                 }
                },
                "type": "Vec"
               }
              },
              "type": "Either"
             }
            },
            "type": "Pair"
           }
          }
         }
        ],
        "-4749953547721358950": [
         "-4772016795270189587",
         {
          "args": [
           "3158674197833738872"
          ],
          "function": "NDArrayCompat.from_ndarray"
         }
        ],
        "-4772016795270189587": [
         "-4772016795270189587",
         {
          "args": [
           "7129645178974278596",
           "-7737040241182541916"
          ],
          "function": "NDArrayCompat.__getitem__"
         }
        ],
        "-4783420378234302645": [
         "-4783420378234302645",
         {
          "args": [
           "-3126248252036041104"
          ],
          "function": "Maybe.just",
          "type_params": {
           "T": {
            "params": {
             "T": {
              "type": "Integer"
             },
             "U": {
              "params": {
               "T": {
                "type": "Integer"
               }
              },
              "type": "Vec"
             }
            },
            "type": "Either"
           }
          }
         }
        ],
        "-4793305647002860029": [
         "-3602988945447969937",
         {
          "args": [
           "8545906501954801275",
           "9032834383112645395",
           "1046799996242804096"
          ],
          "function": "Maybe.match",
          "type_params": {
           "T": {
            "params": {
             "T": {
              "type": "NDArray"
             },
             "U": {
              "params": {
               "T": {
                "type": "Integer"
               },
               "U": {
                "params": {
                 "T": {
                  "type": "Integer"
                 }
                },
                "type": "Vec"
               }
              },
              "type": "Either"
             }
            },
            "type": "Pair"
           }
          }
         }
        ],
        "-4849121165648023211": [
         "-7358658533967007486",
         {
          "args": [
           "-3791942308469970679",
           "-8215238012704140842"
          ],
          "function": "NDArray.__getitem__"
         }
        ],
        "-4855096197904090350": [
         "-4855096197904090350",
         {
          "repr": "Maybe.just",
          "type": "BoundInfer"
         }
        ],
        "-4896702136590049048": [
         "-4896702136590049048",
         {
          "repr": "Either.left",
          "type": "BoundInfer"
         }
        ],
        "-4979443563467282184": [
         "-4979443563467282184",
         {
          "args": [
           "2013462788875869881",
           "188400188245589463"
          ],
          "function": "Abstraction.__add__",
          "type_params": {
           "T": {
            "params": {
             "T": {
              "type": "Integer"
             },
             "U": {
              "params": {
               "T": {
                "type": "Integer"
               }
              },
              "type": "Vec"
             }
            },
            "type": "Either"
           },
           "U": {
            "params": {
             "T": {
              "params": {
               "T": {
                "type": "Integer"
               },
               "U": {
                "params": {
                 "T": {
                  "type": "Integer"
                 }
                },
                "type": "Vec"
               }
              },
              "type": "Either"
             }
            },
            "type": "Maybe"
           }
          }
         }
        ],
        "-4981525845887472322": [
         "-5711639544431828191",
         {
          "args": [
           "251136556258223993",
           "2507768681348984026"
          ],
          "function": "Abstraction.__call__",
          "type_params": {
           "T": {
            "type": "Integer"
           },
           "U": {
            "params": {
             "T": {
              "params": {
               "T": {
                "type": "Integer"
               },
               "U": {
                "params": {
                 "T": {
                  "type": "Integer"
                 }
                },
                "type": "Vec"
               }
              },
              "type": "Either"
             }
            },
            "type": "Maybe"
           }
          }
         }
        ],
        "-5101555656379093944": [
         "-3602988945447969937",
         {
          "args": [
           "9140600949285495489",
           "9032834383112645395",
           "-4499936965109676736"
          ],
          "function": "Maybe.match",
          "type_params": {
           "T": {
            "params": {
             "T": {
              "type": "NDArray"
             },
             "U": {
              "params": {
               "T": {
                "type": "Integer"
               },
               "U": {
                "params": {
                 "T": {
                  "type": "Integer"
                 }
                },
                "type": "Vec"
               }
              },
              "type": "Either"
             }
            },
            "type": "Pair"
           }
          }
         }
        ],
        "-5111982997682360305": [
         "-4772016795270189587",
         {
          "args": [
           "7401884041843185269"
          ],
          "function": "NDArrayCompat.from_ndarray"
         }
        ],
        "-5146268985716721595": [
         "-4772016795270189587",
         {
          "args": [
           "1346994866555586890"
          ],
          "function": "NDArrayCompat.from_ndarray"
         }
        ],
        "-5297356175593613083": [
         "-5297356175593613083",
         {
          "args": [
           "-4716166471986464590",
           "-6964590781432730370"
          ],
          "function": "Maybe.map",
          "type_params": {
           "T": {
            "type": "Integer"
           }
          }
         }
        ],
        "-5307063207184114105": [
         "-3702009093770552402",
         {
          "args": [
           "-4981525845887472322",
           "-2607264151601447062"
          ],
          "function": "Maybe.__or__",
          "type_params": {
           "T": {
            "params": {
             "T": {
              "type": "Integer"
             },
             "U": {
              "params": {
               "T": {
                "type": "Integer"
               }
              },
              "type": "Vec"
             }
            },
            "type": "Either"
           }
          }
         }
        ],
        "-5413586861969663004": [
         "-1341672716970475800",
         {
          "args": [
           "-6196032312521897343"
          ],
          "function": "NDArrayCompat.to_ndarray"
         }
        ],
        "-5426302648562200192": [
         "-4554451458422625093",
         {
          "args": [
           "-7737040241287546841"
          ],
          "function": "arange"
         }
        ],
        "-5512253243893875115": [
         "-3602988945447969937",
         {
          "args": [
           "6891494960931475679",
           "9032834383112645395",
           "7808960626005506202"
          ],
          "function": "Maybe.match",
          "type_params": {
           "T": {
            "params": {
             "T": {
              "type": "NDArray"
             },
             "U": {
              "params": {
               "T": {
                "type": "Integer"
               },
               "U": {
                "params": {
                 "T": {
                  "type": "Integer"
                 }
                },
                "type": "Vec"
               }
              },
              "type": "Either"
             }
            },
            "type": "Pair"
           }
          }
         }
        ],
        "-552847069780420540": [
         "-1341672716970475800",
         {
          "args": [
           "-8920415250739751582"
          ],
          "function": "NDArrayCompat.to_ndarray"
         }
        ],
        "-5685572929299947036": [
         "-5685572929299947036",
         {
          "repr": "arange_",
          "type": "Infer"
         }
        ],
        "-5706337675686693319": [
         "-4772016795270189587",
         {
          "args": [
           "3805090939023735797"
          ],
          "function": "NDArrayCompat.from_ndarray"
         }
        ],
        "-5711639544431828191": [
         "-5711639544431828191",
         {
          "args": [
           "-1372317109959694973",
           "-6625266454406091376"
          ],
          "function": "Maybe.map",
          "type_params": {
           "T": {
            "type": "Integer"
           }
          }
         }
        ],
        "-5820135210059900471": [
         "-4772016795270189587",
         {
          "args": [
           "-5101555656379093944"
          ],
          "function": "NDArrayCompat.from_ndarray"
         }
        ],
        "-5826833939395959489": [
         "8017410877576515236",
         {
          "args": [
           "4408648251278560909",
           "-3702009093770552402"
          ],
          "function": "Maybe.__and__",
          "type_params": {
           "T": {
            "type": "NDArray"
           }
          }
         }
        ],
        "-5832606559030254283": [
         "-3602988945447969937",
         {
          "args": [
           "-5826833939395959489",
           "6914557858993007492"
          ],
          "function": "Maybe.map",
          "type_params": {
           "T": {
            "params": {
             "T": {
              "type": "NDArray"
             },
             "U": {
              "params": {
               "T": {
                "type": "Integer"
               },
               "U": {
                "params": {
                 "T": {
                  "type": "Integer"
                 }
                },
                "type": "Vec"
               }
              },
              "type": "Either"
             }
            },
            "type": "Pair"
           }
          }
         }
        ],
        "-5838605260233094508": [
         "-5838605260233094508",
         {
          "args": [
           "-6059403141323843149",
           "9032834383112645395",
           "-7005933830148898301"
          ],
          "function": "Maybe.match",
          "type_params": {
           "T": {
            "type": "Integer"
           }
          }
         }
        ],
        "-5913722577499261700": [
         "-1341672716970475800",
         {
          "args": [
           "-5706337675686693319"
          ],
          "function": "NDArrayCompat.to_ndarray"
         }
        ],
        "-5945887149520679823": [
         "-5945887149520679823",
         {
          "args": [
           "-1313138448651871637"
          ],
          "function": "unbox_integer"
         }
        ],
        "-5999552685951690708": [
         "61498299686903143",
         {
          "args": [
           "-4554451458422625093",
           "-3794084279707917178"
          ],
          "function": "ndarray_getitem"
         }
        ],
        "-6059403141323843149": [
         "-6059403141323843149",
         {
          "args": [
           "-1313138448651871637"
          ],
          "function": "Maybe.just"
         }
        ],
        "-6111134292761862292": [
         "-8162579586956751115",
         {
          "args": [
           "1646416269224374271"
          ],
          "function": "NDArrayCompat.from_ndarray"
         }
        ],
        "-6123343400095293073": [
         "-1341672716970475800",
         {
          "args": [
           "-8782132673342615821"
          ],
          "function": "NDArrayCompat.to_ndarray"
         }
        ],
        "-6196032312521897343": [
         "-4772016795270189587",
         {
          "args": [
           "-624756017752940690"
          ],
          "function": "NDArrayCompat.from_ndarray"
         }
        ],
        "-6203650838009083156": [
         "-2020586981356496369",
         {
          "args": [
           "291113876773064437"
          ],
          "function": "Converter.convert",
          "type_params": {
           "T": {
            "type": "NDArray"
           }
          }
         }
        ],
        "-6241056399904174417": [
         "-4772016795270189587",
         {
          "args": [
           "6394746674415015190"
          ],
          "function": "NDArrayCompat.from_ndarray"
         }
        ],
        "-6242270009852743544": [
         "-996850803608951878",
         {
          "args": [
           "5754708566465572294",
           "-1313138448651871637"
          ],
          "function": "Abstraction.__call__",
          "type_params": {
           "T": {
            "type": "Integer"
           },
           "U": {
            "params": {
             "T": {
              "type": "NDArray"
             }
            },
            "type": "Maybe"
           }
          }
         }
        ],
        "-624756017752940690": [
         "-3602988945447969937",
         {
          "args": [
           "-3636815010278867181",
           "9032834383112645395",
           "-4499936965109676736"
          ],
          "function": "Maybe.match",
          "type_params": {
           "T": {
            "params": {
             "T": {
              "type": "NDArray"
             },
             "U": {
              "params": {
               "T": {
                "type": "Integer"
               },
               "U": {
                "params": {
                 "T": {
                  "type": "Integer"
                 }
                },
                "type": "Vec"
               }
              },
              "type": "Either"
             }
            },
            "type": "Pair"
           }
          }
         }
        ],
        "-6382185992886453333": [
         "-3602988945447969937",
         {
          "args": [
           "-2730709662832543356",
           "9032834383112645395",
           "7808960626005506202"
          ],
          "function": "Maybe.match",
          "type_params": {
           "T": {
            "params": {
             "T": {
              "type": "NDArray"
             },
             "U": {
              "params": {
               "T": {
                "type": "Integer"
               },
               "U": {
                "params": {
                 "T": {
                  "type": "Integer"
                 }
                },
                "type": "Vec"
               }
              },
              "type": "Either"
             }
            },
            "type": "Pair"
           }
          }
         }
        ],
        "-6393243522916429279": [
         "-1176136162159317166",
         {
          "args": [
           "1567377495173190982",
           "-189545260843302981"
          ],
          "function": "Maybe.__and__",
          "type_params": {
           "T": {
            "type": "NDArray"
           }
          }
         }
        ],
        "-6431450014531788569": [
         "-4772016795270189587",
         {
          "args": [
           "1757153991661204000"
          ],
          "function": "NDArrayCompat.from_ndarray"
         }
        ],
        "-6441190819633492294": [
         "-2020586981356496369",
         {
          "args": [
           "8773204422329611200"
          ],
          "function": "Converter.convert",
          "type_params": {
           "T": {
            "type": "NDArray"
           }
          }
         }
        ],
        "-6461914045271554147": [
         "-6461914045271554147",
         {
          "args": [
           "-5838605260233094508"
          ],
          "function": "NDArrayCompat.from_ndarray"
         }
        ],
        "-6584392053997967718": [
         "7129645178974278596",
         {
          "args": [
           "-8012671916351216724",
           "-8012671916351216724"
          ],
          "function": "NDArrayCompat.__add__"
         }
        ],
        "-6621680720869191416": [
         "-1341672716970475800",
         {
          "args": [
           "-871511247662238325"
          ],
          "function": "NDArrayCompat.to_ndarray"
         }
        ],
        "-6625266454406091376": [
         "-6625266454406091376",
         {
          "args": [
           "7625737217546302985",
           "2339027244142301325"
          ],
          "function": "Abstraction.create",
          "type_params": {
           "T": {
            "type": "Integer"
           },
           "U": {
            "params": {
             "T": {
              "type": "Integer"
             },
             "U": {
              "params": {
               "T": {
                "type": "Integer"
               }
              },
              "type": "Vec"
             }
            },
            "type": "Either"
           }
          }
         }
        ],
        "-6652966630813919611": [
         "-3602988945447969937",
         {
          "args": [
           "-130684388737434378"
          ],
          "function": "Maybe.just",
          "type_params": {
           "T": {
            "type": "NDArray"
           }
          }
         }
        ],
        "-6750704868498848563": [
         "-7005933830148898301",
         {
          "args": [
           "-8573522558940743683",
           "9003221985443418126"
          ],
          "function": "Abstraction.__add__",
          "type_params": {
           "T": {
            "type": "NDArray"
           },
           "U": {
            "params": {
             "T": {
              "type": "NDArray"
             }
            },
            "type": "Maybe"
           }
          }
         }
        ],
        "-6823389713279306352": [
         "-1341672716970475800",
         {
          "args": [
           "-1698211826538905357"
          ],
          "function": "NDArrayCompat.to_ndarray"
         }
        ],
        "-6889420331530803721": [
         "-996850803608951878",
         {
          "args": [
           "-6750704868498848563",
           "-1313138448651871637"
          ],
          "function": "Abstraction.__call__",
          "type_params": {
           "T": {
            "type": "Integer"
           },
           "U": {
            "params": {
             "T": {
              "type": "NDArray"
             }
            },
            "type": "Maybe"
           }
          }
         }
        ],
        "-6957296477956939921": [
         "-1341672716970475800",
         {
          "args": [
           "-4281465664748425999"
          ],
          "function": "NDArrayCompat.to_ndarray"
         }
        ],
        "-6964590781432730370": [
         "-6964590781432730370",
         {
          "args": [
           "-4896702136590049048"
          ],
          "function": "Abstraction.from_fn"
         }
        ],
        "-7005933830148898301": [
         "-7005933830148898301",
         {
          "args": [
           "-1894269937027086384",
           "9003221985443418126"
          ],
          "function": "Abstraction.__add__",
          "type_params": {
           "T": {
            "type": "NDArray"
           },
           "U": {
            "params": {
             "T": {
              "type": "NDArray"
             }
            },
            "type": "Maybe"
           }
          }
         }
        ],
        "-7168999135197082336": [
         "61498299686903143",
         {
          "args": [
           "-4554451458422625093",
           "-7737040241182541916"
          ],
          "function": "ndarray_getitem"
         }
        ],
        "-7236370451967049007": [
         "-1341672716970475800",
         {
          "args": [
           "-5999552685951690708",
           "-5999552685951690708"
          ],
          "function": "ndarray_add"
         }
        ],
        "-7253073449237699425": [
         "-5711639544431828191",
         {
          "args": [
           "-8185615459012223365",
           "2507768681348984026"
          ],
          "function": "Abstraction.__call__",
          "type_params": {
           "T": {
            "type": "Integer"
           },
           "U": {
            "params": {
             "T": {
              "params": {
               "T": {
                "type": "Integer"
               },
               "U": {
                "params": {
                 "T": {
                  "type": "Integer"
                 }
                },
                "type": "Vec"
               }
              },
              "type": "Either"
             }
            },
            "type": "Maybe"
           }
          }
         }
        ],
        "-7300945258661788980": [
         "-1341672716970475800",
         {
          "args": [
           "-5820135210059900471"
          ],
          "function": "NDArrayCompat.to_ndarray"
         }
        ],
        "-7358658533967007486": [
         "-7358658533967007486",
         {
          "args": [
           "-3791942308469970679",
           "3286866018787861345"
          ],
          "function": "NDArray.__getitem__"
         }
        ],
        "-7359191991636668110": [
         "-1341672716970475800",
         {
          "args": [
           "4364530619847837896"
          ],
          "function": "NDArrayCompat.to_ndarray"
         }
        ],
        "-740474970012110432": [
         "-2020586981356496369",
         {
          "args": [
           "4512585717378328880"
          ],
          "function": "Converter.convert",
          "type_params": {
           "T": {
            "type": "NDArray"
           }
          }
         }
        ],
        "-7726250483385592724": [
         "-7726250483385592724",
         {
          "args": [
           "-7737040241182541916"
          ],
          "function": "Converter.convert",
          "type_params": {
           "T": {
            "params": {
             "T": {
              "type": "Integer"
             }
            },
            "type": "Vec"
           }
          }
         }
        ],
        "-7736171717475420916": [
         "-7736171717475420916",
         {
          "repr": "<function NDArrayCompat.__getitem__.<locals>.<lambda> at 0x11bed08c8>",
          "type": "function"
         }
        ],
        "-7737040241182541916": [
         "-3794084279707917178",
         {
          "repr": "5",
          "type": "int"
         }
        ],
        "-7737040241287546841": [
         "-5945887149520679823",
         {
          "repr": "100",
          "type": "int"
         }
        ],
        "-7767314672509380530": [
         "-7767314672509380530",
         {
          "args": [
           "4503027993476547237"
          ],
          "function": "Maybe.just",
          "type_params": {
           "T": {
            "params": {
             "T": {
              "type": "Integer"
             },
             "U": {
              "params": {
               "T": {
                "type": "Integer"
               }
              },
              "type": "Vec"
             }
            },
            "type": "Either"
           }
          }
         }
        ],
        "-7771624458473353169": [
         "-1341672716970475800",
         {
          "args": [
           "-7786420490840632653"
          ],
          "function": "NDArrayCompat.to_ndarray"
         }
        ],
        "-7786420490840632653": [
         "-4772016795270189587",
         {
          "args": [
           "7412020547346566241"
          ],
          "function": "NDArrayCompat.from_ndarray"
         }
        ],
        "-7820620210380381965": [
         "-1341672716970475800",
         {
          "args": [
           "8221764502619431706",
           "8221764502619431706"
          ],
          "function": "ndarray_add"
         }
        ],
        "-7831809386955750473": [
         "-4772016795270189587",
         {
          "args": [
           "1966643296235947824"
          ],
          "function": "NDArrayCompat.from_ndarray"
         }
        ],
        "-8012671916351216724": [
         "1450785392786500356",
         {
          "args": [
           "37540587745940159"
          ],
          "function": "NDArrayCompat.from_ndarray"
         }
        ],
        "-8028506287888493493": [
         "-1341672716970475800",
         {
          "args": [
           "6959752695278090588",
           "6959752695278090588"
          ],
          "function": "ndarray_add"
         }
        ],
        "-8162579586956751115": [
         "-8162579586956751115",
         {
          "args": [
           "-996850803608951878"
          ],
          "function": "NDArrayCompat.from_ndarray"
         }
        ],
        "-8185615459012223365": [
         "-8185615459012223365",
         {
          "args": [
           "2013462788875869881",
           "-6625266454406091376"
          ],
          "function": "Abstraction.__add__",
          "type_params": {
           "T": {
            "params": {
             "T": {
              "type": "Integer"
             },
             "U": {
              "params": {
               "T": {
                "type": "Integer"
               }
              },
              "type": "Vec"
             }
            },
            "type": "Either"
           },
           "U": {
            "params": {
             "T": {
              "params": {
               "T": {
                "type": "Integer"
               },
               "U": {
                "params": {
                 "T": {
                  "type": "Integer"
                 }
                },
                "type": "Vec"
               }
              },
              "type": "Either"
             }
            },
            "type": "Maybe"
           }
          }
         }
        ],
        "-8209878657701496208": [
         "-1341672716970475800",
         {
          "args": [
           "2428627549630500690"
          ],
          "function": "NDArrayCompat.to_ndarray"
         }
        ],
        "-8215238012704140842": [
         "-8215238012704140842",
         {
          "args": [
           "2507768681348984026"
          ],
          "function": "Either.left",
          "type_params": {
           "T": {
            "type": "Integer"
           },
           "U": {
            "params": {
             "T": {
              "type": "Integer"
             }
            },
            "type": "Vec"
           }
          }
         }
        ],
        "-8274878410779129228": [
         "-1341672716970475800",
         {
          "args": [
           "282018134317802959"
          ],
          "function": "NDArrayCompat.to_ndarray"
         }
        ],
        "-8480499291664650005": [
         "61498299686903143",
         {
          "args": [
           "-4554451458422625093",
           "7733020047603416001"
          ],
          "function": "ndarray_getitem"
         }
        ],
        "-8514678070449284044": [
         "-3702009093770552402",
         {
          "args": [
           "-2879884706675895873",
           "-9140232007187717295"
          ],
          "function": "Maybe.__or__",
          "type_params": {
           "T": {
            "params": {
             "T": {
              "type": "Integer"
             },
             "U": {
              "params": {
               "T": {
                "type": "Integer"
               }
              },
              "type": "Vec"
             }
            },
            "type": "Either"
           }
          }
         }
        ],
        "-8553321738658996376": [
         "-4772016795270189587",
         {
          "args": [
           "-5512253243893875115"
          ],
          "function": "NDArrayCompat.from_ndarray"
         }
        ],
        "-8573522558940743683": [
         "-1894269937027086384",
         {
          "args": [
           "3608346765094280245",
           "4096479446876412357"
          ],
          "function": "Abstraction.create",
          "type_params": {
           "T": {
            "type": "NDArray"
           },
           "U": {
            "params": {
             "T": {
              "type": "NDArray"
             }
            },
            "type": "Maybe"
           }
          }
         }
        ],
        "-8574334911283847007": [
         "-8574334911283847007",
         {
          "args": [
           "7281639658939935167"
          ],
          "function": "Maybe.just",
          "type_params": {
           "T": {
            "type": "NDArray"
           }
          }
         }
        ],
        "-8603939510305369917": [
         "-3602988945447969937",
         {
          "args": [
           "-3104718932427049796",
           "3967412119596498165"
          ],
          "function": "Maybe.map",
          "type_params": {
           "T": {
            "params": {
             "T": {
              "type": "NDArray"
             },
             "U": {
              "params": {
               "T": {
                "type": "Integer"
               },
               "U": {
                "params": {
                 "T": {
                  "type": "Integer"
                 }
                },
                "type": "Vec"
               }
              },
              "type": "Either"
             }
            },
            "type": "Pair"
           }
          }
         }
        ],
        "-8693574137465041742": [
         "-8693574137465041742",
         {
          "args": [
           "-7726250483385592724",
           "188400188245589463"
          ],
          "function": "Maybe.map",
          "type_params": {
           "T": {
            "params": {
             "T": {
              "type": "Integer"
             }
            },
            "type": "Vec"
           }
          }
         }
        ],
        "-8700033624836036710": [
         "-2020586981356496369",
         {
          "args": [
           "9218333403406334816"
          ],
          "function": "Converter.convert",
          "type_params": {
           "T": {
            "type": "NDArray"
           }
          }
         }
        ],
        "-871511247662238325": [
         "-4772016795270189587",
         {
          "args": [
           "5715674669693384074"
          ],
          "function": "NDArrayCompat.from_ndarray"
         }
        ],
        "-8782132673342615821": [
         "-4772016795270189587",
         {
          "args": [
           "1963395839922873124"
          ],
          "function": "NDArrayCompat.from_ndarray"
         }
        ],
        "-8896708649560101528": [
         "-8896708649560101528",
         {
          "args": [
           "-4308935643043434189",
           "577873550496070922"
          ],
          "function": "Maybe.map",
          "type_params": {
           "T": {
            "type": "Integer"
           }
          }
         }
        ],
        "-8900967940227574082": [
         "-1341672716970475800",
         {
          "args": [
           "-6241056399904174417"
          ],
          "function": "NDArrayCompat.to_ndarray"
         }
        ],
        "-8920415250739751582": [
         "-4772016795270189587",
         {
          "args": [
           "8710392345814282702"
          ],
          "function": "NDArrayCompat.from_ndarray"
         }
        ],
        "-9003153576216423860": [
         "-9003153576216423860",
         {
          "args": [
           "-3875335050971398825"
          ],
          "function": "Pair.right",
          "type_params": {
           "T": {
            "type": "NDArray"
           },
           "U": {
            "params": {
             "T": {
              "type": "Integer"
             },
             "U": {
              "params": {
               "T": {
                "type": "Integer"
               }
              },
              "type": "Vec"
             }
            },
            "type": "Either"
           }
          }
         }
        ],
        "-9013302310662663336": [
         "-1176136162159317166",
         {
          "args": [
           "1378789293694660462",
           "198719414552122372"
          ],
          "function": "Maybe.__and__",
          "type_params": {
           "T": {
            "type": "NDArray"
           }
          }
         }
        ],
        "-9085725868781594295": [
         "-3602988945447969937",
         {
          "args": [
           "-9013302310662663336",
           "9032834383112645395",
           "7808960626005506202"
          ],
          "function": "Maybe.match",
          "type_params": {
           "T": {
            "params": {
             "T": {
              "type": "NDArray"
             },
             "U": {
              "params": {
               "T": {
                "type": "Integer"
               },
               "U": {
                "params": {
                 "T": {
                  "type": "Integer"
                 }
                },
                "type": "Vec"
               }
              },
              "type": "Either"
             }
            },
            "type": "Pair"
           }
          }
         }
        ],
        "-9094135327947837467": [
         "-1176136162159317166",
         {
          "args": [
           "-6203650838009083156",
           "-189545260843302981"
          ],
          "function": "Maybe.__and__",
          "type_params": {
           "T": {
            "type": "NDArray"
           }
          }
         }
        ],
        "-9111108110381634133": [
         "-1176136162159317166",
         {
          "args": [
           "9122846817468309746",
           "198719414552122372"
          ],
          "function": "Maybe.__and__",
          "type_params": {
           "T": {
            "type": "NDArray"
           }
          }
         }
        ],
        "-9140232007187717295": [
         "-8693574137465041742",
         {
          "args": [
           "-7726250483385592724",
           "542625740483342888",
           "4654565502574162085"
          ],
          "function": "Maybe.match",
          "type_params": {
           "T": {
            "params": {
             "T": {
              "type": "Integer"
             }
            },
            "type": "Vec"
           }
          }
         }
        ],
        "-944428355994881963": [
         "-944428355994881963",
         {
          "repr": "Maybe.just",
          "type": "BoundInfer"
         }
        ],
        "-980197482290740729": [
         "-1176136162159317166",
         {
          "args": [
           "-2020586981356496369",
           "-1008952941889716478"
          ],
          "function": "Maybe.__and__",
          "type_params": {
           "T": {
            "type": "NDArray"
           }
          }
         }
        ],
        "-996850803608951878": [
         "-996850803608951878",
         {
          "args": [
           "-6059403141323843149",
           "9003221985443418126"
          ],
          "function": "Maybe.map",
          "type_params": {
           "T": {
            "type": "Integer"
           }
          }
         }
        ],
        "1046799996242804096": [
         "7808960626005506202",
         {
          "args": [
           "-8573522558940743683",
           "6914557858993007492"
          ],
          "function": "Abstraction.__add__",
          "type_params": {
           "T": {
            "type": "NDArray"
           },
           "U": {
            "params": {
             "T": {
              "type": "NDArray"
             }
            },
            "type": "Maybe"
           }
          }
         }
        ],
        "1132426380630645017": [
         "-2410300585153220666",
         {
          "args": [
           "-1828603300170214036"
          ],
          "function": "Converter.convert",
          "type_params": {
           "T": {
            "type": "NDArray"
           }
          }
         }
        ],
        "114517206094957062": [
         "5417034725160828583",
         {
          "args": [
           "3984286343726679996"
          ],
          "function": "NDArrayCompat.from_ndarray"
         }
        ],
        "1189092641968672543": [
         "-2020586981356496369",
         {
          "args": [
           "7005412116804673500"
          ],
          "function": "Maybe.just"
         }
        ],
        "1338288602999335341": [
         "1338288602999335341",
         {
          "args": [
           "-4268939902715725084"
          ],
          "function": "Abstraction.create_variable",
          "type_params": {
           "T": {
            "params": {
             "T": {
              "type": "Integer"
             }
            },
            "type": "Vec"
           },
           "U": {
            "params": {
             "T": {
              "type": "Integer"
             },
             "U": {
              "params": {
               "T": {
                "type": "Integer"
               }
              },
              "type": "Vec"
             }
            },
            "type": "Either"
           }
          }
         }
        ],
        "1346994866555586890": [
         "-3602988945447969937",
         {
          "args": [
           "7346142444234164539",
           "9032834383112645395",
           "-4499936965109676736"
          ],
          "function": "Maybe.match",
          "type_params": {
           "T": {
            "params": {
             "T": {
              "type": "NDArray"
             },
             "U": {
              "params": {
               "T": {
                "type": "Integer"
               },
               "U": {
                "params": {
                 "T": {
                  "type": "Integer"
                 }
                },
                "type": "Vec"
               }
              },
              "type": "Either"
             }
            },
            "type": "Pair"
           }
          }
         }
        ],
        "1378789293694660462": [
         "-2020586981356496369",
         {
          "args": [
           "6863904192855538109"
          ],
          "function": "Converter.convert",
          "type_params": {
           "T": {
            "type": "NDArray"
           }
          }
         }
        ],
        "1450785392786500356": [
         "1450785392786500356",
         {
          "args": [
           "-7737040241287546841"
          ],
          "function": "arange"
         }
        ],
        "1567377495173190982": [
         "-2020586981356496369",
         {
          "args": [
           "1771717578222139719"
          ],
          "function": "Converter.convert",
          "type_params": {
           "T": {
            "type": "NDArray"
           }
          }
         }
        ],
        "1614487485264017680": [
         "-1176136162159317166",
         {
          "args": [
           "1189092641968672543",
           "-189545260843302981"
          ],
          "function": "Maybe.__and__",
          "type_params": {
           "T": {
            "type": "NDArray"
           }
          }
         }
        ],
        "161942629437193568": [
         "161942629437193568",
         {
          "args": [
           "-7005933830148898301",
           "-1313138448651871637"
          ],
          "function": "Abstraction.__call__",
          "type_params": {
           "T": {
            "type": "Integer"
           },
           "U": {
            "params": {
             "T": {
              "type": "NDArray"
             }
            },
            "type": "Maybe"
           }
          }
         }
        ],
        "1646416269224374271": [
         "-996850803608951878",
         {
          "args": [
           "832424711665835764"
          ],
          "function": "Maybe.just",
          "type_params": {
           "T": {
            "type": "NDArray"
           }
          }
         }
        ],
        "1757153991661204000": [
         "-3602988945447969937",
         {
          "args": [
           "-7358658533967007486"
          ],
          "function": "Maybe.just",
          "type_params": {
           "T": {
            "type": "NDArray"
           }
          }
         }
        ],
        "1771717578222139719": [
         "6785135613727947616",
         {
          "args": [
           "683939614474263945",
           "-6111134292761862292"
          ],
          "function": "NDArrayCompat.__add__"
         }
        ],
        "1796649608107467623": [
         "-1176136162159317166",
         {
          "args": [
           "-6203650838009083156",
           "-8514678070449284044"
          ],
          "function": "Maybe.__and__",
          "type_params": {
           "T": {
            "type": "NDArray"
           }
          }
         }
        ],
        "1853330158292827626": [
         "-1176136162159317166",
         {
          "args": [
           "-6203650838009083156",
           "4000648793983003173"
          ],
          "function": "Maybe.__and__",
          "type_params": {
           "T": {
            "type": "NDArray"
           }
          }
         }
        ],
        "188400188245589463": [
         "188400188245589463",
         {
          "args": [
           "1338288602999335341",
           "4503027993476547237"
          ],
          "function": "Abstraction.create",
          "type_params": {
           "T": {
            "params": {
             "T": {
              "type": "Integer"
             }
            },
            "type": "Vec"
           },
           "U": {
            "params": {
             "T": {
              "type": "Integer"
             },
             "U": {
              "params": {
               "T": {
                "type": "Integer"
               }
              },
              "type": "Vec"
             }
            },
            "type": "Either"
           }
          }
         }
        ],
        "1963395839922873124": [
         "-3602988945447969937",
         {
          "args": [
           "386925839975183864",
           "3967412119596498165"
          ],
          "function": "Maybe.map",
          "type_params": {
           "T": {
            "params": {
             "T": {
              "type": "NDArray"
             },
             "U": {
              "params": {
               "T": {
                "type": "Integer"
               },
               "U": {
                "params": {
                 "T": {
                  "type": "Integer"
                 }
                },
                "type": "Vec"
               }
              },
              "type": "Either"
             }
            },
            "type": "Pair"
           }
          }
         }
        ],
        "1966643296235947824": [
         "-3602988945447969937",
         {
          "args": [
           "8210208567642912387",
           "9032834383112645395",
           "7808960626005506202"
          ],
          "function": "Maybe.match",
          "type_params": {
           "T": {
            "params": {
             "T": {
              "type": "NDArray"
             },
             "U": {
              "params": {
               "T": {
                "type": "Integer"
               },
               "U": {
                "params": {
                 "T": {
                  "type": "Integer"
                 }
                },
                "type": "Vec"
               }
              },
              "type": "Either"
             }
            },
            "type": "Pair"
           }
          }
         }
        ],
        "198719414552122372": [
         "-3702009093770552402",
         {
          "args": [
           "-7253073449237699425",
           "-4678793630453082750"
          ],
          "function": "Maybe.__or__",
          "type_params": {
           "T": {
            "params": {
             "T": {
              "type": "Integer"
             },
             "U": {
              "params": {
               "T": {
                "type": "Integer"
               }
              },
              "type": "Vec"
             }
            },
            "type": "Either"
           }
          }
         }
        ],
        "2013462788875869881": [
         "2013462788875869881",
         {
          "args": [
           "-944428355994881963"
          ],
          "function": "Abstraction.from_fn"
         }
        ],
        "205164300450344970": [
         "205164300450344970",
         {
          "args": [
           "-7726250483385592724",
           "5566425489881085421"
          ],
          "function": "Maybe.map",
          "type_params": {
           "T": {
            "params": {
             "T": {
              "type": "Integer"
             }
            },
            "type": "Vec"
           }
          }
         }
        ],
        "2053813111526377715": [
         "-1341672716970475800",
         {
          "args": [
           "-7168999135197082336",
           "-7168999135197082336"
          ],
          "function": "ndarray_add"
         }
        ],
        "2085146165325110638": [
         "-4979443563467282184",
         {
          "args": [
           "4635025401393889481",
           "188400188245589463"
          ],
          "function": "Abstraction.__add__",
          "type_params": {
           "T": {
            "params": {
             "T": {
              "type": "Integer"
             },
             "U": {
              "params": {
               "T": {
                "type": "Integer"
               }
              },
              "type": "Vec"
             }
            },
            "type": "Either"
           },
           "U": {
            "params": {
             "T": {
              "params": {
               "T": {
                "type": "Integer"
               },
               "U": {
                "params": {
                 "T": {
                  "type": "Integer"
                 }
                },
                "type": "Vec"
               }
              },
              "type": "Either"
             }
            },
            "type": "Maybe"
           }
          }
         }
        ],
        "2113797957111920961": [
         "-1176136162159317166",
         {
          "args": [
           "-2020586981356496369",
           "198719414552122372"
          ],
          "function": "Maybe.__and__",
          "type_params": {
           "T": {
            "type": "NDArray"
           }
          }
         }
        ],
        "2133007437973642621": [
         "-1341672716970475800",
         {
          "args": [
           "-8480499291664650005",
           "-8480499291664650005"
          ],
          "function": "ndarray_add"
         }
        ],
        "2169668488156492865": [
         "-2020586981356496369",
         {
          "args": [
           "5221238583677160674"
          ],
          "function": "Converter.convert",
          "type_params": {
           "T": {
            "type": "NDArray"
           }
          }
         }
        ],
        "2199921499689994227": [
         "-1341672716970475800",
         {
          "args": [
           "7851904239571723065"
          ],
          "function": "NDArrayCompat.to_ndarray"
         }
        ],
        "2242880065353338643": [
         "-4772016795270189587",
         {
          "args": [
           "-1291728310689516092"
          ],
          "function": "NDArrayCompat.from_ndarray"
         }
        ],
        "2339027244142301325": [
         "2339027244142301325",
         {
          "args": [
           "7625737217546302985"
          ],
          "function": "Either.left",
          "type_params": {
           "T": {
            "type": "Integer"
           },
           "U": {
            "params": {
             "T": {
              "type": "Integer"
             }
            },
            "type": "Vec"
           }
          }
         }
        ],
        "2402650112385120430": [
         "-8162579586956751115",
         {
          "args": [
           "-6889420331530803721"
          ],
          "function": "NDArrayCompat.from_ndarray"
         }
        ],
        "2428627549630500690": [
         "-4772016795270189587",
         {
          "args": [
           "-4793305647002860029"
          ],
          "function": "NDArrayCompat.from_ndarray"
         }
        ],
        "2507768681348984026": [
         "2507768681348984026",
         {
          "args": [
           "-7737040241182541916"
          ],
          "function": "Integer.from_int"
         }
        ],
        "251136556258223993": [
         "-8185615459012223365",
         {
          "args": [
           "4635025401393889481",
           "-6625266454406091376"
          ],
          "function": "Abstraction.__add__",
          "type_params": {
           "T": {
            "params": {
             "T": {
              "type": "Integer"
             },
             "U": {
              "params": {
               "T": {
                "type": "Integer"
               }
              },
              "type": "Vec"
             }
            },
            "type": "Either"
           },
           "U": {
            "params": {
             "T": {
              "params": {
               "T": {
                "type": "Integer"
               },
               "U": {
                "params": {
                 "T": {
                  "type": "Integer"
                 }
                },
                "type": "Vec"
               }
              },
              "type": "Either"
             }
            },
            "type": "Maybe"
           }
          }
         }
        ],
        "2631660266934350096": [
         "-1341672716970475800",
         {
          "args": [
           "8603521838397749616"
          ],
          "function": "NDArrayCompat.to_ndarray"
         }
        ],
        "282018134317802959": [
         "-4772016795270189587",
         {
          "args": [
           "-2566616952428506439"
          ],
          "function": "NDArrayCompat.from_ndarray"
         }
        ],
        "2900625666473827371": [
         "8017410877576515236",
         {
          "args": [
           "4408648251278560909",
           "-1355390672785264383"
          ],
          "function": "Maybe.__and__",
          "type_params": {
           "T": {
            "type": "NDArray"
           }
          }
         }
        ],
        "291113876773064437": [
         "6785135613727947616",
         {
          "args": [
           "2402650112385120430",
           "114517206094957062"
          ],
          "function": "NDArrayCompat.__add__"
         }
        ],
        "3145527808357273259": [
         "3145527808357273259",
         {
          "args": [
           "-2379822715312111207",
           "9003221985443418126"
          ],
          "function": "Abstraction.__add__",
          "type_params": {
           "T": {
            "type": "NDArray"
           },
           "U": {
            "params": {
             "T": {
              "type": "NDArray"
             }
            },
            "type": "Maybe"
           }
          }
         }
        ],
        "3158674197833738872": [
         "-3602988945447969937",
         {
          "args": [
           "2900625666473827371",
           "6914557858993007492"
          ],
          "function": "Maybe.map",
          "type_params": {
           "T": {
            "params": {
             "T": {
              "type": "NDArray"
             },
             "U": {
              "params": {
               "T": {
                "type": "Integer"
               },
               "U": {
                "params": {
                 "T": {
                  "type": "Integer"
                 }
                },
                "type": "Vec"
               }
              },
              "type": "Either"
             }
            },
            "type": "Pair"
           }
          }
         }
        ],
        "3286866018787861345": [
         "3286866018787861345",
         {
          "args": [
           "5958914858003784629"
          ],
          "function": "Pair.right",
          "type_params": {
           "T": {
            "type": "NDArray"
           },
           "U": {
            "params": {
             "T": {
              "type": "Integer"
             },
             "U": {
              "params": {
               "T": {
                "type": "Integer"
               }
              },
              "type": "Vec"
             }
            },
            "type": "Either"
           }
          }
         }
        ],
        "3321638441002206874": [
         "-8185615459012223365",
         {
          "args": [
           "7625737217546302985",
           "-3976014159338974906"
          ],
          "function": "Abstraction.create"
         }
        ],
        "3395790146293950618": [
         "6785135613727947616",
         {
          "args": [
           "5417034725160828583",
           "5417034725160828583"
          ],
          "function": "NDArrayCompat.__add__"
         }
        ],
        "344329709028571110": [
         "-3602988945447969937",
         {
          "args": [
           "1853330158292827626",
           "9032834383112645395",
           "-4499936965109676736"
          ],
          "function": "Maybe.match",
          "type_params": {
           "T": {
            "params": {
             "T": {
              "type": "NDArray"
             },
             "U": {
              "params": {
               "T": {
                "type": "Integer"
               },
               "U": {
                "params": {
                 "T": {
                  "type": "Integer"
                 }
                },
                "type": "Vec"
               }
              },
              "type": "Either"
             }
            },
            "type": "Pair"
           }
          }
         }
        ],
        "3608346765094280245": [
         "3608346765094280245",
         {
          "args": [
           "4954432109362218524"
          ],
          "function": "Abstraction.create_variable",
          "type_params": {
           "T": {
            "type": "NDArray"
           },
           "U": {
            "params": {
             "T": {
              "type": "NDArray"
             }
            },
            "type": "Maybe"
           }
          }
         }
        ],
        "3625077533213321691": [
         "-1341672716970475800",
         {
          "args": [
           "61498299686903143",
           "61498299686903143"
          ],
          "function": "ndarray_add"
         }
        ],
        "3720862681910269017": [
         "-4772016795270189587",
         {
          "args": [
           "6681686493132688404"
          ],
          "function": "NDArrayCompat.from_ndarray"
         }
        ],
        "37540587745940159": [
         "-8896708649560101528",
         {
          "args": [
           "-6059403141323843149",
           "577873550496070922"
          ],
          "function": "Maybe.map",
          "type_params": {
           "T": {
            "type": "Integer"
           }
          }
         }
        ],
        "3805090939023735797": [
         "-3602988945447969937",
         {
          "args": [
           "2113797957111920961",
           "9032834383112645395",
           "7808960626005506202"
          ],
          "function": "Maybe.match",
          "type_params": {
           "T": {
            "params": {
             "T": {
              "type": "NDArray"
             },
             "U": {
              "params": {
               "T": {
                "type": "Integer"
               },
               "U": {
                "params": {
                 "T": {
                  "type": "Integer"
                 }
                },
                "type": "Vec"
               }
              },
              "type": "Either"
             }
            },
            "type": "Pair"
           }
          }
         }
        ],
        "385105171314180610": [
         "-2020586981356496369",
         {
          "args": [
           "3395790146293950618"
          ],
          "function": "Converter.convert",
          "type_params": {
           "T": {
            "type": "NDArray"
           }
          }
         }
        ],
        "386925839975183864": [
         "8017410877576515236",
         {
          "args": [
           "-2410300585153220666",
           "-2718709984261421422"
          ],
          "function": "Maybe.__and__",
          "type_params": {
           "T": {
            "type": "NDArray"
           }
          }
         }
        ],
        "3930569333833847279": [
         "-1176136162159317166",
         {
          "args": [
           "5646358865148850642",
           "-189545260843302981"
          ],
          "function": "Maybe.__and__",
          "type_params": {
           "T": {
            "type": "NDArray"
           }
          }
         }
        ],
        "3967412119596498165": [
         "3967412119596498165",
         {
          "args": [
           "-7736171717475420916"
          ],
          "function": "Abstraction.from_fn",
          "type_params": {
           "T": {
            "params": {
             "T": {
              "type": "NDArray"
             },
             "U": {
              "params": {
               "T": {
                "type": "Integer"
               },
               "U": {
                "params": {
                 "T": {
                  "type": "Integer"
                 }
                },
                "type": "Vec"
               }
              },
              "type": "Either"
             }
            },
            "type": "Pair"
           },
           "U": {
            "type": "NDArray"
           }
          }
         }
        ],
        "3984286343726679996": [
         "161942629437193568",
         {
          "args": [
           "3145527808357273259",
           "-1313138448651871637"
          ],
          "function": "Abstraction.__call__",
          "type_params": {
           "T": {
            "type": "Integer"
           },
           "U": {
            "params": {
             "T": {
              "type": "NDArray"
             }
            },
            "type": "Maybe"
           }
          }
         }
        ],
        "4000648793983003173": [
         "-3702009093770552402",
         {
          "args": [
           "7345291844178281184",
           "-9140232007187717295"
          ],
          "function": "Maybe.__or__",
          "type_params": {
           "T": {
            "params": {
             "T": {
              "type": "Integer"
             },
             "U": {
              "params": {
               "T": {
                "type": "Integer"
               }
              },
              "type": "Vec"
             }
            },
            "type": "Either"
           }
          }
         }
        ],
        "4059132800542100512": [
         "-1341672716970475800",
         {
          "args": [
           "-5146268985716721595"
          ],
          "function": "NDArrayCompat.to_ndarray"
         }
        ],
        "4093895417369418546": [
         "-1341672716970475800",
         {
          "args": [
           "-407574838471314743"
          ],
          "function": "NDArrayCompat.to_ndarray"
         }
        ],
        "4096479446876412357": [
         "4096479446876412357",
         {
          "args": [
           "3608346765094280245"
          ],
          "function": "Maybe.just",
          "type_params": {
           "T": {
            "type": "NDArray"
           }
          }
         }
        ],
        "4148660906229533928": [
         "-4772016795270189587",
         {
          "args": [
           "4760557859767829457"
          ],
          "function": "NDArrayCompat.from_ndarray"
         }
        ],
        "427833878628127218": [
         "-1341672716970475800",
         {
          "args": [
           "-3520520859224783734"
          ],
          "function": "NDArrayCompat.to_ndarray"
         }
        ],
        "4351124380524720886": [
         "-3702009093770552402",
         {
          "args": [
           "-4981525845887472322",
           "-9140232007187717295"
          ],
          "function": "Maybe.__or__",
          "type_params": {
           "T": {
            "params": {
             "T": {
              "type": "Integer"
             },
             "U": {
              "params": {
               "T": {
                "type": "Integer"
               }
              },
              "type": "Vec"
             }
            },
            "type": "Either"
           }
          }
         }
        ],
        "4364530619847837896": [
         "-4772016795270189587",
         {
          "args": [
           "-5832606559030254283"
          ],
          "function": "NDArrayCompat.from_ndarray"
         }
        ],
        "4408648251278560909": [
         "-2410300585153220666",
         {
          "args": [
           "-6584392053997967718"
          ],
          "function": "Converter.convert",
          "type_params": {
           "T": {
            "type": "NDArray"
           }
          }
         }
        ],
        "4503027993476547237": [
         "4503027993476547237",
         {
          "args": [
           "1338288602999335341"
          ],
          "function": "Either.right",
          "type_params": {
           "T": {
            "type": "Integer"
           },
           "U": {
            "params": {
             "T": {
              "type": "Integer"
             }
            },
            "type": "Vec"
           }
          }
         }
        ],
        "4512585717378328880": [
         "6785135613727947616",
         {
          "args": [
           "-6111134292761862292",
           "-6111134292761862292"
          ],
          "function": "NDArrayCompat.__add__"
         }
        ],
        "4524396411024586149": [
         "-2020586981356496369",
         {
          "args": [
           "-4551908584128113951"
          ],
          "function": "Converter.convert",
          "type_params": {
           "T": {
            "type": "NDArray"
           }
          }
         }
        ],
        "4570772260081532062": [
         "-4772016795270189587",
         {
          "args": [
           "-1246086197087025627"
          ],
          "function": "NDArrayCompat.from_ndarray"
         }
        ],
        "4635025401393889481": [
         "2013462788875869881",
         {
          "args": [
           "-3126248252036041104",
           "-4783420378234302645"
          ],
          "function": "Abstraction.create",
          "type_params": {
           "T": {
            "params": {
             "T": {
              "type": "Integer"
             },
             "U": {
              "params": {
               "T": {
                "type": "Integer"
               }
              },
              "type": "Vec"
             }
            },
            "type": "Either"
           },
           "U": {
            "params": {
             "T": {
              "params": {
               "T": {
                "type": "Integer"
               },
               "U": {
                "params": {
                 "T": {
                  "type": "Integer"
                 }
                },
                "type": "Vec"
               }
              },
              "type": "Either"
             }
            },
            "type": "Maybe"
           }
          }
         }
        ],
        "4654565502574162085": [
         "-4979443563467282184",
         {
          "args": [
           "1338288602999335341",
           "-7767314672509380530"
          ],
          "function": "Abstraction.create"
         }
        ],
        "4716429502776241294": [
         "-1176136162159317166",
         {
          "args": [
           "-2020586981356496369",
           "5116745439541818199"
          ],
          "function": "Maybe.__and__",
          "type_params": {
           "T": {
            "type": "NDArray"
           }
          }
         }
        ],
        "4760557859767829457": [
         "-3602988945447969937",
         {
          "args": [
           "-2556112163304457",
           "9032834383112645395",
           "-4499936965109676736"
          ],
          "function": "Maybe.match",
          "type_params": {
           "T": {
            "params": {
             "T": {
              "type": "NDArray"
             },
             "U": {
              "params": {
               "T": {
                "type": "Integer"
               },
               "U": {
                "params": {
                 "T": {
                  "type": "Integer"
                 }
                },
                "type": "Vec"
               }
              },
              "type": "Either"
             }
            },
            "type": "Pair"
           }
          }
         }
        ],
        "4767376851968140894": [
         "1450785392786500356",
         {
          "args": [
           "-8896708649560101528"
          ],
          "function": "NDArrayCompat.from_ndarray"
         }
        ],
        "4878043911049156648": [
         "-1341672716970475800",
         {
          "args": [
           "9151508734577916712"
          ],
          "function": "NDArrayCompat.to_ndarray"
         }
        ],
        "4954432025238118249": [
         "4954432025238118249",
         {
          "repr": "Variable(4763775048)",
          "type": "Variable"
         }
        ],
        "4954432105590701424": [
         "4954432105590701424",
         {
          "repr": "Variable(4762851256)",
          "type": "Variable"
         }
        ],
        "4954432109362218524": [
         "4954432109362218524",
         {
          "repr": "Variable(4762794360)",
          "type": "Variable"
         }
        ],
        "4954432115725300474": [
         "4954432115725300474",
         {
          "repr": "Variable(4763019416)",
          "type": "Variable"
         }
        ],
        "4963759302425763067": [
         "8017410877576515236",
         {
          "args": [
           "4408648251278560909",
           "-2718709984261421422"
          ],
          "function": "Maybe.__and__",
          "type_params": {
           "T": {
            "type": "NDArray"
           }
          }
         }
        ],
        "5034270711710687634": [
         "-1176136162159317166",
         {
          "args": [
           "-8700033624836036710",
           "-5307063207184114105"
          ],
          "function": "Maybe.__and__",
          "type_params": {
           "T": {
            "type": "NDArray"
           }
          }
         }
        ],
        "5104252592144691839": [
         "-3602988945447969937",
         {
          "args": [
           "-980197482290740729",
           "9032834383112645395",
           "7808960626005506202"
          ],
          "function": "Maybe.match",
          "type_params": {
           "T": {
            "params": {
             "T": {
              "type": "NDArray"
             },
             "U": {
              "params": {
               "T": {
                "type": "Integer"
               },
               "U": {
                "params": {
                 "T": {
                  "type": "Integer"
                 }
                },
                "type": "Vec"
               }
              },
              "type": "Either"
             }
            },
            "type": "Pair"
           }
          }
         }
        ],
        "5116745439541818199": [
         "-3702009093770552402",
         {
          "args": [
           "-5711639544431828191",
           "-4678793630453082750"
          ],
          "function": "Maybe.__or__",
          "type_params": {
           "T": {
            "params": {
             "T": {
              "type": "Integer"
             },
             "U": {
              "params": {
               "T": {
                "type": "Integer"
               }
              },
              "type": "Vec"
             }
            },
            "type": "Either"
           }
          }
         }
        ],
        "5130999143968338142": [
         "-3602988945447969937",
         {
          "args": [
           "-1176136162159317166",
           "6914557858993007492"
          ],
          "function": "Maybe.map",
          "type_params": {
           "T": {
            "params": {
             "T": {
              "type": "NDArray"
             },
             "U": {
              "params": {
               "T": {
                "type": "Integer"
               },
               "U": {
                "params": {
                 "T": {
                  "type": "Integer"
                 }
                },
                "type": "Vec"
               }
              },
              "type": "Either"
             }
            },
            "type": "Pair"
           }
          }
         }
        ],
        "5147401912858767407": [
         "5147401912858767407",
         {
          "args": [
           "4954432105590701424"
          ],
          "function": "Abstraction.create_variable",
          "type_params": {
           "T": {
            "type": "Integer"
           },
           "U": {
            "type": "NDArray"
           }
          }
         }
        ],
        "5221238583677160674": [
         "6785135613727947616",
         {
          "args": [
           "-6461914045271554147",
           "-6461914045271554147"
          ],
          "function": "NDArrayCompat.__add__"
         }
        ],
        "5417034725160828583": [
         "5417034725160828583",
         {
          "args": [
           "161942629437193568"
          ],
          "function": "NDArrayCompat.from_ndarray"
         }
        ],
        "542625740483342888": [
         "542625740483342888",
         {
          "function": "Maybe.nothing",
          "type_params": {
           "T": {
            "params": {
             "T": {
              "type": "Integer"
             },
             "U": {
              "params": {
               "T": {
                "type": "Integer"
               }
              },
              "type": "Vec"
             }
            },
            "type": "Either"
           }
          }
         }
        ],
        "5481959897104242996": [
         "-1341672716970475800",
         {
          "args": [
           "6028786477061586829"
          ],
          "function": "NDArrayCompat.to_ndarray"
         }
        ],
        "5566425489881085421": [
         "5566425489881085421",
         {
          "args": [
           "997777855050798697"
          ],
          "function": "Abstraction.from_fn"
         }
        ],
        "5646358865148850642": [
         "-2020586981356496369",
         {
          "args": [
           "-4321933172678497012"
          ],
          "function": "Converter.convert",
          "type_params": {
           "T": {
            "type": "NDArray"
           }
          }
         }
        ],
        "5715674669693384074": [
         "-3602988945447969937",
         {
          "args": [
           "8545906501954801275",
           "9032834383112645395",
           "-4499936965109676736"
          ],
          "function": "Maybe.match",
          "type_params": {
           "T": {
            "params": {
             "T": {
              "type": "NDArray"
             },
             "U": {
              "params": {
               "T": {
                "type": "Integer"
               },
               "U": {
                "params": {
                 "T": {
                  "type": "Integer"
                 }
                },
                "type": "Vec"
               }
              },
              "type": "Either"
             }
            },
            "type": "Pair"
           }
          }
         }
        ],
        "5754708566465572294": [
         "-7005933830148898301",
         {
          "args": [
           "5147401912858767407",
           "7706625741413645411"
          ],
          "function": "Abstraction.create"
         }
        ],
        "577873550496070922": [
         "577873550496070922",
         {
          "args": [
           "-5685572929299947036"
          ],
          "function": "Abstraction.from_fn"
         }
        ],
        "5784105435553705849": [
         "-3602988945447969937",
         {
          "args": [
           "-4499936965109676736",
           "5958914858003784629"
          ],
          "function": "Abstraction.__call__",
          "type_params": {
           "T": {
            "params": {
             "T": {
              "type": "NDArray"
             },
             "U": {
              "params": {
               "T": {
                "type": "Integer"
               },
               "U": {
                "params": {
                 "T": {
                  "type": "Integer"
                 }
                },
                "type": "Vec"
               }
              },
              "type": "Either"
             }
            },
            "type": "Pair"
           },
           "U": {
            "params": {
             "T": {
              "type": "NDArray"
             }
            },
            "type": "Maybe"
           }
          }
         }
        ],
        "5854273997014633704": [
         "-5711639544431828191",
         {
          "args": [
           "-1372317109959694973",
           "542625740483342888",
           "-8185615459012223365"
          ],
          "function": "Maybe.match",
          "type_params": {
           "T": {
            "type": "Integer"
           }
          }
         }
        ],
        "5872572339045335076": [
         "5872572339045335076",
         {
          "args": [
           "-3875335050971398825"
          ],
          "function": "Pair.left",
          "type_params": {
           "T": {
            "type": "NDArray"
           },
           "U": {
            "params": {
             "T": {
              "type": "Integer"
             },
             "U": {
              "params": {
               "T": {
                "type": "Integer"
               }
              },
              "type": "Vec"
             }
            },
            "type": "Either"
           }
          }
         }
        ],
        "5931344570177817104": [
         "-1341672716970475800",
         {
          "args": [
           "-4324498121408073500"
          ],
          "function": "NDArray.to_ndarray"
         }
        ],
        "5936307860469895052": [
         "-3602988945447969937",
         {
          "args": [
           "-2079565683212384912",
           "3967412119596498165"
          ],
          "function": "Maybe.map",
          "type_params": {
           "T": {
            "params": {
             "T": {
              "type": "NDArray"
             },
             "U": {
              "params": {
               "T": {
                "type": "Integer"
               },
               "U": {
                "params": {
                 "T": {
                  "type": "Integer"
                 }
                },
                "type": "Vec"
               }
              },
              "type": "Either"
             }
            },
            "type": "Pair"
           }
          }
         }
        ],
        "5958914858003784629": [
         "5958914858003784629",
         {
          "args": [
           "7005412116804673500",
           "-8215238012704140842"
          ],
          "function": "Pair.create"
         }
        ],
        "6028786477061586829": [
         "-4772016795270189587",
         {
          "args": [
           "-4109104279317326397"
          ],
          "function": "NDArrayCompat.from_ndarray"
         }
        ],
        "6054610842773739130": [
         "-5297356175593613083",
         {
          "args": [
           "-1372317109959694973",
           "-6964590781432730370"
          ],
          "function": "Maybe.map",
          "type_params": {
           "T": {
            "type": "Integer"
           }
          }
         }
        ],
        "6119802382549264123": [
         "6119802382549264123",
         {
          "args": [
           "-7737040241182541916"
          ],
          "function": "Converter.convert",
          "type_params": {
           "T": {
            "params": {
             "T": {
              "type": "Integer"
             },
             "U": {
              "params": {
               "T": {
                "type": "Integer"
               }
              },
              "type": "Vec"
             }
            },
            "type": "Either"
           }
          }
         }
        ],
        "61498299686903143": [
         "61498299686903143",
         {
          "args": [
           "-3524978464740929255"
          ],
          "function": "NDArray.to_ndarray"
         }
        ],
        "6235089413555795872": [
         "-1341672716970475800",
         {
          "args": [
           "7248706430206136000"
          ],
          "function": "NDArrayCompat.to_ndarray"
         }
        ],
        "6394746674415015190": [
         "-3602988945447969937",
         {
          "args": [
           "4716429502776241294",
           "9032834383112645395",
           "7808960626005506202"
          ],
          "function": "Maybe.match",
          "type_params": {
           "T": {
            "params": {
             "T": {
              "type": "NDArray"
             },
             "U": {
              "params": {
               "T": {
                "type": "Integer"
               },
               "U": {
                "params": {
                 "T": {
                  "type": "Integer"
                 }
                },
                "type": "Vec"
               }
              },
              "type": "Either"
             }
            },
            "type": "Pair"
           }
          }
         }
        ],
        "6516202436837425415": [
         "-4772016795270189587",
         {
          "args": [
           "-8603939510305369917"
          ],
          "function": "NDArrayCompat.from_ndarray"
         }
        ],
        "6528523215535393012": [
         "-3602988945447969937",
         {
          "args": [
           "3930569333833847279",
           "9032834383112645395",
           "-4499936965109676736"
          ],
          "function": "Maybe.match",
          "type_params": {
           "T": {
            "params": {
             "T": {
              "type": "NDArray"
             },
             "U": {
              "params": {
               "T": {
                "type": "Integer"
               },
               "U": {
                "params": {
                 "T": {
                  "type": "Integer"
                 }
                },
                "type": "Vec"
               }
              },
              "type": "Either"
             }
            },
            "type": "Pair"
           }
          }
         }
        ],
        "6639613543171332087": [
         "-1341672716970475800",
         {
          "args": [
           "-1772126965539794600"
          ],
          "function": "NDArrayCompat.to_ndarray"
         }
        ],
        "6681686493132688404": [
         "-3602988945447969937",
         {
          "args": [
           "1614487485264017680",
           "9032834383112645395",
           "-4499936965109676736"
          ],
          "function": "Maybe.match",
          "type_params": {
           "T": {
            "params": {
             "T": {
              "type": "NDArray"
             },
             "U": {
              "params": {
               "T": {
                "type": "Integer"
               },
               "U": {
                "params": {
                 "T": {
                  "type": "Integer"
                 }
                },
                "type": "Vec"
               }
              },
              "type": "Either"
             }
            },
            "type": "Pair"
           }
          }
         }
        ],
        "6728931720816540191": [
         "-4554451458422625093",
         {
          "args": [
           "-5945887149520679823"
          ],
          "function": "arange"
         }
        ],
        "6736766577269574448": [
         "-1341672716970475800",
         {
          "args": [
           "2242880065353338643"
          ],
          "function": "NDArrayCompat.to_ndarray"
         }
        ],
        "675553606047805683": [
         "-1341672716970475800",
         {
          "args": [
           "892307179432027363",
           "892307179432027363"
          ],
          "function": "ndarray_add"
         }
        ],
        "6757516754014003782": [
         "6757516754014003782",
         {
          "args": [
           "5147401912858767407"
          ],
          "function": "arange_"
         }
        ],
        "6776573729655836417": [
         "-1341672716970475800",
         {
          "repr": "10",
          "type": "int64"
         }
        ],
        "6785135613727947616": [
         "6785135613727947616",
         {
          "args": [
           "-8162579586956751115",
           "-8162579586956751115"
          ],
          "function": "NDArrayCompat.__add__"
         }
        ],
        "683939614474263945": [
         "-8162579586956751115",
         {
          "args": [
           "-6242270009852743544"
          ],
          "function": "NDArrayCompat.from_ndarray"
         }
        ],
        "6863904192855538109": [
         "6785135613727947616",
         {
          "args": [
           "-6461914045271554147",
           "-8162579586956751115"
          ],
          "function": "NDArrayCompat.__add__"
         }
        ],
        "6891494960931475679": [
         "-1176136162159317166",
         {
          "args": [
           "2169668488156492865",
           "198719414552122372"
          ],
          "function": "Maybe.__and__",
          "type_params": {
           "T": {
            "type": "NDArray"
           }
          }
         }
        ],
        "6914557858993007492": [
         "6914557858993007492",
         {
          "args": [
           "-3875335050971398825",
           "-1669249308957284923"
          ],
          "function": "Abstraction.create",
          "type_params": {
           "T": {
            "params": {
             "T": {
              "type": "NDArray"
             },
             "U": {
              "params": {
               "T": {
                "type": "Integer"
               },
               "U": {
                "params": {
                 "T": {
                  "type": "Integer"
                 }
                },
                "type": "Vec"
               }
              },
              "type": "Either"
             }
            },
            "type": "Pair"
           },
           "U": {
            "type": "NDArray"
           }
          }
         }
        ],
        "6959752695278090588": [
         "61498299686903143",
         {
          "args": [
           "-5426302648562200192",
           "-7737040241182541916"
          ],
          "function": "ndarray_getitem"
         }
        ],
        "7005412116804673500": [
         "-3791942308469970679",
         {
          "args": [
           "832424711665835764",
           "832424711665835764"
          ],
          "function": "NDArray.__add__"
         }
        ],
        "7129645178974278596": [
         "7129645178974278596",
         {
          "args": [
           "1450785392786500356",
           "1450785392786500356"
          ],
          "function": "NDArrayCompat.__add__"
         }
        ],
        "7166280710631917938": [
         "-1341672716970475800",
         {
          "args": [
           "6516202436837425415"
          ],
          "function": "NDArrayCompat.to_ndarray"
         }
        ],
        "7241610095508399835": [
         "-1341672716970475800",
         {
          "args": [
           "8035591489161250433"
          ],
          "function": "NDArrayCompat.to_ndarray"
         }
        ],
        "7248706430206136000": [
         "-4772016795270189587",
         {
          "args": [
           "5784105435553705849"
          ],
          "function": "NDArrayCompat.from_ndarray"
         }
        ],
        "7281639658939935167": [
         "7281639658939935167",
         {
          "args": [
           "4954432115725300474"
          ],
          "function": "Abstraction.create_variable",
          "type_params": {
           "T": {
            "type": "NDArray"
           },
           "U": {
            "params": {
             "T": {
              "type": "NDArray"
             }
            },
            "type": "Maybe"
           }
          }
         }
        ],
        "7345291844178281184": [
         "-5711639544431828191",
         {
          "args": [
           "3321638441002206874",
           "2507768681348984026"
          ],
          "function": "Abstraction.__call__",
          "type_params": {
           "T": {
            "type": "Integer"
           },
           "U": {
            "params": {
             "T": {
              "params": {
               "T": {
                "type": "Integer"
               },
               "U": {
                "params": {
                 "T": {
                  "type": "Integer"
                 }
                },
                "type": "Vec"
               }
              },
              "type": "Either"
             }
            },
            "type": "Maybe"
           }
          }
         }
        ],
        "7346142444234164539": [
         "-1176136162159317166",
         {
          "args": [
           "-740474970012110432",
           "-189545260843302981"
          ],
          "function": "Maybe.__and__",
          "type_params": {
           "T": {
            "type": "NDArray"
           }
          }
         }
        ],
        "7401884041843185269": [
         "-3602988945447969937",
         {
          "args": [
           "4963759302425763067",
           "6914557858993007492"
          ],
          "function": "Maybe.map",
          "type_params": {
           "T": {
            "params": {
             "T": {
              "type": "NDArray"
             },
             "U": {
              "params": {
               "T": {
                "type": "Integer"
               },
               "U": {
                "params": {
                 "T": {
                  "type": "Integer"
                 }
                },
                "type": "Vec"
               }
              },
              "type": "Either"
             }
            },
            "type": "Pair"
           }
          }
         }
        ],
        "7412020547346566241": [
         "-3602988945447969937",
         {
          "args": [
           "1796649608107467623",
           "9032834383112645395",
           "-4499936965109676736"
          ],
          "function": "Maybe.match",
          "type_params": {
           "T": {
            "params": {
             "T": {
              "type": "NDArray"
             },
             "U": {
              "params": {
               "T": {
                "type": "Integer"
               },
               "U": {
                "params": {
                 "T": {
                  "type": "Integer"
                 }
                },
                "type": "Vec"
               }
              },
              "type": "Either"
             }
            },
            "type": "Pair"
           }
          }
         }
        ],
        "7517180492880473042": [
         "-4772016795270189587",
         {
          "args": [
           "5104252592144691839"
          ],
          "function": "NDArrayCompat.from_ndarray"
         }
        ],
        "7625737217546302985": [
         "7625737217546302985",
         {
          "args": [
           "-4268939874013657234"
          ],
          "function": "Abstraction.create_variable",
          "type_params": {
           "T": {
            "type": "Integer"
           },
           "U": {
            "params": {
             "T": {
              "type": "Integer"
             },
             "U": {
              "params": {
               "T": {
                "type": "Integer"
               }
              },
              "type": "Vec"
             }
            },
            "type": "Either"
           }
          }
         }
        ],
        "7644460815294350903": [
         "-1341672716970475800",
         {
          "args": [
           "-4749953547721358950"
          ],
          "function": "NDArrayCompat.to_ndarray"
         }
        ],
        "7706625741413645411": [
         "7706625741413645411",
         {
          "args": [
           "6757516754014003782"
          ],
          "function": "Maybe.just",
          "type_params": {
           "T": {
            "type": "NDArray"
           }
          }
         }
        ],
        "7733020047603416001": [
         "-3794084279707917178",
         {
          "args": [
           "2507768681348984026"
          ],
          "function": "unbox_integer"
         }
        ],
        "7774466691886965714": [
         "-1341672716970475800",
         {
          "args": [
           "4148660906229533928"
          ],
          "function": "NDArrayCompat.to_ndarray"
         }
        ],
        "7808960626005506202": [
         "7808960626005506202",
         {
          "args": [
           "-1894269937027086384",
           "6914557858993007492"
          ],
          "function": "Abstraction.__add__",
          "type_params": {
           "T": {
            "type": "NDArray"
           },
           "U": {
            "params": {
             "T": {
              "type": "NDArray"
             }
            },
            "type": "Maybe"
           }
          }
         }
        ],
        "782049791323043489": [
         "-4772016795270189587",
         {
          "args": [
           "5936307860469895052"
          ],
          "function": "NDArrayCompat.from_ndarray"
         }
        ],
        "7846544271585561988": [
         "-1341672716970475800",
         {
          "args": [
           "4570772260081532062"
          ],
          "function": "NDArrayCompat.to_ndarray"
         }
        ],
        "7851904239571723065": [
         "-4772016795270189587",
         {
          "args": [
           "6528523215535393012"
          ],
          "function": "NDArrayCompat.from_ndarray"
         }
        ],
        "7933129133460969990": [
         "-1341672716970475800",
         {
          "args": [
           "7517180492880473042"
          ],
          "function": "NDArrayCompat.to_ndarray"
         }
        ],
        "8017410877576515236": [
         "8017410877576515236",
         {
          "args": [
           "-2410300585153220666",
           "6119802382549264123"
          ],
          "function": "Maybe.__and__",
          "type_params": {
           "T": {
            "type": "NDArray"
           }
          }
         }
        ],
        "8035591489161250433": [
         "-4772016795270189587",
         {
          "args": [
           "-3602988945447969937"
          ],
          "function": "NDArrayCompat.from_ndarray"
         }
        ],
        "8054916738897729293": [
         "-1341672716970475800",
         {
          "args": [
           "3720862681910269017"
          ],
          "function": "NDArrayCompat.to_ndarray"
         }
        ],
        "8117533198369204841": [
         "-4772016795270189587",
         {
          "args": [
           "344329709028571110"
          ],
          "function": "NDArrayCompat.from_ndarray"
         }
        ],
        "8210208567642912387": [
         "-1176136162159317166",
         {
          "args": [
           "385105171314180610",
           "-5307063207184114105"
          ],
          "function": "Maybe.__and__",
          "type_params": {
           "T": {
            "type": "NDArray"
           }
          }
         }
        ],
        "8221764502619431706": [
         "61498299686903143",
         {
          "args": [
           "-2445374677926254491",
           "-7737040241182541916"
          ],
          "function": "ndarray_getitem"
         }
        ],
        "832424711665835764": [
         "832424711665835764",
         {
          "args": [
           "-1313138448651871637"
          ],
          "function": "arange_"
         }
        ],
        "8545906501954801275": [
         "-1176136162159317166",
         {
          "args": [
           "-6203650838009083156",
           "-5307063207184114105"
          ],
          "function": "Maybe.__and__",
          "type_params": {
           "T": {
            "type": "NDArray"
           }
          }
         }
        ],
        "8603521838397749616": [
         "-4772016795270189587",
         {
          "args": [
           "-4340011705866237588"
          ],
          "function": "NDArrayCompat.from_ndarray"
         }
        ],
        "8710392345814282702": [
         "-3602988945447969937",
         {
          "args": [
           "-9111108110381634133",
           "9032834383112645395",
           "7808960626005506202"
          ],
          "function": "Maybe.match",
          "type_params": {
           "T": {
            "params": {
             "T": {
              "type": "NDArray"
             },
             "U": {
              "params": {
               "T": {
                "type": "Integer"
               },
               "U": {
                "params": {
                 "T": {
                  "type": "Integer"
                 }
                },
                "type": "Vec"
               }
              },
              "type": "Either"
             }
            },
            "type": "Pair"
           }
          }
         }
        ],
        "8773204422329611200": [
         "6785135613727947616",
         {
          "args": [
           "2402650112385120430",
           "683939614474263945"
          ],
          "function": "NDArrayCompat.__add__"
         }
        ],
        "892307179432027363": [
         "61498299686903143",
         {
          "args": [
           "6728931720816540191",
           "-7737040241182541916"
          ],
          "function": "ndarray_getitem"
         }
        ],
        "9003221985443418126": [
         "9003221985443418126",
         {
          "args": [
           "5147401912858767407",
           "6757516754014003782"
          ],
          "function": "Abstraction.create",
          "type_params": {
           "T": {
            "type": "Integer"
           },
           "U": {
            "type": "NDArray"
           }
          }
         }
        ],
        "9032834383112645395": [
         "9032834383112645395",
         {
          "function": "Maybe.nothing",
          "type_params": {
           "T": {
            "type": "NDArray"
           }
          }
         }
        ],
        "9072194386204861162": [
         "-1341672716970475800",
         {
          "args": [
           "782049791323043489"
          ],
          "function": "NDArrayCompat.to_ndarray"
         }
        ],
        "9122846817468309746": [
         "-2020586981356496369",
         {
          "args": [
           "-4370075408063533460"
          ],
          "function": "Converter.convert",
          "type_params": {
           "T": {
            "type": "NDArray"
           }
          }
         }
        ],
        "9140600949285495489": [
         "-1176136162159317166",
         {
          "args": [
           "4524396411024586149",
           "-189545260843302981"
          ],
          "function": "Maybe.__and__",
          "type_params": {
           "T": {
            "type": "NDArray"
           }
          }
         }
        ],
        "9151508734577916712": [
         "-4772016795270189587",
         {
          "args": [
           "-4118936360968403820"
          ],
          "function": "NDArrayCompat.from_ndarray"
         }
        ],
        "9218333403406334816": [
         "6785135613727947616",
         {
          "args": [
           "2402650112385120430",
           "5417034725160828583"
          ],
          "function": "NDArrayCompat.__add__"
         }
        ],
        "997777855050798697": [
         "997777855050798697",
         {
          "repr": "Either.right",
          "type": "BoundInfer"
         }
        ]
       },
       "states": {
        "initial": "-1341672716970475800",
        "states": [
         {
          "node": "7241610095508399835",
          "rule": "metadsl_core.numpy.NDArrayCompat.__getitem__"
         },
         {
          "node": "9072194386204861162",
          "rule": "metadsl_core.either.convert_to_either"
         },
         {
          "node": "-6123343400095293073",
          "rule": "metadsl_core.integer.convert_integer"
         },
         {
          "node": "7166280710631917938",
          "rule": "metadsl_core.numpy.arange"
         },
         {
          "node": "7846544271585561988",
          "rule": "metadsl_core.integer.convert_integer"
         },
         {
          "node": "-2180327752598035810",
          "rule": "metadsl_core.abstraction.Abstraction.from_fn"
         },
         {
          "node": "7644460815294350903",
          "rule": "metadsl_core.abstraction.Abstraction.from_fn"
         },
         {
          "node": "-7359191991636668110",
          "rule": "metadsl_core.abstraction.Abstraction.from_fn"
         },
         {
          "node": "-31621047551986260",
          "rule": "metadsl_core.abstraction.Abstraction.from_fn"
         },
         {
          "node": "2631660266934350096",
          "rule": "metadsl_core.maybe.Maybe.map"
         },
         {
          "node": "-8900967940227574082",
          "rule": "metadsl_core.maybe.Maybe.map"
         },
         {
          "node": "7933129133460969990",
          "rule": "metadsl_core.maybe.Maybe.map"
         },
         {
          "node": "-5913722577499261700",
          "rule": "metadsl_core.maybe.maybe_match"
         },
         {
          "node": "4093895417369418546",
          "rule": "metadsl_core.maybe.Maybe.map"
         },
         {
          "node": "-3392481267222404138",
          "rule": "metadsl_core.maybe.Maybe.map"
         },
         {
          "node": "-552847069780420540",
          "rule": "metadsl_core.maybe.maybe_match"
         },
         {
          "node": "427833878628127218",
          "rule": "metadsl_core.maybe.maybe_match"
         },
         {
          "node": "-1075160585155683893",
          "rule": "metadsl_core.abstraction.Abstraction.from_fn"
         },
         {
          "node": "-6823389713279306352",
          "rule": "metadsl_core.abstraction.Abstraction.from_fn"
         },
         {
          "node": "-8209878657701496208",
          "rule": "metadsl_core.abstraction.Abstraction.from_fn"
         },
         {
          "node": "-6621680720869191416",
          "rule": "metadsl_core.abstraction.compose"
         },
         {
          "node": "5481959897104242996",
          "rule": "metadsl_core.abstraction.compose"
         },
         {
          "node": "-305335187543291677",
          "rule": "metadsl_core.abstraction.compose"
         },
         {
          "node": "-7771624458473353169",
          "rule": "metadsl_core.abstraction.beta_reduce"
         },
         {
          "node": "-6957296477956939921",
          "rule": "metadsl_core.maybe.maybe_or"
         },
         {
          "node": "-5413586861969663004",
          "rule": "metadsl_core.abstraction.compose"
         },
         {
          "node": "-7300945258661788980",
          "rule": "metadsl_core.abstraction.beta_reduce"
         },
         {
          "node": "-8274878410779129228",
          "rule": "metadsl_core.abstraction.compose"
         },
         {
          "node": "4059132800542100512",
          "rule": "metadsl_core.abstraction.beta_reduce"
         },
         {
          "node": "2199921499689994227",
          "rule": "metadsl_core.numpy.add_compat"
         },
         {
          "node": "8054916738897729293",
          "rule": "metadsl_core.numpy.convert_to_ndarray"
         },
         {
          "node": "7774466691886965714",
          "rule": "metadsl_core.maybe.maybe_and"
         },
         {
          "node": "6235089413555795872",
          "rule": "metadsl_core.maybe.maybe_match"
         },
         {
          "node": "-2825182354181474218",
          "rule": "metadsl_core.abstraction.beta_reduce"
         },
         {
          "node": "4878043911049156648",
          "rule": "metadsl_core.pair.pair_right"
         },
         {
          "node": "6639613543171332087",
          "rule": "metadsl_core.pair.pair_left"
         },
         {
          "label": "convert",
          "node": "6639613543171332087",
          "rule": ""
         },
         {
          "node": "6736766577269574448",
          "rule": "__main__.optimize_getitem_add"
         },
         {
          "label": "optimize",
          "node": "6736766577269574448",
          "rule": ""
         },
         {
          "node": "5931344570177817104",
          "rule": "metadsl_core.numpy.box_unbox_ndarray_compat"
         },
         {
          "node": "3625077533213321691",
          "rule": "metadsl_core.numpy_engine.unbox_ndarray_add"
         },
         {
          "node": "-7236370451967049007",
          "rule": "metadsl_core.numpy_engine.unbox_ndarray_getitem"
         },
         {
          "node": "2133007437973642621",
          "rule": "metadsl_core.numpy_engine.unbox_idxs_rule"
         },
         {
          "node": "2053813111526377715",
          "rule": "metadsl_core.numpy_engine.unbox_integer_rule"
         },
         {
          "node": "675553606047805683",
          "rule": "metadsl_core.numpy_engine.unbox_arange"
         },
         {
          "node": "-8028506287888493493",
          "rule": "metadsl_core.numpy_engine.unbox_integer_rule"
         },
         {
          "label": "unbox",
          "node": "-8028506287888493493",
          "rule": ""
         },
         {
          "node": "-7820620210380381965",
          "rule": "metadsl_core.numpy_engine.arange"
         },
         {
          "node": "-2666192187224006763",
          "rule": "metadsl_core.numpy_engine.ndarray_getitem"
         },
         {
          "node": "6776573729655836417",
          "rule": "metadsl_core.numpy_engine.ndarray_add"
         },
         {
          "label": "execute",
          "node": "6776573729655836417",
          "rule": ""
         }
        ]
       }
      },
      "application/x.typez.graph+json": {
       "initial": "digraph {\n\tnode [shape=plain]\n\tedge [arrowsize=0.5 penwidth=0.5]\n\t-1341672716970475800 [label=\"NDArrayCompat.to_ndarray\" id=-1341672716970475800]\n\t-1341672716970475800 -> -4772016795270189587 [id=\"-1341672716970475800.args[0]\"]\n\t-4772016795270189587 [label=\"NDArrayCompat.__getitem__\" id=-4772016795270189587]\n\t-4772016795270189587 -> 7129645178974278596 [id=\"-4772016795270189587.args[0]\"]\n\t7129645178974278596 [label=\"NDArrayCompat.__add__\" id=7129645178974278596]\n\t7129645178974278596 -> 1450785392786500356 [id=\"7129645178974278596.args[0]\"]\n\t1450785392786500356 [label=arange id=1450785392786500356]\n\t1450785392786500356 -> -7737040241287546841 [id=\"1450785392786500356.args[0]\"]\n\t-7737040241287546841 [label=100 id=-5945887149520679823]\n\t7129645178974278596 -> 1450785392786500356 [id=\"7129645178974278596.args[1]\"]\n\t-4772016795270189587 -> -7737040241182541916 [id=\"-4772016795270189587.args[1]\"]\n\t-7737040241182541916 [label=5 id=-3794084279707917178]\n}",
       "states": [
        {
         "graph": "digraph {\n\tnode [shape=plain]\n\tedge [arrowsize=0.5 penwidth=0.5]\n\t7241610095508399835 [label=\"NDArrayCompat.to_ndarray\" id=-1341672716970475800]\n\t7241610095508399835 -> 8035591489161250433 [id=\"-1341672716970475800.args[0]\"]\n\t8035591489161250433 [label=\"NDArrayCompat.from_ndarray\" id=-4772016795270189587]\n\t8035591489161250433 -> -3602988945447969937 [id=\"-4772016795270189587.args[0]\"]\n\t-3602988945447969937 [label=\"Maybe.map\" id=-3602988945447969937]\n\t-3602988945447969937 -> 8017410877576515236 [id=\"-3602988945447969937.args[0]\"]\n\t8017410877576515236 [label=\"Maybe.__and__\" id=8017410877576515236]\n\t8017410877576515236 -> -2410300585153220666 [id=\"8017410877576515236.args[0]\"]\n\t-2410300585153220666 [label=\"Converter.convert\" id=-2410300585153220666]\n\t-2410300585153220666 -> 7129645178974278596 [id=\"-2410300585153220666.args[0]\"]\n\t7129645178974278596 [label=\"NDArrayCompat.__add__\" id=7129645178974278596]\n\t7129645178974278596 -> 1450785392786500356 [id=\"7129645178974278596.args[0]\"]\n\t1450785392786500356 [label=arange id=1450785392786500356]\n\t1450785392786500356 -> -7737040241287546841 [id=\"1450785392786500356.args[0]\"]\n\t-7737040241287546841 [label=100 id=-5945887149520679823]\n\t7129645178974278596 -> 1450785392786500356 [id=\"7129645178974278596.args[1]\"]\n\t8017410877576515236 -> 6119802382549264123 [id=\"8017410877576515236.args[1]\"]\n\t6119802382549264123 [label=\"Converter.convert\" id=6119802382549264123]\n\t6119802382549264123 -> -7737040241182541916 [id=\"6119802382549264123.args[0]\"]\n\t-7737040241182541916 [label=5 id=-3794084279707917178]\n\t-3602988945447969937 -> 3967412119596498165 [id=\"-3602988945447969937.args[1]\"]\n\t3967412119596498165 [label=\"Abstraction.from_fn\" id=3967412119596498165]\n\t3967412119596498165 -> -7736171717475420916 [id=\"3967412119596498165.args[0]\"]\n\t-7736171717475420916 [label=\"function NDArrayCompat.__getitem__.locals.lambda at 0x11bed08c8\" id=-7736171717475420916]\n}",
         "label": null,
         "rule": "metadsl_core.numpy.NDArrayCompat.__getitem__"
        },
        {
         "graph": "digraph {\n\tnode [shape=plain]\n\tedge [arrowsize=0.5 penwidth=0.5]\n\t9072194386204861162 [label=\"NDArrayCompat.to_ndarray\" id=-1341672716970475800]\n\t9072194386204861162 -> 782049791323043489 [id=\"-1341672716970475800.args[0]\"]\n\t782049791323043489 [label=\"NDArrayCompat.from_ndarray\" id=-4772016795270189587]\n\t782049791323043489 -> 5936307860469895052 [id=\"-4772016795270189587.args[0]\"]\n\t5936307860469895052 [label=\"Maybe.map\" id=-3602988945447969937]\n\t5936307860469895052 -> -2079565683212384912 [id=\"-3602988945447969937.args[0]\"]\n\t-2079565683212384912 [label=\"Maybe.__and__\" id=8017410877576515236]\n\t-2079565683212384912 -> -2410300585153220666 [id=\"8017410877576515236.args[0]\"]\n\t-2410300585153220666 [label=\"Converter.convert\" id=-2410300585153220666]\n\t-2410300585153220666 -> 7129645178974278596 [id=\"-2410300585153220666.args[0]\"]\n\t7129645178974278596 [label=\"NDArrayCompat.__add__\" id=7129645178974278596]\n\t7129645178974278596 -> 1450785392786500356 [id=\"7129645178974278596.args[0]\"]\n\t1450785392786500356 [label=arange id=1450785392786500356]\n\t1450785392786500356 -> -7737040241287546841 [id=\"1450785392786500356.args[0]\"]\n\t-7737040241287546841 [label=100 id=-5945887149520679823]\n\t7129645178974278596 -> 1450785392786500356 [id=\"7129645178974278596.args[1]\"]\n\t-2079565683212384912 -> -1294418605310832295 [id=\"8017410877576515236.args[1]\"]\n\t-1294418605310832295 [label=\"Maybe.__or__\" id=6119802382549264123]\n\t-1294418605310832295 -> -5297356175593613083 [id=\"6119802382549264123.args[0]\"]\n\t-5297356175593613083 [label=\"Maybe.map\" id=-5297356175593613083]\n\t-5297356175593613083 -> -4716166471986464590 [id=\"-5297356175593613083.args[0]\"]\n\t-4716166471986464590 [label=\"Converter.convert\" id=-4716166471986464590]\n\t-4716166471986464590 -> -7737040241182541916 [id=\"-4716166471986464590.args[0]\"]\n\t-7737040241182541916 [label=5 id=-3794084279707917178]\n\t-5297356175593613083 -> -6964590781432730370 [id=\"-5297356175593613083.args[1]\"]\n\t-6964590781432730370 [label=\"Abstraction.from_fn\" id=-6964590781432730370]\n\t-6964590781432730370 -> -4896702136590049048 [id=\"-6964590781432730370.args[0]\"]\n\t-4896702136590049048 [label=\"Either.left\" id=-4896702136590049048]\n\t-1294418605310832295 -> 205164300450344970 [id=\"6119802382549264123.args[1]\"]\n\t205164300450344970 [label=\"Maybe.map\" id=205164300450344970]\n\t205164300450344970 -> -7726250483385592724 [id=\"205164300450344970.args[0]\"]\n\t-7726250483385592724 [label=\"Converter.convert\" id=-7726250483385592724]\n\t-7726250483385592724 -> -7737040241182541916 [id=\"-7726250483385592724.args[0]\"]\n\t205164300450344970 -> 5566425489881085421 [id=\"205164300450344970.args[1]\"]\n\t5566425489881085421 [label=\"Abstraction.from_fn\" id=5566425489881085421]\n\t5566425489881085421 -> 997777855050798697 [id=\"5566425489881085421.args[0]\"]\n\t997777855050798697 [label=\"Either.right\" id=997777855050798697]\n\t5936307860469895052 -> 3967412119596498165 [id=\"-3602988945447969937.args[1]\"]\n\t3967412119596498165 [label=\"Abstraction.from_fn\" id=3967412119596498165]\n\t3967412119596498165 -> -7736171717475420916 [id=\"3967412119596498165.args[0]\"]\n\t-7736171717475420916 [label=\"function NDArrayCompat.__getitem__.locals.lambda at 0x11bed08c8\" id=-7736171717475420916]\n}",
         "label": null,
         "rule": "metadsl_core.either.convert_to_either"
        },
        {
         "graph": "digraph {\n\tnode [shape=plain]\n\tedge [arrowsize=0.5 penwidth=0.5]\n\t-6123343400095293073 [label=\"NDArrayCompat.to_ndarray\" id=-1341672716970475800]\n\t-6123343400095293073 -> -8782132673342615821 [id=\"-1341672716970475800.args[0]\"]\n\t-8782132673342615821 [label=\"NDArrayCompat.from_ndarray\" id=-4772016795270189587]\n\t-8782132673342615821 -> 1963395839922873124 [id=\"-4772016795270189587.args[0]\"]\n\t1963395839922873124 [label=\"Maybe.map\" id=-3602988945447969937]\n\t1963395839922873124 -> 386925839975183864 [id=\"-3602988945447969937.args[0]\"]\n\t386925839975183864 [label=\"Maybe.__and__\" id=8017410877576515236]\n\t386925839975183864 -> -2410300585153220666 [id=\"8017410877576515236.args[0]\"]\n\t-2410300585153220666 [label=\"Converter.convert\" id=-2410300585153220666]\n\t-2410300585153220666 -> 7129645178974278596 [id=\"-2410300585153220666.args[0]\"]\n\t7129645178974278596 [label=\"NDArrayCompat.__add__\" id=7129645178974278596]\n\t7129645178974278596 -> 1450785392786500356 [id=\"7129645178974278596.args[0]\"]\n\t1450785392786500356 [label=arange id=1450785392786500356]\n\t1450785392786500356 -> -7737040241287546841 [id=\"1450785392786500356.args[0]\"]\n\t-7737040241287546841 [label=100 id=-5945887149520679823]\n\t7129645178974278596 -> 1450785392786500356 [id=\"7129645178974278596.args[1]\"]\n\t386925839975183864 -> -2718709984261421422 [id=\"8017410877576515236.args[1]\"]\n\t-2718709984261421422 [label=\"Maybe.__or__\" id=6119802382549264123]\n\t-2718709984261421422 -> 6054610842773739130 [id=\"6119802382549264123.args[0]\"]\n\t6054610842773739130 [label=\"Maybe.map\" id=-5297356175593613083]\n\t6054610842773739130 -> -1372317109959694973 [id=\"-5297356175593613083.args[0]\"]\n\t-1372317109959694973 [label=\"Maybe.just\" id=-1372317109959694973]\n\t-1372317109959694973 -> 2507768681348984026 [id=\"-1372317109959694973.args[0]\"]\n\t2507768681348984026 [label=\"Integer.from_int\" id=2507768681348984026]\n\t2507768681348984026 -> -7737040241182541916 [id=\"2507768681348984026.args[0]\"]\n\t-7737040241182541916 [label=5 id=-3794084279707917178]\n\t6054610842773739130 -> -6964590781432730370 [id=\"-5297356175593613083.args[1]\"]\n\t-6964590781432730370 [label=\"Abstraction.from_fn\" id=-6964590781432730370]\n\t-6964590781432730370 -> -4896702136590049048 [id=\"-6964590781432730370.args[0]\"]\n\t-4896702136590049048 [label=\"Either.left\" id=-4896702136590049048]\n\t-2718709984261421422 -> 205164300450344970 [id=\"6119802382549264123.args[1]\"]\n\t205164300450344970 [label=\"Maybe.map\" id=205164300450344970]\n\t205164300450344970 -> -7726250483385592724 [id=\"205164300450344970.args[0]\"]\n\t-7726250483385592724 [label=\"Converter.convert\" id=-7726250483385592724]\n\t-7726250483385592724 -> -7737040241182541916 [id=\"-7726250483385592724.args[0]\"]\n\t205164300450344970 -> 5566425489881085421 [id=\"205164300450344970.args[1]\"]\n\t5566425489881085421 [label=\"Abstraction.from_fn\" id=5566425489881085421]\n\t5566425489881085421 -> 997777855050798697 [id=\"5566425489881085421.args[0]\"]\n\t997777855050798697 [label=\"Either.right\" id=997777855050798697]\n\t1963395839922873124 -> 3967412119596498165 [id=\"-3602988945447969937.args[1]\"]\n\t3967412119596498165 [label=\"Abstraction.from_fn\" id=3967412119596498165]\n\t3967412119596498165 -> -7736171717475420916 [id=\"3967412119596498165.args[0]\"]\n\t-7736171717475420916 [label=\"function NDArrayCompat.__getitem__.locals.lambda at 0x11bed08c8\" id=-7736171717475420916]\n}",
         "label": null,
         "rule": "metadsl_core.integer.convert_integer"
        },
        {
         "graph": "digraph {\n\tnode [shape=plain]\n\tedge [arrowsize=0.5 penwidth=0.5]\n\t7166280710631917938 [label=\"NDArrayCompat.to_ndarray\" id=-1341672716970475800]\n\t7166280710631917938 -> 6516202436837425415 [id=\"-1341672716970475800.args[0]\"]\n\t6516202436837425415 [label=\"NDArrayCompat.from_ndarray\" id=-4772016795270189587]\n\t6516202436837425415 -> -8603939510305369917 [id=\"-4772016795270189587.args[0]\"]\n\t-8603939510305369917 [label=\"Maybe.map\" id=-3602988945447969937]\n\t-8603939510305369917 -> -3104718932427049796 [id=\"-3602988945447969937.args[0]\"]\n\t-3104718932427049796 [label=\"Maybe.__and__\" id=8017410877576515236]\n\t-3104718932427049796 -> 1132426380630645017 [id=\"8017410877576515236.args[0]\"]\n\t1132426380630645017 [label=\"Converter.convert\" id=-2410300585153220666]\n\t1132426380630645017 -> -1828603300170214036 [id=\"-2410300585153220666.args[0]\"]\n\t-1828603300170214036 [label=\"NDArrayCompat.__add__\" id=7129645178974278596]\n\t-1828603300170214036 -> 4767376851968140894 [id=\"7129645178974278596.args[0]\"]\n\t4767376851968140894 [label=\"NDArrayCompat.from_ndarray\" id=1450785392786500356]\n\t4767376851968140894 -> -8896708649560101528 [id=\"1450785392786500356.args[0]\"]\n\t-8896708649560101528 [label=\"Maybe.map\" id=-8896708649560101528]\n\t-8896708649560101528 -> -4308935643043434189 [id=\"-8896708649560101528.args[0]\"]\n\t-4308935643043434189 [label=\"Converter.convert\" id=-4308935643043434189]\n\t-4308935643043434189 -> -7737040241287546841 [id=\"-4308935643043434189.args[0]\"]\n\t-7737040241287546841 [label=100 id=-5945887149520679823]\n\t-8896708649560101528 -> 577873550496070922 [id=\"-8896708649560101528.args[1]\"]\n\t577873550496070922 [label=\"Abstraction.from_fn\" id=577873550496070922]\n\t577873550496070922 -> -5685572929299947036 [id=\"577873550496070922.args[0]\"]\n\t-5685572929299947036 [label=arange_ id=-5685572929299947036]\n\t-1828603300170214036 -> 4767376851968140894 [id=\"7129645178974278596.args[1]\"]\n\t-3104718932427049796 -> -2718709984261421422 [id=\"8017410877576515236.args[1]\"]\n\t-2718709984261421422 [label=\"Maybe.__or__\" id=6119802382549264123]\n\t-2718709984261421422 -> 6054610842773739130 [id=\"6119802382549264123.args[0]\"]\n\t6054610842773739130 [label=\"Maybe.map\" id=-5297356175593613083]\n\t6054610842773739130 -> -1372317109959694973 [id=\"-5297356175593613083.args[0]\"]\n\t-1372317109959694973 [label=\"Maybe.just\" id=-1372317109959694973]\n\t-1372317109959694973 -> 2507768681348984026 [id=\"-1372317109959694973.args[0]\"]\n\t2507768681348984026 [label=\"Integer.from_int\" id=2507768681348984026]\n\t2507768681348984026 -> -7737040241182541916 [id=\"2507768681348984026.args[0]\"]\n\t-7737040241182541916 [label=5 id=-3794084279707917178]\n\t6054610842773739130 -> -6964590781432730370 [id=\"-5297356175593613083.args[1]\"]\n\t-6964590781432730370 [label=\"Abstraction.from_fn\" id=-6964590781432730370]\n\t-6964590781432730370 -> -4896702136590049048 [id=\"-6964590781432730370.args[0]\"]\n\t-4896702136590049048 [label=\"Either.left\" id=-4896702136590049048]\n\t-2718709984261421422 -> 205164300450344970 [id=\"6119802382549264123.args[1]\"]\n\t205164300450344970 [label=\"Maybe.map\" id=205164300450344970]\n\t205164300450344970 -> -7726250483385592724 [id=\"205164300450344970.args[0]\"]\n\t-7726250483385592724 [label=\"Converter.convert\" id=-7726250483385592724]\n\t-7726250483385592724 -> -7737040241182541916 [id=\"-7726250483385592724.args[0]\"]\n\t205164300450344970 -> 5566425489881085421 [id=\"205164300450344970.args[1]\"]\n\t5566425489881085421 [label=\"Abstraction.from_fn\" id=5566425489881085421]\n\t5566425489881085421 -> 997777855050798697 [id=\"5566425489881085421.args[0]\"]\n\t997777855050798697 [label=\"Either.right\" id=997777855050798697]\n\t-8603939510305369917 -> 3967412119596498165 [id=\"-3602988945447969937.args[1]\"]\n\t3967412119596498165 [label=\"Abstraction.from_fn\" id=3967412119596498165]\n\t3967412119596498165 -> -7736171717475420916 [id=\"3967412119596498165.args[0]\"]\n\t-7736171717475420916 [label=\"function NDArrayCompat.__getitem__.locals.lambda at 0x11bed08c8\" id=-7736171717475420916]\n}",
         "label": null,
         "rule": "metadsl_core.numpy.arange"
        },
        {
         "graph": "digraph {\n\tnode [shape=plain]\n\tedge [arrowsize=0.5 penwidth=0.5]\n\t7846544271585561988 [label=\"NDArrayCompat.to_ndarray\" id=-1341672716970475800]\n\t7846544271585561988 -> 4570772260081532062 [id=\"-1341672716970475800.args[0]\"]\n\t4570772260081532062 [label=\"NDArrayCompat.from_ndarray\" id=-4772016795270189587]\n\t4570772260081532062 -> -1246086197087025627 [id=\"-4772016795270189587.args[0]\"]\n\t-1246086197087025627 [label=\"Maybe.map\" id=-3602988945447969937]\n\t-1246086197087025627 -> 4963759302425763067 [id=\"-3602988945447969937.args[0]\"]\n\t4963759302425763067 [label=\"Maybe.__and__\" id=8017410877576515236]\n\t4963759302425763067 -> 4408648251278560909 [id=\"8017410877576515236.args[0]\"]\n\t4408648251278560909 [label=\"Converter.convert\" id=-2410300585153220666]\n\t4408648251278560909 -> -6584392053997967718 [id=\"-2410300585153220666.args[0]\"]\n\t-6584392053997967718 [label=\"NDArrayCompat.__add__\" id=7129645178974278596]\n\t-6584392053997967718 -> -8012671916351216724 [id=\"7129645178974278596.args[0]\"]\n\t-8012671916351216724 [label=\"NDArrayCompat.from_ndarray\" id=1450785392786500356]\n\t-8012671916351216724 -> 37540587745940159 [id=\"1450785392786500356.args[0]\"]\n\t37540587745940159 [label=\"Maybe.map\" id=-8896708649560101528]\n\t37540587745940159 -> -6059403141323843149 [id=\"-8896708649560101528.args[0]\"]\n\t-6059403141323843149 [label=\"Maybe.just\" id=-6059403141323843149]\n\t-6059403141323843149 -> -1313138448651871637 [id=\"-6059403141323843149.args[0]\"]\n\t-1313138448651871637 [label=\"Integer.from_int\" id=-1313138448651871637]\n\t-1313138448651871637 -> -7737040241287546841 [id=\"-1313138448651871637.args[0]\"]\n\t-7737040241287546841 [label=100 id=-5945887149520679823]\n\t37540587745940159 -> 577873550496070922 [id=\"-8896708649560101528.args[1]\"]\n\t577873550496070922 [label=\"Abstraction.from_fn\" id=577873550496070922]\n\t577873550496070922 -> -5685572929299947036 [id=\"577873550496070922.args[0]\"]\n\t-5685572929299947036 [label=arange_ id=-5685572929299947036]\n\t-6584392053997967718 -> -8012671916351216724 [id=\"7129645178974278596.args[1]\"]\n\t4963759302425763067 -> -2718709984261421422 [id=\"8017410877576515236.args[1]\"]\n\t-2718709984261421422 [label=\"Maybe.__or__\" id=6119802382549264123]\n\t-2718709984261421422 -> 6054610842773739130 [id=\"6119802382549264123.args[0]\"]\n\t6054610842773739130 [label=\"Maybe.map\" id=-5297356175593613083]\n\t6054610842773739130 -> -1372317109959694973 [id=\"-5297356175593613083.args[0]\"]\n\t-1372317109959694973 [label=\"Maybe.just\" id=-1372317109959694973]\n\t-1372317109959694973 -> 2507768681348984026 [id=\"-1372317109959694973.args[0]\"]\n\t2507768681348984026 [label=\"Integer.from_int\" id=2507768681348984026]\n\t2507768681348984026 -> -7737040241182541916 [id=\"2507768681348984026.args[0]\"]\n\t-7737040241182541916 [label=5 id=-3794084279707917178]\n\t6054610842773739130 -> -6964590781432730370 [id=\"-5297356175593613083.args[1]\"]\n\t-6964590781432730370 [label=\"Abstraction.from_fn\" id=-6964590781432730370]\n\t-6964590781432730370 -> -4896702136590049048 [id=\"-6964590781432730370.args[0]\"]\n\t-4896702136590049048 [label=\"Either.left\" id=-4896702136590049048]\n\t-2718709984261421422 -> 205164300450344970 [id=\"6119802382549264123.args[1]\"]\n\t205164300450344970 [label=\"Maybe.map\" id=205164300450344970]\n\t205164300450344970 -> -7726250483385592724 [id=\"205164300450344970.args[0]\"]\n\t-7726250483385592724 [label=\"Converter.convert\" id=-7726250483385592724]\n\t-7726250483385592724 -> -7737040241182541916 [id=\"-7726250483385592724.args[0]\"]\n\t205164300450344970 -> 5566425489881085421 [id=\"205164300450344970.args[1]\"]\n\t5566425489881085421 [label=\"Abstraction.from_fn\" id=5566425489881085421]\n\t5566425489881085421 -> 997777855050798697 [id=\"5566425489881085421.args[0]\"]\n\t997777855050798697 [label=\"Either.right\" id=997777855050798697]\n\t-1246086197087025627 -> 3967412119596498165 [id=\"-3602988945447969937.args[1]\"]\n\t3967412119596498165 [label=\"Abstraction.from_fn\" id=3967412119596498165]\n\t3967412119596498165 -> -7736171717475420916 [id=\"3967412119596498165.args[0]\"]\n\t-7736171717475420916 [label=\"function NDArrayCompat.__getitem__.locals.lambda at 0x11bed08c8\" id=-7736171717475420916]\n}",
         "label": null,
         "rule": "metadsl_core.integer.convert_integer"
        },
        {
         "graph": "digraph {\n\tnode [shape=plain]\n\tedge [arrowsize=0.5 penwidth=0.5]\n\t-2180327752598035810 [label=\"NDArrayCompat.to_ndarray\" id=-1341672716970475800]\n\t-2180327752598035810 -> -5111982997682360305 [id=\"-1341672716970475800.args[0]\"]\n\t-5111982997682360305 [label=\"NDArrayCompat.from_ndarray\" id=-4772016795270189587]\n\t-5111982997682360305 -> 7401884041843185269 [id=\"-4772016795270189587.args[0]\"]\n\t7401884041843185269 [label=\"Maybe.map\" id=-3602988945447969937]\n\t7401884041843185269 -> 4963759302425763067 [id=\"-3602988945447969937.args[0]\"]\n\t4963759302425763067 [label=\"Maybe.__and__\" id=8017410877576515236]\n\t4963759302425763067 -> 4408648251278560909 [id=\"8017410877576515236.args[0]\"]\n\t4408648251278560909 [label=\"Converter.convert\" id=-2410300585153220666]\n\t4408648251278560909 -> -6584392053997967718 [id=\"-2410300585153220666.args[0]\"]\n\t-6584392053997967718 [label=\"NDArrayCompat.__add__\" id=7129645178974278596]\n\t-6584392053997967718 -> -8012671916351216724 [id=\"7129645178974278596.args[0]\"]\n\t-8012671916351216724 [label=\"NDArrayCompat.from_ndarray\" id=1450785392786500356]\n\t-8012671916351216724 -> 37540587745940159 [id=\"1450785392786500356.args[0]\"]\n\t37540587745940159 [label=\"Maybe.map\" id=-8896708649560101528]\n\t37540587745940159 -> -6059403141323843149 [id=\"-8896708649560101528.args[0]\"]\n\t-6059403141323843149 [label=\"Maybe.just\" id=-6059403141323843149]\n\t-6059403141323843149 -> -1313138448651871637 [id=\"-6059403141323843149.args[0]\"]\n\t-1313138448651871637 [label=\"Integer.from_int\" id=-1313138448651871637]\n\t-1313138448651871637 -> -7737040241287546841 [id=\"-1313138448651871637.args[0]\"]\n\t-7737040241287546841 [label=100 id=-5945887149520679823]\n\t37540587745940159 -> 577873550496070922 [id=\"-8896708649560101528.args[1]\"]\n\t577873550496070922 [label=\"Abstraction.from_fn\" id=577873550496070922]\n\t577873550496070922 -> -5685572929299947036 [id=\"577873550496070922.args[0]\"]\n\t-5685572929299947036 [label=arange_ id=-5685572929299947036]\n\t-6584392053997967718 -> -8012671916351216724 [id=\"7129645178974278596.args[1]\"]\n\t4963759302425763067 -> -2718709984261421422 [id=\"8017410877576515236.args[1]\"]\n\t-2718709984261421422 [label=\"Maybe.__or__\" id=6119802382549264123]\n\t-2718709984261421422 -> 6054610842773739130 [id=\"6119802382549264123.args[0]\"]\n\t6054610842773739130 [label=\"Maybe.map\" id=-5297356175593613083]\n\t6054610842773739130 -> -1372317109959694973 [id=\"-5297356175593613083.args[0]\"]\n\t-1372317109959694973 [label=\"Maybe.just\" id=-1372317109959694973]\n\t-1372317109959694973 -> 2507768681348984026 [id=\"-1372317109959694973.args[0]\"]\n\t2507768681348984026 [label=\"Integer.from_int\" id=2507768681348984026]\n\t2507768681348984026 -> -7737040241182541916 [id=\"2507768681348984026.args[0]\"]\n\t-7737040241182541916 [label=5 id=-3794084279707917178]\n\t6054610842773739130 -> -6964590781432730370 [id=\"-5297356175593613083.args[1]\"]\n\t-6964590781432730370 [label=\"Abstraction.from_fn\" id=-6964590781432730370]\n\t-6964590781432730370 -> -4896702136590049048 [id=\"-6964590781432730370.args[0]\"]\n\t-4896702136590049048 [label=\"Either.left\" id=-4896702136590049048]\n\t-2718709984261421422 -> 205164300450344970 [id=\"6119802382549264123.args[1]\"]\n\t205164300450344970 [label=\"Maybe.map\" id=205164300450344970]\n\t205164300450344970 -> -7726250483385592724 [id=\"205164300450344970.args[0]\"]\n\t-7726250483385592724 [label=\"Converter.convert\" id=-7726250483385592724]\n\t-7726250483385592724 -> -7737040241182541916 [id=\"-7726250483385592724.args[0]\"]\n\t205164300450344970 -> 5566425489881085421 [id=\"205164300450344970.args[1]\"]\n\t5566425489881085421 [label=\"Abstraction.from_fn\" id=5566425489881085421]\n\t5566425489881085421 -> 997777855050798697 [id=\"5566425489881085421.args[0]\"]\n\t997777855050798697 [label=\"Either.right\" id=997777855050798697]\n\t7401884041843185269 -> 6914557858993007492 [id=\"-3602988945447969937.args[1]\"]\n\t6914557858993007492 [label=\"Abstraction.create\" id=6914557858993007492]\n\t6914557858993007492 -> -3875335050971398825 [id=\"6914557858993007492.args[0]\"]\n\t-3875335050971398825 [label=\"Abstraction.create_variable\" id=-3875335050971398825]\n\t-3875335050971398825 -> -4268939887078651459 [id=\"-3875335050971398825.args[0]\"]\n\t-4268939887078651459 [label=\"Variable(4763508352)\" id=-4268939887078651459]\n\t6914557858993007492 -> -1669249308957284923 [id=\"6914557858993007492.args[1]\"]\n\t-1669249308957284923 [label=\"NDArray.__getitem__\" id=-1669249308957284923]\n\t-1669249308957284923 -> 5872572339045335076 [id=\"-1669249308957284923.args[0]\"]\n\t5872572339045335076 [label=\"Pair.left\" id=5872572339045335076]\n\t5872572339045335076 -> -3875335050971398825 [id=\"5872572339045335076.args[0]\"]\n\t-1669249308957284923 -> -9003153576216423860 [id=\"-1669249308957284923.args[1]\"]\n\t-9003153576216423860 [label=\"Pair.right\" id=-9003153576216423860]\n\t-9003153576216423860 -> -3875335050971398825 [id=\"-9003153576216423860.args[0]\"]\n}",
         "label": null,
         "rule": "metadsl_core.abstraction.Abstraction.from_fn"
        },
        {
         "graph": "digraph {\n\tnode [shape=plain]\n\tedge [arrowsize=0.5 penwidth=0.5]\n\t7644460815294350903 [label=\"NDArrayCompat.to_ndarray\" id=-1341672716970475800]\n\t7644460815294350903 -> -4749953547721358950 [id=\"-1341672716970475800.args[0]\"]\n\t-4749953547721358950 [label=\"NDArrayCompat.from_ndarray\" id=-4772016795270189587]\n\t-4749953547721358950 -> 3158674197833738872 [id=\"-4772016795270189587.args[0]\"]\n\t3158674197833738872 [label=\"Maybe.map\" id=-3602988945447969937]\n\t3158674197833738872 -> 2900625666473827371 [id=\"-3602988945447969937.args[0]\"]\n\t2900625666473827371 [label=\"Maybe.__and__\" id=8017410877576515236]\n\t2900625666473827371 -> 4408648251278560909 [id=\"8017410877576515236.args[0]\"]\n\t4408648251278560909 [label=\"Converter.convert\" id=-2410300585153220666]\n\t4408648251278560909 -> -6584392053997967718 [id=\"-2410300585153220666.args[0]\"]\n\t-6584392053997967718 [label=\"NDArrayCompat.__add__\" id=7129645178974278596]\n\t-6584392053997967718 -> -8012671916351216724 [id=\"7129645178974278596.args[0]\"]\n\t-8012671916351216724 [label=\"NDArrayCompat.from_ndarray\" id=1450785392786500356]\n\t-8012671916351216724 -> 37540587745940159 [id=\"1450785392786500356.args[0]\"]\n\t37540587745940159 [label=\"Maybe.map\" id=-8896708649560101528]\n\t37540587745940159 -> -6059403141323843149 [id=\"-8896708649560101528.args[0]\"]\n\t-6059403141323843149 [label=\"Maybe.just\" id=-6059403141323843149]\n\t-6059403141323843149 -> -1313138448651871637 [id=\"-6059403141323843149.args[0]\"]\n\t-1313138448651871637 [label=\"Integer.from_int\" id=-1313138448651871637]\n\t-1313138448651871637 -> -7737040241287546841 [id=\"-1313138448651871637.args[0]\"]\n\t-7737040241287546841 [label=100 id=-5945887149520679823]\n\t37540587745940159 -> 577873550496070922 [id=\"-8896708649560101528.args[1]\"]\n\t577873550496070922 [label=\"Abstraction.from_fn\" id=577873550496070922]\n\t577873550496070922 -> -5685572929299947036 [id=\"577873550496070922.args[0]\"]\n\t-5685572929299947036 [label=arange_ id=-5685572929299947036]\n\t-6584392053997967718 -> -8012671916351216724 [id=\"7129645178974278596.args[1]\"]\n\t2900625666473827371 -> -1355390672785264383 [id=\"8017410877576515236.args[1]\"]\n\t-1355390672785264383 [label=\"Maybe.__or__\" id=6119802382549264123]\n\t-1355390672785264383 -> 6054610842773739130 [id=\"6119802382549264123.args[0]\"]\n\t6054610842773739130 [label=\"Maybe.map\" id=-5297356175593613083]\n\t6054610842773739130 -> -1372317109959694973 [id=\"-5297356175593613083.args[0]\"]\n\t-1372317109959694973 [label=\"Maybe.just\" id=-1372317109959694973]\n\t-1372317109959694973 -> 2507768681348984026 [id=\"-1372317109959694973.args[0]\"]\n\t2507768681348984026 [label=\"Integer.from_int\" id=2507768681348984026]\n\t2507768681348984026 -> -7737040241182541916 [id=\"2507768681348984026.args[0]\"]\n\t-7737040241182541916 [label=5 id=-3794084279707917178]\n\t6054610842773739130 -> -6964590781432730370 [id=\"-5297356175593613083.args[1]\"]\n\t-6964590781432730370 [label=\"Abstraction.from_fn\" id=-6964590781432730370]\n\t-6964590781432730370 -> -4896702136590049048 [id=\"-6964590781432730370.args[0]\"]\n\t-4896702136590049048 [label=\"Either.left\" id=-4896702136590049048]\n\t-1355390672785264383 -> -8693574137465041742 [id=\"6119802382549264123.args[1]\"]\n\t-8693574137465041742 [label=\"Maybe.map\" id=-8693574137465041742]\n\t-8693574137465041742 -> -7726250483385592724 [id=\"-8693574137465041742.args[0]\"]\n\t-7726250483385592724 [label=\"Converter.convert\" id=-7726250483385592724]\n\t-7726250483385592724 -> -7737040241182541916 [id=\"-7726250483385592724.args[0]\"]\n\t-8693574137465041742 -> 188400188245589463 [id=\"-8693574137465041742.args[1]\"]\n\t188400188245589463 [label=\"Abstraction.create\" id=188400188245589463]\n\t188400188245589463 -> 1338288602999335341 [id=\"188400188245589463.args[0]\"]\n\t1338288602999335341 [label=\"Abstraction.create_variable\" id=1338288602999335341]\n\t1338288602999335341 -> -4268939902715725084 [id=\"1338288602999335341.args[0]\"]\n\t-4268939902715725084 [label=\"Variable(4763273200)\" id=-4268939902715725084]\n\t188400188245589463 -> 4503027993476547237 [id=\"188400188245589463.args[1]\"]\n\t4503027993476547237 [label=\"Either.right\" id=4503027993476547237]\n\t4503027993476547237 -> 1338288602999335341 [id=\"4503027993476547237.args[0]\"]\n\t3158674197833738872 -> 6914557858993007492 [id=\"-3602988945447969937.args[1]\"]\n\t6914557858993007492 [label=\"Abstraction.create\" id=6914557858993007492]\n\t6914557858993007492 -> -3875335050971398825 [id=\"6914557858993007492.args[0]\"]\n\t-3875335050971398825 [label=\"Abstraction.create_variable\" id=-3875335050971398825]\n\t-3875335050971398825 -> -4268939887078651459 [id=\"-3875335050971398825.args[0]\"]\n\t-4268939887078651459 [label=\"Variable(4763508352)\" id=-4268939887078651459]\n\t6914557858993007492 -> -1669249308957284923 [id=\"6914557858993007492.args[1]\"]\n\t-1669249308957284923 [label=\"NDArray.__getitem__\" id=-1669249308957284923]\n\t-1669249308957284923 -> 5872572339045335076 [id=\"-1669249308957284923.args[0]\"]\n\t5872572339045335076 [label=\"Pair.left\" id=5872572339045335076]\n\t5872572339045335076 -> -3875335050971398825 [id=\"5872572339045335076.args[0]\"]\n\t-1669249308957284923 -> -9003153576216423860 [id=\"-1669249308957284923.args[1]\"]\n\t-9003153576216423860 [label=\"Pair.right\" id=-9003153576216423860]\n\t-9003153576216423860 -> -3875335050971398825 [id=\"-9003153576216423860.args[0]\"]\n}",
         "label": null,
         "rule": "metadsl_core.abstraction.Abstraction.from_fn"
        },
        {
         "graph": "digraph {\n\tnode [shape=plain]\n\tedge [arrowsize=0.5 penwidth=0.5]\n\t-7359191991636668110 [label=\"NDArrayCompat.to_ndarray\" id=-1341672716970475800]\n\t-7359191991636668110 -> 4364530619847837896 [id=\"-1341672716970475800.args[0]\"]\n\t4364530619847837896 [label=\"NDArrayCompat.from_ndarray\" id=-4772016795270189587]\n\t4364530619847837896 -> -5832606559030254283 [id=\"-4772016795270189587.args[0]\"]\n\t-5832606559030254283 [label=\"Maybe.map\" id=-3602988945447969937]\n\t-5832606559030254283 -> -5826833939395959489 [id=\"-3602988945447969937.args[0]\"]\n\t-5826833939395959489 [label=\"Maybe.__and__\" id=8017410877576515236]\n\t-5826833939395959489 -> 4408648251278560909 [id=\"8017410877576515236.args[0]\"]\n\t4408648251278560909 [label=\"Converter.convert\" id=-2410300585153220666]\n\t4408648251278560909 -> -6584392053997967718 [id=\"-2410300585153220666.args[0]\"]\n\t-6584392053997967718 [label=\"NDArrayCompat.__add__\" id=7129645178974278596]\n\t-6584392053997967718 -> -8012671916351216724 [id=\"7129645178974278596.args[0]\"]\n\t-8012671916351216724 [label=\"NDArrayCompat.from_ndarray\" id=1450785392786500356]\n\t-8012671916351216724 -> 37540587745940159 [id=\"1450785392786500356.args[0]\"]\n\t37540587745940159 [label=\"Maybe.map\" id=-8896708649560101528]\n\t37540587745940159 -> -6059403141323843149 [id=\"-8896708649560101528.args[0]\"]\n\t-6059403141323843149 [label=\"Maybe.just\" id=-6059403141323843149]\n\t-6059403141323843149 -> -1313138448651871637 [id=\"-6059403141323843149.args[0]\"]\n\t-1313138448651871637 [label=\"Integer.from_int\" id=-1313138448651871637]\n\t-1313138448651871637 -> -7737040241287546841 [id=\"-1313138448651871637.args[0]\"]\n\t-7737040241287546841 [label=100 id=-5945887149520679823]\n\t37540587745940159 -> 577873550496070922 [id=\"-8896708649560101528.args[1]\"]\n\t577873550496070922 [label=\"Abstraction.from_fn\" id=577873550496070922]\n\t577873550496070922 -> -5685572929299947036 [id=\"577873550496070922.args[0]\"]\n\t-5685572929299947036 [label=arange_ id=-5685572929299947036]\n\t-6584392053997967718 -> -8012671916351216724 [id=\"7129645178974278596.args[1]\"]\n\t-5826833939395959489 -> -3702009093770552402 [id=\"8017410877576515236.args[1]\"]\n\t-3702009093770552402 [label=\"Maybe.__or__\" id=-3702009093770552402]\n\t-3702009093770552402 -> -5711639544431828191 [id=\"-3702009093770552402.args[0]\"]\n\t-5711639544431828191 [label=\"Maybe.map\" id=-5711639544431828191]\n\t-5711639544431828191 -> -1372317109959694973 [id=\"-5711639544431828191.args[0]\"]\n\t-1372317109959694973 [label=\"Maybe.just\" id=-1372317109959694973]\n\t-1372317109959694973 -> 2507768681348984026 [id=\"-1372317109959694973.args[0]\"]\n\t2507768681348984026 [label=\"Integer.from_int\" id=2507768681348984026]\n\t2507768681348984026 -> -7737040241182541916 [id=\"2507768681348984026.args[0]\"]\n\t-7737040241182541916 [label=5 id=-3794084279707917178]\n\t-5711639544431828191 -> -6625266454406091376 [id=\"-5711639544431828191.args[1]\"]\n\t-6625266454406091376 [label=\"Abstraction.create\" id=-6625266454406091376]\n\t-6625266454406091376 -> 7625737217546302985 [id=\"-6625266454406091376.args[0]\"]\n\t7625737217546302985 [label=\"Abstraction.create_variable\" id=7625737217546302985]\n\t7625737217546302985 -> -4268939874013657234 [id=\"7625737217546302985.args[0]\"]\n\t-4268939874013657234 [label=\"Variable(4763568336)\" id=-4268939874013657234]\n\t-6625266454406091376 -> 2339027244142301325 [id=\"-6625266454406091376.args[1]\"]\n\t2339027244142301325 [label=\"Either.left\" id=2339027244142301325]\n\t2339027244142301325 -> 7625737217546302985 [id=\"2339027244142301325.args[0]\"]\n\t-3702009093770552402 -> -8693574137465041742 [id=\"-3702009093770552402.args[1]\"]\n\t-8693574137465041742 [label=\"Maybe.map\" id=-8693574137465041742]\n\t-8693574137465041742 -> -7726250483385592724 [id=\"-8693574137465041742.args[0]\"]\n\t-7726250483385592724 [label=\"Converter.convert\" id=-7726250483385592724]\n\t-7726250483385592724 -> -7737040241182541916 [id=\"-7726250483385592724.args[0]\"]\n\t-8693574137465041742 -> 188400188245589463 [id=\"-8693574137465041742.args[1]\"]\n\t188400188245589463 [label=\"Abstraction.create\" id=188400188245589463]\n\t188400188245589463 -> 1338288602999335341 [id=\"188400188245589463.args[0]\"]\n\t1338288602999335341 [label=\"Abstraction.create_variable\" id=1338288602999335341]\n\t1338288602999335341 -> -4268939902715725084 [id=\"1338288602999335341.args[0]\"]\n\t-4268939902715725084 [label=\"Variable(4763273200)\" id=-4268939902715725084]\n\t188400188245589463 -> 4503027993476547237 [id=\"188400188245589463.args[1]\"]\n\t4503027993476547237 [label=\"Either.right\" id=4503027993476547237]\n\t4503027993476547237 -> 1338288602999335341 [id=\"4503027993476547237.args[0]\"]\n\t-5832606559030254283 -> 6914557858993007492 [id=\"-3602988945447969937.args[1]\"]\n\t6914557858993007492 [label=\"Abstraction.create\" id=6914557858993007492]\n\t6914557858993007492 -> -3875335050971398825 [id=\"6914557858993007492.args[0]\"]\n\t-3875335050971398825 [label=\"Abstraction.create_variable\" id=-3875335050971398825]\n\t-3875335050971398825 -> -4268939887078651459 [id=\"-3875335050971398825.args[0]\"]\n\t-4268939887078651459 [label=\"Variable(4763508352)\" id=-4268939887078651459]\n\t6914557858993007492 -> -1669249308957284923 [id=\"6914557858993007492.args[1]\"]\n\t-1669249308957284923 [label=\"NDArray.__getitem__\" id=-1669249308957284923]\n\t-1669249308957284923 -> 5872572339045335076 [id=\"-1669249308957284923.args[0]\"]\n\t5872572339045335076 [label=\"Pair.left\" id=5872572339045335076]\n\t5872572339045335076 -> -3875335050971398825 [id=\"5872572339045335076.args[0]\"]\n\t-1669249308957284923 -> -9003153576216423860 [id=\"-1669249308957284923.args[1]\"]\n\t-9003153576216423860 [label=\"Pair.right\" id=-9003153576216423860]\n\t-9003153576216423860 -> -3875335050971398825 [id=\"-9003153576216423860.args[0]\"]\n}",
         "label": null,
         "rule": "metadsl_core.abstraction.Abstraction.from_fn"
        },
        {
         "graph": "digraph {\n\tnode [shape=plain]\n\tedge [arrowsize=0.5 penwidth=0.5]\n\t-31621047551986260 [label=\"NDArrayCompat.to_ndarray\" id=-1341672716970475800]\n\t-31621047551986260 -> -1664369273837116889 [id=\"-1341672716970475800.args[0]\"]\n\t-1664369273837116889 [label=\"NDArrayCompat.from_ndarray\" id=-4772016795270189587]\n\t-1664369273837116889 -> 5130999143968338142 [id=\"-4772016795270189587.args[0]\"]\n\t5130999143968338142 [label=\"Maybe.map\" id=-3602988945447969937]\n\t5130999143968338142 -> -1176136162159317166 [id=\"-3602988945447969937.args[0]\"]\n\t-1176136162159317166 [label=\"Maybe.__and__\" id=-1176136162159317166]\n\t-1176136162159317166 -> -2020586981356496369 [id=\"-1176136162159317166.args[0]\"]\n\t-2020586981356496369 [label=\"Converter.convert\" id=-2020586981356496369]\n\t-2020586981356496369 -> 6785135613727947616 [id=\"-2020586981356496369.args[0]\"]\n\t6785135613727947616 [label=\"NDArrayCompat.__add__\" id=6785135613727947616]\n\t6785135613727947616 -> -8162579586956751115 [id=\"6785135613727947616.args[0]\"]\n\t-8162579586956751115 [label=\"NDArrayCompat.from_ndarray\" id=-8162579586956751115]\n\t-8162579586956751115 -> -996850803608951878 [id=\"-8162579586956751115.args[0]\"]\n\t-996850803608951878 [label=\"Maybe.map\" id=-996850803608951878]\n\t-996850803608951878 -> -6059403141323843149 [id=\"-996850803608951878.args[0]\"]\n\t-6059403141323843149 [label=\"Maybe.just\" id=-6059403141323843149]\n\t-6059403141323843149 -> -1313138448651871637 [id=\"-6059403141323843149.args[0]\"]\n\t-1313138448651871637 [label=\"Integer.from_int\" id=-1313138448651871637]\n\t-1313138448651871637 -> -7737040241287546841 [id=\"-1313138448651871637.args[0]\"]\n\t-7737040241287546841 [label=100 id=-5945887149520679823]\n\t-996850803608951878 -> 9003221985443418126 [id=\"-996850803608951878.args[1]\"]\n\t9003221985443418126 [label=\"Abstraction.create\" id=9003221985443418126]\n\t9003221985443418126 -> 5147401912858767407 [id=\"9003221985443418126.args[0]\"]\n\t5147401912858767407 [label=\"Abstraction.create_variable\" id=5147401912858767407]\n\t5147401912858767407 -> 4954432105590701424 [id=\"5147401912858767407.args[0]\"]\n\t4954432105590701424 [label=\"Variable(4762851256)\" id=4954432105590701424]\n\t9003221985443418126 -> 6757516754014003782 [id=\"9003221985443418126.args[1]\"]\n\t6757516754014003782 [label=arange_ id=6757516754014003782]\n\t6757516754014003782 -> 5147401912858767407 [id=\"6757516754014003782.args[0]\"]\n\t6785135613727947616 -> -8162579586956751115 [id=\"6785135613727947616.args[1]\"]\n\t-1176136162159317166 -> -3702009093770552402 [id=\"-1176136162159317166.args[1]\"]\n\t-3702009093770552402 [label=\"Maybe.__or__\" id=-3702009093770552402]\n\t-3702009093770552402 -> -5711639544431828191 [id=\"-3702009093770552402.args[0]\"]\n\t-5711639544431828191 [label=\"Maybe.map\" id=-5711639544431828191]\n\t-5711639544431828191 -> -1372317109959694973 [id=\"-5711639544431828191.args[0]\"]\n\t-1372317109959694973 [label=\"Maybe.just\" id=-1372317109959694973]\n\t-1372317109959694973 -> 2507768681348984026 [id=\"-1372317109959694973.args[0]\"]\n\t2507768681348984026 [label=\"Integer.from_int\" id=2507768681348984026]\n\t2507768681348984026 -> -7737040241182541916 [id=\"2507768681348984026.args[0]\"]\n\t-7737040241182541916 [label=5 id=-3794084279707917178]\n\t-5711639544431828191 -> -6625266454406091376 [id=\"-5711639544431828191.args[1]\"]\n\t-6625266454406091376 [label=\"Abstraction.create\" id=-6625266454406091376]\n\t-6625266454406091376 -> 7625737217546302985 [id=\"-6625266454406091376.args[0]\"]\n\t7625737217546302985 [label=\"Abstraction.create_variable\" id=7625737217546302985]\n\t7625737217546302985 -> -4268939874013657234 [id=\"7625737217546302985.args[0]\"]\n\t-4268939874013657234 [label=\"Variable(4763568336)\" id=-4268939874013657234]\n\t-6625266454406091376 -> 2339027244142301325 [id=\"-6625266454406091376.args[1]\"]\n\t2339027244142301325 [label=\"Either.left\" id=2339027244142301325]\n\t2339027244142301325 -> 7625737217546302985 [id=\"2339027244142301325.args[0]\"]\n\t-3702009093770552402 -> -8693574137465041742 [id=\"-3702009093770552402.args[1]\"]\n\t-8693574137465041742 [label=\"Maybe.map\" id=-8693574137465041742]\n\t-8693574137465041742 -> -7726250483385592724 [id=\"-8693574137465041742.args[0]\"]\n\t-7726250483385592724 [label=\"Converter.convert\" id=-7726250483385592724]\n\t-7726250483385592724 -> -7737040241182541916 [id=\"-7726250483385592724.args[0]\"]\n\t-8693574137465041742 -> 188400188245589463 [id=\"-8693574137465041742.args[1]\"]\n\t188400188245589463 [label=\"Abstraction.create\" id=188400188245589463]\n\t188400188245589463 -> 1338288602999335341 [id=\"188400188245589463.args[0]\"]\n\t1338288602999335341 [label=\"Abstraction.create_variable\" id=1338288602999335341]\n\t1338288602999335341 -> -4268939902715725084 [id=\"1338288602999335341.args[0]\"]\n\t-4268939902715725084 [label=\"Variable(4763273200)\" id=-4268939902715725084]\n\t188400188245589463 -> 4503027993476547237 [id=\"188400188245589463.args[1]\"]\n\t4503027993476547237 [label=\"Either.right\" id=4503027993476547237]\n\t4503027993476547237 -> 1338288602999335341 [id=\"4503027993476547237.args[0]\"]\n\t5130999143968338142 -> 6914557858993007492 [id=\"-3602988945447969937.args[1]\"]\n\t6914557858993007492 [label=\"Abstraction.create\" id=6914557858993007492]\n\t6914557858993007492 -> -3875335050971398825 [id=\"6914557858993007492.args[0]\"]\n\t-3875335050971398825 [label=\"Abstraction.create_variable\" id=-3875335050971398825]\n\t-3875335050971398825 -> -4268939887078651459 [id=\"-3875335050971398825.args[0]\"]\n\t-4268939887078651459 [label=\"Variable(4763508352)\" id=-4268939887078651459]\n\t6914557858993007492 -> -1669249308957284923 [id=\"6914557858993007492.args[1]\"]\n\t-1669249308957284923 [label=\"NDArray.__getitem__\" id=-1669249308957284923]\n\t-1669249308957284923 -> 5872572339045335076 [id=\"-1669249308957284923.args[0]\"]\n\t5872572339045335076 [label=\"Pair.left\" id=5872572339045335076]\n\t5872572339045335076 -> -3875335050971398825 [id=\"5872572339045335076.args[0]\"]\n\t-1669249308957284923 -> -9003153576216423860 [id=\"-1669249308957284923.args[1]\"]\n\t-9003153576216423860 [label=\"Pair.right\" id=-9003153576216423860]\n\t-9003153576216423860 -> -3875335050971398825 [id=\"-9003153576216423860.args[0]\"]\n}",
         "label": null,
         "rule": "metadsl_core.abstraction.Abstraction.from_fn"
        },
        {
         "graph": "digraph {\n\tnode [shape=plain]\n\tedge [arrowsize=0.5 penwidth=0.5]\n\t2631660266934350096 [label=\"NDArrayCompat.to_ndarray\" id=-1341672716970475800]\n\t2631660266934350096 -> 8603521838397749616 [id=\"-1341672716970475800.args[0]\"]\n\t8603521838397749616 [label=\"NDArrayCompat.from_ndarray\" id=-4772016795270189587]\n\t8603521838397749616 -> -4340011705866237588 [id=\"-4772016795270189587.args[0]\"]\n\t-4340011705866237588 [label=\"Maybe.match\" id=-3602988945447969937]\n\t-4340011705866237588 -> -1176136162159317166 [id=\"-3602988945447969937.args[0]\"]\n\t-1176136162159317166 [label=\"Maybe.__and__\" id=-1176136162159317166]\n\t-1176136162159317166 -> -2020586981356496369 [id=\"-1176136162159317166.args[0]\"]\n\t-2020586981356496369 [label=\"Converter.convert\" id=-2020586981356496369]\n\t-2020586981356496369 -> 6785135613727947616 [id=\"-2020586981356496369.args[0]\"]\n\t6785135613727947616 [label=\"NDArrayCompat.__add__\" id=6785135613727947616]\n\t6785135613727947616 -> -8162579586956751115 [id=\"6785135613727947616.args[0]\"]\n\t-8162579586956751115 [label=\"NDArrayCompat.from_ndarray\" id=-8162579586956751115]\n\t-8162579586956751115 -> -996850803608951878 [id=\"-8162579586956751115.args[0]\"]\n\t-996850803608951878 [label=\"Maybe.map\" id=-996850803608951878]\n\t-996850803608951878 -> -6059403141323843149 [id=\"-996850803608951878.args[0]\"]\n\t-6059403141323843149 [label=\"Maybe.just\" id=-6059403141323843149]\n\t-6059403141323843149 -> -1313138448651871637 [id=\"-6059403141323843149.args[0]\"]\n\t-1313138448651871637 [label=\"Integer.from_int\" id=-1313138448651871637]\n\t-1313138448651871637 -> -7737040241287546841 [id=\"-1313138448651871637.args[0]\"]\n\t-7737040241287546841 [label=100 id=-5945887149520679823]\n\t-996850803608951878 -> 9003221985443418126 [id=\"-996850803608951878.args[1]\"]\n\t9003221985443418126 [label=\"Abstraction.create\" id=9003221985443418126]\n\t9003221985443418126 -> 5147401912858767407 [id=\"9003221985443418126.args[0]\"]\n\t5147401912858767407 [label=\"Abstraction.create_variable\" id=5147401912858767407]\n\t5147401912858767407 -> 4954432105590701424 [id=\"5147401912858767407.args[0]\"]\n\t4954432105590701424 [label=\"Variable(4762851256)\" id=4954432105590701424]\n\t9003221985443418126 -> 6757516754014003782 [id=\"9003221985443418126.args[1]\"]\n\t6757516754014003782 [label=arange_ id=6757516754014003782]\n\t6757516754014003782 -> 5147401912858767407 [id=\"6757516754014003782.args[0]\"]\n\t6785135613727947616 -> -8162579586956751115 [id=\"6785135613727947616.args[1]\"]\n\t-1176136162159317166 -> -3702009093770552402 [id=\"-1176136162159317166.args[1]\"]\n\t-3702009093770552402 [label=\"Maybe.__or__\" id=-3702009093770552402]\n\t-3702009093770552402 -> -5711639544431828191 [id=\"-3702009093770552402.args[0]\"]\n\t-5711639544431828191 [label=\"Maybe.map\" id=-5711639544431828191]\n\t-5711639544431828191 -> -1372317109959694973 [id=\"-5711639544431828191.args[0]\"]\n\t-1372317109959694973 [label=\"Maybe.just\" id=-1372317109959694973]\n\t-1372317109959694973 -> 2507768681348984026 [id=\"-1372317109959694973.args[0]\"]\n\t2507768681348984026 [label=\"Integer.from_int\" id=2507768681348984026]\n\t2507768681348984026 -> -7737040241182541916 [id=\"2507768681348984026.args[0]\"]\n\t-7737040241182541916 [label=5 id=-3794084279707917178]\n\t-5711639544431828191 -> -6625266454406091376 [id=\"-5711639544431828191.args[1]\"]\n\t-6625266454406091376 [label=\"Abstraction.create\" id=-6625266454406091376]\n\t-6625266454406091376 -> 7625737217546302985 [id=\"-6625266454406091376.args[0]\"]\n\t7625737217546302985 [label=\"Abstraction.create_variable\" id=7625737217546302985]\n\t7625737217546302985 -> -4268939874013657234 [id=\"7625737217546302985.args[0]\"]\n\t-4268939874013657234 [label=\"Variable(4763568336)\" id=-4268939874013657234]\n\t-6625266454406091376 -> 2339027244142301325 [id=\"-6625266454406091376.args[1]\"]\n\t2339027244142301325 [label=\"Either.left\" id=2339027244142301325]\n\t2339027244142301325 -> 7625737217546302985 [id=\"2339027244142301325.args[0]\"]\n\t-3702009093770552402 -> -8693574137465041742 [id=\"-3702009093770552402.args[1]\"]\n\t-8693574137465041742 [label=\"Maybe.map\" id=-8693574137465041742]\n\t-8693574137465041742 -> -7726250483385592724 [id=\"-8693574137465041742.args[0]\"]\n\t-7726250483385592724 [label=\"Converter.convert\" id=-7726250483385592724]\n\t-7726250483385592724 -> -7737040241182541916 [id=\"-7726250483385592724.args[0]\"]\n\t-8693574137465041742 -> 188400188245589463 [id=\"-8693574137465041742.args[1]\"]\n\t188400188245589463 [label=\"Abstraction.create\" id=188400188245589463]\n\t188400188245589463 -> 1338288602999335341 [id=\"188400188245589463.args[0]\"]\n\t1338288602999335341 [label=\"Abstraction.create_variable\" id=1338288602999335341]\n\t1338288602999335341 -> -4268939902715725084 [id=\"1338288602999335341.args[0]\"]\n\t-4268939902715725084 [label=\"Variable(4763273200)\" id=-4268939902715725084]\n\t188400188245589463 -> 4503027993476547237 [id=\"188400188245589463.args[1]\"]\n\t4503027993476547237 [label=\"Either.right\" id=4503027993476547237]\n\t4503027993476547237 -> 1338288602999335341 [id=\"4503027993476547237.args[0]\"]\n\t-4340011705866237588 -> 9032834383112645395 [id=\"-3602988945447969937.args[1]\"]\n\t9032834383112645395 [label=\"Maybe.nothing\" id=9032834383112645395]\n\t-4340011705866237588 -> 7808960626005506202 [id=\"-3602988945447969937.args[2]\"]\n\t7808960626005506202 [label=\"Abstraction.__add__\" id=7808960626005506202]\n\t7808960626005506202 -> -1894269937027086384 [id=\"7808960626005506202.args[0]\"]\n\t-1894269937027086384 [label=\"Abstraction.from_fn\" id=-1894269937027086384]\n\t-1894269937027086384 -> -4855096197904090350 [id=\"-1894269937027086384.args[0]\"]\n\t-4855096197904090350 [label=\"Maybe.just\" id=-4855096197904090350]\n\t7808960626005506202 -> 6914557858993007492 [id=\"7808960626005506202.args[1]\"]\n\t6914557858993007492 [label=\"Abstraction.create\" id=6914557858993007492]\n\t6914557858993007492 -> -3875335050971398825 [id=\"6914557858993007492.args[0]\"]\n\t-3875335050971398825 [label=\"Abstraction.create_variable\" id=-3875335050971398825]\n\t-3875335050971398825 -> -4268939887078651459 [id=\"-3875335050971398825.args[0]\"]\n\t-4268939887078651459 [label=\"Variable(4763508352)\" id=-4268939887078651459]\n\t6914557858993007492 -> -1669249308957284923 [id=\"6914557858993007492.args[1]\"]\n\t-1669249308957284923 [label=\"NDArray.__getitem__\" id=-1669249308957284923]\n\t-1669249308957284923 -> 5872572339045335076 [id=\"-1669249308957284923.args[0]\"]\n\t5872572339045335076 [label=\"Pair.left\" id=5872572339045335076]\n\t5872572339045335076 -> -3875335050971398825 [id=\"5872572339045335076.args[0]\"]\n\t-1669249308957284923 -> -9003153576216423860 [id=\"-1669249308957284923.args[1]\"]\n\t-9003153576216423860 [label=\"Pair.right\" id=-9003153576216423860]\n\t-9003153576216423860 -> -3875335050971398825 [id=\"-9003153576216423860.args[0]\"]\n}",
         "label": null,
         "rule": "metadsl_core.maybe.Maybe.map"
        },
        {
         "graph": "digraph {\n\tnode [shape=plain]\n\tedge [arrowsize=0.5 penwidth=0.5]\n\t-8900967940227574082 [label=\"NDArrayCompat.to_ndarray\" id=-1341672716970475800]\n\t-8900967940227574082 -> -6241056399904174417 [id=\"-1341672716970475800.args[0]\"]\n\t-6241056399904174417 [label=\"NDArrayCompat.from_ndarray\" id=-4772016795270189587]\n\t-6241056399904174417 -> 6394746674415015190 [id=\"-4772016795270189587.args[0]\"]\n\t6394746674415015190 [label=\"Maybe.match\" id=-3602988945447969937]\n\t6394746674415015190 -> 4716429502776241294 [id=\"-3602988945447969937.args[0]\"]\n\t4716429502776241294 [label=\"Maybe.__and__\" id=-1176136162159317166]\n\t4716429502776241294 -> -2020586981356496369 [id=\"-1176136162159317166.args[0]\"]\n\t-2020586981356496369 [label=\"Converter.convert\" id=-2020586981356496369]\n\t-2020586981356496369 -> 6785135613727947616 [id=\"-2020586981356496369.args[0]\"]\n\t6785135613727947616 [label=\"NDArrayCompat.__add__\" id=6785135613727947616]\n\t6785135613727947616 -> -8162579586956751115 [id=\"6785135613727947616.args[0]\"]\n\t-8162579586956751115 [label=\"NDArrayCompat.from_ndarray\" id=-8162579586956751115]\n\t-8162579586956751115 -> -996850803608951878 [id=\"-8162579586956751115.args[0]\"]\n\t-996850803608951878 [label=\"Maybe.map\" id=-996850803608951878]\n\t-996850803608951878 -> -6059403141323843149 [id=\"-996850803608951878.args[0]\"]\n\t-6059403141323843149 [label=\"Maybe.just\" id=-6059403141323843149]\n\t-6059403141323843149 -> -1313138448651871637 [id=\"-6059403141323843149.args[0]\"]\n\t-1313138448651871637 [label=\"Integer.from_int\" id=-1313138448651871637]\n\t-1313138448651871637 -> -7737040241287546841 [id=\"-1313138448651871637.args[0]\"]\n\t-7737040241287546841 [label=100 id=-5945887149520679823]\n\t-996850803608951878 -> 9003221985443418126 [id=\"-996850803608951878.args[1]\"]\n\t9003221985443418126 [label=\"Abstraction.create\" id=9003221985443418126]\n\t9003221985443418126 -> 5147401912858767407 [id=\"9003221985443418126.args[0]\"]\n\t5147401912858767407 [label=\"Abstraction.create_variable\" id=5147401912858767407]\n\t5147401912858767407 -> 4954432105590701424 [id=\"5147401912858767407.args[0]\"]\n\t4954432105590701424 [label=\"Variable(4762851256)\" id=4954432105590701424]\n\t9003221985443418126 -> 6757516754014003782 [id=\"9003221985443418126.args[1]\"]\n\t6757516754014003782 [label=arange_ id=6757516754014003782]\n\t6757516754014003782 -> 5147401912858767407 [id=\"6757516754014003782.args[0]\"]\n\t6785135613727947616 -> -8162579586956751115 [id=\"6785135613727947616.args[1]\"]\n\t4716429502776241294 -> 5116745439541818199 [id=\"-1176136162159317166.args[1]\"]\n\t5116745439541818199 [label=\"Maybe.__or__\" id=-3702009093770552402]\n\t5116745439541818199 -> -5711639544431828191 [id=\"-3702009093770552402.args[0]\"]\n\t-5711639544431828191 [label=\"Maybe.map\" id=-5711639544431828191]\n\t-5711639544431828191 -> -1372317109959694973 [id=\"-5711639544431828191.args[0]\"]\n\t-1372317109959694973 [label=\"Maybe.just\" id=-1372317109959694973]\n\t-1372317109959694973 -> 2507768681348984026 [id=\"-1372317109959694973.args[0]\"]\n\t2507768681348984026 [label=\"Integer.from_int\" id=2507768681348984026]\n\t2507768681348984026 -> -7737040241182541916 [id=\"2507768681348984026.args[0]\"]\n\t-7737040241182541916 [label=5 id=-3794084279707917178]\n\t-5711639544431828191 -> -6625266454406091376 [id=\"-5711639544431828191.args[1]\"]\n\t-6625266454406091376 [label=\"Abstraction.create\" id=-6625266454406091376]\n\t-6625266454406091376 -> 7625737217546302985 [id=\"-6625266454406091376.args[0]\"]\n\t7625737217546302985 [label=\"Abstraction.create_variable\" id=7625737217546302985]\n\t7625737217546302985 -> -4268939874013657234 [id=\"7625737217546302985.args[0]\"]\n\t-4268939874013657234 [label=\"Variable(4763568336)\" id=-4268939874013657234]\n\t-6625266454406091376 -> 2339027244142301325 [id=\"-6625266454406091376.args[1]\"]\n\t2339027244142301325 [label=\"Either.left\" id=2339027244142301325]\n\t2339027244142301325 -> 7625737217546302985 [id=\"2339027244142301325.args[0]\"]\n\t5116745439541818199 -> -4678793630453082750 [id=\"-3702009093770552402.args[1]\"]\n\t-4678793630453082750 [label=\"Maybe.match\" id=-8693574137465041742]\n\t-4678793630453082750 -> -7726250483385592724 [id=\"-8693574137465041742.args[0]\"]\n\t-7726250483385592724 [label=\"Converter.convert\" id=-7726250483385592724]\n\t-7726250483385592724 -> -7737040241182541916 [id=\"-7726250483385592724.args[0]\"]\n\t-4678793630453082750 -> 542625740483342888 [id=\"-8693574137465041742.args[1]\"]\n\t542625740483342888 [label=\"Maybe.nothing\" id=542625740483342888]\n\t-4678793630453082750 -> -4979443563467282184 [id=\"-8693574137465041742.args[2]\"]\n\t-4979443563467282184 [label=\"Abstraction.__add__\" id=-4979443563467282184]\n\t-4979443563467282184 -> 2013462788875869881 [id=\"-4979443563467282184.args[0]\"]\n\t2013462788875869881 [label=\"Abstraction.from_fn\" id=2013462788875869881]\n\t2013462788875869881 -> -944428355994881963 [id=\"2013462788875869881.args[0]\"]\n\t-944428355994881963 [label=\"Maybe.just\" id=-944428355994881963]\n\t-4979443563467282184 -> 188400188245589463 [id=\"-4979443563467282184.args[1]\"]\n\t188400188245589463 [label=\"Abstraction.create\" id=188400188245589463]\n\t188400188245589463 -> 1338288602999335341 [id=\"188400188245589463.args[0]\"]\n\t1338288602999335341 [label=\"Abstraction.create_variable\" id=1338288602999335341]\n\t1338288602999335341 -> -4268939902715725084 [id=\"1338288602999335341.args[0]\"]\n\t-4268939902715725084 [label=\"Variable(4763273200)\" id=-4268939902715725084]\n\t188400188245589463 -> 4503027993476547237 [id=\"188400188245589463.args[1]\"]\n\t4503027993476547237 [label=\"Either.right\" id=4503027993476547237]\n\t4503027993476547237 -> 1338288602999335341 [id=\"4503027993476547237.args[0]\"]\n\t6394746674415015190 -> 9032834383112645395 [id=\"-3602988945447969937.args[1]\"]\n\t9032834383112645395 [label=\"Maybe.nothing\" id=9032834383112645395]\n\t6394746674415015190 -> 7808960626005506202 [id=\"-3602988945447969937.args[2]\"]\n\t7808960626005506202 [label=\"Abstraction.__add__\" id=7808960626005506202]\n\t7808960626005506202 -> -1894269937027086384 [id=\"7808960626005506202.args[0]\"]\n\t-1894269937027086384 [label=\"Abstraction.from_fn\" id=-1894269937027086384]\n\t-1894269937027086384 -> -4855096197904090350 [id=\"-1894269937027086384.args[0]\"]\n\t-4855096197904090350 [label=\"Maybe.just\" id=-4855096197904090350]\n\t7808960626005506202 -> 6914557858993007492 [id=\"7808960626005506202.args[1]\"]\n\t6914557858993007492 [label=\"Abstraction.create\" id=6914557858993007492]\n\t6914557858993007492 -> -3875335050971398825 [id=\"6914557858993007492.args[0]\"]\n\t-3875335050971398825 [label=\"Abstraction.create_variable\" id=-3875335050971398825]\n\t-3875335050971398825 -> -4268939887078651459 [id=\"-3875335050971398825.args[0]\"]\n\t-4268939887078651459 [label=\"Variable(4763508352)\" id=-4268939887078651459]\n\t6914557858993007492 -> -1669249308957284923 [id=\"6914557858993007492.args[1]\"]\n\t-1669249308957284923 [label=\"NDArray.__getitem__\" id=-1669249308957284923]\n\t-1669249308957284923 -> 5872572339045335076 [id=\"-1669249308957284923.args[0]\"]\n\t5872572339045335076 [label=\"Pair.left\" id=5872572339045335076]\n\t5872572339045335076 -> -3875335050971398825 [id=\"5872572339045335076.args[0]\"]\n\t-1669249308957284923 -> -9003153576216423860 [id=\"-1669249308957284923.args[1]\"]\n\t-9003153576216423860 [label=\"Pair.right\" id=-9003153576216423860]\n\t-9003153576216423860 -> -3875335050971398825 [id=\"-9003153576216423860.args[0]\"]\n}",
         "label": null,
         "rule": "metadsl_core.maybe.Maybe.map"
        },
        {
         "graph": "digraph {\n\tnode [shape=plain]\n\tedge [arrowsize=0.5 penwidth=0.5]\n\t7933129133460969990 [label=\"NDArrayCompat.to_ndarray\" id=-1341672716970475800]\n\t7933129133460969990 -> 7517180492880473042 [id=\"-1341672716970475800.args[0]\"]\n\t7517180492880473042 [label=\"NDArrayCompat.from_ndarray\" id=-4772016795270189587]\n\t7517180492880473042 -> 5104252592144691839 [id=\"-4772016795270189587.args[0]\"]\n\t5104252592144691839 [label=\"Maybe.match\" id=-3602988945447969937]\n\t5104252592144691839 -> -980197482290740729 [id=\"-3602988945447969937.args[0]\"]\n\t-980197482290740729 [label=\"Maybe.__and__\" id=-1176136162159317166]\n\t-980197482290740729 -> -2020586981356496369 [id=\"-1176136162159317166.args[0]\"]\n\t-2020586981356496369 [label=\"Converter.convert\" id=-2020586981356496369]\n\t-2020586981356496369 -> 6785135613727947616 [id=\"-2020586981356496369.args[0]\"]\n\t6785135613727947616 [label=\"NDArrayCompat.__add__\" id=6785135613727947616]\n\t6785135613727947616 -> -8162579586956751115 [id=\"6785135613727947616.args[0]\"]\n\t-8162579586956751115 [label=\"NDArrayCompat.from_ndarray\" id=-8162579586956751115]\n\t-8162579586956751115 -> -996850803608951878 [id=\"-8162579586956751115.args[0]\"]\n\t-996850803608951878 [label=\"Maybe.map\" id=-996850803608951878]\n\t-996850803608951878 -> -6059403141323843149 [id=\"-996850803608951878.args[0]\"]\n\t-6059403141323843149 [label=\"Maybe.just\" id=-6059403141323843149]\n\t-6059403141323843149 -> -1313138448651871637 [id=\"-6059403141323843149.args[0]\"]\n\t-1313138448651871637 [label=\"Integer.from_int\" id=-1313138448651871637]\n\t-1313138448651871637 -> -7737040241287546841 [id=\"-1313138448651871637.args[0]\"]\n\t-7737040241287546841 [label=100 id=-5945887149520679823]\n\t-996850803608951878 -> 9003221985443418126 [id=\"-996850803608951878.args[1]\"]\n\t9003221985443418126 [label=\"Abstraction.create\" id=9003221985443418126]\n\t9003221985443418126 -> 5147401912858767407 [id=\"9003221985443418126.args[0]\"]\n\t5147401912858767407 [label=\"Abstraction.create_variable\" id=5147401912858767407]\n\t5147401912858767407 -> 4954432105590701424 [id=\"5147401912858767407.args[0]\"]\n\t4954432105590701424 [label=\"Variable(4762851256)\" id=4954432105590701424]\n\t9003221985443418126 -> 6757516754014003782 [id=\"9003221985443418126.args[1]\"]\n\t6757516754014003782 [label=arange_ id=6757516754014003782]\n\t6757516754014003782 -> 5147401912858767407 [id=\"6757516754014003782.args[0]\"]\n\t6785135613727947616 -> -8162579586956751115 [id=\"6785135613727947616.args[1]\"]\n\t-980197482290740729 -> -1008952941889716478 [id=\"-1176136162159317166.args[1]\"]\n\t-1008952941889716478 [label=\"Maybe.__or__\" id=-3702009093770552402]\n\t-1008952941889716478 -> 5854273997014633704 [id=\"-3702009093770552402.args[0]\"]\n\t5854273997014633704 [label=\"Maybe.match\" id=-5711639544431828191]\n\t5854273997014633704 -> -1372317109959694973 [id=\"-5711639544431828191.args[0]\"]\n\t-1372317109959694973 [label=\"Maybe.just\" id=-1372317109959694973]\n\t-1372317109959694973 -> 2507768681348984026 [id=\"-1372317109959694973.args[0]\"]\n\t2507768681348984026 [label=\"Integer.from_int\" id=2507768681348984026]\n\t2507768681348984026 -> -7737040241182541916 [id=\"2507768681348984026.args[0]\"]\n\t-7737040241182541916 [label=5 id=-3794084279707917178]\n\t5854273997014633704 -> 542625740483342888 [id=\"-5711639544431828191.args[1]\"]\n\t542625740483342888 [label=\"Maybe.nothing\" id=542625740483342888]\n\t5854273997014633704 -> -8185615459012223365 [id=\"-5711639544431828191.args[2]\"]\n\t-8185615459012223365 [label=\"Abstraction.__add__\" id=-8185615459012223365]\n\t-8185615459012223365 -> 2013462788875869881 [id=\"-8185615459012223365.args[0]\"]\n\t2013462788875869881 [label=\"Abstraction.from_fn\" id=2013462788875869881]\n\t2013462788875869881 -> -944428355994881963 [id=\"2013462788875869881.args[0]\"]\n\t-944428355994881963 [label=\"Maybe.just\" id=-944428355994881963]\n\t-8185615459012223365 -> -6625266454406091376 [id=\"-8185615459012223365.args[1]\"]\n\t-6625266454406091376 [label=\"Abstraction.create\" id=-6625266454406091376]\n\t-6625266454406091376 -> 7625737217546302985 [id=\"-6625266454406091376.args[0]\"]\n\t7625737217546302985 [label=\"Abstraction.create_variable\" id=7625737217546302985]\n\t7625737217546302985 -> -4268939874013657234 [id=\"7625737217546302985.args[0]\"]\n\t-4268939874013657234 [label=\"Variable(4763568336)\" id=-4268939874013657234]\n\t-6625266454406091376 -> 2339027244142301325 [id=\"-6625266454406091376.args[1]\"]\n\t2339027244142301325 [label=\"Either.left\" id=2339027244142301325]\n\t2339027244142301325 -> 7625737217546302985 [id=\"2339027244142301325.args[0]\"]\n\t-1008952941889716478 -> -4678793630453082750 [id=\"-3702009093770552402.args[1]\"]\n\t-4678793630453082750 [label=\"Maybe.match\" id=-8693574137465041742]\n\t-4678793630453082750 -> -7726250483385592724 [id=\"-8693574137465041742.args[0]\"]\n\t-7726250483385592724 [label=\"Converter.convert\" id=-7726250483385592724]\n\t-7726250483385592724 -> -7737040241182541916 [id=\"-7726250483385592724.args[0]\"]\n\t-4678793630453082750 -> 542625740483342888 [id=\"-8693574137465041742.args[1]\"]\n\t-4678793630453082750 -> -4979443563467282184 [id=\"-8693574137465041742.args[2]\"]\n\t-4979443563467282184 [label=\"Abstraction.__add__\" id=-4979443563467282184]\n\t-4979443563467282184 -> 2013462788875869881 [id=\"-4979443563467282184.args[0]\"]\n\t-4979443563467282184 -> 188400188245589463 [id=\"-4979443563467282184.args[1]\"]\n\t188400188245589463 [label=\"Abstraction.create\" id=188400188245589463]\n\t188400188245589463 -> 1338288602999335341 [id=\"188400188245589463.args[0]\"]\n\t1338288602999335341 [label=\"Abstraction.create_variable\" id=1338288602999335341]\n\t1338288602999335341 -> -4268939902715725084 [id=\"1338288602999335341.args[0]\"]\n\t-4268939902715725084 [label=\"Variable(4763273200)\" id=-4268939902715725084]\n\t188400188245589463 -> 4503027993476547237 [id=\"188400188245589463.args[1]\"]\n\t4503027993476547237 [label=\"Either.right\" id=4503027993476547237]\n\t4503027993476547237 -> 1338288602999335341 [id=\"4503027993476547237.args[0]\"]\n\t5104252592144691839 -> 9032834383112645395 [id=\"-3602988945447969937.args[1]\"]\n\t9032834383112645395 [label=\"Maybe.nothing\" id=9032834383112645395]\n\t5104252592144691839 -> 7808960626005506202 [id=\"-3602988945447969937.args[2]\"]\n\t7808960626005506202 [label=\"Abstraction.__add__\" id=7808960626005506202]\n\t7808960626005506202 -> -1894269937027086384 [id=\"7808960626005506202.args[0]\"]\n\t-1894269937027086384 [label=\"Abstraction.from_fn\" id=-1894269937027086384]\n\t-1894269937027086384 -> -4855096197904090350 [id=\"-1894269937027086384.args[0]\"]\n\t-4855096197904090350 [label=\"Maybe.just\" id=-4855096197904090350]\n\t7808960626005506202 -> 6914557858993007492 [id=\"7808960626005506202.args[1]\"]\n\t6914557858993007492 [label=\"Abstraction.create\" id=6914557858993007492]\n\t6914557858993007492 -> -3875335050971398825 [id=\"6914557858993007492.args[0]\"]\n\t-3875335050971398825 [label=\"Abstraction.create_variable\" id=-3875335050971398825]\n\t-3875335050971398825 -> -4268939887078651459 [id=\"-3875335050971398825.args[0]\"]\n\t-4268939887078651459 [label=\"Variable(4763508352)\" id=-4268939887078651459]\n\t6914557858993007492 -> -1669249308957284923 [id=\"6914557858993007492.args[1]\"]\n\t-1669249308957284923 [label=\"NDArray.__getitem__\" id=-1669249308957284923]\n\t-1669249308957284923 -> 5872572339045335076 [id=\"-1669249308957284923.args[0]\"]\n\t5872572339045335076 [label=\"Pair.left\" id=5872572339045335076]\n\t5872572339045335076 -> -3875335050971398825 [id=\"5872572339045335076.args[0]\"]\n\t-1669249308957284923 -> -9003153576216423860 [id=\"-1669249308957284923.args[1]\"]\n\t-9003153576216423860 [label=\"Pair.right\" id=-9003153576216423860]\n\t-9003153576216423860 -> -3875335050971398825 [id=\"-9003153576216423860.args[0]\"]\n}",
         "label": null,
         "rule": "metadsl_core.maybe.Maybe.map"
        },
        {
         "graph": "digraph {\n\tnode [shape=plain]\n\tedge [arrowsize=0.5 penwidth=0.5]\n\t-5913722577499261700 [label=\"NDArrayCompat.to_ndarray\" id=-1341672716970475800]\n\t-5913722577499261700 -> -5706337675686693319 [id=\"-1341672716970475800.args[0]\"]\n\t-5706337675686693319 [label=\"NDArrayCompat.from_ndarray\" id=-4772016795270189587]\n\t-5706337675686693319 -> 3805090939023735797 [id=\"-4772016795270189587.args[0]\"]\n\t3805090939023735797 [label=\"Maybe.match\" id=-3602988945447969937]\n\t3805090939023735797 -> 2113797957111920961 [id=\"-3602988945447969937.args[0]\"]\n\t2113797957111920961 [label=\"Maybe.__and__\" id=-1176136162159317166]\n\t2113797957111920961 -> -2020586981356496369 [id=\"-1176136162159317166.args[0]\"]\n\t-2020586981356496369 [label=\"Converter.convert\" id=-2020586981356496369]\n\t-2020586981356496369 -> 6785135613727947616 [id=\"-2020586981356496369.args[0]\"]\n\t6785135613727947616 [label=\"NDArrayCompat.__add__\" id=6785135613727947616]\n\t6785135613727947616 -> -8162579586956751115 [id=\"6785135613727947616.args[0]\"]\n\t-8162579586956751115 [label=\"NDArrayCompat.from_ndarray\" id=-8162579586956751115]\n\t-8162579586956751115 -> -996850803608951878 [id=\"-8162579586956751115.args[0]\"]\n\t-996850803608951878 [label=\"Maybe.map\" id=-996850803608951878]\n\t-996850803608951878 -> -6059403141323843149 [id=\"-996850803608951878.args[0]\"]\n\t-6059403141323843149 [label=\"Maybe.just\" id=-6059403141323843149]\n\t-6059403141323843149 -> -1313138448651871637 [id=\"-6059403141323843149.args[0]\"]\n\t-1313138448651871637 [label=\"Integer.from_int\" id=-1313138448651871637]\n\t-1313138448651871637 -> -7737040241287546841 [id=\"-1313138448651871637.args[0]\"]\n\t-7737040241287546841 [label=100 id=-5945887149520679823]\n\t-996850803608951878 -> 9003221985443418126 [id=\"-996850803608951878.args[1]\"]\n\t9003221985443418126 [label=\"Abstraction.create\" id=9003221985443418126]\n\t9003221985443418126 -> 5147401912858767407 [id=\"9003221985443418126.args[0]\"]\n\t5147401912858767407 [label=\"Abstraction.create_variable\" id=5147401912858767407]\n\t5147401912858767407 -> 4954432105590701424 [id=\"5147401912858767407.args[0]\"]\n\t4954432105590701424 [label=\"Variable(4762851256)\" id=4954432105590701424]\n\t9003221985443418126 -> 6757516754014003782 [id=\"9003221985443418126.args[1]\"]\n\t6757516754014003782 [label=arange_ id=6757516754014003782]\n\t6757516754014003782 -> 5147401912858767407 [id=\"6757516754014003782.args[0]\"]\n\t6785135613727947616 -> -8162579586956751115 [id=\"6785135613727947616.args[1]\"]\n\t2113797957111920961 -> 198719414552122372 [id=\"-1176136162159317166.args[1]\"]\n\t198719414552122372 [label=\"Maybe.__or__\" id=-3702009093770552402]\n\t198719414552122372 -> -7253073449237699425 [id=\"-3702009093770552402.args[0]\"]\n\t-7253073449237699425 [label=\"Abstraction.__call__\" id=-5711639544431828191]\n\t-7253073449237699425 -> -8185615459012223365 [id=\"-5711639544431828191.args[0]\"]\n\t-8185615459012223365 [label=\"Abstraction.__add__\" id=-8185615459012223365]\n\t-8185615459012223365 -> 2013462788875869881 [id=\"-8185615459012223365.args[0]\"]\n\t2013462788875869881 [label=\"Abstraction.from_fn\" id=2013462788875869881]\n\t2013462788875869881 -> -944428355994881963 [id=\"2013462788875869881.args[0]\"]\n\t-944428355994881963 [label=\"Maybe.just\" id=-944428355994881963]\n\t-8185615459012223365 -> -6625266454406091376 [id=\"-8185615459012223365.args[1]\"]\n\t-6625266454406091376 [label=\"Abstraction.create\" id=-6625266454406091376]\n\t-6625266454406091376 -> 7625737217546302985 [id=\"-6625266454406091376.args[0]\"]\n\t7625737217546302985 [label=\"Abstraction.create_variable\" id=7625737217546302985]\n\t7625737217546302985 -> -4268939874013657234 [id=\"7625737217546302985.args[0]\"]\n\t-4268939874013657234 [label=\"Variable(4763568336)\" id=-4268939874013657234]\n\t-6625266454406091376 -> 2339027244142301325 [id=\"-6625266454406091376.args[1]\"]\n\t2339027244142301325 [label=\"Either.left\" id=2339027244142301325]\n\t2339027244142301325 -> 7625737217546302985 [id=\"2339027244142301325.args[0]\"]\n\t-7253073449237699425 -> 2507768681348984026 [id=\"-5711639544431828191.args[1]\"]\n\t2507768681348984026 [label=\"Integer.from_int\" id=2507768681348984026]\n\t2507768681348984026 -> -7737040241182541916 [id=\"2507768681348984026.args[0]\"]\n\t-7737040241182541916 [label=5 id=-3794084279707917178]\n\t198719414552122372 -> -4678793630453082750 [id=\"-3702009093770552402.args[1]\"]\n\t-4678793630453082750 [label=\"Maybe.match\" id=-8693574137465041742]\n\t-4678793630453082750 -> -7726250483385592724 [id=\"-8693574137465041742.args[0]\"]\n\t-7726250483385592724 [label=\"Converter.convert\" id=-7726250483385592724]\n\t-7726250483385592724 -> -7737040241182541916 [id=\"-7726250483385592724.args[0]\"]\n\t-4678793630453082750 -> 542625740483342888 [id=\"-8693574137465041742.args[1]\"]\n\t542625740483342888 [label=\"Maybe.nothing\" id=542625740483342888]\n\t-4678793630453082750 -> -4979443563467282184 [id=\"-8693574137465041742.args[2]\"]\n\t-4979443563467282184 [label=\"Abstraction.__add__\" id=-4979443563467282184]\n\t-4979443563467282184 -> 2013462788875869881 [id=\"-4979443563467282184.args[0]\"]\n\t-4979443563467282184 -> 188400188245589463 [id=\"-4979443563467282184.args[1]\"]\n\t188400188245589463 [label=\"Abstraction.create\" id=188400188245589463]\n\t188400188245589463 -> 1338288602999335341 [id=\"188400188245589463.args[0]\"]\n\t1338288602999335341 [label=\"Abstraction.create_variable\" id=1338288602999335341]\n\t1338288602999335341 -> -4268939902715725084 [id=\"1338288602999335341.args[0]\"]\n\t-4268939902715725084 [label=\"Variable(4763273200)\" id=-4268939902715725084]\n\t188400188245589463 -> 4503027993476547237 [id=\"188400188245589463.args[1]\"]\n\t4503027993476547237 [label=\"Either.right\" id=4503027993476547237]\n\t4503027993476547237 -> 1338288602999335341 [id=\"4503027993476547237.args[0]\"]\n\t3805090939023735797 -> 9032834383112645395 [id=\"-3602988945447969937.args[1]\"]\n\t9032834383112645395 [label=\"Maybe.nothing\" id=9032834383112645395]\n\t3805090939023735797 -> 7808960626005506202 [id=\"-3602988945447969937.args[2]\"]\n\t7808960626005506202 [label=\"Abstraction.__add__\" id=7808960626005506202]\n\t7808960626005506202 -> -1894269937027086384 [id=\"7808960626005506202.args[0]\"]\n\t-1894269937027086384 [label=\"Abstraction.from_fn\" id=-1894269937027086384]\n\t-1894269937027086384 -> -4855096197904090350 [id=\"-1894269937027086384.args[0]\"]\n\t-4855096197904090350 [label=\"Maybe.just\" id=-4855096197904090350]\n\t7808960626005506202 -> 6914557858993007492 [id=\"7808960626005506202.args[1]\"]\n\t6914557858993007492 [label=\"Abstraction.create\" id=6914557858993007492]\n\t6914557858993007492 -> -3875335050971398825 [id=\"6914557858993007492.args[0]\"]\n\t-3875335050971398825 [label=\"Abstraction.create_variable\" id=-3875335050971398825]\n\t-3875335050971398825 -> -4268939887078651459 [id=\"-3875335050971398825.args[0]\"]\n\t-4268939887078651459 [label=\"Variable(4763508352)\" id=-4268939887078651459]\n\t6914557858993007492 -> -1669249308957284923 [id=\"6914557858993007492.args[1]\"]\n\t-1669249308957284923 [label=\"NDArray.__getitem__\" id=-1669249308957284923]\n\t-1669249308957284923 -> 5872572339045335076 [id=\"-1669249308957284923.args[0]\"]\n\t5872572339045335076 [label=\"Pair.left\" id=5872572339045335076]\n\t5872572339045335076 -> -3875335050971398825 [id=\"5872572339045335076.args[0]\"]\n\t-1669249308957284923 -> -9003153576216423860 [id=\"-1669249308957284923.args[1]\"]\n\t-9003153576216423860 [label=\"Pair.right\" id=-9003153576216423860]\n\t-9003153576216423860 -> -3875335050971398825 [id=\"-9003153576216423860.args[0]\"]\n}",
         "label": null,
         "rule": "metadsl_core.maybe.maybe_match"
        },
        {
         "graph": "digraph {\n\tnode [shape=plain]\n\tedge [arrowsize=0.5 penwidth=0.5]\n\t4093895417369418546 [label=\"NDArrayCompat.to_ndarray\" id=-1341672716970475800]\n\t4093895417369418546 -> -407574838471314743 [id=\"-1341672716970475800.args[0]\"]\n\t-407574838471314743 [label=\"NDArrayCompat.from_ndarray\" id=-4772016795270189587]\n\t-407574838471314743 -> -9085725868781594295 [id=\"-4772016795270189587.args[0]\"]\n\t-9085725868781594295 [label=\"Maybe.match\" id=-3602988945447969937]\n\t-9085725868781594295 -> -9013302310662663336 [id=\"-3602988945447969937.args[0]\"]\n\t-9013302310662663336 [label=\"Maybe.__and__\" id=-1176136162159317166]\n\t-9013302310662663336 -> 1378789293694660462 [id=\"-1176136162159317166.args[0]\"]\n\t1378789293694660462 [label=\"Converter.convert\" id=-2020586981356496369]\n\t1378789293694660462 -> 6863904192855538109 [id=\"-2020586981356496369.args[0]\"]\n\t6863904192855538109 [label=\"NDArrayCompat.__add__\" id=6785135613727947616]\n\t6863904192855538109 -> -6461914045271554147 [id=\"6785135613727947616.args[0]\"]\n\t-6461914045271554147 [label=\"NDArrayCompat.from_ndarray\" id=-6461914045271554147]\n\t-6461914045271554147 -> -5838605260233094508 [id=\"-6461914045271554147.args[0]\"]\n\t-5838605260233094508 [label=\"Maybe.match\" id=-5838605260233094508]\n\t-5838605260233094508 -> -6059403141323843149 [id=\"-5838605260233094508.args[0]\"]\n\t-6059403141323843149 [label=\"Maybe.just\" id=-6059403141323843149]\n\t-6059403141323843149 -> -1313138448651871637 [id=\"-6059403141323843149.args[0]\"]\n\t-1313138448651871637 [label=\"Integer.from_int\" id=-1313138448651871637]\n\t-1313138448651871637 -> -7737040241287546841 [id=\"-1313138448651871637.args[0]\"]\n\t-7737040241287546841 [label=100 id=-5945887149520679823]\n\t-5838605260233094508 -> 9032834383112645395 [id=\"-5838605260233094508.args[1]\"]\n\t9032834383112645395 [label=\"Maybe.nothing\" id=9032834383112645395]\n\t-5838605260233094508 -> -7005933830148898301 [id=\"-5838605260233094508.args[2]\"]\n\t-7005933830148898301 [label=\"Abstraction.__add__\" id=-7005933830148898301]\n\t-7005933830148898301 -> -1894269937027086384 [id=\"-7005933830148898301.args[0]\"]\n\t-1894269937027086384 [label=\"Abstraction.from_fn\" id=-1894269937027086384]\n\t-1894269937027086384 -> -4855096197904090350 [id=\"-1894269937027086384.args[0]\"]\n\t-4855096197904090350 [label=\"Maybe.just\" id=-4855096197904090350]\n\t-7005933830148898301 -> 9003221985443418126 [id=\"-7005933830148898301.args[1]\"]\n\t9003221985443418126 [label=\"Abstraction.create\" id=9003221985443418126]\n\t9003221985443418126 -> 5147401912858767407 [id=\"9003221985443418126.args[0]\"]\n\t5147401912858767407 [label=\"Abstraction.create_variable\" id=5147401912858767407]\n\t5147401912858767407 -> 4954432105590701424 [id=\"5147401912858767407.args[0]\"]\n\t4954432105590701424 [label=\"Variable(4762851256)\" id=4954432105590701424]\n\t9003221985443418126 -> 6757516754014003782 [id=\"9003221985443418126.args[1]\"]\n\t6757516754014003782 [label=arange_ id=6757516754014003782]\n\t6757516754014003782 -> 5147401912858767407 [id=\"6757516754014003782.args[0]\"]\n\t6863904192855538109 -> -8162579586956751115 [id=\"6785135613727947616.args[1]\"]\n\t-8162579586956751115 [label=\"NDArrayCompat.from_ndarray\" id=-8162579586956751115]\n\t-8162579586956751115 -> -996850803608951878 [id=\"-8162579586956751115.args[0]\"]\n\t-996850803608951878 [label=\"Maybe.map\" id=-996850803608951878]\n\t-996850803608951878 -> -6059403141323843149 [id=\"-996850803608951878.args[0]\"]\n\t-996850803608951878 -> 9003221985443418126 [id=\"-996850803608951878.args[1]\"]\n\t-9013302310662663336 -> 198719414552122372 [id=\"-1176136162159317166.args[1]\"]\n\t198719414552122372 [label=\"Maybe.__or__\" id=-3702009093770552402]\n\t198719414552122372 -> -7253073449237699425 [id=\"-3702009093770552402.args[0]\"]\n\t-7253073449237699425 [label=\"Abstraction.__call__\" id=-5711639544431828191]\n\t-7253073449237699425 -> -8185615459012223365 [id=\"-5711639544431828191.args[0]\"]\n\t-8185615459012223365 [label=\"Abstraction.__add__\" id=-8185615459012223365]\n\t-8185615459012223365 -> 2013462788875869881 [id=\"-8185615459012223365.args[0]\"]\n\t2013462788875869881 [label=\"Abstraction.from_fn\" id=2013462788875869881]\n\t2013462788875869881 -> -944428355994881963 [id=\"2013462788875869881.args[0]\"]\n\t-944428355994881963 [label=\"Maybe.just\" id=-944428355994881963]\n\t-8185615459012223365 -> -6625266454406091376 [id=\"-8185615459012223365.args[1]\"]\n\t-6625266454406091376 [label=\"Abstraction.create\" id=-6625266454406091376]\n\t-6625266454406091376 -> 7625737217546302985 [id=\"-6625266454406091376.args[0]\"]\n\t7625737217546302985 [label=\"Abstraction.create_variable\" id=7625737217546302985]\n\t7625737217546302985 -> -4268939874013657234 [id=\"7625737217546302985.args[0]\"]\n\t-4268939874013657234 [label=\"Variable(4763568336)\" id=-4268939874013657234]\n\t-6625266454406091376 -> 2339027244142301325 [id=\"-6625266454406091376.args[1]\"]\n\t2339027244142301325 [label=\"Either.left\" id=2339027244142301325]\n\t2339027244142301325 -> 7625737217546302985 [id=\"2339027244142301325.args[0]\"]\n\t-7253073449237699425 -> 2507768681348984026 [id=\"-5711639544431828191.args[1]\"]\n\t2507768681348984026 [label=\"Integer.from_int\" id=2507768681348984026]\n\t2507768681348984026 -> -7737040241182541916 [id=\"2507768681348984026.args[0]\"]\n\t-7737040241182541916 [label=5 id=-3794084279707917178]\n\t198719414552122372 -> -4678793630453082750 [id=\"-3702009093770552402.args[1]\"]\n\t-4678793630453082750 [label=\"Maybe.match\" id=-8693574137465041742]\n\t-4678793630453082750 -> -7726250483385592724 [id=\"-8693574137465041742.args[0]\"]\n\t-7726250483385592724 [label=\"Converter.convert\" id=-7726250483385592724]\n\t-7726250483385592724 -> -7737040241182541916 [id=\"-7726250483385592724.args[0]\"]\n\t-4678793630453082750 -> 542625740483342888 [id=\"-8693574137465041742.args[1]\"]\n\t542625740483342888 [label=\"Maybe.nothing\" id=542625740483342888]\n\t-4678793630453082750 -> -4979443563467282184 [id=\"-8693574137465041742.args[2]\"]\n\t-4979443563467282184 [label=\"Abstraction.__add__\" id=-4979443563467282184]\n\t-4979443563467282184 -> 2013462788875869881 [id=\"-4979443563467282184.args[0]\"]\n\t-4979443563467282184 -> 188400188245589463 [id=\"-4979443563467282184.args[1]\"]\n\t188400188245589463 [label=\"Abstraction.create\" id=188400188245589463]\n\t188400188245589463 -> 1338288602999335341 [id=\"188400188245589463.args[0]\"]\n\t1338288602999335341 [label=\"Abstraction.create_variable\" id=1338288602999335341]\n\t1338288602999335341 -> -4268939902715725084 [id=\"1338288602999335341.args[0]\"]\n\t-4268939902715725084 [label=\"Variable(4763273200)\" id=-4268939902715725084]\n\t188400188245589463 -> 4503027993476547237 [id=\"188400188245589463.args[1]\"]\n\t4503027993476547237 [label=\"Either.right\" id=4503027993476547237]\n\t4503027993476547237 -> 1338288602999335341 [id=\"4503027993476547237.args[0]\"]\n\t-9085725868781594295 -> 9032834383112645395 [id=\"-3602988945447969937.args[1]\"]\n\t-9085725868781594295 -> 7808960626005506202 [id=\"-3602988945447969937.args[2]\"]\n\t7808960626005506202 [label=\"Abstraction.__add__\" id=7808960626005506202]\n\t7808960626005506202 -> -1894269937027086384 [id=\"7808960626005506202.args[0]\"]\n\t7808960626005506202 -> 6914557858993007492 [id=\"7808960626005506202.args[1]\"]\n\t6914557858993007492 [label=\"Abstraction.create\" id=6914557858993007492]\n\t6914557858993007492 -> -3875335050971398825 [id=\"6914557858993007492.args[0]\"]\n\t-3875335050971398825 [label=\"Abstraction.create_variable\" id=-3875335050971398825]\n\t-3875335050971398825 -> -4268939887078651459 [id=\"-3875335050971398825.args[0]\"]\n\t-4268939887078651459 [label=\"Variable(4763508352)\" id=-4268939887078651459]\n\t6914557858993007492 -> -1669249308957284923 [id=\"6914557858993007492.args[1]\"]\n\t-1669249308957284923 [label=\"NDArray.__getitem__\" id=-1669249308957284923]\n\t-1669249308957284923 -> 5872572339045335076 [id=\"-1669249308957284923.args[0]\"]\n\t5872572339045335076 [label=\"Pair.left\" id=5872572339045335076]\n\t5872572339045335076 -> -3875335050971398825 [id=\"5872572339045335076.args[0]\"]\n\t-1669249308957284923 -> -9003153576216423860 [id=\"-1669249308957284923.args[1]\"]\n\t-9003153576216423860 [label=\"Pair.right\" id=-9003153576216423860]\n\t-9003153576216423860 -> -3875335050971398825 [id=\"-9003153576216423860.args[0]\"]\n}",
         "label": null,
         "rule": "metadsl_core.maybe.Maybe.map"
        },
        {
         "graph": "digraph {\n\tnode [shape=plain]\n\tedge [arrowsize=0.5 penwidth=0.5]\n\t-3392481267222404138 [label=\"NDArrayCompat.to_ndarray\" id=-1341672716970475800]\n\t-3392481267222404138 -> -8553321738658996376 [id=\"-1341672716970475800.args[0]\"]\n\t-8553321738658996376 [label=\"NDArrayCompat.from_ndarray\" id=-4772016795270189587]\n\t-8553321738658996376 -> -5512253243893875115 [id=\"-4772016795270189587.args[0]\"]\n\t-5512253243893875115 [label=\"Maybe.match\" id=-3602988945447969937]\n\t-5512253243893875115 -> 6891494960931475679 [id=\"-3602988945447969937.args[0]\"]\n\t6891494960931475679 [label=\"Maybe.__and__\" id=-1176136162159317166]\n\t6891494960931475679 -> 2169668488156492865 [id=\"-1176136162159317166.args[0]\"]\n\t2169668488156492865 [label=\"Converter.convert\" id=-2020586981356496369]\n\t2169668488156492865 -> 5221238583677160674 [id=\"-2020586981356496369.args[0]\"]\n\t5221238583677160674 [label=\"NDArrayCompat.__add__\" id=6785135613727947616]\n\t5221238583677160674 -> -6461914045271554147 [id=\"6785135613727947616.args[0]\"]\n\t-6461914045271554147 [label=\"NDArrayCompat.from_ndarray\" id=-6461914045271554147]\n\t-6461914045271554147 -> -5838605260233094508 [id=\"-6461914045271554147.args[0]\"]\n\t-5838605260233094508 [label=\"Maybe.match\" id=-5838605260233094508]\n\t-5838605260233094508 -> -6059403141323843149 [id=\"-5838605260233094508.args[0]\"]\n\t-6059403141323843149 [label=\"Maybe.just\" id=-6059403141323843149]\n\t-6059403141323843149 -> -1313138448651871637 [id=\"-6059403141323843149.args[0]\"]\n\t-1313138448651871637 [label=\"Integer.from_int\" id=-1313138448651871637]\n\t-1313138448651871637 -> -7737040241287546841 [id=\"-1313138448651871637.args[0]\"]\n\t-7737040241287546841 [label=100 id=-5945887149520679823]\n\t-5838605260233094508 -> 9032834383112645395 [id=\"-5838605260233094508.args[1]\"]\n\t9032834383112645395 [label=\"Maybe.nothing\" id=9032834383112645395]\n\t-5838605260233094508 -> -7005933830148898301 [id=\"-5838605260233094508.args[2]\"]\n\t-7005933830148898301 [label=\"Abstraction.__add__\" id=-7005933830148898301]\n\t-7005933830148898301 -> -1894269937027086384 [id=\"-7005933830148898301.args[0]\"]\n\t-1894269937027086384 [label=\"Abstraction.from_fn\" id=-1894269937027086384]\n\t-1894269937027086384 -> -4855096197904090350 [id=\"-1894269937027086384.args[0]\"]\n\t-4855096197904090350 [label=\"Maybe.just\" id=-4855096197904090350]\n\t-7005933830148898301 -> 9003221985443418126 [id=\"-7005933830148898301.args[1]\"]\n\t9003221985443418126 [label=\"Abstraction.create\" id=9003221985443418126]\n\t9003221985443418126 -> 5147401912858767407 [id=\"9003221985443418126.args[0]\"]\n\t5147401912858767407 [label=\"Abstraction.create_variable\" id=5147401912858767407]\n\t5147401912858767407 -> 4954432105590701424 [id=\"5147401912858767407.args[0]\"]\n\t4954432105590701424 [label=\"Variable(4762851256)\" id=4954432105590701424]\n\t9003221985443418126 -> 6757516754014003782 [id=\"9003221985443418126.args[1]\"]\n\t6757516754014003782 [label=arange_ id=6757516754014003782]\n\t6757516754014003782 -> 5147401912858767407 [id=\"6757516754014003782.args[0]\"]\n\t5221238583677160674 -> -6461914045271554147 [id=\"6785135613727947616.args[1]\"]\n\t6891494960931475679 -> 198719414552122372 [id=\"-1176136162159317166.args[1]\"]\n\t198719414552122372 [label=\"Maybe.__or__\" id=-3702009093770552402]\n\t198719414552122372 -> -7253073449237699425 [id=\"-3702009093770552402.args[0]\"]\n\t-7253073449237699425 [label=\"Abstraction.__call__\" id=-5711639544431828191]\n\t-7253073449237699425 -> -8185615459012223365 [id=\"-5711639544431828191.args[0]\"]\n\t-8185615459012223365 [label=\"Abstraction.__add__\" id=-8185615459012223365]\n\t-8185615459012223365 -> 2013462788875869881 [id=\"-8185615459012223365.args[0]\"]\n\t2013462788875869881 [label=\"Abstraction.from_fn\" id=2013462788875869881]\n\t2013462788875869881 -> -944428355994881963 [id=\"2013462788875869881.args[0]\"]\n\t-944428355994881963 [label=\"Maybe.just\" id=-944428355994881963]\n\t-8185615459012223365 -> -6625266454406091376 [id=\"-8185615459012223365.args[1]\"]\n\t-6625266454406091376 [label=\"Abstraction.create\" id=-6625266454406091376]\n\t-6625266454406091376 -> 7625737217546302985 [id=\"-6625266454406091376.args[0]\"]\n\t7625737217546302985 [label=\"Abstraction.create_variable\" id=7625737217546302985]\n\t7625737217546302985 -> -4268939874013657234 [id=\"7625737217546302985.args[0]\"]\n\t-4268939874013657234 [label=\"Variable(4763568336)\" id=-4268939874013657234]\n\t-6625266454406091376 -> 2339027244142301325 [id=\"-6625266454406091376.args[1]\"]\n\t2339027244142301325 [label=\"Either.left\" id=2339027244142301325]\n\t2339027244142301325 -> 7625737217546302985 [id=\"2339027244142301325.args[0]\"]\n\t-7253073449237699425 -> 2507768681348984026 [id=\"-5711639544431828191.args[1]\"]\n\t2507768681348984026 [label=\"Integer.from_int\" id=2507768681348984026]\n\t2507768681348984026 -> -7737040241182541916 [id=\"2507768681348984026.args[0]\"]\n\t-7737040241182541916 [label=5 id=-3794084279707917178]\n\t198719414552122372 -> -4678793630453082750 [id=\"-3702009093770552402.args[1]\"]\n\t-4678793630453082750 [label=\"Maybe.match\" id=-8693574137465041742]\n\t-4678793630453082750 -> -7726250483385592724 [id=\"-8693574137465041742.args[0]\"]\n\t-7726250483385592724 [label=\"Converter.convert\" id=-7726250483385592724]\n\t-7726250483385592724 -> -7737040241182541916 [id=\"-7726250483385592724.args[0]\"]\n\t-4678793630453082750 -> 542625740483342888 [id=\"-8693574137465041742.args[1]\"]\n\t542625740483342888 [label=\"Maybe.nothing\" id=542625740483342888]\n\t-4678793630453082750 -> -4979443563467282184 [id=\"-8693574137465041742.args[2]\"]\n\t-4979443563467282184 [label=\"Abstraction.__add__\" id=-4979443563467282184]\n\t-4979443563467282184 -> 2013462788875869881 [id=\"-4979443563467282184.args[0]\"]\n\t-4979443563467282184 -> 188400188245589463 [id=\"-4979443563467282184.args[1]\"]\n\t188400188245589463 [label=\"Abstraction.create\" id=188400188245589463]\n\t188400188245589463 -> 1338288602999335341 [id=\"188400188245589463.args[0]\"]\n\t1338288602999335341 [label=\"Abstraction.create_variable\" id=1338288602999335341]\n\t1338288602999335341 -> -4268939902715725084 [id=\"1338288602999335341.args[0]\"]\n\t-4268939902715725084 [label=\"Variable(4763273200)\" id=-4268939902715725084]\n\t188400188245589463 -> 4503027993476547237 [id=\"188400188245589463.args[1]\"]\n\t4503027993476547237 [label=\"Either.right\" id=4503027993476547237]\n\t4503027993476547237 -> 1338288602999335341 [id=\"4503027993476547237.args[0]\"]\n\t-5512253243893875115 -> 9032834383112645395 [id=\"-3602988945447969937.args[1]\"]\n\t-5512253243893875115 -> 7808960626005506202 [id=\"-3602988945447969937.args[2]\"]\n\t7808960626005506202 [label=\"Abstraction.__add__\" id=7808960626005506202]\n\t7808960626005506202 -> -1894269937027086384 [id=\"7808960626005506202.args[0]\"]\n\t7808960626005506202 -> 6914557858993007492 [id=\"7808960626005506202.args[1]\"]\n\t6914557858993007492 [label=\"Abstraction.create\" id=6914557858993007492]\n\t6914557858993007492 -> -3875335050971398825 [id=\"6914557858993007492.args[0]\"]\n\t-3875335050971398825 [label=\"Abstraction.create_variable\" id=-3875335050971398825]\n\t-3875335050971398825 -> -4268939887078651459 [id=\"-3875335050971398825.args[0]\"]\n\t-4268939887078651459 [label=\"Variable(4763508352)\" id=-4268939887078651459]\n\t6914557858993007492 -> -1669249308957284923 [id=\"6914557858993007492.args[1]\"]\n\t-1669249308957284923 [label=\"NDArray.__getitem__\" id=-1669249308957284923]\n\t-1669249308957284923 -> 5872572339045335076 [id=\"-1669249308957284923.args[0]\"]\n\t5872572339045335076 [label=\"Pair.left\" id=5872572339045335076]\n\t5872572339045335076 -> -3875335050971398825 [id=\"5872572339045335076.args[0]\"]\n\t-1669249308957284923 -> -9003153576216423860 [id=\"-1669249308957284923.args[1]\"]\n\t-9003153576216423860 [label=\"Pair.right\" id=-9003153576216423860]\n\t-9003153576216423860 -> -3875335050971398825 [id=\"-9003153576216423860.args[0]\"]\n}",
         "label": null,
         "rule": "metadsl_core.maybe.Maybe.map"
        },
        {
         "graph": "digraph {\n\tnode [shape=plain]\n\tedge [arrowsize=0.5 penwidth=0.5]\n\t-552847069780420540 [label=\"NDArrayCompat.to_ndarray\" id=-1341672716970475800]\n\t-552847069780420540 -> -8920415250739751582 [id=\"-1341672716970475800.args[0]\"]\n\t-8920415250739751582 [label=\"NDArrayCompat.from_ndarray\" id=-4772016795270189587]\n\t-8920415250739751582 -> 8710392345814282702 [id=\"-4772016795270189587.args[0]\"]\n\t8710392345814282702 [label=\"Maybe.match\" id=-3602988945447969937]\n\t8710392345814282702 -> -9111108110381634133 [id=\"-3602988945447969937.args[0]\"]\n\t-9111108110381634133 [label=\"Maybe.__and__\" id=-1176136162159317166]\n\t-9111108110381634133 -> 9122846817468309746 [id=\"-1176136162159317166.args[0]\"]\n\t9122846817468309746 [label=\"Converter.convert\" id=-2020586981356496369]\n\t9122846817468309746 -> -4370075408063533460 [id=\"-2020586981356496369.args[0]\"]\n\t-4370075408063533460 [label=\"NDArrayCompat.__add__\" id=6785135613727947616]\n\t-4370075408063533460 -> 5417034725160828583 [id=\"6785135613727947616.args[0]\"]\n\t5417034725160828583 [label=\"NDArrayCompat.from_ndarray\" id=5417034725160828583]\n\t5417034725160828583 -> 161942629437193568 [id=\"5417034725160828583.args[0]\"]\n\t161942629437193568 [label=\"Abstraction.__call__\" id=161942629437193568]\n\t161942629437193568 -> -7005933830148898301 [id=\"161942629437193568.args[0]\"]\n\t-7005933830148898301 [label=\"Abstraction.__add__\" id=-7005933830148898301]\n\t-7005933830148898301 -> -1894269937027086384 [id=\"-7005933830148898301.args[0]\"]\n\t-1894269937027086384 [label=\"Abstraction.from_fn\" id=-1894269937027086384]\n\t-1894269937027086384 -> -4855096197904090350 [id=\"-1894269937027086384.args[0]\"]\n\t-4855096197904090350 [label=\"Maybe.just\" id=-4855096197904090350]\n\t-7005933830148898301 -> 9003221985443418126 [id=\"-7005933830148898301.args[1]\"]\n\t9003221985443418126 [label=\"Abstraction.create\" id=9003221985443418126]\n\t9003221985443418126 -> 5147401912858767407 [id=\"9003221985443418126.args[0]\"]\n\t5147401912858767407 [label=\"Abstraction.create_variable\" id=5147401912858767407]\n\t5147401912858767407 -> 4954432105590701424 [id=\"5147401912858767407.args[0]\"]\n\t4954432105590701424 [label=\"Variable(4762851256)\" id=4954432105590701424]\n\t9003221985443418126 -> 6757516754014003782 [id=\"9003221985443418126.args[1]\"]\n\t6757516754014003782 [label=arange_ id=6757516754014003782]\n\t6757516754014003782 -> 5147401912858767407 [id=\"6757516754014003782.args[0]\"]\n\t161942629437193568 -> -1313138448651871637 [id=\"161942629437193568.args[1]\"]\n\t-1313138448651871637 [label=\"Integer.from_int\" id=-1313138448651871637]\n\t-1313138448651871637 -> -7737040241287546841 [id=\"-1313138448651871637.args[0]\"]\n\t-7737040241287546841 [label=100 id=-5945887149520679823]\n\t-4370075408063533460 -> -6461914045271554147 [id=\"6785135613727947616.args[1]\"]\n\t-6461914045271554147 [label=\"NDArrayCompat.from_ndarray\" id=-6461914045271554147]\n\t-6461914045271554147 -> -5838605260233094508 [id=\"-6461914045271554147.args[0]\"]\n\t-5838605260233094508 [label=\"Maybe.match\" id=-5838605260233094508]\n\t-5838605260233094508 -> -6059403141323843149 [id=\"-5838605260233094508.args[0]\"]\n\t-6059403141323843149 [label=\"Maybe.just\" id=-6059403141323843149]\n\t-6059403141323843149 -> -1313138448651871637 [id=\"-6059403141323843149.args[0]\"]\n\t-5838605260233094508 -> 9032834383112645395 [id=\"-5838605260233094508.args[1]\"]\n\t9032834383112645395 [label=\"Maybe.nothing\" id=9032834383112645395]\n\t-5838605260233094508 -> -7005933830148898301 [id=\"-5838605260233094508.args[2]\"]\n\t-9111108110381634133 -> 198719414552122372 [id=\"-1176136162159317166.args[1]\"]\n\t198719414552122372 [label=\"Maybe.__or__\" id=-3702009093770552402]\n\t198719414552122372 -> -7253073449237699425 [id=\"-3702009093770552402.args[0]\"]\n\t-7253073449237699425 [label=\"Abstraction.__call__\" id=-5711639544431828191]\n\t-7253073449237699425 -> -8185615459012223365 [id=\"-5711639544431828191.args[0]\"]\n\t-8185615459012223365 [label=\"Abstraction.__add__\" id=-8185615459012223365]\n\t-8185615459012223365 -> 2013462788875869881 [id=\"-8185615459012223365.args[0]\"]\n\t2013462788875869881 [label=\"Abstraction.from_fn\" id=2013462788875869881]\n\t2013462788875869881 -> -944428355994881963 [id=\"2013462788875869881.args[0]\"]\n\t-944428355994881963 [label=\"Maybe.just\" id=-944428355994881963]\n\t-8185615459012223365 -> -6625266454406091376 [id=\"-8185615459012223365.args[1]\"]\n\t-6625266454406091376 [label=\"Abstraction.create\" id=-6625266454406091376]\n\t-6625266454406091376 -> 7625737217546302985 [id=\"-6625266454406091376.args[0]\"]\n\t7625737217546302985 [label=\"Abstraction.create_variable\" id=7625737217546302985]\n\t7625737217546302985 -> -4268939874013657234 [id=\"7625737217546302985.args[0]\"]\n\t-4268939874013657234 [label=\"Variable(4763568336)\" id=-4268939874013657234]\n\t-6625266454406091376 -> 2339027244142301325 [id=\"-6625266454406091376.args[1]\"]\n\t2339027244142301325 [label=\"Either.left\" id=2339027244142301325]\n\t2339027244142301325 -> 7625737217546302985 [id=\"2339027244142301325.args[0]\"]\n\t-7253073449237699425 -> 2507768681348984026 [id=\"-5711639544431828191.args[1]\"]\n\t2507768681348984026 [label=\"Integer.from_int\" id=2507768681348984026]\n\t2507768681348984026 -> -7737040241182541916 [id=\"2507768681348984026.args[0]\"]\n\t-7737040241182541916 [label=5 id=-3794084279707917178]\n\t198719414552122372 -> -4678793630453082750 [id=\"-3702009093770552402.args[1]\"]\n\t-4678793630453082750 [label=\"Maybe.match\" id=-8693574137465041742]\n\t-4678793630453082750 -> -7726250483385592724 [id=\"-8693574137465041742.args[0]\"]\n\t-7726250483385592724 [label=\"Converter.convert\" id=-7726250483385592724]\n\t-7726250483385592724 -> -7737040241182541916 [id=\"-7726250483385592724.args[0]\"]\n\t-4678793630453082750 -> 542625740483342888 [id=\"-8693574137465041742.args[1]\"]\n\t542625740483342888 [label=\"Maybe.nothing\" id=542625740483342888]\n\t-4678793630453082750 -> -4979443563467282184 [id=\"-8693574137465041742.args[2]\"]\n\t-4979443563467282184 [label=\"Abstraction.__add__\" id=-4979443563467282184]\n\t-4979443563467282184 -> 2013462788875869881 [id=\"-4979443563467282184.args[0]\"]\n\t-4979443563467282184 -> 188400188245589463 [id=\"-4979443563467282184.args[1]\"]\n\t188400188245589463 [label=\"Abstraction.create\" id=188400188245589463]\n\t188400188245589463 -> 1338288602999335341 [id=\"188400188245589463.args[0]\"]\n\t1338288602999335341 [label=\"Abstraction.create_variable\" id=1338288602999335341]\n\t1338288602999335341 -> -4268939902715725084 [id=\"1338288602999335341.args[0]\"]\n\t-4268939902715725084 [label=\"Variable(4763273200)\" id=-4268939902715725084]\n\t188400188245589463 -> 4503027993476547237 [id=\"188400188245589463.args[1]\"]\n\t4503027993476547237 [label=\"Either.right\" id=4503027993476547237]\n\t4503027993476547237 -> 1338288602999335341 [id=\"4503027993476547237.args[0]\"]\n\t8710392345814282702 -> 9032834383112645395 [id=\"-3602988945447969937.args[1]\"]\n\t8710392345814282702 -> 7808960626005506202 [id=\"-3602988945447969937.args[2]\"]\n\t7808960626005506202 [label=\"Abstraction.__add__\" id=7808960626005506202]\n\t7808960626005506202 -> -1894269937027086384 [id=\"7808960626005506202.args[0]\"]\n\t7808960626005506202 -> 6914557858993007492 [id=\"7808960626005506202.args[1]\"]\n\t6914557858993007492 [label=\"Abstraction.create\" id=6914557858993007492]\n\t6914557858993007492 -> -3875335050971398825 [id=\"6914557858993007492.args[0]\"]\n\t-3875335050971398825 [label=\"Abstraction.create_variable\" id=-3875335050971398825]\n\t-3875335050971398825 -> -4268939887078651459 [id=\"-3875335050971398825.args[0]\"]\n\t-4268939887078651459 [label=\"Variable(4763508352)\" id=-4268939887078651459]\n\t6914557858993007492 -> -1669249308957284923 [id=\"6914557858993007492.args[1]\"]\n\t-1669249308957284923 [label=\"NDArray.__getitem__\" id=-1669249308957284923]\n\t-1669249308957284923 -> 5872572339045335076 [id=\"-1669249308957284923.args[0]\"]\n\t5872572339045335076 [label=\"Pair.left\" id=5872572339045335076]\n\t5872572339045335076 -> -3875335050971398825 [id=\"5872572339045335076.args[0]\"]\n\t-1669249308957284923 -> -9003153576216423860 [id=\"-1669249308957284923.args[1]\"]\n\t-9003153576216423860 [label=\"Pair.right\" id=-9003153576216423860]\n\t-9003153576216423860 -> -3875335050971398825 [id=\"-9003153576216423860.args[0]\"]\n}",
         "label": null,
         "rule": "metadsl_core.maybe.maybe_match"
        },
        {
         "graph": "digraph {\n\tnode [shape=plain]\n\tedge [arrowsize=0.5 penwidth=0.5]\n\t427833878628127218 [label=\"NDArrayCompat.to_ndarray\" id=-1341672716970475800]\n\t427833878628127218 -> -3520520859224783734 [id=\"-1341672716970475800.args[0]\"]\n\t-3520520859224783734 [label=\"NDArrayCompat.from_ndarray\" id=-4772016795270189587]\n\t-3520520859224783734 -> -6382185992886453333 [id=\"-4772016795270189587.args[0]\"]\n\t-6382185992886453333 [label=\"Maybe.match\" id=-3602988945447969937]\n\t-6382185992886453333 -> -2730709662832543356 [id=\"-3602988945447969937.args[0]\"]\n\t-2730709662832543356 [label=\"Maybe.__and__\" id=-1176136162159317166]\n\t-2730709662832543356 -> 385105171314180610 [id=\"-1176136162159317166.args[0]\"]\n\t385105171314180610 [label=\"Converter.convert\" id=-2020586981356496369]\n\t385105171314180610 -> 3395790146293950618 [id=\"-2020586981356496369.args[0]\"]\n\t3395790146293950618 [label=\"NDArrayCompat.__add__\" id=6785135613727947616]\n\t3395790146293950618 -> 5417034725160828583 [id=\"6785135613727947616.args[0]\"]\n\t5417034725160828583 [label=\"NDArrayCompat.from_ndarray\" id=5417034725160828583]\n\t5417034725160828583 -> 161942629437193568 [id=\"5417034725160828583.args[0]\"]\n\t161942629437193568 [label=\"Abstraction.__call__\" id=161942629437193568]\n\t161942629437193568 -> -7005933830148898301 [id=\"161942629437193568.args[0]\"]\n\t-7005933830148898301 [label=\"Abstraction.__add__\" id=-7005933830148898301]\n\t-7005933830148898301 -> -1894269937027086384 [id=\"-7005933830148898301.args[0]\"]\n\t-1894269937027086384 [label=\"Abstraction.from_fn\" id=-1894269937027086384]\n\t-1894269937027086384 -> -4855096197904090350 [id=\"-1894269937027086384.args[0]\"]\n\t-4855096197904090350 [label=\"Maybe.just\" id=-4855096197904090350]\n\t-7005933830148898301 -> 9003221985443418126 [id=\"-7005933830148898301.args[1]\"]\n\t9003221985443418126 [label=\"Abstraction.create\" id=9003221985443418126]\n\t9003221985443418126 -> 5147401912858767407 [id=\"9003221985443418126.args[0]\"]\n\t5147401912858767407 [label=\"Abstraction.create_variable\" id=5147401912858767407]\n\t5147401912858767407 -> 4954432105590701424 [id=\"5147401912858767407.args[0]\"]\n\t4954432105590701424 [label=\"Variable(4762851256)\" id=4954432105590701424]\n\t9003221985443418126 -> 6757516754014003782 [id=\"9003221985443418126.args[1]\"]\n\t6757516754014003782 [label=arange_ id=6757516754014003782]\n\t6757516754014003782 -> 5147401912858767407 [id=\"6757516754014003782.args[0]\"]\n\t161942629437193568 -> -1313138448651871637 [id=\"161942629437193568.args[1]\"]\n\t-1313138448651871637 [label=\"Integer.from_int\" id=-1313138448651871637]\n\t-1313138448651871637 -> -7737040241287546841 [id=\"-1313138448651871637.args[0]\"]\n\t-7737040241287546841 [label=100 id=-5945887149520679823]\n\t3395790146293950618 -> 5417034725160828583 [id=\"6785135613727947616.args[1]\"]\n\t-2730709662832543356 -> 198719414552122372 [id=\"-1176136162159317166.args[1]\"]\n\t198719414552122372 [label=\"Maybe.__or__\" id=-3702009093770552402]\n\t198719414552122372 -> -7253073449237699425 [id=\"-3702009093770552402.args[0]\"]\n\t-7253073449237699425 [label=\"Abstraction.__call__\" id=-5711639544431828191]\n\t-7253073449237699425 -> -8185615459012223365 [id=\"-5711639544431828191.args[0]\"]\n\t-8185615459012223365 [label=\"Abstraction.__add__\" id=-8185615459012223365]\n\t-8185615459012223365 -> 2013462788875869881 [id=\"-8185615459012223365.args[0]\"]\n\t2013462788875869881 [label=\"Abstraction.from_fn\" id=2013462788875869881]\n\t2013462788875869881 -> -944428355994881963 [id=\"2013462788875869881.args[0]\"]\n\t-944428355994881963 [label=\"Maybe.just\" id=-944428355994881963]\n\t-8185615459012223365 -> -6625266454406091376 [id=\"-8185615459012223365.args[1]\"]\n\t-6625266454406091376 [label=\"Abstraction.create\" id=-6625266454406091376]\n\t-6625266454406091376 -> 7625737217546302985 [id=\"-6625266454406091376.args[0]\"]\n\t7625737217546302985 [label=\"Abstraction.create_variable\" id=7625737217546302985]\n\t7625737217546302985 -> -4268939874013657234 [id=\"7625737217546302985.args[0]\"]\n\t-4268939874013657234 [label=\"Variable(4763568336)\" id=-4268939874013657234]\n\t-6625266454406091376 -> 2339027244142301325 [id=\"-6625266454406091376.args[1]\"]\n\t2339027244142301325 [label=\"Either.left\" id=2339027244142301325]\n\t2339027244142301325 -> 7625737217546302985 [id=\"2339027244142301325.args[0]\"]\n\t-7253073449237699425 -> 2507768681348984026 [id=\"-5711639544431828191.args[1]\"]\n\t2507768681348984026 [label=\"Integer.from_int\" id=2507768681348984026]\n\t2507768681348984026 -> -7737040241182541916 [id=\"2507768681348984026.args[0]\"]\n\t-7737040241182541916 [label=5 id=-3794084279707917178]\n\t198719414552122372 -> -4678793630453082750 [id=\"-3702009093770552402.args[1]\"]\n\t-4678793630453082750 [label=\"Maybe.match\" id=-8693574137465041742]\n\t-4678793630453082750 -> -7726250483385592724 [id=\"-8693574137465041742.args[0]\"]\n\t-7726250483385592724 [label=\"Converter.convert\" id=-7726250483385592724]\n\t-7726250483385592724 -> -7737040241182541916 [id=\"-7726250483385592724.args[0]\"]\n\t-4678793630453082750 -> 542625740483342888 [id=\"-8693574137465041742.args[1]\"]\n\t542625740483342888 [label=\"Maybe.nothing\" id=542625740483342888]\n\t-4678793630453082750 -> -4979443563467282184 [id=\"-8693574137465041742.args[2]\"]\n\t-4979443563467282184 [label=\"Abstraction.__add__\" id=-4979443563467282184]\n\t-4979443563467282184 -> 2013462788875869881 [id=\"-4979443563467282184.args[0]\"]\n\t-4979443563467282184 -> 188400188245589463 [id=\"-4979443563467282184.args[1]\"]\n\t188400188245589463 [label=\"Abstraction.create\" id=188400188245589463]\n\t188400188245589463 -> 1338288602999335341 [id=\"188400188245589463.args[0]\"]\n\t1338288602999335341 [label=\"Abstraction.create_variable\" id=1338288602999335341]\n\t1338288602999335341 -> -4268939902715725084 [id=\"1338288602999335341.args[0]\"]\n\t-4268939902715725084 [label=\"Variable(4763273200)\" id=-4268939902715725084]\n\t188400188245589463 -> 4503027993476547237 [id=\"188400188245589463.args[1]\"]\n\t4503027993476547237 [label=\"Either.right\" id=4503027993476547237]\n\t4503027993476547237 -> 1338288602999335341 [id=\"4503027993476547237.args[0]\"]\n\t-6382185992886453333 -> 9032834383112645395 [id=\"-3602988945447969937.args[1]\"]\n\t9032834383112645395 [label=\"Maybe.nothing\" id=9032834383112645395]\n\t-6382185992886453333 -> 7808960626005506202 [id=\"-3602988945447969937.args[2]\"]\n\t7808960626005506202 [label=\"Abstraction.__add__\" id=7808960626005506202]\n\t7808960626005506202 -> -1894269937027086384 [id=\"7808960626005506202.args[0]\"]\n\t7808960626005506202 -> 6914557858993007492 [id=\"7808960626005506202.args[1]\"]\n\t6914557858993007492 [label=\"Abstraction.create\" id=6914557858993007492]\n\t6914557858993007492 -> -3875335050971398825 [id=\"6914557858993007492.args[0]\"]\n\t-3875335050971398825 [label=\"Abstraction.create_variable\" id=-3875335050971398825]\n\t-3875335050971398825 -> -4268939887078651459 [id=\"-3875335050971398825.args[0]\"]\n\t-4268939887078651459 [label=\"Variable(4763508352)\" id=-4268939887078651459]\n\t6914557858993007492 -> -1669249308957284923 [id=\"6914557858993007492.args[1]\"]\n\t-1669249308957284923 [label=\"NDArray.__getitem__\" id=-1669249308957284923]\n\t-1669249308957284923 -> 5872572339045335076 [id=\"-1669249308957284923.args[0]\"]\n\t5872572339045335076 [label=\"Pair.left\" id=5872572339045335076]\n\t5872572339045335076 -> -3875335050971398825 [id=\"5872572339045335076.args[0]\"]\n\t-1669249308957284923 -> -9003153576216423860 [id=\"-1669249308957284923.args[1]\"]\n\t-9003153576216423860 [label=\"Pair.right\" id=-9003153576216423860]\n\t-9003153576216423860 -> -3875335050971398825 [id=\"-9003153576216423860.args[0]\"]\n}",
         "label": null,
         "rule": "metadsl_core.maybe.maybe_match"
        },
        {
         "graph": "digraph {\n\tnode [shape=plain]\n\tedge [arrowsize=0.5 penwidth=0.5]\n\t-1075160585155683893 [label=\"NDArrayCompat.to_ndarray\" id=-1341672716970475800]\n\t-1075160585155683893 -> -7831809386955750473 [id=\"-1341672716970475800.args[0]\"]\n\t-7831809386955750473 [label=\"NDArrayCompat.from_ndarray\" id=-4772016795270189587]\n\t-7831809386955750473 -> 1966643296235947824 [id=\"-4772016795270189587.args[0]\"]\n\t1966643296235947824 [label=\"Maybe.match\" id=-3602988945447969937]\n\t1966643296235947824 -> 8210208567642912387 [id=\"-3602988945447969937.args[0]\"]\n\t8210208567642912387 [label=\"Maybe.__and__\" id=-1176136162159317166]\n\t8210208567642912387 -> 385105171314180610 [id=\"-1176136162159317166.args[0]\"]\n\t385105171314180610 [label=\"Converter.convert\" id=-2020586981356496369]\n\t385105171314180610 -> 3395790146293950618 [id=\"-2020586981356496369.args[0]\"]\n\t3395790146293950618 [label=\"NDArrayCompat.__add__\" id=6785135613727947616]\n\t3395790146293950618 -> 5417034725160828583 [id=\"6785135613727947616.args[0]\"]\n\t5417034725160828583 [label=\"NDArrayCompat.from_ndarray\" id=5417034725160828583]\n\t5417034725160828583 -> 161942629437193568 [id=\"5417034725160828583.args[0]\"]\n\t161942629437193568 [label=\"Abstraction.__call__\" id=161942629437193568]\n\t161942629437193568 -> -7005933830148898301 [id=\"161942629437193568.args[0]\"]\n\t-7005933830148898301 [label=\"Abstraction.__add__\" id=-7005933830148898301]\n\t-7005933830148898301 -> -1894269937027086384 [id=\"-7005933830148898301.args[0]\"]\n\t-1894269937027086384 [label=\"Abstraction.from_fn\" id=-1894269937027086384]\n\t-1894269937027086384 -> -4855096197904090350 [id=\"-1894269937027086384.args[0]\"]\n\t-4855096197904090350 [label=\"Maybe.just\" id=-4855096197904090350]\n\t-7005933830148898301 -> 9003221985443418126 [id=\"-7005933830148898301.args[1]\"]\n\t9003221985443418126 [label=\"Abstraction.create\" id=9003221985443418126]\n\t9003221985443418126 -> 5147401912858767407 [id=\"9003221985443418126.args[0]\"]\n\t5147401912858767407 [label=\"Abstraction.create_variable\" id=5147401912858767407]\n\t5147401912858767407 -> 4954432105590701424 [id=\"5147401912858767407.args[0]\"]\n\t4954432105590701424 [label=\"Variable(4762851256)\" id=4954432105590701424]\n\t9003221985443418126 -> 6757516754014003782 [id=\"9003221985443418126.args[1]\"]\n\t6757516754014003782 [label=arange_ id=6757516754014003782]\n\t6757516754014003782 -> 5147401912858767407 [id=\"6757516754014003782.args[0]\"]\n\t161942629437193568 -> -1313138448651871637 [id=\"161942629437193568.args[1]\"]\n\t-1313138448651871637 [label=\"Integer.from_int\" id=-1313138448651871637]\n\t-1313138448651871637 -> -7737040241287546841 [id=\"-1313138448651871637.args[0]\"]\n\t-7737040241287546841 [label=100 id=-5945887149520679823]\n\t3395790146293950618 -> 5417034725160828583 [id=\"6785135613727947616.args[1]\"]\n\t8210208567642912387 -> -5307063207184114105 [id=\"-1176136162159317166.args[1]\"]\n\t-5307063207184114105 [label=\"Maybe.__or__\" id=-3702009093770552402]\n\t-5307063207184114105 -> -4981525845887472322 [id=\"-3702009093770552402.args[0]\"]\n\t-4981525845887472322 [label=\"Abstraction.__call__\" id=-5711639544431828191]\n\t-4981525845887472322 -> 251136556258223993 [id=\"-5711639544431828191.args[0]\"]\n\t251136556258223993 [label=\"Abstraction.__add__\" id=-8185615459012223365]\n\t251136556258223993 -> 4635025401393889481 [id=\"-8185615459012223365.args[0]\"]\n\t4635025401393889481 [label=\"Abstraction.create\" id=2013462788875869881]\n\t4635025401393889481 -> -3126248252036041104 [id=\"2013462788875869881.args[0]\"]\n\t-3126248252036041104 [label=\"Abstraction.create_variable\" id=-3126248252036041104]\n\t-3126248252036041104 -> 4954432025238118249 [id=\"-3126248252036041104.args[0]\"]\n\t4954432025238118249 [label=\"Variable(4763775048)\" id=4954432025238118249]\n\t4635025401393889481 -> -4783420378234302645 [id=\"2013462788875869881.args[1]\"]\n\t-4783420378234302645 [label=\"Maybe.just\" id=-4783420378234302645]\n\t-4783420378234302645 -> -3126248252036041104 [id=\"-4783420378234302645.args[0]\"]\n\t251136556258223993 -> -6625266454406091376 [id=\"-8185615459012223365.args[1]\"]\n\t-6625266454406091376 [label=\"Abstraction.create\" id=-6625266454406091376]\n\t-6625266454406091376 -> 7625737217546302985 [id=\"-6625266454406091376.args[0]\"]\n\t7625737217546302985 [label=\"Abstraction.create_variable\" id=7625737217546302985]\n\t7625737217546302985 -> -4268939874013657234 [id=\"7625737217546302985.args[0]\"]\n\t-4268939874013657234 [label=\"Variable(4763568336)\" id=-4268939874013657234]\n\t-6625266454406091376 -> 2339027244142301325 [id=\"-6625266454406091376.args[1]\"]\n\t2339027244142301325 [label=\"Either.left\" id=2339027244142301325]\n\t2339027244142301325 -> 7625737217546302985 [id=\"2339027244142301325.args[0]\"]\n\t-4981525845887472322 -> 2507768681348984026 [id=\"-5711639544431828191.args[1]\"]\n\t2507768681348984026 [label=\"Integer.from_int\" id=2507768681348984026]\n\t2507768681348984026 -> -7737040241182541916 [id=\"2507768681348984026.args[0]\"]\n\t-7737040241182541916 [label=5 id=-3794084279707917178]\n\t-5307063207184114105 -> -2607264151601447062 [id=\"-3702009093770552402.args[1]\"]\n\t-2607264151601447062 [label=\"Maybe.match\" id=-8693574137465041742]\n\t-2607264151601447062 -> -7726250483385592724 [id=\"-8693574137465041742.args[0]\"]\n\t-7726250483385592724 [label=\"Converter.convert\" id=-7726250483385592724]\n\t-7726250483385592724 -> -7737040241182541916 [id=\"-7726250483385592724.args[0]\"]\n\t-2607264151601447062 -> 542625740483342888 [id=\"-8693574137465041742.args[1]\"]\n\t542625740483342888 [label=\"Maybe.nothing\" id=542625740483342888]\n\t-2607264151601447062 -> 2085146165325110638 [id=\"-8693574137465041742.args[2]\"]\n\t2085146165325110638 [label=\"Abstraction.__add__\" id=-4979443563467282184]\n\t2085146165325110638 -> 4635025401393889481 [id=\"-4979443563467282184.args[0]\"]\n\t2085146165325110638 -> 188400188245589463 [id=\"-4979443563467282184.args[1]\"]\n\t188400188245589463 [label=\"Abstraction.create\" id=188400188245589463]\n\t188400188245589463 -> 1338288602999335341 [id=\"188400188245589463.args[0]\"]\n\t1338288602999335341 [label=\"Abstraction.create_variable\" id=1338288602999335341]\n\t1338288602999335341 -> -4268939902715725084 [id=\"1338288602999335341.args[0]\"]\n\t-4268939902715725084 [label=\"Variable(4763273200)\" id=-4268939902715725084]\n\t188400188245589463 -> 4503027993476547237 [id=\"188400188245589463.args[1]\"]\n\t4503027993476547237 [label=\"Either.right\" id=4503027993476547237]\n\t4503027993476547237 -> 1338288602999335341 [id=\"4503027993476547237.args[0]\"]\n\t1966643296235947824 -> 9032834383112645395 [id=\"-3602988945447969937.args[1]\"]\n\t9032834383112645395 [label=\"Maybe.nothing\" id=9032834383112645395]\n\t1966643296235947824 -> 7808960626005506202 [id=\"-3602988945447969937.args[2]\"]\n\t7808960626005506202 [label=\"Abstraction.__add__\" id=7808960626005506202]\n\t7808960626005506202 -> -1894269937027086384 [id=\"7808960626005506202.args[0]\"]\n\t7808960626005506202 -> 6914557858993007492 [id=\"7808960626005506202.args[1]\"]\n\t6914557858993007492 [label=\"Abstraction.create\" id=6914557858993007492]\n\t6914557858993007492 -> -3875335050971398825 [id=\"6914557858993007492.args[0]\"]\n\t-3875335050971398825 [label=\"Abstraction.create_variable\" id=-3875335050971398825]\n\t-3875335050971398825 -> -4268939887078651459 [id=\"-3875335050971398825.args[0]\"]\n\t-4268939887078651459 [label=\"Variable(4763508352)\" id=-4268939887078651459]\n\t6914557858993007492 -> -1669249308957284923 [id=\"6914557858993007492.args[1]\"]\n\t-1669249308957284923 [label=\"NDArray.__getitem__\" id=-1669249308957284923]\n\t-1669249308957284923 -> 5872572339045335076 [id=\"-1669249308957284923.args[0]\"]\n\t5872572339045335076 [label=\"Pair.left\" id=5872572339045335076]\n\t5872572339045335076 -> -3875335050971398825 [id=\"5872572339045335076.args[0]\"]\n\t-1669249308957284923 -> -9003153576216423860 [id=\"-1669249308957284923.args[1]\"]\n\t-9003153576216423860 [label=\"Pair.right\" id=-9003153576216423860]\n\t-9003153576216423860 -> -3875335050971398825 [id=\"-9003153576216423860.args[0]\"]\n}",
         "label": null,
         "rule": "metadsl_core.abstraction.Abstraction.from_fn"
        },
        {
         "graph": "digraph {\n\tnode [shape=plain]\n\tedge [arrowsize=0.5 penwidth=0.5]\n\t-6823389713279306352 [label=\"NDArrayCompat.to_ndarray\" id=-1341672716970475800]\n\t-6823389713279306352 -> -1698211826538905357 [id=\"-1341672716970475800.args[0]\"]\n\t-1698211826538905357 [label=\"NDArrayCompat.from_ndarray\" id=-4772016795270189587]\n\t-1698211826538905357 -> -2460974168755011291 [id=\"-4772016795270189587.args[0]\"]\n\t-2460974168755011291 [label=\"Maybe.match\" id=-3602988945447969937]\n\t-2460974168755011291 -> 5034270711710687634 [id=\"-3602988945447969937.args[0]\"]\n\t5034270711710687634 [label=\"Maybe.__and__\" id=-1176136162159317166]\n\t5034270711710687634 -> -8700033624836036710 [id=\"-1176136162159317166.args[0]\"]\n\t-8700033624836036710 [label=\"Converter.convert\" id=-2020586981356496369]\n\t-8700033624836036710 -> 9218333403406334816 [id=\"-2020586981356496369.args[0]\"]\n\t9218333403406334816 [label=\"NDArrayCompat.__add__\" id=6785135613727947616]\n\t9218333403406334816 -> 2402650112385120430 [id=\"6785135613727947616.args[0]\"]\n\t2402650112385120430 [label=\"NDArrayCompat.from_ndarray\" id=-8162579586956751115]\n\t2402650112385120430 -> -6889420331530803721 [id=\"-8162579586956751115.args[0]\"]\n\t-6889420331530803721 [label=\"Abstraction.__call__\" id=-996850803608951878]\n\t-6889420331530803721 -> -6750704868498848563 [id=\"-996850803608951878.args[0]\"]\n\t-6750704868498848563 [label=\"Abstraction.__add__\" id=-7005933830148898301]\n\t-6750704868498848563 -> -8573522558940743683 [id=\"-7005933830148898301.args[0]\"]\n\t-8573522558940743683 [label=\"Abstraction.create\" id=-1894269937027086384]\n\t-8573522558940743683 -> 3608346765094280245 [id=\"-1894269937027086384.args[0]\"]\n\t3608346765094280245 [label=\"Abstraction.create_variable\" id=3608346765094280245]\n\t3608346765094280245 -> 4954432109362218524 [id=\"3608346765094280245.args[0]\"]\n\t4954432109362218524 [label=\"Variable(4762794360)\" id=4954432109362218524]\n\t-8573522558940743683 -> 4096479446876412357 [id=\"-1894269937027086384.args[1]\"]\n\t4096479446876412357 [label=\"Maybe.just\" id=4096479446876412357]\n\t4096479446876412357 -> 3608346765094280245 [id=\"4096479446876412357.args[0]\"]\n\t-6750704868498848563 -> 9003221985443418126 [id=\"-7005933830148898301.args[1]\"]\n\t9003221985443418126 [label=\"Abstraction.create\" id=9003221985443418126]\n\t9003221985443418126 -> 5147401912858767407 [id=\"9003221985443418126.args[0]\"]\n\t5147401912858767407 [label=\"Abstraction.create_variable\" id=5147401912858767407]\n\t5147401912858767407 -> 4954432105590701424 [id=\"5147401912858767407.args[0]\"]\n\t4954432105590701424 [label=\"Variable(4762851256)\" id=4954432105590701424]\n\t9003221985443418126 -> 6757516754014003782 [id=\"9003221985443418126.args[1]\"]\n\t6757516754014003782 [label=arange_ id=6757516754014003782]\n\t6757516754014003782 -> 5147401912858767407 [id=\"6757516754014003782.args[0]\"]\n\t-6889420331530803721 -> -1313138448651871637 [id=\"-996850803608951878.args[1]\"]\n\t-1313138448651871637 [label=\"Integer.from_int\" id=-1313138448651871637]\n\t-1313138448651871637 -> -7737040241287546841 [id=\"-1313138448651871637.args[0]\"]\n\t-7737040241287546841 [label=100 id=-5945887149520679823]\n\t9218333403406334816 -> 5417034725160828583 [id=\"6785135613727947616.args[1]\"]\n\t5417034725160828583 [label=\"NDArrayCompat.from_ndarray\" id=5417034725160828583]\n\t5417034725160828583 -> 161942629437193568 [id=\"5417034725160828583.args[0]\"]\n\t161942629437193568 [label=\"Abstraction.__call__\" id=161942629437193568]\n\t161942629437193568 -> -7005933830148898301 [id=\"161942629437193568.args[0]\"]\n\t-7005933830148898301 [label=\"Abstraction.__add__\" id=-7005933830148898301]\n\t-7005933830148898301 -> -1894269937027086384 [id=\"-7005933830148898301.args[0]\"]\n\t-1894269937027086384 [label=\"Abstraction.from_fn\" id=-1894269937027086384]\n\t-1894269937027086384 -> -4855096197904090350 [id=\"-1894269937027086384.args[0]\"]\n\t-4855096197904090350 [label=\"Maybe.just\" id=-4855096197904090350]\n\t-7005933830148898301 -> 9003221985443418126 [id=\"-7005933830148898301.args[1]\"]\n\t161942629437193568 -> -1313138448651871637 [id=\"161942629437193568.args[1]\"]\n\t5034270711710687634 -> -5307063207184114105 [id=\"-1176136162159317166.args[1]\"]\n\t-5307063207184114105 [label=\"Maybe.__or__\" id=-3702009093770552402]\n\t-5307063207184114105 -> -4981525845887472322 [id=\"-3702009093770552402.args[0]\"]\n\t-4981525845887472322 [label=\"Abstraction.__call__\" id=-5711639544431828191]\n\t-4981525845887472322 -> 251136556258223993 [id=\"-5711639544431828191.args[0]\"]\n\t251136556258223993 [label=\"Abstraction.__add__\" id=-8185615459012223365]\n\t251136556258223993 -> 4635025401393889481 [id=\"-8185615459012223365.args[0]\"]\n\t4635025401393889481 [label=\"Abstraction.create\" id=2013462788875869881]\n\t4635025401393889481 -> -3126248252036041104 [id=\"2013462788875869881.args[0]\"]\n\t-3126248252036041104 [label=\"Abstraction.create_variable\" id=-3126248252036041104]\n\t-3126248252036041104 -> 4954432025238118249 [id=\"-3126248252036041104.args[0]\"]\n\t4954432025238118249 [label=\"Variable(4763775048)\" id=4954432025238118249]\n\t4635025401393889481 -> -4783420378234302645 [id=\"2013462788875869881.args[1]\"]\n\t-4783420378234302645 [label=\"Maybe.just\" id=-4783420378234302645]\n\t-4783420378234302645 -> -3126248252036041104 [id=\"-4783420378234302645.args[0]\"]\n\t251136556258223993 -> -6625266454406091376 [id=\"-8185615459012223365.args[1]\"]\n\t-6625266454406091376 [label=\"Abstraction.create\" id=-6625266454406091376]\n\t-6625266454406091376 -> 7625737217546302985 [id=\"-6625266454406091376.args[0]\"]\n\t7625737217546302985 [label=\"Abstraction.create_variable\" id=7625737217546302985]\n\t7625737217546302985 -> -4268939874013657234 [id=\"7625737217546302985.args[0]\"]\n\t-4268939874013657234 [label=\"Variable(4763568336)\" id=-4268939874013657234]\n\t-6625266454406091376 -> 2339027244142301325 [id=\"-6625266454406091376.args[1]\"]\n\t2339027244142301325 [label=\"Either.left\" id=2339027244142301325]\n\t2339027244142301325 -> 7625737217546302985 [id=\"2339027244142301325.args[0]\"]\n\t-4981525845887472322 -> 2507768681348984026 [id=\"-5711639544431828191.args[1]\"]\n\t2507768681348984026 [label=\"Integer.from_int\" id=2507768681348984026]\n\t2507768681348984026 -> -7737040241182541916 [id=\"2507768681348984026.args[0]\"]\n\t-7737040241182541916 [label=5 id=-3794084279707917178]\n\t-5307063207184114105 -> -2607264151601447062 [id=\"-3702009093770552402.args[1]\"]\n\t-2607264151601447062 [label=\"Maybe.match\" id=-8693574137465041742]\n\t-2607264151601447062 -> -7726250483385592724 [id=\"-8693574137465041742.args[0]\"]\n\t-7726250483385592724 [label=\"Converter.convert\" id=-7726250483385592724]\n\t-7726250483385592724 -> -7737040241182541916 [id=\"-7726250483385592724.args[0]\"]\n\t-2607264151601447062 -> 542625740483342888 [id=\"-8693574137465041742.args[1]\"]\n\t542625740483342888 [label=\"Maybe.nothing\" id=542625740483342888]\n\t-2607264151601447062 -> 2085146165325110638 [id=\"-8693574137465041742.args[2]\"]\n\t2085146165325110638 [label=\"Abstraction.__add__\" id=-4979443563467282184]\n\t2085146165325110638 -> 4635025401393889481 [id=\"-4979443563467282184.args[0]\"]\n\t2085146165325110638 -> 188400188245589463 [id=\"-4979443563467282184.args[1]\"]\n\t188400188245589463 [label=\"Abstraction.create\" id=188400188245589463]\n\t188400188245589463 -> 1338288602999335341 [id=\"188400188245589463.args[0]\"]\n\t1338288602999335341 [label=\"Abstraction.create_variable\" id=1338288602999335341]\n\t1338288602999335341 -> -4268939902715725084 [id=\"1338288602999335341.args[0]\"]\n\t-4268939902715725084 [label=\"Variable(4763273200)\" id=-4268939902715725084]\n\t188400188245589463 -> 4503027993476547237 [id=\"188400188245589463.args[1]\"]\n\t4503027993476547237 [label=\"Either.right\" id=4503027993476547237]\n\t4503027993476547237 -> 1338288602999335341 [id=\"4503027993476547237.args[0]\"]\n\t-2460974168755011291 -> 9032834383112645395 [id=\"-3602988945447969937.args[1]\"]\n\t9032834383112645395 [label=\"Maybe.nothing\" id=9032834383112645395]\n\t-2460974168755011291 -> 1046799996242804096 [id=\"-3602988945447969937.args[2]\"]\n\t1046799996242804096 [label=\"Abstraction.__add__\" id=7808960626005506202]\n\t1046799996242804096 -> -8573522558940743683 [id=\"7808960626005506202.args[0]\"]\n\t1046799996242804096 -> 6914557858993007492 [id=\"7808960626005506202.args[1]\"]\n\t6914557858993007492 [label=\"Abstraction.create\" id=6914557858993007492]\n\t6914557858993007492 -> -3875335050971398825 [id=\"6914557858993007492.args[0]\"]\n\t-3875335050971398825 [label=\"Abstraction.create_variable\" id=-3875335050971398825]\n\t-3875335050971398825 -> -4268939887078651459 [id=\"-3875335050971398825.args[0]\"]\n\t-4268939887078651459 [label=\"Variable(4763508352)\" id=-4268939887078651459]\n\t6914557858993007492 -> -1669249308957284923 [id=\"6914557858993007492.args[1]\"]\n\t-1669249308957284923 [label=\"NDArray.__getitem__\" id=-1669249308957284923]\n\t-1669249308957284923 -> 5872572339045335076 [id=\"-1669249308957284923.args[0]\"]\n\t5872572339045335076 [label=\"Pair.left\" id=5872572339045335076]\n\t5872572339045335076 -> -3875335050971398825 [id=\"5872572339045335076.args[0]\"]\n\t-1669249308957284923 -> -9003153576216423860 [id=\"-1669249308957284923.args[1]\"]\n\t-9003153576216423860 [label=\"Pair.right\" id=-9003153576216423860]\n\t-9003153576216423860 -> -3875335050971398825 [id=\"-9003153576216423860.args[0]\"]\n}",
         "label": null,
         "rule": "metadsl_core.abstraction.Abstraction.from_fn"
        },
        {
         "graph": "digraph {\n\tnode [shape=plain]\n\tedge [arrowsize=0.5 penwidth=0.5]\n\t-8209878657701496208 [label=\"NDArrayCompat.to_ndarray\" id=-1341672716970475800]\n\t-8209878657701496208 -> 2428627549630500690 [id=\"-1341672716970475800.args[0]\"]\n\t2428627549630500690 [label=\"NDArrayCompat.from_ndarray\" id=-4772016795270189587]\n\t2428627549630500690 -> -4793305647002860029 [id=\"-4772016795270189587.args[0]\"]\n\t-4793305647002860029 [label=\"Maybe.match\" id=-3602988945447969937]\n\t-4793305647002860029 -> 8545906501954801275 [id=\"-3602988945447969937.args[0]\"]\n\t8545906501954801275 [label=\"Maybe.__and__\" id=-1176136162159317166]\n\t8545906501954801275 -> -6203650838009083156 [id=\"-1176136162159317166.args[0]\"]\n\t-6203650838009083156 [label=\"Converter.convert\" id=-2020586981356496369]\n\t-6203650838009083156 -> 291113876773064437 [id=\"-2020586981356496369.args[0]\"]\n\t291113876773064437 [label=\"NDArrayCompat.__add__\" id=6785135613727947616]\n\t291113876773064437 -> 2402650112385120430 [id=\"6785135613727947616.args[0]\"]\n\t2402650112385120430 [label=\"NDArrayCompat.from_ndarray\" id=-8162579586956751115]\n\t2402650112385120430 -> -6889420331530803721 [id=\"-8162579586956751115.args[0]\"]\n\t-6889420331530803721 [label=\"Abstraction.__call__\" id=-996850803608951878]\n\t-6889420331530803721 -> -6750704868498848563 [id=\"-996850803608951878.args[0]\"]\n\t-6750704868498848563 [label=\"Abstraction.__add__\" id=-7005933830148898301]\n\t-6750704868498848563 -> -8573522558940743683 [id=\"-7005933830148898301.args[0]\"]\n\t-8573522558940743683 [label=\"Abstraction.create\" id=-1894269937027086384]\n\t-8573522558940743683 -> 3608346765094280245 [id=\"-1894269937027086384.args[0]\"]\n\t3608346765094280245 [label=\"Abstraction.create_variable\" id=3608346765094280245]\n\t3608346765094280245 -> 4954432109362218524 [id=\"3608346765094280245.args[0]\"]\n\t4954432109362218524 [label=\"Variable(4762794360)\" id=4954432109362218524]\n\t-8573522558940743683 -> 4096479446876412357 [id=\"-1894269937027086384.args[1]\"]\n\t4096479446876412357 [label=\"Maybe.just\" id=4096479446876412357]\n\t4096479446876412357 -> 3608346765094280245 [id=\"4096479446876412357.args[0]\"]\n\t-6750704868498848563 -> 9003221985443418126 [id=\"-7005933830148898301.args[1]\"]\n\t9003221985443418126 [label=\"Abstraction.create\" id=9003221985443418126]\n\t9003221985443418126 -> 5147401912858767407 [id=\"9003221985443418126.args[0]\"]\n\t5147401912858767407 [label=\"Abstraction.create_variable\" id=5147401912858767407]\n\t5147401912858767407 -> 4954432105590701424 [id=\"5147401912858767407.args[0]\"]\n\t4954432105590701424 [label=\"Variable(4762851256)\" id=4954432105590701424]\n\t9003221985443418126 -> 6757516754014003782 [id=\"9003221985443418126.args[1]\"]\n\t6757516754014003782 [label=arange_ id=6757516754014003782]\n\t6757516754014003782 -> 5147401912858767407 [id=\"6757516754014003782.args[0]\"]\n\t-6889420331530803721 -> -1313138448651871637 [id=\"-996850803608951878.args[1]\"]\n\t-1313138448651871637 [label=\"Integer.from_int\" id=-1313138448651871637]\n\t-1313138448651871637 -> -7737040241287546841 [id=\"-1313138448651871637.args[0]\"]\n\t-7737040241287546841 [label=100 id=-5945887149520679823]\n\t291113876773064437 -> 114517206094957062 [id=\"6785135613727947616.args[1]\"]\n\t114517206094957062 [label=\"NDArrayCompat.from_ndarray\" id=5417034725160828583]\n\t114517206094957062 -> 3984286343726679996 [id=\"5417034725160828583.args[0]\"]\n\t3984286343726679996 [label=\"Abstraction.__call__\" id=161942629437193568]\n\t3984286343726679996 -> 3145527808357273259 [id=\"161942629437193568.args[0]\"]\n\t3145527808357273259 [label=\"Abstraction.__add__\" id=3145527808357273259]\n\t3145527808357273259 -> -2379822715312111207 [id=\"3145527808357273259.args[0]\"]\n\t-2379822715312111207 [label=\"Abstraction.create\" id=-2379822715312111207]\n\t-2379822715312111207 -> 7281639658939935167 [id=\"-2379822715312111207.args[0]\"]\n\t7281639658939935167 [label=\"Abstraction.create_variable\" id=7281639658939935167]\n\t7281639658939935167 -> 4954432115725300474 [id=\"7281639658939935167.args[0]\"]\n\t4954432115725300474 [label=\"Variable(4763019416)\" id=4954432115725300474]\n\t-2379822715312111207 -> -8574334911283847007 [id=\"-2379822715312111207.args[1]\"]\n\t-8574334911283847007 [label=\"Maybe.just\" id=-8574334911283847007]\n\t-8574334911283847007 -> 7281639658939935167 [id=\"-8574334911283847007.args[0]\"]\n\t3145527808357273259 -> 9003221985443418126 [id=\"3145527808357273259.args[1]\"]\n\t3984286343726679996 -> -1313138448651871637 [id=\"161942629437193568.args[1]\"]\n\t8545906501954801275 -> -5307063207184114105 [id=\"-1176136162159317166.args[1]\"]\n\t-5307063207184114105 [label=\"Maybe.__or__\" id=-3702009093770552402]\n\t-5307063207184114105 -> -4981525845887472322 [id=\"-3702009093770552402.args[0]\"]\n\t-4981525845887472322 [label=\"Abstraction.__call__\" id=-5711639544431828191]\n\t-4981525845887472322 -> 251136556258223993 [id=\"-5711639544431828191.args[0]\"]\n\t251136556258223993 [label=\"Abstraction.__add__\" id=-8185615459012223365]\n\t251136556258223993 -> 4635025401393889481 [id=\"-8185615459012223365.args[0]\"]\n\t4635025401393889481 [label=\"Abstraction.create\" id=2013462788875869881]\n\t4635025401393889481 -> -3126248252036041104 [id=\"2013462788875869881.args[0]\"]\n\t-3126248252036041104 [label=\"Abstraction.create_variable\" id=-3126248252036041104]\n\t-3126248252036041104 -> 4954432025238118249 [id=\"-3126248252036041104.args[0]\"]\n\t4954432025238118249 [label=\"Variable(4763775048)\" id=4954432025238118249]\n\t4635025401393889481 -> -4783420378234302645 [id=\"2013462788875869881.args[1]\"]\n\t-4783420378234302645 [label=\"Maybe.just\" id=-4783420378234302645]\n\t-4783420378234302645 -> -3126248252036041104 [id=\"-4783420378234302645.args[0]\"]\n\t251136556258223993 -> -6625266454406091376 [id=\"-8185615459012223365.args[1]\"]\n\t-6625266454406091376 [label=\"Abstraction.create\" id=-6625266454406091376]\n\t-6625266454406091376 -> 7625737217546302985 [id=\"-6625266454406091376.args[0]\"]\n\t7625737217546302985 [label=\"Abstraction.create_variable\" id=7625737217546302985]\n\t7625737217546302985 -> -4268939874013657234 [id=\"7625737217546302985.args[0]\"]\n\t-4268939874013657234 [label=\"Variable(4763568336)\" id=-4268939874013657234]\n\t-6625266454406091376 -> 2339027244142301325 [id=\"-6625266454406091376.args[1]\"]\n\t2339027244142301325 [label=\"Either.left\" id=2339027244142301325]\n\t2339027244142301325 -> 7625737217546302985 [id=\"2339027244142301325.args[0]\"]\n\t-4981525845887472322 -> 2507768681348984026 [id=\"-5711639544431828191.args[1]\"]\n\t2507768681348984026 [label=\"Integer.from_int\" id=2507768681348984026]\n\t2507768681348984026 -> -7737040241182541916 [id=\"2507768681348984026.args[0]\"]\n\t-7737040241182541916 [label=5 id=-3794084279707917178]\n\t-5307063207184114105 -> -2607264151601447062 [id=\"-3702009093770552402.args[1]\"]\n\t-2607264151601447062 [label=\"Maybe.match\" id=-8693574137465041742]\n\t-2607264151601447062 -> -7726250483385592724 [id=\"-8693574137465041742.args[0]\"]\n\t-7726250483385592724 [label=\"Converter.convert\" id=-7726250483385592724]\n\t-7726250483385592724 -> -7737040241182541916 [id=\"-7726250483385592724.args[0]\"]\n\t-2607264151601447062 -> 542625740483342888 [id=\"-8693574137465041742.args[1]\"]\n\t542625740483342888 [label=\"Maybe.nothing\" id=542625740483342888]\n\t-2607264151601447062 -> 2085146165325110638 [id=\"-8693574137465041742.args[2]\"]\n\t2085146165325110638 [label=\"Abstraction.__add__\" id=-4979443563467282184]\n\t2085146165325110638 -> 4635025401393889481 [id=\"-4979443563467282184.args[0]\"]\n\t2085146165325110638 -> 188400188245589463 [id=\"-4979443563467282184.args[1]\"]\n\t188400188245589463 [label=\"Abstraction.create\" id=188400188245589463]\n\t188400188245589463 -> 1338288602999335341 [id=\"188400188245589463.args[0]\"]\n\t1338288602999335341 [label=\"Abstraction.create_variable\" id=1338288602999335341]\n\t1338288602999335341 -> -4268939902715725084 [id=\"1338288602999335341.args[0]\"]\n\t-4268939902715725084 [label=\"Variable(4763273200)\" id=-4268939902715725084]\n\t188400188245589463 -> 4503027993476547237 [id=\"188400188245589463.args[1]\"]\n\t4503027993476547237 [label=\"Either.right\" id=4503027993476547237]\n\t4503027993476547237 -> 1338288602999335341 [id=\"4503027993476547237.args[0]\"]\n\t-4793305647002860029 -> 9032834383112645395 [id=\"-3602988945447969937.args[1]\"]\n\t9032834383112645395 [label=\"Maybe.nothing\" id=9032834383112645395]\n\t-4793305647002860029 -> 1046799996242804096 [id=\"-3602988945447969937.args[2]\"]\n\t1046799996242804096 [label=\"Abstraction.__add__\" id=7808960626005506202]\n\t1046799996242804096 -> -8573522558940743683 [id=\"7808960626005506202.args[0]\"]\n\t1046799996242804096 -> 6914557858993007492 [id=\"7808960626005506202.args[1]\"]\n\t6914557858993007492 [label=\"Abstraction.create\" id=6914557858993007492]\n\t6914557858993007492 -> -3875335050971398825 [id=\"6914557858993007492.args[0]\"]\n\t-3875335050971398825 [label=\"Abstraction.create_variable\" id=-3875335050971398825]\n\t-3875335050971398825 -> -4268939887078651459 [id=\"-3875335050971398825.args[0]\"]\n\t-4268939887078651459 [label=\"Variable(4763508352)\" id=-4268939887078651459]\n\t6914557858993007492 -> -1669249308957284923 [id=\"6914557858993007492.args[1]\"]\n\t-1669249308957284923 [label=\"NDArray.__getitem__\" id=-1669249308957284923]\n\t-1669249308957284923 -> 5872572339045335076 [id=\"-1669249308957284923.args[0]\"]\n\t5872572339045335076 [label=\"Pair.left\" id=5872572339045335076]\n\t5872572339045335076 -> -3875335050971398825 [id=\"5872572339045335076.args[0]\"]\n\t-1669249308957284923 -> -9003153576216423860 [id=\"-1669249308957284923.args[1]\"]\n\t-9003153576216423860 [label=\"Pair.right\" id=-9003153576216423860]\n\t-9003153576216423860 -> -3875335050971398825 [id=\"-9003153576216423860.args[0]\"]\n}",
         "label": null,
         "rule": "metadsl_core.abstraction.Abstraction.from_fn"
        },
        {
         "graph": "digraph {\n\tnode [shape=plain]\n\tedge [arrowsize=0.5 penwidth=0.5]\n\t-6621680720869191416 [label=\"NDArrayCompat.to_ndarray\" id=-1341672716970475800]\n\t-6621680720869191416 -> -871511247662238325 [id=\"-1341672716970475800.args[0]\"]\n\t-871511247662238325 [label=\"NDArrayCompat.from_ndarray\" id=-4772016795270189587]\n\t-871511247662238325 -> 5715674669693384074 [id=\"-4772016795270189587.args[0]\"]\n\t5715674669693384074 [label=\"Maybe.match\" id=-3602988945447969937]\n\t5715674669693384074 -> 8545906501954801275 [id=\"-3602988945447969937.args[0]\"]\n\t8545906501954801275 [label=\"Maybe.__and__\" id=-1176136162159317166]\n\t8545906501954801275 -> -6203650838009083156 [id=\"-1176136162159317166.args[0]\"]\n\t-6203650838009083156 [label=\"Converter.convert\" id=-2020586981356496369]\n\t-6203650838009083156 -> 291113876773064437 [id=\"-2020586981356496369.args[0]\"]\n\t291113876773064437 [label=\"NDArrayCompat.__add__\" id=6785135613727947616]\n\t291113876773064437 -> 2402650112385120430 [id=\"6785135613727947616.args[0]\"]\n\t2402650112385120430 [label=\"NDArrayCompat.from_ndarray\" id=-8162579586956751115]\n\t2402650112385120430 -> -6889420331530803721 [id=\"-8162579586956751115.args[0]\"]\n\t-6889420331530803721 [label=\"Abstraction.__call__\" id=-996850803608951878]\n\t-6889420331530803721 -> -6750704868498848563 [id=\"-996850803608951878.args[0]\"]\n\t-6750704868498848563 [label=\"Abstraction.__add__\" id=-7005933830148898301]\n\t-6750704868498848563 -> -8573522558940743683 [id=\"-7005933830148898301.args[0]\"]\n\t-8573522558940743683 [label=\"Abstraction.create\" id=-1894269937027086384]\n\t-8573522558940743683 -> 3608346765094280245 [id=\"-1894269937027086384.args[0]\"]\n\t3608346765094280245 [label=\"Abstraction.create_variable\" id=3608346765094280245]\n\t3608346765094280245 -> 4954432109362218524 [id=\"3608346765094280245.args[0]\"]\n\t4954432109362218524 [label=\"Variable(4762794360)\" id=4954432109362218524]\n\t-8573522558940743683 -> 4096479446876412357 [id=\"-1894269937027086384.args[1]\"]\n\t4096479446876412357 [label=\"Maybe.just\" id=4096479446876412357]\n\t4096479446876412357 -> 3608346765094280245 [id=\"4096479446876412357.args[0]\"]\n\t-6750704868498848563 -> 9003221985443418126 [id=\"-7005933830148898301.args[1]\"]\n\t9003221985443418126 [label=\"Abstraction.create\" id=9003221985443418126]\n\t9003221985443418126 -> 5147401912858767407 [id=\"9003221985443418126.args[0]\"]\n\t5147401912858767407 [label=\"Abstraction.create_variable\" id=5147401912858767407]\n\t5147401912858767407 -> 4954432105590701424 [id=\"5147401912858767407.args[0]\"]\n\t4954432105590701424 [label=\"Variable(4762851256)\" id=4954432105590701424]\n\t9003221985443418126 -> 6757516754014003782 [id=\"9003221985443418126.args[1]\"]\n\t6757516754014003782 [label=arange_ id=6757516754014003782]\n\t6757516754014003782 -> 5147401912858767407 [id=\"6757516754014003782.args[0]\"]\n\t-6889420331530803721 -> -1313138448651871637 [id=\"-996850803608951878.args[1]\"]\n\t-1313138448651871637 [label=\"Integer.from_int\" id=-1313138448651871637]\n\t-1313138448651871637 -> -7737040241287546841 [id=\"-1313138448651871637.args[0]\"]\n\t-7737040241287546841 [label=100 id=-5945887149520679823]\n\t291113876773064437 -> 114517206094957062 [id=\"6785135613727947616.args[1]\"]\n\t114517206094957062 [label=\"NDArrayCompat.from_ndarray\" id=5417034725160828583]\n\t114517206094957062 -> 3984286343726679996 [id=\"5417034725160828583.args[0]\"]\n\t3984286343726679996 [label=\"Abstraction.__call__\" id=161942629437193568]\n\t3984286343726679996 -> 3145527808357273259 [id=\"161942629437193568.args[0]\"]\n\t3145527808357273259 [label=\"Abstraction.__add__\" id=3145527808357273259]\n\t3145527808357273259 -> -2379822715312111207 [id=\"3145527808357273259.args[0]\"]\n\t-2379822715312111207 [label=\"Abstraction.create\" id=-2379822715312111207]\n\t-2379822715312111207 -> 7281639658939935167 [id=\"-2379822715312111207.args[0]\"]\n\t7281639658939935167 [label=\"Abstraction.create_variable\" id=7281639658939935167]\n\t7281639658939935167 -> 4954432115725300474 [id=\"7281639658939935167.args[0]\"]\n\t4954432115725300474 [label=\"Variable(4763019416)\" id=4954432115725300474]\n\t-2379822715312111207 -> -8574334911283847007 [id=\"-2379822715312111207.args[1]\"]\n\t-8574334911283847007 [label=\"Maybe.just\" id=-8574334911283847007]\n\t-8574334911283847007 -> 7281639658939935167 [id=\"-8574334911283847007.args[0]\"]\n\t3145527808357273259 -> 9003221985443418126 [id=\"3145527808357273259.args[1]\"]\n\t3984286343726679996 -> -1313138448651871637 [id=\"161942629437193568.args[1]\"]\n\t8545906501954801275 -> -5307063207184114105 [id=\"-1176136162159317166.args[1]\"]\n\t-5307063207184114105 [label=\"Maybe.__or__\" id=-3702009093770552402]\n\t-5307063207184114105 -> -4981525845887472322 [id=\"-3702009093770552402.args[0]\"]\n\t-4981525845887472322 [label=\"Abstraction.__call__\" id=-5711639544431828191]\n\t-4981525845887472322 -> 251136556258223993 [id=\"-5711639544431828191.args[0]\"]\n\t251136556258223993 [label=\"Abstraction.__add__\" id=-8185615459012223365]\n\t251136556258223993 -> 4635025401393889481 [id=\"-8185615459012223365.args[0]\"]\n\t4635025401393889481 [label=\"Abstraction.create\" id=2013462788875869881]\n\t4635025401393889481 -> -3126248252036041104 [id=\"2013462788875869881.args[0]\"]\n\t-3126248252036041104 [label=\"Abstraction.create_variable\" id=-3126248252036041104]\n\t-3126248252036041104 -> 4954432025238118249 [id=\"-3126248252036041104.args[0]\"]\n\t4954432025238118249 [label=\"Variable(4763775048)\" id=4954432025238118249]\n\t4635025401393889481 -> -4783420378234302645 [id=\"2013462788875869881.args[1]\"]\n\t-4783420378234302645 [label=\"Maybe.just\" id=-4783420378234302645]\n\t-4783420378234302645 -> -3126248252036041104 [id=\"-4783420378234302645.args[0]\"]\n\t251136556258223993 -> -6625266454406091376 [id=\"-8185615459012223365.args[1]\"]\n\t-6625266454406091376 [label=\"Abstraction.create\" id=-6625266454406091376]\n\t-6625266454406091376 -> 7625737217546302985 [id=\"-6625266454406091376.args[0]\"]\n\t7625737217546302985 [label=\"Abstraction.create_variable\" id=7625737217546302985]\n\t7625737217546302985 -> -4268939874013657234 [id=\"7625737217546302985.args[0]\"]\n\t-4268939874013657234 [label=\"Variable(4763568336)\" id=-4268939874013657234]\n\t-6625266454406091376 -> 2339027244142301325 [id=\"-6625266454406091376.args[1]\"]\n\t2339027244142301325 [label=\"Either.left\" id=2339027244142301325]\n\t2339027244142301325 -> 7625737217546302985 [id=\"2339027244142301325.args[0]\"]\n\t-4981525845887472322 -> 2507768681348984026 [id=\"-5711639544431828191.args[1]\"]\n\t2507768681348984026 [label=\"Integer.from_int\" id=2507768681348984026]\n\t2507768681348984026 -> -7737040241182541916 [id=\"2507768681348984026.args[0]\"]\n\t-7737040241182541916 [label=5 id=-3794084279707917178]\n\t-5307063207184114105 -> -2607264151601447062 [id=\"-3702009093770552402.args[1]\"]\n\t-2607264151601447062 [label=\"Maybe.match\" id=-8693574137465041742]\n\t-2607264151601447062 -> -7726250483385592724 [id=\"-8693574137465041742.args[0]\"]\n\t-7726250483385592724 [label=\"Converter.convert\" id=-7726250483385592724]\n\t-7726250483385592724 -> -7737040241182541916 [id=\"-7726250483385592724.args[0]\"]\n\t-2607264151601447062 -> 542625740483342888 [id=\"-8693574137465041742.args[1]\"]\n\t542625740483342888 [label=\"Maybe.nothing\" id=542625740483342888]\n\t-2607264151601447062 -> 2085146165325110638 [id=\"-8693574137465041742.args[2]\"]\n\t2085146165325110638 [label=\"Abstraction.__add__\" id=-4979443563467282184]\n\t2085146165325110638 -> 4635025401393889481 [id=\"-4979443563467282184.args[0]\"]\n\t2085146165325110638 -> 188400188245589463 [id=\"-4979443563467282184.args[1]\"]\n\t188400188245589463 [label=\"Abstraction.create\" id=188400188245589463]\n\t188400188245589463 -> 1338288602999335341 [id=\"188400188245589463.args[0]\"]\n\t1338288602999335341 [label=\"Abstraction.create_variable\" id=1338288602999335341]\n\t1338288602999335341 -> -4268939902715725084 [id=\"1338288602999335341.args[0]\"]\n\t-4268939902715725084 [label=\"Variable(4763273200)\" id=-4268939902715725084]\n\t188400188245589463 -> 4503027993476547237 [id=\"188400188245589463.args[1]\"]\n\t4503027993476547237 [label=\"Either.right\" id=4503027993476547237]\n\t4503027993476547237 -> 1338288602999335341 [id=\"4503027993476547237.args[0]\"]\n\t5715674669693384074 -> 9032834383112645395 [id=\"-3602988945447969937.args[1]\"]\n\t9032834383112645395 [label=\"Maybe.nothing\" id=9032834383112645395]\n\t5715674669693384074 -> -4499936965109676736 [id=\"-3602988945447969937.args[2]\"]\n\t-4499936965109676736 [label=\"Abstraction.create\" id=-4499936965109676736]\n\t-4499936965109676736 -> -3875335050971398825 [id=\"-4499936965109676736.args[0]\"]\n\t-3875335050971398825 [label=\"Abstraction.create_variable\" id=-3875335050971398825]\n\t-3875335050971398825 -> -4268939887078651459 [id=\"-3875335050971398825.args[0]\"]\n\t-4268939887078651459 [label=\"Variable(4763508352)\" id=-4268939887078651459]\n\t-4499936965109676736 -> -3644965817071629006 [id=\"-4499936965109676736.args[1]\"]\n\t-3644965817071629006 [label=\"Maybe.just\" id=-3644965817071629006]\n\t-3644965817071629006 -> -1669249308957284923 [id=\"-3644965817071629006.args[0]\"]\n\t-1669249308957284923 [label=\"NDArray.__getitem__\" id=-1669249308957284923]\n\t-1669249308957284923 -> 5872572339045335076 [id=\"-1669249308957284923.args[0]\"]\n\t5872572339045335076 [label=\"Pair.left\" id=5872572339045335076]\n\t5872572339045335076 -> -3875335050971398825 [id=\"5872572339045335076.args[0]\"]\n\t-1669249308957284923 -> -9003153576216423860 [id=\"-1669249308957284923.args[1]\"]\n\t-9003153576216423860 [label=\"Pair.right\" id=-9003153576216423860]\n\t-9003153576216423860 -> -3875335050971398825 [id=\"-9003153576216423860.args[0]\"]\n}",
         "label": null,
         "rule": "metadsl_core.abstraction.compose"
        },
        {
         "graph": "digraph {\n\tnode [shape=plain]\n\tedge [arrowsize=0.5 penwidth=0.5]\n\t5481959897104242996 [label=\"NDArrayCompat.to_ndarray\" id=-1341672716970475800]\n\t5481959897104242996 -> 6028786477061586829 [id=\"-1341672716970475800.args[0]\"]\n\t6028786477061586829 [label=\"NDArrayCompat.from_ndarray\" id=-4772016795270189587]\n\t6028786477061586829 -> -4109104279317326397 [id=\"-4772016795270189587.args[0]\"]\n\t-4109104279317326397 [label=\"Maybe.match\" id=-3602988945447969937]\n\t-4109104279317326397 -> -1252495552457240223 [id=\"-3602988945447969937.args[0]\"]\n\t-1252495552457240223 [label=\"Maybe.__and__\" id=-1176136162159317166]\n\t-1252495552457240223 -> -6203650838009083156 [id=\"-1176136162159317166.args[0]\"]\n\t-6203650838009083156 [label=\"Converter.convert\" id=-2020586981356496369]\n\t-6203650838009083156 -> 291113876773064437 [id=\"-2020586981356496369.args[0]\"]\n\t291113876773064437 [label=\"NDArrayCompat.__add__\" id=6785135613727947616]\n\t291113876773064437 -> 2402650112385120430 [id=\"6785135613727947616.args[0]\"]\n\t2402650112385120430 [label=\"NDArrayCompat.from_ndarray\" id=-8162579586956751115]\n\t2402650112385120430 -> -6889420331530803721 [id=\"-8162579586956751115.args[0]\"]\n\t-6889420331530803721 [label=\"Abstraction.__call__\" id=-996850803608951878]\n\t-6889420331530803721 -> -6750704868498848563 [id=\"-996850803608951878.args[0]\"]\n\t-6750704868498848563 [label=\"Abstraction.__add__\" id=-7005933830148898301]\n\t-6750704868498848563 -> -8573522558940743683 [id=\"-7005933830148898301.args[0]\"]\n\t-8573522558940743683 [label=\"Abstraction.create\" id=-1894269937027086384]\n\t-8573522558940743683 -> 3608346765094280245 [id=\"-1894269937027086384.args[0]\"]\n\t3608346765094280245 [label=\"Abstraction.create_variable\" id=3608346765094280245]\n\t3608346765094280245 -> 4954432109362218524 [id=\"3608346765094280245.args[0]\"]\n\t4954432109362218524 [label=\"Variable(4762794360)\" id=4954432109362218524]\n\t-8573522558940743683 -> 4096479446876412357 [id=\"-1894269937027086384.args[1]\"]\n\t4096479446876412357 [label=\"Maybe.just\" id=4096479446876412357]\n\t4096479446876412357 -> 3608346765094280245 [id=\"4096479446876412357.args[0]\"]\n\t-6750704868498848563 -> 9003221985443418126 [id=\"-7005933830148898301.args[1]\"]\n\t9003221985443418126 [label=\"Abstraction.create\" id=9003221985443418126]\n\t9003221985443418126 -> 5147401912858767407 [id=\"9003221985443418126.args[0]\"]\n\t5147401912858767407 [label=\"Abstraction.create_variable\" id=5147401912858767407]\n\t5147401912858767407 -> 4954432105590701424 [id=\"5147401912858767407.args[0]\"]\n\t4954432105590701424 [label=\"Variable(4762851256)\" id=4954432105590701424]\n\t9003221985443418126 -> 6757516754014003782 [id=\"9003221985443418126.args[1]\"]\n\t6757516754014003782 [label=arange_ id=6757516754014003782]\n\t6757516754014003782 -> 5147401912858767407 [id=\"6757516754014003782.args[0]\"]\n\t-6889420331530803721 -> -1313138448651871637 [id=\"-996850803608951878.args[1]\"]\n\t-1313138448651871637 [label=\"Integer.from_int\" id=-1313138448651871637]\n\t-1313138448651871637 -> -7737040241287546841 [id=\"-1313138448651871637.args[0]\"]\n\t-7737040241287546841 [label=100 id=-5945887149520679823]\n\t291113876773064437 -> 114517206094957062 [id=\"6785135613727947616.args[1]\"]\n\t114517206094957062 [label=\"NDArrayCompat.from_ndarray\" id=5417034725160828583]\n\t114517206094957062 -> 3984286343726679996 [id=\"5417034725160828583.args[0]\"]\n\t3984286343726679996 [label=\"Abstraction.__call__\" id=161942629437193568]\n\t3984286343726679996 -> 3145527808357273259 [id=\"161942629437193568.args[0]\"]\n\t3145527808357273259 [label=\"Abstraction.__add__\" id=3145527808357273259]\n\t3145527808357273259 -> -2379822715312111207 [id=\"3145527808357273259.args[0]\"]\n\t-2379822715312111207 [label=\"Abstraction.create\" id=-2379822715312111207]\n\t-2379822715312111207 -> 7281639658939935167 [id=\"-2379822715312111207.args[0]\"]\n\t7281639658939935167 [label=\"Abstraction.create_variable\" id=7281639658939935167]\n\t7281639658939935167 -> 4954432115725300474 [id=\"7281639658939935167.args[0]\"]\n\t4954432115725300474 [label=\"Variable(4763019416)\" id=4954432115725300474]\n\t-2379822715312111207 -> -8574334911283847007 [id=\"-2379822715312111207.args[1]\"]\n\t-8574334911283847007 [label=\"Maybe.just\" id=-8574334911283847007]\n\t-8574334911283847007 -> 7281639658939935167 [id=\"-8574334911283847007.args[0]\"]\n\t3145527808357273259 -> 9003221985443418126 [id=\"3145527808357273259.args[1]\"]\n\t3984286343726679996 -> -1313138448651871637 [id=\"161942629437193568.args[1]\"]\n\t-1252495552457240223 -> 4351124380524720886 [id=\"-1176136162159317166.args[1]\"]\n\t4351124380524720886 [label=\"Maybe.__or__\" id=-3702009093770552402]\n\t4351124380524720886 -> -4981525845887472322 [id=\"-3702009093770552402.args[0]\"]\n\t-4981525845887472322 [label=\"Abstraction.__call__\" id=-5711639544431828191]\n\t-4981525845887472322 -> 251136556258223993 [id=\"-5711639544431828191.args[0]\"]\n\t251136556258223993 [label=\"Abstraction.__add__\" id=-8185615459012223365]\n\t251136556258223993 -> 4635025401393889481 [id=\"-8185615459012223365.args[0]\"]\n\t4635025401393889481 [label=\"Abstraction.create\" id=2013462788875869881]\n\t4635025401393889481 -> -3126248252036041104 [id=\"2013462788875869881.args[0]\"]\n\t-3126248252036041104 [label=\"Abstraction.create_variable\" id=-3126248252036041104]\n\t-3126248252036041104 -> 4954432025238118249 [id=\"-3126248252036041104.args[0]\"]\n\t4954432025238118249 [label=\"Variable(4763775048)\" id=4954432025238118249]\n\t4635025401393889481 -> -4783420378234302645 [id=\"2013462788875869881.args[1]\"]\n\t-4783420378234302645 [label=\"Maybe.just\" id=-4783420378234302645]\n\t-4783420378234302645 -> -3126248252036041104 [id=\"-4783420378234302645.args[0]\"]\n\t251136556258223993 -> -6625266454406091376 [id=\"-8185615459012223365.args[1]\"]\n\t-6625266454406091376 [label=\"Abstraction.create\" id=-6625266454406091376]\n\t-6625266454406091376 -> 7625737217546302985 [id=\"-6625266454406091376.args[0]\"]\n\t7625737217546302985 [label=\"Abstraction.create_variable\" id=7625737217546302985]\n\t7625737217546302985 -> -4268939874013657234 [id=\"7625737217546302985.args[0]\"]\n\t-4268939874013657234 [label=\"Variable(4763568336)\" id=-4268939874013657234]\n\t-6625266454406091376 -> 2339027244142301325 [id=\"-6625266454406091376.args[1]\"]\n\t2339027244142301325 [label=\"Either.left\" id=2339027244142301325]\n\t2339027244142301325 -> 7625737217546302985 [id=\"2339027244142301325.args[0]\"]\n\t-4981525845887472322 -> 2507768681348984026 [id=\"-5711639544431828191.args[1]\"]\n\t2507768681348984026 [label=\"Integer.from_int\" id=2507768681348984026]\n\t2507768681348984026 -> -7737040241182541916 [id=\"2507768681348984026.args[0]\"]\n\t-7737040241182541916 [label=5 id=-3794084279707917178]\n\t4351124380524720886 -> -9140232007187717295 [id=\"-3702009093770552402.args[1]\"]\n\t-9140232007187717295 [label=\"Maybe.match\" id=-8693574137465041742]\n\t-9140232007187717295 -> -7726250483385592724 [id=\"-8693574137465041742.args[0]\"]\n\t-7726250483385592724 [label=\"Converter.convert\" id=-7726250483385592724]\n\t-7726250483385592724 -> -7737040241182541916 [id=\"-7726250483385592724.args[0]\"]\n\t-9140232007187717295 -> 542625740483342888 [id=\"-8693574137465041742.args[1]\"]\n\t542625740483342888 [label=\"Maybe.nothing\" id=542625740483342888]\n\t-9140232007187717295 -> 4654565502574162085 [id=\"-8693574137465041742.args[2]\"]\n\t4654565502574162085 [label=\"Abstraction.create\" id=-4979443563467282184]\n\t4654565502574162085 -> 1338288602999335341 [id=\"-4979443563467282184.args[0]\"]\n\t1338288602999335341 [label=\"Abstraction.create_variable\" id=1338288602999335341]\n\t1338288602999335341 -> -4268939902715725084 [id=\"1338288602999335341.args[0]\"]\n\t-4268939902715725084 [label=\"Variable(4763273200)\" id=-4268939902715725084]\n\t4654565502574162085 -> -7767314672509380530 [id=\"-4979443563467282184.args[1]\"]\n\t-7767314672509380530 [label=\"Maybe.just\" id=-7767314672509380530]\n\t-7767314672509380530 -> 4503027993476547237 [id=\"-7767314672509380530.args[0]\"]\n\t4503027993476547237 [label=\"Either.right\" id=4503027993476547237]\n\t4503027993476547237 -> 1338288602999335341 [id=\"4503027993476547237.args[0]\"]\n\t-4109104279317326397 -> 9032834383112645395 [id=\"-3602988945447969937.args[1]\"]\n\t9032834383112645395 [label=\"Maybe.nothing\" id=9032834383112645395]\n\t-4109104279317326397 -> -4499936965109676736 [id=\"-3602988945447969937.args[2]\"]\n\t-4499936965109676736 [label=\"Abstraction.create\" id=-4499936965109676736]\n\t-4499936965109676736 -> -3875335050971398825 [id=\"-4499936965109676736.args[0]\"]\n\t-3875335050971398825 [label=\"Abstraction.create_variable\" id=-3875335050971398825]\n\t-3875335050971398825 -> -4268939887078651459 [id=\"-3875335050971398825.args[0]\"]\n\t-4268939887078651459 [label=\"Variable(4763508352)\" id=-4268939887078651459]\n\t-4499936965109676736 -> -3644965817071629006 [id=\"-4499936965109676736.args[1]\"]\n\t-3644965817071629006 [label=\"Maybe.just\" id=-3644965817071629006]\n\t-3644965817071629006 -> -1669249308957284923 [id=\"-3644965817071629006.args[0]\"]\n\t-1669249308957284923 [label=\"NDArray.__getitem__\" id=-1669249308957284923]\n\t-1669249308957284923 -> 5872572339045335076 [id=\"-1669249308957284923.args[0]\"]\n\t5872572339045335076 [label=\"Pair.left\" id=5872572339045335076]\n\t5872572339045335076 -> -3875335050971398825 [id=\"5872572339045335076.args[0]\"]\n\t-1669249308957284923 -> -9003153576216423860 [id=\"-1669249308957284923.args[1]\"]\n\t-9003153576216423860 [label=\"Pair.right\" id=-9003153576216423860]\n\t-9003153576216423860 -> -3875335050971398825 [id=\"-9003153576216423860.args[0]\"]\n}",
         "label": null,
         "rule": "metadsl_core.abstraction.compose"
        },
        {
         "graph": "digraph {\n\tnode [shape=plain]\n\tedge [arrowsize=0.5 penwidth=0.5]\n\t-305335187543291677 [label=\"NDArrayCompat.to_ndarray\" id=-1341672716970475800]\n\t-305335187543291677 -> 8117533198369204841 [id=\"-1341672716970475800.args[0]\"]\n\t8117533198369204841 [label=\"NDArrayCompat.from_ndarray\" id=-4772016795270189587]\n\t8117533198369204841 -> 344329709028571110 [id=\"-4772016795270189587.args[0]\"]\n\t344329709028571110 [label=\"Maybe.match\" id=-3602988945447969937]\n\t344329709028571110 -> 1853330158292827626 [id=\"-3602988945447969937.args[0]\"]\n\t1853330158292827626 [label=\"Maybe.__and__\" id=-1176136162159317166]\n\t1853330158292827626 -> -6203650838009083156 [id=\"-1176136162159317166.args[0]\"]\n\t-6203650838009083156 [label=\"Converter.convert\" id=-2020586981356496369]\n\t-6203650838009083156 -> 291113876773064437 [id=\"-2020586981356496369.args[0]\"]\n\t291113876773064437 [label=\"NDArrayCompat.__add__\" id=6785135613727947616]\n\t291113876773064437 -> 2402650112385120430 [id=\"6785135613727947616.args[0]\"]\n\t2402650112385120430 [label=\"NDArrayCompat.from_ndarray\" id=-8162579586956751115]\n\t2402650112385120430 -> -6889420331530803721 [id=\"-8162579586956751115.args[0]\"]\n\t-6889420331530803721 [label=\"Abstraction.__call__\" id=-996850803608951878]\n\t-6889420331530803721 -> -6750704868498848563 [id=\"-996850803608951878.args[0]\"]\n\t-6750704868498848563 [label=\"Abstraction.__add__\" id=-7005933830148898301]\n\t-6750704868498848563 -> -8573522558940743683 [id=\"-7005933830148898301.args[0]\"]\n\t-8573522558940743683 [label=\"Abstraction.create\" id=-1894269937027086384]\n\t-8573522558940743683 -> 3608346765094280245 [id=\"-1894269937027086384.args[0]\"]\n\t3608346765094280245 [label=\"Abstraction.create_variable\" id=3608346765094280245]\n\t3608346765094280245 -> 4954432109362218524 [id=\"3608346765094280245.args[0]\"]\n\t4954432109362218524 [label=\"Variable(4762794360)\" id=4954432109362218524]\n\t-8573522558940743683 -> 4096479446876412357 [id=\"-1894269937027086384.args[1]\"]\n\t4096479446876412357 [label=\"Maybe.just\" id=4096479446876412357]\n\t4096479446876412357 -> 3608346765094280245 [id=\"4096479446876412357.args[0]\"]\n\t-6750704868498848563 -> 9003221985443418126 [id=\"-7005933830148898301.args[1]\"]\n\t9003221985443418126 [label=\"Abstraction.create\" id=9003221985443418126]\n\t9003221985443418126 -> 5147401912858767407 [id=\"9003221985443418126.args[0]\"]\n\t5147401912858767407 [label=\"Abstraction.create_variable\" id=5147401912858767407]\n\t5147401912858767407 -> 4954432105590701424 [id=\"5147401912858767407.args[0]\"]\n\t4954432105590701424 [label=\"Variable(4762851256)\" id=4954432105590701424]\n\t9003221985443418126 -> 6757516754014003782 [id=\"9003221985443418126.args[1]\"]\n\t6757516754014003782 [label=arange_ id=6757516754014003782]\n\t6757516754014003782 -> 5147401912858767407 [id=\"6757516754014003782.args[0]\"]\n\t-6889420331530803721 -> -1313138448651871637 [id=\"-996850803608951878.args[1]\"]\n\t-1313138448651871637 [label=\"Integer.from_int\" id=-1313138448651871637]\n\t-1313138448651871637 -> -7737040241287546841 [id=\"-1313138448651871637.args[0]\"]\n\t-7737040241287546841 [label=100 id=-5945887149520679823]\n\t291113876773064437 -> 114517206094957062 [id=\"6785135613727947616.args[1]\"]\n\t114517206094957062 [label=\"NDArrayCompat.from_ndarray\" id=5417034725160828583]\n\t114517206094957062 -> 3984286343726679996 [id=\"5417034725160828583.args[0]\"]\n\t3984286343726679996 [label=\"Abstraction.__call__\" id=161942629437193568]\n\t3984286343726679996 -> 3145527808357273259 [id=\"161942629437193568.args[0]\"]\n\t3145527808357273259 [label=\"Abstraction.__add__\" id=3145527808357273259]\n\t3145527808357273259 -> -2379822715312111207 [id=\"3145527808357273259.args[0]\"]\n\t-2379822715312111207 [label=\"Abstraction.create\" id=-2379822715312111207]\n\t-2379822715312111207 -> 7281639658939935167 [id=\"-2379822715312111207.args[0]\"]\n\t7281639658939935167 [label=\"Abstraction.create_variable\" id=7281639658939935167]\n\t7281639658939935167 -> 4954432115725300474 [id=\"7281639658939935167.args[0]\"]\n\t4954432115725300474 [label=\"Variable(4763019416)\" id=4954432115725300474]\n\t-2379822715312111207 -> -8574334911283847007 [id=\"-2379822715312111207.args[1]\"]\n\t-8574334911283847007 [label=\"Maybe.just\" id=-8574334911283847007]\n\t-8574334911283847007 -> 7281639658939935167 [id=\"-8574334911283847007.args[0]\"]\n\t3145527808357273259 -> 9003221985443418126 [id=\"3145527808357273259.args[1]\"]\n\t3984286343726679996 -> -1313138448651871637 [id=\"161942629437193568.args[1]\"]\n\t1853330158292827626 -> 4000648793983003173 [id=\"-1176136162159317166.args[1]\"]\n\t4000648793983003173 [label=\"Maybe.__or__\" id=-3702009093770552402]\n\t4000648793983003173 -> 7345291844178281184 [id=\"-3702009093770552402.args[0]\"]\n\t7345291844178281184 [label=\"Abstraction.__call__\" id=-5711639544431828191]\n\t7345291844178281184 -> 3321638441002206874 [id=\"-5711639544431828191.args[0]\"]\n\t3321638441002206874 [label=\"Abstraction.create\" id=-8185615459012223365]\n\t3321638441002206874 -> 7625737217546302985 [id=\"-8185615459012223365.args[0]\"]\n\t7625737217546302985 [label=\"Abstraction.create_variable\" id=7625737217546302985]\n\t7625737217546302985 -> -4268939874013657234 [id=\"7625737217546302985.args[0]\"]\n\t-4268939874013657234 [label=\"Variable(4763568336)\" id=-4268939874013657234]\n\t3321638441002206874 -> -3976014159338974906 [id=\"-8185615459012223365.args[1]\"]\n\t-3976014159338974906 [label=\"Maybe.just\" id=-3976014159338974906]\n\t-3976014159338974906 -> 2339027244142301325 [id=\"-3976014159338974906.args[0]\"]\n\t2339027244142301325 [label=\"Either.left\" id=2339027244142301325]\n\t2339027244142301325 -> 7625737217546302985 [id=\"2339027244142301325.args[0]\"]\n\t7345291844178281184 -> 2507768681348984026 [id=\"-5711639544431828191.args[1]\"]\n\t2507768681348984026 [label=\"Integer.from_int\" id=2507768681348984026]\n\t2507768681348984026 -> -7737040241182541916 [id=\"2507768681348984026.args[0]\"]\n\t-7737040241182541916 [label=5 id=-3794084279707917178]\n\t4000648793983003173 -> -9140232007187717295 [id=\"-3702009093770552402.args[1]\"]\n\t-9140232007187717295 [label=\"Maybe.match\" id=-8693574137465041742]\n\t-9140232007187717295 -> -7726250483385592724 [id=\"-8693574137465041742.args[0]\"]\n\t-7726250483385592724 [label=\"Converter.convert\" id=-7726250483385592724]\n\t-7726250483385592724 -> -7737040241182541916 [id=\"-7726250483385592724.args[0]\"]\n\t-9140232007187717295 -> 542625740483342888 [id=\"-8693574137465041742.args[1]\"]\n\t542625740483342888 [label=\"Maybe.nothing\" id=542625740483342888]\n\t-9140232007187717295 -> 4654565502574162085 [id=\"-8693574137465041742.args[2]\"]\n\t4654565502574162085 [label=\"Abstraction.create\" id=-4979443563467282184]\n\t4654565502574162085 -> 1338288602999335341 [id=\"-4979443563467282184.args[0]\"]\n\t1338288602999335341 [label=\"Abstraction.create_variable\" id=1338288602999335341]\n\t1338288602999335341 -> -4268939902715725084 [id=\"1338288602999335341.args[0]\"]\n\t-4268939902715725084 [label=\"Variable(4763273200)\" id=-4268939902715725084]\n\t4654565502574162085 -> -7767314672509380530 [id=\"-4979443563467282184.args[1]\"]\n\t-7767314672509380530 [label=\"Maybe.just\" id=-7767314672509380530]\n\t-7767314672509380530 -> 4503027993476547237 [id=\"-7767314672509380530.args[0]\"]\n\t4503027993476547237 [label=\"Either.right\" id=4503027993476547237]\n\t4503027993476547237 -> 1338288602999335341 [id=\"4503027993476547237.args[0]\"]\n\t344329709028571110 -> 9032834383112645395 [id=\"-3602988945447969937.args[1]\"]\n\t9032834383112645395 [label=\"Maybe.nothing\" id=9032834383112645395]\n\t344329709028571110 -> -4499936965109676736 [id=\"-3602988945447969937.args[2]\"]\n\t-4499936965109676736 [label=\"Abstraction.create\" id=-4499936965109676736]\n\t-4499936965109676736 -> -3875335050971398825 [id=\"-4499936965109676736.args[0]\"]\n\t-3875335050971398825 [label=\"Abstraction.create_variable\" id=-3875335050971398825]\n\t-3875335050971398825 -> -4268939887078651459 [id=\"-3875335050971398825.args[0]\"]\n\t-4268939887078651459 [label=\"Variable(4763508352)\" id=-4268939887078651459]\n\t-4499936965109676736 -> -3644965817071629006 [id=\"-4499936965109676736.args[1]\"]\n\t-3644965817071629006 [label=\"Maybe.just\" id=-3644965817071629006]\n\t-3644965817071629006 -> -1669249308957284923 [id=\"-3644965817071629006.args[0]\"]\n\t-1669249308957284923 [label=\"NDArray.__getitem__\" id=-1669249308957284923]\n\t-1669249308957284923 -> 5872572339045335076 [id=\"-1669249308957284923.args[0]\"]\n\t5872572339045335076 [label=\"Pair.left\" id=5872572339045335076]\n\t5872572339045335076 -> -3875335050971398825 [id=\"5872572339045335076.args[0]\"]\n\t-1669249308957284923 -> -9003153576216423860 [id=\"-1669249308957284923.args[1]\"]\n\t-9003153576216423860 [label=\"Pair.right\" id=-9003153576216423860]\n\t-9003153576216423860 -> -3875335050971398825 [id=\"-9003153576216423860.args[0]\"]\n}",
         "label": null,
         "rule": "metadsl_core.abstraction.compose"
        },
        {
         "graph": "digraph {\n\tnode [shape=plain]\n\tedge [arrowsize=0.5 penwidth=0.5]\n\t-7771624458473353169 [label=\"NDArrayCompat.to_ndarray\" id=-1341672716970475800]\n\t-7771624458473353169 -> -7786420490840632653 [id=\"-1341672716970475800.args[0]\"]\n\t-7786420490840632653 [label=\"NDArrayCompat.from_ndarray\" id=-4772016795270189587]\n\t-7786420490840632653 -> 7412020547346566241 [id=\"-4772016795270189587.args[0]\"]\n\t7412020547346566241 [label=\"Maybe.match\" id=-3602988945447969937]\n\t7412020547346566241 -> 1796649608107467623 [id=\"-3602988945447969937.args[0]\"]\n\t1796649608107467623 [label=\"Maybe.__and__\" id=-1176136162159317166]\n\t1796649608107467623 -> -6203650838009083156 [id=\"-1176136162159317166.args[0]\"]\n\t-6203650838009083156 [label=\"Converter.convert\" id=-2020586981356496369]\n\t-6203650838009083156 -> 291113876773064437 [id=\"-2020586981356496369.args[0]\"]\n\t291113876773064437 [label=\"NDArrayCompat.__add__\" id=6785135613727947616]\n\t291113876773064437 -> 2402650112385120430 [id=\"6785135613727947616.args[0]\"]\n\t2402650112385120430 [label=\"NDArrayCompat.from_ndarray\" id=-8162579586956751115]\n\t2402650112385120430 -> -6889420331530803721 [id=\"-8162579586956751115.args[0]\"]\n\t-6889420331530803721 [label=\"Abstraction.__call__\" id=-996850803608951878]\n\t-6889420331530803721 -> -6750704868498848563 [id=\"-996850803608951878.args[0]\"]\n\t-6750704868498848563 [label=\"Abstraction.__add__\" id=-7005933830148898301]\n\t-6750704868498848563 -> -8573522558940743683 [id=\"-7005933830148898301.args[0]\"]\n\t-8573522558940743683 [label=\"Abstraction.create\" id=-1894269937027086384]\n\t-8573522558940743683 -> 3608346765094280245 [id=\"-1894269937027086384.args[0]\"]\n\t3608346765094280245 [label=\"Abstraction.create_variable\" id=3608346765094280245]\n\t3608346765094280245 -> 4954432109362218524 [id=\"3608346765094280245.args[0]\"]\n\t4954432109362218524 [label=\"Variable(4762794360)\" id=4954432109362218524]\n\t-8573522558940743683 -> 4096479446876412357 [id=\"-1894269937027086384.args[1]\"]\n\t4096479446876412357 [label=\"Maybe.just\" id=4096479446876412357]\n\t4096479446876412357 -> 3608346765094280245 [id=\"4096479446876412357.args[0]\"]\n\t-6750704868498848563 -> 9003221985443418126 [id=\"-7005933830148898301.args[1]\"]\n\t9003221985443418126 [label=\"Abstraction.create\" id=9003221985443418126]\n\t9003221985443418126 -> 5147401912858767407 [id=\"9003221985443418126.args[0]\"]\n\t5147401912858767407 [label=\"Abstraction.create_variable\" id=5147401912858767407]\n\t5147401912858767407 -> 4954432105590701424 [id=\"5147401912858767407.args[0]\"]\n\t4954432105590701424 [label=\"Variable(4762851256)\" id=4954432105590701424]\n\t9003221985443418126 -> 6757516754014003782 [id=\"9003221985443418126.args[1]\"]\n\t6757516754014003782 [label=arange_ id=6757516754014003782]\n\t6757516754014003782 -> 5147401912858767407 [id=\"6757516754014003782.args[0]\"]\n\t-6889420331530803721 -> -1313138448651871637 [id=\"-996850803608951878.args[1]\"]\n\t-1313138448651871637 [label=\"Integer.from_int\" id=-1313138448651871637]\n\t-1313138448651871637 -> -7737040241287546841 [id=\"-1313138448651871637.args[0]\"]\n\t-7737040241287546841 [label=100 id=-5945887149520679823]\n\t291113876773064437 -> 114517206094957062 [id=\"6785135613727947616.args[1]\"]\n\t114517206094957062 [label=\"NDArrayCompat.from_ndarray\" id=5417034725160828583]\n\t114517206094957062 -> 3984286343726679996 [id=\"5417034725160828583.args[0]\"]\n\t3984286343726679996 [label=\"Abstraction.__call__\" id=161942629437193568]\n\t3984286343726679996 -> 3145527808357273259 [id=\"161942629437193568.args[0]\"]\n\t3145527808357273259 [label=\"Abstraction.__add__\" id=3145527808357273259]\n\t3145527808357273259 -> -2379822715312111207 [id=\"3145527808357273259.args[0]\"]\n\t-2379822715312111207 [label=\"Abstraction.create\" id=-2379822715312111207]\n\t-2379822715312111207 -> 7281639658939935167 [id=\"-2379822715312111207.args[0]\"]\n\t7281639658939935167 [label=\"Abstraction.create_variable\" id=7281639658939935167]\n\t7281639658939935167 -> 4954432115725300474 [id=\"7281639658939935167.args[0]\"]\n\t4954432115725300474 [label=\"Variable(4763019416)\" id=4954432115725300474]\n\t-2379822715312111207 -> -8574334911283847007 [id=\"-2379822715312111207.args[1]\"]\n\t-8574334911283847007 [label=\"Maybe.just\" id=-8574334911283847007]\n\t-8574334911283847007 -> 7281639658939935167 [id=\"-8574334911283847007.args[0]\"]\n\t3145527808357273259 -> 9003221985443418126 [id=\"3145527808357273259.args[1]\"]\n\t3984286343726679996 -> -1313138448651871637 [id=\"161942629437193568.args[1]\"]\n\t1796649608107467623 -> -8514678070449284044 [id=\"-1176136162159317166.args[1]\"]\n\t-8514678070449284044 [label=\"Maybe.__or__\" id=-3702009093770552402]\n\t-8514678070449284044 -> -2879884706675895873 [id=\"-3702009093770552402.args[0]\"]\n\t-2879884706675895873 [label=\"Maybe.just\" id=-5711639544431828191]\n\t-2879884706675895873 -> -8215238012704140842 [id=\"-5711639544431828191.args[0]\"]\n\t-8215238012704140842 [label=\"Either.left\" id=-8215238012704140842]\n\t-8215238012704140842 -> 2507768681348984026 [id=\"-8215238012704140842.args[0]\"]\n\t2507768681348984026 [label=\"Integer.from_int\" id=2507768681348984026]\n\t2507768681348984026 -> -7737040241182541916 [id=\"2507768681348984026.args[0]\"]\n\t-7737040241182541916 [label=5 id=-3794084279707917178]\n\t-8514678070449284044 -> -9140232007187717295 [id=\"-3702009093770552402.args[1]\"]\n\t-9140232007187717295 [label=\"Maybe.match\" id=-8693574137465041742]\n\t-9140232007187717295 -> -7726250483385592724 [id=\"-8693574137465041742.args[0]\"]\n\t-7726250483385592724 [label=\"Converter.convert\" id=-7726250483385592724]\n\t-7726250483385592724 -> -7737040241182541916 [id=\"-7726250483385592724.args[0]\"]\n\t-9140232007187717295 -> 542625740483342888 [id=\"-8693574137465041742.args[1]\"]\n\t542625740483342888 [label=\"Maybe.nothing\" id=542625740483342888]\n\t-9140232007187717295 -> 4654565502574162085 [id=\"-8693574137465041742.args[2]\"]\n\t4654565502574162085 [label=\"Abstraction.create\" id=-4979443563467282184]\n\t4654565502574162085 -> 1338288602999335341 [id=\"-4979443563467282184.args[0]\"]\n\t1338288602999335341 [label=\"Abstraction.create_variable\" id=1338288602999335341]\n\t1338288602999335341 -> -4268939902715725084 [id=\"1338288602999335341.args[0]\"]\n\t-4268939902715725084 [label=\"Variable(4763273200)\" id=-4268939902715725084]\n\t4654565502574162085 -> -7767314672509380530 [id=\"-4979443563467282184.args[1]\"]\n\t-7767314672509380530 [label=\"Maybe.just\" id=-7767314672509380530]\n\t-7767314672509380530 -> 4503027993476547237 [id=\"-7767314672509380530.args[0]\"]\n\t4503027993476547237 [label=\"Either.right\" id=4503027993476547237]\n\t4503027993476547237 -> 1338288602999335341 [id=\"4503027993476547237.args[0]\"]\n\t7412020547346566241 -> 9032834383112645395 [id=\"-3602988945447969937.args[1]\"]\n\t9032834383112645395 [label=\"Maybe.nothing\" id=9032834383112645395]\n\t7412020547346566241 -> -4499936965109676736 [id=\"-3602988945447969937.args[2]\"]\n\t-4499936965109676736 [label=\"Abstraction.create\" id=-4499936965109676736]\n\t-4499936965109676736 -> -3875335050971398825 [id=\"-4499936965109676736.args[0]\"]\n\t-3875335050971398825 [label=\"Abstraction.create_variable\" id=-3875335050971398825]\n\t-3875335050971398825 -> -4268939887078651459 [id=\"-3875335050971398825.args[0]\"]\n\t-4268939887078651459 [label=\"Variable(4763508352)\" id=-4268939887078651459]\n\t-4499936965109676736 -> -3644965817071629006 [id=\"-4499936965109676736.args[1]\"]\n\t-3644965817071629006 [label=\"Maybe.just\" id=-3644965817071629006]\n\t-3644965817071629006 -> -1669249308957284923 [id=\"-3644965817071629006.args[0]\"]\n\t-1669249308957284923 [label=\"NDArray.__getitem__\" id=-1669249308957284923]\n\t-1669249308957284923 -> 5872572339045335076 [id=\"-1669249308957284923.args[0]\"]\n\t5872572339045335076 [label=\"Pair.left\" id=5872572339045335076]\n\t5872572339045335076 -> -3875335050971398825 [id=\"5872572339045335076.args[0]\"]\n\t-1669249308957284923 -> -9003153576216423860 [id=\"-1669249308957284923.args[1]\"]\n\t-9003153576216423860 [label=\"Pair.right\" id=-9003153576216423860]\n\t-9003153576216423860 -> -3875335050971398825 [id=\"-9003153576216423860.args[0]\"]\n}",
         "label": null,
         "rule": "metadsl_core.abstraction.beta_reduce"
        },
        {
         "graph": "digraph {\n\tnode [shape=plain]\n\tedge [arrowsize=0.5 penwidth=0.5]\n\t-6957296477956939921 [label=\"NDArrayCompat.to_ndarray\" id=-1341672716970475800]\n\t-6957296477956939921 -> -4281465664748425999 [id=\"-1341672716970475800.args[0]\"]\n\t-4281465664748425999 [label=\"NDArrayCompat.from_ndarray\" id=-4772016795270189587]\n\t-4281465664748425999 -> -472985709481612258 [id=\"-4772016795270189587.args[0]\"]\n\t-472985709481612258 [label=\"Maybe.match\" id=-3602988945447969937]\n\t-472985709481612258 -> -9094135327947837467 [id=\"-3602988945447969937.args[0]\"]\n\t-9094135327947837467 [label=\"Maybe.__and__\" id=-1176136162159317166]\n\t-9094135327947837467 -> -6203650838009083156 [id=\"-1176136162159317166.args[0]\"]\n\t-6203650838009083156 [label=\"Converter.convert\" id=-2020586981356496369]\n\t-6203650838009083156 -> 291113876773064437 [id=\"-2020586981356496369.args[0]\"]\n\t291113876773064437 [label=\"NDArrayCompat.__add__\" id=6785135613727947616]\n\t291113876773064437 -> 2402650112385120430 [id=\"6785135613727947616.args[0]\"]\n\t2402650112385120430 [label=\"NDArrayCompat.from_ndarray\" id=-8162579586956751115]\n\t2402650112385120430 -> -6889420331530803721 [id=\"-8162579586956751115.args[0]\"]\n\t-6889420331530803721 [label=\"Abstraction.__call__\" id=-996850803608951878]\n\t-6889420331530803721 -> -6750704868498848563 [id=\"-996850803608951878.args[0]\"]\n\t-6750704868498848563 [label=\"Abstraction.__add__\" id=-7005933830148898301]\n\t-6750704868498848563 -> -8573522558940743683 [id=\"-7005933830148898301.args[0]\"]\n\t-8573522558940743683 [label=\"Abstraction.create\" id=-1894269937027086384]\n\t-8573522558940743683 -> 3608346765094280245 [id=\"-1894269937027086384.args[0]\"]\n\t3608346765094280245 [label=\"Abstraction.create_variable\" id=3608346765094280245]\n\t3608346765094280245 -> 4954432109362218524 [id=\"3608346765094280245.args[0]\"]\n\t4954432109362218524 [label=\"Variable(4762794360)\" id=4954432109362218524]\n\t-8573522558940743683 -> 4096479446876412357 [id=\"-1894269937027086384.args[1]\"]\n\t4096479446876412357 [label=\"Maybe.just\" id=4096479446876412357]\n\t4096479446876412357 -> 3608346765094280245 [id=\"4096479446876412357.args[0]\"]\n\t-6750704868498848563 -> 9003221985443418126 [id=\"-7005933830148898301.args[1]\"]\n\t9003221985443418126 [label=\"Abstraction.create\" id=9003221985443418126]\n\t9003221985443418126 -> 5147401912858767407 [id=\"9003221985443418126.args[0]\"]\n\t5147401912858767407 [label=\"Abstraction.create_variable\" id=5147401912858767407]\n\t5147401912858767407 -> 4954432105590701424 [id=\"5147401912858767407.args[0]\"]\n\t4954432105590701424 [label=\"Variable(4762851256)\" id=4954432105590701424]\n\t9003221985443418126 -> 6757516754014003782 [id=\"9003221985443418126.args[1]\"]\n\t6757516754014003782 [label=arange_ id=6757516754014003782]\n\t6757516754014003782 -> 5147401912858767407 [id=\"6757516754014003782.args[0]\"]\n\t-6889420331530803721 -> -1313138448651871637 [id=\"-996850803608951878.args[1]\"]\n\t-1313138448651871637 [label=\"Integer.from_int\" id=-1313138448651871637]\n\t-1313138448651871637 -> -7737040241287546841 [id=\"-1313138448651871637.args[0]\"]\n\t-7737040241287546841 [label=100 id=-5945887149520679823]\n\t291113876773064437 -> 114517206094957062 [id=\"6785135613727947616.args[1]\"]\n\t114517206094957062 [label=\"NDArrayCompat.from_ndarray\" id=5417034725160828583]\n\t114517206094957062 -> 3984286343726679996 [id=\"5417034725160828583.args[0]\"]\n\t3984286343726679996 [label=\"Abstraction.__call__\" id=161942629437193568]\n\t3984286343726679996 -> 3145527808357273259 [id=\"161942629437193568.args[0]\"]\n\t3145527808357273259 [label=\"Abstraction.__add__\" id=3145527808357273259]\n\t3145527808357273259 -> -2379822715312111207 [id=\"3145527808357273259.args[0]\"]\n\t-2379822715312111207 [label=\"Abstraction.create\" id=-2379822715312111207]\n\t-2379822715312111207 -> 7281639658939935167 [id=\"-2379822715312111207.args[0]\"]\n\t7281639658939935167 [label=\"Abstraction.create_variable\" id=7281639658939935167]\n\t7281639658939935167 -> 4954432115725300474 [id=\"7281639658939935167.args[0]\"]\n\t4954432115725300474 [label=\"Variable(4763019416)\" id=4954432115725300474]\n\t-2379822715312111207 -> -8574334911283847007 [id=\"-2379822715312111207.args[1]\"]\n\t-8574334911283847007 [label=\"Maybe.just\" id=-8574334911283847007]\n\t-8574334911283847007 -> 7281639658939935167 [id=\"-8574334911283847007.args[0]\"]\n\t3145527808357273259 -> 9003221985443418126 [id=\"3145527808357273259.args[1]\"]\n\t3984286343726679996 -> -1313138448651871637 [id=\"161942629437193568.args[1]\"]\n\t-9094135327947837467 -> -189545260843302981 [id=\"-1176136162159317166.args[1]\"]\n\t-189545260843302981 [label=\"Maybe.just\" id=-3702009093770552402]\n\t-189545260843302981 -> -8215238012704140842 [id=\"-3702009093770552402.args[0]\"]\n\t-8215238012704140842 [label=\"Either.left\" id=-8215238012704140842]\n\t-8215238012704140842 -> 2507768681348984026 [id=\"-8215238012704140842.args[0]\"]\n\t2507768681348984026 [label=\"Integer.from_int\" id=2507768681348984026]\n\t2507768681348984026 -> -7737040241182541916 [id=\"2507768681348984026.args[0]\"]\n\t-7737040241182541916 [label=5 id=-3794084279707917178]\n\t-472985709481612258 -> 9032834383112645395 [id=\"-3602988945447969937.args[1]\"]\n\t9032834383112645395 [label=\"Maybe.nothing\" id=9032834383112645395]\n\t-472985709481612258 -> -4499936965109676736 [id=\"-3602988945447969937.args[2]\"]\n\t-4499936965109676736 [label=\"Abstraction.create\" id=-4499936965109676736]\n\t-4499936965109676736 -> -3875335050971398825 [id=\"-4499936965109676736.args[0]\"]\n\t-3875335050971398825 [label=\"Abstraction.create_variable\" id=-3875335050971398825]\n\t-3875335050971398825 -> -4268939887078651459 [id=\"-3875335050971398825.args[0]\"]\n\t-4268939887078651459 [label=\"Variable(4763508352)\" id=-4268939887078651459]\n\t-4499936965109676736 -> -3644965817071629006 [id=\"-4499936965109676736.args[1]\"]\n\t-3644965817071629006 [label=\"Maybe.just\" id=-3644965817071629006]\n\t-3644965817071629006 -> -1669249308957284923 [id=\"-3644965817071629006.args[0]\"]\n\t-1669249308957284923 [label=\"NDArray.__getitem__\" id=-1669249308957284923]\n\t-1669249308957284923 -> 5872572339045335076 [id=\"-1669249308957284923.args[0]\"]\n\t5872572339045335076 [label=\"Pair.left\" id=5872572339045335076]\n\t5872572339045335076 -> -3875335050971398825 [id=\"5872572339045335076.args[0]\"]\n\t-1669249308957284923 -> -9003153576216423860 [id=\"-1669249308957284923.args[1]\"]\n\t-9003153576216423860 [label=\"Pair.right\" id=-9003153576216423860]\n\t-9003153576216423860 -> -3875335050971398825 [id=\"-9003153576216423860.args[0]\"]\n}",
         "label": null,
         "rule": "metadsl_core.maybe.maybe_or"
        },
        {
         "graph": "digraph {\n\tnode [shape=plain]\n\tedge [arrowsize=0.5 penwidth=0.5]\n\t-5413586861969663004 [label=\"NDArrayCompat.to_ndarray\" id=-1341672716970475800]\n\t-5413586861969663004 -> -6196032312521897343 [id=\"-1341672716970475800.args[0]\"]\n\t-6196032312521897343 [label=\"NDArrayCompat.from_ndarray\" id=-4772016795270189587]\n\t-6196032312521897343 -> -624756017752940690 [id=\"-4772016795270189587.args[0]\"]\n\t-624756017752940690 [label=\"Maybe.match\" id=-3602988945447969937]\n\t-624756017752940690 -> -3636815010278867181 [id=\"-3602988945447969937.args[0]\"]\n\t-3636815010278867181 [label=\"Maybe.__and__\" id=-1176136162159317166]\n\t-3636815010278867181 -> -6441190819633492294 [id=\"-1176136162159317166.args[0]\"]\n\t-6441190819633492294 [label=\"Converter.convert\" id=-2020586981356496369]\n\t-6441190819633492294 -> 8773204422329611200 [id=\"-2020586981356496369.args[0]\"]\n\t8773204422329611200 [label=\"NDArrayCompat.__add__\" id=6785135613727947616]\n\t8773204422329611200 -> 2402650112385120430 [id=\"6785135613727947616.args[0]\"]\n\t2402650112385120430 [label=\"NDArrayCompat.from_ndarray\" id=-8162579586956751115]\n\t2402650112385120430 -> -6889420331530803721 [id=\"-8162579586956751115.args[0]\"]\n\t-6889420331530803721 [label=\"Abstraction.__call__\" id=-996850803608951878]\n\t-6889420331530803721 -> -6750704868498848563 [id=\"-996850803608951878.args[0]\"]\n\t-6750704868498848563 [label=\"Abstraction.__add__\" id=-7005933830148898301]\n\t-6750704868498848563 -> -8573522558940743683 [id=\"-7005933830148898301.args[0]\"]\n\t-8573522558940743683 [label=\"Abstraction.create\" id=-1894269937027086384]\n\t-8573522558940743683 -> 3608346765094280245 [id=\"-1894269937027086384.args[0]\"]\n\t3608346765094280245 [label=\"Abstraction.create_variable\" id=3608346765094280245]\n\t3608346765094280245 -> 4954432109362218524 [id=\"3608346765094280245.args[0]\"]\n\t4954432109362218524 [label=\"Variable(4762794360)\" id=4954432109362218524]\n\t-8573522558940743683 -> 4096479446876412357 [id=\"-1894269937027086384.args[1]\"]\n\t4096479446876412357 [label=\"Maybe.just\" id=4096479446876412357]\n\t4096479446876412357 -> 3608346765094280245 [id=\"4096479446876412357.args[0]\"]\n\t-6750704868498848563 -> 9003221985443418126 [id=\"-7005933830148898301.args[1]\"]\n\t9003221985443418126 [label=\"Abstraction.create\" id=9003221985443418126]\n\t9003221985443418126 -> 5147401912858767407 [id=\"9003221985443418126.args[0]\"]\n\t5147401912858767407 [label=\"Abstraction.create_variable\" id=5147401912858767407]\n\t5147401912858767407 -> 4954432105590701424 [id=\"5147401912858767407.args[0]\"]\n\t4954432105590701424 [label=\"Variable(4762851256)\" id=4954432105590701424]\n\t9003221985443418126 -> 6757516754014003782 [id=\"9003221985443418126.args[1]\"]\n\t6757516754014003782 [label=arange_ id=6757516754014003782]\n\t6757516754014003782 -> 5147401912858767407 [id=\"6757516754014003782.args[0]\"]\n\t-6889420331530803721 -> -1313138448651871637 [id=\"-996850803608951878.args[1]\"]\n\t-1313138448651871637 [label=\"Integer.from_int\" id=-1313138448651871637]\n\t-1313138448651871637 -> -7737040241287546841 [id=\"-1313138448651871637.args[0]\"]\n\t-7737040241287546841 [label=100 id=-5945887149520679823]\n\t8773204422329611200 -> 683939614474263945 [id=\"6785135613727947616.args[1]\"]\n\t683939614474263945 [label=\"NDArrayCompat.from_ndarray\" id=-8162579586956751115]\n\t683939614474263945 -> -6242270009852743544 [id=\"-8162579586956751115.args[0]\"]\n\t-6242270009852743544 [label=\"Abstraction.__call__\" id=-996850803608951878]\n\t-6242270009852743544 -> 5754708566465572294 [id=\"-996850803608951878.args[0]\"]\n\t5754708566465572294 [label=\"Abstraction.create\" id=-7005933830148898301]\n\t5754708566465572294 -> 5147401912858767407 [id=\"-7005933830148898301.args[0]\"]\n\t5754708566465572294 -> 7706625741413645411 [id=\"-7005933830148898301.args[1]\"]\n\t7706625741413645411 [label=\"Maybe.just\" id=7706625741413645411]\n\t7706625741413645411 -> 6757516754014003782 [id=\"7706625741413645411.args[0]\"]\n\t-6242270009852743544 -> -1313138448651871637 [id=\"-996850803608951878.args[1]\"]\n\t-3636815010278867181 -> -189545260843302981 [id=\"-1176136162159317166.args[1]\"]\n\t-189545260843302981 [label=\"Maybe.just\" id=-3702009093770552402]\n\t-189545260843302981 -> -8215238012704140842 [id=\"-3702009093770552402.args[0]\"]\n\t-8215238012704140842 [label=\"Either.left\" id=-8215238012704140842]\n\t-8215238012704140842 -> 2507768681348984026 [id=\"-8215238012704140842.args[0]\"]\n\t2507768681348984026 [label=\"Integer.from_int\" id=2507768681348984026]\n\t2507768681348984026 -> -7737040241182541916 [id=\"2507768681348984026.args[0]\"]\n\t-7737040241182541916 [label=5 id=-3794084279707917178]\n\t-624756017752940690 -> 9032834383112645395 [id=\"-3602988945447969937.args[1]\"]\n\t9032834383112645395 [label=\"Maybe.nothing\" id=9032834383112645395]\n\t-624756017752940690 -> -4499936965109676736 [id=\"-3602988945447969937.args[2]\"]\n\t-4499936965109676736 [label=\"Abstraction.create\" id=-4499936965109676736]\n\t-4499936965109676736 -> -3875335050971398825 [id=\"-4499936965109676736.args[0]\"]\n\t-3875335050971398825 [label=\"Abstraction.create_variable\" id=-3875335050971398825]\n\t-3875335050971398825 -> -4268939887078651459 [id=\"-3875335050971398825.args[0]\"]\n\t-4268939887078651459 [label=\"Variable(4763508352)\" id=-4268939887078651459]\n\t-4499936965109676736 -> -3644965817071629006 [id=\"-4499936965109676736.args[1]\"]\n\t-3644965817071629006 [label=\"Maybe.just\" id=-3644965817071629006]\n\t-3644965817071629006 -> -1669249308957284923 [id=\"-3644965817071629006.args[0]\"]\n\t-1669249308957284923 [label=\"NDArray.__getitem__\" id=-1669249308957284923]\n\t-1669249308957284923 -> 5872572339045335076 [id=\"-1669249308957284923.args[0]\"]\n\t5872572339045335076 [label=\"Pair.left\" id=5872572339045335076]\n\t5872572339045335076 -> -3875335050971398825 [id=\"5872572339045335076.args[0]\"]\n\t-1669249308957284923 -> -9003153576216423860 [id=\"-1669249308957284923.args[1]\"]\n\t-9003153576216423860 [label=\"Pair.right\" id=-9003153576216423860]\n\t-9003153576216423860 -> -3875335050971398825 [id=\"-9003153576216423860.args[0]\"]\n}",
         "label": null,
         "rule": "metadsl_core.abstraction.compose"
        },
        {
         "graph": "digraph {\n\tnode [shape=plain]\n\tedge [arrowsize=0.5 penwidth=0.5]\n\t-7300945258661788980 [label=\"NDArrayCompat.to_ndarray\" id=-1341672716970475800]\n\t-7300945258661788980 -> -5820135210059900471 [id=\"-1341672716970475800.args[0]\"]\n\t-5820135210059900471 [label=\"NDArrayCompat.from_ndarray\" id=-4772016795270189587]\n\t-5820135210059900471 -> -5101555656379093944 [id=\"-4772016795270189587.args[0]\"]\n\t-5101555656379093944 [label=\"Maybe.match\" id=-3602988945447969937]\n\t-5101555656379093944 -> 9140600949285495489 [id=\"-3602988945447969937.args[0]\"]\n\t9140600949285495489 [label=\"Maybe.__and__\" id=-1176136162159317166]\n\t9140600949285495489 -> 4524396411024586149 [id=\"-1176136162159317166.args[0]\"]\n\t4524396411024586149 [label=\"Converter.convert\" id=-2020586981356496369]\n\t4524396411024586149 -> -4551908584128113951 [id=\"-2020586981356496369.args[0]\"]\n\t-4551908584128113951 [label=\"NDArrayCompat.__add__\" id=6785135613727947616]\n\t-4551908584128113951 -> 2402650112385120430 [id=\"6785135613727947616.args[0]\"]\n\t2402650112385120430 [label=\"NDArrayCompat.from_ndarray\" id=-8162579586956751115]\n\t2402650112385120430 -> -6889420331530803721 [id=\"-8162579586956751115.args[0]\"]\n\t-6889420331530803721 [label=\"Abstraction.__call__\" id=-996850803608951878]\n\t-6889420331530803721 -> -6750704868498848563 [id=\"-996850803608951878.args[0]\"]\n\t-6750704868498848563 [label=\"Abstraction.__add__\" id=-7005933830148898301]\n\t-6750704868498848563 -> -8573522558940743683 [id=\"-7005933830148898301.args[0]\"]\n\t-8573522558940743683 [label=\"Abstraction.create\" id=-1894269937027086384]\n\t-8573522558940743683 -> 3608346765094280245 [id=\"-1894269937027086384.args[0]\"]\n\t3608346765094280245 [label=\"Abstraction.create_variable\" id=3608346765094280245]\n\t3608346765094280245 -> 4954432109362218524 [id=\"3608346765094280245.args[0]\"]\n\t4954432109362218524 [label=\"Variable(4762794360)\" id=4954432109362218524]\n\t-8573522558940743683 -> 4096479446876412357 [id=\"-1894269937027086384.args[1]\"]\n\t4096479446876412357 [label=\"Maybe.just\" id=4096479446876412357]\n\t4096479446876412357 -> 3608346765094280245 [id=\"4096479446876412357.args[0]\"]\n\t-6750704868498848563 -> 9003221985443418126 [id=\"-7005933830148898301.args[1]\"]\n\t9003221985443418126 [label=\"Abstraction.create\" id=9003221985443418126]\n\t9003221985443418126 -> 5147401912858767407 [id=\"9003221985443418126.args[0]\"]\n\t5147401912858767407 [label=\"Abstraction.create_variable\" id=5147401912858767407]\n\t5147401912858767407 -> 4954432105590701424 [id=\"5147401912858767407.args[0]\"]\n\t4954432105590701424 [label=\"Variable(4762851256)\" id=4954432105590701424]\n\t9003221985443418126 -> 6757516754014003782 [id=\"9003221985443418126.args[1]\"]\n\t6757516754014003782 [label=arange_ id=6757516754014003782]\n\t6757516754014003782 -> 5147401912858767407 [id=\"6757516754014003782.args[0]\"]\n\t-6889420331530803721 -> -1313138448651871637 [id=\"-996850803608951878.args[1]\"]\n\t-1313138448651871637 [label=\"Integer.from_int\" id=-1313138448651871637]\n\t-1313138448651871637 -> -7737040241287546841 [id=\"-1313138448651871637.args[0]\"]\n\t-7737040241287546841 [label=100 id=-5945887149520679823]\n\t-4551908584128113951 -> -6111134292761862292 [id=\"6785135613727947616.args[1]\"]\n\t-6111134292761862292 [label=\"NDArrayCompat.from_ndarray\" id=-8162579586956751115]\n\t-6111134292761862292 -> 1646416269224374271 [id=\"-8162579586956751115.args[0]\"]\n\t1646416269224374271 [label=\"Maybe.just\" id=-996850803608951878]\n\t1646416269224374271 -> 832424711665835764 [id=\"-996850803608951878.args[0]\"]\n\t832424711665835764 [label=arange_ id=832424711665835764]\n\t832424711665835764 -> -1313138448651871637 [id=\"832424711665835764.args[0]\"]\n\t9140600949285495489 -> -189545260843302981 [id=\"-1176136162159317166.args[1]\"]\n\t-189545260843302981 [label=\"Maybe.just\" id=-3702009093770552402]\n\t-189545260843302981 -> -8215238012704140842 [id=\"-3702009093770552402.args[0]\"]\n\t-8215238012704140842 [label=\"Either.left\" id=-8215238012704140842]\n\t-8215238012704140842 -> 2507768681348984026 [id=\"-8215238012704140842.args[0]\"]\n\t2507768681348984026 [label=\"Integer.from_int\" id=2507768681348984026]\n\t2507768681348984026 -> -7737040241182541916 [id=\"2507768681348984026.args[0]\"]\n\t-7737040241182541916 [label=5 id=-3794084279707917178]\n\t-5101555656379093944 -> 9032834383112645395 [id=\"-3602988945447969937.args[1]\"]\n\t9032834383112645395 [label=\"Maybe.nothing\" id=9032834383112645395]\n\t-5101555656379093944 -> -4499936965109676736 [id=\"-3602988945447969937.args[2]\"]\n\t-4499936965109676736 [label=\"Abstraction.create\" id=-4499936965109676736]\n\t-4499936965109676736 -> -3875335050971398825 [id=\"-4499936965109676736.args[0]\"]\n\t-3875335050971398825 [label=\"Abstraction.create_variable\" id=-3875335050971398825]\n\t-3875335050971398825 -> -4268939887078651459 [id=\"-3875335050971398825.args[0]\"]\n\t-4268939887078651459 [label=\"Variable(4763508352)\" id=-4268939887078651459]\n\t-4499936965109676736 -> -3644965817071629006 [id=\"-4499936965109676736.args[1]\"]\n\t-3644965817071629006 [label=\"Maybe.just\" id=-3644965817071629006]\n\t-3644965817071629006 -> -1669249308957284923 [id=\"-3644965817071629006.args[0]\"]\n\t-1669249308957284923 [label=\"NDArray.__getitem__\" id=-1669249308957284923]\n\t-1669249308957284923 -> 5872572339045335076 [id=\"-1669249308957284923.args[0]\"]\n\t5872572339045335076 [label=\"Pair.left\" id=5872572339045335076]\n\t5872572339045335076 -> -3875335050971398825 [id=\"5872572339045335076.args[0]\"]\n\t-1669249308957284923 -> -9003153576216423860 [id=\"-1669249308957284923.args[1]\"]\n\t-9003153576216423860 [label=\"Pair.right\" id=-9003153576216423860]\n\t-9003153576216423860 -> -3875335050971398825 [id=\"-9003153576216423860.args[0]\"]\n}",
         "label": null,
         "rule": "metadsl_core.abstraction.beta_reduce"
        },
        {
         "graph": "digraph {\n\tnode [shape=plain]\n\tedge [arrowsize=0.5 penwidth=0.5]\n\t-8274878410779129228 [label=\"NDArrayCompat.to_ndarray\" id=-1341672716970475800]\n\t-8274878410779129228 -> 282018134317802959 [id=\"-1341672716970475800.args[0]\"]\n\t282018134317802959 [label=\"NDArrayCompat.from_ndarray\" id=-4772016795270189587]\n\t282018134317802959 -> -2566616952428506439 [id=\"-4772016795270189587.args[0]\"]\n\t-2566616952428506439 [label=\"Maybe.match\" id=-3602988945447969937]\n\t-2566616952428506439 -> -6393243522916429279 [id=\"-3602988945447969937.args[0]\"]\n\t-6393243522916429279 [label=\"Maybe.__and__\" id=-1176136162159317166]\n\t-6393243522916429279 -> 1567377495173190982 [id=\"-1176136162159317166.args[0]\"]\n\t1567377495173190982 [label=\"Converter.convert\" id=-2020586981356496369]\n\t1567377495173190982 -> 1771717578222139719 [id=\"-2020586981356496369.args[0]\"]\n\t1771717578222139719 [label=\"NDArrayCompat.__add__\" id=6785135613727947616]\n\t1771717578222139719 -> 683939614474263945 [id=\"6785135613727947616.args[0]\"]\n\t683939614474263945 [label=\"NDArrayCompat.from_ndarray\" id=-8162579586956751115]\n\t683939614474263945 -> -6242270009852743544 [id=\"-8162579586956751115.args[0]\"]\n\t-6242270009852743544 [label=\"Abstraction.__call__\" id=-996850803608951878]\n\t-6242270009852743544 -> 5754708566465572294 [id=\"-996850803608951878.args[0]\"]\n\t5754708566465572294 [label=\"Abstraction.create\" id=-7005933830148898301]\n\t5754708566465572294 -> 5147401912858767407 [id=\"-7005933830148898301.args[0]\"]\n\t5147401912858767407 [label=\"Abstraction.create_variable\" id=5147401912858767407]\n\t5147401912858767407 -> 4954432105590701424 [id=\"5147401912858767407.args[0]\"]\n\t4954432105590701424 [label=\"Variable(4762851256)\" id=4954432105590701424]\n\t5754708566465572294 -> 7706625741413645411 [id=\"-7005933830148898301.args[1]\"]\n\t7706625741413645411 [label=\"Maybe.just\" id=7706625741413645411]\n\t7706625741413645411 -> 6757516754014003782 [id=\"7706625741413645411.args[0]\"]\n\t6757516754014003782 [label=arange_ id=6757516754014003782]\n\t6757516754014003782 -> 5147401912858767407 [id=\"6757516754014003782.args[0]\"]\n\t-6242270009852743544 -> -1313138448651871637 [id=\"-996850803608951878.args[1]\"]\n\t-1313138448651871637 [label=\"Integer.from_int\" id=-1313138448651871637]\n\t-1313138448651871637 -> -7737040241287546841 [id=\"-1313138448651871637.args[0]\"]\n\t-7737040241287546841 [label=100 id=-5945887149520679823]\n\t1771717578222139719 -> -6111134292761862292 [id=\"6785135613727947616.args[1]\"]\n\t-6111134292761862292 [label=\"NDArrayCompat.from_ndarray\" id=-8162579586956751115]\n\t-6111134292761862292 -> 1646416269224374271 [id=\"-8162579586956751115.args[0]\"]\n\t1646416269224374271 [label=\"Maybe.just\" id=-996850803608951878]\n\t1646416269224374271 -> 832424711665835764 [id=\"-996850803608951878.args[0]\"]\n\t832424711665835764 [label=arange_ id=832424711665835764]\n\t832424711665835764 -> -1313138448651871637 [id=\"832424711665835764.args[0]\"]\n\t-6393243522916429279 -> -189545260843302981 [id=\"-1176136162159317166.args[1]\"]\n\t-189545260843302981 [label=\"Maybe.just\" id=-3702009093770552402]\n\t-189545260843302981 -> -8215238012704140842 [id=\"-3702009093770552402.args[0]\"]\n\t-8215238012704140842 [label=\"Either.left\" id=-8215238012704140842]\n\t-8215238012704140842 -> 2507768681348984026 [id=\"-8215238012704140842.args[0]\"]\n\t2507768681348984026 [label=\"Integer.from_int\" id=2507768681348984026]\n\t2507768681348984026 -> -7737040241182541916 [id=\"2507768681348984026.args[0]\"]\n\t-7737040241182541916 [label=5 id=-3794084279707917178]\n\t-2566616952428506439 -> 9032834383112645395 [id=\"-3602988945447969937.args[1]\"]\n\t9032834383112645395 [label=\"Maybe.nothing\" id=9032834383112645395]\n\t-2566616952428506439 -> -4499936965109676736 [id=\"-3602988945447969937.args[2]\"]\n\t-4499936965109676736 [label=\"Abstraction.create\" id=-4499936965109676736]\n\t-4499936965109676736 -> -3875335050971398825 [id=\"-4499936965109676736.args[0]\"]\n\t-3875335050971398825 [label=\"Abstraction.create_variable\" id=-3875335050971398825]\n\t-3875335050971398825 -> -4268939887078651459 [id=\"-3875335050971398825.args[0]\"]\n\t-4268939887078651459 [label=\"Variable(4763508352)\" id=-4268939887078651459]\n\t-4499936965109676736 -> -3644965817071629006 [id=\"-4499936965109676736.args[1]\"]\n\t-3644965817071629006 [label=\"Maybe.just\" id=-3644965817071629006]\n\t-3644965817071629006 -> -1669249308957284923 [id=\"-3644965817071629006.args[0]\"]\n\t-1669249308957284923 [label=\"NDArray.__getitem__\" id=-1669249308957284923]\n\t-1669249308957284923 -> 5872572339045335076 [id=\"-1669249308957284923.args[0]\"]\n\t5872572339045335076 [label=\"Pair.left\" id=5872572339045335076]\n\t5872572339045335076 -> -3875335050971398825 [id=\"5872572339045335076.args[0]\"]\n\t-1669249308957284923 -> -9003153576216423860 [id=\"-1669249308957284923.args[1]\"]\n\t-9003153576216423860 [label=\"Pair.right\" id=-9003153576216423860]\n\t-9003153576216423860 -> -3875335050971398825 [id=\"-9003153576216423860.args[0]\"]\n}",
         "label": null,
         "rule": "metadsl_core.abstraction.compose"
        },
        {
         "graph": "digraph {\n\tnode [shape=plain]\n\tedge [arrowsize=0.5 penwidth=0.5]\n\t4059132800542100512 [label=\"NDArrayCompat.to_ndarray\" id=-1341672716970475800]\n\t4059132800542100512 -> -5146268985716721595 [id=\"-1341672716970475800.args[0]\"]\n\t-5146268985716721595 [label=\"NDArrayCompat.from_ndarray\" id=-4772016795270189587]\n\t-5146268985716721595 -> 1346994866555586890 [id=\"-4772016795270189587.args[0]\"]\n\t1346994866555586890 [label=\"Maybe.match\" id=-3602988945447969937]\n\t1346994866555586890 -> 7346142444234164539 [id=\"-3602988945447969937.args[0]\"]\n\t7346142444234164539 [label=\"Maybe.__and__\" id=-1176136162159317166]\n\t7346142444234164539 -> -740474970012110432 [id=\"-1176136162159317166.args[0]\"]\n\t-740474970012110432 [label=\"Converter.convert\" id=-2020586981356496369]\n\t-740474970012110432 -> 4512585717378328880 [id=\"-2020586981356496369.args[0]\"]\n\t4512585717378328880 [label=\"NDArrayCompat.__add__\" id=6785135613727947616]\n\t4512585717378328880 -> -6111134292761862292 [id=\"6785135613727947616.args[0]\"]\n\t-6111134292761862292 [label=\"NDArrayCompat.from_ndarray\" id=-8162579586956751115]\n\t-6111134292761862292 -> 1646416269224374271 [id=\"-8162579586956751115.args[0]\"]\n\t1646416269224374271 [label=\"Maybe.just\" id=-996850803608951878]\n\t1646416269224374271 -> 832424711665835764 [id=\"-996850803608951878.args[0]\"]\n\t832424711665835764 [label=arange_ id=832424711665835764]\n\t832424711665835764 -> -1313138448651871637 [id=\"832424711665835764.args[0]\"]\n\t-1313138448651871637 [label=\"Integer.from_int\" id=-1313138448651871637]\n\t-1313138448651871637 -> -7737040241287546841 [id=\"-1313138448651871637.args[0]\"]\n\t-7737040241287546841 [label=100 id=-5945887149520679823]\n\t4512585717378328880 -> -6111134292761862292 [id=\"6785135613727947616.args[1]\"]\n\t7346142444234164539 -> -189545260843302981 [id=\"-1176136162159317166.args[1]\"]\n\t-189545260843302981 [label=\"Maybe.just\" id=-3702009093770552402]\n\t-189545260843302981 -> -8215238012704140842 [id=\"-3702009093770552402.args[0]\"]\n\t-8215238012704140842 [label=\"Either.left\" id=-8215238012704140842]\n\t-8215238012704140842 -> 2507768681348984026 [id=\"-8215238012704140842.args[0]\"]\n\t2507768681348984026 [label=\"Integer.from_int\" id=2507768681348984026]\n\t2507768681348984026 -> -7737040241182541916 [id=\"2507768681348984026.args[0]\"]\n\t-7737040241182541916 [label=5 id=-3794084279707917178]\n\t1346994866555586890 -> 9032834383112645395 [id=\"-3602988945447969937.args[1]\"]\n\t9032834383112645395 [label=\"Maybe.nothing\" id=9032834383112645395]\n\t1346994866555586890 -> -4499936965109676736 [id=\"-3602988945447969937.args[2]\"]\n\t-4499936965109676736 [label=\"Abstraction.create\" id=-4499936965109676736]\n\t-4499936965109676736 -> -3875335050971398825 [id=\"-4499936965109676736.args[0]\"]\n\t-3875335050971398825 [label=\"Abstraction.create_variable\" id=-3875335050971398825]\n\t-3875335050971398825 -> -4268939887078651459 [id=\"-3875335050971398825.args[0]\"]\n\t-4268939887078651459 [label=\"Variable(4763508352)\" id=-4268939887078651459]\n\t-4499936965109676736 -> -3644965817071629006 [id=\"-4499936965109676736.args[1]\"]\n\t-3644965817071629006 [label=\"Maybe.just\" id=-3644965817071629006]\n\t-3644965817071629006 -> -1669249308957284923 [id=\"-3644965817071629006.args[0]\"]\n\t-1669249308957284923 [label=\"NDArray.__getitem__\" id=-1669249308957284923]\n\t-1669249308957284923 -> 5872572339045335076 [id=\"-1669249308957284923.args[0]\"]\n\t5872572339045335076 [label=\"Pair.left\" id=5872572339045335076]\n\t5872572339045335076 -> -3875335050971398825 [id=\"5872572339045335076.args[0]\"]\n\t-1669249308957284923 -> -9003153576216423860 [id=\"-1669249308957284923.args[1]\"]\n\t-9003153576216423860 [label=\"Pair.right\" id=-9003153576216423860]\n\t-9003153576216423860 -> -3875335050971398825 [id=\"-9003153576216423860.args[0]\"]\n}",
         "label": null,
         "rule": "metadsl_core.abstraction.beta_reduce"
        },
        {
         "graph": "digraph {\n\tnode [shape=plain]\n\tedge [arrowsize=0.5 penwidth=0.5]\n\t2199921499689994227 [label=\"NDArrayCompat.to_ndarray\" id=-1341672716970475800]\n\t2199921499689994227 -> 7851904239571723065 [id=\"-1341672716970475800.args[0]\"]\n\t7851904239571723065 [label=\"NDArrayCompat.from_ndarray\" id=-4772016795270189587]\n\t7851904239571723065 -> 6528523215535393012 [id=\"-4772016795270189587.args[0]\"]\n\t6528523215535393012 [label=\"Maybe.match\" id=-3602988945447969937]\n\t6528523215535393012 -> 3930569333833847279 [id=\"-3602988945447969937.args[0]\"]\n\t3930569333833847279 [label=\"Maybe.__and__\" id=-1176136162159317166]\n\t3930569333833847279 -> 5646358865148850642 [id=\"-1176136162159317166.args[0]\"]\n\t5646358865148850642 [label=\"Converter.convert\" id=-2020586981356496369]\n\t5646358865148850642 -> -4321933172678497012 [id=\"-2020586981356496369.args[0]\"]\n\t-4321933172678497012 [label=\"NDArrayCompat.from_ndarray\" id=6785135613727947616]\n\t-4321933172678497012 -> 1189092641968672543 [id=\"6785135613727947616.args[0]\"]\n\t1189092641968672543 [label=\"Maybe.just\" id=-2020586981356496369]\n\t1189092641968672543 -> 7005412116804673500 [id=\"-2020586981356496369.args[0]\"]\n\t7005412116804673500 [label=\"NDArray.__add__\" id=-3791942308469970679]\n\t7005412116804673500 -> 832424711665835764 [id=\"-3791942308469970679.args[0]\"]\n\t832424711665835764 [label=arange_ id=832424711665835764]\n\t832424711665835764 -> -1313138448651871637 [id=\"832424711665835764.args[0]\"]\n\t-1313138448651871637 [label=\"Integer.from_int\" id=-1313138448651871637]\n\t-1313138448651871637 -> -7737040241287546841 [id=\"-1313138448651871637.args[0]\"]\n\t-7737040241287546841 [label=100 id=-5945887149520679823]\n\t7005412116804673500 -> 832424711665835764 [id=\"-3791942308469970679.args[1]\"]\n\t3930569333833847279 -> -189545260843302981 [id=\"-1176136162159317166.args[1]\"]\n\t-189545260843302981 [label=\"Maybe.just\" id=-3702009093770552402]\n\t-189545260843302981 -> -8215238012704140842 [id=\"-3702009093770552402.args[0]\"]\n\t-8215238012704140842 [label=\"Either.left\" id=-8215238012704140842]\n\t-8215238012704140842 -> 2507768681348984026 [id=\"-8215238012704140842.args[0]\"]\n\t2507768681348984026 [label=\"Integer.from_int\" id=2507768681348984026]\n\t2507768681348984026 -> -7737040241182541916 [id=\"2507768681348984026.args[0]\"]\n\t-7737040241182541916 [label=5 id=-3794084279707917178]\n\t6528523215535393012 -> 9032834383112645395 [id=\"-3602988945447969937.args[1]\"]\n\t9032834383112645395 [label=\"Maybe.nothing\" id=9032834383112645395]\n\t6528523215535393012 -> -4499936965109676736 [id=\"-3602988945447969937.args[2]\"]\n\t-4499936965109676736 [label=\"Abstraction.create\" id=-4499936965109676736]\n\t-4499936965109676736 -> -3875335050971398825 [id=\"-4499936965109676736.args[0]\"]\n\t-3875335050971398825 [label=\"Abstraction.create_variable\" id=-3875335050971398825]\n\t-3875335050971398825 -> -4268939887078651459 [id=\"-3875335050971398825.args[0]\"]\n\t-4268939887078651459 [label=\"Variable(4763508352)\" id=-4268939887078651459]\n\t-4499936965109676736 -> -3644965817071629006 [id=\"-4499936965109676736.args[1]\"]\n\t-3644965817071629006 [label=\"Maybe.just\" id=-3644965817071629006]\n\t-3644965817071629006 -> -1669249308957284923 [id=\"-3644965817071629006.args[0]\"]\n\t-1669249308957284923 [label=\"NDArray.__getitem__\" id=-1669249308957284923]\n\t-1669249308957284923 -> 5872572339045335076 [id=\"-1669249308957284923.args[0]\"]\n\t5872572339045335076 [label=\"Pair.left\" id=5872572339045335076]\n\t5872572339045335076 -> -3875335050971398825 [id=\"5872572339045335076.args[0]\"]\n\t-1669249308957284923 -> -9003153576216423860 [id=\"-1669249308957284923.args[1]\"]\n\t-9003153576216423860 [label=\"Pair.right\" id=-9003153576216423860]\n\t-9003153576216423860 -> -3875335050971398825 [id=\"-9003153576216423860.args[0]\"]\n}",
         "label": null,
         "rule": "metadsl_core.numpy.add_compat"
        },
        {
         "graph": "digraph {\n\tnode [shape=plain]\n\tedge [arrowsize=0.5 penwidth=0.5]\n\t8054916738897729293 [label=\"NDArrayCompat.to_ndarray\" id=-1341672716970475800]\n\t8054916738897729293 -> 3720862681910269017 [id=\"-1341672716970475800.args[0]\"]\n\t3720862681910269017 [label=\"NDArrayCompat.from_ndarray\" id=-4772016795270189587]\n\t3720862681910269017 -> 6681686493132688404 [id=\"-4772016795270189587.args[0]\"]\n\t6681686493132688404 [label=\"Maybe.match\" id=-3602988945447969937]\n\t6681686493132688404 -> 1614487485264017680 [id=\"-3602988945447969937.args[0]\"]\n\t1614487485264017680 [label=\"Maybe.__and__\" id=-1176136162159317166]\n\t1614487485264017680 -> 1189092641968672543 [id=\"-1176136162159317166.args[0]\"]\n\t1189092641968672543 [label=\"Maybe.just\" id=-2020586981356496369]\n\t1189092641968672543 -> 7005412116804673500 [id=\"-2020586981356496369.args[0]\"]\n\t7005412116804673500 [label=\"NDArray.__add__\" id=-3791942308469970679]\n\t7005412116804673500 -> 832424711665835764 [id=\"-3791942308469970679.args[0]\"]\n\t832424711665835764 [label=arange_ id=832424711665835764]\n\t832424711665835764 -> -1313138448651871637 [id=\"832424711665835764.args[0]\"]\n\t-1313138448651871637 [label=\"Integer.from_int\" id=-1313138448651871637]\n\t-1313138448651871637 -> -7737040241287546841 [id=\"-1313138448651871637.args[0]\"]\n\t-7737040241287546841 [label=100 id=-5945887149520679823]\n\t7005412116804673500 -> 832424711665835764 [id=\"-3791942308469970679.args[1]\"]\n\t1614487485264017680 -> -189545260843302981 [id=\"-1176136162159317166.args[1]\"]\n\t-189545260843302981 [label=\"Maybe.just\" id=-3702009093770552402]\n\t-189545260843302981 -> -8215238012704140842 [id=\"-3702009093770552402.args[0]\"]\n\t-8215238012704140842 [label=\"Either.left\" id=-8215238012704140842]\n\t-8215238012704140842 -> 2507768681348984026 [id=\"-8215238012704140842.args[0]\"]\n\t2507768681348984026 [label=\"Integer.from_int\" id=2507768681348984026]\n\t2507768681348984026 -> -7737040241182541916 [id=\"2507768681348984026.args[0]\"]\n\t-7737040241182541916 [label=5 id=-3794084279707917178]\n\t6681686493132688404 -> 9032834383112645395 [id=\"-3602988945447969937.args[1]\"]\n\t9032834383112645395 [label=\"Maybe.nothing\" id=9032834383112645395]\n\t6681686493132688404 -> -4499936965109676736 [id=\"-3602988945447969937.args[2]\"]\n\t-4499936965109676736 [label=\"Abstraction.create\" id=-4499936965109676736]\n\t-4499936965109676736 -> -3875335050971398825 [id=\"-4499936965109676736.args[0]\"]\n\t-3875335050971398825 [label=\"Abstraction.create_variable\" id=-3875335050971398825]\n\t-3875335050971398825 -> -4268939887078651459 [id=\"-3875335050971398825.args[0]\"]\n\t-4268939887078651459 [label=\"Variable(4763508352)\" id=-4268939887078651459]\n\t-4499936965109676736 -> -3644965817071629006 [id=\"-4499936965109676736.args[1]\"]\n\t-3644965817071629006 [label=\"Maybe.just\" id=-3644965817071629006]\n\t-3644965817071629006 -> -1669249308957284923 [id=\"-3644965817071629006.args[0]\"]\n\t-1669249308957284923 [label=\"NDArray.__getitem__\" id=-1669249308957284923]\n\t-1669249308957284923 -> 5872572339045335076 [id=\"-1669249308957284923.args[0]\"]\n\t5872572339045335076 [label=\"Pair.left\" id=5872572339045335076]\n\t5872572339045335076 -> -3875335050971398825 [id=\"5872572339045335076.args[0]\"]\n\t-1669249308957284923 -> -9003153576216423860 [id=\"-1669249308957284923.args[1]\"]\n\t-9003153576216423860 [label=\"Pair.right\" id=-9003153576216423860]\n\t-9003153576216423860 -> -3875335050971398825 [id=\"-9003153576216423860.args[0]\"]\n}",
         "label": null,
         "rule": "metadsl_core.numpy.convert_to_ndarray"
        },
        {
         "graph": "digraph {\n\tnode [shape=plain]\n\tedge [arrowsize=0.5 penwidth=0.5]\n\t7774466691886965714 [label=\"NDArrayCompat.to_ndarray\" id=-1341672716970475800]\n\t7774466691886965714 -> 4148660906229533928 [id=\"-1341672716970475800.args[0]\"]\n\t4148660906229533928 [label=\"NDArrayCompat.from_ndarray\" id=-4772016795270189587]\n\t4148660906229533928 -> 4760557859767829457 [id=\"-4772016795270189587.args[0]\"]\n\t4760557859767829457 [label=\"Maybe.match\" id=-3602988945447969937]\n\t4760557859767829457 -> -2556112163304457 [id=\"-3602988945447969937.args[0]\"]\n\t-2556112163304457 [label=\"Maybe.just\" id=-1176136162159317166]\n\t-2556112163304457 -> 5958914858003784629 [id=\"-1176136162159317166.args[0]\"]\n\t5958914858003784629 [label=\"Pair.create\" id=5958914858003784629]\n\t5958914858003784629 -> 7005412116804673500 [id=\"5958914858003784629.args[0]\"]\n\t7005412116804673500 [label=\"NDArray.__add__\" id=-3791942308469970679]\n\t7005412116804673500 -> 832424711665835764 [id=\"-3791942308469970679.args[0]\"]\n\t832424711665835764 [label=arange_ id=832424711665835764]\n\t832424711665835764 -> -1313138448651871637 [id=\"832424711665835764.args[0]\"]\n\t-1313138448651871637 [label=\"Integer.from_int\" id=-1313138448651871637]\n\t-1313138448651871637 -> -7737040241287546841 [id=\"-1313138448651871637.args[0]\"]\n\t-7737040241287546841 [label=100 id=-5945887149520679823]\n\t7005412116804673500 -> 832424711665835764 [id=\"-3791942308469970679.args[1]\"]\n\t5958914858003784629 -> -8215238012704140842 [id=\"5958914858003784629.args[1]\"]\n\t-8215238012704140842 [label=\"Either.left\" id=-8215238012704140842]\n\t-8215238012704140842 -> 2507768681348984026 [id=\"-8215238012704140842.args[0]\"]\n\t2507768681348984026 [label=\"Integer.from_int\" id=2507768681348984026]\n\t2507768681348984026 -> -7737040241182541916 [id=\"2507768681348984026.args[0]\"]\n\t-7737040241182541916 [label=5 id=-3794084279707917178]\n\t4760557859767829457 -> 9032834383112645395 [id=\"-3602988945447969937.args[1]\"]\n\t9032834383112645395 [label=\"Maybe.nothing\" id=9032834383112645395]\n\t4760557859767829457 -> -4499936965109676736 [id=\"-3602988945447969937.args[2]\"]\n\t-4499936965109676736 [label=\"Abstraction.create\" id=-4499936965109676736]\n\t-4499936965109676736 -> -3875335050971398825 [id=\"-4499936965109676736.args[0]\"]\n\t-3875335050971398825 [label=\"Abstraction.create_variable\" id=-3875335050971398825]\n\t-3875335050971398825 -> -4268939887078651459 [id=\"-3875335050971398825.args[0]\"]\n\t-4268939887078651459 [label=\"Variable(4763508352)\" id=-4268939887078651459]\n\t-4499936965109676736 -> -3644965817071629006 [id=\"-4499936965109676736.args[1]\"]\n\t-3644965817071629006 [label=\"Maybe.just\" id=-3644965817071629006]\n\t-3644965817071629006 -> -1669249308957284923 [id=\"-3644965817071629006.args[0]\"]\n\t-1669249308957284923 [label=\"NDArray.__getitem__\" id=-1669249308957284923]\n\t-1669249308957284923 -> 5872572339045335076 [id=\"-1669249308957284923.args[0]\"]\n\t5872572339045335076 [label=\"Pair.left\" id=5872572339045335076]\n\t5872572339045335076 -> -3875335050971398825 [id=\"5872572339045335076.args[0]\"]\n\t-1669249308957284923 -> -9003153576216423860 [id=\"-1669249308957284923.args[1]\"]\n\t-9003153576216423860 [label=\"Pair.right\" id=-9003153576216423860]\n\t-9003153576216423860 -> -3875335050971398825 [id=\"-9003153576216423860.args[0]\"]\n}",
         "label": null,
         "rule": "metadsl_core.maybe.maybe_and"
        },
        {
         "graph": "digraph {\n\tnode [shape=plain]\n\tedge [arrowsize=0.5 penwidth=0.5]\n\t6235089413555795872 [label=\"NDArrayCompat.to_ndarray\" id=-1341672716970475800]\n\t6235089413555795872 -> 7248706430206136000 [id=\"-1341672716970475800.args[0]\"]\n\t7248706430206136000 [label=\"NDArrayCompat.from_ndarray\" id=-4772016795270189587]\n\t7248706430206136000 -> 5784105435553705849 [id=\"-4772016795270189587.args[0]\"]\n\t5784105435553705849 [label=\"Abstraction.__call__\" id=-3602988945447969937]\n\t5784105435553705849 -> -4499936965109676736 [id=\"-3602988945447969937.args[0]\"]\n\t-4499936965109676736 [label=\"Abstraction.create\" id=-4499936965109676736]\n\t-4499936965109676736 -> -3875335050971398825 [id=\"-4499936965109676736.args[0]\"]\n\t-3875335050971398825 [label=\"Abstraction.create_variable\" id=-3875335050971398825]\n\t-3875335050971398825 -> -4268939887078651459 [id=\"-3875335050971398825.args[0]\"]\n\t-4268939887078651459 [label=\"Variable(4763508352)\" id=-4268939887078651459]\n\t-4499936965109676736 -> -3644965817071629006 [id=\"-4499936965109676736.args[1]\"]\n\t-3644965817071629006 [label=\"Maybe.just\" id=-3644965817071629006]\n\t-3644965817071629006 -> -1669249308957284923 [id=\"-3644965817071629006.args[0]\"]\n\t-1669249308957284923 [label=\"NDArray.__getitem__\" id=-1669249308957284923]\n\t-1669249308957284923 -> 5872572339045335076 [id=\"-1669249308957284923.args[0]\"]\n\t5872572339045335076 [label=\"Pair.left\" id=5872572339045335076]\n\t5872572339045335076 -> -3875335050971398825 [id=\"5872572339045335076.args[0]\"]\n\t-1669249308957284923 -> -9003153576216423860 [id=\"-1669249308957284923.args[1]\"]\n\t-9003153576216423860 [label=\"Pair.right\" id=-9003153576216423860]\n\t-9003153576216423860 -> -3875335050971398825 [id=\"-9003153576216423860.args[0]\"]\n\t5784105435553705849 -> 5958914858003784629 [id=\"-3602988945447969937.args[1]\"]\n\t5958914858003784629 [label=\"Pair.create\" id=5958914858003784629]\n\t5958914858003784629 -> 7005412116804673500 [id=\"5958914858003784629.args[0]\"]\n\t7005412116804673500 [label=\"NDArray.__add__\" id=-3791942308469970679]\n\t7005412116804673500 -> 832424711665835764 [id=\"-3791942308469970679.args[0]\"]\n\t832424711665835764 [label=arange_ id=832424711665835764]\n\t832424711665835764 -> -1313138448651871637 [id=\"832424711665835764.args[0]\"]\n\t-1313138448651871637 [label=\"Integer.from_int\" id=-1313138448651871637]\n\t-1313138448651871637 -> -7737040241287546841 [id=\"-1313138448651871637.args[0]\"]\n\t-7737040241287546841 [label=100 id=-5945887149520679823]\n\t7005412116804673500 -> 832424711665835764 [id=\"-3791942308469970679.args[1]\"]\n\t5958914858003784629 -> -8215238012704140842 [id=\"5958914858003784629.args[1]\"]\n\t-8215238012704140842 [label=\"Either.left\" id=-8215238012704140842]\n\t-8215238012704140842 -> 2507768681348984026 [id=\"-8215238012704140842.args[0]\"]\n\t2507768681348984026 [label=\"Integer.from_int\" id=2507768681348984026]\n\t2507768681348984026 -> -7737040241182541916 [id=\"2507768681348984026.args[0]\"]\n\t-7737040241182541916 [label=5 id=-3794084279707917178]\n}",
         "label": null,
         "rule": "metadsl_core.maybe.maybe_match"
        },
        {
         "graph": "digraph {\n\tnode [shape=plain]\n\tedge [arrowsize=0.5 penwidth=0.5]\n\t-2825182354181474218 [label=\"NDArrayCompat.to_ndarray\" id=-1341672716970475800]\n\t-2825182354181474218 -> -6431450014531788569 [id=\"-1341672716970475800.args[0]\"]\n\t-6431450014531788569 [label=\"NDArrayCompat.from_ndarray\" id=-4772016795270189587]\n\t-6431450014531788569 -> 1757153991661204000 [id=\"-4772016795270189587.args[0]\"]\n\t1757153991661204000 [label=\"Maybe.just\" id=-3602988945447969937]\n\t1757153991661204000 -> -7358658533967007486 [id=\"-3602988945447969937.args[0]\"]\n\t-7358658533967007486 [label=\"NDArray.__getitem__\" id=-7358658533967007486]\n\t-7358658533967007486 -> -3791942308469970679 [id=\"-7358658533967007486.args[0]\"]\n\t-3791942308469970679 [label=\"Pair.left\" id=-3791942308469970679]\n\t-3791942308469970679 -> 5958914858003784629 [id=\"-3791942308469970679.args[0]\"]\n\t5958914858003784629 [label=\"Pair.create\" id=5958914858003784629]\n\t5958914858003784629 -> 7005412116804673500 [id=\"5958914858003784629.args[0]\"]\n\t7005412116804673500 [label=\"NDArray.__add__\" id=-3791942308469970679]\n\t7005412116804673500 -> 832424711665835764 [id=\"-3791942308469970679.args[0]\"]\n\t832424711665835764 [label=arange_ id=832424711665835764]\n\t832424711665835764 -> -1313138448651871637 [id=\"832424711665835764.args[0]\"]\n\t-1313138448651871637 [label=\"Integer.from_int\" id=-1313138448651871637]\n\t-1313138448651871637 -> -7737040241287546841 [id=\"-1313138448651871637.args[0]\"]\n\t-7737040241287546841 [label=100 id=-5945887149520679823]\n\t7005412116804673500 -> 832424711665835764 [id=\"-3791942308469970679.args[1]\"]\n\t5958914858003784629 -> -8215238012704140842 [id=\"5958914858003784629.args[1]\"]\n\t-8215238012704140842 [label=\"Either.left\" id=-8215238012704140842]\n\t-8215238012704140842 -> 2507768681348984026 [id=\"-8215238012704140842.args[0]\"]\n\t2507768681348984026 [label=\"Integer.from_int\" id=2507768681348984026]\n\t2507768681348984026 -> -7737040241182541916 [id=\"2507768681348984026.args[0]\"]\n\t-7737040241182541916 [label=5 id=-3794084279707917178]\n\t-7358658533967007486 -> 3286866018787861345 [id=\"-7358658533967007486.args[1]\"]\n\t3286866018787861345 [label=\"Pair.right\" id=3286866018787861345]\n\t3286866018787861345 -> 5958914858003784629 [id=\"3286866018787861345.args[0]\"]\n}",
         "label": null,
         "rule": "metadsl_core.abstraction.beta_reduce"
        },
        {
         "graph": "digraph {\n\tnode [shape=plain]\n\tedge [arrowsize=0.5 penwidth=0.5]\n\t4878043911049156648 [label=\"NDArrayCompat.to_ndarray\" id=-1341672716970475800]\n\t4878043911049156648 -> 9151508734577916712 [id=\"-1341672716970475800.args[0]\"]\n\t9151508734577916712 [label=\"NDArrayCompat.from_ndarray\" id=-4772016795270189587]\n\t9151508734577916712 -> -4118936360968403820 [id=\"-4772016795270189587.args[0]\"]\n\t-4118936360968403820 [label=\"Maybe.just\" id=-3602988945447969937]\n\t-4118936360968403820 -> -4849121165648023211 [id=\"-3602988945447969937.args[0]\"]\n\t-4849121165648023211 [label=\"NDArray.__getitem__\" id=-7358658533967007486]\n\t-4849121165648023211 -> -3791942308469970679 [id=\"-7358658533967007486.args[0]\"]\n\t-3791942308469970679 [label=\"Pair.left\" id=-3791942308469970679]\n\t-3791942308469970679 -> 5958914858003784629 [id=\"-3791942308469970679.args[0]\"]\n\t5958914858003784629 [label=\"Pair.create\" id=5958914858003784629]\n\t5958914858003784629 -> 7005412116804673500 [id=\"5958914858003784629.args[0]\"]\n\t7005412116804673500 [label=\"NDArray.__add__\" id=-3791942308469970679]\n\t7005412116804673500 -> 832424711665835764 [id=\"-3791942308469970679.args[0]\"]\n\t832424711665835764 [label=arange_ id=832424711665835764]\n\t832424711665835764 -> -1313138448651871637 [id=\"832424711665835764.args[0]\"]\n\t-1313138448651871637 [label=\"Integer.from_int\" id=-1313138448651871637]\n\t-1313138448651871637 -> -7737040241287546841 [id=\"-1313138448651871637.args[0]\"]\n\t-7737040241287546841 [label=100 id=-5945887149520679823]\n\t7005412116804673500 -> 832424711665835764 [id=\"-3791942308469970679.args[1]\"]\n\t5958914858003784629 -> -8215238012704140842 [id=\"5958914858003784629.args[1]\"]\n\t-8215238012704140842 [label=\"Either.left\" id=-8215238012704140842]\n\t-8215238012704140842 -> 2507768681348984026 [id=\"-8215238012704140842.args[0]\"]\n\t2507768681348984026 [label=\"Integer.from_int\" id=2507768681348984026]\n\t2507768681348984026 -> -7737040241182541916 [id=\"2507768681348984026.args[0]\"]\n\t-7737040241182541916 [label=5 id=-3794084279707917178]\n\t-4849121165648023211 -> -8215238012704140842 [id=\"-7358658533967007486.args[1]\"]\n}",
         "label": null,
         "rule": "metadsl_core.pair.pair_right"
        },
        {
         "graph": "digraph {\n\tnode [shape=plain]\n\tedge [arrowsize=0.5 penwidth=0.5]\n\t6639613543171332087 [label=\"NDArrayCompat.to_ndarray\" id=-1341672716970475800]\n\t6639613543171332087 -> -1772126965539794600 [id=\"-1341672716970475800.args[0]\"]\n\t-1772126965539794600 [label=\"NDArrayCompat.from_ndarray\" id=-4772016795270189587]\n\t-1772126965539794600 -> -6652966630813919611 [id=\"-4772016795270189587.args[0]\"]\n\t-6652966630813919611 [label=\"Maybe.just\" id=-3602988945447969937]\n\t-6652966630813919611 -> -130684388737434378 [id=\"-3602988945447969937.args[0]\"]\n\t-130684388737434378 [label=\"NDArray.__getitem__\" id=-7358658533967007486]\n\t-130684388737434378 -> 7005412116804673500 [id=\"-7358658533967007486.args[0]\"]\n\t7005412116804673500 [label=\"NDArray.__add__\" id=-3791942308469970679]\n\t7005412116804673500 -> 832424711665835764 [id=\"-3791942308469970679.args[0]\"]\n\t832424711665835764 [label=arange_ id=832424711665835764]\n\t832424711665835764 -> -1313138448651871637 [id=\"832424711665835764.args[0]\"]\n\t-1313138448651871637 [label=\"Integer.from_int\" id=-1313138448651871637]\n\t-1313138448651871637 -> -7737040241287546841 [id=\"-1313138448651871637.args[0]\"]\n\t-7737040241287546841 [label=100 id=-5945887149520679823]\n\t7005412116804673500 -> 832424711665835764 [id=\"-3791942308469970679.args[1]\"]\n\t-130684388737434378 -> -8215238012704140842 [id=\"-7358658533967007486.args[1]\"]\n\t-8215238012704140842 [label=\"Either.left\" id=-8215238012704140842]\n\t-8215238012704140842 -> 2507768681348984026 [id=\"-8215238012704140842.args[0]\"]\n\t2507768681348984026 [label=\"Integer.from_int\" id=2507768681348984026]\n\t2507768681348984026 -> -7737040241182541916 [id=\"2507768681348984026.args[0]\"]\n\t-7737040241182541916 [label=5 id=-3794084279707917178]\n}",
         "label": null,
         "rule": "metadsl_core.pair.pair_left"
        },
        {
         "graph": "digraph {\n\tnode [shape=plain]\n\tedge [arrowsize=0.5 penwidth=0.5]\n\t6639613543171332087 [label=\"NDArrayCompat.to_ndarray\" id=-1341672716970475800]\n\t6639613543171332087 -> -1772126965539794600 [id=\"-1341672716970475800.args[0]\"]\n\t-1772126965539794600 [label=\"NDArrayCompat.from_ndarray\" id=-4772016795270189587]\n\t-1772126965539794600 -> -6652966630813919611 [id=\"-4772016795270189587.args[0]\"]\n\t-6652966630813919611 [label=\"Maybe.just\" id=-3602988945447969937]\n\t-6652966630813919611 -> -130684388737434378 [id=\"-3602988945447969937.args[0]\"]\n\t-130684388737434378 [label=\"NDArray.__getitem__\" id=-7358658533967007486]\n\t-130684388737434378 -> 7005412116804673500 [id=\"-7358658533967007486.args[0]\"]\n\t7005412116804673500 [label=\"NDArray.__add__\" id=-3791942308469970679]\n\t7005412116804673500 -> 832424711665835764 [id=\"-3791942308469970679.args[0]\"]\n\t832424711665835764 [label=arange_ id=832424711665835764]\n\t832424711665835764 -> -1313138448651871637 [id=\"832424711665835764.args[0]\"]\n\t-1313138448651871637 [label=\"Integer.from_int\" id=-1313138448651871637]\n\t-1313138448651871637 -> -7737040241287546841 [id=\"-1313138448651871637.args[0]\"]\n\t-7737040241287546841 [label=100 id=-5945887149520679823]\n\t7005412116804673500 -> 832424711665835764 [id=\"-3791942308469970679.args[1]\"]\n\t-130684388737434378 -> -8215238012704140842 [id=\"-7358658533967007486.args[1]\"]\n\t-8215238012704140842 [label=\"Either.left\" id=-8215238012704140842]\n\t-8215238012704140842 -> 2507768681348984026 [id=\"-8215238012704140842.args[0]\"]\n\t2507768681348984026 [label=\"Integer.from_int\" id=2507768681348984026]\n\t2507768681348984026 -> -7737040241182541916 [id=\"2507768681348984026.args[0]\"]\n\t-7737040241182541916 [label=5 id=-3794084279707917178]\n}",
         "label": "convert",
         "rule": ""
        },
        {
         "graph": "digraph {\n\tnode [shape=plain]\n\tedge [arrowsize=0.5 penwidth=0.5]\n\t6736766577269574448 [label=\"NDArrayCompat.to_ndarray\" id=-1341672716970475800]\n\t6736766577269574448 -> 2242880065353338643 [id=\"-1341672716970475800.args[0]\"]\n\t2242880065353338643 [label=\"NDArrayCompat.from_ndarray\" id=-4772016795270189587]\n\t2242880065353338643 -> -1291728310689516092 [id=\"-4772016795270189587.args[0]\"]\n\t-1291728310689516092 [label=\"Maybe.just\" id=-3602988945447969937]\n\t-1291728310689516092 -> -4324498121408073500 [id=\"-3602988945447969937.args[0]\"]\n\t-4324498121408073500 [label=\"NDArray.__add__\" id=-4324498121408073500]\n\t-4324498121408073500 -> -3524978464740929255 [id=\"-4324498121408073500.args[0]\"]\n\t-3524978464740929255 [label=\"NDArray.__getitem__\" id=-3524978464740929255]\n\t-3524978464740929255 -> 832424711665835764 [id=\"-3524978464740929255.args[0]\"]\n\t832424711665835764 [label=arange_ id=832424711665835764]\n\t832424711665835764 -> -1313138448651871637 [id=\"832424711665835764.args[0]\"]\n\t-1313138448651871637 [label=\"Integer.from_int\" id=-1313138448651871637]\n\t-1313138448651871637 -> -7737040241287546841 [id=\"-1313138448651871637.args[0]\"]\n\t-7737040241287546841 [label=100 id=-5945887149520679823]\n\t-3524978464740929255 -> -8215238012704140842 [id=\"-3524978464740929255.args[1]\"]\n\t-8215238012704140842 [label=\"Either.left\" id=-8215238012704140842]\n\t-8215238012704140842 -> 2507768681348984026 [id=\"-8215238012704140842.args[0]\"]\n\t2507768681348984026 [label=\"Integer.from_int\" id=2507768681348984026]\n\t2507768681348984026 -> -7737040241182541916 [id=\"2507768681348984026.args[0]\"]\n\t-7737040241182541916 [label=5 id=-3794084279707917178]\n\t-4324498121408073500 -> -3524978464740929255 [id=\"-4324498121408073500.args[1]\"]\n}",
         "label": null,
         "rule": "__main__.optimize_getitem_add"
        },
        {
         "graph": "digraph {\n\tnode [shape=plain]\n\tedge [arrowsize=0.5 penwidth=0.5]\n\t6736766577269574448 [label=\"NDArrayCompat.to_ndarray\" id=-1341672716970475800]\n\t6736766577269574448 -> 2242880065353338643 [id=\"-1341672716970475800.args[0]\"]\n\t2242880065353338643 [label=\"NDArrayCompat.from_ndarray\" id=-4772016795270189587]\n\t2242880065353338643 -> -1291728310689516092 [id=\"-4772016795270189587.args[0]\"]\n\t-1291728310689516092 [label=\"Maybe.just\" id=-3602988945447969937]\n\t-1291728310689516092 -> -4324498121408073500 [id=\"-3602988945447969937.args[0]\"]\n\t-4324498121408073500 [label=\"NDArray.__add__\" id=-4324498121408073500]\n\t-4324498121408073500 -> -3524978464740929255 [id=\"-4324498121408073500.args[0]\"]\n\t-3524978464740929255 [label=\"NDArray.__getitem__\" id=-3524978464740929255]\n\t-3524978464740929255 -> 832424711665835764 [id=\"-3524978464740929255.args[0]\"]\n\t832424711665835764 [label=arange_ id=832424711665835764]\n\t832424711665835764 -> -1313138448651871637 [id=\"832424711665835764.args[0]\"]\n\t-1313138448651871637 [label=\"Integer.from_int\" id=-1313138448651871637]\n\t-1313138448651871637 -> -7737040241287546841 [id=\"-1313138448651871637.args[0]\"]\n\t-7737040241287546841 [label=100 id=-5945887149520679823]\n\t-3524978464740929255 -> -8215238012704140842 [id=\"-3524978464740929255.args[1]\"]\n\t-8215238012704140842 [label=\"Either.left\" id=-8215238012704140842]\n\t-8215238012704140842 -> 2507768681348984026 [id=\"-8215238012704140842.args[0]\"]\n\t2507768681348984026 [label=\"Integer.from_int\" id=2507768681348984026]\n\t2507768681348984026 -> -7737040241182541916 [id=\"2507768681348984026.args[0]\"]\n\t-7737040241182541916 [label=5 id=-3794084279707917178]\n\t-4324498121408073500 -> -3524978464740929255 [id=\"-4324498121408073500.args[1]\"]\n}",
         "label": "optimize",
         "rule": ""
        },
        {
         "graph": "digraph {\n\tnode [shape=plain]\n\tedge [arrowsize=0.5 penwidth=0.5]\n\t5931344570177817104 [label=\"NDArray.to_ndarray\" id=-1341672716970475800]\n\t5931344570177817104 -> -4324498121408073500 [id=\"-1341672716970475800.args[0]\"]\n\t-4324498121408073500 [label=\"NDArray.__add__\" id=-4324498121408073500]\n\t-4324498121408073500 -> -3524978464740929255 [id=\"-4324498121408073500.args[0]\"]\n\t-3524978464740929255 [label=\"NDArray.__getitem__\" id=-3524978464740929255]\n\t-3524978464740929255 -> 832424711665835764 [id=\"-3524978464740929255.args[0]\"]\n\t832424711665835764 [label=arange_ id=832424711665835764]\n\t832424711665835764 -> -1313138448651871637 [id=\"832424711665835764.args[0]\"]\n\t-1313138448651871637 [label=\"Integer.from_int\" id=-1313138448651871637]\n\t-1313138448651871637 -> -7737040241287546841 [id=\"-1313138448651871637.args[0]\"]\n\t-7737040241287546841 [label=100 id=-5945887149520679823]\n\t-3524978464740929255 -> -8215238012704140842 [id=\"-3524978464740929255.args[1]\"]\n\t-8215238012704140842 [label=\"Either.left\" id=-8215238012704140842]\n\t-8215238012704140842 -> 2507768681348984026 [id=\"-8215238012704140842.args[0]\"]\n\t2507768681348984026 [label=\"Integer.from_int\" id=2507768681348984026]\n\t2507768681348984026 -> -7737040241182541916 [id=\"2507768681348984026.args[0]\"]\n\t-7737040241182541916 [label=5 id=-3794084279707917178]\n\t-4324498121408073500 -> -3524978464740929255 [id=\"-4324498121408073500.args[1]\"]\n}",
         "label": null,
         "rule": "metadsl_core.numpy.box_unbox_ndarray_compat"
        },
        {
         "graph": "digraph {\n\tnode [shape=plain]\n\tedge [arrowsize=0.5 penwidth=0.5]\n\t3625077533213321691 [label=ndarray_add id=-1341672716970475800]\n\t3625077533213321691 -> 61498299686903143 [id=\"-1341672716970475800.args[0]\"]\n\t61498299686903143 [label=\"NDArray.to_ndarray\" id=61498299686903143]\n\t61498299686903143 -> -3524978464740929255 [id=\"61498299686903143.args[0]\"]\n\t-3524978464740929255 [label=\"NDArray.__getitem__\" id=-3524978464740929255]\n\t-3524978464740929255 -> 832424711665835764 [id=\"-3524978464740929255.args[0]\"]\n\t832424711665835764 [label=arange_ id=832424711665835764]\n\t832424711665835764 -> -1313138448651871637 [id=\"832424711665835764.args[0]\"]\n\t-1313138448651871637 [label=\"Integer.from_int\" id=-1313138448651871637]\n\t-1313138448651871637 -> -7737040241287546841 [id=\"-1313138448651871637.args[0]\"]\n\t-7737040241287546841 [label=100 id=-5945887149520679823]\n\t-3524978464740929255 -> -8215238012704140842 [id=\"-3524978464740929255.args[1]\"]\n\t-8215238012704140842 [label=\"Either.left\" id=-8215238012704140842]\n\t-8215238012704140842 -> 2507768681348984026 [id=\"-8215238012704140842.args[0]\"]\n\t2507768681348984026 [label=\"Integer.from_int\" id=2507768681348984026]\n\t2507768681348984026 -> -7737040241182541916 [id=\"2507768681348984026.args[0]\"]\n\t-7737040241182541916 [label=5 id=-3794084279707917178]\n\t3625077533213321691 -> 61498299686903143 [id=\"-1341672716970475800.args[1]\"]\n}",
         "label": null,
         "rule": "metadsl_core.numpy_engine.unbox_ndarray_add"
        },
        {
         "graph": "digraph {\n\tnode [shape=plain]\n\tedge [arrowsize=0.5 penwidth=0.5]\n\t-7236370451967049007 [label=ndarray_add id=-1341672716970475800]\n\t-7236370451967049007 -> -5999552685951690708 [id=\"-1341672716970475800.args[0]\"]\n\t-5999552685951690708 [label=ndarray_getitem id=61498299686903143]\n\t-5999552685951690708 -> -4554451458422625093 [id=\"61498299686903143.args[0]\"]\n\t-4554451458422625093 [label=\"NDArray.to_ndarray\" id=-4554451458422625093]\n\t-4554451458422625093 -> 832424711665835764 [id=\"-4554451458422625093.args[0]\"]\n\t832424711665835764 [label=arange_ id=832424711665835764]\n\t832424711665835764 -> -1313138448651871637 [id=\"832424711665835764.args[0]\"]\n\t-1313138448651871637 [label=\"Integer.from_int\" id=-1313138448651871637]\n\t-1313138448651871637 -> -7737040241287546841 [id=\"-1313138448651871637.args[0]\"]\n\t-7737040241287546841 [label=100 id=-5945887149520679823]\n\t-5999552685951690708 -> -3794084279707917178 [id=\"61498299686903143.args[1]\"]\n\t-3794084279707917178 [label=unbox_idxs id=-3794084279707917178]\n\t-3794084279707917178 -> -8215238012704140842 [id=\"-3794084279707917178.args[0]\"]\n\t-8215238012704140842 [label=\"Either.left\" id=-8215238012704140842]\n\t-8215238012704140842 -> 2507768681348984026 [id=\"-8215238012704140842.args[0]\"]\n\t2507768681348984026 [label=\"Integer.from_int\" id=2507768681348984026]\n\t2507768681348984026 -> -7737040241182541916 [id=\"2507768681348984026.args[0]\"]\n\t-7737040241182541916 [label=5 id=-3794084279707917178]\n\t-7236370451967049007 -> -5999552685951690708 [id=\"-1341672716970475800.args[1]\"]\n}",
         "label": null,
         "rule": "metadsl_core.numpy_engine.unbox_ndarray_getitem"
        },
        {
         "graph": "digraph {\n\tnode [shape=plain]\n\tedge [arrowsize=0.5 penwidth=0.5]\n\t2133007437973642621 [label=ndarray_add id=-1341672716970475800]\n\t2133007437973642621 -> -8480499291664650005 [id=\"-1341672716970475800.args[0]\"]\n\t-8480499291664650005 [label=ndarray_getitem id=61498299686903143]\n\t-8480499291664650005 -> -4554451458422625093 [id=\"61498299686903143.args[0]\"]\n\t-4554451458422625093 [label=\"NDArray.to_ndarray\" id=-4554451458422625093]\n\t-4554451458422625093 -> 832424711665835764 [id=\"-4554451458422625093.args[0]\"]\n\t832424711665835764 [label=arange_ id=832424711665835764]\n\t832424711665835764 -> -1313138448651871637 [id=\"832424711665835764.args[0]\"]\n\t-1313138448651871637 [label=\"Integer.from_int\" id=-1313138448651871637]\n\t-1313138448651871637 -> -7737040241287546841 [id=\"-1313138448651871637.args[0]\"]\n\t-7737040241287546841 [label=100 id=-5945887149520679823]\n\t-8480499291664650005 -> 7733020047603416001 [id=\"61498299686903143.args[1]\"]\n\t7733020047603416001 [label=unbox_integer id=-3794084279707917178]\n\t7733020047603416001 -> 2507768681348984026 [id=\"-3794084279707917178.args[0]\"]\n\t2507768681348984026 [label=\"Integer.from_int\" id=2507768681348984026]\n\t2507768681348984026 -> -7737040241182541916 [id=\"2507768681348984026.args[0]\"]\n\t-7737040241182541916 [label=5 id=-3794084279707917178]\n\t2133007437973642621 -> -8480499291664650005 [id=\"-1341672716970475800.args[1]\"]\n}",
         "label": null,
         "rule": "metadsl_core.numpy_engine.unbox_idxs_rule"
        },
        {
         "graph": "digraph {\n\tnode [shape=plain]\n\tedge [arrowsize=0.5 penwidth=0.5]\n\t2053813111526377715 [label=ndarray_add id=-1341672716970475800]\n\t2053813111526377715 -> -7168999135197082336 [id=\"-1341672716970475800.args[0]\"]\n\t-7168999135197082336 [label=ndarray_getitem id=61498299686903143]\n\t-7168999135197082336 -> -4554451458422625093 [id=\"61498299686903143.args[0]\"]\n\t-4554451458422625093 [label=\"NDArray.to_ndarray\" id=-4554451458422625093]\n\t-4554451458422625093 -> 832424711665835764 [id=\"-4554451458422625093.args[0]\"]\n\t832424711665835764 [label=arange_ id=832424711665835764]\n\t832424711665835764 -> -1313138448651871637 [id=\"832424711665835764.args[0]\"]\n\t-1313138448651871637 [label=\"Integer.from_int\" id=-1313138448651871637]\n\t-1313138448651871637 -> -7737040241287546841 [id=\"-1313138448651871637.args[0]\"]\n\t-7737040241287546841 [label=100 id=-5945887149520679823]\n\t-7168999135197082336 -> -7737040241182541916 [id=\"61498299686903143.args[1]\"]\n\t-7737040241182541916 [label=5 id=-3794084279707917178]\n\t2053813111526377715 -> -7168999135197082336 [id=\"-1341672716970475800.args[1]\"]\n}",
         "label": null,
         "rule": "metadsl_core.numpy_engine.unbox_integer_rule"
        },
        {
         "graph": "digraph {\n\tnode [shape=plain]\n\tedge [arrowsize=0.5 penwidth=0.5]\n\t675553606047805683 [label=ndarray_add id=-1341672716970475800]\n\t675553606047805683 -> 892307179432027363 [id=\"-1341672716970475800.args[0]\"]\n\t892307179432027363 [label=ndarray_getitem id=61498299686903143]\n\t892307179432027363 -> 6728931720816540191 [id=\"61498299686903143.args[0]\"]\n\t6728931720816540191 [label=arange id=-4554451458422625093]\n\t6728931720816540191 -> -5945887149520679823 [id=\"-4554451458422625093.args[0]\"]\n\t-5945887149520679823 [label=unbox_integer id=-5945887149520679823]\n\t-5945887149520679823 -> -1313138448651871637 [id=\"-5945887149520679823.args[0]\"]\n\t-1313138448651871637 [label=\"Integer.from_int\" id=-1313138448651871637]\n\t-1313138448651871637 -> -7737040241287546841 [id=\"-1313138448651871637.args[0]\"]\n\t-7737040241287546841 [label=100 id=-5945887149520679823]\n\t892307179432027363 -> -7737040241182541916 [id=\"61498299686903143.args[1]\"]\n\t-7737040241182541916 [label=5 id=-3794084279707917178]\n\t675553606047805683 -> 892307179432027363 [id=\"-1341672716970475800.args[1]\"]\n}",
         "label": null,
         "rule": "metadsl_core.numpy_engine.unbox_arange"
        },
        {
         "graph": "digraph {\n\tnode [shape=plain]\n\tedge [arrowsize=0.5 penwidth=0.5]\n\t-8028506287888493493 [label=ndarray_add id=-1341672716970475800]\n\t-8028506287888493493 -> 6959752695278090588 [id=\"-1341672716970475800.args[0]\"]\n\t6959752695278090588 [label=ndarray_getitem id=61498299686903143]\n\t6959752695278090588 -> -5426302648562200192 [id=\"61498299686903143.args[0]\"]\n\t-5426302648562200192 [label=arange id=-4554451458422625093]\n\t-5426302648562200192 -> -7737040241287546841 [id=\"-4554451458422625093.args[0]\"]\n\t-7737040241287546841 [label=100 id=-5945887149520679823]\n\t6959752695278090588 -> -7737040241182541916 [id=\"61498299686903143.args[1]\"]\n\t-7737040241182541916 [label=5 id=-3794084279707917178]\n\t-8028506287888493493 -> 6959752695278090588 [id=\"-1341672716970475800.args[1]\"]\n}",
         "label": null,
         "rule": "metadsl_core.numpy_engine.unbox_integer_rule"
        },
        {
         "graph": "digraph {\n\tnode [shape=plain]\n\tedge [arrowsize=0.5 penwidth=0.5]\n\t-8028506287888493493 [label=ndarray_add id=-1341672716970475800]\n\t-8028506287888493493 -> 6959752695278090588 [id=\"-1341672716970475800.args[0]\"]\n\t6959752695278090588 [label=ndarray_getitem id=61498299686903143]\n\t6959752695278090588 -> -5426302648562200192 [id=\"61498299686903143.args[0]\"]\n\t-5426302648562200192 [label=arange id=-4554451458422625093]\n\t-5426302648562200192 -> -7737040241287546841 [id=\"-4554451458422625093.args[0]\"]\n\t-7737040241287546841 [label=100 id=-5945887149520679823]\n\t6959752695278090588 -> -7737040241182541916 [id=\"61498299686903143.args[1]\"]\n\t-7737040241182541916 [label=5 id=-3794084279707917178]\n\t-8028506287888493493 -> 6959752695278090588 [id=\"-1341672716970475800.args[1]\"]\n}",
         "label": "unbox",
         "rule": ""
        },
        {
         "graph": "digraph {\n\tnode [shape=plain]\n\tedge [arrowsize=0.5 penwidth=0.5]\n\t-7820620210380381965 [label=ndarray_add id=-1341672716970475800]\n\t-7820620210380381965 -> 8221764502619431706 [id=\"-1341672716970475800.args[0]\"]\n\t8221764502619431706 [label=ndarray_getitem id=61498299686903143]\n\t8221764502619431706 -> -2445374677926254491 [id=\"61498299686903143.args[0]\"]\n\t-2445374677926254491 [label=\"array([ 0,  1,  2,  3,  4,  5,  6,  7,  8,  9, 10, 11, 12, 13, 14, 15, 16,\n       17, 18, 19, 20, 21, 22, 23, 24, 25, 26, 27, 28, 29, 30, 31, 32, 33,\n       34, 35, 36, 37, 38, 39, 40, 41, 42, 43, 44, 45, 46, 47, 48, 49, 50,\n       51, 52, 53, 54, 55, 56, 57, 58, 59, 60, 61, 62, 63, 64, 65, 66, 67,\n       68, 69, 70, 71, 72, 73, 74, 75, 76, 77, 78, 79, 80, 81, 82, 83, 84,\n       85, 86, 87, 88, 89, 90, 91, 92, 93, 94, 95, 96, 97, 98, 99])\" id=-4554451458422625093]\n\t8221764502619431706 -> -7737040241182541916 [id=\"61498299686903143.args[1]\"]\n\t-7737040241182541916 [label=5 id=-3794084279707917178]\n\t-7820620210380381965 -> 8221764502619431706 [id=\"-1341672716970475800.args[1]\"]\n}",
         "label": null,
         "rule": "metadsl_core.numpy_engine.arange"
        },
        {
         "graph": "digraph {\n\tnode [shape=plain]\n\tedge [arrowsize=0.5 penwidth=0.5]\n\t-2666192187224006763 [label=ndarray_add id=-1341672716970475800]\n\t-2666192187224006763 -> -2445373787778937291 [id=\"-1341672716970475800.args[0]\"]\n\t-2445373787778937291 [label=\"array(5)\" id=61498299686903143]\n\t-2666192187224006763 -> -2445373787778937291 [id=\"-1341672716970475800.args[1]\"]\n}",
         "label": null,
         "rule": "metadsl_core.numpy_engine.ndarray_getitem"
        },
        {
         "graph": "digraph {\n\tnode [shape=plain]\n\tedge [arrowsize=0.5 penwidth=0.5]\n\t6776573729655836417 [label=10 id=-1341672716970475800]\n}",
         "label": null,
         "rule": "metadsl_core.numpy_engine.ndarray_add"
        },
        {
         "graph": "digraph {\n\tnode [shape=plain]\n\tedge [arrowsize=0.5 penwidth=0.5]\n\t6776573729655836417 [label=10 id=-1341672716970475800]\n}",
         "label": "execute",
         "rule": ""
        }
       ]
      },
      "text/plain": [
       "Typez(definitions=None, nodes={'-7737040241287546841': ['-5945887149520679823', PrimitiveNode(type='int', repr='100')], '1450785392786500356': ['1450785392786500356', CallNode(function='arange', type_params=None, args=['-7737040241287546841'], kwargs=None)], '7129645178974278596': ['7129645178974278596', CallNode(function='NDArrayCompat.__add__', type_params=None, args=['1450785392786500356', '1450785392786500356'], kwargs=None)], '-7737040241182541916': ['-3794084279707917178', PrimitiveNode(type='int', repr='5')], '-4772016795270189587': ['-4772016795270189587', CallNode(function='NDArrayCompat.__getitem__', type_params=None, args=['7129645178974278596', '-7737040241182541916'], kwargs=None)], '-1341672716970475800': ['-1341672716970475800', CallNode(function='NDArrayCompat.to_ndarray', type_params=None, args=['-4772016795270189587'], kwargs=None)], '-2410300585153220666': ['-2410300585153220666', CallNode(function='Converter.convert', type_params={'T': DeclaredTypeInstance(type='NDArray', params=None)}, args=['7129645178974278596'], kwargs=None)], '6119802382549264123': ['6119802382549264123', CallNode(function='Converter.convert', type_params={'T': DeclaredTypeInstance(type='Either', params={'U': DeclaredTypeInstance(type='Vec', params={'T': DeclaredTypeInstance(type='Integer', params=None)}), 'T': DeclaredTypeInstance(type='Integer', params=None)})}, args=['-7737040241182541916'], kwargs=None)], '8017410877576515236': ['8017410877576515236', CallNode(function='Maybe.__and__', type_params={'T': DeclaredTypeInstance(type='NDArray', params=None)}, args=['-2410300585153220666', '6119802382549264123'], kwargs=None)], '-7736171717475420916': ['-7736171717475420916', PrimitiveNode(type='function', repr='<function NDArrayCompat.__getitem__.<locals>.<lambda> at 0x11bed08c8>')], '3967412119596498165': ['3967412119596498165', CallNode(function='Abstraction.from_fn', type_params={'U': DeclaredTypeInstance(type='NDArray', params=None), 'T': DeclaredTypeInstance(type='Pair', params={'U': DeclaredTypeInstance(type='Either', params={'U': DeclaredTypeInstance(type='Vec', params={'T': DeclaredTypeInstance(type='Integer', params=None)}), 'T': DeclaredTypeInstance(type='Integer', params=None)}), 'T': DeclaredTypeInstance(type='NDArray', params=None)})}, args=['-7736171717475420916'], kwargs=None)], '-3602988945447969937': ['-3602988945447969937', CallNode(function='Maybe.map', type_params={'T': DeclaredTypeInstance(type='Pair', params={'U': DeclaredTypeInstance(type='Either', params={'U': DeclaredTypeInstance(type='Vec', params={'T': DeclaredTypeInstance(type='Integer', params=None)}), 'T': DeclaredTypeInstance(type='Integer', params=None)}), 'T': DeclaredTypeInstance(type='NDArray', params=None)})}, args=['8017410877576515236', '3967412119596498165'], kwargs=None)], '8035591489161250433': ['-4772016795270189587', CallNode(function='NDArrayCompat.from_ndarray', type_params=None, args=['-3602988945447969937'], kwargs=None)], '7241610095508399835': ['-1341672716970475800', CallNode(function='NDArrayCompat.to_ndarray', type_params=None, args=['8035591489161250433'], kwargs=None)], '-4716166471986464590': ['-4716166471986464590', CallNode(function='Converter.convert', type_params={'T': DeclaredTypeInstance(type='Integer', params=None)}, args=['-7737040241182541916'], kwargs=None)], '-4896702136590049048': ['-4896702136590049048', PrimitiveNode(type='BoundInfer', repr='Either.left')], '-6964590781432730370': ['-6964590781432730370', CallNode(function='Abstraction.from_fn', type_params=None, args=['-4896702136590049048'], kwargs=None)], '-5297356175593613083': ['-5297356175593613083', CallNode(function='Maybe.map', type_params={'T': DeclaredTypeInstance(type='Integer', params=None)}, args=['-4716166471986464590', '-6964590781432730370'], kwargs=None)], '-7726250483385592724': ['-7726250483385592724', CallNode(function='Converter.convert', type_params={'T': DeclaredTypeInstance(type='Vec', params={'T': DeclaredTypeInstance(type='Integer', params=None)})}, args=['-7737040241182541916'], kwargs=None)], '997777855050798697': ['997777855050798697', PrimitiveNode(type='BoundInfer', repr='Either.right')], '5566425489881085421': ['5566425489881085421', CallNode(function='Abstraction.from_fn', type_params=None, args=['997777855050798697'], kwargs=None)], '205164300450344970': ['205164300450344970', CallNode(function='Maybe.map', type_params={'T': DeclaredTypeInstance(type='Vec', params={'T': DeclaredTypeInstance(type='Integer', params=None)})}, args=['-7726250483385592724', '5566425489881085421'], kwargs=None)], '-1294418605310832295': ['6119802382549264123', CallNode(function='Maybe.__or__', type_params={'T': DeclaredTypeInstance(type='Either', params={'U': DeclaredTypeInstance(type='Vec', params={'T': DeclaredTypeInstance(type='Integer', params=None)}), 'T': DeclaredTypeInstance(type='Integer', params=None)})}, args=['-5297356175593613083', '205164300450344970'], kwargs=None)], '-2079565683212384912': ['8017410877576515236', CallNode(function='Maybe.__and__', type_params={'T': DeclaredTypeInstance(type='NDArray', params=None)}, args=['-2410300585153220666', '-1294418605310832295'], kwargs=None)], '5936307860469895052': ['-3602988945447969937', CallNode(function='Maybe.map', type_params={'T': DeclaredTypeInstance(type='Pair', params={'U': DeclaredTypeInstance(type='Either', params={'U': DeclaredTypeInstance(type='Vec', params={'T': DeclaredTypeInstance(type='Integer', params=None)}), 'T': DeclaredTypeInstance(type='Integer', params=None)}), 'T': DeclaredTypeInstance(type='NDArray', params=None)})}, args=['-2079565683212384912', '3967412119596498165'], kwargs=None)], '782049791323043489': ['-4772016795270189587', CallNode(function='NDArrayCompat.from_ndarray', type_params=None, args=['5936307860469895052'], kwargs=None)], '9072194386204861162': ['-1341672716970475800', CallNode(function='NDArrayCompat.to_ndarray', type_params=None, args=['782049791323043489'], kwargs=None)], '2507768681348984026': ['2507768681348984026', CallNode(function='Integer.from_int', type_params=None, args=['-7737040241182541916'], kwargs=None)], '-1372317109959694973': ['-1372317109959694973', CallNode(function='Maybe.just', type_params=None, args=['2507768681348984026'], kwargs=None)], '6054610842773739130': ['-5297356175593613083', CallNode(function='Maybe.map', type_params={'T': DeclaredTypeInstance(type='Integer', params=None)}, args=['-1372317109959694973', '-6964590781432730370'], kwargs=None)], '-2718709984261421422': ['6119802382549264123', CallNode(function='Maybe.__or__', type_params={'T': DeclaredTypeInstance(type='Either', params={'U': DeclaredTypeInstance(type='Vec', params={'T': DeclaredTypeInstance(type='Integer', params=None)}), 'T': DeclaredTypeInstance(type='Integer', params=None)})}, args=['6054610842773739130', '205164300450344970'], kwargs=None)], '386925839975183864': ['8017410877576515236', CallNode(function='Maybe.__and__', type_params={'T': DeclaredTypeInstance(type='NDArray', params=None)}, args=['-2410300585153220666', '-2718709984261421422'], kwargs=None)], '1963395839922873124': ['-3602988945447969937', CallNode(function='Maybe.map', type_params={'T': DeclaredTypeInstance(type='Pair', params={'U': DeclaredTypeInstance(type='Either', params={'U': DeclaredTypeInstance(type='Vec', params={'T': DeclaredTypeInstance(type='Integer', params=None)}), 'T': DeclaredTypeInstance(type='Integer', params=None)}), 'T': DeclaredTypeInstance(type='NDArray', params=None)})}, args=['386925839975183864', '3967412119596498165'], kwargs=None)], '-8782132673342615821': ['-4772016795270189587', CallNode(function='NDArrayCompat.from_ndarray', type_params=None, args=['1963395839922873124'], kwargs=None)], '-6123343400095293073': ['-1341672716970475800', CallNode(function='NDArrayCompat.to_ndarray', type_params=None, args=['-8782132673342615821'], kwargs=None)], '-4308935643043434189': ['-4308935643043434189', CallNode(function='Converter.convert', type_params={'T': DeclaredTypeInstance(type='Integer', params=None)}, args=['-7737040241287546841'], kwargs=None)], '-5685572929299947036': ['-5685572929299947036', PrimitiveNode(type='Infer', repr='arange_')], '577873550496070922': ['577873550496070922', CallNode(function='Abstraction.from_fn', type_params=None, args=['-5685572929299947036'], kwargs=None)], '-8896708649560101528': ['-8896708649560101528', CallNode(function='Maybe.map', type_params={'T': DeclaredTypeInstance(type='Integer', params=None)}, args=['-4308935643043434189', '577873550496070922'], kwargs=None)], '4767376851968140894': ['1450785392786500356', CallNode(function='NDArrayCompat.from_ndarray', type_params=None, args=['-8896708649560101528'], kwargs=None)], '-1828603300170214036': ['7129645178974278596', CallNode(function='NDArrayCompat.__add__', type_params=None, args=['4767376851968140894', '4767376851968140894'], kwargs=None)], '1132426380630645017': ['-2410300585153220666', CallNode(function='Converter.convert', type_params={'T': DeclaredTypeInstance(type='NDArray', params=None)}, args=['-1828603300170214036'], kwargs=None)], '-3104718932427049796': ['8017410877576515236', CallNode(function='Maybe.__and__', type_params={'T': DeclaredTypeInstance(type='NDArray', params=None)}, args=['1132426380630645017', '-2718709984261421422'], kwargs=None)], '-8603939510305369917': ['-3602988945447969937', CallNode(function='Maybe.map', type_params={'T': DeclaredTypeInstance(type='Pair', params={'U': DeclaredTypeInstance(type='Either', params={'U': DeclaredTypeInstance(type='Vec', params={'T': DeclaredTypeInstance(type='Integer', params=None)}), 'T': DeclaredTypeInstance(type='Integer', params=None)}), 'T': DeclaredTypeInstance(type='NDArray', params=None)})}, args=['-3104718932427049796', '3967412119596498165'], kwargs=None)], '6516202436837425415': ['-4772016795270189587', CallNode(function='NDArrayCompat.from_ndarray', type_params=None, args=['-8603939510305369917'], kwargs=None)], '7166280710631917938': ['-1341672716970475800', CallNode(function='NDArrayCompat.to_ndarray', type_params=None, args=['6516202436837425415'], kwargs=None)], '-1313138448651871637': ['-1313138448651871637', CallNode(function='Integer.from_int', type_params=None, args=['-7737040241287546841'], kwargs=None)], '-6059403141323843149': ['-6059403141323843149', CallNode(function='Maybe.just', type_params=None, args=['-1313138448651871637'], kwargs=None)], '37540587745940159': ['-8896708649560101528', CallNode(function='Maybe.map', type_params={'T': DeclaredTypeInstance(type='Integer', params=None)}, args=['-6059403141323843149', '577873550496070922'], kwargs=None)], '-8012671916351216724': ['1450785392786500356', CallNode(function='NDArrayCompat.from_ndarray', type_params=None, args=['37540587745940159'], kwargs=None)], '-6584392053997967718': ['7129645178974278596', CallNode(function='NDArrayCompat.__add__', type_params=None, args=['-8012671916351216724', '-8012671916351216724'], kwargs=None)], '4408648251278560909': ['-2410300585153220666', CallNode(function='Converter.convert', type_params={'T': DeclaredTypeInstance(type='NDArray', params=None)}, args=['-6584392053997967718'], kwargs=None)], '4963759302425763067': ['8017410877576515236', CallNode(function='Maybe.__and__', type_params={'T': DeclaredTypeInstance(type='NDArray', params=None)}, args=['4408648251278560909', '-2718709984261421422'], kwargs=None)], '-1246086197087025627': ['-3602988945447969937', CallNode(function='Maybe.map', type_params={'T': DeclaredTypeInstance(type='Pair', params={'U': DeclaredTypeInstance(type='Either', params={'U': DeclaredTypeInstance(type='Vec', params={'T': DeclaredTypeInstance(type='Integer', params=None)}), 'T': DeclaredTypeInstance(type='Integer', params=None)}), 'T': DeclaredTypeInstance(type='NDArray', params=None)})}, args=['4963759302425763067', '3967412119596498165'], kwargs=None)], '4570772260081532062': ['-4772016795270189587', CallNode(function='NDArrayCompat.from_ndarray', type_params=None, args=['-1246086197087025627'], kwargs=None)], '7846544271585561988': ['-1341672716970475800', CallNode(function='NDArrayCompat.to_ndarray', type_params=None, args=['4570772260081532062'], kwargs=None)], '-4268939887078651459': ['-4268939887078651459', PrimitiveNode(type='Variable', repr='Variable(4763508352)')], '-3875335050971398825': ['-3875335050971398825', CallNode(function='Abstraction.create_variable', type_params={'U': DeclaredTypeInstance(type='NDArray', params=None), 'T': DeclaredTypeInstance(type='Pair', params={'U': DeclaredTypeInstance(type='Either', params={'U': DeclaredTypeInstance(type='Vec', params={'T': DeclaredTypeInstance(type='Integer', params=None)}), 'T': DeclaredTypeInstance(type='Integer', params=None)}), 'T': DeclaredTypeInstance(type='NDArray', params=None)})}, args=['-4268939887078651459'], kwargs=None)], '5872572339045335076': ['5872572339045335076', CallNode(function='Pair.left', type_params={'U': DeclaredTypeInstance(type='Either', params={'U': DeclaredTypeInstance(type='Vec', params={'T': DeclaredTypeInstance(type='Integer', params=None)}), 'T': DeclaredTypeInstance(type='Integer', params=None)}), 'T': DeclaredTypeInstance(type='NDArray', params=None)}, args=['-3875335050971398825'], kwargs=None)], '-9003153576216423860': ['-9003153576216423860', CallNode(function='Pair.right', type_params={'U': DeclaredTypeInstance(type='Either', params={'U': DeclaredTypeInstance(type='Vec', params={'T': DeclaredTypeInstance(type='Integer', params=None)}), 'T': DeclaredTypeInstance(type='Integer', params=None)}), 'T': DeclaredTypeInstance(type='NDArray', params=None)}, args=['-3875335050971398825'], kwargs=None)], '-1669249308957284923': ['-1669249308957284923', CallNode(function='NDArray.__getitem__', type_params=None, args=['5872572339045335076', '-9003153576216423860'], kwargs=None)], '6914557858993007492': ['6914557858993007492', CallNode(function='Abstraction.create', type_params={'U': DeclaredTypeInstance(type='NDArray', params=None), 'T': DeclaredTypeInstance(type='Pair', params={'U': DeclaredTypeInstance(type='Either', params={'U': DeclaredTypeInstance(type='Vec', params={'T': DeclaredTypeInstance(type='Integer', params=None)}), 'T': DeclaredTypeInstance(type='Integer', params=None)}), 'T': DeclaredTypeInstance(type='NDArray', params=None)})}, args=['-3875335050971398825', '-1669249308957284923'], kwargs=None)], '7401884041843185269': ['-3602988945447969937', CallNode(function='Maybe.map', type_params={'T': DeclaredTypeInstance(type='Pair', params={'U': DeclaredTypeInstance(type='Either', params={'U': DeclaredTypeInstance(type='Vec', params={'T': DeclaredTypeInstance(type='Integer', params=None)}), 'T': DeclaredTypeInstance(type='Integer', params=None)}), 'T': DeclaredTypeInstance(type='NDArray', params=None)})}, args=['4963759302425763067', '6914557858993007492'], kwargs=None)], '-5111982997682360305': ['-4772016795270189587', CallNode(function='NDArrayCompat.from_ndarray', type_params=None, args=['7401884041843185269'], kwargs=None)], '-2180327752598035810': ['-1341672716970475800', CallNode(function='NDArrayCompat.to_ndarray', type_params=None, args=['-5111982997682360305'], kwargs=None)], '-4268939902715725084': ['-4268939902715725084', PrimitiveNode(type='Variable', repr='Variable(4763273200)')], '1338288602999335341': ['1338288602999335341', CallNode(function='Abstraction.create_variable', type_params={'U': DeclaredTypeInstance(type='Either', params={'U': DeclaredTypeInstance(type='Vec', params={'T': DeclaredTypeInstance(type='Integer', params=None)}), 'T': DeclaredTypeInstance(type='Integer', params=None)}), 'T': DeclaredTypeInstance(type='Vec', params={'T': DeclaredTypeInstance(type='Integer', params=None)})}, args=['-4268939902715725084'], kwargs=None)], '4503027993476547237': ['4503027993476547237', CallNode(function='Either.right', type_params={'U': DeclaredTypeInstance(type='Vec', params={'T': DeclaredTypeInstance(type='Integer', params=None)}), 'T': DeclaredTypeInstance(type='Integer', params=None)}, args=['1338288602999335341'], kwargs=None)], '188400188245589463': ['188400188245589463', CallNode(function='Abstraction.create', type_params={'U': DeclaredTypeInstance(type='Either', params={'U': DeclaredTypeInstance(type='Vec', params={'T': DeclaredTypeInstance(type='Integer', params=None)}), 'T': DeclaredTypeInstance(type='Integer', params=None)}), 'T': DeclaredTypeInstance(type='Vec', params={'T': DeclaredTypeInstance(type='Integer', params=None)})}, args=['1338288602999335341', '4503027993476547237'], kwargs=None)], '-8693574137465041742': ['-8693574137465041742', CallNode(function='Maybe.map', type_params={'T': DeclaredTypeInstance(type='Vec', params={'T': DeclaredTypeInstance(type='Integer', params=None)})}, args=['-7726250483385592724', '188400188245589463'], kwargs=None)], '-1355390672785264383': ['6119802382549264123', CallNode(function='Maybe.__or__', type_params={'T': DeclaredTypeInstance(type='Either', params={'U': DeclaredTypeInstance(type='Vec', params={'T': DeclaredTypeInstance(type='Integer', params=None)}), 'T': DeclaredTypeInstance(type='Integer', params=None)})}, args=['6054610842773739130', '-8693574137465041742'], kwargs=None)], '2900625666473827371': ['8017410877576515236', CallNode(function='Maybe.__and__', type_params={'T': DeclaredTypeInstance(type='NDArray', params=None)}, args=['4408648251278560909', '-1355390672785264383'], kwargs=None)], '3158674197833738872': ['-3602988945447969937', CallNode(function='Maybe.map', type_params={'T': DeclaredTypeInstance(type='Pair', params={'U': DeclaredTypeInstance(type='Either', params={'U': DeclaredTypeInstance(type='Vec', params={'T': DeclaredTypeInstance(type='Integer', params=None)}), 'T': DeclaredTypeInstance(type='Integer', params=None)}), 'T': DeclaredTypeInstance(type='NDArray', params=None)})}, args=['2900625666473827371', '6914557858993007492'], kwargs=None)], '-4749953547721358950': ['-4772016795270189587', CallNode(function='NDArrayCompat.from_ndarray', type_params=None, args=['3158674197833738872'], kwargs=None)], '7644460815294350903': ['-1341672716970475800', CallNode(function='NDArrayCompat.to_ndarray', type_params=None, args=['-4749953547721358950'], kwargs=None)], '-4268939874013657234': ['-4268939874013657234', PrimitiveNode(type='Variable', repr='Variable(4763568336)')], '7625737217546302985': ['7625737217546302985', CallNode(function='Abstraction.create_variable', type_params={'U': DeclaredTypeInstance(type='Either', params={'U': DeclaredTypeInstance(type='Vec', params={'T': DeclaredTypeInstance(type='Integer', params=None)}), 'T': DeclaredTypeInstance(type='Integer', params=None)}), 'T': DeclaredTypeInstance(type='Integer', params=None)}, args=['-4268939874013657234'], kwargs=None)], '2339027244142301325': ['2339027244142301325', CallNode(function='Either.left', type_params={'U': DeclaredTypeInstance(type='Vec', params={'T': DeclaredTypeInstance(type='Integer', params=None)}), 'T': DeclaredTypeInstance(type='Integer', params=None)}, args=['7625737217546302985'], kwargs=None)], '-6625266454406091376': ['-6625266454406091376', CallNode(function='Abstraction.create', type_params={'U': DeclaredTypeInstance(type='Either', params={'U': DeclaredTypeInstance(type='Vec', params={'T': DeclaredTypeInstance(type='Integer', params=None)}), 'T': DeclaredTypeInstance(type='Integer', params=None)}), 'T': DeclaredTypeInstance(type='Integer', params=None)}, args=['7625737217546302985', '2339027244142301325'], kwargs=None)], '-5711639544431828191': ['-5711639544431828191', CallNode(function='Maybe.map', type_params={'T': DeclaredTypeInstance(type='Integer', params=None)}, args=['-1372317109959694973', '-6625266454406091376'], kwargs=None)], '-3702009093770552402': ['-3702009093770552402', CallNode(function='Maybe.__or__', type_params={'T': DeclaredTypeInstance(type='Either', params={'U': DeclaredTypeInstance(type='Vec', params={'T': DeclaredTypeInstance(type='Integer', params=None)}), 'T': DeclaredTypeInstance(type='Integer', params=None)})}, args=['-5711639544431828191', '-8693574137465041742'], kwargs=None)], '-5826833939395959489': ['8017410877576515236', CallNode(function='Maybe.__and__', type_params={'T': DeclaredTypeInstance(type='NDArray', params=None)}, args=['4408648251278560909', '-3702009093770552402'], kwargs=None)], '-5832606559030254283': ['-3602988945447969937', CallNode(function='Maybe.map', type_params={'T': DeclaredTypeInstance(type='Pair', params={'U': DeclaredTypeInstance(type='Either', params={'U': DeclaredTypeInstance(type='Vec', params={'T': DeclaredTypeInstance(type='Integer', params=None)}), 'T': DeclaredTypeInstance(type='Integer', params=None)}), 'T': DeclaredTypeInstance(type='NDArray', params=None)})}, args=['-5826833939395959489', '6914557858993007492'], kwargs=None)], '4364530619847837896': ['-4772016795270189587', CallNode(function='NDArrayCompat.from_ndarray', type_params=None, args=['-5832606559030254283'], kwargs=None)], '-7359191991636668110': ['-1341672716970475800', CallNode(function='NDArrayCompat.to_ndarray', type_params=None, args=['4364530619847837896'], kwargs=None)], '4954432105590701424': ['4954432105590701424', PrimitiveNode(type='Variable', repr='Variable(4762851256)')], '5147401912858767407': ['5147401912858767407', CallNode(function='Abstraction.create_variable', type_params={'U': DeclaredTypeInstance(type='NDArray', params=None), 'T': DeclaredTypeInstance(type='Integer', params=None)}, args=['4954432105590701424'], kwargs=None)], '6757516754014003782': ['6757516754014003782', CallNode(function='arange_', type_params=None, args=['5147401912858767407'], kwargs=None)], '9003221985443418126': ['9003221985443418126', CallNode(function='Abstraction.create', type_params={'U': DeclaredTypeInstance(type='NDArray', params=None), 'T': DeclaredTypeInstance(type='Integer', params=None)}, args=['5147401912858767407', '6757516754014003782'], kwargs=None)], '-996850803608951878': ['-996850803608951878', CallNode(function='Maybe.map', type_params={'T': DeclaredTypeInstance(type='Integer', params=None)}, args=['-6059403141323843149', '9003221985443418126'], kwargs=None)], '-8162579586956751115': ['-8162579586956751115', CallNode(function='NDArrayCompat.from_ndarray', type_params=None, args=['-996850803608951878'], kwargs=None)], '6785135613727947616': ['6785135613727947616', CallNode(function='NDArrayCompat.__add__', type_params=None, args=['-8162579586956751115', '-8162579586956751115'], kwargs=None)], '-2020586981356496369': ['-2020586981356496369', CallNode(function='Converter.convert', type_params={'T': DeclaredTypeInstance(type='NDArray', params=None)}, args=['6785135613727947616'], kwargs=None)], '-1176136162159317166': ['-1176136162159317166', CallNode(function='Maybe.__and__', type_params={'T': DeclaredTypeInstance(type='NDArray', params=None)}, args=['-2020586981356496369', '-3702009093770552402'], kwargs=None)], '5130999143968338142': ['-3602988945447969937', CallNode(function='Maybe.map', type_params={'T': DeclaredTypeInstance(type='Pair', params={'U': DeclaredTypeInstance(type='Either', params={'U': DeclaredTypeInstance(type='Vec', params={'T': DeclaredTypeInstance(type='Integer', params=None)}), 'T': DeclaredTypeInstance(type='Integer', params=None)}), 'T': DeclaredTypeInstance(type='NDArray', params=None)})}, args=['-1176136162159317166', '6914557858993007492'], kwargs=None)], '-1664369273837116889': ['-4772016795270189587', CallNode(function='NDArrayCompat.from_ndarray', type_params=None, args=['5130999143968338142'], kwargs=None)], '-31621047551986260': ['-1341672716970475800', CallNode(function='NDArrayCompat.to_ndarray', type_params=None, args=['-1664369273837116889'], kwargs=None)], '9032834383112645395': ['9032834383112645395', CallNode(function='Maybe.nothing', type_params={'T': DeclaredTypeInstance(type='NDArray', params=None)}, args=None, kwargs=None)], '-4855096197904090350': ['-4855096197904090350', PrimitiveNode(type='BoundInfer', repr='Maybe.just')], '-1894269937027086384': ['-1894269937027086384', CallNode(function='Abstraction.from_fn', type_params=None, args=['-4855096197904090350'], kwargs=None)], '7808960626005506202': ['7808960626005506202', CallNode(function='Abstraction.__add__', type_params={'U': DeclaredTypeInstance(type='Maybe', params={'T': DeclaredTypeInstance(type='NDArray', params=None)}), 'T': DeclaredTypeInstance(type='NDArray', params=None)}, args=['-1894269937027086384', '6914557858993007492'], kwargs=None)], '-4340011705866237588': ['-3602988945447969937', CallNode(function='Maybe.match', type_params={'T': DeclaredTypeInstance(type='Pair', params={'U': DeclaredTypeInstance(type='Either', params={'U': DeclaredTypeInstance(type='Vec', params={'T': DeclaredTypeInstance(type='Integer', params=None)}), 'T': DeclaredTypeInstance(type='Integer', params=None)}), 'T': DeclaredTypeInstance(type='NDArray', params=None)})}, args=['-1176136162159317166', '9032834383112645395', '7808960626005506202'], kwargs=None)], '8603521838397749616': ['-4772016795270189587', CallNode(function='NDArrayCompat.from_ndarray', type_params=None, args=['-4340011705866237588'], kwargs=None)], '2631660266934350096': ['-1341672716970475800', CallNode(function='NDArrayCompat.to_ndarray', type_params=None, args=['8603521838397749616'], kwargs=None)], '542625740483342888': ['542625740483342888', CallNode(function='Maybe.nothing', type_params={'T': DeclaredTypeInstance(type='Either', params={'U': DeclaredTypeInstance(type='Vec', params={'T': DeclaredTypeInstance(type='Integer', params=None)}), 'T': DeclaredTypeInstance(type='Integer', params=None)})}, args=None, kwargs=None)], '-944428355994881963': ['-944428355994881963', PrimitiveNode(type='BoundInfer', repr='Maybe.just')], '2013462788875869881': ['2013462788875869881', CallNode(function='Abstraction.from_fn', type_params=None, args=['-944428355994881963'], kwargs=None)], '-4979443563467282184': ['-4979443563467282184', CallNode(function='Abstraction.__add__', type_params={'U': DeclaredTypeInstance(type='Maybe', params={'T': DeclaredTypeInstance(type='Either', params={'U': DeclaredTypeInstance(type='Vec', params={'T': DeclaredTypeInstance(type='Integer', params=None)}), 'T': DeclaredTypeInstance(type='Integer', params=None)})}), 'T': DeclaredTypeInstance(type='Either', params={'U': DeclaredTypeInstance(type='Vec', params={'T': DeclaredTypeInstance(type='Integer', params=None)}), 'T': DeclaredTypeInstance(type='Integer', params=None)})}, args=['2013462788875869881', '188400188245589463'], kwargs=None)], '-4678793630453082750': ['-8693574137465041742', CallNode(function='Maybe.match', type_params={'T': DeclaredTypeInstance(type='Vec', params={'T': DeclaredTypeInstance(type='Integer', params=None)})}, args=['-7726250483385592724', '542625740483342888', '-4979443563467282184'], kwargs=None)], '5116745439541818199': ['-3702009093770552402', CallNode(function='Maybe.__or__', type_params={'T': DeclaredTypeInstance(type='Either', params={'U': DeclaredTypeInstance(type='Vec', params={'T': DeclaredTypeInstance(type='Integer', params=None)}), 'T': DeclaredTypeInstance(type='Integer', params=None)})}, args=['-5711639544431828191', '-4678793630453082750'], kwargs=None)], '4716429502776241294': ['-1176136162159317166', CallNode(function='Maybe.__and__', type_params={'T': DeclaredTypeInstance(type='NDArray', params=None)}, args=['-2020586981356496369', '5116745439541818199'], kwargs=None)], '6394746674415015190': ['-3602988945447969937', CallNode(function='Maybe.match', type_params={'T': DeclaredTypeInstance(type='Pair', params={'U': DeclaredTypeInstance(type='Either', params={'U': DeclaredTypeInstance(type='Vec', params={'T': DeclaredTypeInstance(type='Integer', params=None)}), 'T': DeclaredTypeInstance(type='Integer', params=None)}), 'T': DeclaredTypeInstance(type='NDArray', params=None)})}, args=['4716429502776241294', '9032834383112645395', '7808960626005506202'], kwargs=None)], '-6241056399904174417': ['-4772016795270189587', CallNode(function='NDArrayCompat.from_ndarray', type_params=None, args=['6394746674415015190'], kwargs=None)], '-8900967940227574082': ['-1341672716970475800', CallNode(function='NDArrayCompat.to_ndarray', type_params=None, args=['-6241056399904174417'], kwargs=None)], '-8185615459012223365': ['-8185615459012223365', CallNode(function='Abstraction.__add__', type_params={'U': DeclaredTypeInstance(type='Maybe', params={'T': DeclaredTypeInstance(type='Either', params={'U': DeclaredTypeInstance(type='Vec', params={'T': DeclaredTypeInstance(type='Integer', params=None)}), 'T': DeclaredTypeInstance(type='Integer', params=None)})}), 'T': DeclaredTypeInstance(type='Either', params={'U': DeclaredTypeInstance(type='Vec', params={'T': DeclaredTypeInstance(type='Integer', params=None)}), 'T': DeclaredTypeInstance(type='Integer', params=None)})}, args=['2013462788875869881', '-6625266454406091376'], kwargs=None)], '5854273997014633704': ['-5711639544431828191', CallNode(function='Maybe.match', type_params={'T': DeclaredTypeInstance(type='Integer', params=None)}, args=['-1372317109959694973', '542625740483342888', '-8185615459012223365'], kwargs=None)], '-1008952941889716478': ['-3702009093770552402', CallNode(function='Maybe.__or__', type_params={'T': DeclaredTypeInstance(type='Either', params={'U': DeclaredTypeInstance(type='Vec', params={'T': DeclaredTypeInstance(type='Integer', params=None)}), 'T': DeclaredTypeInstance(type='Integer', params=None)})}, args=['5854273997014633704', '-4678793630453082750'], kwargs=None)], '-980197482290740729': ['-1176136162159317166', CallNode(function='Maybe.__and__', type_params={'T': DeclaredTypeInstance(type='NDArray', params=None)}, args=['-2020586981356496369', '-1008952941889716478'], kwargs=None)], '5104252592144691839': ['-3602988945447969937', CallNode(function='Maybe.match', type_params={'T': DeclaredTypeInstance(type='Pair', params={'U': DeclaredTypeInstance(type='Either', params={'U': DeclaredTypeInstance(type='Vec', params={'T': DeclaredTypeInstance(type='Integer', params=None)}), 'T': DeclaredTypeInstance(type='Integer', params=None)}), 'T': DeclaredTypeInstance(type='NDArray', params=None)})}, args=['-980197482290740729', '9032834383112645395', '7808960626005506202'], kwargs=None)], '7517180492880473042': ['-4772016795270189587', CallNode(function='NDArrayCompat.from_ndarray', type_params=None, args=['5104252592144691839'], kwargs=None)], '7933129133460969990': ['-1341672716970475800', CallNode(function='NDArrayCompat.to_ndarray', type_params=None, args=['7517180492880473042'], kwargs=None)], '-7253073449237699425': ['-5711639544431828191', CallNode(function='Abstraction.__call__', type_params={'U': DeclaredTypeInstance(type='Maybe', params={'T': DeclaredTypeInstance(type='Either', params={'U': DeclaredTypeInstance(type='Vec', params={'T': DeclaredTypeInstance(type='Integer', params=None)}), 'T': DeclaredTypeInstance(type='Integer', params=None)})}), 'T': DeclaredTypeInstance(type='Integer', params=None)}, args=['-8185615459012223365', '2507768681348984026'], kwargs=None)], '198719414552122372': ['-3702009093770552402', CallNode(function='Maybe.__or__', type_params={'T': DeclaredTypeInstance(type='Either', params={'U': DeclaredTypeInstance(type='Vec', params={'T': DeclaredTypeInstance(type='Integer', params=None)}), 'T': DeclaredTypeInstance(type='Integer', params=None)})}, args=['-7253073449237699425', '-4678793630453082750'], kwargs=None)], '2113797957111920961': ['-1176136162159317166', CallNode(function='Maybe.__and__', type_params={'T': DeclaredTypeInstance(type='NDArray', params=None)}, args=['-2020586981356496369', '198719414552122372'], kwargs=None)], '3805090939023735797': ['-3602988945447969937', CallNode(function='Maybe.match', type_params={'T': DeclaredTypeInstance(type='Pair', params={'U': DeclaredTypeInstance(type='Either', params={'U': DeclaredTypeInstance(type='Vec', params={'T': DeclaredTypeInstance(type='Integer', params=None)}), 'T': DeclaredTypeInstance(type='Integer', params=None)}), 'T': DeclaredTypeInstance(type='NDArray', params=None)})}, args=['2113797957111920961', '9032834383112645395', '7808960626005506202'], kwargs=None)], '-5706337675686693319': ['-4772016795270189587', CallNode(function='NDArrayCompat.from_ndarray', type_params=None, args=['3805090939023735797'], kwargs=None)], '-5913722577499261700': ['-1341672716970475800', CallNode(function='NDArrayCompat.to_ndarray', type_params=None, args=['-5706337675686693319'], kwargs=None)], '-7005933830148898301': ['-7005933830148898301', CallNode(function='Abstraction.__add__', type_params={'U': DeclaredTypeInstance(type='Maybe', params={'T': DeclaredTypeInstance(type='NDArray', params=None)}), 'T': DeclaredTypeInstance(type='NDArray', params=None)}, args=['-1894269937027086384', '9003221985443418126'], kwargs=None)], '-5838605260233094508': ['-5838605260233094508', CallNode(function='Maybe.match', type_params={'T': DeclaredTypeInstance(type='Integer', params=None)}, args=['-6059403141323843149', '9032834383112645395', '-7005933830148898301'], kwargs=None)], '-6461914045271554147': ['-6461914045271554147', CallNode(function='NDArrayCompat.from_ndarray', type_params=None, args=['-5838605260233094508'], kwargs=None)], '6863904192855538109': ['6785135613727947616', CallNode(function='NDArrayCompat.__add__', type_params=None, args=['-6461914045271554147', '-8162579586956751115'], kwargs=None)], '1378789293694660462': ['-2020586981356496369', CallNode(function='Converter.convert', type_params={'T': DeclaredTypeInstance(type='NDArray', params=None)}, args=['6863904192855538109'], kwargs=None)], '-9013302310662663336': ['-1176136162159317166', CallNode(function='Maybe.__and__', type_params={'T': DeclaredTypeInstance(type='NDArray', params=None)}, args=['1378789293694660462', '198719414552122372'], kwargs=None)], '-9085725868781594295': ['-3602988945447969937', CallNode(function='Maybe.match', type_params={'T': DeclaredTypeInstance(type='Pair', params={'U': DeclaredTypeInstance(type='Either', params={'U': DeclaredTypeInstance(type='Vec', params={'T': DeclaredTypeInstance(type='Integer', params=None)}), 'T': DeclaredTypeInstance(type='Integer', params=None)}), 'T': DeclaredTypeInstance(type='NDArray', params=None)})}, args=['-9013302310662663336', '9032834383112645395', '7808960626005506202'], kwargs=None)], '-407574838471314743': ['-4772016795270189587', CallNode(function='NDArrayCompat.from_ndarray', type_params=None, args=['-9085725868781594295'], kwargs=None)], '4093895417369418546': ['-1341672716970475800', CallNode(function='NDArrayCompat.to_ndarray', type_params=None, args=['-407574838471314743'], kwargs=None)], '5221238583677160674': ['6785135613727947616', CallNode(function='NDArrayCompat.__add__', type_params=None, args=['-6461914045271554147', '-6461914045271554147'], kwargs=None)], '2169668488156492865': ['-2020586981356496369', CallNode(function='Converter.convert', type_params={'T': DeclaredTypeInstance(type='NDArray', params=None)}, args=['5221238583677160674'], kwargs=None)], '6891494960931475679': ['-1176136162159317166', CallNode(function='Maybe.__and__', type_params={'T': DeclaredTypeInstance(type='NDArray', params=None)}, args=['2169668488156492865', '198719414552122372'], kwargs=None)], '-5512253243893875115': ['-3602988945447969937', CallNode(function='Maybe.match', type_params={'T': DeclaredTypeInstance(type='Pair', params={'U': DeclaredTypeInstance(type='Either', params={'U': DeclaredTypeInstance(type='Vec', params={'T': DeclaredTypeInstance(type='Integer', params=None)}), 'T': DeclaredTypeInstance(type='Integer', params=None)}), 'T': DeclaredTypeInstance(type='NDArray', params=None)})}, args=['6891494960931475679', '9032834383112645395', '7808960626005506202'], kwargs=None)], '-8553321738658996376': ['-4772016795270189587', CallNode(function='NDArrayCompat.from_ndarray', type_params=None, args=['-5512253243893875115'], kwargs=None)], '-3392481267222404138': ['-1341672716970475800', CallNode(function='NDArrayCompat.to_ndarray', type_params=None, args=['-8553321738658996376'], kwargs=None)], '161942629437193568': ['161942629437193568', CallNode(function='Abstraction.__call__', type_params={'U': DeclaredTypeInstance(type='Maybe', params={'T': DeclaredTypeInstance(type='NDArray', params=None)}), 'T': DeclaredTypeInstance(type='Integer', params=None)}, args=['-7005933830148898301', '-1313138448651871637'], kwargs=None)], '5417034725160828583': ['5417034725160828583', CallNode(function='NDArrayCompat.from_ndarray', type_params=None, args=['161942629437193568'], kwargs=None)], '-4370075408063533460': ['6785135613727947616', CallNode(function='NDArrayCompat.__add__', type_params=None, args=['5417034725160828583', '-6461914045271554147'], kwargs=None)], '9122846817468309746': ['-2020586981356496369', CallNode(function='Converter.convert', type_params={'T': DeclaredTypeInstance(type='NDArray', params=None)}, args=['-4370075408063533460'], kwargs=None)], '-9111108110381634133': ['-1176136162159317166', CallNode(function='Maybe.__and__', type_params={'T': DeclaredTypeInstance(type='NDArray', params=None)}, args=['9122846817468309746', '198719414552122372'], kwargs=None)], '8710392345814282702': ['-3602988945447969937', CallNode(function='Maybe.match', type_params={'T': DeclaredTypeInstance(type='Pair', params={'U': DeclaredTypeInstance(type='Either', params={'U': DeclaredTypeInstance(type='Vec', params={'T': DeclaredTypeInstance(type='Integer', params=None)}), 'T': DeclaredTypeInstance(type='Integer', params=None)}), 'T': DeclaredTypeInstance(type='NDArray', params=None)})}, args=['-9111108110381634133', '9032834383112645395', '7808960626005506202'], kwargs=None)], '-8920415250739751582': ['-4772016795270189587', CallNode(function='NDArrayCompat.from_ndarray', type_params=None, args=['8710392345814282702'], kwargs=None)], '-552847069780420540': ['-1341672716970475800', CallNode(function='NDArrayCompat.to_ndarray', type_params=None, args=['-8920415250739751582'], kwargs=None)], '3395790146293950618': ['6785135613727947616', CallNode(function='NDArrayCompat.__add__', type_params=None, args=['5417034725160828583', '5417034725160828583'], kwargs=None)], '385105171314180610': ['-2020586981356496369', CallNode(function='Converter.convert', type_params={'T': DeclaredTypeInstance(type='NDArray', params=None)}, args=['3395790146293950618'], kwargs=None)], '-2730709662832543356': ['-1176136162159317166', CallNode(function='Maybe.__and__', type_params={'T': DeclaredTypeInstance(type='NDArray', params=None)}, args=['385105171314180610', '198719414552122372'], kwargs=None)], '-6382185992886453333': ['-3602988945447969937', CallNode(function='Maybe.match', type_params={'T': DeclaredTypeInstance(type='Pair', params={'U': DeclaredTypeInstance(type='Either', params={'U': DeclaredTypeInstance(type='Vec', params={'T': DeclaredTypeInstance(type='Integer', params=None)}), 'T': DeclaredTypeInstance(type='Integer', params=None)}), 'T': DeclaredTypeInstance(type='NDArray', params=None)})}, args=['-2730709662832543356', '9032834383112645395', '7808960626005506202'], kwargs=None)], '-3520520859224783734': ['-4772016795270189587', CallNode(function='NDArrayCompat.from_ndarray', type_params=None, args=['-6382185992886453333'], kwargs=None)], '427833878628127218': ['-1341672716970475800', CallNode(function='NDArrayCompat.to_ndarray', type_params=None, args=['-3520520859224783734'], kwargs=None)], '4954432025238118249': ['4954432025238118249', PrimitiveNode(type='Variable', repr='Variable(4763775048)')], '-3126248252036041104': ['-3126248252036041104', CallNode(function='Abstraction.create_variable', type_params={'U': DeclaredTypeInstance(type='Maybe', params={'T': DeclaredTypeInstance(type='Either', params={'U': DeclaredTypeInstance(type='Vec', params={'T': DeclaredTypeInstance(type='Integer', params=None)}), 'T': DeclaredTypeInstance(type='Integer', params=None)})}), 'T': DeclaredTypeInstance(type='Either', params={'U': DeclaredTypeInstance(type='Vec', params={'T': DeclaredTypeInstance(type='Integer', params=None)}), 'T': DeclaredTypeInstance(type='Integer', params=None)})}, args=['4954432025238118249'], kwargs=None)], '-4783420378234302645': ['-4783420378234302645', CallNode(function='Maybe.just', type_params={'T': DeclaredTypeInstance(type='Either', params={'U': DeclaredTypeInstance(type='Vec', params={'T': DeclaredTypeInstance(type='Integer', params=None)}), 'T': DeclaredTypeInstance(type='Integer', params=None)})}, args=['-3126248252036041104'], kwargs=None)], '4635025401393889481': ['2013462788875869881', CallNode(function='Abstraction.create', type_params={'U': DeclaredTypeInstance(type='Maybe', params={'T': DeclaredTypeInstance(type='Either', params={'U': DeclaredTypeInstance(type='Vec', params={'T': DeclaredTypeInstance(type='Integer', params=None)}), 'T': DeclaredTypeInstance(type='Integer', params=None)})}), 'T': DeclaredTypeInstance(type='Either', params={'U': DeclaredTypeInstance(type='Vec', params={'T': DeclaredTypeInstance(type='Integer', params=None)}), 'T': DeclaredTypeInstance(type='Integer', params=None)})}, args=['-3126248252036041104', '-4783420378234302645'], kwargs=None)], '251136556258223993': ['-8185615459012223365', CallNode(function='Abstraction.__add__', type_params={'U': DeclaredTypeInstance(type='Maybe', params={'T': DeclaredTypeInstance(type='Either', params={'U': DeclaredTypeInstance(type='Vec', params={'T': DeclaredTypeInstance(type='Integer', params=None)}), 'T': DeclaredTypeInstance(type='Integer', params=None)})}), 'T': DeclaredTypeInstance(type='Either', params={'U': DeclaredTypeInstance(type='Vec', params={'T': DeclaredTypeInstance(type='Integer', params=None)}), 'T': DeclaredTypeInstance(type='Integer', params=None)})}, args=['4635025401393889481', '-6625266454406091376'], kwargs=None)], '-4981525845887472322': ['-5711639544431828191', CallNode(function='Abstraction.__call__', type_params={'U': DeclaredTypeInstance(type='Maybe', params={'T': DeclaredTypeInstance(type='Either', params={'U': DeclaredTypeInstance(type='Vec', params={'T': DeclaredTypeInstance(type='Integer', params=None)}), 'T': DeclaredTypeInstance(type='Integer', params=None)})}), 'T': DeclaredTypeInstance(type='Integer', params=None)}, args=['251136556258223993', '2507768681348984026'], kwargs=None)], '2085146165325110638': ['-4979443563467282184', CallNode(function='Abstraction.__add__', type_params={'U': DeclaredTypeInstance(type='Maybe', params={'T': DeclaredTypeInstance(type='Either', params={'U': DeclaredTypeInstance(type='Vec', params={'T': DeclaredTypeInstance(type='Integer', params=None)}), 'T': DeclaredTypeInstance(type='Integer', params=None)})}), 'T': DeclaredTypeInstance(type='Either', params={'U': DeclaredTypeInstance(type='Vec', params={'T': DeclaredTypeInstance(type='Integer', params=None)}), 'T': DeclaredTypeInstance(type='Integer', params=None)})}, args=['4635025401393889481', '188400188245589463'], kwargs=None)], '-2607264151601447062': ['-8693574137465041742', CallNode(function='Maybe.match', type_params={'T': DeclaredTypeInstance(type='Vec', params={'T': DeclaredTypeInstance(type='Integer', params=None)})}, args=['-7726250483385592724', '542625740483342888', '2085146165325110638'], kwargs=None)], '-5307063207184114105': ['-3702009093770552402', CallNode(function='Maybe.__or__', type_params={'T': DeclaredTypeInstance(type='Either', params={'U': DeclaredTypeInstance(type='Vec', params={'T': DeclaredTypeInstance(type='Integer', params=None)}), 'T': DeclaredTypeInstance(type='Integer', params=None)})}, args=['-4981525845887472322', '-2607264151601447062'], kwargs=None)], '8210208567642912387': ['-1176136162159317166', CallNode(function='Maybe.__and__', type_params={'T': DeclaredTypeInstance(type='NDArray', params=None)}, args=['385105171314180610', '-5307063207184114105'], kwargs=None)], '1966643296235947824': ['-3602988945447969937', CallNode(function='Maybe.match', type_params={'T': DeclaredTypeInstance(type='Pair', params={'U': DeclaredTypeInstance(type='Either', params={'U': DeclaredTypeInstance(type='Vec', params={'T': DeclaredTypeInstance(type='Integer', params=None)}), 'T': DeclaredTypeInstance(type='Integer', params=None)}), 'T': DeclaredTypeInstance(type='NDArray', params=None)})}, args=['8210208567642912387', '9032834383112645395', '7808960626005506202'], kwargs=None)], '-7831809386955750473': ['-4772016795270189587', CallNode(function='NDArrayCompat.from_ndarray', type_params=None, args=['1966643296235947824'], kwargs=None)], '-1075160585155683893': ['-1341672716970475800', CallNode(function='NDArrayCompat.to_ndarray', type_params=None, args=['-7831809386955750473'], kwargs=None)], '4954432109362218524': ['4954432109362218524', PrimitiveNode(type='Variable', repr='Variable(4762794360)')], '3608346765094280245': ['3608346765094280245', CallNode(function='Abstraction.create_variable', type_params={'U': DeclaredTypeInstance(type='Maybe', params={'T': DeclaredTypeInstance(type='NDArray', params=None)}), 'T': DeclaredTypeInstance(type='NDArray', params=None)}, args=['4954432109362218524'], kwargs=None)], '4096479446876412357': ['4096479446876412357', CallNode(function='Maybe.just', type_params={'T': DeclaredTypeInstance(type='NDArray', params=None)}, args=['3608346765094280245'], kwargs=None)], '-8573522558940743683': ['-1894269937027086384', CallNode(function='Abstraction.create', type_params={'U': DeclaredTypeInstance(type='Maybe', params={'T': DeclaredTypeInstance(type='NDArray', params=None)}), 'T': DeclaredTypeInstance(type='NDArray', params=None)}, args=['3608346765094280245', '4096479446876412357'], kwargs=None)], '-6750704868498848563': ['-7005933830148898301', CallNode(function='Abstraction.__add__', type_params={'U': DeclaredTypeInstance(type='Maybe', params={'T': DeclaredTypeInstance(type='NDArray', params=None)}), 'T': DeclaredTypeInstance(type='NDArray', params=None)}, args=['-8573522558940743683', '9003221985443418126'], kwargs=None)], '-6889420331530803721': ['-996850803608951878', CallNode(function='Abstraction.__call__', type_params={'U': DeclaredTypeInstance(type='Maybe', params={'T': DeclaredTypeInstance(type='NDArray', params=None)}), 'T': DeclaredTypeInstance(type='Integer', params=None)}, args=['-6750704868498848563', '-1313138448651871637'], kwargs=None)], '2402650112385120430': ['-8162579586956751115', CallNode(function='NDArrayCompat.from_ndarray', type_params=None, args=['-6889420331530803721'], kwargs=None)], '9218333403406334816': ['6785135613727947616', CallNode(function='NDArrayCompat.__add__', type_params=None, args=['2402650112385120430', '5417034725160828583'], kwargs=None)], '-8700033624836036710': ['-2020586981356496369', CallNode(function='Converter.convert', type_params={'T': DeclaredTypeInstance(type='NDArray', params=None)}, args=['9218333403406334816'], kwargs=None)], '5034270711710687634': ['-1176136162159317166', CallNode(function='Maybe.__and__', type_params={'T': DeclaredTypeInstance(type='NDArray', params=None)}, args=['-8700033624836036710', '-5307063207184114105'], kwargs=None)], '1046799996242804096': ['7808960626005506202', CallNode(function='Abstraction.__add__', type_params={'U': DeclaredTypeInstance(type='Maybe', params={'T': DeclaredTypeInstance(type='NDArray', params=None)}), 'T': DeclaredTypeInstance(type='NDArray', params=None)}, args=['-8573522558940743683', '6914557858993007492'], kwargs=None)], '-2460974168755011291': ['-3602988945447969937', CallNode(function='Maybe.match', type_params={'T': DeclaredTypeInstance(type='Pair', params={'U': DeclaredTypeInstance(type='Either', params={'U': DeclaredTypeInstance(type='Vec', params={'T': DeclaredTypeInstance(type='Integer', params=None)}), 'T': DeclaredTypeInstance(type='Integer', params=None)}), 'T': DeclaredTypeInstance(type='NDArray', params=None)})}, args=['5034270711710687634', '9032834383112645395', '1046799996242804096'], kwargs=None)], '-1698211826538905357': ['-4772016795270189587', CallNode(function='NDArrayCompat.from_ndarray', type_params=None, args=['-2460974168755011291'], kwargs=None)], '-6823389713279306352': ['-1341672716970475800', CallNode(function='NDArrayCompat.to_ndarray', type_params=None, args=['-1698211826538905357'], kwargs=None)], '4954432115725300474': ['4954432115725300474', PrimitiveNode(type='Variable', repr='Variable(4763019416)')], '7281639658939935167': ['7281639658939935167', CallNode(function='Abstraction.create_variable', type_params={'U': DeclaredTypeInstance(type='Maybe', params={'T': DeclaredTypeInstance(type='NDArray', params=None)}), 'T': DeclaredTypeInstance(type='NDArray', params=None)}, args=['4954432115725300474'], kwargs=None)], '-8574334911283847007': ['-8574334911283847007', CallNode(function='Maybe.just', type_params={'T': DeclaredTypeInstance(type='NDArray', params=None)}, args=['7281639658939935167'], kwargs=None)], '-2379822715312111207': ['-2379822715312111207', CallNode(function='Abstraction.create', type_params={'U': DeclaredTypeInstance(type='Maybe', params={'T': DeclaredTypeInstance(type='NDArray', params=None)}), 'T': DeclaredTypeInstance(type='NDArray', params=None)}, args=['7281639658939935167', '-8574334911283847007'], kwargs=None)], '3145527808357273259': ['3145527808357273259', CallNode(function='Abstraction.__add__', type_params={'U': DeclaredTypeInstance(type='Maybe', params={'T': DeclaredTypeInstance(type='NDArray', params=None)}), 'T': DeclaredTypeInstance(type='NDArray', params=None)}, args=['-2379822715312111207', '9003221985443418126'], kwargs=None)], '3984286343726679996': ['161942629437193568', CallNode(function='Abstraction.__call__', type_params={'U': DeclaredTypeInstance(type='Maybe', params={'T': DeclaredTypeInstance(type='NDArray', params=None)}), 'T': DeclaredTypeInstance(type='Integer', params=None)}, args=['3145527808357273259', '-1313138448651871637'], kwargs=None)], '114517206094957062': ['5417034725160828583', CallNode(function='NDArrayCompat.from_ndarray', type_params=None, args=['3984286343726679996'], kwargs=None)], '291113876773064437': ['6785135613727947616', CallNode(function='NDArrayCompat.__add__', type_params=None, args=['2402650112385120430', '114517206094957062'], kwargs=None)], '-6203650838009083156': ['-2020586981356496369', CallNode(function='Converter.convert', type_params={'T': DeclaredTypeInstance(type='NDArray', params=None)}, args=['291113876773064437'], kwargs=None)], '8545906501954801275': ['-1176136162159317166', CallNode(function='Maybe.__and__', type_params={'T': DeclaredTypeInstance(type='NDArray', params=None)}, args=['-6203650838009083156', '-5307063207184114105'], kwargs=None)], '-4793305647002860029': ['-3602988945447969937', CallNode(function='Maybe.match', type_params={'T': DeclaredTypeInstance(type='Pair', params={'U': DeclaredTypeInstance(type='Either', params={'U': DeclaredTypeInstance(type='Vec', params={'T': DeclaredTypeInstance(type='Integer', params=None)}), 'T': DeclaredTypeInstance(type='Integer', params=None)}), 'T': DeclaredTypeInstance(type='NDArray', params=None)})}, args=['8545906501954801275', '9032834383112645395', '1046799996242804096'], kwargs=None)], '2428627549630500690': ['-4772016795270189587', CallNode(function='NDArrayCompat.from_ndarray', type_params=None, args=['-4793305647002860029'], kwargs=None)], '-8209878657701496208': ['-1341672716970475800', CallNode(function='NDArrayCompat.to_ndarray', type_params=None, args=['2428627549630500690'], kwargs=None)], '-3644965817071629006': ['-3644965817071629006', CallNode(function='Maybe.just', type_params={'T': DeclaredTypeInstance(type='NDArray', params=None)}, args=['-1669249308957284923'], kwargs=None)], '-4499936965109676736': ['-4499936965109676736', CallNode(function='Abstraction.create', type_params=None, args=['-3875335050971398825', '-3644965817071629006'], kwargs=None)], '5715674669693384074': ['-3602988945447969937', CallNode(function='Maybe.match', type_params={'T': DeclaredTypeInstance(type='Pair', params={'U': DeclaredTypeInstance(type='Either', params={'U': DeclaredTypeInstance(type='Vec', params={'T': DeclaredTypeInstance(type='Integer', params=None)}), 'T': DeclaredTypeInstance(type='Integer', params=None)}), 'T': DeclaredTypeInstance(type='NDArray', params=None)})}, args=['8545906501954801275', '9032834383112645395', '-4499936965109676736'], kwargs=None)], '-871511247662238325': ['-4772016795270189587', CallNode(function='NDArrayCompat.from_ndarray', type_params=None, args=['5715674669693384074'], kwargs=None)], '-6621680720869191416': ['-1341672716970475800', CallNode(function='NDArrayCompat.to_ndarray', type_params=None, args=['-871511247662238325'], kwargs=None)], '-7767314672509380530': ['-7767314672509380530', CallNode(function='Maybe.just', type_params={'T': DeclaredTypeInstance(type='Either', params={'U': DeclaredTypeInstance(type='Vec', params={'T': DeclaredTypeInstance(type='Integer', params=None)}), 'T': DeclaredTypeInstance(type='Integer', params=None)})}, args=['4503027993476547237'], kwargs=None)], '4654565502574162085': ['-4979443563467282184', CallNode(function='Abstraction.create', type_params=None, args=['1338288602999335341', '-7767314672509380530'], kwargs=None)], '-9140232007187717295': ['-8693574137465041742', CallNode(function='Maybe.match', type_params={'T': DeclaredTypeInstance(type='Vec', params={'T': DeclaredTypeInstance(type='Integer', params=None)})}, args=['-7726250483385592724', '542625740483342888', '4654565502574162085'], kwargs=None)], '4351124380524720886': ['-3702009093770552402', CallNode(function='Maybe.__or__', type_params={'T': DeclaredTypeInstance(type='Either', params={'U': DeclaredTypeInstance(type='Vec', params={'T': DeclaredTypeInstance(type='Integer', params=None)}), 'T': DeclaredTypeInstance(type='Integer', params=None)})}, args=['-4981525845887472322', '-9140232007187717295'], kwargs=None)], '-1252495552457240223': ['-1176136162159317166', CallNode(function='Maybe.__and__', type_params={'T': DeclaredTypeInstance(type='NDArray', params=None)}, args=['-6203650838009083156', '4351124380524720886'], kwargs=None)], '-4109104279317326397': ['-3602988945447969937', CallNode(function='Maybe.match', type_params={'T': DeclaredTypeInstance(type='Pair', params={'U': DeclaredTypeInstance(type='Either', params={'U': DeclaredTypeInstance(type='Vec', params={'T': DeclaredTypeInstance(type='Integer', params=None)}), 'T': DeclaredTypeInstance(type='Integer', params=None)}), 'T': DeclaredTypeInstance(type='NDArray', params=None)})}, args=['-1252495552457240223', '9032834383112645395', '-4499936965109676736'], kwargs=None)], '6028786477061586829': ['-4772016795270189587', CallNode(function='NDArrayCompat.from_ndarray', type_params=None, args=['-4109104279317326397'], kwargs=None)], '5481959897104242996': ['-1341672716970475800', CallNode(function='NDArrayCompat.to_ndarray', type_params=None, args=['6028786477061586829'], kwargs=None)], '-3976014159338974906': ['-3976014159338974906', CallNode(function='Maybe.just', type_params={'T': DeclaredTypeInstance(type='Either', params={'U': DeclaredTypeInstance(type='Vec', params={'T': DeclaredTypeInstance(type='Integer', params=None)}), 'T': DeclaredTypeInstance(type='Integer', params=None)})}, args=['2339027244142301325'], kwargs=None)], '3321638441002206874': ['-8185615459012223365', CallNode(function='Abstraction.create', type_params=None, args=['7625737217546302985', '-3976014159338974906'], kwargs=None)], '7345291844178281184': ['-5711639544431828191', CallNode(function='Abstraction.__call__', type_params={'U': DeclaredTypeInstance(type='Maybe', params={'T': DeclaredTypeInstance(type='Either', params={'U': DeclaredTypeInstance(type='Vec', params={'T': DeclaredTypeInstance(type='Integer', params=None)}), 'T': DeclaredTypeInstance(type='Integer', params=None)})}), 'T': DeclaredTypeInstance(type='Integer', params=None)}, args=['3321638441002206874', '2507768681348984026'], kwargs=None)], '4000648793983003173': ['-3702009093770552402', CallNode(function='Maybe.__or__', type_params={'T': DeclaredTypeInstance(type='Either', params={'U': DeclaredTypeInstance(type='Vec', params={'T': DeclaredTypeInstance(type='Integer', params=None)}), 'T': DeclaredTypeInstance(type='Integer', params=None)})}, args=['7345291844178281184', '-9140232007187717295'], kwargs=None)], '1853330158292827626': ['-1176136162159317166', CallNode(function='Maybe.__and__', type_params={'T': DeclaredTypeInstance(type='NDArray', params=None)}, args=['-6203650838009083156', '4000648793983003173'], kwargs=None)], '344329709028571110': ['-3602988945447969937', CallNode(function='Maybe.match', type_params={'T': DeclaredTypeInstance(type='Pair', params={'U': DeclaredTypeInstance(type='Either', params={'U': DeclaredTypeInstance(type='Vec', params={'T': DeclaredTypeInstance(type='Integer', params=None)}), 'T': DeclaredTypeInstance(type='Integer', params=None)}), 'T': DeclaredTypeInstance(type='NDArray', params=None)})}, args=['1853330158292827626', '9032834383112645395', '-4499936965109676736'], kwargs=None)], '8117533198369204841': ['-4772016795270189587', CallNode(function='NDArrayCompat.from_ndarray', type_params=None, args=['344329709028571110'], kwargs=None)], '-305335187543291677': ['-1341672716970475800', CallNode(function='NDArrayCompat.to_ndarray', type_params=None, args=['8117533198369204841'], kwargs=None)], '-8215238012704140842': ['-8215238012704140842', CallNode(function='Either.left', type_params={'U': DeclaredTypeInstance(type='Vec', params={'T': DeclaredTypeInstance(type='Integer', params=None)}), 'T': DeclaredTypeInstance(type='Integer', params=None)}, args=['2507768681348984026'], kwargs=None)], '-2879884706675895873': ['-5711639544431828191', CallNode(function='Maybe.just', type_params={'T': DeclaredTypeInstance(type='Either', params={'U': DeclaredTypeInstance(type='Vec', params={'T': DeclaredTypeInstance(type='Integer', params=None)}), 'T': DeclaredTypeInstance(type='Integer', params=None)})}, args=['-8215238012704140842'], kwargs=None)], '-8514678070449284044': ['-3702009093770552402', CallNode(function='Maybe.__or__', type_params={'T': DeclaredTypeInstance(type='Either', params={'U': DeclaredTypeInstance(type='Vec', params={'T': DeclaredTypeInstance(type='Integer', params=None)}), 'T': DeclaredTypeInstance(type='Integer', params=None)})}, args=['-2879884706675895873', '-9140232007187717295'], kwargs=None)], '1796649608107467623': ['-1176136162159317166', CallNode(function='Maybe.__and__', type_params={'T': DeclaredTypeInstance(type='NDArray', params=None)}, args=['-6203650838009083156', '-8514678070449284044'], kwargs=None)], '7412020547346566241': ['-3602988945447969937', CallNode(function='Maybe.match', type_params={'T': DeclaredTypeInstance(type='Pair', params={'U': DeclaredTypeInstance(type='Either', params={'U': DeclaredTypeInstance(type='Vec', params={'T': DeclaredTypeInstance(type='Integer', params=None)}), 'T': DeclaredTypeInstance(type='Integer', params=None)}), 'T': DeclaredTypeInstance(type='NDArray', params=None)})}, args=['1796649608107467623', '9032834383112645395', '-4499936965109676736'], kwargs=None)], '-7786420490840632653': ['-4772016795270189587', CallNode(function='NDArrayCompat.from_ndarray', type_params=None, args=['7412020547346566241'], kwargs=None)], '-7771624458473353169': ['-1341672716970475800', CallNode(function='NDArrayCompat.to_ndarray', type_params=None, args=['-7786420490840632653'], kwargs=None)], '-189545260843302981': ['-3702009093770552402', CallNode(function='Maybe.just', type_params=None, args=['-8215238012704140842'], kwargs=None)], '-9094135327947837467': ['-1176136162159317166', CallNode(function='Maybe.__and__', type_params={'T': DeclaredTypeInstance(type='NDArray', params=None)}, args=['-6203650838009083156', '-189545260843302981'], kwargs=None)], '-472985709481612258': ['-3602988945447969937', CallNode(function='Maybe.match', type_params={'T': DeclaredTypeInstance(type='Pair', params={'U': DeclaredTypeInstance(type='Either', params={'U': DeclaredTypeInstance(type='Vec', params={'T': DeclaredTypeInstance(type='Integer', params=None)}), 'T': DeclaredTypeInstance(type='Integer', params=None)}), 'T': DeclaredTypeInstance(type='NDArray', params=None)})}, args=['-9094135327947837467', '9032834383112645395', '-4499936965109676736'], kwargs=None)], '-4281465664748425999': ['-4772016795270189587', CallNode(function='NDArrayCompat.from_ndarray', type_params=None, args=['-472985709481612258'], kwargs=None)], '-6957296477956939921': ['-1341672716970475800', CallNode(function='NDArrayCompat.to_ndarray', type_params=None, args=['-4281465664748425999'], kwargs=None)], '7706625741413645411': ['7706625741413645411', CallNode(function='Maybe.just', type_params={'T': DeclaredTypeInstance(type='NDArray', params=None)}, args=['6757516754014003782'], kwargs=None)], '5754708566465572294': ['-7005933830148898301', CallNode(function='Abstraction.create', type_params=None, args=['5147401912858767407', '7706625741413645411'], kwargs=None)], '-6242270009852743544': ['-996850803608951878', CallNode(function='Abstraction.__call__', type_params={'U': DeclaredTypeInstance(type='Maybe', params={'T': DeclaredTypeInstance(type='NDArray', params=None)}), 'T': DeclaredTypeInstance(type='Integer', params=None)}, args=['5754708566465572294', '-1313138448651871637'], kwargs=None)], '683939614474263945': ['-8162579586956751115', CallNode(function='NDArrayCompat.from_ndarray', type_params=None, args=['-6242270009852743544'], kwargs=None)], '8773204422329611200': ['6785135613727947616', CallNode(function='NDArrayCompat.__add__', type_params=None, args=['2402650112385120430', '683939614474263945'], kwargs=None)], '-6441190819633492294': ['-2020586981356496369', CallNode(function='Converter.convert', type_params={'T': DeclaredTypeInstance(type='NDArray', params=None)}, args=['8773204422329611200'], kwargs=None)], '-3636815010278867181': ['-1176136162159317166', CallNode(function='Maybe.__and__', type_params={'T': DeclaredTypeInstance(type='NDArray', params=None)}, args=['-6441190819633492294', '-189545260843302981'], kwargs=None)], '-624756017752940690': ['-3602988945447969937', CallNode(function='Maybe.match', type_params={'T': DeclaredTypeInstance(type='Pair', params={'U': DeclaredTypeInstance(type='Either', params={'U': DeclaredTypeInstance(type='Vec', params={'T': DeclaredTypeInstance(type='Integer', params=None)}), 'T': DeclaredTypeInstance(type='Integer', params=None)}), 'T': DeclaredTypeInstance(type='NDArray', params=None)})}, args=['-3636815010278867181', '9032834383112645395', '-4499936965109676736'], kwargs=None)], '-6196032312521897343': ['-4772016795270189587', CallNode(function='NDArrayCompat.from_ndarray', type_params=None, args=['-624756017752940690'], kwargs=None)], '-5413586861969663004': ['-1341672716970475800', CallNode(function='NDArrayCompat.to_ndarray', type_params=None, args=['-6196032312521897343'], kwargs=None)], '832424711665835764': ['832424711665835764', CallNode(function='arange_', type_params=None, args=['-1313138448651871637'], kwargs=None)], '1646416269224374271': ['-996850803608951878', CallNode(function='Maybe.just', type_params={'T': DeclaredTypeInstance(type='NDArray', params=None)}, args=['832424711665835764'], kwargs=None)], '-6111134292761862292': ['-8162579586956751115', CallNode(function='NDArrayCompat.from_ndarray', type_params=None, args=['1646416269224374271'], kwargs=None)], '-4551908584128113951': ['6785135613727947616', CallNode(function='NDArrayCompat.__add__', type_params=None, args=['2402650112385120430', '-6111134292761862292'], kwargs=None)], '4524396411024586149': ['-2020586981356496369', CallNode(function='Converter.convert', type_params={'T': DeclaredTypeInstance(type='NDArray', params=None)}, args=['-4551908584128113951'], kwargs=None)], '9140600949285495489': ['-1176136162159317166', CallNode(function='Maybe.__and__', type_params={'T': DeclaredTypeInstance(type='NDArray', params=None)}, args=['4524396411024586149', '-189545260843302981'], kwargs=None)], '-5101555656379093944': ['-3602988945447969937', CallNode(function='Maybe.match', type_params={'T': DeclaredTypeInstance(type='Pair', params={'U': DeclaredTypeInstance(type='Either', params={'U': DeclaredTypeInstance(type='Vec', params={'T': DeclaredTypeInstance(type='Integer', params=None)}), 'T': DeclaredTypeInstance(type='Integer', params=None)}), 'T': DeclaredTypeInstance(type='NDArray', params=None)})}, args=['9140600949285495489', '9032834383112645395', '-4499936965109676736'], kwargs=None)], '-5820135210059900471': ['-4772016795270189587', CallNode(function='NDArrayCompat.from_ndarray', type_params=None, args=['-5101555656379093944'], kwargs=None)], '-7300945258661788980': ['-1341672716970475800', CallNode(function='NDArrayCompat.to_ndarray', type_params=None, args=['-5820135210059900471'], kwargs=None)], '1771717578222139719': ['6785135613727947616', CallNode(function='NDArrayCompat.__add__', type_params=None, args=['683939614474263945', '-6111134292761862292'], kwargs=None)], '1567377495173190982': ['-2020586981356496369', CallNode(function='Converter.convert', type_params={'T': DeclaredTypeInstance(type='NDArray', params=None)}, args=['1771717578222139719'], kwargs=None)], '-6393243522916429279': ['-1176136162159317166', CallNode(function='Maybe.__and__', type_params={'T': DeclaredTypeInstance(type='NDArray', params=None)}, args=['1567377495173190982', '-189545260843302981'], kwargs=None)], '-2566616952428506439': ['-3602988945447969937', CallNode(function='Maybe.match', type_params={'T': DeclaredTypeInstance(type='Pair', params={'U': DeclaredTypeInstance(type='Either', params={'U': DeclaredTypeInstance(type='Vec', params={'T': DeclaredTypeInstance(type='Integer', params=None)}), 'T': DeclaredTypeInstance(type='Integer', params=None)}), 'T': DeclaredTypeInstance(type='NDArray', params=None)})}, args=['-6393243522916429279', '9032834383112645395', '-4499936965109676736'], kwargs=None)], '282018134317802959': ['-4772016795270189587', CallNode(function='NDArrayCompat.from_ndarray', type_params=None, args=['-2566616952428506439'], kwargs=None)], '-8274878410779129228': ['-1341672716970475800', CallNode(function='NDArrayCompat.to_ndarray', type_params=None, args=['282018134317802959'], kwargs=None)], '4512585717378328880': ['6785135613727947616', CallNode(function='NDArrayCompat.__add__', type_params=None, args=['-6111134292761862292', '-6111134292761862292'], kwargs=None)], '-740474970012110432': ['-2020586981356496369', CallNode(function='Converter.convert', type_params={'T': DeclaredTypeInstance(type='NDArray', params=None)}, args=['4512585717378328880'], kwargs=None)], '7346142444234164539': ['-1176136162159317166', CallNode(function='Maybe.__and__', type_params={'T': DeclaredTypeInstance(type='NDArray', params=None)}, args=['-740474970012110432', '-189545260843302981'], kwargs=None)], '1346994866555586890': ['-3602988945447969937', CallNode(function='Maybe.match', type_params={'T': DeclaredTypeInstance(type='Pair', params={'U': DeclaredTypeInstance(type='Either', params={'U': DeclaredTypeInstance(type='Vec', params={'T': DeclaredTypeInstance(type='Integer', params=None)}), 'T': DeclaredTypeInstance(type='Integer', params=None)}), 'T': DeclaredTypeInstance(type='NDArray', params=None)})}, args=['7346142444234164539', '9032834383112645395', '-4499936965109676736'], kwargs=None)], '-5146268985716721595': ['-4772016795270189587', CallNode(function='NDArrayCompat.from_ndarray', type_params=None, args=['1346994866555586890'], kwargs=None)], '4059132800542100512': ['-1341672716970475800', CallNode(function='NDArrayCompat.to_ndarray', type_params=None, args=['-5146268985716721595'], kwargs=None)], '7005412116804673500': ['-3791942308469970679', CallNode(function='NDArray.__add__', type_params=None, args=['832424711665835764', '832424711665835764'], kwargs=None)], '1189092641968672543': ['-2020586981356496369', CallNode(function='Maybe.just', type_params=None, args=['7005412116804673500'], kwargs=None)], '-4321933172678497012': ['6785135613727947616', CallNode(function='NDArrayCompat.from_ndarray', type_params=None, args=['1189092641968672543'], kwargs=None)], '5646358865148850642': ['-2020586981356496369', CallNode(function='Converter.convert', type_params={'T': DeclaredTypeInstance(type='NDArray', params=None)}, args=['-4321933172678497012'], kwargs=None)], '3930569333833847279': ['-1176136162159317166', CallNode(function='Maybe.__and__', type_params={'T': DeclaredTypeInstance(type='NDArray', params=None)}, args=['5646358865148850642', '-189545260843302981'], kwargs=None)], '6528523215535393012': ['-3602988945447969937', CallNode(function='Maybe.match', type_params={'T': DeclaredTypeInstance(type='Pair', params={'U': DeclaredTypeInstance(type='Either', params={'U': DeclaredTypeInstance(type='Vec', params={'T': DeclaredTypeInstance(type='Integer', params=None)}), 'T': DeclaredTypeInstance(type='Integer', params=None)}), 'T': DeclaredTypeInstance(type='NDArray', params=None)})}, args=['3930569333833847279', '9032834383112645395', '-4499936965109676736'], kwargs=None)], '7851904239571723065': ['-4772016795270189587', CallNode(function='NDArrayCompat.from_ndarray', type_params=None, args=['6528523215535393012'], kwargs=None)], '2199921499689994227': ['-1341672716970475800', CallNode(function='NDArrayCompat.to_ndarray', type_params=None, args=['7851904239571723065'], kwargs=None)], '1614487485264017680': ['-1176136162159317166', CallNode(function='Maybe.__and__', type_params={'T': DeclaredTypeInstance(type='NDArray', params=None)}, args=['1189092641968672543', '-189545260843302981'], kwargs=None)], '6681686493132688404': ['-3602988945447969937', CallNode(function='Maybe.match', type_params={'T': DeclaredTypeInstance(type='Pair', params={'U': DeclaredTypeInstance(type='Either', params={'U': DeclaredTypeInstance(type='Vec', params={'T': DeclaredTypeInstance(type='Integer', params=None)}), 'T': DeclaredTypeInstance(type='Integer', params=None)}), 'T': DeclaredTypeInstance(type='NDArray', params=None)})}, args=['1614487485264017680', '9032834383112645395', '-4499936965109676736'], kwargs=None)], '3720862681910269017': ['-4772016795270189587', CallNode(function='NDArrayCompat.from_ndarray', type_params=None, args=['6681686493132688404'], kwargs=None)], '8054916738897729293': ['-1341672716970475800', CallNode(function='NDArrayCompat.to_ndarray', type_params=None, args=['3720862681910269017'], kwargs=None)], '5958914858003784629': ['5958914858003784629', CallNode(function='Pair.create', type_params=None, args=['7005412116804673500', '-8215238012704140842'], kwargs=None)], '-2556112163304457': ['-1176136162159317166', CallNode(function='Maybe.just', type_params=None, args=['5958914858003784629'], kwargs=None)], '4760557859767829457': ['-3602988945447969937', CallNode(function='Maybe.match', type_params={'T': DeclaredTypeInstance(type='Pair', params={'U': DeclaredTypeInstance(type='Either', params={'U': DeclaredTypeInstance(type='Vec', params={'T': DeclaredTypeInstance(type='Integer', params=None)}), 'T': DeclaredTypeInstance(type='Integer', params=None)}), 'T': DeclaredTypeInstance(type='NDArray', params=None)})}, args=['-2556112163304457', '9032834383112645395', '-4499936965109676736'], kwargs=None)], '4148660906229533928': ['-4772016795270189587', CallNode(function='NDArrayCompat.from_ndarray', type_params=None, args=['4760557859767829457'], kwargs=None)], '7774466691886965714': ['-1341672716970475800', CallNode(function='NDArrayCompat.to_ndarray', type_params=None, args=['4148660906229533928'], kwargs=None)], '5784105435553705849': ['-3602988945447969937', CallNode(function='Abstraction.__call__', type_params={'U': DeclaredTypeInstance(type='Maybe', params={'T': DeclaredTypeInstance(type='NDArray', params=None)}), 'T': DeclaredTypeInstance(type='Pair', params={'U': DeclaredTypeInstance(type='Either', params={'U': DeclaredTypeInstance(type='Vec', params={'T': DeclaredTypeInstance(type='Integer', params=None)}), 'T': DeclaredTypeInstance(type='Integer', params=None)}), 'T': DeclaredTypeInstance(type='NDArray', params=None)})}, args=['-4499936965109676736', '5958914858003784629'], kwargs=None)], '7248706430206136000': ['-4772016795270189587', CallNode(function='NDArrayCompat.from_ndarray', type_params=None, args=['5784105435553705849'], kwargs=None)], '6235089413555795872': ['-1341672716970475800', CallNode(function='NDArrayCompat.to_ndarray', type_params=None, args=['7248706430206136000'], kwargs=None)], '-3791942308469970679': ['-3791942308469970679', CallNode(function='Pair.left', type_params={'U': DeclaredTypeInstance(type='Either', params={'U': DeclaredTypeInstance(type='Vec', params={'T': DeclaredTypeInstance(type='Integer', params=None)}), 'T': DeclaredTypeInstance(type='Integer', params=None)}), 'T': DeclaredTypeInstance(type='NDArray', params=None)}, args=['5958914858003784629'], kwargs=None)], '3286866018787861345': ['3286866018787861345', CallNode(function='Pair.right', type_params={'U': DeclaredTypeInstance(type='Either', params={'U': DeclaredTypeInstance(type='Vec', params={'T': DeclaredTypeInstance(type='Integer', params=None)}), 'T': DeclaredTypeInstance(type='Integer', params=None)}), 'T': DeclaredTypeInstance(type='NDArray', params=None)}, args=['5958914858003784629'], kwargs=None)], '-7358658533967007486': ['-7358658533967007486', CallNode(function='NDArray.__getitem__', type_params=None, args=['-3791942308469970679', '3286866018787861345'], kwargs=None)], '1757153991661204000': ['-3602988945447969937', CallNode(function='Maybe.just', type_params={'T': DeclaredTypeInstance(type='NDArray', params=None)}, args=['-7358658533967007486'], kwargs=None)], '-6431450014531788569': ['-4772016795270189587', CallNode(function='NDArrayCompat.from_ndarray', type_params=None, args=['1757153991661204000'], kwargs=None)], '-2825182354181474218': ['-1341672716970475800', CallNode(function='NDArrayCompat.to_ndarray', type_params=None, args=['-6431450014531788569'], kwargs=None)], '-4849121165648023211': ['-7358658533967007486', CallNode(function='NDArray.__getitem__', type_params=None, args=['-3791942308469970679', '-8215238012704140842'], kwargs=None)], '-4118936360968403820': ['-3602988945447969937', CallNode(function='Maybe.just', type_params={'T': DeclaredTypeInstance(type='NDArray', params=None)}, args=['-4849121165648023211'], kwargs=None)], '9151508734577916712': ['-4772016795270189587', CallNode(function='NDArrayCompat.from_ndarray', type_params=None, args=['-4118936360968403820'], kwargs=None)], '4878043911049156648': ['-1341672716970475800', CallNode(function='NDArrayCompat.to_ndarray', type_params=None, args=['9151508734577916712'], kwargs=None)], '-130684388737434378': ['-7358658533967007486', CallNode(function='NDArray.__getitem__', type_params=None, args=['7005412116804673500', '-8215238012704140842'], kwargs=None)], '-6652966630813919611': ['-3602988945447969937', CallNode(function='Maybe.just', type_params={'T': DeclaredTypeInstance(type='NDArray', params=None)}, args=['-130684388737434378'], kwargs=None)], '-1772126965539794600': ['-4772016795270189587', CallNode(function='NDArrayCompat.from_ndarray', type_params=None, args=['-6652966630813919611'], kwargs=None)], '6639613543171332087': ['-1341672716970475800', CallNode(function='NDArrayCompat.to_ndarray', type_params=None, args=['-1772126965539794600'], kwargs=None)], '-3524978464740929255': ['-3524978464740929255', CallNode(function='NDArray.__getitem__', type_params=None, args=['832424711665835764', '-8215238012704140842'], kwargs=None)], '-4324498121408073500': ['-4324498121408073500', CallNode(function='NDArray.__add__', type_params=None, args=['-3524978464740929255', '-3524978464740929255'], kwargs=None)], '-1291728310689516092': ['-3602988945447969937', CallNode(function='Maybe.just', type_params={'T': DeclaredTypeInstance(type='NDArray', params=None)}, args=['-4324498121408073500'], kwargs=None)], '2242880065353338643': ['-4772016795270189587', CallNode(function='NDArrayCompat.from_ndarray', type_params=None, args=['-1291728310689516092'], kwargs=None)], '6736766577269574448': ['-1341672716970475800', CallNode(function='NDArrayCompat.to_ndarray', type_params=None, args=['2242880065353338643'], kwargs=None)], '5931344570177817104': ['-1341672716970475800', CallNode(function='NDArray.to_ndarray', type_params=None, args=['-4324498121408073500'], kwargs=None)], '61498299686903143': ['61498299686903143', CallNode(function='NDArray.to_ndarray', type_params=None, args=['-3524978464740929255'], kwargs=None)], '3625077533213321691': ['-1341672716970475800', CallNode(function='ndarray_add', type_params=None, args=['61498299686903143', '61498299686903143'], kwargs=None)], '-4554451458422625093': ['-4554451458422625093', CallNode(function='NDArray.to_ndarray', type_params=None, args=['832424711665835764'], kwargs=None)], '-3794084279707917178': ['-3794084279707917178', CallNode(function='unbox_idxs', type_params=None, args=['-8215238012704140842'], kwargs=None)], '-5999552685951690708': ['61498299686903143', CallNode(function='ndarray_getitem', type_params=None, args=['-4554451458422625093', '-3794084279707917178'], kwargs=None)], '-7236370451967049007': ['-1341672716970475800', CallNode(function='ndarray_add', type_params=None, args=['-5999552685951690708', '-5999552685951690708'], kwargs=None)], '7733020047603416001': ['-3794084279707917178', CallNode(function='unbox_integer', type_params=None, args=['2507768681348984026'], kwargs=None)], '-8480499291664650005': ['61498299686903143', CallNode(function='ndarray_getitem', type_params=None, args=['-4554451458422625093', '7733020047603416001'], kwargs=None)], '2133007437973642621': ['-1341672716970475800', CallNode(function='ndarray_add', type_params=None, args=['-8480499291664650005', '-8480499291664650005'], kwargs=None)], '-7168999135197082336': ['61498299686903143', CallNode(function='ndarray_getitem', type_params=None, args=['-4554451458422625093', '-7737040241182541916'], kwargs=None)], '2053813111526377715': ['-1341672716970475800', CallNode(function='ndarray_add', type_params=None, args=['-7168999135197082336', '-7168999135197082336'], kwargs=None)], '-5945887149520679823': ['-5945887149520679823', CallNode(function='unbox_integer', type_params=None, args=['-1313138448651871637'], kwargs=None)], '6728931720816540191': ['-4554451458422625093', CallNode(function='arange', type_params=None, args=['-5945887149520679823'], kwargs=None)], '892307179432027363': ['61498299686903143', CallNode(function='ndarray_getitem', type_params=None, args=['6728931720816540191', '-7737040241182541916'], kwargs=None)], '675553606047805683': ['-1341672716970475800', CallNode(function='ndarray_add', type_params=None, args=['892307179432027363', '892307179432027363'], kwargs=None)], '-5426302648562200192': ['-4554451458422625093', CallNode(function='arange', type_params=None, args=['-7737040241287546841'], kwargs=None)], '6959752695278090588': ['61498299686903143', CallNode(function='ndarray_getitem', type_params=None, args=['-5426302648562200192', '-7737040241182541916'], kwargs=None)], '-8028506287888493493': ['-1341672716970475800', CallNode(function='ndarray_add', type_params=None, args=['6959752695278090588', '6959752695278090588'], kwargs=None)], '-2445374677926254491': ['-4554451458422625093', PrimitiveNode(type='ndarray', repr='array([ 0,  1,  2,  3,  4,  5,  6,  7,  8,  9, 10, 11, 12, 13, 14, 15, 16,\\n       17, 18, 19, 20, 21, 22, 23, 24, 25, 26, 27, 28, 29, 30, 31, 32, 33,\\n       34, 35, 36, 37, 38, 39, 40, 41, 42, 43, 44, 45, 46, 47, 48, 49, 50,\\n       51, 52, 53, 54, 55, 56, 57, 58, 59, 60, 61, 62, 63, 64, 65, 66, 67,\\n       68, 69, 70, 71, 72, 73, 74, 75, 76, 77, 78, 79, 80, 81, 82, 83, 84,\\n       85, 86, 87, 88, 89, 90, 91, 92, 93, 94, 95, 96, 97, 98, 99])')], '8221764502619431706': ['61498299686903143', CallNode(function='ndarray_getitem', type_params=None, args=['-2445374677926254491', '-7737040241182541916'], kwargs=None)], '-7820620210380381965': ['-1341672716970475800', CallNode(function='ndarray_add', type_params=None, args=['8221764502619431706', '8221764502619431706'], kwargs=None)], '-2445373787778937291': ['61498299686903143', PrimitiveNode(type='ndarray', repr='array(5)')], '-2666192187224006763': ['-1341672716970475800', CallNode(function='ndarray_add', type_params=None, args=['-2445373787778937291', '-2445373787778937291'], kwargs=None)], '6776573729655836417': ['-1341672716970475800', PrimitiveNode(type='int64', repr='10')]}, states=States(initial='-1341672716970475800', states=[State(node='7241610095508399835', rule='metadsl_core.numpy.NDArrayCompat.__getitem__', label=None), State(node='9072194386204861162', rule='metadsl_core.either.convert_to_either', label=None), State(node='-6123343400095293073', rule='metadsl_core.integer.convert_integer', label=None), State(node='7166280710631917938', rule='metadsl_core.numpy.arange', label=None), State(node='7846544271585561988', rule='metadsl_core.integer.convert_integer', label=None), State(node='-2180327752598035810', rule='metadsl_core.abstraction.Abstraction.from_fn', label=None), State(node='7644460815294350903', rule='metadsl_core.abstraction.Abstraction.from_fn', label=None), State(node='-7359191991636668110', rule='metadsl_core.abstraction.Abstraction.from_fn', label=None), State(node='-31621047551986260', rule='metadsl_core.abstraction.Abstraction.from_fn', label=None), State(node='2631660266934350096', rule='metadsl_core.maybe.Maybe.map', label=None), State(node='-8900967940227574082', rule='metadsl_core.maybe.Maybe.map', label=None), State(node='7933129133460969990', rule='metadsl_core.maybe.Maybe.map', label=None), State(node='-5913722577499261700', rule='metadsl_core.maybe.maybe_match', label=None), State(node='4093895417369418546', rule='metadsl_core.maybe.Maybe.map', label=None), State(node='-3392481267222404138', rule='metadsl_core.maybe.Maybe.map', label=None), State(node='-552847069780420540', rule='metadsl_core.maybe.maybe_match', label=None), State(node='427833878628127218', rule='metadsl_core.maybe.maybe_match', label=None), State(node='-1075160585155683893', rule='metadsl_core.abstraction.Abstraction.from_fn', label=None), State(node='-6823389713279306352', rule='metadsl_core.abstraction.Abstraction.from_fn', label=None), State(node='-8209878657701496208', rule='metadsl_core.abstraction.Abstraction.from_fn', label=None), State(node='-6621680720869191416', rule='metadsl_core.abstraction.compose', label=None), State(node='5481959897104242996', rule='metadsl_core.abstraction.compose', label=None), State(node='-305335187543291677', rule='metadsl_core.abstraction.compose', label=None), State(node='-7771624458473353169', rule='metadsl_core.abstraction.beta_reduce', label=None), State(node='-6957296477956939921', rule='metadsl_core.maybe.maybe_or', label=None), State(node='-5413586861969663004', rule='metadsl_core.abstraction.compose', label=None), State(node='-7300945258661788980', rule='metadsl_core.abstraction.beta_reduce', label=None), State(node='-8274878410779129228', rule='metadsl_core.abstraction.compose', label=None), State(node='4059132800542100512', rule='metadsl_core.abstraction.beta_reduce', label=None), State(node='2199921499689994227', rule='metadsl_core.numpy.add_compat', label=None), State(node='8054916738897729293', rule='metadsl_core.numpy.convert_to_ndarray', label=None), State(node='7774466691886965714', rule='metadsl_core.maybe.maybe_and', label=None), State(node='6235089413555795872', rule='metadsl_core.maybe.maybe_match', label=None), State(node='-2825182354181474218', rule='metadsl_core.abstraction.beta_reduce', label=None), State(node='4878043911049156648', rule='metadsl_core.pair.pair_right', label=None), State(node='6639613543171332087', rule='metadsl_core.pair.pair_left', label=None), State(node='6639613543171332087', rule='', label='convert'), State(node='6736766577269574448', rule='__main__.optimize_getitem_add', label=None), State(node='6736766577269574448', rule='', label='optimize'), State(node='5931344570177817104', rule='metadsl_core.numpy.box_unbox_ndarray_compat', label=None), State(node='3625077533213321691', rule='metadsl_core.numpy_engine.unbox_ndarray_add', label=None), State(node='-7236370451967049007', rule='metadsl_core.numpy_engine.unbox_ndarray_getitem', label=None), State(node='2133007437973642621', rule='metadsl_core.numpy_engine.unbox_idxs_rule', label=None), State(node='2053813111526377715', rule='metadsl_core.numpy_engine.unbox_integer_rule', label=None), State(node='675553606047805683', rule='metadsl_core.numpy_engine.unbox_arange', label=None), State(node='-8028506287888493493', rule='metadsl_core.numpy_engine.unbox_integer_rule', label=None), State(node='-8028506287888493493', rule='', label='unbox'), State(node='-7820620210380381965', rule='metadsl_core.numpy_engine.arange', label=None), State(node='-2666192187224006763', rule='metadsl_core.numpy_engine.ndarray_getitem', label=None), State(node='6776573729655836417', rule='metadsl_core.numpy_engine.ndarray_add', label=None), State(node='6776573729655836417', rule='', label='execute')]))"
      ]
     },
     "metadata": {},
     "output_type": "display_data"
    },
    {
     "data": {
      "text/plain": [
       "10"
      ]
     },
     "metadata": {},
     "output_type": "display_data"
    }
   ],
   "source": [
    "expr"
   ]
  },
  {
   "cell_type": "markdown",
   "metadata": {},
   "source": [
    "This shows how we can break up the NumPy API into different layers, all of which are extensible:\n",
    "\n",
    "1. A compatibility layer that works like the existing NumPy API, except isn't limited to the Python types of the current API\n",
    "2. A type safe version of this API. The conversion between the compatability layer and this layer is extensible, so that third party authors can add new conversion between their own Python objects and the typed representation.\n",
    "3. A backend layer that translates either back to Python calls or source code, or to other targets like LLVM or Tensorflow.\n",
    "\n",
    "The key is that all these layers are composable, so you could have different frontends for any of them or add your own. This is all done through a typed replacement system that is compatible with static analysis using MyPy.\n",
    "\n",
    "`metadsl` is the glue that allows us to define this API in a way that enables greater greater collaboration. Since each layer has it's own well defined specification, different projects can extend and target these seperate layers, while minimizing the need to explicitly opt in to collaborate. The goal is to enable greater reuse, interoperability, and extensability within the Python scientific ecosystem."
   ]
  }
 ],
 "metadata": {
  "kernelspec": {
   "display_name": "Python 3",
   "language": "python",
   "name": "python3"
  },
  "language_info": {
   "codemirror_mode": {
    "name": "ipython",
    "version": 3
   },
   "file_extension": ".py",
   "mimetype": "text/x-python",
   "name": "python",
   "nbconvert_exporter": "python",
   "pygments_lexer": "ipython3",
   "version": "3.7.3"
  }
 },
 "nbformat": 4,
 "nbformat_minor": 4
}
