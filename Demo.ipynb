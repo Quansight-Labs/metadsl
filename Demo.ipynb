{
 "cells": [
  {
   "cell_type": "markdown",
   "metadata": {},
   "source": [
    "# `metadsl`\n",
    "\n",
    "...is a framework for creating domain specific languages in Python."
   ]
  },
  {
   "cell_type": "code",
   "execution_count": 1,
   "metadata": {},
   "outputs": [],
   "source": [
    "from __future__ import annotations\n",
    "\n",
    "from metadsl import *\n",
    "from metadsl_core import *\n",
    "from metadsl_visualize import *"
   ]
  },
  {
   "cell_type": "markdown",
   "metadata": {},
   "source": [
    "Here, we show a NumPy API compatible DSL that we have started writing. We can create a symbolic expression and then execute it. The widget shows the different stages of execution:"
   ]
  },
  {
   "cell_type": "code",
   "execution_count": 2,
   "metadata": {},
   "outputs": [
    {
     "data": {
      "application/json": {
       "nodes": {
        "-9031501538954785116": [
         "-9031501538954785116",
         {
          "repr": "5",
          "type": "int"
         }
        ],
        "-9031501539059790041": [
         "-9031501539059790041",
         {
          "repr": "100",
          "type": "int"
         }
        ],
        "4982424794959710867": [
         "4982424794959710867",
         {
          "args": [
           "-9031501539059790041"
          ],
          "function": "arange"
         }
        ],
        "5447535458505340468": [
         "5447535458505340468",
         {
          "args": [
           "4982424794959710867",
           "4982424794959710867"
          ],
          "function": "NDArrayCompat.__add__"
         }
        ],
        "5593707570515573442": [
         "5593707570515573442",
         {
          "args": [
           "5447535458505340468",
           "-9031501538954785116"
          ],
          "function": "NDArrayCompat.__getitem__"
         }
        ],
        "680250064134282809": [
         "680250064134282809",
         {
          "args": [
           "5593707570515573442"
          ],
          "function": "NDArrayCompat.to_ndarray"
         }
        ]
       },
       "states": {
        "initial": "680250064134282809",
        "states": [
         {
          "node": "680250064134282809",
          "rule": "metadsl_core.numpy.NDArrayCompat.__getitem__"
         },
         {
          "node": "680250064134282809",
          "rule": "metadsl_core.numpy.NDArrayCompat.__getitem__"
         },
         {
          "node": "680250064134282809",
          "rule": "metadsl_core.numpy.NDArrayCompat.__getitem__"
         },
         {
          "node": "680250064134282809",
          "rule": "metadsl_core.numpy.NDArrayCompat.__getitem__"
         },
         {
          "node": "680250064134282809",
          "rule": "metadsl_core.numpy.NDArrayCompat.__getitem__"
         },
         {
          "node": "680250064134282809",
          "rule": "metadsl_core.numpy.NDArrayCompat.__getitem__"
         },
         {
          "node": "680250064134282809",
          "rule": "metadsl_core.numpy.NDArrayCompat.__getitem__"
         },
         {
          "node": "680250064134282809",
          "rule": "metadsl_core.numpy.NDArrayCompat.__getitem__"
         },
         {
          "node": "680250064134282809",
          "rule": "metadsl_core.numpy.NDArrayCompat.__getitem__"
         },
         {
          "node": "680250064134282809",
          "rule": "metadsl_core.numpy.NDArrayCompat.__getitem__"
         },
         {
          "node": "680250064134282809",
          "rule": "metadsl_core.numpy.NDArrayCompat.__getitem__"
         },
         {
          "node": "680250064134282809",
          "rule": "metadsl_core.numpy.NDArrayCompat.__getitem__"
         },
         {
          "node": "680250064134282809",
          "rule": "metadsl_core.numpy.NDArrayCompat.__getitem__"
         },
         {
          "node": "680250064134282809",
          "rule": "metadsl_core.numpy.NDArrayCompat.__getitem__"
         },
         {
          "node": "680250064134282809",
          "rule": "metadsl_core.numpy.NDArrayCompat.__getitem__"
         },
         {
          "node": "680250064134282809",
          "rule": "metadsl_core.numpy.NDArrayCompat.__getitem__"
         },
         {
          "node": "680250064134282809",
          "rule": "metadsl_core.numpy.NDArrayCompat.__getitem__"
         },
         {
          "node": "680250064134282809",
          "rule": "metadsl_core.numpy.NDArrayCompat.__getitem__"
         },
         {
          "node": "680250064134282809",
          "rule": "metadsl_core.numpy.NDArrayCompat.__getitem__"
         },
         {
          "node": "680250064134282809",
          "rule": "metadsl_core.numpy.NDArrayCompat.__getitem__"
         },
         {
          "node": "680250064134282809",
          "rule": "metadsl_core.numpy.NDArrayCompat.__getitem__"
         },
         {
          "node": "680250064134282809",
          "rule": "metadsl_core.numpy.NDArrayCompat.__getitem__"
         },
         {
          "node": "680250064134282809",
          "rule": "metadsl_core.numpy.NDArrayCompat.__getitem__"
         },
         {
          "node": "680250064134282809",
          "rule": "metadsl_core.numpy.NDArrayCompat.__getitem__"
         },
         {
          "node": "680250064134282809",
          "rule": "metadsl_core.numpy.NDArrayCompat.__getitem__"
         },
         {
          "node": "680250064134282809",
          "rule": "metadsl_core.numpy.NDArrayCompat.__getitem__"
         },
         {
          "node": "680250064134282809",
          "rule": "metadsl_core.numpy.NDArrayCompat.__getitem__"
         },
         {
          "node": "680250064134282809",
          "rule": "metadsl_core.numpy.NDArrayCompat.__getitem__"
         },
         {
          "node": "680250064134282809",
          "rule": "metadsl_core.numpy.NDArrayCompat.__getitem__"
         },
         {
          "node": "680250064134282809",
          "rule": "metadsl_core.numpy.NDArrayCompat.__getitem__"
         },
         {
          "node": "680250064134282809",
          "rule": "metadsl_core.numpy.NDArrayCompat.__getitem__"
         },
         {
          "node": "680250064134282809",
          "rule": "metadsl_core.numpy.NDArrayCompat.__getitem__"
         },
         {
          "node": "680250064134282809",
          "rule": "metadsl_core.numpy.NDArrayCompat.__getitem__"
         },
         {
          "node": "680250064134282809",
          "rule": "metadsl_core.numpy.NDArrayCompat.__getitem__"
         },
         {
          "node": "680250064134282809",
          "rule": "metadsl_core.numpy.NDArrayCompat.__getitem__"
         },
         {
          "node": "680250064134282809",
          "rule": "metadsl_core.numpy.NDArrayCompat.__getitem__"
         },
         {
          "node": "680250064134282809",
          "rule": "metadsl_core.numpy.NDArrayCompat.__getitem__"
         },
         {
          "node": "680250064134282809",
          "rule": "metadsl_core.numpy.NDArrayCompat.__getitem__"
         },
         {
          "node": "680250064134282809",
          "rule": "metadsl_core.numpy.NDArrayCompat.__getitem__"
         },
         {
          "node": "680250064134282809",
          "rule": "metadsl_core.numpy.NDArrayCompat.__getitem__"
         },
         {
          "node": "680250064134282809",
          "rule": "metadsl_core.numpy.NDArrayCompat.__getitem__"
         },
         {
          "node": "680250064134282809",
          "rule": "metadsl_core.numpy.NDArrayCompat.__getitem__"
         },
         {
          "node": "680250064134282809",
          "rule": "metadsl_core.numpy.NDArrayCompat.__getitem__"
         },
         {
          "node": "680250064134282809",
          "rule": "metadsl_core.numpy.NDArrayCompat.__getitem__"
         },
         {
          "node": "680250064134282809",
          "rule": "metadsl_core.numpy.NDArrayCompat.__getitem__"
         },
         {
          "node": "680250064134282809",
          "rule": "metadsl_core.numpy.NDArrayCompat.__getitem__"
         },
         {
          "node": "680250064134282809",
          "rule": "metadsl_core.numpy.NDArrayCompat.__getitem__"
         },
         {
          "node": "680250064134282809",
          "rule": "metadsl_core.numpy.NDArrayCompat.__getitem__"
         },
         {
          "node": "680250064134282809",
          "rule": "metadsl_core.numpy.NDArrayCompat.__getitem__"
         },
         {
          "node": "680250064134282809",
          "rule": "metadsl_core.numpy.NDArrayCompat.__getitem__"
         },
         {
          "node": "680250064134282809",
          "rule": "metadsl_core.numpy.NDArrayCompat.__getitem__"
         },
         {
          "node": "680250064134282809",
          "rule": "metadsl_core.numpy.NDArrayCompat.__getitem__"
         },
         {
          "node": "680250064134282809",
          "rule": "metadsl_core.numpy.NDArrayCompat.__getitem__"
         },
         {
          "node": "680250064134282809",
          "rule": "metadsl_core.numpy.NDArrayCompat.__getitem__"
         },
         {
          "node": "680250064134282809",
          "rule": "metadsl_core.numpy.NDArrayCompat.__getitem__"
         },
         {
          "node": "680250064134282809",
          "rule": "metadsl_core.numpy.NDArrayCompat.__getitem__"
         },
         {
          "node": "680250064134282809",
          "rule": "metadsl_core.numpy.NDArrayCompat.__getitem__"
         },
         {
          "node": "680250064134282809",
          "rule": "metadsl_core.numpy.NDArrayCompat.__getitem__"
         },
         {
          "node": "680250064134282809",
          "rule": "metadsl_core.numpy.NDArrayCompat.__getitem__"
         },
         {
          "node": "680250064134282809",
          "rule": "metadsl_core.numpy.NDArrayCompat.__getitem__"
         },
         {
          "node": "680250064134282809",
          "rule": "metadsl_core.numpy.NDArrayCompat.__getitem__"
         },
         {
          "node": "680250064134282809",
          "rule": "metadsl_core.numpy.NDArrayCompat.__getitem__"
         },
         {
          "node": "680250064134282809",
          "rule": "metadsl_core.numpy.NDArrayCompat.__getitem__"
         },
         {
          "node": "680250064134282809",
          "rule": "metadsl_core.numpy.NDArrayCompat.__getitem__"
         },
         {
          "node": "680250064134282809",
          "rule": "metadsl_core.numpy.NDArrayCompat.__getitem__"
         },
         {
          "node": "680250064134282809",
          "rule": "metadsl_core.numpy.NDArrayCompat.__getitem__"
         },
         {
          "node": "680250064134282809",
          "rule": "metadsl_core.numpy.NDArrayCompat.__getitem__"
         },
         {
          "node": "680250064134282809",
          "rule": "metadsl_core.numpy.NDArrayCompat.__getitem__"
         },
         {
          "node": "680250064134282809",
          "rule": "metadsl_core.numpy.NDArrayCompat.__getitem__"
         },
         {
          "node": "680250064134282809",
          "rule": "metadsl_core.numpy.NDArrayCompat.__getitem__"
         },
         {
          "node": "680250064134282809",
          "rule": "metadsl_core.numpy.NDArrayCompat.__getitem__"
         },
         {
          "node": "680250064134282809",
          "rule": "metadsl_core.numpy.NDArrayCompat.__getitem__"
         },
         {
          "node": "680250064134282809",
          "rule": "metadsl_core.numpy.NDArrayCompat.__getitem__"
         },
         {
          "node": "680250064134282809",
          "rule": "metadsl_core.numpy.NDArrayCompat.__getitem__"
         },
         {
          "node": "680250064134282809",
          "rule": "metadsl_core.numpy.NDArrayCompat.__getitem__"
         },
         {
          "node": "680250064134282809",
          "rule": "metadsl_core.numpy.NDArrayCompat.__getitem__"
         },
         {
          "node": "680250064134282809",
          "rule": "metadsl_core.numpy.NDArrayCompat.__getitem__"
         },
         {
          "node": "680250064134282809",
          "rule": "metadsl_core.numpy.NDArrayCompat.__getitem__"
         },
         {
          "node": "680250064134282809",
          "rule": "metadsl_core.numpy.NDArrayCompat.__getitem__"
         },
         {
          "node": "680250064134282809",
          "rule": "metadsl_core.numpy.NDArrayCompat.__getitem__"
         },
         {
          "node": "680250064134282809",
          "rule": "metadsl_core.numpy.NDArrayCompat.__getitem__"
         },
         {
          "node": "680250064134282809",
          "rule": "metadsl_core.numpy.NDArrayCompat.__getitem__"
         },
         {
          "node": "680250064134282809",
          "rule": "metadsl_core.numpy.NDArrayCompat.__getitem__"
         },
         {
          "node": "680250064134282809",
          "rule": "metadsl_core.numpy.NDArrayCompat.__getitem__"
         },
         {
          "node": "680250064134282809",
          "rule": "metadsl_core.numpy.NDArrayCompat.__getitem__"
         },
         {
          "node": "680250064134282809",
          "rule": "metadsl_core.numpy.NDArrayCompat.__getitem__"
         },
         {
          "node": "680250064134282809",
          "rule": "metadsl_core.numpy.NDArrayCompat.__getitem__"
         },
         {
          "node": "680250064134282809",
          "rule": "metadsl_core.numpy.NDArrayCompat.__getitem__"
         },
         {
          "node": "680250064134282809",
          "rule": "metadsl_core.numpy.NDArrayCompat.__getitem__"
         },
         {
          "node": "680250064134282809",
          "rule": "metadsl_core.numpy.NDArrayCompat.__getitem__"
         },
         {
          "node": "680250064134282809",
          "rule": "metadsl_core.numpy.NDArrayCompat.__getitem__"
         },
         {
          "node": "680250064134282809",
          "rule": "metadsl_core.numpy.NDArrayCompat.__getitem__"
         },
         {
          "node": "680250064134282809",
          "rule": "metadsl_core.numpy.NDArrayCompat.__getitem__"
         },
         {
          "node": "680250064134282809",
          "rule": "metadsl_core.numpy.NDArrayCompat.__getitem__"
         },
         {
          "node": "680250064134282809",
          "rule": "metadsl_core.numpy.NDArrayCompat.__getitem__"
         },
         {
          "node": "680250064134282809",
          "rule": "metadsl_core.numpy.NDArrayCompat.__getitem__"
         },
         {
          "node": "680250064134282809",
          "rule": "metadsl_core.numpy.NDArrayCompat.__getitem__"
         },
         {
          "node": "680250064134282809",
          "rule": "metadsl_core.numpy.NDArrayCompat.__getitem__"
         },
         {
          "node": "680250064134282809",
          "rule": "metadsl_core.numpy.NDArrayCompat.__getitem__"
         },
         {
          "node": "680250064134282809",
          "rule": "metadsl_core.numpy.NDArrayCompat.__getitem__"
         },
         {
          "node": "680250064134282809",
          "rule": "metadsl_core.numpy.NDArrayCompat.__getitem__"
         },
         {
          "node": "680250064134282809",
          "rule": "metadsl_core.numpy.NDArrayCompat.__getitem__"
         },
         {
          "node": "680250064134282809",
          "rule": "metadsl_core.numpy.NDArrayCompat.__getitem__"
         },
         {
          "node": "680250064134282809",
          "rule": "metadsl_core.numpy.NDArrayCompat.__getitem__"
         },
         {
          "node": "680250064134282809",
          "rule": "metadsl_core.numpy.NDArrayCompat.__getitem__"
         },
         {
          "node": "680250064134282809",
          "rule": "metadsl_core.numpy.NDArrayCompat.__getitem__"
         },
         {
          "node": "680250064134282809",
          "rule": "metadsl_core.numpy.NDArrayCompat.__getitem__"
         },
         {
          "node": "680250064134282809",
          "rule": "metadsl_core.numpy.NDArrayCompat.__getitem__"
         },
         {
          "node": "680250064134282809",
          "rule": "metadsl_core.numpy.NDArrayCompat.__getitem__"
         },
         {
          "node": "680250064134282809",
          "rule": "metadsl_core.numpy.NDArrayCompat.__getitem__"
         },
         {
          "node": "680250064134282809",
          "rule": "metadsl_core.numpy.NDArrayCompat.__getitem__"
         },
         {
          "node": "680250064134282809",
          "rule": "metadsl_core.numpy.NDArrayCompat.__getitem__"
         },
         {
          "node": "680250064134282809",
          "rule": "metadsl_core.numpy.NDArrayCompat.__getitem__"
         },
         {
          "node": "680250064134282809",
          "rule": "metadsl_core.numpy.NDArrayCompat.__getitem__"
         },
         {
          "node": "680250064134282809",
          "rule": "metadsl_core.numpy.NDArrayCompat.__getitem__"
         },
         {
          "node": "680250064134282809",
          "rule": "metadsl_core.numpy.NDArrayCompat.__getitem__"
         },
         {
          "node": "680250064134282809",
          "rule": "metadsl_core.numpy.NDArrayCompat.__getitem__"
         },
         {
          "node": "680250064134282809",
          "rule": "metadsl_core.numpy.NDArrayCompat.__getitem__"
         },
         {
          "node": "680250064134282809",
          "rule": "metadsl_core.numpy.NDArrayCompat.__getitem__"
         },
         {
          "node": "680250064134282809",
          "rule": "metadsl_core.numpy.NDArrayCompat.__getitem__"
         },
         {
          "node": "680250064134282809",
          "rule": "metadsl_core.numpy.NDArrayCompat.__getitem__"
         },
         {
          "node": "680250064134282809",
          "rule": "metadsl_core.numpy.NDArrayCompat.__getitem__"
         },
         {
          "node": "680250064134282809",
          "rule": "metadsl_core.numpy.NDArrayCompat.__getitem__"
         },
         {
          "node": "680250064134282809",
          "rule": "metadsl_core.numpy.NDArrayCompat.__getitem__"
         },
         {
          "node": "680250064134282809",
          "rule": "metadsl_core.numpy.NDArrayCompat.__getitem__"
         },
         {
          "node": "680250064134282809",
          "rule": "metadsl_core.numpy.NDArrayCompat.__getitem__"
         },
         {
          "node": "680250064134282809",
          "rule": "metadsl_core.numpy.NDArrayCompat.__getitem__"
         },
         {
          "node": "680250064134282809",
          "rule": "metadsl_core.numpy.NDArrayCompat.__getitem__"
         },
         {
          "node": "680250064134282809",
          "rule": "metadsl_core.numpy.NDArrayCompat.__getitem__"
         },
         {
          "node": "680250064134282809",
          "rule": "metadsl_core.numpy.NDArrayCompat.__getitem__"
         },
         {
          "node": "680250064134282809",
          "rule": "metadsl_core.numpy.NDArrayCompat.__getitem__"
         },
         {
          "node": "680250064134282809",
          "rule": "metadsl_core.numpy.NDArrayCompat.__getitem__"
         },
         {
          "node": "680250064134282809",
          "rule": "metadsl_core.numpy.NDArrayCompat.__getitem__"
         },
         {
          "node": "680250064134282809",
          "rule": "metadsl_core.numpy.NDArrayCompat.__getitem__"
         },
         {
          "node": "680250064134282809",
          "rule": "metadsl_core.numpy.NDArrayCompat.__getitem__"
         },
         {
          "node": "680250064134282809",
          "rule": "metadsl_core.numpy.NDArrayCompat.__getitem__"
         },
         {
          "node": "680250064134282809",
          "rule": "metadsl_core.numpy.NDArrayCompat.__getitem__"
         },
         {
          "node": "680250064134282809",
          "rule": "metadsl_core.numpy.NDArrayCompat.__getitem__"
         },
         {
          "node": "680250064134282809",
          "rule": "metadsl_core.numpy.NDArrayCompat.__getitem__"
         },
         {
          "node": "680250064134282809",
          "rule": "metadsl_core.numpy.NDArrayCompat.__getitem__"
         },
         {
          "node": "680250064134282809",
          "rule": "metadsl_core.numpy.NDArrayCompat.__getitem__"
         },
         {
          "node": "680250064134282809",
          "rule": "metadsl_core.numpy.NDArrayCompat.__getitem__"
         },
         {
          "node": "680250064134282809",
          "rule": "metadsl_core.numpy.NDArrayCompat.__getitem__"
         },
         {
          "node": "680250064134282809",
          "rule": "metadsl_core.numpy.NDArrayCompat.__getitem__"
         },
         {
          "node": "680250064134282809",
          "rule": "metadsl_core.numpy.NDArrayCompat.__getitem__"
         },
         {
          "node": "680250064134282809",
          "rule": "metadsl_core.numpy.NDArrayCompat.__getitem__"
         },
         {
          "node": "680250064134282809",
          "rule": "metadsl_core.numpy.NDArrayCompat.__getitem__"
         },
         {
          "node": "680250064134282809",
          "rule": "metadsl_core.numpy.NDArrayCompat.__getitem__"
         },
         {
          "node": "680250064134282809",
          "rule": "metadsl_core.numpy.NDArrayCompat.__getitem__"
         },
         {
          "node": "680250064134282809",
          "rule": "metadsl_core.numpy.NDArrayCompat.__getitem__"
         },
         {
          "node": "680250064134282809",
          "rule": "metadsl_core.numpy.NDArrayCompat.__getitem__"
         },
         {
          "node": "680250064134282809",
          "rule": "metadsl_core.numpy.NDArrayCompat.__getitem__"
         },
         {
          "node": "680250064134282809",
          "rule": "metadsl_core.numpy.NDArrayCompat.__getitem__"
         },
         {
          "node": "680250064134282809",
          "rule": "metadsl_core.numpy.NDArrayCompat.__getitem__"
         },
         {
          "node": "680250064134282809",
          "rule": "metadsl_core.numpy.NDArrayCompat.__getitem__"
         },
         {
          "node": "680250064134282809",
          "rule": "metadsl_core.numpy.NDArrayCompat.__getitem__"
         },
         {
          "node": "680250064134282809",
          "rule": "metadsl_core.numpy.NDArrayCompat.__getitem__"
         },
         {
          "node": "680250064134282809",
          "rule": "metadsl_core.numpy.NDArrayCompat.__getitem__"
         },
         {
          "node": "680250064134282809",
          "rule": "metadsl_core.numpy.NDArrayCompat.__getitem__"
         },
         {
          "node": "680250064134282809",
          "rule": "metadsl_core.numpy.NDArrayCompat.__getitem__"
         },
         {
          "node": "680250064134282809",
          "rule": "metadsl_core.numpy.NDArrayCompat.__getitem__"
         },
         {
          "node": "680250064134282809",
          "rule": "metadsl_core.numpy.NDArrayCompat.__getitem__"
         },
         {
          "node": "680250064134282809",
          "rule": "metadsl_core.numpy.NDArrayCompat.__getitem__"
         },
         {
          "node": "680250064134282809",
          "rule": "metadsl_core.numpy.NDArrayCompat.__getitem__"
         },
         {
          "node": "680250064134282809",
          "rule": "metadsl_core.numpy.NDArrayCompat.__getitem__"
         },
         {
          "node": "680250064134282809",
          "rule": "metadsl_core.numpy.NDArrayCompat.__getitem__"
         },
         {
          "node": "680250064134282809",
          "rule": "metadsl_core.numpy.NDArrayCompat.__getitem__"
         },
         {
          "node": "680250064134282809",
          "rule": "metadsl_core.numpy.NDArrayCompat.__getitem__"
         },
         {
          "node": "680250064134282809",
          "rule": "metadsl_core.numpy.NDArrayCompat.__getitem__"
         },
         {
          "node": "680250064134282809",
          "rule": "metadsl_core.numpy.NDArrayCompat.__getitem__"
         },
         {
          "node": "680250064134282809",
          "rule": "metadsl_core.numpy.NDArrayCompat.__getitem__"
         },
         {
          "node": "680250064134282809",
          "rule": "metadsl_core.numpy.NDArrayCompat.__getitem__"
         },
         {
          "node": "680250064134282809",
          "rule": "metadsl_core.numpy.NDArrayCompat.__getitem__"
         },
         {
          "node": "680250064134282809",
          "rule": "metadsl_core.numpy.NDArrayCompat.__getitem__"
         },
         {
          "node": "680250064134282809",
          "rule": "metadsl_core.numpy.NDArrayCompat.__getitem__"
         },
         {
          "node": "680250064134282809",
          "rule": "metadsl_core.numpy.NDArrayCompat.__getitem__"
         },
         {
          "node": "680250064134282809",
          "rule": "metadsl_core.numpy.NDArrayCompat.__getitem__"
         },
         {
          "node": "680250064134282809",
          "rule": "metadsl_core.numpy.NDArrayCompat.__getitem__"
         },
         {
          "node": "680250064134282809",
          "rule": "metadsl_core.numpy.NDArrayCompat.__getitem__"
         },
         {
          "node": "680250064134282809",
          "rule": "metadsl_core.numpy.NDArrayCompat.__getitem__"
         },
         {
          "node": "680250064134282809",
          "rule": "metadsl_core.numpy.NDArrayCompat.__getitem__"
         },
         {
          "node": "680250064134282809",
          "rule": "metadsl_core.numpy.NDArrayCompat.__getitem__"
         },
         {
          "node": "680250064134282809",
          "rule": "metadsl_core.numpy.NDArrayCompat.__getitem__"
         },
         {
          "node": "680250064134282809",
          "rule": "metadsl_core.numpy.NDArrayCompat.__getitem__"
         },
         {
          "node": "680250064134282809",
          "rule": "metadsl_core.numpy.NDArrayCompat.__getitem__"
         },
         {
          "node": "680250064134282809",
          "rule": "metadsl_core.numpy.NDArrayCompat.__getitem__"
         },
         {
          "node": "680250064134282809",
          "rule": "metadsl_core.numpy.NDArrayCompat.__getitem__"
         },
         {
          "node": "680250064134282809",
          "rule": "metadsl_core.numpy.NDArrayCompat.__getitem__"
         },
         {
          "node": "680250064134282809",
          "rule": "metadsl_core.numpy.NDArrayCompat.__getitem__"
         },
         {
          "node": "680250064134282809",
          "rule": "metadsl_core.numpy.NDArrayCompat.__getitem__"
         },
         {
          "node": "680250064134282809",
          "rule": "metadsl_core.numpy.NDArrayCompat.__getitem__"
         },
         {
          "node": "680250064134282809",
          "rule": "metadsl_core.numpy.NDArrayCompat.__getitem__"
         },
         {
          "node": "680250064134282809",
          "rule": "metadsl_core.numpy.NDArrayCompat.__getitem__"
         },
         {
          "node": "680250064134282809",
          "rule": "metadsl_core.numpy.NDArrayCompat.__getitem__"
         },
         {
          "node": "680250064134282809",
          "rule": "metadsl_core.numpy.NDArrayCompat.__getitem__"
         },
         {
          "node": "680250064134282809",
          "rule": "metadsl_core.numpy.NDArrayCompat.__getitem__"
         },
         {
          "node": "680250064134282809",
          "rule": "metadsl_core.numpy.NDArrayCompat.__getitem__"
         },
         {
          "node": "680250064134282809",
          "rule": "metadsl_core.numpy.NDArrayCompat.__getitem__"
         },
         {
          "node": "680250064134282809",
          "rule": "metadsl_core.numpy.NDArrayCompat.__getitem__"
         },
         {
          "node": "680250064134282809",
          "rule": "metadsl_core.numpy.NDArrayCompat.__getitem__"
         },
         {
          "node": "680250064134282809",
          "rule": "metadsl_core.numpy.NDArrayCompat.__getitem__"
         },
         {
          "node": "680250064134282809",
          "rule": "metadsl_core.numpy.NDArrayCompat.__getitem__"
         },
         {
          "node": "680250064134282809",
          "rule": "metadsl_core.numpy.NDArrayCompat.__getitem__"
         },
         {
          "node": "680250064134282809",
          "rule": "metadsl_core.numpy.NDArrayCompat.__getitem__"
         },
         {
          "node": "680250064134282809",
          "rule": "metadsl_core.numpy.NDArrayCompat.__getitem__"
         },
         {
          "node": "680250064134282809",
          "rule": "metadsl_core.numpy.NDArrayCompat.__getitem__"
         },
         {
          "node": "680250064134282809",
          "rule": "metadsl_core.numpy.NDArrayCompat.__getitem__"
         },
         {
          "node": "680250064134282809",
          "rule": "metadsl_core.numpy.NDArrayCompat.__getitem__"
         },
         {
          "node": "680250064134282809",
          "rule": "metadsl_core.numpy.NDArrayCompat.__getitem__"
         },
         {
          "node": "680250064134282809",
          "rule": "metadsl_core.numpy.NDArrayCompat.__getitem__"
         },
         {
          "node": "680250064134282809",
          "rule": "metadsl_core.numpy.NDArrayCompat.__getitem__"
         },
         {
          "node": "680250064134282809",
          "rule": "metadsl_core.numpy.NDArrayCompat.__getitem__"
         },
         {
          "node": "680250064134282809",
          "rule": "metadsl_core.numpy.NDArrayCompat.__getitem__"
         },
         {
          "node": "680250064134282809",
          "rule": "metadsl_core.numpy.NDArrayCompat.__getitem__"
         },
         {
          "node": "680250064134282809",
          "rule": "metadsl_core.numpy.NDArrayCompat.__getitem__"
         },
         {
          "node": "680250064134282809",
          "rule": "metadsl_core.numpy.NDArrayCompat.__getitem__"
         },
         {
          "node": "680250064134282809",
          "rule": "metadsl_core.numpy.NDArrayCompat.__getitem__"
         },
         {
          "node": "680250064134282809",
          "rule": "metadsl_core.numpy.NDArrayCompat.__getitem__"
         },
         {
          "node": "680250064134282809",
          "rule": "metadsl_core.numpy.NDArrayCompat.__getitem__"
         },
         {
          "node": "680250064134282809",
          "rule": "metadsl_core.numpy.NDArrayCompat.__getitem__"
         },
         {
          "node": "680250064134282809",
          "rule": "metadsl_core.numpy.NDArrayCompat.__getitem__"
         },
         {
          "node": "680250064134282809",
          "rule": "metadsl_core.numpy.NDArrayCompat.__getitem__"
         },
         {
          "node": "680250064134282809",
          "rule": "metadsl_core.numpy.NDArrayCompat.__getitem__"
         },
         {
          "node": "680250064134282809",
          "rule": "metadsl_core.numpy.NDArrayCompat.__getitem__"
         },
         {
          "node": "680250064134282809",
          "rule": "metadsl_core.numpy.NDArrayCompat.__getitem__"
         },
         {
          "node": "680250064134282809",
          "rule": "metadsl_core.numpy.NDArrayCompat.__getitem__"
         },
         {
          "node": "680250064134282809",
          "rule": "metadsl_core.numpy.NDArrayCompat.__getitem__"
         },
         {
          "node": "680250064134282809",
          "rule": "metadsl_core.numpy.NDArrayCompat.__getitem__"
         },
         {
          "node": "680250064134282809",
          "rule": "metadsl_core.numpy.NDArrayCompat.__getitem__"
         },
         {
          "node": "680250064134282809",
          "rule": "metadsl_core.numpy.NDArrayCompat.__getitem__"
         },
         {
          "node": "680250064134282809",
          "rule": "metadsl_core.numpy.NDArrayCompat.__getitem__"
         },
         {
          "node": "680250064134282809",
          "rule": "metadsl_core.numpy.NDArrayCompat.__getitem__"
         },
         {
          "node": "680250064134282809",
          "rule": "metadsl_core.numpy.NDArrayCompat.__getitem__"
         },
         {
          "node": "680250064134282809",
          "rule": "metadsl_core.numpy.NDArrayCompat.__getitem__"
         },
         {
          "node": "680250064134282809",
          "rule": "metadsl_core.numpy.NDArrayCompat.__getitem__"
         },
         {
          "node": "680250064134282809",
          "rule": "metadsl_core.numpy.NDArrayCompat.__getitem__"
         },
         {
          "node": "680250064134282809",
          "rule": "metadsl_core.numpy.NDArrayCompat.__getitem__"
         },
         {
          "node": "680250064134282809",
          "rule": "metadsl_core.numpy.NDArrayCompat.__getitem__"
         },
         {
          "node": "680250064134282809",
          "rule": "metadsl_core.numpy.NDArrayCompat.__getitem__"
         },
         {
          "node": "680250064134282809",
          "rule": "metadsl_core.numpy.NDArrayCompat.__getitem__"
         },
         {
          "node": "680250064134282809",
          "rule": "metadsl_core.numpy.NDArrayCompat.__getitem__"
         },
         {
          "node": "680250064134282809",
          "rule": "metadsl_core.numpy.NDArrayCompat.__getitem__"
         },
         {
          "node": "680250064134282809",
          "rule": "metadsl_core.numpy.NDArrayCompat.__getitem__"
         },
         {
          "node": "680250064134282809",
          "rule": "metadsl_core.numpy.NDArrayCompat.__getitem__"
         },
         {
          "node": "680250064134282809",
          "rule": "metadsl_core.numpy.NDArrayCompat.__getitem__"
         },
         {
          "node": "680250064134282809",
          "rule": "metadsl_core.numpy.NDArrayCompat.__getitem__"
         },
         {
          "node": "680250064134282809",
          "rule": "metadsl_core.numpy.NDArrayCompat.__getitem__"
         },
         {
          "node": "680250064134282809",
          "rule": "metadsl_core.numpy.NDArrayCompat.__getitem__"
         },
         {
          "node": "680250064134282809",
          "rule": "metadsl_core.numpy.NDArrayCompat.__getitem__"
         },
         {
          "node": "680250064134282809",
          "rule": "metadsl_core.numpy.NDArrayCompat.__getitem__"
         },
         {
          "node": "680250064134282809",
          "rule": "metadsl_core.numpy.NDArrayCompat.__getitem__"
         },
         {
          "node": "680250064134282809",
          "rule": "metadsl_core.numpy.NDArrayCompat.__getitem__"
         },
         {
          "node": "680250064134282809",
          "rule": "metadsl_core.numpy.NDArrayCompat.__getitem__"
         },
         {
          "node": "680250064134282809",
          "rule": "metadsl_core.numpy.NDArrayCompat.__getitem__"
         },
         {
          "node": "680250064134282809",
          "rule": "metadsl_core.numpy.NDArrayCompat.__getitem__"
         },
         {
          "node": "680250064134282809",
          "rule": "metadsl_core.numpy.NDArrayCompat.__getitem__"
         },
         {
          "node": "680250064134282809",
          "rule": "metadsl_core.numpy.NDArrayCompat.__getitem__"
         },
         {
          "node": "680250064134282809",
          "rule": "metadsl_core.numpy.NDArrayCompat.__getitem__"
         },
         {
          "node": "680250064134282809",
          "rule": "metadsl_core.numpy.NDArrayCompat.__getitem__"
         },
         {
          "node": "680250064134282809",
          "rule": "metadsl_core.numpy.NDArrayCompat.__getitem__"
         },
         {
          "node": "680250064134282809",
          "rule": "metadsl_core.numpy.NDArrayCompat.__getitem__"
         },
         {
          "node": "680250064134282809",
          "rule": "metadsl_core.numpy.NDArrayCompat.__getitem__"
         },
         {
          "node": "680250064134282809",
          "rule": "metadsl_core.numpy.NDArrayCompat.__getitem__"
         },
         {
          "node": "680250064134282809",
          "rule": "metadsl_core.numpy.NDArrayCompat.__getitem__"
         },
         {
          "node": "680250064134282809",
          "rule": "metadsl_core.numpy.NDArrayCompat.__getitem__"
         },
         {
          "node": "680250064134282809",
          "rule": "metadsl_core.numpy.NDArrayCompat.__getitem__"
         },
         {
          "node": "680250064134282809",
          "rule": "metadsl_core.numpy.NDArrayCompat.__getitem__"
         }
        ]
       }
      },
      "application/x.typez.graph+json": {
       "initial": "digraph {\n\tnode [shape=plain]\n\tedge [arrowsize=0.5 penwidth=0.5]\n\t680250064134282809 [label=\"NDArrayCompat.to_ndarray\" id=680250064134282809]\n\t680250064134282809 -> 5593707570515573442 [id=\"680250064134282809.args[0]\"]\n\t5593707570515573442 [label=\"NDArrayCompat.__getitem__\" id=5593707570515573442]\n\t5593707570515573442 -> 5447535458505340468 [id=\"5593707570515573442.args[0]\"]\n\t5447535458505340468 [label=\"NDArrayCompat.__add__\" id=5447535458505340468]\n\t5447535458505340468 -> 4982424794959710867 [id=\"5447535458505340468.args[0]\"]\n\t4982424794959710867 [label=arange id=4982424794959710867]\n\t4982424794959710867 -> -9031501539059790041 [id=\"4982424794959710867.args[0]\"]\n\t-9031501539059790041 [label=100 id=-9031501539059790041]\n\t5447535458505340468 -> 4982424794959710867 [id=\"5447535458505340468.args[1]\"]\n\t5593707570515573442 -> -9031501538954785116 [id=\"5593707570515573442.args[1]\"]\n\t-9031501538954785116 [label=5 id=-9031501538954785116]\n}",
       "states": [
        {
         "graph": "digraph {\n\tnode [shape=plain]\n\tedge [arrowsize=0.5 penwidth=0.5]\n\t680250064134282809 [label=\"NDArrayCompat.to_ndarray\" id=680250064134282809]\n\t680250064134282809 -> 5593707570515573442 [id=\"680250064134282809.args[0]\"]\n\t5593707570515573442 [label=\"NDArrayCompat.__getitem__\" id=5593707570515573442]\n\t5593707570515573442 -> 5447535458505340468 [id=\"5593707570515573442.args[0]\"]\n\t5447535458505340468 [label=\"NDArrayCompat.__add__\" id=5447535458505340468]\n\t5447535458505340468 -> 4982424794959710867 [id=\"5447535458505340468.args[0]\"]\n\t4982424794959710867 [label=arange id=4982424794959710867]\n\t4982424794959710867 -> -9031501539059790041 [id=\"4982424794959710867.args[0]\"]\n\t-9031501539059790041 [label=100 id=-9031501539059790041]\n\t5447535458505340468 -> 4982424794959710867 [id=\"5447535458505340468.args[1]\"]\n\t5593707570515573442 -> -9031501538954785116 [id=\"5593707570515573442.args[1]\"]\n\t-9031501538954785116 [label=5 id=-9031501538954785116]\n}",
         "label": null,
         "rule": "metadsl_core.numpy.NDArrayCompat.__getitem__"
        },
        {
         "graph": "digraph {\n\tnode [shape=plain]\n\tedge [arrowsize=0.5 penwidth=0.5]\n\t680250064134282809 [label=\"NDArrayCompat.to_ndarray\" id=680250064134282809]\n\t680250064134282809 -> 5593707570515573442 [id=\"680250064134282809.args[0]\"]\n\t5593707570515573442 [label=\"NDArrayCompat.__getitem__\" id=5593707570515573442]\n\t5593707570515573442 -> 5447535458505340468 [id=\"5593707570515573442.args[0]\"]\n\t5447535458505340468 [label=\"NDArrayCompat.__add__\" id=5447535458505340468]\n\t5447535458505340468 -> 4982424794959710867 [id=\"5447535458505340468.args[0]\"]\n\t4982424794959710867 [label=arange id=4982424794959710867]\n\t4982424794959710867 -> -9031501539059790041 [id=\"4982424794959710867.args[0]\"]\n\t-9031501539059790041 [label=100 id=-9031501539059790041]\n\t5447535458505340468 -> 4982424794959710867 [id=\"5447535458505340468.args[1]\"]\n\t5593707570515573442 -> -9031501538954785116 [id=\"5593707570515573442.args[1]\"]\n\t-9031501538954785116 [label=5 id=-9031501538954785116]\n}",
         "label": null,
         "rule": "metadsl_core.numpy.NDArrayCompat.__getitem__"
        },
        {
         "graph": "digraph {\n\tnode [shape=plain]\n\tedge [arrowsize=0.5 penwidth=0.5]\n\t680250064134282809 [label=\"NDArrayCompat.to_ndarray\" id=680250064134282809]\n\t680250064134282809 -> 5593707570515573442 [id=\"680250064134282809.args[0]\"]\n\t5593707570515573442 [label=\"NDArrayCompat.__getitem__\" id=5593707570515573442]\n\t5593707570515573442 -> 5447535458505340468 [id=\"5593707570515573442.args[0]\"]\n\t5447535458505340468 [label=\"NDArrayCompat.__add__\" id=5447535458505340468]\n\t5447535458505340468 -> 4982424794959710867 [id=\"5447535458505340468.args[0]\"]\n\t4982424794959710867 [label=arange id=4982424794959710867]\n\t4982424794959710867 -> -9031501539059790041 [id=\"4982424794959710867.args[0]\"]\n\t-9031501539059790041 [label=100 id=-9031501539059790041]\n\t5447535458505340468 -> 4982424794959710867 [id=\"5447535458505340468.args[1]\"]\n\t5593707570515573442 -> -9031501538954785116 [id=\"5593707570515573442.args[1]\"]\n\t-9031501538954785116 [label=5 id=-9031501538954785116]\n}",
         "label": null,
         "rule": "metadsl_core.numpy.NDArrayCompat.__getitem__"
        },
        {
         "graph": "digraph {\n\tnode [shape=plain]\n\tedge [arrowsize=0.5 penwidth=0.5]\n\t680250064134282809 [label=\"NDArrayCompat.to_ndarray\" id=680250064134282809]\n\t680250064134282809 -> 5593707570515573442 [id=\"680250064134282809.args[0]\"]\n\t5593707570515573442 [label=\"NDArrayCompat.__getitem__\" id=5593707570515573442]\n\t5593707570515573442 -> 5447535458505340468 [id=\"5593707570515573442.args[0]\"]\n\t5447535458505340468 [label=\"NDArrayCompat.__add__\" id=5447535458505340468]\n\t5447535458505340468 -> 4982424794959710867 [id=\"5447535458505340468.args[0]\"]\n\t4982424794959710867 [label=arange id=4982424794959710867]\n\t4982424794959710867 -> -9031501539059790041 [id=\"4982424794959710867.args[0]\"]\n\t-9031501539059790041 [label=100 id=-9031501539059790041]\n\t5447535458505340468 -> 4982424794959710867 [id=\"5447535458505340468.args[1]\"]\n\t5593707570515573442 -> -9031501538954785116 [id=\"5593707570515573442.args[1]\"]\n\t-9031501538954785116 [label=5 id=-9031501538954785116]\n}",
         "label": null,
         "rule": "metadsl_core.numpy.NDArrayCompat.__getitem__"
        },
        {
         "graph": "digraph {\n\tnode [shape=plain]\n\tedge [arrowsize=0.5 penwidth=0.5]\n\t680250064134282809 [label=\"NDArrayCompat.to_ndarray\" id=680250064134282809]\n\t680250064134282809 -> 5593707570515573442 [id=\"680250064134282809.args[0]\"]\n\t5593707570515573442 [label=\"NDArrayCompat.__getitem__\" id=5593707570515573442]\n\t5593707570515573442 -> 5447535458505340468 [id=\"5593707570515573442.args[0]\"]\n\t5447535458505340468 [label=\"NDArrayCompat.__add__\" id=5447535458505340468]\n\t5447535458505340468 -> 4982424794959710867 [id=\"5447535458505340468.args[0]\"]\n\t4982424794959710867 [label=arange id=4982424794959710867]\n\t4982424794959710867 -> -9031501539059790041 [id=\"4982424794959710867.args[0]\"]\n\t-9031501539059790041 [label=100 id=-9031501539059790041]\n\t5447535458505340468 -> 4982424794959710867 [id=\"5447535458505340468.args[1]\"]\n\t5593707570515573442 -> -9031501538954785116 [id=\"5593707570515573442.args[1]\"]\n\t-9031501538954785116 [label=5 id=-9031501538954785116]\n}",
         "label": null,
         "rule": "metadsl_core.numpy.NDArrayCompat.__getitem__"
        },
        {
         "graph": "digraph {\n\tnode [shape=plain]\n\tedge [arrowsize=0.5 penwidth=0.5]\n\t680250064134282809 [label=\"NDArrayCompat.to_ndarray\" id=680250064134282809]\n\t680250064134282809 -> 5593707570515573442 [id=\"680250064134282809.args[0]\"]\n\t5593707570515573442 [label=\"NDArrayCompat.__getitem__\" id=5593707570515573442]\n\t5593707570515573442 -> 5447535458505340468 [id=\"5593707570515573442.args[0]\"]\n\t5447535458505340468 [label=\"NDArrayCompat.__add__\" id=5447535458505340468]\n\t5447535458505340468 -> 4982424794959710867 [id=\"5447535458505340468.args[0]\"]\n\t4982424794959710867 [label=arange id=4982424794959710867]\n\t4982424794959710867 -> -9031501539059790041 [id=\"4982424794959710867.args[0]\"]\n\t-9031501539059790041 [label=100 id=-9031501539059790041]\n\t5447535458505340468 -> 4982424794959710867 [id=\"5447535458505340468.args[1]\"]\n\t5593707570515573442 -> -9031501538954785116 [id=\"5593707570515573442.args[1]\"]\n\t-9031501538954785116 [label=5 id=-9031501538954785116]\n}",
         "label": null,
         "rule": "metadsl_core.numpy.NDArrayCompat.__getitem__"
        },
        {
         "graph": "digraph {\n\tnode [shape=plain]\n\tedge [arrowsize=0.5 penwidth=0.5]\n\t680250064134282809 [label=\"NDArrayCompat.to_ndarray\" id=680250064134282809]\n\t680250064134282809 -> 5593707570515573442 [id=\"680250064134282809.args[0]\"]\n\t5593707570515573442 [label=\"NDArrayCompat.__getitem__\" id=5593707570515573442]\n\t5593707570515573442 -> 5447535458505340468 [id=\"5593707570515573442.args[0]\"]\n\t5447535458505340468 [label=\"NDArrayCompat.__add__\" id=5447535458505340468]\n\t5447535458505340468 -> 4982424794959710867 [id=\"5447535458505340468.args[0]\"]\n\t4982424794959710867 [label=arange id=4982424794959710867]\n\t4982424794959710867 -> -9031501539059790041 [id=\"4982424794959710867.args[0]\"]\n\t-9031501539059790041 [label=100 id=-9031501539059790041]\n\t5447535458505340468 -> 4982424794959710867 [id=\"5447535458505340468.args[1]\"]\n\t5593707570515573442 -> -9031501538954785116 [id=\"5593707570515573442.args[1]\"]\n\t-9031501538954785116 [label=5 id=-9031501538954785116]\n}",
         "label": null,
         "rule": "metadsl_core.numpy.NDArrayCompat.__getitem__"
        },
        {
         "graph": "digraph {\n\tnode [shape=plain]\n\tedge [arrowsize=0.5 penwidth=0.5]\n\t680250064134282809 [label=\"NDArrayCompat.to_ndarray\" id=680250064134282809]\n\t680250064134282809 -> 5593707570515573442 [id=\"680250064134282809.args[0]\"]\n\t5593707570515573442 [label=\"NDArrayCompat.__getitem__\" id=5593707570515573442]\n\t5593707570515573442 -> 5447535458505340468 [id=\"5593707570515573442.args[0]\"]\n\t5447535458505340468 [label=\"NDArrayCompat.__add__\" id=5447535458505340468]\n\t5447535458505340468 -> 4982424794959710867 [id=\"5447535458505340468.args[0]\"]\n\t4982424794959710867 [label=arange id=4982424794959710867]\n\t4982424794959710867 -> -9031501539059790041 [id=\"4982424794959710867.args[0]\"]\n\t-9031501539059790041 [label=100 id=-9031501539059790041]\n\t5447535458505340468 -> 4982424794959710867 [id=\"5447535458505340468.args[1]\"]\n\t5593707570515573442 -> -9031501538954785116 [id=\"5593707570515573442.args[1]\"]\n\t-9031501538954785116 [label=5 id=-9031501538954785116]\n}",
         "label": null,
         "rule": "metadsl_core.numpy.NDArrayCompat.__getitem__"
        },
        {
         "graph": "digraph {\n\tnode [shape=plain]\n\tedge [arrowsize=0.5 penwidth=0.5]\n\t680250064134282809 [label=\"NDArrayCompat.to_ndarray\" id=680250064134282809]\n\t680250064134282809 -> 5593707570515573442 [id=\"680250064134282809.args[0]\"]\n\t5593707570515573442 [label=\"NDArrayCompat.__getitem__\" id=5593707570515573442]\n\t5593707570515573442 -> 5447535458505340468 [id=\"5593707570515573442.args[0]\"]\n\t5447535458505340468 [label=\"NDArrayCompat.__add__\" id=5447535458505340468]\n\t5447535458505340468 -> 4982424794959710867 [id=\"5447535458505340468.args[0]\"]\n\t4982424794959710867 [label=arange id=4982424794959710867]\n\t4982424794959710867 -> -9031501539059790041 [id=\"4982424794959710867.args[0]\"]\n\t-9031501539059790041 [label=100 id=-9031501539059790041]\n\t5447535458505340468 -> 4982424794959710867 [id=\"5447535458505340468.args[1]\"]\n\t5593707570515573442 -> -9031501538954785116 [id=\"5593707570515573442.args[1]\"]\n\t-9031501538954785116 [label=5 id=-9031501538954785116]\n}",
         "label": null,
         "rule": "metadsl_core.numpy.NDArrayCompat.__getitem__"
        },
        {
         "graph": "digraph {\n\tnode [shape=plain]\n\tedge [arrowsize=0.5 penwidth=0.5]\n\t680250064134282809 [label=\"NDArrayCompat.to_ndarray\" id=680250064134282809]\n\t680250064134282809 -> 5593707570515573442 [id=\"680250064134282809.args[0]\"]\n\t5593707570515573442 [label=\"NDArrayCompat.__getitem__\" id=5593707570515573442]\n\t5593707570515573442 -> 5447535458505340468 [id=\"5593707570515573442.args[0]\"]\n\t5447535458505340468 [label=\"NDArrayCompat.__add__\" id=5447535458505340468]\n\t5447535458505340468 -> 4982424794959710867 [id=\"5447535458505340468.args[0]\"]\n\t4982424794959710867 [label=arange id=4982424794959710867]\n\t4982424794959710867 -> -9031501539059790041 [id=\"4982424794959710867.args[0]\"]\n\t-9031501539059790041 [label=100 id=-9031501539059790041]\n\t5447535458505340468 -> 4982424794959710867 [id=\"5447535458505340468.args[1]\"]\n\t5593707570515573442 -> -9031501538954785116 [id=\"5593707570515573442.args[1]\"]\n\t-9031501538954785116 [label=5 id=-9031501538954785116]\n}",
         "label": null,
         "rule": "metadsl_core.numpy.NDArrayCompat.__getitem__"
        },
        {
         "graph": "digraph {\n\tnode [shape=plain]\n\tedge [arrowsize=0.5 penwidth=0.5]\n\t680250064134282809 [label=\"NDArrayCompat.to_ndarray\" id=680250064134282809]\n\t680250064134282809 -> 5593707570515573442 [id=\"680250064134282809.args[0]\"]\n\t5593707570515573442 [label=\"NDArrayCompat.__getitem__\" id=5593707570515573442]\n\t5593707570515573442 -> 5447535458505340468 [id=\"5593707570515573442.args[0]\"]\n\t5447535458505340468 [label=\"NDArrayCompat.__add__\" id=5447535458505340468]\n\t5447535458505340468 -> 4982424794959710867 [id=\"5447535458505340468.args[0]\"]\n\t4982424794959710867 [label=arange id=4982424794959710867]\n\t4982424794959710867 -> -9031501539059790041 [id=\"4982424794959710867.args[0]\"]\n\t-9031501539059790041 [label=100 id=-9031501539059790041]\n\t5447535458505340468 -> 4982424794959710867 [id=\"5447535458505340468.args[1]\"]\n\t5593707570515573442 -> -9031501538954785116 [id=\"5593707570515573442.args[1]\"]\n\t-9031501538954785116 [label=5 id=-9031501538954785116]\n}",
         "label": null,
         "rule": "metadsl_core.numpy.NDArrayCompat.__getitem__"
        },
        {
         "graph": "digraph {\n\tnode [shape=plain]\n\tedge [arrowsize=0.5 penwidth=0.5]\n\t680250064134282809 [label=\"NDArrayCompat.to_ndarray\" id=680250064134282809]\n\t680250064134282809 -> 5593707570515573442 [id=\"680250064134282809.args[0]\"]\n\t5593707570515573442 [label=\"NDArrayCompat.__getitem__\" id=5593707570515573442]\n\t5593707570515573442 -> 5447535458505340468 [id=\"5593707570515573442.args[0]\"]\n\t5447535458505340468 [label=\"NDArrayCompat.__add__\" id=5447535458505340468]\n\t5447535458505340468 -> 4982424794959710867 [id=\"5447535458505340468.args[0]\"]\n\t4982424794959710867 [label=arange id=4982424794959710867]\n\t4982424794959710867 -> -9031501539059790041 [id=\"4982424794959710867.args[0]\"]\n\t-9031501539059790041 [label=100 id=-9031501539059790041]\n\t5447535458505340468 -> 4982424794959710867 [id=\"5447535458505340468.args[1]\"]\n\t5593707570515573442 -> -9031501538954785116 [id=\"5593707570515573442.args[1]\"]\n\t-9031501538954785116 [label=5 id=-9031501538954785116]\n}",
         "label": null,
         "rule": "metadsl_core.numpy.NDArrayCompat.__getitem__"
        },
        {
         "graph": "digraph {\n\tnode [shape=plain]\n\tedge [arrowsize=0.5 penwidth=0.5]\n\t680250064134282809 [label=\"NDArrayCompat.to_ndarray\" id=680250064134282809]\n\t680250064134282809 -> 5593707570515573442 [id=\"680250064134282809.args[0]\"]\n\t5593707570515573442 [label=\"NDArrayCompat.__getitem__\" id=5593707570515573442]\n\t5593707570515573442 -> 5447535458505340468 [id=\"5593707570515573442.args[0]\"]\n\t5447535458505340468 [label=\"NDArrayCompat.__add__\" id=5447535458505340468]\n\t5447535458505340468 -> 4982424794959710867 [id=\"5447535458505340468.args[0]\"]\n\t4982424794959710867 [label=arange id=4982424794959710867]\n\t4982424794959710867 -> -9031501539059790041 [id=\"4982424794959710867.args[0]\"]\n\t-9031501539059790041 [label=100 id=-9031501539059790041]\n\t5447535458505340468 -> 4982424794959710867 [id=\"5447535458505340468.args[1]\"]\n\t5593707570515573442 -> -9031501538954785116 [id=\"5593707570515573442.args[1]\"]\n\t-9031501538954785116 [label=5 id=-9031501538954785116]\n}",
         "label": null,
         "rule": "metadsl_core.numpy.NDArrayCompat.__getitem__"
        },
        {
         "graph": "digraph {\n\tnode [shape=plain]\n\tedge [arrowsize=0.5 penwidth=0.5]\n\t680250064134282809 [label=\"NDArrayCompat.to_ndarray\" id=680250064134282809]\n\t680250064134282809 -> 5593707570515573442 [id=\"680250064134282809.args[0]\"]\n\t5593707570515573442 [label=\"NDArrayCompat.__getitem__\" id=5593707570515573442]\n\t5593707570515573442 -> 5447535458505340468 [id=\"5593707570515573442.args[0]\"]\n\t5447535458505340468 [label=\"NDArrayCompat.__add__\" id=5447535458505340468]\n\t5447535458505340468 -> 4982424794959710867 [id=\"5447535458505340468.args[0]\"]\n\t4982424794959710867 [label=arange id=4982424794959710867]\n\t4982424794959710867 -> -9031501539059790041 [id=\"4982424794959710867.args[0]\"]\n\t-9031501539059790041 [label=100 id=-9031501539059790041]\n\t5447535458505340468 -> 4982424794959710867 [id=\"5447535458505340468.args[1]\"]\n\t5593707570515573442 -> -9031501538954785116 [id=\"5593707570515573442.args[1]\"]\n\t-9031501538954785116 [label=5 id=-9031501538954785116]\n}",
         "label": null,
         "rule": "metadsl_core.numpy.NDArrayCompat.__getitem__"
        },
        {
         "graph": "digraph {\n\tnode [shape=plain]\n\tedge [arrowsize=0.5 penwidth=0.5]\n\t680250064134282809 [label=\"NDArrayCompat.to_ndarray\" id=680250064134282809]\n\t680250064134282809 -> 5593707570515573442 [id=\"680250064134282809.args[0]\"]\n\t5593707570515573442 [label=\"NDArrayCompat.__getitem__\" id=5593707570515573442]\n\t5593707570515573442 -> 5447535458505340468 [id=\"5593707570515573442.args[0]\"]\n\t5447535458505340468 [label=\"NDArrayCompat.__add__\" id=5447535458505340468]\n\t5447535458505340468 -> 4982424794959710867 [id=\"5447535458505340468.args[0]\"]\n\t4982424794959710867 [label=arange id=4982424794959710867]\n\t4982424794959710867 -> -9031501539059790041 [id=\"4982424794959710867.args[0]\"]\n\t-9031501539059790041 [label=100 id=-9031501539059790041]\n\t5447535458505340468 -> 4982424794959710867 [id=\"5447535458505340468.args[1]\"]\n\t5593707570515573442 -> -9031501538954785116 [id=\"5593707570515573442.args[1]\"]\n\t-9031501538954785116 [label=5 id=-9031501538954785116]\n}",
         "label": null,
         "rule": "metadsl_core.numpy.NDArrayCompat.__getitem__"
        },
        {
         "graph": "digraph {\n\tnode [shape=plain]\n\tedge [arrowsize=0.5 penwidth=0.5]\n\t680250064134282809 [label=\"NDArrayCompat.to_ndarray\" id=680250064134282809]\n\t680250064134282809 -> 5593707570515573442 [id=\"680250064134282809.args[0]\"]\n\t5593707570515573442 [label=\"NDArrayCompat.__getitem__\" id=5593707570515573442]\n\t5593707570515573442 -> 5447535458505340468 [id=\"5593707570515573442.args[0]\"]\n\t5447535458505340468 [label=\"NDArrayCompat.__add__\" id=5447535458505340468]\n\t5447535458505340468 -> 4982424794959710867 [id=\"5447535458505340468.args[0]\"]\n\t4982424794959710867 [label=arange id=4982424794959710867]\n\t4982424794959710867 -> -9031501539059790041 [id=\"4982424794959710867.args[0]\"]\n\t-9031501539059790041 [label=100 id=-9031501539059790041]\n\t5447535458505340468 -> 4982424794959710867 [id=\"5447535458505340468.args[1]\"]\n\t5593707570515573442 -> -9031501538954785116 [id=\"5593707570515573442.args[1]\"]\n\t-9031501538954785116 [label=5 id=-9031501538954785116]\n}",
         "label": null,
         "rule": "metadsl_core.numpy.NDArrayCompat.__getitem__"
        },
        {
         "graph": "digraph {\n\tnode [shape=plain]\n\tedge [arrowsize=0.5 penwidth=0.5]\n\t680250064134282809 [label=\"NDArrayCompat.to_ndarray\" id=680250064134282809]\n\t680250064134282809 -> 5593707570515573442 [id=\"680250064134282809.args[0]\"]\n\t5593707570515573442 [label=\"NDArrayCompat.__getitem__\" id=5593707570515573442]\n\t5593707570515573442 -> 5447535458505340468 [id=\"5593707570515573442.args[0]\"]\n\t5447535458505340468 [label=\"NDArrayCompat.__add__\" id=5447535458505340468]\n\t5447535458505340468 -> 4982424794959710867 [id=\"5447535458505340468.args[0]\"]\n\t4982424794959710867 [label=arange id=4982424794959710867]\n\t4982424794959710867 -> -9031501539059790041 [id=\"4982424794959710867.args[0]\"]\n\t-9031501539059790041 [label=100 id=-9031501539059790041]\n\t5447535458505340468 -> 4982424794959710867 [id=\"5447535458505340468.args[1]\"]\n\t5593707570515573442 -> -9031501538954785116 [id=\"5593707570515573442.args[1]\"]\n\t-9031501538954785116 [label=5 id=-9031501538954785116]\n}",
         "label": null,
         "rule": "metadsl_core.numpy.NDArrayCompat.__getitem__"
        },
        {
         "graph": "digraph {\n\tnode [shape=plain]\n\tedge [arrowsize=0.5 penwidth=0.5]\n\t680250064134282809 [label=\"NDArrayCompat.to_ndarray\" id=680250064134282809]\n\t680250064134282809 -> 5593707570515573442 [id=\"680250064134282809.args[0]\"]\n\t5593707570515573442 [label=\"NDArrayCompat.__getitem__\" id=5593707570515573442]\n\t5593707570515573442 -> 5447535458505340468 [id=\"5593707570515573442.args[0]\"]\n\t5447535458505340468 [label=\"NDArrayCompat.__add__\" id=5447535458505340468]\n\t5447535458505340468 -> 4982424794959710867 [id=\"5447535458505340468.args[0]\"]\n\t4982424794959710867 [label=arange id=4982424794959710867]\n\t4982424794959710867 -> -9031501539059790041 [id=\"4982424794959710867.args[0]\"]\n\t-9031501539059790041 [label=100 id=-9031501539059790041]\n\t5447535458505340468 -> 4982424794959710867 [id=\"5447535458505340468.args[1]\"]\n\t5593707570515573442 -> -9031501538954785116 [id=\"5593707570515573442.args[1]\"]\n\t-9031501538954785116 [label=5 id=-9031501538954785116]\n}",
         "label": null,
         "rule": "metadsl_core.numpy.NDArrayCompat.__getitem__"
        },
        {
         "graph": "digraph {\n\tnode [shape=plain]\n\tedge [arrowsize=0.5 penwidth=0.5]\n\t680250064134282809 [label=\"NDArrayCompat.to_ndarray\" id=680250064134282809]\n\t680250064134282809 -> 5593707570515573442 [id=\"680250064134282809.args[0]\"]\n\t5593707570515573442 [label=\"NDArrayCompat.__getitem__\" id=5593707570515573442]\n\t5593707570515573442 -> 5447535458505340468 [id=\"5593707570515573442.args[0]\"]\n\t5447535458505340468 [label=\"NDArrayCompat.__add__\" id=5447535458505340468]\n\t5447535458505340468 -> 4982424794959710867 [id=\"5447535458505340468.args[0]\"]\n\t4982424794959710867 [label=arange id=4982424794959710867]\n\t4982424794959710867 -> -9031501539059790041 [id=\"4982424794959710867.args[0]\"]\n\t-9031501539059790041 [label=100 id=-9031501539059790041]\n\t5447535458505340468 -> 4982424794959710867 [id=\"5447535458505340468.args[1]\"]\n\t5593707570515573442 -> -9031501538954785116 [id=\"5593707570515573442.args[1]\"]\n\t-9031501538954785116 [label=5 id=-9031501538954785116]\n}",
         "label": null,
         "rule": "metadsl_core.numpy.NDArrayCompat.__getitem__"
        },
        {
         "graph": "digraph {\n\tnode [shape=plain]\n\tedge [arrowsize=0.5 penwidth=0.5]\n\t680250064134282809 [label=\"NDArrayCompat.to_ndarray\" id=680250064134282809]\n\t680250064134282809 -> 5593707570515573442 [id=\"680250064134282809.args[0]\"]\n\t5593707570515573442 [label=\"NDArrayCompat.__getitem__\" id=5593707570515573442]\n\t5593707570515573442 -> 5447535458505340468 [id=\"5593707570515573442.args[0]\"]\n\t5447535458505340468 [label=\"NDArrayCompat.__add__\" id=5447535458505340468]\n\t5447535458505340468 -> 4982424794959710867 [id=\"5447535458505340468.args[0]\"]\n\t4982424794959710867 [label=arange id=4982424794959710867]\n\t4982424794959710867 -> -9031501539059790041 [id=\"4982424794959710867.args[0]\"]\n\t-9031501539059790041 [label=100 id=-9031501539059790041]\n\t5447535458505340468 -> 4982424794959710867 [id=\"5447535458505340468.args[1]\"]\n\t5593707570515573442 -> -9031501538954785116 [id=\"5593707570515573442.args[1]\"]\n\t-9031501538954785116 [label=5 id=-9031501538954785116]\n}",
         "label": null,
         "rule": "metadsl_core.numpy.NDArrayCompat.__getitem__"
        },
        {
         "graph": "digraph {\n\tnode [shape=plain]\n\tedge [arrowsize=0.5 penwidth=0.5]\n\t680250064134282809 [label=\"NDArrayCompat.to_ndarray\" id=680250064134282809]\n\t680250064134282809 -> 5593707570515573442 [id=\"680250064134282809.args[0]\"]\n\t5593707570515573442 [label=\"NDArrayCompat.__getitem__\" id=5593707570515573442]\n\t5593707570515573442 -> 5447535458505340468 [id=\"5593707570515573442.args[0]\"]\n\t5447535458505340468 [label=\"NDArrayCompat.__add__\" id=5447535458505340468]\n\t5447535458505340468 -> 4982424794959710867 [id=\"5447535458505340468.args[0]\"]\n\t4982424794959710867 [label=arange id=4982424794959710867]\n\t4982424794959710867 -> -9031501539059790041 [id=\"4982424794959710867.args[0]\"]\n\t-9031501539059790041 [label=100 id=-9031501539059790041]\n\t5447535458505340468 -> 4982424794959710867 [id=\"5447535458505340468.args[1]\"]\n\t5593707570515573442 -> -9031501538954785116 [id=\"5593707570515573442.args[1]\"]\n\t-9031501538954785116 [label=5 id=-9031501538954785116]\n}",
         "label": null,
         "rule": "metadsl_core.numpy.NDArrayCompat.__getitem__"
        },
        {
         "graph": "digraph {\n\tnode [shape=plain]\n\tedge [arrowsize=0.5 penwidth=0.5]\n\t680250064134282809 [label=\"NDArrayCompat.to_ndarray\" id=680250064134282809]\n\t680250064134282809 -> 5593707570515573442 [id=\"680250064134282809.args[0]\"]\n\t5593707570515573442 [label=\"NDArrayCompat.__getitem__\" id=5593707570515573442]\n\t5593707570515573442 -> 5447535458505340468 [id=\"5593707570515573442.args[0]\"]\n\t5447535458505340468 [label=\"NDArrayCompat.__add__\" id=5447535458505340468]\n\t5447535458505340468 -> 4982424794959710867 [id=\"5447535458505340468.args[0]\"]\n\t4982424794959710867 [label=arange id=4982424794959710867]\n\t4982424794959710867 -> -9031501539059790041 [id=\"4982424794959710867.args[0]\"]\n\t-9031501539059790041 [label=100 id=-9031501539059790041]\n\t5447535458505340468 -> 4982424794959710867 [id=\"5447535458505340468.args[1]\"]\n\t5593707570515573442 -> -9031501538954785116 [id=\"5593707570515573442.args[1]\"]\n\t-9031501538954785116 [label=5 id=-9031501538954785116]\n}",
         "label": null,
         "rule": "metadsl_core.numpy.NDArrayCompat.__getitem__"
        },
        {
         "graph": "digraph {\n\tnode [shape=plain]\n\tedge [arrowsize=0.5 penwidth=0.5]\n\t680250064134282809 [label=\"NDArrayCompat.to_ndarray\" id=680250064134282809]\n\t680250064134282809 -> 5593707570515573442 [id=\"680250064134282809.args[0]\"]\n\t5593707570515573442 [label=\"NDArrayCompat.__getitem__\" id=5593707570515573442]\n\t5593707570515573442 -> 5447535458505340468 [id=\"5593707570515573442.args[0]\"]\n\t5447535458505340468 [label=\"NDArrayCompat.__add__\" id=5447535458505340468]\n\t5447535458505340468 -> 4982424794959710867 [id=\"5447535458505340468.args[0]\"]\n\t4982424794959710867 [label=arange id=4982424794959710867]\n\t4982424794959710867 -> -9031501539059790041 [id=\"4982424794959710867.args[0]\"]\n\t-9031501539059790041 [label=100 id=-9031501539059790041]\n\t5447535458505340468 -> 4982424794959710867 [id=\"5447535458505340468.args[1]\"]\n\t5593707570515573442 -> -9031501538954785116 [id=\"5593707570515573442.args[1]\"]\n\t-9031501538954785116 [label=5 id=-9031501538954785116]\n}",
         "label": null,
         "rule": "metadsl_core.numpy.NDArrayCompat.__getitem__"
        },
        {
         "graph": "digraph {\n\tnode [shape=plain]\n\tedge [arrowsize=0.5 penwidth=0.5]\n\t680250064134282809 [label=\"NDArrayCompat.to_ndarray\" id=680250064134282809]\n\t680250064134282809 -> 5593707570515573442 [id=\"680250064134282809.args[0]\"]\n\t5593707570515573442 [label=\"NDArrayCompat.__getitem__\" id=5593707570515573442]\n\t5593707570515573442 -> 5447535458505340468 [id=\"5593707570515573442.args[0]\"]\n\t5447535458505340468 [label=\"NDArrayCompat.__add__\" id=5447535458505340468]\n\t5447535458505340468 -> 4982424794959710867 [id=\"5447535458505340468.args[0]\"]\n\t4982424794959710867 [label=arange id=4982424794959710867]\n\t4982424794959710867 -> -9031501539059790041 [id=\"4982424794959710867.args[0]\"]\n\t-9031501539059790041 [label=100 id=-9031501539059790041]\n\t5447535458505340468 -> 4982424794959710867 [id=\"5447535458505340468.args[1]\"]\n\t5593707570515573442 -> -9031501538954785116 [id=\"5593707570515573442.args[1]\"]\n\t-9031501538954785116 [label=5 id=-9031501538954785116]\n}",
         "label": null,
         "rule": "metadsl_core.numpy.NDArrayCompat.__getitem__"
        },
        {
         "graph": "digraph {\n\tnode [shape=plain]\n\tedge [arrowsize=0.5 penwidth=0.5]\n\t680250064134282809 [label=\"NDArrayCompat.to_ndarray\" id=680250064134282809]\n\t680250064134282809 -> 5593707570515573442 [id=\"680250064134282809.args[0]\"]\n\t5593707570515573442 [label=\"NDArrayCompat.__getitem__\" id=5593707570515573442]\n\t5593707570515573442 -> 5447535458505340468 [id=\"5593707570515573442.args[0]\"]\n\t5447535458505340468 [label=\"NDArrayCompat.__add__\" id=5447535458505340468]\n\t5447535458505340468 -> 4982424794959710867 [id=\"5447535458505340468.args[0]\"]\n\t4982424794959710867 [label=arange id=4982424794959710867]\n\t4982424794959710867 -> -9031501539059790041 [id=\"4982424794959710867.args[0]\"]\n\t-9031501539059790041 [label=100 id=-9031501539059790041]\n\t5447535458505340468 -> 4982424794959710867 [id=\"5447535458505340468.args[1]\"]\n\t5593707570515573442 -> -9031501538954785116 [id=\"5593707570515573442.args[1]\"]\n\t-9031501538954785116 [label=5 id=-9031501538954785116]\n}",
         "label": null,
         "rule": "metadsl_core.numpy.NDArrayCompat.__getitem__"
        },
        {
         "graph": "digraph {\n\tnode [shape=plain]\n\tedge [arrowsize=0.5 penwidth=0.5]\n\t680250064134282809 [label=\"NDArrayCompat.to_ndarray\" id=680250064134282809]\n\t680250064134282809 -> 5593707570515573442 [id=\"680250064134282809.args[0]\"]\n\t5593707570515573442 [label=\"NDArrayCompat.__getitem__\" id=5593707570515573442]\n\t5593707570515573442 -> 5447535458505340468 [id=\"5593707570515573442.args[0]\"]\n\t5447535458505340468 [label=\"NDArrayCompat.__add__\" id=5447535458505340468]\n\t5447535458505340468 -> 4982424794959710867 [id=\"5447535458505340468.args[0]\"]\n\t4982424794959710867 [label=arange id=4982424794959710867]\n\t4982424794959710867 -> -9031501539059790041 [id=\"4982424794959710867.args[0]\"]\n\t-9031501539059790041 [label=100 id=-9031501539059790041]\n\t5447535458505340468 -> 4982424794959710867 [id=\"5447535458505340468.args[1]\"]\n\t5593707570515573442 -> -9031501538954785116 [id=\"5593707570515573442.args[1]\"]\n\t-9031501538954785116 [label=5 id=-9031501538954785116]\n}",
         "label": null,
         "rule": "metadsl_core.numpy.NDArrayCompat.__getitem__"
        },
        {
         "graph": "digraph {\n\tnode [shape=plain]\n\tedge [arrowsize=0.5 penwidth=0.5]\n\t680250064134282809 [label=\"NDArrayCompat.to_ndarray\" id=680250064134282809]\n\t680250064134282809 -> 5593707570515573442 [id=\"680250064134282809.args[0]\"]\n\t5593707570515573442 [label=\"NDArrayCompat.__getitem__\" id=5593707570515573442]\n\t5593707570515573442 -> 5447535458505340468 [id=\"5593707570515573442.args[0]\"]\n\t5447535458505340468 [label=\"NDArrayCompat.__add__\" id=5447535458505340468]\n\t5447535458505340468 -> 4982424794959710867 [id=\"5447535458505340468.args[0]\"]\n\t4982424794959710867 [label=arange id=4982424794959710867]\n\t4982424794959710867 -> -9031501539059790041 [id=\"4982424794959710867.args[0]\"]\n\t-9031501539059790041 [label=100 id=-9031501539059790041]\n\t5447535458505340468 -> 4982424794959710867 [id=\"5447535458505340468.args[1]\"]\n\t5593707570515573442 -> -9031501538954785116 [id=\"5593707570515573442.args[1]\"]\n\t-9031501538954785116 [label=5 id=-9031501538954785116]\n}",
         "label": null,
         "rule": "metadsl_core.numpy.NDArrayCompat.__getitem__"
        },
        {
         "graph": "digraph {\n\tnode [shape=plain]\n\tedge [arrowsize=0.5 penwidth=0.5]\n\t680250064134282809 [label=\"NDArrayCompat.to_ndarray\" id=680250064134282809]\n\t680250064134282809 -> 5593707570515573442 [id=\"680250064134282809.args[0]\"]\n\t5593707570515573442 [label=\"NDArrayCompat.__getitem__\" id=5593707570515573442]\n\t5593707570515573442 -> 5447535458505340468 [id=\"5593707570515573442.args[0]\"]\n\t5447535458505340468 [label=\"NDArrayCompat.__add__\" id=5447535458505340468]\n\t5447535458505340468 -> 4982424794959710867 [id=\"5447535458505340468.args[0]\"]\n\t4982424794959710867 [label=arange id=4982424794959710867]\n\t4982424794959710867 -> -9031501539059790041 [id=\"4982424794959710867.args[0]\"]\n\t-9031501539059790041 [label=100 id=-9031501539059790041]\n\t5447535458505340468 -> 4982424794959710867 [id=\"5447535458505340468.args[1]\"]\n\t5593707570515573442 -> -9031501538954785116 [id=\"5593707570515573442.args[1]\"]\n\t-9031501538954785116 [label=5 id=-9031501538954785116]\n}",
         "label": null,
         "rule": "metadsl_core.numpy.NDArrayCompat.__getitem__"
        },
        {
         "graph": "digraph {\n\tnode [shape=plain]\n\tedge [arrowsize=0.5 penwidth=0.5]\n\t680250064134282809 [label=\"NDArrayCompat.to_ndarray\" id=680250064134282809]\n\t680250064134282809 -> 5593707570515573442 [id=\"680250064134282809.args[0]\"]\n\t5593707570515573442 [label=\"NDArrayCompat.__getitem__\" id=5593707570515573442]\n\t5593707570515573442 -> 5447535458505340468 [id=\"5593707570515573442.args[0]\"]\n\t5447535458505340468 [label=\"NDArrayCompat.__add__\" id=5447535458505340468]\n\t5447535458505340468 -> 4982424794959710867 [id=\"5447535458505340468.args[0]\"]\n\t4982424794959710867 [label=arange id=4982424794959710867]\n\t4982424794959710867 -> -9031501539059790041 [id=\"4982424794959710867.args[0]\"]\n\t-9031501539059790041 [label=100 id=-9031501539059790041]\n\t5447535458505340468 -> 4982424794959710867 [id=\"5447535458505340468.args[1]\"]\n\t5593707570515573442 -> -9031501538954785116 [id=\"5593707570515573442.args[1]\"]\n\t-9031501538954785116 [label=5 id=-9031501538954785116]\n}",
         "label": null,
         "rule": "metadsl_core.numpy.NDArrayCompat.__getitem__"
        },
        {
         "graph": "digraph {\n\tnode [shape=plain]\n\tedge [arrowsize=0.5 penwidth=0.5]\n\t680250064134282809 [label=\"NDArrayCompat.to_ndarray\" id=680250064134282809]\n\t680250064134282809 -> 5593707570515573442 [id=\"680250064134282809.args[0]\"]\n\t5593707570515573442 [label=\"NDArrayCompat.__getitem__\" id=5593707570515573442]\n\t5593707570515573442 -> 5447535458505340468 [id=\"5593707570515573442.args[0]\"]\n\t5447535458505340468 [label=\"NDArrayCompat.__add__\" id=5447535458505340468]\n\t5447535458505340468 -> 4982424794959710867 [id=\"5447535458505340468.args[0]\"]\n\t4982424794959710867 [label=arange id=4982424794959710867]\n\t4982424794959710867 -> -9031501539059790041 [id=\"4982424794959710867.args[0]\"]\n\t-9031501539059790041 [label=100 id=-9031501539059790041]\n\t5447535458505340468 -> 4982424794959710867 [id=\"5447535458505340468.args[1]\"]\n\t5593707570515573442 -> -9031501538954785116 [id=\"5593707570515573442.args[1]\"]\n\t-9031501538954785116 [label=5 id=-9031501538954785116]\n}",
         "label": null,
         "rule": "metadsl_core.numpy.NDArrayCompat.__getitem__"
        },
        {
         "graph": "digraph {\n\tnode [shape=plain]\n\tedge [arrowsize=0.5 penwidth=0.5]\n\t680250064134282809 [label=\"NDArrayCompat.to_ndarray\" id=680250064134282809]\n\t680250064134282809 -> 5593707570515573442 [id=\"680250064134282809.args[0]\"]\n\t5593707570515573442 [label=\"NDArrayCompat.__getitem__\" id=5593707570515573442]\n\t5593707570515573442 -> 5447535458505340468 [id=\"5593707570515573442.args[0]\"]\n\t5447535458505340468 [label=\"NDArrayCompat.__add__\" id=5447535458505340468]\n\t5447535458505340468 -> 4982424794959710867 [id=\"5447535458505340468.args[0]\"]\n\t4982424794959710867 [label=arange id=4982424794959710867]\n\t4982424794959710867 -> -9031501539059790041 [id=\"4982424794959710867.args[0]\"]\n\t-9031501539059790041 [label=100 id=-9031501539059790041]\n\t5447535458505340468 -> 4982424794959710867 [id=\"5447535458505340468.args[1]\"]\n\t5593707570515573442 -> -9031501538954785116 [id=\"5593707570515573442.args[1]\"]\n\t-9031501538954785116 [label=5 id=-9031501538954785116]\n}",
         "label": null,
         "rule": "metadsl_core.numpy.NDArrayCompat.__getitem__"
        },
        {
         "graph": "digraph {\n\tnode [shape=plain]\n\tedge [arrowsize=0.5 penwidth=0.5]\n\t680250064134282809 [label=\"NDArrayCompat.to_ndarray\" id=680250064134282809]\n\t680250064134282809 -> 5593707570515573442 [id=\"680250064134282809.args[0]\"]\n\t5593707570515573442 [label=\"NDArrayCompat.__getitem__\" id=5593707570515573442]\n\t5593707570515573442 -> 5447535458505340468 [id=\"5593707570515573442.args[0]\"]\n\t5447535458505340468 [label=\"NDArrayCompat.__add__\" id=5447535458505340468]\n\t5447535458505340468 -> 4982424794959710867 [id=\"5447535458505340468.args[0]\"]\n\t4982424794959710867 [label=arange id=4982424794959710867]\n\t4982424794959710867 -> -9031501539059790041 [id=\"4982424794959710867.args[0]\"]\n\t-9031501539059790041 [label=100 id=-9031501539059790041]\n\t5447535458505340468 -> 4982424794959710867 [id=\"5447535458505340468.args[1]\"]\n\t5593707570515573442 -> -9031501538954785116 [id=\"5593707570515573442.args[1]\"]\n\t-9031501538954785116 [label=5 id=-9031501538954785116]\n}",
         "label": null,
         "rule": "metadsl_core.numpy.NDArrayCompat.__getitem__"
        },
        {
         "graph": "digraph {\n\tnode [shape=plain]\n\tedge [arrowsize=0.5 penwidth=0.5]\n\t680250064134282809 [label=\"NDArrayCompat.to_ndarray\" id=680250064134282809]\n\t680250064134282809 -> 5593707570515573442 [id=\"680250064134282809.args[0]\"]\n\t5593707570515573442 [label=\"NDArrayCompat.__getitem__\" id=5593707570515573442]\n\t5593707570515573442 -> 5447535458505340468 [id=\"5593707570515573442.args[0]\"]\n\t5447535458505340468 [label=\"NDArrayCompat.__add__\" id=5447535458505340468]\n\t5447535458505340468 -> 4982424794959710867 [id=\"5447535458505340468.args[0]\"]\n\t4982424794959710867 [label=arange id=4982424794959710867]\n\t4982424794959710867 -> -9031501539059790041 [id=\"4982424794959710867.args[0]\"]\n\t-9031501539059790041 [label=100 id=-9031501539059790041]\n\t5447535458505340468 -> 4982424794959710867 [id=\"5447535458505340468.args[1]\"]\n\t5593707570515573442 -> -9031501538954785116 [id=\"5593707570515573442.args[1]\"]\n\t-9031501538954785116 [label=5 id=-9031501538954785116]\n}",
         "label": null,
         "rule": "metadsl_core.numpy.NDArrayCompat.__getitem__"
        },
        {
         "graph": "digraph {\n\tnode [shape=plain]\n\tedge [arrowsize=0.5 penwidth=0.5]\n\t680250064134282809 [label=\"NDArrayCompat.to_ndarray\" id=680250064134282809]\n\t680250064134282809 -> 5593707570515573442 [id=\"680250064134282809.args[0]\"]\n\t5593707570515573442 [label=\"NDArrayCompat.__getitem__\" id=5593707570515573442]\n\t5593707570515573442 -> 5447535458505340468 [id=\"5593707570515573442.args[0]\"]\n\t5447535458505340468 [label=\"NDArrayCompat.__add__\" id=5447535458505340468]\n\t5447535458505340468 -> 4982424794959710867 [id=\"5447535458505340468.args[0]\"]\n\t4982424794959710867 [label=arange id=4982424794959710867]\n\t4982424794959710867 -> -9031501539059790041 [id=\"4982424794959710867.args[0]\"]\n\t-9031501539059790041 [label=100 id=-9031501539059790041]\n\t5447535458505340468 -> 4982424794959710867 [id=\"5447535458505340468.args[1]\"]\n\t5593707570515573442 -> -9031501538954785116 [id=\"5593707570515573442.args[1]\"]\n\t-9031501538954785116 [label=5 id=-9031501538954785116]\n}",
         "label": null,
         "rule": "metadsl_core.numpy.NDArrayCompat.__getitem__"
        },
        {
         "graph": "digraph {\n\tnode [shape=plain]\n\tedge [arrowsize=0.5 penwidth=0.5]\n\t680250064134282809 [label=\"NDArrayCompat.to_ndarray\" id=680250064134282809]\n\t680250064134282809 -> 5593707570515573442 [id=\"680250064134282809.args[0]\"]\n\t5593707570515573442 [label=\"NDArrayCompat.__getitem__\" id=5593707570515573442]\n\t5593707570515573442 -> 5447535458505340468 [id=\"5593707570515573442.args[0]\"]\n\t5447535458505340468 [label=\"NDArrayCompat.__add__\" id=5447535458505340468]\n\t5447535458505340468 -> 4982424794959710867 [id=\"5447535458505340468.args[0]\"]\n\t4982424794959710867 [label=arange id=4982424794959710867]\n\t4982424794959710867 -> -9031501539059790041 [id=\"4982424794959710867.args[0]\"]\n\t-9031501539059790041 [label=100 id=-9031501539059790041]\n\t5447535458505340468 -> 4982424794959710867 [id=\"5447535458505340468.args[1]\"]\n\t5593707570515573442 -> -9031501538954785116 [id=\"5593707570515573442.args[1]\"]\n\t-9031501538954785116 [label=5 id=-9031501538954785116]\n}",
         "label": null,
         "rule": "metadsl_core.numpy.NDArrayCompat.__getitem__"
        },
        {
         "graph": "digraph {\n\tnode [shape=plain]\n\tedge [arrowsize=0.5 penwidth=0.5]\n\t680250064134282809 [label=\"NDArrayCompat.to_ndarray\" id=680250064134282809]\n\t680250064134282809 -> 5593707570515573442 [id=\"680250064134282809.args[0]\"]\n\t5593707570515573442 [label=\"NDArrayCompat.__getitem__\" id=5593707570515573442]\n\t5593707570515573442 -> 5447535458505340468 [id=\"5593707570515573442.args[0]\"]\n\t5447535458505340468 [label=\"NDArrayCompat.__add__\" id=5447535458505340468]\n\t5447535458505340468 -> 4982424794959710867 [id=\"5447535458505340468.args[0]\"]\n\t4982424794959710867 [label=arange id=4982424794959710867]\n\t4982424794959710867 -> -9031501539059790041 [id=\"4982424794959710867.args[0]\"]\n\t-9031501539059790041 [label=100 id=-9031501539059790041]\n\t5447535458505340468 -> 4982424794959710867 [id=\"5447535458505340468.args[1]\"]\n\t5593707570515573442 -> -9031501538954785116 [id=\"5593707570515573442.args[1]\"]\n\t-9031501538954785116 [label=5 id=-9031501538954785116]\n}",
         "label": null,
         "rule": "metadsl_core.numpy.NDArrayCompat.__getitem__"
        },
        {
         "graph": "digraph {\n\tnode [shape=plain]\n\tedge [arrowsize=0.5 penwidth=0.5]\n\t680250064134282809 [label=\"NDArrayCompat.to_ndarray\" id=680250064134282809]\n\t680250064134282809 -> 5593707570515573442 [id=\"680250064134282809.args[0]\"]\n\t5593707570515573442 [label=\"NDArrayCompat.__getitem__\" id=5593707570515573442]\n\t5593707570515573442 -> 5447535458505340468 [id=\"5593707570515573442.args[0]\"]\n\t5447535458505340468 [label=\"NDArrayCompat.__add__\" id=5447535458505340468]\n\t5447535458505340468 -> 4982424794959710867 [id=\"5447535458505340468.args[0]\"]\n\t4982424794959710867 [label=arange id=4982424794959710867]\n\t4982424794959710867 -> -9031501539059790041 [id=\"4982424794959710867.args[0]\"]\n\t-9031501539059790041 [label=100 id=-9031501539059790041]\n\t5447535458505340468 -> 4982424794959710867 [id=\"5447535458505340468.args[1]\"]\n\t5593707570515573442 -> -9031501538954785116 [id=\"5593707570515573442.args[1]\"]\n\t-9031501538954785116 [label=5 id=-9031501538954785116]\n}",
         "label": null,
         "rule": "metadsl_core.numpy.NDArrayCompat.__getitem__"
        },
        {
         "graph": "digraph {\n\tnode [shape=plain]\n\tedge [arrowsize=0.5 penwidth=0.5]\n\t680250064134282809 [label=\"NDArrayCompat.to_ndarray\" id=680250064134282809]\n\t680250064134282809 -> 5593707570515573442 [id=\"680250064134282809.args[0]\"]\n\t5593707570515573442 [label=\"NDArrayCompat.__getitem__\" id=5593707570515573442]\n\t5593707570515573442 -> 5447535458505340468 [id=\"5593707570515573442.args[0]\"]\n\t5447535458505340468 [label=\"NDArrayCompat.__add__\" id=5447535458505340468]\n\t5447535458505340468 -> 4982424794959710867 [id=\"5447535458505340468.args[0]\"]\n\t4982424794959710867 [label=arange id=4982424794959710867]\n\t4982424794959710867 -> -9031501539059790041 [id=\"4982424794959710867.args[0]\"]\n\t-9031501539059790041 [label=100 id=-9031501539059790041]\n\t5447535458505340468 -> 4982424794959710867 [id=\"5447535458505340468.args[1]\"]\n\t5593707570515573442 -> -9031501538954785116 [id=\"5593707570515573442.args[1]\"]\n\t-9031501538954785116 [label=5 id=-9031501538954785116]\n}",
         "label": null,
         "rule": "metadsl_core.numpy.NDArrayCompat.__getitem__"
        },
        {
         "graph": "digraph {\n\tnode [shape=plain]\n\tedge [arrowsize=0.5 penwidth=0.5]\n\t680250064134282809 [label=\"NDArrayCompat.to_ndarray\" id=680250064134282809]\n\t680250064134282809 -> 5593707570515573442 [id=\"680250064134282809.args[0]\"]\n\t5593707570515573442 [label=\"NDArrayCompat.__getitem__\" id=5593707570515573442]\n\t5593707570515573442 -> 5447535458505340468 [id=\"5593707570515573442.args[0]\"]\n\t5447535458505340468 [label=\"NDArrayCompat.__add__\" id=5447535458505340468]\n\t5447535458505340468 -> 4982424794959710867 [id=\"5447535458505340468.args[0]\"]\n\t4982424794959710867 [label=arange id=4982424794959710867]\n\t4982424794959710867 -> -9031501539059790041 [id=\"4982424794959710867.args[0]\"]\n\t-9031501539059790041 [label=100 id=-9031501539059790041]\n\t5447535458505340468 -> 4982424794959710867 [id=\"5447535458505340468.args[1]\"]\n\t5593707570515573442 -> -9031501538954785116 [id=\"5593707570515573442.args[1]\"]\n\t-9031501538954785116 [label=5 id=-9031501538954785116]\n}",
         "label": null,
         "rule": "metadsl_core.numpy.NDArrayCompat.__getitem__"
        },
        {
         "graph": "digraph {\n\tnode [shape=plain]\n\tedge [arrowsize=0.5 penwidth=0.5]\n\t680250064134282809 [label=\"NDArrayCompat.to_ndarray\" id=680250064134282809]\n\t680250064134282809 -> 5593707570515573442 [id=\"680250064134282809.args[0]\"]\n\t5593707570515573442 [label=\"NDArrayCompat.__getitem__\" id=5593707570515573442]\n\t5593707570515573442 -> 5447535458505340468 [id=\"5593707570515573442.args[0]\"]\n\t5447535458505340468 [label=\"NDArrayCompat.__add__\" id=5447535458505340468]\n\t5447535458505340468 -> 4982424794959710867 [id=\"5447535458505340468.args[0]\"]\n\t4982424794959710867 [label=arange id=4982424794959710867]\n\t4982424794959710867 -> -9031501539059790041 [id=\"4982424794959710867.args[0]\"]\n\t-9031501539059790041 [label=100 id=-9031501539059790041]\n\t5447535458505340468 -> 4982424794959710867 [id=\"5447535458505340468.args[1]\"]\n\t5593707570515573442 -> -9031501538954785116 [id=\"5593707570515573442.args[1]\"]\n\t-9031501538954785116 [label=5 id=-9031501538954785116]\n}",
         "label": null,
         "rule": "metadsl_core.numpy.NDArrayCompat.__getitem__"
        },
        {
         "graph": "digraph {\n\tnode [shape=plain]\n\tedge [arrowsize=0.5 penwidth=0.5]\n\t680250064134282809 [label=\"NDArrayCompat.to_ndarray\" id=680250064134282809]\n\t680250064134282809 -> 5593707570515573442 [id=\"680250064134282809.args[0]\"]\n\t5593707570515573442 [label=\"NDArrayCompat.__getitem__\" id=5593707570515573442]\n\t5593707570515573442 -> 5447535458505340468 [id=\"5593707570515573442.args[0]\"]\n\t5447535458505340468 [label=\"NDArrayCompat.__add__\" id=5447535458505340468]\n\t5447535458505340468 -> 4982424794959710867 [id=\"5447535458505340468.args[0]\"]\n\t4982424794959710867 [label=arange id=4982424794959710867]\n\t4982424794959710867 -> -9031501539059790041 [id=\"4982424794959710867.args[0]\"]\n\t-9031501539059790041 [label=100 id=-9031501539059790041]\n\t5447535458505340468 -> 4982424794959710867 [id=\"5447535458505340468.args[1]\"]\n\t5593707570515573442 -> -9031501538954785116 [id=\"5593707570515573442.args[1]\"]\n\t-9031501538954785116 [label=5 id=-9031501538954785116]\n}",
         "label": null,
         "rule": "metadsl_core.numpy.NDArrayCompat.__getitem__"
        },
        {
         "graph": "digraph {\n\tnode [shape=plain]\n\tedge [arrowsize=0.5 penwidth=0.5]\n\t680250064134282809 [label=\"NDArrayCompat.to_ndarray\" id=680250064134282809]\n\t680250064134282809 -> 5593707570515573442 [id=\"680250064134282809.args[0]\"]\n\t5593707570515573442 [label=\"NDArrayCompat.__getitem__\" id=5593707570515573442]\n\t5593707570515573442 -> 5447535458505340468 [id=\"5593707570515573442.args[0]\"]\n\t5447535458505340468 [label=\"NDArrayCompat.__add__\" id=5447535458505340468]\n\t5447535458505340468 -> 4982424794959710867 [id=\"5447535458505340468.args[0]\"]\n\t4982424794959710867 [label=arange id=4982424794959710867]\n\t4982424794959710867 -> -9031501539059790041 [id=\"4982424794959710867.args[0]\"]\n\t-9031501539059790041 [label=100 id=-9031501539059790041]\n\t5447535458505340468 -> 4982424794959710867 [id=\"5447535458505340468.args[1]\"]\n\t5593707570515573442 -> -9031501538954785116 [id=\"5593707570515573442.args[1]\"]\n\t-9031501538954785116 [label=5 id=-9031501538954785116]\n}",
         "label": null,
         "rule": "metadsl_core.numpy.NDArrayCompat.__getitem__"
        },
        {
         "graph": "digraph {\n\tnode [shape=plain]\n\tedge [arrowsize=0.5 penwidth=0.5]\n\t680250064134282809 [label=\"NDArrayCompat.to_ndarray\" id=680250064134282809]\n\t680250064134282809 -> 5593707570515573442 [id=\"680250064134282809.args[0]\"]\n\t5593707570515573442 [label=\"NDArrayCompat.__getitem__\" id=5593707570515573442]\n\t5593707570515573442 -> 5447535458505340468 [id=\"5593707570515573442.args[0]\"]\n\t5447535458505340468 [label=\"NDArrayCompat.__add__\" id=5447535458505340468]\n\t5447535458505340468 -> 4982424794959710867 [id=\"5447535458505340468.args[0]\"]\n\t4982424794959710867 [label=arange id=4982424794959710867]\n\t4982424794959710867 -> -9031501539059790041 [id=\"4982424794959710867.args[0]\"]\n\t-9031501539059790041 [label=100 id=-9031501539059790041]\n\t5447535458505340468 -> 4982424794959710867 [id=\"5447535458505340468.args[1]\"]\n\t5593707570515573442 -> -9031501538954785116 [id=\"5593707570515573442.args[1]\"]\n\t-9031501538954785116 [label=5 id=-9031501538954785116]\n}",
         "label": null,
         "rule": "metadsl_core.numpy.NDArrayCompat.__getitem__"
        },
        {
         "graph": "digraph {\n\tnode [shape=plain]\n\tedge [arrowsize=0.5 penwidth=0.5]\n\t680250064134282809 [label=\"NDArrayCompat.to_ndarray\" id=680250064134282809]\n\t680250064134282809 -> 5593707570515573442 [id=\"680250064134282809.args[0]\"]\n\t5593707570515573442 [label=\"NDArrayCompat.__getitem__\" id=5593707570515573442]\n\t5593707570515573442 -> 5447535458505340468 [id=\"5593707570515573442.args[0]\"]\n\t5447535458505340468 [label=\"NDArrayCompat.__add__\" id=5447535458505340468]\n\t5447535458505340468 -> 4982424794959710867 [id=\"5447535458505340468.args[0]\"]\n\t4982424794959710867 [label=arange id=4982424794959710867]\n\t4982424794959710867 -> -9031501539059790041 [id=\"4982424794959710867.args[0]\"]\n\t-9031501539059790041 [label=100 id=-9031501539059790041]\n\t5447535458505340468 -> 4982424794959710867 [id=\"5447535458505340468.args[1]\"]\n\t5593707570515573442 -> -9031501538954785116 [id=\"5593707570515573442.args[1]\"]\n\t-9031501538954785116 [label=5 id=-9031501538954785116]\n}",
         "label": null,
         "rule": "metadsl_core.numpy.NDArrayCompat.__getitem__"
        },
        {
         "graph": "digraph {\n\tnode [shape=plain]\n\tedge [arrowsize=0.5 penwidth=0.5]\n\t680250064134282809 [label=\"NDArrayCompat.to_ndarray\" id=680250064134282809]\n\t680250064134282809 -> 5593707570515573442 [id=\"680250064134282809.args[0]\"]\n\t5593707570515573442 [label=\"NDArrayCompat.__getitem__\" id=5593707570515573442]\n\t5593707570515573442 -> 5447535458505340468 [id=\"5593707570515573442.args[0]\"]\n\t5447535458505340468 [label=\"NDArrayCompat.__add__\" id=5447535458505340468]\n\t5447535458505340468 -> 4982424794959710867 [id=\"5447535458505340468.args[0]\"]\n\t4982424794959710867 [label=arange id=4982424794959710867]\n\t4982424794959710867 -> -9031501539059790041 [id=\"4982424794959710867.args[0]\"]\n\t-9031501539059790041 [label=100 id=-9031501539059790041]\n\t5447535458505340468 -> 4982424794959710867 [id=\"5447535458505340468.args[1]\"]\n\t5593707570515573442 -> -9031501538954785116 [id=\"5593707570515573442.args[1]\"]\n\t-9031501538954785116 [label=5 id=-9031501538954785116]\n}",
         "label": null,
         "rule": "metadsl_core.numpy.NDArrayCompat.__getitem__"
        },
        {
         "graph": "digraph {\n\tnode [shape=plain]\n\tedge [arrowsize=0.5 penwidth=0.5]\n\t680250064134282809 [label=\"NDArrayCompat.to_ndarray\" id=680250064134282809]\n\t680250064134282809 -> 5593707570515573442 [id=\"680250064134282809.args[0]\"]\n\t5593707570515573442 [label=\"NDArrayCompat.__getitem__\" id=5593707570515573442]\n\t5593707570515573442 -> 5447535458505340468 [id=\"5593707570515573442.args[0]\"]\n\t5447535458505340468 [label=\"NDArrayCompat.__add__\" id=5447535458505340468]\n\t5447535458505340468 -> 4982424794959710867 [id=\"5447535458505340468.args[0]\"]\n\t4982424794959710867 [label=arange id=4982424794959710867]\n\t4982424794959710867 -> -9031501539059790041 [id=\"4982424794959710867.args[0]\"]\n\t-9031501539059790041 [label=100 id=-9031501539059790041]\n\t5447535458505340468 -> 4982424794959710867 [id=\"5447535458505340468.args[1]\"]\n\t5593707570515573442 -> -9031501538954785116 [id=\"5593707570515573442.args[1]\"]\n\t-9031501538954785116 [label=5 id=-9031501538954785116]\n}",
         "label": null,
         "rule": "metadsl_core.numpy.NDArrayCompat.__getitem__"
        },
        {
         "graph": "digraph {\n\tnode [shape=plain]\n\tedge [arrowsize=0.5 penwidth=0.5]\n\t680250064134282809 [label=\"NDArrayCompat.to_ndarray\" id=680250064134282809]\n\t680250064134282809 -> 5593707570515573442 [id=\"680250064134282809.args[0]\"]\n\t5593707570515573442 [label=\"NDArrayCompat.__getitem__\" id=5593707570515573442]\n\t5593707570515573442 -> 5447535458505340468 [id=\"5593707570515573442.args[0]\"]\n\t5447535458505340468 [label=\"NDArrayCompat.__add__\" id=5447535458505340468]\n\t5447535458505340468 -> 4982424794959710867 [id=\"5447535458505340468.args[0]\"]\n\t4982424794959710867 [label=arange id=4982424794959710867]\n\t4982424794959710867 -> -9031501539059790041 [id=\"4982424794959710867.args[0]\"]\n\t-9031501539059790041 [label=100 id=-9031501539059790041]\n\t5447535458505340468 -> 4982424794959710867 [id=\"5447535458505340468.args[1]\"]\n\t5593707570515573442 -> -9031501538954785116 [id=\"5593707570515573442.args[1]\"]\n\t-9031501538954785116 [label=5 id=-9031501538954785116]\n}",
         "label": null,
         "rule": "metadsl_core.numpy.NDArrayCompat.__getitem__"
        },
        {
         "graph": "digraph {\n\tnode [shape=plain]\n\tedge [arrowsize=0.5 penwidth=0.5]\n\t680250064134282809 [label=\"NDArrayCompat.to_ndarray\" id=680250064134282809]\n\t680250064134282809 -> 5593707570515573442 [id=\"680250064134282809.args[0]\"]\n\t5593707570515573442 [label=\"NDArrayCompat.__getitem__\" id=5593707570515573442]\n\t5593707570515573442 -> 5447535458505340468 [id=\"5593707570515573442.args[0]\"]\n\t5447535458505340468 [label=\"NDArrayCompat.__add__\" id=5447535458505340468]\n\t5447535458505340468 -> 4982424794959710867 [id=\"5447535458505340468.args[0]\"]\n\t4982424794959710867 [label=arange id=4982424794959710867]\n\t4982424794959710867 -> -9031501539059790041 [id=\"4982424794959710867.args[0]\"]\n\t-9031501539059790041 [label=100 id=-9031501539059790041]\n\t5447535458505340468 -> 4982424794959710867 [id=\"5447535458505340468.args[1]\"]\n\t5593707570515573442 -> -9031501538954785116 [id=\"5593707570515573442.args[1]\"]\n\t-9031501538954785116 [label=5 id=-9031501538954785116]\n}",
         "label": null,
         "rule": "metadsl_core.numpy.NDArrayCompat.__getitem__"
        },
        {
         "graph": "digraph {\n\tnode [shape=plain]\n\tedge [arrowsize=0.5 penwidth=0.5]\n\t680250064134282809 [label=\"NDArrayCompat.to_ndarray\" id=680250064134282809]\n\t680250064134282809 -> 5593707570515573442 [id=\"680250064134282809.args[0]\"]\n\t5593707570515573442 [label=\"NDArrayCompat.__getitem__\" id=5593707570515573442]\n\t5593707570515573442 -> 5447535458505340468 [id=\"5593707570515573442.args[0]\"]\n\t5447535458505340468 [label=\"NDArrayCompat.__add__\" id=5447535458505340468]\n\t5447535458505340468 -> 4982424794959710867 [id=\"5447535458505340468.args[0]\"]\n\t4982424794959710867 [label=arange id=4982424794959710867]\n\t4982424794959710867 -> -9031501539059790041 [id=\"4982424794959710867.args[0]\"]\n\t-9031501539059790041 [label=100 id=-9031501539059790041]\n\t5447535458505340468 -> 4982424794959710867 [id=\"5447535458505340468.args[1]\"]\n\t5593707570515573442 -> -9031501538954785116 [id=\"5593707570515573442.args[1]\"]\n\t-9031501538954785116 [label=5 id=-9031501538954785116]\n}",
         "label": null,
         "rule": "metadsl_core.numpy.NDArrayCompat.__getitem__"
        },
        {
         "graph": "digraph {\n\tnode [shape=plain]\n\tedge [arrowsize=0.5 penwidth=0.5]\n\t680250064134282809 [label=\"NDArrayCompat.to_ndarray\" id=680250064134282809]\n\t680250064134282809 -> 5593707570515573442 [id=\"680250064134282809.args[0]\"]\n\t5593707570515573442 [label=\"NDArrayCompat.__getitem__\" id=5593707570515573442]\n\t5593707570515573442 -> 5447535458505340468 [id=\"5593707570515573442.args[0]\"]\n\t5447535458505340468 [label=\"NDArrayCompat.__add__\" id=5447535458505340468]\n\t5447535458505340468 -> 4982424794959710867 [id=\"5447535458505340468.args[0]\"]\n\t4982424794959710867 [label=arange id=4982424794959710867]\n\t4982424794959710867 -> -9031501539059790041 [id=\"4982424794959710867.args[0]\"]\n\t-9031501539059790041 [label=100 id=-9031501539059790041]\n\t5447535458505340468 -> 4982424794959710867 [id=\"5447535458505340468.args[1]\"]\n\t5593707570515573442 -> -9031501538954785116 [id=\"5593707570515573442.args[1]\"]\n\t-9031501538954785116 [label=5 id=-9031501538954785116]\n}",
         "label": null,
         "rule": "metadsl_core.numpy.NDArrayCompat.__getitem__"
        },
        {
         "graph": "digraph {\n\tnode [shape=plain]\n\tedge [arrowsize=0.5 penwidth=0.5]\n\t680250064134282809 [label=\"NDArrayCompat.to_ndarray\" id=680250064134282809]\n\t680250064134282809 -> 5593707570515573442 [id=\"680250064134282809.args[0]\"]\n\t5593707570515573442 [label=\"NDArrayCompat.__getitem__\" id=5593707570515573442]\n\t5593707570515573442 -> 5447535458505340468 [id=\"5593707570515573442.args[0]\"]\n\t5447535458505340468 [label=\"NDArrayCompat.__add__\" id=5447535458505340468]\n\t5447535458505340468 -> 4982424794959710867 [id=\"5447535458505340468.args[0]\"]\n\t4982424794959710867 [label=arange id=4982424794959710867]\n\t4982424794959710867 -> -9031501539059790041 [id=\"4982424794959710867.args[0]\"]\n\t-9031501539059790041 [label=100 id=-9031501539059790041]\n\t5447535458505340468 -> 4982424794959710867 [id=\"5447535458505340468.args[1]\"]\n\t5593707570515573442 -> -9031501538954785116 [id=\"5593707570515573442.args[1]\"]\n\t-9031501538954785116 [label=5 id=-9031501538954785116]\n}",
         "label": null,
         "rule": "metadsl_core.numpy.NDArrayCompat.__getitem__"
        },
        {
         "graph": "digraph {\n\tnode [shape=plain]\n\tedge [arrowsize=0.5 penwidth=0.5]\n\t680250064134282809 [label=\"NDArrayCompat.to_ndarray\" id=680250064134282809]\n\t680250064134282809 -> 5593707570515573442 [id=\"680250064134282809.args[0]\"]\n\t5593707570515573442 [label=\"NDArrayCompat.__getitem__\" id=5593707570515573442]\n\t5593707570515573442 -> 5447535458505340468 [id=\"5593707570515573442.args[0]\"]\n\t5447535458505340468 [label=\"NDArrayCompat.__add__\" id=5447535458505340468]\n\t5447535458505340468 -> 4982424794959710867 [id=\"5447535458505340468.args[0]\"]\n\t4982424794959710867 [label=arange id=4982424794959710867]\n\t4982424794959710867 -> -9031501539059790041 [id=\"4982424794959710867.args[0]\"]\n\t-9031501539059790041 [label=100 id=-9031501539059790041]\n\t5447535458505340468 -> 4982424794959710867 [id=\"5447535458505340468.args[1]\"]\n\t5593707570515573442 -> -9031501538954785116 [id=\"5593707570515573442.args[1]\"]\n\t-9031501538954785116 [label=5 id=-9031501538954785116]\n}",
         "label": null,
         "rule": "metadsl_core.numpy.NDArrayCompat.__getitem__"
        },
        {
         "graph": "digraph {\n\tnode [shape=plain]\n\tedge [arrowsize=0.5 penwidth=0.5]\n\t680250064134282809 [label=\"NDArrayCompat.to_ndarray\" id=680250064134282809]\n\t680250064134282809 -> 5593707570515573442 [id=\"680250064134282809.args[0]\"]\n\t5593707570515573442 [label=\"NDArrayCompat.__getitem__\" id=5593707570515573442]\n\t5593707570515573442 -> 5447535458505340468 [id=\"5593707570515573442.args[0]\"]\n\t5447535458505340468 [label=\"NDArrayCompat.__add__\" id=5447535458505340468]\n\t5447535458505340468 -> 4982424794959710867 [id=\"5447535458505340468.args[0]\"]\n\t4982424794959710867 [label=arange id=4982424794959710867]\n\t4982424794959710867 -> -9031501539059790041 [id=\"4982424794959710867.args[0]\"]\n\t-9031501539059790041 [label=100 id=-9031501539059790041]\n\t5447535458505340468 -> 4982424794959710867 [id=\"5447535458505340468.args[1]\"]\n\t5593707570515573442 -> -9031501538954785116 [id=\"5593707570515573442.args[1]\"]\n\t-9031501538954785116 [label=5 id=-9031501538954785116]\n}",
         "label": null,
         "rule": "metadsl_core.numpy.NDArrayCompat.__getitem__"
        },
        {
         "graph": "digraph {\n\tnode [shape=plain]\n\tedge [arrowsize=0.5 penwidth=0.5]\n\t680250064134282809 [label=\"NDArrayCompat.to_ndarray\" id=680250064134282809]\n\t680250064134282809 -> 5593707570515573442 [id=\"680250064134282809.args[0]\"]\n\t5593707570515573442 [label=\"NDArrayCompat.__getitem__\" id=5593707570515573442]\n\t5593707570515573442 -> 5447535458505340468 [id=\"5593707570515573442.args[0]\"]\n\t5447535458505340468 [label=\"NDArrayCompat.__add__\" id=5447535458505340468]\n\t5447535458505340468 -> 4982424794959710867 [id=\"5447535458505340468.args[0]\"]\n\t4982424794959710867 [label=arange id=4982424794959710867]\n\t4982424794959710867 -> -9031501539059790041 [id=\"4982424794959710867.args[0]\"]\n\t-9031501539059790041 [label=100 id=-9031501539059790041]\n\t5447535458505340468 -> 4982424794959710867 [id=\"5447535458505340468.args[1]\"]\n\t5593707570515573442 -> -9031501538954785116 [id=\"5593707570515573442.args[1]\"]\n\t-9031501538954785116 [label=5 id=-9031501538954785116]\n}",
         "label": null,
         "rule": "metadsl_core.numpy.NDArrayCompat.__getitem__"
        },
        {
         "graph": "digraph {\n\tnode [shape=plain]\n\tedge [arrowsize=0.5 penwidth=0.5]\n\t680250064134282809 [label=\"NDArrayCompat.to_ndarray\" id=680250064134282809]\n\t680250064134282809 -> 5593707570515573442 [id=\"680250064134282809.args[0]\"]\n\t5593707570515573442 [label=\"NDArrayCompat.__getitem__\" id=5593707570515573442]\n\t5593707570515573442 -> 5447535458505340468 [id=\"5593707570515573442.args[0]\"]\n\t5447535458505340468 [label=\"NDArrayCompat.__add__\" id=5447535458505340468]\n\t5447535458505340468 -> 4982424794959710867 [id=\"5447535458505340468.args[0]\"]\n\t4982424794959710867 [label=arange id=4982424794959710867]\n\t4982424794959710867 -> -9031501539059790041 [id=\"4982424794959710867.args[0]\"]\n\t-9031501539059790041 [label=100 id=-9031501539059790041]\n\t5447535458505340468 -> 4982424794959710867 [id=\"5447535458505340468.args[1]\"]\n\t5593707570515573442 -> -9031501538954785116 [id=\"5593707570515573442.args[1]\"]\n\t-9031501538954785116 [label=5 id=-9031501538954785116]\n}",
         "label": null,
         "rule": "metadsl_core.numpy.NDArrayCompat.__getitem__"
        },
        {
         "graph": "digraph {\n\tnode [shape=plain]\n\tedge [arrowsize=0.5 penwidth=0.5]\n\t680250064134282809 [label=\"NDArrayCompat.to_ndarray\" id=680250064134282809]\n\t680250064134282809 -> 5593707570515573442 [id=\"680250064134282809.args[0]\"]\n\t5593707570515573442 [label=\"NDArrayCompat.__getitem__\" id=5593707570515573442]\n\t5593707570515573442 -> 5447535458505340468 [id=\"5593707570515573442.args[0]\"]\n\t5447535458505340468 [label=\"NDArrayCompat.__add__\" id=5447535458505340468]\n\t5447535458505340468 -> 4982424794959710867 [id=\"5447535458505340468.args[0]\"]\n\t4982424794959710867 [label=arange id=4982424794959710867]\n\t4982424794959710867 -> -9031501539059790041 [id=\"4982424794959710867.args[0]\"]\n\t-9031501539059790041 [label=100 id=-9031501539059790041]\n\t5447535458505340468 -> 4982424794959710867 [id=\"5447535458505340468.args[1]\"]\n\t5593707570515573442 -> -9031501538954785116 [id=\"5593707570515573442.args[1]\"]\n\t-9031501538954785116 [label=5 id=-9031501538954785116]\n}",
         "label": null,
         "rule": "metadsl_core.numpy.NDArrayCompat.__getitem__"
        },
        {
         "graph": "digraph {\n\tnode [shape=plain]\n\tedge [arrowsize=0.5 penwidth=0.5]\n\t680250064134282809 [label=\"NDArrayCompat.to_ndarray\" id=680250064134282809]\n\t680250064134282809 -> 5593707570515573442 [id=\"680250064134282809.args[0]\"]\n\t5593707570515573442 [label=\"NDArrayCompat.__getitem__\" id=5593707570515573442]\n\t5593707570515573442 -> 5447535458505340468 [id=\"5593707570515573442.args[0]\"]\n\t5447535458505340468 [label=\"NDArrayCompat.__add__\" id=5447535458505340468]\n\t5447535458505340468 -> 4982424794959710867 [id=\"5447535458505340468.args[0]\"]\n\t4982424794959710867 [label=arange id=4982424794959710867]\n\t4982424794959710867 -> -9031501539059790041 [id=\"4982424794959710867.args[0]\"]\n\t-9031501539059790041 [label=100 id=-9031501539059790041]\n\t5447535458505340468 -> 4982424794959710867 [id=\"5447535458505340468.args[1]\"]\n\t5593707570515573442 -> -9031501538954785116 [id=\"5593707570515573442.args[1]\"]\n\t-9031501538954785116 [label=5 id=-9031501538954785116]\n}",
         "label": null,
         "rule": "metadsl_core.numpy.NDArrayCompat.__getitem__"
        },
        {
         "graph": "digraph {\n\tnode [shape=plain]\n\tedge [arrowsize=0.5 penwidth=0.5]\n\t680250064134282809 [label=\"NDArrayCompat.to_ndarray\" id=680250064134282809]\n\t680250064134282809 -> 5593707570515573442 [id=\"680250064134282809.args[0]\"]\n\t5593707570515573442 [label=\"NDArrayCompat.__getitem__\" id=5593707570515573442]\n\t5593707570515573442 -> 5447535458505340468 [id=\"5593707570515573442.args[0]\"]\n\t5447535458505340468 [label=\"NDArrayCompat.__add__\" id=5447535458505340468]\n\t5447535458505340468 -> 4982424794959710867 [id=\"5447535458505340468.args[0]\"]\n\t4982424794959710867 [label=arange id=4982424794959710867]\n\t4982424794959710867 -> -9031501539059790041 [id=\"4982424794959710867.args[0]\"]\n\t-9031501539059790041 [label=100 id=-9031501539059790041]\n\t5447535458505340468 -> 4982424794959710867 [id=\"5447535458505340468.args[1]\"]\n\t5593707570515573442 -> -9031501538954785116 [id=\"5593707570515573442.args[1]\"]\n\t-9031501538954785116 [label=5 id=-9031501538954785116]\n}",
         "label": null,
         "rule": "metadsl_core.numpy.NDArrayCompat.__getitem__"
        },
        {
         "graph": "digraph {\n\tnode [shape=plain]\n\tedge [arrowsize=0.5 penwidth=0.5]\n\t680250064134282809 [label=\"NDArrayCompat.to_ndarray\" id=680250064134282809]\n\t680250064134282809 -> 5593707570515573442 [id=\"680250064134282809.args[0]\"]\n\t5593707570515573442 [label=\"NDArrayCompat.__getitem__\" id=5593707570515573442]\n\t5593707570515573442 -> 5447535458505340468 [id=\"5593707570515573442.args[0]\"]\n\t5447535458505340468 [label=\"NDArrayCompat.__add__\" id=5447535458505340468]\n\t5447535458505340468 -> 4982424794959710867 [id=\"5447535458505340468.args[0]\"]\n\t4982424794959710867 [label=arange id=4982424794959710867]\n\t4982424794959710867 -> -9031501539059790041 [id=\"4982424794959710867.args[0]\"]\n\t-9031501539059790041 [label=100 id=-9031501539059790041]\n\t5447535458505340468 -> 4982424794959710867 [id=\"5447535458505340468.args[1]\"]\n\t5593707570515573442 -> -9031501538954785116 [id=\"5593707570515573442.args[1]\"]\n\t-9031501538954785116 [label=5 id=-9031501538954785116]\n}",
         "label": null,
         "rule": "metadsl_core.numpy.NDArrayCompat.__getitem__"
        },
        {
         "graph": "digraph {\n\tnode [shape=plain]\n\tedge [arrowsize=0.5 penwidth=0.5]\n\t680250064134282809 [label=\"NDArrayCompat.to_ndarray\" id=680250064134282809]\n\t680250064134282809 -> 5593707570515573442 [id=\"680250064134282809.args[0]\"]\n\t5593707570515573442 [label=\"NDArrayCompat.__getitem__\" id=5593707570515573442]\n\t5593707570515573442 -> 5447535458505340468 [id=\"5593707570515573442.args[0]\"]\n\t5447535458505340468 [label=\"NDArrayCompat.__add__\" id=5447535458505340468]\n\t5447535458505340468 -> 4982424794959710867 [id=\"5447535458505340468.args[0]\"]\n\t4982424794959710867 [label=arange id=4982424794959710867]\n\t4982424794959710867 -> -9031501539059790041 [id=\"4982424794959710867.args[0]\"]\n\t-9031501539059790041 [label=100 id=-9031501539059790041]\n\t5447535458505340468 -> 4982424794959710867 [id=\"5447535458505340468.args[1]\"]\n\t5593707570515573442 -> -9031501538954785116 [id=\"5593707570515573442.args[1]\"]\n\t-9031501538954785116 [label=5 id=-9031501538954785116]\n}",
         "label": null,
         "rule": "metadsl_core.numpy.NDArrayCompat.__getitem__"
        },
        {
         "graph": "digraph {\n\tnode [shape=plain]\n\tedge [arrowsize=0.5 penwidth=0.5]\n\t680250064134282809 [label=\"NDArrayCompat.to_ndarray\" id=680250064134282809]\n\t680250064134282809 -> 5593707570515573442 [id=\"680250064134282809.args[0]\"]\n\t5593707570515573442 [label=\"NDArrayCompat.__getitem__\" id=5593707570515573442]\n\t5593707570515573442 -> 5447535458505340468 [id=\"5593707570515573442.args[0]\"]\n\t5447535458505340468 [label=\"NDArrayCompat.__add__\" id=5447535458505340468]\n\t5447535458505340468 -> 4982424794959710867 [id=\"5447535458505340468.args[0]\"]\n\t4982424794959710867 [label=arange id=4982424794959710867]\n\t4982424794959710867 -> -9031501539059790041 [id=\"4982424794959710867.args[0]\"]\n\t-9031501539059790041 [label=100 id=-9031501539059790041]\n\t5447535458505340468 -> 4982424794959710867 [id=\"5447535458505340468.args[1]\"]\n\t5593707570515573442 -> -9031501538954785116 [id=\"5593707570515573442.args[1]\"]\n\t-9031501538954785116 [label=5 id=-9031501538954785116]\n}",
         "label": null,
         "rule": "metadsl_core.numpy.NDArrayCompat.__getitem__"
        },
        {
         "graph": "digraph {\n\tnode [shape=plain]\n\tedge [arrowsize=0.5 penwidth=0.5]\n\t680250064134282809 [label=\"NDArrayCompat.to_ndarray\" id=680250064134282809]\n\t680250064134282809 -> 5593707570515573442 [id=\"680250064134282809.args[0]\"]\n\t5593707570515573442 [label=\"NDArrayCompat.__getitem__\" id=5593707570515573442]\n\t5593707570515573442 -> 5447535458505340468 [id=\"5593707570515573442.args[0]\"]\n\t5447535458505340468 [label=\"NDArrayCompat.__add__\" id=5447535458505340468]\n\t5447535458505340468 -> 4982424794959710867 [id=\"5447535458505340468.args[0]\"]\n\t4982424794959710867 [label=arange id=4982424794959710867]\n\t4982424794959710867 -> -9031501539059790041 [id=\"4982424794959710867.args[0]\"]\n\t-9031501539059790041 [label=100 id=-9031501539059790041]\n\t5447535458505340468 -> 4982424794959710867 [id=\"5447535458505340468.args[1]\"]\n\t5593707570515573442 -> -9031501538954785116 [id=\"5593707570515573442.args[1]\"]\n\t-9031501538954785116 [label=5 id=-9031501538954785116]\n}",
         "label": null,
         "rule": "metadsl_core.numpy.NDArrayCompat.__getitem__"
        },
        {
         "graph": "digraph {\n\tnode [shape=plain]\n\tedge [arrowsize=0.5 penwidth=0.5]\n\t680250064134282809 [label=\"NDArrayCompat.to_ndarray\" id=680250064134282809]\n\t680250064134282809 -> 5593707570515573442 [id=\"680250064134282809.args[0]\"]\n\t5593707570515573442 [label=\"NDArrayCompat.__getitem__\" id=5593707570515573442]\n\t5593707570515573442 -> 5447535458505340468 [id=\"5593707570515573442.args[0]\"]\n\t5447535458505340468 [label=\"NDArrayCompat.__add__\" id=5447535458505340468]\n\t5447535458505340468 -> 4982424794959710867 [id=\"5447535458505340468.args[0]\"]\n\t4982424794959710867 [label=arange id=4982424794959710867]\n\t4982424794959710867 -> -9031501539059790041 [id=\"4982424794959710867.args[0]\"]\n\t-9031501539059790041 [label=100 id=-9031501539059790041]\n\t5447535458505340468 -> 4982424794959710867 [id=\"5447535458505340468.args[1]\"]\n\t5593707570515573442 -> -9031501538954785116 [id=\"5593707570515573442.args[1]\"]\n\t-9031501538954785116 [label=5 id=-9031501538954785116]\n}",
         "label": null,
         "rule": "metadsl_core.numpy.NDArrayCompat.__getitem__"
        },
        {
         "graph": "digraph {\n\tnode [shape=plain]\n\tedge [arrowsize=0.5 penwidth=0.5]\n\t680250064134282809 [label=\"NDArrayCompat.to_ndarray\" id=680250064134282809]\n\t680250064134282809 -> 5593707570515573442 [id=\"680250064134282809.args[0]\"]\n\t5593707570515573442 [label=\"NDArrayCompat.__getitem__\" id=5593707570515573442]\n\t5593707570515573442 -> 5447535458505340468 [id=\"5593707570515573442.args[0]\"]\n\t5447535458505340468 [label=\"NDArrayCompat.__add__\" id=5447535458505340468]\n\t5447535458505340468 -> 4982424794959710867 [id=\"5447535458505340468.args[0]\"]\n\t4982424794959710867 [label=arange id=4982424794959710867]\n\t4982424794959710867 -> -9031501539059790041 [id=\"4982424794959710867.args[0]\"]\n\t-9031501539059790041 [label=100 id=-9031501539059790041]\n\t5447535458505340468 -> 4982424794959710867 [id=\"5447535458505340468.args[1]\"]\n\t5593707570515573442 -> -9031501538954785116 [id=\"5593707570515573442.args[1]\"]\n\t-9031501538954785116 [label=5 id=-9031501538954785116]\n}",
         "label": null,
         "rule": "metadsl_core.numpy.NDArrayCompat.__getitem__"
        },
        {
         "graph": "digraph {\n\tnode [shape=plain]\n\tedge [arrowsize=0.5 penwidth=0.5]\n\t680250064134282809 [label=\"NDArrayCompat.to_ndarray\" id=680250064134282809]\n\t680250064134282809 -> 5593707570515573442 [id=\"680250064134282809.args[0]\"]\n\t5593707570515573442 [label=\"NDArrayCompat.__getitem__\" id=5593707570515573442]\n\t5593707570515573442 -> 5447535458505340468 [id=\"5593707570515573442.args[0]\"]\n\t5447535458505340468 [label=\"NDArrayCompat.__add__\" id=5447535458505340468]\n\t5447535458505340468 -> 4982424794959710867 [id=\"5447535458505340468.args[0]\"]\n\t4982424794959710867 [label=arange id=4982424794959710867]\n\t4982424794959710867 -> -9031501539059790041 [id=\"4982424794959710867.args[0]\"]\n\t-9031501539059790041 [label=100 id=-9031501539059790041]\n\t5447535458505340468 -> 4982424794959710867 [id=\"5447535458505340468.args[1]\"]\n\t5593707570515573442 -> -9031501538954785116 [id=\"5593707570515573442.args[1]\"]\n\t-9031501538954785116 [label=5 id=-9031501538954785116]\n}",
         "label": null,
         "rule": "metadsl_core.numpy.NDArrayCompat.__getitem__"
        },
        {
         "graph": "digraph {\n\tnode [shape=plain]\n\tedge [arrowsize=0.5 penwidth=0.5]\n\t680250064134282809 [label=\"NDArrayCompat.to_ndarray\" id=680250064134282809]\n\t680250064134282809 -> 5593707570515573442 [id=\"680250064134282809.args[0]\"]\n\t5593707570515573442 [label=\"NDArrayCompat.__getitem__\" id=5593707570515573442]\n\t5593707570515573442 -> 5447535458505340468 [id=\"5593707570515573442.args[0]\"]\n\t5447535458505340468 [label=\"NDArrayCompat.__add__\" id=5447535458505340468]\n\t5447535458505340468 -> 4982424794959710867 [id=\"5447535458505340468.args[0]\"]\n\t4982424794959710867 [label=arange id=4982424794959710867]\n\t4982424794959710867 -> -9031501539059790041 [id=\"4982424794959710867.args[0]\"]\n\t-9031501539059790041 [label=100 id=-9031501539059790041]\n\t5447535458505340468 -> 4982424794959710867 [id=\"5447535458505340468.args[1]\"]\n\t5593707570515573442 -> -9031501538954785116 [id=\"5593707570515573442.args[1]\"]\n\t-9031501538954785116 [label=5 id=-9031501538954785116]\n}",
         "label": null,
         "rule": "metadsl_core.numpy.NDArrayCompat.__getitem__"
        },
        {
         "graph": "digraph {\n\tnode [shape=plain]\n\tedge [arrowsize=0.5 penwidth=0.5]\n\t680250064134282809 [label=\"NDArrayCompat.to_ndarray\" id=680250064134282809]\n\t680250064134282809 -> 5593707570515573442 [id=\"680250064134282809.args[0]\"]\n\t5593707570515573442 [label=\"NDArrayCompat.__getitem__\" id=5593707570515573442]\n\t5593707570515573442 -> 5447535458505340468 [id=\"5593707570515573442.args[0]\"]\n\t5447535458505340468 [label=\"NDArrayCompat.__add__\" id=5447535458505340468]\n\t5447535458505340468 -> 4982424794959710867 [id=\"5447535458505340468.args[0]\"]\n\t4982424794959710867 [label=arange id=4982424794959710867]\n\t4982424794959710867 -> -9031501539059790041 [id=\"4982424794959710867.args[0]\"]\n\t-9031501539059790041 [label=100 id=-9031501539059790041]\n\t5447535458505340468 -> 4982424794959710867 [id=\"5447535458505340468.args[1]\"]\n\t5593707570515573442 -> -9031501538954785116 [id=\"5593707570515573442.args[1]\"]\n\t-9031501538954785116 [label=5 id=-9031501538954785116]\n}",
         "label": null,
         "rule": "metadsl_core.numpy.NDArrayCompat.__getitem__"
        },
        {
         "graph": "digraph {\n\tnode [shape=plain]\n\tedge [arrowsize=0.5 penwidth=0.5]\n\t680250064134282809 [label=\"NDArrayCompat.to_ndarray\" id=680250064134282809]\n\t680250064134282809 -> 5593707570515573442 [id=\"680250064134282809.args[0]\"]\n\t5593707570515573442 [label=\"NDArrayCompat.__getitem__\" id=5593707570515573442]\n\t5593707570515573442 -> 5447535458505340468 [id=\"5593707570515573442.args[0]\"]\n\t5447535458505340468 [label=\"NDArrayCompat.__add__\" id=5447535458505340468]\n\t5447535458505340468 -> 4982424794959710867 [id=\"5447535458505340468.args[0]\"]\n\t4982424794959710867 [label=arange id=4982424794959710867]\n\t4982424794959710867 -> -9031501539059790041 [id=\"4982424794959710867.args[0]\"]\n\t-9031501539059790041 [label=100 id=-9031501539059790041]\n\t5447535458505340468 -> 4982424794959710867 [id=\"5447535458505340468.args[1]\"]\n\t5593707570515573442 -> -9031501538954785116 [id=\"5593707570515573442.args[1]\"]\n\t-9031501538954785116 [label=5 id=-9031501538954785116]\n}",
         "label": null,
         "rule": "metadsl_core.numpy.NDArrayCompat.__getitem__"
        },
        {
         "graph": "digraph {\n\tnode [shape=plain]\n\tedge [arrowsize=0.5 penwidth=0.5]\n\t680250064134282809 [label=\"NDArrayCompat.to_ndarray\" id=680250064134282809]\n\t680250064134282809 -> 5593707570515573442 [id=\"680250064134282809.args[0]\"]\n\t5593707570515573442 [label=\"NDArrayCompat.__getitem__\" id=5593707570515573442]\n\t5593707570515573442 -> 5447535458505340468 [id=\"5593707570515573442.args[0]\"]\n\t5447535458505340468 [label=\"NDArrayCompat.__add__\" id=5447535458505340468]\n\t5447535458505340468 -> 4982424794959710867 [id=\"5447535458505340468.args[0]\"]\n\t4982424794959710867 [label=arange id=4982424794959710867]\n\t4982424794959710867 -> -9031501539059790041 [id=\"4982424794959710867.args[0]\"]\n\t-9031501539059790041 [label=100 id=-9031501539059790041]\n\t5447535458505340468 -> 4982424794959710867 [id=\"5447535458505340468.args[1]\"]\n\t5593707570515573442 -> -9031501538954785116 [id=\"5593707570515573442.args[1]\"]\n\t-9031501538954785116 [label=5 id=-9031501538954785116]\n}",
         "label": null,
         "rule": "metadsl_core.numpy.NDArrayCompat.__getitem__"
        },
        {
         "graph": "digraph {\n\tnode [shape=plain]\n\tedge [arrowsize=0.5 penwidth=0.5]\n\t680250064134282809 [label=\"NDArrayCompat.to_ndarray\" id=680250064134282809]\n\t680250064134282809 -> 5593707570515573442 [id=\"680250064134282809.args[0]\"]\n\t5593707570515573442 [label=\"NDArrayCompat.__getitem__\" id=5593707570515573442]\n\t5593707570515573442 -> 5447535458505340468 [id=\"5593707570515573442.args[0]\"]\n\t5447535458505340468 [label=\"NDArrayCompat.__add__\" id=5447535458505340468]\n\t5447535458505340468 -> 4982424794959710867 [id=\"5447535458505340468.args[0]\"]\n\t4982424794959710867 [label=arange id=4982424794959710867]\n\t4982424794959710867 -> -9031501539059790041 [id=\"4982424794959710867.args[0]\"]\n\t-9031501539059790041 [label=100 id=-9031501539059790041]\n\t5447535458505340468 -> 4982424794959710867 [id=\"5447535458505340468.args[1]\"]\n\t5593707570515573442 -> -9031501538954785116 [id=\"5593707570515573442.args[1]\"]\n\t-9031501538954785116 [label=5 id=-9031501538954785116]\n}",
         "label": null,
         "rule": "metadsl_core.numpy.NDArrayCompat.__getitem__"
        },
        {
         "graph": "digraph {\n\tnode [shape=plain]\n\tedge [arrowsize=0.5 penwidth=0.5]\n\t680250064134282809 [label=\"NDArrayCompat.to_ndarray\" id=680250064134282809]\n\t680250064134282809 -> 5593707570515573442 [id=\"680250064134282809.args[0]\"]\n\t5593707570515573442 [label=\"NDArrayCompat.__getitem__\" id=5593707570515573442]\n\t5593707570515573442 -> 5447535458505340468 [id=\"5593707570515573442.args[0]\"]\n\t5447535458505340468 [label=\"NDArrayCompat.__add__\" id=5447535458505340468]\n\t5447535458505340468 -> 4982424794959710867 [id=\"5447535458505340468.args[0]\"]\n\t4982424794959710867 [label=arange id=4982424794959710867]\n\t4982424794959710867 -> -9031501539059790041 [id=\"4982424794959710867.args[0]\"]\n\t-9031501539059790041 [label=100 id=-9031501539059790041]\n\t5447535458505340468 -> 4982424794959710867 [id=\"5447535458505340468.args[1]\"]\n\t5593707570515573442 -> -9031501538954785116 [id=\"5593707570515573442.args[1]\"]\n\t-9031501538954785116 [label=5 id=-9031501538954785116]\n}",
         "label": null,
         "rule": "metadsl_core.numpy.NDArrayCompat.__getitem__"
        },
        {
         "graph": "digraph {\n\tnode [shape=plain]\n\tedge [arrowsize=0.5 penwidth=0.5]\n\t680250064134282809 [label=\"NDArrayCompat.to_ndarray\" id=680250064134282809]\n\t680250064134282809 -> 5593707570515573442 [id=\"680250064134282809.args[0]\"]\n\t5593707570515573442 [label=\"NDArrayCompat.__getitem__\" id=5593707570515573442]\n\t5593707570515573442 -> 5447535458505340468 [id=\"5593707570515573442.args[0]\"]\n\t5447535458505340468 [label=\"NDArrayCompat.__add__\" id=5447535458505340468]\n\t5447535458505340468 -> 4982424794959710867 [id=\"5447535458505340468.args[0]\"]\n\t4982424794959710867 [label=arange id=4982424794959710867]\n\t4982424794959710867 -> -9031501539059790041 [id=\"4982424794959710867.args[0]\"]\n\t-9031501539059790041 [label=100 id=-9031501539059790041]\n\t5447535458505340468 -> 4982424794959710867 [id=\"5447535458505340468.args[1]\"]\n\t5593707570515573442 -> -9031501538954785116 [id=\"5593707570515573442.args[1]\"]\n\t-9031501538954785116 [label=5 id=-9031501538954785116]\n}",
         "label": null,
         "rule": "metadsl_core.numpy.NDArrayCompat.__getitem__"
        },
        {
         "graph": "digraph {\n\tnode [shape=plain]\n\tedge [arrowsize=0.5 penwidth=0.5]\n\t680250064134282809 [label=\"NDArrayCompat.to_ndarray\" id=680250064134282809]\n\t680250064134282809 -> 5593707570515573442 [id=\"680250064134282809.args[0]\"]\n\t5593707570515573442 [label=\"NDArrayCompat.__getitem__\" id=5593707570515573442]\n\t5593707570515573442 -> 5447535458505340468 [id=\"5593707570515573442.args[0]\"]\n\t5447535458505340468 [label=\"NDArrayCompat.__add__\" id=5447535458505340468]\n\t5447535458505340468 -> 4982424794959710867 [id=\"5447535458505340468.args[0]\"]\n\t4982424794959710867 [label=arange id=4982424794959710867]\n\t4982424794959710867 -> -9031501539059790041 [id=\"4982424794959710867.args[0]\"]\n\t-9031501539059790041 [label=100 id=-9031501539059790041]\n\t5447535458505340468 -> 4982424794959710867 [id=\"5447535458505340468.args[1]\"]\n\t5593707570515573442 -> -9031501538954785116 [id=\"5593707570515573442.args[1]\"]\n\t-9031501538954785116 [label=5 id=-9031501538954785116]\n}",
         "label": null,
         "rule": "metadsl_core.numpy.NDArrayCompat.__getitem__"
        },
        {
         "graph": "digraph {\n\tnode [shape=plain]\n\tedge [arrowsize=0.5 penwidth=0.5]\n\t680250064134282809 [label=\"NDArrayCompat.to_ndarray\" id=680250064134282809]\n\t680250064134282809 -> 5593707570515573442 [id=\"680250064134282809.args[0]\"]\n\t5593707570515573442 [label=\"NDArrayCompat.__getitem__\" id=5593707570515573442]\n\t5593707570515573442 -> 5447535458505340468 [id=\"5593707570515573442.args[0]\"]\n\t5447535458505340468 [label=\"NDArrayCompat.__add__\" id=5447535458505340468]\n\t5447535458505340468 -> 4982424794959710867 [id=\"5447535458505340468.args[0]\"]\n\t4982424794959710867 [label=arange id=4982424794959710867]\n\t4982424794959710867 -> -9031501539059790041 [id=\"4982424794959710867.args[0]\"]\n\t-9031501539059790041 [label=100 id=-9031501539059790041]\n\t5447535458505340468 -> 4982424794959710867 [id=\"5447535458505340468.args[1]\"]\n\t5593707570515573442 -> -9031501538954785116 [id=\"5593707570515573442.args[1]\"]\n\t-9031501538954785116 [label=5 id=-9031501538954785116]\n}",
         "label": null,
         "rule": "metadsl_core.numpy.NDArrayCompat.__getitem__"
        },
        {
         "graph": "digraph {\n\tnode [shape=plain]\n\tedge [arrowsize=0.5 penwidth=0.5]\n\t680250064134282809 [label=\"NDArrayCompat.to_ndarray\" id=680250064134282809]\n\t680250064134282809 -> 5593707570515573442 [id=\"680250064134282809.args[0]\"]\n\t5593707570515573442 [label=\"NDArrayCompat.__getitem__\" id=5593707570515573442]\n\t5593707570515573442 -> 5447535458505340468 [id=\"5593707570515573442.args[0]\"]\n\t5447535458505340468 [label=\"NDArrayCompat.__add__\" id=5447535458505340468]\n\t5447535458505340468 -> 4982424794959710867 [id=\"5447535458505340468.args[0]\"]\n\t4982424794959710867 [label=arange id=4982424794959710867]\n\t4982424794959710867 -> -9031501539059790041 [id=\"4982424794959710867.args[0]\"]\n\t-9031501539059790041 [label=100 id=-9031501539059790041]\n\t5447535458505340468 -> 4982424794959710867 [id=\"5447535458505340468.args[1]\"]\n\t5593707570515573442 -> -9031501538954785116 [id=\"5593707570515573442.args[1]\"]\n\t-9031501538954785116 [label=5 id=-9031501538954785116]\n}",
         "label": null,
         "rule": "metadsl_core.numpy.NDArrayCompat.__getitem__"
        },
        {
         "graph": "digraph {\n\tnode [shape=plain]\n\tedge [arrowsize=0.5 penwidth=0.5]\n\t680250064134282809 [label=\"NDArrayCompat.to_ndarray\" id=680250064134282809]\n\t680250064134282809 -> 5593707570515573442 [id=\"680250064134282809.args[0]\"]\n\t5593707570515573442 [label=\"NDArrayCompat.__getitem__\" id=5593707570515573442]\n\t5593707570515573442 -> 5447535458505340468 [id=\"5593707570515573442.args[0]\"]\n\t5447535458505340468 [label=\"NDArrayCompat.__add__\" id=5447535458505340468]\n\t5447535458505340468 -> 4982424794959710867 [id=\"5447535458505340468.args[0]\"]\n\t4982424794959710867 [label=arange id=4982424794959710867]\n\t4982424794959710867 -> -9031501539059790041 [id=\"4982424794959710867.args[0]\"]\n\t-9031501539059790041 [label=100 id=-9031501539059790041]\n\t5447535458505340468 -> 4982424794959710867 [id=\"5447535458505340468.args[1]\"]\n\t5593707570515573442 -> -9031501538954785116 [id=\"5593707570515573442.args[1]\"]\n\t-9031501538954785116 [label=5 id=-9031501538954785116]\n}",
         "label": null,
         "rule": "metadsl_core.numpy.NDArrayCompat.__getitem__"
        },
        {
         "graph": "digraph {\n\tnode [shape=plain]\n\tedge [arrowsize=0.5 penwidth=0.5]\n\t680250064134282809 [label=\"NDArrayCompat.to_ndarray\" id=680250064134282809]\n\t680250064134282809 -> 5593707570515573442 [id=\"680250064134282809.args[0]\"]\n\t5593707570515573442 [label=\"NDArrayCompat.__getitem__\" id=5593707570515573442]\n\t5593707570515573442 -> 5447535458505340468 [id=\"5593707570515573442.args[0]\"]\n\t5447535458505340468 [label=\"NDArrayCompat.__add__\" id=5447535458505340468]\n\t5447535458505340468 -> 4982424794959710867 [id=\"5447535458505340468.args[0]\"]\n\t4982424794959710867 [label=arange id=4982424794959710867]\n\t4982424794959710867 -> -9031501539059790041 [id=\"4982424794959710867.args[0]\"]\n\t-9031501539059790041 [label=100 id=-9031501539059790041]\n\t5447535458505340468 -> 4982424794959710867 [id=\"5447535458505340468.args[1]\"]\n\t5593707570515573442 -> -9031501538954785116 [id=\"5593707570515573442.args[1]\"]\n\t-9031501538954785116 [label=5 id=-9031501538954785116]\n}",
         "label": null,
         "rule": "metadsl_core.numpy.NDArrayCompat.__getitem__"
        },
        {
         "graph": "digraph {\n\tnode [shape=plain]\n\tedge [arrowsize=0.5 penwidth=0.5]\n\t680250064134282809 [label=\"NDArrayCompat.to_ndarray\" id=680250064134282809]\n\t680250064134282809 -> 5593707570515573442 [id=\"680250064134282809.args[0]\"]\n\t5593707570515573442 [label=\"NDArrayCompat.__getitem__\" id=5593707570515573442]\n\t5593707570515573442 -> 5447535458505340468 [id=\"5593707570515573442.args[0]\"]\n\t5447535458505340468 [label=\"NDArrayCompat.__add__\" id=5447535458505340468]\n\t5447535458505340468 -> 4982424794959710867 [id=\"5447535458505340468.args[0]\"]\n\t4982424794959710867 [label=arange id=4982424794959710867]\n\t4982424794959710867 -> -9031501539059790041 [id=\"4982424794959710867.args[0]\"]\n\t-9031501539059790041 [label=100 id=-9031501539059790041]\n\t5447535458505340468 -> 4982424794959710867 [id=\"5447535458505340468.args[1]\"]\n\t5593707570515573442 -> -9031501538954785116 [id=\"5593707570515573442.args[1]\"]\n\t-9031501538954785116 [label=5 id=-9031501538954785116]\n}",
         "label": null,
         "rule": "metadsl_core.numpy.NDArrayCompat.__getitem__"
        },
        {
         "graph": "digraph {\n\tnode [shape=plain]\n\tedge [arrowsize=0.5 penwidth=0.5]\n\t680250064134282809 [label=\"NDArrayCompat.to_ndarray\" id=680250064134282809]\n\t680250064134282809 -> 5593707570515573442 [id=\"680250064134282809.args[0]\"]\n\t5593707570515573442 [label=\"NDArrayCompat.__getitem__\" id=5593707570515573442]\n\t5593707570515573442 -> 5447535458505340468 [id=\"5593707570515573442.args[0]\"]\n\t5447535458505340468 [label=\"NDArrayCompat.__add__\" id=5447535458505340468]\n\t5447535458505340468 -> 4982424794959710867 [id=\"5447535458505340468.args[0]\"]\n\t4982424794959710867 [label=arange id=4982424794959710867]\n\t4982424794959710867 -> -9031501539059790041 [id=\"4982424794959710867.args[0]\"]\n\t-9031501539059790041 [label=100 id=-9031501539059790041]\n\t5447535458505340468 -> 4982424794959710867 [id=\"5447535458505340468.args[1]\"]\n\t5593707570515573442 -> -9031501538954785116 [id=\"5593707570515573442.args[1]\"]\n\t-9031501538954785116 [label=5 id=-9031501538954785116]\n}",
         "label": null,
         "rule": "metadsl_core.numpy.NDArrayCompat.__getitem__"
        },
        {
         "graph": "digraph {\n\tnode [shape=plain]\n\tedge [arrowsize=0.5 penwidth=0.5]\n\t680250064134282809 [label=\"NDArrayCompat.to_ndarray\" id=680250064134282809]\n\t680250064134282809 -> 5593707570515573442 [id=\"680250064134282809.args[0]\"]\n\t5593707570515573442 [label=\"NDArrayCompat.__getitem__\" id=5593707570515573442]\n\t5593707570515573442 -> 5447535458505340468 [id=\"5593707570515573442.args[0]\"]\n\t5447535458505340468 [label=\"NDArrayCompat.__add__\" id=5447535458505340468]\n\t5447535458505340468 -> 4982424794959710867 [id=\"5447535458505340468.args[0]\"]\n\t4982424794959710867 [label=arange id=4982424794959710867]\n\t4982424794959710867 -> -9031501539059790041 [id=\"4982424794959710867.args[0]\"]\n\t-9031501539059790041 [label=100 id=-9031501539059790041]\n\t5447535458505340468 -> 4982424794959710867 [id=\"5447535458505340468.args[1]\"]\n\t5593707570515573442 -> -9031501538954785116 [id=\"5593707570515573442.args[1]\"]\n\t-9031501538954785116 [label=5 id=-9031501538954785116]\n}",
         "label": null,
         "rule": "metadsl_core.numpy.NDArrayCompat.__getitem__"
        },
        {
         "graph": "digraph {\n\tnode [shape=plain]\n\tedge [arrowsize=0.5 penwidth=0.5]\n\t680250064134282809 [label=\"NDArrayCompat.to_ndarray\" id=680250064134282809]\n\t680250064134282809 -> 5593707570515573442 [id=\"680250064134282809.args[0]\"]\n\t5593707570515573442 [label=\"NDArrayCompat.__getitem__\" id=5593707570515573442]\n\t5593707570515573442 -> 5447535458505340468 [id=\"5593707570515573442.args[0]\"]\n\t5447535458505340468 [label=\"NDArrayCompat.__add__\" id=5447535458505340468]\n\t5447535458505340468 -> 4982424794959710867 [id=\"5447535458505340468.args[0]\"]\n\t4982424794959710867 [label=arange id=4982424794959710867]\n\t4982424794959710867 -> -9031501539059790041 [id=\"4982424794959710867.args[0]\"]\n\t-9031501539059790041 [label=100 id=-9031501539059790041]\n\t5447535458505340468 -> 4982424794959710867 [id=\"5447535458505340468.args[1]\"]\n\t5593707570515573442 -> -9031501538954785116 [id=\"5593707570515573442.args[1]\"]\n\t-9031501538954785116 [label=5 id=-9031501538954785116]\n}",
         "label": null,
         "rule": "metadsl_core.numpy.NDArrayCompat.__getitem__"
        },
        {
         "graph": "digraph {\n\tnode [shape=plain]\n\tedge [arrowsize=0.5 penwidth=0.5]\n\t680250064134282809 [label=\"NDArrayCompat.to_ndarray\" id=680250064134282809]\n\t680250064134282809 -> 5593707570515573442 [id=\"680250064134282809.args[0]\"]\n\t5593707570515573442 [label=\"NDArrayCompat.__getitem__\" id=5593707570515573442]\n\t5593707570515573442 -> 5447535458505340468 [id=\"5593707570515573442.args[0]\"]\n\t5447535458505340468 [label=\"NDArrayCompat.__add__\" id=5447535458505340468]\n\t5447535458505340468 -> 4982424794959710867 [id=\"5447535458505340468.args[0]\"]\n\t4982424794959710867 [label=arange id=4982424794959710867]\n\t4982424794959710867 -> -9031501539059790041 [id=\"4982424794959710867.args[0]\"]\n\t-9031501539059790041 [label=100 id=-9031501539059790041]\n\t5447535458505340468 -> 4982424794959710867 [id=\"5447535458505340468.args[1]\"]\n\t5593707570515573442 -> -9031501538954785116 [id=\"5593707570515573442.args[1]\"]\n\t-9031501538954785116 [label=5 id=-9031501538954785116]\n}",
         "label": null,
         "rule": "metadsl_core.numpy.NDArrayCompat.__getitem__"
        },
        {
         "graph": "digraph {\n\tnode [shape=plain]\n\tedge [arrowsize=0.5 penwidth=0.5]\n\t680250064134282809 [label=\"NDArrayCompat.to_ndarray\" id=680250064134282809]\n\t680250064134282809 -> 5593707570515573442 [id=\"680250064134282809.args[0]\"]\n\t5593707570515573442 [label=\"NDArrayCompat.__getitem__\" id=5593707570515573442]\n\t5593707570515573442 -> 5447535458505340468 [id=\"5593707570515573442.args[0]\"]\n\t5447535458505340468 [label=\"NDArrayCompat.__add__\" id=5447535458505340468]\n\t5447535458505340468 -> 4982424794959710867 [id=\"5447535458505340468.args[0]\"]\n\t4982424794959710867 [label=arange id=4982424794959710867]\n\t4982424794959710867 -> -9031501539059790041 [id=\"4982424794959710867.args[0]\"]\n\t-9031501539059790041 [label=100 id=-9031501539059790041]\n\t5447535458505340468 -> 4982424794959710867 [id=\"5447535458505340468.args[1]\"]\n\t5593707570515573442 -> -9031501538954785116 [id=\"5593707570515573442.args[1]\"]\n\t-9031501538954785116 [label=5 id=-9031501538954785116]\n}",
         "label": null,
         "rule": "metadsl_core.numpy.NDArrayCompat.__getitem__"
        },
        {
         "graph": "digraph {\n\tnode [shape=plain]\n\tedge [arrowsize=0.5 penwidth=0.5]\n\t680250064134282809 [label=\"NDArrayCompat.to_ndarray\" id=680250064134282809]\n\t680250064134282809 -> 5593707570515573442 [id=\"680250064134282809.args[0]\"]\n\t5593707570515573442 [label=\"NDArrayCompat.__getitem__\" id=5593707570515573442]\n\t5593707570515573442 -> 5447535458505340468 [id=\"5593707570515573442.args[0]\"]\n\t5447535458505340468 [label=\"NDArrayCompat.__add__\" id=5447535458505340468]\n\t5447535458505340468 -> 4982424794959710867 [id=\"5447535458505340468.args[0]\"]\n\t4982424794959710867 [label=arange id=4982424794959710867]\n\t4982424794959710867 -> -9031501539059790041 [id=\"4982424794959710867.args[0]\"]\n\t-9031501539059790041 [label=100 id=-9031501539059790041]\n\t5447535458505340468 -> 4982424794959710867 [id=\"5447535458505340468.args[1]\"]\n\t5593707570515573442 -> -9031501538954785116 [id=\"5593707570515573442.args[1]\"]\n\t-9031501538954785116 [label=5 id=-9031501538954785116]\n}",
         "label": null,
         "rule": "metadsl_core.numpy.NDArrayCompat.__getitem__"
        },
        {
         "graph": "digraph {\n\tnode [shape=plain]\n\tedge [arrowsize=0.5 penwidth=0.5]\n\t680250064134282809 [label=\"NDArrayCompat.to_ndarray\" id=680250064134282809]\n\t680250064134282809 -> 5593707570515573442 [id=\"680250064134282809.args[0]\"]\n\t5593707570515573442 [label=\"NDArrayCompat.__getitem__\" id=5593707570515573442]\n\t5593707570515573442 -> 5447535458505340468 [id=\"5593707570515573442.args[0]\"]\n\t5447535458505340468 [label=\"NDArrayCompat.__add__\" id=5447535458505340468]\n\t5447535458505340468 -> 4982424794959710867 [id=\"5447535458505340468.args[0]\"]\n\t4982424794959710867 [label=arange id=4982424794959710867]\n\t4982424794959710867 -> -9031501539059790041 [id=\"4982424794959710867.args[0]\"]\n\t-9031501539059790041 [label=100 id=-9031501539059790041]\n\t5447535458505340468 -> 4982424794959710867 [id=\"5447535458505340468.args[1]\"]\n\t5593707570515573442 -> -9031501538954785116 [id=\"5593707570515573442.args[1]\"]\n\t-9031501538954785116 [label=5 id=-9031501538954785116]\n}",
         "label": null,
         "rule": "metadsl_core.numpy.NDArrayCompat.__getitem__"
        },
        {
         "graph": "digraph {\n\tnode [shape=plain]\n\tedge [arrowsize=0.5 penwidth=0.5]\n\t680250064134282809 [label=\"NDArrayCompat.to_ndarray\" id=680250064134282809]\n\t680250064134282809 -> 5593707570515573442 [id=\"680250064134282809.args[0]\"]\n\t5593707570515573442 [label=\"NDArrayCompat.__getitem__\" id=5593707570515573442]\n\t5593707570515573442 -> 5447535458505340468 [id=\"5593707570515573442.args[0]\"]\n\t5447535458505340468 [label=\"NDArrayCompat.__add__\" id=5447535458505340468]\n\t5447535458505340468 -> 4982424794959710867 [id=\"5447535458505340468.args[0]\"]\n\t4982424794959710867 [label=arange id=4982424794959710867]\n\t4982424794959710867 -> -9031501539059790041 [id=\"4982424794959710867.args[0]\"]\n\t-9031501539059790041 [label=100 id=-9031501539059790041]\n\t5447535458505340468 -> 4982424794959710867 [id=\"5447535458505340468.args[1]\"]\n\t5593707570515573442 -> -9031501538954785116 [id=\"5593707570515573442.args[1]\"]\n\t-9031501538954785116 [label=5 id=-9031501538954785116]\n}",
         "label": null,
         "rule": "metadsl_core.numpy.NDArrayCompat.__getitem__"
        },
        {
         "graph": "digraph {\n\tnode [shape=plain]\n\tedge [arrowsize=0.5 penwidth=0.5]\n\t680250064134282809 [label=\"NDArrayCompat.to_ndarray\" id=680250064134282809]\n\t680250064134282809 -> 5593707570515573442 [id=\"680250064134282809.args[0]\"]\n\t5593707570515573442 [label=\"NDArrayCompat.__getitem__\" id=5593707570515573442]\n\t5593707570515573442 -> 5447535458505340468 [id=\"5593707570515573442.args[0]\"]\n\t5447535458505340468 [label=\"NDArrayCompat.__add__\" id=5447535458505340468]\n\t5447535458505340468 -> 4982424794959710867 [id=\"5447535458505340468.args[0]\"]\n\t4982424794959710867 [label=arange id=4982424794959710867]\n\t4982424794959710867 -> -9031501539059790041 [id=\"4982424794959710867.args[0]\"]\n\t-9031501539059790041 [label=100 id=-9031501539059790041]\n\t5447535458505340468 -> 4982424794959710867 [id=\"5447535458505340468.args[1]\"]\n\t5593707570515573442 -> -9031501538954785116 [id=\"5593707570515573442.args[1]\"]\n\t-9031501538954785116 [label=5 id=-9031501538954785116]\n}",
         "label": null,
         "rule": "metadsl_core.numpy.NDArrayCompat.__getitem__"
        },
        {
         "graph": "digraph {\n\tnode [shape=plain]\n\tedge [arrowsize=0.5 penwidth=0.5]\n\t680250064134282809 [label=\"NDArrayCompat.to_ndarray\" id=680250064134282809]\n\t680250064134282809 -> 5593707570515573442 [id=\"680250064134282809.args[0]\"]\n\t5593707570515573442 [label=\"NDArrayCompat.__getitem__\" id=5593707570515573442]\n\t5593707570515573442 -> 5447535458505340468 [id=\"5593707570515573442.args[0]\"]\n\t5447535458505340468 [label=\"NDArrayCompat.__add__\" id=5447535458505340468]\n\t5447535458505340468 -> 4982424794959710867 [id=\"5447535458505340468.args[0]\"]\n\t4982424794959710867 [label=arange id=4982424794959710867]\n\t4982424794959710867 -> -9031501539059790041 [id=\"4982424794959710867.args[0]\"]\n\t-9031501539059790041 [label=100 id=-9031501539059790041]\n\t5447535458505340468 -> 4982424794959710867 [id=\"5447535458505340468.args[1]\"]\n\t5593707570515573442 -> -9031501538954785116 [id=\"5593707570515573442.args[1]\"]\n\t-9031501538954785116 [label=5 id=-9031501538954785116]\n}",
         "label": null,
         "rule": "metadsl_core.numpy.NDArrayCompat.__getitem__"
        },
        {
         "graph": "digraph {\n\tnode [shape=plain]\n\tedge [arrowsize=0.5 penwidth=0.5]\n\t680250064134282809 [label=\"NDArrayCompat.to_ndarray\" id=680250064134282809]\n\t680250064134282809 -> 5593707570515573442 [id=\"680250064134282809.args[0]\"]\n\t5593707570515573442 [label=\"NDArrayCompat.__getitem__\" id=5593707570515573442]\n\t5593707570515573442 -> 5447535458505340468 [id=\"5593707570515573442.args[0]\"]\n\t5447535458505340468 [label=\"NDArrayCompat.__add__\" id=5447535458505340468]\n\t5447535458505340468 -> 4982424794959710867 [id=\"5447535458505340468.args[0]\"]\n\t4982424794959710867 [label=arange id=4982424794959710867]\n\t4982424794959710867 -> -9031501539059790041 [id=\"4982424794959710867.args[0]\"]\n\t-9031501539059790041 [label=100 id=-9031501539059790041]\n\t5447535458505340468 -> 4982424794959710867 [id=\"5447535458505340468.args[1]\"]\n\t5593707570515573442 -> -9031501538954785116 [id=\"5593707570515573442.args[1]\"]\n\t-9031501538954785116 [label=5 id=-9031501538954785116]\n}",
         "label": null,
         "rule": "metadsl_core.numpy.NDArrayCompat.__getitem__"
        },
        {
         "graph": "digraph {\n\tnode [shape=plain]\n\tedge [arrowsize=0.5 penwidth=0.5]\n\t680250064134282809 [label=\"NDArrayCompat.to_ndarray\" id=680250064134282809]\n\t680250064134282809 -> 5593707570515573442 [id=\"680250064134282809.args[0]\"]\n\t5593707570515573442 [label=\"NDArrayCompat.__getitem__\" id=5593707570515573442]\n\t5593707570515573442 -> 5447535458505340468 [id=\"5593707570515573442.args[0]\"]\n\t5447535458505340468 [label=\"NDArrayCompat.__add__\" id=5447535458505340468]\n\t5447535458505340468 -> 4982424794959710867 [id=\"5447535458505340468.args[0]\"]\n\t4982424794959710867 [label=arange id=4982424794959710867]\n\t4982424794959710867 -> -9031501539059790041 [id=\"4982424794959710867.args[0]\"]\n\t-9031501539059790041 [label=100 id=-9031501539059790041]\n\t5447535458505340468 -> 4982424794959710867 [id=\"5447535458505340468.args[1]\"]\n\t5593707570515573442 -> -9031501538954785116 [id=\"5593707570515573442.args[1]\"]\n\t-9031501538954785116 [label=5 id=-9031501538954785116]\n}",
         "label": null,
         "rule": "metadsl_core.numpy.NDArrayCompat.__getitem__"
        },
        {
         "graph": "digraph {\n\tnode [shape=plain]\n\tedge [arrowsize=0.5 penwidth=0.5]\n\t680250064134282809 [label=\"NDArrayCompat.to_ndarray\" id=680250064134282809]\n\t680250064134282809 -> 5593707570515573442 [id=\"680250064134282809.args[0]\"]\n\t5593707570515573442 [label=\"NDArrayCompat.__getitem__\" id=5593707570515573442]\n\t5593707570515573442 -> 5447535458505340468 [id=\"5593707570515573442.args[0]\"]\n\t5447535458505340468 [label=\"NDArrayCompat.__add__\" id=5447535458505340468]\n\t5447535458505340468 -> 4982424794959710867 [id=\"5447535458505340468.args[0]\"]\n\t4982424794959710867 [label=arange id=4982424794959710867]\n\t4982424794959710867 -> -9031501539059790041 [id=\"4982424794959710867.args[0]\"]\n\t-9031501539059790041 [label=100 id=-9031501539059790041]\n\t5447535458505340468 -> 4982424794959710867 [id=\"5447535458505340468.args[1]\"]\n\t5593707570515573442 -> -9031501538954785116 [id=\"5593707570515573442.args[1]\"]\n\t-9031501538954785116 [label=5 id=-9031501538954785116]\n}",
         "label": null,
         "rule": "metadsl_core.numpy.NDArrayCompat.__getitem__"
        },
        {
         "graph": "digraph {\n\tnode [shape=plain]\n\tedge [arrowsize=0.5 penwidth=0.5]\n\t680250064134282809 [label=\"NDArrayCompat.to_ndarray\" id=680250064134282809]\n\t680250064134282809 -> 5593707570515573442 [id=\"680250064134282809.args[0]\"]\n\t5593707570515573442 [label=\"NDArrayCompat.__getitem__\" id=5593707570515573442]\n\t5593707570515573442 -> 5447535458505340468 [id=\"5593707570515573442.args[0]\"]\n\t5447535458505340468 [label=\"NDArrayCompat.__add__\" id=5447535458505340468]\n\t5447535458505340468 -> 4982424794959710867 [id=\"5447535458505340468.args[0]\"]\n\t4982424794959710867 [label=arange id=4982424794959710867]\n\t4982424794959710867 -> -9031501539059790041 [id=\"4982424794959710867.args[0]\"]\n\t-9031501539059790041 [label=100 id=-9031501539059790041]\n\t5447535458505340468 -> 4982424794959710867 [id=\"5447535458505340468.args[1]\"]\n\t5593707570515573442 -> -9031501538954785116 [id=\"5593707570515573442.args[1]\"]\n\t-9031501538954785116 [label=5 id=-9031501538954785116]\n}",
         "label": null,
         "rule": "metadsl_core.numpy.NDArrayCompat.__getitem__"
        },
        {
         "graph": "digraph {\n\tnode [shape=plain]\n\tedge [arrowsize=0.5 penwidth=0.5]\n\t680250064134282809 [label=\"NDArrayCompat.to_ndarray\" id=680250064134282809]\n\t680250064134282809 -> 5593707570515573442 [id=\"680250064134282809.args[0]\"]\n\t5593707570515573442 [label=\"NDArrayCompat.__getitem__\" id=5593707570515573442]\n\t5593707570515573442 -> 5447535458505340468 [id=\"5593707570515573442.args[0]\"]\n\t5447535458505340468 [label=\"NDArrayCompat.__add__\" id=5447535458505340468]\n\t5447535458505340468 -> 4982424794959710867 [id=\"5447535458505340468.args[0]\"]\n\t4982424794959710867 [label=arange id=4982424794959710867]\n\t4982424794959710867 -> -9031501539059790041 [id=\"4982424794959710867.args[0]\"]\n\t-9031501539059790041 [label=100 id=-9031501539059790041]\n\t5447535458505340468 -> 4982424794959710867 [id=\"5447535458505340468.args[1]\"]\n\t5593707570515573442 -> -9031501538954785116 [id=\"5593707570515573442.args[1]\"]\n\t-9031501538954785116 [label=5 id=-9031501538954785116]\n}",
         "label": null,
         "rule": "metadsl_core.numpy.NDArrayCompat.__getitem__"
        },
        {
         "graph": "digraph {\n\tnode [shape=plain]\n\tedge [arrowsize=0.5 penwidth=0.5]\n\t680250064134282809 [label=\"NDArrayCompat.to_ndarray\" id=680250064134282809]\n\t680250064134282809 -> 5593707570515573442 [id=\"680250064134282809.args[0]\"]\n\t5593707570515573442 [label=\"NDArrayCompat.__getitem__\" id=5593707570515573442]\n\t5593707570515573442 -> 5447535458505340468 [id=\"5593707570515573442.args[0]\"]\n\t5447535458505340468 [label=\"NDArrayCompat.__add__\" id=5447535458505340468]\n\t5447535458505340468 -> 4982424794959710867 [id=\"5447535458505340468.args[0]\"]\n\t4982424794959710867 [label=arange id=4982424794959710867]\n\t4982424794959710867 -> -9031501539059790041 [id=\"4982424794959710867.args[0]\"]\n\t-9031501539059790041 [label=100 id=-9031501539059790041]\n\t5447535458505340468 -> 4982424794959710867 [id=\"5447535458505340468.args[1]\"]\n\t5593707570515573442 -> -9031501538954785116 [id=\"5593707570515573442.args[1]\"]\n\t-9031501538954785116 [label=5 id=-9031501538954785116]\n}",
         "label": null,
         "rule": "metadsl_core.numpy.NDArrayCompat.__getitem__"
        },
        {
         "graph": "digraph {\n\tnode [shape=plain]\n\tedge [arrowsize=0.5 penwidth=0.5]\n\t680250064134282809 [label=\"NDArrayCompat.to_ndarray\" id=680250064134282809]\n\t680250064134282809 -> 5593707570515573442 [id=\"680250064134282809.args[0]\"]\n\t5593707570515573442 [label=\"NDArrayCompat.__getitem__\" id=5593707570515573442]\n\t5593707570515573442 -> 5447535458505340468 [id=\"5593707570515573442.args[0]\"]\n\t5447535458505340468 [label=\"NDArrayCompat.__add__\" id=5447535458505340468]\n\t5447535458505340468 -> 4982424794959710867 [id=\"5447535458505340468.args[0]\"]\n\t4982424794959710867 [label=arange id=4982424794959710867]\n\t4982424794959710867 -> -9031501539059790041 [id=\"4982424794959710867.args[0]\"]\n\t-9031501539059790041 [label=100 id=-9031501539059790041]\n\t5447535458505340468 -> 4982424794959710867 [id=\"5447535458505340468.args[1]\"]\n\t5593707570515573442 -> -9031501538954785116 [id=\"5593707570515573442.args[1]\"]\n\t-9031501538954785116 [label=5 id=-9031501538954785116]\n}",
         "label": null,
         "rule": "metadsl_core.numpy.NDArrayCompat.__getitem__"
        },
        {
         "graph": "digraph {\n\tnode [shape=plain]\n\tedge [arrowsize=0.5 penwidth=0.5]\n\t680250064134282809 [label=\"NDArrayCompat.to_ndarray\" id=680250064134282809]\n\t680250064134282809 -> 5593707570515573442 [id=\"680250064134282809.args[0]\"]\n\t5593707570515573442 [label=\"NDArrayCompat.__getitem__\" id=5593707570515573442]\n\t5593707570515573442 -> 5447535458505340468 [id=\"5593707570515573442.args[0]\"]\n\t5447535458505340468 [label=\"NDArrayCompat.__add__\" id=5447535458505340468]\n\t5447535458505340468 -> 4982424794959710867 [id=\"5447535458505340468.args[0]\"]\n\t4982424794959710867 [label=arange id=4982424794959710867]\n\t4982424794959710867 -> -9031501539059790041 [id=\"4982424794959710867.args[0]\"]\n\t-9031501539059790041 [label=100 id=-9031501539059790041]\n\t5447535458505340468 -> 4982424794959710867 [id=\"5447535458505340468.args[1]\"]\n\t5593707570515573442 -> -9031501538954785116 [id=\"5593707570515573442.args[1]\"]\n\t-9031501538954785116 [label=5 id=-9031501538954785116]\n}",
         "label": null,
         "rule": "metadsl_core.numpy.NDArrayCompat.__getitem__"
        },
        {
         "graph": "digraph {\n\tnode [shape=plain]\n\tedge [arrowsize=0.5 penwidth=0.5]\n\t680250064134282809 [label=\"NDArrayCompat.to_ndarray\" id=680250064134282809]\n\t680250064134282809 -> 5593707570515573442 [id=\"680250064134282809.args[0]\"]\n\t5593707570515573442 [label=\"NDArrayCompat.__getitem__\" id=5593707570515573442]\n\t5593707570515573442 -> 5447535458505340468 [id=\"5593707570515573442.args[0]\"]\n\t5447535458505340468 [label=\"NDArrayCompat.__add__\" id=5447535458505340468]\n\t5447535458505340468 -> 4982424794959710867 [id=\"5447535458505340468.args[0]\"]\n\t4982424794959710867 [label=arange id=4982424794959710867]\n\t4982424794959710867 -> -9031501539059790041 [id=\"4982424794959710867.args[0]\"]\n\t-9031501539059790041 [label=100 id=-9031501539059790041]\n\t5447535458505340468 -> 4982424794959710867 [id=\"5447535458505340468.args[1]\"]\n\t5593707570515573442 -> -9031501538954785116 [id=\"5593707570515573442.args[1]\"]\n\t-9031501538954785116 [label=5 id=-9031501538954785116]\n}",
         "label": null,
         "rule": "metadsl_core.numpy.NDArrayCompat.__getitem__"
        },
        {
         "graph": "digraph {\n\tnode [shape=plain]\n\tedge [arrowsize=0.5 penwidth=0.5]\n\t680250064134282809 [label=\"NDArrayCompat.to_ndarray\" id=680250064134282809]\n\t680250064134282809 -> 5593707570515573442 [id=\"680250064134282809.args[0]\"]\n\t5593707570515573442 [label=\"NDArrayCompat.__getitem__\" id=5593707570515573442]\n\t5593707570515573442 -> 5447535458505340468 [id=\"5593707570515573442.args[0]\"]\n\t5447535458505340468 [label=\"NDArrayCompat.__add__\" id=5447535458505340468]\n\t5447535458505340468 -> 4982424794959710867 [id=\"5447535458505340468.args[0]\"]\n\t4982424794959710867 [label=arange id=4982424794959710867]\n\t4982424794959710867 -> -9031501539059790041 [id=\"4982424794959710867.args[0]\"]\n\t-9031501539059790041 [label=100 id=-9031501539059790041]\n\t5447535458505340468 -> 4982424794959710867 [id=\"5447535458505340468.args[1]\"]\n\t5593707570515573442 -> -9031501538954785116 [id=\"5593707570515573442.args[1]\"]\n\t-9031501538954785116 [label=5 id=-9031501538954785116]\n}",
         "label": null,
         "rule": "metadsl_core.numpy.NDArrayCompat.__getitem__"
        },
        {
         "graph": "digraph {\n\tnode [shape=plain]\n\tedge [arrowsize=0.5 penwidth=0.5]\n\t680250064134282809 [label=\"NDArrayCompat.to_ndarray\" id=680250064134282809]\n\t680250064134282809 -> 5593707570515573442 [id=\"680250064134282809.args[0]\"]\n\t5593707570515573442 [label=\"NDArrayCompat.__getitem__\" id=5593707570515573442]\n\t5593707570515573442 -> 5447535458505340468 [id=\"5593707570515573442.args[0]\"]\n\t5447535458505340468 [label=\"NDArrayCompat.__add__\" id=5447535458505340468]\n\t5447535458505340468 -> 4982424794959710867 [id=\"5447535458505340468.args[0]\"]\n\t4982424794959710867 [label=arange id=4982424794959710867]\n\t4982424794959710867 -> -9031501539059790041 [id=\"4982424794959710867.args[0]\"]\n\t-9031501539059790041 [label=100 id=-9031501539059790041]\n\t5447535458505340468 -> 4982424794959710867 [id=\"5447535458505340468.args[1]\"]\n\t5593707570515573442 -> -9031501538954785116 [id=\"5593707570515573442.args[1]\"]\n\t-9031501538954785116 [label=5 id=-9031501538954785116]\n}",
         "label": null,
         "rule": "metadsl_core.numpy.NDArrayCompat.__getitem__"
        },
        {
         "graph": "digraph {\n\tnode [shape=plain]\n\tedge [arrowsize=0.5 penwidth=0.5]\n\t680250064134282809 [label=\"NDArrayCompat.to_ndarray\" id=680250064134282809]\n\t680250064134282809 -> 5593707570515573442 [id=\"680250064134282809.args[0]\"]\n\t5593707570515573442 [label=\"NDArrayCompat.__getitem__\" id=5593707570515573442]\n\t5593707570515573442 -> 5447535458505340468 [id=\"5593707570515573442.args[0]\"]\n\t5447535458505340468 [label=\"NDArrayCompat.__add__\" id=5447535458505340468]\n\t5447535458505340468 -> 4982424794959710867 [id=\"5447535458505340468.args[0]\"]\n\t4982424794959710867 [label=arange id=4982424794959710867]\n\t4982424794959710867 -> -9031501539059790041 [id=\"4982424794959710867.args[0]\"]\n\t-9031501539059790041 [label=100 id=-9031501539059790041]\n\t5447535458505340468 -> 4982424794959710867 [id=\"5447535458505340468.args[1]\"]\n\t5593707570515573442 -> -9031501538954785116 [id=\"5593707570515573442.args[1]\"]\n\t-9031501538954785116 [label=5 id=-9031501538954785116]\n}",
         "label": null,
         "rule": "metadsl_core.numpy.NDArrayCompat.__getitem__"
        },
        {
         "graph": "digraph {\n\tnode [shape=plain]\n\tedge [arrowsize=0.5 penwidth=0.5]\n\t680250064134282809 [label=\"NDArrayCompat.to_ndarray\" id=680250064134282809]\n\t680250064134282809 -> 5593707570515573442 [id=\"680250064134282809.args[0]\"]\n\t5593707570515573442 [label=\"NDArrayCompat.__getitem__\" id=5593707570515573442]\n\t5593707570515573442 -> 5447535458505340468 [id=\"5593707570515573442.args[0]\"]\n\t5447535458505340468 [label=\"NDArrayCompat.__add__\" id=5447535458505340468]\n\t5447535458505340468 -> 4982424794959710867 [id=\"5447535458505340468.args[0]\"]\n\t4982424794959710867 [label=arange id=4982424794959710867]\n\t4982424794959710867 -> -9031501539059790041 [id=\"4982424794959710867.args[0]\"]\n\t-9031501539059790041 [label=100 id=-9031501539059790041]\n\t5447535458505340468 -> 4982424794959710867 [id=\"5447535458505340468.args[1]\"]\n\t5593707570515573442 -> -9031501538954785116 [id=\"5593707570515573442.args[1]\"]\n\t-9031501538954785116 [label=5 id=-9031501538954785116]\n}",
         "label": null,
         "rule": "metadsl_core.numpy.NDArrayCompat.__getitem__"
        },
        {
         "graph": "digraph {\n\tnode [shape=plain]\n\tedge [arrowsize=0.5 penwidth=0.5]\n\t680250064134282809 [label=\"NDArrayCompat.to_ndarray\" id=680250064134282809]\n\t680250064134282809 -> 5593707570515573442 [id=\"680250064134282809.args[0]\"]\n\t5593707570515573442 [label=\"NDArrayCompat.__getitem__\" id=5593707570515573442]\n\t5593707570515573442 -> 5447535458505340468 [id=\"5593707570515573442.args[0]\"]\n\t5447535458505340468 [label=\"NDArrayCompat.__add__\" id=5447535458505340468]\n\t5447535458505340468 -> 4982424794959710867 [id=\"5447535458505340468.args[0]\"]\n\t4982424794959710867 [label=arange id=4982424794959710867]\n\t4982424794959710867 -> -9031501539059790041 [id=\"4982424794959710867.args[0]\"]\n\t-9031501539059790041 [label=100 id=-9031501539059790041]\n\t5447535458505340468 -> 4982424794959710867 [id=\"5447535458505340468.args[1]\"]\n\t5593707570515573442 -> -9031501538954785116 [id=\"5593707570515573442.args[1]\"]\n\t-9031501538954785116 [label=5 id=-9031501538954785116]\n}",
         "label": null,
         "rule": "metadsl_core.numpy.NDArrayCompat.__getitem__"
        },
        {
         "graph": "digraph {\n\tnode [shape=plain]\n\tedge [arrowsize=0.5 penwidth=0.5]\n\t680250064134282809 [label=\"NDArrayCompat.to_ndarray\" id=680250064134282809]\n\t680250064134282809 -> 5593707570515573442 [id=\"680250064134282809.args[0]\"]\n\t5593707570515573442 [label=\"NDArrayCompat.__getitem__\" id=5593707570515573442]\n\t5593707570515573442 -> 5447535458505340468 [id=\"5593707570515573442.args[0]\"]\n\t5447535458505340468 [label=\"NDArrayCompat.__add__\" id=5447535458505340468]\n\t5447535458505340468 -> 4982424794959710867 [id=\"5447535458505340468.args[0]\"]\n\t4982424794959710867 [label=arange id=4982424794959710867]\n\t4982424794959710867 -> -9031501539059790041 [id=\"4982424794959710867.args[0]\"]\n\t-9031501539059790041 [label=100 id=-9031501539059790041]\n\t5447535458505340468 -> 4982424794959710867 [id=\"5447535458505340468.args[1]\"]\n\t5593707570515573442 -> -9031501538954785116 [id=\"5593707570515573442.args[1]\"]\n\t-9031501538954785116 [label=5 id=-9031501538954785116]\n}",
         "label": null,
         "rule": "metadsl_core.numpy.NDArrayCompat.__getitem__"
        },
        {
         "graph": "digraph {\n\tnode [shape=plain]\n\tedge [arrowsize=0.5 penwidth=0.5]\n\t680250064134282809 [label=\"NDArrayCompat.to_ndarray\" id=680250064134282809]\n\t680250064134282809 -> 5593707570515573442 [id=\"680250064134282809.args[0]\"]\n\t5593707570515573442 [label=\"NDArrayCompat.__getitem__\" id=5593707570515573442]\n\t5593707570515573442 -> 5447535458505340468 [id=\"5593707570515573442.args[0]\"]\n\t5447535458505340468 [label=\"NDArrayCompat.__add__\" id=5447535458505340468]\n\t5447535458505340468 -> 4982424794959710867 [id=\"5447535458505340468.args[0]\"]\n\t4982424794959710867 [label=arange id=4982424794959710867]\n\t4982424794959710867 -> -9031501539059790041 [id=\"4982424794959710867.args[0]\"]\n\t-9031501539059790041 [label=100 id=-9031501539059790041]\n\t5447535458505340468 -> 4982424794959710867 [id=\"5447535458505340468.args[1]\"]\n\t5593707570515573442 -> -9031501538954785116 [id=\"5593707570515573442.args[1]\"]\n\t-9031501538954785116 [label=5 id=-9031501538954785116]\n}",
         "label": null,
         "rule": "metadsl_core.numpy.NDArrayCompat.__getitem__"
        },
        {
         "graph": "digraph {\n\tnode [shape=plain]\n\tedge [arrowsize=0.5 penwidth=0.5]\n\t680250064134282809 [label=\"NDArrayCompat.to_ndarray\" id=680250064134282809]\n\t680250064134282809 -> 5593707570515573442 [id=\"680250064134282809.args[0]\"]\n\t5593707570515573442 [label=\"NDArrayCompat.__getitem__\" id=5593707570515573442]\n\t5593707570515573442 -> 5447535458505340468 [id=\"5593707570515573442.args[0]\"]\n\t5447535458505340468 [label=\"NDArrayCompat.__add__\" id=5447535458505340468]\n\t5447535458505340468 -> 4982424794959710867 [id=\"5447535458505340468.args[0]\"]\n\t4982424794959710867 [label=arange id=4982424794959710867]\n\t4982424794959710867 -> -9031501539059790041 [id=\"4982424794959710867.args[0]\"]\n\t-9031501539059790041 [label=100 id=-9031501539059790041]\n\t5447535458505340468 -> 4982424794959710867 [id=\"5447535458505340468.args[1]\"]\n\t5593707570515573442 -> -9031501538954785116 [id=\"5593707570515573442.args[1]\"]\n\t-9031501538954785116 [label=5 id=-9031501538954785116]\n}",
         "label": null,
         "rule": "metadsl_core.numpy.NDArrayCompat.__getitem__"
        },
        {
         "graph": "digraph {\n\tnode [shape=plain]\n\tedge [arrowsize=0.5 penwidth=0.5]\n\t680250064134282809 [label=\"NDArrayCompat.to_ndarray\" id=680250064134282809]\n\t680250064134282809 -> 5593707570515573442 [id=\"680250064134282809.args[0]\"]\n\t5593707570515573442 [label=\"NDArrayCompat.__getitem__\" id=5593707570515573442]\n\t5593707570515573442 -> 5447535458505340468 [id=\"5593707570515573442.args[0]\"]\n\t5447535458505340468 [label=\"NDArrayCompat.__add__\" id=5447535458505340468]\n\t5447535458505340468 -> 4982424794959710867 [id=\"5447535458505340468.args[0]\"]\n\t4982424794959710867 [label=arange id=4982424794959710867]\n\t4982424794959710867 -> -9031501539059790041 [id=\"4982424794959710867.args[0]\"]\n\t-9031501539059790041 [label=100 id=-9031501539059790041]\n\t5447535458505340468 -> 4982424794959710867 [id=\"5447535458505340468.args[1]\"]\n\t5593707570515573442 -> -9031501538954785116 [id=\"5593707570515573442.args[1]\"]\n\t-9031501538954785116 [label=5 id=-9031501538954785116]\n}",
         "label": null,
         "rule": "metadsl_core.numpy.NDArrayCompat.__getitem__"
        },
        {
         "graph": "digraph {\n\tnode [shape=plain]\n\tedge [arrowsize=0.5 penwidth=0.5]\n\t680250064134282809 [label=\"NDArrayCompat.to_ndarray\" id=680250064134282809]\n\t680250064134282809 -> 5593707570515573442 [id=\"680250064134282809.args[0]\"]\n\t5593707570515573442 [label=\"NDArrayCompat.__getitem__\" id=5593707570515573442]\n\t5593707570515573442 -> 5447535458505340468 [id=\"5593707570515573442.args[0]\"]\n\t5447535458505340468 [label=\"NDArrayCompat.__add__\" id=5447535458505340468]\n\t5447535458505340468 -> 4982424794959710867 [id=\"5447535458505340468.args[0]\"]\n\t4982424794959710867 [label=arange id=4982424794959710867]\n\t4982424794959710867 -> -9031501539059790041 [id=\"4982424794959710867.args[0]\"]\n\t-9031501539059790041 [label=100 id=-9031501539059790041]\n\t5447535458505340468 -> 4982424794959710867 [id=\"5447535458505340468.args[1]\"]\n\t5593707570515573442 -> -9031501538954785116 [id=\"5593707570515573442.args[1]\"]\n\t-9031501538954785116 [label=5 id=-9031501538954785116]\n}",
         "label": null,
         "rule": "metadsl_core.numpy.NDArrayCompat.__getitem__"
        },
        {
         "graph": "digraph {\n\tnode [shape=plain]\n\tedge [arrowsize=0.5 penwidth=0.5]\n\t680250064134282809 [label=\"NDArrayCompat.to_ndarray\" id=680250064134282809]\n\t680250064134282809 -> 5593707570515573442 [id=\"680250064134282809.args[0]\"]\n\t5593707570515573442 [label=\"NDArrayCompat.__getitem__\" id=5593707570515573442]\n\t5593707570515573442 -> 5447535458505340468 [id=\"5593707570515573442.args[0]\"]\n\t5447535458505340468 [label=\"NDArrayCompat.__add__\" id=5447535458505340468]\n\t5447535458505340468 -> 4982424794959710867 [id=\"5447535458505340468.args[0]\"]\n\t4982424794959710867 [label=arange id=4982424794959710867]\n\t4982424794959710867 -> -9031501539059790041 [id=\"4982424794959710867.args[0]\"]\n\t-9031501539059790041 [label=100 id=-9031501539059790041]\n\t5447535458505340468 -> 4982424794959710867 [id=\"5447535458505340468.args[1]\"]\n\t5593707570515573442 -> -9031501538954785116 [id=\"5593707570515573442.args[1]\"]\n\t-9031501538954785116 [label=5 id=-9031501538954785116]\n}",
         "label": null,
         "rule": "metadsl_core.numpy.NDArrayCompat.__getitem__"
        },
        {
         "graph": "digraph {\n\tnode [shape=plain]\n\tedge [arrowsize=0.5 penwidth=0.5]\n\t680250064134282809 [label=\"NDArrayCompat.to_ndarray\" id=680250064134282809]\n\t680250064134282809 -> 5593707570515573442 [id=\"680250064134282809.args[0]\"]\n\t5593707570515573442 [label=\"NDArrayCompat.__getitem__\" id=5593707570515573442]\n\t5593707570515573442 -> 5447535458505340468 [id=\"5593707570515573442.args[0]\"]\n\t5447535458505340468 [label=\"NDArrayCompat.__add__\" id=5447535458505340468]\n\t5447535458505340468 -> 4982424794959710867 [id=\"5447535458505340468.args[0]\"]\n\t4982424794959710867 [label=arange id=4982424794959710867]\n\t4982424794959710867 -> -9031501539059790041 [id=\"4982424794959710867.args[0]\"]\n\t-9031501539059790041 [label=100 id=-9031501539059790041]\n\t5447535458505340468 -> 4982424794959710867 [id=\"5447535458505340468.args[1]\"]\n\t5593707570515573442 -> -9031501538954785116 [id=\"5593707570515573442.args[1]\"]\n\t-9031501538954785116 [label=5 id=-9031501538954785116]\n}",
         "label": null,
         "rule": "metadsl_core.numpy.NDArrayCompat.__getitem__"
        },
        {
         "graph": "digraph {\n\tnode [shape=plain]\n\tedge [arrowsize=0.5 penwidth=0.5]\n\t680250064134282809 [label=\"NDArrayCompat.to_ndarray\" id=680250064134282809]\n\t680250064134282809 -> 5593707570515573442 [id=\"680250064134282809.args[0]\"]\n\t5593707570515573442 [label=\"NDArrayCompat.__getitem__\" id=5593707570515573442]\n\t5593707570515573442 -> 5447535458505340468 [id=\"5593707570515573442.args[0]\"]\n\t5447535458505340468 [label=\"NDArrayCompat.__add__\" id=5447535458505340468]\n\t5447535458505340468 -> 4982424794959710867 [id=\"5447535458505340468.args[0]\"]\n\t4982424794959710867 [label=arange id=4982424794959710867]\n\t4982424794959710867 -> -9031501539059790041 [id=\"4982424794959710867.args[0]\"]\n\t-9031501539059790041 [label=100 id=-9031501539059790041]\n\t5447535458505340468 -> 4982424794959710867 [id=\"5447535458505340468.args[1]\"]\n\t5593707570515573442 -> -9031501538954785116 [id=\"5593707570515573442.args[1]\"]\n\t-9031501538954785116 [label=5 id=-9031501538954785116]\n}",
         "label": null,
         "rule": "metadsl_core.numpy.NDArrayCompat.__getitem__"
        },
        {
         "graph": "digraph {\n\tnode [shape=plain]\n\tedge [arrowsize=0.5 penwidth=0.5]\n\t680250064134282809 [label=\"NDArrayCompat.to_ndarray\" id=680250064134282809]\n\t680250064134282809 -> 5593707570515573442 [id=\"680250064134282809.args[0]\"]\n\t5593707570515573442 [label=\"NDArrayCompat.__getitem__\" id=5593707570515573442]\n\t5593707570515573442 -> 5447535458505340468 [id=\"5593707570515573442.args[0]\"]\n\t5447535458505340468 [label=\"NDArrayCompat.__add__\" id=5447535458505340468]\n\t5447535458505340468 -> 4982424794959710867 [id=\"5447535458505340468.args[0]\"]\n\t4982424794959710867 [label=arange id=4982424794959710867]\n\t4982424794959710867 -> -9031501539059790041 [id=\"4982424794959710867.args[0]\"]\n\t-9031501539059790041 [label=100 id=-9031501539059790041]\n\t5447535458505340468 -> 4982424794959710867 [id=\"5447535458505340468.args[1]\"]\n\t5593707570515573442 -> -9031501538954785116 [id=\"5593707570515573442.args[1]\"]\n\t-9031501538954785116 [label=5 id=-9031501538954785116]\n}",
         "label": null,
         "rule": "metadsl_core.numpy.NDArrayCompat.__getitem__"
        },
        {
         "graph": "digraph {\n\tnode [shape=plain]\n\tedge [arrowsize=0.5 penwidth=0.5]\n\t680250064134282809 [label=\"NDArrayCompat.to_ndarray\" id=680250064134282809]\n\t680250064134282809 -> 5593707570515573442 [id=\"680250064134282809.args[0]\"]\n\t5593707570515573442 [label=\"NDArrayCompat.__getitem__\" id=5593707570515573442]\n\t5593707570515573442 -> 5447535458505340468 [id=\"5593707570515573442.args[0]\"]\n\t5447535458505340468 [label=\"NDArrayCompat.__add__\" id=5447535458505340468]\n\t5447535458505340468 -> 4982424794959710867 [id=\"5447535458505340468.args[0]\"]\n\t4982424794959710867 [label=arange id=4982424794959710867]\n\t4982424794959710867 -> -9031501539059790041 [id=\"4982424794959710867.args[0]\"]\n\t-9031501539059790041 [label=100 id=-9031501539059790041]\n\t5447535458505340468 -> 4982424794959710867 [id=\"5447535458505340468.args[1]\"]\n\t5593707570515573442 -> -9031501538954785116 [id=\"5593707570515573442.args[1]\"]\n\t-9031501538954785116 [label=5 id=-9031501538954785116]\n}",
         "label": null,
         "rule": "metadsl_core.numpy.NDArrayCompat.__getitem__"
        },
        {
         "graph": "digraph {\n\tnode [shape=plain]\n\tedge [arrowsize=0.5 penwidth=0.5]\n\t680250064134282809 [label=\"NDArrayCompat.to_ndarray\" id=680250064134282809]\n\t680250064134282809 -> 5593707570515573442 [id=\"680250064134282809.args[0]\"]\n\t5593707570515573442 [label=\"NDArrayCompat.__getitem__\" id=5593707570515573442]\n\t5593707570515573442 -> 5447535458505340468 [id=\"5593707570515573442.args[0]\"]\n\t5447535458505340468 [label=\"NDArrayCompat.__add__\" id=5447535458505340468]\n\t5447535458505340468 -> 4982424794959710867 [id=\"5447535458505340468.args[0]\"]\n\t4982424794959710867 [label=arange id=4982424794959710867]\n\t4982424794959710867 -> -9031501539059790041 [id=\"4982424794959710867.args[0]\"]\n\t-9031501539059790041 [label=100 id=-9031501539059790041]\n\t5447535458505340468 -> 4982424794959710867 [id=\"5447535458505340468.args[1]\"]\n\t5593707570515573442 -> -9031501538954785116 [id=\"5593707570515573442.args[1]\"]\n\t-9031501538954785116 [label=5 id=-9031501538954785116]\n}",
         "label": null,
         "rule": "metadsl_core.numpy.NDArrayCompat.__getitem__"
        },
        {
         "graph": "digraph {\n\tnode [shape=plain]\n\tedge [arrowsize=0.5 penwidth=0.5]\n\t680250064134282809 [label=\"NDArrayCompat.to_ndarray\" id=680250064134282809]\n\t680250064134282809 -> 5593707570515573442 [id=\"680250064134282809.args[0]\"]\n\t5593707570515573442 [label=\"NDArrayCompat.__getitem__\" id=5593707570515573442]\n\t5593707570515573442 -> 5447535458505340468 [id=\"5593707570515573442.args[0]\"]\n\t5447535458505340468 [label=\"NDArrayCompat.__add__\" id=5447535458505340468]\n\t5447535458505340468 -> 4982424794959710867 [id=\"5447535458505340468.args[0]\"]\n\t4982424794959710867 [label=arange id=4982424794959710867]\n\t4982424794959710867 -> -9031501539059790041 [id=\"4982424794959710867.args[0]\"]\n\t-9031501539059790041 [label=100 id=-9031501539059790041]\n\t5447535458505340468 -> 4982424794959710867 [id=\"5447535458505340468.args[1]\"]\n\t5593707570515573442 -> -9031501538954785116 [id=\"5593707570515573442.args[1]\"]\n\t-9031501538954785116 [label=5 id=-9031501538954785116]\n}",
         "label": null,
         "rule": "metadsl_core.numpy.NDArrayCompat.__getitem__"
        },
        {
         "graph": "digraph {\n\tnode [shape=plain]\n\tedge [arrowsize=0.5 penwidth=0.5]\n\t680250064134282809 [label=\"NDArrayCompat.to_ndarray\" id=680250064134282809]\n\t680250064134282809 -> 5593707570515573442 [id=\"680250064134282809.args[0]\"]\n\t5593707570515573442 [label=\"NDArrayCompat.__getitem__\" id=5593707570515573442]\n\t5593707570515573442 -> 5447535458505340468 [id=\"5593707570515573442.args[0]\"]\n\t5447535458505340468 [label=\"NDArrayCompat.__add__\" id=5447535458505340468]\n\t5447535458505340468 -> 4982424794959710867 [id=\"5447535458505340468.args[0]\"]\n\t4982424794959710867 [label=arange id=4982424794959710867]\n\t4982424794959710867 -> -9031501539059790041 [id=\"4982424794959710867.args[0]\"]\n\t-9031501539059790041 [label=100 id=-9031501539059790041]\n\t5447535458505340468 -> 4982424794959710867 [id=\"5447535458505340468.args[1]\"]\n\t5593707570515573442 -> -9031501538954785116 [id=\"5593707570515573442.args[1]\"]\n\t-9031501538954785116 [label=5 id=-9031501538954785116]\n}",
         "label": null,
         "rule": "metadsl_core.numpy.NDArrayCompat.__getitem__"
        },
        {
         "graph": "digraph {\n\tnode [shape=plain]\n\tedge [arrowsize=0.5 penwidth=0.5]\n\t680250064134282809 [label=\"NDArrayCompat.to_ndarray\" id=680250064134282809]\n\t680250064134282809 -> 5593707570515573442 [id=\"680250064134282809.args[0]\"]\n\t5593707570515573442 [label=\"NDArrayCompat.__getitem__\" id=5593707570515573442]\n\t5593707570515573442 -> 5447535458505340468 [id=\"5593707570515573442.args[0]\"]\n\t5447535458505340468 [label=\"NDArrayCompat.__add__\" id=5447535458505340468]\n\t5447535458505340468 -> 4982424794959710867 [id=\"5447535458505340468.args[0]\"]\n\t4982424794959710867 [label=arange id=4982424794959710867]\n\t4982424794959710867 -> -9031501539059790041 [id=\"4982424794959710867.args[0]\"]\n\t-9031501539059790041 [label=100 id=-9031501539059790041]\n\t5447535458505340468 -> 4982424794959710867 [id=\"5447535458505340468.args[1]\"]\n\t5593707570515573442 -> -9031501538954785116 [id=\"5593707570515573442.args[1]\"]\n\t-9031501538954785116 [label=5 id=-9031501538954785116]\n}",
         "label": null,
         "rule": "metadsl_core.numpy.NDArrayCompat.__getitem__"
        },
        {
         "graph": "digraph {\n\tnode [shape=plain]\n\tedge [arrowsize=0.5 penwidth=0.5]\n\t680250064134282809 [label=\"NDArrayCompat.to_ndarray\" id=680250064134282809]\n\t680250064134282809 -> 5593707570515573442 [id=\"680250064134282809.args[0]\"]\n\t5593707570515573442 [label=\"NDArrayCompat.__getitem__\" id=5593707570515573442]\n\t5593707570515573442 -> 5447535458505340468 [id=\"5593707570515573442.args[0]\"]\n\t5447535458505340468 [label=\"NDArrayCompat.__add__\" id=5447535458505340468]\n\t5447535458505340468 -> 4982424794959710867 [id=\"5447535458505340468.args[0]\"]\n\t4982424794959710867 [label=arange id=4982424794959710867]\n\t4982424794959710867 -> -9031501539059790041 [id=\"4982424794959710867.args[0]\"]\n\t-9031501539059790041 [label=100 id=-9031501539059790041]\n\t5447535458505340468 -> 4982424794959710867 [id=\"5447535458505340468.args[1]\"]\n\t5593707570515573442 -> -9031501538954785116 [id=\"5593707570515573442.args[1]\"]\n\t-9031501538954785116 [label=5 id=-9031501538954785116]\n}",
         "label": null,
         "rule": "metadsl_core.numpy.NDArrayCompat.__getitem__"
        },
        {
         "graph": "digraph {\n\tnode [shape=plain]\n\tedge [arrowsize=0.5 penwidth=0.5]\n\t680250064134282809 [label=\"NDArrayCompat.to_ndarray\" id=680250064134282809]\n\t680250064134282809 -> 5593707570515573442 [id=\"680250064134282809.args[0]\"]\n\t5593707570515573442 [label=\"NDArrayCompat.__getitem__\" id=5593707570515573442]\n\t5593707570515573442 -> 5447535458505340468 [id=\"5593707570515573442.args[0]\"]\n\t5447535458505340468 [label=\"NDArrayCompat.__add__\" id=5447535458505340468]\n\t5447535458505340468 -> 4982424794959710867 [id=\"5447535458505340468.args[0]\"]\n\t4982424794959710867 [label=arange id=4982424794959710867]\n\t4982424794959710867 -> -9031501539059790041 [id=\"4982424794959710867.args[0]\"]\n\t-9031501539059790041 [label=100 id=-9031501539059790041]\n\t5447535458505340468 -> 4982424794959710867 [id=\"5447535458505340468.args[1]\"]\n\t5593707570515573442 -> -9031501538954785116 [id=\"5593707570515573442.args[1]\"]\n\t-9031501538954785116 [label=5 id=-9031501538954785116]\n}",
         "label": null,
         "rule": "metadsl_core.numpy.NDArrayCompat.__getitem__"
        },
        {
         "graph": "digraph {\n\tnode [shape=plain]\n\tedge [arrowsize=0.5 penwidth=0.5]\n\t680250064134282809 [label=\"NDArrayCompat.to_ndarray\" id=680250064134282809]\n\t680250064134282809 -> 5593707570515573442 [id=\"680250064134282809.args[0]\"]\n\t5593707570515573442 [label=\"NDArrayCompat.__getitem__\" id=5593707570515573442]\n\t5593707570515573442 -> 5447535458505340468 [id=\"5593707570515573442.args[0]\"]\n\t5447535458505340468 [label=\"NDArrayCompat.__add__\" id=5447535458505340468]\n\t5447535458505340468 -> 4982424794959710867 [id=\"5447535458505340468.args[0]\"]\n\t4982424794959710867 [label=arange id=4982424794959710867]\n\t4982424794959710867 -> -9031501539059790041 [id=\"4982424794959710867.args[0]\"]\n\t-9031501539059790041 [label=100 id=-9031501539059790041]\n\t5447535458505340468 -> 4982424794959710867 [id=\"5447535458505340468.args[1]\"]\n\t5593707570515573442 -> -9031501538954785116 [id=\"5593707570515573442.args[1]\"]\n\t-9031501538954785116 [label=5 id=-9031501538954785116]\n}",
         "label": null,
         "rule": "metadsl_core.numpy.NDArrayCompat.__getitem__"
        },
        {
         "graph": "digraph {\n\tnode [shape=plain]\n\tedge [arrowsize=0.5 penwidth=0.5]\n\t680250064134282809 [label=\"NDArrayCompat.to_ndarray\" id=680250064134282809]\n\t680250064134282809 -> 5593707570515573442 [id=\"680250064134282809.args[0]\"]\n\t5593707570515573442 [label=\"NDArrayCompat.__getitem__\" id=5593707570515573442]\n\t5593707570515573442 -> 5447535458505340468 [id=\"5593707570515573442.args[0]\"]\n\t5447535458505340468 [label=\"NDArrayCompat.__add__\" id=5447535458505340468]\n\t5447535458505340468 -> 4982424794959710867 [id=\"5447535458505340468.args[0]\"]\n\t4982424794959710867 [label=arange id=4982424794959710867]\n\t4982424794959710867 -> -9031501539059790041 [id=\"4982424794959710867.args[0]\"]\n\t-9031501539059790041 [label=100 id=-9031501539059790041]\n\t5447535458505340468 -> 4982424794959710867 [id=\"5447535458505340468.args[1]\"]\n\t5593707570515573442 -> -9031501538954785116 [id=\"5593707570515573442.args[1]\"]\n\t-9031501538954785116 [label=5 id=-9031501538954785116]\n}",
         "label": null,
         "rule": "metadsl_core.numpy.NDArrayCompat.__getitem__"
        },
        {
         "graph": "digraph {\n\tnode [shape=plain]\n\tedge [arrowsize=0.5 penwidth=0.5]\n\t680250064134282809 [label=\"NDArrayCompat.to_ndarray\" id=680250064134282809]\n\t680250064134282809 -> 5593707570515573442 [id=\"680250064134282809.args[0]\"]\n\t5593707570515573442 [label=\"NDArrayCompat.__getitem__\" id=5593707570515573442]\n\t5593707570515573442 -> 5447535458505340468 [id=\"5593707570515573442.args[0]\"]\n\t5447535458505340468 [label=\"NDArrayCompat.__add__\" id=5447535458505340468]\n\t5447535458505340468 -> 4982424794959710867 [id=\"5447535458505340468.args[0]\"]\n\t4982424794959710867 [label=arange id=4982424794959710867]\n\t4982424794959710867 -> -9031501539059790041 [id=\"4982424794959710867.args[0]\"]\n\t-9031501539059790041 [label=100 id=-9031501539059790041]\n\t5447535458505340468 -> 4982424794959710867 [id=\"5447535458505340468.args[1]\"]\n\t5593707570515573442 -> -9031501538954785116 [id=\"5593707570515573442.args[1]\"]\n\t-9031501538954785116 [label=5 id=-9031501538954785116]\n}",
         "label": null,
         "rule": "metadsl_core.numpy.NDArrayCompat.__getitem__"
        },
        {
         "graph": "digraph {\n\tnode [shape=plain]\n\tedge [arrowsize=0.5 penwidth=0.5]\n\t680250064134282809 [label=\"NDArrayCompat.to_ndarray\" id=680250064134282809]\n\t680250064134282809 -> 5593707570515573442 [id=\"680250064134282809.args[0]\"]\n\t5593707570515573442 [label=\"NDArrayCompat.__getitem__\" id=5593707570515573442]\n\t5593707570515573442 -> 5447535458505340468 [id=\"5593707570515573442.args[0]\"]\n\t5447535458505340468 [label=\"NDArrayCompat.__add__\" id=5447535458505340468]\n\t5447535458505340468 -> 4982424794959710867 [id=\"5447535458505340468.args[0]\"]\n\t4982424794959710867 [label=arange id=4982424794959710867]\n\t4982424794959710867 -> -9031501539059790041 [id=\"4982424794959710867.args[0]\"]\n\t-9031501539059790041 [label=100 id=-9031501539059790041]\n\t5447535458505340468 -> 4982424794959710867 [id=\"5447535458505340468.args[1]\"]\n\t5593707570515573442 -> -9031501538954785116 [id=\"5593707570515573442.args[1]\"]\n\t-9031501538954785116 [label=5 id=-9031501538954785116]\n}",
         "label": null,
         "rule": "metadsl_core.numpy.NDArrayCompat.__getitem__"
        },
        {
         "graph": "digraph {\n\tnode [shape=plain]\n\tedge [arrowsize=0.5 penwidth=0.5]\n\t680250064134282809 [label=\"NDArrayCompat.to_ndarray\" id=680250064134282809]\n\t680250064134282809 -> 5593707570515573442 [id=\"680250064134282809.args[0]\"]\n\t5593707570515573442 [label=\"NDArrayCompat.__getitem__\" id=5593707570515573442]\n\t5593707570515573442 -> 5447535458505340468 [id=\"5593707570515573442.args[0]\"]\n\t5447535458505340468 [label=\"NDArrayCompat.__add__\" id=5447535458505340468]\n\t5447535458505340468 -> 4982424794959710867 [id=\"5447535458505340468.args[0]\"]\n\t4982424794959710867 [label=arange id=4982424794959710867]\n\t4982424794959710867 -> -9031501539059790041 [id=\"4982424794959710867.args[0]\"]\n\t-9031501539059790041 [label=100 id=-9031501539059790041]\n\t5447535458505340468 -> 4982424794959710867 [id=\"5447535458505340468.args[1]\"]\n\t5593707570515573442 -> -9031501538954785116 [id=\"5593707570515573442.args[1]\"]\n\t-9031501538954785116 [label=5 id=-9031501538954785116]\n}",
         "label": null,
         "rule": "metadsl_core.numpy.NDArrayCompat.__getitem__"
        },
        {
         "graph": "digraph {\n\tnode [shape=plain]\n\tedge [arrowsize=0.5 penwidth=0.5]\n\t680250064134282809 [label=\"NDArrayCompat.to_ndarray\" id=680250064134282809]\n\t680250064134282809 -> 5593707570515573442 [id=\"680250064134282809.args[0]\"]\n\t5593707570515573442 [label=\"NDArrayCompat.__getitem__\" id=5593707570515573442]\n\t5593707570515573442 -> 5447535458505340468 [id=\"5593707570515573442.args[0]\"]\n\t5447535458505340468 [label=\"NDArrayCompat.__add__\" id=5447535458505340468]\n\t5447535458505340468 -> 4982424794959710867 [id=\"5447535458505340468.args[0]\"]\n\t4982424794959710867 [label=arange id=4982424794959710867]\n\t4982424794959710867 -> -9031501539059790041 [id=\"4982424794959710867.args[0]\"]\n\t-9031501539059790041 [label=100 id=-9031501539059790041]\n\t5447535458505340468 -> 4982424794959710867 [id=\"5447535458505340468.args[1]\"]\n\t5593707570515573442 -> -9031501538954785116 [id=\"5593707570515573442.args[1]\"]\n\t-9031501538954785116 [label=5 id=-9031501538954785116]\n}",
         "label": null,
         "rule": "metadsl_core.numpy.NDArrayCompat.__getitem__"
        },
        {
         "graph": "digraph {\n\tnode [shape=plain]\n\tedge [arrowsize=0.5 penwidth=0.5]\n\t680250064134282809 [label=\"NDArrayCompat.to_ndarray\" id=680250064134282809]\n\t680250064134282809 -> 5593707570515573442 [id=\"680250064134282809.args[0]\"]\n\t5593707570515573442 [label=\"NDArrayCompat.__getitem__\" id=5593707570515573442]\n\t5593707570515573442 -> 5447535458505340468 [id=\"5593707570515573442.args[0]\"]\n\t5447535458505340468 [label=\"NDArrayCompat.__add__\" id=5447535458505340468]\n\t5447535458505340468 -> 4982424794959710867 [id=\"5447535458505340468.args[0]\"]\n\t4982424794959710867 [label=arange id=4982424794959710867]\n\t4982424794959710867 -> -9031501539059790041 [id=\"4982424794959710867.args[0]\"]\n\t-9031501539059790041 [label=100 id=-9031501539059790041]\n\t5447535458505340468 -> 4982424794959710867 [id=\"5447535458505340468.args[1]\"]\n\t5593707570515573442 -> -9031501538954785116 [id=\"5593707570515573442.args[1]\"]\n\t-9031501538954785116 [label=5 id=-9031501538954785116]\n}",
         "label": null,
         "rule": "metadsl_core.numpy.NDArrayCompat.__getitem__"
        },
        {
         "graph": "digraph {\n\tnode [shape=plain]\n\tedge [arrowsize=0.5 penwidth=0.5]\n\t680250064134282809 [label=\"NDArrayCompat.to_ndarray\" id=680250064134282809]\n\t680250064134282809 -> 5593707570515573442 [id=\"680250064134282809.args[0]\"]\n\t5593707570515573442 [label=\"NDArrayCompat.__getitem__\" id=5593707570515573442]\n\t5593707570515573442 -> 5447535458505340468 [id=\"5593707570515573442.args[0]\"]\n\t5447535458505340468 [label=\"NDArrayCompat.__add__\" id=5447535458505340468]\n\t5447535458505340468 -> 4982424794959710867 [id=\"5447535458505340468.args[0]\"]\n\t4982424794959710867 [label=arange id=4982424794959710867]\n\t4982424794959710867 -> -9031501539059790041 [id=\"4982424794959710867.args[0]\"]\n\t-9031501539059790041 [label=100 id=-9031501539059790041]\n\t5447535458505340468 -> 4982424794959710867 [id=\"5447535458505340468.args[1]\"]\n\t5593707570515573442 -> -9031501538954785116 [id=\"5593707570515573442.args[1]\"]\n\t-9031501538954785116 [label=5 id=-9031501538954785116]\n}",
         "label": null,
         "rule": "metadsl_core.numpy.NDArrayCompat.__getitem__"
        },
        {
         "graph": "digraph {\n\tnode [shape=plain]\n\tedge [arrowsize=0.5 penwidth=0.5]\n\t680250064134282809 [label=\"NDArrayCompat.to_ndarray\" id=680250064134282809]\n\t680250064134282809 -> 5593707570515573442 [id=\"680250064134282809.args[0]\"]\n\t5593707570515573442 [label=\"NDArrayCompat.__getitem__\" id=5593707570515573442]\n\t5593707570515573442 -> 5447535458505340468 [id=\"5593707570515573442.args[0]\"]\n\t5447535458505340468 [label=\"NDArrayCompat.__add__\" id=5447535458505340468]\n\t5447535458505340468 -> 4982424794959710867 [id=\"5447535458505340468.args[0]\"]\n\t4982424794959710867 [label=arange id=4982424794959710867]\n\t4982424794959710867 -> -9031501539059790041 [id=\"4982424794959710867.args[0]\"]\n\t-9031501539059790041 [label=100 id=-9031501539059790041]\n\t5447535458505340468 -> 4982424794959710867 [id=\"5447535458505340468.args[1]\"]\n\t5593707570515573442 -> -9031501538954785116 [id=\"5593707570515573442.args[1]\"]\n\t-9031501538954785116 [label=5 id=-9031501538954785116]\n}",
         "label": null,
         "rule": "metadsl_core.numpy.NDArrayCompat.__getitem__"
        },
        {
         "graph": "digraph {\n\tnode [shape=plain]\n\tedge [arrowsize=0.5 penwidth=0.5]\n\t680250064134282809 [label=\"NDArrayCompat.to_ndarray\" id=680250064134282809]\n\t680250064134282809 -> 5593707570515573442 [id=\"680250064134282809.args[0]\"]\n\t5593707570515573442 [label=\"NDArrayCompat.__getitem__\" id=5593707570515573442]\n\t5593707570515573442 -> 5447535458505340468 [id=\"5593707570515573442.args[0]\"]\n\t5447535458505340468 [label=\"NDArrayCompat.__add__\" id=5447535458505340468]\n\t5447535458505340468 -> 4982424794959710867 [id=\"5447535458505340468.args[0]\"]\n\t4982424794959710867 [label=arange id=4982424794959710867]\n\t4982424794959710867 -> -9031501539059790041 [id=\"4982424794959710867.args[0]\"]\n\t-9031501539059790041 [label=100 id=-9031501539059790041]\n\t5447535458505340468 -> 4982424794959710867 [id=\"5447535458505340468.args[1]\"]\n\t5593707570515573442 -> -9031501538954785116 [id=\"5593707570515573442.args[1]\"]\n\t-9031501538954785116 [label=5 id=-9031501538954785116]\n}",
         "label": null,
         "rule": "metadsl_core.numpy.NDArrayCompat.__getitem__"
        },
        {
         "graph": "digraph {\n\tnode [shape=plain]\n\tedge [arrowsize=0.5 penwidth=0.5]\n\t680250064134282809 [label=\"NDArrayCompat.to_ndarray\" id=680250064134282809]\n\t680250064134282809 -> 5593707570515573442 [id=\"680250064134282809.args[0]\"]\n\t5593707570515573442 [label=\"NDArrayCompat.__getitem__\" id=5593707570515573442]\n\t5593707570515573442 -> 5447535458505340468 [id=\"5593707570515573442.args[0]\"]\n\t5447535458505340468 [label=\"NDArrayCompat.__add__\" id=5447535458505340468]\n\t5447535458505340468 -> 4982424794959710867 [id=\"5447535458505340468.args[0]\"]\n\t4982424794959710867 [label=arange id=4982424794959710867]\n\t4982424794959710867 -> -9031501539059790041 [id=\"4982424794959710867.args[0]\"]\n\t-9031501539059790041 [label=100 id=-9031501539059790041]\n\t5447535458505340468 -> 4982424794959710867 [id=\"5447535458505340468.args[1]\"]\n\t5593707570515573442 -> -9031501538954785116 [id=\"5593707570515573442.args[1]\"]\n\t-9031501538954785116 [label=5 id=-9031501538954785116]\n}",
         "label": null,
         "rule": "metadsl_core.numpy.NDArrayCompat.__getitem__"
        },
        {
         "graph": "digraph {\n\tnode [shape=plain]\n\tedge [arrowsize=0.5 penwidth=0.5]\n\t680250064134282809 [label=\"NDArrayCompat.to_ndarray\" id=680250064134282809]\n\t680250064134282809 -> 5593707570515573442 [id=\"680250064134282809.args[0]\"]\n\t5593707570515573442 [label=\"NDArrayCompat.__getitem__\" id=5593707570515573442]\n\t5593707570515573442 -> 5447535458505340468 [id=\"5593707570515573442.args[0]\"]\n\t5447535458505340468 [label=\"NDArrayCompat.__add__\" id=5447535458505340468]\n\t5447535458505340468 -> 4982424794959710867 [id=\"5447535458505340468.args[0]\"]\n\t4982424794959710867 [label=arange id=4982424794959710867]\n\t4982424794959710867 -> -9031501539059790041 [id=\"4982424794959710867.args[0]\"]\n\t-9031501539059790041 [label=100 id=-9031501539059790041]\n\t5447535458505340468 -> 4982424794959710867 [id=\"5447535458505340468.args[1]\"]\n\t5593707570515573442 -> -9031501538954785116 [id=\"5593707570515573442.args[1]\"]\n\t-9031501538954785116 [label=5 id=-9031501538954785116]\n}",
         "label": null,
         "rule": "metadsl_core.numpy.NDArrayCompat.__getitem__"
        },
        {
         "graph": "digraph {\n\tnode [shape=plain]\n\tedge [arrowsize=0.5 penwidth=0.5]\n\t680250064134282809 [label=\"NDArrayCompat.to_ndarray\" id=680250064134282809]\n\t680250064134282809 -> 5593707570515573442 [id=\"680250064134282809.args[0]\"]\n\t5593707570515573442 [label=\"NDArrayCompat.__getitem__\" id=5593707570515573442]\n\t5593707570515573442 -> 5447535458505340468 [id=\"5593707570515573442.args[0]\"]\n\t5447535458505340468 [label=\"NDArrayCompat.__add__\" id=5447535458505340468]\n\t5447535458505340468 -> 4982424794959710867 [id=\"5447535458505340468.args[0]\"]\n\t4982424794959710867 [label=arange id=4982424794959710867]\n\t4982424794959710867 -> -9031501539059790041 [id=\"4982424794959710867.args[0]\"]\n\t-9031501539059790041 [label=100 id=-9031501539059790041]\n\t5447535458505340468 -> 4982424794959710867 [id=\"5447535458505340468.args[1]\"]\n\t5593707570515573442 -> -9031501538954785116 [id=\"5593707570515573442.args[1]\"]\n\t-9031501538954785116 [label=5 id=-9031501538954785116]\n}",
         "label": null,
         "rule": "metadsl_core.numpy.NDArrayCompat.__getitem__"
        },
        {
         "graph": "digraph {\n\tnode [shape=plain]\n\tedge [arrowsize=0.5 penwidth=0.5]\n\t680250064134282809 [label=\"NDArrayCompat.to_ndarray\" id=680250064134282809]\n\t680250064134282809 -> 5593707570515573442 [id=\"680250064134282809.args[0]\"]\n\t5593707570515573442 [label=\"NDArrayCompat.__getitem__\" id=5593707570515573442]\n\t5593707570515573442 -> 5447535458505340468 [id=\"5593707570515573442.args[0]\"]\n\t5447535458505340468 [label=\"NDArrayCompat.__add__\" id=5447535458505340468]\n\t5447535458505340468 -> 4982424794959710867 [id=\"5447535458505340468.args[0]\"]\n\t4982424794959710867 [label=arange id=4982424794959710867]\n\t4982424794959710867 -> -9031501539059790041 [id=\"4982424794959710867.args[0]\"]\n\t-9031501539059790041 [label=100 id=-9031501539059790041]\n\t5447535458505340468 -> 4982424794959710867 [id=\"5447535458505340468.args[1]\"]\n\t5593707570515573442 -> -9031501538954785116 [id=\"5593707570515573442.args[1]\"]\n\t-9031501538954785116 [label=5 id=-9031501538954785116]\n}",
         "label": null,
         "rule": "metadsl_core.numpy.NDArrayCompat.__getitem__"
        },
        {
         "graph": "digraph {\n\tnode [shape=plain]\n\tedge [arrowsize=0.5 penwidth=0.5]\n\t680250064134282809 [label=\"NDArrayCompat.to_ndarray\" id=680250064134282809]\n\t680250064134282809 -> 5593707570515573442 [id=\"680250064134282809.args[0]\"]\n\t5593707570515573442 [label=\"NDArrayCompat.__getitem__\" id=5593707570515573442]\n\t5593707570515573442 -> 5447535458505340468 [id=\"5593707570515573442.args[0]\"]\n\t5447535458505340468 [label=\"NDArrayCompat.__add__\" id=5447535458505340468]\n\t5447535458505340468 -> 4982424794959710867 [id=\"5447535458505340468.args[0]\"]\n\t4982424794959710867 [label=arange id=4982424794959710867]\n\t4982424794959710867 -> -9031501539059790041 [id=\"4982424794959710867.args[0]\"]\n\t-9031501539059790041 [label=100 id=-9031501539059790041]\n\t5447535458505340468 -> 4982424794959710867 [id=\"5447535458505340468.args[1]\"]\n\t5593707570515573442 -> -9031501538954785116 [id=\"5593707570515573442.args[1]\"]\n\t-9031501538954785116 [label=5 id=-9031501538954785116]\n}",
         "label": null,
         "rule": "metadsl_core.numpy.NDArrayCompat.__getitem__"
        },
        {
         "graph": "digraph {\n\tnode [shape=plain]\n\tedge [arrowsize=0.5 penwidth=0.5]\n\t680250064134282809 [label=\"NDArrayCompat.to_ndarray\" id=680250064134282809]\n\t680250064134282809 -> 5593707570515573442 [id=\"680250064134282809.args[0]\"]\n\t5593707570515573442 [label=\"NDArrayCompat.__getitem__\" id=5593707570515573442]\n\t5593707570515573442 -> 5447535458505340468 [id=\"5593707570515573442.args[0]\"]\n\t5447535458505340468 [label=\"NDArrayCompat.__add__\" id=5447535458505340468]\n\t5447535458505340468 -> 4982424794959710867 [id=\"5447535458505340468.args[0]\"]\n\t4982424794959710867 [label=arange id=4982424794959710867]\n\t4982424794959710867 -> -9031501539059790041 [id=\"4982424794959710867.args[0]\"]\n\t-9031501539059790041 [label=100 id=-9031501539059790041]\n\t5447535458505340468 -> 4982424794959710867 [id=\"5447535458505340468.args[1]\"]\n\t5593707570515573442 -> -9031501538954785116 [id=\"5593707570515573442.args[1]\"]\n\t-9031501538954785116 [label=5 id=-9031501538954785116]\n}",
         "label": null,
         "rule": "metadsl_core.numpy.NDArrayCompat.__getitem__"
        },
        {
         "graph": "digraph {\n\tnode [shape=plain]\n\tedge [arrowsize=0.5 penwidth=0.5]\n\t680250064134282809 [label=\"NDArrayCompat.to_ndarray\" id=680250064134282809]\n\t680250064134282809 -> 5593707570515573442 [id=\"680250064134282809.args[0]\"]\n\t5593707570515573442 [label=\"NDArrayCompat.__getitem__\" id=5593707570515573442]\n\t5593707570515573442 -> 5447535458505340468 [id=\"5593707570515573442.args[0]\"]\n\t5447535458505340468 [label=\"NDArrayCompat.__add__\" id=5447535458505340468]\n\t5447535458505340468 -> 4982424794959710867 [id=\"5447535458505340468.args[0]\"]\n\t4982424794959710867 [label=arange id=4982424794959710867]\n\t4982424794959710867 -> -9031501539059790041 [id=\"4982424794959710867.args[0]\"]\n\t-9031501539059790041 [label=100 id=-9031501539059790041]\n\t5447535458505340468 -> 4982424794959710867 [id=\"5447535458505340468.args[1]\"]\n\t5593707570515573442 -> -9031501538954785116 [id=\"5593707570515573442.args[1]\"]\n\t-9031501538954785116 [label=5 id=-9031501538954785116]\n}",
         "label": null,
         "rule": "metadsl_core.numpy.NDArrayCompat.__getitem__"
        },
        {
         "graph": "digraph {\n\tnode [shape=plain]\n\tedge [arrowsize=0.5 penwidth=0.5]\n\t680250064134282809 [label=\"NDArrayCompat.to_ndarray\" id=680250064134282809]\n\t680250064134282809 -> 5593707570515573442 [id=\"680250064134282809.args[0]\"]\n\t5593707570515573442 [label=\"NDArrayCompat.__getitem__\" id=5593707570515573442]\n\t5593707570515573442 -> 5447535458505340468 [id=\"5593707570515573442.args[0]\"]\n\t5447535458505340468 [label=\"NDArrayCompat.__add__\" id=5447535458505340468]\n\t5447535458505340468 -> 4982424794959710867 [id=\"5447535458505340468.args[0]\"]\n\t4982424794959710867 [label=arange id=4982424794959710867]\n\t4982424794959710867 -> -9031501539059790041 [id=\"4982424794959710867.args[0]\"]\n\t-9031501539059790041 [label=100 id=-9031501539059790041]\n\t5447535458505340468 -> 4982424794959710867 [id=\"5447535458505340468.args[1]\"]\n\t5593707570515573442 -> -9031501538954785116 [id=\"5593707570515573442.args[1]\"]\n\t-9031501538954785116 [label=5 id=-9031501538954785116]\n}",
         "label": null,
         "rule": "metadsl_core.numpy.NDArrayCompat.__getitem__"
        },
        {
         "graph": "digraph {\n\tnode [shape=plain]\n\tedge [arrowsize=0.5 penwidth=0.5]\n\t680250064134282809 [label=\"NDArrayCompat.to_ndarray\" id=680250064134282809]\n\t680250064134282809 -> 5593707570515573442 [id=\"680250064134282809.args[0]\"]\n\t5593707570515573442 [label=\"NDArrayCompat.__getitem__\" id=5593707570515573442]\n\t5593707570515573442 -> 5447535458505340468 [id=\"5593707570515573442.args[0]\"]\n\t5447535458505340468 [label=\"NDArrayCompat.__add__\" id=5447535458505340468]\n\t5447535458505340468 -> 4982424794959710867 [id=\"5447535458505340468.args[0]\"]\n\t4982424794959710867 [label=arange id=4982424794959710867]\n\t4982424794959710867 -> -9031501539059790041 [id=\"4982424794959710867.args[0]\"]\n\t-9031501539059790041 [label=100 id=-9031501539059790041]\n\t5447535458505340468 -> 4982424794959710867 [id=\"5447535458505340468.args[1]\"]\n\t5593707570515573442 -> -9031501538954785116 [id=\"5593707570515573442.args[1]\"]\n\t-9031501538954785116 [label=5 id=-9031501538954785116]\n}",
         "label": null,
         "rule": "metadsl_core.numpy.NDArrayCompat.__getitem__"
        },
        {
         "graph": "digraph {\n\tnode [shape=plain]\n\tedge [arrowsize=0.5 penwidth=0.5]\n\t680250064134282809 [label=\"NDArrayCompat.to_ndarray\" id=680250064134282809]\n\t680250064134282809 -> 5593707570515573442 [id=\"680250064134282809.args[0]\"]\n\t5593707570515573442 [label=\"NDArrayCompat.__getitem__\" id=5593707570515573442]\n\t5593707570515573442 -> 5447535458505340468 [id=\"5593707570515573442.args[0]\"]\n\t5447535458505340468 [label=\"NDArrayCompat.__add__\" id=5447535458505340468]\n\t5447535458505340468 -> 4982424794959710867 [id=\"5447535458505340468.args[0]\"]\n\t4982424794959710867 [label=arange id=4982424794959710867]\n\t4982424794959710867 -> -9031501539059790041 [id=\"4982424794959710867.args[0]\"]\n\t-9031501539059790041 [label=100 id=-9031501539059790041]\n\t5447535458505340468 -> 4982424794959710867 [id=\"5447535458505340468.args[1]\"]\n\t5593707570515573442 -> -9031501538954785116 [id=\"5593707570515573442.args[1]\"]\n\t-9031501538954785116 [label=5 id=-9031501538954785116]\n}",
         "label": null,
         "rule": "metadsl_core.numpy.NDArrayCompat.__getitem__"
        },
        {
         "graph": "digraph {\n\tnode [shape=plain]\n\tedge [arrowsize=0.5 penwidth=0.5]\n\t680250064134282809 [label=\"NDArrayCompat.to_ndarray\" id=680250064134282809]\n\t680250064134282809 -> 5593707570515573442 [id=\"680250064134282809.args[0]\"]\n\t5593707570515573442 [label=\"NDArrayCompat.__getitem__\" id=5593707570515573442]\n\t5593707570515573442 -> 5447535458505340468 [id=\"5593707570515573442.args[0]\"]\n\t5447535458505340468 [label=\"NDArrayCompat.__add__\" id=5447535458505340468]\n\t5447535458505340468 -> 4982424794959710867 [id=\"5447535458505340468.args[0]\"]\n\t4982424794959710867 [label=arange id=4982424794959710867]\n\t4982424794959710867 -> -9031501539059790041 [id=\"4982424794959710867.args[0]\"]\n\t-9031501539059790041 [label=100 id=-9031501539059790041]\n\t5447535458505340468 -> 4982424794959710867 [id=\"5447535458505340468.args[1]\"]\n\t5593707570515573442 -> -9031501538954785116 [id=\"5593707570515573442.args[1]\"]\n\t-9031501538954785116 [label=5 id=-9031501538954785116]\n}",
         "label": null,
         "rule": "metadsl_core.numpy.NDArrayCompat.__getitem__"
        },
        {
         "graph": "digraph {\n\tnode [shape=plain]\n\tedge [arrowsize=0.5 penwidth=0.5]\n\t680250064134282809 [label=\"NDArrayCompat.to_ndarray\" id=680250064134282809]\n\t680250064134282809 -> 5593707570515573442 [id=\"680250064134282809.args[0]\"]\n\t5593707570515573442 [label=\"NDArrayCompat.__getitem__\" id=5593707570515573442]\n\t5593707570515573442 -> 5447535458505340468 [id=\"5593707570515573442.args[0]\"]\n\t5447535458505340468 [label=\"NDArrayCompat.__add__\" id=5447535458505340468]\n\t5447535458505340468 -> 4982424794959710867 [id=\"5447535458505340468.args[0]\"]\n\t4982424794959710867 [label=arange id=4982424794959710867]\n\t4982424794959710867 -> -9031501539059790041 [id=\"4982424794959710867.args[0]\"]\n\t-9031501539059790041 [label=100 id=-9031501539059790041]\n\t5447535458505340468 -> 4982424794959710867 [id=\"5447535458505340468.args[1]\"]\n\t5593707570515573442 -> -9031501538954785116 [id=\"5593707570515573442.args[1]\"]\n\t-9031501538954785116 [label=5 id=-9031501538954785116]\n}",
         "label": null,
         "rule": "metadsl_core.numpy.NDArrayCompat.__getitem__"
        },
        {
         "graph": "digraph {\n\tnode [shape=plain]\n\tedge [arrowsize=0.5 penwidth=0.5]\n\t680250064134282809 [label=\"NDArrayCompat.to_ndarray\" id=680250064134282809]\n\t680250064134282809 -> 5593707570515573442 [id=\"680250064134282809.args[0]\"]\n\t5593707570515573442 [label=\"NDArrayCompat.__getitem__\" id=5593707570515573442]\n\t5593707570515573442 -> 5447535458505340468 [id=\"5593707570515573442.args[0]\"]\n\t5447535458505340468 [label=\"NDArrayCompat.__add__\" id=5447535458505340468]\n\t5447535458505340468 -> 4982424794959710867 [id=\"5447535458505340468.args[0]\"]\n\t4982424794959710867 [label=arange id=4982424794959710867]\n\t4982424794959710867 -> -9031501539059790041 [id=\"4982424794959710867.args[0]\"]\n\t-9031501539059790041 [label=100 id=-9031501539059790041]\n\t5447535458505340468 -> 4982424794959710867 [id=\"5447535458505340468.args[1]\"]\n\t5593707570515573442 -> -9031501538954785116 [id=\"5593707570515573442.args[1]\"]\n\t-9031501538954785116 [label=5 id=-9031501538954785116]\n}",
         "label": null,
         "rule": "metadsl_core.numpy.NDArrayCompat.__getitem__"
        },
        {
         "graph": "digraph {\n\tnode [shape=plain]\n\tedge [arrowsize=0.5 penwidth=0.5]\n\t680250064134282809 [label=\"NDArrayCompat.to_ndarray\" id=680250064134282809]\n\t680250064134282809 -> 5593707570515573442 [id=\"680250064134282809.args[0]\"]\n\t5593707570515573442 [label=\"NDArrayCompat.__getitem__\" id=5593707570515573442]\n\t5593707570515573442 -> 5447535458505340468 [id=\"5593707570515573442.args[0]\"]\n\t5447535458505340468 [label=\"NDArrayCompat.__add__\" id=5447535458505340468]\n\t5447535458505340468 -> 4982424794959710867 [id=\"5447535458505340468.args[0]\"]\n\t4982424794959710867 [label=arange id=4982424794959710867]\n\t4982424794959710867 -> -9031501539059790041 [id=\"4982424794959710867.args[0]\"]\n\t-9031501539059790041 [label=100 id=-9031501539059790041]\n\t5447535458505340468 -> 4982424794959710867 [id=\"5447535458505340468.args[1]\"]\n\t5593707570515573442 -> -9031501538954785116 [id=\"5593707570515573442.args[1]\"]\n\t-9031501538954785116 [label=5 id=-9031501538954785116]\n}",
         "label": null,
         "rule": "metadsl_core.numpy.NDArrayCompat.__getitem__"
        },
        {
         "graph": "digraph {\n\tnode [shape=plain]\n\tedge [arrowsize=0.5 penwidth=0.5]\n\t680250064134282809 [label=\"NDArrayCompat.to_ndarray\" id=680250064134282809]\n\t680250064134282809 -> 5593707570515573442 [id=\"680250064134282809.args[0]\"]\n\t5593707570515573442 [label=\"NDArrayCompat.__getitem__\" id=5593707570515573442]\n\t5593707570515573442 -> 5447535458505340468 [id=\"5593707570515573442.args[0]\"]\n\t5447535458505340468 [label=\"NDArrayCompat.__add__\" id=5447535458505340468]\n\t5447535458505340468 -> 4982424794959710867 [id=\"5447535458505340468.args[0]\"]\n\t4982424794959710867 [label=arange id=4982424794959710867]\n\t4982424794959710867 -> -9031501539059790041 [id=\"4982424794959710867.args[0]\"]\n\t-9031501539059790041 [label=100 id=-9031501539059790041]\n\t5447535458505340468 -> 4982424794959710867 [id=\"5447535458505340468.args[1]\"]\n\t5593707570515573442 -> -9031501538954785116 [id=\"5593707570515573442.args[1]\"]\n\t-9031501538954785116 [label=5 id=-9031501538954785116]\n}",
         "label": null,
         "rule": "metadsl_core.numpy.NDArrayCompat.__getitem__"
        },
        {
         "graph": "digraph {\n\tnode [shape=plain]\n\tedge [arrowsize=0.5 penwidth=0.5]\n\t680250064134282809 [label=\"NDArrayCompat.to_ndarray\" id=680250064134282809]\n\t680250064134282809 -> 5593707570515573442 [id=\"680250064134282809.args[0]\"]\n\t5593707570515573442 [label=\"NDArrayCompat.__getitem__\" id=5593707570515573442]\n\t5593707570515573442 -> 5447535458505340468 [id=\"5593707570515573442.args[0]\"]\n\t5447535458505340468 [label=\"NDArrayCompat.__add__\" id=5447535458505340468]\n\t5447535458505340468 -> 4982424794959710867 [id=\"5447535458505340468.args[0]\"]\n\t4982424794959710867 [label=arange id=4982424794959710867]\n\t4982424794959710867 -> -9031501539059790041 [id=\"4982424794959710867.args[0]\"]\n\t-9031501539059790041 [label=100 id=-9031501539059790041]\n\t5447535458505340468 -> 4982424794959710867 [id=\"5447535458505340468.args[1]\"]\n\t5593707570515573442 -> -9031501538954785116 [id=\"5593707570515573442.args[1]\"]\n\t-9031501538954785116 [label=5 id=-9031501538954785116]\n}",
         "label": null,
         "rule": "metadsl_core.numpy.NDArrayCompat.__getitem__"
        },
        {
         "graph": "digraph {\n\tnode [shape=plain]\n\tedge [arrowsize=0.5 penwidth=0.5]\n\t680250064134282809 [label=\"NDArrayCompat.to_ndarray\" id=680250064134282809]\n\t680250064134282809 -> 5593707570515573442 [id=\"680250064134282809.args[0]\"]\n\t5593707570515573442 [label=\"NDArrayCompat.__getitem__\" id=5593707570515573442]\n\t5593707570515573442 -> 5447535458505340468 [id=\"5593707570515573442.args[0]\"]\n\t5447535458505340468 [label=\"NDArrayCompat.__add__\" id=5447535458505340468]\n\t5447535458505340468 -> 4982424794959710867 [id=\"5447535458505340468.args[0]\"]\n\t4982424794959710867 [label=arange id=4982424794959710867]\n\t4982424794959710867 -> -9031501539059790041 [id=\"4982424794959710867.args[0]\"]\n\t-9031501539059790041 [label=100 id=-9031501539059790041]\n\t5447535458505340468 -> 4982424794959710867 [id=\"5447535458505340468.args[1]\"]\n\t5593707570515573442 -> -9031501538954785116 [id=\"5593707570515573442.args[1]\"]\n\t-9031501538954785116 [label=5 id=-9031501538954785116]\n}",
         "label": null,
         "rule": "metadsl_core.numpy.NDArrayCompat.__getitem__"
        },
        {
         "graph": "digraph {\n\tnode [shape=plain]\n\tedge [arrowsize=0.5 penwidth=0.5]\n\t680250064134282809 [label=\"NDArrayCompat.to_ndarray\" id=680250064134282809]\n\t680250064134282809 -> 5593707570515573442 [id=\"680250064134282809.args[0]\"]\n\t5593707570515573442 [label=\"NDArrayCompat.__getitem__\" id=5593707570515573442]\n\t5593707570515573442 -> 5447535458505340468 [id=\"5593707570515573442.args[0]\"]\n\t5447535458505340468 [label=\"NDArrayCompat.__add__\" id=5447535458505340468]\n\t5447535458505340468 -> 4982424794959710867 [id=\"5447535458505340468.args[0]\"]\n\t4982424794959710867 [label=arange id=4982424794959710867]\n\t4982424794959710867 -> -9031501539059790041 [id=\"4982424794959710867.args[0]\"]\n\t-9031501539059790041 [label=100 id=-9031501539059790041]\n\t5447535458505340468 -> 4982424794959710867 [id=\"5447535458505340468.args[1]\"]\n\t5593707570515573442 -> -9031501538954785116 [id=\"5593707570515573442.args[1]\"]\n\t-9031501538954785116 [label=5 id=-9031501538954785116]\n}",
         "label": null,
         "rule": "metadsl_core.numpy.NDArrayCompat.__getitem__"
        },
        {
         "graph": "digraph {\n\tnode [shape=plain]\n\tedge [arrowsize=0.5 penwidth=0.5]\n\t680250064134282809 [label=\"NDArrayCompat.to_ndarray\" id=680250064134282809]\n\t680250064134282809 -> 5593707570515573442 [id=\"680250064134282809.args[0]\"]\n\t5593707570515573442 [label=\"NDArrayCompat.__getitem__\" id=5593707570515573442]\n\t5593707570515573442 -> 5447535458505340468 [id=\"5593707570515573442.args[0]\"]\n\t5447535458505340468 [label=\"NDArrayCompat.__add__\" id=5447535458505340468]\n\t5447535458505340468 -> 4982424794959710867 [id=\"5447535458505340468.args[0]\"]\n\t4982424794959710867 [label=arange id=4982424794959710867]\n\t4982424794959710867 -> -9031501539059790041 [id=\"4982424794959710867.args[0]\"]\n\t-9031501539059790041 [label=100 id=-9031501539059790041]\n\t5447535458505340468 -> 4982424794959710867 [id=\"5447535458505340468.args[1]\"]\n\t5593707570515573442 -> -9031501538954785116 [id=\"5593707570515573442.args[1]\"]\n\t-9031501538954785116 [label=5 id=-9031501538954785116]\n}",
         "label": null,
         "rule": "metadsl_core.numpy.NDArrayCompat.__getitem__"
        },
        {
         "graph": "digraph {\n\tnode [shape=plain]\n\tedge [arrowsize=0.5 penwidth=0.5]\n\t680250064134282809 [label=\"NDArrayCompat.to_ndarray\" id=680250064134282809]\n\t680250064134282809 -> 5593707570515573442 [id=\"680250064134282809.args[0]\"]\n\t5593707570515573442 [label=\"NDArrayCompat.__getitem__\" id=5593707570515573442]\n\t5593707570515573442 -> 5447535458505340468 [id=\"5593707570515573442.args[0]\"]\n\t5447535458505340468 [label=\"NDArrayCompat.__add__\" id=5447535458505340468]\n\t5447535458505340468 -> 4982424794959710867 [id=\"5447535458505340468.args[0]\"]\n\t4982424794959710867 [label=arange id=4982424794959710867]\n\t4982424794959710867 -> -9031501539059790041 [id=\"4982424794959710867.args[0]\"]\n\t-9031501539059790041 [label=100 id=-9031501539059790041]\n\t5447535458505340468 -> 4982424794959710867 [id=\"5447535458505340468.args[1]\"]\n\t5593707570515573442 -> -9031501538954785116 [id=\"5593707570515573442.args[1]\"]\n\t-9031501538954785116 [label=5 id=-9031501538954785116]\n}",
         "label": null,
         "rule": "metadsl_core.numpy.NDArrayCompat.__getitem__"
        },
        {
         "graph": "digraph {\n\tnode [shape=plain]\n\tedge [arrowsize=0.5 penwidth=0.5]\n\t680250064134282809 [label=\"NDArrayCompat.to_ndarray\" id=680250064134282809]\n\t680250064134282809 -> 5593707570515573442 [id=\"680250064134282809.args[0]\"]\n\t5593707570515573442 [label=\"NDArrayCompat.__getitem__\" id=5593707570515573442]\n\t5593707570515573442 -> 5447535458505340468 [id=\"5593707570515573442.args[0]\"]\n\t5447535458505340468 [label=\"NDArrayCompat.__add__\" id=5447535458505340468]\n\t5447535458505340468 -> 4982424794959710867 [id=\"5447535458505340468.args[0]\"]\n\t4982424794959710867 [label=arange id=4982424794959710867]\n\t4982424794959710867 -> -9031501539059790041 [id=\"4982424794959710867.args[0]\"]\n\t-9031501539059790041 [label=100 id=-9031501539059790041]\n\t5447535458505340468 -> 4982424794959710867 [id=\"5447535458505340468.args[1]\"]\n\t5593707570515573442 -> -9031501538954785116 [id=\"5593707570515573442.args[1]\"]\n\t-9031501538954785116 [label=5 id=-9031501538954785116]\n}",
         "label": null,
         "rule": "metadsl_core.numpy.NDArrayCompat.__getitem__"
        },
        {
         "graph": "digraph {\n\tnode [shape=plain]\n\tedge [arrowsize=0.5 penwidth=0.5]\n\t680250064134282809 [label=\"NDArrayCompat.to_ndarray\" id=680250064134282809]\n\t680250064134282809 -> 5593707570515573442 [id=\"680250064134282809.args[0]\"]\n\t5593707570515573442 [label=\"NDArrayCompat.__getitem__\" id=5593707570515573442]\n\t5593707570515573442 -> 5447535458505340468 [id=\"5593707570515573442.args[0]\"]\n\t5447535458505340468 [label=\"NDArrayCompat.__add__\" id=5447535458505340468]\n\t5447535458505340468 -> 4982424794959710867 [id=\"5447535458505340468.args[0]\"]\n\t4982424794959710867 [label=arange id=4982424794959710867]\n\t4982424794959710867 -> -9031501539059790041 [id=\"4982424794959710867.args[0]\"]\n\t-9031501539059790041 [label=100 id=-9031501539059790041]\n\t5447535458505340468 -> 4982424794959710867 [id=\"5447535458505340468.args[1]\"]\n\t5593707570515573442 -> -9031501538954785116 [id=\"5593707570515573442.args[1]\"]\n\t-9031501538954785116 [label=5 id=-9031501538954785116]\n}",
         "label": null,
         "rule": "metadsl_core.numpy.NDArrayCompat.__getitem__"
        },
        {
         "graph": "digraph {\n\tnode [shape=plain]\n\tedge [arrowsize=0.5 penwidth=0.5]\n\t680250064134282809 [label=\"NDArrayCompat.to_ndarray\" id=680250064134282809]\n\t680250064134282809 -> 5593707570515573442 [id=\"680250064134282809.args[0]\"]\n\t5593707570515573442 [label=\"NDArrayCompat.__getitem__\" id=5593707570515573442]\n\t5593707570515573442 -> 5447535458505340468 [id=\"5593707570515573442.args[0]\"]\n\t5447535458505340468 [label=\"NDArrayCompat.__add__\" id=5447535458505340468]\n\t5447535458505340468 -> 4982424794959710867 [id=\"5447535458505340468.args[0]\"]\n\t4982424794959710867 [label=arange id=4982424794959710867]\n\t4982424794959710867 -> -9031501539059790041 [id=\"4982424794959710867.args[0]\"]\n\t-9031501539059790041 [label=100 id=-9031501539059790041]\n\t5447535458505340468 -> 4982424794959710867 [id=\"5447535458505340468.args[1]\"]\n\t5593707570515573442 -> -9031501538954785116 [id=\"5593707570515573442.args[1]\"]\n\t-9031501538954785116 [label=5 id=-9031501538954785116]\n}",
         "label": null,
         "rule": "metadsl_core.numpy.NDArrayCompat.__getitem__"
        },
        {
         "graph": "digraph {\n\tnode [shape=plain]\n\tedge [arrowsize=0.5 penwidth=0.5]\n\t680250064134282809 [label=\"NDArrayCompat.to_ndarray\" id=680250064134282809]\n\t680250064134282809 -> 5593707570515573442 [id=\"680250064134282809.args[0]\"]\n\t5593707570515573442 [label=\"NDArrayCompat.__getitem__\" id=5593707570515573442]\n\t5593707570515573442 -> 5447535458505340468 [id=\"5593707570515573442.args[0]\"]\n\t5447535458505340468 [label=\"NDArrayCompat.__add__\" id=5447535458505340468]\n\t5447535458505340468 -> 4982424794959710867 [id=\"5447535458505340468.args[0]\"]\n\t4982424794959710867 [label=arange id=4982424794959710867]\n\t4982424794959710867 -> -9031501539059790041 [id=\"4982424794959710867.args[0]\"]\n\t-9031501539059790041 [label=100 id=-9031501539059790041]\n\t5447535458505340468 -> 4982424794959710867 [id=\"5447535458505340468.args[1]\"]\n\t5593707570515573442 -> -9031501538954785116 [id=\"5593707570515573442.args[1]\"]\n\t-9031501538954785116 [label=5 id=-9031501538954785116]\n}",
         "label": null,
         "rule": "metadsl_core.numpy.NDArrayCompat.__getitem__"
        },
        {
         "graph": "digraph {\n\tnode [shape=plain]\n\tedge [arrowsize=0.5 penwidth=0.5]\n\t680250064134282809 [label=\"NDArrayCompat.to_ndarray\" id=680250064134282809]\n\t680250064134282809 -> 5593707570515573442 [id=\"680250064134282809.args[0]\"]\n\t5593707570515573442 [label=\"NDArrayCompat.__getitem__\" id=5593707570515573442]\n\t5593707570515573442 -> 5447535458505340468 [id=\"5593707570515573442.args[0]\"]\n\t5447535458505340468 [label=\"NDArrayCompat.__add__\" id=5447535458505340468]\n\t5447535458505340468 -> 4982424794959710867 [id=\"5447535458505340468.args[0]\"]\n\t4982424794959710867 [label=arange id=4982424794959710867]\n\t4982424794959710867 -> -9031501539059790041 [id=\"4982424794959710867.args[0]\"]\n\t-9031501539059790041 [label=100 id=-9031501539059790041]\n\t5447535458505340468 -> 4982424794959710867 [id=\"5447535458505340468.args[1]\"]\n\t5593707570515573442 -> -9031501538954785116 [id=\"5593707570515573442.args[1]\"]\n\t-9031501538954785116 [label=5 id=-9031501538954785116]\n}",
         "label": null,
         "rule": "metadsl_core.numpy.NDArrayCompat.__getitem__"
        },
        {
         "graph": "digraph {\n\tnode [shape=plain]\n\tedge [arrowsize=0.5 penwidth=0.5]\n\t680250064134282809 [label=\"NDArrayCompat.to_ndarray\" id=680250064134282809]\n\t680250064134282809 -> 5593707570515573442 [id=\"680250064134282809.args[0]\"]\n\t5593707570515573442 [label=\"NDArrayCompat.__getitem__\" id=5593707570515573442]\n\t5593707570515573442 -> 5447535458505340468 [id=\"5593707570515573442.args[0]\"]\n\t5447535458505340468 [label=\"NDArrayCompat.__add__\" id=5447535458505340468]\n\t5447535458505340468 -> 4982424794959710867 [id=\"5447535458505340468.args[0]\"]\n\t4982424794959710867 [label=arange id=4982424794959710867]\n\t4982424794959710867 -> -9031501539059790041 [id=\"4982424794959710867.args[0]\"]\n\t-9031501539059790041 [label=100 id=-9031501539059790041]\n\t5447535458505340468 -> 4982424794959710867 [id=\"5447535458505340468.args[1]\"]\n\t5593707570515573442 -> -9031501538954785116 [id=\"5593707570515573442.args[1]\"]\n\t-9031501538954785116 [label=5 id=-9031501538954785116]\n}",
         "label": null,
         "rule": "metadsl_core.numpy.NDArrayCompat.__getitem__"
        },
        {
         "graph": "digraph {\n\tnode [shape=plain]\n\tedge [arrowsize=0.5 penwidth=0.5]\n\t680250064134282809 [label=\"NDArrayCompat.to_ndarray\" id=680250064134282809]\n\t680250064134282809 -> 5593707570515573442 [id=\"680250064134282809.args[0]\"]\n\t5593707570515573442 [label=\"NDArrayCompat.__getitem__\" id=5593707570515573442]\n\t5593707570515573442 -> 5447535458505340468 [id=\"5593707570515573442.args[0]\"]\n\t5447535458505340468 [label=\"NDArrayCompat.__add__\" id=5447535458505340468]\n\t5447535458505340468 -> 4982424794959710867 [id=\"5447535458505340468.args[0]\"]\n\t4982424794959710867 [label=arange id=4982424794959710867]\n\t4982424794959710867 -> -9031501539059790041 [id=\"4982424794959710867.args[0]\"]\n\t-9031501539059790041 [label=100 id=-9031501539059790041]\n\t5447535458505340468 -> 4982424794959710867 [id=\"5447535458505340468.args[1]\"]\n\t5593707570515573442 -> -9031501538954785116 [id=\"5593707570515573442.args[1]\"]\n\t-9031501538954785116 [label=5 id=-9031501538954785116]\n}",
         "label": null,
         "rule": "metadsl_core.numpy.NDArrayCompat.__getitem__"
        },
        {
         "graph": "digraph {\n\tnode [shape=plain]\n\tedge [arrowsize=0.5 penwidth=0.5]\n\t680250064134282809 [label=\"NDArrayCompat.to_ndarray\" id=680250064134282809]\n\t680250064134282809 -> 5593707570515573442 [id=\"680250064134282809.args[0]\"]\n\t5593707570515573442 [label=\"NDArrayCompat.__getitem__\" id=5593707570515573442]\n\t5593707570515573442 -> 5447535458505340468 [id=\"5593707570515573442.args[0]\"]\n\t5447535458505340468 [label=\"NDArrayCompat.__add__\" id=5447535458505340468]\n\t5447535458505340468 -> 4982424794959710867 [id=\"5447535458505340468.args[0]\"]\n\t4982424794959710867 [label=arange id=4982424794959710867]\n\t4982424794959710867 -> -9031501539059790041 [id=\"4982424794959710867.args[0]\"]\n\t-9031501539059790041 [label=100 id=-9031501539059790041]\n\t5447535458505340468 -> 4982424794959710867 [id=\"5447535458505340468.args[1]\"]\n\t5593707570515573442 -> -9031501538954785116 [id=\"5593707570515573442.args[1]\"]\n\t-9031501538954785116 [label=5 id=-9031501538954785116]\n}",
         "label": null,
         "rule": "metadsl_core.numpy.NDArrayCompat.__getitem__"
        },
        {
         "graph": "digraph {\n\tnode [shape=plain]\n\tedge [arrowsize=0.5 penwidth=0.5]\n\t680250064134282809 [label=\"NDArrayCompat.to_ndarray\" id=680250064134282809]\n\t680250064134282809 -> 5593707570515573442 [id=\"680250064134282809.args[0]\"]\n\t5593707570515573442 [label=\"NDArrayCompat.__getitem__\" id=5593707570515573442]\n\t5593707570515573442 -> 5447535458505340468 [id=\"5593707570515573442.args[0]\"]\n\t5447535458505340468 [label=\"NDArrayCompat.__add__\" id=5447535458505340468]\n\t5447535458505340468 -> 4982424794959710867 [id=\"5447535458505340468.args[0]\"]\n\t4982424794959710867 [label=arange id=4982424794959710867]\n\t4982424794959710867 -> -9031501539059790041 [id=\"4982424794959710867.args[0]\"]\n\t-9031501539059790041 [label=100 id=-9031501539059790041]\n\t5447535458505340468 -> 4982424794959710867 [id=\"5447535458505340468.args[1]\"]\n\t5593707570515573442 -> -9031501538954785116 [id=\"5593707570515573442.args[1]\"]\n\t-9031501538954785116 [label=5 id=-9031501538954785116]\n}",
         "label": null,
         "rule": "metadsl_core.numpy.NDArrayCompat.__getitem__"
        },
        {
         "graph": "digraph {\n\tnode [shape=plain]\n\tedge [arrowsize=0.5 penwidth=0.5]\n\t680250064134282809 [label=\"NDArrayCompat.to_ndarray\" id=680250064134282809]\n\t680250064134282809 -> 5593707570515573442 [id=\"680250064134282809.args[0]\"]\n\t5593707570515573442 [label=\"NDArrayCompat.__getitem__\" id=5593707570515573442]\n\t5593707570515573442 -> 5447535458505340468 [id=\"5593707570515573442.args[0]\"]\n\t5447535458505340468 [label=\"NDArrayCompat.__add__\" id=5447535458505340468]\n\t5447535458505340468 -> 4982424794959710867 [id=\"5447535458505340468.args[0]\"]\n\t4982424794959710867 [label=arange id=4982424794959710867]\n\t4982424794959710867 -> -9031501539059790041 [id=\"4982424794959710867.args[0]\"]\n\t-9031501539059790041 [label=100 id=-9031501539059790041]\n\t5447535458505340468 -> 4982424794959710867 [id=\"5447535458505340468.args[1]\"]\n\t5593707570515573442 -> -9031501538954785116 [id=\"5593707570515573442.args[1]\"]\n\t-9031501538954785116 [label=5 id=-9031501538954785116]\n}",
         "label": null,
         "rule": "metadsl_core.numpy.NDArrayCompat.__getitem__"
        },
        {
         "graph": "digraph {\n\tnode [shape=plain]\n\tedge [arrowsize=0.5 penwidth=0.5]\n\t680250064134282809 [label=\"NDArrayCompat.to_ndarray\" id=680250064134282809]\n\t680250064134282809 -> 5593707570515573442 [id=\"680250064134282809.args[0]\"]\n\t5593707570515573442 [label=\"NDArrayCompat.__getitem__\" id=5593707570515573442]\n\t5593707570515573442 -> 5447535458505340468 [id=\"5593707570515573442.args[0]\"]\n\t5447535458505340468 [label=\"NDArrayCompat.__add__\" id=5447535458505340468]\n\t5447535458505340468 -> 4982424794959710867 [id=\"5447535458505340468.args[0]\"]\n\t4982424794959710867 [label=arange id=4982424794959710867]\n\t4982424794959710867 -> -9031501539059790041 [id=\"4982424794959710867.args[0]\"]\n\t-9031501539059790041 [label=100 id=-9031501539059790041]\n\t5447535458505340468 -> 4982424794959710867 [id=\"5447535458505340468.args[1]\"]\n\t5593707570515573442 -> -9031501538954785116 [id=\"5593707570515573442.args[1]\"]\n\t-9031501538954785116 [label=5 id=-9031501538954785116]\n}",
         "label": null,
         "rule": "metadsl_core.numpy.NDArrayCompat.__getitem__"
        },
        {
         "graph": "digraph {\n\tnode [shape=plain]\n\tedge [arrowsize=0.5 penwidth=0.5]\n\t680250064134282809 [label=\"NDArrayCompat.to_ndarray\" id=680250064134282809]\n\t680250064134282809 -> 5593707570515573442 [id=\"680250064134282809.args[0]\"]\n\t5593707570515573442 [label=\"NDArrayCompat.__getitem__\" id=5593707570515573442]\n\t5593707570515573442 -> 5447535458505340468 [id=\"5593707570515573442.args[0]\"]\n\t5447535458505340468 [label=\"NDArrayCompat.__add__\" id=5447535458505340468]\n\t5447535458505340468 -> 4982424794959710867 [id=\"5447535458505340468.args[0]\"]\n\t4982424794959710867 [label=arange id=4982424794959710867]\n\t4982424794959710867 -> -9031501539059790041 [id=\"4982424794959710867.args[0]\"]\n\t-9031501539059790041 [label=100 id=-9031501539059790041]\n\t5447535458505340468 -> 4982424794959710867 [id=\"5447535458505340468.args[1]\"]\n\t5593707570515573442 -> -9031501538954785116 [id=\"5593707570515573442.args[1]\"]\n\t-9031501538954785116 [label=5 id=-9031501538954785116]\n}",
         "label": null,
         "rule": "metadsl_core.numpy.NDArrayCompat.__getitem__"
        },
        {
         "graph": "digraph {\n\tnode [shape=plain]\n\tedge [arrowsize=0.5 penwidth=0.5]\n\t680250064134282809 [label=\"NDArrayCompat.to_ndarray\" id=680250064134282809]\n\t680250064134282809 -> 5593707570515573442 [id=\"680250064134282809.args[0]\"]\n\t5593707570515573442 [label=\"NDArrayCompat.__getitem__\" id=5593707570515573442]\n\t5593707570515573442 -> 5447535458505340468 [id=\"5593707570515573442.args[0]\"]\n\t5447535458505340468 [label=\"NDArrayCompat.__add__\" id=5447535458505340468]\n\t5447535458505340468 -> 4982424794959710867 [id=\"5447535458505340468.args[0]\"]\n\t4982424794959710867 [label=arange id=4982424794959710867]\n\t4982424794959710867 -> -9031501539059790041 [id=\"4982424794959710867.args[0]\"]\n\t-9031501539059790041 [label=100 id=-9031501539059790041]\n\t5447535458505340468 -> 4982424794959710867 [id=\"5447535458505340468.args[1]\"]\n\t5593707570515573442 -> -9031501538954785116 [id=\"5593707570515573442.args[1]\"]\n\t-9031501538954785116 [label=5 id=-9031501538954785116]\n}",
         "label": null,
         "rule": "metadsl_core.numpy.NDArrayCompat.__getitem__"
        },
        {
         "graph": "digraph {\n\tnode [shape=plain]\n\tedge [arrowsize=0.5 penwidth=0.5]\n\t680250064134282809 [label=\"NDArrayCompat.to_ndarray\" id=680250064134282809]\n\t680250064134282809 -> 5593707570515573442 [id=\"680250064134282809.args[0]\"]\n\t5593707570515573442 [label=\"NDArrayCompat.__getitem__\" id=5593707570515573442]\n\t5593707570515573442 -> 5447535458505340468 [id=\"5593707570515573442.args[0]\"]\n\t5447535458505340468 [label=\"NDArrayCompat.__add__\" id=5447535458505340468]\n\t5447535458505340468 -> 4982424794959710867 [id=\"5447535458505340468.args[0]\"]\n\t4982424794959710867 [label=arange id=4982424794959710867]\n\t4982424794959710867 -> -9031501539059790041 [id=\"4982424794959710867.args[0]\"]\n\t-9031501539059790041 [label=100 id=-9031501539059790041]\n\t5447535458505340468 -> 4982424794959710867 [id=\"5447535458505340468.args[1]\"]\n\t5593707570515573442 -> -9031501538954785116 [id=\"5593707570515573442.args[1]\"]\n\t-9031501538954785116 [label=5 id=-9031501538954785116]\n}",
         "label": null,
         "rule": "metadsl_core.numpy.NDArrayCompat.__getitem__"
        },
        {
         "graph": "digraph {\n\tnode [shape=plain]\n\tedge [arrowsize=0.5 penwidth=0.5]\n\t680250064134282809 [label=\"NDArrayCompat.to_ndarray\" id=680250064134282809]\n\t680250064134282809 -> 5593707570515573442 [id=\"680250064134282809.args[0]\"]\n\t5593707570515573442 [label=\"NDArrayCompat.__getitem__\" id=5593707570515573442]\n\t5593707570515573442 -> 5447535458505340468 [id=\"5593707570515573442.args[0]\"]\n\t5447535458505340468 [label=\"NDArrayCompat.__add__\" id=5447535458505340468]\n\t5447535458505340468 -> 4982424794959710867 [id=\"5447535458505340468.args[0]\"]\n\t4982424794959710867 [label=arange id=4982424794959710867]\n\t4982424794959710867 -> -9031501539059790041 [id=\"4982424794959710867.args[0]\"]\n\t-9031501539059790041 [label=100 id=-9031501539059790041]\n\t5447535458505340468 -> 4982424794959710867 [id=\"5447535458505340468.args[1]\"]\n\t5593707570515573442 -> -9031501538954785116 [id=\"5593707570515573442.args[1]\"]\n\t-9031501538954785116 [label=5 id=-9031501538954785116]\n}",
         "label": null,
         "rule": "metadsl_core.numpy.NDArrayCompat.__getitem__"
        },
        {
         "graph": "digraph {\n\tnode [shape=plain]\n\tedge [arrowsize=0.5 penwidth=0.5]\n\t680250064134282809 [label=\"NDArrayCompat.to_ndarray\" id=680250064134282809]\n\t680250064134282809 -> 5593707570515573442 [id=\"680250064134282809.args[0]\"]\n\t5593707570515573442 [label=\"NDArrayCompat.__getitem__\" id=5593707570515573442]\n\t5593707570515573442 -> 5447535458505340468 [id=\"5593707570515573442.args[0]\"]\n\t5447535458505340468 [label=\"NDArrayCompat.__add__\" id=5447535458505340468]\n\t5447535458505340468 -> 4982424794959710867 [id=\"5447535458505340468.args[0]\"]\n\t4982424794959710867 [label=arange id=4982424794959710867]\n\t4982424794959710867 -> -9031501539059790041 [id=\"4982424794959710867.args[0]\"]\n\t-9031501539059790041 [label=100 id=-9031501539059790041]\n\t5447535458505340468 -> 4982424794959710867 [id=\"5447535458505340468.args[1]\"]\n\t5593707570515573442 -> -9031501538954785116 [id=\"5593707570515573442.args[1]\"]\n\t-9031501538954785116 [label=5 id=-9031501538954785116]\n}",
         "label": null,
         "rule": "metadsl_core.numpy.NDArrayCompat.__getitem__"
        },
        {
         "graph": "digraph {\n\tnode [shape=plain]\n\tedge [arrowsize=0.5 penwidth=0.5]\n\t680250064134282809 [label=\"NDArrayCompat.to_ndarray\" id=680250064134282809]\n\t680250064134282809 -> 5593707570515573442 [id=\"680250064134282809.args[0]\"]\n\t5593707570515573442 [label=\"NDArrayCompat.__getitem__\" id=5593707570515573442]\n\t5593707570515573442 -> 5447535458505340468 [id=\"5593707570515573442.args[0]\"]\n\t5447535458505340468 [label=\"NDArrayCompat.__add__\" id=5447535458505340468]\n\t5447535458505340468 -> 4982424794959710867 [id=\"5447535458505340468.args[0]\"]\n\t4982424794959710867 [label=arange id=4982424794959710867]\n\t4982424794959710867 -> -9031501539059790041 [id=\"4982424794959710867.args[0]\"]\n\t-9031501539059790041 [label=100 id=-9031501539059790041]\n\t5447535458505340468 -> 4982424794959710867 [id=\"5447535458505340468.args[1]\"]\n\t5593707570515573442 -> -9031501538954785116 [id=\"5593707570515573442.args[1]\"]\n\t-9031501538954785116 [label=5 id=-9031501538954785116]\n}",
         "label": null,
         "rule": "metadsl_core.numpy.NDArrayCompat.__getitem__"
        },
        {
         "graph": "digraph {\n\tnode [shape=plain]\n\tedge [arrowsize=0.5 penwidth=0.5]\n\t680250064134282809 [label=\"NDArrayCompat.to_ndarray\" id=680250064134282809]\n\t680250064134282809 -> 5593707570515573442 [id=\"680250064134282809.args[0]\"]\n\t5593707570515573442 [label=\"NDArrayCompat.__getitem__\" id=5593707570515573442]\n\t5593707570515573442 -> 5447535458505340468 [id=\"5593707570515573442.args[0]\"]\n\t5447535458505340468 [label=\"NDArrayCompat.__add__\" id=5447535458505340468]\n\t5447535458505340468 -> 4982424794959710867 [id=\"5447535458505340468.args[0]\"]\n\t4982424794959710867 [label=arange id=4982424794959710867]\n\t4982424794959710867 -> -9031501539059790041 [id=\"4982424794959710867.args[0]\"]\n\t-9031501539059790041 [label=100 id=-9031501539059790041]\n\t5447535458505340468 -> 4982424794959710867 [id=\"5447535458505340468.args[1]\"]\n\t5593707570515573442 -> -9031501538954785116 [id=\"5593707570515573442.args[1]\"]\n\t-9031501538954785116 [label=5 id=-9031501538954785116]\n}",
         "label": null,
         "rule": "metadsl_core.numpy.NDArrayCompat.__getitem__"
        },
        {
         "graph": "digraph {\n\tnode [shape=plain]\n\tedge [arrowsize=0.5 penwidth=0.5]\n\t680250064134282809 [label=\"NDArrayCompat.to_ndarray\" id=680250064134282809]\n\t680250064134282809 -> 5593707570515573442 [id=\"680250064134282809.args[0]\"]\n\t5593707570515573442 [label=\"NDArrayCompat.__getitem__\" id=5593707570515573442]\n\t5593707570515573442 -> 5447535458505340468 [id=\"5593707570515573442.args[0]\"]\n\t5447535458505340468 [label=\"NDArrayCompat.__add__\" id=5447535458505340468]\n\t5447535458505340468 -> 4982424794959710867 [id=\"5447535458505340468.args[0]\"]\n\t4982424794959710867 [label=arange id=4982424794959710867]\n\t4982424794959710867 -> -9031501539059790041 [id=\"4982424794959710867.args[0]\"]\n\t-9031501539059790041 [label=100 id=-9031501539059790041]\n\t5447535458505340468 -> 4982424794959710867 [id=\"5447535458505340468.args[1]\"]\n\t5593707570515573442 -> -9031501538954785116 [id=\"5593707570515573442.args[1]\"]\n\t-9031501538954785116 [label=5 id=-9031501538954785116]\n}",
         "label": null,
         "rule": "metadsl_core.numpy.NDArrayCompat.__getitem__"
        },
        {
         "graph": "digraph {\n\tnode [shape=plain]\n\tedge [arrowsize=0.5 penwidth=0.5]\n\t680250064134282809 [label=\"NDArrayCompat.to_ndarray\" id=680250064134282809]\n\t680250064134282809 -> 5593707570515573442 [id=\"680250064134282809.args[0]\"]\n\t5593707570515573442 [label=\"NDArrayCompat.__getitem__\" id=5593707570515573442]\n\t5593707570515573442 -> 5447535458505340468 [id=\"5593707570515573442.args[0]\"]\n\t5447535458505340468 [label=\"NDArrayCompat.__add__\" id=5447535458505340468]\n\t5447535458505340468 -> 4982424794959710867 [id=\"5447535458505340468.args[0]\"]\n\t4982424794959710867 [label=arange id=4982424794959710867]\n\t4982424794959710867 -> -9031501539059790041 [id=\"4982424794959710867.args[0]\"]\n\t-9031501539059790041 [label=100 id=-9031501539059790041]\n\t5447535458505340468 -> 4982424794959710867 [id=\"5447535458505340468.args[1]\"]\n\t5593707570515573442 -> -9031501538954785116 [id=\"5593707570515573442.args[1]\"]\n\t-9031501538954785116 [label=5 id=-9031501538954785116]\n}",
         "label": null,
         "rule": "metadsl_core.numpy.NDArrayCompat.__getitem__"
        },
        {
         "graph": "digraph {\n\tnode [shape=plain]\n\tedge [arrowsize=0.5 penwidth=0.5]\n\t680250064134282809 [label=\"NDArrayCompat.to_ndarray\" id=680250064134282809]\n\t680250064134282809 -> 5593707570515573442 [id=\"680250064134282809.args[0]\"]\n\t5593707570515573442 [label=\"NDArrayCompat.__getitem__\" id=5593707570515573442]\n\t5593707570515573442 -> 5447535458505340468 [id=\"5593707570515573442.args[0]\"]\n\t5447535458505340468 [label=\"NDArrayCompat.__add__\" id=5447535458505340468]\n\t5447535458505340468 -> 4982424794959710867 [id=\"5447535458505340468.args[0]\"]\n\t4982424794959710867 [label=arange id=4982424794959710867]\n\t4982424794959710867 -> -9031501539059790041 [id=\"4982424794959710867.args[0]\"]\n\t-9031501539059790041 [label=100 id=-9031501539059790041]\n\t5447535458505340468 -> 4982424794959710867 [id=\"5447535458505340468.args[1]\"]\n\t5593707570515573442 -> -9031501538954785116 [id=\"5593707570515573442.args[1]\"]\n\t-9031501538954785116 [label=5 id=-9031501538954785116]\n}",
         "label": null,
         "rule": "metadsl_core.numpy.NDArrayCompat.__getitem__"
        },
        {
         "graph": "digraph {\n\tnode [shape=plain]\n\tedge [arrowsize=0.5 penwidth=0.5]\n\t680250064134282809 [label=\"NDArrayCompat.to_ndarray\" id=680250064134282809]\n\t680250064134282809 -> 5593707570515573442 [id=\"680250064134282809.args[0]\"]\n\t5593707570515573442 [label=\"NDArrayCompat.__getitem__\" id=5593707570515573442]\n\t5593707570515573442 -> 5447535458505340468 [id=\"5593707570515573442.args[0]\"]\n\t5447535458505340468 [label=\"NDArrayCompat.__add__\" id=5447535458505340468]\n\t5447535458505340468 -> 4982424794959710867 [id=\"5447535458505340468.args[0]\"]\n\t4982424794959710867 [label=arange id=4982424794959710867]\n\t4982424794959710867 -> -9031501539059790041 [id=\"4982424794959710867.args[0]\"]\n\t-9031501539059790041 [label=100 id=-9031501539059790041]\n\t5447535458505340468 -> 4982424794959710867 [id=\"5447535458505340468.args[1]\"]\n\t5593707570515573442 -> -9031501538954785116 [id=\"5593707570515573442.args[1]\"]\n\t-9031501538954785116 [label=5 id=-9031501538954785116]\n}",
         "label": null,
         "rule": "metadsl_core.numpy.NDArrayCompat.__getitem__"
        },
        {
         "graph": "digraph {\n\tnode [shape=plain]\n\tedge [arrowsize=0.5 penwidth=0.5]\n\t680250064134282809 [label=\"NDArrayCompat.to_ndarray\" id=680250064134282809]\n\t680250064134282809 -> 5593707570515573442 [id=\"680250064134282809.args[0]\"]\n\t5593707570515573442 [label=\"NDArrayCompat.__getitem__\" id=5593707570515573442]\n\t5593707570515573442 -> 5447535458505340468 [id=\"5593707570515573442.args[0]\"]\n\t5447535458505340468 [label=\"NDArrayCompat.__add__\" id=5447535458505340468]\n\t5447535458505340468 -> 4982424794959710867 [id=\"5447535458505340468.args[0]\"]\n\t4982424794959710867 [label=arange id=4982424794959710867]\n\t4982424794959710867 -> -9031501539059790041 [id=\"4982424794959710867.args[0]\"]\n\t-9031501539059790041 [label=100 id=-9031501539059790041]\n\t5447535458505340468 -> 4982424794959710867 [id=\"5447535458505340468.args[1]\"]\n\t5593707570515573442 -> -9031501538954785116 [id=\"5593707570515573442.args[1]\"]\n\t-9031501538954785116 [label=5 id=-9031501538954785116]\n}",
         "label": null,
         "rule": "metadsl_core.numpy.NDArrayCompat.__getitem__"
        },
        {
         "graph": "digraph {\n\tnode [shape=plain]\n\tedge [arrowsize=0.5 penwidth=0.5]\n\t680250064134282809 [label=\"NDArrayCompat.to_ndarray\" id=680250064134282809]\n\t680250064134282809 -> 5593707570515573442 [id=\"680250064134282809.args[0]\"]\n\t5593707570515573442 [label=\"NDArrayCompat.__getitem__\" id=5593707570515573442]\n\t5593707570515573442 -> 5447535458505340468 [id=\"5593707570515573442.args[0]\"]\n\t5447535458505340468 [label=\"NDArrayCompat.__add__\" id=5447535458505340468]\n\t5447535458505340468 -> 4982424794959710867 [id=\"5447535458505340468.args[0]\"]\n\t4982424794959710867 [label=arange id=4982424794959710867]\n\t4982424794959710867 -> -9031501539059790041 [id=\"4982424794959710867.args[0]\"]\n\t-9031501539059790041 [label=100 id=-9031501539059790041]\n\t5447535458505340468 -> 4982424794959710867 [id=\"5447535458505340468.args[1]\"]\n\t5593707570515573442 -> -9031501538954785116 [id=\"5593707570515573442.args[1]\"]\n\t-9031501538954785116 [label=5 id=-9031501538954785116]\n}",
         "label": null,
         "rule": "metadsl_core.numpy.NDArrayCompat.__getitem__"
        },
        {
         "graph": "digraph {\n\tnode [shape=plain]\n\tedge [arrowsize=0.5 penwidth=0.5]\n\t680250064134282809 [label=\"NDArrayCompat.to_ndarray\" id=680250064134282809]\n\t680250064134282809 -> 5593707570515573442 [id=\"680250064134282809.args[0]\"]\n\t5593707570515573442 [label=\"NDArrayCompat.__getitem__\" id=5593707570515573442]\n\t5593707570515573442 -> 5447535458505340468 [id=\"5593707570515573442.args[0]\"]\n\t5447535458505340468 [label=\"NDArrayCompat.__add__\" id=5447535458505340468]\n\t5447535458505340468 -> 4982424794959710867 [id=\"5447535458505340468.args[0]\"]\n\t4982424794959710867 [label=arange id=4982424794959710867]\n\t4982424794959710867 -> -9031501539059790041 [id=\"4982424794959710867.args[0]\"]\n\t-9031501539059790041 [label=100 id=-9031501539059790041]\n\t5447535458505340468 -> 4982424794959710867 [id=\"5447535458505340468.args[1]\"]\n\t5593707570515573442 -> -9031501538954785116 [id=\"5593707570515573442.args[1]\"]\n\t-9031501538954785116 [label=5 id=-9031501538954785116]\n}",
         "label": null,
         "rule": "metadsl_core.numpy.NDArrayCompat.__getitem__"
        },
        {
         "graph": "digraph {\n\tnode [shape=plain]\n\tedge [arrowsize=0.5 penwidth=0.5]\n\t680250064134282809 [label=\"NDArrayCompat.to_ndarray\" id=680250064134282809]\n\t680250064134282809 -> 5593707570515573442 [id=\"680250064134282809.args[0]\"]\n\t5593707570515573442 [label=\"NDArrayCompat.__getitem__\" id=5593707570515573442]\n\t5593707570515573442 -> 5447535458505340468 [id=\"5593707570515573442.args[0]\"]\n\t5447535458505340468 [label=\"NDArrayCompat.__add__\" id=5447535458505340468]\n\t5447535458505340468 -> 4982424794959710867 [id=\"5447535458505340468.args[0]\"]\n\t4982424794959710867 [label=arange id=4982424794959710867]\n\t4982424794959710867 -> -9031501539059790041 [id=\"4982424794959710867.args[0]\"]\n\t-9031501539059790041 [label=100 id=-9031501539059790041]\n\t5447535458505340468 -> 4982424794959710867 [id=\"5447535458505340468.args[1]\"]\n\t5593707570515573442 -> -9031501538954785116 [id=\"5593707570515573442.args[1]\"]\n\t-9031501538954785116 [label=5 id=-9031501538954785116]\n}",
         "label": null,
         "rule": "metadsl_core.numpy.NDArrayCompat.__getitem__"
        },
        {
         "graph": "digraph {\n\tnode [shape=plain]\n\tedge [arrowsize=0.5 penwidth=0.5]\n\t680250064134282809 [label=\"NDArrayCompat.to_ndarray\" id=680250064134282809]\n\t680250064134282809 -> 5593707570515573442 [id=\"680250064134282809.args[0]\"]\n\t5593707570515573442 [label=\"NDArrayCompat.__getitem__\" id=5593707570515573442]\n\t5593707570515573442 -> 5447535458505340468 [id=\"5593707570515573442.args[0]\"]\n\t5447535458505340468 [label=\"NDArrayCompat.__add__\" id=5447535458505340468]\n\t5447535458505340468 -> 4982424794959710867 [id=\"5447535458505340468.args[0]\"]\n\t4982424794959710867 [label=arange id=4982424794959710867]\n\t4982424794959710867 -> -9031501539059790041 [id=\"4982424794959710867.args[0]\"]\n\t-9031501539059790041 [label=100 id=-9031501539059790041]\n\t5447535458505340468 -> 4982424794959710867 [id=\"5447535458505340468.args[1]\"]\n\t5593707570515573442 -> -9031501538954785116 [id=\"5593707570515573442.args[1]\"]\n\t-9031501538954785116 [label=5 id=-9031501538954785116]\n}",
         "label": null,
         "rule": "metadsl_core.numpy.NDArrayCompat.__getitem__"
        },
        {
         "graph": "digraph {\n\tnode [shape=plain]\n\tedge [arrowsize=0.5 penwidth=0.5]\n\t680250064134282809 [label=\"NDArrayCompat.to_ndarray\" id=680250064134282809]\n\t680250064134282809 -> 5593707570515573442 [id=\"680250064134282809.args[0]\"]\n\t5593707570515573442 [label=\"NDArrayCompat.__getitem__\" id=5593707570515573442]\n\t5593707570515573442 -> 5447535458505340468 [id=\"5593707570515573442.args[0]\"]\n\t5447535458505340468 [label=\"NDArrayCompat.__add__\" id=5447535458505340468]\n\t5447535458505340468 -> 4982424794959710867 [id=\"5447535458505340468.args[0]\"]\n\t4982424794959710867 [label=arange id=4982424794959710867]\n\t4982424794959710867 -> -9031501539059790041 [id=\"4982424794959710867.args[0]\"]\n\t-9031501539059790041 [label=100 id=-9031501539059790041]\n\t5447535458505340468 -> 4982424794959710867 [id=\"5447535458505340468.args[1]\"]\n\t5593707570515573442 -> -9031501538954785116 [id=\"5593707570515573442.args[1]\"]\n\t-9031501538954785116 [label=5 id=-9031501538954785116]\n}",
         "label": null,
         "rule": "metadsl_core.numpy.NDArrayCompat.__getitem__"
        },
        {
         "graph": "digraph {\n\tnode [shape=plain]\n\tedge [arrowsize=0.5 penwidth=0.5]\n\t680250064134282809 [label=\"NDArrayCompat.to_ndarray\" id=680250064134282809]\n\t680250064134282809 -> 5593707570515573442 [id=\"680250064134282809.args[0]\"]\n\t5593707570515573442 [label=\"NDArrayCompat.__getitem__\" id=5593707570515573442]\n\t5593707570515573442 -> 5447535458505340468 [id=\"5593707570515573442.args[0]\"]\n\t5447535458505340468 [label=\"NDArrayCompat.__add__\" id=5447535458505340468]\n\t5447535458505340468 -> 4982424794959710867 [id=\"5447535458505340468.args[0]\"]\n\t4982424794959710867 [label=arange id=4982424794959710867]\n\t4982424794959710867 -> -9031501539059790041 [id=\"4982424794959710867.args[0]\"]\n\t-9031501539059790041 [label=100 id=-9031501539059790041]\n\t5447535458505340468 -> 4982424794959710867 [id=\"5447535458505340468.args[1]\"]\n\t5593707570515573442 -> -9031501538954785116 [id=\"5593707570515573442.args[1]\"]\n\t-9031501538954785116 [label=5 id=-9031501538954785116]\n}",
         "label": null,
         "rule": "metadsl_core.numpy.NDArrayCompat.__getitem__"
        },
        {
         "graph": "digraph {\n\tnode [shape=plain]\n\tedge [arrowsize=0.5 penwidth=0.5]\n\t680250064134282809 [label=\"NDArrayCompat.to_ndarray\" id=680250064134282809]\n\t680250064134282809 -> 5593707570515573442 [id=\"680250064134282809.args[0]\"]\n\t5593707570515573442 [label=\"NDArrayCompat.__getitem__\" id=5593707570515573442]\n\t5593707570515573442 -> 5447535458505340468 [id=\"5593707570515573442.args[0]\"]\n\t5447535458505340468 [label=\"NDArrayCompat.__add__\" id=5447535458505340468]\n\t5447535458505340468 -> 4982424794959710867 [id=\"5447535458505340468.args[0]\"]\n\t4982424794959710867 [label=arange id=4982424794959710867]\n\t4982424794959710867 -> -9031501539059790041 [id=\"4982424794959710867.args[0]\"]\n\t-9031501539059790041 [label=100 id=-9031501539059790041]\n\t5447535458505340468 -> 4982424794959710867 [id=\"5447535458505340468.args[1]\"]\n\t5593707570515573442 -> -9031501538954785116 [id=\"5593707570515573442.args[1]\"]\n\t-9031501538954785116 [label=5 id=-9031501538954785116]\n}",
         "label": null,
         "rule": "metadsl_core.numpy.NDArrayCompat.__getitem__"
        },
        {
         "graph": "digraph {\n\tnode [shape=plain]\n\tedge [arrowsize=0.5 penwidth=0.5]\n\t680250064134282809 [label=\"NDArrayCompat.to_ndarray\" id=680250064134282809]\n\t680250064134282809 -> 5593707570515573442 [id=\"680250064134282809.args[0]\"]\n\t5593707570515573442 [label=\"NDArrayCompat.__getitem__\" id=5593707570515573442]\n\t5593707570515573442 -> 5447535458505340468 [id=\"5593707570515573442.args[0]\"]\n\t5447535458505340468 [label=\"NDArrayCompat.__add__\" id=5447535458505340468]\n\t5447535458505340468 -> 4982424794959710867 [id=\"5447535458505340468.args[0]\"]\n\t4982424794959710867 [label=arange id=4982424794959710867]\n\t4982424794959710867 -> -9031501539059790041 [id=\"4982424794959710867.args[0]\"]\n\t-9031501539059790041 [label=100 id=-9031501539059790041]\n\t5447535458505340468 -> 4982424794959710867 [id=\"5447535458505340468.args[1]\"]\n\t5593707570515573442 -> -9031501538954785116 [id=\"5593707570515573442.args[1]\"]\n\t-9031501538954785116 [label=5 id=-9031501538954785116]\n}",
         "label": null,
         "rule": "metadsl_core.numpy.NDArrayCompat.__getitem__"
        },
        {
         "graph": "digraph {\n\tnode [shape=plain]\n\tedge [arrowsize=0.5 penwidth=0.5]\n\t680250064134282809 [label=\"NDArrayCompat.to_ndarray\" id=680250064134282809]\n\t680250064134282809 -> 5593707570515573442 [id=\"680250064134282809.args[0]\"]\n\t5593707570515573442 [label=\"NDArrayCompat.__getitem__\" id=5593707570515573442]\n\t5593707570515573442 -> 5447535458505340468 [id=\"5593707570515573442.args[0]\"]\n\t5447535458505340468 [label=\"NDArrayCompat.__add__\" id=5447535458505340468]\n\t5447535458505340468 -> 4982424794959710867 [id=\"5447535458505340468.args[0]\"]\n\t4982424794959710867 [label=arange id=4982424794959710867]\n\t4982424794959710867 -> -9031501539059790041 [id=\"4982424794959710867.args[0]\"]\n\t-9031501539059790041 [label=100 id=-9031501539059790041]\n\t5447535458505340468 -> 4982424794959710867 [id=\"5447535458505340468.args[1]\"]\n\t5593707570515573442 -> -9031501538954785116 [id=\"5593707570515573442.args[1]\"]\n\t-9031501538954785116 [label=5 id=-9031501538954785116]\n}",
         "label": null,
         "rule": "metadsl_core.numpy.NDArrayCompat.__getitem__"
        },
        {
         "graph": "digraph {\n\tnode [shape=plain]\n\tedge [arrowsize=0.5 penwidth=0.5]\n\t680250064134282809 [label=\"NDArrayCompat.to_ndarray\" id=680250064134282809]\n\t680250064134282809 -> 5593707570515573442 [id=\"680250064134282809.args[0]\"]\n\t5593707570515573442 [label=\"NDArrayCompat.__getitem__\" id=5593707570515573442]\n\t5593707570515573442 -> 5447535458505340468 [id=\"5593707570515573442.args[0]\"]\n\t5447535458505340468 [label=\"NDArrayCompat.__add__\" id=5447535458505340468]\n\t5447535458505340468 -> 4982424794959710867 [id=\"5447535458505340468.args[0]\"]\n\t4982424794959710867 [label=arange id=4982424794959710867]\n\t4982424794959710867 -> -9031501539059790041 [id=\"4982424794959710867.args[0]\"]\n\t-9031501539059790041 [label=100 id=-9031501539059790041]\n\t5447535458505340468 -> 4982424794959710867 [id=\"5447535458505340468.args[1]\"]\n\t5593707570515573442 -> -9031501538954785116 [id=\"5593707570515573442.args[1]\"]\n\t-9031501538954785116 [label=5 id=-9031501538954785116]\n}",
         "label": null,
         "rule": "metadsl_core.numpy.NDArrayCompat.__getitem__"
        },
        {
         "graph": "digraph {\n\tnode [shape=plain]\n\tedge [arrowsize=0.5 penwidth=0.5]\n\t680250064134282809 [label=\"NDArrayCompat.to_ndarray\" id=680250064134282809]\n\t680250064134282809 -> 5593707570515573442 [id=\"680250064134282809.args[0]\"]\n\t5593707570515573442 [label=\"NDArrayCompat.__getitem__\" id=5593707570515573442]\n\t5593707570515573442 -> 5447535458505340468 [id=\"5593707570515573442.args[0]\"]\n\t5447535458505340468 [label=\"NDArrayCompat.__add__\" id=5447535458505340468]\n\t5447535458505340468 -> 4982424794959710867 [id=\"5447535458505340468.args[0]\"]\n\t4982424794959710867 [label=arange id=4982424794959710867]\n\t4982424794959710867 -> -9031501539059790041 [id=\"4982424794959710867.args[0]\"]\n\t-9031501539059790041 [label=100 id=-9031501539059790041]\n\t5447535458505340468 -> 4982424794959710867 [id=\"5447535458505340468.args[1]\"]\n\t5593707570515573442 -> -9031501538954785116 [id=\"5593707570515573442.args[1]\"]\n\t-9031501538954785116 [label=5 id=-9031501538954785116]\n}",
         "label": null,
         "rule": "metadsl_core.numpy.NDArrayCompat.__getitem__"
        },
        {
         "graph": "digraph {\n\tnode [shape=plain]\n\tedge [arrowsize=0.5 penwidth=0.5]\n\t680250064134282809 [label=\"NDArrayCompat.to_ndarray\" id=680250064134282809]\n\t680250064134282809 -> 5593707570515573442 [id=\"680250064134282809.args[0]\"]\n\t5593707570515573442 [label=\"NDArrayCompat.__getitem__\" id=5593707570515573442]\n\t5593707570515573442 -> 5447535458505340468 [id=\"5593707570515573442.args[0]\"]\n\t5447535458505340468 [label=\"NDArrayCompat.__add__\" id=5447535458505340468]\n\t5447535458505340468 -> 4982424794959710867 [id=\"5447535458505340468.args[0]\"]\n\t4982424794959710867 [label=arange id=4982424794959710867]\n\t4982424794959710867 -> -9031501539059790041 [id=\"4982424794959710867.args[0]\"]\n\t-9031501539059790041 [label=100 id=-9031501539059790041]\n\t5447535458505340468 -> 4982424794959710867 [id=\"5447535458505340468.args[1]\"]\n\t5593707570515573442 -> -9031501538954785116 [id=\"5593707570515573442.args[1]\"]\n\t-9031501538954785116 [label=5 id=-9031501538954785116]\n}",
         "label": null,
         "rule": "metadsl_core.numpy.NDArrayCompat.__getitem__"
        },
        {
         "graph": "digraph {\n\tnode [shape=plain]\n\tedge [arrowsize=0.5 penwidth=0.5]\n\t680250064134282809 [label=\"NDArrayCompat.to_ndarray\" id=680250064134282809]\n\t680250064134282809 -> 5593707570515573442 [id=\"680250064134282809.args[0]\"]\n\t5593707570515573442 [label=\"NDArrayCompat.__getitem__\" id=5593707570515573442]\n\t5593707570515573442 -> 5447535458505340468 [id=\"5593707570515573442.args[0]\"]\n\t5447535458505340468 [label=\"NDArrayCompat.__add__\" id=5447535458505340468]\n\t5447535458505340468 -> 4982424794959710867 [id=\"5447535458505340468.args[0]\"]\n\t4982424794959710867 [label=arange id=4982424794959710867]\n\t4982424794959710867 -> -9031501539059790041 [id=\"4982424794959710867.args[0]\"]\n\t-9031501539059790041 [label=100 id=-9031501539059790041]\n\t5447535458505340468 -> 4982424794959710867 [id=\"5447535458505340468.args[1]\"]\n\t5593707570515573442 -> -9031501538954785116 [id=\"5593707570515573442.args[1]\"]\n\t-9031501538954785116 [label=5 id=-9031501538954785116]\n}",
         "label": null,
         "rule": "metadsl_core.numpy.NDArrayCompat.__getitem__"
        },
        {
         "graph": "digraph {\n\tnode [shape=plain]\n\tedge [arrowsize=0.5 penwidth=0.5]\n\t680250064134282809 [label=\"NDArrayCompat.to_ndarray\" id=680250064134282809]\n\t680250064134282809 -> 5593707570515573442 [id=\"680250064134282809.args[0]\"]\n\t5593707570515573442 [label=\"NDArrayCompat.__getitem__\" id=5593707570515573442]\n\t5593707570515573442 -> 5447535458505340468 [id=\"5593707570515573442.args[0]\"]\n\t5447535458505340468 [label=\"NDArrayCompat.__add__\" id=5447535458505340468]\n\t5447535458505340468 -> 4982424794959710867 [id=\"5447535458505340468.args[0]\"]\n\t4982424794959710867 [label=arange id=4982424794959710867]\n\t4982424794959710867 -> -9031501539059790041 [id=\"4982424794959710867.args[0]\"]\n\t-9031501539059790041 [label=100 id=-9031501539059790041]\n\t5447535458505340468 -> 4982424794959710867 [id=\"5447535458505340468.args[1]\"]\n\t5593707570515573442 -> -9031501538954785116 [id=\"5593707570515573442.args[1]\"]\n\t-9031501538954785116 [label=5 id=-9031501538954785116]\n}",
         "label": null,
         "rule": "metadsl_core.numpy.NDArrayCompat.__getitem__"
        },
        {
         "graph": "digraph {\n\tnode [shape=plain]\n\tedge [arrowsize=0.5 penwidth=0.5]\n\t680250064134282809 [label=\"NDArrayCompat.to_ndarray\" id=680250064134282809]\n\t680250064134282809 -> 5593707570515573442 [id=\"680250064134282809.args[0]\"]\n\t5593707570515573442 [label=\"NDArrayCompat.__getitem__\" id=5593707570515573442]\n\t5593707570515573442 -> 5447535458505340468 [id=\"5593707570515573442.args[0]\"]\n\t5447535458505340468 [label=\"NDArrayCompat.__add__\" id=5447535458505340468]\n\t5447535458505340468 -> 4982424794959710867 [id=\"5447535458505340468.args[0]\"]\n\t4982424794959710867 [label=arange id=4982424794959710867]\n\t4982424794959710867 -> -9031501539059790041 [id=\"4982424794959710867.args[0]\"]\n\t-9031501539059790041 [label=100 id=-9031501539059790041]\n\t5447535458505340468 -> 4982424794959710867 [id=\"5447535458505340468.args[1]\"]\n\t5593707570515573442 -> -9031501538954785116 [id=\"5593707570515573442.args[1]\"]\n\t-9031501538954785116 [label=5 id=-9031501538954785116]\n}",
         "label": null,
         "rule": "metadsl_core.numpy.NDArrayCompat.__getitem__"
        },
        {
         "graph": "digraph {\n\tnode [shape=plain]\n\tedge [arrowsize=0.5 penwidth=0.5]\n\t680250064134282809 [label=\"NDArrayCompat.to_ndarray\" id=680250064134282809]\n\t680250064134282809 -> 5593707570515573442 [id=\"680250064134282809.args[0]\"]\n\t5593707570515573442 [label=\"NDArrayCompat.__getitem__\" id=5593707570515573442]\n\t5593707570515573442 -> 5447535458505340468 [id=\"5593707570515573442.args[0]\"]\n\t5447535458505340468 [label=\"NDArrayCompat.__add__\" id=5447535458505340468]\n\t5447535458505340468 -> 4982424794959710867 [id=\"5447535458505340468.args[0]\"]\n\t4982424794959710867 [label=arange id=4982424794959710867]\n\t4982424794959710867 -> -9031501539059790041 [id=\"4982424794959710867.args[0]\"]\n\t-9031501539059790041 [label=100 id=-9031501539059790041]\n\t5447535458505340468 -> 4982424794959710867 [id=\"5447535458505340468.args[1]\"]\n\t5593707570515573442 -> -9031501538954785116 [id=\"5593707570515573442.args[1]\"]\n\t-9031501538954785116 [label=5 id=-9031501538954785116]\n}",
         "label": null,
         "rule": "metadsl_core.numpy.NDArrayCompat.__getitem__"
        },
        {
         "graph": "digraph {\n\tnode [shape=plain]\n\tedge [arrowsize=0.5 penwidth=0.5]\n\t680250064134282809 [label=\"NDArrayCompat.to_ndarray\" id=680250064134282809]\n\t680250064134282809 -> 5593707570515573442 [id=\"680250064134282809.args[0]\"]\n\t5593707570515573442 [label=\"NDArrayCompat.__getitem__\" id=5593707570515573442]\n\t5593707570515573442 -> 5447535458505340468 [id=\"5593707570515573442.args[0]\"]\n\t5447535458505340468 [label=\"NDArrayCompat.__add__\" id=5447535458505340468]\n\t5447535458505340468 -> 4982424794959710867 [id=\"5447535458505340468.args[0]\"]\n\t4982424794959710867 [label=arange id=4982424794959710867]\n\t4982424794959710867 -> -9031501539059790041 [id=\"4982424794959710867.args[0]\"]\n\t-9031501539059790041 [label=100 id=-9031501539059790041]\n\t5447535458505340468 -> 4982424794959710867 [id=\"5447535458505340468.args[1]\"]\n\t5593707570515573442 -> -9031501538954785116 [id=\"5593707570515573442.args[1]\"]\n\t-9031501538954785116 [label=5 id=-9031501538954785116]\n}",
         "label": null,
         "rule": "metadsl_core.numpy.NDArrayCompat.__getitem__"
        },
        {
         "graph": "digraph {\n\tnode [shape=plain]\n\tedge [arrowsize=0.5 penwidth=0.5]\n\t680250064134282809 [label=\"NDArrayCompat.to_ndarray\" id=680250064134282809]\n\t680250064134282809 -> 5593707570515573442 [id=\"680250064134282809.args[0]\"]\n\t5593707570515573442 [label=\"NDArrayCompat.__getitem__\" id=5593707570515573442]\n\t5593707570515573442 -> 5447535458505340468 [id=\"5593707570515573442.args[0]\"]\n\t5447535458505340468 [label=\"NDArrayCompat.__add__\" id=5447535458505340468]\n\t5447535458505340468 -> 4982424794959710867 [id=\"5447535458505340468.args[0]\"]\n\t4982424794959710867 [label=arange id=4982424794959710867]\n\t4982424794959710867 -> -9031501539059790041 [id=\"4982424794959710867.args[0]\"]\n\t-9031501539059790041 [label=100 id=-9031501539059790041]\n\t5447535458505340468 -> 4982424794959710867 [id=\"5447535458505340468.args[1]\"]\n\t5593707570515573442 -> -9031501538954785116 [id=\"5593707570515573442.args[1]\"]\n\t-9031501538954785116 [label=5 id=-9031501538954785116]\n}",
         "label": null,
         "rule": "metadsl_core.numpy.NDArrayCompat.__getitem__"
        },
        {
         "graph": "digraph {\n\tnode [shape=plain]\n\tedge [arrowsize=0.5 penwidth=0.5]\n\t680250064134282809 [label=\"NDArrayCompat.to_ndarray\" id=680250064134282809]\n\t680250064134282809 -> 5593707570515573442 [id=\"680250064134282809.args[0]\"]\n\t5593707570515573442 [label=\"NDArrayCompat.__getitem__\" id=5593707570515573442]\n\t5593707570515573442 -> 5447535458505340468 [id=\"5593707570515573442.args[0]\"]\n\t5447535458505340468 [label=\"NDArrayCompat.__add__\" id=5447535458505340468]\n\t5447535458505340468 -> 4982424794959710867 [id=\"5447535458505340468.args[0]\"]\n\t4982424794959710867 [label=arange id=4982424794959710867]\n\t4982424794959710867 -> -9031501539059790041 [id=\"4982424794959710867.args[0]\"]\n\t-9031501539059790041 [label=100 id=-9031501539059790041]\n\t5447535458505340468 -> 4982424794959710867 [id=\"5447535458505340468.args[1]\"]\n\t5593707570515573442 -> -9031501538954785116 [id=\"5593707570515573442.args[1]\"]\n\t-9031501538954785116 [label=5 id=-9031501538954785116]\n}",
         "label": null,
         "rule": "metadsl_core.numpy.NDArrayCompat.__getitem__"
        },
        {
         "graph": "digraph {\n\tnode [shape=plain]\n\tedge [arrowsize=0.5 penwidth=0.5]\n\t680250064134282809 [label=\"NDArrayCompat.to_ndarray\" id=680250064134282809]\n\t680250064134282809 -> 5593707570515573442 [id=\"680250064134282809.args[0]\"]\n\t5593707570515573442 [label=\"NDArrayCompat.__getitem__\" id=5593707570515573442]\n\t5593707570515573442 -> 5447535458505340468 [id=\"5593707570515573442.args[0]\"]\n\t5447535458505340468 [label=\"NDArrayCompat.__add__\" id=5447535458505340468]\n\t5447535458505340468 -> 4982424794959710867 [id=\"5447535458505340468.args[0]\"]\n\t4982424794959710867 [label=arange id=4982424794959710867]\n\t4982424794959710867 -> -9031501539059790041 [id=\"4982424794959710867.args[0]\"]\n\t-9031501539059790041 [label=100 id=-9031501539059790041]\n\t5447535458505340468 -> 4982424794959710867 [id=\"5447535458505340468.args[1]\"]\n\t5593707570515573442 -> -9031501538954785116 [id=\"5593707570515573442.args[1]\"]\n\t-9031501538954785116 [label=5 id=-9031501538954785116]\n}",
         "label": null,
         "rule": "metadsl_core.numpy.NDArrayCompat.__getitem__"
        },
        {
         "graph": "digraph {\n\tnode [shape=plain]\n\tedge [arrowsize=0.5 penwidth=0.5]\n\t680250064134282809 [label=\"NDArrayCompat.to_ndarray\" id=680250064134282809]\n\t680250064134282809 -> 5593707570515573442 [id=\"680250064134282809.args[0]\"]\n\t5593707570515573442 [label=\"NDArrayCompat.__getitem__\" id=5593707570515573442]\n\t5593707570515573442 -> 5447535458505340468 [id=\"5593707570515573442.args[0]\"]\n\t5447535458505340468 [label=\"NDArrayCompat.__add__\" id=5447535458505340468]\n\t5447535458505340468 -> 4982424794959710867 [id=\"5447535458505340468.args[0]\"]\n\t4982424794959710867 [label=arange id=4982424794959710867]\n\t4982424794959710867 -> -9031501539059790041 [id=\"4982424794959710867.args[0]\"]\n\t-9031501539059790041 [label=100 id=-9031501539059790041]\n\t5447535458505340468 -> 4982424794959710867 [id=\"5447535458505340468.args[1]\"]\n\t5593707570515573442 -> -9031501538954785116 [id=\"5593707570515573442.args[1]\"]\n\t-9031501538954785116 [label=5 id=-9031501538954785116]\n}",
         "label": null,
         "rule": "metadsl_core.numpy.NDArrayCompat.__getitem__"
        },
        {
         "graph": "digraph {\n\tnode [shape=plain]\n\tedge [arrowsize=0.5 penwidth=0.5]\n\t680250064134282809 [label=\"NDArrayCompat.to_ndarray\" id=680250064134282809]\n\t680250064134282809 -> 5593707570515573442 [id=\"680250064134282809.args[0]\"]\n\t5593707570515573442 [label=\"NDArrayCompat.__getitem__\" id=5593707570515573442]\n\t5593707570515573442 -> 5447535458505340468 [id=\"5593707570515573442.args[0]\"]\n\t5447535458505340468 [label=\"NDArrayCompat.__add__\" id=5447535458505340468]\n\t5447535458505340468 -> 4982424794959710867 [id=\"5447535458505340468.args[0]\"]\n\t4982424794959710867 [label=arange id=4982424794959710867]\n\t4982424794959710867 -> -9031501539059790041 [id=\"4982424794959710867.args[0]\"]\n\t-9031501539059790041 [label=100 id=-9031501539059790041]\n\t5447535458505340468 -> 4982424794959710867 [id=\"5447535458505340468.args[1]\"]\n\t5593707570515573442 -> -9031501538954785116 [id=\"5593707570515573442.args[1]\"]\n\t-9031501538954785116 [label=5 id=-9031501538954785116]\n}",
         "label": null,
         "rule": "metadsl_core.numpy.NDArrayCompat.__getitem__"
        },
        {
         "graph": "digraph {\n\tnode [shape=plain]\n\tedge [arrowsize=0.5 penwidth=0.5]\n\t680250064134282809 [label=\"NDArrayCompat.to_ndarray\" id=680250064134282809]\n\t680250064134282809 -> 5593707570515573442 [id=\"680250064134282809.args[0]\"]\n\t5593707570515573442 [label=\"NDArrayCompat.__getitem__\" id=5593707570515573442]\n\t5593707570515573442 -> 5447535458505340468 [id=\"5593707570515573442.args[0]\"]\n\t5447535458505340468 [label=\"NDArrayCompat.__add__\" id=5447535458505340468]\n\t5447535458505340468 -> 4982424794959710867 [id=\"5447535458505340468.args[0]\"]\n\t4982424794959710867 [label=arange id=4982424794959710867]\n\t4982424794959710867 -> -9031501539059790041 [id=\"4982424794959710867.args[0]\"]\n\t-9031501539059790041 [label=100 id=-9031501539059790041]\n\t5447535458505340468 -> 4982424794959710867 [id=\"5447535458505340468.args[1]\"]\n\t5593707570515573442 -> -9031501538954785116 [id=\"5593707570515573442.args[1]\"]\n\t-9031501538954785116 [label=5 id=-9031501538954785116]\n}",
         "label": null,
         "rule": "metadsl_core.numpy.NDArrayCompat.__getitem__"
        },
        {
         "graph": "digraph {\n\tnode [shape=plain]\n\tedge [arrowsize=0.5 penwidth=0.5]\n\t680250064134282809 [label=\"NDArrayCompat.to_ndarray\" id=680250064134282809]\n\t680250064134282809 -> 5593707570515573442 [id=\"680250064134282809.args[0]\"]\n\t5593707570515573442 [label=\"NDArrayCompat.__getitem__\" id=5593707570515573442]\n\t5593707570515573442 -> 5447535458505340468 [id=\"5593707570515573442.args[0]\"]\n\t5447535458505340468 [label=\"NDArrayCompat.__add__\" id=5447535458505340468]\n\t5447535458505340468 -> 4982424794959710867 [id=\"5447535458505340468.args[0]\"]\n\t4982424794959710867 [label=arange id=4982424794959710867]\n\t4982424794959710867 -> -9031501539059790041 [id=\"4982424794959710867.args[0]\"]\n\t-9031501539059790041 [label=100 id=-9031501539059790041]\n\t5447535458505340468 -> 4982424794959710867 [id=\"5447535458505340468.args[1]\"]\n\t5593707570515573442 -> -9031501538954785116 [id=\"5593707570515573442.args[1]\"]\n\t-9031501538954785116 [label=5 id=-9031501538954785116]\n}",
         "label": null,
         "rule": "metadsl_core.numpy.NDArrayCompat.__getitem__"
        },
        {
         "graph": "digraph {\n\tnode [shape=plain]\n\tedge [arrowsize=0.5 penwidth=0.5]\n\t680250064134282809 [label=\"NDArrayCompat.to_ndarray\" id=680250064134282809]\n\t680250064134282809 -> 5593707570515573442 [id=\"680250064134282809.args[0]\"]\n\t5593707570515573442 [label=\"NDArrayCompat.__getitem__\" id=5593707570515573442]\n\t5593707570515573442 -> 5447535458505340468 [id=\"5593707570515573442.args[0]\"]\n\t5447535458505340468 [label=\"NDArrayCompat.__add__\" id=5447535458505340468]\n\t5447535458505340468 -> 4982424794959710867 [id=\"5447535458505340468.args[0]\"]\n\t4982424794959710867 [label=arange id=4982424794959710867]\n\t4982424794959710867 -> -9031501539059790041 [id=\"4982424794959710867.args[0]\"]\n\t-9031501539059790041 [label=100 id=-9031501539059790041]\n\t5447535458505340468 -> 4982424794959710867 [id=\"5447535458505340468.args[1]\"]\n\t5593707570515573442 -> -9031501538954785116 [id=\"5593707570515573442.args[1]\"]\n\t-9031501538954785116 [label=5 id=-9031501538954785116]\n}",
         "label": null,
         "rule": "metadsl_core.numpy.NDArrayCompat.__getitem__"
        },
        {
         "graph": "digraph {\n\tnode [shape=plain]\n\tedge [arrowsize=0.5 penwidth=0.5]\n\t680250064134282809 [label=\"NDArrayCompat.to_ndarray\" id=680250064134282809]\n\t680250064134282809 -> 5593707570515573442 [id=\"680250064134282809.args[0]\"]\n\t5593707570515573442 [label=\"NDArrayCompat.__getitem__\" id=5593707570515573442]\n\t5593707570515573442 -> 5447535458505340468 [id=\"5593707570515573442.args[0]\"]\n\t5447535458505340468 [label=\"NDArrayCompat.__add__\" id=5447535458505340468]\n\t5447535458505340468 -> 4982424794959710867 [id=\"5447535458505340468.args[0]\"]\n\t4982424794959710867 [label=arange id=4982424794959710867]\n\t4982424794959710867 -> -9031501539059790041 [id=\"4982424794959710867.args[0]\"]\n\t-9031501539059790041 [label=100 id=-9031501539059790041]\n\t5447535458505340468 -> 4982424794959710867 [id=\"5447535458505340468.args[1]\"]\n\t5593707570515573442 -> -9031501538954785116 [id=\"5593707570515573442.args[1]\"]\n\t-9031501538954785116 [label=5 id=-9031501538954785116]\n}",
         "label": null,
         "rule": "metadsl_core.numpy.NDArrayCompat.__getitem__"
        },
        {
         "graph": "digraph {\n\tnode [shape=plain]\n\tedge [arrowsize=0.5 penwidth=0.5]\n\t680250064134282809 [label=\"NDArrayCompat.to_ndarray\" id=680250064134282809]\n\t680250064134282809 -> 5593707570515573442 [id=\"680250064134282809.args[0]\"]\n\t5593707570515573442 [label=\"NDArrayCompat.__getitem__\" id=5593707570515573442]\n\t5593707570515573442 -> 5447535458505340468 [id=\"5593707570515573442.args[0]\"]\n\t5447535458505340468 [label=\"NDArrayCompat.__add__\" id=5447535458505340468]\n\t5447535458505340468 -> 4982424794959710867 [id=\"5447535458505340468.args[0]\"]\n\t4982424794959710867 [label=arange id=4982424794959710867]\n\t4982424794959710867 -> -9031501539059790041 [id=\"4982424794959710867.args[0]\"]\n\t-9031501539059790041 [label=100 id=-9031501539059790041]\n\t5447535458505340468 -> 4982424794959710867 [id=\"5447535458505340468.args[1]\"]\n\t5593707570515573442 -> -9031501538954785116 [id=\"5593707570515573442.args[1]\"]\n\t-9031501538954785116 [label=5 id=-9031501538954785116]\n}",
         "label": null,
         "rule": "metadsl_core.numpy.NDArrayCompat.__getitem__"
        },
        {
         "graph": "digraph {\n\tnode [shape=plain]\n\tedge [arrowsize=0.5 penwidth=0.5]\n\t680250064134282809 [label=\"NDArrayCompat.to_ndarray\" id=680250064134282809]\n\t680250064134282809 -> 5593707570515573442 [id=\"680250064134282809.args[0]\"]\n\t5593707570515573442 [label=\"NDArrayCompat.__getitem__\" id=5593707570515573442]\n\t5593707570515573442 -> 5447535458505340468 [id=\"5593707570515573442.args[0]\"]\n\t5447535458505340468 [label=\"NDArrayCompat.__add__\" id=5447535458505340468]\n\t5447535458505340468 -> 4982424794959710867 [id=\"5447535458505340468.args[0]\"]\n\t4982424794959710867 [label=arange id=4982424794959710867]\n\t4982424794959710867 -> -9031501539059790041 [id=\"4982424794959710867.args[0]\"]\n\t-9031501539059790041 [label=100 id=-9031501539059790041]\n\t5447535458505340468 -> 4982424794959710867 [id=\"5447535458505340468.args[1]\"]\n\t5593707570515573442 -> -9031501538954785116 [id=\"5593707570515573442.args[1]\"]\n\t-9031501538954785116 [label=5 id=-9031501538954785116]\n}",
         "label": null,
         "rule": "metadsl_core.numpy.NDArrayCompat.__getitem__"
        },
        {
         "graph": "digraph {\n\tnode [shape=plain]\n\tedge [arrowsize=0.5 penwidth=0.5]\n\t680250064134282809 [label=\"NDArrayCompat.to_ndarray\" id=680250064134282809]\n\t680250064134282809 -> 5593707570515573442 [id=\"680250064134282809.args[0]\"]\n\t5593707570515573442 [label=\"NDArrayCompat.__getitem__\" id=5593707570515573442]\n\t5593707570515573442 -> 5447535458505340468 [id=\"5593707570515573442.args[0]\"]\n\t5447535458505340468 [label=\"NDArrayCompat.__add__\" id=5447535458505340468]\n\t5447535458505340468 -> 4982424794959710867 [id=\"5447535458505340468.args[0]\"]\n\t4982424794959710867 [label=arange id=4982424794959710867]\n\t4982424794959710867 -> -9031501539059790041 [id=\"4982424794959710867.args[0]\"]\n\t-9031501539059790041 [label=100 id=-9031501539059790041]\n\t5447535458505340468 -> 4982424794959710867 [id=\"5447535458505340468.args[1]\"]\n\t5593707570515573442 -> -9031501538954785116 [id=\"5593707570515573442.args[1]\"]\n\t-9031501538954785116 [label=5 id=-9031501538954785116]\n}",
         "label": null,
         "rule": "metadsl_core.numpy.NDArrayCompat.__getitem__"
        },
        {
         "graph": "digraph {\n\tnode [shape=plain]\n\tedge [arrowsize=0.5 penwidth=0.5]\n\t680250064134282809 [label=\"NDArrayCompat.to_ndarray\" id=680250064134282809]\n\t680250064134282809 -> 5593707570515573442 [id=\"680250064134282809.args[0]\"]\n\t5593707570515573442 [label=\"NDArrayCompat.__getitem__\" id=5593707570515573442]\n\t5593707570515573442 -> 5447535458505340468 [id=\"5593707570515573442.args[0]\"]\n\t5447535458505340468 [label=\"NDArrayCompat.__add__\" id=5447535458505340468]\n\t5447535458505340468 -> 4982424794959710867 [id=\"5447535458505340468.args[0]\"]\n\t4982424794959710867 [label=arange id=4982424794959710867]\n\t4982424794959710867 -> -9031501539059790041 [id=\"4982424794959710867.args[0]\"]\n\t-9031501539059790041 [label=100 id=-9031501539059790041]\n\t5447535458505340468 -> 4982424794959710867 [id=\"5447535458505340468.args[1]\"]\n\t5593707570515573442 -> -9031501538954785116 [id=\"5593707570515573442.args[1]\"]\n\t-9031501538954785116 [label=5 id=-9031501538954785116]\n}",
         "label": null,
         "rule": "metadsl_core.numpy.NDArrayCompat.__getitem__"
        },
        {
         "graph": "digraph {\n\tnode [shape=plain]\n\tedge [arrowsize=0.5 penwidth=0.5]\n\t680250064134282809 [label=\"NDArrayCompat.to_ndarray\" id=680250064134282809]\n\t680250064134282809 -> 5593707570515573442 [id=\"680250064134282809.args[0]\"]\n\t5593707570515573442 [label=\"NDArrayCompat.__getitem__\" id=5593707570515573442]\n\t5593707570515573442 -> 5447535458505340468 [id=\"5593707570515573442.args[0]\"]\n\t5447535458505340468 [label=\"NDArrayCompat.__add__\" id=5447535458505340468]\n\t5447535458505340468 -> 4982424794959710867 [id=\"5447535458505340468.args[0]\"]\n\t4982424794959710867 [label=arange id=4982424794959710867]\n\t4982424794959710867 -> -9031501539059790041 [id=\"4982424794959710867.args[0]\"]\n\t-9031501539059790041 [label=100 id=-9031501539059790041]\n\t5447535458505340468 -> 4982424794959710867 [id=\"5447535458505340468.args[1]\"]\n\t5593707570515573442 -> -9031501538954785116 [id=\"5593707570515573442.args[1]\"]\n\t-9031501538954785116 [label=5 id=-9031501538954785116]\n}",
         "label": null,
         "rule": "metadsl_core.numpy.NDArrayCompat.__getitem__"
        },
        {
         "graph": "digraph {\n\tnode [shape=plain]\n\tedge [arrowsize=0.5 penwidth=0.5]\n\t680250064134282809 [label=\"NDArrayCompat.to_ndarray\" id=680250064134282809]\n\t680250064134282809 -> 5593707570515573442 [id=\"680250064134282809.args[0]\"]\n\t5593707570515573442 [label=\"NDArrayCompat.__getitem__\" id=5593707570515573442]\n\t5593707570515573442 -> 5447535458505340468 [id=\"5593707570515573442.args[0]\"]\n\t5447535458505340468 [label=\"NDArrayCompat.__add__\" id=5447535458505340468]\n\t5447535458505340468 -> 4982424794959710867 [id=\"5447535458505340468.args[0]\"]\n\t4982424794959710867 [label=arange id=4982424794959710867]\n\t4982424794959710867 -> -9031501539059790041 [id=\"4982424794959710867.args[0]\"]\n\t-9031501539059790041 [label=100 id=-9031501539059790041]\n\t5447535458505340468 -> 4982424794959710867 [id=\"5447535458505340468.args[1]\"]\n\t5593707570515573442 -> -9031501538954785116 [id=\"5593707570515573442.args[1]\"]\n\t-9031501538954785116 [label=5 id=-9031501538954785116]\n}",
         "label": null,
         "rule": "metadsl_core.numpy.NDArrayCompat.__getitem__"
        },
        {
         "graph": "digraph {\n\tnode [shape=plain]\n\tedge [arrowsize=0.5 penwidth=0.5]\n\t680250064134282809 [label=\"NDArrayCompat.to_ndarray\" id=680250064134282809]\n\t680250064134282809 -> 5593707570515573442 [id=\"680250064134282809.args[0]\"]\n\t5593707570515573442 [label=\"NDArrayCompat.__getitem__\" id=5593707570515573442]\n\t5593707570515573442 -> 5447535458505340468 [id=\"5593707570515573442.args[0]\"]\n\t5447535458505340468 [label=\"NDArrayCompat.__add__\" id=5447535458505340468]\n\t5447535458505340468 -> 4982424794959710867 [id=\"5447535458505340468.args[0]\"]\n\t4982424794959710867 [label=arange id=4982424794959710867]\n\t4982424794959710867 -> -9031501539059790041 [id=\"4982424794959710867.args[0]\"]\n\t-9031501539059790041 [label=100 id=-9031501539059790041]\n\t5447535458505340468 -> 4982424794959710867 [id=\"5447535458505340468.args[1]\"]\n\t5593707570515573442 -> -9031501538954785116 [id=\"5593707570515573442.args[1]\"]\n\t-9031501538954785116 [label=5 id=-9031501538954785116]\n}",
         "label": null,
         "rule": "metadsl_core.numpy.NDArrayCompat.__getitem__"
        },
        {
         "graph": "digraph {\n\tnode [shape=plain]\n\tedge [arrowsize=0.5 penwidth=0.5]\n\t680250064134282809 [label=\"NDArrayCompat.to_ndarray\" id=680250064134282809]\n\t680250064134282809 -> 5593707570515573442 [id=\"680250064134282809.args[0]\"]\n\t5593707570515573442 [label=\"NDArrayCompat.__getitem__\" id=5593707570515573442]\n\t5593707570515573442 -> 5447535458505340468 [id=\"5593707570515573442.args[0]\"]\n\t5447535458505340468 [label=\"NDArrayCompat.__add__\" id=5447535458505340468]\n\t5447535458505340468 -> 4982424794959710867 [id=\"5447535458505340468.args[0]\"]\n\t4982424794959710867 [label=arange id=4982424794959710867]\n\t4982424794959710867 -> -9031501539059790041 [id=\"4982424794959710867.args[0]\"]\n\t-9031501539059790041 [label=100 id=-9031501539059790041]\n\t5447535458505340468 -> 4982424794959710867 [id=\"5447535458505340468.args[1]\"]\n\t5593707570515573442 -> -9031501538954785116 [id=\"5593707570515573442.args[1]\"]\n\t-9031501538954785116 [label=5 id=-9031501538954785116]\n}",
         "label": null,
         "rule": "metadsl_core.numpy.NDArrayCompat.__getitem__"
        },
        {
         "graph": "digraph {\n\tnode [shape=plain]\n\tedge [arrowsize=0.5 penwidth=0.5]\n\t680250064134282809 [label=\"NDArrayCompat.to_ndarray\" id=680250064134282809]\n\t680250064134282809 -> 5593707570515573442 [id=\"680250064134282809.args[0]\"]\n\t5593707570515573442 [label=\"NDArrayCompat.__getitem__\" id=5593707570515573442]\n\t5593707570515573442 -> 5447535458505340468 [id=\"5593707570515573442.args[0]\"]\n\t5447535458505340468 [label=\"NDArrayCompat.__add__\" id=5447535458505340468]\n\t5447535458505340468 -> 4982424794959710867 [id=\"5447535458505340468.args[0]\"]\n\t4982424794959710867 [label=arange id=4982424794959710867]\n\t4982424794959710867 -> -9031501539059790041 [id=\"4982424794959710867.args[0]\"]\n\t-9031501539059790041 [label=100 id=-9031501539059790041]\n\t5447535458505340468 -> 4982424794959710867 [id=\"5447535458505340468.args[1]\"]\n\t5593707570515573442 -> -9031501538954785116 [id=\"5593707570515573442.args[1]\"]\n\t-9031501538954785116 [label=5 id=-9031501538954785116]\n}",
         "label": null,
         "rule": "metadsl_core.numpy.NDArrayCompat.__getitem__"
        },
        {
         "graph": "digraph {\n\tnode [shape=plain]\n\tedge [arrowsize=0.5 penwidth=0.5]\n\t680250064134282809 [label=\"NDArrayCompat.to_ndarray\" id=680250064134282809]\n\t680250064134282809 -> 5593707570515573442 [id=\"680250064134282809.args[0]\"]\n\t5593707570515573442 [label=\"NDArrayCompat.__getitem__\" id=5593707570515573442]\n\t5593707570515573442 -> 5447535458505340468 [id=\"5593707570515573442.args[0]\"]\n\t5447535458505340468 [label=\"NDArrayCompat.__add__\" id=5447535458505340468]\n\t5447535458505340468 -> 4982424794959710867 [id=\"5447535458505340468.args[0]\"]\n\t4982424794959710867 [label=arange id=4982424794959710867]\n\t4982424794959710867 -> -9031501539059790041 [id=\"4982424794959710867.args[0]\"]\n\t-9031501539059790041 [label=100 id=-9031501539059790041]\n\t5447535458505340468 -> 4982424794959710867 [id=\"5447535458505340468.args[1]\"]\n\t5593707570515573442 -> -9031501538954785116 [id=\"5593707570515573442.args[1]\"]\n\t-9031501538954785116 [label=5 id=-9031501538954785116]\n}",
         "label": null,
         "rule": "metadsl_core.numpy.NDArrayCompat.__getitem__"
        },
        {
         "graph": "digraph {\n\tnode [shape=plain]\n\tedge [arrowsize=0.5 penwidth=0.5]\n\t680250064134282809 [label=\"NDArrayCompat.to_ndarray\" id=680250064134282809]\n\t680250064134282809 -> 5593707570515573442 [id=\"680250064134282809.args[0]\"]\n\t5593707570515573442 [label=\"NDArrayCompat.__getitem__\" id=5593707570515573442]\n\t5593707570515573442 -> 5447535458505340468 [id=\"5593707570515573442.args[0]\"]\n\t5447535458505340468 [label=\"NDArrayCompat.__add__\" id=5447535458505340468]\n\t5447535458505340468 -> 4982424794959710867 [id=\"5447535458505340468.args[0]\"]\n\t4982424794959710867 [label=arange id=4982424794959710867]\n\t4982424794959710867 -> -9031501539059790041 [id=\"4982424794959710867.args[0]\"]\n\t-9031501539059790041 [label=100 id=-9031501539059790041]\n\t5447535458505340468 -> 4982424794959710867 [id=\"5447535458505340468.args[1]\"]\n\t5593707570515573442 -> -9031501538954785116 [id=\"5593707570515573442.args[1]\"]\n\t-9031501538954785116 [label=5 id=-9031501538954785116]\n}",
         "label": null,
         "rule": "metadsl_core.numpy.NDArrayCompat.__getitem__"
        },
        {
         "graph": "digraph {\n\tnode [shape=plain]\n\tedge [arrowsize=0.5 penwidth=0.5]\n\t680250064134282809 [label=\"NDArrayCompat.to_ndarray\" id=680250064134282809]\n\t680250064134282809 -> 5593707570515573442 [id=\"680250064134282809.args[0]\"]\n\t5593707570515573442 [label=\"NDArrayCompat.__getitem__\" id=5593707570515573442]\n\t5593707570515573442 -> 5447535458505340468 [id=\"5593707570515573442.args[0]\"]\n\t5447535458505340468 [label=\"NDArrayCompat.__add__\" id=5447535458505340468]\n\t5447535458505340468 -> 4982424794959710867 [id=\"5447535458505340468.args[0]\"]\n\t4982424794959710867 [label=arange id=4982424794959710867]\n\t4982424794959710867 -> -9031501539059790041 [id=\"4982424794959710867.args[0]\"]\n\t-9031501539059790041 [label=100 id=-9031501539059790041]\n\t5447535458505340468 -> 4982424794959710867 [id=\"5447535458505340468.args[1]\"]\n\t5593707570515573442 -> -9031501538954785116 [id=\"5593707570515573442.args[1]\"]\n\t-9031501538954785116 [label=5 id=-9031501538954785116]\n}",
         "label": null,
         "rule": "metadsl_core.numpy.NDArrayCompat.__getitem__"
        },
        {
         "graph": "digraph {\n\tnode [shape=plain]\n\tedge [arrowsize=0.5 penwidth=0.5]\n\t680250064134282809 [label=\"NDArrayCompat.to_ndarray\" id=680250064134282809]\n\t680250064134282809 -> 5593707570515573442 [id=\"680250064134282809.args[0]\"]\n\t5593707570515573442 [label=\"NDArrayCompat.__getitem__\" id=5593707570515573442]\n\t5593707570515573442 -> 5447535458505340468 [id=\"5593707570515573442.args[0]\"]\n\t5447535458505340468 [label=\"NDArrayCompat.__add__\" id=5447535458505340468]\n\t5447535458505340468 -> 4982424794959710867 [id=\"5447535458505340468.args[0]\"]\n\t4982424794959710867 [label=arange id=4982424794959710867]\n\t4982424794959710867 -> -9031501539059790041 [id=\"4982424794959710867.args[0]\"]\n\t-9031501539059790041 [label=100 id=-9031501539059790041]\n\t5447535458505340468 -> 4982424794959710867 [id=\"5447535458505340468.args[1]\"]\n\t5593707570515573442 -> -9031501538954785116 [id=\"5593707570515573442.args[1]\"]\n\t-9031501538954785116 [label=5 id=-9031501538954785116]\n}",
         "label": null,
         "rule": "metadsl_core.numpy.NDArrayCompat.__getitem__"
        },
        {
         "graph": "digraph {\n\tnode [shape=plain]\n\tedge [arrowsize=0.5 penwidth=0.5]\n\t680250064134282809 [label=\"NDArrayCompat.to_ndarray\" id=680250064134282809]\n\t680250064134282809 -> 5593707570515573442 [id=\"680250064134282809.args[0]\"]\n\t5593707570515573442 [label=\"NDArrayCompat.__getitem__\" id=5593707570515573442]\n\t5593707570515573442 -> 5447535458505340468 [id=\"5593707570515573442.args[0]\"]\n\t5447535458505340468 [label=\"NDArrayCompat.__add__\" id=5447535458505340468]\n\t5447535458505340468 -> 4982424794959710867 [id=\"5447535458505340468.args[0]\"]\n\t4982424794959710867 [label=arange id=4982424794959710867]\n\t4982424794959710867 -> -9031501539059790041 [id=\"4982424794959710867.args[0]\"]\n\t-9031501539059790041 [label=100 id=-9031501539059790041]\n\t5447535458505340468 -> 4982424794959710867 [id=\"5447535458505340468.args[1]\"]\n\t5593707570515573442 -> -9031501538954785116 [id=\"5593707570515573442.args[1]\"]\n\t-9031501538954785116 [label=5 id=-9031501538954785116]\n}",
         "label": null,
         "rule": "metadsl_core.numpy.NDArrayCompat.__getitem__"
        },
        {
         "graph": "digraph {\n\tnode [shape=plain]\n\tedge [arrowsize=0.5 penwidth=0.5]\n\t680250064134282809 [label=\"NDArrayCompat.to_ndarray\" id=680250064134282809]\n\t680250064134282809 -> 5593707570515573442 [id=\"680250064134282809.args[0]\"]\n\t5593707570515573442 [label=\"NDArrayCompat.__getitem__\" id=5593707570515573442]\n\t5593707570515573442 -> 5447535458505340468 [id=\"5593707570515573442.args[0]\"]\n\t5447535458505340468 [label=\"NDArrayCompat.__add__\" id=5447535458505340468]\n\t5447535458505340468 -> 4982424794959710867 [id=\"5447535458505340468.args[0]\"]\n\t4982424794959710867 [label=arange id=4982424794959710867]\n\t4982424794959710867 -> -9031501539059790041 [id=\"4982424794959710867.args[0]\"]\n\t-9031501539059790041 [label=100 id=-9031501539059790041]\n\t5447535458505340468 -> 4982424794959710867 [id=\"5447535458505340468.args[1]\"]\n\t5593707570515573442 -> -9031501538954785116 [id=\"5593707570515573442.args[1]\"]\n\t-9031501538954785116 [label=5 id=-9031501538954785116]\n}",
         "label": null,
         "rule": "metadsl_core.numpy.NDArrayCompat.__getitem__"
        },
        {
         "graph": "digraph {\n\tnode [shape=plain]\n\tedge [arrowsize=0.5 penwidth=0.5]\n\t680250064134282809 [label=\"NDArrayCompat.to_ndarray\" id=680250064134282809]\n\t680250064134282809 -> 5593707570515573442 [id=\"680250064134282809.args[0]\"]\n\t5593707570515573442 [label=\"NDArrayCompat.__getitem__\" id=5593707570515573442]\n\t5593707570515573442 -> 5447535458505340468 [id=\"5593707570515573442.args[0]\"]\n\t5447535458505340468 [label=\"NDArrayCompat.__add__\" id=5447535458505340468]\n\t5447535458505340468 -> 4982424794959710867 [id=\"5447535458505340468.args[0]\"]\n\t4982424794959710867 [label=arange id=4982424794959710867]\n\t4982424794959710867 -> -9031501539059790041 [id=\"4982424794959710867.args[0]\"]\n\t-9031501539059790041 [label=100 id=-9031501539059790041]\n\t5447535458505340468 -> 4982424794959710867 [id=\"5447535458505340468.args[1]\"]\n\t5593707570515573442 -> -9031501538954785116 [id=\"5593707570515573442.args[1]\"]\n\t-9031501538954785116 [label=5 id=-9031501538954785116]\n}",
         "label": null,
         "rule": "metadsl_core.numpy.NDArrayCompat.__getitem__"
        },
        {
         "graph": "digraph {\n\tnode [shape=plain]\n\tedge [arrowsize=0.5 penwidth=0.5]\n\t680250064134282809 [label=\"NDArrayCompat.to_ndarray\" id=680250064134282809]\n\t680250064134282809 -> 5593707570515573442 [id=\"680250064134282809.args[0]\"]\n\t5593707570515573442 [label=\"NDArrayCompat.__getitem__\" id=5593707570515573442]\n\t5593707570515573442 -> 5447535458505340468 [id=\"5593707570515573442.args[0]\"]\n\t5447535458505340468 [label=\"NDArrayCompat.__add__\" id=5447535458505340468]\n\t5447535458505340468 -> 4982424794959710867 [id=\"5447535458505340468.args[0]\"]\n\t4982424794959710867 [label=arange id=4982424794959710867]\n\t4982424794959710867 -> -9031501539059790041 [id=\"4982424794959710867.args[0]\"]\n\t-9031501539059790041 [label=100 id=-9031501539059790041]\n\t5447535458505340468 -> 4982424794959710867 [id=\"5447535458505340468.args[1]\"]\n\t5593707570515573442 -> -9031501538954785116 [id=\"5593707570515573442.args[1]\"]\n\t-9031501538954785116 [label=5 id=-9031501538954785116]\n}",
         "label": null,
         "rule": "metadsl_core.numpy.NDArrayCompat.__getitem__"
        },
        {
         "graph": "digraph {\n\tnode [shape=plain]\n\tedge [arrowsize=0.5 penwidth=0.5]\n\t680250064134282809 [label=\"NDArrayCompat.to_ndarray\" id=680250064134282809]\n\t680250064134282809 -> 5593707570515573442 [id=\"680250064134282809.args[0]\"]\n\t5593707570515573442 [label=\"NDArrayCompat.__getitem__\" id=5593707570515573442]\n\t5593707570515573442 -> 5447535458505340468 [id=\"5593707570515573442.args[0]\"]\n\t5447535458505340468 [label=\"NDArrayCompat.__add__\" id=5447535458505340468]\n\t5447535458505340468 -> 4982424794959710867 [id=\"5447535458505340468.args[0]\"]\n\t4982424794959710867 [label=arange id=4982424794959710867]\n\t4982424794959710867 -> -9031501539059790041 [id=\"4982424794959710867.args[0]\"]\n\t-9031501539059790041 [label=100 id=-9031501539059790041]\n\t5447535458505340468 -> 4982424794959710867 [id=\"5447535458505340468.args[1]\"]\n\t5593707570515573442 -> -9031501538954785116 [id=\"5593707570515573442.args[1]\"]\n\t-9031501538954785116 [label=5 id=-9031501538954785116]\n}",
         "label": null,
         "rule": "metadsl_core.numpy.NDArrayCompat.__getitem__"
        },
        {
         "graph": "digraph {\n\tnode [shape=plain]\n\tedge [arrowsize=0.5 penwidth=0.5]\n\t680250064134282809 [label=\"NDArrayCompat.to_ndarray\" id=680250064134282809]\n\t680250064134282809 -> 5593707570515573442 [id=\"680250064134282809.args[0]\"]\n\t5593707570515573442 [label=\"NDArrayCompat.__getitem__\" id=5593707570515573442]\n\t5593707570515573442 -> 5447535458505340468 [id=\"5593707570515573442.args[0]\"]\n\t5447535458505340468 [label=\"NDArrayCompat.__add__\" id=5447535458505340468]\n\t5447535458505340468 -> 4982424794959710867 [id=\"5447535458505340468.args[0]\"]\n\t4982424794959710867 [label=arange id=4982424794959710867]\n\t4982424794959710867 -> -9031501539059790041 [id=\"4982424794959710867.args[0]\"]\n\t-9031501539059790041 [label=100 id=-9031501539059790041]\n\t5447535458505340468 -> 4982424794959710867 [id=\"5447535458505340468.args[1]\"]\n\t5593707570515573442 -> -9031501538954785116 [id=\"5593707570515573442.args[1]\"]\n\t-9031501538954785116 [label=5 id=-9031501538954785116]\n}",
         "label": null,
         "rule": "metadsl_core.numpy.NDArrayCompat.__getitem__"
        },
        {
         "graph": "digraph {\n\tnode [shape=plain]\n\tedge [arrowsize=0.5 penwidth=0.5]\n\t680250064134282809 [label=\"NDArrayCompat.to_ndarray\" id=680250064134282809]\n\t680250064134282809 -> 5593707570515573442 [id=\"680250064134282809.args[0]\"]\n\t5593707570515573442 [label=\"NDArrayCompat.__getitem__\" id=5593707570515573442]\n\t5593707570515573442 -> 5447535458505340468 [id=\"5593707570515573442.args[0]\"]\n\t5447535458505340468 [label=\"NDArrayCompat.__add__\" id=5447535458505340468]\n\t5447535458505340468 -> 4982424794959710867 [id=\"5447535458505340468.args[0]\"]\n\t4982424794959710867 [label=arange id=4982424794959710867]\n\t4982424794959710867 -> -9031501539059790041 [id=\"4982424794959710867.args[0]\"]\n\t-9031501539059790041 [label=100 id=-9031501539059790041]\n\t5447535458505340468 -> 4982424794959710867 [id=\"5447535458505340468.args[1]\"]\n\t5593707570515573442 -> -9031501538954785116 [id=\"5593707570515573442.args[1]\"]\n\t-9031501538954785116 [label=5 id=-9031501538954785116]\n}",
         "label": null,
         "rule": "metadsl_core.numpy.NDArrayCompat.__getitem__"
        },
        {
         "graph": "digraph {\n\tnode [shape=plain]\n\tedge [arrowsize=0.5 penwidth=0.5]\n\t680250064134282809 [label=\"NDArrayCompat.to_ndarray\" id=680250064134282809]\n\t680250064134282809 -> 5593707570515573442 [id=\"680250064134282809.args[0]\"]\n\t5593707570515573442 [label=\"NDArrayCompat.__getitem__\" id=5593707570515573442]\n\t5593707570515573442 -> 5447535458505340468 [id=\"5593707570515573442.args[0]\"]\n\t5447535458505340468 [label=\"NDArrayCompat.__add__\" id=5447535458505340468]\n\t5447535458505340468 -> 4982424794959710867 [id=\"5447535458505340468.args[0]\"]\n\t4982424794959710867 [label=arange id=4982424794959710867]\n\t4982424794959710867 -> -9031501539059790041 [id=\"4982424794959710867.args[0]\"]\n\t-9031501539059790041 [label=100 id=-9031501539059790041]\n\t5447535458505340468 -> 4982424794959710867 [id=\"5447535458505340468.args[1]\"]\n\t5593707570515573442 -> -9031501538954785116 [id=\"5593707570515573442.args[1]\"]\n\t-9031501538954785116 [label=5 id=-9031501538954785116]\n}",
         "label": null,
         "rule": "metadsl_core.numpy.NDArrayCompat.__getitem__"
        },
        {
         "graph": "digraph {\n\tnode [shape=plain]\n\tedge [arrowsize=0.5 penwidth=0.5]\n\t680250064134282809 [label=\"NDArrayCompat.to_ndarray\" id=680250064134282809]\n\t680250064134282809 -> 5593707570515573442 [id=\"680250064134282809.args[0]\"]\n\t5593707570515573442 [label=\"NDArrayCompat.__getitem__\" id=5593707570515573442]\n\t5593707570515573442 -> 5447535458505340468 [id=\"5593707570515573442.args[0]\"]\n\t5447535458505340468 [label=\"NDArrayCompat.__add__\" id=5447535458505340468]\n\t5447535458505340468 -> 4982424794959710867 [id=\"5447535458505340468.args[0]\"]\n\t4982424794959710867 [label=arange id=4982424794959710867]\n\t4982424794959710867 -> -9031501539059790041 [id=\"4982424794959710867.args[0]\"]\n\t-9031501539059790041 [label=100 id=-9031501539059790041]\n\t5447535458505340468 -> 4982424794959710867 [id=\"5447535458505340468.args[1]\"]\n\t5593707570515573442 -> -9031501538954785116 [id=\"5593707570515573442.args[1]\"]\n\t-9031501538954785116 [label=5 id=-9031501538954785116]\n}",
         "label": null,
         "rule": "metadsl_core.numpy.NDArrayCompat.__getitem__"
        },
        {
         "graph": "digraph {\n\tnode [shape=plain]\n\tedge [arrowsize=0.5 penwidth=0.5]\n\t680250064134282809 [label=\"NDArrayCompat.to_ndarray\" id=680250064134282809]\n\t680250064134282809 -> 5593707570515573442 [id=\"680250064134282809.args[0]\"]\n\t5593707570515573442 [label=\"NDArrayCompat.__getitem__\" id=5593707570515573442]\n\t5593707570515573442 -> 5447535458505340468 [id=\"5593707570515573442.args[0]\"]\n\t5447535458505340468 [label=\"NDArrayCompat.__add__\" id=5447535458505340468]\n\t5447535458505340468 -> 4982424794959710867 [id=\"5447535458505340468.args[0]\"]\n\t4982424794959710867 [label=arange id=4982424794959710867]\n\t4982424794959710867 -> -9031501539059790041 [id=\"4982424794959710867.args[0]\"]\n\t-9031501539059790041 [label=100 id=-9031501539059790041]\n\t5447535458505340468 -> 4982424794959710867 [id=\"5447535458505340468.args[1]\"]\n\t5593707570515573442 -> -9031501538954785116 [id=\"5593707570515573442.args[1]\"]\n\t-9031501538954785116 [label=5 id=-9031501538954785116]\n}",
         "label": null,
         "rule": "metadsl_core.numpy.NDArrayCompat.__getitem__"
        },
        {
         "graph": "digraph {\n\tnode [shape=plain]\n\tedge [arrowsize=0.5 penwidth=0.5]\n\t680250064134282809 [label=\"NDArrayCompat.to_ndarray\" id=680250064134282809]\n\t680250064134282809 -> 5593707570515573442 [id=\"680250064134282809.args[0]\"]\n\t5593707570515573442 [label=\"NDArrayCompat.__getitem__\" id=5593707570515573442]\n\t5593707570515573442 -> 5447535458505340468 [id=\"5593707570515573442.args[0]\"]\n\t5447535458505340468 [label=\"NDArrayCompat.__add__\" id=5447535458505340468]\n\t5447535458505340468 -> 4982424794959710867 [id=\"5447535458505340468.args[0]\"]\n\t4982424794959710867 [label=arange id=4982424794959710867]\n\t4982424794959710867 -> -9031501539059790041 [id=\"4982424794959710867.args[0]\"]\n\t-9031501539059790041 [label=100 id=-9031501539059790041]\n\t5447535458505340468 -> 4982424794959710867 [id=\"5447535458505340468.args[1]\"]\n\t5593707570515573442 -> -9031501538954785116 [id=\"5593707570515573442.args[1]\"]\n\t-9031501538954785116 [label=5 id=-9031501538954785116]\n}",
         "label": null,
         "rule": "metadsl_core.numpy.NDArrayCompat.__getitem__"
        },
        {
         "graph": "digraph {\n\tnode [shape=plain]\n\tedge [arrowsize=0.5 penwidth=0.5]\n\t680250064134282809 [label=\"NDArrayCompat.to_ndarray\" id=680250064134282809]\n\t680250064134282809 -> 5593707570515573442 [id=\"680250064134282809.args[0]\"]\n\t5593707570515573442 [label=\"NDArrayCompat.__getitem__\" id=5593707570515573442]\n\t5593707570515573442 -> 5447535458505340468 [id=\"5593707570515573442.args[0]\"]\n\t5447535458505340468 [label=\"NDArrayCompat.__add__\" id=5447535458505340468]\n\t5447535458505340468 -> 4982424794959710867 [id=\"5447535458505340468.args[0]\"]\n\t4982424794959710867 [label=arange id=4982424794959710867]\n\t4982424794959710867 -> -9031501539059790041 [id=\"4982424794959710867.args[0]\"]\n\t-9031501539059790041 [label=100 id=-9031501539059790041]\n\t5447535458505340468 -> 4982424794959710867 [id=\"5447535458505340468.args[1]\"]\n\t5593707570515573442 -> -9031501538954785116 [id=\"5593707570515573442.args[1]\"]\n\t-9031501538954785116 [label=5 id=-9031501538954785116]\n}",
         "label": null,
         "rule": "metadsl_core.numpy.NDArrayCompat.__getitem__"
        },
        {
         "graph": "digraph {\n\tnode [shape=plain]\n\tedge [arrowsize=0.5 penwidth=0.5]\n\t680250064134282809 [label=\"NDArrayCompat.to_ndarray\" id=680250064134282809]\n\t680250064134282809 -> 5593707570515573442 [id=\"680250064134282809.args[0]\"]\n\t5593707570515573442 [label=\"NDArrayCompat.__getitem__\" id=5593707570515573442]\n\t5593707570515573442 -> 5447535458505340468 [id=\"5593707570515573442.args[0]\"]\n\t5447535458505340468 [label=\"NDArrayCompat.__add__\" id=5447535458505340468]\n\t5447535458505340468 -> 4982424794959710867 [id=\"5447535458505340468.args[0]\"]\n\t4982424794959710867 [label=arange id=4982424794959710867]\n\t4982424794959710867 -> -9031501539059790041 [id=\"4982424794959710867.args[0]\"]\n\t-9031501539059790041 [label=100 id=-9031501539059790041]\n\t5447535458505340468 -> 4982424794959710867 [id=\"5447535458505340468.args[1]\"]\n\t5593707570515573442 -> -9031501538954785116 [id=\"5593707570515573442.args[1]\"]\n\t-9031501538954785116 [label=5 id=-9031501538954785116]\n}",
         "label": null,
         "rule": "metadsl_core.numpy.NDArrayCompat.__getitem__"
        },
        {
         "graph": "digraph {\n\tnode [shape=plain]\n\tedge [arrowsize=0.5 penwidth=0.5]\n\t680250064134282809 [label=\"NDArrayCompat.to_ndarray\" id=680250064134282809]\n\t680250064134282809 -> 5593707570515573442 [id=\"680250064134282809.args[0]\"]\n\t5593707570515573442 [label=\"NDArrayCompat.__getitem__\" id=5593707570515573442]\n\t5593707570515573442 -> 5447535458505340468 [id=\"5593707570515573442.args[0]\"]\n\t5447535458505340468 [label=\"NDArrayCompat.__add__\" id=5447535458505340468]\n\t5447535458505340468 -> 4982424794959710867 [id=\"5447535458505340468.args[0]\"]\n\t4982424794959710867 [label=arange id=4982424794959710867]\n\t4982424794959710867 -> -9031501539059790041 [id=\"4982424794959710867.args[0]\"]\n\t-9031501539059790041 [label=100 id=-9031501539059790041]\n\t5447535458505340468 -> 4982424794959710867 [id=\"5447535458505340468.args[1]\"]\n\t5593707570515573442 -> -9031501538954785116 [id=\"5593707570515573442.args[1]\"]\n\t-9031501538954785116 [label=5 id=-9031501538954785116]\n}",
         "label": null,
         "rule": "metadsl_core.numpy.NDArrayCompat.__getitem__"
        },
        {
         "graph": "digraph {\n\tnode [shape=plain]\n\tedge [arrowsize=0.5 penwidth=0.5]\n\t680250064134282809 [label=\"NDArrayCompat.to_ndarray\" id=680250064134282809]\n\t680250064134282809 -> 5593707570515573442 [id=\"680250064134282809.args[0]\"]\n\t5593707570515573442 [label=\"NDArrayCompat.__getitem__\" id=5593707570515573442]\n\t5593707570515573442 -> 5447535458505340468 [id=\"5593707570515573442.args[0]\"]\n\t5447535458505340468 [label=\"NDArrayCompat.__add__\" id=5447535458505340468]\n\t5447535458505340468 -> 4982424794959710867 [id=\"5447535458505340468.args[0]\"]\n\t4982424794959710867 [label=arange id=4982424794959710867]\n\t4982424794959710867 -> -9031501539059790041 [id=\"4982424794959710867.args[0]\"]\n\t-9031501539059790041 [label=100 id=-9031501539059790041]\n\t5447535458505340468 -> 4982424794959710867 [id=\"5447535458505340468.args[1]\"]\n\t5593707570515573442 -> -9031501538954785116 [id=\"5593707570515573442.args[1]\"]\n\t-9031501538954785116 [label=5 id=-9031501538954785116]\n}",
         "label": null,
         "rule": "metadsl_core.numpy.NDArrayCompat.__getitem__"
        },
        {
         "graph": "digraph {\n\tnode [shape=plain]\n\tedge [arrowsize=0.5 penwidth=0.5]\n\t680250064134282809 [label=\"NDArrayCompat.to_ndarray\" id=680250064134282809]\n\t680250064134282809 -> 5593707570515573442 [id=\"680250064134282809.args[0]\"]\n\t5593707570515573442 [label=\"NDArrayCompat.__getitem__\" id=5593707570515573442]\n\t5593707570515573442 -> 5447535458505340468 [id=\"5593707570515573442.args[0]\"]\n\t5447535458505340468 [label=\"NDArrayCompat.__add__\" id=5447535458505340468]\n\t5447535458505340468 -> 4982424794959710867 [id=\"5447535458505340468.args[0]\"]\n\t4982424794959710867 [label=arange id=4982424794959710867]\n\t4982424794959710867 -> -9031501539059790041 [id=\"4982424794959710867.args[0]\"]\n\t-9031501539059790041 [label=100 id=-9031501539059790041]\n\t5447535458505340468 -> 4982424794959710867 [id=\"5447535458505340468.args[1]\"]\n\t5593707570515573442 -> -9031501538954785116 [id=\"5593707570515573442.args[1]\"]\n\t-9031501538954785116 [label=5 id=-9031501538954785116]\n}",
         "label": null,
         "rule": "metadsl_core.numpy.NDArrayCompat.__getitem__"
        },
        {
         "graph": "digraph {\n\tnode [shape=plain]\n\tedge [arrowsize=0.5 penwidth=0.5]\n\t680250064134282809 [label=\"NDArrayCompat.to_ndarray\" id=680250064134282809]\n\t680250064134282809 -> 5593707570515573442 [id=\"680250064134282809.args[0]\"]\n\t5593707570515573442 [label=\"NDArrayCompat.__getitem__\" id=5593707570515573442]\n\t5593707570515573442 -> 5447535458505340468 [id=\"5593707570515573442.args[0]\"]\n\t5447535458505340468 [label=\"NDArrayCompat.__add__\" id=5447535458505340468]\n\t5447535458505340468 -> 4982424794959710867 [id=\"5447535458505340468.args[0]\"]\n\t4982424794959710867 [label=arange id=4982424794959710867]\n\t4982424794959710867 -> -9031501539059790041 [id=\"4982424794959710867.args[0]\"]\n\t-9031501539059790041 [label=100 id=-9031501539059790041]\n\t5447535458505340468 -> 4982424794959710867 [id=\"5447535458505340468.args[1]\"]\n\t5593707570515573442 -> -9031501538954785116 [id=\"5593707570515573442.args[1]\"]\n\t-9031501538954785116 [label=5 id=-9031501538954785116]\n}",
         "label": null,
         "rule": "metadsl_core.numpy.NDArrayCompat.__getitem__"
        },
        {
         "graph": "digraph {\n\tnode [shape=plain]\n\tedge [arrowsize=0.5 penwidth=0.5]\n\t680250064134282809 [label=\"NDArrayCompat.to_ndarray\" id=680250064134282809]\n\t680250064134282809 -> 5593707570515573442 [id=\"680250064134282809.args[0]\"]\n\t5593707570515573442 [label=\"NDArrayCompat.__getitem__\" id=5593707570515573442]\n\t5593707570515573442 -> 5447535458505340468 [id=\"5593707570515573442.args[0]\"]\n\t5447535458505340468 [label=\"NDArrayCompat.__add__\" id=5447535458505340468]\n\t5447535458505340468 -> 4982424794959710867 [id=\"5447535458505340468.args[0]\"]\n\t4982424794959710867 [label=arange id=4982424794959710867]\n\t4982424794959710867 -> -9031501539059790041 [id=\"4982424794959710867.args[0]\"]\n\t-9031501539059790041 [label=100 id=-9031501539059790041]\n\t5447535458505340468 -> 4982424794959710867 [id=\"5447535458505340468.args[1]\"]\n\t5593707570515573442 -> -9031501538954785116 [id=\"5593707570515573442.args[1]\"]\n\t-9031501538954785116 [label=5 id=-9031501538954785116]\n}",
         "label": null,
         "rule": "metadsl_core.numpy.NDArrayCompat.__getitem__"
        },
        {
         "graph": "digraph {\n\tnode [shape=plain]\n\tedge [arrowsize=0.5 penwidth=0.5]\n\t680250064134282809 [label=\"NDArrayCompat.to_ndarray\" id=680250064134282809]\n\t680250064134282809 -> 5593707570515573442 [id=\"680250064134282809.args[0]\"]\n\t5593707570515573442 [label=\"NDArrayCompat.__getitem__\" id=5593707570515573442]\n\t5593707570515573442 -> 5447535458505340468 [id=\"5593707570515573442.args[0]\"]\n\t5447535458505340468 [label=\"NDArrayCompat.__add__\" id=5447535458505340468]\n\t5447535458505340468 -> 4982424794959710867 [id=\"5447535458505340468.args[0]\"]\n\t4982424794959710867 [label=arange id=4982424794959710867]\n\t4982424794959710867 -> -9031501539059790041 [id=\"4982424794959710867.args[0]\"]\n\t-9031501539059790041 [label=100 id=-9031501539059790041]\n\t5447535458505340468 -> 4982424794959710867 [id=\"5447535458505340468.args[1]\"]\n\t5593707570515573442 -> -9031501538954785116 [id=\"5593707570515573442.args[1]\"]\n\t-9031501538954785116 [label=5 id=-9031501538954785116]\n}",
         "label": null,
         "rule": "metadsl_core.numpy.NDArrayCompat.__getitem__"
        },
        {
         "graph": "digraph {\n\tnode [shape=plain]\n\tedge [arrowsize=0.5 penwidth=0.5]\n\t680250064134282809 [label=\"NDArrayCompat.to_ndarray\" id=680250064134282809]\n\t680250064134282809 -> 5593707570515573442 [id=\"680250064134282809.args[0]\"]\n\t5593707570515573442 [label=\"NDArrayCompat.__getitem__\" id=5593707570515573442]\n\t5593707570515573442 -> 5447535458505340468 [id=\"5593707570515573442.args[0]\"]\n\t5447535458505340468 [label=\"NDArrayCompat.__add__\" id=5447535458505340468]\n\t5447535458505340468 -> 4982424794959710867 [id=\"5447535458505340468.args[0]\"]\n\t4982424794959710867 [label=arange id=4982424794959710867]\n\t4982424794959710867 -> -9031501539059790041 [id=\"4982424794959710867.args[0]\"]\n\t-9031501539059790041 [label=100 id=-9031501539059790041]\n\t5447535458505340468 -> 4982424794959710867 [id=\"5447535458505340468.args[1]\"]\n\t5593707570515573442 -> -9031501538954785116 [id=\"5593707570515573442.args[1]\"]\n\t-9031501538954785116 [label=5 id=-9031501538954785116]\n}",
         "label": null,
         "rule": "metadsl_core.numpy.NDArrayCompat.__getitem__"
        },
        {
         "graph": "digraph {\n\tnode [shape=plain]\n\tedge [arrowsize=0.5 penwidth=0.5]\n\t680250064134282809 [label=\"NDArrayCompat.to_ndarray\" id=680250064134282809]\n\t680250064134282809 -> 5593707570515573442 [id=\"680250064134282809.args[0]\"]\n\t5593707570515573442 [label=\"NDArrayCompat.__getitem__\" id=5593707570515573442]\n\t5593707570515573442 -> 5447535458505340468 [id=\"5593707570515573442.args[0]\"]\n\t5447535458505340468 [label=\"NDArrayCompat.__add__\" id=5447535458505340468]\n\t5447535458505340468 -> 4982424794959710867 [id=\"5447535458505340468.args[0]\"]\n\t4982424794959710867 [label=arange id=4982424794959710867]\n\t4982424794959710867 -> -9031501539059790041 [id=\"4982424794959710867.args[0]\"]\n\t-9031501539059790041 [label=100 id=-9031501539059790041]\n\t5447535458505340468 -> 4982424794959710867 [id=\"5447535458505340468.args[1]\"]\n\t5593707570515573442 -> -9031501538954785116 [id=\"5593707570515573442.args[1]\"]\n\t-9031501538954785116 [label=5 id=-9031501538954785116]\n}",
         "label": null,
         "rule": "metadsl_core.numpy.NDArrayCompat.__getitem__"
        },
        {
         "graph": "digraph {\n\tnode [shape=plain]\n\tedge [arrowsize=0.5 penwidth=0.5]\n\t680250064134282809 [label=\"NDArrayCompat.to_ndarray\" id=680250064134282809]\n\t680250064134282809 -> 5593707570515573442 [id=\"680250064134282809.args[0]\"]\n\t5593707570515573442 [label=\"NDArrayCompat.__getitem__\" id=5593707570515573442]\n\t5593707570515573442 -> 5447535458505340468 [id=\"5593707570515573442.args[0]\"]\n\t5447535458505340468 [label=\"NDArrayCompat.__add__\" id=5447535458505340468]\n\t5447535458505340468 -> 4982424794959710867 [id=\"5447535458505340468.args[0]\"]\n\t4982424794959710867 [label=arange id=4982424794959710867]\n\t4982424794959710867 -> -9031501539059790041 [id=\"4982424794959710867.args[0]\"]\n\t-9031501539059790041 [label=100 id=-9031501539059790041]\n\t5447535458505340468 -> 4982424794959710867 [id=\"5447535458505340468.args[1]\"]\n\t5593707570515573442 -> -9031501538954785116 [id=\"5593707570515573442.args[1]\"]\n\t-9031501538954785116 [label=5 id=-9031501538954785116]\n}",
         "label": null,
         "rule": "metadsl_core.numpy.NDArrayCompat.__getitem__"
        },
        {
         "graph": "digraph {\n\tnode [shape=plain]\n\tedge [arrowsize=0.5 penwidth=0.5]\n\t680250064134282809 [label=\"NDArrayCompat.to_ndarray\" id=680250064134282809]\n\t680250064134282809 -> 5593707570515573442 [id=\"680250064134282809.args[0]\"]\n\t5593707570515573442 [label=\"NDArrayCompat.__getitem__\" id=5593707570515573442]\n\t5593707570515573442 -> 5447535458505340468 [id=\"5593707570515573442.args[0]\"]\n\t5447535458505340468 [label=\"NDArrayCompat.__add__\" id=5447535458505340468]\n\t5447535458505340468 -> 4982424794959710867 [id=\"5447535458505340468.args[0]\"]\n\t4982424794959710867 [label=arange id=4982424794959710867]\n\t4982424794959710867 -> -9031501539059790041 [id=\"4982424794959710867.args[0]\"]\n\t-9031501539059790041 [label=100 id=-9031501539059790041]\n\t5447535458505340468 -> 4982424794959710867 [id=\"5447535458505340468.args[1]\"]\n\t5593707570515573442 -> -9031501538954785116 [id=\"5593707570515573442.args[1]\"]\n\t-9031501538954785116 [label=5 id=-9031501538954785116]\n}",
         "label": null,
         "rule": "metadsl_core.numpy.NDArrayCompat.__getitem__"
        },
        {
         "graph": "digraph {\n\tnode [shape=plain]\n\tedge [arrowsize=0.5 penwidth=0.5]\n\t680250064134282809 [label=\"NDArrayCompat.to_ndarray\" id=680250064134282809]\n\t680250064134282809 -> 5593707570515573442 [id=\"680250064134282809.args[0]\"]\n\t5593707570515573442 [label=\"NDArrayCompat.__getitem__\" id=5593707570515573442]\n\t5593707570515573442 -> 5447535458505340468 [id=\"5593707570515573442.args[0]\"]\n\t5447535458505340468 [label=\"NDArrayCompat.__add__\" id=5447535458505340468]\n\t5447535458505340468 -> 4982424794959710867 [id=\"5447535458505340468.args[0]\"]\n\t4982424794959710867 [label=arange id=4982424794959710867]\n\t4982424794959710867 -> -9031501539059790041 [id=\"4982424794959710867.args[0]\"]\n\t-9031501539059790041 [label=100 id=-9031501539059790041]\n\t5447535458505340468 -> 4982424794959710867 [id=\"5447535458505340468.args[1]\"]\n\t5593707570515573442 -> -9031501538954785116 [id=\"5593707570515573442.args[1]\"]\n\t-9031501538954785116 [label=5 id=-9031501538954785116]\n}",
         "label": null,
         "rule": "metadsl_core.numpy.NDArrayCompat.__getitem__"
        },
        {
         "graph": "digraph {\n\tnode [shape=plain]\n\tedge [arrowsize=0.5 penwidth=0.5]\n\t680250064134282809 [label=\"NDArrayCompat.to_ndarray\" id=680250064134282809]\n\t680250064134282809 -> 5593707570515573442 [id=\"680250064134282809.args[0]\"]\n\t5593707570515573442 [label=\"NDArrayCompat.__getitem__\" id=5593707570515573442]\n\t5593707570515573442 -> 5447535458505340468 [id=\"5593707570515573442.args[0]\"]\n\t5447535458505340468 [label=\"NDArrayCompat.__add__\" id=5447535458505340468]\n\t5447535458505340468 -> 4982424794959710867 [id=\"5447535458505340468.args[0]\"]\n\t4982424794959710867 [label=arange id=4982424794959710867]\n\t4982424794959710867 -> -9031501539059790041 [id=\"4982424794959710867.args[0]\"]\n\t-9031501539059790041 [label=100 id=-9031501539059790041]\n\t5447535458505340468 -> 4982424794959710867 [id=\"5447535458505340468.args[1]\"]\n\t5593707570515573442 -> -9031501538954785116 [id=\"5593707570515573442.args[1]\"]\n\t-9031501538954785116 [label=5 id=-9031501538954785116]\n}",
         "label": null,
         "rule": "metadsl_core.numpy.NDArrayCompat.__getitem__"
        },
        {
         "graph": "digraph {\n\tnode [shape=plain]\n\tedge [arrowsize=0.5 penwidth=0.5]\n\t680250064134282809 [label=\"NDArrayCompat.to_ndarray\" id=680250064134282809]\n\t680250064134282809 -> 5593707570515573442 [id=\"680250064134282809.args[0]\"]\n\t5593707570515573442 [label=\"NDArrayCompat.__getitem__\" id=5593707570515573442]\n\t5593707570515573442 -> 5447535458505340468 [id=\"5593707570515573442.args[0]\"]\n\t5447535458505340468 [label=\"NDArrayCompat.__add__\" id=5447535458505340468]\n\t5447535458505340468 -> 4982424794959710867 [id=\"5447535458505340468.args[0]\"]\n\t4982424794959710867 [label=arange id=4982424794959710867]\n\t4982424794959710867 -> -9031501539059790041 [id=\"4982424794959710867.args[0]\"]\n\t-9031501539059790041 [label=100 id=-9031501539059790041]\n\t5447535458505340468 -> 4982424794959710867 [id=\"5447535458505340468.args[1]\"]\n\t5593707570515573442 -> -9031501538954785116 [id=\"5593707570515573442.args[1]\"]\n\t-9031501538954785116 [label=5 id=-9031501538954785116]\n}",
         "label": null,
         "rule": "metadsl_core.numpy.NDArrayCompat.__getitem__"
        },
        {
         "graph": "digraph {\n\tnode [shape=plain]\n\tedge [arrowsize=0.5 penwidth=0.5]\n\t680250064134282809 [label=\"NDArrayCompat.to_ndarray\" id=680250064134282809]\n\t680250064134282809 -> 5593707570515573442 [id=\"680250064134282809.args[0]\"]\n\t5593707570515573442 [label=\"NDArrayCompat.__getitem__\" id=5593707570515573442]\n\t5593707570515573442 -> 5447535458505340468 [id=\"5593707570515573442.args[0]\"]\n\t5447535458505340468 [label=\"NDArrayCompat.__add__\" id=5447535458505340468]\n\t5447535458505340468 -> 4982424794959710867 [id=\"5447535458505340468.args[0]\"]\n\t4982424794959710867 [label=arange id=4982424794959710867]\n\t4982424794959710867 -> -9031501539059790041 [id=\"4982424794959710867.args[0]\"]\n\t-9031501539059790041 [label=100 id=-9031501539059790041]\n\t5447535458505340468 -> 4982424794959710867 [id=\"5447535458505340468.args[1]\"]\n\t5593707570515573442 -> -9031501538954785116 [id=\"5593707570515573442.args[1]\"]\n\t-9031501538954785116 [label=5 id=-9031501538954785116]\n}",
         "label": null,
         "rule": "metadsl_core.numpy.NDArrayCompat.__getitem__"
        },
        {
         "graph": "digraph {\n\tnode [shape=plain]\n\tedge [arrowsize=0.5 penwidth=0.5]\n\t680250064134282809 [label=\"NDArrayCompat.to_ndarray\" id=680250064134282809]\n\t680250064134282809 -> 5593707570515573442 [id=\"680250064134282809.args[0]\"]\n\t5593707570515573442 [label=\"NDArrayCompat.__getitem__\" id=5593707570515573442]\n\t5593707570515573442 -> 5447535458505340468 [id=\"5593707570515573442.args[0]\"]\n\t5447535458505340468 [label=\"NDArrayCompat.__add__\" id=5447535458505340468]\n\t5447535458505340468 -> 4982424794959710867 [id=\"5447535458505340468.args[0]\"]\n\t4982424794959710867 [label=arange id=4982424794959710867]\n\t4982424794959710867 -> -9031501539059790041 [id=\"4982424794959710867.args[0]\"]\n\t-9031501539059790041 [label=100 id=-9031501539059790041]\n\t5447535458505340468 -> 4982424794959710867 [id=\"5447535458505340468.args[1]\"]\n\t5593707570515573442 -> -9031501538954785116 [id=\"5593707570515573442.args[1]\"]\n\t-9031501538954785116 [label=5 id=-9031501538954785116]\n}",
         "label": null,
         "rule": "metadsl_core.numpy.NDArrayCompat.__getitem__"
        },
        {
         "graph": "digraph {\n\tnode [shape=plain]\n\tedge [arrowsize=0.5 penwidth=0.5]\n\t680250064134282809 [label=\"NDArrayCompat.to_ndarray\" id=680250064134282809]\n\t680250064134282809 -> 5593707570515573442 [id=\"680250064134282809.args[0]\"]\n\t5593707570515573442 [label=\"NDArrayCompat.__getitem__\" id=5593707570515573442]\n\t5593707570515573442 -> 5447535458505340468 [id=\"5593707570515573442.args[0]\"]\n\t5447535458505340468 [label=\"NDArrayCompat.__add__\" id=5447535458505340468]\n\t5447535458505340468 -> 4982424794959710867 [id=\"5447535458505340468.args[0]\"]\n\t4982424794959710867 [label=arange id=4982424794959710867]\n\t4982424794959710867 -> -9031501539059790041 [id=\"4982424794959710867.args[0]\"]\n\t-9031501539059790041 [label=100 id=-9031501539059790041]\n\t5447535458505340468 -> 4982424794959710867 [id=\"5447535458505340468.args[1]\"]\n\t5593707570515573442 -> -9031501538954785116 [id=\"5593707570515573442.args[1]\"]\n\t-9031501538954785116 [label=5 id=-9031501538954785116]\n}",
         "label": null,
         "rule": "metadsl_core.numpy.NDArrayCompat.__getitem__"
        },
        {
         "graph": "digraph {\n\tnode [shape=plain]\n\tedge [arrowsize=0.5 penwidth=0.5]\n\t680250064134282809 [label=\"NDArrayCompat.to_ndarray\" id=680250064134282809]\n\t680250064134282809 -> 5593707570515573442 [id=\"680250064134282809.args[0]\"]\n\t5593707570515573442 [label=\"NDArrayCompat.__getitem__\" id=5593707570515573442]\n\t5593707570515573442 -> 5447535458505340468 [id=\"5593707570515573442.args[0]\"]\n\t5447535458505340468 [label=\"NDArrayCompat.__add__\" id=5447535458505340468]\n\t5447535458505340468 -> 4982424794959710867 [id=\"5447535458505340468.args[0]\"]\n\t4982424794959710867 [label=arange id=4982424794959710867]\n\t4982424794959710867 -> -9031501539059790041 [id=\"4982424794959710867.args[0]\"]\n\t-9031501539059790041 [label=100 id=-9031501539059790041]\n\t5447535458505340468 -> 4982424794959710867 [id=\"5447535458505340468.args[1]\"]\n\t5593707570515573442 -> -9031501538954785116 [id=\"5593707570515573442.args[1]\"]\n\t-9031501538954785116 [label=5 id=-9031501538954785116]\n}",
         "label": null,
         "rule": "metadsl_core.numpy.NDArrayCompat.__getitem__"
        },
        {
         "graph": "digraph {\n\tnode [shape=plain]\n\tedge [arrowsize=0.5 penwidth=0.5]\n\t680250064134282809 [label=\"NDArrayCompat.to_ndarray\" id=680250064134282809]\n\t680250064134282809 -> 5593707570515573442 [id=\"680250064134282809.args[0]\"]\n\t5593707570515573442 [label=\"NDArrayCompat.__getitem__\" id=5593707570515573442]\n\t5593707570515573442 -> 5447535458505340468 [id=\"5593707570515573442.args[0]\"]\n\t5447535458505340468 [label=\"NDArrayCompat.__add__\" id=5447535458505340468]\n\t5447535458505340468 -> 4982424794959710867 [id=\"5447535458505340468.args[0]\"]\n\t4982424794959710867 [label=arange id=4982424794959710867]\n\t4982424794959710867 -> -9031501539059790041 [id=\"4982424794959710867.args[0]\"]\n\t-9031501539059790041 [label=100 id=-9031501539059790041]\n\t5447535458505340468 -> 4982424794959710867 [id=\"5447535458505340468.args[1]\"]\n\t5593707570515573442 -> -9031501538954785116 [id=\"5593707570515573442.args[1]\"]\n\t-9031501538954785116 [label=5 id=-9031501538954785116]\n}",
         "label": null,
         "rule": "metadsl_core.numpy.NDArrayCompat.__getitem__"
        },
        {
         "graph": "digraph {\n\tnode [shape=plain]\n\tedge [arrowsize=0.5 penwidth=0.5]\n\t680250064134282809 [label=\"NDArrayCompat.to_ndarray\" id=680250064134282809]\n\t680250064134282809 -> 5593707570515573442 [id=\"680250064134282809.args[0]\"]\n\t5593707570515573442 [label=\"NDArrayCompat.__getitem__\" id=5593707570515573442]\n\t5593707570515573442 -> 5447535458505340468 [id=\"5593707570515573442.args[0]\"]\n\t5447535458505340468 [label=\"NDArrayCompat.__add__\" id=5447535458505340468]\n\t5447535458505340468 -> 4982424794959710867 [id=\"5447535458505340468.args[0]\"]\n\t4982424794959710867 [label=arange id=4982424794959710867]\n\t4982424794959710867 -> -9031501539059790041 [id=\"4982424794959710867.args[0]\"]\n\t-9031501539059790041 [label=100 id=-9031501539059790041]\n\t5447535458505340468 -> 4982424794959710867 [id=\"5447535458505340468.args[1]\"]\n\t5593707570515573442 -> -9031501538954785116 [id=\"5593707570515573442.args[1]\"]\n\t-9031501538954785116 [label=5 id=-9031501538954785116]\n}",
         "label": null,
         "rule": "metadsl_core.numpy.NDArrayCompat.__getitem__"
        },
        {
         "graph": "digraph {\n\tnode [shape=plain]\n\tedge [arrowsize=0.5 penwidth=0.5]\n\t680250064134282809 [label=\"NDArrayCompat.to_ndarray\" id=680250064134282809]\n\t680250064134282809 -> 5593707570515573442 [id=\"680250064134282809.args[0]\"]\n\t5593707570515573442 [label=\"NDArrayCompat.__getitem__\" id=5593707570515573442]\n\t5593707570515573442 -> 5447535458505340468 [id=\"5593707570515573442.args[0]\"]\n\t5447535458505340468 [label=\"NDArrayCompat.__add__\" id=5447535458505340468]\n\t5447535458505340468 -> 4982424794959710867 [id=\"5447535458505340468.args[0]\"]\n\t4982424794959710867 [label=arange id=4982424794959710867]\n\t4982424794959710867 -> -9031501539059790041 [id=\"4982424794959710867.args[0]\"]\n\t-9031501539059790041 [label=100 id=-9031501539059790041]\n\t5447535458505340468 -> 4982424794959710867 [id=\"5447535458505340468.args[1]\"]\n\t5593707570515573442 -> -9031501538954785116 [id=\"5593707570515573442.args[1]\"]\n\t-9031501538954785116 [label=5 id=-9031501538954785116]\n}",
         "label": null,
         "rule": "metadsl_core.numpy.NDArrayCompat.__getitem__"
        },
        {
         "graph": "digraph {\n\tnode [shape=plain]\n\tedge [arrowsize=0.5 penwidth=0.5]\n\t680250064134282809 [label=\"NDArrayCompat.to_ndarray\" id=680250064134282809]\n\t680250064134282809 -> 5593707570515573442 [id=\"680250064134282809.args[0]\"]\n\t5593707570515573442 [label=\"NDArrayCompat.__getitem__\" id=5593707570515573442]\n\t5593707570515573442 -> 5447535458505340468 [id=\"5593707570515573442.args[0]\"]\n\t5447535458505340468 [label=\"NDArrayCompat.__add__\" id=5447535458505340468]\n\t5447535458505340468 -> 4982424794959710867 [id=\"5447535458505340468.args[0]\"]\n\t4982424794959710867 [label=arange id=4982424794959710867]\n\t4982424794959710867 -> -9031501539059790041 [id=\"4982424794959710867.args[0]\"]\n\t-9031501539059790041 [label=100 id=-9031501539059790041]\n\t5447535458505340468 -> 4982424794959710867 [id=\"5447535458505340468.args[1]\"]\n\t5593707570515573442 -> -9031501538954785116 [id=\"5593707570515573442.args[1]\"]\n\t-9031501538954785116 [label=5 id=-9031501538954785116]\n}",
         "label": null,
         "rule": "metadsl_core.numpy.NDArrayCompat.__getitem__"
        },
        {
         "graph": "digraph {\n\tnode [shape=plain]\n\tedge [arrowsize=0.5 penwidth=0.5]\n\t680250064134282809 [label=\"NDArrayCompat.to_ndarray\" id=680250064134282809]\n\t680250064134282809 -> 5593707570515573442 [id=\"680250064134282809.args[0]\"]\n\t5593707570515573442 [label=\"NDArrayCompat.__getitem__\" id=5593707570515573442]\n\t5593707570515573442 -> 5447535458505340468 [id=\"5593707570515573442.args[0]\"]\n\t5447535458505340468 [label=\"NDArrayCompat.__add__\" id=5447535458505340468]\n\t5447535458505340468 -> 4982424794959710867 [id=\"5447535458505340468.args[0]\"]\n\t4982424794959710867 [label=arange id=4982424794959710867]\n\t4982424794959710867 -> -9031501539059790041 [id=\"4982424794959710867.args[0]\"]\n\t-9031501539059790041 [label=100 id=-9031501539059790041]\n\t5447535458505340468 -> 4982424794959710867 [id=\"5447535458505340468.args[1]\"]\n\t5593707570515573442 -> -9031501538954785116 [id=\"5593707570515573442.args[1]\"]\n\t-9031501538954785116 [label=5 id=-9031501538954785116]\n}",
         "label": null,
         "rule": "metadsl_core.numpy.NDArrayCompat.__getitem__"
        },
        {
         "graph": "digraph {\n\tnode [shape=plain]\n\tedge [arrowsize=0.5 penwidth=0.5]\n\t680250064134282809 [label=\"NDArrayCompat.to_ndarray\" id=680250064134282809]\n\t680250064134282809 -> 5593707570515573442 [id=\"680250064134282809.args[0]\"]\n\t5593707570515573442 [label=\"NDArrayCompat.__getitem__\" id=5593707570515573442]\n\t5593707570515573442 -> 5447535458505340468 [id=\"5593707570515573442.args[0]\"]\n\t5447535458505340468 [label=\"NDArrayCompat.__add__\" id=5447535458505340468]\n\t5447535458505340468 -> 4982424794959710867 [id=\"5447535458505340468.args[0]\"]\n\t4982424794959710867 [label=arange id=4982424794959710867]\n\t4982424794959710867 -> -9031501539059790041 [id=\"4982424794959710867.args[0]\"]\n\t-9031501539059790041 [label=100 id=-9031501539059790041]\n\t5447535458505340468 -> 4982424794959710867 [id=\"5447535458505340468.args[1]\"]\n\t5593707570515573442 -> -9031501538954785116 [id=\"5593707570515573442.args[1]\"]\n\t-9031501538954785116 [label=5 id=-9031501538954785116]\n}",
         "label": null,
         "rule": "metadsl_core.numpy.NDArrayCompat.__getitem__"
        },
        {
         "graph": "digraph {\n\tnode [shape=plain]\n\tedge [arrowsize=0.5 penwidth=0.5]\n\t680250064134282809 [label=\"NDArrayCompat.to_ndarray\" id=680250064134282809]\n\t680250064134282809 -> 5593707570515573442 [id=\"680250064134282809.args[0]\"]\n\t5593707570515573442 [label=\"NDArrayCompat.__getitem__\" id=5593707570515573442]\n\t5593707570515573442 -> 5447535458505340468 [id=\"5593707570515573442.args[0]\"]\n\t5447535458505340468 [label=\"NDArrayCompat.__add__\" id=5447535458505340468]\n\t5447535458505340468 -> 4982424794959710867 [id=\"5447535458505340468.args[0]\"]\n\t4982424794959710867 [label=arange id=4982424794959710867]\n\t4982424794959710867 -> -9031501539059790041 [id=\"4982424794959710867.args[0]\"]\n\t-9031501539059790041 [label=100 id=-9031501539059790041]\n\t5447535458505340468 -> 4982424794959710867 [id=\"5447535458505340468.args[1]\"]\n\t5593707570515573442 -> -9031501538954785116 [id=\"5593707570515573442.args[1]\"]\n\t-9031501538954785116 [label=5 id=-9031501538954785116]\n}",
         "label": null,
         "rule": "metadsl_core.numpy.NDArrayCompat.__getitem__"
        },
        {
         "graph": "digraph {\n\tnode [shape=plain]\n\tedge [arrowsize=0.5 penwidth=0.5]\n\t680250064134282809 [label=\"NDArrayCompat.to_ndarray\" id=680250064134282809]\n\t680250064134282809 -> 5593707570515573442 [id=\"680250064134282809.args[0]\"]\n\t5593707570515573442 [label=\"NDArrayCompat.__getitem__\" id=5593707570515573442]\n\t5593707570515573442 -> 5447535458505340468 [id=\"5593707570515573442.args[0]\"]\n\t5447535458505340468 [label=\"NDArrayCompat.__add__\" id=5447535458505340468]\n\t5447535458505340468 -> 4982424794959710867 [id=\"5447535458505340468.args[0]\"]\n\t4982424794959710867 [label=arange id=4982424794959710867]\n\t4982424794959710867 -> -9031501539059790041 [id=\"4982424794959710867.args[0]\"]\n\t-9031501539059790041 [label=100 id=-9031501539059790041]\n\t5447535458505340468 -> 4982424794959710867 [id=\"5447535458505340468.args[1]\"]\n\t5593707570515573442 -> -9031501538954785116 [id=\"5593707570515573442.args[1]\"]\n\t-9031501538954785116 [label=5 id=-9031501538954785116]\n}",
         "label": null,
         "rule": "metadsl_core.numpy.NDArrayCompat.__getitem__"
        },
        {
         "graph": "digraph {\n\tnode [shape=plain]\n\tedge [arrowsize=0.5 penwidth=0.5]\n\t680250064134282809 [label=\"NDArrayCompat.to_ndarray\" id=680250064134282809]\n\t680250064134282809 -> 5593707570515573442 [id=\"680250064134282809.args[0]\"]\n\t5593707570515573442 [label=\"NDArrayCompat.__getitem__\" id=5593707570515573442]\n\t5593707570515573442 -> 5447535458505340468 [id=\"5593707570515573442.args[0]\"]\n\t5447535458505340468 [label=\"NDArrayCompat.__add__\" id=5447535458505340468]\n\t5447535458505340468 -> 4982424794959710867 [id=\"5447535458505340468.args[0]\"]\n\t4982424794959710867 [label=arange id=4982424794959710867]\n\t4982424794959710867 -> -9031501539059790041 [id=\"4982424794959710867.args[0]\"]\n\t-9031501539059790041 [label=100 id=-9031501539059790041]\n\t5447535458505340468 -> 4982424794959710867 [id=\"5447535458505340468.args[1]\"]\n\t5593707570515573442 -> -9031501538954785116 [id=\"5593707570515573442.args[1]\"]\n\t-9031501538954785116 [label=5 id=-9031501538954785116]\n}",
         "label": null,
         "rule": "metadsl_core.numpy.NDArrayCompat.__getitem__"
        },
        {
         "graph": "digraph {\n\tnode [shape=plain]\n\tedge [arrowsize=0.5 penwidth=0.5]\n\t680250064134282809 [label=\"NDArrayCompat.to_ndarray\" id=680250064134282809]\n\t680250064134282809 -> 5593707570515573442 [id=\"680250064134282809.args[0]\"]\n\t5593707570515573442 [label=\"NDArrayCompat.__getitem__\" id=5593707570515573442]\n\t5593707570515573442 -> 5447535458505340468 [id=\"5593707570515573442.args[0]\"]\n\t5447535458505340468 [label=\"NDArrayCompat.__add__\" id=5447535458505340468]\n\t5447535458505340468 -> 4982424794959710867 [id=\"5447535458505340468.args[0]\"]\n\t4982424794959710867 [label=arange id=4982424794959710867]\n\t4982424794959710867 -> -9031501539059790041 [id=\"4982424794959710867.args[0]\"]\n\t-9031501539059790041 [label=100 id=-9031501539059790041]\n\t5447535458505340468 -> 4982424794959710867 [id=\"5447535458505340468.args[1]\"]\n\t5593707570515573442 -> -9031501538954785116 [id=\"5593707570515573442.args[1]\"]\n\t-9031501538954785116 [label=5 id=-9031501538954785116]\n}",
         "label": null,
         "rule": "metadsl_core.numpy.NDArrayCompat.__getitem__"
        },
        {
         "graph": "digraph {\n\tnode [shape=plain]\n\tedge [arrowsize=0.5 penwidth=0.5]\n\t680250064134282809 [label=\"NDArrayCompat.to_ndarray\" id=680250064134282809]\n\t680250064134282809 -> 5593707570515573442 [id=\"680250064134282809.args[0]\"]\n\t5593707570515573442 [label=\"NDArrayCompat.__getitem__\" id=5593707570515573442]\n\t5593707570515573442 -> 5447535458505340468 [id=\"5593707570515573442.args[0]\"]\n\t5447535458505340468 [label=\"NDArrayCompat.__add__\" id=5447535458505340468]\n\t5447535458505340468 -> 4982424794959710867 [id=\"5447535458505340468.args[0]\"]\n\t4982424794959710867 [label=arange id=4982424794959710867]\n\t4982424794959710867 -> -9031501539059790041 [id=\"4982424794959710867.args[0]\"]\n\t-9031501539059790041 [label=100 id=-9031501539059790041]\n\t5447535458505340468 -> 4982424794959710867 [id=\"5447535458505340468.args[1]\"]\n\t5593707570515573442 -> -9031501538954785116 [id=\"5593707570515573442.args[1]\"]\n\t-9031501538954785116 [label=5 id=-9031501538954785116]\n}",
         "label": null,
         "rule": "metadsl_core.numpy.NDArrayCompat.__getitem__"
        },
        {
         "graph": "digraph {\n\tnode [shape=plain]\n\tedge [arrowsize=0.5 penwidth=0.5]\n\t680250064134282809 [label=\"NDArrayCompat.to_ndarray\" id=680250064134282809]\n\t680250064134282809 -> 5593707570515573442 [id=\"680250064134282809.args[0]\"]\n\t5593707570515573442 [label=\"NDArrayCompat.__getitem__\" id=5593707570515573442]\n\t5593707570515573442 -> 5447535458505340468 [id=\"5593707570515573442.args[0]\"]\n\t5447535458505340468 [label=\"NDArrayCompat.__add__\" id=5447535458505340468]\n\t5447535458505340468 -> 4982424794959710867 [id=\"5447535458505340468.args[0]\"]\n\t4982424794959710867 [label=arange id=4982424794959710867]\n\t4982424794959710867 -> -9031501539059790041 [id=\"4982424794959710867.args[0]\"]\n\t-9031501539059790041 [label=100 id=-9031501539059790041]\n\t5447535458505340468 -> 4982424794959710867 [id=\"5447535458505340468.args[1]\"]\n\t5593707570515573442 -> -9031501538954785116 [id=\"5593707570515573442.args[1]\"]\n\t-9031501538954785116 [label=5 id=-9031501538954785116]\n}",
         "label": null,
         "rule": "metadsl_core.numpy.NDArrayCompat.__getitem__"
        },
        {
         "graph": "digraph {\n\tnode [shape=plain]\n\tedge [arrowsize=0.5 penwidth=0.5]\n\t680250064134282809 [label=\"NDArrayCompat.to_ndarray\" id=680250064134282809]\n\t680250064134282809 -> 5593707570515573442 [id=\"680250064134282809.args[0]\"]\n\t5593707570515573442 [label=\"NDArrayCompat.__getitem__\" id=5593707570515573442]\n\t5593707570515573442 -> 5447535458505340468 [id=\"5593707570515573442.args[0]\"]\n\t5447535458505340468 [label=\"NDArrayCompat.__add__\" id=5447535458505340468]\n\t5447535458505340468 -> 4982424794959710867 [id=\"5447535458505340468.args[0]\"]\n\t4982424794959710867 [label=arange id=4982424794959710867]\n\t4982424794959710867 -> -9031501539059790041 [id=\"4982424794959710867.args[0]\"]\n\t-9031501539059790041 [label=100 id=-9031501539059790041]\n\t5447535458505340468 -> 4982424794959710867 [id=\"5447535458505340468.args[1]\"]\n\t5593707570515573442 -> -9031501538954785116 [id=\"5593707570515573442.args[1]\"]\n\t-9031501538954785116 [label=5 id=-9031501538954785116]\n}",
         "label": null,
         "rule": "metadsl_core.numpy.NDArrayCompat.__getitem__"
        },
        {
         "graph": "digraph {\n\tnode [shape=plain]\n\tedge [arrowsize=0.5 penwidth=0.5]\n\t680250064134282809 [label=\"NDArrayCompat.to_ndarray\" id=680250064134282809]\n\t680250064134282809 -> 5593707570515573442 [id=\"680250064134282809.args[0]\"]\n\t5593707570515573442 [label=\"NDArrayCompat.__getitem__\" id=5593707570515573442]\n\t5593707570515573442 -> 5447535458505340468 [id=\"5593707570515573442.args[0]\"]\n\t5447535458505340468 [label=\"NDArrayCompat.__add__\" id=5447535458505340468]\n\t5447535458505340468 -> 4982424794959710867 [id=\"5447535458505340468.args[0]\"]\n\t4982424794959710867 [label=arange id=4982424794959710867]\n\t4982424794959710867 -> -9031501539059790041 [id=\"4982424794959710867.args[0]\"]\n\t-9031501539059790041 [label=100 id=-9031501539059790041]\n\t5447535458505340468 -> 4982424794959710867 [id=\"5447535458505340468.args[1]\"]\n\t5593707570515573442 -> -9031501538954785116 [id=\"5593707570515573442.args[1]\"]\n\t-9031501538954785116 [label=5 id=-9031501538954785116]\n}",
         "label": null,
         "rule": "metadsl_core.numpy.NDArrayCompat.__getitem__"
        },
        {
         "graph": "digraph {\n\tnode [shape=plain]\n\tedge [arrowsize=0.5 penwidth=0.5]\n\t680250064134282809 [label=\"NDArrayCompat.to_ndarray\" id=680250064134282809]\n\t680250064134282809 -> 5593707570515573442 [id=\"680250064134282809.args[0]\"]\n\t5593707570515573442 [label=\"NDArrayCompat.__getitem__\" id=5593707570515573442]\n\t5593707570515573442 -> 5447535458505340468 [id=\"5593707570515573442.args[0]\"]\n\t5447535458505340468 [label=\"NDArrayCompat.__add__\" id=5447535458505340468]\n\t5447535458505340468 -> 4982424794959710867 [id=\"5447535458505340468.args[0]\"]\n\t4982424794959710867 [label=arange id=4982424794959710867]\n\t4982424794959710867 -> -9031501539059790041 [id=\"4982424794959710867.args[0]\"]\n\t-9031501539059790041 [label=100 id=-9031501539059790041]\n\t5447535458505340468 -> 4982424794959710867 [id=\"5447535458505340468.args[1]\"]\n\t5593707570515573442 -> -9031501538954785116 [id=\"5593707570515573442.args[1]\"]\n\t-9031501538954785116 [label=5 id=-9031501538954785116]\n}",
         "label": null,
         "rule": "metadsl_core.numpy.NDArrayCompat.__getitem__"
        },
        {
         "graph": "digraph {\n\tnode [shape=plain]\n\tedge [arrowsize=0.5 penwidth=0.5]\n\t680250064134282809 [label=\"NDArrayCompat.to_ndarray\" id=680250064134282809]\n\t680250064134282809 -> 5593707570515573442 [id=\"680250064134282809.args[0]\"]\n\t5593707570515573442 [label=\"NDArrayCompat.__getitem__\" id=5593707570515573442]\n\t5593707570515573442 -> 5447535458505340468 [id=\"5593707570515573442.args[0]\"]\n\t5447535458505340468 [label=\"NDArrayCompat.__add__\" id=5447535458505340468]\n\t5447535458505340468 -> 4982424794959710867 [id=\"5447535458505340468.args[0]\"]\n\t4982424794959710867 [label=arange id=4982424794959710867]\n\t4982424794959710867 -> -9031501539059790041 [id=\"4982424794959710867.args[0]\"]\n\t-9031501539059790041 [label=100 id=-9031501539059790041]\n\t5447535458505340468 -> 4982424794959710867 [id=\"5447535458505340468.args[1]\"]\n\t5593707570515573442 -> -9031501538954785116 [id=\"5593707570515573442.args[1]\"]\n\t-9031501538954785116 [label=5 id=-9031501538954785116]\n}",
         "label": null,
         "rule": "metadsl_core.numpy.NDArrayCompat.__getitem__"
        },
        {
         "graph": "digraph {\n\tnode [shape=plain]\n\tedge [arrowsize=0.5 penwidth=0.5]\n\t680250064134282809 [label=\"NDArrayCompat.to_ndarray\" id=680250064134282809]\n\t680250064134282809 -> 5593707570515573442 [id=\"680250064134282809.args[0]\"]\n\t5593707570515573442 [label=\"NDArrayCompat.__getitem__\" id=5593707570515573442]\n\t5593707570515573442 -> 5447535458505340468 [id=\"5593707570515573442.args[0]\"]\n\t5447535458505340468 [label=\"NDArrayCompat.__add__\" id=5447535458505340468]\n\t5447535458505340468 -> 4982424794959710867 [id=\"5447535458505340468.args[0]\"]\n\t4982424794959710867 [label=arange id=4982424794959710867]\n\t4982424794959710867 -> -9031501539059790041 [id=\"4982424794959710867.args[0]\"]\n\t-9031501539059790041 [label=100 id=-9031501539059790041]\n\t5447535458505340468 -> 4982424794959710867 [id=\"5447535458505340468.args[1]\"]\n\t5593707570515573442 -> -9031501538954785116 [id=\"5593707570515573442.args[1]\"]\n\t-9031501538954785116 [label=5 id=-9031501538954785116]\n}",
         "label": null,
         "rule": "metadsl_core.numpy.NDArrayCompat.__getitem__"
        },
        {
         "graph": "digraph {\n\tnode [shape=plain]\n\tedge [arrowsize=0.5 penwidth=0.5]\n\t680250064134282809 [label=\"NDArrayCompat.to_ndarray\" id=680250064134282809]\n\t680250064134282809 -> 5593707570515573442 [id=\"680250064134282809.args[0]\"]\n\t5593707570515573442 [label=\"NDArrayCompat.__getitem__\" id=5593707570515573442]\n\t5593707570515573442 -> 5447535458505340468 [id=\"5593707570515573442.args[0]\"]\n\t5447535458505340468 [label=\"NDArrayCompat.__add__\" id=5447535458505340468]\n\t5447535458505340468 -> 4982424794959710867 [id=\"5447535458505340468.args[0]\"]\n\t4982424794959710867 [label=arange id=4982424794959710867]\n\t4982424794959710867 -> -9031501539059790041 [id=\"4982424794959710867.args[0]\"]\n\t-9031501539059790041 [label=100 id=-9031501539059790041]\n\t5447535458505340468 -> 4982424794959710867 [id=\"5447535458505340468.args[1]\"]\n\t5593707570515573442 -> -9031501538954785116 [id=\"5593707570515573442.args[1]\"]\n\t-9031501538954785116 [label=5 id=-9031501538954785116]\n}",
         "label": null,
         "rule": "metadsl_core.numpy.NDArrayCompat.__getitem__"
        },
        {
         "graph": "digraph {\n\tnode [shape=plain]\n\tedge [arrowsize=0.5 penwidth=0.5]\n\t680250064134282809 [label=\"NDArrayCompat.to_ndarray\" id=680250064134282809]\n\t680250064134282809 -> 5593707570515573442 [id=\"680250064134282809.args[0]\"]\n\t5593707570515573442 [label=\"NDArrayCompat.__getitem__\" id=5593707570515573442]\n\t5593707570515573442 -> 5447535458505340468 [id=\"5593707570515573442.args[0]\"]\n\t5447535458505340468 [label=\"NDArrayCompat.__add__\" id=5447535458505340468]\n\t5447535458505340468 -> 4982424794959710867 [id=\"5447535458505340468.args[0]\"]\n\t4982424794959710867 [label=arange id=4982424794959710867]\n\t4982424794959710867 -> -9031501539059790041 [id=\"4982424794959710867.args[0]\"]\n\t-9031501539059790041 [label=100 id=-9031501539059790041]\n\t5447535458505340468 -> 4982424794959710867 [id=\"5447535458505340468.args[1]\"]\n\t5593707570515573442 -> -9031501538954785116 [id=\"5593707570515573442.args[1]\"]\n\t-9031501538954785116 [label=5 id=-9031501538954785116]\n}",
         "label": null,
         "rule": "metadsl_core.numpy.NDArrayCompat.__getitem__"
        },
        {
         "graph": "digraph {\n\tnode [shape=plain]\n\tedge [arrowsize=0.5 penwidth=0.5]\n\t680250064134282809 [label=\"NDArrayCompat.to_ndarray\" id=680250064134282809]\n\t680250064134282809 -> 5593707570515573442 [id=\"680250064134282809.args[0]\"]\n\t5593707570515573442 [label=\"NDArrayCompat.__getitem__\" id=5593707570515573442]\n\t5593707570515573442 -> 5447535458505340468 [id=\"5593707570515573442.args[0]\"]\n\t5447535458505340468 [label=\"NDArrayCompat.__add__\" id=5447535458505340468]\n\t5447535458505340468 -> 4982424794959710867 [id=\"5447535458505340468.args[0]\"]\n\t4982424794959710867 [label=arange id=4982424794959710867]\n\t4982424794959710867 -> -9031501539059790041 [id=\"4982424794959710867.args[0]\"]\n\t-9031501539059790041 [label=100 id=-9031501539059790041]\n\t5447535458505340468 -> 4982424794959710867 [id=\"5447535458505340468.args[1]\"]\n\t5593707570515573442 -> -9031501538954785116 [id=\"5593707570515573442.args[1]\"]\n\t-9031501538954785116 [label=5 id=-9031501538954785116]\n}",
         "label": null,
         "rule": "metadsl_core.numpy.NDArrayCompat.__getitem__"
        },
        {
         "graph": "digraph {\n\tnode [shape=plain]\n\tedge [arrowsize=0.5 penwidth=0.5]\n\t680250064134282809 [label=\"NDArrayCompat.to_ndarray\" id=680250064134282809]\n\t680250064134282809 -> 5593707570515573442 [id=\"680250064134282809.args[0]\"]\n\t5593707570515573442 [label=\"NDArrayCompat.__getitem__\" id=5593707570515573442]\n\t5593707570515573442 -> 5447535458505340468 [id=\"5593707570515573442.args[0]\"]\n\t5447535458505340468 [label=\"NDArrayCompat.__add__\" id=5447535458505340468]\n\t5447535458505340468 -> 4982424794959710867 [id=\"5447535458505340468.args[0]\"]\n\t4982424794959710867 [label=arange id=4982424794959710867]\n\t4982424794959710867 -> -9031501539059790041 [id=\"4982424794959710867.args[0]\"]\n\t-9031501539059790041 [label=100 id=-9031501539059790041]\n\t5447535458505340468 -> 4982424794959710867 [id=\"5447535458505340468.args[1]\"]\n\t5593707570515573442 -> -9031501538954785116 [id=\"5593707570515573442.args[1]\"]\n\t-9031501538954785116 [label=5 id=-9031501538954785116]\n}",
         "label": null,
         "rule": "metadsl_core.numpy.NDArrayCompat.__getitem__"
        },
        {
         "graph": "digraph {\n\tnode [shape=plain]\n\tedge [arrowsize=0.5 penwidth=0.5]\n\t680250064134282809 [label=\"NDArrayCompat.to_ndarray\" id=680250064134282809]\n\t680250064134282809 -> 5593707570515573442 [id=\"680250064134282809.args[0]\"]\n\t5593707570515573442 [label=\"NDArrayCompat.__getitem__\" id=5593707570515573442]\n\t5593707570515573442 -> 5447535458505340468 [id=\"5593707570515573442.args[0]\"]\n\t5447535458505340468 [label=\"NDArrayCompat.__add__\" id=5447535458505340468]\n\t5447535458505340468 -> 4982424794959710867 [id=\"5447535458505340468.args[0]\"]\n\t4982424794959710867 [label=arange id=4982424794959710867]\n\t4982424794959710867 -> -9031501539059790041 [id=\"4982424794959710867.args[0]\"]\n\t-9031501539059790041 [label=100 id=-9031501539059790041]\n\t5447535458505340468 -> 4982424794959710867 [id=\"5447535458505340468.args[1]\"]\n\t5593707570515573442 -> -9031501538954785116 [id=\"5593707570515573442.args[1]\"]\n\t-9031501538954785116 [label=5 id=-9031501538954785116]\n}",
         "label": null,
         "rule": "metadsl_core.numpy.NDArrayCompat.__getitem__"
        },
        {
         "graph": "digraph {\n\tnode [shape=plain]\n\tedge [arrowsize=0.5 penwidth=0.5]\n\t680250064134282809 [label=\"NDArrayCompat.to_ndarray\" id=680250064134282809]\n\t680250064134282809 -> 5593707570515573442 [id=\"680250064134282809.args[0]\"]\n\t5593707570515573442 [label=\"NDArrayCompat.__getitem__\" id=5593707570515573442]\n\t5593707570515573442 -> 5447535458505340468 [id=\"5593707570515573442.args[0]\"]\n\t5447535458505340468 [label=\"NDArrayCompat.__add__\" id=5447535458505340468]\n\t5447535458505340468 -> 4982424794959710867 [id=\"5447535458505340468.args[0]\"]\n\t4982424794959710867 [label=arange id=4982424794959710867]\n\t4982424794959710867 -> -9031501539059790041 [id=\"4982424794959710867.args[0]\"]\n\t-9031501539059790041 [label=100 id=-9031501539059790041]\n\t5447535458505340468 -> 4982424794959710867 [id=\"5447535458505340468.args[1]\"]\n\t5593707570515573442 -> -9031501538954785116 [id=\"5593707570515573442.args[1]\"]\n\t-9031501538954785116 [label=5 id=-9031501538954785116]\n}",
         "label": null,
         "rule": "metadsl_core.numpy.NDArrayCompat.__getitem__"
        },
        {
         "graph": "digraph {\n\tnode [shape=plain]\n\tedge [arrowsize=0.5 penwidth=0.5]\n\t680250064134282809 [label=\"NDArrayCompat.to_ndarray\" id=680250064134282809]\n\t680250064134282809 -> 5593707570515573442 [id=\"680250064134282809.args[0]\"]\n\t5593707570515573442 [label=\"NDArrayCompat.__getitem__\" id=5593707570515573442]\n\t5593707570515573442 -> 5447535458505340468 [id=\"5593707570515573442.args[0]\"]\n\t5447535458505340468 [label=\"NDArrayCompat.__add__\" id=5447535458505340468]\n\t5447535458505340468 -> 4982424794959710867 [id=\"5447535458505340468.args[0]\"]\n\t4982424794959710867 [label=arange id=4982424794959710867]\n\t4982424794959710867 -> -9031501539059790041 [id=\"4982424794959710867.args[0]\"]\n\t-9031501539059790041 [label=100 id=-9031501539059790041]\n\t5447535458505340468 -> 4982424794959710867 [id=\"5447535458505340468.args[1]\"]\n\t5593707570515573442 -> -9031501538954785116 [id=\"5593707570515573442.args[1]\"]\n\t-9031501538954785116 [label=5 id=-9031501538954785116]\n}",
         "label": null,
         "rule": "metadsl_core.numpy.NDArrayCompat.__getitem__"
        },
        {
         "graph": "digraph {\n\tnode [shape=plain]\n\tedge [arrowsize=0.5 penwidth=0.5]\n\t680250064134282809 [label=\"NDArrayCompat.to_ndarray\" id=680250064134282809]\n\t680250064134282809 -> 5593707570515573442 [id=\"680250064134282809.args[0]\"]\n\t5593707570515573442 [label=\"NDArrayCompat.__getitem__\" id=5593707570515573442]\n\t5593707570515573442 -> 5447535458505340468 [id=\"5593707570515573442.args[0]\"]\n\t5447535458505340468 [label=\"NDArrayCompat.__add__\" id=5447535458505340468]\n\t5447535458505340468 -> 4982424794959710867 [id=\"5447535458505340468.args[0]\"]\n\t4982424794959710867 [label=arange id=4982424794959710867]\n\t4982424794959710867 -> -9031501539059790041 [id=\"4982424794959710867.args[0]\"]\n\t-9031501539059790041 [label=100 id=-9031501539059790041]\n\t5447535458505340468 -> 4982424794959710867 [id=\"5447535458505340468.args[1]\"]\n\t5593707570515573442 -> -9031501538954785116 [id=\"5593707570515573442.args[1]\"]\n\t-9031501538954785116 [label=5 id=-9031501538954785116]\n}",
         "label": null,
         "rule": "metadsl_core.numpy.NDArrayCompat.__getitem__"
        },
        {
         "graph": "digraph {\n\tnode [shape=plain]\n\tedge [arrowsize=0.5 penwidth=0.5]\n\t680250064134282809 [label=\"NDArrayCompat.to_ndarray\" id=680250064134282809]\n\t680250064134282809 -> 5593707570515573442 [id=\"680250064134282809.args[0]\"]\n\t5593707570515573442 [label=\"NDArrayCompat.__getitem__\" id=5593707570515573442]\n\t5593707570515573442 -> 5447535458505340468 [id=\"5593707570515573442.args[0]\"]\n\t5447535458505340468 [label=\"NDArrayCompat.__add__\" id=5447535458505340468]\n\t5447535458505340468 -> 4982424794959710867 [id=\"5447535458505340468.args[0]\"]\n\t4982424794959710867 [label=arange id=4982424794959710867]\n\t4982424794959710867 -> -9031501539059790041 [id=\"4982424794959710867.args[0]\"]\n\t-9031501539059790041 [label=100 id=-9031501539059790041]\n\t5447535458505340468 -> 4982424794959710867 [id=\"5447535458505340468.args[1]\"]\n\t5593707570515573442 -> -9031501538954785116 [id=\"5593707570515573442.args[1]\"]\n\t-9031501538954785116 [label=5 id=-9031501538954785116]\n}",
         "label": null,
         "rule": "metadsl_core.numpy.NDArrayCompat.__getitem__"
        },
        {
         "graph": "digraph {\n\tnode [shape=plain]\n\tedge [arrowsize=0.5 penwidth=0.5]\n\t680250064134282809 [label=\"NDArrayCompat.to_ndarray\" id=680250064134282809]\n\t680250064134282809 -> 5593707570515573442 [id=\"680250064134282809.args[0]\"]\n\t5593707570515573442 [label=\"NDArrayCompat.__getitem__\" id=5593707570515573442]\n\t5593707570515573442 -> 5447535458505340468 [id=\"5593707570515573442.args[0]\"]\n\t5447535458505340468 [label=\"NDArrayCompat.__add__\" id=5447535458505340468]\n\t5447535458505340468 -> 4982424794959710867 [id=\"5447535458505340468.args[0]\"]\n\t4982424794959710867 [label=arange id=4982424794959710867]\n\t4982424794959710867 -> -9031501539059790041 [id=\"4982424794959710867.args[0]\"]\n\t-9031501539059790041 [label=100 id=-9031501539059790041]\n\t5447535458505340468 -> 4982424794959710867 [id=\"5447535458505340468.args[1]\"]\n\t5593707570515573442 -> -9031501538954785116 [id=\"5593707570515573442.args[1]\"]\n\t-9031501538954785116 [label=5 id=-9031501538954785116]\n}",
         "label": null,
         "rule": "metadsl_core.numpy.NDArrayCompat.__getitem__"
        }
       ]
      },
      "text/plain": [
       "Typez(definitions=None, nodes={'680250064134282809': ['680250064134282809', CallNode(function='NDArrayCompat.to_ndarray', type_params=None, args=['5593707570515573442'], kwargs=None)], '5593707570515573442': ['5593707570515573442', CallNode(function='NDArrayCompat.__getitem__', type_params=None, args=['5447535458505340468', '-9031501538954785116'], kwargs=None)], '5447535458505340468': ['5447535458505340468', CallNode(function='NDArrayCompat.__add__', type_params=None, args=['4982424794959710867', '4982424794959710867'], kwargs=None)], '-9031501538954785116': ['-9031501538954785116', PrimitiveNode(type='int', repr='5')], '4982424794959710867': ['4982424794959710867', CallNode(function='arange', type_params=None, args=['-9031501539059790041'], kwargs=None)], '-9031501539059790041': ['-9031501539059790041', PrimitiveNode(type='int', repr='100')]}, states=States(initial='680250064134282809', states=[State(node='680250064134282809', rule='metadsl_core.numpy.NDArrayCompat.__getitem__', label=None), State(node='680250064134282809', rule='metadsl_core.numpy.NDArrayCompat.__getitem__', label=None), State(node='680250064134282809', rule='metadsl_core.numpy.NDArrayCompat.__getitem__', label=None), State(node='680250064134282809', rule='metadsl_core.numpy.NDArrayCompat.__getitem__', label=None), State(node='680250064134282809', rule='metadsl_core.numpy.NDArrayCompat.__getitem__', label=None), State(node='680250064134282809', rule='metadsl_core.numpy.NDArrayCompat.__getitem__', label=None), State(node='680250064134282809', rule='metadsl_core.numpy.NDArrayCompat.__getitem__', label=None), State(node='680250064134282809', rule='metadsl_core.numpy.NDArrayCompat.__getitem__', label=None), State(node='680250064134282809', rule='metadsl_core.numpy.NDArrayCompat.__getitem__', label=None), State(node='680250064134282809', rule='metadsl_core.numpy.NDArrayCompat.__getitem__', label=None), State(node='680250064134282809', rule='metadsl_core.numpy.NDArrayCompat.__getitem__', label=None), State(node='680250064134282809', rule='metadsl_core.numpy.NDArrayCompat.__getitem__', label=None), State(node='680250064134282809', rule='metadsl_core.numpy.NDArrayCompat.__getitem__', label=None), State(node='680250064134282809', rule='metadsl_core.numpy.NDArrayCompat.__getitem__', label=None), State(node='680250064134282809', rule='metadsl_core.numpy.NDArrayCompat.__getitem__', label=None), State(node='680250064134282809', rule='metadsl_core.numpy.NDArrayCompat.__getitem__', label=None), State(node='680250064134282809', rule='metadsl_core.numpy.NDArrayCompat.__getitem__', label=None), State(node='680250064134282809', rule='metadsl_core.numpy.NDArrayCompat.__getitem__', label=None), State(node='680250064134282809', rule='metadsl_core.numpy.NDArrayCompat.__getitem__', label=None), State(node='680250064134282809', rule='metadsl_core.numpy.NDArrayCompat.__getitem__', label=None), State(node='680250064134282809', rule='metadsl_core.numpy.NDArrayCompat.__getitem__', label=None), State(node='680250064134282809', rule='metadsl_core.numpy.NDArrayCompat.__getitem__', label=None), State(node='680250064134282809', rule='metadsl_core.numpy.NDArrayCompat.__getitem__', label=None), State(node='680250064134282809', rule='metadsl_core.numpy.NDArrayCompat.__getitem__', label=None), State(node='680250064134282809', rule='metadsl_core.numpy.NDArrayCompat.__getitem__', label=None), State(node='680250064134282809', rule='metadsl_core.numpy.NDArrayCompat.__getitem__', label=None), State(node='680250064134282809', rule='metadsl_core.numpy.NDArrayCompat.__getitem__', label=None), State(node='680250064134282809', rule='metadsl_core.numpy.NDArrayCompat.__getitem__', label=None), State(node='680250064134282809', rule='metadsl_core.numpy.NDArrayCompat.__getitem__', label=None), State(node='680250064134282809', rule='metadsl_core.numpy.NDArrayCompat.__getitem__', label=None), State(node='680250064134282809', rule='metadsl_core.numpy.NDArrayCompat.__getitem__', label=None), State(node='680250064134282809', rule='metadsl_core.numpy.NDArrayCompat.__getitem__', label=None), State(node='680250064134282809', rule='metadsl_core.numpy.NDArrayCompat.__getitem__', label=None), State(node='680250064134282809', rule='metadsl_core.numpy.NDArrayCompat.__getitem__', label=None), State(node='680250064134282809', rule='metadsl_core.numpy.NDArrayCompat.__getitem__', label=None), State(node='680250064134282809', rule='metadsl_core.numpy.NDArrayCompat.__getitem__', label=None), State(node='680250064134282809', rule='metadsl_core.numpy.NDArrayCompat.__getitem__', label=None), State(node='680250064134282809', rule='metadsl_core.numpy.NDArrayCompat.__getitem__', label=None), State(node='680250064134282809', rule='metadsl_core.numpy.NDArrayCompat.__getitem__', label=None), State(node='680250064134282809', rule='metadsl_core.numpy.NDArrayCompat.__getitem__', label=None), State(node='680250064134282809', rule='metadsl_core.numpy.NDArrayCompat.__getitem__', label=None), State(node='680250064134282809', rule='metadsl_core.numpy.NDArrayCompat.__getitem__', label=None), State(node='680250064134282809', rule='metadsl_core.numpy.NDArrayCompat.__getitem__', label=None), State(node='680250064134282809', rule='metadsl_core.numpy.NDArrayCompat.__getitem__', label=None), State(node='680250064134282809', rule='metadsl_core.numpy.NDArrayCompat.__getitem__', label=None), State(node='680250064134282809', rule='metadsl_core.numpy.NDArrayCompat.__getitem__', label=None), State(node='680250064134282809', rule='metadsl_core.numpy.NDArrayCompat.__getitem__', label=None), State(node='680250064134282809', rule='metadsl_core.numpy.NDArrayCompat.__getitem__', label=None), State(node='680250064134282809', rule='metadsl_core.numpy.NDArrayCompat.__getitem__', label=None), State(node='680250064134282809', rule='metadsl_core.numpy.NDArrayCompat.__getitem__', label=None), State(node='680250064134282809', rule='metadsl_core.numpy.NDArrayCompat.__getitem__', label=None), State(node='680250064134282809', rule='metadsl_core.numpy.NDArrayCompat.__getitem__', label=None), State(node='680250064134282809', rule='metadsl_core.numpy.NDArrayCompat.__getitem__', label=None), State(node='680250064134282809', rule='metadsl_core.numpy.NDArrayCompat.__getitem__', label=None), State(node='680250064134282809', rule='metadsl_core.numpy.NDArrayCompat.__getitem__', label=None), State(node='680250064134282809', rule='metadsl_core.numpy.NDArrayCompat.__getitem__', label=None), State(node='680250064134282809', rule='metadsl_core.numpy.NDArrayCompat.__getitem__', label=None), State(node='680250064134282809', rule='metadsl_core.numpy.NDArrayCompat.__getitem__', label=None), State(node='680250064134282809', rule='metadsl_core.numpy.NDArrayCompat.__getitem__', label=None), State(node='680250064134282809', rule='metadsl_core.numpy.NDArrayCompat.__getitem__', label=None), State(node='680250064134282809', rule='metadsl_core.numpy.NDArrayCompat.__getitem__', label=None), State(node='680250064134282809', rule='metadsl_core.numpy.NDArrayCompat.__getitem__', label=None), State(node='680250064134282809', rule='metadsl_core.numpy.NDArrayCompat.__getitem__', label=None), State(node='680250064134282809', rule='metadsl_core.numpy.NDArrayCompat.__getitem__', label=None), State(node='680250064134282809', rule='metadsl_core.numpy.NDArrayCompat.__getitem__', label=None), State(node='680250064134282809', rule='metadsl_core.numpy.NDArrayCompat.__getitem__', label=None), State(node='680250064134282809', rule='metadsl_core.numpy.NDArrayCompat.__getitem__', label=None), State(node='680250064134282809', rule='metadsl_core.numpy.NDArrayCompat.__getitem__', label=None), State(node='680250064134282809', rule='metadsl_core.numpy.NDArrayCompat.__getitem__', label=None), State(node='680250064134282809', rule='metadsl_core.numpy.NDArrayCompat.__getitem__', label=None), State(node='680250064134282809', rule='metadsl_core.numpy.NDArrayCompat.__getitem__', label=None), State(node='680250064134282809', rule='metadsl_core.numpy.NDArrayCompat.__getitem__', label=None), State(node='680250064134282809', rule='metadsl_core.numpy.NDArrayCompat.__getitem__', label=None), State(node='680250064134282809', rule='metadsl_core.numpy.NDArrayCompat.__getitem__', label=None), State(node='680250064134282809', rule='metadsl_core.numpy.NDArrayCompat.__getitem__', label=None), State(node='680250064134282809', rule='metadsl_core.numpy.NDArrayCompat.__getitem__', label=None), State(node='680250064134282809', rule='metadsl_core.numpy.NDArrayCompat.__getitem__', label=None), State(node='680250064134282809', rule='metadsl_core.numpy.NDArrayCompat.__getitem__', label=None), State(node='680250064134282809', rule='metadsl_core.numpy.NDArrayCompat.__getitem__', label=None), State(node='680250064134282809', rule='metadsl_core.numpy.NDArrayCompat.__getitem__', label=None), State(node='680250064134282809', rule='metadsl_core.numpy.NDArrayCompat.__getitem__', label=None), State(node='680250064134282809', rule='metadsl_core.numpy.NDArrayCompat.__getitem__', label=None), State(node='680250064134282809', rule='metadsl_core.numpy.NDArrayCompat.__getitem__', label=None), State(node='680250064134282809', rule='metadsl_core.numpy.NDArrayCompat.__getitem__', label=None), State(node='680250064134282809', rule='metadsl_core.numpy.NDArrayCompat.__getitem__', label=None), State(node='680250064134282809', rule='metadsl_core.numpy.NDArrayCompat.__getitem__', label=None), State(node='680250064134282809', rule='metadsl_core.numpy.NDArrayCompat.__getitem__', label=None), State(node='680250064134282809', rule='metadsl_core.numpy.NDArrayCompat.__getitem__', label=None), State(node='680250064134282809', rule='metadsl_core.numpy.NDArrayCompat.__getitem__', label=None), State(node='680250064134282809', rule='metadsl_core.numpy.NDArrayCompat.__getitem__', label=None), State(node='680250064134282809', rule='metadsl_core.numpy.NDArrayCompat.__getitem__', label=None), State(node='680250064134282809', rule='metadsl_core.numpy.NDArrayCompat.__getitem__', label=None), State(node='680250064134282809', rule='metadsl_core.numpy.NDArrayCompat.__getitem__', label=None), State(node='680250064134282809', rule='metadsl_core.numpy.NDArrayCompat.__getitem__', label=None), State(node='680250064134282809', rule='metadsl_core.numpy.NDArrayCompat.__getitem__', label=None), State(node='680250064134282809', rule='metadsl_core.numpy.NDArrayCompat.__getitem__', label=None), State(node='680250064134282809', rule='metadsl_core.numpy.NDArrayCompat.__getitem__', label=None), State(node='680250064134282809', rule='metadsl_core.numpy.NDArrayCompat.__getitem__', label=None), State(node='680250064134282809', rule='metadsl_core.numpy.NDArrayCompat.__getitem__', label=None), State(node='680250064134282809', rule='metadsl_core.numpy.NDArrayCompat.__getitem__', label=None), State(node='680250064134282809', rule='metadsl_core.numpy.NDArrayCompat.__getitem__', label=None), State(node='680250064134282809', rule='metadsl_core.numpy.NDArrayCompat.__getitem__', label=None), State(node='680250064134282809', rule='metadsl_core.numpy.NDArrayCompat.__getitem__', label=None), State(node='680250064134282809', rule='metadsl_core.numpy.NDArrayCompat.__getitem__', label=None), State(node='680250064134282809', rule='metadsl_core.numpy.NDArrayCompat.__getitem__', label=None), State(node='680250064134282809', rule='metadsl_core.numpy.NDArrayCompat.__getitem__', label=None), State(node='680250064134282809', rule='metadsl_core.numpy.NDArrayCompat.__getitem__', label=None), State(node='680250064134282809', rule='metadsl_core.numpy.NDArrayCompat.__getitem__', label=None), State(node='680250064134282809', rule='metadsl_core.numpy.NDArrayCompat.__getitem__', label=None), State(node='680250064134282809', rule='metadsl_core.numpy.NDArrayCompat.__getitem__', label=None), State(node='680250064134282809', rule='metadsl_core.numpy.NDArrayCompat.__getitem__', label=None), State(node='680250064134282809', rule='metadsl_core.numpy.NDArrayCompat.__getitem__', label=None), State(node='680250064134282809', rule='metadsl_core.numpy.NDArrayCompat.__getitem__', label=None), State(node='680250064134282809', rule='metadsl_core.numpy.NDArrayCompat.__getitem__', label=None), State(node='680250064134282809', rule='metadsl_core.numpy.NDArrayCompat.__getitem__', label=None), State(node='680250064134282809', rule='metadsl_core.numpy.NDArrayCompat.__getitem__', label=None), State(node='680250064134282809', rule='metadsl_core.numpy.NDArrayCompat.__getitem__', label=None), State(node='680250064134282809', rule='metadsl_core.numpy.NDArrayCompat.__getitem__', label=None), State(node='680250064134282809', rule='metadsl_core.numpy.NDArrayCompat.__getitem__', label=None), State(node='680250064134282809', rule='metadsl_core.numpy.NDArrayCompat.__getitem__', label=None), State(node='680250064134282809', rule='metadsl_core.numpy.NDArrayCompat.__getitem__', label=None), State(node='680250064134282809', rule='metadsl_core.numpy.NDArrayCompat.__getitem__', label=None), State(node='680250064134282809', rule='metadsl_core.numpy.NDArrayCompat.__getitem__', label=None), State(node='680250064134282809', rule='metadsl_core.numpy.NDArrayCompat.__getitem__', label=None), State(node='680250064134282809', rule='metadsl_core.numpy.NDArrayCompat.__getitem__', label=None), State(node='680250064134282809', rule='metadsl_core.numpy.NDArrayCompat.__getitem__', label=None), State(node='680250064134282809', rule='metadsl_core.numpy.NDArrayCompat.__getitem__', label=None), State(node='680250064134282809', rule='metadsl_core.numpy.NDArrayCompat.__getitem__', label=None), State(node='680250064134282809', rule='metadsl_core.numpy.NDArrayCompat.__getitem__', label=None), State(node='680250064134282809', rule='metadsl_core.numpy.NDArrayCompat.__getitem__', label=None), State(node='680250064134282809', rule='metadsl_core.numpy.NDArrayCompat.__getitem__', label=None), State(node='680250064134282809', rule='metadsl_core.numpy.NDArrayCompat.__getitem__', label=None), State(node='680250064134282809', rule='metadsl_core.numpy.NDArrayCompat.__getitem__', label=None), State(node='680250064134282809', rule='metadsl_core.numpy.NDArrayCompat.__getitem__', label=None), State(node='680250064134282809', rule='metadsl_core.numpy.NDArrayCompat.__getitem__', label=None), State(node='680250064134282809', rule='metadsl_core.numpy.NDArrayCompat.__getitem__', label=None), State(node='680250064134282809', rule='metadsl_core.numpy.NDArrayCompat.__getitem__', label=None), State(node='680250064134282809', rule='metadsl_core.numpy.NDArrayCompat.__getitem__', label=None), State(node='680250064134282809', rule='metadsl_core.numpy.NDArrayCompat.__getitem__', label=None), State(node='680250064134282809', rule='metadsl_core.numpy.NDArrayCompat.__getitem__', label=None), State(node='680250064134282809', rule='metadsl_core.numpy.NDArrayCompat.__getitem__', label=None), State(node='680250064134282809', rule='metadsl_core.numpy.NDArrayCompat.__getitem__', label=None), State(node='680250064134282809', rule='metadsl_core.numpy.NDArrayCompat.__getitem__', label=None), State(node='680250064134282809', rule='metadsl_core.numpy.NDArrayCompat.__getitem__', label=None), State(node='680250064134282809', rule='metadsl_core.numpy.NDArrayCompat.__getitem__', label=None), State(node='680250064134282809', rule='metadsl_core.numpy.NDArrayCompat.__getitem__', label=None), State(node='680250064134282809', rule='metadsl_core.numpy.NDArrayCompat.__getitem__', label=None), State(node='680250064134282809', rule='metadsl_core.numpy.NDArrayCompat.__getitem__', label=None), State(node='680250064134282809', rule='metadsl_core.numpy.NDArrayCompat.__getitem__', label=None), State(node='680250064134282809', rule='metadsl_core.numpy.NDArrayCompat.__getitem__', label=None), State(node='680250064134282809', rule='metadsl_core.numpy.NDArrayCompat.__getitem__', label=None), State(node='680250064134282809', rule='metadsl_core.numpy.NDArrayCompat.__getitem__', label=None), State(node='680250064134282809', rule='metadsl_core.numpy.NDArrayCompat.__getitem__', label=None), State(node='680250064134282809', rule='metadsl_core.numpy.NDArrayCompat.__getitem__', label=None), State(node='680250064134282809', rule='metadsl_core.numpy.NDArrayCompat.__getitem__', label=None), State(node='680250064134282809', rule='metadsl_core.numpy.NDArrayCompat.__getitem__', label=None), State(node='680250064134282809', rule='metadsl_core.numpy.NDArrayCompat.__getitem__', label=None), State(node='680250064134282809', rule='metadsl_core.numpy.NDArrayCompat.__getitem__', label=None), State(node='680250064134282809', rule='metadsl_core.numpy.NDArrayCompat.__getitem__', label=None), State(node='680250064134282809', rule='metadsl_core.numpy.NDArrayCompat.__getitem__', label=None), State(node='680250064134282809', rule='metadsl_core.numpy.NDArrayCompat.__getitem__', label=None), State(node='680250064134282809', rule='metadsl_core.numpy.NDArrayCompat.__getitem__', label=None), State(node='680250064134282809', rule='metadsl_core.numpy.NDArrayCompat.__getitem__', label=None), State(node='680250064134282809', rule='metadsl_core.numpy.NDArrayCompat.__getitem__', label=None), State(node='680250064134282809', rule='metadsl_core.numpy.NDArrayCompat.__getitem__', label=None), State(node='680250064134282809', rule='metadsl_core.numpy.NDArrayCompat.__getitem__', label=None), State(node='680250064134282809', rule='metadsl_core.numpy.NDArrayCompat.__getitem__', label=None), State(node='680250064134282809', rule='metadsl_core.numpy.NDArrayCompat.__getitem__', label=None), State(node='680250064134282809', rule='metadsl_core.numpy.NDArrayCompat.__getitem__', label=None), State(node='680250064134282809', rule='metadsl_core.numpy.NDArrayCompat.__getitem__', label=None), State(node='680250064134282809', rule='metadsl_core.numpy.NDArrayCompat.__getitem__', label=None), State(node='680250064134282809', rule='metadsl_core.numpy.NDArrayCompat.__getitem__', label=None), State(node='680250064134282809', rule='metadsl_core.numpy.NDArrayCompat.__getitem__', label=None), State(node='680250064134282809', rule='metadsl_core.numpy.NDArrayCompat.__getitem__', label=None), State(node='680250064134282809', rule='metadsl_core.numpy.NDArrayCompat.__getitem__', label=None), State(node='680250064134282809', rule='metadsl_core.numpy.NDArrayCompat.__getitem__', label=None), State(node='680250064134282809', rule='metadsl_core.numpy.NDArrayCompat.__getitem__', label=None), State(node='680250064134282809', rule='metadsl_core.numpy.NDArrayCompat.__getitem__', label=None), State(node='680250064134282809', rule='metadsl_core.numpy.NDArrayCompat.__getitem__', label=None), State(node='680250064134282809', rule='metadsl_core.numpy.NDArrayCompat.__getitem__', label=None), State(node='680250064134282809', rule='metadsl_core.numpy.NDArrayCompat.__getitem__', label=None), State(node='680250064134282809', rule='metadsl_core.numpy.NDArrayCompat.__getitem__', label=None), State(node='680250064134282809', rule='metadsl_core.numpy.NDArrayCompat.__getitem__', label=None), State(node='680250064134282809', rule='metadsl_core.numpy.NDArrayCompat.__getitem__', label=None), State(node='680250064134282809', rule='metadsl_core.numpy.NDArrayCompat.__getitem__', label=None), State(node='680250064134282809', rule='metadsl_core.numpy.NDArrayCompat.__getitem__', label=None), State(node='680250064134282809', rule='metadsl_core.numpy.NDArrayCompat.__getitem__', label=None), State(node='680250064134282809', rule='metadsl_core.numpy.NDArrayCompat.__getitem__', label=None), State(node='680250064134282809', rule='metadsl_core.numpy.NDArrayCompat.__getitem__', label=None), State(node='680250064134282809', rule='metadsl_core.numpy.NDArrayCompat.__getitem__', label=None), State(node='680250064134282809', rule='metadsl_core.numpy.NDArrayCompat.__getitem__', label=None), State(node='680250064134282809', rule='metadsl_core.numpy.NDArrayCompat.__getitem__', label=None), State(node='680250064134282809', rule='metadsl_core.numpy.NDArrayCompat.__getitem__', label=None), State(node='680250064134282809', rule='metadsl_core.numpy.NDArrayCompat.__getitem__', label=None), State(node='680250064134282809', rule='metadsl_core.numpy.NDArrayCompat.__getitem__', label=None), State(node='680250064134282809', rule='metadsl_core.numpy.NDArrayCompat.__getitem__', label=None), State(node='680250064134282809', rule='metadsl_core.numpy.NDArrayCompat.__getitem__', label=None), State(node='680250064134282809', rule='metadsl_core.numpy.NDArrayCompat.__getitem__', label=None), State(node='680250064134282809', rule='metadsl_core.numpy.NDArrayCompat.__getitem__', label=None), State(node='680250064134282809', rule='metadsl_core.numpy.NDArrayCompat.__getitem__', label=None), State(node='680250064134282809', rule='metadsl_core.numpy.NDArrayCompat.__getitem__', label=None), State(node='680250064134282809', rule='metadsl_core.numpy.NDArrayCompat.__getitem__', label=None), State(node='680250064134282809', rule='metadsl_core.numpy.NDArrayCompat.__getitem__', label=None), State(node='680250064134282809', rule='metadsl_core.numpy.NDArrayCompat.__getitem__', label=None), State(node='680250064134282809', rule='metadsl_core.numpy.NDArrayCompat.__getitem__', label=None), State(node='680250064134282809', rule='metadsl_core.numpy.NDArrayCompat.__getitem__', label=None), State(node='680250064134282809', rule='metadsl_core.numpy.NDArrayCompat.__getitem__', label=None), State(node='680250064134282809', rule='metadsl_core.numpy.NDArrayCompat.__getitem__', label=None), State(node='680250064134282809', rule='metadsl_core.numpy.NDArrayCompat.__getitem__', label=None), State(node='680250064134282809', rule='metadsl_core.numpy.NDArrayCompat.__getitem__', label=None), State(node='680250064134282809', rule='metadsl_core.numpy.NDArrayCompat.__getitem__', label=None), State(node='680250064134282809', rule='metadsl_core.numpy.NDArrayCompat.__getitem__', label=None), State(node='680250064134282809', rule='metadsl_core.numpy.NDArrayCompat.__getitem__', label=None), State(node='680250064134282809', rule='metadsl_core.numpy.NDArrayCompat.__getitem__', label=None), State(node='680250064134282809', rule='metadsl_core.numpy.NDArrayCompat.__getitem__', label=None), State(node='680250064134282809', rule='metadsl_core.numpy.NDArrayCompat.__getitem__', label=None), State(node='680250064134282809', rule='metadsl_core.numpy.NDArrayCompat.__getitem__', label=None), State(node='680250064134282809', rule='metadsl_core.numpy.NDArrayCompat.__getitem__', label=None), State(node='680250064134282809', rule='metadsl_core.numpy.NDArrayCompat.__getitem__', label=None), State(node='680250064134282809', rule='metadsl_core.numpy.NDArrayCompat.__getitem__', label=None), State(node='680250064134282809', rule='metadsl_core.numpy.NDArrayCompat.__getitem__', label=None), State(node='680250064134282809', rule='metadsl_core.numpy.NDArrayCompat.__getitem__', label=None), State(node='680250064134282809', rule='metadsl_core.numpy.NDArrayCompat.__getitem__', label=None), State(node='680250064134282809', rule='metadsl_core.numpy.NDArrayCompat.__getitem__', label=None), State(node='680250064134282809', rule='metadsl_core.numpy.NDArrayCompat.__getitem__', label=None), State(node='680250064134282809', rule='metadsl_core.numpy.NDArrayCompat.__getitem__', label=None), State(node='680250064134282809', rule='metadsl_core.numpy.NDArrayCompat.__getitem__', label=None), State(node='680250064134282809', rule='metadsl_core.numpy.NDArrayCompat.__getitem__', label=None), State(node='680250064134282809', rule='metadsl_core.numpy.NDArrayCompat.__getitem__', label=None), State(node='680250064134282809', rule='metadsl_core.numpy.NDArrayCompat.__getitem__', label=None), State(node='680250064134282809', rule='metadsl_core.numpy.NDArrayCompat.__getitem__', label=None), State(node='680250064134282809', rule='metadsl_core.numpy.NDArrayCompat.__getitem__', label=None), State(node='680250064134282809', rule='metadsl_core.numpy.NDArrayCompat.__getitem__', label=None), State(node='680250064134282809', rule='metadsl_core.numpy.NDArrayCompat.__getitem__', label=None), State(node='680250064134282809', rule='metadsl_core.numpy.NDArrayCompat.__getitem__', label=None), State(node='680250064134282809', rule='metadsl_core.numpy.NDArrayCompat.__getitem__', label=None), State(node='680250064134282809', rule='metadsl_core.numpy.NDArrayCompat.__getitem__', label=None), State(node='680250064134282809', rule='metadsl_core.numpy.NDArrayCompat.__getitem__', label=None), State(node='680250064134282809', rule='metadsl_core.numpy.NDArrayCompat.__getitem__', label=None), State(node='680250064134282809', rule='metadsl_core.numpy.NDArrayCompat.__getitem__', label=None), State(node='680250064134282809', rule='metadsl_core.numpy.NDArrayCompat.__getitem__', label=None), State(node='680250064134282809', rule='metadsl_core.numpy.NDArrayCompat.__getitem__', label=None), State(node='680250064134282809', rule='metadsl_core.numpy.NDArrayCompat.__getitem__', label=None), State(node='680250064134282809', rule='metadsl_core.numpy.NDArrayCompat.__getitem__', label=None), State(node='680250064134282809', rule='metadsl_core.numpy.NDArrayCompat.__getitem__', label=None), State(node='680250064134282809', rule='metadsl_core.numpy.NDArrayCompat.__getitem__', label=None), State(node='680250064134282809', rule='metadsl_core.numpy.NDArrayCompat.__getitem__', label=None), State(node='680250064134282809', rule='metadsl_core.numpy.NDArrayCompat.__getitem__', label=None), State(node='680250064134282809', rule='metadsl_core.numpy.NDArrayCompat.__getitem__', label=None), State(node='680250064134282809', rule='metadsl_core.numpy.NDArrayCompat.__getitem__', label=None), State(node='680250064134282809', rule='metadsl_core.numpy.NDArrayCompat.__getitem__', label=None), State(node='680250064134282809', rule='metadsl_core.numpy.NDArrayCompat.__getitem__', label=None), State(node='680250064134282809', rule='metadsl_core.numpy.NDArrayCompat.__getitem__', label=None), State(node='680250064134282809', rule='metadsl_core.numpy.NDArrayCompat.__getitem__', label=None), State(node='680250064134282809', rule='metadsl_core.numpy.NDArrayCompat.__getitem__', label=None), State(node='680250064134282809', rule='metadsl_core.numpy.NDArrayCompat.__getitem__', label=None), State(node='680250064134282809', rule='metadsl_core.numpy.NDArrayCompat.__getitem__', label=None), State(node='680250064134282809', rule='metadsl_core.numpy.NDArrayCompat.__getitem__', label=None), State(node='680250064134282809', rule='metadsl_core.numpy.NDArrayCompat.__getitem__', label=None), State(node='680250064134282809', rule='metadsl_core.numpy.NDArrayCompat.__getitem__', label=None), State(node='680250064134282809', rule='metadsl_core.numpy.NDArrayCompat.__getitem__', label=None), State(node='680250064134282809', rule='metadsl_core.numpy.NDArrayCompat.__getitem__', label=None), State(node='680250064134282809', rule='metadsl_core.numpy.NDArrayCompat.__getitem__', label=None), State(node='680250064134282809', rule='metadsl_core.numpy.NDArrayCompat.__getitem__', label=None), State(node='680250064134282809', rule='metadsl_core.numpy.NDArrayCompat.__getitem__', label=None), State(node='680250064134282809', rule='metadsl_core.numpy.NDArrayCompat.__getitem__', label=None), State(node='680250064134282809', rule='metadsl_core.numpy.NDArrayCompat.__getitem__', label=None)]))"
      ]
     },
     "metadata": {},
     "output_type": "display_data"
    },
    {
     "ename": "KeyboardInterrupt",
     "evalue": "",
     "output_type": "error",
     "traceback": [
      "\u001b[0;31m---------------------------------------------------------------------------\u001b[0m",
      "\u001b[0;31mKeyboardInterrupt\u001b[0m                         Traceback (most recent call last)",
      "\u001b[0;32m<ipython-input-2-bf628234ad4e>\u001b[0m in \u001b[0;36m<module>\u001b[0;34m\u001b[0m\n\u001b[1;32m      2\u001b[0m \u001b[0mexpr\u001b[0m \u001b[0;34m=\u001b[0m \u001b[0;34m(\u001b[0m\u001b[0marange\u001b[0m\u001b[0;34m(\u001b[0m\u001b[0mN\u001b[0m\u001b[0;34m)\u001b[0m \u001b[0;34m+\u001b[0m \u001b[0marange\u001b[0m\u001b[0;34m(\u001b[0m\u001b[0mN\u001b[0m\u001b[0;34m)\u001b[0m\u001b[0;34m)\u001b[0m\u001b[0;34m[\u001b[0m\u001b[0;36m5\u001b[0m\u001b[0;34m]\u001b[0m\u001b[0;34m.\u001b[0m\u001b[0mto_ndarray\u001b[0m\u001b[0;34m(\u001b[0m\u001b[0;34m)\u001b[0m\u001b[0;34m\u001b[0m\u001b[0;34m\u001b[0m\u001b[0m\n\u001b[1;32m      3\u001b[0m \u001b[0mexpr\u001b[0m\u001b[0;34m\u001b[0m\u001b[0;34m\u001b[0m\u001b[0m\n\u001b[0;32m----> 4\u001b[0;31m \u001b[0mexpr\u001b[0m\u001b[0;34m.\u001b[0m\u001b[0m_ipython_display_\u001b[0m\u001b[0;34m(\u001b[0m\u001b[0;34m)\u001b[0m\u001b[0;34m\u001b[0m\u001b[0;34m\u001b[0m\u001b[0m\n\u001b[0m",
      "\u001b[0;32m~/p/metadsl/metadsl_visualize/visualize.py\u001b[0m in \u001b[0;36m_expression_ipython_display\u001b[0;34m(self)\u001b[0m\n\u001b[1;32m     37\u001b[0m \u001b[0;34m\u001b[0m\u001b[0m\n\u001b[1;32m     38\u001b[0m \u001b[0;32mdef\u001b[0m \u001b[0m_expression_ipython_display\u001b[0m\u001b[0;34m(\u001b[0m\u001b[0mself\u001b[0m\u001b[0;34m)\u001b[0m\u001b[0;34m:\u001b[0m\u001b[0;34m\u001b[0m\u001b[0;34m\u001b[0m\u001b[0m\n\u001b[0;32m---> 39\u001b[0;31m     \u001b[0mres\u001b[0m \u001b[0;34m=\u001b[0m \u001b[0mexecute\u001b[0m\u001b[0;34m(\u001b[0m\u001b[0mself\u001b[0m\u001b[0;34m)\u001b[0m\u001b[0;34m\u001b[0m\u001b[0;34m\u001b[0m\u001b[0m\n\u001b[0m\u001b[1;32m     40\u001b[0m     \u001b[0;31m# Only display result if we get back a non expression object\u001b[0m\u001b[0;34m\u001b[0m\u001b[0;34m\u001b[0m\u001b[0;34m\u001b[0m\u001b[0m\n\u001b[1;32m     41\u001b[0m     \u001b[0;32mif\u001b[0m \u001b[0;32mnot\u001b[0m \u001b[0misinstance\u001b[0m\u001b[0;34m(\u001b[0m\u001b[0mres\u001b[0m\u001b[0;34m,\u001b[0m \u001b[0mExpression\u001b[0m\u001b[0;34m)\u001b[0m\u001b[0;34m:\u001b[0m\u001b[0;34m\u001b[0m\u001b[0;34m\u001b[0m\u001b[0m\n",
      "\u001b[0;32m~/p/metadsl/metadsl/rules.py\u001b[0m in \u001b[0;36m__call__\u001b[0;34m(self, expr, rule)\u001b[0m\n\u001b[1;32m     60\u001b[0m         \u001b[0mrule\u001b[0m \u001b[0;34m=\u001b[0m \u001b[0mrule\u001b[0m \u001b[0;32mor\u001b[0m \u001b[0mself\u001b[0m\u001b[0;34m.\u001b[0m\u001b[0mdefault_rule\u001b[0m\u001b[0;34m\u001b[0m\u001b[0;34m\u001b[0m\u001b[0m\n\u001b[1;32m     61\u001b[0m         \u001b[0;32massert\u001b[0m \u001b[0mrule\u001b[0m\u001b[0;34m\u001b[0m\u001b[0;34m\u001b[0m\u001b[0m\n\u001b[0;32m---> 62\u001b[0;31m         \u001b[0;32mreturn\u001b[0m \u001b[0mtyping\u001b[0m\u001b[0;34m.\u001b[0m\u001b[0mcast\u001b[0m\u001b[0;34m(\u001b[0m\u001b[0mT\u001b[0m\u001b[0;34m,\u001b[0m \u001b[0mexecute\u001b[0m\u001b[0;34m(\u001b[0m\u001b[0mExpressionReference\u001b[0m\u001b[0;34m.\u001b[0m\u001b[0mfrom_expression\u001b[0m\u001b[0;34m(\u001b[0m\u001b[0mexpr\u001b[0m\u001b[0;34m)\u001b[0m\u001b[0;34m,\u001b[0m \u001b[0mrule\u001b[0m\u001b[0;34m)\u001b[0m\u001b[0;34m)\u001b[0m\u001b[0;34m\u001b[0m\u001b[0;34m\u001b[0m\u001b[0m\n\u001b[0m\u001b[1;32m     63\u001b[0m \u001b[0;34m\u001b[0m\u001b[0m\n\u001b[1;32m     64\u001b[0m \u001b[0;34m\u001b[0m\u001b[0m\n",
      "\u001b[0;32m~/p/metadsl/metadsl_visualize/visualize.py\u001b[0m in \u001b[0;36mexecute_and_visualize\u001b[0;34m(ref, rule)\u001b[0m\n\u001b[1;32m     21\u001b[0m     \u001b[0mIPython\u001b[0m\u001b[0;34m.\u001b[0m\u001b[0mcore\u001b[0m\u001b[0;34m.\u001b[0m\u001b[0mdisplay\u001b[0m\u001b[0;34m.\u001b[0m\u001b[0mdisplay\u001b[0m\u001b[0;34m(\u001b[0m\u001b[0mtypez_display\u001b[0m\u001b[0;34m)\u001b[0m\u001b[0;34m\u001b[0m\u001b[0;34m\u001b[0m\u001b[0m\n\u001b[1;32m     22\u001b[0m     \u001b[0;31m# Update the typez display as we execute the rules\u001b[0m\u001b[0;34m\u001b[0m\u001b[0;34m\u001b[0m\u001b[0;34m\u001b[0m\u001b[0m\n\u001b[0;32m---> 23\u001b[0;31m     \u001b[0;32mfor\u001b[0m \u001b[0mtypez_\u001b[0m \u001b[0;32min\u001b[0m \u001b[0mconvert_rule\u001b[0m\u001b[0;34m(\u001b[0m\u001b[0mrule\u001b[0m\u001b[0;34m)\u001b[0m\u001b[0;34m(\u001b[0m\u001b[0mref\u001b[0m\u001b[0;34m)\u001b[0m\u001b[0;34m:\u001b[0m\u001b[0;34m\u001b[0m\u001b[0;34m\u001b[0m\u001b[0m\n\u001b[0m\u001b[1;32m     24\u001b[0m         \u001b[0mtypez_display\u001b[0m\u001b[0;34m.\u001b[0m\u001b[0mtypez\u001b[0m \u001b[0;34m=\u001b[0m \u001b[0mtypez_\u001b[0m\u001b[0;34m\u001b[0m\u001b[0;34m\u001b[0m\u001b[0m\n\u001b[1;32m     25\u001b[0m     \u001b[0;32mreturn\u001b[0m \u001b[0mref\u001b[0m\u001b[0;34m.\u001b[0m\u001b[0mto_expression\u001b[0m\u001b[0;34m(\u001b[0m\u001b[0;34m)\u001b[0m\u001b[0;34m\u001b[0m\u001b[0;34m\u001b[0m\u001b[0m\n",
      "\u001b[0;32m~/p/metadsl/metadsl_visualize/typez.py\u001b[0m in \u001b[0;36m__call__\u001b[0;34m(self, ref)\u001b[0m\n\u001b[1;32m     34\u001b[0m         \u001b[0mstates\u001b[0m\u001b[0;34m:\u001b[0m \u001b[0mtyping\u001b[0m\u001b[0;34m.\u001b[0m\u001b[0mList\u001b[0m\u001b[0;34m[\u001b[0m\u001b[0mState\u001b[0m\u001b[0;34m]\u001b[0m \u001b[0;34m=\u001b[0m \u001b[0;34m[\u001b[0m\u001b[0;34m]\u001b[0m\u001b[0;34m\u001b[0m\u001b[0;34m\u001b[0m\u001b[0m\n\u001b[1;32m     35\u001b[0m         \u001b[0mrule\u001b[0m\u001b[0;34m:\u001b[0m \u001b[0mmetadsl\u001b[0m\u001b[0;34m.\u001b[0m\u001b[0mRule\u001b[0m \u001b[0;34m=\u001b[0m \u001b[0mself\u001b[0m\u001b[0;34m.\u001b[0m\u001b[0mrule\u001b[0m  \u001b[0;31m# type: ignore\u001b[0m\u001b[0;34m\u001b[0m\u001b[0;34m\u001b[0m\u001b[0m\n\u001b[0;32m---> 36\u001b[0;31m         \u001b[0;32mfor\u001b[0m \u001b[0mreplacement\u001b[0m \u001b[0;32min\u001b[0m \u001b[0mrule\u001b[0m\u001b[0;34m(\u001b[0m\u001b[0mref\u001b[0m\u001b[0;34m)\u001b[0m\u001b[0;34m:\u001b[0m\u001b[0;34m\u001b[0m\u001b[0;34m\u001b[0m\u001b[0m\n\u001b[0m\u001b[1;32m     37\u001b[0m             \u001b[0mnew_nodes\u001b[0m \u001b[0;34m=\u001b[0m \u001b[0mconvert_to_nodes\u001b[0m\u001b[0;34m(\u001b[0m\u001b[0mref\u001b[0m\u001b[0;34m)\u001b[0m\u001b[0;34m\u001b[0m\u001b[0;34m\u001b[0m\u001b[0m\n\u001b[1;32m     38\u001b[0m             \u001b[0;31m# combine nodes\u001b[0m\u001b[0;34m\u001b[0m\u001b[0;34m\u001b[0m\u001b[0;34m\u001b[0m\u001b[0m\n",
      "\u001b[0;32m~/p/metadsl/metadsl/rules.py\u001b[0m in \u001b[0;36m__call__\u001b[0;34m(self, expr)\u001b[0m\n\u001b[1;32m    269\u001b[0m         \u001b[0;32mfor\u001b[0m \u001b[0mi\u001b[0m \u001b[0;32min\u001b[0m \u001b[0mrange\u001b[0m\u001b[0;34m(\u001b[0m\u001b[0mself\u001b[0m\u001b[0;34m.\u001b[0m\u001b[0mmax_calls\u001b[0m\u001b[0;34m)\u001b[0m\u001b[0;34m:\u001b[0m\u001b[0;34m\u001b[0m\u001b[0;34m\u001b[0m\u001b[0m\n\u001b[1;32m    270\u001b[0m             \u001b[0mreplaced\u001b[0m \u001b[0;34m=\u001b[0m \u001b[0;32mFalse\u001b[0m\u001b[0;34m\u001b[0m\u001b[0;34m\u001b[0m\u001b[0m\n\u001b[0;32m--> 271\u001b[0;31m             \u001b[0;32mfor\u001b[0m \u001b[0mreplacement\u001b[0m \u001b[0;32min\u001b[0m \u001b[0mrule\u001b[0m\u001b[0;34m(\u001b[0m\u001b[0mexpr\u001b[0m\u001b[0;34m)\u001b[0m\u001b[0;34m:\u001b[0m\u001b[0;34m\u001b[0m\u001b[0;34m\u001b[0m\u001b[0m\n\u001b[0m\u001b[1;32m    272\u001b[0m                 \u001b[0mreplaced\u001b[0m \u001b[0;34m=\u001b[0m \u001b[0;32mTrue\u001b[0m\u001b[0;34m\u001b[0m\u001b[0;34m\u001b[0m\u001b[0m\n\u001b[1;32m    273\u001b[0m                 \u001b[0;32myield\u001b[0m \u001b[0mreplacement\u001b[0m\u001b[0;34m\u001b[0m\u001b[0;34m\u001b[0m\u001b[0m\n",
      "\u001b[0;32m~/p/metadsl/metadsl/rules.py\u001b[0m in \u001b[0;36m__call__\u001b[0;34m(self, expr)\u001b[0m\n\u001b[1;32m    210\u001b[0m         \u001b[0;32mfor\u001b[0m \u001b[0mrule\u001b[0m \u001b[0;32min\u001b[0m \u001b[0mself\u001b[0m\u001b[0;34m.\u001b[0m\u001b[0mrules\u001b[0m\u001b[0;34m:\u001b[0m\u001b[0;34m\u001b[0m\u001b[0;34m\u001b[0m\u001b[0m\n\u001b[1;32m    211\u001b[0m             \u001b[0mreplacement\u001b[0m \u001b[0;34m=\u001b[0m \u001b[0;32mNone\u001b[0m\u001b[0;34m\u001b[0m\u001b[0;34m\u001b[0m\u001b[0m\n\u001b[0;32m--> 212\u001b[0;31m             \u001b[0;32mfor\u001b[0m \u001b[0mreplacement\u001b[0m \u001b[0;32min\u001b[0m \u001b[0mrule\u001b[0m\u001b[0;34m(\u001b[0m\u001b[0mexpr\u001b[0m\u001b[0;34m)\u001b[0m\u001b[0;34m:\u001b[0m\u001b[0;34m\u001b[0m\u001b[0;34m\u001b[0m\u001b[0m\n\u001b[0m\u001b[1;32m    213\u001b[0m                 \u001b[0;32myield\u001b[0m \u001b[0mreplacement\u001b[0m\u001b[0;34m\u001b[0m\u001b[0;34m\u001b[0m\u001b[0m\n\u001b[1;32m    214\u001b[0m             \u001b[0;32mif\u001b[0m \u001b[0mreplacement\u001b[0m\u001b[0;34m:\u001b[0m\u001b[0;34m\u001b[0m\u001b[0;34m\u001b[0m\u001b[0m\n",
      "\u001b[0;32m~/p/metadsl/metadsl/rules.py\u001b[0m in \u001b[0;36m__call__\u001b[0;34m(self, expr)\u001b[0m\n\u001b[1;32m    195\u001b[0m     \u001b[0;32mdef\u001b[0m \u001b[0m__call__\u001b[0m\u001b[0;34m(\u001b[0m\u001b[0mself\u001b[0m\u001b[0;34m,\u001b[0m \u001b[0mexpr\u001b[0m\u001b[0;34m:\u001b[0m \u001b[0mExpressionReference\u001b[0m\u001b[0;34m)\u001b[0m \u001b[0;34m->\u001b[0m \u001b[0mtyping\u001b[0m\u001b[0;34m.\u001b[0m\u001b[0mIterable\u001b[0m\u001b[0;34m[\u001b[0m\u001b[0mReplacement\u001b[0m\u001b[0;34m]\u001b[0m\u001b[0;34m:\u001b[0m\u001b[0;34m\u001b[0m\u001b[0;34m\u001b[0m\u001b[0m\n\u001b[1;32m    196\u001b[0m         \u001b[0;32mfor\u001b[0m \u001b[0mrule\u001b[0m \u001b[0;32min\u001b[0m \u001b[0mself\u001b[0m\u001b[0;34m.\u001b[0m\u001b[0mrules\u001b[0m\u001b[0;34m:\u001b[0m\u001b[0;34m\u001b[0m\u001b[0;34m\u001b[0m\u001b[0m\n\u001b[0;32m--> 197\u001b[0;31m             \u001b[0;32mfor\u001b[0m \u001b[0mreplacement\u001b[0m \u001b[0;32min\u001b[0m \u001b[0mrule\u001b[0m\u001b[0;34m(\u001b[0m\u001b[0mexpr\u001b[0m\u001b[0;34m)\u001b[0m\u001b[0;34m:\u001b[0m\u001b[0;34m\u001b[0m\u001b[0;34m\u001b[0m\u001b[0m\n\u001b[0m\u001b[1;32m    198\u001b[0m                 \u001b[0;32myield\u001b[0m \u001b[0mreplacement\u001b[0m\u001b[0;34m\u001b[0m\u001b[0;34m\u001b[0m\u001b[0m\n\u001b[1;32m    199\u001b[0m \u001b[0;34m\u001b[0m\u001b[0m\n",
      "\u001b[0;32m~/p/metadsl/metadsl/rules.py\u001b[0m in \u001b[0;36m__call__\u001b[0;34m(self, expr)\u001b[0m\n\u001b[1;32m     92\u001b[0m     \u001b[0;32mdef\u001b[0m \u001b[0m__call__\u001b[0m\u001b[0;34m(\u001b[0m\u001b[0mself\u001b[0m\u001b[0;34m,\u001b[0m \u001b[0mexpr\u001b[0m\u001b[0;34m:\u001b[0m \u001b[0mExpressionReference\u001b[0m\u001b[0;34m)\u001b[0m \u001b[0;34m->\u001b[0m \u001b[0mtyping\u001b[0m\u001b[0;34m.\u001b[0m\u001b[0mIterable\u001b[0m\u001b[0;34m[\u001b[0m\u001b[0mReplacement\u001b[0m\u001b[0;34m]\u001b[0m\u001b[0;34m:\u001b[0m\u001b[0;34m\u001b[0m\u001b[0;34m\u001b[0m\u001b[0m\n\u001b[1;32m     93\u001b[0m         \u001b[0mreplacement\u001b[0m \u001b[0;34m=\u001b[0m \u001b[0;32mNone\u001b[0m\u001b[0;34m\u001b[0m\u001b[0;34m\u001b[0m\u001b[0m\n\u001b[0;32m---> 94\u001b[0;31m         \u001b[0;32mfor\u001b[0m \u001b[0mreplacement\u001b[0m \u001b[0;32min\u001b[0m \u001b[0mself\u001b[0m\u001b[0;34m.\u001b[0m\u001b[0mrule\u001b[0m\u001b[0;34m(\u001b[0m\u001b[0mexpr\u001b[0m\u001b[0;34m)\u001b[0m\u001b[0;34m:\u001b[0m  \u001b[0;31m# type: ignore\u001b[0m\u001b[0;34m\u001b[0m\u001b[0;34m\u001b[0m\u001b[0m\n\u001b[0m\u001b[1;32m     95\u001b[0m             \u001b[0;32myield\u001b[0m \u001b[0mreplacement\u001b[0m\u001b[0;34m\u001b[0m\u001b[0;34m\u001b[0m\u001b[0m\n\u001b[1;32m     96\u001b[0m         \u001b[0;32mif\u001b[0m \u001b[0mreplacement\u001b[0m\u001b[0;34m:\u001b[0m\u001b[0;34m\u001b[0m\u001b[0;34m\u001b[0m\u001b[0m\n",
      "\u001b[0;32m~/p/metadsl/metadsl/rules.py\u001b[0m in \u001b[0;36m__call__\u001b[0;34m(self, expr)\u001b[0m\n\u001b[1;32m    269\u001b[0m         \u001b[0;32mfor\u001b[0m \u001b[0mi\u001b[0m \u001b[0;32min\u001b[0m \u001b[0mrange\u001b[0m\u001b[0;34m(\u001b[0m\u001b[0mself\u001b[0m\u001b[0;34m.\u001b[0m\u001b[0mmax_calls\u001b[0m\u001b[0;34m)\u001b[0m\u001b[0;34m:\u001b[0m\u001b[0;34m\u001b[0m\u001b[0;34m\u001b[0m\u001b[0m\n\u001b[1;32m    270\u001b[0m             \u001b[0mreplaced\u001b[0m \u001b[0;34m=\u001b[0m \u001b[0;32mFalse\u001b[0m\u001b[0;34m\u001b[0m\u001b[0;34m\u001b[0m\u001b[0m\n\u001b[0;32m--> 271\u001b[0;31m             \u001b[0;32mfor\u001b[0m \u001b[0mreplacement\u001b[0m \u001b[0;32min\u001b[0m \u001b[0mrule\u001b[0m\u001b[0;34m(\u001b[0m\u001b[0mexpr\u001b[0m\u001b[0;34m)\u001b[0m\u001b[0;34m:\u001b[0m\u001b[0;34m\u001b[0m\u001b[0;34m\u001b[0m\u001b[0m\n\u001b[0m\u001b[1;32m    272\u001b[0m                 \u001b[0mreplaced\u001b[0m \u001b[0;34m=\u001b[0m \u001b[0;32mTrue\u001b[0m\u001b[0;34m\u001b[0m\u001b[0;34m\u001b[0m\u001b[0m\n\u001b[1;32m    273\u001b[0m                 \u001b[0;32myield\u001b[0m \u001b[0mreplacement\u001b[0m\u001b[0;34m\u001b[0m\u001b[0;34m\u001b[0m\u001b[0m\n",
      "\u001b[0;32m~/p/metadsl/metadsl/rules.py\u001b[0m in \u001b[0;36m__call__\u001b[0;34m(self, expr)\u001b[0m\n\u001b[1;32m    210\u001b[0m         \u001b[0;32mfor\u001b[0m \u001b[0mrule\u001b[0m \u001b[0;32min\u001b[0m \u001b[0mself\u001b[0m\u001b[0;34m.\u001b[0m\u001b[0mrules\u001b[0m\u001b[0;34m:\u001b[0m\u001b[0;34m\u001b[0m\u001b[0;34m\u001b[0m\u001b[0m\n\u001b[1;32m    211\u001b[0m             \u001b[0mreplacement\u001b[0m \u001b[0;34m=\u001b[0m \u001b[0;32mNone\u001b[0m\u001b[0;34m\u001b[0m\u001b[0;34m\u001b[0m\u001b[0m\n\u001b[0;32m--> 212\u001b[0;31m             \u001b[0;32mfor\u001b[0m \u001b[0mreplacement\u001b[0m \u001b[0;32min\u001b[0m \u001b[0mrule\u001b[0m\u001b[0;34m(\u001b[0m\u001b[0mexpr\u001b[0m\u001b[0;34m)\u001b[0m\u001b[0;34m:\u001b[0m\u001b[0;34m\u001b[0m\u001b[0;34m\u001b[0m\u001b[0m\n\u001b[0m\u001b[1;32m    213\u001b[0m                 \u001b[0;32myield\u001b[0m \u001b[0mreplacement\u001b[0m\u001b[0;34m\u001b[0m\u001b[0;34m\u001b[0m\u001b[0m\n\u001b[1;32m    214\u001b[0m             \u001b[0;32mif\u001b[0m \u001b[0mreplacement\u001b[0m\u001b[0;34m:\u001b[0m\u001b[0;34m\u001b[0m\u001b[0;34m\u001b[0m\u001b[0m\n",
      "\u001b[0;32m~/p/metadsl/metadsl/rules.py\u001b[0m in \u001b[0;36m__call__\u001b[0;34m(self, expr)\u001b[0m\n\u001b[1;32m    269\u001b[0m         \u001b[0;32mfor\u001b[0m \u001b[0mi\u001b[0m \u001b[0;32min\u001b[0m \u001b[0mrange\u001b[0m\u001b[0;34m(\u001b[0m\u001b[0mself\u001b[0m\u001b[0;34m.\u001b[0m\u001b[0mmax_calls\u001b[0m\u001b[0;34m)\u001b[0m\u001b[0;34m:\u001b[0m\u001b[0;34m\u001b[0m\u001b[0;34m\u001b[0m\u001b[0m\n\u001b[1;32m    270\u001b[0m             \u001b[0mreplaced\u001b[0m \u001b[0;34m=\u001b[0m \u001b[0;32mFalse\u001b[0m\u001b[0;34m\u001b[0m\u001b[0;34m\u001b[0m\u001b[0m\n\u001b[0;32m--> 271\u001b[0;31m             \u001b[0;32mfor\u001b[0m \u001b[0mreplacement\u001b[0m \u001b[0;32min\u001b[0m \u001b[0mrule\u001b[0m\u001b[0;34m(\u001b[0m\u001b[0mexpr\u001b[0m\u001b[0;34m)\u001b[0m\u001b[0;34m:\u001b[0m\u001b[0;34m\u001b[0m\u001b[0;34m\u001b[0m\u001b[0m\n\u001b[0m\u001b[1;32m    272\u001b[0m                 \u001b[0mreplaced\u001b[0m \u001b[0;34m=\u001b[0m \u001b[0;32mTrue\u001b[0m\u001b[0;34m\u001b[0m\u001b[0;34m\u001b[0m\u001b[0m\n\u001b[1;32m    273\u001b[0m                 \u001b[0;32myield\u001b[0m \u001b[0mreplacement\u001b[0m\u001b[0;34m\u001b[0m\u001b[0;34m\u001b[0m\u001b[0m\n",
      "\u001b[0;32m~/p/metadsl/metadsl/rules.py\u001b[0m in \u001b[0;36m__call__\u001b[0;34m(self, expr)\u001b[0m\n\u001b[1;32m    241\u001b[0m \u001b[0;34m\u001b[0m\u001b[0m\n\u001b[1;32m    242\u001b[0m         \u001b[0;32mfor\u001b[0m \u001b[0mchild_ref\u001b[0m \u001b[0;32min\u001b[0m \u001b[0mexpr\u001b[0m\u001b[0;34m.\u001b[0m\u001b[0mchild_references\u001b[0m\u001b[0;34m(\u001b[0m\u001b[0;34m)\u001b[0m\u001b[0;34m:\u001b[0m\u001b[0;34m\u001b[0m\u001b[0;34m\u001b[0m\u001b[0m\n\u001b[0;32m--> 243\u001b[0;31m             \u001b[0;32mfor\u001b[0m \u001b[0mreplacement\u001b[0m \u001b[0;32min\u001b[0m \u001b[0mrule\u001b[0m\u001b[0;34m(\u001b[0m\u001b[0mchild_ref\u001b[0m\u001b[0;34m)\u001b[0m\u001b[0;34m:\u001b[0m\u001b[0;34m\u001b[0m\u001b[0;34m\u001b[0m\u001b[0m\n\u001b[0m\u001b[1;32m    244\u001b[0m                 \u001b[0;31m# If we replaced at the top level, update our top level id\u001b[0m\u001b[0;34m\u001b[0m\u001b[0;34m\u001b[0m\u001b[0;34m\u001b[0m\u001b[0m\n\u001b[1;32m    245\u001b[0m                 \u001b[0;32mif\u001b[0m \u001b[0mchild_ref\u001b[0m \u001b[0;34m==\u001b[0m \u001b[0mexpr\u001b[0m\u001b[0;34m:\u001b[0m\u001b[0;34m\u001b[0m\u001b[0;34m\u001b[0m\u001b[0m\n",
      "\u001b[0;32m~/p/metadsl/metadsl/rules.py\u001b[0m in \u001b[0;36m__call__\u001b[0;34m(self, expr)\u001b[0m\n\u001b[1;32m    210\u001b[0m         \u001b[0;32mfor\u001b[0m \u001b[0mrule\u001b[0m \u001b[0;32min\u001b[0m \u001b[0mself\u001b[0m\u001b[0;34m.\u001b[0m\u001b[0mrules\u001b[0m\u001b[0;34m:\u001b[0m\u001b[0;34m\u001b[0m\u001b[0;34m\u001b[0m\u001b[0m\n\u001b[1;32m    211\u001b[0m             \u001b[0mreplacement\u001b[0m \u001b[0;34m=\u001b[0m \u001b[0;32mNone\u001b[0m\u001b[0;34m\u001b[0m\u001b[0;34m\u001b[0m\u001b[0m\n\u001b[0;32m--> 212\u001b[0;31m             \u001b[0;32mfor\u001b[0m \u001b[0mreplacement\u001b[0m \u001b[0;32min\u001b[0m \u001b[0mrule\u001b[0m\u001b[0;34m(\u001b[0m\u001b[0mexpr\u001b[0m\u001b[0;34m)\u001b[0m\u001b[0;34m:\u001b[0m\u001b[0;34m\u001b[0m\u001b[0;34m\u001b[0m\u001b[0m\n\u001b[0m\u001b[1;32m    213\u001b[0m                 \u001b[0;32myield\u001b[0m \u001b[0mreplacement\u001b[0m\u001b[0;34m\u001b[0m\u001b[0;34m\u001b[0m\u001b[0m\n\u001b[1;32m    214\u001b[0m             \u001b[0;32mif\u001b[0m \u001b[0mreplacement\u001b[0m\u001b[0;34m:\u001b[0m\u001b[0;34m\u001b[0m\u001b[0;34m\u001b[0m\u001b[0m\n",
      "\u001b[0;32m~/p/metadsl/metadsl/matching.py\u001b[0m in \u001b[0;36m__call__\u001b[0;34m(self, ref)\u001b[0m\n\u001b[1;32m    111\u001b[0m             \u001b[0;32mreturn\u001b[0m\u001b[0;34m\u001b[0m\u001b[0;34m\u001b[0m\u001b[0m\n\u001b[1;32m    112\u001b[0m         \u001b[0mnew_expr\u001b[0m \u001b[0;34m=\u001b[0m \u001b[0mself\u001b[0m\u001b[0;34m.\u001b[0m\u001b[0minner_fn\u001b[0m\u001b[0;34m(\u001b[0m\u001b[0;34m*\u001b[0m\u001b[0margs\u001b[0m\u001b[0;34m,\u001b[0m \u001b[0;34m**\u001b[0m\u001b[0mexpr\u001b[0m\u001b[0;34m.\u001b[0m\u001b[0mkwargs\u001b[0m\u001b[0;34m)\u001b[0m\u001b[0;34m\u001b[0m\u001b[0;34m\u001b[0m\u001b[0m\n\u001b[0;32m--> 113\u001b[0;31m         \u001b[0mresult\u001b[0m \u001b[0;34m=\u001b[0m \u001b[0mreplace_typevars_expression\u001b[0m\u001b[0;34m(\u001b[0m\u001b[0mnew_expr\u001b[0m\u001b[0;34m,\u001b[0m \u001b[0mtypevars\u001b[0m\u001b[0;34m)\u001b[0m\u001b[0;34m\u001b[0m\u001b[0;34m\u001b[0m\u001b[0m\n\u001b[0m\u001b[1;32m    114\u001b[0m         \u001b[0mref\u001b[0m\u001b[0;34m.\u001b[0m\u001b[0mreplace\u001b[0m\u001b[0;34m(\u001b[0m\u001b[0mresult\u001b[0m\u001b[0;34m)\u001b[0m\u001b[0;34m\u001b[0m\u001b[0;34m\u001b[0m\u001b[0m\n\u001b[1;32m    115\u001b[0m         \u001b[0;32myield\u001b[0m \u001b[0mReplacement\u001b[0m\u001b[0;34m(\u001b[0m\u001b[0mstr\u001b[0m\u001b[0;34m(\u001b[0m\u001b[0mself\u001b[0m\u001b[0;34m)\u001b[0m\u001b[0;34m)\u001b[0m\u001b[0;34m\u001b[0m\u001b[0;34m\u001b[0m\u001b[0m\n",
      "\u001b[0;32m~/p/metadsl/metadsl/matching.py\u001b[0m in \u001b[0;36mreplace_typevars_expression\u001b[0;34m(expression, typevars)\u001b[0m\n\u001b[1;32m    222\u001b[0m         ),\n\u001b[1;32m    223\u001b[0m         \u001b[0mtypevars\u001b[0m\u001b[0;34m=\u001b[0m\u001b[0mtypevars\u001b[0m\u001b[0;34m,\u001b[0m\u001b[0;34m\u001b[0m\u001b[0;34m\u001b[0m\u001b[0m\n\u001b[0;32m--> 224\u001b[0;31m     )(expression)\n\u001b[0m\u001b[1;32m    225\u001b[0m \u001b[0;34m\u001b[0m\u001b[0m\n\u001b[1;32m    226\u001b[0m \u001b[0;34m\u001b[0m\u001b[0m\n",
      "\u001b[0;32m~/p/metadsl/metadsl/expressions.py\u001b[0m in \u001b[0;36m__call__\u001b[0;34m(self, expr)\u001b[0m\n\u001b[1;32m    146\u001b[0m                 (replace_fn_typevars(expr.function, self.typevars))(\n\u001b[1;32m    147\u001b[0m                     \u001b[0;34m*\u001b[0m\u001b[0;34m(\u001b[0m\u001b[0mself\u001b[0m\u001b[0;34m(\u001b[0m\u001b[0marg\u001b[0m\u001b[0;34m)\u001b[0m \u001b[0;32mfor\u001b[0m \u001b[0marg\u001b[0m \u001b[0;32min\u001b[0m \u001b[0mexpr\u001b[0m\u001b[0;34m.\u001b[0m\u001b[0margs\u001b[0m\u001b[0;34m)\u001b[0m\u001b[0;34m,\u001b[0m\u001b[0;34m\u001b[0m\u001b[0;34m\u001b[0m\u001b[0m\n\u001b[0;32m--> 148\u001b[0;31m                     \u001b[0;34m**\u001b[0m\u001b[0;34m{\u001b[0m\u001b[0mk\u001b[0m\u001b[0;34m:\u001b[0m \u001b[0mself\u001b[0m\u001b[0;34m(\u001b[0m\u001b[0mv\u001b[0m\u001b[0;34m)\u001b[0m \u001b[0;32mfor\u001b[0m \u001b[0mk\u001b[0m\u001b[0;34m,\u001b[0m \u001b[0mv\u001b[0m \u001b[0;32min\u001b[0m \u001b[0mexpr\u001b[0m\u001b[0;34m.\u001b[0m\u001b[0mkwargs\u001b[0m\u001b[0;34m}\u001b[0m\u001b[0;34m,\u001b[0m\u001b[0;34m\u001b[0m\u001b[0;34m\u001b[0m\u001b[0m\n\u001b[0m\u001b[1;32m    149\u001b[0m                 )\n\u001b[1;32m    150\u001b[0m             )\n",
      "\u001b[0;32m~/p/metadsl/metadsl/expressions.py\u001b[0m in \u001b[0;36m<genexpr>\u001b[0;34m(.0)\u001b[0m\n\u001b[1;32m    145\u001b[0m             return fn(\n\u001b[1;32m    146\u001b[0m                 (replace_fn_typevars(expr.function, self.typevars))(\n\u001b[0;32m--> 147\u001b[0;31m                     \u001b[0;34m*\u001b[0m\u001b[0;34m(\u001b[0m\u001b[0mself\u001b[0m\u001b[0;34m(\u001b[0m\u001b[0marg\u001b[0m\u001b[0;34m)\u001b[0m \u001b[0;32mfor\u001b[0m \u001b[0marg\u001b[0m \u001b[0;32min\u001b[0m \u001b[0mexpr\u001b[0m\u001b[0;34m.\u001b[0m\u001b[0margs\u001b[0m\u001b[0;34m)\u001b[0m\u001b[0;34m,\u001b[0m\u001b[0;34m\u001b[0m\u001b[0;34m\u001b[0m\u001b[0m\n\u001b[0m\u001b[1;32m    148\u001b[0m                     \u001b[0;34m**\u001b[0m\u001b[0;34m{\u001b[0m\u001b[0mk\u001b[0m\u001b[0;34m:\u001b[0m \u001b[0mself\u001b[0m\u001b[0;34m(\u001b[0m\u001b[0mv\u001b[0m\u001b[0;34m)\u001b[0m \u001b[0;32mfor\u001b[0m \u001b[0mk\u001b[0m\u001b[0;34m,\u001b[0m \u001b[0mv\u001b[0m \u001b[0;32min\u001b[0m \u001b[0mexpr\u001b[0m\u001b[0;34m.\u001b[0m\u001b[0mkwargs\u001b[0m\u001b[0;34m}\u001b[0m\u001b[0;34m,\u001b[0m\u001b[0;34m\u001b[0m\u001b[0;34m\u001b[0m\u001b[0m\n\u001b[1;32m    149\u001b[0m                 )\n",
      "\u001b[0;32m~/p/metadsl/metadsl/expressions.py\u001b[0m in \u001b[0;36m__call__\u001b[0;34m(self, expr)\u001b[0m\n\u001b[1;32m    146\u001b[0m                 (replace_fn_typevars(expr.function, self.typevars))(\n\u001b[1;32m    147\u001b[0m                     \u001b[0;34m*\u001b[0m\u001b[0;34m(\u001b[0m\u001b[0mself\u001b[0m\u001b[0;34m(\u001b[0m\u001b[0marg\u001b[0m\u001b[0;34m)\u001b[0m \u001b[0;32mfor\u001b[0m \u001b[0marg\u001b[0m \u001b[0;32min\u001b[0m \u001b[0mexpr\u001b[0m\u001b[0;34m.\u001b[0m\u001b[0margs\u001b[0m\u001b[0;34m)\u001b[0m\u001b[0;34m,\u001b[0m\u001b[0;34m\u001b[0m\u001b[0;34m\u001b[0m\u001b[0m\n\u001b[0;32m--> 148\u001b[0;31m                     \u001b[0;34m**\u001b[0m\u001b[0;34m{\u001b[0m\u001b[0mk\u001b[0m\u001b[0;34m:\u001b[0m \u001b[0mself\u001b[0m\u001b[0;34m(\u001b[0m\u001b[0mv\u001b[0m\u001b[0;34m)\u001b[0m \u001b[0;32mfor\u001b[0m \u001b[0mk\u001b[0m\u001b[0;34m,\u001b[0m \u001b[0mv\u001b[0m \u001b[0;32min\u001b[0m \u001b[0mexpr\u001b[0m\u001b[0;34m.\u001b[0m\u001b[0mkwargs\u001b[0m\u001b[0;34m}\u001b[0m\u001b[0;34m,\u001b[0m\u001b[0;34m\u001b[0m\u001b[0;34m\u001b[0m\u001b[0m\n\u001b[0m\u001b[1;32m    149\u001b[0m                 )\n\u001b[1;32m    150\u001b[0m             )\n",
      "\u001b[0;32m~/p/metadsl/metadsl/expressions.py\u001b[0m in \u001b[0;36m<genexpr>\u001b[0;34m(.0)\u001b[0m\n\u001b[1;32m    145\u001b[0m             return fn(\n\u001b[1;32m    146\u001b[0m                 (replace_fn_typevars(expr.function, self.typevars))(\n\u001b[0;32m--> 147\u001b[0;31m                     \u001b[0;34m*\u001b[0m\u001b[0;34m(\u001b[0m\u001b[0mself\u001b[0m\u001b[0;34m(\u001b[0m\u001b[0marg\u001b[0m\u001b[0;34m)\u001b[0m \u001b[0;32mfor\u001b[0m \u001b[0marg\u001b[0m \u001b[0;32min\u001b[0m \u001b[0mexpr\u001b[0m\u001b[0;34m.\u001b[0m\u001b[0margs\u001b[0m\u001b[0;34m)\u001b[0m\u001b[0;34m,\u001b[0m\u001b[0;34m\u001b[0m\u001b[0;34m\u001b[0m\u001b[0m\n\u001b[0m\u001b[1;32m    148\u001b[0m                     \u001b[0;34m**\u001b[0m\u001b[0;34m{\u001b[0m\u001b[0mk\u001b[0m\u001b[0;34m:\u001b[0m \u001b[0mself\u001b[0m\u001b[0;34m(\u001b[0m\u001b[0mv\u001b[0m\u001b[0;34m)\u001b[0m \u001b[0;32mfor\u001b[0m \u001b[0mk\u001b[0m\u001b[0;34m,\u001b[0m \u001b[0mv\u001b[0m \u001b[0;32min\u001b[0m \u001b[0mexpr\u001b[0m\u001b[0;34m.\u001b[0m\u001b[0mkwargs\u001b[0m\u001b[0;34m}\u001b[0m\u001b[0;34m,\u001b[0m\u001b[0;34m\u001b[0m\u001b[0;34m\u001b[0m\u001b[0m\n\u001b[1;32m    149\u001b[0m                 )\n",
      "\u001b[0;32m~/p/metadsl/metadsl/expressions.py\u001b[0m in \u001b[0;36m__call__\u001b[0;34m(self, expr)\u001b[0m\n\u001b[1;32m    146\u001b[0m                 (replace_fn_typevars(expr.function, self.typevars))(\n\u001b[1;32m    147\u001b[0m                     \u001b[0;34m*\u001b[0m\u001b[0;34m(\u001b[0m\u001b[0mself\u001b[0m\u001b[0;34m(\u001b[0m\u001b[0marg\u001b[0m\u001b[0;34m)\u001b[0m \u001b[0;32mfor\u001b[0m \u001b[0marg\u001b[0m \u001b[0;32min\u001b[0m \u001b[0mexpr\u001b[0m\u001b[0;34m.\u001b[0m\u001b[0margs\u001b[0m\u001b[0;34m)\u001b[0m\u001b[0;34m,\u001b[0m\u001b[0;34m\u001b[0m\u001b[0;34m\u001b[0m\u001b[0m\n\u001b[0;32m--> 148\u001b[0;31m                     \u001b[0;34m**\u001b[0m\u001b[0;34m{\u001b[0m\u001b[0mk\u001b[0m\u001b[0;34m:\u001b[0m \u001b[0mself\u001b[0m\u001b[0;34m(\u001b[0m\u001b[0mv\u001b[0m\u001b[0;34m)\u001b[0m \u001b[0;32mfor\u001b[0m \u001b[0mk\u001b[0m\u001b[0;34m,\u001b[0m \u001b[0mv\u001b[0m \u001b[0;32min\u001b[0m \u001b[0mexpr\u001b[0m\u001b[0;34m.\u001b[0m\u001b[0mkwargs\u001b[0m\u001b[0;34m}\u001b[0m\u001b[0;34m,\u001b[0m\u001b[0;34m\u001b[0m\u001b[0;34m\u001b[0m\u001b[0m\n\u001b[0m\u001b[1;32m    149\u001b[0m                 )\n\u001b[1;32m    150\u001b[0m             )\n",
      "\u001b[0;32m~/p/metadsl/metadsl/typing_tools.py\u001b[0m in \u001b[0;36m__call__\u001b[0;34m(self, *args, **kwargs)\u001b[0m\n\u001b[1;32m    554\u001b[0m         return self.wrapper(  # type: ignore\n\u001b[1;32m    555\u001b[0m             \u001b[0mself\u001b[0m\u001b[0;34m,\u001b[0m\u001b[0;34m\u001b[0m\u001b[0;34m\u001b[0m\u001b[0m\n\u001b[0;32m--> 556\u001b[0;31m             *infer_return_type(self.fn, self.owner, self.is_classmethod, args, kwargs)[\n\u001b[0m\u001b[1;32m    557\u001b[0m                 \u001b[0;34m:\u001b[0m\u001b[0;34m-\u001b[0m\u001b[0;36m1\u001b[0m\u001b[0;34m\u001b[0m\u001b[0;34m\u001b[0m\u001b[0m\n\u001b[1;32m    558\u001b[0m             ],\n",
      "\u001b[0;32m~/p/metadsl/metadsl/typing_tools.py\u001b[0m in \u001b[0;36minfer_return_type\u001b[0;34m(fn, owner, is_classmethod, args, kwargs)\u001b[0m\n\u001b[1;32m    443\u001b[0m     \u001b[0mTypeVarMapping\u001b[0m\u001b[0;34m,\u001b[0m\u001b[0;34m\u001b[0m\u001b[0;34m\u001b[0m\u001b[0m\n\u001b[1;32m    444\u001b[0m ]:\n\u001b[0;32m--> 445\u001b[0;31m     \u001b[0mhints\u001b[0m\u001b[0;34m:\u001b[0m \u001b[0mtyping\u001b[0m\u001b[0;34m.\u001b[0m\u001b[0mDict\u001b[0m\u001b[0;34m[\u001b[0m\u001b[0mstr\u001b[0m\u001b[0;34m,\u001b[0m \u001b[0mtyping\u001b[0m\u001b[0;34m.\u001b[0m\u001b[0mType\u001b[0m\u001b[0;34m]\u001b[0m \u001b[0;34m=\u001b[0m \u001b[0mtyping\u001b[0m\u001b[0;34m.\u001b[0m\u001b[0mget_type_hints\u001b[0m\u001b[0;34m(\u001b[0m\u001b[0mfn\u001b[0m\u001b[0;34m)\u001b[0m\u001b[0;34m\u001b[0m\u001b[0;34m\u001b[0m\u001b[0m\n\u001b[0m\u001b[1;32m    446\u001b[0m     \u001b[0msignature\u001b[0m \u001b[0;34m=\u001b[0m \u001b[0minspect\u001b[0m\u001b[0;34m.\u001b[0m\u001b[0msignature\u001b[0m\u001b[0;34m(\u001b[0m\u001b[0mfn\u001b[0m\u001b[0;34m)\u001b[0m\u001b[0;34m\u001b[0m\u001b[0;34m\u001b[0m\u001b[0m\n\u001b[1;32m    447\u001b[0m \u001b[0;34m\u001b[0m\u001b[0m\n",
      "\u001b[0;32m/usr/local/miniconda3/envs/metadsl/lib/python3.7/typing.py\u001b[0m in \u001b[0;36mget_type_hints\u001b[0;34m(obj, globalns, localns)\u001b[0m\n\u001b[1;32m    998\u001b[0m             \u001b[0mvalue\u001b[0m \u001b[0;34m=\u001b[0m \u001b[0mtype\u001b[0m\u001b[0;34m(\u001b[0m\u001b[0;32mNone\u001b[0m\u001b[0;34m)\u001b[0m\u001b[0;34m\u001b[0m\u001b[0;34m\u001b[0m\u001b[0m\n\u001b[1;32m    999\u001b[0m         \u001b[0;32mif\u001b[0m \u001b[0misinstance\u001b[0m\u001b[0;34m(\u001b[0m\u001b[0mvalue\u001b[0m\u001b[0;34m,\u001b[0m \u001b[0mstr\u001b[0m\u001b[0;34m)\u001b[0m\u001b[0;34m:\u001b[0m\u001b[0;34m\u001b[0m\u001b[0;34m\u001b[0m\u001b[0m\n\u001b[0;32m-> 1000\u001b[0;31m             \u001b[0mvalue\u001b[0m \u001b[0;34m=\u001b[0m \u001b[0mForwardRef\u001b[0m\u001b[0;34m(\u001b[0m\u001b[0mvalue\u001b[0m\u001b[0;34m)\u001b[0m\u001b[0;34m\u001b[0m\u001b[0;34m\u001b[0m\u001b[0m\n\u001b[0m\u001b[1;32m   1001\u001b[0m         \u001b[0mvalue\u001b[0m \u001b[0;34m=\u001b[0m \u001b[0m_eval_type\u001b[0m\u001b[0;34m(\u001b[0m\u001b[0mvalue\u001b[0m\u001b[0;34m,\u001b[0m \u001b[0mglobalns\u001b[0m\u001b[0;34m,\u001b[0m \u001b[0mlocalns\u001b[0m\u001b[0;34m)\u001b[0m\u001b[0;34m\u001b[0m\u001b[0;34m\u001b[0m\u001b[0m\n\u001b[1;32m   1002\u001b[0m         \u001b[0;32mif\u001b[0m \u001b[0mname\u001b[0m \u001b[0;32min\u001b[0m \u001b[0mdefaults\u001b[0m \u001b[0;32mand\u001b[0m \u001b[0mdefaults\u001b[0m\u001b[0;34m[\u001b[0m\u001b[0mname\u001b[0m\u001b[0;34m]\u001b[0m \u001b[0;32mis\u001b[0m \u001b[0;32mNone\u001b[0m\u001b[0;34m:\u001b[0m\u001b[0;34m\u001b[0m\u001b[0;34m\u001b[0m\u001b[0m\n",
      "\u001b[0;32m/usr/local/miniconda3/envs/metadsl/lib/python3.7/typing.py\u001b[0m in \u001b[0;36m__init__\u001b[0;34m(self, arg, is_argument)\u001b[0m\n\u001b[1;32m    444\u001b[0m             \u001b[0;32mraise\u001b[0m \u001b[0mTypeError\u001b[0m\u001b[0;34m(\u001b[0m\u001b[0;34mf\"Forward reference must be a string -- got {arg!r}\"\u001b[0m\u001b[0;34m)\u001b[0m\u001b[0;34m\u001b[0m\u001b[0;34m\u001b[0m\u001b[0m\n\u001b[1;32m    445\u001b[0m         \u001b[0;32mtry\u001b[0m\u001b[0;34m:\u001b[0m\u001b[0;34m\u001b[0m\u001b[0;34m\u001b[0m\u001b[0m\n\u001b[0;32m--> 446\u001b[0;31m             \u001b[0mcode\u001b[0m \u001b[0;34m=\u001b[0m \u001b[0mcompile\u001b[0m\u001b[0;34m(\u001b[0m\u001b[0marg\u001b[0m\u001b[0;34m,\u001b[0m \u001b[0;34m'<string>'\u001b[0m\u001b[0;34m,\u001b[0m \u001b[0;34m'eval'\u001b[0m\u001b[0;34m)\u001b[0m\u001b[0;34m\u001b[0m\u001b[0;34m\u001b[0m\u001b[0m\n\u001b[0m\u001b[1;32m    447\u001b[0m         \u001b[0;32mexcept\u001b[0m \u001b[0mSyntaxError\u001b[0m\u001b[0;34m:\u001b[0m\u001b[0;34m\u001b[0m\u001b[0;34m\u001b[0m\u001b[0m\n\u001b[1;32m    448\u001b[0m             \u001b[0;32mraise\u001b[0m \u001b[0mSyntaxError\u001b[0m\u001b[0;34m(\u001b[0m\u001b[0;34mf\"Forward reference must be an expression -- got {arg!r}\"\u001b[0m\u001b[0;34m)\u001b[0m\u001b[0;34m\u001b[0m\u001b[0;34m\u001b[0m\u001b[0m\n",
      "\u001b[0;31mKeyboardInterrupt\u001b[0m: "
     ]
    }
   ],
   "source": [
    "N = 100\n",
    "expr = (arange(N) + arange(N))[5].to_ndarray()\n",
    "expr\n",
    "expr._ipython_display_()"
   ]
  },
  {
   "cell_type": "markdown",
   "metadata": {},
   "source": [
    "Now, we can add an optimization replacement, so that we do the getitem before adding the two expressions:"
   ]
  },
  {
   "cell_type": "code",
   "execution_count": null,
   "metadata": {},
   "outputs": [],
   "source": [
    "@register\n",
    "@rule\n",
    "def optimize_getitem_add(l: NDArray, r: NDArray, idx: IndxType) -> R[NDArray]:\n",
    "    return (\n",
    "        # expression to match against\n",
    "        (l + r)[idx],\n",
    "        # expression to replace it with\n",
    "        l[idx] + r[idx]\n",
    "    )"
   ]
  },
  {
   "cell_type": "markdown",
   "metadata": {},
   "source": [
    "Now, when we look at the execution steps, we see that it is doing each getitem before adding, which should be more efficient:"
   ]
  },
  {
   "cell_type": "code",
   "execution_count": null,
   "metadata": {},
   "outputs": [],
   "source": [
    "expr = (arange(N) + arange(N))[5].to_ndarray()\n",
    "expr"
   ]
  },
  {
   "cell_type": "markdown",
   "metadata": {},
   "source": [
    "This shows how we can break up the NumPy API into different layers, all of which are extensible:\n",
    "\n",
    "1. A compatibility layer that works like the existing NumPy API, except isn't limited to the Python types of the current API\n",
    "2. A type safe version of this API. The conversion between the compatability layer and this layer is extensible, so that third party authors can add new conversion between their own Python objects and the typed representation.\n",
    "3. A backend layer that translates either back to Python calls or source code, or to other targets like LLVM or Tensorflow.\n",
    "\n",
    "The key is that all these layers are composable, so you could have different frontends for any of them or add your own. This is all done through a typed replacement system that is compatible with static analysis using MyPy.\n",
    "\n",
    "`metadsl` is the glue that allows us to define this API in a way that enables greater greater collaboration. Since each layer has it's own well defined specification, different projects can extend and target these seperate layers, while minimizing the need to explicitly opt in to collaborate. The goal is to enable greater reuse, interoperability, and extensability within the Python scientific ecosystem."
   ]
  }
 ],
 "metadata": {
  "kernelspec": {
   "display_name": "Python 3",
   "language": "python",
   "name": "python3"
  },
  "language_info": {
   "codemirror_mode": {
    "name": "ipython",
    "version": 3
   },
   "file_extension": ".py",
   "mimetype": "text/x-python",
   "name": "python",
   "nbconvert_exporter": "python",
   "pygments_lexer": "ipython3",
   "version": "3.7.3"
  }
 },
 "nbformat": 4,
 "nbformat_minor": 4
}
