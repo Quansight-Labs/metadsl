{
 "cells": [
  {
   "cell_type": "markdown",
   "metadata": {},
   "source": [
    "# `metadsl`\n",
    "\n",
    "...is a framework for creating domain specific languages in Python."
   ]
  },
  {
   "cell_type": "code",
   "execution_count": 1,
   "metadata": {},
   "outputs": [],
   "source": [
    "from metadsl import *\n",
    "from metadsl_core import *\n",
    "from metadsl_visualize import *"
   ]
  },
  {
   "cell_type": "markdown",
   "metadata": {},
   "source": [
    "Here, we show a NumPy API compatible DSL that we have started writing. We can create a symbolic expression and then execute it. The widget shows the different stages of execution:"
   ]
  },
  {
   "cell_type": "code",
   "execution_count": 2,
   "metadata": {},
   "outputs": [
    {
     "data": {
      "application/x.typez+json": {
       "nodes": [
        {
         "id": "2826150730839618930",
         "repr": "100",
         "type": "int"
        },
        {
         "id": "74627363753923008",
         "repr": "5",
         "type": "int"
        },
        {
         "args": [
          "2826150730839618930"
         ],
         "function": "arange",
         "id": "4334666432044097486"
        },
        {
         "args": [
          "4334666432044097486",
          "4334666432044097486"
         ],
         "function": "NDArrayCompat.__add__",
         "id": "-5451433778925814823"
        },
        {
         "args": [
          "-5451433778925814823",
          "74627363753923008"
         ],
         "function": "NDArrayCompat.__getitem__",
         "id": "-3654589126896044216"
        },
        {
         "args": [
          "-3654589126896044216"
         ],
         "function": "NDArrayCompat.to_ndarray",
         "id": "-4006809763795812991"
        },
        {
         "id": "5466943891781263114",
         "repr": "arange_",
         "type": "Infer"
        },
        {
         "args": [
          "2826150730839618930"
         ],
         "function": "Converter.convert",
         "id": "-1268483836564972973",
         "type_params": {
          "T": {
           "type": "Integer"
          }
         }
        },
        {
         "args": [
          "5466943891781263114"
         ],
         "function": "Abstraction.from_fn",
         "id": "-3235598987296499286"
        },
        {
         "args": [
          "-1268483836564972973",
          "-3235598987296499286"
         ],
         "function": "Maybe.map",
         "id": "-8460312764196435109",
         "type_params": {
          "T": {
           "type": "Integer"
          }
         }
        },
        {
         "args": [
          "-8460312764196435109"
         ],
         "function": "NDArrayCompat.from_ndarray",
         "id": "2054096632475985220"
        },
        {
         "args": [
          "2054096632475985220",
          "2054096632475985220"
         ],
         "function": "NDArrayCompat.__add__",
         "id": "4001830451447226948"
        },
        {
         "args": [
          "4001830451447226948",
          "74627363753923008"
         ],
         "function": "NDArrayCompat.__getitem__",
         "id": "6312611956289242140"
        },
        {
         "args": [
          "6312611956289242140"
         ],
         "function": "NDArrayCompat.to_ndarray",
         "id": "-3202461150888573559"
        },
        {
         "args": [
          "2826150730839618930"
         ],
         "function": "Integer.from_int",
         "id": "-1060229783844073802"
        },
        {
         "args": [
          "-1060229783844073802"
         ],
         "function": "Maybe.just",
         "id": "5244038888244487127"
        },
        {
         "args": [
          "5244038888244487127",
          "-3235598987296499286"
         ],
         "function": "Maybe.map",
         "id": "-6575371619518402299",
         "type_params": {
          "T": {
           "type": "Integer"
          }
         }
        },
        {
         "args": [
          "-6575371619518402299"
         ],
         "function": "NDArrayCompat.from_ndarray",
         "id": "8910379968468538916"
        },
        {
         "args": [
          "8910379968468538916",
          "8910379968468538916"
         ],
         "function": "NDArrayCompat.__add__",
         "id": "3067769900116173062"
        },
        {
         "args": [
          "3067769900116173062",
          "74627363753923008"
         ],
         "function": "NDArrayCompat.__getitem__",
         "id": "-8293150841884712307"
        },
        {
         "args": [
          "-8293150841884712307"
         ],
         "function": "NDArrayCompat.to_ndarray",
         "id": "-3753584583687244436"
        },
        {
         "id": "-1876267228780380200",
         "repr": "FunctionReplaceTyping(fn=<function NDArrayCompat.__getitem__.<locals>.<lambda> at 0x7f9a08de3670>, typevars=HashableMapping(_items=()), typevars_in_scope=frozenset({~T, ~U}), inner_mapping=ReplaceTypevarsExpression(typevars=HashableMapping(_items=())))",
         "type": "FunctionReplaceTyping"
        },
        {
         "args": [
          "74627363753923008"
         ],
         "function": "Converter.convert",
         "id": "183710255350735291",
         "type_params": {
          "T": {
           "params": {
            "T": {
             "type": "Integer"
            },
            "U": {
             "params": {
              "T": {
               "type": "Integer"
              }
             },
             "type": "Vec"
            }
           },
           "type": "Either"
          }
         }
        },
        {
         "args": [
          "-1876267228780380200"
         ],
         "function": "Abstraction.from_fn",
         "id": "4715260214153877452",
         "type_params": {
          "T": {
           "params": {
            "T": {
             "type": "NDArray"
            },
            "U": {
             "params": {
              "T": {
               "type": "Integer"
              },
              "U": {
               "params": {
                "T": {
                 "type": "Integer"
                }
               },
               "type": "Vec"
              }
             },
             "type": "Either"
            }
           },
           "type": "Pair"
          },
          "U": {
           "type": "NDArray"
          }
         }
        },
        {
         "args": [
          "3067769900116173062"
         ],
         "function": "Converter.convert",
         "id": "6554604528653822481",
         "type_params": {
          "T": {
           "type": "NDArray"
          }
         }
        },
        {
         "args": [
          "6554604528653822481",
          "183710255350735291"
         ],
         "function": "Maybe.__and__",
         "id": "-1250964469931568955",
         "type_params": {
          "T": {
           "type": "NDArray"
          }
         }
        },
        {
         "args": [
          "-1250964469931568955",
          "4715260214153877452"
         ],
         "function": "Maybe.map",
         "id": "4153024009366861438",
         "type_params": {
          "T": {
           "params": {
            "T": {
             "type": "NDArray"
            },
            "U": {
             "params": {
              "T": {
               "type": "Integer"
              },
              "U": {
               "params": {
                "T": {
                 "type": "Integer"
                }
               },
               "type": "Vec"
              }
             },
             "type": "Either"
            }
           },
           "type": "Pair"
          }
         }
        },
        {
         "args": [
          "4153024009366861438"
         ],
         "function": "NDArrayCompat.from_ndarray",
         "id": "8780514892974656564"
        },
        {
         "args": [
          "8780514892974656564"
         ],
         "function": "NDArrayCompat.to_ndarray",
         "id": "5547600208780802179"
        },
        {
         "id": "-6055780641493375283",
         "repr": "Either.left",
         "type": "BoundInfer"
        },
        {
         "id": "-7218107115001118553",
         "repr": "Either.right",
         "type": "BoundInfer"
        },
        {
         "args": [
          "74627363753923008"
         ],
         "function": "Converter.convert",
         "id": "-83960028438505675",
         "type_params": {
          "T": {
           "type": "Integer"
          }
         }
        },
        {
         "args": [
          "74627363753923008"
         ],
         "function": "Converter.convert",
         "id": "-2587848750163407994",
         "type_params": {
          "T": {
           "params": {
            "T": {
             "type": "Integer"
            }
           },
           "type": "Vec"
          }
         }
        },
        {
         "args": [
          "-6055780641493375283"
         ],
         "function": "Abstraction.from_fn",
         "id": "1738858000031346750"
        },
        {
         "args": [
          "-7218107115001118553"
         ],
         "function": "Abstraction.from_fn",
         "id": "-8072727974964254936"
        },
        {
         "args": [
          "-83960028438505675",
          "1738858000031346750"
         ],
         "function": "Maybe.map",
         "id": "5321959325120338942",
         "type_params": {
          "T": {
           "type": "Integer"
          }
         }
        },
        {
         "args": [
          "-2587848750163407994",
          "-8072727974964254936"
         ],
         "function": "Maybe.map",
         "id": "1756446271584825612",
         "type_params": {
          "T": {
           "params": {
            "T": {
             "type": "Integer"
            }
           },
           "type": "Vec"
          }
         }
        },
        {
         "args": [
          "5321959325120338942",
          "1756446271584825612"
         ],
         "function": "Maybe.__or__",
         "id": "-3034253720372951427",
         "type_params": {
          "T": {
           "params": {
            "T": {
             "type": "Integer"
            },
            "U": {
             "params": {
              "T": {
               "type": "Integer"
              }
             },
             "type": "Vec"
            }
           },
           "type": "Either"
          }
         }
        },
        {
         "args": [
          "6554604528653822481",
          "-3034253720372951427"
         ],
         "function": "Maybe.__and__",
         "id": "1100680204733807586",
         "type_params": {
          "T": {
           "type": "NDArray"
          }
         }
        },
        {
         "args": [
          "1100680204733807586",
          "4715260214153877452"
         ],
         "function": "Maybe.map",
         "id": "-8743674226860641715",
         "type_params": {
          "T": {
           "params": {
            "T": {
             "type": "NDArray"
            },
            "U": {
             "params": {
              "T": {
               "type": "Integer"
              },
              "U": {
               "params": {
                "T": {
                 "type": "Integer"
                }
               },
               "type": "Vec"
              }
             },
             "type": "Either"
            }
           },
           "type": "Pair"
          }
         }
        },
        {
         "args": [
          "-8743674226860641715"
         ],
         "function": "NDArrayCompat.from_ndarray",
         "id": "8743673200435392513"
        },
        {
         "args": [
          "8743673200435392513"
         ],
         "function": "NDArrayCompat.to_ndarray",
         "id": "6480541105528249286"
        },
        {
         "args": [
          "74627363753923008"
         ],
         "function": "Integer.from_int",
         "id": "7126651426372720159"
        },
        {
         "args": [
          "7126651426372720159"
         ],
         "function": "Maybe.just",
         "id": "-8143593206559625754"
        },
        {
         "args": [
          "-8143593206559625754",
          "1738858000031346750"
         ],
         "function": "Maybe.map",
         "id": "-4718177885023625612",
         "type_params": {
          "T": {
           "type": "Integer"
          }
         }
        },
        {
         "args": [
          "-4718177885023625612",
          "1756446271584825612"
         ],
         "function": "Maybe.__or__",
         "id": "-3122357703968012961",
         "type_params": {
          "T": {
           "params": {
            "T": {
             "type": "Integer"
            },
            "U": {
             "params": {
              "T": {
               "type": "Integer"
              }
             },
             "type": "Vec"
            }
           },
           "type": "Either"
          }
         }
        },
        {
         "args": [
          "6554604528653822481",
          "-3122357703968012961"
         ],
         "function": "Maybe.__and__",
         "id": "-7389107363096172910",
         "type_params": {
          "T": {
           "type": "NDArray"
          }
         }
        },
        {
         "args": [
          "-7389107363096172910",
          "4715260214153877452"
         ],
         "function": "Maybe.map",
         "id": "5264317725624011545",
         "type_params": {
          "T": {
           "params": {
            "T": {
             "type": "NDArray"
            },
            "U": {
             "params": {
              "T": {
               "type": "Integer"
              },
              "U": {
               "params": {
                "T": {
                 "type": "Integer"
                }
               },
               "type": "Vec"
              }
             },
             "type": "Either"
            }
           },
           "type": "Pair"
          }
         }
        },
        {
         "args": [
          "5264317725624011545"
         ],
         "function": "NDArrayCompat.from_ndarray",
         "id": "-7412189505771224501"
        },
        {
         "args": [
          "-7412189505771224501"
         ],
         "function": "NDArrayCompat.to_ndarray",
         "id": "2599067455745913840"
        },
        {
         "id": "3911078862031353820",
         "repr": "0x7f9a092df400",
         "type": "Variable"
        },
        {
         "args": [
          "3911078862031353820"
         ],
         "function": "Abstraction.create_variable",
         "id": "-5661643742434817814",
         "type_params": {
          "T": {
           "type": "Integer"
          },
          "U": {
           "type": "NDArray"
          }
         }
        },
        {
         "args": [
          "-5661643742434817814"
         ],
         "function": "arange_",
         "id": "1489371015219726606"
        },
        {
         "args": [
          "-5661643742434817814",
          "1489371015219726606"
         ],
         "function": "Abstraction.create",
         "id": "7722651415448856216",
         "type_params": {
          "T": {
           "type": "Integer"
          },
          "U": {
           "type": "NDArray"
          }
         }
        },
        {
         "args": [
          "5244038888244487127",
          "7722651415448856216"
         ],
         "function": "Maybe.map",
         "id": "1889588038830879081",
         "type_params": {
          "T": {
           "type": "Integer"
          }
         }
        },
        {
         "args": [
          "1889588038830879081"
         ],
         "function": "NDArrayCompat.from_ndarray",
         "id": "6755927943984145460"
        },
        {
         "args": [
          "6755927943984145460",
          "6755927943984145460"
         ],
         "function": "NDArrayCompat.__add__",
         "id": "4375644828217726248"
        },
        {
         "args": [
          "4375644828217726248"
         ],
         "function": "Converter.convert",
         "id": "-4015428944852416953",
         "type_params": {
          "T": {
           "type": "NDArray"
          }
         }
        },
        {
         "args": [
          "-4015428944852416953",
          "-3122357703968012961"
         ],
         "function": "Maybe.__and__",
         "id": "1677432959387255240",
         "type_params": {
          "T": {
           "type": "NDArray"
          }
         }
        },
        {
         "args": [
          "1677432959387255240",
          "4715260214153877452"
         ],
         "function": "Maybe.map",
         "id": "4653768550165046388",
         "type_params": {
          "T": {
           "params": {
            "T": {
             "type": "NDArray"
            },
            "U": {
             "params": {
              "T": {
               "type": "Integer"
              },
              "U": {
               "params": {
                "T": {
                 "type": "Integer"
                }
               },
               "type": "Vec"
              }
             },
             "type": "Either"
            }
           },
           "type": "Pair"
          }
         }
        },
        {
         "args": [
          "4653768550165046388"
         ],
         "function": "NDArrayCompat.from_ndarray",
         "id": "-4192190185508300604"
        },
        {
         "args": [
          "-4192190185508300604"
         ],
         "function": "NDArrayCompat.to_ndarray",
         "id": "8666122484870562737"
        },
        {
         "id": "645137309663866451",
         "repr": "0x7f9a092dc5b0",
         "type": "Variable"
        },
        {
         "args": [
          "645137309663866451"
         ],
         "function": "Abstraction.create_variable",
         "id": "734253285914756304",
         "type_params": {
          "T": {
           "type": "Integer"
          },
          "U": {
           "params": {
            "T": {
             "type": "Integer"
            },
            "U": {
             "params": {
              "T": {
               "type": "Integer"
              }
             },
             "type": "Vec"
            }
           },
           "type": "Either"
          }
         }
        },
        {
         "args": [
          "734253285914756304"
         ],
         "function": "Either.left",
         "id": "6782733044859400313",
         "type_params": {
          "T": {
           "type": "Integer"
          },
          "U": {
           "params": {
            "T": {
             "type": "Integer"
            }
           },
           "type": "Vec"
          }
         }
        },
        {
         "args": [
          "734253285914756304",
          "6782733044859400313"
         ],
         "function": "Abstraction.create",
         "id": "-4121483985547309152",
         "type_params": {
          "T": {
           "type": "Integer"
          },
          "U": {
           "params": {
            "T": {
             "type": "Integer"
            },
            "U": {
             "params": {
              "T": {
               "type": "Integer"
              }
             },
             "type": "Vec"
            }
           },
           "type": "Either"
          }
         }
        },
        {
         "args": [
          "-8143593206559625754",
          "-4121483985547309152"
         ],
         "function": "Maybe.map",
         "id": "-5819357185461227563",
         "type_params": {
          "T": {
           "type": "Integer"
          }
         }
        },
        {
         "args": [
          "-5819357185461227563",
          "1756446271584825612"
         ],
         "function": "Maybe.__or__",
         "id": "5147711296861671075",
         "type_params": {
          "T": {
           "params": {
            "T": {
             "type": "Integer"
            },
            "U": {
             "params": {
              "T": {
               "type": "Integer"
              }
             },
             "type": "Vec"
            }
           },
           "type": "Either"
          }
         }
        },
        {
         "args": [
          "-4015428944852416953",
          "5147711296861671075"
         ],
         "function": "Maybe.__and__",
         "id": "-6803017313374735863",
         "type_params": {
          "T": {
           "type": "NDArray"
          }
         }
        },
        {
         "args": [
          "-6803017313374735863",
          "4715260214153877452"
         ],
         "function": "Maybe.map",
         "id": "-2071153123937211307",
         "type_params": {
          "T": {
           "params": {
            "T": {
             "type": "NDArray"
            },
            "U": {
             "params": {
              "T": {
               "type": "Integer"
              },
              "U": {
               "params": {
                "T": {
                 "type": "Integer"
                }
               },
               "type": "Vec"
              }
             },
             "type": "Either"
            }
           },
           "type": "Pair"
          }
         }
        },
        {
         "args": [
          "-2071153123937211307"
         ],
         "function": "NDArrayCompat.from_ndarray",
         "id": "-1022028206077360048"
        },
        {
         "args": [
          "-1022028206077360048"
         ],
         "function": "NDArrayCompat.to_ndarray",
         "id": "-2721698836113764418"
        },
        {
         "id": "-3776127673770369615",
         "repr": "0x7f9a092ead90",
         "type": "Variable"
        },
        {
         "args": [
          "-3776127673770369615"
         ],
         "function": "Abstraction.create_variable",
         "id": "-5851332509529825314",
         "type_params": {
          "T": {
           "params": {
            "T": {
             "type": "Integer"
            }
           },
           "type": "Vec"
          },
          "U": {
           "params": {
            "T": {
             "type": "Integer"
            },
            "U": {
             "params": {
              "T": {
               "type": "Integer"
              }
             },
             "type": "Vec"
            }
           },
           "type": "Either"
          }
         }
        },
        {
         "args": [
          "-5851332509529825314"
         ],
         "function": "Either.right",
         "id": "1004118043487685763",
         "type_params": {
          "T": {
           "type": "Integer"
          },
          "U": {
           "params": {
            "T": {
             "type": "Integer"
            }
           },
           "type": "Vec"
          }
         }
        },
        {
         "args": [
          "-5851332509529825314",
          "1004118043487685763"
         ],
         "function": "Abstraction.create",
         "id": "-7000929765806242987",
         "type_params": {
          "T": {
           "params": {
            "T": {
             "type": "Integer"
            }
           },
           "type": "Vec"
          },
          "U": {
           "params": {
            "T": {
             "type": "Integer"
            },
            "U": {
             "params": {
              "T": {
               "type": "Integer"
              }
             },
             "type": "Vec"
            }
           },
           "type": "Either"
          }
         }
        },
        {
         "args": [
          "-2587848750163407994",
          "-7000929765806242987"
         ],
         "function": "Maybe.map",
         "id": "-1361487546244586342",
         "type_params": {
          "T": {
           "params": {
            "T": {
             "type": "Integer"
            }
           },
           "type": "Vec"
          }
         }
        },
        {
         "args": [
          "-5819357185461227563",
          "-1361487546244586342"
         ],
         "function": "Maybe.__or__",
         "id": "2825234884369090441",
         "type_params": {
          "T": {
           "params": {
            "T": {
             "type": "Integer"
            },
            "U": {
             "params": {
              "T": {
               "type": "Integer"
              }
             },
             "type": "Vec"
            }
           },
           "type": "Either"
          }
         }
        },
        {
         "args": [
          "-4015428944852416953",
          "2825234884369090441"
         ],
         "function": "Maybe.__and__",
         "id": "7392152808559755052",
         "type_params": {
          "T": {
           "type": "NDArray"
          }
         }
        },
        {
         "args": [
          "7392152808559755052",
          "4715260214153877452"
         ],
         "function": "Maybe.map",
         "id": "-1309133166780876906",
         "type_params": {
          "T": {
           "params": {
            "T": {
             "type": "NDArray"
            },
            "U": {
             "params": {
              "T": {
               "type": "Integer"
              },
              "U": {
               "params": {
                "T": {
                 "type": "Integer"
                }
               },
               "type": "Vec"
              }
             },
             "type": "Either"
            }
           },
           "type": "Pair"
          }
         }
        },
        {
         "args": [
          "-1309133166780876906"
         ],
         "function": "NDArrayCompat.from_ndarray",
         "id": "2031474368545862811"
        },
        {
         "args": [
          "2031474368545862811"
         ],
         "function": "NDArrayCompat.to_ndarray",
         "id": "5540985228313524427"
        },
        {
         "id": "178210009302792933",
         "repr": "0x7f9a092e8400",
         "type": "Variable"
        },
        {
         "args": [
          "178210009302792933"
         ],
         "function": "Abstraction.create_variable",
         "id": "-5535421603693373903",
         "type_params": {
          "T": {
           "params": {
            "T": {
             "type": "NDArray"
            },
            "U": {
             "params": {
              "T": {
               "type": "Integer"
              },
              "U": {
               "params": {
                "T": {
                 "type": "Integer"
                }
               },
               "type": "Vec"
              }
             },
             "type": "Either"
            }
           },
           "type": "Pair"
          },
          "U": {
           "type": "NDArray"
          }
         }
        },
        {
         "args": [
          "-5535421603693373903"
         ],
         "function": "Pair.left",
         "id": "-8477977919797702745",
         "type_params": {
          "T": {
           "type": "NDArray"
          },
          "U": {
           "params": {
            "T": {
             "type": "Integer"
            },
            "U": {
             "params": {
              "T": {
               "type": "Integer"
              }
             },
             "type": "Vec"
            }
           },
           "type": "Either"
          }
         }
        },
        {
         "args": [
          "-5535421603693373903"
         ],
         "function": "Pair.right",
         "id": "3712253345013308344",
         "type_params": {
          "T": {
           "type": "NDArray"
          },
          "U": {
           "params": {
            "T": {
             "type": "Integer"
            },
            "U": {
             "params": {
              "T": {
               "type": "Integer"
              }
             },
             "type": "Vec"
            }
           },
           "type": "Either"
          }
         }
        },
        {
         "args": [
          "-8477977919797702745",
          "3712253345013308344"
         ],
         "function": "NDArray.__getitem__",
         "id": "-1825075280468984453"
        },
        {
         "args": [
          "-5535421603693373903",
          "-1825075280468984453"
         ],
         "function": "Abstraction.create",
         "id": "-5366332236860573442",
         "type_params": {
          "T": {
           "params": {
            "T": {
             "type": "NDArray"
            },
            "U": {
             "params": {
              "T": {
               "type": "Integer"
              },
              "U": {
               "params": {
                "T": {
                 "type": "Integer"
                }
               },
               "type": "Vec"
              }
             },
             "type": "Either"
            }
           },
           "type": "Pair"
          },
          "U": {
           "type": "NDArray"
          }
         }
        },
        {
         "args": [
          "7392152808559755052",
          "-5366332236860573442"
         ],
         "function": "Maybe.map",
         "id": "-2677823134612060399",
         "type_params": {
          "T": {
           "params": {
            "T": {
             "type": "NDArray"
            },
            "U": {
             "params": {
              "T": {
               "type": "Integer"
              },
              "U": {
               "params": {
                "T": {
                 "type": "Integer"
                }
               },
               "type": "Vec"
              }
             },
             "type": "Either"
            }
           },
           "type": "Pair"
          }
         }
        },
        {
         "args": [
          "-2677823134612060399"
         ],
         "function": "NDArrayCompat.from_ndarray",
         "id": "-6917943184969778375"
        },
        {
         "args": [
          "-6917943184969778375"
         ],
         "function": "NDArrayCompat.to_ndarray",
         "id": "-6124345705161085734"
        },
        {
         "function": "Maybe.nothing",
         "id": "-2958785375455268643",
         "type_params": {
          "T": {
           "type": "NDArray"
          }
         }
        },
        {
         "id": "-190740728965243028",
         "repr": "Maybe.just",
         "type": "BoundInfer"
        },
        {
         "args": [
          "-190740728965243028"
         ],
         "function": "Abstraction.from_fn",
         "id": "-6103049929195058089"
        },
        {
         "args": [
          "-6103049929195058089",
          "7722651415448856216"
         ],
         "function": "Abstraction.__add__",
         "id": "-7782244627348555212",
         "type_params": {
          "T": {
           "type": "NDArray"
          },
          "U": {
           "params": {
            "T": {
             "type": "NDArray"
            }
           },
           "type": "Maybe"
          }
         }
        },
        {
         "args": [
          "5244038888244487127",
          "-2958785375455268643",
          "-7782244627348555212"
         ],
         "function": "Maybe.match",
         "id": "-5731004695065585286",
         "type_params": {
          "T": {
           "type": "Integer"
          }
         }
        },
        {
         "args": [
          "-5731004695065585286"
         ],
         "function": "NDArrayCompat.from_ndarray",
         "id": "7942508340766388769"
        },
        {
         "args": [
          "7942508340766388769",
          "7942508340766388769"
         ],
         "function": "NDArrayCompat.__add__",
         "id": "-2961264047012043030"
        },
        {
         "args": [
          "-2961264047012043030"
         ],
         "function": "Converter.convert",
         "id": "-441934897395332740",
         "type_params": {
          "T": {
           "type": "NDArray"
          }
         }
        },
        {
         "args": [
          "-441934897395332740",
          "2825234884369090441"
         ],
         "function": "Maybe.__and__",
         "id": "-5618572213047707019",
         "type_params": {
          "T": {
           "type": "NDArray"
          }
         }
        },
        {
         "args": [
          "-5618572213047707019",
          "-5366332236860573442"
         ],
         "function": "Maybe.map",
         "id": "-3101197164559710842",
         "type_params": {
          "T": {
           "params": {
            "T": {
             "type": "NDArray"
            },
            "U": {
             "params": {
              "T": {
               "type": "Integer"
              },
              "U": {
               "params": {
                "T": {
                 "type": "Integer"
                }
               },
               "type": "Vec"
              }
             },
             "type": "Either"
            }
           },
           "type": "Pair"
          }
         }
        },
        {
         "args": [
          "-3101197164559710842"
         ],
         "function": "NDArrayCompat.from_ndarray",
         "id": "-5394955188731900571"
        },
        {
         "args": [
          "-5394955188731900571"
         ],
         "function": "NDArrayCompat.to_ndarray",
         "id": "7831013155088472224"
        },
        {
         "function": "Maybe.nothing",
         "id": "-3929965295117828268",
         "type_params": {
          "T": {
           "params": {
            "T": {
             "type": "Integer"
            },
            "U": {
             "params": {
              "T": {
               "type": "Integer"
              }
             },
             "type": "Vec"
            }
           },
           "type": "Either"
          }
         }
        },
        {
         "id": "2340429345748431821",
         "repr": "Maybe.just",
         "type": "BoundInfer"
        },
        {
         "args": [
          "2340429345748431821"
         ],
         "function": "Abstraction.from_fn",
         "id": "3760381120374970453"
        },
        {
         "args": [
          "3760381120374970453",
          "-4121483985547309152"
         ],
         "function": "Abstraction.__add__",
         "id": "-3968027842838148800",
         "type_params": {
          "T": {
           "params": {
            "T": {
             "type": "Integer"
            },
            "U": {
             "params": {
              "T": {
               "type": "Integer"
              }
             },
             "type": "Vec"
            }
           },
           "type": "Either"
          },
          "U": {
           "params": {
            "T": {
             "params": {
              "T": {
               "type": "Integer"
              },
              "U": {
               "params": {
                "T": {
                 "type": "Integer"
                }
               },
               "type": "Vec"
              }
             },
             "type": "Either"
            }
           },
           "type": "Maybe"
          }
         }
        },
        {
         "args": [
          "-8143593206559625754",
          "-3929965295117828268",
          "-3968027842838148800"
         ],
         "function": "Maybe.match",
         "id": "-7509590420245603746",
         "type_params": {
          "T": {
           "type": "Integer"
          }
         }
        },
        {
         "args": [
          "-7509590420245603746",
          "-1361487546244586342"
         ],
         "function": "Maybe.__or__",
         "id": "8870526268745776452",
         "type_params": {
          "T": {
           "params": {
            "T": {
             "type": "Integer"
            },
            "U": {
             "params": {
              "T": {
               "type": "Integer"
              }
             },
             "type": "Vec"
            }
           },
           "type": "Either"
          }
         }
        },
        {
         "args": [
          "-441934897395332740",
          "8870526268745776452"
         ],
         "function": "Maybe.__and__",
         "id": "-7721380303692440242",
         "type_params": {
          "T": {
           "type": "NDArray"
          }
         }
        },
        {
         "args": [
          "-7721380303692440242",
          "-5366332236860573442"
         ],
         "function": "Maybe.map",
         "id": "2858479682883018328",
         "type_params": {
          "T": {
           "params": {
            "T": {
             "type": "NDArray"
            },
            "U": {
             "params": {
              "T": {
               "type": "Integer"
              },
              "U": {
               "params": {
                "T": {
                 "type": "Integer"
                }
               },
               "type": "Vec"
              }
             },
             "type": "Either"
            }
           },
           "type": "Pair"
          }
         }
        },
        {
         "args": [
          "2858479682883018328"
         ],
         "function": "NDArrayCompat.from_ndarray",
         "id": "5395046488621191369"
        },
        {
         "args": [
          "5395046488621191369"
         ],
         "function": "NDArrayCompat.to_ndarray",
         "id": "-9203637284296530574"
        },
        {
         "args": [
          "3760381120374970453",
          "-7000929765806242987"
         ],
         "function": "Abstraction.__add__",
         "id": "-3370690058667302069",
         "type_params": {
          "T": {
           "params": {
            "T": {
             "type": "Integer"
            },
            "U": {
             "params": {
              "T": {
               "type": "Integer"
              }
             },
             "type": "Vec"
            }
           },
           "type": "Either"
          },
          "U": {
           "params": {
            "T": {
             "params": {
              "T": {
               "type": "Integer"
              },
              "U": {
               "params": {
                "T": {
                 "type": "Integer"
                }
               },
               "type": "Vec"
              }
             },
             "type": "Either"
            }
           },
           "type": "Maybe"
          }
         }
        },
        {
         "args": [
          "-2587848750163407994",
          "-3929965295117828268",
          "-3370690058667302069"
         ],
         "function": "Maybe.match",
         "id": "-117078582528571941",
         "type_params": {
          "T": {
           "params": {
            "T": {
             "type": "Integer"
            }
           },
           "type": "Vec"
          }
         }
        },
        {
         "args": [
          "-7509590420245603746",
          "-117078582528571941"
         ],
         "function": "Maybe.__or__",
         "id": "-6793544395840833809",
         "type_params": {
          "T": {
           "params": {
            "T": {
             "type": "Integer"
            },
            "U": {
             "params": {
              "T": {
               "type": "Integer"
              }
             },
             "type": "Vec"
            }
           },
           "type": "Either"
          }
         }
        },
        {
         "args": [
          "-441934897395332740",
          "-6793544395840833809"
         ],
         "function": "Maybe.__and__",
         "id": "7585758355209257328",
         "type_params": {
          "T": {
           "type": "NDArray"
          }
         }
        },
        {
         "args": [
          "7585758355209257328",
          "-5366332236860573442"
         ],
         "function": "Maybe.map",
         "id": "1645463196064105925",
         "type_params": {
          "T": {
           "params": {
            "T": {
             "type": "NDArray"
            },
            "U": {
             "params": {
              "T": {
               "type": "Integer"
              },
              "U": {
               "params": {
                "T": {
                 "type": "Integer"
                }
               },
               "type": "Vec"
              }
             },
             "type": "Either"
            }
           },
           "type": "Pair"
          }
         }
        },
        {
         "args": [
          "1645463196064105925"
         ],
         "function": "NDArrayCompat.from_ndarray",
         "id": "-1338078124264783724"
        },
        {
         "args": [
          "-1338078124264783724"
         ],
         "function": "NDArrayCompat.to_ndarray",
         "id": "-5731559944236103040"
        },
        {
         "args": [
          "-7782244627348555212",
          "-1060229783844073802"
         ],
         "function": "Abstraction.__call__",
         "id": "926201837020739716",
         "type_params": {
          "T": {
           "type": "Integer"
          },
          "U": {
           "params": {
            "T": {
             "type": "NDArray"
            }
           },
           "type": "Maybe"
          }
         }
        },
        {
         "args": [
          "926201837020739716"
         ],
         "function": "NDArrayCompat.from_ndarray",
         "id": "-1224724632993652072"
        },
        {
         "args": [
          "-1224724632993652072",
          "-1224724632993652072"
         ],
         "function": "NDArrayCompat.__add__",
         "id": "-4180641419965332112"
        },
        {
         "args": [
          "-4180641419965332112"
         ],
         "function": "Converter.convert",
         "id": "5329130293523754924",
         "type_params": {
          "T": {
           "type": "NDArray"
          }
         }
        },
        {
         "args": [
          "5329130293523754924",
          "-6793544395840833809"
         ],
         "function": "Maybe.__and__",
         "id": "-6209333323421288185",
         "type_params": {
          "T": {
           "type": "NDArray"
          }
         }
        },
        {
         "args": [
          "-6209333323421288185",
          "-5366332236860573442"
         ],
         "function": "Maybe.map",
         "id": "6080696059080796288",
         "type_params": {
          "T": {
           "params": {
            "T": {
             "type": "NDArray"
            },
            "U": {
             "params": {
              "T": {
               "type": "Integer"
              },
              "U": {
               "params": {
                "T": {
                 "type": "Integer"
                }
               },
               "type": "Vec"
              }
             },
             "type": "Either"
            }
           },
           "type": "Pair"
          }
         }
        },
        {
         "args": [
          "6080696059080796288"
         ],
         "function": "NDArrayCompat.from_ndarray",
         "id": "-7966678657997180518"
        },
        {
         "args": [
          "-7966678657997180518"
         ],
         "function": "NDArrayCompat.to_ndarray",
         "id": "8149346873566382501"
        },
        {
         "args": [
          "-3968027842838148800",
          "7126651426372720159"
         ],
         "function": "Abstraction.__call__",
         "id": "6038989445392812466",
         "type_params": {
          "T": {
           "type": "Integer"
          },
          "U": {
           "params": {
            "T": {
             "params": {
              "T": {
               "type": "Integer"
              },
              "U": {
               "params": {
                "T": {
                 "type": "Integer"
                }
               },
               "type": "Vec"
              }
             },
             "type": "Either"
            }
           },
           "type": "Maybe"
          }
         }
        },
        {
         "args": [
          "6038989445392812466",
          "-117078582528571941"
         ],
         "function": "Maybe.__or__",
         "id": "2936021328019873247",
         "type_params": {
          "T": {
           "params": {
            "T": {
             "type": "Integer"
            },
            "U": {
             "params": {
              "T": {
               "type": "Integer"
              }
             },
             "type": "Vec"
            }
           },
           "type": "Either"
          }
         }
        },
        {
         "args": [
          "5329130293523754924",
          "2936021328019873247"
         ],
         "function": "Maybe.__and__",
         "id": "-5384242152782301778",
         "type_params": {
          "T": {
           "type": "NDArray"
          }
         }
        },
        {
         "args": [
          "-5384242152782301778",
          "-5366332236860573442"
         ],
         "function": "Maybe.map",
         "id": "-12624590562916026",
         "type_params": {
          "T": {
           "params": {
            "T": {
             "type": "NDArray"
            },
            "U": {
             "params": {
              "T": {
               "type": "Integer"
              },
              "U": {
               "params": {
                "T": {
                 "type": "Integer"
                }
               },
               "type": "Vec"
              }
             },
             "type": "Either"
            }
           },
           "type": "Pair"
          }
         }
        },
        {
         "args": [
          "-12624590562916026"
         ],
         "function": "NDArrayCompat.from_ndarray",
         "id": "-9078859422894698082"
        },
        {
         "args": [
          "-9078859422894698082"
         ],
         "function": "NDArrayCompat.to_ndarray",
         "id": "7845859725254450431"
        },
        {
         "args": [
          "-6103049929195058089",
          "-5366332236860573442"
         ],
         "function": "Abstraction.__add__",
         "id": "-1734078499040617625",
         "type_params": {
          "T": {
           "type": "NDArray"
          },
          "U": {
           "params": {
            "T": {
             "type": "NDArray"
            }
           },
           "type": "Maybe"
          }
         }
        },
        {
         "args": [
          "-5384242152782301778",
          "-2958785375455268643",
          "-1734078499040617625"
         ],
         "function": "Maybe.match",
         "id": "-3720671490844115310",
         "type_params": {
          "T": {
           "params": {
            "T": {
             "type": "NDArray"
            },
            "U": {
             "params": {
              "T": {
               "type": "Integer"
              },
              "U": {
               "params": {
                "T": {
                 "type": "Integer"
                }
               },
               "type": "Vec"
              }
             },
             "type": "Either"
            }
           },
           "type": "Pair"
          }
         }
        },
        {
         "args": [
          "-3720671490844115310"
         ],
         "function": "NDArrayCompat.from_ndarray",
         "id": "-8905794823185042296"
        },
        {
         "args": [
          "-8905794823185042296"
         ],
         "function": "NDArrayCompat.to_ndarray",
         "id": "-5669686809231173488"
        },
        {
         "id": "-816004170768301625",
         "repr": "0x7f9a09349850",
         "type": "Variable"
        },
        {
         "args": [
          "-816004170768301625"
         ],
         "function": "Abstraction.create_variable",
         "id": "3859334058382874042",
         "type_params": {
          "T": {
           "type": "NDArray"
          },
          "U": {
           "params": {
            "T": {
             "type": "NDArray"
            }
           },
           "type": "Maybe"
          }
         }
        },
        {
         "args": [
          "3859334058382874042"
         ],
         "function": "Maybe.just",
         "id": "1936204515032647063",
         "type_params": {
          "T": {
           "type": "NDArray"
          }
         }
        },
        {
         "args": [
          "3859334058382874042",
          "1936204515032647063"
         ],
         "function": "Abstraction.create",
         "id": "8098544925721198369",
         "type_params": {
          "T": {
           "type": "NDArray"
          },
          "U": {
           "params": {
            "T": {
             "type": "NDArray"
            }
           },
           "type": "Maybe"
          }
         }
        },
        {
         "args": [
          "8098544925721198369",
          "7722651415448856216"
         ],
         "function": "Abstraction.__add__",
         "id": "-8722410197768975324",
         "type_params": {
          "T": {
           "type": "NDArray"
          },
          "U": {
           "params": {
            "T": {
             "type": "NDArray"
            }
           },
           "type": "Maybe"
          }
         }
        },
        {
         "args": [
          "-8722410197768975324",
          "-1060229783844073802"
         ],
         "function": "Abstraction.__call__",
         "id": "5556510896569652742",
         "type_params": {
          "T": {
           "type": "Integer"
          },
          "U": {
           "params": {
            "T": {
             "type": "NDArray"
            }
           },
           "type": "Maybe"
          }
         }
        },
        {
         "args": [
          "8098544925721198369",
          "-5366332236860573442"
         ],
         "function": "Abstraction.__add__",
         "id": "-4158281664055314196",
         "type_params": {
          "T": {
           "type": "NDArray"
          },
          "U": {
           "params": {
            "T": {
             "type": "NDArray"
            }
           },
           "type": "Maybe"
          }
         }
        },
        {
         "args": [
          "5556510896569652742"
         ],
         "function": "NDArrayCompat.from_ndarray",
         "id": "1848277141579330133"
        },
        {
         "args": [
          "1848277141579330133",
          "1848277141579330133"
         ],
         "function": "NDArrayCompat.__add__",
         "id": "1986202571654665082"
        },
        {
         "args": [
          "1986202571654665082"
         ],
         "function": "Converter.convert",
         "id": "7457028798686760684",
         "type_params": {
          "T": {
           "type": "NDArray"
          }
         }
        },
        {
         "args": [
          "7457028798686760684",
          "2936021328019873247"
         ],
         "function": "Maybe.__and__",
         "id": "-5196283022483929582",
         "type_params": {
          "T": {
           "type": "NDArray"
          }
         }
        },
        {
         "args": [
          "-5196283022483929582",
          "-2958785375455268643",
          "-4158281664055314196"
         ],
         "function": "Maybe.match",
         "id": "-7663903474125089756",
         "type_params": {
          "T": {
           "params": {
            "T": {
             "type": "NDArray"
            },
            "U": {
             "params": {
              "T": {
               "type": "Integer"
              },
              "U": {
               "params": {
                "T": {
                 "type": "Integer"
                }
               },
               "type": "Vec"
              }
             },
             "type": "Either"
            }
           },
           "type": "Pair"
          }
         }
        },
        {
         "args": [
          "-7663903474125089756"
         ],
         "function": "NDArrayCompat.from_ndarray",
         "id": "-4237845458906765981"
        },
        {
         "args": [
          "-4237845458906765981"
         ],
         "function": "NDArrayCompat.to_ndarray",
         "id": "-1795377051656841578"
        },
        {
         "id": "1755688986063023919",
         "repr": "0x7f9a093395e0",
         "type": "Variable"
        },
        {
         "args": [
          "1755688986063023919"
         ],
         "function": "Abstraction.create_variable",
         "id": "-3817855043577191424",
         "type_params": {
          "T": {
           "params": {
            "T": {
             "type": "Integer"
            },
            "U": {
             "params": {
              "T": {
               "type": "Integer"
              }
             },
             "type": "Vec"
            }
           },
           "type": "Either"
          },
          "U": {
           "params": {
            "T": {
             "params": {
              "T": {
               "type": "Integer"
              },
              "U": {
               "params": {
                "T": {
                 "type": "Integer"
                }
               },
               "type": "Vec"
              }
             },
             "type": "Either"
            }
           },
           "type": "Maybe"
          }
         }
        },
        {
         "args": [
          "-3817855043577191424"
         ],
         "function": "Maybe.just",
         "id": "6711956062709243281",
         "type_params": {
          "T": {
           "params": {
            "T": {
             "type": "Integer"
            },
            "U": {
             "params": {
              "T": {
               "type": "Integer"
              }
             },
             "type": "Vec"
            }
           },
           "type": "Either"
          }
         }
        },
        {
         "args": [
          "-3817855043577191424",
          "6711956062709243281"
         ],
         "function": "Abstraction.create",
         "id": "-860946558015439790",
         "type_params": {
          "T": {
           "params": {
            "T": {
             "type": "Integer"
            },
            "U": {
             "params": {
              "T": {
               "type": "Integer"
              }
             },
             "type": "Vec"
            }
           },
           "type": "Either"
          },
          "U": {
           "params": {
            "T": {
             "params": {
              "T": {
               "type": "Integer"
              },
              "U": {
               "params": {
                "T": {
                 "type": "Integer"
                }
               },
               "type": "Vec"
              }
             },
             "type": "Either"
            }
           },
           "type": "Maybe"
          }
         }
        },
        {
         "args": [
          "-860946558015439790",
          "-4121483985547309152"
         ],
         "function": "Abstraction.__add__",
         "id": "3779489936047600387",
         "type_params": {
          "T": {
           "params": {
            "T": {
             "type": "Integer"
            },
            "U": {
             "params": {
              "T": {
               "type": "Integer"
              }
             },
             "type": "Vec"
            }
           },
           "type": "Either"
          },
          "U": {
           "params": {
            "T": {
             "params": {
              "T": {
               "type": "Integer"
              },
              "U": {
               "params": {
                "T": {
                 "type": "Integer"
                }
               },
               "type": "Vec"
              }
             },
             "type": "Either"
            }
           },
           "type": "Maybe"
          }
         }
        },
        {
         "args": [
          "-860946558015439790",
          "-7000929765806242987"
         ],
         "function": "Abstraction.__add__",
         "id": "-5395461455589840260",
         "type_params": {
          "T": {
           "params": {
            "T": {
             "type": "Integer"
            },
            "U": {
             "params": {
              "T": {
               "type": "Integer"
              }
             },
             "type": "Vec"
            }
           },
           "type": "Either"
          },
          "U": {
           "params": {
            "T": {
             "params": {
              "T": {
               "type": "Integer"
              },
              "U": {
               "params": {
                "T": {
                 "type": "Integer"
                }
               },
               "type": "Vec"
              }
             },
             "type": "Either"
            }
           },
           "type": "Maybe"
          }
         }
        },
        {
         "args": [
          "3779489936047600387",
          "7126651426372720159"
         ],
         "function": "Abstraction.__call__",
         "id": "-5410612171440156754",
         "type_params": {
          "T": {
           "type": "Integer"
          },
          "U": {
           "params": {
            "T": {
             "params": {
              "T": {
               "type": "Integer"
              },
              "U": {
               "params": {
                "T": {
                 "type": "Integer"
                }
               },
               "type": "Vec"
              }
             },
             "type": "Either"
            }
           },
           "type": "Maybe"
          }
         }
        },
        {
         "args": [
          "-2587848750163407994",
          "-3929965295117828268",
          "-5395461455589840260"
         ],
         "function": "Maybe.match",
         "id": "-7804353919955544064",
         "type_params": {
          "T": {
           "params": {
            "T": {
             "type": "Integer"
            }
           },
           "type": "Vec"
          }
         }
        },
        {
         "args": [
          "-5410612171440156754",
          "-7804353919955544064"
         ],
         "function": "Maybe.__or__",
         "id": "1489399782659646315",
         "type_params": {
          "T": {
           "params": {
            "T": {
             "type": "Integer"
            },
            "U": {
             "params": {
              "T": {
               "type": "Integer"
              }
             },
             "type": "Vec"
            }
           },
           "type": "Either"
          }
         }
        },
        {
         "args": [
          "7457028798686760684",
          "1489399782659646315"
         ],
         "function": "Maybe.__and__",
         "id": "-7520977190469062145",
         "type_params": {
          "T": {
           "type": "NDArray"
          }
         }
        },
        {
         "args": [
          "-7520977190469062145",
          "-2958785375455268643",
          "-4158281664055314196"
         ],
         "function": "Maybe.match",
         "id": "-7844900825065699803",
         "type_params": {
          "T": {
           "params": {
            "T": {
             "type": "NDArray"
            },
            "U": {
             "params": {
              "T": {
               "type": "Integer"
              },
              "U": {
               "params": {
                "T": {
                 "type": "Integer"
                }
               },
               "type": "Vec"
              }
             },
             "type": "Either"
            }
           },
           "type": "Pair"
          }
         }
        },
        {
         "args": [
          "-7844900825065699803"
         ],
         "function": "NDArrayCompat.from_ndarray",
         "id": "4267625691249863671"
        },
        {
         "args": [
          "4267625691249863671"
         ],
         "function": "NDArrayCompat.to_ndarray",
         "id": "-7012078450514189693"
        },
        {
         "args": [
          "1489371015219726606"
         ],
         "function": "Maybe.just",
         "id": "2041966847339545437",
         "type_params": {
          "T": {
           "type": "NDArray"
          }
         }
        },
        {
         "args": [
          "-5661643742434817814",
          "2041966847339545437"
         ],
         "function": "Abstraction.create",
         "id": "-8261893049480089926"
        },
        {
         "args": [
          "-8261893049480089926",
          "-1060229783844073802"
         ],
         "function": "Abstraction.__call__",
         "id": "-1814846143299982361",
         "type_params": {
          "T": {
           "type": "Integer"
          },
          "U": {
           "params": {
            "T": {
             "type": "NDArray"
            }
           },
           "type": "Maybe"
          }
         }
        },
        {
         "args": [
          "-1814846143299982361"
         ],
         "function": "NDArrayCompat.from_ndarray",
         "id": "6483803998663974423"
        },
        {
         "args": [
          "6483803998663974423",
          "6483803998663974423"
         ],
         "function": "NDArrayCompat.__add__",
         "id": "-9108276040706845297"
        },
        {
         "args": [
          "-9108276040706845297"
         ],
         "function": "Converter.convert",
         "id": "-1474596354069714045",
         "type_params": {
          "T": {
           "type": "NDArray"
          }
         }
        },
        {
         "args": [
          "-1474596354069714045",
          "1489399782659646315"
         ],
         "function": "Maybe.__and__",
         "id": "1186900668583848688",
         "type_params": {
          "T": {
           "type": "NDArray"
          }
         }
        },
        {
         "args": [
          "1186900668583848688",
          "-2958785375455268643",
          "-4158281664055314196"
         ],
         "function": "Maybe.match",
         "id": "-8127083506556818927",
         "type_params": {
          "T": {
           "params": {
            "T": {
             "type": "NDArray"
            },
            "U": {
             "params": {
              "T": {
               "type": "Integer"
              },
              "U": {
               "params": {
                "T": {
                 "type": "Integer"
                }
               },
               "type": "Vec"
              }
             },
             "type": "Either"
            }
           },
           "type": "Pair"
          }
         }
        },
        {
         "args": [
          "-8127083506556818927"
         ],
         "function": "NDArrayCompat.from_ndarray",
         "id": "-8550463234205095030"
        },
        {
         "args": [
          "-8550463234205095030"
         ],
         "function": "NDArrayCompat.to_ndarray",
         "id": "8860832021727305377"
        },
        {
         "args": [
          "6782733044859400313"
         ],
         "function": "Maybe.just",
         "id": "368972003848286226",
         "type_params": {
          "T": {
           "params": {
            "T": {
             "type": "Integer"
            },
            "U": {
             "params": {
              "T": {
               "type": "Integer"
              }
             },
             "type": "Vec"
            }
           },
           "type": "Either"
          }
         }
        },
        {
         "args": [
          "734253285914756304",
          "368972003848286226"
         ],
         "function": "Abstraction.create",
         "id": "-1991330210071026477"
        },
        {
         "args": [
          "-1991330210071026477",
          "7126651426372720159"
         ],
         "function": "Abstraction.__call__",
         "id": "2595563689261667252",
         "type_params": {
          "T": {
           "type": "Integer"
          },
          "U": {
           "params": {
            "T": {
             "params": {
              "T": {
               "type": "Integer"
              },
              "U": {
               "params": {
                "T": {
                 "type": "Integer"
                }
               },
               "type": "Vec"
              }
             },
             "type": "Either"
            }
           },
           "type": "Maybe"
          }
         }
        },
        {
         "args": [
          "2595563689261667252",
          "-7804353919955544064"
         ],
         "function": "Maybe.__or__",
         "id": "-5700435526751265304",
         "type_params": {
          "T": {
           "params": {
            "T": {
             "type": "Integer"
            },
            "U": {
             "params": {
              "T": {
               "type": "Integer"
              }
             },
             "type": "Vec"
            }
           },
           "type": "Either"
          }
         }
        },
        {
         "args": [
          "-1474596354069714045",
          "-5700435526751265304"
         ],
         "function": "Maybe.__and__",
         "id": "8740993088502019492",
         "type_params": {
          "T": {
           "type": "NDArray"
          }
         }
        },
        {
         "args": [
          "8740993088502019492",
          "-2958785375455268643",
          "-4158281664055314196"
         ],
         "function": "Maybe.match",
         "id": "-8444287661132754295",
         "type_params": {
          "T": {
           "params": {
            "T": {
             "type": "NDArray"
            },
            "U": {
             "params": {
              "T": {
               "type": "Integer"
              },
              "U": {
               "params": {
                "T": {
                 "type": "Integer"
                }
               },
               "type": "Vec"
              }
             },
             "type": "Either"
            }
           },
           "type": "Pair"
          }
         }
        },
        {
         "args": [
          "-8444287661132754295"
         ],
         "function": "NDArrayCompat.from_ndarray",
         "id": "-1336226018468489063"
        },
        {
         "args": [
          "-1336226018468489063"
         ],
         "function": "NDArrayCompat.to_ndarray",
         "id": "5335923190602446785"
        },
        {
         "args": [
          "1004118043487685763"
         ],
         "function": "Maybe.just",
         "id": "827224781560520490",
         "type_params": {
          "T": {
           "params": {
            "T": {
             "type": "Integer"
            },
            "U": {
             "params": {
              "T": {
               "type": "Integer"
              }
             },
             "type": "Vec"
            }
           },
           "type": "Either"
          }
         }
        },
        {
         "args": [
          "-5851332509529825314",
          "827224781560520490"
         ],
         "function": "Abstraction.create",
         "id": "3437576116375030155"
        },
        {
         "args": [
          "-2587848750163407994",
          "-3929965295117828268",
          "3437576116375030155"
         ],
         "function": "Maybe.match",
         "id": "-8666308771946942743",
         "type_params": {
          "T": {
           "params": {
            "T": {
             "type": "Integer"
            }
           },
           "type": "Vec"
          }
         }
        },
        {
         "args": [
          "2595563689261667252",
          "-8666308771946942743"
         ],
         "function": "Maybe.__or__",
         "id": "-1684363646099013730",
         "type_params": {
          "T": {
           "params": {
            "T": {
             "type": "Integer"
            },
            "U": {
             "params": {
              "T": {
               "type": "Integer"
              }
             },
             "type": "Vec"
            }
           },
           "type": "Either"
          }
         }
        },
        {
         "args": [
          "-1474596354069714045",
          "-1684363646099013730"
         ],
         "function": "Maybe.__and__",
         "id": "-3817981551869321929",
         "type_params": {
          "T": {
           "type": "NDArray"
          }
         }
        },
        {
         "args": [
          "-3817981551869321929",
          "-2958785375455268643",
          "-4158281664055314196"
         ],
         "function": "Maybe.match",
         "id": "2169861275658812650",
         "type_params": {
          "T": {
           "params": {
            "T": {
             "type": "NDArray"
            },
            "U": {
             "params": {
              "T": {
               "type": "Integer"
              },
              "U": {
               "params": {
                "T": {
                 "type": "Integer"
                }
               },
               "type": "Vec"
              }
             },
             "type": "Either"
            }
           },
           "type": "Pair"
          }
         }
        },
        {
         "args": [
          "2169861275658812650"
         ],
         "function": "NDArrayCompat.from_ndarray",
         "id": "-4108637904960356359"
        },
        {
         "args": [
          "-4108637904960356359"
         ],
         "function": "NDArrayCompat.to_ndarray",
         "id": "4079249663426022462"
        },
        {
         "args": [
          "-1060229783844073802"
         ],
         "function": "arange_",
         "id": "3502884101055097330"
        },
        {
         "args": [
          "3502884101055097330"
         ],
         "function": "Maybe.just",
         "id": "5981319536184665692",
         "type_params": {
          "T": {
           "type": "NDArray"
          }
         }
        },
        {
         "args": [
          "5981319536184665692"
         ],
         "function": "NDArrayCompat.from_ndarray",
         "id": "-1482503005844578115"
        },
        {
         "args": [
          "-1482503005844578115",
          "-1482503005844578115"
         ],
         "function": "NDArrayCompat.__add__",
         "id": "768077976946695323"
        },
        {
         "args": [
          "768077976946695323"
         ],
         "function": "Converter.convert",
         "id": "3539585437659049649",
         "type_params": {
          "T": {
           "type": "NDArray"
          }
         }
        },
        {
         "args": [
          "3539585437659049649",
          "-1684363646099013730"
         ],
         "function": "Maybe.__and__",
         "id": "8359669991767457517",
         "type_params": {
          "T": {
           "type": "NDArray"
          }
         }
        },
        {
         "args": [
          "8359669991767457517",
          "-2958785375455268643",
          "-4158281664055314196"
         ],
         "function": "Maybe.match",
         "id": "-3845061769283700728",
         "type_params": {
          "T": {
           "params": {
            "T": {
             "type": "NDArray"
            },
            "U": {
             "params": {
              "T": {
               "type": "Integer"
              },
              "U": {
               "params": {
                "T": {
                 "type": "Integer"
                }
               },
               "type": "Vec"
              }
             },
             "type": "Either"
            }
           },
           "type": "Pair"
          }
         }
        },
        {
         "args": [
          "-3845061769283700728"
         ],
         "function": "NDArrayCompat.from_ndarray",
         "id": "-3431536656041627804"
        },
        {
         "args": [
          "-3431536656041627804"
         ],
         "function": "NDArrayCompat.to_ndarray",
         "id": "4647388330619199126"
        },
        {
         "args": [
          "7126651426372720159"
         ],
         "function": "Either.left",
         "id": "3405549016711160068",
         "type_params": {
          "T": {
           "type": "Integer"
          },
          "U": {
           "params": {
            "T": {
             "type": "Integer"
            }
           },
           "type": "Vec"
          }
         }
        },
        {
         "args": [
          "3405549016711160068"
         ],
         "function": "Maybe.just",
         "id": "8024432380409486742",
         "type_params": {
          "T": {
           "params": {
            "T": {
             "type": "Integer"
            },
            "U": {
             "params": {
              "T": {
               "type": "Integer"
              }
             },
             "type": "Vec"
            }
           },
           "type": "Either"
          }
         }
        },
        {
         "args": [
          "8024432380409486742",
          "-8666308771946942743"
         ],
         "function": "Maybe.__or__",
         "id": "-1139943254780984625",
         "type_params": {
          "T": {
           "params": {
            "T": {
             "type": "Integer"
            },
            "U": {
             "params": {
              "T": {
               "type": "Integer"
              }
             },
             "type": "Vec"
            }
           },
           "type": "Either"
          }
         }
        },
        {
         "args": [
          "3539585437659049649",
          "-1139943254780984625"
         ],
         "function": "Maybe.__and__",
         "id": "-5193751387145450191",
         "type_params": {
          "T": {
           "type": "NDArray"
          }
         }
        },
        {
         "args": [
          "-5193751387145450191",
          "-2958785375455268643",
          "-4158281664055314196"
         ],
         "function": "Maybe.match",
         "id": "-4887894127626293813",
         "type_params": {
          "T": {
           "params": {
            "T": {
             "type": "NDArray"
            },
            "U": {
             "params": {
              "T": {
               "type": "Integer"
              },
              "U": {
               "params": {
                "T": {
                 "type": "Integer"
                }
               },
               "type": "Vec"
              }
             },
             "type": "Either"
            }
           },
           "type": "Pair"
          }
         }
        },
        {
         "args": [
          "-4887894127626293813"
         ],
         "function": "NDArrayCompat.from_ndarray",
         "id": "6559064558189891834"
        },
        {
         "args": [
          "6559064558189891834"
         ],
         "function": "NDArrayCompat.to_ndarray",
         "id": "4769751404949219476"
        },
        {
         "args": [
          "-1825075280468984453"
         ],
         "function": "Maybe.just",
         "id": "6777802822078551749",
         "type_params": {
          "T": {
           "type": "NDArray"
          }
         }
        },
        {
         "args": [
          "-5535421603693373903",
          "6777802822078551749"
         ],
         "function": "Abstraction.create",
         "id": "2218768674675835149"
        },
        {
         "args": [
          "-5193751387145450191",
          "-2958785375455268643",
          "2218768674675835149"
         ],
         "function": "Maybe.match",
         "id": "-5349241039160619804",
         "type_params": {
          "T": {
           "params": {
            "T": {
             "type": "NDArray"
            },
            "U": {
             "params": {
              "T": {
               "type": "Integer"
              },
              "U": {
               "params": {
                "T": {
                 "type": "Integer"
                }
               },
               "type": "Vec"
              }
             },
             "type": "Either"
            }
           },
           "type": "Pair"
          }
         }
        },
        {
         "args": [
          "-5349241039160619804"
         ],
         "function": "NDArrayCompat.from_ndarray",
         "id": "7351632599464687666"
        },
        {
         "args": [
          "7351632599464687666"
         ],
         "function": "NDArrayCompat.to_ndarray",
         "id": "-6956093127370502309"
        },
        {
         "args": [
          "3405549016711160068"
         ],
         "function": "Maybe.just",
         "id": "-6450778425968699880"
        },
        {
         "args": [
          "3539585437659049649",
          "-6450778425968699880"
         ],
         "function": "Maybe.__and__",
         "id": "4114730221277352135",
         "type_params": {
          "T": {
           "type": "NDArray"
          }
         }
        },
        {
         "args": [
          "4114730221277352135",
          "-2958785375455268643",
          "2218768674675835149"
         ],
         "function": "Maybe.match",
         "id": "4533551928979814966",
         "type_params": {
          "T": {
           "params": {
            "T": {
             "type": "NDArray"
            },
            "U": {
             "params": {
              "T": {
               "type": "Integer"
              },
              "U": {
               "params": {
                "T": {
                 "type": "Integer"
                }
               },
               "type": "Vec"
              }
             },
             "type": "Either"
            }
           },
           "type": "Pair"
          }
         }
        },
        {
         "args": [
          "4533551928979814966"
         ],
         "function": "NDArrayCompat.from_ndarray",
         "id": "-4622614897330996862"
        },
        {
         "args": [
          "-4622614897330996862"
         ],
         "function": "NDArrayCompat.to_ndarray",
         "id": "-2612398622271502315"
        },
        {
         "args": [
          "3502884101055097330",
          "3502884101055097330"
         ],
         "function": "NDArray.__add__",
         "id": "-4347787294984776218"
        },
        {
         "args": [
          "-4347787294984776218"
         ],
         "function": "Maybe.just",
         "id": "1835843005163307964"
        },
        {
         "args": [
          "1835843005163307964"
         ],
         "function": "NDArrayCompat.from_ndarray",
         "id": "-5819300935391376726"
        },
        {
         "args": [
          "-5819300935391376726"
         ],
         "function": "Converter.convert",
         "id": "5379362677060024694",
         "type_params": {
          "T": {
           "type": "NDArray"
          }
         }
        },
        {
         "args": [
          "5379362677060024694",
          "-6450778425968699880"
         ],
         "function": "Maybe.__and__",
         "id": "-7149125959482220427",
         "type_params": {
          "T": {
           "type": "NDArray"
          }
         }
        },
        {
         "args": [
          "-7149125959482220427",
          "-2958785375455268643",
          "2218768674675835149"
         ],
         "function": "Maybe.match",
         "id": "-5407779657740745605",
         "type_params": {
          "T": {
           "params": {
            "T": {
             "type": "NDArray"
            },
            "U": {
             "params": {
              "T": {
               "type": "Integer"
              },
              "U": {
               "params": {
                "T": {
                 "type": "Integer"
                }
               },
               "type": "Vec"
              }
             },
             "type": "Either"
            }
           },
           "type": "Pair"
          }
         }
        },
        {
         "args": [
          "-5407779657740745605"
         ],
         "function": "NDArrayCompat.from_ndarray",
         "id": "3923177582200035347"
        },
        {
         "args": [
          "3923177582200035347"
         ],
         "function": "NDArrayCompat.to_ndarray",
         "id": "8439296437609624593"
        },
        {
         "args": [
          "1835843005163307964",
          "-6450778425968699880"
         ],
         "function": "Maybe.__and__",
         "id": "8391795678367217151",
         "type_params": {
          "T": {
           "type": "NDArray"
          }
         }
        },
        {
         "args": [
          "8391795678367217151",
          "-2958785375455268643",
          "2218768674675835149"
         ],
         "function": "Maybe.match",
         "id": "-8250857703419181462",
         "type_params": {
          "T": {
           "params": {
            "T": {
             "type": "NDArray"
            },
            "U": {
             "params": {
              "T": {
               "type": "Integer"
              },
              "U": {
               "params": {
                "T": {
                 "type": "Integer"
                }
               },
               "type": "Vec"
              }
             },
             "type": "Either"
            }
           },
           "type": "Pair"
          }
         }
        },
        {
         "args": [
          "-8250857703419181462"
         ],
         "function": "NDArrayCompat.from_ndarray",
         "id": "-248406969922382441"
        },
        {
         "args": [
          "-248406969922382441"
         ],
         "function": "NDArrayCompat.to_ndarray",
         "id": "8770548266972148152"
        },
        {
         "args": [
          "-4347787294984776218",
          "3405549016711160068"
         ],
         "function": "Pair.create",
         "id": "-2290868940384272012"
        },
        {
         "args": [
          "-2290868940384272012"
         ],
         "function": "Maybe.just",
         "id": "-826197801106996212"
        },
        {
         "args": [
          "-826197801106996212",
          "-2958785375455268643",
          "2218768674675835149"
         ],
         "function": "Maybe.match",
         "id": "3132127448216453422",
         "type_params": {
          "T": {
           "params": {
            "T": {
             "type": "NDArray"
            },
            "U": {
             "params": {
              "T": {
               "type": "Integer"
              },
              "U": {
               "params": {
                "T": {
                 "type": "Integer"
                }
               },
               "type": "Vec"
              }
             },
             "type": "Either"
            }
           },
           "type": "Pair"
          }
         }
        },
        {
         "args": [
          "3132127448216453422"
         ],
         "function": "NDArrayCompat.from_ndarray",
         "id": "1960652869015262624"
        },
        {
         "args": [
          "1960652869015262624"
         ],
         "function": "NDArrayCompat.to_ndarray",
         "id": "-4627731693726244800"
        },
        {
         "args": [
          "2218768674675835149",
          "-2290868940384272012"
         ],
         "function": "Abstraction.__call__",
         "id": "-1097833044825197215",
         "type_params": {
          "T": {
           "params": {
            "T": {
             "type": "NDArray"
            },
            "U": {
             "params": {
              "T": {
               "type": "Integer"
              },
              "U": {
               "params": {
                "T": {
                 "type": "Integer"
                }
               },
               "type": "Vec"
              }
             },
             "type": "Either"
            }
           },
           "type": "Pair"
          },
          "U": {
           "params": {
            "T": {
             "type": "NDArray"
            }
           },
           "type": "Maybe"
          }
         }
        },
        {
         "args": [
          "-1097833044825197215"
         ],
         "function": "NDArrayCompat.from_ndarray",
         "id": "-2526072390013201598"
        },
        {
         "args": [
          "-2526072390013201598"
         ],
         "function": "NDArrayCompat.to_ndarray",
         "id": "-5923745696728671797"
        },
        {
         "args": [
          "-2290868940384272012"
         ],
         "function": "Pair.left",
         "id": "-9188415536727269409",
         "type_params": {
          "T": {
           "type": "NDArray"
          },
          "U": {
           "params": {
            "T": {
             "type": "Integer"
            },
            "U": {
             "params": {
              "T": {
               "type": "Integer"
              }
             },
             "type": "Vec"
            }
           },
           "type": "Either"
          }
         }
        },
        {
         "args": [
          "-2290868940384272012"
         ],
         "function": "Pair.right",
         "id": "3001815728083741680",
         "type_params": {
          "T": {
           "type": "NDArray"
          },
          "U": {
           "params": {
            "T": {
             "type": "Integer"
            },
            "U": {
             "params": {
              "T": {
               "type": "Integer"
              }
             },
             "type": "Vec"
            }
           },
           "type": "Either"
          }
         }
        },
        {
         "args": [
          "-9188415536727269409",
          "3001815728083741680"
         ],
         "function": "NDArray.__getitem__",
         "id": "7240323096178966804"
        },
        {
         "args": [
          "7240323096178966804"
         ],
         "function": "Maybe.just",
         "id": "-3650474945266323793",
         "type_params": {
          "T": {
           "type": "NDArray"
          }
         }
        },
        {
         "args": [
          "-3650474945266323793"
         ],
         "function": "NDArrayCompat.from_ndarray",
         "id": "-6327188985520883411"
        },
        {
         "args": [
          "-6327188985520883411"
         ],
         "function": "NDArrayCompat.to_ndarray",
         "id": "-8795932671470243882"
        },
        {
         "args": [
          "-4347787294984776218",
          "3001815728083741680"
         ],
         "function": "NDArray.__getitem__",
         "id": "-4945784285653162301"
        },
        {
         "args": [
          "-4945784285653162301"
         ],
         "function": "Maybe.just",
         "id": "6426054299265824912",
         "type_params": {
          "T": {
           "type": "NDArray"
          }
         }
        },
        {
         "args": [
          "6426054299265824912"
         ],
         "function": "NDArrayCompat.from_ndarray",
         "id": "-6880269588909286918"
        },
        {
         "args": [
          "-6880269588909286918"
         ],
         "function": "NDArrayCompat.to_ndarray",
         "id": "5829854195099530885"
        },
        {
         "args": [
          "-4347787294984776218",
          "3405549016711160068"
         ],
         "function": "NDArray.__getitem__",
         "id": "-8455388509046005642"
        },
        {
         "args": [
          "-8455388509046005642"
         ],
         "function": "Maybe.just",
         "id": "4177136090310154729",
         "type_params": {
          "T": {
           "type": "NDArray"
          }
         }
        },
        {
         "args": [
          "4177136090310154729"
         ],
         "function": "NDArrayCompat.from_ndarray",
         "id": "245495020555689618"
        },
        {
         "args": [
          "245495020555689618"
         ],
         "function": "NDArrayCompat.to_ndarray",
         "id": "4189624856124316535"
        },
        {
         "args": [
          "-8455388509046005642"
         ],
         "function": "NDArray.to_ndarray",
         "id": "-6370107646987685124"
        },
        {
         "args": [
          "3405549016711160068"
         ],
         "function": "unbox_idxs",
         "id": "-75720363782473576"
        },
        {
         "args": [
          "-4347787294984776218"
         ],
         "function": "NDArray.to_ndarray",
         "id": "6932721126388525628"
        },
        {
         "args": [
          "6932721126388525628",
          "-75720363782473576"
         ],
         "function": "ndarray_getitem",
         "id": "-2510144336463976696"
        },
        {
         "args": [
          "7126651426372720159"
         ],
         "function": "unbox_integer",
         "id": "5766021968849054353"
        },
        {
         "args": [
          "6932721126388525628",
          "5766021968849054353"
         ],
         "function": "ndarray_getitem",
         "id": "-7814700254350767880"
        },
        {
         "args": [
          "6932721126388525628",
          "74627363753923008"
         ],
         "function": "ndarray_getitem",
         "id": "785343526099289176"
        },
        {
         "args": [
          "3502884101055097330"
         ],
         "function": "NDArray.to_ndarray",
         "id": "-167566818128806033"
        },
        {
         "args": [
          "-167566818128806033",
          "-167566818128806033"
         ],
         "function": "ndarray_add",
         "id": "-8050719334662231274"
        },
        {
         "args": [
          "-8050719334662231274",
          "74627363753923008"
         ],
         "function": "ndarray_getitem",
         "id": "1996208351291935186"
        },
        {
         "args": [
          "-1060229783844073802"
         ],
         "function": "unbox_integer",
         "id": "-6339119298691241207"
        },
        {
         "args": [
          "-6339119298691241207"
         ],
         "function": "arange",
         "id": "-3148203639987051990"
        },
        {
         "args": [
          "-3148203639987051990",
          "-3148203639987051990"
         ],
         "function": "ndarray_add",
         "id": "3747571990108904852"
        },
        {
         "args": [
          "3747571990108904852",
          "74627363753923008"
         ],
         "function": "ndarray_getitem",
         "id": "-2790575131665686317"
        },
        {
         "args": [
          "2826150730839618930"
         ],
         "function": "arange",
         "id": "-6763282119024320388"
        },
        {
         "args": [
          "-6763282119024320388",
          "-6763282119024320388"
         ],
         "function": "ndarray_add",
         "id": "-4672190614100226924"
        },
        {
         "args": [
          "-4672190614100226924",
          "74627363753923008"
         ],
         "function": "ndarray_getitem",
         "id": "1588328079020448075"
        },
        {
         "id": "-6329062327456759953",
         "repr": "[ 0  1  2  3  4  5  6  7  8  9 10 11 12 13 14 15 16 17 18 19 20 21 22 23\n 24 25 26 27 28 29 30 31 32 33 34 35 36 37 38 39 40 41 42 43 44 45 46 47\n 48 49 50 51 52 53 54 55 56 57 58 59 60 61 62 63 64 65 66 67 68 69 70 71\n 72 73 74 75 76 77 78 79 80 81 82 83 84 85 86 87 88 89 90 91 92 93 94 95\n 96 97 98 99]",
         "type": "ndarray"
        },
        {
         "args": [
          "-6329062327456759953",
          "-6329062327456759953"
         ],
         "function": "ndarray_add",
         "id": "-2934136607126413546"
        },
        {
         "args": [
          "-2934136607126413546",
          "74627363753923008"
         ],
         "function": "ndarray_getitem",
         "id": "-6640670996244891983"
        },
        {
         "id": "1064279895228970532",
         "repr": "[  0   2   4   6   8  10  12  14  16  18  20  22  24  26  28  30  32  34\n  36  38  40  42  44  46  48  50  52  54  56  58  60  62  64  66  68  70\n  72  74  76  78  80  82  84  86  88  90  92  94  96  98 100 102 104 106\n 108 110 112 114 116 118 120 122 124 126 128 130 132 134 136 138 140 142\n 144 146 148 150 152 154 156 158 160 162 164 166 168 170 172 174 176 178\n 180 182 184 186 188 190 192 194 196 198]",
         "type": "ndarray"
        },
        {
         "args": [
          "1064279895228970532",
          "74627363753923008"
         ],
         "function": "ndarray_getitem",
         "id": "5438906021116595671"
        }
       ],
       "states": {
        "initial": "-4006809763795812991",
        "states": [
         {
          "node": "-3202461150888573559",
          "rule": "metadsl_core.numpy.arange"
         },
         {
          "node": "-3753584583687244436",
          "rule": "metadsl_core.integer.convert_integer"
         },
         {
          "node": "5547600208780802179",
          "rule": "metadsl_core.numpy.NDArrayCompat.__getitem__"
         },
         {
          "node": "6480541105528249286",
          "rule": "metadsl_core.either.convert_to_either"
         },
         {
          "node": "2599067455745913840",
          "rule": "metadsl_core.integer.convert_integer"
         },
         {
          "node": "8666122484870562737",
          "rule": "metadsl_core.abstraction.Abstraction.from_fn"
         },
         {
          "node": "-2721698836113764418",
          "rule": "metadsl_core.abstraction.Abstraction.from_fn"
         },
         {
          "node": "5540985228313524427",
          "rule": "metadsl_core.abstraction.Abstraction.from_fn"
         },
         {
          "node": "-6124345705161085734",
          "rule": "metadsl_core.abstraction.Abstraction.from_fn"
         },
         {
          "node": "7831013155088472224",
          "rule": "metadsl_core.maybe.Maybe.map"
         },
         {
          "node": "-9203637284296530574",
          "rule": "metadsl_core.maybe.Maybe.map"
         },
         {
          "node": "-5731559944236103040",
          "rule": "metadsl_core.maybe.Maybe.map"
         },
         {
          "node": "8149346873566382501",
          "rule": "metadsl_core.maybe.maybe_match"
         },
         {
          "node": "7845859725254450431",
          "rule": "metadsl_core.maybe.maybe_match"
         },
         {
          "node": "-5669686809231173488",
          "rule": "metadsl_core.maybe.Maybe.map"
         },
         {
          "node": "-1795377051656841578",
          "rule": "metadsl_core.abstraction.Abstraction.from_fn"
         },
         {
          "node": "-7012078450514189693",
          "rule": "metadsl_core.abstraction.Abstraction.from_fn"
         },
         {
          "node": "8860832021727305377",
          "rule": "metadsl_core.abstraction.compose"
         },
         {
          "node": "5335923190602446785",
          "rule": "metadsl_core.abstraction.compose"
         },
         {
          "node": "4079249663426022462",
          "rule": "metadsl_core.abstraction.compose"
         },
         {
          "node": "4647388330619199126",
          "rule": "metadsl_core.abstraction.beta_reduce"
         },
         {
          "node": "4769751404949219476",
          "rule": "metadsl_core.abstraction.beta_reduce"
         },
         {
          "node": "-6956093127370502309",
          "rule": "metadsl_core.abstraction.compose"
         },
         {
          "node": "-2612398622271502315",
          "rule": "metadsl_core.maybe.maybe_or"
         },
         {
          "node": "8439296437609624593",
          "rule": "metadsl_core.numpy.add_compat"
         },
         {
          "node": "8770548266972148152",
          "rule": "metadsl_core.numpy.convert_to_ndarray"
         },
         {
          "node": "-4627731693726244800",
          "rule": "metadsl_core.maybe.maybe_and"
         },
         {
          "node": "-5923745696728671797",
          "rule": "metadsl_core.maybe.maybe_match"
         },
         {
          "node": "-8795932671470243882",
          "rule": "metadsl_core.abstraction.beta_reduce"
         },
         {
          "node": "5829854195099530885",
          "rule": "metadsl_core.pair.pair_left"
         },
         {
          "node": "4189624856124316535",
          "rule": "metadsl_core.pair.pair_right"
         },
         {
          "label": "convert",
          "node": "4189624856124316535",
          "rule": ""
         },
         {
          "node": "-6370107646987685124",
          "rule": "metadsl_core.numpy.box_unbox_ndarray_compat"
         },
         {
          "node": "-2510144336463976696",
          "rule": "metadsl_core.numpy_engine.unbox_ndarray_getitem"
         },
         {
          "node": "-7814700254350767880",
          "rule": "metadsl_core.numpy_engine.unbox_idxs_rule"
         },
         {
          "node": "785343526099289176",
          "rule": "metadsl_core.numpy_engine.unbox_integer_rule"
         },
         {
          "node": "1996208351291935186",
          "rule": "metadsl_core.numpy_engine.unbox_ndarray_add"
         },
         {
          "node": "-2790575131665686317",
          "rule": "metadsl_core.numpy_engine.unbox_arange"
         },
         {
          "node": "1588328079020448075",
          "rule": "metadsl_core.numpy_engine.unbox_integer_rule"
         },
         {
          "label": "unbox",
          "node": "1588328079020448075",
          "rule": ""
         },
         {
          "node": "-6640670996244891983",
          "rule": "metadsl_core.numpy_engine.arange"
         },
         {
          "node": "5438906021116595671",
          "rule": "metadsl_core.numpy_engine.ndarray_add"
         },
         {
          "node": "-6329062327456759953",
          "rule": "metadsl_core.numpy_engine.ndarray_getitem"
         },
         {
          "label": "execute",
          "node": "-6329062327456759953",
          "rule": ""
         }
        ]
       }
      },
      "text/plain": [
       "Typez(definitions=None, nodes=[PrimitiveNode(id='2826150730839618930', type='int', repr='100'), PrimitiveNode(id='74627363753923008', type='int', repr='5'), CallNode(id='4334666432044097486', function='arange', type_params=None, args=['2826150730839618930'], kwargs=None), CallNode(id='-5451433778925814823', function='NDArrayCompat.__add__', type_params=None, args=['4334666432044097486', '4334666432044097486'], kwargs=None), CallNode(id='-3654589126896044216', function='NDArrayCompat.__getitem__', type_params=None, args=['-5451433778925814823', '74627363753923008'], kwargs=None), CallNode(id='-4006809763795812991', function='NDArrayCompat.to_ndarray', type_params=None, args=['-3654589126896044216'], kwargs=None), PrimitiveNode(id='5466943891781263114', type='Infer', repr='arange_'), CallNode(id='-1268483836564972973', function='Converter.convert', type_params={'T': DeclaredTypeInstance(type='Integer', params=None)}, args=['2826150730839618930'], kwargs=None), CallNode(id='-3235598987296499286', function='Abstraction.from_fn', type_params=None, args=['5466943891781263114'], kwargs=None), CallNode(id='-8460312764196435109', function='Maybe.map', type_params={'T': DeclaredTypeInstance(type='Integer', params=None)}, args=['-1268483836564972973', '-3235598987296499286'], kwargs=None), CallNode(id='2054096632475985220', function='NDArrayCompat.from_ndarray', type_params=None, args=['-8460312764196435109'], kwargs=None), CallNode(id='4001830451447226948', function='NDArrayCompat.__add__', type_params=None, args=['2054096632475985220', '2054096632475985220'], kwargs=None), CallNode(id='6312611956289242140', function='NDArrayCompat.__getitem__', type_params=None, args=['4001830451447226948', '74627363753923008'], kwargs=None), CallNode(id='-3202461150888573559', function='NDArrayCompat.to_ndarray', type_params=None, args=['6312611956289242140'], kwargs=None), CallNode(id='-1060229783844073802', function='Integer.from_int', type_params=None, args=['2826150730839618930'], kwargs=None), CallNode(id='5244038888244487127', function='Maybe.just', type_params=None, args=['-1060229783844073802'], kwargs=None), CallNode(id='-6575371619518402299', function='Maybe.map', type_params={'T': DeclaredTypeInstance(type='Integer', params=None)}, args=['5244038888244487127', '-3235598987296499286'], kwargs=None), CallNode(id='8910379968468538916', function='NDArrayCompat.from_ndarray', type_params=None, args=['-6575371619518402299'], kwargs=None), CallNode(id='3067769900116173062', function='NDArrayCompat.__add__', type_params=None, args=['8910379968468538916', '8910379968468538916'], kwargs=None), CallNode(id='-8293150841884712307', function='NDArrayCompat.__getitem__', type_params=None, args=['3067769900116173062', '74627363753923008'], kwargs=None), CallNode(id='-3753584583687244436', function='NDArrayCompat.to_ndarray', type_params=None, args=['-8293150841884712307'], kwargs=None), PrimitiveNode(id='-1876267228780380200', type='FunctionReplaceTyping', repr='FunctionReplaceTyping(fn=<function NDArrayCompat.__getitem__.<locals>.<lambda> at 0x7f9a08de3670>, typevars=HashableMapping(_items=()), typevars_in_scope=frozenset({~T, ~U}), inner_mapping=ReplaceTypevarsExpression(typevars=HashableMapping(_items=())))'), CallNode(id='183710255350735291', function='Converter.convert', type_params={'T': DeclaredTypeInstance(type='Either', params={'U': DeclaredTypeInstance(type='Vec', params={'T': DeclaredTypeInstance(type='Integer', params=None)}), 'T': DeclaredTypeInstance(type='Integer', params=None)})}, args=['74627363753923008'], kwargs=None), CallNode(id='4715260214153877452', function='Abstraction.from_fn', type_params={'U': DeclaredTypeInstance(type='NDArray', params=None), 'T': DeclaredTypeInstance(type='Pair', params={'U': DeclaredTypeInstance(type='Either', params={'U': DeclaredTypeInstance(type='Vec', params={'T': DeclaredTypeInstance(type='Integer', params=None)}), 'T': DeclaredTypeInstance(type='Integer', params=None)}), 'T': DeclaredTypeInstance(type='NDArray', params=None)})}, args=['-1876267228780380200'], kwargs=None), CallNode(id='6554604528653822481', function='Converter.convert', type_params={'T': DeclaredTypeInstance(type='NDArray', params=None)}, args=['3067769900116173062'], kwargs=None), CallNode(id='-1250964469931568955', function='Maybe.__and__', type_params={'T': DeclaredTypeInstance(type='NDArray', params=None)}, args=['6554604528653822481', '183710255350735291'], kwargs=None), CallNode(id='4153024009366861438', function='Maybe.map', type_params={'T': DeclaredTypeInstance(type='Pair', params={'U': DeclaredTypeInstance(type='Either', params={'U': DeclaredTypeInstance(type='Vec', params={'T': DeclaredTypeInstance(type='Integer', params=None)}), 'T': DeclaredTypeInstance(type='Integer', params=None)}), 'T': DeclaredTypeInstance(type='NDArray', params=None)})}, args=['-1250964469931568955', '4715260214153877452'], kwargs=None), CallNode(id='8780514892974656564', function='NDArrayCompat.from_ndarray', type_params=None, args=['4153024009366861438'], kwargs=None), CallNode(id='5547600208780802179', function='NDArrayCompat.to_ndarray', type_params=None, args=['8780514892974656564'], kwargs=None), PrimitiveNode(id='-6055780641493375283', type='BoundInfer', repr='Either.left'), PrimitiveNode(id='-7218107115001118553', type='BoundInfer', repr='Either.right'), CallNode(id='-83960028438505675', function='Converter.convert', type_params={'T': DeclaredTypeInstance(type='Integer', params=None)}, args=['74627363753923008'], kwargs=None), CallNode(id='-2587848750163407994', function='Converter.convert', type_params={'T': DeclaredTypeInstance(type='Vec', params={'T': DeclaredTypeInstance(type='Integer', params=None)})}, args=['74627363753923008'], kwargs=None), CallNode(id='1738858000031346750', function='Abstraction.from_fn', type_params=None, args=['-6055780641493375283'], kwargs=None), CallNode(id='-8072727974964254936', function='Abstraction.from_fn', type_params=None, args=['-7218107115001118553'], kwargs=None), CallNode(id='5321959325120338942', function='Maybe.map', type_params={'T': DeclaredTypeInstance(type='Integer', params=None)}, args=['-83960028438505675', '1738858000031346750'], kwargs=None), CallNode(id='1756446271584825612', function='Maybe.map', type_params={'T': DeclaredTypeInstance(type='Vec', params={'T': DeclaredTypeInstance(type='Integer', params=None)})}, args=['-2587848750163407994', '-8072727974964254936'], kwargs=None), CallNode(id='-3034253720372951427', function='Maybe.__or__', type_params={'T': DeclaredTypeInstance(type='Either', params={'U': DeclaredTypeInstance(type='Vec', params={'T': DeclaredTypeInstance(type='Integer', params=None)}), 'T': DeclaredTypeInstance(type='Integer', params=None)})}, args=['5321959325120338942', '1756446271584825612'], kwargs=None), CallNode(id='1100680204733807586', function='Maybe.__and__', type_params={'T': DeclaredTypeInstance(type='NDArray', params=None)}, args=['6554604528653822481', '-3034253720372951427'], kwargs=None), CallNode(id='-8743674226860641715', function='Maybe.map', type_params={'T': DeclaredTypeInstance(type='Pair', params={'U': DeclaredTypeInstance(type='Either', params={'U': DeclaredTypeInstance(type='Vec', params={'T': DeclaredTypeInstance(type='Integer', params=None)}), 'T': DeclaredTypeInstance(type='Integer', params=None)}), 'T': DeclaredTypeInstance(type='NDArray', params=None)})}, args=['1100680204733807586', '4715260214153877452'], kwargs=None), CallNode(id='8743673200435392513', function='NDArrayCompat.from_ndarray', type_params=None, args=['-8743674226860641715'], kwargs=None), CallNode(id='6480541105528249286', function='NDArrayCompat.to_ndarray', type_params=None, args=['8743673200435392513'], kwargs=None), CallNode(id='7126651426372720159', function='Integer.from_int', type_params=None, args=['74627363753923008'], kwargs=None), CallNode(id='-8143593206559625754', function='Maybe.just', type_params=None, args=['7126651426372720159'], kwargs=None), CallNode(id='-4718177885023625612', function='Maybe.map', type_params={'T': DeclaredTypeInstance(type='Integer', params=None)}, args=['-8143593206559625754', '1738858000031346750'], kwargs=None), CallNode(id='-3122357703968012961', function='Maybe.__or__', type_params={'T': DeclaredTypeInstance(type='Either', params={'U': DeclaredTypeInstance(type='Vec', params={'T': DeclaredTypeInstance(type='Integer', params=None)}), 'T': DeclaredTypeInstance(type='Integer', params=None)})}, args=['-4718177885023625612', '1756446271584825612'], kwargs=None), CallNode(id='-7389107363096172910', function='Maybe.__and__', type_params={'T': DeclaredTypeInstance(type='NDArray', params=None)}, args=['6554604528653822481', '-3122357703968012961'], kwargs=None), CallNode(id='5264317725624011545', function='Maybe.map', type_params={'T': DeclaredTypeInstance(type='Pair', params={'U': DeclaredTypeInstance(type='Either', params={'U': DeclaredTypeInstance(type='Vec', params={'T': DeclaredTypeInstance(type='Integer', params=None)}), 'T': DeclaredTypeInstance(type='Integer', params=None)}), 'T': DeclaredTypeInstance(type='NDArray', params=None)})}, args=['-7389107363096172910', '4715260214153877452'], kwargs=None), CallNode(id='-7412189505771224501', function='NDArrayCompat.from_ndarray', type_params=None, args=['5264317725624011545'], kwargs=None), CallNode(id='2599067455745913840', function='NDArrayCompat.to_ndarray', type_params=None, args=['-7412189505771224501'], kwargs=None), PrimitiveNode(id='3911078862031353820', type='Variable', repr='0x7f9a092df400'), CallNode(id='-5661643742434817814', function='Abstraction.create_variable', type_params={'U': DeclaredTypeInstance(type='NDArray', params=None), 'T': DeclaredTypeInstance(type='Integer', params=None)}, args=['3911078862031353820'], kwargs=None), CallNode(id='1489371015219726606', function='arange_', type_params=None, args=['-5661643742434817814'], kwargs=None), CallNode(id='7722651415448856216', function='Abstraction.create', type_params={'U': DeclaredTypeInstance(type='NDArray', params=None), 'T': DeclaredTypeInstance(type='Integer', params=None)}, args=['-5661643742434817814', '1489371015219726606'], kwargs=None), CallNode(id='1889588038830879081', function='Maybe.map', type_params={'T': DeclaredTypeInstance(type='Integer', params=None)}, args=['5244038888244487127', '7722651415448856216'], kwargs=None), CallNode(id='6755927943984145460', function='NDArrayCompat.from_ndarray', type_params=None, args=['1889588038830879081'], kwargs=None), CallNode(id='4375644828217726248', function='NDArrayCompat.__add__', type_params=None, args=['6755927943984145460', '6755927943984145460'], kwargs=None), CallNode(id='-4015428944852416953', function='Converter.convert', type_params={'T': DeclaredTypeInstance(type='NDArray', params=None)}, args=['4375644828217726248'], kwargs=None), CallNode(id='1677432959387255240', function='Maybe.__and__', type_params={'T': DeclaredTypeInstance(type='NDArray', params=None)}, args=['-4015428944852416953', '-3122357703968012961'], kwargs=None), CallNode(id='4653768550165046388', function='Maybe.map', type_params={'T': DeclaredTypeInstance(type='Pair', params={'U': DeclaredTypeInstance(type='Either', params={'U': DeclaredTypeInstance(type='Vec', params={'T': DeclaredTypeInstance(type='Integer', params=None)}), 'T': DeclaredTypeInstance(type='Integer', params=None)}), 'T': DeclaredTypeInstance(type='NDArray', params=None)})}, args=['1677432959387255240', '4715260214153877452'], kwargs=None), CallNode(id='-4192190185508300604', function='NDArrayCompat.from_ndarray', type_params=None, args=['4653768550165046388'], kwargs=None), CallNode(id='8666122484870562737', function='NDArrayCompat.to_ndarray', type_params=None, args=['-4192190185508300604'], kwargs=None), PrimitiveNode(id='645137309663866451', type='Variable', repr='0x7f9a092dc5b0'), CallNode(id='734253285914756304', function='Abstraction.create_variable', type_params={'U': DeclaredTypeInstance(type='Either', params={'U': DeclaredTypeInstance(type='Vec', params={'T': DeclaredTypeInstance(type='Integer', params=None)}), 'T': DeclaredTypeInstance(type='Integer', params=None)}), 'T': DeclaredTypeInstance(type='Integer', params=None)}, args=['645137309663866451'], kwargs=None), CallNode(id='6782733044859400313', function='Either.left', type_params={'U': DeclaredTypeInstance(type='Vec', params={'T': DeclaredTypeInstance(type='Integer', params=None)}), 'T': DeclaredTypeInstance(type='Integer', params=None)}, args=['734253285914756304'], kwargs=None), CallNode(id='-4121483985547309152', function='Abstraction.create', type_params={'U': DeclaredTypeInstance(type='Either', params={'U': DeclaredTypeInstance(type='Vec', params={'T': DeclaredTypeInstance(type='Integer', params=None)}), 'T': DeclaredTypeInstance(type='Integer', params=None)}), 'T': DeclaredTypeInstance(type='Integer', params=None)}, args=['734253285914756304', '6782733044859400313'], kwargs=None), CallNode(id='-5819357185461227563', function='Maybe.map', type_params={'T': DeclaredTypeInstance(type='Integer', params=None)}, args=['-8143593206559625754', '-4121483985547309152'], kwargs=None), CallNode(id='5147711296861671075', function='Maybe.__or__', type_params={'T': DeclaredTypeInstance(type='Either', params={'U': DeclaredTypeInstance(type='Vec', params={'T': DeclaredTypeInstance(type='Integer', params=None)}), 'T': DeclaredTypeInstance(type='Integer', params=None)})}, args=['-5819357185461227563', '1756446271584825612'], kwargs=None), CallNode(id='-6803017313374735863', function='Maybe.__and__', type_params={'T': DeclaredTypeInstance(type='NDArray', params=None)}, args=['-4015428944852416953', '5147711296861671075'], kwargs=None), CallNode(id='-2071153123937211307', function='Maybe.map', type_params={'T': DeclaredTypeInstance(type='Pair', params={'U': DeclaredTypeInstance(type='Either', params={'U': DeclaredTypeInstance(type='Vec', params={'T': DeclaredTypeInstance(type='Integer', params=None)}), 'T': DeclaredTypeInstance(type='Integer', params=None)}), 'T': DeclaredTypeInstance(type='NDArray', params=None)})}, args=['-6803017313374735863', '4715260214153877452'], kwargs=None), CallNode(id='-1022028206077360048', function='NDArrayCompat.from_ndarray', type_params=None, args=['-2071153123937211307'], kwargs=None), CallNode(id='-2721698836113764418', function='NDArrayCompat.to_ndarray', type_params=None, args=['-1022028206077360048'], kwargs=None), PrimitiveNode(id='-3776127673770369615', type='Variable', repr='0x7f9a092ead90'), CallNode(id='-5851332509529825314', function='Abstraction.create_variable', type_params={'U': DeclaredTypeInstance(type='Either', params={'U': DeclaredTypeInstance(type='Vec', params={'T': DeclaredTypeInstance(type='Integer', params=None)}), 'T': DeclaredTypeInstance(type='Integer', params=None)}), 'T': DeclaredTypeInstance(type='Vec', params={'T': DeclaredTypeInstance(type='Integer', params=None)})}, args=['-3776127673770369615'], kwargs=None), CallNode(id='1004118043487685763', function='Either.right', type_params={'U': DeclaredTypeInstance(type='Vec', params={'T': DeclaredTypeInstance(type='Integer', params=None)}), 'T': DeclaredTypeInstance(type='Integer', params=None)}, args=['-5851332509529825314'], kwargs=None), CallNode(id='-7000929765806242987', function='Abstraction.create', type_params={'U': DeclaredTypeInstance(type='Either', params={'U': DeclaredTypeInstance(type='Vec', params={'T': DeclaredTypeInstance(type='Integer', params=None)}), 'T': DeclaredTypeInstance(type='Integer', params=None)}), 'T': DeclaredTypeInstance(type='Vec', params={'T': DeclaredTypeInstance(type='Integer', params=None)})}, args=['-5851332509529825314', '1004118043487685763'], kwargs=None), CallNode(id='-1361487546244586342', function='Maybe.map', type_params={'T': DeclaredTypeInstance(type='Vec', params={'T': DeclaredTypeInstance(type='Integer', params=None)})}, args=['-2587848750163407994', '-7000929765806242987'], kwargs=None), CallNode(id='2825234884369090441', function='Maybe.__or__', type_params={'T': DeclaredTypeInstance(type='Either', params={'U': DeclaredTypeInstance(type='Vec', params={'T': DeclaredTypeInstance(type='Integer', params=None)}), 'T': DeclaredTypeInstance(type='Integer', params=None)})}, args=['-5819357185461227563', '-1361487546244586342'], kwargs=None), CallNode(id='7392152808559755052', function='Maybe.__and__', type_params={'T': DeclaredTypeInstance(type='NDArray', params=None)}, args=['-4015428944852416953', '2825234884369090441'], kwargs=None), CallNode(id='-1309133166780876906', function='Maybe.map', type_params={'T': DeclaredTypeInstance(type='Pair', params={'U': DeclaredTypeInstance(type='Either', params={'U': DeclaredTypeInstance(type='Vec', params={'T': DeclaredTypeInstance(type='Integer', params=None)}), 'T': DeclaredTypeInstance(type='Integer', params=None)}), 'T': DeclaredTypeInstance(type='NDArray', params=None)})}, args=['7392152808559755052', '4715260214153877452'], kwargs=None), CallNode(id='2031474368545862811', function='NDArrayCompat.from_ndarray', type_params=None, args=['-1309133166780876906'], kwargs=None), CallNode(id='5540985228313524427', function='NDArrayCompat.to_ndarray', type_params=None, args=['2031474368545862811'], kwargs=None), PrimitiveNode(id='178210009302792933', type='Variable', repr='0x7f9a092e8400'), CallNode(id='-5535421603693373903', function='Abstraction.create_variable', type_params={'U': DeclaredTypeInstance(type='NDArray', params=None), 'T': DeclaredTypeInstance(type='Pair', params={'U': DeclaredTypeInstance(type='Either', params={'U': DeclaredTypeInstance(type='Vec', params={'T': DeclaredTypeInstance(type='Integer', params=None)}), 'T': DeclaredTypeInstance(type='Integer', params=None)}), 'T': DeclaredTypeInstance(type='NDArray', params=None)})}, args=['178210009302792933'], kwargs=None), CallNode(id='-8477977919797702745', function='Pair.left', type_params={'U': DeclaredTypeInstance(type='Either', params={'U': DeclaredTypeInstance(type='Vec', params={'T': DeclaredTypeInstance(type='Integer', params=None)}), 'T': DeclaredTypeInstance(type='Integer', params=None)}), 'T': DeclaredTypeInstance(type='NDArray', params=None)}, args=['-5535421603693373903'], kwargs=None), CallNode(id='3712253345013308344', function='Pair.right', type_params={'U': DeclaredTypeInstance(type='Either', params={'U': DeclaredTypeInstance(type='Vec', params={'T': DeclaredTypeInstance(type='Integer', params=None)}), 'T': DeclaredTypeInstance(type='Integer', params=None)}), 'T': DeclaredTypeInstance(type='NDArray', params=None)}, args=['-5535421603693373903'], kwargs=None), CallNode(id='-1825075280468984453', function='NDArray.__getitem__', type_params=None, args=['-8477977919797702745', '3712253345013308344'], kwargs=None), CallNode(id='-5366332236860573442', function='Abstraction.create', type_params={'U': DeclaredTypeInstance(type='NDArray', params=None), 'T': DeclaredTypeInstance(type='Pair', params={'U': DeclaredTypeInstance(type='Either', params={'U': DeclaredTypeInstance(type='Vec', params={'T': DeclaredTypeInstance(type='Integer', params=None)}), 'T': DeclaredTypeInstance(type='Integer', params=None)}), 'T': DeclaredTypeInstance(type='NDArray', params=None)})}, args=['-5535421603693373903', '-1825075280468984453'], kwargs=None), CallNode(id='-2677823134612060399', function='Maybe.map', type_params={'T': DeclaredTypeInstance(type='Pair', params={'U': DeclaredTypeInstance(type='Either', params={'U': DeclaredTypeInstance(type='Vec', params={'T': DeclaredTypeInstance(type='Integer', params=None)}), 'T': DeclaredTypeInstance(type='Integer', params=None)}), 'T': DeclaredTypeInstance(type='NDArray', params=None)})}, args=['7392152808559755052', '-5366332236860573442'], kwargs=None), CallNode(id='-6917943184969778375', function='NDArrayCompat.from_ndarray', type_params=None, args=['-2677823134612060399'], kwargs=None), CallNode(id='-6124345705161085734', function='NDArrayCompat.to_ndarray', type_params=None, args=['-6917943184969778375'], kwargs=None), CallNode(id='-2958785375455268643', function='Maybe.nothing', type_params={'T': DeclaredTypeInstance(type='NDArray', params=None)}, args=None, kwargs=None), PrimitiveNode(id='-190740728965243028', type='BoundInfer', repr='Maybe.just'), CallNode(id='-6103049929195058089', function='Abstraction.from_fn', type_params=None, args=['-190740728965243028'], kwargs=None), CallNode(id='-7782244627348555212', function='Abstraction.__add__', type_params={'U': DeclaredTypeInstance(type='Maybe', params={'T': DeclaredTypeInstance(type='NDArray', params=None)}), 'T': DeclaredTypeInstance(type='NDArray', params=None)}, args=['-6103049929195058089', '7722651415448856216'], kwargs=None), CallNode(id='-5731004695065585286', function='Maybe.match', type_params={'T': DeclaredTypeInstance(type='Integer', params=None)}, args=['5244038888244487127', '-2958785375455268643', '-7782244627348555212'], kwargs=None), CallNode(id='7942508340766388769', function='NDArrayCompat.from_ndarray', type_params=None, args=['-5731004695065585286'], kwargs=None), CallNode(id='-2961264047012043030', function='NDArrayCompat.__add__', type_params=None, args=['7942508340766388769', '7942508340766388769'], kwargs=None), CallNode(id='-441934897395332740', function='Converter.convert', type_params={'T': DeclaredTypeInstance(type='NDArray', params=None)}, args=['-2961264047012043030'], kwargs=None), CallNode(id='-5618572213047707019', function='Maybe.__and__', type_params={'T': DeclaredTypeInstance(type='NDArray', params=None)}, args=['-441934897395332740', '2825234884369090441'], kwargs=None), CallNode(id='-3101197164559710842', function='Maybe.map', type_params={'T': DeclaredTypeInstance(type='Pair', params={'U': DeclaredTypeInstance(type='Either', params={'U': DeclaredTypeInstance(type='Vec', params={'T': DeclaredTypeInstance(type='Integer', params=None)}), 'T': DeclaredTypeInstance(type='Integer', params=None)}), 'T': DeclaredTypeInstance(type='NDArray', params=None)})}, args=['-5618572213047707019', '-5366332236860573442'], kwargs=None), CallNode(id='-5394955188731900571', function='NDArrayCompat.from_ndarray', type_params=None, args=['-3101197164559710842'], kwargs=None), CallNode(id='7831013155088472224', function='NDArrayCompat.to_ndarray', type_params=None, args=['-5394955188731900571'], kwargs=None), CallNode(id='-3929965295117828268', function='Maybe.nothing', type_params={'T': DeclaredTypeInstance(type='Either', params={'U': DeclaredTypeInstance(type='Vec', params={'T': DeclaredTypeInstance(type='Integer', params=None)}), 'T': DeclaredTypeInstance(type='Integer', params=None)})}, args=None, kwargs=None), PrimitiveNode(id='2340429345748431821', type='BoundInfer', repr='Maybe.just'), CallNode(id='3760381120374970453', function='Abstraction.from_fn', type_params=None, args=['2340429345748431821'], kwargs=None), CallNode(id='-3968027842838148800', function='Abstraction.__add__', type_params={'U': DeclaredTypeInstance(type='Maybe', params={'T': DeclaredTypeInstance(type='Either', params={'U': DeclaredTypeInstance(type='Vec', params={'T': DeclaredTypeInstance(type='Integer', params=None)}), 'T': DeclaredTypeInstance(type='Integer', params=None)})}), 'T': DeclaredTypeInstance(type='Either', params={'U': DeclaredTypeInstance(type='Vec', params={'T': DeclaredTypeInstance(type='Integer', params=None)}), 'T': DeclaredTypeInstance(type='Integer', params=None)})}, args=['3760381120374970453', '-4121483985547309152'], kwargs=None), CallNode(id='-7509590420245603746', function='Maybe.match', type_params={'T': DeclaredTypeInstance(type='Integer', params=None)}, args=['-8143593206559625754', '-3929965295117828268', '-3968027842838148800'], kwargs=None), CallNode(id='8870526268745776452', function='Maybe.__or__', type_params={'T': DeclaredTypeInstance(type='Either', params={'U': DeclaredTypeInstance(type='Vec', params={'T': DeclaredTypeInstance(type='Integer', params=None)}), 'T': DeclaredTypeInstance(type='Integer', params=None)})}, args=['-7509590420245603746', '-1361487546244586342'], kwargs=None), CallNode(id='-7721380303692440242', function='Maybe.__and__', type_params={'T': DeclaredTypeInstance(type='NDArray', params=None)}, args=['-441934897395332740', '8870526268745776452'], kwargs=None), CallNode(id='2858479682883018328', function='Maybe.map', type_params={'T': DeclaredTypeInstance(type='Pair', params={'U': DeclaredTypeInstance(type='Either', params={'U': DeclaredTypeInstance(type='Vec', params={'T': DeclaredTypeInstance(type='Integer', params=None)}), 'T': DeclaredTypeInstance(type='Integer', params=None)}), 'T': DeclaredTypeInstance(type='NDArray', params=None)})}, args=['-7721380303692440242', '-5366332236860573442'], kwargs=None), CallNode(id='5395046488621191369', function='NDArrayCompat.from_ndarray', type_params=None, args=['2858479682883018328'], kwargs=None), CallNode(id='-9203637284296530574', function='NDArrayCompat.to_ndarray', type_params=None, args=['5395046488621191369'], kwargs=None), CallNode(id='-3370690058667302069', function='Abstraction.__add__', type_params={'U': DeclaredTypeInstance(type='Maybe', params={'T': DeclaredTypeInstance(type='Either', params={'U': DeclaredTypeInstance(type='Vec', params={'T': DeclaredTypeInstance(type='Integer', params=None)}), 'T': DeclaredTypeInstance(type='Integer', params=None)})}), 'T': DeclaredTypeInstance(type='Either', params={'U': DeclaredTypeInstance(type='Vec', params={'T': DeclaredTypeInstance(type='Integer', params=None)}), 'T': DeclaredTypeInstance(type='Integer', params=None)})}, args=['3760381120374970453', '-7000929765806242987'], kwargs=None), CallNode(id='-117078582528571941', function='Maybe.match', type_params={'T': DeclaredTypeInstance(type='Vec', params={'T': DeclaredTypeInstance(type='Integer', params=None)})}, args=['-2587848750163407994', '-3929965295117828268', '-3370690058667302069'], kwargs=None), CallNode(id='-6793544395840833809', function='Maybe.__or__', type_params={'T': DeclaredTypeInstance(type='Either', params={'U': DeclaredTypeInstance(type='Vec', params={'T': DeclaredTypeInstance(type='Integer', params=None)}), 'T': DeclaredTypeInstance(type='Integer', params=None)})}, args=['-7509590420245603746', '-117078582528571941'], kwargs=None), CallNode(id='7585758355209257328', function='Maybe.__and__', type_params={'T': DeclaredTypeInstance(type='NDArray', params=None)}, args=['-441934897395332740', '-6793544395840833809'], kwargs=None), CallNode(id='1645463196064105925', function='Maybe.map', type_params={'T': DeclaredTypeInstance(type='Pair', params={'U': DeclaredTypeInstance(type='Either', params={'U': DeclaredTypeInstance(type='Vec', params={'T': DeclaredTypeInstance(type='Integer', params=None)}), 'T': DeclaredTypeInstance(type='Integer', params=None)}), 'T': DeclaredTypeInstance(type='NDArray', params=None)})}, args=['7585758355209257328', '-5366332236860573442'], kwargs=None), CallNode(id='-1338078124264783724', function='NDArrayCompat.from_ndarray', type_params=None, args=['1645463196064105925'], kwargs=None), CallNode(id='-5731559944236103040', function='NDArrayCompat.to_ndarray', type_params=None, args=['-1338078124264783724'], kwargs=None), CallNode(id='926201837020739716', function='Abstraction.__call__', type_params={'U': DeclaredTypeInstance(type='Maybe', params={'T': DeclaredTypeInstance(type='NDArray', params=None)}), 'T': DeclaredTypeInstance(type='Integer', params=None)}, args=['-7782244627348555212', '-1060229783844073802'], kwargs=None), CallNode(id='-1224724632993652072', function='NDArrayCompat.from_ndarray', type_params=None, args=['926201837020739716'], kwargs=None), CallNode(id='-4180641419965332112', function='NDArrayCompat.__add__', type_params=None, args=['-1224724632993652072', '-1224724632993652072'], kwargs=None), CallNode(id='5329130293523754924', function='Converter.convert', type_params={'T': DeclaredTypeInstance(type='NDArray', params=None)}, args=['-4180641419965332112'], kwargs=None), CallNode(id='-6209333323421288185', function='Maybe.__and__', type_params={'T': DeclaredTypeInstance(type='NDArray', params=None)}, args=['5329130293523754924', '-6793544395840833809'], kwargs=None), CallNode(id='6080696059080796288', function='Maybe.map', type_params={'T': DeclaredTypeInstance(type='Pair', params={'U': DeclaredTypeInstance(type='Either', params={'U': DeclaredTypeInstance(type='Vec', params={'T': DeclaredTypeInstance(type='Integer', params=None)}), 'T': DeclaredTypeInstance(type='Integer', params=None)}), 'T': DeclaredTypeInstance(type='NDArray', params=None)})}, args=['-6209333323421288185', '-5366332236860573442'], kwargs=None), CallNode(id='-7966678657997180518', function='NDArrayCompat.from_ndarray', type_params=None, args=['6080696059080796288'], kwargs=None), CallNode(id='8149346873566382501', function='NDArrayCompat.to_ndarray', type_params=None, args=['-7966678657997180518'], kwargs=None), CallNode(id='6038989445392812466', function='Abstraction.__call__', type_params={'U': DeclaredTypeInstance(type='Maybe', params={'T': DeclaredTypeInstance(type='Either', params={'U': DeclaredTypeInstance(type='Vec', params={'T': DeclaredTypeInstance(type='Integer', params=None)}), 'T': DeclaredTypeInstance(type='Integer', params=None)})}), 'T': DeclaredTypeInstance(type='Integer', params=None)}, args=['-3968027842838148800', '7126651426372720159'], kwargs=None), CallNode(id='2936021328019873247', function='Maybe.__or__', type_params={'T': DeclaredTypeInstance(type='Either', params={'U': DeclaredTypeInstance(type='Vec', params={'T': DeclaredTypeInstance(type='Integer', params=None)}), 'T': DeclaredTypeInstance(type='Integer', params=None)})}, args=['6038989445392812466', '-117078582528571941'], kwargs=None), CallNode(id='-5384242152782301778', function='Maybe.__and__', type_params={'T': DeclaredTypeInstance(type='NDArray', params=None)}, args=['5329130293523754924', '2936021328019873247'], kwargs=None), CallNode(id='-12624590562916026', function='Maybe.map', type_params={'T': DeclaredTypeInstance(type='Pair', params={'U': DeclaredTypeInstance(type='Either', params={'U': DeclaredTypeInstance(type='Vec', params={'T': DeclaredTypeInstance(type='Integer', params=None)}), 'T': DeclaredTypeInstance(type='Integer', params=None)}), 'T': DeclaredTypeInstance(type='NDArray', params=None)})}, args=['-5384242152782301778', '-5366332236860573442'], kwargs=None), CallNode(id='-9078859422894698082', function='NDArrayCompat.from_ndarray', type_params=None, args=['-12624590562916026'], kwargs=None), CallNode(id='7845859725254450431', function='NDArrayCompat.to_ndarray', type_params=None, args=['-9078859422894698082'], kwargs=None), CallNode(id='-1734078499040617625', function='Abstraction.__add__', type_params={'U': DeclaredTypeInstance(type='Maybe', params={'T': DeclaredTypeInstance(type='NDArray', params=None)}), 'T': DeclaredTypeInstance(type='NDArray', params=None)}, args=['-6103049929195058089', '-5366332236860573442'], kwargs=None), CallNode(id='-3720671490844115310', function='Maybe.match', type_params={'T': DeclaredTypeInstance(type='Pair', params={'U': DeclaredTypeInstance(type='Either', params={'U': DeclaredTypeInstance(type='Vec', params={'T': DeclaredTypeInstance(type='Integer', params=None)}), 'T': DeclaredTypeInstance(type='Integer', params=None)}), 'T': DeclaredTypeInstance(type='NDArray', params=None)})}, args=['-5384242152782301778', '-2958785375455268643', '-1734078499040617625'], kwargs=None), CallNode(id='-8905794823185042296', function='NDArrayCompat.from_ndarray', type_params=None, args=['-3720671490844115310'], kwargs=None), CallNode(id='-5669686809231173488', function='NDArrayCompat.to_ndarray', type_params=None, args=['-8905794823185042296'], kwargs=None), PrimitiveNode(id='-816004170768301625', type='Variable', repr='0x7f9a09349850'), CallNode(id='3859334058382874042', function='Abstraction.create_variable', type_params={'U': DeclaredTypeInstance(type='Maybe', params={'T': DeclaredTypeInstance(type='NDArray', params=None)}), 'T': DeclaredTypeInstance(type='NDArray', params=None)}, args=['-816004170768301625'], kwargs=None), CallNode(id='1936204515032647063', function='Maybe.just', type_params={'T': DeclaredTypeInstance(type='NDArray', params=None)}, args=['3859334058382874042'], kwargs=None), CallNode(id='8098544925721198369', function='Abstraction.create', type_params={'U': DeclaredTypeInstance(type='Maybe', params={'T': DeclaredTypeInstance(type='NDArray', params=None)}), 'T': DeclaredTypeInstance(type='NDArray', params=None)}, args=['3859334058382874042', '1936204515032647063'], kwargs=None), CallNode(id='-8722410197768975324', function='Abstraction.__add__', type_params={'U': DeclaredTypeInstance(type='Maybe', params={'T': DeclaredTypeInstance(type='NDArray', params=None)}), 'T': DeclaredTypeInstance(type='NDArray', params=None)}, args=['8098544925721198369', '7722651415448856216'], kwargs=None), CallNode(id='5556510896569652742', function='Abstraction.__call__', type_params={'U': DeclaredTypeInstance(type='Maybe', params={'T': DeclaredTypeInstance(type='NDArray', params=None)}), 'T': DeclaredTypeInstance(type='Integer', params=None)}, args=['-8722410197768975324', '-1060229783844073802'], kwargs=None), CallNode(id='-4158281664055314196', function='Abstraction.__add__', type_params={'U': DeclaredTypeInstance(type='Maybe', params={'T': DeclaredTypeInstance(type='NDArray', params=None)}), 'T': DeclaredTypeInstance(type='NDArray', params=None)}, args=['8098544925721198369', '-5366332236860573442'], kwargs=None), CallNode(id='1848277141579330133', function='NDArrayCompat.from_ndarray', type_params=None, args=['5556510896569652742'], kwargs=None), CallNode(id='1986202571654665082', function='NDArrayCompat.__add__', type_params=None, args=['1848277141579330133', '1848277141579330133'], kwargs=None), CallNode(id='7457028798686760684', function='Converter.convert', type_params={'T': DeclaredTypeInstance(type='NDArray', params=None)}, args=['1986202571654665082'], kwargs=None), CallNode(id='-5196283022483929582', function='Maybe.__and__', type_params={'T': DeclaredTypeInstance(type='NDArray', params=None)}, args=['7457028798686760684', '2936021328019873247'], kwargs=None), CallNode(id='-7663903474125089756', function='Maybe.match', type_params={'T': DeclaredTypeInstance(type='Pair', params={'U': DeclaredTypeInstance(type='Either', params={'U': DeclaredTypeInstance(type='Vec', params={'T': DeclaredTypeInstance(type='Integer', params=None)}), 'T': DeclaredTypeInstance(type='Integer', params=None)}), 'T': DeclaredTypeInstance(type='NDArray', params=None)})}, args=['-5196283022483929582', '-2958785375455268643', '-4158281664055314196'], kwargs=None), CallNode(id='-4237845458906765981', function='NDArrayCompat.from_ndarray', type_params=None, args=['-7663903474125089756'], kwargs=None), CallNode(id='-1795377051656841578', function='NDArrayCompat.to_ndarray', type_params=None, args=['-4237845458906765981'], kwargs=None), PrimitiveNode(id='1755688986063023919', type='Variable', repr='0x7f9a093395e0'), CallNode(id='-3817855043577191424', function='Abstraction.create_variable', type_params={'U': DeclaredTypeInstance(type='Maybe', params={'T': DeclaredTypeInstance(type='Either', params={'U': DeclaredTypeInstance(type='Vec', params={'T': DeclaredTypeInstance(type='Integer', params=None)}), 'T': DeclaredTypeInstance(type='Integer', params=None)})}), 'T': DeclaredTypeInstance(type='Either', params={'U': DeclaredTypeInstance(type='Vec', params={'T': DeclaredTypeInstance(type='Integer', params=None)}), 'T': DeclaredTypeInstance(type='Integer', params=None)})}, args=['1755688986063023919'], kwargs=None), CallNode(id='6711956062709243281', function='Maybe.just', type_params={'T': DeclaredTypeInstance(type='Either', params={'U': DeclaredTypeInstance(type='Vec', params={'T': DeclaredTypeInstance(type='Integer', params=None)}), 'T': DeclaredTypeInstance(type='Integer', params=None)})}, args=['-3817855043577191424'], kwargs=None), CallNode(id='-860946558015439790', function='Abstraction.create', type_params={'U': DeclaredTypeInstance(type='Maybe', params={'T': DeclaredTypeInstance(type='Either', params={'U': DeclaredTypeInstance(type='Vec', params={'T': DeclaredTypeInstance(type='Integer', params=None)}), 'T': DeclaredTypeInstance(type='Integer', params=None)})}), 'T': DeclaredTypeInstance(type='Either', params={'U': DeclaredTypeInstance(type='Vec', params={'T': DeclaredTypeInstance(type='Integer', params=None)}), 'T': DeclaredTypeInstance(type='Integer', params=None)})}, args=['-3817855043577191424', '6711956062709243281'], kwargs=None), CallNode(id='3779489936047600387', function='Abstraction.__add__', type_params={'U': DeclaredTypeInstance(type='Maybe', params={'T': DeclaredTypeInstance(type='Either', params={'U': DeclaredTypeInstance(type='Vec', params={'T': DeclaredTypeInstance(type='Integer', params=None)}), 'T': DeclaredTypeInstance(type='Integer', params=None)})}), 'T': DeclaredTypeInstance(type='Either', params={'U': DeclaredTypeInstance(type='Vec', params={'T': DeclaredTypeInstance(type='Integer', params=None)}), 'T': DeclaredTypeInstance(type='Integer', params=None)})}, args=['-860946558015439790', '-4121483985547309152'], kwargs=None), CallNode(id='-5395461455589840260', function='Abstraction.__add__', type_params={'U': DeclaredTypeInstance(type='Maybe', params={'T': DeclaredTypeInstance(type='Either', params={'U': DeclaredTypeInstance(type='Vec', params={'T': DeclaredTypeInstance(type='Integer', params=None)}), 'T': DeclaredTypeInstance(type='Integer', params=None)})}), 'T': DeclaredTypeInstance(type='Either', params={'U': DeclaredTypeInstance(type='Vec', params={'T': DeclaredTypeInstance(type='Integer', params=None)}), 'T': DeclaredTypeInstance(type='Integer', params=None)})}, args=['-860946558015439790', '-7000929765806242987'], kwargs=None), CallNode(id='-5410612171440156754', function='Abstraction.__call__', type_params={'U': DeclaredTypeInstance(type='Maybe', params={'T': DeclaredTypeInstance(type='Either', params={'U': DeclaredTypeInstance(type='Vec', params={'T': DeclaredTypeInstance(type='Integer', params=None)}), 'T': DeclaredTypeInstance(type='Integer', params=None)})}), 'T': DeclaredTypeInstance(type='Integer', params=None)}, args=['3779489936047600387', '7126651426372720159'], kwargs=None), CallNode(id='-7804353919955544064', function='Maybe.match', type_params={'T': DeclaredTypeInstance(type='Vec', params={'T': DeclaredTypeInstance(type='Integer', params=None)})}, args=['-2587848750163407994', '-3929965295117828268', '-5395461455589840260'], kwargs=None), CallNode(id='1489399782659646315', function='Maybe.__or__', type_params={'T': DeclaredTypeInstance(type='Either', params={'U': DeclaredTypeInstance(type='Vec', params={'T': DeclaredTypeInstance(type='Integer', params=None)}), 'T': DeclaredTypeInstance(type='Integer', params=None)})}, args=['-5410612171440156754', '-7804353919955544064'], kwargs=None), CallNode(id='-7520977190469062145', function='Maybe.__and__', type_params={'T': DeclaredTypeInstance(type='NDArray', params=None)}, args=['7457028798686760684', '1489399782659646315'], kwargs=None), CallNode(id='-7844900825065699803', function='Maybe.match', type_params={'T': DeclaredTypeInstance(type='Pair', params={'U': DeclaredTypeInstance(type='Either', params={'U': DeclaredTypeInstance(type='Vec', params={'T': DeclaredTypeInstance(type='Integer', params=None)}), 'T': DeclaredTypeInstance(type='Integer', params=None)}), 'T': DeclaredTypeInstance(type='NDArray', params=None)})}, args=['-7520977190469062145', '-2958785375455268643', '-4158281664055314196'], kwargs=None), CallNode(id='4267625691249863671', function='NDArrayCompat.from_ndarray', type_params=None, args=['-7844900825065699803'], kwargs=None), CallNode(id='-7012078450514189693', function='NDArrayCompat.to_ndarray', type_params=None, args=['4267625691249863671'], kwargs=None), CallNode(id='2041966847339545437', function='Maybe.just', type_params={'T': DeclaredTypeInstance(type='NDArray', params=None)}, args=['1489371015219726606'], kwargs=None), CallNode(id='-8261893049480089926', function='Abstraction.create', type_params=None, args=['-5661643742434817814', '2041966847339545437'], kwargs=None), CallNode(id='-1814846143299982361', function='Abstraction.__call__', type_params={'U': DeclaredTypeInstance(type='Maybe', params={'T': DeclaredTypeInstance(type='NDArray', params=None)}), 'T': DeclaredTypeInstance(type='Integer', params=None)}, args=['-8261893049480089926', '-1060229783844073802'], kwargs=None), CallNode(id='6483803998663974423', function='NDArrayCompat.from_ndarray', type_params=None, args=['-1814846143299982361'], kwargs=None), CallNode(id='-9108276040706845297', function='NDArrayCompat.__add__', type_params=None, args=['6483803998663974423', '6483803998663974423'], kwargs=None), CallNode(id='-1474596354069714045', function='Converter.convert', type_params={'T': DeclaredTypeInstance(type='NDArray', params=None)}, args=['-9108276040706845297'], kwargs=None), CallNode(id='1186900668583848688', function='Maybe.__and__', type_params={'T': DeclaredTypeInstance(type='NDArray', params=None)}, args=['-1474596354069714045', '1489399782659646315'], kwargs=None), CallNode(id='-8127083506556818927', function='Maybe.match', type_params={'T': DeclaredTypeInstance(type='Pair', params={'U': DeclaredTypeInstance(type='Either', params={'U': DeclaredTypeInstance(type='Vec', params={'T': DeclaredTypeInstance(type='Integer', params=None)}), 'T': DeclaredTypeInstance(type='Integer', params=None)}), 'T': DeclaredTypeInstance(type='NDArray', params=None)})}, args=['1186900668583848688', '-2958785375455268643', '-4158281664055314196'], kwargs=None), CallNode(id='-8550463234205095030', function='NDArrayCompat.from_ndarray', type_params=None, args=['-8127083506556818927'], kwargs=None), CallNode(id='8860832021727305377', function='NDArrayCompat.to_ndarray', type_params=None, args=['-8550463234205095030'], kwargs=None), CallNode(id='368972003848286226', function='Maybe.just', type_params={'T': DeclaredTypeInstance(type='Either', params={'U': DeclaredTypeInstance(type='Vec', params={'T': DeclaredTypeInstance(type='Integer', params=None)}), 'T': DeclaredTypeInstance(type='Integer', params=None)})}, args=['6782733044859400313'], kwargs=None), CallNode(id='-1991330210071026477', function='Abstraction.create', type_params=None, args=['734253285914756304', '368972003848286226'], kwargs=None), CallNode(id='2595563689261667252', function='Abstraction.__call__', type_params={'U': DeclaredTypeInstance(type='Maybe', params={'T': DeclaredTypeInstance(type='Either', params={'U': DeclaredTypeInstance(type='Vec', params={'T': DeclaredTypeInstance(type='Integer', params=None)}), 'T': DeclaredTypeInstance(type='Integer', params=None)})}), 'T': DeclaredTypeInstance(type='Integer', params=None)}, args=['-1991330210071026477', '7126651426372720159'], kwargs=None), CallNode(id='-5700435526751265304', function='Maybe.__or__', type_params={'T': DeclaredTypeInstance(type='Either', params={'U': DeclaredTypeInstance(type='Vec', params={'T': DeclaredTypeInstance(type='Integer', params=None)}), 'T': DeclaredTypeInstance(type='Integer', params=None)})}, args=['2595563689261667252', '-7804353919955544064'], kwargs=None), CallNode(id='8740993088502019492', function='Maybe.__and__', type_params={'T': DeclaredTypeInstance(type='NDArray', params=None)}, args=['-1474596354069714045', '-5700435526751265304'], kwargs=None), CallNode(id='-8444287661132754295', function='Maybe.match', type_params={'T': DeclaredTypeInstance(type='Pair', params={'U': DeclaredTypeInstance(type='Either', params={'U': DeclaredTypeInstance(type='Vec', params={'T': DeclaredTypeInstance(type='Integer', params=None)}), 'T': DeclaredTypeInstance(type='Integer', params=None)}), 'T': DeclaredTypeInstance(type='NDArray', params=None)})}, args=['8740993088502019492', '-2958785375455268643', '-4158281664055314196'], kwargs=None), CallNode(id='-1336226018468489063', function='NDArrayCompat.from_ndarray', type_params=None, args=['-8444287661132754295'], kwargs=None), CallNode(id='5335923190602446785', function='NDArrayCompat.to_ndarray', type_params=None, args=['-1336226018468489063'], kwargs=None), CallNode(id='827224781560520490', function='Maybe.just', type_params={'T': DeclaredTypeInstance(type='Either', params={'U': DeclaredTypeInstance(type='Vec', params={'T': DeclaredTypeInstance(type='Integer', params=None)}), 'T': DeclaredTypeInstance(type='Integer', params=None)})}, args=['1004118043487685763'], kwargs=None), CallNode(id='3437576116375030155', function='Abstraction.create', type_params=None, args=['-5851332509529825314', '827224781560520490'], kwargs=None), CallNode(id='-8666308771946942743', function='Maybe.match', type_params={'T': DeclaredTypeInstance(type='Vec', params={'T': DeclaredTypeInstance(type='Integer', params=None)})}, args=['-2587848750163407994', '-3929965295117828268', '3437576116375030155'], kwargs=None), CallNode(id='-1684363646099013730', function='Maybe.__or__', type_params={'T': DeclaredTypeInstance(type='Either', params={'U': DeclaredTypeInstance(type='Vec', params={'T': DeclaredTypeInstance(type='Integer', params=None)}), 'T': DeclaredTypeInstance(type='Integer', params=None)})}, args=['2595563689261667252', '-8666308771946942743'], kwargs=None), CallNode(id='-3817981551869321929', function='Maybe.__and__', type_params={'T': DeclaredTypeInstance(type='NDArray', params=None)}, args=['-1474596354069714045', '-1684363646099013730'], kwargs=None), CallNode(id='2169861275658812650', function='Maybe.match', type_params={'T': DeclaredTypeInstance(type='Pair', params={'U': DeclaredTypeInstance(type='Either', params={'U': DeclaredTypeInstance(type='Vec', params={'T': DeclaredTypeInstance(type='Integer', params=None)}), 'T': DeclaredTypeInstance(type='Integer', params=None)}), 'T': DeclaredTypeInstance(type='NDArray', params=None)})}, args=['-3817981551869321929', '-2958785375455268643', '-4158281664055314196'], kwargs=None), CallNode(id='-4108637904960356359', function='NDArrayCompat.from_ndarray', type_params=None, args=['2169861275658812650'], kwargs=None), CallNode(id='4079249663426022462', function='NDArrayCompat.to_ndarray', type_params=None, args=['-4108637904960356359'], kwargs=None), CallNode(id='3502884101055097330', function='arange_', type_params=None, args=['-1060229783844073802'], kwargs=None), CallNode(id='5981319536184665692', function='Maybe.just', type_params={'T': DeclaredTypeInstance(type='NDArray', params=None)}, args=['3502884101055097330'], kwargs=None), CallNode(id='-1482503005844578115', function='NDArrayCompat.from_ndarray', type_params=None, args=['5981319536184665692'], kwargs=None), CallNode(id='768077976946695323', function='NDArrayCompat.__add__', type_params=None, args=['-1482503005844578115', '-1482503005844578115'], kwargs=None), CallNode(id='3539585437659049649', function='Converter.convert', type_params={'T': DeclaredTypeInstance(type='NDArray', params=None)}, args=['768077976946695323'], kwargs=None), CallNode(id='8359669991767457517', function='Maybe.__and__', type_params={'T': DeclaredTypeInstance(type='NDArray', params=None)}, args=['3539585437659049649', '-1684363646099013730'], kwargs=None), CallNode(id='-3845061769283700728', function='Maybe.match', type_params={'T': DeclaredTypeInstance(type='Pair', params={'U': DeclaredTypeInstance(type='Either', params={'U': DeclaredTypeInstance(type='Vec', params={'T': DeclaredTypeInstance(type='Integer', params=None)}), 'T': DeclaredTypeInstance(type='Integer', params=None)}), 'T': DeclaredTypeInstance(type='NDArray', params=None)})}, args=['8359669991767457517', '-2958785375455268643', '-4158281664055314196'], kwargs=None), CallNode(id='-3431536656041627804', function='NDArrayCompat.from_ndarray', type_params=None, args=['-3845061769283700728'], kwargs=None), CallNode(id='4647388330619199126', function='NDArrayCompat.to_ndarray', type_params=None, args=['-3431536656041627804'], kwargs=None), CallNode(id='3405549016711160068', function='Either.left', type_params={'U': DeclaredTypeInstance(type='Vec', params={'T': DeclaredTypeInstance(type='Integer', params=None)}), 'T': DeclaredTypeInstance(type='Integer', params=None)}, args=['7126651426372720159'], kwargs=None), CallNode(id='8024432380409486742', function='Maybe.just', type_params={'T': DeclaredTypeInstance(type='Either', params={'U': DeclaredTypeInstance(type='Vec', params={'T': DeclaredTypeInstance(type='Integer', params=None)}), 'T': DeclaredTypeInstance(type='Integer', params=None)})}, args=['3405549016711160068'], kwargs=None), CallNode(id='-1139943254780984625', function='Maybe.__or__', type_params={'T': DeclaredTypeInstance(type='Either', params={'U': DeclaredTypeInstance(type='Vec', params={'T': DeclaredTypeInstance(type='Integer', params=None)}), 'T': DeclaredTypeInstance(type='Integer', params=None)})}, args=['8024432380409486742', '-8666308771946942743'], kwargs=None), CallNode(id='-5193751387145450191', function='Maybe.__and__', type_params={'T': DeclaredTypeInstance(type='NDArray', params=None)}, args=['3539585437659049649', '-1139943254780984625'], kwargs=None), CallNode(id='-4887894127626293813', function='Maybe.match', type_params={'T': DeclaredTypeInstance(type='Pair', params={'U': DeclaredTypeInstance(type='Either', params={'U': DeclaredTypeInstance(type='Vec', params={'T': DeclaredTypeInstance(type='Integer', params=None)}), 'T': DeclaredTypeInstance(type='Integer', params=None)}), 'T': DeclaredTypeInstance(type='NDArray', params=None)})}, args=['-5193751387145450191', '-2958785375455268643', '-4158281664055314196'], kwargs=None), CallNode(id='6559064558189891834', function='NDArrayCompat.from_ndarray', type_params=None, args=['-4887894127626293813'], kwargs=None), CallNode(id='4769751404949219476', function='NDArrayCompat.to_ndarray', type_params=None, args=['6559064558189891834'], kwargs=None), CallNode(id='6777802822078551749', function='Maybe.just', type_params={'T': DeclaredTypeInstance(type='NDArray', params=None)}, args=['-1825075280468984453'], kwargs=None), CallNode(id='2218768674675835149', function='Abstraction.create', type_params=None, args=['-5535421603693373903', '6777802822078551749'], kwargs=None), CallNode(id='-5349241039160619804', function='Maybe.match', type_params={'T': DeclaredTypeInstance(type='Pair', params={'U': DeclaredTypeInstance(type='Either', params={'U': DeclaredTypeInstance(type='Vec', params={'T': DeclaredTypeInstance(type='Integer', params=None)}), 'T': DeclaredTypeInstance(type='Integer', params=None)}), 'T': DeclaredTypeInstance(type='NDArray', params=None)})}, args=['-5193751387145450191', '-2958785375455268643', '2218768674675835149'], kwargs=None), CallNode(id='7351632599464687666', function='NDArrayCompat.from_ndarray', type_params=None, args=['-5349241039160619804'], kwargs=None), CallNode(id='-6956093127370502309', function='NDArrayCompat.to_ndarray', type_params=None, args=['7351632599464687666'], kwargs=None), CallNode(id='-6450778425968699880', function='Maybe.just', type_params=None, args=['3405549016711160068'], kwargs=None), CallNode(id='4114730221277352135', function='Maybe.__and__', type_params={'T': DeclaredTypeInstance(type='NDArray', params=None)}, args=['3539585437659049649', '-6450778425968699880'], kwargs=None), CallNode(id='4533551928979814966', function='Maybe.match', type_params={'T': DeclaredTypeInstance(type='Pair', params={'U': DeclaredTypeInstance(type='Either', params={'U': DeclaredTypeInstance(type='Vec', params={'T': DeclaredTypeInstance(type='Integer', params=None)}), 'T': DeclaredTypeInstance(type='Integer', params=None)}), 'T': DeclaredTypeInstance(type='NDArray', params=None)})}, args=['4114730221277352135', '-2958785375455268643', '2218768674675835149'], kwargs=None), CallNode(id='-4622614897330996862', function='NDArrayCompat.from_ndarray', type_params=None, args=['4533551928979814966'], kwargs=None), CallNode(id='-2612398622271502315', function='NDArrayCompat.to_ndarray', type_params=None, args=['-4622614897330996862'], kwargs=None), CallNode(id='-4347787294984776218', function='NDArray.__add__', type_params=None, args=['3502884101055097330', '3502884101055097330'], kwargs=None), CallNode(id='1835843005163307964', function='Maybe.just', type_params=None, args=['-4347787294984776218'], kwargs=None), CallNode(id='-5819300935391376726', function='NDArrayCompat.from_ndarray', type_params=None, args=['1835843005163307964'], kwargs=None), CallNode(id='5379362677060024694', function='Converter.convert', type_params={'T': DeclaredTypeInstance(type='NDArray', params=None)}, args=['-5819300935391376726'], kwargs=None), CallNode(id='-7149125959482220427', function='Maybe.__and__', type_params={'T': DeclaredTypeInstance(type='NDArray', params=None)}, args=['5379362677060024694', '-6450778425968699880'], kwargs=None), CallNode(id='-5407779657740745605', function='Maybe.match', type_params={'T': DeclaredTypeInstance(type='Pair', params={'U': DeclaredTypeInstance(type='Either', params={'U': DeclaredTypeInstance(type='Vec', params={'T': DeclaredTypeInstance(type='Integer', params=None)}), 'T': DeclaredTypeInstance(type='Integer', params=None)}), 'T': DeclaredTypeInstance(type='NDArray', params=None)})}, args=['-7149125959482220427', '-2958785375455268643', '2218768674675835149'], kwargs=None), CallNode(id='3923177582200035347', function='NDArrayCompat.from_ndarray', type_params=None, args=['-5407779657740745605'], kwargs=None), CallNode(id='8439296437609624593', function='NDArrayCompat.to_ndarray', type_params=None, args=['3923177582200035347'], kwargs=None), CallNode(id='8391795678367217151', function='Maybe.__and__', type_params={'T': DeclaredTypeInstance(type='NDArray', params=None)}, args=['1835843005163307964', '-6450778425968699880'], kwargs=None), CallNode(id='-8250857703419181462', function='Maybe.match', type_params={'T': DeclaredTypeInstance(type='Pair', params={'U': DeclaredTypeInstance(type='Either', params={'U': DeclaredTypeInstance(type='Vec', params={'T': DeclaredTypeInstance(type='Integer', params=None)}), 'T': DeclaredTypeInstance(type='Integer', params=None)}), 'T': DeclaredTypeInstance(type='NDArray', params=None)})}, args=['8391795678367217151', '-2958785375455268643', '2218768674675835149'], kwargs=None), CallNode(id='-248406969922382441', function='NDArrayCompat.from_ndarray', type_params=None, args=['-8250857703419181462'], kwargs=None), CallNode(id='8770548266972148152', function='NDArrayCompat.to_ndarray', type_params=None, args=['-248406969922382441'], kwargs=None), CallNode(id='-2290868940384272012', function='Pair.create', type_params=None, args=['-4347787294984776218', '3405549016711160068'], kwargs=None), CallNode(id='-826197801106996212', function='Maybe.just', type_params=None, args=['-2290868940384272012'], kwargs=None), CallNode(id='3132127448216453422', function='Maybe.match', type_params={'T': DeclaredTypeInstance(type='Pair', params={'U': DeclaredTypeInstance(type='Either', params={'U': DeclaredTypeInstance(type='Vec', params={'T': DeclaredTypeInstance(type='Integer', params=None)}), 'T': DeclaredTypeInstance(type='Integer', params=None)}), 'T': DeclaredTypeInstance(type='NDArray', params=None)})}, args=['-826197801106996212', '-2958785375455268643', '2218768674675835149'], kwargs=None), CallNode(id='1960652869015262624', function='NDArrayCompat.from_ndarray', type_params=None, args=['3132127448216453422'], kwargs=None), CallNode(id='-4627731693726244800', function='NDArrayCompat.to_ndarray', type_params=None, args=['1960652869015262624'], kwargs=None), CallNode(id='-1097833044825197215', function='Abstraction.__call__', type_params={'U': DeclaredTypeInstance(type='Maybe', params={'T': DeclaredTypeInstance(type='NDArray', params=None)}), 'T': DeclaredTypeInstance(type='Pair', params={'U': DeclaredTypeInstance(type='Either', params={'U': DeclaredTypeInstance(type='Vec', params={'T': DeclaredTypeInstance(type='Integer', params=None)}), 'T': DeclaredTypeInstance(type='Integer', params=None)}), 'T': DeclaredTypeInstance(type='NDArray', params=None)})}, args=['2218768674675835149', '-2290868940384272012'], kwargs=None), CallNode(id='-2526072390013201598', function='NDArrayCompat.from_ndarray', type_params=None, args=['-1097833044825197215'], kwargs=None), CallNode(id='-5923745696728671797', function='NDArrayCompat.to_ndarray', type_params=None, args=['-2526072390013201598'], kwargs=None), CallNode(id='-9188415536727269409', function='Pair.left', type_params={'U': DeclaredTypeInstance(type='Either', params={'U': DeclaredTypeInstance(type='Vec', params={'T': DeclaredTypeInstance(type='Integer', params=None)}), 'T': DeclaredTypeInstance(type='Integer', params=None)}), 'T': DeclaredTypeInstance(type='NDArray', params=None)}, args=['-2290868940384272012'], kwargs=None), CallNode(id='3001815728083741680', function='Pair.right', type_params={'U': DeclaredTypeInstance(type='Either', params={'U': DeclaredTypeInstance(type='Vec', params={'T': DeclaredTypeInstance(type='Integer', params=None)}), 'T': DeclaredTypeInstance(type='Integer', params=None)}), 'T': DeclaredTypeInstance(type='NDArray', params=None)}, args=['-2290868940384272012'], kwargs=None), CallNode(id='7240323096178966804', function='NDArray.__getitem__', type_params=None, args=['-9188415536727269409', '3001815728083741680'], kwargs=None), CallNode(id='-3650474945266323793', function='Maybe.just', type_params={'T': DeclaredTypeInstance(type='NDArray', params=None)}, args=['7240323096178966804'], kwargs=None), CallNode(id='-6327188985520883411', function='NDArrayCompat.from_ndarray', type_params=None, args=['-3650474945266323793'], kwargs=None), CallNode(id='-8795932671470243882', function='NDArrayCompat.to_ndarray', type_params=None, args=['-6327188985520883411'], kwargs=None), CallNode(id='-4945784285653162301', function='NDArray.__getitem__', type_params=None, args=['-4347787294984776218', '3001815728083741680'], kwargs=None), CallNode(id='6426054299265824912', function='Maybe.just', type_params={'T': DeclaredTypeInstance(type='NDArray', params=None)}, args=['-4945784285653162301'], kwargs=None), CallNode(id='-6880269588909286918', function='NDArrayCompat.from_ndarray', type_params=None, args=['6426054299265824912'], kwargs=None), CallNode(id='5829854195099530885', function='NDArrayCompat.to_ndarray', type_params=None, args=['-6880269588909286918'], kwargs=None), CallNode(id='-8455388509046005642', function='NDArray.__getitem__', type_params=None, args=['-4347787294984776218', '3405549016711160068'], kwargs=None), CallNode(id='4177136090310154729', function='Maybe.just', type_params={'T': DeclaredTypeInstance(type='NDArray', params=None)}, args=['-8455388509046005642'], kwargs=None), CallNode(id='245495020555689618', function='NDArrayCompat.from_ndarray', type_params=None, args=['4177136090310154729'], kwargs=None), CallNode(id='4189624856124316535', function='NDArrayCompat.to_ndarray', type_params=None, args=['245495020555689618'], kwargs=None), CallNode(id='-6370107646987685124', function='NDArray.to_ndarray', type_params=None, args=['-8455388509046005642'], kwargs=None), CallNode(id='-75720363782473576', function='unbox_idxs', type_params=None, args=['3405549016711160068'], kwargs=None), CallNode(id='6932721126388525628', function='NDArray.to_ndarray', type_params=None, args=['-4347787294984776218'], kwargs=None), CallNode(id='-2510144336463976696', function='ndarray_getitem', type_params=None, args=['6932721126388525628', '-75720363782473576'], kwargs=None), CallNode(id='5766021968849054353', function='unbox_integer', type_params=None, args=['7126651426372720159'], kwargs=None), CallNode(id='-7814700254350767880', function='ndarray_getitem', type_params=None, args=['6932721126388525628', '5766021968849054353'], kwargs=None), CallNode(id='785343526099289176', function='ndarray_getitem', type_params=None, args=['6932721126388525628', '74627363753923008'], kwargs=None), CallNode(id='-167566818128806033', function='NDArray.to_ndarray', type_params=None, args=['3502884101055097330'], kwargs=None), CallNode(id='-8050719334662231274', function='ndarray_add', type_params=None, args=['-167566818128806033', '-167566818128806033'], kwargs=None), CallNode(id='1996208351291935186', function='ndarray_getitem', type_params=None, args=['-8050719334662231274', '74627363753923008'], kwargs=None), CallNode(id='-6339119298691241207', function='unbox_integer', type_params=None, args=['-1060229783844073802'], kwargs=None), CallNode(id='-3148203639987051990', function='arange', type_params=None, args=['-6339119298691241207'], kwargs=None), CallNode(id='3747571990108904852', function='ndarray_add', type_params=None, args=['-3148203639987051990', '-3148203639987051990'], kwargs=None), CallNode(id='-2790575131665686317', function='ndarray_getitem', type_params=None, args=['3747571990108904852', '74627363753923008'], kwargs=None), CallNode(id='-6763282119024320388', function='arange', type_params=None, args=['2826150730839618930'], kwargs=None), CallNode(id='-4672190614100226924', function='ndarray_add', type_params=None, args=['-6763282119024320388', '-6763282119024320388'], kwargs=None), CallNode(id='1588328079020448075', function='ndarray_getitem', type_params=None, args=['-4672190614100226924', '74627363753923008'], kwargs=None), PrimitiveNode(id='-6329062327456759953', type='ndarray', repr='[ 0  1  2  3  4  5  6  7  8  9 10 11 12 13 14 15 16 17 18 19 20 21 22 23\\n 24 25 26 27 28 29 30 31 32 33 34 35 36 37 38 39 40 41 42 43 44 45 46 47\\n 48 49 50 51 52 53 54 55 56 57 58 59 60 61 62 63 64 65 66 67 68 69 70 71\\n 72 73 74 75 76 77 78 79 80 81 82 83 84 85 86 87 88 89 90 91 92 93 94 95\\n 96 97 98 99]'), CallNode(id='-2934136607126413546', function='ndarray_add', type_params=None, args=['-6329062327456759953', '-6329062327456759953'], kwargs=None), CallNode(id='-6640670996244891983', function='ndarray_getitem', type_params=None, args=['-2934136607126413546', '74627363753923008'], kwargs=None), PrimitiveNode(id='1064279895228970532', type='ndarray', repr='[  0   2   4   6   8  10  12  14  16  18  20  22  24  26  28  30  32  34\\n  36  38  40  42  44  46  48  50  52  54  56  58  60  62  64  66  68  70\\n  72  74  76  78  80  82  84  86  88  90  92  94  96  98 100 102 104 106\\n 108 110 112 114 116 118 120 122 124 126 128 130 132 134 136 138 140 142\\n 144 146 148 150 152 154 156 158 160 162 164 166 168 170 172 174 176 178\\n 180 182 184 186 188 190 192 194 196 198]'), CallNode(id='5438906021116595671', function='ndarray_getitem', type_params=None, args=['1064279895228970532', '74627363753923008'], kwargs=None)], states=States(initial='-4006809763795812991', states=[State(node='-3202461150888573559', rule='metadsl_core.numpy.arange', label=None), State(node='-3753584583687244436', rule='metadsl_core.integer.convert_integer', label=None), State(node='5547600208780802179', rule='metadsl_core.numpy.NDArrayCompat.__getitem__', label=None), State(node='6480541105528249286', rule='metadsl_core.either.convert_to_either', label=None), State(node='2599067455745913840', rule='metadsl_core.integer.convert_integer', label=None), State(node='8666122484870562737', rule='metadsl_core.abstraction.Abstraction.from_fn', label=None), State(node='-2721698836113764418', rule='metadsl_core.abstraction.Abstraction.from_fn', label=None), State(node='5540985228313524427', rule='metadsl_core.abstraction.Abstraction.from_fn', label=None), State(node='-6124345705161085734', rule='metadsl_core.abstraction.Abstraction.from_fn', label=None), State(node='7831013155088472224', rule='metadsl_core.maybe.Maybe.map', label=None), State(node='-9203637284296530574', rule='metadsl_core.maybe.Maybe.map', label=None), State(node='-5731559944236103040', rule='metadsl_core.maybe.Maybe.map', label=None), State(node='8149346873566382501', rule='metadsl_core.maybe.maybe_match', label=None), State(node='7845859725254450431', rule='metadsl_core.maybe.maybe_match', label=None), State(node='-5669686809231173488', rule='metadsl_core.maybe.Maybe.map', label=None), State(node='-1795377051656841578', rule='metadsl_core.abstraction.Abstraction.from_fn', label=None), State(node='-7012078450514189693', rule='metadsl_core.abstraction.Abstraction.from_fn', label=None), State(node='8860832021727305377', rule='metadsl_core.abstraction.compose', label=None), State(node='5335923190602446785', rule='metadsl_core.abstraction.compose', label=None), State(node='4079249663426022462', rule='metadsl_core.abstraction.compose', label=None), State(node='4647388330619199126', rule='metadsl_core.abstraction.beta_reduce', label=None), State(node='4769751404949219476', rule='metadsl_core.abstraction.beta_reduce', label=None), State(node='-6956093127370502309', rule='metadsl_core.abstraction.compose', label=None), State(node='-2612398622271502315', rule='metadsl_core.maybe.maybe_or', label=None), State(node='8439296437609624593', rule='metadsl_core.numpy.add_compat', label=None), State(node='8770548266972148152', rule='metadsl_core.numpy.convert_to_ndarray', label=None), State(node='-4627731693726244800', rule='metadsl_core.maybe.maybe_and', label=None), State(node='-5923745696728671797', rule='metadsl_core.maybe.maybe_match', label=None), State(node='-8795932671470243882', rule='metadsl_core.abstraction.beta_reduce', label=None), State(node='5829854195099530885', rule='metadsl_core.pair.pair_left', label=None), State(node='4189624856124316535', rule='metadsl_core.pair.pair_right', label=None), State(node='4189624856124316535', rule='', label='convert'), State(node='-6370107646987685124', rule='metadsl_core.numpy.box_unbox_ndarray_compat', label=None), State(node='-2510144336463976696', rule='metadsl_core.numpy_engine.unbox_ndarray_getitem', label=None), State(node='-7814700254350767880', rule='metadsl_core.numpy_engine.unbox_idxs_rule', label=None), State(node='785343526099289176', rule='metadsl_core.numpy_engine.unbox_integer_rule', label=None), State(node='1996208351291935186', rule='metadsl_core.numpy_engine.unbox_ndarray_add', label=None), State(node='-2790575131665686317', rule='metadsl_core.numpy_engine.unbox_arange', label=None), State(node='1588328079020448075', rule='metadsl_core.numpy_engine.unbox_integer_rule', label=None), State(node='1588328079020448075', rule='', label='unbox'), State(node='-6640670996244891983', rule='metadsl_core.numpy_engine.arange', label=None), State(node='5438906021116595671', rule='metadsl_core.numpy_engine.ndarray_add', label=None), State(node='-6329062327456759953', rule='metadsl_core.numpy_engine.ndarray_getitem', label=None), State(node='-6329062327456759953', rule='', label='execute')]))"
      ]
     },
     "metadata": {},
     "output_type": "display_data"
    },
    {
     "data": {
      "text/plain": [
       "array(10)"
      ]
     },
     "metadata": {},
     "output_type": "display_data"
    }
   ],
   "source": [
    "(arange(N) + arange(N))[5].to_ndarray()\n",
    "expr"
   ]
  },
  {
   "cell_type": "markdown",
   "metadata": {},
   "source": [
    "Now, we can add an optimization replacement, so that we do the getitem before adding the two expressions:"
   ]
  },
  {
   "cell_type": "code",
   "execution_count": 3,
   "metadata": {},
   "outputs": [],
   "source": [
    "@register_optimize\n",
    "@rule\n",
    "def optimize_getitem_add(l: NDArray, r: NDArray, idx: IndxType) -> R[NDArray]:\n",
    "    return (\n",
    "        # expression to match against\n",
    "        (l + r)[idx],\n",
    "        # expression to replace it with\n",
    "        l[idx] + r[idx]\n",
    "    )"
   ]
  },
  {
   "cell_type": "markdown",
   "metadata": {},
   "source": [
    "Now, when we look at the execution steps, we see that it is doing each getitem before adding, which should be more efficient:"
   ]
  },
  {
   "cell_type": "code",
   "execution_count": 4,
   "metadata": {},
   "outputs": [
    {
     "data": {
      "application/x.typez+json": {
       "nodes": [
        {
         "id": "2826150730839618930",
         "repr": "100",
         "type": "int"
        },
        {
         "id": "74627363753923008",
         "repr": "5",
         "type": "int"
        },
        {
         "args": [
          "2826150730839618930"
         ],
         "function": "arange",
         "id": "4334666432044097486"
        },
        {
         "args": [
          "4334666432044097486",
          "4334666432044097486"
         ],
         "function": "NDArrayCompat.__add__",
         "id": "-5451433778925814823"
        },
        {
         "args": [
          "-5451433778925814823",
          "74627363753923008"
         ],
         "function": "NDArrayCompat.__getitem__",
         "id": "-3654589126896044216"
        },
        {
         "args": [
          "-3654589126896044216"
         ],
         "function": "NDArrayCompat.to_ndarray",
         "id": "-4006809763795812991"
        },
        {
         "id": "5466943891781263114",
         "repr": "arange_",
         "type": "Infer"
        },
        {
         "args": [
          "2826150730839618930"
         ],
         "function": "Converter.convert",
         "id": "-1268483836564972973",
         "type_params": {
          "T": {
           "type": "Integer"
          }
         }
        },
        {
         "args": [
          "5466943891781263114"
         ],
         "function": "Abstraction.from_fn",
         "id": "-3235598987296499286"
        },
        {
         "args": [
          "-1268483836564972973",
          "-3235598987296499286"
         ],
         "function": "Maybe.map",
         "id": "-8460312764196435109",
         "type_params": {
          "T": {
           "type": "Integer"
          }
         }
        },
        {
         "args": [
          "-8460312764196435109"
         ],
         "function": "NDArrayCompat.from_ndarray",
         "id": "2054096632475985220"
        },
        {
         "args": [
          "2054096632475985220",
          "2054096632475985220"
         ],
         "function": "NDArrayCompat.__add__",
         "id": "4001830451447226948"
        },
        {
         "args": [
          "4001830451447226948",
          "74627363753923008"
         ],
         "function": "NDArrayCompat.__getitem__",
         "id": "6312611956289242140"
        },
        {
         "args": [
          "6312611956289242140"
         ],
         "function": "NDArrayCompat.to_ndarray",
         "id": "-3202461150888573559"
        },
        {
         "args": [
          "2826150730839618930"
         ],
         "function": "Integer.from_int",
         "id": "-1060229783844073802"
        },
        {
         "args": [
          "-1060229783844073802"
         ],
         "function": "Maybe.just",
         "id": "5244038888244487127"
        },
        {
         "args": [
          "5244038888244487127",
          "-3235598987296499286"
         ],
         "function": "Maybe.map",
         "id": "-6575371619518402299",
         "type_params": {
          "T": {
           "type": "Integer"
          }
         }
        },
        {
         "args": [
          "-6575371619518402299"
         ],
         "function": "NDArrayCompat.from_ndarray",
         "id": "8910379968468538916"
        },
        {
         "args": [
          "8910379968468538916",
          "8910379968468538916"
         ],
         "function": "NDArrayCompat.__add__",
         "id": "3067769900116173062"
        },
        {
         "args": [
          "3067769900116173062",
          "74627363753923008"
         ],
         "function": "NDArrayCompat.__getitem__",
         "id": "-8293150841884712307"
        },
        {
         "args": [
          "-8293150841884712307"
         ],
         "function": "NDArrayCompat.to_ndarray",
         "id": "-3753584583687244436"
        },
        {
         "id": "4238745491341035721",
         "repr": "FunctionReplaceTyping(fn=<function NDArrayCompat.__getitem__.<locals>.<lambda> at 0x7f9a08cf28b0>, typevars=HashableMapping(_items=()), typevars_in_scope=frozenset({~T, ~U}), inner_mapping=ReplaceTypevarsExpression(typevars=HashableMapping(_items=())))",
         "type": "FunctionReplaceTyping"
        },
        {
         "args": [
          "74627363753923008"
         ],
         "function": "Converter.convert",
         "id": "183710255350735291",
         "type_params": {
          "T": {
           "params": {
            "T": {
             "type": "Integer"
            },
            "U": {
             "params": {
              "T": {
               "type": "Integer"
              }
             },
             "type": "Vec"
            }
           },
           "type": "Either"
          }
         }
        },
        {
         "args": [
          "4238745491341035721"
         ],
         "function": "Abstraction.from_fn",
         "id": "8457293374621369720",
         "type_params": {
          "T": {
           "params": {
            "T": {
             "type": "NDArray"
            },
            "U": {
             "params": {
              "T": {
               "type": "Integer"
              },
              "U": {
               "params": {
                "T": {
                 "type": "Integer"
                }
               },
               "type": "Vec"
              }
             },
             "type": "Either"
            }
           },
           "type": "Pair"
          },
          "U": {
           "type": "NDArray"
          }
         }
        },
        {
         "args": [
          "3067769900116173062"
         ],
         "function": "Converter.convert",
         "id": "6554604528653822481",
         "type_params": {
          "T": {
           "type": "NDArray"
          }
         }
        },
        {
         "args": [
          "6554604528653822481",
          "183710255350735291"
         ],
         "function": "Maybe.__and__",
         "id": "-1250964469931568955",
         "type_params": {
          "T": {
           "type": "NDArray"
          }
         }
        },
        {
         "args": [
          "-1250964469931568955",
          "8457293374621369720"
         ],
         "function": "Maybe.map",
         "id": "2158358133323084896",
         "type_params": {
          "T": {
           "params": {
            "T": {
             "type": "NDArray"
            },
            "U": {
             "params": {
              "T": {
               "type": "Integer"
              },
              "U": {
               "params": {
                "T": {
                 "type": "Integer"
                }
               },
               "type": "Vec"
              }
             },
             "type": "Either"
            }
           },
           "type": "Pair"
          }
         }
        },
        {
         "args": [
          "2158358133323084896"
         ],
         "function": "NDArrayCompat.from_ndarray",
         "id": "-7415263874963144763"
        },
        {
         "args": [
          "-7415263874963144763"
         ],
         "function": "NDArrayCompat.to_ndarray",
         "id": "-6622046077155676707"
        },
        {
         "id": "-6055780641493375283",
         "repr": "Either.left",
         "type": "BoundInfer"
        },
        {
         "id": "-7218107115001118553",
         "repr": "Either.right",
         "type": "BoundInfer"
        },
        {
         "args": [
          "74627363753923008"
         ],
         "function": "Converter.convert",
         "id": "-83960028438505675",
         "type_params": {
          "T": {
           "type": "Integer"
          }
         }
        },
        {
         "args": [
          "74627363753923008"
         ],
         "function": "Converter.convert",
         "id": "-2587848750163407994",
         "type_params": {
          "T": {
           "params": {
            "T": {
             "type": "Integer"
            }
           },
           "type": "Vec"
          }
         }
        },
        {
         "args": [
          "-6055780641493375283"
         ],
         "function": "Abstraction.from_fn",
         "id": "1738858000031346750"
        },
        {
         "args": [
          "-7218107115001118553"
         ],
         "function": "Abstraction.from_fn",
         "id": "-8072727974964254936"
        },
        {
         "args": [
          "-83960028438505675",
          "1738858000031346750"
         ],
         "function": "Maybe.map",
         "id": "5321959325120338942",
         "type_params": {
          "T": {
           "type": "Integer"
          }
         }
        },
        {
         "args": [
          "-2587848750163407994",
          "-8072727974964254936"
         ],
         "function": "Maybe.map",
         "id": "1756446271584825612",
         "type_params": {
          "T": {
           "params": {
            "T": {
             "type": "Integer"
            }
           },
           "type": "Vec"
          }
         }
        },
        {
         "args": [
          "5321959325120338942",
          "1756446271584825612"
         ],
         "function": "Maybe.__or__",
         "id": "-3034253720372951427",
         "type_params": {
          "T": {
           "params": {
            "T": {
             "type": "Integer"
            },
            "U": {
             "params": {
              "T": {
               "type": "Integer"
              }
             },
             "type": "Vec"
            }
           },
           "type": "Either"
          }
         }
        },
        {
         "args": [
          "6554604528653822481",
          "-3034253720372951427"
         ],
         "function": "Maybe.__and__",
         "id": "1100680204733807586",
         "type_params": {
          "T": {
           "type": "NDArray"
          }
         }
        },
        {
         "args": [
          "1100680204733807586",
          "8457293374621369720"
         ],
         "function": "Maybe.map",
         "id": "3411093402983602423",
         "type_params": {
          "T": {
           "params": {
            "T": {
             "type": "NDArray"
            },
            "U": {
             "params": {
              "T": {
               "type": "Integer"
              },
              "U": {
               "params": {
                "T": {
                 "type": "Integer"
                }
               },
               "type": "Vec"
              }
             },
             "type": "Either"
            }
           },
           "type": "Pair"
          }
         }
        },
        {
         "args": [
          "3411093402983602423"
         ],
         "function": "NDArrayCompat.from_ndarray",
         "id": "2444931574767288844"
        },
        {
         "args": [
          "2444931574767288844"
         ],
         "function": "NDArrayCompat.to_ndarray",
         "id": "-6678175736661107391"
        },
        {
         "args": [
          "74627363753923008"
         ],
         "function": "Integer.from_int",
         "id": "7126651426372720159"
        },
        {
         "args": [
          "7126651426372720159"
         ],
         "function": "Maybe.just",
         "id": "-8143593206559625754"
        },
        {
         "args": [
          "-8143593206559625754",
          "1738858000031346750"
         ],
         "function": "Maybe.map",
         "id": "-4718177885023625612",
         "type_params": {
          "T": {
           "type": "Integer"
          }
         }
        },
        {
         "args": [
          "-4718177885023625612",
          "1756446271584825612"
         ],
         "function": "Maybe.__or__",
         "id": "-3122357703968012961",
         "type_params": {
          "T": {
           "params": {
            "T": {
             "type": "Integer"
            },
            "U": {
             "params": {
              "T": {
               "type": "Integer"
              }
             },
             "type": "Vec"
            }
           },
           "type": "Either"
          }
         }
        },
        {
         "args": [
          "6554604528653822481",
          "-3122357703968012961"
         ],
         "function": "Maybe.__and__",
         "id": "-7389107363096172910",
         "type_params": {
          "T": {
           "type": "NDArray"
          }
         }
        },
        {
         "args": [
          "-7389107363096172910",
          "8457293374621369720"
         ],
         "function": "Maybe.map",
         "id": "7184015972134449086",
         "type_params": {
          "T": {
           "params": {
            "T": {
             "type": "NDArray"
            },
            "U": {
             "params": {
              "T": {
               "type": "Integer"
              },
              "U": {
               "params": {
                "T": {
                 "type": "Integer"
                }
               },
               "type": "Vec"
              }
             },
             "type": "Either"
            }
           },
           "type": "Pair"
          }
         }
        },
        {
         "args": [
          "7184015972134449086"
         ],
         "function": "NDArrayCompat.from_ndarray",
         "id": "-1424870192568379107"
        },
        {
         "args": [
          "-1424870192568379107"
         ],
         "function": "NDArrayCompat.to_ndarray",
         "id": "-1625044926674844795"
        },
        {
         "id": "-2671093203299680548",
         "repr": "0x7f9a09313070",
         "type": "Variable"
        },
        {
         "args": [
          "-2671093203299680548"
         ],
         "function": "Abstraction.create_variable",
         "id": "-4597134103125839518",
         "type_params": {
          "T": {
           "type": "Integer"
          },
          "U": {
           "type": "NDArray"
          }
         }
        },
        {
         "args": [
          "-4597134103125839518"
         ],
         "function": "arange_",
         "id": "5059658964639418543"
        },
        {
         "args": [
          "-4597134103125839518",
          "5059658964639418543"
         ],
         "function": "Abstraction.create",
         "id": "8280786291283224508",
         "type_params": {
          "T": {
           "type": "Integer"
          },
          "U": {
           "type": "NDArray"
          }
         }
        },
        {
         "args": [
          "5244038888244487127",
          "8280786291283224508"
         ],
         "function": "Maybe.map",
         "id": "-2666185115034575717",
         "type_params": {
          "T": {
           "type": "Integer"
          }
         }
        },
        {
         "args": [
          "-2666185115034575717"
         ],
         "function": "NDArrayCompat.from_ndarray",
         "id": "-4239586625481148557"
        },
        {
         "args": [
          "-4239586625481148557",
          "-4239586625481148557"
         ],
         "function": "NDArrayCompat.__add__",
         "id": "-3790336313115313799"
        },
        {
         "args": [
          "-3790336313115313799"
         ],
         "function": "Converter.convert",
         "id": "379063495921330891",
         "type_params": {
          "T": {
           "type": "NDArray"
          }
         }
        },
        {
         "args": [
          "379063495921330891",
          "-3122357703968012961"
         ],
         "function": "Maybe.__and__",
         "id": "1403986594589713163",
         "type_params": {
          "T": {
           "type": "NDArray"
          }
         }
        },
        {
         "args": [
          "1403986594589713163",
          "8457293374621369720"
         ],
         "function": "Maybe.map",
         "id": "4519175184428653119",
         "type_params": {
          "T": {
           "params": {
            "T": {
             "type": "NDArray"
            },
            "U": {
             "params": {
              "T": {
               "type": "Integer"
              },
              "U": {
               "params": {
                "T": {
                 "type": "Integer"
                }
               },
               "type": "Vec"
              }
             },
             "type": "Either"
            }
           },
           "type": "Pair"
          }
         }
        },
        {
         "args": [
          "4519175184428653119"
         ],
         "function": "NDArrayCompat.from_ndarray",
         "id": "-2712376462261765126"
        },
        {
         "args": [
          "-2712376462261765126"
         ],
         "function": "NDArrayCompat.to_ndarray",
         "id": "7496527422440347461"
        },
        {
         "id": "-2454835613478002572",
         "repr": "0x7f9a092c7160",
         "type": "Variable"
        },
        {
         "args": [
          "-2454835613478002572"
         ],
         "function": "Abstraction.create_variable",
         "id": "-5886017889398815769",
         "type_params": {
          "T": {
           "type": "Integer"
          },
          "U": {
           "params": {
            "T": {
             "type": "Integer"
            },
            "U": {
             "params": {
              "T": {
               "type": "Integer"
              }
             },
             "type": "Vec"
            }
           },
           "type": "Either"
          }
         }
        },
        {
         "args": [
          "-5886017889398815769"
         ],
         "function": "Either.left",
         "id": "-8436981913115122446",
         "type_params": {
          "T": {
           "type": "Integer"
          },
          "U": {
           "params": {
            "T": {
             "type": "Integer"
            }
           },
           "type": "Vec"
          }
         }
        },
        {
         "args": [
          "-5886017889398815769",
          "-8436981913115122446"
         ],
         "function": "Abstraction.create",
         "id": "-8302432621244139003",
         "type_params": {
          "T": {
           "type": "Integer"
          },
          "U": {
           "params": {
            "T": {
             "type": "Integer"
            },
            "U": {
             "params": {
              "T": {
               "type": "Integer"
              }
             },
             "type": "Vec"
            }
           },
           "type": "Either"
          }
         }
        },
        {
         "args": [
          "-8143593206559625754",
          "-8302432621244139003"
         ],
         "function": "Maybe.map",
         "id": "-3306756969377943537",
         "type_params": {
          "T": {
           "type": "Integer"
          }
         }
        },
        {
         "args": [
          "-3306756969377943537",
          "1756446271584825612"
         ],
         "function": "Maybe.__or__",
         "id": "8305042128570877764",
         "type_params": {
          "T": {
           "params": {
            "T": {
             "type": "Integer"
            },
            "U": {
             "params": {
              "T": {
               "type": "Integer"
              }
             },
             "type": "Vec"
            }
           },
           "type": "Either"
          }
         }
        },
        {
         "args": [
          "379063495921330891",
          "8305042128570877764"
         ],
         "function": "Maybe.__and__",
         "id": "6380567864238647753",
         "type_params": {
          "T": {
           "type": "NDArray"
          }
         }
        },
        {
         "args": [
          "6380567864238647753",
          "8457293374621369720"
         ],
         "function": "Maybe.map",
         "id": "-3928796717860547570",
         "type_params": {
          "T": {
           "params": {
            "T": {
             "type": "NDArray"
            },
            "U": {
             "params": {
              "T": {
               "type": "Integer"
              },
              "U": {
               "params": {
                "T": {
                 "type": "Integer"
                }
               },
               "type": "Vec"
              }
             },
             "type": "Either"
            }
           },
           "type": "Pair"
          }
         }
        },
        {
         "args": [
          "-3928796717860547570"
         ],
         "function": "NDArrayCompat.from_ndarray",
         "id": "-6463871992597382134"
        },
        {
         "args": [
          "-6463871992597382134"
         ],
         "function": "NDArrayCompat.to_ndarray",
         "id": "-4168469440057463026"
        },
        {
         "id": "-3115217912298319830",
         "repr": "0x7f9a092ea220",
         "type": "Variable"
        },
        {
         "args": [
          "-3115217912298319830"
         ],
         "function": "Abstraction.create_variable",
         "id": "2040124635429434457",
         "type_params": {
          "T": {
           "params": {
            "T": {
             "type": "Integer"
            }
           },
           "type": "Vec"
          },
          "U": {
           "params": {
            "T": {
             "type": "Integer"
            },
            "U": {
             "params": {
              "T": {
               "type": "Integer"
              }
             },
             "type": "Vec"
            }
           },
           "type": "Either"
          }
         }
        },
        {
         "args": [
          "2040124635429434457"
         ],
         "function": "Either.right",
         "id": "3673567252596653949",
         "type_params": {
          "T": {
           "type": "Integer"
          },
          "U": {
           "params": {
            "T": {
             "type": "Integer"
            }
           },
           "type": "Vec"
          }
         }
        },
        {
         "args": [
          "2040124635429434457",
          "3673567252596653949"
         ],
         "function": "Abstraction.create",
         "id": "-712591329269771533",
         "type_params": {
          "T": {
           "params": {
            "T": {
             "type": "Integer"
            }
           },
           "type": "Vec"
          },
          "U": {
           "params": {
            "T": {
             "type": "Integer"
            },
            "U": {
             "params": {
              "T": {
               "type": "Integer"
              }
             },
             "type": "Vec"
            }
           },
           "type": "Either"
          }
         }
        },
        {
         "args": [
          "-2587848750163407994",
          "-712591329269771533"
         ],
         "function": "Maybe.map",
         "id": "3564384195563626250",
         "type_params": {
          "T": {
           "params": {
            "T": {
             "type": "Integer"
            }
           },
           "type": "Vec"
          }
         }
        },
        {
         "args": [
          "-3306756969377943537",
          "3564384195563626250"
         ],
         "function": "Maybe.__or__",
         "id": "354306075111968386",
         "type_params": {
          "T": {
           "params": {
            "T": {
             "type": "Integer"
            },
            "U": {
             "params": {
              "T": {
               "type": "Integer"
              }
             },
             "type": "Vec"
            }
           },
           "type": "Either"
          }
         }
        },
        {
         "args": [
          "379063495921330891",
          "354306075111968386"
         ],
         "function": "Maybe.__and__",
         "id": "-3535233505548070300",
         "type_params": {
          "T": {
           "type": "NDArray"
          }
         }
        },
        {
         "args": [
          "-3535233505548070300",
          "8457293374621369720"
         ],
         "function": "Maybe.map",
         "id": "-5055039717917169793",
         "type_params": {
          "T": {
           "params": {
            "T": {
             "type": "NDArray"
            },
            "U": {
             "params": {
              "T": {
               "type": "Integer"
              },
              "U": {
               "params": {
                "T": {
                 "type": "Integer"
                }
               },
               "type": "Vec"
              }
             },
             "type": "Either"
            }
           },
           "type": "Pair"
          }
         }
        },
        {
         "args": [
          "-5055039717917169793"
         ],
         "function": "NDArrayCompat.from_ndarray",
         "id": "6140355760503193040"
        },
        {
         "args": [
          "6140355760503193040"
         ],
         "function": "NDArrayCompat.to_ndarray",
         "id": "8108798777409277819"
        },
        {
         "id": "7127451832137703534",
         "repr": "0x7f9a092c63a0",
         "type": "Variable"
        },
        {
         "args": [
          "7127451832137703534"
         ],
         "function": "Abstraction.create_variable",
         "id": "7218450529924600228",
         "type_params": {
          "T": {
           "params": {
            "T": {
             "type": "NDArray"
            },
            "U": {
             "params": {
              "T": {
               "type": "Integer"
              },
              "U": {
               "params": {
                "T": {
                 "type": "Integer"
                }
               },
               "type": "Vec"
              }
             },
             "type": "Either"
            }
           },
           "type": "Pair"
          },
          "U": {
           "type": "NDArray"
          }
         }
        },
        {
         "args": [
          "7218450529924600228"
         ],
         "function": "Pair.left",
         "id": "9110188145180211679",
         "type_params": {
          "T": {
           "type": "NDArray"
          },
          "U": {
           "params": {
            "T": {
             "type": "Integer"
            },
            "U": {
             "params": {
              "T": {
               "type": "Integer"
              }
             },
             "type": "Vec"
            }
           },
           "type": "Either"
          }
         }
        },
        {
         "args": [
          "7218450529924600228"
         ],
         "function": "Pair.right",
         "id": "2853675336281671152",
         "type_params": {
          "T": {
           "type": "NDArray"
          },
          "U": {
           "params": {
            "T": {
             "type": "Integer"
            },
            "U": {
             "params": {
              "T": {
               "type": "Integer"
              }
             },
             "type": "Vec"
            }
           },
           "type": "Either"
          }
         }
        },
        {
         "args": [
          "9110188145180211679",
          "2853675336281671152"
         ],
         "function": "NDArray.__getitem__",
         "id": "-46471524402306594"
        },
        {
         "args": [
          "7218450529924600228",
          "-46471524402306594"
         ],
         "function": "Abstraction.create",
         "id": "-4833404713574776669",
         "type_params": {
          "T": {
           "params": {
            "T": {
             "type": "NDArray"
            },
            "U": {
             "params": {
              "T": {
               "type": "Integer"
              },
              "U": {
               "params": {
                "T": {
                 "type": "Integer"
                }
               },
               "type": "Vec"
              }
             },
             "type": "Either"
            }
           },
           "type": "Pair"
          },
          "U": {
           "type": "NDArray"
          }
         }
        },
        {
         "args": [
          "-3535233505548070300",
          "-4833404713574776669"
         ],
         "function": "Maybe.map",
         "id": "4825945032086044703",
         "type_params": {
          "T": {
           "params": {
            "T": {
             "type": "NDArray"
            },
            "U": {
             "params": {
              "T": {
               "type": "Integer"
              },
              "U": {
               "params": {
                "T": {
                 "type": "Integer"
                }
               },
               "type": "Vec"
              }
             },
             "type": "Either"
            }
           },
           "type": "Pair"
          }
         }
        },
        {
         "args": [
          "4825945032086044703"
         ],
         "function": "NDArrayCompat.from_ndarray",
         "id": "1039025584482021799"
        },
        {
         "args": [
          "1039025584482021799"
         ],
         "function": "NDArrayCompat.to_ndarray",
         "id": "524361902236029546"
        },
        {
         "function": "Maybe.nothing",
         "id": "-2958785375455268643",
         "type_params": {
          "T": {
           "type": "NDArray"
          }
         }
        },
        {
         "id": "-190740728965243028",
         "repr": "Maybe.just",
         "type": "BoundInfer"
        },
        {
         "args": [
          "-190740728965243028"
         ],
         "function": "Abstraction.from_fn",
         "id": "-6103049929195058089"
        },
        {
         "args": [
          "-6103049929195058089",
          "8280786291283224508"
         ],
         "function": "Abstraction.__add__",
         "id": "7787575488474568162",
         "type_params": {
          "T": {
           "type": "NDArray"
          },
          "U": {
           "params": {
            "T": {
             "type": "NDArray"
            }
           },
           "type": "Maybe"
          }
         }
        },
        {
         "args": [
          "5244038888244487127",
          "-2958785375455268643",
          "7787575488474568162"
         ],
         "function": "Maybe.match",
         "id": "-8848977450514908779",
         "type_params": {
          "T": {
           "type": "Integer"
          }
         }
        },
        {
         "args": [
          "-8848977450514908779"
         ],
         "function": "NDArrayCompat.from_ndarray",
         "id": "5712877685537845044"
        },
        {
         "args": [
          "5712877685537845044",
          "5712877685537845044"
         ],
         "function": "NDArrayCompat.__add__",
         "id": "3503731351936903634"
        },
        {
         "args": [
          "3503731351936903634"
         ],
         "function": "Converter.convert",
         "id": "-47400203866432127",
         "type_params": {
          "T": {
           "type": "NDArray"
          }
         }
        },
        {
         "args": [
          "-47400203866432127",
          "354306075111968386"
         ],
         "function": "Maybe.__and__",
         "id": "-633989850766951999",
         "type_params": {
          "T": {
           "type": "NDArray"
          }
         }
        },
        {
         "args": [
          "-633989850766951999",
          "-4833404713574776669"
         ],
         "function": "Maybe.map",
         "id": "-7589156230013528252",
         "type_params": {
          "T": {
           "params": {
            "T": {
             "type": "NDArray"
            },
            "U": {
             "params": {
              "T": {
               "type": "Integer"
              },
              "U": {
               "params": {
                "T": {
                 "type": "Integer"
                }
               },
               "type": "Vec"
              }
             },
             "type": "Either"
            }
           },
           "type": "Pair"
          }
         }
        },
        {
         "args": [
          "-7589156230013528252"
         ],
         "function": "NDArrayCompat.from_ndarray",
         "id": "-4416562402233504771"
        },
        {
         "args": [
          "-4416562402233504771"
         ],
         "function": "NDArrayCompat.to_ndarray",
         "id": "817541809905048380"
        },
        {
         "function": "Maybe.nothing",
         "id": "-3929965295117828268",
         "type_params": {
          "T": {
           "params": {
            "T": {
             "type": "Integer"
            },
            "U": {
             "params": {
              "T": {
               "type": "Integer"
              }
             },
             "type": "Vec"
            }
           },
           "type": "Either"
          }
         }
        },
        {
         "id": "2340429345748431821",
         "repr": "Maybe.just",
         "type": "BoundInfer"
        },
        {
         "args": [
          "2340429345748431821"
         ],
         "function": "Abstraction.from_fn",
         "id": "3760381120374970453"
        },
        {
         "args": [
          "3760381120374970453",
          "-8302432621244139003"
         ],
         "function": "Abstraction.__add__",
         "id": "-1760358904151824155",
         "type_params": {
          "T": {
           "params": {
            "T": {
             "type": "Integer"
            },
            "U": {
             "params": {
              "T": {
               "type": "Integer"
              }
             },
             "type": "Vec"
            }
           },
           "type": "Either"
          },
          "U": {
           "params": {
            "T": {
             "params": {
              "T": {
               "type": "Integer"
              },
              "U": {
               "params": {
                "T": {
                 "type": "Integer"
                }
               },
               "type": "Vec"
              }
             },
             "type": "Either"
            }
           },
           "type": "Maybe"
          }
         }
        },
        {
         "args": [
          "-8143593206559625754",
          "-3929965295117828268",
          "-1760358904151824155"
         ],
         "function": "Maybe.match",
         "id": "-1403057447777807093",
         "type_params": {
          "T": {
           "type": "Integer"
          }
         }
        },
        {
         "args": [
          "-1403057447777807093",
          "3564384195563626250"
         ],
         "function": "Maybe.__or__",
         "id": "-1050283987793134456",
         "type_params": {
          "T": {
           "params": {
            "T": {
             "type": "Integer"
            },
            "U": {
             "params": {
              "T": {
               "type": "Integer"
              }
             },
             "type": "Vec"
            }
           },
           "type": "Either"
          }
         }
        },
        {
         "args": [
          "-47400203866432127",
          "-1050283987793134456"
         ],
         "function": "Maybe.__and__",
         "id": "1504188397442991305",
         "type_params": {
          "T": {
           "type": "NDArray"
          }
         }
        },
        {
         "args": [
          "1504188397442991305",
          "-4833404713574776669"
         ],
         "function": "Maybe.map",
         "id": "-5550127641243047739",
         "type_params": {
          "T": {
           "params": {
            "T": {
             "type": "NDArray"
            },
            "U": {
             "params": {
              "T": {
               "type": "Integer"
              },
              "U": {
               "params": {
                "T": {
                 "type": "Integer"
                }
               },
               "type": "Vec"
              }
             },
             "type": "Either"
            }
           },
           "type": "Pair"
          }
         }
        },
        {
         "args": [
          "-5550127641243047739"
         ],
         "function": "NDArrayCompat.from_ndarray",
         "id": "6324229892630011372"
        },
        {
         "args": [
          "6324229892630011372"
         ],
         "function": "NDArrayCompat.to_ndarray",
         "id": "8497475054835211264"
        },
        {
         "args": [
          "3760381120374970453",
          "-712591329269771533"
         ],
         "function": "Abstraction.__add__",
         "id": "-7290287452947310544",
         "type_params": {
          "T": {
           "params": {
            "T": {
             "type": "Integer"
            },
            "U": {
             "params": {
              "T": {
               "type": "Integer"
              }
             },
             "type": "Vec"
            }
           },
           "type": "Either"
          },
          "U": {
           "params": {
            "T": {
             "params": {
              "T": {
               "type": "Integer"
              },
              "U": {
               "params": {
                "T": {
                 "type": "Integer"
                }
               },
               "type": "Vec"
              }
             },
             "type": "Either"
            }
           },
           "type": "Maybe"
          }
         }
        },
        {
         "args": [
          "-2587848750163407994",
          "-3929965295117828268",
          "-7290287452947310544"
         ],
         "function": "Maybe.match",
         "id": "7726311731002288574",
         "type_params": {
          "T": {
           "params": {
            "T": {
             "type": "Integer"
            }
           },
           "type": "Vec"
          }
         }
        },
        {
         "args": [
          "-1403057447777807093",
          "7726311731002288574"
         ],
         "function": "Maybe.__or__",
         "id": "5716427642531003201",
         "type_params": {
          "T": {
           "params": {
            "T": {
             "type": "Integer"
            },
            "U": {
             "params": {
              "T": {
               "type": "Integer"
              }
             },
             "type": "Vec"
            }
           },
           "type": "Either"
          }
         }
        },
        {
         "args": [
          "-47400203866432127",
          "5716427642531003201"
         ],
         "function": "Maybe.__and__",
         "id": "-875320048350436994",
         "type_params": {
          "T": {
           "type": "NDArray"
          }
         }
        },
        {
         "args": [
          "-875320048350436994",
          "-4833404713574776669"
         ],
         "function": "Maybe.map",
         "id": "-6888998255372392020",
         "type_params": {
          "T": {
           "params": {
            "T": {
             "type": "NDArray"
            },
            "U": {
             "params": {
              "T": {
               "type": "Integer"
              },
              "U": {
               "params": {
                "T": {
                 "type": "Integer"
                }
               },
               "type": "Vec"
              }
             },
             "type": "Either"
            }
           },
           "type": "Pair"
          }
         }
        },
        {
         "args": [
          "-6888998255372392020"
         ],
         "function": "NDArrayCompat.from_ndarray",
         "id": "9166902894538304109"
        },
        {
         "args": [
          "9166902894538304109"
         ],
         "function": "NDArrayCompat.to_ndarray",
         "id": "3051554767070140790"
        },
        {
         "args": [
          "7787575488474568162",
          "-1060229783844073802"
         ],
         "function": "Abstraction.__call__",
         "id": "-7411052093630565038",
         "type_params": {
          "T": {
           "type": "Integer"
          },
          "U": {
           "params": {
            "T": {
             "type": "NDArray"
            }
           },
           "type": "Maybe"
          }
         }
        },
        {
         "args": [
          "-7411052093630565038"
         ],
         "function": "NDArrayCompat.from_ndarray",
         "id": "2329479126957535216"
        },
        {
         "args": [
          "2329479126957535216",
          "2329479126957535216"
         ],
         "function": "NDArrayCompat.__add__",
         "id": "1050374780076902972"
        },
        {
         "args": [
          "1050374780076902972"
         ],
         "function": "Converter.convert",
         "id": "-1903039029807301025",
         "type_params": {
          "T": {
           "type": "NDArray"
          }
         }
        },
        {
         "args": [
          "-1903039029807301025",
          "5716427642531003201"
         ],
         "function": "Maybe.__and__",
         "id": "-5884092952184665123",
         "type_params": {
          "T": {
           "type": "NDArray"
          }
         }
        },
        {
         "args": [
          "-5884092952184665123",
          "-4833404713574776669"
         ],
         "function": "Maybe.map",
         "id": "5676580319955077101",
         "type_params": {
          "T": {
           "params": {
            "T": {
             "type": "NDArray"
            },
            "U": {
             "params": {
              "T": {
               "type": "Integer"
              },
              "U": {
               "params": {
                "T": {
                 "type": "Integer"
                }
               },
               "type": "Vec"
              }
             },
             "type": "Either"
            }
           },
           "type": "Pair"
          }
         }
        },
        {
         "args": [
          "5676580319955077101"
         ],
         "function": "NDArrayCompat.from_ndarray",
         "id": "-193576319992062923"
        },
        {
         "args": [
          "-193576319992062923"
         ],
         "function": "NDArrayCompat.to_ndarray",
         "id": "5761042945550501324"
        },
        {
         "args": [
          "-1760358904151824155",
          "7126651426372720159"
         ],
         "function": "Abstraction.__call__",
         "id": "-7565999281485485150",
         "type_params": {
          "T": {
           "type": "Integer"
          },
          "U": {
           "params": {
            "T": {
             "params": {
              "T": {
               "type": "Integer"
              },
              "U": {
               "params": {
                "T": {
                 "type": "Integer"
                }
               },
               "type": "Vec"
              }
             },
             "type": "Either"
            }
           },
           "type": "Maybe"
          }
         }
        },
        {
         "args": [
          "-7565999281485485150",
          "7726311731002288574"
         ],
         "function": "Maybe.__or__",
         "id": "-6912521671992819582",
         "type_params": {
          "T": {
           "params": {
            "T": {
             "type": "Integer"
            },
            "U": {
             "params": {
              "T": {
               "type": "Integer"
              }
             },
             "type": "Vec"
            }
           },
           "type": "Either"
          }
         }
        },
        {
         "args": [
          "-1903039029807301025",
          "-6912521671992819582"
         ],
         "function": "Maybe.__and__",
         "id": "-5425686463835921133",
         "type_params": {
          "T": {
           "type": "NDArray"
          }
         }
        },
        {
         "args": [
          "-5425686463835921133",
          "-4833404713574776669"
         ],
         "function": "Maybe.map",
         "id": "-3794655749489572670",
         "type_params": {
          "T": {
           "params": {
            "T": {
             "type": "NDArray"
            },
            "U": {
             "params": {
              "T": {
               "type": "Integer"
              },
              "U": {
               "params": {
                "T": {
                 "type": "Integer"
                }
               },
               "type": "Vec"
              }
             },
             "type": "Either"
            }
           },
           "type": "Pair"
          }
         }
        },
        {
         "args": [
          "-3794655749489572670"
         ],
         "function": "NDArrayCompat.from_ndarray",
         "id": "-5940115282154885663"
        },
        {
         "args": [
          "-5940115282154885663"
         ],
         "function": "NDArrayCompat.to_ndarray",
         "id": "4661250145743216000"
        },
        {
         "args": [
          "-6103049929195058089",
          "-4833404713574776669"
         ],
         "function": "Abstraction.__add__",
         "id": "-4590146085603208295",
         "type_params": {
          "T": {
           "type": "NDArray"
          },
          "U": {
           "params": {
            "T": {
             "type": "NDArray"
            }
           },
           "type": "Maybe"
          }
         }
        },
        {
         "args": [
          "-5425686463835921133",
          "-2958785375455268643",
          "-4590146085603208295"
         ],
         "function": "Maybe.match",
         "id": "1526868178858336882",
         "type_params": {
          "T": {
           "params": {
            "T": {
             "type": "NDArray"
            },
            "U": {
             "params": {
              "T": {
               "type": "Integer"
              },
              "U": {
               "params": {
                "T": {
                 "type": "Integer"
                }
               },
               "type": "Vec"
              }
             },
             "type": "Either"
            }
           },
           "type": "Pair"
          }
         }
        },
        {
         "args": [
          "1526868178858336882"
         ],
         "function": "NDArrayCompat.from_ndarray",
         "id": "7386459612604433455"
        },
        {
         "args": [
          "7386459612604433455"
         ],
         "function": "NDArrayCompat.to_ndarray",
         "id": "6243725962661269352"
        },
        {
         "id": "-4803217483435550057",
         "repr": "0x7f9a0930ed60",
         "type": "Variable"
        },
        {
         "args": [
          "-4803217483435550057"
         ],
         "function": "Abstraction.create_variable",
         "id": "7984798405484519962",
         "type_params": {
          "T": {
           "type": "NDArray"
          },
          "U": {
           "params": {
            "T": {
             "type": "NDArray"
            }
           },
           "type": "Maybe"
          }
         }
        },
        {
         "args": [
          "7984798405484519962"
         ],
         "function": "Maybe.just",
         "id": "-340194749516257123",
         "type_params": {
          "T": {
           "type": "NDArray"
          }
         }
        },
        {
         "args": [
          "7984798405484519962",
          "-340194749516257123"
         ],
         "function": "Abstraction.create",
         "id": "-4759437429602173186",
         "type_params": {
          "T": {
           "type": "NDArray"
          },
          "U": {
           "params": {
            "T": {
             "type": "NDArray"
            }
           },
           "type": "Maybe"
          }
         }
        },
        {
         "args": [
          "-4759437429602173186",
          "8280786291283224508"
         ],
         "function": "Abstraction.__add__",
         "id": "-5383008186142284430",
         "type_params": {
          "T": {
           "type": "NDArray"
          },
          "U": {
           "params": {
            "T": {
             "type": "NDArray"
            }
           },
           "type": "Maybe"
          }
         }
        },
        {
         "args": [
          "-5383008186142284430",
          "-1060229783844073802"
         ],
         "function": "Abstraction.__call__",
         "id": "3336066822073065728",
         "type_params": {
          "T": {
           "type": "Integer"
          },
          "U": {
           "params": {
            "T": {
             "type": "NDArray"
            }
           },
           "type": "Maybe"
          }
         }
        },
        {
         "args": [
          "-4759437429602173186",
          "-4833404713574776669"
         ],
         "function": "Abstraction.__add__",
         "id": "4711478045408773999",
         "type_params": {
          "T": {
           "type": "NDArray"
          },
          "U": {
           "params": {
            "T": {
             "type": "NDArray"
            }
           },
           "type": "Maybe"
          }
         }
        },
        {
         "args": [
          "3336066822073065728"
         ],
         "function": "NDArrayCompat.from_ndarray",
         "id": "-5979644511414142017"
        },
        {
         "args": [
          "-5979644511414142017",
          "-5979644511414142017"
         ],
         "function": "NDArrayCompat.__add__",
         "id": "-2854445895937269601"
        },
        {
         "args": [
          "-2854445895937269601"
         ],
         "function": "Converter.convert",
         "id": "-5203893267072395395",
         "type_params": {
          "T": {
           "type": "NDArray"
          }
         }
        },
        {
         "args": [
          "-5203893267072395395",
          "-6912521671992819582"
         ],
         "function": "Maybe.__and__",
         "id": "7637750677860458959",
         "type_params": {
          "T": {
           "type": "NDArray"
          }
         }
        },
        {
         "args": [
          "7637750677860458959",
          "-2958785375455268643",
          "4711478045408773999"
         ],
         "function": "Maybe.match",
         "id": "-5766954416685998591",
         "type_params": {
          "T": {
           "params": {
            "T": {
             "type": "NDArray"
            },
            "U": {
             "params": {
              "T": {
               "type": "Integer"
              },
              "U": {
               "params": {
                "T": {
                 "type": "Integer"
                }
               },
               "type": "Vec"
              }
             },
             "type": "Either"
            }
           },
           "type": "Pair"
          }
         }
        },
        {
         "args": [
          "-5766954416685998591"
         ],
         "function": "NDArrayCompat.from_ndarray",
         "id": "-8034297314150764346"
        },
        {
         "args": [
          "-8034297314150764346"
         ],
         "function": "NDArrayCompat.to_ndarray",
         "id": "-616640555469698575"
        },
        {
         "id": "-4223950750880694779",
         "repr": "0x7f9a0934ee20",
         "type": "Variable"
        },
        {
         "args": [
          "-4223950750880694779"
         ],
         "function": "Abstraction.create_variable",
         "id": "-4776611429854669966",
         "type_params": {
          "T": {
           "params": {
            "T": {
             "type": "Integer"
            },
            "U": {
             "params": {
              "T": {
               "type": "Integer"
              }
             },
             "type": "Vec"
            }
           },
           "type": "Either"
          },
          "U": {
           "params": {
            "T": {
             "params": {
              "T": {
               "type": "Integer"
              },
              "U": {
               "params": {
                "T": {
                 "type": "Integer"
                }
               },
               "type": "Vec"
              }
             },
             "type": "Either"
            }
           },
           "type": "Maybe"
          }
         }
        },
        {
         "args": [
          "-4776611429854669966"
         ],
         "function": "Maybe.just",
         "id": "134008635680738824",
         "type_params": {
          "T": {
           "params": {
            "T": {
             "type": "Integer"
            },
            "U": {
             "params": {
              "T": {
               "type": "Integer"
              }
             },
             "type": "Vec"
            }
           },
           "type": "Either"
          }
         }
        },
        {
         "args": [
          "-4776611429854669966",
          "134008635680738824"
         ],
         "function": "Abstraction.create",
         "id": "3445697509068019681",
         "type_params": {
          "T": {
           "params": {
            "T": {
             "type": "Integer"
            },
            "U": {
             "params": {
              "T": {
               "type": "Integer"
              }
             },
             "type": "Vec"
            }
           },
           "type": "Either"
          },
          "U": {
           "params": {
            "T": {
             "params": {
              "T": {
               "type": "Integer"
              },
              "U": {
               "params": {
                "T": {
                 "type": "Integer"
                }
               },
               "type": "Vec"
              }
             },
             "type": "Either"
            }
           },
           "type": "Maybe"
          }
         }
        },
        {
         "args": [
          "3445697509068019681",
          "-8302432621244139003"
         ],
         "function": "Abstraction.__add__",
         "id": "-2280423177753481611",
         "type_params": {
          "T": {
           "params": {
            "T": {
             "type": "Integer"
            },
            "U": {
             "params": {
              "T": {
               "type": "Integer"
              }
             },
             "type": "Vec"
            }
           },
           "type": "Either"
          },
          "U": {
           "params": {
            "T": {
             "params": {
              "T": {
               "type": "Integer"
              },
              "U": {
               "params": {
                "T": {
                 "type": "Integer"
                }
               },
               "type": "Vec"
              }
             },
             "type": "Either"
            }
           },
           "type": "Maybe"
          }
         }
        },
        {
         "args": [
          "3445697509068019681",
          "-712591329269771533"
         ],
         "function": "Abstraction.__add__",
         "id": "-967237613159329092",
         "type_params": {
          "T": {
           "params": {
            "T": {
             "type": "Integer"
            },
            "U": {
             "params": {
              "T": {
               "type": "Integer"
              }
             },
             "type": "Vec"
            }
           },
           "type": "Either"
          },
          "U": {
           "params": {
            "T": {
             "params": {
              "T": {
               "type": "Integer"
              },
              "U": {
               "params": {
                "T": {
                 "type": "Integer"
                }
               },
               "type": "Vec"
              }
             },
             "type": "Either"
            }
           },
           "type": "Maybe"
          }
         }
        },
        {
         "args": [
          "-2280423177753481611",
          "7126651426372720159"
         ],
         "function": "Abstraction.__call__",
         "id": "-3671724398802552954",
         "type_params": {
          "T": {
           "type": "Integer"
          },
          "U": {
           "params": {
            "T": {
             "params": {
              "T": {
               "type": "Integer"
              },
              "U": {
               "params": {
                "T": {
                 "type": "Integer"
                }
               },
               "type": "Vec"
              }
             },
             "type": "Either"
            }
           },
           "type": "Maybe"
          }
         }
        },
        {
         "args": [
          "-2587848750163407994",
          "-3929965295117828268",
          "-967237613159329092"
         ],
         "function": "Maybe.match",
         "id": "-7143302756332794749",
         "type_params": {
          "T": {
           "params": {
            "T": {
             "type": "Integer"
            }
           },
           "type": "Vec"
          }
         }
        },
        {
         "args": [
          "-3671724398802552954",
          "-7143302756332794749"
         ],
         "function": "Maybe.__or__",
         "id": "8536561851484215044",
         "type_params": {
          "T": {
           "params": {
            "T": {
             "type": "Integer"
            },
            "U": {
             "params": {
              "T": {
               "type": "Integer"
              }
             },
             "type": "Vec"
            }
           },
           "type": "Either"
          }
         }
        },
        {
         "args": [
          "-5203893267072395395",
          "8536561851484215044"
         ],
         "function": "Maybe.__and__",
         "id": "-8074561872650333739",
         "type_params": {
          "T": {
           "type": "NDArray"
          }
         }
        },
        {
         "args": [
          "-8074561872650333739",
          "-2958785375455268643",
          "4711478045408773999"
         ],
         "function": "Maybe.match",
         "id": "-4938132439902749908",
         "type_params": {
          "T": {
           "params": {
            "T": {
             "type": "NDArray"
            },
            "U": {
             "params": {
              "T": {
               "type": "Integer"
              },
              "U": {
               "params": {
                "T": {
                 "type": "Integer"
                }
               },
               "type": "Vec"
              }
             },
             "type": "Either"
            }
           },
           "type": "Pair"
          }
         }
        },
        {
         "args": [
          "-4938132439902749908"
         ],
         "function": "NDArrayCompat.from_ndarray",
         "id": "-6578797274202086050"
        },
        {
         "args": [
          "-6578797274202086050"
         ],
         "function": "NDArrayCompat.to_ndarray",
         "id": "-6225815656647531091"
        },
        {
         "args": [
          "5059658964639418543"
         ],
         "function": "Maybe.just",
         "id": "5688834387472333078",
         "type_params": {
          "T": {
           "type": "NDArray"
          }
         }
        },
        {
         "args": [
          "-4597134103125839518",
          "5688834387472333078"
         ],
         "function": "Abstraction.create",
         "id": "7703922384606949284"
        },
        {
         "args": [
          "7703922384606949284",
          "-1060229783844073802"
         ],
         "function": "Abstraction.__call__",
         "id": "1645419669198191626",
         "type_params": {
          "T": {
           "type": "Integer"
          },
          "U": {
           "params": {
            "T": {
             "type": "NDArray"
            }
           },
           "type": "Maybe"
          }
         }
        },
        {
         "args": [
          "1645419669198191626"
         ],
         "function": "NDArrayCompat.from_ndarray",
         "id": "-1464666975284210491"
        },
        {
         "args": [
          "-1464666975284210491",
          "-1464666975284210491"
         ],
         "function": "NDArrayCompat.__add__",
         "id": "3052377136361673166"
        },
        {
         "args": [
          "3052377136361673166"
         ],
         "function": "Converter.convert",
         "id": "-3937193727365173801",
         "type_params": {
          "T": {
           "type": "NDArray"
          }
         }
        },
        {
         "args": [
          "-3937193727365173801",
          "8536561851484215044"
         ],
         "function": "Maybe.__and__",
         "id": "4831867408906092187",
         "type_params": {
          "T": {
           "type": "NDArray"
          }
         }
        },
        {
         "args": [
          "4831867408906092187",
          "-2958785375455268643",
          "4711478045408773999"
         ],
         "function": "Maybe.match",
         "id": "-4761817828933292490",
         "type_params": {
          "T": {
           "params": {
            "T": {
             "type": "NDArray"
            },
            "U": {
             "params": {
              "T": {
               "type": "Integer"
              },
              "U": {
               "params": {
                "T": {
                 "type": "Integer"
                }
               },
               "type": "Vec"
              }
             },
             "type": "Either"
            }
           },
           "type": "Pair"
          }
         }
        },
        {
         "args": [
          "-4761817828933292490"
         ],
         "function": "NDArrayCompat.from_ndarray",
         "id": "-1029861997843994379"
        },
        {
         "args": [
          "-1029861997843994379"
         ],
         "function": "NDArrayCompat.to_ndarray",
         "id": "-2319163312824830979"
        },
        {
         "args": [
          "-8436981913115122446"
         ],
         "function": "Maybe.just",
         "id": "-5675052942865552742",
         "type_params": {
          "T": {
           "params": {
            "T": {
             "type": "Integer"
            },
            "U": {
             "params": {
              "T": {
               "type": "Integer"
              }
             },
             "type": "Vec"
            }
           },
           "type": "Either"
          }
         }
        },
        {
         "args": [
          "-5886017889398815769",
          "-5675052942865552742"
         ],
         "function": "Abstraction.create",
         "id": "-2941161869806803296"
        },
        {
         "args": [
          "-2941161869806803296",
          "7126651426372720159"
         ],
         "function": "Abstraction.__call__",
         "id": "786508743343157827",
         "type_params": {
          "T": {
           "type": "Integer"
          },
          "U": {
           "params": {
            "T": {
             "params": {
              "T": {
               "type": "Integer"
              },
              "U": {
               "params": {
                "T": {
                 "type": "Integer"
                }
               },
               "type": "Vec"
              }
             },
             "type": "Either"
            }
           },
           "type": "Maybe"
          }
         }
        },
        {
         "args": [
          "786508743343157827",
          "-7143302756332794749"
         ],
         "function": "Maybe.__or__",
         "id": "2905937892580581604",
         "type_params": {
          "T": {
           "params": {
            "T": {
             "type": "Integer"
            },
            "U": {
             "params": {
              "T": {
               "type": "Integer"
              }
             },
             "type": "Vec"
            }
           },
           "type": "Either"
          }
         }
        },
        {
         "args": [
          "-3937193727365173801",
          "2905937892580581604"
         ],
         "function": "Maybe.__and__",
         "id": "-5991904727944530406",
         "type_params": {
          "T": {
           "type": "NDArray"
          }
         }
        },
        {
         "args": [
          "-5991904727944530406",
          "-2958785375455268643",
          "4711478045408773999"
         ],
         "function": "Maybe.match",
         "id": "3806170893777096058",
         "type_params": {
          "T": {
           "params": {
            "T": {
             "type": "NDArray"
            },
            "U": {
             "params": {
              "T": {
               "type": "Integer"
              },
              "U": {
               "params": {
                "T": {
                 "type": "Integer"
                }
               },
               "type": "Vec"
              }
             },
             "type": "Either"
            }
           },
           "type": "Pair"
          }
         }
        },
        {
         "args": [
          "3806170893777096058"
         ],
         "function": "NDArrayCompat.from_ndarray",
         "id": "7001812751295587117"
        },
        {
         "args": [
          "7001812751295587117"
         ],
         "function": "NDArrayCompat.to_ndarray",
         "id": "-484363451652429564"
        },
        {
         "args": [
          "3673567252596653949"
         ],
         "function": "Maybe.just",
         "id": "-2798403259163960631",
         "type_params": {
          "T": {
           "params": {
            "T": {
             "type": "Integer"
            },
            "U": {
             "params": {
              "T": {
               "type": "Integer"
              }
             },
             "type": "Vec"
            }
           },
           "type": "Either"
          }
         }
        },
        {
         "args": [
          "2040124635429434457",
          "-2798403259163960631"
         ],
         "function": "Abstraction.create",
         "id": "-6921600593770772687"
        },
        {
         "args": [
          "-2587848750163407994",
          "-3929965295117828268",
          "-6921600593770772687"
         ],
         "function": "Maybe.match",
         "id": "-4452239240915289878",
         "type_params": {
          "T": {
           "params": {
            "T": {
             "type": "Integer"
            }
           },
           "type": "Vec"
          }
         }
        },
        {
         "args": [
          "786508743343157827",
          "-4452239240915289878"
         ],
         "function": "Maybe.__or__",
         "id": "276497172495511486",
         "type_params": {
          "T": {
           "params": {
            "T": {
             "type": "Integer"
            },
            "U": {
             "params": {
              "T": {
               "type": "Integer"
              }
             },
             "type": "Vec"
            }
           },
           "type": "Either"
          }
         }
        },
        {
         "args": [
          "-3937193727365173801",
          "276497172495511486"
         ],
         "function": "Maybe.__and__",
         "id": "-2897574910407733265",
         "type_params": {
          "T": {
           "type": "NDArray"
          }
         }
        },
        {
         "args": [
          "-2897574910407733265",
          "-2958785375455268643",
          "4711478045408773999"
         ],
         "function": "Maybe.match",
         "id": "2758469130021704142",
         "type_params": {
          "T": {
           "params": {
            "T": {
             "type": "NDArray"
            },
            "U": {
             "params": {
              "T": {
               "type": "Integer"
              },
              "U": {
               "params": {
                "T": {
                 "type": "Integer"
                }
               },
               "type": "Vec"
              }
             },
             "type": "Either"
            }
           },
           "type": "Pair"
          }
         }
        },
        {
         "args": [
          "2758469130021704142"
         ],
         "function": "NDArrayCompat.from_ndarray",
         "id": "-8932127267562850122"
        },
        {
         "args": [
          "-8932127267562850122"
         ],
         "function": "NDArrayCompat.to_ndarray",
         "id": "-6021251119649582987"
        },
        {
         "args": [
          "-1060229783844073802"
         ],
         "function": "arange_",
         "id": "3502884101055097330"
        },
        {
         "args": [
          "3502884101055097330"
         ],
         "function": "Maybe.just",
         "id": "5981319536184665692",
         "type_params": {
          "T": {
           "type": "NDArray"
          }
         }
        },
        {
         "args": [
          "5981319536184665692"
         ],
         "function": "NDArrayCompat.from_ndarray",
         "id": "-1482503005844578115"
        },
        {
         "args": [
          "-1482503005844578115",
          "-1482503005844578115"
         ],
         "function": "NDArrayCompat.__add__",
         "id": "768077976946695323"
        },
        {
         "args": [
          "768077976946695323"
         ],
         "function": "Converter.convert",
         "id": "3539585437659049649",
         "type_params": {
          "T": {
           "type": "NDArray"
          }
         }
        },
        {
         "args": [
          "3539585437659049649",
          "276497172495511486"
         ],
         "function": "Maybe.__and__",
         "id": "-747023140377899666",
         "type_params": {
          "T": {
           "type": "NDArray"
          }
         }
        },
        {
         "args": [
          "-747023140377899666",
          "-2958785375455268643",
          "4711478045408773999"
         ],
         "function": "Maybe.match",
         "id": "4325934917908967534",
         "type_params": {
          "T": {
           "params": {
            "T": {
             "type": "NDArray"
            },
            "U": {
             "params": {
              "T": {
               "type": "Integer"
              },
              "U": {
               "params": {
                "T": {
                 "type": "Integer"
                }
               },
               "type": "Vec"
              }
             },
             "type": "Either"
            }
           },
           "type": "Pair"
          }
         }
        },
        {
         "args": [
          "4325934917908967534"
         ],
         "function": "NDArrayCompat.from_ndarray",
         "id": "-7351453144492828322"
        },
        {
         "args": [
          "-7351453144492828322"
         ],
         "function": "NDArrayCompat.to_ndarray",
         "id": "-507349198397299492"
        },
        {
         "args": [
          "7126651426372720159"
         ],
         "function": "Either.left",
         "id": "3405549016711160068",
         "type_params": {
          "T": {
           "type": "Integer"
          },
          "U": {
           "params": {
            "T": {
             "type": "Integer"
            }
           },
           "type": "Vec"
          }
         }
        },
        {
         "args": [
          "3405549016711160068"
         ],
         "function": "Maybe.just",
         "id": "8024432380409486742",
         "type_params": {
          "T": {
           "params": {
            "T": {
             "type": "Integer"
            },
            "U": {
             "params": {
              "T": {
               "type": "Integer"
              }
             },
             "type": "Vec"
            }
           },
           "type": "Either"
          }
         }
        },
        {
         "args": [
          "8024432380409486742",
          "-4452239240915289878"
         ],
         "function": "Maybe.__or__",
         "id": "-2406114154233583820",
         "type_params": {
          "T": {
           "params": {
            "T": {
             "type": "Integer"
            },
            "U": {
             "params": {
              "T": {
               "type": "Integer"
              }
             },
             "type": "Vec"
            }
           },
           "type": "Either"
          }
         }
        },
        {
         "args": [
          "3539585437659049649",
          "-2406114154233583820"
         ],
         "function": "Maybe.__and__",
         "id": "-2647746668351252512",
         "type_params": {
          "T": {
           "type": "NDArray"
          }
         }
        },
        {
         "args": [
          "-2647746668351252512",
          "-2958785375455268643",
          "4711478045408773999"
         ],
         "function": "Maybe.match",
         "id": "3373680285368448943",
         "type_params": {
          "T": {
           "params": {
            "T": {
             "type": "NDArray"
            },
            "U": {
             "params": {
              "T": {
               "type": "Integer"
              },
              "U": {
               "params": {
                "T": {
                 "type": "Integer"
                }
               },
               "type": "Vec"
              }
             },
             "type": "Either"
            }
           },
           "type": "Pair"
          }
         }
        },
        {
         "args": [
          "3373680285368448943"
         ],
         "function": "NDArrayCompat.from_ndarray",
         "id": "-9152712998886349561"
        },
        {
         "args": [
          "-9152712998886349561"
         ],
         "function": "NDArrayCompat.to_ndarray",
         "id": "5085856534911224089"
        },
        {
         "args": [
          "-46471524402306594"
         ],
         "function": "Maybe.just",
         "id": "-963407935296943894",
         "type_params": {
          "T": {
           "type": "NDArray"
          }
         }
        },
        {
         "args": [
          "7218450529924600228",
          "-963407935296943894"
         ],
         "function": "Abstraction.create",
         "id": "8094337186594391889"
        },
        {
         "args": [
          "-2647746668351252512",
          "-2958785375455268643",
          "8094337186594391889"
         ],
         "function": "Maybe.match",
         "id": "-1512139861194407725",
         "type_params": {
          "T": {
           "params": {
            "T": {
             "type": "NDArray"
            },
            "U": {
             "params": {
              "T": {
               "type": "Integer"
              },
              "U": {
               "params": {
                "T": {
                 "type": "Integer"
                }
               },
               "type": "Vec"
              }
             },
             "type": "Either"
            }
           },
           "type": "Pair"
          }
         }
        },
        {
         "args": [
          "-1512139861194407725"
         ],
         "function": "NDArrayCompat.from_ndarray",
         "id": "-5891066788592408392"
        },
        {
         "args": [
          "-5891066788592408392"
         ],
         "function": "NDArrayCompat.to_ndarray",
         "id": "2570576214857321147"
        },
        {
         "args": [
          "3405549016711160068"
         ],
         "function": "Maybe.just",
         "id": "-6450778425968699880"
        },
        {
         "args": [
          "3539585437659049649",
          "-6450778425968699880"
         ],
         "function": "Maybe.__and__",
         "id": "4114730221277352135",
         "type_params": {
          "T": {
           "type": "NDArray"
          }
         }
        },
        {
         "args": [
          "4114730221277352135",
          "-2958785375455268643",
          "8094337186594391889"
         ],
         "function": "Maybe.match",
         "id": "-6241412292276388419",
         "type_params": {
          "T": {
           "params": {
            "T": {
             "type": "NDArray"
            },
            "U": {
             "params": {
              "T": {
               "type": "Integer"
              },
              "U": {
               "params": {
                "T": {
                 "type": "Integer"
                }
               },
               "type": "Vec"
              }
             },
             "type": "Either"
            }
           },
           "type": "Pair"
          }
         }
        },
        {
         "args": [
          "-6241412292276388419"
         ],
         "function": "NDArrayCompat.from_ndarray",
         "id": "-7240063431392323313"
        },
        {
         "args": [
          "-7240063431392323313"
         ],
         "function": "NDArrayCompat.to_ndarray",
         "id": "3683553254527136408"
        },
        {
         "args": [
          "3502884101055097330",
          "3502884101055097330"
         ],
         "function": "NDArray.__add__",
         "id": "-4347787294984776218"
        },
        {
         "args": [
          "-4347787294984776218"
         ],
         "function": "Maybe.just",
         "id": "1835843005163307964"
        },
        {
         "args": [
          "1835843005163307964"
         ],
         "function": "NDArrayCompat.from_ndarray",
         "id": "-5819300935391376726"
        },
        {
         "args": [
          "-5819300935391376726"
         ],
         "function": "Converter.convert",
         "id": "5379362677060024694",
         "type_params": {
          "T": {
           "type": "NDArray"
          }
         }
        },
        {
         "args": [
          "5379362677060024694",
          "-6450778425968699880"
         ],
         "function": "Maybe.__and__",
         "id": "-7149125959482220427",
         "type_params": {
          "T": {
           "type": "NDArray"
          }
         }
        },
        {
         "args": [
          "-7149125959482220427",
          "-2958785375455268643",
          "8094337186594391889"
         ],
         "function": "Maybe.match",
         "id": "7682058785127185181",
         "type_params": {
          "T": {
           "params": {
            "T": {
             "type": "NDArray"
            },
            "U": {
             "params": {
              "T": {
               "type": "Integer"
              },
              "U": {
               "params": {
                "T": {
                 "type": "Integer"
                }
               },
               "type": "Vec"
              }
             },
             "type": "Either"
            }
           },
           "type": "Pair"
          }
         }
        },
        {
         "args": [
          "7682058785127185181"
         ],
         "function": "NDArrayCompat.from_ndarray",
         "id": "-5756511746181220119"
        },
        {
         "args": [
          "-5756511746181220119"
         ],
         "function": "NDArrayCompat.to_ndarray",
         "id": "-3570500508917528587"
        },
        {
         "args": [
          "1835843005163307964",
          "-6450778425968699880"
         ],
         "function": "Maybe.__and__",
         "id": "8391795678367217151",
         "type_params": {
          "T": {
           "type": "NDArray"
          }
         }
        },
        {
         "args": [
          "8391795678367217151",
          "-2958785375455268643",
          "8094337186594391889"
         ],
         "function": "Maybe.match",
         "id": "3662329782221750340",
         "type_params": {
          "T": {
           "params": {
            "T": {
             "type": "NDArray"
            },
            "U": {
             "params": {
              "T": {
               "type": "Integer"
              },
              "U": {
               "params": {
                "T": {
                 "type": "Integer"
                }
               },
               "type": "Vec"
              }
             },
             "type": "Either"
            }
           },
           "type": "Pair"
          }
         }
        },
        {
         "args": [
          "3662329782221750340"
         ],
         "function": "NDArrayCompat.from_ndarray",
         "id": "6146351134786454595"
        },
        {
         "args": [
          "6146351134786454595"
         ],
         "function": "NDArrayCompat.to_ndarray",
         "id": "6688762583659758945"
        },
        {
         "args": [
          "-4347787294984776218",
          "3405549016711160068"
         ],
         "function": "Pair.create",
         "id": "-2290868940384272012"
        },
        {
         "args": [
          "-2290868940384272012"
         ],
         "function": "Maybe.just",
         "id": "-826197801106996212"
        },
        {
         "args": [
          "-826197801106996212",
          "-2958785375455268643",
          "8094337186594391889"
         ],
         "function": "Maybe.match",
         "id": "4578834515019937137",
         "type_params": {
          "T": {
           "params": {
            "T": {
             "type": "NDArray"
            },
            "U": {
             "params": {
              "T": {
               "type": "Integer"
              },
              "U": {
               "params": {
                "T": {
                 "type": "Integer"
                }
               },
               "type": "Vec"
              }
             },
             "type": "Either"
            }
           },
           "type": "Pair"
          }
         }
        },
        {
         "args": [
          "4578834515019937137"
         ],
         "function": "NDArrayCompat.from_ndarray",
         "id": "9187842542550380216"
        },
        {
         "args": [
          "9187842542550380216"
         ],
         "function": "NDArrayCompat.to_ndarray",
         "id": "3025991124671080776"
        },
        {
         "args": [
          "8094337186594391889",
          "-2290868940384272012"
         ],
         "function": "Abstraction.__call__",
         "id": "-4094025386805026739",
         "type_params": {
          "T": {
           "params": {
            "T": {
             "type": "NDArray"
            },
            "U": {
             "params": {
              "T": {
               "type": "Integer"
              },
              "U": {
               "params": {
                "T": {
                 "type": "Integer"
                }
               },
               "type": "Vec"
              }
             },
             "type": "Either"
            }
           },
           "type": "Pair"
          },
          "U": {
           "params": {
            "T": {
             "type": "NDArray"
            }
           },
           "type": "Maybe"
          }
         }
        },
        {
         "args": [
          "-4094025386805026739"
         ],
         "function": "NDArrayCompat.from_ndarray",
         "id": "-2904412049744897132"
        },
        {
         "args": [
          "-2904412049744897132"
         ],
         "function": "NDArrayCompat.to_ndarray",
         "id": "1235772864830626977"
        },
        {
         "args": [
          "-2290868940384272012"
         ],
         "function": "Pair.left",
         "id": "-9188415536727269409",
         "type_params": {
          "T": {
           "type": "NDArray"
          },
          "U": {
           "params": {
            "T": {
             "type": "Integer"
            },
            "U": {
             "params": {
              "T": {
               "type": "Integer"
              }
             },
             "type": "Vec"
            }
           },
           "type": "Either"
          }
         }
        },
        {
         "args": [
          "-2290868940384272012"
         ],
         "function": "Pair.right",
         "id": "3001815728083741680",
         "type_params": {
          "T": {
           "type": "NDArray"
          },
          "U": {
           "params": {
            "T": {
             "type": "Integer"
            },
            "U": {
             "params": {
              "T": {
               "type": "Integer"
              }
             },
             "type": "Vec"
            }
           },
           "type": "Either"
          }
         }
        },
        {
         "args": [
          "-9188415536727269409",
          "3001815728083741680"
         ],
         "function": "NDArray.__getitem__",
         "id": "7240323096178966804"
        },
        {
         "args": [
          "7240323096178966804"
         ],
         "function": "Maybe.just",
         "id": "-3650474945266323793",
         "type_params": {
          "T": {
           "type": "NDArray"
          }
         }
        },
        {
         "args": [
          "-3650474945266323793"
         ],
         "function": "NDArrayCompat.from_ndarray",
         "id": "-6327188985520883411"
        },
        {
         "args": [
          "-6327188985520883411"
         ],
         "function": "NDArrayCompat.to_ndarray",
         "id": "-8795932671470243882"
        },
        {
         "args": [
          "-4347787294984776218",
          "3001815728083741680"
         ],
         "function": "NDArray.__getitem__",
         "id": "-4945784285653162301"
        },
        {
         "args": [
          "-4945784285653162301"
         ],
         "function": "Maybe.just",
         "id": "6426054299265824912",
         "type_params": {
          "T": {
           "type": "NDArray"
          }
         }
        },
        {
         "args": [
          "6426054299265824912"
         ],
         "function": "NDArrayCompat.from_ndarray",
         "id": "-6880269588909286918"
        },
        {
         "args": [
          "-6880269588909286918"
         ],
         "function": "NDArrayCompat.to_ndarray",
         "id": "5829854195099530885"
        },
        {
         "args": [
          "-4347787294984776218",
          "3405549016711160068"
         ],
         "function": "NDArray.__getitem__",
         "id": "-8455388509046005642"
        },
        {
         "args": [
          "-8455388509046005642"
         ],
         "function": "Maybe.just",
         "id": "4177136090310154729",
         "type_params": {
          "T": {
           "type": "NDArray"
          }
         }
        },
        {
         "args": [
          "4177136090310154729"
         ],
         "function": "NDArrayCompat.from_ndarray",
         "id": "245495020555689618"
        },
        {
         "args": [
          "245495020555689618"
         ],
         "function": "NDArrayCompat.to_ndarray",
         "id": "4189624856124316535"
        },
        {
         "args": [
          "3502884101055097330",
          "3405549016711160068"
         ],
         "function": "NDArray.__getitem__",
         "id": "4314451320617253382"
        },
        {
         "args": [
          "4314451320617253382",
          "4314451320617253382"
         ],
         "function": "NDArray.__add__",
         "id": "-7623728216335538156"
        },
        {
         "args": [
          "-7623728216335538156"
         ],
         "function": "Maybe.just",
         "id": "7820319872440383607",
         "type_params": {
          "T": {
           "type": "NDArray"
          }
         }
        },
        {
         "args": [
          "7820319872440383607"
         ],
         "function": "NDArrayCompat.from_ndarray",
         "id": "1422261152349165329"
        },
        {
         "args": [
          "1422261152349165329"
         ],
         "function": "NDArrayCompat.to_ndarray",
         "id": "-5004528405226475050"
        },
        {
         "args": [
          "-7623728216335538156"
         ],
         "function": "NDArray.to_ndarray",
         "id": "-2726923864857456246"
        },
        {
         "args": [
          "4314451320617253382"
         ],
         "function": "NDArray.to_ndarray",
         "id": "-3764257868045337410"
        },
        {
         "args": [
          "-3764257868045337410",
          "-3764257868045337410"
         ],
         "function": "ndarray_add",
         "id": "-1102223244832805877"
        },
        {
         "args": [
          "3502884101055097330"
         ],
         "function": "NDArray.to_ndarray",
         "id": "-167566818128806033"
        },
        {
         "args": [
          "3405549016711160068"
         ],
         "function": "unbox_idxs",
         "id": "-75720363782473576"
        },
        {
         "args": [
          "-167566818128806033",
          "-75720363782473576"
         ],
         "function": "ndarray_getitem",
         "id": "-8866764724477083067"
        },
        {
         "args": [
          "-8866764724477083067",
          "-8866764724477083067"
         ],
         "function": "ndarray_add",
         "id": "3343885393411811236"
        },
        {
         "args": [
          "-1060229783844073802"
         ],
         "function": "unbox_integer",
         "id": "-6339119298691241207"
        },
        {
         "args": [
          "-6339119298691241207"
         ],
         "function": "arange",
         "id": "-3148203639987051990"
        },
        {
         "args": [
          "-3148203639987051990",
          "-75720363782473576"
         ],
         "function": "ndarray_getitem",
         "id": "2265188490581352225"
        },
        {
         "args": [
          "2265188490581352225",
          "2265188490581352225"
         ],
         "function": "ndarray_add",
         "id": "6579086117271692900"
        },
        {
         "args": [
          "2826150730839618930"
         ],
         "function": "arange",
         "id": "-6763282119024320388"
        },
        {
         "args": [
          "-6763282119024320388",
          "-75720363782473576"
         ],
         "function": "ndarray_getitem",
         "id": "2526442566338480532"
        },
        {
         "args": [
          "2526442566338480532",
          "2526442566338480532"
         ],
         "function": "ndarray_add",
         "id": "6377527444286256799"
        },
        {
         "args": [
          "7126651426372720159"
         ],
         "function": "unbox_integer",
         "id": "5766021968849054353"
        },
        {
         "args": [
          "-6763282119024320388",
          "5766021968849054353"
         ],
         "function": "ndarray_getitem",
         "id": "-269342057311245697"
        },
        {
         "args": [
          "-269342057311245697",
          "-269342057311245697"
         ],
         "function": "ndarray_add",
         "id": "-6643378300419386036"
        },
        {
         "args": [
          "-6763282119024320388",
          "74627363753923008"
         ],
         "function": "ndarray_getitem",
         "id": "4894997357445549175"
        },
        {
         "args": [
          "4894997357445549175",
          "4894997357445549175"
         ],
         "function": "ndarray_add",
         "id": "-2207259241636318184"
        },
        {
         "id": "-303953692527582316",
         "repr": "[ 0  1  2  3  4  5  6  7  8  9 10 11 12 13 14 15 16 17 18 19 20 21 22 23\n 24 25 26 27 28 29 30 31 32 33 34 35 36 37 38 39 40 41 42 43 44 45 46 47\n 48 49 50 51 52 53 54 55 56 57 58 59 60 61 62 63 64 65 66 67 68 69 70 71\n 72 73 74 75 76 77 78 79 80 81 82 83 84 85 86 87 88 89 90 91 92 93 94 95\n 96 97 98 99]",
         "type": "ndarray"
        },
        {
         "args": [
          "-303953692527582316",
          "74627363753923008"
         ],
         "function": "ndarray_getitem",
         "id": "-2435807357472520866"
        },
        {
         "args": [
          "-2435807357472520866",
          "-2435807357472520866"
         ],
         "function": "ndarray_add",
         "id": "-577775179611225789"
        },
        {
         "id": "-2144422476493859366",
         "repr": "5",
         "type": "ndarray"
        },
        {
         "args": [
          "-2144422476493859366",
          "-2144422476493859366"
         ],
         "function": "ndarray_add",
         "id": "6974158062019112628"
        },
        {
         "id": "1293533598844267589",
         "repr": "10",
         "type": "int64"
        }
       ],
       "states": {
        "initial": "-4006809763795812991",
        "states": [
         {
          "node": "-3202461150888573559",
          "rule": "metadsl_core.numpy.arange"
         },
         {
          "node": "-3753584583687244436",
          "rule": "metadsl_core.integer.convert_integer"
         },
         {
          "node": "-6622046077155676707",
          "rule": "metadsl_core.numpy.NDArrayCompat.__getitem__"
         },
         {
          "node": "-6678175736661107391",
          "rule": "metadsl_core.either.convert_to_either"
         },
         {
          "node": "-1625044926674844795",
          "rule": "metadsl_core.integer.convert_integer"
         },
         {
          "node": "7496527422440347461",
          "rule": "metadsl_core.abstraction.Abstraction.from_fn"
         },
         {
          "node": "-4168469440057463026",
          "rule": "metadsl_core.abstraction.Abstraction.from_fn"
         },
         {
          "node": "8108798777409277819",
          "rule": "metadsl_core.abstraction.Abstraction.from_fn"
         },
         {
          "node": "524361902236029546",
          "rule": "metadsl_core.abstraction.Abstraction.from_fn"
         },
         {
          "node": "817541809905048380",
          "rule": "metadsl_core.maybe.Maybe.map"
         },
         {
          "node": "8497475054835211264",
          "rule": "metadsl_core.maybe.Maybe.map"
         },
         {
          "node": "3051554767070140790",
          "rule": "metadsl_core.maybe.Maybe.map"
         },
         {
          "node": "5761042945550501324",
          "rule": "metadsl_core.maybe.maybe_match"
         },
         {
          "node": "4661250145743216000",
          "rule": "metadsl_core.maybe.maybe_match"
         },
         {
          "node": "6243725962661269352",
          "rule": "metadsl_core.maybe.Maybe.map"
         },
         {
          "node": "-616640555469698575",
          "rule": "metadsl_core.abstraction.Abstraction.from_fn"
         },
         {
          "node": "-6225815656647531091",
          "rule": "metadsl_core.abstraction.Abstraction.from_fn"
         },
         {
          "node": "-2319163312824830979",
          "rule": "metadsl_core.abstraction.compose"
         },
         {
          "node": "-484363451652429564",
          "rule": "metadsl_core.abstraction.compose"
         },
         {
          "node": "-6021251119649582987",
          "rule": "metadsl_core.abstraction.compose"
         },
         {
          "node": "-507349198397299492",
          "rule": "metadsl_core.abstraction.beta_reduce"
         },
         {
          "node": "5085856534911224089",
          "rule": "metadsl_core.abstraction.beta_reduce"
         },
         {
          "node": "2570576214857321147",
          "rule": "metadsl_core.abstraction.compose"
         },
         {
          "node": "3683553254527136408",
          "rule": "metadsl_core.maybe.maybe_or"
         },
         {
          "node": "-3570500508917528587",
          "rule": "metadsl_core.numpy.add_compat"
         },
         {
          "node": "6688762583659758945",
          "rule": "metadsl_core.numpy.convert_to_ndarray"
         },
         {
          "node": "3025991124671080776",
          "rule": "metadsl_core.maybe.maybe_and"
         },
         {
          "node": "1235772864830626977",
          "rule": "metadsl_core.maybe.maybe_match"
         },
         {
          "node": "-8795932671470243882",
          "rule": "metadsl_core.abstraction.beta_reduce"
         },
         {
          "node": "5829854195099530885",
          "rule": "metadsl_core.pair.pair_left"
         },
         {
          "node": "4189624856124316535",
          "rule": "metadsl_core.pair.pair_right"
         },
         {
          "label": "convert",
          "node": "4189624856124316535",
          "rule": ""
         },
         {
          "node": "-5004528405226475050",
          "rule": "__main__.optimize_getitem_add"
         },
         {
          "label": "optimize",
          "node": "-5004528405226475050",
          "rule": ""
         },
         {
          "node": "-2726923864857456246",
          "rule": "metadsl_core.numpy.box_unbox_ndarray_compat"
         },
         {
          "node": "-1102223244832805877",
          "rule": "metadsl_core.numpy_engine.unbox_ndarray_add"
         },
         {
          "node": "3343885393411811236",
          "rule": "metadsl_core.numpy_engine.unbox_ndarray_getitem"
         },
         {
          "node": "6579086117271692900",
          "rule": "metadsl_core.numpy_engine.unbox_arange"
         },
         {
          "node": "6377527444286256799",
          "rule": "metadsl_core.numpy_engine.unbox_integer_rule"
         },
         {
          "node": "-6643378300419386036",
          "rule": "metadsl_core.numpy_engine.unbox_idxs_rule"
         },
         {
          "node": "-2207259241636318184",
          "rule": "metadsl_core.numpy_engine.unbox_integer_rule"
         },
         {
          "label": "unbox",
          "node": "-2207259241636318184",
          "rule": ""
         },
         {
          "node": "-577775179611225789",
          "rule": "metadsl_core.numpy_engine.arange"
         },
         {
          "node": "6974158062019112628",
          "rule": "metadsl_core.numpy_engine.ndarray_getitem"
         },
         {
          "node": "1293533598844267589",
          "rule": "metadsl_core.numpy_engine.ndarray_add"
         },
         {
          "label": "execute",
          "node": "1293533598844267589",
          "rule": ""
         }
        ]
       }
      },
      "text/plain": [
       "Typez(definitions=None, nodes=[PrimitiveNode(id='2826150730839618930', type='int', repr='100'), PrimitiveNode(id='74627363753923008', type='int', repr='5'), CallNode(id='4334666432044097486', function='arange', type_params=None, args=['2826150730839618930'], kwargs=None), CallNode(id='-5451433778925814823', function='NDArrayCompat.__add__', type_params=None, args=['4334666432044097486', '4334666432044097486'], kwargs=None), CallNode(id='-3654589126896044216', function='NDArrayCompat.__getitem__', type_params=None, args=['-5451433778925814823', '74627363753923008'], kwargs=None), CallNode(id='-4006809763795812991', function='NDArrayCompat.to_ndarray', type_params=None, args=['-3654589126896044216'], kwargs=None), PrimitiveNode(id='5466943891781263114', type='Infer', repr='arange_'), CallNode(id='-1268483836564972973', function='Converter.convert', type_params={'T': DeclaredTypeInstance(type='Integer', params=None)}, args=['2826150730839618930'], kwargs=None), CallNode(id='-3235598987296499286', function='Abstraction.from_fn', type_params=None, args=['5466943891781263114'], kwargs=None), CallNode(id='-8460312764196435109', function='Maybe.map', type_params={'T': DeclaredTypeInstance(type='Integer', params=None)}, args=['-1268483836564972973', '-3235598987296499286'], kwargs=None), CallNode(id='2054096632475985220', function='NDArrayCompat.from_ndarray', type_params=None, args=['-8460312764196435109'], kwargs=None), CallNode(id='4001830451447226948', function='NDArrayCompat.__add__', type_params=None, args=['2054096632475985220', '2054096632475985220'], kwargs=None), CallNode(id='6312611956289242140', function='NDArrayCompat.__getitem__', type_params=None, args=['4001830451447226948', '74627363753923008'], kwargs=None), CallNode(id='-3202461150888573559', function='NDArrayCompat.to_ndarray', type_params=None, args=['6312611956289242140'], kwargs=None), CallNode(id='-1060229783844073802', function='Integer.from_int', type_params=None, args=['2826150730839618930'], kwargs=None), CallNode(id='5244038888244487127', function='Maybe.just', type_params=None, args=['-1060229783844073802'], kwargs=None), CallNode(id='-6575371619518402299', function='Maybe.map', type_params={'T': DeclaredTypeInstance(type='Integer', params=None)}, args=['5244038888244487127', '-3235598987296499286'], kwargs=None), CallNode(id='8910379968468538916', function='NDArrayCompat.from_ndarray', type_params=None, args=['-6575371619518402299'], kwargs=None), CallNode(id='3067769900116173062', function='NDArrayCompat.__add__', type_params=None, args=['8910379968468538916', '8910379968468538916'], kwargs=None), CallNode(id='-8293150841884712307', function='NDArrayCompat.__getitem__', type_params=None, args=['3067769900116173062', '74627363753923008'], kwargs=None), CallNode(id='-3753584583687244436', function='NDArrayCompat.to_ndarray', type_params=None, args=['-8293150841884712307'], kwargs=None), PrimitiveNode(id='4238745491341035721', type='FunctionReplaceTyping', repr='FunctionReplaceTyping(fn=<function NDArrayCompat.__getitem__.<locals>.<lambda> at 0x7f9a08cf28b0>, typevars=HashableMapping(_items=()), typevars_in_scope=frozenset({~T, ~U}), inner_mapping=ReplaceTypevarsExpression(typevars=HashableMapping(_items=())))'), CallNode(id='183710255350735291', function='Converter.convert', type_params={'T': DeclaredTypeInstance(type='Either', params={'U': DeclaredTypeInstance(type='Vec', params={'T': DeclaredTypeInstance(type='Integer', params=None)}), 'T': DeclaredTypeInstance(type='Integer', params=None)})}, args=['74627363753923008'], kwargs=None), CallNode(id='8457293374621369720', function='Abstraction.from_fn', type_params={'U': DeclaredTypeInstance(type='NDArray', params=None), 'T': DeclaredTypeInstance(type='Pair', params={'U': DeclaredTypeInstance(type='Either', params={'U': DeclaredTypeInstance(type='Vec', params={'T': DeclaredTypeInstance(type='Integer', params=None)}), 'T': DeclaredTypeInstance(type='Integer', params=None)}), 'T': DeclaredTypeInstance(type='NDArray', params=None)})}, args=['4238745491341035721'], kwargs=None), CallNode(id='6554604528653822481', function='Converter.convert', type_params={'T': DeclaredTypeInstance(type='NDArray', params=None)}, args=['3067769900116173062'], kwargs=None), CallNode(id='-1250964469931568955', function='Maybe.__and__', type_params={'T': DeclaredTypeInstance(type='NDArray', params=None)}, args=['6554604528653822481', '183710255350735291'], kwargs=None), CallNode(id='2158358133323084896', function='Maybe.map', type_params={'T': DeclaredTypeInstance(type='Pair', params={'U': DeclaredTypeInstance(type='Either', params={'U': DeclaredTypeInstance(type='Vec', params={'T': DeclaredTypeInstance(type='Integer', params=None)}), 'T': DeclaredTypeInstance(type='Integer', params=None)}), 'T': DeclaredTypeInstance(type='NDArray', params=None)})}, args=['-1250964469931568955', '8457293374621369720'], kwargs=None), CallNode(id='-7415263874963144763', function='NDArrayCompat.from_ndarray', type_params=None, args=['2158358133323084896'], kwargs=None), CallNode(id='-6622046077155676707', function='NDArrayCompat.to_ndarray', type_params=None, args=['-7415263874963144763'], kwargs=None), PrimitiveNode(id='-6055780641493375283', type='BoundInfer', repr='Either.left'), PrimitiveNode(id='-7218107115001118553', type='BoundInfer', repr='Either.right'), CallNode(id='-83960028438505675', function='Converter.convert', type_params={'T': DeclaredTypeInstance(type='Integer', params=None)}, args=['74627363753923008'], kwargs=None), CallNode(id='-2587848750163407994', function='Converter.convert', type_params={'T': DeclaredTypeInstance(type='Vec', params={'T': DeclaredTypeInstance(type='Integer', params=None)})}, args=['74627363753923008'], kwargs=None), CallNode(id='1738858000031346750', function='Abstraction.from_fn', type_params=None, args=['-6055780641493375283'], kwargs=None), CallNode(id='-8072727974964254936', function='Abstraction.from_fn', type_params=None, args=['-7218107115001118553'], kwargs=None), CallNode(id='5321959325120338942', function='Maybe.map', type_params={'T': DeclaredTypeInstance(type='Integer', params=None)}, args=['-83960028438505675', '1738858000031346750'], kwargs=None), CallNode(id='1756446271584825612', function='Maybe.map', type_params={'T': DeclaredTypeInstance(type='Vec', params={'T': DeclaredTypeInstance(type='Integer', params=None)})}, args=['-2587848750163407994', '-8072727974964254936'], kwargs=None), CallNode(id='-3034253720372951427', function='Maybe.__or__', type_params={'T': DeclaredTypeInstance(type='Either', params={'U': DeclaredTypeInstance(type='Vec', params={'T': DeclaredTypeInstance(type='Integer', params=None)}), 'T': DeclaredTypeInstance(type='Integer', params=None)})}, args=['5321959325120338942', '1756446271584825612'], kwargs=None), CallNode(id='1100680204733807586', function='Maybe.__and__', type_params={'T': DeclaredTypeInstance(type='NDArray', params=None)}, args=['6554604528653822481', '-3034253720372951427'], kwargs=None), CallNode(id='3411093402983602423', function='Maybe.map', type_params={'T': DeclaredTypeInstance(type='Pair', params={'U': DeclaredTypeInstance(type='Either', params={'U': DeclaredTypeInstance(type='Vec', params={'T': DeclaredTypeInstance(type='Integer', params=None)}), 'T': DeclaredTypeInstance(type='Integer', params=None)}), 'T': DeclaredTypeInstance(type='NDArray', params=None)})}, args=['1100680204733807586', '8457293374621369720'], kwargs=None), CallNode(id='2444931574767288844', function='NDArrayCompat.from_ndarray', type_params=None, args=['3411093402983602423'], kwargs=None), CallNode(id='-6678175736661107391', function='NDArrayCompat.to_ndarray', type_params=None, args=['2444931574767288844'], kwargs=None), CallNode(id='7126651426372720159', function='Integer.from_int', type_params=None, args=['74627363753923008'], kwargs=None), CallNode(id='-8143593206559625754', function='Maybe.just', type_params=None, args=['7126651426372720159'], kwargs=None), CallNode(id='-4718177885023625612', function='Maybe.map', type_params={'T': DeclaredTypeInstance(type='Integer', params=None)}, args=['-8143593206559625754', '1738858000031346750'], kwargs=None), CallNode(id='-3122357703968012961', function='Maybe.__or__', type_params={'T': DeclaredTypeInstance(type='Either', params={'U': DeclaredTypeInstance(type='Vec', params={'T': DeclaredTypeInstance(type='Integer', params=None)}), 'T': DeclaredTypeInstance(type='Integer', params=None)})}, args=['-4718177885023625612', '1756446271584825612'], kwargs=None), CallNode(id='-7389107363096172910', function='Maybe.__and__', type_params={'T': DeclaredTypeInstance(type='NDArray', params=None)}, args=['6554604528653822481', '-3122357703968012961'], kwargs=None), CallNode(id='7184015972134449086', function='Maybe.map', type_params={'T': DeclaredTypeInstance(type='Pair', params={'U': DeclaredTypeInstance(type='Either', params={'U': DeclaredTypeInstance(type='Vec', params={'T': DeclaredTypeInstance(type='Integer', params=None)}), 'T': DeclaredTypeInstance(type='Integer', params=None)}), 'T': DeclaredTypeInstance(type='NDArray', params=None)})}, args=['-7389107363096172910', '8457293374621369720'], kwargs=None), CallNode(id='-1424870192568379107', function='NDArrayCompat.from_ndarray', type_params=None, args=['7184015972134449086'], kwargs=None), CallNode(id='-1625044926674844795', function='NDArrayCompat.to_ndarray', type_params=None, args=['-1424870192568379107'], kwargs=None), PrimitiveNode(id='-2671093203299680548', type='Variable', repr='0x7f9a09313070'), CallNode(id='-4597134103125839518', function='Abstraction.create_variable', type_params={'U': DeclaredTypeInstance(type='NDArray', params=None), 'T': DeclaredTypeInstance(type='Integer', params=None)}, args=['-2671093203299680548'], kwargs=None), CallNode(id='5059658964639418543', function='arange_', type_params=None, args=['-4597134103125839518'], kwargs=None), CallNode(id='8280786291283224508', function='Abstraction.create', type_params={'U': DeclaredTypeInstance(type='NDArray', params=None), 'T': DeclaredTypeInstance(type='Integer', params=None)}, args=['-4597134103125839518', '5059658964639418543'], kwargs=None), CallNode(id='-2666185115034575717', function='Maybe.map', type_params={'T': DeclaredTypeInstance(type='Integer', params=None)}, args=['5244038888244487127', '8280786291283224508'], kwargs=None), CallNode(id='-4239586625481148557', function='NDArrayCompat.from_ndarray', type_params=None, args=['-2666185115034575717'], kwargs=None), CallNode(id='-3790336313115313799', function='NDArrayCompat.__add__', type_params=None, args=['-4239586625481148557', '-4239586625481148557'], kwargs=None), CallNode(id='379063495921330891', function='Converter.convert', type_params={'T': DeclaredTypeInstance(type='NDArray', params=None)}, args=['-3790336313115313799'], kwargs=None), CallNode(id='1403986594589713163', function='Maybe.__and__', type_params={'T': DeclaredTypeInstance(type='NDArray', params=None)}, args=['379063495921330891', '-3122357703968012961'], kwargs=None), CallNode(id='4519175184428653119', function='Maybe.map', type_params={'T': DeclaredTypeInstance(type='Pair', params={'U': DeclaredTypeInstance(type='Either', params={'U': DeclaredTypeInstance(type='Vec', params={'T': DeclaredTypeInstance(type='Integer', params=None)}), 'T': DeclaredTypeInstance(type='Integer', params=None)}), 'T': DeclaredTypeInstance(type='NDArray', params=None)})}, args=['1403986594589713163', '8457293374621369720'], kwargs=None), CallNode(id='-2712376462261765126', function='NDArrayCompat.from_ndarray', type_params=None, args=['4519175184428653119'], kwargs=None), CallNode(id='7496527422440347461', function='NDArrayCompat.to_ndarray', type_params=None, args=['-2712376462261765126'], kwargs=None), PrimitiveNode(id='-2454835613478002572', type='Variable', repr='0x7f9a092c7160'), CallNode(id='-5886017889398815769', function='Abstraction.create_variable', type_params={'U': DeclaredTypeInstance(type='Either', params={'U': DeclaredTypeInstance(type='Vec', params={'T': DeclaredTypeInstance(type='Integer', params=None)}), 'T': DeclaredTypeInstance(type='Integer', params=None)}), 'T': DeclaredTypeInstance(type='Integer', params=None)}, args=['-2454835613478002572'], kwargs=None), CallNode(id='-8436981913115122446', function='Either.left', type_params={'U': DeclaredTypeInstance(type='Vec', params={'T': DeclaredTypeInstance(type='Integer', params=None)}), 'T': DeclaredTypeInstance(type='Integer', params=None)}, args=['-5886017889398815769'], kwargs=None), CallNode(id='-8302432621244139003', function='Abstraction.create', type_params={'U': DeclaredTypeInstance(type='Either', params={'U': DeclaredTypeInstance(type='Vec', params={'T': DeclaredTypeInstance(type='Integer', params=None)}), 'T': DeclaredTypeInstance(type='Integer', params=None)}), 'T': DeclaredTypeInstance(type='Integer', params=None)}, args=['-5886017889398815769', '-8436981913115122446'], kwargs=None), CallNode(id='-3306756969377943537', function='Maybe.map', type_params={'T': DeclaredTypeInstance(type='Integer', params=None)}, args=['-8143593206559625754', '-8302432621244139003'], kwargs=None), CallNode(id='8305042128570877764', function='Maybe.__or__', type_params={'T': DeclaredTypeInstance(type='Either', params={'U': DeclaredTypeInstance(type='Vec', params={'T': DeclaredTypeInstance(type='Integer', params=None)}), 'T': DeclaredTypeInstance(type='Integer', params=None)})}, args=['-3306756969377943537', '1756446271584825612'], kwargs=None), CallNode(id='6380567864238647753', function='Maybe.__and__', type_params={'T': DeclaredTypeInstance(type='NDArray', params=None)}, args=['379063495921330891', '8305042128570877764'], kwargs=None), CallNode(id='-3928796717860547570', function='Maybe.map', type_params={'T': DeclaredTypeInstance(type='Pair', params={'U': DeclaredTypeInstance(type='Either', params={'U': DeclaredTypeInstance(type='Vec', params={'T': DeclaredTypeInstance(type='Integer', params=None)}), 'T': DeclaredTypeInstance(type='Integer', params=None)}), 'T': DeclaredTypeInstance(type='NDArray', params=None)})}, args=['6380567864238647753', '8457293374621369720'], kwargs=None), CallNode(id='-6463871992597382134', function='NDArrayCompat.from_ndarray', type_params=None, args=['-3928796717860547570'], kwargs=None), CallNode(id='-4168469440057463026', function='NDArrayCompat.to_ndarray', type_params=None, args=['-6463871992597382134'], kwargs=None), PrimitiveNode(id='-3115217912298319830', type='Variable', repr='0x7f9a092ea220'), CallNode(id='2040124635429434457', function='Abstraction.create_variable', type_params={'U': DeclaredTypeInstance(type='Either', params={'U': DeclaredTypeInstance(type='Vec', params={'T': DeclaredTypeInstance(type='Integer', params=None)}), 'T': DeclaredTypeInstance(type='Integer', params=None)}), 'T': DeclaredTypeInstance(type='Vec', params={'T': DeclaredTypeInstance(type='Integer', params=None)})}, args=['-3115217912298319830'], kwargs=None), CallNode(id='3673567252596653949', function='Either.right', type_params={'U': DeclaredTypeInstance(type='Vec', params={'T': DeclaredTypeInstance(type='Integer', params=None)}), 'T': DeclaredTypeInstance(type='Integer', params=None)}, args=['2040124635429434457'], kwargs=None), CallNode(id='-712591329269771533', function='Abstraction.create', type_params={'U': DeclaredTypeInstance(type='Either', params={'U': DeclaredTypeInstance(type='Vec', params={'T': DeclaredTypeInstance(type='Integer', params=None)}), 'T': DeclaredTypeInstance(type='Integer', params=None)}), 'T': DeclaredTypeInstance(type='Vec', params={'T': DeclaredTypeInstance(type='Integer', params=None)})}, args=['2040124635429434457', '3673567252596653949'], kwargs=None), CallNode(id='3564384195563626250', function='Maybe.map', type_params={'T': DeclaredTypeInstance(type='Vec', params={'T': DeclaredTypeInstance(type='Integer', params=None)})}, args=['-2587848750163407994', '-712591329269771533'], kwargs=None), CallNode(id='354306075111968386', function='Maybe.__or__', type_params={'T': DeclaredTypeInstance(type='Either', params={'U': DeclaredTypeInstance(type='Vec', params={'T': DeclaredTypeInstance(type='Integer', params=None)}), 'T': DeclaredTypeInstance(type='Integer', params=None)})}, args=['-3306756969377943537', '3564384195563626250'], kwargs=None), CallNode(id='-3535233505548070300', function='Maybe.__and__', type_params={'T': DeclaredTypeInstance(type='NDArray', params=None)}, args=['379063495921330891', '354306075111968386'], kwargs=None), CallNode(id='-5055039717917169793', function='Maybe.map', type_params={'T': DeclaredTypeInstance(type='Pair', params={'U': DeclaredTypeInstance(type='Either', params={'U': DeclaredTypeInstance(type='Vec', params={'T': DeclaredTypeInstance(type='Integer', params=None)}), 'T': DeclaredTypeInstance(type='Integer', params=None)}), 'T': DeclaredTypeInstance(type='NDArray', params=None)})}, args=['-3535233505548070300', '8457293374621369720'], kwargs=None), CallNode(id='6140355760503193040', function='NDArrayCompat.from_ndarray', type_params=None, args=['-5055039717917169793'], kwargs=None), CallNode(id='8108798777409277819', function='NDArrayCompat.to_ndarray', type_params=None, args=['6140355760503193040'], kwargs=None), PrimitiveNode(id='7127451832137703534', type='Variable', repr='0x7f9a092c63a0'), CallNode(id='7218450529924600228', function='Abstraction.create_variable', type_params={'U': DeclaredTypeInstance(type='NDArray', params=None), 'T': DeclaredTypeInstance(type='Pair', params={'U': DeclaredTypeInstance(type='Either', params={'U': DeclaredTypeInstance(type='Vec', params={'T': DeclaredTypeInstance(type='Integer', params=None)}), 'T': DeclaredTypeInstance(type='Integer', params=None)}), 'T': DeclaredTypeInstance(type='NDArray', params=None)})}, args=['7127451832137703534'], kwargs=None), CallNode(id='9110188145180211679', function='Pair.left', type_params={'U': DeclaredTypeInstance(type='Either', params={'U': DeclaredTypeInstance(type='Vec', params={'T': DeclaredTypeInstance(type='Integer', params=None)}), 'T': DeclaredTypeInstance(type='Integer', params=None)}), 'T': DeclaredTypeInstance(type='NDArray', params=None)}, args=['7218450529924600228'], kwargs=None), CallNode(id='2853675336281671152', function='Pair.right', type_params={'U': DeclaredTypeInstance(type='Either', params={'U': DeclaredTypeInstance(type='Vec', params={'T': DeclaredTypeInstance(type='Integer', params=None)}), 'T': DeclaredTypeInstance(type='Integer', params=None)}), 'T': DeclaredTypeInstance(type='NDArray', params=None)}, args=['7218450529924600228'], kwargs=None), CallNode(id='-46471524402306594', function='NDArray.__getitem__', type_params=None, args=['9110188145180211679', '2853675336281671152'], kwargs=None), CallNode(id='-4833404713574776669', function='Abstraction.create', type_params={'U': DeclaredTypeInstance(type='NDArray', params=None), 'T': DeclaredTypeInstance(type='Pair', params={'U': DeclaredTypeInstance(type='Either', params={'U': DeclaredTypeInstance(type='Vec', params={'T': DeclaredTypeInstance(type='Integer', params=None)}), 'T': DeclaredTypeInstance(type='Integer', params=None)}), 'T': DeclaredTypeInstance(type='NDArray', params=None)})}, args=['7218450529924600228', '-46471524402306594'], kwargs=None), CallNode(id='4825945032086044703', function='Maybe.map', type_params={'T': DeclaredTypeInstance(type='Pair', params={'U': DeclaredTypeInstance(type='Either', params={'U': DeclaredTypeInstance(type='Vec', params={'T': DeclaredTypeInstance(type='Integer', params=None)}), 'T': DeclaredTypeInstance(type='Integer', params=None)}), 'T': DeclaredTypeInstance(type='NDArray', params=None)})}, args=['-3535233505548070300', '-4833404713574776669'], kwargs=None), CallNode(id='1039025584482021799', function='NDArrayCompat.from_ndarray', type_params=None, args=['4825945032086044703'], kwargs=None), CallNode(id='524361902236029546', function='NDArrayCompat.to_ndarray', type_params=None, args=['1039025584482021799'], kwargs=None), CallNode(id='-2958785375455268643', function='Maybe.nothing', type_params={'T': DeclaredTypeInstance(type='NDArray', params=None)}, args=None, kwargs=None), PrimitiveNode(id='-190740728965243028', type='BoundInfer', repr='Maybe.just'), CallNode(id='-6103049929195058089', function='Abstraction.from_fn', type_params=None, args=['-190740728965243028'], kwargs=None), CallNode(id='7787575488474568162', function='Abstraction.__add__', type_params={'U': DeclaredTypeInstance(type='Maybe', params={'T': DeclaredTypeInstance(type='NDArray', params=None)}), 'T': DeclaredTypeInstance(type='NDArray', params=None)}, args=['-6103049929195058089', '8280786291283224508'], kwargs=None), CallNode(id='-8848977450514908779', function='Maybe.match', type_params={'T': DeclaredTypeInstance(type='Integer', params=None)}, args=['5244038888244487127', '-2958785375455268643', '7787575488474568162'], kwargs=None), CallNode(id='5712877685537845044', function='NDArrayCompat.from_ndarray', type_params=None, args=['-8848977450514908779'], kwargs=None), CallNode(id='3503731351936903634', function='NDArrayCompat.__add__', type_params=None, args=['5712877685537845044', '5712877685537845044'], kwargs=None), CallNode(id='-47400203866432127', function='Converter.convert', type_params={'T': DeclaredTypeInstance(type='NDArray', params=None)}, args=['3503731351936903634'], kwargs=None), CallNode(id='-633989850766951999', function='Maybe.__and__', type_params={'T': DeclaredTypeInstance(type='NDArray', params=None)}, args=['-47400203866432127', '354306075111968386'], kwargs=None), CallNode(id='-7589156230013528252', function='Maybe.map', type_params={'T': DeclaredTypeInstance(type='Pair', params={'U': DeclaredTypeInstance(type='Either', params={'U': DeclaredTypeInstance(type='Vec', params={'T': DeclaredTypeInstance(type='Integer', params=None)}), 'T': DeclaredTypeInstance(type='Integer', params=None)}), 'T': DeclaredTypeInstance(type='NDArray', params=None)})}, args=['-633989850766951999', '-4833404713574776669'], kwargs=None), CallNode(id='-4416562402233504771', function='NDArrayCompat.from_ndarray', type_params=None, args=['-7589156230013528252'], kwargs=None), CallNode(id='817541809905048380', function='NDArrayCompat.to_ndarray', type_params=None, args=['-4416562402233504771'], kwargs=None), CallNode(id='-3929965295117828268', function='Maybe.nothing', type_params={'T': DeclaredTypeInstance(type='Either', params={'U': DeclaredTypeInstance(type='Vec', params={'T': DeclaredTypeInstance(type='Integer', params=None)}), 'T': DeclaredTypeInstance(type='Integer', params=None)})}, args=None, kwargs=None), PrimitiveNode(id='2340429345748431821', type='BoundInfer', repr='Maybe.just'), CallNode(id='3760381120374970453', function='Abstraction.from_fn', type_params=None, args=['2340429345748431821'], kwargs=None), CallNode(id='-1760358904151824155', function='Abstraction.__add__', type_params={'U': DeclaredTypeInstance(type='Maybe', params={'T': DeclaredTypeInstance(type='Either', params={'U': DeclaredTypeInstance(type='Vec', params={'T': DeclaredTypeInstance(type='Integer', params=None)}), 'T': DeclaredTypeInstance(type='Integer', params=None)})}), 'T': DeclaredTypeInstance(type='Either', params={'U': DeclaredTypeInstance(type='Vec', params={'T': DeclaredTypeInstance(type='Integer', params=None)}), 'T': DeclaredTypeInstance(type='Integer', params=None)})}, args=['3760381120374970453', '-8302432621244139003'], kwargs=None), CallNode(id='-1403057447777807093', function='Maybe.match', type_params={'T': DeclaredTypeInstance(type='Integer', params=None)}, args=['-8143593206559625754', '-3929965295117828268', '-1760358904151824155'], kwargs=None), CallNode(id='-1050283987793134456', function='Maybe.__or__', type_params={'T': DeclaredTypeInstance(type='Either', params={'U': DeclaredTypeInstance(type='Vec', params={'T': DeclaredTypeInstance(type='Integer', params=None)}), 'T': DeclaredTypeInstance(type='Integer', params=None)})}, args=['-1403057447777807093', '3564384195563626250'], kwargs=None), CallNode(id='1504188397442991305', function='Maybe.__and__', type_params={'T': DeclaredTypeInstance(type='NDArray', params=None)}, args=['-47400203866432127', '-1050283987793134456'], kwargs=None), CallNode(id='-5550127641243047739', function='Maybe.map', type_params={'T': DeclaredTypeInstance(type='Pair', params={'U': DeclaredTypeInstance(type='Either', params={'U': DeclaredTypeInstance(type='Vec', params={'T': DeclaredTypeInstance(type='Integer', params=None)}), 'T': DeclaredTypeInstance(type='Integer', params=None)}), 'T': DeclaredTypeInstance(type='NDArray', params=None)})}, args=['1504188397442991305', '-4833404713574776669'], kwargs=None), CallNode(id='6324229892630011372', function='NDArrayCompat.from_ndarray', type_params=None, args=['-5550127641243047739'], kwargs=None), CallNode(id='8497475054835211264', function='NDArrayCompat.to_ndarray', type_params=None, args=['6324229892630011372'], kwargs=None), CallNode(id='-7290287452947310544', function='Abstraction.__add__', type_params={'U': DeclaredTypeInstance(type='Maybe', params={'T': DeclaredTypeInstance(type='Either', params={'U': DeclaredTypeInstance(type='Vec', params={'T': DeclaredTypeInstance(type='Integer', params=None)}), 'T': DeclaredTypeInstance(type='Integer', params=None)})}), 'T': DeclaredTypeInstance(type='Either', params={'U': DeclaredTypeInstance(type='Vec', params={'T': DeclaredTypeInstance(type='Integer', params=None)}), 'T': DeclaredTypeInstance(type='Integer', params=None)})}, args=['3760381120374970453', '-712591329269771533'], kwargs=None), CallNode(id='7726311731002288574', function='Maybe.match', type_params={'T': DeclaredTypeInstance(type='Vec', params={'T': DeclaredTypeInstance(type='Integer', params=None)})}, args=['-2587848750163407994', '-3929965295117828268', '-7290287452947310544'], kwargs=None), CallNode(id='5716427642531003201', function='Maybe.__or__', type_params={'T': DeclaredTypeInstance(type='Either', params={'U': DeclaredTypeInstance(type='Vec', params={'T': DeclaredTypeInstance(type='Integer', params=None)}), 'T': DeclaredTypeInstance(type='Integer', params=None)})}, args=['-1403057447777807093', '7726311731002288574'], kwargs=None), CallNode(id='-875320048350436994', function='Maybe.__and__', type_params={'T': DeclaredTypeInstance(type='NDArray', params=None)}, args=['-47400203866432127', '5716427642531003201'], kwargs=None), CallNode(id='-6888998255372392020', function='Maybe.map', type_params={'T': DeclaredTypeInstance(type='Pair', params={'U': DeclaredTypeInstance(type='Either', params={'U': DeclaredTypeInstance(type='Vec', params={'T': DeclaredTypeInstance(type='Integer', params=None)}), 'T': DeclaredTypeInstance(type='Integer', params=None)}), 'T': DeclaredTypeInstance(type='NDArray', params=None)})}, args=['-875320048350436994', '-4833404713574776669'], kwargs=None), CallNode(id='9166902894538304109', function='NDArrayCompat.from_ndarray', type_params=None, args=['-6888998255372392020'], kwargs=None), CallNode(id='3051554767070140790', function='NDArrayCompat.to_ndarray', type_params=None, args=['9166902894538304109'], kwargs=None), CallNode(id='-7411052093630565038', function='Abstraction.__call__', type_params={'U': DeclaredTypeInstance(type='Maybe', params={'T': DeclaredTypeInstance(type='NDArray', params=None)}), 'T': DeclaredTypeInstance(type='Integer', params=None)}, args=['7787575488474568162', '-1060229783844073802'], kwargs=None), CallNode(id='2329479126957535216', function='NDArrayCompat.from_ndarray', type_params=None, args=['-7411052093630565038'], kwargs=None), CallNode(id='1050374780076902972', function='NDArrayCompat.__add__', type_params=None, args=['2329479126957535216', '2329479126957535216'], kwargs=None), CallNode(id='-1903039029807301025', function='Converter.convert', type_params={'T': DeclaredTypeInstance(type='NDArray', params=None)}, args=['1050374780076902972'], kwargs=None), CallNode(id='-5884092952184665123', function='Maybe.__and__', type_params={'T': DeclaredTypeInstance(type='NDArray', params=None)}, args=['-1903039029807301025', '5716427642531003201'], kwargs=None), CallNode(id='5676580319955077101', function='Maybe.map', type_params={'T': DeclaredTypeInstance(type='Pair', params={'U': DeclaredTypeInstance(type='Either', params={'U': DeclaredTypeInstance(type='Vec', params={'T': DeclaredTypeInstance(type='Integer', params=None)}), 'T': DeclaredTypeInstance(type='Integer', params=None)}), 'T': DeclaredTypeInstance(type='NDArray', params=None)})}, args=['-5884092952184665123', '-4833404713574776669'], kwargs=None), CallNode(id='-193576319992062923', function='NDArrayCompat.from_ndarray', type_params=None, args=['5676580319955077101'], kwargs=None), CallNode(id='5761042945550501324', function='NDArrayCompat.to_ndarray', type_params=None, args=['-193576319992062923'], kwargs=None), CallNode(id='-7565999281485485150', function='Abstraction.__call__', type_params={'U': DeclaredTypeInstance(type='Maybe', params={'T': DeclaredTypeInstance(type='Either', params={'U': DeclaredTypeInstance(type='Vec', params={'T': DeclaredTypeInstance(type='Integer', params=None)}), 'T': DeclaredTypeInstance(type='Integer', params=None)})}), 'T': DeclaredTypeInstance(type='Integer', params=None)}, args=['-1760358904151824155', '7126651426372720159'], kwargs=None), CallNode(id='-6912521671992819582', function='Maybe.__or__', type_params={'T': DeclaredTypeInstance(type='Either', params={'U': DeclaredTypeInstance(type='Vec', params={'T': DeclaredTypeInstance(type='Integer', params=None)}), 'T': DeclaredTypeInstance(type='Integer', params=None)})}, args=['-7565999281485485150', '7726311731002288574'], kwargs=None), CallNode(id='-5425686463835921133', function='Maybe.__and__', type_params={'T': DeclaredTypeInstance(type='NDArray', params=None)}, args=['-1903039029807301025', '-6912521671992819582'], kwargs=None), CallNode(id='-3794655749489572670', function='Maybe.map', type_params={'T': DeclaredTypeInstance(type='Pair', params={'U': DeclaredTypeInstance(type='Either', params={'U': DeclaredTypeInstance(type='Vec', params={'T': DeclaredTypeInstance(type='Integer', params=None)}), 'T': DeclaredTypeInstance(type='Integer', params=None)}), 'T': DeclaredTypeInstance(type='NDArray', params=None)})}, args=['-5425686463835921133', '-4833404713574776669'], kwargs=None), CallNode(id='-5940115282154885663', function='NDArrayCompat.from_ndarray', type_params=None, args=['-3794655749489572670'], kwargs=None), CallNode(id='4661250145743216000', function='NDArrayCompat.to_ndarray', type_params=None, args=['-5940115282154885663'], kwargs=None), CallNode(id='-4590146085603208295', function='Abstraction.__add__', type_params={'U': DeclaredTypeInstance(type='Maybe', params={'T': DeclaredTypeInstance(type='NDArray', params=None)}), 'T': DeclaredTypeInstance(type='NDArray', params=None)}, args=['-6103049929195058089', '-4833404713574776669'], kwargs=None), CallNode(id='1526868178858336882', function='Maybe.match', type_params={'T': DeclaredTypeInstance(type='Pair', params={'U': DeclaredTypeInstance(type='Either', params={'U': DeclaredTypeInstance(type='Vec', params={'T': DeclaredTypeInstance(type='Integer', params=None)}), 'T': DeclaredTypeInstance(type='Integer', params=None)}), 'T': DeclaredTypeInstance(type='NDArray', params=None)})}, args=['-5425686463835921133', '-2958785375455268643', '-4590146085603208295'], kwargs=None), CallNode(id='7386459612604433455', function='NDArrayCompat.from_ndarray', type_params=None, args=['1526868178858336882'], kwargs=None), CallNode(id='6243725962661269352', function='NDArrayCompat.to_ndarray', type_params=None, args=['7386459612604433455'], kwargs=None), PrimitiveNode(id='-4803217483435550057', type='Variable', repr='0x7f9a0930ed60'), CallNode(id='7984798405484519962', function='Abstraction.create_variable', type_params={'U': DeclaredTypeInstance(type='Maybe', params={'T': DeclaredTypeInstance(type='NDArray', params=None)}), 'T': DeclaredTypeInstance(type='NDArray', params=None)}, args=['-4803217483435550057'], kwargs=None), CallNode(id='-340194749516257123', function='Maybe.just', type_params={'T': DeclaredTypeInstance(type='NDArray', params=None)}, args=['7984798405484519962'], kwargs=None), CallNode(id='-4759437429602173186', function='Abstraction.create', type_params={'U': DeclaredTypeInstance(type='Maybe', params={'T': DeclaredTypeInstance(type='NDArray', params=None)}), 'T': DeclaredTypeInstance(type='NDArray', params=None)}, args=['7984798405484519962', '-340194749516257123'], kwargs=None), CallNode(id='-5383008186142284430', function='Abstraction.__add__', type_params={'U': DeclaredTypeInstance(type='Maybe', params={'T': DeclaredTypeInstance(type='NDArray', params=None)}), 'T': DeclaredTypeInstance(type='NDArray', params=None)}, args=['-4759437429602173186', '8280786291283224508'], kwargs=None), CallNode(id='3336066822073065728', function='Abstraction.__call__', type_params={'U': DeclaredTypeInstance(type='Maybe', params={'T': DeclaredTypeInstance(type='NDArray', params=None)}), 'T': DeclaredTypeInstance(type='Integer', params=None)}, args=['-5383008186142284430', '-1060229783844073802'], kwargs=None), CallNode(id='4711478045408773999', function='Abstraction.__add__', type_params={'U': DeclaredTypeInstance(type='Maybe', params={'T': DeclaredTypeInstance(type='NDArray', params=None)}), 'T': DeclaredTypeInstance(type='NDArray', params=None)}, args=['-4759437429602173186', '-4833404713574776669'], kwargs=None), CallNode(id='-5979644511414142017', function='NDArrayCompat.from_ndarray', type_params=None, args=['3336066822073065728'], kwargs=None), CallNode(id='-2854445895937269601', function='NDArrayCompat.__add__', type_params=None, args=['-5979644511414142017', '-5979644511414142017'], kwargs=None), CallNode(id='-5203893267072395395', function='Converter.convert', type_params={'T': DeclaredTypeInstance(type='NDArray', params=None)}, args=['-2854445895937269601'], kwargs=None), CallNode(id='7637750677860458959', function='Maybe.__and__', type_params={'T': DeclaredTypeInstance(type='NDArray', params=None)}, args=['-5203893267072395395', '-6912521671992819582'], kwargs=None), CallNode(id='-5766954416685998591', function='Maybe.match', type_params={'T': DeclaredTypeInstance(type='Pair', params={'U': DeclaredTypeInstance(type='Either', params={'U': DeclaredTypeInstance(type='Vec', params={'T': DeclaredTypeInstance(type='Integer', params=None)}), 'T': DeclaredTypeInstance(type='Integer', params=None)}), 'T': DeclaredTypeInstance(type='NDArray', params=None)})}, args=['7637750677860458959', '-2958785375455268643', '4711478045408773999'], kwargs=None), CallNode(id='-8034297314150764346', function='NDArrayCompat.from_ndarray', type_params=None, args=['-5766954416685998591'], kwargs=None), CallNode(id='-616640555469698575', function='NDArrayCompat.to_ndarray', type_params=None, args=['-8034297314150764346'], kwargs=None), PrimitiveNode(id='-4223950750880694779', type='Variable', repr='0x7f9a0934ee20'), CallNode(id='-4776611429854669966', function='Abstraction.create_variable', type_params={'U': DeclaredTypeInstance(type='Maybe', params={'T': DeclaredTypeInstance(type='Either', params={'U': DeclaredTypeInstance(type='Vec', params={'T': DeclaredTypeInstance(type='Integer', params=None)}), 'T': DeclaredTypeInstance(type='Integer', params=None)})}), 'T': DeclaredTypeInstance(type='Either', params={'U': DeclaredTypeInstance(type='Vec', params={'T': DeclaredTypeInstance(type='Integer', params=None)}), 'T': DeclaredTypeInstance(type='Integer', params=None)})}, args=['-4223950750880694779'], kwargs=None), CallNode(id='134008635680738824', function='Maybe.just', type_params={'T': DeclaredTypeInstance(type='Either', params={'U': DeclaredTypeInstance(type='Vec', params={'T': DeclaredTypeInstance(type='Integer', params=None)}), 'T': DeclaredTypeInstance(type='Integer', params=None)})}, args=['-4776611429854669966'], kwargs=None), CallNode(id='3445697509068019681', function='Abstraction.create', type_params={'U': DeclaredTypeInstance(type='Maybe', params={'T': DeclaredTypeInstance(type='Either', params={'U': DeclaredTypeInstance(type='Vec', params={'T': DeclaredTypeInstance(type='Integer', params=None)}), 'T': DeclaredTypeInstance(type='Integer', params=None)})}), 'T': DeclaredTypeInstance(type='Either', params={'U': DeclaredTypeInstance(type='Vec', params={'T': DeclaredTypeInstance(type='Integer', params=None)}), 'T': DeclaredTypeInstance(type='Integer', params=None)})}, args=['-4776611429854669966', '134008635680738824'], kwargs=None), CallNode(id='-2280423177753481611', function='Abstraction.__add__', type_params={'U': DeclaredTypeInstance(type='Maybe', params={'T': DeclaredTypeInstance(type='Either', params={'U': DeclaredTypeInstance(type='Vec', params={'T': DeclaredTypeInstance(type='Integer', params=None)}), 'T': DeclaredTypeInstance(type='Integer', params=None)})}), 'T': DeclaredTypeInstance(type='Either', params={'U': DeclaredTypeInstance(type='Vec', params={'T': DeclaredTypeInstance(type='Integer', params=None)}), 'T': DeclaredTypeInstance(type='Integer', params=None)})}, args=['3445697509068019681', '-8302432621244139003'], kwargs=None), CallNode(id='-967237613159329092', function='Abstraction.__add__', type_params={'U': DeclaredTypeInstance(type='Maybe', params={'T': DeclaredTypeInstance(type='Either', params={'U': DeclaredTypeInstance(type='Vec', params={'T': DeclaredTypeInstance(type='Integer', params=None)}), 'T': DeclaredTypeInstance(type='Integer', params=None)})}), 'T': DeclaredTypeInstance(type='Either', params={'U': DeclaredTypeInstance(type='Vec', params={'T': DeclaredTypeInstance(type='Integer', params=None)}), 'T': DeclaredTypeInstance(type='Integer', params=None)})}, args=['3445697509068019681', '-712591329269771533'], kwargs=None), CallNode(id='-3671724398802552954', function='Abstraction.__call__', type_params={'U': DeclaredTypeInstance(type='Maybe', params={'T': DeclaredTypeInstance(type='Either', params={'U': DeclaredTypeInstance(type='Vec', params={'T': DeclaredTypeInstance(type='Integer', params=None)}), 'T': DeclaredTypeInstance(type='Integer', params=None)})}), 'T': DeclaredTypeInstance(type='Integer', params=None)}, args=['-2280423177753481611', '7126651426372720159'], kwargs=None), CallNode(id='-7143302756332794749', function='Maybe.match', type_params={'T': DeclaredTypeInstance(type='Vec', params={'T': DeclaredTypeInstance(type='Integer', params=None)})}, args=['-2587848750163407994', '-3929965295117828268', '-967237613159329092'], kwargs=None), CallNode(id='8536561851484215044', function='Maybe.__or__', type_params={'T': DeclaredTypeInstance(type='Either', params={'U': DeclaredTypeInstance(type='Vec', params={'T': DeclaredTypeInstance(type='Integer', params=None)}), 'T': DeclaredTypeInstance(type='Integer', params=None)})}, args=['-3671724398802552954', '-7143302756332794749'], kwargs=None), CallNode(id='-8074561872650333739', function='Maybe.__and__', type_params={'T': DeclaredTypeInstance(type='NDArray', params=None)}, args=['-5203893267072395395', '8536561851484215044'], kwargs=None), CallNode(id='-4938132439902749908', function='Maybe.match', type_params={'T': DeclaredTypeInstance(type='Pair', params={'U': DeclaredTypeInstance(type='Either', params={'U': DeclaredTypeInstance(type='Vec', params={'T': DeclaredTypeInstance(type='Integer', params=None)}), 'T': DeclaredTypeInstance(type='Integer', params=None)}), 'T': DeclaredTypeInstance(type='NDArray', params=None)})}, args=['-8074561872650333739', '-2958785375455268643', '4711478045408773999'], kwargs=None), CallNode(id='-6578797274202086050', function='NDArrayCompat.from_ndarray', type_params=None, args=['-4938132439902749908'], kwargs=None), CallNode(id='-6225815656647531091', function='NDArrayCompat.to_ndarray', type_params=None, args=['-6578797274202086050'], kwargs=None), CallNode(id='5688834387472333078', function='Maybe.just', type_params={'T': DeclaredTypeInstance(type='NDArray', params=None)}, args=['5059658964639418543'], kwargs=None), CallNode(id='7703922384606949284', function='Abstraction.create', type_params=None, args=['-4597134103125839518', '5688834387472333078'], kwargs=None), CallNode(id='1645419669198191626', function='Abstraction.__call__', type_params={'U': DeclaredTypeInstance(type='Maybe', params={'T': DeclaredTypeInstance(type='NDArray', params=None)}), 'T': DeclaredTypeInstance(type='Integer', params=None)}, args=['7703922384606949284', '-1060229783844073802'], kwargs=None), CallNode(id='-1464666975284210491', function='NDArrayCompat.from_ndarray', type_params=None, args=['1645419669198191626'], kwargs=None), CallNode(id='3052377136361673166', function='NDArrayCompat.__add__', type_params=None, args=['-1464666975284210491', '-1464666975284210491'], kwargs=None), CallNode(id='-3937193727365173801', function='Converter.convert', type_params={'T': DeclaredTypeInstance(type='NDArray', params=None)}, args=['3052377136361673166'], kwargs=None), CallNode(id='4831867408906092187', function='Maybe.__and__', type_params={'T': DeclaredTypeInstance(type='NDArray', params=None)}, args=['-3937193727365173801', '8536561851484215044'], kwargs=None), CallNode(id='-4761817828933292490', function='Maybe.match', type_params={'T': DeclaredTypeInstance(type='Pair', params={'U': DeclaredTypeInstance(type='Either', params={'U': DeclaredTypeInstance(type='Vec', params={'T': DeclaredTypeInstance(type='Integer', params=None)}), 'T': DeclaredTypeInstance(type='Integer', params=None)}), 'T': DeclaredTypeInstance(type='NDArray', params=None)})}, args=['4831867408906092187', '-2958785375455268643', '4711478045408773999'], kwargs=None), CallNode(id='-1029861997843994379', function='NDArrayCompat.from_ndarray', type_params=None, args=['-4761817828933292490'], kwargs=None), CallNode(id='-2319163312824830979', function='NDArrayCompat.to_ndarray', type_params=None, args=['-1029861997843994379'], kwargs=None), CallNode(id='-5675052942865552742', function='Maybe.just', type_params={'T': DeclaredTypeInstance(type='Either', params={'U': DeclaredTypeInstance(type='Vec', params={'T': DeclaredTypeInstance(type='Integer', params=None)}), 'T': DeclaredTypeInstance(type='Integer', params=None)})}, args=['-8436981913115122446'], kwargs=None), CallNode(id='-2941161869806803296', function='Abstraction.create', type_params=None, args=['-5886017889398815769', '-5675052942865552742'], kwargs=None), CallNode(id='786508743343157827', function='Abstraction.__call__', type_params={'U': DeclaredTypeInstance(type='Maybe', params={'T': DeclaredTypeInstance(type='Either', params={'U': DeclaredTypeInstance(type='Vec', params={'T': DeclaredTypeInstance(type='Integer', params=None)}), 'T': DeclaredTypeInstance(type='Integer', params=None)})}), 'T': DeclaredTypeInstance(type='Integer', params=None)}, args=['-2941161869806803296', '7126651426372720159'], kwargs=None), CallNode(id='2905937892580581604', function='Maybe.__or__', type_params={'T': DeclaredTypeInstance(type='Either', params={'U': DeclaredTypeInstance(type='Vec', params={'T': DeclaredTypeInstance(type='Integer', params=None)}), 'T': DeclaredTypeInstance(type='Integer', params=None)})}, args=['786508743343157827', '-7143302756332794749'], kwargs=None), CallNode(id='-5991904727944530406', function='Maybe.__and__', type_params={'T': DeclaredTypeInstance(type='NDArray', params=None)}, args=['-3937193727365173801', '2905937892580581604'], kwargs=None), CallNode(id='3806170893777096058', function='Maybe.match', type_params={'T': DeclaredTypeInstance(type='Pair', params={'U': DeclaredTypeInstance(type='Either', params={'U': DeclaredTypeInstance(type='Vec', params={'T': DeclaredTypeInstance(type='Integer', params=None)}), 'T': DeclaredTypeInstance(type='Integer', params=None)}), 'T': DeclaredTypeInstance(type='NDArray', params=None)})}, args=['-5991904727944530406', '-2958785375455268643', '4711478045408773999'], kwargs=None), CallNode(id='7001812751295587117', function='NDArrayCompat.from_ndarray', type_params=None, args=['3806170893777096058'], kwargs=None), CallNode(id='-484363451652429564', function='NDArrayCompat.to_ndarray', type_params=None, args=['7001812751295587117'], kwargs=None), CallNode(id='-2798403259163960631', function='Maybe.just', type_params={'T': DeclaredTypeInstance(type='Either', params={'U': DeclaredTypeInstance(type='Vec', params={'T': DeclaredTypeInstance(type='Integer', params=None)}), 'T': DeclaredTypeInstance(type='Integer', params=None)})}, args=['3673567252596653949'], kwargs=None), CallNode(id='-6921600593770772687', function='Abstraction.create', type_params=None, args=['2040124635429434457', '-2798403259163960631'], kwargs=None), CallNode(id='-4452239240915289878', function='Maybe.match', type_params={'T': DeclaredTypeInstance(type='Vec', params={'T': DeclaredTypeInstance(type='Integer', params=None)})}, args=['-2587848750163407994', '-3929965295117828268', '-6921600593770772687'], kwargs=None), CallNode(id='276497172495511486', function='Maybe.__or__', type_params={'T': DeclaredTypeInstance(type='Either', params={'U': DeclaredTypeInstance(type='Vec', params={'T': DeclaredTypeInstance(type='Integer', params=None)}), 'T': DeclaredTypeInstance(type='Integer', params=None)})}, args=['786508743343157827', '-4452239240915289878'], kwargs=None), CallNode(id='-2897574910407733265', function='Maybe.__and__', type_params={'T': DeclaredTypeInstance(type='NDArray', params=None)}, args=['-3937193727365173801', '276497172495511486'], kwargs=None), CallNode(id='2758469130021704142', function='Maybe.match', type_params={'T': DeclaredTypeInstance(type='Pair', params={'U': DeclaredTypeInstance(type='Either', params={'U': DeclaredTypeInstance(type='Vec', params={'T': DeclaredTypeInstance(type='Integer', params=None)}), 'T': DeclaredTypeInstance(type='Integer', params=None)}), 'T': DeclaredTypeInstance(type='NDArray', params=None)})}, args=['-2897574910407733265', '-2958785375455268643', '4711478045408773999'], kwargs=None), CallNode(id='-8932127267562850122', function='NDArrayCompat.from_ndarray', type_params=None, args=['2758469130021704142'], kwargs=None), CallNode(id='-6021251119649582987', function='NDArrayCompat.to_ndarray', type_params=None, args=['-8932127267562850122'], kwargs=None), CallNode(id='3502884101055097330', function='arange_', type_params=None, args=['-1060229783844073802'], kwargs=None), CallNode(id='5981319536184665692', function='Maybe.just', type_params={'T': DeclaredTypeInstance(type='NDArray', params=None)}, args=['3502884101055097330'], kwargs=None), CallNode(id='-1482503005844578115', function='NDArrayCompat.from_ndarray', type_params=None, args=['5981319536184665692'], kwargs=None), CallNode(id='768077976946695323', function='NDArrayCompat.__add__', type_params=None, args=['-1482503005844578115', '-1482503005844578115'], kwargs=None), CallNode(id='3539585437659049649', function='Converter.convert', type_params={'T': DeclaredTypeInstance(type='NDArray', params=None)}, args=['768077976946695323'], kwargs=None), CallNode(id='-747023140377899666', function='Maybe.__and__', type_params={'T': DeclaredTypeInstance(type='NDArray', params=None)}, args=['3539585437659049649', '276497172495511486'], kwargs=None), CallNode(id='4325934917908967534', function='Maybe.match', type_params={'T': DeclaredTypeInstance(type='Pair', params={'U': DeclaredTypeInstance(type='Either', params={'U': DeclaredTypeInstance(type='Vec', params={'T': DeclaredTypeInstance(type='Integer', params=None)}), 'T': DeclaredTypeInstance(type='Integer', params=None)}), 'T': DeclaredTypeInstance(type='NDArray', params=None)})}, args=['-747023140377899666', '-2958785375455268643', '4711478045408773999'], kwargs=None), CallNode(id='-7351453144492828322', function='NDArrayCompat.from_ndarray', type_params=None, args=['4325934917908967534'], kwargs=None), CallNode(id='-507349198397299492', function='NDArrayCompat.to_ndarray', type_params=None, args=['-7351453144492828322'], kwargs=None), CallNode(id='3405549016711160068', function='Either.left', type_params={'U': DeclaredTypeInstance(type='Vec', params={'T': DeclaredTypeInstance(type='Integer', params=None)}), 'T': DeclaredTypeInstance(type='Integer', params=None)}, args=['7126651426372720159'], kwargs=None), CallNode(id='8024432380409486742', function='Maybe.just', type_params={'T': DeclaredTypeInstance(type='Either', params={'U': DeclaredTypeInstance(type='Vec', params={'T': DeclaredTypeInstance(type='Integer', params=None)}), 'T': DeclaredTypeInstance(type='Integer', params=None)})}, args=['3405549016711160068'], kwargs=None), CallNode(id='-2406114154233583820', function='Maybe.__or__', type_params={'T': DeclaredTypeInstance(type='Either', params={'U': DeclaredTypeInstance(type='Vec', params={'T': DeclaredTypeInstance(type='Integer', params=None)}), 'T': DeclaredTypeInstance(type='Integer', params=None)})}, args=['8024432380409486742', '-4452239240915289878'], kwargs=None), CallNode(id='-2647746668351252512', function='Maybe.__and__', type_params={'T': DeclaredTypeInstance(type='NDArray', params=None)}, args=['3539585437659049649', '-2406114154233583820'], kwargs=None), CallNode(id='3373680285368448943', function='Maybe.match', type_params={'T': DeclaredTypeInstance(type='Pair', params={'U': DeclaredTypeInstance(type='Either', params={'U': DeclaredTypeInstance(type='Vec', params={'T': DeclaredTypeInstance(type='Integer', params=None)}), 'T': DeclaredTypeInstance(type='Integer', params=None)}), 'T': DeclaredTypeInstance(type='NDArray', params=None)})}, args=['-2647746668351252512', '-2958785375455268643', '4711478045408773999'], kwargs=None), CallNode(id='-9152712998886349561', function='NDArrayCompat.from_ndarray', type_params=None, args=['3373680285368448943'], kwargs=None), CallNode(id='5085856534911224089', function='NDArrayCompat.to_ndarray', type_params=None, args=['-9152712998886349561'], kwargs=None), CallNode(id='-963407935296943894', function='Maybe.just', type_params={'T': DeclaredTypeInstance(type='NDArray', params=None)}, args=['-46471524402306594'], kwargs=None), CallNode(id='8094337186594391889', function='Abstraction.create', type_params=None, args=['7218450529924600228', '-963407935296943894'], kwargs=None), CallNode(id='-1512139861194407725', function='Maybe.match', type_params={'T': DeclaredTypeInstance(type='Pair', params={'U': DeclaredTypeInstance(type='Either', params={'U': DeclaredTypeInstance(type='Vec', params={'T': DeclaredTypeInstance(type='Integer', params=None)}), 'T': DeclaredTypeInstance(type='Integer', params=None)}), 'T': DeclaredTypeInstance(type='NDArray', params=None)})}, args=['-2647746668351252512', '-2958785375455268643', '8094337186594391889'], kwargs=None), CallNode(id='-5891066788592408392', function='NDArrayCompat.from_ndarray', type_params=None, args=['-1512139861194407725'], kwargs=None), CallNode(id='2570576214857321147', function='NDArrayCompat.to_ndarray', type_params=None, args=['-5891066788592408392'], kwargs=None), CallNode(id='-6450778425968699880', function='Maybe.just', type_params=None, args=['3405549016711160068'], kwargs=None), CallNode(id='4114730221277352135', function='Maybe.__and__', type_params={'T': DeclaredTypeInstance(type='NDArray', params=None)}, args=['3539585437659049649', '-6450778425968699880'], kwargs=None), CallNode(id='-6241412292276388419', function='Maybe.match', type_params={'T': DeclaredTypeInstance(type='Pair', params={'U': DeclaredTypeInstance(type='Either', params={'U': DeclaredTypeInstance(type='Vec', params={'T': DeclaredTypeInstance(type='Integer', params=None)}), 'T': DeclaredTypeInstance(type='Integer', params=None)}), 'T': DeclaredTypeInstance(type='NDArray', params=None)})}, args=['4114730221277352135', '-2958785375455268643', '8094337186594391889'], kwargs=None), CallNode(id='-7240063431392323313', function='NDArrayCompat.from_ndarray', type_params=None, args=['-6241412292276388419'], kwargs=None), CallNode(id='3683553254527136408', function='NDArrayCompat.to_ndarray', type_params=None, args=['-7240063431392323313'], kwargs=None), CallNode(id='-4347787294984776218', function='NDArray.__add__', type_params=None, args=['3502884101055097330', '3502884101055097330'], kwargs=None), CallNode(id='1835843005163307964', function='Maybe.just', type_params=None, args=['-4347787294984776218'], kwargs=None), CallNode(id='-5819300935391376726', function='NDArrayCompat.from_ndarray', type_params=None, args=['1835843005163307964'], kwargs=None), CallNode(id='5379362677060024694', function='Converter.convert', type_params={'T': DeclaredTypeInstance(type='NDArray', params=None)}, args=['-5819300935391376726'], kwargs=None), CallNode(id='-7149125959482220427', function='Maybe.__and__', type_params={'T': DeclaredTypeInstance(type='NDArray', params=None)}, args=['5379362677060024694', '-6450778425968699880'], kwargs=None), CallNode(id='7682058785127185181', function='Maybe.match', type_params={'T': DeclaredTypeInstance(type='Pair', params={'U': DeclaredTypeInstance(type='Either', params={'U': DeclaredTypeInstance(type='Vec', params={'T': DeclaredTypeInstance(type='Integer', params=None)}), 'T': DeclaredTypeInstance(type='Integer', params=None)}), 'T': DeclaredTypeInstance(type='NDArray', params=None)})}, args=['-7149125959482220427', '-2958785375455268643', '8094337186594391889'], kwargs=None), CallNode(id='-5756511746181220119', function='NDArrayCompat.from_ndarray', type_params=None, args=['7682058785127185181'], kwargs=None), CallNode(id='-3570500508917528587', function='NDArrayCompat.to_ndarray', type_params=None, args=['-5756511746181220119'], kwargs=None), CallNode(id='8391795678367217151', function='Maybe.__and__', type_params={'T': DeclaredTypeInstance(type='NDArray', params=None)}, args=['1835843005163307964', '-6450778425968699880'], kwargs=None), CallNode(id='3662329782221750340', function='Maybe.match', type_params={'T': DeclaredTypeInstance(type='Pair', params={'U': DeclaredTypeInstance(type='Either', params={'U': DeclaredTypeInstance(type='Vec', params={'T': DeclaredTypeInstance(type='Integer', params=None)}), 'T': DeclaredTypeInstance(type='Integer', params=None)}), 'T': DeclaredTypeInstance(type='NDArray', params=None)})}, args=['8391795678367217151', '-2958785375455268643', '8094337186594391889'], kwargs=None), CallNode(id='6146351134786454595', function='NDArrayCompat.from_ndarray', type_params=None, args=['3662329782221750340'], kwargs=None), CallNode(id='6688762583659758945', function='NDArrayCompat.to_ndarray', type_params=None, args=['6146351134786454595'], kwargs=None), CallNode(id='-2290868940384272012', function='Pair.create', type_params=None, args=['-4347787294984776218', '3405549016711160068'], kwargs=None), CallNode(id='-826197801106996212', function='Maybe.just', type_params=None, args=['-2290868940384272012'], kwargs=None), CallNode(id='4578834515019937137', function='Maybe.match', type_params={'T': DeclaredTypeInstance(type='Pair', params={'U': DeclaredTypeInstance(type='Either', params={'U': DeclaredTypeInstance(type='Vec', params={'T': DeclaredTypeInstance(type='Integer', params=None)}), 'T': DeclaredTypeInstance(type='Integer', params=None)}), 'T': DeclaredTypeInstance(type='NDArray', params=None)})}, args=['-826197801106996212', '-2958785375455268643', '8094337186594391889'], kwargs=None), CallNode(id='9187842542550380216', function='NDArrayCompat.from_ndarray', type_params=None, args=['4578834515019937137'], kwargs=None), CallNode(id='3025991124671080776', function='NDArrayCompat.to_ndarray', type_params=None, args=['9187842542550380216'], kwargs=None), CallNode(id='-4094025386805026739', function='Abstraction.__call__', type_params={'U': DeclaredTypeInstance(type='Maybe', params={'T': DeclaredTypeInstance(type='NDArray', params=None)}), 'T': DeclaredTypeInstance(type='Pair', params={'U': DeclaredTypeInstance(type='Either', params={'U': DeclaredTypeInstance(type='Vec', params={'T': DeclaredTypeInstance(type='Integer', params=None)}), 'T': DeclaredTypeInstance(type='Integer', params=None)}), 'T': DeclaredTypeInstance(type='NDArray', params=None)})}, args=['8094337186594391889', '-2290868940384272012'], kwargs=None), CallNode(id='-2904412049744897132', function='NDArrayCompat.from_ndarray', type_params=None, args=['-4094025386805026739'], kwargs=None), CallNode(id='1235772864830626977', function='NDArrayCompat.to_ndarray', type_params=None, args=['-2904412049744897132'], kwargs=None), CallNode(id='-9188415536727269409', function='Pair.left', type_params={'U': DeclaredTypeInstance(type='Either', params={'U': DeclaredTypeInstance(type='Vec', params={'T': DeclaredTypeInstance(type='Integer', params=None)}), 'T': DeclaredTypeInstance(type='Integer', params=None)}), 'T': DeclaredTypeInstance(type='NDArray', params=None)}, args=['-2290868940384272012'], kwargs=None), CallNode(id='3001815728083741680', function='Pair.right', type_params={'U': DeclaredTypeInstance(type='Either', params={'U': DeclaredTypeInstance(type='Vec', params={'T': DeclaredTypeInstance(type='Integer', params=None)}), 'T': DeclaredTypeInstance(type='Integer', params=None)}), 'T': DeclaredTypeInstance(type='NDArray', params=None)}, args=['-2290868940384272012'], kwargs=None), CallNode(id='7240323096178966804', function='NDArray.__getitem__', type_params=None, args=['-9188415536727269409', '3001815728083741680'], kwargs=None), CallNode(id='-3650474945266323793', function='Maybe.just', type_params={'T': DeclaredTypeInstance(type='NDArray', params=None)}, args=['7240323096178966804'], kwargs=None), CallNode(id='-6327188985520883411', function='NDArrayCompat.from_ndarray', type_params=None, args=['-3650474945266323793'], kwargs=None), CallNode(id='-8795932671470243882', function='NDArrayCompat.to_ndarray', type_params=None, args=['-6327188985520883411'], kwargs=None), CallNode(id='-4945784285653162301', function='NDArray.__getitem__', type_params=None, args=['-4347787294984776218', '3001815728083741680'], kwargs=None), CallNode(id='6426054299265824912', function='Maybe.just', type_params={'T': DeclaredTypeInstance(type='NDArray', params=None)}, args=['-4945784285653162301'], kwargs=None), CallNode(id='-6880269588909286918', function='NDArrayCompat.from_ndarray', type_params=None, args=['6426054299265824912'], kwargs=None), CallNode(id='5829854195099530885', function='NDArrayCompat.to_ndarray', type_params=None, args=['-6880269588909286918'], kwargs=None), CallNode(id='-8455388509046005642', function='NDArray.__getitem__', type_params=None, args=['-4347787294984776218', '3405549016711160068'], kwargs=None), CallNode(id='4177136090310154729', function='Maybe.just', type_params={'T': DeclaredTypeInstance(type='NDArray', params=None)}, args=['-8455388509046005642'], kwargs=None), CallNode(id='245495020555689618', function='NDArrayCompat.from_ndarray', type_params=None, args=['4177136090310154729'], kwargs=None), CallNode(id='4189624856124316535', function='NDArrayCompat.to_ndarray', type_params=None, args=['245495020555689618'], kwargs=None), CallNode(id='4314451320617253382', function='NDArray.__getitem__', type_params=None, args=['3502884101055097330', '3405549016711160068'], kwargs=None), CallNode(id='-7623728216335538156', function='NDArray.__add__', type_params=None, args=['4314451320617253382', '4314451320617253382'], kwargs=None), CallNode(id='7820319872440383607', function='Maybe.just', type_params={'T': DeclaredTypeInstance(type='NDArray', params=None)}, args=['-7623728216335538156'], kwargs=None), CallNode(id='1422261152349165329', function='NDArrayCompat.from_ndarray', type_params=None, args=['7820319872440383607'], kwargs=None), CallNode(id='-5004528405226475050', function='NDArrayCompat.to_ndarray', type_params=None, args=['1422261152349165329'], kwargs=None), CallNode(id='-2726923864857456246', function='NDArray.to_ndarray', type_params=None, args=['-7623728216335538156'], kwargs=None), CallNode(id='-3764257868045337410', function='NDArray.to_ndarray', type_params=None, args=['4314451320617253382'], kwargs=None), CallNode(id='-1102223244832805877', function='ndarray_add', type_params=None, args=['-3764257868045337410', '-3764257868045337410'], kwargs=None), CallNode(id='-167566818128806033', function='NDArray.to_ndarray', type_params=None, args=['3502884101055097330'], kwargs=None), CallNode(id='-75720363782473576', function='unbox_idxs', type_params=None, args=['3405549016711160068'], kwargs=None), CallNode(id='-8866764724477083067', function='ndarray_getitem', type_params=None, args=['-167566818128806033', '-75720363782473576'], kwargs=None), CallNode(id='3343885393411811236', function='ndarray_add', type_params=None, args=['-8866764724477083067', '-8866764724477083067'], kwargs=None), CallNode(id='-6339119298691241207', function='unbox_integer', type_params=None, args=['-1060229783844073802'], kwargs=None), CallNode(id='-3148203639987051990', function='arange', type_params=None, args=['-6339119298691241207'], kwargs=None), CallNode(id='2265188490581352225', function='ndarray_getitem', type_params=None, args=['-3148203639987051990', '-75720363782473576'], kwargs=None), CallNode(id='6579086117271692900', function='ndarray_add', type_params=None, args=['2265188490581352225', '2265188490581352225'], kwargs=None), CallNode(id='-6763282119024320388', function='arange', type_params=None, args=['2826150730839618930'], kwargs=None), CallNode(id='2526442566338480532', function='ndarray_getitem', type_params=None, args=['-6763282119024320388', '-75720363782473576'], kwargs=None), CallNode(id='6377527444286256799', function='ndarray_add', type_params=None, args=['2526442566338480532', '2526442566338480532'], kwargs=None), CallNode(id='5766021968849054353', function='unbox_integer', type_params=None, args=['7126651426372720159'], kwargs=None), CallNode(id='-269342057311245697', function='ndarray_getitem', type_params=None, args=['-6763282119024320388', '5766021968849054353'], kwargs=None), CallNode(id='-6643378300419386036', function='ndarray_add', type_params=None, args=['-269342057311245697', '-269342057311245697'], kwargs=None), CallNode(id='4894997357445549175', function='ndarray_getitem', type_params=None, args=['-6763282119024320388', '74627363753923008'], kwargs=None), CallNode(id='-2207259241636318184', function='ndarray_add', type_params=None, args=['4894997357445549175', '4894997357445549175'], kwargs=None), PrimitiveNode(id='-303953692527582316', type='ndarray', repr='[ 0  1  2  3  4  5  6  7  8  9 10 11 12 13 14 15 16 17 18 19 20 21 22 23\\n 24 25 26 27 28 29 30 31 32 33 34 35 36 37 38 39 40 41 42 43 44 45 46 47\\n 48 49 50 51 52 53 54 55 56 57 58 59 60 61 62 63 64 65 66 67 68 69 70 71\\n 72 73 74 75 76 77 78 79 80 81 82 83 84 85 86 87 88 89 90 91 92 93 94 95\\n 96 97 98 99]'), CallNode(id='-2435807357472520866', function='ndarray_getitem', type_params=None, args=['-303953692527582316', '74627363753923008'], kwargs=None), CallNode(id='-577775179611225789', function='ndarray_add', type_params=None, args=['-2435807357472520866', '-2435807357472520866'], kwargs=None), PrimitiveNode(id='-2144422476493859366', type='ndarray', repr='5'), CallNode(id='6974158062019112628', function='ndarray_add', type_params=None, args=['-2144422476493859366', '-2144422476493859366'], kwargs=None), PrimitiveNode(id='1293533598844267589', type='int64', repr='10')], states=States(initial='-4006809763795812991', states=[State(node='-3202461150888573559', rule='metadsl_core.numpy.arange', label=None), State(node='-3753584583687244436', rule='metadsl_core.integer.convert_integer', label=None), State(node='-6622046077155676707', rule='metadsl_core.numpy.NDArrayCompat.__getitem__', label=None), State(node='-6678175736661107391', rule='metadsl_core.either.convert_to_either', label=None), State(node='-1625044926674844795', rule='metadsl_core.integer.convert_integer', label=None), State(node='7496527422440347461', rule='metadsl_core.abstraction.Abstraction.from_fn', label=None), State(node='-4168469440057463026', rule='metadsl_core.abstraction.Abstraction.from_fn', label=None), State(node='8108798777409277819', rule='metadsl_core.abstraction.Abstraction.from_fn', label=None), State(node='524361902236029546', rule='metadsl_core.abstraction.Abstraction.from_fn', label=None), State(node='817541809905048380', rule='metadsl_core.maybe.Maybe.map', label=None), State(node='8497475054835211264', rule='metadsl_core.maybe.Maybe.map', label=None), State(node='3051554767070140790', rule='metadsl_core.maybe.Maybe.map', label=None), State(node='5761042945550501324', rule='metadsl_core.maybe.maybe_match', label=None), State(node='4661250145743216000', rule='metadsl_core.maybe.maybe_match', label=None), State(node='6243725962661269352', rule='metadsl_core.maybe.Maybe.map', label=None), State(node='-616640555469698575', rule='metadsl_core.abstraction.Abstraction.from_fn', label=None), State(node='-6225815656647531091', rule='metadsl_core.abstraction.Abstraction.from_fn', label=None), State(node='-2319163312824830979', rule='metadsl_core.abstraction.compose', label=None), State(node='-484363451652429564', rule='metadsl_core.abstraction.compose', label=None), State(node='-6021251119649582987', rule='metadsl_core.abstraction.compose', label=None), State(node='-507349198397299492', rule='metadsl_core.abstraction.beta_reduce', label=None), State(node='5085856534911224089', rule='metadsl_core.abstraction.beta_reduce', label=None), State(node='2570576214857321147', rule='metadsl_core.abstraction.compose', label=None), State(node='3683553254527136408', rule='metadsl_core.maybe.maybe_or', label=None), State(node='-3570500508917528587', rule='metadsl_core.numpy.add_compat', label=None), State(node='6688762583659758945', rule='metadsl_core.numpy.convert_to_ndarray', label=None), State(node='3025991124671080776', rule='metadsl_core.maybe.maybe_and', label=None), State(node='1235772864830626977', rule='metadsl_core.maybe.maybe_match', label=None), State(node='-8795932671470243882', rule='metadsl_core.abstraction.beta_reduce', label=None), State(node='5829854195099530885', rule='metadsl_core.pair.pair_left', label=None), State(node='4189624856124316535', rule='metadsl_core.pair.pair_right', label=None), State(node='4189624856124316535', rule='', label='convert'), State(node='-5004528405226475050', rule='__main__.optimize_getitem_add', label=None), State(node='-5004528405226475050', rule='', label='optimize'), State(node='-2726923864857456246', rule='metadsl_core.numpy.box_unbox_ndarray_compat', label=None), State(node='-1102223244832805877', rule='metadsl_core.numpy_engine.unbox_ndarray_add', label=None), State(node='3343885393411811236', rule='metadsl_core.numpy_engine.unbox_ndarray_getitem', label=None), State(node='6579086117271692900', rule='metadsl_core.numpy_engine.unbox_arange', label=None), State(node='6377527444286256799', rule='metadsl_core.numpy_engine.unbox_integer_rule', label=None), State(node='-6643378300419386036', rule='metadsl_core.numpy_engine.unbox_idxs_rule', label=None), State(node='-2207259241636318184', rule='metadsl_core.numpy_engine.unbox_integer_rule', label=None), State(node='-2207259241636318184', rule='', label='unbox'), State(node='-577775179611225789', rule='metadsl_core.numpy_engine.arange', label=None), State(node='6974158062019112628', rule='metadsl_core.numpy_engine.ndarray_getitem', label=None), State(node='1293533598844267589', rule='metadsl_core.numpy_engine.ndarray_add', label=None), State(node='1293533598844267589', rule='', label='execute')]))"
      ]
     },
     "metadata": {},
     "output_type": "display_data"
    },
    {
     "data": {
      "text/plain": [
       "10"
      ]
     },
     "metadata": {},
     "output_type": "display_data"
    }
   ],
   "source": [
    "expr"
   ]
  },
  {
   "cell_type": "markdown",
   "metadata": {},
   "source": [
    "This shows how we can break up the NumPy API into different layers, all of which are extensible:\n",
    "\n",
    "1. A compatibility layer that works like the existing NumPy API, except isn't limited to the Python types of the current API\n",
    "2. A type safe version of this API. The conversion between the compatability layer and this layer is extensible, so that third party authors can add new conversion between their own Python objects and the typed representation.\n",
    "3. A backend layer that translates either back to Python calls or source code, or to other targets like LLVM or Tensorflow.\n",
    "\n",
    "The key is that all these layers are composable, so you could have different frontends for any of them or add your own. This is all done through a typed replacement system that is compatible with static analysis using MyPy.\n",
    "\n",
    "`metadsl` is the glue that allows us to define this API in a way that enables greater greater collaboration. Since each layer has it's own well defined specification, different projects can extend and target these seperate layers, while minimizing the need to explicitly opt in to collaborate. The goal is to enable greater reuse, interoperability, and extensability within the Python scientific ecosystem."
   ]
  }
 ],
 "metadata": {
  "kernelspec": {
   "display_name": "Python 3",
   "language": "python",
   "name": "python3"
  },
  "language_info": {
   "codemirror_mode": {
    "name": "ipython",
    "version": 3
   },
   "file_extension": ".py",
   "mimetype": "text/x-python",
   "name": "python",
   "nbconvert_exporter": "python",
   "pygments_lexer": "ipython3",
   "version": "3.8.1"
  }
 },
 "nbformat": 4,
 "nbformat_minor": 4
}
