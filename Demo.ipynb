{
 "cells": [
  {
   "cell_type": "markdown",
   "metadata": {},
   "source": [
    "# `metadsl`\n",
    "\n",
    "...is a framework for creating domain specific languages in Python."
   ]
  },
  {
   "cell_type": "code",
   "execution_count": 2,
   "metadata": {},
   "outputs": [],
   "source": [
    "from metadsl import *\n",
    "from metadsl_core import *\n",
    "from metadsl_visualize import *"
   ]
  },
  {
   "cell_type": "markdown",
   "metadata": {},
   "source": [
    "Here, we show a NumPy API compatible DSL that we have started writing. We can create a symbolic expression and then execute it. The widget shows the different stages of execution:"
   ]
  },
  {
   "cell_type": "code",
   "execution_count": 3,
   "metadata": {},
   "outputs": [
    {
     "data": {
      "application/x.typez+json": {
       "nodes": {
        "-1098815614146331282": [
         "15",
         {
          "args": [
           "8044909288445086102",
           "7703360805233009766",
           "328146108265967914"
          ],
          "function": "Maybe.match",
          "type_params": {
           "T": {
            "params": {
             "T": {
              "type": "NDArray"
             },
             "U": {
              "params": {
               "T": {
                "type": "Integer"
               },
               "U": {
                "params": {
                 "T": {
                  "type": "Integer"
                 }
                },
                "type": "Vec"
               }
              },
              "type": "Either"
             }
            },
            "type": "Pair"
           }
          }
         }
        ],
        "-1121424766808586802": [
         "15",
         {
          "args": [
           "-5290454861014231493",
           "7703360805233009766",
           "328146108265967914"
          ],
          "function": "Maybe.match",
          "type_params": {
           "T": {
            "params": {
             "T": {
              "type": "NDArray"
             },
             "U": {
              "params": {
               "T": {
                "type": "Integer"
               },
               "U": {
                "params": {
                 "T": {
                  "type": "Integer"
                 }
                },
                "type": "Vec"
               }
              },
              "type": "Either"
             }
            },
            "type": "Pair"
           }
          }
         }
        ],
        "-1133860184496103147": [
         "110",
         {
          "args": [
           "6580513746738577931",
           "-5011748501812788877"
          ],
          "function": "Abstraction.create",
          "type_params": {
           "T": {
            "type": "Integer"
           },
           "U": {
            "params": {
             "T": {
              "type": "Integer"
             },
             "U": {
              "params": {
               "T": {
                "type": "Integer"
               }
              },
              "type": "Vec"
             }
            },
            "type": "Either"
           }
          }
         }
        ],
        "-1171015405917996262": [
         "7",
         {
          "args": [
           "4713779054301633575"
          ],
          "function": "arange"
         }
        ],
        "-1195031410244303026": [
         "5",
         {
          "args": [
           "-4417223510602162712",
           "4713779054406638500"
          ],
          "function": "ndarray_getitem"
         }
        ],
        "-1208112746975233409": [
         "228",
         {
          "args": [
           "830260340471481657"
          ],
          "function": "Either.left",
          "type_params": {
           "T": {
            "type": "Integer"
           },
           "U": {
            "params": {
             "T": {
              "type": "Integer"
             }
            },
            "type": "Vec"
           }
          }
         }
        ],
        "-1226244419424519882": [
         "5",
         {
          "args": [
           "-6660972535155741688"
          ],
          "function": "NDArrayCompat.to_ndarray"
         }
        ],
        "-1236185272749818955": [
         "5",
         {
          "args": [
           "-6875959910507960501"
          ],
          "function": "NDArrayCompat.to_ndarray"
         }
        ],
        "-1264365879207482647": [
         "162",
         {
          "args": [
           "-7650269798528673400"
          ],
          "function": "arange_"
         }
        ],
        "-14163576326426698": [
         "138",
         {
          "args": [
           "241536669915927637"
          ],
          "function": "Abstraction.create_variable",
          "type_params": {
           "T": {
            "type": "NDArray"
           },
           "U": {
            "params": {
             "T": {
              "type": "NDArray"
             }
            },
            "type": "Maybe"
           }
          }
         }
        ],
        "-1446409769056872944": [
         "74",
         {
          "args": [
           "7810521326880312373",
           "-6954294932558197824"
          ],
          "function": "Maybe.__and__",
          "type_params": {
           "T": {
            "type": "NDArray"
           }
          }
         }
        ],
        "-1485480610564825560": [
         "4",
         {
          "args": [
           "6176427846022223037"
          ],
          "function": "NDArrayCompat.from_ndarray"
         }
        ],
        "-1550060275566271585": [
         "4",
         {
          "args": [
           "-313884118944504356"
          ],
          "function": "NDArrayCompat.from_ndarray"
         }
        ],
        "-1570927596096493122": [
         "5",
         {
          "args": [
           "-5079392075962929296"
          ],
          "function": "NDArrayCompat.to_ndarray"
         }
        ],
        "-1639516157675188686": [
         "4",
         {
          "args": [
           "-6210413135244319073"
          ],
          "function": "NDArrayCompat.from_ndarray"
         }
        ],
        "-1641822556141388533": [
         "5",
         {
          "args": [
           "8345885566761887579",
           "4713779054406638500"
          ],
          "function": "ndarray_getitem"
         }
        ],
        "-1678443516291542066": [
         "229",
         {
          "args": [
           "-1208112746975233409"
          ],
          "function": "unbox_idxs"
         }
        ],
        "-171289544696980323": [
         "5",
         {
          "args": [
           "7817243770356945038"
          ],
          "function": "NDArrayCompat.to_ndarray"
         }
        ],
        "-1727297813002203651": [
         "149",
         {
          "args": [
           "-9101843677981858041"
          ],
          "function": "Maybe.just",
          "type_params": {
           "T": {
            "params": {
             "T": {
              "type": "Integer"
             },
             "U": {
              "params": {
               "T": {
                "type": "Integer"
               }
              },
              "type": "Vec"
             }
            },
            "type": "Either"
           }
          }
         }
        ],
        "-1868510103477116031": [
         "11",
         {
          "args": [
           "8887545728875557935",
           "7700748547699628467"
          ],
          "function": "Maybe.__or__",
          "type_params": {
           "T": {
            "params": {
             "T": {
              "type": "Integer"
             },
             "U": {
              "params": {
               "T": {
                "type": "Integer"
               }
              },
              "type": "Vec"
             }
            },
            "type": "Either"
           }
          }
         }
        ],
        "-1947520936561189353": [
         "8",
         {
          "args": [
           "-7761567949085819156",
           "-7761567949085819156"
          ],
          "function": "NDArrayCompat.__add__"
         }
        ],
        "-2048361728572416071": [
         "66",
         {
          "args": [
           "-4691553863178753990",
           "-4399158014625666932",
           "7681648102964627768"
          ],
          "function": "Maybe.match",
          "type_params": {
           "T": {
            "type": "Integer"
           }
          }
         }
        ],
        "-2093676223453393791": [
         "5",
         {
          "args": [
           "1109913550682159045"
          ],
          "function": "NDArrayCompat.to_ndarray"
         }
        ],
        "-2279058575913373087": [
         "139",
         {
          "args": [
           "-14163576326426698"
          ],
          "function": "Maybe.just",
          "type_params": {
           "T": {
            "type": "NDArray"
           }
          }
         }
        ],
        "-2284210884664661892": [
         "111",
         {
          "args": [
           "3957684190253798215",
           "-1133860184496103147"
          ],
          "function": "Abstraction.__add__",
          "type_params": {
           "T": {
            "params": {
             "T": {
              "type": "Integer"
             },
             "U": {
              "params": {
               "T": {
                "type": "Integer"
               }
              },
              "type": "Vec"
             }
            },
            "type": "Either"
           },
           "U": {
            "params": {
             "T": {
              "params": {
               "T": {
                "type": "Integer"
               },
               "U": {
                "params": {
                 "T": {
                  "type": "Integer"
                 }
                },
                "type": "Vec"
               }
              },
              "type": "Either"
             }
            },
            "type": "Maybe"
           }
          }
         }
        ],
        "-2588923867463876411": [
         "7",
         {
          "args": [
           "6629873243390779564"
          ],
          "function": "NDArrayCompat.from_ndarray"
         }
        ],
        "-2624998746460954568": [
         "73",
         {
          "args": [
           "2177193516735440439",
           "3319423168701717901"
          ],
          "function": "Maybe.__or__",
          "type_params": {
           "T": {
            "params": {
             "T": {
              "type": "Integer"
             },
             "U": {
              "params": {
               "T": {
                "type": "Integer"
               }
              },
              "type": "Vec"
             }
            },
            "type": "Either"
           }
          }
         }
        ],
        "-2740756179745539546": [
         "15",
         {
          "args": [
           "5633604116788465327",
           "7703360805233009766",
           "328146108265967914"
          ],
          "function": "Maybe.match",
          "type_params": {
           "T": {
            "params": {
             "T": {
              "type": "NDArray"
             },
             "U": {
              "params": {
               "T": {
                "type": "Integer"
               },
               "U": {
                "params": {
                 "T": {
                  "type": "Integer"
                 }
                },
                "type": "Vec"
               }
              },
              "type": "Either"
             }
            },
            "type": "Pair"
           }
          }
         }
        ],
        "-2808625198921579543": [
         "5",
         {
          "args": [
           "7074757294550086794"
          ],
          "function": "NDArrayCompat.to_ndarray"
         }
        ],
        "-2952450362546799404": [
         "31",
         {
          "args": [
           "8041717448431328708",
           "-4678502709838927428"
          ],
          "function": "Maybe.map",
          "type_params": {
           "T": {
            "type": "Integer"
           }
          }
         }
        ],
        "-3043571545640663641": [
         "17",
         {
          "args": [
           "4713779054406638500"
          ],
          "function": "Converter.convert",
          "type_params": {
           "T": {
            "type": "Integer"
           }
          }
         }
        ],
        "-3059003609621892112": [
         "74",
         {
          "args": [
           "-4837098956722179430",
           "-6954294932558197824"
          ],
          "function": "Maybe.__and__",
          "type_params": {
           "T": {
            "type": "NDArray"
           }
          }
         }
        ],
        "-3076705678831638861": [
         "135",
         {
          "args": [
           "-8981835124065704221"
          ],
          "function": "Abstraction.create_variable",
          "type_params": {
           "T": {
            "params": {
             "T": {
              "type": "Integer"
             },
             "U": {
              "params": {
               "T": {
                "type": "Integer"
               }
              },
              "type": "Vec"
             }
            },
            "type": "Either"
           },
           "U": {
            "params": {
             "T": {
              "params": {
               "T": {
                "type": "Integer"
               },
               "U": {
                "params": {
                 "T": {
                  "type": "Integer"
                 }
                },
                "type": "Vec"
               }
              },
              "type": "Either"
             }
            },
            "type": "Maybe"
           }
          }
         }
        ],
        "-313884118944504356": [
         "15",
         {
          "args": [
           "7040831592560195480",
           "7703360805233009766",
           "328146108265967914"
          ],
          "function": "Maybe.match",
          "type_params": {
           "T": {
            "params": {
             "T": {
              "type": "NDArray"
             },
             "U": {
              "params": {
               "T": {
                "type": "Integer"
               },
               "U": {
                "params": {
                 "T": {
                  "type": "Integer"
                 }
                },
                "type": "Vec"
               }
              },
              "type": "Either"
             }
            },
            "type": "Pair"
           }
          }
         }
        ],
        "-3441594153459264420": [
         "58",
         {
          "args": [
           "975327646540141658"
          ],
          "function": "Converter.convert",
          "type_params": {
           "T": {
            "type": "NDArray"
           }
          }
         }
        ],
        "-3471210208538494580": [
         "58",
         {
          "args": [
           "7686823280636726663"
          ],
          "function": "Converter.convert",
          "type_params": {
           "T": {
            "type": "NDArray"
           }
          }
         }
        ],
        "-3534020860713457941": [
         "5",
         {
          "args": [
           "-6202688075970782135"
          ],
          "function": "NDArrayCompat.to_ndarray"
         }
        ],
        "-3715759040180187319": [
         "209",
         {
          "args": [
           "2391294082487331790",
           "-1208112746975233409"
          ],
          "function": "NDArray.__getitem__"
         }
        ],
        "-3886223370301655202": [
         "66",
         {
          "args": [
           "-4691553863178753990",
           "-1133860184496103147"
          ],
          "function": "Maybe.map",
          "type_params": {
           "T": {
            "type": "Integer"
           }
          }
         }
        ],
        "-3927280897104385606": [
         "92",
         {
          "args": [
           "-459872565733163655",
           "-9101843677981858041"
          ],
          "function": "Abstraction.create",
          "type_params": {
           "T": {
            "params": {
             "T": {
              "type": "Integer"
             }
            },
            "type": "Vec"
           },
           "U": {
            "params": {
             "T": {
              "type": "Integer"
             },
             "U": {
              "params": {
               "T": {
                "type": "Integer"
               }
              },
              "type": "Vec"
             }
            },
            "type": "Either"
           }
          }
         }
        ],
        "-3990767567436360951": [
         "225",
         {
          "args": [
           "-6708565899743828771",
           "-6708565899743828771"
          ],
          "function": "ndarray_add"
         }
        ],
        "-4003988947645163622": [
         "4",
         {
          "args": [
           "-2740756179745539546"
          ],
          "function": "NDArrayCompat.from_ndarray"
         }
        ],
        "-4004769151875798142": [
         "4",
         {
          "args": [
           "-7205697554281643856"
          ],
          "function": "NDArrayCompat.from_ndarray"
         }
        ],
        "-4067499365013330262": [
         "15",
         {
          "args": [
           "328146108265967914",
           "-4378767735171885778"
          ],
          "function": "Abstraction.__call__",
          "type_params": {
           "T": {
            "params": {
             "T": {
              "type": "NDArray"
             },
             "U": {
              "params": {
               "T": {
                "type": "Integer"
               },
               "U": {
                "params": {
                 "T": {
                  "type": "Integer"
                 }
                },
                "type": "Vec"
               }
              },
              "type": "Either"
             }
            },
            "type": "Pair"
           },
           "U": {
            "params": {
             "T": {
              "type": "NDArray"
             }
            },
            "type": "Maybe"
           }
          }
         }
        ],
        "-412155022069188176": [
         "12",
         {
          "args": [
           "227340298487089036",
           "-1868510103477116031"
          ],
          "function": "Maybe.__and__",
          "type_params": {
           "T": {
            "type": "NDArray"
           }
          }
         }
        ],
        "-4293313621705056232": [
         "12",
         {
          "args": [
           "421423557119156493",
           "8707533822291393287"
          ],
          "function": "Maybe.__and__",
          "type_params": {
           "T": {
            "type": "NDArray"
           }
          }
         }
        ],
        "-4378767735171885778": [
         "206",
         {
          "args": [
           "3015517905768064073",
           "-1208112746975233409"
          ],
          "function": "Pair.create"
         }
        ],
        "-4386629807137239958": [
         "29",
         {
          "repr": "arange_",
          "type": "Infer"
         }
        ],
        "-4399158014625666932": [
         "97",
         {
          "function": "Maybe.nothing",
          "type_params": {
           "T": {
            "params": {
             "T": {
              "type": "Integer"
             },
             "U": {
              "params": {
               "T": {
                "type": "Integer"
               }
              },
              "type": "Vec"
             }
            },
            "type": "Either"
           }
          }
         }
        ],
        "-4417223510602162712": [
         "225",
         {
          "args": [
           "3015517905768064073"
          ],
          "function": "NDArray.to_ndarray"
         }
        ],
        "-4491616023720753659": [
         "131",
         {
          "args": [
           "-7650269798528673400",
           "5594458272100650178"
          ],
          "function": "Abstraction.create"
         }
        ],
        "-4576363615409351389": [
         "5",
         {
          "args": [
           "-1550060275566271585"
          ],
          "function": "NDArrayCompat.to_ndarray"
         }
        ],
        "-459872565733163655": [
         "147",
         {
          "args": [
           "241536899989295987"
          ],
          "function": "Abstraction.create_variable",
          "type_params": {
           "T": {
            "params": {
             "T": {
              "type": "Integer"
             }
            },
            "type": "Vec"
           },
           "U": {
            "params": {
             "T": {
              "type": "Integer"
             },
             "U": {
              "params": {
               "T": {
                "type": "Integer"
               }
              },
              "type": "Vec"
             }
            },
            "type": "Either"
           }
          }
         }
        ],
        "-4615928099284195053": [
         "56",
         {
          "args": [
           "4647314485928461918"
          ],
          "function": "NDArrayCompat.from_ndarray"
         }
        ],
        "-4649256587560651910": [
         "237",
         {
          "args": [
           "4713779054301633575"
          ],
          "function": "Integer.from_int"
         }
        ],
        "-4656485107301337193": [
         "55",
         {
          "args": [
           "5203738075998686267",
           "-4649256587560651910"
          ],
          "function": "Abstraction.__call__",
          "type_params": {
           "T": {
            "type": "Integer"
           },
           "U": {
            "params": {
             "T": {
              "type": "NDArray"
             }
            },
            "type": "Maybe"
           }
          }
         }
        ],
        "-4678502709838927428": [
         "30",
         {
          "args": [
           "-4386629807137239958"
          ],
          "function": "Abstraction.from_fn"
         }
        ],
        "-4691553863178753990": [
         "96",
         {
          "args": [
           "830260340471481657"
          ],
          "function": "Maybe.just"
         }
        ],
        "-4722032022278848585": [
         "5",
         {
          "args": [
           "8254821168175456432"
          ],
          "function": "NDArrayCompat.to_ndarray"
         }
        ],
        "-4837098956722179430": [
         "58",
         {
          "args": [
           "8595137882391921009"
          ],
          "function": "Converter.convert",
          "type_params": {
           "T": {
            "type": "NDArray"
           }
          }
         }
        ],
        "-4983387308748893959": [
         "5",
         {
          "args": [
           "-4417223510602162712",
           "6674882009630327653"
          ],
          "function": "ndarray_getitem"
         }
        ],
        "-5011748501812788877": [
         "152",
         {
          "args": [
           "6580513746738577931"
          ],
          "function": "Either.left",
          "type_params": {
           "T": {
            "type": "Integer"
           },
           "U": {
            "params": {
             "T": {
              "type": "Integer"
             }
            },
            "type": "Vec"
           }
          }
         }
        ],
        "-5042652985163262165": [
         "5",
         {
          "args": [
           "5694318604870746245"
          ],
          "function": "NDArrayCompat.to_ndarray"
         }
        ],
        "-5079392075962929296": [
         "4",
         {
          "args": [
           "7710861873613564644"
          ],
          "function": "NDArrayCompat.from_ndarray"
         }
        ],
        "-5160916249838851820": [
         "4",
         {
          "args": [
           "-5636537995636147363"
          ],
          "function": "NDArrayCompat.from_ndarray"
         }
        ],
        "-5290454861014231493": [
         "74",
         {
          "args": [
           "3897123678533522251",
           "949262314933408240"
          ],
          "function": "Maybe.__and__",
          "type_params": {
           "T": {
            "type": "NDArray"
           }
          }
         }
        ],
        "-5381009813015004470": [
         "56",
         {
          "args": [
           "-4656485107301337193"
          ],
          "function": "NDArrayCompat.from_ndarray"
         }
        ],
        "-5383112508657625409": [
         "85",
         {
          "args": [
           "4713779054406638500"
          ],
          "function": "Converter.convert",
          "type_params": {
           "T": {
            "params": {
             "T": {
              "type": "Integer"
             }
            },
            "type": "Vec"
           }
          }
         }
        ],
        "-5456441167283459873": [
         "130",
         {
          "args": [
           "-7650269798528673400",
           "-1264365879207482647"
          ],
          "function": "Abstraction.create",
          "type_params": {
           "T": {
            "type": "Integer"
           },
           "U": {
            "type": "NDArray"
           }
          }
         }
        ],
        "-5537650783464414311": [
         "73",
         {
          "args": [
           "-3886223370301655202",
           "5475126958832205357"
          ],
          "function": "Maybe.__or__",
          "type_params": {
           "T": {
            "params": {
             "T": {
              "type": "Integer"
             },
             "U": {
              "params": {
               "T": {
                "type": "Integer"
               }
              },
              "type": "Vec"
             }
            },
            "type": "Either"
           }
          }
         }
        ],
        "-5557731306797824588": [
         "15",
         {
          "args": [
           "-6492201068403465919"
          ],
          "function": "Maybe.just",
          "type_params": {
           "T": {
            "type": "NDArray"
           }
          }
         }
        ],
        "-5635179714934842598": [
         "4",
         {
          "args": [
           "5119592682611502499"
          ],
          "function": "NDArrayCompat.from_ndarray"
         }
        ],
        "-5636537995636147363": [
         "15",
         {
          "args": [
           "-1446409769056872944",
           "7703360805233009766",
           "-7791812642259934983"
          ],
          "function": "Maybe.match",
          "type_params": {
           "T": {
            "params": {
             "T": {
              "type": "NDArray"
             },
             "U": {
              "params": {
               "T": {
                "type": "Integer"
               },
               "U": {
                "params": {
                 "T": {
                  "type": "Integer"
                 }
                },
                "type": "Vec"
               }
              },
              "type": "Either"
             }
            },
            "type": "Pair"
           }
          }
         }
        ],
        "-5705581638090886381": [
         "136",
         {
          "args": [
           "-3076705678831638861"
          ],
          "function": "Maybe.just",
          "type_params": {
           "T": {
            "params": {
             "T": {
              "type": "Integer"
             },
             "U": {
              "params": {
               "T": {
                "type": "Integer"
               }
              },
              "type": "Vec"
             }
            },
            "type": "Either"
           }
          }
         }
        ],
        "-6007750462670501723": [
         "4",
         {
          "args": [
           "8729709324764633035"
          ],
          "function": "NDArrayCompat.from_ndarray"
         }
        ],
        "-6048537999571285513": [
         "4",
         {
          "args": [
           "-8977017707412637737"
          ],
          "function": "NDArrayCompat.from_ndarray"
         }
        ],
        "-606612188070956947": [
         "74",
         {
          "args": [
           "-8721888228340461738",
           "-5537650783464414311"
          ],
          "function": "Maybe.__and__",
          "type_params": {
           "T": {
            "type": "NDArray"
           }
          }
         }
        ],
        "-612715626196114593": [
         "15",
         {
          "args": [
           "4689896428828105860",
           "7703360805233009766",
           "-7791812642259934983"
          ],
          "function": "Maybe.match",
          "type_params": {
           "T": {
            "params": {
             "T": {
              "type": "NDArray"
             },
             "U": {
              "params": {
               "T": {
                "type": "Integer"
               },
               "U": {
                "params": {
                 "T": {
                  "type": "Integer"
                 }
                },
                "type": "Vec"
               }
              },
              "type": "Either"
             }
            },
            "type": "Pair"
           }
          }
         }
        ],
        "-6202688075970782135": [
         "4",
         {
          "args": [
           "-5557731306797824588"
          ],
          "function": "NDArrayCompat.from_ndarray"
         }
        ],
        "-6210413135244319073": [
         "15",
         {
          "args": [
           "4513070205117154029",
           "-9222477849862511594"
          ],
          "function": "Maybe.map",
          "type_params": {
           "T": {
            "params": {
             "T": {
              "type": "NDArray"
             },
             "U": {
              "params": {
               "T": {
                "type": "Integer"
               },
               "U": {
                "params": {
                 "T": {
                  "type": "Integer"
                 }
                },
                "type": "Vec"
               }
              },
              "type": "Either"
             }
            },
            "type": "Pair"
           }
          }
         }
        ],
        "-6279853426262893661": [
         "66",
         {
          "args": [
           "-2284210884664661892",
           "830260340471481657"
          ],
          "function": "Abstraction.__call__",
          "type_params": {
           "T": {
            "type": "Integer"
           },
           "U": {
            "params": {
             "T": {
              "params": {
               "T": {
                "type": "Integer"
               },
               "U": {
                "params": {
                 "T": {
                  "type": "Integer"
                 }
                },
                "type": "Vec"
               }
              },
              "type": "Either"
             }
            },
            "type": "Maybe"
           }
          }
         }
        ],
        "-6385945437861283369": [
         "15",
         {
          "args": [
           "-3715759040180187319"
          ],
          "function": "Maybe.just",
          "type_params": {
           "T": {
            "type": "NDArray"
           }
          }
         }
        ],
        "-6492201068403465919": [
         "209",
         {
          "args": [
           "2391294082487331790",
           "3822845652799715414"
          ],
          "function": "NDArray.__getitem__"
         }
        ],
        "-6657176820575257679": [
         "23",
         {
          "args": [
           "3897712537135950527"
          ],
          "function": "Abstraction.from_fn"
         }
        ],
        "-6660972535155741688": [
         "4",
         {
          "args": [
           "-612715626196114593"
          ],
          "function": "NDArrayCompat.from_ndarray"
         }
        ],
        "-6708565899743828771": [
         "235",
         {
          "args": [
           "9094274569454627144"
          ],
          "function": "NDArray.to_ndarray"
         }
        ],
        "-6750366847559074342": [
         "12",
         {
          "args": [
           "3919409559600014478",
           "8707533822291393287"
          ],
          "function": "Maybe.__and__",
          "type_params": {
           "T": {
            "type": "NDArray"
           }
          }
         }
        ],
        "-6762249150202508394": [
         "185",
         {
          "args": [
           "241536899196887687"
          ],
          "function": "Abstraction.create_variable",
          "type_params": {
           "T": {
            "params": {
             "T": {
              "type": "NDArray"
             },
             "U": {
              "params": {
               "T": {
                "type": "Integer"
               },
               "U": {
                "params": {
                 "T": {
                  "type": "Integer"
                 }
                },
                "type": "Vec"
               }
              },
              "type": "Either"
             }
            },
            "type": "Pair"
           },
           "U": {
            "type": "NDArray"
           }
          }
         }
        ],
        "-6809483661468653664": [
         "5",
         {
          "args": [
           "-1485480610564825560"
          ],
          "function": "NDArrayCompat.to_ndarray"
         }
        ],
        "-6861537960860662109": [
         "4",
         {
          "args": [
           "6010434435264637102"
          ],
          "function": "NDArrayCompat.from_ndarray"
         }
        ],
        "-6875959910507960501": [
         "4",
         {
          "args": [
           "8829142351054292861",
           "4713779054406638500"
          ],
          "function": "NDArrayCompat.__getitem__"
         }
        ],
        "-6954294932558197824": [
         "73",
         {
          "args": [
           "-791134029424807692",
           "5475126958832205357"
          ],
          "function": "Maybe.__or__",
          "type_params": {
           "T": {
            "params": {
             "T": {
              "type": "Integer"
             },
             "U": {
              "params": {
               "T": {
                "type": "Integer"
               }
              },
              "type": "Vec"
             }
            },
            "type": "Either"
           }
          }
         }
        ],
        "-706219686719798650": [
         "188",
         {
          "args": [
           "-8874626673731672901",
           "322370924408164163"
          ],
          "function": "NDArray.__getitem__"
         }
        ],
        "-7064802824409813048": [
         "74",
         {
          "args": [
           "-3441594153459264420",
           "-71907873773769076"
          ],
          "function": "Maybe.__and__",
          "type_params": {
           "T": {
            "type": "NDArray"
           }
          }
         }
        ],
        "-7106220729099446889": [
         "18",
         {
          "repr": "Either.left",
          "type": "BoundInfer"
         }
        ],
        "-7116074690267219855": [
         "15",
         {
          "args": [
           "-4293313621705056232",
           "-8723507973413733787"
          ],
          "function": "Maybe.map",
          "type_params": {
           "T": {
            "params": {
             "T": {
              "type": "NDArray"
             },
             "U": {
              "params": {
               "T": {
                "type": "Integer"
               },
               "U": {
                "params": {
                 "T": {
                  "type": "Integer"
                 }
                },
                "type": "Vec"
               }
              },
              "type": "Either"
             }
            },
            "type": "Pair"
           }
          }
         }
        ],
        "-71907873773769076": [
         "73",
         {
          "args": [
           "-1208112746975233409"
          ],
          "function": "Maybe.just"
         }
        ],
        "-7205697554281643856": [
         "15",
         {
          "args": [
           "2985219241476842817",
           "-8723507973413733787"
          ],
          "function": "Maybe.map",
          "type_params": {
           "T": {
            "params": {
             "T": {
              "type": "NDArray"
             },
             "U": {
              "params": {
               "T": {
                "type": "Integer"
               },
               "U": {
                "params": {
                 "T": {
                  "type": "Integer"
                 }
                },
                "type": "Vec"
               }
              },
              "type": "Either"
             }
            },
            "type": "Pair"
           }
          }
         }
        ],
        "-7252658591790092862": [
         "15",
         {
          "args": [
           "-6750366847559074342",
           "-8723507973413733787"
          ],
          "function": "Maybe.map",
          "type_params": {
           "T": {
            "params": {
             "T": {
              "type": "NDArray"
             },
             "U": {
              "params": {
               "T": {
                "type": "Integer"
               },
               "U": {
                "params": {
                 "T": {
                  "type": "Integer"
                 }
                },
                "type": "Vec"
               }
              },
              "type": "Either"
             }
            },
            "type": "Pair"
           }
          }
         }
        ],
        "-7310615326020458491": [
         "235",
         {
          "repr": "array([ 0,  1,  2,  3,  4,  5,  6,  7,  8,  9, 10, 11, 12, 13, 14, 15, 16,\n       17, 18, 19, 20, 21, 22, 23, 24, 25, 26, 27, 28, 29, 30, 31, 32, 33,\n       34, 35, 36, 37, 38, 39, 40, 41, 42, 43, 44, 45, 46, 47, 48, 49, 50,\n       51, 52, 53, 54, 55, 56, 57, 58, 59, 60, 61, 62, 63, 64, 65, 66, 67,\n       68, 69, 70, 71, 72, 73, 74, 75, 76, 77, 78, 79, 80, 81, 82, 83, 84,\n       85, 86, 87, 88, 89, 90, 91, 92, 93, 94, 95, 96, 97, 98, 99])",
          "type": "ndarray"
         }
        ],
        "-7310615337244077691": [
         "5",
         {
          "repr": "array(10)",
          "type": "ndarray"
         }
        ],
        "-7310615564955376491": [
         "225",
         {
          "repr": "array([  0,   2,   4,   6,   8,  10,  12,  14,  16,  18,  20,  22,  24,\n        26,  28,  30,  32,  34,  36,  38,  40,  42,  44,  46,  48,  50,\n        52,  54,  56,  58,  60,  62,  64,  66,  68,  70,  72,  74,  76,\n        78,  80,  82,  84,  86,  88,  90,  92,  94,  96,  98, 100, 102,\n       104, 106, 108, 110, 112, 114, 116, 118, 120, 122, 124, 126, 128,\n       130, 132, 134, 136, 138, 140, 142, 144, 146, 148, 150, 152, 154,\n       156, 158, 160, 162, 164, 166, 168, 170, 172, 174, 176, 178, 180,\n       182, 184, 186, 188, 190, 192, 194, 196, 198])",
          "type": "ndarray"
         }
        ],
        "-7374914931223919067": [
         "19",
         {
          "args": [
           "-7106220729099446889"
          ],
          "function": "Abstraction.from_fn"
         }
        ],
        "-7421760411677767972": [
         "55",
         {
          "args": [
           "-925967518873523857",
           "7703360805233009766",
           "5203738075998686267"
          ],
          "function": "Maybe.match",
          "type_params": {
           "T": {
            "type": "Integer"
           }
          }
         }
        ],
        "-7489487886736994582": [
         "15",
         {
          "args": [
           "6621285170742431179",
           "7703360805233009766",
           "328146108265967914"
          ],
          "function": "Maybe.match",
          "type_params": {
           "T": {
            "params": {
             "T": {
              "type": "NDArray"
             },
             "U": {
              "params": {
               "T": {
                "type": "Integer"
               },
               "U": {
                "params": {
                 "T": {
                  "type": "Integer"
                 }
                },
                "type": "Vec"
               }
              },
              "type": "Either"
             }
            },
            "type": "Pair"
           }
          }
         }
        ],
        "-7499149312937984922": [
         "74",
         {
          "args": [
           "3897123678533522251",
           "-2624998746460954568"
          ],
          "function": "Maybe.__and__",
          "type_params": {
           "T": {
            "type": "NDArray"
           }
          }
         }
        ],
        "-7650269798528673400": [
         "161",
         {
          "args": [
           "241536925356104312"
          ],
          "function": "Abstraction.create_variable",
          "type_params": {
           "T": {
            "type": "Integer"
           },
           "U": {
            "type": "NDArray"
           }
          }
         }
        ],
        "-7721165537378407931": [
         "5",
         {
          "args": [
           "-8704731240750149540"
          ],
          "function": "NDArrayCompat.to_ndarray"
         }
        ],
        "-7761567949085819156": [
         "7",
         {
          "args": [
           "-2952450362546799404"
          ],
          "function": "NDArrayCompat.from_ndarray"
         }
        ],
        "-7786605125500285553": [
         "74",
         {
          "args": [
           "3897123678533522251",
           "-71907873773769076"
          ],
          "function": "Maybe.__and__",
          "type_params": {
           "T": {
            "type": "NDArray"
           }
          }
         }
        ],
        "-7791812642259934983": [
         "84",
         {
          "args": [
           "-8943270035964787178",
           "-9222477849862511594"
          ],
          "function": "Abstraction.__add__",
          "type_params": {
           "T": {
            "type": "NDArray"
           },
           "U": {
            "params": {
             "T": {
              "type": "NDArray"
             }
            },
            "type": "Maybe"
           }
          }
         }
        ],
        "-7821833117464458399": [
         "5",
         {
          "args": [
           "1179516031581487141"
          ],
          "function": "NDArrayCompat.to_ndarray"
         }
        ],
        "-7845411681977842001": [
         "5",
         {
          "args": [
           "-7310615564955376491",
           "4713779054406638500"
          ],
          "function": "ndarray_getitem"
         }
        ],
        "-791134029424807692": [
         "66",
         {
          "args": [
           "7681648102964627768",
           "830260340471481657"
          ],
          "function": "Abstraction.__call__",
          "type_params": {
           "T": {
            "type": "Integer"
           },
           "U": {
            "params": {
             "T": {
              "params": {
               "T": {
                "type": "Integer"
               },
               "U": {
                "params": {
                 "T": {
                  "type": "Integer"
                 }
                },
                "type": "Vec"
               }
              },
              "type": "Either"
             }
            },
            "type": "Maybe"
           }
          }
         }
        ],
        "-7949385190237942973": [
         "5",
         {
          "args": [
           "6284844460690215997"
          ],
          "function": "NDArrayCompat.to_ndarray"
         }
        ],
        "-7953753424042025307": [
         "4",
         {
          "args": [
           "-1121424766808586802"
          ],
          "function": "NDArrayCompat.from_ndarray"
         }
        ],
        "-8048521251642777674": [
         "5",
         {
          "args": [
           "4488959614263339397"
          ],
          "function": "NDArrayCompat.to_ndarray"
         }
        ],
        "-8212135172233348146": [
         "125",
         {
          "repr": "Maybe.just",
          "type": "BoundInfer"
         }
        ],
        "-8304117045483117992": [
         "84",
         {
          "args": [
           "7225842552315936519",
           "-9222477849862511594"
          ],
          "function": "Abstraction.__add__",
          "type_params": {
           "T": {
            "type": "NDArray"
           },
           "U": {
            "params": {
             "T": {
              "type": "NDArray"
             }
            },
            "type": "Maybe"
           }
          }
         }
        ],
        "-8684765597286566063": [
         "189",
         {
          "args": [
           "-706219686719798650"
          ],
          "function": "Maybe.just",
          "type_params": {
           "T": {
            "type": "NDArray"
           }
          }
         }
        ],
        "-8704731240750149540": [
         "4",
         {
          "args": [
           "3906530246695754882"
          ],
          "function": "NDArrayCompat.from_ndarray"
         }
        ],
        "-8706936158111304158": [
         "5",
         {
          "args": [
           "-5160916249838851820"
          ],
          "function": "NDArrayCompat.to_ndarray"
         }
        ],
        "-8721888228340461738": [
         "58",
         {
          "args": [
           "4442036384280654967"
          ],
          "function": "Converter.convert",
          "type_params": {
           "T": {
            "type": "NDArray"
           }
          }
         }
        ],
        "-8723507973413733787": [
         "14",
         {
          "args": [
           "4714087453042149350"
          ],
          "function": "Abstraction.from_fn",
          "type_params": {
           "T": {
            "params": {
             "T": {
              "type": "NDArray"
             },
             "U": {
              "params": {
               "T": {
                "type": "Integer"
               },
               "U": {
                "params": {
                 "T": {
                  "type": "Integer"
                 }
                },
                "type": "Vec"
               }
              },
              "type": "Either"
             }
            },
            "type": "Pair"
           },
           "U": {
            "type": "NDArray"
           }
          }
         }
        ],
        "-88220872935477499": [
         "4",
         {
          "args": [
           "6284847882622355692"
          ],
          "function": "NDArrayCompat.from_ndarray"
         }
        ],
        "-8874626673731672901": [
         "186",
         {
          "args": [
           "-6762249150202508394"
          ],
          "function": "Pair.left",
          "type_params": {
           "T": {
            "type": "NDArray"
           },
           "U": {
            "params": {
             "T": {
              "type": "Integer"
             },
             "U": {
              "params": {
               "T": {
                "type": "Integer"
               }
              },
              "type": "Vec"
             }
            },
            "type": "Either"
           }
          }
         }
        ],
        "-8931351415606208578": [
         "56",
         {
          "args": [
           "-7421760411677767972"
          ],
          "function": "NDArrayCompat.from_ndarray"
         }
        ],
        "-8943270035964787178": [
         "126",
         {
          "args": [
           "-8212135172233348146"
          ],
          "function": "Abstraction.from_fn"
         }
        ],
        "-8977017707412637737": [
         "15",
         {
          "args": [
           "-5290454861014231493",
           "7703360805233009766",
           "-8304117045483117992"
          ],
          "function": "Maybe.match",
          "type_params": {
           "T": {
            "params": {
             "T": {
              "type": "NDArray"
             },
             "U": {
              "params": {
               "T": {
                "type": "Integer"
               },
               "U": {
                "params": {
                 "T": {
                  "type": "Integer"
                 }
                },
                "type": "Vec"
               }
              },
              "type": "Either"
             }
            },
            "type": "Pair"
           }
          }
         }
        ],
        "-8981835123956369196": [
         "150",
         {
          "repr": "Variable(4616250032)",
          "type": "Variable"
         }
        ],
        "-8981835124065704221": [
         "134",
         {
          "repr": "Variable(4616250592)",
          "type": "Variable"
         }
        ],
        "-9020732879549574696": [
         "55",
         {
          "args": [
           "9094274569454627144"
          ],
          "function": "Maybe.just",
          "type_params": {
           "T": {
            "type": "NDArray"
           }
          }
         }
        ],
        "-9030259525573543998": [
         "5",
         {
          "args": [
           "-1639516157675188686"
          ],
          "function": "NDArrayCompat.to_ndarray"
         }
        ],
        "-9072396050733471667": [
         "5",
         {
          "args": [
           "-4004769151875798142"
          ],
          "function": "NDArrayCompat.to_ndarray"
         }
        ],
        "-9101843677981858041": [
         "148",
         {
          "args": [
           "-459872565733163655"
          ],
          "function": "Either.right",
          "type_params": {
           "T": {
            "type": "Integer"
           },
           "U": {
            "params": {
             "T": {
              "type": "Integer"
             }
            },
            "type": "Vec"
           }
          }
         }
        ],
        "-9111838950886655366": [
         "11",
         {
          "args": [
           "4713779054406638500"
          ],
          "function": "Converter.convert",
          "type_params": {
           "T": {
            "params": {
             "T": {
              "type": "Integer"
             },
             "U": {
              "params": {
               "T": {
                "type": "Integer"
               }
              },
              "type": "Vec"
             }
            },
            "type": "Either"
           }
          }
         }
        ],
        "-9222477849862511594": [
         "83",
         {
          "args": [
           "-6762249150202508394",
           "-706219686719798650"
          ],
          "function": "Abstraction.create",
          "type_params": {
           "T": {
            "params": {
             "T": {
              "type": "NDArray"
             },
             "U": {
              "params": {
               "T": {
                "type": "Integer"
               },
               "U": {
                "params": {
                 "T": {
                  "type": "Integer"
                 }
                },
                "type": "Vec"
               }
              },
              "type": "Either"
             }
            },
            "type": "Pair"
           },
           "U": {
            "type": "NDArray"
           }
          }
         }
        ],
        "-925967518873523857": [
         "116",
         {
          "args": [
           "-4649256587560651910"
          ],
          "function": "Maybe.just"
         }
        ],
        "-970052755917494134": [
         "73",
         {
          "args": [
           "-3886223370301655202",
           "7700748547699628467"
          ],
          "function": "Maybe.__or__",
          "type_params": {
           "T": {
            "params": {
             "T": {
              "type": "Integer"
             },
             "U": {
              "params": {
               "T": {
                "type": "Integer"
               }
              },
              "type": "Vec"
             }
            },
            "type": "Either"
           }
          }
         }
        ],
        "1033551087041947658": [
         "56",
         {
          "args": [
           "-9020732879549574696"
          ],
          "function": "NDArrayCompat.from_ndarray"
         }
        ],
        "1043207804160330670": [
         "15",
         {
          "args": [
           "-606612188070956947",
           "7703360805233009766",
           "-7791812642259934983"
          ],
          "function": "Maybe.match",
          "type_params": {
           "T": {
            "params": {
             "T": {
              "type": "NDArray"
             },
             "U": {
              "params": {
               "T": {
                "type": "Integer"
               },
               "U": {
                "params": {
                 "T": {
                  "type": "Integer"
                 }
                },
                "type": "Vec"
               }
              },
              "type": "Either"
             }
            },
            "type": "Pair"
           }
          }
         }
        ],
        "1050473116636811806": [
         "15",
         {
          "args": [
           "2478898151424922310",
           "-9222477849862511594"
          ],
          "function": "Maybe.map",
          "type_params": {
           "T": {
            "params": {
             "T": {
              "type": "NDArray"
             },
             "U": {
              "params": {
               "T": {
                "type": "Integer"
               },
               "U": {
                "params": {
                 "T": {
                  "type": "Integer"
                 }
                },
                "type": "Vec"
               }
              },
              "type": "Either"
             }
            },
            "type": "Pair"
           }
          }
         }
        ],
        "1109913550682159045": [
         "4",
         {
          "args": [
           "1043207804160330670"
          ],
          "function": "NDArrayCompat.from_ndarray"
         }
        ],
        "114771418907392399": [
         "57",
         {
          "args": [
           "-8931351415606208578",
           "-8931351415606208578"
          ],
          "function": "NDArrayCompat.__add__"
         }
        ],
        "1179303444842926110": [
         "93",
         {
          "args": [
           "-459872565733163655",
           "-1727297813002203651"
          ],
          "function": "Abstraction.create"
         }
        ],
        "1179516031581487141": [
         "4",
         {
          "args": [
           "713643658344949070"
          ],
          "function": "NDArrayCompat.from_ndarray"
         }
        ],
        "1193603216482933380": [
         "220",
         {
          "args": [
           "3015517905768064073",
           "-1208112746975233409"
          ],
          "function": "NDArray.__getitem__"
         }
        ],
        "1365179762007056321": [
         "5",
         {
          "args": [
           "-88220872935477499"
          ],
          "function": "NDArrayCompat.to_ndarray"
         }
        ],
        "1393172020926098343": [
         "56",
         {
          "args": [
           "8831517339964525505"
          ],
          "function": "NDArrayCompat.from_ndarray"
         }
        ],
        "1403323746003076594": [
         "5",
         {
          "args": [
           "-7953753424042025307"
          ],
          "function": "NDArrayCompat.to_ndarray"
         }
        ],
        "1434201859992440485": [
         "5",
         {
          "args": [
           "-3990767567436360951",
           "4713779054406638500"
          ],
          "function": "ndarray_getitem"
         }
        ],
        "1626833711022383777": [
         "20",
         {
          "args": [
           "-3043571545640663641",
           "-7374914931223919067"
          ],
          "function": "Maybe.map",
          "type_params": {
           "T": {
            "type": "Integer"
           }
          }
         }
        ],
        "1843070839768583759": [
         "74",
         {
          "args": [
           "-4837098956722179430",
           "949262314933408240"
          ],
          "function": "Maybe.__and__",
          "type_params": {
           "T": {
            "type": "NDArray"
           }
          }
         }
        ],
        "197716354574705964": [
         "106",
         {
          "args": [
           "2814644451134350872"
          ],
          "function": "Abstraction.from_fn"
         }
        ],
        "2166941572612414396": [
         "153",
         {
          "args": [
           "-5011748501812788877"
          ],
          "function": "Maybe.just",
          "type_params": {
           "T": {
            "params": {
             "T": {
              "type": "Integer"
             },
             "U": {
              "params": {
               "T": {
                "type": "Integer"
               }
              },
              "type": "Vec"
             }
            },
            "type": "Either"
           }
          }
         }
        ],
        "2177193516735440439": [
         "66",
         {
          "args": [
           "8656979090600839637",
           "830260340471481657"
          ],
          "function": "Abstraction.__call__",
          "type_params": {
           "T": {
            "type": "Integer"
           },
           "U": {
            "params": {
             "T": {
              "params": {
               "T": {
                "type": "Integer"
               },
               "U": {
                "params": {
                 "T": {
                  "type": "Integer"
                 }
                },
                "type": "Vec"
               }
              },
              "type": "Either"
             }
            },
            "type": "Maybe"
           }
          }
         }
        ],
        "2227653887930316235": [
         "5",
         {
          "args": [
           "3514172097390762150"
          ],
          "function": "NDArrayCompat.to_ndarray"
         }
        ],
        "2251776250973385170": [
         "66",
         {
          "args": [
           "-1208112746975233409"
          ],
          "function": "Maybe.just",
          "type_params": {
           "T": {
            "params": {
             "T": {
              "type": "Integer"
             },
             "U": {
              "params": {
               "T": {
                "type": "Integer"
               }
              },
              "type": "Vec"
             }
            },
            "type": "Either"
           }
          }
         }
        ],
        "227340298487089036": [
         "9",
         {
          "args": [
           "2957685491773201289"
          ],
          "function": "Converter.convert",
          "type_params": {
           "T": {
            "type": "NDArray"
           }
          }
         }
        ],
        "2391294082487331790": [
         "207",
         {
          "args": [
           "-4378767735171885778"
          ],
          "function": "Pair.left",
          "type_params": {
           "T": {
            "type": "NDArray"
           },
           "U": {
            "params": {
             "T": {
              "type": "Integer"
             },
             "U": {
              "params": {
               "T": {
                "type": "Integer"
               }
              },
              "type": "Vec"
             }
            },
            "type": "Either"
           }
          }
         }
        ],
        "241536669915927637": [
         "137",
         {
          "repr": "Variable(4615781960)",
          "type": "Variable"
         }
        ],
        "241536899196887687": [
         "184",
         {
          "repr": "Variable(4616063912)",
          "type": "Variable"
         }
        ],
        "241536899989295987": [
         "146",
         {
          "repr": "Variable(4616051176)",
          "type": "Variable"
         }
        ],
        "241536925356104312": [
         "160",
         {
          "repr": "Variable(4616196728)",
          "type": "Variable"
         }
        ],
        "2478898151424922310": [
         "74",
         {
          "args": [
           "-8721888228340461738",
           "-970052755917494134"
          ],
          "function": "Maybe.__and__",
          "type_params": {
           "T": {
            "type": "NDArray"
           }
          }
         }
        ],
        "2814644451134350872": [
         "105",
         {
          "repr": "Maybe.just",
          "type": "BoundInfer"
         }
        ],
        "2819905678209689071": [
         "5",
         {
          "args": [
           "3736494866601926666"
          ],
          "function": "NDArrayCompat.to_ndarray"
         }
        ],
        "2859349736757779398": [
         "5",
         {
          "args": [
           "-4417223510602162712",
           "-1678443516291542066"
          ],
          "function": "ndarray_getitem"
         }
        ],
        "2957685491773201289": [
         "8",
         {
          "args": [
           "-2588923867463876411",
           "-2588923867463876411"
          ],
          "function": "NDArrayCompat.__add__"
         }
        ],
        "2985219241476842817": [
         "12",
         {
          "args": [
           "3919409559600014478",
           "9116537386611357020"
          ],
          "function": "Maybe.__and__",
          "type_params": {
           "T": {
            "type": "NDArray"
           }
          }
         }
        ],
        "3011704564372108511": [
         "58",
         {
          "args": [
           "620191938697360669"
          ],
          "function": "Converter.convert",
          "type_params": {
           "T": {
            "type": "NDArray"
           }
          }
         }
        ],
        "3014971897586217712": [
         "5",
         {
          "args": [
           "340105782257140777",
           "4713779054406638500"
          ],
          "function": "ndarray_getitem"
         }
        ],
        "3015517905768064073": [
         "224",
         {
          "args": [
           "9094274569454627144",
           "9094274569454627144"
          ],
          "function": "NDArray.__add__"
         }
        ],
        "3132569672370359433": [
         "12",
         {
          "args": [
           "3919409559600014478",
           "-9111838950886655366"
          ],
          "function": "Maybe.__and__",
          "type_params": {
           "T": {
            "type": "NDArray"
           }
          }
         }
        ],
        "322370924408164163": [
         "187",
         {
          "args": [
           "-6762249150202508394"
          ],
          "function": "Pair.right",
          "type_params": {
           "T": {
            "type": "NDArray"
           },
           "U": {
            "params": {
             "T": {
              "type": "Integer"
             },
             "U": {
              "params": {
               "T": {
                "type": "Integer"
               }
              },
              "type": "Vec"
             }
            },
            "type": "Either"
           }
          }
         }
        ],
        "328146108265967914": [
         "190",
         {
          "args": [
           "-6762249150202508394",
           "-8684765597286566063"
          ],
          "function": "Abstraction.create"
         }
        ],
        "3319423168701717901": [
         "72",
         {
          "args": [
           "-5383112508657625409",
           "-4399158014625666932",
           "1179303444842926110"
          ],
          "function": "Maybe.match",
          "type_params": {
           "T": {
            "params": {
             "T": {
              "type": "Integer"
             }
            },
            "type": "Vec"
           }
          }
         }
        ],
        "340105782257140777": [
         "225",
         {
          "args": [
           "6887897455744159115",
           "6887897455744159115"
          ],
          "function": "ndarray_add"
         }
        ],
        "3514172097390762150": [
         "4",
         {
          "args": [
           "5879690070594276383"
          ],
          "function": "NDArrayCompat.from_ndarray"
         }
        ],
        "3736494866601926666": [
         "4",
         {
          "args": [
           "-6385945437861283369"
          ],
          "function": "NDArrayCompat.from_ndarray"
         }
        ],
        "3822845652799715414": [
         "208",
         {
          "args": [
           "-4378767735171885778"
          ],
          "function": "Pair.right",
          "type_params": {
           "T": {
            "type": "NDArray"
           },
           "U": {
            "params": {
             "T": {
              "type": "Integer"
             },
             "U": {
              "params": {
               "T": {
                "type": "Integer"
               }
              },
              "type": "Vec"
             }
            },
            "type": "Either"
           }
          }
         }
        ],
        "3897123678533522251": [
         "58",
         {
          "args": [
           "5069351955114271951"
          ],
          "function": "Converter.convert",
          "type_params": {
           "T": {
            "type": "NDArray"
           }
          }
         }
        ],
        "3897712537135950527": [
         "22",
         {
          "repr": "Either.right",
          "type": "BoundInfer"
         }
        ],
        "3906530246695754882": [
         "15",
         {
          "args": [
           "-7064802824409813048",
           "7703360805233009766",
           "328146108265967914"
          ],
          "function": "Maybe.match",
          "type_params": {
           "T": {
            "params": {
             "T": {
              "type": "NDArray"
             },
             "U": {
              "params": {
               "T": {
                "type": "Integer"
               },
               "U": {
                "params": {
                 "T": {
                  "type": "Integer"
                 }
                },
                "type": "Vec"
               }
              },
              "type": "Either"
             }
            },
            "type": "Pair"
           }
          }
         }
        ],
        "3919409559600014478": [
         "9",
         {
          "args": [
           "8829142351054292861"
          ],
          "function": "Converter.convert",
          "type_params": {
           "T": {
            "type": "NDArray"
           }
          }
         }
        ],
        "3957684190253798215": [
         "106",
         {
          "args": [
           "-3076705678831638861",
           "-5705581638090886381"
          ],
          "function": "Abstraction.create",
          "type_params": {
           "T": {
            "params": {
             "T": {
              "type": "Integer"
             },
             "U": {
              "params": {
               "T": {
                "type": "Integer"
               }
              },
              "type": "Vec"
             }
            },
            "type": "Either"
           },
           "U": {
            "params": {
             "T": {
              "params": {
               "T": {
                "type": "Integer"
               },
               "U": {
                "params": {
                 "T": {
                  "type": "Integer"
                 }
                },
                "type": "Vec"
               }
              },
              "type": "Either"
             }
            },
            "type": "Maybe"
           }
          }
         }
        ],
        "4040343526533555898": [
         "4",
         {
          "args": [
           "4544908528171134212"
          ],
          "function": "NDArrayCompat.from_ndarray"
         }
        ],
        "4069482946785880220": [
         "5",
         {
          "args": [
           "8146053790685016161"
          ],
          "function": "NDArrayCompat.to_ndarray"
         }
        ],
        "4135595739424953295": [
         "72",
         {
          "args": [
           "-5383112508657625409",
           "-4399158014625666932",
           "9443434051561848"
          ],
          "function": "Maybe.match",
          "type_params": {
           "T": {
            "params": {
             "T": {
              "type": "Integer"
             }
            },
            "type": "Vec"
           }
          }
         }
        ],
        "4151555116808070765": [
         "12",
         {
          "args": [
           "227340298487089036",
           "8707533822291393287"
          ],
          "function": "Maybe.__and__",
          "type_params": {
           "T": {
            "type": "NDArray"
           }
          }
         }
        ],
        "421423557119156493": [
         "9",
         {
          "args": [
           "-1947520936561189353"
          ],
          "function": "Converter.convert",
          "type_params": {
           "T": {
            "type": "NDArray"
           }
          }
         }
        ],
        "4431009652336780698": [
         "56",
         {
          "args": [
           "7658783846362775586"
          ],
          "function": "NDArrayCompat.from_ndarray"
         }
        ],
        "4442036384280654967": [
         "57",
         {
          "args": [
           "1393172020926098343",
           "1393172020926098343"
          ],
          "function": "NDArrayCompat.__add__"
         }
        ],
        "4488959614263339397": [
         "4",
         {
          "args": [
           "-1098815614146331282"
          ],
          "function": "NDArrayCompat.from_ndarray"
         }
        ],
        "4513070205117154029": [
         "12",
         {
          "args": [
           "227340298487089036",
           "-970052755917494134"
          ],
          "function": "Maybe.__and__",
          "type_params": {
           "T": {
            "type": "NDArray"
           }
          }
         }
        ],
        "4524026358657233733": [
         "5",
         {
          "args": [
           "-4003988947645163622"
          ],
          "function": "NDArrayCompat.to_ndarray"
         }
        ],
        "4544908528171134212": [
         "15",
         {
          "args": [
           "4151555116808070765",
           "-8723507973413733787"
          ],
          "function": "Maybe.map",
          "type_params": {
           "T": {
            "params": {
             "T": {
              "type": "NDArray"
             },
             "U": {
              "params": {
               "T": {
                "type": "Integer"
               },
               "U": {
                "params": {
                 "T": {
                  "type": "Integer"
                 }
                },
                "type": "Vec"
               }
              },
              "type": "Either"
             }
            },
            "type": "Pair"
           }
          }
         }
        ],
        "4600129275889057871": [
         "225",
         {
          "args": [
           "8214520643793371129",
           "8214520643793371129"
          ],
          "function": "ndarray_add"
         }
        ],
        "4647314485928461918": [
         "55",
         {
          "args": [
           "-4491616023720753659",
           "-4649256587560651910"
          ],
          "function": "Abstraction.__call__",
          "type_params": {
           "T": {
            "type": "Integer"
           },
           "U": {
            "params": {
             "T": {
              "type": "NDArray"
             }
            },
            "type": "Maybe"
           }
          }
         }
        ],
        "4656381298025305191": [
         "5",
         {
          "args": [
           "-6007750462670501723"
          ],
          "function": "NDArrayCompat.to_ndarray"
         }
        ],
        "4689896428828105860": [
         "74",
         {
          "args": [
           "-8721888228340461738",
           "8647773478750256749"
          ],
          "function": "Maybe.__and__",
          "type_params": {
           "T": {
            "type": "NDArray"
           }
          }
         }
        ],
        "4713779054301633575": [
         "238",
         {
          "repr": "100",
          "type": "int"
         }
        ],
        "4713779054406638500": [
         "229",
         {
          "repr": "5",
          "type": "int"
         }
        ],
        "4714087453042149350": [
         "13",
         {
          "repr": "<function NDArrayCompat.__getitem__.<locals>.<lambda> at 0x10e57aae8>",
          "type": "function"
         }
        ],
        "4887483440460737366": [
         "131",
         {
          "args": [
           "7225842552315936519",
           "-5456441167283459873"
          ],
          "function": "Abstraction.__add__",
          "type_params": {
           "T": {
            "type": "NDArray"
           },
           "U": {
            "params": {
             "T": {
              "type": "NDArray"
             }
            },
            "type": "Maybe"
           }
          }
         }
        ],
        "5045112419611545487": [
         "5",
         {
          "args": [
           "7425454814977964840"
          ],
          "function": "NDArrayCompat.to_ndarray"
         }
        ],
        "5069351955114271951": [
         "57",
         {
          "args": [
           "4431009652336780698",
           "4431009652336780698"
          ],
          "function": "NDArrayCompat.__add__"
         }
        ],
        "5119592682611502499": [
         "15",
         {
          "args": [
           "8546114497697302659",
           "7703360805233009766",
           "328146108265967914"
          ],
          "function": "Maybe.match",
          "type_params": {
           "T": {
            "params": {
             "T": {
              "type": "NDArray"
             },
             "U": {
              "params": {
               "T": {
                "type": "Integer"
               },
               "U": {
                "params": {
                 "T": {
                  "type": "Integer"
                 }
                },
                "type": "Vec"
               }
              },
              "type": "Either"
             }
            },
            "type": "Pair"
           }
          }
         }
        ],
        "5203738075998686267": [
         "131",
         {
          "args": [
           "-8943270035964787178",
           "-5456441167283459873"
          ],
          "function": "Abstraction.__add__",
          "type_params": {
           "T": {
            "type": "NDArray"
           },
           "U": {
            "params": {
             "T": {
              "type": "NDArray"
             }
            },
            "type": "Maybe"
           }
          }
         }
        ],
        "5475126958832205357": [
         "72",
         {
          "args": [
           "-5383112508657625409",
           "-4399158014625666932",
           "6126782805591463740"
          ],
          "function": "Maybe.match",
          "type_params": {
           "T": {
            "params": {
             "T": {
              "type": "Integer"
             }
            },
            "type": "Vec"
           }
          }
         }
        ],
        "5592135609167733886": [
         "73",
         {
          "args": [
           "-6279853426262893661",
           "3319423168701717901"
          ],
          "function": "Maybe.__or__",
          "type_params": {
           "T": {
            "params": {
             "T": {
              "type": "Integer"
             },
             "U": {
              "params": {
               "T": {
                "type": "Integer"
               }
              },
              "type": "Vec"
             }
            },
            "type": "Either"
           }
          }
         }
        ],
        "5594458272100650178": [
         "163",
         {
          "args": [
           "-1264365879207482647"
          ],
          "function": "Maybe.just",
          "type_params": {
           "T": {
            "type": "NDArray"
           }
          }
         }
        ],
        "5633604116788465327": [
         "74",
         {
          "args": [
           "3897123678533522251",
           "8614516942818095593"
          ],
          "function": "Maybe.__and__",
          "type_params": {
           "T": {
            "type": "NDArray"
           }
          }
         }
        ],
        "5694318604870746245": [
         "4",
         {
          "args": [
           "-7116074690267219855"
          ],
          "function": "NDArrayCompat.from_ndarray"
         }
        ],
        "5875154631775244781": [
         "5",
         {
          "args": [
           "-6861537960860662109"
          ],
          "function": "NDArrayCompat.to_ndarray"
         }
        ],
        "5879690070594276383": [
         "15",
         {
          "args": [
           "4151555116808070765",
           "-9222477849862511594"
          ],
          "function": "Maybe.map",
          "type_params": {
           "T": {
            "params": {
             "T": {
              "type": "NDArray"
             },
             "U": {
              "params": {
               "T": {
                "type": "Integer"
               },
               "U": {
                "params": {
                 "T": {
                  "type": "Integer"
                 }
                },
                "type": "Vec"
               }
              },
              "type": "Either"
             }
            },
            "type": "Pair"
           }
          }
         }
        ],
        "597131456458022485": [
         "15",
         {
          "args": [
           "-7786605125500285553",
           "7703360805233009766",
           "328146108265967914"
          ],
          "function": "Maybe.match",
          "type_params": {
           "T": {
            "params": {
             "T": {
              "type": "NDArray"
             },
             "U": {
              "params": {
               "T": {
                "type": "Integer"
               },
               "U": {
                "params": {
                 "T": {
                  "type": "Integer"
                 }
                },
                "type": "Vec"
               }
              },
              "type": "Either"
             }
            },
            "type": "Pair"
           }
          }
         }
        ],
        "5978424380647594609": [
         "5",
         {
          "args": [
           "-6048537999571285513"
          ],
          "function": "NDArrayCompat.to_ndarray"
         }
        ],
        "6010434435264637102": [
         "15",
         {
          "args": [
           "6567116874629747051",
           "7703360805233009766",
           "-7791812642259934983"
          ],
          "function": "Maybe.match",
          "type_params": {
           "T": {
            "params": {
             "T": {
              "type": "NDArray"
             },
             "U": {
              "params": {
               "T": {
                "type": "Integer"
               },
               "U": {
                "params": {
                 "T": {
                  "type": "Integer"
                 }
                },
                "type": "Vec"
               }
              },
              "type": "Either"
             }
            },
            "type": "Pair"
           }
          }
         }
        ],
        "6126782805591463740": [
         "93",
         {
          "args": [
           "197716354574705964",
           "-3927280897104385606"
          ],
          "function": "Abstraction.__add__",
          "type_params": {
           "T": {
            "params": {
             "T": {
              "type": "Integer"
             },
             "U": {
              "params": {
               "T": {
                "type": "Integer"
               }
              },
              "type": "Vec"
             }
            },
            "type": "Either"
           },
           "U": {
            "params": {
             "T": {
              "params": {
               "T": {
                "type": "Integer"
               },
               "U": {
                "params": {
                 "T": {
                  "type": "Integer"
                 }
                },
                "type": "Vec"
               }
              },
              "type": "Either"
             }
            },
            "type": "Maybe"
           }
          }
         }
        ],
        "6176427846022223037": [
         "15",
         {
          "args": [
           "-412155022069188176",
           "-9222477849862511594"
          ],
          "function": "Maybe.map",
          "type_params": {
           "T": {
            "params": {
             "T": {
              "type": "NDArray"
             },
             "U": {
              "params": {
               "T": {
                "type": "Integer"
               },
               "U": {
                "params": {
                 "T": {
                  "type": "Integer"
                 }
                },
                "type": "Vec"
               }
              },
              "type": "Either"
             }
            },
            "type": "Pair"
           }
          }
         }
        ],
        "620191938697360669": [
         "57",
         {
          "args": [
           "1033551087041947658",
           "1033551087041947658"
          ],
          "function": "NDArrayCompat.__add__"
         }
        ],
        "6212831471787814824": [
         "15",
         {
          "args": [
           "3132569672370359433",
           "-8723507973413733787"
          ],
          "function": "Maybe.map",
          "type_params": {
           "T": {
            "params": {
             "T": {
              "type": "NDArray"
             },
             "U": {
              "params": {
               "T": {
                "type": "Integer"
               },
               "U": {
                "params": {
                 "T": {
                  "type": "Integer"
                 }
                },
                "type": "Vec"
               }
              },
              "type": "Either"
             }
            },
            "type": "Pair"
           }
          }
         }
        ],
        "6268562675277366084": [
         "15",
         {
          "args": [
           "1843070839768583759",
           "7703360805233009766",
           "-7791812642259934983"
          ],
          "function": "Maybe.match",
          "type_params": {
           "T": {
            "params": {
             "T": {
              "type": "NDArray"
             },
             "U": {
              "params": {
               "T": {
                "type": "Integer"
               },
               "U": {
                "params": {
                 "T": {
                  "type": "Integer"
                 }
                },
                "type": "Vec"
               }
              },
              "type": "Either"
             }
            },
            "type": "Pair"
           }
          }
         }
        ],
        "6284844460690215997": [
         "4",
         {
          "args": [
           "6268562675277366084"
          ],
          "function": "NDArrayCompat.from_ndarray"
         }
        ],
        "6284847882622355692": [
         "15",
         {
          "args": [
           "2478898151424922310",
           "7703360805233009766",
           "-7791812642259934983"
          ],
          "function": "Maybe.match",
          "type_params": {
           "T": {
            "params": {
             "T": {
              "type": "NDArray"
             },
             "U": {
              "params": {
               "T": {
                "type": "Integer"
               },
               "U": {
                "params": {
                 "T": {
                  "type": "Integer"
                 }
                },
                "type": "Vec"
               }
              },
              "type": "Either"
             }
            },
            "type": "Pair"
           }
          }
         }
        ],
        "6567116874629747051": [
         "74",
         {
          "args": [
           "-8721888228340461738",
           "-6954294932558197824"
          ],
          "function": "Maybe.__and__",
          "type_params": {
           "T": {
            "type": "NDArray"
           }
          }
         }
        ],
        "6580513746738577931": [
         "151",
         {
          "args": [
           "-8981835123956369196"
          ],
          "function": "Abstraction.create_variable",
          "type_params": {
           "T": {
            "type": "Integer"
           },
           "U": {
            "params": {
             "T": {
              "type": "Integer"
             },
             "U": {
              "params": {
               "T": {
                "type": "Integer"
               }
              },
              "type": "Vec"
             }
            },
            "type": "Either"
           }
          }
         }
        ],
        "6621285170742431179": [
         "74",
         {
          "args": [
           "3897123678533522251",
           "5592135609167733886"
          ],
          "function": "Maybe.__and__",
          "type_params": {
           "T": {
            "type": "NDArray"
           }
          }
         }
        ],
        "6629873243390779564": [
         "31",
         {
          "args": [
           "-925967518873523857",
           "-4678502709838927428"
          ],
          "function": "Maybe.map",
          "type_params": {
           "T": {
            "type": "Integer"
           }
          }
         }
        ],
        "6674882009630327653": [
         "229",
         {
          "args": [
           "830260340471481657"
          ],
          "function": "unbox_integer"
         }
        ],
        "6840043378572354318": [
         "5",
         {
          "args": [
           "1193603216482933380"
          ],
          "function": "NDArray.to_ndarray"
         }
        ],
        "6887897455744159115": [
         "235",
         {
          "args": [
           "8744454737154277936"
          ],
          "function": "arange"
         }
        ],
        "7040831592560195480": [
         "74",
         {
          "args": [
           "-3471210208538494580",
           "-71907873773769076"
          ],
          "function": "Maybe.__and__",
          "type_params": {
           "T": {
            "type": "NDArray"
           }
          }
         }
        ],
        "7074757294550086794": [
         "4",
         {
          "args": [
           "597131456458022485"
          ],
          "function": "NDArrayCompat.from_ndarray"
         }
        ],
        "713643658344949070": [
         "15",
         {
          "args": [
           "7200257852860797878",
           "7703360805233009766",
           "328146108265967914"
          ],
          "function": "Maybe.match",
          "type_params": {
           "T": {
            "params": {
             "T": {
              "type": "NDArray"
             },
             "U": {
              "params": {
               "T": {
                "type": "Integer"
               },
               "U": {
                "params": {
                 "T": {
                  "type": "Integer"
                 }
                },
                "type": "Vec"
               }
              },
              "type": "Either"
             }
            },
            "type": "Pair"
           }
          }
         }
        ],
        "7200257852860797878": [
         "74",
         {
          "args": [
           "917422250035403493",
           "-71907873773769076"
          ],
          "function": "Maybe.__and__",
          "type_params": {
           "T": {
            "type": "NDArray"
           }
          }
         }
        ],
        "7225842552315936519": [
         "126",
         {
          "args": [
           "-14163576326426698",
           "-2279058575913373087"
          ],
          "function": "Abstraction.create",
          "type_params": {
           "T": {
            "type": "NDArray"
           },
           "U": {
            "params": {
             "T": {
              "type": "NDArray"
             }
            },
            "type": "Maybe"
           }
          }
         }
        ],
        "7425454814977964840": [
         "4",
         {
          "args": [
           "-7252658591790092862"
          ],
          "function": "NDArrayCompat.from_ndarray"
         }
        ],
        "7658783846362775586": [
         "55",
         {
          "args": [
           "4887483440460737366",
           "-4649256587560651910"
          ],
          "function": "Abstraction.__call__",
          "type_params": {
           "T": {
            "type": "Integer"
           },
           "U": {
            "params": {
             "T": {
              "type": "NDArray"
             }
            },
            "type": "Maybe"
           }
          }
         }
        ],
        "7681648102964627768": [
         "111",
         {
          "args": [
           "197716354574705964",
           "-1133860184496103147"
          ],
          "function": "Abstraction.__add__",
          "type_params": {
           "T": {
            "params": {
             "T": {
              "type": "Integer"
             },
             "U": {
              "params": {
               "T": {
                "type": "Integer"
               }
              },
              "type": "Vec"
             }
            },
            "type": "Either"
           },
           "U": {
            "params": {
             "T": {
              "params": {
               "T": {
                "type": "Integer"
               },
               "U": {
                "params": {
                 "T": {
                  "type": "Integer"
                 }
                },
                "type": "Vec"
               }
              },
              "type": "Either"
             }
            },
            "type": "Maybe"
           }
          }
         }
        ],
        "7686823280636726663": [
         "57",
         {
          "args": [
           "-4615928099284195053",
           "-4615928099284195053"
          ],
          "function": "NDArrayCompat.__add__"
         }
        ],
        "7700748547699628467": [
         "72",
         {
          "args": [
           "-5383112508657625409",
           "-3927280897104385606"
          ],
          "function": "Maybe.map",
          "type_params": {
           "T": {
            "params": {
             "T": {
              "type": "Integer"
             }
            },
            "type": "Vec"
           }
          }
         }
        ],
        "7703360805233009766": [
         "117",
         {
          "function": "Maybe.nothing",
          "type_params": {
           "T": {
            "type": "NDArray"
           }
          }
         }
        ],
        "7710861873613564644": [
         "15",
         {
          "args": [
           "-7499149312937984922",
           "7703360805233009766",
           "328146108265967914"
          ],
          "function": "Maybe.match",
          "type_params": {
           "T": {
            "params": {
             "T": {
              "type": "NDArray"
             },
             "U": {
              "params": {
               "T": {
                "type": "Integer"
               },
               "U": {
                "params": {
                 "T": {
                  "type": "Integer"
                 }
                },
                "type": "Vec"
               }
              },
              "type": "Either"
             }
            },
            "type": "Pair"
           }
          }
         }
        ],
        "7810521326880312373": [
         "58",
         {
          "args": [
           "114771418907392399"
          ],
          "function": "Converter.convert",
          "type_params": {
           "T": {
            "type": "NDArray"
           }
          }
         }
        ],
        "7817243770356945038": [
         "4",
         {
          "args": [
           "-4067499365013330262"
          ],
          "function": "NDArrayCompat.from_ndarray"
         }
        ],
        "8041717448431328708": [
         "28",
         {
          "args": [
           "4713779054301633575"
          ],
          "function": "Converter.convert",
          "type_params": {
           "T": {
            "type": "Integer"
           }
          }
         }
        ],
        "8044909288445086102": [
         "74",
         {
          "args": [
           "-4378767735171885778"
          ],
          "function": "Maybe.just"
         }
        ],
        "8128193661721879441": [
         "24",
         {
          "args": [
           "-5383112508657625409",
           "-6657176820575257679"
          ],
          "function": "Maybe.map",
          "type_params": {
           "T": {
            "params": {
             "T": {
              "type": "Integer"
             }
            },
            "type": "Vec"
           }
          }
         }
        ],
        "8146053790685016161": [
         "4",
         {
          "args": [
           "6212831471787814824"
          ],
          "function": "NDArrayCompat.from_ndarray"
         }
        ],
        "8214520643793371129": [
         "235",
         {
          "args": [
           "4713779054301633575"
          ],
          "function": "arange"
         }
        ],
        "8254821168175456432": [
         "4",
         {
          "args": [
           "8612961563959571492"
          ],
          "function": "NDArrayCompat.from_ndarray"
         }
        ],
        "830260340471481657": [
         "231",
         {
          "args": [
           "4713779054406638500"
          ],
          "function": "Integer.from_int"
         }
        ],
        "8345885566761887579": [
         "225",
         {
          "args": [
           "-7310615326020458491",
           "-7310615326020458491"
          ],
          "function": "ndarray_add"
         }
        ],
        "852053475792198992": [
         "5",
         {
          "args": [
           "-5635179714934842598"
          ],
          "function": "NDArrayCompat.to_ndarray"
         }
        ],
        "8546114497697302659": [
         "74",
         {
          "args": [
           "3011704564372108511",
           "-71907873773769076"
          ],
          "function": "Maybe.__and__",
          "type_params": {
           "T": {
            "type": "NDArray"
           }
          }
         }
        ],
        "8595137882391921009": [
         "57",
         {
          "args": [
           "-5381009813015004470",
           "-5381009813015004470"
          ],
          "function": "NDArrayCompat.__add__"
         }
        ],
        "8612961563959571492": [
         "15",
         {
          "args": [
           "-3059003609621892112",
           "7703360805233009766",
           "-7791812642259934983"
          ],
          "function": "Maybe.match",
          "type_params": {
           "T": {
            "params": {
             "T": {
              "type": "NDArray"
             },
             "U": {
              "params": {
               "T": {
                "type": "Integer"
               },
               "U": {
                "params": {
                 "T": {
                  "type": "Integer"
                 }
                },
                "type": "Vec"
               }
              },
              "type": "Either"
             }
            },
            "type": "Pair"
           }
          }
         }
        ],
        "8614516942818095593": [
         "73",
         {
          "args": [
           "2251776250973385170",
           "3319423168701717901"
          ],
          "function": "Maybe.__or__",
          "type_params": {
           "T": {
            "params": {
             "T": {
              "type": "Integer"
             },
             "U": {
              "params": {
               "T": {
                "type": "Integer"
               }
              },
              "type": "Vec"
             }
            },
            "type": "Either"
           }
          }
         }
        ],
        "8647773478750256749": [
         "73",
         {
          "args": [
           "-2048361728572416071",
           "5475126958832205357"
          ],
          "function": "Maybe.__or__",
          "type_params": {
           "T": {
            "params": {
             "T": {
              "type": "Integer"
             },
             "U": {
              "params": {
               "T": {
                "type": "Integer"
               }
              },
              "type": "Vec"
             }
            },
            "type": "Either"
           }
          }
         }
        ],
        "8653158334563317873": [
         "5",
         {
          "args": [
           "975892888600101877"
          ],
          "function": "NDArrayCompat.to_ndarray"
         }
        ],
        "8656979090600839637": [
         "111",
         {
          "args": [
           "6580513746738577931",
           "2166941572612414396"
          ],
          "function": "Abstraction.create"
         }
        ],
        "8707533822291393287": [
         "11",
         {
          "args": [
           "8887545728875557935",
           "8128193661721879441"
          ],
          "function": "Maybe.__or__",
          "type_params": {
           "T": {
            "params": {
             "T": {
              "type": "Integer"
             },
             "U": {
              "params": {
               "T": {
                "type": "Integer"
               }
              },
              "type": "Vec"
             }
            },
            "type": "Either"
           }
          }
         }
        ],
        "8729709324764633035": [
         "15",
         {
          "args": [
           "1193603216482933380"
          ],
          "function": "Maybe.just",
          "type_params": {
           "T": {
            "type": "NDArray"
           }
          }
         }
        ],
        "8744454737154277936": [
         "238",
         {
          "args": [
           "-4649256587560651910"
          ],
          "function": "unbox_integer"
         }
        ],
        "8829142351054292861": [
         "8",
         {
          "args": [
           "-1171015405917996262",
           "-1171015405917996262"
          ],
          "function": "NDArrayCompat.__add__"
         }
        ],
        "8831517339964525505": [
         "55",
         {
          "args": [
           "-925967518873523857",
           "-5456441167283459873"
          ],
          "function": "Maybe.map",
          "type_params": {
           "T": {
            "type": "Integer"
           }
          }
         }
        ],
        "8887545728875557935": [
         "20",
         {
          "args": [
           "-4691553863178753990",
           "-7374914931223919067"
          ],
          "function": "Maybe.map",
          "type_params": {
           "T": {
            "type": "Integer"
           }
          }
         }
        ],
        "9027476497616514679": [
         "5",
         {
          "args": [
           "9182244901407255408"
          ],
          "function": "NDArrayCompat.to_ndarray"
         }
        ],
        "9056086434933563743": [
         "5",
         {
          "args": [
           "4040343526533555898"
          ],
          "function": "NDArrayCompat.to_ndarray"
         }
        ],
        "9094274569454627144": [
         "234",
         {
          "args": [
           "-4649256587560651910"
          ],
          "function": "arange_"
         }
        ],
        "9116537386611357020": [
         "11",
         {
          "args": [
           "1626833711022383777",
           "8128193661721879441"
          ],
          "function": "Maybe.__or__",
          "type_params": {
           "T": {
            "params": {
             "T": {
              "type": "Integer"
             },
             "U": {
              "params": {
               "T": {
                "type": "Integer"
               }
              },
              "type": "Vec"
             }
            },
            "type": "Either"
           }
          }
         }
        ],
        "917422250035403493": [
         "58",
         {
          "args": [
           "3015517905768064073"
          ],
          "function": "Maybe.just"
         }
        ],
        "9182244901407255408": [
         "4",
         {
          "args": [
           "-7489487886736994582"
          ],
          "function": "NDArrayCompat.from_ndarray"
         }
        ],
        "928581920219335661": [
         "5",
         {
          "args": [
           "4600129275889057871",
           "4713779054406638500"
          ],
          "function": "ndarray_getitem"
         }
        ],
        "9443434051561848": [
         "93",
         {
          "args": [
           "3957684190253798215",
           "-3927280897104385606"
          ],
          "function": "Abstraction.__add__",
          "type_params": {
           "T": {
            "params": {
             "T": {
              "type": "Integer"
             },
             "U": {
              "params": {
               "T": {
                "type": "Integer"
               }
              },
              "type": "Vec"
             }
            },
            "type": "Either"
           },
           "U": {
            "params": {
             "T": {
              "params": {
               "T": {
                "type": "Integer"
               },
               "U": {
                "params": {
                 "T": {
                  "type": "Integer"
                 }
                },
                "type": "Vec"
               }
              },
              "type": "Either"
             }
            },
            "type": "Maybe"
           }
          }
         }
        ],
        "949262314933408240": [
         "73",
         {
          "args": [
           "-6279853426262893661",
           "4135595739424953295"
          ],
          "function": "Maybe.__or__",
          "type_params": {
           "T": {
            "params": {
             "T": {
              "type": "Integer"
             },
             "U": {
              "params": {
               "T": {
                "type": "Integer"
               }
              },
              "type": "Vec"
             }
            },
            "type": "Either"
           }
          }
         }
        ],
        "975327646540141658": [
         "57",
         {
          "args": [
           "917422250035403493"
          ],
          "function": "NDArrayCompat.from_ndarray"
         }
        ],
        "975892888600101877": [
         "4",
         {
          "args": [
           "1050473116636811806"
          ],
          "function": "NDArrayCompat.from_ndarray"
         }
        ]
       },
       "states": {
        "initial": "-1236185272749818955",
        "states": [
         {
          "node": "4069482946785880220",
          "rule": "metadsl_core.numpy.NDArrayCompat.__getitem__"
         },
         {
          "node": "-9072396050733471667",
          "rule": "metadsl_core.either.convert_to_either"
         },
         {
          "node": "5045112419611545487",
          "rule": "metadsl_core.integer.convert_integer"
         },
         {
          "node": "-5042652985163262165",
          "rule": "metadsl_core.numpy.arange"
         },
         {
          "node": "9056086434933563743",
          "rule": "metadsl_core.integer.convert_integer"
         },
         {
          "node": "2227653887930316235",
          "rule": "metadsl_core.abstraction.Abstraction.from_fn"
         },
         {
          "node": "-6809483661468653664",
          "rule": "metadsl_core.abstraction.Abstraction.from_fn"
         },
         {
          "node": "-9030259525573543998",
          "rule": "metadsl_core.abstraction.Abstraction.from_fn"
         },
         {
          "node": "8653158334563317873",
          "rule": "metadsl_core.abstraction.Abstraction.from_fn"
         },
         {
          "node": "1365179762007056321",
          "rule": "metadsl_core.maybe.Maybe.map"
         },
         {
          "node": "-2093676223453393791",
          "rule": "metadsl_core.maybe.Maybe.map"
         },
         {
          "node": "-1226244419424519882",
          "rule": "metadsl_core.maybe.Maybe.map"
         },
         {
          "node": "5875154631775244781",
          "rule": "metadsl_core.maybe.maybe_match"
         },
         {
          "node": "-8706936158111304158",
          "rule": "metadsl_core.maybe.Maybe.map"
         },
         {
          "node": "-4722032022278848585",
          "rule": "metadsl_core.maybe.maybe_match"
         },
         {
          "node": "-7949385190237942973",
          "rule": "metadsl_core.abstraction.Abstraction.from_fn"
         },
         {
          "node": "5978424380647594609",
          "rule": "metadsl_core.abstraction.Abstraction.from_fn"
         },
         {
          "node": "1403323746003076594",
          "rule": "metadsl_core.abstraction.compose"
         },
         {
          "node": "9027476497616514679",
          "rule": "metadsl_core.abstraction.compose"
         },
         {
          "node": "-1570927596096493122",
          "rule": "metadsl_core.abstraction.compose"
         },
         {
          "node": "4524026358657233733",
          "rule": "metadsl_core.abstraction.beta_reduce"
         },
         {
          "node": "-2808625198921579543",
          "rule": "metadsl_core.maybe.maybe_or"
         },
         {
          "node": "-4576363615409351389",
          "rule": "metadsl_core.abstraction.compose"
         },
         {
          "node": "852053475792198992",
          "rule": "metadsl_core.abstraction.beta_reduce"
         },
         {
          "node": "-7721165537378407931",
          "rule": "metadsl_core.numpy.add_compat"
         },
         {
          "node": "-7821833117464458399",
          "rule": "metadsl_core.numpy.convert_to_ndarray"
         },
         {
          "node": "-8048521251642777674",
          "rule": "metadsl_core.maybe.maybe_and"
         },
         {
          "node": "-171289544696980323",
          "rule": "metadsl_core.maybe.maybe_match"
         },
         {
          "node": "-3534020860713457941",
          "rule": "metadsl_core.abstraction.beta_reduce"
         },
         {
          "node": "2819905678209689071",
          "rule": "metadsl_core.pair.pair_right"
         },
         {
          "node": "4656381298025305191",
          "rule": "metadsl_core.pair.pair_left"
         },
         {
          "label": "convert",
          "node": "4656381298025305191",
          "rule": ""
         },
         {
          "node": "6840043378572354318",
          "rule": "metadsl_core.numpy.box_unbox_ndarray_compat"
         },
         {
          "node": "2859349736757779398",
          "rule": "metadsl_core.numpy_engine.unbox_ndarray_getitem"
         },
         {
          "node": "-4983387308748893959",
          "rule": "metadsl_core.numpy_engine.unbox_idxs_rule"
         },
         {
          "node": "-1195031410244303026",
          "rule": "metadsl_core.numpy_engine.unbox_integer_rule"
         },
         {
          "node": "1434201859992440485",
          "rule": "metadsl_core.numpy_engine.unbox_ndarray_add"
         },
         {
          "node": "3014971897586217712",
          "rule": "metadsl_core.numpy_engine.unbox_arange"
         },
         {
          "node": "928581920219335661",
          "rule": "metadsl_core.numpy_engine.unbox_integer_rule"
         },
         {
          "label": "unbox",
          "node": "928581920219335661",
          "rule": ""
         },
         {
          "node": "-1641822556141388533",
          "rule": "metadsl_core.numpy_engine.arange"
         },
         {
          "node": "-7845411681977842001",
          "rule": "metadsl_core.numpy_engine.ndarray_add"
         },
         {
          "node": "-7310615337244077691",
          "rule": "metadsl_core.numpy_engine.ndarray_getitem"
         },
         {
          "label": "execute",
          "node": "-7310615337244077691",
          "rule": ""
         }
        ]
       }
      },
      "text/plain": [
       "Typez(definitions=None, nodes={'4713779054301633575': ['238', PrimitiveNode(type='int', repr='100')], '-1171015405917996262': ['7', CallNode(function='arange', type_params=None, args=['4713779054301633575'], kwargs=None)], '8829142351054292861': ['8', CallNode(function='NDArrayCompat.__add__', type_params=None, args=['-1171015405917996262', '-1171015405917996262'], kwargs=None)], '4713779054406638500': ['229', PrimitiveNode(type='int', repr='5')], '-6875959910507960501': ['4', CallNode(function='NDArrayCompat.__getitem__', type_params=None, args=['8829142351054292861', '4713779054406638500'], kwargs=None)], '-1236185272749818955': ['5', CallNode(function='NDArrayCompat.to_ndarray', type_params=None, args=['-6875959910507960501'], kwargs=None)], '3919409559600014478': ['9', CallNode(function='Converter.convert', type_params={'T': DeclaredTypeInstance(type='NDArray', params=None)}, args=['8829142351054292861'], kwargs=None)], '-9111838950886655366': ['11', CallNode(function='Converter.convert', type_params={'T': DeclaredTypeInstance(type='Either', params={'U': DeclaredTypeInstance(type='Vec', params={'T': DeclaredTypeInstance(type='Integer', params=None)}), 'T': DeclaredTypeInstance(type='Integer', params=None)})}, args=['4713779054406638500'], kwargs=None)], '3132569672370359433': ['12', CallNode(function='Maybe.__and__', type_params={'T': DeclaredTypeInstance(type='NDArray', params=None)}, args=['3919409559600014478', '-9111838950886655366'], kwargs=None)], '4714087453042149350': ['13', PrimitiveNode(type='function', repr='<function NDArrayCompat.__getitem__.<locals>.<lambda> at 0x10e57aae8>')], '-8723507973413733787': ['14', CallNode(function='Abstraction.from_fn', type_params={'U': DeclaredTypeInstance(type='NDArray', params=None), 'T': DeclaredTypeInstance(type='Pair', params={'U': DeclaredTypeInstance(type='Either', params={'U': DeclaredTypeInstance(type='Vec', params={'T': DeclaredTypeInstance(type='Integer', params=None)}), 'T': DeclaredTypeInstance(type='Integer', params=None)}), 'T': DeclaredTypeInstance(type='NDArray', params=None)})}, args=['4714087453042149350'], kwargs=None)], '6212831471787814824': ['15', CallNode(function='Maybe.map', type_params={'T': DeclaredTypeInstance(type='Pair', params={'U': DeclaredTypeInstance(type='Either', params={'U': DeclaredTypeInstance(type='Vec', params={'T': DeclaredTypeInstance(type='Integer', params=None)}), 'T': DeclaredTypeInstance(type='Integer', params=None)}), 'T': DeclaredTypeInstance(type='NDArray', params=None)})}, args=['3132569672370359433', '-8723507973413733787'], kwargs=None)], '8146053790685016161': ['4', CallNode(function='NDArrayCompat.from_ndarray', type_params=None, args=['6212831471787814824'], kwargs=None)], '4069482946785880220': ['5', CallNode(function='NDArrayCompat.to_ndarray', type_params=None, args=['8146053790685016161'], kwargs=None)], '-3043571545640663641': ['17', CallNode(function='Converter.convert', type_params={'T': DeclaredTypeInstance(type='Integer', params=None)}, args=['4713779054406638500'], kwargs=None)], '-7106220729099446889': ['18', PrimitiveNode(type='BoundInfer', repr='Either.left')], '-7374914931223919067': ['19', CallNode(function='Abstraction.from_fn', type_params=None, args=['-7106220729099446889'], kwargs=None)], '1626833711022383777': ['20', CallNode(function='Maybe.map', type_params={'T': DeclaredTypeInstance(type='Integer', params=None)}, args=['-3043571545640663641', '-7374914931223919067'], kwargs=None)], '-5383112508657625409': ['85', CallNode(function='Converter.convert', type_params={'T': DeclaredTypeInstance(type='Vec', params={'T': DeclaredTypeInstance(type='Integer', params=None)})}, args=['4713779054406638500'], kwargs=None)], '3897712537135950527': ['22', PrimitiveNode(type='BoundInfer', repr='Either.right')], '-6657176820575257679': ['23', CallNode(function='Abstraction.from_fn', type_params=None, args=['3897712537135950527'], kwargs=None)], '8128193661721879441': ['24', CallNode(function='Maybe.map', type_params={'T': DeclaredTypeInstance(type='Vec', params={'T': DeclaredTypeInstance(type='Integer', params=None)})}, args=['-5383112508657625409', '-6657176820575257679'], kwargs=None)], '9116537386611357020': ['11', CallNode(function='Maybe.__or__', type_params={'T': DeclaredTypeInstance(type='Either', params={'U': DeclaredTypeInstance(type='Vec', params={'T': DeclaredTypeInstance(type='Integer', params=None)}), 'T': DeclaredTypeInstance(type='Integer', params=None)})}, args=['1626833711022383777', '8128193661721879441'], kwargs=None)], '2985219241476842817': ['12', CallNode(function='Maybe.__and__', type_params={'T': DeclaredTypeInstance(type='NDArray', params=None)}, args=['3919409559600014478', '9116537386611357020'], kwargs=None)], '-7205697554281643856': ['15', CallNode(function='Maybe.map', type_params={'T': DeclaredTypeInstance(type='Pair', params={'U': DeclaredTypeInstance(type='Either', params={'U': DeclaredTypeInstance(type='Vec', params={'T': DeclaredTypeInstance(type='Integer', params=None)}), 'T': DeclaredTypeInstance(type='Integer', params=None)}), 'T': DeclaredTypeInstance(type='NDArray', params=None)})}, args=['2985219241476842817', '-8723507973413733787'], kwargs=None)], '-4004769151875798142': ['4', CallNode(function='NDArrayCompat.from_ndarray', type_params=None, args=['-7205697554281643856'], kwargs=None)], '-9072396050733471667': ['5', CallNode(function='NDArrayCompat.to_ndarray', type_params=None, args=['-4004769151875798142'], kwargs=None)], '830260340471481657': ['231', CallNode(function='Integer.from_int', type_params=None, args=['4713779054406638500'], kwargs=None)], '-4691553863178753990': ['96', CallNode(function='Maybe.just', type_params=None, args=['830260340471481657'], kwargs=None)], '8887545728875557935': ['20', CallNode(function='Maybe.map', type_params={'T': DeclaredTypeInstance(type='Integer', params=None)}, args=['-4691553863178753990', '-7374914931223919067'], kwargs=None)], '8707533822291393287': ['11', CallNode(function='Maybe.__or__', type_params={'T': DeclaredTypeInstance(type='Either', params={'U': DeclaredTypeInstance(type='Vec', params={'T': DeclaredTypeInstance(type='Integer', params=None)}), 'T': DeclaredTypeInstance(type='Integer', params=None)})}, args=['8887545728875557935', '8128193661721879441'], kwargs=None)], '-6750366847559074342': ['12', CallNode(function='Maybe.__and__', type_params={'T': DeclaredTypeInstance(type='NDArray', params=None)}, args=['3919409559600014478', '8707533822291393287'], kwargs=None)], '-7252658591790092862': ['15', CallNode(function='Maybe.map', type_params={'T': DeclaredTypeInstance(type='Pair', params={'U': DeclaredTypeInstance(type='Either', params={'U': DeclaredTypeInstance(type='Vec', params={'T': DeclaredTypeInstance(type='Integer', params=None)}), 'T': DeclaredTypeInstance(type='Integer', params=None)}), 'T': DeclaredTypeInstance(type='NDArray', params=None)})}, args=['-6750366847559074342', '-8723507973413733787'], kwargs=None)], '7425454814977964840': ['4', CallNode(function='NDArrayCompat.from_ndarray', type_params=None, args=['-7252658591790092862'], kwargs=None)], '5045112419611545487': ['5', CallNode(function='NDArrayCompat.to_ndarray', type_params=None, args=['7425454814977964840'], kwargs=None)], '8041717448431328708': ['28', CallNode(function='Converter.convert', type_params={'T': DeclaredTypeInstance(type='Integer', params=None)}, args=['4713779054301633575'], kwargs=None)], '-4386629807137239958': ['29', PrimitiveNode(type='Infer', repr='arange_')], '-4678502709838927428': ['30', CallNode(function='Abstraction.from_fn', type_params=None, args=['-4386629807137239958'], kwargs=None)], '-2952450362546799404': ['31', CallNode(function='Maybe.map', type_params={'T': DeclaredTypeInstance(type='Integer', params=None)}, args=['8041717448431328708', '-4678502709838927428'], kwargs=None)], '-7761567949085819156': ['7', CallNode(function='NDArrayCompat.from_ndarray', type_params=None, args=['-2952450362546799404'], kwargs=None)], '-1947520936561189353': ['8', CallNode(function='NDArrayCompat.__add__', type_params=None, args=['-7761567949085819156', '-7761567949085819156'], kwargs=None)], '421423557119156493': ['9', CallNode(function='Converter.convert', type_params={'T': DeclaredTypeInstance(type='NDArray', params=None)}, args=['-1947520936561189353'], kwargs=None)], '-4293313621705056232': ['12', CallNode(function='Maybe.__and__', type_params={'T': DeclaredTypeInstance(type='NDArray', params=None)}, args=['421423557119156493', '8707533822291393287'], kwargs=None)], '-7116074690267219855': ['15', CallNode(function='Maybe.map', type_params={'T': DeclaredTypeInstance(type='Pair', params={'U': DeclaredTypeInstance(type='Either', params={'U': DeclaredTypeInstance(type='Vec', params={'T': DeclaredTypeInstance(type='Integer', params=None)}), 'T': DeclaredTypeInstance(type='Integer', params=None)}), 'T': DeclaredTypeInstance(type='NDArray', params=None)})}, args=['-4293313621705056232', '-8723507973413733787'], kwargs=None)], '5694318604870746245': ['4', CallNode(function='NDArrayCompat.from_ndarray', type_params=None, args=['-7116074690267219855'], kwargs=None)], '-5042652985163262165': ['5', CallNode(function='NDArrayCompat.to_ndarray', type_params=None, args=['5694318604870746245'], kwargs=None)], '-4649256587560651910': ['237', CallNode(function='Integer.from_int', type_params=None, args=['4713779054301633575'], kwargs=None)], '-925967518873523857': ['116', CallNode(function='Maybe.just', type_params=None, args=['-4649256587560651910'], kwargs=None)], '6629873243390779564': ['31', CallNode(function='Maybe.map', type_params={'T': DeclaredTypeInstance(type='Integer', params=None)}, args=['-925967518873523857', '-4678502709838927428'], kwargs=None)], '-2588923867463876411': ['7', CallNode(function='NDArrayCompat.from_ndarray', type_params=None, args=['6629873243390779564'], kwargs=None)], '2957685491773201289': ['8', CallNode(function='NDArrayCompat.__add__', type_params=None, args=['-2588923867463876411', '-2588923867463876411'], kwargs=None)], '227340298487089036': ['9', CallNode(function='Converter.convert', type_params={'T': DeclaredTypeInstance(type='NDArray', params=None)}, args=['2957685491773201289'], kwargs=None)], '4151555116808070765': ['12', CallNode(function='Maybe.__and__', type_params={'T': DeclaredTypeInstance(type='NDArray', params=None)}, args=['227340298487089036', '8707533822291393287'], kwargs=None)], '4544908528171134212': ['15', CallNode(function='Maybe.map', type_params={'T': DeclaredTypeInstance(type='Pair', params={'U': DeclaredTypeInstance(type='Either', params={'U': DeclaredTypeInstance(type='Vec', params={'T': DeclaredTypeInstance(type='Integer', params=None)}), 'T': DeclaredTypeInstance(type='Integer', params=None)}), 'T': DeclaredTypeInstance(type='NDArray', params=None)})}, args=['4151555116808070765', '-8723507973413733787'], kwargs=None)], '4040343526533555898': ['4', CallNode(function='NDArrayCompat.from_ndarray', type_params=None, args=['4544908528171134212'], kwargs=None)], '9056086434933563743': ['5', CallNode(function='NDArrayCompat.to_ndarray', type_params=None, args=['4040343526533555898'], kwargs=None)], '241536899196887687': ['184', PrimitiveNode(type='Variable', repr='Variable(4616063912)')], '-6762249150202508394': ['185', CallNode(function='Abstraction.create_variable', type_params={'U': DeclaredTypeInstance(type='NDArray', params=None), 'T': DeclaredTypeInstance(type='Pair', params={'U': DeclaredTypeInstance(type='Either', params={'U': DeclaredTypeInstance(type='Vec', params={'T': DeclaredTypeInstance(type='Integer', params=None)}), 'T': DeclaredTypeInstance(type='Integer', params=None)}), 'T': DeclaredTypeInstance(type='NDArray', params=None)})}, args=['241536899196887687'], kwargs=None)], '-8874626673731672901': ['186', CallNode(function='Pair.left', type_params={'U': DeclaredTypeInstance(type='Either', params={'U': DeclaredTypeInstance(type='Vec', params={'T': DeclaredTypeInstance(type='Integer', params=None)}), 'T': DeclaredTypeInstance(type='Integer', params=None)}), 'T': DeclaredTypeInstance(type='NDArray', params=None)}, args=['-6762249150202508394'], kwargs=None)], '322370924408164163': ['187', CallNode(function='Pair.right', type_params={'U': DeclaredTypeInstance(type='Either', params={'U': DeclaredTypeInstance(type='Vec', params={'T': DeclaredTypeInstance(type='Integer', params=None)}), 'T': DeclaredTypeInstance(type='Integer', params=None)}), 'T': DeclaredTypeInstance(type='NDArray', params=None)}, args=['-6762249150202508394'], kwargs=None)], '-706219686719798650': ['188', CallNode(function='NDArray.__getitem__', type_params=None, args=['-8874626673731672901', '322370924408164163'], kwargs=None)], '-9222477849862511594': ['83', CallNode(function='Abstraction.create', type_params={'U': DeclaredTypeInstance(type='NDArray', params=None), 'T': DeclaredTypeInstance(type='Pair', params={'U': DeclaredTypeInstance(type='Either', params={'U': DeclaredTypeInstance(type='Vec', params={'T': DeclaredTypeInstance(type='Integer', params=None)}), 'T': DeclaredTypeInstance(type='Integer', params=None)}), 'T': DeclaredTypeInstance(type='NDArray', params=None)})}, args=['-6762249150202508394', '-706219686719798650'], kwargs=None)], '5879690070594276383': ['15', CallNode(function='Maybe.map', type_params={'T': DeclaredTypeInstance(type='Pair', params={'U': DeclaredTypeInstance(type='Either', params={'U': DeclaredTypeInstance(type='Vec', params={'T': DeclaredTypeInstance(type='Integer', params=None)}), 'T': DeclaredTypeInstance(type='Integer', params=None)}), 'T': DeclaredTypeInstance(type='NDArray', params=None)})}, args=['4151555116808070765', '-9222477849862511594'], kwargs=None)], '3514172097390762150': ['4', CallNode(function='NDArrayCompat.from_ndarray', type_params=None, args=['5879690070594276383'], kwargs=None)], '2227653887930316235': ['5', CallNode(function='NDArrayCompat.to_ndarray', type_params=None, args=['3514172097390762150'], kwargs=None)], '241536899989295987': ['146', PrimitiveNode(type='Variable', repr='Variable(4616051176)')], '-459872565733163655': ['147', CallNode(function='Abstraction.create_variable', type_params={'U': DeclaredTypeInstance(type='Either', params={'U': DeclaredTypeInstance(type='Vec', params={'T': DeclaredTypeInstance(type='Integer', params=None)}), 'T': DeclaredTypeInstance(type='Integer', params=None)}), 'T': DeclaredTypeInstance(type='Vec', params={'T': DeclaredTypeInstance(type='Integer', params=None)})}, args=['241536899989295987'], kwargs=None)], '-9101843677981858041': ['148', CallNode(function='Either.right', type_params={'U': DeclaredTypeInstance(type='Vec', params={'T': DeclaredTypeInstance(type='Integer', params=None)}), 'T': DeclaredTypeInstance(type='Integer', params=None)}, args=['-459872565733163655'], kwargs=None)], '-3927280897104385606': ['92', CallNode(function='Abstraction.create', type_params={'U': DeclaredTypeInstance(type='Either', params={'U': DeclaredTypeInstance(type='Vec', params={'T': DeclaredTypeInstance(type='Integer', params=None)}), 'T': DeclaredTypeInstance(type='Integer', params=None)}), 'T': DeclaredTypeInstance(type='Vec', params={'T': DeclaredTypeInstance(type='Integer', params=None)})}, args=['-459872565733163655', '-9101843677981858041'], kwargs=None)], '7700748547699628467': ['72', CallNode(function='Maybe.map', type_params={'T': DeclaredTypeInstance(type='Vec', params={'T': DeclaredTypeInstance(type='Integer', params=None)})}, args=['-5383112508657625409', '-3927280897104385606'], kwargs=None)], '-1868510103477116031': ['11', CallNode(function='Maybe.__or__', type_params={'T': DeclaredTypeInstance(type='Either', params={'U': DeclaredTypeInstance(type='Vec', params={'T': DeclaredTypeInstance(type='Integer', params=None)}), 'T': DeclaredTypeInstance(type='Integer', params=None)})}, args=['8887545728875557935', '7700748547699628467'], kwargs=None)], '-412155022069188176': ['12', CallNode(function='Maybe.__and__', type_params={'T': DeclaredTypeInstance(type='NDArray', params=None)}, args=['227340298487089036', '-1868510103477116031'], kwargs=None)], '6176427846022223037': ['15', CallNode(function='Maybe.map', type_params={'T': DeclaredTypeInstance(type='Pair', params={'U': DeclaredTypeInstance(type='Either', params={'U': DeclaredTypeInstance(type='Vec', params={'T': DeclaredTypeInstance(type='Integer', params=None)}), 'T': DeclaredTypeInstance(type='Integer', params=None)}), 'T': DeclaredTypeInstance(type='NDArray', params=None)})}, args=['-412155022069188176', '-9222477849862511594'], kwargs=None)], '-1485480610564825560': ['4', CallNode(function='NDArrayCompat.from_ndarray', type_params=None, args=['6176427846022223037'], kwargs=None)], '-6809483661468653664': ['5', CallNode(function='NDArrayCompat.to_ndarray', type_params=None, args=['-1485480610564825560'], kwargs=None)], '-8981835123956369196': ['150', PrimitiveNode(type='Variable', repr='Variable(4616250032)')], '6580513746738577931': ['151', CallNode(function='Abstraction.create_variable', type_params={'U': DeclaredTypeInstance(type='Either', params={'U': DeclaredTypeInstance(type='Vec', params={'T': DeclaredTypeInstance(type='Integer', params=None)}), 'T': DeclaredTypeInstance(type='Integer', params=None)}), 'T': DeclaredTypeInstance(type='Integer', params=None)}, args=['-8981835123956369196'], kwargs=None)], '-5011748501812788877': ['152', CallNode(function='Either.left', type_params={'U': DeclaredTypeInstance(type='Vec', params={'T': DeclaredTypeInstance(type='Integer', params=None)}), 'T': DeclaredTypeInstance(type='Integer', params=None)}, args=['6580513746738577931'], kwargs=None)], '-1133860184496103147': ['110', CallNode(function='Abstraction.create', type_params={'U': DeclaredTypeInstance(type='Either', params={'U': DeclaredTypeInstance(type='Vec', params={'T': DeclaredTypeInstance(type='Integer', params=None)}), 'T': DeclaredTypeInstance(type='Integer', params=None)}), 'T': DeclaredTypeInstance(type='Integer', params=None)}, args=['6580513746738577931', '-5011748501812788877'], kwargs=None)], '-3886223370301655202': ['66', CallNode(function='Maybe.map', type_params={'T': DeclaredTypeInstance(type='Integer', params=None)}, args=['-4691553863178753990', '-1133860184496103147'], kwargs=None)], '-970052755917494134': ['73', CallNode(function='Maybe.__or__', type_params={'T': DeclaredTypeInstance(type='Either', params={'U': DeclaredTypeInstance(type='Vec', params={'T': DeclaredTypeInstance(type='Integer', params=None)}), 'T': DeclaredTypeInstance(type='Integer', params=None)})}, args=['-3886223370301655202', '7700748547699628467'], kwargs=None)], '4513070205117154029': ['12', CallNode(function='Maybe.__and__', type_params={'T': DeclaredTypeInstance(type='NDArray', params=None)}, args=['227340298487089036', '-970052755917494134'], kwargs=None)], '-6210413135244319073': ['15', CallNode(function='Maybe.map', type_params={'T': DeclaredTypeInstance(type='Pair', params={'U': DeclaredTypeInstance(type='Either', params={'U': DeclaredTypeInstance(type='Vec', params={'T': DeclaredTypeInstance(type='Integer', params=None)}), 'T': DeclaredTypeInstance(type='Integer', params=None)}), 'T': DeclaredTypeInstance(type='NDArray', params=None)})}, args=['4513070205117154029', '-9222477849862511594'], kwargs=None)], '-1639516157675188686': ['4', CallNode(function='NDArrayCompat.from_ndarray', type_params=None, args=['-6210413135244319073'], kwargs=None)], '-9030259525573543998': ['5', CallNode(function='NDArrayCompat.to_ndarray', type_params=None, args=['-1639516157675188686'], kwargs=None)], '241536925356104312': ['160', PrimitiveNode(type='Variable', repr='Variable(4616196728)')], '-7650269798528673400': ['161', CallNode(function='Abstraction.create_variable', type_params={'U': DeclaredTypeInstance(type='NDArray', params=None), 'T': DeclaredTypeInstance(type='Integer', params=None)}, args=['241536925356104312'], kwargs=None)], '-1264365879207482647': ['162', CallNode(function='arange_', type_params=None, args=['-7650269798528673400'], kwargs=None)], '-5456441167283459873': ['130', CallNode(function='Abstraction.create', type_params={'U': DeclaredTypeInstance(type='NDArray', params=None), 'T': DeclaredTypeInstance(type='Integer', params=None)}, args=['-7650269798528673400', '-1264365879207482647'], kwargs=None)], '8831517339964525505': ['55', CallNode(function='Maybe.map', type_params={'T': DeclaredTypeInstance(type='Integer', params=None)}, args=['-925967518873523857', '-5456441167283459873'], kwargs=None)], '1393172020926098343': ['56', CallNode(function='NDArrayCompat.from_ndarray', type_params=None, args=['8831517339964525505'], kwargs=None)], '4442036384280654967': ['57', CallNode(function='NDArrayCompat.__add__', type_params=None, args=['1393172020926098343', '1393172020926098343'], kwargs=None)], '-8721888228340461738': ['58', CallNode(function='Converter.convert', type_params={'T': DeclaredTypeInstance(type='NDArray', params=None)}, args=['4442036384280654967'], kwargs=None)], '2478898151424922310': ['74', CallNode(function='Maybe.__and__', type_params={'T': DeclaredTypeInstance(type='NDArray', params=None)}, args=['-8721888228340461738', '-970052755917494134'], kwargs=None)], '1050473116636811806': ['15', CallNode(function='Maybe.map', type_params={'T': DeclaredTypeInstance(type='Pair', params={'U': DeclaredTypeInstance(type='Either', params={'U': DeclaredTypeInstance(type='Vec', params={'T': DeclaredTypeInstance(type='Integer', params=None)}), 'T': DeclaredTypeInstance(type='Integer', params=None)}), 'T': DeclaredTypeInstance(type='NDArray', params=None)})}, args=['2478898151424922310', '-9222477849862511594'], kwargs=None)], '975892888600101877': ['4', CallNode(function='NDArrayCompat.from_ndarray', type_params=None, args=['1050473116636811806'], kwargs=None)], '8653158334563317873': ['5', CallNode(function='NDArrayCompat.to_ndarray', type_params=None, args=['975892888600101877'], kwargs=None)], '7703360805233009766': ['117', CallNode(function='Maybe.nothing', type_params={'T': DeclaredTypeInstance(type='NDArray', params=None)}, args=None, kwargs=None)], '-8212135172233348146': ['125', PrimitiveNode(type='BoundInfer', repr='Maybe.just')], '-8943270035964787178': ['126', CallNode(function='Abstraction.from_fn', type_params=None, args=['-8212135172233348146'], kwargs=None)], '-7791812642259934983': ['84', CallNode(function='Abstraction.__add__', type_params={'U': DeclaredTypeInstance(type='Maybe', params={'T': DeclaredTypeInstance(type='NDArray', params=None)}), 'T': DeclaredTypeInstance(type='NDArray', params=None)}, args=['-8943270035964787178', '-9222477849862511594'], kwargs=None)], '6284847882622355692': ['15', CallNode(function='Maybe.match', type_params={'T': DeclaredTypeInstance(type='Pair', params={'U': DeclaredTypeInstance(type='Either', params={'U': DeclaredTypeInstance(type='Vec', params={'T': DeclaredTypeInstance(type='Integer', params=None)}), 'T': DeclaredTypeInstance(type='Integer', params=None)}), 'T': DeclaredTypeInstance(type='NDArray', params=None)})}, args=['2478898151424922310', '7703360805233009766', '-7791812642259934983'], kwargs=None)], '-88220872935477499': ['4', CallNode(function='NDArrayCompat.from_ndarray', type_params=None, args=['6284847882622355692'], kwargs=None)], '1365179762007056321': ['5', CallNode(function='NDArrayCompat.to_ndarray', type_params=None, args=['-88220872935477499'], kwargs=None)], '-4399158014625666932': ['97', CallNode(function='Maybe.nothing', type_params={'T': DeclaredTypeInstance(type='Either', params={'U': DeclaredTypeInstance(type='Vec', params={'T': DeclaredTypeInstance(type='Integer', params=None)}), 'T': DeclaredTypeInstance(type='Integer', params=None)})}, args=None, kwargs=None)], '2814644451134350872': ['105', PrimitiveNode(type='BoundInfer', repr='Maybe.just')], '197716354574705964': ['106', CallNode(function='Abstraction.from_fn', type_params=None, args=['2814644451134350872'], kwargs=None)], '6126782805591463740': ['93', CallNode(function='Abstraction.__add__', type_params={'U': DeclaredTypeInstance(type='Maybe', params={'T': DeclaredTypeInstance(type='Either', params={'U': DeclaredTypeInstance(type='Vec', params={'T': DeclaredTypeInstance(type='Integer', params=None)}), 'T': DeclaredTypeInstance(type='Integer', params=None)})}), 'T': DeclaredTypeInstance(type='Either', params={'U': DeclaredTypeInstance(type='Vec', params={'T': DeclaredTypeInstance(type='Integer', params=None)}), 'T': DeclaredTypeInstance(type='Integer', params=None)})}, args=['197716354574705964', '-3927280897104385606'], kwargs=None)], '5475126958832205357': ['72', CallNode(function='Maybe.match', type_params={'T': DeclaredTypeInstance(type='Vec', params={'T': DeclaredTypeInstance(type='Integer', params=None)})}, args=['-5383112508657625409', '-4399158014625666932', '6126782805591463740'], kwargs=None)], '-5537650783464414311': ['73', CallNode(function='Maybe.__or__', type_params={'T': DeclaredTypeInstance(type='Either', params={'U': DeclaredTypeInstance(type='Vec', params={'T': DeclaredTypeInstance(type='Integer', params=None)}), 'T': DeclaredTypeInstance(type='Integer', params=None)})}, args=['-3886223370301655202', '5475126958832205357'], kwargs=None)], '-606612188070956947': ['74', CallNode(function='Maybe.__and__', type_params={'T': DeclaredTypeInstance(type='NDArray', params=None)}, args=['-8721888228340461738', '-5537650783464414311'], kwargs=None)], '1043207804160330670': ['15', CallNode(function='Maybe.match', type_params={'T': DeclaredTypeInstance(type='Pair', params={'U': DeclaredTypeInstance(type='Either', params={'U': DeclaredTypeInstance(type='Vec', params={'T': DeclaredTypeInstance(type='Integer', params=None)}), 'T': DeclaredTypeInstance(type='Integer', params=None)}), 'T': DeclaredTypeInstance(type='NDArray', params=None)})}, args=['-606612188070956947', '7703360805233009766', '-7791812642259934983'], kwargs=None)], '1109913550682159045': ['4', CallNode(function='NDArrayCompat.from_ndarray', type_params=None, args=['1043207804160330670'], kwargs=None)], '-2093676223453393791': ['5', CallNode(function='NDArrayCompat.to_ndarray', type_params=None, args=['1109913550682159045'], kwargs=None)], '7681648102964627768': ['111', CallNode(function='Abstraction.__add__', type_params={'U': DeclaredTypeInstance(type='Maybe', params={'T': DeclaredTypeInstance(type='Either', params={'U': DeclaredTypeInstance(type='Vec', params={'T': DeclaredTypeInstance(type='Integer', params=None)}), 'T': DeclaredTypeInstance(type='Integer', params=None)})}), 'T': DeclaredTypeInstance(type='Either', params={'U': DeclaredTypeInstance(type='Vec', params={'T': DeclaredTypeInstance(type='Integer', params=None)}), 'T': DeclaredTypeInstance(type='Integer', params=None)})}, args=['197716354574705964', '-1133860184496103147'], kwargs=None)], '-2048361728572416071': ['66', CallNode(function='Maybe.match', type_params={'T': DeclaredTypeInstance(type='Integer', params=None)}, args=['-4691553863178753990', '-4399158014625666932', '7681648102964627768'], kwargs=None)], '8647773478750256749': ['73', CallNode(function='Maybe.__or__', type_params={'T': DeclaredTypeInstance(type='Either', params={'U': DeclaredTypeInstance(type='Vec', params={'T': DeclaredTypeInstance(type='Integer', params=None)}), 'T': DeclaredTypeInstance(type='Integer', params=None)})}, args=['-2048361728572416071', '5475126958832205357'], kwargs=None)], '4689896428828105860': ['74', CallNode(function='Maybe.__and__', type_params={'T': DeclaredTypeInstance(type='NDArray', params=None)}, args=['-8721888228340461738', '8647773478750256749'], kwargs=None)], '-612715626196114593': ['15', CallNode(function='Maybe.match', type_params={'T': DeclaredTypeInstance(type='Pair', params={'U': DeclaredTypeInstance(type='Either', params={'U': DeclaredTypeInstance(type='Vec', params={'T': DeclaredTypeInstance(type='Integer', params=None)}), 'T': DeclaredTypeInstance(type='Integer', params=None)}), 'T': DeclaredTypeInstance(type='NDArray', params=None)})}, args=['4689896428828105860', '7703360805233009766', '-7791812642259934983'], kwargs=None)], '-6660972535155741688': ['4', CallNode(function='NDArrayCompat.from_ndarray', type_params=None, args=['-612715626196114593'], kwargs=None)], '-1226244419424519882': ['5', CallNode(function='NDArrayCompat.to_ndarray', type_params=None, args=['-6660972535155741688'], kwargs=None)], '-791134029424807692': ['66', CallNode(function='Abstraction.__call__', type_params={'U': DeclaredTypeInstance(type='Maybe', params={'T': DeclaredTypeInstance(type='Either', params={'U': DeclaredTypeInstance(type='Vec', params={'T': DeclaredTypeInstance(type='Integer', params=None)}), 'T': DeclaredTypeInstance(type='Integer', params=None)})}), 'T': DeclaredTypeInstance(type='Integer', params=None)}, args=['7681648102964627768', '830260340471481657'], kwargs=None)], '-6954294932558197824': ['73', CallNode(function='Maybe.__or__', type_params={'T': DeclaredTypeInstance(type='Either', params={'U': DeclaredTypeInstance(type='Vec', params={'T': DeclaredTypeInstance(type='Integer', params=None)}), 'T': DeclaredTypeInstance(type='Integer', params=None)})}, args=['-791134029424807692', '5475126958832205357'], kwargs=None)], '6567116874629747051': ['74', CallNode(function='Maybe.__and__', type_params={'T': DeclaredTypeInstance(type='NDArray', params=None)}, args=['-8721888228340461738', '-6954294932558197824'], kwargs=None)], '6010434435264637102': ['15', CallNode(function='Maybe.match', type_params={'T': DeclaredTypeInstance(type='Pair', params={'U': DeclaredTypeInstance(type='Either', params={'U': DeclaredTypeInstance(type='Vec', params={'T': DeclaredTypeInstance(type='Integer', params=None)}), 'T': DeclaredTypeInstance(type='Integer', params=None)}), 'T': DeclaredTypeInstance(type='NDArray', params=None)})}, args=['6567116874629747051', '7703360805233009766', '-7791812642259934983'], kwargs=None)], '-6861537960860662109': ['4', CallNode(function='NDArrayCompat.from_ndarray', type_params=None, args=['6010434435264637102'], kwargs=None)], '5875154631775244781': ['5', CallNode(function='NDArrayCompat.to_ndarray', type_params=None, args=['-6861537960860662109'], kwargs=None)], '5203738075998686267': ['131', CallNode(function='Abstraction.__add__', type_params={'U': DeclaredTypeInstance(type='Maybe', params={'T': DeclaredTypeInstance(type='NDArray', params=None)}), 'T': DeclaredTypeInstance(type='NDArray', params=None)}, args=['-8943270035964787178', '-5456441167283459873'], kwargs=None)], '-7421760411677767972': ['55', CallNode(function='Maybe.match', type_params={'T': DeclaredTypeInstance(type='Integer', params=None)}, args=['-925967518873523857', '7703360805233009766', '5203738075998686267'], kwargs=None)], '-8931351415606208578': ['56', CallNode(function='NDArrayCompat.from_ndarray', type_params=None, args=['-7421760411677767972'], kwargs=None)], '114771418907392399': ['57', CallNode(function='NDArrayCompat.__add__', type_params=None, args=['-8931351415606208578', '-8931351415606208578'], kwargs=None)], '7810521326880312373': ['58', CallNode(function='Converter.convert', type_params={'T': DeclaredTypeInstance(type='NDArray', params=None)}, args=['114771418907392399'], kwargs=None)], '-1446409769056872944': ['74', CallNode(function='Maybe.__and__', type_params={'T': DeclaredTypeInstance(type='NDArray', params=None)}, args=['7810521326880312373', '-6954294932558197824'], kwargs=None)], '-5636537995636147363': ['15', CallNode(function='Maybe.match', type_params={'T': DeclaredTypeInstance(type='Pair', params={'U': DeclaredTypeInstance(type='Either', params={'U': DeclaredTypeInstance(type='Vec', params={'T': DeclaredTypeInstance(type='Integer', params=None)}), 'T': DeclaredTypeInstance(type='Integer', params=None)}), 'T': DeclaredTypeInstance(type='NDArray', params=None)})}, args=['-1446409769056872944', '7703360805233009766', '-7791812642259934983'], kwargs=None)], '-5160916249838851820': ['4', CallNode(function='NDArrayCompat.from_ndarray', type_params=None, args=['-5636537995636147363'], kwargs=None)], '-8706936158111304158': ['5', CallNode(function='NDArrayCompat.to_ndarray', type_params=None, args=['-5160916249838851820'], kwargs=None)], '-4656485107301337193': ['55', CallNode(function='Abstraction.__call__', type_params={'U': DeclaredTypeInstance(type='Maybe', params={'T': DeclaredTypeInstance(type='NDArray', params=None)}), 'T': DeclaredTypeInstance(type='Integer', params=None)}, args=['5203738075998686267', '-4649256587560651910'], kwargs=None)], '-5381009813015004470': ['56', CallNode(function='NDArrayCompat.from_ndarray', type_params=None, args=['-4656485107301337193'], kwargs=None)], '8595137882391921009': ['57', CallNode(function='NDArrayCompat.__add__', type_params=None, args=['-5381009813015004470', '-5381009813015004470'], kwargs=None)], '-4837098956722179430': ['58', CallNode(function='Converter.convert', type_params={'T': DeclaredTypeInstance(type='NDArray', params=None)}, args=['8595137882391921009'], kwargs=None)], '-3059003609621892112': ['74', CallNode(function='Maybe.__and__', type_params={'T': DeclaredTypeInstance(type='NDArray', params=None)}, args=['-4837098956722179430', '-6954294932558197824'], kwargs=None)], '8612961563959571492': ['15', CallNode(function='Maybe.match', type_params={'T': DeclaredTypeInstance(type='Pair', params={'U': DeclaredTypeInstance(type='Either', params={'U': DeclaredTypeInstance(type='Vec', params={'T': DeclaredTypeInstance(type='Integer', params=None)}), 'T': DeclaredTypeInstance(type='Integer', params=None)}), 'T': DeclaredTypeInstance(type='NDArray', params=None)})}, args=['-3059003609621892112', '7703360805233009766', '-7791812642259934983'], kwargs=None)], '8254821168175456432': ['4', CallNode(function='NDArrayCompat.from_ndarray', type_params=None, args=['8612961563959571492'], kwargs=None)], '-4722032022278848585': ['5', CallNode(function='NDArrayCompat.to_ndarray', type_params=None, args=['8254821168175456432'], kwargs=None)], '-8981835124065704221': ['134', PrimitiveNode(type='Variable', repr='Variable(4616250592)')], '-3076705678831638861': ['135', CallNode(function='Abstraction.create_variable', type_params={'U': DeclaredTypeInstance(type='Maybe', params={'T': DeclaredTypeInstance(type='Either', params={'U': DeclaredTypeInstance(type='Vec', params={'T': DeclaredTypeInstance(type='Integer', params=None)}), 'T': DeclaredTypeInstance(type='Integer', params=None)})}), 'T': DeclaredTypeInstance(type='Either', params={'U': DeclaredTypeInstance(type='Vec', params={'T': DeclaredTypeInstance(type='Integer', params=None)}), 'T': DeclaredTypeInstance(type='Integer', params=None)})}, args=['-8981835124065704221'], kwargs=None)], '-5705581638090886381': ['136', CallNode(function='Maybe.just', type_params={'T': DeclaredTypeInstance(type='Either', params={'U': DeclaredTypeInstance(type='Vec', params={'T': DeclaredTypeInstance(type='Integer', params=None)}), 'T': DeclaredTypeInstance(type='Integer', params=None)})}, args=['-3076705678831638861'], kwargs=None)], '3957684190253798215': ['106', CallNode(function='Abstraction.create', type_params={'U': DeclaredTypeInstance(type='Maybe', params={'T': DeclaredTypeInstance(type='Either', params={'U': DeclaredTypeInstance(type='Vec', params={'T': DeclaredTypeInstance(type='Integer', params=None)}), 'T': DeclaredTypeInstance(type='Integer', params=None)})}), 'T': DeclaredTypeInstance(type='Either', params={'U': DeclaredTypeInstance(type='Vec', params={'T': DeclaredTypeInstance(type='Integer', params=None)}), 'T': DeclaredTypeInstance(type='Integer', params=None)})}, args=['-3076705678831638861', '-5705581638090886381'], kwargs=None)], '-2284210884664661892': ['111', CallNode(function='Abstraction.__add__', type_params={'U': DeclaredTypeInstance(type='Maybe', params={'T': DeclaredTypeInstance(type='Either', params={'U': DeclaredTypeInstance(type='Vec', params={'T': DeclaredTypeInstance(type='Integer', params=None)}), 'T': DeclaredTypeInstance(type='Integer', params=None)})}), 'T': DeclaredTypeInstance(type='Either', params={'U': DeclaredTypeInstance(type='Vec', params={'T': DeclaredTypeInstance(type='Integer', params=None)}), 'T': DeclaredTypeInstance(type='Integer', params=None)})}, args=['3957684190253798215', '-1133860184496103147'], kwargs=None)], '-6279853426262893661': ['66', CallNode(function='Abstraction.__call__', type_params={'U': DeclaredTypeInstance(type='Maybe', params={'T': DeclaredTypeInstance(type='Either', params={'U': DeclaredTypeInstance(type='Vec', params={'T': DeclaredTypeInstance(type='Integer', params=None)}), 'T': DeclaredTypeInstance(type='Integer', params=None)})}), 'T': DeclaredTypeInstance(type='Integer', params=None)}, args=['-2284210884664661892', '830260340471481657'], kwargs=None)], '9443434051561848': ['93', CallNode(function='Abstraction.__add__', type_params={'U': DeclaredTypeInstance(type='Maybe', params={'T': DeclaredTypeInstance(type='Either', params={'U': DeclaredTypeInstance(type='Vec', params={'T': DeclaredTypeInstance(type='Integer', params=None)}), 'T': DeclaredTypeInstance(type='Integer', params=None)})}), 'T': DeclaredTypeInstance(type='Either', params={'U': DeclaredTypeInstance(type='Vec', params={'T': DeclaredTypeInstance(type='Integer', params=None)}), 'T': DeclaredTypeInstance(type='Integer', params=None)})}, args=['3957684190253798215', '-3927280897104385606'], kwargs=None)], '4135595739424953295': ['72', CallNode(function='Maybe.match', type_params={'T': DeclaredTypeInstance(type='Vec', params={'T': DeclaredTypeInstance(type='Integer', params=None)})}, args=['-5383112508657625409', '-4399158014625666932', '9443434051561848'], kwargs=None)], '949262314933408240': ['73', CallNode(function='Maybe.__or__', type_params={'T': DeclaredTypeInstance(type='Either', params={'U': DeclaredTypeInstance(type='Vec', params={'T': DeclaredTypeInstance(type='Integer', params=None)}), 'T': DeclaredTypeInstance(type='Integer', params=None)})}, args=['-6279853426262893661', '4135595739424953295'], kwargs=None)], '1843070839768583759': ['74', CallNode(function='Maybe.__and__', type_params={'T': DeclaredTypeInstance(type='NDArray', params=None)}, args=['-4837098956722179430', '949262314933408240'], kwargs=None)], '6268562675277366084': ['15', CallNode(function='Maybe.match', type_params={'T': DeclaredTypeInstance(type='Pair', params={'U': DeclaredTypeInstance(type='Either', params={'U': DeclaredTypeInstance(type='Vec', params={'T': DeclaredTypeInstance(type='Integer', params=None)}), 'T': DeclaredTypeInstance(type='Integer', params=None)}), 'T': DeclaredTypeInstance(type='NDArray', params=None)})}, args=['1843070839768583759', '7703360805233009766', '-7791812642259934983'], kwargs=None)], '6284844460690215997': ['4', CallNode(function='NDArrayCompat.from_ndarray', type_params=None, args=['6268562675277366084'], kwargs=None)], '-7949385190237942973': ['5', CallNode(function='NDArrayCompat.to_ndarray', type_params=None, args=['6284844460690215997'], kwargs=None)], '241536669915927637': ['137', PrimitiveNode(type='Variable', repr='Variable(4615781960)')], '-14163576326426698': ['138', CallNode(function='Abstraction.create_variable', type_params={'U': DeclaredTypeInstance(type='Maybe', params={'T': DeclaredTypeInstance(type='NDArray', params=None)}), 'T': DeclaredTypeInstance(type='NDArray', params=None)}, args=['241536669915927637'], kwargs=None)], '-2279058575913373087': ['139', CallNode(function='Maybe.just', type_params={'T': DeclaredTypeInstance(type='NDArray', params=None)}, args=['-14163576326426698'], kwargs=None)], '7225842552315936519': ['126', CallNode(function='Abstraction.create', type_params={'U': DeclaredTypeInstance(type='Maybe', params={'T': DeclaredTypeInstance(type='NDArray', params=None)}), 'T': DeclaredTypeInstance(type='NDArray', params=None)}, args=['-14163576326426698', '-2279058575913373087'], kwargs=None)], '4887483440460737366': ['131', CallNode(function='Abstraction.__add__', type_params={'U': DeclaredTypeInstance(type='Maybe', params={'T': DeclaredTypeInstance(type='NDArray', params=None)}), 'T': DeclaredTypeInstance(type='NDArray', params=None)}, args=['7225842552315936519', '-5456441167283459873'], kwargs=None)], '7658783846362775586': ['55', CallNode(function='Abstraction.__call__', type_params={'U': DeclaredTypeInstance(type='Maybe', params={'T': DeclaredTypeInstance(type='NDArray', params=None)}), 'T': DeclaredTypeInstance(type='Integer', params=None)}, args=['4887483440460737366', '-4649256587560651910'], kwargs=None)], '4431009652336780698': ['56', CallNode(function='NDArrayCompat.from_ndarray', type_params=None, args=['7658783846362775586'], kwargs=None)], '5069351955114271951': ['57', CallNode(function='NDArrayCompat.__add__', type_params=None, args=['4431009652336780698', '4431009652336780698'], kwargs=None)], '3897123678533522251': ['58', CallNode(function='Converter.convert', type_params={'T': DeclaredTypeInstance(type='NDArray', params=None)}, args=['5069351955114271951'], kwargs=None)], '-5290454861014231493': ['74', CallNode(function='Maybe.__and__', type_params={'T': DeclaredTypeInstance(type='NDArray', params=None)}, args=['3897123678533522251', '949262314933408240'], kwargs=None)], '-8304117045483117992': ['84', CallNode(function='Abstraction.__add__', type_params={'U': DeclaredTypeInstance(type='Maybe', params={'T': DeclaredTypeInstance(type='NDArray', params=None)}), 'T': DeclaredTypeInstance(type='NDArray', params=None)}, args=['7225842552315936519', '-9222477849862511594'], kwargs=None)], '-8977017707412637737': ['15', CallNode(function='Maybe.match', type_params={'T': DeclaredTypeInstance(type='Pair', params={'U': DeclaredTypeInstance(type='Either', params={'U': DeclaredTypeInstance(type='Vec', params={'T': DeclaredTypeInstance(type='Integer', params=None)}), 'T': DeclaredTypeInstance(type='Integer', params=None)}), 'T': DeclaredTypeInstance(type='NDArray', params=None)})}, args=['-5290454861014231493', '7703360805233009766', '-8304117045483117992'], kwargs=None)], '-6048537999571285513': ['4', CallNode(function='NDArrayCompat.from_ndarray', type_params=None, args=['-8977017707412637737'], kwargs=None)], '5978424380647594609': ['5', CallNode(function='NDArrayCompat.to_ndarray', type_params=None, args=['-6048537999571285513'], kwargs=None)], '-8684765597286566063': ['189', CallNode(function='Maybe.just', type_params={'T': DeclaredTypeInstance(type='NDArray', params=None)}, args=['-706219686719798650'], kwargs=None)], '328146108265967914': ['190', CallNode(function='Abstraction.create', type_params=None, args=['-6762249150202508394', '-8684765597286566063'], kwargs=None)], '-1121424766808586802': ['15', CallNode(function='Maybe.match', type_params={'T': DeclaredTypeInstance(type='Pair', params={'U': DeclaredTypeInstance(type='Either', params={'U': DeclaredTypeInstance(type='Vec', params={'T': DeclaredTypeInstance(type='Integer', params=None)}), 'T': DeclaredTypeInstance(type='Integer', params=None)}), 'T': DeclaredTypeInstance(type='NDArray', params=None)})}, args=['-5290454861014231493', '7703360805233009766', '328146108265967914'], kwargs=None)], '-7953753424042025307': ['4', CallNode(function='NDArrayCompat.from_ndarray', type_params=None, args=['-1121424766808586802'], kwargs=None)], '1403323746003076594': ['5', CallNode(function='NDArrayCompat.to_ndarray', type_params=None, args=['-7953753424042025307'], kwargs=None)], '-1727297813002203651': ['149', CallNode(function='Maybe.just', type_params={'T': DeclaredTypeInstance(type='Either', params={'U': DeclaredTypeInstance(type='Vec', params={'T': DeclaredTypeInstance(type='Integer', params=None)}), 'T': DeclaredTypeInstance(type='Integer', params=None)})}, args=['-9101843677981858041'], kwargs=None)], '1179303444842926110': ['93', CallNode(function='Abstraction.create', type_params=None, args=['-459872565733163655', '-1727297813002203651'], kwargs=None)], '3319423168701717901': ['72', CallNode(function='Maybe.match', type_params={'T': DeclaredTypeInstance(type='Vec', params={'T': DeclaredTypeInstance(type='Integer', params=None)})}, args=['-5383112508657625409', '-4399158014625666932', '1179303444842926110'], kwargs=None)], '5592135609167733886': ['73', CallNode(function='Maybe.__or__', type_params={'T': DeclaredTypeInstance(type='Either', params={'U': DeclaredTypeInstance(type='Vec', params={'T': DeclaredTypeInstance(type='Integer', params=None)}), 'T': DeclaredTypeInstance(type='Integer', params=None)})}, args=['-6279853426262893661', '3319423168701717901'], kwargs=None)], '6621285170742431179': ['74', CallNode(function='Maybe.__and__', type_params={'T': DeclaredTypeInstance(type='NDArray', params=None)}, args=['3897123678533522251', '5592135609167733886'], kwargs=None)], '-7489487886736994582': ['15', CallNode(function='Maybe.match', type_params={'T': DeclaredTypeInstance(type='Pair', params={'U': DeclaredTypeInstance(type='Either', params={'U': DeclaredTypeInstance(type='Vec', params={'T': DeclaredTypeInstance(type='Integer', params=None)}), 'T': DeclaredTypeInstance(type='Integer', params=None)}), 'T': DeclaredTypeInstance(type='NDArray', params=None)})}, args=['6621285170742431179', '7703360805233009766', '328146108265967914'], kwargs=None)], '9182244901407255408': ['4', CallNode(function='NDArrayCompat.from_ndarray', type_params=None, args=['-7489487886736994582'], kwargs=None)], '9027476497616514679': ['5', CallNode(function='NDArrayCompat.to_ndarray', type_params=None, args=['9182244901407255408'], kwargs=None)], '2166941572612414396': ['153', CallNode(function='Maybe.just', type_params={'T': DeclaredTypeInstance(type='Either', params={'U': DeclaredTypeInstance(type='Vec', params={'T': DeclaredTypeInstance(type='Integer', params=None)}), 'T': DeclaredTypeInstance(type='Integer', params=None)})}, args=['-5011748501812788877'], kwargs=None)], '8656979090600839637': ['111', CallNode(function='Abstraction.create', type_params=None, args=['6580513746738577931', '2166941572612414396'], kwargs=None)], '2177193516735440439': ['66', CallNode(function='Abstraction.__call__', type_params={'U': DeclaredTypeInstance(type='Maybe', params={'T': DeclaredTypeInstance(type='Either', params={'U': DeclaredTypeInstance(type='Vec', params={'T': DeclaredTypeInstance(type='Integer', params=None)}), 'T': DeclaredTypeInstance(type='Integer', params=None)})}), 'T': DeclaredTypeInstance(type='Integer', params=None)}, args=['8656979090600839637', '830260340471481657'], kwargs=None)], '-2624998746460954568': ['73', CallNode(function='Maybe.__or__', type_params={'T': DeclaredTypeInstance(type='Either', params={'U': DeclaredTypeInstance(type='Vec', params={'T': DeclaredTypeInstance(type='Integer', params=None)}), 'T': DeclaredTypeInstance(type='Integer', params=None)})}, args=['2177193516735440439', '3319423168701717901'], kwargs=None)], '-7499149312937984922': ['74', CallNode(function='Maybe.__and__', type_params={'T': DeclaredTypeInstance(type='NDArray', params=None)}, args=['3897123678533522251', '-2624998746460954568'], kwargs=None)], '7710861873613564644': ['15', CallNode(function='Maybe.match', type_params={'T': DeclaredTypeInstance(type='Pair', params={'U': DeclaredTypeInstance(type='Either', params={'U': DeclaredTypeInstance(type='Vec', params={'T': DeclaredTypeInstance(type='Integer', params=None)}), 'T': DeclaredTypeInstance(type='Integer', params=None)}), 'T': DeclaredTypeInstance(type='NDArray', params=None)})}, args=['-7499149312937984922', '7703360805233009766', '328146108265967914'], kwargs=None)], '-5079392075962929296': ['4', CallNode(function='NDArrayCompat.from_ndarray', type_params=None, args=['7710861873613564644'], kwargs=None)], '-1570927596096493122': ['5', CallNode(function='NDArrayCompat.to_ndarray', type_params=None, args=['-5079392075962929296'], kwargs=None)], '-1208112746975233409': ['228', CallNode(function='Either.left', type_params={'U': DeclaredTypeInstance(type='Vec', params={'T': DeclaredTypeInstance(type='Integer', params=None)}), 'T': DeclaredTypeInstance(type='Integer', params=None)}, args=['830260340471481657'], kwargs=None)], '2251776250973385170': ['66', CallNode(function='Maybe.just', type_params={'T': DeclaredTypeInstance(type='Either', params={'U': DeclaredTypeInstance(type='Vec', params={'T': DeclaredTypeInstance(type='Integer', params=None)}), 'T': DeclaredTypeInstance(type='Integer', params=None)})}, args=['-1208112746975233409'], kwargs=None)], '8614516942818095593': ['73', CallNode(function='Maybe.__or__', type_params={'T': DeclaredTypeInstance(type='Either', params={'U': DeclaredTypeInstance(type='Vec', params={'T': DeclaredTypeInstance(type='Integer', params=None)}), 'T': DeclaredTypeInstance(type='Integer', params=None)})}, args=['2251776250973385170', '3319423168701717901'], kwargs=None)], '5633604116788465327': ['74', CallNode(function='Maybe.__and__', type_params={'T': DeclaredTypeInstance(type='NDArray', params=None)}, args=['3897123678533522251', '8614516942818095593'], kwargs=None)], '-2740756179745539546': ['15', CallNode(function='Maybe.match', type_params={'T': DeclaredTypeInstance(type='Pair', params={'U': DeclaredTypeInstance(type='Either', params={'U': DeclaredTypeInstance(type='Vec', params={'T': DeclaredTypeInstance(type='Integer', params=None)}), 'T': DeclaredTypeInstance(type='Integer', params=None)}), 'T': DeclaredTypeInstance(type='NDArray', params=None)})}, args=['5633604116788465327', '7703360805233009766', '328146108265967914'], kwargs=None)], '-4003988947645163622': ['4', CallNode(function='NDArrayCompat.from_ndarray', type_params=None, args=['-2740756179745539546'], kwargs=None)], '4524026358657233733': ['5', CallNode(function='NDArrayCompat.to_ndarray', type_params=None, args=['-4003988947645163622'], kwargs=None)], '-71907873773769076': ['73', CallNode(function='Maybe.just', type_params=None, args=['-1208112746975233409'], kwargs=None)], '-7786605125500285553': ['74', CallNode(function='Maybe.__and__', type_params={'T': DeclaredTypeInstance(type='NDArray', params=None)}, args=['3897123678533522251', '-71907873773769076'], kwargs=None)], '597131456458022485': ['15', CallNode(function='Maybe.match', type_params={'T': DeclaredTypeInstance(type='Pair', params={'U': DeclaredTypeInstance(type='Either', params={'U': DeclaredTypeInstance(type='Vec', params={'T': DeclaredTypeInstance(type='Integer', params=None)}), 'T': DeclaredTypeInstance(type='Integer', params=None)}), 'T': DeclaredTypeInstance(type='NDArray', params=None)})}, args=['-7786605125500285553', '7703360805233009766', '328146108265967914'], kwargs=None)], '7074757294550086794': ['4', CallNode(function='NDArrayCompat.from_ndarray', type_params=None, args=['597131456458022485'], kwargs=None)], '-2808625198921579543': ['5', CallNode(function='NDArrayCompat.to_ndarray', type_params=None, args=['7074757294550086794'], kwargs=None)], '5594458272100650178': ['163', CallNode(function='Maybe.just', type_params={'T': DeclaredTypeInstance(type='NDArray', params=None)}, args=['-1264365879207482647'], kwargs=None)], '-4491616023720753659': ['131', CallNode(function='Abstraction.create', type_params=None, args=['-7650269798528673400', '5594458272100650178'], kwargs=None)], '4647314485928461918': ['55', CallNode(function='Abstraction.__call__', type_params={'U': DeclaredTypeInstance(type='Maybe', params={'T': DeclaredTypeInstance(type='NDArray', params=None)}), 'T': DeclaredTypeInstance(type='Integer', params=None)}, args=['-4491616023720753659', '-4649256587560651910'], kwargs=None)], '-4615928099284195053': ['56', CallNode(function='NDArrayCompat.from_ndarray', type_params=None, args=['4647314485928461918'], kwargs=None)], '7686823280636726663': ['57', CallNode(function='NDArrayCompat.__add__', type_params=None, args=['-4615928099284195053', '-4615928099284195053'], kwargs=None)], '-3471210208538494580': ['58', CallNode(function='Converter.convert', type_params={'T': DeclaredTypeInstance(type='NDArray', params=None)}, args=['7686823280636726663'], kwargs=None)], '7040831592560195480': ['74', CallNode(function='Maybe.__and__', type_params={'T': DeclaredTypeInstance(type='NDArray', params=None)}, args=['-3471210208538494580', '-71907873773769076'], kwargs=None)], '-313884118944504356': ['15', CallNode(function='Maybe.match', type_params={'T': DeclaredTypeInstance(type='Pair', params={'U': DeclaredTypeInstance(type='Either', params={'U': DeclaredTypeInstance(type='Vec', params={'T': DeclaredTypeInstance(type='Integer', params=None)}), 'T': DeclaredTypeInstance(type='Integer', params=None)}), 'T': DeclaredTypeInstance(type='NDArray', params=None)})}, args=['7040831592560195480', '7703360805233009766', '328146108265967914'], kwargs=None)], '-1550060275566271585': ['4', CallNode(function='NDArrayCompat.from_ndarray', type_params=None, args=['-313884118944504356'], kwargs=None)], '-4576363615409351389': ['5', CallNode(function='NDArrayCompat.to_ndarray', type_params=None, args=['-1550060275566271585'], kwargs=None)], '9094274569454627144': ['234', CallNode(function='arange_', type_params=None, args=['-4649256587560651910'], kwargs=None)], '-9020732879549574696': ['55', CallNode(function='Maybe.just', type_params={'T': DeclaredTypeInstance(type='NDArray', params=None)}, args=['9094274569454627144'], kwargs=None)], '1033551087041947658': ['56', CallNode(function='NDArrayCompat.from_ndarray', type_params=None, args=['-9020732879549574696'], kwargs=None)], '620191938697360669': ['57', CallNode(function='NDArrayCompat.__add__', type_params=None, args=['1033551087041947658', '1033551087041947658'], kwargs=None)], '3011704564372108511': ['58', CallNode(function='Converter.convert', type_params={'T': DeclaredTypeInstance(type='NDArray', params=None)}, args=['620191938697360669'], kwargs=None)], '8546114497697302659': ['74', CallNode(function='Maybe.__and__', type_params={'T': DeclaredTypeInstance(type='NDArray', params=None)}, args=['3011704564372108511', '-71907873773769076'], kwargs=None)], '5119592682611502499': ['15', CallNode(function='Maybe.match', type_params={'T': DeclaredTypeInstance(type='Pair', params={'U': DeclaredTypeInstance(type='Either', params={'U': DeclaredTypeInstance(type='Vec', params={'T': DeclaredTypeInstance(type='Integer', params=None)}), 'T': DeclaredTypeInstance(type='Integer', params=None)}), 'T': DeclaredTypeInstance(type='NDArray', params=None)})}, args=['8546114497697302659', '7703360805233009766', '328146108265967914'], kwargs=None)], '-5635179714934842598': ['4', CallNode(function='NDArrayCompat.from_ndarray', type_params=None, args=['5119592682611502499'], kwargs=None)], '852053475792198992': ['5', CallNode(function='NDArrayCompat.to_ndarray', type_params=None, args=['-5635179714934842598'], kwargs=None)], '3015517905768064073': ['224', CallNode(function='NDArray.__add__', type_params=None, args=['9094274569454627144', '9094274569454627144'], kwargs=None)], '917422250035403493': ['58', CallNode(function='Maybe.just', type_params=None, args=['3015517905768064073'], kwargs=None)], '975327646540141658': ['57', CallNode(function='NDArrayCompat.from_ndarray', type_params=None, args=['917422250035403493'], kwargs=None)], '-3441594153459264420': ['58', CallNode(function='Converter.convert', type_params={'T': DeclaredTypeInstance(type='NDArray', params=None)}, args=['975327646540141658'], kwargs=None)], '-7064802824409813048': ['74', CallNode(function='Maybe.__and__', type_params={'T': DeclaredTypeInstance(type='NDArray', params=None)}, args=['-3441594153459264420', '-71907873773769076'], kwargs=None)], '3906530246695754882': ['15', CallNode(function='Maybe.match', type_params={'T': DeclaredTypeInstance(type='Pair', params={'U': DeclaredTypeInstance(type='Either', params={'U': DeclaredTypeInstance(type='Vec', params={'T': DeclaredTypeInstance(type='Integer', params=None)}), 'T': DeclaredTypeInstance(type='Integer', params=None)}), 'T': DeclaredTypeInstance(type='NDArray', params=None)})}, args=['-7064802824409813048', '7703360805233009766', '328146108265967914'], kwargs=None)], '-8704731240750149540': ['4', CallNode(function='NDArrayCompat.from_ndarray', type_params=None, args=['3906530246695754882'], kwargs=None)], '-7721165537378407931': ['5', CallNode(function='NDArrayCompat.to_ndarray', type_params=None, args=['-8704731240750149540'], kwargs=None)], '7200257852860797878': ['74', CallNode(function='Maybe.__and__', type_params={'T': DeclaredTypeInstance(type='NDArray', params=None)}, args=['917422250035403493', '-71907873773769076'], kwargs=None)], '713643658344949070': ['15', CallNode(function='Maybe.match', type_params={'T': DeclaredTypeInstance(type='Pair', params={'U': DeclaredTypeInstance(type='Either', params={'U': DeclaredTypeInstance(type='Vec', params={'T': DeclaredTypeInstance(type='Integer', params=None)}), 'T': DeclaredTypeInstance(type='Integer', params=None)}), 'T': DeclaredTypeInstance(type='NDArray', params=None)})}, args=['7200257852860797878', '7703360805233009766', '328146108265967914'], kwargs=None)], '1179516031581487141': ['4', CallNode(function='NDArrayCompat.from_ndarray', type_params=None, args=['713643658344949070'], kwargs=None)], '-7821833117464458399': ['5', CallNode(function='NDArrayCompat.to_ndarray', type_params=None, args=['1179516031581487141'], kwargs=None)], '-4378767735171885778': ['206', CallNode(function='Pair.create', type_params=None, args=['3015517905768064073', '-1208112746975233409'], kwargs=None)], '8044909288445086102': ['74', CallNode(function='Maybe.just', type_params=None, args=['-4378767735171885778'], kwargs=None)], '-1098815614146331282': ['15', CallNode(function='Maybe.match', type_params={'T': DeclaredTypeInstance(type='Pair', params={'U': DeclaredTypeInstance(type='Either', params={'U': DeclaredTypeInstance(type='Vec', params={'T': DeclaredTypeInstance(type='Integer', params=None)}), 'T': DeclaredTypeInstance(type='Integer', params=None)}), 'T': DeclaredTypeInstance(type='NDArray', params=None)})}, args=['8044909288445086102', '7703360805233009766', '328146108265967914'], kwargs=None)], '4488959614263339397': ['4', CallNode(function='NDArrayCompat.from_ndarray', type_params=None, args=['-1098815614146331282'], kwargs=None)], '-8048521251642777674': ['5', CallNode(function='NDArrayCompat.to_ndarray', type_params=None, args=['4488959614263339397'], kwargs=None)], '-4067499365013330262': ['15', CallNode(function='Abstraction.__call__', type_params={'U': DeclaredTypeInstance(type='Maybe', params={'T': DeclaredTypeInstance(type='NDArray', params=None)}), 'T': DeclaredTypeInstance(type='Pair', params={'U': DeclaredTypeInstance(type='Either', params={'U': DeclaredTypeInstance(type='Vec', params={'T': DeclaredTypeInstance(type='Integer', params=None)}), 'T': DeclaredTypeInstance(type='Integer', params=None)}), 'T': DeclaredTypeInstance(type='NDArray', params=None)})}, args=['328146108265967914', '-4378767735171885778'], kwargs=None)], '7817243770356945038': ['4', CallNode(function='NDArrayCompat.from_ndarray', type_params=None, args=['-4067499365013330262'], kwargs=None)], '-171289544696980323': ['5', CallNode(function='NDArrayCompat.to_ndarray', type_params=None, args=['7817243770356945038'], kwargs=None)], '2391294082487331790': ['207', CallNode(function='Pair.left', type_params={'U': DeclaredTypeInstance(type='Either', params={'U': DeclaredTypeInstance(type='Vec', params={'T': DeclaredTypeInstance(type='Integer', params=None)}), 'T': DeclaredTypeInstance(type='Integer', params=None)}), 'T': DeclaredTypeInstance(type='NDArray', params=None)}, args=['-4378767735171885778'], kwargs=None)], '3822845652799715414': ['208', CallNode(function='Pair.right', type_params={'U': DeclaredTypeInstance(type='Either', params={'U': DeclaredTypeInstance(type='Vec', params={'T': DeclaredTypeInstance(type='Integer', params=None)}), 'T': DeclaredTypeInstance(type='Integer', params=None)}), 'T': DeclaredTypeInstance(type='NDArray', params=None)}, args=['-4378767735171885778'], kwargs=None)], '-6492201068403465919': ['209', CallNode(function='NDArray.__getitem__', type_params=None, args=['2391294082487331790', '3822845652799715414'], kwargs=None)], '-5557731306797824588': ['15', CallNode(function='Maybe.just', type_params={'T': DeclaredTypeInstance(type='NDArray', params=None)}, args=['-6492201068403465919'], kwargs=None)], '-6202688075970782135': ['4', CallNode(function='NDArrayCompat.from_ndarray', type_params=None, args=['-5557731306797824588'], kwargs=None)], '-3534020860713457941': ['5', CallNode(function='NDArrayCompat.to_ndarray', type_params=None, args=['-6202688075970782135'], kwargs=None)], '-3715759040180187319': ['209', CallNode(function='NDArray.__getitem__', type_params=None, args=['2391294082487331790', '-1208112746975233409'], kwargs=None)], '-6385945437861283369': ['15', CallNode(function='Maybe.just', type_params={'T': DeclaredTypeInstance(type='NDArray', params=None)}, args=['-3715759040180187319'], kwargs=None)], '3736494866601926666': ['4', CallNode(function='NDArrayCompat.from_ndarray', type_params=None, args=['-6385945437861283369'], kwargs=None)], '2819905678209689071': ['5', CallNode(function='NDArrayCompat.to_ndarray', type_params=None, args=['3736494866601926666'], kwargs=None)], '1193603216482933380': ['220', CallNode(function='NDArray.__getitem__', type_params=None, args=['3015517905768064073', '-1208112746975233409'], kwargs=None)], '8729709324764633035': ['15', CallNode(function='Maybe.just', type_params={'T': DeclaredTypeInstance(type='NDArray', params=None)}, args=['1193603216482933380'], kwargs=None)], '-6007750462670501723': ['4', CallNode(function='NDArrayCompat.from_ndarray', type_params=None, args=['8729709324764633035'], kwargs=None)], '4656381298025305191': ['5', CallNode(function='NDArrayCompat.to_ndarray', type_params=None, args=['-6007750462670501723'], kwargs=None)], '6840043378572354318': ['5', CallNode(function='NDArray.to_ndarray', type_params=None, args=['1193603216482933380'], kwargs=None)], '-4417223510602162712': ['225', CallNode(function='NDArray.to_ndarray', type_params=None, args=['3015517905768064073'], kwargs=None)], '-1678443516291542066': ['229', CallNode(function='unbox_idxs', type_params=None, args=['-1208112746975233409'], kwargs=None)], '2859349736757779398': ['5', CallNode(function='ndarray_getitem', type_params=None, args=['-4417223510602162712', '-1678443516291542066'], kwargs=None)], '6674882009630327653': ['229', CallNode(function='unbox_integer', type_params=None, args=['830260340471481657'], kwargs=None)], '-4983387308748893959': ['5', CallNode(function='ndarray_getitem', type_params=None, args=['-4417223510602162712', '6674882009630327653'], kwargs=None)], '-1195031410244303026': ['5', CallNode(function='ndarray_getitem', type_params=None, args=['-4417223510602162712', '4713779054406638500'], kwargs=None)], '-6708565899743828771': ['235', CallNode(function='NDArray.to_ndarray', type_params=None, args=['9094274569454627144'], kwargs=None)], '-3990767567436360951': ['225', CallNode(function='ndarray_add', type_params=None, args=['-6708565899743828771', '-6708565899743828771'], kwargs=None)], '1434201859992440485': ['5', CallNode(function='ndarray_getitem', type_params=None, args=['-3990767567436360951', '4713779054406638500'], kwargs=None)], '8744454737154277936': ['238', CallNode(function='unbox_integer', type_params=None, args=['-4649256587560651910'], kwargs=None)], '6887897455744159115': ['235', CallNode(function='arange', type_params=None, args=['8744454737154277936'], kwargs=None)], '340105782257140777': ['225', CallNode(function='ndarray_add', type_params=None, args=['6887897455744159115', '6887897455744159115'], kwargs=None)], '3014971897586217712': ['5', CallNode(function='ndarray_getitem', type_params=None, args=['340105782257140777', '4713779054406638500'], kwargs=None)], '8214520643793371129': ['235', CallNode(function='arange', type_params=None, args=['4713779054301633575'], kwargs=None)], '4600129275889057871': ['225', CallNode(function='ndarray_add', type_params=None, args=['8214520643793371129', '8214520643793371129'], kwargs=None)], '928581920219335661': ['5', CallNode(function='ndarray_getitem', type_params=None, args=['4600129275889057871', '4713779054406638500'], kwargs=None)], '-7310615326020458491': ['235', PrimitiveNode(type='ndarray', repr='array([ 0,  1,  2,  3,  4,  5,  6,  7,  8,  9, 10, 11, 12, 13, 14, 15, 16,\\n       17, 18, 19, 20, 21, 22, 23, 24, 25, 26, 27, 28, 29, 30, 31, 32, 33,\\n       34, 35, 36, 37, 38, 39, 40, 41, 42, 43, 44, 45, 46, 47, 48, 49, 50,\\n       51, 52, 53, 54, 55, 56, 57, 58, 59, 60, 61, 62, 63, 64, 65, 66, 67,\\n       68, 69, 70, 71, 72, 73, 74, 75, 76, 77, 78, 79, 80, 81, 82, 83, 84,\\n       85, 86, 87, 88, 89, 90, 91, 92, 93, 94, 95, 96, 97, 98, 99])')], '8345885566761887579': ['225', CallNode(function='ndarray_add', type_params=None, args=['-7310615326020458491', '-7310615326020458491'], kwargs=None)], '-1641822556141388533': ['5', CallNode(function='ndarray_getitem', type_params=None, args=['8345885566761887579', '4713779054406638500'], kwargs=None)], '-7310615564955376491': ['225', PrimitiveNode(type='ndarray', repr='array([  0,   2,   4,   6,   8,  10,  12,  14,  16,  18,  20,  22,  24,\\n        26,  28,  30,  32,  34,  36,  38,  40,  42,  44,  46,  48,  50,\\n        52,  54,  56,  58,  60,  62,  64,  66,  68,  70,  72,  74,  76,\\n        78,  80,  82,  84,  86,  88,  90,  92,  94,  96,  98, 100, 102,\\n       104, 106, 108, 110, 112, 114, 116, 118, 120, 122, 124, 126, 128,\\n       130, 132, 134, 136, 138, 140, 142, 144, 146, 148, 150, 152, 154,\\n       156, 158, 160, 162, 164, 166, 168, 170, 172, 174, 176, 178, 180,\\n       182, 184, 186, 188, 190, 192, 194, 196, 198])')], '-7845411681977842001': ['5', CallNode(function='ndarray_getitem', type_params=None, args=['-7310615564955376491', '4713779054406638500'], kwargs=None)], '-7310615337244077691': ['5', PrimitiveNode(type='ndarray', repr='array(10)')]}, states=States(initial='-1236185272749818955', states=[State(node='4069482946785880220', rule='metadsl_core.numpy.NDArrayCompat.__getitem__', label=None), State(node='-9072396050733471667', rule='metadsl_core.either.convert_to_either', label=None), State(node='5045112419611545487', rule='metadsl_core.integer.convert_integer', label=None), State(node='-5042652985163262165', rule='metadsl_core.numpy.arange', label=None), State(node='9056086434933563743', rule='metadsl_core.integer.convert_integer', label=None), State(node='2227653887930316235', rule='metadsl_core.abstraction.Abstraction.from_fn', label=None), State(node='-6809483661468653664', rule='metadsl_core.abstraction.Abstraction.from_fn', label=None), State(node='-9030259525573543998', rule='metadsl_core.abstraction.Abstraction.from_fn', label=None), State(node='8653158334563317873', rule='metadsl_core.abstraction.Abstraction.from_fn', label=None), State(node='1365179762007056321', rule='metadsl_core.maybe.Maybe.map', label=None), State(node='-2093676223453393791', rule='metadsl_core.maybe.Maybe.map', label=None), State(node='-1226244419424519882', rule='metadsl_core.maybe.Maybe.map', label=None), State(node='5875154631775244781', rule='metadsl_core.maybe.maybe_match', label=None), State(node='-8706936158111304158', rule='metadsl_core.maybe.Maybe.map', label=None), State(node='-4722032022278848585', rule='metadsl_core.maybe.maybe_match', label=None), State(node='-7949385190237942973', rule='metadsl_core.abstraction.Abstraction.from_fn', label=None), State(node='5978424380647594609', rule='metadsl_core.abstraction.Abstraction.from_fn', label=None), State(node='1403323746003076594', rule='metadsl_core.abstraction.compose', label=None), State(node='9027476497616514679', rule='metadsl_core.abstraction.compose', label=None), State(node='-1570927596096493122', rule='metadsl_core.abstraction.compose', label=None), State(node='4524026358657233733', rule='metadsl_core.abstraction.beta_reduce', label=None), State(node='-2808625198921579543', rule='metadsl_core.maybe.maybe_or', label=None), State(node='-4576363615409351389', rule='metadsl_core.abstraction.compose', label=None), State(node='852053475792198992', rule='metadsl_core.abstraction.beta_reduce', label=None), State(node='-7721165537378407931', rule='metadsl_core.numpy.add_compat', label=None), State(node='-7821833117464458399', rule='metadsl_core.numpy.convert_to_ndarray', label=None), State(node='-8048521251642777674', rule='metadsl_core.maybe.maybe_and', label=None), State(node='-171289544696980323', rule='metadsl_core.maybe.maybe_match', label=None), State(node='-3534020860713457941', rule='metadsl_core.abstraction.beta_reduce', label=None), State(node='2819905678209689071', rule='metadsl_core.pair.pair_right', label=None), State(node='4656381298025305191', rule='metadsl_core.pair.pair_left', label=None), State(node='4656381298025305191', rule='', label='convert'), State(node='6840043378572354318', rule='metadsl_core.numpy.box_unbox_ndarray_compat', label=None), State(node='2859349736757779398', rule='metadsl_core.numpy_engine.unbox_ndarray_getitem', label=None), State(node='-4983387308748893959', rule='metadsl_core.numpy_engine.unbox_idxs_rule', label=None), State(node='-1195031410244303026', rule='metadsl_core.numpy_engine.unbox_integer_rule', label=None), State(node='1434201859992440485', rule='metadsl_core.numpy_engine.unbox_ndarray_add', label=None), State(node='3014971897586217712', rule='metadsl_core.numpy_engine.unbox_arange', label=None), State(node='928581920219335661', rule='metadsl_core.numpy_engine.unbox_integer_rule', label=None), State(node='928581920219335661', rule='', label='unbox'), State(node='-1641822556141388533', rule='metadsl_core.numpy_engine.arange', label=None), State(node='-7845411681977842001', rule='metadsl_core.numpy_engine.ndarray_add', label=None), State(node='-7310615337244077691', rule='metadsl_core.numpy_engine.ndarray_getitem', label=None), State(node='-7310615337244077691', rule='', label='execute')]))"
      ]
     },
     "metadata": {},
     "output_type": "display_data"
    },
    {
     "data": {
      "text/plain": [
       "array(10)"
      ]
     },
     "metadata": {},
     "output_type": "display_data"
    }
   ],
   "source": [
    "N = 100\n",
    "expr = (arange(N) + arange(N))[5].to_ndarray()\n",
    "expr"
   ]
  },
  {
   "cell_type": "markdown",
   "metadata": {},
   "source": [
    "Now, we can add an optimization replacement, so that we do the getitem before adding the two expressions:"
   ]
  },
  {
   "cell_type": "code",
   "execution_count": 4,
   "metadata": {},
   "outputs": [],
   "source": [
    "@register_optimize\n",
    "@rule\n",
    "def optimize_getitem_add(l: NDArray, r: NDArray, idx: IndxType) -> R[NDArray]:\n",
    "    return (\n",
    "        # expression to match against\n",
    "        (l + r)[idx],\n",
    "        # expression to replace it with\n",
    "        l[idx] + r[idx]\n",
    "    )"
   ]
  },
  {
   "cell_type": "markdown",
   "metadata": {},
   "source": [
    "Now, when we look at the execution steps, we see that it is doing each getitem before adding, which should be more efficient:"
   ]
  },
  {
   "cell_type": "code",
   "execution_count": 5,
   "metadata": {},
   "outputs": [
    {
     "data": {
      "application/x.typez+json": {
       "nodes": {
        "-1113517133611780794": [
         "190",
         {
          "args": [
           "6292453169213071641",
           "-4712939544073248543"
          ],
          "function": "Abstraction.create"
         }
        ],
        "-1114041580159990955": [
         "5",
         {
          "args": [
           "8766929400792285798"
          ],
          "function": "NDArrayCompat.to_ndarray"
         }
        ],
        "-1171015405917996262": [
         "7",
         {
          "args": [
           "4713779054301633575"
          ],
          "function": "arange"
         }
        ],
        "-1173789367401681488": [
         "15",
         {
          "args": [
           "-7200717567198933114",
           "7703360805233009766",
           "-830868406431143682"
          ],
          "function": "Maybe.match",
          "type_params": {
           "T": {
            "params": {
             "T": {
              "type": "NDArray"
             },
             "U": {
              "params": {
               "T": {
                "type": "Integer"
               },
               "U": {
                "params": {
                 "T": {
                  "type": "Integer"
                 }
                },
                "type": "Vec"
               }
              },
              "type": "Either"
             }
            },
            "type": "Pair"
           }
          }
         }
        ],
        "-1206764796549070762": [
         "92",
         {
          "args": [
           "-6427786465027000350",
           "3965131456701341370"
          ],
          "function": "Abstraction.create",
          "type_params": {
           "T": {
            "params": {
             "T": {
              "type": "Integer"
             }
            },
            "type": "Vec"
           },
           "U": {
            "params": {
             "T": {
              "type": "Integer"
             },
             "U": {
              "params": {
               "T": {
                "type": "Integer"
               }
              },
              "type": "Vec"
             }
            },
            "type": "Either"
           }
          }
         }
        ],
        "-1208112746975233409": [
         "242",
         {
          "args": [
           "830260340471481657"
          ],
          "function": "Either.left",
          "type_params": {
           "T": {
            "type": "Integer"
           },
           "U": {
            "params": {
             "T": {
              "type": "Integer"
             }
            },
            "type": "Vec"
           }
          }
         }
        ],
        "-1224386916651147455": [
         "5",
         {
          "args": [
           "-2780767872016522262",
           "-2780767872016522262"
          ],
          "function": "ndarray_add"
         }
        ],
        "-1236185272749818955": [
         "5",
         {
          "args": [
           "-6875959910507960501"
          ],
          "function": "NDArrayCompat.to_ndarray"
         }
        ],
        "-1394110507847108417": [
         "235",
         {
          "args": [
           "-7310616102909680091",
           "4713779054406638500"
          ],
          "function": "ndarray_getitem"
         }
        ],
        "-1406815420626272808": [
         "4",
         {
          "args": [
           "-3239261498521016912"
          ],
          "function": "NDArrayCompat.from_ndarray"
         }
        ],
        "-1482771421848500021": [
         "5",
         {
          "args": [
           "-6777176652484186199"
          ],
          "function": "NDArrayCompat.to_ndarray"
         }
        ],
        "-1646123280961522482": [
         "5",
         {
          "args": [
           "6626568121082905148"
          ],
          "function": "NDArrayCompat.to_ndarray"
         }
        ],
        "-1678443516291542066": [
         "243",
         {
          "args": [
           "-1208112746975233409"
          ],
          "function": "unbox_idxs"
         }
        ],
        "-172547541710843077": [
         "5",
         {
          "args": [
           "7511559439157003604"
          ],
          "function": "NDArrayCompat.to_ndarray"
         }
        ],
        "-1913890841885673392": [
         "5",
         {
          "args": [
           "-4029799967937456615"
          ],
          "function": "NDArrayCompat.to_ndarray"
         }
        ],
        "-1947520936561189353": [
         "8",
         {
          "args": [
           "-7761567949085819156",
           "-7761567949085819156"
          ],
          "function": "NDArrayCompat.__add__"
         }
        ],
        "-2066112853042741421": [
         "163",
         {
          "args": [
           "2071814520474456396"
          ],
          "function": "Maybe.just",
          "type_params": {
           "T": {
            "type": "NDArray"
           }
          }
         }
        ],
        "-2073976544615576127": [
         "131",
         {
          "args": [
           "-3501837872716648179",
           "-2066112853042741421"
          ],
          "function": "Abstraction.create"
         }
        ],
        "-2304162742706713848": [
         "186",
         {
          "args": [
           "6292453169213071641"
          ],
          "function": "Pair.left",
          "type_params": {
           "T": {
            "type": "NDArray"
           },
           "U": {
            "params": {
             "T": {
              "type": "Integer"
             },
             "U": {
              "params": {
               "T": {
                "type": "Integer"
               }
              },
              "type": "Vec"
             }
            },
            "type": "Either"
           }
          }
         }
        ],
        "-2307563781240816546": [
         "15",
         {
          "args": [
           "-1113517133611780794",
           "-4378767735171885778"
          ],
          "function": "Abstraction.__call__",
          "type_params": {
           "T": {
            "params": {
             "T": {
              "type": "NDArray"
             },
             "U": {
              "params": {
               "T": {
                "type": "Integer"
               },
               "U": {
                "params": {
                 "T": {
                  "type": "Integer"
                 }
                },
                "type": "Vec"
               }
              },
              "type": "Either"
             }
            },
            "type": "Pair"
           },
           "U": {
            "params": {
             "T": {
              "type": "NDArray"
             }
            },
            "type": "Maybe"
           }
          }
         }
        ],
        "-2406204656795444040": [
         "73",
         {
          "args": [
           "7196192257319487230",
           "-8553986771623801589"
          ],
          "function": "Maybe.__or__",
          "type_params": {
           "T": {
            "params": {
             "T": {
              "type": "Integer"
             },
             "U": {
              "params": {
               "T": {
                "type": "Integer"
               }
              },
              "type": "Vec"
             }
            },
            "type": "Either"
           }
          }
         }
        ],
        "-2557443474507310094": [
         "4",
         {
          "args": [
           "-2307563781240816546"
          ],
          "function": "NDArrayCompat.from_ndarray"
         }
        ],
        "-2588923867463876411": [
         "7",
         {
          "args": [
           "6629873243390779564"
          ],
          "function": "NDArrayCompat.from_ndarray"
         }
        ],
        "-266973439100455150": [
         "5",
         {
          "args": [
           "-8424105716442181051"
          ],
          "function": "NDArrayCompat.to_ndarray"
         }
        ],
        "-2762840990310922925": [
         "4",
         {
          "args": [
           "-3482720502037424223"
          ],
          "function": "NDArrayCompat.from_ndarray"
         }
        ],
        "-2780767872016522262": [
         "235",
         {
          "args": [
           "-6708565899743828771",
           "-1678443516291542066"
          ],
          "function": "ndarray_getitem"
         }
        ],
        "-2895001785256119691": [
         "58",
         {
          "args": [
           "2157616255500305231"
          ],
          "function": "Converter.convert",
          "type_params": {
           "T": {
            "type": "NDArray"
           }
          }
         }
        ],
        "-2952450362546799404": [
         "31",
         {
          "args": [
           "8041717448431328708",
           "-4678502709838927428"
          ],
          "function": "Maybe.map",
          "type_params": {
           "T": {
            "type": "Integer"
           }
          }
         }
        ],
        "-301393546479120104": [
         "5",
         {
          "args": [
           "8501027944732289469"
          ],
          "function": "NDArrayCompat.to_ndarray"
         }
        ],
        "-3043571545640663641": [
         "17",
         {
          "args": [
           "4713779054406638500"
          ],
          "function": "Converter.convert",
          "type_params": {
           "T": {
            "type": "Integer"
           }
          }
         }
        ],
        "-3082965114829723956": [
         "11",
         {
          "args": [
           "8887545728875557935",
           "-4549680217207104910"
          ],
          "function": "Maybe.__or__",
          "type_params": {
           "T": {
            "params": {
             "T": {
              "type": "Integer"
             },
             "U": {
              "params": {
               "T": {
                "type": "Integer"
               }
              },
              "type": "Vec"
             }
            },
            "type": "Either"
           }
          }
         }
        ],
        "-3229292437377647605": [
         "74",
         {
          "args": [
           "-3311216230674443042",
           "-7261753375016999690"
          ],
          "function": "Maybe.__and__",
          "type_params": {
           "T": {
            "type": "NDArray"
           }
          }
         }
        ],
        "-3239261498521016912": [
         "15",
         {
          "args": [
           "-8290275346298956274",
           "7703360805233009766",
           "-1113517133611780794"
          ],
          "function": "Maybe.match",
          "type_params": {
           "T": {
            "params": {
             "T": {
              "type": "NDArray"
             },
             "U": {
              "params": {
               "T": {
                "type": "Integer"
               },
               "U": {
                "params": {
                 "T": {
                  "type": "Integer"
                 }
                },
                "type": "Vec"
               }
              },
              "type": "Either"
             }
            },
            "type": "Pair"
           }
          }
         }
        ],
        "-3311216230674443042": [
         "58",
         {
          "args": [
           "7121933262031515661"
          ],
          "function": "Converter.convert",
          "type_params": {
           "T": {
            "type": "NDArray"
           }
          }
         }
        ],
        "-3385854698423233158": [
         "15",
         {
          "args": [
           "7200257852860797878",
           "7703360805233009766",
           "-1113517133611780794"
          ],
          "function": "Maybe.match",
          "type_params": {
           "T": {
            "params": {
             "T": {
              "type": "NDArray"
             },
             "U": {
              "params": {
               "T": {
                "type": "Integer"
               },
               "U": {
                "params": {
                 "T": {
                  "type": "Integer"
                 }
                },
                "type": "Vec"
               }
              },
              "type": "Either"
             }
            },
            "type": "Pair"
           }
          }
         }
        ],
        "-3441594153459264420": [
         "58",
         {
          "args": [
           "975327646540141658"
          ],
          "function": "Converter.convert",
          "type_params": {
           "T": {
            "type": "NDArray"
           }
          }
         }
        ],
        "-3451474266960427708": [
         "74",
         {
          "args": [
           "-7283824615062444208",
           "4563710831724426925"
          ],
          "function": "Maybe.__and__",
          "type_params": {
           "T": {
            "type": "NDArray"
           }
          }
         }
        ],
        "-3465662883811441965": [
         "74",
         {
          "args": [
           "-7283824615062444208",
           "-8568434642149767442"
          ],
          "function": "Maybe.__and__",
          "type_params": {
           "T": {
            "type": "NDArray"
           }
          }
         }
        ],
        "-3482720502037424223": [
         "15",
         {
          "args": [
           "-6334021279672679594",
           "7703360805233009766",
           "-1113517133611780794"
          ],
          "function": "Maybe.match",
          "type_params": {
           "T": {
            "params": {
             "T": {
              "type": "NDArray"
             },
             "U": {
              "params": {
               "T": {
                "type": "Integer"
               },
               "U": {
                "params": {
                 "T": {
                  "type": "Integer"
                 }
                },
                "type": "Vec"
               }
              },
              "type": "Either"
             }
            },
            "type": "Pair"
           }
          }
         }
        ],
        "-3501837872716648179": [
         "161",
         {
          "args": [
           "241536667079712137"
          ],
          "function": "Abstraction.create_variable",
          "type_params": {
           "T": {
            "type": "Integer"
           },
           "U": {
            "type": "NDArray"
           }
          }
         }
        ],
        "-3534020860713457941": [
         "5",
         {
          "args": [
           "-6202688075970782135"
          ],
          "function": "NDArrayCompat.to_ndarray"
         }
        ],
        "-3556983189806491727": [
         "5",
         {
          "args": [
           "6293067906089160797",
           "6293067906089160797"
          ],
          "function": "ndarray_add"
         }
        ],
        "-3646835284713970130": [
         "74",
         {
          "args": [
           "-3311216230674443042",
           "1549957452510273324"
          ],
          "function": "Maybe.__and__",
          "type_params": {
           "T": {
            "type": "NDArray"
           }
          }
         }
        ],
        "-3715759040180187319": [
         "209",
         {
          "args": [
           "2391294082487331790",
           "-1208112746975233409"
          ],
          "function": "NDArray.__getitem__"
         }
        ],
        "-3735293377273150709": [
         "152",
         {
          "args": [
           "6418704062862102227"
          ],
          "function": "Either.left",
          "type_params": {
           "T": {
            "type": "Integer"
           },
           "U": {
            "params": {
             "T": {
              "type": "Integer"
             }
            },
            "type": "Vec"
           }
          }
         }
        ],
        "-3834593462292399750": [
         "15",
         {
          "args": [
           "-4725857001011136581",
           "7703360805233009766",
           "-1113517133611780794"
          ],
          "function": "Maybe.match",
          "type_params": {
           "T": {
            "params": {
             "T": {
              "type": "NDArray"
             },
             "U": {
              "params": {
               "T": {
                "type": "Integer"
               },
               "U": {
                "params": {
                 "T": {
                  "type": "Integer"
                 }
                },
                "type": "Vec"
               }
              },
              "type": "Either"
             }
            },
            "type": "Pair"
           }
          }
         }
        ],
        "-3838057642674473132": [
         "5",
         {
          "args": [
           "7585722022179764025"
          ],
          "function": "NDArrayCompat.to_ndarray"
         }
        ],
        "-401208281684126735": [
         "111",
         {
          "args": [
           "-7597966239357059670",
           "8220634548590704800"
          ],
          "function": "Abstraction.__add__",
          "type_params": {
           "T": {
            "params": {
             "T": {
              "type": "Integer"
             },
             "U": {
              "params": {
               "T": {
                "type": "Integer"
               }
              },
              "type": "Vec"
             }
            },
            "type": "Either"
           },
           "U": {
            "params": {
             "T": {
              "params": {
               "T": {
                "type": "Integer"
               },
               "U": {
                "params": {
                 "T": {
                  "type": "Integer"
                 }
                },
                "type": "Vec"
               }
              },
              "type": "Either"
             }
            },
            "type": "Maybe"
           }
          }
         }
        ],
        "-4029799967937456615": [
         "4",
         {
          "args": [
           "-669547437747201918"
          ],
          "function": "NDArrayCompat.from_ndarray"
         }
        ],
        "-4056384918910903929": [
         "57",
         {
          "args": [
           "-4290077691083295982",
           "-4290077691083295982"
          ],
          "function": "NDArrayCompat.__add__"
         }
        ],
        "-4269344161181253656": [
         "66",
         {
          "args": [
           "-4691553863178753990",
           "8220634548590704800"
          ],
          "function": "Maybe.map",
          "type_params": {
           "T": {
            "type": "Integer"
           }
          }
         }
        ],
        "-4290077691083295982": [
         "56",
         {
          "args": [
           "-7608372729080586560"
          ],
          "function": "NDArrayCompat.from_ndarray"
         }
        ],
        "-4293313621705056232": [
         "12",
         {
          "args": [
           "421423557119156493",
           "8707533822291393287"
          ],
          "function": "Maybe.__and__",
          "type_params": {
           "T": {
            "type": "NDArray"
           }
          }
         }
        ],
        "-4330216193765395707": [
         "93",
         {
          "args": [
           "197716354574705964",
           "-1206764796549070762"
          ],
          "function": "Abstraction.__add__",
          "type_params": {
           "T": {
            "params": {
             "T": {
              "type": "Integer"
             },
             "U": {
              "params": {
               "T": {
                "type": "Integer"
               }
              },
              "type": "Vec"
             }
            },
            "type": "Either"
           },
           "U": {
            "params": {
             "T": {
              "params": {
               "T": {
                "type": "Integer"
               },
               "U": {
                "params": {
                 "T": {
                  "type": "Integer"
                 }
                },
                "type": "Vec"
               }
              },
              "type": "Either"
             }
            },
            "type": "Maybe"
           }
          }
         }
        ],
        "-4378767735171885778": [
         "206",
         {
          "args": [
           "3015517905768064073",
           "-1208112746975233409"
          ],
          "function": "Pair.create"
         }
        ],
        "-4386629807137239958": [
         "29",
         {
          "repr": "arange_",
          "type": "Infer"
         }
        ],
        "-4399158014625666932": [
         "97",
         {
          "function": "Maybe.nothing",
          "type_params": {
           "T": {
            "params": {
             "T": {
              "type": "Integer"
             },
             "U": {
              "params": {
               "T": {
                "type": "Integer"
               }
              },
              "type": "Vec"
             }
            },
            "type": "Either"
           }
          }
         }
        ],
        "-4549680217207104910": [
         "72",
         {
          "args": [
           "-5383112508657625409",
           "-1206764796549070762"
          ],
          "function": "Maybe.map",
          "type_params": {
           "T": {
            "params": {
             "T": {
              "type": "Integer"
             }
            },
            "type": "Vec"
           }
          }
         }
        ],
        "-4551867775753642953": [
         "188",
         {
          "args": [
           "-2304162742706713848",
           "-659501551837228928"
          ],
          "function": "NDArray.__getitem__"
         }
        ],
        "-4649256587560651910": [
         "247",
         {
          "args": [
           "4713779054301633575"
          ],
          "function": "Integer.from_int"
         }
        ],
        "-4674515641938184544": [
         "56",
         {
          "args": [
           "9075105752950842708"
          ],
          "function": "NDArrayCompat.from_ndarray"
         }
        ],
        "-4678502709838927428": [
         "30",
         {
          "args": [
           "-4386629807137239958"
          ],
          "function": "Abstraction.from_fn"
         }
        ],
        "-4691553863178753990": [
         "96",
         {
          "args": [
           "830260340471481657"
          ],
          "function": "Maybe.just"
         }
        ],
        "-4712939544073248543": [
         "189",
         {
          "args": [
           "-4551867775753642953"
          ],
          "function": "Maybe.just",
          "type_params": {
           "T": {
            "type": "NDArray"
           }
          }
         }
        ],
        "-4725857001011136581": [
         "74",
         {
          "args": [
           "6977666340162912341",
           "-71907873773769076"
          ],
          "function": "Maybe.__and__",
          "type_params": {
           "T": {
            "type": "NDArray"
           }
          }
         }
        ],
        "-4772296246081327995": [
         "4",
         {
          "args": [
           "-5091677864402498448"
          ],
          "function": "NDArrayCompat.from_ndarray"
         }
        ],
        "-480737033922099036": [
         "235",
         {
          "args": [
           "6887897455744159115",
           "4713779054406638500"
          ],
          "function": "ndarray_getitem"
         }
        ],
        "-4970196529013524285": [
         "235",
         {
          "args": [
           "947484561583250117"
          ],
          "function": "NDArray.to_ndarray"
         }
        ],
        "-5060777275490286588": [
         "5",
         {
          "args": [
           "-9072127489141282007"
          ],
          "function": "NDArray.to_ndarray"
         }
        ],
        "-5091677864402498448": [
         "15",
         {
          "args": [
           "-3451474266960427708",
           "7703360805233009766",
           "-830868406431143682"
          ],
          "function": "Maybe.match",
          "type_params": {
           "T": {
            "params": {
             "T": {
              "type": "NDArray"
             },
             "U": {
              "params": {
               "T": {
                "type": "Integer"
               },
               "U": {
                "params": {
                 "T": {
                  "type": "Integer"
                 }
                },
                "type": "Vec"
               }
              },
              "type": "Either"
             }
            },
            "type": "Pair"
           }
          }
         }
        ],
        "-5098234159783535950": [
         "235",
         {
          "args": [
           "-6708565899743828771",
           "4713779054406638500"
          ],
          "function": "ndarray_getitem"
         }
        ],
        "-5164403356915468461": [
         "4",
         {
          "args": [
           "5864740952301781406"
          ],
          "function": "NDArrayCompat.from_ndarray"
         }
        ],
        "-5203245390827314191": [
         "74",
         {
          "args": [
           "-3311216230674443042",
           "4575128221522602788"
          ],
          "function": "Maybe.__and__",
          "type_params": {
           "T": {
            "type": "NDArray"
           }
          }
         }
        ],
        "-5375311378463442255": [
         "15",
         {
          "args": [
           "-9072127489141282007"
          ],
          "function": "Maybe.just",
          "type_params": {
           "T": {
            "type": "NDArray"
           }
          }
         }
        ],
        "-5383112508657625409": [
         "85",
         {
          "args": [
           "4713779054406638500"
          ],
          "function": "Converter.convert",
          "type_params": {
           "T": {
            "params": {
             "T": {
              "type": "Integer"
             }
            },
            "type": "Vec"
           }
          }
         }
        ],
        "-540122324211131774": [
         "93",
         {
          "args": [
           "-7597966239357059670",
           "-1206764796549070762"
          ],
          "function": "Abstraction.__add__",
          "type_params": {
           "T": {
            "params": {
             "T": {
              "type": "Integer"
             },
             "U": {
              "params": {
               "T": {
                "type": "Integer"
               }
              },
              "type": "Vec"
             }
            },
            "type": "Either"
           },
           "U": {
            "params": {
             "T": {
              "params": {
               "T": {
                "type": "Integer"
               },
               "U": {
                "params": {
                 "T": {
                  "type": "Integer"
                 }
                },
                "type": "Vec"
               }
              },
              "type": "Either"
             }
            },
            "type": "Maybe"
           }
          }
         }
        ],
        "-5447210860979477677": [
         "4",
         {
          "args": [
           "-7269685740143217245"
          ],
          "function": "NDArrayCompat.from_ndarray"
         }
        ],
        "-5510006758119855787": [
         "130",
         {
          "args": [
           "-3501837872716648179",
           "2071814520474456396"
          ],
          "function": "Abstraction.create",
          "type_params": {
           "T": {
            "type": "Integer"
           },
           "U": {
            "type": "NDArray"
           }
          }
         }
        ],
        "-5557731306797824588": [
         "15",
         {
          "args": [
           "-6492201068403465919"
          ],
          "function": "Maybe.just",
          "type_params": {
           "T": {
            "type": "NDArray"
           }
          }
         }
        ],
        "-5597344834478047963": [
         "135",
         {
          "args": [
           "-8981835134139681871"
          ],
          "function": "Abstraction.create_variable",
          "type_params": {
           "T": {
            "params": {
             "T": {
              "type": "Integer"
             },
             "U": {
              "params": {
               "T": {
                "type": "Integer"
               }
              },
              "type": "Vec"
             }
            },
            "type": "Either"
           },
           "U": {
            "params": {
             "T": {
              "params": {
               "T": {
                "type": "Integer"
               },
               "U": {
                "params": {
                 "T": {
                  "type": "Integer"
                 }
                },
                "type": "Vec"
               }
              },
              "type": "Either"
             }
            },
            "type": "Maybe"
           }
          }
         }
        ],
        "-5672452219884111515": [
         "14",
         {
          "args": [
           "4714054997383813350"
          ],
          "function": "Abstraction.from_fn",
          "type_params": {
           "T": {
            "params": {
             "T": {
              "type": "NDArray"
             },
             "U": {
              "params": {
               "T": {
                "type": "Integer"
               },
               "U": {
                "params": {
                 "T": {
                  "type": "Integer"
                 }
                },
                "type": "Vec"
               }
              },
              "type": "Either"
             }
            },
            "type": "Pair"
           },
           "U": {
            "type": "NDArray"
           }
          }
         }
        ],
        "-5745754939498488777": [
         "5",
         {
          "args": [
           "-5098234159783535950",
           "-5098234159783535950"
          ],
          "function": "ndarray_add"
         }
        ],
        "-5798884178613778928": [
         "5",
         {
          "args": [
           "-1406815420626272808"
          ],
          "function": "NDArrayCompat.to_ndarray"
         }
        ],
        "-5871320286366479661": [
         "15",
         {
          "args": [
           "-3465662883811441965",
           "7703360805233009766",
           "-830868406431143682"
          ],
          "function": "Maybe.match",
          "type_params": {
           "T": {
            "params": {
             "T": {
              "type": "NDArray"
             },
             "U": {
              "params": {
               "T": {
                "type": "Integer"
               },
               "U": {
                "params": {
                 "T": {
                  "type": "Integer"
                 }
                },
                "type": "Vec"
               }
              },
              "type": "Either"
             }
            },
            "type": "Pair"
           }
          }
         }
        ],
        "-6007750462670501723": [
         "4",
         {
          "args": [
           "8729709324764633035"
          ],
          "function": "NDArrayCompat.from_ndarray"
         }
        ],
        "-6202688075970782135": [
         "4",
         {
          "args": [
           "-5557731306797824588"
          ],
          "function": "NDArrayCompat.from_ndarray"
         }
        ],
        "-6235675341913466514": [
         "74",
         {
          "args": [
           "-2895001785256119691",
           "7014446882591719652"
          ],
          "function": "Maybe.__and__",
          "type_params": {
           "T": {
            "type": "NDArray"
           }
          }
         }
        ],
        "-6324391027475491001": [
         "74",
         {
          "args": [
           "-7283824615062444208",
           "7014446882591719652"
          ],
          "function": "Maybe.__and__",
          "type_params": {
           "T": {
            "type": "NDArray"
           }
          }
         }
        ],
        "-6334021279672679594": [
         "74",
         {
          "args": [
           "-3311216230674443042",
           "124345297713240916"
          ],
          "function": "Maybe.__and__",
          "type_params": {
           "T": {
            "type": "NDArray"
           }
          }
         }
        ],
        "-6385945437861283369": [
         "15",
         {
          "args": [
           "-3715759040180187319"
          ],
          "function": "Maybe.just",
          "type_params": {
           "T": {
            "type": "NDArray"
           }
          }
         }
        ],
        "-6427786465027000350": [
         "147",
         {
          "args": [
           "-8981835151341004121"
          ],
          "function": "Abstraction.create_variable",
          "type_params": {
           "T": {
            "params": {
             "T": {
              "type": "Integer"
             }
            },
            "type": "Vec"
           },
           "U": {
            "params": {
             "T": {
              "type": "Integer"
             },
             "U": {
              "params": {
               "T": {
                "type": "Integer"
               }
              },
              "type": "Vec"
             }
            },
            "type": "Either"
           }
          }
         }
        ],
        "-6492201068403465919": [
         "209",
         {
          "args": [
           "2391294082487331790",
           "3822845652799715414"
          ],
          "function": "NDArray.__getitem__"
         }
        ],
        "-659501551837228928": [
         "187",
         {
          "args": [
           "6292453169213071641"
          ],
          "function": "Pair.right",
          "type_params": {
           "T": {
            "type": "NDArray"
           },
           "U": {
            "params": {
             "T": {
              "type": "Integer"
             },
             "U": {
              "params": {
               "T": {
                "type": "Integer"
               }
              },
              "type": "Vec"
             }
            },
            "type": "Either"
           }
          }
         }
        ],
        "-663116695612547538": [
         "15",
         {
          "args": [
           "-6324391027475491001",
           "7703360805233009766",
           "-830868406431143682"
          ],
          "function": "Maybe.match",
          "type_params": {
           "T": {
            "params": {
             "T": {
              "type": "NDArray"
             },
             "U": {
              "params": {
               "T": {
                "type": "Integer"
               },
               "U": {
                "params": {
                 "T": {
                  "type": "Integer"
                 }
                },
                "type": "Vec"
               }
              },
              "type": "Either"
             }
            },
            "type": "Pair"
           }
          }
         }
        ],
        "-6657176820575257679": [
         "23",
         {
          "args": [
           "3897712537135950527"
          ],
          "function": "Abstraction.from_fn"
         }
        ],
        "-6666006680207665747": [
         "4",
         {
          "args": [
           "6424166221091356660"
          ],
          "function": "NDArrayCompat.from_ndarray"
         }
        ],
        "-669547437747201918": [
         "15",
         {
          "args": [
           "5129398987665143895",
           "7703360805233009766",
           "-830868406431143682"
          ],
          "function": "Maybe.match",
          "type_params": {
           "T": {
            "params": {
             "T": {
              "type": "NDArray"
             },
             "U": {
              "params": {
               "T": {
                "type": "Integer"
               },
               "U": {
                "params": {
                 "T": {
                  "type": "Integer"
                 }
                },
                "type": "Vec"
               }
              },
              "type": "Either"
             }
            },
            "type": "Pair"
           }
          }
         }
        ],
        "-6708565899743828771": [
         "239",
         {
          "args": [
           "9094274569454627144"
          ],
          "function": "NDArray.to_ndarray"
         }
        ],
        "-6708922443786051569": [
         "4",
         {
          "args": [
           "3436521316042976843"
          ],
          "function": "NDArrayCompat.from_ndarray"
         }
        ],
        "-6750366847559074342": [
         "12",
         {
          "args": [
           "3919409559600014478",
           "8707533822291393287"
          ],
          "function": "Maybe.__and__",
          "type_params": {
           "T": {
            "type": "NDArray"
           }
          }
         }
        ],
        "-6772911694610227722": [
         "4",
         {
          "args": [
           "4858820127256438319"
          ],
          "function": "NDArrayCompat.from_ndarray"
         }
        ],
        "-6777176652484186199": [
         "4",
         {
          "args": [
           "-8176140974868566059"
          ],
          "function": "NDArrayCompat.from_ndarray"
         }
        ],
        "-6875959910507960501": [
         "4",
         {
          "args": [
           "8829142351054292861",
           "4713779054406638500"
          ],
          "function": "NDArrayCompat.__getitem__"
         }
        ],
        "-6964302811433065846": [
         "5",
         {
          "args": [
           "-8013932196291423267"
          ],
          "function": "NDArrayCompat.to_ndarray"
         }
        ],
        "-7033444072866663280": [
         "126",
         {
          "args": [
           "2150129084287880468",
           "8941328756889403515"
          ],
          "function": "Abstraction.create",
          "type_params": {
           "T": {
            "type": "NDArray"
           },
           "U": {
            "params": {
             "T": {
              "type": "NDArray"
             }
            },
            "type": "Maybe"
           }
          }
         }
        ],
        "-7064802824409813048": [
         "74",
         {
          "args": [
           "-3441594153459264420",
           "-71907873773769076"
          ],
          "function": "Maybe.__and__",
          "type_params": {
           "T": {
            "type": "NDArray"
           }
          }
         }
        ],
        "-708920172235396273": [
         "15",
         {
          "args": [
           "8546114497697302659",
           "7703360805233009766",
           "-1113517133611780794"
          ],
          "function": "Maybe.match",
          "type_params": {
           "T": {
            "params": {
             "T": {
              "type": "NDArray"
             },
             "U": {
              "params": {
               "T": {
                "type": "Integer"
               },
               "U": {
                "params": {
                 "T": {
                  "type": "Integer"
                 }
                },
                "type": "Vec"
               }
              },
              "type": "Either"
             }
            },
            "type": "Pair"
           }
          }
         }
        ],
        "-7106220729099446889": [
         "18",
         {
          "repr": "Either.left",
          "type": "BoundInfer"
         }
        ],
        "-71907873773769076": [
         "73",
         {
          "args": [
           "-1208112746975233409"
          ],
          "function": "Maybe.just"
         }
        ],
        "-7200717567198933114": [
         "74",
         {
          "args": [
           "255657516615531472",
           "-7261753375016999690"
          ],
          "function": "Maybe.__and__",
          "type_params": {
           "T": {
            "type": "NDArray"
           }
          }
         }
        ],
        "-7207783109661565205": [
         "55",
         {
          "args": [
           "-925967518873523857",
           "-5510006758119855787"
          ],
          "function": "Maybe.map",
          "type_params": {
           "T": {
            "type": "Integer"
           }
          }
         }
        ],
        "-7215683733302050805": [
         "5",
         {
          "args": [
           "-8091196920750435287",
           "-8091196920750435287"
          ],
          "function": "ndarray_add"
         }
        ],
        "-7253558197686079074": [
         "4",
         {
          "args": [
           "-3834593462292399750"
          ],
          "function": "NDArrayCompat.from_ndarray"
         }
        ],
        "-7261753375016999690": [
         "73",
         {
          "args": [
           "1746017672083347074",
           "4955587294423906225"
          ],
          "function": "Maybe.__or__",
          "type_params": {
           "T": {
            "params": {
             "T": {
              "type": "Integer"
             },
             "U": {
              "params": {
               "T": {
                "type": "Integer"
               }
              },
              "type": "Vec"
             }
            },
            "type": "Either"
           }
          }
         }
        ],
        "-7269685740143217245": [
         "15",
         {
          "args": [
           "-3229292437377647605",
           "7703360805233009766",
           "-1113517133611780794"
          ],
          "function": "Maybe.match",
          "type_params": {
           "T": {
            "params": {
             "T": {
              "type": "NDArray"
             },
             "U": {
              "params": {
               "T": {
                "type": "Integer"
               },
               "U": {
                "params": {
                 "T": {
                  "type": "Integer"
                 }
                },
                "type": "Vec"
               }
              },
              "type": "Either"
             }
            },
            "type": "Pair"
           }
          }
         }
        ],
        "-727242133714931491": [
         "66",
         {
          "args": [
           "85565400163395998",
           "830260340471481657"
          ],
          "function": "Abstraction.__call__",
          "type_params": {
           "T": {
            "type": "Integer"
           },
           "U": {
            "params": {
             "T": {
              "params": {
               "T": {
                "type": "Integer"
               },
               "U": {
                "params": {
                 "T": {
                  "type": "Integer"
                 }
                },
                "type": "Vec"
               }
              },
              "type": "Either"
             }
            },
            "type": "Maybe"
           }
          }
         }
        ],
        "-7283824615062444208": [
         "58",
         {
          "args": [
           "-7681682221433095415"
          ],
          "function": "Converter.convert",
          "type_params": {
           "T": {
            "type": "NDArray"
           }
          }
         }
        ],
        "-7294007499446075566": [
         "12",
         {
          "args": [
           "227340298487089036",
           "-3082965114829723956"
          ],
          "function": "Maybe.__and__",
          "type_params": {
           "T": {
            "type": "NDArray"
           }
          }
         }
        ],
        "-7310615341123847291": [
         "235",
         {
          "repr": "array(5)",
          "type": "ndarray"
         }
        ],
        "-7310616102909680091": [
         "239",
         {
          "repr": "array([ 0,  1,  2,  3,  4,  5,  6,  7,  8,  9, 10, 11, 12, 13, 14, 15, 16,\n       17, 18, 19, 20, 21, 22, 23, 24, 25, 26, 27, 28, 29, 30, 31, 32, 33,\n       34, 35, 36, 37, 38, 39, 40, 41, 42, 43, 44, 45, 46, 47, 48, 49, 50,\n       51, 52, 53, 54, 55, 56, 57, 58, 59, 60, 61, 62, 63, 64, 65, 66, 67,\n       68, 69, 70, 71, 72, 73, 74, 75, 76, 77, 78, 79, 80, 81, 82, 83, 84,\n       85, 86, 87, 88, 89, 90, 91, 92, 93, 94, 95, 96, 97, 98, 99])",
          "type": "ndarray"
         }
        ],
        "-7374914931223919067": [
         "19",
         {
          "args": [
           "-7106220729099446889"
          ],
          "function": "Abstraction.from_fn"
         }
        ],
        "-7597966239357059670": [
         "106",
         {
          "args": [
           "-5597344834478047963",
           "7966575061853914934"
          ],
          "function": "Abstraction.create",
          "type_params": {
           "T": {
            "params": {
             "T": {
              "type": "Integer"
             },
             "U": {
              "params": {
               "T": {
                "type": "Integer"
               }
              },
              "type": "Vec"
             }
            },
            "type": "Either"
           },
           "U": {
            "params": {
             "T": {
              "params": {
               "T": {
                "type": "Integer"
               },
               "U": {
                "params": {
                 "T": {
                  "type": "Integer"
                 }
                },
                "type": "Vec"
               }
              },
              "type": "Either"
             }
            },
            "type": "Maybe"
           }
          }
         }
        ],
        "-7608372729080586560": [
         "55",
         {
          "args": [
           "2939606338730852153",
           "-4649256587560651910"
          ],
          "function": "Abstraction.__call__",
          "type_params": {
           "T": {
            "type": "Integer"
           },
           "U": {
            "params": {
             "T": {
              "type": "NDArray"
             }
            },
            "type": "Maybe"
           }
          }
         }
        ],
        "-7681682221433095415": [
         "57",
         {
          "args": [
           "3866698988032664827",
           "3866698988032664827"
          ],
          "function": "NDArrayCompat.__add__"
         }
        ],
        "-7740662778058975325": [
         "4",
         {
          "args": [
           "-1173789367401681488"
          ],
          "function": "NDArrayCompat.from_ndarray"
         }
        ],
        "-7761567949085819156": [
         "7",
         {
          "args": [
           "-2952450362546799404"
          ],
          "function": "NDArrayCompat.from_ndarray"
         }
        ],
        "-8013932196291423267": [
         "4",
         {
          "args": [
           "2499600319169912869"
          ],
          "function": "NDArrayCompat.from_ndarray"
         }
        ],
        "-8091196920750435287": [
         "235",
         {
          "args": [
           "8214520643793371129",
           "4713779054406638500"
          ],
          "function": "ndarray_getitem"
         }
        ],
        "-8131330774707806306": [
         "15",
         {
          "args": [
           "-3646835284713970130",
           "7703360805233009766",
           "-1113517133611780794"
          ],
          "function": "Maybe.match",
          "type_params": {
           "T": {
            "params": {
             "T": {
              "type": "NDArray"
             },
             "U": {
              "params": {
               "T": {
                "type": "Integer"
               },
               "U": {
                "params": {
                 "T": {
                  "type": "Integer"
                 }
                },
                "type": "Vec"
               }
              },
              "type": "Either"
             }
            },
            "type": "Pair"
           }
          }
         }
        ],
        "-8176140974868566059": [
         "15",
         {
          "args": [
           "-3451474266960427708",
           "-8872082888284644475"
          ],
          "function": "Maybe.map",
          "type_params": {
           "T": {
            "params": {
             "T": {
              "type": "NDArray"
             },
             "U": {
              "params": {
               "T": {
                "type": "Integer"
               },
               "U": {
                "params": {
                 "T": {
                  "type": "Integer"
                 }
                },
                "type": "Vec"
               }
              },
              "type": "Either"
             }
            },
            "type": "Pair"
           }
          }
         }
        ],
        "-8184604631952259109": [
         "153",
         {
          "args": [
           "-3735293377273150709"
          ],
          "function": "Maybe.just",
          "type_params": {
           "T": {
            "params": {
             "T": {
              "type": "Integer"
             },
             "U": {
              "params": {
               "T": {
                "type": "Integer"
               }
              },
              "type": "Vec"
             }
            },
            "type": "Either"
           }
          }
         }
        ],
        "-8185465065670249634": [
         "56",
         {
          "args": [
           "846525187607568697"
          ],
          "function": "NDArrayCompat.from_ndarray"
         }
        ],
        "-8198730976529737244": [
         "15",
         {
          "args": [
           "4151555116808070765",
           "-8872082888284644475"
          ],
          "function": "Maybe.map",
          "type_params": {
           "T": {
            "params": {
             "T": {
              "type": "NDArray"
             },
             "U": {
              "params": {
               "T": {
                "type": "Integer"
               },
               "U": {
                "params": {
                 "T": {
                  "type": "Integer"
                 }
                },
                "type": "Vec"
               }
              },
              "type": "Either"
             }
            },
            "type": "Pair"
           }
          }
         }
        ],
        "-8212135172233348146": [
         "125",
         {
          "repr": "Maybe.just",
          "type": "BoundInfer"
         }
        ],
        "-8290275346298956274": [
         "74",
         {
          "args": [
           "-3311216230674443042",
           "-71907873773769076"
          ],
          "function": "Maybe.__and__",
          "type_params": {
           "T": {
            "type": "NDArray"
           }
          }
         }
        ],
        "-830868406431143682": [
         "84",
         {
          "args": [
           "-8943270035964787178",
           "-8872082888284644475"
          ],
          "function": "Abstraction.__add__",
          "type_params": {
           "T": {
            "type": "NDArray"
           },
           "U": {
            "params": {
             "T": {
              "type": "NDArray"
             }
            },
            "type": "Maybe"
           }
          }
         }
        ],
        "-8424105716442181051": [
         "4",
         {
          "args": [
           "-663116695612547538"
          ],
          "function": "NDArrayCompat.from_ndarray"
         }
        ],
        "-8528065363637824808": [
         "4",
         {
          "args": [
           "-5375311378463442255"
          ],
          "function": "NDArrayCompat.from_ndarray"
         }
        ],
        "-8553986771623801589": [
         "72",
         {
          "args": [
           "-5383112508657625409",
           "-4399158014625666932",
           "-4330216193765395707"
          ],
          "function": "Maybe.match",
          "type_params": {
           "T": {
            "params": {
             "T": {
              "type": "Integer"
             }
            },
            "type": "Vec"
           }
          }
         }
        ],
        "-8568434642149767442": [
         "73",
         {
          "args": [
           "-4269344161181253656",
           "-8553986771623801589"
          ],
          "function": "Maybe.__or__",
          "type_params": {
           "T": {
            "params": {
             "T": {
              "type": "Integer"
             },
             "U": {
              "params": {
               "T": {
                "type": "Integer"
               }
              },
              "type": "Vec"
             }
            },
            "type": "Either"
           }
          }
         }
        ],
        "-8634884104556185640": [
         "4",
         {
          "args": [
           "5669225754449520557"
          ],
          "function": "NDArrayCompat.from_ndarray"
         }
        ],
        "-8855158067717844314": [
         "15",
         {
          "args": [
           "-7064802824409813048",
           "7703360805233009766",
           "-1113517133611780794"
          ],
          "function": "Maybe.match",
          "type_params": {
           "T": {
            "params": {
             "T": {
              "type": "NDArray"
             },
             "U": {
              "params": {
               "T": {
                "type": "Integer"
               },
               "U": {
                "params": {
                 "T": {
                  "type": "Integer"
                 }
                },
                "type": "Vec"
               }
              },
              "type": "Either"
             }
            },
            "type": "Pair"
           }
          }
         }
        ],
        "-8872082888284644475": [
         "83",
         {
          "args": [
           "6292453169213071641",
           "-4551867775753642953"
          ],
          "function": "Abstraction.create",
          "type_params": {
           "T": {
            "params": {
             "T": {
              "type": "NDArray"
             },
             "U": {
              "params": {
               "T": {
                "type": "Integer"
               },
               "U": {
                "params": {
                 "T": {
                  "type": "Integer"
                 }
                },
                "type": "Vec"
               }
              },
              "type": "Either"
             }
            },
            "type": "Pair"
           },
           "U": {
            "type": "NDArray"
           }
          }
         }
        ],
        "-8943270035964787178": [
         "126",
         {
          "args": [
           "-8212135172233348146"
          ],
          "function": "Abstraction.from_fn"
         }
        ],
        "-8981835128105687521": [
         "184",
         {
          "repr": "Variable(4615918368)",
          "type": "Variable"
         }
        ],
        "-8981835134139681871": [
         "134",
         {
          "repr": "Variable(4615880320)",
          "type": "Variable"
         }
        ],
        "-8981835151341004121": [
         "146",
         {
          "repr": "Variable(4616658336)",
          "type": "Variable"
         }
        ],
        "-9020732879549574696": [
         "55",
         {
          "args": [
           "9094274569454627144"
          ],
          "function": "Maybe.just",
          "type_params": {
           "T": {
            "type": "NDArray"
           }
          }
         }
        ],
        "-9072127489141282007": [
         "227",
         {
          "args": [
           "947484561583250117",
           "947484561583250117"
          ],
          "function": "NDArray.__add__"
         }
        ],
        "-9111838950886655366": [
         "11",
         {
          "args": [
           "4713779054406638500"
          ],
          "function": "Converter.convert",
          "type_params": {
           "T": {
            "params": {
             "T": {
              "type": "Integer"
             },
             "U": {
              "params": {
               "T": {
                "type": "Integer"
               }
              },
              "type": "Vec"
             }
            },
            "type": "Either"
           }
          }
         }
        ],
        "-925967518873523857": [
         "116",
         {
          "args": [
           "-4649256587560651910"
          ],
          "function": "Maybe.just"
         }
        ],
        "1033551087041947658": [
         "56",
         {
          "args": [
           "-9020732879549574696"
          ],
          "function": "NDArrayCompat.from_ndarray"
         }
        ],
        "1193603216482933380": [
         "209",
         {
          "args": [
           "3015517905768064073",
           "-1208112746975233409"
          ],
          "function": "NDArray.__getitem__"
         }
        ],
        "124322056284817391": [
         "57",
         {
          "args": [
           "3983258972280835668",
           "3983258972280835668"
          ],
          "function": "NDArrayCompat.__add__"
         }
        ],
        "124345297713240916": [
         "73",
         {
          "args": [
           "2251776250973385170",
           "1997699398604894217"
          ],
          "function": "Maybe.__or__",
          "type_params": {
           "T": {
            "params": {
             "T": {
              "type": "Integer"
             },
             "U": {
              "params": {
               "T": {
                "type": "Integer"
               }
              },
              "type": "Vec"
             }
            },
            "type": "Either"
           }
          }
         }
        ],
        "1549957452510273324": [
         "73",
         {
          "args": [
           "3585684849375043129",
           "1997699398604894217"
          ],
          "function": "Maybe.__or__",
          "type_params": {
           "T": {
            "params": {
             "T": {
              "type": "Integer"
             },
             "U": {
              "params": {
               "T": {
                "type": "Integer"
               }
              },
              "type": "Vec"
             }
            },
            "type": "Either"
           }
          }
         }
        ],
        "1626833711022383777": [
         "20",
         {
          "args": [
           "-3043571545640663641",
           "-7374914931223919067"
          ],
          "function": "Maybe.map",
          "type_params": {
           "T": {
            "type": "Integer"
           }
          }
         }
        ],
        "1714306252099673720": [
         "5",
         {
          "args": [
           "5329831503584105886"
          ],
          "function": "NDArrayCompat.to_ndarray"
         }
        ],
        "1746017672083347074": [
         "66",
         {
          "args": [
           "-401208281684126735",
           "830260340471481657"
          ],
          "function": "Abstraction.__call__",
          "type_params": {
           "T": {
            "type": "Integer"
           },
           "U": {
            "params": {
             "T": {
              "params": {
               "T": {
                "type": "Integer"
               },
               "U": {
                "params": {
                 "T": {
                  "type": "Integer"
                 }
                },
                "type": "Vec"
               }
              },
              "type": "Either"
             }
            },
            "type": "Maybe"
           }
          }
         }
        ],
        "1951234376881206017": [
         "5",
         {
          "repr": "10",
          "type": "int64"
         }
        ],
        "197716354574705964": [
         "106",
         {
          "args": [
           "2814644451134350872"
          ],
          "function": "Abstraction.from_fn"
         }
        ],
        "1997699398604894217": [
         "72",
         {
          "args": [
           "-5383112508657625409",
           "-4399158014625666932",
           "3962583354239419705"
          ],
          "function": "Maybe.match",
          "type_params": {
           "T": {
            "params": {
             "T": {
              "type": "Integer"
             }
            },
            "type": "Vec"
           }
          }
         }
        ],
        "2071814520474456396": [
         "162",
         {
          "args": [
           "-3501837872716648179"
          ],
          "function": "arange_"
         }
        ],
        "2074011151790556785": [
         "5",
         {
          "args": [
           "-4970196529013524285",
           "-4970196529013524285"
          ],
          "function": "ndarray_add"
         }
        ],
        "2150129084287880468": [
         "138",
         {
          "args": [
           "241536666332769887"
          ],
          "function": "Abstraction.create_variable",
          "type_params": {
           "T": {
            "type": "NDArray"
           },
           "U": {
            "params": {
             "T": {
              "type": "NDArray"
             }
            },
            "type": "Maybe"
           }
          }
         }
        ],
        "2157616255500305231": [
         "57",
         {
          "args": [
           "-8185465065670249634",
           "-8185465065670249634"
          ],
          "function": "NDArrayCompat.__add__"
         }
        ],
        "2251776250973385170": [
         "66",
         {
          "args": [
           "-1208112746975233409"
          ],
          "function": "Maybe.just",
          "type_params": {
           "T": {
            "params": {
             "T": {
              "type": "Integer"
             },
             "U": {
              "params": {
               "T": {
                "type": "Integer"
               }
              },
              "type": "Vec"
             }
            },
            "type": "Either"
           }
          }
         }
        ],
        "227340298487089036": [
         "9",
         {
          "args": [
           "2957685491773201289"
          ],
          "function": "Converter.convert",
          "type_params": {
           "T": {
            "type": "NDArray"
           }
          }
         }
        ],
        "2385353218680066673": [
         "111",
         {
          "args": [
           "6418704062862102227",
           "-8184604631952259109"
          ],
          "function": "Abstraction.create"
         }
        ],
        "2391294082487331790": [
         "207",
         {
          "args": [
           "-4378767735171885778"
          ],
          "function": "Pair.left",
          "type_params": {
           "T": {
            "type": "NDArray"
           },
           "U": {
            "params": {
             "T": {
              "type": "Integer"
             },
             "U": {
              "params": {
               "T": {
                "type": "Integer"
               }
              },
              "type": "Vec"
             }
            },
            "type": "Either"
           }
          }
         }
        ],
        "241536666332769887": [
         "137",
         {
          "repr": "Variable(4615704360)",
          "type": "Variable"
         }
        ],
        "241536667079712137": [
         "160",
         {
          "repr": "Variable(4615819784)",
          "type": "Variable"
         }
        ],
        "241536669850976137": [
         "150",
         {
          "repr": "Variable(4615778824)",
          "type": "Variable"
         }
        ],
        "2499600319169912869": [
         "15",
         {
          "args": [
           "-6750366847559074342",
           "-5672452219884111515"
          ],
          "function": "Maybe.map",
          "type_params": {
           "T": {
            "params": {
             "T": {
              "type": "NDArray"
             },
             "U": {
              "params": {
               "T": {
                "type": "Integer"
               },
               "U": {
                "params": {
                 "T": {
                  "type": "Integer"
                 }
                },
                "type": "Vec"
               }
              },
              "type": "Either"
             }
            },
            "type": "Pair"
           }
          }
         }
        ],
        "255657516615531472": [
         "58",
         {
          "args": [
           "-4056384918910903929"
          ],
          "function": "Converter.convert",
          "type_params": {
           "T": {
            "type": "NDArray"
           }
          }
         }
        ],
        "2608566627276374590": [
         "149",
         {
          "args": [
           "3965131456701341370"
          ],
          "function": "Maybe.just",
          "type_params": {
           "T": {
            "params": {
             "T": {
              "type": "Integer"
             },
             "U": {
              "params": {
               "T": {
                "type": "Integer"
               }
              },
              "type": "Vec"
             }
            },
            "type": "Either"
           }
          }
         }
        ],
        "2814644451134350872": [
         "105",
         {
          "repr": "Maybe.just",
          "type": "BoundInfer"
         }
        ],
        "2819905678209689071": [
         "5",
         {
          "args": [
           "3736494866601926666"
          ],
          "function": "NDArrayCompat.to_ndarray"
         }
        ],
        "2847004915641090065": [
         "4",
         {
          "args": [
           "4609120385687340953"
          ],
          "function": "NDArrayCompat.from_ndarray"
         }
        ],
        "2939606338730852153": [
         "131",
         {
          "args": [
           "-8943270035964787178",
           "-5510006758119855787"
          ],
          "function": "Abstraction.__add__",
          "type_params": {
           "T": {
            "type": "NDArray"
           },
           "U": {
            "params": {
             "T": {
              "type": "NDArray"
             }
            },
            "type": "Maybe"
           }
          }
         }
        ],
        "2957685491773201289": [
         "8",
         {
          "args": [
           "-2588923867463876411",
           "-2588923867463876411"
          ],
          "function": "NDArrayCompat.__add__"
         }
        ],
        "2985219241476842817": [
         "12",
         {
          "args": [
           "3919409559600014478",
           "9116537386611357020"
          ],
          "function": "Maybe.__and__",
          "type_params": {
           "T": {
            "type": "NDArray"
           }
          }
         }
        ],
        "3011704564372108511": [
         "58",
         {
          "args": [
           "620191938697360669"
          ],
          "function": "Converter.convert",
          "type_params": {
           "T": {
            "type": "NDArray"
           }
          }
         }
        ],
        "3015224123855205996": [
         "5",
         {
          "args": [
           "-6772911694610227722"
          ],
          "function": "NDArrayCompat.to_ndarray"
         }
        ],
        "3015517905768064073": [
         "207",
         {
          "args": [
           "9094274569454627144",
           "9094274569454627144"
          ],
          "function": "NDArray.__add__"
         }
        ],
        "3062118109397360097": [
         "15",
         {
          "args": [
           "-6235675341913466514",
           "7703360805233009766",
           "-830868406431143682"
          ],
          "function": "Maybe.match",
          "type_params": {
           "T": {
            "params": {
             "T": {
              "type": "NDArray"
             },
             "U": {
              "params": {
               "T": {
                "type": "Integer"
               },
               "U": {
                "params": {
                 "T": {
                  "type": "Integer"
                 }
                },
                "type": "Vec"
               }
              },
              "type": "Either"
             }
            },
            "type": "Pair"
           }
          }
         }
        ],
        "3132569672370359433": [
         "12",
         {
          "args": [
           "3919409559600014478",
           "-9111838950886655366"
          ],
          "function": "Maybe.__and__",
          "type_params": {
           "T": {
            "type": "NDArray"
           }
          }
         }
        ],
        "3165603841891390426": [
         "15",
         {
          "args": [
           "8044909288445086102",
           "7703360805233009766",
           "-1113517133611780794"
          ],
          "function": "Maybe.match",
          "type_params": {
           "T": {
            "params": {
             "T": {
              "type": "NDArray"
             },
             "U": {
              "params": {
               "T": {
                "type": "Integer"
               },
               "U": {
                "params": {
                 "T": {
                  "type": "Integer"
                 }
                },
                "type": "Vec"
               }
              },
              "type": "Either"
             }
            },
            "type": "Pair"
           }
          }
         }
        ],
        "3436521316042976843": [
         "15",
         {
          "args": [
           "2985219241476842817",
           "-5672452219884111515"
          ],
          "function": "Maybe.map",
          "type_params": {
           "T": {
            "params": {
             "T": {
              "type": "NDArray"
             },
             "U": {
              "params": {
               "T": {
                "type": "Integer"
               },
               "U": {
                "params": {
                 "T": {
                  "type": "Integer"
                 }
                },
                "type": "Vec"
               }
              },
              "type": "Either"
             }
            },
            "type": "Pair"
           }
          }
         }
        ],
        "3585684849375043129": [
         "66",
         {
          "args": [
           "2385353218680066673",
           "830260340471481657"
          ],
          "function": "Abstraction.__call__",
          "type_params": {
           "T": {
            "type": "Integer"
           },
           "U": {
            "params": {
             "T": {
              "params": {
               "T": {
                "type": "Integer"
               },
               "U": {
                "params": {
                 "T": {
                  "type": "Integer"
                 }
                },
                "type": "Vec"
               }
              },
              "type": "Either"
             }
            },
            "type": "Maybe"
           }
          }
         }
        ],
        "3736494866601926666": [
         "4",
         {
          "args": [
           "-6385945437861283369"
          ],
          "function": "NDArrayCompat.from_ndarray"
         }
        ],
        "3822845652799715414": [
         "208",
         {
          "args": [
           "-4378767735171885778"
          ],
          "function": "Pair.right",
          "type_params": {
           "T": {
            "type": "NDArray"
           },
           "U": {
            "params": {
             "T": {
              "type": "Integer"
             },
             "U": {
              "params": {
               "T": {
                "type": "Integer"
               }
              },
              "type": "Vec"
             }
            },
            "type": "Either"
           }
          }
         }
        ],
        "3824742879323872396": [
         "5",
         {
          "args": [
           "490912443843814804"
          ],
          "function": "NDArrayCompat.to_ndarray"
         }
        ],
        "3866698988032664827": [
         "56",
         {
          "args": [
           "-7207783109661565205"
          ],
          "function": "NDArrayCompat.from_ndarray"
         }
        ],
        "3897712537135950527": [
         "22",
         {
          "repr": "Either.right",
          "type": "BoundInfer"
         }
        ],
        "3919409559600014478": [
         "9",
         {
          "args": [
           "8829142351054292861"
          ],
          "function": "Converter.convert",
          "type_params": {
           "T": {
            "type": "NDArray"
           }
          }
         }
        ],
        "3962583354239419705": [
         "93",
         {
          "args": [
           "-6427786465027000350",
           "2608566627276374590"
          ],
          "function": "Abstraction.create"
         }
        ],
        "3965131456701341370": [
         "148",
         {
          "args": [
           "-6427786465027000350"
          ],
          "function": "Either.right",
          "type_params": {
           "T": {
            "type": "Integer"
           },
           "U": {
            "params": {
             "T": {
              "type": "Integer"
             }
            },
            "type": "Vec"
           }
          }
         }
        ],
        "3983258972280835668": [
         "56",
         {
          "args": [
           "468805054980003995"
          ],
          "function": "NDArrayCompat.from_ndarray"
         }
        ],
        "4011912659594460074": [
         "74",
         {
          "args": [
           "255657516615531472",
           "7014446882591719652"
          ],
          "function": "Maybe.__and__",
          "type_params": {
           "T": {
            "type": "NDArray"
           }
          }
         }
        ],
        "4045457407901259099": [
         "5",
         {
          "args": [
           "-7310615341123847291",
           "-7310615341123847291"
          ],
          "function": "ndarray_add"
         }
        ],
        "4151555116808070765": [
         "12",
         {
          "args": [
           "227340298487089036",
           "8707533822291393287"
          ],
          "function": "Maybe.__and__",
          "type_params": {
           "T": {
            "type": "NDArray"
           }
          }
         }
        ],
        "4172349909600475366": [
         "5",
         {
          "args": [
           "4989527764430994932"
          ],
          "function": "NDArrayCompat.to_ndarray"
         }
        ],
        "421423557119156493": [
         "9",
         {
          "args": [
           "-1947520936561189353"
          ],
          "function": "Converter.convert",
          "type_params": {
           "T": {
            "type": "NDArray"
           }
          }
         }
        ],
        "426896189218247103": [
         "5",
         {
          "args": [
           "-7253558197686079074"
          ],
          "function": "NDArrayCompat.to_ndarray"
         }
        ],
        "4427150626539328323": [
         "15",
         {
          "args": [
           "3132569672370359433",
           "-5672452219884111515"
          ],
          "function": "Maybe.map",
          "type_params": {
           "T": {
            "params": {
             "T": {
              "type": "NDArray"
             },
             "U": {
              "params": {
               "T": {
                "type": "Integer"
               },
               "U": {
                "params": {
                 "T": {
                  "type": "Integer"
                 }
                },
                "type": "Vec"
               }
              },
              "type": "Either"
             }
            },
            "type": "Pair"
           }
          }
         }
        ],
        "4494230571755994461": [
         "5",
         {
          "args": [
           "-5164403356915468461"
          ],
          "function": "NDArrayCompat.to_ndarray"
         }
        ],
        "4563710831724426925": [
         "73",
         {
          "args": [
           "-4269344161181253656",
           "-4549680217207104910"
          ],
          "function": "Maybe.__or__",
          "type_params": {
           "T": {
            "params": {
             "T": {
              "type": "Integer"
             },
             "U": {
              "params": {
               "T": {
                "type": "Integer"
               }
              },
              "type": "Vec"
             }
            },
            "type": "Either"
           }
          }
         }
        ],
        "4575128221522602788": [
         "73",
         {
          "args": [
           "1746017672083347074",
           "1997699398604894217"
          ],
          "function": "Maybe.__or__",
          "type_params": {
           "T": {
            "params": {
             "T": {
              "type": "Integer"
             },
             "U": {
              "params": {
               "T": {
                "type": "Integer"
               }
              },
              "type": "Vec"
             }
            },
            "type": "Either"
           }
          }
         }
        ],
        "4609120385687340953": [
         "15",
         {
          "args": [
           "-7294007499446075566",
           "-8872082888284644475"
          ],
          "function": "Maybe.map",
          "type_params": {
           "T": {
            "params": {
             "T": {
              "type": "NDArray"
             },
             "U": {
              "params": {
               "T": {
                "type": "Integer"
               },
               "U": {
                "params": {
                 "T": {
                  "type": "Integer"
                 }
                },
                "type": "Vec"
               }
              },
              "type": "Either"
             }
            },
            "type": "Pair"
           }
          }
         }
        ],
        "4656381298025305191": [
         "5",
         {
          "args": [
           "-6007750462670501723"
          ],
          "function": "NDArrayCompat.to_ndarray"
         }
        ],
        "468805054980003995": [
         "55",
         {
          "args": [
           "-2073976544615576127",
           "-4649256587560651910"
          ],
          "function": "Abstraction.__call__",
          "type_params": {
           "T": {
            "type": "Integer"
           },
           "U": {
            "params": {
             "T": {
              "type": "NDArray"
             }
            },
            "type": "Maybe"
           }
          }
         }
        ],
        "4713779054301633575": [
         "248",
         {
          "repr": "100",
          "type": "int"
         }
        ],
        "4713779054406638500": [
         "243",
         {
          "repr": "5",
          "type": "int"
         }
        ],
        "4714054997383813350": [
         "13",
         {
          "repr": "<function NDArrayCompat.__getitem__.<locals>.<lambda> at 0x112ef1ae8>",
          "type": "function"
         }
        ],
        "4858820127256438319": [
         "15",
         {
          "args": [
           "4151555116808070765",
           "-5672452219884111515"
          ],
          "function": "Maybe.map",
          "type_params": {
           "T": {
            "params": {
             "T": {
              "type": "NDArray"
             },
             "U": {
              "params": {
               "T": {
                "type": "Integer"
               },
               "U": {
                "params": {
                 "T": {
                  "type": "Integer"
                 }
                },
                "type": "Vec"
               }
              },
              "type": "Either"
             }
            },
            "type": "Pair"
           }
          }
         }
        ],
        "490912443843814804": [
         "4",
         {
          "args": [
           "3165603841891390426"
          ],
          "function": "NDArrayCompat.from_ndarray"
         }
        ],
        "4955587294423906225": [
         "72",
         {
          "args": [
           "-5383112508657625409",
           "-4399158014625666932",
           "-540122324211131774"
          ],
          "function": "Maybe.match",
          "type_params": {
           "T": {
            "params": {
             "T": {
              "type": "Integer"
             }
            },
            "type": "Vec"
           }
          }
         }
        ],
        "4989527764430994932": [
         "4",
         {
          "args": [
           "7049724777652958840"
          ],
          "function": "NDArrayCompat.from_ndarray"
         }
        ],
        "5129398987665143895": [
         "74",
         {
          "args": [
           "-7283824615062444208",
           "-2406204656795444040"
          ],
          "function": "Maybe.__and__",
          "type_params": {
           "T": {
            "type": "NDArray"
           }
          }
         }
        ],
        "5144707806795626439": [
         "5",
         {
          "args": [
           "-4772296246081327995"
          ],
          "function": "NDArrayCompat.to_ndarray"
         }
        ],
        "5307281808001279330": [
         "5",
         {
          "args": [
           "-2762840990310922925"
          ],
          "function": "NDArrayCompat.to_ndarray"
         }
        ],
        "5329831503584105886": [
         "4",
         {
          "args": [
           "-3385854698423233158"
          ],
          "function": "NDArrayCompat.from_ndarray"
         }
        ],
        "5669225754449520557": [
         "15",
         {
          "args": [
           "6504051178702998633",
           "-8872082888284644475"
          ],
          "function": "Maybe.map",
          "type_params": {
           "T": {
            "params": {
             "T": {
              "type": "NDArray"
             },
             "U": {
              "params": {
               "T": {
                "type": "Integer"
               },
               "U": {
                "params": {
                 "T": {
                  "type": "Integer"
                 }
                },
                "type": "Vec"
               }
              },
              "type": "Either"
             }
            },
            "type": "Pair"
           }
          }
         }
        ],
        "5853128254907136721": [
         "5",
         {
          "args": [
           "-8528065363637824808"
          ],
          "function": "NDArrayCompat.to_ndarray"
         }
        ],
        "5856787990280495453": [
         "5",
         {
          "args": [
           "-5447210860979477677"
          ],
          "function": "NDArrayCompat.to_ndarray"
         }
        ],
        "5864740952301781406": [
         "15",
         {
          "args": [
           "-4293313621705056232",
           "-5672452219884111515"
          ],
          "function": "Maybe.map",
          "type_params": {
           "T": {
            "params": {
             "T": {
              "type": "NDArray"
             },
             "U": {
              "params": {
               "T": {
                "type": "Integer"
               },
               "U": {
                "params": {
                 "T": {
                  "type": "Integer"
                 }
                },
                "type": "Vec"
               }
              },
              "type": "Either"
             }
            },
            "type": "Pair"
           }
          }
         }
        ],
        "611072862449565967": [
         "5",
         {
          "args": [
           "-6666006680207665747"
          ],
          "function": "NDArrayCompat.to_ndarray"
         }
        ],
        "620191938697360669": [
         "57",
         {
          "args": [
           "1033551087041947658",
           "1033551087041947658"
          ],
          "function": "NDArrayCompat.__add__"
         }
        ],
        "6290386455703425552": [
         "5",
         {
          "args": [
           "6694844492627808726"
          ],
          "function": "NDArrayCompat.to_ndarray"
         }
        ],
        "6292453169213071641": [
         "185",
         {
          "args": [
           "-8981835128105687521"
          ],
          "function": "Abstraction.create_variable",
          "type_params": {
           "T": {
            "params": {
             "T": {
              "type": "NDArray"
             },
             "U": {
              "params": {
               "T": {
                "type": "Integer"
               },
               "U": {
                "params": {
                 "T": {
                  "type": "Integer"
                 }
                },
                "type": "Vec"
               }
              },
              "type": "Either"
             }
            },
            "type": "Pair"
           },
           "U": {
            "type": "NDArray"
           }
          }
         }
        ],
        "6293067906089160797": [
         "235",
         {
          "args": [
           "-6708565899743828771",
           "6674882009630327653"
          ],
          "function": "ndarray_getitem"
         }
        ],
        "6307290233721499832": [
         "4",
         {
          "args": [
           "-708920172235396273"
          ],
          "function": "NDArrayCompat.from_ndarray"
         }
        ],
        "6359347103342393028": [
         "15",
         {
          "args": [
           "-3229292437377647605",
           "7703360805233009766",
           "8807774677597074080"
          ],
          "function": "Maybe.match",
          "type_params": {
           "T": {
            "params": {
             "T": {
              "type": "NDArray"
             },
             "U": {
              "params": {
               "T": {
                "type": "Integer"
               },
               "U": {
                "params": {
                 "T": {
                  "type": "Integer"
                 }
                },
                "type": "Vec"
               }
              },
              "type": "Either"
             }
            },
            "type": "Pair"
           }
          }
         }
        ],
        "6418704062862102227": [
         "151",
         {
          "args": [
           "241536669850976137"
          ],
          "function": "Abstraction.create_variable",
          "type_params": {
           "T": {
            "type": "Integer"
           },
           "U": {
            "params": {
             "T": {
              "type": "Integer"
             },
             "U": {
              "params": {
               "T": {
                "type": "Integer"
               }
              },
              "type": "Vec"
             }
            },
            "type": "Either"
           }
          }
         }
        ],
        "6424166221091356660": [
         "15",
         {
          "args": [
           "-5203245390827314191",
           "7703360805233009766",
           "-1113517133611780794"
          ],
          "function": "Maybe.match",
          "type_params": {
           "T": {
            "params": {
             "T": {
              "type": "NDArray"
             },
             "U": {
              "params": {
               "T": {
                "type": "Integer"
               },
               "U": {
                "params": {
                 "T": {
                  "type": "Integer"
                 }
                },
                "type": "Vec"
               }
              },
              "type": "Either"
             }
            },
            "type": "Pair"
           }
          }
         }
        ],
        "6462406003319768445": [
         "5",
         {
          "args": [
           "-2557443474507310094"
          ],
          "function": "NDArrayCompat.to_ndarray"
         }
        ],
        "6504051178702998633": [
         "12",
         {
          "args": [
           "227340298487089036",
           "4563710831724426925"
          ],
          "function": "Maybe.__and__",
          "type_params": {
           "T": {
            "type": "NDArray"
           }
          }
         }
        ],
        "6512425299397420152": [
         "5",
         {
          "args": [
           "-7740662778058975325"
          ],
          "function": "NDArrayCompat.to_ndarray"
         }
        ],
        "6626568121082905148": [
         "4",
         {
          "args": [
           "-8855158067717844314"
          ],
          "function": "NDArrayCompat.from_ndarray"
         }
        ],
        "6629873243390779564": [
         "31",
         {
          "args": [
           "-925967518873523857",
           "-4678502709838927428"
          ],
          "function": "Maybe.map",
          "type_params": {
           "T": {
            "type": "Integer"
           }
          }
         }
        ],
        "6674882009630327653": [
         "243",
         {
          "args": [
           "830260340471481657"
          ],
          "function": "unbox_integer"
         }
        ],
        "6694844492627808726": [
         "4",
         {
          "args": [
           "-5871320286366479661"
          ],
          "function": "NDArrayCompat.from_ndarray"
         }
        ],
        "6887897455744159115": [
         "239",
         {
          "args": [
           "8744454737154277936"
          ],
          "function": "arange"
         }
        ],
        "6963509098467460201": [
         "5",
         {
          "args": [
           "-6708922443786051569"
          ],
          "function": "NDArrayCompat.to_ndarray"
         }
        ],
        "6977666340162912341": [
         "58",
         {
          "args": [
           "124322056284817391"
          ],
          "function": "Converter.convert",
          "type_params": {
           "T": {
            "type": "NDArray"
           }
          }
         }
        ],
        "7014446882591719652": [
         "73",
         {
          "args": [
           "-727242133714931491",
           "-8553986771623801589"
          ],
          "function": "Maybe.__or__",
          "type_params": {
           "T": {
            "params": {
             "T": {
              "type": "Integer"
             },
             "U": {
              "params": {
               "T": {
                "type": "Integer"
               }
              },
              "type": "Vec"
             }
            },
            "type": "Either"
           }
          }
         }
        ],
        "7049724777652958840": [
         "15",
         {
          "args": [
           "4011912659594460074",
           "7703360805233009766",
           "-830868406431143682"
          ],
          "function": "Maybe.match",
          "type_params": {
           "T": {
            "params": {
             "T": {
              "type": "NDArray"
             },
             "U": {
              "params": {
               "T": {
                "type": "Integer"
               },
               "U": {
                "params": {
                 "T": {
                  "type": "Integer"
                 }
                },
                "type": "Vec"
               }
              },
              "type": "Either"
             }
            },
            "type": "Pair"
           }
          }
         }
        ],
        "7121933262031515661": [
         "57",
         {
          "args": [
           "-4674515641938184544",
           "-4674515641938184544"
          ],
          "function": "NDArrayCompat.__add__"
         }
        ],
        "7196192257319487230": [
         "66",
         {
          "args": [
           "-4691553863178753990",
           "-4399158014625666932",
           "85565400163395998"
          ],
          "function": "Maybe.match",
          "type_params": {
           "T": {
            "type": "Integer"
           }
          }
         }
        ],
        "7200257852860797878": [
         "74",
         {
          "args": [
           "917422250035403493",
           "-71907873773769076"
          ],
          "function": "Maybe.__and__",
          "type_params": {
           "T": {
            "type": "NDArray"
           }
          }
         }
        ],
        "7421814419874415906": [
         "5",
         {
          "args": [
           "2847004915641090065"
          ],
          "function": "NDArrayCompat.to_ndarray"
         }
        ],
        "7511559439157003604": [
         "4",
         {
          "args": [
           "-8131330774707806306"
          ],
          "function": "NDArrayCompat.from_ndarray"
         }
        ],
        "7585722022179764025": [
         "4",
         {
          "args": [
           "3062118109397360097"
          ],
          "function": "NDArrayCompat.from_ndarray"
         }
        ],
        "7703360805233009766": [
         "117",
         {
          "function": "Maybe.nothing",
          "type_params": {
           "T": {
            "type": "NDArray"
           }
          }
         }
        ],
        "7784935797543539434": [
         "5",
         {
          "args": [
           "6307290233721499832"
          ],
          "function": "NDArrayCompat.to_ndarray"
         }
        ],
        "782881483963374375": [
         "4",
         {
          "args": [
           "4427150626539328323"
          ],
          "function": "NDArrayCompat.from_ndarray"
         }
        ],
        "7932302284598831019": [
         "131",
         {
          "args": [
           "-7033444072866663280",
           "-5510006758119855787"
          ],
          "function": "Abstraction.__add__",
          "type_params": {
           "T": {
            "type": "NDArray"
           },
           "U": {
            "params": {
             "T": {
              "type": "NDArray"
             }
            },
            "type": "Maybe"
           }
          }
         }
        ],
        "7966575061853914934": [
         "136",
         {
          "args": [
           "-5597344834478047963"
          ],
          "function": "Maybe.just",
          "type_params": {
           "T": {
            "params": {
             "T": {
              "type": "Integer"
             },
             "U": {
              "params": {
               "T": {
                "type": "Integer"
               }
              },
              "type": "Vec"
             }
            },
            "type": "Either"
           }
          }
         }
        ],
        "8041717448431328708": [
         "28",
         {
          "args": [
           "4713779054301633575"
          ],
          "function": "Converter.convert",
          "type_params": {
           "T": {
            "type": "Integer"
           }
          }
         }
        ],
        "8044909288445086102": [
         "74",
         {
          "args": [
           "-4378767735171885778"
          ],
          "function": "Maybe.just"
         }
        ],
        "8128193661721879441": [
         "24",
         {
          "args": [
           "-5383112508657625409",
           "-6657176820575257679"
          ],
          "function": "Maybe.map",
          "type_params": {
           "T": {
            "params": {
             "T": {
              "type": "Integer"
             }
            },
            "type": "Vec"
           }
          }
         }
        ],
        "8214520643793371129": [
         "239",
         {
          "args": [
           "4713779054301633575"
          ],
          "function": "arange"
         }
        ],
        "8220634548590704800": [
         "110",
         {
          "args": [
           "6418704062862102227",
           "-3735293377273150709"
          ],
          "function": "Abstraction.create",
          "type_params": {
           "T": {
            "type": "Integer"
           },
           "U": {
            "params": {
             "T": {
              "type": "Integer"
             },
             "U": {
              "params": {
               "T": {
                "type": "Integer"
               }
              },
              "type": "Vec"
             }
            },
            "type": "Either"
           }
          }
         }
        ],
        "8293204708488526479": [
         "5",
         {
          "args": [
           "-480737033922099036",
           "-480737033922099036"
          ],
          "function": "ndarray_add"
         }
        ],
        "830260340471481657": [
         "245",
         {
          "args": [
           "4713779054406638500"
          ],
          "function": "Integer.from_int"
         }
        ],
        "8383610624223356529": [
         "5",
         {
          "args": [
           "-1394110507847108417",
           "-1394110507847108417"
          ],
          "function": "ndarray_add"
         }
        ],
        "846525187607568697": [
         "55",
         {
          "args": [
           "-925967518873523857",
           "7703360805233009766",
           "2939606338730852153"
          ],
          "function": "Maybe.match",
          "type_params": {
           "T": {
            "type": "Integer"
           }
          }
         }
        ],
        "8501027944732289469": [
         "4",
         {
          "args": [
           "6359347103342393028"
          ],
          "function": "NDArrayCompat.from_ndarray"
         }
        ],
        "8546114497697302659": [
         "74",
         {
          "args": [
           "3011704564372108511",
           "-71907873773769076"
          ],
          "function": "Maybe.__and__",
          "type_params": {
           "T": {
            "type": "NDArray"
           }
          }
         }
        ],
        "85565400163395998": [
         "111",
         {
          "args": [
           "197716354574705964",
           "8220634548590704800"
          ],
          "function": "Abstraction.__add__",
          "type_params": {
           "T": {
            "params": {
             "T": {
              "type": "Integer"
             },
             "U": {
              "params": {
               "T": {
                "type": "Integer"
               }
              },
              "type": "Vec"
             }
            },
            "type": "Either"
           },
           "U": {
            "params": {
             "T": {
              "params": {
               "T": {
                "type": "Integer"
               },
               "U": {
                "params": {
                 "T": {
                  "type": "Integer"
                 }
                },
                "type": "Vec"
               }
              },
              "type": "Either"
             }
            },
            "type": "Maybe"
           }
          }
         }
        ],
        "8707533822291393287": [
         "11",
         {
          "args": [
           "8887545728875557935",
           "8128193661721879441"
          ],
          "function": "Maybe.__or__",
          "type_params": {
           "T": {
            "params": {
             "T": {
              "type": "Integer"
             },
             "U": {
              "params": {
               "T": {
                "type": "Integer"
               }
              },
              "type": "Vec"
             }
            },
            "type": "Either"
           }
          }
         }
        ],
        "8729709324764633035": [
         "15",
         {
          "args": [
           "1193603216482933380"
          ],
          "function": "Maybe.just",
          "type_params": {
           "T": {
            "type": "NDArray"
           }
          }
         }
        ],
        "8744454737154277936": [
         "248",
         {
          "args": [
           "-4649256587560651910"
          ],
          "function": "unbox_integer"
         }
        ],
        "8766929400792285798": [
         "4",
         {
          "args": [
           "-8198730976529737244"
          ],
          "function": "NDArrayCompat.from_ndarray"
         }
        ],
        "8807774677597074080": [
         "84",
         {
          "args": [
           "-7033444072866663280",
           "-8872082888284644475"
          ],
          "function": "Abstraction.__add__",
          "type_params": {
           "T": {
            "type": "NDArray"
           },
           "U": {
            "params": {
             "T": {
              "type": "NDArray"
             }
            },
            "type": "Maybe"
           }
          }
         }
        ],
        "8829142351054292861": [
         "8",
         {
          "args": [
           "-1171015405917996262",
           "-1171015405917996262"
          ],
          "function": "NDArrayCompat.__add__"
         }
        ],
        "8847362646620807121": [
         "5",
         {
          "args": [
           "-8634884104556185640"
          ],
          "function": "NDArrayCompat.to_ndarray"
         }
        ],
        "8887545728875557935": [
         "20",
         {
          "args": [
           "-4691553863178753990",
           "-7374914931223919067"
          ],
          "function": "Maybe.map",
          "type_params": {
           "T": {
            "type": "Integer"
           }
          }
         }
        ],
        "8941328756889403515": [
         "139",
         {
          "args": [
           "2150129084287880468"
          ],
          "function": "Maybe.just",
          "type_params": {
           "T": {
            "type": "NDArray"
           }
          }
         }
        ],
        "9075105752950842708": [
         "55",
         {
          "args": [
           "7932302284598831019",
           "-4649256587560651910"
          ],
          "function": "Abstraction.__call__",
          "type_params": {
           "T": {
            "type": "Integer"
           },
           "U": {
            "params": {
             "T": {
              "type": "NDArray"
             }
            },
            "type": "Maybe"
           }
          }
         }
        ],
        "9094274569454627144": [
         "238",
         {
          "args": [
           "-4649256587560651910"
          ],
          "function": "arange_"
         }
        ],
        "9116537386611357020": [
         "11",
         {
          "args": [
           "1626833711022383777",
           "8128193661721879441"
          ],
          "function": "Maybe.__or__",
          "type_params": {
           "T": {
            "params": {
             "T": {
              "type": "Integer"
             },
             "U": {
              "params": {
               "T": {
                "type": "Integer"
               }
              },
              "type": "Vec"
             }
            },
            "type": "Either"
           }
          }
         }
        ],
        "917422250035403493": [
         "58",
         {
          "args": [
           "3015517905768064073"
          ],
          "function": "Maybe.just"
         }
        ],
        "938051110261300043": [
         "5",
         {
          "args": [
           "782881483963374375"
          ],
          "function": "NDArrayCompat.to_ndarray"
         }
        ],
        "947484561583250117": [
         "234",
         {
          "args": [
           "9094274569454627144",
           "-1208112746975233409"
          ],
          "function": "NDArray.__getitem__"
         }
        ],
        "975327646540141658": [
         "57",
         {
          "args": [
           "917422250035403493"
          ],
          "function": "NDArrayCompat.from_ndarray"
         }
        ]
       },
       "states": {
        "initial": "-1236185272749818955",
        "states": [
         {
          "node": "938051110261300043",
          "rule": "metadsl_core.numpy.NDArrayCompat.__getitem__"
         },
         {
          "node": "6963509098467460201",
          "rule": "metadsl_core.either.convert_to_either"
         },
         {
          "node": "-6964302811433065846",
          "rule": "metadsl_core.integer.convert_integer"
         },
         {
          "node": "4494230571755994461",
          "rule": "metadsl_core.numpy.arange"
         },
         {
          "node": "3015224123855205996",
          "rule": "metadsl_core.integer.convert_integer"
         },
         {
          "node": "-1114041580159990955",
          "rule": "metadsl_core.abstraction.Abstraction.from_fn"
         },
         {
          "node": "7421814419874415906",
          "rule": "metadsl_core.abstraction.Abstraction.from_fn"
         },
         {
          "node": "8847362646620807121",
          "rule": "metadsl_core.abstraction.Abstraction.from_fn"
         },
         {
          "node": "-1482771421848500021",
          "rule": "metadsl_core.abstraction.Abstraction.from_fn"
         },
         {
          "node": "5144707806795626439",
          "rule": "metadsl_core.maybe.Maybe.map"
         },
         {
          "node": "6290386455703425552",
          "rule": "metadsl_core.maybe.Maybe.map"
         },
         {
          "node": "-1913890841885673392",
          "rule": "metadsl_core.maybe.Maybe.map"
         },
         {
          "node": "-266973439100455150",
          "rule": "metadsl_core.maybe.maybe_match"
         },
         {
          "node": "-3838057642674473132",
          "rule": "metadsl_core.maybe.Maybe.map"
         },
         {
          "node": "4172349909600475366",
          "rule": "metadsl_core.maybe.maybe_match"
         },
         {
          "node": "6512425299397420152",
          "rule": "metadsl_core.abstraction.Abstraction.from_fn"
         },
         {
          "node": "-301393546479120104",
          "rule": "metadsl_core.abstraction.Abstraction.from_fn"
         },
         {
          "node": "5856787990280495453",
          "rule": "metadsl_core.abstraction.compose"
         },
         {
          "node": "611072862449565967",
          "rule": "metadsl_core.abstraction.compose"
         },
         {
          "node": "-172547541710843077",
          "rule": "metadsl_core.abstraction.compose"
         },
         {
          "node": "5307281808001279330",
          "rule": "metadsl_core.abstraction.beta_reduce"
         },
         {
          "node": "-5798884178613778928",
          "rule": "metadsl_core.maybe.maybe_or"
         },
         {
          "node": "426896189218247103",
          "rule": "metadsl_core.abstraction.compose"
         },
         {
          "node": "7784935797543539434",
          "rule": "metadsl_core.abstraction.beta_reduce"
         },
         {
          "node": "-1646123280961522482",
          "rule": "metadsl_core.numpy.add_compat"
         },
         {
          "node": "1714306252099673720",
          "rule": "metadsl_core.numpy.convert_to_ndarray"
         },
         {
          "node": "3824742879323872396",
          "rule": "metadsl_core.maybe.maybe_and"
         },
         {
          "node": "6462406003319768445",
          "rule": "metadsl_core.maybe.maybe_match"
         },
         {
          "node": "-3534020860713457941",
          "rule": "metadsl_core.abstraction.beta_reduce"
         },
         {
          "node": "2819905678209689071",
          "rule": "metadsl_core.pair.pair_right"
         },
         {
          "node": "4656381298025305191",
          "rule": "metadsl_core.pair.pair_left"
         },
         {
          "label": "convert",
          "node": "4656381298025305191",
          "rule": ""
         },
         {
          "node": "5853128254907136721",
          "rule": "__main__.optimize_getitem_add"
         },
         {
          "label": "optimize",
          "node": "5853128254907136721",
          "rule": ""
         },
         {
          "node": "-5060777275490286588",
          "rule": "metadsl_core.numpy.box_unbox_ndarray_compat"
         },
         {
          "node": "2074011151790556785",
          "rule": "metadsl_core.numpy_engine.unbox_ndarray_add"
         },
         {
          "node": "-1224386916651147455",
          "rule": "metadsl_core.numpy_engine.unbox_ndarray_getitem"
         },
         {
          "node": "-3556983189806491727",
          "rule": "metadsl_core.numpy_engine.unbox_idxs_rule"
         },
         {
          "node": "-5745754939498488777",
          "rule": "metadsl_core.numpy_engine.unbox_integer_rule"
         },
         {
          "node": "8293204708488526479",
          "rule": "metadsl_core.numpy_engine.unbox_arange"
         },
         {
          "node": "-7215683733302050805",
          "rule": "metadsl_core.numpy_engine.unbox_integer_rule"
         },
         {
          "label": "unbox",
          "node": "-7215683733302050805",
          "rule": ""
         },
         {
          "node": "8383610624223356529",
          "rule": "metadsl_core.numpy_engine.arange"
         },
         {
          "node": "4045457407901259099",
          "rule": "metadsl_core.numpy_engine.ndarray_getitem"
         },
         {
          "node": "1951234376881206017",
          "rule": "metadsl_core.numpy_engine.ndarray_add"
         },
         {
          "label": "execute",
          "node": "1951234376881206017",
          "rule": ""
         }
        ]
       }
      },
      "text/plain": [
       "Typez(definitions=None, nodes={'4713779054301633575': ['248', PrimitiveNode(type='int', repr='100')], '-1171015405917996262': ['7', CallNode(function='arange', type_params=None, args=['4713779054301633575'], kwargs=None)], '8829142351054292861': ['8', CallNode(function='NDArrayCompat.__add__', type_params=None, args=['-1171015405917996262', '-1171015405917996262'], kwargs=None)], '4713779054406638500': ['243', PrimitiveNode(type='int', repr='5')], '-6875959910507960501': ['4', CallNode(function='NDArrayCompat.__getitem__', type_params=None, args=['8829142351054292861', '4713779054406638500'], kwargs=None)], '-1236185272749818955': ['5', CallNode(function='NDArrayCompat.to_ndarray', type_params=None, args=['-6875959910507960501'], kwargs=None)], '3919409559600014478': ['9', CallNode(function='Converter.convert', type_params={'T': DeclaredTypeInstance(type='NDArray', params=None)}, args=['8829142351054292861'], kwargs=None)], '-9111838950886655366': ['11', CallNode(function='Converter.convert', type_params={'T': DeclaredTypeInstance(type='Either', params={'U': DeclaredTypeInstance(type='Vec', params={'T': DeclaredTypeInstance(type='Integer', params=None)}), 'T': DeclaredTypeInstance(type='Integer', params=None)})}, args=['4713779054406638500'], kwargs=None)], '3132569672370359433': ['12', CallNode(function='Maybe.__and__', type_params={'T': DeclaredTypeInstance(type='NDArray', params=None)}, args=['3919409559600014478', '-9111838950886655366'], kwargs=None)], '4714054997383813350': ['13', PrimitiveNode(type='function', repr='<function NDArrayCompat.__getitem__.<locals>.<lambda> at 0x112ef1ae8>')], '-5672452219884111515': ['14', CallNode(function='Abstraction.from_fn', type_params={'U': DeclaredTypeInstance(type='NDArray', params=None), 'T': DeclaredTypeInstance(type='Pair', params={'U': DeclaredTypeInstance(type='Either', params={'U': DeclaredTypeInstance(type='Vec', params={'T': DeclaredTypeInstance(type='Integer', params=None)}), 'T': DeclaredTypeInstance(type='Integer', params=None)}), 'T': DeclaredTypeInstance(type='NDArray', params=None)})}, args=['4714054997383813350'], kwargs=None)], '4427150626539328323': ['15', CallNode(function='Maybe.map', type_params={'T': DeclaredTypeInstance(type='Pair', params={'U': DeclaredTypeInstance(type='Either', params={'U': DeclaredTypeInstance(type='Vec', params={'T': DeclaredTypeInstance(type='Integer', params=None)}), 'T': DeclaredTypeInstance(type='Integer', params=None)}), 'T': DeclaredTypeInstance(type='NDArray', params=None)})}, args=['3132569672370359433', '-5672452219884111515'], kwargs=None)], '782881483963374375': ['4', CallNode(function='NDArrayCompat.from_ndarray', type_params=None, args=['4427150626539328323'], kwargs=None)], '938051110261300043': ['5', CallNode(function='NDArrayCompat.to_ndarray', type_params=None, args=['782881483963374375'], kwargs=None)], '-3043571545640663641': ['17', CallNode(function='Converter.convert', type_params={'T': DeclaredTypeInstance(type='Integer', params=None)}, args=['4713779054406638500'], kwargs=None)], '-7106220729099446889': ['18', PrimitiveNode(type='BoundInfer', repr='Either.left')], '-7374914931223919067': ['19', CallNode(function='Abstraction.from_fn', type_params=None, args=['-7106220729099446889'], kwargs=None)], '1626833711022383777': ['20', CallNode(function='Maybe.map', type_params={'T': DeclaredTypeInstance(type='Integer', params=None)}, args=['-3043571545640663641', '-7374914931223919067'], kwargs=None)], '-5383112508657625409': ['85', CallNode(function='Converter.convert', type_params={'T': DeclaredTypeInstance(type='Vec', params={'T': DeclaredTypeInstance(type='Integer', params=None)})}, args=['4713779054406638500'], kwargs=None)], '3897712537135950527': ['22', PrimitiveNode(type='BoundInfer', repr='Either.right')], '-6657176820575257679': ['23', CallNode(function='Abstraction.from_fn', type_params=None, args=['3897712537135950527'], kwargs=None)], '8128193661721879441': ['24', CallNode(function='Maybe.map', type_params={'T': DeclaredTypeInstance(type='Vec', params={'T': DeclaredTypeInstance(type='Integer', params=None)})}, args=['-5383112508657625409', '-6657176820575257679'], kwargs=None)], '9116537386611357020': ['11', CallNode(function='Maybe.__or__', type_params={'T': DeclaredTypeInstance(type='Either', params={'U': DeclaredTypeInstance(type='Vec', params={'T': DeclaredTypeInstance(type='Integer', params=None)}), 'T': DeclaredTypeInstance(type='Integer', params=None)})}, args=['1626833711022383777', '8128193661721879441'], kwargs=None)], '2985219241476842817': ['12', CallNode(function='Maybe.__and__', type_params={'T': DeclaredTypeInstance(type='NDArray', params=None)}, args=['3919409559600014478', '9116537386611357020'], kwargs=None)], '3436521316042976843': ['15', CallNode(function='Maybe.map', type_params={'T': DeclaredTypeInstance(type='Pair', params={'U': DeclaredTypeInstance(type='Either', params={'U': DeclaredTypeInstance(type='Vec', params={'T': DeclaredTypeInstance(type='Integer', params=None)}), 'T': DeclaredTypeInstance(type='Integer', params=None)}), 'T': DeclaredTypeInstance(type='NDArray', params=None)})}, args=['2985219241476842817', '-5672452219884111515'], kwargs=None)], '-6708922443786051569': ['4', CallNode(function='NDArrayCompat.from_ndarray', type_params=None, args=['3436521316042976843'], kwargs=None)], '6963509098467460201': ['5', CallNode(function='NDArrayCompat.to_ndarray', type_params=None, args=['-6708922443786051569'], kwargs=None)], '830260340471481657': ['245', CallNode(function='Integer.from_int', type_params=None, args=['4713779054406638500'], kwargs=None)], '-4691553863178753990': ['96', CallNode(function='Maybe.just', type_params=None, args=['830260340471481657'], kwargs=None)], '8887545728875557935': ['20', CallNode(function='Maybe.map', type_params={'T': DeclaredTypeInstance(type='Integer', params=None)}, args=['-4691553863178753990', '-7374914931223919067'], kwargs=None)], '8707533822291393287': ['11', CallNode(function='Maybe.__or__', type_params={'T': DeclaredTypeInstance(type='Either', params={'U': DeclaredTypeInstance(type='Vec', params={'T': DeclaredTypeInstance(type='Integer', params=None)}), 'T': DeclaredTypeInstance(type='Integer', params=None)})}, args=['8887545728875557935', '8128193661721879441'], kwargs=None)], '-6750366847559074342': ['12', CallNode(function='Maybe.__and__', type_params={'T': DeclaredTypeInstance(type='NDArray', params=None)}, args=['3919409559600014478', '8707533822291393287'], kwargs=None)], '2499600319169912869': ['15', CallNode(function='Maybe.map', type_params={'T': DeclaredTypeInstance(type='Pair', params={'U': DeclaredTypeInstance(type='Either', params={'U': DeclaredTypeInstance(type='Vec', params={'T': DeclaredTypeInstance(type='Integer', params=None)}), 'T': DeclaredTypeInstance(type='Integer', params=None)}), 'T': DeclaredTypeInstance(type='NDArray', params=None)})}, args=['-6750366847559074342', '-5672452219884111515'], kwargs=None)], '-8013932196291423267': ['4', CallNode(function='NDArrayCompat.from_ndarray', type_params=None, args=['2499600319169912869'], kwargs=None)], '-6964302811433065846': ['5', CallNode(function='NDArrayCompat.to_ndarray', type_params=None, args=['-8013932196291423267'], kwargs=None)], '8041717448431328708': ['28', CallNode(function='Converter.convert', type_params={'T': DeclaredTypeInstance(type='Integer', params=None)}, args=['4713779054301633575'], kwargs=None)], '-4386629807137239958': ['29', PrimitiveNode(type='Infer', repr='arange_')], '-4678502709838927428': ['30', CallNode(function='Abstraction.from_fn', type_params=None, args=['-4386629807137239958'], kwargs=None)], '-2952450362546799404': ['31', CallNode(function='Maybe.map', type_params={'T': DeclaredTypeInstance(type='Integer', params=None)}, args=['8041717448431328708', '-4678502709838927428'], kwargs=None)], '-7761567949085819156': ['7', CallNode(function='NDArrayCompat.from_ndarray', type_params=None, args=['-2952450362546799404'], kwargs=None)], '-1947520936561189353': ['8', CallNode(function='NDArrayCompat.__add__', type_params=None, args=['-7761567949085819156', '-7761567949085819156'], kwargs=None)], '421423557119156493': ['9', CallNode(function='Converter.convert', type_params={'T': DeclaredTypeInstance(type='NDArray', params=None)}, args=['-1947520936561189353'], kwargs=None)], '-4293313621705056232': ['12', CallNode(function='Maybe.__and__', type_params={'T': DeclaredTypeInstance(type='NDArray', params=None)}, args=['421423557119156493', '8707533822291393287'], kwargs=None)], '5864740952301781406': ['15', CallNode(function='Maybe.map', type_params={'T': DeclaredTypeInstance(type='Pair', params={'U': DeclaredTypeInstance(type='Either', params={'U': DeclaredTypeInstance(type='Vec', params={'T': DeclaredTypeInstance(type='Integer', params=None)}), 'T': DeclaredTypeInstance(type='Integer', params=None)}), 'T': DeclaredTypeInstance(type='NDArray', params=None)})}, args=['-4293313621705056232', '-5672452219884111515'], kwargs=None)], '-5164403356915468461': ['4', CallNode(function='NDArrayCompat.from_ndarray', type_params=None, args=['5864740952301781406'], kwargs=None)], '4494230571755994461': ['5', CallNode(function='NDArrayCompat.to_ndarray', type_params=None, args=['-5164403356915468461'], kwargs=None)], '-4649256587560651910': ['247', CallNode(function='Integer.from_int', type_params=None, args=['4713779054301633575'], kwargs=None)], '-925967518873523857': ['116', CallNode(function='Maybe.just', type_params=None, args=['-4649256587560651910'], kwargs=None)], '6629873243390779564': ['31', CallNode(function='Maybe.map', type_params={'T': DeclaredTypeInstance(type='Integer', params=None)}, args=['-925967518873523857', '-4678502709838927428'], kwargs=None)], '-2588923867463876411': ['7', CallNode(function='NDArrayCompat.from_ndarray', type_params=None, args=['6629873243390779564'], kwargs=None)], '2957685491773201289': ['8', CallNode(function='NDArrayCompat.__add__', type_params=None, args=['-2588923867463876411', '-2588923867463876411'], kwargs=None)], '227340298487089036': ['9', CallNode(function='Converter.convert', type_params={'T': DeclaredTypeInstance(type='NDArray', params=None)}, args=['2957685491773201289'], kwargs=None)], '4151555116808070765': ['12', CallNode(function='Maybe.__and__', type_params={'T': DeclaredTypeInstance(type='NDArray', params=None)}, args=['227340298487089036', '8707533822291393287'], kwargs=None)], '4858820127256438319': ['15', CallNode(function='Maybe.map', type_params={'T': DeclaredTypeInstance(type='Pair', params={'U': DeclaredTypeInstance(type='Either', params={'U': DeclaredTypeInstance(type='Vec', params={'T': DeclaredTypeInstance(type='Integer', params=None)}), 'T': DeclaredTypeInstance(type='Integer', params=None)}), 'T': DeclaredTypeInstance(type='NDArray', params=None)})}, args=['4151555116808070765', '-5672452219884111515'], kwargs=None)], '-6772911694610227722': ['4', CallNode(function='NDArrayCompat.from_ndarray', type_params=None, args=['4858820127256438319'], kwargs=None)], '3015224123855205996': ['5', CallNode(function='NDArrayCompat.to_ndarray', type_params=None, args=['-6772911694610227722'], kwargs=None)], '-8981835128105687521': ['184', PrimitiveNode(type='Variable', repr='Variable(4615918368)')], '6292453169213071641': ['185', CallNode(function='Abstraction.create_variable', type_params={'U': DeclaredTypeInstance(type='NDArray', params=None), 'T': DeclaredTypeInstance(type='Pair', params={'U': DeclaredTypeInstance(type='Either', params={'U': DeclaredTypeInstance(type='Vec', params={'T': DeclaredTypeInstance(type='Integer', params=None)}), 'T': DeclaredTypeInstance(type='Integer', params=None)}), 'T': DeclaredTypeInstance(type='NDArray', params=None)})}, args=['-8981835128105687521'], kwargs=None)], '-2304162742706713848': ['186', CallNode(function='Pair.left', type_params={'U': DeclaredTypeInstance(type='Either', params={'U': DeclaredTypeInstance(type='Vec', params={'T': DeclaredTypeInstance(type='Integer', params=None)}), 'T': DeclaredTypeInstance(type='Integer', params=None)}), 'T': DeclaredTypeInstance(type='NDArray', params=None)}, args=['6292453169213071641'], kwargs=None)], '-659501551837228928': ['187', CallNode(function='Pair.right', type_params={'U': DeclaredTypeInstance(type='Either', params={'U': DeclaredTypeInstance(type='Vec', params={'T': DeclaredTypeInstance(type='Integer', params=None)}), 'T': DeclaredTypeInstance(type='Integer', params=None)}), 'T': DeclaredTypeInstance(type='NDArray', params=None)}, args=['6292453169213071641'], kwargs=None)], '-4551867775753642953': ['188', CallNode(function='NDArray.__getitem__', type_params=None, args=['-2304162742706713848', '-659501551837228928'], kwargs=None)], '-8872082888284644475': ['83', CallNode(function='Abstraction.create', type_params={'U': DeclaredTypeInstance(type='NDArray', params=None), 'T': DeclaredTypeInstance(type='Pair', params={'U': DeclaredTypeInstance(type='Either', params={'U': DeclaredTypeInstance(type='Vec', params={'T': DeclaredTypeInstance(type='Integer', params=None)}), 'T': DeclaredTypeInstance(type='Integer', params=None)}), 'T': DeclaredTypeInstance(type='NDArray', params=None)})}, args=['6292453169213071641', '-4551867775753642953'], kwargs=None)], '-8198730976529737244': ['15', CallNode(function='Maybe.map', type_params={'T': DeclaredTypeInstance(type='Pair', params={'U': DeclaredTypeInstance(type='Either', params={'U': DeclaredTypeInstance(type='Vec', params={'T': DeclaredTypeInstance(type='Integer', params=None)}), 'T': DeclaredTypeInstance(type='Integer', params=None)}), 'T': DeclaredTypeInstance(type='NDArray', params=None)})}, args=['4151555116808070765', '-8872082888284644475'], kwargs=None)], '8766929400792285798': ['4', CallNode(function='NDArrayCompat.from_ndarray', type_params=None, args=['-8198730976529737244'], kwargs=None)], '-1114041580159990955': ['5', CallNode(function='NDArrayCompat.to_ndarray', type_params=None, args=['8766929400792285798'], kwargs=None)], '-8981835151341004121': ['146', PrimitiveNode(type='Variable', repr='Variable(4616658336)')], '-6427786465027000350': ['147', CallNode(function='Abstraction.create_variable', type_params={'U': DeclaredTypeInstance(type='Either', params={'U': DeclaredTypeInstance(type='Vec', params={'T': DeclaredTypeInstance(type='Integer', params=None)}), 'T': DeclaredTypeInstance(type='Integer', params=None)}), 'T': DeclaredTypeInstance(type='Vec', params={'T': DeclaredTypeInstance(type='Integer', params=None)})}, args=['-8981835151341004121'], kwargs=None)], '3965131456701341370': ['148', CallNode(function='Either.right', type_params={'U': DeclaredTypeInstance(type='Vec', params={'T': DeclaredTypeInstance(type='Integer', params=None)}), 'T': DeclaredTypeInstance(type='Integer', params=None)}, args=['-6427786465027000350'], kwargs=None)], '-1206764796549070762': ['92', CallNode(function='Abstraction.create', type_params={'U': DeclaredTypeInstance(type='Either', params={'U': DeclaredTypeInstance(type='Vec', params={'T': DeclaredTypeInstance(type='Integer', params=None)}), 'T': DeclaredTypeInstance(type='Integer', params=None)}), 'T': DeclaredTypeInstance(type='Vec', params={'T': DeclaredTypeInstance(type='Integer', params=None)})}, args=['-6427786465027000350', '3965131456701341370'], kwargs=None)], '-4549680217207104910': ['72', CallNode(function='Maybe.map', type_params={'T': DeclaredTypeInstance(type='Vec', params={'T': DeclaredTypeInstance(type='Integer', params=None)})}, args=['-5383112508657625409', '-1206764796549070762'], kwargs=None)], '-3082965114829723956': ['11', CallNode(function='Maybe.__or__', type_params={'T': DeclaredTypeInstance(type='Either', params={'U': DeclaredTypeInstance(type='Vec', params={'T': DeclaredTypeInstance(type='Integer', params=None)}), 'T': DeclaredTypeInstance(type='Integer', params=None)})}, args=['8887545728875557935', '-4549680217207104910'], kwargs=None)], '-7294007499446075566': ['12', CallNode(function='Maybe.__and__', type_params={'T': DeclaredTypeInstance(type='NDArray', params=None)}, args=['227340298487089036', '-3082965114829723956'], kwargs=None)], '4609120385687340953': ['15', CallNode(function='Maybe.map', type_params={'T': DeclaredTypeInstance(type='Pair', params={'U': DeclaredTypeInstance(type='Either', params={'U': DeclaredTypeInstance(type='Vec', params={'T': DeclaredTypeInstance(type='Integer', params=None)}), 'T': DeclaredTypeInstance(type='Integer', params=None)}), 'T': DeclaredTypeInstance(type='NDArray', params=None)})}, args=['-7294007499446075566', '-8872082888284644475'], kwargs=None)], '2847004915641090065': ['4', CallNode(function='NDArrayCompat.from_ndarray', type_params=None, args=['4609120385687340953'], kwargs=None)], '7421814419874415906': ['5', CallNode(function='NDArrayCompat.to_ndarray', type_params=None, args=['2847004915641090065'], kwargs=None)], '241536669850976137': ['150', PrimitiveNode(type='Variable', repr='Variable(4615778824)')], '6418704062862102227': ['151', CallNode(function='Abstraction.create_variable', type_params={'U': DeclaredTypeInstance(type='Either', params={'U': DeclaredTypeInstance(type='Vec', params={'T': DeclaredTypeInstance(type='Integer', params=None)}), 'T': DeclaredTypeInstance(type='Integer', params=None)}), 'T': DeclaredTypeInstance(type='Integer', params=None)}, args=['241536669850976137'], kwargs=None)], '-3735293377273150709': ['152', CallNode(function='Either.left', type_params={'U': DeclaredTypeInstance(type='Vec', params={'T': DeclaredTypeInstance(type='Integer', params=None)}), 'T': DeclaredTypeInstance(type='Integer', params=None)}, args=['6418704062862102227'], kwargs=None)], '8220634548590704800': ['110', CallNode(function='Abstraction.create', type_params={'U': DeclaredTypeInstance(type='Either', params={'U': DeclaredTypeInstance(type='Vec', params={'T': DeclaredTypeInstance(type='Integer', params=None)}), 'T': DeclaredTypeInstance(type='Integer', params=None)}), 'T': DeclaredTypeInstance(type='Integer', params=None)}, args=['6418704062862102227', '-3735293377273150709'], kwargs=None)], '-4269344161181253656': ['66', CallNode(function='Maybe.map', type_params={'T': DeclaredTypeInstance(type='Integer', params=None)}, args=['-4691553863178753990', '8220634548590704800'], kwargs=None)], '4563710831724426925': ['73', CallNode(function='Maybe.__or__', type_params={'T': DeclaredTypeInstance(type='Either', params={'U': DeclaredTypeInstance(type='Vec', params={'T': DeclaredTypeInstance(type='Integer', params=None)}), 'T': DeclaredTypeInstance(type='Integer', params=None)})}, args=['-4269344161181253656', '-4549680217207104910'], kwargs=None)], '6504051178702998633': ['12', CallNode(function='Maybe.__and__', type_params={'T': DeclaredTypeInstance(type='NDArray', params=None)}, args=['227340298487089036', '4563710831724426925'], kwargs=None)], '5669225754449520557': ['15', CallNode(function='Maybe.map', type_params={'T': DeclaredTypeInstance(type='Pair', params={'U': DeclaredTypeInstance(type='Either', params={'U': DeclaredTypeInstance(type='Vec', params={'T': DeclaredTypeInstance(type='Integer', params=None)}), 'T': DeclaredTypeInstance(type='Integer', params=None)}), 'T': DeclaredTypeInstance(type='NDArray', params=None)})}, args=['6504051178702998633', '-8872082888284644475'], kwargs=None)], '-8634884104556185640': ['4', CallNode(function='NDArrayCompat.from_ndarray', type_params=None, args=['5669225754449520557'], kwargs=None)], '8847362646620807121': ['5', CallNode(function='NDArrayCompat.to_ndarray', type_params=None, args=['-8634884104556185640'], kwargs=None)], '241536667079712137': ['160', PrimitiveNode(type='Variable', repr='Variable(4615819784)')], '-3501837872716648179': ['161', CallNode(function='Abstraction.create_variable', type_params={'U': DeclaredTypeInstance(type='NDArray', params=None), 'T': DeclaredTypeInstance(type='Integer', params=None)}, args=['241536667079712137'], kwargs=None)], '2071814520474456396': ['162', CallNode(function='arange_', type_params=None, args=['-3501837872716648179'], kwargs=None)], '-5510006758119855787': ['130', CallNode(function='Abstraction.create', type_params={'U': DeclaredTypeInstance(type='NDArray', params=None), 'T': DeclaredTypeInstance(type='Integer', params=None)}, args=['-3501837872716648179', '2071814520474456396'], kwargs=None)], '-7207783109661565205': ['55', CallNode(function='Maybe.map', type_params={'T': DeclaredTypeInstance(type='Integer', params=None)}, args=['-925967518873523857', '-5510006758119855787'], kwargs=None)], '3866698988032664827': ['56', CallNode(function='NDArrayCompat.from_ndarray', type_params=None, args=['-7207783109661565205'], kwargs=None)], '-7681682221433095415': ['57', CallNode(function='NDArrayCompat.__add__', type_params=None, args=['3866698988032664827', '3866698988032664827'], kwargs=None)], '-7283824615062444208': ['58', CallNode(function='Converter.convert', type_params={'T': DeclaredTypeInstance(type='NDArray', params=None)}, args=['-7681682221433095415'], kwargs=None)], '-3451474266960427708': ['74', CallNode(function='Maybe.__and__', type_params={'T': DeclaredTypeInstance(type='NDArray', params=None)}, args=['-7283824615062444208', '4563710831724426925'], kwargs=None)], '-8176140974868566059': ['15', CallNode(function='Maybe.map', type_params={'T': DeclaredTypeInstance(type='Pair', params={'U': DeclaredTypeInstance(type='Either', params={'U': DeclaredTypeInstance(type='Vec', params={'T': DeclaredTypeInstance(type='Integer', params=None)}), 'T': DeclaredTypeInstance(type='Integer', params=None)}), 'T': DeclaredTypeInstance(type='NDArray', params=None)})}, args=['-3451474266960427708', '-8872082888284644475'], kwargs=None)], '-6777176652484186199': ['4', CallNode(function='NDArrayCompat.from_ndarray', type_params=None, args=['-8176140974868566059'], kwargs=None)], '-1482771421848500021': ['5', CallNode(function='NDArrayCompat.to_ndarray', type_params=None, args=['-6777176652484186199'], kwargs=None)], '7703360805233009766': ['117', CallNode(function='Maybe.nothing', type_params={'T': DeclaredTypeInstance(type='NDArray', params=None)}, args=None, kwargs=None)], '-8212135172233348146': ['125', PrimitiveNode(type='BoundInfer', repr='Maybe.just')], '-8943270035964787178': ['126', CallNode(function='Abstraction.from_fn', type_params=None, args=['-8212135172233348146'], kwargs=None)], '-830868406431143682': ['84', CallNode(function='Abstraction.__add__', type_params={'U': DeclaredTypeInstance(type='Maybe', params={'T': DeclaredTypeInstance(type='NDArray', params=None)}), 'T': DeclaredTypeInstance(type='NDArray', params=None)}, args=['-8943270035964787178', '-8872082888284644475'], kwargs=None)], '-5091677864402498448': ['15', CallNode(function='Maybe.match', type_params={'T': DeclaredTypeInstance(type='Pair', params={'U': DeclaredTypeInstance(type='Either', params={'U': DeclaredTypeInstance(type='Vec', params={'T': DeclaredTypeInstance(type='Integer', params=None)}), 'T': DeclaredTypeInstance(type='Integer', params=None)}), 'T': DeclaredTypeInstance(type='NDArray', params=None)})}, args=['-3451474266960427708', '7703360805233009766', '-830868406431143682'], kwargs=None)], '-4772296246081327995': ['4', CallNode(function='NDArrayCompat.from_ndarray', type_params=None, args=['-5091677864402498448'], kwargs=None)], '5144707806795626439': ['5', CallNode(function='NDArrayCompat.to_ndarray', type_params=None, args=['-4772296246081327995'], kwargs=None)], '-4399158014625666932': ['97', CallNode(function='Maybe.nothing', type_params={'T': DeclaredTypeInstance(type='Either', params={'U': DeclaredTypeInstance(type='Vec', params={'T': DeclaredTypeInstance(type='Integer', params=None)}), 'T': DeclaredTypeInstance(type='Integer', params=None)})}, args=None, kwargs=None)], '2814644451134350872': ['105', PrimitiveNode(type='BoundInfer', repr='Maybe.just')], '197716354574705964': ['106', CallNode(function='Abstraction.from_fn', type_params=None, args=['2814644451134350872'], kwargs=None)], '-4330216193765395707': ['93', CallNode(function='Abstraction.__add__', type_params={'U': DeclaredTypeInstance(type='Maybe', params={'T': DeclaredTypeInstance(type='Either', params={'U': DeclaredTypeInstance(type='Vec', params={'T': DeclaredTypeInstance(type='Integer', params=None)}), 'T': DeclaredTypeInstance(type='Integer', params=None)})}), 'T': DeclaredTypeInstance(type='Either', params={'U': DeclaredTypeInstance(type='Vec', params={'T': DeclaredTypeInstance(type='Integer', params=None)}), 'T': DeclaredTypeInstance(type='Integer', params=None)})}, args=['197716354574705964', '-1206764796549070762'], kwargs=None)], '-8553986771623801589': ['72', CallNode(function='Maybe.match', type_params={'T': DeclaredTypeInstance(type='Vec', params={'T': DeclaredTypeInstance(type='Integer', params=None)})}, args=['-5383112508657625409', '-4399158014625666932', '-4330216193765395707'], kwargs=None)], '-8568434642149767442': ['73', CallNode(function='Maybe.__or__', type_params={'T': DeclaredTypeInstance(type='Either', params={'U': DeclaredTypeInstance(type='Vec', params={'T': DeclaredTypeInstance(type='Integer', params=None)}), 'T': DeclaredTypeInstance(type='Integer', params=None)})}, args=['-4269344161181253656', '-8553986771623801589'], kwargs=None)], '-3465662883811441965': ['74', CallNode(function='Maybe.__and__', type_params={'T': DeclaredTypeInstance(type='NDArray', params=None)}, args=['-7283824615062444208', '-8568434642149767442'], kwargs=None)], '-5871320286366479661': ['15', CallNode(function='Maybe.match', type_params={'T': DeclaredTypeInstance(type='Pair', params={'U': DeclaredTypeInstance(type='Either', params={'U': DeclaredTypeInstance(type='Vec', params={'T': DeclaredTypeInstance(type='Integer', params=None)}), 'T': DeclaredTypeInstance(type='Integer', params=None)}), 'T': DeclaredTypeInstance(type='NDArray', params=None)})}, args=['-3465662883811441965', '7703360805233009766', '-830868406431143682'], kwargs=None)], '6694844492627808726': ['4', CallNode(function='NDArrayCompat.from_ndarray', type_params=None, args=['-5871320286366479661'], kwargs=None)], '6290386455703425552': ['5', CallNode(function='NDArrayCompat.to_ndarray', type_params=None, args=['6694844492627808726'], kwargs=None)], '85565400163395998': ['111', CallNode(function='Abstraction.__add__', type_params={'U': DeclaredTypeInstance(type='Maybe', params={'T': DeclaredTypeInstance(type='Either', params={'U': DeclaredTypeInstance(type='Vec', params={'T': DeclaredTypeInstance(type='Integer', params=None)}), 'T': DeclaredTypeInstance(type='Integer', params=None)})}), 'T': DeclaredTypeInstance(type='Either', params={'U': DeclaredTypeInstance(type='Vec', params={'T': DeclaredTypeInstance(type='Integer', params=None)}), 'T': DeclaredTypeInstance(type='Integer', params=None)})}, args=['197716354574705964', '8220634548590704800'], kwargs=None)], '7196192257319487230': ['66', CallNode(function='Maybe.match', type_params={'T': DeclaredTypeInstance(type='Integer', params=None)}, args=['-4691553863178753990', '-4399158014625666932', '85565400163395998'], kwargs=None)], '-2406204656795444040': ['73', CallNode(function='Maybe.__or__', type_params={'T': DeclaredTypeInstance(type='Either', params={'U': DeclaredTypeInstance(type='Vec', params={'T': DeclaredTypeInstance(type='Integer', params=None)}), 'T': DeclaredTypeInstance(type='Integer', params=None)})}, args=['7196192257319487230', '-8553986771623801589'], kwargs=None)], '5129398987665143895': ['74', CallNode(function='Maybe.__and__', type_params={'T': DeclaredTypeInstance(type='NDArray', params=None)}, args=['-7283824615062444208', '-2406204656795444040'], kwargs=None)], '-669547437747201918': ['15', CallNode(function='Maybe.match', type_params={'T': DeclaredTypeInstance(type='Pair', params={'U': DeclaredTypeInstance(type='Either', params={'U': DeclaredTypeInstance(type='Vec', params={'T': DeclaredTypeInstance(type='Integer', params=None)}), 'T': DeclaredTypeInstance(type='Integer', params=None)}), 'T': DeclaredTypeInstance(type='NDArray', params=None)})}, args=['5129398987665143895', '7703360805233009766', '-830868406431143682'], kwargs=None)], '-4029799967937456615': ['4', CallNode(function='NDArrayCompat.from_ndarray', type_params=None, args=['-669547437747201918'], kwargs=None)], '-1913890841885673392': ['5', CallNode(function='NDArrayCompat.to_ndarray', type_params=None, args=['-4029799967937456615'], kwargs=None)], '-727242133714931491': ['66', CallNode(function='Abstraction.__call__', type_params={'U': DeclaredTypeInstance(type='Maybe', params={'T': DeclaredTypeInstance(type='Either', params={'U': DeclaredTypeInstance(type='Vec', params={'T': DeclaredTypeInstance(type='Integer', params=None)}), 'T': DeclaredTypeInstance(type='Integer', params=None)})}), 'T': DeclaredTypeInstance(type='Integer', params=None)}, args=['85565400163395998', '830260340471481657'], kwargs=None)], '7014446882591719652': ['73', CallNode(function='Maybe.__or__', type_params={'T': DeclaredTypeInstance(type='Either', params={'U': DeclaredTypeInstance(type='Vec', params={'T': DeclaredTypeInstance(type='Integer', params=None)}), 'T': DeclaredTypeInstance(type='Integer', params=None)})}, args=['-727242133714931491', '-8553986771623801589'], kwargs=None)], '-6324391027475491001': ['74', CallNode(function='Maybe.__and__', type_params={'T': DeclaredTypeInstance(type='NDArray', params=None)}, args=['-7283824615062444208', '7014446882591719652'], kwargs=None)], '-663116695612547538': ['15', CallNode(function='Maybe.match', type_params={'T': DeclaredTypeInstance(type='Pair', params={'U': DeclaredTypeInstance(type='Either', params={'U': DeclaredTypeInstance(type='Vec', params={'T': DeclaredTypeInstance(type='Integer', params=None)}), 'T': DeclaredTypeInstance(type='Integer', params=None)}), 'T': DeclaredTypeInstance(type='NDArray', params=None)})}, args=['-6324391027475491001', '7703360805233009766', '-830868406431143682'], kwargs=None)], '-8424105716442181051': ['4', CallNode(function='NDArrayCompat.from_ndarray', type_params=None, args=['-663116695612547538'], kwargs=None)], '-266973439100455150': ['5', CallNode(function='NDArrayCompat.to_ndarray', type_params=None, args=['-8424105716442181051'], kwargs=None)], '2939606338730852153': ['131', CallNode(function='Abstraction.__add__', type_params={'U': DeclaredTypeInstance(type='Maybe', params={'T': DeclaredTypeInstance(type='NDArray', params=None)}), 'T': DeclaredTypeInstance(type='NDArray', params=None)}, args=['-8943270035964787178', '-5510006758119855787'], kwargs=None)], '846525187607568697': ['55', CallNode(function='Maybe.match', type_params={'T': DeclaredTypeInstance(type='Integer', params=None)}, args=['-925967518873523857', '7703360805233009766', '2939606338730852153'], kwargs=None)], '-8185465065670249634': ['56', CallNode(function='NDArrayCompat.from_ndarray', type_params=None, args=['846525187607568697'], kwargs=None)], '2157616255500305231': ['57', CallNode(function='NDArrayCompat.__add__', type_params=None, args=['-8185465065670249634', '-8185465065670249634'], kwargs=None)], '-2895001785256119691': ['58', CallNode(function='Converter.convert', type_params={'T': DeclaredTypeInstance(type='NDArray', params=None)}, args=['2157616255500305231'], kwargs=None)], '-6235675341913466514': ['74', CallNode(function='Maybe.__and__', type_params={'T': DeclaredTypeInstance(type='NDArray', params=None)}, args=['-2895001785256119691', '7014446882591719652'], kwargs=None)], '3062118109397360097': ['15', CallNode(function='Maybe.match', type_params={'T': DeclaredTypeInstance(type='Pair', params={'U': DeclaredTypeInstance(type='Either', params={'U': DeclaredTypeInstance(type='Vec', params={'T': DeclaredTypeInstance(type='Integer', params=None)}), 'T': DeclaredTypeInstance(type='Integer', params=None)}), 'T': DeclaredTypeInstance(type='NDArray', params=None)})}, args=['-6235675341913466514', '7703360805233009766', '-830868406431143682'], kwargs=None)], '7585722022179764025': ['4', CallNode(function='NDArrayCompat.from_ndarray', type_params=None, args=['3062118109397360097'], kwargs=None)], '-3838057642674473132': ['5', CallNode(function='NDArrayCompat.to_ndarray', type_params=None, args=['7585722022179764025'], kwargs=None)], '-7608372729080586560': ['55', CallNode(function='Abstraction.__call__', type_params={'U': DeclaredTypeInstance(type='Maybe', params={'T': DeclaredTypeInstance(type='NDArray', params=None)}), 'T': DeclaredTypeInstance(type='Integer', params=None)}, args=['2939606338730852153', '-4649256587560651910'], kwargs=None)], '-4290077691083295982': ['56', CallNode(function='NDArrayCompat.from_ndarray', type_params=None, args=['-7608372729080586560'], kwargs=None)], '-4056384918910903929': ['57', CallNode(function='NDArrayCompat.__add__', type_params=None, args=['-4290077691083295982', '-4290077691083295982'], kwargs=None)], '255657516615531472': ['58', CallNode(function='Converter.convert', type_params={'T': DeclaredTypeInstance(type='NDArray', params=None)}, args=['-4056384918910903929'], kwargs=None)], '4011912659594460074': ['74', CallNode(function='Maybe.__and__', type_params={'T': DeclaredTypeInstance(type='NDArray', params=None)}, args=['255657516615531472', '7014446882591719652'], kwargs=None)], '7049724777652958840': ['15', CallNode(function='Maybe.match', type_params={'T': DeclaredTypeInstance(type='Pair', params={'U': DeclaredTypeInstance(type='Either', params={'U': DeclaredTypeInstance(type='Vec', params={'T': DeclaredTypeInstance(type='Integer', params=None)}), 'T': DeclaredTypeInstance(type='Integer', params=None)}), 'T': DeclaredTypeInstance(type='NDArray', params=None)})}, args=['4011912659594460074', '7703360805233009766', '-830868406431143682'], kwargs=None)], '4989527764430994932': ['4', CallNode(function='NDArrayCompat.from_ndarray', type_params=None, args=['7049724777652958840'], kwargs=None)], '4172349909600475366': ['5', CallNode(function='NDArrayCompat.to_ndarray', type_params=None, args=['4989527764430994932'], kwargs=None)], '-8981835134139681871': ['134', PrimitiveNode(type='Variable', repr='Variable(4615880320)')], '-5597344834478047963': ['135', CallNode(function='Abstraction.create_variable', type_params={'U': DeclaredTypeInstance(type='Maybe', params={'T': DeclaredTypeInstance(type='Either', params={'U': DeclaredTypeInstance(type='Vec', params={'T': DeclaredTypeInstance(type='Integer', params=None)}), 'T': DeclaredTypeInstance(type='Integer', params=None)})}), 'T': DeclaredTypeInstance(type='Either', params={'U': DeclaredTypeInstance(type='Vec', params={'T': DeclaredTypeInstance(type='Integer', params=None)}), 'T': DeclaredTypeInstance(type='Integer', params=None)})}, args=['-8981835134139681871'], kwargs=None)], '7966575061853914934': ['136', CallNode(function='Maybe.just', type_params={'T': DeclaredTypeInstance(type='Either', params={'U': DeclaredTypeInstance(type='Vec', params={'T': DeclaredTypeInstance(type='Integer', params=None)}), 'T': DeclaredTypeInstance(type='Integer', params=None)})}, args=['-5597344834478047963'], kwargs=None)], '-7597966239357059670': ['106', CallNode(function='Abstraction.create', type_params={'U': DeclaredTypeInstance(type='Maybe', params={'T': DeclaredTypeInstance(type='Either', params={'U': DeclaredTypeInstance(type='Vec', params={'T': DeclaredTypeInstance(type='Integer', params=None)}), 'T': DeclaredTypeInstance(type='Integer', params=None)})}), 'T': DeclaredTypeInstance(type='Either', params={'U': DeclaredTypeInstance(type='Vec', params={'T': DeclaredTypeInstance(type='Integer', params=None)}), 'T': DeclaredTypeInstance(type='Integer', params=None)})}, args=['-5597344834478047963', '7966575061853914934'], kwargs=None)], '-401208281684126735': ['111', CallNode(function='Abstraction.__add__', type_params={'U': DeclaredTypeInstance(type='Maybe', params={'T': DeclaredTypeInstance(type='Either', params={'U': DeclaredTypeInstance(type='Vec', params={'T': DeclaredTypeInstance(type='Integer', params=None)}), 'T': DeclaredTypeInstance(type='Integer', params=None)})}), 'T': DeclaredTypeInstance(type='Either', params={'U': DeclaredTypeInstance(type='Vec', params={'T': DeclaredTypeInstance(type='Integer', params=None)}), 'T': DeclaredTypeInstance(type='Integer', params=None)})}, args=['-7597966239357059670', '8220634548590704800'], kwargs=None)], '1746017672083347074': ['66', CallNode(function='Abstraction.__call__', type_params={'U': DeclaredTypeInstance(type='Maybe', params={'T': DeclaredTypeInstance(type='Either', params={'U': DeclaredTypeInstance(type='Vec', params={'T': DeclaredTypeInstance(type='Integer', params=None)}), 'T': DeclaredTypeInstance(type='Integer', params=None)})}), 'T': DeclaredTypeInstance(type='Integer', params=None)}, args=['-401208281684126735', '830260340471481657'], kwargs=None)], '-540122324211131774': ['93', CallNode(function='Abstraction.__add__', type_params={'U': DeclaredTypeInstance(type='Maybe', params={'T': DeclaredTypeInstance(type='Either', params={'U': DeclaredTypeInstance(type='Vec', params={'T': DeclaredTypeInstance(type='Integer', params=None)}), 'T': DeclaredTypeInstance(type='Integer', params=None)})}), 'T': DeclaredTypeInstance(type='Either', params={'U': DeclaredTypeInstance(type='Vec', params={'T': DeclaredTypeInstance(type='Integer', params=None)}), 'T': DeclaredTypeInstance(type='Integer', params=None)})}, args=['-7597966239357059670', '-1206764796549070762'], kwargs=None)], '4955587294423906225': ['72', CallNode(function='Maybe.match', type_params={'T': DeclaredTypeInstance(type='Vec', params={'T': DeclaredTypeInstance(type='Integer', params=None)})}, args=['-5383112508657625409', '-4399158014625666932', '-540122324211131774'], kwargs=None)], '-7261753375016999690': ['73', CallNode(function='Maybe.__or__', type_params={'T': DeclaredTypeInstance(type='Either', params={'U': DeclaredTypeInstance(type='Vec', params={'T': DeclaredTypeInstance(type='Integer', params=None)}), 'T': DeclaredTypeInstance(type='Integer', params=None)})}, args=['1746017672083347074', '4955587294423906225'], kwargs=None)], '-7200717567198933114': ['74', CallNode(function='Maybe.__and__', type_params={'T': DeclaredTypeInstance(type='NDArray', params=None)}, args=['255657516615531472', '-7261753375016999690'], kwargs=None)], '-1173789367401681488': ['15', CallNode(function='Maybe.match', type_params={'T': DeclaredTypeInstance(type='Pair', params={'U': DeclaredTypeInstance(type='Either', params={'U': DeclaredTypeInstance(type='Vec', params={'T': DeclaredTypeInstance(type='Integer', params=None)}), 'T': DeclaredTypeInstance(type='Integer', params=None)}), 'T': DeclaredTypeInstance(type='NDArray', params=None)})}, args=['-7200717567198933114', '7703360805233009766', '-830868406431143682'], kwargs=None)], '-7740662778058975325': ['4', CallNode(function='NDArrayCompat.from_ndarray', type_params=None, args=['-1173789367401681488'], kwargs=None)], '6512425299397420152': ['5', CallNode(function='NDArrayCompat.to_ndarray', type_params=None, args=['-7740662778058975325'], kwargs=None)], '241536666332769887': ['137', PrimitiveNode(type='Variable', repr='Variable(4615704360)')], '2150129084287880468': ['138', CallNode(function='Abstraction.create_variable', type_params={'U': DeclaredTypeInstance(type='Maybe', params={'T': DeclaredTypeInstance(type='NDArray', params=None)}), 'T': DeclaredTypeInstance(type='NDArray', params=None)}, args=['241536666332769887'], kwargs=None)], '8941328756889403515': ['139', CallNode(function='Maybe.just', type_params={'T': DeclaredTypeInstance(type='NDArray', params=None)}, args=['2150129084287880468'], kwargs=None)], '-7033444072866663280': ['126', CallNode(function='Abstraction.create', type_params={'U': DeclaredTypeInstance(type='Maybe', params={'T': DeclaredTypeInstance(type='NDArray', params=None)}), 'T': DeclaredTypeInstance(type='NDArray', params=None)}, args=['2150129084287880468', '8941328756889403515'], kwargs=None)], '7932302284598831019': ['131', CallNode(function='Abstraction.__add__', type_params={'U': DeclaredTypeInstance(type='Maybe', params={'T': DeclaredTypeInstance(type='NDArray', params=None)}), 'T': DeclaredTypeInstance(type='NDArray', params=None)}, args=['-7033444072866663280', '-5510006758119855787'], kwargs=None)], '9075105752950842708': ['55', CallNode(function='Abstraction.__call__', type_params={'U': DeclaredTypeInstance(type='Maybe', params={'T': DeclaredTypeInstance(type='NDArray', params=None)}), 'T': DeclaredTypeInstance(type='Integer', params=None)}, args=['7932302284598831019', '-4649256587560651910'], kwargs=None)], '-4674515641938184544': ['56', CallNode(function='NDArrayCompat.from_ndarray', type_params=None, args=['9075105752950842708'], kwargs=None)], '7121933262031515661': ['57', CallNode(function='NDArrayCompat.__add__', type_params=None, args=['-4674515641938184544', '-4674515641938184544'], kwargs=None)], '-3311216230674443042': ['58', CallNode(function='Converter.convert', type_params={'T': DeclaredTypeInstance(type='NDArray', params=None)}, args=['7121933262031515661'], kwargs=None)], '-3229292437377647605': ['74', CallNode(function='Maybe.__and__', type_params={'T': DeclaredTypeInstance(type='NDArray', params=None)}, args=['-3311216230674443042', '-7261753375016999690'], kwargs=None)], '8807774677597074080': ['84', CallNode(function='Abstraction.__add__', type_params={'U': DeclaredTypeInstance(type='Maybe', params={'T': DeclaredTypeInstance(type='NDArray', params=None)}), 'T': DeclaredTypeInstance(type='NDArray', params=None)}, args=['-7033444072866663280', '-8872082888284644475'], kwargs=None)], '6359347103342393028': ['15', CallNode(function='Maybe.match', type_params={'T': DeclaredTypeInstance(type='Pair', params={'U': DeclaredTypeInstance(type='Either', params={'U': DeclaredTypeInstance(type='Vec', params={'T': DeclaredTypeInstance(type='Integer', params=None)}), 'T': DeclaredTypeInstance(type='Integer', params=None)}), 'T': DeclaredTypeInstance(type='NDArray', params=None)})}, args=['-3229292437377647605', '7703360805233009766', '8807774677597074080'], kwargs=None)], '8501027944732289469': ['4', CallNode(function='NDArrayCompat.from_ndarray', type_params=None, args=['6359347103342393028'], kwargs=None)], '-301393546479120104': ['5', CallNode(function='NDArrayCompat.to_ndarray', type_params=None, args=['8501027944732289469'], kwargs=None)], '-4712939544073248543': ['189', CallNode(function='Maybe.just', type_params={'T': DeclaredTypeInstance(type='NDArray', params=None)}, args=['-4551867775753642953'], kwargs=None)], '-1113517133611780794': ['190', CallNode(function='Abstraction.create', type_params=None, args=['6292453169213071641', '-4712939544073248543'], kwargs=None)], '-7269685740143217245': ['15', CallNode(function='Maybe.match', type_params={'T': DeclaredTypeInstance(type='Pair', params={'U': DeclaredTypeInstance(type='Either', params={'U': DeclaredTypeInstance(type='Vec', params={'T': DeclaredTypeInstance(type='Integer', params=None)}), 'T': DeclaredTypeInstance(type='Integer', params=None)}), 'T': DeclaredTypeInstance(type='NDArray', params=None)})}, args=['-3229292437377647605', '7703360805233009766', '-1113517133611780794'], kwargs=None)], '-5447210860979477677': ['4', CallNode(function='NDArrayCompat.from_ndarray', type_params=None, args=['-7269685740143217245'], kwargs=None)], '5856787990280495453': ['5', CallNode(function='NDArrayCompat.to_ndarray', type_params=None, args=['-5447210860979477677'], kwargs=None)], '2608566627276374590': ['149', CallNode(function='Maybe.just', type_params={'T': DeclaredTypeInstance(type='Either', params={'U': DeclaredTypeInstance(type='Vec', params={'T': DeclaredTypeInstance(type='Integer', params=None)}), 'T': DeclaredTypeInstance(type='Integer', params=None)})}, args=['3965131456701341370'], kwargs=None)], '3962583354239419705': ['93', CallNode(function='Abstraction.create', type_params=None, args=['-6427786465027000350', '2608566627276374590'], kwargs=None)], '1997699398604894217': ['72', CallNode(function='Maybe.match', type_params={'T': DeclaredTypeInstance(type='Vec', params={'T': DeclaredTypeInstance(type='Integer', params=None)})}, args=['-5383112508657625409', '-4399158014625666932', '3962583354239419705'], kwargs=None)], '4575128221522602788': ['73', CallNode(function='Maybe.__or__', type_params={'T': DeclaredTypeInstance(type='Either', params={'U': DeclaredTypeInstance(type='Vec', params={'T': DeclaredTypeInstance(type='Integer', params=None)}), 'T': DeclaredTypeInstance(type='Integer', params=None)})}, args=['1746017672083347074', '1997699398604894217'], kwargs=None)], '-5203245390827314191': ['74', CallNode(function='Maybe.__and__', type_params={'T': DeclaredTypeInstance(type='NDArray', params=None)}, args=['-3311216230674443042', '4575128221522602788'], kwargs=None)], '6424166221091356660': ['15', CallNode(function='Maybe.match', type_params={'T': DeclaredTypeInstance(type='Pair', params={'U': DeclaredTypeInstance(type='Either', params={'U': DeclaredTypeInstance(type='Vec', params={'T': DeclaredTypeInstance(type='Integer', params=None)}), 'T': DeclaredTypeInstance(type='Integer', params=None)}), 'T': DeclaredTypeInstance(type='NDArray', params=None)})}, args=['-5203245390827314191', '7703360805233009766', '-1113517133611780794'], kwargs=None)], '-6666006680207665747': ['4', CallNode(function='NDArrayCompat.from_ndarray', type_params=None, args=['6424166221091356660'], kwargs=None)], '611072862449565967': ['5', CallNode(function='NDArrayCompat.to_ndarray', type_params=None, args=['-6666006680207665747'], kwargs=None)], '-8184604631952259109': ['153', CallNode(function='Maybe.just', type_params={'T': DeclaredTypeInstance(type='Either', params={'U': DeclaredTypeInstance(type='Vec', params={'T': DeclaredTypeInstance(type='Integer', params=None)}), 'T': DeclaredTypeInstance(type='Integer', params=None)})}, args=['-3735293377273150709'], kwargs=None)], '2385353218680066673': ['111', CallNode(function='Abstraction.create', type_params=None, args=['6418704062862102227', '-8184604631952259109'], kwargs=None)], '3585684849375043129': ['66', CallNode(function='Abstraction.__call__', type_params={'U': DeclaredTypeInstance(type='Maybe', params={'T': DeclaredTypeInstance(type='Either', params={'U': DeclaredTypeInstance(type='Vec', params={'T': DeclaredTypeInstance(type='Integer', params=None)}), 'T': DeclaredTypeInstance(type='Integer', params=None)})}), 'T': DeclaredTypeInstance(type='Integer', params=None)}, args=['2385353218680066673', '830260340471481657'], kwargs=None)], '1549957452510273324': ['73', CallNode(function='Maybe.__or__', type_params={'T': DeclaredTypeInstance(type='Either', params={'U': DeclaredTypeInstance(type='Vec', params={'T': DeclaredTypeInstance(type='Integer', params=None)}), 'T': DeclaredTypeInstance(type='Integer', params=None)})}, args=['3585684849375043129', '1997699398604894217'], kwargs=None)], '-3646835284713970130': ['74', CallNode(function='Maybe.__and__', type_params={'T': DeclaredTypeInstance(type='NDArray', params=None)}, args=['-3311216230674443042', '1549957452510273324'], kwargs=None)], '-8131330774707806306': ['15', CallNode(function='Maybe.match', type_params={'T': DeclaredTypeInstance(type='Pair', params={'U': DeclaredTypeInstance(type='Either', params={'U': DeclaredTypeInstance(type='Vec', params={'T': DeclaredTypeInstance(type='Integer', params=None)}), 'T': DeclaredTypeInstance(type='Integer', params=None)}), 'T': DeclaredTypeInstance(type='NDArray', params=None)})}, args=['-3646835284713970130', '7703360805233009766', '-1113517133611780794'], kwargs=None)], '7511559439157003604': ['4', CallNode(function='NDArrayCompat.from_ndarray', type_params=None, args=['-8131330774707806306'], kwargs=None)], '-172547541710843077': ['5', CallNode(function='NDArrayCompat.to_ndarray', type_params=None, args=['7511559439157003604'], kwargs=None)], '-1208112746975233409': ['242', CallNode(function='Either.left', type_params={'U': DeclaredTypeInstance(type='Vec', params={'T': DeclaredTypeInstance(type='Integer', params=None)}), 'T': DeclaredTypeInstance(type='Integer', params=None)}, args=['830260340471481657'], kwargs=None)], '2251776250973385170': ['66', CallNode(function='Maybe.just', type_params={'T': DeclaredTypeInstance(type='Either', params={'U': DeclaredTypeInstance(type='Vec', params={'T': DeclaredTypeInstance(type='Integer', params=None)}), 'T': DeclaredTypeInstance(type='Integer', params=None)})}, args=['-1208112746975233409'], kwargs=None)], '124345297713240916': ['73', CallNode(function='Maybe.__or__', type_params={'T': DeclaredTypeInstance(type='Either', params={'U': DeclaredTypeInstance(type='Vec', params={'T': DeclaredTypeInstance(type='Integer', params=None)}), 'T': DeclaredTypeInstance(type='Integer', params=None)})}, args=['2251776250973385170', '1997699398604894217'], kwargs=None)], '-6334021279672679594': ['74', CallNode(function='Maybe.__and__', type_params={'T': DeclaredTypeInstance(type='NDArray', params=None)}, args=['-3311216230674443042', '124345297713240916'], kwargs=None)], '-3482720502037424223': ['15', CallNode(function='Maybe.match', type_params={'T': DeclaredTypeInstance(type='Pair', params={'U': DeclaredTypeInstance(type='Either', params={'U': DeclaredTypeInstance(type='Vec', params={'T': DeclaredTypeInstance(type='Integer', params=None)}), 'T': DeclaredTypeInstance(type='Integer', params=None)}), 'T': DeclaredTypeInstance(type='NDArray', params=None)})}, args=['-6334021279672679594', '7703360805233009766', '-1113517133611780794'], kwargs=None)], '-2762840990310922925': ['4', CallNode(function='NDArrayCompat.from_ndarray', type_params=None, args=['-3482720502037424223'], kwargs=None)], '5307281808001279330': ['5', CallNode(function='NDArrayCompat.to_ndarray', type_params=None, args=['-2762840990310922925'], kwargs=None)], '-71907873773769076': ['73', CallNode(function='Maybe.just', type_params=None, args=['-1208112746975233409'], kwargs=None)], '-8290275346298956274': ['74', CallNode(function='Maybe.__and__', type_params={'T': DeclaredTypeInstance(type='NDArray', params=None)}, args=['-3311216230674443042', '-71907873773769076'], kwargs=None)], '-3239261498521016912': ['15', CallNode(function='Maybe.match', type_params={'T': DeclaredTypeInstance(type='Pair', params={'U': DeclaredTypeInstance(type='Either', params={'U': DeclaredTypeInstance(type='Vec', params={'T': DeclaredTypeInstance(type='Integer', params=None)}), 'T': DeclaredTypeInstance(type='Integer', params=None)}), 'T': DeclaredTypeInstance(type='NDArray', params=None)})}, args=['-8290275346298956274', '7703360805233009766', '-1113517133611780794'], kwargs=None)], '-1406815420626272808': ['4', CallNode(function='NDArrayCompat.from_ndarray', type_params=None, args=['-3239261498521016912'], kwargs=None)], '-5798884178613778928': ['5', CallNode(function='NDArrayCompat.to_ndarray', type_params=None, args=['-1406815420626272808'], kwargs=None)], '-2066112853042741421': ['163', CallNode(function='Maybe.just', type_params={'T': DeclaredTypeInstance(type='NDArray', params=None)}, args=['2071814520474456396'], kwargs=None)], '-2073976544615576127': ['131', CallNode(function='Abstraction.create', type_params=None, args=['-3501837872716648179', '-2066112853042741421'], kwargs=None)], '468805054980003995': ['55', CallNode(function='Abstraction.__call__', type_params={'U': DeclaredTypeInstance(type='Maybe', params={'T': DeclaredTypeInstance(type='NDArray', params=None)}), 'T': DeclaredTypeInstance(type='Integer', params=None)}, args=['-2073976544615576127', '-4649256587560651910'], kwargs=None)], '3983258972280835668': ['56', CallNode(function='NDArrayCompat.from_ndarray', type_params=None, args=['468805054980003995'], kwargs=None)], '124322056284817391': ['57', CallNode(function='NDArrayCompat.__add__', type_params=None, args=['3983258972280835668', '3983258972280835668'], kwargs=None)], '6977666340162912341': ['58', CallNode(function='Converter.convert', type_params={'T': DeclaredTypeInstance(type='NDArray', params=None)}, args=['124322056284817391'], kwargs=None)], '-4725857001011136581': ['74', CallNode(function='Maybe.__and__', type_params={'T': DeclaredTypeInstance(type='NDArray', params=None)}, args=['6977666340162912341', '-71907873773769076'], kwargs=None)], '-3834593462292399750': ['15', CallNode(function='Maybe.match', type_params={'T': DeclaredTypeInstance(type='Pair', params={'U': DeclaredTypeInstance(type='Either', params={'U': DeclaredTypeInstance(type='Vec', params={'T': DeclaredTypeInstance(type='Integer', params=None)}), 'T': DeclaredTypeInstance(type='Integer', params=None)}), 'T': DeclaredTypeInstance(type='NDArray', params=None)})}, args=['-4725857001011136581', '7703360805233009766', '-1113517133611780794'], kwargs=None)], '-7253558197686079074': ['4', CallNode(function='NDArrayCompat.from_ndarray', type_params=None, args=['-3834593462292399750'], kwargs=None)], '426896189218247103': ['5', CallNode(function='NDArrayCompat.to_ndarray', type_params=None, args=['-7253558197686079074'], kwargs=None)], '9094274569454627144': ['238', CallNode(function='arange_', type_params=None, args=['-4649256587560651910'], kwargs=None)], '-9020732879549574696': ['55', CallNode(function='Maybe.just', type_params={'T': DeclaredTypeInstance(type='NDArray', params=None)}, args=['9094274569454627144'], kwargs=None)], '1033551087041947658': ['56', CallNode(function='NDArrayCompat.from_ndarray', type_params=None, args=['-9020732879549574696'], kwargs=None)], '620191938697360669': ['57', CallNode(function='NDArrayCompat.__add__', type_params=None, args=['1033551087041947658', '1033551087041947658'], kwargs=None)], '3011704564372108511': ['58', CallNode(function='Converter.convert', type_params={'T': DeclaredTypeInstance(type='NDArray', params=None)}, args=['620191938697360669'], kwargs=None)], '8546114497697302659': ['74', CallNode(function='Maybe.__and__', type_params={'T': DeclaredTypeInstance(type='NDArray', params=None)}, args=['3011704564372108511', '-71907873773769076'], kwargs=None)], '-708920172235396273': ['15', CallNode(function='Maybe.match', type_params={'T': DeclaredTypeInstance(type='Pair', params={'U': DeclaredTypeInstance(type='Either', params={'U': DeclaredTypeInstance(type='Vec', params={'T': DeclaredTypeInstance(type='Integer', params=None)}), 'T': DeclaredTypeInstance(type='Integer', params=None)}), 'T': DeclaredTypeInstance(type='NDArray', params=None)})}, args=['8546114497697302659', '7703360805233009766', '-1113517133611780794'], kwargs=None)], '6307290233721499832': ['4', CallNode(function='NDArrayCompat.from_ndarray', type_params=None, args=['-708920172235396273'], kwargs=None)], '7784935797543539434': ['5', CallNode(function='NDArrayCompat.to_ndarray', type_params=None, args=['6307290233721499832'], kwargs=None)], '3015517905768064073': ['207', CallNode(function='NDArray.__add__', type_params=None, args=['9094274569454627144', '9094274569454627144'], kwargs=None)], '917422250035403493': ['58', CallNode(function='Maybe.just', type_params=None, args=['3015517905768064073'], kwargs=None)], '975327646540141658': ['57', CallNode(function='NDArrayCompat.from_ndarray', type_params=None, args=['917422250035403493'], kwargs=None)], '-3441594153459264420': ['58', CallNode(function='Converter.convert', type_params={'T': DeclaredTypeInstance(type='NDArray', params=None)}, args=['975327646540141658'], kwargs=None)], '-7064802824409813048': ['74', CallNode(function='Maybe.__and__', type_params={'T': DeclaredTypeInstance(type='NDArray', params=None)}, args=['-3441594153459264420', '-71907873773769076'], kwargs=None)], '-8855158067717844314': ['15', CallNode(function='Maybe.match', type_params={'T': DeclaredTypeInstance(type='Pair', params={'U': DeclaredTypeInstance(type='Either', params={'U': DeclaredTypeInstance(type='Vec', params={'T': DeclaredTypeInstance(type='Integer', params=None)}), 'T': DeclaredTypeInstance(type='Integer', params=None)}), 'T': DeclaredTypeInstance(type='NDArray', params=None)})}, args=['-7064802824409813048', '7703360805233009766', '-1113517133611780794'], kwargs=None)], '6626568121082905148': ['4', CallNode(function='NDArrayCompat.from_ndarray', type_params=None, args=['-8855158067717844314'], kwargs=None)], '-1646123280961522482': ['5', CallNode(function='NDArrayCompat.to_ndarray', type_params=None, args=['6626568121082905148'], kwargs=None)], '7200257852860797878': ['74', CallNode(function='Maybe.__and__', type_params={'T': DeclaredTypeInstance(type='NDArray', params=None)}, args=['917422250035403493', '-71907873773769076'], kwargs=None)], '-3385854698423233158': ['15', CallNode(function='Maybe.match', type_params={'T': DeclaredTypeInstance(type='Pair', params={'U': DeclaredTypeInstance(type='Either', params={'U': DeclaredTypeInstance(type='Vec', params={'T': DeclaredTypeInstance(type='Integer', params=None)}), 'T': DeclaredTypeInstance(type='Integer', params=None)}), 'T': DeclaredTypeInstance(type='NDArray', params=None)})}, args=['7200257852860797878', '7703360805233009766', '-1113517133611780794'], kwargs=None)], '5329831503584105886': ['4', CallNode(function='NDArrayCompat.from_ndarray', type_params=None, args=['-3385854698423233158'], kwargs=None)], '1714306252099673720': ['5', CallNode(function='NDArrayCompat.to_ndarray', type_params=None, args=['5329831503584105886'], kwargs=None)], '-4378767735171885778': ['206', CallNode(function='Pair.create', type_params=None, args=['3015517905768064073', '-1208112746975233409'], kwargs=None)], '8044909288445086102': ['74', CallNode(function='Maybe.just', type_params=None, args=['-4378767735171885778'], kwargs=None)], '3165603841891390426': ['15', CallNode(function='Maybe.match', type_params={'T': DeclaredTypeInstance(type='Pair', params={'U': DeclaredTypeInstance(type='Either', params={'U': DeclaredTypeInstance(type='Vec', params={'T': DeclaredTypeInstance(type='Integer', params=None)}), 'T': DeclaredTypeInstance(type='Integer', params=None)}), 'T': DeclaredTypeInstance(type='NDArray', params=None)})}, args=['8044909288445086102', '7703360805233009766', '-1113517133611780794'], kwargs=None)], '490912443843814804': ['4', CallNode(function='NDArrayCompat.from_ndarray', type_params=None, args=['3165603841891390426'], kwargs=None)], '3824742879323872396': ['5', CallNode(function='NDArrayCompat.to_ndarray', type_params=None, args=['490912443843814804'], kwargs=None)], '-2307563781240816546': ['15', CallNode(function='Abstraction.__call__', type_params={'U': DeclaredTypeInstance(type='Maybe', params={'T': DeclaredTypeInstance(type='NDArray', params=None)}), 'T': DeclaredTypeInstance(type='Pair', params={'U': DeclaredTypeInstance(type='Either', params={'U': DeclaredTypeInstance(type='Vec', params={'T': DeclaredTypeInstance(type='Integer', params=None)}), 'T': DeclaredTypeInstance(type='Integer', params=None)}), 'T': DeclaredTypeInstance(type='NDArray', params=None)})}, args=['-1113517133611780794', '-4378767735171885778'], kwargs=None)], '-2557443474507310094': ['4', CallNode(function='NDArrayCompat.from_ndarray', type_params=None, args=['-2307563781240816546'], kwargs=None)], '6462406003319768445': ['5', CallNode(function='NDArrayCompat.to_ndarray', type_params=None, args=['-2557443474507310094'], kwargs=None)], '2391294082487331790': ['207', CallNode(function='Pair.left', type_params={'U': DeclaredTypeInstance(type='Either', params={'U': DeclaredTypeInstance(type='Vec', params={'T': DeclaredTypeInstance(type='Integer', params=None)}), 'T': DeclaredTypeInstance(type='Integer', params=None)}), 'T': DeclaredTypeInstance(type='NDArray', params=None)}, args=['-4378767735171885778'], kwargs=None)], '3822845652799715414': ['208', CallNode(function='Pair.right', type_params={'U': DeclaredTypeInstance(type='Either', params={'U': DeclaredTypeInstance(type='Vec', params={'T': DeclaredTypeInstance(type='Integer', params=None)}), 'T': DeclaredTypeInstance(type='Integer', params=None)}), 'T': DeclaredTypeInstance(type='NDArray', params=None)}, args=['-4378767735171885778'], kwargs=None)], '-6492201068403465919': ['209', CallNode(function='NDArray.__getitem__', type_params=None, args=['2391294082487331790', '3822845652799715414'], kwargs=None)], '-5557731306797824588': ['15', CallNode(function='Maybe.just', type_params={'T': DeclaredTypeInstance(type='NDArray', params=None)}, args=['-6492201068403465919'], kwargs=None)], '-6202688075970782135': ['4', CallNode(function='NDArrayCompat.from_ndarray', type_params=None, args=['-5557731306797824588'], kwargs=None)], '-3534020860713457941': ['5', CallNode(function='NDArrayCompat.to_ndarray', type_params=None, args=['-6202688075970782135'], kwargs=None)], '-3715759040180187319': ['209', CallNode(function='NDArray.__getitem__', type_params=None, args=['2391294082487331790', '-1208112746975233409'], kwargs=None)], '-6385945437861283369': ['15', CallNode(function='Maybe.just', type_params={'T': DeclaredTypeInstance(type='NDArray', params=None)}, args=['-3715759040180187319'], kwargs=None)], '3736494866601926666': ['4', CallNode(function='NDArrayCompat.from_ndarray', type_params=None, args=['-6385945437861283369'], kwargs=None)], '2819905678209689071': ['5', CallNode(function='NDArrayCompat.to_ndarray', type_params=None, args=['3736494866601926666'], kwargs=None)], '1193603216482933380': ['209', CallNode(function='NDArray.__getitem__', type_params=None, args=['3015517905768064073', '-1208112746975233409'], kwargs=None)], '8729709324764633035': ['15', CallNode(function='Maybe.just', type_params={'T': DeclaredTypeInstance(type='NDArray', params=None)}, args=['1193603216482933380'], kwargs=None)], '-6007750462670501723': ['4', CallNode(function='NDArrayCompat.from_ndarray', type_params=None, args=['8729709324764633035'], kwargs=None)], '4656381298025305191': ['5', CallNode(function='NDArrayCompat.to_ndarray', type_params=None, args=['-6007750462670501723'], kwargs=None)], '947484561583250117': ['234', CallNode(function='NDArray.__getitem__', type_params=None, args=['9094274569454627144', '-1208112746975233409'], kwargs=None)], '-9072127489141282007': ['227', CallNode(function='NDArray.__add__', type_params=None, args=['947484561583250117', '947484561583250117'], kwargs=None)], '-5375311378463442255': ['15', CallNode(function='Maybe.just', type_params={'T': DeclaredTypeInstance(type='NDArray', params=None)}, args=['-9072127489141282007'], kwargs=None)], '-8528065363637824808': ['4', CallNode(function='NDArrayCompat.from_ndarray', type_params=None, args=['-5375311378463442255'], kwargs=None)], '5853128254907136721': ['5', CallNode(function='NDArrayCompat.to_ndarray', type_params=None, args=['-8528065363637824808'], kwargs=None)], '-5060777275490286588': ['5', CallNode(function='NDArray.to_ndarray', type_params=None, args=['-9072127489141282007'], kwargs=None)], '-4970196529013524285': ['235', CallNode(function='NDArray.to_ndarray', type_params=None, args=['947484561583250117'], kwargs=None)], '2074011151790556785': ['5', CallNode(function='ndarray_add', type_params=None, args=['-4970196529013524285', '-4970196529013524285'], kwargs=None)], '-6708565899743828771': ['239', CallNode(function='NDArray.to_ndarray', type_params=None, args=['9094274569454627144'], kwargs=None)], '-1678443516291542066': ['243', CallNode(function='unbox_idxs', type_params=None, args=['-1208112746975233409'], kwargs=None)], '-2780767872016522262': ['235', CallNode(function='ndarray_getitem', type_params=None, args=['-6708565899743828771', '-1678443516291542066'], kwargs=None)], '-1224386916651147455': ['5', CallNode(function='ndarray_add', type_params=None, args=['-2780767872016522262', '-2780767872016522262'], kwargs=None)], '6674882009630327653': ['243', CallNode(function='unbox_integer', type_params=None, args=['830260340471481657'], kwargs=None)], '6293067906089160797': ['235', CallNode(function='ndarray_getitem', type_params=None, args=['-6708565899743828771', '6674882009630327653'], kwargs=None)], '-3556983189806491727': ['5', CallNode(function='ndarray_add', type_params=None, args=['6293067906089160797', '6293067906089160797'], kwargs=None)], '-5098234159783535950': ['235', CallNode(function='ndarray_getitem', type_params=None, args=['-6708565899743828771', '4713779054406638500'], kwargs=None)], '-5745754939498488777': ['5', CallNode(function='ndarray_add', type_params=None, args=['-5098234159783535950', '-5098234159783535950'], kwargs=None)], '8744454737154277936': ['248', CallNode(function='unbox_integer', type_params=None, args=['-4649256587560651910'], kwargs=None)], '6887897455744159115': ['239', CallNode(function='arange', type_params=None, args=['8744454737154277936'], kwargs=None)], '-480737033922099036': ['235', CallNode(function='ndarray_getitem', type_params=None, args=['6887897455744159115', '4713779054406638500'], kwargs=None)], '8293204708488526479': ['5', CallNode(function='ndarray_add', type_params=None, args=['-480737033922099036', '-480737033922099036'], kwargs=None)], '8214520643793371129': ['239', CallNode(function='arange', type_params=None, args=['4713779054301633575'], kwargs=None)], '-8091196920750435287': ['235', CallNode(function='ndarray_getitem', type_params=None, args=['8214520643793371129', '4713779054406638500'], kwargs=None)], '-7215683733302050805': ['5', CallNode(function='ndarray_add', type_params=None, args=['-8091196920750435287', '-8091196920750435287'], kwargs=None)], '-7310616102909680091': ['239', PrimitiveNode(type='ndarray', repr='array([ 0,  1,  2,  3,  4,  5,  6,  7,  8,  9, 10, 11, 12, 13, 14, 15, 16,\\n       17, 18, 19, 20, 21, 22, 23, 24, 25, 26, 27, 28, 29, 30, 31, 32, 33,\\n       34, 35, 36, 37, 38, 39, 40, 41, 42, 43, 44, 45, 46, 47, 48, 49, 50,\\n       51, 52, 53, 54, 55, 56, 57, 58, 59, 60, 61, 62, 63, 64, 65, 66, 67,\\n       68, 69, 70, 71, 72, 73, 74, 75, 76, 77, 78, 79, 80, 81, 82, 83, 84,\\n       85, 86, 87, 88, 89, 90, 91, 92, 93, 94, 95, 96, 97, 98, 99])')], '-1394110507847108417': ['235', CallNode(function='ndarray_getitem', type_params=None, args=['-7310616102909680091', '4713779054406638500'], kwargs=None)], '8383610624223356529': ['5', CallNode(function='ndarray_add', type_params=None, args=['-1394110507847108417', '-1394110507847108417'], kwargs=None)], '-7310615341123847291': ['235', PrimitiveNode(type='ndarray', repr='array(5)')], '4045457407901259099': ['5', CallNode(function='ndarray_add', type_params=None, args=['-7310615341123847291', '-7310615341123847291'], kwargs=None)], '1951234376881206017': ['5', PrimitiveNode(type='int64', repr='10')]}, states=States(initial='-1236185272749818955', states=[State(node='938051110261300043', rule='metadsl_core.numpy.NDArrayCompat.__getitem__', label=None), State(node='6963509098467460201', rule='metadsl_core.either.convert_to_either', label=None), State(node='-6964302811433065846', rule='metadsl_core.integer.convert_integer', label=None), State(node='4494230571755994461', rule='metadsl_core.numpy.arange', label=None), State(node='3015224123855205996', rule='metadsl_core.integer.convert_integer', label=None), State(node='-1114041580159990955', rule='metadsl_core.abstraction.Abstraction.from_fn', label=None), State(node='7421814419874415906', rule='metadsl_core.abstraction.Abstraction.from_fn', label=None), State(node='8847362646620807121', rule='metadsl_core.abstraction.Abstraction.from_fn', label=None), State(node='-1482771421848500021', rule='metadsl_core.abstraction.Abstraction.from_fn', label=None), State(node='5144707806795626439', rule='metadsl_core.maybe.Maybe.map', label=None), State(node='6290386455703425552', rule='metadsl_core.maybe.Maybe.map', label=None), State(node='-1913890841885673392', rule='metadsl_core.maybe.Maybe.map', label=None), State(node='-266973439100455150', rule='metadsl_core.maybe.maybe_match', label=None), State(node='-3838057642674473132', rule='metadsl_core.maybe.Maybe.map', label=None), State(node='4172349909600475366', rule='metadsl_core.maybe.maybe_match', label=None), State(node='6512425299397420152', rule='metadsl_core.abstraction.Abstraction.from_fn', label=None), State(node='-301393546479120104', rule='metadsl_core.abstraction.Abstraction.from_fn', label=None), State(node='5856787990280495453', rule='metadsl_core.abstraction.compose', label=None), State(node='611072862449565967', rule='metadsl_core.abstraction.compose', label=None), State(node='-172547541710843077', rule='metadsl_core.abstraction.compose', label=None), State(node='5307281808001279330', rule='metadsl_core.abstraction.beta_reduce', label=None), State(node='-5798884178613778928', rule='metadsl_core.maybe.maybe_or', label=None), State(node='426896189218247103', rule='metadsl_core.abstraction.compose', label=None), State(node='7784935797543539434', rule='metadsl_core.abstraction.beta_reduce', label=None), State(node='-1646123280961522482', rule='metadsl_core.numpy.add_compat', label=None), State(node='1714306252099673720', rule='metadsl_core.numpy.convert_to_ndarray', label=None), State(node='3824742879323872396', rule='metadsl_core.maybe.maybe_and', label=None), State(node='6462406003319768445', rule='metadsl_core.maybe.maybe_match', label=None), State(node='-3534020860713457941', rule='metadsl_core.abstraction.beta_reduce', label=None), State(node='2819905678209689071', rule='metadsl_core.pair.pair_right', label=None), State(node='4656381298025305191', rule='metadsl_core.pair.pair_left', label=None), State(node='4656381298025305191', rule='', label='convert'), State(node='5853128254907136721', rule='__main__.optimize_getitem_add', label=None), State(node='5853128254907136721', rule='', label='optimize'), State(node='-5060777275490286588', rule='metadsl_core.numpy.box_unbox_ndarray_compat', label=None), State(node='2074011151790556785', rule='metadsl_core.numpy_engine.unbox_ndarray_add', label=None), State(node='-1224386916651147455', rule='metadsl_core.numpy_engine.unbox_ndarray_getitem', label=None), State(node='-3556983189806491727', rule='metadsl_core.numpy_engine.unbox_idxs_rule', label=None), State(node='-5745754939498488777', rule='metadsl_core.numpy_engine.unbox_integer_rule', label=None), State(node='8293204708488526479', rule='metadsl_core.numpy_engine.unbox_arange', label=None), State(node='-7215683733302050805', rule='metadsl_core.numpy_engine.unbox_integer_rule', label=None), State(node='-7215683733302050805', rule='', label='unbox'), State(node='8383610624223356529', rule='metadsl_core.numpy_engine.arange', label=None), State(node='4045457407901259099', rule='metadsl_core.numpy_engine.ndarray_getitem', label=None), State(node='1951234376881206017', rule='metadsl_core.numpy_engine.ndarray_add', label=None), State(node='1951234376881206017', rule='', label='execute')]))"
      ]
     },
     "metadata": {},
     "output_type": "display_data"
    },
    {
     "data": {
      "text/plain": [
       "10"
      ]
     },
     "metadata": {},
     "output_type": "display_data"
    }
   ],
   "source": [
    "expr"
   ]
  },
  {
   "cell_type": "markdown",
   "metadata": {},
   "source": [
    "This shows how we can break up the NumPy API into different layers, all of which are extensible:\n",
    "\n",
    "1. A compatibility layer that works like the existing NumPy API, except isn't limited to the Python types of the current API\n",
    "2. A type safe version of this API. The conversion between the compatability layer and this layer is extensible, so that third party authors can add new conversion between their own Python objects and the typed representation.\n",
    "3. A backend layer that translates either back to Python calls or source code, or to other targets like LLVM or Tensorflow.\n",
    "\n",
    "The key is that all these layers are composable, so you could have different frontends for any of them or add your own. This is all done through a typed replacement system that is compatible with static analysis using MyPy.\n",
    "\n",
    "`metadsl` is the glue that allows us to define this API in a way that enables greater greater collaboration. Since each layer has it's own well defined specification, different projects can extend and target these seperate layers, while minimizing the need to explicitly opt in to collaborate. The goal is to enable greater reuse, interoperability, and extensability within the Python scientific ecosystem."
   ]
  }
 ],
 "metadata": {
  "kernelspec": {
   "display_name": "Python 3",
   "language": "python",
   "name": "python3"
  },
  "language_info": {
   "codemirror_mode": {
    "name": "ipython",
    "version": 3
   },
   "file_extension": ".py",
   "mimetype": "text/x-python",
   "name": "python",
   "nbconvert_exporter": "python",
   "pygments_lexer": "ipython3",
   "version": "3.7.3"
  }
 },
 "nbformat": 4,
 "nbformat_minor": 4
}
