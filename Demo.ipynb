{
 "cells": [
  {
   "cell_type": "markdown",
   "metadata": {},
   "source": [
    "# `metadsl`\n",
    "\n",
    "...is a framework for creating domain specific languages in Python."
   ]
  },
  {
   "cell_type": "code",
   "execution_count": 1,
   "metadata": {},
   "outputs": [],
   "source": [
    "from metadsl import *\n",
    "from metadsl_core import *\n",
    "from metadsl_visualize import *"
   ]
  },
  {
   "cell_type": "markdown",
   "metadata": {},
   "source": [
    "Here, we show a NumPy API compatible DSL that we have started writing. We can create a symbolic expression and then execute it. The widget shows the different stages of execution:"
   ]
  },
  {
   "cell_type": "code",
   "execution_count": 2,
   "metadata": {},
   "outputs": [
    {
     "data": {
      "application/x.typez+json": {
       "nodes": {
        "-1057398411627644727": [
         "5",
         {
          "args": [
           "4626051976203745967"
          ],
          "function": "NDArrayCompat.to_ndarray"
         }
        ],
        "-1083255109868135938": [
         "23",
         {
          "args": [
           "-6152497192860062787"
          ],
          "function": "Abstraction.from_fn"
         }
        ],
        "-1162002145574270131": [
         "55",
         {
          "args": [
           "-3663977459896762680",
           "-3538432380898116735"
          ],
          "function": "Maybe.map",
          "type_params": {
           "T": {
            "type": "Integer"
           }
          }
         }
        ],
        "-1181318727050750860": [
         "4",
         {
          "args": [
           "-5230423830143714880"
          ],
          "function": "NDArrayCompat.from_ndarray"
         }
        ],
        "-1394901672907631591": [
         "58",
         {
          "args": [
           "2790862316037737043"
          ],
          "function": "Converter.convert",
          "type_params": {
           "T": {
            "type": "NDArray"
           }
          }
         }
        ],
        "-1408805913664019118": [
         "5",
         {
          "args": [
           "8065818816317286483"
          ],
          "function": "NDArrayCompat.to_ndarray"
         }
        ],
        "-1465703885638777874": [
         "11",
         {
          "args": [
           "3082428100891284088",
           "5500059858730011794"
          ],
          "function": "Maybe.__or__",
          "type_params": {
           "T": {
            "params": {
             "T": {
              "type": "Integer"
             },
             "U": {
              "params": {
               "T": {
                "type": "Integer"
               }
              },
              "type": "Vec"
             }
            },
            "type": "Either"
           }
          }
         }
        ],
        "-1514561423151448007": [
         "15",
         {
          "args": [
           "-402687706647757990",
           "5658948509727247306"
          ],
          "function": "Abstraction.__call__",
          "type_params": {
           "T": {
            "params": {
             "T": {
              "type": "NDArray"
             },
             "U": {
              "params": {
               "T": {
                "type": "Integer"
               },
               "U": {
                "params": {
                 "T": {
                  "type": "Integer"
                 }
                },
                "type": "Vec"
               }
              },
              "type": "Either"
             }
            },
            "type": "Pair"
           },
           "U": {
            "params": {
             "T": {
              "type": "NDArray"
             }
            },
            "type": "Maybe"
           }
          }
         }
        ],
        "-157613696092695887": [
         "74",
         {
          "args": [
           "-8898633772241433608",
           "-7207968979249905896"
          ],
          "function": "Maybe.__and__",
          "type_params": {
           "T": {
            "type": "NDArray"
           }
          }
         }
        ],
        "-1581393561965480632": [
         "5",
         {
          "args": [
           "-8005282414065216697",
           "8914573405677997503"
          ],
          "function": "ndarray_getitem"
         }
        ],
        "-161397961622156103": [
         "8",
         {
          "args": [
           "5690797283837129356",
           "5690797283837129356"
          ],
          "function": "NDArrayCompat.__add__"
         }
        ],
        "-1664248791757170789": [
         "126",
         {
          "args": [
           "-784149350785484050",
           "-8451844471479557208"
          ],
          "function": "Abstraction.create",
          "type_params": {
           "T": {
            "type": "NDArray"
           },
           "U": {
            "params": {
             "T": {
              "type": "NDArray"
             }
            },
            "type": "Maybe"
           }
          }
         }
        ],
        "-167329001921187419": [
         "58",
         {
          "args": [
           "-7942663079282832565"
          ],
          "function": "Converter.convert",
          "type_params": {
           "T": {
            "type": "NDArray"
           }
          }
         }
        ],
        "-169016107510687255": [
         "74",
         {
          "args": [
           "-7229931461017194969",
           "3268569637052015965"
          ],
          "function": "Maybe.__and__",
          "type_params": {
           "T": {
            "type": "NDArray"
           }
          }
         }
        ],
        "-170205731656610441": [
         "55",
         {
          "args": [
           "-3663977459896762680",
           "6923212541040143847",
           "7469357359188011196"
          ],
          "function": "Maybe.match",
          "type_params": {
           "T": {
            "type": "Integer"
           }
          }
         }
        ],
        "-1753840430160302547": [
         "12",
         {
          "args": [
           "-5995768340210771126",
           "-1465703885638777874"
          ],
          "function": "Maybe.__and__",
          "type_params": {
           "T": {
            "type": "NDArray"
           }
          }
         }
        ],
        "-1769148634877987945": [
         "160",
         {
          "repr": "4755894056",
          "type": "Variable"
         }
        ],
        "-1769148641750939170": [
         "134",
         {
          "repr": "4756036632",
          "type": "Variable"
         }
        ],
        "-1769148686146371945": [
         "146",
         {
          "repr": "4755644200",
          "type": "Variable"
         }
        ],
        "-1769148686873828745": [
         "184",
         {
          "repr": "4755644712",
          "type": "Variable"
         }
        ],
        "-1809694312351612805": [
         "5",
         {
          "args": [
           "-3625319853904116828",
           "-6006380681219437916"
          ],
          "function": "ndarray_getitem"
         }
        ],
        "-1870084270352621891": [
         "5",
         {
          "args": [
           "-8005282414065216697",
           "-3420273265503024286"
          ],
          "function": "ndarray_getitem"
         }
        ],
        "-2197005462382321726": [
         "17",
         {
          "args": [
           "-6006380681219437916"
          ],
          "function": "Converter.convert",
          "type_params": {
           "T": {
            "type": "Integer"
           }
          }
         }
        ],
        "-2233795389975400231": [
         "131",
         {
          "args": [
           "7704628766149539003",
           "-8970030002248239990"
          ],
          "function": "Abstraction.create"
         }
        ],
        "-2238180516135160642": [
         "55",
         {
          "args": [
           "-2233795389975400231",
           "7966602236760319018"
          ],
          "function": "Abstraction.__call__",
          "type_params": {
           "T": {
            "type": "Integer"
           },
           "U": {
            "params": {
             "T": {
              "type": "NDArray"
             }
            },
            "type": "Maybe"
           }
          }
         }
        ],
        "-230661046212014492": [
         "188",
         {
          "args": [
           "5382956085246114586",
           "-8050850474806450622"
          ],
          "function": "NDArray.__getitem__"
         }
        ],
        "-2319617528498365451": [
         "5",
         {
          "args": [
           "-4077596736928142730"
          ],
          "function": "NDArrayCompat.to_ndarray"
         }
        ],
        "-2642755983487770568": [
         "4",
         {
          "args": [
           "-8696984683730910075"
          ],
          "function": "NDArrayCompat.from_ndarray"
         }
        ],
        "-2664009043835784622": [
         "12",
         {
          "args": [
           "1012826617303473267",
           "-1465703885638777874"
          ],
          "function": "Maybe.__and__",
          "type_params": {
           "T": {
            "type": "NDArray"
           }
          }
         }
        ],
        "-2760370798076581086": [
         "30",
         {
          "args": [
           "-3600341354432336976"
          ],
          "function": "Abstraction.from_fn"
         }
        ],
        "-2917528559518353172": [
         "225",
         {
          "args": [
           "2684644184161203478",
           "2684644184161203478"
          ],
          "function": "ndarray_add"
         }
        ],
        "-294720464308517712": [
         "12",
         {
          "args": [
           "-6108681454956942208",
           "1720240134652981095"
          ],
          "function": "Maybe.__and__",
          "type_params": {
           "T": {
            "type": "NDArray"
           }
          }
         }
        ],
        "-2978624003297064854": [
         "189",
         {
          "args": [
           "-230661046212014492"
          ],
          "function": "Maybe.just",
          "type_params": {
           "T": {
            "type": "NDArray"
           }
          }
         }
        ],
        "-3106899936711395658": [
         "225",
         {
          "args": [
           "282018813621593594",
           "282018813621593594"
          ],
          "function": "ndarray_add"
         }
        ],
        "-3202680218131012589": [
         "57",
         {
          "args": [
           "4062915358529062846",
           "4062915358529062846"
          ],
          "function": "NDArrayCompat.__add__"
         }
        ],
        "-3207699288374113374": [
         "18",
         {
          "repr": "Either.left",
          "type": "BoundInfer"
         }
        ],
        "-3217089722505413646": [
         "74",
         {
          "args": [
           "-8898633772241433608",
           "9066622150592223557"
          ],
          "function": "Maybe.__and__",
          "type_params": {
           "T": {
            "type": "NDArray"
           }
          }
         }
        ],
        "-3420273265503024286": [
         "229",
         {
          "args": [
           "6846199819414548970"
          ],
          "function": "unbox_idxs"
         }
        ],
        "-3443874186027682784": [
         "15",
         {
          "args": [
           "5795631916523570241",
           "6923212541040143847",
           "-4088485252777652336"
          ],
          "function": "Maybe.match",
          "type_params": {
           "T": {
            "params": {
             "T": {
              "type": "NDArray"
             },
             "U": {
              "params": {
               "T": {
                "type": "Integer"
               },
               "U": {
                "params": {
                 "T": {
                  "type": "Integer"
                 }
                },
                "type": "Vec"
               }
              },
              "type": "Either"
             }
            },
            "type": "Pair"
           }
          }
         }
        ],
        "-3466395086006031233": [
         "110",
         {
          "args": [
           "-3654564810827262394",
           "-7318106640774130145"
          ],
          "function": "Abstraction.create",
          "type_params": {
           "T": {
            "type": "Integer"
           },
           "U": {
            "params": {
             "T": {
              "type": "Integer"
             },
             "U": {
              "params": {
               "T": {
                "type": "Integer"
               }
              },
              "type": "Vec"
             }
            },
            "type": "Either"
           }
          }
         }
        ],
        "-3538432380898116735": [
         "130",
         {
          "args": [
           "7704628766149539003",
           "6284682917605640706"
          ],
          "function": "Abstraction.create",
          "type_params": {
           "T": {
            "type": "Integer"
           },
           "U": {
            "type": "NDArray"
           }
          }
         }
        ],
        "-3559938788049613326": [
         "5",
         {
          "args": [
           "-5795195994049443272"
          ],
          "function": "NDArrayCompat.to_ndarray"
         }
        ],
        "-3600341354432336976": [
         "29",
         {
          "repr": "arange_",
          "type": "Infer"
         }
        ],
        "-3625319853904116828": [
         "225",
         {
          "args": [
           "-746751358794817691",
           "-746751358794817691"
          ],
          "function": "ndarray_add"
         }
        ],
        "-3654564810827262394": [
         "151",
         {
          "args": [
           "7454223398024489088"
          ],
          "function": "Abstraction.create_variable",
          "type_params": {
           "T": {
            "type": "Integer"
           },
           "U": {
            "params": {
             "T": {
              "type": "Integer"
             },
             "U": {
              "params": {
               "T": {
                "type": "Integer"
               }
              },
              "type": "Vec"
             }
            },
            "type": "Either"
           }
          }
         }
        ],
        "-3663977459896762680": [
         "116",
         {
          "args": [
           "7966602236760319018"
          ],
          "function": "Maybe.just"
         }
        ],
        "-3682687972481198152": [
         "15",
         {
          "args": [
           "4790584449111311731",
           "2613842450893822531"
          ],
          "function": "Maybe.map",
          "type_params": {
           "T": {
            "params": {
             "T": {
              "type": "NDArray"
             },
             "U": {
              "params": {
               "T": {
                "type": "Integer"
               },
               "U": {
                "params": {
                 "T": {
                  "type": "Integer"
                 }
                },
                "type": "Vec"
               }
              },
              "type": "Either"
             }
            },
            "type": "Pair"
           }
          }
         }
        ],
        "-3683823410489128412": [
         "5",
         {
          "args": [
           "-4886192741181714182"
          ],
          "function": "NDArrayCompat.to_ndarray"
         }
        ],
        "-3703220033579508953": [
         "5",
         {
          "args": [
           "2577982592084368718"
          ],
          "function": "NDArrayCompat.to_ndarray"
         }
        ],
        "-3718179224137556323": [
         "4",
         {
          "args": [
           "-9183678103075162506"
          ],
          "function": "NDArrayCompat.from_ndarray"
         }
        ],
        "-3721803504179224446": [
         "220",
         {
          "args": [
           "5395502310657657145",
           "6846199819414548970"
          ],
          "function": "NDArray.__getitem__"
         }
        ],
        "-3722002412128931575": [
         "58",
         {
          "args": [
           "4920909026102652322"
          ],
          "function": "Converter.convert",
          "type_params": {
           "T": {
            "type": "NDArray"
           }
          }
         }
        ],
        "-3770638885822857985": [
         "5",
         {
          "args": [
           "-4789331727746810919"
          ],
          "function": "NDArrayCompat.to_ndarray"
         }
        ],
        "-3998014355988021615": [
         "15",
         {
          "args": [
           "-2664009043835784622",
           "916307827233441443"
          ],
          "function": "Maybe.map",
          "type_params": {
           "T": {
            "params": {
             "T": {
              "type": "NDArray"
             },
             "U": {
              "params": {
               "T": {
                "type": "Integer"
               },
               "U": {
                "params": {
                 "T": {
                  "type": "Integer"
                 }
                },
                "type": "Vec"
               }
              },
              "type": "Either"
             }
            },
            "type": "Pair"
           }
          }
         }
        ],
        "-402687706647757990": [
         "190",
         {
          "args": [
           "-4330389453277983072",
           "-2978624003297064854"
          ],
          "function": "Abstraction.create"
         }
        ],
        "-4077596736928142730": [
         "4",
         {
          "args": [
           "8913131760705745265"
          ],
          "function": "NDArrayCompat.from_ndarray"
         }
        ],
        "-4088485252777652336": [
         "84",
         {
          "args": [
           "4632250920673423873",
           "2613842450893822531"
          ],
          "function": "Abstraction.__add__",
          "type_params": {
           "T": {
            "type": "NDArray"
           },
           "U": {
            "params": {
             "T": {
              "type": "NDArray"
             }
            },
            "type": "Maybe"
           }
          }
         }
        ],
        "-4103340559538813451": [
         "15",
         {
          "args": [
           "6060792842079742194",
           "6923212541040143847",
           "-4088485252777652336"
          ],
          "function": "Maybe.match",
          "type_params": {
           "T": {
            "params": {
             "T": {
              "type": "NDArray"
             },
             "U": {
              "params": {
               "T": {
                "type": "Integer"
               },
               "U": {
                "params": {
                 "T": {
                  "type": "Integer"
                 }
                },
                "type": "Vec"
               }
              },
              "type": "Either"
             }
            },
            "type": "Pair"
           }
          }
         }
        ],
        "-4108468916696489519": [
         "136",
         {
          "args": [
           "3388998044925133563"
          ],
          "function": "Maybe.just",
          "type_params": {
           "T": {
            "params": {
             "T": {
              "type": "Integer"
             },
             "U": {
              "params": {
               "T": {
                "type": "Integer"
               }
              },
              "type": "Vec"
             }
            },
            "type": "Either"
           }
          }
         }
        ],
        "-4175893634975995131": [
         "15",
         {
          "args": [
           "4790584449111311731",
           "916307827233441443"
          ],
          "function": "Maybe.map",
          "type_params": {
           "T": {
            "params": {
             "T": {
              "type": "NDArray"
             },
             "U": {
              "params": {
               "T": {
                "type": "Integer"
               },
               "U": {
                "params": {
                 "T": {
                  "type": "Integer"
                 }
                },
                "type": "Vec"
               }
              },
              "type": "Either"
             }
            },
            "type": "Pair"
           }
          }
         }
        ],
        "-431939898243646431": [
         "56",
         {
          "args": [
           "7303639167264718852"
          ],
          "function": "NDArrayCompat.from_ndarray"
         }
        ],
        "-4330389453277983072": [
         "185",
         {
          "args": [
           "-1769148686873828745"
          ],
          "function": "Abstraction.create_variable",
          "type_params": {
           "T": {
            "params": {
             "T": {
              "type": "NDArray"
             },
             "U": {
              "params": {
               "T": {
                "type": "Integer"
               },
               "U": {
                "params": {
                 "T": {
                  "type": "Integer"
                 }
                },
                "type": "Vec"
               }
              },
              "type": "Either"
             }
            },
            "type": "Pair"
           },
           "U": {
            "type": "NDArray"
           }
          }
         }
        ],
        "-4535890237836401987": [
         "207",
         {
          "args": [
           "5658948509727247306"
          ],
          "function": "Pair.left",
          "type_params": {
           "T": {
            "type": "NDArray"
           },
           "U": {
            "params": {
             "T": {
              "type": "Integer"
             },
             "U": {
              "params": {
               "T": {
                "type": "Integer"
               }
              },
              "type": "Vec"
             }
            },
            "type": "Either"
           }
          }
         }
        ],
        "-4582399117431256088": [
         "4",
         {
          "args": [
           "-863801757947353806"
          ],
          "function": "NDArrayCompat.from_ndarray"
         }
        ],
        "-4597967472733669371": [
         "92",
         {
          "args": [
           "-7087181858197164518",
           "6163316197898602162"
          ],
          "function": "Abstraction.create",
          "type_params": {
           "T": {
            "params": {
             "T": {
              "type": "Integer"
             }
            },
            "type": "Vec"
           },
           "U": {
            "params": {
             "T": {
              "type": "Integer"
             },
             "U": {
              "params": {
               "T": {
                "type": "Integer"
               }
              },
              "type": "Vec"
             }
            },
            "type": "Either"
           }
          }
         }
        ],
        "-4611929971200772528": [
         "15",
         {
          "args": [
           "6218656818051638852",
           "6923212541040143847",
           "6494935047604091880"
          ],
          "function": "Maybe.match",
          "type_params": {
           "T": {
            "params": {
             "T": {
              "type": "NDArray"
             },
             "U": {
              "params": {
               "T": {
                "type": "Integer"
               },
               "U": {
                "params": {
                 "T": {
                  "type": "Integer"
                 }
                },
                "type": "Vec"
               }
              },
              "type": "Either"
             }
            },
            "type": "Pair"
           }
          }
         }
        ],
        "-463088303001397421": [
         "5",
         {
          "args": [
           "7334339897450711968"
          ],
          "function": "NDArrayCompat.to_ndarray"
         }
        ],
        "-4717185650047279506": [
         "74",
         {
          "args": [
           "-8898633772241433608",
           "-5415631500368010402"
          ],
          "function": "Maybe.__and__",
          "type_params": {
           "T": {
            "type": "NDArray"
           }
          }
         }
        ],
        "-4789331727746810919": [
         "4",
         {
          "args": [
           "407643063292358031"
          ],
          "function": "NDArrayCompat.from_ndarray"
         }
        ],
        "-4831729597431283210": [
         "4",
         {
          "args": [
           "-4103340559538813451"
          ],
          "function": "NDArrayCompat.from_ndarray"
         }
        ],
        "-4848965588687345256": [
         "73",
         {
          "args": [
           "2765548341613290881",
           "-7892135140000011790"
          ],
          "function": "Maybe.__or__",
          "type_params": {
           "T": {
            "params": {
             "T": {
              "type": "Integer"
             },
             "U": {
              "params": {
               "T": {
                "type": "Integer"
               }
              },
              "type": "Vec"
             }
            },
            "type": "Either"
           }
          }
         }
        ],
        "-4875141089409104557": [
         "4",
         {
          "args": [
           "960714452009246525"
          ],
          "function": "NDArrayCompat.from_ndarray"
         }
        ],
        "-4886192741181714182": [
         "4",
         {
          "args": [
           "1402407605770655992"
          ],
          "function": "NDArrayCompat.from_ndarray"
         }
        ],
        "-4907493983724134701": [
         "5",
         {
          "args": [
           "1354386262836947491"
          ],
          "function": "NDArrayCompat.to_ndarray"
         }
        ],
        "-4917515354218650496": [
         "5",
         {
          "args": [
           "-3718179224137556323"
          ],
          "function": "NDArrayCompat.to_ndarray"
         }
        ],
        "-4938104147070211245": [
         "57",
         {
          "args": [
           "4750778754995438223",
           "4750778754995438223"
          ],
          "function": "NDArrayCompat.__add__"
         }
        ],
        "-4960344124539660439": [
         "149",
         {
          "args": [
           "6163316197898602162"
          ],
          "function": "Maybe.just",
          "type_params": {
           "T": {
            "params": {
             "T": {
              "type": "Integer"
             },
             "U": {
              "params": {
               "T": {
                "type": "Integer"
               }
              },
              "type": "Vec"
             }
            },
            "type": "Either"
           }
          }
         }
        ],
        "-4964287446436135203": [
         "15",
         {
          "args": [
           "4294705322268200079",
           "2613842450893822531"
          ],
          "function": "Maybe.map",
          "type_params": {
           "T": {
            "params": {
             "T": {
              "type": "NDArray"
             },
             "U": {
              "params": {
               "T": {
                "type": "Integer"
               },
               "U": {
                "params": {
                 "T": {
                  "type": "Integer"
                 }
                },
                "type": "Vec"
               }
              },
              "type": "Either"
             }
            },
            "type": "Pair"
           }
          }
         }
        ],
        "-5134191361509569736": [
         "93",
         {
          "args": [
           "3355364138531677718",
           "-4597967472733669371"
          ],
          "function": "Abstraction.__add__",
          "type_params": {
           "T": {
            "params": {
             "T": {
              "type": "Integer"
             },
             "U": {
              "params": {
               "T": {
                "type": "Integer"
               }
              },
              "type": "Vec"
             }
            },
            "type": "Either"
           },
           "U": {
            "params": {
             "T": {
              "params": {
               "T": {
                "type": "Integer"
               },
               "U": {
                "params": {
                 "T": {
                  "type": "Integer"
                 }
                },
                "type": "Vec"
               }
              },
              "type": "Either"
             }
            },
            "type": "Maybe"
           }
          }
         }
        ],
        "-5230423830143714880": [
         "15",
         {
          "args": [
           "6218656818051638852",
           "6923212541040143847",
           "-402687706647757990"
          ],
          "function": "Maybe.match",
          "type_params": {
           "T": {
            "params": {
             "T": {
              "type": "NDArray"
             },
             "U": {
              "params": {
               "T": {
                "type": "Integer"
               },
               "U": {
                "params": {
                 "T": {
                  "type": "Integer"
                 }
                },
                "type": "Vec"
               }
              },
              "type": "Either"
             }
            },
            "type": "Pair"
           }
          }
         }
        ],
        "-5415631500368010402": [
         "73",
         {
          "args": [
           "4873035549798093790",
           "-7892135140000011790"
          ],
          "function": "Maybe.__or__",
          "type_params": {
           "T": {
            "params": {
             "T": {
              "type": "Integer"
             },
             "U": {
              "params": {
               "T": {
                "type": "Integer"
               }
              },
              "type": "Vec"
             }
            },
            "type": "Either"
           }
          }
         }
        ],
        "-5542466977718055163": [
         "96",
         {
          "args": [
           "6962730042678839849"
          ],
          "function": "Maybe.just"
         }
        ],
        "-5570188025519585762": [
         "74",
         {
          "args": [
           "-1394901672907631591",
           "9066622150592223557"
          ],
          "function": "Maybe.__and__",
          "type_params": {
           "T": {
            "type": "NDArray"
           }
          }
         }
        ],
        "-5575582935218525837": [
         "5",
         {
          "args": [
           "3241113757427114754"
          ],
          "function": "NDArrayCompat.to_ndarray"
         }
        ],
        "-5664258816298182988": [
         "235",
         {
          "args": [
           "-6006380681324442841"
          ],
          "function": "arange"
         }
        ],
        "-5695245968775064118": [
         "125",
         {
          "repr": "Maybe.just",
          "type": "BoundInfer"
         }
        ],
        "-5795195994049443272": [
         "4",
         {
          "args": [
           "2362664450352797313"
          ],
          "function": "NDArrayCompat.from_ndarray"
         }
        ],
        "-5840766389335805192": [
         "5",
         {
          "args": [
           "-6147530264868891386"
          ],
          "function": "NDArrayCompat.to_ndarray"
         }
        ],
        "-5986049905084669153": [
         "66",
         {
          "args": [
           "-6081109541745449078",
           "6962730042678839849"
          ],
          "function": "Abstraction.__call__",
          "type_params": {
           "T": {
            "type": "Integer"
           },
           "U": {
            "params": {
             "T": {
              "params": {
               "T": {
                "type": "Integer"
               },
               "U": {
                "params": {
                 "T": {
                  "type": "Integer"
                 }
                },
                "type": "Vec"
               }
              },
              "type": "Either"
             }
            },
            "type": "Maybe"
           }
          }
         }
        ],
        "-5995768340210771126": [
         "9",
         {
          "args": [
           "5190079739381697929"
          ],
          "function": "Converter.convert",
          "type_params": {
           "T": {
            "type": "NDArray"
           }
          }
         }
        ],
        "-6005488048773410966": [
         "13",
         {
          "repr": "<function NDArrayCompat.__getitem__.<locals>.<lambda> at 0x110a63f28>",
          "type": "function"
         }
        ],
        "-6006380681219437916": [
         "229",
         {
          "repr": "5",
          "type": "int"
         }
        ],
        "-6006380681324442841": [
         "238",
         {
          "repr": "100",
          "type": "int"
         }
        ],
        "-6081109541745449078": [
         "111",
         {
          "args": [
           "-7712013410834182406",
           "-3466395086006031233"
          ],
          "function": "Abstraction.__add__",
          "type_params": {
           "T": {
            "params": {
             "T": {
              "type": "Integer"
             },
             "U": {
              "params": {
               "T": {
                "type": "Integer"
               }
              },
              "type": "Vec"
             }
            },
            "type": "Either"
           },
           "U": {
            "params": {
             "T": {
              "params": {
               "T": {
                "type": "Integer"
               },
               "U": {
                "params": {
                 "T": {
                  "type": "Integer"
                 }
                },
                "type": "Vec"
               }
              },
              "type": "Either"
             }
            },
            "type": "Maybe"
           }
          }
         }
        ],
        "-6108681454956942208": [
         "9",
         {
          "args": [
           "-161397961622156103"
          ],
          "function": "Converter.convert",
          "type_params": {
           "T": {
            "type": "NDArray"
           }
          }
         }
        ],
        "-6147530264868891386": [
         "4",
         {
          "args": [
           "-4175893634975995131"
          ],
          "function": "NDArrayCompat.from_ndarray"
         }
        ],
        "-6152497192860062787": [
         "22",
         {
          "repr": "Either.right",
          "type": "BoundInfer"
         }
        ],
        "-6183860078398997297": [
         "5",
         {
          "args": [
           "-4582399117431256088"
          ],
          "function": "NDArrayCompat.to_ndarray"
         }
        ],
        "-6265976868730546728": [
         "7",
         {
          "args": [
           "-6006380681324442841"
          ],
          "function": "arange"
         }
        ],
        "-642731632293204927": [
         "5",
         {
          "args": [
           "-6543493317022349797"
          ],
          "function": "NDArrayCompat.to_ndarray"
         }
        ],
        "-6454316655550274338": [
         "15",
         {
          "args": [
           "-169016107510687255",
           "6923212541040143847",
           "-4088485252777652336"
          ],
          "function": "Maybe.match",
          "type_params": {
           "T": {
            "params": {
             "T": {
              "type": "NDArray"
             },
             "U": {
              "params": {
               "T": {
                "type": "Integer"
               },
               "U": {
                "params": {
                 "T": {
                  "type": "Integer"
                 }
                },
                "type": "Vec"
               }
              },
              "type": "Either"
             }
            },
            "type": "Pair"
           }
          }
         }
        ],
        "-6543493317022349797": [
         "4",
         {
          "args": [
           "-7512903890078954600"
          ],
          "function": "NDArrayCompat.from_ndarray"
         }
        ],
        "-6581568175931145832": [
         "93",
         {
          "args": [
           "-7712013410834182406",
           "-4597967472733669371"
          ],
          "function": "Abstraction.__add__",
          "type_params": {
           "T": {
            "params": {
             "T": {
              "type": "Integer"
             },
             "U": {
              "params": {
               "T": {
                "type": "Integer"
               }
              },
              "type": "Vec"
             }
            },
            "type": "Either"
           },
           "U": {
            "params": {
             "T": {
              "params": {
               "T": {
                "type": "Integer"
               },
               "U": {
                "params": {
                 "T": {
                  "type": "Integer"
                 }
                },
                "type": "Vec"
               }
              },
              "type": "Either"
             }
            },
            "type": "Maybe"
           }
          }
         }
        ],
        "-662513823307959777": [
         "5",
         {
          "args": [
           "-2642755983487770568"
          ],
          "function": "NDArrayCompat.to_ndarray"
         }
        ],
        "-6656805258353144007": [
         "105",
         {
          "repr": "Maybe.just",
          "type": "BoundInfer"
         }
        ],
        "-6699756101969619640": [
         "5",
         {
          "args": [
           "8688729833715977361"
          ],
          "function": "NDArrayCompat.to_ndarray"
         }
        ],
        "-6942650871714521931": [
         "11",
         {
          "args": [
           "3236081451212398601",
           "5500059858730011794"
          ],
          "function": "Maybe.__or__",
          "type_params": {
           "T": {
            "params": {
             "T": {
              "type": "Integer"
             },
             "U": {
              "params": {
               "T": {
                "type": "Integer"
               }
              },
              "type": "Vec"
             }
            },
            "type": "Either"
           }
          }
         }
        ],
        "-6973202879649594446": [
         "4",
         {
          "args": [
           "2107130959196196992"
          ],
          "function": "NDArrayCompat.from_ndarray"
         }
        ],
        "-7087181858197164518": [
         "147",
         {
          "args": [
           "-1769148686146371945"
          ],
          "function": "Abstraction.create_variable",
          "type_params": {
           "T": {
            "params": {
             "T": {
              "type": "Integer"
             }
            },
            "type": "Vec"
           },
           "U": {
            "params": {
             "T": {
              "type": "Integer"
             },
             "U": {
              "params": {
               "T": {
                "type": "Integer"
               }
              },
              "type": "Vec"
             }
            },
            "type": "Either"
           }
          }
         }
        ],
        "-7120093176280896823": [
         "4",
         {
          "args": [
           "4777347812515872381"
          ],
          "function": "NDArrayCompat.from_ndarray"
         }
        ],
        "-7177243270506312837": [
         "73",
         {
          "args": [
           "-5986049905084669153",
           "8776922591797843700"
          ],
          "function": "Maybe.__or__",
          "type_params": {
           "T": {
            "params": {
             "T": {
              "type": "Integer"
             },
             "U": {
              "params": {
               "T": {
                "type": "Integer"
               }
              },
              "type": "Vec"
             }
            },
            "type": "Either"
           }
          }
         }
        ],
        "-7207968979249905896": [
         "73",
         {
          "args": [
           "5518244623262440448",
           "-7892135140000011790"
          ],
          "function": "Maybe.__or__",
          "type_params": {
           "T": {
            "params": {
             "T": {
              "type": "Integer"
             },
             "U": {
              "params": {
               "T": {
                "type": "Integer"
               }
              },
              "type": "Vec"
             }
            },
            "type": "Either"
           }
          }
         }
        ],
        "-7229931461017194969": [
         "58",
         {
          "args": [
           "-3202680218131012589"
          ],
          "function": "Converter.convert",
          "type_params": {
           "T": {
            "type": "NDArray"
           }
          }
         }
        ],
        "-7318106640774130145": [
         "152",
         {
          "args": [
           "-3654564810827262394"
          ],
          "function": "Either.left",
          "type_params": {
           "T": {
            "type": "Integer"
           },
           "U": {
            "params": {
             "T": {
              "type": "Integer"
             }
            },
            "type": "Vec"
           }
          }
         }
        ],
        "-7345224051439334813": [
         "15",
         {
          "args": [
           "937612795712878287",
           "6923212541040143847",
           "-402687706647757990"
          ],
          "function": "Maybe.match",
          "type_params": {
           "T": {
            "params": {
             "T": {
              "type": "NDArray"
             },
             "U": {
              "params": {
               "T": {
                "type": "Integer"
               },
               "U": {
                "params": {
                 "T": {
                  "type": "Integer"
                 }
                },
                "type": "Vec"
               }
              },
              "type": "Either"
             }
            },
            "type": "Pair"
           }
          }
         }
        ],
        "-7453915959113807969": [
         "5",
         {
          "args": [
           "5531668625128669877"
          ],
          "function": "NDArrayCompat.to_ndarray"
         }
        ],
        "-7464121073050138740": [
         "111",
         {
          "args": [
           "-3654564810827262394",
           "1632213310589801841"
          ],
          "function": "Abstraction.create"
         }
        ],
        "-746751315216691291": [
         "225",
         {
          "repr": "[  0   2   4   6   8  10  12  14  16  18  20  22  24  26  28  30  32  34\n  36  38  40  42  44  46  48  50  52  54  56  58  60  62  64  66  68  70\n  72  74  76  78  80  82  84  86  88  90  92  94  96  98 100 102 104 106\n 108 110 112 114 116 118 120 122 124 126 128 130 132 134 136 138 140 142\n 144 146 148 150 152 154 156 158 160 162 164 166 168 170 172 174 176 178\n 180 182 184 186 188 190 192 194 196 198]",
          "type": "ndarray"
         }
        ],
        "-746751358794817691": [
         "235",
         {
          "repr": "[ 0  1  2  3  4  5  6  7  8  9 10 11 12 13 14 15 16 17 18 19 20 21 22 23\n 24 25 26 27 28 29 30 31 32 33 34 35 36 37 38 39 40 41 42 43 44 45 46 47\n 48 49 50 51 52 53 54 55 56 57 58 59 60 61 62 63 64 65 66 67 68 69 70 71\n 72 73 74 75 76 77 78 79 80 81 82 83 84 85 86 87 88 89 90 91 92 93 94 95\n 96 97 98 99]",
          "type": "ndarray"
         }
        ],
        "-746751751344363291": [
         "5",
         {
          "repr": "10",
          "type": "ndarray"
         }
        ],
        "-7512903890078954600": [
         "15",
         {
          "args": [
           "2509435990591233562",
           "6923212541040143847",
           "-4088485252777652336"
          ],
          "function": "Maybe.match",
          "type_params": {
           "T": {
            "params": {
             "T": {
              "type": "NDArray"
             },
             "U": {
              "params": {
               "T": {
                "type": "Integer"
               },
               "U": {
                "params": {
                 "T": {
                  "type": "Integer"
                 }
                },
                "type": "Vec"
               }
              },
              "type": "Either"
             }
            },
            "type": "Pair"
           }
          }
         }
        ],
        "-7698513533486239281": [
         "4",
         {
          "args": [
           "404360985783282329"
          ],
          "function": "NDArrayCompat.from_ndarray"
         }
        ],
        "-7712013410834182406": [
         "106",
         {
          "args": [
           "-6656805258353144007"
          ],
          "function": "Abstraction.from_fn"
         }
        ],
        "-7732836447014349909": [
         "57",
         {
          "args": [
           "4787246938462325411",
           "4787246938462325411"
          ],
          "function": "NDArrayCompat.__add__"
         }
        ],
        "-77578246857916133": [
         "15",
         {
          "args": [
           "-3721803504179224446"
          ],
          "function": "Maybe.just",
          "type_params": {
           "T": {
            "type": "NDArray"
           }
          }
         }
        ],
        "-784149350785484050": [
         "138",
         {
          "args": [
           "7454223402536453288"
          ],
          "function": "Abstraction.create_variable",
          "type_params": {
           "T": {
            "type": "NDArray"
           },
           "U": {
            "params": {
             "T": {
              "type": "NDArray"
             }
            },
            "type": "Maybe"
           }
          }
         }
        ],
        "-7885421022555353411": [
         "15",
         {
          "args": [
           "-1753840430160302547",
           "916307827233441443"
          ],
          "function": "Maybe.map",
          "type_params": {
           "T": {
            "params": {
             "T": {
              "type": "NDArray"
             },
             "U": {
              "params": {
               "T": {
                "type": "Integer"
               },
               "U": {
                "params": {
                 "T": {
                  "type": "Integer"
                 }
                },
                "type": "Vec"
               }
              },
              "type": "Either"
             }
            },
            "type": "Pair"
           }
          }
         }
        ],
        "-7892135140000011790": [
         "72",
         {
          "args": [
           "56764834496499474",
           "4003970831100459312",
           "1441144683403267104"
          ],
          "function": "Maybe.match",
          "type_params": {
           "T": {
            "params": {
             "T": {
              "type": "Integer"
             }
            },
            "type": "Vec"
           }
          }
         }
        ],
        "-7942663079282832565": [
         "57",
         {
          "args": [
           "6835893961396089425",
           "6835893961396089425"
          ],
          "function": "NDArrayCompat.__add__"
         }
        ],
        "-8005282414065216697": [
         "225",
         {
          "args": [
           "5395502310657657145"
          ],
          "function": "NDArray.to_ndarray"
         }
        ],
        "-8050850474806450622": [
         "187",
         {
          "args": [
           "-4330389453277983072"
          ],
          "function": "Pair.right",
          "type_params": {
           "T": {
            "type": "NDArray"
           },
           "U": {
            "params": {
             "T": {
              "type": "Integer"
             },
             "U": {
              "params": {
               "T": {
                "type": "Integer"
               }
              },
              "type": "Vec"
             }
            },
            "type": "Either"
           }
          }
         }
        ],
        "-8156648665113391547": [
         "66",
         {
          "args": [
           "-5542466977718055163",
           "4003970831100459312",
           "-6081109541745449078"
          ],
          "function": "Maybe.match",
          "type_params": {
           "T": {
            "type": "Integer"
           }
          }
         }
        ],
        "-8233414005755690667": [
         "234",
         {
          "args": [
           "7966602236760319018"
          ],
          "function": "arange_"
         }
        ],
        "-8309120336368886352": [
         "5",
         {
          "args": [
           "-7698513533486239281"
          ],
          "function": "NDArrayCompat.to_ndarray"
         }
        ],
        "-8451844471479557208": [
         "139",
         {
          "args": [
           "-784149350785484050"
          ],
          "function": "Maybe.just",
          "type_params": {
           "T": {
            "type": "NDArray"
           }
          }
         }
        ],
        "-8470199562507099669": [
         "74",
         {
          "args": [
           "5497665369748932618",
           "9066622150592223557"
          ],
          "function": "Maybe.__and__",
          "type_params": {
           "T": {
            "type": "NDArray"
           }
          }
         }
        ],
        "-8480241340715455771": [
         "74",
         {
          "args": [
           "5658948509727247306"
          ],
          "function": "Maybe.just"
         }
        ],
        "-863801757947353806": [
         "15",
         {
          "args": [
           "4072582580909171559",
           "6923212541040143847",
           "-402687706647757990"
          ],
          "function": "Maybe.match",
          "type_params": {
           "T": {
            "params": {
             "T": {
              "type": "NDArray"
             },
             "U": {
              "params": {
               "T": {
                "type": "Integer"
               },
               "U": {
                "params": {
                 "T": {
                  "type": "Integer"
                 }
                },
                "type": "Vec"
               }
              },
              "type": "Either"
             }
            },
            "type": "Pair"
           }
          }
         }
        ],
        "-8696984683730910075": [
         "15",
         {
          "args": [
           "9111908918786543292"
          ],
          "function": "Maybe.just",
          "type_params": {
           "T": {
            "type": "NDArray"
           }
          }
         }
        ],
        "-8736232728005837676": [
         "131",
         {
          "args": [
           "-1664248791757170789",
           "-3538432380898116735"
          ],
          "function": "Abstraction.__add__",
          "type_params": {
           "T": {
            "type": "NDArray"
           },
           "U": {
            "params": {
             "T": {
              "type": "NDArray"
             }
            },
            "type": "Maybe"
           }
          }
         }
        ],
        "-8774401014782849686": [
         "111",
         {
          "args": [
           "3355364138531677718",
           "-3466395086006031233"
          ],
          "function": "Abstraction.__add__",
          "type_params": {
           "T": {
            "params": {
             "T": {
              "type": "Integer"
             },
             "U": {
              "params": {
               "T": {
                "type": "Integer"
               }
              },
              "type": "Vec"
             }
            },
            "type": "Either"
           },
           "U": {
            "params": {
             "T": {
              "params": {
               "T": {
                "type": "Integer"
               },
               "U": {
                "params": {
                 "T": {
                  "type": "Integer"
                 }
                },
                "type": "Vec"
               }
              },
              "type": "Either"
             }
            },
            "type": "Maybe"
           }
          }
         }
        ],
        "-884950690416073900": [
         "72",
         {
          "args": [
           "56764834496499474",
           "4003970831100459312",
           "-5134191361509569736"
          ],
          "function": "Maybe.match",
          "type_params": {
           "T": {
            "params": {
             "T": {
              "type": "Integer"
             }
            },
            "type": "Vec"
           }
          }
         }
        ],
        "-8884546590919559931": [
         "5",
         {
          "args": [
           "4442707238382081860"
          ],
          "function": "NDArrayCompat.to_ndarray"
         }
        ],
        "-8898633772241433608": [
         "58",
         {
          "args": [
           "-4938104147070211245"
          ],
          "function": "Converter.convert",
          "type_params": {
           "T": {
            "type": "NDArray"
           }
          }
         }
        ],
        "-8970030002248239990": [
         "163",
         {
          "args": [
           "6284682917605640706"
          ],
          "function": "Maybe.just",
          "type_params": {
           "T": {
            "type": "NDArray"
           }
          }
         }
        ],
        "-9034272911457410158": [
         "238",
         {
          "args": [
           "7966602236760319018"
          ],
          "function": "unbox_integer"
         }
        ],
        "-9068246236230324891": [
         "73",
         {
          "args": [
           "288253939979044103",
           "6977742537023026540"
          ],
          "function": "Maybe.__or__",
          "type_params": {
           "T": {
            "params": {
             "T": {
              "type": "Integer"
             },
             "U": {
              "params": {
               "T": {
                "type": "Integer"
               }
              },
              "type": "Vec"
             }
            },
            "type": "Either"
           }
          }
         }
        ],
        "-9183678103075162506": [
         "15",
         {
          "args": [
           "-4717185650047279506",
           "6923212541040143847",
           "-402687706647757990"
          ],
          "function": "Maybe.match",
          "type_params": {
           "T": {
            "params": {
             "T": {
              "type": "NDArray"
             },
             "U": {
              "params": {
               "T": {
                "type": "Integer"
               },
               "U": {
                "params": {
                 "T": {
                  "type": "Integer"
                 }
                },
                "type": "Vec"
               }
              },
              "type": "Either"
             }
            },
            "type": "Pair"
           }
          }
         }
        ],
        "-987092137277355994": [
         "31",
         {
          "args": [
           "-3663977459896762680",
           "-2760370798076581086"
          ],
          "function": "Maybe.map",
          "type_params": {
           "T": {
            "type": "Integer"
           }
          }
         }
        ],
        "1002149946972875229": [
         "5",
         {
          "args": [
           "-746751315216691291",
           "-6006380681219437916"
          ],
          "function": "ndarray_getitem"
         }
        ],
        "1012826617303473267": [
         "9",
         {
          "args": [
           "8192069841863109891"
          ],
          "function": "Converter.convert",
          "type_params": {
           "T": {
            "type": "NDArray"
           }
          }
         }
        ],
        "1099709625623759638": [
         "15",
         {
          "args": [
           "8784859505072793045"
          ],
          "function": "Maybe.just",
          "type_params": {
           "T": {
            "type": "NDArray"
           }
          }
         }
        ],
        "1203680889652001794": [
         "31",
         {
          "args": [
           "4773442134358678161",
           "-2760370798076581086"
          ],
          "function": "Maybe.map",
          "type_params": {
           "T": {
            "type": "Integer"
           }
          }
         }
        ],
        "1223403287802024779": [
         "57",
         {
          "args": [
           "3861949733020157812",
           "3861949733020157812"
          ],
          "function": "NDArrayCompat.__add__"
         }
        ],
        "1254624532263249504": [
         "73",
         {
          "args": [
           "-8156648665113391547",
           "8776922591797843700"
          ],
          "function": "Maybe.__or__",
          "type_params": {
           "T": {
            "params": {
             "T": {
              "type": "Integer"
             },
             "U": {
              "params": {
               "T": {
                "type": "Integer"
               }
              },
              "type": "Vec"
             }
            },
            "type": "Either"
           }
          }
         }
        ],
        "1354386262836947491": [
         "4",
         {
          "args": [
           "5190079739381697929",
           "-6006380681219437916"
          ],
          "function": "NDArrayCompat.__getitem__"
         }
        ],
        "1402407605770655992": [
         "15",
         {
          "args": [
           "5865741398000652892",
           "6923212541040143847",
           "-402687706647757990"
          ],
          "function": "Maybe.match",
          "type_params": {
           "T": {
            "params": {
             "T": {
              "type": "NDArray"
             },
             "U": {
              "params": {
               "T": {
                "type": "Integer"
               },
               "U": {
                "params": {
                 "T": {
                  "type": "Integer"
                 }
                },
                "type": "Vec"
               }
              },
              "type": "Either"
             }
            },
            "type": "Pair"
           }
          }
         }
        ],
        "1441144683403267104": [
         "93",
         {
          "args": [
           "-7087181858197164518",
           "-4960344124539660439"
          ],
          "function": "Abstraction.create"
         }
        ],
        "1632213310589801841": [
         "153",
         {
          "args": [
           "-7318106640774130145"
          ],
          "function": "Maybe.just",
          "type_params": {
           "T": {
            "params": {
             "T": {
              "type": "Integer"
             },
             "U": {
              "params": {
               "T": {
                "type": "Integer"
               }
              },
              "type": "Vec"
             }
            },
            "type": "Either"
           }
          }
         }
        ],
        "1720240134652981095": [
         "11",
         {
          "args": [
           "3082428100891284088",
           "6977742537023026540"
          ],
          "function": "Maybe.__or__",
          "type_params": {
           "T": {
            "params": {
             "T": {
              "type": "Integer"
             },
             "U": {
              "params": {
               "T": {
                "type": "Integer"
               }
              },
              "type": "Vec"
             }
            },
            "type": "Either"
           }
          }
         }
        ],
        "1951478438399678113": [
         "12",
         {
          "args": [
           "-5995768340210771126",
           "-6942650871714521931"
          ],
          "function": "Maybe.__and__",
          "type_params": {
           "T": {
            "type": "NDArray"
           }
          }
         }
        ],
        "2103788648910341423": [
         "4",
         {
          "args": [
           "2713953826833265592"
          ],
          "function": "NDArrayCompat.from_ndarray"
         }
        ],
        "2107130959196196992": [
         "15",
         {
          "args": [
           "388330661609148707",
           "6923212541040143847",
           "-4088485252777652336"
          ],
          "function": "Maybe.match",
          "type_params": {
           "T": {
            "params": {
             "T": {
              "type": "NDArray"
             },
             "U": {
              "params": {
               "T": {
                "type": "Integer"
               },
               "U": {
                "params": {
                 "T": {
                  "type": "Integer"
                 }
                },
                "type": "Vec"
               }
              },
              "type": "Either"
             }
            },
            "type": "Pair"
           }
          }
         }
        ],
        "2109500761193126057": [
         "5",
         {
          "args": [
           "-4875141089409104557"
          ],
          "function": "NDArrayCompat.to_ndarray"
         }
        ],
        "2119966447873445437": [
         "15",
         {
          "args": [
           "-3217089722505413646",
           "6923212541040143847",
           "-402687706647757990"
          ],
          "function": "Maybe.match",
          "type_params": {
           "T": {
            "params": {
             "T": {
              "type": "NDArray"
             },
             "U": {
              "params": {
               "T": {
                "type": "Integer"
               },
               "U": {
                "params": {
                 "T": {
                  "type": "Integer"
                 }
                },
                "type": "Vec"
               }
              },
              "type": "Either"
             }
            },
            "type": "Pair"
           }
          }
         }
        ],
        "234111670037206860": [
         "55",
         {
          "args": [
           "7469357359188011196",
           "7966602236760319018"
          ],
          "function": "Abstraction.__call__",
          "type_params": {
           "T": {
            "type": "Integer"
           },
           "U": {
            "params": {
             "T": {
              "type": "NDArray"
             }
            },
            "type": "Maybe"
           }
          }
         }
        ],
        "2362664450352797313": [
         "15",
         {
          "args": [
           "1951478438399678113",
           "916307827233441443"
          ],
          "function": "Maybe.map",
          "type_params": {
           "T": {
            "params": {
             "T": {
              "type": "NDArray"
             },
             "U": {
              "params": {
               "T": {
                "type": "Integer"
               },
               "U": {
                "params": {
                 "T": {
                  "type": "Integer"
                 }
                },
                "type": "Vec"
               }
              },
              "type": "Either"
             }
            },
            "type": "Pair"
           }
          }
         }
        ],
        "2509435990591233562": [
         "74",
         {
          "args": [
           "3446107780861524293",
           "822614305904583309"
          ],
          "function": "Maybe.__and__",
          "type_params": {
           "T": {
            "type": "NDArray"
           }
          }
         }
        ],
        "2577982592084368718": [
         "4",
         {
          "args": [
           "-6454316655550274338"
          ],
          "function": "NDArrayCompat.from_ndarray"
         }
        ],
        "2600299128177675893": [
         "5",
         {
          "args": [
           "-3721803504179224446"
          ],
          "function": "NDArray.to_ndarray"
         }
        ],
        "2613842450893822531": [
         "83",
         {
          "args": [
           "-4330389453277983072",
           "-230661046212014492"
          ],
          "function": "Abstraction.create",
          "type_params": {
           "T": {
            "params": {
             "T": {
              "type": "NDArray"
             },
             "U": {
              "params": {
               "T": {
                "type": "Integer"
               },
               "U": {
                "params": {
                 "T": {
                  "type": "Integer"
                 }
                },
                "type": "Vec"
               }
              },
              "type": "Either"
             }
            },
            "type": "Pair"
           },
           "U": {
            "type": "NDArray"
           }
          }
         }
        ],
        "2684644184161203478": [
         "235",
         {
          "args": [
           "-9034272911457410158"
          ],
          "function": "arange"
         }
        ],
        "2713953826833265592": [
         "15",
         {
          "args": [
           "5370182023366031289",
           "6923212541040143847",
           "-4088485252777652336"
          ],
          "function": "Maybe.match",
          "type_params": {
           "T": {
            "params": {
             "T": {
              "type": "NDArray"
             },
             "U": {
              "params": {
               "T": {
                "type": "Integer"
               },
               "U": {
                "params": {
                 "T": {
                  "type": "Integer"
                 }
                },
                "type": "Vec"
               }
              },
              "type": "Either"
             }
            },
            "type": "Pair"
           }
          }
         }
        ],
        "2765548341613290881": [
         "66",
         {
          "args": [
           "6846199819414548970"
          ],
          "function": "Maybe.just",
          "type_params": {
           "T": {
            "params": {
             "T": {
              "type": "Integer"
             },
             "U": {
              "params": {
               "T": {
                "type": "Integer"
               }
              },
              "type": "Vec"
             }
            },
            "type": "Either"
           }
          }
         }
        ],
        "2790862316037737043": [
         "57",
         {
          "args": [
           "-431939898243646431",
           "-431939898243646431"
          ],
          "function": "NDArrayCompat.__add__"
         }
        ],
        "282018813621593594": [
         "235",
         {
          "args": [
           "-8233414005755690667"
          ],
          "function": "NDArray.to_ndarray"
         }
        ],
        "2865533831422060648": [
         "5",
         {
          "args": [
           "-4831729597431283210"
          ],
          "function": "NDArrayCompat.to_ndarray"
         }
        ],
        "288253939979044103": [
         "66",
         {
          "args": [
           "-5542466977718055163",
           "-3466395086006031233"
          ],
          "function": "Maybe.map",
          "type_params": {
           "T": {
            "type": "Integer"
           }
          }
         }
        ],
        "3082428100891284088": [
         "20",
         {
          "args": [
           "-5542466977718055163",
           "7761048300386878732"
          ],
          "function": "Maybe.map",
          "type_params": {
           "T": {
            "type": "Integer"
           }
          }
         }
        ],
        "3236081451212398601": [
         "20",
         {
          "args": [
           "-2197005462382321726",
           "7761048300386878732"
          ],
          "function": "Maybe.map",
          "type_params": {
           "T": {
            "type": "Integer"
           }
          }
         }
        ],
        "3241113757427114754": [
         "4",
         {
          "args": [
           "-3998014355988021615"
          ],
          "function": "NDArrayCompat.from_ndarray"
         }
        ],
        "3268569637052015965": [
         "73",
         {
          "args": [
           "5518244623262440448",
           "-884950690416073900"
          ],
          "function": "Maybe.__or__",
          "type_params": {
           "T": {
            "params": {
             "T": {
              "type": "Integer"
             },
             "U": {
              "params": {
               "T": {
                "type": "Integer"
               }
              },
              "type": "Vec"
             }
            },
            "type": "Either"
           }
          }
         }
        ],
        "3355364138531677718": [
         "106",
         {
          "args": [
           "3388998044925133563",
           "-4108468916696489519"
          ],
          "function": "Abstraction.create",
          "type_params": {
           "T": {
            "params": {
             "T": {
              "type": "Integer"
             },
             "U": {
              "params": {
               "T": {
                "type": "Integer"
               }
              },
              "type": "Vec"
             }
            },
            "type": "Either"
           },
           "U": {
            "params": {
             "T": {
              "params": {
               "T": {
                "type": "Integer"
               },
               "U": {
                "params": {
                 "T": {
                  "type": "Integer"
                 }
                },
                "type": "Vec"
               }
              },
              "type": "Either"
             }
            },
            "type": "Maybe"
           }
          }
         }
        ],
        "3388998044925133563": [
         "135",
         {
          "args": [
           "-1769148641750939170"
          ],
          "function": "Abstraction.create_variable",
          "type_params": {
           "T": {
            "params": {
             "T": {
              "type": "Integer"
             },
             "U": {
              "params": {
               "T": {
                "type": "Integer"
               }
              },
              "type": "Vec"
             }
            },
            "type": "Either"
           },
           "U": {
            "params": {
             "T": {
              "params": {
               "T": {
                "type": "Integer"
               },
               "U": {
                "params": {
                 "T": {
                  "type": "Integer"
                 }
                },
                "type": "Vec"
               }
              },
              "type": "Either"
             }
            },
            "type": "Maybe"
           }
          }
         }
        ],
        "3441399209924908982": [
         "4",
         {
          "args": [
           "5834028565892487858"
          ],
          "function": "NDArrayCompat.from_ndarray"
         }
        ],
        "3446107780861524293": [
         "58",
         {
          "args": [
           "-7732836447014349909"
          ],
          "function": "Converter.convert",
          "type_params": {
           "T": {
            "type": "NDArray"
           }
          }
         }
        ],
        "3455908780670277732": [
         "11",
         {
          "args": [
           "-6006380681219437916"
          ],
          "function": "Converter.convert",
          "type_params": {
           "T": {
            "params": {
             "T": {
              "type": "Integer"
             },
             "U": {
              "params": {
               "T": {
                "type": "Integer"
               }
              },
              "type": "Vec"
             }
            },
            "type": "Either"
           }
          }
         }
        ],
        "3679161464505500053": [
         "5",
         {
          "args": [
           "8534818406019508306"
          ],
          "function": "NDArrayCompat.to_ndarray"
         }
        ],
        "3741759375383954864": [
         "12",
         {
          "args": [
           "-5995768340210771126",
           "3455908780670277732"
          ],
          "function": "Maybe.__and__",
          "type_params": {
           "T": {
            "type": "NDArray"
           }
          }
         }
        ],
        "3793105296149449375": [
         "5",
         {
          "args": [
           "3441399209924908982"
          ],
          "function": "NDArrayCompat.to_ndarray"
         }
        ],
        "3861949733020157812": [
         "56",
         {
          "args": [
           "-2238180516135160642"
          ],
          "function": "NDArrayCompat.from_ndarray"
         }
        ],
        "3870749702378095815": [
         "5",
         {
          "args": [
           "2103788648910341423"
          ],
          "function": "NDArrayCompat.to_ndarray"
         }
        ],
        "388330661609148707": [
         "74",
         {
          "args": [
           "-7229931461017194969",
           "-7177243270506312837"
          ],
          "function": "Maybe.__and__",
          "type_params": {
           "T": {
            "type": "NDArray"
           }
          }
         }
        ],
        "4003970831100459312": [
         "97",
         {
          "function": "Maybe.nothing",
          "type_params": {
           "T": {
            "params": {
             "T": {
              "type": "Integer"
             },
             "U": {
              "params": {
               "T": {
                "type": "Integer"
               }
              },
              "type": "Vec"
             }
            },
            "type": "Either"
           }
          }
         }
        ],
        "404360985783282329": [
         "15",
         {
          "args": [
           "4294705322268200079",
           "6923212541040143847",
           "-4088485252777652336"
          ],
          "function": "Maybe.match",
          "type_params": {
           "T": {
            "params": {
             "T": {
              "type": "NDArray"
             },
             "U": {
              "params": {
               "T": {
                "type": "Integer"
               },
               "U": {
                "params": {
                 "T": {
                  "type": "Integer"
                 }
                },
                "type": "Vec"
               }
              },
              "type": "Either"
             }
            },
            "type": "Pair"
           }
          }
         }
        ],
        "4062915358529062846": [
         "56",
         {
          "args": [
           "234111670037206860"
          ],
          "function": "NDArrayCompat.from_ndarray"
         }
        ],
        "4072582580909171559": [
         "74",
         {
          "args": [
           "6136993431512255598",
           "9066622150592223557"
          ],
          "function": "Maybe.__and__",
          "type_params": {
           "T": {
            "type": "NDArray"
           }
          }
         }
        ],
        "407643063292358031": [
         "15",
         {
          "args": [
           "8841106037741855623",
           "2613842450893822531"
          ],
          "function": "Maybe.map",
          "type_params": {
           "T": {
            "params": {
             "T": {
              "type": "NDArray"
             },
             "U": {
              "params": {
               "T": {
                "type": "Integer"
               },
               "U": {
                "params": {
                 "T": {
                  "type": "Integer"
                 }
                },
                "type": "Vec"
               }
              },
              "type": "Either"
             }
            },
            "type": "Pair"
           }
          }
         }
        ],
        "4146277160181625528": [
         "7",
         {
          "args": [
           "1203680889652001794"
          ],
          "function": "NDArrayCompat.from_ndarray"
         }
        ],
        "4274714576045296804": [
         "5",
         {
          "args": [
           "9039306371445379701"
          ],
          "function": "NDArrayCompat.to_ndarray"
         }
        ],
        "4294705322268200079": [
         "74",
         {
          "args": [
           "3446107780861524293",
           "-9068246236230324891"
          ],
          "function": "Maybe.__and__",
          "type_params": {
           "T": {
            "type": "NDArray"
           }
          }
         }
        ],
        "4442707238382081860": [
         "4",
         {
          "args": [
           "-4611929971200772528"
          ],
          "function": "NDArrayCompat.from_ndarray"
         }
        ],
        "4626051976203745967": [
         "4",
         {
          "args": [
           "-1514561423151448007"
          ],
          "function": "NDArrayCompat.from_ndarray"
         }
        ],
        "4632250920673423873": [
         "126",
         {
          "args": [
           "-5695245968775064118"
          ],
          "function": "Abstraction.from_fn"
         }
        ],
        "4685152014539675309": [
         "5",
         {
          "args": [
           "-3106899936711395658",
           "-6006380681219437916"
          ],
          "function": "ndarray_getitem"
         }
        ],
        "4750778754995438223": [
         "56",
         {
          "args": [
           "8629648236472256342"
          ],
          "function": "NDArrayCompat.from_ndarray"
         }
        ],
        "4773442134358678161": [
         "28",
         {
          "args": [
           "-6006380681324442841"
          ],
          "function": "Converter.convert",
          "type_params": {
           "T": {
            "type": "Integer"
           }
          }
         }
        ],
        "4777347812515872381": [
         "15",
         {
          "args": [
           "-157613696092695887",
           "6923212541040143847",
           "-402687706647757990"
          ],
          "function": "Maybe.match",
          "type_params": {
           "T": {
            "params": {
             "T": {
              "type": "NDArray"
             },
             "U": {
              "params": {
               "T": {
                "type": "Integer"
               },
               "U": {
                "params": {
                 "T": {
                  "type": "Integer"
                 }
                },
                "type": "Vec"
               }
              },
              "type": "Either"
             }
            },
            "type": "Pair"
           }
          }
         }
        ],
        "4787246938462325411": [
         "56",
         {
          "args": [
           "-1162002145574270131"
          ],
          "function": "NDArrayCompat.from_ndarray"
         }
        ],
        "4790584449111311731": [
         "12",
         {
          "args": [
           "-6108681454956942208",
           "-1465703885638777874"
          ],
          "function": "Maybe.__and__",
          "type_params": {
           "T": {
            "type": "NDArray"
           }
          }
         }
        ],
        "4873035549798093790": [
         "66",
         {
          "args": [
           "-7464121073050138740",
           "6962730042678839849"
          ],
          "function": "Abstraction.__call__",
          "type_params": {
           "T": {
            "type": "Integer"
           },
           "U": {
            "params": {
             "T": {
              "params": {
               "T": {
                "type": "Integer"
               },
               "U": {
                "params": {
                 "T": {
                  "type": "Integer"
                 }
                },
                "type": "Vec"
               }
              },
              "type": "Either"
             }
            },
            "type": "Maybe"
           }
          }
         }
        ],
        "4878127213396618793": [
         "4",
         {
          "args": [
           "8122449506535792796"
          ],
          "function": "NDArrayCompat.from_ndarray"
         }
        ],
        "4920909026102652322": [
         "57",
         {
          "args": [
           "6136993431512255598"
          ],
          "function": "NDArrayCompat.from_ndarray"
         }
        ],
        "5190079739381697929": [
         "8",
         {
          "args": [
           "-6265976868730546728",
           "-6265976868730546728"
          ],
          "function": "NDArrayCompat.__add__"
         }
        ],
        "5194515034620825222": [
         "225",
         {
          "args": [
           "-5664258816298182988",
           "-5664258816298182988"
          ],
          "function": "ndarray_add"
         }
        ],
        "5370182023366031289": [
         "74",
         {
          "args": [
           "3446107780861524293",
           "1254624532263249504"
          ],
          "function": "Maybe.__and__",
          "type_params": {
           "T": {
            "type": "NDArray"
           }
          }
         }
        ],
        "5382956085246114586": [
         "186",
         {
          "args": [
           "-4330389453277983072"
          ],
          "function": "Pair.left",
          "type_params": {
           "T": {
            "type": "NDArray"
           },
           "U": {
            "params": {
             "T": {
              "type": "Integer"
             },
             "U": {
              "params": {
               "T": {
                "type": "Integer"
               }
              },
              "type": "Vec"
             }
            },
            "type": "Either"
           }
          }
         }
        ],
        "5395502310657657145": [
         "224",
         {
          "args": [
           "-8233414005755690667",
           "-8233414005755690667"
          ],
          "function": "NDArray.__add__"
         }
        ],
        "5497665369748932618": [
         "58",
         {
          "args": [
           "1223403287802024779"
          ],
          "function": "Converter.convert",
          "type_params": {
           "T": {
            "type": "NDArray"
           }
          }
         }
        ],
        "5500059858730011794": [
         "24",
         {
          "args": [
           "56764834496499474",
           "-1083255109868135938"
          ],
          "function": "Maybe.map",
          "type_params": {
           "T": {
            "params": {
             "T": {
              "type": "Integer"
             }
            },
            "type": "Vec"
           }
          }
         }
        ],
        "5518244623262440448": [
         "66",
         {
          "args": [
           "-8774401014782849686",
           "6962730042678839849"
          ],
          "function": "Abstraction.__call__",
          "type_params": {
           "T": {
            "type": "Integer"
           },
           "U": {
            "params": {
             "T": {
              "params": {
               "T": {
                "type": "Integer"
               },
               "U": {
                "params": {
                 "T": {
                  "type": "Integer"
                 }
                },
                "type": "Vec"
               }
              },
              "type": "Either"
             }
            },
            "type": "Maybe"
           }
          }
         }
        ],
        "5531668625128669877": [
         "4",
         {
          "args": [
           "-77578246857916133"
          ],
          "function": "NDArrayCompat.from_ndarray"
         }
        ],
        "5649999650726369616": [
         "5",
         {
          "args": [
           "7913978585420836009"
          ],
          "function": "NDArrayCompat.to_ndarray"
         }
        ],
        "5658948509727247306": [
         "206",
         {
          "args": [
           "5395502310657657145",
           "6846199819414548970"
          ],
          "function": "Pair.create"
         }
        ],
        "56764834496499474": [
         "85",
         {
          "args": [
           "-6006380681219437916"
          ],
          "function": "Converter.convert",
          "type_params": {
           "T": {
            "params": {
             "T": {
              "type": "Integer"
             }
            },
            "type": "Vec"
           }
          }
         }
        ],
        "5690797283837129356": [
         "7",
         {
          "args": [
           "-987092137277355994"
          ],
          "function": "NDArrayCompat.from_ndarray"
         }
        ],
        "5795631916523570241": [
         "74",
         {
          "args": [
           "3446107780861524293",
           "-7177243270506312837"
          ],
          "function": "Maybe.__and__",
          "type_params": {
           "T": {
            "type": "NDArray"
           }
          }
         }
        ],
        "5834028565892487858": [
         "15",
         {
          "args": [
           "-8470199562507099669",
           "6923212541040143847",
           "-402687706647757990"
          ],
          "function": "Maybe.match",
          "type_params": {
           "T": {
            "params": {
             "T": {
              "type": "NDArray"
             },
             "U": {
              "params": {
               "T": {
                "type": "Integer"
               },
               "U": {
                "params": {
                 "T": {
                  "type": "Integer"
                 }
                },
                "type": "Vec"
               }
              },
              "type": "Either"
             }
            },
            "type": "Pair"
           }
          }
         }
        ],
        "5865741398000652892": [
         "74",
         {
          "args": [
           "-8898633772241433608",
           "-4848965588687345256"
          ],
          "function": "Maybe.__and__",
          "type_params": {
           "T": {
            "type": "NDArray"
           }
          }
         }
        ],
        "6060792842079742194": [
         "74",
         {
          "args": [
           "-167329001921187419",
           "-7177243270506312837"
          ],
          "function": "Maybe.__and__",
          "type_params": {
           "T": {
            "type": "NDArray"
           }
          }
         }
        ],
        "6136993431512255598": [
         "58",
         {
          "args": [
           "5395502310657657145"
          ],
          "function": "Maybe.just"
         }
        ],
        "6163316197898602162": [
         "148",
         {
          "args": [
           "-7087181858197164518"
          ],
          "function": "Either.right",
          "type_params": {
           "T": {
            "type": "Integer"
           },
           "U": {
            "params": {
             "T": {
              "type": "Integer"
             }
            },
            "type": "Vec"
           }
          }
         }
        ],
        "6188744062743729739": [
         "5",
         {
          "args": [
           "4878127213396618793"
          ],
          "function": "NDArrayCompat.to_ndarray"
         }
        ],
        "6206152925731748759": [
         "5",
         {
          "args": [
           "8700523929461955132"
          ],
          "function": "NDArrayCompat.to_ndarray"
         }
        ],
        "6218656818051638852": [
         "74",
         {
          "args": [
           "-8898633772241433608",
           "3268569637052015965"
          ],
          "function": "Maybe.__and__",
          "type_params": {
           "T": {
            "type": "NDArray"
           }
          }
         }
        ],
        "6284682917605640706": [
         "162",
         {
          "args": [
           "7704628766149539003"
          ],
          "function": "arange_"
         }
        ],
        "6494935047604091880": [
         "84",
         {
          "args": [
           "-1664248791757170789",
           "2613842450893822531"
          ],
          "function": "Abstraction.__add__",
          "type_params": {
           "T": {
            "type": "NDArray"
           },
           "U": {
            "params": {
             "T": {
              "type": "NDArray"
             }
            },
            "type": "Maybe"
           }
          }
         }
        ],
        "6518075858808317477": [
         "208",
         {
          "args": [
           "5658948509727247306"
          ],
          "function": "Pair.right",
          "type_params": {
           "T": {
            "type": "NDArray"
           },
           "U": {
            "params": {
             "T": {
              "type": "Integer"
             },
             "U": {
              "params": {
               "T": {
                "type": "Integer"
               }
              },
              "type": "Vec"
             }
            },
            "type": "Either"
           }
          }
         }
        ],
        "6835893961396089425": [
         "56",
         {
          "args": [
           "-170205731656610441"
          ],
          "function": "NDArrayCompat.from_ndarray"
         }
        ],
        "6846199819414548970": [
         "228",
         {
          "args": [
           "6962730042678839849"
          ],
          "function": "Either.left",
          "type_params": {
           "T": {
            "type": "Integer"
           },
           "U": {
            "params": {
             "T": {
              "type": "Integer"
             }
            },
            "type": "Vec"
           }
          }
         }
        ],
        "6923212541040143847": [
         "117",
         {
          "function": "Maybe.nothing",
          "type_params": {
           "T": {
            "type": "NDArray"
           }
          }
         }
        ],
        "6962730042678839849": [
         "231",
         {
          "args": [
           "-6006380681219437916"
          ],
          "function": "Integer.from_int"
         }
        ],
        "6977742537023026540": [
         "72",
         {
          "args": [
           "56764834496499474",
           "-4597967472733669371"
          ],
          "function": "Maybe.map",
          "type_params": {
           "T": {
            "params": {
             "T": {
              "type": "Integer"
             }
            },
            "type": "Vec"
           }
          }
         }
        ],
        "72410963347311347": [
         "5",
         {
          "args": [
           "-2917528559518353172",
           "-6006380681219437916"
          ],
          "function": "ndarray_getitem"
         }
        ],
        "7303639167264718852": [
         "55",
         {
          "args": [
           "-8233414005755690667"
          ],
          "function": "Maybe.just",
          "type_params": {
           "T": {
            "type": "NDArray"
           }
          }
         }
        ],
        "7334339897450711968": [
         "4",
         {
          "args": [
           "-7885421022555353411"
          ],
          "function": "NDArrayCompat.from_ndarray"
         }
        ],
        "7355531054063641926": [
         "15",
         {
          "args": [
           "-5570188025519585762",
           "6923212541040143847",
           "-402687706647757990"
          ],
          "function": "Maybe.match",
          "type_params": {
           "T": {
            "params": {
             "T": {
              "type": "NDArray"
             },
             "U": {
              "params": {
               "T": {
                "type": "Integer"
               },
               "U": {
                "params": {
                 "T": {
                  "type": "Integer"
                 }
                },
                "type": "Vec"
               }
              },
              "type": "Either"
             }
            },
            "type": "Pair"
           }
          }
         }
        ],
        "7454223398024489088": [
         "150",
         {
          "repr": "4755819376",
          "type": "Variable"
         }
        ],
        "7454223402536453288": [
         "137",
         {
          "repr": "4755885808",
          "type": "Variable"
         }
        ],
        "7469357359188011196": [
         "131",
         {
          "args": [
           "4632250920673423873",
           "-3538432380898116735"
          ],
          "function": "Abstraction.__add__",
          "type_params": {
           "T": {
            "type": "NDArray"
           },
           "U": {
            "params": {
             "T": {
              "type": "NDArray"
             }
            },
            "type": "Maybe"
           }
          }
         }
        ],
        "7704628766149539003": [
         "161",
         {
          "args": [
           "-1769148634877987945"
          ],
          "function": "Abstraction.create_variable",
          "type_params": {
           "T": {
            "type": "Integer"
           },
           "U": {
            "type": "NDArray"
           }
          }
         }
        ],
        "7760680480752938303": [
         "4",
         {
          "args": [
           "7355531054063641926"
          ],
          "function": "NDArrayCompat.from_ndarray"
         }
        ],
        "7761048300386878732": [
         "19",
         {
          "args": [
           "-3207699288374113374"
          ],
          "function": "Abstraction.from_fn"
         }
        ],
        "7781857735481931074": [
         "5",
         {
          "args": [
           "-7120093176280896823"
          ],
          "function": "NDArrayCompat.to_ndarray"
         }
        ],
        "7913978585420836009": [
         "4",
         {
          "args": [
           "-3443874186027682784"
          ],
          "function": "NDArrayCompat.from_ndarray"
         }
        ],
        "7966602236760319018": [
         "237",
         {
          "args": [
           "-6006380681324442841"
          ],
          "function": "Integer.from_int"
         }
        ],
        "8065818816317286483": [
         "4",
         {
          "args": [
           "2119966447873445437"
          ],
          "function": "NDArrayCompat.from_ndarray"
         }
        ],
        "8122449506535792796": [
         "15",
         {
          "args": [
           "-8480241340715455771",
           "6923212541040143847",
           "-402687706647757990"
          ],
          "function": "Maybe.match",
          "type_params": {
           "T": {
            "params": {
             "T": {
              "type": "NDArray"
             },
             "U": {
              "params": {
               "T": {
                "type": "Integer"
               },
               "U": {
                "params": {
                 "T": {
                  "type": "Integer"
                 }
                },
                "type": "Vec"
               }
              },
              "type": "Either"
             }
            },
            "type": "Pair"
           }
          }
         }
        ],
        "8192069841863109891": [
         "8",
         {
          "args": [
           "4146277160181625528",
           "4146277160181625528"
          ],
          "function": "NDArrayCompat.__add__"
         }
        ],
        "822614305904583309": [
         "73",
         {
          "args": [
           "288253939979044103",
           "8776922591797843700"
          ],
          "function": "Maybe.__or__",
          "type_params": {
           "T": {
            "params": {
             "T": {
              "type": "Integer"
             },
             "U": {
              "params": {
               "T": {
                "type": "Integer"
               }
              },
              "type": "Vec"
             }
            },
            "type": "Either"
           }
          }
         }
        ],
        "8257191359522430535": [
         "5",
         {
          "args": [
           "-6973202879649594446"
          ],
          "function": "NDArrayCompat.to_ndarray"
         }
        ],
        "8266943505289673192": [
         "5",
         {
          "args": [
           "-1181318727050750860"
          ],
          "function": "NDArrayCompat.to_ndarray"
         }
        ],
        "8509090991658654396": [
         "5",
         {
          "args": [
           "5194515034620825222",
           "-6006380681219437916"
          ],
          "function": "ndarray_getitem"
         }
        ],
        "8534818406019508306": [
         "4",
         {
          "args": [
           "-7345224051439334813"
          ],
          "function": "NDArrayCompat.from_ndarray"
         }
        ],
        "8629648236472256342": [
         "55",
         {
          "args": [
           "-8736232728005837676",
           "7966602236760319018"
          ],
          "function": "Abstraction.__call__",
          "type_params": {
           "T": {
            "type": "Integer"
           },
           "U": {
            "params": {
             "T": {
              "type": "NDArray"
             }
            },
            "type": "Maybe"
           }
          }
         }
        ],
        "8688729833715977361": [
         "4",
         {
          "args": [
           "-3682687972481198152"
          ],
          "function": "NDArrayCompat.from_ndarray"
         }
        ],
        "8700523929461955132": [
         "4",
         {
          "args": [
           "1099709625623759638"
          ],
          "function": "NDArrayCompat.from_ndarray"
         }
        ],
        "8776922591797843700": [
         "72",
         {
          "args": [
           "56764834496499474",
           "4003970831100459312",
           "-6581568175931145832"
          ],
          "function": "Maybe.match",
          "type_params": {
           "T": {
            "params": {
             "T": {
              "type": "Integer"
             }
            },
            "type": "Vec"
           }
          }
         }
        ],
        "8784859505072793045": [
         "209",
         {
          "args": [
           "-4535890237836401987",
           "6846199819414548970"
          ],
          "function": "NDArray.__getitem__"
         }
        ],
        "8841106037741855623": [
         "12",
         {
          "args": [
           "-6108681454956942208",
           "-9068246236230324891"
          ],
          "function": "Maybe.__and__",
          "type_params": {
           "T": {
            "type": "NDArray"
           }
          }
         }
        ],
        "8913131760705745265": [
         "15",
         {
          "args": [
           "3741759375383954864",
           "916307827233441443"
          ],
          "function": "Maybe.map",
          "type_params": {
           "T": {
            "params": {
             "T": {
              "type": "NDArray"
             },
             "U": {
              "params": {
               "T": {
                "type": "Integer"
               },
               "U": {
                "params": {
                 "T": {
                  "type": "Integer"
                 }
                },
                "type": "Vec"
               }
              },
              "type": "Either"
             }
            },
            "type": "Pair"
           }
          }
         }
        ],
        "8914573405677997503": [
         "229",
         {
          "args": [
           "6962730042678839849"
          ],
          "function": "unbox_integer"
         }
        ],
        "9039306371445379701": [
         "4",
         {
          "args": [
           "-4964287446436135203"
          ],
          "function": "NDArrayCompat.from_ndarray"
         }
        ],
        "9066622150592223557": [
         "73",
         {
          "args": [
           "6846199819414548970"
          ],
          "function": "Maybe.just"
         }
        ],
        "9077255455034254440": [
         "5",
         {
          "args": [
           "-8005282414065216697",
           "-6006380681219437916"
          ],
          "function": "ndarray_getitem"
         }
        ],
        "9111908918786543292": [
         "209",
         {
          "args": [
           "-4535890237836401987",
           "6518075858808317477"
          ],
          "function": "NDArray.__getitem__"
         }
        ],
        "9141249351052721414": [
         "5",
         {
          "args": [
           "7760680480752938303"
          ],
          "function": "NDArrayCompat.to_ndarray"
         }
        ],
        "916307827233441443": [
         "14",
         {
          "args": [
           "-6005488048773410966"
          ],
          "function": "Abstraction.from_fn",
          "type_params": {
           "T": {
            "params": {
             "T": {
              "type": "NDArray"
             },
             "U": {
              "params": {
               "T": {
                "type": "Integer"
               },
               "U": {
                "params": {
                 "T": {
                  "type": "Integer"
                 }
                },
                "type": "Vec"
               }
              },
              "type": "Either"
             }
            },
            "type": "Pair"
           },
           "U": {
            "type": "NDArray"
           }
          }
         }
        ],
        "937612795712878287": [
         "74",
         {
          "args": [
           "-3722002412128931575",
           "9066622150592223557"
          ],
          "function": "Maybe.__and__",
          "type_params": {
           "T": {
            "type": "NDArray"
           }
          }
         }
        ],
        "960714452009246525": [
         "15",
         {
          "args": [
           "-294720464308517712",
           "2613842450893822531"
          ],
          "function": "Maybe.map",
          "type_params": {
           "T": {
            "params": {
             "T": {
              "type": "NDArray"
             },
             "U": {
              "params": {
               "T": {
                "type": "Integer"
               },
               "U": {
                "params": {
                 "T": {
                  "type": "Integer"
                 }
                },
                "type": "Vec"
               }
              },
              "type": "Either"
             }
            },
            "type": "Pair"
           }
          }
         }
        ]
       },
       "states": {
        "initial": "-4907493983724134701",
        "states": [
         {
          "node": "-2319617528498365451",
          "rule": "metadsl_core.numpy.NDArrayCompat.__getitem__"
         },
         {
          "node": "-3559938788049613326",
          "rule": "metadsl_core.either.convert_to_either"
         },
         {
          "node": "-463088303001397421",
          "rule": "metadsl_core.integer.convert_integer"
         },
         {
          "node": "-5575582935218525837",
          "rule": "metadsl_core.numpy.arange"
         },
         {
          "node": "-5840766389335805192",
          "rule": "metadsl_core.integer.convert_integer"
         },
         {
          "node": "-6699756101969619640",
          "rule": "metadsl_core.abstraction.Abstraction.from_fn"
         },
         {
          "node": "2109500761193126057",
          "rule": "metadsl_core.abstraction.Abstraction.from_fn"
         },
         {
          "node": "-3770638885822857985",
          "rule": "metadsl_core.abstraction.Abstraction.from_fn"
         },
         {
          "node": "4274714576045296804",
          "rule": "metadsl_core.abstraction.Abstraction.from_fn"
         },
         {
          "node": "-8309120336368886352",
          "rule": "metadsl_core.maybe.Maybe.map"
         },
         {
          "node": "-642731632293204927",
          "rule": "metadsl_core.maybe.Maybe.map"
         },
         {
          "node": "3870749702378095815",
          "rule": "metadsl_core.maybe.Maybe.map"
         },
         {
          "node": "5649999650726369616",
          "rule": "metadsl_core.maybe.maybe_match"
         },
         {
          "node": "2865533831422060648",
          "rule": "metadsl_core.maybe.Maybe.map"
         },
         {
          "node": "8257191359522430535",
          "rule": "metadsl_core.maybe.maybe_match"
         },
         {
          "node": "-3703220033579508953",
          "rule": "metadsl_core.abstraction.Abstraction.from_fn"
         },
         {
          "node": "-8884546590919559931",
          "rule": "metadsl_core.abstraction.Abstraction.from_fn"
         },
         {
          "node": "8266943505289673192",
          "rule": "metadsl_core.abstraction.compose"
         },
         {
          "node": "7781857735481931074",
          "rule": "metadsl_core.abstraction.compose"
         },
         {
          "node": "-4917515354218650496",
          "rule": "metadsl_core.abstraction.compose"
         },
         {
          "node": "-3683823410489128412",
          "rule": "metadsl_core.abstraction.beta_reduce"
         },
         {
          "node": "-1408805913664019118",
          "rule": "metadsl_core.maybe.maybe_or"
         },
         {
          "node": "3793105296149449375",
          "rule": "metadsl_core.abstraction.compose"
         },
         {
          "node": "9141249351052721414",
          "rule": "metadsl_core.abstraction.beta_reduce"
         },
         {
          "node": "3679161464505500053",
          "rule": "metadsl_core.numpy.add_compat"
         },
         {
          "node": "-6183860078398997297",
          "rule": "metadsl_core.numpy.convert_to_ndarray"
         },
         {
          "node": "6188744062743729739",
          "rule": "metadsl_core.maybe.maybe_and"
         },
         {
          "node": "-1057398411627644727",
          "rule": "metadsl_core.maybe.maybe_match"
         },
         {
          "node": "-662513823307959777",
          "rule": "metadsl_core.abstraction.beta_reduce"
         },
         {
          "node": "6206152925731748759",
          "rule": "metadsl_core.pair.pair_right"
         },
         {
          "node": "-7453915959113807969",
          "rule": "metadsl_core.pair.pair_left"
         },
         {
          "label": "convert",
          "node": "-7453915959113807969",
          "rule": ""
         },
         {
          "node": "2600299128177675893",
          "rule": "metadsl_core.numpy.box_unbox_ndarray_compat"
         },
         {
          "node": "-1870084270352621891",
          "rule": "metadsl_core.numpy_engine.unbox_ndarray_getitem"
         },
         {
          "node": "-1581393561965480632",
          "rule": "metadsl_core.numpy_engine.unbox_idxs_rule"
         },
         {
          "node": "9077255455034254440",
          "rule": "metadsl_core.numpy_engine.unbox_integer_rule"
         },
         {
          "node": "4685152014539675309",
          "rule": "metadsl_core.numpy_engine.unbox_ndarray_add"
         },
         {
          "node": "72410963347311347",
          "rule": "metadsl_core.numpy_engine.unbox_arange"
         },
         {
          "node": "8509090991658654396",
          "rule": "metadsl_core.numpy_engine.unbox_integer_rule"
         },
         {
          "label": "unbox",
          "node": "8509090991658654396",
          "rule": ""
         },
         {
          "node": "-1809694312351612805",
          "rule": "metadsl_core.numpy_engine.arange"
         },
         {
          "node": "1002149946972875229",
          "rule": "metadsl_core.numpy_engine.ndarray_add"
         },
         {
          "node": "-746751751344363291",
          "rule": "metadsl_core.numpy_engine.ndarray_getitem"
         },
         {
          "label": "execute",
          "node": "-746751751344363291",
          "rule": ""
         }
        ]
       }
      },
      "text/plain": [
       "Typez(definitions=None, nodes={'-6006380681324442841': ['238', PrimitiveNode(type='int', repr='100')], '-6265976868730546728': ['7', CallNode(function='arange', type_params=None, args=['-6006380681324442841'], kwargs=None)], '5190079739381697929': ['8', CallNode(function='NDArrayCompat.__add__', type_params=None, args=['-6265976868730546728', '-6265976868730546728'], kwargs=None)], '-6006380681219437916': ['229', PrimitiveNode(type='int', repr='5')], '1354386262836947491': ['4', CallNode(function='NDArrayCompat.__getitem__', type_params=None, args=['5190079739381697929', '-6006380681219437916'], kwargs=None)], '-4907493983724134701': ['5', CallNode(function='NDArrayCompat.to_ndarray', type_params=None, args=['1354386262836947491'], kwargs=None)], '-5995768340210771126': ['9', CallNode(function='Converter.convert', type_params={'T': DeclaredTypeInstance(type='NDArray', params=None)}, args=['5190079739381697929'], kwargs=None)], '3455908780670277732': ['11', CallNode(function='Converter.convert', type_params={'T': DeclaredTypeInstance(type='Either', params={'U': DeclaredTypeInstance(type='Vec', params={'T': DeclaredTypeInstance(type='Integer', params=None)}), 'T': DeclaredTypeInstance(type='Integer', params=None)})}, args=['-6006380681219437916'], kwargs=None)], '3741759375383954864': ['12', CallNode(function='Maybe.__and__', type_params={'T': DeclaredTypeInstance(type='NDArray', params=None)}, args=['-5995768340210771126', '3455908780670277732'], kwargs=None)], '-6005488048773410966': ['13', PrimitiveNode(type='function', repr='<function NDArrayCompat.__getitem__.<locals>.<lambda> at 0x110a63f28>')], '916307827233441443': ['14', CallNode(function='Abstraction.from_fn', type_params={'U': DeclaredTypeInstance(type='NDArray', params=None), 'T': DeclaredTypeInstance(type='Pair', params={'U': DeclaredTypeInstance(type='Either', params={'U': DeclaredTypeInstance(type='Vec', params={'T': DeclaredTypeInstance(type='Integer', params=None)}), 'T': DeclaredTypeInstance(type='Integer', params=None)}), 'T': DeclaredTypeInstance(type='NDArray', params=None)})}, args=['-6005488048773410966'], kwargs=None)], '8913131760705745265': ['15', CallNode(function='Maybe.map', type_params={'T': DeclaredTypeInstance(type='Pair', params={'U': DeclaredTypeInstance(type='Either', params={'U': DeclaredTypeInstance(type='Vec', params={'T': DeclaredTypeInstance(type='Integer', params=None)}), 'T': DeclaredTypeInstance(type='Integer', params=None)}), 'T': DeclaredTypeInstance(type='NDArray', params=None)})}, args=['3741759375383954864', '916307827233441443'], kwargs=None)], '-4077596736928142730': ['4', CallNode(function='NDArrayCompat.from_ndarray', type_params=None, args=['8913131760705745265'], kwargs=None)], '-2319617528498365451': ['5', CallNode(function='NDArrayCompat.to_ndarray', type_params=None, args=['-4077596736928142730'], kwargs=None)], '-2197005462382321726': ['17', CallNode(function='Converter.convert', type_params={'T': DeclaredTypeInstance(type='Integer', params=None)}, args=['-6006380681219437916'], kwargs=None)], '-3207699288374113374': ['18', PrimitiveNode(type='BoundInfer', repr='Either.left')], '7761048300386878732': ['19', CallNode(function='Abstraction.from_fn', type_params=None, args=['-3207699288374113374'], kwargs=None)], '3236081451212398601': ['20', CallNode(function='Maybe.map', type_params={'T': DeclaredTypeInstance(type='Integer', params=None)}, args=['-2197005462382321726', '7761048300386878732'], kwargs=None)], '56764834496499474': ['85', CallNode(function='Converter.convert', type_params={'T': DeclaredTypeInstance(type='Vec', params={'T': DeclaredTypeInstance(type='Integer', params=None)})}, args=['-6006380681219437916'], kwargs=None)], '-6152497192860062787': ['22', PrimitiveNode(type='BoundInfer', repr='Either.right')], '-1083255109868135938': ['23', CallNode(function='Abstraction.from_fn', type_params=None, args=['-6152497192860062787'], kwargs=None)], '5500059858730011794': ['24', CallNode(function='Maybe.map', type_params={'T': DeclaredTypeInstance(type='Vec', params={'T': DeclaredTypeInstance(type='Integer', params=None)})}, args=['56764834496499474', '-1083255109868135938'], kwargs=None)], '-6942650871714521931': ['11', CallNode(function='Maybe.__or__', type_params={'T': DeclaredTypeInstance(type='Either', params={'U': DeclaredTypeInstance(type='Vec', params={'T': DeclaredTypeInstance(type='Integer', params=None)}), 'T': DeclaredTypeInstance(type='Integer', params=None)})}, args=['3236081451212398601', '5500059858730011794'], kwargs=None)], '1951478438399678113': ['12', CallNode(function='Maybe.__and__', type_params={'T': DeclaredTypeInstance(type='NDArray', params=None)}, args=['-5995768340210771126', '-6942650871714521931'], kwargs=None)], '2362664450352797313': ['15', CallNode(function='Maybe.map', type_params={'T': DeclaredTypeInstance(type='Pair', params={'U': DeclaredTypeInstance(type='Either', params={'U': DeclaredTypeInstance(type='Vec', params={'T': DeclaredTypeInstance(type='Integer', params=None)}), 'T': DeclaredTypeInstance(type='Integer', params=None)}), 'T': DeclaredTypeInstance(type='NDArray', params=None)})}, args=['1951478438399678113', '916307827233441443'], kwargs=None)], '-5795195994049443272': ['4', CallNode(function='NDArrayCompat.from_ndarray', type_params=None, args=['2362664450352797313'], kwargs=None)], '-3559938788049613326': ['5', CallNode(function='NDArrayCompat.to_ndarray', type_params=None, args=['-5795195994049443272'], kwargs=None)], '6962730042678839849': ['231', CallNode(function='Integer.from_int', type_params=None, args=['-6006380681219437916'], kwargs=None)], '-5542466977718055163': ['96', CallNode(function='Maybe.just', type_params=None, args=['6962730042678839849'], kwargs=None)], '3082428100891284088': ['20', CallNode(function='Maybe.map', type_params={'T': DeclaredTypeInstance(type='Integer', params=None)}, args=['-5542466977718055163', '7761048300386878732'], kwargs=None)], '-1465703885638777874': ['11', CallNode(function='Maybe.__or__', type_params={'T': DeclaredTypeInstance(type='Either', params={'U': DeclaredTypeInstance(type='Vec', params={'T': DeclaredTypeInstance(type='Integer', params=None)}), 'T': DeclaredTypeInstance(type='Integer', params=None)})}, args=['3082428100891284088', '5500059858730011794'], kwargs=None)], '-1753840430160302547': ['12', CallNode(function='Maybe.__and__', type_params={'T': DeclaredTypeInstance(type='NDArray', params=None)}, args=['-5995768340210771126', '-1465703885638777874'], kwargs=None)], '-7885421022555353411': ['15', CallNode(function='Maybe.map', type_params={'T': DeclaredTypeInstance(type='Pair', params={'U': DeclaredTypeInstance(type='Either', params={'U': DeclaredTypeInstance(type='Vec', params={'T': DeclaredTypeInstance(type='Integer', params=None)}), 'T': DeclaredTypeInstance(type='Integer', params=None)}), 'T': DeclaredTypeInstance(type='NDArray', params=None)})}, args=['-1753840430160302547', '916307827233441443'], kwargs=None)], '7334339897450711968': ['4', CallNode(function='NDArrayCompat.from_ndarray', type_params=None, args=['-7885421022555353411'], kwargs=None)], '-463088303001397421': ['5', CallNode(function='NDArrayCompat.to_ndarray', type_params=None, args=['7334339897450711968'], kwargs=None)], '4773442134358678161': ['28', CallNode(function='Converter.convert', type_params={'T': DeclaredTypeInstance(type='Integer', params=None)}, args=['-6006380681324442841'], kwargs=None)], '-3600341354432336976': ['29', PrimitiveNode(type='Infer', repr='arange_')], '-2760370798076581086': ['30', CallNode(function='Abstraction.from_fn', type_params=None, args=['-3600341354432336976'], kwargs=None)], '1203680889652001794': ['31', CallNode(function='Maybe.map', type_params={'T': DeclaredTypeInstance(type='Integer', params=None)}, args=['4773442134358678161', '-2760370798076581086'], kwargs=None)], '4146277160181625528': ['7', CallNode(function='NDArrayCompat.from_ndarray', type_params=None, args=['1203680889652001794'], kwargs=None)], '8192069841863109891': ['8', CallNode(function='NDArrayCompat.__add__', type_params=None, args=['4146277160181625528', '4146277160181625528'], kwargs=None)], '1012826617303473267': ['9', CallNode(function='Converter.convert', type_params={'T': DeclaredTypeInstance(type='NDArray', params=None)}, args=['8192069841863109891'], kwargs=None)], '-2664009043835784622': ['12', CallNode(function='Maybe.__and__', type_params={'T': DeclaredTypeInstance(type='NDArray', params=None)}, args=['1012826617303473267', '-1465703885638777874'], kwargs=None)], '-3998014355988021615': ['15', CallNode(function='Maybe.map', type_params={'T': DeclaredTypeInstance(type='Pair', params={'U': DeclaredTypeInstance(type='Either', params={'U': DeclaredTypeInstance(type='Vec', params={'T': DeclaredTypeInstance(type='Integer', params=None)}), 'T': DeclaredTypeInstance(type='Integer', params=None)}), 'T': DeclaredTypeInstance(type='NDArray', params=None)})}, args=['-2664009043835784622', '916307827233441443'], kwargs=None)], '3241113757427114754': ['4', CallNode(function='NDArrayCompat.from_ndarray', type_params=None, args=['-3998014355988021615'], kwargs=None)], '-5575582935218525837': ['5', CallNode(function='NDArrayCompat.to_ndarray', type_params=None, args=['3241113757427114754'], kwargs=None)], '7966602236760319018': ['237', CallNode(function='Integer.from_int', type_params=None, args=['-6006380681324442841'], kwargs=None)], '-3663977459896762680': ['116', CallNode(function='Maybe.just', type_params=None, args=['7966602236760319018'], kwargs=None)], '-987092137277355994': ['31', CallNode(function='Maybe.map', type_params={'T': DeclaredTypeInstance(type='Integer', params=None)}, args=['-3663977459896762680', '-2760370798076581086'], kwargs=None)], '5690797283837129356': ['7', CallNode(function='NDArrayCompat.from_ndarray', type_params=None, args=['-987092137277355994'], kwargs=None)], '-161397961622156103': ['8', CallNode(function='NDArrayCompat.__add__', type_params=None, args=['5690797283837129356', '5690797283837129356'], kwargs=None)], '-6108681454956942208': ['9', CallNode(function='Converter.convert', type_params={'T': DeclaredTypeInstance(type='NDArray', params=None)}, args=['-161397961622156103'], kwargs=None)], '4790584449111311731': ['12', CallNode(function='Maybe.__and__', type_params={'T': DeclaredTypeInstance(type='NDArray', params=None)}, args=['-6108681454956942208', '-1465703885638777874'], kwargs=None)], '-4175893634975995131': ['15', CallNode(function='Maybe.map', type_params={'T': DeclaredTypeInstance(type='Pair', params={'U': DeclaredTypeInstance(type='Either', params={'U': DeclaredTypeInstance(type='Vec', params={'T': DeclaredTypeInstance(type='Integer', params=None)}), 'T': DeclaredTypeInstance(type='Integer', params=None)}), 'T': DeclaredTypeInstance(type='NDArray', params=None)})}, args=['4790584449111311731', '916307827233441443'], kwargs=None)], '-6147530264868891386': ['4', CallNode(function='NDArrayCompat.from_ndarray', type_params=None, args=['-4175893634975995131'], kwargs=None)], '-5840766389335805192': ['5', CallNode(function='NDArrayCompat.to_ndarray', type_params=None, args=['-6147530264868891386'], kwargs=None)], '-1769148686873828745': ['184', PrimitiveNode(type='Variable', repr='4755644712')], '-4330389453277983072': ['185', CallNode(function='Abstraction.create_variable', type_params={'U': DeclaredTypeInstance(type='NDArray', params=None), 'T': DeclaredTypeInstance(type='Pair', params={'U': DeclaredTypeInstance(type='Either', params={'U': DeclaredTypeInstance(type='Vec', params={'T': DeclaredTypeInstance(type='Integer', params=None)}), 'T': DeclaredTypeInstance(type='Integer', params=None)}), 'T': DeclaredTypeInstance(type='NDArray', params=None)})}, args=['-1769148686873828745'], kwargs=None)], '5382956085246114586': ['186', CallNode(function='Pair.left', type_params={'U': DeclaredTypeInstance(type='Either', params={'U': DeclaredTypeInstance(type='Vec', params={'T': DeclaredTypeInstance(type='Integer', params=None)}), 'T': DeclaredTypeInstance(type='Integer', params=None)}), 'T': DeclaredTypeInstance(type='NDArray', params=None)}, args=['-4330389453277983072'], kwargs=None)], '-8050850474806450622': ['187', CallNode(function='Pair.right', type_params={'U': DeclaredTypeInstance(type='Either', params={'U': DeclaredTypeInstance(type='Vec', params={'T': DeclaredTypeInstance(type='Integer', params=None)}), 'T': DeclaredTypeInstance(type='Integer', params=None)}), 'T': DeclaredTypeInstance(type='NDArray', params=None)}, args=['-4330389453277983072'], kwargs=None)], '-230661046212014492': ['188', CallNode(function='NDArray.__getitem__', type_params=None, args=['5382956085246114586', '-8050850474806450622'], kwargs=None)], '2613842450893822531': ['83', CallNode(function='Abstraction.create', type_params={'U': DeclaredTypeInstance(type='NDArray', params=None), 'T': DeclaredTypeInstance(type='Pair', params={'U': DeclaredTypeInstance(type='Either', params={'U': DeclaredTypeInstance(type='Vec', params={'T': DeclaredTypeInstance(type='Integer', params=None)}), 'T': DeclaredTypeInstance(type='Integer', params=None)}), 'T': DeclaredTypeInstance(type='NDArray', params=None)})}, args=['-4330389453277983072', '-230661046212014492'], kwargs=None)], '-3682687972481198152': ['15', CallNode(function='Maybe.map', type_params={'T': DeclaredTypeInstance(type='Pair', params={'U': DeclaredTypeInstance(type='Either', params={'U': DeclaredTypeInstance(type='Vec', params={'T': DeclaredTypeInstance(type='Integer', params=None)}), 'T': DeclaredTypeInstance(type='Integer', params=None)}), 'T': DeclaredTypeInstance(type='NDArray', params=None)})}, args=['4790584449111311731', '2613842450893822531'], kwargs=None)], '8688729833715977361': ['4', CallNode(function='NDArrayCompat.from_ndarray', type_params=None, args=['-3682687972481198152'], kwargs=None)], '-6699756101969619640': ['5', CallNode(function='NDArrayCompat.to_ndarray', type_params=None, args=['8688729833715977361'], kwargs=None)], '-1769148686146371945': ['146', PrimitiveNode(type='Variable', repr='4755644200')], '-7087181858197164518': ['147', CallNode(function='Abstraction.create_variable', type_params={'U': DeclaredTypeInstance(type='Either', params={'U': DeclaredTypeInstance(type='Vec', params={'T': DeclaredTypeInstance(type='Integer', params=None)}), 'T': DeclaredTypeInstance(type='Integer', params=None)}), 'T': DeclaredTypeInstance(type='Vec', params={'T': DeclaredTypeInstance(type='Integer', params=None)})}, args=['-1769148686146371945'], kwargs=None)], '6163316197898602162': ['148', CallNode(function='Either.right', type_params={'U': DeclaredTypeInstance(type='Vec', params={'T': DeclaredTypeInstance(type='Integer', params=None)}), 'T': DeclaredTypeInstance(type='Integer', params=None)}, args=['-7087181858197164518'], kwargs=None)], '-4597967472733669371': ['92', CallNode(function='Abstraction.create', type_params={'U': DeclaredTypeInstance(type='Either', params={'U': DeclaredTypeInstance(type='Vec', params={'T': DeclaredTypeInstance(type='Integer', params=None)}), 'T': DeclaredTypeInstance(type='Integer', params=None)}), 'T': DeclaredTypeInstance(type='Vec', params={'T': DeclaredTypeInstance(type='Integer', params=None)})}, args=['-7087181858197164518', '6163316197898602162'], kwargs=None)], '6977742537023026540': ['72', CallNode(function='Maybe.map', type_params={'T': DeclaredTypeInstance(type='Vec', params={'T': DeclaredTypeInstance(type='Integer', params=None)})}, args=['56764834496499474', '-4597967472733669371'], kwargs=None)], '1720240134652981095': ['11', CallNode(function='Maybe.__or__', type_params={'T': DeclaredTypeInstance(type='Either', params={'U': DeclaredTypeInstance(type='Vec', params={'T': DeclaredTypeInstance(type='Integer', params=None)}), 'T': DeclaredTypeInstance(type='Integer', params=None)})}, args=['3082428100891284088', '6977742537023026540'], kwargs=None)], '-294720464308517712': ['12', CallNode(function='Maybe.__and__', type_params={'T': DeclaredTypeInstance(type='NDArray', params=None)}, args=['-6108681454956942208', '1720240134652981095'], kwargs=None)], '960714452009246525': ['15', CallNode(function='Maybe.map', type_params={'T': DeclaredTypeInstance(type='Pair', params={'U': DeclaredTypeInstance(type='Either', params={'U': DeclaredTypeInstance(type='Vec', params={'T': DeclaredTypeInstance(type='Integer', params=None)}), 'T': DeclaredTypeInstance(type='Integer', params=None)}), 'T': DeclaredTypeInstance(type='NDArray', params=None)})}, args=['-294720464308517712', '2613842450893822531'], kwargs=None)], '-4875141089409104557': ['4', CallNode(function='NDArrayCompat.from_ndarray', type_params=None, args=['960714452009246525'], kwargs=None)], '2109500761193126057': ['5', CallNode(function='NDArrayCompat.to_ndarray', type_params=None, args=['-4875141089409104557'], kwargs=None)], '7454223398024489088': ['150', PrimitiveNode(type='Variable', repr='4755819376')], '-3654564810827262394': ['151', CallNode(function='Abstraction.create_variable', type_params={'U': DeclaredTypeInstance(type='Either', params={'U': DeclaredTypeInstance(type='Vec', params={'T': DeclaredTypeInstance(type='Integer', params=None)}), 'T': DeclaredTypeInstance(type='Integer', params=None)}), 'T': DeclaredTypeInstance(type='Integer', params=None)}, args=['7454223398024489088'], kwargs=None)], '-7318106640774130145': ['152', CallNode(function='Either.left', type_params={'U': DeclaredTypeInstance(type='Vec', params={'T': DeclaredTypeInstance(type='Integer', params=None)}), 'T': DeclaredTypeInstance(type='Integer', params=None)}, args=['-3654564810827262394'], kwargs=None)], '-3466395086006031233': ['110', CallNode(function='Abstraction.create', type_params={'U': DeclaredTypeInstance(type='Either', params={'U': DeclaredTypeInstance(type='Vec', params={'T': DeclaredTypeInstance(type='Integer', params=None)}), 'T': DeclaredTypeInstance(type='Integer', params=None)}), 'T': DeclaredTypeInstance(type='Integer', params=None)}, args=['-3654564810827262394', '-7318106640774130145'], kwargs=None)], '288253939979044103': ['66', CallNode(function='Maybe.map', type_params={'T': DeclaredTypeInstance(type='Integer', params=None)}, args=['-5542466977718055163', '-3466395086006031233'], kwargs=None)], '-9068246236230324891': ['73', CallNode(function='Maybe.__or__', type_params={'T': DeclaredTypeInstance(type='Either', params={'U': DeclaredTypeInstance(type='Vec', params={'T': DeclaredTypeInstance(type='Integer', params=None)}), 'T': DeclaredTypeInstance(type='Integer', params=None)})}, args=['288253939979044103', '6977742537023026540'], kwargs=None)], '8841106037741855623': ['12', CallNode(function='Maybe.__and__', type_params={'T': DeclaredTypeInstance(type='NDArray', params=None)}, args=['-6108681454956942208', '-9068246236230324891'], kwargs=None)], '407643063292358031': ['15', CallNode(function='Maybe.map', type_params={'T': DeclaredTypeInstance(type='Pair', params={'U': DeclaredTypeInstance(type='Either', params={'U': DeclaredTypeInstance(type='Vec', params={'T': DeclaredTypeInstance(type='Integer', params=None)}), 'T': DeclaredTypeInstance(type='Integer', params=None)}), 'T': DeclaredTypeInstance(type='NDArray', params=None)})}, args=['8841106037741855623', '2613842450893822531'], kwargs=None)], '-4789331727746810919': ['4', CallNode(function='NDArrayCompat.from_ndarray', type_params=None, args=['407643063292358031'], kwargs=None)], '-3770638885822857985': ['5', CallNode(function='NDArrayCompat.to_ndarray', type_params=None, args=['-4789331727746810919'], kwargs=None)], '-1769148634877987945': ['160', PrimitiveNode(type='Variable', repr='4755894056')], '7704628766149539003': ['161', CallNode(function='Abstraction.create_variable', type_params={'U': DeclaredTypeInstance(type='NDArray', params=None), 'T': DeclaredTypeInstance(type='Integer', params=None)}, args=['-1769148634877987945'], kwargs=None)], '6284682917605640706': ['162', CallNode(function='arange_', type_params=None, args=['7704628766149539003'], kwargs=None)], '-3538432380898116735': ['130', CallNode(function='Abstraction.create', type_params={'U': DeclaredTypeInstance(type='NDArray', params=None), 'T': DeclaredTypeInstance(type='Integer', params=None)}, args=['7704628766149539003', '6284682917605640706'], kwargs=None)], '-1162002145574270131': ['55', CallNode(function='Maybe.map', type_params={'T': DeclaredTypeInstance(type='Integer', params=None)}, args=['-3663977459896762680', '-3538432380898116735'], kwargs=None)], '4787246938462325411': ['56', CallNode(function='NDArrayCompat.from_ndarray', type_params=None, args=['-1162002145574270131'], kwargs=None)], '-7732836447014349909': ['57', CallNode(function='NDArrayCompat.__add__', type_params=None, args=['4787246938462325411', '4787246938462325411'], kwargs=None)], '3446107780861524293': ['58', CallNode(function='Converter.convert', type_params={'T': DeclaredTypeInstance(type='NDArray', params=None)}, args=['-7732836447014349909'], kwargs=None)], '4294705322268200079': ['74', CallNode(function='Maybe.__and__', type_params={'T': DeclaredTypeInstance(type='NDArray', params=None)}, args=['3446107780861524293', '-9068246236230324891'], kwargs=None)], '-4964287446436135203': ['15', CallNode(function='Maybe.map', type_params={'T': DeclaredTypeInstance(type='Pair', params={'U': DeclaredTypeInstance(type='Either', params={'U': DeclaredTypeInstance(type='Vec', params={'T': DeclaredTypeInstance(type='Integer', params=None)}), 'T': DeclaredTypeInstance(type='Integer', params=None)}), 'T': DeclaredTypeInstance(type='NDArray', params=None)})}, args=['4294705322268200079', '2613842450893822531'], kwargs=None)], '9039306371445379701': ['4', CallNode(function='NDArrayCompat.from_ndarray', type_params=None, args=['-4964287446436135203'], kwargs=None)], '4274714576045296804': ['5', CallNode(function='NDArrayCompat.to_ndarray', type_params=None, args=['9039306371445379701'], kwargs=None)], '6923212541040143847': ['117', CallNode(function='Maybe.nothing', type_params={'T': DeclaredTypeInstance(type='NDArray', params=None)}, args=None, kwargs=None)], '-5695245968775064118': ['125', PrimitiveNode(type='BoundInfer', repr='Maybe.just')], '4632250920673423873': ['126', CallNode(function='Abstraction.from_fn', type_params=None, args=['-5695245968775064118'], kwargs=None)], '-4088485252777652336': ['84', CallNode(function='Abstraction.__add__', type_params={'U': DeclaredTypeInstance(type='Maybe', params={'T': DeclaredTypeInstance(type='NDArray', params=None)}), 'T': DeclaredTypeInstance(type='NDArray', params=None)}, args=['4632250920673423873', '2613842450893822531'], kwargs=None)], '404360985783282329': ['15', CallNode(function='Maybe.match', type_params={'T': DeclaredTypeInstance(type='Pair', params={'U': DeclaredTypeInstance(type='Either', params={'U': DeclaredTypeInstance(type='Vec', params={'T': DeclaredTypeInstance(type='Integer', params=None)}), 'T': DeclaredTypeInstance(type='Integer', params=None)}), 'T': DeclaredTypeInstance(type='NDArray', params=None)})}, args=['4294705322268200079', '6923212541040143847', '-4088485252777652336'], kwargs=None)], '-7698513533486239281': ['4', CallNode(function='NDArrayCompat.from_ndarray', type_params=None, args=['404360985783282329'], kwargs=None)], '-8309120336368886352': ['5', CallNode(function='NDArrayCompat.to_ndarray', type_params=None, args=['-7698513533486239281'], kwargs=None)], '4003970831100459312': ['97', CallNode(function='Maybe.nothing', type_params={'T': DeclaredTypeInstance(type='Either', params={'U': DeclaredTypeInstance(type='Vec', params={'T': DeclaredTypeInstance(type='Integer', params=None)}), 'T': DeclaredTypeInstance(type='Integer', params=None)})}, args=None, kwargs=None)], '-6656805258353144007': ['105', PrimitiveNode(type='BoundInfer', repr='Maybe.just')], '-7712013410834182406': ['106', CallNode(function='Abstraction.from_fn', type_params=None, args=['-6656805258353144007'], kwargs=None)], '-6581568175931145832': ['93', CallNode(function='Abstraction.__add__', type_params={'U': DeclaredTypeInstance(type='Maybe', params={'T': DeclaredTypeInstance(type='Either', params={'U': DeclaredTypeInstance(type='Vec', params={'T': DeclaredTypeInstance(type='Integer', params=None)}), 'T': DeclaredTypeInstance(type='Integer', params=None)})}), 'T': DeclaredTypeInstance(type='Either', params={'U': DeclaredTypeInstance(type='Vec', params={'T': DeclaredTypeInstance(type='Integer', params=None)}), 'T': DeclaredTypeInstance(type='Integer', params=None)})}, args=['-7712013410834182406', '-4597967472733669371'], kwargs=None)], '8776922591797843700': ['72', CallNode(function='Maybe.match', type_params={'T': DeclaredTypeInstance(type='Vec', params={'T': DeclaredTypeInstance(type='Integer', params=None)})}, args=['56764834496499474', '4003970831100459312', '-6581568175931145832'], kwargs=None)], '822614305904583309': ['73', CallNode(function='Maybe.__or__', type_params={'T': DeclaredTypeInstance(type='Either', params={'U': DeclaredTypeInstance(type='Vec', params={'T': DeclaredTypeInstance(type='Integer', params=None)}), 'T': DeclaredTypeInstance(type='Integer', params=None)})}, args=['288253939979044103', '8776922591797843700'], kwargs=None)], '2509435990591233562': ['74', CallNode(function='Maybe.__and__', type_params={'T': DeclaredTypeInstance(type='NDArray', params=None)}, args=['3446107780861524293', '822614305904583309'], kwargs=None)], '-7512903890078954600': ['15', CallNode(function='Maybe.match', type_params={'T': DeclaredTypeInstance(type='Pair', params={'U': DeclaredTypeInstance(type='Either', params={'U': DeclaredTypeInstance(type='Vec', params={'T': DeclaredTypeInstance(type='Integer', params=None)}), 'T': DeclaredTypeInstance(type='Integer', params=None)}), 'T': DeclaredTypeInstance(type='NDArray', params=None)})}, args=['2509435990591233562', '6923212541040143847', '-4088485252777652336'], kwargs=None)], '-6543493317022349797': ['4', CallNode(function='NDArrayCompat.from_ndarray', type_params=None, args=['-7512903890078954600'], kwargs=None)], '-642731632293204927': ['5', CallNode(function='NDArrayCompat.to_ndarray', type_params=None, args=['-6543493317022349797'], kwargs=None)], '-6081109541745449078': ['111', CallNode(function='Abstraction.__add__', type_params={'U': DeclaredTypeInstance(type='Maybe', params={'T': DeclaredTypeInstance(type='Either', params={'U': DeclaredTypeInstance(type='Vec', params={'T': DeclaredTypeInstance(type='Integer', params=None)}), 'T': DeclaredTypeInstance(type='Integer', params=None)})}), 'T': DeclaredTypeInstance(type='Either', params={'U': DeclaredTypeInstance(type='Vec', params={'T': DeclaredTypeInstance(type='Integer', params=None)}), 'T': DeclaredTypeInstance(type='Integer', params=None)})}, args=['-7712013410834182406', '-3466395086006031233'], kwargs=None)], '-8156648665113391547': ['66', CallNode(function='Maybe.match', type_params={'T': DeclaredTypeInstance(type='Integer', params=None)}, args=['-5542466977718055163', '4003970831100459312', '-6081109541745449078'], kwargs=None)], '1254624532263249504': ['73', CallNode(function='Maybe.__or__', type_params={'T': DeclaredTypeInstance(type='Either', params={'U': DeclaredTypeInstance(type='Vec', params={'T': DeclaredTypeInstance(type='Integer', params=None)}), 'T': DeclaredTypeInstance(type='Integer', params=None)})}, args=['-8156648665113391547', '8776922591797843700'], kwargs=None)], '5370182023366031289': ['74', CallNode(function='Maybe.__and__', type_params={'T': DeclaredTypeInstance(type='NDArray', params=None)}, args=['3446107780861524293', '1254624532263249504'], kwargs=None)], '2713953826833265592': ['15', CallNode(function='Maybe.match', type_params={'T': DeclaredTypeInstance(type='Pair', params={'U': DeclaredTypeInstance(type='Either', params={'U': DeclaredTypeInstance(type='Vec', params={'T': DeclaredTypeInstance(type='Integer', params=None)}), 'T': DeclaredTypeInstance(type='Integer', params=None)}), 'T': DeclaredTypeInstance(type='NDArray', params=None)})}, args=['5370182023366031289', '6923212541040143847', '-4088485252777652336'], kwargs=None)], '2103788648910341423': ['4', CallNode(function='NDArrayCompat.from_ndarray', type_params=None, args=['2713953826833265592'], kwargs=None)], '3870749702378095815': ['5', CallNode(function='NDArrayCompat.to_ndarray', type_params=None, args=['2103788648910341423'], kwargs=None)], '-5986049905084669153': ['66', CallNode(function='Abstraction.__call__', type_params={'U': DeclaredTypeInstance(type='Maybe', params={'T': DeclaredTypeInstance(type='Either', params={'U': DeclaredTypeInstance(type='Vec', params={'T': DeclaredTypeInstance(type='Integer', params=None)}), 'T': DeclaredTypeInstance(type='Integer', params=None)})}), 'T': DeclaredTypeInstance(type='Integer', params=None)}, args=['-6081109541745449078', '6962730042678839849'], kwargs=None)], '-7177243270506312837': ['73', CallNode(function='Maybe.__or__', type_params={'T': DeclaredTypeInstance(type='Either', params={'U': DeclaredTypeInstance(type='Vec', params={'T': DeclaredTypeInstance(type='Integer', params=None)}), 'T': DeclaredTypeInstance(type='Integer', params=None)})}, args=['-5986049905084669153', '8776922591797843700'], kwargs=None)], '5795631916523570241': ['74', CallNode(function='Maybe.__and__', type_params={'T': DeclaredTypeInstance(type='NDArray', params=None)}, args=['3446107780861524293', '-7177243270506312837'], kwargs=None)], '-3443874186027682784': ['15', CallNode(function='Maybe.match', type_params={'T': DeclaredTypeInstance(type='Pair', params={'U': DeclaredTypeInstance(type='Either', params={'U': DeclaredTypeInstance(type='Vec', params={'T': DeclaredTypeInstance(type='Integer', params=None)}), 'T': DeclaredTypeInstance(type='Integer', params=None)}), 'T': DeclaredTypeInstance(type='NDArray', params=None)})}, args=['5795631916523570241', '6923212541040143847', '-4088485252777652336'], kwargs=None)], '7913978585420836009': ['4', CallNode(function='NDArrayCompat.from_ndarray', type_params=None, args=['-3443874186027682784'], kwargs=None)], '5649999650726369616': ['5', CallNode(function='NDArrayCompat.to_ndarray', type_params=None, args=['7913978585420836009'], kwargs=None)], '7469357359188011196': ['131', CallNode(function='Abstraction.__add__', type_params={'U': DeclaredTypeInstance(type='Maybe', params={'T': DeclaredTypeInstance(type='NDArray', params=None)}), 'T': DeclaredTypeInstance(type='NDArray', params=None)}, args=['4632250920673423873', '-3538432380898116735'], kwargs=None)], '-170205731656610441': ['55', CallNode(function='Maybe.match', type_params={'T': DeclaredTypeInstance(type='Integer', params=None)}, args=['-3663977459896762680', '6923212541040143847', '7469357359188011196'], kwargs=None)], '6835893961396089425': ['56', CallNode(function='NDArrayCompat.from_ndarray', type_params=None, args=['-170205731656610441'], kwargs=None)], '-7942663079282832565': ['57', CallNode(function='NDArrayCompat.__add__', type_params=None, args=['6835893961396089425', '6835893961396089425'], kwargs=None)], '-167329001921187419': ['58', CallNode(function='Converter.convert', type_params={'T': DeclaredTypeInstance(type='NDArray', params=None)}, args=['-7942663079282832565'], kwargs=None)], '6060792842079742194': ['74', CallNode(function='Maybe.__and__', type_params={'T': DeclaredTypeInstance(type='NDArray', params=None)}, args=['-167329001921187419', '-7177243270506312837'], kwargs=None)], '-4103340559538813451': ['15', CallNode(function='Maybe.match', type_params={'T': DeclaredTypeInstance(type='Pair', params={'U': DeclaredTypeInstance(type='Either', params={'U': DeclaredTypeInstance(type='Vec', params={'T': DeclaredTypeInstance(type='Integer', params=None)}), 'T': DeclaredTypeInstance(type='Integer', params=None)}), 'T': DeclaredTypeInstance(type='NDArray', params=None)})}, args=['6060792842079742194', '6923212541040143847', '-4088485252777652336'], kwargs=None)], '-4831729597431283210': ['4', CallNode(function='NDArrayCompat.from_ndarray', type_params=None, args=['-4103340559538813451'], kwargs=None)], '2865533831422060648': ['5', CallNode(function='NDArrayCompat.to_ndarray', type_params=None, args=['-4831729597431283210'], kwargs=None)], '234111670037206860': ['55', CallNode(function='Abstraction.__call__', type_params={'U': DeclaredTypeInstance(type='Maybe', params={'T': DeclaredTypeInstance(type='NDArray', params=None)}), 'T': DeclaredTypeInstance(type='Integer', params=None)}, args=['7469357359188011196', '7966602236760319018'], kwargs=None)], '4062915358529062846': ['56', CallNode(function='NDArrayCompat.from_ndarray', type_params=None, args=['234111670037206860'], kwargs=None)], '-3202680218131012589': ['57', CallNode(function='NDArrayCompat.__add__', type_params=None, args=['4062915358529062846', '4062915358529062846'], kwargs=None)], '-7229931461017194969': ['58', CallNode(function='Converter.convert', type_params={'T': DeclaredTypeInstance(type='NDArray', params=None)}, args=['-3202680218131012589'], kwargs=None)], '388330661609148707': ['74', CallNode(function='Maybe.__and__', type_params={'T': DeclaredTypeInstance(type='NDArray', params=None)}, args=['-7229931461017194969', '-7177243270506312837'], kwargs=None)], '2107130959196196992': ['15', CallNode(function='Maybe.match', type_params={'T': DeclaredTypeInstance(type='Pair', params={'U': DeclaredTypeInstance(type='Either', params={'U': DeclaredTypeInstance(type='Vec', params={'T': DeclaredTypeInstance(type='Integer', params=None)}), 'T': DeclaredTypeInstance(type='Integer', params=None)}), 'T': DeclaredTypeInstance(type='NDArray', params=None)})}, args=['388330661609148707', '6923212541040143847', '-4088485252777652336'], kwargs=None)], '-6973202879649594446': ['4', CallNode(function='NDArrayCompat.from_ndarray', type_params=None, args=['2107130959196196992'], kwargs=None)], '8257191359522430535': ['5', CallNode(function='NDArrayCompat.to_ndarray', type_params=None, args=['-6973202879649594446'], kwargs=None)], '-1769148641750939170': ['134', PrimitiveNode(type='Variable', repr='4756036632')], '3388998044925133563': ['135', CallNode(function='Abstraction.create_variable', type_params={'U': DeclaredTypeInstance(type='Maybe', params={'T': DeclaredTypeInstance(type='Either', params={'U': DeclaredTypeInstance(type='Vec', params={'T': DeclaredTypeInstance(type='Integer', params=None)}), 'T': DeclaredTypeInstance(type='Integer', params=None)})}), 'T': DeclaredTypeInstance(type='Either', params={'U': DeclaredTypeInstance(type='Vec', params={'T': DeclaredTypeInstance(type='Integer', params=None)}), 'T': DeclaredTypeInstance(type='Integer', params=None)})}, args=['-1769148641750939170'], kwargs=None)], '-4108468916696489519': ['136', CallNode(function='Maybe.just', type_params={'T': DeclaredTypeInstance(type='Either', params={'U': DeclaredTypeInstance(type='Vec', params={'T': DeclaredTypeInstance(type='Integer', params=None)}), 'T': DeclaredTypeInstance(type='Integer', params=None)})}, args=['3388998044925133563'], kwargs=None)], '3355364138531677718': ['106', CallNode(function='Abstraction.create', type_params={'U': DeclaredTypeInstance(type='Maybe', params={'T': DeclaredTypeInstance(type='Either', params={'U': DeclaredTypeInstance(type='Vec', params={'T': DeclaredTypeInstance(type='Integer', params=None)}), 'T': DeclaredTypeInstance(type='Integer', params=None)})}), 'T': DeclaredTypeInstance(type='Either', params={'U': DeclaredTypeInstance(type='Vec', params={'T': DeclaredTypeInstance(type='Integer', params=None)}), 'T': DeclaredTypeInstance(type='Integer', params=None)})}, args=['3388998044925133563', '-4108468916696489519'], kwargs=None)], '-8774401014782849686': ['111', CallNode(function='Abstraction.__add__', type_params={'U': DeclaredTypeInstance(type='Maybe', params={'T': DeclaredTypeInstance(type='Either', params={'U': DeclaredTypeInstance(type='Vec', params={'T': DeclaredTypeInstance(type='Integer', params=None)}), 'T': DeclaredTypeInstance(type='Integer', params=None)})}), 'T': DeclaredTypeInstance(type='Either', params={'U': DeclaredTypeInstance(type='Vec', params={'T': DeclaredTypeInstance(type='Integer', params=None)}), 'T': DeclaredTypeInstance(type='Integer', params=None)})}, args=['3355364138531677718', '-3466395086006031233'], kwargs=None)], '5518244623262440448': ['66', CallNode(function='Abstraction.__call__', type_params={'U': DeclaredTypeInstance(type='Maybe', params={'T': DeclaredTypeInstance(type='Either', params={'U': DeclaredTypeInstance(type='Vec', params={'T': DeclaredTypeInstance(type='Integer', params=None)}), 'T': DeclaredTypeInstance(type='Integer', params=None)})}), 'T': DeclaredTypeInstance(type='Integer', params=None)}, args=['-8774401014782849686', '6962730042678839849'], kwargs=None)], '-5134191361509569736': ['93', CallNode(function='Abstraction.__add__', type_params={'U': DeclaredTypeInstance(type='Maybe', params={'T': DeclaredTypeInstance(type='Either', params={'U': DeclaredTypeInstance(type='Vec', params={'T': DeclaredTypeInstance(type='Integer', params=None)}), 'T': DeclaredTypeInstance(type='Integer', params=None)})}), 'T': DeclaredTypeInstance(type='Either', params={'U': DeclaredTypeInstance(type='Vec', params={'T': DeclaredTypeInstance(type='Integer', params=None)}), 'T': DeclaredTypeInstance(type='Integer', params=None)})}, args=['3355364138531677718', '-4597967472733669371'], kwargs=None)], '-884950690416073900': ['72', CallNode(function='Maybe.match', type_params={'T': DeclaredTypeInstance(type='Vec', params={'T': DeclaredTypeInstance(type='Integer', params=None)})}, args=['56764834496499474', '4003970831100459312', '-5134191361509569736'], kwargs=None)], '3268569637052015965': ['73', CallNode(function='Maybe.__or__', type_params={'T': DeclaredTypeInstance(type='Either', params={'U': DeclaredTypeInstance(type='Vec', params={'T': DeclaredTypeInstance(type='Integer', params=None)}), 'T': DeclaredTypeInstance(type='Integer', params=None)})}, args=['5518244623262440448', '-884950690416073900'], kwargs=None)], '-169016107510687255': ['74', CallNode(function='Maybe.__and__', type_params={'T': DeclaredTypeInstance(type='NDArray', params=None)}, args=['-7229931461017194969', '3268569637052015965'], kwargs=None)], '-6454316655550274338': ['15', CallNode(function='Maybe.match', type_params={'T': DeclaredTypeInstance(type='Pair', params={'U': DeclaredTypeInstance(type='Either', params={'U': DeclaredTypeInstance(type='Vec', params={'T': DeclaredTypeInstance(type='Integer', params=None)}), 'T': DeclaredTypeInstance(type='Integer', params=None)}), 'T': DeclaredTypeInstance(type='NDArray', params=None)})}, args=['-169016107510687255', '6923212541040143847', '-4088485252777652336'], kwargs=None)], '2577982592084368718': ['4', CallNode(function='NDArrayCompat.from_ndarray', type_params=None, args=['-6454316655550274338'], kwargs=None)], '-3703220033579508953': ['5', CallNode(function='NDArrayCompat.to_ndarray', type_params=None, args=['2577982592084368718'], kwargs=None)], '7454223402536453288': ['137', PrimitiveNode(type='Variable', repr='4755885808')], '-784149350785484050': ['138', CallNode(function='Abstraction.create_variable', type_params={'U': DeclaredTypeInstance(type='Maybe', params={'T': DeclaredTypeInstance(type='NDArray', params=None)}), 'T': DeclaredTypeInstance(type='NDArray', params=None)}, args=['7454223402536453288'], kwargs=None)], '-8451844471479557208': ['139', CallNode(function='Maybe.just', type_params={'T': DeclaredTypeInstance(type='NDArray', params=None)}, args=['-784149350785484050'], kwargs=None)], '-1664248791757170789': ['126', CallNode(function='Abstraction.create', type_params={'U': DeclaredTypeInstance(type='Maybe', params={'T': DeclaredTypeInstance(type='NDArray', params=None)}), 'T': DeclaredTypeInstance(type='NDArray', params=None)}, args=['-784149350785484050', '-8451844471479557208'], kwargs=None)], '-8736232728005837676': ['131', CallNode(function='Abstraction.__add__', type_params={'U': DeclaredTypeInstance(type='Maybe', params={'T': DeclaredTypeInstance(type='NDArray', params=None)}), 'T': DeclaredTypeInstance(type='NDArray', params=None)}, args=['-1664248791757170789', '-3538432380898116735'], kwargs=None)], '8629648236472256342': ['55', CallNode(function='Abstraction.__call__', type_params={'U': DeclaredTypeInstance(type='Maybe', params={'T': DeclaredTypeInstance(type='NDArray', params=None)}), 'T': DeclaredTypeInstance(type='Integer', params=None)}, args=['-8736232728005837676', '7966602236760319018'], kwargs=None)], '4750778754995438223': ['56', CallNode(function='NDArrayCompat.from_ndarray', type_params=None, args=['8629648236472256342'], kwargs=None)], '-4938104147070211245': ['57', CallNode(function='NDArrayCompat.__add__', type_params=None, args=['4750778754995438223', '4750778754995438223'], kwargs=None)], '-8898633772241433608': ['58', CallNode(function='Converter.convert', type_params={'T': DeclaredTypeInstance(type='NDArray', params=None)}, args=['-4938104147070211245'], kwargs=None)], '6218656818051638852': ['74', CallNode(function='Maybe.__and__', type_params={'T': DeclaredTypeInstance(type='NDArray', params=None)}, args=['-8898633772241433608', '3268569637052015965'], kwargs=None)], '6494935047604091880': ['84', CallNode(function='Abstraction.__add__', type_params={'U': DeclaredTypeInstance(type='Maybe', params={'T': DeclaredTypeInstance(type='NDArray', params=None)}), 'T': DeclaredTypeInstance(type='NDArray', params=None)}, args=['-1664248791757170789', '2613842450893822531'], kwargs=None)], '-4611929971200772528': ['15', CallNode(function='Maybe.match', type_params={'T': DeclaredTypeInstance(type='Pair', params={'U': DeclaredTypeInstance(type='Either', params={'U': DeclaredTypeInstance(type='Vec', params={'T': DeclaredTypeInstance(type='Integer', params=None)}), 'T': DeclaredTypeInstance(type='Integer', params=None)}), 'T': DeclaredTypeInstance(type='NDArray', params=None)})}, args=['6218656818051638852', '6923212541040143847', '6494935047604091880'], kwargs=None)], '4442707238382081860': ['4', CallNode(function='NDArrayCompat.from_ndarray', type_params=None, args=['-4611929971200772528'], kwargs=None)], '-8884546590919559931': ['5', CallNode(function='NDArrayCompat.to_ndarray', type_params=None, args=['4442707238382081860'], kwargs=None)], '-2978624003297064854': ['189', CallNode(function='Maybe.just', type_params={'T': DeclaredTypeInstance(type='NDArray', params=None)}, args=['-230661046212014492'], kwargs=None)], '-402687706647757990': ['190', CallNode(function='Abstraction.create', type_params=None, args=['-4330389453277983072', '-2978624003297064854'], kwargs=None)], '-5230423830143714880': ['15', CallNode(function='Maybe.match', type_params={'T': DeclaredTypeInstance(type='Pair', params={'U': DeclaredTypeInstance(type='Either', params={'U': DeclaredTypeInstance(type='Vec', params={'T': DeclaredTypeInstance(type='Integer', params=None)}), 'T': DeclaredTypeInstance(type='Integer', params=None)}), 'T': DeclaredTypeInstance(type='NDArray', params=None)})}, args=['6218656818051638852', '6923212541040143847', '-402687706647757990'], kwargs=None)], '-1181318727050750860': ['4', CallNode(function='NDArrayCompat.from_ndarray', type_params=None, args=['-5230423830143714880'], kwargs=None)], '8266943505289673192': ['5', CallNode(function='NDArrayCompat.to_ndarray', type_params=None, args=['-1181318727050750860'], kwargs=None)], '-4960344124539660439': ['149', CallNode(function='Maybe.just', type_params={'T': DeclaredTypeInstance(type='Either', params={'U': DeclaredTypeInstance(type='Vec', params={'T': DeclaredTypeInstance(type='Integer', params=None)}), 'T': DeclaredTypeInstance(type='Integer', params=None)})}, args=['6163316197898602162'], kwargs=None)], '1441144683403267104': ['93', CallNode(function='Abstraction.create', type_params=None, args=['-7087181858197164518', '-4960344124539660439'], kwargs=None)], '-7892135140000011790': ['72', CallNode(function='Maybe.match', type_params={'T': DeclaredTypeInstance(type='Vec', params={'T': DeclaredTypeInstance(type='Integer', params=None)})}, args=['56764834496499474', '4003970831100459312', '1441144683403267104'], kwargs=None)], '-7207968979249905896': ['73', CallNode(function='Maybe.__or__', type_params={'T': DeclaredTypeInstance(type='Either', params={'U': DeclaredTypeInstance(type='Vec', params={'T': DeclaredTypeInstance(type='Integer', params=None)}), 'T': DeclaredTypeInstance(type='Integer', params=None)})}, args=['5518244623262440448', '-7892135140000011790'], kwargs=None)], '-157613696092695887': ['74', CallNode(function='Maybe.__and__', type_params={'T': DeclaredTypeInstance(type='NDArray', params=None)}, args=['-8898633772241433608', '-7207968979249905896'], kwargs=None)], '4777347812515872381': ['15', CallNode(function='Maybe.match', type_params={'T': DeclaredTypeInstance(type='Pair', params={'U': DeclaredTypeInstance(type='Either', params={'U': DeclaredTypeInstance(type='Vec', params={'T': DeclaredTypeInstance(type='Integer', params=None)}), 'T': DeclaredTypeInstance(type='Integer', params=None)}), 'T': DeclaredTypeInstance(type='NDArray', params=None)})}, args=['-157613696092695887', '6923212541040143847', '-402687706647757990'], kwargs=None)], '-7120093176280896823': ['4', CallNode(function='NDArrayCompat.from_ndarray', type_params=None, args=['4777347812515872381'], kwargs=None)], '7781857735481931074': ['5', CallNode(function='NDArrayCompat.to_ndarray', type_params=None, args=['-7120093176280896823'], kwargs=None)], '1632213310589801841': ['153', CallNode(function='Maybe.just', type_params={'T': DeclaredTypeInstance(type='Either', params={'U': DeclaredTypeInstance(type='Vec', params={'T': DeclaredTypeInstance(type='Integer', params=None)}), 'T': DeclaredTypeInstance(type='Integer', params=None)})}, args=['-7318106640774130145'], kwargs=None)], '-7464121073050138740': ['111', CallNode(function='Abstraction.create', type_params=None, args=['-3654564810827262394', '1632213310589801841'], kwargs=None)], '4873035549798093790': ['66', CallNode(function='Abstraction.__call__', type_params={'U': DeclaredTypeInstance(type='Maybe', params={'T': DeclaredTypeInstance(type='Either', params={'U': DeclaredTypeInstance(type='Vec', params={'T': DeclaredTypeInstance(type='Integer', params=None)}), 'T': DeclaredTypeInstance(type='Integer', params=None)})}), 'T': DeclaredTypeInstance(type='Integer', params=None)}, args=['-7464121073050138740', '6962730042678839849'], kwargs=None)], '-5415631500368010402': ['73', CallNode(function='Maybe.__or__', type_params={'T': DeclaredTypeInstance(type='Either', params={'U': DeclaredTypeInstance(type='Vec', params={'T': DeclaredTypeInstance(type='Integer', params=None)}), 'T': DeclaredTypeInstance(type='Integer', params=None)})}, args=['4873035549798093790', '-7892135140000011790'], kwargs=None)], '-4717185650047279506': ['74', CallNode(function='Maybe.__and__', type_params={'T': DeclaredTypeInstance(type='NDArray', params=None)}, args=['-8898633772241433608', '-5415631500368010402'], kwargs=None)], '-9183678103075162506': ['15', CallNode(function='Maybe.match', type_params={'T': DeclaredTypeInstance(type='Pair', params={'U': DeclaredTypeInstance(type='Either', params={'U': DeclaredTypeInstance(type='Vec', params={'T': DeclaredTypeInstance(type='Integer', params=None)}), 'T': DeclaredTypeInstance(type='Integer', params=None)}), 'T': DeclaredTypeInstance(type='NDArray', params=None)})}, args=['-4717185650047279506', '6923212541040143847', '-402687706647757990'], kwargs=None)], '-3718179224137556323': ['4', CallNode(function='NDArrayCompat.from_ndarray', type_params=None, args=['-9183678103075162506'], kwargs=None)], '-4917515354218650496': ['5', CallNode(function='NDArrayCompat.to_ndarray', type_params=None, args=['-3718179224137556323'], kwargs=None)], '6846199819414548970': ['228', CallNode(function='Either.left', type_params={'U': DeclaredTypeInstance(type='Vec', params={'T': DeclaredTypeInstance(type='Integer', params=None)}), 'T': DeclaredTypeInstance(type='Integer', params=None)}, args=['6962730042678839849'], kwargs=None)], '2765548341613290881': ['66', CallNode(function='Maybe.just', type_params={'T': DeclaredTypeInstance(type='Either', params={'U': DeclaredTypeInstance(type='Vec', params={'T': DeclaredTypeInstance(type='Integer', params=None)}), 'T': DeclaredTypeInstance(type='Integer', params=None)})}, args=['6846199819414548970'], kwargs=None)], '-4848965588687345256': ['73', CallNode(function='Maybe.__or__', type_params={'T': DeclaredTypeInstance(type='Either', params={'U': DeclaredTypeInstance(type='Vec', params={'T': DeclaredTypeInstance(type='Integer', params=None)}), 'T': DeclaredTypeInstance(type='Integer', params=None)})}, args=['2765548341613290881', '-7892135140000011790'], kwargs=None)], '5865741398000652892': ['74', CallNode(function='Maybe.__and__', type_params={'T': DeclaredTypeInstance(type='NDArray', params=None)}, args=['-8898633772241433608', '-4848965588687345256'], kwargs=None)], '1402407605770655992': ['15', CallNode(function='Maybe.match', type_params={'T': DeclaredTypeInstance(type='Pair', params={'U': DeclaredTypeInstance(type='Either', params={'U': DeclaredTypeInstance(type='Vec', params={'T': DeclaredTypeInstance(type='Integer', params=None)}), 'T': DeclaredTypeInstance(type='Integer', params=None)}), 'T': DeclaredTypeInstance(type='NDArray', params=None)})}, args=['5865741398000652892', '6923212541040143847', '-402687706647757990'], kwargs=None)], '-4886192741181714182': ['4', CallNode(function='NDArrayCompat.from_ndarray', type_params=None, args=['1402407605770655992'], kwargs=None)], '-3683823410489128412': ['5', CallNode(function='NDArrayCompat.to_ndarray', type_params=None, args=['-4886192741181714182'], kwargs=None)], '9066622150592223557': ['73', CallNode(function='Maybe.just', type_params=None, args=['6846199819414548970'], kwargs=None)], '-3217089722505413646': ['74', CallNode(function='Maybe.__and__', type_params={'T': DeclaredTypeInstance(type='NDArray', params=None)}, args=['-8898633772241433608', '9066622150592223557'], kwargs=None)], '2119966447873445437': ['15', CallNode(function='Maybe.match', type_params={'T': DeclaredTypeInstance(type='Pair', params={'U': DeclaredTypeInstance(type='Either', params={'U': DeclaredTypeInstance(type='Vec', params={'T': DeclaredTypeInstance(type='Integer', params=None)}), 'T': DeclaredTypeInstance(type='Integer', params=None)}), 'T': DeclaredTypeInstance(type='NDArray', params=None)})}, args=['-3217089722505413646', '6923212541040143847', '-402687706647757990'], kwargs=None)], '8065818816317286483': ['4', CallNode(function='NDArrayCompat.from_ndarray', type_params=None, args=['2119966447873445437'], kwargs=None)], '-1408805913664019118': ['5', CallNode(function='NDArrayCompat.to_ndarray', type_params=None, args=['8065818816317286483'], kwargs=None)], '-8970030002248239990': ['163', CallNode(function='Maybe.just', type_params={'T': DeclaredTypeInstance(type='NDArray', params=None)}, args=['6284682917605640706'], kwargs=None)], '-2233795389975400231': ['131', CallNode(function='Abstraction.create', type_params=None, args=['7704628766149539003', '-8970030002248239990'], kwargs=None)], '-2238180516135160642': ['55', CallNode(function='Abstraction.__call__', type_params={'U': DeclaredTypeInstance(type='Maybe', params={'T': DeclaredTypeInstance(type='NDArray', params=None)}), 'T': DeclaredTypeInstance(type='Integer', params=None)}, args=['-2233795389975400231', '7966602236760319018'], kwargs=None)], '3861949733020157812': ['56', CallNode(function='NDArrayCompat.from_ndarray', type_params=None, args=['-2238180516135160642'], kwargs=None)], '1223403287802024779': ['57', CallNode(function='NDArrayCompat.__add__', type_params=None, args=['3861949733020157812', '3861949733020157812'], kwargs=None)], '5497665369748932618': ['58', CallNode(function='Converter.convert', type_params={'T': DeclaredTypeInstance(type='NDArray', params=None)}, args=['1223403287802024779'], kwargs=None)], '-8470199562507099669': ['74', CallNode(function='Maybe.__and__', type_params={'T': DeclaredTypeInstance(type='NDArray', params=None)}, args=['5497665369748932618', '9066622150592223557'], kwargs=None)], '5834028565892487858': ['15', CallNode(function='Maybe.match', type_params={'T': DeclaredTypeInstance(type='Pair', params={'U': DeclaredTypeInstance(type='Either', params={'U': DeclaredTypeInstance(type='Vec', params={'T': DeclaredTypeInstance(type='Integer', params=None)}), 'T': DeclaredTypeInstance(type='Integer', params=None)}), 'T': DeclaredTypeInstance(type='NDArray', params=None)})}, args=['-8470199562507099669', '6923212541040143847', '-402687706647757990'], kwargs=None)], '3441399209924908982': ['4', CallNode(function='NDArrayCompat.from_ndarray', type_params=None, args=['5834028565892487858'], kwargs=None)], '3793105296149449375': ['5', CallNode(function='NDArrayCompat.to_ndarray', type_params=None, args=['3441399209924908982'], kwargs=None)], '-8233414005755690667': ['234', CallNode(function='arange_', type_params=None, args=['7966602236760319018'], kwargs=None)], '7303639167264718852': ['55', CallNode(function='Maybe.just', type_params={'T': DeclaredTypeInstance(type='NDArray', params=None)}, args=['-8233414005755690667'], kwargs=None)], '-431939898243646431': ['56', CallNode(function='NDArrayCompat.from_ndarray', type_params=None, args=['7303639167264718852'], kwargs=None)], '2790862316037737043': ['57', CallNode(function='NDArrayCompat.__add__', type_params=None, args=['-431939898243646431', '-431939898243646431'], kwargs=None)], '-1394901672907631591': ['58', CallNode(function='Converter.convert', type_params={'T': DeclaredTypeInstance(type='NDArray', params=None)}, args=['2790862316037737043'], kwargs=None)], '-5570188025519585762': ['74', CallNode(function='Maybe.__and__', type_params={'T': DeclaredTypeInstance(type='NDArray', params=None)}, args=['-1394901672907631591', '9066622150592223557'], kwargs=None)], '7355531054063641926': ['15', CallNode(function='Maybe.match', type_params={'T': DeclaredTypeInstance(type='Pair', params={'U': DeclaredTypeInstance(type='Either', params={'U': DeclaredTypeInstance(type='Vec', params={'T': DeclaredTypeInstance(type='Integer', params=None)}), 'T': DeclaredTypeInstance(type='Integer', params=None)}), 'T': DeclaredTypeInstance(type='NDArray', params=None)})}, args=['-5570188025519585762', '6923212541040143847', '-402687706647757990'], kwargs=None)], '7760680480752938303': ['4', CallNode(function='NDArrayCompat.from_ndarray', type_params=None, args=['7355531054063641926'], kwargs=None)], '9141249351052721414': ['5', CallNode(function='NDArrayCompat.to_ndarray', type_params=None, args=['7760680480752938303'], kwargs=None)], '5395502310657657145': ['224', CallNode(function='NDArray.__add__', type_params=None, args=['-8233414005755690667', '-8233414005755690667'], kwargs=None)], '6136993431512255598': ['58', CallNode(function='Maybe.just', type_params=None, args=['5395502310657657145'], kwargs=None)], '4920909026102652322': ['57', CallNode(function='NDArrayCompat.from_ndarray', type_params=None, args=['6136993431512255598'], kwargs=None)], '-3722002412128931575': ['58', CallNode(function='Converter.convert', type_params={'T': DeclaredTypeInstance(type='NDArray', params=None)}, args=['4920909026102652322'], kwargs=None)], '937612795712878287': ['74', CallNode(function='Maybe.__and__', type_params={'T': DeclaredTypeInstance(type='NDArray', params=None)}, args=['-3722002412128931575', '9066622150592223557'], kwargs=None)], '-7345224051439334813': ['15', CallNode(function='Maybe.match', type_params={'T': DeclaredTypeInstance(type='Pair', params={'U': DeclaredTypeInstance(type='Either', params={'U': DeclaredTypeInstance(type='Vec', params={'T': DeclaredTypeInstance(type='Integer', params=None)}), 'T': DeclaredTypeInstance(type='Integer', params=None)}), 'T': DeclaredTypeInstance(type='NDArray', params=None)})}, args=['937612795712878287', '6923212541040143847', '-402687706647757990'], kwargs=None)], '8534818406019508306': ['4', CallNode(function='NDArrayCompat.from_ndarray', type_params=None, args=['-7345224051439334813'], kwargs=None)], '3679161464505500053': ['5', CallNode(function='NDArrayCompat.to_ndarray', type_params=None, args=['8534818406019508306'], kwargs=None)], '4072582580909171559': ['74', CallNode(function='Maybe.__and__', type_params={'T': DeclaredTypeInstance(type='NDArray', params=None)}, args=['6136993431512255598', '9066622150592223557'], kwargs=None)], '-863801757947353806': ['15', CallNode(function='Maybe.match', type_params={'T': DeclaredTypeInstance(type='Pair', params={'U': DeclaredTypeInstance(type='Either', params={'U': DeclaredTypeInstance(type='Vec', params={'T': DeclaredTypeInstance(type='Integer', params=None)}), 'T': DeclaredTypeInstance(type='Integer', params=None)}), 'T': DeclaredTypeInstance(type='NDArray', params=None)})}, args=['4072582580909171559', '6923212541040143847', '-402687706647757990'], kwargs=None)], '-4582399117431256088': ['4', CallNode(function='NDArrayCompat.from_ndarray', type_params=None, args=['-863801757947353806'], kwargs=None)], '-6183860078398997297': ['5', CallNode(function='NDArrayCompat.to_ndarray', type_params=None, args=['-4582399117431256088'], kwargs=None)], '5658948509727247306': ['206', CallNode(function='Pair.create', type_params=None, args=['5395502310657657145', '6846199819414548970'], kwargs=None)], '-8480241340715455771': ['74', CallNode(function='Maybe.just', type_params=None, args=['5658948509727247306'], kwargs=None)], '8122449506535792796': ['15', CallNode(function='Maybe.match', type_params={'T': DeclaredTypeInstance(type='Pair', params={'U': DeclaredTypeInstance(type='Either', params={'U': DeclaredTypeInstance(type='Vec', params={'T': DeclaredTypeInstance(type='Integer', params=None)}), 'T': DeclaredTypeInstance(type='Integer', params=None)}), 'T': DeclaredTypeInstance(type='NDArray', params=None)})}, args=['-8480241340715455771', '6923212541040143847', '-402687706647757990'], kwargs=None)], '4878127213396618793': ['4', CallNode(function='NDArrayCompat.from_ndarray', type_params=None, args=['8122449506535792796'], kwargs=None)], '6188744062743729739': ['5', CallNode(function='NDArrayCompat.to_ndarray', type_params=None, args=['4878127213396618793'], kwargs=None)], '-1514561423151448007': ['15', CallNode(function='Abstraction.__call__', type_params={'U': DeclaredTypeInstance(type='Maybe', params={'T': DeclaredTypeInstance(type='NDArray', params=None)}), 'T': DeclaredTypeInstance(type='Pair', params={'U': DeclaredTypeInstance(type='Either', params={'U': DeclaredTypeInstance(type='Vec', params={'T': DeclaredTypeInstance(type='Integer', params=None)}), 'T': DeclaredTypeInstance(type='Integer', params=None)}), 'T': DeclaredTypeInstance(type='NDArray', params=None)})}, args=['-402687706647757990', '5658948509727247306'], kwargs=None)], '4626051976203745967': ['4', CallNode(function='NDArrayCompat.from_ndarray', type_params=None, args=['-1514561423151448007'], kwargs=None)], '-1057398411627644727': ['5', CallNode(function='NDArrayCompat.to_ndarray', type_params=None, args=['4626051976203745967'], kwargs=None)], '-4535890237836401987': ['207', CallNode(function='Pair.left', type_params={'U': DeclaredTypeInstance(type='Either', params={'U': DeclaredTypeInstance(type='Vec', params={'T': DeclaredTypeInstance(type='Integer', params=None)}), 'T': DeclaredTypeInstance(type='Integer', params=None)}), 'T': DeclaredTypeInstance(type='NDArray', params=None)}, args=['5658948509727247306'], kwargs=None)], '6518075858808317477': ['208', CallNode(function='Pair.right', type_params={'U': DeclaredTypeInstance(type='Either', params={'U': DeclaredTypeInstance(type='Vec', params={'T': DeclaredTypeInstance(type='Integer', params=None)}), 'T': DeclaredTypeInstance(type='Integer', params=None)}), 'T': DeclaredTypeInstance(type='NDArray', params=None)}, args=['5658948509727247306'], kwargs=None)], '9111908918786543292': ['209', CallNode(function='NDArray.__getitem__', type_params=None, args=['-4535890237836401987', '6518075858808317477'], kwargs=None)], '-8696984683730910075': ['15', CallNode(function='Maybe.just', type_params={'T': DeclaredTypeInstance(type='NDArray', params=None)}, args=['9111908918786543292'], kwargs=None)], '-2642755983487770568': ['4', CallNode(function='NDArrayCompat.from_ndarray', type_params=None, args=['-8696984683730910075'], kwargs=None)], '-662513823307959777': ['5', CallNode(function='NDArrayCompat.to_ndarray', type_params=None, args=['-2642755983487770568'], kwargs=None)], '8784859505072793045': ['209', CallNode(function='NDArray.__getitem__', type_params=None, args=['-4535890237836401987', '6846199819414548970'], kwargs=None)], '1099709625623759638': ['15', CallNode(function='Maybe.just', type_params={'T': DeclaredTypeInstance(type='NDArray', params=None)}, args=['8784859505072793045'], kwargs=None)], '8700523929461955132': ['4', CallNode(function='NDArrayCompat.from_ndarray', type_params=None, args=['1099709625623759638'], kwargs=None)], '6206152925731748759': ['5', CallNode(function='NDArrayCompat.to_ndarray', type_params=None, args=['8700523929461955132'], kwargs=None)], '-3721803504179224446': ['220', CallNode(function='NDArray.__getitem__', type_params=None, args=['5395502310657657145', '6846199819414548970'], kwargs=None)], '-77578246857916133': ['15', CallNode(function='Maybe.just', type_params={'T': DeclaredTypeInstance(type='NDArray', params=None)}, args=['-3721803504179224446'], kwargs=None)], '5531668625128669877': ['4', CallNode(function='NDArrayCompat.from_ndarray', type_params=None, args=['-77578246857916133'], kwargs=None)], '-7453915959113807969': ['5', CallNode(function='NDArrayCompat.to_ndarray', type_params=None, args=['5531668625128669877'], kwargs=None)], '2600299128177675893': ['5', CallNode(function='NDArray.to_ndarray', type_params=None, args=['-3721803504179224446'], kwargs=None)], '-8005282414065216697': ['225', CallNode(function='NDArray.to_ndarray', type_params=None, args=['5395502310657657145'], kwargs=None)], '-3420273265503024286': ['229', CallNode(function='unbox_idxs', type_params=None, args=['6846199819414548970'], kwargs=None)], '-1870084270352621891': ['5', CallNode(function='ndarray_getitem', type_params=None, args=['-8005282414065216697', '-3420273265503024286'], kwargs=None)], '8914573405677997503': ['229', CallNode(function='unbox_integer', type_params=None, args=['6962730042678839849'], kwargs=None)], '-1581393561965480632': ['5', CallNode(function='ndarray_getitem', type_params=None, args=['-8005282414065216697', '8914573405677997503'], kwargs=None)], '9077255455034254440': ['5', CallNode(function='ndarray_getitem', type_params=None, args=['-8005282414065216697', '-6006380681219437916'], kwargs=None)], '282018813621593594': ['235', CallNode(function='NDArray.to_ndarray', type_params=None, args=['-8233414005755690667'], kwargs=None)], '-3106899936711395658': ['225', CallNode(function='ndarray_add', type_params=None, args=['282018813621593594', '282018813621593594'], kwargs=None)], '4685152014539675309': ['5', CallNode(function='ndarray_getitem', type_params=None, args=['-3106899936711395658', '-6006380681219437916'], kwargs=None)], '-9034272911457410158': ['238', CallNode(function='unbox_integer', type_params=None, args=['7966602236760319018'], kwargs=None)], '2684644184161203478': ['235', CallNode(function='arange', type_params=None, args=['-9034272911457410158'], kwargs=None)], '-2917528559518353172': ['225', CallNode(function='ndarray_add', type_params=None, args=['2684644184161203478', '2684644184161203478'], kwargs=None)], '72410963347311347': ['5', CallNode(function='ndarray_getitem', type_params=None, args=['-2917528559518353172', '-6006380681219437916'], kwargs=None)], '-5664258816298182988': ['235', CallNode(function='arange', type_params=None, args=['-6006380681324442841'], kwargs=None)], '5194515034620825222': ['225', CallNode(function='ndarray_add', type_params=None, args=['-5664258816298182988', '-5664258816298182988'], kwargs=None)], '8509090991658654396': ['5', CallNode(function='ndarray_getitem', type_params=None, args=['5194515034620825222', '-6006380681219437916'], kwargs=None)], '-746751358794817691': ['235', PrimitiveNode(type='ndarray', repr='[ 0  1  2  3  4  5  6  7  8  9 10 11 12 13 14 15 16 17 18 19 20 21 22 23\\n 24 25 26 27 28 29 30 31 32 33 34 35 36 37 38 39 40 41 42 43 44 45 46 47\\n 48 49 50 51 52 53 54 55 56 57 58 59 60 61 62 63 64 65 66 67 68 69 70 71\\n 72 73 74 75 76 77 78 79 80 81 82 83 84 85 86 87 88 89 90 91 92 93 94 95\\n 96 97 98 99]')], '-3625319853904116828': ['225', CallNode(function='ndarray_add', type_params=None, args=['-746751358794817691', '-746751358794817691'], kwargs=None)], '-1809694312351612805': ['5', CallNode(function='ndarray_getitem', type_params=None, args=['-3625319853904116828', '-6006380681219437916'], kwargs=None)], '-746751315216691291': ['225', PrimitiveNode(type='ndarray', repr='[  0   2   4   6   8  10  12  14  16  18  20  22  24  26  28  30  32  34\\n  36  38  40  42  44  46  48  50  52  54  56  58  60  62  64  66  68  70\\n  72  74  76  78  80  82  84  86  88  90  92  94  96  98 100 102 104 106\\n 108 110 112 114 116 118 120 122 124 126 128 130 132 134 136 138 140 142\\n 144 146 148 150 152 154 156 158 160 162 164 166 168 170 172 174 176 178\\n 180 182 184 186 188 190 192 194 196 198]')], '1002149946972875229': ['5', CallNode(function='ndarray_getitem', type_params=None, args=['-746751315216691291', '-6006380681219437916'], kwargs=None)], '-746751751344363291': ['5', PrimitiveNode(type='ndarray', repr='10')]}, states=States(initial='-4907493983724134701', states=[State(node='-2319617528498365451', rule='metadsl_core.numpy.NDArrayCompat.__getitem__', label=None), State(node='-3559938788049613326', rule='metadsl_core.either.convert_to_either', label=None), State(node='-463088303001397421', rule='metadsl_core.integer.convert_integer', label=None), State(node='-5575582935218525837', rule='metadsl_core.numpy.arange', label=None), State(node='-5840766389335805192', rule='metadsl_core.integer.convert_integer', label=None), State(node='-6699756101969619640', rule='metadsl_core.abstraction.Abstraction.from_fn', label=None), State(node='2109500761193126057', rule='metadsl_core.abstraction.Abstraction.from_fn', label=None), State(node='-3770638885822857985', rule='metadsl_core.abstraction.Abstraction.from_fn', label=None), State(node='4274714576045296804', rule='metadsl_core.abstraction.Abstraction.from_fn', label=None), State(node='-8309120336368886352', rule='metadsl_core.maybe.Maybe.map', label=None), State(node='-642731632293204927', rule='metadsl_core.maybe.Maybe.map', label=None), State(node='3870749702378095815', rule='metadsl_core.maybe.Maybe.map', label=None), State(node='5649999650726369616', rule='metadsl_core.maybe.maybe_match', label=None), State(node='2865533831422060648', rule='metadsl_core.maybe.Maybe.map', label=None), State(node='8257191359522430535', rule='metadsl_core.maybe.maybe_match', label=None), State(node='-3703220033579508953', rule='metadsl_core.abstraction.Abstraction.from_fn', label=None), State(node='-8884546590919559931', rule='metadsl_core.abstraction.Abstraction.from_fn', label=None), State(node='8266943505289673192', rule='metadsl_core.abstraction.compose', label=None), State(node='7781857735481931074', rule='metadsl_core.abstraction.compose', label=None), State(node='-4917515354218650496', rule='metadsl_core.abstraction.compose', label=None), State(node='-3683823410489128412', rule='metadsl_core.abstraction.beta_reduce', label=None), State(node='-1408805913664019118', rule='metadsl_core.maybe.maybe_or', label=None), State(node='3793105296149449375', rule='metadsl_core.abstraction.compose', label=None), State(node='9141249351052721414', rule='metadsl_core.abstraction.beta_reduce', label=None), State(node='3679161464505500053', rule='metadsl_core.numpy.add_compat', label=None), State(node='-6183860078398997297', rule='metadsl_core.numpy.convert_to_ndarray', label=None), State(node='6188744062743729739', rule='metadsl_core.maybe.maybe_and', label=None), State(node='-1057398411627644727', rule='metadsl_core.maybe.maybe_match', label=None), State(node='-662513823307959777', rule='metadsl_core.abstraction.beta_reduce', label=None), State(node='6206152925731748759', rule='metadsl_core.pair.pair_right', label=None), State(node='-7453915959113807969', rule='metadsl_core.pair.pair_left', label=None), State(node='-7453915959113807969', rule='', label='convert'), State(node='2600299128177675893', rule='metadsl_core.numpy.box_unbox_ndarray_compat', label=None), State(node='-1870084270352621891', rule='metadsl_core.numpy_engine.unbox_ndarray_getitem', label=None), State(node='-1581393561965480632', rule='metadsl_core.numpy_engine.unbox_idxs_rule', label=None), State(node='9077255455034254440', rule='metadsl_core.numpy_engine.unbox_integer_rule', label=None), State(node='4685152014539675309', rule='metadsl_core.numpy_engine.unbox_ndarray_add', label=None), State(node='72410963347311347', rule='metadsl_core.numpy_engine.unbox_arange', label=None), State(node='8509090991658654396', rule='metadsl_core.numpy_engine.unbox_integer_rule', label=None), State(node='8509090991658654396', rule='', label='unbox'), State(node='-1809694312351612805', rule='metadsl_core.numpy_engine.arange', label=None), State(node='1002149946972875229', rule='metadsl_core.numpy_engine.ndarray_add', label=None), State(node='-746751751344363291', rule='metadsl_core.numpy_engine.ndarray_getitem', label=None), State(node='-746751751344363291', rule='', label='execute')]))"
      ]
     },
     "metadata": {},
     "output_type": "display_data"
    },
    {
     "data": {
      "text/plain": [
       "array(10)"
      ]
     },
     "metadata": {},
     "output_type": "display_data"
    }
   ],
   "source": [
    "N = 100\n",
    "expr = (arange(N) + arange(N))[5].to_ndarray()\n",
    "expr"
   ]
  },
  {
   "cell_type": "markdown",
   "metadata": {},
   "source": [
    "Now, we can add an optimization replacement, so that we do the getitem before adding the two expressions:"
   ]
  },
  {
   "cell_type": "code",
   "execution_count": 7,
   "metadata": {},
   "outputs": [],
   "source": [
    "@register_optimize\n",
    "@rule\n",
    "def optimize_getitem_add(l: NDArray, r: NDArray, idx: IndxType) -> R[NDArray]:\n",
    "    return (\n",
    "        # expression to match against\n",
    "        (l + r)[idx],\n",
    "        # expression to replace it with\n",
    "        l[idx] + r[idx]\n",
    "    )"
   ]
  },
  {
   "cell_type": "markdown",
   "metadata": {},
   "source": [
    "Now, when we look at the execution steps, we see that it is doing each getitem before adding, which should be more efficient:"
   ]
  },
  {
   "cell_type": "code",
   "execution_count": 8,
   "metadata": {},
   "outputs": [
    {
     "data": {
      "application/x.typez+json": {
       "nodes": {
        "-1827217823156436851": [
         "19",
         {
          "args": [
           "7476356222416889263"
          ],
          "function": "Abstraction.from_fn"
         }
        ],
        "-1832517680491031858": [
         "13",
         {
          "repr": "<function NDArrayCompat.__getitem__.<locals>.<lambda> at 0x1178c5a60>",
          "type": "function"
         }
        ],
        "-229788817828368262": [
         "12",
         {
          "args": [
           "1768451678476953200",
           "6820439686346850893"
          ],
          "function": "Maybe.__and__",
          "type_params": {
           "T": {
            "type": "NDArray"
           }
          }
         }
        ],
        "-2642428384510993722": [
         "31",
         {
          "args": [
           "6599955193481781126",
           "-7605111911380996177"
          ],
          "function": "Maybe.map",
          "type_params": {
           "T": {
            "type": "Integer"
           }
          }
         }
        ],
        "-3238359975892513989": [
         "4",
         {
          "args": [
           "-3305062326102256645"
          ],
          "function": "NDArrayCompat.from_ndarray"
         }
        ],
        "-3305062326102256645": [
         "15",
         {
          "args": [
           "-6898813609126467610",
           "-5624602393836466635"
          ],
          "function": "Maybe.map",
          "type_params": {
           "T": {
            "params": {
             "T": {
              "type": "NDArray"
             },
             "U": {
              "params": {
               "T": {
                "type": "Integer"
               },
               "U": {
                "params": {
                 "T": {
                  "type": "Integer"
                 }
                },
                "type": "Vec"
               }
              },
              "type": "Either"
             }
            },
            "type": "Pair"
           }
          }
         }
        ],
        "-3696687176312099161": [
         "5",
         {
          "args": [
           "7491852247771629307"
          ],
          "function": "NDArrayCompat.to_ndarray"
         }
        ],
        "-3851797404979949249": [
         "28",
         {
          "args": [
           "3864996844580924190"
          ],
          "function": "Maybe.just"
         }
        ],
        "-413479252060675646": [
         "7",
         {
          "args": [
           "7389996727730567975"
          ],
          "function": "arange"
         }
        ],
        "-4216181913628174564": [
         "4",
         {
          "args": [
           "8628771542974305"
          ],
          "function": "NDArrayCompat.from_ndarray"
         }
        ],
        "-4362328496569185312": [
         "11",
         {
          "args": [
           "7389996727835572900"
          ],
          "function": "Converter.convert",
          "type_params": {
           "T": {
            "params": {
             "T": {
              "type": "Integer"
             },
             "U": {
              "params": {
               "T": {
                "type": "Integer"
               }
              },
              "type": "Vec"
             }
            },
            "type": "Either"
           }
          }
         }
        ],
        "-5201084084172587173": [
         "15",
         {
          "args": [
           "5918583911007421762",
           "-5624602393836466635"
          ],
          "function": "Maybe.map",
          "type_params": {
           "T": {
            "params": {
             "T": {
              "type": "NDArray"
             },
             "U": {
              "params": {
               "T": {
                "type": "Integer"
               },
               "U": {
                "params": {
                 "T": {
                  "type": "Integer"
                 }
                },
                "type": "Vec"
               }
              },
              "type": "Either"
             }
            },
            "type": "Pair"
           }
          }
         }
        ],
        "-5224715452200691213": [
         "5",
         {
          "args": [
           "-3238359975892513989"
          ],
          "function": "NDArrayCompat.to_ndarray"
         }
        ],
        "-5305859151552806603": [
         "11",
         {
          "args": [
           "-8718725701334017582",
           "4809526319858184292"
          ],
          "function": "Maybe.__or__",
          "type_params": {
           "T": {
            "params": {
             "T": {
              "type": "Integer"
             },
             "U": {
              "params": {
               "T": {
                "type": "Integer"
               }
              },
              "type": "Vec"
             }
            },
            "type": "Either"
           }
          }
         }
        ],
        "-5513958925783040194": [
         "9",
         {
          "args": [
           "733488207619754122"
          ],
          "function": "Converter.convert",
          "type_params": {
           "T": {
            "type": "NDArray"
           }
          }
         }
        ],
        "-5624602393836466635": [
         "14",
         {
          "args": [
           "-1832517680491031858"
          ],
          "function": "Abstraction.from_fn",
          "type_params": {
           "T": {
            "params": {
             "T": {
              "type": "NDArray"
             },
             "U": {
              "params": {
               "T": {
                "type": "Integer"
               },
               "U": {
                "params": {
                 "T": {
                  "type": "Integer"
                 }
                },
                "type": "Vec"
               }
              },
              "type": "Either"
             }
            },
            "type": "Pair"
           },
           "U": {
            "type": "NDArray"
           }
          }
         }
        ],
        "-6049250387652173137": [
         "5",
         {
          "args": [
           "5610866722625119716"
          ],
          "function": "NDArrayCompat.to_ndarray"
         }
        ],
        "-6477796972997726603": [
         "17",
         {
          "args": [
           "-6835731452181285361"
          ],
          "function": "Maybe.just"
         }
        ],
        "-6528896986329084548": [
         "21",
         {
          "args": [
           "7389996727835572900"
          ],
          "function": "Converter.convert",
          "type_params": {
           "T": {
            "params": {
             "T": {
              "type": "Integer"
             }
            },
            "type": "Vec"
           }
          }
         }
        ],
        "-6835731452181285361": [
         "26",
         {
          "args": [
           "7389996727835572900"
          ],
          "function": "Integer.from_int"
         }
        ],
        "-6898813609126467610": [
         "12",
         {
          "args": [
           "-5513958925783040194",
           "-4362328496569185312"
          ],
          "function": "Maybe.__and__",
          "type_params": {
           "T": {
            "type": "NDArray"
           }
          }
         }
        ],
        "-7605111911380996177": [
         "30",
         {
          "args": [
           "-7963575565984054101"
          ],
          "function": "Abstraction.from_fn"
         }
        ],
        "-7701873885373101274": [
         "5",
         {
          "args": [
           "-4216181913628174564"
          ],
          "function": "NDArrayCompat.to_ndarray"
         }
        ],
        "-79505059901803467": [
         "12",
         {
          "args": [
           "6826984819604257049",
           "6820439686346850893"
          ],
          "function": "Maybe.__and__",
          "type_params": {
           "T": {
            "type": "NDArray"
           }
          }
         }
        ],
        "-7963575565984054101": [
         "29",
         {
          "repr": "arange_",
          "type": "Infer"
         }
        ],
        "-8718725701334017582": [
         "20",
         {
          "args": [
           "1285411996862869511",
           "-1827217823156436851"
          ],
          "function": "Maybe.map",
          "type_params": {
           "T": {
            "type": "Integer"
           }
          }
         }
        ],
        "-8808036002268108249": [
         "15",
         {
          "args": [
           "6025253264526591254",
           "-5624602393836466635"
          ],
          "function": "Maybe.map",
          "type_params": {
           "T": {
            "params": {
             "T": {
              "type": "NDArray"
             },
             "U": {
              "params": {
               "T": {
                "type": "Integer"
               },
               "U": {
                "params": {
                 "T": {
                  "type": "Integer"
                 }
                },
                "type": "Vec"
               }
              },
              "type": "Either"
             }
            },
            "type": "Pair"
           }
          }
         }
        ],
        "-8906414407874426921": [
         "5",
         {
          "args": [
           "2343634891371020141"
          ],
          "function": "NDArrayCompat.to_ndarray"
         }
        ],
        "1285411996862869511": [
         "17",
         {
          "args": [
           "7389996727835572900"
          ],
          "function": "Converter.convert",
          "type_params": {
           "T": {
            "type": "Integer"
           }
          }
         }
        ],
        "1768451678476953200": [
         "9",
         {
          "args": [
           "5448386493881996042"
          ],
          "function": "Converter.convert",
          "type_params": {
           "T": {
            "type": "NDArray"
           }
          }
         }
        ],
        "2316514055479206262": [
         "20",
         {
          "args": [
           "-6477796972997726603",
           "-1827217823156436851"
          ],
          "function": "Maybe.map",
          "type_params": {
           "T": {
            "type": "Integer"
           }
          }
         }
        ],
        "2343634891371020141": [
         "4",
         {
          "args": [
           "-8808036002268108249"
          ],
          "function": "NDArrayCompat.from_ndarray"
         }
        ],
        "3864996844580924190": [
         "33",
         {
          "args": [
           "7389996727730567975"
          ],
          "function": "Integer.from_int"
         }
        ],
        "3952127203154401306": [
         "22",
         {
          "repr": "Either.right",
          "type": "BoundInfer"
         }
        ],
        "4084860619863335824": [
         "23",
         {
          "args": [
           "3952127203154401306"
          ],
          "function": "Abstraction.from_fn"
         }
        ],
        "4809526319858184292": [
         "24",
         {
          "args": [
           "-6528896986329084548",
           "4084860619863335824"
          ],
          "function": "Maybe.map",
          "type_params": {
           "T": {
            "params": {
             "T": {
              "type": "Integer"
             }
            },
            "type": "Vec"
           }
          }
         }
        ],
        "5448386493881996042": [
         "8",
         {
          "args": [
           "6155972782134027120",
           "6155972782134027120"
          ],
          "function": "NDArrayCompat.__add__"
         }
        ],
        "5610866722625119716": [
         "4",
         {
          "args": [
           "-5201084084172587173"
          ],
          "function": "NDArrayCompat.from_ndarray"
         }
        ],
        "581323246639478712": [
         "31",
         {
          "args": [
           "-3851797404979949249",
           "-7605111911380996177"
          ],
          "function": "Maybe.map",
          "type_params": {
           "T": {
            "type": "Integer"
           }
          }
         }
        ],
        "5918583911007421762": [
         "12",
         {
          "args": [
           "-5513958925783040194",
           "-5305859151552806603"
          ],
          "function": "Maybe.__and__",
          "type_params": {
           "T": {
            "type": "NDArray"
           }
          }
         }
        ],
        "6025253264526591254": [
         "12",
         {
          "args": [
           "-5513958925783040194",
           "6820439686346850893"
          ],
          "function": "Maybe.__and__",
          "type_params": {
           "T": {
            "type": "NDArray"
           }
          }
         }
        ],
        "6155972782134027120": [
         "7",
         {
          "args": [
           "-2642428384510993722"
          ],
          "function": "NDArrayCompat.from_ndarray"
         }
        ],
        "648574240234653754": [
         "15",
         {
          "args": [
           "-79505059901803467",
           "-5624602393836466635"
          ],
          "function": "Maybe.map",
          "type_params": {
           "T": {
            "params": {
             "T": {
              "type": "NDArray"
             },
             "U": {
              "params": {
               "T": {
                "type": "Integer"
               },
               "U": {
                "params": {
                 "T": {
                  "type": "Integer"
                 }
                },
                "type": "Vec"
               }
              },
              "type": "Either"
             }
            },
            "type": "Pair"
           }
          }
         }
        ],
        "6599955193481781126": [
         "28",
         {
          "args": [
           "7389996727730567975"
          ],
          "function": "Converter.convert",
          "type_params": {
           "T": {
            "type": "Integer"
           }
          }
         }
        ],
        "6820439686346850893": [
         "11",
         {
          "args": [
           "2316514055479206262",
           "4809526319858184292"
          ],
          "function": "Maybe.__or__",
          "type_params": {
           "T": {
            "params": {
             "T": {
              "type": "Integer"
             },
             "U": {
              "params": {
               "T": {
                "type": "Integer"
               }
              },
              "type": "Vec"
             }
            },
            "type": "Either"
           }
          }
         }
        ],
        "6826984819604257049": [
         "9",
         {
          "args": [
           "9150897915988383230"
          ],
          "function": "Converter.convert",
          "type_params": {
           "T": {
            "type": "NDArray"
           }
          }
         }
        ],
        "733488207619754122": [
         "8",
         {
          "args": [
           "-413479252060675646",
           "-413479252060675646"
          ],
          "function": "NDArrayCompat.__add__"
         }
        ],
        "7389996727730567975": [
         "32",
         {
          "repr": "100",
          "type": "int"
         }
        ],
        "7389996727835572900": [
         "25",
         {
          "repr": "5",
          "type": "int"
         }
        ],
        "7476356222416889263": [
         "18",
         {
          "repr": "Either.left",
          "type": "BoundInfer"
         }
        ],
        "7491852247771629307": [
         "4",
         {
          "args": [
           "648574240234653754"
          ],
          "function": "NDArrayCompat.from_ndarray"
         }
        ],
        "7988102916881695617": [
         "7",
         {
          "args": [
           "581323246639478712"
          ],
          "function": "NDArrayCompat.from_ndarray"
         }
        ],
        "8628771542974305": [
         "15",
         {
          "args": [
           "-229788817828368262",
           "-5624602393836466635"
          ],
          "function": "Maybe.map",
          "type_params": {
           "T": {
            "params": {
             "T": {
              "type": "NDArray"
             },
             "U": {
              "params": {
               "T": {
                "type": "Integer"
               },
               "U": {
                "params": {
                 "T": {
                  "type": "Integer"
                 }
                },
                "type": "Vec"
               }
              },
              "type": "Either"
             }
            },
            "type": "Pair"
           }
          }
         }
        ],
        "9150897915988383230": [
         "8",
         {
          "args": [
           "7988102916881695617",
           "7988102916881695617"
          ],
          "function": "NDArrayCompat.__add__"
         }
        ],
        "9164808068233093317": [
         "5",
         {
          "args": [
           "939638188172311092"
          ],
          "function": "NDArrayCompat.to_ndarray"
         }
        ],
        "939638188172311092": [
         "4",
         {
          "args": [
           "733488207619754122",
           "7389996727835572900"
          ],
          "function": "NDArrayCompat.__getitem__"
         }
        ]
       },
       "states": {
        "initial": "9164808068233093317",
        "states": [
         {
          "node": "-5224715452200691213",
          "rule": "metadsl_core.numpy.NDArrayCompat.__getitem__"
         },
         {
          "node": "-6049250387652173137",
          "rule": "metadsl_core.either.convert_to_either"
         },
         {
          "node": "-8906414407874426921",
          "rule": "metadsl_core.integer.convert_integer"
         },
         {
          "node": "-7701873885373101274",
          "rule": "metadsl_core.numpy.arange"
         },
         {
          "node": "-3696687176312099161",
          "rule": "metadsl_core.integer.convert_integer"
         }
        ]
       }
      },
      "text/plain": [
       "Typez(definitions=None, nodes={'7389996727730567975': ['32', PrimitiveNode(type='int', repr='100')], '-413479252060675646': ['7', CallNode(function='arange', type_params=None, args=['7389996727730567975'], kwargs=None)], '733488207619754122': ['8', CallNode(function='NDArrayCompat.__add__', type_params=None, args=['-413479252060675646', '-413479252060675646'], kwargs=None)], '7389996727835572900': ['25', PrimitiveNode(type='int', repr='5')], '939638188172311092': ['4', CallNode(function='NDArrayCompat.__getitem__', type_params=None, args=['733488207619754122', '7389996727835572900'], kwargs=None)], '9164808068233093317': ['5', CallNode(function='NDArrayCompat.to_ndarray', type_params=None, args=['939638188172311092'], kwargs=None)], '-5513958925783040194': ['9', CallNode(function='Converter.convert', type_params={'T': DeclaredTypeInstance(type='NDArray', params=None)}, args=['733488207619754122'], kwargs=None)], '-4362328496569185312': ['11', CallNode(function='Converter.convert', type_params={'T': DeclaredTypeInstance(type='Either', params={'U': DeclaredTypeInstance(type='Vec', params={'T': DeclaredTypeInstance(type='Integer', params=None)}), 'T': DeclaredTypeInstance(type='Integer', params=None)})}, args=['7389996727835572900'], kwargs=None)], '-6898813609126467610': ['12', CallNode(function='Maybe.__and__', type_params={'T': DeclaredTypeInstance(type='NDArray', params=None)}, args=['-5513958925783040194', '-4362328496569185312'], kwargs=None)], '-1832517680491031858': ['13', PrimitiveNode(type='function', repr='<function NDArrayCompat.__getitem__.<locals>.<lambda> at 0x1178c5a60>')], '-5624602393836466635': ['14', CallNode(function='Abstraction.from_fn', type_params={'U': DeclaredTypeInstance(type='NDArray', params=None), 'T': DeclaredTypeInstance(type='Pair', params={'U': DeclaredTypeInstance(type='Either', params={'U': DeclaredTypeInstance(type='Vec', params={'T': DeclaredTypeInstance(type='Integer', params=None)}), 'T': DeclaredTypeInstance(type='Integer', params=None)}), 'T': DeclaredTypeInstance(type='NDArray', params=None)})}, args=['-1832517680491031858'], kwargs=None)], '-3305062326102256645': ['15', CallNode(function='Maybe.map', type_params={'T': DeclaredTypeInstance(type='Pair', params={'U': DeclaredTypeInstance(type='Either', params={'U': DeclaredTypeInstance(type='Vec', params={'T': DeclaredTypeInstance(type='Integer', params=None)}), 'T': DeclaredTypeInstance(type='Integer', params=None)}), 'T': DeclaredTypeInstance(type='NDArray', params=None)})}, args=['-6898813609126467610', '-5624602393836466635'], kwargs=None)], '-3238359975892513989': ['4', CallNode(function='NDArrayCompat.from_ndarray', type_params=None, args=['-3305062326102256645'], kwargs=None)], '-5224715452200691213': ['5', CallNode(function='NDArrayCompat.to_ndarray', type_params=None, args=['-3238359975892513989'], kwargs=None)], '1285411996862869511': ['17', CallNode(function='Converter.convert', type_params={'T': DeclaredTypeInstance(type='Integer', params=None)}, args=['7389996727835572900'], kwargs=None)], '7476356222416889263': ['18', PrimitiveNode(type='BoundInfer', repr='Either.left')], '-1827217823156436851': ['19', CallNode(function='Abstraction.from_fn', type_params=None, args=['7476356222416889263'], kwargs=None)], '-8718725701334017582': ['20', CallNode(function='Maybe.map', type_params={'T': DeclaredTypeInstance(type='Integer', params=None)}, args=['1285411996862869511', '-1827217823156436851'], kwargs=None)], '-6528896986329084548': ['21', CallNode(function='Converter.convert', type_params={'T': DeclaredTypeInstance(type='Vec', params={'T': DeclaredTypeInstance(type='Integer', params=None)})}, args=['7389996727835572900'], kwargs=None)], '3952127203154401306': ['22', PrimitiveNode(type='BoundInfer', repr='Either.right')], '4084860619863335824': ['23', CallNode(function='Abstraction.from_fn', type_params=None, args=['3952127203154401306'], kwargs=None)], '4809526319858184292': ['24', CallNode(function='Maybe.map', type_params={'T': DeclaredTypeInstance(type='Vec', params={'T': DeclaredTypeInstance(type='Integer', params=None)})}, args=['-6528896986329084548', '4084860619863335824'], kwargs=None)], '-5305859151552806603': ['11', CallNode(function='Maybe.__or__', type_params={'T': DeclaredTypeInstance(type='Either', params={'U': DeclaredTypeInstance(type='Vec', params={'T': DeclaredTypeInstance(type='Integer', params=None)}), 'T': DeclaredTypeInstance(type='Integer', params=None)})}, args=['-8718725701334017582', '4809526319858184292'], kwargs=None)], '5918583911007421762': ['12', CallNode(function='Maybe.__and__', type_params={'T': DeclaredTypeInstance(type='NDArray', params=None)}, args=['-5513958925783040194', '-5305859151552806603'], kwargs=None)], '-5201084084172587173': ['15', CallNode(function='Maybe.map', type_params={'T': DeclaredTypeInstance(type='Pair', params={'U': DeclaredTypeInstance(type='Either', params={'U': DeclaredTypeInstance(type='Vec', params={'T': DeclaredTypeInstance(type='Integer', params=None)}), 'T': DeclaredTypeInstance(type='Integer', params=None)}), 'T': DeclaredTypeInstance(type='NDArray', params=None)})}, args=['5918583911007421762', '-5624602393836466635'], kwargs=None)], '5610866722625119716': ['4', CallNode(function='NDArrayCompat.from_ndarray', type_params=None, args=['-5201084084172587173'], kwargs=None)], '-6049250387652173137': ['5', CallNode(function='NDArrayCompat.to_ndarray', type_params=None, args=['5610866722625119716'], kwargs=None)], '-6835731452181285361': ['26', CallNode(function='Integer.from_int', type_params=None, args=['7389996727835572900'], kwargs=None)], '-6477796972997726603': ['17', CallNode(function='Maybe.just', type_params=None, args=['-6835731452181285361'], kwargs=None)], '2316514055479206262': ['20', CallNode(function='Maybe.map', type_params={'T': DeclaredTypeInstance(type='Integer', params=None)}, args=['-6477796972997726603', '-1827217823156436851'], kwargs=None)], '6820439686346850893': ['11', CallNode(function='Maybe.__or__', type_params={'T': DeclaredTypeInstance(type='Either', params={'U': DeclaredTypeInstance(type='Vec', params={'T': DeclaredTypeInstance(type='Integer', params=None)}), 'T': DeclaredTypeInstance(type='Integer', params=None)})}, args=['2316514055479206262', '4809526319858184292'], kwargs=None)], '6025253264526591254': ['12', CallNode(function='Maybe.__and__', type_params={'T': DeclaredTypeInstance(type='NDArray', params=None)}, args=['-5513958925783040194', '6820439686346850893'], kwargs=None)], '-8808036002268108249': ['15', CallNode(function='Maybe.map', type_params={'T': DeclaredTypeInstance(type='Pair', params={'U': DeclaredTypeInstance(type='Either', params={'U': DeclaredTypeInstance(type='Vec', params={'T': DeclaredTypeInstance(type='Integer', params=None)}), 'T': DeclaredTypeInstance(type='Integer', params=None)}), 'T': DeclaredTypeInstance(type='NDArray', params=None)})}, args=['6025253264526591254', '-5624602393836466635'], kwargs=None)], '2343634891371020141': ['4', CallNode(function='NDArrayCompat.from_ndarray', type_params=None, args=['-8808036002268108249'], kwargs=None)], '-8906414407874426921': ['5', CallNode(function='NDArrayCompat.to_ndarray', type_params=None, args=['2343634891371020141'], kwargs=None)], '6599955193481781126': ['28', CallNode(function='Converter.convert', type_params={'T': DeclaredTypeInstance(type='Integer', params=None)}, args=['7389996727730567975'], kwargs=None)], '-7963575565984054101': ['29', PrimitiveNode(type='Infer', repr='arange_')], '-7605111911380996177': ['30', CallNode(function='Abstraction.from_fn', type_params=None, args=['-7963575565984054101'], kwargs=None)], '-2642428384510993722': ['31', CallNode(function='Maybe.map', type_params={'T': DeclaredTypeInstance(type='Integer', params=None)}, args=['6599955193481781126', '-7605111911380996177'], kwargs=None)], '6155972782134027120': ['7', CallNode(function='NDArrayCompat.from_ndarray', type_params=None, args=['-2642428384510993722'], kwargs=None)], '5448386493881996042': ['8', CallNode(function='NDArrayCompat.__add__', type_params=None, args=['6155972782134027120', '6155972782134027120'], kwargs=None)], '1768451678476953200': ['9', CallNode(function='Converter.convert', type_params={'T': DeclaredTypeInstance(type='NDArray', params=None)}, args=['5448386493881996042'], kwargs=None)], '-229788817828368262': ['12', CallNode(function='Maybe.__and__', type_params={'T': DeclaredTypeInstance(type='NDArray', params=None)}, args=['1768451678476953200', '6820439686346850893'], kwargs=None)], '8628771542974305': ['15', CallNode(function='Maybe.map', type_params={'T': DeclaredTypeInstance(type='Pair', params={'U': DeclaredTypeInstance(type='Either', params={'U': DeclaredTypeInstance(type='Vec', params={'T': DeclaredTypeInstance(type='Integer', params=None)}), 'T': DeclaredTypeInstance(type='Integer', params=None)}), 'T': DeclaredTypeInstance(type='NDArray', params=None)})}, args=['-229788817828368262', '-5624602393836466635'], kwargs=None)], '-4216181913628174564': ['4', CallNode(function='NDArrayCompat.from_ndarray', type_params=None, args=['8628771542974305'], kwargs=None)], '-7701873885373101274': ['5', CallNode(function='NDArrayCompat.to_ndarray', type_params=None, args=['-4216181913628174564'], kwargs=None)], '3864996844580924190': ['33', CallNode(function='Integer.from_int', type_params=None, args=['7389996727730567975'], kwargs=None)], '-3851797404979949249': ['28', CallNode(function='Maybe.just', type_params=None, args=['3864996844580924190'], kwargs=None)], '581323246639478712': ['31', CallNode(function='Maybe.map', type_params={'T': DeclaredTypeInstance(type='Integer', params=None)}, args=['-3851797404979949249', '-7605111911380996177'], kwargs=None)], '7988102916881695617': ['7', CallNode(function='NDArrayCompat.from_ndarray', type_params=None, args=['581323246639478712'], kwargs=None)], '9150897915988383230': ['8', CallNode(function='NDArrayCompat.__add__', type_params=None, args=['7988102916881695617', '7988102916881695617'], kwargs=None)], '6826984819604257049': ['9', CallNode(function='Converter.convert', type_params={'T': DeclaredTypeInstance(type='NDArray', params=None)}, args=['9150897915988383230'], kwargs=None)], '-79505059901803467': ['12', CallNode(function='Maybe.__and__', type_params={'T': DeclaredTypeInstance(type='NDArray', params=None)}, args=['6826984819604257049', '6820439686346850893'], kwargs=None)], '648574240234653754': ['15', CallNode(function='Maybe.map', type_params={'T': DeclaredTypeInstance(type='Pair', params={'U': DeclaredTypeInstance(type='Either', params={'U': DeclaredTypeInstance(type='Vec', params={'T': DeclaredTypeInstance(type='Integer', params=None)}), 'T': DeclaredTypeInstance(type='Integer', params=None)}), 'T': DeclaredTypeInstance(type='NDArray', params=None)})}, args=['-79505059901803467', '-5624602393836466635'], kwargs=None)], '7491852247771629307': ['4', CallNode(function='NDArrayCompat.from_ndarray', type_params=None, args=['648574240234653754'], kwargs=None)], '-3696687176312099161': ['5', CallNode(function='NDArrayCompat.to_ndarray', type_params=None, args=['7491852247771629307'], kwargs=None)]}, states=States(initial='9164808068233093317', states=[State(node='-5224715452200691213', rule='metadsl_core.numpy.NDArrayCompat.__getitem__', label=None), State(node='-6049250387652173137', rule='metadsl_core.either.convert_to_either', label=None), State(node='-8906414407874426921', rule='metadsl_core.integer.convert_integer', label=None), State(node='-7701873885373101274', rule='metadsl_core.numpy.arange', label=None), State(node='-3696687176312099161', rule='metadsl_core.integer.convert_integer', label=None)]))"
      ]
     },
     "metadata": {},
     "output_type": "display_data"
    },
    {
     "ename": "TypeError",
     "evalue": "'PlaceholderExpression' object is not subscriptable",
     "output_type": "error",
     "traceback": [
      "\u001b[0;31m---------------------------------------------------------------------------\u001b[0m",
      "\u001b[0;31mTypeError\u001b[0m                                 Traceback (most recent call last)",
      "\u001b[0;32m/usr/local/miniconda3/envs/metadsl/lib/python3.7/site-packages/IPython/core/formatters.py\u001b[0m in \u001b[0;36m__call__\u001b[0;34m(self, obj)\u001b[0m\n\u001b[1;32m    916\u001b[0m             \u001b[0mmethod\u001b[0m \u001b[0;34m=\u001b[0m \u001b[0mget_real_method\u001b[0m\u001b[0;34m(\u001b[0m\u001b[0mobj\u001b[0m\u001b[0;34m,\u001b[0m \u001b[0mself\u001b[0m\u001b[0;34m.\u001b[0m\u001b[0mprint_method\u001b[0m\u001b[0;34m)\u001b[0m\u001b[0;34m\u001b[0m\u001b[0;34m\u001b[0m\u001b[0m\n\u001b[1;32m    917\u001b[0m             \u001b[0;32mif\u001b[0m \u001b[0mmethod\u001b[0m \u001b[0;32mis\u001b[0m \u001b[0;32mnot\u001b[0m \u001b[0;32mNone\u001b[0m\u001b[0;34m:\u001b[0m\u001b[0;34m\u001b[0m\u001b[0;34m\u001b[0m\u001b[0m\n\u001b[0;32m--> 918\u001b[0;31m                 \u001b[0mmethod\u001b[0m\u001b[0;34m(\u001b[0m\u001b[0;34m)\u001b[0m\u001b[0;34m\u001b[0m\u001b[0;34m\u001b[0m\u001b[0m\n\u001b[0m\u001b[1;32m    919\u001b[0m                 \u001b[0;32mreturn\u001b[0m \u001b[0;32mTrue\u001b[0m\u001b[0;34m\u001b[0m\u001b[0;34m\u001b[0m\u001b[0m\n\u001b[1;32m    920\u001b[0m \u001b[0;34m\u001b[0m\u001b[0m\n",
      "\u001b[0;32m~/p/metadsl/metadsl_visualize/visualize.py\u001b[0m in \u001b[0;36m_expression_ipython_display\u001b[0;34m(self)\u001b[0m\n\u001b[1;32m     35\u001b[0m \u001b[0;34m\u001b[0m\u001b[0m\n\u001b[1;32m     36\u001b[0m \u001b[0;32mdef\u001b[0m \u001b[0m_expression_ipython_display\u001b[0m\u001b[0;34m(\u001b[0m\u001b[0mself\u001b[0m\u001b[0;34m)\u001b[0m\u001b[0;34m:\u001b[0m\u001b[0;34m\u001b[0m\u001b[0;34m\u001b[0m\u001b[0m\n\u001b[0;32m---> 37\u001b[0;31m     \u001b[0mres\u001b[0m \u001b[0;34m=\u001b[0m \u001b[0mexecute\u001b[0m\u001b[0;34m(\u001b[0m\u001b[0mself\u001b[0m\u001b[0;34m)\u001b[0m\u001b[0;34m\u001b[0m\u001b[0;34m\u001b[0m\u001b[0m\n\u001b[0m\u001b[1;32m     38\u001b[0m     \u001b[0;31m# Only display result if we get back a non expression object\u001b[0m\u001b[0;34m\u001b[0m\u001b[0;34m\u001b[0m\u001b[0;34m\u001b[0m\u001b[0m\n\u001b[1;32m     39\u001b[0m     \u001b[0;32mif\u001b[0m \u001b[0;32mnot\u001b[0m \u001b[0misinstance\u001b[0m\u001b[0;34m(\u001b[0m\u001b[0mres\u001b[0m\u001b[0;34m,\u001b[0m \u001b[0mExpression\u001b[0m\u001b[0;34m)\u001b[0m\u001b[0;34m:\u001b[0m\u001b[0;34m\u001b[0m\u001b[0;34m\u001b[0m\u001b[0m\n",
      "\u001b[0;32m~/p/metadsl/metadsl/rules.py\u001b[0m in \u001b[0;36m__call__\u001b[0;34m(self, expr, rule)\u001b[0m\n\u001b[1;32m     65\u001b[0m             \u001b[0mT\u001b[0m\u001b[0;34m,\u001b[0m\u001b[0;34m\u001b[0m\u001b[0;34m\u001b[0m\u001b[0m\n\u001b[1;32m     66\u001b[0m             execute(\n\u001b[0;32m---> 67\u001b[0;31m                 \u001b[0mExpressionReference\u001b[0m\u001b[0;34m.\u001b[0m\u001b[0mfrom_expression\u001b[0m\u001b[0;34m(\u001b[0m\u001b[0mExpressionFolder\u001b[0m\u001b[0;34m(\u001b[0m\u001b[0;34m)\u001b[0m\u001b[0;34m(\u001b[0m\u001b[0mexpr\u001b[0m\u001b[0;34m)\u001b[0m\u001b[0;34m)\u001b[0m\u001b[0;34m,\u001b[0m \u001b[0mrule\u001b[0m\u001b[0;34m\u001b[0m\u001b[0;34m\u001b[0m\u001b[0m\n\u001b[0m\u001b[1;32m     68\u001b[0m             ),\n\u001b[1;32m     69\u001b[0m         )\n",
      "\u001b[0;32m~/p/metadsl/metadsl_visualize/visualize.py\u001b[0m in \u001b[0;36mexecute_and_visualize\u001b[0;34m(ref, rule)\u001b[0m\n\u001b[1;32m     19\u001b[0m     \u001b[0mIPython\u001b[0m\u001b[0;34m.\u001b[0m\u001b[0mcore\u001b[0m\u001b[0;34m.\u001b[0m\u001b[0mdisplay\u001b[0m\u001b[0;34m.\u001b[0m\u001b[0mdisplay\u001b[0m\u001b[0;34m(\u001b[0m\u001b[0mexpression_display\u001b[0m\u001b[0;34m)\u001b[0m\u001b[0;34m\u001b[0m\u001b[0;34m\u001b[0m\u001b[0m\n\u001b[1;32m     20\u001b[0m     \u001b[0;31m# Update the typez display as we execute the rules\u001b[0m\u001b[0;34m\u001b[0m\u001b[0;34m\u001b[0m\u001b[0;34m\u001b[0m\u001b[0m\n\u001b[0;32m---> 21\u001b[0;31m     \u001b[0;32mfor\u001b[0m \u001b[0mreplacement\u001b[0m \u001b[0;32min\u001b[0m \u001b[0mrule\u001b[0m\u001b[0;34m(\u001b[0m\u001b[0mref\u001b[0m\u001b[0;34m)\u001b[0m\u001b[0;34m:\u001b[0m\u001b[0;34m\u001b[0m\u001b[0;34m\u001b[0m\u001b[0m\n\u001b[0m\u001b[1;32m     22\u001b[0m         \u001b[0mexpression_display\u001b[0m\u001b[0;34m.\u001b[0m\u001b[0mupdate\u001b[0m\u001b[0;34m(\u001b[0m\u001b[0mreplacement\u001b[0m\u001b[0;34m.\u001b[0m\u001b[0mrule\u001b[0m\u001b[0;34m,\u001b[0m \u001b[0mreplacement\u001b[0m\u001b[0;34m.\u001b[0m\u001b[0mlabel\u001b[0m\u001b[0;34m)\u001b[0m\u001b[0;34m\u001b[0m\u001b[0;34m\u001b[0m\u001b[0m\n\u001b[1;32m     23\u001b[0m     \u001b[0;32mreturn\u001b[0m \u001b[0mref\u001b[0m\u001b[0;34m.\u001b[0m\u001b[0mnormalized_expression\u001b[0m\u001b[0;34m.\u001b[0m\u001b[0mvalue\u001b[0m\u001b[0;34m\u001b[0m\u001b[0;34m\u001b[0m\u001b[0m\n",
      "\u001b[0;32m~/p/metadsl/metadsl/rules.py\u001b[0m in \u001b[0;36m__call__\u001b[0;34m(self, expr)\u001b[0m\n\u001b[1;32m    255\u001b[0m         \u001b[0;32mfor\u001b[0m \u001b[0mi\u001b[0m \u001b[0;32min\u001b[0m \u001b[0mrange\u001b[0m\u001b[0;34m(\u001b[0m\u001b[0mself\u001b[0m\u001b[0;34m.\u001b[0m\u001b[0mmax_calls\u001b[0m\u001b[0;34m)\u001b[0m\u001b[0;34m:\u001b[0m\u001b[0;34m\u001b[0m\u001b[0;34m\u001b[0m\u001b[0m\n\u001b[1;32m    256\u001b[0m             \u001b[0mreplaced\u001b[0m \u001b[0;34m=\u001b[0m \u001b[0;32mFalse\u001b[0m\u001b[0;34m\u001b[0m\u001b[0;34m\u001b[0m\u001b[0m\n\u001b[0;32m--> 257\u001b[0;31m             \u001b[0;32mfor\u001b[0m \u001b[0mreplacement\u001b[0m \u001b[0;32min\u001b[0m \u001b[0mrule\u001b[0m\u001b[0;34m(\u001b[0m\u001b[0mexpr\u001b[0m\u001b[0;34m)\u001b[0m\u001b[0;34m:\u001b[0m\u001b[0;34m\u001b[0m\u001b[0;34m\u001b[0m\u001b[0m\n\u001b[0m\u001b[1;32m    258\u001b[0m                 \u001b[0mreplaced\u001b[0m \u001b[0;34m=\u001b[0m \u001b[0;32mTrue\u001b[0m\u001b[0;34m\u001b[0m\u001b[0;34m\u001b[0m\u001b[0m\n\u001b[1;32m    259\u001b[0m                 \u001b[0;32myield\u001b[0m \u001b[0mreplacement\u001b[0m\u001b[0;34m\u001b[0m\u001b[0;34m\u001b[0m\u001b[0m\n",
      "\u001b[0;32m~/p/metadsl/metadsl/rules.py\u001b[0m in \u001b[0;36m__call__\u001b[0;34m(self, expr)\u001b[0m\n\u001b[1;32m    217\u001b[0m         \u001b[0;32mfor\u001b[0m \u001b[0mrule\u001b[0m \u001b[0;32min\u001b[0m \u001b[0mself\u001b[0m\u001b[0;34m.\u001b[0m\u001b[0mrules\u001b[0m\u001b[0;34m:\u001b[0m\u001b[0;34m\u001b[0m\u001b[0;34m\u001b[0m\u001b[0m\n\u001b[1;32m    218\u001b[0m             \u001b[0mreplacement\u001b[0m \u001b[0;34m=\u001b[0m \u001b[0;32mNone\u001b[0m\u001b[0;34m\u001b[0m\u001b[0;34m\u001b[0m\u001b[0m\n\u001b[0;32m--> 219\u001b[0;31m             \u001b[0;32mfor\u001b[0m \u001b[0mreplacement\u001b[0m \u001b[0;32min\u001b[0m \u001b[0mrule\u001b[0m\u001b[0;34m(\u001b[0m\u001b[0mexpr\u001b[0m\u001b[0;34m)\u001b[0m\u001b[0;34m:\u001b[0m\u001b[0;34m\u001b[0m\u001b[0;34m\u001b[0m\u001b[0m\n\u001b[0m\u001b[1;32m    220\u001b[0m                 \u001b[0;32myield\u001b[0m \u001b[0mreplacement\u001b[0m\u001b[0;34m\u001b[0m\u001b[0;34m\u001b[0m\u001b[0m\n\u001b[1;32m    221\u001b[0m             \u001b[0;32mif\u001b[0m \u001b[0mreplacement\u001b[0m\u001b[0;34m:\u001b[0m\u001b[0;34m\u001b[0m\u001b[0;34m\u001b[0m\u001b[0m\n",
      "\u001b[0;32m~/p/metadsl/metadsl/rules.py\u001b[0m in \u001b[0;36m__call__\u001b[0;34m(self, expr)\u001b[0m\n\u001b[1;32m    202\u001b[0m     \u001b[0;32mdef\u001b[0m \u001b[0m__call__\u001b[0m\u001b[0;34m(\u001b[0m\u001b[0mself\u001b[0m\u001b[0;34m,\u001b[0m \u001b[0mexpr\u001b[0m\u001b[0;34m:\u001b[0m \u001b[0mExpressionReference\u001b[0m\u001b[0;34m)\u001b[0m \u001b[0;34m->\u001b[0m \u001b[0mtyping\u001b[0m\u001b[0;34m.\u001b[0m\u001b[0mIterable\u001b[0m\u001b[0;34m[\u001b[0m\u001b[0mReplacement\u001b[0m\u001b[0;34m]\u001b[0m\u001b[0;34m:\u001b[0m\u001b[0;34m\u001b[0m\u001b[0;34m\u001b[0m\u001b[0m\n\u001b[1;32m    203\u001b[0m         \u001b[0;32mfor\u001b[0m \u001b[0mrule\u001b[0m \u001b[0;32min\u001b[0m \u001b[0mself\u001b[0m\u001b[0;34m.\u001b[0m\u001b[0mrules\u001b[0m\u001b[0;34m:\u001b[0m\u001b[0;34m\u001b[0m\u001b[0;34m\u001b[0m\u001b[0m\n\u001b[0;32m--> 204\u001b[0;31m             \u001b[0;32mfor\u001b[0m \u001b[0mreplacement\u001b[0m \u001b[0;32min\u001b[0m \u001b[0mrule\u001b[0m\u001b[0;34m(\u001b[0m\u001b[0mexpr\u001b[0m\u001b[0;34m)\u001b[0m\u001b[0;34m:\u001b[0m\u001b[0;34m\u001b[0m\u001b[0;34m\u001b[0m\u001b[0m\n\u001b[0m\u001b[1;32m    205\u001b[0m                 \u001b[0;32myield\u001b[0m \u001b[0mreplacement\u001b[0m\u001b[0;34m\u001b[0m\u001b[0;34m\u001b[0m\u001b[0m\n\u001b[1;32m    206\u001b[0m \u001b[0;34m\u001b[0m\u001b[0m\n",
      "\u001b[0;32m~/p/metadsl/metadsl/rules.py\u001b[0m in \u001b[0;36m__call__\u001b[0;34m(self, expr)\u001b[0m\n\u001b[1;32m     99\u001b[0m     \u001b[0;32mdef\u001b[0m \u001b[0m__call__\u001b[0m\u001b[0;34m(\u001b[0m\u001b[0mself\u001b[0m\u001b[0;34m,\u001b[0m \u001b[0mexpr\u001b[0m\u001b[0;34m:\u001b[0m \u001b[0mExpressionReference\u001b[0m\u001b[0;34m)\u001b[0m \u001b[0;34m->\u001b[0m \u001b[0mtyping\u001b[0m\u001b[0;34m.\u001b[0m\u001b[0mIterable\u001b[0m\u001b[0;34m[\u001b[0m\u001b[0mReplacement\u001b[0m\u001b[0;34m]\u001b[0m\u001b[0;34m:\u001b[0m\u001b[0;34m\u001b[0m\u001b[0;34m\u001b[0m\u001b[0m\n\u001b[1;32m    100\u001b[0m         \u001b[0mreplacement\u001b[0m \u001b[0;34m=\u001b[0m \u001b[0;32mNone\u001b[0m\u001b[0;34m\u001b[0m\u001b[0;34m\u001b[0m\u001b[0m\n\u001b[0;32m--> 101\u001b[0;31m         \u001b[0;32mfor\u001b[0m \u001b[0mreplacement\u001b[0m \u001b[0;32min\u001b[0m \u001b[0mself\u001b[0m\u001b[0;34m.\u001b[0m\u001b[0mrule\u001b[0m\u001b[0;34m(\u001b[0m\u001b[0mexpr\u001b[0m\u001b[0;34m)\u001b[0m\u001b[0;34m:\u001b[0m  \u001b[0;31m# type: ignore\u001b[0m\u001b[0;34m\u001b[0m\u001b[0;34m\u001b[0m\u001b[0m\n\u001b[0m\u001b[1;32m    102\u001b[0m             \u001b[0;32myield\u001b[0m \u001b[0mreplacement\u001b[0m\u001b[0;34m\u001b[0m\u001b[0;34m\u001b[0m\u001b[0m\n\u001b[1;32m    103\u001b[0m         \u001b[0;32mif\u001b[0m \u001b[0mreplacement\u001b[0m\u001b[0;34m:\u001b[0m\u001b[0;34m\u001b[0m\u001b[0;34m\u001b[0m\u001b[0m\n",
      "\u001b[0;32m~/p/metadsl/metadsl/rules.py\u001b[0m in \u001b[0;36m__call__\u001b[0;34m(self, expr)\u001b[0m\n\u001b[1;32m    255\u001b[0m         \u001b[0;32mfor\u001b[0m \u001b[0mi\u001b[0m \u001b[0;32min\u001b[0m \u001b[0mrange\u001b[0m\u001b[0;34m(\u001b[0m\u001b[0mself\u001b[0m\u001b[0;34m.\u001b[0m\u001b[0mmax_calls\u001b[0m\u001b[0;34m)\u001b[0m\u001b[0;34m:\u001b[0m\u001b[0;34m\u001b[0m\u001b[0;34m\u001b[0m\u001b[0m\n\u001b[1;32m    256\u001b[0m             \u001b[0mreplaced\u001b[0m \u001b[0;34m=\u001b[0m \u001b[0;32mFalse\u001b[0m\u001b[0;34m\u001b[0m\u001b[0;34m\u001b[0m\u001b[0m\n\u001b[0;32m--> 257\u001b[0;31m             \u001b[0;32mfor\u001b[0m \u001b[0mreplacement\u001b[0m \u001b[0;32min\u001b[0m \u001b[0mrule\u001b[0m\u001b[0;34m(\u001b[0m\u001b[0mexpr\u001b[0m\u001b[0;34m)\u001b[0m\u001b[0;34m:\u001b[0m\u001b[0;34m\u001b[0m\u001b[0;34m\u001b[0m\u001b[0m\n\u001b[0m\u001b[1;32m    258\u001b[0m                 \u001b[0mreplaced\u001b[0m \u001b[0;34m=\u001b[0m \u001b[0;32mTrue\u001b[0m\u001b[0;34m\u001b[0m\u001b[0;34m\u001b[0m\u001b[0m\n\u001b[1;32m    259\u001b[0m                 \u001b[0;32myield\u001b[0m \u001b[0mreplacement\u001b[0m\u001b[0;34m\u001b[0m\u001b[0;34m\u001b[0m\u001b[0m\n",
      "\u001b[0;32m~/p/metadsl/metadsl/rules.py\u001b[0m in \u001b[0;36m__call__\u001b[0;34m(self, expr)\u001b[0m\n\u001b[1;32m    217\u001b[0m         \u001b[0;32mfor\u001b[0m \u001b[0mrule\u001b[0m \u001b[0;32min\u001b[0m \u001b[0mself\u001b[0m\u001b[0;34m.\u001b[0m\u001b[0mrules\u001b[0m\u001b[0;34m:\u001b[0m\u001b[0;34m\u001b[0m\u001b[0;34m\u001b[0m\u001b[0m\n\u001b[1;32m    218\u001b[0m             \u001b[0mreplacement\u001b[0m \u001b[0;34m=\u001b[0m \u001b[0;32mNone\u001b[0m\u001b[0;34m\u001b[0m\u001b[0;34m\u001b[0m\u001b[0m\n\u001b[0;32m--> 219\u001b[0;31m             \u001b[0;32mfor\u001b[0m \u001b[0mreplacement\u001b[0m \u001b[0;32min\u001b[0m \u001b[0mrule\u001b[0m\u001b[0;34m(\u001b[0m\u001b[0mexpr\u001b[0m\u001b[0;34m)\u001b[0m\u001b[0;34m:\u001b[0m\u001b[0;34m\u001b[0m\u001b[0;34m\u001b[0m\u001b[0m\n\u001b[0m\u001b[1;32m    220\u001b[0m                 \u001b[0;32myield\u001b[0m \u001b[0mreplacement\u001b[0m\u001b[0;34m\u001b[0m\u001b[0;34m\u001b[0m\u001b[0m\n\u001b[1;32m    221\u001b[0m             \u001b[0;32mif\u001b[0m \u001b[0mreplacement\u001b[0m\u001b[0;34m:\u001b[0m\u001b[0;34m\u001b[0m\u001b[0;34m\u001b[0m\u001b[0m\n",
      "\u001b[0;32m~/p/metadsl/metadsl/rules.py\u001b[0m in \u001b[0;36m__call__\u001b[0;34m(self, expr)\u001b[0m\n\u001b[1;32m    255\u001b[0m         \u001b[0;32mfor\u001b[0m \u001b[0mi\u001b[0m \u001b[0;32min\u001b[0m \u001b[0mrange\u001b[0m\u001b[0;34m(\u001b[0m\u001b[0mself\u001b[0m\u001b[0;34m.\u001b[0m\u001b[0mmax_calls\u001b[0m\u001b[0;34m)\u001b[0m\u001b[0;34m:\u001b[0m\u001b[0;34m\u001b[0m\u001b[0;34m\u001b[0m\u001b[0m\n\u001b[1;32m    256\u001b[0m             \u001b[0mreplaced\u001b[0m \u001b[0;34m=\u001b[0m \u001b[0;32mFalse\u001b[0m\u001b[0;34m\u001b[0m\u001b[0;34m\u001b[0m\u001b[0m\n\u001b[0;32m--> 257\u001b[0;31m             \u001b[0;32mfor\u001b[0m \u001b[0mreplacement\u001b[0m \u001b[0;32min\u001b[0m \u001b[0mrule\u001b[0m\u001b[0;34m(\u001b[0m\u001b[0mexpr\u001b[0m\u001b[0;34m)\u001b[0m\u001b[0;34m:\u001b[0m\u001b[0;34m\u001b[0m\u001b[0;34m\u001b[0m\u001b[0m\n\u001b[0m\u001b[1;32m    258\u001b[0m                 \u001b[0mreplaced\u001b[0m \u001b[0;34m=\u001b[0m \u001b[0;32mTrue\u001b[0m\u001b[0;34m\u001b[0m\u001b[0;34m\u001b[0m\u001b[0m\n\u001b[1;32m    259\u001b[0m                 \u001b[0;32myield\u001b[0m \u001b[0mreplacement\u001b[0m\u001b[0;34m\u001b[0m\u001b[0;34m\u001b[0m\u001b[0m\n",
      "\u001b[0;32m~/p/metadsl/metadsl/rules.py\u001b[0m in \u001b[0;36m__call__\u001b[0;34m(self, expr)\u001b[0m\n\u001b[1;32m    235\u001b[0m         \u001b[0mrule\u001b[0m\u001b[0;34m:\u001b[0m \u001b[0mRule\u001b[0m \u001b[0;34m=\u001b[0m \u001b[0mself\u001b[0m\u001b[0;34m.\u001b[0m\u001b[0mrule\u001b[0m  \u001b[0;31m# type: ignore\u001b[0m\u001b[0;34m\u001b[0m\u001b[0;34m\u001b[0m\u001b[0m\n\u001b[1;32m    236\u001b[0m         \u001b[0;32mfor\u001b[0m \u001b[0mchild_ref\u001b[0m \u001b[0;32min\u001b[0m \u001b[0mexpr\u001b[0m\u001b[0;34m.\u001b[0m\u001b[0mchildren\u001b[0m\u001b[0;34m:\u001b[0m\u001b[0;34m\u001b[0m\u001b[0;34m\u001b[0m\u001b[0m\n\u001b[0;32m--> 237\u001b[0;31m             \u001b[0;32mfor\u001b[0m \u001b[0mreplacement\u001b[0m \u001b[0;32min\u001b[0m \u001b[0mrule\u001b[0m\u001b[0;34m(\u001b[0m\u001b[0mchild_ref\u001b[0m\u001b[0;34m)\u001b[0m\u001b[0;34m:\u001b[0m\u001b[0;34m\u001b[0m\u001b[0;34m\u001b[0m\u001b[0m\n\u001b[0m\u001b[1;32m    238\u001b[0m                 \u001b[0;32myield\u001b[0m \u001b[0mreplacement\u001b[0m\u001b[0;34m\u001b[0m\u001b[0;34m\u001b[0m\u001b[0m\n\u001b[1;32m    239\u001b[0m                 \u001b[0;32mreturn\u001b[0m\u001b[0;34m\u001b[0m\u001b[0;34m\u001b[0m\u001b[0m\n",
      "\u001b[0;32m~/p/metadsl/metadsl/rules.py\u001b[0m in \u001b[0;36m__call__\u001b[0;34m(self, expr)\u001b[0m\n\u001b[1;32m    217\u001b[0m         \u001b[0;32mfor\u001b[0m \u001b[0mrule\u001b[0m \u001b[0;32min\u001b[0m \u001b[0mself\u001b[0m\u001b[0;34m.\u001b[0m\u001b[0mrules\u001b[0m\u001b[0;34m:\u001b[0m\u001b[0;34m\u001b[0m\u001b[0;34m\u001b[0m\u001b[0m\n\u001b[1;32m    218\u001b[0m             \u001b[0mreplacement\u001b[0m \u001b[0;34m=\u001b[0m \u001b[0;32mNone\u001b[0m\u001b[0;34m\u001b[0m\u001b[0;34m\u001b[0m\u001b[0m\n\u001b[0;32m--> 219\u001b[0;31m             \u001b[0;32mfor\u001b[0m \u001b[0mreplacement\u001b[0m \u001b[0;32min\u001b[0m \u001b[0mrule\u001b[0m\u001b[0;34m(\u001b[0m\u001b[0mexpr\u001b[0m\u001b[0;34m)\u001b[0m\u001b[0;34m:\u001b[0m\u001b[0;34m\u001b[0m\u001b[0;34m\u001b[0m\u001b[0m\n\u001b[0m\u001b[1;32m    220\u001b[0m                 \u001b[0;32myield\u001b[0m \u001b[0mreplacement\u001b[0m\u001b[0;34m\u001b[0m\u001b[0;34m\u001b[0m\u001b[0m\n\u001b[1;32m    221\u001b[0m             \u001b[0;32mif\u001b[0m \u001b[0mreplacement\u001b[0m\u001b[0;34m:\u001b[0m\u001b[0;34m\u001b[0m\u001b[0;34m\u001b[0m\u001b[0m\n",
      "\u001b[0;32m~/p/metadsl/metadsl/matching.py\u001b[0m in \u001b[0;36m__call__\u001b[0;34m(self, ref)\u001b[0m\n\u001b[1;32m    111\u001b[0m             \u001b[0;32mreturn\u001b[0m \u001b[0;32mNone\u001b[0m\u001b[0;34m\u001b[0m\u001b[0;34m\u001b[0m\u001b[0m\n\u001b[1;32m    112\u001b[0m         \u001b[0;32mwith\u001b[0m \u001b[0mTypeVarScope\u001b[0m\u001b[0;34m(\u001b[0m\u001b[0;34m*\u001b[0m\u001b[0mtypevars\u001b[0m\u001b[0;34m.\u001b[0m\u001b[0mkeys\u001b[0m\u001b[0;34m(\u001b[0m\u001b[0;34m)\u001b[0m\u001b[0;34m)\u001b[0m\u001b[0;34m:\u001b[0m\u001b[0;34m\u001b[0m\u001b[0;34m\u001b[0m\u001b[0m\n\u001b[0;32m--> 113\u001b[0;31m             \u001b[0mnew_expr\u001b[0m \u001b[0;34m=\u001b[0m \u001b[0mself\u001b[0m\u001b[0;34m.\u001b[0m\u001b[0minner_fn\u001b[0m\u001b[0;34m(\u001b[0m\u001b[0;34m*\u001b[0m\u001b[0margs\u001b[0m\u001b[0;34m,\u001b[0m \u001b[0;34m**\u001b[0m\u001b[0mexpr\u001b[0m\u001b[0;34m.\u001b[0m\u001b[0mkwargs\u001b[0m\u001b[0;34m)\u001b[0m\u001b[0;34m\u001b[0m\u001b[0;34m\u001b[0m\u001b[0m\n\u001b[0m\u001b[1;32m    114\u001b[0m             \u001b[0mresult\u001b[0m \u001b[0;34m=\u001b[0m \u001b[0mreplace_typevars_expression\u001b[0m\u001b[0;34m(\u001b[0m\u001b[0mnew_expr\u001b[0m\u001b[0;34m,\u001b[0m \u001b[0mtypevars\u001b[0m\u001b[0;34m)\u001b[0m\u001b[0;34m\u001b[0m\u001b[0;34m\u001b[0m\u001b[0m\n\u001b[1;32m    115\u001b[0m         \u001b[0mref\u001b[0m\u001b[0;34m.\u001b[0m\u001b[0mreplace\u001b[0m\u001b[0;34m(\u001b[0m\u001b[0mresult\u001b[0m\u001b[0;34m)\u001b[0m\u001b[0;34m\u001b[0m\u001b[0;34m\u001b[0m\u001b[0m\n",
      "\u001b[0;32m~/p/metadsl/metadsl_core/abstraction.py\u001b[0m in \u001b[0;36mfrom_fn\u001b[0;34m(cls, fn)\u001b[0m\n\u001b[1;32m     42\u001b[0m     \u001b[0;32mdef\u001b[0m \u001b[0mfrom_fn\u001b[0m\u001b[0;34m(\u001b[0m\u001b[0mcls\u001b[0m\u001b[0;34m,\u001b[0m \u001b[0mfn\u001b[0m\u001b[0;34m:\u001b[0m \u001b[0mtyping\u001b[0m\u001b[0;34m.\u001b[0m\u001b[0mCallable\u001b[0m\u001b[0;34m[\u001b[0m\u001b[0;34m[\u001b[0m\u001b[0mT\u001b[0m\u001b[0;34m]\u001b[0m\u001b[0;34m,\u001b[0m \u001b[0mU\u001b[0m\u001b[0;34m]\u001b[0m\u001b[0;34m)\u001b[0m \u001b[0;34m->\u001b[0m \u001b[0mAbstraction\u001b[0m\u001b[0;34m[\u001b[0m\u001b[0mT\u001b[0m\u001b[0;34m,\u001b[0m \u001b[0mU\u001b[0m\u001b[0;34m]\u001b[0m\u001b[0;34m:\u001b[0m\u001b[0;34m\u001b[0m\u001b[0;34m\u001b[0m\u001b[0m\n\u001b[1;32m     43\u001b[0m         \u001b[0mv\u001b[0m\u001b[0;34m:\u001b[0m \u001b[0mT\u001b[0m \u001b[0;34m=\u001b[0m \u001b[0mcls\u001b[0m\u001b[0;34m.\u001b[0m\u001b[0mcreate_variable\u001b[0m\u001b[0;34m(\u001b[0m\u001b[0mVariable\u001b[0m\u001b[0;34m(\u001b[0m\u001b[0;34m)\u001b[0m\u001b[0;34m)\u001b[0m\u001b[0;34m\u001b[0m\u001b[0;34m\u001b[0m\u001b[0m\n\u001b[0;32m---> 44\u001b[0;31m         \u001b[0;32mreturn\u001b[0m \u001b[0mcls\u001b[0m\u001b[0;34m.\u001b[0m\u001b[0mcreate\u001b[0m\u001b[0;34m(\u001b[0m\u001b[0mv\u001b[0m\u001b[0;34m,\u001b[0m \u001b[0mfn\u001b[0m\u001b[0;34m(\u001b[0m\u001b[0mv\u001b[0m\u001b[0;34m)\u001b[0m\u001b[0;34m)\u001b[0m\u001b[0;34m\u001b[0m\u001b[0;34m\u001b[0m\u001b[0m\n\u001b[0m\u001b[1;32m     45\u001b[0m \u001b[0;34m\u001b[0m\u001b[0m\n\u001b[1;32m     46\u001b[0m     \u001b[0;34m@\u001b[0m\u001b[0mexpression\u001b[0m\u001b[0;34m\u001b[0m\u001b[0;34m\u001b[0m\u001b[0m\n",
      "\u001b[0;32m~/p/metadsl/metadsl_core/numpy.py\u001b[0m in \u001b[0;36m<lambda>\u001b[0;34m(p)\u001b[0m\n\u001b[1;32m    111\u001b[0m                 Abstraction[\n\u001b[1;32m    112\u001b[0m                     \u001b[0mPair\u001b[0m\u001b[0;34m[\u001b[0m\u001b[0mNDArray\u001b[0m\u001b[0;34m,\u001b[0m \u001b[0mEither\u001b[0m\u001b[0;34m[\u001b[0m\u001b[0mInteger\u001b[0m\u001b[0;34m,\u001b[0m \u001b[0mVec\u001b[0m\u001b[0;34m[\u001b[0m\u001b[0mInteger\u001b[0m\u001b[0;34m]\u001b[0m\u001b[0;34m]\u001b[0m\u001b[0;34m]\u001b[0m\u001b[0;34m,\u001b[0m \u001b[0mNDArray\u001b[0m\u001b[0;34m\u001b[0m\u001b[0;34m\u001b[0m\u001b[0m\n\u001b[0;32m--> 113\u001b[0;31m                 ].from_fn(lambda p: p.left[p.right])\n\u001b[0m\u001b[1;32m    114\u001b[0m             )\n\u001b[1;32m    115\u001b[0m         )\n",
      "\u001b[0;31mTypeError\u001b[0m: 'PlaceholderExpression' object is not subscriptable"
     ]
    },
    {
     "data": {
      "text/plain": [
       "metadsl.expressions.PlaceholderExpression[numpy.ndarray](NDArrayCompat.to_ndarray, [<class 'metadsl_core.numpy.NDArrayCompat'>(NDArrayCompat.__getitem__, [<class 'metadsl_core.numpy.NDArrayCompat'>(NDArrayCompat.__add__, [<class 'metadsl_core.numpy.NDArrayCompat'>(arange, [100], {}), <class 'metadsl_core.numpy.NDArrayCompat'>(arange, [100], {})], {}), 5], {})], {})"
      ]
     },
     "execution_count": 8,
     "metadata": {},
     "output_type": "execute_result"
    }
   ],
   "source": [
    "expr"
   ]
  },
  {
   "cell_type": "markdown",
   "metadata": {},
   "source": [
    "This shows how we can break up the NumPy API into different layers, all of which are extensible:\n",
    "\n",
    "1. A compatibility layer that works like the existing NumPy API, except isn't limited to the Python types of the current API\n",
    "2. A type safe version of this API. The conversion between the compatability layer and this layer is extensible, so that third party authors can add new conversion between their own Python objects and the typed representation.\n",
    "3. A backend layer that translates either back to Python calls or source code, or to other targets like LLVM or Tensorflow.\n",
    "\n",
    "The key is that all these layers are composable, so you could have different frontends for any of them or add your own. This is all done through a typed replacement system that is compatible with static analysis using MyPy.\n",
    "\n",
    "`metadsl` is the glue that allows us to define this API in a way that enables greater greater collaboration. Since each layer has it's own well defined specification, different projects can extend and target these seperate layers, while minimizing the need to explicitly opt in to collaborate. The goal is to enable greater reuse, interoperability, and extensability within the Python scientific ecosystem."
   ]
  }
 ],
 "metadata": {
  "kernelspec": {
   "display_name": "Python 3",
   "language": "python",
   "name": "python3"
  },
  "language_info": {
   "codemirror_mode": {
    "name": "ipython",
    "version": 3
   },
   "file_extension": ".py",
   "mimetype": "text/x-python",
   "name": "python",
   "nbconvert_exporter": "python",
   "pygments_lexer": "ipython3",
   "version": "3.7.3"
  }
 },
 "nbformat": 4,
 "nbformat_minor": 4
}
