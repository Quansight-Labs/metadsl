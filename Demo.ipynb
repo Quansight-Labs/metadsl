{
 "cells": [
  {
   "cell_type": "code",
   "execution_count": 21,
   "metadata": {},
   "outputs": [],
   "source": [
    "class Fn:\n",
    "    \n",
    "    def __init__(self, fn):\n",
    "        self.fn = fn\n",
    "\n",
    "    def __get__(self, instance, owner):\n",
    "        print(instance, owner)"
   ]
  },
  {
   "cell_type": "code",
   "execution_count": 22,
   "metadata": {},
   "outputs": [],
   "source": [
    "def dec(fn):\n",
    "    return Fn(fn)"
   ]
  },
  {
   "cell_type": "code",
   "execution_count": 23,
   "metadata": {},
   "outputs": [],
   "source": [
    "class Hi:\n",
    "    @dec\n",
    "    def my_fn(self):\n",
    "        return"
   ]
  },
  {
   "cell_type": "code",
   "execution_count": 24,
   "metadata": {},
   "outputs": [
    {
     "name": "stdout",
     "output_type": "stream",
     "text": [
      "None <class '__main__.Hi'>\n"
     ]
    }
   ],
   "source": [
    "Hi.my_fn"
   ]
  },
  {
   "cell_type": "code",
   "execution_count": 18,
   "metadata": {},
   "outputs": [],
   "source": [
    "h = Hi()"
   ]
  },
  {
   "cell_type": "code",
   "execution_count": 20,
   "metadata": {},
   "outputs": [
    {
     "name": "stdout",
     "output_type": "stream",
     "text": [
      "None <class '__main__.Hi'>\n"
     ]
    }
   ],
   "source": [
    "Hi.fn"
   ]
  },
  {
   "cell_type": "code",
   "execution_count": 19,
   "metadata": {},
   "outputs": [
    {
     "name": "stdout",
     "output_type": "stream",
     "text": [
      "<__main__.Hi object at 0x11793e5f8> <class '__main__.Hi'>\n"
     ]
    }
   ],
   "source": [
    "h.fn"
   ]
  },
  {
   "cell_type": "markdown",
   "metadata": {},
   "source": [
    "# `metadsl`\n",
    "\n",
    "...is a framework for creating domain specific languages in Python."
   ]
  },
  {
   "cell_type": "code",
   "execution_count": 4,
   "metadata": {},
   "outputs": [],
   "source": [
    "from metadsl import *\n",
    "from metadsl_core import *\n",
    "from metadsl_visualize import *"
   ]
  },
  {
   "cell_type": "markdown",
   "metadata": {},
   "source": [
    "Here, we show a NumPy API compatible DSL that we have started writing. We can create a symbolic expression and then execute it. The widget shows the different stages of execution:"
   ]
  },
  {
   "cell_type": "code",
   "execution_count": 6,
   "metadata": {},
   "outputs": [
    {
     "data": {
      "application/x.typez+json": {
       "nodes": {
        "-1827217823156436851": [
         "19",
         {
          "args": [
           "7476356222416889263"
          ],
          "function": "Abstraction.from_fn"
         }
        ],
        "-229788817828368262": [
         "12",
         {
          "args": [
           "1768451678476953200",
           "6820439686346850893"
          ],
          "function": "Maybe.__and__",
          "type_params": {
           "T": {
            "type": "NDArray"
           }
          }
         }
        ],
        "-2642428384510993722": [
         "31",
         {
          "args": [
           "6599955193481781126",
           "-7605111911380996177"
          ],
          "function": "Maybe.map",
          "type_params": {
           "T": {
            "type": "Integer"
           }
          }
         }
        ],
        "-3443200128248678850": [
         "14",
         {
          "args": [
           "7390854356355083750"
          ],
          "function": "Abstraction.from_fn",
          "type_params": {
           "T": {
            "params": {
             "T": {
              "type": "NDArray"
             },
             "U": {
              "params": {
               "T": {
                "type": "Integer"
               },
               "U": {
                "params": {
                 "T": {
                  "type": "Integer"
                 }
                },
                "type": "Vec"
               }
              },
              "type": "Either"
             }
            },
            "type": "Pair"
           },
           "U": {
            "type": "NDArray"
           }
          }
         }
        ],
        "-3851797404979949249": [
         "28",
         {
          "args": [
           "3864996844580924190"
          ],
          "function": "Maybe.just"
         }
        ],
        "-4110012908558229611": [
         "15",
         {
          "args": [
           "5918583911007421762",
           "-3443200128248678850"
          ],
          "function": "Maybe.map",
          "type_params": {
           "T": {
            "params": {
             "T": {
              "type": "NDArray"
             },
             "U": {
              "params": {
               "T": {
                "type": "Integer"
               },
               "U": {
                "params": {
                 "T": {
                  "type": "Integer"
                 }
                },
                "type": "Vec"
               }
              },
              "type": "Either"
             }
            },
            "type": "Pair"
           }
          }
         }
        ],
        "-4113683128398228897": [
         "15",
         {
          "args": [
           "-229788817828368262",
           "-3443200128248678850"
          ],
          "function": "Maybe.map",
          "type_params": {
           "T": {
            "params": {
             "T": {
              "type": "NDArray"
             },
             "U": {
              "params": {
               "T": {
                "type": "Integer"
               },
               "U": {
                "params": {
                 "T": {
                  "type": "Integer"
                 }
                },
                "type": "Vec"
               }
              },
              "type": "Either"
             }
            },
            "type": "Pair"
           }
          }
         }
        ],
        "-413479252060675646": [
         "7",
         {
          "args": [
           "7389996727730567975"
          ],
          "function": "arange"
         }
        ],
        "-4362328496569185312": [
         "11",
         {
          "args": [
           "7389996727835572900"
          ],
          "function": "Converter.convert",
          "type_params": {
           "T": {
            "params": {
             "T": {
              "type": "Integer"
             },
             "U": {
              "params": {
               "T": {
                "type": "Integer"
               }
              },
              "type": "Vec"
             }
            },
            "type": "Either"
           }
          }
         }
        ],
        "-4917138497393327819": [
         "15",
         {
          "args": [
           "-6898813609126467610",
           "-3443200128248678850"
          ],
          "function": "Maybe.map",
          "type_params": {
           "T": {
            "params": {
             "T": {
              "type": "NDArray"
             },
             "U": {
              "params": {
               "T": {
                "type": "Integer"
               },
               "U": {
                "params": {
                 "T": {
                  "type": "Integer"
                 }
                },
                "type": "Vec"
               }
              },
              "type": "Either"
             }
            },
            "type": "Pair"
           }
          }
         }
        ],
        "-5209612785135588097": [
         "4",
         {
          "args": [
           "-4113683128398228897"
          ],
          "function": "NDArrayCompat.from_ndarray"
         }
        ],
        "-5225951241959155302": [
         "5",
         {
          "args": [
           "5169303056504517277"
          ],
          "function": "NDArrayCompat.to_ndarray"
         }
        ],
        "-5305859151552806603": [
         "11",
         {
          "args": [
           "-8718725701334017582",
           "4809526319858184292"
          ],
          "function": "Maybe.__or__",
          "type_params": {
           "T": {
            "params": {
             "T": {
              "type": "Integer"
             },
             "U": {
              "params": {
               "T": {
                "type": "Integer"
               }
              },
              "type": "Vec"
             }
            },
            "type": "Either"
           }
          }
         }
        ],
        "-5513958925783040194": [
         "9",
         {
          "args": [
           "733488207619754122"
          ],
          "function": "Converter.convert",
          "type_params": {
           "T": {
            "type": "NDArray"
           }
          }
         }
        ],
        "-6477796972997726603": [
         "17",
         {
          "args": [
           "-6835731452181285361"
          ],
          "function": "Maybe.just"
         }
        ],
        "-6528896986329084548": [
         "21",
         {
          "args": [
           "7389996727835572900"
          ],
          "function": "Converter.convert",
          "type_params": {
           "T": {
            "params": {
             "T": {
              "type": "Integer"
             }
            },
            "type": "Vec"
           }
          }
         }
        ],
        "-6835731452181285361": [
         "26",
         {
          "args": [
           "7389996727835572900"
          ],
          "function": "Integer.from_int"
         }
        ],
        "-6898813609126467610": [
         "12",
         {
          "args": [
           "-5513958925783040194",
           "-4362328496569185312"
          ],
          "function": "Maybe.__and__",
          "type_params": {
           "T": {
            "type": "NDArray"
           }
          }
         }
        ],
        "-6993258746593138738": [
         "4",
         {
          "args": [
           "5824672563225056953"
          ],
          "function": "NDArrayCompat.from_ndarray"
         }
        ],
        "-7605111911380996177": [
         "30",
         {
          "args": [
           "-7963575565984054101"
          ],
          "function": "Abstraction.from_fn"
         }
        ],
        "-79505059901803467": [
         "12",
         {
          "args": [
           "6826984819604257049",
           "6820439686346850893"
          ],
          "function": "Maybe.__and__",
          "type_params": {
           "T": {
            "type": "NDArray"
           }
          }
         }
        ],
        "-7963575565984054101": [
         "29",
         {
          "repr": "arange_",
          "type": "Infer"
         }
        ],
        "-8718725701334017582": [
         "20",
         {
          "args": [
           "1285411996862869511",
           "-1827217823156436851"
          ],
          "function": "Maybe.map",
          "type_params": {
           "T": {
            "type": "Integer"
           }
          }
         }
        ],
        "-8980817372757219040": [
         "4",
         {
          "args": [
           "-9221937419287907784"
          ],
          "function": "NDArrayCompat.from_ndarray"
         }
        ],
        "-9221937419287907784": [
         "15",
         {
          "args": [
           "-79505059901803467",
           "-3443200128248678850"
          ],
          "function": "Maybe.map",
          "type_params": {
           "T": {
            "params": {
             "T": {
              "type": "NDArray"
             },
             "U": {
              "params": {
               "T": {
                "type": "Integer"
               },
               "U": {
                "params": {
                 "T": {
                  "type": "Integer"
                 }
                },
                "type": "Vec"
               }
              },
              "type": "Either"
             }
            },
            "type": "Pair"
           }
          }
         }
        ],
        "1178942236789801586": [
         "5",
         {
          "args": [
           "4405077090650682390"
          ],
          "function": "NDArrayCompat.to_ndarray"
         }
        ],
        "1285411996862869511": [
         "17",
         {
          "args": [
           "7389996727835572900"
          ],
          "function": "Converter.convert",
          "type_params": {
           "T": {
            "type": "Integer"
           }
          }
         }
        ],
        "1509044938083706006": [
         "5",
         {
          "args": [
           "-6993258746593138738"
          ],
          "function": "NDArrayCompat.to_ndarray"
         }
        ],
        "1768451678476953200": [
         "9",
         {
          "args": [
           "5448386493881996042"
          ],
          "function": "Converter.convert",
          "type_params": {
           "T": {
            "type": "NDArray"
           }
          }
         }
        ],
        "2316514055479206262": [
         "20",
         {
          "args": [
           "-6477796972997726603",
           "-1827217823156436851"
          ],
          "function": "Maybe.map",
          "type_params": {
           "T": {
            "type": "Integer"
           }
          }
         }
        ],
        "3864996844580924190": [
         "33",
         {
          "args": [
           "7389996727730567975"
          ],
          "function": "Integer.from_int"
         }
        ],
        "3952127203154401306": [
         "22",
         {
          "repr": "Either.right",
          "type": "BoundInfer"
         }
        ],
        "4084860619863335824": [
         "23",
         {
          "args": [
           "3952127203154401306"
          ],
          "function": "Abstraction.from_fn"
         }
        ],
        "4405077090650682390": [
         "4",
         {
          "args": [
           "-4917138497393327819"
          ],
          "function": "NDArrayCompat.from_ndarray"
         }
        ],
        "4809526319858184292": [
         "24",
         {
          "args": [
           "-6528896986329084548",
           "4084860619863335824"
          ],
          "function": "Maybe.map",
          "type_params": {
           "T": {
            "params": {
             "T": {
              "type": "Integer"
             }
            },
            "type": "Vec"
           }
          }
         }
        ],
        "5169303056504517277": [
         "4",
         {
          "args": [
           "-4110012908558229611"
          ],
          "function": "NDArrayCompat.from_ndarray"
         }
        ],
        "5309898173126207136": [
         "5",
         {
          "args": [
           "-8980817372757219040"
          ],
          "function": "NDArrayCompat.to_ndarray"
         }
        ],
        "5448386493881996042": [
         "8",
         {
          "args": [
           "6155972782134027120",
           "6155972782134027120"
          ],
          "function": "NDArrayCompat.__add__"
         }
        ],
        "581323246639478712": [
         "31",
         {
          "args": [
           "-3851797404979949249",
           "-7605111911380996177"
          ],
          "function": "Maybe.map",
          "type_params": {
           "T": {
            "type": "Integer"
           }
          }
         }
        ],
        "5824672563225056953": [
         "15",
         {
          "args": [
           "6025253264526591254",
           "-3443200128248678850"
          ],
          "function": "Maybe.map",
          "type_params": {
           "T": {
            "params": {
             "T": {
              "type": "NDArray"
             },
             "U": {
              "params": {
               "T": {
                "type": "Integer"
               },
               "U": {
                "params": {
                 "T": {
                  "type": "Integer"
                 }
                },
                "type": "Vec"
               }
              },
              "type": "Either"
             }
            },
            "type": "Pair"
           }
          }
         }
        ],
        "5918583911007421762": [
         "12",
         {
          "args": [
           "-5513958925783040194",
           "-5305859151552806603"
          ],
          "function": "Maybe.__and__",
          "type_params": {
           "T": {
            "type": "NDArray"
           }
          }
         }
        ],
        "6025253264526591254": [
         "12",
         {
          "args": [
           "-5513958925783040194",
           "6820439686346850893"
          ],
          "function": "Maybe.__and__",
          "type_params": {
           "T": {
            "type": "NDArray"
           }
          }
         }
        ],
        "6155972782134027120": [
         "7",
         {
          "args": [
           "-2642428384510993722"
          ],
          "function": "NDArrayCompat.from_ndarray"
         }
        ],
        "6237352137004326912": [
         "5",
         {
          "args": [
           "-5209612785135588097"
          ],
          "function": "NDArrayCompat.to_ndarray"
         }
        ],
        "6599955193481781126": [
         "28",
         {
          "args": [
           "7389996727730567975"
          ],
          "function": "Converter.convert",
          "type_params": {
           "T": {
            "type": "Integer"
           }
          }
         }
        ],
        "6820439686346850893": [
         "11",
         {
          "args": [
           "2316514055479206262",
           "4809526319858184292"
          ],
          "function": "Maybe.__or__",
          "type_params": {
           "T": {
            "params": {
             "T": {
              "type": "Integer"
             },
             "U": {
              "params": {
               "T": {
                "type": "Integer"
               }
              },
              "type": "Vec"
             }
            },
            "type": "Either"
           }
          }
         }
        ],
        "6826984819604257049": [
         "9",
         {
          "args": [
           "9150897915988383230"
          ],
          "function": "Converter.convert",
          "type_params": {
           "T": {
            "type": "NDArray"
           }
          }
         }
        ],
        "733488207619754122": [
         "8",
         {
          "args": [
           "-413479252060675646",
           "-413479252060675646"
          ],
          "function": "NDArrayCompat.__add__"
         }
        ],
        "7389996727730567975": [
         "32",
         {
          "repr": "100",
          "type": "int"
         }
        ],
        "7389996727835572900": [
         "25",
         {
          "repr": "5",
          "type": "int"
         }
        ],
        "7390854356355083750": [
         "13",
         {
          "repr": "<function NDArrayCompat.__getitem__.<locals>.<lambda> at 0x1178c5ae8>",
          "type": "function"
         }
        ],
        "7476356222416889263": [
         "18",
         {
          "repr": "Either.left",
          "type": "BoundInfer"
         }
        ],
        "7988102916881695617": [
         "7",
         {
          "args": [
           "581323246639478712"
          ],
          "function": "NDArrayCompat.from_ndarray"
         }
        ],
        "9150897915988383230": [
         "8",
         {
          "args": [
           "7988102916881695617",
           "7988102916881695617"
          ],
          "function": "NDArrayCompat.__add__"
         }
        ],
        "9164808068233093317": [
         "5",
         {
          "args": [
           "939638188172311092"
          ],
          "function": "NDArrayCompat.to_ndarray"
         }
        ],
        "939638188172311092": [
         "4",
         {
          "args": [
           "733488207619754122",
           "7389996727835572900"
          ],
          "function": "NDArrayCompat.__getitem__"
         }
        ]
       },
       "states": {
        "initial": "9164808068233093317",
        "states": [
         {
          "node": "1178942236789801586",
          "rule": "metadsl_core.numpy.NDArrayCompat.__getitem__"
         },
         {
          "node": "-5225951241959155302",
          "rule": "metadsl_core.either.convert_to_either"
         },
         {
          "node": "1509044938083706006",
          "rule": "metadsl_core.integer.convert_integer"
         },
         {
          "node": "6237352137004326912",
          "rule": "metadsl_core.numpy.arange"
         },
         {
          "node": "5309898173126207136",
          "rule": "metadsl_core.integer.convert_integer"
         }
        ]
       }
      },
      "text/plain": [
       "Typez(definitions=None, nodes={'7389996727730567975': ['32', PrimitiveNode(type='int', repr='100')], '-413479252060675646': ['7', CallNode(function='arange', type_params=None, args=['7389996727730567975'], kwargs=None)], '733488207619754122': ['8', CallNode(function='NDArrayCompat.__add__', type_params=None, args=['-413479252060675646', '-413479252060675646'], kwargs=None)], '7389996727835572900': ['25', PrimitiveNode(type='int', repr='5')], '939638188172311092': ['4', CallNode(function='NDArrayCompat.__getitem__', type_params=None, args=['733488207619754122', '7389996727835572900'], kwargs=None)], '9164808068233093317': ['5', CallNode(function='NDArrayCompat.to_ndarray', type_params=None, args=['939638188172311092'], kwargs=None)], '-5513958925783040194': ['9', CallNode(function='Converter.convert', type_params={'T': DeclaredTypeInstance(type='NDArray', params=None)}, args=['733488207619754122'], kwargs=None)], '-4362328496569185312': ['11', CallNode(function='Converter.convert', type_params={'T': DeclaredTypeInstance(type='Either', params={'U': DeclaredTypeInstance(type='Vec', params={'T': DeclaredTypeInstance(type='Integer', params=None)}), 'T': DeclaredTypeInstance(type='Integer', params=None)})}, args=['7389996727835572900'], kwargs=None)], '-6898813609126467610': ['12', CallNode(function='Maybe.__and__', type_params={'T': DeclaredTypeInstance(type='NDArray', params=None)}, args=['-5513958925783040194', '-4362328496569185312'], kwargs=None)], '7390854356355083750': ['13', PrimitiveNode(type='function', repr='<function NDArrayCompat.__getitem__.<locals>.<lambda> at 0x1178c5ae8>')], '-3443200128248678850': ['14', CallNode(function='Abstraction.from_fn', type_params={'U': DeclaredTypeInstance(type='NDArray', params=None), 'T': DeclaredTypeInstance(type='Pair', params={'U': DeclaredTypeInstance(type='Either', params={'U': DeclaredTypeInstance(type='Vec', params={'T': DeclaredTypeInstance(type='Integer', params=None)}), 'T': DeclaredTypeInstance(type='Integer', params=None)}), 'T': DeclaredTypeInstance(type='NDArray', params=None)})}, args=['7390854356355083750'], kwargs=None)], '-4917138497393327819': ['15', CallNode(function='Maybe.map', type_params={'T': DeclaredTypeInstance(type='Pair', params={'U': DeclaredTypeInstance(type='Either', params={'U': DeclaredTypeInstance(type='Vec', params={'T': DeclaredTypeInstance(type='Integer', params=None)}), 'T': DeclaredTypeInstance(type='Integer', params=None)}), 'T': DeclaredTypeInstance(type='NDArray', params=None)})}, args=['-6898813609126467610', '-3443200128248678850'], kwargs=None)], '4405077090650682390': ['4', CallNode(function='NDArrayCompat.from_ndarray', type_params=None, args=['-4917138497393327819'], kwargs=None)], '1178942236789801586': ['5', CallNode(function='NDArrayCompat.to_ndarray', type_params=None, args=['4405077090650682390'], kwargs=None)], '1285411996862869511': ['17', CallNode(function='Converter.convert', type_params={'T': DeclaredTypeInstance(type='Integer', params=None)}, args=['7389996727835572900'], kwargs=None)], '7476356222416889263': ['18', PrimitiveNode(type='BoundInfer', repr='Either.left')], '-1827217823156436851': ['19', CallNode(function='Abstraction.from_fn', type_params=None, args=['7476356222416889263'], kwargs=None)], '-8718725701334017582': ['20', CallNode(function='Maybe.map', type_params={'T': DeclaredTypeInstance(type='Integer', params=None)}, args=['1285411996862869511', '-1827217823156436851'], kwargs=None)], '-6528896986329084548': ['21', CallNode(function='Converter.convert', type_params={'T': DeclaredTypeInstance(type='Vec', params={'T': DeclaredTypeInstance(type='Integer', params=None)})}, args=['7389996727835572900'], kwargs=None)], '3952127203154401306': ['22', PrimitiveNode(type='BoundInfer', repr='Either.right')], '4084860619863335824': ['23', CallNode(function='Abstraction.from_fn', type_params=None, args=['3952127203154401306'], kwargs=None)], '4809526319858184292': ['24', CallNode(function='Maybe.map', type_params={'T': DeclaredTypeInstance(type='Vec', params={'T': DeclaredTypeInstance(type='Integer', params=None)})}, args=['-6528896986329084548', '4084860619863335824'], kwargs=None)], '-5305859151552806603': ['11', CallNode(function='Maybe.__or__', type_params={'T': DeclaredTypeInstance(type='Either', params={'U': DeclaredTypeInstance(type='Vec', params={'T': DeclaredTypeInstance(type='Integer', params=None)}), 'T': DeclaredTypeInstance(type='Integer', params=None)})}, args=['-8718725701334017582', '4809526319858184292'], kwargs=None)], '5918583911007421762': ['12', CallNode(function='Maybe.__and__', type_params={'T': DeclaredTypeInstance(type='NDArray', params=None)}, args=['-5513958925783040194', '-5305859151552806603'], kwargs=None)], '-4110012908558229611': ['15', CallNode(function='Maybe.map', type_params={'T': DeclaredTypeInstance(type='Pair', params={'U': DeclaredTypeInstance(type='Either', params={'U': DeclaredTypeInstance(type='Vec', params={'T': DeclaredTypeInstance(type='Integer', params=None)}), 'T': DeclaredTypeInstance(type='Integer', params=None)}), 'T': DeclaredTypeInstance(type='NDArray', params=None)})}, args=['5918583911007421762', '-3443200128248678850'], kwargs=None)], '5169303056504517277': ['4', CallNode(function='NDArrayCompat.from_ndarray', type_params=None, args=['-4110012908558229611'], kwargs=None)], '-5225951241959155302': ['5', CallNode(function='NDArrayCompat.to_ndarray', type_params=None, args=['5169303056504517277'], kwargs=None)], '-6835731452181285361': ['26', CallNode(function='Integer.from_int', type_params=None, args=['7389996727835572900'], kwargs=None)], '-6477796972997726603': ['17', CallNode(function='Maybe.just', type_params=None, args=['-6835731452181285361'], kwargs=None)], '2316514055479206262': ['20', CallNode(function='Maybe.map', type_params={'T': DeclaredTypeInstance(type='Integer', params=None)}, args=['-6477796972997726603', '-1827217823156436851'], kwargs=None)], '6820439686346850893': ['11', CallNode(function='Maybe.__or__', type_params={'T': DeclaredTypeInstance(type='Either', params={'U': DeclaredTypeInstance(type='Vec', params={'T': DeclaredTypeInstance(type='Integer', params=None)}), 'T': DeclaredTypeInstance(type='Integer', params=None)})}, args=['2316514055479206262', '4809526319858184292'], kwargs=None)], '6025253264526591254': ['12', CallNode(function='Maybe.__and__', type_params={'T': DeclaredTypeInstance(type='NDArray', params=None)}, args=['-5513958925783040194', '6820439686346850893'], kwargs=None)], '5824672563225056953': ['15', CallNode(function='Maybe.map', type_params={'T': DeclaredTypeInstance(type='Pair', params={'U': DeclaredTypeInstance(type='Either', params={'U': DeclaredTypeInstance(type='Vec', params={'T': DeclaredTypeInstance(type='Integer', params=None)}), 'T': DeclaredTypeInstance(type='Integer', params=None)}), 'T': DeclaredTypeInstance(type='NDArray', params=None)})}, args=['6025253264526591254', '-3443200128248678850'], kwargs=None)], '-6993258746593138738': ['4', CallNode(function='NDArrayCompat.from_ndarray', type_params=None, args=['5824672563225056953'], kwargs=None)], '1509044938083706006': ['5', CallNode(function='NDArrayCompat.to_ndarray', type_params=None, args=['-6993258746593138738'], kwargs=None)], '6599955193481781126': ['28', CallNode(function='Converter.convert', type_params={'T': DeclaredTypeInstance(type='Integer', params=None)}, args=['7389996727730567975'], kwargs=None)], '-7963575565984054101': ['29', PrimitiveNode(type='Infer', repr='arange_')], '-7605111911380996177': ['30', CallNode(function='Abstraction.from_fn', type_params=None, args=['-7963575565984054101'], kwargs=None)], '-2642428384510993722': ['31', CallNode(function='Maybe.map', type_params={'T': DeclaredTypeInstance(type='Integer', params=None)}, args=['6599955193481781126', '-7605111911380996177'], kwargs=None)], '6155972782134027120': ['7', CallNode(function='NDArrayCompat.from_ndarray', type_params=None, args=['-2642428384510993722'], kwargs=None)], '5448386493881996042': ['8', CallNode(function='NDArrayCompat.__add__', type_params=None, args=['6155972782134027120', '6155972782134027120'], kwargs=None)], '1768451678476953200': ['9', CallNode(function='Converter.convert', type_params={'T': DeclaredTypeInstance(type='NDArray', params=None)}, args=['5448386493881996042'], kwargs=None)], '-229788817828368262': ['12', CallNode(function='Maybe.__and__', type_params={'T': DeclaredTypeInstance(type='NDArray', params=None)}, args=['1768451678476953200', '6820439686346850893'], kwargs=None)], '-4113683128398228897': ['15', CallNode(function='Maybe.map', type_params={'T': DeclaredTypeInstance(type='Pair', params={'U': DeclaredTypeInstance(type='Either', params={'U': DeclaredTypeInstance(type='Vec', params={'T': DeclaredTypeInstance(type='Integer', params=None)}), 'T': DeclaredTypeInstance(type='Integer', params=None)}), 'T': DeclaredTypeInstance(type='NDArray', params=None)})}, args=['-229788817828368262', '-3443200128248678850'], kwargs=None)], '-5209612785135588097': ['4', CallNode(function='NDArrayCompat.from_ndarray', type_params=None, args=['-4113683128398228897'], kwargs=None)], '6237352137004326912': ['5', CallNode(function='NDArrayCompat.to_ndarray', type_params=None, args=['-5209612785135588097'], kwargs=None)], '3864996844580924190': ['33', CallNode(function='Integer.from_int', type_params=None, args=['7389996727730567975'], kwargs=None)], '-3851797404979949249': ['28', CallNode(function='Maybe.just', type_params=None, args=['3864996844580924190'], kwargs=None)], '581323246639478712': ['31', CallNode(function='Maybe.map', type_params={'T': DeclaredTypeInstance(type='Integer', params=None)}, args=['-3851797404979949249', '-7605111911380996177'], kwargs=None)], '7988102916881695617': ['7', CallNode(function='NDArrayCompat.from_ndarray', type_params=None, args=['581323246639478712'], kwargs=None)], '9150897915988383230': ['8', CallNode(function='NDArrayCompat.__add__', type_params=None, args=['7988102916881695617', '7988102916881695617'], kwargs=None)], '6826984819604257049': ['9', CallNode(function='Converter.convert', type_params={'T': DeclaredTypeInstance(type='NDArray', params=None)}, args=['9150897915988383230'], kwargs=None)], '-79505059901803467': ['12', CallNode(function='Maybe.__and__', type_params={'T': DeclaredTypeInstance(type='NDArray', params=None)}, args=['6826984819604257049', '6820439686346850893'], kwargs=None)], '-9221937419287907784': ['15', CallNode(function='Maybe.map', type_params={'T': DeclaredTypeInstance(type='Pair', params={'U': DeclaredTypeInstance(type='Either', params={'U': DeclaredTypeInstance(type='Vec', params={'T': DeclaredTypeInstance(type='Integer', params=None)}), 'T': DeclaredTypeInstance(type='Integer', params=None)}), 'T': DeclaredTypeInstance(type='NDArray', params=None)})}, args=['-79505059901803467', '-3443200128248678850'], kwargs=None)], '-8980817372757219040': ['4', CallNode(function='NDArrayCompat.from_ndarray', type_params=None, args=['-9221937419287907784'], kwargs=None)], '5309898173126207136': ['5', CallNode(function='NDArrayCompat.to_ndarray', type_params=None, args=['-8980817372757219040'], kwargs=None)]}, states=States(initial='9164808068233093317', states=[State(node='1178942236789801586', rule='metadsl_core.numpy.NDArrayCompat.__getitem__', label=None), State(node='-5225951241959155302', rule='metadsl_core.either.convert_to_either', label=None), State(node='1509044938083706006', rule='metadsl_core.integer.convert_integer', label=None), State(node='6237352137004326912', rule='metadsl_core.numpy.arange', label=None), State(node='5309898173126207136', rule='metadsl_core.integer.convert_integer', label=None)]))"
      ]
     },
     "metadata": {},
     "output_type": "display_data"
    },
    {
     "ename": "TypeError",
     "evalue": "'PlaceholderExpression' object is not subscriptable",
     "output_type": "error",
     "traceback": [
      "\u001b[0;31m---------------------------------------------------------------------------\u001b[0m",
      "\u001b[0;31mTypeError\u001b[0m                                 Traceback (most recent call last)",
      "\u001b[0;32m/usr/local/miniconda3/envs/metadsl/lib/python3.7/site-packages/IPython/core/formatters.py\u001b[0m in \u001b[0;36m__call__\u001b[0;34m(self, obj)\u001b[0m\n\u001b[1;32m    916\u001b[0m             \u001b[0mmethod\u001b[0m \u001b[0;34m=\u001b[0m \u001b[0mget_real_method\u001b[0m\u001b[0;34m(\u001b[0m\u001b[0mobj\u001b[0m\u001b[0;34m,\u001b[0m \u001b[0mself\u001b[0m\u001b[0;34m.\u001b[0m\u001b[0mprint_method\u001b[0m\u001b[0;34m)\u001b[0m\u001b[0;34m\u001b[0m\u001b[0;34m\u001b[0m\u001b[0m\n\u001b[1;32m    917\u001b[0m             \u001b[0;32mif\u001b[0m \u001b[0mmethod\u001b[0m \u001b[0;32mis\u001b[0m \u001b[0;32mnot\u001b[0m \u001b[0;32mNone\u001b[0m\u001b[0;34m:\u001b[0m\u001b[0;34m\u001b[0m\u001b[0;34m\u001b[0m\u001b[0m\n\u001b[0;32m--> 918\u001b[0;31m                 \u001b[0mmethod\u001b[0m\u001b[0;34m(\u001b[0m\u001b[0;34m)\u001b[0m\u001b[0;34m\u001b[0m\u001b[0;34m\u001b[0m\u001b[0m\n\u001b[0m\u001b[1;32m    919\u001b[0m                 \u001b[0;32mreturn\u001b[0m \u001b[0;32mTrue\u001b[0m\u001b[0;34m\u001b[0m\u001b[0;34m\u001b[0m\u001b[0m\n\u001b[1;32m    920\u001b[0m \u001b[0;34m\u001b[0m\u001b[0m\n",
      "\u001b[0;32m~/p/metadsl/metadsl_visualize/visualize.py\u001b[0m in \u001b[0;36m_expression_ipython_display\u001b[0;34m(self)\u001b[0m\n\u001b[1;32m     35\u001b[0m \u001b[0;34m\u001b[0m\u001b[0m\n\u001b[1;32m     36\u001b[0m \u001b[0;32mdef\u001b[0m \u001b[0m_expression_ipython_display\u001b[0m\u001b[0;34m(\u001b[0m\u001b[0mself\u001b[0m\u001b[0;34m)\u001b[0m\u001b[0;34m:\u001b[0m\u001b[0;34m\u001b[0m\u001b[0;34m\u001b[0m\u001b[0m\n\u001b[0;32m---> 37\u001b[0;31m     \u001b[0mres\u001b[0m \u001b[0;34m=\u001b[0m \u001b[0mexecute\u001b[0m\u001b[0;34m(\u001b[0m\u001b[0mself\u001b[0m\u001b[0;34m)\u001b[0m\u001b[0;34m\u001b[0m\u001b[0;34m\u001b[0m\u001b[0m\n\u001b[0m\u001b[1;32m     38\u001b[0m     \u001b[0;31m# Only display result if we get back a non expression object\u001b[0m\u001b[0;34m\u001b[0m\u001b[0;34m\u001b[0m\u001b[0;34m\u001b[0m\u001b[0m\n\u001b[1;32m     39\u001b[0m     \u001b[0;32mif\u001b[0m \u001b[0;32mnot\u001b[0m \u001b[0misinstance\u001b[0m\u001b[0;34m(\u001b[0m\u001b[0mres\u001b[0m\u001b[0;34m,\u001b[0m \u001b[0mExpression\u001b[0m\u001b[0;34m)\u001b[0m\u001b[0;34m:\u001b[0m\u001b[0;34m\u001b[0m\u001b[0;34m\u001b[0m\u001b[0m\n",
      "\u001b[0;32m~/p/metadsl/metadsl/rules.py\u001b[0m in \u001b[0;36m__call__\u001b[0;34m(self, expr, rule)\u001b[0m\n\u001b[1;32m     65\u001b[0m             \u001b[0mT\u001b[0m\u001b[0;34m,\u001b[0m\u001b[0;34m\u001b[0m\u001b[0;34m\u001b[0m\u001b[0m\n\u001b[1;32m     66\u001b[0m             execute(\n\u001b[0;32m---> 67\u001b[0;31m                 \u001b[0mExpressionReference\u001b[0m\u001b[0;34m.\u001b[0m\u001b[0mfrom_expression\u001b[0m\u001b[0;34m(\u001b[0m\u001b[0mExpressionFolder\u001b[0m\u001b[0;34m(\u001b[0m\u001b[0;34m)\u001b[0m\u001b[0;34m(\u001b[0m\u001b[0mexpr\u001b[0m\u001b[0;34m)\u001b[0m\u001b[0;34m)\u001b[0m\u001b[0;34m,\u001b[0m \u001b[0mrule\u001b[0m\u001b[0;34m\u001b[0m\u001b[0;34m\u001b[0m\u001b[0m\n\u001b[0m\u001b[1;32m     68\u001b[0m             ),\n\u001b[1;32m     69\u001b[0m         )\n",
      "\u001b[0;32m~/p/metadsl/metadsl_visualize/visualize.py\u001b[0m in \u001b[0;36mexecute_and_visualize\u001b[0;34m(ref, rule)\u001b[0m\n\u001b[1;32m     19\u001b[0m     \u001b[0mIPython\u001b[0m\u001b[0;34m.\u001b[0m\u001b[0mcore\u001b[0m\u001b[0;34m.\u001b[0m\u001b[0mdisplay\u001b[0m\u001b[0;34m.\u001b[0m\u001b[0mdisplay\u001b[0m\u001b[0;34m(\u001b[0m\u001b[0mexpression_display\u001b[0m\u001b[0;34m)\u001b[0m\u001b[0;34m\u001b[0m\u001b[0;34m\u001b[0m\u001b[0m\n\u001b[1;32m     20\u001b[0m     \u001b[0;31m# Update the typez display as we execute the rules\u001b[0m\u001b[0;34m\u001b[0m\u001b[0;34m\u001b[0m\u001b[0;34m\u001b[0m\u001b[0m\n\u001b[0;32m---> 21\u001b[0;31m     \u001b[0;32mfor\u001b[0m \u001b[0mreplacement\u001b[0m \u001b[0;32min\u001b[0m \u001b[0mrule\u001b[0m\u001b[0;34m(\u001b[0m\u001b[0mref\u001b[0m\u001b[0;34m)\u001b[0m\u001b[0;34m:\u001b[0m\u001b[0;34m\u001b[0m\u001b[0;34m\u001b[0m\u001b[0m\n\u001b[0m\u001b[1;32m     22\u001b[0m         \u001b[0mexpression_display\u001b[0m\u001b[0;34m.\u001b[0m\u001b[0mupdate\u001b[0m\u001b[0;34m(\u001b[0m\u001b[0mreplacement\u001b[0m\u001b[0;34m.\u001b[0m\u001b[0mrule\u001b[0m\u001b[0;34m,\u001b[0m \u001b[0mreplacement\u001b[0m\u001b[0;34m.\u001b[0m\u001b[0mlabel\u001b[0m\u001b[0;34m)\u001b[0m\u001b[0;34m\u001b[0m\u001b[0;34m\u001b[0m\u001b[0m\n\u001b[1;32m     23\u001b[0m     \u001b[0;32mreturn\u001b[0m \u001b[0mref\u001b[0m\u001b[0;34m.\u001b[0m\u001b[0mnormalized_expression\u001b[0m\u001b[0;34m.\u001b[0m\u001b[0mvalue\u001b[0m\u001b[0;34m\u001b[0m\u001b[0;34m\u001b[0m\u001b[0m\n",
      "\u001b[0;32m~/p/metadsl/metadsl/rules.py\u001b[0m in \u001b[0;36m__call__\u001b[0;34m(self, expr)\u001b[0m\n\u001b[1;32m    255\u001b[0m         \u001b[0;32mfor\u001b[0m \u001b[0mi\u001b[0m \u001b[0;32min\u001b[0m \u001b[0mrange\u001b[0m\u001b[0;34m(\u001b[0m\u001b[0mself\u001b[0m\u001b[0;34m.\u001b[0m\u001b[0mmax_calls\u001b[0m\u001b[0;34m)\u001b[0m\u001b[0;34m:\u001b[0m\u001b[0;34m\u001b[0m\u001b[0;34m\u001b[0m\u001b[0m\n\u001b[1;32m    256\u001b[0m             \u001b[0mreplaced\u001b[0m \u001b[0;34m=\u001b[0m \u001b[0;32mFalse\u001b[0m\u001b[0;34m\u001b[0m\u001b[0;34m\u001b[0m\u001b[0m\n\u001b[0;32m--> 257\u001b[0;31m             \u001b[0;32mfor\u001b[0m \u001b[0mreplacement\u001b[0m \u001b[0;32min\u001b[0m \u001b[0mrule\u001b[0m\u001b[0;34m(\u001b[0m\u001b[0mexpr\u001b[0m\u001b[0;34m)\u001b[0m\u001b[0;34m:\u001b[0m\u001b[0;34m\u001b[0m\u001b[0;34m\u001b[0m\u001b[0m\n\u001b[0m\u001b[1;32m    258\u001b[0m                 \u001b[0mreplaced\u001b[0m \u001b[0;34m=\u001b[0m \u001b[0;32mTrue\u001b[0m\u001b[0;34m\u001b[0m\u001b[0;34m\u001b[0m\u001b[0m\n\u001b[1;32m    259\u001b[0m                 \u001b[0;32myield\u001b[0m \u001b[0mreplacement\u001b[0m\u001b[0;34m\u001b[0m\u001b[0;34m\u001b[0m\u001b[0m\n",
      "\u001b[0;32m~/p/metadsl/metadsl/rules.py\u001b[0m in \u001b[0;36m__call__\u001b[0;34m(self, expr)\u001b[0m\n\u001b[1;32m    217\u001b[0m         \u001b[0;32mfor\u001b[0m \u001b[0mrule\u001b[0m \u001b[0;32min\u001b[0m \u001b[0mself\u001b[0m\u001b[0;34m.\u001b[0m\u001b[0mrules\u001b[0m\u001b[0;34m:\u001b[0m\u001b[0;34m\u001b[0m\u001b[0;34m\u001b[0m\u001b[0m\n\u001b[1;32m    218\u001b[0m             \u001b[0mreplacement\u001b[0m \u001b[0;34m=\u001b[0m \u001b[0;32mNone\u001b[0m\u001b[0;34m\u001b[0m\u001b[0;34m\u001b[0m\u001b[0m\n\u001b[0;32m--> 219\u001b[0;31m             \u001b[0;32mfor\u001b[0m \u001b[0mreplacement\u001b[0m \u001b[0;32min\u001b[0m \u001b[0mrule\u001b[0m\u001b[0;34m(\u001b[0m\u001b[0mexpr\u001b[0m\u001b[0;34m)\u001b[0m\u001b[0;34m:\u001b[0m\u001b[0;34m\u001b[0m\u001b[0;34m\u001b[0m\u001b[0m\n\u001b[0m\u001b[1;32m    220\u001b[0m                 \u001b[0;32myield\u001b[0m \u001b[0mreplacement\u001b[0m\u001b[0;34m\u001b[0m\u001b[0;34m\u001b[0m\u001b[0m\n\u001b[1;32m    221\u001b[0m             \u001b[0;32mif\u001b[0m \u001b[0mreplacement\u001b[0m\u001b[0;34m:\u001b[0m\u001b[0;34m\u001b[0m\u001b[0;34m\u001b[0m\u001b[0m\n",
      "\u001b[0;32m~/p/metadsl/metadsl/rules.py\u001b[0m in \u001b[0;36m__call__\u001b[0;34m(self, expr)\u001b[0m\n\u001b[1;32m    202\u001b[0m     \u001b[0;32mdef\u001b[0m \u001b[0m__call__\u001b[0m\u001b[0;34m(\u001b[0m\u001b[0mself\u001b[0m\u001b[0;34m,\u001b[0m \u001b[0mexpr\u001b[0m\u001b[0;34m:\u001b[0m \u001b[0mExpressionReference\u001b[0m\u001b[0;34m)\u001b[0m \u001b[0;34m->\u001b[0m \u001b[0mtyping\u001b[0m\u001b[0;34m.\u001b[0m\u001b[0mIterable\u001b[0m\u001b[0;34m[\u001b[0m\u001b[0mReplacement\u001b[0m\u001b[0;34m]\u001b[0m\u001b[0;34m:\u001b[0m\u001b[0;34m\u001b[0m\u001b[0;34m\u001b[0m\u001b[0m\n\u001b[1;32m    203\u001b[0m         \u001b[0;32mfor\u001b[0m \u001b[0mrule\u001b[0m \u001b[0;32min\u001b[0m \u001b[0mself\u001b[0m\u001b[0;34m.\u001b[0m\u001b[0mrules\u001b[0m\u001b[0;34m:\u001b[0m\u001b[0;34m\u001b[0m\u001b[0;34m\u001b[0m\u001b[0m\n\u001b[0;32m--> 204\u001b[0;31m             \u001b[0;32mfor\u001b[0m \u001b[0mreplacement\u001b[0m \u001b[0;32min\u001b[0m \u001b[0mrule\u001b[0m\u001b[0;34m(\u001b[0m\u001b[0mexpr\u001b[0m\u001b[0;34m)\u001b[0m\u001b[0;34m:\u001b[0m\u001b[0;34m\u001b[0m\u001b[0;34m\u001b[0m\u001b[0m\n\u001b[0m\u001b[1;32m    205\u001b[0m                 \u001b[0;32myield\u001b[0m \u001b[0mreplacement\u001b[0m\u001b[0;34m\u001b[0m\u001b[0;34m\u001b[0m\u001b[0m\n\u001b[1;32m    206\u001b[0m \u001b[0;34m\u001b[0m\u001b[0m\n",
      "\u001b[0;32m~/p/metadsl/metadsl/rules.py\u001b[0m in \u001b[0;36m__call__\u001b[0;34m(self, expr)\u001b[0m\n\u001b[1;32m     99\u001b[0m     \u001b[0;32mdef\u001b[0m \u001b[0m__call__\u001b[0m\u001b[0;34m(\u001b[0m\u001b[0mself\u001b[0m\u001b[0;34m,\u001b[0m \u001b[0mexpr\u001b[0m\u001b[0;34m:\u001b[0m \u001b[0mExpressionReference\u001b[0m\u001b[0;34m)\u001b[0m \u001b[0;34m->\u001b[0m \u001b[0mtyping\u001b[0m\u001b[0;34m.\u001b[0m\u001b[0mIterable\u001b[0m\u001b[0;34m[\u001b[0m\u001b[0mReplacement\u001b[0m\u001b[0;34m]\u001b[0m\u001b[0;34m:\u001b[0m\u001b[0;34m\u001b[0m\u001b[0;34m\u001b[0m\u001b[0m\n\u001b[1;32m    100\u001b[0m         \u001b[0mreplacement\u001b[0m \u001b[0;34m=\u001b[0m \u001b[0;32mNone\u001b[0m\u001b[0;34m\u001b[0m\u001b[0;34m\u001b[0m\u001b[0m\n\u001b[0;32m--> 101\u001b[0;31m         \u001b[0;32mfor\u001b[0m \u001b[0mreplacement\u001b[0m \u001b[0;32min\u001b[0m \u001b[0mself\u001b[0m\u001b[0;34m.\u001b[0m\u001b[0mrule\u001b[0m\u001b[0;34m(\u001b[0m\u001b[0mexpr\u001b[0m\u001b[0;34m)\u001b[0m\u001b[0;34m:\u001b[0m  \u001b[0;31m# type: ignore\u001b[0m\u001b[0;34m\u001b[0m\u001b[0;34m\u001b[0m\u001b[0m\n\u001b[0m\u001b[1;32m    102\u001b[0m             \u001b[0;32myield\u001b[0m \u001b[0mreplacement\u001b[0m\u001b[0;34m\u001b[0m\u001b[0;34m\u001b[0m\u001b[0m\n\u001b[1;32m    103\u001b[0m         \u001b[0;32mif\u001b[0m \u001b[0mreplacement\u001b[0m\u001b[0;34m:\u001b[0m\u001b[0;34m\u001b[0m\u001b[0;34m\u001b[0m\u001b[0m\n",
      "\u001b[0;32m~/p/metadsl/metadsl/rules.py\u001b[0m in \u001b[0;36m__call__\u001b[0;34m(self, expr)\u001b[0m\n\u001b[1;32m    255\u001b[0m         \u001b[0;32mfor\u001b[0m \u001b[0mi\u001b[0m \u001b[0;32min\u001b[0m \u001b[0mrange\u001b[0m\u001b[0;34m(\u001b[0m\u001b[0mself\u001b[0m\u001b[0;34m.\u001b[0m\u001b[0mmax_calls\u001b[0m\u001b[0;34m)\u001b[0m\u001b[0;34m:\u001b[0m\u001b[0;34m\u001b[0m\u001b[0;34m\u001b[0m\u001b[0m\n\u001b[1;32m    256\u001b[0m             \u001b[0mreplaced\u001b[0m \u001b[0;34m=\u001b[0m \u001b[0;32mFalse\u001b[0m\u001b[0;34m\u001b[0m\u001b[0;34m\u001b[0m\u001b[0m\n\u001b[0;32m--> 257\u001b[0;31m             \u001b[0;32mfor\u001b[0m \u001b[0mreplacement\u001b[0m \u001b[0;32min\u001b[0m \u001b[0mrule\u001b[0m\u001b[0;34m(\u001b[0m\u001b[0mexpr\u001b[0m\u001b[0;34m)\u001b[0m\u001b[0;34m:\u001b[0m\u001b[0;34m\u001b[0m\u001b[0;34m\u001b[0m\u001b[0m\n\u001b[0m\u001b[1;32m    258\u001b[0m                 \u001b[0mreplaced\u001b[0m \u001b[0;34m=\u001b[0m \u001b[0;32mTrue\u001b[0m\u001b[0;34m\u001b[0m\u001b[0;34m\u001b[0m\u001b[0m\n\u001b[1;32m    259\u001b[0m                 \u001b[0;32myield\u001b[0m \u001b[0mreplacement\u001b[0m\u001b[0;34m\u001b[0m\u001b[0;34m\u001b[0m\u001b[0m\n",
      "\u001b[0;32m~/p/metadsl/metadsl/rules.py\u001b[0m in \u001b[0;36m__call__\u001b[0;34m(self, expr)\u001b[0m\n\u001b[1;32m    217\u001b[0m         \u001b[0;32mfor\u001b[0m \u001b[0mrule\u001b[0m \u001b[0;32min\u001b[0m \u001b[0mself\u001b[0m\u001b[0;34m.\u001b[0m\u001b[0mrules\u001b[0m\u001b[0;34m:\u001b[0m\u001b[0;34m\u001b[0m\u001b[0;34m\u001b[0m\u001b[0m\n\u001b[1;32m    218\u001b[0m             \u001b[0mreplacement\u001b[0m \u001b[0;34m=\u001b[0m \u001b[0;32mNone\u001b[0m\u001b[0;34m\u001b[0m\u001b[0;34m\u001b[0m\u001b[0m\n\u001b[0;32m--> 219\u001b[0;31m             \u001b[0;32mfor\u001b[0m \u001b[0mreplacement\u001b[0m \u001b[0;32min\u001b[0m \u001b[0mrule\u001b[0m\u001b[0;34m(\u001b[0m\u001b[0mexpr\u001b[0m\u001b[0;34m)\u001b[0m\u001b[0;34m:\u001b[0m\u001b[0;34m\u001b[0m\u001b[0;34m\u001b[0m\u001b[0m\n\u001b[0m\u001b[1;32m    220\u001b[0m                 \u001b[0;32myield\u001b[0m \u001b[0mreplacement\u001b[0m\u001b[0;34m\u001b[0m\u001b[0;34m\u001b[0m\u001b[0m\n\u001b[1;32m    221\u001b[0m             \u001b[0;32mif\u001b[0m \u001b[0mreplacement\u001b[0m\u001b[0;34m:\u001b[0m\u001b[0;34m\u001b[0m\u001b[0;34m\u001b[0m\u001b[0m\n",
      "\u001b[0;32m~/p/metadsl/metadsl/rules.py\u001b[0m in \u001b[0;36m__call__\u001b[0;34m(self, expr)\u001b[0m\n\u001b[1;32m    255\u001b[0m         \u001b[0;32mfor\u001b[0m \u001b[0mi\u001b[0m \u001b[0;32min\u001b[0m \u001b[0mrange\u001b[0m\u001b[0;34m(\u001b[0m\u001b[0mself\u001b[0m\u001b[0;34m.\u001b[0m\u001b[0mmax_calls\u001b[0m\u001b[0;34m)\u001b[0m\u001b[0;34m:\u001b[0m\u001b[0;34m\u001b[0m\u001b[0;34m\u001b[0m\u001b[0m\n\u001b[1;32m    256\u001b[0m             \u001b[0mreplaced\u001b[0m \u001b[0;34m=\u001b[0m \u001b[0;32mFalse\u001b[0m\u001b[0;34m\u001b[0m\u001b[0;34m\u001b[0m\u001b[0m\n\u001b[0;32m--> 257\u001b[0;31m             \u001b[0;32mfor\u001b[0m \u001b[0mreplacement\u001b[0m \u001b[0;32min\u001b[0m \u001b[0mrule\u001b[0m\u001b[0;34m(\u001b[0m\u001b[0mexpr\u001b[0m\u001b[0;34m)\u001b[0m\u001b[0;34m:\u001b[0m\u001b[0;34m\u001b[0m\u001b[0;34m\u001b[0m\u001b[0m\n\u001b[0m\u001b[1;32m    258\u001b[0m                 \u001b[0mreplaced\u001b[0m \u001b[0;34m=\u001b[0m \u001b[0;32mTrue\u001b[0m\u001b[0;34m\u001b[0m\u001b[0;34m\u001b[0m\u001b[0m\n\u001b[1;32m    259\u001b[0m                 \u001b[0;32myield\u001b[0m \u001b[0mreplacement\u001b[0m\u001b[0;34m\u001b[0m\u001b[0;34m\u001b[0m\u001b[0m\n",
      "\u001b[0;32m~/p/metadsl/metadsl/rules.py\u001b[0m in \u001b[0;36m__call__\u001b[0;34m(self, expr)\u001b[0m\n\u001b[1;32m    235\u001b[0m         \u001b[0mrule\u001b[0m\u001b[0;34m:\u001b[0m \u001b[0mRule\u001b[0m \u001b[0;34m=\u001b[0m \u001b[0mself\u001b[0m\u001b[0;34m.\u001b[0m\u001b[0mrule\u001b[0m  \u001b[0;31m# type: ignore\u001b[0m\u001b[0;34m\u001b[0m\u001b[0;34m\u001b[0m\u001b[0m\n\u001b[1;32m    236\u001b[0m         \u001b[0;32mfor\u001b[0m \u001b[0mchild_ref\u001b[0m \u001b[0;32min\u001b[0m \u001b[0mexpr\u001b[0m\u001b[0;34m.\u001b[0m\u001b[0mchildren\u001b[0m\u001b[0;34m:\u001b[0m\u001b[0;34m\u001b[0m\u001b[0;34m\u001b[0m\u001b[0m\n\u001b[0;32m--> 237\u001b[0;31m             \u001b[0;32mfor\u001b[0m \u001b[0mreplacement\u001b[0m \u001b[0;32min\u001b[0m \u001b[0mrule\u001b[0m\u001b[0;34m(\u001b[0m\u001b[0mchild_ref\u001b[0m\u001b[0;34m)\u001b[0m\u001b[0;34m:\u001b[0m\u001b[0;34m\u001b[0m\u001b[0;34m\u001b[0m\u001b[0m\n\u001b[0m\u001b[1;32m    238\u001b[0m                 \u001b[0;32myield\u001b[0m \u001b[0mreplacement\u001b[0m\u001b[0;34m\u001b[0m\u001b[0;34m\u001b[0m\u001b[0m\n\u001b[1;32m    239\u001b[0m                 \u001b[0;32mreturn\u001b[0m\u001b[0;34m\u001b[0m\u001b[0;34m\u001b[0m\u001b[0m\n",
      "\u001b[0;32m~/p/metadsl/metadsl/rules.py\u001b[0m in \u001b[0;36m__call__\u001b[0;34m(self, expr)\u001b[0m\n\u001b[1;32m    217\u001b[0m         \u001b[0;32mfor\u001b[0m \u001b[0mrule\u001b[0m \u001b[0;32min\u001b[0m \u001b[0mself\u001b[0m\u001b[0;34m.\u001b[0m\u001b[0mrules\u001b[0m\u001b[0;34m:\u001b[0m\u001b[0;34m\u001b[0m\u001b[0;34m\u001b[0m\u001b[0m\n\u001b[1;32m    218\u001b[0m             \u001b[0mreplacement\u001b[0m \u001b[0;34m=\u001b[0m \u001b[0;32mNone\u001b[0m\u001b[0;34m\u001b[0m\u001b[0;34m\u001b[0m\u001b[0m\n\u001b[0;32m--> 219\u001b[0;31m             \u001b[0;32mfor\u001b[0m \u001b[0mreplacement\u001b[0m \u001b[0;32min\u001b[0m \u001b[0mrule\u001b[0m\u001b[0;34m(\u001b[0m\u001b[0mexpr\u001b[0m\u001b[0;34m)\u001b[0m\u001b[0;34m:\u001b[0m\u001b[0;34m\u001b[0m\u001b[0;34m\u001b[0m\u001b[0m\n\u001b[0m\u001b[1;32m    220\u001b[0m                 \u001b[0;32myield\u001b[0m \u001b[0mreplacement\u001b[0m\u001b[0;34m\u001b[0m\u001b[0;34m\u001b[0m\u001b[0m\n\u001b[1;32m    221\u001b[0m             \u001b[0;32mif\u001b[0m \u001b[0mreplacement\u001b[0m\u001b[0;34m:\u001b[0m\u001b[0;34m\u001b[0m\u001b[0;34m\u001b[0m\u001b[0m\n",
      "\u001b[0;32m~/p/metadsl/metadsl/matching.py\u001b[0m in \u001b[0;36m__call__\u001b[0;34m(self, ref)\u001b[0m\n\u001b[1;32m    111\u001b[0m             \u001b[0;32mreturn\u001b[0m \u001b[0;32mNone\u001b[0m\u001b[0;34m\u001b[0m\u001b[0;34m\u001b[0m\u001b[0m\n\u001b[1;32m    112\u001b[0m         \u001b[0;32mwith\u001b[0m \u001b[0mTypeVarScope\u001b[0m\u001b[0;34m(\u001b[0m\u001b[0;34m*\u001b[0m\u001b[0mtypevars\u001b[0m\u001b[0;34m.\u001b[0m\u001b[0mkeys\u001b[0m\u001b[0;34m(\u001b[0m\u001b[0;34m)\u001b[0m\u001b[0;34m)\u001b[0m\u001b[0;34m:\u001b[0m\u001b[0;34m\u001b[0m\u001b[0;34m\u001b[0m\u001b[0m\n\u001b[0;32m--> 113\u001b[0;31m             \u001b[0mnew_expr\u001b[0m \u001b[0;34m=\u001b[0m \u001b[0mself\u001b[0m\u001b[0;34m.\u001b[0m\u001b[0minner_fn\u001b[0m\u001b[0;34m(\u001b[0m\u001b[0;34m*\u001b[0m\u001b[0margs\u001b[0m\u001b[0;34m,\u001b[0m \u001b[0;34m**\u001b[0m\u001b[0mexpr\u001b[0m\u001b[0;34m.\u001b[0m\u001b[0mkwargs\u001b[0m\u001b[0;34m)\u001b[0m\u001b[0;34m\u001b[0m\u001b[0;34m\u001b[0m\u001b[0m\n\u001b[0m\u001b[1;32m    114\u001b[0m             \u001b[0mresult\u001b[0m \u001b[0;34m=\u001b[0m \u001b[0mreplace_typevars_expression\u001b[0m\u001b[0;34m(\u001b[0m\u001b[0mnew_expr\u001b[0m\u001b[0;34m,\u001b[0m \u001b[0mtypevars\u001b[0m\u001b[0;34m)\u001b[0m\u001b[0;34m\u001b[0m\u001b[0;34m\u001b[0m\u001b[0m\n\u001b[1;32m    115\u001b[0m         \u001b[0mref\u001b[0m\u001b[0;34m.\u001b[0m\u001b[0mreplace\u001b[0m\u001b[0;34m(\u001b[0m\u001b[0mresult\u001b[0m\u001b[0;34m)\u001b[0m\u001b[0;34m\u001b[0m\u001b[0;34m\u001b[0m\u001b[0m\n",
      "\u001b[0;32m~/p/metadsl/metadsl_core/abstraction.py\u001b[0m in \u001b[0;36mfrom_fn\u001b[0;34m(cls, fn)\u001b[0m\n\u001b[1;32m     42\u001b[0m     \u001b[0;32mdef\u001b[0m \u001b[0mfrom_fn\u001b[0m\u001b[0;34m(\u001b[0m\u001b[0mcls\u001b[0m\u001b[0;34m,\u001b[0m \u001b[0mfn\u001b[0m\u001b[0;34m:\u001b[0m \u001b[0mtyping\u001b[0m\u001b[0;34m.\u001b[0m\u001b[0mCallable\u001b[0m\u001b[0;34m[\u001b[0m\u001b[0;34m[\u001b[0m\u001b[0mT\u001b[0m\u001b[0;34m]\u001b[0m\u001b[0;34m,\u001b[0m \u001b[0mU\u001b[0m\u001b[0;34m]\u001b[0m\u001b[0;34m)\u001b[0m \u001b[0;34m->\u001b[0m \u001b[0mAbstraction\u001b[0m\u001b[0;34m[\u001b[0m\u001b[0mT\u001b[0m\u001b[0;34m,\u001b[0m \u001b[0mU\u001b[0m\u001b[0;34m]\u001b[0m\u001b[0;34m:\u001b[0m\u001b[0;34m\u001b[0m\u001b[0;34m\u001b[0m\u001b[0m\n\u001b[1;32m     43\u001b[0m         \u001b[0mv\u001b[0m\u001b[0;34m:\u001b[0m \u001b[0mT\u001b[0m \u001b[0;34m=\u001b[0m \u001b[0mcls\u001b[0m\u001b[0;34m.\u001b[0m\u001b[0mcreate_variable\u001b[0m\u001b[0;34m(\u001b[0m\u001b[0mVariable\u001b[0m\u001b[0;34m(\u001b[0m\u001b[0;34m)\u001b[0m\u001b[0;34m)\u001b[0m\u001b[0;34m\u001b[0m\u001b[0;34m\u001b[0m\u001b[0m\n\u001b[0;32m---> 44\u001b[0;31m         \u001b[0;32mreturn\u001b[0m \u001b[0mcls\u001b[0m\u001b[0;34m.\u001b[0m\u001b[0mcreate\u001b[0m\u001b[0;34m(\u001b[0m\u001b[0mv\u001b[0m\u001b[0;34m,\u001b[0m \u001b[0mfn\u001b[0m\u001b[0;34m(\u001b[0m\u001b[0mv\u001b[0m\u001b[0;34m)\u001b[0m\u001b[0;34m)\u001b[0m\u001b[0;34m\u001b[0m\u001b[0;34m\u001b[0m\u001b[0m\n\u001b[0m\u001b[1;32m     45\u001b[0m \u001b[0;34m\u001b[0m\u001b[0m\n\u001b[1;32m     46\u001b[0m     \u001b[0;34m@\u001b[0m\u001b[0mexpression\u001b[0m\u001b[0;34m\u001b[0m\u001b[0;34m\u001b[0m\u001b[0m\n",
      "\u001b[0;32m~/p/metadsl/metadsl_core/numpy.py\u001b[0m in \u001b[0;36m<lambda>\u001b[0;34m(p)\u001b[0m\n\u001b[1;32m    111\u001b[0m                 Abstraction[\n\u001b[1;32m    112\u001b[0m                     \u001b[0mPair\u001b[0m\u001b[0;34m[\u001b[0m\u001b[0mNDArray\u001b[0m\u001b[0;34m,\u001b[0m \u001b[0mEither\u001b[0m\u001b[0;34m[\u001b[0m\u001b[0mInteger\u001b[0m\u001b[0;34m,\u001b[0m \u001b[0mVec\u001b[0m\u001b[0;34m[\u001b[0m\u001b[0mInteger\u001b[0m\u001b[0;34m]\u001b[0m\u001b[0;34m]\u001b[0m\u001b[0;34m]\u001b[0m\u001b[0;34m,\u001b[0m \u001b[0mNDArray\u001b[0m\u001b[0;34m\u001b[0m\u001b[0;34m\u001b[0m\u001b[0m\n\u001b[0;32m--> 113\u001b[0;31m                 ].from_fn(lambda p: p.left[p.right])\n\u001b[0m\u001b[1;32m    114\u001b[0m             )\n\u001b[1;32m    115\u001b[0m         )\n",
      "\u001b[0;31mTypeError\u001b[0m: 'PlaceholderExpression' object is not subscriptable"
     ]
    },
    {
     "data": {
      "text/plain": [
       "metadsl.expressions.PlaceholderExpression[numpy.ndarray](NDArrayCompat.to_ndarray, [<class 'metadsl_core.numpy.NDArrayCompat'>(NDArrayCompat.__getitem__, [<class 'metadsl_core.numpy.NDArrayCompat'>(NDArrayCompat.__add__, [<class 'metadsl_core.numpy.NDArrayCompat'>(arange, [100], {}), <class 'metadsl_core.numpy.NDArrayCompat'>(arange, [100], {})], {}), 5], {})], {})"
      ]
     },
     "execution_count": 6,
     "metadata": {},
     "output_type": "execute_result"
    }
   ],
   "source": [
    "N = 100\n",
    "expr = (arange(N) + arange(N))[5].to_ndarray()\n",
    "expr"
   ]
  },
  {
   "cell_type": "markdown",
   "metadata": {},
   "source": [
    "Now, we can add an optimization replacement, so that we do the getitem before adding the two expressions:"
   ]
  },
  {
   "cell_type": "code",
   "execution_count": 7,
   "metadata": {},
   "outputs": [],
   "source": [
    "@register_optimize\n",
    "@rule\n",
    "def optimize_getitem_add(l: NDArray, r: NDArray, idx: IndxType) -> R[NDArray]:\n",
    "    return (\n",
    "        # expression to match against\n",
    "        (l + r)[idx],\n",
    "        # expression to replace it with\n",
    "        l[idx] + r[idx]\n",
    "    )"
   ]
  },
  {
   "cell_type": "markdown",
   "metadata": {},
   "source": [
    "Now, when we look at the execution steps, we see that it is doing each getitem before adding, which should be more efficient:"
   ]
  },
  {
   "cell_type": "code",
   "execution_count": 8,
   "metadata": {},
   "outputs": [
    {
     "data": {
      "application/x.typez+json": {
       "nodes": {
        "-1827217823156436851": [
         "19",
         {
          "args": [
           "7476356222416889263"
          ],
          "function": "Abstraction.from_fn"
         }
        ],
        "-1832517680491031858": [
         "13",
         {
          "repr": "<function NDArrayCompat.__getitem__.<locals>.<lambda> at 0x1178c5a60>",
          "type": "function"
         }
        ],
        "-229788817828368262": [
         "12",
         {
          "args": [
           "1768451678476953200",
           "6820439686346850893"
          ],
          "function": "Maybe.__and__",
          "type_params": {
           "T": {
            "type": "NDArray"
           }
          }
         }
        ],
        "-2642428384510993722": [
         "31",
         {
          "args": [
           "6599955193481781126",
           "-7605111911380996177"
          ],
          "function": "Maybe.map",
          "type_params": {
           "T": {
            "type": "Integer"
           }
          }
         }
        ],
        "-3238359975892513989": [
         "4",
         {
          "args": [
           "-3305062326102256645"
          ],
          "function": "NDArrayCompat.from_ndarray"
         }
        ],
        "-3305062326102256645": [
         "15",
         {
          "args": [
           "-6898813609126467610",
           "-5624602393836466635"
          ],
          "function": "Maybe.map",
          "type_params": {
           "T": {
            "params": {
             "T": {
              "type": "NDArray"
             },
             "U": {
              "params": {
               "T": {
                "type": "Integer"
               },
               "U": {
                "params": {
                 "T": {
                  "type": "Integer"
                 }
                },
                "type": "Vec"
               }
              },
              "type": "Either"
             }
            },
            "type": "Pair"
           }
          }
         }
        ],
        "-3696687176312099161": [
         "5",
         {
          "args": [
           "7491852247771629307"
          ],
          "function": "NDArrayCompat.to_ndarray"
         }
        ],
        "-3851797404979949249": [
         "28",
         {
          "args": [
           "3864996844580924190"
          ],
          "function": "Maybe.just"
         }
        ],
        "-413479252060675646": [
         "7",
         {
          "args": [
           "7389996727730567975"
          ],
          "function": "arange"
         }
        ],
        "-4216181913628174564": [
         "4",
         {
          "args": [
           "8628771542974305"
          ],
          "function": "NDArrayCompat.from_ndarray"
         }
        ],
        "-4362328496569185312": [
         "11",
         {
          "args": [
           "7389996727835572900"
          ],
          "function": "Converter.convert",
          "type_params": {
           "T": {
            "params": {
             "T": {
              "type": "Integer"
             },
             "U": {
              "params": {
               "T": {
                "type": "Integer"
               }
              },
              "type": "Vec"
             }
            },
            "type": "Either"
           }
          }
         }
        ],
        "-5201084084172587173": [
         "15",
         {
          "args": [
           "5918583911007421762",
           "-5624602393836466635"
          ],
          "function": "Maybe.map",
          "type_params": {
           "T": {
            "params": {
             "T": {
              "type": "NDArray"
             },
             "U": {
              "params": {
               "T": {
                "type": "Integer"
               },
               "U": {
                "params": {
                 "T": {
                  "type": "Integer"
                 }
                },
                "type": "Vec"
               }
              },
              "type": "Either"
             }
            },
            "type": "Pair"
           }
          }
         }
        ],
        "-5224715452200691213": [
         "5",
         {
          "args": [
           "-3238359975892513989"
          ],
          "function": "NDArrayCompat.to_ndarray"
         }
        ],
        "-5305859151552806603": [
         "11",
         {
          "args": [
           "-8718725701334017582",
           "4809526319858184292"
          ],
          "function": "Maybe.__or__",
          "type_params": {
           "T": {
            "params": {
             "T": {
              "type": "Integer"
             },
             "U": {
              "params": {
               "T": {
                "type": "Integer"
               }
              },
              "type": "Vec"
             }
            },
            "type": "Either"
           }
          }
         }
        ],
        "-5513958925783040194": [
         "9",
         {
          "args": [
           "733488207619754122"
          ],
          "function": "Converter.convert",
          "type_params": {
           "T": {
            "type": "NDArray"
           }
          }
         }
        ],
        "-5624602393836466635": [
         "14",
         {
          "args": [
           "-1832517680491031858"
          ],
          "function": "Abstraction.from_fn",
          "type_params": {
           "T": {
            "params": {
             "T": {
              "type": "NDArray"
             },
             "U": {
              "params": {
               "T": {
                "type": "Integer"
               },
               "U": {
                "params": {
                 "T": {
                  "type": "Integer"
                 }
                },
                "type": "Vec"
               }
              },
              "type": "Either"
             }
            },
            "type": "Pair"
           },
           "U": {
            "type": "NDArray"
           }
          }
         }
        ],
        "-6049250387652173137": [
         "5",
         {
          "args": [
           "5610866722625119716"
          ],
          "function": "NDArrayCompat.to_ndarray"
         }
        ],
        "-6477796972997726603": [
         "17",
         {
          "args": [
           "-6835731452181285361"
          ],
          "function": "Maybe.just"
         }
        ],
        "-6528896986329084548": [
         "21",
         {
          "args": [
           "7389996727835572900"
          ],
          "function": "Converter.convert",
          "type_params": {
           "T": {
            "params": {
             "T": {
              "type": "Integer"
             }
            },
            "type": "Vec"
           }
          }
         }
        ],
        "-6835731452181285361": [
         "26",
         {
          "args": [
           "7389996727835572900"
          ],
          "function": "Integer.from_int"
         }
        ],
        "-6898813609126467610": [
         "12",
         {
          "args": [
           "-5513958925783040194",
           "-4362328496569185312"
          ],
          "function": "Maybe.__and__",
          "type_params": {
           "T": {
            "type": "NDArray"
           }
          }
         }
        ],
        "-7605111911380996177": [
         "30",
         {
          "args": [
           "-7963575565984054101"
          ],
          "function": "Abstraction.from_fn"
         }
        ],
        "-7701873885373101274": [
         "5",
         {
          "args": [
           "-4216181913628174564"
          ],
          "function": "NDArrayCompat.to_ndarray"
         }
        ],
        "-79505059901803467": [
         "12",
         {
          "args": [
           "6826984819604257049",
           "6820439686346850893"
          ],
          "function": "Maybe.__and__",
          "type_params": {
           "T": {
            "type": "NDArray"
           }
          }
         }
        ],
        "-7963575565984054101": [
         "29",
         {
          "repr": "arange_",
          "type": "Infer"
         }
        ],
        "-8718725701334017582": [
         "20",
         {
          "args": [
           "1285411996862869511",
           "-1827217823156436851"
          ],
          "function": "Maybe.map",
          "type_params": {
           "T": {
            "type": "Integer"
           }
          }
         }
        ],
        "-8808036002268108249": [
         "15",
         {
          "args": [
           "6025253264526591254",
           "-5624602393836466635"
          ],
          "function": "Maybe.map",
          "type_params": {
           "T": {
            "params": {
             "T": {
              "type": "NDArray"
             },
             "U": {
              "params": {
               "T": {
                "type": "Integer"
               },
               "U": {
                "params": {
                 "T": {
                  "type": "Integer"
                 }
                },
                "type": "Vec"
               }
              },
              "type": "Either"
             }
            },
            "type": "Pair"
           }
          }
         }
        ],
        "-8906414407874426921": [
         "5",
         {
          "args": [
           "2343634891371020141"
          ],
          "function": "NDArrayCompat.to_ndarray"
         }
        ],
        "1285411996862869511": [
         "17",
         {
          "args": [
           "7389996727835572900"
          ],
          "function": "Converter.convert",
          "type_params": {
           "T": {
            "type": "Integer"
           }
          }
         }
        ],
        "1768451678476953200": [
         "9",
         {
          "args": [
           "5448386493881996042"
          ],
          "function": "Converter.convert",
          "type_params": {
           "T": {
            "type": "NDArray"
           }
          }
         }
        ],
        "2316514055479206262": [
         "20",
         {
          "args": [
           "-6477796972997726603",
           "-1827217823156436851"
          ],
          "function": "Maybe.map",
          "type_params": {
           "T": {
            "type": "Integer"
           }
          }
         }
        ],
        "2343634891371020141": [
         "4",
         {
          "args": [
           "-8808036002268108249"
          ],
          "function": "NDArrayCompat.from_ndarray"
         }
        ],
        "3864996844580924190": [
         "33",
         {
          "args": [
           "7389996727730567975"
          ],
          "function": "Integer.from_int"
         }
        ],
        "3952127203154401306": [
         "22",
         {
          "repr": "Either.right",
          "type": "BoundInfer"
         }
        ],
        "4084860619863335824": [
         "23",
         {
          "args": [
           "3952127203154401306"
          ],
          "function": "Abstraction.from_fn"
         }
        ],
        "4809526319858184292": [
         "24",
         {
          "args": [
           "-6528896986329084548",
           "4084860619863335824"
          ],
          "function": "Maybe.map",
          "type_params": {
           "T": {
            "params": {
             "T": {
              "type": "Integer"
             }
            },
            "type": "Vec"
           }
          }
         }
        ],
        "5448386493881996042": [
         "8",
         {
          "args": [
           "6155972782134027120",
           "6155972782134027120"
          ],
          "function": "NDArrayCompat.__add__"
         }
        ],
        "5610866722625119716": [
         "4",
         {
          "args": [
           "-5201084084172587173"
          ],
          "function": "NDArrayCompat.from_ndarray"
         }
        ],
        "581323246639478712": [
         "31",
         {
          "args": [
           "-3851797404979949249",
           "-7605111911380996177"
          ],
          "function": "Maybe.map",
          "type_params": {
           "T": {
            "type": "Integer"
           }
          }
         }
        ],
        "5918583911007421762": [
         "12",
         {
          "args": [
           "-5513958925783040194",
           "-5305859151552806603"
          ],
          "function": "Maybe.__and__",
          "type_params": {
           "T": {
            "type": "NDArray"
           }
          }
         }
        ],
        "6025253264526591254": [
         "12",
         {
          "args": [
           "-5513958925783040194",
           "6820439686346850893"
          ],
          "function": "Maybe.__and__",
          "type_params": {
           "T": {
            "type": "NDArray"
           }
          }
         }
        ],
        "6155972782134027120": [
         "7",
         {
          "args": [
           "-2642428384510993722"
          ],
          "function": "NDArrayCompat.from_ndarray"
         }
        ],
        "648574240234653754": [
         "15",
         {
          "args": [
           "-79505059901803467",
           "-5624602393836466635"
          ],
          "function": "Maybe.map",
          "type_params": {
           "T": {
            "params": {
             "T": {
              "type": "NDArray"
             },
             "U": {
              "params": {
               "T": {
                "type": "Integer"
               },
               "U": {
                "params": {
                 "T": {
                  "type": "Integer"
                 }
                },
                "type": "Vec"
               }
              },
              "type": "Either"
             }
            },
            "type": "Pair"
           }
          }
         }
        ],
        "6599955193481781126": [
         "28",
         {
          "args": [
           "7389996727730567975"
          ],
          "function": "Converter.convert",
          "type_params": {
           "T": {
            "type": "Integer"
           }
          }
         }
        ],
        "6820439686346850893": [
         "11",
         {
          "args": [
           "2316514055479206262",
           "4809526319858184292"
          ],
          "function": "Maybe.__or__",
          "type_params": {
           "T": {
            "params": {
             "T": {
              "type": "Integer"
             },
             "U": {
              "params": {
               "T": {
                "type": "Integer"
               }
              },
              "type": "Vec"
             }
            },
            "type": "Either"
           }
          }
         }
        ],
        "6826984819604257049": [
         "9",
         {
          "args": [
           "9150897915988383230"
          ],
          "function": "Converter.convert",
          "type_params": {
           "T": {
            "type": "NDArray"
           }
          }
         }
        ],
        "733488207619754122": [
         "8",
         {
          "args": [
           "-413479252060675646",
           "-413479252060675646"
          ],
          "function": "NDArrayCompat.__add__"
         }
        ],
        "7389996727730567975": [
         "32",
         {
          "repr": "100",
          "type": "int"
         }
        ],
        "7389996727835572900": [
         "25",
         {
          "repr": "5",
          "type": "int"
         }
        ],
        "7476356222416889263": [
         "18",
         {
          "repr": "Either.left",
          "type": "BoundInfer"
         }
        ],
        "7491852247771629307": [
         "4",
         {
          "args": [
           "648574240234653754"
          ],
          "function": "NDArrayCompat.from_ndarray"
         }
        ],
        "7988102916881695617": [
         "7",
         {
          "args": [
           "581323246639478712"
          ],
          "function": "NDArrayCompat.from_ndarray"
         }
        ],
        "8628771542974305": [
         "15",
         {
          "args": [
           "-229788817828368262",
           "-5624602393836466635"
          ],
          "function": "Maybe.map",
          "type_params": {
           "T": {
            "params": {
             "T": {
              "type": "NDArray"
             },
             "U": {
              "params": {
               "T": {
                "type": "Integer"
               },
               "U": {
                "params": {
                 "T": {
                  "type": "Integer"
                 }
                },
                "type": "Vec"
               }
              },
              "type": "Either"
             }
            },
            "type": "Pair"
           }
          }
         }
        ],
        "9150897915988383230": [
         "8",
         {
          "args": [
           "7988102916881695617",
           "7988102916881695617"
          ],
          "function": "NDArrayCompat.__add__"
         }
        ],
        "9164808068233093317": [
         "5",
         {
          "args": [
           "939638188172311092"
          ],
          "function": "NDArrayCompat.to_ndarray"
         }
        ],
        "939638188172311092": [
         "4",
         {
          "args": [
           "733488207619754122",
           "7389996727835572900"
          ],
          "function": "NDArrayCompat.__getitem__"
         }
        ]
       },
       "states": {
        "initial": "9164808068233093317",
        "states": [
         {
          "node": "-5224715452200691213",
          "rule": "metadsl_core.numpy.NDArrayCompat.__getitem__"
         },
         {
          "node": "-6049250387652173137",
          "rule": "metadsl_core.either.convert_to_either"
         },
         {
          "node": "-8906414407874426921",
          "rule": "metadsl_core.integer.convert_integer"
         },
         {
          "node": "-7701873885373101274",
          "rule": "metadsl_core.numpy.arange"
         },
         {
          "node": "-3696687176312099161",
          "rule": "metadsl_core.integer.convert_integer"
         }
        ]
       }
      },
      "text/plain": [
       "Typez(definitions=None, nodes={'7389996727730567975': ['32', PrimitiveNode(type='int', repr='100')], '-413479252060675646': ['7', CallNode(function='arange', type_params=None, args=['7389996727730567975'], kwargs=None)], '733488207619754122': ['8', CallNode(function='NDArrayCompat.__add__', type_params=None, args=['-413479252060675646', '-413479252060675646'], kwargs=None)], '7389996727835572900': ['25', PrimitiveNode(type='int', repr='5')], '939638188172311092': ['4', CallNode(function='NDArrayCompat.__getitem__', type_params=None, args=['733488207619754122', '7389996727835572900'], kwargs=None)], '9164808068233093317': ['5', CallNode(function='NDArrayCompat.to_ndarray', type_params=None, args=['939638188172311092'], kwargs=None)], '-5513958925783040194': ['9', CallNode(function='Converter.convert', type_params={'T': DeclaredTypeInstance(type='NDArray', params=None)}, args=['733488207619754122'], kwargs=None)], '-4362328496569185312': ['11', CallNode(function='Converter.convert', type_params={'T': DeclaredTypeInstance(type='Either', params={'U': DeclaredTypeInstance(type='Vec', params={'T': DeclaredTypeInstance(type='Integer', params=None)}), 'T': DeclaredTypeInstance(type='Integer', params=None)})}, args=['7389996727835572900'], kwargs=None)], '-6898813609126467610': ['12', CallNode(function='Maybe.__and__', type_params={'T': DeclaredTypeInstance(type='NDArray', params=None)}, args=['-5513958925783040194', '-4362328496569185312'], kwargs=None)], '-1832517680491031858': ['13', PrimitiveNode(type='function', repr='<function NDArrayCompat.__getitem__.<locals>.<lambda> at 0x1178c5a60>')], '-5624602393836466635': ['14', CallNode(function='Abstraction.from_fn', type_params={'U': DeclaredTypeInstance(type='NDArray', params=None), 'T': DeclaredTypeInstance(type='Pair', params={'U': DeclaredTypeInstance(type='Either', params={'U': DeclaredTypeInstance(type='Vec', params={'T': DeclaredTypeInstance(type='Integer', params=None)}), 'T': DeclaredTypeInstance(type='Integer', params=None)}), 'T': DeclaredTypeInstance(type='NDArray', params=None)})}, args=['-1832517680491031858'], kwargs=None)], '-3305062326102256645': ['15', CallNode(function='Maybe.map', type_params={'T': DeclaredTypeInstance(type='Pair', params={'U': DeclaredTypeInstance(type='Either', params={'U': DeclaredTypeInstance(type='Vec', params={'T': DeclaredTypeInstance(type='Integer', params=None)}), 'T': DeclaredTypeInstance(type='Integer', params=None)}), 'T': DeclaredTypeInstance(type='NDArray', params=None)})}, args=['-6898813609126467610', '-5624602393836466635'], kwargs=None)], '-3238359975892513989': ['4', CallNode(function='NDArrayCompat.from_ndarray', type_params=None, args=['-3305062326102256645'], kwargs=None)], '-5224715452200691213': ['5', CallNode(function='NDArrayCompat.to_ndarray', type_params=None, args=['-3238359975892513989'], kwargs=None)], '1285411996862869511': ['17', CallNode(function='Converter.convert', type_params={'T': DeclaredTypeInstance(type='Integer', params=None)}, args=['7389996727835572900'], kwargs=None)], '7476356222416889263': ['18', PrimitiveNode(type='BoundInfer', repr='Either.left')], '-1827217823156436851': ['19', CallNode(function='Abstraction.from_fn', type_params=None, args=['7476356222416889263'], kwargs=None)], '-8718725701334017582': ['20', CallNode(function='Maybe.map', type_params={'T': DeclaredTypeInstance(type='Integer', params=None)}, args=['1285411996862869511', '-1827217823156436851'], kwargs=None)], '-6528896986329084548': ['21', CallNode(function='Converter.convert', type_params={'T': DeclaredTypeInstance(type='Vec', params={'T': DeclaredTypeInstance(type='Integer', params=None)})}, args=['7389996727835572900'], kwargs=None)], '3952127203154401306': ['22', PrimitiveNode(type='BoundInfer', repr='Either.right')], '4084860619863335824': ['23', CallNode(function='Abstraction.from_fn', type_params=None, args=['3952127203154401306'], kwargs=None)], '4809526319858184292': ['24', CallNode(function='Maybe.map', type_params={'T': DeclaredTypeInstance(type='Vec', params={'T': DeclaredTypeInstance(type='Integer', params=None)})}, args=['-6528896986329084548', '4084860619863335824'], kwargs=None)], '-5305859151552806603': ['11', CallNode(function='Maybe.__or__', type_params={'T': DeclaredTypeInstance(type='Either', params={'U': DeclaredTypeInstance(type='Vec', params={'T': DeclaredTypeInstance(type='Integer', params=None)}), 'T': DeclaredTypeInstance(type='Integer', params=None)})}, args=['-8718725701334017582', '4809526319858184292'], kwargs=None)], '5918583911007421762': ['12', CallNode(function='Maybe.__and__', type_params={'T': DeclaredTypeInstance(type='NDArray', params=None)}, args=['-5513958925783040194', '-5305859151552806603'], kwargs=None)], '-5201084084172587173': ['15', CallNode(function='Maybe.map', type_params={'T': DeclaredTypeInstance(type='Pair', params={'U': DeclaredTypeInstance(type='Either', params={'U': DeclaredTypeInstance(type='Vec', params={'T': DeclaredTypeInstance(type='Integer', params=None)}), 'T': DeclaredTypeInstance(type='Integer', params=None)}), 'T': DeclaredTypeInstance(type='NDArray', params=None)})}, args=['5918583911007421762', '-5624602393836466635'], kwargs=None)], '5610866722625119716': ['4', CallNode(function='NDArrayCompat.from_ndarray', type_params=None, args=['-5201084084172587173'], kwargs=None)], '-6049250387652173137': ['5', CallNode(function='NDArrayCompat.to_ndarray', type_params=None, args=['5610866722625119716'], kwargs=None)], '-6835731452181285361': ['26', CallNode(function='Integer.from_int', type_params=None, args=['7389996727835572900'], kwargs=None)], '-6477796972997726603': ['17', CallNode(function='Maybe.just', type_params=None, args=['-6835731452181285361'], kwargs=None)], '2316514055479206262': ['20', CallNode(function='Maybe.map', type_params={'T': DeclaredTypeInstance(type='Integer', params=None)}, args=['-6477796972997726603', '-1827217823156436851'], kwargs=None)], '6820439686346850893': ['11', CallNode(function='Maybe.__or__', type_params={'T': DeclaredTypeInstance(type='Either', params={'U': DeclaredTypeInstance(type='Vec', params={'T': DeclaredTypeInstance(type='Integer', params=None)}), 'T': DeclaredTypeInstance(type='Integer', params=None)})}, args=['2316514055479206262', '4809526319858184292'], kwargs=None)], '6025253264526591254': ['12', CallNode(function='Maybe.__and__', type_params={'T': DeclaredTypeInstance(type='NDArray', params=None)}, args=['-5513958925783040194', '6820439686346850893'], kwargs=None)], '-8808036002268108249': ['15', CallNode(function='Maybe.map', type_params={'T': DeclaredTypeInstance(type='Pair', params={'U': DeclaredTypeInstance(type='Either', params={'U': DeclaredTypeInstance(type='Vec', params={'T': DeclaredTypeInstance(type='Integer', params=None)}), 'T': DeclaredTypeInstance(type='Integer', params=None)}), 'T': DeclaredTypeInstance(type='NDArray', params=None)})}, args=['6025253264526591254', '-5624602393836466635'], kwargs=None)], '2343634891371020141': ['4', CallNode(function='NDArrayCompat.from_ndarray', type_params=None, args=['-8808036002268108249'], kwargs=None)], '-8906414407874426921': ['5', CallNode(function='NDArrayCompat.to_ndarray', type_params=None, args=['2343634891371020141'], kwargs=None)], '6599955193481781126': ['28', CallNode(function='Converter.convert', type_params={'T': DeclaredTypeInstance(type='Integer', params=None)}, args=['7389996727730567975'], kwargs=None)], '-7963575565984054101': ['29', PrimitiveNode(type='Infer', repr='arange_')], '-7605111911380996177': ['30', CallNode(function='Abstraction.from_fn', type_params=None, args=['-7963575565984054101'], kwargs=None)], '-2642428384510993722': ['31', CallNode(function='Maybe.map', type_params={'T': DeclaredTypeInstance(type='Integer', params=None)}, args=['6599955193481781126', '-7605111911380996177'], kwargs=None)], '6155972782134027120': ['7', CallNode(function='NDArrayCompat.from_ndarray', type_params=None, args=['-2642428384510993722'], kwargs=None)], '5448386493881996042': ['8', CallNode(function='NDArrayCompat.__add__', type_params=None, args=['6155972782134027120', '6155972782134027120'], kwargs=None)], '1768451678476953200': ['9', CallNode(function='Converter.convert', type_params={'T': DeclaredTypeInstance(type='NDArray', params=None)}, args=['5448386493881996042'], kwargs=None)], '-229788817828368262': ['12', CallNode(function='Maybe.__and__', type_params={'T': DeclaredTypeInstance(type='NDArray', params=None)}, args=['1768451678476953200', '6820439686346850893'], kwargs=None)], '8628771542974305': ['15', CallNode(function='Maybe.map', type_params={'T': DeclaredTypeInstance(type='Pair', params={'U': DeclaredTypeInstance(type='Either', params={'U': DeclaredTypeInstance(type='Vec', params={'T': DeclaredTypeInstance(type='Integer', params=None)}), 'T': DeclaredTypeInstance(type='Integer', params=None)}), 'T': DeclaredTypeInstance(type='NDArray', params=None)})}, args=['-229788817828368262', '-5624602393836466635'], kwargs=None)], '-4216181913628174564': ['4', CallNode(function='NDArrayCompat.from_ndarray', type_params=None, args=['8628771542974305'], kwargs=None)], '-7701873885373101274': ['5', CallNode(function='NDArrayCompat.to_ndarray', type_params=None, args=['-4216181913628174564'], kwargs=None)], '3864996844580924190': ['33', CallNode(function='Integer.from_int', type_params=None, args=['7389996727730567975'], kwargs=None)], '-3851797404979949249': ['28', CallNode(function='Maybe.just', type_params=None, args=['3864996844580924190'], kwargs=None)], '581323246639478712': ['31', CallNode(function='Maybe.map', type_params={'T': DeclaredTypeInstance(type='Integer', params=None)}, args=['-3851797404979949249', '-7605111911380996177'], kwargs=None)], '7988102916881695617': ['7', CallNode(function='NDArrayCompat.from_ndarray', type_params=None, args=['581323246639478712'], kwargs=None)], '9150897915988383230': ['8', CallNode(function='NDArrayCompat.__add__', type_params=None, args=['7988102916881695617', '7988102916881695617'], kwargs=None)], '6826984819604257049': ['9', CallNode(function='Converter.convert', type_params={'T': DeclaredTypeInstance(type='NDArray', params=None)}, args=['9150897915988383230'], kwargs=None)], '-79505059901803467': ['12', CallNode(function='Maybe.__and__', type_params={'T': DeclaredTypeInstance(type='NDArray', params=None)}, args=['6826984819604257049', '6820439686346850893'], kwargs=None)], '648574240234653754': ['15', CallNode(function='Maybe.map', type_params={'T': DeclaredTypeInstance(type='Pair', params={'U': DeclaredTypeInstance(type='Either', params={'U': DeclaredTypeInstance(type='Vec', params={'T': DeclaredTypeInstance(type='Integer', params=None)}), 'T': DeclaredTypeInstance(type='Integer', params=None)}), 'T': DeclaredTypeInstance(type='NDArray', params=None)})}, args=['-79505059901803467', '-5624602393836466635'], kwargs=None)], '7491852247771629307': ['4', CallNode(function='NDArrayCompat.from_ndarray', type_params=None, args=['648574240234653754'], kwargs=None)], '-3696687176312099161': ['5', CallNode(function='NDArrayCompat.to_ndarray', type_params=None, args=['7491852247771629307'], kwargs=None)]}, states=States(initial='9164808068233093317', states=[State(node='-5224715452200691213', rule='metadsl_core.numpy.NDArrayCompat.__getitem__', label=None), State(node='-6049250387652173137', rule='metadsl_core.either.convert_to_either', label=None), State(node='-8906414407874426921', rule='metadsl_core.integer.convert_integer', label=None), State(node='-7701873885373101274', rule='metadsl_core.numpy.arange', label=None), State(node='-3696687176312099161', rule='metadsl_core.integer.convert_integer', label=None)]))"
      ]
     },
     "metadata": {},
     "output_type": "display_data"
    },
    {
     "ename": "TypeError",
     "evalue": "'PlaceholderExpression' object is not subscriptable",
     "output_type": "error",
     "traceback": [
      "\u001b[0;31m---------------------------------------------------------------------------\u001b[0m",
      "\u001b[0;31mTypeError\u001b[0m                                 Traceback (most recent call last)",
      "\u001b[0;32m/usr/local/miniconda3/envs/metadsl/lib/python3.7/site-packages/IPython/core/formatters.py\u001b[0m in \u001b[0;36m__call__\u001b[0;34m(self, obj)\u001b[0m\n\u001b[1;32m    916\u001b[0m             \u001b[0mmethod\u001b[0m \u001b[0;34m=\u001b[0m \u001b[0mget_real_method\u001b[0m\u001b[0;34m(\u001b[0m\u001b[0mobj\u001b[0m\u001b[0;34m,\u001b[0m \u001b[0mself\u001b[0m\u001b[0;34m.\u001b[0m\u001b[0mprint_method\u001b[0m\u001b[0;34m)\u001b[0m\u001b[0;34m\u001b[0m\u001b[0;34m\u001b[0m\u001b[0m\n\u001b[1;32m    917\u001b[0m             \u001b[0;32mif\u001b[0m \u001b[0mmethod\u001b[0m \u001b[0;32mis\u001b[0m \u001b[0;32mnot\u001b[0m \u001b[0;32mNone\u001b[0m\u001b[0;34m:\u001b[0m\u001b[0;34m\u001b[0m\u001b[0;34m\u001b[0m\u001b[0m\n\u001b[0;32m--> 918\u001b[0;31m                 \u001b[0mmethod\u001b[0m\u001b[0;34m(\u001b[0m\u001b[0;34m)\u001b[0m\u001b[0;34m\u001b[0m\u001b[0;34m\u001b[0m\u001b[0m\n\u001b[0m\u001b[1;32m    919\u001b[0m                 \u001b[0;32mreturn\u001b[0m \u001b[0;32mTrue\u001b[0m\u001b[0;34m\u001b[0m\u001b[0;34m\u001b[0m\u001b[0m\n\u001b[1;32m    920\u001b[0m \u001b[0;34m\u001b[0m\u001b[0m\n",
      "\u001b[0;32m~/p/metadsl/metadsl_visualize/visualize.py\u001b[0m in \u001b[0;36m_expression_ipython_display\u001b[0;34m(self)\u001b[0m\n\u001b[1;32m     35\u001b[0m \u001b[0;34m\u001b[0m\u001b[0m\n\u001b[1;32m     36\u001b[0m \u001b[0;32mdef\u001b[0m \u001b[0m_expression_ipython_display\u001b[0m\u001b[0;34m(\u001b[0m\u001b[0mself\u001b[0m\u001b[0;34m)\u001b[0m\u001b[0;34m:\u001b[0m\u001b[0;34m\u001b[0m\u001b[0;34m\u001b[0m\u001b[0m\n\u001b[0;32m---> 37\u001b[0;31m     \u001b[0mres\u001b[0m \u001b[0;34m=\u001b[0m \u001b[0mexecute\u001b[0m\u001b[0;34m(\u001b[0m\u001b[0mself\u001b[0m\u001b[0;34m)\u001b[0m\u001b[0;34m\u001b[0m\u001b[0;34m\u001b[0m\u001b[0m\n\u001b[0m\u001b[1;32m     38\u001b[0m     \u001b[0;31m# Only display result if we get back a non expression object\u001b[0m\u001b[0;34m\u001b[0m\u001b[0;34m\u001b[0m\u001b[0;34m\u001b[0m\u001b[0m\n\u001b[1;32m     39\u001b[0m     \u001b[0;32mif\u001b[0m \u001b[0;32mnot\u001b[0m \u001b[0misinstance\u001b[0m\u001b[0;34m(\u001b[0m\u001b[0mres\u001b[0m\u001b[0;34m,\u001b[0m \u001b[0mExpression\u001b[0m\u001b[0;34m)\u001b[0m\u001b[0;34m:\u001b[0m\u001b[0;34m\u001b[0m\u001b[0;34m\u001b[0m\u001b[0m\n",
      "\u001b[0;32m~/p/metadsl/metadsl/rules.py\u001b[0m in \u001b[0;36m__call__\u001b[0;34m(self, expr, rule)\u001b[0m\n\u001b[1;32m     65\u001b[0m             \u001b[0mT\u001b[0m\u001b[0;34m,\u001b[0m\u001b[0;34m\u001b[0m\u001b[0;34m\u001b[0m\u001b[0m\n\u001b[1;32m     66\u001b[0m             execute(\n\u001b[0;32m---> 67\u001b[0;31m                 \u001b[0mExpressionReference\u001b[0m\u001b[0;34m.\u001b[0m\u001b[0mfrom_expression\u001b[0m\u001b[0;34m(\u001b[0m\u001b[0mExpressionFolder\u001b[0m\u001b[0;34m(\u001b[0m\u001b[0;34m)\u001b[0m\u001b[0;34m(\u001b[0m\u001b[0mexpr\u001b[0m\u001b[0;34m)\u001b[0m\u001b[0;34m)\u001b[0m\u001b[0;34m,\u001b[0m \u001b[0mrule\u001b[0m\u001b[0;34m\u001b[0m\u001b[0;34m\u001b[0m\u001b[0m\n\u001b[0m\u001b[1;32m     68\u001b[0m             ),\n\u001b[1;32m     69\u001b[0m         )\n",
      "\u001b[0;32m~/p/metadsl/metadsl_visualize/visualize.py\u001b[0m in \u001b[0;36mexecute_and_visualize\u001b[0;34m(ref, rule)\u001b[0m\n\u001b[1;32m     19\u001b[0m     \u001b[0mIPython\u001b[0m\u001b[0;34m.\u001b[0m\u001b[0mcore\u001b[0m\u001b[0;34m.\u001b[0m\u001b[0mdisplay\u001b[0m\u001b[0;34m.\u001b[0m\u001b[0mdisplay\u001b[0m\u001b[0;34m(\u001b[0m\u001b[0mexpression_display\u001b[0m\u001b[0;34m)\u001b[0m\u001b[0;34m\u001b[0m\u001b[0;34m\u001b[0m\u001b[0m\n\u001b[1;32m     20\u001b[0m     \u001b[0;31m# Update the typez display as we execute the rules\u001b[0m\u001b[0;34m\u001b[0m\u001b[0;34m\u001b[0m\u001b[0;34m\u001b[0m\u001b[0m\n\u001b[0;32m---> 21\u001b[0;31m     \u001b[0;32mfor\u001b[0m \u001b[0mreplacement\u001b[0m \u001b[0;32min\u001b[0m \u001b[0mrule\u001b[0m\u001b[0;34m(\u001b[0m\u001b[0mref\u001b[0m\u001b[0;34m)\u001b[0m\u001b[0;34m:\u001b[0m\u001b[0;34m\u001b[0m\u001b[0;34m\u001b[0m\u001b[0m\n\u001b[0m\u001b[1;32m     22\u001b[0m         \u001b[0mexpression_display\u001b[0m\u001b[0;34m.\u001b[0m\u001b[0mupdate\u001b[0m\u001b[0;34m(\u001b[0m\u001b[0mreplacement\u001b[0m\u001b[0;34m.\u001b[0m\u001b[0mrule\u001b[0m\u001b[0;34m,\u001b[0m \u001b[0mreplacement\u001b[0m\u001b[0;34m.\u001b[0m\u001b[0mlabel\u001b[0m\u001b[0;34m)\u001b[0m\u001b[0;34m\u001b[0m\u001b[0;34m\u001b[0m\u001b[0m\n\u001b[1;32m     23\u001b[0m     \u001b[0;32mreturn\u001b[0m \u001b[0mref\u001b[0m\u001b[0;34m.\u001b[0m\u001b[0mnormalized_expression\u001b[0m\u001b[0;34m.\u001b[0m\u001b[0mvalue\u001b[0m\u001b[0;34m\u001b[0m\u001b[0;34m\u001b[0m\u001b[0m\n",
      "\u001b[0;32m~/p/metadsl/metadsl/rules.py\u001b[0m in \u001b[0;36m__call__\u001b[0;34m(self, expr)\u001b[0m\n\u001b[1;32m    255\u001b[0m         \u001b[0;32mfor\u001b[0m \u001b[0mi\u001b[0m \u001b[0;32min\u001b[0m \u001b[0mrange\u001b[0m\u001b[0;34m(\u001b[0m\u001b[0mself\u001b[0m\u001b[0;34m.\u001b[0m\u001b[0mmax_calls\u001b[0m\u001b[0;34m)\u001b[0m\u001b[0;34m:\u001b[0m\u001b[0;34m\u001b[0m\u001b[0;34m\u001b[0m\u001b[0m\n\u001b[1;32m    256\u001b[0m             \u001b[0mreplaced\u001b[0m \u001b[0;34m=\u001b[0m \u001b[0;32mFalse\u001b[0m\u001b[0;34m\u001b[0m\u001b[0;34m\u001b[0m\u001b[0m\n\u001b[0;32m--> 257\u001b[0;31m             \u001b[0;32mfor\u001b[0m \u001b[0mreplacement\u001b[0m \u001b[0;32min\u001b[0m \u001b[0mrule\u001b[0m\u001b[0;34m(\u001b[0m\u001b[0mexpr\u001b[0m\u001b[0;34m)\u001b[0m\u001b[0;34m:\u001b[0m\u001b[0;34m\u001b[0m\u001b[0;34m\u001b[0m\u001b[0m\n\u001b[0m\u001b[1;32m    258\u001b[0m                 \u001b[0mreplaced\u001b[0m \u001b[0;34m=\u001b[0m \u001b[0;32mTrue\u001b[0m\u001b[0;34m\u001b[0m\u001b[0;34m\u001b[0m\u001b[0m\n\u001b[1;32m    259\u001b[0m                 \u001b[0;32myield\u001b[0m \u001b[0mreplacement\u001b[0m\u001b[0;34m\u001b[0m\u001b[0;34m\u001b[0m\u001b[0m\n",
      "\u001b[0;32m~/p/metadsl/metadsl/rules.py\u001b[0m in \u001b[0;36m__call__\u001b[0;34m(self, expr)\u001b[0m\n\u001b[1;32m    217\u001b[0m         \u001b[0;32mfor\u001b[0m \u001b[0mrule\u001b[0m \u001b[0;32min\u001b[0m \u001b[0mself\u001b[0m\u001b[0;34m.\u001b[0m\u001b[0mrules\u001b[0m\u001b[0;34m:\u001b[0m\u001b[0;34m\u001b[0m\u001b[0;34m\u001b[0m\u001b[0m\n\u001b[1;32m    218\u001b[0m             \u001b[0mreplacement\u001b[0m \u001b[0;34m=\u001b[0m \u001b[0;32mNone\u001b[0m\u001b[0;34m\u001b[0m\u001b[0;34m\u001b[0m\u001b[0m\n\u001b[0;32m--> 219\u001b[0;31m             \u001b[0;32mfor\u001b[0m \u001b[0mreplacement\u001b[0m \u001b[0;32min\u001b[0m \u001b[0mrule\u001b[0m\u001b[0;34m(\u001b[0m\u001b[0mexpr\u001b[0m\u001b[0;34m)\u001b[0m\u001b[0;34m:\u001b[0m\u001b[0;34m\u001b[0m\u001b[0;34m\u001b[0m\u001b[0m\n\u001b[0m\u001b[1;32m    220\u001b[0m                 \u001b[0;32myield\u001b[0m \u001b[0mreplacement\u001b[0m\u001b[0;34m\u001b[0m\u001b[0;34m\u001b[0m\u001b[0m\n\u001b[1;32m    221\u001b[0m             \u001b[0;32mif\u001b[0m \u001b[0mreplacement\u001b[0m\u001b[0;34m:\u001b[0m\u001b[0;34m\u001b[0m\u001b[0;34m\u001b[0m\u001b[0m\n",
      "\u001b[0;32m~/p/metadsl/metadsl/rules.py\u001b[0m in \u001b[0;36m__call__\u001b[0;34m(self, expr)\u001b[0m\n\u001b[1;32m    202\u001b[0m     \u001b[0;32mdef\u001b[0m \u001b[0m__call__\u001b[0m\u001b[0;34m(\u001b[0m\u001b[0mself\u001b[0m\u001b[0;34m,\u001b[0m \u001b[0mexpr\u001b[0m\u001b[0;34m:\u001b[0m \u001b[0mExpressionReference\u001b[0m\u001b[0;34m)\u001b[0m \u001b[0;34m->\u001b[0m \u001b[0mtyping\u001b[0m\u001b[0;34m.\u001b[0m\u001b[0mIterable\u001b[0m\u001b[0;34m[\u001b[0m\u001b[0mReplacement\u001b[0m\u001b[0;34m]\u001b[0m\u001b[0;34m:\u001b[0m\u001b[0;34m\u001b[0m\u001b[0;34m\u001b[0m\u001b[0m\n\u001b[1;32m    203\u001b[0m         \u001b[0;32mfor\u001b[0m \u001b[0mrule\u001b[0m \u001b[0;32min\u001b[0m \u001b[0mself\u001b[0m\u001b[0;34m.\u001b[0m\u001b[0mrules\u001b[0m\u001b[0;34m:\u001b[0m\u001b[0;34m\u001b[0m\u001b[0;34m\u001b[0m\u001b[0m\n\u001b[0;32m--> 204\u001b[0;31m             \u001b[0;32mfor\u001b[0m \u001b[0mreplacement\u001b[0m \u001b[0;32min\u001b[0m \u001b[0mrule\u001b[0m\u001b[0;34m(\u001b[0m\u001b[0mexpr\u001b[0m\u001b[0;34m)\u001b[0m\u001b[0;34m:\u001b[0m\u001b[0;34m\u001b[0m\u001b[0;34m\u001b[0m\u001b[0m\n\u001b[0m\u001b[1;32m    205\u001b[0m                 \u001b[0;32myield\u001b[0m \u001b[0mreplacement\u001b[0m\u001b[0;34m\u001b[0m\u001b[0;34m\u001b[0m\u001b[0m\n\u001b[1;32m    206\u001b[0m \u001b[0;34m\u001b[0m\u001b[0m\n",
      "\u001b[0;32m~/p/metadsl/metadsl/rules.py\u001b[0m in \u001b[0;36m__call__\u001b[0;34m(self, expr)\u001b[0m\n\u001b[1;32m     99\u001b[0m     \u001b[0;32mdef\u001b[0m \u001b[0m__call__\u001b[0m\u001b[0;34m(\u001b[0m\u001b[0mself\u001b[0m\u001b[0;34m,\u001b[0m \u001b[0mexpr\u001b[0m\u001b[0;34m:\u001b[0m \u001b[0mExpressionReference\u001b[0m\u001b[0;34m)\u001b[0m \u001b[0;34m->\u001b[0m \u001b[0mtyping\u001b[0m\u001b[0;34m.\u001b[0m\u001b[0mIterable\u001b[0m\u001b[0;34m[\u001b[0m\u001b[0mReplacement\u001b[0m\u001b[0;34m]\u001b[0m\u001b[0;34m:\u001b[0m\u001b[0;34m\u001b[0m\u001b[0;34m\u001b[0m\u001b[0m\n\u001b[1;32m    100\u001b[0m         \u001b[0mreplacement\u001b[0m \u001b[0;34m=\u001b[0m \u001b[0;32mNone\u001b[0m\u001b[0;34m\u001b[0m\u001b[0;34m\u001b[0m\u001b[0m\n\u001b[0;32m--> 101\u001b[0;31m         \u001b[0;32mfor\u001b[0m \u001b[0mreplacement\u001b[0m \u001b[0;32min\u001b[0m \u001b[0mself\u001b[0m\u001b[0;34m.\u001b[0m\u001b[0mrule\u001b[0m\u001b[0;34m(\u001b[0m\u001b[0mexpr\u001b[0m\u001b[0;34m)\u001b[0m\u001b[0;34m:\u001b[0m  \u001b[0;31m# type: ignore\u001b[0m\u001b[0;34m\u001b[0m\u001b[0;34m\u001b[0m\u001b[0m\n\u001b[0m\u001b[1;32m    102\u001b[0m             \u001b[0;32myield\u001b[0m \u001b[0mreplacement\u001b[0m\u001b[0;34m\u001b[0m\u001b[0;34m\u001b[0m\u001b[0m\n\u001b[1;32m    103\u001b[0m         \u001b[0;32mif\u001b[0m \u001b[0mreplacement\u001b[0m\u001b[0;34m:\u001b[0m\u001b[0;34m\u001b[0m\u001b[0;34m\u001b[0m\u001b[0m\n",
      "\u001b[0;32m~/p/metadsl/metadsl/rules.py\u001b[0m in \u001b[0;36m__call__\u001b[0;34m(self, expr)\u001b[0m\n\u001b[1;32m    255\u001b[0m         \u001b[0;32mfor\u001b[0m \u001b[0mi\u001b[0m \u001b[0;32min\u001b[0m \u001b[0mrange\u001b[0m\u001b[0;34m(\u001b[0m\u001b[0mself\u001b[0m\u001b[0;34m.\u001b[0m\u001b[0mmax_calls\u001b[0m\u001b[0;34m)\u001b[0m\u001b[0;34m:\u001b[0m\u001b[0;34m\u001b[0m\u001b[0;34m\u001b[0m\u001b[0m\n\u001b[1;32m    256\u001b[0m             \u001b[0mreplaced\u001b[0m \u001b[0;34m=\u001b[0m \u001b[0;32mFalse\u001b[0m\u001b[0;34m\u001b[0m\u001b[0;34m\u001b[0m\u001b[0m\n\u001b[0;32m--> 257\u001b[0;31m             \u001b[0;32mfor\u001b[0m \u001b[0mreplacement\u001b[0m \u001b[0;32min\u001b[0m \u001b[0mrule\u001b[0m\u001b[0;34m(\u001b[0m\u001b[0mexpr\u001b[0m\u001b[0;34m)\u001b[0m\u001b[0;34m:\u001b[0m\u001b[0;34m\u001b[0m\u001b[0;34m\u001b[0m\u001b[0m\n\u001b[0m\u001b[1;32m    258\u001b[0m                 \u001b[0mreplaced\u001b[0m \u001b[0;34m=\u001b[0m \u001b[0;32mTrue\u001b[0m\u001b[0;34m\u001b[0m\u001b[0;34m\u001b[0m\u001b[0m\n\u001b[1;32m    259\u001b[0m                 \u001b[0;32myield\u001b[0m \u001b[0mreplacement\u001b[0m\u001b[0;34m\u001b[0m\u001b[0;34m\u001b[0m\u001b[0m\n",
      "\u001b[0;32m~/p/metadsl/metadsl/rules.py\u001b[0m in \u001b[0;36m__call__\u001b[0;34m(self, expr)\u001b[0m\n\u001b[1;32m    217\u001b[0m         \u001b[0;32mfor\u001b[0m \u001b[0mrule\u001b[0m \u001b[0;32min\u001b[0m \u001b[0mself\u001b[0m\u001b[0;34m.\u001b[0m\u001b[0mrules\u001b[0m\u001b[0;34m:\u001b[0m\u001b[0;34m\u001b[0m\u001b[0;34m\u001b[0m\u001b[0m\n\u001b[1;32m    218\u001b[0m             \u001b[0mreplacement\u001b[0m \u001b[0;34m=\u001b[0m \u001b[0;32mNone\u001b[0m\u001b[0;34m\u001b[0m\u001b[0;34m\u001b[0m\u001b[0m\n\u001b[0;32m--> 219\u001b[0;31m             \u001b[0;32mfor\u001b[0m \u001b[0mreplacement\u001b[0m \u001b[0;32min\u001b[0m \u001b[0mrule\u001b[0m\u001b[0;34m(\u001b[0m\u001b[0mexpr\u001b[0m\u001b[0;34m)\u001b[0m\u001b[0;34m:\u001b[0m\u001b[0;34m\u001b[0m\u001b[0;34m\u001b[0m\u001b[0m\n\u001b[0m\u001b[1;32m    220\u001b[0m                 \u001b[0;32myield\u001b[0m \u001b[0mreplacement\u001b[0m\u001b[0;34m\u001b[0m\u001b[0;34m\u001b[0m\u001b[0m\n\u001b[1;32m    221\u001b[0m             \u001b[0;32mif\u001b[0m \u001b[0mreplacement\u001b[0m\u001b[0;34m:\u001b[0m\u001b[0;34m\u001b[0m\u001b[0;34m\u001b[0m\u001b[0m\n",
      "\u001b[0;32m~/p/metadsl/metadsl/rules.py\u001b[0m in \u001b[0;36m__call__\u001b[0;34m(self, expr)\u001b[0m\n\u001b[1;32m    255\u001b[0m         \u001b[0;32mfor\u001b[0m \u001b[0mi\u001b[0m \u001b[0;32min\u001b[0m \u001b[0mrange\u001b[0m\u001b[0;34m(\u001b[0m\u001b[0mself\u001b[0m\u001b[0;34m.\u001b[0m\u001b[0mmax_calls\u001b[0m\u001b[0;34m)\u001b[0m\u001b[0;34m:\u001b[0m\u001b[0;34m\u001b[0m\u001b[0;34m\u001b[0m\u001b[0m\n\u001b[1;32m    256\u001b[0m             \u001b[0mreplaced\u001b[0m \u001b[0;34m=\u001b[0m \u001b[0;32mFalse\u001b[0m\u001b[0;34m\u001b[0m\u001b[0;34m\u001b[0m\u001b[0m\n\u001b[0;32m--> 257\u001b[0;31m             \u001b[0;32mfor\u001b[0m \u001b[0mreplacement\u001b[0m \u001b[0;32min\u001b[0m \u001b[0mrule\u001b[0m\u001b[0;34m(\u001b[0m\u001b[0mexpr\u001b[0m\u001b[0;34m)\u001b[0m\u001b[0;34m:\u001b[0m\u001b[0;34m\u001b[0m\u001b[0;34m\u001b[0m\u001b[0m\n\u001b[0m\u001b[1;32m    258\u001b[0m                 \u001b[0mreplaced\u001b[0m \u001b[0;34m=\u001b[0m \u001b[0;32mTrue\u001b[0m\u001b[0;34m\u001b[0m\u001b[0;34m\u001b[0m\u001b[0m\n\u001b[1;32m    259\u001b[0m                 \u001b[0;32myield\u001b[0m \u001b[0mreplacement\u001b[0m\u001b[0;34m\u001b[0m\u001b[0;34m\u001b[0m\u001b[0m\n",
      "\u001b[0;32m~/p/metadsl/metadsl/rules.py\u001b[0m in \u001b[0;36m__call__\u001b[0;34m(self, expr)\u001b[0m\n\u001b[1;32m    235\u001b[0m         \u001b[0mrule\u001b[0m\u001b[0;34m:\u001b[0m \u001b[0mRule\u001b[0m \u001b[0;34m=\u001b[0m \u001b[0mself\u001b[0m\u001b[0;34m.\u001b[0m\u001b[0mrule\u001b[0m  \u001b[0;31m# type: ignore\u001b[0m\u001b[0;34m\u001b[0m\u001b[0;34m\u001b[0m\u001b[0m\n\u001b[1;32m    236\u001b[0m         \u001b[0;32mfor\u001b[0m \u001b[0mchild_ref\u001b[0m \u001b[0;32min\u001b[0m \u001b[0mexpr\u001b[0m\u001b[0;34m.\u001b[0m\u001b[0mchildren\u001b[0m\u001b[0;34m:\u001b[0m\u001b[0;34m\u001b[0m\u001b[0;34m\u001b[0m\u001b[0m\n\u001b[0;32m--> 237\u001b[0;31m             \u001b[0;32mfor\u001b[0m \u001b[0mreplacement\u001b[0m \u001b[0;32min\u001b[0m \u001b[0mrule\u001b[0m\u001b[0;34m(\u001b[0m\u001b[0mchild_ref\u001b[0m\u001b[0;34m)\u001b[0m\u001b[0;34m:\u001b[0m\u001b[0;34m\u001b[0m\u001b[0;34m\u001b[0m\u001b[0m\n\u001b[0m\u001b[1;32m    238\u001b[0m                 \u001b[0;32myield\u001b[0m \u001b[0mreplacement\u001b[0m\u001b[0;34m\u001b[0m\u001b[0;34m\u001b[0m\u001b[0m\n\u001b[1;32m    239\u001b[0m                 \u001b[0;32mreturn\u001b[0m\u001b[0;34m\u001b[0m\u001b[0;34m\u001b[0m\u001b[0m\n",
      "\u001b[0;32m~/p/metadsl/metadsl/rules.py\u001b[0m in \u001b[0;36m__call__\u001b[0;34m(self, expr)\u001b[0m\n\u001b[1;32m    217\u001b[0m         \u001b[0;32mfor\u001b[0m \u001b[0mrule\u001b[0m \u001b[0;32min\u001b[0m \u001b[0mself\u001b[0m\u001b[0;34m.\u001b[0m\u001b[0mrules\u001b[0m\u001b[0;34m:\u001b[0m\u001b[0;34m\u001b[0m\u001b[0;34m\u001b[0m\u001b[0m\n\u001b[1;32m    218\u001b[0m             \u001b[0mreplacement\u001b[0m \u001b[0;34m=\u001b[0m \u001b[0;32mNone\u001b[0m\u001b[0;34m\u001b[0m\u001b[0;34m\u001b[0m\u001b[0m\n\u001b[0;32m--> 219\u001b[0;31m             \u001b[0;32mfor\u001b[0m \u001b[0mreplacement\u001b[0m \u001b[0;32min\u001b[0m \u001b[0mrule\u001b[0m\u001b[0;34m(\u001b[0m\u001b[0mexpr\u001b[0m\u001b[0;34m)\u001b[0m\u001b[0;34m:\u001b[0m\u001b[0;34m\u001b[0m\u001b[0;34m\u001b[0m\u001b[0m\n\u001b[0m\u001b[1;32m    220\u001b[0m                 \u001b[0;32myield\u001b[0m \u001b[0mreplacement\u001b[0m\u001b[0;34m\u001b[0m\u001b[0;34m\u001b[0m\u001b[0m\n\u001b[1;32m    221\u001b[0m             \u001b[0;32mif\u001b[0m \u001b[0mreplacement\u001b[0m\u001b[0;34m:\u001b[0m\u001b[0;34m\u001b[0m\u001b[0;34m\u001b[0m\u001b[0m\n",
      "\u001b[0;32m~/p/metadsl/metadsl/matching.py\u001b[0m in \u001b[0;36m__call__\u001b[0;34m(self, ref)\u001b[0m\n\u001b[1;32m    111\u001b[0m             \u001b[0;32mreturn\u001b[0m \u001b[0;32mNone\u001b[0m\u001b[0;34m\u001b[0m\u001b[0;34m\u001b[0m\u001b[0m\n\u001b[1;32m    112\u001b[0m         \u001b[0;32mwith\u001b[0m \u001b[0mTypeVarScope\u001b[0m\u001b[0;34m(\u001b[0m\u001b[0;34m*\u001b[0m\u001b[0mtypevars\u001b[0m\u001b[0;34m.\u001b[0m\u001b[0mkeys\u001b[0m\u001b[0;34m(\u001b[0m\u001b[0;34m)\u001b[0m\u001b[0;34m)\u001b[0m\u001b[0;34m:\u001b[0m\u001b[0;34m\u001b[0m\u001b[0;34m\u001b[0m\u001b[0m\n\u001b[0;32m--> 113\u001b[0;31m             \u001b[0mnew_expr\u001b[0m \u001b[0;34m=\u001b[0m \u001b[0mself\u001b[0m\u001b[0;34m.\u001b[0m\u001b[0minner_fn\u001b[0m\u001b[0;34m(\u001b[0m\u001b[0;34m*\u001b[0m\u001b[0margs\u001b[0m\u001b[0;34m,\u001b[0m \u001b[0;34m**\u001b[0m\u001b[0mexpr\u001b[0m\u001b[0;34m.\u001b[0m\u001b[0mkwargs\u001b[0m\u001b[0;34m)\u001b[0m\u001b[0;34m\u001b[0m\u001b[0;34m\u001b[0m\u001b[0m\n\u001b[0m\u001b[1;32m    114\u001b[0m             \u001b[0mresult\u001b[0m \u001b[0;34m=\u001b[0m \u001b[0mreplace_typevars_expression\u001b[0m\u001b[0;34m(\u001b[0m\u001b[0mnew_expr\u001b[0m\u001b[0;34m,\u001b[0m \u001b[0mtypevars\u001b[0m\u001b[0;34m)\u001b[0m\u001b[0;34m\u001b[0m\u001b[0;34m\u001b[0m\u001b[0m\n\u001b[1;32m    115\u001b[0m         \u001b[0mref\u001b[0m\u001b[0;34m.\u001b[0m\u001b[0mreplace\u001b[0m\u001b[0;34m(\u001b[0m\u001b[0mresult\u001b[0m\u001b[0;34m)\u001b[0m\u001b[0;34m\u001b[0m\u001b[0;34m\u001b[0m\u001b[0m\n",
      "\u001b[0;32m~/p/metadsl/metadsl_core/abstraction.py\u001b[0m in \u001b[0;36mfrom_fn\u001b[0;34m(cls, fn)\u001b[0m\n\u001b[1;32m     42\u001b[0m     \u001b[0;32mdef\u001b[0m \u001b[0mfrom_fn\u001b[0m\u001b[0;34m(\u001b[0m\u001b[0mcls\u001b[0m\u001b[0;34m,\u001b[0m \u001b[0mfn\u001b[0m\u001b[0;34m:\u001b[0m \u001b[0mtyping\u001b[0m\u001b[0;34m.\u001b[0m\u001b[0mCallable\u001b[0m\u001b[0;34m[\u001b[0m\u001b[0;34m[\u001b[0m\u001b[0mT\u001b[0m\u001b[0;34m]\u001b[0m\u001b[0;34m,\u001b[0m \u001b[0mU\u001b[0m\u001b[0;34m]\u001b[0m\u001b[0;34m)\u001b[0m \u001b[0;34m->\u001b[0m \u001b[0mAbstraction\u001b[0m\u001b[0;34m[\u001b[0m\u001b[0mT\u001b[0m\u001b[0;34m,\u001b[0m \u001b[0mU\u001b[0m\u001b[0;34m]\u001b[0m\u001b[0;34m:\u001b[0m\u001b[0;34m\u001b[0m\u001b[0;34m\u001b[0m\u001b[0m\n\u001b[1;32m     43\u001b[0m         \u001b[0mv\u001b[0m\u001b[0;34m:\u001b[0m \u001b[0mT\u001b[0m \u001b[0;34m=\u001b[0m \u001b[0mcls\u001b[0m\u001b[0;34m.\u001b[0m\u001b[0mcreate_variable\u001b[0m\u001b[0;34m(\u001b[0m\u001b[0mVariable\u001b[0m\u001b[0;34m(\u001b[0m\u001b[0;34m)\u001b[0m\u001b[0;34m)\u001b[0m\u001b[0;34m\u001b[0m\u001b[0;34m\u001b[0m\u001b[0m\n\u001b[0;32m---> 44\u001b[0;31m         \u001b[0;32mreturn\u001b[0m \u001b[0mcls\u001b[0m\u001b[0;34m.\u001b[0m\u001b[0mcreate\u001b[0m\u001b[0;34m(\u001b[0m\u001b[0mv\u001b[0m\u001b[0;34m,\u001b[0m \u001b[0mfn\u001b[0m\u001b[0;34m(\u001b[0m\u001b[0mv\u001b[0m\u001b[0;34m)\u001b[0m\u001b[0;34m)\u001b[0m\u001b[0;34m\u001b[0m\u001b[0;34m\u001b[0m\u001b[0m\n\u001b[0m\u001b[1;32m     45\u001b[0m \u001b[0;34m\u001b[0m\u001b[0m\n\u001b[1;32m     46\u001b[0m     \u001b[0;34m@\u001b[0m\u001b[0mexpression\u001b[0m\u001b[0;34m\u001b[0m\u001b[0;34m\u001b[0m\u001b[0m\n",
      "\u001b[0;32m~/p/metadsl/metadsl_core/numpy.py\u001b[0m in \u001b[0;36m<lambda>\u001b[0;34m(p)\u001b[0m\n\u001b[1;32m    111\u001b[0m                 Abstraction[\n\u001b[1;32m    112\u001b[0m                     \u001b[0mPair\u001b[0m\u001b[0;34m[\u001b[0m\u001b[0mNDArray\u001b[0m\u001b[0;34m,\u001b[0m \u001b[0mEither\u001b[0m\u001b[0;34m[\u001b[0m\u001b[0mInteger\u001b[0m\u001b[0;34m,\u001b[0m \u001b[0mVec\u001b[0m\u001b[0;34m[\u001b[0m\u001b[0mInteger\u001b[0m\u001b[0;34m]\u001b[0m\u001b[0;34m]\u001b[0m\u001b[0;34m]\u001b[0m\u001b[0;34m,\u001b[0m \u001b[0mNDArray\u001b[0m\u001b[0;34m\u001b[0m\u001b[0;34m\u001b[0m\u001b[0m\n\u001b[0;32m--> 113\u001b[0;31m                 ].from_fn(lambda p: p.left[p.right])\n\u001b[0m\u001b[1;32m    114\u001b[0m             )\n\u001b[1;32m    115\u001b[0m         )\n",
      "\u001b[0;31mTypeError\u001b[0m: 'PlaceholderExpression' object is not subscriptable"
     ]
    },
    {
     "data": {
      "text/plain": [
       "metadsl.expressions.PlaceholderExpression[numpy.ndarray](NDArrayCompat.to_ndarray, [<class 'metadsl_core.numpy.NDArrayCompat'>(NDArrayCompat.__getitem__, [<class 'metadsl_core.numpy.NDArrayCompat'>(NDArrayCompat.__add__, [<class 'metadsl_core.numpy.NDArrayCompat'>(arange, [100], {}), <class 'metadsl_core.numpy.NDArrayCompat'>(arange, [100], {})], {}), 5], {})], {})"
      ]
     },
     "execution_count": 8,
     "metadata": {},
     "output_type": "execute_result"
    }
   ],
   "source": [
    "expr"
   ]
  },
  {
   "cell_type": "markdown",
   "metadata": {},
   "source": [
    "This shows how we can break up the NumPy API into different layers, all of which are extensible:\n",
    "\n",
    "1. A compatibility layer that works like the existing NumPy API, except isn't limited to the Python types of the current API\n",
    "2. A type safe version of this API. The conversion between the compatability layer and this layer is extensible, so that third party authors can add new conversion between their own Python objects and the typed representation.\n",
    "3. A backend layer that translates either back to Python calls or source code, or to other targets like LLVM or Tensorflow.\n",
    "\n",
    "The key is that all these layers are composable, so you could have different frontends for any of them or add your own. This is all done through a typed replacement system that is compatible with static analysis using MyPy.\n",
    "\n",
    "`metadsl` is the glue that allows us to define this API in a way that enables greater greater collaboration. Since each layer has it's own well defined specification, different projects can extend and target these seperate layers, while minimizing the need to explicitly opt in to collaborate. The goal is to enable greater reuse, interoperability, and extensability within the Python scientific ecosystem."
   ]
  }
 ],
 "metadata": {
  "kernelspec": {
   "display_name": "Python 3",
   "language": "python",
   "name": "python3"
  },
  "language_info": {
   "codemirror_mode": {
    "name": "ipython",
    "version": 3
   },
   "file_extension": ".py",
   "mimetype": "text/x-python",
   "name": "python",
   "nbconvert_exporter": "python",
   "pygments_lexer": "ipython3",
   "version": "3.7.3"
  }
 },
 "nbformat": 4,
 "nbformat_minor": 4
}
